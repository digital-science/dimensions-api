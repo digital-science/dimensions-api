{
 "cells": [
  {
   "cell_type": "markdown",
   "metadata": {
    "Collapsed": "false"
   },
   "source": [
    "# 2021-05 Honda questions\n",
    "\n",
    "Outline \n",
    "\n",
    "\n",
    "1. What was the actual problem in Mukai-san’s search query\n",
    "    * Better not use this? à `chassis control ~2`. Also not this `(chassis Control)~2` ? only this: `“chassis control”~2`?\n",
    "    * No difference between `“chassis control”~0` and `“chassis control”` , right?\n",
    "2. Where are the data stored when they are pulled by the API and processed (e.g. creating co-occurrence networks diagrams such as: Building a concepts co-occurence network — API Lab - reusable notebooks for research data analytics - powered by Dimensions Analytics API) -> Asking since we wonder if a faster PC of advantage.\n",
    "3. Is there good way on how to create an search query ( beside „drill down“ method, which is rather common probably)\n",
    "4. Could it be possible that some Japanese databases are missing due to translation issues? Background: Assumption that Japanese researchers publish in Japanese. Lack of published publications vs. patents.\n",
    "5. Regarding translated documents:\n",
    "    * e.g. are Japanese document already translated when they are uploaded, or while searching?\n",
    "    * Is the full text translated?\n",
    "6. How patents (families) were counted? E.g. for HRE-G: “Honda (Japan)” or HRE-G?\n",
    "7. Why do I cant find some of our own patents: https://patents.google.com/patent/DE102015200215A1/pt\n",
    "8. Porsche is listed under Volkswagen but Audi is separated. Is there a reason?\n",
    "9. Why are the states only listed for the USA?\n"
   ]
  },
  {
   "cell_type": "markdown",
   "metadata": {
    "Collapsed": "false",
    "colab_type": "text",
    "id": "hMaQlB7DG8Vw"
   },
   "source": [
    "## Prerequisites\n",
    "\n",
    "This notebook assumes you have installed the [Dimcli](https://pypi.org/project/dimcli/) library and are familiar with the *Getting Started* tutorial.\n"
   ]
  },
  {
   "cell_type": "code",
   "execution_count": 1,
   "metadata": {
    "Collapsed": "false"
   },
   "outputs": [
    {
     "name": "stdout",
     "output_type": "stream",
     "text": [
      "==\n",
      "Logging in..\n",
      "\u001b[2mDimcli - Dimensions API Client (v0.9)\u001b[0m\n",
      "\u001b[2mConnected to: https://app.dimensions.ai - DSL v1.30\u001b[0m\n",
      "\u001b[2mMethod: dsl.ini file\u001b[0m\n"
     ]
    }
   ],
   "source": [
    "!pip install dimcli --quiet \n",
    "\n",
    "import dimcli\n",
    "from dimcli.utils import *\n",
    "\n",
    "import json\n",
    "import sys\n",
    "import pandas as pd\n",
    "from IPython.display import Image\n",
    "from IPython.core.display import HTML\n",
    "\n",
    "print(\"==\\nLogging in..\")\n",
    "\n",
    "ENDPOINT = \"https://app.dimensions.ai\"\n",
    "\n",
    "if 'google.colab' in sys.modules:\n",
    "  import getpass\n",
    "  KEY = getpass.getpass(prompt='API Key: ')  \n",
    "  dimcli.login(key=KEY, endpoint=ENDPOINT)\n",
    "else:\n",
    "  KEY = \"\"\n",
    "  dimcli.login(key=KEY, endpoint=ENDPOINT)\n",
    "\n",
    "dsl = dimcli.Dsl()"
   ]
  },
  {
   "cell_type": "markdown",
   "metadata": {
    "Collapsed": "false"
   },
   "source": [
    "## 1. Proximity searches\n",
    "\n",
    "https://docs.dimensions.ai/dsl/language.html#proximity-searches\n",
    "\n",
    "Remember: you always need a **search phrase**"
   ]
  },
  {
   "cell_type": "code",
   "execution_count": 6,
   "metadata": {
    "Collapsed": "false"
   },
   "outputs": [
    {
     "name": "stdout",
     "output_type": "stream",
     "text": [
      "Returned Publications: 5 (total = 6478)\n",
      "\u001b[2mTime: 0.49s\u001b[0m\n"
     ]
    },
    {
     "data": {
      "text/html": [
       "<div>\n",
       "<style scoped>\n",
       "    .dataframe tbody tr th:only-of-type {\n",
       "        vertical-align: middle;\n",
       "    }\n",
       "\n",
       "    .dataframe tbody tr th {\n",
       "        vertical-align: top;\n",
       "    }\n",
       "\n",
       "    .dataframe thead th {\n",
       "        text-align: right;\n",
       "    }\n",
       "</style>\n",
       "<table border=\"1\" class=\"dataframe\">\n",
       "  <thead>\n",
       "    <tr style=\"text-align: right;\">\n",
       "      <th></th>\n",
       "      <th>pages</th>\n",
       "      <th>volume</th>\n",
       "      <th>year</th>\n",
       "      <th>type</th>\n",
       "      <th>author_affiliations</th>\n",
       "      <th>id</th>\n",
       "      <th>title</th>\n",
       "      <th>journal.id</th>\n",
       "      <th>journal.title</th>\n",
       "    </tr>\n",
       "  </thead>\n",
       "  <tbody>\n",
       "    <tr>\n",
       "      <th>0</th>\n",
       "      <td>107715</td>\n",
       "      <td>159</td>\n",
       "      <td>2021</td>\n",
       "      <td>article</td>\n",
       "      <td>[[{'raw_affiliation': ['College of Intelligent...</td>\n",
       "      <td>pub.1136449698</td>\n",
       "      <td>Heading tracking of 6WID/4WIS unmanned ground ...</td>\n",
       "      <td>jour.1042338</td>\n",
       "      <td>Mechanical Systems and Signal Processing</td>\n",
       "    </tr>\n",
       "    <tr>\n",
       "      <th>1</th>\n",
       "      <td>114993</td>\n",
       "      <td>178</td>\n",
       "      <td>2021</td>\n",
       "      <td>article</td>\n",
       "      <td>[[{'raw_affiliation': ['School of Electrical E...</td>\n",
       "      <td>pub.1136930200</td>\n",
       "      <td>A novel plume tracking method in partial 3D di...</td>\n",
       "      <td>jour.1128045</td>\n",
       "      <td>Expert Systems with Applications</td>\n",
       "    </tr>\n",
       "    <tr>\n",
       "      <th>2</th>\n",
       "      <td>168007</td>\n",
       "      <td>534</td>\n",
       "      <td>2021</td>\n",
       "      <td>article</td>\n",
       "      <td>[[{'raw_affiliation': ['School of Mechatronic ...</td>\n",
       "      <td>pub.1137432975</td>\n",
       "      <td>Characterization of image sequences of a defec...</td>\n",
       "      <td>jour.1038953</td>\n",
       "      <td>Journal of Magnetism and Magnetic Materials</td>\n",
       "    </tr>\n",
       "    <tr>\n",
       "      <th>3</th>\n",
       "      <td>69-81</td>\n",
       "      <td>122</td>\n",
       "      <td>2021</td>\n",
       "      <td>article</td>\n",
       "      <td>[[{'raw_affiliation': ['Ben-Gurion University ...</td>\n",
       "      <td>pub.1136993744</td>\n",
       "      <td>Exfiltrating data from air-gapped computers vi...</td>\n",
       "      <td>jour.1125399</td>\n",
       "      <td>Future Generation Computer Systems</td>\n",
       "    </tr>\n",
       "    <tr>\n",
       "      <th>4</th>\n",
       "      <td>107701</td>\n",
       "      <td>157</td>\n",
       "      <td>2021</td>\n",
       "      <td>article</td>\n",
       "      <td>[[{'raw_affiliation': ['National Engineering L...</td>\n",
       "      <td>pub.1135776900</td>\n",
       "      <td>Design and experiential test of a model predic...</td>\n",
       "      <td>jour.1042338</td>\n",
       "      <td>Mechanical Systems and Signal Processing</td>\n",
       "    </tr>\n",
       "  </tbody>\n",
       "</table>\n",
       "</div>"
      ],
      "text/plain": [
       "    pages volume  year     type  \\\n",
       "0  107715    159  2021  article   \n",
       "1  114993    178  2021  article   \n",
       "2  168007    534  2021  article   \n",
       "3   69-81    122  2021  article   \n",
       "4  107701    157  2021  article   \n",
       "\n",
       "                                 author_affiliations              id  \\\n",
       "0  [[{'raw_affiliation': ['College of Intelligent...  pub.1136449698   \n",
       "1  [[{'raw_affiliation': ['School of Electrical E...  pub.1136930200   \n",
       "2  [[{'raw_affiliation': ['School of Mechatronic ...  pub.1137432975   \n",
       "3  [[{'raw_affiliation': ['Ben-Gurion University ...  pub.1136993744   \n",
       "4  [[{'raw_affiliation': ['National Engineering L...  pub.1135776900   \n",
       "\n",
       "                                               title    journal.id  \\\n",
       "0  Heading tracking of 6WID/4WIS unmanned ground ...  jour.1042338   \n",
       "1  A novel plume tracking method in partial 3D di...  jour.1128045   \n",
       "2  Characterization of image sequences of a defec...  jour.1038953   \n",
       "3  Exfiltrating data from air-gapped computers vi...  jour.1125399   \n",
       "4  Design and experiential test of a model predic...  jour.1042338   \n",
       "\n",
       "                                 journal.title  \n",
       "0     Mechanical Systems and Signal Processing  \n",
       "1             Expert Systems with Applications  \n",
       "2  Journal of Magnetism and Magnetic Materials  \n",
       "3           Future Generation Computer Systems  \n",
       "4     Mechanical Systems and Signal Processing  "
      ]
     },
     "execution_count": 6,
     "metadata": {},
     "output_type": "execute_result"
    }
   ],
   "source": [
    "%%dsldf \n",
    "\n",
    "search publications \n",
    "for \"\\\"chassis control\\\"~2\"\n",
    "return publications limit 5"
   ]
  },
  {
   "cell_type": "markdown",
   "metadata": {
    "Collapsed": "false"
   },
   "source": [
    "This is not good"
   ]
  },
  {
   "cell_type": "code",
   "execution_count": 5,
   "metadata": {
    "Collapsed": "false"
   },
   "outputs": [
    {
     "name": "stdout",
     "output_type": "stream",
     "text": [
      "Returned Errors: 1\n",
      "\u001b[2mTime: 0.51s\u001b[0m\n",
      "1 QuerySyntaxError found\n",
      "1 ParserError found\n",
      "  * [Line 1:17] ('~2') no viable alternative at input '(chassis control)~2'\n"
     ]
    }
   ],
   "source": [
    "%%dsldf \n",
    "\n",
    "search publications \n",
    "for \"(chassis control)~2\"\n",
    "return publications"
   ]
  },
  {
   "cell_type": "markdown",
   "metadata": {
    "Collapsed": "false"
   },
   "source": [
    "using ~0 is not needed"
   ]
  },
  {
   "cell_type": "code",
   "execution_count": 8,
   "metadata": {
    "Collapsed": "false"
   },
   "outputs": [
    {
     "name": "stdout",
     "output_type": "stream",
     "text": [
      "Returned Publications: 5 (total = 4184)\n",
      "\u001b[2mTime: 1.07s\u001b[0m\n"
     ]
    },
    {
     "data": {
      "text/html": [
       "<div>\n",
       "<style scoped>\n",
       "    .dataframe tbody tr th:only-of-type {\n",
       "        vertical-align: middle;\n",
       "    }\n",
       "\n",
       "    .dataframe tbody tr th {\n",
       "        vertical-align: top;\n",
       "    }\n",
       "\n",
       "    .dataframe thead th {\n",
       "        text-align: right;\n",
       "    }\n",
       "</style>\n",
       "<table border=\"1\" class=\"dataframe\">\n",
       "  <thead>\n",
       "    <tr style=\"text-align: right;\">\n",
       "      <th></th>\n",
       "      <th>year</th>\n",
       "      <th>type</th>\n",
       "      <th>id</th>\n",
       "      <th>author_affiliations</th>\n",
       "      <th>volume</th>\n",
       "      <th>title</th>\n",
       "      <th>pages</th>\n",
       "      <th>journal.id</th>\n",
       "      <th>journal.title</th>\n",
       "    </tr>\n",
       "  </thead>\n",
       "  <tbody>\n",
       "    <tr>\n",
       "      <th>0</th>\n",
       "      <td>2021</td>\n",
       "      <td>article</td>\n",
       "      <td>pub.1136449698</td>\n",
       "      <td>[[{'raw_affiliation': ['College of Intelligent...</td>\n",
       "      <td>159</td>\n",
       "      <td>Heading tracking of 6WID/4WIS unmanned ground ...</td>\n",
       "      <td>107715</td>\n",
       "      <td>jour.1042338</td>\n",
       "      <td>Mechanical Systems and Signal Processing</td>\n",
       "    </tr>\n",
       "    <tr>\n",
       "      <th>1</th>\n",
       "      <td>2021</td>\n",
       "      <td>article</td>\n",
       "      <td>pub.1136930200</td>\n",
       "      <td>[[{'raw_affiliation': ['School of Electrical E...</td>\n",
       "      <td>178</td>\n",
       "      <td>A novel plume tracking method in partial 3D di...</td>\n",
       "      <td>114993</td>\n",
       "      <td>jour.1128045</td>\n",
       "      <td>Expert Systems with Applications</td>\n",
       "    </tr>\n",
       "    <tr>\n",
       "      <th>2</th>\n",
       "      <td>2021</td>\n",
       "      <td>article</td>\n",
       "      <td>pub.1135776900</td>\n",
       "      <td>[[{'raw_affiliation': ['National Engineering L...</td>\n",
       "      <td>157</td>\n",
       "      <td>Design and experiential test of a model predic...</td>\n",
       "      <td>107701</td>\n",
       "      <td>jour.1042338</td>\n",
       "      <td>Mechanical Systems and Signal Processing</td>\n",
       "    </tr>\n",
       "    <tr>\n",
       "      <th>3</th>\n",
       "      <td>2021</td>\n",
       "      <td>article</td>\n",
       "      <td>pub.1135837870</td>\n",
       "      <td>[[{'raw_affiliation': ['Department of Electrom...</td>\n",
       "      <td>441</td>\n",
       "      <td>Light-weight network for real-time adaptive st...</td>\n",
       "      <td>118-127</td>\n",
       "      <td>jour.1128607</td>\n",
       "      <td>Neurocomputing</td>\n",
       "    </tr>\n",
       "    <tr>\n",
       "      <th>4</th>\n",
       "      <td>2021</td>\n",
       "      <td>article</td>\n",
       "      <td>pub.1136951680</td>\n",
       "      <td>[[{'raw_affiliation': ['School of Traffic and ...</td>\n",
       "      <td>150</td>\n",
       "      <td>Multi-intelligent connected vehicle longitudin...</td>\n",
       "      <td>259-268</td>\n",
       "      <td>jour.1052128</td>\n",
       "      <td>Process Safety and Environmental Protection</td>\n",
       "    </tr>\n",
       "  </tbody>\n",
       "</table>\n",
       "</div>"
      ],
      "text/plain": [
       "   year     type              id  \\\n",
       "0  2021  article  pub.1136449698   \n",
       "1  2021  article  pub.1136930200   \n",
       "2  2021  article  pub.1135776900   \n",
       "3  2021  article  pub.1135837870   \n",
       "4  2021  article  pub.1136951680   \n",
       "\n",
       "                                 author_affiliations volume  \\\n",
       "0  [[{'raw_affiliation': ['College of Intelligent...    159   \n",
       "1  [[{'raw_affiliation': ['School of Electrical E...    178   \n",
       "2  [[{'raw_affiliation': ['National Engineering L...    157   \n",
       "3  [[{'raw_affiliation': ['Department of Electrom...    441   \n",
       "4  [[{'raw_affiliation': ['School of Traffic and ...    150   \n",
       "\n",
       "                                               title    pages    journal.id  \\\n",
       "0  Heading tracking of 6WID/4WIS unmanned ground ...   107715  jour.1042338   \n",
       "1  A novel plume tracking method in partial 3D di...   114993  jour.1128045   \n",
       "2  Design and experiential test of a model predic...   107701  jour.1042338   \n",
       "3  Light-weight network for real-time adaptive st...  118-127  jour.1128607   \n",
       "4  Multi-intelligent connected vehicle longitudin...  259-268  jour.1052128   \n",
       "\n",
       "                                 journal.title  \n",
       "0     Mechanical Systems and Signal Processing  \n",
       "1             Expert Systems with Applications  \n",
       "2     Mechanical Systems and Signal Processing  \n",
       "3                               Neurocomputing  \n",
       "4  Process Safety and Environmental Protection  "
      ]
     },
     "execution_count": 8,
     "metadata": {},
     "output_type": "execute_result"
    }
   ],
   "source": [
    "%%dsldf \n",
    "\n",
    "search publications \n",
    "for \"\\\"chassis control\\\"~0\"\n",
    "return publications limit 5"
   ]
  },
  {
   "cell_type": "code",
   "execution_count": 9,
   "metadata": {
    "Collapsed": "false"
   },
   "outputs": [
    {
     "name": "stdout",
     "output_type": "stream",
     "text": [
      "Returned Publications: 5 (total = 4184)\n",
      "\u001b[2mTime: 0.50s\u001b[0m\n"
     ]
    },
    {
     "data": {
      "text/html": [
       "<div>\n",
       "<style scoped>\n",
       "    .dataframe tbody tr th:only-of-type {\n",
       "        vertical-align: middle;\n",
       "    }\n",
       "\n",
       "    .dataframe tbody tr th {\n",
       "        vertical-align: top;\n",
       "    }\n",
       "\n",
       "    .dataframe thead th {\n",
       "        text-align: right;\n",
       "    }\n",
       "</style>\n",
       "<table border=\"1\" class=\"dataframe\">\n",
       "  <thead>\n",
       "    <tr style=\"text-align: right;\">\n",
       "      <th></th>\n",
       "      <th>pages</th>\n",
       "      <th>volume</th>\n",
       "      <th>year</th>\n",
       "      <th>type</th>\n",
       "      <th>author_affiliations</th>\n",
       "      <th>id</th>\n",
       "      <th>title</th>\n",
       "      <th>journal.id</th>\n",
       "      <th>journal.title</th>\n",
       "    </tr>\n",
       "  </thead>\n",
       "  <tbody>\n",
       "    <tr>\n",
       "      <th>0</th>\n",
       "      <td>107715</td>\n",
       "      <td>159</td>\n",
       "      <td>2021</td>\n",
       "      <td>article</td>\n",
       "      <td>[[{'raw_affiliation': ['College of Intelligent...</td>\n",
       "      <td>pub.1136449698</td>\n",
       "      <td>Heading tracking of 6WID/4WIS unmanned ground ...</td>\n",
       "      <td>jour.1042338</td>\n",
       "      <td>Mechanical Systems and Signal Processing</td>\n",
       "    </tr>\n",
       "    <tr>\n",
       "      <th>1</th>\n",
       "      <td>114993</td>\n",
       "      <td>178</td>\n",
       "      <td>2021</td>\n",
       "      <td>article</td>\n",
       "      <td>[[{'raw_affiliation': ['School of Electrical E...</td>\n",
       "      <td>pub.1136930200</td>\n",
       "      <td>A novel plume tracking method in partial 3D di...</td>\n",
       "      <td>jour.1128045</td>\n",
       "      <td>Expert Systems with Applications</td>\n",
       "    </tr>\n",
       "    <tr>\n",
       "      <th>2</th>\n",
       "      <td>107701</td>\n",
       "      <td>157</td>\n",
       "      <td>2021</td>\n",
       "      <td>article</td>\n",
       "      <td>[[{'raw_affiliation': ['National Engineering L...</td>\n",
       "      <td>pub.1135776900</td>\n",
       "      <td>Design and experiential test of a model predic...</td>\n",
       "      <td>jour.1042338</td>\n",
       "      <td>Mechanical Systems and Signal Processing</td>\n",
       "    </tr>\n",
       "    <tr>\n",
       "      <th>3</th>\n",
       "      <td>118-127</td>\n",
       "      <td>441</td>\n",
       "      <td>2021</td>\n",
       "      <td>article</td>\n",
       "      <td>[[{'raw_affiliation': ['Department of Electrom...</td>\n",
       "      <td>pub.1135837870</td>\n",
       "      <td>Light-weight network for real-time adaptive st...</td>\n",
       "      <td>jour.1128607</td>\n",
       "      <td>Neurocomputing</td>\n",
       "    </tr>\n",
       "    <tr>\n",
       "      <th>4</th>\n",
       "      <td>259-268</td>\n",
       "      <td>150</td>\n",
       "      <td>2021</td>\n",
       "      <td>article</td>\n",
       "      <td>[[{'raw_affiliation': ['School of Traffic and ...</td>\n",
       "      <td>pub.1136951680</td>\n",
       "      <td>Multi-intelligent connected vehicle longitudin...</td>\n",
       "      <td>jour.1052128</td>\n",
       "      <td>Process Safety and Environmental Protection</td>\n",
       "    </tr>\n",
       "  </tbody>\n",
       "</table>\n",
       "</div>"
      ],
      "text/plain": [
       "     pages volume  year     type  \\\n",
       "0   107715    159  2021  article   \n",
       "1   114993    178  2021  article   \n",
       "2   107701    157  2021  article   \n",
       "3  118-127    441  2021  article   \n",
       "4  259-268    150  2021  article   \n",
       "\n",
       "                                 author_affiliations              id  \\\n",
       "0  [[{'raw_affiliation': ['College of Intelligent...  pub.1136449698   \n",
       "1  [[{'raw_affiliation': ['School of Electrical E...  pub.1136930200   \n",
       "2  [[{'raw_affiliation': ['National Engineering L...  pub.1135776900   \n",
       "3  [[{'raw_affiliation': ['Department of Electrom...  pub.1135837870   \n",
       "4  [[{'raw_affiliation': ['School of Traffic and ...  pub.1136951680   \n",
       "\n",
       "                                               title    journal.id  \\\n",
       "0  Heading tracking of 6WID/4WIS unmanned ground ...  jour.1042338   \n",
       "1  A novel plume tracking method in partial 3D di...  jour.1128045   \n",
       "2  Design and experiential test of a model predic...  jour.1042338   \n",
       "3  Light-weight network for real-time adaptive st...  jour.1128607   \n",
       "4  Multi-intelligent connected vehicle longitudin...  jour.1052128   \n",
       "\n",
       "                                 journal.title  \n",
       "0     Mechanical Systems and Signal Processing  \n",
       "1             Expert Systems with Applications  \n",
       "2     Mechanical Systems and Signal Processing  \n",
       "3                               Neurocomputing  \n",
       "4  Process Safety and Environmental Protection  "
      ]
     },
     "execution_count": 9,
     "metadata": {},
     "output_type": "execute_result"
    }
   ],
   "source": [
    "%%dsldf \n",
    "\n",
    "\n",
    "search publications \n",
    "for \"\\\"chassis control\\\"\"\n",
    "return publications limit 5"
   ]
  },
  {
   "cell_type": "markdown",
   "metadata": {
    "Collapsed": "false"
   },
   "source": [
    "## 2. Data storage\n",
    "\n",
    "Where are the data stored when they are pulled by the API and processed (e.g. creating co-occurrence networks diagrams such as: Building a concepts co-occurence network — API Lab - reusable notebooks for research data analytics - powered by Dimensions Analytics API) -> Asking since we wonder if a faster PC of advantage."
   ]
  },
  {
   "cell_type": "markdown",
   "metadata": {
    "Collapsed": "false"
   },
   "source": [
    "> The data is stored on the machine hosting the operation, so a better machine definitely has an impact on performance. \n",
    "\n",
    "> If using [Google Colab](https://colab.research.google.com/notebooks/intro.ipynb?utm_source=scs-index#scrollTo=-Rh3-Vt9Nev9), there are various options: Colab notebooks execute code on Google's cloud servers, meaning you can leverage the power of Google hardware, including GPUs and TPUs, regardless of the power of your machine. See [this third-party article](https://towardsdatascience.com/google-colab-how-does-it-compare-to-a-gpu-enabled-laptop-851c1e0a2ca9) for more background."
   ]
  },
  {
   "cell_type": "markdown",
   "metadata": {
    "Collapsed": "false"
   },
   "source": [
    "## 3. Search query \n",
    "Is there good way on how to create an search query ( beside „drill down“ method, which is rather common probably)\n",
    "\n",
    "> It is largely a trial and error process where one has to find the sweet spot between precision and recall. \n",
    "\n",
    "> Many use the webapp user interface to try out different queries and check wether the results include expected records \n",
    "\n",
    "> One could also use 'concepts' queries to see relevant terms and then use them in a full-text search \n"
   ]
  },
  {
   "cell_type": "code",
   "execution_count": 20,
   "metadata": {
    "Collapsed": "false"
   },
   "outputs": [
    {
     "name": "stdout",
     "output_type": "stream",
     "text": [
      "Returned Publications: 1000 (total = 7523)\n",
      "\u001b[2mTime: 20.39s\u001b[0m\n"
     ]
    },
    {
     "data": {
      "text/html": [
       "<div>\n",
       "<style scoped>\n",
       "    .dataframe tbody tr th:only-of-type {\n",
       "        vertical-align: middle;\n",
       "    }\n",
       "\n",
       "    .dataframe tbody tr th {\n",
       "        vertical-align: top;\n",
       "    }\n",
       "\n",
       "    .dataframe thead th {\n",
       "        text-align: right;\n",
       "    }\n",
       "</style>\n",
       "<table border=\"1\" class=\"dataframe\">\n",
       "  <thead>\n",
       "    <tr style=\"text-align: right;\">\n",
       "      <th></th>\n",
       "      <th>id</th>\n",
       "      <th>concepts_count</th>\n",
       "      <th>concept</th>\n",
       "      <th>score</th>\n",
       "      <th>frequency</th>\n",
       "      <th>score_avg</th>\n",
       "    </tr>\n",
       "  </thead>\n",
       "  <tbody>\n",
       "    <tr>\n",
       "      <th>0</th>\n",
       "      <td>pub.1053104891</td>\n",
       "      <td>101</td>\n",
       "      <td>practical robots</td>\n",
       "      <td>0.662</td>\n",
       "      <td>2</td>\n",
       "      <td>0.60300</td>\n",
       "    </tr>\n",
       "    <tr>\n",
       "      <th>1</th>\n",
       "      <td>pub.1053104891</td>\n",
       "      <td>101</td>\n",
       "      <td>sensor networks</td>\n",
       "      <td>0.657</td>\n",
       "      <td>1</td>\n",
       "      <td>0.65700</td>\n",
       "    </tr>\n",
       "    <tr>\n",
       "      <th>2</th>\n",
       "      <td>pub.1053104891</td>\n",
       "      <td>101</td>\n",
       "      <td>robotics development</td>\n",
       "      <td>0.655</td>\n",
       "      <td>2</td>\n",
       "      <td>0.59650</td>\n",
       "    </tr>\n",
       "    <tr>\n",
       "      <th>3</th>\n",
       "      <td>pub.1053104891</td>\n",
       "      <td>101</td>\n",
       "      <td>robotics researchers</td>\n",
       "      <td>0.655</td>\n",
       "      <td>2</td>\n",
       "      <td>0.59650</td>\n",
       "    </tr>\n",
       "    <tr>\n",
       "      <th>4</th>\n",
       "      <td>pub.1053104891</td>\n",
       "      <td>101</td>\n",
       "      <td>robotics field</td>\n",
       "      <td>0.651</td>\n",
       "      <td>1</td>\n",
       "      <td>0.65100</td>\n",
       "    </tr>\n",
       "    <tr>\n",
       "      <th>...</th>\n",
       "      <td>...</td>\n",
       "      <td>...</td>\n",
       "      <td>...</td>\n",
       "      <td>...</td>\n",
       "      <td>...</td>\n",
       "      <td>...</td>\n",
       "    </tr>\n",
       "    <tr>\n",
       "      <th>51292</th>\n",
       "      <td>pub.1012627903</td>\n",
       "      <td>63</td>\n",
       "      <td>book</td>\n",
       "      <td>0.082</td>\n",
       "      <td>46</td>\n",
       "      <td>0.18050</td>\n",
       "    </tr>\n",
       "    <tr>\n",
       "      <th>51293</th>\n",
       "      <td>pub.1012627903</td>\n",
       "      <td>63</td>\n",
       "      <td>possible audience</td>\n",
       "      <td>0.053</td>\n",
       "      <td>1</td>\n",
       "      <td>0.05300</td>\n",
       "    </tr>\n",
       "    <tr>\n",
       "      <th>51294</th>\n",
       "      <td>pub.1012627903</td>\n",
       "      <td>63</td>\n",
       "      <td>professionals</td>\n",
       "      <td>0.049</td>\n",
       "      <td>4</td>\n",
       "      <td>0.21425</td>\n",
       "    </tr>\n",
       "    <tr>\n",
       "      <th>51295</th>\n",
       "      <td>pub.1012627903</td>\n",
       "      <td>63</td>\n",
       "      <td>students</td>\n",
       "      <td>0.046</td>\n",
       "      <td>25</td>\n",
       "      <td>0.13908</td>\n",
       "    </tr>\n",
       "    <tr>\n",
       "      <th>51296</th>\n",
       "      <td>pub.1012627903</td>\n",
       "      <td>63</td>\n",
       "      <td>audience</td>\n",
       "      <td>0.041</td>\n",
       "      <td>4</td>\n",
       "      <td>0.06050</td>\n",
       "    </tr>\n",
       "  </tbody>\n",
       "</table>\n",
       "<p>51297 rows × 6 columns</p>\n",
       "</div>"
      ],
      "text/plain": [
       "                   id  concepts_count               concept  score  frequency  \\\n",
       "0      pub.1053104891             101      practical robots  0.662          2   \n",
       "1      pub.1053104891             101       sensor networks  0.657          1   \n",
       "2      pub.1053104891             101  robotics development  0.655          2   \n",
       "3      pub.1053104891             101  robotics researchers  0.655          2   \n",
       "4      pub.1053104891             101        robotics field  0.651          1   \n",
       "...               ...             ...                   ...    ...        ...   \n",
       "51292  pub.1012627903              63                  book  0.082         46   \n",
       "51293  pub.1012627903              63     possible audience  0.053          1   \n",
       "51294  pub.1012627903              63         professionals  0.049          4   \n",
       "51295  pub.1012627903              63              students  0.046         25   \n",
       "51296  pub.1012627903              63              audience  0.041          4   \n",
       "\n",
       "       score_avg  \n",
       "0        0.60300  \n",
       "1        0.65700  \n",
       "2        0.59650  \n",
       "3        0.59650  \n",
       "4        0.65100  \n",
       "...          ...  \n",
       "51292    0.18050  \n",
       "51293    0.05300  \n",
       "51294    0.21425  \n",
       "51295    0.13908  \n",
       "51296    0.06050  \n",
       "\n",
       "[51297 rows x 6 columns]"
      ]
     },
     "execution_count": 20,
     "metadata": {},
     "output_type": "execute_result"
    }
   ],
   "source": [
    "q = \"\"\"\n",
    "search publications \n",
    "for \\\"\\\\\\\"chassis control\\\\\\\"~3\\\"\n",
    "return publications[id+concepts_scores] sort by times_cited limit 1000\n",
    "\"\"\"\n",
    "\n",
    "dsl.query(q).as_dataframe_concepts()\n",
    "\n"
   ]
  },
  {
   "cell_type": "code",
   "execution_count": 15,
   "metadata": {
    "Collapsed": "false"
   },
   "outputs": [
    {
     "name": "stdout",
     "output_type": "stream",
     "text": [
      "..authorizing with google..\u001b[0m\n",
      "..creating a google sheet..\u001b[0m\n",
      "..uploading..\u001b[0m\n"
     ]
    },
    {
     "data": {
      "text/plain": [
       "'https://docs.google.com/spreadsheets/d/1GrP8gOjtcnrru1BkwIBJNjvOVbIYQsagvRXNaW96hSE'"
      ]
     },
     "execution_count": 15,
     "metadata": {},
     "output_type": "execute_result"
    }
   ],
   "source": [
    "export_as_gsheets(_)"
   ]
  },
  {
   "cell_type": "markdown",
   "metadata": {
    "Collapsed": "false"
   },
   "source": [
    "Another approach: use an abstract and extract keywords from it - see https://docs.dimensions.ai/dsl/functions.html#function-extract-concepts"
   ]
  },
  {
   "cell_type": "code",
   "execution_count": 25,
   "metadata": {
    "Collapsed": "false"
   },
   "outputs": [
    {
     "name": "stdout",
     "output_type": "stream",
     "text": [
      "Help on function extract_concepts in module dimcli.core.functions:\n",
      "\n",
      "extract_concepts(text, scores=True, as_df=True)\n",
      "    Python wrapper for the DSL function `extract_concepts`.\n",
      "    \n",
      "    Extract concepts from any text. Text input is processed and extracted concepts are returned as an array of strings ordered by their relevance. See also: https://docs.dimensions.ai/dsl/functions.html#function-extract-concepts\n",
      "    \n",
      "    Parameters\n",
      "    ----------\n",
      "    text : str\n",
      "        The text paragraphs to extract concepts from. \n",
      "    scores : bool, optional\n",
      "        Return the concepts scores as well, by default True\n",
      "    as_df : bool, optional\n",
      "        Return results as a pandas dataframe (instead of JSON), by default True\n",
      "    \n",
      "    Returns\n",
      "    -------\n",
      "    pandas.Dataframe or dimcli.DslDataset\n",
      "        The list of concepts that have been extracted. \n",
      "    \n",
      "    Example\n",
      "    -------\n",
      "    >>> from dimcli.functions import extract_concepts\n",
      "    >>> extract_concepts(\"The impact of solar rays on the moon is not trivial.\")\n",
      "    n   concept relevance\n",
      "    0   impact  0.070622\n",
      "    1   rays    0.062369\n",
      "    2   solar rays      0.022934\n",
      "    3   Moon    0.013245\n",
      "\n"
     ]
    }
   ],
   "source": [
    "from dimcli.functions import extract_concepts\n",
    "help(extract_concepts)"
   ]
  },
  {
   "cell_type": "code",
   "execution_count": 26,
   "metadata": {
    "Collapsed": "false"
   },
   "outputs": [
    {
     "data": {
      "text/html": [
       "<div>\n",
       "<style scoped>\n",
       "    .dataframe tbody tr th:only-of-type {\n",
       "        vertical-align: middle;\n",
       "    }\n",
       "\n",
       "    .dataframe tbody tr th {\n",
       "        vertical-align: top;\n",
       "    }\n",
       "\n",
       "    .dataframe thead th {\n",
       "        text-align: right;\n",
       "    }\n",
       "</style>\n",
       "<table border=\"1\" class=\"dataframe\">\n",
       "  <thead>\n",
       "    <tr style=\"text-align: right;\">\n",
       "      <th></th>\n",
       "      <th>concept</th>\n",
       "      <th>relevance</th>\n",
       "    </tr>\n",
       "  </thead>\n",
       "  <tbody>\n",
       "    <tr>\n",
       "      <th>0</th>\n",
       "      <td>Federal Test Procedure</td>\n",
       "      <td>0.781</td>\n",
       "    </tr>\n",
       "    <tr>\n",
       "      <th>1</th>\n",
       "      <td>engine certification</td>\n",
       "      <td>0.709</td>\n",
       "    </tr>\n",
       "    <tr>\n",
       "      <th>2</th>\n",
       "      <td>NOx emissions</td>\n",
       "      <td>0.706</td>\n",
       "    </tr>\n",
       "    <tr>\n",
       "      <th>3</th>\n",
       "      <td>chassis test</td>\n",
       "      <td>0.704</td>\n",
       "    </tr>\n",
       "    <tr>\n",
       "      <th>4</th>\n",
       "      <td>heavy-duty diesel engine</td>\n",
       "      <td>0.689</td>\n",
       "    </tr>\n",
       "    <tr>\n",
       "      <th>...</th>\n",
       "      <td>...</td>\n",
       "      <td>...</td>\n",
       "    </tr>\n",
       "    <tr>\n",
       "      <th>78</th>\n",
       "      <td>high levels</td>\n",
       "      <td>0.194</td>\n",
       "    </tr>\n",
       "    <tr>\n",
       "      <th>79</th>\n",
       "      <td>cases of PM</td>\n",
       "      <td>0.186</td>\n",
       "    </tr>\n",
       "    <tr>\n",
       "      <th>80</th>\n",
       "      <td>stocks</td>\n",
       "      <td>0.185</td>\n",
       "    </tr>\n",
       "    <tr>\n",
       "      <th>81</th>\n",
       "      <td>regulation</td>\n",
       "      <td>0.122</td>\n",
       "    </tr>\n",
       "    <tr>\n",
       "      <th>82</th>\n",
       "      <td>screening</td>\n",
       "      <td>0.105</td>\n",
       "    </tr>\n",
       "  </tbody>\n",
       "</table>\n",
       "<p>83 rows × 2 columns</p>\n",
       "</div>"
      ],
      "text/plain": [
       "                     concept  relevance\n",
       "0     Federal Test Procedure      0.781\n",
       "1       engine certification      0.709\n",
       "2              NOx emissions      0.706\n",
       "3               chassis test      0.704\n",
       "4   heavy-duty diesel engine      0.689\n",
       "..                       ...        ...\n",
       "78               high levels      0.194\n",
       "79               cases of PM      0.186\n",
       "80                    stocks      0.185\n",
       "81                regulation      0.122\n",
       "82                 screening      0.105\n",
       "\n",
       "[83 rows x 2 columns]"
      ]
     },
     "execution_count": 26,
     "metadata": {},
     "output_type": "execute_result"
    }
   ],
   "source": [
    "t = \"\"\"\n",
    "In-use emissions from vehicles using heavy-duty diesel engines can be\n",
    "significantly higher than the levels obtained during engine certification. These\n",
    "higher levels may be caused by a combination of degradation of engine\n",
    "components, poor engine maintenance, degradation or failure of emissions\n",
    "after-treatment devices, and engine and emissions system tampering. A direct\n",
    "comparison of in-use vehicle emissions with engine certification levels,\n",
    "however, is not possible without removing an engine from the vehicle in order to\n",
    "perform engine dynamometer emissions testing. The goal of this research was to\n",
    "develop a chassis test procedure that mimics the engine performance, and as such\n",
    "the expected emissions levels, from the engine certification emissions test\n",
    "prescribed in the U.S. Code of Federal Regulations. Emissions measurements were\n",
    "taken from two engines during testing on an engine dynamometer using the\n",
    "transient heavy-duty Federal Test Procedure (FTP). Additionally, each engine was\n",
    "installed in an appropriate vehicle, and emissions measurements were taken using\n",
    "a chassis dynamometer while employing a vehicle driving schedule intended to\n",
    "match closely the instantaneous torque and speed schedule of the engine FTP.\n",
    "Engine and chassis testing was performed with the engines in stock (unmodified)\n",
    "condition as well as in several modes to simulate either tampered or poorly\n",
    "maintained conditions. The use of a chassis test as a predictive tool for\n",
    "determining whether an engine in a vehicle would pass the engine certification\n",
    "test has proven to be worthwhile. Analysis of the data shows that identification\n",
    "of chassis-mounted engines with NOx emissions above certification levels is\n",
    "possible by employing engine-specific correction factors. In the case of PM\n",
    "emissions, significant data scatter allowed only the identification of gross PM\n",
    "emitters. Engine tampering and poor maintenance can raise PM and NOx emissions,\n",
    "and these increases can be correctly identified by a chassis test. Analysis of\n",
    "chassis and engine CO and HC emissions did not reveal a strong enough\n",
    "correlation to warrant the use of the chassis test for emissions screening of\n",
    "these two pollutants.\n",
    "\"\"\"\n",
    "\n",
    "extract_concepts(t)"
   ]
  },
  {
   "cell_type": "markdown",
   "metadata": {
    "Collapsed": "false"
   },
   "source": [
    "## 4.Japanese databases\n",
    "\n",
    "Could it be possible that some Japanese databases are missing due to translation issues? Background: Assumption that Japanese researchers publish in Japanese. Lack of published publications vs. patents.\n"
   ]
  },
  {
   "cell_type": "markdown",
   "metadata": {
    "Collapsed": "false"
   },
   "source": [
    "> If there are some examples missing we can give a better answer but the most common thing with Japanese publications will be that many are not registered in Crossref (instead in JALC) and we have only some coverage through readcube. If they've got any lists of dois we can easily compare that to dimensions (we have a procedure in place to do that quickly). "
   ]
  },
  {
   "cell_type": "markdown",
   "metadata": {
    "Collapsed": "false"
   },
   "source": [
    "## 5. Regarding translated documents:\n",
    "    * e.g. are Japanese document already translated when they are uploaded, or while searching?\n",
    "    * Is the full text translated?\n",
    "    \n",
    "    \n"
   ]
  },
  {
   "cell_type": "markdown",
   "metadata": {
    "Collapsed": "false"
   },
   "source": [
    "> We don't do translation of publications, translated data when we have it will have come from the publisher - there's one subset we explicitly provide two languages for which is some Chinese documents (the preferred vs original) and there again we aren't doing the translations ourselves. \n",
    "\n",
    "> I don't think we have translated fulltext for any records (explicitly) - the content we have should be based on the original PDF."
   ]
  },
  {
   "cell_type": "markdown",
   "metadata": {
    "Collapsed": "false"
   },
   "source": [
    "## 6. Patent families \n",
    "\n",
    "How patents (families) were counted? E.g. for HRE-G: “Honda (Japan)” or HRE-G?\n",
    "\n",
    "> 3. The family count is based on the simple family id. (The [id is provided by DOCDB](https://www.epo.org/searching-for-patents/helpful-resources/first-time-here/patent-families/docdb.html#:~:text=A%20simple%20patent%20family%20is,have%20exactly%20the%20same%20priorities.).) All patents per family id are counted.\n"
   ]
  },
  {
   "cell_type": "markdown",
   "metadata": {
    "Collapsed": "false"
   },
   "source": [
    "## 7. Patent search \n",
    "\n",
    "Why do I cant find some of our own patents: https://patents.google.com/patent/DE102015200215A1/pt\n"
   ]
  },
  {
   "cell_type": "code",
   "execution_count": 29,
   "metadata": {
    "Collapsed": "false"
   },
   "outputs": [
    {
     "name": "stdout",
     "output_type": "stream",
     "text": [
      "Returned Patents: 1 (total = 1)\n",
      "\u001b[2mTime: 0.58s\u001b[0m\n"
     ]
    },
    {
     "data": {
      "text/html": [
       "<div>\n",
       "<style scoped>\n",
       "    .dataframe tbody tr th:only-of-type {\n",
       "        vertical-align: middle;\n",
       "    }\n",
       "\n",
       "    .dataframe tbody tr th {\n",
       "        vertical-align: top;\n",
       "    }\n",
       "\n",
       "    .dataframe thead th {\n",
       "        text-align: right;\n",
       "    }\n",
       "</style>\n",
       "<table border=\"1\" class=\"dataframe\">\n",
       "  <thead>\n",
       "    <tr style=\"text-align: right;\">\n",
       "      <th></th>\n",
       "      <th>times_cited</th>\n",
       "      <th>year</th>\n",
       "      <th>filing_status</th>\n",
       "      <th>id</th>\n",
       "      <th>publication_date</th>\n",
       "      <th>assignee_names</th>\n",
       "      <th>inventor_names</th>\n",
       "      <th>assignees</th>\n",
       "      <th>title</th>\n",
       "      <th>dimensions_url</th>\n",
       "    </tr>\n",
       "  </thead>\n",
       "  <tbody>\n",
       "    <tr>\n",
       "      <th>0</th>\n",
       "      <td>1</td>\n",
       "      <td>2015</td>\n",
       "      <td>Application</td>\n",
       "      <td>DE-102015200215-A1</td>\n",
       "      <td>2016-07-28</td>\n",
       "      <td>[Honda Motor Co Ltd]</td>\n",
       "      <td>[KASTNER ROBERT, KLEINEHAGENBROCK MARCUS, NISH...</td>\n",
       "      <td>[{'id': 'grid.471052.5', 'types': ['Company'],...</td>\n",
       "      <td>Driver Assist System With Cut-In Prediction</td>\n",
       "      <td>https://app.dimensions.ai/details/patent/DE-10...</td>\n",
       "    </tr>\n",
       "  </tbody>\n",
       "</table>\n",
       "</div>"
      ],
      "text/plain": [
       "   times_cited  year filing_status                  id publication_date  \\\n",
       "0            1  2015   Application  DE-102015200215-A1       2016-07-28   \n",
       "\n",
       "         assignee_names                                     inventor_names  \\\n",
       "0  [Honda Motor Co Ltd]  [KASTNER ROBERT, KLEINEHAGENBROCK MARCUS, NISH...   \n",
       "\n",
       "                                           assignees  \\\n",
       "0  [{'id': 'grid.471052.5', 'types': ['Company'],...   \n",
       "\n",
       "                                         title  \\\n",
       "0  Driver Assist System With Cut-In Prediction   \n",
       "\n",
       "                                      dimensions_url  \n",
       "0  https://app.dimensions.ai/details/patent/DE-10...  "
      ]
     },
     "execution_count": 29,
     "metadata": {},
     "output_type": "execute_result"
    }
   ],
   "source": [
    "%%dsldf \n",
    "\n",
    "search patents for \"DE102015200215A1\" return patents[basics+dimensions_url]"
   ]
  },
  {
   "cell_type": "markdown",
   "metadata": {
    "Collapsed": "false"
   },
   "source": [
    "## 8. Porsche/Audi\n",
    "\n",
    "Porsche is listed under Volkswagen but Audi is separated. Is there a reason?"
   ]
  },
  {
   "cell_type": "markdown",
   "metadata": {
    "Collapsed": "false"
   },
   "source": [
    "> Probably because our GRID expertise is not yet in car manufacturers. Looks like \"Porsche\" is mapped to https://grid.ac/institutes/grid.6569.c, while Audi has its own entry: https://grid.ac/institutes/grid.423767.3"
   ]
  },
  {
   "cell_type": "markdown",
   "metadata": {
    "Collapsed": "false"
   },
   "source": [
    "## 9. Why are the states only listed for the USA?"
   ]
  },
  {
   "cell_type": "markdown",
   "metadata": {
    "Collapsed": "false"
   },
   "source": [
    "> States exist for US, CA and AU. It is like that for historical reasos. Also for most other countries the concept of \"states\" does not apply very well."
   ]
  }
 ],
 "metadata": {
  "kernelspec": {
   "display_name": "Python 3",
   "language": "python",
   "name": "python3"
  },
  "language_info": {
   "codemirror_mode": {
    "name": "ipython",
    "version": 3
   },
   "file_extension": ".py",
   "mimetype": "text/x-python",
   "name": "python",
   "nbconvert_exporter": "python",
   "pygments_lexer": "ipython3",
   "version": "3.8.6"
  }
 },
 "nbformat": 4,
 "nbformat_minor": 4
}
