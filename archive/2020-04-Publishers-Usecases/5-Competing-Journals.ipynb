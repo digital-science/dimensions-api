{
 "cells": [
  {
   "cell_type": "markdown",
   "metadata": {
    "Collapsed": "false",
    "colab_type": "text",
    "id": "kWem7RVkXcVP"
   },
   "source": [
    "# Part 5: Competing Journals Analysis\n",
    "\n",
    "In this notebook we are going to \n",
    "\n",
    "* Load the researchers impact metrics data previously extracted (see parts 1-2-3)\n",
    "* Get the full publications history for these researchers \n",
    "* Use this new publications dataset to determine which are the most frequent journals the researchers have also published in\n",
    "* Build some visualizations in order to have a quick overview of the results "
   ]
  },
  {
   "cell_type": "markdown",
   "metadata": {
    "Collapsed": "false",
    "colab_type": "text",
    "id": "Pesu5qAD6J7-"
   },
   "source": [
    "## Prerequisites: Installing the Dimensions Library and Logging in"
   ]
  },
  {
   "cell_type": "code",
   "execution_count": 2,
   "metadata": {
    "Collapsed": "false"
   },
   "outputs": [
    {
     "name": "stdout",
     "output_type": "stream",
     "text": [
      "DimCli v0.6.7 - Succesfully connected to <https://app.dimensions.ai> (method: dsl.ini file)\n"
     ]
    },
    {
     "data": {
      "text/html": [
       "        <script type=\"text/javascript\">\n",
       "        window.PlotlyConfig = {MathJaxConfig: 'local'};\n",
       "        if (window.MathJax) {MathJax.Hub.Config({SVG: {font: \"STIX-Web\"}});}\n",
       "        if (typeof require !== 'undefined') {\n",
       "        require.undef(\"plotly\");\n",
       "        requirejs.config({\n",
       "            paths: {\n",
       "                'plotly': ['https://cdn.plot.ly/plotly-latest.min']\n",
       "            }\n",
       "        });\n",
       "        require(['plotly'], function(Plotly) {\n",
       "            window._Plotly = Plotly;\n",
       "        });\n",
       "        }\n",
       "        </script>\n",
       "        "
      ]
     },
     "metadata": {},
     "output_type": "display_data"
    }
   ],
   "source": [
    "\n",
    "# @markdown # Get the API library and login\n",
    "# @markdown Click the 'play' button on the left (or shift+enter) after entering your API credentials\n",
    "\n",
    "username = \"\" #@param {type: \"string\"}\n",
    "password = \"\" #@param {type: \"string\"}\n",
    "endpoint = \"https://app.dimensions.ai\" #@param {type: \"string\"}\n",
    "\n",
    "\n",
    "!pip install dimcli plotly tqdm -U --quiet\n",
    "import dimcli\n",
    "from dimcli.shortcuts import *\n",
    "dimcli.login(username, password, endpoint)\n",
    "dsl = dimcli.Dsl()\n",
    "\n",
    "#\n",
    "# load common libraries\n",
    "import time\n",
    "import sys\n",
    "import os\n",
    "import json\n",
    "import pandas as pd\n",
    "from pandas.io.json import json_normalize\n",
    "from tqdm.notebook import tqdm as progress\n",
    "\n",
    "#\n",
    "# charts libs\n",
    "# import plotly_express as px\n",
    "import plotly.express as px\n",
    "if not 'google.colab' in sys.modules:\n",
    "  # make js dependecies local / needed by html exports\n",
    "  from plotly.offline import init_notebook_mode\n",
    "  init_notebook_mode(connected=True)\n",
    "#\n",
    "# create output data folder\n",
    "if not(os.path.exists(\"data\")):\n",
    "    os.mkdir(\"data\")"
   ]
  },
  {
   "cell_type": "markdown",
   "metadata": {
    "Collapsed": "false",
    "colab_type": "text",
    "id": "09ST2hcNyMmE"
   },
   "source": [
    "## Competing Journals"
   ]
  },
  {
   "cell_type": "markdown",
   "metadata": {
    "Collapsed": "false",
    "colab_type": "text",
    "id": "I8yQPsTsyMmF"
   },
   "source": [
    "From our researchers master list, we now want to extract the following:\n",
    "\n",
    "* full list of publications for a 5 year period\n",
    "* full list of journals with counts of how many publications per journal \n",
    "\n",
    "This new dataset will let us draw up some conclusions re. which are the competing journals of the one we selected at the beginning.\n",
    "\n"
   ]
  },
  {
   "cell_type": "markdown",
   "metadata": {
    "Collapsed": "false",
    "colab_type": "text",
    "id": "tv93-wsUy6QM"
   },
   "source": [
    "### First let's reload the data obtained in previous steps"
   ]
  },
  {
   "cell_type": "code",
   "execution_count": 7,
   "metadata": {
    "Collapsed": "false",
    "colab": {},
    "colab_type": "code",
    "id": "5oxpgoZFyMmF"
   },
   "outputs": [
    {
     "name": "stdout",
     "output_type": "stream",
     "text": [
      "Total researchers: 18341\n"
     ]
    },
    {
     "data": {
      "text/html": [
       "<div>\n",
       "<style scoped>\n",
       "    .dataframe tbody tr th:only-of-type {\n",
       "        vertical-align: middle;\n",
       "    }\n",
       "\n",
       "    .dataframe tbody tr th {\n",
       "        vertical-align: top;\n",
       "    }\n",
       "\n",
       "    .dataframe thead th {\n",
       "        text-align: right;\n",
       "    }\n",
       "</style>\n",
       "<table border=\"1\" class=\"dataframe\">\n",
       "  <thead>\n",
       "    <tr style=\"text-align: right;\">\n",
       "      <th></th>\n",
       "      <th>researcher_id</th>\n",
       "      <th>pubs</th>\n",
       "      <th>full_name</th>\n",
       "      <th>citations_mean</th>\n",
       "      <th>altmetric_mean</th>\n",
       "      <th>last_pub_year</th>\n",
       "      <th>url</th>\n",
       "    </tr>\n",
       "  </thead>\n",
       "  <tbody>\n",
       "    <tr>\n",
       "      <th>0</th>\n",
       "      <td>ur.0723426172.10</td>\n",
       "      <td>62</td>\n",
       "      <td>Kari Stefansson</td>\n",
       "      <td>103.274194</td>\n",
       "      <td>229.225806</td>\n",
       "      <td>2020</td>\n",
       "      <td>https://app.dimensions.ai/discover/publication...</td>\n",
       "    </tr>\n",
       "    <tr>\n",
       "      <th>1</th>\n",
       "      <td>ur.01277776417.51</td>\n",
       "      <td>45</td>\n",
       "      <td>Unnur Thorsteinsdottir</td>\n",
       "      <td>78.577778</td>\n",
       "      <td>159.666667</td>\n",
       "      <td>2019</td>\n",
       "      <td>https://app.dimensions.ai/discover/publication...</td>\n",
       "    </tr>\n",
       "    <tr>\n",
       "      <th>2</th>\n",
       "      <td>ur.01247426430.47</td>\n",
       "      <td>33</td>\n",
       "      <td>Gudmar Thorleifsson</td>\n",
       "      <td>77.878788</td>\n",
       "      <td>170.515152</td>\n",
       "      <td>2019</td>\n",
       "      <td>https://app.dimensions.ai/discover/publication...</td>\n",
       "    </tr>\n",
       "    <tr>\n",
       "      <th>3</th>\n",
       "      <td>ur.01313145634.66</td>\n",
       "      <td>32</td>\n",
       "      <td>Andres Metspalu</td>\n",
       "      <td>164.125000</td>\n",
       "      <td>362.875000</td>\n",
       "      <td>2019</td>\n",
       "      <td>https://app.dimensions.ai/discover/publication...</td>\n",
       "    </tr>\n",
       "    <tr>\n",
       "      <th>4</th>\n",
       "      <td>ur.01317433110.75</td>\n",
       "      <td>31</td>\n",
       "      <td>Caroline Hayward</td>\n",
       "      <td>136.322581</td>\n",
       "      <td>302.000000</td>\n",
       "      <td>2019</td>\n",
       "      <td>https://app.dimensions.ai/discover/publication...</td>\n",
       "    </tr>\n",
       "  </tbody>\n",
       "</table>\n",
       "</div>"
      ],
      "text/plain": [
       "       researcher_id  pubs               full_name  citations_mean  \\\n",
       "0   ur.0723426172.10    62         Kari Stefansson      103.274194   \n",
       "1  ur.01277776417.51    45  Unnur Thorsteinsdottir       78.577778   \n",
       "2  ur.01247426430.47    33     Gudmar Thorleifsson       77.878788   \n",
       "3  ur.01313145634.66    32         Andres Metspalu      164.125000   \n",
       "4  ur.01317433110.75    31        Caroline Hayward      136.322581   \n",
       "\n",
       "   altmetric_mean  last_pub_year  \\\n",
       "0      229.225806           2020   \n",
       "1      159.666667           2019   \n",
       "2      170.515152           2019   \n",
       "3      362.875000           2019   \n",
       "4      302.000000           2019   \n",
       "\n",
       "                                                 url  \n",
       "0  https://app.dimensions.ai/discover/publication...  \n",
       "1  https://app.dimensions.ai/discover/publication...  \n",
       "2  https://app.dimensions.ai/discover/publication...  \n",
       "3  https://app.dimensions.ai/discover/publication...  \n",
       "4  https://app.dimensions.ai/discover/publication...  "
      ]
     },
     "execution_count": 7,
     "metadata": {},
     "output_type": "execute_result"
    }
   ],
   "source": [
    "#\n",
    "researchers = pd.read_csv(\"data/2.researchers_impact_metrics.csv\")\n",
    "#\n",
    "print(\"Total researchers:\", len(researchers))\n",
    "researchers.head(5)"
   ]
  },
  {
   "cell_type": "markdown",
   "metadata": {
    "Collapsed": "false",
    "colab_type": "text",
    "id": "Lyo3XRvC14sv"
   },
   "source": [
    "### What the query looks like"
   ]
  },
  {
   "cell_type": "markdown",
   "metadata": {
    "Collapsed": "false",
    "colab_type": "text",
    "id": "p13i2a3gyMmN"
   },
   "source": [
    "The approach we're taking consists in pulling all publications data, so that we can count journals as a second step. \n",
    "\n",
    "This approach may take some time (as we're potentially retrieving a lot of publications data), but it will lead to precise results.  \n",
    "\n",
    "The query template to use looks like this (for a couple of researchers only):"
   ]
  },
  {
   "cell_type": "code",
   "execution_count": 6,
   "metadata": {
    "Collapsed": "false",
    "colab": {
     "base_uri": "https://localhost:8080/",
     "height": 640
    },
    "colab_type": "code",
    "executionInfo": {
     "elapsed": 734,
     "status": "ok",
     "timestamp": 1570143825941,
     "user": {
      "displayName": "Michele Pasin",
      "photoUrl": "https://lh3.googleusercontent.com/a-/AAuE7mBu8LVjIGgontF2Wax51BoL5KFx8esezX3bUmaa0g=s64",
      "userId": "10309320684375994511"
     },
     "user_tz": 240
    },
    "id": "2Aam-R4fyMmO",
    "outputId": "a71949e3-5206-471e-928c-42f9ea71cc2e"
   },
   "outputs": [
    {
     "name": "stdout",
     "output_type": "stream",
     "text": [
      "Returned Publications: 10 (total = 149)\n"
     ]
    },
    {
     "data": {
      "text/html": [
       "<div>\n",
       "<style scoped>\n",
       "    .dataframe tbody tr th:only-of-type {\n",
       "        vertical-align: middle;\n",
       "    }\n",
       "\n",
       "    .dataframe tbody tr th {\n",
       "        vertical-align: top;\n",
       "    }\n",
       "\n",
       "    .dataframe thead th {\n",
       "        text-align: right;\n",
       "    }\n",
       "</style>\n",
       "<table border=\"1\" class=\"dataframe\">\n",
       "  <thead>\n",
       "    <tr style=\"text-align: right;\">\n",
       "      <th></th>\n",
       "      <th>id</th>\n",
       "      <th>journal.id</th>\n",
       "      <th>journal.title</th>\n",
       "    </tr>\n",
       "  </thead>\n",
       "  <tbody>\n",
       "    <tr>\n",
       "      <th>0</th>\n",
       "      <td>pub.1124191534</td>\n",
       "      <td>jour.1043282</td>\n",
       "      <td>Nature Communications</td>\n",
       "    </tr>\n",
       "    <tr>\n",
       "      <th>1</th>\n",
       "      <td>pub.1123951767</td>\n",
       "      <td>jour.1043282</td>\n",
       "      <td>Nature Communications</td>\n",
       "    </tr>\n",
       "    <tr>\n",
       "      <th>2</th>\n",
       "      <td>pub.1125690142</td>\n",
       "      <td>jour.1300829</td>\n",
       "      <td>Communications Biology</td>\n",
       "    </tr>\n",
       "    <tr>\n",
       "      <th>3</th>\n",
       "      <td>pub.1126666840</td>\n",
       "      <td>jour.1014075</td>\n",
       "      <td>New England Journal of Medicine</td>\n",
       "    </tr>\n",
       "    <tr>\n",
       "      <th>4</th>\n",
       "      <td>pub.1126013973</td>\n",
       "      <td>jour.1369542</td>\n",
       "      <td>medRxiv</td>\n",
       "    </tr>\n",
       "    <tr>\n",
       "      <th>5</th>\n",
       "      <td>pub.1122751600</td>\n",
       "      <td>jour.1053069</td>\n",
       "      <td>JAMA Cardiology</td>\n",
       "    </tr>\n",
       "    <tr>\n",
       "      <th>6</th>\n",
       "      <td>pub.1123159327</td>\n",
       "      <td>jour.1034974</td>\n",
       "      <td>PLOS Genetics</td>\n",
       "    </tr>\n",
       "    <tr>\n",
       "      <th>7</th>\n",
       "      <td>pub.1122201507</td>\n",
       "      <td>jour.1043282</td>\n",
       "      <td>Nature Communications</td>\n",
       "    </tr>\n",
       "    <tr>\n",
       "      <th>8</th>\n",
       "      <td>pub.1120966067</td>\n",
       "      <td>jour.1043282</td>\n",
       "      <td>Nature Communications</td>\n",
       "    </tr>\n",
       "    <tr>\n",
       "      <th>9</th>\n",
       "      <td>pub.1113901526</td>\n",
       "      <td>jour.1043282</td>\n",
       "      <td>Nature Communications</td>\n",
       "    </tr>\n",
       "  </tbody>\n",
       "</table>\n",
       "</div>"
      ],
      "text/plain": [
       "               id    journal.id                    journal.title\n",
       "0  pub.1124191534  jour.1043282            Nature Communications\n",
       "1  pub.1123951767  jour.1043282            Nature Communications\n",
       "2  pub.1125690142  jour.1300829           Communications Biology\n",
       "3  pub.1126666840  jour.1014075  New England Journal of Medicine\n",
       "4  pub.1126013973  jour.1369542                          medRxiv\n",
       "5  pub.1122751600  jour.1053069                  JAMA Cardiology\n",
       "6  pub.1123159327  jour.1034974                    PLOS Genetics\n",
       "7  pub.1122201507  jour.1043282            Nature Communications\n",
       "8  pub.1120966067  jour.1043282            Nature Communications\n",
       "9  pub.1113901526  jour.1043282            Nature Communications"
      ]
     },
     "execution_count": 6,
     "metadata": {},
     "output_type": "execute_result"
    }
   ],
   "source": [
    "%%dsldf \n",
    "search publications where researchers.id in [\"ur.01277776417.51\", \"ur.0637651205.48\"] \n",
    "    and year >= 2015 and journal is not empty \n",
    "    and journal.id != \"jour.1103138\" \n",
    "return publications[id+journal] limit 10"
   ]
  },
  {
   "cell_type": "markdown",
   "metadata": {
    "Collapsed": "false",
    "colab_type": "text",
    "id": "Maea2blXyMmR"
   },
   "source": [
    "## Extracting all publications/journals information\n",
    "\n",
    "This part may take some time to run (depending on how many years back one wants to go) so you may want to get a coffee while you wait.. \n"
   ]
  },
  {
   "cell_type": "code",
   "execution_count": 30,
   "metadata": {
    "Collapsed": "false",
    "colab": {},
    "colab_type": "code",
    "id": "ng1zRWiLyMmV"
   },
   "outputs": [],
   "source": [
    "#\n",
    "journal_id = \"jour.1103138\" # Nature genetics\n",
    "start_year = 2018\n",
    "\n",
    "# our list of researchers\n",
    "llist = list(researchers['researcher_id'])\n",
    "#\n",
    "# the query\n",
    "q2 = \"\"\"search publications \n",
    "            where researchers.id in {} \n",
    "            and year >= {} and journal is not empty and journal.id != \"{}\" \n",
    "    return publications[id+journal+year]\"\"\""
   ]
  },
  {
   "cell_type": "code",
   "execution_count": 32,
   "metadata": {
    "Collapsed": "false",
    "colab": {},
    "colab_type": "code",
    "id": "7C80TjTayMmY"
   },
   "outputs": [
    {
     "data": {
      "application/vnd.jupyter.widget-view+json": {
       "model_id": "f7ee7c6622e9432994004bbdb2538522",
       "version_major": 2,
       "version_minor": 0
      },
      "text/plain": [
       "HBox(children=(FloatProgress(value=0.0, max=46.0), HTML(value='')))"
      ]
     },
     "metadata": {},
     "output_type": "display_data"
    },
    {
     "name": "stdout",
     "output_type": "stream",
     "text": [
      "\n"
     ]
    }
   ],
   "source": [
    "\n",
    "VERBOSE = False\n",
    "RESEARCHER_ITERATOR_NO = 400\n",
    "\n",
    "pubs = pd.DataFrame\n",
    "for chunk in progress(list(chunks_of(llist, RESEARCHER_ITERATOR_NO))):\n",
    "    # get all pubs\n",
    "    query = q2.format(json.dumps(chunk), start_year, journal_id)\n",
    "    res = dsl.query_iterative(query, verbose=VERBOSE)\n",
    "    if pubs.empty:\n",
    "        # first time, init the dataframe         \n",
    "        pubs = res.as_dataframe()\n",
    "    else:\n",
    "        pubs.append(res.as_dataframe())"
   ]
  },
  {
   "cell_type": "code",
   "execution_count": 33,
   "metadata": {
    "Collapsed": "false"
   },
   "outputs": [
    {
     "data": {
      "text/html": [
       "<div>\n",
       "<style scoped>\n",
       "    .dataframe tbody tr th:only-of-type {\n",
       "        vertical-align: middle;\n",
       "    }\n",
       "\n",
       "    .dataframe tbody tr th {\n",
       "        vertical-align: top;\n",
       "    }\n",
       "\n",
       "    .dataframe thead th {\n",
       "        text-align: right;\n",
       "    }\n",
       "</style>\n",
       "<table border=\"1\" class=\"dataframe\">\n",
       "  <thead>\n",
       "    <tr style=\"text-align: right;\">\n",
       "      <th></th>\n",
       "      <th>year</th>\n",
       "      <th>id</th>\n",
       "      <th>journal.id</th>\n",
       "      <th>journal.title</th>\n",
       "    </tr>\n",
       "  </thead>\n",
       "  <tbody>\n",
       "    <tr>\n",
       "      <th>0</th>\n",
       "      <td>2020</td>\n",
       "      <td>pub.1124817052</td>\n",
       "      <td>jour.1022375</td>\n",
       "      <td>Breast Cancer Research</td>\n",
       "    </tr>\n",
       "    <tr>\n",
       "      <th>1</th>\n",
       "      <td>2020</td>\n",
       "      <td>pub.1124278101</td>\n",
       "      <td>jour.1045337</td>\n",
       "      <td>Scientific Reports</td>\n",
       "    </tr>\n",
       "    <tr>\n",
       "      <th>2</th>\n",
       "      <td>2020</td>\n",
       "      <td>pub.1123936545</td>\n",
       "      <td>jour.1023439</td>\n",
       "      <td>Genome Biology</td>\n",
       "    </tr>\n",
       "    <tr>\n",
       "      <th>3</th>\n",
       "      <td>2020</td>\n",
       "      <td>pub.1124072153</td>\n",
       "      <td>jour.1045337</td>\n",
       "      <td>Scientific Reports</td>\n",
       "    </tr>\n",
       "    <tr>\n",
       "      <th>4</th>\n",
       "      <td>2020</td>\n",
       "      <td>pub.1125616171</td>\n",
       "      <td>jour.1045337</td>\n",
       "      <td>Scientific Reports</td>\n",
       "    </tr>\n",
       "    <tr>\n",
       "      <th>...</th>\n",
       "      <td>...</td>\n",
       "      <td>...</td>\n",
       "      <td>...</td>\n",
       "      <td>...</td>\n",
       "    </tr>\n",
       "    <tr>\n",
       "      <th>12889</th>\n",
       "      <td>2018</td>\n",
       "      <td>pub.1125876219</td>\n",
       "      <td>jour.1276748</td>\n",
       "      <td>SSRN Electronic Journal</td>\n",
       "    </tr>\n",
       "    <tr>\n",
       "      <th>12890</th>\n",
       "      <td>2018</td>\n",
       "      <td>pub.1125876472</td>\n",
       "      <td>jour.1276748</td>\n",
       "      <td>SSRN Electronic Journal</td>\n",
       "    </tr>\n",
       "    <tr>\n",
       "      <th>12891</th>\n",
       "      <td>2018</td>\n",
       "      <td>pub.1125876257</td>\n",
       "      <td>jour.1276748</td>\n",
       "      <td>SSRN Electronic Journal</td>\n",
       "    </tr>\n",
       "    <tr>\n",
       "      <th>12892</th>\n",
       "      <td>2018</td>\n",
       "      <td>pub.1125875900</td>\n",
       "      <td>jour.1276748</td>\n",
       "      <td>SSRN Electronic Journal</td>\n",
       "    </tr>\n",
       "    <tr>\n",
       "      <th>12893</th>\n",
       "      <td>2018</td>\n",
       "      <td>pub.1111954841</td>\n",
       "      <td>jour.1299718</td>\n",
       "      <td>Gates Open Research</td>\n",
       "    </tr>\n",
       "  </tbody>\n",
       "</table>\n",
       "<p>12887 rows × 4 columns</p>\n",
       "</div>"
      ],
      "text/plain": [
       "       year              id    journal.id            journal.title\n",
       "0      2020  pub.1124817052  jour.1022375   Breast Cancer Research\n",
       "1      2020  pub.1124278101  jour.1045337       Scientific Reports\n",
       "2      2020  pub.1123936545  jour.1023439           Genome Biology\n",
       "3      2020  pub.1124072153  jour.1045337       Scientific Reports\n",
       "4      2020  pub.1125616171  jour.1045337       Scientific Reports\n",
       "...     ...             ...           ...                      ...\n",
       "12889  2018  pub.1125876219  jour.1276748  SSRN Electronic Journal\n",
       "12890  2018  pub.1125876472  jour.1276748  SSRN Electronic Journal\n",
       "12891  2018  pub.1125876257  jour.1276748  SSRN Electronic Journal\n",
       "12892  2018  pub.1125875900  jour.1276748  SSRN Electronic Journal\n",
       "12893  2018  pub.1111954841  jour.1299718      Gates Open Research\n",
       "\n",
       "[12887 rows x 4 columns]"
      ]
     },
     "execution_count": 33,
     "metadata": {},
     "output_type": "execute_result"
    }
   ],
   "source": [
    "# remove duplicate publications, if they have the same PUB_ID\n",
    "pubs = pubs.drop_duplicates(subset=\"id\")\n",
    "# save\n",
    "pubs.to_csv(\"data/5.journals-via-publications-RAW.csv\", index=False)\n",
    "# preview the data\n",
    "pubs"
   ]
  },
  {
   "cell_type": "markdown",
   "metadata": {
    "Collapsed": "false"
   },
   "source": [
    "Now we can create a journals-only dataset that includes counts per year, and grant total. "
   ]
  },
  {
   "cell_type": "code",
   "execution_count": 42,
   "metadata": {
    "Collapsed": "false"
   },
   "outputs": [
    {
     "name": "stdout",
     "output_type": "stream",
     "text": [
      "======\n",
      "Done\n"
     ]
    },
    {
     "data": {
      "text/html": [
       "<div>\n",
       "<style scoped>\n",
       "    .dataframe tbody tr th:only-of-type {\n",
       "        vertical-align: middle;\n",
       "    }\n",
       "\n",
       "    .dataframe tbody tr th {\n",
       "        vertical-align: top;\n",
       "    }\n",
       "\n",
       "    .dataframe thead th {\n",
       "        text-align: right;\n",
       "    }\n",
       "</style>\n",
       "<table border=\"1\" class=\"dataframe\">\n",
       "  <thead>\n",
       "    <tr style=\"text-align: right;\">\n",
       "      <th></th>\n",
       "      <th>year</th>\n",
       "      <th>journal.id</th>\n",
       "      <th>journal.title</th>\n",
       "      <th>total</th>\n",
       "      <th>total_year</th>\n",
       "    </tr>\n",
       "  </thead>\n",
       "  <tbody>\n",
       "    <tr>\n",
       "      <th>229</th>\n",
       "      <td>2020</td>\n",
       "      <td>jour.1293558</td>\n",
       "      <td>bioRxiv</td>\n",
       "      <td>1151</td>\n",
       "      <td>106</td>\n",
       "    </tr>\n",
       "    <tr>\n",
       "      <th>1878</th>\n",
       "      <td>2019</td>\n",
       "      <td>jour.1293558</td>\n",
       "      <td>bioRxiv</td>\n",
       "      <td>1151</td>\n",
       "      <td>563</td>\n",
       "    </tr>\n",
       "    <tr>\n",
       "      <th>7700</th>\n",
       "      <td>2018</td>\n",
       "      <td>jour.1293558</td>\n",
       "      <td>bioRxiv</td>\n",
       "      <td>1151</td>\n",
       "      <td>482</td>\n",
       "    </tr>\n",
       "    <tr>\n",
       "      <th>9202</th>\n",
       "      <td>2018</td>\n",
       "      <td>jour.1101548</td>\n",
       "      <td>European Neuropsychopharmacology</td>\n",
       "      <td>480</td>\n",
       "      <td>8</td>\n",
       "    </tr>\n",
       "    <tr>\n",
       "      <th>1279</th>\n",
       "      <td>2020</td>\n",
       "      <td>jour.1101548</td>\n",
       "      <td>European Neuropsychopharmacology</td>\n",
       "      <td>480</td>\n",
       "      <td>4</td>\n",
       "    </tr>\n",
       "    <tr>\n",
       "      <th>2223</th>\n",
       "      <td>2019</td>\n",
       "      <td>jour.1101548</td>\n",
       "      <td>European Neuropsychopharmacology</td>\n",
       "      <td>480</td>\n",
       "      <td>468</td>\n",
       "    </tr>\n",
       "    <tr>\n",
       "      <th>2056</th>\n",
       "      <td>2019</td>\n",
       "      <td>jour.1043282</td>\n",
       "      <td>Nature Communications</td>\n",
       "      <td>297</td>\n",
       "      <td>129</td>\n",
       "    </tr>\n",
       "    <tr>\n",
       "      <th>6</th>\n",
       "      <td>2020</td>\n",
       "      <td>jour.1043282</td>\n",
       "      <td>Nature Communications</td>\n",
       "      <td>297</td>\n",
       "      <td>43</td>\n",
       "    </tr>\n",
       "    <tr>\n",
       "      <th>7856</th>\n",
       "      <td>2018</td>\n",
       "      <td>jour.1043282</td>\n",
       "      <td>Nature Communications</td>\n",
       "      <td>297</td>\n",
       "      <td>125</td>\n",
       "    </tr>\n",
       "    <tr>\n",
       "      <th>7843</th>\n",
       "      <td>2018</td>\n",
       "      <td>jour.1045337</td>\n",
       "      <td>Scientific Reports</td>\n",
       "      <td>222</td>\n",
       "      <td>110</td>\n",
       "    </tr>\n",
       "  </tbody>\n",
       "</table>\n",
       "</div>"
      ],
      "text/plain": [
       "      year    journal.id                     journal.title  total  total_year\n",
       "229   2020  jour.1293558                           bioRxiv   1151         106\n",
       "1878  2019  jour.1293558                           bioRxiv   1151         563\n",
       "7700  2018  jour.1293558                           bioRxiv   1151         482\n",
       "9202  2018  jour.1101548  European Neuropsychopharmacology    480           8\n",
       "1279  2020  jour.1101548  European Neuropsychopharmacology    480           4\n",
       "2223  2019  jour.1101548  European Neuropsychopharmacology    480         468\n",
       "2056  2019  jour.1043282             Nature Communications    297         129\n",
       "6     2020  jour.1043282             Nature Communications    297          43\n",
       "7856  2018  jour.1043282             Nature Communications    297         125\n",
       "7843  2018  jour.1045337                Scientific Reports    222         110"
      ]
     },
     "execution_count": 42,
     "metadata": {},
     "output_type": "execute_result"
    }
   ],
   "source": [
    "journals = pubs.copy()\n",
    "# drop pub_id column\n",
    "journals = journals.drop(['id'], axis=1)\n",
    "# \n",
    "# add total column \n",
    "journals['total'] = journals.groupby('journal.id')['journal.id'].transform('count')\n",
    "journals['total_year'] = journals.groupby(['journal.id', 'year'])['journal.id'].transform('count')\n",
    "# \n",
    "# remove multiple counts for same journal\n",
    "journals = journals.drop_duplicates() \n",
    "journals.reset_index(drop=True)\n",
    "#\n",
    "# sort by total count\n",
    "journals = journals.sort_values('total', ascending=False)\n",
    "# #\n",
    "# # save\n",
    "journals.to_csv(\"data/5.journals-via-publications.csv\", index=False)\n",
    "print(\"======\\nDone\")\n",
    "\n",
    "# download the data\n",
    "if COLAB_ENV:\n",
    "  files.download(\"data/5.journals-via-publications.csv\")\n",
    "#preview the data \n",
    "journals.head(10)"
   ]
  },
  {
   "cell_type": "markdown",
   "metadata": {
    "Collapsed": "false",
    "colab_type": "text",
    "id": "7o8S9cx6esT7"
   },
   "source": [
    "# Visualizations"
   ]
  },
  {
   "cell_type": "code",
   "execution_count": 48,
   "metadata": {
    "Collapsed": "false"
   },
   "outputs": [
    {
     "data": {
      "application/vnd.plotly.v1+json": {
       "config": {
        "plotlyServerURL": "https://plot.ly"
       },
       "data": [
        {
         "alignmentgroup": "True",
         "customdata": [
          [
           "jour.1293558",
           "bioRxiv",
           1151
          ],
          [
           "jour.1293558",
           "bioRxiv",
           1151
          ],
          [
           "jour.1293558",
           "bioRxiv",
           1151
          ],
          [
           "jour.1101548",
           "European Neuropsychopharmacology",
           480
          ],
          [
           "jour.1101548",
           "European Neuropsychopharmacology",
           480
          ],
          [
           "jour.1101548",
           "European Neuropsychopharmacology",
           480
          ],
          [
           "jour.1043282",
           "Nature Communications",
           297
          ],
          [
           "jour.1043282",
           "Nature Communications",
           297
          ],
          [
           "jour.1043282",
           "Nature Communications",
           297
          ],
          [
           "jour.1045337",
           "Scientific Reports",
           222
          ],
          [
           "jour.1045337",
           "Scientific Reports",
           222
          ],
          [
           "jour.1045337",
           "Scientific Reports",
           222
          ],
          [
           "jour.1037553",
           "PLoS ONE",
           180
          ],
          [
           "jour.1037553",
           "PLoS ONE",
           180
          ],
          [
           "jour.1037553",
           "PLoS ONE",
           180
          ],
          [
           "jour.1034467",
           "Alzheimer's & Dementia",
           175
          ],
          [
           "jour.1034467",
           "Alzheimer's & Dementia",
           175
          ],
          [
           "jour.1034467",
           "Alzheimer's & Dementia",
           175
          ],
          [
           "jour.1091325",
           "European Heart Journal",
           166
          ],
          [
           "jour.1091325",
           "European Heart Journal",
           166
          ],
          [
           "jour.1091325",
           "European Heart Journal",
           166
          ],
          [
           "jour.1358156",
           "International Journal of Cancer",
           145
          ],
          [
           "jour.1358156",
           "International Journal of Cancer",
           145
          ],
          [
           "jour.1358156",
           "International Journal of Cancer",
           145
          ],
          [
           "jour.1009570",
           "Circulation",
           139
          ],
          [
           "jour.1009570",
           "Circulation",
           139
          ],
          [
           "jour.1009570",
           "Circulation",
           139
          ],
          [
           "jour.1369542",
           "medRxiv",
           124
          ],
          [
           "jour.1369542",
           "medRxiv",
           124
          ],
          [
           "jour.1115540",
           "Molecular Psychiatry",
           118
          ],
          [
           "jour.1115540",
           "Molecular Psychiatry",
           118
          ],
          [
           "jour.1115540",
           "Molecular Psychiatry",
           118
          ],
          [
           "jour.1093746",
           "Journal of the American College of Cardiology",
           113
          ],
          [
           "jour.1093746",
           "Journal of the American College of Cardiology",
           113
          ],
          [
           "jour.1093746",
           "Journal of the American College of Cardiology",
           113
          ],
          [
           "jour.1312191",
           "Journal of Clinical Oncology",
           105
          ],
          [
           "jour.1312191",
           "Journal of Clinical Oncology",
           105
          ],
          [
           "jour.1312191",
           "Journal of Clinical Oncology",
           105
          ],
          [
           "jour.1087544",
           "International Journal of Epidemiology",
           100
          ],
          [
           "jour.1087544",
           "International Journal of Epidemiology",
           100
          ],
          [
           "jour.1087544",
           "International Journal of Epidemiology",
           100
          ],
          [
           "jour.1012129",
           "Biological Psychiatry",
           99
          ],
          [
           "jour.1012129",
           "Biological Psychiatry",
           99
          ],
          [
           "jour.1012129",
           "Biological Psychiatry",
           99
          ],
          [
           "jour.1017423",
           "Diabetes",
           93
          ],
          [
           "jour.1017423",
           "Diabetes",
           93
          ],
          [
           "jour.1017423",
           "Diabetes",
           93
          ],
          [
           "jour.1017012",
           "American Journal of Human Genetics",
           90
          ],
          [
           "jour.1017012",
           "American Journal of Human Genetics",
           90
          ],
          [
           "jour.1085025",
           "Blood",
           90
          ],
          [
           "jour.1085025",
           "Blood",
           90
          ],
          [
           "jour.1017012",
           "American Journal of Human Genetics",
           90
          ],
          [
           "jour.1085025",
           "Blood",
           90
          ],
          [
           "jour.1013420",
           "Atherosclerosis",
           88
          ],
          [
           "jour.1013420",
           "Atherosclerosis",
           88
          ],
          [
           "jour.1013420",
           "Atherosclerosis",
           88
          ],
          [
           "jour.1103682",
           "Osteoarthritis and Cartilage",
           86
          ],
          [
           "jour.1102504",
           "Human Molecular Genetics",
           86
          ],
          [
           "jour.1103682",
           "Osteoarthritis and Cartilage",
           86
          ],
          [
           "jour.1103682",
           "Osteoarthritis and Cartilage",
           86
          ],
          [
           "jour.1102504",
           "Human Molecular Genetics",
           86
          ],
          [
           "jour.1102504",
           "Human Molecular Genetics",
           86
          ],
          [
           "jour.1045271",
           "Translational Psychiatry",
           79
          ],
          [
           "jour.1101916",
           "Cancer Epidemiology Biomarkers & Prevention",
           79
          ],
          [
           "jour.1045271",
           "Translational Psychiatry",
           79
          ],
          [
           "jour.1101916",
           "Cancer Epidemiology Biomarkers & Prevention",
           79
          ],
          [
           "jour.1045271",
           "Translational Psychiatry",
           79
          ],
          [
           "jour.1101916",
           "Cancer Epidemiology Biomarkers & Prevention",
           79
          ],
          [
           "jour.1276748",
           "SSRN Electronic Journal",
           75
          ],
          [
           "jour.1276748",
           "SSRN Electronic Journal",
           75
          ],
          [
           "jour.1276748",
           "SSRN Electronic Journal",
           75
          ],
          [
           "jour.1001482",
           "Diabetologia",
           73
          ],
          [
           "jour.1001482",
           "Diabetologia",
           73
          ],
          [
           "jour.1001482",
           "Diabetologia",
           73
          ],
          [
           "jour.1017738",
           "The Journal of Clinical Endocrinology & Metabolism",
           71
          ],
          [
           "jour.1017738",
           "The Journal of Clinical Endocrinology & Metabolism",
           71
          ],
          [
           "jour.1017738",
           "The Journal of Clinical Endocrinology & Metabolism",
           71
          ],
          [
           "jour.1103715",
           "Diabetes Care",
           69
          ],
          [
           "jour.1103715",
           "Diabetes Care",
           69
          ],
          [
           "jour.1103715",
           "Diabetes Care",
           69
          ],
          [
           "jour.1046624",
           "Journal of the American Heart Association",
           62
          ],
          [
           "jour.1046624",
           "Journal of the American Heart Association",
           62
          ],
          [
           "jour.1046624",
           "Journal of the American Heart Association",
           62
          ],
          [
           "jour.1100417",
           "Annals of Oncology",
           59
          ],
          [
           "jour.1100417",
           "Annals of Oncology",
           59
          ],
          [
           "jour.1095636",
           "European Journal of Epidemiology",
           59
          ],
          [
           "jour.1095636",
           "European Journal of Epidemiology",
           59
          ],
          [
           "jour.1100417",
           "Annals of Oncology",
           59
          ],
          [
           "jour.1054214",
           "Psychological Medicine",
           59
          ],
          [
           "jour.1054214",
           "Psychological Medicine",
           59
          ],
          [
           "jour.1054214",
           "Psychological Medicine",
           59
          ],
          [
           "jour.1095636",
           "European Journal of Epidemiology",
           59
          ],
          [
           "jour.1044693",
           "BMJ Open",
           57
          ],
          [
           "jour.1044693",
           "BMJ Open",
           57
          ],
          [
           "jour.1044693",
           "BMJ Open",
           57
          ],
          [
           "jour.1019114",
           "Cell",
           56
          ],
          [
           "jour.1103410",
           "European Journal of Human Genetics",
           56
          ],
          [
           "jour.1019114",
           "Cell",
           56
          ],
          [
           "jour.1103410",
           "European Journal of Human Genetics",
           56
          ],
          [
           "jour.1019114",
           "Cell",
           56
          ]
         ],
         "hovertemplate": "<b>%{hovertext}</b><br><br>journal.title=%{customdata[1]}<br>total_year=%{y}<br>journal.id=%{customdata[0]}<br>total=%{customdata[2]}<br>year=%{marker.color}<extra></extra>",
         "hovertext": [
          "bioRxiv",
          "bioRxiv",
          "bioRxiv",
          "European Neuropsychopharmacology",
          "European Neuropsychopharmacology",
          "European Neuropsychopharmacology",
          "Nature Communications",
          "Nature Communications",
          "Nature Communications",
          "Scientific Reports",
          "Scientific Reports",
          "Scientific Reports",
          "PLoS ONE",
          "PLoS ONE",
          "PLoS ONE",
          "Alzheimer's & Dementia",
          "Alzheimer's & Dementia",
          "Alzheimer's & Dementia",
          "European Heart Journal",
          "European Heart Journal",
          "European Heart Journal",
          "International Journal of Cancer",
          "International Journal of Cancer",
          "International Journal of Cancer",
          "Circulation",
          "Circulation",
          "Circulation",
          "medRxiv",
          "medRxiv",
          "Molecular Psychiatry",
          "Molecular Psychiatry",
          "Molecular Psychiatry",
          "Journal of the American College of Cardiology",
          "Journal of the American College of Cardiology",
          "Journal of the American College of Cardiology",
          "Journal of Clinical Oncology",
          "Journal of Clinical Oncology",
          "Journal of Clinical Oncology",
          "International Journal of Epidemiology",
          "International Journal of Epidemiology",
          "International Journal of Epidemiology",
          "Biological Psychiatry",
          "Biological Psychiatry",
          "Biological Psychiatry",
          "Diabetes",
          "Diabetes",
          "Diabetes",
          "American Journal of Human Genetics",
          "American Journal of Human Genetics",
          "Blood",
          "Blood",
          "American Journal of Human Genetics",
          "Blood",
          "Atherosclerosis",
          "Atherosclerosis",
          "Atherosclerosis",
          "Osteoarthritis and Cartilage",
          "Human Molecular Genetics",
          "Osteoarthritis and Cartilage",
          "Osteoarthritis and Cartilage",
          "Human Molecular Genetics",
          "Human Molecular Genetics",
          "Translational Psychiatry",
          "Cancer Epidemiology Biomarkers & Prevention",
          "Translational Psychiatry",
          "Cancer Epidemiology Biomarkers & Prevention",
          "Translational Psychiatry",
          "Cancer Epidemiology Biomarkers & Prevention",
          "SSRN Electronic Journal",
          "SSRN Electronic Journal",
          "SSRN Electronic Journal",
          "Diabetologia",
          "Diabetologia",
          "Diabetologia",
          "The Journal of Clinical Endocrinology & Metabolism",
          "The Journal of Clinical Endocrinology & Metabolism",
          "The Journal of Clinical Endocrinology & Metabolism",
          "Diabetes Care",
          "Diabetes Care",
          "Diabetes Care",
          "Journal of the American Heart Association",
          "Journal of the American Heart Association",
          "Journal of the American Heart Association",
          "Annals of Oncology",
          "Annals of Oncology",
          "European Journal of Epidemiology",
          "European Journal of Epidemiology",
          "Annals of Oncology",
          "Psychological Medicine",
          "Psychological Medicine",
          "Psychological Medicine",
          "European Journal of Epidemiology",
          "BMJ Open",
          "BMJ Open",
          "BMJ Open",
          "Cell",
          "European Journal of Human Genetics",
          "Cell",
          "European Journal of Human Genetics",
          "Cell"
         ],
         "legendgroup": "",
         "marker": {
          "color": [
           2020,
           2019,
           2018,
           2018,
           2020,
           2019,
           2019,
           2020,
           2018,
           2018,
           2020,
           2019,
           2020,
           2019,
           2018,
           2018,
           2019,
           2020,
           2018,
           2019,
           2020,
           2018,
           2019,
           2020,
           2018,
           2019,
           2020,
           2019,
           2020,
           2020,
           2019,
           2018,
           2020,
           2019,
           2018,
           2018,
           2019,
           2020,
           2020,
           2018,
           2019,
           2020,
           2018,
           2019,
           2020,
           2018,
           2019,
           2018,
           2020,
           2019,
           2020,
           2019,
           2018,
           2020,
           2019,
           2018,
           2019,
           2019,
           2018,
           2020,
           2018,
           2020,
           2018,
           2019,
           2019,
           2018,
           2020,
           2020,
           2020,
           2019,
           2018,
           2020,
           2018,
           2019,
           2018,
           2020,
           2019,
           2019,
           2018,
           2020,
           2020,
           2018,
           2019,
           2018,
           2020,
           2019,
           2018,
           2019,
           2018,
           2020,
           2019,
           2020,
           2018,
           2020,
           2019,
           2019,
           2019,
           2020,
           2020,
           2018
          ],
          "coloraxis": "coloraxis"
         },
         "name": "",
         "offsetgroup": "",
         "orientation": "v",
         "showlegend": false,
         "textposition": "auto",
         "type": "bar",
         "x": [
          "bioRxiv",
          "bioRxiv",
          "bioRxiv",
          "European Neuropsychopharmacology",
          "European Neuropsychopharmacology",
          "European Neuropsychopharmacology",
          "Nature Communications",
          "Nature Communications",
          "Nature Communications",
          "Scientific Reports",
          "Scientific Reports",
          "Scientific Reports",
          "PLoS ONE",
          "PLoS ONE",
          "PLoS ONE",
          "Alzheimer's & Dementia",
          "Alzheimer's & Dementia",
          "Alzheimer's & Dementia",
          "European Heart Journal",
          "European Heart Journal",
          "European Heart Journal",
          "International Journal of Cancer",
          "International Journal of Cancer",
          "International Journal of Cancer",
          "Circulation",
          "Circulation",
          "Circulation",
          "medRxiv",
          "medRxiv",
          "Molecular Psychiatry",
          "Molecular Psychiatry",
          "Molecular Psychiatry",
          "Journal of the American College of Cardiology",
          "Journal of the American College of Cardiology",
          "Journal of the American College of Cardiology",
          "Journal of Clinical Oncology",
          "Journal of Clinical Oncology",
          "Journal of Clinical Oncology",
          "International Journal of Epidemiology",
          "International Journal of Epidemiology",
          "International Journal of Epidemiology",
          "Biological Psychiatry",
          "Biological Psychiatry",
          "Biological Psychiatry",
          "Diabetes",
          "Diabetes",
          "Diabetes",
          "American Journal of Human Genetics",
          "American Journal of Human Genetics",
          "Blood",
          "Blood",
          "American Journal of Human Genetics",
          "Blood",
          "Atherosclerosis",
          "Atherosclerosis",
          "Atherosclerosis",
          "Osteoarthritis and Cartilage",
          "Human Molecular Genetics",
          "Osteoarthritis and Cartilage",
          "Osteoarthritis and Cartilage",
          "Human Molecular Genetics",
          "Human Molecular Genetics",
          "Translational Psychiatry",
          "Cancer Epidemiology Biomarkers & Prevention",
          "Translational Psychiatry",
          "Cancer Epidemiology Biomarkers & Prevention",
          "Translational Psychiatry",
          "Cancer Epidemiology Biomarkers & Prevention",
          "SSRN Electronic Journal",
          "SSRN Electronic Journal",
          "SSRN Electronic Journal",
          "Diabetologia",
          "Diabetologia",
          "Diabetologia",
          "The Journal of Clinical Endocrinology & Metabolism",
          "The Journal of Clinical Endocrinology & Metabolism",
          "The Journal of Clinical Endocrinology & Metabolism",
          "Diabetes Care",
          "Diabetes Care",
          "Diabetes Care",
          "Journal of the American Heart Association",
          "Journal of the American Heart Association",
          "Journal of the American Heart Association",
          "Annals of Oncology",
          "Annals of Oncology",
          "European Journal of Epidemiology",
          "European Journal of Epidemiology",
          "Annals of Oncology",
          "Psychological Medicine",
          "Psychological Medicine",
          "Psychological Medicine",
          "European Journal of Epidemiology",
          "BMJ Open",
          "BMJ Open",
          "BMJ Open",
          "Cell",
          "European Journal of Human Genetics",
          "Cell",
          "European Journal of Human Genetics",
          "Cell"
         ],
         "xaxis": "x",
         "y": [
          106,
          563,
          482,
          8,
          4,
          468,
          129,
          43,
          125,
          110,
          21,
          91,
          20,
          67,
          93,
          82,
          89,
          4,
          81,
          71,
          14,
          56,
          46,
          43,
          27,
          67,
          45,
          58,
          66,
          11,
          53,
          54,
          30,
          52,
          31,
          58,
          40,
          7,
          21,
          35,
          44,
          12,
          49,
          38,
          4,
          38,
          51,
          30,
          13,
          42,
          4,
          47,
          44,
          12,
          39,
          37,
          35,
          40,
          42,
          9,
          39,
          7,
          32,
          27,
          36,
          30,
          11,
          22,
          8,
          36,
          31,
          11,
          34,
          28,
          29,
          18,
          24,
          29,
          25,
          15,
          12,
          26,
          24,
          25,
          2,
          26,
          22,
          32,
          23,
          7,
          29,
          11,
          24,
          7,
          26,
          25,
          21,
          6,
          17,
          25
         ],
         "yaxis": "y"
        }
       ],
       "layout": {
        "autosize": true,
        "barmode": "relative",
        "coloraxis": {
         "colorbar": {
          "title": {
           "text": "year"
          }
         },
         "colorscale": [
          [
           0,
           "#0d0887"
          ],
          [
           0.1111111111111111,
           "#46039f"
          ],
          [
           0.2222222222222222,
           "#7201a8"
          ],
          [
           0.3333333333333333,
           "#9c179e"
          ],
          [
           0.4444444444444444,
           "#bd3786"
          ],
          [
           0.5555555555555556,
           "#d8576b"
          ],
          [
           0.6666666666666666,
           "#ed7953"
          ],
          [
           0.7777777777777778,
           "#fb9f3a"
          ],
          [
           0.8888888888888888,
           "#fdca26"
          ],
          [
           1,
           "#f0f921"
          ]
         ]
        },
        "legend": {
         "tracegroupgap": 0
        },
        "template": {
         "data": {
          "bar": [
           {
            "error_x": {
             "color": "#2a3f5f"
            },
            "error_y": {
             "color": "#2a3f5f"
            },
            "marker": {
             "line": {
              "color": "#E5ECF6",
              "width": 0.5
             }
            },
            "type": "bar"
           }
          ],
          "barpolar": [
           {
            "marker": {
             "line": {
              "color": "#E5ECF6",
              "width": 0.5
             }
            },
            "type": "barpolar"
           }
          ],
          "carpet": [
           {
            "aaxis": {
             "endlinecolor": "#2a3f5f",
             "gridcolor": "white",
             "linecolor": "white",
             "minorgridcolor": "white",
             "startlinecolor": "#2a3f5f"
            },
            "baxis": {
             "endlinecolor": "#2a3f5f",
             "gridcolor": "white",
             "linecolor": "white",
             "minorgridcolor": "white",
             "startlinecolor": "#2a3f5f"
            },
            "type": "carpet"
           }
          ],
          "choropleth": [
           {
            "colorbar": {
             "outlinewidth": 0,
             "ticks": ""
            },
            "type": "choropleth"
           }
          ],
          "contour": [
           {
            "colorbar": {
             "outlinewidth": 0,
             "ticks": ""
            },
            "colorscale": [
             [
              0,
              "#0d0887"
             ],
             [
              0.1111111111111111,
              "#46039f"
             ],
             [
              0.2222222222222222,
              "#7201a8"
             ],
             [
              0.3333333333333333,
              "#9c179e"
             ],
             [
              0.4444444444444444,
              "#bd3786"
             ],
             [
              0.5555555555555556,
              "#d8576b"
             ],
             [
              0.6666666666666666,
              "#ed7953"
             ],
             [
              0.7777777777777778,
              "#fb9f3a"
             ],
             [
              0.8888888888888888,
              "#fdca26"
             ],
             [
              1,
              "#f0f921"
             ]
            ],
            "type": "contour"
           }
          ],
          "contourcarpet": [
           {
            "colorbar": {
             "outlinewidth": 0,
             "ticks": ""
            },
            "type": "contourcarpet"
           }
          ],
          "heatmap": [
           {
            "colorbar": {
             "outlinewidth": 0,
             "ticks": ""
            },
            "colorscale": [
             [
              0,
              "#0d0887"
             ],
             [
              0.1111111111111111,
              "#46039f"
             ],
             [
              0.2222222222222222,
              "#7201a8"
             ],
             [
              0.3333333333333333,
              "#9c179e"
             ],
             [
              0.4444444444444444,
              "#bd3786"
             ],
             [
              0.5555555555555556,
              "#d8576b"
             ],
             [
              0.6666666666666666,
              "#ed7953"
             ],
             [
              0.7777777777777778,
              "#fb9f3a"
             ],
             [
              0.8888888888888888,
              "#fdca26"
             ],
             [
              1,
              "#f0f921"
             ]
            ],
            "type": "heatmap"
           }
          ],
          "heatmapgl": [
           {
            "colorbar": {
             "outlinewidth": 0,
             "ticks": ""
            },
            "colorscale": [
             [
              0,
              "#0d0887"
             ],
             [
              0.1111111111111111,
              "#46039f"
             ],
             [
              0.2222222222222222,
              "#7201a8"
             ],
             [
              0.3333333333333333,
              "#9c179e"
             ],
             [
              0.4444444444444444,
              "#bd3786"
             ],
             [
              0.5555555555555556,
              "#d8576b"
             ],
             [
              0.6666666666666666,
              "#ed7953"
             ],
             [
              0.7777777777777778,
              "#fb9f3a"
             ],
             [
              0.8888888888888888,
              "#fdca26"
             ],
             [
              1,
              "#f0f921"
             ]
            ],
            "type": "heatmapgl"
           }
          ],
          "histogram": [
           {
            "marker": {
             "colorbar": {
              "outlinewidth": 0,
              "ticks": ""
             }
            },
            "type": "histogram"
           }
          ],
          "histogram2d": [
           {
            "colorbar": {
             "outlinewidth": 0,
             "ticks": ""
            },
            "colorscale": [
             [
              0,
              "#0d0887"
             ],
             [
              0.1111111111111111,
              "#46039f"
             ],
             [
              0.2222222222222222,
              "#7201a8"
             ],
             [
              0.3333333333333333,
              "#9c179e"
             ],
             [
              0.4444444444444444,
              "#bd3786"
             ],
             [
              0.5555555555555556,
              "#d8576b"
             ],
             [
              0.6666666666666666,
              "#ed7953"
             ],
             [
              0.7777777777777778,
              "#fb9f3a"
             ],
             [
              0.8888888888888888,
              "#fdca26"
             ],
             [
              1,
              "#f0f921"
             ]
            ],
            "type": "histogram2d"
           }
          ],
          "histogram2dcontour": [
           {
            "colorbar": {
             "outlinewidth": 0,
             "ticks": ""
            },
            "colorscale": [
             [
              0,
              "#0d0887"
             ],
             [
              0.1111111111111111,
              "#46039f"
             ],
             [
              0.2222222222222222,
              "#7201a8"
             ],
             [
              0.3333333333333333,
              "#9c179e"
             ],
             [
              0.4444444444444444,
              "#bd3786"
             ],
             [
              0.5555555555555556,
              "#d8576b"
             ],
             [
              0.6666666666666666,
              "#ed7953"
             ],
             [
              0.7777777777777778,
              "#fb9f3a"
             ],
             [
              0.8888888888888888,
              "#fdca26"
             ],
             [
              1,
              "#f0f921"
             ]
            ],
            "type": "histogram2dcontour"
           }
          ],
          "mesh3d": [
           {
            "colorbar": {
             "outlinewidth": 0,
             "ticks": ""
            },
            "type": "mesh3d"
           }
          ],
          "parcoords": [
           {
            "line": {
             "colorbar": {
              "outlinewidth": 0,
              "ticks": ""
             }
            },
            "type": "parcoords"
           }
          ],
          "pie": [
           {
            "automargin": true,
            "type": "pie"
           }
          ],
          "scatter": [
           {
            "marker": {
             "colorbar": {
              "outlinewidth": 0,
              "ticks": ""
             }
            },
            "type": "scatter"
           }
          ],
          "scatter3d": [
           {
            "line": {
             "colorbar": {
              "outlinewidth": 0,
              "ticks": ""
             }
            },
            "marker": {
             "colorbar": {
              "outlinewidth": 0,
              "ticks": ""
             }
            },
            "type": "scatter3d"
           }
          ],
          "scattercarpet": [
           {
            "marker": {
             "colorbar": {
              "outlinewidth": 0,
              "ticks": ""
             }
            },
            "type": "scattercarpet"
           }
          ],
          "scattergeo": [
           {
            "marker": {
             "colorbar": {
              "outlinewidth": 0,
              "ticks": ""
             }
            },
            "type": "scattergeo"
           }
          ],
          "scattergl": [
           {
            "marker": {
             "colorbar": {
              "outlinewidth": 0,
              "ticks": ""
             }
            },
            "type": "scattergl"
           }
          ],
          "scattermapbox": [
           {
            "marker": {
             "colorbar": {
              "outlinewidth": 0,
              "ticks": ""
             }
            },
            "type": "scattermapbox"
           }
          ],
          "scatterpolar": [
           {
            "marker": {
             "colorbar": {
              "outlinewidth": 0,
              "ticks": ""
             }
            },
            "type": "scatterpolar"
           }
          ],
          "scatterpolargl": [
           {
            "marker": {
             "colorbar": {
              "outlinewidth": 0,
              "ticks": ""
             }
            },
            "type": "scatterpolargl"
           }
          ],
          "scatterternary": [
           {
            "marker": {
             "colorbar": {
              "outlinewidth": 0,
              "ticks": ""
             }
            },
            "type": "scatterternary"
           }
          ],
          "surface": [
           {
            "colorbar": {
             "outlinewidth": 0,
             "ticks": ""
            },
            "colorscale": [
             [
              0,
              "#0d0887"
             ],
             [
              0.1111111111111111,
              "#46039f"
             ],
             [
              0.2222222222222222,
              "#7201a8"
             ],
             [
              0.3333333333333333,
              "#9c179e"
             ],
             [
              0.4444444444444444,
              "#bd3786"
             ],
             [
              0.5555555555555556,
              "#d8576b"
             ],
             [
              0.6666666666666666,
              "#ed7953"
             ],
             [
              0.7777777777777778,
              "#fb9f3a"
             ],
             [
              0.8888888888888888,
              "#fdca26"
             ],
             [
              1,
              "#f0f921"
             ]
            ],
            "type": "surface"
           }
          ],
          "table": [
           {
            "cells": {
             "fill": {
              "color": "#EBF0F8"
             },
             "line": {
              "color": "white"
             }
            },
            "header": {
             "fill": {
              "color": "#C8D4E3"
             },
             "line": {
              "color": "white"
             }
            },
            "type": "table"
           }
          ]
         },
         "layout": {
          "annotationdefaults": {
           "arrowcolor": "#2a3f5f",
           "arrowhead": 0,
           "arrowwidth": 1
          },
          "coloraxis": {
           "colorbar": {
            "outlinewidth": 0,
            "ticks": ""
           }
          },
          "colorscale": {
           "diverging": [
            [
             0,
             "#8e0152"
            ],
            [
             0.1,
             "#c51b7d"
            ],
            [
             0.2,
             "#de77ae"
            ],
            [
             0.3,
             "#f1b6da"
            ],
            [
             0.4,
             "#fde0ef"
            ],
            [
             0.5,
             "#f7f7f7"
            ],
            [
             0.6,
             "#e6f5d0"
            ],
            [
             0.7,
             "#b8e186"
            ],
            [
             0.8,
             "#7fbc41"
            ],
            [
             0.9,
             "#4d9221"
            ],
            [
             1,
             "#276419"
            ]
           ],
           "sequential": [
            [
             0,
             "#0d0887"
            ],
            [
             0.1111111111111111,
             "#46039f"
            ],
            [
             0.2222222222222222,
             "#7201a8"
            ],
            [
             0.3333333333333333,
             "#9c179e"
            ],
            [
             0.4444444444444444,
             "#bd3786"
            ],
            [
             0.5555555555555556,
             "#d8576b"
            ],
            [
             0.6666666666666666,
             "#ed7953"
            ],
            [
             0.7777777777777778,
             "#fb9f3a"
            ],
            [
             0.8888888888888888,
             "#fdca26"
            ],
            [
             1,
             "#f0f921"
            ]
           ],
           "sequentialminus": [
            [
             0,
             "#0d0887"
            ],
            [
             0.1111111111111111,
             "#46039f"
            ],
            [
             0.2222222222222222,
             "#7201a8"
            ],
            [
             0.3333333333333333,
             "#9c179e"
            ],
            [
             0.4444444444444444,
             "#bd3786"
            ],
            [
             0.5555555555555556,
             "#d8576b"
            ],
            [
             0.6666666666666666,
             "#ed7953"
            ],
            [
             0.7777777777777778,
             "#fb9f3a"
            ],
            [
             0.8888888888888888,
             "#fdca26"
            ],
            [
             1,
             "#f0f921"
            ]
           ]
          },
          "colorway": [
           "#636efa",
           "#EF553B",
           "#00cc96",
           "#ab63fa",
           "#FFA15A",
           "#19d3f3",
           "#FF6692",
           "#B6E880",
           "#FF97FF",
           "#FECB52"
          ],
          "font": {
           "color": "#2a3f5f"
          },
          "geo": {
           "bgcolor": "white",
           "lakecolor": "white",
           "landcolor": "#E5ECF6",
           "showlakes": true,
           "showland": true,
           "subunitcolor": "white"
          },
          "hoverlabel": {
           "align": "left"
          },
          "hovermode": "closest",
          "mapbox": {
           "style": "light"
          },
          "paper_bgcolor": "white",
          "plot_bgcolor": "#E5ECF6",
          "polar": {
           "angularaxis": {
            "gridcolor": "white",
            "linecolor": "white",
            "ticks": ""
           },
           "bgcolor": "#E5ECF6",
           "radialaxis": {
            "gridcolor": "white",
            "linecolor": "white",
            "ticks": ""
           }
          },
          "scene": {
           "xaxis": {
            "backgroundcolor": "#E5ECF6",
            "gridcolor": "white",
            "gridwidth": 2,
            "linecolor": "white",
            "showbackground": true,
            "ticks": "",
            "zerolinecolor": "white"
           },
           "yaxis": {
            "backgroundcolor": "#E5ECF6",
            "gridcolor": "white",
            "gridwidth": 2,
            "linecolor": "white",
            "showbackground": true,
            "ticks": "",
            "zerolinecolor": "white"
           },
           "zaxis": {
            "backgroundcolor": "#E5ECF6",
            "gridcolor": "white",
            "gridwidth": 2,
            "linecolor": "white",
            "showbackground": true,
            "ticks": "",
            "zerolinecolor": "white"
           }
          },
          "shapedefaults": {
           "line": {
            "color": "#2a3f5f"
           }
          },
          "ternary": {
           "aaxis": {
            "gridcolor": "white",
            "linecolor": "white",
            "ticks": ""
           },
           "baxis": {
            "gridcolor": "white",
            "linecolor": "white",
            "ticks": ""
           },
           "bgcolor": "#E5ECF6",
           "caxis": {
            "gridcolor": "white",
            "linecolor": "white",
            "ticks": ""
           }
          },
          "title": {
           "x": 0.05
          },
          "xaxis": {
           "automargin": true,
           "gridcolor": "white",
           "linecolor": "white",
           "ticks": "",
           "title": {
            "standoff": 15
           },
           "zerolinecolor": "white",
           "zerolinewidth": 2
          },
          "yaxis": {
           "automargin": true,
           "gridcolor": "white",
           "linecolor": "white",
           "ticks": "",
           "title": {
            "standoff": 15
           },
           "zerolinecolor": "white",
           "zerolinewidth": 2
          }
         }
        },
        "title": {
         "text": "Top 100 competitors for jour.1103138 (based on publications data from 2018)"
        },
        "xaxis": {
         "anchor": "y",
         "autorange": true,
         "domain": [
          0,
          1
         ],
         "range": [
          -0.5,
          33.5
         ],
         "title": {
          "text": "journal.title"
         },
         "type": "category"
        },
        "yaxis": {
         "anchor": "x",
         "autorange": true,
         "domain": [
          0,
          1
         ],
         "range": [
          0,
          1211.578947368421
         ],
         "title": {
          "text": "total_year"
         },
         "type": "linear"
        }
       }
      },
      "image/png": "[encoded data removed]",
      "text/html": [
       "<div>\n",
       "        \n",
       "        \n",
       "            <div id=\"764967db-904d-4a9f-9557-56df76a736fa\" class=\"plotly-graph-div\" style=\"height:525px; width:100%;\"></div>\n",
       "            <script type=\"text/javascript\">\n",
       "                require([\"plotly\"], function(Plotly) {\n",
       "                    window.PLOTLYENV=window.PLOTLYENV || {};\n",
       "                    \n",
       "                if (document.getElementById(\"764967db-904d-4a9f-9557-56df76a736fa\")) {\n",
       "                    Plotly.newPlot(\n",
       "                        '764967db-904d-4a9f-9557-56df76a736fa',\n",
       "                        [{\"alignmentgroup\": \"True\", \"customdata\": [[\"jour.1293558\", \"bioRxiv\", 1151], [\"jour.1293558\", \"bioRxiv\", 1151], [\"jour.1293558\", \"bioRxiv\", 1151], [\"jour.1101548\", \"European Neuropsychopharmacology\", 480], [\"jour.1101548\", \"European Neuropsychopharmacology\", 480], [\"jour.1101548\", \"European Neuropsychopharmacology\", 480], [\"jour.1043282\", \"Nature Communications\", 297], [\"jour.1043282\", \"Nature Communications\", 297], [\"jour.1043282\", \"Nature Communications\", 297], [\"jour.1045337\", \"Scientific Reports\", 222], [\"jour.1045337\", \"Scientific Reports\", 222], [\"jour.1045337\", \"Scientific Reports\", 222], [\"jour.1037553\", \"PLoS ONE\", 180], [\"jour.1037553\", \"PLoS ONE\", 180], [\"jour.1037553\", \"PLoS ONE\", 180], [\"jour.1034467\", \"Alzheimer's & Dementia\", 175], [\"jour.1034467\", \"Alzheimer's & Dementia\", 175], [\"jour.1034467\", \"Alzheimer's & Dementia\", 175], [\"jour.1091325\", \"European Heart Journal\", 166], [\"jour.1091325\", \"European Heart Journal\", 166], [\"jour.1091325\", \"European Heart Journal\", 166], [\"jour.1358156\", \"International Journal of Cancer\", 145], [\"jour.1358156\", \"International Journal of Cancer\", 145], [\"jour.1358156\", \"International Journal of Cancer\", 145], [\"jour.1009570\", \"Circulation\", 139], [\"jour.1009570\", \"Circulation\", 139], [\"jour.1009570\", \"Circulation\", 139], [\"jour.1369542\", \"medRxiv\", 124], [\"jour.1369542\", \"medRxiv\", 124], [\"jour.1115540\", \"Molecular Psychiatry\", 118], [\"jour.1115540\", \"Molecular Psychiatry\", 118], [\"jour.1115540\", \"Molecular Psychiatry\", 118], [\"jour.1093746\", \"Journal of the American College of Cardiology\", 113], [\"jour.1093746\", \"Journal of the American College of Cardiology\", 113], [\"jour.1093746\", \"Journal of the American College of Cardiology\", 113], [\"jour.1312191\", \"Journal of Clinical Oncology\", 105], [\"jour.1312191\", \"Journal of Clinical Oncology\", 105], [\"jour.1312191\", \"Journal of Clinical Oncology\", 105], [\"jour.1087544\", \"International Journal of Epidemiology\", 100], [\"jour.1087544\", \"International Journal of Epidemiology\", 100], [\"jour.1087544\", \"International Journal of Epidemiology\", 100], [\"jour.1012129\", \"Biological Psychiatry\", 99], [\"jour.1012129\", \"Biological Psychiatry\", 99], [\"jour.1012129\", \"Biological Psychiatry\", 99], [\"jour.1017423\", \"Diabetes\", 93], [\"jour.1017423\", \"Diabetes\", 93], [\"jour.1017423\", \"Diabetes\", 93], [\"jour.1017012\", \"American Journal of Human Genetics\", 90], [\"jour.1017012\", \"American Journal of Human Genetics\", 90], [\"jour.1085025\", \"Blood\", 90], [\"jour.1085025\", \"Blood\", 90], [\"jour.1017012\", \"American Journal of Human Genetics\", 90], [\"jour.1085025\", \"Blood\", 90], [\"jour.1013420\", \"Atherosclerosis\", 88], [\"jour.1013420\", \"Atherosclerosis\", 88], [\"jour.1013420\", \"Atherosclerosis\", 88], [\"jour.1103682\", \"Osteoarthritis and Cartilage\", 86], [\"jour.1102504\", \"Human Molecular Genetics\", 86], [\"jour.1103682\", \"Osteoarthritis and Cartilage\", 86], [\"jour.1103682\", \"Osteoarthritis and Cartilage\", 86], [\"jour.1102504\", \"Human Molecular Genetics\", 86], [\"jour.1102504\", \"Human Molecular Genetics\", 86], [\"jour.1045271\", \"Translational Psychiatry\", 79], [\"jour.1101916\", \"Cancer Epidemiology Biomarkers & Prevention\", 79], [\"jour.1045271\", \"Translational Psychiatry\", 79], [\"jour.1101916\", \"Cancer Epidemiology Biomarkers & Prevention\", 79], [\"jour.1045271\", \"Translational Psychiatry\", 79], [\"jour.1101916\", \"Cancer Epidemiology Biomarkers & Prevention\", 79], [\"jour.1276748\", \"SSRN Electronic Journal\", 75], [\"jour.1276748\", \"SSRN Electronic Journal\", 75], [\"jour.1276748\", \"SSRN Electronic Journal\", 75], [\"jour.1001482\", \"Diabetologia\", 73], [\"jour.1001482\", \"Diabetologia\", 73], [\"jour.1001482\", \"Diabetologia\", 73], [\"jour.1017738\", \"The Journal of Clinical Endocrinology & Metabolism\", 71], [\"jour.1017738\", \"The Journal of Clinical Endocrinology & Metabolism\", 71], [\"jour.1017738\", \"The Journal of Clinical Endocrinology & Metabolism\", 71], [\"jour.1103715\", \"Diabetes Care\", 69], [\"jour.1103715\", \"Diabetes Care\", 69], [\"jour.1103715\", \"Diabetes Care\", 69], [\"jour.1046624\", \"Journal of the American Heart Association\", 62], [\"jour.1046624\", \"Journal of the American Heart Association\", 62], [\"jour.1046624\", \"Journal of the American Heart Association\", 62], [\"jour.1100417\", \"Annals of Oncology\", 59], [\"jour.1100417\", \"Annals of Oncology\", 59], [\"jour.1095636\", \"European Journal of Epidemiology\", 59], [\"jour.1095636\", \"European Journal of Epidemiology\", 59], [\"jour.1100417\", \"Annals of Oncology\", 59], [\"jour.1054214\", \"Psychological Medicine\", 59], [\"jour.1054214\", \"Psychological Medicine\", 59], [\"jour.1054214\", \"Psychological Medicine\", 59], [\"jour.1095636\", \"European Journal of Epidemiology\", 59], [\"jour.1044693\", \"BMJ Open\", 57], [\"jour.1044693\", \"BMJ Open\", 57], [\"jour.1044693\", \"BMJ Open\", 57], [\"jour.1019114\", \"Cell\", 56], [\"jour.1103410\", \"European Journal of Human Genetics\", 56], [\"jour.1019114\", \"Cell\", 56], [\"jour.1103410\", \"European Journal of Human Genetics\", 56], [\"jour.1019114\", \"Cell\", 56]], \"hovertemplate\": \"<b>%{hovertext}</b><br><br>journal.title=%{customdata[1]}<br>total_year=%{y}<br>journal.id=%{customdata[0]}<br>total=%{customdata[2]}<br>year=%{marker.color}<extra></extra>\", \"hovertext\": [\"bioRxiv\", \"bioRxiv\", \"bioRxiv\", \"European Neuropsychopharmacology\", \"European Neuropsychopharmacology\", \"European Neuropsychopharmacology\", \"Nature Communications\", \"Nature Communications\", \"Nature Communications\", \"Scientific Reports\", \"Scientific Reports\", \"Scientific Reports\", \"PLoS ONE\", \"PLoS ONE\", \"PLoS ONE\", \"Alzheimer's & Dementia\", \"Alzheimer's & Dementia\", \"Alzheimer's & Dementia\", \"European Heart Journal\", \"European Heart Journal\", \"European Heart Journal\", \"International Journal of Cancer\", \"International Journal of Cancer\", \"International Journal of Cancer\", \"Circulation\", \"Circulation\", \"Circulation\", \"medRxiv\", \"medRxiv\", \"Molecular Psychiatry\", \"Molecular Psychiatry\", \"Molecular Psychiatry\", \"Journal of the American College of Cardiology\", \"Journal of the American College of Cardiology\", \"Journal of the American College of Cardiology\", \"Journal of Clinical Oncology\", \"Journal of Clinical Oncology\", \"Journal of Clinical Oncology\", \"International Journal of Epidemiology\", \"International Journal of Epidemiology\", \"International Journal of Epidemiology\", \"Biological Psychiatry\", \"Biological Psychiatry\", \"Biological Psychiatry\", \"Diabetes\", \"Diabetes\", \"Diabetes\", \"American Journal of Human Genetics\", \"American Journal of Human Genetics\", \"Blood\", \"Blood\", \"American Journal of Human Genetics\", \"Blood\", \"Atherosclerosis\", \"Atherosclerosis\", \"Atherosclerosis\", \"Osteoarthritis and Cartilage\", \"Human Molecular Genetics\", \"Osteoarthritis and Cartilage\", \"Osteoarthritis and Cartilage\", \"Human Molecular Genetics\", \"Human Molecular Genetics\", \"Translational Psychiatry\", \"Cancer Epidemiology Biomarkers & Prevention\", \"Translational Psychiatry\", \"Cancer Epidemiology Biomarkers & Prevention\", \"Translational Psychiatry\", \"Cancer Epidemiology Biomarkers & Prevention\", \"SSRN Electronic Journal\", \"SSRN Electronic Journal\", \"SSRN Electronic Journal\", \"Diabetologia\", \"Diabetologia\", \"Diabetologia\", \"The Journal of Clinical Endocrinology & Metabolism\", \"The Journal of Clinical Endocrinology & Metabolism\", \"The Journal of Clinical Endocrinology & Metabolism\", \"Diabetes Care\", \"Diabetes Care\", \"Diabetes Care\", \"Journal of the American Heart Association\", \"Journal of the American Heart Association\", \"Journal of the American Heart Association\", \"Annals of Oncology\", \"Annals of Oncology\", \"European Journal of Epidemiology\", \"European Journal of Epidemiology\", \"Annals of Oncology\", \"Psychological Medicine\", \"Psychological Medicine\", \"Psychological Medicine\", \"European Journal of Epidemiology\", \"BMJ Open\", \"BMJ Open\", \"BMJ Open\", \"Cell\", \"European Journal of Human Genetics\", \"Cell\", \"European Journal of Human Genetics\", \"Cell\"], \"legendgroup\": \"\", \"marker\": {\"color\": [2020, 2019, 2018, 2018, 2020, 2019, 2019, 2020, 2018, 2018, 2020, 2019, 2020, 2019, 2018, 2018, 2019, 2020, 2018, 2019, 2020, 2018, 2019, 2020, 2018, 2019, 2020, 2019, 2020, 2020, 2019, 2018, 2020, 2019, 2018, 2018, 2019, 2020, 2020, 2018, 2019, 2020, 2018, 2019, 2020, 2018, 2019, 2018, 2020, 2019, 2020, 2019, 2018, 2020, 2019, 2018, 2019, 2019, 2018, 2020, 2018, 2020, 2018, 2019, 2019, 2018, 2020, 2020, 2020, 2019, 2018, 2020, 2018, 2019, 2018, 2020, 2019, 2019, 2018, 2020, 2020, 2018, 2019, 2018, 2020, 2019, 2018, 2019, 2018, 2020, 2019, 2020, 2018, 2020, 2019, 2019, 2019, 2020, 2020, 2018], \"coloraxis\": \"coloraxis\"}, \"name\": \"\", \"offsetgroup\": \"\", \"orientation\": \"v\", \"showlegend\": false, \"textposition\": \"auto\", \"type\": \"bar\", \"x\": [\"bioRxiv\", \"bioRxiv\", \"bioRxiv\", \"European Neuropsychopharmacology\", \"European Neuropsychopharmacology\", \"European Neuropsychopharmacology\", \"Nature Communications\", \"Nature Communications\", \"Nature Communications\", \"Scientific Reports\", \"Scientific Reports\", \"Scientific Reports\", \"PLoS ONE\", \"PLoS ONE\", \"PLoS ONE\", \"Alzheimer's & Dementia\", \"Alzheimer's & Dementia\", \"Alzheimer's & Dementia\", \"European Heart Journal\", \"European Heart Journal\", \"European Heart Journal\", \"International Journal of Cancer\", \"International Journal of Cancer\", \"International Journal of Cancer\", \"Circulation\", \"Circulation\", \"Circulation\", \"medRxiv\", \"medRxiv\", \"Molecular Psychiatry\", \"Molecular Psychiatry\", \"Molecular Psychiatry\", \"Journal of the American College of Cardiology\", \"Journal of the American College of Cardiology\", \"Journal of the American College of Cardiology\", \"Journal of Clinical Oncology\", \"Journal of Clinical Oncology\", \"Journal of Clinical Oncology\", \"International Journal of Epidemiology\", \"International Journal of Epidemiology\", \"International Journal of Epidemiology\", \"Biological Psychiatry\", \"Biological Psychiatry\", \"Biological Psychiatry\", \"Diabetes\", \"Diabetes\", \"Diabetes\", \"American Journal of Human Genetics\", \"American Journal of Human Genetics\", \"Blood\", \"Blood\", \"American Journal of Human Genetics\", \"Blood\", \"Atherosclerosis\", \"Atherosclerosis\", \"Atherosclerosis\", \"Osteoarthritis and Cartilage\", \"Human Molecular Genetics\", \"Osteoarthritis and Cartilage\", \"Osteoarthritis and Cartilage\", \"Human Molecular Genetics\", \"Human Molecular Genetics\", \"Translational Psychiatry\", \"Cancer Epidemiology Biomarkers & Prevention\", \"Translational Psychiatry\", \"Cancer Epidemiology Biomarkers & Prevention\", \"Translational Psychiatry\", \"Cancer Epidemiology Biomarkers & Prevention\", \"SSRN Electronic Journal\", \"SSRN Electronic Journal\", \"SSRN Electronic Journal\", \"Diabetologia\", \"Diabetologia\", \"Diabetologia\", \"The Journal of Clinical Endocrinology & Metabolism\", \"The Journal of Clinical Endocrinology & Metabolism\", \"The Journal of Clinical Endocrinology & Metabolism\", \"Diabetes Care\", \"Diabetes Care\", \"Diabetes Care\", \"Journal of the American Heart Association\", \"Journal of the American Heart Association\", \"Journal of the American Heart Association\", \"Annals of Oncology\", \"Annals of Oncology\", \"European Journal of Epidemiology\", \"European Journal of Epidemiology\", \"Annals of Oncology\", \"Psychological Medicine\", \"Psychological Medicine\", \"Psychological Medicine\", \"European Journal of Epidemiology\", \"BMJ Open\", \"BMJ Open\", \"BMJ Open\", \"Cell\", \"European Journal of Human Genetics\", \"Cell\", \"European Journal of Human Genetics\", \"Cell\"], \"xaxis\": \"x\", \"y\": [106, 563, 482, 8, 4, 468, 129, 43, 125, 110, 21, 91, 20, 67, 93, 82, 89, 4, 81, 71, 14, 56, 46, 43, 27, 67, 45, 58, 66, 11, 53, 54, 30, 52, 31, 58, 40, 7, 21, 35, 44, 12, 49, 38, 4, 38, 51, 30, 13, 42, 4, 47, 44, 12, 39, 37, 35, 40, 42, 9, 39, 7, 32, 27, 36, 30, 11, 22, 8, 36, 31, 11, 34, 28, 29, 18, 24, 29, 25, 15, 12, 26, 24, 25, 2, 26, 22, 32, 23, 7, 29, 11, 24, 7, 26, 25, 21, 6, 17, 25], \"yaxis\": \"y\"}],\n",
       "                        {\"barmode\": \"relative\", \"coloraxis\": {\"colorbar\": {\"title\": {\"text\": \"year\"}}, \"colorscale\": [[0.0, \"#0d0887\"], [0.1111111111111111, \"#46039f\"], [0.2222222222222222, \"#7201a8\"], [0.3333333333333333, \"#9c179e\"], [0.4444444444444444, \"#bd3786\"], [0.5555555555555556, \"#d8576b\"], [0.6666666666666666, \"#ed7953\"], [0.7777777777777778, \"#fb9f3a\"], [0.8888888888888888, \"#fdca26\"], [1.0, \"#f0f921\"]]}, \"legend\": {\"tracegroupgap\": 0}, \"template\": {\"data\": {\"bar\": [{\"error_x\": {\"color\": \"#2a3f5f\"}, \"error_y\": {\"color\": \"#2a3f5f\"}, \"marker\": {\"line\": {\"color\": \"#E5ECF6\", \"width\": 0.5}}, \"type\": \"bar\"}], \"barpolar\": [{\"marker\": {\"line\": {\"color\": \"#E5ECF6\", \"width\": 0.5}}, \"type\": \"barpolar\"}], \"carpet\": [{\"aaxis\": {\"endlinecolor\": \"#2a3f5f\", \"gridcolor\": \"white\", \"linecolor\": \"white\", \"minorgridcolor\": \"white\", \"startlinecolor\": \"#2a3f5f\"}, \"baxis\": {\"endlinecolor\": \"#2a3f5f\", \"gridcolor\": \"white\", \"linecolor\": \"white\", \"minorgridcolor\": \"white\", \"startlinecolor\": \"#2a3f5f\"}, \"type\": \"carpet\"}], \"choropleth\": [{\"colorbar\": {\"outlinewidth\": 0, \"ticks\": \"\"}, \"type\": \"choropleth\"}], \"contour\": [{\"colorbar\": {\"outlinewidth\": 0, \"ticks\": \"\"}, \"colorscale\": [[0.0, \"#0d0887\"], [0.1111111111111111, \"#46039f\"], [0.2222222222222222, \"#7201a8\"], [0.3333333333333333, \"#9c179e\"], [0.4444444444444444, \"#bd3786\"], [0.5555555555555556, \"#d8576b\"], [0.6666666666666666, \"#ed7953\"], [0.7777777777777778, \"#fb9f3a\"], [0.8888888888888888, \"#fdca26\"], [1.0, \"#f0f921\"]], \"type\": \"contour\"}], \"contourcarpet\": [{\"colorbar\": {\"outlinewidth\": 0, \"ticks\": \"\"}, \"type\": \"contourcarpet\"}], \"heatmap\": [{\"colorbar\": {\"outlinewidth\": 0, \"ticks\": \"\"}, \"colorscale\": [[0.0, \"#0d0887\"], [0.1111111111111111, \"#46039f\"], [0.2222222222222222, \"#7201a8\"], [0.3333333333333333, \"#9c179e\"], [0.4444444444444444, \"#bd3786\"], [0.5555555555555556, \"#d8576b\"], [0.6666666666666666, \"#ed7953\"], [0.7777777777777778, \"#fb9f3a\"], [0.8888888888888888, \"#fdca26\"], [1.0, \"#f0f921\"]], \"type\": \"heatmap\"}], \"heatmapgl\": [{\"colorbar\": {\"outlinewidth\": 0, \"ticks\": \"\"}, \"colorscale\": [[0.0, \"#0d0887\"], [0.1111111111111111, \"#46039f\"], [0.2222222222222222, \"#7201a8\"], [0.3333333333333333, \"#9c179e\"], [0.4444444444444444, \"#bd3786\"], [0.5555555555555556, \"#d8576b\"], [0.6666666666666666, \"#ed7953\"], [0.7777777777777778, \"#fb9f3a\"], [0.8888888888888888, \"#fdca26\"], [1.0, \"#f0f921\"]], \"type\": \"heatmapgl\"}], \"histogram\": [{\"marker\": {\"colorbar\": {\"outlinewidth\": 0, \"ticks\": \"\"}}, \"type\": \"histogram\"}], \"histogram2d\": [{\"colorbar\": {\"outlinewidth\": 0, \"ticks\": \"\"}, \"colorscale\": [[0.0, \"#0d0887\"], [0.1111111111111111, \"#46039f\"], [0.2222222222222222, \"#7201a8\"], [0.3333333333333333, \"#9c179e\"], [0.4444444444444444, \"#bd3786\"], [0.5555555555555556, \"#d8576b\"], [0.6666666666666666, \"#ed7953\"], [0.7777777777777778, \"#fb9f3a\"], [0.8888888888888888, \"#fdca26\"], [1.0, \"#f0f921\"]], \"type\": \"histogram2d\"}], \"histogram2dcontour\": [{\"colorbar\": {\"outlinewidth\": 0, \"ticks\": \"\"}, \"colorscale\": [[0.0, \"#0d0887\"], [0.1111111111111111, \"#46039f\"], [0.2222222222222222, \"#7201a8\"], [0.3333333333333333, \"#9c179e\"], [0.4444444444444444, \"#bd3786\"], [0.5555555555555556, \"#d8576b\"], [0.6666666666666666, \"#ed7953\"], [0.7777777777777778, \"#fb9f3a\"], [0.8888888888888888, \"#fdca26\"], [1.0, \"#f0f921\"]], \"type\": \"histogram2dcontour\"}], \"mesh3d\": [{\"colorbar\": {\"outlinewidth\": 0, \"ticks\": \"\"}, \"type\": \"mesh3d\"}], \"parcoords\": [{\"line\": {\"colorbar\": {\"outlinewidth\": 0, \"ticks\": \"\"}}, \"type\": \"parcoords\"}], \"pie\": [{\"automargin\": true, \"type\": \"pie\"}], \"scatter\": [{\"marker\": {\"colorbar\": {\"outlinewidth\": 0, \"ticks\": \"\"}}, \"type\": \"scatter\"}], \"scatter3d\": [{\"line\": {\"colorbar\": {\"outlinewidth\": 0, \"ticks\": \"\"}}, \"marker\": {\"colorbar\": {\"outlinewidth\": 0, \"ticks\": \"\"}}, \"type\": \"scatter3d\"}], \"scattercarpet\": [{\"marker\": {\"colorbar\": {\"outlinewidth\": 0, \"ticks\": \"\"}}, \"type\": \"scattercarpet\"}], \"scattergeo\": [{\"marker\": {\"colorbar\": {\"outlinewidth\": 0, \"ticks\": \"\"}}, \"type\": \"scattergeo\"}], \"scattergl\": [{\"marker\": {\"colorbar\": {\"outlinewidth\": 0, \"ticks\": \"\"}}, \"type\": \"scattergl\"}], \"scattermapbox\": [{\"marker\": {\"colorbar\": {\"outlinewidth\": 0, \"ticks\": \"\"}}, \"type\": \"scattermapbox\"}], \"scatterpolar\": [{\"marker\": {\"colorbar\": {\"outlinewidth\": 0, \"ticks\": \"\"}}, \"type\": \"scatterpolar\"}], \"scatterpolargl\": [{\"marker\": {\"colorbar\": {\"outlinewidth\": 0, \"ticks\": \"\"}}, \"type\": \"scatterpolargl\"}], \"scatterternary\": [{\"marker\": {\"colorbar\": {\"outlinewidth\": 0, \"ticks\": \"\"}}, \"type\": \"scatterternary\"}], \"surface\": [{\"colorbar\": {\"outlinewidth\": 0, \"ticks\": \"\"}, \"colorscale\": [[0.0, \"#0d0887\"], [0.1111111111111111, \"#46039f\"], [0.2222222222222222, \"#7201a8\"], [0.3333333333333333, \"#9c179e\"], [0.4444444444444444, \"#bd3786\"], [0.5555555555555556, \"#d8576b\"], [0.6666666666666666, \"#ed7953\"], [0.7777777777777778, \"#fb9f3a\"], [0.8888888888888888, \"#fdca26\"], [1.0, \"#f0f921\"]], \"type\": \"surface\"}], \"table\": [{\"cells\": {\"fill\": {\"color\": \"#EBF0F8\"}, \"line\": {\"color\": \"white\"}}, \"header\": {\"fill\": {\"color\": \"#C8D4E3\"}, \"line\": {\"color\": \"white\"}}, \"type\": \"table\"}]}, \"layout\": {\"annotationdefaults\": {\"arrowcolor\": \"#2a3f5f\", \"arrowhead\": 0, \"arrowwidth\": 1}, \"coloraxis\": {\"colorbar\": {\"outlinewidth\": 0, \"ticks\": \"\"}}, \"colorscale\": {\"diverging\": [[0, \"#8e0152\"], [0.1, \"#c51b7d\"], [0.2, \"#de77ae\"], [0.3, \"#f1b6da\"], [0.4, \"#fde0ef\"], [0.5, \"#f7f7f7\"], [0.6, \"#e6f5d0\"], [0.7, \"#b8e186\"], [0.8, \"#7fbc41\"], [0.9, \"#4d9221\"], [1, \"#276419\"]], \"sequential\": [[0.0, \"#0d0887\"], [0.1111111111111111, \"#46039f\"], [0.2222222222222222, \"#7201a8\"], [0.3333333333333333, \"#9c179e\"], [0.4444444444444444, \"#bd3786\"], [0.5555555555555556, \"#d8576b\"], [0.6666666666666666, \"#ed7953\"], [0.7777777777777778, \"#fb9f3a\"], [0.8888888888888888, \"#fdca26\"], [1.0, \"#f0f921\"]], \"sequentialminus\": [[0.0, \"#0d0887\"], [0.1111111111111111, \"#46039f\"], [0.2222222222222222, \"#7201a8\"], [0.3333333333333333, \"#9c179e\"], [0.4444444444444444, \"#bd3786\"], [0.5555555555555556, \"#d8576b\"], [0.6666666666666666, \"#ed7953\"], [0.7777777777777778, \"#fb9f3a\"], [0.8888888888888888, \"#fdca26\"], [1.0, \"#f0f921\"]]}, \"colorway\": [\"#636efa\", \"#EF553B\", \"#00cc96\", \"#ab63fa\", \"#FFA15A\", \"#19d3f3\", \"#FF6692\", \"#B6E880\", \"#FF97FF\", \"#FECB52\"], \"font\": {\"color\": \"#2a3f5f\"}, \"geo\": {\"bgcolor\": \"white\", \"lakecolor\": \"white\", \"landcolor\": \"#E5ECF6\", \"showlakes\": true, \"showland\": true, \"subunitcolor\": \"white\"}, \"hoverlabel\": {\"align\": \"left\"}, \"hovermode\": \"closest\", \"mapbox\": {\"style\": \"light\"}, \"paper_bgcolor\": \"white\", \"plot_bgcolor\": \"#E5ECF6\", \"polar\": {\"angularaxis\": {\"gridcolor\": \"white\", \"linecolor\": \"white\", \"ticks\": \"\"}, \"bgcolor\": \"#E5ECF6\", \"radialaxis\": {\"gridcolor\": \"white\", \"linecolor\": \"white\", \"ticks\": \"\"}}, \"scene\": {\"xaxis\": {\"backgroundcolor\": \"#E5ECF6\", \"gridcolor\": \"white\", \"gridwidth\": 2, \"linecolor\": \"white\", \"showbackground\": true, \"ticks\": \"\", \"zerolinecolor\": \"white\"}, \"yaxis\": {\"backgroundcolor\": \"#E5ECF6\", \"gridcolor\": \"white\", \"gridwidth\": 2, \"linecolor\": \"white\", \"showbackground\": true, \"ticks\": \"\", \"zerolinecolor\": \"white\"}, \"zaxis\": {\"backgroundcolor\": \"#E5ECF6\", \"gridcolor\": \"white\", \"gridwidth\": 2, \"linecolor\": \"white\", \"showbackground\": true, \"ticks\": \"\", \"zerolinecolor\": \"white\"}}, \"shapedefaults\": {\"line\": {\"color\": \"#2a3f5f\"}}, \"ternary\": {\"aaxis\": {\"gridcolor\": \"white\", \"linecolor\": \"white\", \"ticks\": \"\"}, \"baxis\": {\"gridcolor\": \"white\", \"linecolor\": \"white\", \"ticks\": \"\"}, \"bgcolor\": \"#E5ECF6\", \"caxis\": {\"gridcolor\": \"white\", \"linecolor\": \"white\", \"ticks\": \"\"}}, \"title\": {\"x\": 0.05}, \"xaxis\": {\"automargin\": true, \"gridcolor\": \"white\", \"linecolor\": \"white\", \"ticks\": \"\", \"title\": {\"standoff\": 15}, \"zerolinecolor\": \"white\", \"zerolinewidth\": 2}, \"yaxis\": {\"automargin\": true, \"gridcolor\": \"white\", \"linecolor\": \"white\", \"ticks\": \"\", \"title\": {\"standoff\": 15}, \"zerolinecolor\": \"white\", \"zerolinewidth\": 2}}}, \"title\": {\"text\": \"Top 100 competitors for jour.1103138 (based on publications data from 2018)\"}, \"xaxis\": {\"anchor\": \"y\", \"domain\": [0.0, 1.0], \"title\": {\"text\": \"journal.title\"}}, \"yaxis\": {\"anchor\": \"x\", \"domain\": [0.0, 1.0], \"title\": {\"text\": \"total_year\"}}},\n",
       "                        {\"responsive\": true}\n",
       "                    ).then(function(){\n",
       "                            \n",
       "var gd = document.getElementById('764967db-904d-4a9f-9557-56df76a736fa');\n",
       "var x = new MutationObserver(function (mutations, observer) {{\n",
       "        var display = window.getComputedStyle(gd).display;\n",
       "        if (!display || display === 'none') {{\n",
       "            console.log([gd, 'removed!']);\n",
       "            Plotly.purge(gd);\n",
       "            observer.disconnect();\n",
       "        }}\n",
       "}});\n",
       "\n",
       "// Listen for the removal of the full notebook cells\n",
       "var notebookContainer = gd.closest('#notebook-container');\n",
       "if (notebookContainer) {{\n",
       "    x.observe(notebookContainer, {childList: true});\n",
       "}}\n",
       "\n",
       "// Listen for the clearing of the current output cell\n",
       "var outputEl = gd.closest('.output');\n",
       "if (outputEl) {{\n",
       "    x.observe(outputEl, {childList: true});\n",
       "}}\n",
       "\n",
       "                        })\n",
       "                };\n",
       "                });\n",
       "            </script>\n",
       "        </div>"
      ]
     },
     "metadata": {},
     "output_type": "display_data"
    }
   ],
   "source": [
    "\n",
    "threshold = 100\n",
    "temp = journals.sort_values(\"total\", ascending=False)[:threshold]\n",
    "\n",
    "px.bar(journals[:threshold], \n",
    "       x=\"journal.title\", y=\"total_year\", \n",
    "       color=\"year\",\n",
    "       hover_name=\"journal.title\", \n",
    "       hover_data=['journal.id', 'journal.title', 'total' ], \n",
    "       title=f\"Top {threshold} competitors for {journal_id} (based on publications data from {start_year})\")"
   ]
  },
  {
   "cell_type": "code",
   "execution_count": 52,
   "metadata": {
    "Collapsed": "false"
   },
   "outputs": [
    {
     "data": {
      "application/vnd.plotly.v1+json": {
       "config": {
        "plotlyServerURL": "https://plot.ly"
       },
       "data": [
        {
         "alignmentgroup": "True",
         "customdata": [
          [
           "jour.1293558",
           "bioRxiv",
           1151
          ],
          [
           "jour.1101548",
           "European Neuropsychopharmacology",
           480
          ],
          [
           "jour.1043282",
           "Nature Communications",
           297
          ],
          [
           "jour.1045337",
           "Scientific Reports",
           222
          ],
          [
           "jour.1037553",
           "PLoS ONE",
           180
          ],
          [
           "jour.1034467",
           "Alzheimer's & Dementia",
           175
          ],
          [
           "jour.1091325",
           "European Heart Journal",
           166
          ],
          [
           "jour.1358156",
           "International Journal of Cancer",
           145
          ],
          [
           "jour.1009570",
           "Circulation",
           139
          ],
          [
           "jour.1369542",
           "medRxiv",
           124
          ],
          [
           "jour.1115540",
           "Molecular Psychiatry",
           118
          ],
          [
           "jour.1093746",
           "Journal of the American College of Cardiology",
           113
          ],
          [
           "jour.1312191",
           "Journal of Clinical Oncology",
           105
          ],
          [
           "jour.1087544",
           "International Journal of Epidemiology",
           100
          ],
          [
           "jour.1012129",
           "Biological Psychiatry",
           99
          ],
          [
           "jour.1017423",
           "Diabetes",
           93
          ],
          [
           "jour.1017012",
           "American Journal of Human Genetics",
           90
          ],
          [
           "jour.1085025",
           "Blood",
           90
          ],
          [
           "jour.1013420",
           "Atherosclerosis",
           88
          ],
          [
           "jour.1103682",
           "Osteoarthritis and Cartilage",
           86
          ],
          [
           "jour.1102504",
           "Human Molecular Genetics",
           86
          ],
          [
           "jour.1045271",
           "Translational Psychiatry",
           79
          ],
          [
           "jour.1101916",
           "Cancer Epidemiology Biomarkers & Prevention",
           79
          ],
          [
           "jour.1276748",
           "SSRN Electronic Journal",
           75
          ],
          [
           "jour.1001482",
           "Diabetologia",
           73
          ],
          [
           "jour.1017738",
           "The Journal of Clinical Endocrinology & Metabolism",
           71
          ],
          [
           "jour.1103715",
           "Diabetes Care",
           69
          ],
          [
           "jour.1046624",
           "Journal of the American Heart Association",
           62
          ],
          [
           "jour.1100417",
           "Annals of Oncology",
           59
          ],
          [
           "jour.1054214",
           "Psychological Medicine",
           59
          ],
          [
           "jour.1095636",
           "European Journal of Epidemiology",
           59
          ],
          [
           "jour.1044693",
           "BMJ Open",
           57
          ],
          [
           "jour.1019114",
           "Cell",
           56
          ],
          [
           "jour.1103410",
           "European Journal of Human Genetics",
           56
          ],
          [
           "jour.1018957",
           "Nature",
           54
          ],
          [
           "jour.1358108",
           "Journal of the National Cancer Institute",
           52
          ],
          [
           "jour.1034974",
           "PLOS Genetics",
           48
          ],
          [
           "jour.1284430",
           "Wellcome Open Research",
           47
          ],
          [
           "jour.1017790",
           "American Journal of Clinical Nutrition",
           47
          ],
          [
           "jour.1017616",
           "Gastroenterology",
           43
          ],
          [
           "jour.1119411",
           "Genetics in Medicine",
           42
          ],
          [
           "jour.1035838",
           "International Journal of Obesity",
           42
          ],
          [
           "jour.1092777",
           "Breast Cancer Research and Treatment",
           41
          ],
          [
           "jour.1040791",
           "Circulation Genomic and Precision Medicine",
           41
          ],
          [
           "jour.1094974",
           "Genetic Epidemiology",
           41
          ],
          [
           "jour.1297397",
           "Twin Research and Human Genetics",
           40
          ],
          [
           "jour.1346339",
           "Science",
           40
          ],
          [
           "jour.1042723",
           "Nutrients",
           40
          ],
          [
           "jour.1034427",
           "PLoS Medicine",
           40
          ],
          [
           "jour.1013101",
           "Stroke",
           39
          ],
          [
           "jour.1017377",
           "The BMJ",
           39
          ],
          [
           "jour.1094093",
           "Journal of Hypertension",
           38
          ],
          [
           "jour.1113743",
           "The Journals of Gerontology Series A",
           38
          ],
          [
           "jour.1089762",
           "Journal of Affective Disorders",
           37
          ],
          [
           "jour.1018238",
           "Neurology",
           37
          ],
          [
           "jour.1045144",
           "Frontiers in Genetics",
           36
          ],
          [
           "jour.1042271",
           "Clinical Epigenetics",
           36
          ],
          [
           "jour.1017081",
           "Heart",
           36
          ],
          [
           "jour.1013236",
           "Schizophrenia Bulletin",
           36
          ],
          [
           "jour.1091979",
           "Neurobiology of Aging",
           36
          ],
          [
           "jour.1097961",
           "Schizophrenia Research",
           35
          ],
          [
           "jour.1119070",
           "Journal of Alzheimer's Disease",
           35
          ],
          [
           "jour.1313661",
           "International Journal of Cardiology",
           35
          ],
          [
           "jour.1345383",
           "Bioinformatics",
           35
          ],
          [
           "jour.1090493",
           "American Journal of Epidemiology",
           35
          ]
         ],
         "hovertemplate": "<b>%{hovertext}</b><br><br>year=%{marker.color}<br>journal.title=%{customdata[1]}<br>total_year=%{y}<br>journal.id=%{customdata[0]}<br>total=%{customdata[2]}<extra></extra>",
         "hovertext": [
          "bioRxiv",
          "European Neuropsychopharmacology",
          "Nature Communications",
          "Scientific Reports",
          "PLoS ONE",
          "Alzheimer's & Dementia",
          "European Heart Journal",
          "International Journal of Cancer",
          "Circulation",
          "medRxiv",
          "Molecular Psychiatry",
          "Journal of the American College of Cardiology",
          "Journal of Clinical Oncology",
          "International Journal of Epidemiology",
          "Biological Psychiatry",
          "Diabetes",
          "American Journal of Human Genetics",
          "Blood",
          "Atherosclerosis",
          "Osteoarthritis and Cartilage",
          "Human Molecular Genetics",
          "Translational Psychiatry",
          "Cancer Epidemiology Biomarkers & Prevention",
          "SSRN Electronic Journal",
          "Diabetologia",
          "The Journal of Clinical Endocrinology & Metabolism",
          "Diabetes Care",
          "Journal of the American Heart Association",
          "Annals of Oncology",
          "Psychological Medicine",
          "European Journal of Epidemiology",
          "BMJ Open",
          "Cell",
          "European Journal of Human Genetics",
          "Nature",
          "Journal of the National Cancer Institute",
          "PLOS Genetics",
          "Wellcome Open Research",
          "American Journal of Clinical Nutrition",
          "Gastroenterology",
          "Genetics in Medicine",
          "International Journal of Obesity",
          "Breast Cancer Research and Treatment",
          "Circulation Genomic and Precision Medicine",
          "Genetic Epidemiology",
          "Twin Research and Human Genetics",
          "Science",
          "Nutrients",
          "PLoS Medicine",
          "Stroke",
          "The BMJ",
          "Journal of Hypertension",
          "The Journals of Gerontology Series A",
          "Journal of Affective Disorders",
          "Neurology",
          "Frontiers in Genetics",
          "Clinical Epigenetics",
          "Heart",
          "Schizophrenia Bulletin",
          "Neurobiology of Aging",
          "Schizophrenia Research",
          "Journal of Alzheimer's Disease",
          "International Journal of Cardiology",
          "Bioinformatics",
          "American Journal of Epidemiology"
         ],
         "legendgroup": "",
         "marker": {
          "color": [
           2020,
           2020,
           2020,
           2020,
           2020,
           2020,
           2020,
           2020,
           2020,
           2020,
           2020,
           2020,
           2020,
           2020,
           2020,
           2020,
           2020,
           2020,
           2020,
           2020,
           2020,
           2020,
           2020,
           2020,
           2020,
           2020,
           2020,
           2020,
           2020,
           2020,
           2020,
           2020,
           2020,
           2020,
           2020,
           2020,
           2020,
           2020,
           2020,
           2020,
           2020,
           2020,
           2020,
           2020,
           2020,
           2020,
           2020,
           2020,
           2020,
           2020,
           2020,
           2020,
           2020,
           2020,
           2020,
           2020,
           2020,
           2020,
           2020,
           2020,
           2020,
           2020,
           2020,
           2020,
           2020
          ],
          "coloraxis": "coloraxis"
         },
         "name": "",
         "offsetgroup": "",
         "orientation": "v",
         "showlegend": false,
         "textposition": "auto",
         "type": "bar",
         "x": [
          "bioRxiv",
          "European Neuropsychopharmacology",
          "Nature Communications",
          "Scientific Reports",
          "PLoS ONE",
          "Alzheimer's & Dementia",
          "European Heart Journal",
          "International Journal of Cancer",
          "Circulation",
          "medRxiv",
          "Molecular Psychiatry",
          "Journal of the American College of Cardiology",
          "Journal of Clinical Oncology",
          "International Journal of Epidemiology",
          "Biological Psychiatry",
          "Diabetes",
          "American Journal of Human Genetics",
          "Blood",
          "Atherosclerosis",
          "Osteoarthritis and Cartilage",
          "Human Molecular Genetics",
          "Translational Psychiatry",
          "Cancer Epidemiology Biomarkers & Prevention",
          "SSRN Electronic Journal",
          "Diabetologia",
          "The Journal of Clinical Endocrinology & Metabolism",
          "Diabetes Care",
          "Journal of the American Heart Association",
          "Annals of Oncology",
          "Psychological Medicine",
          "European Journal of Epidemiology",
          "BMJ Open",
          "Cell",
          "European Journal of Human Genetics",
          "Nature",
          "Journal of the National Cancer Institute",
          "PLOS Genetics",
          "Wellcome Open Research",
          "American Journal of Clinical Nutrition",
          "Gastroenterology",
          "Genetics in Medicine",
          "International Journal of Obesity",
          "Breast Cancer Research and Treatment",
          "Circulation Genomic and Precision Medicine",
          "Genetic Epidemiology",
          "Twin Research and Human Genetics",
          "Science",
          "Nutrients",
          "PLoS Medicine",
          "Stroke",
          "The BMJ",
          "Journal of Hypertension",
          "The Journals of Gerontology Series A",
          "Journal of Affective Disorders",
          "Neurology",
          "Frontiers in Genetics",
          "Clinical Epigenetics",
          "Heart",
          "Schizophrenia Bulletin",
          "Neurobiology of Aging",
          "Schizophrenia Research",
          "Journal of Alzheimer's Disease",
          "International Journal of Cardiology",
          "Bioinformatics",
          "American Journal of Epidemiology"
         ],
         "xaxis": "x3",
         "y": [
          106,
          4,
          43,
          21,
          20,
          4,
          14,
          43,
          45,
          66,
          11,
          30,
          7,
          21,
          12,
          4,
          13,
          4,
          12,
          9,
          7,
          11,
          22,
          8,
          11,
          18,
          15,
          12,
          2,
          7,
          11,
          7,
          6,
          17,
          7,
          14,
          7,
          3,
          11,
          9,
          9,
          6,
          3,
          4,
          8,
          2,
          4,
          6,
          3,
          10,
          5,
          3,
          11,
          8,
          5,
          5,
          4,
          5,
          1,
          4,
          4,
          3,
          3,
          4,
          7
         ],
         "yaxis": "y3"
        },
        {
         "alignmentgroup": "True",
         "customdata": [
          [
           "jour.1293558",
           "bioRxiv",
           1151
          ],
          [
           "jour.1101548",
           "European Neuropsychopharmacology",
           480
          ],
          [
           "jour.1043282",
           "Nature Communications",
           297
          ],
          [
           "jour.1045337",
           "Scientific Reports",
           222
          ],
          [
           "jour.1037553",
           "PLoS ONE",
           180
          ],
          [
           "jour.1034467",
           "Alzheimer's & Dementia",
           175
          ],
          [
           "jour.1091325",
           "European Heart Journal",
           166
          ],
          [
           "jour.1358156",
           "International Journal of Cancer",
           145
          ],
          [
           "jour.1009570",
           "Circulation",
           139
          ],
          [
           "jour.1369542",
           "medRxiv",
           124
          ],
          [
           "jour.1115540",
           "Molecular Psychiatry",
           118
          ],
          [
           "jour.1093746",
           "Journal of the American College of Cardiology",
           113
          ],
          [
           "jour.1312191",
           "Journal of Clinical Oncology",
           105
          ],
          [
           "jour.1087544",
           "International Journal of Epidemiology",
           100
          ],
          [
           "jour.1012129",
           "Biological Psychiatry",
           99
          ],
          [
           "jour.1017423",
           "Diabetes",
           93
          ],
          [
           "jour.1085025",
           "Blood",
           90
          ],
          [
           "jour.1017012",
           "American Journal of Human Genetics",
           90
          ],
          [
           "jour.1013420",
           "Atherosclerosis",
           88
          ],
          [
           "jour.1103682",
           "Osteoarthritis and Cartilage",
           86
          ],
          [
           "jour.1102504",
           "Human Molecular Genetics",
           86
          ],
          [
           "jour.1101916",
           "Cancer Epidemiology Biomarkers & Prevention",
           79
          ],
          [
           "jour.1045271",
           "Translational Psychiatry",
           79
          ],
          [
           "jour.1276748",
           "SSRN Electronic Journal",
           75
          ],
          [
           "jour.1001482",
           "Diabetologia",
           73
          ],
          [
           "jour.1017738",
           "The Journal of Clinical Endocrinology & Metabolism",
           71
          ],
          [
           "jour.1103715",
           "Diabetes Care",
           69
          ],
          [
           "jour.1046624",
           "Journal of the American Heart Association",
           62
          ],
          [
           "jour.1095636",
           "European Journal of Epidemiology",
           59
          ],
          [
           "jour.1100417",
           "Annals of Oncology",
           59
          ],
          [
           "jour.1054214",
           "Psychological Medicine",
           59
          ],
          [
           "jour.1044693",
           "BMJ Open",
           57
          ],
          [
           "jour.1019114",
           "Cell",
           56
          ],
          [
           "jour.1103410",
           "European Journal of Human Genetics",
           56
          ],
          [
           "jour.1018957",
           "Nature",
           54
          ],
          [
           "jour.1358108",
           "Journal of the National Cancer Institute",
           52
          ],
          [
           "jour.1034974",
           "PLOS Genetics",
           48
          ],
          [
           "jour.1284430",
           "Wellcome Open Research",
           47
          ],
          [
           "jour.1017790",
           "American Journal of Clinical Nutrition",
           47
          ],
          [
           "jour.1017122",
           "Geburtshilfe und Frauenheilkunde",
           46
          ],
          [
           "jour.1017616",
           "Gastroenterology",
           43
          ],
          [
           "jour.1119411",
           "Genetics in Medicine",
           42
          ],
          [
           "jour.1035838",
           "International Journal of Obesity",
           42
          ],
          [
           "jour.1094974",
           "Genetic Epidemiology",
           41
          ],
          [
           "jour.1040791",
           "Circulation Genomic and Precision Medicine",
           41
          ],
          [
           "jour.1092777",
           "Breast Cancer Research and Treatment",
           41
          ],
          [
           "jour.1346339",
           "Science",
           40
          ],
          [
           "jour.1034427",
           "PLoS Medicine",
           40
          ],
          [
           "jour.1042723",
           "Nutrients",
           40
          ],
          [
           "jour.1297397",
           "Twin Research and Human Genetics",
           40
          ],
          [
           "jour.1013101",
           "Stroke",
           39
          ],
          [
           "jour.1017377",
           "The BMJ",
           39
          ],
          [
           "jour.1113743",
           "The Journals of Gerontology Series A",
           38
          ],
          [
           "jour.1094093",
           "Journal of Hypertension",
           38
          ],
          [
           "jour.1137590",
           "Senologie - Zeitschrift für Mammadiagnostik und -therapie",
           38
          ],
          [
           "jour.1018238",
           "Neurology",
           37
          ],
          [
           "jour.1089762",
           "Journal of Affective Disorders",
           37
          ],
          [
           "jour.1091979",
           "Neurobiology of Aging",
           36
          ],
          [
           "jour.1042271",
           "Clinical Epigenetics",
           36
          ],
          [
           "jour.1013236",
           "Schizophrenia Bulletin",
           36
          ],
          [
           "jour.1017081",
           "Heart",
           36
          ],
          [
           "jour.1045144",
           "Frontiers in Genetics",
           36
          ],
          [
           "jour.1284558",
           "Innovation in Aging",
           35
          ],
          [
           "jour.1090493",
           "American Journal of Epidemiology",
           35
          ],
          [
           "jour.1119070",
           "Journal of Alzheimer's Disease",
           35
          ],
          [
           "jour.1097961",
           "Schizophrenia Research",
           35
          ],
          [
           "jour.1313661",
           "International Journal of Cardiology",
           35
          ],
          [
           "jour.1345383",
           "Bioinformatics",
           35
          ]
         ],
         "hovertemplate": "<b>%{hovertext}</b><br><br>year=%{marker.color}<br>journal.title=%{customdata[1]}<br>total_year=%{y}<br>journal.id=%{customdata[0]}<br>total=%{customdata[2]}<extra></extra>",
         "hovertext": [
          "bioRxiv",
          "European Neuropsychopharmacology",
          "Nature Communications",
          "Scientific Reports",
          "PLoS ONE",
          "Alzheimer's & Dementia",
          "European Heart Journal",
          "International Journal of Cancer",
          "Circulation",
          "medRxiv",
          "Molecular Psychiatry",
          "Journal of the American College of Cardiology",
          "Journal of Clinical Oncology",
          "International Journal of Epidemiology",
          "Biological Psychiatry",
          "Diabetes",
          "Blood",
          "American Journal of Human Genetics",
          "Atherosclerosis",
          "Osteoarthritis and Cartilage",
          "Human Molecular Genetics",
          "Cancer Epidemiology Biomarkers & Prevention",
          "Translational Psychiatry",
          "SSRN Electronic Journal",
          "Diabetologia",
          "The Journal of Clinical Endocrinology & Metabolism",
          "Diabetes Care",
          "Journal of the American Heart Association",
          "European Journal of Epidemiology",
          "Annals of Oncology",
          "Psychological Medicine",
          "BMJ Open",
          "Cell",
          "European Journal of Human Genetics",
          "Nature",
          "Journal of the National Cancer Institute",
          "PLOS Genetics",
          "Wellcome Open Research",
          "American Journal of Clinical Nutrition",
          "Geburtshilfe und Frauenheilkunde",
          "Gastroenterology",
          "Genetics in Medicine",
          "International Journal of Obesity",
          "Genetic Epidemiology",
          "Circulation Genomic and Precision Medicine",
          "Breast Cancer Research and Treatment",
          "Science",
          "PLoS Medicine",
          "Nutrients",
          "Twin Research and Human Genetics",
          "Stroke",
          "The BMJ",
          "The Journals of Gerontology Series A",
          "Journal of Hypertension",
          "Senologie - Zeitschrift für Mammadiagnostik und -therapie",
          "Neurology",
          "Journal of Affective Disorders",
          "Neurobiology of Aging",
          "Clinical Epigenetics",
          "Schizophrenia Bulletin",
          "Heart",
          "Frontiers in Genetics",
          "Innovation in Aging",
          "American Journal of Epidemiology",
          "Journal of Alzheimer's Disease",
          "Schizophrenia Research",
          "International Journal of Cardiology",
          "Bioinformatics"
         ],
         "legendgroup": "",
         "marker": {
          "color": [
           2019,
           2019,
           2019,
           2019,
           2019,
           2019,
           2019,
           2019,
           2019,
           2019,
           2019,
           2019,
           2019,
           2019,
           2019,
           2019,
           2019,
           2019,
           2019,
           2019,
           2019,
           2019,
           2019,
           2019,
           2019,
           2019,
           2019,
           2019,
           2019,
           2019,
           2019,
           2019,
           2019,
           2019,
           2019,
           2019,
           2019,
           2019,
           2019,
           2019,
           2019,
           2019,
           2019,
           2019,
           2019,
           2019,
           2019,
           2019,
           2019,
           2019,
           2019,
           2019,
           2019,
           2019,
           2019,
           2019,
           2019,
           2019,
           2019,
           2019,
           2019,
           2019,
           2019,
           2019,
           2019,
           2019,
           2019,
           2019
          ],
          "coloraxis": "coloraxis"
         },
         "name": "",
         "offsetgroup": "",
         "orientation": "v",
         "showlegend": false,
         "textposition": "auto",
         "type": "bar",
         "x": [
          "bioRxiv",
          "European Neuropsychopharmacology",
          "Nature Communications",
          "Scientific Reports",
          "PLoS ONE",
          "Alzheimer's & Dementia",
          "European Heart Journal",
          "International Journal of Cancer",
          "Circulation",
          "medRxiv",
          "Molecular Psychiatry",
          "Journal of the American College of Cardiology",
          "Journal of Clinical Oncology",
          "International Journal of Epidemiology",
          "Biological Psychiatry",
          "Diabetes",
          "Blood",
          "American Journal of Human Genetics",
          "Atherosclerosis",
          "Osteoarthritis and Cartilage",
          "Human Molecular Genetics",
          "Cancer Epidemiology Biomarkers & Prevention",
          "Translational Psychiatry",
          "SSRN Electronic Journal",
          "Diabetologia",
          "The Journal of Clinical Endocrinology & Metabolism",
          "Diabetes Care",
          "Journal of the American Heart Association",
          "European Journal of Epidemiology",
          "Annals of Oncology",
          "Psychological Medicine",
          "BMJ Open",
          "Cell",
          "European Journal of Human Genetics",
          "Nature",
          "Journal of the National Cancer Institute",
          "PLOS Genetics",
          "Wellcome Open Research",
          "American Journal of Clinical Nutrition",
          "Geburtshilfe und Frauenheilkunde",
          "Gastroenterology",
          "Genetics in Medicine",
          "International Journal of Obesity",
          "Genetic Epidemiology",
          "Circulation Genomic and Precision Medicine",
          "Breast Cancer Research and Treatment",
          "Science",
          "PLoS Medicine",
          "Nutrients",
          "Twin Research and Human Genetics",
          "Stroke",
          "The BMJ",
          "The Journals of Gerontology Series A",
          "Journal of Hypertension",
          "Senologie - Zeitschrift für Mammadiagnostik und -therapie",
          "Neurology",
          "Journal of Affective Disorders",
          "Neurobiology of Aging",
          "Clinical Epigenetics",
          "Schizophrenia Bulletin",
          "Heart",
          "Frontiers in Genetics",
          "Innovation in Aging",
          "American Journal of Epidemiology",
          "Journal of Alzheimer's Disease",
          "Schizophrenia Research",
          "International Journal of Cardiology",
          "Bioinformatics"
         ],
         "xaxis": "x2",
         "y": [
          563,
          468,
          129,
          91,
          67,
          89,
          71,
          46,
          67,
          58,
          53,
          52,
          40,
          44,
          38,
          51,
          42,
          47,
          39,
          35,
          40,
          27,
          36,
          36,
          28,
          24,
          29,
          24,
          26,
          32,
          29,
          26,
          25,
          21,
          21,
          25,
          17,
          21,
          22,
          8,
          16,
          20,
          19,
          18,
          15,
          14,
          13,
          18,
          23,
          27,
          10,
          17,
          17,
          14,
          16,
          19,
          16,
          18,
          16,
          14,
          18,
          16,
          17,
          17,
          19,
          17,
          14,
          20
         ],
         "yaxis": "y2"
        },
        {
         "alignmentgroup": "True",
         "customdata": [
          [
           "jour.1293558",
           "bioRxiv",
           1151
          ],
          [
           "jour.1101548",
           "European Neuropsychopharmacology",
           480
          ],
          [
           "jour.1043282",
           "Nature Communications",
           297
          ],
          [
           "jour.1045337",
           "Scientific Reports",
           222
          ],
          [
           "jour.1037553",
           "PLoS ONE",
           180
          ],
          [
           "jour.1034467",
           "Alzheimer's & Dementia",
           175
          ],
          [
           "jour.1091325",
           "European Heart Journal",
           166
          ],
          [
           "jour.1358156",
           "International Journal of Cancer",
           145
          ],
          [
           "jour.1009570",
           "Circulation",
           139
          ],
          [
           "jour.1115540",
           "Molecular Psychiatry",
           118
          ],
          [
           "jour.1093746",
           "Journal of the American College of Cardiology",
           113
          ],
          [
           "jour.1312191",
           "Journal of Clinical Oncology",
           105
          ],
          [
           "jour.1087544",
           "International Journal of Epidemiology",
           100
          ],
          [
           "jour.1012129",
           "Biological Psychiatry",
           99
          ],
          [
           "jour.1017423",
           "Diabetes",
           93
          ],
          [
           "jour.1017012",
           "American Journal of Human Genetics",
           90
          ],
          [
           "jour.1085025",
           "Blood",
           90
          ],
          [
           "jour.1013420",
           "Atherosclerosis",
           88
          ],
          [
           "jour.1103682",
           "Osteoarthritis and Cartilage",
           86
          ],
          [
           "jour.1102504",
           "Human Molecular Genetics",
           86
          ],
          [
           "jour.1045271",
           "Translational Psychiatry",
           79
          ],
          [
           "jour.1101916",
           "Cancer Epidemiology Biomarkers & Prevention",
           79
          ],
          [
           "jour.1276748",
           "SSRN Electronic Journal",
           75
          ],
          [
           "jour.1001482",
           "Diabetologia",
           73
          ],
          [
           "jour.1017738",
           "The Journal of Clinical Endocrinology & Metabolism",
           71
          ],
          [
           "jour.1103715",
           "Diabetes Care",
           69
          ],
          [
           "jour.1046624",
           "Journal of the American Heart Association",
           62
          ],
          [
           "jour.1100417",
           "Annals of Oncology",
           59
          ],
          [
           "jour.1095636",
           "European Journal of Epidemiology",
           59
          ],
          [
           "jour.1054214",
           "Psychological Medicine",
           59
          ],
          [
           "jour.1044693",
           "BMJ Open",
           57
          ],
          [
           "jour.1019114",
           "Cell",
           56
          ],
          [
           "jour.1103410",
           "European Journal of Human Genetics",
           56
          ],
          [
           "jour.1018957",
           "Nature",
           54
          ],
          [
           "jour.1358108",
           "Journal of the National Cancer Institute",
           52
          ],
          [
           "jour.1034974",
           "PLOS Genetics",
           48
          ],
          [
           "jour.1017790",
           "American Journal of Clinical Nutrition",
           47
          ],
          [
           "jour.1284430",
           "Wellcome Open Research",
           47
          ],
          [
           "jour.1017122",
           "Geburtshilfe und Frauenheilkunde",
           46
          ],
          [
           "jour.1017616",
           "Gastroenterology",
           43
          ],
          [
           "jour.1035838",
           "International Journal of Obesity",
           42
          ],
          [
           "jour.1119411",
           "Genetics in Medicine",
           42
          ],
          [
           "jour.1092777",
           "Breast Cancer Research and Treatment",
           41
          ],
          [
           "jour.1040791",
           "Circulation Genomic and Precision Medicine",
           41
          ],
          [
           "jour.1094974",
           "Genetic Epidemiology",
           41
          ],
          [
           "jour.1297397",
           "Twin Research and Human Genetics",
           40
          ],
          [
           "jour.1346339",
           "Science",
           40
          ],
          [
           "jour.1042723",
           "Nutrients",
           40
          ],
          [
           "jour.1034427",
           "PLoS Medicine",
           40
          ],
          [
           "jour.1013101",
           "Stroke",
           39
          ],
          [
           "jour.1017377",
           "The BMJ",
           39
          ],
          [
           "jour.1113743",
           "The Journals of Gerontology Series A",
           38
          ],
          [
           "jour.1094093",
           "Journal of Hypertension",
           38
          ],
          [
           "jour.1137590",
           "Senologie - Zeitschrift für Mammadiagnostik und -therapie",
           38
          ],
          [
           "jour.1089762",
           "Journal of Affective Disorders",
           37
          ],
          [
           "jour.1018238",
           "Neurology",
           37
          ],
          [
           "jour.1045144",
           "Frontiers in Genetics",
           36
          ],
          [
           "jour.1091979",
           "Neurobiology of Aging",
           36
          ],
          [
           "jour.1013236",
           "Schizophrenia Bulletin",
           36
          ],
          [
           "jour.1042271",
           "Clinical Epigenetics",
           36
          ],
          [
           "jour.1017081",
           "Heart",
           36
          ],
          [
           "jour.1090493",
           "American Journal of Epidemiology",
           35
          ],
          [
           "jour.1313661",
           "International Journal of Cardiology",
           35
          ],
          [
           "jour.1345383",
           "Bioinformatics",
           35
          ],
          [
           "jour.1284558",
           "Innovation in Aging",
           35
          ],
          [
           "jour.1097961",
           "Schizophrenia Research",
           35
          ],
          [
           "jour.1119070",
           "Journal of Alzheimer's Disease",
           35
          ]
         ],
         "hovertemplate": "<b>%{hovertext}</b><br><br>year=%{marker.color}<br>journal.title=%{customdata[1]}<br>total_year=%{y}<br>journal.id=%{customdata[0]}<br>total=%{customdata[2]}<extra></extra>",
         "hovertext": [
          "bioRxiv",
          "European Neuropsychopharmacology",
          "Nature Communications",
          "Scientific Reports",
          "PLoS ONE",
          "Alzheimer's & Dementia",
          "European Heart Journal",
          "International Journal of Cancer",
          "Circulation",
          "Molecular Psychiatry",
          "Journal of the American College of Cardiology",
          "Journal of Clinical Oncology",
          "International Journal of Epidemiology",
          "Biological Psychiatry",
          "Diabetes",
          "American Journal of Human Genetics",
          "Blood",
          "Atherosclerosis",
          "Osteoarthritis and Cartilage",
          "Human Molecular Genetics",
          "Translational Psychiatry",
          "Cancer Epidemiology Biomarkers & Prevention",
          "SSRN Electronic Journal",
          "Diabetologia",
          "The Journal of Clinical Endocrinology & Metabolism",
          "Diabetes Care",
          "Journal of the American Heart Association",
          "Annals of Oncology",
          "European Journal of Epidemiology",
          "Psychological Medicine",
          "BMJ Open",
          "Cell",
          "European Journal of Human Genetics",
          "Nature",
          "Journal of the National Cancer Institute",
          "PLOS Genetics",
          "American Journal of Clinical Nutrition",
          "Wellcome Open Research",
          "Geburtshilfe und Frauenheilkunde",
          "Gastroenterology",
          "International Journal of Obesity",
          "Genetics in Medicine",
          "Breast Cancer Research and Treatment",
          "Circulation Genomic and Precision Medicine",
          "Genetic Epidemiology",
          "Twin Research and Human Genetics",
          "Science",
          "Nutrients",
          "PLoS Medicine",
          "Stroke",
          "The BMJ",
          "The Journals of Gerontology Series A",
          "Journal of Hypertension",
          "Senologie - Zeitschrift für Mammadiagnostik und -therapie",
          "Journal of Affective Disorders",
          "Neurology",
          "Frontiers in Genetics",
          "Neurobiology of Aging",
          "Schizophrenia Bulletin",
          "Clinical Epigenetics",
          "Heart",
          "American Journal of Epidemiology",
          "International Journal of Cardiology",
          "Bioinformatics",
          "Innovation in Aging",
          "Schizophrenia Research",
          "Journal of Alzheimer's Disease"
         ],
         "legendgroup": "",
         "marker": {
          "color": [
           2018,
           2018,
           2018,
           2018,
           2018,
           2018,
           2018,
           2018,
           2018,
           2018,
           2018,
           2018,
           2018,
           2018,
           2018,
           2018,
           2018,
           2018,
           2018,
           2018,
           2018,
           2018,
           2018,
           2018,
           2018,
           2018,
           2018,
           2018,
           2018,
           2018,
           2018,
           2018,
           2018,
           2018,
           2018,
           2018,
           2018,
           2018,
           2018,
           2018,
           2018,
           2018,
           2018,
           2018,
           2018,
           2018,
           2018,
           2018,
           2018,
           2018,
           2018,
           2018,
           2018,
           2018,
           2018,
           2018,
           2018,
           2018,
           2018,
           2018,
           2018,
           2018,
           2018,
           2018,
           2018,
           2018,
           2018
          ],
          "coloraxis": "coloraxis"
         },
         "name": "",
         "offsetgroup": "",
         "orientation": "v",
         "showlegend": false,
         "textposition": "auto",
         "type": "bar",
         "x": [
          "bioRxiv",
          "European Neuropsychopharmacology",
          "Nature Communications",
          "Scientific Reports",
          "PLoS ONE",
          "Alzheimer's & Dementia",
          "European Heart Journal",
          "International Journal of Cancer",
          "Circulation",
          "Molecular Psychiatry",
          "Journal of the American College of Cardiology",
          "Journal of Clinical Oncology",
          "International Journal of Epidemiology",
          "Biological Psychiatry",
          "Diabetes",
          "American Journal of Human Genetics",
          "Blood",
          "Atherosclerosis",
          "Osteoarthritis and Cartilage",
          "Human Molecular Genetics",
          "Translational Psychiatry",
          "Cancer Epidemiology Biomarkers & Prevention",
          "SSRN Electronic Journal",
          "Diabetologia",
          "The Journal of Clinical Endocrinology & Metabolism",
          "Diabetes Care",
          "Journal of the American Heart Association",
          "Annals of Oncology",
          "European Journal of Epidemiology",
          "Psychological Medicine",
          "BMJ Open",
          "Cell",
          "European Journal of Human Genetics",
          "Nature",
          "Journal of the National Cancer Institute",
          "PLOS Genetics",
          "American Journal of Clinical Nutrition",
          "Wellcome Open Research",
          "Geburtshilfe und Frauenheilkunde",
          "Gastroenterology",
          "International Journal of Obesity",
          "Genetics in Medicine",
          "Breast Cancer Research and Treatment",
          "Circulation Genomic and Precision Medicine",
          "Genetic Epidemiology",
          "Twin Research and Human Genetics",
          "Science",
          "Nutrients",
          "PLoS Medicine",
          "Stroke",
          "The BMJ",
          "The Journals of Gerontology Series A",
          "Journal of Hypertension",
          "Senologie - Zeitschrift für Mammadiagnostik und -therapie",
          "Journal of Affective Disorders",
          "Neurology",
          "Frontiers in Genetics",
          "Neurobiology of Aging",
          "Schizophrenia Bulletin",
          "Clinical Epigenetics",
          "Heart",
          "American Journal of Epidemiology",
          "International Journal of Cardiology",
          "Bioinformatics",
          "Innovation in Aging",
          "Schizophrenia Research",
          "Journal of Alzheimer's Disease"
         ],
         "xaxis": "x",
         "y": [
          482,
          8,
          125,
          110,
          93,
          82,
          81,
          56,
          27,
          54,
          31,
          58,
          35,
          49,
          38,
          30,
          44,
          37,
          42,
          39,
          32,
          30,
          31,
          34,
          29,
          25,
          26,
          25,
          22,
          23,
          24,
          25,
          18,
          26,
          13,
          24,
          14,
          23,
          38,
          18,
          17,
          13,
          24,
          22,
          15,
          11,
          23,
          11,
          19,
          19,
          17,
          10,
          21,
          22,
          13,
          13,
          15,
          14,
          21,
          16,
          13,
          11,
          18,
          11,
          18,
          14,
          13
         ],
         "yaxis": "y"
        }
       ],
       "layout": {
        "annotations": [
         {
          "font": {},
          "showarrow": false,
          "text": "year=2018",
          "textangle": 90,
          "x": 0.98,
          "xanchor": "left",
          "xref": "paper",
          "y": 0.15666666666666665,
          "yanchor": "middle",
          "yref": "paper"
         },
         {
          "font": {},
          "showarrow": false,
          "text": "year=2019",
          "textangle": 90,
          "x": 0.98,
          "xanchor": "left",
          "xref": "paper",
          "y": 0.4999999999999999,
          "yanchor": "middle",
          "yref": "paper"
         },
         {
          "font": {},
          "showarrow": false,
          "text": "year=2020",
          "textangle": 90,
          "x": 0.98,
          "xanchor": "left",
          "xref": "paper",
          "y": 0.8433333333333332,
          "yanchor": "middle",
          "yref": "paper"
         }
        ],
        "autosize": true,
        "barmode": "relative",
        "coloraxis": {
         "colorbar": {
          "title": {
           "text": "year"
          }
         },
         "colorscale": [
          [
           0,
           "#0d0887"
          ],
          [
           0.1111111111111111,
           "#46039f"
          ],
          [
           0.2222222222222222,
           "#7201a8"
          ],
          [
           0.3333333333333333,
           "#9c179e"
          ],
          [
           0.4444444444444444,
           "#bd3786"
          ],
          [
           0.5555555555555556,
           "#d8576b"
          ],
          [
           0.6666666666666666,
           "#ed7953"
          ],
          [
           0.7777777777777778,
           "#fb9f3a"
          ],
          [
           0.8888888888888888,
           "#fdca26"
          ],
          [
           1,
           "#f0f921"
          ]
         ]
        },
        "legend": {
         "tracegroupgap": 0
        },
        "template": {
         "data": {
          "bar": [
           {
            "error_x": {
             "color": "#2a3f5f"
            },
            "error_y": {
             "color": "#2a3f5f"
            },
            "marker": {
             "line": {
              "color": "#E5ECF6",
              "width": 0.5
             }
            },
            "type": "bar"
           }
          ],
          "barpolar": [
           {
            "marker": {
             "line": {
              "color": "#E5ECF6",
              "width": 0.5
             }
            },
            "type": "barpolar"
           }
          ],
          "carpet": [
           {
            "aaxis": {
             "endlinecolor": "#2a3f5f",
             "gridcolor": "white",
             "linecolor": "white",
             "minorgridcolor": "white",
             "startlinecolor": "#2a3f5f"
            },
            "baxis": {
             "endlinecolor": "#2a3f5f",
             "gridcolor": "white",
             "linecolor": "white",
             "minorgridcolor": "white",
             "startlinecolor": "#2a3f5f"
            },
            "type": "carpet"
           }
          ],
          "choropleth": [
           {
            "colorbar": {
             "outlinewidth": 0,
             "ticks": ""
            },
            "type": "choropleth"
           }
          ],
          "contour": [
           {
            "colorbar": {
             "outlinewidth": 0,
             "ticks": ""
            },
            "colorscale": [
             [
              0,
              "#0d0887"
             ],
             [
              0.1111111111111111,
              "#46039f"
             ],
             [
              0.2222222222222222,
              "#7201a8"
             ],
             [
              0.3333333333333333,
              "#9c179e"
             ],
             [
              0.4444444444444444,
              "#bd3786"
             ],
             [
              0.5555555555555556,
              "#d8576b"
             ],
             [
              0.6666666666666666,
              "#ed7953"
             ],
             [
              0.7777777777777778,
              "#fb9f3a"
             ],
             [
              0.8888888888888888,
              "#fdca26"
             ],
             [
              1,
              "#f0f921"
             ]
            ],
            "type": "contour"
           }
          ],
          "contourcarpet": [
           {
            "colorbar": {
             "outlinewidth": 0,
             "ticks": ""
            },
            "type": "contourcarpet"
           }
          ],
          "heatmap": [
           {
            "colorbar": {
             "outlinewidth": 0,
             "ticks": ""
            },
            "colorscale": [
             [
              0,
              "#0d0887"
             ],
             [
              0.1111111111111111,
              "#46039f"
             ],
             [
              0.2222222222222222,
              "#7201a8"
             ],
             [
              0.3333333333333333,
              "#9c179e"
             ],
             [
              0.4444444444444444,
              "#bd3786"
             ],
             [
              0.5555555555555556,
              "#d8576b"
             ],
             [
              0.6666666666666666,
              "#ed7953"
             ],
             [
              0.7777777777777778,
              "#fb9f3a"
             ],
             [
              0.8888888888888888,
              "#fdca26"
             ],
             [
              1,
              "#f0f921"
             ]
            ],
            "type": "heatmap"
           }
          ],
          "heatmapgl": [
           {
            "colorbar": {
             "outlinewidth": 0,
             "ticks": ""
            },
            "colorscale": [
             [
              0,
              "#0d0887"
             ],
             [
              0.1111111111111111,
              "#46039f"
             ],
             [
              0.2222222222222222,
              "#7201a8"
             ],
             [
              0.3333333333333333,
              "#9c179e"
             ],
             [
              0.4444444444444444,
              "#bd3786"
             ],
             [
              0.5555555555555556,
              "#d8576b"
             ],
             [
              0.6666666666666666,
              "#ed7953"
             ],
             [
              0.7777777777777778,
              "#fb9f3a"
             ],
             [
              0.8888888888888888,
              "#fdca26"
             ],
             [
              1,
              "#f0f921"
             ]
            ],
            "type": "heatmapgl"
           }
          ],
          "histogram": [
           {
            "marker": {
             "colorbar": {
              "outlinewidth": 0,
              "ticks": ""
             }
            },
            "type": "histogram"
           }
          ],
          "histogram2d": [
           {
            "colorbar": {
             "outlinewidth": 0,
             "ticks": ""
            },
            "colorscale": [
             [
              0,
              "#0d0887"
             ],
             [
              0.1111111111111111,
              "#46039f"
             ],
             [
              0.2222222222222222,
              "#7201a8"
             ],
             [
              0.3333333333333333,
              "#9c179e"
             ],
             [
              0.4444444444444444,
              "#bd3786"
             ],
             [
              0.5555555555555556,
              "#d8576b"
             ],
             [
              0.6666666666666666,
              "#ed7953"
             ],
             [
              0.7777777777777778,
              "#fb9f3a"
             ],
             [
              0.8888888888888888,
              "#fdca26"
             ],
             [
              1,
              "#f0f921"
             ]
            ],
            "type": "histogram2d"
           }
          ],
          "histogram2dcontour": [
           {
            "colorbar": {
             "outlinewidth": 0,
             "ticks": ""
            },
            "colorscale": [
             [
              0,
              "#0d0887"
             ],
             [
              0.1111111111111111,
              "#46039f"
             ],
             [
              0.2222222222222222,
              "#7201a8"
             ],
             [
              0.3333333333333333,
              "#9c179e"
             ],
             [
              0.4444444444444444,
              "#bd3786"
             ],
             [
              0.5555555555555556,
              "#d8576b"
             ],
             [
              0.6666666666666666,
              "#ed7953"
             ],
             [
              0.7777777777777778,
              "#fb9f3a"
             ],
             [
              0.8888888888888888,
              "#fdca26"
             ],
             [
              1,
              "#f0f921"
             ]
            ],
            "type": "histogram2dcontour"
           }
          ],
          "mesh3d": [
           {
            "colorbar": {
             "outlinewidth": 0,
             "ticks": ""
            },
            "type": "mesh3d"
           }
          ],
          "parcoords": [
           {
            "line": {
             "colorbar": {
              "outlinewidth": 0,
              "ticks": ""
             }
            },
            "type": "parcoords"
           }
          ],
          "pie": [
           {
            "automargin": true,
            "type": "pie"
           }
          ],
          "scatter": [
           {
            "marker": {
             "colorbar": {
              "outlinewidth": 0,
              "ticks": ""
             }
            },
            "type": "scatter"
           }
          ],
          "scatter3d": [
           {
            "line": {
             "colorbar": {
              "outlinewidth": 0,
              "ticks": ""
             }
            },
            "marker": {
             "colorbar": {
              "outlinewidth": 0,
              "ticks": ""
             }
            },
            "type": "scatter3d"
           }
          ],
          "scattercarpet": [
           {
            "marker": {
             "colorbar": {
              "outlinewidth": 0,
              "ticks": ""
             }
            },
            "type": "scattercarpet"
           }
          ],
          "scattergeo": [
           {
            "marker": {
             "colorbar": {
              "outlinewidth": 0,
              "ticks": ""
             }
            },
            "type": "scattergeo"
           }
          ],
          "scattergl": [
           {
            "marker": {
             "colorbar": {
              "outlinewidth": 0,
              "ticks": ""
             }
            },
            "type": "scattergl"
           }
          ],
          "scattermapbox": [
           {
            "marker": {
             "colorbar": {
              "outlinewidth": 0,
              "ticks": ""
             }
            },
            "type": "scattermapbox"
           }
          ],
          "scatterpolar": [
           {
            "marker": {
             "colorbar": {
              "outlinewidth": 0,
              "ticks": ""
             }
            },
            "type": "scatterpolar"
           }
          ],
          "scatterpolargl": [
           {
            "marker": {
             "colorbar": {
              "outlinewidth": 0,
              "ticks": ""
             }
            },
            "type": "scatterpolargl"
           }
          ],
          "scatterternary": [
           {
            "marker": {
             "colorbar": {
              "outlinewidth": 0,
              "ticks": ""
             }
            },
            "type": "scatterternary"
           }
          ],
          "surface": [
           {
            "colorbar": {
             "outlinewidth": 0,
             "ticks": ""
            },
            "colorscale": [
             [
              0,
              "#0d0887"
             ],
             [
              0.1111111111111111,
              "#46039f"
             ],
             [
              0.2222222222222222,
              "#7201a8"
             ],
             [
              0.3333333333333333,
              "#9c179e"
             ],
             [
              0.4444444444444444,
              "#bd3786"
             ],
             [
              0.5555555555555556,
              "#d8576b"
             ],
             [
              0.6666666666666666,
              "#ed7953"
             ],
             [
              0.7777777777777778,
              "#fb9f3a"
             ],
             [
              0.8888888888888888,
              "#fdca26"
             ],
             [
              1,
              "#f0f921"
             ]
            ],
            "type": "surface"
           }
          ],
          "table": [
           {
            "cells": {
             "fill": {
              "color": "#EBF0F8"
             },
             "line": {
              "color": "white"
             }
            },
            "header": {
             "fill": {
              "color": "#C8D4E3"
             },
             "line": {
              "color": "white"
             }
            },
            "type": "table"
           }
          ]
         },
         "layout": {
          "annotationdefaults": {
           "arrowcolor": "#2a3f5f",
           "arrowhead": 0,
           "arrowwidth": 1
          },
          "coloraxis": {
           "colorbar": {
            "outlinewidth": 0,
            "ticks": ""
           }
          },
          "colorscale": {
           "diverging": [
            [
             0,
             "#8e0152"
            ],
            [
             0.1,
             "#c51b7d"
            ],
            [
             0.2,
             "#de77ae"
            ],
            [
             0.3,
             "#f1b6da"
            ],
            [
             0.4,
             "#fde0ef"
            ],
            [
             0.5,
             "#f7f7f7"
            ],
            [
             0.6,
             "#e6f5d0"
            ],
            [
             0.7,
             "#b8e186"
            ],
            [
             0.8,
             "#7fbc41"
            ],
            [
             0.9,
             "#4d9221"
            ],
            [
             1,
             "#276419"
            ]
           ],
           "sequential": [
            [
             0,
             "#0d0887"
            ],
            [
             0.1111111111111111,
             "#46039f"
            ],
            [
             0.2222222222222222,
             "#7201a8"
            ],
            [
             0.3333333333333333,
             "#9c179e"
            ],
            [
             0.4444444444444444,
             "#bd3786"
            ],
            [
             0.5555555555555556,
             "#d8576b"
            ],
            [
             0.6666666666666666,
             "#ed7953"
            ],
            [
             0.7777777777777778,
             "#fb9f3a"
            ],
            [
             0.8888888888888888,
             "#fdca26"
            ],
            [
             1,
             "#f0f921"
            ]
           ],
           "sequentialminus": [
            [
             0,
             "#0d0887"
            ],
            [
             0.1111111111111111,
             "#46039f"
            ],
            [
             0.2222222222222222,
             "#7201a8"
            ],
            [
             0.3333333333333333,
             "#9c179e"
            ],
            [
             0.4444444444444444,
             "#bd3786"
            ],
            [
             0.5555555555555556,
             "#d8576b"
            ],
            [
             0.6666666666666666,
             "#ed7953"
            ],
            [
             0.7777777777777778,
             "#fb9f3a"
            ],
            [
             0.8888888888888888,
             "#fdca26"
            ],
            [
             1,
             "#f0f921"
            ]
           ]
          },
          "colorway": [
           "#636efa",
           "#EF553B",
           "#00cc96",
           "#ab63fa",
           "#FFA15A",
           "#19d3f3",
           "#FF6692",
           "#B6E880",
           "#FF97FF",
           "#FECB52"
          ],
          "font": {
           "color": "#2a3f5f"
          },
          "geo": {
           "bgcolor": "white",
           "lakecolor": "white",
           "landcolor": "#E5ECF6",
           "showlakes": true,
           "showland": true,
           "subunitcolor": "white"
          },
          "hoverlabel": {
           "align": "left"
          },
          "hovermode": "closest",
          "mapbox": {
           "style": "light"
          },
          "paper_bgcolor": "white",
          "plot_bgcolor": "#E5ECF6",
          "polar": {
           "angularaxis": {
            "gridcolor": "white",
            "linecolor": "white",
            "ticks": ""
           },
           "bgcolor": "#E5ECF6",
           "radialaxis": {
            "gridcolor": "white",
            "linecolor": "white",
            "ticks": ""
           }
          },
          "scene": {
           "xaxis": {
            "backgroundcolor": "#E5ECF6",
            "gridcolor": "white",
            "gridwidth": 2,
            "linecolor": "white",
            "showbackground": true,
            "ticks": "",
            "zerolinecolor": "white"
           },
           "yaxis": {
            "backgroundcolor": "#E5ECF6",
            "gridcolor": "white",
            "gridwidth": 2,
            "linecolor": "white",
            "showbackground": true,
            "ticks": "",
            "zerolinecolor": "white"
           },
           "zaxis": {
            "backgroundcolor": "#E5ECF6",
            "gridcolor": "white",
            "gridwidth": 2,
            "linecolor": "white",
            "showbackground": true,
            "ticks": "",
            "zerolinecolor": "white"
           }
          },
          "shapedefaults": {
           "line": {
            "color": "#2a3f5f"
           }
          },
          "ternary": {
           "aaxis": {
            "gridcolor": "white",
            "linecolor": "white",
            "ticks": ""
           },
           "baxis": {
            "gridcolor": "white",
            "linecolor": "white",
            "ticks": ""
           },
           "bgcolor": "#E5ECF6",
           "caxis": {
            "gridcolor": "white",
            "linecolor": "white",
            "ticks": ""
           }
          },
          "title": {
           "x": 0.05
          },
          "xaxis": {
           "automargin": true,
           "gridcolor": "white",
           "linecolor": "white",
           "ticks": "",
           "title": {
            "standoff": 15
           },
           "zerolinecolor": "white",
           "zerolinewidth": 2
          },
          "yaxis": {
           "automargin": true,
           "gridcolor": "white",
           "linecolor": "white",
           "ticks": "",
           "title": {
            "standoff": 15
           },
           "zerolinecolor": "white",
           "zerolinewidth": 2
          }
         }
        },
        "title": {
         "text": "Top 200 competitors for jour.1103138 - segmented by year"
        },
        "xaxis": {
         "anchor": "y",
         "autorange": true,
         "domain": [
          0,
          0.98
         ],
         "range": [
          -0.5,
          67.5
         ],
         "title": {
          "text": "journal.title"
         },
         "type": "category"
        },
        "xaxis2": {
         "anchor": "y2",
         "autorange": true,
         "domain": [
          0,
          0.98
         ],
         "matches": "x",
         "range": [
          -0.5,
          67.5
         ],
         "showticklabels": false,
         "type": "category"
        },
        "xaxis3": {
         "anchor": "y3",
         "autorange": true,
         "domain": [
          0,
          0.98
         ],
         "matches": "x",
         "range": [
          -0.5,
          67.5
         ],
         "showticklabels": false,
         "type": "category"
        },
        "yaxis": {
         "anchor": "x",
         "autorange": true,
         "domain": [
          0,
          0.3133333333333333
         ],
         "range": [
          0,
          592.6315789473684
         ],
         "title": {
          "text": "total_year"
         },
         "type": "linear"
        },
        "yaxis2": {
         "anchor": "x2",
         "autorange": true,
         "domain": [
          0.34333333333333327,
          0.6566666666666665
         ],
         "matches": "y",
         "range": [
          0,
          592.6315789473684
         ],
         "title": {
          "text": "total_year"
         },
         "type": "linear"
        },
        "yaxis3": {
         "anchor": "x3",
         "autorange": true,
         "domain": [
          0.6866666666666665,
          0.9999999999999998
         ],
         "matches": "y",
         "range": [
          0,
          592.6315789473684
         ],
         "title": {
          "text": "total_year"
         },
         "type": "linear"
        }
       }
      },
      "image/png": "[encoded data removed]",
      "text/html": [
       "<div>\n",
       "        \n",
       "        \n",
       "            <div id=\"e5783f70-59c5-4d8c-be2e-63f0254a941d\" class=\"plotly-graph-div\" style=\"height:900px; width:100%;\"></div>\n",
       "            <script type=\"text/javascript\">\n",
       "                require([\"plotly\"], function(Plotly) {\n",
       "                    window.PLOTLYENV=window.PLOTLYENV || {};\n",
       "                    \n",
       "                if (document.getElementById(\"e5783f70-59c5-4d8c-be2e-63f0254a941d\")) {\n",
       "                    Plotly.newPlot(\n",
       "                        'e5783f70-59c5-4d8c-be2e-63f0254a941d',\n",
       "                        [{\"alignmentgroup\": \"True\", \"customdata\": [[\"jour.1293558\", \"bioRxiv\", 1151], [\"jour.1101548\", \"European Neuropsychopharmacology\", 480], [\"jour.1043282\", \"Nature Communications\", 297], [\"jour.1045337\", \"Scientific Reports\", 222], [\"jour.1037553\", \"PLoS ONE\", 180], [\"jour.1034467\", \"Alzheimer's & Dementia\", 175], [\"jour.1091325\", \"European Heart Journal\", 166], [\"jour.1358156\", \"International Journal of Cancer\", 145], [\"jour.1009570\", \"Circulation\", 139], [\"jour.1369542\", \"medRxiv\", 124], [\"jour.1115540\", \"Molecular Psychiatry\", 118], [\"jour.1093746\", \"Journal of the American College of Cardiology\", 113], [\"jour.1312191\", \"Journal of Clinical Oncology\", 105], [\"jour.1087544\", \"International Journal of Epidemiology\", 100], [\"jour.1012129\", \"Biological Psychiatry\", 99], [\"jour.1017423\", \"Diabetes\", 93], [\"jour.1017012\", \"American Journal of Human Genetics\", 90], [\"jour.1085025\", \"Blood\", 90], [\"jour.1013420\", \"Atherosclerosis\", 88], [\"jour.1103682\", \"Osteoarthritis and Cartilage\", 86], [\"jour.1102504\", \"Human Molecular Genetics\", 86], [\"jour.1045271\", \"Translational Psychiatry\", 79], [\"jour.1101916\", \"Cancer Epidemiology Biomarkers & Prevention\", 79], [\"jour.1276748\", \"SSRN Electronic Journal\", 75], [\"jour.1001482\", \"Diabetologia\", 73], [\"jour.1017738\", \"The Journal of Clinical Endocrinology & Metabolism\", 71], [\"jour.1103715\", \"Diabetes Care\", 69], [\"jour.1046624\", \"Journal of the American Heart Association\", 62], [\"jour.1100417\", \"Annals of Oncology\", 59], [\"jour.1054214\", \"Psychological Medicine\", 59], [\"jour.1095636\", \"European Journal of Epidemiology\", 59], [\"jour.1044693\", \"BMJ Open\", 57], [\"jour.1019114\", \"Cell\", 56], [\"jour.1103410\", \"European Journal of Human Genetics\", 56], [\"jour.1018957\", \"Nature\", 54], [\"jour.1358108\", \"Journal of the National Cancer Institute\", 52], [\"jour.1034974\", \"PLOS Genetics\", 48], [\"jour.1284430\", \"Wellcome Open Research\", 47], [\"jour.1017790\", \"American Journal of Clinical Nutrition\", 47], [\"jour.1017616\", \"Gastroenterology\", 43], [\"jour.1119411\", \"Genetics in Medicine\", 42], [\"jour.1035838\", \"International Journal of Obesity\", 42], [\"jour.1092777\", \"Breast Cancer Research and Treatment\", 41], [\"jour.1040791\", \"Circulation Genomic and Precision Medicine\", 41], [\"jour.1094974\", \"Genetic Epidemiology\", 41], [\"jour.1297397\", \"Twin Research and Human Genetics\", 40], [\"jour.1346339\", \"Science\", 40], [\"jour.1042723\", \"Nutrients\", 40], [\"jour.1034427\", \"PLoS Medicine\", 40], [\"jour.1013101\", \"Stroke\", 39], [\"jour.1017377\", \"The BMJ\", 39], [\"jour.1094093\", \"Journal of Hypertension\", 38], [\"jour.1113743\", \"The Journals of Gerontology Series A\", 38], [\"jour.1089762\", \"Journal of Affective Disorders\", 37], [\"jour.1018238\", \"Neurology\", 37], [\"jour.1045144\", \"Frontiers in Genetics\", 36], [\"jour.1042271\", \"Clinical Epigenetics\", 36], [\"jour.1017081\", \"Heart\", 36], [\"jour.1013236\", \"Schizophrenia Bulletin\", 36], [\"jour.1091979\", \"Neurobiology of Aging\", 36], [\"jour.1097961\", \"Schizophrenia Research\", 35], [\"jour.1119070\", \"Journal of Alzheimer's Disease\", 35], [\"jour.1313661\", \"International Journal of Cardiology\", 35], [\"jour.1345383\", \"Bioinformatics\", 35], [\"jour.1090493\", \"American Journal of Epidemiology\", 35]], \"hovertemplate\": \"<b>%{hovertext}</b><br><br>year=%{marker.color}<br>journal.title=%{customdata[1]}<br>total_year=%{y}<br>journal.id=%{customdata[0]}<br>total=%{customdata[2]}<extra></extra>\", \"hovertext\": [\"bioRxiv\", \"European Neuropsychopharmacology\", \"Nature Communications\", \"Scientific Reports\", \"PLoS ONE\", \"Alzheimer's & Dementia\", \"European Heart Journal\", \"International Journal of Cancer\", \"Circulation\", \"medRxiv\", \"Molecular Psychiatry\", \"Journal of the American College of Cardiology\", \"Journal of Clinical Oncology\", \"International Journal of Epidemiology\", \"Biological Psychiatry\", \"Diabetes\", \"American Journal of Human Genetics\", \"Blood\", \"Atherosclerosis\", \"Osteoarthritis and Cartilage\", \"Human Molecular Genetics\", \"Translational Psychiatry\", \"Cancer Epidemiology Biomarkers & Prevention\", \"SSRN Electronic Journal\", \"Diabetologia\", \"The Journal of Clinical Endocrinology & Metabolism\", \"Diabetes Care\", \"Journal of the American Heart Association\", \"Annals of Oncology\", \"Psychological Medicine\", \"European Journal of Epidemiology\", \"BMJ Open\", \"Cell\", \"European Journal of Human Genetics\", \"Nature\", \"Journal of the National Cancer Institute\", \"PLOS Genetics\", \"Wellcome Open Research\", \"American Journal of Clinical Nutrition\", \"Gastroenterology\", \"Genetics in Medicine\", \"International Journal of Obesity\", \"Breast Cancer Research and Treatment\", \"Circulation Genomic and Precision Medicine\", \"Genetic Epidemiology\", \"Twin Research and Human Genetics\", \"Science\", \"Nutrients\", \"PLoS Medicine\", \"Stroke\", \"The BMJ\", \"Journal of Hypertension\", \"The Journals of Gerontology Series A\", \"Journal of Affective Disorders\", \"Neurology\", \"Frontiers in Genetics\", \"Clinical Epigenetics\", \"Heart\", \"Schizophrenia Bulletin\", \"Neurobiology of Aging\", \"Schizophrenia Research\", \"Journal of Alzheimer's Disease\", \"International Journal of Cardiology\", \"Bioinformatics\", \"American Journal of Epidemiology\"], \"legendgroup\": \"\", \"marker\": {\"color\": [2020, 2020, 2020, 2020, 2020, 2020, 2020, 2020, 2020, 2020, 2020, 2020, 2020, 2020, 2020, 2020, 2020, 2020, 2020, 2020, 2020, 2020, 2020, 2020, 2020, 2020, 2020, 2020, 2020, 2020, 2020, 2020, 2020, 2020, 2020, 2020, 2020, 2020, 2020, 2020, 2020, 2020, 2020, 2020, 2020, 2020, 2020, 2020, 2020, 2020, 2020, 2020, 2020, 2020, 2020, 2020, 2020, 2020, 2020, 2020, 2020, 2020, 2020, 2020, 2020], \"coloraxis\": \"coloraxis\"}, \"name\": \"\", \"offsetgroup\": \"\", \"orientation\": \"v\", \"showlegend\": false, \"textposition\": \"auto\", \"type\": \"bar\", \"x\": [\"bioRxiv\", \"European Neuropsychopharmacology\", \"Nature Communications\", \"Scientific Reports\", \"PLoS ONE\", \"Alzheimer's & Dementia\", \"European Heart Journal\", \"International Journal of Cancer\", \"Circulation\", \"medRxiv\", \"Molecular Psychiatry\", \"Journal of the American College of Cardiology\", \"Journal of Clinical Oncology\", \"International Journal of Epidemiology\", \"Biological Psychiatry\", \"Diabetes\", \"American Journal of Human Genetics\", \"Blood\", \"Atherosclerosis\", \"Osteoarthritis and Cartilage\", \"Human Molecular Genetics\", \"Translational Psychiatry\", \"Cancer Epidemiology Biomarkers & Prevention\", \"SSRN Electronic Journal\", \"Diabetologia\", \"The Journal of Clinical Endocrinology & Metabolism\", \"Diabetes Care\", \"Journal of the American Heart Association\", \"Annals of Oncology\", \"Psychological Medicine\", \"European Journal of Epidemiology\", \"BMJ Open\", \"Cell\", \"European Journal of Human Genetics\", \"Nature\", \"Journal of the National Cancer Institute\", \"PLOS Genetics\", \"Wellcome Open Research\", \"American Journal of Clinical Nutrition\", \"Gastroenterology\", \"Genetics in Medicine\", \"International Journal of Obesity\", \"Breast Cancer Research and Treatment\", \"Circulation Genomic and Precision Medicine\", \"Genetic Epidemiology\", \"Twin Research and Human Genetics\", \"Science\", \"Nutrients\", \"PLoS Medicine\", \"Stroke\", \"The BMJ\", \"Journal of Hypertension\", \"The Journals of Gerontology Series A\", \"Journal of Affective Disorders\", \"Neurology\", \"Frontiers in Genetics\", \"Clinical Epigenetics\", \"Heart\", \"Schizophrenia Bulletin\", \"Neurobiology of Aging\", \"Schizophrenia Research\", \"Journal of Alzheimer's Disease\", \"International Journal of Cardiology\", \"Bioinformatics\", \"American Journal of Epidemiology\"], \"xaxis\": \"x3\", \"y\": [106, 4, 43, 21, 20, 4, 14, 43, 45, 66, 11, 30, 7, 21, 12, 4, 13, 4, 12, 9, 7, 11, 22, 8, 11, 18, 15, 12, 2, 7, 11, 7, 6, 17, 7, 14, 7, 3, 11, 9, 9, 6, 3, 4, 8, 2, 4, 6, 3, 10, 5, 3, 11, 8, 5, 5, 4, 5, 1, 4, 4, 3, 3, 4, 7], \"yaxis\": \"y3\"}, {\"alignmentgroup\": \"True\", \"customdata\": [[\"jour.1293558\", \"bioRxiv\", 1151], [\"jour.1101548\", \"European Neuropsychopharmacology\", 480], [\"jour.1043282\", \"Nature Communications\", 297], [\"jour.1045337\", \"Scientific Reports\", 222], [\"jour.1037553\", \"PLoS ONE\", 180], [\"jour.1034467\", \"Alzheimer's & Dementia\", 175], [\"jour.1091325\", \"European Heart Journal\", 166], [\"jour.1358156\", \"International Journal of Cancer\", 145], [\"jour.1009570\", \"Circulation\", 139], [\"jour.1369542\", \"medRxiv\", 124], [\"jour.1115540\", \"Molecular Psychiatry\", 118], [\"jour.1093746\", \"Journal of the American College of Cardiology\", 113], [\"jour.1312191\", \"Journal of Clinical Oncology\", 105], [\"jour.1087544\", \"International Journal of Epidemiology\", 100], [\"jour.1012129\", \"Biological Psychiatry\", 99], [\"jour.1017423\", \"Diabetes\", 93], [\"jour.1085025\", \"Blood\", 90], [\"jour.1017012\", \"American Journal of Human Genetics\", 90], [\"jour.1013420\", \"Atherosclerosis\", 88], [\"jour.1103682\", \"Osteoarthritis and Cartilage\", 86], [\"jour.1102504\", \"Human Molecular Genetics\", 86], [\"jour.1101916\", \"Cancer Epidemiology Biomarkers & Prevention\", 79], [\"jour.1045271\", \"Translational Psychiatry\", 79], [\"jour.1276748\", \"SSRN Electronic Journal\", 75], [\"jour.1001482\", \"Diabetologia\", 73], [\"jour.1017738\", \"The Journal of Clinical Endocrinology & Metabolism\", 71], [\"jour.1103715\", \"Diabetes Care\", 69], [\"jour.1046624\", \"Journal of the American Heart Association\", 62], [\"jour.1095636\", \"European Journal of Epidemiology\", 59], [\"jour.1100417\", \"Annals of Oncology\", 59], [\"jour.1054214\", \"Psychological Medicine\", 59], [\"jour.1044693\", \"BMJ Open\", 57], [\"jour.1019114\", \"Cell\", 56], [\"jour.1103410\", \"European Journal of Human Genetics\", 56], [\"jour.1018957\", \"Nature\", 54], [\"jour.1358108\", \"Journal of the National Cancer Institute\", 52], [\"jour.1034974\", \"PLOS Genetics\", 48], [\"jour.1284430\", \"Wellcome Open Research\", 47], [\"jour.1017790\", \"American Journal of Clinical Nutrition\", 47], [\"jour.1017122\", \"Geburtshilfe und Frauenheilkunde\", 46], [\"jour.1017616\", \"Gastroenterology\", 43], [\"jour.1119411\", \"Genetics in Medicine\", 42], [\"jour.1035838\", \"International Journal of Obesity\", 42], [\"jour.1094974\", \"Genetic Epidemiology\", 41], [\"jour.1040791\", \"Circulation Genomic and Precision Medicine\", 41], [\"jour.1092777\", \"Breast Cancer Research and Treatment\", 41], [\"jour.1346339\", \"Science\", 40], [\"jour.1034427\", \"PLoS Medicine\", 40], [\"jour.1042723\", \"Nutrients\", 40], [\"jour.1297397\", \"Twin Research and Human Genetics\", 40], [\"jour.1013101\", \"Stroke\", 39], [\"jour.1017377\", \"The BMJ\", 39], [\"jour.1113743\", \"The Journals of Gerontology Series A\", 38], [\"jour.1094093\", \"Journal of Hypertension\", 38], [\"jour.1137590\", \"Senologie - Zeitschrift f\\u00fcr Mammadiagnostik und -therapie\", 38], [\"jour.1018238\", \"Neurology\", 37], [\"jour.1089762\", \"Journal of Affective Disorders\", 37], [\"jour.1091979\", \"Neurobiology of Aging\", 36], [\"jour.1042271\", \"Clinical Epigenetics\", 36], [\"jour.1013236\", \"Schizophrenia Bulletin\", 36], [\"jour.1017081\", \"Heart\", 36], [\"jour.1045144\", \"Frontiers in Genetics\", 36], [\"jour.1284558\", \"Innovation in Aging\", 35], [\"jour.1090493\", \"American Journal of Epidemiology\", 35], [\"jour.1119070\", \"Journal of Alzheimer's Disease\", 35], [\"jour.1097961\", \"Schizophrenia Research\", 35], [\"jour.1313661\", \"International Journal of Cardiology\", 35], [\"jour.1345383\", \"Bioinformatics\", 35]], \"hovertemplate\": \"<b>%{hovertext}</b><br><br>year=%{marker.color}<br>journal.title=%{customdata[1]}<br>total_year=%{y}<br>journal.id=%{customdata[0]}<br>total=%{customdata[2]}<extra></extra>\", \"hovertext\": [\"bioRxiv\", \"European Neuropsychopharmacology\", \"Nature Communications\", \"Scientific Reports\", \"PLoS ONE\", \"Alzheimer's & Dementia\", \"European Heart Journal\", \"International Journal of Cancer\", \"Circulation\", \"medRxiv\", \"Molecular Psychiatry\", \"Journal of the American College of Cardiology\", \"Journal of Clinical Oncology\", \"International Journal of Epidemiology\", \"Biological Psychiatry\", \"Diabetes\", \"Blood\", \"American Journal of Human Genetics\", \"Atherosclerosis\", \"Osteoarthritis and Cartilage\", \"Human Molecular Genetics\", \"Cancer Epidemiology Biomarkers & Prevention\", \"Translational Psychiatry\", \"SSRN Electronic Journal\", \"Diabetologia\", \"The Journal of Clinical Endocrinology & Metabolism\", \"Diabetes Care\", \"Journal of the American Heart Association\", \"European Journal of Epidemiology\", \"Annals of Oncology\", \"Psychological Medicine\", \"BMJ Open\", \"Cell\", \"European Journal of Human Genetics\", \"Nature\", \"Journal of the National Cancer Institute\", \"PLOS Genetics\", \"Wellcome Open Research\", \"American Journal of Clinical Nutrition\", \"Geburtshilfe und Frauenheilkunde\", \"Gastroenterology\", \"Genetics in Medicine\", \"International Journal of Obesity\", \"Genetic Epidemiology\", \"Circulation Genomic and Precision Medicine\", \"Breast Cancer Research and Treatment\", \"Science\", \"PLoS Medicine\", \"Nutrients\", \"Twin Research and Human Genetics\", \"Stroke\", \"The BMJ\", \"The Journals of Gerontology Series A\", \"Journal of Hypertension\", \"Senologie - Zeitschrift f\\u00fcr Mammadiagnostik und -therapie\", \"Neurology\", \"Journal of Affective Disorders\", \"Neurobiology of Aging\", \"Clinical Epigenetics\", \"Schizophrenia Bulletin\", \"Heart\", \"Frontiers in Genetics\", \"Innovation in Aging\", \"American Journal of Epidemiology\", \"Journal of Alzheimer's Disease\", \"Schizophrenia Research\", \"International Journal of Cardiology\", \"Bioinformatics\"], \"legendgroup\": \"\", \"marker\": {\"color\": [2019, 2019, 2019, 2019, 2019, 2019, 2019, 2019, 2019, 2019, 2019, 2019, 2019, 2019, 2019, 2019, 2019, 2019, 2019, 2019, 2019, 2019, 2019, 2019, 2019, 2019, 2019, 2019, 2019, 2019, 2019, 2019, 2019, 2019, 2019, 2019, 2019, 2019, 2019, 2019, 2019, 2019, 2019, 2019, 2019, 2019, 2019, 2019, 2019, 2019, 2019, 2019, 2019, 2019, 2019, 2019, 2019, 2019, 2019, 2019, 2019, 2019, 2019, 2019, 2019, 2019, 2019, 2019], \"coloraxis\": \"coloraxis\"}, \"name\": \"\", \"offsetgroup\": \"\", \"orientation\": \"v\", \"showlegend\": false, \"textposition\": \"auto\", \"type\": \"bar\", \"x\": [\"bioRxiv\", \"European Neuropsychopharmacology\", \"Nature Communications\", \"Scientific Reports\", \"PLoS ONE\", \"Alzheimer's & Dementia\", \"European Heart Journal\", \"International Journal of Cancer\", \"Circulation\", \"medRxiv\", \"Molecular Psychiatry\", \"Journal of the American College of Cardiology\", \"Journal of Clinical Oncology\", \"International Journal of Epidemiology\", \"Biological Psychiatry\", \"Diabetes\", \"Blood\", \"American Journal of Human Genetics\", \"Atherosclerosis\", \"Osteoarthritis and Cartilage\", \"Human Molecular Genetics\", \"Cancer Epidemiology Biomarkers & Prevention\", \"Translational Psychiatry\", \"SSRN Electronic Journal\", \"Diabetologia\", \"The Journal of Clinical Endocrinology & Metabolism\", \"Diabetes Care\", \"Journal of the American Heart Association\", \"European Journal of Epidemiology\", \"Annals of Oncology\", \"Psychological Medicine\", \"BMJ Open\", \"Cell\", \"European Journal of Human Genetics\", \"Nature\", \"Journal of the National Cancer Institute\", \"PLOS Genetics\", \"Wellcome Open Research\", \"American Journal of Clinical Nutrition\", \"Geburtshilfe und Frauenheilkunde\", \"Gastroenterology\", \"Genetics in Medicine\", \"International Journal of Obesity\", \"Genetic Epidemiology\", \"Circulation Genomic and Precision Medicine\", \"Breast Cancer Research and Treatment\", \"Science\", \"PLoS Medicine\", \"Nutrients\", \"Twin Research and Human Genetics\", \"Stroke\", \"The BMJ\", \"The Journals of Gerontology Series A\", \"Journal of Hypertension\", \"Senologie - Zeitschrift f\\u00fcr Mammadiagnostik und -therapie\", \"Neurology\", \"Journal of Affective Disorders\", \"Neurobiology of Aging\", \"Clinical Epigenetics\", \"Schizophrenia Bulletin\", \"Heart\", \"Frontiers in Genetics\", \"Innovation in Aging\", \"American Journal of Epidemiology\", \"Journal of Alzheimer's Disease\", \"Schizophrenia Research\", \"International Journal of Cardiology\", \"Bioinformatics\"], \"xaxis\": \"x2\", \"y\": [563, 468, 129, 91, 67, 89, 71, 46, 67, 58, 53, 52, 40, 44, 38, 51, 42, 47, 39, 35, 40, 27, 36, 36, 28, 24, 29, 24, 26, 32, 29, 26, 25, 21, 21, 25, 17, 21, 22, 8, 16, 20, 19, 18, 15, 14, 13, 18, 23, 27, 10, 17, 17, 14, 16, 19, 16, 18, 16, 14, 18, 16, 17, 17, 19, 17, 14, 20], \"yaxis\": \"y2\"}, {\"alignmentgroup\": \"True\", \"customdata\": [[\"jour.1293558\", \"bioRxiv\", 1151], [\"jour.1101548\", \"European Neuropsychopharmacology\", 480], [\"jour.1043282\", \"Nature Communications\", 297], [\"jour.1045337\", \"Scientific Reports\", 222], [\"jour.1037553\", \"PLoS ONE\", 180], [\"jour.1034467\", \"Alzheimer's & Dementia\", 175], [\"jour.1091325\", \"European Heart Journal\", 166], [\"jour.1358156\", \"International Journal of Cancer\", 145], [\"jour.1009570\", \"Circulation\", 139], [\"jour.1115540\", \"Molecular Psychiatry\", 118], [\"jour.1093746\", \"Journal of the American College of Cardiology\", 113], [\"jour.1312191\", \"Journal of Clinical Oncology\", 105], [\"jour.1087544\", \"International Journal of Epidemiology\", 100], [\"jour.1012129\", \"Biological Psychiatry\", 99], [\"jour.1017423\", \"Diabetes\", 93], [\"jour.1017012\", \"American Journal of Human Genetics\", 90], [\"jour.1085025\", \"Blood\", 90], [\"jour.1013420\", \"Atherosclerosis\", 88], [\"jour.1103682\", \"Osteoarthritis and Cartilage\", 86], [\"jour.1102504\", \"Human Molecular Genetics\", 86], [\"jour.1045271\", \"Translational Psychiatry\", 79], [\"jour.1101916\", \"Cancer Epidemiology Biomarkers & Prevention\", 79], [\"jour.1276748\", \"SSRN Electronic Journal\", 75], [\"jour.1001482\", \"Diabetologia\", 73], [\"jour.1017738\", \"The Journal of Clinical Endocrinology & Metabolism\", 71], [\"jour.1103715\", \"Diabetes Care\", 69], [\"jour.1046624\", \"Journal of the American Heart Association\", 62], [\"jour.1100417\", \"Annals of Oncology\", 59], [\"jour.1095636\", \"European Journal of Epidemiology\", 59], [\"jour.1054214\", \"Psychological Medicine\", 59], [\"jour.1044693\", \"BMJ Open\", 57], [\"jour.1019114\", \"Cell\", 56], [\"jour.1103410\", \"European Journal of Human Genetics\", 56], [\"jour.1018957\", \"Nature\", 54], [\"jour.1358108\", \"Journal of the National Cancer Institute\", 52], [\"jour.1034974\", \"PLOS Genetics\", 48], [\"jour.1017790\", \"American Journal of Clinical Nutrition\", 47], [\"jour.1284430\", \"Wellcome Open Research\", 47], [\"jour.1017122\", \"Geburtshilfe und Frauenheilkunde\", 46], [\"jour.1017616\", \"Gastroenterology\", 43], [\"jour.1035838\", \"International Journal of Obesity\", 42], [\"jour.1119411\", \"Genetics in Medicine\", 42], [\"jour.1092777\", \"Breast Cancer Research and Treatment\", 41], [\"jour.1040791\", \"Circulation Genomic and Precision Medicine\", 41], [\"jour.1094974\", \"Genetic Epidemiology\", 41], [\"jour.1297397\", \"Twin Research and Human Genetics\", 40], [\"jour.1346339\", \"Science\", 40], [\"jour.1042723\", \"Nutrients\", 40], [\"jour.1034427\", \"PLoS Medicine\", 40], [\"jour.1013101\", \"Stroke\", 39], [\"jour.1017377\", \"The BMJ\", 39], [\"jour.1113743\", \"The Journals of Gerontology Series A\", 38], [\"jour.1094093\", \"Journal of Hypertension\", 38], [\"jour.1137590\", \"Senologie - Zeitschrift f\\u00fcr Mammadiagnostik und -therapie\", 38], [\"jour.1089762\", \"Journal of Affective Disorders\", 37], [\"jour.1018238\", \"Neurology\", 37], [\"jour.1045144\", \"Frontiers in Genetics\", 36], [\"jour.1091979\", \"Neurobiology of Aging\", 36], [\"jour.1013236\", \"Schizophrenia Bulletin\", 36], [\"jour.1042271\", \"Clinical Epigenetics\", 36], [\"jour.1017081\", \"Heart\", 36], [\"jour.1090493\", \"American Journal of Epidemiology\", 35], [\"jour.1313661\", \"International Journal of Cardiology\", 35], [\"jour.1345383\", \"Bioinformatics\", 35], [\"jour.1284558\", \"Innovation in Aging\", 35], [\"jour.1097961\", \"Schizophrenia Research\", 35], [\"jour.1119070\", \"Journal of Alzheimer's Disease\", 35]], \"hovertemplate\": \"<b>%{hovertext}</b><br><br>year=%{marker.color}<br>journal.title=%{customdata[1]}<br>total_year=%{y}<br>journal.id=%{customdata[0]}<br>total=%{customdata[2]}<extra></extra>\", \"hovertext\": [\"bioRxiv\", \"European Neuropsychopharmacology\", \"Nature Communications\", \"Scientific Reports\", \"PLoS ONE\", \"Alzheimer's & Dementia\", \"European Heart Journal\", \"International Journal of Cancer\", \"Circulation\", \"Molecular Psychiatry\", \"Journal of the American College of Cardiology\", \"Journal of Clinical Oncology\", \"International Journal of Epidemiology\", \"Biological Psychiatry\", \"Diabetes\", \"American Journal of Human Genetics\", \"Blood\", \"Atherosclerosis\", \"Osteoarthritis and Cartilage\", \"Human Molecular Genetics\", \"Translational Psychiatry\", \"Cancer Epidemiology Biomarkers & Prevention\", \"SSRN Electronic Journal\", \"Diabetologia\", \"The Journal of Clinical Endocrinology & Metabolism\", \"Diabetes Care\", \"Journal of the American Heart Association\", \"Annals of Oncology\", \"European Journal of Epidemiology\", \"Psychological Medicine\", \"BMJ Open\", \"Cell\", \"European Journal of Human Genetics\", \"Nature\", \"Journal of the National Cancer Institute\", \"PLOS Genetics\", \"American Journal of Clinical Nutrition\", \"Wellcome Open Research\", \"Geburtshilfe und Frauenheilkunde\", \"Gastroenterology\", \"International Journal of Obesity\", \"Genetics in Medicine\", \"Breast Cancer Research and Treatment\", \"Circulation Genomic and Precision Medicine\", \"Genetic Epidemiology\", \"Twin Research and Human Genetics\", \"Science\", \"Nutrients\", \"PLoS Medicine\", \"Stroke\", \"The BMJ\", \"The Journals of Gerontology Series A\", \"Journal of Hypertension\", \"Senologie - Zeitschrift f\\u00fcr Mammadiagnostik und -therapie\", \"Journal of Affective Disorders\", \"Neurology\", \"Frontiers in Genetics\", \"Neurobiology of Aging\", \"Schizophrenia Bulletin\", \"Clinical Epigenetics\", \"Heart\", \"American Journal of Epidemiology\", \"International Journal of Cardiology\", \"Bioinformatics\", \"Innovation in Aging\", \"Schizophrenia Research\", \"Journal of Alzheimer's Disease\"], \"legendgroup\": \"\", \"marker\": {\"color\": [2018, 2018, 2018, 2018, 2018, 2018, 2018, 2018, 2018, 2018, 2018, 2018, 2018, 2018, 2018, 2018, 2018, 2018, 2018, 2018, 2018, 2018, 2018, 2018, 2018, 2018, 2018, 2018, 2018, 2018, 2018, 2018, 2018, 2018, 2018, 2018, 2018, 2018, 2018, 2018, 2018, 2018, 2018, 2018, 2018, 2018, 2018, 2018, 2018, 2018, 2018, 2018, 2018, 2018, 2018, 2018, 2018, 2018, 2018, 2018, 2018, 2018, 2018, 2018, 2018, 2018, 2018], \"coloraxis\": \"coloraxis\"}, \"name\": \"\", \"offsetgroup\": \"\", \"orientation\": \"v\", \"showlegend\": false, \"textposition\": \"auto\", \"type\": \"bar\", \"x\": [\"bioRxiv\", \"European Neuropsychopharmacology\", \"Nature Communications\", \"Scientific Reports\", \"PLoS ONE\", \"Alzheimer's & Dementia\", \"European Heart Journal\", \"International Journal of Cancer\", \"Circulation\", \"Molecular Psychiatry\", \"Journal of the American College of Cardiology\", \"Journal of Clinical Oncology\", \"International Journal of Epidemiology\", \"Biological Psychiatry\", \"Diabetes\", \"American Journal of Human Genetics\", \"Blood\", \"Atherosclerosis\", \"Osteoarthritis and Cartilage\", \"Human Molecular Genetics\", \"Translational Psychiatry\", \"Cancer Epidemiology Biomarkers & Prevention\", \"SSRN Electronic Journal\", \"Diabetologia\", \"The Journal of Clinical Endocrinology & Metabolism\", \"Diabetes Care\", \"Journal of the American Heart Association\", \"Annals of Oncology\", \"European Journal of Epidemiology\", \"Psychological Medicine\", \"BMJ Open\", \"Cell\", \"European Journal of Human Genetics\", \"Nature\", \"Journal of the National Cancer Institute\", \"PLOS Genetics\", \"American Journal of Clinical Nutrition\", \"Wellcome Open Research\", \"Geburtshilfe und Frauenheilkunde\", \"Gastroenterology\", \"International Journal of Obesity\", \"Genetics in Medicine\", \"Breast Cancer Research and Treatment\", \"Circulation Genomic and Precision Medicine\", \"Genetic Epidemiology\", \"Twin Research and Human Genetics\", \"Science\", \"Nutrients\", \"PLoS Medicine\", \"Stroke\", \"The BMJ\", \"The Journals of Gerontology Series A\", \"Journal of Hypertension\", \"Senologie - Zeitschrift f\\u00fcr Mammadiagnostik und -therapie\", \"Journal of Affective Disorders\", \"Neurology\", \"Frontiers in Genetics\", \"Neurobiology of Aging\", \"Schizophrenia Bulletin\", \"Clinical Epigenetics\", \"Heart\", \"American Journal of Epidemiology\", \"International Journal of Cardiology\", \"Bioinformatics\", \"Innovation in Aging\", \"Schizophrenia Research\", \"Journal of Alzheimer's Disease\"], \"xaxis\": \"x\", \"y\": [482, 8, 125, 110, 93, 82, 81, 56, 27, 54, 31, 58, 35, 49, 38, 30, 44, 37, 42, 39, 32, 30, 31, 34, 29, 25, 26, 25, 22, 23, 24, 25, 18, 26, 13, 24, 14, 23, 38, 18, 17, 13, 24, 22, 15, 11, 23, 11, 19, 19, 17, 10, 21, 22, 13, 13, 15, 14, 21, 16, 13, 11, 18, 11, 18, 14, 13], \"yaxis\": \"y\"}],\n",
       "                        {\"annotations\": [{\"font\": {}, \"showarrow\": false, \"text\": \"year=2018\", \"textangle\": 90, \"x\": 0.98, \"xanchor\": \"left\", \"xref\": \"paper\", \"y\": 0.15666666666666665, \"yanchor\": \"middle\", \"yref\": \"paper\"}, {\"font\": {}, \"showarrow\": false, \"text\": \"year=2019\", \"textangle\": 90, \"x\": 0.98, \"xanchor\": \"left\", \"xref\": \"paper\", \"y\": 0.4999999999999999, \"yanchor\": \"middle\", \"yref\": \"paper\"}, {\"font\": {}, \"showarrow\": false, \"text\": \"year=2020\", \"textangle\": 90, \"x\": 0.98, \"xanchor\": \"left\", \"xref\": \"paper\", \"y\": 0.8433333333333332, \"yanchor\": \"middle\", \"yref\": \"paper\"}], \"barmode\": \"relative\", \"coloraxis\": {\"colorbar\": {\"title\": {\"text\": \"year\"}}, \"colorscale\": [[0.0, \"#0d0887\"], [0.1111111111111111, \"#46039f\"], [0.2222222222222222, \"#7201a8\"], [0.3333333333333333, \"#9c179e\"], [0.4444444444444444, \"#bd3786\"], [0.5555555555555556, \"#d8576b\"], [0.6666666666666666, \"#ed7953\"], [0.7777777777777778, \"#fb9f3a\"], [0.8888888888888888, \"#fdca26\"], [1.0, \"#f0f921\"]]}, \"height\": 900, \"legend\": {\"tracegroupgap\": 0}, \"template\": {\"data\": {\"bar\": [{\"error_x\": {\"color\": \"#2a3f5f\"}, \"error_y\": {\"color\": \"#2a3f5f\"}, \"marker\": {\"line\": {\"color\": \"#E5ECF6\", \"width\": 0.5}}, \"type\": \"bar\"}], \"barpolar\": [{\"marker\": {\"line\": {\"color\": \"#E5ECF6\", \"width\": 0.5}}, \"type\": \"barpolar\"}], \"carpet\": [{\"aaxis\": {\"endlinecolor\": \"#2a3f5f\", \"gridcolor\": \"white\", \"linecolor\": \"white\", \"minorgridcolor\": \"white\", \"startlinecolor\": \"#2a3f5f\"}, \"baxis\": {\"endlinecolor\": \"#2a3f5f\", \"gridcolor\": \"white\", \"linecolor\": \"white\", \"minorgridcolor\": \"white\", \"startlinecolor\": \"#2a3f5f\"}, \"type\": \"carpet\"}], \"choropleth\": [{\"colorbar\": {\"outlinewidth\": 0, \"ticks\": \"\"}, \"type\": \"choropleth\"}], \"contour\": [{\"colorbar\": {\"outlinewidth\": 0, \"ticks\": \"\"}, \"colorscale\": [[0.0, \"#0d0887\"], [0.1111111111111111, \"#46039f\"], [0.2222222222222222, \"#7201a8\"], [0.3333333333333333, \"#9c179e\"], [0.4444444444444444, \"#bd3786\"], [0.5555555555555556, \"#d8576b\"], [0.6666666666666666, \"#ed7953\"], [0.7777777777777778, \"#fb9f3a\"], [0.8888888888888888, \"#fdca26\"], [1.0, \"#f0f921\"]], \"type\": \"contour\"}], \"contourcarpet\": [{\"colorbar\": {\"outlinewidth\": 0, \"ticks\": \"\"}, \"type\": \"contourcarpet\"}], \"heatmap\": [{\"colorbar\": {\"outlinewidth\": 0, \"ticks\": \"\"}, \"colorscale\": [[0.0, \"#0d0887\"], [0.1111111111111111, \"#46039f\"], [0.2222222222222222, \"#7201a8\"], [0.3333333333333333, \"#9c179e\"], [0.4444444444444444, \"#bd3786\"], [0.5555555555555556, \"#d8576b\"], [0.6666666666666666, \"#ed7953\"], [0.7777777777777778, \"#fb9f3a\"], [0.8888888888888888, \"#fdca26\"], [1.0, \"#f0f921\"]], \"type\": \"heatmap\"}], \"heatmapgl\": [{\"colorbar\": {\"outlinewidth\": 0, \"ticks\": \"\"}, \"colorscale\": [[0.0, \"#0d0887\"], [0.1111111111111111, \"#46039f\"], [0.2222222222222222, \"#7201a8\"], [0.3333333333333333, \"#9c179e\"], [0.4444444444444444, \"#bd3786\"], [0.5555555555555556, \"#d8576b\"], [0.6666666666666666, \"#ed7953\"], [0.7777777777777778, \"#fb9f3a\"], [0.8888888888888888, \"#fdca26\"], [1.0, \"#f0f921\"]], \"type\": \"heatmapgl\"}], \"histogram\": [{\"marker\": {\"colorbar\": {\"outlinewidth\": 0, \"ticks\": \"\"}}, \"type\": \"histogram\"}], \"histogram2d\": [{\"colorbar\": {\"outlinewidth\": 0, \"ticks\": \"\"}, \"colorscale\": [[0.0, \"#0d0887\"], [0.1111111111111111, \"#46039f\"], [0.2222222222222222, \"#7201a8\"], [0.3333333333333333, \"#9c179e\"], [0.4444444444444444, \"#bd3786\"], [0.5555555555555556, \"#d8576b\"], [0.6666666666666666, \"#ed7953\"], [0.7777777777777778, \"#fb9f3a\"], [0.8888888888888888, \"#fdca26\"], [1.0, \"#f0f921\"]], \"type\": \"histogram2d\"}], \"histogram2dcontour\": [{\"colorbar\": {\"outlinewidth\": 0, \"ticks\": \"\"}, \"colorscale\": [[0.0, \"#0d0887\"], [0.1111111111111111, \"#46039f\"], [0.2222222222222222, \"#7201a8\"], [0.3333333333333333, \"#9c179e\"], [0.4444444444444444, \"#bd3786\"], [0.5555555555555556, \"#d8576b\"], [0.6666666666666666, \"#ed7953\"], [0.7777777777777778, \"#fb9f3a\"], [0.8888888888888888, \"#fdca26\"], [1.0, \"#f0f921\"]], \"type\": \"histogram2dcontour\"}], \"mesh3d\": [{\"colorbar\": {\"outlinewidth\": 0, \"ticks\": \"\"}, \"type\": \"mesh3d\"}], \"parcoords\": [{\"line\": {\"colorbar\": {\"outlinewidth\": 0, \"ticks\": \"\"}}, \"type\": \"parcoords\"}], \"pie\": [{\"automargin\": true, \"type\": \"pie\"}], \"scatter\": [{\"marker\": {\"colorbar\": {\"outlinewidth\": 0, \"ticks\": \"\"}}, \"type\": \"scatter\"}], \"scatter3d\": [{\"line\": {\"colorbar\": {\"outlinewidth\": 0, \"ticks\": \"\"}}, \"marker\": {\"colorbar\": {\"outlinewidth\": 0, \"ticks\": \"\"}}, \"type\": \"scatter3d\"}], \"scattercarpet\": [{\"marker\": {\"colorbar\": {\"outlinewidth\": 0, \"ticks\": \"\"}}, \"type\": \"scattercarpet\"}], \"scattergeo\": [{\"marker\": {\"colorbar\": {\"outlinewidth\": 0, \"ticks\": \"\"}}, \"type\": \"scattergeo\"}], \"scattergl\": [{\"marker\": {\"colorbar\": {\"outlinewidth\": 0, \"ticks\": \"\"}}, \"type\": \"scattergl\"}], \"scattermapbox\": [{\"marker\": {\"colorbar\": {\"outlinewidth\": 0, \"ticks\": \"\"}}, \"type\": \"scattermapbox\"}], \"scatterpolar\": [{\"marker\": {\"colorbar\": {\"outlinewidth\": 0, \"ticks\": \"\"}}, \"type\": \"scatterpolar\"}], \"scatterpolargl\": [{\"marker\": {\"colorbar\": {\"outlinewidth\": 0, \"ticks\": \"\"}}, \"type\": \"scatterpolargl\"}], \"scatterternary\": [{\"marker\": {\"colorbar\": {\"outlinewidth\": 0, \"ticks\": \"\"}}, \"type\": \"scatterternary\"}], \"surface\": [{\"colorbar\": {\"outlinewidth\": 0, \"ticks\": \"\"}, \"colorscale\": [[0.0, \"#0d0887\"], [0.1111111111111111, \"#46039f\"], [0.2222222222222222, \"#7201a8\"], [0.3333333333333333, \"#9c179e\"], [0.4444444444444444, \"#bd3786\"], [0.5555555555555556, \"#d8576b\"], [0.6666666666666666, \"#ed7953\"], [0.7777777777777778, \"#fb9f3a\"], [0.8888888888888888, \"#fdca26\"], [1.0, \"#f0f921\"]], \"type\": \"surface\"}], \"table\": [{\"cells\": {\"fill\": {\"color\": \"#EBF0F8\"}, \"line\": {\"color\": \"white\"}}, \"header\": {\"fill\": {\"color\": \"#C8D4E3\"}, \"line\": {\"color\": \"white\"}}, \"type\": \"table\"}]}, \"layout\": {\"annotationdefaults\": {\"arrowcolor\": \"#2a3f5f\", \"arrowhead\": 0, \"arrowwidth\": 1}, \"coloraxis\": {\"colorbar\": {\"outlinewidth\": 0, \"ticks\": \"\"}}, \"colorscale\": {\"diverging\": [[0, \"#8e0152\"], [0.1, \"#c51b7d\"], [0.2, \"#de77ae\"], [0.3, \"#f1b6da\"], [0.4, \"#fde0ef\"], [0.5, \"#f7f7f7\"], [0.6, \"#e6f5d0\"], [0.7, \"#b8e186\"], [0.8, \"#7fbc41\"], [0.9, \"#4d9221\"], [1, \"#276419\"]], \"sequential\": [[0.0, \"#0d0887\"], [0.1111111111111111, \"#46039f\"], [0.2222222222222222, \"#7201a8\"], [0.3333333333333333, \"#9c179e\"], [0.4444444444444444, \"#bd3786\"], [0.5555555555555556, \"#d8576b\"], [0.6666666666666666, \"#ed7953\"], [0.7777777777777778, \"#fb9f3a\"], [0.8888888888888888, \"#fdca26\"], [1.0, \"#f0f921\"]], \"sequentialminus\": [[0.0, \"#0d0887\"], [0.1111111111111111, \"#46039f\"], [0.2222222222222222, \"#7201a8\"], [0.3333333333333333, \"#9c179e\"], [0.4444444444444444, \"#bd3786\"], [0.5555555555555556, \"#d8576b\"], [0.6666666666666666, \"#ed7953\"], [0.7777777777777778, \"#fb9f3a\"], [0.8888888888888888, \"#fdca26\"], [1.0, \"#f0f921\"]]}, \"colorway\": [\"#636efa\", \"#EF553B\", \"#00cc96\", \"#ab63fa\", \"#FFA15A\", \"#19d3f3\", \"#FF6692\", \"#B6E880\", \"#FF97FF\", \"#FECB52\"], \"font\": {\"color\": \"#2a3f5f\"}, \"geo\": {\"bgcolor\": \"white\", \"lakecolor\": \"white\", \"landcolor\": \"#E5ECF6\", \"showlakes\": true, \"showland\": true, \"subunitcolor\": \"white\"}, \"hoverlabel\": {\"align\": \"left\"}, \"hovermode\": \"closest\", \"mapbox\": {\"style\": \"light\"}, \"paper_bgcolor\": \"white\", \"plot_bgcolor\": \"#E5ECF6\", \"polar\": {\"angularaxis\": {\"gridcolor\": \"white\", \"linecolor\": \"white\", \"ticks\": \"\"}, \"bgcolor\": \"#E5ECF6\", \"radialaxis\": {\"gridcolor\": \"white\", \"linecolor\": \"white\", \"ticks\": \"\"}}, \"scene\": {\"xaxis\": {\"backgroundcolor\": \"#E5ECF6\", \"gridcolor\": \"white\", \"gridwidth\": 2, \"linecolor\": \"white\", \"showbackground\": true, \"ticks\": \"\", \"zerolinecolor\": \"white\"}, \"yaxis\": {\"backgroundcolor\": \"#E5ECF6\", \"gridcolor\": \"white\", \"gridwidth\": 2, \"linecolor\": \"white\", \"showbackground\": true, \"ticks\": \"\", \"zerolinecolor\": \"white\"}, \"zaxis\": {\"backgroundcolor\": \"#E5ECF6\", \"gridcolor\": \"white\", \"gridwidth\": 2, \"linecolor\": \"white\", \"showbackground\": true, \"ticks\": \"\", \"zerolinecolor\": \"white\"}}, \"shapedefaults\": {\"line\": {\"color\": \"#2a3f5f\"}}, \"ternary\": {\"aaxis\": {\"gridcolor\": \"white\", \"linecolor\": \"white\", \"ticks\": \"\"}, \"baxis\": {\"gridcolor\": \"white\", \"linecolor\": \"white\", \"ticks\": \"\"}, \"bgcolor\": \"#E5ECF6\", \"caxis\": {\"gridcolor\": \"white\", \"linecolor\": \"white\", \"ticks\": \"\"}}, \"title\": {\"x\": 0.05}, \"xaxis\": {\"automargin\": true, \"gridcolor\": \"white\", \"linecolor\": \"white\", \"ticks\": \"\", \"title\": {\"standoff\": 15}, \"zerolinecolor\": \"white\", \"zerolinewidth\": 2}, \"yaxis\": {\"automargin\": true, \"gridcolor\": \"white\", \"linecolor\": \"white\", \"ticks\": \"\", \"title\": {\"standoff\": 15}, \"zerolinecolor\": \"white\", \"zerolinewidth\": 2}}}, \"title\": {\"text\": \"Top 200 competitors for jour.1103138 - segmented by year\"}, \"xaxis\": {\"anchor\": \"y\", \"domain\": [0.0, 0.98], \"title\": {\"text\": \"journal.title\"}}, \"xaxis2\": {\"anchor\": \"y2\", \"domain\": [0.0, 0.98], \"matches\": \"x\", \"showticklabels\": false}, \"xaxis3\": {\"anchor\": \"y3\", \"domain\": [0.0, 0.98], \"matches\": \"x\", \"showticklabels\": false}, \"yaxis\": {\"anchor\": \"x\", \"domain\": [0.0, 0.3133333333333333], \"title\": {\"text\": \"total_year\"}}, \"yaxis2\": {\"anchor\": \"x2\", \"domain\": [0.34333333333333327, 0.6566666666666665], \"matches\": \"y\", \"title\": {\"text\": \"total_year\"}}, \"yaxis3\": {\"anchor\": \"x3\", \"domain\": [0.6866666666666665, 0.9999999999999998], \"matches\": \"y\", \"title\": {\"text\": \"total_year\"}}},\n",
       "                        {\"responsive\": true}\n",
       "                    ).then(function(){\n",
       "                            \n",
       "var gd = document.getElementById('e5783f70-59c5-4d8c-be2e-63f0254a941d');\n",
       "var x = new MutationObserver(function (mutations, observer) {{\n",
       "        var display = window.getComputedStyle(gd).display;\n",
       "        if (!display || display === 'none') {{\n",
       "            console.log([gd, 'removed!']);\n",
       "            Plotly.purge(gd);\n",
       "            observer.disconnect();\n",
       "        }}\n",
       "}});\n",
       "\n",
       "// Listen for the removal of the full notebook cells\n",
       "var notebookContainer = gd.closest('#notebook-container');\n",
       "if (notebookContainer) {{\n",
       "    x.observe(notebookContainer, {childList: true});\n",
       "}}\n",
       "\n",
       "// Listen for the clearing of the current output cell\n",
       "var outputEl = gd.closest('.output');\n",
       "if (outputEl) {{\n",
       "    x.observe(outputEl, {childList: true});\n",
       "}}\n",
       "\n",
       "                        })\n",
       "                };\n",
       "                });\n",
       "            </script>\n",
       "        </div>"
      ]
     },
     "metadata": {},
     "output_type": "display_data"
    }
   ],
   "source": [
    "threshold = 200\n",
    "temp = journals.sort_values(\"year\", ascending=True).groupby(\"year\").head(threshold)\n",
    "\n",
    "px.bar(journals[:threshold], \n",
    "       x=\"journal.title\", y=\"total_year\", \n",
    "       color=\"year\",\n",
    "       facet_row=\"year\",\n",
    "       height=900,\n",
    "       hover_name=\"journal.title\", \n",
    "       hover_data=['journal.id', 'journal.title', 'total' ], \n",
    "       title=f\"Top {threshold} competitors for {journal_id} - segmented by year\")"
   ]
  },
  {
   "cell_type": "markdown",
   "metadata": {
    "Collapsed": "false"
   },
   "source": [
    "NOTE the European Neuropsychopharmacology journal has a massive jump in 2019 cause they [published a lot of conference proceedings](https://www.sciencedirect.com/journal/european-neuropsychopharmacology/issues)! See also the journal [Dimensions page](https://app.dimensions.ai/analytics/publication/overview/timeline?and_facet_source_title=jour.1101548) for comparison.. \n"
   ]
  }
 ],
 "metadata": {
  "colab": {
   "collapsed_sections": [],
   "name": "5-Competing Journals.ipynb",
   "provenance": []
  },
  "kernelspec": {
   "display_name": "Python 3",
   "language": "python",
   "name": "python3"
  },
  "language_info": {
   "codemirror_mode": {
    "name": "ipython",
    "version": 3
   },
   "file_extension": ".py",
   "mimetype": "text/x-python",
   "name": "python",
   "nbconvert_exporter": "python",
   "pygments_lexer": "ipython3",
   "version": "3.7.4"
  }
 },
 "nbformat": 4,
 "nbformat_minor": 4
}
