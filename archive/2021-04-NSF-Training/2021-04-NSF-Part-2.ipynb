{
 "cells": [
  {
   "cell_type": "markdown",
   "metadata": {
    "Collapsed": "false"
   },
   "source": [
    "# 2021-04 NSF Training part 2\n",
    "\n",
    "Outline \n",
    "\n",
    "\n",
    "\n",
    "Here are the use cases we’ve collected to be considered for part 2 training:\n",
    "\n",
    "1. How to use Dimension APIs to feed data to Tableau?\n",
    "2. Can we input a group of PI identifiers and see how many papers they’ve published together?\n",
    "3. If we start searching for all the grants that have been awarded by saying CISE in the last 10 years, can we get back a table containing a list of publications and patents citing those grants as funding support?  In other words, the final output table should contain 5 columns: Funding Agency, Grant id (Dimensions), Grant number (Agency), Publication id, Patent id?  In theory, this could generate many records with duplicate publication id and/or patent id as there might be multiple publications and patents to each award, but one could also easy roll-up by grant id, and count from the table, on average, the number of publications and patents of a given award.\n",
    "4. If we look at publications (that came out in the last 10 years) citing CSE as one of the funders, and from there query both sets of grant ids, and then see if there are any patenting activities associate with those grants, that’d be equally interesting too. \n",
    " \n",
    "Here is the secondary list nice to go over if time permits:\n",
    "\n",
    "5. For a given list of NSF awards, how to find out if the awardees have awards from other funders outside NSF?\n",
    "6. The different agencies (NIH/DOE/NSF) that are listed in publications\n",
    "7. How to get Altmetrics data through Dimensions APIs, for a given NSF award or publication\n",
    "8. How to get the number of co-authors on publications, and their details\n",
    "9. The number of patents\n",
    "\n",
    "\n",
    "## Couple of reminders\n",
    "\n",
    "* National Science Foundation is grid.431093.c\n",
    "* `nsfgrids = pd.read_csv(\"Dimensions-My-groups-2021-04-07_08-05-49.csv\")['ID'].to_list()`\n",
    "\n"
   ]
  },
  {
   "cell_type": "markdown",
   "metadata": {
    "Collapsed": "false",
    "colab_type": "text",
    "id": "hMaQlB7DG8Vw"
   },
   "source": [
    "## Prerequisites\n",
    "\n",
    "This notebook assumes you have installed the [Dimcli](https://pypi.org/project/dimcli/) library and are fzamiliar with the *Getting Started* tutorial.\n"
   ]
  },
  {
   "cell_type": "code",
   "execution_count": 22,
   "metadata": {
    "Collapsed": "false"
   },
   "outputs": [
    {
     "name": "stdout",
     "output_type": "stream",
     "text": [
      "==\n",
      "Logging in..\n",
      "\u001b[2mDimcli - Dimensions API Client (v0.9)\u001b[0m\n",
      "\u001b[2mConnected to: https://app.dimensions.ai - DSL v1.30\u001b[0m\n",
      "\u001b[2mMethod: dsl.ini file\u001b[0m\n"
     ]
    }
   ],
   "source": [
    "!pip install dimcli --quiet \n",
    "\n",
    "import dimcli\n",
    "from dimcli.utils import *\n",
    "\n",
    "import json\n",
    "import sys\n",
    "import pandas as pd\n",
    "from IPython.display import Image\n",
    "from IPython.core.display import HTML\n",
    "\n",
    "print(\"==\\nLogging in..\")\n",
    "\n",
    "ENDPOINT = \"https://app.dimensions.ai\"\n",
    "\n",
    "if 'google.colab' in sys.modules:\n",
    "  import getpass\n",
    "  KEY = getpass.getpass(prompt='API Key: ')  \n",
    "  dimcli.login(key=KEY, endpoint=ENDPOINT)\n",
    "else:\n",
    "  KEY = \"\"\n",
    "  dimcli.login(key=KEY, endpoint=ENDPOINT)\n",
    "\n",
    "dsl = dimcli.Dsl()"
   ]
  },
  {
   "cell_type": "markdown",
   "metadata": {
    "Collapsed": "false"
   },
   "source": [
    "### Let's reload the NSF funder group GRIDs \n",
    "\n",
    "See Part 1 of this tutorial for more details. "
   ]
  },
  {
   "cell_type": "code",
   "execution_count": 23,
   "metadata": {
    "Collapsed": "false"
   },
   "outputs": [
    {
     "name": "stdout",
     "output_type": "stream",
     "text": [
      "Returned Organizations: 25 (total = 25)\n",
      "\u001b[2mTime: 0.53s\u001b[0m\n",
      "---\n",
      "0 : National Science Foundation\n"
     ]
    },
    {
     "data": {
      "text/html": [
       "=> <a href=\"https://grid.ac/institutes/grid.431093.c\">https://grid.ac/institutes/grid.431093.c</a>"
      ],
      "text/plain": [
       "<IPython.core.display.HTML object>"
      ]
     },
     "metadata": {},
     "output_type": "display_data"
    },
    {
     "name": "stdout",
     "output_type": "stream",
     "text": [
      "1 : Directorate for Biological Sciences\n"
     ]
    },
    {
     "data": {
      "text/html": [
       "=> <a href=\"https://grid.ac/institutes/grid.457768.f\">https://grid.ac/institutes/grid.457768.f</a>"
      ],
      "text/plain": [
       "<IPython.core.display.HTML object>"
      ]
     },
     "metadata": {},
     "output_type": "display_data"
    },
    {
     "name": "stdout",
     "output_type": "stream",
     "text": [
      "2 : Directorate for Education & Human Resources\n"
     ]
    },
    {
     "data": {
      "text/html": [
       "=> <a href=\"https://grid.ac/institutes/grid.457799.1\">https://grid.ac/institutes/grid.457799.1</a>"
      ],
      "text/plain": [
       "<IPython.core.display.HTML object>"
      ]
     },
     "metadata": {},
     "output_type": "display_data"
    },
    {
     "name": "stdout",
     "output_type": "stream",
     "text": [
      "3 : Directorate for Computer & Information Science & Engineering\n"
     ]
    },
    {
     "data": {
      "text/html": [
       "=> <a href=\"https://grid.ac/institutes/grid.457785.c\">https://grid.ac/institutes/grid.457785.c</a>"
      ],
      "text/plain": [
       "<IPython.core.display.HTML object>"
      ]
     },
     "metadata": {},
     "output_type": "display_data"
    },
    {
     "name": "stdout",
     "output_type": "stream",
     "text": [
      "4 : Directorate for Engineering\n"
     ]
    },
    {
     "data": {
      "text/html": [
       "=> <a href=\"https://grid.ac/institutes/grid.457810.f\">https://grid.ac/institutes/grid.457810.f</a>"
      ],
      "text/plain": [
       "<IPython.core.display.HTML object>"
      ]
     },
     "metadata": {},
     "output_type": "display_data"
    },
    {
     "name": "stdout",
     "output_type": "stream",
     "text": [
      "5 : Directorate for Geosciences\n"
     ]
    },
    {
     "data": {
      "text/html": [
       "=> <a href=\"https://grid.ac/institutes/grid.457836.b\">https://grid.ac/institutes/grid.457836.b</a>"
      ],
      "text/plain": [
       "<IPython.core.display.HTML object>"
      ]
     },
     "metadata": {},
     "output_type": "display_data"
    },
    {
     "name": "stdout",
     "output_type": "stream",
     "text": [
      "6 : Directorate for Mathematical & Physical Sciences\n"
     ]
    },
    {
     "data": {
      "text/html": [
       "=> <a href=\"https://grid.ac/institutes/grid.457875.c\">https://grid.ac/institutes/grid.457875.c</a>"
      ],
      "text/plain": [
       "<IPython.core.display.HTML object>"
      ]
     },
     "metadata": {},
     "output_type": "display_data"
    },
    {
     "name": "stdout",
     "output_type": "stream",
     "text": [
      "7 : National Science Board\n"
     ]
    },
    {
     "data": {
      "text/html": [
       "=> <a href=\"https://grid.ac/institutes/grid.457896.1\">https://grid.ac/institutes/grid.457896.1</a>"
      ],
      "text/plain": [
       "<IPython.core.display.HTML object>"
      ]
     },
     "metadata": {},
     "output_type": "display_data"
    },
    {
     "name": "stdout",
     "output_type": "stream",
     "text": [
      "8 : Office of the Director\n"
     ]
    },
    {
     "data": {
      "text/html": [
       "=> <a href=\"https://grid.ac/institutes/grid.457898.f\">https://grid.ac/institutes/grid.457898.f</a>"
      ],
      "text/plain": [
       "<IPython.core.display.HTML object>"
      ]
     },
     "metadata": {},
     "output_type": "display_data"
    },
    {
     "name": "stdout",
     "output_type": "stream",
     "text": [
      "9 : Office of Information and Resource Management\n"
     ]
    },
    {
     "data": {
      "text/html": [
       "=> <a href=\"https://grid.ac/institutes/grid.457907.8\">https://grid.ac/institutes/grid.457907.8</a>"
      ],
      "text/plain": [
       "<IPython.core.display.HTML object>"
      ]
     },
     "metadata": {},
     "output_type": "display_data"
    },
    {
     "name": "stdout",
     "output_type": "stream",
     "text": [
      "10 : Directorate for Social, Behavioral & Economic Sciences\n"
     ]
    },
    {
     "data": {
      "text/html": [
       "=> <a href=\"https://grid.ac/institutes/grid.457916.8\">https://grid.ac/institutes/grid.457916.8</a>"
      ],
      "text/plain": [
       "<IPython.core.display.HTML object>"
      ]
     },
     "metadata": {},
     "output_type": "display_data"
    },
    {
     "name": "stdout",
     "output_type": "stream",
     "text": [
      "11 : Office of Inspector General\n"
     ]
    },
    {
     "data": {
      "text/html": [
       "=> <a href=\"https://grid.ac/institutes/grid.473792.c\">https://grid.ac/institutes/grid.473792.c</a>"
      ],
      "text/plain": [
       "<IPython.core.display.HTML object>"
      ]
     },
     "metadata": {},
     "output_type": "display_data"
    },
    {
     "name": "stdout",
     "output_type": "stream",
     "text": [
      "12 : Office of Budget, Finance and Award Management\n"
     ]
    },
    {
     "data": {
      "text/html": [
       "=> <a href=\"https://grid.ac/institutes/grid.457758.c\">https://grid.ac/institutes/grid.457758.c</a>"
      ],
      "text/plain": [
       "<IPython.core.display.HTML object>"
      ]
     },
     "metadata": {},
     "output_type": "display_data"
    },
    {
     "name": "stdout",
     "output_type": "stream",
     "text": [
      "13 : Office of Polar Programs\n"
     ]
    },
    {
     "data": {
      "text/html": [
       "=> <a href=\"https://grid.ac/institutes/grid.457846.c\">https://grid.ac/institutes/grid.457846.c</a>"
      ],
      "text/plain": [
       "<IPython.core.display.HTML object>"
      ]
     },
     "metadata": {},
     "output_type": "display_data"
    },
    {
     "name": "stdout",
     "output_type": "stream",
     "text": [
      "14 : Division of Earth Sciences\n"
     ]
    },
    {
     "data": {
      "text/html": [
       "=> <a href=\"https://grid.ac/institutes/grid.457842.8\">https://grid.ac/institutes/grid.457842.8</a>"
      ],
      "text/plain": [
       "<IPython.core.display.HTML object>"
      ]
     },
     "metadata": {},
     "output_type": "display_data"
    },
    {
     "name": "stdout",
     "output_type": "stream",
     "text": [
      "15 : Division of Chemical, Bioengineering, Environmental, and Transport Systems\n"
     ]
    },
    {
     "data": {
      "text/html": [
       "=> <a href=\"https://grid.ac/institutes/grid.457813.c\">https://grid.ac/institutes/grid.457813.c</a>"
      ],
      "text/plain": [
       "<IPython.core.display.HTML object>"
      ]
     },
     "metadata": {},
     "output_type": "display_data"
    },
    {
     "name": "stdout",
     "output_type": "stream",
     "text": [
      "16 : Division of Engineering Education & Centers\n"
     ]
    },
    {
     "data": {
      "text/html": [
       "=> <a href=\"https://grid.ac/institutes/grid.457821.d\">https://grid.ac/institutes/grid.457821.d</a>"
      ],
      "text/plain": [
       "<IPython.core.display.HTML object>"
      ]
     },
     "metadata": {},
     "output_type": "display_data"
    },
    {
     "name": "stdout",
     "output_type": "stream",
     "text": [
      "17 : Division of Mathematical Sciences\n"
     ]
    },
    {
     "data": {
      "text/html": [
       "=> <a href=\"https://grid.ac/institutes/grid.457892.5\">https://grid.ac/institutes/grid.457892.5</a>"
      ],
      "text/plain": [
       "<IPython.core.display.HTML object>"
      ]
     },
     "metadata": {},
     "output_type": "display_data"
    },
    {
     "name": "stdout",
     "output_type": "stream",
     "text": [
      "18 : Division of Advanced Cyberinfrastructure\n"
     ]
    },
    {
     "data": {
      "text/html": [
       "=> <a href=\"https://grid.ac/institutes/grid.457789.0\">https://grid.ac/institutes/grid.457789.0</a>"
      ],
      "text/plain": [
       "<IPython.core.display.HTML object>"
      ]
     },
     "metadata": {},
     "output_type": "display_data"
    },
    {
     "name": "stdout",
     "output_type": "stream",
     "text": [
      "19 : Division of Environmental Biology\n"
     ]
    },
    {
     "data": {
      "text/html": [
       "=> <a href=\"https://grid.ac/institutes/grid.457772.4\">https://grid.ac/institutes/grid.457772.4</a>"
      ],
      "text/plain": [
       "<IPython.core.display.HTML object>"
      ]
     },
     "metadata": {},
     "output_type": "display_data"
    },
    {
     "name": "stdout",
     "output_type": "stream",
     "text": [
      "20 : Division of Graduate Education\n"
     ]
    },
    {
     "data": {
      "text/html": [
       "=> <a href=\"https://grid.ac/institutes/grid.457801.f\">https://grid.ac/institutes/grid.457801.f</a>"
      ],
      "text/plain": [
       "<IPython.core.display.HTML object>"
      ]
     },
     "metadata": {},
     "output_type": "display_data"
    },
    {
     "name": "stdout",
     "output_type": "stream",
     "text": [
      "21 : Division of Social and Economic Sciences\n"
     ]
    },
    {
     "data": {
      "text/html": [
       "=> <a href=\"https://grid.ac/institutes/grid.457922.f\">https://grid.ac/institutes/grid.457922.f</a>"
      ],
      "text/plain": [
       "<IPython.core.display.HTML object>"
      ]
     },
     "metadata": {},
     "output_type": "display_data"
    },
    {
     "name": "stdout",
     "output_type": "stream",
     "text": [
      "22 : Division of Materials Research\n"
     ]
    },
    {
     "data": {
      "text/html": [
       "=> <a href=\"https://grid.ac/institutes/grid.457891.6\">https://grid.ac/institutes/grid.457891.6</a>"
      ],
      "text/plain": [
       "<IPython.core.display.HTML object>"
      ]
     },
     "metadata": {},
     "output_type": "display_data"
    },
    {
     "name": "stdout",
     "output_type": "stream",
     "text": [
      "23 : Division of Civil, Mechanical & Manufacturing Innovation\n"
     ]
    },
    {
     "data": {
      "text/html": [
       "=> <a href=\"https://grid.ac/institutes/grid.457814.b\">https://grid.ac/institutes/grid.457814.b</a>"
      ],
      "text/plain": [
       "<IPython.core.display.HTML object>"
      ]
     },
     "metadata": {},
     "output_type": "display_data"
    },
    {
     "name": "stdout",
     "output_type": "stream",
     "text": [
      "24 : Division of Ocean Sciences\n"
     ]
    },
    {
     "data": {
      "text/html": [
       "=> <a href=\"https://grid.ac/institutes/grid.457845.f\">https://grid.ac/institutes/grid.457845.f</a>"
      ],
      "text/plain": [
       "<IPython.core.display.HTML object>"
      ]
     },
     "metadata": {},
     "output_type": "display_data"
    }
   ],
   "source": [
    "nsfgrids = pd.read_csv(\"Dimensions-My-groups-2021-04-07_08-05-49.csv\")['ID'].to_list()\n",
    "\n",
    "def print_grid_info(grids_list):\n",
    "    data = dsl.query(f\"\"\"search organizations where id in {json.dumps(nsfgrids)} return organizations[id+name] limit 500\"\"\")\n",
    "    print(\"---\")\n",
    "    for n, x in enumerate(data.organizations):\n",
    "        gridurl = \"https://grid.ac/institutes/\" + x['id']\n",
    "        link = f\"\"\"<a href=\"{gridurl}\">{gridurl}</a>\"\"\"\n",
    "        print(n, \":\", x['name'])\n",
    "        display(HTML(\"=> \" + link))\n",
    "        \n",
    "print_grid_info(nsfgrids)\n"
   ]
  },
  {
   "cell_type": "markdown",
   "metadata": {
    "Collapsed": "false"
   },
   "source": [
    "## 1. How to use Dimension APIs to feed data to Tableau?\n",
    "\n",
    "It is possible, but this requires some Tableau data-connectors expertise. Some urls: \n",
    "\n",
    "* https://www.tableau.com/en-gb/about/blog/2015/8/connect-just-about-any-web-data-new-web-data-connector-42246-0\n",
    "* https://www.tableau.com/developer/data-connectivity\n",
    "\n",
    "\n",
    "**TIP**\n",
    "\n",
    "If you are after real-time integration, [Dimensions on GBQ is more suited](https://docs.dimensions.ai/bigquery/bi-tools-tableau.html). \n"
   ]
  },
  {
   "cell_type": "markdown",
   "metadata": {
    "Collapsed": "false"
   },
   "source": [
    "## 2. Can we input a group of PI identifiers and see how many papers they’ve published together?\n",
    "\n"
   ]
  },
  {
   "cell_type": "markdown",
   "metadata": {
    "Collapsed": "false"
   },
   "source": [
    "Yes. \n",
    "Once you have a list of researchers IDs, the basic query looks like this"
   ]
  },
  {
   "cell_type": "code",
   "execution_count": 25,
   "metadata": {
    "Collapsed": "false"
   },
   "outputs": [
    {
     "name": "stdout",
     "output_type": "stream",
     "text": [
      "Returned Publications: 5 (total = 5)\n",
      "\u001b[2mTime: 0.61s\u001b[0m\n"
     ]
    },
    {
     "data": {
      "text/html": [
       "<div>\n",
       "<style scoped>\n",
       "    .dataframe tbody tr th:only-of-type {\n",
       "        vertical-align: middle;\n",
       "    }\n",
       "\n",
       "    .dataframe tbody tr th {\n",
       "        vertical-align: top;\n",
       "    }\n",
       "\n",
       "    .dataframe thead th {\n",
       "        text-align: right;\n",
       "    }\n",
       "</style>\n",
       "<table border=\"1\" class=\"dataframe\">\n",
       "  <thead>\n",
       "    <tr style=\"text-align: right;\">\n",
       "      <th></th>\n",
       "      <th>id</th>\n",
       "      <th>type</th>\n",
       "      <th>year</th>\n",
       "      <th>title</th>\n",
       "      <th>pages</th>\n",
       "      <th>author_affiliations</th>\n",
       "      <th>volume</th>\n",
       "      <th>issue</th>\n",
       "      <th>journal.id</th>\n",
       "      <th>journal.title</th>\n",
       "    </tr>\n",
       "  </thead>\n",
       "  <tbody>\n",
       "    <tr>\n",
       "      <th>0</th>\n",
       "      <td>pub.1005571175</td>\n",
       "      <td>chapter</td>\n",
       "      <td>2013</td>\n",
       "      <td>Stretching the Capabilities of Energy Harvesti...</td>\n",
       "      <td>399-415</td>\n",
       "      <td>[[{'raw_affiliation': ['SRI International, 333...</td>\n",
       "      <td>NaN</td>\n",
       "      <td>NaN</td>\n",
       "      <td>NaN</td>\n",
       "      <td>NaN</td>\n",
       "    </tr>\n",
       "    <tr>\n",
       "      <th>1</th>\n",
       "      <td>pub.1067966707</td>\n",
       "      <td>article</td>\n",
       "      <td>2012</td>\n",
       "      <td>Dielectric elastomers: Stretching the capabili...</td>\n",
       "      <td>246-253</td>\n",
       "      <td>[[{'raw_affiliation': ['SRI International, Men...</td>\n",
       "      <td>37</td>\n",
       "      <td>3</td>\n",
       "      <td>jour.1381332</td>\n",
       "      <td>MRS Bulletin</td>\n",
       "    </tr>\n",
       "    <tr>\n",
       "      <th>2</th>\n",
       "      <td>pub.1019900398</td>\n",
       "      <td>chapter</td>\n",
       "      <td>2012</td>\n",
       "      <td>From Boots to Buoys: Promises and Challenges o...</td>\n",
       "      <td>67-93</td>\n",
       "      <td>[[{'raw_affiliation': ['SRI International, 333...</td>\n",
       "      <td>NaN</td>\n",
       "      <td>NaN</td>\n",
       "      <td>NaN</td>\n",
       "      <td>NaN</td>\n",
       "    </tr>\n",
       "    <tr>\n",
       "      <th>3</th>\n",
       "      <td>pub.1009376919</td>\n",
       "      <td>proceeding</td>\n",
       "      <td>2011</td>\n",
       "      <td>From boots to buoys: promises and challenges o...</td>\n",
       "      <td>797605-797605-19</td>\n",
       "      <td>[[{'raw_affiliation': ['SRI International (USA...</td>\n",
       "      <td>7976</td>\n",
       "      <td>NaN</td>\n",
       "      <td>jour.1312104</td>\n",
       "      <td>Proceedings of SPIE</td>\n",
       "    </tr>\n",
       "    <tr>\n",
       "      <th>4</th>\n",
       "      <td>pub.1050642837</td>\n",
       "      <td>article</td>\n",
       "      <td>2007</td>\n",
       "      <td>Development and Testing of the Mentor Flapping...</td>\n",
       "      <td>1701-1711</td>\n",
       "      <td>[[{'raw_affiliation': [], 'first_name': 'Patri...</td>\n",
       "      <td>44</td>\n",
       "      <td>5</td>\n",
       "      <td>jour.1123512</td>\n",
       "      <td>Journal of Aircraft</td>\n",
       "    </tr>\n",
       "  </tbody>\n",
       "</table>\n",
       "</div>"
      ],
      "text/plain": [
       "               id        type  year  \\\n",
       "0  pub.1005571175     chapter  2013   \n",
       "1  pub.1067966707     article  2012   \n",
       "2  pub.1019900398     chapter  2012   \n",
       "3  pub.1009376919  proceeding  2011   \n",
       "4  pub.1050642837     article  2007   \n",
       "\n",
       "                                               title             pages  \\\n",
       "0  Stretching the Capabilities of Energy Harvesti...           399-415   \n",
       "1  Dielectric elastomers: Stretching the capabili...           246-253   \n",
       "2  From Boots to Buoys: Promises and Challenges o...             67-93   \n",
       "3  From boots to buoys: promises and challenges o...  797605-797605-19   \n",
       "4  Development and Testing of the Mentor Flapping...         1701-1711   \n",
       "\n",
       "                                 author_affiliations volume issue  \\\n",
       "0  [[{'raw_affiliation': ['SRI International, 333...    NaN   NaN   \n",
       "1  [[{'raw_affiliation': ['SRI International, Men...     37     3   \n",
       "2  [[{'raw_affiliation': ['SRI International, 333...    NaN   NaN   \n",
       "3  [[{'raw_affiliation': ['SRI International (USA...   7976   NaN   \n",
       "4  [[{'raw_affiliation': [], 'first_name': 'Patri...     44     5   \n",
       "\n",
       "     journal.id        journal.title  \n",
       "0           NaN                  NaN  \n",
       "1  jour.1381332         MRS Bulletin  \n",
       "2           NaN                  NaN  \n",
       "3  jour.1312104  Proceedings of SPIE  \n",
       "4  jour.1123512  Journal of Aircraft  "
      ]
     },
     "execution_count": 25,
     "metadata": {},
     "output_type": "execute_result"
    }
   ],
   "source": [
    "%%dsldf\n",
    "\n",
    "search publications \n",
    " where researchers in [\"ur.0712003446.74\"] and researchers in [\"ur.016320653066.87\"]\n",
    "return publications"
   ]
  },
  {
   "cell_type": "markdown",
   "metadata": {
    "Collapsed": "false"
   },
   "source": [
    "A more real-world situation. \n",
    "\n",
    "Let's try to run that for an arbitrary list of researchers. \n",
    "\n",
    "The first thing we want to do is to get a full list of papers from those researchers, combined.  "
   ]
  },
  {
   "cell_type": "code",
   "execution_count": 26,
   "metadata": {
    "Collapsed": "false"
   },
   "outputs": [
    {
     "name": "stdout",
     "output_type": "stream",
     "text": [
      "Starting iteration with limit=1000 skip=0 ...\n",
      "0-1000 / 1112 (2.17s)\n",
      "1000-1112 / 1112 (0.68s)\n",
      "===\n",
      "Records extracted: 1112\n"
     ]
    },
    {
     "data": {
      "text/html": [
       "<div>\n",
       "<style scoped>\n",
       "    .dataframe tbody tr th:only-of-type {\n",
       "        vertical-align: middle;\n",
       "    }\n",
       "\n",
       "    .dataframe tbody tr th {\n",
       "        vertical-align: top;\n",
       "    }\n",
       "\n",
       "    .dataframe thead th {\n",
       "        text-align: right;\n",
       "    }\n",
       "</style>\n",
       "<table border=\"1\" class=\"dataframe\">\n",
       "  <thead>\n",
       "    <tr style=\"text-align: right;\">\n",
       "      <th></th>\n",
       "      <th>doi</th>\n",
       "      <th>year</th>\n",
       "      <th>id</th>\n",
       "      <th>researchers</th>\n",
       "    </tr>\n",
       "  </thead>\n",
       "  <tbody>\n",
       "    <tr>\n",
       "      <th>0</th>\n",
       "      <td>10.1016/j.scib.2020.12.023</td>\n",
       "      <td>2021.0</td>\n",
       "      <td>pub.1133585945</td>\n",
       "      <td>[{'id': 'ur.010621020445.92', 'last_name': 'Bi...</td>\n",
       "    </tr>\n",
       "    <tr>\n",
       "      <th>1</th>\n",
       "      <td>10.1016/j.joule.2020.12.018</td>\n",
       "      <td>2021.0</td>\n",
       "      <td>pub.1134518778</td>\n",
       "      <td>[{'id': 'ur.013211577275.92', 'last_name': 'Me...</td>\n",
       "    </tr>\n",
       "    <tr>\n",
       "      <th>2</th>\n",
       "      <td>10.1016/j.compscitech.2021.108677</td>\n",
       "      <td>2021.0</td>\n",
       "      <td>pub.1134846876</td>\n",
       "      <td>[{'id': 'ur.012127756567.96', 'last_name': 'Wa...</td>\n",
       "    </tr>\n",
       "    <tr>\n",
       "      <th>3</th>\n",
       "      <td>10.1117/12.2587093</td>\n",
       "      <td>2021.0</td>\n",
       "      <td>pub.1136543363</td>\n",
       "      <td>[{'id': 'ur.016225624463.67', 'last_name': 'Pl...</td>\n",
       "    </tr>\n",
       "    <tr>\n",
       "      <th>4</th>\n",
       "      <td>10.1038/s41586-021-03295-8</td>\n",
       "      <td>2021.0</td>\n",
       "      <td>pub.1136269217</td>\n",
       "      <td>[{'id': 'ur.016622642113.60', 'last_name': 'Sh...</td>\n",
       "    </tr>\n",
       "    <tr>\n",
       "      <th>...</th>\n",
       "      <td>...</td>\n",
       "      <td>...</td>\n",
       "      <td>...</td>\n",
       "      <td>...</td>\n",
       "    </tr>\n",
       "    <tr>\n",
       "      <th>1107</th>\n",
       "      <td>10.1149/1.2124261</td>\n",
       "      <td>1982.0</td>\n",
       "      <td>pub.1053225087</td>\n",
       "      <td>[{'id': 'ur.01337723522.69', 'last_name': 'Sko...</td>\n",
       "    </tr>\n",
       "    <tr>\n",
       "      <th>1108</th>\n",
       "      <td>10.1088/0031-8949/25/6a/053</td>\n",
       "      <td>1982.0</td>\n",
       "      <td>pub.1058997323</td>\n",
       "      <td>[{'id': 'ur.01164503023.84', 'last_name': 'Ing...</td>\n",
       "    </tr>\n",
       "    <tr>\n",
       "      <th>1109</th>\n",
       "      <td>10.1080/00268948208072183</td>\n",
       "      <td>1982.0</td>\n",
       "      <td>pub.1029296203</td>\n",
       "      <td>[{'id': 'ur.01337723522.69', 'last_name': 'Sko...</td>\n",
       "    </tr>\n",
       "    <tr>\n",
       "      <th>1110</th>\n",
       "      <td>10.1016/0040-6090(81)90625-8</td>\n",
       "      <td>1981.0</td>\n",
       "      <td>pub.1036405559</td>\n",
       "      <td>[{'id': 'ur.01164503023.84', 'last_name': 'Ing...</td>\n",
       "    </tr>\n",
       "    <tr>\n",
       "      <th>1111</th>\n",
       "      <td>10.21236/ada525719</td>\n",
       "      <td>NaN</td>\n",
       "      <td>pub.1091734464</td>\n",
       "      <td>[{'id': 'ur.01277210601.37', 'last_name': 'Pei...</td>\n",
       "    </tr>\n",
       "  </tbody>\n",
       "</table>\n",
       "<p>1112 rows × 4 columns</p>\n",
       "</div>"
      ],
      "text/plain": [
       "                                    doi    year              id  \\\n",
       "0            10.1016/j.scib.2020.12.023  2021.0  pub.1133585945   \n",
       "1           10.1016/j.joule.2020.12.018  2021.0  pub.1134518778   \n",
       "2     10.1016/j.compscitech.2021.108677  2021.0  pub.1134846876   \n",
       "3                    10.1117/12.2587093  2021.0  pub.1136543363   \n",
       "4            10.1038/s41586-021-03295-8  2021.0  pub.1136269217   \n",
       "...                                 ...     ...             ...   \n",
       "1107                  10.1149/1.2124261  1982.0  pub.1053225087   \n",
       "1108        10.1088/0031-8949/25/6a/053  1982.0  pub.1058997323   \n",
       "1109          10.1080/00268948208072183  1982.0  pub.1029296203   \n",
       "1110       10.1016/0040-6090(81)90625-8  1981.0  pub.1036405559   \n",
       "1111                 10.21236/ada525719     NaN  pub.1091734464   \n",
       "\n",
       "                                            researchers  \n",
       "0     [{'id': 'ur.010621020445.92', 'last_name': 'Bi...  \n",
       "1     [{'id': 'ur.013211577275.92', 'last_name': 'Me...  \n",
       "2     [{'id': 'ur.012127756567.96', 'last_name': 'Wa...  \n",
       "3     [{'id': 'ur.016225624463.67', 'last_name': 'Pl...  \n",
       "4     [{'id': 'ur.016622642113.60', 'last_name': 'Sh...  \n",
       "...                                                 ...  \n",
       "1107  [{'id': 'ur.01337723522.69', 'last_name': 'Sko...  \n",
       "1108  [{'id': 'ur.01164503023.84', 'last_name': 'Ing...  \n",
       "1109  [{'id': 'ur.01337723522.69', 'last_name': 'Sko...  \n",
       "1110  [{'id': 'ur.01164503023.84', 'last_name': 'Ing...  \n",
       "1111  [{'id': 'ur.01277210601.37', 'last_name': 'Pei...  \n",
       "\n",
       "[1112 rows x 4 columns]"
      ]
     },
     "execution_count": 26,
     "metadata": {},
     "output_type": "execute_result"
    }
   ],
   "source": [
    "researchers = [\"ur.01300627117.45\", \"ur.01277210601.37\", \"ur.0712003446.74\", \"ur.01164503023.84\", \"ur.01023531107.25\", \"ur.015315123227.85\"]\n",
    "\n",
    "#\n",
    "# use `query_iterative` to get up to 50k records\n",
    "#\n",
    "allpubs = dsl.query_iterative(f\"\"\"\n",
    "search publications \n",
    "    where researchers in {json.dumps(researchers)}\n",
    "return publications[year+doi+id+researchers] \n",
    "\"\"\").as_dataframe()\n",
    "\n",
    "allpubs"
   ]
  },
  {
   "cell_type": "markdown",
   "metadata": {
    "Collapsed": "false"
   },
   "source": [
    "Then we are generating a matrix by counting how many times each researcher is a coauthor with any of the researchers in the original list. "
   ]
  },
  {
   "cell_type": "code",
   "execution_count": 27,
   "metadata": {
    "Collapsed": "false"
   },
   "outputs": [
    {
     "name": "stdout",
     "output_type": "stream",
     "text": [
      "ur.01300627117.45 ur.01300627117.45 0\n",
      "ur.01300627117.45 ur.01277210601.37 36\n",
      "ur.01300627117.45 ur.0712003446.74 0\n",
      "ur.01300627117.45 ur.01164503023.84 0\n",
      "ur.01300627117.45 ur.01023531107.25 0\n",
      "ur.01300627117.45 ur.015315123227.85 0\n",
      "ur.01277210601.37 ur.01300627117.45 36\n",
      "ur.01277210601.37 ur.01277210601.37 0\n",
      "ur.01277210601.37 ur.0712003446.74 17\n",
      "ur.01277210601.37 ur.01164503023.84 13\n",
      "ur.01277210601.37 ur.01023531107.25 3\n",
      "ur.01277210601.37 ur.015315123227.85 0\n",
      "ur.0712003446.74 ur.01300627117.45 0\n",
      "ur.0712003446.74 ur.01277210601.37 17\n",
      "ur.0712003446.74 ur.0712003446.74 0\n",
      "ur.0712003446.74 ur.01164503023.84 0\n",
      "ur.0712003446.74 ur.01023531107.25 4\n",
      "ur.0712003446.74 ur.015315123227.85 4\n",
      "ur.01164503023.84 ur.01300627117.45 0\n",
      "ur.01164503023.84 ur.01277210601.37 13\n",
      "ur.01164503023.84 ur.0712003446.74 0\n",
      "ur.01164503023.84 ur.01164503023.84 0\n",
      "ur.01164503023.84 ur.01023531107.25 0\n",
      "ur.01164503023.84 ur.015315123227.85 0\n",
      "ur.01023531107.25 ur.01300627117.45 0\n",
      "ur.01023531107.25 ur.01277210601.37 3\n",
      "ur.01023531107.25 ur.0712003446.74 4\n",
      "ur.01023531107.25 ur.01164503023.84 0\n",
      "ur.01023531107.25 ur.01023531107.25 0\n",
      "ur.01023531107.25 ur.015315123227.85 0\n",
      "ur.015315123227.85 ur.01300627117.45 0\n",
      "ur.015315123227.85 ur.01277210601.37 0\n",
      "ur.015315123227.85 ur.0712003446.74 4\n",
      "ur.015315123227.85 ur.01164503023.84 0\n",
      "ur.015315123227.85 ur.01023531107.25 0\n",
      "ur.015315123227.85 ur.015315123227.85 0\n"
     ]
    },
    {
     "data": {
      "text/plain": [
       "[[0, 36, 0, 0, 0, 0],\n",
       " [36, 0, 17, 13, 3, 0],\n",
       " [0, 17, 0, 0, 4, 4],\n",
       " [0, 13, 0, 0, 0, 0],\n",
       " [0, 3, 4, 0, 0, 0],\n",
       " [0, 0, 4, 0, 0, 0]]"
      ]
     },
     "execution_count": 27,
     "metadata": {},
     "output_type": "execute_result"
    }
   ],
   "source": [
    "\n",
    "def coauthors_check(res1, res2):\n",
    "    \"\"\"Check if res1 & res2 are in the authors list of of a publications, for all publications in our dataframe.\"\"\"\n",
    "    count = 0 \n",
    "    if res1 == res2:\n",
    "        return count\n",
    "    for index, row in allpubs.iterrows():\n",
    "        authors = [el['id'] for el in row['researchers']]\n",
    "        if res1 in authors and res2 in authors:\n",
    "            count +=1 \n",
    "    return count \n",
    "    \n",
    "\n",
    "# run so to check all combinations \n",
    "\n",
    "vals = []\n",
    "for res1 in researchers:\n",
    "    valsinner = []\n",
    "    for res2 in researchers:\n",
    "        result = coauthors_check(res1, res2)\n",
    "        print(res1, res2, result)\n",
    "        valsinner += [result]\n",
    "    vals += [valsinner]\n",
    "vals "
   ]
  },
  {
   "cell_type": "markdown",
   "metadata": {
    "Collapsed": "false"
   },
   "source": [
    "Let's display the data as a heatmap\n",
    "\n",
    "See also this tutorial: [Plot correlation matrix using pandas](https://stackoverflow.com/questions/29432629/plot-correlation-matrix-using-pandas/50703596#50703596)"
   ]
  },
  {
   "cell_type": "code",
   "execution_count": 6,
   "metadata": {
    "Collapsed": "false"
   },
   "outputs": [
    {
     "data": {
      "text/html": [
       "<style  type=\"text/css\" >\n",
       "#T_f611a_row0_col0,#T_f611a_row0_col2,#T_f611a_row0_col3,#T_f611a_row0_col4,#T_f611a_row0_col5,#T_f611a_row1_col1,#T_f611a_row1_col5,#T_f611a_row2_col0,#T_f611a_row2_col2,#T_f611a_row2_col3,#T_f611a_row3_col0,#T_f611a_row3_col2,#T_f611a_row3_col3,#T_f611a_row3_col4,#T_f611a_row3_col5,#T_f611a_row4_col0,#T_f611a_row4_col3,#T_f611a_row4_col4,#T_f611a_row4_col5,#T_f611a_row5_col0,#T_f611a_row5_col1,#T_f611a_row5_col3,#T_f611a_row5_col4,#T_f611a_row5_col5{\n",
       "            background-color:  #3b4cc0;\n",
       "            color:  #f1f1f1;\n",
       "            font-size:  20px;\n",
       "        }#T_f611a_row0_col1,#T_f611a_row1_col0{\n",
       "            background-color:  #b40426;\n",
       "            color:  #f1f1f1;\n",
       "            font-size:  20px;\n",
       "        }#T_f611a_row1_col2,#T_f611a_row2_col1{\n",
       "            background-color:  #d5dbe5;\n",
       "            color:  #000000;\n",
       "            font-size:  20px;\n",
       "        }#T_f611a_row1_col3,#T_f611a_row3_col1{\n",
       "            background-color:  #b3cdfb;\n",
       "            color:  #000000;\n",
       "            font-size:  20px;\n",
       "        }#T_f611a_row1_col4,#T_f611a_row4_col1{\n",
       "            background-color:  #5470de;\n",
       "            color:  #000000;\n",
       "            font-size:  20px;\n",
       "        }#T_f611a_row2_col4,#T_f611a_row2_col5,#T_f611a_row4_col2,#T_f611a_row5_col2{\n",
       "            background-color:  #5d7ce6;\n",
       "            color:  #000000;\n",
       "            font-size:  20px;\n",
       "        }</style><table id=\"T_f611a_\" ><thead>    <tr>        <th class=\"blank level0\" ></th>        <th class=\"col_heading level0 col0\" >ur.01300627117.45</th>        <th class=\"col_heading level0 col1\" >ur.01277210601.37</th>        <th class=\"col_heading level0 col2\" >ur.0712003446.74</th>        <th class=\"col_heading level0 col3\" >ur.01164503023.84</th>        <th class=\"col_heading level0 col4\" >ur.01023531107.25</th>        <th class=\"col_heading level0 col5\" >ur.015315123227.85</th>    </tr></thead><tbody>\n",
       "                <tr>\n",
       "                        <th id=\"T_f611a_level0_row0\" class=\"row_heading level0 row0\" >ur.01300627117.45</th>\n",
       "                        <td id=\"T_f611a_row0_col0\" class=\"data row0 col0\" >0</td>\n",
       "                        <td id=\"T_f611a_row0_col1\" class=\"data row0 col1\" >36</td>\n",
       "                        <td id=\"T_f611a_row0_col2\" class=\"data row0 col2\" >0</td>\n",
       "                        <td id=\"T_f611a_row0_col3\" class=\"data row0 col3\" >0</td>\n",
       "                        <td id=\"T_f611a_row0_col4\" class=\"data row0 col4\" >0</td>\n",
       "                        <td id=\"T_f611a_row0_col5\" class=\"data row0 col5\" >0</td>\n",
       "            </tr>\n",
       "            <tr>\n",
       "                        <th id=\"T_f611a_level0_row1\" class=\"row_heading level0 row1\" >ur.01277210601.37</th>\n",
       "                        <td id=\"T_f611a_row1_col0\" class=\"data row1 col0\" >36</td>\n",
       "                        <td id=\"T_f611a_row1_col1\" class=\"data row1 col1\" >0</td>\n",
       "                        <td id=\"T_f611a_row1_col2\" class=\"data row1 col2\" >17</td>\n",
       "                        <td id=\"T_f611a_row1_col3\" class=\"data row1 col3\" >13</td>\n",
       "                        <td id=\"T_f611a_row1_col4\" class=\"data row1 col4\" >3</td>\n",
       "                        <td id=\"T_f611a_row1_col5\" class=\"data row1 col5\" >0</td>\n",
       "            </tr>\n",
       "            <tr>\n",
       "                        <th id=\"T_f611a_level0_row2\" class=\"row_heading level0 row2\" >ur.0712003446.74</th>\n",
       "                        <td id=\"T_f611a_row2_col0\" class=\"data row2 col0\" >0</td>\n",
       "                        <td id=\"T_f611a_row2_col1\" class=\"data row2 col1\" >17</td>\n",
       "                        <td id=\"T_f611a_row2_col2\" class=\"data row2 col2\" >0</td>\n",
       "                        <td id=\"T_f611a_row2_col3\" class=\"data row2 col3\" >0</td>\n",
       "                        <td id=\"T_f611a_row2_col4\" class=\"data row2 col4\" >4</td>\n",
       "                        <td id=\"T_f611a_row2_col5\" class=\"data row2 col5\" >4</td>\n",
       "            </tr>\n",
       "            <tr>\n",
       "                        <th id=\"T_f611a_level0_row3\" class=\"row_heading level0 row3\" >ur.01164503023.84</th>\n",
       "                        <td id=\"T_f611a_row3_col0\" class=\"data row3 col0\" >0</td>\n",
       "                        <td id=\"T_f611a_row3_col1\" class=\"data row3 col1\" >13</td>\n",
       "                        <td id=\"T_f611a_row3_col2\" class=\"data row3 col2\" >0</td>\n",
       "                        <td id=\"T_f611a_row3_col3\" class=\"data row3 col3\" >0</td>\n",
       "                        <td id=\"T_f611a_row3_col4\" class=\"data row3 col4\" >0</td>\n",
       "                        <td id=\"T_f611a_row3_col5\" class=\"data row3 col5\" >0</td>\n",
       "            </tr>\n",
       "            <tr>\n",
       "                        <th id=\"T_f611a_level0_row4\" class=\"row_heading level0 row4\" >ur.01023531107.25</th>\n",
       "                        <td id=\"T_f611a_row4_col0\" class=\"data row4 col0\" >0</td>\n",
       "                        <td id=\"T_f611a_row4_col1\" class=\"data row4 col1\" >3</td>\n",
       "                        <td id=\"T_f611a_row4_col2\" class=\"data row4 col2\" >4</td>\n",
       "                        <td id=\"T_f611a_row4_col3\" class=\"data row4 col3\" >0</td>\n",
       "                        <td id=\"T_f611a_row4_col4\" class=\"data row4 col4\" >0</td>\n",
       "                        <td id=\"T_f611a_row4_col5\" class=\"data row4 col5\" >0</td>\n",
       "            </tr>\n",
       "            <tr>\n",
       "                        <th id=\"T_f611a_level0_row5\" class=\"row_heading level0 row5\" >ur.015315123227.85</th>\n",
       "                        <td id=\"T_f611a_row5_col0\" class=\"data row5 col0\" >0</td>\n",
       "                        <td id=\"T_f611a_row5_col1\" class=\"data row5 col1\" >0</td>\n",
       "                        <td id=\"T_f611a_row5_col2\" class=\"data row5 col2\" >4</td>\n",
       "                        <td id=\"T_f611a_row5_col3\" class=\"data row5 col3\" >0</td>\n",
       "                        <td id=\"T_f611a_row5_col4\" class=\"data row5 col4\" >0</td>\n",
       "                        <td id=\"T_f611a_row5_col5\" class=\"data row5 col5\" >0</td>\n",
       "            </tr>\n",
       "    </tbody></table>"
      ],
      "text/plain": [
       "<pandas.io.formats.style.Styler at 0x10d7125b0>"
      ]
     },
     "execution_count": 6,
     "metadata": {},
     "output_type": "execute_result"
    }
   ],
   "source": [
    "idx = researchers\n",
    "cols = researchers\n",
    "df = pd.DataFrame(vals, columns = cols, index = idx)\n",
    "\n",
    "df.style.background_gradient(cmap ='coolwarm', axis=None)\\\n",
    "        .set_properties(**{'font-size': '20px'})"
   ]
  },
  {
   "cell_type": "markdown",
   "metadata": {
    "Collapsed": "false"
   },
   "source": [
    "## 3. Grants list with associated publications and patents \n",
    "\n",
    "> If we start searching for all the grants that have been awarded by saying CISE in the last 10 years, can we get back a table containing a list of publications and patents citing those grants as funding support?  \n",
    "> In other words, the final output table should contain 5 columns: Funding Agency, Grant id (Dimensions), Grant number (Agency), Publication id, Patent id?  \n",
    "> In theory, this could generate many records with duplicate publication id and/or patent id as there might be multiple publications and patents to each award, but one could also easy roll-up by grant id, and count from the table, on average, the number of publications and patents of a given award.\n"
   ]
  },
  {
   "cell_type": "markdown",
   "metadata": {
    "Collapsed": "false"
   },
   "source": [
    "### 3.1 From grants to Associated publications\n",
    "\n",
    "Three main steps\n",
    "\n",
    "1. Get the list of grants \n",
    "2. Get all publications funded by those grants, in bulk\n",
    "3. Roll up publications by grants \n",
    "    \n",
    "**NOTE** see also this tutorial [Enriching Grants part 2: Adding Publications Information from Dimensions](https://api-lab.dimensions.ai/cookbooks/3-grants/2-grants-enrichment-adding-publications-information.html)    \n",
    " "
   ]
  },
  {
   "cell_type": "code",
   "execution_count": 28,
   "metadata": {
    "Collapsed": "false"
   },
   "outputs": [
    {
     "name": "stdout",
     "output_type": "stream",
     "text": [
      "Starting iteration with limit=1000 skip=0 ...\n",
      "0-1000 / 6967 (0.67s)\n",
      "1000-2000 / 6967 (0.67s)\n",
      "2000-3000 / 6967 (0.69s)\n",
      "3000-4000 / 6967 (0.57s)\n",
      "4000-5000 / 6967 (0.66s)\n",
      "5000-6000 / 6967 (0.66s)\n",
      "6000-6967 / 6967 (0.60s)\n",
      "===\n",
      "Records extracted: 6967\n"
     ]
    },
    {
     "data": {
      "text/html": [
       "<div>\n",
       "<style scoped>\n",
       "    .dataframe tbody tr th:only-of-type {\n",
       "        vertical-align: middle;\n",
       "    }\n",
       "\n",
       "    .dataframe tbody tr th {\n",
       "        vertical-align: top;\n",
       "    }\n",
       "\n",
       "    .dataframe thead th {\n",
       "        text-align: right;\n",
       "    }\n",
       "</style>\n",
       "<table border=\"1\" class=\"dataframe\">\n",
       "  <thead>\n",
       "    <tr style=\"text-align: right;\">\n",
       "      <th></th>\n",
       "      <th>grant_number</th>\n",
       "      <th>funding_org_name</th>\n",
       "      <th>start_year</th>\n",
       "      <th>title</th>\n",
       "      <th>id</th>\n",
       "    </tr>\n",
       "  </thead>\n",
       "  <tbody>\n",
       "    <tr>\n",
       "      <th>0</th>\n",
       "      <td>2040926</td>\n",
       "      <td>Directorate for Computer &amp; Information Science...</td>\n",
       "      <td>2021</td>\n",
       "      <td>FAI: Quantifying and Mitigating Disparities in...</td>\n",
       "      <td>grant.9605613</td>\n",
       "    </tr>\n",
       "    <tr>\n",
       "      <th>1</th>\n",
       "      <td>2044516</td>\n",
       "      <td>Directorate for Computer &amp; Information Science...</td>\n",
       "      <td>2021</td>\n",
       "      <td>CAREER: Data-Driven Wireless Networking Design...</td>\n",
       "      <td>grant.9620903</td>\n",
       "    </tr>\n",
       "    <tr>\n",
       "      <th>2</th>\n",
       "      <td>2047516</td>\n",
       "      <td>Directorate for Computer &amp; Information Science...</td>\n",
       "      <td>2021</td>\n",
       "      <td>CAREER: Achieving Real-Time Machine Learning w...</td>\n",
       "      <td>grant.9605878</td>\n",
       "    </tr>\n",
       "    <tr>\n",
       "      <th>3</th>\n",
       "      <td>2047623</td>\n",
       "      <td>Directorate for Computer &amp; Information Science...</td>\n",
       "      <td>2021</td>\n",
       "      <td>CAREER: Black-Box Learning of Web Application ...</td>\n",
       "      <td>grant.9621098</td>\n",
       "    </tr>\n",
       "    <tr>\n",
       "      <th>4</th>\n",
       "      <td>2051621</td>\n",
       "      <td>Directorate for Computer &amp; Information Science...</td>\n",
       "      <td>2021</td>\n",
       "      <td>SaTC: CORE: Small: Automatic Exploits Detectio...</td>\n",
       "      <td>grant.9606024</td>\n",
       "    </tr>\n",
       "  </tbody>\n",
       "</table>\n",
       "</div>"
      ],
      "text/plain": [
       "  grant_number                                   funding_org_name  start_year  \\\n",
       "0      2040926  Directorate for Computer & Information Science...        2021   \n",
       "1      2044516  Directorate for Computer & Information Science...        2021   \n",
       "2      2047516  Directorate for Computer & Information Science...        2021   \n",
       "3      2047623  Directorate for Computer & Information Science...        2021   \n",
       "4      2051621  Directorate for Computer & Information Science...        2021   \n",
       "\n",
       "                                               title             id  \n",
       "0  FAI: Quantifying and Mitigating Disparities in...  grant.9605613  \n",
       "1  CAREER: Data-Driven Wireless Networking Design...  grant.9620903  \n",
       "2  CAREER: Achieving Real-Time Machine Learning w...  grant.9605878  \n",
       "3  CAREER: Black-Box Learning of Web Application ...  grant.9621098  \n",
       "4  SaTC: CORE: Small: Automatic Exploits Detectio...  grant.9606024  "
      ]
     },
     "execution_count": 28,
     "metadata": {},
     "output_type": "execute_result"
    }
   ],
   "source": [
    "# first let's get those grants \n",
    "\n",
    "grants  = dsl.query_iterative(\"\"\"\n",
    "search grants \n",
    "    where funders in [\"grid.457785.c\"]\n",
    "    and start_year >= 2018 \n",
    "return grants[id+title+grant_number+start_year+funding_org_name] \n",
    "\"\"\").as_dataframe()\n",
    "\n",
    "grants.head(5)"
   ]
  },
  {
   "cell_type": "markdown",
   "metadata": {
    "Collapsed": "false"
   },
   "source": [
    "#### Extracting publications from a long grants list \n",
    "\n",
    "> See also [Working with lists in the Dimensions API](https://api-lab.dimensions.ai/cookbooks/1-getting-started/6-Working-with-lists.html)"
   ]
  },
  {
   "cell_type": "code",
   "execution_count": 29,
   "metadata": {
    "Collapsed": "false"
   },
   "outputs": [
    {
     "data": {
      "application/vnd.jupyter.widget-view+json": {
       "model_id": "96c2c9a8f124408c8c363a3f90bd9b32",
       "version_major": 2,
       "version_minor": 0
      },
      "text/plain": [
       "HBox(children=(HTML(value=''), FloatProgress(value=0.0, max=35.0), HTML(value='')))"
      ]
     },
     "metadata": {},
     "output_type": "display_data"
    },
    {
     "name": "stdout",
     "output_type": "stream",
     "text": [
      "\n",
      "Publications found:  14926\n",
      "Unique publications found:  12104\n"
     ]
    },
    {
     "data": {
      "text/html": [
       "<div>\n",
       "<style scoped>\n",
       "    .dataframe tbody tr th:only-of-type {\n",
       "        vertical-align: middle;\n",
       "    }\n",
       "\n",
       "    .dataframe tbody tr th {\n",
       "        vertical-align: top;\n",
       "    }\n",
       "\n",
       "    .dataframe thead th {\n",
       "        text-align: right;\n",
       "    }\n",
       "</style>\n",
       "<table border=\"1\" class=\"dataframe\">\n",
       "  <thead>\n",
       "    <tr style=\"text-align: right;\">\n",
       "      <th></th>\n",
       "      <th>year</th>\n",
       "      <th>supporting_grant_ids</th>\n",
       "      <th>title</th>\n",
       "      <th>doi</th>\n",
       "      <th>funders</th>\n",
       "    </tr>\n",
       "  </thead>\n",
       "  <tbody>\n",
       "    <tr>\n",
       "      <th>0</th>\n",
       "      <td>2021</td>\n",
       "      <td>grant.9621109,grant.7028950</td>\n",
       "      <td>SARS-CoV-2 transmission dynamics in Belarus re...</td>\n",
       "      <td>10.1101/2021.04.13.21255404</td>\n",
       "      <td>[{'id': 'grid.457785.c', 'country_name': 'Unit...</td>\n",
       "    </tr>\n",
       "    <tr>\n",
       "      <th>1</th>\n",
       "      <td>2021</td>\n",
       "      <td>grant.9214869,grant.9605585,grant.9383405</td>\n",
       "      <td>UAV-Assisted Communication in Remote Disaster ...</td>\n",
       "      <td>10.1109/ojcoms.2021.3067001</td>\n",
       "      <td>[{'id': 'grid.457810.f', 'country_name': 'Unit...</td>\n",
       "    </tr>\n",
       "    <tr>\n",
       "      <th>2</th>\n",
       "      <td>2021</td>\n",
       "      <td>grant.9606039,grant.5544810</td>\n",
       "      <td>Beyond the CPU: Side Channel Attacks on GPUs</td>\n",
       "      <td>10.1109/mdat.2021.3063359</td>\n",
       "      <td>[{'id': 'grid.457785.c', 'country_name': 'Unit...</td>\n",
       "    </tr>\n",
       "    <tr>\n",
       "      <th>3</th>\n",
       "      <td>2021</td>\n",
       "      <td>grant.6932729,grant.9621005,grant.5540310,gran...</td>\n",
       "      <td>A Generalized Framework for Preserving Both Pr...</td>\n",
       "      <td>10.1109/tkde.2021.3078099</td>\n",
       "      <td>[{'id': 'grid.457785.c', 'country_name': 'Unit...</td>\n",
       "    </tr>\n",
       "    <tr>\n",
       "      <th>4</th>\n",
       "      <td>2021</td>\n",
       "      <td>grant.9621063</td>\n",
       "      <td>Towards understanding the design of bodily int...</td>\n",
       "      <td>10.1016/j.ijhcs.2021.102643</td>\n",
       "      <td>[{'id': 'grid.457785.c', 'latitude': 38.88058,...</td>\n",
       "    </tr>\n",
       "  </tbody>\n",
       "</table>\n",
       "</div>"
      ],
      "text/plain": [
       "   year                               supporting_grant_ids  \\\n",
       "0  2021                        grant.9621109,grant.7028950   \n",
       "1  2021          grant.9214869,grant.9605585,grant.9383405   \n",
       "2  2021                        grant.9606039,grant.5544810   \n",
       "3  2021  grant.6932729,grant.9621005,grant.5540310,gran...   \n",
       "4  2021                                      grant.9621063   \n",
       "\n",
       "                                               title  \\\n",
       "0  SARS-CoV-2 transmission dynamics in Belarus re...   \n",
       "1  UAV-Assisted Communication in Remote Disaster ...   \n",
       "2       Beyond the CPU: Side Channel Attacks on GPUs   \n",
       "3  A Generalized Framework for Preserving Both Pr...   \n",
       "4  Towards understanding the design of bodily int...   \n",
       "\n",
       "                           doi  \\\n",
       "0  10.1101/2021.04.13.21255404   \n",
       "1  10.1109/ojcoms.2021.3067001   \n",
       "2    10.1109/mdat.2021.3063359   \n",
       "3    10.1109/tkde.2021.3078099   \n",
       "4  10.1016/j.ijhcs.2021.102643   \n",
       "\n",
       "                                             funders  \n",
       "0  [{'id': 'grid.457785.c', 'country_name': 'Unit...  \n",
       "1  [{'id': 'grid.457810.f', 'country_name': 'Unit...  \n",
       "2  [{'id': 'grid.457785.c', 'country_name': 'Unit...  \n",
       "3  [{'id': 'grid.457785.c', 'country_name': 'Unit...  \n",
       "4  [{'id': 'grid.457785.c', 'latitude': 38.88058,...  "
      ]
     },
     "execution_count": 29,
     "metadata": {},
     "output_type": "execute_result"
    }
   ],
   "source": [
    "# second, let's get publications \n",
    "# each query can take ~300 grants at a time, so we have to 'chunk' the grants list \n",
    "\n",
    "from tqdm.notebook import tqdm as progressbar\n",
    "grantsids = grants['id'].to_list()\n",
    "\n",
    "\n",
    "#\n",
    "# the main query\n",
    "#\n",
    "q = \"\"\"search publications\n",
    "          where supporting_grant_ids in {}\n",
    "       return publications[title+doi+year+supporting_grant_ids+funders]\"\"\"\n",
    "\n",
    "#\n",
    "# let's loop through all grants IDs in chunks and query Dimensions\n",
    "#\n",
    "results = []\n",
    "for chunk in progressbar(list(chunks_of(list(grantsids), 200))):\n",
    "    data = dsl.query_iterative(q.format(json.dumps(chunk)), verbose=False)\n",
    "    results += data.publications\n",
    "    time.sleep(1)\n",
    "\n",
    "#\n",
    "# put the data into a dataframe, remove duplicates and save\n",
    "#\n",
    "pubs = pd.DataFrame().from_dict(results)\n",
    "print(\"Publications found: \", len(pubs))\n",
    "pubs.drop_duplicates(subset='doi', inplace=True)\n",
    "print(\"Unique publications found: \", len(pubs))\n",
    "# turning lists into strings to ensure compatibility with CSV loaded data\n",
    "# see also: https://stackoverflow.com/questions/23111990/pandas-dataframe-stored-list-as-string-how-to-convert-back-to-list\n",
    "pubs['supporting_grant_ids'] = pubs['supporting_grant_ids'].apply(lambda x: ','.join(map(str, x)))\n",
    "\n",
    "#\n",
    "# preview\n",
    "#\n",
    "pubs.head(5)"
   ]
  },
  {
   "cell_type": "markdown",
   "metadata": {
    "Collapsed": "false"
   },
   "source": [
    "#### Grouping publications by grant and enriching the original list "
   ]
  },
  {
   "cell_type": "code",
   "execution_count": 30,
   "metadata": {
    "Collapsed": "false"
   },
   "outputs": [
    {
     "data": {
      "application/vnd.jupyter.widget-view+json": {
       "model_id": "abfe8868e4974e2aaa407574d50be8b8",
       "version_major": 2,
       "version_minor": 0
      },
      "text/plain": [
       "HBox(children=(HTML(value=''), FloatProgress(value=0.0, max=6967.0), HTML(value='')))"
      ]
     },
     "metadata": {},
     "output_type": "display_data"
    },
    {
     "name": "stdout",
     "output_type": "stream",
     "text": [
      "\n"
     ]
    }
   ],
   "source": [
    "def pubs_for_grantid(grantid):\n",
    "  global pubs\n",
    "  return pubs[pubs['supporting_grant_ids'].str.contains(grantid)]\n",
    "\n",
    "l = []\n",
    "for x in progressbar(grantsids):\n",
    "  l.append(len(pubs_for_grantid(x)))\n",
    "grants['pubs'] = l"
   ]
  },
  {
   "cell_type": "code",
   "execution_count": 32,
   "metadata": {
    "Collapsed": "false"
   },
   "outputs": [
    {
     "data": {
      "text/html": [
       "<div>\n",
       "<style scoped>\n",
       "    .dataframe tbody tr th:only-of-type {\n",
       "        vertical-align: middle;\n",
       "    }\n",
       "\n",
       "    .dataframe tbody tr th {\n",
       "        vertical-align: top;\n",
       "    }\n",
       "\n",
       "    .dataframe thead th {\n",
       "        text-align: right;\n",
       "    }\n",
       "</style>\n",
       "<table border=\"1\" class=\"dataframe\">\n",
       "  <thead>\n",
       "    <tr style=\"text-align: right;\">\n",
       "      <th></th>\n",
       "      <th>grant_number</th>\n",
       "      <th>funding_org_name</th>\n",
       "      <th>start_year</th>\n",
       "      <th>title</th>\n",
       "      <th>id</th>\n",
       "      <th>pubs</th>\n",
       "    </tr>\n",
       "  </thead>\n",
       "  <tbody>\n",
       "    <tr>\n",
       "      <th>4152</th>\n",
       "      <td>1908308</td>\n",
       "      <td>Directorate for Computer &amp; Information Science...</td>\n",
       "      <td>2019</td>\n",
       "      <td>NSF-BSF:CIF: Small: A Unified View of Estimati...</td>\n",
       "      <td>grant.8523175</td>\n",
       "      <td>132</td>\n",
       "    </tr>\n",
       "    <tr>\n",
       "      <th>6224</th>\n",
       "      <td>1763325</td>\n",
       "      <td>Directorate for Computer &amp; Information Science...</td>\n",
       "      <td>2018</td>\n",
       "      <td>III: Medium: Collaborative Research: An Extens...</td>\n",
       "      <td>grant.7569573</td>\n",
       "      <td>117</td>\n",
       "    </tr>\n",
       "    <tr>\n",
       "      <th>6759</th>\n",
       "      <td>1757533</td>\n",
       "      <td>Directorate for Computer &amp; Information Science...</td>\n",
       "      <td>2018</td>\n",
       "      <td>REU Site: Research Experiences in Pervasive Co...</td>\n",
       "      <td>grant.7147675</td>\n",
       "      <td>95</td>\n",
       "    </tr>\n",
       "    <tr>\n",
       "      <th>5483</th>\n",
       "      <td>1828363</td>\n",
       "      <td>Directorate for Computer &amp; Information Science...</td>\n",
       "      <td>2018</td>\n",
       "      <td>MRI: Development of an Information Assurance a...</td>\n",
       "      <td>grant.7734747</td>\n",
       "      <td>78</td>\n",
       "    </tr>\n",
       "    <tr>\n",
       "      <th>5238</th>\n",
       "      <td>1824440</td>\n",
       "      <td>Directorate for Computer &amp; Information Science...</td>\n",
       "      <td>2018</td>\n",
       "      <td>SpecEES: Collaborative Research: Study of the ...</td>\n",
       "      <td>grant.7734329</td>\n",
       "      <td>75</td>\n",
       "    </tr>\n",
       "    <tr>\n",
       "      <th>3470</th>\n",
       "      <td>1930941</td>\n",
       "      <td>Directorate for Computer &amp; Information Science...</td>\n",
       "      <td>2019</td>\n",
       "      <td>SaTC: CORE: Small: Collaborative: Learning Dyn...</td>\n",
       "      <td>grant.8567892</td>\n",
       "      <td>73</td>\n",
       "    </tr>\n",
       "    <tr>\n",
       "      <th>3133</th>\n",
       "      <td>1909323</td>\n",
       "      <td>Directorate for Computer &amp; Information Science...</td>\n",
       "      <td>2019</td>\n",
       "      <td>III: Small: Exploiting the Massive User Genera...</td>\n",
       "      <td>grant.8541455</td>\n",
       "      <td>73</td>\n",
       "    </tr>\n",
       "    <tr>\n",
       "      <th>5923</th>\n",
       "      <td>1801925</td>\n",
       "      <td>Directorate for Computer &amp; Information Science...</td>\n",
       "      <td>2018</td>\n",
       "      <td>NeTS: Medium: Collaborative Research: Riding t...</td>\n",
       "      <td>grant.7703426</td>\n",
       "      <td>68</td>\n",
       "    </tr>\n",
       "    <tr>\n",
       "      <th>6948</th>\n",
       "      <td>1741277</td>\n",
       "      <td>Directorate for Computer &amp; Information Science...</td>\n",
       "      <td>2018</td>\n",
       "      <td>BIGDATA: F: Collaborative Research: Acquisitio...</td>\n",
       "      <td>grant.7057783</td>\n",
       "      <td>68</td>\n",
       "    </tr>\n",
       "    <tr>\n",
       "      <th>5762</th>\n",
       "      <td>1818253</td>\n",
       "      <td>Directorate for Computer &amp; Information Science...</td>\n",
       "      <td>2018</td>\n",
       "      <td>Computation for the Endless Frontier</td>\n",
       "      <td>grant.7733371</td>\n",
       "      <td>57</td>\n",
       "    </tr>\n",
       "  </tbody>\n",
       "</table>\n",
       "</div>"
      ],
      "text/plain": [
       "     grant_number                                   funding_org_name  \\\n",
       "4152      1908308  Directorate for Computer & Information Science...   \n",
       "6224      1763325  Directorate for Computer & Information Science...   \n",
       "6759      1757533  Directorate for Computer & Information Science...   \n",
       "5483      1828363  Directorate for Computer & Information Science...   \n",
       "5238      1824440  Directorate for Computer & Information Science...   \n",
       "3470      1930941  Directorate for Computer & Information Science...   \n",
       "3133      1909323  Directorate for Computer & Information Science...   \n",
       "5923      1801925  Directorate for Computer & Information Science...   \n",
       "6948      1741277  Directorate for Computer & Information Science...   \n",
       "5762      1818253  Directorate for Computer & Information Science...   \n",
       "\n",
       "      start_year                                              title  \\\n",
       "4152        2019  NSF-BSF:CIF: Small: A Unified View of Estimati...   \n",
       "6224        2018  III: Medium: Collaborative Research: An Extens...   \n",
       "6759        2018  REU Site: Research Experiences in Pervasive Co...   \n",
       "5483        2018  MRI: Development of an Information Assurance a...   \n",
       "5238        2018  SpecEES: Collaborative Research: Study of the ...   \n",
       "3470        2019  SaTC: CORE: Small: Collaborative: Learning Dyn...   \n",
       "3133        2019  III: Small: Exploiting the Massive User Genera...   \n",
       "5923        2018  NeTS: Medium: Collaborative Research: Riding t...   \n",
       "6948        2018  BIGDATA: F: Collaborative Research: Acquisitio...   \n",
       "5762        2018               Computation for the Endless Frontier   \n",
       "\n",
       "                 id  pubs  \n",
       "4152  grant.8523175   132  \n",
       "6224  grant.7569573   117  \n",
       "6759  grant.7147675    95  \n",
       "5483  grant.7734747    78  \n",
       "5238  grant.7734329    75  \n",
       "3470  grant.8567892    73  \n",
       "3133  grant.8541455    73  \n",
       "5923  grant.7703426    68  \n",
       "6948  grant.7057783    68  \n",
       "5762  grant.7733371    57  "
      ]
     },
     "execution_count": 32,
     "metadata": {},
     "output_type": "execute_result"
    }
   ],
   "source": [
    "grants.sort_values(\"pubs\", ascending=False).head(10)"
   ]
  },
  {
   "cell_type": "markdown",
   "metadata": {
    "Collapsed": "false"
   },
   "source": [
    "### 3.2 Steps for patents \n",
    "\n",
    "Similar approach\n",
    "\n",
    "1. Get all patents linked to grants, in bulk\n",
    "2. Roll up patents by grant\n",
    "    \n",
    "    \n",
    "See how it's done here [Enriching Grants part 3: adding related Patents and Clinical Trials data](https://api-lab.dimensions.ai/cookbooks/3-grants/3-grants-enrichment-adding-patents-cltrials-information.html)\n"
   ]
  },
  {
   "cell_type": "markdown",
   "metadata": {
    "Collapsed": "false"
   },
   "source": [
    "## 4. If we look at publications (that came out in the last 10 years) citing CSE..\n",
    "\n",
    "> as one of the funders, and from there query both sets of grant ids, and then see if there are any patenting activities \n"
   ]
  },
  {
   "cell_type": "markdown",
   "metadata": {
    "Collapsed": "false"
   },
   "source": [
    "### Approach:\n",
    "\n",
    "1. Extract all grants IDs from the publications list (this will include both NSF and non NSF funders) \n",
    "2. Repeat the patents from grants extraction, as above\n",
    "\n"
   ]
  },
  {
   "cell_type": "code",
   "execution_count": 33,
   "metadata": {
    "Collapsed": "false"
   },
   "outputs": [
    {
     "name": "stdout",
     "output_type": "stream",
     "text": [
      "Total grants:  10500\n",
      "Original NSF grants list:  6967\n",
      "Overlap:  3444\n"
     ]
    }
   ],
   "source": [
    "grants_from_pubs = set()\n",
    "\n",
    "for group in pubs['supporting_grant_ids'].to_list():\n",
    "    grants_from_pubs.update(group.split(\",\"))\n",
    "\n",
    "unknown_grants =  grants_from_pubs - set(grantsids) \n",
    "\n",
    "print(\"Total grants: \", len(grants_from_pubs)) \n",
    "print(\"Original NSF grants list: \", len(set(grantsids)))\n",
    "print(\"Overlap: \", len(grants_from_pubs & set(grantsids)))"
   ]
  },
  {
   "cell_type": "markdown",
   "metadata": {
    "Collapsed": "false"
   },
   "source": [
    "NOTE A lot of grants turned out to be funded **also** by other NSF grants (we didn't have in our original list). \n",
    "\n",
    "So we have have a quick check (using only the first 500 grants) of who are the other funders using this query that excludes NSF GRID IDs: "
   ]
  },
  {
   "cell_type": "code",
   "execution_count": 36,
   "metadata": {
    "Collapsed": "false"
   },
   "outputs": [
    {
     "name": "stdout",
     "output_type": "stream",
     "text": [
      "Returned Funders: 20\n",
      "\u001b[2mTime: 1.25s\u001b[0m\n"
     ]
    },
    {
     "data": {
      "text/html": [
       "<div>\n",
       "<style scoped>\n",
       "    .dataframe tbody tr th:only-of-type {\n",
       "        vertical-align: middle;\n",
       "    }\n",
       "\n",
       "    .dataframe tbody tr th {\n",
       "        vertical-align: top;\n",
       "    }\n",
       "\n",
       "    .dataframe thead th {\n",
       "        text-align: right;\n",
       "    }\n",
       "</style>\n",
       "<table border=\"1\" class=\"dataframe\">\n",
       "  <thead>\n",
       "    <tr style=\"text-align: right;\">\n",
       "      <th></th>\n",
       "      <th>id</th>\n",
       "      <th>count</th>\n",
       "      <th>city_name</th>\n",
       "      <th>longitude</th>\n",
       "      <th>name</th>\n",
       "      <th>latitude</th>\n",
       "      <th>types</th>\n",
       "      <th>acronym</th>\n",
       "      <th>linkout</th>\n",
       "      <th>country_name</th>\n",
       "      <th>state_name</th>\n",
       "    </tr>\n",
       "  </thead>\n",
       "  <tbody>\n",
       "    <tr>\n",
       "      <th>0</th>\n",
       "      <td>grid.419696.5</td>\n",
       "      <td>83</td>\n",
       "      <td>Beijing</td>\n",
       "      <td>116.339830</td>\n",
       "      <td>National Natural Science Foundation of China</td>\n",
       "      <td>40.005177</td>\n",
       "      <td>[Government]</td>\n",
       "      <td>NSFC</td>\n",
       "      <td>[http://www.nsfc.gov.cn/publish/portal1/]</td>\n",
       "      <td>China</td>\n",
       "      <td>NaN</td>\n",
       "    </tr>\n",
       "    <tr>\n",
       "      <th>1</th>\n",
       "      <td>grid.280785.0</td>\n",
       "      <td>14</td>\n",
       "      <td>Bethesda</td>\n",
       "      <td>-77.099380</td>\n",
       "      <td>National Institute of General Medical Sciences</td>\n",
       "      <td>38.997833</td>\n",
       "      <td>[Facility]</td>\n",
       "      <td>NIGMS</td>\n",
       "      <td>[http://www.nigms.nih.gov/Pages/default.aspx]</td>\n",
       "      <td>United States</td>\n",
       "      <td>Maryland</td>\n",
       "    </tr>\n",
       "    <tr>\n",
       "      <th>2</th>\n",
       "      <td>grid.416868.5</td>\n",
       "      <td>9</td>\n",
       "      <td>Bethesda</td>\n",
       "      <td>-77.104570</td>\n",
       "      <td>National Institute of Mental Health</td>\n",
       "      <td>39.003693</td>\n",
       "      <td>[Facility]</td>\n",
       "      <td>NIMH</td>\n",
       "      <td>[https://www.nimh.nih.gov/index.shtml]</td>\n",
       "      <td>United States</td>\n",
       "      <td>Maryland</td>\n",
       "    </tr>\n",
       "    <tr>\n",
       "      <th>3</th>\n",
       "      <td>grid.419681.3</td>\n",
       "      <td>9</td>\n",
       "      <td>Bethesda</td>\n",
       "      <td>-77.111830</td>\n",
       "      <td>National Institute of Allergy and Infectious D...</td>\n",
       "      <td>39.066647</td>\n",
       "      <td>[Facility]</td>\n",
       "      <td>NIAID</td>\n",
       "      <td>[http://www.niaid.nih.gov/Pages/default.aspx]</td>\n",
       "      <td>United States</td>\n",
       "      <td>Maryland</td>\n",
       "    </tr>\n",
       "    <tr>\n",
       "      <th>4</th>\n",
       "      <td>grid.452896.4</td>\n",
       "      <td>9</td>\n",
       "      <td>Brussels</td>\n",
       "      <td>4.359973</td>\n",
       "      <td>European Research Council</td>\n",
       "      <td>50.856167</td>\n",
       "      <td>[Government]</td>\n",
       "      <td>ERC</td>\n",
       "      <td>[http://erc.europa.eu/]</td>\n",
       "      <td>Belgium</td>\n",
       "      <td>NaN</td>\n",
       "    </tr>\n",
       "  </tbody>\n",
       "</table>\n",
       "</div>"
      ],
      "text/plain": [
       "              id  count city_name   longitude  \\\n",
       "0  grid.419696.5     83   Beijing  116.339830   \n",
       "1  grid.280785.0     14  Bethesda  -77.099380   \n",
       "2  grid.416868.5      9  Bethesda  -77.104570   \n",
       "3  grid.419681.3      9  Bethesda  -77.111830   \n",
       "4  grid.452896.4      9  Brussels    4.359973   \n",
       "\n",
       "                                                name   latitude         types  \\\n",
       "0       National Natural Science Foundation of China  40.005177  [Government]   \n",
       "1     National Institute of General Medical Sciences  38.997833    [Facility]   \n",
       "2                National Institute of Mental Health  39.003693    [Facility]   \n",
       "3  National Institute of Allergy and Infectious D...  39.066647    [Facility]   \n",
       "4                          European Research Council  50.856167  [Government]   \n",
       "\n",
       "  acronym                                        linkout   country_name  \\\n",
       "0    NSFC      [http://www.nsfc.gov.cn/publish/portal1/]          China   \n",
       "1   NIGMS  [http://www.nigms.nih.gov/Pages/default.aspx]  United States   \n",
       "2    NIMH         [https://www.nimh.nih.gov/index.shtml]  United States   \n",
       "3   NIAID  [http://www.niaid.nih.gov/Pages/default.aspx]  United States   \n",
       "4     ERC                        [http://erc.europa.eu/]        Belgium   \n",
       "\n",
       "  state_name  \n",
       "0        NaN  \n",
       "1   Maryland  \n",
       "2   Maryland  \n",
       "3   Maryland  \n",
       "4        NaN  "
      ]
     },
     "execution_count": 36,
     "metadata": {},
     "output_type": "execute_result"
    }
   ],
   "source": [
    "funders_non_nsf_sample = dsl.query(f\"\"\"\n",
    "\n",
    "search grants \n",
    "    where id in {json.dumps(list(unknown_grants)[:500])} \n",
    "    not funders in {json.dumps(nsfgrids)}\n",
    "return funders\n",
    "\n",
    "\"\"\").as_dataframe()\n",
    "funders_non_nsf_sample.head(5)"
   ]
  },
  {
   "cell_type": "code",
   "execution_count": 35,
   "metadata": {
    "Collapsed": "false"
   },
   "outputs": [
    {
     "data": {
      "application/vnd.plotly.v1+json": {
       "config": {
        "plotlyServerURL": "https://plot.ly"
       },
       "data": [
        {
         "alignmentgroup": "True",
         "hovertemplate": "country_name=China<br>name=%{x}<br>count=%{y}<extra></extra>",
         "legendgroup": "China",
         "marker": {
          "color": "#636efa"
         },
         "name": "China",
         "offsetgroup": "China",
         "orientation": "v",
         "showlegend": true,
         "textposition": "auto",
         "type": "bar",
         "x": [
          "National Natural Science Foundation of China",
          "University Grants Committee"
         ],
         "xaxis": "x",
         "y": [
          83,
          4
         ],
         "yaxis": "y"
        },
        {
         "alignmentgroup": "True",
         "hovertemplate": "country_name=United States<br>name=%{x}<br>count=%{y}<extra></extra>",
         "legendgroup": "United States",
         "marker": {
          "color": "#EF553B"
         },
         "name": "United States",
         "offsetgroup": "United States",
         "orientation": "v",
         "showlegend": true,
         "textposition": "auto",
         "type": "bar",
         "x": [
          "National Institute of General Medical Sciences",
          "National Institute of Mental Health",
          "National Institute of Allergy and Infectious Diseases",
          "National Institute of Neurological Disorders and Stroke",
          "National Institute on Aging",
          "National Institute on Drug Abuse",
          "United States Department of the Navy",
          "Office of Advanced Scientific Computing Research",
          "National Human Genome Research Institute",
          "Office of Basic Energy Sciences",
          "National Institute of Food and Agriculture",
          "National Cancer Institute"
         ],
         "xaxis": "x",
         "y": [
          14,
          9,
          9,
          6,
          6,
          6,
          5,
          5,
          4,
          4,
          4,
          4
         ],
         "yaxis": "y"
        },
        {
         "alignmentgroup": "True",
         "hovertemplate": "country_name=Belgium<br>name=%{x}<br>count=%{y}<extra></extra>",
         "legendgroup": "Belgium",
         "marker": {
          "color": "#00cc96"
         },
         "name": "Belgium",
         "offsetgroup": "Belgium",
         "orientation": "v",
         "showlegend": true,
         "textposition": "auto",
         "type": "bar",
         "x": [
          "European Research Council",
          "European Commission"
         ],
         "xaxis": "x",
         "y": [
          9,
          8
         ],
         "yaxis": "y"
        },
        {
         "alignmentgroup": "True",
         "hovertemplate": "country_name=United Kingdom<br>name=%{x}<br>count=%{y}<extra></extra>",
         "legendgroup": "United Kingdom",
         "marker": {
          "color": "#ab63fa"
         },
         "name": "United Kingdom",
         "offsetgroup": "United Kingdom",
         "orientation": "v",
         "showlegend": true,
         "textposition": "auto",
         "type": "bar",
         "x": [
          "Science and Technology Facilities Council",
          "Engineering and Physical Sciences Research Council"
         ],
         "xaxis": "x",
         "y": [
          5,
          4
         ],
         "yaxis": "y"
        },
        {
         "alignmentgroup": "True",
         "hovertemplate": "country_name=Australia<br>name=%{x}<br>count=%{y}<extra></extra>",
         "legendgroup": "Australia",
         "marker": {
          "color": "#FFA15A"
         },
         "name": "Australia",
         "offsetgroup": "Australia",
         "orientation": "v",
         "showlegend": true,
         "textposition": "auto",
         "type": "bar",
         "x": [
          "Australian Research Council"
         ],
         "xaxis": "x",
         "y": [
          5
         ],
         "yaxis": "y"
        },
        {
         "alignmentgroup": "True",
         "hovertemplate": "country_name=Japan<br>name=%{x}<br>count=%{y}<extra></extra>",
         "legendgroup": "Japan",
         "marker": {
          "color": "#19d3f3"
         },
         "name": "Japan",
         "offsetgroup": "Japan",
         "orientation": "v",
         "showlegend": true,
         "textposition": "auto",
         "type": "bar",
         "x": [
          "Japan Society for the Promotion of Science"
         ],
         "xaxis": "x",
         "y": [
          5
         ],
         "yaxis": "y"
        }
       ],
       "layout": {
        "autosize": true,
        "barmode": "relative",
        "legend": {
         "title": {
          "text": "country_name"
         },
         "tracegroupgap": 0
        },
        "template": {
         "data": {
          "bar": [
           {
            "error_x": {
             "color": "#2a3f5f"
            },
            "error_y": {
             "color": "#2a3f5f"
            },
            "marker": {
             "line": {
              "color": "#E5ECF6",
              "width": 0.5
             }
            },
            "type": "bar"
           }
          ],
          "barpolar": [
           {
            "marker": {
             "line": {
              "color": "#E5ECF6",
              "width": 0.5
             }
            },
            "type": "barpolar"
           }
          ],
          "carpet": [
           {
            "aaxis": {
             "endlinecolor": "#2a3f5f",
             "gridcolor": "white",
             "linecolor": "white",
             "minorgridcolor": "white",
             "startlinecolor": "#2a3f5f"
            },
            "baxis": {
             "endlinecolor": "#2a3f5f",
             "gridcolor": "white",
             "linecolor": "white",
             "minorgridcolor": "white",
             "startlinecolor": "#2a3f5f"
            },
            "type": "carpet"
           }
          ],
          "choropleth": [
           {
            "colorbar": {
             "outlinewidth": 0,
             "ticks": ""
            },
            "type": "choropleth"
           }
          ],
          "contour": [
           {
            "colorbar": {
             "outlinewidth": 0,
             "ticks": ""
            },
            "colorscale": [
             [
              0,
              "#0d0887"
             ],
             [
              0.1111111111111111,
              "#46039f"
             ],
             [
              0.2222222222222222,
              "#7201a8"
             ],
             [
              0.3333333333333333,
              "#9c179e"
             ],
             [
              0.4444444444444444,
              "#bd3786"
             ],
             [
              0.5555555555555556,
              "#d8576b"
             ],
             [
              0.6666666666666666,
              "#ed7953"
             ],
             [
              0.7777777777777778,
              "#fb9f3a"
             ],
             [
              0.8888888888888888,
              "#fdca26"
             ],
             [
              1,
              "#f0f921"
             ]
            ],
            "type": "contour"
           }
          ],
          "contourcarpet": [
           {
            "colorbar": {
             "outlinewidth": 0,
             "ticks": ""
            },
            "type": "contourcarpet"
           }
          ],
          "heatmap": [
           {
            "colorbar": {
             "outlinewidth": 0,
             "ticks": ""
            },
            "colorscale": [
             [
              0,
              "#0d0887"
             ],
             [
              0.1111111111111111,
              "#46039f"
             ],
             [
              0.2222222222222222,
              "#7201a8"
             ],
             [
              0.3333333333333333,
              "#9c179e"
             ],
             [
              0.4444444444444444,
              "#bd3786"
             ],
             [
              0.5555555555555556,
              "#d8576b"
             ],
             [
              0.6666666666666666,
              "#ed7953"
             ],
             [
              0.7777777777777778,
              "#fb9f3a"
             ],
             [
              0.8888888888888888,
              "#fdca26"
             ],
             [
              1,
              "#f0f921"
             ]
            ],
            "type": "heatmap"
           }
          ],
          "heatmapgl": [
           {
            "colorbar": {
             "outlinewidth": 0,
             "ticks": ""
            },
            "colorscale": [
             [
              0,
              "#0d0887"
             ],
             [
              0.1111111111111111,
              "#46039f"
             ],
             [
              0.2222222222222222,
              "#7201a8"
             ],
             [
              0.3333333333333333,
              "#9c179e"
             ],
             [
              0.4444444444444444,
              "#bd3786"
             ],
             [
              0.5555555555555556,
              "#d8576b"
             ],
             [
              0.6666666666666666,
              "#ed7953"
             ],
             [
              0.7777777777777778,
              "#fb9f3a"
             ],
             [
              0.8888888888888888,
              "#fdca26"
             ],
             [
              1,
              "#f0f921"
             ]
            ],
            "type": "heatmapgl"
           }
          ],
          "histogram": [
           {
            "marker": {
             "colorbar": {
              "outlinewidth": 0,
              "ticks": ""
             }
            },
            "type": "histogram"
           }
          ],
          "histogram2d": [
           {
            "colorbar": {
             "outlinewidth": 0,
             "ticks": ""
            },
            "colorscale": [
             [
              0,
              "#0d0887"
             ],
             [
              0.1111111111111111,
              "#46039f"
             ],
             [
              0.2222222222222222,
              "#7201a8"
             ],
             [
              0.3333333333333333,
              "#9c179e"
             ],
             [
              0.4444444444444444,
              "#bd3786"
             ],
             [
              0.5555555555555556,
              "#d8576b"
             ],
             [
              0.6666666666666666,
              "#ed7953"
             ],
             [
              0.7777777777777778,
              "#fb9f3a"
             ],
             [
              0.8888888888888888,
              "#fdca26"
             ],
             [
              1,
              "#f0f921"
             ]
            ],
            "type": "histogram2d"
           }
          ],
          "histogram2dcontour": [
           {
            "colorbar": {
             "outlinewidth": 0,
             "ticks": ""
            },
            "colorscale": [
             [
              0,
              "#0d0887"
             ],
             [
              0.1111111111111111,
              "#46039f"
             ],
             [
              0.2222222222222222,
              "#7201a8"
             ],
             [
              0.3333333333333333,
              "#9c179e"
             ],
             [
              0.4444444444444444,
              "#bd3786"
             ],
             [
              0.5555555555555556,
              "#d8576b"
             ],
             [
              0.6666666666666666,
              "#ed7953"
             ],
             [
              0.7777777777777778,
              "#fb9f3a"
             ],
             [
              0.8888888888888888,
              "#fdca26"
             ],
             [
              1,
              "#f0f921"
             ]
            ],
            "type": "histogram2dcontour"
           }
          ],
          "mesh3d": [
           {
            "colorbar": {
             "outlinewidth": 0,
             "ticks": ""
            },
            "type": "mesh3d"
           }
          ],
          "parcoords": [
           {
            "line": {
             "colorbar": {
              "outlinewidth": 0,
              "ticks": ""
             }
            },
            "type": "parcoords"
           }
          ],
          "pie": [
           {
            "automargin": true,
            "type": "pie"
           }
          ],
          "scatter": [
           {
            "marker": {
             "colorbar": {
              "outlinewidth": 0,
              "ticks": ""
             }
            },
            "type": "scatter"
           }
          ],
          "scatter3d": [
           {
            "line": {
             "colorbar": {
              "outlinewidth": 0,
              "ticks": ""
             }
            },
            "marker": {
             "colorbar": {
              "outlinewidth": 0,
              "ticks": ""
             }
            },
            "type": "scatter3d"
           }
          ],
          "scattercarpet": [
           {
            "marker": {
             "colorbar": {
              "outlinewidth": 0,
              "ticks": ""
             }
            },
            "type": "scattercarpet"
           }
          ],
          "scattergeo": [
           {
            "marker": {
             "colorbar": {
              "outlinewidth": 0,
              "ticks": ""
             }
            },
            "type": "scattergeo"
           }
          ],
          "scattergl": [
           {
            "marker": {
             "colorbar": {
              "outlinewidth": 0,
              "ticks": ""
             }
            },
            "type": "scattergl"
           }
          ],
          "scattermapbox": [
           {
            "marker": {
             "colorbar": {
              "outlinewidth": 0,
              "ticks": ""
             }
            },
            "type": "scattermapbox"
           }
          ],
          "scatterpolar": [
           {
            "marker": {
             "colorbar": {
              "outlinewidth": 0,
              "ticks": ""
             }
            },
            "type": "scatterpolar"
           }
          ],
          "scatterpolargl": [
           {
            "marker": {
             "colorbar": {
              "outlinewidth": 0,
              "ticks": ""
             }
            },
            "type": "scatterpolargl"
           }
          ],
          "scatterternary": [
           {
            "marker": {
             "colorbar": {
              "outlinewidth": 0,
              "ticks": ""
             }
            },
            "type": "scatterternary"
           }
          ],
          "surface": [
           {
            "colorbar": {
             "outlinewidth": 0,
             "ticks": ""
            },
            "colorscale": [
             [
              0,
              "#0d0887"
             ],
             [
              0.1111111111111111,
              "#46039f"
             ],
             [
              0.2222222222222222,
              "#7201a8"
             ],
             [
              0.3333333333333333,
              "#9c179e"
             ],
             [
              0.4444444444444444,
              "#bd3786"
             ],
             [
              0.5555555555555556,
              "#d8576b"
             ],
             [
              0.6666666666666666,
              "#ed7953"
             ],
             [
              0.7777777777777778,
              "#fb9f3a"
             ],
             [
              0.8888888888888888,
              "#fdca26"
             ],
             [
              1,
              "#f0f921"
             ]
            ],
            "type": "surface"
           }
          ],
          "table": [
           {
            "cells": {
             "fill": {
              "color": "#EBF0F8"
             },
             "line": {
              "color": "white"
             }
            },
            "header": {
             "fill": {
              "color": "#C8D4E3"
             },
             "line": {
              "color": "white"
             }
            },
            "type": "table"
           }
          ]
         },
         "layout": {
          "annotationdefaults": {
           "arrowcolor": "#2a3f5f",
           "arrowhead": 0,
           "arrowwidth": 1
          },
          "coloraxis": {
           "colorbar": {
            "outlinewidth": 0,
            "ticks": ""
           }
          },
          "colorscale": {
           "diverging": [
            [
             0,
             "#8e0152"
            ],
            [
             0.1,
             "#c51b7d"
            ],
            [
             0.2,
             "#de77ae"
            ],
            [
             0.3,
             "#f1b6da"
            ],
            [
             0.4,
             "#fde0ef"
            ],
            [
             0.5,
             "#f7f7f7"
            ],
            [
             0.6,
             "#e6f5d0"
            ],
            [
             0.7,
             "#b8e186"
            ],
            [
             0.8,
             "#7fbc41"
            ],
            [
             0.9,
             "#4d9221"
            ],
            [
             1,
             "#276419"
            ]
           ],
           "sequential": [
            [
             0,
             "#0d0887"
            ],
            [
             0.1111111111111111,
             "#46039f"
            ],
            [
             0.2222222222222222,
             "#7201a8"
            ],
            [
             0.3333333333333333,
             "#9c179e"
            ],
            [
             0.4444444444444444,
             "#bd3786"
            ],
            [
             0.5555555555555556,
             "#d8576b"
            ],
            [
             0.6666666666666666,
             "#ed7953"
            ],
            [
             0.7777777777777778,
             "#fb9f3a"
            ],
            [
             0.8888888888888888,
             "#fdca26"
            ],
            [
             1,
             "#f0f921"
            ]
           ],
           "sequentialminus": [
            [
             0,
             "#0d0887"
            ],
            [
             0.1111111111111111,
             "#46039f"
            ],
            [
             0.2222222222222222,
             "#7201a8"
            ],
            [
             0.3333333333333333,
             "#9c179e"
            ],
            [
             0.4444444444444444,
             "#bd3786"
            ],
            [
             0.5555555555555556,
             "#d8576b"
            ],
            [
             0.6666666666666666,
             "#ed7953"
            ],
            [
             0.7777777777777778,
             "#fb9f3a"
            ],
            [
             0.8888888888888888,
             "#fdca26"
            ],
            [
             1,
             "#f0f921"
            ]
           ]
          },
          "colorway": [
           "#636efa",
           "#EF553B",
           "#00cc96",
           "#ab63fa",
           "#FFA15A",
           "#19d3f3",
           "#FF6692",
           "#B6E880",
           "#FF97FF",
           "#FECB52"
          ],
          "font": {
           "color": "#2a3f5f"
          },
          "geo": {
           "bgcolor": "white",
           "lakecolor": "white",
           "landcolor": "#E5ECF6",
           "showlakes": true,
           "showland": true,
           "subunitcolor": "white"
          },
          "hoverlabel": {
           "align": "left"
          },
          "hovermode": "closest",
          "mapbox": {
           "style": "light"
          },
          "paper_bgcolor": "white",
          "plot_bgcolor": "#E5ECF6",
          "polar": {
           "angularaxis": {
            "gridcolor": "white",
            "linecolor": "white",
            "ticks": ""
           },
           "bgcolor": "#E5ECF6",
           "radialaxis": {
            "gridcolor": "white",
            "linecolor": "white",
            "ticks": ""
           }
          },
          "scene": {
           "xaxis": {
            "backgroundcolor": "#E5ECF6",
            "gridcolor": "white",
            "gridwidth": 2,
            "linecolor": "white",
            "showbackground": true,
            "ticks": "",
            "zerolinecolor": "white"
           },
           "yaxis": {
            "backgroundcolor": "#E5ECF6",
            "gridcolor": "white",
            "gridwidth": 2,
            "linecolor": "white",
            "showbackground": true,
            "ticks": "",
            "zerolinecolor": "white"
           },
           "zaxis": {
            "backgroundcolor": "#E5ECF6",
            "gridcolor": "white",
            "gridwidth": 2,
            "linecolor": "white",
            "showbackground": true,
            "ticks": "",
            "zerolinecolor": "white"
           }
          },
          "shapedefaults": {
           "line": {
            "color": "#2a3f5f"
           }
          },
          "ternary": {
           "aaxis": {
            "gridcolor": "white",
            "linecolor": "white",
            "ticks": ""
           },
           "baxis": {
            "gridcolor": "white",
            "linecolor": "white",
            "ticks": ""
           },
           "bgcolor": "#E5ECF6",
           "caxis": {
            "gridcolor": "white",
            "linecolor": "white",
            "ticks": ""
           }
          },
          "title": {
           "x": 0.05
          },
          "xaxis": {
           "automargin": true,
           "gridcolor": "white",
           "linecolor": "white",
           "ticks": "",
           "title": {
            "standoff": 15
           },
           "zerolinecolor": "white",
           "zerolinewidth": 2
          },
          "yaxis": {
           "automargin": true,
           "gridcolor": "white",
           "linecolor": "white",
           "ticks": "",
           "title": {
            "standoff": 15
           },
           "zerolinecolor": "white",
           "zerolinewidth": 2
          }
         }
        },
        "title": {
         "text": "Co-funders of NSF publications"
        },
        "xaxis": {
         "anchor": "y",
         "autorange": true,
         "domain": [
          0,
          1
         ],
         "range": [
          -0.5,
          19.5
         ],
         "title": {
          "text": "name"
         },
         "type": "category"
        },
        "yaxis": {
         "anchor": "x",
         "autorange": true,
         "domain": [
          0,
          1
         ],
         "range": [
          0,
          87.36842105263158
         ],
         "title": {
          "text": "count"
         },
         "type": "linear"
        }
       }
      },
      "image/png": "[encoded data removed]",
      "text/html": [
       "<div>                            <div id=\"d0c4355c-2620-4d36-98ba-3a6274f3378f\" class=\"plotly-graph-div\" style=\"height:525px; width:100%;\"></div>            <script type=\"text/javascript\">                require([\"plotly\"], function(Plotly) {                    window.PLOTLYENV=window.PLOTLYENV || {};                                    if (document.getElementById(\"d0c4355c-2620-4d36-98ba-3a6274f3378f\")) {                    Plotly.newPlot(                        \"d0c4355c-2620-4d36-98ba-3a6274f3378f\",                        [{\"alignmentgroup\": \"True\", \"hovertemplate\": \"country_name=China<br>name=%{x}<br>count=%{y}<extra></extra>\", \"legendgroup\": \"China\", \"marker\": {\"color\": \"#636efa\"}, \"name\": \"China\", \"offsetgroup\": \"China\", \"orientation\": \"v\", \"showlegend\": true, \"textposition\": \"auto\", \"type\": \"bar\", \"x\": [\"National Natural Science Foundation of China\", \"University Grants Committee\"], \"xaxis\": \"x\", \"y\": [83, 4], \"yaxis\": \"y\"}, {\"alignmentgroup\": \"True\", \"hovertemplate\": \"country_name=United States<br>name=%{x}<br>count=%{y}<extra></extra>\", \"legendgroup\": \"United States\", \"marker\": {\"color\": \"#EF553B\"}, \"name\": \"United States\", \"offsetgroup\": \"United States\", \"orientation\": \"v\", \"showlegend\": true, \"textposition\": \"auto\", \"type\": \"bar\", \"x\": [\"National Institute of General Medical Sciences\", \"National Institute of Mental Health\", \"National Institute of Allergy and Infectious Diseases\", \"National Institute of Neurological Disorders and Stroke\", \"National Institute on Aging\", \"National Institute on Drug Abuse\", \"United States Department of the Navy\", \"Office of Advanced Scientific Computing Research\", \"National Human Genome Research Institute\", \"Office of Basic Energy Sciences\", \"National Institute of Food and Agriculture\", \"National Cancer Institute\"], \"xaxis\": \"x\", \"y\": [14, 9, 9, 6, 6, 6, 5, 5, 4, 4, 4, 4], \"yaxis\": \"y\"}, {\"alignmentgroup\": \"True\", \"hovertemplate\": \"country_name=Belgium<br>name=%{x}<br>count=%{y}<extra></extra>\", \"legendgroup\": \"Belgium\", \"marker\": {\"color\": \"#00cc96\"}, \"name\": \"Belgium\", \"offsetgroup\": \"Belgium\", \"orientation\": \"v\", \"showlegend\": true, \"textposition\": \"auto\", \"type\": \"bar\", \"x\": [\"European Research Council\", \"European Commission\"], \"xaxis\": \"x\", \"y\": [9, 8], \"yaxis\": \"y\"}, {\"alignmentgroup\": \"True\", \"hovertemplate\": \"country_name=United Kingdom<br>name=%{x}<br>count=%{y}<extra></extra>\", \"legendgroup\": \"United Kingdom\", \"marker\": {\"color\": \"#ab63fa\"}, \"name\": \"United Kingdom\", \"offsetgroup\": \"United Kingdom\", \"orientation\": \"v\", \"showlegend\": true, \"textposition\": \"auto\", \"type\": \"bar\", \"x\": [\"Science and Technology Facilities Council\", \"Engineering and Physical Sciences Research Council\"], \"xaxis\": \"x\", \"y\": [5, 4], \"yaxis\": \"y\"}, {\"alignmentgroup\": \"True\", \"hovertemplate\": \"country_name=Australia<br>name=%{x}<br>count=%{y}<extra></extra>\", \"legendgroup\": \"Australia\", \"marker\": {\"color\": \"#FFA15A\"}, \"name\": \"Australia\", \"offsetgroup\": \"Australia\", \"orientation\": \"v\", \"showlegend\": true, \"textposition\": \"auto\", \"type\": \"bar\", \"x\": [\"Australian Research Council\"], \"xaxis\": \"x\", \"y\": [5], \"yaxis\": \"y\"}, {\"alignmentgroup\": \"True\", \"hovertemplate\": \"country_name=Japan<br>name=%{x}<br>count=%{y}<extra></extra>\", \"legendgroup\": \"Japan\", \"marker\": {\"color\": \"#19d3f3\"}, \"name\": \"Japan\", \"offsetgroup\": \"Japan\", \"orientation\": \"v\", \"showlegend\": true, \"textposition\": \"auto\", \"type\": \"bar\", \"x\": [\"Japan Society for the Promotion of Science\"], \"xaxis\": \"x\", \"y\": [5], \"yaxis\": \"y\"}],                        {\"barmode\": \"relative\", \"legend\": {\"title\": {\"text\": \"country_name\"}, \"tracegroupgap\": 0}, \"template\": {\"data\": {\"bar\": [{\"error_x\": {\"color\": \"#2a3f5f\"}, \"error_y\": {\"color\": \"#2a3f5f\"}, \"marker\": {\"line\": {\"color\": \"#E5ECF6\", \"width\": 0.5}}, \"type\": \"bar\"}], \"barpolar\": [{\"marker\": {\"line\": {\"color\": \"#E5ECF6\", \"width\": 0.5}}, \"type\": \"barpolar\"}], \"carpet\": [{\"aaxis\": {\"endlinecolor\": \"#2a3f5f\", \"gridcolor\": \"white\", \"linecolor\": \"white\", \"minorgridcolor\": \"white\", \"startlinecolor\": \"#2a3f5f\"}, \"baxis\": {\"endlinecolor\": \"#2a3f5f\", \"gridcolor\": \"white\", \"linecolor\": \"white\", \"minorgridcolor\": \"white\", \"startlinecolor\": \"#2a3f5f\"}, \"type\": \"carpet\"}], \"choropleth\": [{\"colorbar\": {\"outlinewidth\": 0, \"ticks\": \"\"}, \"type\": \"choropleth\"}], \"contour\": [{\"colorbar\": {\"outlinewidth\": 0, \"ticks\": \"\"}, \"colorscale\": [[0.0, \"#0d0887\"], [0.1111111111111111, \"#46039f\"], [0.2222222222222222, \"#7201a8\"], [0.3333333333333333, \"#9c179e\"], [0.4444444444444444, \"#bd3786\"], [0.5555555555555556, \"#d8576b\"], [0.6666666666666666, \"#ed7953\"], [0.7777777777777778, \"#fb9f3a\"], [0.8888888888888888, \"#fdca26\"], [1.0, \"#f0f921\"]], \"type\": \"contour\"}], \"contourcarpet\": [{\"colorbar\": {\"outlinewidth\": 0, \"ticks\": \"\"}, \"type\": \"contourcarpet\"}], \"heatmap\": [{\"colorbar\": {\"outlinewidth\": 0, \"ticks\": \"\"}, \"colorscale\": [[0.0, \"#0d0887\"], [0.1111111111111111, \"#46039f\"], [0.2222222222222222, \"#7201a8\"], [0.3333333333333333, \"#9c179e\"], [0.4444444444444444, \"#bd3786\"], [0.5555555555555556, \"#d8576b\"], [0.6666666666666666, \"#ed7953\"], [0.7777777777777778, \"#fb9f3a\"], [0.8888888888888888, \"#fdca26\"], [1.0, \"#f0f921\"]], \"type\": \"heatmap\"}], \"heatmapgl\": [{\"colorbar\": {\"outlinewidth\": 0, \"ticks\": \"\"}, \"colorscale\": [[0.0, \"#0d0887\"], [0.1111111111111111, \"#46039f\"], [0.2222222222222222, \"#7201a8\"], [0.3333333333333333, \"#9c179e\"], [0.4444444444444444, \"#bd3786\"], [0.5555555555555556, \"#d8576b\"], [0.6666666666666666, \"#ed7953\"], [0.7777777777777778, \"#fb9f3a\"], [0.8888888888888888, \"#fdca26\"], [1.0, \"#f0f921\"]], \"type\": \"heatmapgl\"}], \"histogram\": [{\"marker\": {\"colorbar\": {\"outlinewidth\": 0, \"ticks\": \"\"}}, \"type\": \"histogram\"}], \"histogram2d\": [{\"colorbar\": {\"outlinewidth\": 0, \"ticks\": \"\"}, \"colorscale\": [[0.0, \"#0d0887\"], [0.1111111111111111, \"#46039f\"], [0.2222222222222222, \"#7201a8\"], [0.3333333333333333, \"#9c179e\"], [0.4444444444444444, \"#bd3786\"], [0.5555555555555556, \"#d8576b\"], [0.6666666666666666, \"#ed7953\"], [0.7777777777777778, \"#fb9f3a\"], [0.8888888888888888, \"#fdca26\"], [1.0, \"#f0f921\"]], \"type\": \"histogram2d\"}], \"histogram2dcontour\": [{\"colorbar\": {\"outlinewidth\": 0, \"ticks\": \"\"}, \"colorscale\": [[0.0, \"#0d0887\"], [0.1111111111111111, \"#46039f\"], [0.2222222222222222, \"#7201a8\"], [0.3333333333333333, \"#9c179e\"], [0.4444444444444444, \"#bd3786\"], [0.5555555555555556, \"#d8576b\"], [0.6666666666666666, \"#ed7953\"], [0.7777777777777778, \"#fb9f3a\"], [0.8888888888888888, \"#fdca26\"], [1.0, \"#f0f921\"]], \"type\": \"histogram2dcontour\"}], \"mesh3d\": [{\"colorbar\": {\"outlinewidth\": 0, \"ticks\": \"\"}, \"type\": \"mesh3d\"}], \"parcoords\": [{\"line\": {\"colorbar\": {\"outlinewidth\": 0, \"ticks\": \"\"}}, \"type\": \"parcoords\"}], \"pie\": [{\"automargin\": true, \"type\": \"pie\"}], \"scatter\": [{\"marker\": {\"colorbar\": {\"outlinewidth\": 0, \"ticks\": \"\"}}, \"type\": \"scatter\"}], \"scatter3d\": [{\"line\": {\"colorbar\": {\"outlinewidth\": 0, \"ticks\": \"\"}}, \"marker\": {\"colorbar\": {\"outlinewidth\": 0, \"ticks\": \"\"}}, \"type\": \"scatter3d\"}], \"scattercarpet\": [{\"marker\": {\"colorbar\": {\"outlinewidth\": 0, \"ticks\": \"\"}}, \"type\": \"scattercarpet\"}], \"scattergeo\": [{\"marker\": {\"colorbar\": {\"outlinewidth\": 0, \"ticks\": \"\"}}, \"type\": \"scattergeo\"}], \"scattergl\": [{\"marker\": {\"colorbar\": {\"outlinewidth\": 0, \"ticks\": \"\"}}, \"type\": \"scattergl\"}], \"scattermapbox\": [{\"marker\": {\"colorbar\": {\"outlinewidth\": 0, \"ticks\": \"\"}}, \"type\": \"scattermapbox\"}], \"scatterpolar\": [{\"marker\": {\"colorbar\": {\"outlinewidth\": 0, \"ticks\": \"\"}}, \"type\": \"scatterpolar\"}], \"scatterpolargl\": [{\"marker\": {\"colorbar\": {\"outlinewidth\": 0, \"ticks\": \"\"}}, \"type\": \"scatterpolargl\"}], \"scatterternary\": [{\"marker\": {\"colorbar\": {\"outlinewidth\": 0, \"ticks\": \"\"}}, \"type\": \"scatterternary\"}], \"surface\": [{\"colorbar\": {\"outlinewidth\": 0, \"ticks\": \"\"}, \"colorscale\": [[0.0, \"#0d0887\"], [0.1111111111111111, \"#46039f\"], [0.2222222222222222, \"#7201a8\"], [0.3333333333333333, \"#9c179e\"], [0.4444444444444444, \"#bd3786\"], [0.5555555555555556, \"#d8576b\"], [0.6666666666666666, \"#ed7953\"], [0.7777777777777778, \"#fb9f3a\"], [0.8888888888888888, \"#fdca26\"], [1.0, \"#f0f921\"]], \"type\": \"surface\"}], \"table\": [{\"cells\": {\"fill\": {\"color\": \"#EBF0F8\"}, \"line\": {\"color\": \"white\"}}, \"header\": {\"fill\": {\"color\": \"#C8D4E3\"}, \"line\": {\"color\": \"white\"}}, \"type\": \"table\"}]}, \"layout\": {\"annotationdefaults\": {\"arrowcolor\": \"#2a3f5f\", \"arrowhead\": 0, \"arrowwidth\": 1}, \"coloraxis\": {\"colorbar\": {\"outlinewidth\": 0, \"ticks\": \"\"}}, \"colorscale\": {\"diverging\": [[0, \"#8e0152\"], [0.1, \"#c51b7d\"], [0.2, \"#de77ae\"], [0.3, \"#f1b6da\"], [0.4, \"#fde0ef\"], [0.5, \"#f7f7f7\"], [0.6, \"#e6f5d0\"], [0.7, \"#b8e186\"], [0.8, \"#7fbc41\"], [0.9, \"#4d9221\"], [1, \"#276419\"]], \"sequential\": [[0.0, \"#0d0887\"], [0.1111111111111111, \"#46039f\"], [0.2222222222222222, \"#7201a8\"], [0.3333333333333333, \"#9c179e\"], [0.4444444444444444, \"#bd3786\"], [0.5555555555555556, \"#d8576b\"], [0.6666666666666666, \"#ed7953\"], [0.7777777777777778, \"#fb9f3a\"], [0.8888888888888888, \"#fdca26\"], [1.0, \"#f0f921\"]], \"sequentialminus\": [[0.0, \"#0d0887\"], [0.1111111111111111, \"#46039f\"], [0.2222222222222222, \"#7201a8\"], [0.3333333333333333, \"#9c179e\"], [0.4444444444444444, \"#bd3786\"], [0.5555555555555556, \"#d8576b\"], [0.6666666666666666, \"#ed7953\"], [0.7777777777777778, \"#fb9f3a\"], [0.8888888888888888, \"#fdca26\"], [1.0, \"#f0f921\"]]}, \"colorway\": [\"#636efa\", \"#EF553B\", \"#00cc96\", \"#ab63fa\", \"#FFA15A\", \"#19d3f3\", \"#FF6692\", \"#B6E880\", \"#FF97FF\", \"#FECB52\"], \"font\": {\"color\": \"#2a3f5f\"}, \"geo\": {\"bgcolor\": \"white\", \"lakecolor\": \"white\", \"landcolor\": \"#E5ECF6\", \"showlakes\": true, \"showland\": true, \"subunitcolor\": \"white\"}, \"hoverlabel\": {\"align\": \"left\"}, \"hovermode\": \"closest\", \"mapbox\": {\"style\": \"light\"}, \"paper_bgcolor\": \"white\", \"plot_bgcolor\": \"#E5ECF6\", \"polar\": {\"angularaxis\": {\"gridcolor\": \"white\", \"linecolor\": \"white\", \"ticks\": \"\"}, \"bgcolor\": \"#E5ECF6\", \"radialaxis\": {\"gridcolor\": \"white\", \"linecolor\": \"white\", \"ticks\": \"\"}}, \"scene\": {\"xaxis\": {\"backgroundcolor\": \"#E5ECF6\", \"gridcolor\": \"white\", \"gridwidth\": 2, \"linecolor\": \"white\", \"showbackground\": true, \"ticks\": \"\", \"zerolinecolor\": \"white\"}, \"yaxis\": {\"backgroundcolor\": \"#E5ECF6\", \"gridcolor\": \"white\", \"gridwidth\": 2, \"linecolor\": \"white\", \"showbackground\": true, \"ticks\": \"\", \"zerolinecolor\": \"white\"}, \"zaxis\": {\"backgroundcolor\": \"#E5ECF6\", \"gridcolor\": \"white\", \"gridwidth\": 2, \"linecolor\": \"white\", \"showbackground\": true, \"ticks\": \"\", \"zerolinecolor\": \"white\"}}, \"shapedefaults\": {\"line\": {\"color\": \"#2a3f5f\"}}, \"ternary\": {\"aaxis\": {\"gridcolor\": \"white\", \"linecolor\": \"white\", \"ticks\": \"\"}, \"baxis\": {\"gridcolor\": \"white\", \"linecolor\": \"white\", \"ticks\": \"\"}, \"bgcolor\": \"#E5ECF6\", \"caxis\": {\"gridcolor\": \"white\", \"linecolor\": \"white\", \"ticks\": \"\"}}, \"title\": {\"x\": 0.05}, \"xaxis\": {\"automargin\": true, \"gridcolor\": \"white\", \"linecolor\": \"white\", \"ticks\": \"\", \"title\": {\"standoff\": 15}, \"zerolinecolor\": \"white\", \"zerolinewidth\": 2}, \"yaxis\": {\"automargin\": true, \"gridcolor\": \"white\", \"linecolor\": \"white\", \"ticks\": \"\", \"title\": {\"standoff\": 15}, \"zerolinecolor\": \"white\", \"zerolinewidth\": 2}}}, \"title\": {\"text\": \"Co-funders of NSF publications\"}, \"xaxis\": {\"anchor\": \"y\", \"domain\": [0.0, 1.0], \"title\": {\"text\": \"name\"}}, \"yaxis\": {\"anchor\": \"x\", \"domain\": [0.0, 1.0], \"title\": {\"text\": \"count\"}}},                        {\"responsive\": true}                    ).then(function(){\n",
       "                            \n",
       "var gd = document.getElementById('d0c4355c-2620-4d36-98ba-3a6274f3378f');\n",
       "var x = new MutationObserver(function (mutations, observer) {{\n",
       "        var display = window.getComputedStyle(gd).display;\n",
       "        if (!display || display === 'none') {{\n",
       "            console.log([gd, 'removed!']);\n",
       "            Plotly.purge(gd);\n",
       "            observer.disconnect();\n",
       "        }}\n",
       "}});\n",
       "\n",
       "// Listen for the removal of the full notebook cells\n",
       "var notebookContainer = gd.closest('#notebook-container');\n",
       "if (notebookContainer) {{\n",
       "    x.observe(notebookContainer, {childList: true});\n",
       "}}\n",
       "\n",
       "// Listen for the clearing of the current output cell\n",
       "var outputEl = gd.closest('.output');\n",
       "if (outputEl) {{\n",
       "    x.observe(outputEl, {childList: true});\n",
       "}}\n",
       "\n",
       "                        })                };                });            </script>        </div>"
      ]
     },
     "metadata": {},
     "output_type": "display_data"
    }
   ],
   "source": [
    "import plotly.express as px\n",
    "\n",
    "px.bar(funders_non_nsf_sample,\n",
    "       x=\"name\", y=\"count\",\n",
    "       color=\"country_name\",\n",
    "       title=f\"Co-funders of NSF publications\")\n",
    "\n",
    "\n"
   ]
  },
  {
   "cell_type": "markdown",
   "metadata": {
    "Collapsed": "false"
   },
   "source": [
    "## 5. For a given list of NSF awards, how to find out if the awardees have awards from other funders outside NSF?\n"
   ]
  },
  {
   "cell_type": "markdown",
   "metadata": {
    "Collapsed": "false"
   },
   "source": [
    "### Approach: Three steps \n",
    "\n",
    "* first get a list of researchers linked to the NSF awards \n",
    "* second get all awards for those researchers\n",
    "* third, keep only the non-NSF awards "
   ]
  },
  {
   "cell_type": "code",
   "execution_count": 37,
   "metadata": {
    "Collapsed": "false"
   },
   "outputs": [
    {
     "name": "stdout",
     "output_type": "stream",
     "text": [
      "Starting iteration with limit=1000 skip=0 ...\n",
      "0-1000 / 2554 (1.86s)\n",
      "1000-2000 / 2554 (1.95s)\n",
      "2000-2554 / 2554 (0.85s)\n",
      "===\n",
      "Records extracted: 2554\n"
     ]
    },
    {
     "data": {
      "text/html": [
       "<div>\n",
       "<style scoped>\n",
       "    .dataframe tbody tr th:only-of-type {\n",
       "        vertical-align: middle;\n",
       "    }\n",
       "\n",
       "    .dataframe tbody tr th {\n",
       "        vertical-align: top;\n",
       "    }\n",
       "\n",
       "    .dataframe thead th {\n",
       "        text-align: right;\n",
       "    }\n",
       "</style>\n",
       "<table border=\"1\" class=\"dataframe\">\n",
       "  <thead>\n",
       "    <tr style=\"text-align: right;\">\n",
       "      <th></th>\n",
       "      <th>grant_number</th>\n",
       "      <th>id</th>\n",
       "      <th>title</th>\n",
       "      <th>researchers</th>\n",
       "    </tr>\n",
       "  </thead>\n",
       "  <tbody>\n",
       "    <tr>\n",
       "      <th>0</th>\n",
       "      <td>2040926</td>\n",
       "      <td>grant.9605613</td>\n",
       "      <td>FAI: Quantifying and Mitigating Disparities in...</td>\n",
       "      <td>[{'id': 'ur.010326200354.06', 'last_name': 'Ne...</td>\n",
       "    </tr>\n",
       "    <tr>\n",
       "      <th>1</th>\n",
       "      <td>2044516</td>\n",
       "      <td>grant.9620903</td>\n",
       "      <td>CAREER: Data-Driven Wireless Networking Design...</td>\n",
       "      <td>[{'id': 'ur.010770732005.11', 'last_name': 'Lu...</td>\n",
       "    </tr>\n",
       "    <tr>\n",
       "      <th>2</th>\n",
       "      <td>2047516</td>\n",
       "      <td>grant.9605878</td>\n",
       "      <td>CAREER: Achieving Real-Time Machine Learning w...</td>\n",
       "      <td>[{'id': 'ur.014307500035.17', 'last_name': 'Re...</td>\n",
       "    </tr>\n",
       "    <tr>\n",
       "      <th>3</th>\n",
       "      <td>2047623</td>\n",
       "      <td>grant.9621098</td>\n",
       "      <td>CAREER: Black-Box Learning of Web Application ...</td>\n",
       "      <td>[{'id': 'ur.010636756673.83', 'last_name': 'Ma...</td>\n",
       "    </tr>\n",
       "    <tr>\n",
       "      <th>4</th>\n",
       "      <td>2051621</td>\n",
       "      <td>grant.9606024</td>\n",
       "      <td>SaTC: CORE: Small: Automatic Exploits Detectio...</td>\n",
       "      <td>[{'id': 'ur.07734074503.42', 'last_name': 'Meh...</td>\n",
       "    </tr>\n",
       "  </tbody>\n",
       "</table>\n",
       "</div>"
      ],
      "text/plain": [
       "  grant_number             id  \\\n",
       "0      2040926  grant.9605613   \n",
       "1      2044516  grant.9620903   \n",
       "2      2047516  grant.9605878   \n",
       "3      2047623  grant.9621098   \n",
       "4      2051621  grant.9606024   \n",
       "\n",
       "                                               title  \\\n",
       "0  FAI: Quantifying and Mitigating Disparities in...   \n",
       "1  CAREER: Data-Driven Wireless Networking Design...   \n",
       "2  CAREER: Achieving Real-Time Machine Learning w...   \n",
       "3  CAREER: Black-Box Learning of Web Application ...   \n",
       "4  SaTC: CORE: Small: Automatic Exploits Detectio...   \n",
       "\n",
       "                                         researchers  \n",
       "0  [{'id': 'ur.010326200354.06', 'last_name': 'Ne...  \n",
       "1  [{'id': 'ur.010770732005.11', 'last_name': 'Lu...  \n",
       "2  [{'id': 'ur.014307500035.17', 'last_name': 'Re...  \n",
       "3  [{'id': 'ur.010636756673.83', 'last_name': 'Ma...  \n",
       "4  [{'id': 'ur.07734074503.42', 'last_name': 'Meh...  "
      ]
     },
     "execution_count": 37,
     "metadata": {},
     "output_type": "execute_result"
    }
   ],
   "source": [
    "grants  = dsl.query_iterative(\"\"\"\n",
    "search grants \n",
    "    where funders in [\"grid.457785.c\"]\n",
    "    and start_year >= 2020 \n",
    "return grants[id+title+grant_number+researchers] \n",
    "\"\"\").as_dataframe()\n",
    "\n",
    "grants.head(5)"
   ]
  },
  {
   "cell_type": "code",
   "execution_count": 38,
   "metadata": {
    "Collapsed": "false"
   },
   "outputs": [
    {
     "name": "stdout",
     "output_type": "stream",
     "text": [
      "Unique researchers:  3838\n"
     ]
    }
   ],
   "source": [
    "# ignore grants with no researchers info\n",
    "grants.dropna(subset=['researchers'], inplace=True)\n",
    "\n",
    "# get the IDS only\n",
    "researchers = set()\n",
    "\n",
    "for index, row in grants.iterrows():\n",
    "    res = [el['id'] for el in row['researchers']]\n",
    "    researchers.update(res)\n",
    "\n",
    "print(\"Unique researchers: \", len(researchers))"
   ]
  },
  {
   "cell_type": "code",
   "execution_count": 39,
   "metadata": {
    "Collapsed": "false"
   },
   "outputs": [
    {
     "data": {
      "application/vnd.jupyter.widget-view+json": {
       "model_id": "cf514e261fa44be988375db39b95eeb6",
       "version_major": 2,
       "version_minor": 0
      },
      "text/plain": [
       "HBox(children=(HTML(value=''), FloatProgress(value=0.0, max=20.0), HTML(value='')))"
      ]
     },
     "metadata": {},
     "output_type": "display_data"
    },
    {
     "name": "stdout",
     "output_type": "stream",
     "text": [
      "\n",
      "Grants found:  125\n",
      "Unique Grants found:  124\n"
     ]
    }
   ],
   "source": [
    "#\n",
    "# A LOOPED EXTRACTION \n",
    "#\n",
    "\n",
    "#\n",
    "# the main query\n",
    "#\n",
    "q = \"\"\"search grants\n",
    "          where start_year >= 2020 \n",
    "          not funders in {}\n",
    "          and researchers in {}\n",
    "       return grants[basics+researchers]\"\"\"\n",
    "\n",
    "#\n",
    "# let's loop through all researcher IDs in chunks and query Dimensions\n",
    "#\n",
    "results = []\n",
    "for chunk in progressbar(list(chunks_of(list(researchers), 200))):\n",
    "    data = dsl.query_iterative(q.format(json.dumps(nsfgrids), json.dumps(chunk)), verbose=False)\n",
    "    results += data.grants\n",
    "    time.sleep(1)\n",
    "\n",
    "#\n",
    "# put the data into a dataframe, remove duplicates and save\n",
    "#\n",
    "new_grants = pd.DataFrame().from_dict(results)\n",
    "print(\"Grants found: \", len(new_grants))\n",
    "new_grants.drop_duplicates(subset='id', inplace=True)\n",
    "print(\"Unique Grants found: \", len(new_grants))\n"
   ]
  },
  {
   "cell_type": "code",
   "execution_count": 40,
   "metadata": {
    "Collapsed": "false"
   },
   "outputs": [
    {
     "data": {
      "text/plain": [
       "United States Department of the Navy                           37\n",
       "National Natural Science Foundation of China                    9\n",
       "National Institute of Food and Agriculture                      7\n",
       "National Institute of General Medical Sciences                  7\n",
       "National Institute of Biomedical Imaging and Bioengineering     6\n",
       "German Research Foundation                                      4\n",
       "Office of Advanced Scientific Computing Research                4\n",
       "United States Army                                              4\n",
       "National Institute on Aging                                     4\n",
       "National Cancer Institute                                       3\n",
       "Name: funding_org_name, dtype: int64"
      ]
     },
     "execution_count": 40,
     "metadata": {},
     "output_type": "execute_result"
    }
   ],
   "source": [
    "new_grants['funding_org_name'].value_counts()[:10]"
   ]
  },
  {
   "cell_type": "code",
   "execution_count": 41,
   "metadata": {
    "Collapsed": "false"
   },
   "outputs": [
    {
     "data": {
      "application/vnd.plotly.v1+json": {
       "config": {
        "plotlyServerURL": "https://plot.ly"
       },
       "data": [
        {
         "alignmentgroup": "True",
         "hovertemplate": "funding_org_name=%{x}<br>id=%{y}<extra></extra>",
         "legendgroup": "",
         "marker": {
          "color": "#636efa"
         },
         "name": "",
         "offsetgroup": "",
         "orientation": "v",
         "showlegend": false,
         "textposition": "auto",
         "type": "bar",
         "x": [
          "United States Department of the Navy",
          "National Natural Science Foundation of China",
          "National Institute of General Medical Sciences",
          "National Institute of Food and Agriculture",
          "National Institute of Biomedical Imaging and Bioengineering",
          "United States Army",
          "Office of Advanced Scientific Computing Research",
          "German Research Foundation",
          "National Institute on Aging",
          "Australian Research Council",
          "National Cancer Institute",
          "National Institute of Allergy and Infectious Diseases",
          "National Human Genome Research Institute",
          "Qatar National Research Fund",
          "National Institute of Mental Health",
          "United States National Library of Medicine",
          "National Heart Lung and Blood Institute",
          "Council for International Exchange of Scholars",
          "Defense Advanced Research Projects Agency",
          "National Endowment for the Humanities",
          "Eunice Kennedy Shriver National Institute of Child Health and Human Development",
          "Alfred P. Sloan Foundation",
          "Canadian Institutes of Health Research",
          "Office of the Secretary of Defense",
          "Office of Fusion Energy Sciences",
          "Office of Basic Energy Sciences",
          "National Oceanic and Atmospheric Administration",
          "National Institute on Drug Abuse",
          "National Institute on Deafness and Other Communication Disorders",
          "Innovation and Technology Commission",
          "National Institute of Neurological Disorders and Stroke",
          "National Aeronautics and Space Administration",
          "National Center for Advancing Translational Sciences",
          "National Center for Emerging and Zoonotic Infectious Diseases",
          "National Institute of Diabetes and Digestive and Kidney Diseases",
          "Agency for Healthcare Research and Quality",
          "Advanced Research Projects Agency-Energy"
         ],
         "xaxis": "x",
         "y": [
          37,
          9,
          7,
          7,
          6,
          4,
          4,
          4,
          4,
          3,
          3,
          3,
          2,
          2,
          2,
          2,
          2,
          2,
          2,
          2,
          1,
          1,
          1,
          1,
          1,
          1,
          1,
          1,
          1,
          1,
          1,
          1,
          1,
          1,
          1,
          1,
          1
         ],
         "yaxis": "y"
        }
       ],
       "layout": {
        "autosize": true,
        "barmode": "relative",
        "legend": {
         "tracegroupgap": 0
        },
        "template": {
         "data": {
          "bar": [
           {
            "error_x": {
             "color": "#2a3f5f"
            },
            "error_y": {
             "color": "#2a3f5f"
            },
            "marker": {
             "line": {
              "color": "#E5ECF6",
              "width": 0.5
             }
            },
            "type": "bar"
           }
          ],
          "barpolar": [
           {
            "marker": {
             "line": {
              "color": "#E5ECF6",
              "width": 0.5
             }
            },
            "type": "barpolar"
           }
          ],
          "carpet": [
           {
            "aaxis": {
             "endlinecolor": "#2a3f5f",
             "gridcolor": "white",
             "linecolor": "white",
             "minorgridcolor": "white",
             "startlinecolor": "#2a3f5f"
            },
            "baxis": {
             "endlinecolor": "#2a3f5f",
             "gridcolor": "white",
             "linecolor": "white",
             "minorgridcolor": "white",
             "startlinecolor": "#2a3f5f"
            },
            "type": "carpet"
           }
          ],
          "choropleth": [
           {
            "colorbar": {
             "outlinewidth": 0,
             "ticks": ""
            },
            "type": "choropleth"
           }
          ],
          "contour": [
           {
            "colorbar": {
             "outlinewidth": 0,
             "ticks": ""
            },
            "colorscale": [
             [
              0,
              "#0d0887"
             ],
             [
              0.1111111111111111,
              "#46039f"
             ],
             [
              0.2222222222222222,
              "#7201a8"
             ],
             [
              0.3333333333333333,
              "#9c179e"
             ],
             [
              0.4444444444444444,
              "#bd3786"
             ],
             [
              0.5555555555555556,
              "#d8576b"
             ],
             [
              0.6666666666666666,
              "#ed7953"
             ],
             [
              0.7777777777777778,
              "#fb9f3a"
             ],
             [
              0.8888888888888888,
              "#fdca26"
             ],
             [
              1,
              "#f0f921"
             ]
            ],
            "type": "contour"
           }
          ],
          "contourcarpet": [
           {
            "colorbar": {
             "outlinewidth": 0,
             "ticks": ""
            },
            "type": "contourcarpet"
           }
          ],
          "heatmap": [
           {
            "colorbar": {
             "outlinewidth": 0,
             "ticks": ""
            },
            "colorscale": [
             [
              0,
              "#0d0887"
             ],
             [
              0.1111111111111111,
              "#46039f"
             ],
             [
              0.2222222222222222,
              "#7201a8"
             ],
             [
              0.3333333333333333,
              "#9c179e"
             ],
             [
              0.4444444444444444,
              "#bd3786"
             ],
             [
              0.5555555555555556,
              "#d8576b"
             ],
             [
              0.6666666666666666,
              "#ed7953"
             ],
             [
              0.7777777777777778,
              "#fb9f3a"
             ],
             [
              0.8888888888888888,
              "#fdca26"
             ],
             [
              1,
              "#f0f921"
             ]
            ],
            "type": "heatmap"
           }
          ],
          "heatmapgl": [
           {
            "colorbar": {
             "outlinewidth": 0,
             "ticks": ""
            },
            "colorscale": [
             [
              0,
              "#0d0887"
             ],
             [
              0.1111111111111111,
              "#46039f"
             ],
             [
              0.2222222222222222,
              "#7201a8"
             ],
             [
              0.3333333333333333,
              "#9c179e"
             ],
             [
              0.4444444444444444,
              "#bd3786"
             ],
             [
              0.5555555555555556,
              "#d8576b"
             ],
             [
              0.6666666666666666,
              "#ed7953"
             ],
             [
              0.7777777777777778,
              "#fb9f3a"
             ],
             [
              0.8888888888888888,
              "#fdca26"
             ],
             [
              1,
              "#f0f921"
             ]
            ],
            "type": "heatmapgl"
           }
          ],
          "histogram": [
           {
            "marker": {
             "colorbar": {
              "outlinewidth": 0,
              "ticks": ""
             }
            },
            "type": "histogram"
           }
          ],
          "histogram2d": [
           {
            "colorbar": {
             "outlinewidth": 0,
             "ticks": ""
            },
            "colorscale": [
             [
              0,
              "#0d0887"
             ],
             [
              0.1111111111111111,
              "#46039f"
             ],
             [
              0.2222222222222222,
              "#7201a8"
             ],
             [
              0.3333333333333333,
              "#9c179e"
             ],
             [
              0.4444444444444444,
              "#bd3786"
             ],
             [
              0.5555555555555556,
              "#d8576b"
             ],
             [
              0.6666666666666666,
              "#ed7953"
             ],
             [
              0.7777777777777778,
              "#fb9f3a"
             ],
             [
              0.8888888888888888,
              "#fdca26"
             ],
             [
              1,
              "#f0f921"
             ]
            ],
            "type": "histogram2d"
           }
          ],
          "histogram2dcontour": [
           {
            "colorbar": {
             "outlinewidth": 0,
             "ticks": ""
            },
            "colorscale": [
             [
              0,
              "#0d0887"
             ],
             [
              0.1111111111111111,
              "#46039f"
             ],
             [
              0.2222222222222222,
              "#7201a8"
             ],
             [
              0.3333333333333333,
              "#9c179e"
             ],
             [
              0.4444444444444444,
              "#bd3786"
             ],
             [
              0.5555555555555556,
              "#d8576b"
             ],
             [
              0.6666666666666666,
              "#ed7953"
             ],
             [
              0.7777777777777778,
              "#fb9f3a"
             ],
             [
              0.8888888888888888,
              "#fdca26"
             ],
             [
              1,
              "#f0f921"
             ]
            ],
            "type": "histogram2dcontour"
           }
          ],
          "mesh3d": [
           {
            "colorbar": {
             "outlinewidth": 0,
             "ticks": ""
            },
            "type": "mesh3d"
           }
          ],
          "parcoords": [
           {
            "line": {
             "colorbar": {
              "outlinewidth": 0,
              "ticks": ""
             }
            },
            "type": "parcoords"
           }
          ],
          "pie": [
           {
            "automargin": true,
            "type": "pie"
           }
          ],
          "scatter": [
           {
            "marker": {
             "colorbar": {
              "outlinewidth": 0,
              "ticks": ""
             }
            },
            "type": "scatter"
           }
          ],
          "scatter3d": [
           {
            "line": {
             "colorbar": {
              "outlinewidth": 0,
              "ticks": ""
             }
            },
            "marker": {
             "colorbar": {
              "outlinewidth": 0,
              "ticks": ""
             }
            },
            "type": "scatter3d"
           }
          ],
          "scattercarpet": [
           {
            "marker": {
             "colorbar": {
              "outlinewidth": 0,
              "ticks": ""
             }
            },
            "type": "scattercarpet"
           }
          ],
          "scattergeo": [
           {
            "marker": {
             "colorbar": {
              "outlinewidth": 0,
              "ticks": ""
             }
            },
            "type": "scattergeo"
           }
          ],
          "scattergl": [
           {
            "marker": {
             "colorbar": {
              "outlinewidth": 0,
              "ticks": ""
             }
            },
            "type": "scattergl"
           }
          ],
          "scattermapbox": [
           {
            "marker": {
             "colorbar": {
              "outlinewidth": 0,
              "ticks": ""
             }
            },
            "type": "scattermapbox"
           }
          ],
          "scatterpolar": [
           {
            "marker": {
             "colorbar": {
              "outlinewidth": 0,
              "ticks": ""
             }
            },
            "type": "scatterpolar"
           }
          ],
          "scatterpolargl": [
           {
            "marker": {
             "colorbar": {
              "outlinewidth": 0,
              "ticks": ""
             }
            },
            "type": "scatterpolargl"
           }
          ],
          "scatterternary": [
           {
            "marker": {
             "colorbar": {
              "outlinewidth": 0,
              "ticks": ""
             }
            },
            "type": "scatterternary"
           }
          ],
          "surface": [
           {
            "colorbar": {
             "outlinewidth": 0,
             "ticks": ""
            },
            "colorscale": [
             [
              0,
              "#0d0887"
             ],
             [
              0.1111111111111111,
              "#46039f"
             ],
             [
              0.2222222222222222,
              "#7201a8"
             ],
             [
              0.3333333333333333,
              "#9c179e"
             ],
             [
              0.4444444444444444,
              "#bd3786"
             ],
             [
              0.5555555555555556,
              "#d8576b"
             ],
             [
              0.6666666666666666,
              "#ed7953"
             ],
             [
              0.7777777777777778,
              "#fb9f3a"
             ],
             [
              0.8888888888888888,
              "#fdca26"
             ],
             [
              1,
              "#f0f921"
             ]
            ],
            "type": "surface"
           }
          ],
          "table": [
           {
            "cells": {
             "fill": {
              "color": "#EBF0F8"
             },
             "line": {
              "color": "white"
             }
            },
            "header": {
             "fill": {
              "color": "#C8D4E3"
             },
             "line": {
              "color": "white"
             }
            },
            "type": "table"
           }
          ]
         },
         "layout": {
          "annotationdefaults": {
           "arrowcolor": "#2a3f5f",
           "arrowhead": 0,
           "arrowwidth": 1
          },
          "coloraxis": {
           "colorbar": {
            "outlinewidth": 0,
            "ticks": ""
           }
          },
          "colorscale": {
           "diverging": [
            [
             0,
             "#8e0152"
            ],
            [
             0.1,
             "#c51b7d"
            ],
            [
             0.2,
             "#de77ae"
            ],
            [
             0.3,
             "#f1b6da"
            ],
            [
             0.4,
             "#fde0ef"
            ],
            [
             0.5,
             "#f7f7f7"
            ],
            [
             0.6,
             "#e6f5d0"
            ],
            [
             0.7,
             "#b8e186"
            ],
            [
             0.8,
             "#7fbc41"
            ],
            [
             0.9,
             "#4d9221"
            ],
            [
             1,
             "#276419"
            ]
           ],
           "sequential": [
            [
             0,
             "#0d0887"
            ],
            [
             0.1111111111111111,
             "#46039f"
            ],
            [
             0.2222222222222222,
             "#7201a8"
            ],
            [
             0.3333333333333333,
             "#9c179e"
            ],
            [
             0.4444444444444444,
             "#bd3786"
            ],
            [
             0.5555555555555556,
             "#d8576b"
            ],
            [
             0.6666666666666666,
             "#ed7953"
            ],
            [
             0.7777777777777778,
             "#fb9f3a"
            ],
            [
             0.8888888888888888,
             "#fdca26"
            ],
            [
             1,
             "#f0f921"
            ]
           ],
           "sequentialminus": [
            [
             0,
             "#0d0887"
            ],
            [
             0.1111111111111111,
             "#46039f"
            ],
            [
             0.2222222222222222,
             "#7201a8"
            ],
            [
             0.3333333333333333,
             "#9c179e"
            ],
            [
             0.4444444444444444,
             "#bd3786"
            ],
            [
             0.5555555555555556,
             "#d8576b"
            ],
            [
             0.6666666666666666,
             "#ed7953"
            ],
            [
             0.7777777777777778,
             "#fb9f3a"
            ],
            [
             0.8888888888888888,
             "#fdca26"
            ],
            [
             1,
             "#f0f921"
            ]
           ]
          },
          "colorway": [
           "#636efa",
           "#EF553B",
           "#00cc96",
           "#ab63fa",
           "#FFA15A",
           "#19d3f3",
           "#FF6692",
           "#B6E880",
           "#FF97FF",
           "#FECB52"
          ],
          "font": {
           "color": "#2a3f5f"
          },
          "geo": {
           "bgcolor": "white",
           "lakecolor": "white",
           "landcolor": "#E5ECF6",
           "showlakes": true,
           "showland": true,
           "subunitcolor": "white"
          },
          "hoverlabel": {
           "align": "left"
          },
          "hovermode": "closest",
          "mapbox": {
           "style": "light"
          },
          "paper_bgcolor": "white",
          "plot_bgcolor": "#E5ECF6",
          "polar": {
           "angularaxis": {
            "gridcolor": "white",
            "linecolor": "white",
            "ticks": ""
           },
           "bgcolor": "#E5ECF6",
           "radialaxis": {
            "gridcolor": "white",
            "linecolor": "white",
            "ticks": ""
           }
          },
          "scene": {
           "xaxis": {
            "backgroundcolor": "#E5ECF6",
            "gridcolor": "white",
            "gridwidth": 2,
            "linecolor": "white",
            "showbackground": true,
            "ticks": "",
            "zerolinecolor": "white"
           },
           "yaxis": {
            "backgroundcolor": "#E5ECF6",
            "gridcolor": "white",
            "gridwidth": 2,
            "linecolor": "white",
            "showbackground": true,
            "ticks": "",
            "zerolinecolor": "white"
           },
           "zaxis": {
            "backgroundcolor": "#E5ECF6",
            "gridcolor": "white",
            "gridwidth": 2,
            "linecolor": "white",
            "showbackground": true,
            "ticks": "",
            "zerolinecolor": "white"
           }
          },
          "shapedefaults": {
           "line": {
            "color": "#2a3f5f"
           }
          },
          "ternary": {
           "aaxis": {
            "gridcolor": "white",
            "linecolor": "white",
            "ticks": ""
           },
           "baxis": {
            "gridcolor": "white",
            "linecolor": "white",
            "ticks": ""
           },
           "bgcolor": "#E5ECF6",
           "caxis": {
            "gridcolor": "white",
            "linecolor": "white",
            "ticks": ""
           }
          },
          "title": {
           "x": 0.05
          },
          "xaxis": {
           "automargin": true,
           "gridcolor": "white",
           "linecolor": "white",
           "ticks": "",
           "title": {
            "standoff": 15
           },
           "zerolinecolor": "white",
           "zerolinewidth": 2
          },
          "yaxis": {
           "automargin": true,
           "gridcolor": "white",
           "linecolor": "white",
           "ticks": "",
           "title": {
            "standoff": 15
           },
           "zerolinecolor": "white",
           "zerolinewidth": 2
          }
         }
        },
        "title": {
         "text": "Co-funders of NSF publications"
        },
        "xaxis": {
         "anchor": "y",
         "autorange": true,
         "domain": [
          0,
          1
         ],
         "range": [
          -0.5,
          36.5
         ],
         "title": {
          "text": "funding_org_name"
         },
         "type": "category"
        },
        "yaxis": {
         "anchor": "x",
         "autorange": true,
         "domain": [
          0,
          1
         ],
         "range": [
          0,
          38.94736842105263
         ],
         "title": {
          "text": "id"
         },
         "type": "linear"
        }
       }
      },
      "image/png": "[encoded data removed]",
      "text/html": [
       "<div>                            <div id=\"695ee6d4-92d9-4eac-a6c7-86a1f8cda075\" class=\"plotly-graph-div\" style=\"height:525px; width:100%;\"></div>            <script type=\"text/javascript\">                require([\"plotly\"], function(Plotly) {                    window.PLOTLYENV=window.PLOTLYENV || {};                                    if (document.getElementById(\"695ee6d4-92d9-4eac-a6c7-86a1f8cda075\")) {                    Plotly.newPlot(                        \"695ee6d4-92d9-4eac-a6c7-86a1f8cda075\",                        [{\"alignmentgroup\": \"True\", \"hovertemplate\": \"funding_org_name=%{x}<br>id=%{y}<extra></extra>\", \"legendgroup\": \"\", \"marker\": {\"color\": \"#636efa\"}, \"name\": \"\", \"offsetgroup\": \"\", \"orientation\": \"v\", \"showlegend\": false, \"textposition\": \"auto\", \"type\": \"bar\", \"x\": [\"United States Department of the Navy\", \"National Natural Science Foundation of China\", \"National Institute of General Medical Sciences\", \"National Institute of Food and Agriculture\", \"National Institute of Biomedical Imaging and Bioengineering\", \"United States Army\", \"Office of Advanced Scientific Computing Research\", \"German Research Foundation\", \"National Institute on Aging\", \"Australian Research Council\", \"National Cancer Institute\", \"National Institute of Allergy and Infectious Diseases\", \"National Human Genome Research Institute\", \"Qatar National Research Fund\", \"National Institute of Mental Health\", \"United States National Library of Medicine\", \"National Heart Lung and Blood Institute\", \"Council for International Exchange of Scholars\", \"Defense Advanced Research Projects Agency\", \"National Endowment for the Humanities\", \"Eunice Kennedy Shriver National Institute of Child Health and Human Development\", \"Alfred P. Sloan Foundation\", \"Canadian Institutes of Health Research\", \"Office of the Secretary of Defense\", \"Office of Fusion Energy Sciences\", \"Office of Basic Energy Sciences\", \"National Oceanic and Atmospheric Administration\", \"National Institute on Drug Abuse\", \"National Institute on Deafness and Other Communication Disorders\", \"Innovation and Technology Commission\", \"National Institute of Neurological Disorders and Stroke\", \"National Aeronautics and Space Administration\", \"National Center for Advancing Translational Sciences\", \"National Center for Emerging and Zoonotic Infectious Diseases\", \"National Institute of Diabetes and Digestive and Kidney Diseases\", \"Agency for Healthcare Research and Quality\", \"Advanced Research Projects Agency-Energy\"], \"xaxis\": \"x\", \"y\": [37, 9, 7, 7, 6, 4, 4, 4, 4, 3, 3, 3, 2, 2, 2, 2, 2, 2, 2, 2, 1, 1, 1, 1, 1, 1, 1, 1, 1, 1, 1, 1, 1, 1, 1, 1, 1], \"yaxis\": \"y\"}],                        {\"barmode\": \"relative\", \"legend\": {\"tracegroupgap\": 0}, \"template\": {\"data\": {\"bar\": [{\"error_x\": {\"color\": \"#2a3f5f\"}, \"error_y\": {\"color\": \"#2a3f5f\"}, \"marker\": {\"line\": {\"color\": \"#E5ECF6\", \"width\": 0.5}}, \"type\": \"bar\"}], \"barpolar\": [{\"marker\": {\"line\": {\"color\": \"#E5ECF6\", \"width\": 0.5}}, \"type\": \"barpolar\"}], \"carpet\": [{\"aaxis\": {\"endlinecolor\": \"#2a3f5f\", \"gridcolor\": \"white\", \"linecolor\": \"white\", \"minorgridcolor\": \"white\", \"startlinecolor\": \"#2a3f5f\"}, \"baxis\": {\"endlinecolor\": \"#2a3f5f\", \"gridcolor\": \"white\", \"linecolor\": \"white\", \"minorgridcolor\": \"white\", \"startlinecolor\": \"#2a3f5f\"}, \"type\": \"carpet\"}], \"choropleth\": [{\"colorbar\": {\"outlinewidth\": 0, \"ticks\": \"\"}, \"type\": \"choropleth\"}], \"contour\": [{\"colorbar\": {\"outlinewidth\": 0, \"ticks\": \"\"}, \"colorscale\": [[0.0, \"#0d0887\"], [0.1111111111111111, \"#46039f\"], [0.2222222222222222, \"#7201a8\"], [0.3333333333333333, \"#9c179e\"], [0.4444444444444444, \"#bd3786\"], [0.5555555555555556, \"#d8576b\"], [0.6666666666666666, \"#ed7953\"], [0.7777777777777778, \"#fb9f3a\"], [0.8888888888888888, \"#fdca26\"], [1.0, \"#f0f921\"]], \"type\": \"contour\"}], \"contourcarpet\": [{\"colorbar\": {\"outlinewidth\": 0, \"ticks\": \"\"}, \"type\": \"contourcarpet\"}], \"heatmap\": [{\"colorbar\": {\"outlinewidth\": 0, \"ticks\": \"\"}, \"colorscale\": [[0.0, \"#0d0887\"], [0.1111111111111111, \"#46039f\"], [0.2222222222222222, \"#7201a8\"], [0.3333333333333333, \"#9c179e\"], [0.4444444444444444, \"#bd3786\"], [0.5555555555555556, \"#d8576b\"], [0.6666666666666666, \"#ed7953\"], [0.7777777777777778, \"#fb9f3a\"], [0.8888888888888888, \"#fdca26\"], [1.0, \"#f0f921\"]], \"type\": \"heatmap\"}], \"heatmapgl\": [{\"colorbar\": {\"outlinewidth\": 0, \"ticks\": \"\"}, \"colorscale\": [[0.0, \"#0d0887\"], [0.1111111111111111, \"#46039f\"], [0.2222222222222222, \"#7201a8\"], [0.3333333333333333, \"#9c179e\"], [0.4444444444444444, \"#bd3786\"], [0.5555555555555556, \"#d8576b\"], [0.6666666666666666, \"#ed7953\"], [0.7777777777777778, \"#fb9f3a\"], [0.8888888888888888, \"#fdca26\"], [1.0, \"#f0f921\"]], \"type\": \"heatmapgl\"}], \"histogram\": [{\"marker\": {\"colorbar\": {\"outlinewidth\": 0, \"ticks\": \"\"}}, \"type\": \"histogram\"}], \"histogram2d\": [{\"colorbar\": {\"outlinewidth\": 0, \"ticks\": \"\"}, \"colorscale\": [[0.0, \"#0d0887\"], [0.1111111111111111, \"#46039f\"], [0.2222222222222222, \"#7201a8\"], [0.3333333333333333, \"#9c179e\"], [0.4444444444444444, \"#bd3786\"], [0.5555555555555556, \"#d8576b\"], [0.6666666666666666, \"#ed7953\"], [0.7777777777777778, \"#fb9f3a\"], [0.8888888888888888, \"#fdca26\"], [1.0, \"#f0f921\"]], \"type\": \"histogram2d\"}], \"histogram2dcontour\": [{\"colorbar\": {\"outlinewidth\": 0, \"ticks\": \"\"}, \"colorscale\": [[0.0, \"#0d0887\"], [0.1111111111111111, \"#46039f\"], [0.2222222222222222, \"#7201a8\"], [0.3333333333333333, \"#9c179e\"], [0.4444444444444444, \"#bd3786\"], [0.5555555555555556, \"#d8576b\"], [0.6666666666666666, \"#ed7953\"], [0.7777777777777778, \"#fb9f3a\"], [0.8888888888888888, \"#fdca26\"], [1.0, \"#f0f921\"]], \"type\": \"histogram2dcontour\"}], \"mesh3d\": [{\"colorbar\": {\"outlinewidth\": 0, \"ticks\": \"\"}, \"type\": \"mesh3d\"}], \"parcoords\": [{\"line\": {\"colorbar\": {\"outlinewidth\": 0, \"ticks\": \"\"}}, \"type\": \"parcoords\"}], \"pie\": [{\"automargin\": true, \"type\": \"pie\"}], \"scatter\": [{\"marker\": {\"colorbar\": {\"outlinewidth\": 0, \"ticks\": \"\"}}, \"type\": \"scatter\"}], \"scatter3d\": [{\"line\": {\"colorbar\": {\"outlinewidth\": 0, \"ticks\": \"\"}}, \"marker\": {\"colorbar\": {\"outlinewidth\": 0, \"ticks\": \"\"}}, \"type\": \"scatter3d\"}], \"scattercarpet\": [{\"marker\": {\"colorbar\": {\"outlinewidth\": 0, \"ticks\": \"\"}}, \"type\": \"scattercarpet\"}], \"scattergeo\": [{\"marker\": {\"colorbar\": {\"outlinewidth\": 0, \"ticks\": \"\"}}, \"type\": \"scattergeo\"}], \"scattergl\": [{\"marker\": {\"colorbar\": {\"outlinewidth\": 0, \"ticks\": \"\"}}, \"type\": \"scattergl\"}], \"scattermapbox\": [{\"marker\": {\"colorbar\": {\"outlinewidth\": 0, \"ticks\": \"\"}}, \"type\": \"scattermapbox\"}], \"scatterpolar\": [{\"marker\": {\"colorbar\": {\"outlinewidth\": 0, \"ticks\": \"\"}}, \"type\": \"scatterpolar\"}], \"scatterpolargl\": [{\"marker\": {\"colorbar\": {\"outlinewidth\": 0, \"ticks\": \"\"}}, \"type\": \"scatterpolargl\"}], \"scatterternary\": [{\"marker\": {\"colorbar\": {\"outlinewidth\": 0, \"ticks\": \"\"}}, \"type\": \"scatterternary\"}], \"surface\": [{\"colorbar\": {\"outlinewidth\": 0, \"ticks\": \"\"}, \"colorscale\": [[0.0, \"#0d0887\"], [0.1111111111111111, \"#46039f\"], [0.2222222222222222, \"#7201a8\"], [0.3333333333333333, \"#9c179e\"], [0.4444444444444444, \"#bd3786\"], [0.5555555555555556, \"#d8576b\"], [0.6666666666666666, \"#ed7953\"], [0.7777777777777778, \"#fb9f3a\"], [0.8888888888888888, \"#fdca26\"], [1.0, \"#f0f921\"]], \"type\": \"surface\"}], \"table\": [{\"cells\": {\"fill\": {\"color\": \"#EBF0F8\"}, \"line\": {\"color\": \"white\"}}, \"header\": {\"fill\": {\"color\": \"#C8D4E3\"}, \"line\": {\"color\": \"white\"}}, \"type\": \"table\"}]}, \"layout\": {\"annotationdefaults\": {\"arrowcolor\": \"#2a3f5f\", \"arrowhead\": 0, \"arrowwidth\": 1}, \"coloraxis\": {\"colorbar\": {\"outlinewidth\": 0, \"ticks\": \"\"}}, \"colorscale\": {\"diverging\": [[0, \"#8e0152\"], [0.1, \"#c51b7d\"], [0.2, \"#de77ae\"], [0.3, \"#f1b6da\"], [0.4, \"#fde0ef\"], [0.5, \"#f7f7f7\"], [0.6, \"#e6f5d0\"], [0.7, \"#b8e186\"], [0.8, \"#7fbc41\"], [0.9, \"#4d9221\"], [1, \"#276419\"]], \"sequential\": [[0.0, \"#0d0887\"], [0.1111111111111111, \"#46039f\"], [0.2222222222222222, \"#7201a8\"], [0.3333333333333333, \"#9c179e\"], [0.4444444444444444, \"#bd3786\"], [0.5555555555555556, \"#d8576b\"], [0.6666666666666666, \"#ed7953\"], [0.7777777777777778, \"#fb9f3a\"], [0.8888888888888888, \"#fdca26\"], [1.0, \"#f0f921\"]], \"sequentialminus\": [[0.0, \"#0d0887\"], [0.1111111111111111, \"#46039f\"], [0.2222222222222222, \"#7201a8\"], [0.3333333333333333, \"#9c179e\"], [0.4444444444444444, \"#bd3786\"], [0.5555555555555556, \"#d8576b\"], [0.6666666666666666, \"#ed7953\"], [0.7777777777777778, \"#fb9f3a\"], [0.8888888888888888, \"#fdca26\"], [1.0, \"#f0f921\"]]}, \"colorway\": [\"#636efa\", \"#EF553B\", \"#00cc96\", \"#ab63fa\", \"#FFA15A\", \"#19d3f3\", \"#FF6692\", \"#B6E880\", \"#FF97FF\", \"#FECB52\"], \"font\": {\"color\": \"#2a3f5f\"}, \"geo\": {\"bgcolor\": \"white\", \"lakecolor\": \"white\", \"landcolor\": \"#E5ECF6\", \"showlakes\": true, \"showland\": true, \"subunitcolor\": \"white\"}, \"hoverlabel\": {\"align\": \"left\"}, \"hovermode\": \"closest\", \"mapbox\": {\"style\": \"light\"}, \"paper_bgcolor\": \"white\", \"plot_bgcolor\": \"#E5ECF6\", \"polar\": {\"angularaxis\": {\"gridcolor\": \"white\", \"linecolor\": \"white\", \"ticks\": \"\"}, \"bgcolor\": \"#E5ECF6\", \"radialaxis\": {\"gridcolor\": \"white\", \"linecolor\": \"white\", \"ticks\": \"\"}}, \"scene\": {\"xaxis\": {\"backgroundcolor\": \"#E5ECF6\", \"gridcolor\": \"white\", \"gridwidth\": 2, \"linecolor\": \"white\", \"showbackground\": true, \"ticks\": \"\", \"zerolinecolor\": \"white\"}, \"yaxis\": {\"backgroundcolor\": \"#E5ECF6\", \"gridcolor\": \"white\", \"gridwidth\": 2, \"linecolor\": \"white\", \"showbackground\": true, \"ticks\": \"\", \"zerolinecolor\": \"white\"}, \"zaxis\": {\"backgroundcolor\": \"#E5ECF6\", \"gridcolor\": \"white\", \"gridwidth\": 2, \"linecolor\": \"white\", \"showbackground\": true, \"ticks\": \"\", \"zerolinecolor\": \"white\"}}, \"shapedefaults\": {\"line\": {\"color\": \"#2a3f5f\"}}, \"ternary\": {\"aaxis\": {\"gridcolor\": \"white\", \"linecolor\": \"white\", \"ticks\": \"\"}, \"baxis\": {\"gridcolor\": \"white\", \"linecolor\": \"white\", \"ticks\": \"\"}, \"bgcolor\": \"#E5ECF6\", \"caxis\": {\"gridcolor\": \"white\", \"linecolor\": \"white\", \"ticks\": \"\"}}, \"title\": {\"x\": 0.05}, \"xaxis\": {\"automargin\": true, \"gridcolor\": \"white\", \"linecolor\": \"white\", \"ticks\": \"\", \"title\": {\"standoff\": 15}, \"zerolinecolor\": \"white\", \"zerolinewidth\": 2}, \"yaxis\": {\"automargin\": true, \"gridcolor\": \"white\", \"linecolor\": \"white\", \"ticks\": \"\", \"title\": {\"standoff\": 15}, \"zerolinecolor\": \"white\", \"zerolinewidth\": 2}}}, \"title\": {\"text\": \"Co-funders of NSF publications\"}, \"xaxis\": {\"anchor\": \"y\", \"domain\": [0.0, 1.0], \"title\": {\"text\": \"funding_org_name\"}}, \"yaxis\": {\"anchor\": \"x\", \"domain\": [0.0, 1.0], \"title\": {\"text\": \"id\"}}},                        {\"responsive\": true}                    ).then(function(){\n",
       "                            \n",
       "var gd = document.getElementById('695ee6d4-92d9-4eac-a6c7-86a1f8cda075');\n",
       "var x = new MutationObserver(function (mutations, observer) {{\n",
       "        var display = window.getComputedStyle(gd).display;\n",
       "        if (!display || display === 'none') {{\n",
       "            console.log([gd, 'removed!']);\n",
       "            Plotly.purge(gd);\n",
       "            observer.disconnect();\n",
       "        }}\n",
       "}});\n",
       "\n",
       "// Listen for the removal of the full notebook cells\n",
       "var notebookContainer = gd.closest('#notebook-container');\n",
       "if (notebookContainer) {{\n",
       "    x.observe(notebookContainer, {childList: true});\n",
       "}}\n",
       "\n",
       "// Listen for the clearing of the current output cell\n",
       "var outputEl = gd.closest('.output');\n",
       "if (outputEl) {{\n",
       "    x.observe(outputEl, {childList: true});\n",
       "}}\n",
       "\n",
       "                        })                };                });            </script>        </div>"
      ]
     },
     "metadata": {},
     "output_type": "display_data"
    }
   ],
   "source": [
    "px.bar(new_grants.groupby('funding_org_name', as_index=False).count().sort_values('id', ascending=False),\n",
    "       x=\"funding_org_name\", y=\"id\",\n",
    "       title=f\"Co-funders of NSF publications\")\n"
   ]
  },
  {
   "cell_type": "markdown",
   "metadata": {
    "Collapsed": "false"
   },
   "source": [
    "## 6. The different agencies (NIH/DOE/NSF) that are listed in publications\n"
   ]
  },
  {
   "cell_type": "markdown",
   "metadata": {
    "Collapsed": "false"
   },
   "source": [
    "### Approach \n",
    "\n",
    "1. Get publications 'funders' as GRID identifiers\n",
    "2. Segment funders by agencies (= groups of GRID IDs)\n",
    "\n",
    "NOTE: Dimensions allows to export list of GRID IDs that correspond to agencies, see https://app.dimensions.ai/browse/facet-filter-groups/publication\n"
   ]
  },
  {
   "cell_type": "markdown",
   "metadata": {
    "Collapsed": "false"
   },
   "source": [
    "## 7. How to get Altmetrics data through Dimensions APIs, for a given NSF award or publication\n"
   ]
  },
  {
   "cell_type": "markdown",
   "metadata": {
    "Collapsed": "false"
   },
   "source": [
    "That cannot be done using the Dimensions API only, as it returns one single value (the Altmetric Score) for a publication `altmetric` field. \n",
    "\n",
    "One has to go through the [Altmetric API](http://api.altmetric.com/). \n",
    "\n"
   ]
  },
  {
   "cell_type": "markdown",
   "metadata": {
    "Collapsed": "false"
   },
   "source": [
    "## 8. How to get the number of co-authors on publications, and their details\n",
    "\n",
    "* use the `authors` field and `authors_count` to eliminate single authors queries\n",
    "* use `unnest` to get back one row per author (so easier to analyse the data) \n",
    "\n"
   ]
  },
  {
   "cell_type": "code",
   "execution_count": 19,
   "metadata": {
    "Collapsed": "false"
   },
   "outputs": [
    {
     "name": "stdout",
     "output_type": "stream",
     "text": [
      "Returned objects: 100 (total publications= 104931)\n",
      "\u001b[2mTime: 24.28s\u001b[0m\n"
     ]
    },
    {
     "data": {
      "text/html": [
       "<div>\n",
       "<style scoped>\n",
       "    .dataframe tbody tr th:only-of-type {\n",
       "        vertical-align: middle;\n",
       "    }\n",
       "\n",
       "    .dataframe tbody tr th {\n",
       "        vertical-align: top;\n",
       "    }\n",
       "\n",
       "    .dataframe thead th {\n",
       "        text-align: right;\n",
       "    }\n",
       "</style>\n",
       "<table border=\"1\" class=\"dataframe\">\n",
       "  <thead>\n",
       "    <tr style=\"text-align: right;\">\n",
       "      <th></th>\n",
       "      <th>id</th>\n",
       "      <th>authors.first_name</th>\n",
       "      <th>authors.last_name</th>\n",
       "      <th>authors.corresponding</th>\n",
       "      <th>authors.orcid</th>\n",
       "      <th>authors.affiliations</th>\n",
       "    </tr>\n",
       "  </thead>\n",
       "  <tbody>\n",
       "    <tr>\n",
       "      <th>0</th>\n",
       "      <td>pub.1137656396</td>\n",
       "      <td>Jin</td>\n",
       "      <td>Yan</td>\n",
       "      <td>True</td>\n",
       "      <td></td>\n",
       "      <td>[{'raw_affiliation': 'Department of Civil, Con...</td>\n",
       "    </tr>\n",
       "    <tr>\n",
       "      <th>1</th>\n",
       "      <td>pub.1137656396</td>\n",
       "      <td>Simon</td>\n",
       "      <td>Laflamme</td>\n",
       "      <td></td>\n",
       "      <td></td>\n",
       "      <td>[{'raw_affiliation': 'Department of Electrical...</td>\n",
       "    </tr>\n",
       "    <tr>\n",
       "      <th>2</th>\n",
       "      <td>pub.1137656396</td>\n",
       "      <td>Jonathan</td>\n",
       "      <td>Hong</td>\n",
       "      <td></td>\n",
       "      <td></td>\n",
       "      <td>[{'raw_affiliation': 'Applied Research Associa...</td>\n",
       "    </tr>\n",
       "    <tr>\n",
       "      <th>3</th>\n",
       "      <td>pub.1137656396</td>\n",
       "      <td>Jacob</td>\n",
       "      <td>Dodson</td>\n",
       "      <td></td>\n",
       "      <td></td>\n",
       "      <td>[{'name': 'Air Force Research Laboratory, Muni...</td>\n",
       "    </tr>\n",
       "    <tr>\n",
       "      <th>4</th>\n",
       "      <td>pub.1136335824</td>\n",
       "      <td>Vaibhav</td>\n",
       "      <td>Singh</td>\n",
       "      <td></td>\n",
       "      <td></td>\n",
       "      <td>[{'raw_affiliation': 'Carnegie Mellon Universi...</td>\n",
       "    </tr>\n",
       "    <tr>\n",
       "      <th>...</th>\n",
       "      <td>...</td>\n",
       "      <td>...</td>\n",
       "      <td>...</td>\n",
       "      <td>...</td>\n",
       "      <td>...</td>\n",
       "      <td>...</td>\n",
       "    </tr>\n",
       "    <tr>\n",
       "      <th>95</th>\n",
       "      <td>pub.1136742130</td>\n",
       "      <td>Mujdat</td>\n",
       "      <td>Cetin</td>\n",
       "      <td></td>\n",
       "      <td>['0000-0002-9824-1229']</td>\n",
       "      <td>[{'raw_affiliation': 'Dept. of Electrical and ...</td>\n",
       "    </tr>\n",
       "    <tr>\n",
       "      <th>96</th>\n",
       "      <td>pub.1136474201</td>\n",
       "      <td>Jackson</td>\n",
       "      <td>Abascal</td>\n",
       "      <td></td>\n",
       "      <td></td>\n",
       "      <td>[{'raw_affiliation': 'Computer Science Departm...</td>\n",
       "    </tr>\n",
       "    <tr>\n",
       "      <th>97</th>\n",
       "      <td>pub.1136474201</td>\n",
       "      <td>Lane A.</td>\n",
       "      <td>Hemaspaandra</td>\n",
       "      <td>True</td>\n",
       "      <td>['0000-0003-0659-5204']</td>\n",
       "      <td>[{'raw_affiliation': 'Department of Computer S...</td>\n",
       "    </tr>\n",
       "    <tr>\n",
       "      <th>98</th>\n",
       "      <td>pub.1136474201</td>\n",
       "      <td>Shir</td>\n",
       "      <td>Maimon</td>\n",
       "      <td></td>\n",
       "      <td></td>\n",
       "      <td>[{'raw_affiliation': 'Department of Computer S...</td>\n",
       "    </tr>\n",
       "    <tr>\n",
       "      <th>99</th>\n",
       "      <td>pub.1136474201</td>\n",
       "      <td>Daniel</td>\n",
       "      <td>Rubery</td>\n",
       "      <td></td>\n",
       "      <td></td>\n",
       "      <td>[{'raw_affiliation': 'Google, Inc., 1600 Amphi...</td>\n",
       "    </tr>\n",
       "  </tbody>\n",
       "</table>\n",
       "<p>100 rows × 6 columns</p>\n",
       "</div>"
      ],
      "text/plain": [
       "                id authors.first_name authors.last_name authors.corresponding  \\\n",
       "0   pub.1137656396                Jin               Yan                  True   \n",
       "1   pub.1137656396              Simon          Laflamme                         \n",
       "2   pub.1137656396           Jonathan              Hong                         \n",
       "3   pub.1137656396              Jacob            Dodson                         \n",
       "4   pub.1136335824            Vaibhav             Singh                         \n",
       "..             ...                ...               ...                   ...   \n",
       "95  pub.1136742130             Mujdat             Cetin                         \n",
       "96  pub.1136474201            Jackson           Abascal                         \n",
       "97  pub.1136474201            Lane A.      Hemaspaandra                  True   \n",
       "98  pub.1136474201               Shir            Maimon                         \n",
       "99  pub.1136474201             Daniel            Rubery                         \n",
       "\n",
       "              authors.orcid                               authors.affiliations  \n",
       "0                            [{'raw_affiliation': 'Department of Civil, Con...  \n",
       "1                            [{'raw_affiliation': 'Department of Electrical...  \n",
       "2                            [{'raw_affiliation': 'Applied Research Associa...  \n",
       "3                            [{'name': 'Air Force Research Laboratory, Muni...  \n",
       "4                            [{'raw_affiliation': 'Carnegie Mellon Universi...  \n",
       "..                      ...                                                ...  \n",
       "95  ['0000-0002-9824-1229']  [{'raw_affiliation': 'Dept. of Electrical and ...  \n",
       "96                           [{'raw_affiliation': 'Computer Science Departm...  \n",
       "97  ['0000-0003-0659-5204']  [{'raw_affiliation': 'Department of Computer S...  \n",
       "98                           [{'raw_affiliation': 'Department of Computer S...  \n",
       "99                           [{'raw_affiliation': 'Google, Inc., 1600 Amphi...  \n",
       "\n",
       "[100 rows x 6 columns]"
      ]
     },
     "execution_count": 19,
     "metadata": {},
     "output_type": "execute_result"
    }
   ],
   "source": [
    "%%dsldf \n",
    "\n",
    "search publications \n",
    "    where authors_count > 2 \n",
    "    and funders in [\"grid.457785.c\"]\n",
    "return publications[id+unnest(authors)]"
   ]
  },
  {
   "cell_type": "markdown",
   "metadata": {
    "Collapsed": "false"
   },
   "source": [
    "## 9. The number of patents linked to NSF awards"
   ]
  },
  {
   "cell_type": "markdown",
   "metadata": {
    "Collapsed": "false"
   },
   "source": [
    "Same as point 3 above .. see [Enriching Grants part 3: adding related Patents and Clinical Trials data](https://api-lab.dimensions.ai/cookbooks/3-grants/3-grants-enrichment-adding-patents-cltrials-information.html)"
   ]
  }
 ],
 "metadata": {
  "kernelspec": {
   "display_name": "Python 3",
   "language": "python",
   "name": "python3"
  },
  "language_info": {
   "codemirror_mode": {
    "name": "ipython",
    "version": 3
   },
   "file_extension": ".py",
   "mimetype": "text/x-python",
   "name": "python",
   "nbconvert_exporter": "python",
   "pygments_lexer": "ipython3",
   "version": "3.8.12"
  }
 },
 "nbformat": 4,
 "nbformat_minor": 4
}
