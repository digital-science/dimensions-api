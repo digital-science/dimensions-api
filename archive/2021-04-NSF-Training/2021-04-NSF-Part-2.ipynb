{
 "cells": [
  {
   "cell_type": "markdown",
   "metadata": {
    "Collapsed": "false"
   },
   "source": [
    "# 2021-04 NSF Training part 2\n",
    "\n",
    "Outline \n",
    "\n",
    "\n",
    "\n",
    "Here are the use cases we’ve collected to be considered for part 2 training:\n",
    "\n",
    "1. How to use Dimension APIs to feed data to Tableau?\n",
    "2. Can we input a group of PI identifiers and see how many papers they’ve published together?\n",
    "3. If we start searching for all the grants that have been awarded by saying CISE in the last 10 years, can we get back a table containing a list of publications and patents citing those grants as funding support?  In other words, the final output table should contain 5 columns: Funding Agency, Grant id (Dimensions), Grant number (Agency), Publication id, Patent id?  In theory, this could generate many records with duplicate publication id and/or patent id as there might be multiple publications and patents to each award, but one could also easy roll-up by grant id, and count from the table, on average, the number of publications and patents of a given award.\n",
    "4. If we look at publications (that came out in the last 10 years) citing CSE as one of the funders, and from there query both sets of grant ids, and then see if there are any patenting activities associate with those grants, that’d be equally interesting too. \n",
    " \n",
    "Here is the secondary list nice to go over if time permits:\n",
    "\n",
    "5. For a given list of NSF awards, how to find out if the awardees have awards from other funders outside NSF?\n",
    "6. The different agencies (NIH/DOE/NSF) that are listed in publications\n",
    "7. How to get Altmetrics data through Dimensions APIs, for a given NSF award or publication\n",
    "8. How to get the number of co-authors on publications, and their details\n",
    "9. The number of patents\n",
    "\n",
    "\n"
   ]
  },
  {
   "cell_type": "markdown",
   "metadata": {
    "Collapsed": "false",
    "colab_type": "text",
    "id": "hMaQlB7DG8Vw"
   },
   "source": [
    "## Prerequisites\n",
    "\n",
    "This notebook assumes you have installed the [Dimcli](https://pypi.org/project/dimcli/) library and are fzamiliar with the *Getting Started* tutorial.\n"
   ]
  },
  {
   "cell_type": "code",
   "execution_count": 155,
   "metadata": {
    "Collapsed": "false"
   },
   "outputs": [
    {
     "name": "stdout",
     "output_type": "stream",
     "text": [
      "==\n",
      "Logging in..\n",
      "\u001b[2mDimcli - Dimensions API Client (v0.9)\u001b[0m\n",
      "\u001b[2mConnected to: https://app.dimensions.ai - DSL v1.30\u001b[0m\n",
      "\u001b[2mMethod: dsl.ini file\u001b[0m\n"
     ]
    }
   ],
   "source": [
    "!pip install dimcli --quiet \n",
    "\n",
    "import dimcli\n",
    "from dimcli.utils import *\n",
    "\n",
    "import json\n",
    "import sys\n",
    "import pandas as pd\n",
    "from IPython.display import Image\n",
    "from IPython.core.display import HTML\n",
    "\n",
    "print(\"==\\nLogging in..\")\n",
    "\n",
    "ENDPOINT = \"https://app.dimensions.ai\"\n",
    "\n",
    "if 'google.colab' in sys.modules:\n",
    "  import getpass\n",
    "  KEY = getpass.getpass(prompt='API Key: ')  \n",
    "  dimcli.login(key=KEY, endpoint=ENDPOINT)\n",
    "else:\n",
    "  KEY = \"\"\n",
    "  dimcli.login(key=KEY, endpoint=ENDPOINT)\n",
    "\n",
    "dsl = dimcli.Dsl()"
   ]
  },
  {
   "cell_type": "markdown",
   "metadata": {
    "Collapsed": "false"
   },
   "source": [
    "## 1. How to use Dimension APIs to feed data to Tableau?\n"
   ]
  },
  {
   "cell_type": "markdown",
   "metadata": {
    "Collapsed": "false"
   },
   "source": [
    "## 2. Can we input a group of PI identifiers and see how many papers they’ve published together?\n"
   ]
  },
  {
   "cell_type": "markdown",
   "metadata": {
    "Collapsed": "false"
   },
   "source": [
    "## 3. If we start searching for all the grants that have been awarded \n",
    "\n",
    "..by saying CISE in the last 10 years, can we get back a table containing a list of publications and patents citing those grants as funding support?  In other words, the final output table should contain 5 columns: Funding Agency, Grant id (Dimensions), Grant number (Agency), Publication id, Patent id?  In theory, this could generate many records with duplicate publication id and/or patent id as there might be multiple publications and patents to each award, but one could also easy roll-up by grant id, and count from the table, on average, the number of publications and patents of a given award.\n"
   ]
  },
  {
   "cell_type": "markdown",
   "metadata": {
    "Collapsed": "false"
   },
   "source": [
    "## 4. If we look at publications (that came out in the last 10 years) citing CSE..\n",
    "\n",
    "as one of the funders, and from there query both sets of grant ids, and then see if there are any patenting activities associate with those grants, that’d be equally interesting too. \n"
   ]
  },
  {
   "cell_type": "markdown",
   "metadata": {
    "Collapsed": "false"
   },
   "source": [
    "## 5. For a given list of NSF awards, how to find out if the awardees have awards from other funders outside NSF?\n"
   ]
  },
  {
   "cell_type": "markdown",
   "metadata": {
    "Collapsed": "false"
   },
   "source": [
    "## 6. The different agencies (NIH/DOE/NSF) that are listed in publications\n"
   ]
  },
  {
   "cell_type": "markdown",
   "metadata": {
    "Collapsed": "false"
   },
   "source": [
    "## 7. How to get Altmetrics data through Dimensions APIs, for a given NSF award or publication\n"
   ]
  },
  {
   "cell_type": "markdown",
   "metadata": {
    "Collapsed": "false"
   },
   "source": [
    "## 8. How to get the number of co-authors on publications, and their details\n"
   ]
  },
  {
   "cell_type": "markdown",
   "metadata": {
    "Collapsed": "false"
   },
   "source": [
    "## 9. The number of patents"
   ]
  },
  {
   "cell_type": "code",
   "execution_count": null,
   "metadata": {
    "Collapsed": "false"
   },
   "outputs": [],
   "source": []
  }
 ],
 "metadata": {
  "kernelspec": {
   "display_name": "Python 3",
   "language": "python",
   "name": "python3"
  },
  "language_info": {
   "codemirror_mode": {
    "name": "ipython",
    "version": 3
   },
   "file_extension": ".py",
   "mimetype": "text/x-python",
   "name": "python",
   "nbconvert_exporter": "python",
   "pygments_lexer": "ipython3",
   "version": "3.8.6"
  }
 },
 "nbformat": 4,
 "nbformat_minor": 4
}
