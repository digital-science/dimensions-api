{
 "cells": [
  {
   "cell_type": "markdown",
   "metadata": {
    "Collapsed": "false"
   },
   "source": [
    "# 2021-11-18 NIH Training - analysing grants data using researchers funding history\n",
    "\n",
    "Outline \n",
    "\n",
    "1. We get all NIH Dimensions identifiers \n",
    "2. We explore NIH grants based on chosen set of criteria eg years or keywords, in order to quickly discover trends\n",
    "3. We analyse who else is funding the NIH-funded researchers \n",
    "\n",
    "For more background information, see\n",
    "\n",
    "* The [grants data model](https://docs.dimensions.ai/dsl/datasource-grants.html)\n",
    "* The [researchers data model](https://docs.dimensions.ai/dsl/datasource-researchers.html#)\n",
    "* The [Working with lists in the Dimensions API](https://api-lab.dimensions.ai/cookbooks/1-getting-started/6-Working-with-lists.html) tutorial.\n",
    "\n",
    "\n",
    "  "
   ]
  },
  {
   "cell_type": "markdown",
   "metadata": {
    "Collapsed": "false",
    "colab_type": "text",
    "id": "hMaQlB7DG8Vw"
   },
   "source": [
    "## Prerequisites\n",
    "\n",
    "This notebook assumes you have installed the [Dimcli](https://pypi.org/project/dimcli/) library and are familiar with the [API LAB](https://api-lab.dimensions.ai/) *Getting Started* tutorials.\n"
   ]
  },
  {
   "cell_type": "code",
   "execution_count": 1,
   "metadata": {
    "Collapsed": "false"
   },
   "outputs": [
    {
     "name": "stdout",
     "output_type": "stream",
     "text": [
      "==\n",
      "Logging in..\n",
      "\u001b[2mDimcli - Dimensions API Client (v0.9.3)\u001b[0m\n",
      "\u001b[2mConnected to: <https://app.dimensions.ai/api/dsl/v2> - DSL v2.0\u001b[0m\n",
      "\u001b[2mMethod: dsl.ini file\u001b[0m\n"
     ]
    }
   ],
   "source": [
    "!pip install dimcli --quiet \n",
    "\n",
    "import dimcli\n",
    "from dimcli.utils import *\n",
    "\n",
    "import json\n",
    "import sys\n",
    "import pandas as pd\n",
    "from IPython.display import Image\n",
    "from IPython.core.display import HTML\n",
    "\n",
    "import plotly.express as px\n",
    "\n",
    "print(\"==\\nLogging in..\")\n",
    "\n",
    "ENDPOINT = \"https://app.dimensions.ai\"\n",
    "\n",
    "if 'google.colab' in sys.modules:\n",
    "  import getpass\n",
    "  KEY = getpass.getpass(prompt='API Key: ')  \n",
    "  dimcli.login(key=KEY, endpoint=ENDPOINT)\n",
    "else:\n",
    "  KEY = \"\"\n",
    "  dimcli.login()\n",
    "\n",
    "dsl = dimcli.Dsl()"
   ]
  },
  {
   "cell_type": "markdown",
   "metadata": {
    "Collapsed": "false"
   },
   "source": [
    "## 1. How do I find NIH data using the API ?\n",
    "\n",
    "In Dimensions, all organizations (including funders) get a unique identifier called a GRID ID. \n",
    "\n",
    "The list of NIH directorates GRID identifiers can be easily obtained from [Dimensions](https://app.dimensions.ai/browse/facet-filter-groups/publication/funder_shared_group_facet)."
   ]
  },
  {
   "cell_type": "markdown",
   "metadata": {
    "Collapsed": "false"
   },
   "source": [
    "Let's get the GRID IDs and put them into a Python list.\n",
    "\n",
    "Then we can generate queries programmatically using this list. "
   ]
  },
  {
   "cell_type": "code",
   "execution_count": 3,
   "metadata": {
    "Collapsed": "false"
   },
   "outputs": [],
   "source": [
    "FILE = \"http://api-sample-data.dimensions.ai/data/Dimensions-NIH-grid-organizations.csv\"\n",
    "nihgrids = pd.read_csv(FILE)['ID'].to_list()"
   ]
  },
  {
   "cell_type": "markdown",
   "metadata": {
    "Collapsed": "false"
   },
   "source": [
    "### Example query: how many grants from the NIH? \n",
    "\n",
    "Note the little `json.dumps(nihgrids)` trick to turn a list of Python objects into a string. \n",
    "\n"
   ]
  },
  {
   "cell_type": "code",
   "execution_count": 4,
   "metadata": {
    "Collapsed": "false"
   },
   "outputs": [
    {
     "name": "stdout",
     "output_type": "stream",
     "text": [
      "DSL QUERY:\n",
      "---\n",
      "\n",
      "search grants \n",
      "    where funders.id in [\"grid.410422.1\", \"grid.453876.b\", \"grid.454854.c\", \"grid.420089.7\", \"grid.453035.4\", \"grid.48336.3a\", \"grid.429651.d\", \"grid.280655.c\", \"grid.280030.9\", \"grid.279885.9\", \"grid.280128.1\", \"grid.419681.3\", \"grid.420086.8\", \"grid.280347.a\", \"grid.419633.a\", \"grid.419635.c\", \"grid.280664.e\", \"grid.280785.0\", \"grid.416868.5\", \"grid.416870.c\", \"grid.280738.6\", \"grid.419475.a\", \"grid.420085.b\", \"grid.214431.1\", \"grid.420090.f\", \"grid.281076.a\", \"grid.94365.3d\", \"grid.410305.3\", \"grid.453518.e\", \"grid.436341.7\", \"grid.453125.4\", \"grid.280285.5\"]\n",
      "return grants[id+title] limit 1\n",
      "\n",
      "---\n",
      "Returned Grants: 1 (total = 476048)\n",
      "\u001b[2mTime: 2.49s\u001b[0m\n"
     ]
    }
   ],
   "source": [
    "query = f\"\"\"\n",
    "search grants \n",
    "    where funders.id in {json.dumps(nihgrids)}\n",
    "return grants[id+title] limit 1\n",
    "\"\"\"\n",
    "\n",
    "print(\"DSL QUERY:\\n---\\n\" + query + \"\\n---\")\n",
    "\n",
    "grants = dsl.query(query, verbose=True)"
   ]
  },
  {
   "cell_type": "markdown",
   "metadata": {
    "Collapsed": "false"
   },
   "source": [
    "### Is the data correct? A useful strategy \n",
    "\n",
    "It's always important to verify the data you have extracted. The Dimensions website can be very useful for that. \n",
    "\n",
    "For example, the total number of results above should match [what you see in Dimensions when you search for the NIH 'funder group'](https://app.dimensions.ai/discover/grant?or_facet_funder_shared_group_facet=8dd29b33-9f81-4d6a-afa9-99730d39d9f9) !!"
   ]
  },
  {
   "cell_type": "markdown",
   "metadata": {
    "Collapsed": "false"
   },
   "source": [
    "## 2. Extracting NIH researchers (and related organizations)\n",
    "\n",
    "Now that we have the NIH directorates identifiers, we can use them to pull information about grants and their related researchers. \n",
    "\n",
    "Let's use a concrete use case: we want to analyse NIH-funded researchers in the COVID-19 area in the last couple of years.\n",
    "\n",
    "The following code grabs the top 1000 researchers matching a predefined list of COVID keywords. Researchers are ordered by the tot number of grants they have won. \n"
   ]
  },
  {
   "cell_type": "code",
   "execution_count": 36,
   "metadata": {
    "Collapsed": "false"
   },
   "outputs": [
    {
     "name": "stdout",
     "output_type": "stream",
     "text": [
      "Query\n",
      "---\n",
      "\n",
      "search grants \n",
      "    for \"\"\"\"2019-nCoV\" OR \"COVID-19\" OR \"SARS-CoV-2\" OR \"HCoV-2019\" OR \"hcov\" OR \"NCOVID-19\" OR  \"severe acute respiratory syndrome coronavirus 2\" OR \"severe acute respiratory syndrome corona virus 2\" OR \"coronavirus disease 2019\" OR ((\"coronavirus\"  OR \"corona virus\") AND (Wuhan OR China OR novel))\"\"\"\n",
      "    where funders.id in [\"grid.410422.1\", \"grid.453876.b\", \"grid.454854.c\", \"grid.420089.7\", \"grid.453035.4\", \"grid.48336.3a\", \"grid.429651.d\", \"grid.280655.c\", \"grid.280030.9\", \"grid.279885.9\", \"grid.280128.1\", \"grid.419681.3\", \"grid.420086.8\", \"grid.280347.a\", \"grid.419633.a\", \"grid.419635.c\", \"grid.280664.e\", \"grid.280785.0\", \"grid.416868.5\", \"grid.416870.c\", \"grid.280738.6\", \"grid.419475.a\", \"grid.420085.b\", \"grid.214431.1\", \"grid.420090.f\", \"grid.281076.a\", \"grid.94365.3d\", \"grid.410305.3\", \"grid.453518.e\", \"grid.436341.7\", \"grid.453125.4\", \"grid.280285.5\"]\n",
      "    and active_year >= 2020\n",
      "return researchers[id+first_name+last_name+dimensions_url+current_research_org] limit 1000\n",
      "\n",
      "---\n",
      "Returned Researchers: 1000\n",
      "\u001b[2mTime: 0.76s\u001b[0m\n"
     ]
    },
    {
     "data": {
      "text/html": [
       "<div>\n",
       "<style scoped>\n",
       "    .dataframe tbody tr th:only-of-type {\n",
       "        vertical-align: middle;\n",
       "    }\n",
       "\n",
       "    .dataframe tbody tr th {\n",
       "        vertical-align: top;\n",
       "    }\n",
       "\n",
       "    .dataframe thead th {\n",
       "        text-align: right;\n",
       "    }\n",
       "</style>\n",
       "<table border=\"1\" class=\"dataframe\">\n",
       "  <thead>\n",
       "    <tr style=\"text-align: right;\">\n",
       "      <th></th>\n",
       "      <th>count</th>\n",
       "      <th>current_research_org</th>\n",
       "      <th>dimensions_url</th>\n",
       "      <th>first_name</th>\n",
       "      <th>id</th>\n",
       "      <th>last_name</th>\n",
       "    </tr>\n",
       "  </thead>\n",
       "  <tbody>\n",
       "    <tr>\n",
       "      <th>0</th>\n",
       "      <td>8</td>\n",
       "      <td>grid.10698.36</td>\n",
       "      <td>https://app.dimensions.ai/discover/publication...</td>\n",
       "      <td>Ralph Steven</td>\n",
       "      <td>ur.016314333017.37</td>\n",
       "      <td>Baric</td>\n",
       "    </tr>\n",
       "    <tr>\n",
       "      <th>1</th>\n",
       "      <td>5</td>\n",
       "      <td>grid.250415.7</td>\n",
       "      <td>https://app.dimensions.ai/discover/publication...</td>\n",
       "      <td>Lan-Ying</td>\n",
       "      <td>ur.01062044220.77</td>\n",
       "      <td>Du</td>\n",
       "    </tr>\n",
       "    <tr>\n",
       "      <th>2</th>\n",
       "      <td>5</td>\n",
       "      <td>grid.27873.39</td>\n",
       "      <td>https://app.dimensions.ai/discover/publication...</td>\n",
       "      <td>Thomas L</td>\n",
       "      <td>ur.01253321507.46</td>\n",
       "      <td>Rudge</td>\n",
       "    </tr>\n",
       "    <tr>\n",
       "      <th>3</th>\n",
       "      <td>5</td>\n",
       "      <td>grid.419407.f</td>\n",
       "      <td>https://app.dimensions.ai/discover/publication...</td>\n",
       "      <td>Leonard</td>\n",
       "      <td>ur.015766321623.79</td>\n",
       "      <td>Freedman</td>\n",
       "    </tr>\n",
       "    <tr>\n",
       "      <th>4</th>\n",
       "      <td>5</td>\n",
       "      <td>grid.419407.f</td>\n",
       "      <td>https://app.dimensions.ai/discover/publication...</td>\n",
       "      <td>Beth R</td>\n",
       "      <td>ur.07545772505.38</td>\n",
       "      <td>Baseler</td>\n",
       "    </tr>\n",
       "    <tr>\n",
       "      <th>...</th>\n",
       "      <td>...</td>\n",
       "      <td>...</td>\n",
       "      <td>...</td>\n",
       "      <td>...</td>\n",
       "      <td>...</td>\n",
       "      <td>...</td>\n",
       "    </tr>\n",
       "    <tr>\n",
       "      <th>995</th>\n",
       "      <td>1</td>\n",
       "      <td>NaN</td>\n",
       "      <td>https://app.dimensions.ai/discover/publication...</td>\n",
       "      <td>James P</td>\n",
       "      <td>ur.01333015172.88</td>\n",
       "      <td>Gibbs</td>\n",
       "    </tr>\n",
       "    <tr>\n",
       "      <th>996</th>\n",
       "      <td>1</td>\n",
       "      <td>grid.266539.d</td>\n",
       "      <td>https://app.dimensions.ai/discover/publication...</td>\n",
       "      <td>Tyrone Finley</td>\n",
       "      <td>ur.01333211447.09</td>\n",
       "      <td>Borders</td>\n",
       "    </tr>\n",
       "    <tr>\n",
       "      <th>997</th>\n",
       "      <td>1</td>\n",
       "      <td>grid.185648.6</td>\n",
       "      <td>https://app.dimensions.ai/discover/publication...</td>\n",
       "      <td>Molly A</td>\n",
       "      <td>ur.01333213051.13</td>\n",
       "      <td>Martin</td>\n",
       "    </tr>\n",
       "    <tr>\n",
       "      <th>998</th>\n",
       "      <td>1</td>\n",
       "      <td>grid.34477.33</td>\n",
       "      <td>https://app.dimensions.ai/discover/publication...</td>\n",
       "      <td>William Allen</td>\n",
       "      <td>ur.01333450725.21</td>\n",
       "      <td>Banks</td>\n",
       "    </tr>\n",
       "    <tr>\n",
       "      <th>999</th>\n",
       "      <td>1</td>\n",
       "      <td>NaN</td>\n",
       "      <td>https://app.dimensions.ai/discover/publication...</td>\n",
       "      <td>Sebastian</td>\n",
       "      <td>ur.01333600437.42</td>\n",
       "      <td>Seiguer</td>\n",
       "    </tr>\n",
       "  </tbody>\n",
       "</table>\n",
       "<p>1000 rows × 6 columns</p>\n",
       "</div>"
      ],
      "text/plain": [
       "     count current_research_org  \\\n",
       "0        8        grid.10698.36   \n",
       "1        5        grid.250415.7   \n",
       "2        5        grid.27873.39   \n",
       "3        5        grid.419407.f   \n",
       "4        5        grid.419407.f   \n",
       "..     ...                  ...   \n",
       "995      1                  NaN   \n",
       "996      1        grid.266539.d   \n",
       "997      1        grid.185648.6   \n",
       "998      1        grid.34477.33   \n",
       "999      1                  NaN   \n",
       "\n",
       "                                        dimensions_url     first_name  \\\n",
       "0    https://app.dimensions.ai/discover/publication...   Ralph Steven   \n",
       "1    https://app.dimensions.ai/discover/publication...       Lan-Ying   \n",
       "2    https://app.dimensions.ai/discover/publication...       Thomas L   \n",
       "3    https://app.dimensions.ai/discover/publication...        Leonard   \n",
       "4    https://app.dimensions.ai/discover/publication...         Beth R   \n",
       "..                                                 ...            ...   \n",
       "995  https://app.dimensions.ai/discover/publication...        James P   \n",
       "996  https://app.dimensions.ai/discover/publication...  Tyrone Finley   \n",
       "997  https://app.dimensions.ai/discover/publication...        Molly A   \n",
       "998  https://app.dimensions.ai/discover/publication...  William Allen   \n",
       "999  https://app.dimensions.ai/discover/publication...      Sebastian   \n",
       "\n",
       "                     id last_name  \n",
       "0    ur.016314333017.37     Baric  \n",
       "1     ur.01062044220.77        Du  \n",
       "2     ur.01253321507.46     Rudge  \n",
       "3    ur.015766321623.79  Freedman  \n",
       "4     ur.07545772505.38   Baseler  \n",
       "..                  ...       ...  \n",
       "995   ur.01333015172.88     Gibbs  \n",
       "996   ur.01333211447.09   Borders  \n",
       "997   ur.01333213051.13    Martin  \n",
       "998   ur.01333450725.21     Banks  \n",
       "999   ur.01333600437.42   Seiguer  \n",
       "\n",
       "[1000 rows x 6 columns]"
      ]
     },
     "execution_count": 36,
     "metadata": {},
     "output_type": "execute_result"
    }
   ],
   "source": [
    "COVID_Q = '\"2019-nCoV\" OR \"COVID-19\" OR \"SARS-CoV-2\" OR \"HCoV-2019\" OR \"hcov\" OR \"NCOVID-19\" OR  \"severe acute respiratory syndrome coronavirus 2\" OR \"severe acute respiratory syndrome corona virus 2\" OR \"coronavirus disease 2019\" OR ((\"coronavirus\"  OR \"corona virus\") AND (Wuhan OR China OR novel))'\n",
    "\n",
    "\n",
    "query = f'''\n",
    "search grants \n",
    "    for \"\"\"{COVID_Q}\"\"\"\n",
    "    where funders.id in {json.dumps(nihgrids)}\n",
    "    and active_year >= 2020\n",
    "return researchers[id+first_name+last_name+dimensions_url+current_research_org] limit 1000\n",
    "'''\n",
    "\n",
    "print(f\"Query\\n---\\n{query}\\n---\")\n",
    "\n",
    "researchers = dsl.query(query).as_dataframe()\n",
    "researchers"
   ]
  },
  {
   "cell_type": "markdown",
   "metadata": {
    "Collapsed": "false"
   },
   "source": [
    "### Now that we have the query, we can experiment with other facets..\n",
    "\n",
    "**Top organizations**\n",
    "\n",
    "Change the final query bit to `return research_orgs`"
   ]
  },
  {
   "cell_type": "code",
   "execution_count": 17,
   "metadata": {
    "Collapsed": "false"
   },
   "outputs": [
    {
     "name": "stdout",
     "output_type": "stream",
     "text": [
      "Returned Research_orgs: 336\n",
      "\u001b[2mTime: 0.81s\u001b[0m\n"
     ]
    },
    {
     "data": {
      "text/html": [
       "<div>\n",
       "<style scoped>\n",
       "    .dataframe tbody tr th:only-of-type {\n",
       "        vertical-align: middle;\n",
       "    }\n",
       "\n",
       "    .dataframe tbody tr th {\n",
       "        vertical-align: top;\n",
       "    }\n",
       "\n",
       "    .dataframe thead th {\n",
       "        text-align: right;\n",
       "    }\n",
       "</style>\n",
       "<table border=\"1\" class=\"dataframe\">\n",
       "  <thead>\n",
       "    <tr style=\"text-align: right;\">\n",
       "      <th></th>\n",
       "      <th>acronym</th>\n",
       "      <th>city_name</th>\n",
       "      <th>count</th>\n",
       "      <th>country_name</th>\n",
       "      <th>id</th>\n",
       "      <th>latitude</th>\n",
       "      <th>linkout</th>\n",
       "      <th>longitude</th>\n",
       "      <th>name</th>\n",
       "      <th>state_name</th>\n",
       "      <th>types</th>\n",
       "    </tr>\n",
       "  </thead>\n",
       "  <tbody>\n",
       "    <tr>\n",
       "      <th>0</th>\n",
       "      <td>JHU</td>\n",
       "      <td>Baltimore</td>\n",
       "      <td>29</td>\n",
       "      <td>United States</td>\n",
       "      <td>grid.21107.35</td>\n",
       "      <td>39.328888</td>\n",
       "      <td>[https://www.jhu.edu/]</td>\n",
       "      <td>-76.620280</td>\n",
       "      <td>Johns Hopkins University</td>\n",
       "      <td>Maryland</td>\n",
       "      <td>[Education]</td>\n",
       "    </tr>\n",
       "    <tr>\n",
       "      <th>1</th>\n",
       "      <td>NaN</td>\n",
       "      <td>New York</td>\n",
       "      <td>23</td>\n",
       "      <td>United States</td>\n",
       "      <td>grid.413734.6</td>\n",
       "      <td>40.842750</td>\n",
       "      <td>[http://nyp.org/]</td>\n",
       "      <td>-73.943750</td>\n",
       "      <td>NewYork–Presbyterian Hospital</td>\n",
       "      <td>New York</td>\n",
       "      <td>[Healthcare]</td>\n",
       "    </tr>\n",
       "    <tr>\n",
       "      <th>2</th>\n",
       "      <td>NaN</td>\n",
       "      <td>Durham</td>\n",
       "      <td>21</td>\n",
       "      <td>United States</td>\n",
       "      <td>grid.26009.3d</td>\n",
       "      <td>36.003147</td>\n",
       "      <td>[http://www.duke.edu/]</td>\n",
       "      <td>-78.926895</td>\n",
       "      <td>Duke University</td>\n",
       "      <td>North Carolina</td>\n",
       "      <td>[Education]</td>\n",
       "    </tr>\n",
       "    <tr>\n",
       "      <th>3</th>\n",
       "      <td>UCLA</td>\n",
       "      <td>Los Angeles</td>\n",
       "      <td>19</td>\n",
       "      <td>United States</td>\n",
       "      <td>grid.19006.3e</td>\n",
       "      <td>34.072224</td>\n",
       "      <td>[http://www.ucla.edu/]</td>\n",
       "      <td>-118.444100</td>\n",
       "      <td>University of California, Los Angeles</td>\n",
       "      <td>California</td>\n",
       "      <td>[Education]</td>\n",
       "    </tr>\n",
       "    <tr>\n",
       "      <th>4</th>\n",
       "      <td>UNC</td>\n",
       "      <td>Chapel Hill</td>\n",
       "      <td>18</td>\n",
       "      <td>United States</td>\n",
       "      <td>grid.10698.36</td>\n",
       "      <td>35.905163</td>\n",
       "      <td>[http://www.unc.edu/]</td>\n",
       "      <td>-79.046940</td>\n",
       "      <td>University of North Carolina at Chapel Hill</td>\n",
       "      <td>North Carolina</td>\n",
       "      <td>[Education]</td>\n",
       "    </tr>\n",
       "    <tr>\n",
       "      <th>...</th>\n",
       "      <td>...</td>\n",
       "      <td>...</td>\n",
       "      <td>...</td>\n",
       "      <td>...</td>\n",
       "      <td>...</td>\n",
       "      <td>...</td>\n",
       "      <td>...</td>\n",
       "      <td>...</td>\n",
       "      <td>...</td>\n",
       "      <td>...</td>\n",
       "      <td>...</td>\n",
       "    </tr>\n",
       "    <tr>\n",
       "      <th>331</th>\n",
       "      <td>OSU</td>\n",
       "      <td>Stillwater</td>\n",
       "      <td>1</td>\n",
       "      <td>United States</td>\n",
       "      <td>grid.65519.3e</td>\n",
       "      <td>36.132220</td>\n",
       "      <td>[http://go.okstate.edu/]</td>\n",
       "      <td>-97.080830</td>\n",
       "      <td>Oklahoma State University</td>\n",
       "      <td>Oklahoma</td>\n",
       "      <td>[Education]</td>\n",
       "    </tr>\n",
       "    <tr>\n",
       "      <th>332</th>\n",
       "      <td>UCT</td>\n",
       "      <td>Rondebosch</td>\n",
       "      <td>1</td>\n",
       "      <td>South Africa</td>\n",
       "      <td>grid.7836.a</td>\n",
       "      <td>-33.957500</td>\n",
       "      <td>[http://www.uct.ac.za/]</td>\n",
       "      <td>18.460556</td>\n",
       "      <td>University of Cape Town</td>\n",
       "      <td>NaN</td>\n",
       "      <td>[Education]</td>\n",
       "    </tr>\n",
       "    <tr>\n",
       "      <th>333</th>\n",
       "      <td>IAS</td>\n",
       "      <td>Princeton</td>\n",
       "      <td>1</td>\n",
       "      <td>United States</td>\n",
       "      <td>grid.78989.37</td>\n",
       "      <td>40.331670</td>\n",
       "      <td>[https://www.ias.edu/]</td>\n",
       "      <td>-74.667780</td>\n",
       "      <td>Institute for Advanced Study</td>\n",
       "      <td>New Jersey</td>\n",
       "      <td>[Facility]</td>\n",
       "    </tr>\n",
       "    <tr>\n",
       "      <th>334</th>\n",
       "      <td>MSM</td>\n",
       "      <td>Atlanta</td>\n",
       "      <td>1</td>\n",
       "      <td>United States</td>\n",
       "      <td>grid.9001.8</td>\n",
       "      <td>33.743000</td>\n",
       "      <td>[http://www.msm.edu/]</td>\n",
       "      <td>-84.412000</td>\n",
       "      <td>Morehouse School of Medicine</td>\n",
       "      <td>Georgia</td>\n",
       "      <td>[Education]</td>\n",
       "    </tr>\n",
       "    <tr>\n",
       "      <th>335</th>\n",
       "      <td>SRI</td>\n",
       "      <td>Menlo Park</td>\n",
       "      <td>1</td>\n",
       "      <td>United States</td>\n",
       "      <td>grid.98913.3a</td>\n",
       "      <td>37.456600</td>\n",
       "      <td>[http://www.sri.com/]</td>\n",
       "      <td>-122.175310</td>\n",
       "      <td>SRI International</td>\n",
       "      <td>California</td>\n",
       "      <td>[Nonprofit]</td>\n",
       "    </tr>\n",
       "  </tbody>\n",
       "</table>\n",
       "<p>336 rows × 11 columns</p>\n",
       "</div>"
      ],
      "text/plain": [
       "    acronym    city_name  count   country_name             id   latitude  \\\n",
       "0       JHU    Baltimore     29  United States  grid.21107.35  39.328888   \n",
       "1       NaN     New York     23  United States  grid.413734.6  40.842750   \n",
       "2       NaN       Durham     21  United States  grid.26009.3d  36.003147   \n",
       "3      UCLA  Los Angeles     19  United States  grid.19006.3e  34.072224   \n",
       "4       UNC  Chapel Hill     18  United States  grid.10698.36  35.905163   \n",
       "..      ...          ...    ...            ...            ...        ...   \n",
       "331     OSU   Stillwater      1  United States  grid.65519.3e  36.132220   \n",
       "332     UCT   Rondebosch      1   South Africa    grid.7836.a -33.957500   \n",
       "333     IAS    Princeton      1  United States  grid.78989.37  40.331670   \n",
       "334     MSM      Atlanta      1  United States    grid.9001.8  33.743000   \n",
       "335     SRI   Menlo Park      1  United States  grid.98913.3a  37.456600   \n",
       "\n",
       "                      linkout   longitude  \\\n",
       "0      [https://www.jhu.edu/]  -76.620280   \n",
       "1           [http://nyp.org/]  -73.943750   \n",
       "2      [http://www.duke.edu/]  -78.926895   \n",
       "3      [http://www.ucla.edu/] -118.444100   \n",
       "4       [http://www.unc.edu/]  -79.046940   \n",
       "..                        ...         ...   \n",
       "331  [http://go.okstate.edu/]  -97.080830   \n",
       "332   [http://www.uct.ac.za/]   18.460556   \n",
       "333    [https://www.ias.edu/]  -74.667780   \n",
       "334     [http://www.msm.edu/]  -84.412000   \n",
       "335     [http://www.sri.com/] -122.175310   \n",
       "\n",
       "                                            name      state_name         types  \n",
       "0                       Johns Hopkins University        Maryland   [Education]  \n",
       "1                  NewYork–Presbyterian Hospital        New York  [Healthcare]  \n",
       "2                                Duke University  North Carolina   [Education]  \n",
       "3          University of California, Los Angeles      California   [Education]  \n",
       "4    University of North Carolina at Chapel Hill  North Carolina   [Education]  \n",
       "..                                           ...             ...           ...  \n",
       "331                    Oklahoma State University        Oklahoma   [Education]  \n",
       "332                      University of Cape Town             NaN   [Education]  \n",
       "333                 Institute for Advanced Study      New Jersey    [Facility]  \n",
       "334                 Morehouse School of Medicine         Georgia   [Education]  \n",
       "335                            SRI International      California   [Nonprofit]  \n",
       "\n",
       "[336 rows x 11 columns]"
      ]
     },
     "execution_count": 17,
     "metadata": {},
     "output_type": "execute_result"
    }
   ],
   "source": [
    "%%dsldf \n",
    "\n",
    "search grants \n",
    "    for \"\\\"2019-nCoV\\\" OR \\\"COVID-19\\\" OR \\\"SARS-CoV-2\\\" OR \\\"HCoV-2019\\\" OR \\\"hcov\\\" OR \\\"NCOVID-19\\\" OR  \\\"severe acute respiratory syndrome coronavirus 2\\\" OR \\\"severe acute respiratory syndrome corona virus 2\\\" OR \\\"coronavirus disease 2019\\\" OR ((\\\"coronavirus\\\"  OR \\\"corona virus\\\") AND (Wuhan OR China OR novel))\"\n",
    "    where funders.id in [\"grid.410422.1\", \"grid.453876.b\", \"grid.454854.c\", \"grid.420089.7\", \"grid.453035.4\", \"grid.48336.3a\", \"grid.429651.d\", \"grid.280655.c\", \"grid.280030.9\", \"grid.279885.9\", \"grid.280128.1\", \"grid.419681.3\", \"grid.420086.8\", \"grid.280347.a\", \"grid.419633.a\", \"grid.419635.c\", \"grid.280664.e\", \"grid.280785.0\", \"grid.416868.5\", \"grid.416870.c\", \"grid.280738.6\", \"grid.419475.a\", \"grid.420085.b\", \"grid.214431.1\", \"grid.420090.f\", \"grid.281076.a\", \"grid.94365.3d\", \"grid.410305.3\", \"grid.453518.e\", \"grid.436341.7\", \"grid.453125.4\", \"grid.280285.5\"]\n",
    "    and active_year >= 2020\n",
    "return research_orgs limit 1000"
   ]
  },
  {
   "cell_type": "markdown",
   "metadata": {
    "Collapsed": "false"
   },
   "source": [
    "**Top Countries**\n",
    "\n",
    "Change the last query bit to `return research_org_countries`"
   ]
  },
  {
   "cell_type": "code",
   "execution_count": 19,
   "metadata": {
    "Collapsed": "false"
   },
   "outputs": [
    {
     "name": "stdout",
     "output_type": "stream",
     "text": [
      "Returned Research_org_countries: 9\n",
      "\u001b[2mTime: 0.80s\u001b[0m\n"
     ]
    },
    {
     "data": {
      "text/html": [
       "<div>\n",
       "<style scoped>\n",
       "    .dataframe tbody tr th:only-of-type {\n",
       "        vertical-align: middle;\n",
       "    }\n",
       "\n",
       "    .dataframe tbody tr th {\n",
       "        vertical-align: top;\n",
       "    }\n",
       "\n",
       "    .dataframe thead th {\n",
       "        text-align: right;\n",
       "    }\n",
       "</style>\n",
       "<table border=\"1\" class=\"dataframe\">\n",
       "  <thead>\n",
       "    <tr style=\"text-align: right;\">\n",
       "      <th></th>\n",
       "      <th>count</th>\n",
       "      <th>id</th>\n",
       "      <th>name</th>\n",
       "    </tr>\n",
       "  </thead>\n",
       "  <tbody>\n",
       "    <tr>\n",
       "      <th>0</th>\n",
       "      <td>1135</td>\n",
       "      <td>US</td>\n",
       "      <td>United States</td>\n",
       "    </tr>\n",
       "    <tr>\n",
       "      <th>1</th>\n",
       "      <td>3</td>\n",
       "      <td>CA</td>\n",
       "      <td>Canada</td>\n",
       "    </tr>\n",
       "    <tr>\n",
       "      <th>2</th>\n",
       "      <td>1</td>\n",
       "      <td>CH</td>\n",
       "      <td>Switzerland</td>\n",
       "    </tr>\n",
       "    <tr>\n",
       "      <th>3</th>\n",
       "      <td>1</td>\n",
       "      <td>MG</td>\n",
       "      <td>Madagascar</td>\n",
       "    </tr>\n",
       "    <tr>\n",
       "      <th>4</th>\n",
       "      <td>1</td>\n",
       "      <td>MY</td>\n",
       "      <td>Malaysia</td>\n",
       "    </tr>\n",
       "    <tr>\n",
       "      <th>5</th>\n",
       "      <td>1</td>\n",
       "      <td>NG</td>\n",
       "      <td>Nigeria</td>\n",
       "    </tr>\n",
       "    <tr>\n",
       "      <th>6</th>\n",
       "      <td>1</td>\n",
       "      <td>PE</td>\n",
       "      <td>Peru</td>\n",
       "    </tr>\n",
       "    <tr>\n",
       "      <th>7</th>\n",
       "      <td>1</td>\n",
       "      <td>ZA</td>\n",
       "      <td>South Africa</td>\n",
       "    </tr>\n",
       "    <tr>\n",
       "      <th>8</th>\n",
       "      <td>1</td>\n",
       "      <td>ZM</td>\n",
       "      <td>Zambia</td>\n",
       "    </tr>\n",
       "  </tbody>\n",
       "</table>\n",
       "</div>"
      ],
      "text/plain": [
       "   count  id           name\n",
       "0   1135  US  United States\n",
       "1      3  CA         Canada\n",
       "2      1  CH    Switzerland\n",
       "3      1  MG     Madagascar\n",
       "4      1  MY       Malaysia\n",
       "5      1  NG        Nigeria\n",
       "6      1  PE           Peru\n",
       "7      1  ZA   South Africa\n",
       "8      1  ZM         Zambia"
      ]
     },
     "execution_count": 19,
     "metadata": {},
     "output_type": "execute_result"
    }
   ],
   "source": [
    "%%dsldf\n",
    "\n",
    "search grants \n",
    "    for \"\\\"2019-nCoV\\\" OR \\\"COVID-19\\\" OR \\\"SARS-CoV-2\\\" OR \\\"HCoV-2019\\\" OR \\\"hcov\\\" OR \\\"NCOVID-19\\\" OR  \\\"severe acute respiratory syndrome coronavirus 2\\\" OR \\\"severe acute respiratory syndrome corona virus 2\\\" OR \\\"coronavirus disease 2019\\\" OR ((\\\"coronavirus\\\"  OR \\\"corona virus\\\") AND (Wuhan OR China OR novel))\"\n",
    "    where funders.id in [\"grid.410422.1\", \"grid.453876.b\", \"grid.454854.c\", \"grid.420089.7\", \"grid.453035.4\", \"grid.48336.3a\", \"grid.429651.d\", \"grid.280655.c\", \"grid.280030.9\", \"grid.279885.9\", \"grid.280128.1\", \"grid.419681.3\", \"grid.420086.8\", \"grid.280347.a\", \"grid.419633.a\", \"grid.419635.c\", \"grid.280664.e\", \"grid.280785.0\", \"grid.416868.5\", \"grid.416870.c\", \"grid.280738.6\", \"grid.419475.a\", \"grid.420085.b\", \"grid.214431.1\", \"grid.420090.f\", \"grid.281076.a\", \"grid.94365.3d\", \"grid.410305.3\", \"grid.453518.e\", \"grid.436341.7\", \"grid.453125.4\", \"grid.280285.5\"]\n",
    "    and active_year >= 2020\n",
    "return research_org_countries limit 1000"
   ]
  },
  {
   "cell_type": "markdown",
   "metadata": {
    "Collapsed": "false"
   },
   "source": [
    "**Who is getting funded outside the US?**\n",
    "\n",
    "Use the filter `research_org_countries.name != \"United States\"`"
   ]
  },
  {
   "cell_type": "code",
   "execution_count": 22,
   "metadata": {
    "Collapsed": "false"
   },
   "outputs": [
    {
     "name": "stdout",
     "output_type": "stream",
     "text": [
      "Returned Research_orgs: 9\n",
      "\u001b[2mTime: 0.87s\u001b[0m\n"
     ]
    },
    {
     "data": {
      "text/html": [
       "<div>\n",
       "<style scoped>\n",
       "    .dataframe tbody tr th:only-of-type {\n",
       "        vertical-align: middle;\n",
       "    }\n",
       "\n",
       "    .dataframe tbody tr th {\n",
       "        vertical-align: top;\n",
       "    }\n",
       "\n",
       "    .dataframe thead th {\n",
       "        text-align: right;\n",
       "    }\n",
       "</style>\n",
       "<table border=\"1\" class=\"dataframe\">\n",
       "  <thead>\n",
       "    <tr style=\"text-align: right;\">\n",
       "      <th></th>\n",
       "      <th>acronym</th>\n",
       "      <th>city_name</th>\n",
       "      <th>count</th>\n",
       "      <th>country_name</th>\n",
       "      <th>id</th>\n",
       "      <th>latitude</th>\n",
       "      <th>linkout</th>\n",
       "      <th>longitude</th>\n",
       "      <th>name</th>\n",
       "      <th>types</th>\n",
       "      <th>state_name</th>\n",
       "    </tr>\n",
       "  </thead>\n",
       "  <tbody>\n",
       "    <tr>\n",
       "      <th>0</th>\n",
       "      <td>UPCH</td>\n",
       "      <td>Lima</td>\n",
       "      <td>1</td>\n",
       "      <td>Peru</td>\n",
       "      <td>grid.11100.31</td>\n",
       "      <td>-12.023458</td>\n",
       "      <td>[http://www.upch.edu.pe/portal/]</td>\n",
       "      <td>-77.056790</td>\n",
       "      <td>Cayetano Heredia University</td>\n",
       "      <td>[Education]</td>\n",
       "      <td>NaN</td>\n",
       "    </tr>\n",
       "    <tr>\n",
       "      <th>1</th>\n",
       "      <td>NaN</td>\n",
       "      <td>Toronto</td>\n",
       "      <td>1</td>\n",
       "      <td>Canada</td>\n",
       "      <td>grid.17063.33</td>\n",
       "      <td>43.661667</td>\n",
       "      <td>[http://www.utoronto.ca/]</td>\n",
       "      <td>-79.395000</td>\n",
       "      <td>University of Toronto</td>\n",
       "      <td>[Education]</td>\n",
       "      <td>Ontario</td>\n",
       "    </tr>\n",
       "    <tr>\n",
       "      <th>2</th>\n",
       "      <td>UBC</td>\n",
       "      <td>Vancouver</td>\n",
       "      <td>1</td>\n",
       "      <td>Canada</td>\n",
       "      <td>grid.17091.3e</td>\n",
       "      <td>49.260674</td>\n",
       "      <td>[https://www.ubc.ca/]</td>\n",
       "      <td>-123.246080</td>\n",
       "      <td>University of British Columbia</td>\n",
       "      <td>[Education]</td>\n",
       "      <td>British Columbia</td>\n",
       "    </tr>\n",
       "    <tr>\n",
       "      <th>3</th>\n",
       "      <td>CIDRZ</td>\n",
       "      <td>Lusaka</td>\n",
       "      <td>1</td>\n",
       "      <td>Zambia</td>\n",
       "      <td>grid.418015.9</td>\n",
       "      <td>-15.393451</td>\n",
       "      <td>[http://www.cidrz.org/]</td>\n",
       "      <td>28.321096</td>\n",
       "      <td>Centre for Infectious Disease Research in Zambia</td>\n",
       "      <td>[Nonprofit]</td>\n",
       "      <td>NaN</td>\n",
       "    </tr>\n",
       "    <tr>\n",
       "      <th>4</th>\n",
       "      <td>IMP</td>\n",
       "      <td>Antananarivo</td>\n",
       "      <td>1</td>\n",
       "      <td>Madagascar</td>\n",
       "      <td>grid.418511.8</td>\n",
       "      <td>-18.902609</td>\n",
       "      <td>[http://www.pasteur.mg/]</td>\n",
       "      <td>47.546270</td>\n",
       "      <td>Institut Pasteur de Madagascar</td>\n",
       "      <td>[Nonprofit]</td>\n",
       "      <td>NaN</td>\n",
       "    </tr>\n",
       "    <tr>\n",
       "      <th>5</th>\n",
       "      <td>IHVN</td>\n",
       "      <td>Abuja</td>\n",
       "      <td>1</td>\n",
       "      <td>Nigeria</td>\n",
       "      <td>grid.421160.0</td>\n",
       "      <td>9.053575</td>\n",
       "      <td>[http://ihvnigeria.org/ihvnweb/webnew/]</td>\n",
       "      <td>7.485247</td>\n",
       "      <td>Institute of Human Virology</td>\n",
       "      <td>[Government]</td>\n",
       "      <td>NaN</td>\n",
       "    </tr>\n",
       "    <tr>\n",
       "      <th>6</th>\n",
       "      <td>UB</td>\n",
       "      <td>Bern</td>\n",
       "      <td>1</td>\n",
       "      <td>Switzerland</td>\n",
       "      <td>grid.5734.5</td>\n",
       "      <td>46.950520</td>\n",
       "      <td>[http://www.unibe.ch/eng/]</td>\n",
       "      <td>7.438109</td>\n",
       "      <td>University of Bern</td>\n",
       "      <td>[Education]</td>\n",
       "      <td>NaN</td>\n",
       "    </tr>\n",
       "    <tr>\n",
       "      <th>7</th>\n",
       "      <td>SFU</td>\n",
       "      <td>Burnaby</td>\n",
       "      <td>1</td>\n",
       "      <td>Canada</td>\n",
       "      <td>grid.61971.38</td>\n",
       "      <td>49.278282</td>\n",
       "      <td>[http://www.sfu.ca/]</td>\n",
       "      <td>-122.919910</td>\n",
       "      <td>Simon Fraser University</td>\n",
       "      <td>[Education]</td>\n",
       "      <td>British Columbia</td>\n",
       "    </tr>\n",
       "    <tr>\n",
       "      <th>8</th>\n",
       "      <td>UCT</td>\n",
       "      <td>Rondebosch</td>\n",
       "      <td>1</td>\n",
       "      <td>South Africa</td>\n",
       "      <td>grid.7836.a</td>\n",
       "      <td>-33.957500</td>\n",
       "      <td>[http://www.uct.ac.za/]</td>\n",
       "      <td>18.460556</td>\n",
       "      <td>University of Cape Town</td>\n",
       "      <td>[Education]</td>\n",
       "      <td>NaN</td>\n",
       "    </tr>\n",
       "  </tbody>\n",
       "</table>\n",
       "</div>"
      ],
      "text/plain": [
       "  acronym     city_name  count  country_name             id   latitude  \\\n",
       "0    UPCH          Lima      1          Peru  grid.11100.31 -12.023458   \n",
       "1     NaN       Toronto      1        Canada  grid.17063.33  43.661667   \n",
       "2     UBC     Vancouver      1        Canada  grid.17091.3e  49.260674   \n",
       "3   CIDRZ        Lusaka      1        Zambia  grid.418015.9 -15.393451   \n",
       "4     IMP  Antananarivo      1    Madagascar  grid.418511.8 -18.902609   \n",
       "5    IHVN         Abuja      1       Nigeria  grid.421160.0   9.053575   \n",
       "6      UB          Bern      1   Switzerland    grid.5734.5  46.950520   \n",
       "7     SFU       Burnaby      1        Canada  grid.61971.38  49.278282   \n",
       "8     UCT    Rondebosch      1  South Africa    grid.7836.a -33.957500   \n",
       "\n",
       "                                   linkout   longitude  \\\n",
       "0         [http://www.upch.edu.pe/portal/]  -77.056790   \n",
       "1                [http://www.utoronto.ca/]  -79.395000   \n",
       "2                    [https://www.ubc.ca/] -123.246080   \n",
       "3                  [http://www.cidrz.org/]   28.321096   \n",
       "4                 [http://www.pasteur.mg/]   47.546270   \n",
       "5  [http://ihvnigeria.org/ihvnweb/webnew/]    7.485247   \n",
       "6               [http://www.unibe.ch/eng/]    7.438109   \n",
       "7                     [http://www.sfu.ca/] -122.919910   \n",
       "8                  [http://www.uct.ac.za/]   18.460556   \n",
       "\n",
       "                                               name         types  \\\n",
       "0                       Cayetano Heredia University   [Education]   \n",
       "1                             University of Toronto   [Education]   \n",
       "2                    University of British Columbia   [Education]   \n",
       "3  Centre for Infectious Disease Research in Zambia   [Nonprofit]   \n",
       "4                    Institut Pasteur de Madagascar   [Nonprofit]   \n",
       "5                       Institute of Human Virology  [Government]   \n",
       "6                                University of Bern   [Education]   \n",
       "7                           Simon Fraser University   [Education]   \n",
       "8                           University of Cape Town   [Education]   \n",
       "\n",
       "         state_name  \n",
       "0               NaN  \n",
       "1           Ontario  \n",
       "2  British Columbia  \n",
       "3               NaN  \n",
       "4               NaN  \n",
       "5               NaN  \n",
       "6               NaN  \n",
       "7  British Columbia  \n",
       "8               NaN  "
      ]
     },
     "execution_count": 22,
     "metadata": {},
     "output_type": "execute_result"
    }
   ],
   "source": [
    "%%dsldf \n",
    "\n",
    "search grants \n",
    "    for \"\\\"2019-nCoV\\\" OR \\\"COVID-19\\\" OR \\\"SARS-CoV-2\\\" OR \\\"HCoV-2019\\\" OR \\\"hcov\\\" OR \\\"NCOVID-19\\\" OR  \\\"severe acute respiratory syndrome coronavirus 2\\\" OR \\\"severe acute respiratory syndrome corona virus 2\\\" OR \\\"coronavirus disease 2019\\\" OR ((\\\"coronavirus\\\"  OR \\\"corona virus\\\") AND (Wuhan OR China OR novel))\"\n",
    "    where funders.id in [\"grid.410422.1\", \"grid.453876.b\", \"grid.454854.c\", \"grid.420089.7\", \"grid.453035.4\", \"grid.48336.3a\", \"grid.429651.d\", \"grid.280655.c\", \"grid.280030.9\", \"grid.279885.9\", \"grid.280128.1\", \"grid.419681.3\", \"grid.420086.8\", \"grid.280347.a\", \"grid.419633.a\", \"grid.419635.c\", \"grid.280664.e\", \"grid.280785.0\", \"grid.416868.5\", \"grid.416870.c\", \"grid.280738.6\", \"grid.419475.a\", \"grid.420085.b\", \"grid.214431.1\", \"grid.420090.f\", \"grid.281076.a\", \"grid.94365.3d\", \"grid.410305.3\", \"grid.453518.e\", \"grid.436341.7\", \"grid.453125.4\", \"grid.280285.5\"]\n",
    "    and active_year >= 2020\n",
    "    and research_org_countries.name != \"United States\"\n",
    "return research_orgs limit 1000\n",
    "\n",
    "\n"
   ]
  },
  {
   "cell_type": "markdown",
   "metadata": {
    "Collapsed": "false"
   },
   "source": [
    "**How do I see the specific grants information?**\n",
    "\n",
    "Eg if I want to follow up on those non-US grants"
   ]
  },
  {
   "cell_type": "code",
   "execution_count": 55,
   "metadata": {
    "Collapsed": "false"
   },
   "outputs": [
    {
     "name": "stdout",
     "output_type": "stream",
     "text": [
      "Returned objects: 10 (total grants= 10)\n",
      "\u001b[2mTime: 0.63s\u001b[0m\n"
     ]
    }
   ],
   "source": [
    "df = dsl.query('''\n",
    "search grants \n",
    "    for \"\"\"\\\"2019-nCoV\\\" OR \\\"COVID-19\\\" OR \\\"SARS-CoV-2\\\" OR \\\"HCoV-2019\\\" OR \\\"hcov\\\" OR \\\"NCOVID-19\\\" OR  \\\"severe acute respiratory syndrome coronavirus 2\\\" OR \\\"severe acute respiratory syndrome corona virus 2\\\" OR \\\"coronavirus disease 2019\\\" OR ((\\\"coronavirus\\\"  OR \\\"corona virus\\\") AND (Wuhan OR China OR novel))\"\"\"\n",
    "    where funders.id in [\"grid.410422.1\", \"grid.453876.b\", \"grid.454854.c\", \"grid.420089.7\", \"grid.453035.4\", \"grid.48336.3a\", \"grid.429651.d\", \"grid.280655.c\", \"grid.280030.9\", \"grid.279885.9\", \"grid.280128.1\", \"grid.419681.3\", \"grid.420086.8\", \"grid.280347.a\", \"grid.419633.a\", \"grid.419635.c\", \"grid.280664.e\", \"grid.280785.0\", \"grid.416868.5\", \"grid.416870.c\", \"grid.280738.6\", \"grid.419475.a\", \"grid.420085.b\", \"grid.214431.1\", \"grid.420090.f\", \"grid.281076.a\", \"grid.94365.3d\", \"grid.410305.3\", \"grid.453518.e\", \"grid.436341.7\", \"grid.453125.4\", \"grid.280285.5\"]\n",
    "    and active_year >= 2020\n",
    "    and research_org_countries.name != \"United States\"\n",
    "return grants[id+dimensions_url+active_year+funding_org_name+funding_usd+grant_number+title+unnest(research_org_countries)+unnest(research_org_names)] limit 1000\n",
    "'''\n",
    ").as_dataframe()\n",
    "\n"
   ]
  },
  {
   "cell_type": "code",
   "execution_count": 59,
   "metadata": {
    "Collapsed": "false"
   },
   "outputs": [
    {
     "data": {
      "application/vnd.plotly.v1+json": {
       "config": {
        "plotlyServerURL": "https://plot.ly"
       },
       "data": [
        {
         "hovertemplate": "funding_org_name=Fogarty International Center<br>research_org_names=%{x}<br>research_org_countries.name=%{y}<br>funding_usd=%{marker.size}<extra></extra>",
         "legendgroup": "Fogarty International Center",
         "marker": {
          "color": "#636efa",
          "size": [
           245468,
           1300000,
           30455,
           4509474
          ],
          "sizemode": "area",
          "sizeref": 98056.76,
          "symbol": "circle"
         },
         "mode": "markers",
         "name": "Fogarty International Center",
         "orientation": "v",
         "showlegend": true,
         "type": "scatter",
         "visible": true,
         "x": [
          "University of Cape Town",
          "Institute of Human Virology",
          "Centre for Infectious Disease Research in Zambia",
          "Cayetano Heredia University"
         ],
         "xaxis": "x",
         "y": [
          "South Africa",
          "Nigeria",
          "Zambia",
          "Peru"
         ],
         "yaxis": "y"
        },
        {
         "hovertemplate": "funding_org_name=National Institute of Allergy and Infectious Diseases<br>research_org_names=%{x}<br>research_org_countries.name=%{y}<br>funding_usd=%{marker.size}<extra></extra>",
         "legendgroup": "National Institute of Allergy and Infectious Diseases",
         "marker": {
          "color": "#EF553B",
          "size": [
           135502,
           674496,
           39222704
          ],
          "sizemode": "area",
          "sizeref": 98056.76,
          "symbol": "circle"
         },
         "mode": "markers",
         "name": "National Institute of Allergy and Infectious Diseases",
         "orientation": "v",
         "showlegend": true,
         "type": "scatter",
         "visible": true,
         "x": [
          "INFECTIOUS DISEASE SOCIETY KOTA KINABALU",
          "Institut Pasteur de Madagascar",
          "University of Bern"
         ],
         "xaxis": "x",
         "y": [
          "Malaysia",
          "Madagascar",
          "Switzerland"
         ],
         "yaxis": "y"
        },
        {
         "hovertemplate": "funding_org_name=National Institute of Biomedical Imaging and Bioengineering<br>research_org_names=%{x}<br>research_org_countries.name=%{y}<br>funding_usd=%{marker.size}<extra></extra>",
         "legendgroup": "National Institute of Biomedical Imaging and Bioengineering",
         "marker": {
          "color": "#00cc96",
          "size": [
           295888
          ],
          "sizemode": "area",
          "sizeref": 98056.76,
          "symbol": "circle"
         },
         "mode": "markers",
         "name": "National Institute of Biomedical Imaging and Bioengineering",
         "orientation": "v",
         "showlegend": true,
         "type": "scatter",
         "visible": true,
         "x": [
          "University of Toronto"
         ],
         "xaxis": "x",
         "y": [
          "Canada"
         ],
         "yaxis": "y"
        },
        {
         "hovertemplate": "funding_org_name=National Institute of Mental Health<br>research_org_names=%{x}<br>research_org_countries.name=%{y}<br>funding_usd=%{marker.size}<extra></extra>",
         "legendgroup": "National Institute of Mental Health",
         "marker": {
          "color": "#ab63fa",
          "size": [
           478234
          ],
          "sizemode": "area",
          "sizeref": 98056.76,
          "symbol": "circle"
         },
         "mode": "markers",
         "name": "National Institute of Mental Health",
         "orientation": "v",
         "showlegend": true,
         "type": "scatter",
         "visible": true,
         "x": [
          "University of British Columbia"
         ],
         "xaxis": "x",
         "y": [
          "Canada"
         ],
         "yaxis": "y"
        },
        {
         "hovertemplate": "funding_org_name=National Institute on Drug Abuse<br>research_org_names=%{x}<br>research_org_countries.name=%{y}<br>funding_usd=%{marker.size}<extra></extra>",
         "legendgroup": "National Institute on Drug Abuse",
         "marker": {
          "color": "#FFA15A",
          "size": [
           3290002
          ],
          "sizemode": "area",
          "sizeref": 98056.76,
          "symbol": "circle"
         },
         "mode": "markers",
         "name": "National Institute on Drug Abuse",
         "orientation": "v",
         "showlegend": true,
         "type": "scatter",
         "visible": true,
         "x": [
          "Simon Fraser University"
         ],
         "xaxis": "x",
         "y": [
          "Canada"
         ],
         "yaxis": "y"
        }
       ],
       "layout": {
        "autosize": true,
        "legend": {
         "itemsizing": "constant",
         "title": {
          "text": "funding_org_name"
         },
         "tracegroupgap": 0
        },
        "template": {
         "data": {
          "bar": [
           {
            "error_x": {
             "color": "#2a3f5f"
            },
            "error_y": {
             "color": "#2a3f5f"
            },
            "marker": {
             "line": {
              "color": "#E5ECF6",
              "width": 0.5
             },
             "pattern": {
              "fillmode": "overlay",
              "size": 10,
              "solidity": 0.2
             }
            },
            "type": "bar"
           }
          ],
          "barpolar": [
           {
            "marker": {
             "line": {
              "color": "#E5ECF6",
              "width": 0.5
             },
             "pattern": {
              "fillmode": "overlay",
              "size": 10,
              "solidity": 0.2
             }
            },
            "type": "barpolar"
           }
          ],
          "carpet": [
           {
            "aaxis": {
             "endlinecolor": "#2a3f5f",
             "gridcolor": "white",
             "linecolor": "white",
             "minorgridcolor": "white",
             "startlinecolor": "#2a3f5f"
            },
            "baxis": {
             "endlinecolor": "#2a3f5f",
             "gridcolor": "white",
             "linecolor": "white",
             "minorgridcolor": "white",
             "startlinecolor": "#2a3f5f"
            },
            "type": "carpet"
           }
          ],
          "choropleth": [
           {
            "colorbar": {
             "outlinewidth": 0,
             "ticks": ""
            },
            "type": "choropleth"
           }
          ],
          "contour": [
           {
            "colorbar": {
             "outlinewidth": 0,
             "ticks": ""
            },
            "colorscale": [
             [
              0,
              "#0d0887"
             ],
             [
              0.1111111111111111,
              "#46039f"
             ],
             [
              0.2222222222222222,
              "#7201a8"
             ],
             [
              0.3333333333333333,
              "#9c179e"
             ],
             [
              0.4444444444444444,
              "#bd3786"
             ],
             [
              0.5555555555555556,
              "#d8576b"
             ],
             [
              0.6666666666666666,
              "#ed7953"
             ],
             [
              0.7777777777777778,
              "#fb9f3a"
             ],
             [
              0.8888888888888888,
              "#fdca26"
             ],
             [
              1,
              "#f0f921"
             ]
            ],
            "type": "contour"
           }
          ],
          "contourcarpet": [
           {
            "colorbar": {
             "outlinewidth": 0,
             "ticks": ""
            },
            "type": "contourcarpet"
           }
          ],
          "heatmap": [
           {
            "colorbar": {
             "outlinewidth": 0,
             "ticks": ""
            },
            "colorscale": [
             [
              0,
              "#0d0887"
             ],
             [
              0.1111111111111111,
              "#46039f"
             ],
             [
              0.2222222222222222,
              "#7201a8"
             ],
             [
              0.3333333333333333,
              "#9c179e"
             ],
             [
              0.4444444444444444,
              "#bd3786"
             ],
             [
              0.5555555555555556,
              "#d8576b"
             ],
             [
              0.6666666666666666,
              "#ed7953"
             ],
             [
              0.7777777777777778,
              "#fb9f3a"
             ],
             [
              0.8888888888888888,
              "#fdca26"
             ],
             [
              1,
              "#f0f921"
             ]
            ],
            "type": "heatmap"
           }
          ],
          "heatmapgl": [
           {
            "colorbar": {
             "outlinewidth": 0,
             "ticks": ""
            },
            "colorscale": [
             [
              0,
              "#0d0887"
             ],
             [
              0.1111111111111111,
              "#46039f"
             ],
             [
              0.2222222222222222,
              "#7201a8"
             ],
             [
              0.3333333333333333,
              "#9c179e"
             ],
             [
              0.4444444444444444,
              "#bd3786"
             ],
             [
              0.5555555555555556,
              "#d8576b"
             ],
             [
              0.6666666666666666,
              "#ed7953"
             ],
             [
              0.7777777777777778,
              "#fb9f3a"
             ],
             [
              0.8888888888888888,
              "#fdca26"
             ],
             [
              1,
              "#f0f921"
             ]
            ],
            "type": "heatmapgl"
           }
          ],
          "histogram": [
           {
            "marker": {
             "pattern": {
              "fillmode": "overlay",
              "size": 10,
              "solidity": 0.2
             }
            },
            "type": "histogram"
           }
          ],
          "histogram2d": [
           {
            "colorbar": {
             "outlinewidth": 0,
             "ticks": ""
            },
            "colorscale": [
             [
              0,
              "#0d0887"
             ],
             [
              0.1111111111111111,
              "#46039f"
             ],
             [
              0.2222222222222222,
              "#7201a8"
             ],
             [
              0.3333333333333333,
              "#9c179e"
             ],
             [
              0.4444444444444444,
              "#bd3786"
             ],
             [
              0.5555555555555556,
              "#d8576b"
             ],
             [
              0.6666666666666666,
              "#ed7953"
             ],
             [
              0.7777777777777778,
              "#fb9f3a"
             ],
             [
              0.8888888888888888,
              "#fdca26"
             ],
             [
              1,
              "#f0f921"
             ]
            ],
            "type": "histogram2d"
           }
          ],
          "histogram2dcontour": [
           {
            "colorbar": {
             "outlinewidth": 0,
             "ticks": ""
            },
            "colorscale": [
             [
              0,
              "#0d0887"
             ],
             [
              0.1111111111111111,
              "#46039f"
             ],
             [
              0.2222222222222222,
              "#7201a8"
             ],
             [
              0.3333333333333333,
              "#9c179e"
             ],
             [
              0.4444444444444444,
              "#bd3786"
             ],
             [
              0.5555555555555556,
              "#d8576b"
             ],
             [
              0.6666666666666666,
              "#ed7953"
             ],
             [
              0.7777777777777778,
              "#fb9f3a"
             ],
             [
              0.8888888888888888,
              "#fdca26"
             ],
             [
              1,
              "#f0f921"
             ]
            ],
            "type": "histogram2dcontour"
           }
          ],
          "mesh3d": [
           {
            "colorbar": {
             "outlinewidth": 0,
             "ticks": ""
            },
            "type": "mesh3d"
           }
          ],
          "parcoords": [
           {
            "line": {
             "colorbar": {
              "outlinewidth": 0,
              "ticks": ""
             }
            },
            "type": "parcoords"
           }
          ],
          "pie": [
           {
            "automargin": true,
            "type": "pie"
           }
          ],
          "scatter": [
           {
            "marker": {
             "colorbar": {
              "outlinewidth": 0,
              "ticks": ""
             }
            },
            "type": "scatter"
           }
          ],
          "scatter3d": [
           {
            "line": {
             "colorbar": {
              "outlinewidth": 0,
              "ticks": ""
             }
            },
            "marker": {
             "colorbar": {
              "outlinewidth": 0,
              "ticks": ""
             }
            },
            "type": "scatter3d"
           }
          ],
          "scattercarpet": [
           {
            "marker": {
             "colorbar": {
              "outlinewidth": 0,
              "ticks": ""
             }
            },
            "type": "scattercarpet"
           }
          ],
          "scattergeo": [
           {
            "marker": {
             "colorbar": {
              "outlinewidth": 0,
              "ticks": ""
             }
            },
            "type": "scattergeo"
           }
          ],
          "scattergl": [
           {
            "marker": {
             "colorbar": {
              "outlinewidth": 0,
              "ticks": ""
             }
            },
            "type": "scattergl"
           }
          ],
          "scattermapbox": [
           {
            "marker": {
             "colorbar": {
              "outlinewidth": 0,
              "ticks": ""
             }
            },
            "type": "scattermapbox"
           }
          ],
          "scatterpolar": [
           {
            "marker": {
             "colorbar": {
              "outlinewidth": 0,
              "ticks": ""
             }
            },
            "type": "scatterpolar"
           }
          ],
          "scatterpolargl": [
           {
            "marker": {
             "colorbar": {
              "outlinewidth": 0,
              "ticks": ""
             }
            },
            "type": "scatterpolargl"
           }
          ],
          "scatterternary": [
           {
            "marker": {
             "colorbar": {
              "outlinewidth": 0,
              "ticks": ""
             }
            },
            "type": "scatterternary"
           }
          ],
          "surface": [
           {
            "colorbar": {
             "outlinewidth": 0,
             "ticks": ""
            },
            "colorscale": [
             [
              0,
              "#0d0887"
             ],
             [
              0.1111111111111111,
              "#46039f"
             ],
             [
              0.2222222222222222,
              "#7201a8"
             ],
             [
              0.3333333333333333,
              "#9c179e"
             ],
             [
              0.4444444444444444,
              "#bd3786"
             ],
             [
              0.5555555555555556,
              "#d8576b"
             ],
             [
              0.6666666666666666,
              "#ed7953"
             ],
             [
              0.7777777777777778,
              "#fb9f3a"
             ],
             [
              0.8888888888888888,
              "#fdca26"
             ],
             [
              1,
              "#f0f921"
             ]
            ],
            "type": "surface"
           }
          ],
          "table": [
           {
            "cells": {
             "fill": {
              "color": "#EBF0F8"
             },
             "line": {
              "color": "white"
             }
            },
            "header": {
             "fill": {
              "color": "#C8D4E3"
             },
             "line": {
              "color": "white"
             }
            },
            "type": "table"
           }
          ]
         },
         "layout": {
          "annotationdefaults": {
           "arrowcolor": "#2a3f5f",
           "arrowhead": 0,
           "arrowwidth": 1
          },
          "autotypenumbers": "strict",
          "coloraxis": {
           "colorbar": {
            "outlinewidth": 0,
            "ticks": ""
           }
          },
          "colorscale": {
           "diverging": [
            [
             0,
             "#8e0152"
            ],
            [
             0.1,
             "#c51b7d"
            ],
            [
             0.2,
             "#de77ae"
            ],
            [
             0.3,
             "#f1b6da"
            ],
            [
             0.4,
             "#fde0ef"
            ],
            [
             0.5,
             "#f7f7f7"
            ],
            [
             0.6,
             "#e6f5d0"
            ],
            [
             0.7,
             "#b8e186"
            ],
            [
             0.8,
             "#7fbc41"
            ],
            [
             0.9,
             "#4d9221"
            ],
            [
             1,
             "#276419"
            ]
           ],
           "sequential": [
            [
             0,
             "#0d0887"
            ],
            [
             0.1111111111111111,
             "#46039f"
            ],
            [
             0.2222222222222222,
             "#7201a8"
            ],
            [
             0.3333333333333333,
             "#9c179e"
            ],
            [
             0.4444444444444444,
             "#bd3786"
            ],
            [
             0.5555555555555556,
             "#d8576b"
            ],
            [
             0.6666666666666666,
             "#ed7953"
            ],
            [
             0.7777777777777778,
             "#fb9f3a"
            ],
            [
             0.8888888888888888,
             "#fdca26"
            ],
            [
             1,
             "#f0f921"
            ]
           ],
           "sequentialminus": [
            [
             0,
             "#0d0887"
            ],
            [
             0.1111111111111111,
             "#46039f"
            ],
            [
             0.2222222222222222,
             "#7201a8"
            ],
            [
             0.3333333333333333,
             "#9c179e"
            ],
            [
             0.4444444444444444,
             "#bd3786"
            ],
            [
             0.5555555555555556,
             "#d8576b"
            ],
            [
             0.6666666666666666,
             "#ed7953"
            ],
            [
             0.7777777777777778,
             "#fb9f3a"
            ],
            [
             0.8888888888888888,
             "#fdca26"
            ],
            [
             1,
             "#f0f921"
            ]
           ]
          },
          "colorway": [
           "#636efa",
           "#EF553B",
           "#00cc96",
           "#ab63fa",
           "#FFA15A",
           "#19d3f3",
           "#FF6692",
           "#B6E880",
           "#FF97FF",
           "#FECB52"
          ],
          "font": {
           "color": "#2a3f5f"
          },
          "geo": {
           "bgcolor": "white",
           "lakecolor": "white",
           "landcolor": "#E5ECF6",
           "showlakes": true,
           "showland": true,
           "subunitcolor": "white"
          },
          "hoverlabel": {
           "align": "left"
          },
          "hovermode": "closest",
          "mapbox": {
           "style": "light"
          },
          "paper_bgcolor": "white",
          "plot_bgcolor": "#E5ECF6",
          "polar": {
           "angularaxis": {
            "gridcolor": "white",
            "linecolor": "white",
            "ticks": ""
           },
           "bgcolor": "#E5ECF6",
           "radialaxis": {
            "gridcolor": "white",
            "linecolor": "white",
            "ticks": ""
           }
          },
          "scene": {
           "xaxis": {
            "backgroundcolor": "#E5ECF6",
            "gridcolor": "white",
            "gridwidth": 2,
            "linecolor": "white",
            "showbackground": true,
            "ticks": "",
            "zerolinecolor": "white"
           },
           "yaxis": {
            "backgroundcolor": "#E5ECF6",
            "gridcolor": "white",
            "gridwidth": 2,
            "linecolor": "white",
            "showbackground": true,
            "ticks": "",
            "zerolinecolor": "white"
           },
           "zaxis": {
            "backgroundcolor": "#E5ECF6",
            "gridcolor": "white",
            "gridwidth": 2,
            "linecolor": "white",
            "showbackground": true,
            "ticks": "",
            "zerolinecolor": "white"
           }
          },
          "shapedefaults": {
           "line": {
            "color": "#2a3f5f"
           }
          },
          "ternary": {
           "aaxis": {
            "gridcolor": "white",
            "linecolor": "white",
            "ticks": ""
           },
           "baxis": {
            "gridcolor": "white",
            "linecolor": "white",
            "ticks": ""
           },
           "bgcolor": "#E5ECF6",
           "caxis": {
            "gridcolor": "white",
            "linecolor": "white",
            "ticks": ""
           }
          },
          "title": {
           "x": 0.05
          },
          "xaxis": {
           "automargin": true,
           "gridcolor": "white",
           "linecolor": "white",
           "ticks": "",
           "title": {
            "standoff": 15
           },
           "zerolinecolor": "white",
           "zerolinewidth": 2
          },
          "yaxis": {
           "automargin": true,
           "gridcolor": "white",
           "linecolor": "white",
           "ticks": "",
           "title": {
            "standoff": 15
           },
           "zerolinecolor": "white",
           "zerolinewidth": 2
          }
         }
        },
        "title": {
         "text": "Non US funded organizations"
        },
        "xaxis": {
         "anchor": "y",
         "autorange": true,
         "domain": [
          0,
          1
         ],
         "range": [
          -0.5453375243726395,
          9.566267119523447
         ],
         "title": {
          "text": "research_org_names"
         },
         "type": "category"
        },
        "yaxis": {
         "anchor": "x",
         "autorange": true,
         "domain": [
          0,
          1
         ],
         "range": [
          -0.48014505385518086,
          7.522272510397833
         ],
         "title": {
          "text": "research_org_countries.name"
         },
         "type": "category"
        }
       }
      },
      "image/png": "[encoded data removed]",
      "text/html": [
       "<div>                            <div id=\"0d8e359a-dc73-4a02-99a8-2be5b81660ad\" class=\"plotly-graph-div\" style=\"height:600px; width:100%;\"></div>            <script type=\"text/javascript\">                require([\"plotly\"], function(Plotly) {                    window.PLOTLYENV=window.PLOTLYENV || {};                                    if (document.getElementById(\"0d8e359a-dc73-4a02-99a8-2be5b81660ad\")) {                    Plotly.newPlot(                        \"0d8e359a-dc73-4a02-99a8-2be5b81660ad\",                        [{\"hovertemplate\":\"funding_org_name=Fogarty International Center<br>research_org_names=%{x}<br>research_org_countries.name=%{y}<br>funding_usd=%{marker.size}<extra></extra>\",\"legendgroup\":\"Fogarty International Center\",\"marker\":{\"color\":\"#636efa\",\"size\":[245468.0,1300000.0,30455.0,4509474.0],\"sizemode\":\"area\",\"sizeref\":98056.76,\"symbol\":\"circle\"},\"mode\":\"markers\",\"name\":\"Fogarty International Center\",\"orientation\":\"v\",\"showlegend\":true,\"type\":\"scatter\",\"x\":[\"University of Cape Town\",\"Institute of Human Virology\",\"Centre for Infectious Disease Research in Zambia\",\"Cayetano Heredia University\"],\"xaxis\":\"x\",\"y\":[\"South Africa\",\"Nigeria\",\"Zambia\",\"Peru\"],\"yaxis\":\"y\"},{\"hovertemplate\":\"funding_org_name=National Institute of Allergy and Infectious Diseases<br>research_org_names=%{x}<br>research_org_countries.name=%{y}<br>funding_usd=%{marker.size}<extra></extra>\",\"legendgroup\":\"National Institute of Allergy and Infectious Diseases\",\"marker\":{\"color\":\"#EF553B\",\"size\":[135502.0,674496.0,39222704.0],\"sizemode\":\"area\",\"sizeref\":98056.76,\"symbol\":\"circle\"},\"mode\":\"markers\",\"name\":\"National Institute of Allergy and Infectious Diseases\",\"orientation\":\"v\",\"showlegend\":true,\"type\":\"scatter\",\"x\":[\"INFECTIOUS DISEASE SOCIETY KOTA KINABALU\",\"Institut Pasteur de Madagascar\",\"University of Bern\"],\"xaxis\":\"x\",\"y\":[\"Malaysia\",\"Madagascar\",\"Switzerland\"],\"yaxis\":\"y\"},{\"hovertemplate\":\"funding_org_name=National Institute of Biomedical Imaging and Bioengineering<br>research_org_names=%{x}<br>research_org_countries.name=%{y}<br>funding_usd=%{marker.size}<extra></extra>\",\"legendgroup\":\"National Institute of Biomedical Imaging and Bioengineering\",\"marker\":{\"color\":\"#00cc96\",\"size\":[295888.0],\"sizemode\":\"area\",\"sizeref\":98056.76,\"symbol\":\"circle\"},\"mode\":\"markers\",\"name\":\"National Institute of Biomedical Imaging and Bioengineering\",\"orientation\":\"v\",\"showlegend\":true,\"type\":\"scatter\",\"x\":[\"University of Toronto\"],\"xaxis\":\"x\",\"y\":[\"Canada\"],\"yaxis\":\"y\"},{\"hovertemplate\":\"funding_org_name=National Institute of Mental Health<br>research_org_names=%{x}<br>research_org_countries.name=%{y}<br>funding_usd=%{marker.size}<extra></extra>\",\"legendgroup\":\"National Institute of Mental Health\",\"marker\":{\"color\":\"#ab63fa\",\"size\":[478234.0],\"sizemode\":\"area\",\"sizeref\":98056.76,\"symbol\":\"circle\"},\"mode\":\"markers\",\"name\":\"National Institute of Mental Health\",\"orientation\":\"v\",\"showlegend\":true,\"type\":\"scatter\",\"x\":[\"University of British Columbia\"],\"xaxis\":\"x\",\"y\":[\"Canada\"],\"yaxis\":\"y\"},{\"hovertemplate\":\"funding_org_name=National Institute on Drug Abuse<br>research_org_names=%{x}<br>research_org_countries.name=%{y}<br>funding_usd=%{marker.size}<extra></extra>\",\"legendgroup\":\"National Institute on Drug Abuse\",\"marker\":{\"color\":\"#FFA15A\",\"size\":[3290002.0],\"sizemode\":\"area\",\"sizeref\":98056.76,\"symbol\":\"circle\"},\"mode\":\"markers\",\"name\":\"National Institute on Drug Abuse\",\"orientation\":\"v\",\"showlegend\":true,\"type\":\"scatter\",\"x\":[\"Simon Fraser University\"],\"xaxis\":\"x\",\"y\":[\"Canada\"],\"yaxis\":\"y\"}],                        {\"height\":600,\"legend\":{\"itemsizing\":\"constant\",\"title\":{\"text\":\"funding_org_name\"},\"tracegroupgap\":0},\"template\":{\"data\":{\"bar\":[{\"error_x\":{\"color\":\"#2a3f5f\"},\"error_y\":{\"color\":\"#2a3f5f\"},\"marker\":{\"line\":{\"color\":\"#E5ECF6\",\"width\":0.5},\"pattern\":{\"fillmode\":\"overlay\",\"size\":10,\"solidity\":0.2}},\"type\":\"bar\"}],\"barpolar\":[{\"marker\":{\"line\":{\"color\":\"#E5ECF6\",\"width\":0.5},\"pattern\":{\"fillmode\":\"overlay\",\"size\":10,\"solidity\":0.2}},\"type\":\"barpolar\"}],\"carpet\":[{\"aaxis\":{\"endlinecolor\":\"#2a3f5f\",\"gridcolor\":\"white\",\"linecolor\":\"white\",\"minorgridcolor\":\"white\",\"startlinecolor\":\"#2a3f5f\"},\"baxis\":{\"endlinecolor\":\"#2a3f5f\",\"gridcolor\":\"white\",\"linecolor\":\"white\",\"minorgridcolor\":\"white\",\"startlinecolor\":\"#2a3f5f\"},\"type\":\"carpet\"}],\"choropleth\":[{\"colorbar\":{\"outlinewidth\":0,\"ticks\":\"\"},\"type\":\"choropleth\"}],\"contour\":[{\"colorbar\":{\"outlinewidth\":0,\"ticks\":\"\"},\"colorscale\":[[0.0,\"#0d0887\"],[0.1111111111111111,\"#46039f\"],[0.2222222222222222,\"#7201a8\"],[0.3333333333333333,\"#9c179e\"],[0.4444444444444444,\"#bd3786\"],[0.5555555555555556,\"#d8576b\"],[0.6666666666666666,\"#ed7953\"],[0.7777777777777778,\"#fb9f3a\"],[0.8888888888888888,\"#fdca26\"],[1.0,\"#f0f921\"]],\"type\":\"contour\"}],\"contourcarpet\":[{\"colorbar\":{\"outlinewidth\":0,\"ticks\":\"\"},\"type\":\"contourcarpet\"}],\"heatmap\":[{\"colorbar\":{\"outlinewidth\":0,\"ticks\":\"\"},\"colorscale\":[[0.0,\"#0d0887\"],[0.1111111111111111,\"#46039f\"],[0.2222222222222222,\"#7201a8\"],[0.3333333333333333,\"#9c179e\"],[0.4444444444444444,\"#bd3786\"],[0.5555555555555556,\"#d8576b\"],[0.6666666666666666,\"#ed7953\"],[0.7777777777777778,\"#fb9f3a\"],[0.8888888888888888,\"#fdca26\"],[1.0,\"#f0f921\"]],\"type\":\"heatmap\"}],\"heatmapgl\":[{\"colorbar\":{\"outlinewidth\":0,\"ticks\":\"\"},\"colorscale\":[[0.0,\"#0d0887\"],[0.1111111111111111,\"#46039f\"],[0.2222222222222222,\"#7201a8\"],[0.3333333333333333,\"#9c179e\"],[0.4444444444444444,\"#bd3786\"],[0.5555555555555556,\"#d8576b\"],[0.6666666666666666,\"#ed7953\"],[0.7777777777777778,\"#fb9f3a\"],[0.8888888888888888,\"#fdca26\"],[1.0,\"#f0f921\"]],\"type\":\"heatmapgl\"}],\"histogram\":[{\"marker\":{\"pattern\":{\"fillmode\":\"overlay\",\"size\":10,\"solidity\":0.2}},\"type\":\"histogram\"}],\"histogram2d\":[{\"colorbar\":{\"outlinewidth\":0,\"ticks\":\"\"},\"colorscale\":[[0.0,\"#0d0887\"],[0.1111111111111111,\"#46039f\"],[0.2222222222222222,\"#7201a8\"],[0.3333333333333333,\"#9c179e\"],[0.4444444444444444,\"#bd3786\"],[0.5555555555555556,\"#d8576b\"],[0.6666666666666666,\"#ed7953\"],[0.7777777777777778,\"#fb9f3a\"],[0.8888888888888888,\"#fdca26\"],[1.0,\"#f0f921\"]],\"type\":\"histogram2d\"}],\"histogram2dcontour\":[{\"colorbar\":{\"outlinewidth\":0,\"ticks\":\"\"},\"colorscale\":[[0.0,\"#0d0887\"],[0.1111111111111111,\"#46039f\"],[0.2222222222222222,\"#7201a8\"],[0.3333333333333333,\"#9c179e\"],[0.4444444444444444,\"#bd3786\"],[0.5555555555555556,\"#d8576b\"],[0.6666666666666666,\"#ed7953\"],[0.7777777777777778,\"#fb9f3a\"],[0.8888888888888888,\"#fdca26\"],[1.0,\"#f0f921\"]],\"type\":\"histogram2dcontour\"}],\"mesh3d\":[{\"colorbar\":{\"outlinewidth\":0,\"ticks\":\"\"},\"type\":\"mesh3d\"}],\"parcoords\":[{\"line\":{\"colorbar\":{\"outlinewidth\":0,\"ticks\":\"\"}},\"type\":\"parcoords\"}],\"pie\":[{\"automargin\":true,\"type\":\"pie\"}],\"scatter\":[{\"marker\":{\"colorbar\":{\"outlinewidth\":0,\"ticks\":\"\"}},\"type\":\"scatter\"}],\"scatter3d\":[{\"line\":{\"colorbar\":{\"outlinewidth\":0,\"ticks\":\"\"}},\"marker\":{\"colorbar\":{\"outlinewidth\":0,\"ticks\":\"\"}},\"type\":\"scatter3d\"}],\"scattercarpet\":[{\"marker\":{\"colorbar\":{\"outlinewidth\":0,\"ticks\":\"\"}},\"type\":\"scattercarpet\"}],\"scattergeo\":[{\"marker\":{\"colorbar\":{\"outlinewidth\":0,\"ticks\":\"\"}},\"type\":\"scattergeo\"}],\"scattergl\":[{\"marker\":{\"colorbar\":{\"outlinewidth\":0,\"ticks\":\"\"}},\"type\":\"scattergl\"}],\"scattermapbox\":[{\"marker\":{\"colorbar\":{\"outlinewidth\":0,\"ticks\":\"\"}},\"type\":\"scattermapbox\"}],\"scatterpolar\":[{\"marker\":{\"colorbar\":{\"outlinewidth\":0,\"ticks\":\"\"}},\"type\":\"scatterpolar\"}],\"scatterpolargl\":[{\"marker\":{\"colorbar\":{\"outlinewidth\":0,\"ticks\":\"\"}},\"type\":\"scatterpolargl\"}],\"scatterternary\":[{\"marker\":{\"colorbar\":{\"outlinewidth\":0,\"ticks\":\"\"}},\"type\":\"scatterternary\"}],\"surface\":[{\"colorbar\":{\"outlinewidth\":0,\"ticks\":\"\"},\"colorscale\":[[0.0,\"#0d0887\"],[0.1111111111111111,\"#46039f\"],[0.2222222222222222,\"#7201a8\"],[0.3333333333333333,\"#9c179e\"],[0.4444444444444444,\"#bd3786\"],[0.5555555555555556,\"#d8576b\"],[0.6666666666666666,\"#ed7953\"],[0.7777777777777778,\"#fb9f3a\"],[0.8888888888888888,\"#fdca26\"],[1.0,\"#f0f921\"]],\"type\":\"surface\"}],\"table\":[{\"cells\":{\"fill\":{\"color\":\"#EBF0F8\"},\"line\":{\"color\":\"white\"}},\"header\":{\"fill\":{\"color\":\"#C8D4E3\"},\"line\":{\"color\":\"white\"}},\"type\":\"table\"}]},\"layout\":{\"annotationdefaults\":{\"arrowcolor\":\"#2a3f5f\",\"arrowhead\":0,\"arrowwidth\":1},\"autotypenumbers\":\"strict\",\"coloraxis\":{\"colorbar\":{\"outlinewidth\":0,\"ticks\":\"\"}},\"colorscale\":{\"diverging\":[[0,\"#8e0152\"],[0.1,\"#c51b7d\"],[0.2,\"#de77ae\"],[0.3,\"#f1b6da\"],[0.4,\"#fde0ef\"],[0.5,\"#f7f7f7\"],[0.6,\"#e6f5d0\"],[0.7,\"#b8e186\"],[0.8,\"#7fbc41\"],[0.9,\"#4d9221\"],[1,\"#276419\"]],\"sequential\":[[0.0,\"#0d0887\"],[0.1111111111111111,\"#46039f\"],[0.2222222222222222,\"#7201a8\"],[0.3333333333333333,\"#9c179e\"],[0.4444444444444444,\"#bd3786\"],[0.5555555555555556,\"#d8576b\"],[0.6666666666666666,\"#ed7953\"],[0.7777777777777778,\"#fb9f3a\"],[0.8888888888888888,\"#fdca26\"],[1.0,\"#f0f921\"]],\"sequentialminus\":[[0.0,\"#0d0887\"],[0.1111111111111111,\"#46039f\"],[0.2222222222222222,\"#7201a8\"],[0.3333333333333333,\"#9c179e\"],[0.4444444444444444,\"#bd3786\"],[0.5555555555555556,\"#d8576b\"],[0.6666666666666666,\"#ed7953\"],[0.7777777777777778,\"#fb9f3a\"],[0.8888888888888888,\"#fdca26\"],[1.0,\"#f0f921\"]]},\"colorway\":[\"#636efa\",\"#EF553B\",\"#00cc96\",\"#ab63fa\",\"#FFA15A\",\"#19d3f3\",\"#FF6692\",\"#B6E880\",\"#FF97FF\",\"#FECB52\"],\"font\":{\"color\":\"#2a3f5f\"},\"geo\":{\"bgcolor\":\"white\",\"lakecolor\":\"white\",\"landcolor\":\"#E5ECF6\",\"showlakes\":true,\"showland\":true,\"subunitcolor\":\"white\"},\"hoverlabel\":{\"align\":\"left\"},\"hovermode\":\"closest\",\"mapbox\":{\"style\":\"light\"},\"paper_bgcolor\":\"white\",\"plot_bgcolor\":\"#E5ECF6\",\"polar\":{\"angularaxis\":{\"gridcolor\":\"white\",\"linecolor\":\"white\",\"ticks\":\"\"},\"bgcolor\":\"#E5ECF6\",\"radialaxis\":{\"gridcolor\":\"white\",\"linecolor\":\"white\",\"ticks\":\"\"}},\"scene\":{\"xaxis\":{\"backgroundcolor\":\"#E5ECF6\",\"gridcolor\":\"white\",\"gridwidth\":2,\"linecolor\":\"white\",\"showbackground\":true,\"ticks\":\"\",\"zerolinecolor\":\"white\"},\"yaxis\":{\"backgroundcolor\":\"#E5ECF6\",\"gridcolor\":\"white\",\"gridwidth\":2,\"linecolor\":\"white\",\"showbackground\":true,\"ticks\":\"\",\"zerolinecolor\":\"white\"},\"zaxis\":{\"backgroundcolor\":\"#E5ECF6\",\"gridcolor\":\"white\",\"gridwidth\":2,\"linecolor\":\"white\",\"showbackground\":true,\"ticks\":\"\",\"zerolinecolor\":\"white\"}},\"shapedefaults\":{\"line\":{\"color\":\"#2a3f5f\"}},\"ternary\":{\"aaxis\":{\"gridcolor\":\"white\",\"linecolor\":\"white\",\"ticks\":\"\"},\"baxis\":{\"gridcolor\":\"white\",\"linecolor\":\"white\",\"ticks\":\"\"},\"bgcolor\":\"#E5ECF6\",\"caxis\":{\"gridcolor\":\"white\",\"linecolor\":\"white\",\"ticks\":\"\"}},\"title\":{\"x\":0.05},\"xaxis\":{\"automargin\":true,\"gridcolor\":\"white\",\"linecolor\":\"white\",\"ticks\":\"\",\"title\":{\"standoff\":15},\"zerolinecolor\":\"white\",\"zerolinewidth\":2},\"yaxis\":{\"automargin\":true,\"gridcolor\":\"white\",\"linecolor\":\"white\",\"ticks\":\"\",\"title\":{\"standoff\":15},\"zerolinecolor\":\"white\",\"zerolinewidth\":2}}},\"title\":{\"text\":\"Non US funded organizations\"},\"xaxis\":{\"anchor\":\"y\",\"domain\":[0.0,1.0],\"title\":{\"text\":\"research_org_names\"}},\"yaxis\":{\"anchor\":\"x\",\"domain\":[0.0,1.0],\"title\":{\"text\":\"research_org_countries.name\"}}},                        {\"responsive\": true}                    ).then(function(){\n",
       "                            \n",
       "var gd = document.getElementById('0d8e359a-dc73-4a02-99a8-2be5b81660ad');\n",
       "var x = new MutationObserver(function (mutations, observer) {{\n",
       "        var display = window.getComputedStyle(gd).display;\n",
       "        if (!display || display === 'none') {{\n",
       "            console.log([gd, 'removed!']);\n",
       "            Plotly.purge(gd);\n",
       "            observer.disconnect();\n",
       "        }}\n",
       "}});\n",
       "\n",
       "// Listen for the removal of the full notebook cells\n",
       "var notebookContainer = gd.closest('#notebook-container');\n",
       "if (notebookContainer) {{\n",
       "    x.observe(notebookContainer, {childList: true});\n",
       "}}\n",
       "\n",
       "// Listen for the clearing of the current output cell\n",
       "var outputEl = gd.closest('.output');\n",
       "if (outputEl) {{\n",
       "    x.observe(outputEl, {childList: true});\n",
       "}}\n",
       "\n",
       "                        })                };                });            </script>        </div>"
      ]
     },
     "metadata": {},
     "output_type": "display_data"
    }
   ],
   "source": [
    "px.scatter(df, y=\"research_org_countries.name\", \n",
    "               x=\"research_org_names\", \n",
    "              color=\"funding_org_name\", \n",
    "              size=\"funding_usd\", \n",
    "              height=600,\n",
    "              title=\"Non US funded organizations\")"
   ]
  },
  {
   "cell_type": "markdown",
   "metadata": {
    "Collapsed": "false"
   },
   "source": [
    "## 2. Researchers associations\n",
    "\n",
    "> What are known foreign associations of NIH funded researchers? E.g., collaborators on pubs or patents, organizational or funding associations. "
   ]
  },
  {
   "cell_type": "code",
   "execution_count": 61,
   "metadata": {
    "Collapsed": "false"
   },
   "outputs": [
    {
     "data": {
      "text/html": [
       "<div>\n",
       "<style scoped>\n",
       "    .dataframe tbody tr th:only-of-type {\n",
       "        vertical-align: middle;\n",
       "    }\n",
       "\n",
       "    .dataframe tbody tr th {\n",
       "        vertical-align: top;\n",
       "    }\n",
       "\n",
       "    .dataframe thead th {\n",
       "        text-align: right;\n",
       "    }\n",
       "</style>\n",
       "<table border=\"1\" class=\"dataframe\">\n",
       "  <thead>\n",
       "    <tr style=\"text-align: right;\">\n",
       "      <th></th>\n",
       "      <th>count</th>\n",
       "      <th>current_research_org</th>\n",
       "      <th>dimensions_url</th>\n",
       "      <th>first_name</th>\n",
       "      <th>id</th>\n",
       "      <th>last_name</th>\n",
       "    </tr>\n",
       "  </thead>\n",
       "  <tbody>\n",
       "    <tr>\n",
       "      <th>0</th>\n",
       "      <td>8</td>\n",
       "      <td>grid.10698.36</td>\n",
       "      <td>https://app.dimensions.ai/discover/publication...</td>\n",
       "      <td>Ralph Steven</td>\n",
       "      <td>ur.016314333017.37</td>\n",
       "      <td>Baric</td>\n",
       "    </tr>\n",
       "    <tr>\n",
       "      <th>1</th>\n",
       "      <td>5</td>\n",
       "      <td>grid.250415.7</td>\n",
       "      <td>https://app.dimensions.ai/discover/publication...</td>\n",
       "      <td>Lan-Ying</td>\n",
       "      <td>ur.01062044220.77</td>\n",
       "      <td>Du</td>\n",
       "    </tr>\n",
       "    <tr>\n",
       "      <th>2</th>\n",
       "      <td>5</td>\n",
       "      <td>grid.27873.39</td>\n",
       "      <td>https://app.dimensions.ai/discover/publication...</td>\n",
       "      <td>Thomas L</td>\n",
       "      <td>ur.01253321507.46</td>\n",
       "      <td>Rudge</td>\n",
       "    </tr>\n",
       "    <tr>\n",
       "      <th>3</th>\n",
       "      <td>5</td>\n",
       "      <td>grid.419407.f</td>\n",
       "      <td>https://app.dimensions.ai/discover/publication...</td>\n",
       "      <td>Leonard</td>\n",
       "      <td>ur.015766321623.79</td>\n",
       "      <td>Freedman</td>\n",
       "    </tr>\n",
       "    <tr>\n",
       "      <th>4</th>\n",
       "      <td>5</td>\n",
       "      <td>grid.419407.f</td>\n",
       "      <td>https://app.dimensions.ai/discover/publication...</td>\n",
       "      <td>Beth R</td>\n",
       "      <td>ur.07545772505.38</td>\n",
       "      <td>Baseler</td>\n",
       "    </tr>\n",
       "    <tr>\n",
       "      <th>...</th>\n",
       "      <td>...</td>\n",
       "      <td>...</td>\n",
       "      <td>...</td>\n",
       "      <td>...</td>\n",
       "      <td>...</td>\n",
       "      <td>...</td>\n",
       "    </tr>\n",
       "    <tr>\n",
       "      <th>995</th>\n",
       "      <td>1</td>\n",
       "      <td>NaN</td>\n",
       "      <td>https://app.dimensions.ai/discover/publication...</td>\n",
       "      <td>James P</td>\n",
       "      <td>ur.01333015172.88</td>\n",
       "      <td>Gibbs</td>\n",
       "    </tr>\n",
       "    <tr>\n",
       "      <th>996</th>\n",
       "      <td>1</td>\n",
       "      <td>grid.266539.d</td>\n",
       "      <td>https://app.dimensions.ai/discover/publication...</td>\n",
       "      <td>Tyrone Finley</td>\n",
       "      <td>ur.01333211447.09</td>\n",
       "      <td>Borders</td>\n",
       "    </tr>\n",
       "    <tr>\n",
       "      <th>997</th>\n",
       "      <td>1</td>\n",
       "      <td>grid.185648.6</td>\n",
       "      <td>https://app.dimensions.ai/discover/publication...</td>\n",
       "      <td>Molly A</td>\n",
       "      <td>ur.01333213051.13</td>\n",
       "      <td>Martin</td>\n",
       "    </tr>\n",
       "    <tr>\n",
       "      <th>998</th>\n",
       "      <td>1</td>\n",
       "      <td>grid.34477.33</td>\n",
       "      <td>https://app.dimensions.ai/discover/publication...</td>\n",
       "      <td>William Allen</td>\n",
       "      <td>ur.01333450725.21</td>\n",
       "      <td>Banks</td>\n",
       "    </tr>\n",
       "    <tr>\n",
       "      <th>999</th>\n",
       "      <td>1</td>\n",
       "      <td>NaN</td>\n",
       "      <td>https://app.dimensions.ai/discover/publication...</td>\n",
       "      <td>Sebastian</td>\n",
       "      <td>ur.01333600437.42</td>\n",
       "      <td>Seiguer</td>\n",
       "    </tr>\n",
       "  </tbody>\n",
       "</table>\n",
       "<p>1000 rows × 6 columns</p>\n",
       "</div>"
      ],
      "text/plain": [
       "     count current_research_org  \\\n",
       "0        8        grid.10698.36   \n",
       "1        5        grid.250415.7   \n",
       "2        5        grid.27873.39   \n",
       "3        5        grid.419407.f   \n",
       "4        5        grid.419407.f   \n",
       "..     ...                  ...   \n",
       "995      1                  NaN   \n",
       "996      1        grid.266539.d   \n",
       "997      1        grid.185648.6   \n",
       "998      1        grid.34477.33   \n",
       "999      1                  NaN   \n",
       "\n",
       "                                        dimensions_url     first_name  \\\n",
       "0    https://app.dimensions.ai/discover/publication...   Ralph Steven   \n",
       "1    https://app.dimensions.ai/discover/publication...       Lan-Ying   \n",
       "2    https://app.dimensions.ai/discover/publication...       Thomas L   \n",
       "3    https://app.dimensions.ai/discover/publication...        Leonard   \n",
       "4    https://app.dimensions.ai/discover/publication...         Beth R   \n",
       "..                                                 ...            ...   \n",
       "995  https://app.dimensions.ai/discover/publication...        James P   \n",
       "996  https://app.dimensions.ai/discover/publication...  Tyrone Finley   \n",
       "997  https://app.dimensions.ai/discover/publication...        Molly A   \n",
       "998  https://app.dimensions.ai/discover/publication...  William Allen   \n",
       "999  https://app.dimensions.ai/discover/publication...      Sebastian   \n",
       "\n",
       "                     id last_name  \n",
       "0    ur.016314333017.37     Baric  \n",
       "1     ur.01062044220.77        Du  \n",
       "2     ur.01253321507.46     Rudge  \n",
       "3    ur.015766321623.79  Freedman  \n",
       "4     ur.07545772505.38   Baseler  \n",
       "..                  ...       ...  \n",
       "995   ur.01333015172.88     Gibbs  \n",
       "996   ur.01333211447.09   Borders  \n",
       "997   ur.01333213051.13    Martin  \n",
       "998   ur.01333450725.21     Banks  \n",
       "999   ur.01333600437.42   Seiguer  \n",
       "\n",
       "[1000 rows x 6 columns]"
      ]
     },
     "execution_count": 61,
     "metadata": {},
     "output_type": "execute_result"
    }
   ],
   "source": [
    "# reusing the researchers list we created above\n",
    "researchers"
   ]
  },
  {
   "cell_type": "markdown",
   "metadata": {
    "Collapsed": "false"
   },
   "source": [
    "### Who else is funding these researchers?\n",
    "\n",
    "Steps\n",
    "\n",
    "* Extract all grants related to these researchers, in the last 10 years\n",
    "* Analyse the grants data eg by funder, by country, or by awardees  \n",
    "\n",
    "Let's review the API data model to understand what relationships are available:"
   ]
  },
  {
   "cell_type": "code",
   "execution_count": 62,
   "metadata": {
    "Collapsed": "false"
   },
   "outputs": [
    {
     "data": {
      "text/html": [
       "<img src=\"https://docs.dimensions.ai/dsl/_images/data-model-grants.png\" width=\"600\"/>"
      ],
      "text/plain": [
       "<IPython.core.display.Image object>"
      ]
     },
     "execution_count": 62,
     "metadata": {},
     "output_type": "execute_result"
    }
   ],
   "source": [
    "Image(url= \"https://docs.dimensions.ai/dsl/_images/data-model-grants.png\", width=600)"
   ]
  },
  {
   "cell_type": "code",
   "execution_count": 107,
   "metadata": {
    "Collapsed": "false"
   },
   "outputs": [
    {
     "data": {
      "application/vnd.jupyter.widget-view+json": {
       "model_id": "7ff6a98b9a2d4ab69b65a52b5714eb57",
       "version_major": 2,
       "version_minor": 0
      },
      "text/plain": [
       "  0%|          | 0/5 [00:00<?, ?it/s]"
      ]
     },
     "metadata": {},
     "output_type": "display_data"
    },
    {
     "name": "stderr",
     "output_type": "stream",
     "text": [
      "Starting iteration with limit=1000 skip=0 ...\u001b[0m\n",
      "0-1000 / 2640 (2.29s)\u001b[0m\n",
      "1000-2000 / 2640 (4.30s)\u001b[0m\n",
      "2000-2640 / 2640 (4.99s)\u001b[0m\n",
      "2640-2640 / 2640 (0.56s)\u001b[0m\n",
      "===\n",
      "Records extracted: 8983\u001b[0m\n",
      "Starting iteration with limit=1000 skip=0 ...\u001b[0m\n",
      "0-1000 / 1778 (2.49s)\u001b[0m\n",
      "1000-1778 / 1778 (4.14s)\u001b[0m\n",
      "1778-1778 / 1778 (0.56s)\u001b[0m\n",
      "===\n",
      "Records extracted: 3030\u001b[0m\n",
      "Starting iteration with limit=1000 skip=0 ...\u001b[0m\n",
      "0-1000 / 1673 (2.61s)\u001b[0m\n",
      "1000-1673 / 1673 (4.97s)\u001b[0m\n",
      "1673-1673 / 1673 (0.54s)\u001b[0m\n",
      "===\n",
      "Records extracted: 4251\u001b[0m\n",
      "Starting iteration with limit=1000 skip=0 ...\u001b[0m\n",
      "0-1000 / 1773 (2.13s)\u001b[0m\n",
      "1000-1773 / 1773 (4.35s)\u001b[0m\n",
      "1773-1773 / 1773 (0.57s)\u001b[0m\n",
      "===\n",
      "Records extracted: 2995\u001b[0m\n",
      "Starting iteration with limit=1000 skip=0 ...\u001b[0m\n",
      "0-1000 / 1632 (2.23s)\u001b[0m\n",
      "1000-1632 / 1632 (4.40s)\u001b[0m\n",
      "1632-1632 / 1632 (0.52s)\u001b[0m\n",
      "===\n",
      "Records extracted: 2618\u001b[0m\n"
     ]
    },
    {
     "name": "stdout",
     "output_type": "stream",
     "text": [
      "Grants:  21877\n",
      "Unique Grants:  9074\n",
      "Example:\n"
     ]
    },
    {
     "data": {
      "text/html": [
       "<div>\n",
       "<style scoped>\n",
       "    .dataframe tbody tr th:only-of-type {\n",
       "        vertical-align: middle;\n",
       "    }\n",
       "\n",
       "    .dataframe tbody tr th {\n",
       "        vertical-align: top;\n",
       "    }\n",
       "\n",
       "    .dataframe thead th {\n",
       "        text-align: right;\n",
       "    }\n",
       "</style>\n",
       "<table border=\"1\" class=\"dataframe\">\n",
       "  <thead>\n",
       "    <tr style=\"text-align: right;\">\n",
       "      <th></th>\n",
       "      <th>active_year</th>\n",
       "      <th>dimensions_url</th>\n",
       "      <th>funder_countries.id</th>\n",
       "      <th>funder_countries.name</th>\n",
       "      <th>funding_org_name</th>\n",
       "      <th>funding_usd</th>\n",
       "      <th>id</th>\n",
       "      <th>research_org_countries.id</th>\n",
       "      <th>research_org_countries.name</th>\n",
       "      <th>research_org_names</th>\n",
       "      <th>researchers</th>\n",
       "      <th>title</th>\n",
       "    </tr>\n",
       "  </thead>\n",
       "  <tbody>\n",
       "    <tr>\n",
       "      <th>0</th>\n",
       "      <td>[2021, 2022, 2023, 2024]</td>\n",
       "      <td>https://app.dimensions.ai/details/grant/grant....</td>\n",
       "      <td>US</td>\n",
       "      <td>United States</td>\n",
       "      <td>Congressionally Directed Medical Research Prog...</td>\n",
       "      <td>2345195.0</td>\n",
       "      <td>grant.9843026</td>\n",
       "      <td>US</td>\n",
       "      <td>United States</td>\n",
       "      <td>Gladstone Institutes</td>\n",
       "      <td>[{'first_name': 'Leor S', 'id': 'ur.0103733410...</td>\n",
       "      <td>Phase 1 Clinical Trial for Therapeutic Interve...</td>\n",
       "    </tr>\n",
       "    <tr>\n",
       "      <th>1</th>\n",
       "      <td>[2021, 2022, 2023, 2024]</td>\n",
       "      <td>https://app.dimensions.ai/details/grant/grant....</td>\n",
       "      <td>US</td>\n",
       "      <td>United States</td>\n",
       "      <td>National Heart Lung and Blood Institute</td>\n",
       "      <td>2615479.0</td>\n",
       "      <td>grant.9845908</td>\n",
       "      <td>US</td>\n",
       "      <td>United States</td>\n",
       "      <td>University of North Dakota</td>\n",
       "      <td>[{'first_name': 'Abraam M', 'id': 'ur.01040052...</td>\n",
       "      <td>SARS-CoV-2 tropism in the brain and its relati...</td>\n",
       "    </tr>\n",
       "    <tr>\n",
       "      <th>2</th>\n",
       "      <td>[2021, 2022, 2023]</td>\n",
       "      <td>https://app.dimensions.ai/details/grant/grant....</td>\n",
       "      <td>US</td>\n",
       "      <td>United States</td>\n",
       "      <td>National Institute of Allergy and Infectious D...</td>\n",
       "      <td>231250.0</td>\n",
       "      <td>grant.9846682</td>\n",
       "      <td>US</td>\n",
       "      <td>United States</td>\n",
       "      <td>University of Kansas Medical Center</td>\n",
       "      <td>[{'first_name': 'Jianming', 'id': 'ur.01002513...</td>\n",
       "      <td>Identification of the AAVR-independent AAV ent...</td>\n",
       "    </tr>\n",
       "    <tr>\n",
       "      <th>3</th>\n",
       "      <td>[2021, 2022, 2023, 2024]</td>\n",
       "      <td>https://app.dimensions.ai/details/grant/grant....</td>\n",
       "      <td>US</td>\n",
       "      <td>United States</td>\n",
       "      <td>National Institute of Allergy and Infectious D...</td>\n",
       "      <td>2820494.0</td>\n",
       "      <td>grant.9844836</td>\n",
       "      <td>US</td>\n",
       "      <td>United States</td>\n",
       "      <td>VXBIOSCIENCES, INC.</td>\n",
       "      <td>[{'first_name': 'Leor S', 'id': 'ur.0103733410...</td>\n",
       "      <td>Autonomously deploying, co-evolving SARS-CoV-2...</td>\n",
       "    </tr>\n",
       "    <tr>\n",
       "      <th>4</th>\n",
       "      <td>[2021, 2022, 2023, 2024, 2025, 2026]</td>\n",
       "      <td>https://app.dimensions.ai/details/grant/grant....</td>\n",
       "      <td>US</td>\n",
       "      <td>United States</td>\n",
       "      <td>Office of the Director</td>\n",
       "      <td>1977596.0</td>\n",
       "      <td>grant.9848803</td>\n",
       "      <td>US</td>\n",
       "      <td>United States</td>\n",
       "      <td>City University of New York</td>\n",
       "      <td>[{'first_name': 'Victoria Khanh', 'id': 'ur.01...</td>\n",
       "      <td>Harlem Strong Mental Health Coalition: A Multi...</td>\n",
       "    </tr>\n",
       "  </tbody>\n",
       "</table>\n",
       "</div>"
      ],
      "text/plain": [
       "                            active_year  \\\n",
       "0              [2021, 2022, 2023, 2024]   \n",
       "1              [2021, 2022, 2023, 2024]   \n",
       "2                    [2021, 2022, 2023]   \n",
       "3              [2021, 2022, 2023, 2024]   \n",
       "4  [2021, 2022, 2023, 2024, 2025, 2026]   \n",
       "\n",
       "                                      dimensions_url funder_countries.id  \\\n",
       "0  https://app.dimensions.ai/details/grant/grant....                  US   \n",
       "1  https://app.dimensions.ai/details/grant/grant....                  US   \n",
       "2  https://app.dimensions.ai/details/grant/grant....                  US   \n",
       "3  https://app.dimensions.ai/details/grant/grant....                  US   \n",
       "4  https://app.dimensions.ai/details/grant/grant....                  US   \n",
       "\n",
       "  funder_countries.name                                   funding_org_name  \\\n",
       "0         United States  Congressionally Directed Medical Research Prog...   \n",
       "1         United States            National Heart Lung and Blood Institute   \n",
       "2         United States  National Institute of Allergy and Infectious D...   \n",
       "3         United States  National Institute of Allergy and Infectious D...   \n",
       "4         United States                             Office of the Director   \n",
       "\n",
       "   funding_usd             id research_org_countries.id  \\\n",
       "0    2345195.0  grant.9843026                        US   \n",
       "1    2615479.0  grant.9845908                        US   \n",
       "2     231250.0  grant.9846682                        US   \n",
       "3    2820494.0  grant.9844836                        US   \n",
       "4    1977596.0  grant.9848803                        US   \n",
       "\n",
       "  research_org_countries.name                   research_org_names  \\\n",
       "0               United States                 Gladstone Institutes   \n",
       "1               United States           University of North Dakota   \n",
       "2               United States  University of Kansas Medical Center   \n",
       "3               United States                  VXBIOSCIENCES, INC.   \n",
       "4               United States          City University of New York   \n",
       "\n",
       "                                         researchers  \\\n",
       "0  [{'first_name': 'Leor S', 'id': 'ur.0103733410...   \n",
       "1  [{'first_name': 'Abraam M', 'id': 'ur.01040052...   \n",
       "2  [{'first_name': 'Jianming', 'id': 'ur.01002513...   \n",
       "3  [{'first_name': 'Leor S', 'id': 'ur.0103733410...   \n",
       "4  [{'first_name': 'Victoria Khanh', 'id': 'ur.01...   \n",
       "\n",
       "                                               title  \n",
       "0  Phase 1 Clinical Trial for Therapeutic Interve...  \n",
       "1  SARS-CoV-2 tropism in the brain and its relati...  \n",
       "2  Identification of the AAVR-independent AAV ent...  \n",
       "3  Autonomously deploying, co-evolving SARS-CoV-2...  \n",
       "4  Harlem Strong Mental Health Coalition: A Multi...  "
      ]
     },
     "execution_count": 107,
     "metadata": {},
     "output_type": "execute_result"
    }
   ],
   "source": [
    "# we get grants for all researchers, by segmenting the researchers list into groups of 300 IDs\n",
    "# this is because each DSL query can take max ~300 researchers at a time \n",
    "\n",
    "from tqdm.notebook import tqdm as progressbar\n",
    "researcher_ids = researchers['id'].to_list()\n",
    "\n",
    "#\n",
    "# TRIAL RUN: Uncomment this line to use less researchers and speed things up\n",
    "#\n",
    "# researcher_ids= researcher_ids[:200]\n",
    "\n",
    "\n",
    "#\n",
    "# the main API query\n",
    "#\n",
    "q = \"\"\"search grants\n",
    "          where researchers in {}\n",
    "       return grants[id+dimensions_url+researchers+title+active_year+funding_usd+funding_org_name+unnest(funder_countries)+unnest(research_org_countries)+unnest(research_org_names)]\"\"\"\n",
    "\n",
    "\n",
    "#\n",
    "# let's loop through all researcher IDs in chunks and query Dimensions\n",
    "#\n",
    "results = []\n",
    "for chunk in progressbar(list(chunks_of(list(researcher_ids), 200))):\n",
    "    data = dsl.query_iterative(q.format(json.dumps(chunk)), verbose=True)\n",
    "    results += data.grants\n",
    "    time.sleep(1)\n",
    "\n",
    "#\n",
    "# put the data into a dataframe, remove duplicates and save\n",
    "#\n",
    "grants = pd.DataFrame().from_dict(results)\n",
    "print(\"Grants: \", len(grants))\n",
    "grants.drop_duplicates(subset='id', inplace=True)\n",
    "print(\"Unique Grants: \", len(grants))\n",
    "\n",
    "#\n",
    "# preview\n",
    "#\n",
    "print(\"Example:\")\n",
    "grants.head(5)"
   ]
  },
  {
   "cell_type": "code",
   "execution_count": 108,
   "metadata": {
    "Collapsed": "false"
   },
   "outputs": [
    {
     "data": {
      "application/vnd.plotly.v1+json": {
       "config": {
        "plotlyServerURL": "https://plot.ly"
       },
       "data": [
        {
         "coloraxis": "coloraxis",
         "geo": "geo",
         "hovertemplate": "<b>%{hovertext}</b><br><br>funder_countries.name=%{location}<br>country_count=%{z}<extra></extra>",
         "hovertext": [
          "United States",
          "United Kingdom",
          "Switzerland",
          "Japan",
          "Canada",
          "Sweden",
          "Germany",
          "Australia",
          "Belgium",
          "France",
          "Norway",
          "Austria",
          "New Zealand",
          "Qatar",
          "China",
          "Croatia",
          "Bahamas",
          "South Africa",
          "Portugal",
          "Malaysia"
         ],
         "locationmode": "country names",
         "locations": [
          "United States",
          "United Kingdom",
          "Switzerland",
          "Japan",
          "Canada",
          "Sweden",
          "Germany",
          "Australia",
          "Belgium",
          "France",
          "Norway",
          "Austria",
          "New Zealand",
          "Qatar",
          "China",
          "Croatia",
          "Bahamas",
          "South Africa",
          "Portugal",
          "Malaysia"
         ],
         "name": "",
         "type": "choropleth",
         "z": [
          8503,
          61,
          26,
          105,
          244,
          9,
          38,
          32,
          2,
          19,
          2,
          4,
          3,
          14,
          7,
          1,
          1,
          1,
          1,
          1
         ]
        }
       ],
       "layout": {
        "autosize": true,
        "coloraxis": {
         "colorbar": {
          "title": {
           "text": "country_count"
          }
         },
         "colorscale": [
          [
           0,
           "#0d0887"
          ],
          [
           0.1111111111111111,
           "#46039f"
          ],
          [
           0.2222222222222222,
           "#7201a8"
          ],
          [
           0.3333333333333333,
           "#9c179e"
          ],
          [
           0.4444444444444444,
           "#bd3786"
          ],
          [
           0.5555555555555556,
           "#d8576b"
          ],
          [
           0.6666666666666666,
           "#ed7953"
          ],
          [
           0.7777777777777778,
           "#fb9f3a"
          ],
          [
           0.8888888888888888,
           "#fdca26"
          ],
          [
           1,
           "#f0f921"
          ]
         ]
        },
        "geo": {
         "center": {},
         "domain": {
          "x": [
           0,
           1
          ],
          "y": [
           0,
           1
          ]
         }
        },
        "legend": {
         "tracegroupgap": 0
        },
        "template": {
         "data": {
          "bar": [
           {
            "error_x": {
             "color": "#2a3f5f"
            },
            "error_y": {
             "color": "#2a3f5f"
            },
            "marker": {
             "line": {
              "color": "#E5ECF6",
              "width": 0.5
             },
             "pattern": {
              "fillmode": "overlay",
              "size": 10,
              "solidity": 0.2
             }
            },
            "type": "bar"
           }
          ],
          "barpolar": [
           {
            "marker": {
             "line": {
              "color": "#E5ECF6",
              "width": 0.5
             },
             "pattern": {
              "fillmode": "overlay",
              "size": 10,
              "solidity": 0.2
             }
            },
            "type": "barpolar"
           }
          ],
          "carpet": [
           {
            "aaxis": {
             "endlinecolor": "#2a3f5f",
             "gridcolor": "white",
             "linecolor": "white",
             "minorgridcolor": "white",
             "startlinecolor": "#2a3f5f"
            },
            "baxis": {
             "endlinecolor": "#2a3f5f",
             "gridcolor": "white",
             "linecolor": "white",
             "minorgridcolor": "white",
             "startlinecolor": "#2a3f5f"
            },
            "type": "carpet"
           }
          ],
          "choropleth": [
           {
            "colorbar": {
             "outlinewidth": 0,
             "ticks": ""
            },
            "type": "choropleth"
           }
          ],
          "contour": [
           {
            "colorbar": {
             "outlinewidth": 0,
             "ticks": ""
            },
            "colorscale": [
             [
              0,
              "#0d0887"
             ],
             [
              0.1111111111111111,
              "#46039f"
             ],
             [
              0.2222222222222222,
              "#7201a8"
             ],
             [
              0.3333333333333333,
              "#9c179e"
             ],
             [
              0.4444444444444444,
              "#bd3786"
             ],
             [
              0.5555555555555556,
              "#d8576b"
             ],
             [
              0.6666666666666666,
              "#ed7953"
             ],
             [
              0.7777777777777778,
              "#fb9f3a"
             ],
             [
              0.8888888888888888,
              "#fdca26"
             ],
             [
              1,
              "#f0f921"
             ]
            ],
            "type": "contour"
           }
          ],
          "contourcarpet": [
           {
            "colorbar": {
             "outlinewidth": 0,
             "ticks": ""
            },
            "type": "contourcarpet"
           }
          ],
          "heatmap": [
           {
            "colorbar": {
             "outlinewidth": 0,
             "ticks": ""
            },
            "colorscale": [
             [
              0,
              "#0d0887"
             ],
             [
              0.1111111111111111,
              "#46039f"
             ],
             [
              0.2222222222222222,
              "#7201a8"
             ],
             [
              0.3333333333333333,
              "#9c179e"
             ],
             [
              0.4444444444444444,
              "#bd3786"
             ],
             [
              0.5555555555555556,
              "#d8576b"
             ],
             [
              0.6666666666666666,
              "#ed7953"
             ],
             [
              0.7777777777777778,
              "#fb9f3a"
             ],
             [
              0.8888888888888888,
              "#fdca26"
             ],
             [
              1,
              "#f0f921"
             ]
            ],
            "type": "heatmap"
           }
          ],
          "heatmapgl": [
           {
            "colorbar": {
             "outlinewidth": 0,
             "ticks": ""
            },
            "colorscale": [
             [
              0,
              "#0d0887"
             ],
             [
              0.1111111111111111,
              "#46039f"
             ],
             [
              0.2222222222222222,
              "#7201a8"
             ],
             [
              0.3333333333333333,
              "#9c179e"
             ],
             [
              0.4444444444444444,
              "#bd3786"
             ],
             [
              0.5555555555555556,
              "#d8576b"
             ],
             [
              0.6666666666666666,
              "#ed7953"
             ],
             [
              0.7777777777777778,
              "#fb9f3a"
             ],
             [
              0.8888888888888888,
              "#fdca26"
             ],
             [
              1,
              "#f0f921"
             ]
            ],
            "type": "heatmapgl"
           }
          ],
          "histogram": [
           {
            "marker": {
             "pattern": {
              "fillmode": "overlay",
              "size": 10,
              "solidity": 0.2
             }
            },
            "type": "histogram"
           }
          ],
          "histogram2d": [
           {
            "colorbar": {
             "outlinewidth": 0,
             "ticks": ""
            },
            "colorscale": [
             [
              0,
              "#0d0887"
             ],
             [
              0.1111111111111111,
              "#46039f"
             ],
             [
              0.2222222222222222,
              "#7201a8"
             ],
             [
              0.3333333333333333,
              "#9c179e"
             ],
             [
              0.4444444444444444,
              "#bd3786"
             ],
             [
              0.5555555555555556,
              "#d8576b"
             ],
             [
              0.6666666666666666,
              "#ed7953"
             ],
             [
              0.7777777777777778,
              "#fb9f3a"
             ],
             [
              0.8888888888888888,
              "#fdca26"
             ],
             [
              1,
              "#f0f921"
             ]
            ],
            "type": "histogram2d"
           }
          ],
          "histogram2dcontour": [
           {
            "colorbar": {
             "outlinewidth": 0,
             "ticks": ""
            },
            "colorscale": [
             [
              0,
              "#0d0887"
             ],
             [
              0.1111111111111111,
              "#46039f"
             ],
             [
              0.2222222222222222,
              "#7201a8"
             ],
             [
              0.3333333333333333,
              "#9c179e"
             ],
             [
              0.4444444444444444,
              "#bd3786"
             ],
             [
              0.5555555555555556,
              "#d8576b"
             ],
             [
              0.6666666666666666,
              "#ed7953"
             ],
             [
              0.7777777777777778,
              "#fb9f3a"
             ],
             [
              0.8888888888888888,
              "#fdca26"
             ],
             [
              1,
              "#f0f921"
             ]
            ],
            "type": "histogram2dcontour"
           }
          ],
          "mesh3d": [
           {
            "colorbar": {
             "outlinewidth": 0,
             "ticks": ""
            },
            "type": "mesh3d"
           }
          ],
          "parcoords": [
           {
            "line": {
             "colorbar": {
              "outlinewidth": 0,
              "ticks": ""
             }
            },
            "type": "parcoords"
           }
          ],
          "pie": [
           {
            "automargin": true,
            "type": "pie"
           }
          ],
          "scatter": [
           {
            "marker": {
             "colorbar": {
              "outlinewidth": 0,
              "ticks": ""
             }
            },
            "type": "scatter"
           }
          ],
          "scatter3d": [
           {
            "line": {
             "colorbar": {
              "outlinewidth": 0,
              "ticks": ""
             }
            },
            "marker": {
             "colorbar": {
              "outlinewidth": 0,
              "ticks": ""
             }
            },
            "type": "scatter3d"
           }
          ],
          "scattercarpet": [
           {
            "marker": {
             "colorbar": {
              "outlinewidth": 0,
              "ticks": ""
             }
            },
            "type": "scattercarpet"
           }
          ],
          "scattergeo": [
           {
            "marker": {
             "colorbar": {
              "outlinewidth": 0,
              "ticks": ""
             }
            },
            "type": "scattergeo"
           }
          ],
          "scattergl": [
           {
            "marker": {
             "colorbar": {
              "outlinewidth": 0,
              "ticks": ""
             }
            },
            "type": "scattergl"
           }
          ],
          "scattermapbox": [
           {
            "marker": {
             "colorbar": {
              "outlinewidth": 0,
              "ticks": ""
             }
            },
            "type": "scattermapbox"
           }
          ],
          "scatterpolar": [
           {
            "marker": {
             "colorbar": {
              "outlinewidth": 0,
              "ticks": ""
             }
            },
            "type": "scatterpolar"
           }
          ],
          "scatterpolargl": [
           {
            "marker": {
             "colorbar": {
              "outlinewidth": 0,
              "ticks": ""
             }
            },
            "type": "scatterpolargl"
           }
          ],
          "scatterternary": [
           {
            "marker": {
             "colorbar": {
              "outlinewidth": 0,
              "ticks": ""
             }
            },
            "type": "scatterternary"
           }
          ],
          "surface": [
           {
            "colorbar": {
             "outlinewidth": 0,
             "ticks": ""
            },
            "colorscale": [
             [
              0,
              "#0d0887"
             ],
             [
              0.1111111111111111,
              "#46039f"
             ],
             [
              0.2222222222222222,
              "#7201a8"
             ],
             [
              0.3333333333333333,
              "#9c179e"
             ],
             [
              0.4444444444444444,
              "#bd3786"
             ],
             [
              0.5555555555555556,
              "#d8576b"
             ],
             [
              0.6666666666666666,
              "#ed7953"
             ],
             [
              0.7777777777777778,
              "#fb9f3a"
             ],
             [
              0.8888888888888888,
              "#fdca26"
             ],
             [
              1,
              "#f0f921"
             ]
            ],
            "type": "surface"
           }
          ],
          "table": [
           {
            "cells": {
             "fill": {
              "color": "#EBF0F8"
             },
             "line": {
              "color": "white"
             }
            },
            "header": {
             "fill": {
              "color": "#C8D4E3"
             },
             "line": {
              "color": "white"
             }
            },
            "type": "table"
           }
          ]
         },
         "layout": {
          "annotationdefaults": {
           "arrowcolor": "#2a3f5f",
           "arrowhead": 0,
           "arrowwidth": 1
          },
          "autotypenumbers": "strict",
          "coloraxis": {
           "colorbar": {
            "outlinewidth": 0,
            "ticks": ""
           }
          },
          "colorscale": {
           "diverging": [
            [
             0,
             "#8e0152"
            ],
            [
             0.1,
             "#c51b7d"
            ],
            [
             0.2,
             "#de77ae"
            ],
            [
             0.3,
             "#f1b6da"
            ],
            [
             0.4,
             "#fde0ef"
            ],
            [
             0.5,
             "#f7f7f7"
            ],
            [
             0.6,
             "#e6f5d0"
            ],
            [
             0.7,
             "#b8e186"
            ],
            [
             0.8,
             "#7fbc41"
            ],
            [
             0.9,
             "#4d9221"
            ],
            [
             1,
             "#276419"
            ]
           ],
           "sequential": [
            [
             0,
             "#0d0887"
            ],
            [
             0.1111111111111111,
             "#46039f"
            ],
            [
             0.2222222222222222,
             "#7201a8"
            ],
            [
             0.3333333333333333,
             "#9c179e"
            ],
            [
             0.4444444444444444,
             "#bd3786"
            ],
            [
             0.5555555555555556,
             "#d8576b"
            ],
            [
             0.6666666666666666,
             "#ed7953"
            ],
            [
             0.7777777777777778,
             "#fb9f3a"
            ],
            [
             0.8888888888888888,
             "#fdca26"
            ],
            [
             1,
             "#f0f921"
            ]
           ],
           "sequentialminus": [
            [
             0,
             "#0d0887"
            ],
            [
             0.1111111111111111,
             "#46039f"
            ],
            [
             0.2222222222222222,
             "#7201a8"
            ],
            [
             0.3333333333333333,
             "#9c179e"
            ],
            [
             0.4444444444444444,
             "#bd3786"
            ],
            [
             0.5555555555555556,
             "#d8576b"
            ],
            [
             0.6666666666666666,
             "#ed7953"
            ],
            [
             0.7777777777777778,
             "#fb9f3a"
            ],
            [
             0.8888888888888888,
             "#fdca26"
            ],
            [
             1,
             "#f0f921"
            ]
           ]
          },
          "colorway": [
           "#636efa",
           "#EF553B",
           "#00cc96",
           "#ab63fa",
           "#FFA15A",
           "#19d3f3",
           "#FF6692",
           "#B6E880",
           "#FF97FF",
           "#FECB52"
          ],
          "font": {
           "color": "#2a3f5f"
          },
          "geo": {
           "bgcolor": "white",
           "lakecolor": "white",
           "landcolor": "#E5ECF6",
           "showlakes": true,
           "showland": true,
           "subunitcolor": "white"
          },
          "hoverlabel": {
           "align": "left"
          },
          "hovermode": "closest",
          "mapbox": {
           "style": "light"
          },
          "paper_bgcolor": "white",
          "plot_bgcolor": "#E5ECF6",
          "polar": {
           "angularaxis": {
            "gridcolor": "white",
            "linecolor": "white",
            "ticks": ""
           },
           "bgcolor": "#E5ECF6",
           "radialaxis": {
            "gridcolor": "white",
            "linecolor": "white",
            "ticks": ""
           }
          },
          "scene": {
           "xaxis": {
            "backgroundcolor": "#E5ECF6",
            "gridcolor": "white",
            "gridwidth": 2,
            "linecolor": "white",
            "showbackground": true,
            "ticks": "",
            "zerolinecolor": "white"
           },
           "yaxis": {
            "backgroundcolor": "#E5ECF6",
            "gridcolor": "white",
            "gridwidth": 2,
            "linecolor": "white",
            "showbackground": true,
            "ticks": "",
            "zerolinecolor": "white"
           },
           "zaxis": {
            "backgroundcolor": "#E5ECF6",
            "gridcolor": "white",
            "gridwidth": 2,
            "linecolor": "white",
            "showbackground": true,
            "ticks": "",
            "zerolinecolor": "white"
           }
          },
          "shapedefaults": {
           "line": {
            "color": "#2a3f5f"
           }
          },
          "ternary": {
           "aaxis": {
            "gridcolor": "white",
            "linecolor": "white",
            "ticks": ""
           },
           "baxis": {
            "gridcolor": "white",
            "linecolor": "white",
            "ticks": ""
           },
           "bgcolor": "#E5ECF6",
           "caxis": {
            "gridcolor": "white",
            "linecolor": "white",
            "ticks": ""
           }
          },
          "title": {
           "x": 0.05
          },
          "xaxis": {
           "automargin": true,
           "gridcolor": "white",
           "linecolor": "white",
           "ticks": "",
           "title": {
            "standoff": 15
           },
           "zerolinecolor": "white",
           "zerolinewidth": 2
          },
          "yaxis": {
           "automargin": true,
           "gridcolor": "white",
           "linecolor": "white",
           "ticks": "",
           "title": {
            "standoff": 15
           },
           "zerolinecolor": "white",
           "zerolinewidth": 2
          }
         }
        },
        "title": {
         "text": "Funder countries - aggregated view "
        }
       }
      },
      "image/png": "[encoded data removed]",
      "text/html": [
       "<div>                            <div id=\"51ebdfb9-2289-4cfa-a6d0-35da68fec131\" class=\"plotly-graph-div\" style=\"height:525px; width:100%;\"></div>            <script type=\"text/javascript\">                require([\"plotly\"], function(Plotly) {                    window.PLOTLYENV=window.PLOTLYENV || {};                                    if (document.getElementById(\"51ebdfb9-2289-4cfa-a6d0-35da68fec131\")) {                    Plotly.newPlot(                        \"51ebdfb9-2289-4cfa-a6d0-35da68fec131\",                        [{\"coloraxis\":\"coloraxis\",\"geo\":\"geo\",\"hovertemplate\":\"<b>%{hovertext}</b><br><br>funder_countries.name=%{location}<br>country_count=%{z}<extra></extra>\",\"hovertext\":[\"United States\",\"United Kingdom\",\"Switzerland\",\"Japan\",\"Canada\",\"Sweden\",\"Germany\",\"Australia\",\"Belgium\",\"France\",\"Norway\",\"Austria\",\"New Zealand\",\"Qatar\",\"China\",\"Croatia\",\"Bahamas\",\"South Africa\",\"Portugal\",\"Malaysia\"],\"locationmode\":\"country names\",\"locations\":[\"United States\",\"United Kingdom\",\"Switzerland\",\"Japan\",\"Canada\",\"Sweden\",\"Germany\",\"Australia\",\"Belgium\",\"France\",\"Norway\",\"Austria\",\"New Zealand\",\"Qatar\",\"China\",\"Croatia\",\"Bahamas\",\"South Africa\",\"Portugal\",\"Malaysia\"],\"name\":\"\",\"type\":\"choropleth\",\"z\":[8503,61,26,105,244,9,38,32,2,19,2,4,3,14,7,1,1,1,1,1]}],                        {\"coloraxis\":{\"colorbar\":{\"title\":{\"text\":\"country_count\"}},\"colorscale\":[[0.0,\"#0d0887\"],[0.1111111111111111,\"#46039f\"],[0.2222222222222222,\"#7201a8\"],[0.3333333333333333,\"#9c179e\"],[0.4444444444444444,\"#bd3786\"],[0.5555555555555556,\"#d8576b\"],[0.6666666666666666,\"#ed7953\"],[0.7777777777777778,\"#fb9f3a\"],[0.8888888888888888,\"#fdca26\"],[1.0,\"#f0f921\"]]},\"geo\":{\"center\":{},\"domain\":{\"x\":[0.0,1.0],\"y\":[0.0,1.0]}},\"legend\":{\"tracegroupgap\":0},\"template\":{\"data\":{\"bar\":[{\"error_x\":{\"color\":\"#2a3f5f\"},\"error_y\":{\"color\":\"#2a3f5f\"},\"marker\":{\"line\":{\"color\":\"#E5ECF6\",\"width\":0.5},\"pattern\":{\"fillmode\":\"overlay\",\"size\":10,\"solidity\":0.2}},\"type\":\"bar\"}],\"barpolar\":[{\"marker\":{\"line\":{\"color\":\"#E5ECF6\",\"width\":0.5},\"pattern\":{\"fillmode\":\"overlay\",\"size\":10,\"solidity\":0.2}},\"type\":\"barpolar\"}],\"carpet\":[{\"aaxis\":{\"endlinecolor\":\"#2a3f5f\",\"gridcolor\":\"white\",\"linecolor\":\"white\",\"minorgridcolor\":\"white\",\"startlinecolor\":\"#2a3f5f\"},\"baxis\":{\"endlinecolor\":\"#2a3f5f\",\"gridcolor\":\"white\",\"linecolor\":\"white\",\"minorgridcolor\":\"white\",\"startlinecolor\":\"#2a3f5f\"},\"type\":\"carpet\"}],\"choropleth\":[{\"colorbar\":{\"outlinewidth\":0,\"ticks\":\"\"},\"type\":\"choropleth\"}],\"contour\":[{\"colorbar\":{\"outlinewidth\":0,\"ticks\":\"\"},\"colorscale\":[[0.0,\"#0d0887\"],[0.1111111111111111,\"#46039f\"],[0.2222222222222222,\"#7201a8\"],[0.3333333333333333,\"#9c179e\"],[0.4444444444444444,\"#bd3786\"],[0.5555555555555556,\"#d8576b\"],[0.6666666666666666,\"#ed7953\"],[0.7777777777777778,\"#fb9f3a\"],[0.8888888888888888,\"#fdca26\"],[1.0,\"#f0f921\"]],\"type\":\"contour\"}],\"contourcarpet\":[{\"colorbar\":{\"outlinewidth\":0,\"ticks\":\"\"},\"type\":\"contourcarpet\"}],\"heatmap\":[{\"colorbar\":{\"outlinewidth\":0,\"ticks\":\"\"},\"colorscale\":[[0.0,\"#0d0887\"],[0.1111111111111111,\"#46039f\"],[0.2222222222222222,\"#7201a8\"],[0.3333333333333333,\"#9c179e\"],[0.4444444444444444,\"#bd3786\"],[0.5555555555555556,\"#d8576b\"],[0.6666666666666666,\"#ed7953\"],[0.7777777777777778,\"#fb9f3a\"],[0.8888888888888888,\"#fdca26\"],[1.0,\"#f0f921\"]],\"type\":\"heatmap\"}],\"heatmapgl\":[{\"colorbar\":{\"outlinewidth\":0,\"ticks\":\"\"},\"colorscale\":[[0.0,\"#0d0887\"],[0.1111111111111111,\"#46039f\"],[0.2222222222222222,\"#7201a8\"],[0.3333333333333333,\"#9c179e\"],[0.4444444444444444,\"#bd3786\"],[0.5555555555555556,\"#d8576b\"],[0.6666666666666666,\"#ed7953\"],[0.7777777777777778,\"#fb9f3a\"],[0.8888888888888888,\"#fdca26\"],[1.0,\"#f0f921\"]],\"type\":\"heatmapgl\"}],\"histogram\":[{\"marker\":{\"pattern\":{\"fillmode\":\"overlay\",\"size\":10,\"solidity\":0.2}},\"type\":\"histogram\"}],\"histogram2d\":[{\"colorbar\":{\"outlinewidth\":0,\"ticks\":\"\"},\"colorscale\":[[0.0,\"#0d0887\"],[0.1111111111111111,\"#46039f\"],[0.2222222222222222,\"#7201a8\"],[0.3333333333333333,\"#9c179e\"],[0.4444444444444444,\"#bd3786\"],[0.5555555555555556,\"#d8576b\"],[0.6666666666666666,\"#ed7953\"],[0.7777777777777778,\"#fb9f3a\"],[0.8888888888888888,\"#fdca26\"],[1.0,\"#f0f921\"]],\"type\":\"histogram2d\"}],\"histogram2dcontour\":[{\"colorbar\":{\"outlinewidth\":0,\"ticks\":\"\"},\"colorscale\":[[0.0,\"#0d0887\"],[0.1111111111111111,\"#46039f\"],[0.2222222222222222,\"#7201a8\"],[0.3333333333333333,\"#9c179e\"],[0.4444444444444444,\"#bd3786\"],[0.5555555555555556,\"#d8576b\"],[0.6666666666666666,\"#ed7953\"],[0.7777777777777778,\"#fb9f3a\"],[0.8888888888888888,\"#fdca26\"],[1.0,\"#f0f921\"]],\"type\":\"histogram2dcontour\"}],\"mesh3d\":[{\"colorbar\":{\"outlinewidth\":0,\"ticks\":\"\"},\"type\":\"mesh3d\"}],\"parcoords\":[{\"line\":{\"colorbar\":{\"outlinewidth\":0,\"ticks\":\"\"}},\"type\":\"parcoords\"}],\"pie\":[{\"automargin\":true,\"type\":\"pie\"}],\"scatter\":[{\"marker\":{\"colorbar\":{\"outlinewidth\":0,\"ticks\":\"\"}},\"type\":\"scatter\"}],\"scatter3d\":[{\"line\":{\"colorbar\":{\"outlinewidth\":0,\"ticks\":\"\"}},\"marker\":{\"colorbar\":{\"outlinewidth\":0,\"ticks\":\"\"}},\"type\":\"scatter3d\"}],\"scattercarpet\":[{\"marker\":{\"colorbar\":{\"outlinewidth\":0,\"ticks\":\"\"}},\"type\":\"scattercarpet\"}],\"scattergeo\":[{\"marker\":{\"colorbar\":{\"outlinewidth\":0,\"ticks\":\"\"}},\"type\":\"scattergeo\"}],\"scattergl\":[{\"marker\":{\"colorbar\":{\"outlinewidth\":0,\"ticks\":\"\"}},\"type\":\"scattergl\"}],\"scattermapbox\":[{\"marker\":{\"colorbar\":{\"outlinewidth\":0,\"ticks\":\"\"}},\"type\":\"scattermapbox\"}],\"scatterpolar\":[{\"marker\":{\"colorbar\":{\"outlinewidth\":0,\"ticks\":\"\"}},\"type\":\"scatterpolar\"}],\"scatterpolargl\":[{\"marker\":{\"colorbar\":{\"outlinewidth\":0,\"ticks\":\"\"}},\"type\":\"scatterpolargl\"}],\"scatterternary\":[{\"marker\":{\"colorbar\":{\"outlinewidth\":0,\"ticks\":\"\"}},\"type\":\"scatterternary\"}],\"surface\":[{\"colorbar\":{\"outlinewidth\":0,\"ticks\":\"\"},\"colorscale\":[[0.0,\"#0d0887\"],[0.1111111111111111,\"#46039f\"],[0.2222222222222222,\"#7201a8\"],[0.3333333333333333,\"#9c179e\"],[0.4444444444444444,\"#bd3786\"],[0.5555555555555556,\"#d8576b\"],[0.6666666666666666,\"#ed7953\"],[0.7777777777777778,\"#fb9f3a\"],[0.8888888888888888,\"#fdca26\"],[1.0,\"#f0f921\"]],\"type\":\"surface\"}],\"table\":[{\"cells\":{\"fill\":{\"color\":\"#EBF0F8\"},\"line\":{\"color\":\"white\"}},\"header\":{\"fill\":{\"color\":\"#C8D4E3\"},\"line\":{\"color\":\"white\"}},\"type\":\"table\"}]},\"layout\":{\"annotationdefaults\":{\"arrowcolor\":\"#2a3f5f\",\"arrowhead\":0,\"arrowwidth\":1},\"autotypenumbers\":\"strict\",\"coloraxis\":{\"colorbar\":{\"outlinewidth\":0,\"ticks\":\"\"}},\"colorscale\":{\"diverging\":[[0,\"#8e0152\"],[0.1,\"#c51b7d\"],[0.2,\"#de77ae\"],[0.3,\"#f1b6da\"],[0.4,\"#fde0ef\"],[0.5,\"#f7f7f7\"],[0.6,\"#e6f5d0\"],[0.7,\"#b8e186\"],[0.8,\"#7fbc41\"],[0.9,\"#4d9221\"],[1,\"#276419\"]],\"sequential\":[[0.0,\"#0d0887\"],[0.1111111111111111,\"#46039f\"],[0.2222222222222222,\"#7201a8\"],[0.3333333333333333,\"#9c179e\"],[0.4444444444444444,\"#bd3786\"],[0.5555555555555556,\"#d8576b\"],[0.6666666666666666,\"#ed7953\"],[0.7777777777777778,\"#fb9f3a\"],[0.8888888888888888,\"#fdca26\"],[1.0,\"#f0f921\"]],\"sequentialminus\":[[0.0,\"#0d0887\"],[0.1111111111111111,\"#46039f\"],[0.2222222222222222,\"#7201a8\"],[0.3333333333333333,\"#9c179e\"],[0.4444444444444444,\"#bd3786\"],[0.5555555555555556,\"#d8576b\"],[0.6666666666666666,\"#ed7953\"],[0.7777777777777778,\"#fb9f3a\"],[0.8888888888888888,\"#fdca26\"],[1.0,\"#f0f921\"]]},\"colorway\":[\"#636efa\",\"#EF553B\",\"#00cc96\",\"#ab63fa\",\"#FFA15A\",\"#19d3f3\",\"#FF6692\",\"#B6E880\",\"#FF97FF\",\"#FECB52\"],\"font\":{\"color\":\"#2a3f5f\"},\"geo\":{\"bgcolor\":\"white\",\"lakecolor\":\"white\",\"landcolor\":\"#E5ECF6\",\"showlakes\":true,\"showland\":true,\"subunitcolor\":\"white\"},\"hoverlabel\":{\"align\":\"left\"},\"hovermode\":\"closest\",\"mapbox\":{\"style\":\"light\"},\"paper_bgcolor\":\"white\",\"plot_bgcolor\":\"#E5ECF6\",\"polar\":{\"angularaxis\":{\"gridcolor\":\"white\",\"linecolor\":\"white\",\"ticks\":\"\"},\"bgcolor\":\"#E5ECF6\",\"radialaxis\":{\"gridcolor\":\"white\",\"linecolor\":\"white\",\"ticks\":\"\"}},\"scene\":{\"xaxis\":{\"backgroundcolor\":\"#E5ECF6\",\"gridcolor\":\"white\",\"gridwidth\":2,\"linecolor\":\"white\",\"showbackground\":true,\"ticks\":\"\",\"zerolinecolor\":\"white\"},\"yaxis\":{\"backgroundcolor\":\"#E5ECF6\",\"gridcolor\":\"white\",\"gridwidth\":2,\"linecolor\":\"white\",\"showbackground\":true,\"ticks\":\"\",\"zerolinecolor\":\"white\"},\"zaxis\":{\"backgroundcolor\":\"#E5ECF6\",\"gridcolor\":\"white\",\"gridwidth\":2,\"linecolor\":\"white\",\"showbackground\":true,\"ticks\":\"\",\"zerolinecolor\":\"white\"}},\"shapedefaults\":{\"line\":{\"color\":\"#2a3f5f\"}},\"ternary\":{\"aaxis\":{\"gridcolor\":\"white\",\"linecolor\":\"white\",\"ticks\":\"\"},\"baxis\":{\"gridcolor\":\"white\",\"linecolor\":\"white\",\"ticks\":\"\"},\"bgcolor\":\"#E5ECF6\",\"caxis\":{\"gridcolor\":\"white\",\"linecolor\":\"white\",\"ticks\":\"\"}},\"title\":{\"x\":0.05},\"xaxis\":{\"automargin\":true,\"gridcolor\":\"white\",\"linecolor\":\"white\",\"ticks\":\"\",\"title\":{\"standoff\":15},\"zerolinecolor\":\"white\",\"zerolinewidth\":2},\"yaxis\":{\"automargin\":true,\"gridcolor\":\"white\",\"linecolor\":\"white\",\"ticks\":\"\",\"title\":{\"standoff\":15},\"zerolinecolor\":\"white\",\"zerolinewidth\":2}}},\"title\":{\"text\":\"Funder countries - aggregated view \"}},                        {\"responsive\": true}                    ).then(function(){\n",
       "                            \n",
       "var gd = document.getElementById('51ebdfb9-2289-4cfa-a6d0-35da68fec131');\n",
       "var x = new MutationObserver(function (mutations, observer) {{\n",
       "        var display = window.getComputedStyle(gd).display;\n",
       "        if (!display || display === 'none') {{\n",
       "            console.log([gd, 'removed!']);\n",
       "            Plotly.purge(gd);\n",
       "            observer.disconnect();\n",
       "        }}\n",
       "}});\n",
       "\n",
       "// Listen for the removal of the full notebook cells\n",
       "var notebookContainer = gd.closest('#notebook-container');\n",
       "if (notebookContainer) {{\n",
       "    x.observe(notebookContainer, {childList: true});\n",
       "}}\n",
       "\n",
       "// Listen for the clearing of the current output cell\n",
       "var outputEl = gd.closest('.output');\n",
       "if (outputEl) {{\n",
       "    x.observe(outputEl, {childList: true});\n",
       "}}\n",
       "\n",
       "                        })                };                });            </script>        </div>"
      ]
     },
     "metadata": {},
     "output_type": "display_data"
    }
   ],
   "source": [
    "# fix empty values\n",
    "grants.fillna(0, inplace=True) \n",
    "# add aggregated counts\n",
    "grants['country_count'] = grants.groupby('funder_countries.name')['id'].transform('count')\n",
    "grants['country_funding'] = grants.groupby('funder_countries.name')['funding_usd'].transform('sum')\n",
    "\n",
    "gsubset = grants[['funder_countries.name', 'country_count']]\n",
    "px.choropleth(gsubset.drop_duplicates(), \n",
    "                  locations=\"funder_countries.name\",\n",
    "                  locationmode=\"country names\",\n",
    "                  color=\"country_count\", \n",
    "                  hover_name=\"funder_countries.name\",\n",
    "                  color_continuous_scale=px.colors.sequential.Plasma,\n",
    "                  title=\"Funder countries - aggregated view \")"
   ]
  },
  {
   "cell_type": "code",
   "execution_count": 112,
   "metadata": {
    "Collapsed": "false"
   },
   "outputs": [
    {
     "data": {
      "application/vnd.plotly.v1+json": {
       "config": {
        "plotlyServerURL": "https://plot.ly"
       },
       "data": [
        {
         "hovertemplate": "funder_countries.name=United Kingdom<br>research_org_names=%{x}<br>funding_org_name=%{y}<extra></extra>",
         "legendgroup": "United Kingdom",
         "marker": {
          "color": "#636efa",
          "symbol": "circle"
         },
         "mode": "markers",
         "name": "United Kingdom",
         "orientation": "v",
         "showlegend": true,
         "type": "scatter",
         "visible": "legendonly",
         "x": [
          "King's College London",
          "University of Birmingham",
          "University of Edinburgh",
          "University of Cambridge",
          "Drexel University",
          "University College London",
          "Icahn School of Medicine at Mount Sinai",
          "Tulane University",
          "Cayetano Heredia University",
          "Cayetano Heredia University",
          "Imperial College London",
          "Cayetano Heredia University",
          "Cayetano Heredia University",
          "Brown University",
          "University of Liverpool",
          "Imperial College London",
          "Keele University",
          "Imperial College London",
          "Imperial College London",
          "Imperial College London",
          "St George's Hospital",
          "Moorfields Eye Hospital NHS Foundation Trust",
          "Johns Hopkins University",
          "London School of Hygiene & Tropical Medicine",
          "Johns Hopkins University",
          "Duke-NUS Graduate Medical School",
          "University College London",
          "University of Amsterdam",
          "St. Jude Children's Research Hospital",
          "Weizmann Institute of Science",
          "Newcastle University",
          "University College London",
          "University College London",
          "London School of Hygiene & Tropical Medicine",
          "London School of Hygiene & Tropical Medicine",
          "University of Southampton",
          "Imperial College London",
          "University of Southampton",
          "University of Southampton",
          "University of Southampton",
          "University of Southampton",
          "University of Southampton",
          "University of Southampton",
          "University of Southampton",
          "University of Southampton",
          "University of Southampton",
          "University of Southampton",
          "University of Edinburgh",
          "University of Southampton",
          "University of Southampton",
          "University of Southampton",
          "University of Southampton",
          "University Hospital Southampton NHS Foundation Trust",
          "University of Southampton",
          "University of Southampton",
          "University of Southampton",
          "None",
          "University of Southampton",
          "University of Montreal",
          "University of Southampton",
          "University of Southampton"
         ],
         "xaxis": "x",
         "y": [
          "Medical Research Council",
          "Wellcome Trust",
          "Wellcome Trust",
          "Wellcome Trust",
          "Wellcome Trust",
          "Wellcome Trust",
          "Medical Research Council",
          "Wellcome Trust",
          "Wellcome Trust",
          "Wellcome Trust",
          "Medical Research Council",
          "Wellcome Trust",
          "Wellcome Trust",
          "Medical Research Council",
          "Wellcome Trust",
          "Wellcome Trust",
          "Wellcome Trust",
          "Wellcome Trust",
          "Wellcome Trust",
          "Wellcome Trust",
          "Medical Research Council",
          "Medical Research Council",
          "Wellcome Trust",
          "Wellcome Trust",
          "Wellcome Trust",
          "Medical Research Council",
          "Wellcome Trust",
          "Medical Research Council",
          "Medical Research Council",
          "Medical Research Council",
          "Medical Research Council",
          "Wellcome Trust",
          "Wellcome Trust",
          "Medical Research Council",
          "Medical Research Council",
          "Medical Research Council",
          "Wellcome Trust",
          "Cancer Research UK",
          "Cancer Research UK",
          "Cancer Research UK",
          "Cancer Research UK",
          "Cancer Research UK",
          "Cancer Research UK",
          "Cancer Research UK",
          "Cancer Research UK",
          "Blood Cancer UK",
          "Cancer Research UK",
          "Royal Society",
          "Cancer Research UK",
          "Cancer Research UK",
          "Cancer Research UK",
          "Cancer Research UK",
          "Medical Research Council",
          "Blood Cancer UK",
          "Cancer Research UK",
          "Cancer Research UK",
          "Cancer Research UK",
          "Cancer Research UK",
          "Wellcome Trust",
          "Cancer Research UK",
          "Cancer Research UK"
         ],
         "yaxis": "y"
        },
        {
         "alignmentgroup": "True",
         "bingroup": "x",
         "hovertemplate": "funder_countries.name=United Kingdom<br>research_org_names=%{x}<br>count=%{y}<extra></extra>",
         "legendgroup": "United Kingdom",
         "marker": {
          "color": "#636efa"
         },
         "name": "United Kingdom",
         "offsetgroup": "United Kingdom",
         "opacity": 0.5,
         "showlegend": false,
         "type": "histogram",
         "visible": "legendonly",
         "x": [
          "King's College London",
          "University of Birmingham",
          "University of Edinburgh",
          "University of Cambridge",
          "Drexel University",
          "University College London",
          "Icahn School of Medicine at Mount Sinai",
          "Tulane University",
          "Cayetano Heredia University",
          "Cayetano Heredia University",
          "Imperial College London",
          "Cayetano Heredia University",
          "Cayetano Heredia University",
          "Brown University",
          "University of Liverpool",
          "Imperial College London",
          "Keele University",
          "Imperial College London",
          "Imperial College London",
          "Imperial College London",
          "St George's Hospital",
          "Moorfields Eye Hospital NHS Foundation Trust",
          "Johns Hopkins University",
          "London School of Hygiene & Tropical Medicine",
          "Johns Hopkins University",
          "Duke-NUS Graduate Medical School",
          "University College London",
          "University of Amsterdam",
          "St. Jude Children's Research Hospital",
          "Weizmann Institute of Science",
          "Newcastle University",
          "University College London",
          "University College London",
          "London School of Hygiene & Tropical Medicine",
          "London School of Hygiene & Tropical Medicine",
          "University of Southampton",
          "Imperial College London",
          "University of Southampton",
          "University of Southampton",
          "University of Southampton",
          "University of Southampton",
          "University of Southampton",
          "University of Southampton",
          "University of Southampton",
          "University of Southampton",
          "University of Southampton",
          "University of Southampton",
          "University of Edinburgh",
          "University of Southampton",
          "University of Southampton",
          "University of Southampton",
          "University of Southampton",
          "University Hospital Southampton NHS Foundation Trust",
          "University of Southampton",
          "University of Southampton",
          "University of Southampton",
          "None",
          "University of Southampton",
          "University of Montreal",
          "University of Southampton",
          "University of Southampton"
         ],
         "xaxis": "x2",
         "yaxis": "y2"
        },
        {
         "hovertemplate": "funder_countries.name=Switzerland<br>research_org_names=%{x}<br>funding_org_name=%{y}<extra></extra>",
         "legendgroup": "Switzerland",
         "marker": {
          "color": "#EF553B",
          "symbol": "circle"
         },
         "mode": "markers",
         "name": "Switzerland",
         "orientation": "v",
         "showlegend": true,
         "type": "scatter",
         "visible": "legendonly",
         "x": [
          "University of Zurich",
          "University of Zurich",
          "University Hospital of Zurich",
          "University of Zurich",
          "University of North Carolina System",
          "ETH Zurich",
          "ETH Zurich",
          "ETH Zurich",
          "UNI: Whitehead Inst. for Biomedical Research Cambridge USA",
          "ETH Zurich",
          "University of Florida",
          "ETH Zurich",
          "ETH Zurich",
          "ETH Zurich",
          "ETH Zurich",
          "ETH Zurich",
          "Cardiff University",
          "Swiss Federal Institute of Technology in Lausanne",
          "Johns Hopkins University",
          "Johns Hopkins University",
          "Johns Hopkins University",
          "Johns Hopkins University",
          "Johns Hopkins University",
          "Johns Hopkins University",
          "Johns Hopkins University",
          "Johns Hopkins University"
         ],
         "xaxis": "x",
         "y": [
          "Swiss National Science Foundation",
          "Swiss National Science Foundation",
          "Swiss National Science Foundation",
          "Swiss National Science Foundation",
          "World Health Organization",
          "Swiss National Science Foundation",
          "Swiss National Science Foundation",
          "Swiss National Science Foundation",
          "Swiss National Science Foundation",
          "Swiss National Science Foundation",
          "Swiss National Science Foundation",
          "Swiss National Science Foundation",
          "Swiss National Science Foundation",
          "Swiss National Science Foundation",
          "Swiss National Science Foundation",
          "Swiss National Science Foundation",
          "Swiss National Science Foundation",
          "Swiss National Science Foundation",
          "World Health Organization",
          "World Health Organization",
          "World Health Organization",
          "World Health Organization",
          "World Health Organization",
          "World Health Organization",
          "World Health Organization",
          "World Health Organization"
         ],
         "yaxis": "y"
        },
        {
         "alignmentgroup": "True",
         "bingroup": "x",
         "hovertemplate": "funder_countries.name=Switzerland<br>research_org_names=%{x}<br>count=%{y}<extra></extra>",
         "legendgroup": "Switzerland",
         "marker": {
          "color": "#EF553B"
         },
         "name": "Switzerland",
         "offsetgroup": "Switzerland",
         "opacity": 0.5,
         "showlegend": false,
         "type": "histogram",
         "visible": "legendonly",
         "x": [
          "University of Zurich",
          "University of Zurich",
          "University Hospital of Zurich",
          "University of Zurich",
          "University of North Carolina System",
          "ETH Zurich",
          "ETH Zurich",
          "ETH Zurich",
          "UNI: Whitehead Inst. for Biomedical Research Cambridge USA",
          "ETH Zurich",
          "University of Florida",
          "ETH Zurich",
          "ETH Zurich",
          "ETH Zurich",
          "ETH Zurich",
          "ETH Zurich",
          "Cardiff University",
          "Swiss Federal Institute of Technology in Lausanne",
          "Johns Hopkins University",
          "Johns Hopkins University",
          "Johns Hopkins University",
          "Johns Hopkins University",
          "Johns Hopkins University",
          "Johns Hopkins University",
          "Johns Hopkins University",
          "Johns Hopkins University"
         ],
         "xaxis": "x2",
         "yaxis": "y2"
        },
        {
         "hovertemplate": "funder_countries.name=Japan<br>research_org_names=%{x}<br>funding_org_name=%{y}<extra></extra>",
         "legendgroup": "Japan",
         "marker": {
          "color": "#00cc96",
          "symbol": "circle"
         },
         "mode": "markers",
         "name": "Japan",
         "orientation": "v",
         "showlegend": true,
         "type": "scatter",
         "visible": "legendonly",
         "x": [
          "Kōchi University",
          "University of Tokyo",
          "University of Tokyo",
          "University of Tokyo",
          "University of Tokyo",
          "University of Tokyo",
          "University of Tokyo",
          "University of Tokyo",
          "University of Tokyo",
          "Columbia University",
          "University of Tokyo",
          "University of Tokyo",
          "Kōchi University",
          "University of Electro-Communications",
          "University of Tokyo",
          "Shimane University",
          "University of Tokyo",
          "University of Tokyo",
          "Columbia University",
          "University of Tokyo",
          "University of Tokyo",
          "University of Tokyo",
          "Okayama University",
          "National Institute of Infectious Diseases",
          "Wakayama Medical University",
          "Okayama University",
          "Okayama University",
          "National Institute of Infectious Diseases",
          "National Institute of Infectious Diseases",
          "National Institute of Infectious Diseases",
          "National Institute of Infectious Diseases",
          "National Institute of Infectious Diseases",
          "Okayama University",
          "Okayama University",
          "Pharmaceutical Infrastructure Research Laboratories",
          "Okayama University",
          "Okayama University",
          "National Institute of Biomedical Innovation, Health and Nutrition",
          "Okayama University",
          "Okayama University",
          "Pharmaceutical Infrastructure Research Laboratories",
          "Pharmaceutical Infrastructure Research Laboratories",
          "National Institute of Infectious Diseases",
          "Okayama University",
          "National Institute of Infectious Diseases",
          "National Institute of Infectious Diseases",
          "National Institute of Infectious Diseases",
          "University of Tokyo",
          "Niigata University",
          "National Institute of Infectious Diseases",
          "Niigata University",
          "National Institute of Infectious Diseases",
          "National Institute of Infectious Diseases",
          "National Institute of Infectious Diseases",
          "University of Tokyo",
          "Kobe University",
          "University of Tokyo",
          "National Institute of Infectious Diseases",
          "Okayama University",
          "National Institute of Infectious Diseases",
          "National Institute of Infectious Diseases",
          "National Institute of Infectious Diseases",
          "National Institute of Infectious Diseases",
          "National Institute of Infectious Diseases",
          "National Institute of Infectious Diseases",
          "National Institute of Infectious Diseases",
          "Hokkaido University",
          "University of Tokyo",
          "University of Tokyo",
          "University of Tokyo",
          "Tochigi Branch",
          "University of Tokyo",
          "Kaketsuken (Japan)",
          "University of Tokyo",
          "University of Tokyo",
          "University of Tokyo",
          "ウイスコンシン大学",
          "St. Jude Children's. Res. Hospital Dept. Vir",
          "ロシア科学アカデミー",
          "セント",
          "Hokkaido University",
          "Tottori University",
          "Tottori University",
          "Tottori University",
          "Tottori University",
          "Animal Health Research Division, Virus, Epidemiology Research Area, Pig Virus Unit",
          "University of Southern",
          "Tohoku University",
          "アルバートアインシュタイン医科大学",
          "米国 Wayne 州立大学",
          "米国Wayne州立大学",
          "川崎医大",
          "Kawasaki Medical School",
          "Kawasaki Medical School",
          "Kawasaki Medical Sch.Medical School",
          "Kawasaki Medical School",
          "Kawasaki Medical School",
          "Kawasaki Medical School",
          "Kawasaki Medical School",
          "Kawasaki Medical School",
          "Kawasaki Medical School",
          "Osaka University",
          "UT Southwestern",
          "University of Queensland",
          "University of Paris"
         ],
         "xaxis": "x",
         "y": [
          "Japan Society for the Promotion of Science",
          "Japan Agency for Medical Research and Development",
          "Japan Agency for Medical Research and Development",
          "Japan Agency for Medical Research and Development",
          "Japan Agency for Medical Research and Development",
          "Japan Agency for Medical Research and Development",
          "Japan Society for the Promotion of Science",
          "Japan Agency for Medical Research and Development",
          "Japan Agency for Medical Research and Development",
          "Japan Society for the Promotion of Science",
          "Japan Society for the Promotion of Science",
          "Japan Society for the Promotion of Science",
          "Japan Society for the Promotion of Science",
          "Japan Society for the Promotion of Science",
          "Japan Society for the Promotion of Science",
          "Japan Society for the Promotion of Science",
          "Japan Agency for Medical Research and Development",
          "Japan Agency for Medical Research and Development",
          "Japan Society for the Promotion of Science",
          "Ministry of Health Labour and Welfare",
          "Japan Agency for Medical Research and Development",
          "Japan Science and Technology Agency",
          "Ministry of Health Labour and Welfare",
          "Ministry of Health Labour and Welfare",
          "Ministry of Health Labour and Welfare",
          "Ministry of Health Labour and Welfare",
          "Ministry of Health Labour and Welfare",
          "Ministry of Health Labour and Welfare",
          "Ministry of Health Labour and Welfare",
          "Ministry of Health Labour and Welfare",
          "Ministry of Health Labour and Welfare",
          "Ministry of Health Labour and Welfare",
          "Ministry of Health Labour and Welfare",
          "Ministry of Health Labour and Welfare",
          "Ministry of Health Labour and Welfare",
          "Ministry of Health Labour and Welfare",
          "Ministry of Health Labour and Welfare",
          "Ministry of Health Labour and Welfare",
          "Ministry of Health Labour and Welfare",
          "Ministry of Health Labour and Welfare",
          "Ministry of Health Labour and Welfare",
          "Ministry of Health Labour and Welfare",
          "Ministry of Health Labour and Welfare",
          "Ministry of Health Labour and Welfare",
          "Ministry of Health Labour and Welfare",
          "Ministry of Health Labour and Welfare",
          "Ministry of Health Labour and Welfare",
          "Japan Science and Technology Agency",
          "Ministry of Health Labour and Welfare",
          "Ministry of Health Labour and Welfare",
          "Ministry of Health Labour and Welfare",
          "Ministry of Health Labour and Welfare",
          "Ministry of Health Labour and Welfare",
          "Ministry of Health Labour and Welfare",
          "Japan Society for the Promotion of Science",
          "Japan Society for the Promotion of Science",
          "Japan Society for the Promotion of Science",
          "Ministry of Health Labour and Welfare",
          "Ministry of Health Labour and Welfare",
          "Ministry of Health Labour and Welfare",
          "Ministry of Health Labour and Welfare",
          "Ministry of Health Labour and Welfare",
          "Ministry of Health Labour and Welfare",
          "Ministry of Health Labour and Welfare",
          "Ministry of Health Labour and Welfare",
          "Ministry of Health Labour and Welfare",
          "Japan Society for the Promotion of Science",
          "Japan Society for the Promotion of Science",
          "Japan Science and Technology Agency",
          "Japan Society for the Promotion of Science",
          "Japan Society for the Promotion of Science",
          "Japan Society for the Promotion of Science",
          "Japan Society for the Promotion of Science",
          "Japan Society for the Promotion of Science",
          "Japan Society for the Promotion of Science",
          "Japan Society for the Promotion of Science",
          "Japan Society for the Promotion of Science",
          "Japan Society for the Promotion of Science",
          "Japan Society for the Promotion of Science",
          "Japan Society for the Promotion of Science",
          "Japan Society for the Promotion of Science",
          "Japan Society for the Promotion of Science",
          "Japan Society for the Promotion of Science",
          "Japan Society for the Promotion of Science",
          "Japan Society for the Promotion of Science",
          "National Agriculture and Food Research Organization",
          "Japan Society for the Promotion of Science",
          "Japan Society for the Promotion of Science",
          "Japan Society for the Promotion of Science",
          "Japan Society for the Promotion of Science",
          "Japan Society for the Promotion of Science",
          "Japan Society for the Promotion of Science",
          "Japan Society for the Promotion of Science",
          "Japan Society for the Promotion of Science",
          "Japan Society for the Promotion of Science",
          "Japan Society for the Promotion of Science",
          "Japan Society for the Promotion of Science",
          "Japan Society for the Promotion of Science",
          "Japan Society for the Promotion of Science",
          "Japan Society for the Promotion of Science",
          "Japan Society for the Promotion of Science",
          "Japan Society for the Promotion of Science",
          "Japan Society for the Promotion of Science",
          "Japan Society for the Promotion of Science",
          "Japan Society for the Promotion of Science"
         ],
         "yaxis": "y"
        },
        {
         "alignmentgroup": "True",
         "bingroup": "x",
         "hovertemplate": "funder_countries.name=Japan<br>research_org_names=%{x}<br>count=%{y}<extra></extra>",
         "legendgroup": "Japan",
         "marker": {
          "color": "#00cc96"
         },
         "name": "Japan",
         "offsetgroup": "Japan",
         "opacity": 0.5,
         "showlegend": false,
         "type": "histogram",
         "visible": "legendonly",
         "x": [
          "Kōchi University",
          "University of Tokyo",
          "University of Tokyo",
          "University of Tokyo",
          "University of Tokyo",
          "University of Tokyo",
          "University of Tokyo",
          "University of Tokyo",
          "University of Tokyo",
          "Columbia University",
          "University of Tokyo",
          "University of Tokyo",
          "Kōchi University",
          "University of Electro-Communications",
          "University of Tokyo",
          "Shimane University",
          "University of Tokyo",
          "University of Tokyo",
          "Columbia University",
          "University of Tokyo",
          "University of Tokyo",
          "University of Tokyo",
          "Okayama University",
          "National Institute of Infectious Diseases",
          "Wakayama Medical University",
          "Okayama University",
          "Okayama University",
          "National Institute of Infectious Diseases",
          "National Institute of Infectious Diseases",
          "National Institute of Infectious Diseases",
          "National Institute of Infectious Diseases",
          "National Institute of Infectious Diseases",
          "Okayama University",
          "Okayama University",
          "Pharmaceutical Infrastructure Research Laboratories",
          "Okayama University",
          "Okayama University",
          "National Institute of Biomedical Innovation, Health and Nutrition",
          "Okayama University",
          "Okayama University",
          "Pharmaceutical Infrastructure Research Laboratories",
          "Pharmaceutical Infrastructure Research Laboratories",
          "National Institute of Infectious Diseases",
          "Okayama University",
          "National Institute of Infectious Diseases",
          "National Institute of Infectious Diseases",
          "National Institute of Infectious Diseases",
          "University of Tokyo",
          "Niigata University",
          "National Institute of Infectious Diseases",
          "Niigata University",
          "National Institute of Infectious Diseases",
          "National Institute of Infectious Diseases",
          "National Institute of Infectious Diseases",
          "University of Tokyo",
          "Kobe University",
          "University of Tokyo",
          "National Institute of Infectious Diseases",
          "Okayama University",
          "National Institute of Infectious Diseases",
          "National Institute of Infectious Diseases",
          "National Institute of Infectious Diseases",
          "National Institute of Infectious Diseases",
          "National Institute of Infectious Diseases",
          "National Institute of Infectious Diseases",
          "National Institute of Infectious Diseases",
          "Hokkaido University",
          "University of Tokyo",
          "University of Tokyo",
          "University of Tokyo",
          "Tochigi Branch",
          "University of Tokyo",
          "Kaketsuken (Japan)",
          "University of Tokyo",
          "University of Tokyo",
          "University of Tokyo",
          "ウイスコンシン大学",
          "St. Jude Children's. Res. Hospital Dept. Vir",
          "ロシア科学アカデミー",
          "セント",
          "Hokkaido University",
          "Tottori University",
          "Tottori University",
          "Tottori University",
          "Tottori University",
          "Animal Health Research Division, Virus, Epidemiology Research Area, Pig Virus Unit",
          "University of Southern",
          "Tohoku University",
          "アルバートアインシュタイン医科大学",
          "米国 Wayne 州立大学",
          "米国Wayne州立大学",
          "川崎医大",
          "Kawasaki Medical School",
          "Kawasaki Medical School",
          "Kawasaki Medical Sch.Medical School",
          "Kawasaki Medical School",
          "Kawasaki Medical School",
          "Kawasaki Medical School",
          "Kawasaki Medical School",
          "Kawasaki Medical School",
          "Kawasaki Medical School",
          "Osaka University",
          "UT Southwestern",
          "University of Queensland",
          "University of Paris"
         ],
         "xaxis": "x2",
         "yaxis": "y2"
        },
        {
         "hovertemplate": "funder_countries.name=Canada<br>research_org_names=%{x}<br>funding_org_name=%{y}<extra></extra>",
         "legendgroup": "Canada",
         "marker": {
          "color": "#ab63fa",
          "symbol": "circle"
         },
         "mode": "markers",
         "name": "Canada",
         "orientation": "v",
         "showlegend": true,
         "type": "scatter",
         "visible": "legendonly",
         "x": [
          "Centre for Gender and Sexual Health Equity",
          "Simon Fraser University",
          "Centre for Addiction and Mental Health",
          "Centre for Gender and Sexual Health Equity",
          "Centre for Gender and Sexual Health Equity",
          "Centre for Gender and Sexual Health Equity",
          "Princess Margaret Cancer Centre",
          "Centre for Gender and Sexual Health Equity",
          "Centre for Gender and Sexual Health Equity",
          "Centre for Gender and Sexual Health Equity",
          "Centre for Gender and Sexual Health Equity",
          "University of British Columbia",
          "First Nations Health Authority",
          "University of British Columbia",
          "University of Calgary",
          "University of British Columbia",
          "Women's Health In Women's Hands",
          "University of British Columbia",
          "University of British Columbia",
          "St. Paul's Hospital",
          "University of British Columbia",
          "University of British Columbia",
          "University of British Columbia",
          "University of British Columbia",
          "University of British Columbia",
          "St. Paul's Hospital",
          "University of British Columbia",
          "St. Paul's Hospital",
          "St. Paul's Hospital",
          "Centre Hospitalier Universitaire Sainte-Justine",
          "St. Paul's Hospital",
          "University of British Columbia",
          "St. Paul's Hospital",
          "University of British Columbia",
          "St. Paul's Hospital",
          "University of Ottawa",
          "University of British Columbia",
          "University of British Columbia",
          "University of Ottawa",
          "University of British Columbia",
          "University of Victoria",
          "University of British Columbia",
          "University of British Columbia",
          "University of British Columbia",
          "St. Paul's Hospital",
          "St. Paul's Hospital",
          "University of Ottawa",
          "Ottawa Hospital",
          "University of Victoria",
          "St. Paul's Hospital",
          "St. Paul's Hospital",
          "St. Paul's Hospital",
          "St. Paul's Hospital",
          "No Partners",
          "University of British Columbia",
          "No Partners",
          "University of Ottawa",
          "St. Paul's Hospital",
          "British Columbia Children's Hospital",
          "St. Paul's Hospital",
          "St. Paul's Hospital",
          "University of British Columbia",
          "St. Paul's Hospital",
          "St. Paul's Hospital",
          "No Partners",
          "National Jewish Centre",
          "National Jewish Centre",
          "Hospital for Sick Children",
          "Hospital for Sick Children",
          "McGill University",
          "Hospital for Sick Children",
          "Stanford University",
          "Rockefeller University",
          "University of Cape Town",
          "Hospital for Sick Children",
          "Hospital for Sick Children",
          "University of Toronto",
          "Hospital for Sick Children",
          "Queen's University",
          "University of British Columbia",
          "University of North Carolina",
          "Hospital for Sick Children",
          "University of New Brunswick",
          "Lunenfeld-Tanenbaum Research Institute",
          "Ottawa Hospital",
          "Ottawa Hospital",
          "University of California",
          "University of Toronto",
          "University of Toronto",
          "ExcellThera",
          "No Partners",
          "No Partners",
          "ExcellThera",
          "University of Toronto",
          "Xagenic Inc.",
          "University of Toronto",
          "University of Toronto",
          "Xagenic Inc.",
          "No Partners",
          "No Partners",
          "University of Toronto",
          "Hospital for Sick Children",
          "University of Toronto",
          "University of Toronto",
          "Hospital for Sick Children",
          "University of Calgary",
          "University of Toronto",
          "University of Toronto",
          "Trojan Technologies (Canada)",
          "Canadian Institutes of Health Research",
          "No Partners",
          "University of Toronto",
          "University of Toronto",
          "University of Toronto",
          "No Partners",
          "No Partners",
          "University of Toronto",
          "No Partners",
          "Kalgene Pharmaceuticals Inc.",
          "University Health Network",
          "No Partners",
          "University of Toronto",
          "University of Toronto",
          "University of Toronto",
          "No Partners",
          "No Partners",
          "University of Toronto",
          "University of Toronto",
          "University of Toronto",
          "Johns Hopkins University",
          "University of Toronto",
          "Princess Margaret Cancer Centre",
          "Princess Margaret Cancer Centre",
          "No Partners",
          "University of Toronto",
          "Nuu Chah Nulth Tribal Council",
          "St. Paul's Hospital",
          "Public Health Ontario",
          "University of British Columbia",
          "University of British Columbia",
          "St. Paul's Hospital",
          "Simon Fraser University",
          "Simon Fraser University",
          "Simon Fraser University",
          "University of British Columbia",
          "St. Paul's Hospital",
          "St. Paul's Hospital",
          "University of British Columbia",
          "University of British Columbia",
          "St. Paul's Hospital",
          "St. Paul's Hospital",
          "St. Paul's Hospital",
          "St. Paul's Hospital",
          "Simon Fraser University",
          "St. Paul's Hospital",
          "University of British Columbia",
          "Simon Fraser University",
          "Simon Fraser University",
          "St. Paul's Hospital",
          "University of British Columbia",
          "University of Iowa",
          "University of British Columbia",
          "University of British Columbia",
          "Columbia University",
          "University of British Columbia",
          "University of British Columbia",
          "University of British Columbia",
          "Columbia University",
          "Scripps Research Institute",
          "Dalhousie University",
          "St. Lukes-Roosevelt Hospital Center",
          "Canadian National Institute Of Health",
          "No Partners",
          "University of Manitoba",
          "University of Manitoba",
          "Columbia University",
          "New York Genome Center",
          "Harvard University",
          "Centre Hospitalier Universitaire Sainte-Justine",
          "Stanford University",
          "Simon Fraser University",
          "Centre Hospitalier de l’Université de Montréal",
          "Centre Hospitalier de l’Université de Montréal",
          "McGill University Health Centre",
          "Centre Hospitalier de l’Université de Montréal",
          "Centre Hospitalier de l’Université de Montréal",
          "Centre Hospitalier de l’Université de Montréal",
          "University of Montreal",
          "Centre Hospitalier de l’Université de Montréal",
          "Centre Hospitalier de l’Université de Montréal",
          "Centre Hospitalier de l’Université de Montréal",
          "Centre Hospitalier de l’Université de Montréal",
          "Children's & Women's Health Centre of British Columbia",
          "Centre Hospitalier de l’Université de Montréal",
          "University of Montreal",
          "Centre Hospitalier de l’Université de Montréal",
          "Hôpital Saint-Luc",
          "University of Montreal",
          "University of Montreal",
          "Canadian Institutes of Health Research",
          "Centre Hospitalier de l’Université de Montréal",
          "Centre Hospitalier de l’Université de Montréal",
          "Hôpital Saint-Luc",
          "No Partners",
          "University of Montreal",
          "University of Montreal",
          "Centre Hospitalier de l’Université de Montréal",
          "McGill University",
          "University of Montreal",
          "University of Montreal",
          "University of Montreal",
          "No Partners",
          "University of Toronto",
          "Hôtel-Dieu de Montréal",
          "University of Montreal",
          "University of Montreal",
          "University of Montreal",
          "McGill University",
          "University of Montreal",
          "University of Montreal",
          "Western University",
          "Ottawa Hospital",
          "No Partners",
          "University of Montreal",
          "University of Montreal",
          "University of Montreal",
          "University of Montreal",
          "McMaster University",
          "University of Montreal",
          "University of Montreal",
          "University of Montreal",
          "University of Montreal",
          "Canadian Institutes of Health Research",
          "No Partners",
          "University of Montreal",
          "University of Montreal",
          "University of Montreal",
          "Institut de Recherches Cliniques de Montréal",
          "Institut de Recherches Cliniques de Montréal",
          "University of Montreal",
          "University of Montreal",
          "No Partners",
          "Western University",
          "Institut de Recherches Cliniques de Montréal"
         ],
         "xaxis": "x",
         "y": [
          "Canadian Institutes of Health Research",
          "Canadian Institutes of Health Research",
          "Canadian Institutes of Health Research",
          "Canadian Institutes of Health Research",
          "Canadian Institutes of Health Research",
          "Canadian Institutes of Health Research",
          "Canadian Cancer Society",
          "Canadian Institutes of Health Research",
          "Canadian Institutes of Health Research",
          "Canadian Institutes of Health Research",
          "Canadian Institutes of Health Research",
          "Canadian Institutes of Health Research",
          "Canadian Institutes of Health Research",
          "Canadian Institutes of Health Research",
          "Canadian Institutes of Health Research",
          "Canadian Institutes of Health Research",
          "Canadian Institutes of Health Research",
          "Canadian Institutes of Health Research",
          "Canadian Institutes of Health Research",
          "Canadian Institutes of Health Research",
          "Canadian Institutes of Health Research",
          "Canadian Institutes of Health Research",
          "Canadian Institutes of Health Research",
          "Canadian Institutes of Health Research",
          "Social Sciences and Humanities Research Council",
          "Canadian Institutes of Health Research",
          "Canadian Institutes of Health Research",
          "Canadian Institutes of Health Research",
          "Canadian Institutes of Health Research",
          "Canadian Institutes of Health Research",
          "Canadian Institutes of Health Research",
          "Canadian Institutes of Health Research",
          "Canadian Institutes of Health Research",
          "Canadian Institutes of Health Research",
          "Canadian Institutes of Health Research",
          "Canadian Institutes of Health Research",
          "Canadian Institutes of Health Research",
          "Canadian Institutes of Health Research",
          "Canadian Institutes of Health Research",
          "Canadian Institutes of Health Research",
          "Canadian Institutes of Health Research",
          "Michael Smith Foundation for Health Research",
          "Canadian Institutes of Health Research",
          "Canadian Institutes of Health Research",
          "Canadian Institutes of Health Research",
          "Canadian Institutes of Health Research",
          "Canadian Institutes of Health Research",
          "Canadian Institutes of Health Research",
          "Canadian Institutes of Health Research",
          "Canadian Institutes of Health Research",
          "Canadian Institutes of Health Research",
          "Canadian Institutes of Health Research",
          "Canadian Institutes of Health Research",
          "Natural Sciences and Engineering Research Council",
          "Canadian Institutes of Health Research",
          "Natural Sciences and Engineering Research Council",
          "Canadian Institutes of Health Research",
          "Canadian Institutes of Health Research",
          "Canadian Institutes of Health Research",
          "Canadian Institutes of Health Research",
          "Canadian Institutes of Health Research",
          "Michael Smith Foundation for Health Research",
          "Canadian Institutes of Health Research",
          "Canadian Institutes of Health Research",
          "Natural Sciences and Engineering Research Council",
          "Heart and Stroke Foundation",
          "Canadian Institutes of Health Research",
          "Canadian Institutes of Health Research",
          "Canadian Institutes of Health Research",
          "Canadian Institutes of Health Research",
          "Canadian Institutes of Health Research",
          "Canadian Institutes of Health Research",
          "Canadian Institutes of Health Research",
          "Canadian Institutes of Health Research",
          "Canadian Cancer Society",
          "Canadian Institutes of Health Research",
          "Canadian Institutes of Health Research",
          "Canadian Institutes of Health Research",
          "Canadian Institutes of Health Research",
          "Canadian Institutes of Health Research",
          "Canadian Institutes of Health Research",
          "Canadian Institutes of Health Research",
          "Canadian Institutes of Health Research",
          "Canadian Breast Cancer Foundation",
          "Canadian Institutes of Health Research",
          "Canadian Institutes of Health Research",
          "Canadian Institutes of Health Research",
          "Canadian Institutes of Health Research",
          "Social Sciences and Humanities Research Council",
          "Natural Sciences and Engineering Research Council",
          "Natural Sciences and Engineering Research Council",
          "Natural Sciences and Engineering Research Council",
          "Natural Sciences and Engineering Research Council",
          "Canadian Institutes of Health Research",
          "Natural Sciences and Engineering Research Council",
          "Canadian Institutes of Health Research",
          "Canadian Institutes of Health Research",
          "Natural Sciences and Engineering Research Council",
          "Natural Sciences and Engineering Research Council",
          "Natural Sciences and Engineering Research Council",
          "Ministry of Economic Development, Job Creation and Trade",
          "Canadian Cancer Society",
          "Canadian Institutes of Health Research",
          "Canadian Institutes of Health Research",
          "Canadian Cancer Society",
          "Alberta Innovates",
          "Canadian Institutes of Health Research",
          "Genome Canada",
          "Natural Sciences and Engineering Research Council",
          "Natural Sciences and Engineering Research Council",
          "Natural Sciences and Engineering Research Council",
          "Canadian Institutes of Health Research",
          "Canadian Institutes of Health Research",
          "Ministry of Economic Development, Job Creation and Trade",
          "Natural Sciences and Engineering Research Council",
          "Natural Sciences and Engineering Research Council",
          "Canadian Institutes of Health Research",
          "Natural Sciences and Engineering Research Council",
          "Natural Sciences and Engineering Research Council",
          "Ontario Institute for Cancer Research",
          "Natural Sciences and Engineering Research Council",
          "Canadian Institutes of Health Research",
          "Ministry of Economic Development, Job Creation and Trade",
          "Canada Foundation for Innovation",
          "Natural Sciences and Engineering Research Council",
          "Natural Sciences and Engineering Research Council",
          "Canadian Institutes of Health Research",
          "Canadian Cancer Society",
          "Ministry of Economic Development, Job Creation and Trade",
          "Canadian Institutes of Health Research",
          "Genome Canada",
          "Canadian Institutes of Health Research",
          "Terry Fox Foundation",
          "Natural Sciences and Engineering Research Council",
          "Canadian Institutes of Health Research",
          "Canadian Institutes of Health Research",
          "Canadian Institutes of Health Research",
          "Canadian Institutes of Health Research",
          "Canadian Institutes of Health Research",
          "Canadian Institutes of Health Research",
          "Canadian Institutes of Health Research",
          "Canadian Institutes of Health Research",
          "Michael Smith Foundation for Health Research",
          "Canadian Institutes of Health Research",
          "Canadian Institutes of Health Research",
          "Canadian Institutes of Health Research",
          "Canadian Institutes of Health Research",
          "Canadian Institutes of Health Research",
          "Canadian Institutes of Health Research",
          "Canadian Institutes of Health Research",
          "Canadian Institutes of Health Research",
          "Canadian Institutes of Health Research",
          "Canadian Institutes of Health Research",
          "Canadian Institutes of Health Research",
          "Canadian Institutes of Health Research",
          "Canadian Institutes of Health Research",
          "Canadian Institutes of Health Research",
          "Michael Smith Foundation for Health Research",
          "Canadian Institutes of Health Research",
          "Social Sciences and Humanities Research Council",
          "Canadian Institutes of Health Research",
          "Canadian Institutes of Health Research",
          "Michael Smith Foundation for Health Research",
          "Terry Fox Foundation",
          "Canadian Institutes of Health Research",
          "Canadian Institutes of Health Research",
          "Michael Smith Foundation for Health Research",
          "Terry Fox Foundation",
          "Canadian Institutes of Health Research",
          "Canadian Tobacco Control Research Initiative",
          "Canadian Institutes of Health Research",
          "Canadian Institutes of Health Research",
          "Natural Sciences and Engineering Research Council",
          "Canadian Institutes of Health Research",
          "Canadian Institutes of Health Research",
          "Canadian Institutes of Health Research",
          "Canadian Institutes of Health Research",
          "Canadian Institutes of Health Research",
          "Canadian Institutes of Health Research",
          "Canadian Institutes of Health Research",
          "Canadian Institutes of Health Research",
          "Canadian Institutes of Health Research",
          "Canadian Institutes of Health Research",
          "Canadian Institutes of Health Research",
          "Canadian Institutes of Health Research",
          "Canadian Institutes of Health Research",
          "Canadian Institutes of Health Research",
          "Canadian Institutes of Health Research",
          "Canadian Institutes of Health Research",
          "Canadian Institutes of Health Research",
          "Canadian Institutes of Health Research",
          "Canadian Institutes of Health Research",
          "Canadian Institutes of Health Research",
          "Canadian Institutes of Health Research",
          "Canadian Institutes of Health Research",
          "Canadian Institutes of Health Research",
          "Canadian Institutes of Health Research",
          "Canadian Institutes of Health Research",
          "Canadian Institutes of Health Research",
          "Natural Sciences and Engineering Research Council",
          "Canadian Institutes of Health Research",
          "Canadian Institutes of Health Research",
          "Canadian Institutes of Health Research",
          "Natural Sciences and Engineering Research Council",
          "Canada Foundation for Innovation",
          "Canadian Institutes of Health Research",
          "Canadian Institutes of Health Research",
          "Canadian Institutes of Health Research",
          "Canadian Institutes of Health Research",
          "Canadian Institutes of Health Research",
          "Canadian Institutes of Health Research",
          "Natural Sciences and Engineering Research Council",
          "Canadian Institutes of Health Research",
          "Canadian Institutes of Health Research",
          "Canadian Institutes of Health Research",
          "Canadian Institutes of Health Research",
          "Canadian Institutes of Health Research",
          "Canadian Institutes of Health Research",
          "Canada Foundation for Innovation",
          "Canadian Institutes of Health Research",
          "Canadian Institutes of Health Research",
          "Canadian Institutes of Health Research",
          "Natural Sciences and Engineering Research Council",
          "Canadian Cancer Society",
          "Canadian Institutes of Health Research",
          "Canadian Institutes of Health Research",
          "Canadian Institutes of Health Research",
          "Canadian Institutes of Health Research",
          "Canadian Institutes of Health Research",
          "Canadian Institutes of Health Research",
          "Canada Foundation for Innovation",
          "Canadian Institutes of Health Research",
          "Natural Sciences and Engineering Research Council",
          "Natural Sciences and Engineering Research Council",
          "Canadian Institutes of Health Research",
          "Canadian Institutes of Health Research",
          "Canadian Institutes of Health Research",
          "Canadian Institutes of Health Research",
          "Canadian Institutes of Health Research",
          "Canadian Institutes of Health Research",
          "Canadian Institutes of Health Research",
          "Natural Sciences and Engineering Research Council",
          "Canadian Institutes of Health Research",
          "Canadian Institutes of Health Research"
         ],
         "yaxis": "y"
        },
        {
         "alignmentgroup": "True",
         "bingroup": "x",
         "hovertemplate": "funder_countries.name=Canada<br>research_org_names=%{x}<br>count=%{y}<extra></extra>",
         "legendgroup": "Canada",
         "marker": {
          "color": "#ab63fa"
         },
         "name": "Canada",
         "offsetgroup": "Canada",
         "opacity": 0.5,
         "showlegend": false,
         "type": "histogram",
         "visible": "legendonly",
         "x": [
          "Centre for Gender and Sexual Health Equity",
          "Simon Fraser University",
          "Centre for Addiction and Mental Health",
          "Centre for Gender and Sexual Health Equity",
          "Centre for Gender and Sexual Health Equity",
          "Centre for Gender and Sexual Health Equity",
          "Princess Margaret Cancer Centre",
          "Centre for Gender and Sexual Health Equity",
          "Centre for Gender and Sexual Health Equity",
          "Centre for Gender and Sexual Health Equity",
          "Centre for Gender and Sexual Health Equity",
          "University of British Columbia",
          "First Nations Health Authority",
          "University of British Columbia",
          "University of Calgary",
          "University of British Columbia",
          "Women's Health In Women's Hands",
          "University of British Columbia",
          "University of British Columbia",
          "St. Paul's Hospital",
          "University of British Columbia",
          "University of British Columbia",
          "University of British Columbia",
          "University of British Columbia",
          "University of British Columbia",
          "St. Paul's Hospital",
          "University of British Columbia",
          "St. Paul's Hospital",
          "St. Paul's Hospital",
          "Centre Hospitalier Universitaire Sainte-Justine",
          "St. Paul's Hospital",
          "University of British Columbia",
          "St. Paul's Hospital",
          "University of British Columbia",
          "St. Paul's Hospital",
          "University of Ottawa",
          "University of British Columbia",
          "University of British Columbia",
          "University of Ottawa",
          "University of British Columbia",
          "University of Victoria",
          "University of British Columbia",
          "University of British Columbia",
          "University of British Columbia",
          "St. Paul's Hospital",
          "St. Paul's Hospital",
          "University of Ottawa",
          "Ottawa Hospital",
          "University of Victoria",
          "St. Paul's Hospital",
          "St. Paul's Hospital",
          "St. Paul's Hospital",
          "St. Paul's Hospital",
          "No Partners",
          "University of British Columbia",
          "No Partners",
          "University of Ottawa",
          "St. Paul's Hospital",
          "British Columbia Children's Hospital",
          "St. Paul's Hospital",
          "St. Paul's Hospital",
          "University of British Columbia",
          "St. Paul's Hospital",
          "St. Paul's Hospital",
          "No Partners",
          "National Jewish Centre",
          "National Jewish Centre",
          "Hospital for Sick Children",
          "Hospital for Sick Children",
          "McGill University",
          "Hospital for Sick Children",
          "Stanford University",
          "Rockefeller University",
          "University of Cape Town",
          "Hospital for Sick Children",
          "Hospital for Sick Children",
          "University of Toronto",
          "Hospital for Sick Children",
          "Queen's University",
          "University of British Columbia",
          "University of North Carolina",
          "Hospital for Sick Children",
          "University of New Brunswick",
          "Lunenfeld-Tanenbaum Research Institute",
          "Ottawa Hospital",
          "Ottawa Hospital",
          "University of California",
          "University of Toronto",
          "University of Toronto",
          "ExcellThera",
          "No Partners",
          "No Partners",
          "ExcellThera",
          "University of Toronto",
          "Xagenic Inc.",
          "University of Toronto",
          "University of Toronto",
          "Xagenic Inc.",
          "No Partners",
          "No Partners",
          "University of Toronto",
          "Hospital for Sick Children",
          "University of Toronto",
          "University of Toronto",
          "Hospital for Sick Children",
          "University of Calgary",
          "University of Toronto",
          "University of Toronto",
          "Trojan Technologies (Canada)",
          "Canadian Institutes of Health Research",
          "No Partners",
          "University of Toronto",
          "University of Toronto",
          "University of Toronto",
          "No Partners",
          "No Partners",
          "University of Toronto",
          "No Partners",
          "Kalgene Pharmaceuticals Inc.",
          "University Health Network",
          "No Partners",
          "University of Toronto",
          "University of Toronto",
          "University of Toronto",
          "No Partners",
          "No Partners",
          "University of Toronto",
          "University of Toronto",
          "University of Toronto",
          "Johns Hopkins University",
          "University of Toronto",
          "Princess Margaret Cancer Centre",
          "Princess Margaret Cancer Centre",
          "No Partners",
          "University of Toronto",
          "Nuu Chah Nulth Tribal Council",
          "St. Paul's Hospital",
          "Public Health Ontario",
          "University of British Columbia",
          "University of British Columbia",
          "St. Paul's Hospital",
          "Simon Fraser University",
          "Simon Fraser University",
          "Simon Fraser University",
          "University of British Columbia",
          "St. Paul's Hospital",
          "St. Paul's Hospital",
          "University of British Columbia",
          "University of British Columbia",
          "St. Paul's Hospital",
          "St. Paul's Hospital",
          "St. Paul's Hospital",
          "St. Paul's Hospital",
          "Simon Fraser University",
          "St. Paul's Hospital",
          "University of British Columbia",
          "Simon Fraser University",
          "Simon Fraser University",
          "St. Paul's Hospital",
          "University of British Columbia",
          "University of Iowa",
          "University of British Columbia",
          "University of British Columbia",
          "Columbia University",
          "University of British Columbia",
          "University of British Columbia",
          "University of British Columbia",
          "Columbia University",
          "Scripps Research Institute",
          "Dalhousie University",
          "St. Lukes-Roosevelt Hospital Center",
          "Canadian National Institute Of Health",
          "No Partners",
          "University of Manitoba",
          "University of Manitoba",
          "Columbia University",
          "New York Genome Center",
          "Harvard University",
          "Centre Hospitalier Universitaire Sainte-Justine",
          "Stanford University",
          "Simon Fraser University",
          "Centre Hospitalier de l’Université de Montréal",
          "Centre Hospitalier de l’Université de Montréal",
          "McGill University Health Centre",
          "Centre Hospitalier de l’Université de Montréal",
          "Centre Hospitalier de l’Université de Montréal",
          "Centre Hospitalier de l’Université de Montréal",
          "University of Montreal",
          "Centre Hospitalier de l’Université de Montréal",
          "Centre Hospitalier de l’Université de Montréal",
          "Centre Hospitalier de l’Université de Montréal",
          "Centre Hospitalier de l’Université de Montréal",
          "Children's & Women's Health Centre of British Columbia",
          "Centre Hospitalier de l’Université de Montréal",
          "University of Montreal",
          "Centre Hospitalier de l’Université de Montréal",
          "Hôpital Saint-Luc",
          "University of Montreal",
          "University of Montreal",
          "Canadian Institutes of Health Research",
          "Centre Hospitalier de l’Université de Montréal",
          "Centre Hospitalier de l’Université de Montréal",
          "Hôpital Saint-Luc",
          "No Partners",
          "University of Montreal",
          "University of Montreal",
          "Centre Hospitalier de l’Université de Montréal",
          "McGill University",
          "University of Montreal",
          "University of Montreal",
          "University of Montreal",
          "No Partners",
          "University of Toronto",
          "Hôtel-Dieu de Montréal",
          "University of Montreal",
          "University of Montreal",
          "University of Montreal",
          "McGill University",
          "University of Montreal",
          "University of Montreal",
          "Western University",
          "Ottawa Hospital",
          "No Partners",
          "University of Montreal",
          "University of Montreal",
          "University of Montreal",
          "University of Montreal",
          "McMaster University",
          "University of Montreal",
          "University of Montreal",
          "University of Montreal",
          "University of Montreal",
          "Canadian Institutes of Health Research",
          "No Partners",
          "University of Montreal",
          "University of Montreal",
          "University of Montreal",
          "Institut de Recherches Cliniques de Montréal",
          "Institut de Recherches Cliniques de Montréal",
          "University of Montreal",
          "University of Montreal",
          "No Partners",
          "Western University",
          "Institut de Recherches Cliniques de Montréal"
         ],
         "xaxis": "x2",
         "yaxis": "y2"
        },
        {
         "hovertemplate": "funder_countries.name=Sweden<br>research_org_names=%{x}<br>funding_org_name=%{y}<extra></extra>",
         "legendgroup": "Sweden",
         "marker": {
          "color": "#FFA15A",
          "symbol": "circle"
         },
         "mode": "markers",
         "name": "Sweden",
         "orientation": "v",
         "showlegend": true,
         "type": "scatter",
         "visible": "legendonly",
         "x": [
          "Lund University",
          "",
          "",
          "Lund University",
          "Lund University",
          "Lund University",
          "Lund University",
          "Lund University",
          "Lund University"
         ],
         "xaxis": "x",
         "y": [
          "Swedish Research Council",
          "Swedish Heart-Lung Foundation",
          "Swedish Heart-Lung Foundation",
          "Swedish Research Council",
          "Swedish Research Council",
          "Swedish Research Council",
          "Swedish Research Council",
          "Swedish Research Council",
          "Swedish Research Council"
         ],
         "yaxis": "y"
        },
        {
         "alignmentgroup": "True",
         "bingroup": "x",
         "hovertemplate": "funder_countries.name=Sweden<br>research_org_names=%{x}<br>count=%{y}<extra></extra>",
         "legendgroup": "Sweden",
         "marker": {
          "color": "#FFA15A"
         },
         "name": "Sweden",
         "offsetgroup": "Sweden",
         "opacity": 0.5,
         "showlegend": false,
         "type": "histogram",
         "visible": "legendonly",
         "x": [
          "Lund University",
          "",
          "",
          "Lund University",
          "Lund University",
          "Lund University",
          "Lund University",
          "Lund University",
          "Lund University"
         ],
         "xaxis": "x2",
         "yaxis": "y2"
        },
        {
         "hovertemplate": "funder_countries.name=Germany<br>research_org_names=%{x}<br>funding_org_name=%{y}<extra></extra>",
         "legendgroup": "Germany",
         "marker": {
          "color": "#19d3f3",
          "symbol": "circle"
         },
         "mode": "markers",
         "name": "Germany",
         "orientation": "v",
         "showlegend": true,
         "type": "scatter",
         "visible": "legendonly",
         "x": [
          "Bernhard Nocht Institute for Tropical Medicine",
          "Florida State University",
          "Florida State University",
          "German Cancer Research Center",
          "Rockefeller University",
          "University Hospital Heidelberg",
          "Imagine Institute for Genetic Diseases",
          "Massachusetts General Hospital",
          "New York University",
          "Stanford University",
          "Rockefeller University",
          "Rockefeller University",
          "Duke University",
          "Rockefeller University",
          "Imagine Institute for Genetic Diseases",
          "Southwestern Medical Center",
          "Memorial Sloan Kettering Cancer Center",
          "Southwestern Medical Center",
          "University of Chicago",
          "University of Chicago",
          "Harvard University",
          "University of Chicago",
          "Johns Hopkins University",
          "Whitehead Institute for Biomedical Research",
          "New York University",
          "New York University",
          "Icahn School of Medicine at Mount Sinai",
          "University Hospital Carl Gustav Carus",
          "Philipp University of Marburg",
          "Fox Chase Cancer Center",
          "McLean Hospital",
          "Hannover Medical School",
          "University of California, Davis",
          "Sanford Burnham Prebys Medical Discovery Institute",
          "University of Liverpool",
          "University of Liverpool",
          "Pasteur Institute",
          "Northwestern University"
         ],
         "xaxis": "x",
         "y": [
          "German Research Foundation",
          "German Research Foundation",
          "German Research Foundation",
          "German Research Foundation",
          "German Research Foundation",
          "German Research Foundation",
          "German Research Foundation",
          "German Research Foundation",
          "German Research Foundation",
          "German Research Foundation",
          "German Research Foundation",
          "German Research Foundation",
          "German Research Foundation",
          "German Research Foundation",
          "German Research Foundation",
          "German Research Foundation",
          "German Research Foundation",
          "German Research Foundation",
          "German Research Foundation",
          "German Research Foundation",
          "German Research Foundation",
          "German Research Foundation",
          "German Research Foundation",
          "German Research Foundation",
          "German Research Foundation",
          "German Research Foundation",
          "German Research Foundation",
          "German Research Foundation",
          "German Research Foundation",
          "German Research Foundation",
          "German Research Foundation",
          "German Research Foundation",
          "German Research Foundation",
          "German Research Foundation",
          "German Research Foundation",
          "German Research Foundation",
          "German Research Foundation",
          "German Research Foundation"
         ],
         "yaxis": "y"
        },
        {
         "alignmentgroup": "True",
         "bingroup": "x",
         "hovertemplate": "funder_countries.name=Germany<br>research_org_names=%{x}<br>count=%{y}<extra></extra>",
         "legendgroup": "Germany",
         "marker": {
          "color": "#19d3f3"
         },
         "name": "Germany",
         "offsetgroup": "Germany",
         "opacity": 0.5,
         "showlegend": false,
         "type": "histogram",
         "visible": "legendonly",
         "x": [
          "Bernhard Nocht Institute for Tropical Medicine",
          "Florida State University",
          "Florida State University",
          "German Cancer Research Center",
          "Rockefeller University",
          "University Hospital Heidelberg",
          "Imagine Institute for Genetic Diseases",
          "Massachusetts General Hospital",
          "New York University",
          "Stanford University",
          "Rockefeller University",
          "Rockefeller University",
          "Duke University",
          "Rockefeller University",
          "Imagine Institute for Genetic Diseases",
          "Southwestern Medical Center",
          "Memorial Sloan Kettering Cancer Center",
          "Southwestern Medical Center",
          "University of Chicago",
          "University of Chicago",
          "Harvard University",
          "University of Chicago",
          "Johns Hopkins University",
          "Whitehead Institute for Biomedical Research",
          "New York University",
          "New York University",
          "Icahn School of Medicine at Mount Sinai",
          "University Hospital Carl Gustav Carus",
          "Philipp University of Marburg",
          "Fox Chase Cancer Center",
          "McLean Hospital",
          "Hannover Medical School",
          "University of California, Davis",
          "Sanford Burnham Prebys Medical Discovery Institute",
          "University of Liverpool",
          "University of Liverpool",
          "Pasteur Institute",
          "Northwestern University"
         ],
         "xaxis": "x2",
         "yaxis": "y2"
        },
        {
         "hovertemplate": "funder_countries.name=Australia<br>research_org_names=%{x}<br>funding_org_name=%{y}<extra></extra>",
         "legendgroup": "Australia",
         "marker": {
          "color": "#FF6692",
          "symbol": "circle"
         },
         "mode": "markers",
         "name": "Australia",
         "orientation": "v",
         "showlegend": true,
         "type": "scatter",
         "visible": "legendonly",
         "x": [
          "University of Technology Sydney",
          "University of Melbourne",
          "University of Melbourne",
          "UNSW Sydney",
          "UNSW Sydney",
          "UNSW Sydney",
          "UNSW Sydney",
          "UNSW Sydney",
          "UNSW Sydney",
          "University of Melbourne",
          "University of Tasmania",
          "UNSW Sydney",
          "University of Sydney",
          "University of Sydney",
          "University of Melbourne",
          "Monash University",
          "Institute for Breathing and Sleep",
          "University of Western Australia",
          "Walter and Eliza Hall Institute of Medical Research",
          "UNSW Sydney",
          "UNSW Sydney",
          "UNSW Sydney",
          "UNSW Sydney",
          "UNSW Sydney",
          "Monash University",
          "Monash University",
          "Monash University",
          "UNSW Sydney",
          "UNSW Sydney",
          "UNSW Sydney",
          "UNSW Sydney",
          "UNSW Sydney"
         ],
         "xaxis": "x",
         "y": [
          "Australian Research Council",
          "National Health and Medical Research Council",
          "National Health and Medical Research Council",
          "National Health and Medical Research Council",
          "National Health and Medical Research Council",
          "National Health and Medical Research Council",
          "National Health and Medical Research Council",
          "National Health and Medical Research Council",
          "National Health and Medical Research Council",
          "National Health and Medical Research Council",
          "Australian Research Council",
          "Australian Research Council",
          "National Health and Medical Research Council",
          "Australian Research Council",
          "National Health and Medical Research Council",
          "National Health and Medical Research Council",
          "National Health and Medical Research Council",
          "National Health and Medical Research Council",
          "National Health and Medical Research Council",
          "National Health and Medical Research Council",
          "National Health and Medical Research Council",
          "National Health and Medical Research Council",
          "National Health and Medical Research Council",
          "National Health and Medical Research Council",
          "National Health and Medical Research Council",
          "National Health and Medical Research Council",
          "National Health and Medical Research Council",
          "National Health and Medical Research Council",
          "Australian Research Council",
          "National Health and Medical Research Council",
          "National Health and Medical Research Council",
          "National Health and Medical Research Council"
         ],
         "yaxis": "y"
        },
        {
         "alignmentgroup": "True",
         "bingroup": "x",
         "hovertemplate": "funder_countries.name=Australia<br>research_org_names=%{x}<br>count=%{y}<extra></extra>",
         "legendgroup": "Australia",
         "marker": {
          "color": "#FF6692"
         },
         "name": "Australia",
         "offsetgroup": "Australia",
         "opacity": 0.5,
         "showlegend": false,
         "type": "histogram",
         "visible": "legendonly",
         "x": [
          "University of Technology Sydney",
          "University of Melbourne",
          "University of Melbourne",
          "UNSW Sydney",
          "UNSW Sydney",
          "UNSW Sydney",
          "UNSW Sydney",
          "UNSW Sydney",
          "UNSW Sydney",
          "University of Melbourne",
          "University of Tasmania",
          "UNSW Sydney",
          "University of Sydney",
          "University of Sydney",
          "University of Melbourne",
          "Monash University",
          "Institute for Breathing and Sleep",
          "University of Western Australia",
          "Walter and Eliza Hall Institute of Medical Research",
          "UNSW Sydney",
          "UNSW Sydney",
          "UNSW Sydney",
          "UNSW Sydney",
          "UNSW Sydney",
          "Monash University",
          "Monash University",
          "Monash University",
          "UNSW Sydney",
          "UNSW Sydney",
          "UNSW Sydney",
          "UNSW Sydney",
          "UNSW Sydney"
         ],
         "xaxis": "x2",
         "yaxis": "y2"
        },
        {
         "hovertemplate": "funder_countries.name=Belgium<br>research_org_names=%{x}<br>funding_org_name=%{y}<extra></extra>",
         "legendgroup": "Belgium",
         "marker": {
          "color": "#B6E880",
          "symbol": "circle"
         },
         "mode": "markers",
         "name": "Belgium",
         "orientation": "v",
         "showlegend": true,
         "type": "scatter",
         "visible": "legendonly",
         "x": [
          "Lund University",
          "Austrian Academy of Sciences"
         ],
         "xaxis": "x",
         "y": [
          "European Research Council",
          "European Commission"
         ],
         "yaxis": "y"
        },
        {
         "alignmentgroup": "True",
         "bingroup": "x",
         "hovertemplate": "funder_countries.name=Belgium<br>research_org_names=%{x}<br>count=%{y}<extra></extra>",
         "legendgroup": "Belgium",
         "marker": {
          "color": "#B6E880"
         },
         "name": "Belgium",
         "offsetgroup": "Belgium",
         "opacity": 0.5,
         "showlegend": false,
         "type": "histogram",
         "visible": "legendonly",
         "x": [
          "Lund University",
          "Austrian Academy of Sciences"
         ],
         "xaxis": "x2",
         "yaxis": "y2"
        },
        {
         "hovertemplate": "funder_countries.name=France<br>research_org_names=%{x}<br>funding_org_name=%{y}<extra></extra>",
         "legendgroup": "France",
         "marker": {
          "color": "#FF97FF",
          "symbol": "circle"
         },
         "mode": "markers",
         "name": "France",
         "orientation": "v",
         "showlegend": true,
         "type": "scatter",
         "visible": "legendonly",
         "x": [
          "ETH Zurich",
          "University of California, San Francisco",
          "Max Planck Institute, Bad Nauheim",
          "Rockefeller University",
          "Rockefeller University",
          "Imagine Institute for Genetic Diseases",
          "Cleveland Clinic",
          "Rockefeller University",
          "Broad Institute",
          "Broad Institute",
          "University of California, Berkeley",
          "University of California, Berkeley",
          "Fox Chase Cancer Center",
          "Massachusetts Institute of Technology",
          "Czech Academy of Sciences",
          "Columbia University",
          "Columbia University",
          "Columbia University",
          "New York Genome Center"
         ],
         "xaxis": "x",
         "y": [
          "International Human Frontier Science Program Organization",
          "Leducq Foundation",
          "Leducq Foundation",
          "International Human Frontier Science Program Organization",
          "International Human Frontier Science Program Organization",
          "National Agency for Research",
          "Leducq Foundation",
          "International Human Frontier Science Program Organization",
          "International Human Frontier Science Program Organization",
          "International Human Frontier Science Program Organization",
          "International Human Frontier Science Program Organization",
          "International Human Frontier Science Program Organization",
          "International Human Frontier Science Program Organization",
          "International Human Frontier Science Program Organization",
          "Leducq Foundation",
          "International Human Frontier Science Program Organization",
          "International Human Frontier Science Program Organization",
          "International Human Frontier Science Program Organization",
          "International Human Frontier Science Program Organization"
         ],
         "yaxis": "y"
        },
        {
         "alignmentgroup": "True",
         "bingroup": "x",
         "hovertemplate": "funder_countries.name=France<br>research_org_names=%{x}<br>count=%{y}<extra></extra>",
         "legendgroup": "France",
         "marker": {
          "color": "#FF97FF"
         },
         "name": "France",
         "offsetgroup": "France",
         "opacity": 0.5,
         "showlegend": false,
         "type": "histogram",
         "visible": "legendonly",
         "x": [
          "ETH Zurich",
          "University of California, San Francisco",
          "Max Planck Institute, Bad Nauheim",
          "Rockefeller University",
          "Rockefeller University",
          "Imagine Institute for Genetic Diseases",
          "Cleveland Clinic",
          "Rockefeller University",
          "Broad Institute",
          "Broad Institute",
          "University of California, Berkeley",
          "University of California, Berkeley",
          "Fox Chase Cancer Center",
          "Massachusetts Institute of Technology",
          "Czech Academy of Sciences",
          "Columbia University",
          "Columbia University",
          "Columbia University",
          "New York Genome Center"
         ],
         "xaxis": "x2",
         "yaxis": "y2"
        },
        {
         "hovertemplate": "funder_countries.name=Norway<br>research_org_names=%{x}<br>funding_org_name=%{y}<extra></extra>",
         "legendgroup": "Norway",
         "marker": {
          "color": "#FECB52",
          "symbol": "circle"
         },
         "mode": "markers",
         "name": "Norway",
         "orientation": "v",
         "showlegend": true,
         "type": "scatter",
         "visible": "legendonly",
         "x": [
          "Haukeland University Hospital",
          "Innlandet Hospital Trust"
         ],
         "xaxis": "x",
         "y": [
          "Western Norway Regional Health Authority",
          "Southern and Eastern Norway Regional Health Authority"
         ],
         "yaxis": "y"
        },
        {
         "alignmentgroup": "True",
         "bingroup": "x",
         "hovertemplate": "funder_countries.name=Norway<br>research_org_names=%{x}<br>count=%{y}<extra></extra>",
         "legendgroup": "Norway",
         "marker": {
          "color": "#FECB52"
         },
         "name": "Norway",
         "offsetgroup": "Norway",
         "opacity": 0.5,
         "showlegend": false,
         "type": "histogram",
         "visible": "legendonly",
         "x": [
          "Haukeland University Hospital",
          "Innlandet Hospital Trust"
         ],
         "xaxis": "x2",
         "yaxis": "y2"
        },
        {
         "hovertemplate": "funder_countries.name=Austria<br>research_org_names=%{x}<br>funding_org_name=%{y}<extra></extra>",
         "legendgroup": "Austria",
         "marker": {
          "color": "#636efa",
          "symbol": "circle"
         },
         "mode": "markers",
         "name": "Austria",
         "orientation": "v",
         "showlegend": true,
         "type": "scatter",
         "visible": "legendonly",
         "x": [
          "Icahn School of Medicine at Mount Sinai",
          "Medical University of Vienna",
          "Medical University of Vienna",
          "Medical University of Vienna"
         ],
         "xaxis": "x",
         "y": [
          "FWF Austrian Science Fund",
          "FWF Austrian Science Fund",
          "FWF Austrian Science Fund",
          "FWF Austrian Science Fund"
         ],
         "yaxis": "y"
        },
        {
         "alignmentgroup": "True",
         "bingroup": "x",
         "hovertemplate": "funder_countries.name=Austria<br>research_org_names=%{x}<br>count=%{y}<extra></extra>",
         "legendgroup": "Austria",
         "marker": {
          "color": "#636efa"
         },
         "name": "Austria",
         "offsetgroup": "Austria",
         "opacity": 0.5,
         "showlegend": false,
         "type": "histogram",
         "visible": "legendonly",
         "x": [
          "Icahn School of Medicine at Mount Sinai",
          "Medical University of Vienna",
          "Medical University of Vienna",
          "Medical University of Vienna"
         ],
         "xaxis": "x2",
         "yaxis": "y2"
        },
        {
         "hovertemplate": "funder_countries.name=New Zealand<br>research_org_names=%{x}<br>funding_org_name=%{y}<extra></extra>",
         "legendgroup": "New Zealand",
         "marker": {
          "color": "#EF553B",
          "symbol": "circle"
         },
         "mode": "markers",
         "name": "New Zealand",
         "orientation": "v",
         "showlegend": true,
         "type": "scatter",
         "visible": "legendonly",
         "x": [
          "University of Auckland",
          "Institute of Environmental Science and Research",
          "Centre de Coopération Internationale en Recherche"
         ],
         "xaxis": "x",
         "y": [
          "Royal Society of New Zealand",
          "Royal Society of New Zealand",
          "Royal Society of New Zealand"
         ],
         "yaxis": "y"
        },
        {
         "alignmentgroup": "True",
         "bingroup": "x",
         "hovertemplate": "funder_countries.name=New Zealand<br>research_org_names=%{x}<br>count=%{y}<extra></extra>",
         "legendgroup": "New Zealand",
         "marker": {
          "color": "#EF553B"
         },
         "name": "New Zealand",
         "offsetgroup": "New Zealand",
         "opacity": 0.5,
         "showlegend": false,
         "type": "histogram",
         "visible": "legendonly",
         "x": [
          "University of Auckland",
          "Institute of Environmental Science and Research",
          "Centre de Coopération Internationale en Recherche"
         ],
         "xaxis": "x2",
         "yaxis": "y2"
        },
        {
         "hovertemplate": "funder_countries.name=Qatar<br>research_org_names=%{x}<br>funding_org_name=%{y}<extra></extra>",
         "legendgroup": "Qatar",
         "marker": {
          "color": "#00cc96",
          "symbol": "circle"
         },
         "mode": "markers",
         "name": "Qatar",
         "orientation": "v",
         "showlegend": true,
         "type": "scatter",
         "visible": "legendonly",
         "x": [
          "Weill Cornell Medical College in Qatar",
          "Weill Cornell Medical College in Qatar",
          "Icahn School of Medicine at Mount Sinai",
          "Sidra Medical and Research Center",
          "Cornell University",
          "Cornell University",
          "Weill Cornell Medical College in Qatar",
          "Hamad Medical Corporation",
          "Brigham and Women's Hospital",
          "Hamad Medical Corporation",
          "The University of Texas Southwestern Medical Center",
          "Hamad Medical Corporation",
          "Hamad Medical Corporation",
          "Hamad Medical Corporation"
         ],
         "xaxis": "x",
         "y": [
          "Qatar National Research Fund",
          "Qatar National Research Fund",
          "Qatar National Research Fund",
          "Qatar National Research Fund",
          "Qatar National Research Fund",
          "Qatar National Research Fund",
          "Qatar National Research Fund",
          "Qatar National Research Fund",
          "Qatar National Research Fund",
          "Qatar National Research Fund",
          "Qatar National Research Fund",
          "Qatar National Research Fund",
          "Qatar National Research Fund",
          "Qatar National Research Fund"
         ],
         "yaxis": "y"
        },
        {
         "alignmentgroup": "True",
         "bingroup": "x",
         "hovertemplate": "funder_countries.name=Qatar<br>research_org_names=%{x}<br>count=%{y}<extra></extra>",
         "legendgroup": "Qatar",
         "marker": {
          "color": "#00cc96"
         },
         "name": "Qatar",
         "offsetgroup": "Qatar",
         "opacity": 0.5,
         "showlegend": false,
         "type": "histogram",
         "visible": "legendonly",
         "x": [
          "Weill Cornell Medical College in Qatar",
          "Weill Cornell Medical College in Qatar",
          "Icahn School of Medicine at Mount Sinai",
          "Sidra Medical and Research Center",
          "Cornell University",
          "Cornell University",
          "Weill Cornell Medical College in Qatar",
          "Hamad Medical Corporation",
          "Brigham and Women's Hospital",
          "Hamad Medical Corporation",
          "The University of Texas Southwestern Medical Center",
          "Hamad Medical Corporation",
          "Hamad Medical Corporation",
          "Hamad Medical Corporation"
         ],
         "xaxis": "x2",
         "yaxis": "y2"
        },
        {
         "hovertemplate": "funder_countries.name=China<br>research_org_names=%{x}<br>funding_org_name=%{y}<extra></extra>",
         "legendgroup": "China",
         "marker": {
          "color": "#ab63fa",
          "symbol": "circle"
         },
         "mode": "markers",
         "name": "China",
         "orientation": "v",
         "showlegend": true,
         "type": "scatter",
         "visible": true,
         "x": [
          "Fudan University",
          "Tianjin haihe hospital",
          "Fudan University",
          "Huazhong University of Science and Technology",
          "Cancer Hospital of Chinese Academy of Medical Sciences",
          "Cancer Hospital of Chinese Academy of Medical Sciences",
          "Cancer Hospital of Chinese Academy of Medical Sciences"
         ],
         "xaxis": "x",
         "y": [
          "National Natural Science Foundation of China",
          "National Natural Science Foundation of China",
          "National Natural Science Foundation of China",
          "National Natural Science Foundation of China",
          "National Natural Science Foundation of China",
          "National Natural Science Foundation of China",
          "National Natural Science Foundation of China"
         ],
         "yaxis": "y"
        },
        {
         "alignmentgroup": "True",
         "bingroup": "x",
         "hovertemplate": "funder_countries.name=China<br>research_org_names=%{x}<br>count=%{y}<extra></extra>",
         "legendgroup": "China",
         "marker": {
          "color": "#ab63fa"
         },
         "name": "China",
         "offsetgroup": "China",
         "opacity": 0.5,
         "showlegend": false,
         "type": "histogram",
         "visible": true,
         "x": [
          "Fudan University",
          "Tianjin haihe hospital",
          "Fudan University",
          "Huazhong University of Science and Technology",
          "Cancer Hospital of Chinese Academy of Medical Sciences",
          "Cancer Hospital of Chinese Academy of Medical Sciences",
          "Cancer Hospital of Chinese Academy of Medical Sciences"
         ],
         "xaxis": "x2",
         "yaxis": "y2"
        },
        {
         "hovertemplate": "funder_countries.name=Croatia<br>research_org_names=%{x}<br>funding_org_name=%{y}<extra></extra>",
         "legendgroup": "Croatia",
         "marker": {
          "color": "#FFA15A",
          "symbol": "circle"
         },
         "mode": "markers",
         "name": "Croatia",
         "orientation": "v",
         "showlegend": true,
         "type": "scatter",
         "visible": "legendonly",
         "x": [
          "Andrija Stampar Teaching Institute of Public Health"
         ],
         "xaxis": "x",
         "y": [
          "Croatian Science Foundation"
         ],
         "yaxis": "y"
        },
        {
         "alignmentgroup": "True",
         "bingroup": "x",
         "hovertemplate": "funder_countries.name=Croatia<br>research_org_names=%{x}<br>count=%{y}<extra></extra>",
         "legendgroup": "Croatia",
         "marker": {
          "color": "#FFA15A"
         },
         "name": "Croatia",
         "offsetgroup": "Croatia",
         "opacity": 0.5,
         "showlegend": false,
         "type": "histogram",
         "visible": "legendonly",
         "x": [
          "Andrija Stampar Teaching Institute of Public Health"
         ],
         "xaxis": "x2",
         "yaxis": "y2"
        },
        {
         "hovertemplate": "funder_countries.name=Bahamas<br>research_org_names=%{x}<br>funding_org_name=%{y}<extra></extra>",
         "legendgroup": "Bahamas",
         "marker": {
          "color": "#19d3f3",
          "symbol": "circle"
         },
         "mode": "markers",
         "name": "Bahamas",
         "orientation": "v",
         "showlegend": true,
         "type": "scatter",
         "visible": "legendonly",
         "x": [
          "Foundation for Applied Molecular Evolution, Inc."
         ],
         "xaxis": "x",
         "y": [
          "Templeton World Charity Foundation"
         ],
         "yaxis": "y"
        },
        {
         "alignmentgroup": "True",
         "bingroup": "x",
         "hovertemplate": "funder_countries.name=Bahamas<br>research_org_names=%{x}<br>count=%{y}<extra></extra>",
         "legendgroup": "Bahamas",
         "marker": {
          "color": "#19d3f3"
         },
         "name": "Bahamas",
         "offsetgroup": "Bahamas",
         "opacity": 0.5,
         "showlegend": false,
         "type": "histogram",
         "visible": "legendonly",
         "x": [
          "Foundation for Applied Molecular Evolution, Inc."
         ],
         "xaxis": "x2",
         "yaxis": "y2"
        },
        {
         "hovertemplate": "funder_countries.name=South Africa<br>research_org_names=%{x}<br>funding_org_name=%{y}<extra></extra>",
         "legendgroup": "South Africa",
         "marker": {
          "color": "#FF6692",
          "symbol": "circle"
         },
         "mode": "markers",
         "name": "South Africa",
         "orientation": "v",
         "showlegend": true,
         "type": "scatter",
         "visible": "legendonly",
         "x": [
          "University of Cape Town"
         ],
         "xaxis": "x",
         "y": [
          "National Research Foundation"
         ],
         "yaxis": "y"
        },
        {
         "alignmentgroup": "True",
         "bingroup": "x",
         "hovertemplate": "funder_countries.name=South Africa<br>research_org_names=%{x}<br>count=%{y}<extra></extra>",
         "legendgroup": "South Africa",
         "marker": {
          "color": "#FF6692"
         },
         "name": "South Africa",
         "offsetgroup": "South Africa",
         "opacity": 0.5,
         "showlegend": false,
         "type": "histogram",
         "visible": "legendonly",
         "x": [
          "University of Cape Town"
         ],
         "xaxis": "x2",
         "yaxis": "y2"
        },
        {
         "hovertemplate": "funder_countries.name=Portugal<br>research_org_names=%{x}<br>funding_org_name=%{y}<extra></extra>",
         "legendgroup": "Portugal",
         "marker": {
          "color": "#B6E880",
          "symbol": "circle"
         },
         "mode": "markers",
         "name": "Portugal",
         "orientation": "v",
         "showlegend": true,
         "type": "scatter",
         "visible": "legendonly",
         "x": [
          "Deimos Engenharia (Portugal)"
         ],
         "xaxis": "x",
         "y": [
          "Foundation for Science and Technology"
         ],
         "yaxis": "y"
        },
        {
         "alignmentgroup": "True",
         "bingroup": "x",
         "hovertemplate": "funder_countries.name=Portugal<br>research_org_names=%{x}<br>count=%{y}<extra></extra>",
         "legendgroup": "Portugal",
         "marker": {
          "color": "#B6E880"
         },
         "name": "Portugal",
         "offsetgroup": "Portugal",
         "opacity": 0.5,
         "showlegend": false,
         "type": "histogram",
         "visible": "legendonly",
         "x": [
          "Deimos Engenharia (Portugal)"
         ],
         "xaxis": "x2",
         "yaxis": "y2"
        },
        {
         "hovertemplate": "funder_countries.name=Malaysia<br>research_org_names=%{x}<br>funding_org_name=%{y}<extra></extra>",
         "legendgroup": "Malaysia",
         "marker": {
          "color": "#FF97FF",
          "symbol": "circle"
         },
         "mode": "markers",
         "name": "Malaysia",
         "orientation": "v",
         "showlegend": true,
         "type": "scatter",
         "visible": "legendonly",
         "x": [
          "University of Malaya"
         ],
         "xaxis": "x",
         "y": [
          "University of Malaya"
         ],
         "yaxis": "y"
        },
        {
         "alignmentgroup": "True",
         "bingroup": "x",
         "hovertemplate": "funder_countries.name=Malaysia<br>research_org_names=%{x}<br>count=%{y}<extra></extra>",
         "legendgroup": "Malaysia",
         "marker": {
          "color": "#FF97FF"
         },
         "name": "Malaysia",
         "offsetgroup": "Malaysia",
         "opacity": 0.5,
         "showlegend": false,
         "type": "histogram",
         "visible": "legendonly",
         "x": [
          "University of Malaya"
         ],
         "xaxis": "x2",
         "yaxis": "y2"
        }
       ],
       "layout": {
        "autosize": true,
        "barmode": "overlay",
        "legend": {
         "title": {
          "text": "funder_countries.name"
         },
         "tracegroupgap": 0
        },
        "template": {
         "data": {
          "bar": [
           {
            "error_x": {
             "color": "#2a3f5f"
            },
            "error_y": {
             "color": "#2a3f5f"
            },
            "marker": {
             "line": {
              "color": "#E5ECF6",
              "width": 0.5
             },
             "pattern": {
              "fillmode": "overlay",
              "size": 10,
              "solidity": 0.2
             }
            },
            "type": "bar"
           }
          ],
          "barpolar": [
           {
            "marker": {
             "line": {
              "color": "#E5ECF6",
              "width": 0.5
             },
             "pattern": {
              "fillmode": "overlay",
              "size": 10,
              "solidity": 0.2
             }
            },
            "type": "barpolar"
           }
          ],
          "carpet": [
           {
            "aaxis": {
             "endlinecolor": "#2a3f5f",
             "gridcolor": "white",
             "linecolor": "white",
             "minorgridcolor": "white",
             "startlinecolor": "#2a3f5f"
            },
            "baxis": {
             "endlinecolor": "#2a3f5f",
             "gridcolor": "white",
             "linecolor": "white",
             "minorgridcolor": "white",
             "startlinecolor": "#2a3f5f"
            },
            "type": "carpet"
           }
          ],
          "choropleth": [
           {
            "colorbar": {
             "outlinewidth": 0,
             "ticks": ""
            },
            "type": "choropleth"
           }
          ],
          "contour": [
           {
            "colorbar": {
             "outlinewidth": 0,
             "ticks": ""
            },
            "colorscale": [
             [
              0,
              "#0d0887"
             ],
             [
              0.1111111111111111,
              "#46039f"
             ],
             [
              0.2222222222222222,
              "#7201a8"
             ],
             [
              0.3333333333333333,
              "#9c179e"
             ],
             [
              0.4444444444444444,
              "#bd3786"
             ],
             [
              0.5555555555555556,
              "#d8576b"
             ],
             [
              0.6666666666666666,
              "#ed7953"
             ],
             [
              0.7777777777777778,
              "#fb9f3a"
             ],
             [
              0.8888888888888888,
              "#fdca26"
             ],
             [
              1,
              "#f0f921"
             ]
            ],
            "type": "contour"
           }
          ],
          "contourcarpet": [
           {
            "colorbar": {
             "outlinewidth": 0,
             "ticks": ""
            },
            "type": "contourcarpet"
           }
          ],
          "heatmap": [
           {
            "colorbar": {
             "outlinewidth": 0,
             "ticks": ""
            },
            "colorscale": [
             [
              0,
              "#0d0887"
             ],
             [
              0.1111111111111111,
              "#46039f"
             ],
             [
              0.2222222222222222,
              "#7201a8"
             ],
             [
              0.3333333333333333,
              "#9c179e"
             ],
             [
              0.4444444444444444,
              "#bd3786"
             ],
             [
              0.5555555555555556,
              "#d8576b"
             ],
             [
              0.6666666666666666,
              "#ed7953"
             ],
             [
              0.7777777777777778,
              "#fb9f3a"
             ],
             [
              0.8888888888888888,
              "#fdca26"
             ],
             [
              1,
              "#f0f921"
             ]
            ],
            "type": "heatmap"
           }
          ],
          "heatmapgl": [
           {
            "colorbar": {
             "outlinewidth": 0,
             "ticks": ""
            },
            "colorscale": [
             [
              0,
              "#0d0887"
             ],
             [
              0.1111111111111111,
              "#46039f"
             ],
             [
              0.2222222222222222,
              "#7201a8"
             ],
             [
              0.3333333333333333,
              "#9c179e"
             ],
             [
              0.4444444444444444,
              "#bd3786"
             ],
             [
              0.5555555555555556,
              "#d8576b"
             ],
             [
              0.6666666666666666,
              "#ed7953"
             ],
             [
              0.7777777777777778,
              "#fb9f3a"
             ],
             [
              0.8888888888888888,
              "#fdca26"
             ],
             [
              1,
              "#f0f921"
             ]
            ],
            "type": "heatmapgl"
           }
          ],
          "histogram": [
           {
            "marker": {
             "pattern": {
              "fillmode": "overlay",
              "size": 10,
              "solidity": 0.2
             }
            },
            "type": "histogram"
           }
          ],
          "histogram2d": [
           {
            "colorbar": {
             "outlinewidth": 0,
             "ticks": ""
            },
            "colorscale": [
             [
              0,
              "#0d0887"
             ],
             [
              0.1111111111111111,
              "#46039f"
             ],
             [
              0.2222222222222222,
              "#7201a8"
             ],
             [
              0.3333333333333333,
              "#9c179e"
             ],
             [
              0.4444444444444444,
              "#bd3786"
             ],
             [
              0.5555555555555556,
              "#d8576b"
             ],
             [
              0.6666666666666666,
              "#ed7953"
             ],
             [
              0.7777777777777778,
              "#fb9f3a"
             ],
             [
              0.8888888888888888,
              "#fdca26"
             ],
             [
              1,
              "#f0f921"
             ]
            ],
            "type": "histogram2d"
           }
          ],
          "histogram2dcontour": [
           {
            "colorbar": {
             "outlinewidth": 0,
             "ticks": ""
            },
            "colorscale": [
             [
              0,
              "#0d0887"
             ],
             [
              0.1111111111111111,
              "#46039f"
             ],
             [
              0.2222222222222222,
              "#7201a8"
             ],
             [
              0.3333333333333333,
              "#9c179e"
             ],
             [
              0.4444444444444444,
              "#bd3786"
             ],
             [
              0.5555555555555556,
              "#d8576b"
             ],
             [
              0.6666666666666666,
              "#ed7953"
             ],
             [
              0.7777777777777778,
              "#fb9f3a"
             ],
             [
              0.8888888888888888,
              "#fdca26"
             ],
             [
              1,
              "#f0f921"
             ]
            ],
            "type": "histogram2dcontour"
           }
          ],
          "mesh3d": [
           {
            "colorbar": {
             "outlinewidth": 0,
             "ticks": ""
            },
            "type": "mesh3d"
           }
          ],
          "parcoords": [
           {
            "line": {
             "colorbar": {
              "outlinewidth": 0,
              "ticks": ""
             }
            },
            "type": "parcoords"
           }
          ],
          "pie": [
           {
            "automargin": true,
            "type": "pie"
           }
          ],
          "scatter": [
           {
            "marker": {
             "colorbar": {
              "outlinewidth": 0,
              "ticks": ""
             }
            },
            "type": "scatter"
           }
          ],
          "scatter3d": [
           {
            "line": {
             "colorbar": {
              "outlinewidth": 0,
              "ticks": ""
             }
            },
            "marker": {
             "colorbar": {
              "outlinewidth": 0,
              "ticks": ""
             }
            },
            "type": "scatter3d"
           }
          ],
          "scattercarpet": [
           {
            "marker": {
             "colorbar": {
              "outlinewidth": 0,
              "ticks": ""
             }
            },
            "type": "scattercarpet"
           }
          ],
          "scattergeo": [
           {
            "marker": {
             "colorbar": {
              "outlinewidth": 0,
              "ticks": ""
             }
            },
            "type": "scattergeo"
           }
          ],
          "scattergl": [
           {
            "marker": {
             "colorbar": {
              "outlinewidth": 0,
              "ticks": ""
             }
            },
            "type": "scattergl"
           }
          ],
          "scattermapbox": [
           {
            "marker": {
             "colorbar": {
              "outlinewidth": 0,
              "ticks": ""
             }
            },
            "type": "scattermapbox"
           }
          ],
          "scatterpolar": [
           {
            "marker": {
             "colorbar": {
              "outlinewidth": 0,
              "ticks": ""
             }
            },
            "type": "scatterpolar"
           }
          ],
          "scatterpolargl": [
           {
            "marker": {
             "colorbar": {
              "outlinewidth": 0,
              "ticks": ""
             }
            },
            "type": "scatterpolargl"
           }
          ],
          "scatterternary": [
           {
            "marker": {
             "colorbar": {
              "outlinewidth": 0,
              "ticks": ""
             }
            },
            "type": "scatterternary"
           }
          ],
          "surface": [
           {
            "colorbar": {
             "outlinewidth": 0,
             "ticks": ""
            },
            "colorscale": [
             [
              0,
              "#0d0887"
             ],
             [
              0.1111111111111111,
              "#46039f"
             ],
             [
              0.2222222222222222,
              "#7201a8"
             ],
             [
              0.3333333333333333,
              "#9c179e"
             ],
             [
              0.4444444444444444,
              "#bd3786"
             ],
             [
              0.5555555555555556,
              "#d8576b"
             ],
             [
              0.6666666666666666,
              "#ed7953"
             ],
             [
              0.7777777777777778,
              "#fb9f3a"
             ],
             [
              0.8888888888888888,
              "#fdca26"
             ],
             [
              1,
              "#f0f921"
             ]
            ],
            "type": "surface"
           }
          ],
          "table": [
           {
            "cells": {
             "fill": {
              "color": "#EBF0F8"
             },
             "line": {
              "color": "white"
             }
            },
            "header": {
             "fill": {
              "color": "#C8D4E3"
             },
             "line": {
              "color": "white"
             }
            },
            "type": "table"
           }
          ]
         },
         "layout": {
          "annotationdefaults": {
           "arrowcolor": "#2a3f5f",
           "arrowhead": 0,
           "arrowwidth": 1
          },
          "autotypenumbers": "strict",
          "coloraxis": {
           "colorbar": {
            "outlinewidth": 0,
            "ticks": ""
           }
          },
          "colorscale": {
           "diverging": [
            [
             0,
             "#8e0152"
            ],
            [
             0.1,
             "#c51b7d"
            ],
            [
             0.2,
             "#de77ae"
            ],
            [
             0.3,
             "#f1b6da"
            ],
            [
             0.4,
             "#fde0ef"
            ],
            [
             0.5,
             "#f7f7f7"
            ],
            [
             0.6,
             "#e6f5d0"
            ],
            [
             0.7,
             "#b8e186"
            ],
            [
             0.8,
             "#7fbc41"
            ],
            [
             0.9,
             "#4d9221"
            ],
            [
             1,
             "#276419"
            ]
           ],
           "sequential": [
            [
             0,
             "#0d0887"
            ],
            [
             0.1111111111111111,
             "#46039f"
            ],
            [
             0.2222222222222222,
             "#7201a8"
            ],
            [
             0.3333333333333333,
             "#9c179e"
            ],
            [
             0.4444444444444444,
             "#bd3786"
            ],
            [
             0.5555555555555556,
             "#d8576b"
            ],
            [
             0.6666666666666666,
             "#ed7953"
            ],
            [
             0.7777777777777778,
             "#fb9f3a"
            ],
            [
             0.8888888888888888,
             "#fdca26"
            ],
            [
             1,
             "#f0f921"
            ]
           ],
           "sequentialminus": [
            [
             0,
             "#0d0887"
            ],
            [
             0.1111111111111111,
             "#46039f"
            ],
            [
             0.2222222222222222,
             "#7201a8"
            ],
            [
             0.3333333333333333,
             "#9c179e"
            ],
            [
             0.4444444444444444,
             "#bd3786"
            ],
            [
             0.5555555555555556,
             "#d8576b"
            ],
            [
             0.6666666666666666,
             "#ed7953"
            ],
            [
             0.7777777777777778,
             "#fb9f3a"
            ],
            [
             0.8888888888888888,
             "#fdca26"
            ],
            [
             1,
             "#f0f921"
            ]
           ]
          },
          "colorway": [
           "#636efa",
           "#EF553B",
           "#00cc96",
           "#ab63fa",
           "#FFA15A",
           "#19d3f3",
           "#FF6692",
           "#B6E880",
           "#FF97FF",
           "#FECB52"
          ],
          "font": {
           "color": "#2a3f5f"
          },
          "geo": {
           "bgcolor": "white",
           "lakecolor": "white",
           "landcolor": "#E5ECF6",
           "showlakes": true,
           "showland": true,
           "subunitcolor": "white"
          },
          "hoverlabel": {
           "align": "left"
          },
          "hovermode": "closest",
          "mapbox": {
           "style": "light"
          },
          "paper_bgcolor": "white",
          "plot_bgcolor": "#E5ECF6",
          "polar": {
           "angularaxis": {
            "gridcolor": "white",
            "linecolor": "white",
            "ticks": ""
           },
           "bgcolor": "#E5ECF6",
           "radialaxis": {
            "gridcolor": "white",
            "linecolor": "white",
            "ticks": ""
           }
          },
          "scene": {
           "xaxis": {
            "backgroundcolor": "#E5ECF6",
            "gridcolor": "white",
            "gridwidth": 2,
            "linecolor": "white",
            "showbackground": true,
            "ticks": "",
            "zerolinecolor": "white"
           },
           "yaxis": {
            "backgroundcolor": "#E5ECF6",
            "gridcolor": "white",
            "gridwidth": 2,
            "linecolor": "white",
            "showbackground": true,
            "ticks": "",
            "zerolinecolor": "white"
           },
           "zaxis": {
            "backgroundcolor": "#E5ECF6",
            "gridcolor": "white",
            "gridwidth": 2,
            "linecolor": "white",
            "showbackground": true,
            "ticks": "",
            "zerolinecolor": "white"
           }
          },
          "shapedefaults": {
           "line": {
            "color": "#2a3f5f"
           }
          },
          "ternary": {
           "aaxis": {
            "gridcolor": "white",
            "linecolor": "white",
            "ticks": ""
           },
           "baxis": {
            "gridcolor": "white",
            "linecolor": "white",
            "ticks": ""
           },
           "bgcolor": "#E5ECF6",
           "caxis": {
            "gridcolor": "white",
            "linecolor": "white",
            "ticks": ""
           }
          },
          "title": {
           "x": 0.05
          },
          "xaxis": {
           "automargin": true,
           "gridcolor": "white",
           "linecolor": "white",
           "ticks": "",
           "title": {
            "standoff": 15
           },
           "zerolinecolor": "white",
           "zerolinewidth": 2
          },
          "yaxis": {
           "automargin": true,
           "gridcolor": "white",
           "linecolor": "white",
           "ticks": "",
           "title": {
            "standoff": 15
           },
           "zerolinecolor": "white",
           "zerolinewidth": 2
          }
         }
        },
        "title": {
         "text": "Non US funders: overview"
        },
        "xaxis": {
         "anchor": "y",
         "autorange": true,
         "domain": [
          0,
          1
         ],
         "range": [
          169.5,
          173.5
         ],
         "title": {
          "text": "research_org_names"
         },
         "type": "category"
        },
        "xaxis2": {
         "anchor": "y2",
         "autorange": true,
         "domain": [
          0,
          1
         ],
         "matches": "x",
         "range": [
          169.5,
          173.5
         ],
         "showgrid": true,
         "showticklabels": false,
         "type": "category"
        },
        "yaxis": {
         "anchor": "x",
         "autorange": true,
         "domain": [
          0,
          0.7326
         ],
         "range": [
          -1,
          1
         ],
         "title": {
          "text": "funding_org_name"
         },
         "type": "category"
        },
        "yaxis2": {
         "anchor": "x2",
         "autorange": true,
         "domain": [
          0.7426,
          1
         ],
         "matches": "y2",
         "range": [
          0,
          3.1578947368421053
         ],
         "showgrid": true,
         "showline": false,
         "showticklabels": false,
         "ticks": ""
        }
       }
      },
      "image/png": "[encoded data removed]",
      "text/html": [
       "<div>                            <div id=\"77cb1223-9f6b-4a1f-a59b-4a8db7e2d968\" class=\"plotly-graph-div\" style=\"height:800px; width:100%;\"></div>            <script type=\"text/javascript\">                require([\"plotly\"], function(Plotly) {                    window.PLOTLYENV=window.PLOTLYENV || {};                                    if (document.getElementById(\"77cb1223-9f6b-4a1f-a59b-4a8db7e2d968\")) {                    Plotly.newPlot(                        \"77cb1223-9f6b-4a1f-a59b-4a8db7e2d968\",                        [{\"hovertemplate\":\"funder_countries.name=United Kingdom<br>research_org_names=%{x}<br>funding_org_name=%{y}<extra></extra>\",\"legendgroup\":\"United Kingdom\",\"marker\":{\"color\":\"#636efa\",\"symbol\":\"circle\"},\"mode\":\"markers\",\"name\":\"United Kingdom\",\"orientation\":\"v\",\"showlegend\":true,\"type\":\"scatter\",\"x\":[\"King's College London\",\"University of Birmingham\",\"University of Edinburgh\",\"University of Cambridge\",\"Drexel University\",\"University College London\",\"Icahn School of Medicine at Mount Sinai\",\"Tulane University\",\"Cayetano Heredia University\",\"Cayetano Heredia University\",\"Imperial College London\",\"Cayetano Heredia University\",\"Cayetano Heredia University\",\"Brown University\",\"University of Liverpool\",\"Imperial College London\",\"Keele University\",\"Imperial College London\",\"Imperial College London\",\"Imperial College London\",\"St George's Hospital\",\"Moorfields Eye Hospital NHS Foundation Trust\",\"Johns Hopkins University\",\"London School of Hygiene & Tropical Medicine\",\"Johns Hopkins University\",\"Duke-NUS Graduate Medical School\",\"University College London\",\"University of Amsterdam\",\"St. Jude Children's Research Hospital\",\"Weizmann Institute of Science\",\"Newcastle University\",\"University College London\",\"University College London\",\"London School of Hygiene & Tropical Medicine\",\"London School of Hygiene & Tropical Medicine\",\"University of Southampton\",\"Imperial College London\",\"University of Southampton\",\"University of Southampton\",\"University of Southampton\",\"University of Southampton\",\"University of Southampton\",\"University of Southampton\",\"University of Southampton\",\"University of Southampton\",\"University of Southampton\",\"University of Southampton\",\"University of Edinburgh\",\"University of Southampton\",\"University of Southampton\",\"University of Southampton\",\"University of Southampton\",\"University Hospital Southampton NHS Foundation Trust\",\"University of Southampton\",\"University of Southampton\",\"University of Southampton\",\"None\",\"University of Southampton\",\"University of Montreal\",\"University of Southampton\",\"University of Southampton\"],\"xaxis\":\"x\",\"y\":[\"Medical Research Council\",\"Wellcome Trust\",\"Wellcome Trust\",\"Wellcome Trust\",\"Wellcome Trust\",\"Wellcome Trust\",\"Medical Research Council\",\"Wellcome Trust\",\"Wellcome Trust\",\"Wellcome Trust\",\"Medical Research Council\",\"Wellcome Trust\",\"Wellcome Trust\",\"Medical Research Council\",\"Wellcome Trust\",\"Wellcome Trust\",\"Wellcome Trust\",\"Wellcome Trust\",\"Wellcome Trust\",\"Wellcome Trust\",\"Medical Research Council\",\"Medical Research Council\",\"Wellcome Trust\",\"Wellcome Trust\",\"Wellcome Trust\",\"Medical Research Council\",\"Wellcome Trust\",\"Medical Research Council\",\"Medical Research Council\",\"Medical Research Council\",\"Medical Research Council\",\"Wellcome Trust\",\"Wellcome Trust\",\"Medical Research Council\",\"Medical Research Council\",\"Medical Research Council\",\"Wellcome Trust\",\"Cancer Research UK\",\"Cancer Research UK\",\"Cancer Research UK\",\"Cancer Research UK\",\"Cancer Research UK\",\"Cancer Research UK\",\"Cancer Research UK\",\"Cancer Research UK\",\"Blood Cancer UK\",\"Cancer Research UK\",\"Royal Society\",\"Cancer Research UK\",\"Cancer Research UK\",\"Cancer Research UK\",\"Cancer Research UK\",\"Medical Research Council\",\"Blood Cancer UK\",\"Cancer Research UK\",\"Cancer Research UK\",\"Cancer Research UK\",\"Cancer Research UK\",\"Wellcome Trust\",\"Cancer Research UK\",\"Cancer Research UK\"],\"yaxis\":\"y\"},{\"alignmentgroup\":\"True\",\"bingroup\":\"x\",\"hovertemplate\":\"funder_countries.name=United Kingdom<br>research_org_names=%{x}<br>count=%{y}<extra></extra>\",\"legendgroup\":\"United Kingdom\",\"marker\":{\"color\":\"#636efa\"},\"name\":\"United Kingdom\",\"offsetgroup\":\"United Kingdom\",\"opacity\":0.5,\"showlegend\":false,\"type\":\"histogram\",\"x\":[\"King's College London\",\"University of Birmingham\",\"University of Edinburgh\",\"University of Cambridge\",\"Drexel University\",\"University College London\",\"Icahn School of Medicine at Mount Sinai\",\"Tulane University\",\"Cayetano Heredia University\",\"Cayetano Heredia University\",\"Imperial College London\",\"Cayetano Heredia University\",\"Cayetano Heredia University\",\"Brown University\",\"University of Liverpool\",\"Imperial College London\",\"Keele University\",\"Imperial College London\",\"Imperial College London\",\"Imperial College London\",\"St George's Hospital\",\"Moorfields Eye Hospital NHS Foundation Trust\",\"Johns Hopkins University\",\"London School of Hygiene & Tropical Medicine\",\"Johns Hopkins University\",\"Duke-NUS Graduate Medical School\",\"University College London\",\"University of Amsterdam\",\"St. Jude Children's Research Hospital\",\"Weizmann Institute of Science\",\"Newcastle University\",\"University College London\",\"University College London\",\"London School of Hygiene & Tropical Medicine\",\"London School of Hygiene & Tropical Medicine\",\"University of Southampton\",\"Imperial College London\",\"University of Southampton\",\"University of Southampton\",\"University of Southampton\",\"University of Southampton\",\"University of Southampton\",\"University of Southampton\",\"University of Southampton\",\"University of Southampton\",\"University of Southampton\",\"University of Southampton\",\"University of Edinburgh\",\"University of Southampton\",\"University of Southampton\",\"University of Southampton\",\"University of Southampton\",\"University Hospital Southampton NHS Foundation Trust\",\"University of Southampton\",\"University of Southampton\",\"University of Southampton\",\"None\",\"University of Southampton\",\"University of Montreal\",\"University of Southampton\",\"University of Southampton\"],\"xaxis\":\"x2\",\"yaxis\":\"y2\"},{\"hovertemplate\":\"funder_countries.name=Switzerland<br>research_org_names=%{x}<br>funding_org_name=%{y}<extra></extra>\",\"legendgroup\":\"Switzerland\",\"marker\":{\"color\":\"#EF553B\",\"symbol\":\"circle\"},\"mode\":\"markers\",\"name\":\"Switzerland\",\"orientation\":\"v\",\"showlegend\":true,\"type\":\"scatter\",\"x\":[\"University of Zurich\",\"University of Zurich\",\"University Hospital of Zurich\",\"University of Zurich\",\"University of North Carolina System\",\"ETH Zurich\",\"ETH Zurich\",\"ETH Zurich\",\"UNI: Whitehead Inst. for Biomedical Research Cambridge USA\",\"ETH Zurich\",\"University of Florida\",\"ETH Zurich\",\"ETH Zurich\",\"ETH Zurich\",\"ETH Zurich\",\"ETH Zurich\",\"Cardiff University\",\"Swiss Federal Institute of Technology in Lausanne\",\"Johns Hopkins University\",\"Johns Hopkins University\",\"Johns Hopkins University\",\"Johns Hopkins University\",\"Johns Hopkins University\",\"Johns Hopkins University\",\"Johns Hopkins University\",\"Johns Hopkins University\"],\"xaxis\":\"x\",\"y\":[\"Swiss National Science Foundation\",\"Swiss National Science Foundation\",\"Swiss National Science Foundation\",\"Swiss National Science Foundation\",\"World Health Organization\",\"Swiss National Science Foundation\",\"Swiss National Science Foundation\",\"Swiss National Science Foundation\",\"Swiss National Science Foundation\",\"Swiss National Science Foundation\",\"Swiss National Science Foundation\",\"Swiss National Science Foundation\",\"Swiss National Science Foundation\",\"Swiss National Science Foundation\",\"Swiss National Science Foundation\",\"Swiss National Science Foundation\",\"Swiss National Science Foundation\",\"Swiss National Science Foundation\",\"World Health Organization\",\"World Health Organization\",\"World Health Organization\",\"World Health Organization\",\"World Health Organization\",\"World Health Organization\",\"World Health Organization\",\"World Health Organization\"],\"yaxis\":\"y\"},{\"alignmentgroup\":\"True\",\"bingroup\":\"x\",\"hovertemplate\":\"funder_countries.name=Switzerland<br>research_org_names=%{x}<br>count=%{y}<extra></extra>\",\"legendgroup\":\"Switzerland\",\"marker\":{\"color\":\"#EF553B\"},\"name\":\"Switzerland\",\"offsetgroup\":\"Switzerland\",\"opacity\":0.5,\"showlegend\":false,\"type\":\"histogram\",\"x\":[\"University of Zurich\",\"University of Zurich\",\"University Hospital of Zurich\",\"University of Zurich\",\"University of North Carolina System\",\"ETH Zurich\",\"ETH Zurich\",\"ETH Zurich\",\"UNI: Whitehead Inst. for Biomedical Research Cambridge USA\",\"ETH Zurich\",\"University of Florida\",\"ETH Zurich\",\"ETH Zurich\",\"ETH Zurich\",\"ETH Zurich\",\"ETH Zurich\",\"Cardiff University\",\"Swiss Federal Institute of Technology in Lausanne\",\"Johns Hopkins University\",\"Johns Hopkins University\",\"Johns Hopkins University\",\"Johns Hopkins University\",\"Johns Hopkins University\",\"Johns Hopkins University\",\"Johns Hopkins University\",\"Johns Hopkins University\"],\"xaxis\":\"x2\",\"yaxis\":\"y2\"},{\"hovertemplate\":\"funder_countries.name=Japan<br>research_org_names=%{x}<br>funding_org_name=%{y}<extra></extra>\",\"legendgroup\":\"Japan\",\"marker\":{\"color\":\"#00cc96\",\"symbol\":\"circle\"},\"mode\":\"markers\",\"name\":\"Japan\",\"orientation\":\"v\",\"showlegend\":true,\"type\":\"scatter\",\"x\":[\"K\\u014dchi University\",\"University of Tokyo\",\"University of Tokyo\",\"University of Tokyo\",\"University of Tokyo\",\"University of Tokyo\",\"University of Tokyo\",\"University of Tokyo\",\"University of Tokyo\",\"Columbia University\",\"University of Tokyo\",\"University of Tokyo\",\"K\\u014dchi University\",\"University of Electro-Communications\",\"University of Tokyo\",\"Shimane University\",\"University of Tokyo\",\"University of Tokyo\",\"Columbia University\",\"University of Tokyo\",\"University of Tokyo\",\"University of Tokyo\",\"Okayama University\",\"National Institute of Infectious Diseases\",\"Wakayama Medical University\",\"Okayama University\",\"Okayama University\",\"National Institute of Infectious Diseases\",\"National Institute of Infectious Diseases\",\"National Institute of Infectious Diseases\",\"National Institute of Infectious Diseases\",\"National Institute of Infectious Diseases\",\"Okayama University\",\"Okayama University\",\"Pharmaceutical Infrastructure Research Laboratories\",\"Okayama University\",\"Okayama University\",\"National Institute of Biomedical Innovation, Health and Nutrition\",\"Okayama University\",\"Okayama University\",\"Pharmaceutical Infrastructure Research Laboratories\",\"Pharmaceutical Infrastructure Research Laboratories\",\"National Institute of Infectious Diseases\",\"Okayama University\",\"National Institute of Infectious Diseases\",\"National Institute of Infectious Diseases\",\"National Institute of Infectious Diseases\",\"University of Tokyo\",\"Niigata University\",\"National Institute of Infectious Diseases\",\"Niigata University\",\"National Institute of Infectious Diseases\",\"National Institute of Infectious Diseases\",\"National Institute of Infectious Diseases\",\"University of Tokyo\",\"Kobe University\",\"University of Tokyo\",\"National Institute of Infectious Diseases\",\"Okayama University\",\"National Institute of Infectious Diseases\",\"National Institute of Infectious Diseases\",\"National Institute of Infectious Diseases\",\"National Institute of Infectious Diseases\",\"National Institute of Infectious Diseases\",\"National Institute of Infectious Diseases\",\"National Institute of Infectious Diseases\",\"Hokkaido University\",\"University of Tokyo\",\"University of Tokyo\",\"University of Tokyo\",\"Tochigi Branch\",\"University of Tokyo\",\"Kaketsuken (Japan)\",\"University of Tokyo\",\"University of Tokyo\",\"University of Tokyo\",\"\\u30a6\\u30a4\\u30b9\\u30b3\\u30f3\\u30b7\\u30f3\\u5927\\u5b66\",\"St. Jude Children's. Res. Hospital Dept. Vir\",\"\\u30ed\\u30b7\\u30a2\\u79d1\\u5b66\\u30a2\\u30ab\\u30c7\\u30df\\u30fc\",\"\\u30bb\\u30f3\\u30c8\",\"Hokkaido University\",\"Tottori University\",\"Tottori University\",\"Tottori University\",\"Tottori University\",\"Animal Health Research Division, Virus, Epidemiology Research Area, Pig Virus Unit\",\"University of Southern\",\"Tohoku University\",\"\\u30a2\\u30eb\\u30d0\\u30fc\\u30c8\\u30a2\\u30a4\\u30f3\\u30b7\\u30e5\\u30bf\\u30a4\\u30f3\\u533b\\u79d1\\u5927\\u5b66\",\"\\u7c73\\u56fd Wayne \\u5dde\\u7acb\\u5927\\u5b66\",\"\\u7c73\\u56fdWayne\\u5dde\\u7acb\\u5927\\u5b66\",\"\\u5ddd\\u5d0e\\u533b\\u5927\",\"Kawasaki Medical School\",\"Kawasaki Medical School\",\"Kawasaki Medical Sch.Medical School\",\"Kawasaki Medical School\",\"Kawasaki Medical School\",\"Kawasaki Medical School\",\"Kawasaki Medical School\",\"Kawasaki Medical School\",\"Kawasaki Medical School\",\"Osaka University\",\"UT Southwestern\",\"University of Queensland\",\"University of Paris\"],\"xaxis\":\"x\",\"y\":[\"Japan Society for the Promotion of Science\",\"Japan Agency for Medical Research and Development\",\"Japan Agency for Medical Research and Development\",\"Japan Agency for Medical Research and Development\",\"Japan Agency for Medical Research and Development\",\"Japan Agency for Medical Research and Development\",\"Japan Society for the Promotion of Science\",\"Japan Agency for Medical Research and Development\",\"Japan Agency for Medical Research and Development\",\"Japan Society for the Promotion of Science\",\"Japan Society for the Promotion of Science\",\"Japan Society for the Promotion of Science\",\"Japan Society for the Promotion of Science\",\"Japan Society for the Promotion of Science\",\"Japan Society for the Promotion of Science\",\"Japan Society for the Promotion of Science\",\"Japan Agency for Medical Research and Development\",\"Japan Agency for Medical Research and Development\",\"Japan Society for the Promotion of Science\",\"Ministry of Health Labour and Welfare\",\"Japan Agency for Medical Research and Development\",\"Japan Science and Technology Agency\",\"Ministry of Health Labour and Welfare\",\"Ministry of Health Labour and Welfare\",\"Ministry of Health Labour and Welfare\",\"Ministry of Health Labour and Welfare\",\"Ministry of Health Labour and Welfare\",\"Ministry of Health Labour and Welfare\",\"Ministry of Health Labour and Welfare\",\"Ministry of Health Labour and Welfare\",\"Ministry of Health Labour and Welfare\",\"Ministry of Health Labour and Welfare\",\"Ministry of Health Labour and Welfare\",\"Ministry of Health Labour and Welfare\",\"Ministry of Health Labour and Welfare\",\"Ministry of Health Labour and Welfare\",\"Ministry of Health Labour and Welfare\",\"Ministry of Health Labour and Welfare\",\"Ministry of Health Labour and Welfare\",\"Ministry of Health Labour and Welfare\",\"Ministry of Health Labour and Welfare\",\"Ministry of Health Labour and Welfare\",\"Ministry of Health Labour and Welfare\",\"Ministry of Health Labour and Welfare\",\"Ministry of Health Labour and Welfare\",\"Ministry of Health Labour and Welfare\",\"Ministry of Health Labour and Welfare\",\"Japan Science and Technology Agency\",\"Ministry of Health Labour and Welfare\",\"Ministry of Health Labour and Welfare\",\"Ministry of Health Labour and Welfare\",\"Ministry of Health Labour and Welfare\",\"Ministry of Health Labour and Welfare\",\"Ministry of Health Labour and Welfare\",\"Japan Society for the Promotion of Science\",\"Japan Society for the Promotion of Science\",\"Japan Society for the Promotion of Science\",\"Ministry of Health Labour and Welfare\",\"Ministry of Health Labour and Welfare\",\"Ministry of Health Labour and Welfare\",\"Ministry of Health Labour and Welfare\",\"Ministry of Health Labour and Welfare\",\"Ministry of Health Labour and Welfare\",\"Ministry of Health Labour and Welfare\",\"Ministry of Health Labour and Welfare\",\"Ministry of Health Labour and Welfare\",\"Japan Society for the Promotion of Science\",\"Japan Society for the Promotion of Science\",\"Japan Science and Technology Agency\",\"Japan Society for the Promotion of Science\",\"Japan Society for the Promotion of Science\",\"Japan Society for the Promotion of Science\",\"Japan Society for the Promotion of Science\",\"Japan Society for the Promotion of Science\",\"Japan Society for the Promotion of Science\",\"Japan Society for the Promotion of Science\",\"Japan Society for the Promotion of Science\",\"Japan Society for the Promotion of Science\",\"Japan Society for the Promotion of Science\",\"Japan Society for the Promotion of Science\",\"Japan Society for the Promotion of Science\",\"Japan Society for the Promotion of Science\",\"Japan Society for the Promotion of Science\",\"Japan Society for the Promotion of Science\",\"Japan Society for the Promotion of Science\",\"National Agriculture and Food Research Organization\",\"Japan Society for the Promotion of Science\",\"Japan Society for the Promotion of Science\",\"Japan Society for the Promotion of Science\",\"Japan Society for the Promotion of Science\",\"Japan Society for the Promotion of Science\",\"Japan Society for the Promotion of Science\",\"Japan Society for the Promotion of Science\",\"Japan Society for the Promotion of Science\",\"Japan Society for the Promotion of Science\",\"Japan Society for the Promotion of Science\",\"Japan Society for the Promotion of Science\",\"Japan Society for the Promotion of Science\",\"Japan Society for the Promotion of Science\",\"Japan Society for the Promotion of Science\",\"Japan Society for the Promotion of Science\",\"Japan Society for the Promotion of Science\",\"Japan Society for the Promotion of Science\",\"Japan Society for the Promotion of Science\",\"Japan Society for the Promotion of Science\"],\"yaxis\":\"y\"},{\"alignmentgroup\":\"True\",\"bingroup\":\"x\",\"hovertemplate\":\"funder_countries.name=Japan<br>research_org_names=%{x}<br>count=%{y}<extra></extra>\",\"legendgroup\":\"Japan\",\"marker\":{\"color\":\"#00cc96\"},\"name\":\"Japan\",\"offsetgroup\":\"Japan\",\"opacity\":0.5,\"showlegend\":false,\"type\":\"histogram\",\"x\":[\"K\\u014dchi University\",\"University of Tokyo\",\"University of Tokyo\",\"University of Tokyo\",\"University of Tokyo\",\"University of Tokyo\",\"University of Tokyo\",\"University of Tokyo\",\"University of Tokyo\",\"Columbia University\",\"University of Tokyo\",\"University of Tokyo\",\"K\\u014dchi University\",\"University of Electro-Communications\",\"University of Tokyo\",\"Shimane University\",\"University of Tokyo\",\"University of Tokyo\",\"Columbia University\",\"University of Tokyo\",\"University of Tokyo\",\"University of Tokyo\",\"Okayama University\",\"National Institute of Infectious Diseases\",\"Wakayama Medical University\",\"Okayama University\",\"Okayama University\",\"National Institute of Infectious Diseases\",\"National Institute of Infectious Diseases\",\"National Institute of Infectious Diseases\",\"National Institute of Infectious Diseases\",\"National Institute of Infectious Diseases\",\"Okayama University\",\"Okayama University\",\"Pharmaceutical Infrastructure Research Laboratories\",\"Okayama University\",\"Okayama University\",\"National Institute of Biomedical Innovation, Health and Nutrition\",\"Okayama University\",\"Okayama University\",\"Pharmaceutical Infrastructure Research Laboratories\",\"Pharmaceutical Infrastructure Research Laboratories\",\"National Institute of Infectious Diseases\",\"Okayama University\",\"National Institute of Infectious Diseases\",\"National Institute of Infectious Diseases\",\"National Institute of Infectious Diseases\",\"University of Tokyo\",\"Niigata University\",\"National Institute of Infectious Diseases\",\"Niigata University\",\"National Institute of Infectious Diseases\",\"National Institute of Infectious Diseases\",\"National Institute of Infectious Diseases\",\"University of Tokyo\",\"Kobe University\",\"University of Tokyo\",\"National Institute of Infectious Diseases\",\"Okayama University\",\"National Institute of Infectious Diseases\",\"National Institute of Infectious Diseases\",\"National Institute of Infectious Diseases\",\"National Institute of Infectious Diseases\",\"National Institute of Infectious Diseases\",\"National Institute of Infectious Diseases\",\"National Institute of Infectious Diseases\",\"Hokkaido University\",\"University of Tokyo\",\"University of Tokyo\",\"University of Tokyo\",\"Tochigi Branch\",\"University of Tokyo\",\"Kaketsuken (Japan)\",\"University of Tokyo\",\"University of Tokyo\",\"University of Tokyo\",\"\\u30a6\\u30a4\\u30b9\\u30b3\\u30f3\\u30b7\\u30f3\\u5927\\u5b66\",\"St. Jude Children's. Res. Hospital Dept. Vir\",\"\\u30ed\\u30b7\\u30a2\\u79d1\\u5b66\\u30a2\\u30ab\\u30c7\\u30df\\u30fc\",\"\\u30bb\\u30f3\\u30c8\",\"Hokkaido University\",\"Tottori University\",\"Tottori University\",\"Tottori University\",\"Tottori University\",\"Animal Health Research Division, Virus, Epidemiology Research Area, Pig Virus Unit\",\"University of Southern\",\"Tohoku University\",\"\\u30a2\\u30eb\\u30d0\\u30fc\\u30c8\\u30a2\\u30a4\\u30f3\\u30b7\\u30e5\\u30bf\\u30a4\\u30f3\\u533b\\u79d1\\u5927\\u5b66\",\"\\u7c73\\u56fd Wayne \\u5dde\\u7acb\\u5927\\u5b66\",\"\\u7c73\\u56fdWayne\\u5dde\\u7acb\\u5927\\u5b66\",\"\\u5ddd\\u5d0e\\u533b\\u5927\",\"Kawasaki Medical School\",\"Kawasaki Medical School\",\"Kawasaki Medical Sch.Medical School\",\"Kawasaki Medical School\",\"Kawasaki Medical School\",\"Kawasaki Medical School\",\"Kawasaki Medical School\",\"Kawasaki Medical School\",\"Kawasaki Medical School\",\"Osaka University\",\"UT Southwestern\",\"University of Queensland\",\"University of Paris\"],\"xaxis\":\"x2\",\"yaxis\":\"y2\"},{\"hovertemplate\":\"funder_countries.name=Canada<br>research_org_names=%{x}<br>funding_org_name=%{y}<extra></extra>\",\"legendgroup\":\"Canada\",\"marker\":{\"color\":\"#ab63fa\",\"symbol\":\"circle\"},\"mode\":\"markers\",\"name\":\"Canada\",\"orientation\":\"v\",\"showlegend\":true,\"type\":\"scatter\",\"x\":[\"Centre for Gender and Sexual Health Equity\",\"Simon Fraser University\",\"Centre for Addiction and Mental Health\",\"Centre for Gender and Sexual Health Equity\",\"Centre for Gender and Sexual Health Equity\",\"Centre for Gender and Sexual Health Equity\",\"Princess Margaret Cancer Centre\",\"Centre for Gender and Sexual Health Equity\",\"Centre for Gender and Sexual Health Equity\",\"Centre for Gender and Sexual Health Equity\",\"Centre for Gender and Sexual Health Equity\",\"University of British Columbia\",\"First Nations Health Authority\",\"University of British Columbia\",\"University of Calgary\",\"University of British Columbia\",\"Women's Health In Women's Hands\",\"University of British Columbia\",\"University of British Columbia\",\"St. Paul's Hospital\",\"University of British Columbia\",\"University of British Columbia\",\"University of British Columbia\",\"University of British Columbia\",\"University of British Columbia\",\"St. Paul's Hospital\",\"University of British Columbia\",\"St. Paul's Hospital\",\"St. Paul's Hospital\",\"Centre Hospitalier Universitaire Sainte-Justine\",\"St. Paul's Hospital\",\"University of British Columbia\",\"St. Paul's Hospital\",\"University of British Columbia\",\"St. Paul's Hospital\",\"University of Ottawa\",\"University of British Columbia\",\"University of British Columbia\",\"University of Ottawa\",\"University of British Columbia\",\"University of Victoria\",\"University of British Columbia\",\"University of British Columbia\",\"University of British Columbia\",\"St. Paul's Hospital\",\"St. Paul's Hospital\",\"University of Ottawa\",\"Ottawa Hospital\",\"University of Victoria\",\"St. Paul's Hospital\",\"St. Paul's Hospital\",\"St. Paul's Hospital\",\"St. Paul's Hospital\",\"No Partners\",\"University of British Columbia\",\"No Partners\",\"University of Ottawa\",\"St. Paul's Hospital\",\"British Columbia Children's Hospital\",\"St. Paul's Hospital\",\"St. Paul's Hospital\",\"University of British Columbia\",\"St. Paul's Hospital\",\"St. Paul's Hospital\",\"No Partners\",\"National Jewish Centre\",\"National Jewish Centre\",\"Hospital for Sick Children\",\"Hospital for Sick Children\",\"McGill University\",\"Hospital for Sick Children\",\"Stanford University\",\"Rockefeller University\",\"University of Cape Town\",\"Hospital for Sick Children\",\"Hospital for Sick Children\",\"University of Toronto\",\"Hospital for Sick Children\",\"Queen's University\",\"University of British Columbia\",\"University of North Carolina\",\"Hospital for Sick Children\",\"University of New Brunswick\",\"Lunenfeld-Tanenbaum Research Institute\",\"Ottawa Hospital\",\"Ottawa Hospital\",\"University of California\",\"University of Toronto\",\"University of Toronto\",\"ExcellThera\",\"No Partners\",\"No Partners\",\"ExcellThera\",\"University of Toronto\",\"Xagenic Inc.\",\"University of Toronto\",\"University of Toronto\",\"Xagenic Inc.\",\"No Partners\",\"No Partners\",\"University of Toronto\",\"Hospital for Sick Children\",\"University of Toronto\",\"University of Toronto\",\"Hospital for Sick Children\",\"University of Calgary\",\"University of Toronto\",\"University of Toronto\",\"Trojan Technologies (Canada)\",\"Canadian Institutes of Health Research\",\"No Partners\",\"University of Toronto\",\"University of Toronto\",\"University of Toronto\",\"No Partners\",\"No Partners\",\"University of Toronto\",\"No Partners\",\"Kalgene Pharmaceuticals Inc.\",\"University Health Network\",\"No Partners\",\"University of Toronto\",\"University of Toronto\",\"University of Toronto\",\"No Partners\",\"No Partners\",\"University of Toronto\",\"University of Toronto\",\"University of Toronto\",\"Johns Hopkins University\",\"University of Toronto\",\"Princess Margaret Cancer Centre\",\"Princess Margaret Cancer Centre\",\"No Partners\",\"University of Toronto\",\"Nuu Chah Nulth Tribal Council\",\"St. Paul's Hospital\",\"Public Health Ontario\",\"University of British Columbia\",\"University of British Columbia\",\"St. Paul's Hospital\",\"Simon Fraser University\",\"Simon Fraser University\",\"Simon Fraser University\",\"University of British Columbia\",\"St. Paul's Hospital\",\"St. Paul's Hospital\",\"University of British Columbia\",\"University of British Columbia\",\"St. Paul's Hospital\",\"St. Paul's Hospital\",\"St. Paul's Hospital\",\"St. Paul's Hospital\",\"Simon Fraser University\",\"St. Paul's Hospital\",\"University of British Columbia\",\"Simon Fraser University\",\"Simon Fraser University\",\"St. Paul's Hospital\",\"University of British Columbia\",\"University of Iowa\",\"University of British Columbia\",\"University of British Columbia\",\"Columbia University\",\"University of British Columbia\",\"University of British Columbia\",\"University of British Columbia\",\"Columbia University\",\"Scripps Research Institute\",\"Dalhousie University\",\"St. Lukes-Roosevelt Hospital Center\",\"Canadian National Institute Of Health\",\"No Partners\",\"University of Manitoba\",\"University of Manitoba\",\"Columbia University\",\"New York Genome Center\",\"Harvard University\",\"Centre Hospitalier Universitaire Sainte-Justine\",\"Stanford University\",\"Simon Fraser University\",\"Centre Hospitalier de l\\u2019Universit\\u00e9 de Montr\\u00e9al\",\"Centre Hospitalier de l\\u2019Universit\\u00e9 de Montr\\u00e9al\",\"McGill University Health Centre\",\"Centre Hospitalier de l\\u2019Universit\\u00e9 de Montr\\u00e9al\",\"Centre Hospitalier de l\\u2019Universit\\u00e9 de Montr\\u00e9al\",\"Centre Hospitalier de l\\u2019Universit\\u00e9 de Montr\\u00e9al\",\"University of Montreal\",\"Centre Hospitalier de l\\u2019Universit\\u00e9 de Montr\\u00e9al\",\"Centre Hospitalier de l\\u2019Universit\\u00e9 de Montr\\u00e9al\",\"Centre Hospitalier de l\\u2019Universit\\u00e9 de Montr\\u00e9al\",\"Centre Hospitalier de l\\u2019Universit\\u00e9 de Montr\\u00e9al\",\"Children's & Women's Health Centre of British Columbia\",\"Centre Hospitalier de l\\u2019Universit\\u00e9 de Montr\\u00e9al\",\"University of Montreal\",\"Centre Hospitalier de l\\u2019Universit\\u00e9 de Montr\\u00e9al\",\"H\\u00f4pital Saint-Luc\",\"University of Montreal\",\"University of Montreal\",\"Canadian Institutes of Health Research\",\"Centre Hospitalier de l\\u2019Universit\\u00e9 de Montr\\u00e9al\",\"Centre Hospitalier de l\\u2019Universit\\u00e9 de Montr\\u00e9al\",\"H\\u00f4pital Saint-Luc\",\"No Partners\",\"University of Montreal\",\"University of Montreal\",\"Centre Hospitalier de l\\u2019Universit\\u00e9 de Montr\\u00e9al\",\"McGill University\",\"University of Montreal\",\"University of Montreal\",\"University of Montreal\",\"No Partners\",\"University of Toronto\",\"H\\u00f4tel-Dieu de Montr\\u00e9al\",\"University of Montreal\",\"University of Montreal\",\"University of Montreal\",\"McGill University\",\"University of Montreal\",\"University of Montreal\",\"Western University\",\"Ottawa Hospital\",\"No Partners\",\"University of Montreal\",\"University of Montreal\",\"University of Montreal\",\"University of Montreal\",\"McMaster University\",\"University of Montreal\",\"University of Montreal\",\"University of Montreal\",\"University of Montreal\",\"Canadian Institutes of Health Research\",\"No Partners\",\"University of Montreal\",\"University of Montreal\",\"University of Montreal\",\"Institut de Recherches Cliniques de Montr\\u00e9al\",\"Institut de Recherches Cliniques de Montr\\u00e9al\",\"University of Montreal\",\"University of Montreal\",\"No Partners\",\"Western University\",\"Institut de Recherches Cliniques de Montr\\u00e9al\"],\"xaxis\":\"x\",\"y\":[\"Canadian Institutes of Health Research\",\"Canadian Institutes of Health Research\",\"Canadian Institutes of Health Research\",\"Canadian Institutes of Health Research\",\"Canadian Institutes of Health Research\",\"Canadian Institutes of Health Research\",\"Canadian Cancer Society\",\"Canadian Institutes of Health Research\",\"Canadian Institutes of Health Research\",\"Canadian Institutes of Health Research\",\"Canadian Institutes of Health Research\",\"Canadian Institutes of Health Research\",\"Canadian Institutes of Health Research\",\"Canadian Institutes of Health Research\",\"Canadian Institutes of Health Research\",\"Canadian Institutes of Health Research\",\"Canadian Institutes of Health Research\",\"Canadian Institutes of Health Research\",\"Canadian Institutes of Health Research\",\"Canadian Institutes of Health Research\",\"Canadian Institutes of Health Research\",\"Canadian Institutes of Health Research\",\"Canadian Institutes of Health Research\",\"Canadian Institutes of Health Research\",\"Social Sciences and Humanities Research Council\",\"Canadian Institutes of Health Research\",\"Canadian Institutes of Health Research\",\"Canadian Institutes of Health Research\",\"Canadian Institutes of Health Research\",\"Canadian Institutes of Health Research\",\"Canadian Institutes of Health Research\",\"Canadian Institutes of Health Research\",\"Canadian Institutes of Health Research\",\"Canadian Institutes of Health Research\",\"Canadian Institutes of Health Research\",\"Canadian Institutes of Health Research\",\"Canadian Institutes of Health Research\",\"Canadian Institutes of Health Research\",\"Canadian Institutes of Health Research\",\"Canadian Institutes of Health Research\",\"Canadian Institutes of Health Research\",\"Michael Smith Foundation for Health Research\",\"Canadian Institutes of Health Research\",\"Canadian Institutes of Health Research\",\"Canadian Institutes of Health Research\",\"Canadian Institutes of Health Research\",\"Canadian Institutes of Health Research\",\"Canadian Institutes of Health Research\",\"Canadian Institutes of Health Research\",\"Canadian Institutes of Health Research\",\"Canadian Institutes of Health Research\",\"Canadian Institutes of Health Research\",\"Canadian Institutes of Health Research\",\"Natural Sciences and Engineering Research Council\",\"Canadian Institutes of Health Research\",\"Natural Sciences and Engineering Research Council\",\"Canadian Institutes of Health Research\",\"Canadian Institutes of Health Research\",\"Canadian Institutes of Health Research\",\"Canadian Institutes of Health Research\",\"Canadian Institutes of Health Research\",\"Michael Smith Foundation for Health Research\",\"Canadian Institutes of Health Research\",\"Canadian Institutes of Health Research\",\"Natural Sciences and Engineering Research Council\",\"Heart and Stroke Foundation\",\"Canadian Institutes of Health Research\",\"Canadian Institutes of Health Research\",\"Canadian Institutes of Health Research\",\"Canadian Institutes of Health Research\",\"Canadian Institutes of Health Research\",\"Canadian Institutes of Health Research\",\"Canadian Institutes of Health Research\",\"Canadian Institutes of Health Research\",\"Canadian Cancer Society\",\"Canadian Institutes of Health Research\",\"Canadian Institutes of Health Research\",\"Canadian Institutes of Health Research\",\"Canadian Institutes of Health Research\",\"Canadian Institutes of Health Research\",\"Canadian Institutes of Health Research\",\"Canadian Institutes of Health Research\",\"Canadian Institutes of Health Research\",\"Canadian Breast Cancer Foundation\",\"Canadian Institutes of Health Research\",\"Canadian Institutes of Health Research\",\"Canadian Institutes of Health Research\",\"Canadian Institutes of Health Research\",\"Social Sciences and Humanities Research Council\",\"Natural Sciences and Engineering Research Council\",\"Natural Sciences and Engineering Research Council\",\"Natural Sciences and Engineering Research Council\",\"Natural Sciences and Engineering Research Council\",\"Canadian Institutes of Health Research\",\"Natural Sciences and Engineering Research Council\",\"Canadian Institutes of Health Research\",\"Canadian Institutes of Health Research\",\"Natural Sciences and Engineering Research Council\",\"Natural Sciences and Engineering Research Council\",\"Natural Sciences and Engineering Research Council\",\"Ministry of Economic Development, Job Creation and Trade\",\"Canadian Cancer Society\",\"Canadian Institutes of Health Research\",\"Canadian Institutes of Health Research\",\"Canadian Cancer Society\",\"Alberta Innovates\",\"Canadian Institutes of Health Research\",\"Genome Canada\",\"Natural Sciences and Engineering Research Council\",\"Natural Sciences and Engineering Research Council\",\"Natural Sciences and Engineering Research Council\",\"Canadian Institutes of Health Research\",\"Canadian Institutes of Health Research\",\"Ministry of Economic Development, Job Creation and Trade\",\"Natural Sciences and Engineering Research Council\",\"Natural Sciences and Engineering Research Council\",\"Canadian Institutes of Health Research\",\"Natural Sciences and Engineering Research Council\",\"Natural Sciences and Engineering Research Council\",\"Ontario Institute for Cancer Research\",\"Natural Sciences and Engineering Research Council\",\"Canadian Institutes of Health Research\",\"Ministry of Economic Development, Job Creation and Trade\",\"Canada Foundation for Innovation\",\"Natural Sciences and Engineering Research Council\",\"Natural Sciences and Engineering Research Council\",\"Canadian Institutes of Health Research\",\"Canadian Cancer Society\",\"Ministry of Economic Development, Job Creation and Trade\",\"Canadian Institutes of Health Research\",\"Genome Canada\",\"Canadian Institutes of Health Research\",\"Terry Fox Foundation\",\"Natural Sciences and Engineering Research Council\",\"Canadian Institutes of Health Research\",\"Canadian Institutes of Health Research\",\"Canadian Institutes of Health Research\",\"Canadian Institutes of Health Research\",\"Canadian Institutes of Health Research\",\"Canadian Institutes of Health Research\",\"Canadian Institutes of Health Research\",\"Canadian Institutes of Health Research\",\"Michael Smith Foundation for Health Research\",\"Canadian Institutes of Health Research\",\"Canadian Institutes of Health Research\",\"Canadian Institutes of Health Research\",\"Canadian Institutes of Health Research\",\"Canadian Institutes of Health Research\",\"Canadian Institutes of Health Research\",\"Canadian Institutes of Health Research\",\"Canadian Institutes of Health Research\",\"Canadian Institutes of Health Research\",\"Canadian Institutes of Health Research\",\"Canadian Institutes of Health Research\",\"Canadian Institutes of Health Research\",\"Canadian Institutes of Health Research\",\"Canadian Institutes of Health Research\",\"Michael Smith Foundation for Health Research\",\"Canadian Institutes of Health Research\",\"Social Sciences and Humanities Research Council\",\"Canadian Institutes of Health Research\",\"Canadian Institutes of Health Research\",\"Michael Smith Foundation for Health Research\",\"Terry Fox Foundation\",\"Canadian Institutes of Health Research\",\"Canadian Institutes of Health Research\",\"Michael Smith Foundation for Health Research\",\"Terry Fox Foundation\",\"Canadian Institutes of Health Research\",\"Canadian Tobacco Control Research Initiative\",\"Canadian Institutes of Health Research\",\"Canadian Institutes of Health Research\",\"Natural Sciences and Engineering Research Council\",\"Canadian Institutes of Health Research\",\"Canadian Institutes of Health Research\",\"Canadian Institutes of Health Research\",\"Canadian Institutes of Health Research\",\"Canadian Institutes of Health Research\",\"Canadian Institutes of Health Research\",\"Canadian Institutes of Health Research\",\"Canadian Institutes of Health Research\",\"Canadian Institutes of Health Research\",\"Canadian Institutes of Health Research\",\"Canadian Institutes of Health Research\",\"Canadian Institutes of Health Research\",\"Canadian Institutes of Health Research\",\"Canadian Institutes of Health Research\",\"Canadian Institutes of Health Research\",\"Canadian Institutes of Health Research\",\"Canadian Institutes of Health Research\",\"Canadian Institutes of Health Research\",\"Canadian Institutes of Health Research\",\"Canadian Institutes of Health Research\",\"Canadian Institutes of Health Research\",\"Canadian Institutes of Health Research\",\"Canadian Institutes of Health Research\",\"Canadian Institutes of Health Research\",\"Canadian Institutes of Health Research\",\"Canadian Institutes of Health Research\",\"Natural Sciences and Engineering Research Council\",\"Canadian Institutes of Health Research\",\"Canadian Institutes of Health Research\",\"Canadian Institutes of Health Research\",\"Natural Sciences and Engineering Research Council\",\"Canada Foundation for Innovation\",\"Canadian Institutes of Health Research\",\"Canadian Institutes of Health Research\",\"Canadian Institutes of Health Research\",\"Canadian Institutes of Health Research\",\"Canadian Institutes of Health Research\",\"Canadian Institutes of Health Research\",\"Natural Sciences and Engineering Research Council\",\"Canadian Institutes of Health Research\",\"Canadian Institutes of Health Research\",\"Canadian Institutes of Health Research\",\"Canadian Institutes of Health Research\",\"Canadian Institutes of Health Research\",\"Canadian Institutes of Health Research\",\"Canada Foundation for Innovation\",\"Canadian Institutes of Health Research\",\"Canadian Institutes of Health Research\",\"Canadian Institutes of Health Research\",\"Natural Sciences and Engineering Research Council\",\"Canadian Cancer Society\",\"Canadian Institutes of Health Research\",\"Canadian Institutes of Health Research\",\"Canadian Institutes of Health Research\",\"Canadian Institutes of Health Research\",\"Canadian Institutes of Health Research\",\"Canadian Institutes of Health Research\",\"Canada Foundation for Innovation\",\"Canadian Institutes of Health Research\",\"Natural Sciences and Engineering Research Council\",\"Natural Sciences and Engineering Research Council\",\"Canadian Institutes of Health Research\",\"Canadian Institutes of Health Research\",\"Canadian Institutes of Health Research\",\"Canadian Institutes of Health Research\",\"Canadian Institutes of Health Research\",\"Canadian Institutes of Health Research\",\"Canadian Institutes of Health Research\",\"Natural Sciences and Engineering Research Council\",\"Canadian Institutes of Health Research\",\"Canadian Institutes of Health Research\"],\"yaxis\":\"y\"},{\"alignmentgroup\":\"True\",\"bingroup\":\"x\",\"hovertemplate\":\"funder_countries.name=Canada<br>research_org_names=%{x}<br>count=%{y}<extra></extra>\",\"legendgroup\":\"Canada\",\"marker\":{\"color\":\"#ab63fa\"},\"name\":\"Canada\",\"offsetgroup\":\"Canada\",\"opacity\":0.5,\"showlegend\":false,\"type\":\"histogram\",\"x\":[\"Centre for Gender and Sexual Health Equity\",\"Simon Fraser University\",\"Centre for Addiction and Mental Health\",\"Centre for Gender and Sexual Health Equity\",\"Centre for Gender and Sexual Health Equity\",\"Centre for Gender and Sexual Health Equity\",\"Princess Margaret Cancer Centre\",\"Centre for Gender and Sexual Health Equity\",\"Centre for Gender and Sexual Health Equity\",\"Centre for Gender and Sexual Health Equity\",\"Centre for Gender and Sexual Health Equity\",\"University of British Columbia\",\"First Nations Health Authority\",\"University of British Columbia\",\"University of Calgary\",\"University of British Columbia\",\"Women's Health In Women's Hands\",\"University of British Columbia\",\"University of British Columbia\",\"St. Paul's Hospital\",\"University of British Columbia\",\"University of British Columbia\",\"University of British Columbia\",\"University of British Columbia\",\"University of British Columbia\",\"St. Paul's Hospital\",\"University of British Columbia\",\"St. Paul's Hospital\",\"St. Paul's Hospital\",\"Centre Hospitalier Universitaire Sainte-Justine\",\"St. Paul's Hospital\",\"University of British Columbia\",\"St. Paul's Hospital\",\"University of British Columbia\",\"St. Paul's Hospital\",\"University of Ottawa\",\"University of British Columbia\",\"University of British Columbia\",\"University of Ottawa\",\"University of British Columbia\",\"University of Victoria\",\"University of British Columbia\",\"University of British Columbia\",\"University of British Columbia\",\"St. Paul's Hospital\",\"St. Paul's Hospital\",\"University of Ottawa\",\"Ottawa Hospital\",\"University of Victoria\",\"St. Paul's Hospital\",\"St. Paul's Hospital\",\"St. Paul's Hospital\",\"St. Paul's Hospital\",\"No Partners\",\"University of British Columbia\",\"No Partners\",\"University of Ottawa\",\"St. Paul's Hospital\",\"British Columbia Children's Hospital\",\"St. Paul's Hospital\",\"St. Paul's Hospital\",\"University of British Columbia\",\"St. Paul's Hospital\",\"St. Paul's Hospital\",\"No Partners\",\"National Jewish Centre\",\"National Jewish Centre\",\"Hospital for Sick Children\",\"Hospital for Sick Children\",\"McGill University\",\"Hospital for Sick Children\",\"Stanford University\",\"Rockefeller University\",\"University of Cape Town\",\"Hospital for Sick Children\",\"Hospital for Sick Children\",\"University of Toronto\",\"Hospital for Sick Children\",\"Queen's University\",\"University of British Columbia\",\"University of North Carolina\",\"Hospital for Sick Children\",\"University of New Brunswick\",\"Lunenfeld-Tanenbaum Research Institute\",\"Ottawa Hospital\",\"Ottawa Hospital\",\"University of California\",\"University of Toronto\",\"University of Toronto\",\"ExcellThera\",\"No Partners\",\"No Partners\",\"ExcellThera\",\"University of Toronto\",\"Xagenic Inc.\",\"University of Toronto\",\"University of Toronto\",\"Xagenic Inc.\",\"No Partners\",\"No Partners\",\"University of Toronto\",\"Hospital for Sick Children\",\"University of Toronto\",\"University of Toronto\",\"Hospital for Sick Children\",\"University of Calgary\",\"University of Toronto\",\"University of Toronto\",\"Trojan Technologies (Canada)\",\"Canadian Institutes of Health Research\",\"No Partners\",\"University of Toronto\",\"University of Toronto\",\"University of Toronto\",\"No Partners\",\"No Partners\",\"University of Toronto\",\"No Partners\",\"Kalgene Pharmaceuticals Inc.\",\"University Health Network\",\"No Partners\",\"University of Toronto\",\"University of Toronto\",\"University of Toronto\",\"No Partners\",\"No Partners\",\"University of Toronto\",\"University of Toronto\",\"University of Toronto\",\"Johns Hopkins University\",\"University of Toronto\",\"Princess Margaret Cancer Centre\",\"Princess Margaret Cancer Centre\",\"No Partners\",\"University of Toronto\",\"Nuu Chah Nulth Tribal Council\",\"St. Paul's Hospital\",\"Public Health Ontario\",\"University of British Columbia\",\"University of British Columbia\",\"St. Paul's Hospital\",\"Simon Fraser University\",\"Simon Fraser University\",\"Simon Fraser University\",\"University of British Columbia\",\"St. Paul's Hospital\",\"St. Paul's Hospital\",\"University of British Columbia\",\"University of British Columbia\",\"St. Paul's Hospital\",\"St. Paul's Hospital\",\"St. Paul's Hospital\",\"St. Paul's Hospital\",\"Simon Fraser University\",\"St. Paul's Hospital\",\"University of British Columbia\",\"Simon Fraser University\",\"Simon Fraser University\",\"St. Paul's Hospital\",\"University of British Columbia\",\"University of Iowa\",\"University of British Columbia\",\"University of British Columbia\",\"Columbia University\",\"University of British Columbia\",\"University of British Columbia\",\"University of British Columbia\",\"Columbia University\",\"Scripps Research Institute\",\"Dalhousie University\",\"St. Lukes-Roosevelt Hospital Center\",\"Canadian National Institute Of Health\",\"No Partners\",\"University of Manitoba\",\"University of Manitoba\",\"Columbia University\",\"New York Genome Center\",\"Harvard University\",\"Centre Hospitalier Universitaire Sainte-Justine\",\"Stanford University\",\"Simon Fraser University\",\"Centre Hospitalier de l\\u2019Universit\\u00e9 de Montr\\u00e9al\",\"Centre Hospitalier de l\\u2019Universit\\u00e9 de Montr\\u00e9al\",\"McGill University Health Centre\",\"Centre Hospitalier de l\\u2019Universit\\u00e9 de Montr\\u00e9al\",\"Centre Hospitalier de l\\u2019Universit\\u00e9 de Montr\\u00e9al\",\"Centre Hospitalier de l\\u2019Universit\\u00e9 de Montr\\u00e9al\",\"University of Montreal\",\"Centre Hospitalier de l\\u2019Universit\\u00e9 de Montr\\u00e9al\",\"Centre Hospitalier de l\\u2019Universit\\u00e9 de Montr\\u00e9al\",\"Centre Hospitalier de l\\u2019Universit\\u00e9 de Montr\\u00e9al\",\"Centre Hospitalier de l\\u2019Universit\\u00e9 de Montr\\u00e9al\",\"Children's & Women's Health Centre of British Columbia\",\"Centre Hospitalier de l\\u2019Universit\\u00e9 de Montr\\u00e9al\",\"University of Montreal\",\"Centre Hospitalier de l\\u2019Universit\\u00e9 de Montr\\u00e9al\",\"H\\u00f4pital Saint-Luc\",\"University of Montreal\",\"University of Montreal\",\"Canadian Institutes of Health Research\",\"Centre Hospitalier de l\\u2019Universit\\u00e9 de Montr\\u00e9al\",\"Centre Hospitalier de l\\u2019Universit\\u00e9 de Montr\\u00e9al\",\"H\\u00f4pital Saint-Luc\",\"No Partners\",\"University of Montreal\",\"University of Montreal\",\"Centre Hospitalier de l\\u2019Universit\\u00e9 de Montr\\u00e9al\",\"McGill University\",\"University of Montreal\",\"University of Montreal\",\"University of Montreal\",\"No Partners\",\"University of Toronto\",\"H\\u00f4tel-Dieu de Montr\\u00e9al\",\"University of Montreal\",\"University of Montreal\",\"University of Montreal\",\"McGill University\",\"University of Montreal\",\"University of Montreal\",\"Western University\",\"Ottawa Hospital\",\"No Partners\",\"University of Montreal\",\"University of Montreal\",\"University of Montreal\",\"University of Montreal\",\"McMaster University\",\"University of Montreal\",\"University of Montreal\",\"University of Montreal\",\"University of Montreal\",\"Canadian Institutes of Health Research\",\"No Partners\",\"University of Montreal\",\"University of Montreal\",\"University of Montreal\",\"Institut de Recherches Cliniques de Montr\\u00e9al\",\"Institut de Recherches Cliniques de Montr\\u00e9al\",\"University of Montreal\",\"University of Montreal\",\"No Partners\",\"Western University\",\"Institut de Recherches Cliniques de Montr\\u00e9al\"],\"xaxis\":\"x2\",\"yaxis\":\"y2\"},{\"hovertemplate\":\"funder_countries.name=Sweden<br>research_org_names=%{x}<br>funding_org_name=%{y}<extra></extra>\",\"legendgroup\":\"Sweden\",\"marker\":{\"color\":\"#FFA15A\",\"symbol\":\"circle\"},\"mode\":\"markers\",\"name\":\"Sweden\",\"orientation\":\"v\",\"showlegend\":true,\"type\":\"scatter\",\"x\":[\"Lund University\",\"\",\"\",\"Lund University\",\"Lund University\",\"Lund University\",\"Lund University\",\"Lund University\",\"Lund University\"],\"xaxis\":\"x\",\"y\":[\"Swedish Research Council\",\"Swedish Heart-Lung Foundation\",\"Swedish Heart-Lung Foundation\",\"Swedish Research Council\",\"Swedish Research Council\",\"Swedish Research Council\",\"Swedish Research Council\",\"Swedish Research Council\",\"Swedish Research Council\"],\"yaxis\":\"y\"},{\"alignmentgroup\":\"True\",\"bingroup\":\"x\",\"hovertemplate\":\"funder_countries.name=Sweden<br>research_org_names=%{x}<br>count=%{y}<extra></extra>\",\"legendgroup\":\"Sweden\",\"marker\":{\"color\":\"#FFA15A\"},\"name\":\"Sweden\",\"offsetgroup\":\"Sweden\",\"opacity\":0.5,\"showlegend\":false,\"type\":\"histogram\",\"x\":[\"Lund University\",\"\",\"\",\"Lund University\",\"Lund University\",\"Lund University\",\"Lund University\",\"Lund University\",\"Lund University\"],\"xaxis\":\"x2\",\"yaxis\":\"y2\"},{\"hovertemplate\":\"funder_countries.name=Germany<br>research_org_names=%{x}<br>funding_org_name=%{y}<extra></extra>\",\"legendgroup\":\"Germany\",\"marker\":{\"color\":\"#19d3f3\",\"symbol\":\"circle\"},\"mode\":\"markers\",\"name\":\"Germany\",\"orientation\":\"v\",\"showlegend\":true,\"type\":\"scatter\",\"x\":[\"Bernhard Nocht Institute for Tropical Medicine\",\"Florida State University\",\"Florida State University\",\"German Cancer Research Center\",\"Rockefeller University\",\"University Hospital Heidelberg\",\"Imagine Institute for Genetic Diseases\",\"Massachusetts General Hospital\",\"New York University\",\"Stanford University\",\"Rockefeller University\",\"Rockefeller University\",\"Duke University\",\"Rockefeller University\",\"Imagine Institute for Genetic Diseases\",\"Southwestern Medical Center\",\"Memorial Sloan Kettering Cancer Center\",\"Southwestern Medical Center\",\"University of Chicago\",\"University of Chicago\",\"Harvard University\",\"University of Chicago\",\"Johns Hopkins University\",\"Whitehead Institute for Biomedical Research\",\"New York University\",\"New York University\",\"Icahn School of Medicine at Mount Sinai\",\"University Hospital Carl Gustav Carus\",\"Philipp University of Marburg\",\"Fox Chase Cancer Center\",\"McLean Hospital\",\"Hannover Medical School\",\"University of California, Davis\",\"Sanford Burnham Prebys Medical Discovery Institute\",\"University of Liverpool\",\"University of Liverpool\",\"Pasteur Institute\",\"Northwestern University\"],\"xaxis\":\"x\",\"y\":[\"German Research Foundation\",\"German Research Foundation\",\"German Research Foundation\",\"German Research Foundation\",\"German Research Foundation\",\"German Research Foundation\",\"German Research Foundation\",\"German Research Foundation\",\"German Research Foundation\",\"German Research Foundation\",\"German Research Foundation\",\"German Research Foundation\",\"German Research Foundation\",\"German Research Foundation\",\"German Research Foundation\",\"German Research Foundation\",\"German Research Foundation\",\"German Research Foundation\",\"German Research Foundation\",\"German Research Foundation\",\"German Research Foundation\",\"German Research Foundation\",\"German Research Foundation\",\"German Research Foundation\",\"German Research Foundation\",\"German Research Foundation\",\"German Research Foundation\",\"German Research Foundation\",\"German Research Foundation\",\"German Research Foundation\",\"German Research Foundation\",\"German Research Foundation\",\"German Research Foundation\",\"German Research Foundation\",\"German Research Foundation\",\"German Research Foundation\",\"German Research Foundation\",\"German Research Foundation\"],\"yaxis\":\"y\"},{\"alignmentgroup\":\"True\",\"bingroup\":\"x\",\"hovertemplate\":\"funder_countries.name=Germany<br>research_org_names=%{x}<br>count=%{y}<extra></extra>\",\"legendgroup\":\"Germany\",\"marker\":{\"color\":\"#19d3f3\"},\"name\":\"Germany\",\"offsetgroup\":\"Germany\",\"opacity\":0.5,\"showlegend\":false,\"type\":\"histogram\",\"x\":[\"Bernhard Nocht Institute for Tropical Medicine\",\"Florida State University\",\"Florida State University\",\"German Cancer Research Center\",\"Rockefeller University\",\"University Hospital Heidelberg\",\"Imagine Institute for Genetic Diseases\",\"Massachusetts General Hospital\",\"New York University\",\"Stanford University\",\"Rockefeller University\",\"Rockefeller University\",\"Duke University\",\"Rockefeller University\",\"Imagine Institute for Genetic Diseases\",\"Southwestern Medical Center\",\"Memorial Sloan Kettering Cancer Center\",\"Southwestern Medical Center\",\"University of Chicago\",\"University of Chicago\",\"Harvard University\",\"University of Chicago\",\"Johns Hopkins University\",\"Whitehead Institute for Biomedical Research\",\"New York University\",\"New York University\",\"Icahn School of Medicine at Mount Sinai\",\"University Hospital Carl Gustav Carus\",\"Philipp University of Marburg\",\"Fox Chase Cancer Center\",\"McLean Hospital\",\"Hannover Medical School\",\"University of California, Davis\",\"Sanford Burnham Prebys Medical Discovery Institute\",\"University of Liverpool\",\"University of Liverpool\",\"Pasteur Institute\",\"Northwestern University\"],\"xaxis\":\"x2\",\"yaxis\":\"y2\"},{\"hovertemplate\":\"funder_countries.name=Australia<br>research_org_names=%{x}<br>funding_org_name=%{y}<extra></extra>\",\"legendgroup\":\"Australia\",\"marker\":{\"color\":\"#FF6692\",\"symbol\":\"circle\"},\"mode\":\"markers\",\"name\":\"Australia\",\"orientation\":\"v\",\"showlegend\":true,\"type\":\"scatter\",\"x\":[\"University of Technology Sydney\",\"University of Melbourne\",\"University of Melbourne\",\"UNSW Sydney\",\"UNSW Sydney\",\"UNSW Sydney\",\"UNSW Sydney\",\"UNSW Sydney\",\"UNSW Sydney\",\"University of Melbourne\",\"University of Tasmania\",\"UNSW Sydney\",\"University of Sydney\",\"University of Sydney\",\"University of Melbourne\",\"Monash University\",\"Institute for Breathing and Sleep\",\"University of Western Australia\",\"Walter and Eliza Hall Institute of Medical Research\",\"UNSW Sydney\",\"UNSW Sydney\",\"UNSW Sydney\",\"UNSW Sydney\",\"UNSW Sydney\",\"Monash University\",\"Monash University\",\"Monash University\",\"UNSW Sydney\",\"UNSW Sydney\",\"UNSW Sydney\",\"UNSW Sydney\",\"UNSW Sydney\"],\"xaxis\":\"x\",\"y\":[\"Australian Research Council\",\"National Health and Medical Research Council\",\"National Health and Medical Research Council\",\"National Health and Medical Research Council\",\"National Health and Medical Research Council\",\"National Health and Medical Research Council\",\"National Health and Medical Research Council\",\"National Health and Medical Research Council\",\"National Health and Medical Research Council\",\"National Health and Medical Research Council\",\"Australian Research Council\",\"Australian Research Council\",\"National Health and Medical Research Council\",\"Australian Research Council\",\"National Health and Medical Research Council\",\"National Health and Medical Research Council\",\"National Health and Medical Research Council\",\"National Health and Medical Research Council\",\"National Health and Medical Research Council\",\"National Health and Medical Research Council\",\"National Health and Medical Research Council\",\"National Health and Medical Research Council\",\"National Health and Medical Research Council\",\"National Health and Medical Research Council\",\"National Health and Medical Research Council\",\"National Health and Medical Research Council\",\"National Health and Medical Research Council\",\"National Health and Medical Research Council\",\"Australian Research Council\",\"National Health and Medical Research Council\",\"National Health and Medical Research Council\",\"National Health and Medical Research Council\"],\"yaxis\":\"y\"},{\"alignmentgroup\":\"True\",\"bingroup\":\"x\",\"hovertemplate\":\"funder_countries.name=Australia<br>research_org_names=%{x}<br>count=%{y}<extra></extra>\",\"legendgroup\":\"Australia\",\"marker\":{\"color\":\"#FF6692\"},\"name\":\"Australia\",\"offsetgroup\":\"Australia\",\"opacity\":0.5,\"showlegend\":false,\"type\":\"histogram\",\"x\":[\"University of Technology Sydney\",\"University of Melbourne\",\"University of Melbourne\",\"UNSW Sydney\",\"UNSW Sydney\",\"UNSW Sydney\",\"UNSW Sydney\",\"UNSW Sydney\",\"UNSW Sydney\",\"University of Melbourne\",\"University of Tasmania\",\"UNSW Sydney\",\"University of Sydney\",\"University of Sydney\",\"University of Melbourne\",\"Monash University\",\"Institute for Breathing and Sleep\",\"University of Western Australia\",\"Walter and Eliza Hall Institute of Medical Research\",\"UNSW Sydney\",\"UNSW Sydney\",\"UNSW Sydney\",\"UNSW Sydney\",\"UNSW Sydney\",\"Monash University\",\"Monash University\",\"Monash University\",\"UNSW Sydney\",\"UNSW Sydney\",\"UNSW Sydney\",\"UNSW Sydney\",\"UNSW Sydney\"],\"xaxis\":\"x2\",\"yaxis\":\"y2\"},{\"hovertemplate\":\"funder_countries.name=Belgium<br>research_org_names=%{x}<br>funding_org_name=%{y}<extra></extra>\",\"legendgroup\":\"Belgium\",\"marker\":{\"color\":\"#B6E880\",\"symbol\":\"circle\"},\"mode\":\"markers\",\"name\":\"Belgium\",\"orientation\":\"v\",\"showlegend\":true,\"type\":\"scatter\",\"x\":[\"Lund University\",\"Austrian Academy of Sciences\"],\"xaxis\":\"x\",\"y\":[\"European Research Council\",\"European Commission\"],\"yaxis\":\"y\"},{\"alignmentgroup\":\"True\",\"bingroup\":\"x\",\"hovertemplate\":\"funder_countries.name=Belgium<br>research_org_names=%{x}<br>count=%{y}<extra></extra>\",\"legendgroup\":\"Belgium\",\"marker\":{\"color\":\"#B6E880\"},\"name\":\"Belgium\",\"offsetgroup\":\"Belgium\",\"opacity\":0.5,\"showlegend\":false,\"type\":\"histogram\",\"x\":[\"Lund University\",\"Austrian Academy of Sciences\"],\"xaxis\":\"x2\",\"yaxis\":\"y2\"},{\"hovertemplate\":\"funder_countries.name=France<br>research_org_names=%{x}<br>funding_org_name=%{y}<extra></extra>\",\"legendgroup\":\"France\",\"marker\":{\"color\":\"#FF97FF\",\"symbol\":\"circle\"},\"mode\":\"markers\",\"name\":\"France\",\"orientation\":\"v\",\"showlegend\":true,\"type\":\"scatter\",\"x\":[\"ETH Zurich\",\"University of California, San Francisco\",\"Max Planck Institute, Bad Nauheim\",\"Rockefeller University\",\"Rockefeller University\",\"Imagine Institute for Genetic Diseases\",\"Cleveland Clinic\",\"Rockefeller University\",\"Broad Institute\",\"Broad Institute\",\"University of California, Berkeley\",\"University of California, Berkeley\",\"Fox Chase Cancer Center\",\"Massachusetts Institute of Technology\",\"Czech Academy of Sciences\",\"Columbia University\",\"Columbia University\",\"Columbia University\",\"New York Genome Center\"],\"xaxis\":\"x\",\"y\":[\"International Human Frontier Science Program Organization\",\"Leducq Foundation\",\"Leducq Foundation\",\"International Human Frontier Science Program Organization\",\"International Human Frontier Science Program Organization\",\"National Agency for Research\",\"Leducq Foundation\",\"International Human Frontier Science Program Organization\",\"International Human Frontier Science Program Organization\",\"International Human Frontier Science Program Organization\",\"International Human Frontier Science Program Organization\",\"International Human Frontier Science Program Organization\",\"International Human Frontier Science Program Organization\",\"International Human Frontier Science Program Organization\",\"Leducq Foundation\",\"International Human Frontier Science Program Organization\",\"International Human Frontier Science Program Organization\",\"International Human Frontier Science Program Organization\",\"International Human Frontier Science Program Organization\"],\"yaxis\":\"y\"},{\"alignmentgroup\":\"True\",\"bingroup\":\"x\",\"hovertemplate\":\"funder_countries.name=France<br>research_org_names=%{x}<br>count=%{y}<extra></extra>\",\"legendgroup\":\"France\",\"marker\":{\"color\":\"#FF97FF\"},\"name\":\"France\",\"offsetgroup\":\"France\",\"opacity\":0.5,\"showlegend\":false,\"type\":\"histogram\",\"x\":[\"ETH Zurich\",\"University of California, San Francisco\",\"Max Planck Institute, Bad Nauheim\",\"Rockefeller University\",\"Rockefeller University\",\"Imagine Institute for Genetic Diseases\",\"Cleveland Clinic\",\"Rockefeller University\",\"Broad Institute\",\"Broad Institute\",\"University of California, Berkeley\",\"University of California, Berkeley\",\"Fox Chase Cancer Center\",\"Massachusetts Institute of Technology\",\"Czech Academy of Sciences\",\"Columbia University\",\"Columbia University\",\"Columbia University\",\"New York Genome Center\"],\"xaxis\":\"x2\",\"yaxis\":\"y2\"},{\"hovertemplate\":\"funder_countries.name=Norway<br>research_org_names=%{x}<br>funding_org_name=%{y}<extra></extra>\",\"legendgroup\":\"Norway\",\"marker\":{\"color\":\"#FECB52\",\"symbol\":\"circle\"},\"mode\":\"markers\",\"name\":\"Norway\",\"orientation\":\"v\",\"showlegend\":true,\"type\":\"scatter\",\"x\":[\"Haukeland University Hospital\",\"Innlandet Hospital Trust\"],\"xaxis\":\"x\",\"y\":[\"Western Norway Regional Health Authority\",\"Southern and Eastern Norway Regional Health Authority\"],\"yaxis\":\"y\"},{\"alignmentgroup\":\"True\",\"bingroup\":\"x\",\"hovertemplate\":\"funder_countries.name=Norway<br>research_org_names=%{x}<br>count=%{y}<extra></extra>\",\"legendgroup\":\"Norway\",\"marker\":{\"color\":\"#FECB52\"},\"name\":\"Norway\",\"offsetgroup\":\"Norway\",\"opacity\":0.5,\"showlegend\":false,\"type\":\"histogram\",\"x\":[\"Haukeland University Hospital\",\"Innlandet Hospital Trust\"],\"xaxis\":\"x2\",\"yaxis\":\"y2\"},{\"hovertemplate\":\"funder_countries.name=Austria<br>research_org_names=%{x}<br>funding_org_name=%{y}<extra></extra>\",\"legendgroup\":\"Austria\",\"marker\":{\"color\":\"#636efa\",\"symbol\":\"circle\"},\"mode\":\"markers\",\"name\":\"Austria\",\"orientation\":\"v\",\"showlegend\":true,\"type\":\"scatter\",\"x\":[\"Icahn School of Medicine at Mount Sinai\",\"Medical University of Vienna\",\"Medical University of Vienna\",\"Medical University of Vienna\"],\"xaxis\":\"x\",\"y\":[\"FWF Austrian Science Fund\",\"FWF Austrian Science Fund\",\"FWF Austrian Science Fund\",\"FWF Austrian Science Fund\"],\"yaxis\":\"y\"},{\"alignmentgroup\":\"True\",\"bingroup\":\"x\",\"hovertemplate\":\"funder_countries.name=Austria<br>research_org_names=%{x}<br>count=%{y}<extra></extra>\",\"legendgroup\":\"Austria\",\"marker\":{\"color\":\"#636efa\"},\"name\":\"Austria\",\"offsetgroup\":\"Austria\",\"opacity\":0.5,\"showlegend\":false,\"type\":\"histogram\",\"x\":[\"Icahn School of Medicine at Mount Sinai\",\"Medical University of Vienna\",\"Medical University of Vienna\",\"Medical University of Vienna\"],\"xaxis\":\"x2\",\"yaxis\":\"y2\"},{\"hovertemplate\":\"funder_countries.name=New Zealand<br>research_org_names=%{x}<br>funding_org_name=%{y}<extra></extra>\",\"legendgroup\":\"New Zealand\",\"marker\":{\"color\":\"#EF553B\",\"symbol\":\"circle\"},\"mode\":\"markers\",\"name\":\"New Zealand\",\"orientation\":\"v\",\"showlegend\":true,\"type\":\"scatter\",\"x\":[\"University of Auckland\",\"Institute of Environmental Science and Research\",\"Centre de Coop\\u00e9ration Internationale en Recherche\"],\"xaxis\":\"x\",\"y\":[\"Royal Society of New Zealand\",\"Royal Society of New Zealand\",\"Royal Society of New Zealand\"],\"yaxis\":\"y\"},{\"alignmentgroup\":\"True\",\"bingroup\":\"x\",\"hovertemplate\":\"funder_countries.name=New Zealand<br>research_org_names=%{x}<br>count=%{y}<extra></extra>\",\"legendgroup\":\"New Zealand\",\"marker\":{\"color\":\"#EF553B\"},\"name\":\"New Zealand\",\"offsetgroup\":\"New Zealand\",\"opacity\":0.5,\"showlegend\":false,\"type\":\"histogram\",\"x\":[\"University of Auckland\",\"Institute of Environmental Science and Research\",\"Centre de Coop\\u00e9ration Internationale en Recherche\"],\"xaxis\":\"x2\",\"yaxis\":\"y2\"},{\"hovertemplate\":\"funder_countries.name=Qatar<br>research_org_names=%{x}<br>funding_org_name=%{y}<extra></extra>\",\"legendgroup\":\"Qatar\",\"marker\":{\"color\":\"#00cc96\",\"symbol\":\"circle\"},\"mode\":\"markers\",\"name\":\"Qatar\",\"orientation\":\"v\",\"showlegend\":true,\"type\":\"scatter\",\"x\":[\"Weill Cornell Medical College in Qatar\",\"Weill Cornell Medical College in Qatar\",\"Icahn School of Medicine at Mount Sinai\",\"Sidra Medical and Research Center\",\"Cornell University\",\"Cornell University\",\"Weill Cornell Medical College in Qatar\",\"Hamad Medical Corporation\",\"Brigham and Women's Hospital\",\"Hamad Medical Corporation\",\"The University of Texas Southwestern Medical Center\",\"Hamad Medical Corporation\",\"Hamad Medical Corporation\",\"Hamad Medical Corporation\"],\"xaxis\":\"x\",\"y\":[\"Qatar National Research Fund\",\"Qatar National Research Fund\",\"Qatar National Research Fund\",\"Qatar National Research Fund\",\"Qatar National Research Fund\",\"Qatar National Research Fund\",\"Qatar National Research Fund\",\"Qatar National Research Fund\",\"Qatar National Research Fund\",\"Qatar National Research Fund\",\"Qatar National Research Fund\",\"Qatar National Research Fund\",\"Qatar National Research Fund\",\"Qatar National Research Fund\"],\"yaxis\":\"y\"},{\"alignmentgroup\":\"True\",\"bingroup\":\"x\",\"hovertemplate\":\"funder_countries.name=Qatar<br>research_org_names=%{x}<br>count=%{y}<extra></extra>\",\"legendgroup\":\"Qatar\",\"marker\":{\"color\":\"#00cc96\"},\"name\":\"Qatar\",\"offsetgroup\":\"Qatar\",\"opacity\":0.5,\"showlegend\":false,\"type\":\"histogram\",\"x\":[\"Weill Cornell Medical College in Qatar\",\"Weill Cornell Medical College in Qatar\",\"Icahn School of Medicine at Mount Sinai\",\"Sidra Medical and Research Center\",\"Cornell University\",\"Cornell University\",\"Weill Cornell Medical College in Qatar\",\"Hamad Medical Corporation\",\"Brigham and Women's Hospital\",\"Hamad Medical Corporation\",\"The University of Texas Southwestern Medical Center\",\"Hamad Medical Corporation\",\"Hamad Medical Corporation\",\"Hamad Medical Corporation\"],\"xaxis\":\"x2\",\"yaxis\":\"y2\"},{\"hovertemplate\":\"funder_countries.name=China<br>research_org_names=%{x}<br>funding_org_name=%{y}<extra></extra>\",\"legendgroup\":\"China\",\"marker\":{\"color\":\"#ab63fa\",\"symbol\":\"circle\"},\"mode\":\"markers\",\"name\":\"China\",\"orientation\":\"v\",\"showlegend\":true,\"type\":\"scatter\",\"x\":[\"Fudan University\",\"Tianjin haihe hospital\",\"Fudan University\",\"Huazhong University of Science and Technology\",\"Cancer Hospital of Chinese Academy of Medical Sciences\",\"Cancer Hospital of Chinese Academy of Medical Sciences\",\"Cancer Hospital of Chinese Academy of Medical Sciences\"],\"xaxis\":\"x\",\"y\":[\"National Natural Science Foundation of China\",\"National Natural Science Foundation of China\",\"National Natural Science Foundation of China\",\"National Natural Science Foundation of China\",\"National Natural Science Foundation of China\",\"National Natural Science Foundation of China\",\"National Natural Science Foundation of China\"],\"yaxis\":\"y\"},{\"alignmentgroup\":\"True\",\"bingroup\":\"x\",\"hovertemplate\":\"funder_countries.name=China<br>research_org_names=%{x}<br>count=%{y}<extra></extra>\",\"legendgroup\":\"China\",\"marker\":{\"color\":\"#ab63fa\"},\"name\":\"China\",\"offsetgroup\":\"China\",\"opacity\":0.5,\"showlegend\":false,\"type\":\"histogram\",\"x\":[\"Fudan University\",\"Tianjin haihe hospital\",\"Fudan University\",\"Huazhong University of Science and Technology\",\"Cancer Hospital of Chinese Academy of Medical Sciences\",\"Cancer Hospital of Chinese Academy of Medical Sciences\",\"Cancer Hospital of Chinese Academy of Medical Sciences\"],\"xaxis\":\"x2\",\"yaxis\":\"y2\"},{\"hovertemplate\":\"funder_countries.name=Croatia<br>research_org_names=%{x}<br>funding_org_name=%{y}<extra></extra>\",\"legendgroup\":\"Croatia\",\"marker\":{\"color\":\"#FFA15A\",\"symbol\":\"circle\"},\"mode\":\"markers\",\"name\":\"Croatia\",\"orientation\":\"v\",\"showlegend\":true,\"type\":\"scatter\",\"x\":[\"Andrija Stampar Teaching Institute of Public Health\"],\"xaxis\":\"x\",\"y\":[\"Croatian Science Foundation\"],\"yaxis\":\"y\"},{\"alignmentgroup\":\"True\",\"bingroup\":\"x\",\"hovertemplate\":\"funder_countries.name=Croatia<br>research_org_names=%{x}<br>count=%{y}<extra></extra>\",\"legendgroup\":\"Croatia\",\"marker\":{\"color\":\"#FFA15A\"},\"name\":\"Croatia\",\"offsetgroup\":\"Croatia\",\"opacity\":0.5,\"showlegend\":false,\"type\":\"histogram\",\"x\":[\"Andrija Stampar Teaching Institute of Public Health\"],\"xaxis\":\"x2\",\"yaxis\":\"y2\"},{\"hovertemplate\":\"funder_countries.name=Bahamas<br>research_org_names=%{x}<br>funding_org_name=%{y}<extra></extra>\",\"legendgroup\":\"Bahamas\",\"marker\":{\"color\":\"#19d3f3\",\"symbol\":\"circle\"},\"mode\":\"markers\",\"name\":\"Bahamas\",\"orientation\":\"v\",\"showlegend\":true,\"type\":\"scatter\",\"x\":[\"Foundation for Applied Molecular Evolution, Inc.\"],\"xaxis\":\"x\",\"y\":[\"Templeton World Charity Foundation\"],\"yaxis\":\"y\"},{\"alignmentgroup\":\"True\",\"bingroup\":\"x\",\"hovertemplate\":\"funder_countries.name=Bahamas<br>research_org_names=%{x}<br>count=%{y}<extra></extra>\",\"legendgroup\":\"Bahamas\",\"marker\":{\"color\":\"#19d3f3\"},\"name\":\"Bahamas\",\"offsetgroup\":\"Bahamas\",\"opacity\":0.5,\"showlegend\":false,\"type\":\"histogram\",\"x\":[\"Foundation for Applied Molecular Evolution, Inc.\"],\"xaxis\":\"x2\",\"yaxis\":\"y2\"},{\"hovertemplate\":\"funder_countries.name=South Africa<br>research_org_names=%{x}<br>funding_org_name=%{y}<extra></extra>\",\"legendgroup\":\"South Africa\",\"marker\":{\"color\":\"#FF6692\",\"symbol\":\"circle\"},\"mode\":\"markers\",\"name\":\"South Africa\",\"orientation\":\"v\",\"showlegend\":true,\"type\":\"scatter\",\"x\":[\"University of Cape Town\"],\"xaxis\":\"x\",\"y\":[\"National Research Foundation\"],\"yaxis\":\"y\"},{\"alignmentgroup\":\"True\",\"bingroup\":\"x\",\"hovertemplate\":\"funder_countries.name=South Africa<br>research_org_names=%{x}<br>count=%{y}<extra></extra>\",\"legendgroup\":\"South Africa\",\"marker\":{\"color\":\"#FF6692\"},\"name\":\"South Africa\",\"offsetgroup\":\"South Africa\",\"opacity\":0.5,\"showlegend\":false,\"type\":\"histogram\",\"x\":[\"University of Cape Town\"],\"xaxis\":\"x2\",\"yaxis\":\"y2\"},{\"hovertemplate\":\"funder_countries.name=Portugal<br>research_org_names=%{x}<br>funding_org_name=%{y}<extra></extra>\",\"legendgroup\":\"Portugal\",\"marker\":{\"color\":\"#B6E880\",\"symbol\":\"circle\"},\"mode\":\"markers\",\"name\":\"Portugal\",\"orientation\":\"v\",\"showlegend\":true,\"type\":\"scatter\",\"x\":[\"Deimos Engenharia (Portugal)\"],\"xaxis\":\"x\",\"y\":[\"Foundation for Science and Technology\"],\"yaxis\":\"y\"},{\"alignmentgroup\":\"True\",\"bingroup\":\"x\",\"hovertemplate\":\"funder_countries.name=Portugal<br>research_org_names=%{x}<br>count=%{y}<extra></extra>\",\"legendgroup\":\"Portugal\",\"marker\":{\"color\":\"#B6E880\"},\"name\":\"Portugal\",\"offsetgroup\":\"Portugal\",\"opacity\":0.5,\"showlegend\":false,\"type\":\"histogram\",\"x\":[\"Deimos Engenharia (Portugal)\"],\"xaxis\":\"x2\",\"yaxis\":\"y2\"},{\"hovertemplate\":\"funder_countries.name=Malaysia<br>research_org_names=%{x}<br>funding_org_name=%{y}<extra></extra>\",\"legendgroup\":\"Malaysia\",\"marker\":{\"color\":\"#FF97FF\",\"symbol\":\"circle\"},\"mode\":\"markers\",\"name\":\"Malaysia\",\"orientation\":\"v\",\"showlegend\":true,\"type\":\"scatter\",\"x\":[\"University of Malaya\"],\"xaxis\":\"x\",\"y\":[\"University of Malaya\"],\"yaxis\":\"y\"},{\"alignmentgroup\":\"True\",\"bingroup\":\"x\",\"hovertemplate\":\"funder_countries.name=Malaysia<br>research_org_names=%{x}<br>count=%{y}<extra></extra>\",\"legendgroup\":\"Malaysia\",\"marker\":{\"color\":\"#FF97FF\"},\"name\":\"Malaysia\",\"offsetgroup\":\"Malaysia\",\"opacity\":0.5,\"showlegend\":false,\"type\":\"histogram\",\"x\":[\"University of Malaya\"],\"xaxis\":\"x2\",\"yaxis\":\"y2\"}],                        {\"barmode\":\"overlay\",\"height\":800,\"legend\":{\"title\":{\"text\":\"funder_countries.name\"},\"tracegroupgap\":0},\"template\":{\"data\":{\"bar\":[{\"error_x\":{\"color\":\"#2a3f5f\"},\"error_y\":{\"color\":\"#2a3f5f\"},\"marker\":{\"line\":{\"color\":\"#E5ECF6\",\"width\":0.5},\"pattern\":{\"fillmode\":\"overlay\",\"size\":10,\"solidity\":0.2}},\"type\":\"bar\"}],\"barpolar\":[{\"marker\":{\"line\":{\"color\":\"#E5ECF6\",\"width\":0.5},\"pattern\":{\"fillmode\":\"overlay\",\"size\":10,\"solidity\":0.2}},\"type\":\"barpolar\"}],\"carpet\":[{\"aaxis\":{\"endlinecolor\":\"#2a3f5f\",\"gridcolor\":\"white\",\"linecolor\":\"white\",\"minorgridcolor\":\"white\",\"startlinecolor\":\"#2a3f5f\"},\"baxis\":{\"endlinecolor\":\"#2a3f5f\",\"gridcolor\":\"white\",\"linecolor\":\"white\",\"minorgridcolor\":\"white\",\"startlinecolor\":\"#2a3f5f\"},\"type\":\"carpet\"}],\"choropleth\":[{\"colorbar\":{\"outlinewidth\":0,\"ticks\":\"\"},\"type\":\"choropleth\"}],\"contour\":[{\"colorbar\":{\"outlinewidth\":0,\"ticks\":\"\"},\"colorscale\":[[0.0,\"#0d0887\"],[0.1111111111111111,\"#46039f\"],[0.2222222222222222,\"#7201a8\"],[0.3333333333333333,\"#9c179e\"],[0.4444444444444444,\"#bd3786\"],[0.5555555555555556,\"#d8576b\"],[0.6666666666666666,\"#ed7953\"],[0.7777777777777778,\"#fb9f3a\"],[0.8888888888888888,\"#fdca26\"],[1.0,\"#f0f921\"]],\"type\":\"contour\"}],\"contourcarpet\":[{\"colorbar\":{\"outlinewidth\":0,\"ticks\":\"\"},\"type\":\"contourcarpet\"}],\"heatmap\":[{\"colorbar\":{\"outlinewidth\":0,\"ticks\":\"\"},\"colorscale\":[[0.0,\"#0d0887\"],[0.1111111111111111,\"#46039f\"],[0.2222222222222222,\"#7201a8\"],[0.3333333333333333,\"#9c179e\"],[0.4444444444444444,\"#bd3786\"],[0.5555555555555556,\"#d8576b\"],[0.6666666666666666,\"#ed7953\"],[0.7777777777777778,\"#fb9f3a\"],[0.8888888888888888,\"#fdca26\"],[1.0,\"#f0f921\"]],\"type\":\"heatmap\"}],\"heatmapgl\":[{\"colorbar\":{\"outlinewidth\":0,\"ticks\":\"\"},\"colorscale\":[[0.0,\"#0d0887\"],[0.1111111111111111,\"#46039f\"],[0.2222222222222222,\"#7201a8\"],[0.3333333333333333,\"#9c179e\"],[0.4444444444444444,\"#bd3786\"],[0.5555555555555556,\"#d8576b\"],[0.6666666666666666,\"#ed7953\"],[0.7777777777777778,\"#fb9f3a\"],[0.8888888888888888,\"#fdca26\"],[1.0,\"#f0f921\"]],\"type\":\"heatmapgl\"}],\"histogram\":[{\"marker\":{\"pattern\":{\"fillmode\":\"overlay\",\"size\":10,\"solidity\":0.2}},\"type\":\"histogram\"}],\"histogram2d\":[{\"colorbar\":{\"outlinewidth\":0,\"ticks\":\"\"},\"colorscale\":[[0.0,\"#0d0887\"],[0.1111111111111111,\"#46039f\"],[0.2222222222222222,\"#7201a8\"],[0.3333333333333333,\"#9c179e\"],[0.4444444444444444,\"#bd3786\"],[0.5555555555555556,\"#d8576b\"],[0.6666666666666666,\"#ed7953\"],[0.7777777777777778,\"#fb9f3a\"],[0.8888888888888888,\"#fdca26\"],[1.0,\"#f0f921\"]],\"type\":\"histogram2d\"}],\"histogram2dcontour\":[{\"colorbar\":{\"outlinewidth\":0,\"ticks\":\"\"},\"colorscale\":[[0.0,\"#0d0887\"],[0.1111111111111111,\"#46039f\"],[0.2222222222222222,\"#7201a8\"],[0.3333333333333333,\"#9c179e\"],[0.4444444444444444,\"#bd3786\"],[0.5555555555555556,\"#d8576b\"],[0.6666666666666666,\"#ed7953\"],[0.7777777777777778,\"#fb9f3a\"],[0.8888888888888888,\"#fdca26\"],[1.0,\"#f0f921\"]],\"type\":\"histogram2dcontour\"}],\"mesh3d\":[{\"colorbar\":{\"outlinewidth\":0,\"ticks\":\"\"},\"type\":\"mesh3d\"}],\"parcoords\":[{\"line\":{\"colorbar\":{\"outlinewidth\":0,\"ticks\":\"\"}},\"type\":\"parcoords\"}],\"pie\":[{\"automargin\":true,\"type\":\"pie\"}],\"scatter\":[{\"marker\":{\"colorbar\":{\"outlinewidth\":0,\"ticks\":\"\"}},\"type\":\"scatter\"}],\"scatter3d\":[{\"line\":{\"colorbar\":{\"outlinewidth\":0,\"ticks\":\"\"}},\"marker\":{\"colorbar\":{\"outlinewidth\":0,\"ticks\":\"\"}},\"type\":\"scatter3d\"}],\"scattercarpet\":[{\"marker\":{\"colorbar\":{\"outlinewidth\":0,\"ticks\":\"\"}},\"type\":\"scattercarpet\"}],\"scattergeo\":[{\"marker\":{\"colorbar\":{\"outlinewidth\":0,\"ticks\":\"\"}},\"type\":\"scattergeo\"}],\"scattergl\":[{\"marker\":{\"colorbar\":{\"outlinewidth\":0,\"ticks\":\"\"}},\"type\":\"scattergl\"}],\"scattermapbox\":[{\"marker\":{\"colorbar\":{\"outlinewidth\":0,\"ticks\":\"\"}},\"type\":\"scattermapbox\"}],\"scatterpolar\":[{\"marker\":{\"colorbar\":{\"outlinewidth\":0,\"ticks\":\"\"}},\"type\":\"scatterpolar\"}],\"scatterpolargl\":[{\"marker\":{\"colorbar\":{\"outlinewidth\":0,\"ticks\":\"\"}},\"type\":\"scatterpolargl\"}],\"scatterternary\":[{\"marker\":{\"colorbar\":{\"outlinewidth\":0,\"ticks\":\"\"}},\"type\":\"scatterternary\"}],\"surface\":[{\"colorbar\":{\"outlinewidth\":0,\"ticks\":\"\"},\"colorscale\":[[0.0,\"#0d0887\"],[0.1111111111111111,\"#46039f\"],[0.2222222222222222,\"#7201a8\"],[0.3333333333333333,\"#9c179e\"],[0.4444444444444444,\"#bd3786\"],[0.5555555555555556,\"#d8576b\"],[0.6666666666666666,\"#ed7953\"],[0.7777777777777778,\"#fb9f3a\"],[0.8888888888888888,\"#fdca26\"],[1.0,\"#f0f921\"]],\"type\":\"surface\"}],\"table\":[{\"cells\":{\"fill\":{\"color\":\"#EBF0F8\"},\"line\":{\"color\":\"white\"}},\"header\":{\"fill\":{\"color\":\"#C8D4E3\"},\"line\":{\"color\":\"white\"}},\"type\":\"table\"}]},\"layout\":{\"annotationdefaults\":{\"arrowcolor\":\"#2a3f5f\",\"arrowhead\":0,\"arrowwidth\":1},\"autotypenumbers\":\"strict\",\"coloraxis\":{\"colorbar\":{\"outlinewidth\":0,\"ticks\":\"\"}},\"colorscale\":{\"diverging\":[[0,\"#8e0152\"],[0.1,\"#c51b7d\"],[0.2,\"#de77ae\"],[0.3,\"#f1b6da\"],[0.4,\"#fde0ef\"],[0.5,\"#f7f7f7\"],[0.6,\"#e6f5d0\"],[0.7,\"#b8e186\"],[0.8,\"#7fbc41\"],[0.9,\"#4d9221\"],[1,\"#276419\"]],\"sequential\":[[0.0,\"#0d0887\"],[0.1111111111111111,\"#46039f\"],[0.2222222222222222,\"#7201a8\"],[0.3333333333333333,\"#9c179e\"],[0.4444444444444444,\"#bd3786\"],[0.5555555555555556,\"#d8576b\"],[0.6666666666666666,\"#ed7953\"],[0.7777777777777778,\"#fb9f3a\"],[0.8888888888888888,\"#fdca26\"],[1.0,\"#f0f921\"]],\"sequentialminus\":[[0.0,\"#0d0887\"],[0.1111111111111111,\"#46039f\"],[0.2222222222222222,\"#7201a8\"],[0.3333333333333333,\"#9c179e\"],[0.4444444444444444,\"#bd3786\"],[0.5555555555555556,\"#d8576b\"],[0.6666666666666666,\"#ed7953\"],[0.7777777777777778,\"#fb9f3a\"],[0.8888888888888888,\"#fdca26\"],[1.0,\"#f0f921\"]]},\"colorway\":[\"#636efa\",\"#EF553B\",\"#00cc96\",\"#ab63fa\",\"#FFA15A\",\"#19d3f3\",\"#FF6692\",\"#B6E880\",\"#FF97FF\",\"#FECB52\"],\"font\":{\"color\":\"#2a3f5f\"},\"geo\":{\"bgcolor\":\"white\",\"lakecolor\":\"white\",\"landcolor\":\"#E5ECF6\",\"showlakes\":true,\"showland\":true,\"subunitcolor\":\"white\"},\"hoverlabel\":{\"align\":\"left\"},\"hovermode\":\"closest\",\"mapbox\":{\"style\":\"light\"},\"paper_bgcolor\":\"white\",\"plot_bgcolor\":\"#E5ECF6\",\"polar\":{\"angularaxis\":{\"gridcolor\":\"white\",\"linecolor\":\"white\",\"ticks\":\"\"},\"bgcolor\":\"#E5ECF6\",\"radialaxis\":{\"gridcolor\":\"white\",\"linecolor\":\"white\",\"ticks\":\"\"}},\"scene\":{\"xaxis\":{\"backgroundcolor\":\"#E5ECF6\",\"gridcolor\":\"white\",\"gridwidth\":2,\"linecolor\":\"white\",\"showbackground\":true,\"ticks\":\"\",\"zerolinecolor\":\"white\"},\"yaxis\":{\"backgroundcolor\":\"#E5ECF6\",\"gridcolor\":\"white\",\"gridwidth\":2,\"linecolor\":\"white\",\"showbackground\":true,\"ticks\":\"\",\"zerolinecolor\":\"white\"},\"zaxis\":{\"backgroundcolor\":\"#E5ECF6\",\"gridcolor\":\"white\",\"gridwidth\":2,\"linecolor\":\"white\",\"showbackground\":true,\"ticks\":\"\",\"zerolinecolor\":\"white\"}},\"shapedefaults\":{\"line\":{\"color\":\"#2a3f5f\"}},\"ternary\":{\"aaxis\":{\"gridcolor\":\"white\",\"linecolor\":\"white\",\"ticks\":\"\"},\"baxis\":{\"gridcolor\":\"white\",\"linecolor\":\"white\",\"ticks\":\"\"},\"bgcolor\":\"#E5ECF6\",\"caxis\":{\"gridcolor\":\"white\",\"linecolor\":\"white\",\"ticks\":\"\"}},\"title\":{\"x\":0.05},\"xaxis\":{\"automargin\":true,\"gridcolor\":\"white\",\"linecolor\":\"white\",\"ticks\":\"\",\"title\":{\"standoff\":15},\"zerolinecolor\":\"white\",\"zerolinewidth\":2},\"yaxis\":{\"automargin\":true,\"gridcolor\":\"white\",\"linecolor\":\"white\",\"ticks\":\"\",\"title\":{\"standoff\":15},\"zerolinecolor\":\"white\",\"zerolinewidth\":2}}},\"title\":{\"text\":\"Non US funders: overview\"},\"xaxis\":{\"anchor\":\"y\",\"domain\":[0.0,1.0],\"title\":{\"text\":\"research_org_names\"}},\"xaxis2\":{\"anchor\":\"y2\",\"domain\":[0.0,1.0],\"matches\":\"x\",\"showgrid\":true,\"showticklabels\":false},\"yaxis\":{\"anchor\":\"x\",\"domain\":[0.0,0.7326],\"title\":{\"text\":\"funding_org_name\"}},\"yaxis2\":{\"anchor\":\"x2\",\"domain\":[0.7426,1.0],\"matches\":\"y2\",\"showgrid\":true,\"showline\":false,\"showticklabels\":false,\"ticks\":\"\"}},                        {\"responsive\": true}                    ).then(function(){\n",
       "                            \n",
       "var gd = document.getElementById('77cb1223-9f6b-4a1f-a59b-4a8db7e2d968');\n",
       "var x = new MutationObserver(function (mutations, observer) {{\n",
       "        var display = window.getComputedStyle(gd).display;\n",
       "        if (!display || display === 'none') {{\n",
       "            console.log([gd, 'removed!']);\n",
       "            Plotly.purge(gd);\n",
       "            observer.disconnect();\n",
       "        }}\n",
       "}});\n",
       "\n",
       "// Listen for the removal of the full notebook cells\n",
       "var notebookContainer = gd.closest('#notebook-container');\n",
       "if (notebookContainer) {{\n",
       "    x.observe(notebookContainer, {childList: true});\n",
       "}}\n",
       "\n",
       "// Listen for the clearing of the current output cell\n",
       "var outputEl = gd.closest('.output');\n",
       "if (outputEl) {{\n",
       "    x.observe(outputEl, {childList: true});\n",
       "}}\n",
       "\n",
       "                        })                };                });            </script>        </div>"
      ]
     },
     "metadata": {},
     "output_type": "display_data"
    }
   ],
   "source": [
    "gsubset = grants[grants[\"funder_countries.name\"] != 'United States']\n",
    "\n",
    "px.scatter(gsubset,\n",
    "           y=\"funding_org_name\", \n",
    "           x=\"research_org_names\", \n",
    "           marginal_x=\"histogram\",\n",
    "           color=\"funder_countries.name\", \n",
    "           height=800,\n",
    "           title=\"Non US funders: overview\")"
   ]
  },
  {
   "cell_type": "markdown",
   "metadata": {
    "Collapsed": "false"
   },
   "source": [
    "**To view the grants details**"
   ]
  },
  {
   "cell_type": "code",
   "execution_count": 111,
   "metadata": {
    "Collapsed": "false"
   },
   "outputs": [
    {
     "data": {
      "text/html": [
       "<div>\n",
       "<style scoped>\n",
       "    .dataframe tbody tr th:only-of-type {\n",
       "        vertical-align: middle;\n",
       "    }\n",
       "\n",
       "    .dataframe tbody tr th {\n",
       "        vertical-align: top;\n",
       "    }\n",
       "\n",
       "    .dataframe thead th {\n",
       "        text-align: right;\n",
       "    }\n",
       "</style>\n",
       "<table border=\"1\" class=\"dataframe\">\n",
       "  <thead>\n",
       "    <tr style=\"text-align: right;\">\n",
       "      <th></th>\n",
       "      <th>active_year</th>\n",
       "      <th>dimensions_url</th>\n",
       "      <th>funder_countries.id</th>\n",
       "      <th>funder_countries.name</th>\n",
       "      <th>funding_org_name</th>\n",
       "      <th>funding_usd</th>\n",
       "      <th>id</th>\n",
       "      <th>research_org_countries.id</th>\n",
       "      <th>research_org_countries.name</th>\n",
       "      <th>research_org_names</th>\n",
       "      <th>researchers</th>\n",
       "      <th>title</th>\n",
       "      <th>country_count</th>\n",
       "      <th>country_funding</th>\n",
       "    </tr>\n",
       "  </thead>\n",
       "  <tbody>\n",
       "    <tr>\n",
       "      <th>239</th>\n",
       "      <td>[2021, 2022]</td>\n",
       "      <td>https://app.dimensions.ai/details/grant/grant....</td>\n",
       "      <td>JP</td>\n",
       "      <td>Japan</td>\n",
       "      <td>Japan Society for the Promotion of Science</td>\n",
       "      <td>37711.0</td>\n",
       "      <td>grant.9670570</td>\n",
       "      <td>JP</td>\n",
       "      <td>Japan</td>\n",
       "      <td>Kōchi University</td>\n",
       "      <td>[{'first_name': 'Yoshihiro', 'id': 'ur.0126107...</td>\n",
       "      <td>Neo virology: the headwaters from the superorg...</td>\n",
       "      <td>105</td>\n",
       "      <td>73486106.0</td>\n",
       "    </tr>\n",
       "    <tr>\n",
       "      <th>684</th>\n",
       "      <td>[2020, 2021, 2022, 2023]</td>\n",
       "      <td>https://app.dimensions.ai/details/grant/grant....</td>\n",
       "      <td>JP</td>\n",
       "      <td>Japan</td>\n",
       "      <td>Japan Agency for Medical Research and Development</td>\n",
       "      <td>0.0</td>\n",
       "      <td>grant.9618136</td>\n",
       "      <td>JP</td>\n",
       "      <td>Japan</td>\n",
       "      <td>University of Tokyo</td>\n",
       "      <td>[{'first_name': 'Yoshihiro', 'id': 'ur.0126107...</td>\n",
       "      <td>Research and development of next-generation va...</td>\n",
       "      <td>105</td>\n",
       "      <td>73486106.0</td>\n",
       "    </tr>\n",
       "    <tr>\n",
       "      <th>685</th>\n",
       "      <td>[2020, 2021]</td>\n",
       "      <td>https://app.dimensions.ai/details/grant/grant....</td>\n",
       "      <td>JP</td>\n",
       "      <td>Japan</td>\n",
       "      <td>Japan Agency for Medical Research and Development</td>\n",
       "      <td>0.0</td>\n",
       "      <td>grant.9617865</td>\n",
       "      <td>JP</td>\n",
       "      <td>Japan</td>\n",
       "      <td>University of Tokyo</td>\n",
       "      <td>[{'first_name': 'Yoshihiro', 'id': 'ur.0126107...</td>\n",
       "      <td>Development of live attenuated vaccine against...</td>\n",
       "      <td>105</td>\n",
       "      <td>73486106.0</td>\n",
       "    </tr>\n",
       "    <tr>\n",
       "      <th>686</th>\n",
       "      <td>[2020, 2021]</td>\n",
       "      <td>https://app.dimensions.ai/details/grant/grant....</td>\n",
       "      <td>JP</td>\n",
       "      <td>Japan</td>\n",
       "      <td>Japan Agency for Medical Research and Development</td>\n",
       "      <td>0.0</td>\n",
       "      <td>grant.9617655</td>\n",
       "      <td>JP</td>\n",
       "      <td>Japan</td>\n",
       "      <td>University of Tokyo</td>\n",
       "      <td>[{'first_name': 'Yoshihiro', 'id': 'ur.0126107...</td>\n",
       "      <td>Establishment of treatment for new coronavirus...</td>\n",
       "      <td>105</td>\n",
       "      <td>73486106.0</td>\n",
       "    </tr>\n",
       "    <tr>\n",
       "      <th>893</th>\n",
       "      <td>[2019, 2020, 2021, 2022]</td>\n",
       "      <td>https://app.dimensions.ai/details/grant/grant....</td>\n",
       "      <td>JP</td>\n",
       "      <td>Japan</td>\n",
       "      <td>Japan Agency for Medical Research and Development</td>\n",
       "      <td>455548.0</td>\n",
       "      <td>grant.9618548</td>\n",
       "      <td>JP</td>\n",
       "      <td>Japan</td>\n",
       "      <td>University of Tokyo</td>\n",
       "      <td>[{'first_name': 'Yoshihiro', 'id': 'ur.0126107...</td>\n",
       "      <td>Creation of a developing chicken egg influenza...</td>\n",
       "      <td>105</td>\n",
       "      <td>73486106.0</td>\n",
       "    </tr>\n",
       "  </tbody>\n",
       "</table>\n",
       "</div>"
      ],
      "text/plain": [
       "                  active_year  \\\n",
       "239              [2021, 2022]   \n",
       "684  [2020, 2021, 2022, 2023]   \n",
       "685              [2020, 2021]   \n",
       "686              [2020, 2021]   \n",
       "893  [2019, 2020, 2021, 2022]   \n",
       "\n",
       "                                        dimensions_url funder_countries.id  \\\n",
       "239  https://app.dimensions.ai/details/grant/grant....                  JP   \n",
       "684  https://app.dimensions.ai/details/grant/grant....                  JP   \n",
       "685  https://app.dimensions.ai/details/grant/grant....                  JP   \n",
       "686  https://app.dimensions.ai/details/grant/grant....                  JP   \n",
       "893  https://app.dimensions.ai/details/grant/grant....                  JP   \n",
       "\n",
       "    funder_countries.name                                   funding_org_name  \\\n",
       "239                 Japan         Japan Society for the Promotion of Science   \n",
       "684                 Japan  Japan Agency for Medical Research and Development   \n",
       "685                 Japan  Japan Agency for Medical Research and Development   \n",
       "686                 Japan  Japan Agency for Medical Research and Development   \n",
       "893                 Japan  Japan Agency for Medical Research and Development   \n",
       "\n",
       "     funding_usd             id research_org_countries.id  \\\n",
       "239      37711.0  grant.9670570                        JP   \n",
       "684          0.0  grant.9618136                        JP   \n",
       "685          0.0  grant.9617865                        JP   \n",
       "686          0.0  grant.9617655                        JP   \n",
       "893     455548.0  grant.9618548                        JP   \n",
       "\n",
       "    research_org_countries.name   research_org_names  \\\n",
       "239                       Japan     Kōchi University   \n",
       "684                       Japan  University of Tokyo   \n",
       "685                       Japan  University of Tokyo   \n",
       "686                       Japan  University of Tokyo   \n",
       "893                       Japan  University of Tokyo   \n",
       "\n",
       "                                           researchers  \\\n",
       "239  [{'first_name': 'Yoshihiro', 'id': 'ur.0126107...   \n",
       "684  [{'first_name': 'Yoshihiro', 'id': 'ur.0126107...   \n",
       "685  [{'first_name': 'Yoshihiro', 'id': 'ur.0126107...   \n",
       "686  [{'first_name': 'Yoshihiro', 'id': 'ur.0126107...   \n",
       "893  [{'first_name': 'Yoshihiro', 'id': 'ur.0126107...   \n",
       "\n",
       "                                                 title  country_count  \\\n",
       "239  Neo virology: the headwaters from the superorg...            105   \n",
       "684  Research and development of next-generation va...            105   \n",
       "685  Development of live attenuated vaccine against...            105   \n",
       "686  Establishment of treatment for new coronavirus...            105   \n",
       "893  Creation of a developing chicken egg influenza...            105   \n",
       "\n",
       "     country_funding  \n",
       "239       73486106.0  \n",
       "684       73486106.0  \n",
       "685       73486106.0  \n",
       "686       73486106.0  \n",
       "893       73486106.0  "
      ]
     },
     "execution_count": 111,
     "metadata": {},
     "output_type": "execute_result"
    }
   ],
   "source": [
    "grants[grants[\"funder_countries.name\"] == 'Japan'].head()"
   ]
  },
  {
   "cell_type": "markdown",
   "metadata": {
    "Collapsed": "false"
   },
   "source": [
    "**To find out who are the NIH researchers** "
   ]
  },
  {
   "cell_type": "code",
   "execution_count": 123,
   "metadata": {
    "Collapsed": "false"
   },
   "outputs": [
    {
     "name": "stdout",
     "output_type": "stream",
     "text": [
      "Yoshihiro Kawaoka \n",
      " https://app.dimensions.ai/discover/publication?and_facet_researcher=ur.01261074774.41\n"
     ]
    }
   ],
   "source": [
    "# eg for Japan\n",
    "\n",
    "COUNTRY = \"Japan\"\n",
    "\n",
    "focus_set = grants[grants[\"funder_countries.name\"] == COUNTRY]['researchers'].to_list()\n",
    "\n",
    "for res in focus_set[0]:\n",
    "    if res['id'] in researcher_ids:\n",
    "        print(res['first_name'], res['last_name'], \"\\n\", dimensions_url(res['id'], 'researchers'))"
   ]
  },
  {
   "cell_type": "markdown",
   "metadata": {
    "Collapsed": "false"
   },
   "source": [
    "## Next steps\n",
    "\n",
    "* Doing this at scale: see the [Working with lists tutorial](https://api-lab.dimensions.ai/cookbooks/1-getting-started/6-Working-with-lists.html) that shows how to deal with list of researchers / grants of any size, using pagination and 'chunking' methods\n",
    "* Makings the analysis more specific by using the [investigators details data structure](https://docs.dimensions.ai/dsl/datasource-grants.html#grants-investigators-long-desc) in the API grants model\n",
    "* Going from grants to [Related publications](https://api-lab.dimensions.ai/cookbooks/3-grants/2-grants-enrichment-adding-publications-information.html)\n",
    "* Going from grants to [Related Patents and Clinical Trials](https://api-lab.dimensions.ai/cookbooks/3-grants/3-grants-enrichment-adding-patents-cltrials-information.html)\n"
   ]
  }
 ],
 "metadata": {
  "kernelspec": {
   "display_name": "Python 3 (ipykernel)",
   "language": "python",
   "name": "python3"
  },
  "language_info": {
   "codemirror_mode": {
    "name": "ipython",
    "version": 3
   },
   "file_extension": ".py",
   "mimetype": "text/x-python",
   "name": "python",
   "nbconvert_exporter": "python",
   "pygments_lexer": "ipython3",
   "version": "3.9.9"
  }
 },
 "nbformat": 4,
 "nbformat_minor": 4
}
