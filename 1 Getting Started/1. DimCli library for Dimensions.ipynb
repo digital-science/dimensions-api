{
 "cells": [
  {
   "cell_type": "markdown",
   "metadata": {
    "slideshow": {
     "slide_type": "slide"
    }
   },
   "source": [
    "# Interacting with Dimensions using DimCli\n",
    "The purpose of this notebook is to show how to use DimCli. "
   ]
  },
  {
   "cell_type": "markdown",
   "metadata": {},
   "source": [
    "[DimCli](https://github.com/lambdamusic/dimcli) is an open source python library which contains various commands that make it easier to interact with the Dimensions API from Python notebooks. \n",
    "\n",
    "> This guide assumes that you already have a Python 3 working environment and [pip](https://pypi.org/project/pip/) - the python package manager - installed. For more background, see this [link](https://realpython.com/installing-python/).\n",
    "\n",
    "If you haven't installed it already, you can install DimCli do so as follows: "
   ]
  },
  {
   "cell_type": "code",
   "execution_count": null,
   "metadata": {},
   "outputs": [],
   "source": [
    "!pip install dimcli -U"
   ]
  },
  {
   "cell_type": "markdown",
   "metadata": {},
   "source": [
    "Then each time you want to use it within a notebook you can load it like this:"
   ]
  },
  {
   "cell_type": "code",
   "execution_count": null,
   "metadata": {},
   "outputs": [],
   "source": [
    "import dimcli\n",
    "%dsl_login "
   ]
  },
  {
   "cell_type": "markdown",
   "metadata": {},
   "source": [
    "### Authentication"
   ]
  },
  {
   "cell_type": "markdown",
   "metadata": {},
   "source": [
    "DimCli handles authenticating with the Dimensions API. This requires you to store your access credentials (email and password most likely) in a file on your computer so that DimCli can retrieve those data at runtime.\n",
    "\n",
    "There are [different ways](https://github.com/lambdamusic/dimcli#the-credentials-file) to achieve that, but the easiest is to add a file called `dsl.ini` in the current working directory (eg where your notebooks are located).\n",
    "\n",
    "The file contents should follow this structure:\n",
    "\n",
    "```\n",
    "[instance.live]\n",
    "url=https://app.dimensions.ai\n",
    "login=user@mail.com\n",
    "password=yourpasswordhere\n",
    "```\n",
    "\n",
    "You just need to update the login and password fields with your credentials."
   ]
  },
  {
   "cell_type": "markdown",
   "metadata": {},
   "source": [
    "### Querying"
   ]
  },
  {
   "cell_type": "markdown",
   "metadata": {},
   "source": [
    "DimCli includes a couple of [magic commands](https://ipython.readthedocs.io/en/stable/interactive/magics.html) which make querying very easy: `dsl_query` and `dsl_query_loop`.\n",
    "\n",
    "##### Magic Command: Dsl_Query"
   ]
  },
  {
   "cell_type": "code",
   "execution_count": null,
   "metadata": {},
   "outputs": [],
   "source": [
    "%dsl_query search publications where journal.title=\"Nature\" return publications"
   ]
  },
  {
   "cell_type": "markdown",
   "metadata": {},
   "source": [
    "Or using all the space in a cell (note the `%%` instead of `%`)"
   ]
  },
  {
   "cell_type": "code",
   "execution_count": null,
   "metadata": {},
   "outputs": [],
   "source": [
    "%%dsl_query\n",
    "search publications\n",
    "where year in [2013:2018] and research_orgs=\"grid.258806.1\"\n",
    "return publications[title]"
   ]
  },
  {
   "cell_type": "markdown",
   "metadata": {},
   "source": [
    "Queries return a DimCli `Result` object, which is just a wrapper around the raw JSON data. \n",
    "\n",
    "We can assign the results of the magic command to a variable, for example, and explore the returned data:"
   ]
  },
  {
   "cell_type": "code",
   "execution_count": null,
   "metadata": {},
   "outputs": [],
   "source": [
    "res = %dsl_query search publications where journal.title=\"Nature\" return publications"
   ]
  },
  {
   "cell_type": "code",
   "execution_count": null,
   "metadata": {},
   "outputs": [],
   "source": [
    "type(res)"
   ]
  },
  {
   "cell_type": "code",
   "execution_count": null,
   "metadata": {},
   "outputs": [],
   "source": [
    "res['publications'][2]"
   ]
  },
  {
   "cell_type": "markdown",
   "metadata": {},
   "source": [
    "##### Magic Command: Dsl_query_loop\n",
    "\n",
    "The second command you may want to use is `dsl_query_loop`. This is similar to the one above, but it loops over all the pages of a result set until all results can be returned.\n",
    "\n",
    "It is useful to remember that the Dimensions DSL returns a maximum of 1000 records per query. So if your query returns 5000 records the only way to pull them out is to iterate through the results using the `limit` and `skip` operators (see the [docs](https://docs.dimensions.ai/dsl/language.html#limit-and-skip)). For simple queries with only one return statement, `dsl_query_loop` can do the looping for you in the background and return directly a `Result` object you can work this.\n",
    "\n",
    "> NOTE: loop queries must be used with caution as they can result in a large number of API calls"
   ]
  },
  {
   "cell_type": "code",
   "execution_count": null,
   "metadata": {},
   "outputs": [],
   "source": [
    "%%dsl_query_loop\n",
    "search publications\n",
    "where year in [2013:2018] and research_orgs=\"grid.258806.1\"\n",
    "return publications"
   ]
  },
  {
   "cell_type": "markdown",
   "metadata": {},
   "source": [
    "### Other commands"
   ]
  },
  {
   "cell_type": "markdown",
   "metadata": {},
   "source": [
    "> note: this section contains functionalities still being developed\n",
    "\n",
    "The `%dsl_schema` is a shortcut for the dsl `describe schema` command, which outputs the dsl grammar as a JSON dictionary."
   ]
  },
  {
   "cell_type": "code",
   "execution_count": null,
   "metadata": {},
   "outputs": [],
   "source": [
    "%dsl_schema"
   ]
  }
 ],
 "metadata": {
  "kernelspec": {
   "display_name": "Python 3",
   "language": "python",
   "name": "python3"
  },
  "language_info": {
   "codemirror_mode": {
    "name": "ipython",
    "version": 3
   },
   "file_extension": ".py",
   "mimetype": "text/x-python",
   "name": "python",
   "nbconvert_exporter": "python",
   "pygments_lexer": "ipython3",
   "version": "3.7.3"
  }
 },
 "nbformat": 4,
 "nbformat_minor": 2
}
