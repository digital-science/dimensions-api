{
 "cells": [
  {
   "cell_type": "markdown",
   "metadata": {
    "slideshow": {
     "slide_type": "slide"
    }
   },
   "source": [
    "# Researchers Queries \n",
    "The purpose of this notebook is to provide some examples of how to query researchers-related data.\n"
   ]
  },
  {
   "cell_type": "markdown",
   "metadata": {},
   "source": [
    "#### Prerequisites\n",
    "\n",
    "This notebook assumes you have installed the [`dimcli`](https://pypi.org/project/dimcli/) library and are familiar with the [Getting Started](https://github.com/digital-science/dimensions-api-examples/tree/master/1%20Getting%20Started) tutorials."
   ]
  },
  {
   "cell_type": "code",
   "execution_count": null,
   "metadata": {},
   "outputs": [],
   "source": [
    "import dimcli\n",
    "%dsl_login"
   ]
  },
  {
   "cell_type": "markdown",
   "metadata": {},
   "source": [
    "### How to retrieve all researchers? "
   ]
  },
  {
   "cell_type": "markdown",
   "metadata": {},
   "source": [
    "If you have in mind a specific publications subset (eg all publications from a years-range and organization), a common use case it to extract all researchers info Dimensions knows about that subset. \n",
    "\n",
    "For example let's assume we can identify out publications set as follows:"
   ]
  },
  {
   "cell_type": "code",
   "execution_count": null,
   "metadata": {},
   "outputs": [],
   "source": [
    "%%dsl_query\n",
    "search publications\n",
    "    where year in [2013:2018] and research_orgs=\"grid.258806.1\"\n",
    "return publications"
   ]
  },
  {
   "cell_type": "markdown",
   "metadata": {},
   "source": [
    "There are different ways to get to the researchers data,  depending on what are the search criteria. \n",
    "\n",
    "#### Approach 1\n",
    "\n",
    "If one is interested in only the researchers from a certain institution, for a specific publications years range - this can be achieved via a single query to the `researchers` database, eg: "
   ]
  },
  {
   "cell_type": "code",
   "execution_count": null,
   "metadata": {},
   "outputs": [],
   "source": [
    "%%dsl_query_loop \n",
    "search researchers \n",
    "    where research_orgs=\"grid.258806.1\" \n",
    "    and first_publication_year>=2013 \n",
    "    and last_publication_year<=2018 \n",
    "return researchers"
   ]
  },
  {
   "cell_type": "code",
   "execution_count": null,
   "metadata": {},
   "outputs": [],
   "source": [
    "res = _\n",
    "res['researchers'][10]"
   ]
  },
  {
   "cell_type": "markdown",
   "metadata": {},
   "source": [
    "> NOTE the query above return only researchers who **first** published in 2013, and **last** published in 2018 - hence most likely a subset of all researchers who published during that years range!"
   ]
  },
  {
   "cell_type": "markdown",
   "metadata": {},
   "source": [
    "#### Approach 2\n",
    "\n",
    "If instead one wants to get all researchers related to publications (for a specific year range) where at least one author is related to a specific GRID affiliation - then this must be done in multiple steps. \n",
    "\n",
    "The basic idea is to get all the relevant publications, extract all researchers, remove duplicates and return the results. \n",
    "\n",
    "So, first we want to get all publications using a `loop` query. This is fundamentally the same of a normal query, but the in background it uses the `limit` and `skip` operators to gather all possible results for a query that returns more than 1000 records. \n",
    "\n",
    "> NOTE: loop queries must be used with caution as they can result in a large number of API calls"
   ]
  },
  {
   "cell_type": "code",
   "execution_count": null,
   "metadata": {},
   "outputs": [],
   "source": [
    "%%dsl_query_loop\n",
    "search publications\n",
    "    where year in [2013:2018] and research_orgs=\"grid.258806.1\"\n",
    "return publications"
   ]
  },
  {
   "cell_type": "code",
   "execution_count": null,
   "metadata": {},
   "outputs": [],
   "source": [
    "res = _"
   ]
  },
  {
   "cell_type": "markdown",
   "metadata": {},
   "source": [
    "The second step is to pull out all researchers info from these results. \n",
    "Byt looking at one single record we can find out how the data is organized internally: authors are stored in an inner list/dictionary with the key `author_affiliations`. So to extract for example the second author of the tenth publication we can do the following:"
   ]
  },
  {
   "cell_type": "code",
   "execution_count": null,
   "metadata": {},
   "outputs": [],
   "source": [
    "res['publications'][10]['author_affiliations'][0][2]"
   ]
  },
  {
   "cell_type": "markdown",
   "metadata": {},
   "source": [
    "Now we can extract all authors and put them into a single dictionary. \n",
    "\n",
    "In order to remove duplicates we can use the (unique) `researcher_id` values as dictionary keys as follows:"
   ]
  },
  {
   "cell_type": "code",
   "execution_count": null,
   "metadata": {},
   "outputs": [],
   "source": [
    "out = {}\n",
    "for p in res['publications']:\n",
    "    for a in p['author_affiliations'][0]:\n",
    "        try:\n",
    "            out[a['researcher_id']] = a\n",
    "        except:\n",
    "            pass"
   ]
  },
  {
   "cell_type": "code",
   "execution_count": null,
   "metadata": {},
   "outputs": [],
   "source": [
    "len(out)"
   ]
  },
  {
   "cell_type": "markdown",
   "metadata": {},
   "source": [
    "That's it! We have all researchers. Let's get one of them "
   ]
  },
  {
   "cell_type": "code",
   "execution_count": null,
   "metadata": {},
   "outputs": [],
   "source": [
    "next(iter(out.values()))"
   ]
  },
  {
   "cell_type": "markdown",
   "metadata": {},
   "source": [
    "Now let's count how many are currenlty linked to \"grid.258806.1\""
   ]
  },
  {
   "cell_type": "code",
   "execution_count": null,
   "metadata": {},
   "outputs": [],
   "source": [
    "counter = 0\n",
    "for k in out.keys():\n",
    "    if out[k]['current_organization_id'] == \"grid.258806.1\":\n",
    "        counter +=1"
   ]
  },
  {
   "cell_type": "code",
   "execution_count": null,
   "metadata": {},
   "outputs": [],
   "source": [
    "counter"
   ]
  }
 ],
 "metadata": {
  "kernelspec": {
   "display_name": "Python 3",
   "language": "python",
   "name": "python3"
  },
  "language_info": {
   "codemirror_mode": {
    "name": "ipython",
    "version": 3
   },
   "file_extension": ".py",
   "mimetype": "text/x-python",
   "name": "python",
   "nbconvert_exporter": "python",
   "pygments_lexer": "ipython3",
   "version": "3.7.3"
  }
 },
 "nbformat": 4,
 "nbformat_minor": 2
}
