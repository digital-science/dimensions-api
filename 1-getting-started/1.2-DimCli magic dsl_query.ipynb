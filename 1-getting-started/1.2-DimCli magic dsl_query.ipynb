{
 "cells": [
  {
   "cell_type": "markdown",
   "metadata": {},
   "source": [
    "# DimCLi: querying with the `dsl_query` magic \n",
    "The `dsl_query` and `dsl_query_loop` magics included in [DimCLI](https://github.com/lambdamusic/dimcli) make it easier to query the Dimensions API. \n"
   ]
  },
  {
   "cell_type": "code",
   "execution_count": null,
   "metadata": {},
   "outputs": [],
   "source": [
    "import dimcli\n",
    "%dsl_login"
   ]
  },
  {
   "cell_type": "markdown",
   "metadata": {},
   "source": [
    "## %dsl_query\n",
    "\n",
    "This command allows to simply pass an API query after the `%dsl_query` keyword. This can be done within a single line:"
   ]
  },
  {
   "cell_type": "code",
   "execution_count": null,
   "metadata": {},
   "outputs": [],
   "source": [
    "%dsl_query search publications where journal.title=\"Nature\" return publications"
   ]
  },
  {
   "cell_type": "markdown",
   "metadata": {},
   "source": [
    "Or using all the space in a cell (note the `%%` instead of `%`)"
   ]
  },
  {
   "cell_type": "code",
   "execution_count": null,
   "metadata": {},
   "outputs": [],
   "source": [
    "%%dsl_query\n",
    "search publications\n",
    "where year in [2013:2018] and research_orgs=\"grid.258806.1\"\n",
    "return publications[title]"
   ]
  },
  {
   "cell_type": "markdown",
   "metadata": {},
   "source": [
    "Queries return a DimCli `Result` object, which is just a wrapper around the raw JSON data. \n",
    "\n",
    "We can assign the results of the magic command to a variable, for example, and explore the returned data:"
   ]
  },
  {
   "cell_type": "code",
   "execution_count": null,
   "metadata": {},
   "outputs": [],
   "source": [
    "res = %dsl_query search publications where journal.title=\"Nature\" return publications"
   ]
  },
  {
   "cell_type": "code",
   "execution_count": null,
   "metadata": {},
   "outputs": [],
   "source": [
    "type(res)"
   ]
  },
  {
   "cell_type": "code",
   "execution_count": null,
   "metadata": {},
   "outputs": [],
   "source": [
    "res['publications'][2]"
   ]
  },
  {
   "cell_type": "markdown",
   "metadata": {},
   "source": [
    "**Note** by default the results of a query are saved to a variable called `dsl_last_results`:"
   ]
  },
  {
   "cell_type": "code",
   "execution_count": null,
   "metadata": {},
   "outputs": [],
   "source": [
    "type(dsl_last_results)"
   ]
  },
  {
   "cell_type": "markdown",
   "metadata": {},
   "source": [
    "This variable can be referenced after a query e.g. in order to process the data it returns."
   ]
  },
  {
   "cell_type": "markdown",
   "metadata": {},
   "source": [
    "## %dsl_query_loop\n",
    "\n",
    "The second command you may want to use is `dsl_query_loop`. This is similar to the one above, but it loops over all the pages of a result set until all results can be returned.\n",
    "\n",
    "It is useful to remember that the Dimensions DSL returns a maximum of 1000 records per query. So if your query returns 5000 records the only way to pull them out is to iterate through the results using the `limit` and `skip` operators (see the [docs](https://docs.dimensions.ai/dsl/language.html#limit-and-skip)). \n",
    "\n",
    "For simple queries with only one return statement, `dsl_query_loop` can do the looping for you in the background and return directly a `Result` object you can work this.\n",
    "\n",
    "> NOTE: loop queries must be used with caution as they can result in a large number of API calls"
   ]
  },
  {
   "cell_type": "code",
   "execution_count": null,
   "metadata": {},
   "outputs": [],
   "source": [
    "%%dsl_query_loop\n",
    "search publications\n",
    "where year in [2013:2018] and research_orgs=\"grid.258806.1\"\n",
    "return publications"
   ]
  },
  {
   "cell_type": "markdown",
   "metadata": {},
   "source": [
    "The results of a `loop` query are stored into the `dsl_last_results` variable as well:"
   ]
  },
  {
   "cell_type": "code",
   "execution_count": null,
   "metadata": {},
   "outputs": [],
   "source": [
    "dsl_last_results.stats"
   ]
  }
 ],
 "metadata": {
  "kernelspec": {
   "display_name": "Python 3",
   "language": "python",
   "name": "python3"
  },
  "language_info": {
   "codemirror_mode": {
    "name": "ipython",
    "version": 3
   },
   "file_extension": ".py",
   "mimetype": "text/x-python",
   "name": "python",
   "nbconvert_exporter": "python",
   "pygments_lexer": "ipython3",
   "version": "3.7.3"
  }
 },
 "nbformat": 4,
 "nbformat_minor": 2
}
