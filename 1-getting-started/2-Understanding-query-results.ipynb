{
 "cells": [
  {
   "cell_type": "markdown",
   "metadata": {
    "Collapsed": "false"
   },
   "source": [
    "<a href=\"https://colab.research.google.com/github/digital-science/dimensions-api-lab/blob/master/1-getting-started/2-Understanding-query-results.ipynb\" target=\"_parent\"><img src=\"https://colab.research.google.com/assets/colab-badge.svg\" alt=\"Open Dimensions API Lab In Google Colab\"/></a>"
   ]
  },
  {
   "cell_type": "markdown",
   "metadata": {
    "Collapsed": "false",
    "slideshow": {
     "slide_type": "slide"
    }
   },
   "source": [
    "# Understanding query results\n",
    "The purpose of this notebook is to show how to make sense and manipulate the data coming back from the DSL. "
   ]
  },
  {
   "cell_type": "markdown",
   "metadata": {
    "Collapsed": "false"
   },
   "source": [
    "#### Prerequisites\n",
    "\n",
    "This notebook assumes you have installed the [`dimcli`](https://pypi.org/project/dimcli/) library and are familiar with the *Getting Started* tutorial."
   ]
  },
  {
   "cell_type": "code",
   "execution_count": null,
   "metadata": {
    "Collapsed": "false"
   },
   "outputs": [],
   "source": [
    "import dimcli\n",
    "dimcli.login()"
   ]
  },
  {
   "cell_type": "markdown",
   "metadata": {
    "Collapsed": "false"
   },
   "source": [
    "#### What the query statistics refer to\n",
    "\n",
    "When performing a DSL search, a `_stats` object is return which contains some useful info eg the total number of records available for a search. \n",
    "\n",
    "It is important to note though that the total number *always refers to the main source* one is searching for, not necessarily the results being returned. \n",
    "\n",
    "So, both the queries below have `publications` as the main source, while only the first one also has `publications` in the return data. The second one instead returns `researchers`. "
   ]
  },
  {
   "cell_type": "code",
   "execution_count": null,
   "metadata": {
    "Collapsed": "false"
   },
   "outputs": [],
   "source": [
    "%%dsl_query\n",
    "search publications\n",
    "where year in [2013:2018] and research_orgs=\"grid.258806.1\"\n",
    "return publications"
   ]
  },
  {
   "cell_type": "code",
   "execution_count": null,
   "metadata": {
    "Collapsed": "false"
   },
   "outputs": [],
   "source": [
    "%%dsl_query\n",
    "search publications\n",
    "where year in [2013:2018] and research_orgs=\"grid.258806.1\"\n",
    "return researchers"
   ]
  },
  {
   "cell_type": "markdown",
   "metadata": {
    "Collapsed": "false"
   },
   "source": [
    "> note: the total number of publications in the queries above don't match because they are an _approximation_ of the real number of records available. This is due to the fact that in order to obtain adequate performance, the Dimensions database subdivides the data into multiple copies (or _shards_) which are not always perfectly synced. Hence the difference. "
   ]
  },
  {
   "cell_type": "markdown",
   "metadata": {
    "Collapsed": "false"
   },
   "source": [
    "#### Facets VS Sources\n",
    "The previous query is using the `researchers` facet of the `publications` source. \n",
    "\n",
    "In general queries can return up to 1000 records. For example this throws an exception:"
   ]
  },
  {
   "cell_type": "code",
   "execution_count": null,
   "metadata": {
    "Collapsed": "false"
   },
   "outputs": [],
   "source": [
    "%%dsl_query\n",
    "search publications\n",
    "where year in [2013:2018] and research_orgs=\"grid.258806.1\"\n",
    "return researchers limit 2000"
   ]
  },
  {
   "cell_type": "markdown",
   "metadata": {
    "Collapsed": "false"
   },
   "source": [
    "Now, with facets there is no way to pull out more than 1000 records with one single query. Instead if you are returning sources we can use the `skip` keyword to paginate through the results. E.g. if we return `publications` we can do this:"
   ]
  },
  {
   "cell_type": "code",
   "execution_count": null,
   "metadata": {
    "Collapsed": "false"
   },
   "outputs": [],
   "source": [
    "%%dsl_query\n",
    "search publications\n",
    "where year in [2013:2018] and research_orgs=\"grid.258806.1\"\n",
    "return publications limit 1000 skip 1000"
   ]
  },
  {
   "cell_type": "markdown",
   "metadata": {
    "Collapsed": "false"
   },
   "source": [
    "---\n",
    "# Want to learn more?\n",
    "\n",
    "Check out the [Dimensions API Lab](https://digital-science.github.io/dimensions-api-lab/) website, which contains many tutorials and reusable Jupyter notebooks for scholarly data analytics. "
   ]
  }
 ],
 "metadata": {
  "kernel_info": {
   "name": "python3"
  },
  "kernelspec": {
   "display_name": "Python 3",
   "language": "python",
   "name": "python3"
  },
  "language_info": {
   "codemirror_mode": {
    "name": "ipython",
    "version": 3
   },
   "file_extension": ".py",
   "mimetype": "text/x-python",
   "name": "python",
   "nbconvert_exporter": "python",
   "pygments_lexer": "ipython3",
   "version": "3.7.4"
  },
  "nteract": {
   "version": "0.14.5"
  }
 },
 "nbformat": 4,
 "nbformat_minor": 4
}
