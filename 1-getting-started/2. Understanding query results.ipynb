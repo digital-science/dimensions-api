{
  "cells": [
    {
      "cell_type": "markdown",
      "source": [
        "# Understanding query results\n",
        "The purpose of this notebook is to show how to make sense and manipulate the data coming back from the DSL. "
      ],
      "metadata": {
        "slideshow": {
          "slide_type": "slide"
        }
      }
    },
    {
      "cell_type": "markdown",
      "source": [
        "#### Prerequisites\n",
        "\n",
        "This notebook assumes you have installed the [`dimcli`](https://pypi.org/project/dimcli/) library and are familiar with the [Getting Started](https://github.com/digital-science/dimensions-api-examples/tree/master/1%20Getting%20Started) tutorials."
      ],
      "metadata": {}
    },
    {
      "cell_type": "code",
      "source": [
        "import dimcli\n",
        "%dsl_login"
      ],
      "outputs": [],
      "execution_count": null,
      "metadata": {}
    },
    {
      "cell_type": "markdown",
      "source": [
        "#### What the query statistics refer to\n",
        "\n",
        "When performing a DSL search, a `_stats` object is return which contains some useful info eg the total number of records available for a search. \n",
        "\n",
        "It is important to note though that the total number *always refers to the main source* one is searching for, not necessarily the results being returned. \n",
        "\n",
        "So, both the queries below have `publications` as the main source, while only the first one also has `publications` in the return data. The second one instead returns `researchers`. "
      ],
      "metadata": {}
    },
    {
      "cell_type": "code",
      "source": [
        "%%dsl_query\n",
        "search publications\n",
        "where year in [2013:2018] and research_orgs=\"grid.258806.1\"\n",
        "return publications"
      ],
      "outputs": [],
      "execution_count": null,
      "metadata": {}
    },
    {
      "cell_type": "code",
      "source": [
        "%%dsl_query\n",
        "search publications\n",
        "where year in [2013:2018] and research_orgs=\"grid.258806.1\"\n",
        "return researchers"
      ],
      "outputs": [],
      "execution_count": null,
      "metadata": {}
    },
    {
      "cell_type": "markdown",
      "source": [
        "> note: the total number of publications in the queries above don't match because they are an _approximation_ of the real number of records available. This is due to the fact that in order to obtain adequate performance, the Dimensions database subdivides the data into multiple copies (or _shards_) which are not always perfectly synced. Hence the difference. "
      ],
      "metadata": {}
    },
    {
      "cell_type": "markdown",
      "source": [
        "#### Facets VS Sources\n",
        "The previous query is using the `researchers` facet of the `publications` source. \n",
        "\n",
        "In general queries can return up to 1000 records. For example this throws an exception:"
      ],
      "metadata": {}
    },
    {
      "cell_type": "code",
      "source": [
        "%%dsl_query\n",
        "search publications\n",
        "where year in [2013:2018] and research_orgs=\"grid.258806.1\"\n",
        "return researchers limit 2000"
      ],
      "outputs": [],
      "execution_count": null,
      "metadata": {}
    },
    {
      "cell_type": "markdown",
      "source": [
        "Now, with facets there is no way to pull out more than 1000 records with one single query. Instead if you are returning sources we can use the `skip` keyword to paginate through the results. E.g. if we return `publications` we can do this:"
      ],
      "metadata": {}
    },
    {
      "cell_type": "code",
      "source": [
        "%%dsl_query\n",
        "search publications\n",
        "where year in [2013:2018] and research_orgs=\"grid.258806.1\"\n",
        "return publications limit 1000 skip 1000"
      ],
      "outputs": [],
      "execution_count": null,
      "metadata": {}
    },
    {
      "cell_type": "markdown",
      "source": [
        "---\n",
        "# Want to learn more?\n",
        "\n",
        "Check out the [Dimensions API Lab](https://digital-science.github.io/dimensions-api-lab/) website, which contains many tutorials and reusable Jupyter notebooks for scholarly data analytics. "
      ],
      "metadata": {}
    }
  ],
  "metadata": {
    "kernelspec": {
      "name": "python3",
      "language": "python",
      "display_name": "Python 3"
    },
    "language_info": {
      "name": "python",
      "version": "3.7.4",
      "mimetype": "text/x-python",
      "codemirror_mode": {
        "name": "ipython",
        "version": 3
      },
      "pygments_lexer": "ipython3",
      "nbconvert_exporter": "python",
      "file_extension": ".py"
    },
    "kernel_info": {
      "name": "python3"
    },
    "nteract": {
      "version": "0.14.5"
    }
  },
  "nbformat": 4,
  "nbformat_minor": 4
}