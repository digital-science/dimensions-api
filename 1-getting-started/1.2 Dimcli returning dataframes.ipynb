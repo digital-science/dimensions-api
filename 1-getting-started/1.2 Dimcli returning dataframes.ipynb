{
  "cells": [
    {
      "cell_type": "markdown",
      "source": [
        "# Dimcli: returning DataFrames\n",
        "\n",
        "DimCli includes a few utilities that make it easier to transform Dimensions JSON data into Pandas [dataframe objects](https://pandas.pydata.org/pandas-docs/stable/getting_started/dsintro.html#dataframe). \n",
        "\n",
        "Dataframes are then easy to sort, analyse, export as CSV and use within visualisation softwares.\n",
        "\n",
        ">  [pandas](https://pandas.pydata.org/pandas-docs/stable/) is a popular software library written for the Python programming language for data manipulation and analysis."
      ],
      "metadata": {}
    },
    {
      "cell_type": "code",
      "source": [
        "import pandas\n",
        "import dimcli\n",
        "from dimcli.shortcuts import dslquery\n",
        "%dsl_login"
      ],
      "outputs": [
        {
          "output_type": "stream",
          "name": "stdout",
          "text": [
            "DimCli v0.5.3 - Succesfully connected to <https://app.dimensions.ai> (method: dsl.ini file)\n"
          ]
        }
      ],
      "execution_count": 2,
      "metadata": {}
    },
    {
      "cell_type": "markdown",
      "source": [
        "## 1. Getting started: the `as_dataframe` method\n",
        "\n",
        "This utility method allows to quickly turn any query results into a dataframe. "
      ],
      "metadata": {}
    },
    {
      "cell_type": "code",
      "source": [
        "# we'll reuse this query later on \n",
        "query = \"\"\"search publications for \"graphene\" where year=[2013:2019] return publications sort by times_cited limit 100\"\"\"\n",
        "res = dslquery(query)"
      ],
      "outputs": [
        {
          "output_type": "stream",
          "name": "stdout",
          "text": [
            "Returned Publications: 100 (total = 361718)\n"
          ]
        }
      ],
      "execution_count": 30,
      "metadata": {}
    },
    {
      "cell_type": "code",
      "source": [
        "df = res.as_dataframe()\n",
        "df.head()"
      ],
      "outputs": [
        {
          "output_type": "execute_result",
          "execution_count": 13,
          "data": {
            "text/html": [
              "<div>\n",
              "<style scoped>\n",
              "    .dataframe tbody tr th:only-of-type {\n",
              "        vertical-align: middle;\n",
              "    }\n",
              "\n",
              "    .dataframe tbody tr th {\n",
              "        vertical-align: top;\n",
              "    }\n",
              "\n",
              "    .dataframe thead th {\n",
              "        text-align: right;\n",
              "    }\n",
              "</style>\n",
              "<table border=\"1\" class=\"dataframe\">\n",
              "  <thead>\n",
              "    <tr style=\"text-align: right;\">\n",
              "      <th></th>\n",
              "      <th>author_affiliations</th>\n",
              "      <th>id</th>\n",
              "      <th>issue</th>\n",
              "      <th>journal</th>\n",
              "      <th>pages</th>\n",
              "      <th>title</th>\n",
              "      <th>type</th>\n",
              "      <th>volume</th>\n",
              "      <th>year</th>\n",
              "    </tr>\n",
              "  </thead>\n",
              "  <tbody>\n",
              "    <tr>\n",
              "      <th>0</th>\n",
              "      <td>[[{'first_name': 'Manish', 'last_name': 'Chhow...</td>\n",
              "      <td>pub.1050119463</td>\n",
              "      <td>4</td>\n",
              "      <td>{'id': 'jour.1041224', 'title': 'Nature Chemis...</td>\n",
              "      <td>263</td>\n",
              "      <td>The chemistry of two-dimensional layered trans...</td>\n",
              "      <td>article</td>\n",
              "      <td>5</td>\n",
              "      <td>2013</td>\n",
              "    </tr>\n",
              "    <tr>\n",
              "      <th>1</th>\n",
              "      <td>[[{'first_name': 'A. K.', 'last_name': 'Geim',...</td>\n",
              "      <td>pub.1024857999</td>\n",
              "      <td>7459</td>\n",
              "      <td>{'id': 'jour.1018957', 'title': 'Nature'}</td>\n",
              "      <td>419</td>\n",
              "      <td>Van der Waals heterostructures</td>\n",
              "      <td>article</td>\n",
              "      <td>499</td>\n",
              "      <td>2013</td>\n",
              "    </tr>\n",
              "    <tr>\n",
              "      <th>2</th>\n",
              "      <td>[[{'first_name': 'Huanping', 'last_name': 'Zho...</td>\n",
              "      <td>pub.1004394295</td>\n",
              "      <td>6196</td>\n",
              "      <td>{'id': 'jour.1346339', 'title': 'Science'}</td>\n",
              "      <td>542-546</td>\n",
              "      <td>Interface engineering of highly efficient pero...</td>\n",
              "      <td>article</td>\n",
              "      <td>345</td>\n",
              "      <td>2014</td>\n",
              "    </tr>\n",
              "    <tr>\n",
              "      <th>3</th>\n",
              "      <td>[[{'first_name': 'Likai', 'last_name': 'Li', '...</td>\n",
              "      <td>pub.1032956475</td>\n",
              "      <td>5</td>\n",
              "      <td>{'id': 'jour.1037429', 'title': 'Nature Nanote...</td>\n",
              "      <td>372-377</td>\n",
              "      <td>Black phosphorus field-effect transistors</td>\n",
              "      <td>article</td>\n",
              "      <td>9</td>\n",
              "      <td>2014</td>\n",
              "    </tr>\n",
              "    <tr>\n",
              "      <th>4</th>\n",
              "      <td>[[{'first_name': 'C.', 'last_name': 'Patrignan...</td>\n",
              "      <td>pub.1059158429</td>\n",
              "      <td>10</td>\n",
              "      <td>{'id': 'jour.1327822', 'title': 'Chinese Physi...</td>\n",
              "      <td>100001</td>\n",
              "      <td>Review of Particle Physics</td>\n",
              "      <td>article</td>\n",
              "      <td>40</td>\n",
              "      <td>2016</td>\n",
              "    </tr>\n",
              "  </tbody>\n",
              "</table>\n",
              "</div>"
            ],
            "text/plain": [
              "                                 author_affiliations              id issue  \\\n",
              "0  [[{'first_name': 'Manish', 'last_name': 'Chhow...  pub.1050119463     4   \n",
              "1  [[{'first_name': 'A. K.', 'last_name': 'Geim',...  pub.1024857999  7459   \n",
              "2  [[{'first_name': 'Huanping', 'last_name': 'Zho...  pub.1004394295  6196   \n",
              "3  [[{'first_name': 'Likai', 'last_name': 'Li', '...  pub.1032956475     5   \n",
              "4  [[{'first_name': 'C.', 'last_name': 'Patrignan...  pub.1059158429    10   \n",
              "\n",
              "                                             journal    pages  \\\n",
              "0  {'id': 'jour.1041224', 'title': 'Nature Chemis...      263   \n",
              "1          {'id': 'jour.1018957', 'title': 'Nature'}      419   \n",
              "2         {'id': 'jour.1346339', 'title': 'Science'}  542-546   \n",
              "3  {'id': 'jour.1037429', 'title': 'Nature Nanote...  372-377   \n",
              "4  {'id': 'jour.1327822', 'title': 'Chinese Physi...   100001   \n",
              "\n",
              "                                               title     type volume  year  \n",
              "0  The chemistry of two-dimensional layered trans...  article      5  2013  \n",
              "1                     Van der Waals heterostructures  article    499  2013  \n",
              "2  Interface engineering of highly efficient pero...  article    345  2014  \n",
              "3          Black phosphorus field-effect transistors  article      9  2014  \n",
              "4                         Review of Particle Physics  article     40  2016  "
            ]
          },
          "metadata": {}
        }
      ],
      "execution_count": 13,
      "metadata": {}
    },
    {
      "cell_type": "code",
      "source": [
        "# of course we can do all of that in one line too\n",
        "dslquery(query).as_dataframe().head(10)"
      ],
      "outputs": [
        {
          "output_type": "stream",
          "name": "stdout",
          "text": [
            "Returned Publications: 100 (total = 361718)\n"
          ]
        },
        {
          "output_type": "execute_result",
          "execution_count": 14,
          "data": {
            "text/html": [
              "<div>\n",
              "<style scoped>\n",
              "    .dataframe tbody tr th:only-of-type {\n",
              "        vertical-align: middle;\n",
              "    }\n",
              "\n",
              "    .dataframe tbody tr th {\n",
              "        vertical-align: top;\n",
              "    }\n",
              "\n",
              "    .dataframe thead th {\n",
              "        text-align: right;\n",
              "    }\n",
              "</style>\n",
              "<table border=\"1\" class=\"dataframe\">\n",
              "  <thead>\n",
              "    <tr style=\"text-align: right;\">\n",
              "      <th></th>\n",
              "      <th>author_affiliations</th>\n",
              "      <th>id</th>\n",
              "      <th>issue</th>\n",
              "      <th>journal</th>\n",
              "      <th>pages</th>\n",
              "      <th>title</th>\n",
              "      <th>type</th>\n",
              "      <th>volume</th>\n",
              "      <th>year</th>\n",
              "    </tr>\n",
              "  </thead>\n",
              "  <tbody>\n",
              "    <tr>\n",
              "      <th>0</th>\n",
              "      <td>[[{'first_name': 'Manish', 'last_name': 'Chhow...</td>\n",
              "      <td>pub.1050119463</td>\n",
              "      <td>4</td>\n",
              "      <td>{'id': 'jour.1041224', 'title': 'Nature Chemis...</td>\n",
              "      <td>263</td>\n",
              "      <td>The chemistry of two-dimensional layered trans...</td>\n",
              "      <td>article</td>\n",
              "      <td>5</td>\n",
              "      <td>2013</td>\n",
              "    </tr>\n",
              "    <tr>\n",
              "      <th>1</th>\n",
              "      <td>[[{'first_name': 'A. K.', 'last_name': 'Geim',...</td>\n",
              "      <td>pub.1024857999</td>\n",
              "      <td>7459</td>\n",
              "      <td>{'id': 'jour.1018957', 'title': 'Nature'}</td>\n",
              "      <td>419</td>\n",
              "      <td>Van der Waals heterostructures</td>\n",
              "      <td>article</td>\n",
              "      <td>499</td>\n",
              "      <td>2013</td>\n",
              "    </tr>\n",
              "    <tr>\n",
              "      <th>2</th>\n",
              "      <td>[[{'first_name': 'Huanping', 'last_name': 'Zho...</td>\n",
              "      <td>pub.1004394295</td>\n",
              "      <td>6196</td>\n",
              "      <td>{'id': 'jour.1346339', 'title': 'Science'}</td>\n",
              "      <td>542-546</td>\n",
              "      <td>Interface engineering of highly efficient pero...</td>\n",
              "      <td>article</td>\n",
              "      <td>345</td>\n",
              "      <td>2014</td>\n",
              "    </tr>\n",
              "    <tr>\n",
              "      <th>3</th>\n",
              "      <td>[[{'first_name': 'Likai', 'last_name': 'Li', '...</td>\n",
              "      <td>pub.1032956475</td>\n",
              "      <td>5</td>\n",
              "      <td>{'id': 'jour.1037429', 'title': 'Nature Nanote...</td>\n",
              "      <td>372-377</td>\n",
              "      <td>Black phosphorus field-effect transistors</td>\n",
              "      <td>article</td>\n",
              "      <td>9</td>\n",
              "      <td>2014</td>\n",
              "    </tr>\n",
              "    <tr>\n",
              "      <th>4</th>\n",
              "      <td>[[{'first_name': 'C.', 'last_name': 'Patrignan...</td>\n",
              "      <td>pub.1059158429</td>\n",
              "      <td>10</td>\n",
              "      <td>{'id': 'jour.1327822', 'title': 'Chinese Physi...</td>\n",
              "      <td>100001</td>\n",
              "      <td>Review of Particle Physics</td>\n",
              "      <td>article</td>\n",
              "      <td>40</td>\n",
              "      <td>2016</td>\n",
              "    </tr>\n",
              "    <tr>\n",
              "      <th>5</th>\n",
              "      <td>[[{'first_name': 'John B.', 'last_name': 'Good...</td>\n",
              "      <td>pub.1019126274</td>\n",
              "      <td>4</td>\n",
              "      <td>{'id': 'jour.1081898', 'title': 'Journal of th...</td>\n",
              "      <td>1167-76</td>\n",
              "      <td>The Li-ion rechargeable battery: a perspective.</td>\n",
              "      <td>article</td>\n",
              "      <td>135</td>\n",
              "      <td>2013</td>\n",
              "    </tr>\n",
              "    <tr>\n",
              "      <th>6</th>\n",
              "      <td>[[{'first_name': 'Michael F. L.', 'last_name':...</td>\n",
              "      <td>pub.1007405937</td>\n",
              "      <td>6119</td>\n",
              "      <td>{'id': 'jour.1346339', 'title': 'Science'}</td>\n",
              "      <td>535-539</td>\n",
              "      <td>Carbon Nanotubes: Present and Future Commercia...</td>\n",
              "      <td>article</td>\n",
              "      <td>339</td>\n",
              "      <td>2013</td>\n",
              "    </tr>\n",
              "    <tr>\n",
              "      <th>7</th>\n",
              "      <td>[[{'first_name': 'Andrea C.', 'last_name': 'Fe...</td>\n",
              "      <td>pub.1015305822</td>\n",
              "      <td>4</td>\n",
              "      <td>{'id': 'jour.1037429', 'title': 'Nature Nanote...</td>\n",
              "      <td>235</td>\n",
              "      <td>Raman spectroscopy as a versatile tool for stu...</td>\n",
              "      <td>article</td>\n",
              "      <td>8</td>\n",
              "      <td>2013</td>\n",
              "    </tr>\n",
              "    <tr>\n",
              "      <th>8</th>\n",
              "      <td>[[{'first_name': 'Han', 'last_name': 'Liu', 'o...</td>\n",
              "      <td>pub.1009826879</td>\n",
              "      <td>4</td>\n",
              "      <td>{'id': 'jour.1038917', 'title': 'ACS Nano'}</td>\n",
              "      <td>4033-41</td>\n",
              "      <td>Phosphorene: an unexplored 2D semiconductor wi...</td>\n",
              "      <td>article</td>\n",
              "      <td>8</td>\n",
              "      <td>2014</td>\n",
              "    </tr>\n",
              "    <tr>\n",
              "      <th>9</th>\n",
              "      <td>[[{'first_name': 'Martin A.', 'last_name': 'Gr...</td>\n",
              "      <td>pub.1045181228</td>\n",
              "      <td>7</td>\n",
              "      <td>{'id': 'jour.1037430', 'title': 'Nature Photon...</td>\n",
              "      <td>506-514</td>\n",
              "      <td>The emergence of perovskite solar cells</td>\n",
              "      <td>article</td>\n",
              "      <td>8</td>\n",
              "      <td>2014</td>\n",
              "    </tr>\n",
              "  </tbody>\n",
              "</table>\n",
              "</div>"
            ],
            "text/plain": [
              "                                 author_affiliations              id issue  \\\n",
              "0  [[{'first_name': 'Manish', 'last_name': 'Chhow...  pub.1050119463     4   \n",
              "1  [[{'first_name': 'A. K.', 'last_name': 'Geim',...  pub.1024857999  7459   \n",
              "2  [[{'first_name': 'Huanping', 'last_name': 'Zho...  pub.1004394295  6196   \n",
              "3  [[{'first_name': 'Likai', 'last_name': 'Li', '...  pub.1032956475     5   \n",
              "4  [[{'first_name': 'C.', 'last_name': 'Patrignan...  pub.1059158429    10   \n",
              "5  [[{'first_name': 'John B.', 'last_name': 'Good...  pub.1019126274     4   \n",
              "6  [[{'first_name': 'Michael F. L.', 'last_name':...  pub.1007405937  6119   \n",
              "7  [[{'first_name': 'Andrea C.', 'last_name': 'Fe...  pub.1015305822     4   \n",
              "8  [[{'first_name': 'Han', 'last_name': 'Liu', 'o...  pub.1009826879     4   \n",
              "9  [[{'first_name': 'Martin A.', 'last_name': 'Gr...  pub.1045181228     7   \n",
              "\n",
              "                                             journal    pages  \\\n",
              "0  {'id': 'jour.1041224', 'title': 'Nature Chemis...      263   \n",
              "1          {'id': 'jour.1018957', 'title': 'Nature'}      419   \n",
              "2         {'id': 'jour.1346339', 'title': 'Science'}  542-546   \n",
              "3  {'id': 'jour.1037429', 'title': 'Nature Nanote...  372-377   \n",
              "4  {'id': 'jour.1327822', 'title': 'Chinese Physi...   100001   \n",
              "5  {'id': 'jour.1081898', 'title': 'Journal of th...  1167-76   \n",
              "6         {'id': 'jour.1346339', 'title': 'Science'}  535-539   \n",
              "7  {'id': 'jour.1037429', 'title': 'Nature Nanote...      235   \n",
              "8        {'id': 'jour.1038917', 'title': 'ACS Nano'}  4033-41   \n",
              "9  {'id': 'jour.1037430', 'title': 'Nature Photon...  506-514   \n",
              "\n",
              "                                               title     type volume  year  \n",
              "0  The chemistry of two-dimensional layered trans...  article      5  2013  \n",
              "1                     Van der Waals heterostructures  article    499  2013  \n",
              "2  Interface engineering of highly efficient pero...  article    345  2014  \n",
              "3          Black phosphorus field-effect transistors  article      9  2014  \n",
              "4                         Review of Particle Physics  article     40  2016  \n",
              "5    The Li-ion rechargeable battery: a perspective.  article    135  2013  \n",
              "6  Carbon Nanotubes: Present and Future Commercia...  article    339  2013  \n",
              "7  Raman spectroscopy as a versatile tool for stu...  article      8  2013  \n",
              "8  Phosphorene: an unexplored 2D semiconductor wi...  article      8  2014  \n",
              "9            The emergence of perovskite solar cells  article      8  2014  "
            ]
          },
          "metadata": {}
        }
      ],
      "execution_count": 14,
      "metadata": {}
    },
    {
      "cell_type": "markdown",
      "source": [
        "Pandas dataframes offer a myriad of utilities for inspecting data. Check out the [official docs](https://pandas.pydata.org/pandas-docs/stable/getting_started/10min.html) or google a [pandas tutorial](https://www.google.com/search?q=pandas+tutorial) to lean more about it. "
      ],
      "metadata": {}
    },
    {
      "cell_type": "code",
      "source": [
        "# eg distribution of publication years\n",
        "df['year'].value_counts()"
      ],
      "outputs": [
        {
          "output_type": "execute_result",
          "execution_count": 19,
          "data": {
            "text/plain": [
              "2013    45\n",
              "2014    29\n",
              "2015    18\n",
              "2016     4\n",
              "2017     3\n",
              "2018     1\n",
              "Name: year, dtype: int64"
            ]
          },
          "metadata": {}
        }
      ],
      "execution_count": 19,
      "metadata": {}
    },
    {
      "cell_type": "code",
      "source": [
        "# eg distribution of publication type\n",
        "df['type'].value_counts()"
      ],
      "outputs": [
        {
          "output_type": "execute_result",
          "execution_count": 20,
          "data": {
            "text/plain": [
              "article    99\n",
              "book        1\n",
              "Name: type, dtype: int64"
            ]
          },
          "metadata": {}
        }
      ],
      "execution_count": 20,
      "metadata": {}
    },
    {
      "cell_type": "code",
      "source": [],
      "outputs": [],
      "execution_count": null,
      "metadata": {}
    },
    {
      "cell_type": "markdown",
      "source": [
        "## 2. Extracting authors: `as_dataframe_authors`\n",
        "\n",
        "Publications authors are usually returned by the Dimensions API inside a nested JSON object in the `authors_affiliations` sub-key. \n",
        "\n",
        "This methods allows to quickly extract that data and return a dataframe with **one row per author**."
      ],
      "metadata": {}
    },
    {
      "cell_type": "code",
      "source": [
        "authors = res.as_dataframe_authors()\n",
        "authors.head()"
      ],
      "outputs": [
        {
          "output_type": "execute_result",
          "execution_count": 22,
          "data": {
            "text/html": [
              "<div>\n",
              "<style scoped>\n",
              "    .dataframe tbody tr th:only-of-type {\n",
              "        vertical-align: middle;\n",
              "    }\n",
              "\n",
              "    .dataframe tbody tr th {\n",
              "        vertical-align: top;\n",
              "    }\n",
              "\n",
              "    .dataframe thead th {\n",
              "        text-align: right;\n",
              "    }\n",
              "</style>\n",
              "<table border=\"1\" class=\"dataframe\">\n",
              "  <thead>\n",
              "    <tr style=\"text-align: right;\">\n",
              "      <th></th>\n",
              "      <th>affiliations</th>\n",
              "      <th>current_organization_id</th>\n",
              "      <th>first_name</th>\n",
              "      <th>last_name</th>\n",
              "      <th>orcid</th>\n",
              "      <th>researcher_id</th>\n",
              "      <th>pub_id</th>\n",
              "    </tr>\n",
              "  </thead>\n",
              "  <tbody>\n",
              "    <tr>\n",
              "      <th>0</th>\n",
              "      <td>[{'id': 'grid.430387.b', 'name': 'Rutgers, The...</td>\n",
              "      <td>grid.430387.b</td>\n",
              "      <td>Manish</td>\n",
              "      <td>Chhowalla</td>\n",
              "      <td></td>\n",
              "      <td>ur.0633062306.03</td>\n",
              "      <td>pub.1050119463</td>\n",
              "    </tr>\n",
              "    <tr>\n",
              "      <th>1</th>\n",
              "      <td>[{'id': 'grid.42687.3f', 'name': 'Ulsan Nation...</td>\n",
              "      <td>grid.42687.3f</td>\n",
              "      <td>Hyeon Suk</td>\n",
              "      <td>Shin</td>\n",
              "      <td></td>\n",
              "      <td>ur.07617630407.83</td>\n",
              "      <td>pub.1050119463</td>\n",
              "    </tr>\n",
              "    <tr>\n",
              "      <th>2</th>\n",
              "      <td>[{'id': 'grid.4280.e', 'name': 'National Unive...</td>\n",
              "      <td>grid.4280.e</td>\n",
              "      <td>Goki</td>\n",
              "      <td>Eda</td>\n",
              "      <td></td>\n",
              "      <td>ur.01150450507.27</td>\n",
              "      <td>pub.1050119463</td>\n",
              "    </tr>\n",
              "    <tr>\n",
              "      <th>3</th>\n",
              "      <td>[{'id': 'grid.482254.d', 'name': 'Institute of...</td>\n",
              "      <td>grid.45672.32</td>\n",
              "      <td>Lain-Jong</td>\n",
              "      <td>Li</td>\n",
              "      <td>['0000-0002-4059-7783']</td>\n",
              "      <td>ur.01313340113.13</td>\n",
              "      <td>pub.1050119463</td>\n",
              "    </tr>\n",
              "    <tr>\n",
              "      <th>4</th>\n",
              "      <td>[{'id': 'grid.4280.e', 'name': 'National Unive...</td>\n",
              "      <td>grid.4280.e</td>\n",
              "      <td>Kian Ping</td>\n",
              "      <td>Loh</td>\n",
              "      <td>['0000-0002-1491-743X']</td>\n",
              "      <td>ur.0752174033.73</td>\n",
              "      <td>pub.1050119463</td>\n",
              "    </tr>\n",
              "  </tbody>\n",
              "</table>\n",
              "</div>"
            ],
            "text/plain": [
              "                                        affiliations current_organization_id  \\\n",
              "0  [{'id': 'grid.430387.b', 'name': 'Rutgers, The...           grid.430387.b   \n",
              "1  [{'id': 'grid.42687.3f', 'name': 'Ulsan Nation...           grid.42687.3f   \n",
              "2  [{'id': 'grid.4280.e', 'name': 'National Unive...             grid.4280.e   \n",
              "3  [{'id': 'grid.482254.d', 'name': 'Institute of...           grid.45672.32   \n",
              "4  [{'id': 'grid.4280.e', 'name': 'National Unive...             grid.4280.e   \n",
              "\n",
              "  first_name  last_name                    orcid      researcher_id  \\\n",
              "0     Manish  Chhowalla                            ur.0633062306.03   \n",
              "1  Hyeon Suk       Shin                           ur.07617630407.83   \n",
              "2       Goki        Eda                           ur.01150450507.27   \n",
              "3  Lain-Jong         Li  ['0000-0002-4059-7783']  ur.01313340113.13   \n",
              "4  Kian Ping        Loh  ['0000-0002-1491-743X']   ur.0752174033.73   \n",
              "\n",
              "           pub_id  \n",
              "0  pub.1050119463  \n",
              "1  pub.1050119463  \n",
              "2  pub.1050119463  \n",
              "3  pub.1050119463  \n",
              "4  pub.1050119463  "
            ]
          },
          "metadata": {}
        }
      ],
      "execution_count": 22,
      "metadata": {}
    },
    {
      "cell_type": "markdown",
      "source": [
        "Using the authors dataframe, we can easily get the top ten values for `current_organization_id`. "
      ],
      "metadata": {}
    },
    {
      "cell_type": "code",
      "source": [
        "authors['current_organization_id'].value_counts()[:10]"
      ],
      "outputs": [
        {
          "output_type": "execute_result",
          "execution_count": 25,
          "data": {
            "text/plain": [
              "grid.5379.8      34\n",
              "                 29\n",
              "grid.8217.c      25\n",
              "grid.5333.6      21\n",
              "grid.59025.3b    19\n",
              "grid.168010.e    14\n",
              "grid.4280.e      13\n",
              "grid.21729.3f    13\n",
              "grid.263761.7    12\n",
              "grid.430387.b    11\n",
              "Name: current_organization_id, dtype: int64"
            ]
          },
          "metadata": {}
        }
      ],
      "execution_count": 25,
      "metadata": {}
    },
    {
      "cell_type": "markdown",
      "source": [
        "> Explanation: the most frequent value turns to be grid.5379.8 ie [university of Manchester](https://grid.ac/institutes/grid.5379.8). The second result is empty, meaning that for those authors Dimensions has no info about `current_organization_id`. "
      ],
      "metadata": {}
    },
    {
      "cell_type": "markdown",
      "source": [
        "## 3. Extracting affiliations: `as_dataframe_authors_affiliations`\n",
        "\n",
        "As you can see from the results of the previous section, the `affiliations` of each author is yet another nested JSON object. \n",
        "\n",
        "The `as_dataframe_authors_affiliations` method allows to quickly extract that affiliations data and return a dataframe with **one row per affiliation**.\n",
        "\n",
        "This can be useful e.g. if one wants to count research organizations at *the time of writing* (as opposed to `current_organization_id`, which is the *most recent organization* of a researcher). "
      ],
      "metadata": {}
    },
    {
      "cell_type": "code",
      "source": [
        "affiliations = res.as_dataframe_authors_affiliations()\n",
        "affiliations.head()"
      ],
      "outputs": [
        {
          "output_type": "execute_result",
          "execution_count": 26,
          "data": {
            "text/html": [
              "<div>\n",
              "<style scoped>\n",
              "    .dataframe tbody tr th:only-of-type {\n",
              "        vertical-align: middle;\n",
              "    }\n",
              "\n",
              "    .dataframe tbody tr th {\n",
              "        vertical-align: top;\n",
              "    }\n",
              "\n",
              "    .dataframe thead th {\n",
              "        text-align: right;\n",
              "    }\n",
              "</style>\n",
              "<table border=\"1\" class=\"dataframe\">\n",
              "  <thead>\n",
              "    <tr style=\"text-align: right;\">\n",
              "      <th></th>\n",
              "      <th>aff_city</th>\n",
              "      <th>aff_city_id</th>\n",
              "      <th>aff_country</th>\n",
              "      <th>aff_country_code</th>\n",
              "      <th>aff_id</th>\n",
              "      <th>aff_name</th>\n",
              "      <th>aff_state</th>\n",
              "      <th>aff_state_code</th>\n",
              "      <th>pub_id</th>\n",
              "      <th>researcher_id</th>\n",
              "      <th>first_name</th>\n",
              "      <th>last_name</th>\n",
              "    </tr>\n",
              "  </thead>\n",
              "  <tbody>\n",
              "    <tr>\n",
              "      <th>0</th>\n",
              "      <td>New Brunswick</td>\n",
              "      <td>5101717.0</td>\n",
              "      <td>United States</td>\n",
              "      <td>US</td>\n",
              "      <td>grid.430387.b</td>\n",
              "      <td>Rutgers, The State University of New Jersey</td>\n",
              "      <td>New Jersey</td>\n",
              "      <td>US-NJ</td>\n",
              "      <td>pub.1050119463</td>\n",
              "      <td>ur.0633062306.03</td>\n",
              "      <td>Manish</td>\n",
              "      <td>Chhowalla</td>\n",
              "    </tr>\n",
              "    <tr>\n",
              "      <th>1</th>\n",
              "      <td>Ulsan</td>\n",
              "      <td>1833747.0</td>\n",
              "      <td>South Korea</td>\n",
              "      <td>KR</td>\n",
              "      <td>grid.42687.3f</td>\n",
              "      <td>Ulsan National Institute of Science and Techno...</td>\n",
              "      <td>None</td>\n",
              "      <td>None</td>\n",
              "      <td>pub.1050119463</td>\n",
              "      <td>ur.07617630407.83</td>\n",
              "      <td>Hyeon Suk</td>\n",
              "      <td>Shin</td>\n",
              "    </tr>\n",
              "    <tr>\n",
              "      <th>2</th>\n",
              "      <td>Singapore</td>\n",
              "      <td>1880252.0</td>\n",
              "      <td>Singapore</td>\n",
              "      <td>SG</td>\n",
              "      <td>grid.4280.e</td>\n",
              "      <td>National University of Singapore</td>\n",
              "      <td>None</td>\n",
              "      <td>None</td>\n",
              "      <td>pub.1050119463</td>\n",
              "      <td>ur.01150450507.27</td>\n",
              "      <td>Goki</td>\n",
              "      <td>Eda</td>\n",
              "    </tr>\n",
              "    <tr>\n",
              "      <th>3</th>\n",
              "      <td>Taipei</td>\n",
              "      <td>1668341.0</td>\n",
              "      <td>Taiwan</td>\n",
              "      <td>TW</td>\n",
              "      <td>grid.482254.d</td>\n",
              "      <td>Institute of Atomic and Molecular Sciences, Ac...</td>\n",
              "      <td>None</td>\n",
              "      <td>None</td>\n",
              "      <td>pub.1050119463</td>\n",
              "      <td>ur.01313340113.13</td>\n",
              "      <td>Lain-Jong</td>\n",
              "      <td>Li</td>\n",
              "    </tr>\n",
              "    <tr>\n",
              "      <th>4</th>\n",
              "      <td>Singapore</td>\n",
              "      <td>1880252.0</td>\n",
              "      <td>Singapore</td>\n",
              "      <td>SG</td>\n",
              "      <td>grid.4280.e</td>\n",
              "      <td>National University of Singapore</td>\n",
              "      <td>None</td>\n",
              "      <td>None</td>\n",
              "      <td>pub.1050119463</td>\n",
              "      <td>ur.0752174033.73</td>\n",
              "      <td>Kian Ping</td>\n",
              "      <td>Loh</td>\n",
              "    </tr>\n",
              "  </tbody>\n",
              "</table>\n",
              "</div>"
            ],
            "text/plain": [
              "        aff_city  aff_city_id    aff_country aff_country_code         aff_id  \\\n",
              "0  New Brunswick    5101717.0  United States               US  grid.430387.b   \n",
              "1          Ulsan    1833747.0    South Korea               KR  grid.42687.3f   \n",
              "2      Singapore    1880252.0      Singapore               SG    grid.4280.e   \n",
              "3         Taipei    1668341.0         Taiwan               TW  grid.482254.d   \n",
              "4      Singapore    1880252.0      Singapore               SG    grid.4280.e   \n",
              "\n",
              "                                            aff_name   aff_state  \\\n",
              "0        Rutgers, The State University of New Jersey  New Jersey   \n",
              "1  Ulsan National Institute of Science and Techno...        None   \n",
              "2                   National University of Singapore        None   \n",
              "3  Institute of Atomic and Molecular Sciences, Ac...        None   \n",
              "4                   National University of Singapore        None   \n",
              "\n",
              "  aff_state_code          pub_id      researcher_id first_name  last_name  \n",
              "0          US-NJ  pub.1050119463   ur.0633062306.03     Manish  Chhowalla  \n",
              "1           None  pub.1050119463  ur.07617630407.83  Hyeon Suk       Shin  \n",
              "2           None  pub.1050119463  ur.01150450507.27       Goki        Eda  \n",
              "3           None  pub.1050119463  ur.01313340113.13  Lain-Jong         Li  \n",
              "4           None  pub.1050119463   ur.0752174033.73  Kian Ping        Loh  "
            ]
          },
          "metadata": {}
        }
      ],
      "execution_count": 26,
      "metadata": {}
    },
    {
      "cell_type": "markdown",
      "source": [
        "Let's get the top ten values for `aff_id`. "
      ],
      "metadata": {}
    },
    {
      "cell_type": "code",
      "source": [
        "affiliations['aff_id'].value_counts()[:10]"
      ],
      "outputs": [
        {
          "output_type": "execute_result",
          "execution_count": 28,
          "data": {
            "text/plain": [
              "grid.5335.0      43\n",
              "grid.5379.8      41\n",
              "grid.8217.c      35\n",
              "grid.59025.3b    26\n",
              "grid.21729.3f    24\n",
              "grid.168010.e    23\n",
              "grid.5333.6      22\n",
              "grid.9227.e      18\n",
              "grid.21940.3e    17\n",
              "grid.4280.e      15\n",
              "Name: aff_id, dtype: int64"
            ]
          },
          "metadata": {}
        }
      ],
      "execution_count": 28,
      "metadata": {}
    },
    {
      "cell_type": "markdown",
      "source": [
        "> Explanation: the most frequent value this time turns to be grid.5335.0 ie [University of Cambridge](https://grid.ac/institutes/grid.5335.0). This means that several authors **have moved** university since they published these articles. "
      ],
      "metadata": {}
    },
    {
      "cell_type": "markdown",
      "source": [
        "Another example: we can now easily analyze the data by country too. "
      ],
      "metadata": {}
    },
    {
      "cell_type": "code",
      "source": [
        "affiliations['aff_country'].value_counts()[:10]"
      ],
      "outputs": [
        {
          "output_type": "execute_result",
          "execution_count": 29,
          "data": {
            "text/plain": [
              "United States     235\n",
              "China             129\n",
              "United Kingdom    106\n",
              "Singapore          42\n",
              "Italy              38\n",
              "Ireland            35\n",
              "Switzerland        31\n",
              "Germany            30\n",
              "Japan              20\n",
              "Australia          15\n",
              "Name: aff_country, dtype: int64"
            ]
          },
          "metadata": {}
        }
      ],
      "execution_count": 29,
      "metadata": {}
    },
    {
      "cell_type": "markdown",
      "source": [
        "> Explanation: the vast majority of authors in this dataset are from the United States, followed by China. "
      ],
      "metadata": {}
    },
    {
      "cell_type": "markdown",
      "source": [
        "## Conclusions \n",
        "\n",
        "Moving Dimensions API results to pandas dataframes **makes it easier** to **analyze the data** and **answer research questions**. \n",
        "\n",
        "Note: the examples above only scratch the surface of what can be done with pandas! "
      ],
      "metadata": {}
    },
    {
      "cell_type": "markdown",
      "source": [
        "---\n",
        "# Want to learn more?\n",
        "\n",
        "Check out the [Dimensions API Lab](https://digital-science.github.io/dimensions-api-lab/) website, which contains many tutorials and reusable Jupyter notebooks for scholarly data analytics. "
      ],
      "metadata": {}
    }
  ],
  "metadata": {
    "kernelspec": {
      "name": "python3",
      "language": "python",
      "display_name": "Python 3"
    },
    "language_info": {
      "name": "python",
      "version": "3.7.4",
      "mimetype": "text/x-python",
      "codemirror_mode": {
        "name": "ipython",
        "version": 3
      },
      "pygments_lexer": "ipython3",
      "nbconvert_exporter": "python",
      "file_extension": ".py"
    },
    "kernel_info": {
      "name": "python3"
    },
    "nteract": {
      "version": "0.14.5"
    }
  },
  "nbformat": 4,
  "nbformat_minor": 4
}