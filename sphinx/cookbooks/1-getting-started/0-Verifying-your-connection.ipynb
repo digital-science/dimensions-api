{
 "cells": [
  {
   "cell_type": "markdown",
   "metadata": {
    "Collapsed": "false",
    "colab_type": "text",
    "id": "aPDbtInb9UBa"
   },
   "source": [
    "# Verifying Your API Connection\n",
    "The purpose of this notebook is to verify that you can access the [Dimensions Analytics API](https://www.dimensions.ai/dimensions-apis/) using Python. \n",
    "\n",
    "> **Please note** only Dimensions users with an Analytics API subscription can access this service. \n",
    "\n",
    "### Technical prerequisites\n",
    "This guide assumes that you already have a Python 3 working environment and [pip](https://pypi.org/project/pip/) (the python package manager) installed. For more background, see this [link](https://realpython.com/installing-python/).\n",
    "\n",
    "The only library needed for this exercise is `requests`, which can be installed as follows\n"
   ]
  },
  {
   "cell_type": "code",
   "execution_count": null,
   "metadata": {
    "Collapsed": "false",
    "colab": {},
    "colab_type": "code",
    "id": "cZj9Mnf39UBa"
   },
   "outputs": [],
   "source": [
    "!pip install requests "
   ]
  },
  {
   "cell_type": "code",
   "execution_count": null,
   "metadata": {
    "Collapsed": "false",
    "colab": {},
    "colab_type": "code",
    "id": "Vp2Mf-cT9UBe"
   },
   "outputs": [],
   "source": [
    "import requests"
   ]
  },
  {
   "cell_type": "code",
   "execution_count": 1,
   "metadata": {},
   "outputs": [
    {
     "name": "stdout",
     "output_type": "stream",
     "text": [
      "==\n",
      "CHANGELOG\n",
      "This notebook was last run on Jan 24, 2022\n",
      "==\n"
     ]
    }
   ],
   "source": [
    "import datetime\n",
    "print(\"==\\nCHANGELOG\\nThis notebook was last run on %s\\n==\" % datetime.date.today().strftime('%b %d, %Y'))"
   ]
  },
  {
   "cell_type": "markdown",
   "metadata": {
    "Collapsed": "false",
    "colab_type": "text",
    "id": "04jlpszd9UBf"
   },
   "source": [
    "### Connecting to the API using a `key`"
   ]
  },
  {
   "cell_type": "markdown",
   "metadata": {
    "Collapsed": "false",
    "colab_type": "text",
    "id": "mnbDqQPa9UBg"
   },
   "source": [
    "If you have access to the Analytics API, simply get an API key from the Dimensions webapp (My Account > General Settings > API key and click \"Create API key\") and fill in the parameters below with your details (see also [this page](https://dimensions.freshdesk.com/support/solutions/articles/23000018791)). \n",
    "\n"
   ]
  },
  {
   "cell_type": "code",
   "execution_count": null,
   "metadata": {
    "Collapsed": "false",
    "colab": {},
    "colab_type": "code",
    "id": "IpqK5EYd9UBh"
   },
   "outputs": [],
   "source": [
    "KEY = 'your API key'            # your private API key\n",
    "ENDPOINT = 'app.dimensions.ai'  # the Dimensions server you are using"
   ]
  },
  {
   "cell_type": "markdown",
   "metadata": {
    "Collapsed": "false",
    "colab_type": "text",
    "id": "dlYYoXIk9UBi"
   },
   "source": [
    "Now try running the script below to verify your connection.\n"
   ]
  },
  {
   "cell_type": "code",
   "execution_count": null,
   "metadata": {
    "Collapsed": "false",
    "colab": {},
    "colab_type": "code",
    "id": "XhfkBBcV9UBj",
    "outputId": "bce6a67d-cd50-4fbe-be2a-32eab7e48c63"
   },
   "outputs": [
    {
     "name": "stdout",
     "output_type": "stream",
     "text": [
      "{'_stats': {'total_count': 103121703}, 'publications': [{'title': 'Sure 16,1 - 23,118', 'type': 'book', 'id': 'pub.1113244530', 'year': 2019}, {'title': 'Deutungsmacht von Zeitdiagnosen', 'type': 'book', 'id': 'pub.1113146259', 'year': 2019}, {'title': '“So You Want to Write about American Indians?” Ethical Reflections on Euro-Academia’s Research on Indigenous Cultural Narratives', 'author_affiliations': [[{'first_name': 'Amina', 'last_name': 'Grunewald', 'orcid': '', 'current_organization_id': '', 'researcher_id': '', 'affiliations': []}]], 'type': 'chapter', 'id': 'pub.1113271690', 'pages': '239-260', 'year': 2019}, {'title': 'The Moral Nexus', 'author_affiliations': [[{'first_name': 'R. Jay', 'last_name': 'Wallace', 'orcid': '', 'current_organization_id': '', 'researcher_id': '', 'affiliations': []}]], 'type': 'monograph', 'id': 'pub.1117142285', 'year': 2019}, {'title': 'VC', 'author_affiliations': [[{'first_name': 'Tom', 'last_name': 'Nicholas', 'orcid': '', 'current_organization_id': '', 'researcher_id': '', 'affiliations': []}]], 'type': 'monograph', 'id': 'pub.1117152054', 'year': 2019}, {'title': 'Altenheim Thema Hauswirtschaft', 'type': 'monograph', 'id': 'pub.1117170089', 'year': 2019}, {'title': 'Expression of a novel gene encoding protease inhibitor from metagenome of sponge in Vietnam', 'author_affiliations': [[{'first_name': 'Tran Thi', 'last_name': 'Hong', 'orcid': '', 'current_organization_id': '', 'researcher_id': '', 'affiliations': []}, {'first_name': 'Ton That Huu', 'last_name': 'Dat', 'orcid': '', 'current_organization_id': 'grid.4818.5', 'researcher_id': 'ur.011501570541.62', 'affiliations': []}, {'first_name': 'Nguyen Phuong', 'last_name': 'Hoa', 'orcid': '', 'current_organization_id': '', 'researcher_id': '', 'affiliations': []}, {'first_name': 'Pham Viet', 'last_name': 'Cuong', 'orcid': '', 'current_organization_id': '', 'researcher_id': '', 'affiliations': []}, {'first_name': 'Nguyen Thi Kim', 'last_name': 'Cuc', 'orcid': '', 'current_organization_id': '', 'researcher_id': '', 'affiliations': []}]], 'type': 'article', 'volume': '40', 'issue': '4', 'id': 'pub.1112252248', 'year': 2019, 'journal': {'id': 'jour.1355760', 'title': 'ACADEMIA JOURNAL OF BIOLOGY'}}, {'title': \"Macrophage's Arsenal in the Battle against Zaire EBOLA Virus\", 'author_affiliations': [[{'first_name': 'Rosa', 'last_name': 'Michelino Di', 'orcid': '', 'current_organization_id': '', 'researcher_id': '', 'affiliations': []}, {'first_name': 'Malaguarnera', 'last_name': 'Lucia', 'orcid': '', 'current_organization_id': '', 'researcher_id': '', 'affiliations': []}]], 'type': 'article', 'volume': '2', 'issue': '1', 'id': 'pub.1112223838', 'year': 2019, 'journal': {'id': 'jour.1336528', 'title': 'International Journal of Tropical Diseases'}}, {'title': '»Dieses verfluchte Land«', 'author_affiliations': [[{'first_name': 'Annika', 'last_name': 'Raapke', 'orcid': '', 'current_organization_id': '', 'researcher_id': '', 'affiliations': []}]], 'type': 'monograph', 'id': 'pub.1112049851', 'year': 2019}, {'title': 'Medizinische Fachlichkeit und Emotionen', 'author_affiliations': [[{'first_name': 'Kerstin', 'last_name': 'Rego', 'orcid': '', 'current_organization_id': '', 'researcher_id': '', 'affiliations': []}]], 'type': 'monograph', 'id': 'pub.1112050121', 'year': 2019}, {'title': 'Zusammenarbeit', 'type': 'chapter', 'id': 'pub.1112050109', 'pages': '127-154', 'year': 2019}, {'title': 'Einleitung', 'author_affiliations': [[{'first_name': 'Albert', 'last_name': 'Gouaffo', 'orcid': '', 'current_organization_id': '', 'researcher_id': 'ur.016407172041.61', 'affiliations': []}, {'first_name': 'Stefanie', 'last_name': 'Michels', 'orcid': '', 'current_organization_id': '', 'researcher_id': '', 'affiliations': []}]], 'type': 'chapter', 'id': 'pub.1112049938', 'pages': '9-28', 'year': 2019}, {'title': 'Kapitel 18. Besonderheiten beim grenzüberschreitenden Unternehmenskauf', 'author_affiliations': [[{'first_name': 'Christoph F.', 'last_name': 'Wetzler', 'orcid': '', 'current_organization_id': '', 'researcher_id': '', 'affiliations': []}]], 'type': 'chapter', 'id': 'pub.1111892594', 'pages': '1401-1466', 'year': 2019}, {'title': 'Kapitel 71. Wiedereinsetzung in den vorigen Stand', 'type': 'chapter', 'id': 'pub.1111892348', 'pages': '1159-1185', 'year': 2019}, {'title': 'Sachregister', 'type': 'chapter', 'id': 'pub.1111901333', 'pages': '2645-2662', 'year': 2019}, {'title': '6. Teil: Vertrags- und Rechtsverhältnisse', 'type': 'chapter', 'id': 'pub.1111892463', 'pages': '967-1150', 'year': 2019}, {'title': 'Deutsch aus finnischer Sicht - Überblick über die sprachliche Situation in Finnland mit einer kontrastiven Betrachtung von Wort- und Wortformenstrukturen', 'author_affiliations': [[{'first_name': 'Irma', 'last_name': 'Hyvärinen', 'orcid': '', 'current_organization_id': '', 'researcher_id': '', 'affiliations': []}]], 'type': 'chapter', 'id': 'pub.1111879211', 'pages': '203-238', 'year': 2019}, {'title': 'Kapitel 137. Grundzüge des Arbeitsgerichtsverfahrens', 'type': 'chapter', 'id': 'pub.1111892415', 'pages': '3100-3104', 'year': 2019}, {'title': 'Kapitel 10. Prozesskostenhilfe', 'type': 'chapter', 'id': 'pub.1111892288', 'pages': '123-169', 'year': 2019}, {'title': 'Kapitel 107. Einstweilige Anordnungen', 'type': 'chapter', 'id': 'pub.1111892385', 'pages': '2442-2452', 'year': 2019}]}\n"
     ]
    }
   ],
   "source": [
    "#   The credentials to be used\n",
    "login = {\n",
    "    'key': KEY\n",
    "}\n",
    "\n",
    "#   Send credentials to login url to retrieve token. Raise\n",
    "#   an error, if the return code indicates a problem.\n",
    "#   Please use the URL of the system you'd like to access the API\n",
    "#   in the example below.\n",
    "resp = requests.post(f'https://{ENDPOINT}/api/auth.json', json=login)\n",
    "resp.raise_for_status()\n",
    "\n",
    "#   Create http header using the generated token.\n",
    "headers = {\n",
    "    'Authorization': \"JWT \" + resp.json()['token']\n",
    "}\n",
    "\n",
    "#   Execute DSL query.\n",
    "resp = requests.post(\n",
    "    f'https://{ENDPOINT}/api/dsl.json',\n",
    "    data='search publications for \"乳がん\" return publications'.encode(),\n",
    "    headers=headers)\n",
    "\n",
    "#   Display raw result\n",
    "print(resp.json())"
   ]
  },
  {
   "cell_type": "markdown",
   "metadata": {
    "Collapsed": "false"
   },
   "source": [
    "If the details are correct, you should see some JSON results being returned, which looks like this \n",
    "\n",
    "```\n",
    "{'_stats': {'total_count': 103121703}, 'publications': [{'title': 'Sure 16,1 - 23,118', 'type': 'book', 'id': 'pub.1113244530', 'year': 2019}, {'title': 'Deutungsmacht von Zeitdiagnosen', 'type': 'book', 'id': 'pub.1113146259', 'year': 2019}, {'title': '“So You Want to Write about American Indians?” Ethical Reflections on Euro-Academia’s Research on Indigenous Cultural Narratives', 'author_affiliations': ....\n",
    "```"
   ]
  },
  {
   "cell_type": "markdown",
   "metadata": {
    "Collapsed": "false"
   },
   "source": [
    "### Legacy authentication method: username & password\n",
    "\n",
    "Some legacy users may still have to authenticate using their Dimensions **username** and **password**. \n",
    "\n",
    "If that’s the case, simply replace the beginning of the snippet above as follows:"
   ]
  },
  {
   "cell_type": "code",
   "execution_count": 1,
   "metadata": {
    "Collapsed": "false"
   },
   "outputs": [],
   "source": [
    "#   Deprecated method if you don't have a key \n",
    "\n",
    "login = {\n",
    "    'username': 'ENTER YOUR USERNAME HERE',\n",
    "    'password': 'ENTER YOUR PASSWORD HERE'\n",
    "}\n",
    "\n",
    "#   Send credentials to login url to retrieve token. Raise\n",
    "#   an error, if the return code indicates a problem.\n",
    "#   Please use the URL of the system you'd like to access the API\n",
    "#   in the example below.\n",
    "resp = requests.post(f'https://{ENDPOINT}/api/auth.json', json=login)\n",
    "resp.raise_for_status()\n",
    "\n",
    "#   Create http header using the generated token.\n",
    "headers = {\n",
    "    'Authorization': \"JWT \" + resp.json()['token']\n",
    "}\n",
    "\n",
    "#   Execute DSL query.\n",
    "resp = requests.post(\n",
    "    f'https://{ENDPOINT}/api/dsl.json',\n",
    "    data='search publications for \"乳がん\" return publications'.encode(),\n",
    "    headers=headers)\n",
    "\n",
    "#   Display raw result\n",
    "print(resp.json())"
   ]
  },
  {
   "cell_type": "markdown",
   "metadata": {
    "Collapsed": "false",
    "colab_type": "text",
    "id": "G0_gV-7b9UBk"
   },
   "source": [
    "### Troubleshooting \n",
    "\n",
    "If you get an error it may be for any of these reasons:\n",
    "\n",
    "* your Dimensions credentials do not support API access\n",
    "* you mispelled your key \n",
    "* you mispelled the endpoint URL (if unknown, you can try 'app.dimensions.ai')\n",
    "* you don't have a working internet connection \n",
    "\n",
    "It's also useful to take a look at the [API official documentation](https://docs.dimensions.ai/dsl/api.html) as there various other way to test your API connection. "
   ]
  }
 ],
 "metadata": {
  "colab": {
   "collapsed_sections": [],
   "name": "0-Verifying-your-connection.ipynb",
   "provenance": []
  },
  "kernelspec": {
   "display_name": "Python 3 (ipykernel)",
   "language": "python",
   "name": "python3"
  },
  "language_info": {
   "codemirror_mode": {
    "name": "ipython",
    "version": 3
   },
   "file_extension": ".py",
   "mimetype": "text/x-python",
   "name": "python",
   "nbconvert_exporter": "python",
   "pygments_lexer": "ipython3",
   "version": "3.9.9"
  }
 },
 "nbformat": 4,
 "nbformat_minor": 4
}
