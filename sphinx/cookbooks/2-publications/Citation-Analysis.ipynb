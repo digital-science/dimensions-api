{
 "cells": [
  {
   "cell_type": "markdown",
   "metadata": {
    "Collapsed": "false",
    "colab_type": "text",
    "id": "eV50UGicGoXz"
   },
   "source": [
    "# Citation Analysis: an Introduction\n",
    "\n",
    "This notebooks shows how to extract citations data using the Dimensions Analytics API. \n",
    "\n",
    "Two approaches are considered: one that is most suited for smaller analyses, and one which is more query-efficient and hence is more suited for analyses involving lots of publications."
   ]
  },
  {
   "cell_type": "code",
   "execution_count": 3,
   "metadata": {},
   "outputs": [
    {
     "name": "stdout",
     "output_type": "stream",
     "text": [
      "==\n",
      "CHANGELOG\n",
      "This notebook was last run on Aug 08, 2023\n",
      "==\n",
      "==\n",
      "CHANGELOG\n",
      "This notebook was last run on Aug 08, 2023\n",
      "==\n"
     ]
    }
   ],
   "source": [
    "import datetime\n",
    "print(\"==\\nCHANGELOG\\nThis notebook was last run on %s\\n==\" % datetime.date.today().strftime('%b %d, %Y'))"
   ]
  },
  {
   "cell_type": "markdown",
   "metadata": {
    "Collapsed": "false",
    "colab_type": "text",
    "id": "hMaQlB7DG8Vw"
   },
   "source": [
    "## 1. Prerequisites\n",
    "\n",
    "This notebook assumes you have installed the [Dimcli](https://pypi.org/project/dimcli/) library and are familiar with the ['Getting Started' tutorial](https://api-lab.dimensions.ai/cookbooks/1-getting-started/1-Using-the-Dimcli-library-to-query-the-API.html).\n"
   ]
  },
  {
   "cell_type": "code",
   "execution_count": 4,
   "metadata": {
    "Collapsed": "false"
   },
   "outputs": [
    {
     "name": "stdout",
     "output_type": "stream",
     "text": [
      "\r\n",
      "\u001b[1m[\u001b[0m\u001b[34;49mnotice\u001b[0m\u001b[1;39;49m]\u001b[0m\u001b[39;49m A new release of pip is available: \u001b[0m\u001b[31;49m23.1.2\u001b[0m\u001b[39;49m -> \u001b[0m\u001b[32;49m23.2.1\u001b[0m\r\n",
      "\u001b[1m[\u001b[0m\u001b[34;49mnotice\u001b[0m\u001b[1;39;49m]\u001b[0m\u001b[39;49m To update, run: \u001b[0m\u001b[32;49mpip install --upgrade pip\u001b[0m\r\n"
     ]
    },
    {
     "name": "stderr",
     "output_type": "stream",
     "text": [
      "\u001b[2mSearching config file credentials for 'https://app.dimensions.ai' endpoint..\u001b[0m\n"
     ]
    },
    {
     "name": "stdout",
     "output_type": "stream",
     "text": [
      "==\n",
      "Logging in..\n",
      "\u001b[2mDimcli - Dimensions API Client (v1.1)\u001b[0m\n",
      "\u001b[2mConnected to: <https://app.dimensions.ai/api/dsl> - DSL v2.7\u001b[0m\n",
      "\u001b[2mMethod: dsl.ini file\u001b[0m\n"
     ]
    }
   ],
   "source": [
    "!pip install dimcli pyvis -U --quiet \n",
    "\n",
    "import dimcli\n",
    "from dimcli.utils import *\n",
    "import os, sys, time, json\n",
    "\n",
    "print(\"==\\nLogging in..\")\n",
    "# https://digital-science.github.io/dimcli/getting-started.html#authentication\n",
    "ENDPOINT = \"https://app.dimensions.ai\"\n",
    "if 'google.colab' in sys.modules:\n",
    "  import getpass\n",
    "  KEY = getpass.getpass(prompt='API Key: ')  \n",
    "  dimcli.login(key=KEY, endpoint=ENDPOINT)\n",
    "else:\n",
    "  KEY = \"\"\n",
    "  dimcli.login(key=KEY, endpoint=ENDPOINT)\n",
    "dsl = dimcli.Dsl()"
   ]
  },
  {
   "cell_type": "markdown",
   "metadata": {
    "Collapsed": "false",
    "colab_type": "text",
    "id": "ykHU1pbE9uXt"
   },
   "source": [
    "## Method A: getting citations for one publication at a time\n",
    "\n",
    "By using the field `reference_ids` we can easily look up citations for individual publications (= incoming links). For example, here are the papers citing \"pub.1053279155\":"
   ]
  },
  {
   "cell_type": "code",
   "execution_count": 5,
   "metadata": {
    "Collapsed": "false",
    "colab": {
     "base_uri": "https://localhost:8080/",
     "height": 242
    },
    "colab_type": "code",
    "executionInfo": {
     "elapsed": 891,
     "status": "ok",
     "timestamp": 1571735489179,
     "user": {
      "displayName": "Michele Pasin",
      "photoUrl": "https://lh3.googleusercontent.com/a-/AAuE7mBu8LVjIGgontF2Wax51BoL5KFx8esezX3bUmaa0g=s64",
      "userId": "10309320684375994511"
     },
     "user_tz": -60
    },
    "id": "wU5PDBEw-MRN",
    "outputId": "53662bb2-2615-4a46-d4c0-712aa6421d55"
   },
   "outputs": [
    {
     "name": "stdout",
     "output_type": "stream",
     "text": [
      "Returned Publications: 7 (total = 7)\n",
      "\u001b[2mTime: 6.00s\u001b[0m\n"
     ]
    },
    {
     "data": {
      "text/html": [
       "<div>\n",
       "<style scoped>\n",
       "    .dataframe tbody tr th:only-of-type {\n",
       "        vertical-align: middle;\n",
       "    }\n",
       "\n",
       "    .dataframe tbody tr th {\n",
       "        vertical-align: top;\n",
       "    }\n",
       "\n",
       "    .dataframe thead th {\n",
       "        text-align: right;\n",
       "    }\n",
       "</style>\n",
       "<table border=\"1\" class=\"dataframe\">\n",
       "  <thead>\n",
       "    <tr style=\"text-align: right;\">\n",
       "      <th></th>\n",
       "      <th>id</th>\n",
       "      <th>title</th>\n",
       "      <th>doi</th>\n",
       "      <th>year</th>\n",
       "    </tr>\n",
       "  </thead>\n",
       "  <tbody>\n",
       "    <tr>\n",
       "      <th>0</th>\n",
       "      <td>pub.1148271626</td>\n",
       "      <td>Capturing the Semantics of Smell: The Odeuropa...</td>\n",
       "      <td>10.1007/978-3-031-06981-9_23</td>\n",
       "      <td>2022</td>\n",
       "    </tr>\n",
       "    <tr>\n",
       "      <th>1</th>\n",
       "      <td>pub.1103275659</td>\n",
       "      <td>Towards ontology-based multilingual URL filter...</td>\n",
       "      <td>10.1007/s11227-018-2338-1</td>\n",
       "      <td>2018</td>\n",
       "    </tr>\n",
       "    <tr>\n",
       "      <th>2</th>\n",
       "      <td>pub.1068603272</td>\n",
       "      <td>Metody sztucznej inteligencji w digitalizacji ...</td>\n",
       "      <td>10.18290/rkult.2016.7.1-3</td>\n",
       "      <td>2016</td>\n",
       "    </tr>\n",
       "    <tr>\n",
       "      <th>3</th>\n",
       "      <td>pub.1005502446</td>\n",
       "      <td>Challenges for Ontological Engineering in the ...</td>\n",
       "      <td>10.1007/978-3-319-24129-6_3</td>\n",
       "      <td>2015</td>\n",
       "    </tr>\n",
       "    <tr>\n",
       "      <th>4</th>\n",
       "      <td>pub.1012651711</td>\n",
       "      <td>Das Experteninterview als zentrale Methode der...</td>\n",
       "      <td>10.1515/iwp-2015-0057</td>\n",
       "      <td>2015</td>\n",
       "    </tr>\n",
       "    <tr>\n",
       "      <th>5</th>\n",
       "      <td>pub.1008922470</td>\n",
       "      <td>Transforming a Flat Metadata Schema to a Seman...</td>\n",
       "      <td>10.1007/978-3-642-24809-2_10</td>\n",
       "      <td>2012</td>\n",
       "    </tr>\n",
       "    <tr>\n",
       "      <th>6</th>\n",
       "      <td>pub.1053157726</td>\n",
       "      <td>Practice-Based Ontologies: A New Approach to A...</td>\n",
       "      <td>10.1007/978-3-642-24731-6_38</td>\n",
       "      <td>2011</td>\n",
       "    </tr>\n",
       "  </tbody>\n",
       "</table>\n",
       "</div>"
      ],
      "text/plain": [
       "               id                                              title  \\\n",
       "0  pub.1148271626  Capturing the Semantics of Smell: The Odeuropa...   \n",
       "1  pub.1103275659  Towards ontology-based multilingual URL filter...   \n",
       "2  pub.1068603272  Metody sztucznej inteligencji w digitalizacji ...   \n",
       "3  pub.1005502446  Challenges for Ontological Engineering in the ...   \n",
       "4  pub.1012651711  Das Experteninterview als zentrale Methode der...   \n",
       "5  pub.1008922470  Transforming a Flat Metadata Schema to a Seman...   \n",
       "6  pub.1053157726  Practice-Based Ontologies: A New Approach to A...   \n",
       "\n",
       "                            doi  year  \n",
       "0  10.1007/978-3-031-06981-9_23  2022  \n",
       "1     10.1007/s11227-018-2338-1  2018  \n",
       "2     10.18290/rkult.2016.7.1-3  2016  \n",
       "3   10.1007/978-3-319-24129-6_3  2015  \n",
       "4         10.1515/iwp-2015-0057  2015  \n",
       "5  10.1007/978-3-642-24809-2_10  2012  \n",
       "6  10.1007/978-3-642-24731-6_38  2011  "
      ]
     },
     "execution_count": 5,
     "metadata": {},
     "output_type": "execute_result"
    }
   ],
   "source": [
    "%dsldf search publications where reference_ids in [ \"pub.1053279155\" ] return publications[id+doi+title+year]"
   ]
  },
  {
   "cell_type": "markdown",
   "metadata": {
    "Collapsed": "false",
    "colab_type": "text",
    "id": "SXKXmGM9C0q5"
   },
   "source": [
    "Let's try another paper ie \"pub.1103275659\" - in this case there are 3 citations "
   ]
  },
  {
   "cell_type": "code",
   "execution_count": 6,
   "metadata": {
    "Collapsed": "false",
    "colab": {
     "base_uri": "https://localhost:8080/",
     "height": 168
    },
    "colab_type": "code",
    "executionInfo": {
     "elapsed": 1029,
     "status": "ok",
     "timestamp": 1571735496705,
     "user": {
      "displayName": "Michele Pasin",
      "photoUrl": "https://lh3.googleusercontent.com/a-/AAuE7mBu8LVjIGgontF2Wax51BoL5KFx8esezX3bUmaa0g=s64",
      "userId": "10309320684375994511"
     },
     "user_tz": -60
    },
    "id": "I7kDbaE9-n95",
    "outputId": "34a21100-ae2a-48b7-da0c-0d8a5a6b98f0"
   },
   "outputs": [
    {
     "name": "stdout",
     "output_type": "stream",
     "text": [
      "Returned Publications: 18 (total = 18)\n",
      "\u001b[2mTime: 0.97s\u001b[0m\n"
     ]
    },
    {
     "data": {
      "text/html": [
       "<div>\n",
       "<style scoped>\n",
       "    .dataframe tbody tr th:only-of-type {\n",
       "        vertical-align: middle;\n",
       "    }\n",
       "\n",
       "    .dataframe tbody tr th {\n",
       "        vertical-align: top;\n",
       "    }\n",
       "\n",
       "    .dataframe thead th {\n",
       "        text-align: right;\n",
       "    }\n",
       "</style>\n",
       "<table border=\"1\" class=\"dataframe\">\n",
       "  <thead>\n",
       "    <tr style=\"text-align: right;\">\n",
       "      <th></th>\n",
       "      <th>id</th>\n",
       "      <th>title</th>\n",
       "      <th>doi</th>\n",
       "      <th>year</th>\n",
       "    </tr>\n",
       "  </thead>\n",
       "  <tbody>\n",
       "    <tr>\n",
       "      <th>0</th>\n",
       "      <td>pub.1158592531</td>\n",
       "      <td>DSpamOnto: An Ontology Modelling for Domain-Sp...</td>\n",
       "      <td>10.3390/bdcc7020109</td>\n",
       "      <td>2023</td>\n",
       "    </tr>\n",
       "    <tr>\n",
       "      <th>1</th>\n",
       "      <td>pub.1157326322</td>\n",
       "      <td>Spam Detection and Fake User Identification in...</td>\n",
       "      <td>10.48175/ijarsct-9178</td>\n",
       "      <td>2023</td>\n",
       "    </tr>\n",
       "    <tr>\n",
       "      <th>2</th>\n",
       "      <td>pub.1156046866</td>\n",
       "      <td>Filtering objectionable information access bas...</td>\n",
       "      <td>10.1177/01655515231160041</td>\n",
       "      <td>2023</td>\n",
       "    </tr>\n",
       "    <tr>\n",
       "      <th>3</th>\n",
       "      <td>pub.1155856205</td>\n",
       "      <td>DeNet_SVM: Product Based Recommendation System...</td>\n",
       "      <td>10.1109/pdgc56933.2022.10053122</td>\n",
       "      <td>2022</td>\n",
       "    </tr>\n",
       "    <tr>\n",
       "      <th>4</th>\n",
       "      <td>pub.1152595729</td>\n",
       "      <td>Ground Truth Dataset: Objectionable Web Content</td>\n",
       "      <td>10.3390/data7110153</td>\n",
       "      <td>2022</td>\n",
       "    </tr>\n",
       "    <tr>\n",
       "      <th>5</th>\n",
       "      <td>pub.1140956277</td>\n",
       "      <td>Towards Aspect Based Components Integration Fr...</td>\n",
       "      <td>10.32604/cmc.2022.018779</td>\n",
       "      <td>2021</td>\n",
       "    </tr>\n",
       "    <tr>\n",
       "      <th>6</th>\n",
       "      <td>pub.1139784498</td>\n",
       "      <td>Requirement prioritization framework using cas...</td>\n",
       "      <td>10.1111/exsy.12770</td>\n",
       "      <td>2021</td>\n",
       "    </tr>\n",
       "    <tr>\n",
       "      <th>7</th>\n",
       "      <td>pub.1139789625</td>\n",
       "      <td>Text Mining in Cybersecurity</td>\n",
       "      <td>10.1145/3462477</td>\n",
       "      <td>2021</td>\n",
       "    </tr>\n",
       "    <tr>\n",
       "      <th>8</th>\n",
       "      <td>pub.1136536359</td>\n",
       "      <td>A Perceptive Fake User Detection and Visualiza...</td>\n",
       "      <td>10.1007/978-981-15-8685-9_44</td>\n",
       "      <td>2021</td>\n",
       "    </tr>\n",
       "    <tr>\n",
       "      <th>9</th>\n",
       "      <td>pub.1135354806</td>\n",
       "      <td>A preliminary study of cyber parental control ...</td>\n",
       "      <td>10.1109/ains50155.2020.9315134</td>\n",
       "      <td>2020</td>\n",
       "    </tr>\n",
       "    <tr>\n",
       "      <th>10</th>\n",
       "      <td>pub.1132401390</td>\n",
       "      <td>Foreground detection using motion histogram th...</td>\n",
       "      <td>10.1007/s00530-020-00676-3</td>\n",
       "      <td>2020</td>\n",
       "    </tr>\n",
       "    <tr>\n",
       "      <th>11</th>\n",
       "      <td>pub.1128314811</td>\n",
       "      <td>Cyber parental control: A bibliometric study</td>\n",
       "      <td>10.1016/j.childyouth.2020.105134</td>\n",
       "      <td>2020</td>\n",
       "    </tr>\n",
       "    <tr>\n",
       "      <th>12</th>\n",
       "      <td>pub.1125691748</td>\n",
       "      <td>OBAC: towards agent-based identification and c...</td>\n",
       "      <td>10.1007/s11042-020-08764-2</td>\n",
       "      <td>2020</td>\n",
       "    </tr>\n",
       "    <tr>\n",
       "      <th>13</th>\n",
       "      <td>pub.1125056530</td>\n",
       "      <td>Calculating Trust Using Multiple Heterogeneous...</td>\n",
       "      <td>10.1155/2020/8545128</td>\n",
       "      <td>2020</td>\n",
       "    </tr>\n",
       "    <tr>\n",
       "      <th>14</th>\n",
       "      <td>pub.1113878770</td>\n",
       "      <td>Perception layer security in Internet of Things</td>\n",
       "      <td>10.1016/j.future.2019.04.038</td>\n",
       "      <td>2019</td>\n",
       "    </tr>\n",
       "    <tr>\n",
       "      <th>15</th>\n",
       "      <td>pub.1115224509</td>\n",
       "      <td>Spammer Detection and Fake User Identification...</td>\n",
       "      <td>10.1109/access.2019.2918196</td>\n",
       "      <td>2019</td>\n",
       "    </tr>\n",
       "    <tr>\n",
       "      <th>16</th>\n",
       "      <td>pub.1109815383</td>\n",
       "      <td>A Fault Tolerant Approach for Malicious URL Fi...</td>\n",
       "      <td>10.1109/isncc.2018.8530984</td>\n",
       "      <td>2018</td>\n",
       "    </tr>\n",
       "    <tr>\n",
       "      <th>17</th>\n",
       "      <td>pub.1107354292</td>\n",
       "      <td>Social Internet of Vehicles: Complexity, Adapt...</td>\n",
       "      <td>10.1109/access.2018.2872928</td>\n",
       "      <td>2018</td>\n",
       "    </tr>\n",
       "  </tbody>\n",
       "</table>\n",
       "</div>"
      ],
      "text/plain": [
       "                id                                              title  \\\n",
       "0   pub.1158592531  DSpamOnto: An Ontology Modelling for Domain-Sp...   \n",
       "1   pub.1157326322  Spam Detection and Fake User Identification in...   \n",
       "2   pub.1156046866  Filtering objectionable information access bas...   \n",
       "3   pub.1155856205  DeNet_SVM: Product Based Recommendation System...   \n",
       "4   pub.1152595729    Ground Truth Dataset: Objectionable Web Content   \n",
       "5   pub.1140956277  Towards Aspect Based Components Integration Fr...   \n",
       "6   pub.1139784498  Requirement prioritization framework using cas...   \n",
       "7   pub.1139789625                       Text Mining in Cybersecurity   \n",
       "8   pub.1136536359  A Perceptive Fake User Detection and Visualiza...   \n",
       "9   pub.1135354806  A preliminary study of cyber parental control ...   \n",
       "10  pub.1132401390  Foreground detection using motion histogram th...   \n",
       "11  pub.1128314811       Cyber parental control: A bibliometric study   \n",
       "12  pub.1125691748  OBAC: towards agent-based identification and c...   \n",
       "13  pub.1125056530  Calculating Trust Using Multiple Heterogeneous...   \n",
       "14  pub.1113878770    Perception layer security in Internet of Things   \n",
       "15  pub.1115224509  Spammer Detection and Fake User Identification...   \n",
       "16  pub.1109815383  A Fault Tolerant Approach for Malicious URL Fi...   \n",
       "17  pub.1107354292  Social Internet of Vehicles: Complexity, Adapt...   \n",
       "\n",
       "                                 doi  year  \n",
       "0                10.3390/bdcc7020109  2023  \n",
       "1              10.48175/ijarsct-9178  2023  \n",
       "2          10.1177/01655515231160041  2023  \n",
       "3    10.1109/pdgc56933.2022.10053122  2022  \n",
       "4                10.3390/data7110153  2022  \n",
       "5           10.32604/cmc.2022.018779  2021  \n",
       "6                 10.1111/exsy.12770  2021  \n",
       "7                    10.1145/3462477  2021  \n",
       "8       10.1007/978-981-15-8685-9_44  2021  \n",
       "9     10.1109/ains50155.2020.9315134  2020  \n",
       "10        10.1007/s00530-020-00676-3  2020  \n",
       "11  10.1016/j.childyouth.2020.105134  2020  \n",
       "12        10.1007/s11042-020-08764-2  2020  \n",
       "13              10.1155/2020/8545128  2020  \n",
       "14      10.1016/j.future.2019.04.038  2019  \n",
       "15       10.1109/access.2019.2918196  2019  \n",
       "16        10.1109/isncc.2018.8530984  2018  \n",
       "17       10.1109/access.2018.2872928  2018  "
      ]
     },
     "execution_count": 6,
     "metadata": {},
     "output_type": "execute_result"
    }
   ],
   "source": [
    "%dsldf search publications where reference_ids in [ \"pub.1103275659\" ] return publications[id+doi+title+year]"
   ]
  },
  {
   "cell_type": "markdown",
   "metadata": {
    "Collapsed": "false",
    "colab_type": "text",
    "id": "0UoK9zofpeVH"
   },
   "source": [
    "Using this simple approach, if we start with a list of publications (our 'seed') we can set up a simple loop to get through all of them and launch a 'get-citations' query each time. \n"
   ]
  },
  {
   "cell_type": "markdown",
   "metadata": {
    "Collapsed": "false",
    "colab_type": "text",
    "id": "6pMkMe6jGsj8"
   },
   "source": [
    "TIP \n",
    "The `json.dumps` function easily transforms a list of objects into a string which can be used directly in our query eg\n",
    "\n",
    "```\n",
    "> json.dumps(seed)\n",
    "'[\"pub.1053279155\", \"pub.1103275659\"]'\n",
    "```"
   ]
  },
  {
   "cell_type": "code",
   "execution_count": 7,
   "metadata": {
    "Collapsed": "false",
    "colab": {},
    "colab_type": "code",
    "id": "Qp7iP4FBpaEO"
   },
   "outputs": [
    {
     "name": "stdout",
     "output_type": "stream",
     "text": [
      "Returned Publications: 7 (total = 7)\n",
      "\u001b[2mTime: 5.96s\u001b[0m\n",
      "Returned Publications: 18 (total = 18)\n",
      "\u001b[2mTime: 0.72s\u001b[0m\n"
     ]
    }
   ],
   "source": [
    "seed = [ \"pub.1053279155\" , \"pub.1103275659\"]\n",
    "q = \"\"\"search publications where reference_ids in [{}] return publications[id+doi+title+year]\"\"\"\n",
    "results = {}\n",
    "for p in seed:\n",
    "  data = dsl.query(q.format(json.dumps(p)))\n",
    "  results[p] = [x['id'] for x in data.publications]"
   ]
  },
  {
   "cell_type": "code",
   "execution_count": 8,
   "metadata": {
    "Collapsed": "false",
    "colab": {
     "base_uri": "https://localhost:8080/",
     "height": 119
    },
    "colab_type": "code",
    "executionInfo": {
     "elapsed": 646,
     "status": "ok",
     "timestamp": 1571735531480,
     "user": {
      "displayName": "Michele Pasin",
      "photoUrl": "https://lh3.googleusercontent.com/a-/AAuE7mBu8LVjIGgontF2Wax51BoL5KFx8esezX3bUmaa0g=s64",
      "userId": "10309320684375994511"
     },
     "user_tz": -60
    },
    "id": "MST81jAqqHvA",
    "outputId": "fd2f5e5d-3064-4642-fd4f-65c8dc456940"
   },
   "outputs": [
    {
     "data": {
      "text/plain": [
       "{'pub.1053279155': ['pub.1148271626',\n",
       "  'pub.1103275659',\n",
       "  'pub.1068603272',\n",
       "  'pub.1005502446',\n",
       "  'pub.1012651711',\n",
       "  'pub.1008922470',\n",
       "  'pub.1053157726'],\n",
       " 'pub.1103275659': ['pub.1158592531',\n",
       "  'pub.1157326322',\n",
       "  'pub.1156046866',\n",
       "  'pub.1155856205',\n",
       "  'pub.1152595729',\n",
       "  'pub.1140956277',\n",
       "  'pub.1139784498',\n",
       "  'pub.1139789625',\n",
       "  'pub.1136536359',\n",
       "  'pub.1135354806',\n",
       "  'pub.1132401390',\n",
       "  'pub.1128314811',\n",
       "  'pub.1125691748',\n",
       "  'pub.1125056530',\n",
       "  'pub.1113878770',\n",
       "  'pub.1115224509',\n",
       "  'pub.1109815383',\n",
       "  'pub.1107354292']}"
      ]
     },
     "execution_count": 8,
     "metadata": {},
     "output_type": "execute_result"
    }
   ],
   "source": [
    "results"
   ]
  },
  {
   "cell_type": "markdown",
   "metadata": {
    "Collapsed": "false",
    "colab_type": "text",
    "id": "y5dPmfV6qn7Y"
   },
   "source": [
    "### Comments about this method\n",
    "\n",
    "* this approach is straightforward and quick, but it's better used with small datasets  \n",
    "* we create one query per publication (and so on, for a N-degree network)\n",
    "* if you have lots of publicaitons, it'll lead to lots of queries which may not be too efficient\n"
   ]
  },
  {
   "cell_type": "markdown",
   "metadata": {
    "Collapsed": "false",
    "colab_type": "text",
    "id": "hog-cAHvDGNF"
   },
   "source": [
    "## Method B: Getting citations for multiple publications via a single query\n",
    "\n",
    "We can use the same query template but instead of looking for a single publication ID, we can put multiple ones in a list. \n",
    "\n",
    "So if we combine the two citations list for \"pub.1053279155\" and \"pub.1103275659\", we will get 5 + 3 = 8 results in total. \n",
    "\n",
    "*However* then it's down to us to figure out which paper is citing which!"
   ]
  },
  {
   "cell_type": "code",
   "execution_count": 9,
   "metadata": {
    "Collapsed": "false",
    "colab": {
     "base_uri": "https://localhost:8080/",
     "height": 273
    },
    "colab_type": "code",
    "executionInfo": {
     "elapsed": 686,
     "status": "ok",
     "timestamp": 1571742733747,
     "user": {
      "displayName": "Michele Pasin",
      "photoUrl": "https://lh3.googleusercontent.com/a-/AAuE7mBu8LVjIGgontF2Wax51BoL5KFx8esezX3bUmaa0g=s64",
      "userId": "10309320684375994511"
     },
     "user_tz": -60
    },
    "id": "8mXAAjZ4-oPa",
    "outputId": "d22ff995-020a-4370-843b-97fdd37ea5bb"
   },
   "outputs": [
    {
     "name": "stdout",
     "output_type": "stream",
     "text": [
      "Returned Publications: 20 (total = 25)\n",
      "\u001b[2mTime: 5.26s\u001b[0m\n"
     ]
    },
    {
     "data": {
      "text/html": [
       "<div>\n",
       "<style scoped>\n",
       "    .dataframe tbody tr th:only-of-type {\n",
       "        vertical-align: middle;\n",
       "    }\n",
       "\n",
       "    .dataframe tbody tr th {\n",
       "        vertical-align: top;\n",
       "    }\n",
       "\n",
       "    .dataframe thead th {\n",
       "        text-align: right;\n",
       "    }\n",
       "</style>\n",
       "<table border=\"1\" class=\"dataframe\">\n",
       "  <thead>\n",
       "    <tr style=\"text-align: right;\">\n",
       "      <th></th>\n",
       "      <th>id</th>\n",
       "      <th>title</th>\n",
       "      <th>doi</th>\n",
       "      <th>year</th>\n",
       "    </tr>\n",
       "  </thead>\n",
       "  <tbody>\n",
       "    <tr>\n",
       "      <th>0</th>\n",
       "      <td>pub.1158592531</td>\n",
       "      <td>DSpamOnto: An Ontology Modelling for Domain-Sp...</td>\n",
       "      <td>10.3390/bdcc7020109</td>\n",
       "      <td>2023</td>\n",
       "    </tr>\n",
       "    <tr>\n",
       "      <th>1</th>\n",
       "      <td>pub.1157326322</td>\n",
       "      <td>Spam Detection and Fake User Identification in...</td>\n",
       "      <td>10.48175/ijarsct-9178</td>\n",
       "      <td>2023</td>\n",
       "    </tr>\n",
       "    <tr>\n",
       "      <th>2</th>\n",
       "      <td>pub.1156046866</td>\n",
       "      <td>Filtering objectionable information access bas...</td>\n",
       "      <td>10.1177/01655515231160041</td>\n",
       "      <td>2023</td>\n",
       "    </tr>\n",
       "    <tr>\n",
       "      <th>3</th>\n",
       "      <td>pub.1155856205</td>\n",
       "      <td>DeNet_SVM: Product Based Recommendation System...</td>\n",
       "      <td>10.1109/pdgc56933.2022.10053122</td>\n",
       "      <td>2022</td>\n",
       "    </tr>\n",
       "    <tr>\n",
       "      <th>4</th>\n",
       "      <td>pub.1152595729</td>\n",
       "      <td>Ground Truth Dataset: Objectionable Web Content</td>\n",
       "      <td>10.3390/data7110153</td>\n",
       "      <td>2022</td>\n",
       "    </tr>\n",
       "    <tr>\n",
       "      <th>5</th>\n",
       "      <td>pub.1148271626</td>\n",
       "      <td>Capturing the Semantics of Smell: The Odeuropa...</td>\n",
       "      <td>10.1007/978-3-031-06981-9_23</td>\n",
       "      <td>2022</td>\n",
       "    </tr>\n",
       "    <tr>\n",
       "      <th>6</th>\n",
       "      <td>pub.1140956277</td>\n",
       "      <td>Towards Aspect Based Components Integration Fr...</td>\n",
       "      <td>10.32604/cmc.2022.018779</td>\n",
       "      <td>2021</td>\n",
       "    </tr>\n",
       "    <tr>\n",
       "      <th>7</th>\n",
       "      <td>pub.1139784498</td>\n",
       "      <td>Requirement prioritization framework using cas...</td>\n",
       "      <td>10.1111/exsy.12770</td>\n",
       "      <td>2021</td>\n",
       "    </tr>\n",
       "    <tr>\n",
       "      <th>8</th>\n",
       "      <td>pub.1139789625</td>\n",
       "      <td>Text Mining in Cybersecurity</td>\n",
       "      <td>10.1145/3462477</td>\n",
       "      <td>2021</td>\n",
       "    </tr>\n",
       "    <tr>\n",
       "      <th>9</th>\n",
       "      <td>pub.1136536359</td>\n",
       "      <td>A Perceptive Fake User Detection and Visualiza...</td>\n",
       "      <td>10.1007/978-981-15-8685-9_44</td>\n",
       "      <td>2021</td>\n",
       "    </tr>\n",
       "    <tr>\n",
       "      <th>10</th>\n",
       "      <td>pub.1135354806</td>\n",
       "      <td>A preliminary study of cyber parental control ...</td>\n",
       "      <td>10.1109/ains50155.2020.9315134</td>\n",
       "      <td>2020</td>\n",
       "    </tr>\n",
       "    <tr>\n",
       "      <th>11</th>\n",
       "      <td>pub.1132401390</td>\n",
       "      <td>Foreground detection using motion histogram th...</td>\n",
       "      <td>10.1007/s00530-020-00676-3</td>\n",
       "      <td>2020</td>\n",
       "    </tr>\n",
       "    <tr>\n",
       "      <th>12</th>\n",
       "      <td>pub.1128314811</td>\n",
       "      <td>Cyber parental control: A bibliometric study</td>\n",
       "      <td>10.1016/j.childyouth.2020.105134</td>\n",
       "      <td>2020</td>\n",
       "    </tr>\n",
       "    <tr>\n",
       "      <th>13</th>\n",
       "      <td>pub.1125691748</td>\n",
       "      <td>OBAC: towards agent-based identification and c...</td>\n",
       "      <td>10.1007/s11042-020-08764-2</td>\n",
       "      <td>2020</td>\n",
       "    </tr>\n",
       "    <tr>\n",
       "      <th>14</th>\n",
       "      <td>pub.1125056530</td>\n",
       "      <td>Calculating Trust Using Multiple Heterogeneous...</td>\n",
       "      <td>10.1155/2020/8545128</td>\n",
       "      <td>2020</td>\n",
       "    </tr>\n",
       "    <tr>\n",
       "      <th>15</th>\n",
       "      <td>pub.1113878770</td>\n",
       "      <td>Perception layer security in Internet of Things</td>\n",
       "      <td>10.1016/j.future.2019.04.038</td>\n",
       "      <td>2019</td>\n",
       "    </tr>\n",
       "    <tr>\n",
       "      <th>16</th>\n",
       "      <td>pub.1115224509</td>\n",
       "      <td>Spammer Detection and Fake User Identification...</td>\n",
       "      <td>10.1109/access.2019.2918196</td>\n",
       "      <td>2019</td>\n",
       "    </tr>\n",
       "    <tr>\n",
       "      <th>17</th>\n",
       "      <td>pub.1109815383</td>\n",
       "      <td>A Fault Tolerant Approach for Malicious URL Fi...</td>\n",
       "      <td>10.1109/isncc.2018.8530984</td>\n",
       "      <td>2018</td>\n",
       "    </tr>\n",
       "    <tr>\n",
       "      <th>18</th>\n",
       "      <td>pub.1103275659</td>\n",
       "      <td>Towards ontology-based multilingual URL filter...</td>\n",
       "      <td>10.1007/s11227-018-2338-1</td>\n",
       "      <td>2018</td>\n",
       "    </tr>\n",
       "    <tr>\n",
       "      <th>19</th>\n",
       "      <td>pub.1107354292</td>\n",
       "      <td>Social Internet of Vehicles: Complexity, Adapt...</td>\n",
       "      <td>10.1109/access.2018.2872928</td>\n",
       "      <td>2018</td>\n",
       "    </tr>\n",
       "  </tbody>\n",
       "</table>\n",
       "</div>"
      ],
      "text/plain": [
       "                id                                              title  \\\n",
       "0   pub.1158592531  DSpamOnto: An Ontology Modelling for Domain-Sp...   \n",
       "1   pub.1157326322  Spam Detection and Fake User Identification in...   \n",
       "2   pub.1156046866  Filtering objectionable information access bas...   \n",
       "3   pub.1155856205  DeNet_SVM: Product Based Recommendation System...   \n",
       "4   pub.1152595729    Ground Truth Dataset: Objectionable Web Content   \n",
       "5   pub.1148271626  Capturing the Semantics of Smell: The Odeuropa...   \n",
       "6   pub.1140956277  Towards Aspect Based Components Integration Fr...   \n",
       "7   pub.1139784498  Requirement prioritization framework using cas...   \n",
       "8   pub.1139789625                       Text Mining in Cybersecurity   \n",
       "9   pub.1136536359  A Perceptive Fake User Detection and Visualiza...   \n",
       "10  pub.1135354806  A preliminary study of cyber parental control ...   \n",
       "11  pub.1132401390  Foreground detection using motion histogram th...   \n",
       "12  pub.1128314811       Cyber parental control: A bibliometric study   \n",
       "13  pub.1125691748  OBAC: towards agent-based identification and c...   \n",
       "14  pub.1125056530  Calculating Trust Using Multiple Heterogeneous...   \n",
       "15  pub.1113878770    Perception layer security in Internet of Things   \n",
       "16  pub.1115224509  Spammer Detection and Fake User Identification...   \n",
       "17  pub.1109815383  A Fault Tolerant Approach for Malicious URL Fi...   \n",
       "18  pub.1103275659  Towards ontology-based multilingual URL filter...   \n",
       "19  pub.1107354292  Social Internet of Vehicles: Complexity, Adapt...   \n",
       "\n",
       "                                 doi  year  \n",
       "0                10.3390/bdcc7020109  2023  \n",
       "1              10.48175/ijarsct-9178  2023  \n",
       "2          10.1177/01655515231160041  2023  \n",
       "3    10.1109/pdgc56933.2022.10053122  2022  \n",
       "4                10.3390/data7110153  2022  \n",
       "5       10.1007/978-3-031-06981-9_23  2022  \n",
       "6           10.32604/cmc.2022.018779  2021  \n",
       "7                 10.1111/exsy.12770  2021  \n",
       "8                    10.1145/3462477  2021  \n",
       "9       10.1007/978-981-15-8685-9_44  2021  \n",
       "10    10.1109/ains50155.2020.9315134  2020  \n",
       "11        10.1007/s00530-020-00676-3  2020  \n",
       "12  10.1016/j.childyouth.2020.105134  2020  \n",
       "13        10.1007/s11042-020-08764-2  2020  \n",
       "14              10.1155/2020/8545128  2020  \n",
       "15      10.1016/j.future.2019.04.038  2019  \n",
       "16       10.1109/access.2019.2918196  2019  \n",
       "17        10.1109/isncc.2018.8530984  2018  \n",
       "18         10.1007/s11227-018-2338-1  2018  \n",
       "19       10.1109/access.2018.2872928  2018  "
      ]
     },
     "execution_count": 9,
     "metadata": {},
     "output_type": "execute_result"
    }
   ],
   "source": [
    "%dsldf search publications where reference_ids in [ \"pub.1053279155\" , \"pub.1103275659\"] return publications[id+doi+title+year]"
   ]
  },
  {
   "cell_type": "markdown",
   "metadata": {
    "Collapsed": "false",
    "colab_type": "text",
    "id": "gIBXDJ1GF8bC"
   },
   "source": [
    "In order to resolve the citations data we got above, we must also extract the full references for each citing paper (by including `reference_ids` in the results) and then recreate the citation graph programmatically. EG"
   ]
  },
  {
   "cell_type": "code",
   "execution_count": 10,
   "metadata": {
    "Collapsed": "false",
    "colab": {},
    "colab_type": "code",
    "id": "gCZ48gcyGZoK"
   },
   "outputs": [],
   "source": [
    "seed = [ \"pub.1053279155\" , \"pub.1103275659\"]"
   ]
  },
  {
   "cell_type": "code",
   "execution_count": 11,
   "metadata": {
    "Collapsed": "false",
    "colab": {},
    "colab_type": "code",
    "id": "UXdacZ0h-oIq"
   },
   "outputs": [
    {
     "name": "stdout",
     "output_type": "stream",
     "text": [
      "Returned Publications: 20 (total = 25)\n",
      "\u001b[2mTime: 0.96s\u001b[0m\n"
     ]
    }
   ],
   "source": [
    "data = dsl.query(f\"\"\"search publications where reference_ids in {json.dumps(seed)} return publications[id+doi+title+year+reference_ids]\"\"\")"
   ]
  },
  {
   "cell_type": "code",
   "execution_count": 12,
   "metadata": {
    "Collapsed": "false",
    "colab": {},
    "colab_type": "code",
    "id": "UoF3BAueNpXS"
   },
   "outputs": [],
   "source": [
    "def build_network_dict(seed, pubs_list):\n",
    "  network={x:[] for x in seed} # seed a dictionary \n",
    "  for pub in pubs_list:\n",
    "    for key in network:\n",
    "      if pub.get('reference_ids') and key in pub['reference_ids']:\n",
    "        network[key].append(pub['id'])\n",
    "  return network"
   ]
  },
  {
   "cell_type": "markdown",
   "metadata": {
    "Collapsed": "false",
    "colab_type": "text",
    "id": "pCB2LctcLN02"
   },
   "source": [
    "A simple way to represent the citation network is a dictionary data structure with `'cited_paper' : [citing papers]`"
   ]
  },
  {
   "cell_type": "code",
   "execution_count": 13,
   "metadata": {
    "Collapsed": "false",
    "colab": {
     "base_uri": "https://localhost:8080/",
     "height": 119
    },
    "colab_type": "code",
    "executionInfo": {
     "elapsed": 485,
     "status": "ok",
     "timestamp": 1571735737325,
     "user": {
      "displayName": "Michele Pasin",
      "photoUrl": "https://lh3.googleusercontent.com/a-/AAuE7mBu8LVjIGgontF2Wax51BoL5KFx8esezX3bUmaa0g=s64",
      "userId": "10309320684375994511"
     },
     "user_tz": -60
    },
    "id": "RLdMc3ppINxp",
    "outputId": "3599d791-5b6b-47b7-88f9-a8e20f344812"
   },
   "outputs": [
    {
     "data": {
      "text/plain": [
       "{'pub.1053279155': ['pub.1148271626', 'pub.1103275659'],\n",
       " 'pub.1103275659': ['pub.1158592531',\n",
       "  'pub.1157326322',\n",
       "  'pub.1156046866',\n",
       "  'pub.1155856205',\n",
       "  'pub.1152595729',\n",
       "  'pub.1140956277',\n",
       "  'pub.1139784498',\n",
       "  'pub.1139789625',\n",
       "  'pub.1136536359',\n",
       "  'pub.1135354806',\n",
       "  'pub.1132401390',\n",
       "  'pub.1128314811',\n",
       "  'pub.1125691748',\n",
       "  'pub.1125056530',\n",
       "  'pub.1113878770',\n",
       "  'pub.1115224509',\n",
       "  'pub.1109815383',\n",
       "  'pub.1107354292']}"
      ]
     },
     "execution_count": 13,
     "metadata": {},
     "output_type": "execute_result"
    }
   ],
   "source": [
    "network1 = build_network_dict(seed, data.publications)\n",
    "network1"
   ]
  },
  {
   "cell_type": "markdown",
   "metadata": {
    "Collapsed": "false",
    "colab_type": "text",
    "id": "Eo_2nBQJJBVg"
   },
   "source": [
    "## Creating a second-level citations network\n",
    "\n",
    "Let's now create a second level citations network!\n",
    "\n",
    "This means going through all pubs citing the two seed-papers, and getting all the citing publications for them as well. "
   ]
  },
  {
   "cell_type": "code",
   "execution_count": 14,
   "metadata": {
    "Collapsed": "false",
    "colab": {},
    "colab_type": "code",
    "id": "lEi_hNomBOeN"
   },
   "outputs": [],
   "source": [
    "all_citing_papers = []\n",
    "for x in network1.values():\n",
    "  all_citing_papers += x\n",
    "all_citing_papers = list(set(all_citing_papers))"
   ]
  },
  {
   "cell_type": "code",
   "execution_count": 15,
   "metadata": {
    "Collapsed": "false",
    "colab": {
     "base_uri": "https://localhost:8080/",
     "height": 153
    },
    "colab_type": "code",
    "executionInfo": {
     "elapsed": 490,
     "status": "ok",
     "timestamp": 1571735775957,
     "user": {
      "displayName": "Michele Pasin",
      "photoUrl": "https://lh3.googleusercontent.com/a-/AAuE7mBu8LVjIGgontF2Wax51BoL5KFx8esezX3bUmaa0g=s64",
      "userId": "10309320684375994511"
     },
     "user_tz": -60
    },
    "id": "jkU5RZUCAt45",
    "outputId": "f0d0c67b-6472-4e68-cf75-bd079f7e66f5"
   },
   "outputs": [
    {
     "data": {
      "text/plain": [
       "['pub.1113878770',\n",
       " 'pub.1109815383',\n",
       " 'pub.1132401390',\n",
       " 'pub.1148271626',\n",
       " 'pub.1115224509',\n",
       " 'pub.1125691748',\n",
       " 'pub.1136536359',\n",
       " 'pub.1139784498',\n",
       " 'pub.1107354292',\n",
       " 'pub.1155856205',\n",
       " 'pub.1158592531',\n",
       " 'pub.1156046866',\n",
       " 'pub.1125056530',\n",
       " 'pub.1139789625',\n",
       " 'pub.1152595729',\n",
       " 'pub.1157326322',\n",
       " 'pub.1103275659',\n",
       " 'pub.1140956277',\n",
       " 'pub.1135354806',\n",
       " 'pub.1128314811']"
      ]
     },
     "execution_count": 15,
     "metadata": {},
     "output_type": "execute_result"
    }
   ],
   "source": [
    "all_citing_papers"
   ]
  },
  {
   "cell_type": "markdown",
   "metadata": {
    "Collapsed": "false",
    "colab_type": "text",
    "id": "D-MSRNR2LRd5"
   },
   "source": [
    "Now let's extract the network structure as previously done"
   ]
  },
  {
   "cell_type": "code",
   "execution_count": 16,
   "metadata": {
    "Collapsed": "false",
    "colab": {
     "base_uri": "https://localhost:8080/",
     "height": 323
    },
    "colab_type": "code",
    "executionInfo": {
     "elapsed": 481,
     "status": "ok",
     "timestamp": 1571735794859,
     "user": {
      "displayName": "Michele Pasin",
      "photoUrl": "https://lh3.googleusercontent.com/a-/AAuE7mBu8LVjIGgontF2Wax51BoL5KFx8esezX3bUmaa0g=s64",
      "userId": "10309320684375994511"
     },
     "user_tz": -60
    },
    "id": "I4DiWaZpNX8d",
    "outputId": "b4146bd2-63ee-4411-bee8-6934d3534679"
   },
   "outputs": [
    {
     "name": "stdout",
     "output_type": "stream",
     "text": [
      "Returned Publications: 20 (total = 276)\n",
      "\u001b[2mTime: 4.97s\u001b[0m\n"
     ]
    },
    {
     "data": {
      "text/plain": [
       "{'pub.1113878770': ['pub.1154834771',\n",
       "  'pub.1160605234',\n",
       "  'pub.1156453470',\n",
       "  'pub.1156130427',\n",
       "  'pub.1159827875',\n",
       "  'pub.1159316950'],\n",
       " 'pub.1109815383': [],\n",
       " 'pub.1132401390': [],\n",
       " 'pub.1148271626': [],\n",
       " 'pub.1115224509': ['pub.1162838256',\n",
       "  'pub.1160759729',\n",
       "  'pub.1162965229',\n",
       "  'pub.1160136432',\n",
       "  'pub.1160002777',\n",
       "  'pub.1159966406'],\n",
       " 'pub.1125691748': [],\n",
       " 'pub.1136536359': [],\n",
       " 'pub.1139784498': ['pub.1160542696'],\n",
       " 'pub.1107354292': [],\n",
       " 'pub.1155856205': ['pub.1160502736'],\n",
       " 'pub.1158592531': [],\n",
       " 'pub.1156046866': [],\n",
       " 'pub.1125056530': [],\n",
       " 'pub.1139789625': ['pub.1159839140', 'pub.1159700355'],\n",
       " 'pub.1152595729': ['pub.1160624422'],\n",
       " 'pub.1157326322': [],\n",
       " 'pub.1103275659': ['pub.1158592531'],\n",
       " 'pub.1140956277': [],\n",
       " 'pub.1135354806': [],\n",
       " 'pub.1128314811': ['pub.1160022332', 'pub.1158432245']}"
      ]
     },
     "execution_count": 16,
     "metadata": {},
     "output_type": "execute_result"
    }
   ],
   "source": [
    "data2 = dsl.query(f\"\"\"search publications where reference_ids in {json.dumps(all_citing_papers)} return publications[id+doi+title+year+reference_ids]\"\"\")\n",
    "network2 = build_network_dict(all_citing_papers, data2.publications)\n",
    "network2"
   ]
  },
  {
   "cell_type": "markdown",
   "metadata": {
    "Collapsed": "false",
    "colab_type": "text",
    "id": "4aTZRpzaOafc"
   },
   "source": [
    "Finally we can merge the two levels into one single dataset (note: nodes with same data will be merged automatically)"
   ]
  },
  {
   "cell_type": "code",
   "execution_count": 17,
   "metadata": {
    "Collapsed": "false",
    "colab": {
     "base_uri": "https://localhost:8080/",
     "height": 408
    },
    "colab_type": "code",
    "executionInfo": {
     "elapsed": 493,
     "status": "ok",
     "timestamp": 1571735805829,
     "user": {
      "displayName": "Michele Pasin",
      "photoUrl": "https://lh3.googleusercontent.com/a-/AAuE7mBu8LVjIGgontF2Wax51BoL5KFx8esezX3bUmaa0g=s64",
      "userId": "10309320684375994511"
     },
     "user_tz": -60
    },
    "id": "UdvVlXFrNdbY",
    "outputId": "1281b0c9-792b-411c-8bb2-fd205312aa88"
   },
   "outputs": [
    {
     "data": {
      "text/plain": [
       "{'pub.1053279155': ['pub.1148271626', 'pub.1103275659'],\n",
       " 'pub.1103275659': ['pub.1158592531'],\n",
       " 'pub.1113878770': ['pub.1154834771',\n",
       "  'pub.1160605234',\n",
       "  'pub.1156453470',\n",
       "  'pub.1156130427',\n",
       "  'pub.1159827875',\n",
       "  'pub.1159316950'],\n",
       " 'pub.1109815383': [],\n",
       " 'pub.1132401390': [],\n",
       " 'pub.1148271626': [],\n",
       " 'pub.1115224509': ['pub.1162838256',\n",
       "  'pub.1160759729',\n",
       "  'pub.1162965229',\n",
       "  'pub.1160136432',\n",
       "  'pub.1160002777',\n",
       "  'pub.1159966406'],\n",
       " 'pub.1125691748': [],\n",
       " 'pub.1136536359': [],\n",
       " 'pub.1139784498': ['pub.1160542696'],\n",
       " 'pub.1107354292': [],\n",
       " 'pub.1155856205': ['pub.1160502736'],\n",
       " 'pub.1158592531': [],\n",
       " 'pub.1156046866': [],\n",
       " 'pub.1125056530': [],\n",
       " 'pub.1139789625': ['pub.1159839140', 'pub.1159700355'],\n",
       " 'pub.1152595729': ['pub.1160624422'],\n",
       " 'pub.1157326322': [],\n",
       " 'pub.1140956277': [],\n",
       " 'pub.1135354806': [],\n",
       " 'pub.1128314811': ['pub.1160022332', 'pub.1158432245']}"
      ]
     },
     "execution_count": 17,
     "metadata": {},
     "output_type": "execute_result"
    }
   ],
   "source": [
    "final = dict(network1, **network2 )\n",
    "final"
   ]
  },
  {
   "cell_type": "markdown",
   "metadata": {
    "Collapsed": "false",
    "colab_type": "text",
    "id": "Id9h9iXDOVkk"
   },
   "source": [
    "## Building a Simple Dataviz\n",
    "\n",
    "We can build a simple visualization using the excellent [pyvis](https://pyvis.readthedocs.io/en/latest/tutorial.html) library. A custom version of pyvis is already included in [dimcli.core.extras](https://github.com/digital-science/dimcli/blob/master/dimcli/core/extras.py) and is called NetworkViz (note: this custom version only fixes a bug that prevents pyvis graphs to be displayed online with Google Colab)."
   ]
  },
  {
   "cell_type": "code",
   "execution_count": 18,
   "metadata": {
    "Collapsed": "false"
   },
   "outputs": [],
   "source": [
    "# load custom version of pyvis\n",
    "from pyvis.network import Network"
   ]
  },
  {
   "cell_type": "code",
   "execution_count": 19,
   "metadata": {
    "Collapsed": "false",
    "colab": {},
    "colab_type": "code",
    "id": "WPAf6zy1Sdr5"
   },
   "outputs": [
    {
     "name": "stdout",
     "output_type": "stream",
     "text": [
      "citation.html\n"
     ]
    },
    {
     "data": {
      "text/html": [
       "\n",
       "        <iframe\n",
       "            width=\"100%\"\n",
       "            height=\"800px\"\n",
       "            src=\"citation.html\"\n",
       "            frameborder=\"0\"\n",
       "            allowfullscreen\n",
       "            \n",
       "        ></iframe>\n",
       "        "
      ],
      "text/plain": [
       "<IPython.lib.display.IFrame at 0x126034950>"
      ]
     },
     "execution_count": 19,
     "metadata": {},
     "output_type": "execute_result"
    }
   ],
   "source": [
    "net = Network(notebook=True, width=\"100%\", height=\"800px\",cdn_resources=\"remote\",\n",
    "            neighborhood_highlight=True,\n",
    "            select_menu=True)\n",
    "\n",
    "nodes = []\n",
    "for x in final:\n",
    "  nodes.append(x)\n",
    "  nodes += final[x]\n",
    "nodes = list(set(nodes))\n",
    "\n",
    "net.add_nodes(nodes) # node ids and labels = [\"a\", \"b\", \"c\", \"d\"]\n",
    "\n",
    "for x in final:\n",
    "  for target in final[x]:\n",
    "    net.add_edge(x, target)\n",
    "\n",
    "net.show(\"citation.html\")"
   ]
  },
  {
   "cell_type": "markdown",
   "metadata": {
    "Collapsed": "false",
    "colab_type": "text",
    "id": "Y7pg_VXhVZ2z"
   },
   "source": [
    "## Final considerations \n",
    "\n",
    "### Querying for more than 1000 results\n",
    "\n",
    "Each API query can return a maximum of 1000 records, so you must use the limit/skip syntax to get more. \n",
    "\n",
    "See the [paginating results section in the docs](https://docs.dimensions.ai/dsl/language.html#paginating-results) for more info.\n",
    "\n",
    "### Querying for more than 50K results\n",
    "\n",
    "Even with limit/skip, one can only download 50k records for each single query. \n",
    "\n",
    "So if your list of PUB-ids is getting too long (eg > 300) you should consider splitting up the list into chunks create an extra loop to go through all of them without hitting the max upper limit. \n",
    "\n",
    "### Dealing with highly cited publications \n",
    "\n",
    "Some publications can have lots of citations: for example, here we have a single paper with 200K+ citation: https://app.dimensions.ai/details/publication/pub.1076750128 \n",
    "\n",
    "That's quite an exceptional case, but there are several publications with more than 10k citations each. When you encounter such cases, you will hit the 50k limit pretty quickly, so you need to keep an eye out for these and possibly 'slice' the data in different ways eg by year or journal (so to get less results).\n",
    "\n",
    "### Pre-checking citations counts \n",
    "\n",
    "The `times_cited` and `recent_citations` fields of [publications](https://docs.dimensions.ai/dsl/data-sources.html#publications) can be used to check how many citations a paper has (ps `recent_citations` counts the last two years only). \n",
    "\n",
    "So, by using these aggregated figures, it is possible to get a feeling for the size of citations-data we'll have to deal with before setting up a proper data extraction pipeline. \n"
   ]
  }
 ],
 "metadata": {
  "colab": {
   "collapsed_sections": [],
   "name": "Citation-Analysis.ipynb",
   "provenance": []
  },
  "kernelspec": {
   "display_name": "Python 3 (ipykernel)",
   "language": "python",
   "name": "python3"
  },
  "language_info": {
   "codemirror_mode": {
    "name": "ipython",
    "version": 3
   },
   "file_extension": ".py",
   "mimetype": "text/x-python",
   "name": "python",
   "nbconvert_exporter": "python",
   "pygments_lexer": "ipython3",
   "version": "3.11.1"
  }
 },
 "nbformat": 4,
 "nbformat_minor": 4
}
