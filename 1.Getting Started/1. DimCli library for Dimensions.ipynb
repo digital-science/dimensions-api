{
 "cells": [
  {
   "cell_type": "markdown",
   "metadata": {
    "slideshow": {
     "slide_type": "slide"
    }
   },
   "source": [
    "# Interacting with Dimensions using DimCli\n",
    "The purpose of this notebook is to show how to use DimCli. [DimCLI](https://github.com/lambdamusic/dimcli) is an open source python library which contains various commands that make it easier to interact with the Dimensions API from Python notebooks. \n",
    "\n",
    "> This guide assumes that you already have a Python 3 working environment and [pip](https://pypi.org/project/pip/) - the python package manager - installed. For more background, see this [link](https://realpython.com/installing-python/)."
   ]
  },
  {
   "cell_type": "markdown",
   "metadata": {},
   "source": [
    "### Installation"
   ]
  },
  {
   "cell_type": "markdown",
   "metadata": {},
   "source": [
    "You can install DimCli as follows: "
   ]
  },
  {
   "cell_type": "code",
   "execution_count": null,
   "metadata": {},
   "outputs": [],
   "source": [
    "!pip install dimcli -U"
   ]
  },
  {
   "cell_type": "markdown",
   "metadata": {},
   "source": [
    "Then each time you want to use it within a notebook you can load it like this:"
   ]
  },
  {
   "cell_type": "code",
   "execution_count": 1,
   "metadata": {},
   "outputs": [
    {
     "name": "stdout",
     "output_type": "stream",
     "text": [
      "DimCli v0.4.5.1 - Succesfully connected to <https://app.dimensions.ai> (method: dsl.ini file)\n"
     ]
    }
   ],
   "source": [
    "import dimcli\n",
    "%dsl_login "
   ]
  },
  {
   "cell_type": "markdown",
   "metadata": {},
   "source": [
    "If you have already setup a credentials file (see next section) that should be enough to authenticate. \n",
    "\n",
    "Instead, if you haven't done that (eg because you are within an online shared environment like Google Cloud Notebooks) you can pass log in credentials manually too:"
   ]
  },
  {
   "cell_type": "code",
   "execution_count": 4,
   "metadata": {},
   "outputs": [
    {
     "name": "stdout",
     "output_type": "stream",
     "text": [
      "DimCli v0.4.5.1 - Succesfully connected to <https://app.dimensions.ai> (method: manual login)\n"
     ]
    }
   ],
   "source": [
    "%dsl_login --usr=me@mail.com --psw=secret"
   ]
  },
  {
   "cell_type": "markdown",
   "metadata": {},
   "source": [
    "### Authentication"
   ]
  },
  {
   "cell_type": "markdown",
   "metadata": {},
   "source": [
    "DimCli handles authenticating with the Dimensions API. This requires you to store your access credentials (email and password most likely) in a file on your computer so that DimCli can retrieve those data at runtime.\n",
    "\n",
    "There are [different ways](https://github.com/lambdamusic/dimcli#the-credentials-file) to achieve that, but the easiest is to add a file called `dsl.ini` in the current working directory (eg where your notebooks are located).\n",
    "\n",
    "The file contents should follow this structure:\n",
    "\n",
    "```\n",
    "[instance.live]\n",
    "url=https://app.dimensions.ai\n",
    "login=user@mail.com\n",
    "password=yourpasswordhere\n",
    "```\n",
    "\n",
    "You just need to update the login and password fields with your credentials."
   ]
  },
  {
   "cell_type": "markdown",
   "metadata": {},
   "source": [
    "### Querying via Magic Commands"
   ]
  },
  {
   "cell_type": "markdown",
   "metadata": {},
   "source": [
    "DimCli includes a couple of [magic commands](https://ipython.readthedocs.io/en/stable/interactive/magics.html) which make querying very easy: `dsl_query` and `dsl_query_loop`.\n",
    "\n",
    "#### %dsl_query"
   ]
  },
  {
   "cell_type": "code",
   "execution_count": null,
   "metadata": {},
   "outputs": [],
   "source": [
    "%dsl_query search publications where journal.title=\"Nature\" return publications"
   ]
  },
  {
   "cell_type": "markdown",
   "metadata": {},
   "source": [
    "Or using all the space in a cell (note the `%%` instead of `%`)"
   ]
  },
  {
   "cell_type": "code",
   "execution_count": null,
   "metadata": {},
   "outputs": [],
   "source": [
    "%%dsl_query\n",
    "search publications\n",
    "where year in [2013:2018] and research_orgs=\"grid.258806.1\"\n",
    "return publications[title]"
   ]
  },
  {
   "cell_type": "markdown",
   "metadata": {},
   "source": [
    "Queries return a DimCli `Result` object, which is just a wrapper around the raw JSON data. \n",
    "\n",
    "We can assign the results of the magic command to a variable, for example, and explore the returned data:"
   ]
  },
  {
   "cell_type": "code",
   "execution_count": null,
   "metadata": {},
   "outputs": [],
   "source": [
    "res = %dsl_query search publications where journal.title=\"Nature\" return publications"
   ]
  },
  {
   "cell_type": "code",
   "execution_count": null,
   "metadata": {},
   "outputs": [],
   "source": [
    "type(res)"
   ]
  },
  {
   "cell_type": "code",
   "execution_count": null,
   "metadata": {},
   "outputs": [],
   "source": [
    "res['publications'][2]"
   ]
  },
  {
   "cell_type": "markdown",
   "metadata": {},
   "source": [
    "#### %dsl_query_loop\n",
    "\n",
    "The second command you may want to use is `dsl_query_loop`. This is similar to the one above, but it loops over all the pages of a result set until all results can be returned.\n",
    "\n",
    "It is useful to remember that the Dimensions DSL returns a maximum of 1000 records per query. So if your query returns 5000 records the only way to pull them out is to iterate through the results using the `limit` and `skip` operators (see the [docs](https://docs.dimensions.ai/dsl/language.html#limit-and-skip)). For simple queries with only one return statement, `dsl_query_loop` can do the looping for you in the background and return directly a `Result` object you can work this.\n",
    "\n",
    "> NOTE: loop queries must be used with caution as they can result in a large number of API calls"
   ]
  },
  {
   "cell_type": "code",
   "execution_count": null,
   "metadata": {},
   "outputs": [],
   "source": [
    "%%dsl_query_loop\n",
    "search publications\n",
    "where year in [2013:2018] and research_orgs=\"grid.258806.1\"\n",
    "return publications"
   ]
  },
  {
   "cell_type": "markdown",
   "metadata": {},
   "source": [
    "### Other commands"
   ]
  },
  {
   "cell_type": "markdown",
   "metadata": {},
   "source": [
    "> note: this section contains functionalities still being developed\n",
    "\n",
    "The `%dsl_schema` is a shortcut for the dsl `describe schema` command, which outputs the dsl grammar as a JSON dictionary."
   ]
  },
  {
   "cell_type": "code",
   "execution_count": 5,
   "metadata": {},
   "outputs": [
    {
     "data": {
      "application/json": {
       "entities": {
        "categories": {
         "fields": {
          "id": {
           "description": "Dimensions category id",
           "is_filter": true,
           "long_description": null,
           "name": "id",
           "type": "string"
          },
          "name": {
           "description": null,
           "is_filter": true,
           "long_description": null,
           "name": "name",
           "type": "string"
          }
         },
         "fieldsets": [
          "all",
          "basics"
         ]
        },
        "cities": {
         "fields": {
          "id": {
           "description": "Dimensions city id",
           "is_filter": true,
           "long_description": null,
           "name": "id",
           "type": "identifier"
          },
          "name": {
           "description": null,
           "is_filter": true,
           "long_description": null,
           "name": "name",
           "type": "string"
          }
         },
         "fieldsets": [
          "all",
          "basics"
         ]
        },
        "countries": {
         "fields": {
          "id": {
           "description": "Dimensions city id",
           "is_filter": true,
           "long_description": null,
           "name": "id",
           "type": "string"
          },
          "name": {
           "description": null,
           "is_filter": true,
           "long_description": null,
           "name": "name",
           "type": "string"
          }
         },
         "fieldsets": [
          "all",
          "basics"
         ]
        },
        "journals": {
         "fields": {
          "id": {
           "description": "Dimensions journal id",
           "is_filter": true,
           "long_description": null,
           "name": "id",
           "type": "string"
          },
          "title": {
           "description": null,
           "is_filter": true,
           "long_description": null,
           "name": "title",
           "type": "string"
          }
         },
         "fieldsets": [
          "all",
          "basics"
         ]
        },
        "open_access": {
         "fields": {
          "description": {
           "description": null,
           "is_filter": false,
           "long_description": null,
           "name": "description",
           "type": "text"
          },
          "id": {
           "description": null,
           "is_filter": true,
           "long_description": null,
           "name": "id",
           "type": "identifier"
          },
          "name": {
           "description": null,
           "is_filter": true,
           "long_description": null,
           "name": "name",
           "type": "string"
          }
         },
         "fieldsets": [
          "all",
          "basics"
         ]
        },
        "org_groups": {
         "fields": {
          "id": {
           "description": "Dimensions organization group id",
           "is_filter": true,
           "long_description": null,
           "name": "id",
           "type": "identifier"
          },
          "name": {
           "description": null,
           "is_filter": true,
           "long_description": null,
           "name": "name",
           "type": "string"
          }
         },
         "fieldsets": [
          "all",
          "basics"
         ]
        },
        "orgs": {
         "fields": {
          "acronym": {
           "description": null,
           "is_filter": true,
           "long_description": null,
           "name": "acronym",
           "type": "string"
          },
          "country_name": {
           "description": null,
           "is_filter": true,
           "long_description": null,
           "name": "country_name",
           "type": "string"
          },
          "id": {
           "description": "Dimensions organization id",
           "is_filter": true,
           "long_description": null,
           "name": "id",
           "type": "identifier"
          },
          "name": {
           "description": null,
           "is_filter": true,
           "long_description": null,
           "name": "name",
           "type": "string"
          }
         },
         "fieldsets": [
          "all",
          "basics"
         ]
        },
        "publications_entity": {
         "fields": {
          "doi": {
           "description": "Digital object identifier",
           "is_filter": true,
           "long_description": null,
           "name": "doi",
           "type": "identifier"
          },
          "id": {
           "description": "Dimensions publication id",
           "is_filter": true,
           "long_description": null,
           "name": "id",
           "type": "identifier"
          },
          "pmcid": {
           "description": "PubMed Central ID",
           "is_filter": true,
           "long_description": null,
           "name": "pmcid",
           "type": "identifier"
          },
          "pmid": {
           "description": "PubMed ID",
           "is_filter": true,
           "long_description": null,
           "name": "pmid",
           "type": "identifier"
          }
         },
         "fieldsets": [
          "all",
          "basics"
         ]
        },
        "states": {
         "fields": {
          "id": {
           "description": "Dimensions state id",
           "is_filter": true,
           "long_description": null,
           "name": "id",
           "type": "identifier"
          },
          "name": {
           "description": null,
           "is_filter": true,
           "long_description": null,
           "name": "name",
           "type": "string"
          }
         },
         "fieldsets": [
          "all",
          "basics"
         ]
        }
       },
       "sources": {
        "clinical_trials": {
         "fields": {
          "FOR": {
           "description": "ANZSRC Fields of Research classification",
           "is_entity": true,
           "is_facet": true,
           "is_filter": true,
           "long_description": null,
           "type": "categories"
          },
          "FOR_first": {
           "description": "Division level FOR",
           "is_entity": true,
           "is_facet": true,
           "is_filter": true,
           "long_description": null,
           "type": "categories"
          },
          "HRCS_HC": {
           "description": "HRCS - Health Categories",
           "is_entity": true,
           "is_facet": true,
           "is_filter": true,
           "long_description": null,
           "type": "categories"
          },
          "HRCS_RAC": {
           "description": "HRCS – Research Activity Codes",
           "is_entity": true,
           "is_facet": true,
           "is_filter": true,
           "long_description": null,
           "type": "categories"
          },
          "RCDC": {
           "description": "Research, Condition, and Disease Categorization",
           "is_entity": true,
           "is_facet": true,
           "is_filter": true,
           "long_description": null,
           "type": "categories"
          },
          "abstract": {
           "description": null,
           "is_entity": false,
           "is_facet": false,
           "is_filter": false,
           "long_description": null,
           "type": "text"
          },
          "active_years": {
           "description": null,
           "is_entity": false,
           "is_facet": true,
           "is_filter": true,
           "long_description": null,
           "type": "integer"
          },
          "associated_grant_ids": {
           "description": null,
           "is_entity": false,
           "is_facet": false,
           "is_filter": true,
           "long_description": null,
           "type": "identifier"
          },
          "conditions": {
           "description": null,
           "is_entity": false,
           "is_facet": false,
           "is_filter": true,
           "long_description": null,
           "type": "string"
          },
          "date": {
           "description": "Start date of a clinical trial",
           "is_entity": false,
           "is_facet": false,
           "is_filter": true,
           "long_description": null,
           "type": "timestamp"
          },
          "date_inserted": {
           "description": "Date when publication was inserted into Dimensions",
           "is_entity": false,
           "is_facet": false,
           "is_filter": true,
           "long_description": null,
           "type": "timestamp"
          },
          "funder_countries": {
           "description": null,
           "is_entity": true,
           "is_facet": true,
           "is_filter": true,
           "long_description": null,
           "type": "countries"
          },
          "funder_groups": {
           "description": null,
           "is_entity": true,
           "is_facet": true,
           "is_filter": true,
           "long_description": null,
           "type": "org_groups"
          },
          "funders": {
           "description": null,
           "is_entity": true,
           "is_facet": true,
           "is_filter": true,
           "long_description": null,
           "type": "orgs"
          },
          "gender": {
           "description": null,
           "is_entity": false,
           "is_facet": false,
           "is_filter": true,
           "long_description": null,
           "type": "string"
          },
          "id": {
           "description": "Dimensions clinical trial id",
           "is_entity": false,
           "is_facet": false,
           "is_filter": true,
           "long_description": null,
           "type": "identifier"
          },
          "investigators": {
           "description": "JSON with names, titles, & roles (no ids) of involved researchers for display purposes",
           "is_entity": false,
           "is_facet": false,
           "is_filter": false,
           "long_description": null,
           "type": "json"
          },
          "linkout": {
           "description": "URL linked to clinical trial",
           "is_entity": false,
           "is_facet": false,
           "is_filter": false,
           "long_description": null,
           "type": "text"
          },
          "organizations": {
           "description": "IDs of any organizations involved in any way, e.g. as sponsors or collaborators",
           "is_entity": true,
           "is_facet": true,
           "is_filter": true,
           "long_description": null,
           "type": "orgs"
          },
          "phase": {
           "description": null,
           "is_entity": false,
           "is_facet": false,
           "is_filter": true,
           "long_description": null,
           "type": "string"
          },
          "publication_ids": {
           "description": "Linked Publication IDs",
           "is_entity": false,
           "is_facet": false,
           "is_filter": true,
           "long_description": null,
           "type": "identifier"
          },
          "registry": {
           "description": null,
           "is_entity": false,
           "is_facet": false,
           "is_filter": true,
           "long_description": null,
           "type": "string"
          },
          "title": {
           "description": null,
           "is_entity": false,
           "is_facet": false,
           "is_filter": false,
           "long_description": null,
           "type": "text"
          }
         },
         "fieldsets": [
          "all",
          "basics",
          "extras"
         ],
         "metrics": {
          "count": {
           "description": "Total count",
           "name": "count"
          }
         },
         "search_fields": [
          "title_abstract_only",
          "title_only",
          "researchers",
          "full_data"
         ]
        },
        "grants": {
         "fields": {
          "FOR": {
           "description": "ANZSRC Fields of Research classification",
           "is_entity": true,
           "is_facet": true,
           "is_filter": true,
           "long_description": null,
           "type": "categories"
          },
          "FOR_first": {
           "description": "Division level FOR",
           "is_entity": true,
           "is_facet": true,
           "is_filter": true,
           "long_description": null,
           "type": "categories"
          },
          "HRCS_HC": {
           "description": "HRCS - Health Categories",
           "is_entity": true,
           "is_facet": true,
           "is_filter": true,
           "long_description": null,
           "type": "categories"
          },
          "HRCS_RAC": {
           "description": "HRCS – Research Activity Codes",
           "is_entity": true,
           "is_facet": true,
           "is_filter": true,
           "long_description": null,
           "type": "categories"
          },
          "RCDC": {
           "description": "Research, Condition, and Disease Categorization",
           "is_entity": true,
           "is_facet": true,
           "is_filter": true,
           "long_description": null,
           "type": "categories"
          },
          "abstract": {
           "description": null,
           "is_entity": false,
           "is_facet": false,
           "is_filter": false,
           "long_description": null,
           "type": "text"
          },
          "active_year": {
           "description": null,
           "is_entity": false,
           "is_facet": true,
           "is_filter": true,
           "long_description": null,
           "type": "integer"
          },
          "date_inserted": {
           "description": "Date when publication was inserted into Dimensions",
           "is_entity": false,
           "is_facet": false,
           "is_filter": true,
           "long_description": null,
           "type": "timestamp"
          },
          "end_date": {
           "description": null,
           "is_entity": false,
           "is_facet": false,
           "is_filter": true,
           "long_description": null,
           "type": "timestamp"
          },
          "funder_countries": {
           "description": "GeoNames code and name",
           "is_entity": true,
           "is_facet": true,
           "is_filter": true,
           "long_description": null,
           "type": "countries"
          },
          "funders": {
           "description": null,
           "is_entity": true,
           "is_facet": true,
           "is_filter": true,
           "long_description": null,
           "type": "orgs"
          },
          "funding_aud": {
           "description": "Funding amount awarded in AUD",
           "is_entity": false,
           "is_facet": false,
           "is_filter": true,
           "long_description": null,
           "type": "financial"
          },
          "funding_cad": {
           "description": "Funding amount awarded in CAD",
           "is_entity": false,
           "is_facet": false,
           "is_filter": true,
           "long_description": null,
           "type": "financial"
          },
          "funding_chf": {
           "description": "Funding amount awarded in CHF",
           "is_entity": false,
           "is_facet": false,
           "is_filter": true,
           "long_description": null,
           "type": "financial"
          },
          "funding_currency": {
           "description": "Original funding currency",
           "is_entity": false,
           "is_facet": true,
           "is_filter": true,
           "long_description": null,
           "type": "label"
          },
          "funding_eur": {
           "description": "Funding amount awarded in EUR",
           "is_entity": false,
           "is_facet": false,
           "is_filter": true,
           "long_description": null,
           "type": "financial"
          },
          "funding_gbp": {
           "description": "Funding amount awarded in GBP",
           "is_entity": false,
           "is_facet": false,
           "is_filter": true,
           "long_description": null,
           "type": "financial"
          },
          "funding_jpy": {
           "description": "Funding amount awarded in JPY",
           "is_entity": false,
           "is_facet": false,
           "is_filter": true,
           "long_description": null,
           "type": "financial"
          },
          "funding_nzd": {
           "description": "Funding amount awarded in NZD",
           "is_entity": false,
           "is_facet": false,
           "is_filter": true,
           "long_description": null,
           "type": "financial"
          },
          "funding_org_acronym": {
           "description": "Acronym for funding organisation",
           "is_entity": false,
           "is_facet": true,
           "is_filter": true,
           "long_description": null,
           "type": "label"
          },
          "funding_org_city": {
           "description": "City name for funding organisation",
           "is_entity": false,
           "is_facet": true,
           "is_filter": true,
           "long_description": null,
           "type": "label"
          },
          "funding_org_name": {
           "description": null,
           "is_entity": false,
           "is_facet": true,
           "is_filter": true,
           "long_description": null,
           "type": "label"
          },
          "funding_usd": {
           "description": "Funding amount awarded in USD",
           "is_entity": false,
           "is_facet": false,
           "is_filter": true,
           "long_description": null,
           "type": "financial"
          },
          "id": {
           "description": "Dimensions grant id",
           "is_entity": false,
           "is_facet": false,
           "is_filter": true,
           "long_description": null,
           "type": "identifier"
          },
          "language": {
           "description": "ISO 639-1 language codes",
           "is_entity": false,
           "is_facet": true,
           "is_filter": true,
           "long_description": null,
           "type": "label"
          },
          "linkout": {
           "description": "URL linked to grant",
           "is_entity": false,
           "is_facet": false,
           "is_filter": false,
           "long_description": null,
           "type": "text"
          },
          "original_title": {
           "description": null,
           "is_entity": false,
           "is_facet": false,
           "is_filter": false,
           "long_description": null,
           "type": "text"
          },
          "project_num": {
           "description": null,
           "is_entity": false,
           "is_facet": false,
           "is_filter": true,
           "long_description": null,
           "type": "identifier"
          },
          "research_org_cities": {
           "description": "GeoNames id and name",
           "is_entity": true,
           "is_facet": true,
           "is_filter": true,
           "long_description": null,
           "type": "cities"
          },
          "research_org_countries": {
           "description": "GeoNames code and name",
           "is_entity": true,
           "is_facet": true,
           "is_filter": true,
           "long_description": null,
           "type": "countries"
          },
          "research_org_name": {
           "description": "Name for research organisation",
           "is_entity": false,
           "is_facet": true,
           "is_filter": true,
           "long_description": null,
           "type": "label"
          },
          "research_org_state_codes": {
           "description": "ISO‌-3166-2 code and name",
           "is_entity": true,
           "is_facet": true,
           "is_filter": true,
           "long_description": null,
           "type": "states"
          },
          "research_orgs": {
           "description": null,
           "is_entity": true,
           "is_facet": true,
           "is_filter": true,
           "long_description": null,
           "type": "orgs"
          },
          "researcher_details": {
           "description": "Additional details about researchers including affiliations and role",
           "is_entity": false,
           "is_facet": false,
           "is_filter": false,
           "long_description": null,
           "type": "json"
          },
          "researchers": {
           "description": null,
           "is_entity": true,
           "is_facet": true,
           "is_filter": true,
           "long_description": null,
           "type": "researchers"
          },
          "resulting_publication_ids": {
           "description": "Resulting Publication IDs. Deprecated, use `publications` field `supporting_grant_ids` instead",
           "is_entity": false,
           "is_facet": false,
           "is_filter": true,
           "long_description": null,
           "type": "identifier"
          },
          "start_date": {
           "description": null,
           "is_entity": false,
           "is_facet": false,
           "is_filter": true,
           "long_description": null,
           "type": "timestamp"
          },
          "start_year": {
           "description": null,
           "is_entity": false,
           "is_facet": true,
           "is_filter": true,
           "long_description": null,
           "type": "integer"
          },
          "title": {
           "description": null,
           "is_entity": false,
           "is_facet": false,
           "is_filter": false,
           "long_description": null,
           "type": "text"
          },
          "title_language": {
           "description": "ISO 639-1 language code used in title",
           "is_entity": false,
           "is_facet": true,
           "is_filter": true,
           "long_description": null,
           "type": "label"
          }
         },
         "fieldsets": [
          "all",
          "basics",
          "extras"
         ],
         "metrics": {
          "count": {
           "description": "Total count",
           "name": "count"
          },
          "funding": {
           "description": null,
           "name": "funding"
          }
         },
         "search_fields": [
          "title_abstract_only",
          "title_only",
          "researchers",
          "full_data"
         ]
        },
        "patents": {
         "fields": {
          "FOR": {
           "description": "ANZSRC Fields of Research classification",
           "is_entity": true,
           "is_facet": true,
           "is_filter": true,
           "long_description": null,
           "type": "categories"
          },
          "FOR_first": {
           "description": "Division level FOR",
           "is_entity": true,
           "is_facet": true,
           "is_filter": true,
           "long_description": null,
           "type": "categories"
          },
          "HRCS_HC": {
           "description": "HRCS - Health Categories",
           "is_entity": true,
           "is_facet": true,
           "is_filter": true,
           "long_description": null,
           "type": "categories"
          },
          "HRCS_RAC": {
           "description": "HRCS – Research Activity Codes",
           "is_entity": true,
           "is_facet": true,
           "is_filter": true,
           "long_description": null,
           "type": "categories"
          },
          "RCDC": {
           "description": "Research, Condition, and Disease Categorization",
           "is_entity": true,
           "is_facet": true,
           "is_filter": true,
           "long_description": null,
           "type": "categories"
          },
          "abstract": {
           "description": null,
           "is_entity": false,
           "is_facet": false,
           "is_filter": false,
           "long_description": null,
           "type": "text"
          },
          "additional_filters": {
           "description": null,
           "is_entity": false,
           "is_facet": false,
           "is_filter": true,
           "long_description": null,
           "type": "string"
          },
          "assignee_cities": {
           "description": "GeoNames id and name",
           "is_entity": true,
           "is_facet": true,
           "is_filter": true,
           "long_description": null,
           "type": "cities"
          },
          "assignee_countries": {
           "description": "GeoNames code and name",
           "is_entity": true,
           "is_facet": true,
           "is_filter": true,
           "long_description": null,
           "type": "countries"
          },
          "assignee_names": {
           "description": null,
           "is_entity": false,
           "is_facet": false,
           "is_filter": true,
           "long_description": null,
           "type": "string"
          },
          "assignee_state_codes": {
           "description": "GeoNames code and name",
           "is_entity": true,
           "is_facet": true,
           "is_filter": true,
           "long_description": null,
           "type": "states"
          },
          "assignee_state_names": {
           "description": "GeoNames name",
           "is_entity": false,
           "is_facet": true,
           "is_filter": true,
           "long_description": null,
           "type": "label"
          },
          "assignees": {
           "description": null,
           "is_entity": true,
           "is_facet": true,
           "is_filter": true,
           "long_description": null,
           "type": "orgs"
          },
          "associated_grant_ids": {
           "description": null,
           "is_entity": false,
           "is_facet": false,
           "is_filter": true,
           "long_description": null,
           "type": "identifier"
          },
          "cited_by_ids": {
           "description": "Patents which cite this patent",
           "is_entity": false,
           "is_facet": false,
           "is_filter": true,
           "long_description": null,
           "type": "identifier"
          },
          "cpc": {
           "description": "Cooperative Patent Classification number for a patent",
           "is_entity": false,
           "is_facet": false,
           "is_filter": true,
           "long_description": null,
           "type": "identifier"
          },
          "current_assignee_names": {
           "description": null,
           "is_entity": false,
           "is_facet": false,
           "is_filter": true,
           "long_description": null,
           "type": "string"
          },
          "current_assignees": {
           "description": null,
           "is_entity": true,
           "is_facet": true,
           "is_filter": true,
           "long_description": null,
           "type": "orgs"
          },
          "date": {
           "description": "Date when the patent was filed",
           "is_entity": false,
           "is_facet": false,
           "is_filter": true,
           "long_description": null,
           "type": "timestamp"
          },
          "date_inserted": {
           "description": "Date when publication was inserted into Dimensions",
           "is_entity": false,
           "is_facet": false,
           "is_filter": true,
           "long_description": null,
           "type": "timestamp"
          },
          "expiration_date": {
           "description": null,
           "is_entity": false,
           "is_facet": false,
           "is_filter": true,
           "long_description": null,
           "type": "timestamp"
          },
          "filed_date": {
           "description": "Deprecated in favor of `filed_date`",
           "is_entity": false,
           "is_facet": false,
           "is_filter": true,
           "long_description": null,
           "type": "timestamp"
          },
          "filed_year": {
           "description": null,
           "is_entity": false,
           "is_facet": true,
           "is_filter": true,
           "long_description": null,
           "type": "integer"
          },
          "filing_status": {
           "description": null,
           "is_entity": false,
           "is_facet": false,
           "is_filter": true,
           "long_description": null,
           "type": "string"
          },
          "funder_groups": {
           "description": null,
           "is_entity": true,
           "is_facet": true,
           "is_filter": true,
           "long_description": null,
           "type": "org_groups"
          },
          "funders": {
           "description": null,
           "is_entity": true,
           "is_facet": true,
           "is_filter": true,
           "long_description": null,
           "type": "orgs"
          },
          "granted_year": {
           "description": null,
           "is_entity": false,
           "is_facet": true,
           "is_filter": true,
           "long_description": null,
           "type": "integer"
          },
          "id": {
           "description": "Dimensions patent id",
           "is_entity": false,
           "is_facet": false,
           "is_filter": true,
           "long_description": null,
           "type": "identifier"
          },
          "inventor_names": {
           "description": null,
           "is_entity": false,
           "is_facet": false,
           "is_filter": true,
           "long_description": null,
           "type": "string"
          },
          "ipcr": {
           "description": "International Patent Classification Reform number for a patent",
           "is_entity": false,
           "is_facet": false,
           "is_filter": true,
           "long_description": null,
           "type": "identifier"
          },
          "jurisdiction": {
           "description": null,
           "is_entity": false,
           "is_facet": false,
           "is_filter": true,
           "long_description": null,
           "type": "string"
          },
          "legal_status": {
           "description": null,
           "is_entity": false,
           "is_facet": false,
           "is_filter": true,
           "long_description": null,
           "type": "string"
          },
          "original_assignee_names": {
           "description": null,
           "is_entity": false,
           "is_facet": false,
           "is_filter": true,
           "long_description": null,
           "type": "string"
          },
          "original_assignees": {
           "description": null,
           "is_entity": true,
           "is_facet": true,
           "is_filter": true,
           "long_description": null,
           "type": "orgs"
          },
          "priority_date": {
           "description": null,
           "is_entity": false,
           "is_facet": false,
           "is_filter": true,
           "long_description": null,
           "type": "timestamp"
          },
          "publication_date": {
           "description": null,
           "is_entity": false,
           "is_facet": false,
           "is_filter": true,
           "long_description": null,
           "type": "timestamp"
          },
          "publication_ids": {
           "description": "Related publication IDs",
           "is_entity": false,
           "is_facet": false,
           "is_filter": true,
           "long_description": null,
           "type": "identifier"
          },
          "reference_ids": {
           "description": "Patents which are cited by this patent",
           "is_entity": false,
           "is_facet": false,
           "is_filter": true,
           "long_description": null,
           "type": "identifier"
          },
          "status": {
           "description": "Deprecated in favor of `legal_status`",
           "is_entity": false,
           "is_facet": false,
           "is_filter": true,
           "long_description": null,
           "type": "string"
          },
          "times_cited": {
           "description": null,
           "is_entity": false,
           "is_facet": false,
           "is_filter": true,
           "long_description": null,
           "type": "count"
          },
          "title": {
           "description": null,
           "is_entity": false,
           "is_facet": false,
           "is_filter": false,
           "long_description": null,
           "type": "text"
          },
          "year": {
           "description": null,
           "is_entity": false,
           "is_facet": true,
           "is_filter": true,
           "long_description": null,
           "type": "integer"
          }
         },
         "fieldsets": [
          "all",
          "basics",
          "extras"
         ],
         "metrics": {
          "count": {
           "description": "Total count",
           "name": "count"
          }
         },
         "search_fields": [
          "title_abstract_only",
          "title_only",
          "full_data"
         ]
        },
        "policy_documents": {
         "fields": {
          "FOR": {
           "description": "ANZSRC Fields of Research classification",
           "is_entity": true,
           "is_facet": true,
           "is_filter": true,
           "long_description": null,
           "type": "categories"
          },
          "FOR_first": {
           "description": "Division level FOR",
           "is_entity": true,
           "is_facet": true,
           "is_filter": true,
           "long_description": null,
           "type": "categories"
          },
          "HRCS_HC": {
           "description": "HRCS - Health Categories",
           "is_entity": true,
           "is_facet": true,
           "is_filter": true,
           "long_description": null,
           "type": "categories"
          },
          "HRCS_RAC": {
           "description": "HRCS – Research Activity Codes",
           "is_entity": true,
           "is_facet": true,
           "is_filter": true,
           "long_description": null,
           "type": "categories"
          },
          "RCDC": {
           "description": "Research, Condition, and Disease Categorization",
           "is_entity": true,
           "is_facet": true,
           "is_filter": true,
           "long_description": null,
           "type": "categories"
          },
          "broad_research_areas": {
           "description": null,
           "is_entity": true,
           "is_facet": true,
           "is_filter": true,
           "long_description": null,
           "type": "categories"
          },
          "city": {
           "description": null,
           "is_entity": true,
           "is_facet": true,
           "is_filter": true,
           "long_description": null,
           "type": "cities"
          },
          "country": {
           "description": null,
           "is_entity": true,
           "is_facet": true,
           "is_filter": true,
           "long_description": null,
           "type": "countries"
          },
          "date_inserted": {
           "description": "Date when policy document was inserted into Dimensions",
           "is_entity": false,
           "is_facet": false,
           "is_filter": true,
           "long_description": null,
           "type": "date"
          },
          "grid_id": {
           "description": null,
           "is_entity": false,
           "is_facet": false,
           "is_filter": true,
           "long_description": null,
           "type": "string"
          },
          "health_research_areas": {
           "description": null,
           "is_entity": true,
           "is_facet": true,
           "is_filter": true,
           "long_description": null,
           "type": "categories"
          },
          "id": {
           "description": "Dimensions policy document id",
           "is_entity": false,
           "is_facet": false,
           "is_filter": true,
           "long_description": null,
           "type": "identifier"
          },
          "linkout": {
           "description": null,
           "is_entity": false,
           "is_facet": false,
           "is_filter": false,
           "long_description": null,
           "type": "text"
          },
          "publication_ids": {
           "description": "Referenced Publication IDs",
           "is_entity": false,
           "is_facet": false,
           "is_filter": true,
           "long_description": null,
           "type": "identifier"
          },
          "source_name": {
           "description": null,
           "is_entity": false,
           "is_facet": false,
           "is_filter": true,
           "long_description": null,
           "type": "string"
          },
          "state": {
           "description": null,
           "is_entity": true,
           "is_facet": true,
           "is_filter": true,
           "long_description": null,
           "type": "states"
          },
          "title": {
           "description": null,
           "is_entity": false,
           "is_facet": false,
           "is_filter": true,
           "long_description": null,
           "type": "string"
          },
          "year": {
           "description": "Policy posted on year",
           "is_entity": false,
           "is_facet": true,
           "is_filter": true,
           "long_description": null,
           "type": "integer"
          }
         },
         "fieldsets": [
          "all",
          "basics",
          "categories"
         ],
         "metrics": {
          "count": {
           "description": "Total count",
           "name": "count"
          }
         },
         "search_fields": [
          "title_only",
          "full_data"
         ]
        },
        "publications": {
         "fields": {
          "FOR": {
           "description": "ANZSRC Fields of Research classification",
           "is_entity": true,
           "is_facet": true,
           "is_filter": true,
           "long_description": null,
           "type": "categories"
          },
          "FOR_first": {
           "description": "Division level FOR",
           "is_entity": true,
           "is_facet": true,
           "is_filter": true,
           "long_description": null,
           "type": "categories"
          },
          "HRCS_HC": {
           "description": "HRCS - Health Categories",
           "is_entity": true,
           "is_facet": true,
           "is_filter": true,
           "long_description": null,
           "type": "categories"
          },
          "HRCS_RAC": {
           "description": "HRCS – Research Activity Codes",
           "is_entity": true,
           "is_facet": true,
           "is_filter": true,
           "long_description": null,
           "type": "categories"
          },
          "RCDC": {
           "description": "Research, Condition, and Disease Categorization",
           "is_entity": true,
           "is_facet": true,
           "is_filter": true,
           "long_description": null,
           "type": "categories"
          },
          "altmetric": {
           "description": "Altmetric attention score. Does not support emptiness filters",
           "is_entity": false,
           "is_facet": false,
           "is_filter": true,
           "long_description": null,
           "type": "float"
          },
          "altmetric_id": {
           "description": "AltMetric Publication ID",
           "is_entity": false,
           "is_facet": false,
           "is_filter": true,
           "long_description": null,
           "type": "integer"
          },
          "author_affiliations": {
           "description": "List of JSON lists of researchers' first and last names and affiliations",
           "is_entity": false,
           "is_facet": false,
           "is_filter": false,
           "long_description": null,
           "type": "json"
          },
          "book_doi": {
           "description": null,
           "is_entity": false,
           "is_facet": false,
           "is_filter": true,
           "long_description": null,
           "type": "identifier"
          },
          "book_series_title": {
           "description": null,
           "is_entity": false,
           "is_facet": false,
           "is_filter": false,
           "long_description": null,
           "type": "text"
          },
          "book_title": {
           "description": null,
           "is_entity": false,
           "is_facet": false,
           "is_filter": false,
           "long_description": null,
           "type": "text"
          },
          "date": {
           "description": null,
           "is_entity": false,
           "is_facet": false,
           "is_filter": true,
           "long_description": null,
           "type": "date"
          },
          "date_inserted": {
           "description": "Date when publication was inserted into Dimensions",
           "is_entity": false,
           "is_facet": false,
           "is_filter": true,
           "long_description": null,
           "type": "timestamp"
          },
          "doi": {
           "description": "Digital object identifier",
           "is_entity": false,
           "is_facet": false,
           "is_filter": true,
           "long_description": null,
           "type": "identifier"
          },
          "field_citation_ratio": {
           "description": "Relative citation performance of article when compared to similarly aged articles in its area of research. Does not support emptiness filters",
           "is_entity": false,
           "is_facet": false,
           "is_filter": true,
           "long_description": null,
           "type": "float"
          },
          "funder_countries": {
           "description": null,
           "is_entity": true,
           "is_facet": true,
           "is_filter": true,
           "long_description": null,
           "type": "countries"
          },
          "funders": {
           "description": null,
           "is_entity": true,
           "is_facet": true,
           "is_filter": true,
           "long_description": null,
           "type": "orgs"
          },
          "id": {
           "description": "Dimensions publication id",
           "is_entity": false,
           "is_facet": false,
           "is_filter": true,
           "long_description": null,
           "type": "identifier"
          },
          "issn": {
           "description": "International Standard Serial Number",
           "is_entity": false,
           "is_facet": false,
           "is_filter": true,
           "long_description": null,
           "type": "string"
          },
          "issue": {
           "description": null,
           "is_entity": false,
           "is_facet": false,
           "is_filter": true,
           "long_description": null,
           "type": "string"
          },
          "journal": {
           "description": null,
           "is_entity": true,
           "is_facet": true,
           "is_filter": true,
           "long_description": null,
           "type": "journals"
          },
          "journal_lists": {
           "description": "Independent grouping of journals outside of Dimensions",
           "is_entity": false,
           "is_facet": false,
           "is_filter": true,
           "long_description": null,
           "type": "string"
          },
          "linkout": {
           "description": "URL address",
           "is_entity": false,
           "is_facet": false,
           "is_filter": false,
           "long_description": null,
           "type": "text"
          },
          "mesh_terms": {
           "description": "Medical Subject Heading terms as used in PubMed.",
           "is_entity": false,
           "is_facet": true,
           "is_filter": true,
           "long_description": null,
           "type": "label"
          },
          "open_access": {
           "description": "Open Access status for publication. Deprecated in favor of `open_access_categories`",
           "is_entity": false,
           "is_facet": false,
           "is_filter": true,
           "long_description": null,
           "type": "string"
          },
          "open_access_categories": {
           "description": "Open Access category for publication. Filtering on values is case sensitive.",
           "is_entity": true,
           "is_facet": true,
           "is_filter": true,
           "long_description": "Open Access category data for publications values:\n\n        * `oa_all`: Article is freely available\n        * `gold_pure`: Version Of Record (VOR) is free under an open licence from a full OA journal\n        * `gold_hybrid`: Version Of Record (VOR) is free under an open licence in a paid-access journal\n        * `gold_bronze`: Freely available on publisher page, but without an open licence\n        * `green_pub`: Free copy of published version in an OA repository\n        * `green_acc`: Free copy of accepted version in an OA repository\n        * `green_sub`: Free copy of submitted version, or where version is unknown, in an OA repository\n        * `closed`: No freely available copy has been identified",
           "type": "open_access"
          },
          "pages": {
           "description": null,
           "is_entity": false,
           "is_facet": false,
           "is_filter": true,
           "long_description": null,
           "type": "string"
          },
          "pmcid": {
           "description": "PubMed Central ID",
           "is_entity": false,
           "is_facet": false,
           "is_filter": true,
           "long_description": null,
           "type": "identifier"
          },
          "pmid": {
           "description": "PubMed ID",
           "is_entity": false,
           "is_facet": false,
           "is_filter": true,
           "long_description": null,
           "type": "identifier"
          },
          "proceedings_title": {
           "description": "Title of a conference corresponding to documents that are `type` of \"proceeding\"",
           "is_entity": false,
           "is_facet": false,
           "is_filter": false,
           "long_description": null,
           "type": "text"
          },
          "publisher": {
           "description": null,
           "is_entity": false,
           "is_facet": true,
           "is_filter": true,
           "long_description": null,
           "type": "label"
          },
          "recent_citations": {
           "description": "Number of citations received in the last two years. Does not support emptiness filters",
           "is_entity": false,
           "is_facet": false,
           "is_filter": true,
           "long_description": null,
           "type": "integer"
          },
          "references": {
           "description": "Dimensions publication id for documents referencing another document",
           "is_entity": false,
           "is_facet": false,
           "is_filter": true,
           "long_description": null,
           "type": "identifier"
          },
          "relative_citation_ratio": {
           "description": "Relative citation performance of an article when compared to others in its area of research. Does not support emptiness filters",
           "is_entity": false,
           "is_facet": false,
           "is_filter": true,
           "long_description": null,
           "type": "float"
          },
          "research_org_cities": {
           "description": "GeoNames id and name",
           "is_entity": true,
           "is_facet": true,
           "is_filter": true,
           "long_description": null,
           "type": "cities"
          },
          "research_org_countries": {
           "description": "Note: this field supports :ref:`filter-functions`: ``count``",
           "is_entity": true,
           "is_facet": true,
           "is_filter": true,
           "long_description": null,
           "type": "countries"
          },
          "research_org_country_names": {
           "description": "GeoNames country name",
           "is_entity": false,
           "is_facet": false,
           "is_filter": true,
           "long_description": null,
           "type": "string"
          },
          "research_org_state_codes": {
           "description": "ISO‌-3166-2 code and name",
           "is_entity": true,
           "is_facet": true,
           "is_filter": true,
           "long_description": null,
           "type": "states"
          },
          "research_org_state_names": {
           "description": "GeoNames state name",
           "is_entity": false,
           "is_facet": false,
           "is_filter": true,
           "long_description": null,
           "type": "string"
          },
          "research_orgs": {
           "description": "Note: this field supports :ref:`filter-functions`: ``count``",
           "is_entity": true,
           "is_facet": true,
           "is_filter": true,
           "long_description": null,
           "type": "orgs"
          },
          "researchers": {
           "description": "Note: this field supports :ref:`filter-functions`: ``count``",
           "is_entity": true,
           "is_facet": true,
           "is_filter": true,
           "long_description": null,
           "type": "researchers"
          },
          "supporting_grant_ids": {
           "description": null,
           "is_entity": false,
           "is_facet": false,
           "is_filter": true,
           "long_description": null,
           "type": "identifier"
          },
          "terms": {
           "description": "Extracted terms. See :ref:`for-terms` regarding searching terms vs phrases",
           "is_entity": false,
           "is_facet": false,
           "is_filter": false,
           "long_description": null,
           "type": "text"
          },
          "times_cited": {
           "description": "Number of citations. Does not support emptiness filters",
           "is_entity": false,
           "is_facet": false,
           "is_filter": true,
           "long_description": null,
           "type": "count"
          },
          "title": {
           "description": null,
           "is_entity": false,
           "is_facet": false,
           "is_filter": false,
           "long_description": null,
           "type": "text"
          },
          "type": {
           "description": "Publication type (article, chapter, proceeding, monograph, preprint or book)",
           "is_entity": false,
           "is_facet": false,
           "is_filter": true,
           "long_description": null,
           "type": "string"
          },
          "volume": {
           "description": null,
           "is_entity": false,
           "is_facet": false,
           "is_filter": true,
           "long_description": null,
           "type": "string"
          },
          "year": {
           "description": null,
           "is_entity": false,
           "is_facet": true,
           "is_filter": true,
           "long_description": null,
           "type": "integer"
          }
         },
         "fieldsets": [
          "all",
          "basics",
          "extras",
          "book"
         ],
         "metrics": {
          "altmetric_median": {
           "description": "Median Altmetric attention score",
           "name": "altmetric_median"
          },
          "citations_avg": {
           "description": "Arithmetic mean of citations",
           "name": "citations_avg"
          },
          "citations_median": {
           "description": "Median of citations",
           "name": "citations_median"
          },
          "citations_total": {
           "description": "Aggregated number of citations",
           "name": "citations_total"
          },
          "count": {
           "description": "Total count",
           "name": "count"
          },
          "fcr_gavg": {
           "description": "Geometric mean of `field_citation_ratio`",
           "name": "fcr_gavg"
          },
          "rcr_avg": {
           "description": "Arithmetic mean of `relative_citation_ratio`",
           "name": "rcr_avg"
          },
          "recent_citations_total": {
           "description": "For a given article, in a given year, the number of citations accrued in the last two year period. Single value stored per document, year window rolls over in July.",
           "name": "recent_citations_total"
          }
         },
         "search_fields": [
          "terms_experimental",
          "authors",
          "title_only",
          "title_abstract_only",
          "full_data",
          "noun_phrases",
          "researchers",
          "terms"
         ]
        },
        "researchers": {
         "fields": {
          "current_research_org": {
           "description": "The most recent research organization linked to the researcher",
           "is_entity": true,
           "is_facet": true,
           "is_filter": true,
           "long_description": null,
           "type": "orgs"
          },
          "first_grant_year": {
           "description": null,
           "is_entity": false,
           "is_facet": true,
           "is_filter": true,
           "long_description": null,
           "type": "integer"
          },
          "first_name": {
           "description": "First Name",
           "is_entity": false,
           "is_facet": false,
           "is_filter": true,
           "long_description": null,
           "type": "string"
          },
          "first_publication_year": {
           "description": null,
           "is_entity": false,
           "is_facet": true,
           "is_filter": true,
           "long_description": null,
           "type": "integer"
          },
          "id": {
           "description": "Dimensions researcher id",
           "is_entity": false,
           "is_facet": false,
           "is_filter": true,
           "long_description": null,
           "type": "identifier"
          },
          "last_grant_year": {
           "description": null,
           "is_entity": false,
           "is_facet": true,
           "is_filter": true,
           "long_description": null,
           "type": "integer"
          },
          "last_name": {
           "description": "Last Name",
           "is_entity": false,
           "is_facet": false,
           "is_filter": true,
           "long_description": null,
           "type": "string"
          },
          "last_publication_year": {
           "description": null,
           "is_entity": false,
           "is_facet": true,
           "is_filter": true,
           "long_description": null,
           "type": "integer"
          },
          "obsolete": {
           "description": "Indicates researcher ID status. 0 means that the researcher ID is still active, 1 means that the researcher ID is no longer valid. See redirect field for further information on invalid researcher IDs. Also see function ``check_researcher_ids`` in :ref:`supported-functions`.",
           "is_entity": false,
           "is_facet": false,
           "is_filter": true,
           "long_description": null,
           "type": "integer"
          },
          "orcid_id": {
           "description": "`ORCID <https://orcid.org/>`_ ID",
           "is_entity": false,
           "is_facet": false,
           "is_filter": false,
           "long_description": null,
           "type": "text"
          },
          "redirect": {
           "description": "Indicates status of obsolete researcher ID. Empty means that the researcher ID was deleted. Otherwise ID provided means that is the new id into which the obsolete one was redirected. If multiple values are available, it means that the original researcher ID was split into multiple IDs.",
           "is_entity": false,
           "is_facet": false,
           "is_filter": true,
           "long_description": null,
           "type": "identifier"
          },
          "research_orgs": {
           "description": "All research organizations linked to the researcher",
           "is_entity": true,
           "is_facet": true,
           "is_filter": true,
           "long_description": null,
           "type": "orgs"
          },
          "total_grants": {
           "description": "Total grants count",
           "is_entity": false,
           "is_facet": true,
           "is_filter": true,
           "long_description": null,
           "type": "integer"
          },
          "total_publications": {
           "description": "Total publications count",
           "is_entity": false,
           "is_facet": true,
           "is_filter": true,
           "long_description": null,
           "type": "integer"
          }
         },
         "fieldsets": [
          "all",
          "basics",
          "extras"
         ],
         "metrics": {
          "count": {
           "description": "Total count",
           "name": "count"
          }
         },
         "search_fields": [
          "researcher"
         ]
        }
       }
      },
      "text/plain": [
       "<dimcli.Result object #4421548016: [('sources', 6), ('entities', 9)]>"
      ]
     },
     "execution_count": 5,
     "metadata": {
      "application/json": {
       "expanded": false,
       "root": "root"
      }
     },
     "output_type": "execute_result"
    }
   ],
   "source": [
    "%dsl_schema"
   ]
  },
  {
   "cell_type": "code",
   "execution_count": null,
   "metadata": {},
   "outputs": [],
   "source": []
  }
 ],
 "metadata": {
  "kernelspec": {
   "display_name": "Python 3",
   "language": "python",
   "name": "python3"
  },
  "language_info": {
   "codemirror_mode": {
    "name": "ipython",
    "version": 3
   },
   "file_extension": ".py",
   "mimetype": "text/x-python",
   "name": "python",
   "nbconvert_exporter": "python",
   "pygments_lexer": "ipython3",
   "version": "3.7.3"
  }
 },
 "nbformat": 4,
 "nbformat_minor": 2
}
