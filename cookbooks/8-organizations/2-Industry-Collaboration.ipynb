{
 "cells": [
  {
   "cell_type": "markdown",
   "metadata": {
    "Collapsed": "false",
    "colab_type": "text",
    "id": "HR3lliQlRtBz"
   },
   "source": [
    "# Identifying Industry Collaborations \n",
    "\n",
    "Dimensions uses [GRID](https://grid.ac/) identifiers for institutions, hence you can take advantage of the GRID metadata with Dimensions queries.\n",
    "\n",
    "In this tutorial we identify all organizations that have an `industry` type. This list of organizations is then used to identify industry collaborations within a chosen academic institution. "
   ]
  },
  {
   "cell_type": "markdown",
   "metadata": {
    "Collapsed": "false",
    "colab_type": "text",
    "id": "hWgUrUXmFbWt"
   },
   "source": [
    "## Load libraries and log in"
   ]
  },
  {
   "cell_type": "code",
   "execution_count": 12,
   "metadata": {
    "Collapsed": "false",
    "colab": {
     "base_uri": "https://localhost:8080/",
     "height": 51
    },
    "colab_type": "code",
    "executionInfo": {
     "elapsed": 5021,
     "status": "ok",
     "timestamp": 1579781196930,
     "user": {
      "displayName": "Michele Pasin",
      "photoUrl": "https://lh3.googleusercontent.com/a-/AAuE7mBu8LVjIGgontF2Wax51BoL5KFx8esezX3bUmaa0g=s64",
      "userId": "10309320684375994511"
     },
     "user_tz": 0
    },
    "id": "lc_E9l__RtB2",
    "outputId": "4f47d8e1-9433-438d-9343-d1a546d341ca"
   },
   "outputs": [
    {
     "name": "stdout",
     "output_type": "stream",
     "text": [
      "DimCli v0.6.2.2 - Succesfully connected to <https://app.dimensions.ai> (method: dsl.ini file)\n"
     ]
    },
    {
     "data": {
      "text/html": [
       "        <script type=\"text/javascript\">\n",
       "        window.PlotlyConfig = {MathJaxConfig: 'local'};\n",
       "        if (window.MathJax) {MathJax.Hub.Config({SVG: {font: \"STIX-Web\"}});}\n",
       "        if (typeof require !== 'undefined') {\n",
       "        require.undef(\"plotly\");\n",
       "        requirejs.config({\n",
       "            paths: {\n",
       "                'plotly': ['https://cdn.plot.ly/plotly-latest.min']\n",
       "            }\n",
       "        });\n",
       "        require(['plotly'], function(Plotly) {\n",
       "            window._Plotly = Plotly;\n",
       "        });\n",
       "        }\n",
       "        </script>\n",
       "        "
      ]
     },
     "metadata": {},
     "output_type": "display_data"
    }
   ],
   "source": [
    "# @markdown # Get the API library and login \n",
    "# @markdown Click the 'play' button on the left (or shift+enter) after entering your API credentials\n",
    "\n",
    "username = \"\" #@param {type: \"string\"}\n",
    "password = \"\" #@pararun m {type: \"string\"}\n",
    "endpoint = \"https://app.dimensions.ai\" #@param {type: \"string\"}\n",
    "\n",
    "\n",
    "!pip install dimcli plotly tqdm -U --quiet \n",
    "import dimcli\n",
    "from dimcli.shortcuts import *\n",
    "dimcli.login(username, password, endpoint)\n",
    "dsl = dimcli.Dsl()\n",
    "\n",
    "#\n",
    "# load common libraries\n",
    "import time\n",
    "import sys\n",
    "import json\n",
    "import pandas as pd\n",
    "from pandas.io.json import json_normalize\n",
    "from tqdm.notebook import tqdm as progress\n",
    "\n",
    "#\n",
    "# charts libs\n",
    "import plotly.express as px\n",
    "if not 'google.colab' in sys.modules:\n",
    "  # make js dependecies local / needed by html exports \n",
    "  from plotly.offline import init_notebook_mode\n",
    "  init_notebook_mode(connected=True)"
   ]
  },
  {
   "cell_type": "markdown",
   "metadata": {
    "Collapsed": "false",
    "colab_type": "text",
    "id": "duzLFSrfFiuS"
   },
   "source": [
    "## Selecting a Research Organization"
   ]
  },
  {
   "cell_type": "markdown",
   "metadata": {
    "Collapsed": "false",
    "colab_type": "text",
    "id": "L6uIjSVnGRQV"
   },
   "source": [
    "For the purpose of this exercise, we will use [University of Trento, Italy (grid.11696.39)](https://grid.ac/institutes/grid.11696.39) as a starting point. \n",
    "You can pick any other GRID organization of course. Just use a [DSL query](https://digital-science.github.io/dimensions-api-lab/cookbooks/8-organizations/1-GRID-preview.html) or the [GRID website](https://grid.ac/institutes) to discover the ID of an organization that interests you. "
   ]
  },
  {
   "cell_type": "code",
   "execution_count": 13,
   "metadata": {
    "Collapsed": "false",
    "colab": {
     "base_uri": "https://localhost:8080/",
     "height": 68
    },
    "colab_type": "code",
    "executionInfo": {
     "elapsed": 1904,
     "status": "ok",
     "timestamp": 1579781638536,
     "user": {
      "displayName": "Michele Pasin",
      "photoUrl": "https://lh3.googleusercontent.com/a-/AAuE7mBu8LVjIGgontF2Wax51BoL5KFx8esezX3bUmaa0g=s64",
      "userId": "10309320684375994511"
     },
     "user_tz": 0
    },
    "id": "NpI6NJiyRtB6",
    "outputId": "c41a8a93-280b-4555-cbff-3376f013697f"
   },
   "outputs": [
    {
     "data": {
      "text/html": [
       "GRID: <a href=\"https://app.dimensions.ai/discover/publication?and_facet_research_org=grid.11696.39\" title=\"View selected organization in Dimensions\">grid.11696.39 - University of Trento &#x29c9;</a>"
      ],
      "text/plain": [
       "<IPython.core.display.HTML object>"
      ]
     },
     "metadata": {},
     "output_type": "display_data"
    },
    {
     "data": {
      "text/html": [
       "Time period: 2000 to 2016 <br /><br />"
      ],
      "text/plain": [
       "<IPython.core.display.HTML object>"
      ]
     },
     "metadata": {},
     "output_type": "display_data"
    }
   ],
   "source": [
    "#@markdown The main organization we are interested in:\n",
    "GRIDID = \"grid.11696.39\" #@param {type:\"string\"}\n",
    "    \n",
    "#@markdown The start/end year of publications used to extract industry collaborations:\n",
    "YEAR_START = 2000 #@param {type: \"slider\", min: 1950, max: 2020}\n",
    "YEAR_END = 2016 #@param {type: \"slider\", min: 1950, max: 2020}\n",
    "\n",
    "if YEAR_END < YEAR_START:\n",
    "  YEAR_END = YEAR_START\n",
    "\n",
    "#\n",
    "# gen link to Dimensions\n",
    "#\n",
    "try:\n",
    "  gridname = dsl.query(f\"\"\"search organizations where id=\"{GRIDID}\" return organizations[name]\"\"\", verbose=False).organizations[0]['name']\n",
    "except:\n",
    "  gridname = \"\"\n",
    "from IPython.core.display import display, HTML\n",
    "display(HTML('GRID: <a href=\"{}\" title=\"View selected organization in Dimensions\">{} - {} &#x29c9;</a>'.format(dimensions_url(GRIDID), GRIDID, gridname)))\n",
    "display(HTML('Time period: {} to {} <br /><br />'.format(YEAR_START, YEAR_END)))\n"
   ]
  },
  {
   "cell_type": "markdown",
   "metadata": {
    "Collapsed": "false",
    "colab_type": "text",
    "id": "VQrjZDFSRtB8"
   },
   "source": [
    "## Identifying industry collaborations\n",
    "\n",
    "First of all we want to extract all GRID orgs with `type='Company'` using the API. Then we will use this list of organizations to identify industry collaborators for our chosen institution. \n",
    "\n",
    "* We can use the [dimcli.query_iterative](https://digital-science.github.io/dimensions-api-lab/cookbooks/1-getting-started/1-Using-the-Dimcli-library-to-query-the-API.html#Iterative-querying-(loops)) method to automatically retrieve 'company' GRID orgs in batches of 1000. \n",
    "* NOTE this step retrieves several thousands records from the API so it may take a few minutes to complete."
   ]
  },
  {
   "cell_type": "code",
   "execution_count": 14,
   "metadata": {
    "Collapsed": "false",
    "colab": {
     "base_uri": "https://localhost:8080/",
     "height": 493
    },
    "colab_type": "code",
    "executionInfo": {
     "elapsed": 59335,
     "status": "ok",
     "timestamp": 1579781798323,
     "user": {
      "displayName": "Michele Pasin",
      "photoUrl": "https://lh3.googleusercontent.com/a-/AAuE7mBu8LVjIGgontF2Wax51BoL5KFx8esezX3bUmaa0g=s64",
      "userId": "10309320684375994511"
     },
     "user_tz": 0
    },
    "id": "QSHEcFC4RtB8",
    "outputId": "78c4c8d6-08ff-4f59-be52-8c1bb4af7108"
   },
   "outputs": [
    {
     "name": "stdout",
     "output_type": "stream",
     "text": [
      "1000 / 27890\n",
      "2000 / 27890\n",
      "3000 / 27890\n",
      "4000 / 27890\n",
      "5000 / 27890\n",
      "6000 / 27890\n",
      "7000 / 27890\n",
      "8000 / 27890\n",
      "9000 / 27890\n",
      "10000 / 27890\n",
      "11000 / 27890\n",
      "12000 / 27890\n",
      "13000 / 27890\n",
      "14000 / 27890\n",
      "15000 / 27890\n",
      "16000 / 27890\n",
      "17000 / 27890\n",
      "18000 / 27890\n",
      "19000 / 27890\n",
      "20000 / 27890\n",
      "21000 / 27890\n",
      "22000 / 27890\n",
      "23000 / 27890\n",
      "24000 / 27890\n",
      "25000 / 27890\n",
      "26000 / 27890\n",
      "27000 / 27890\n",
      "27890 / 27890\n"
     ]
    }
   ],
   "source": [
    "# get GRID IDs \n",
    "company_grids = dsl.query_iterative(\"\"\"search organizations where types=\"Company\" return organizations[id]\"\"\")"
   ]
  },
  {
   "cell_type": "markdown",
   "metadata": {
    "Collapsed": "false",
    "colab_type": "text",
    "id": "SCtE08NvRtB-"
   },
   "source": [
    "We can now set up a parametrized query that pulls Dimensions publications resulting from industry collaborations. \n",
    "\n",
    "Together with IDs, title and DOIs, the publications generated from industry collaborations should include citations counts and authors info, so that we can draw up some useful statistics based on these metadata later on."
   ]
  },
  {
   "cell_type": "code",
   "execution_count": 15,
   "metadata": {
    "Collapsed": "false",
    "colab": {},
    "colab_type": "code",
    "id": "1YJ3w9msRtB-"
   },
   "outputs": [],
   "source": [
    "query_template = \"\"\"\n",
    "    search publications\n",
    "       where\n",
    "        research_orgs.id = \"{}\"\n",
    "        and research_orgs.id in {}\n",
    "        and year in [{}:{}]\n",
    "    return publications[id+doi+type+times_cited+year+authors]\n",
    "    \"\"\""
   ]
  },
  {
   "cell_type": "code",
   "execution_count": 16,
   "metadata": {
    "Collapsed": "false",
    "colab": {
     "base_uri": "https://localhost:8080/",
     "height": 1000,
     "referenced_widgets": [
      "d1668f03e7854af4831bd4d14d4c1768",
      "3f9c64a18f114f2a855bf6adf729889c",
      "d0676b66f5ba4e3bb240acb480e72300",
      "e1363587f7da45329330cb0d05718e5d",
      "25a23859e0ce4aea9c7dcf292c8d4273",
      "297a076ea466401d8da0d7ebfdd9e9f5",
      "c28823c1a7ca4713ba1112d0ae657c82",
      "8e2793aae8c2441980cb7c2405a5f2e4"
     ]
    },
    "colab_type": "code",
    "executionInfo": {
     "elapsed": 464495,
     "status": "ok",
     "timestamp": 1579782230245,
     "user": {
      "displayName": "Michele Pasin",
      "photoUrl": "https://lh3.googleusercontent.com/a-/AAuE7mBu8LVjIGgontF2Wax51BoL5KFx8esezX3bUmaa0g=s64",
      "userId": "10309320684375994511"
     },
     "user_tz": 0
    },
    "id": "CC3lH99kRtCA",
    "outputId": "599cbfeb-5ccc-47dd-95cc-80450c9ea291"
   },
   "outputs": [
    {
     "name": "stdout",
     "output_type": "stream",
     "text": [
      "===\n",
      "Extracting grid.11696.39 publications with industry collaborators ...\n"
     ]
    },
    {
     "data": {
      "application/vnd.jupyter.widget-view+json": {
       "model_id": "31e799b79e2d4b63bef1cf80bba6478e",
       "version_major": 2,
       "version_minor": 0
      },
      "text/plain": [
       "HBox(children=(FloatProgress(value=0.0, max=140.0), HTML(value='')))"
      ]
     },
     "metadata": {},
     "output_type": "display_data"
    },
    {
     "name": "stdout",
     "output_type": "stream",
     "text": [
      "\n",
      "Unique Industry Publications found:  365\n",
      "===\n",
      "Preview:\n"
     ]
    },
    {
     "data": {
      "text/html": [
       "<div>\n",
       "<style scoped>\n",
       "    .dataframe tbody tr th:only-of-type {\n",
       "        vertical-align: middle;\n",
       "    }\n",
       "\n",
       "    .dataframe tbody tr th {\n",
       "        vertical-align: top;\n",
       "    }\n",
       "\n",
       "    .dataframe thead th {\n",
       "        text-align: right;\n",
       "    }\n",
       "</style>\n",
       "<table border=\"1\" class=\"dataframe\">\n",
       "  <thead>\n",
       "    <tr style=\"text-align: right;\">\n",
       "      <th></th>\n",
       "      <th>authors</th>\n",
       "      <th>doi</th>\n",
       "      <th>id</th>\n",
       "      <th>times_cited</th>\n",
       "      <th>type</th>\n",
       "      <th>year</th>\n",
       "    </tr>\n",
       "  </thead>\n",
       "  <tbody>\n",
       "    <tr>\n",
       "      <th>0</th>\n",
       "      <td>[{'first_name': 'LUCA DALLA', 'last_name': 'VA...</td>\n",
       "      <td>10.2495/sdp-v12-n3-552-558/020</td>\n",
       "      <td>pub.1087081818</td>\n",
       "      <td>NaN</td>\n",
       "      <td>chapter</td>\n",
       "      <td>2016</td>\n",
       "    </tr>\n",
       "    <tr>\n",
       "      <th>1</th>\n",
       "      <td>[{'first_name': 'M', 'last_name': 'Armano', 'c...</td>\n",
       "      <td>10.1088/0264-9381/33/23/235015</td>\n",
       "      <td>pub.1059063534</td>\n",
       "      <td>6.0</td>\n",
       "      <td>article</td>\n",
       "      <td>2016</td>\n",
       "    </tr>\n",
       "    <tr>\n",
       "      <th>2</th>\n",
       "      <td>[{'first_name': 'Andrey', 'last_name': 'Bogomo...</td>\n",
       "      <td>10.1140/epjds/s13688-016-0075-3</td>\n",
       "      <td>pub.1049398390</td>\n",
       "      <td>14.0</td>\n",
       "      <td>article</td>\n",
       "      <td>2016</td>\n",
       "    </tr>\n",
       "    <tr>\n",
       "      <th>3</th>\n",
       "      <td>[{'first_name': 'Simone', 'last_name': 'Centel...</td>\n",
       "      <td>10.1140/epjds/s13688-016-0064-6</td>\n",
       "      <td>pub.1033140941</td>\n",
       "      <td>10.0</td>\n",
       "      <td>article</td>\n",
       "      <td>2016</td>\n",
       "    </tr>\n",
       "    <tr>\n",
       "      <th>4</th>\n",
       "      <td>[{'first_name': 'Menachem', 'last_name': 'From...</td>\n",
       "      <td>10.1038/nn.4399</td>\n",
       "      <td>pub.1022499785</td>\n",
       "      <td>364.0</td>\n",
       "      <td>article</td>\n",
       "      <td>2016</td>\n",
       "    </tr>\n",
       "    <tr>\n",
       "      <th>5</th>\n",
       "      <td>[{'first_name': 'Irena', 'last_name': 'Zurnic'...</td>\n",
       "      <td>10.1186/s12977-016-0294-5</td>\n",
       "      <td>pub.1015046696</td>\n",
       "      <td>1.0</td>\n",
       "      <td>article</td>\n",
       "      <td>2016</td>\n",
       "    </tr>\n",
       "    <tr>\n",
       "      <th>6</th>\n",
       "      <td>[{'first_name': 'Michela', 'last_name': 'Pieva...</td>\n",
       "      <td>10.1016/j.jalz.2016.06.1013</td>\n",
       "      <td>pub.1049823866</td>\n",
       "      <td>NaN</td>\n",
       "      <td>article</td>\n",
       "      <td>2016</td>\n",
       "    </tr>\n",
       "    <tr>\n",
       "      <th>7</th>\n",
       "      <td>[{'first_name': 'Moira', 'last_name': 'Marizzo...</td>\n",
       "      <td>10.1016/j.jalz.2016.06.150</td>\n",
       "      <td>pub.1021703859</td>\n",
       "      <td>NaN</td>\n",
       "      <td>article</td>\n",
       "      <td>2016</td>\n",
       "    </tr>\n",
       "    <tr>\n",
       "      <th>8</th>\n",
       "      <td>[{'first_name': 'Moira', 'last_name': 'Marizzo...</td>\n",
       "      <td>10.1016/j.jalz.2016.07.095</td>\n",
       "      <td>pub.1046713237</td>\n",
       "      <td>NaN</td>\n",
       "      <td>article</td>\n",
       "      <td>2016</td>\n",
       "    </tr>\n",
       "    <tr>\n",
       "      <th>9</th>\n",
       "      <td>[{'first_name': 'Michela', 'last_name': 'Pieva...</td>\n",
       "      <td>10.1016/j.jalz.2016.06.152</td>\n",
       "      <td>pub.1032432292</td>\n",
       "      <td>NaN</td>\n",
       "      <td>article</td>\n",
       "      <td>2016</td>\n",
       "    </tr>\n",
       "  </tbody>\n",
       "</table>\n",
       "</div>"
      ],
      "text/plain": [
       "                                             authors  \\\n",
       "0  [{'first_name': 'LUCA DALLA', 'last_name': 'VA...   \n",
       "1  [{'first_name': 'M', 'last_name': 'Armano', 'c...   \n",
       "2  [{'first_name': 'Andrey', 'last_name': 'Bogomo...   \n",
       "3  [{'first_name': 'Simone', 'last_name': 'Centel...   \n",
       "4  [{'first_name': 'Menachem', 'last_name': 'From...   \n",
       "5  [{'first_name': 'Irena', 'last_name': 'Zurnic'...   \n",
       "6  [{'first_name': 'Michela', 'last_name': 'Pieva...   \n",
       "7  [{'first_name': 'Moira', 'last_name': 'Marizzo...   \n",
       "8  [{'first_name': 'Moira', 'last_name': 'Marizzo...   \n",
       "9  [{'first_name': 'Michela', 'last_name': 'Pieva...   \n",
       "\n",
       "                               doi              id  times_cited     type  year  \n",
       "0   10.2495/sdp-v12-n3-552-558/020  pub.1087081818          NaN  chapter  2016  \n",
       "1   10.1088/0264-9381/33/23/235015  pub.1059063534          6.0  article  2016  \n",
       "2  10.1140/epjds/s13688-016-0075-3  pub.1049398390         14.0  article  2016  \n",
       "3  10.1140/epjds/s13688-016-0064-6  pub.1033140941         10.0  article  2016  \n",
       "4                  10.1038/nn.4399  pub.1022499785        364.0  article  2016  \n",
       "5        10.1186/s12977-016-0294-5  pub.1015046696          1.0  article  2016  \n",
       "6      10.1016/j.jalz.2016.06.1013  pub.1049823866          NaN  article  2016  \n",
       "7       10.1016/j.jalz.2016.06.150  pub.1021703859          NaN  article  2016  \n",
       "8       10.1016/j.jalz.2016.07.095  pub.1046713237          NaN  article  2016  \n",
       "9       10.1016/j.jalz.2016.06.152  pub.1032432292          NaN  article  2016  "
      ]
     },
     "execution_count": 16,
     "metadata": {},
     "output_type": "execute_result"
    }
   ],
   "source": [
    "gridis = list(company_grids.as_dataframe()['id'])\n",
    "\n",
    "#\n",
    "# loop through all grids\n",
    "\n",
    "ITERATION_RECORDS = 1000  # Publication records per query iteration\n",
    "GRID_RECORDS = 200       # grid IDs per query\n",
    "VERBOSE = False          # set to True to view full extraction logs\n",
    "print(f\"===\\nExtracting {GRIDID} publications with industry collaborators ...\")\n",
    "print(\"Records per query : \", ITERATION_RECORDS)\n",
    "print(\"GRID IDs per query: \", GRID_RECORDS)\n",
    "results = []\n",
    "\n",
    "\n",
    "for chunk in progress(list(chunks_of(gridis, GRID_RECORDS))):\n",
    "    query = query_template.format(GRIDID, json.dumps(chunk), YEAR_START, YEAR_END)\n",
    "#     print(query)\n",
    "    data = dsl.query_iterative(query, verbose=VERBOSE, limit=ITERATION_RECORDS)\n",
    "    if data.errors:\n",
    "        print(\"==\\nIteration failed: due an error no data was extracted for this iteration. \\nTry adjusting the ITERATION_RECORDS or BATCHSIZE parameters and rerun the extraction.\")\n",
    "    else:\n",
    "        results += data.publications\n",
    "    time.sleep(0.5)\n",
    "    \n",
    "#\n",
    "# put the publication data into a dataframe, remove duplicates and save\n",
    "\n",
    "pubs = pd.DataFrame().from_dict(results)\n",
    "# print(\"===\\nIndustry Publications found: \", len(pubs))\n",
    "pubs.drop_duplicates(subset='id', inplace=True)\n",
    "print(\"Unique Industry Publications found: \", len(pubs))\n",
    "\n",
    "#\n",
    "# preview the data\n",
    "print(\"===\\nPreview:\")\n",
    "pubs.head(10)"
   ]
  },
  {
   "cell_type": "markdown",
   "metadata": {
    "Collapsed": "false",
    "colab_type": "text",
    "id": "8lt9o8cpRtCB"
   },
   "source": [
    "## Count of Publications per year from Industry Collaboration\n",
    "\n",
    "A simple histogram chart can tell us the rate of publications per year."
   ]
  },
  {
   "cell_type": "code",
   "execution_count": 17,
   "metadata": {
    "Collapsed": "false",
    "colab": {
     "base_uri": "https://localhost:8080/",
     "height": 542
    },
    "colab_type": "code",
    "executionInfo": {
     "elapsed": 465476,
     "status": "ok",
     "timestamp": 1579782231231,
     "user": {
      "displayName": "Michele Pasin",
      "photoUrl": "https://lh3.googleusercontent.com/a-/AAuE7mBu8LVjIGgontF2Wax51BoL5KFx8esezX3bUmaa0g=s64",
      "userId": "10309320684375994511"
     },
     "user_tz": 0
    },
    "id": "D0HynfwjRtCC",
    "outputId": "00823350-5cf7-4854-ebd1-26cb4050c75e"
   },
   "outputs": [
    {
     "data": {
      "application/vnd.plotly.v1+json": {
       "config": {
        "plotlyServerURL": "https://plot.ly"
       },
       "data": [
        {
         "alignmentgroup": "True",
         "bingroup": "x",
         "hoverlabel": {
          "namelength": 0
         },
         "hovertemplate": "type=chapter<br>year=%{x}<br>count of id=%{y}",
         "legendgroup": "chapter",
         "marker": {
          "color": "#636efa"
         },
         "name": "chapter",
         "offsetgroup": "chapter",
         "orientation": "v",
         "showlegend": true,
         "type": "histogram",
         "x": [
          2016,
          2016,
          2016,
          2015,
          2015,
          2014,
          2014,
          2014,
          2013,
          2013,
          2012,
          2012,
          2011,
          2011,
          2009,
          2009,
          2009,
          2009,
          2008,
          2003,
          2014,
          2010,
          2009,
          2012,
          2010,
          2006,
          2016,
          2015,
          2012,
          2012,
          2011,
          2009,
          2008,
          2002,
          2010,
          2001,
          2008,
          2015,
          2015,
          2009,
          2011,
          2010,
          2010,
          2013,
          2015,
          2013,
          2014,
          2016,
          2015,
          2014,
          2015,
          2009,
          2011,
          2009,
          2014,
          2015
         ],
         "xaxis": "x",
         "y": [
          "pub.1087081818",
          "pub.1041693713",
          "pub.1018281452",
          "pub.1035541831",
          "pub.1045731004",
          "pub.1001732758",
          "pub.1039685902",
          "pub.1040935032",
          "pub.1032771009",
          "pub.1011099944",
          "pub.1034422767",
          "pub.1019055843",
          "pub.1039836095",
          "pub.1027423564",
          "pub.1004515563",
          "pub.1044489635",
          "pub.1011487961",
          "pub.1050370289",
          "pub.1024502062",
          "pub.1033209802",
          "pub.1007138363",
          "pub.1010108147",
          "pub.1009912800",
          "pub.1031732089",
          "pub.1007337454",
          "pub.1053157847",
          "pub.1011807460",
          "pub.1086029465",
          "pub.1032006180",
          "pub.1024512608",
          "pub.1044087028",
          "pub.1017044583",
          "pub.1021992007",
          "pub.1027175117",
          "pub.1026958132",
          "pub.1047911809",
          "pub.1006203672",
          "pub.1013644551",
          "pub.1051459655",
          "pub.1025759572",
          "pub.1032856704",
          "pub.1008271010",
          "pub.1041409289",
          "pub.1047075076",
          "pub.1003129570",
          "pub.1018573775",
          "pub.1051105475",
          "pub.1017177915",
          "pub.1010047187",
          "pub.1029751628",
          "pub.1048975163",
          "pub.1024433199",
          "pub.1009656017",
          "pub.1035096830",
          "pub.1027440251",
          "pub.1017034732"
         ],
         "yaxis": "y"
        },
        {
         "alignmentgroup": "True",
         "bingroup": "x",
         "hoverlabel": {
          "namelength": 0
         },
         "hovertemplate": "type=article<br>year=%{x}<br>count of id=%{y}",
         "legendgroup": "article",
         "marker": {
          "color": "#EF553B"
         },
         "name": "article",
         "offsetgroup": "article",
         "orientation": "v",
         "showlegend": true,
         "type": "histogram",
         "x": [
          2016,
          2016,
          2016,
          2016,
          2016,
          2016,
          2016,
          2016,
          2016,
          2016,
          2016,
          2016,
          2016,
          2016,
          2016,
          2015,
          2015,
          2015,
          2015,
          2015,
          2015,
          2015,
          2015,
          2015,
          2015,
          2015,
          2015,
          2015,
          2014,
          2014,
          2014,
          2014,
          2014,
          2014,
          2014,
          2014,
          2013,
          2013,
          2013,
          2013,
          2013,
          2012,
          2012,
          2011,
          2011,
          2011,
          2011,
          2011,
          2011,
          2011,
          2010,
          2010,
          2009,
          2009,
          2009,
          2008,
          2008,
          2008,
          2007,
          2007,
          2007,
          2007,
          2006,
          2006,
          2006,
          2006,
          2005,
          2005,
          2004,
          2015,
          2015,
          2014,
          2014,
          2013,
          2013,
          2010,
          2007,
          2007,
          2006,
          2006,
          2003,
          2003,
          2002,
          2013,
          2009,
          2011,
          2010,
          2010,
          2009,
          2004,
          2002,
          2016,
          2016,
          2015,
          2014,
          2013,
          2011,
          2009,
          2007,
          2007,
          2007,
          2006,
          2000,
          2016,
          2015,
          2014,
          2009,
          2005,
          2004,
          2015,
          2014,
          2010,
          2005,
          2001,
          2016,
          2016,
          2016,
          2016,
          2014,
          2014,
          2014,
          2013,
          2012,
          2013,
          2008,
          2014,
          2016,
          2015,
          2011,
          2016,
          2014,
          2014,
          2011,
          2009,
          2004,
          2004,
          2010,
          2005,
          2016,
          2016,
          2015,
          2015,
          2014,
          2014,
          2013,
          2013,
          2011,
          2004,
          2016,
          2008,
          2003,
          2002,
          2016,
          2015,
          2014,
          2012,
          2016,
          2015,
          2015,
          2014,
          2011,
          2015,
          2012,
          2015,
          2009,
          2012,
          2011,
          2015,
          2011,
          2004,
          2003,
          2012,
          2016,
          2016,
          2014,
          2011,
          2015,
          2015,
          2009,
          2011,
          2014,
          2016,
          2011,
          2008,
          2008,
          2016,
          2016,
          2016,
          2016,
          2015,
          2010,
          2015,
          2013,
          2008,
          2008,
          2016,
          2015,
          2010,
          2016,
          2016,
          2016,
          2016,
          2016,
          2015,
          2015,
          2016,
          2014,
          2011,
          2011,
          2013,
          2012,
          2004,
          2016
         ],
         "xaxis": "x",
         "y": [
          "pub.1059063534",
          "pub.1049398390",
          "pub.1033140941",
          "pub.1022499785",
          "pub.1015046696",
          "pub.1049823866",
          "pub.1021703859",
          "pub.1046713237",
          "pub.1032432292",
          "pub.1038596770",
          "pub.1014099327",
          "pub.1001053038",
          "pub.1038299296",
          "pub.1020770250",
          "pub.1058406632",
          "pub.1026744197",
          "pub.1049101931",
          "pub.1061644333",
          "pub.1002479154",
          "pub.1016465665",
          "pub.1052522882",
          "pub.1032651237",
          "pub.1031150191",
          "pub.1033837350",
          "pub.1039368079",
          "pub.1025556065",
          "pub.1061517446",
          "pub.1083580627",
          "pub.1009360774",
          "pub.1061662808",
          "pub.1021026093",
          "pub.1061698293",
          "pub.1022947289",
          "pub.1061630267",
          "pub.1052132903",
          "pub.1027649894",
          "pub.1027441402",
          "pub.1063163216",
          "pub.1006873205",
          "pub.1012675437",
          "pub.1009091027",
          "pub.1001652271",
          "pub.1033320512",
          "pub.1034778719",
          "pub.1078458719",
          "pub.1030523460",
          "pub.1061477786",
          "pub.1035949425",
          "pub.1061403947",
          "pub.1000078818",
          "pub.1006236627",
          "pub.1017642044",
          "pub.1010005855",
          "pub.1009684421",
          "pub.1017067585",
          "pub.1061516144",
          "pub.1062968562",
          "pub.1018685799",
          "pub.1006397711",
          "pub.1030195057",
          "pub.1008069510",
          "pub.1025879292",
          "pub.1052947481",
          "pub.1042873931",
          "pub.1063122543",
          "pub.1041055492",
          "pub.1042516674",
          "pub.1031423435",
          "pub.1034973787",
          "pub.1038947860",
          "pub.1019661721",
          "pub.1035706656",
          "pub.1032114182",
          "pub.1013308440",
          "pub.1035067719",
          "pub.1031623067",
          "pub.1004387840",
          "pub.1029591591",
          "pub.1008092122",
          "pub.1094286999",
          "pub.1027435018",
          "pub.1013162611",
          "pub.1011293607",
          "pub.1003124649",
          "pub.1014284561",
          "pub.1032911439",
          "pub.1061657636",
          "pub.1061657693",
          "pub.1061623818",
          "pub.1019738765",
          "pub.1061097896",
          "pub.1061424466",
          "pub.1052040363",
          "pub.1018945654",
          "pub.1009945301",
          "pub.1061500819",
          "pub.1020511666",
          "pub.1061637405",
          "pub.1023969978",
          "pub.1016369117",
          "pub.1013370216",
          "pub.1001350927",
          "pub.1040096416",
          "pub.1002926789",
          "pub.1053196029",
          "pub.1001639145",
          "pub.1008188904",
          "pub.1047592219",
          "pub.1085407392",
          "pub.1061715907",
          "pub.1036406041",
          "pub.1034576089",
          "pub.1029016707",
          "pub.1008556049",
          "pub.1040302178",
          "pub.1005719578",
          "pub.1014863470",
          "pub.1007999467",
          "pub.1016461474",
          "pub.1007400371",
          "pub.1002452134",
          "pub.1008655945",
          "pub.1048027786",
          "pub.1060761527",
          "pub.1008066695",
          "pub.1061331556",
          "pub.1047914071",
          "pub.1020156551",
          "pub.1061297450",
          "pub.1017951738",
          "pub.1020559856",
          "pub.1017739591",
          "pub.1061297390",
          "pub.1033963698",
          "pub.1021790238",
          "pub.1000596821",
          "pub.1043597414",
          "pub.1017344670",
          "pub.1052860734",
          "pub.1037805234",
          "pub.1024418981",
          "pub.1050056160",
          "pub.1038040754",
          "pub.1023038573",
          "pub.1016708109",
          "pub.1024914585",
          "pub.1048112710",
          "pub.1061609141",
          "pub.1022289354",
          "pub.1006090427",
          "pub.1052474953",
          "pub.1023145133",
          "pub.1005980477",
          "pub.1041918694",
          "pub.1052260014",
          "pub.1025554361",
          "pub.1039379123",
          "pub.1025117311",
          "pub.1030154336",
          "pub.1025249314",
          "pub.1033549392",
          "pub.1016872266",
          "pub.1039093296",
          "pub.1030312808",
          "pub.1048284262",
          "pub.1013628804",
          "pub.1021607785",
          "pub.1014346087",
          "pub.1018267207",
          "pub.1067959567",
          "pub.1013957945",
          "pub.1028633035",
          "pub.1000863214",
          "pub.1050037575",
          "pub.1052883045",
          "pub.1036272642",
          "pub.1020000633",
          "pub.1061663043",
          "pub.1061388258",
          "pub.1019863730",
          "pub.1007930597",
          "pub.1055131228",
          "pub.1040183494",
          "pub.1036186334",
          "pub.1023412638",
          "pub.1055111638",
          "pub.1003009798",
          "pub.1018406236",
          "pub.1083574585",
          "pub.1025784836",
          "pub.1011916419",
          "pub.1061344783",
          "pub.1021554670",
          "pub.1049572922",
          "pub.1061610426",
          "pub.1061698604",
          "pub.1033523227",
          "pub.1041549687",
          "pub.1029976787",
          "pub.1009373720",
          "pub.1052696677",
          "pub.1036825325",
          "pub.1006571085",
          "pub.1038838576",
          "pub.1006323212",
          "pub.1020238148",
          "pub.1061411868",
          "pub.1044878190",
          "pub.1061421185",
          "pub.1061322293",
          "pub.1040645269",
          "pub.1002618918",
          "pub.1006764364"
         ],
         "yaxis": "y"
        },
        {
         "alignmentgroup": "True",
         "bingroup": "x",
         "hoverlabel": {
          "namelength": 0
         },
         "hovertemplate": "type=proceeding<br>year=%{x}<br>count of id=%{y}",
         "legendgroup": "proceeding",
         "marker": {
          "color": "#00cc96"
         },
         "name": "proceeding",
         "offsetgroup": "proceeding",
         "orientation": "v",
         "showlegend": true,
         "type": "histogram",
         "x": [
          2016,
          2016,
          2016,
          2015,
          2015,
          2015,
          2015,
          2014,
          2014,
          2014,
          2014,
          2014,
          2014,
          2013,
          2013,
          2013,
          2013,
          2013,
          2013,
          2013,
          2012,
          2012,
          2012,
          2011,
          2011,
          2010,
          2010,
          2010,
          2008,
          2008,
          2007,
          2014,
          2014,
          2014,
          2013,
          2012,
          2012,
          2014,
          2013,
          2012,
          2016,
          2014,
          2014,
          2012,
          2012,
          2011,
          2010,
          2010,
          2010,
          2016,
          2012,
          2011,
          2016,
          2008,
          2014,
          2013,
          2010,
          2009,
          2013,
          2014,
          2013,
          2004,
          2016,
          2010,
          2003,
          2012,
          2011,
          2009,
          2015,
          2013,
          2012,
          2010,
          2010,
          2014,
          2013,
          2014,
          2003,
          2010,
          2008,
          2007,
          2014,
          2013,
          2013,
          2012,
          2008,
          2007,
          2015,
          2014,
          2013,
          2013,
          2008,
          2010,
          2010,
          2009,
          2015,
          2011
         ],
         "xaxis": "x",
         "y": [
          "pub.1094950798",
          "pub.1094654631",
          "pub.1001093903",
          "pub.1093704730",
          "pub.1093254761",
          "pub.1093383710",
          "pub.1023089247",
          "pub.1093769205",
          "pub.1094834470",
          "pub.1094461720",
          "pub.1036564936",
          "pub.1015169629",
          "pub.1039988723",
          "pub.1095249432",
          "pub.1093359079",
          "pub.1093612759",
          "pub.1051036197",
          "pub.1047477746",
          "pub.1013451017",
          "pub.1032065062",
          "pub.1001382506",
          "pub.1000014148",
          "pub.1023213671",
          "pub.1093284811",
          "pub.1093769472",
          "pub.1093846191",
          "pub.1095269165",
          "pub.1028410070",
          "pub.1094430676",
          "pub.1093650099",
          "pub.1094863524",
          "pub.1093452830",
          "pub.1094437164",
          "pub.1094400157",
          "pub.1093195070",
          "pub.1093518633",
          "pub.1007477808",
          "pub.1095181753",
          "pub.1021070535",
          "pub.1048178440",
          "pub.1001653422",
          "pub.1094913168",
          "pub.1033777395",
          "pub.1028929519",
          "pub.1018665804",
          "pub.1028019246",
          "pub.1094464343",
          "pub.1014804321",
          "pub.1050318957",
          "pub.1094276302",
          "pub.1094155360",
          "pub.1094381427",
          "pub.1004896692",
          "pub.1094133050",
          "pub.1093353115",
          "pub.1094173713",
          "pub.1095495913",
          "pub.1094329545",
          "pub.1098583557",
          "pub.1018740773",
          "pub.1047988884",
          "pub.1096043682",
          "pub.1043978231",
          "pub.1019362433",
          "pub.1095152349",
          "pub.1035458287",
          "pub.1006664082",
          "pub.1095498211",
          "pub.1022368783",
          "pub.1099284874",
          "pub.1003911360",
          "pub.1013362293",
          "pub.1050725136",
          "pub.1010385813",
          "pub.1093650295",
          "pub.1093363187",
          "pub.1052601711",
          "pub.1093368148",
          "pub.1094862344",
          "pub.1093987423",
          "pub.1001541515",
          "pub.1094183150",
          "pub.1003545633",
          "pub.1001654235",
          "pub.1025154861",
          "pub.1009626332",
          "pub.1094140982",
          "pub.1093578819",
          "pub.1093215833",
          "pub.1094261972",
          "pub.1096084173",
          "pub.1094817901",
          "pub.1017667914",
          "pub.1094013836",
          "pub.1040216806",
          "pub.1093171677"
         ],
         "yaxis": "y"
        }
       ],
       "layout": {
        "autosize": true,
        "barmode": "relative",
        "legend": {
         "title": {
          "text": "type"
         },
         "tracegroupgap": 0
        },
        "template": {
         "data": {
          "bar": [
           {
            "error_x": {
             "color": "#2a3f5f"
            },
            "error_y": {
             "color": "#2a3f5f"
            },
            "marker": {
             "line": {
              "color": "#E5ECF6",
              "width": 0.5
             }
            },
            "type": "bar"
           }
          ],
          "barpolar": [
           {
            "marker": {
             "line": {
              "color": "#E5ECF6",
              "width": 0.5
             }
            },
            "type": "barpolar"
           }
          ],
          "carpet": [
           {
            "aaxis": {
             "endlinecolor": "#2a3f5f",
             "gridcolor": "white",
             "linecolor": "white",
             "minorgridcolor": "white",
             "startlinecolor": "#2a3f5f"
            },
            "baxis": {
             "endlinecolor": "#2a3f5f",
             "gridcolor": "white",
             "linecolor": "white",
             "minorgridcolor": "white",
             "startlinecolor": "#2a3f5f"
            },
            "type": "carpet"
           }
          ],
          "choropleth": [
           {
            "colorbar": {
             "outlinewidth": 0,
             "ticks": ""
            },
            "type": "choropleth"
           }
          ],
          "contour": [
           {
            "colorbar": {
             "outlinewidth": 0,
             "ticks": ""
            },
            "colorscale": [
             [
              0,
              "#0d0887"
             ],
             [
              0.1111111111111111,
              "#46039f"
             ],
             [
              0.2222222222222222,
              "#7201a8"
             ],
             [
              0.3333333333333333,
              "#9c179e"
             ],
             [
              0.4444444444444444,
              "#bd3786"
             ],
             [
              0.5555555555555556,
              "#d8576b"
             ],
             [
              0.6666666666666666,
              "#ed7953"
             ],
             [
              0.7777777777777778,
              "#fb9f3a"
             ],
             [
              0.8888888888888888,
              "#fdca26"
             ],
             [
              1,
              "#f0f921"
             ]
            ],
            "type": "contour"
           }
          ],
          "contourcarpet": [
           {
            "colorbar": {
             "outlinewidth": 0,
             "ticks": ""
            },
            "type": "contourcarpet"
           }
          ],
          "heatmap": [
           {
            "colorbar": {
             "outlinewidth": 0,
             "ticks": ""
            },
            "colorscale": [
             [
              0,
              "#0d0887"
             ],
             [
              0.1111111111111111,
              "#46039f"
             ],
             [
              0.2222222222222222,
              "#7201a8"
             ],
             [
              0.3333333333333333,
              "#9c179e"
             ],
             [
              0.4444444444444444,
              "#bd3786"
             ],
             [
              0.5555555555555556,
              "#d8576b"
             ],
             [
              0.6666666666666666,
              "#ed7953"
             ],
             [
              0.7777777777777778,
              "#fb9f3a"
             ],
             [
              0.8888888888888888,
              "#fdca26"
             ],
             [
              1,
              "#f0f921"
             ]
            ],
            "type": "heatmap"
           }
          ],
          "heatmapgl": [
           {
            "colorbar": {
             "outlinewidth": 0,
             "ticks": ""
            },
            "colorscale": [
             [
              0,
              "#0d0887"
             ],
             [
              0.1111111111111111,
              "#46039f"
             ],
             [
              0.2222222222222222,
              "#7201a8"
             ],
             [
              0.3333333333333333,
              "#9c179e"
             ],
             [
              0.4444444444444444,
              "#bd3786"
             ],
             [
              0.5555555555555556,
              "#d8576b"
             ],
             [
              0.6666666666666666,
              "#ed7953"
             ],
             [
              0.7777777777777778,
              "#fb9f3a"
             ],
             [
              0.8888888888888888,
              "#fdca26"
             ],
             [
              1,
              "#f0f921"
             ]
            ],
            "type": "heatmapgl"
           }
          ],
          "histogram": [
           {
            "marker": {
             "colorbar": {
              "outlinewidth": 0,
              "ticks": ""
             }
            },
            "type": "histogram"
           }
          ],
          "histogram2d": [
           {
            "colorbar": {
             "outlinewidth": 0,
             "ticks": ""
            },
            "colorscale": [
             [
              0,
              "#0d0887"
             ],
             [
              0.1111111111111111,
              "#46039f"
             ],
             [
              0.2222222222222222,
              "#7201a8"
             ],
             [
              0.3333333333333333,
              "#9c179e"
             ],
             [
              0.4444444444444444,
              "#bd3786"
             ],
             [
              0.5555555555555556,
              "#d8576b"
             ],
             [
              0.6666666666666666,
              "#ed7953"
             ],
             [
              0.7777777777777778,
              "#fb9f3a"
             ],
             [
              0.8888888888888888,
              "#fdca26"
             ],
             [
              1,
              "#f0f921"
             ]
            ],
            "type": "histogram2d"
           }
          ],
          "histogram2dcontour": [
           {
            "colorbar": {
             "outlinewidth": 0,
             "ticks": ""
            },
            "colorscale": [
             [
              0,
              "#0d0887"
             ],
             [
              0.1111111111111111,
              "#46039f"
             ],
             [
              0.2222222222222222,
              "#7201a8"
             ],
             [
              0.3333333333333333,
              "#9c179e"
             ],
             [
              0.4444444444444444,
              "#bd3786"
             ],
             [
              0.5555555555555556,
              "#d8576b"
             ],
             [
              0.6666666666666666,
              "#ed7953"
             ],
             [
              0.7777777777777778,
              "#fb9f3a"
             ],
             [
              0.8888888888888888,
              "#fdca26"
             ],
             [
              1,
              "#f0f921"
             ]
            ],
            "type": "histogram2dcontour"
           }
          ],
          "mesh3d": [
           {
            "colorbar": {
             "outlinewidth": 0,
             "ticks": ""
            },
            "type": "mesh3d"
           }
          ],
          "parcoords": [
           {
            "line": {
             "colorbar": {
              "outlinewidth": 0,
              "ticks": ""
             }
            },
            "type": "parcoords"
           }
          ],
          "pie": [
           {
            "automargin": true,
            "type": "pie"
           }
          ],
          "scatter": [
           {
            "marker": {
             "colorbar": {
              "outlinewidth": 0,
              "ticks": ""
             }
            },
            "type": "scatter"
           }
          ],
          "scatter3d": [
           {
            "line": {
             "colorbar": {
              "outlinewidth": 0,
              "ticks": ""
             }
            },
            "marker": {
             "colorbar": {
              "outlinewidth": 0,
              "ticks": ""
             }
            },
            "type": "scatter3d"
           }
          ],
          "scattercarpet": [
           {
            "marker": {
             "colorbar": {
              "outlinewidth": 0,
              "ticks": ""
             }
            },
            "type": "scattercarpet"
           }
          ],
          "scattergeo": [
           {
            "marker": {
             "colorbar": {
              "outlinewidth": 0,
              "ticks": ""
             }
            },
            "type": "scattergeo"
           }
          ],
          "scattergl": [
           {
            "marker": {
             "colorbar": {
              "outlinewidth": 0,
              "ticks": ""
             }
            },
            "type": "scattergl"
           }
          ],
          "scattermapbox": [
           {
            "marker": {
             "colorbar": {
              "outlinewidth": 0,
              "ticks": ""
             }
            },
            "type": "scattermapbox"
           }
          ],
          "scatterpolar": [
           {
            "marker": {
             "colorbar": {
              "outlinewidth": 0,
              "ticks": ""
             }
            },
            "type": "scatterpolar"
           }
          ],
          "scatterpolargl": [
           {
            "marker": {
             "colorbar": {
              "outlinewidth": 0,
              "ticks": ""
             }
            },
            "type": "scatterpolargl"
           }
          ],
          "scatterternary": [
           {
            "marker": {
             "colorbar": {
              "outlinewidth": 0,
              "ticks": ""
             }
            },
            "type": "scatterternary"
           }
          ],
          "surface": [
           {
            "colorbar": {
             "outlinewidth": 0,
             "ticks": ""
            },
            "colorscale": [
             [
              0,
              "#0d0887"
             ],
             [
              0.1111111111111111,
              "#46039f"
             ],
             [
              0.2222222222222222,
              "#7201a8"
             ],
             [
              0.3333333333333333,
              "#9c179e"
             ],
             [
              0.4444444444444444,
              "#bd3786"
             ],
             [
              0.5555555555555556,
              "#d8576b"
             ],
             [
              0.6666666666666666,
              "#ed7953"
             ],
             [
              0.7777777777777778,
              "#fb9f3a"
             ],
             [
              0.8888888888888888,
              "#fdca26"
             ],
             [
              1,
              "#f0f921"
             ]
            ],
            "type": "surface"
           }
          ],
          "table": [
           {
            "cells": {
             "fill": {
              "color": "#EBF0F8"
             },
             "line": {
              "color": "white"
             }
            },
            "header": {
             "fill": {
              "color": "#C8D4E3"
             },
             "line": {
              "color": "white"
             }
            },
            "type": "table"
           }
          ]
         },
         "layout": {
          "annotationdefaults": {
           "arrowcolor": "#2a3f5f",
           "arrowhead": 0,
           "arrowwidth": 1
          },
          "coloraxis": {
           "colorbar": {
            "outlinewidth": 0,
            "ticks": ""
           }
          },
          "colorscale": {
           "diverging": [
            [
             0,
             "#8e0152"
            ],
            [
             0.1,
             "#c51b7d"
            ],
            [
             0.2,
             "#de77ae"
            ],
            [
             0.3,
             "#f1b6da"
            ],
            [
             0.4,
             "#fde0ef"
            ],
            [
             0.5,
             "#f7f7f7"
            ],
            [
             0.6,
             "#e6f5d0"
            ],
            [
             0.7,
             "#b8e186"
            ],
            [
             0.8,
             "#7fbc41"
            ],
            [
             0.9,
             "#4d9221"
            ],
            [
             1,
             "#276419"
            ]
           ],
           "sequential": [
            [
             0,
             "#0d0887"
            ],
            [
             0.1111111111111111,
             "#46039f"
            ],
            [
             0.2222222222222222,
             "#7201a8"
            ],
            [
             0.3333333333333333,
             "#9c179e"
            ],
            [
             0.4444444444444444,
             "#bd3786"
            ],
            [
             0.5555555555555556,
             "#d8576b"
            ],
            [
             0.6666666666666666,
             "#ed7953"
            ],
            [
             0.7777777777777778,
             "#fb9f3a"
            ],
            [
             0.8888888888888888,
             "#fdca26"
            ],
            [
             1,
             "#f0f921"
            ]
           ],
           "sequentialminus": [
            [
             0,
             "#0d0887"
            ],
            [
             0.1111111111111111,
             "#46039f"
            ],
            [
             0.2222222222222222,
             "#7201a8"
            ],
            [
             0.3333333333333333,
             "#9c179e"
            ],
            [
             0.4444444444444444,
             "#bd3786"
            ],
            [
             0.5555555555555556,
             "#d8576b"
            ],
            [
             0.6666666666666666,
             "#ed7953"
            ],
            [
             0.7777777777777778,
             "#fb9f3a"
            ],
            [
             0.8888888888888888,
             "#fdca26"
            ],
            [
             1,
             "#f0f921"
            ]
           ]
          },
          "colorway": [
           "#636efa",
           "#EF553B",
           "#00cc96",
           "#ab63fa",
           "#FFA15A",
           "#19d3f3",
           "#FF6692",
           "#B6E880",
           "#FF97FF",
           "#FECB52"
          ],
          "font": {
           "color": "#2a3f5f"
          },
          "geo": {
           "bgcolor": "white",
           "lakecolor": "white",
           "landcolor": "#E5ECF6",
           "showlakes": true,
           "showland": true,
           "subunitcolor": "white"
          },
          "hoverlabel": {
           "align": "left"
          },
          "hovermode": "closest",
          "mapbox": {
           "style": "light"
          },
          "paper_bgcolor": "white",
          "plot_bgcolor": "#E5ECF6",
          "polar": {
           "angularaxis": {
            "gridcolor": "white",
            "linecolor": "white",
            "ticks": ""
           },
           "bgcolor": "#E5ECF6",
           "radialaxis": {
            "gridcolor": "white",
            "linecolor": "white",
            "ticks": ""
           }
          },
          "scene": {
           "xaxis": {
            "backgroundcolor": "#E5ECF6",
            "gridcolor": "white",
            "gridwidth": 2,
            "linecolor": "white",
            "showbackground": true,
            "ticks": "",
            "zerolinecolor": "white"
           },
           "yaxis": {
            "backgroundcolor": "#E5ECF6",
            "gridcolor": "white",
            "gridwidth": 2,
            "linecolor": "white",
            "showbackground": true,
            "ticks": "",
            "zerolinecolor": "white"
           },
           "zaxis": {
            "backgroundcolor": "#E5ECF6",
            "gridcolor": "white",
            "gridwidth": 2,
            "linecolor": "white",
            "showbackground": true,
            "ticks": "",
            "zerolinecolor": "white"
           }
          },
          "shapedefaults": {
           "line": {
            "color": "#2a3f5f"
           }
          },
          "ternary": {
           "aaxis": {
            "gridcolor": "white",
            "linecolor": "white",
            "ticks": ""
           },
           "baxis": {
            "gridcolor": "white",
            "linecolor": "white",
            "ticks": ""
           },
           "bgcolor": "#E5ECF6",
           "caxis": {
            "gridcolor": "white",
            "linecolor": "white",
            "ticks": ""
           }
          },
          "title": {
           "x": 0.05
          },
          "xaxis": {
           "automargin": true,
           "gridcolor": "white",
           "linecolor": "white",
           "ticks": "",
           "title": {
            "standoff": 15
           },
           "zerolinecolor": "white",
           "zerolinewidth": 2
          },
          "yaxis": {
           "automargin": true,
           "gridcolor": "white",
           "linecolor": "white",
           "ticks": "",
           "title": {
            "standoff": 15
           },
           "zerolinecolor": "white",
           "zerolinewidth": 2
          }
         }
        },
        "title": {
         "text": "Publications per year with industry collaborations for grid.11696.39"
        },
        "xaxis": {
         "anchor": "y",
         "autorange": true,
         "domain": [
          0,
          1
         ],
         "range": [
          1999.5,
          2016.5
         ],
         "title": {
          "text": "year"
         },
         "type": "linear"
        },
        "yaxis": {
         "anchor": "x",
         "autorange": true,
         "domain": [
          0,
          1
         ],
         "range": [
          0,
          58.94736842105263
         ],
         "title": {
          "text": "count of id"
         },
         "type": "linear"
        }
       }
      },
      "image/png": "[encoded data removed]",
      "text/html": [
       "<div>\n",
       "        \n",
       "        \n",
       "            <div id=\"870a4bbb-024d-4d78-8fe9-bf575a448c14\" class=\"plotly-graph-div\" style=\"height:525px; width:100%;\"></div>\n",
       "            <script type=\"text/javascript\">\n",
       "                require([\"plotly\"], function(Plotly) {\n",
       "                    window.PLOTLYENV=window.PLOTLYENV || {};\n",
       "                    \n",
       "                if (document.getElementById(\"870a4bbb-024d-4d78-8fe9-bf575a448c14\")) {\n",
       "                    Plotly.newPlot(\n",
       "                        '870a4bbb-024d-4d78-8fe9-bf575a448c14',\n",
       "                        [{\"alignmentgroup\": \"True\", \"bingroup\": \"x\", \"hoverlabel\": {\"namelength\": 0}, \"hovertemplate\": \"type=chapter<br>year=%{x}<br>count of id=%{y}\", \"legendgroup\": \"chapter\", \"marker\": {\"color\": \"#636efa\"}, \"name\": \"chapter\", \"offsetgroup\": \"chapter\", \"orientation\": \"v\", \"showlegend\": true, \"type\": \"histogram\", \"x\": [2016, 2016, 2016, 2015, 2015, 2014, 2014, 2014, 2013, 2013, 2012, 2012, 2011, 2011, 2009, 2009, 2009, 2009, 2008, 2003, 2014, 2010, 2009, 2012, 2010, 2006, 2016, 2015, 2012, 2012, 2011, 2009, 2008, 2002, 2010, 2001, 2008, 2015, 2015, 2009, 2011, 2010, 2010, 2013, 2015, 2013, 2014, 2016, 2015, 2014, 2015, 2009, 2011, 2009, 2014, 2015], \"xaxis\": \"x\", \"y\": [\"pub.1087081818\", \"pub.1041693713\", \"pub.1018281452\", \"pub.1035541831\", \"pub.1045731004\", \"pub.1001732758\", \"pub.1039685902\", \"pub.1040935032\", \"pub.1032771009\", \"pub.1011099944\", \"pub.1034422767\", \"pub.1019055843\", \"pub.1039836095\", \"pub.1027423564\", \"pub.1004515563\", \"pub.1044489635\", \"pub.1011487961\", \"pub.1050370289\", \"pub.1024502062\", \"pub.1033209802\", \"pub.1007138363\", \"pub.1010108147\", \"pub.1009912800\", \"pub.1031732089\", \"pub.1007337454\", \"pub.1053157847\", \"pub.1011807460\", \"pub.1086029465\", \"pub.1032006180\", \"pub.1024512608\", \"pub.1044087028\", \"pub.1017044583\", \"pub.1021992007\", \"pub.1027175117\", \"pub.1026958132\", \"pub.1047911809\", \"pub.1006203672\", \"pub.1013644551\", \"pub.1051459655\", \"pub.1025759572\", \"pub.1032856704\", \"pub.1008271010\", \"pub.1041409289\", \"pub.1047075076\", \"pub.1003129570\", \"pub.1018573775\", \"pub.1051105475\", \"pub.1017177915\", \"pub.1010047187\", \"pub.1029751628\", \"pub.1048975163\", \"pub.1024433199\", \"pub.1009656017\", \"pub.1035096830\", \"pub.1027440251\", \"pub.1017034732\"], \"yaxis\": \"y\"}, {\"alignmentgroup\": \"True\", \"bingroup\": \"x\", \"hoverlabel\": {\"namelength\": 0}, \"hovertemplate\": \"type=article<br>year=%{x}<br>count of id=%{y}\", \"legendgroup\": \"article\", \"marker\": {\"color\": \"#EF553B\"}, \"name\": \"article\", \"offsetgroup\": \"article\", \"orientation\": \"v\", \"showlegend\": true, \"type\": \"histogram\", \"x\": [2016, 2016, 2016, 2016, 2016, 2016, 2016, 2016, 2016, 2016, 2016, 2016, 2016, 2016, 2016, 2015, 2015, 2015, 2015, 2015, 2015, 2015, 2015, 2015, 2015, 2015, 2015, 2015, 2014, 2014, 2014, 2014, 2014, 2014, 2014, 2014, 2013, 2013, 2013, 2013, 2013, 2012, 2012, 2011, 2011, 2011, 2011, 2011, 2011, 2011, 2010, 2010, 2009, 2009, 2009, 2008, 2008, 2008, 2007, 2007, 2007, 2007, 2006, 2006, 2006, 2006, 2005, 2005, 2004, 2015, 2015, 2014, 2014, 2013, 2013, 2010, 2007, 2007, 2006, 2006, 2003, 2003, 2002, 2013, 2009, 2011, 2010, 2010, 2009, 2004, 2002, 2016, 2016, 2015, 2014, 2013, 2011, 2009, 2007, 2007, 2007, 2006, 2000, 2016, 2015, 2014, 2009, 2005, 2004, 2015, 2014, 2010, 2005, 2001, 2016, 2016, 2016, 2016, 2014, 2014, 2014, 2013, 2012, 2013, 2008, 2014, 2016, 2015, 2011, 2016, 2014, 2014, 2011, 2009, 2004, 2004, 2010, 2005, 2016, 2016, 2015, 2015, 2014, 2014, 2013, 2013, 2011, 2004, 2016, 2008, 2003, 2002, 2016, 2015, 2014, 2012, 2016, 2015, 2015, 2014, 2011, 2015, 2012, 2015, 2009, 2012, 2011, 2015, 2011, 2004, 2003, 2012, 2016, 2016, 2014, 2011, 2015, 2015, 2009, 2011, 2014, 2016, 2011, 2008, 2008, 2016, 2016, 2016, 2016, 2015, 2010, 2015, 2013, 2008, 2008, 2016, 2015, 2010, 2016, 2016, 2016, 2016, 2016, 2015, 2015, 2016, 2014, 2011, 2011, 2013, 2012, 2004, 2016], \"xaxis\": \"x\", \"y\": [\"pub.1059063534\", \"pub.1049398390\", \"pub.1033140941\", \"pub.1022499785\", \"pub.1015046696\", \"pub.1049823866\", \"pub.1021703859\", \"pub.1046713237\", \"pub.1032432292\", \"pub.1038596770\", \"pub.1014099327\", \"pub.1001053038\", \"pub.1038299296\", \"pub.1020770250\", \"pub.1058406632\", \"pub.1026744197\", \"pub.1049101931\", \"pub.1061644333\", \"pub.1002479154\", \"pub.1016465665\", \"pub.1052522882\", \"pub.1032651237\", \"pub.1031150191\", \"pub.1033837350\", \"pub.1039368079\", \"pub.1025556065\", \"pub.1061517446\", \"pub.1083580627\", \"pub.1009360774\", \"pub.1061662808\", \"pub.1021026093\", \"pub.1061698293\", \"pub.1022947289\", \"pub.1061630267\", \"pub.1052132903\", \"pub.1027649894\", \"pub.1027441402\", \"pub.1063163216\", \"pub.1006873205\", \"pub.1012675437\", \"pub.1009091027\", \"pub.1001652271\", \"pub.1033320512\", \"pub.1034778719\", \"pub.1078458719\", \"pub.1030523460\", \"pub.1061477786\", \"pub.1035949425\", \"pub.1061403947\", \"pub.1000078818\", \"pub.1006236627\", \"pub.1017642044\", \"pub.1010005855\", \"pub.1009684421\", \"pub.1017067585\", \"pub.1061516144\", \"pub.1062968562\", \"pub.1018685799\", \"pub.1006397711\", \"pub.1030195057\", \"pub.1008069510\", \"pub.1025879292\", \"pub.1052947481\", \"pub.1042873931\", \"pub.1063122543\", \"pub.1041055492\", \"pub.1042516674\", \"pub.1031423435\", \"pub.1034973787\", \"pub.1038947860\", \"pub.1019661721\", \"pub.1035706656\", \"pub.1032114182\", \"pub.1013308440\", \"pub.1035067719\", \"pub.1031623067\", \"pub.1004387840\", \"pub.1029591591\", \"pub.1008092122\", \"pub.1094286999\", \"pub.1027435018\", \"pub.1013162611\", \"pub.1011293607\", \"pub.1003124649\", \"pub.1014284561\", \"pub.1032911439\", \"pub.1061657636\", \"pub.1061657693\", \"pub.1061623818\", \"pub.1019738765\", \"pub.1061097896\", \"pub.1061424466\", \"pub.1052040363\", \"pub.1018945654\", \"pub.1009945301\", \"pub.1061500819\", \"pub.1020511666\", \"pub.1061637405\", \"pub.1023969978\", \"pub.1016369117\", \"pub.1013370216\", \"pub.1001350927\", \"pub.1040096416\", \"pub.1002926789\", \"pub.1053196029\", \"pub.1001639145\", \"pub.1008188904\", \"pub.1047592219\", \"pub.1085407392\", \"pub.1061715907\", \"pub.1036406041\", \"pub.1034576089\", \"pub.1029016707\", \"pub.1008556049\", \"pub.1040302178\", \"pub.1005719578\", \"pub.1014863470\", \"pub.1007999467\", \"pub.1016461474\", \"pub.1007400371\", \"pub.1002452134\", \"pub.1008655945\", \"pub.1048027786\", \"pub.1060761527\", \"pub.1008066695\", \"pub.1061331556\", \"pub.1047914071\", \"pub.1020156551\", \"pub.1061297450\", \"pub.1017951738\", \"pub.1020559856\", \"pub.1017739591\", \"pub.1061297390\", \"pub.1033963698\", \"pub.1021790238\", \"pub.1000596821\", \"pub.1043597414\", \"pub.1017344670\", \"pub.1052860734\", \"pub.1037805234\", \"pub.1024418981\", \"pub.1050056160\", \"pub.1038040754\", \"pub.1023038573\", \"pub.1016708109\", \"pub.1024914585\", \"pub.1048112710\", \"pub.1061609141\", \"pub.1022289354\", \"pub.1006090427\", \"pub.1052474953\", \"pub.1023145133\", \"pub.1005980477\", \"pub.1041918694\", \"pub.1052260014\", \"pub.1025554361\", \"pub.1039379123\", \"pub.1025117311\", \"pub.1030154336\", \"pub.1025249314\", \"pub.1033549392\", \"pub.1016872266\", \"pub.1039093296\", \"pub.1030312808\", \"pub.1048284262\", \"pub.1013628804\", \"pub.1021607785\", \"pub.1014346087\", \"pub.1018267207\", \"pub.1067959567\", \"pub.1013957945\", \"pub.1028633035\", \"pub.1000863214\", \"pub.1050037575\", \"pub.1052883045\", \"pub.1036272642\", \"pub.1020000633\", \"pub.1061663043\", \"pub.1061388258\", \"pub.1019863730\", \"pub.1007930597\", \"pub.1055131228\", \"pub.1040183494\", \"pub.1036186334\", \"pub.1023412638\", \"pub.1055111638\", \"pub.1003009798\", \"pub.1018406236\", \"pub.1083574585\", \"pub.1025784836\", \"pub.1011916419\", \"pub.1061344783\", \"pub.1021554670\", \"pub.1049572922\", \"pub.1061610426\", \"pub.1061698604\", \"pub.1033523227\", \"pub.1041549687\", \"pub.1029976787\", \"pub.1009373720\", \"pub.1052696677\", \"pub.1036825325\", \"pub.1006571085\", \"pub.1038838576\", \"pub.1006323212\", \"pub.1020238148\", \"pub.1061411868\", \"pub.1044878190\", \"pub.1061421185\", \"pub.1061322293\", \"pub.1040645269\", \"pub.1002618918\", \"pub.1006764364\"], \"yaxis\": \"y\"}, {\"alignmentgroup\": \"True\", \"bingroup\": \"x\", \"hoverlabel\": {\"namelength\": 0}, \"hovertemplate\": \"type=proceeding<br>year=%{x}<br>count of id=%{y}\", \"legendgroup\": \"proceeding\", \"marker\": {\"color\": \"#00cc96\"}, \"name\": \"proceeding\", \"offsetgroup\": \"proceeding\", \"orientation\": \"v\", \"showlegend\": true, \"type\": \"histogram\", \"x\": [2016, 2016, 2016, 2015, 2015, 2015, 2015, 2014, 2014, 2014, 2014, 2014, 2014, 2013, 2013, 2013, 2013, 2013, 2013, 2013, 2012, 2012, 2012, 2011, 2011, 2010, 2010, 2010, 2008, 2008, 2007, 2014, 2014, 2014, 2013, 2012, 2012, 2014, 2013, 2012, 2016, 2014, 2014, 2012, 2012, 2011, 2010, 2010, 2010, 2016, 2012, 2011, 2016, 2008, 2014, 2013, 2010, 2009, 2013, 2014, 2013, 2004, 2016, 2010, 2003, 2012, 2011, 2009, 2015, 2013, 2012, 2010, 2010, 2014, 2013, 2014, 2003, 2010, 2008, 2007, 2014, 2013, 2013, 2012, 2008, 2007, 2015, 2014, 2013, 2013, 2008, 2010, 2010, 2009, 2015, 2011], \"xaxis\": \"x\", \"y\": [\"pub.1094950798\", \"pub.1094654631\", \"pub.1001093903\", \"pub.1093704730\", \"pub.1093254761\", \"pub.1093383710\", \"pub.1023089247\", \"pub.1093769205\", \"pub.1094834470\", \"pub.1094461720\", \"pub.1036564936\", \"pub.1015169629\", \"pub.1039988723\", \"pub.1095249432\", \"pub.1093359079\", \"pub.1093612759\", \"pub.1051036197\", \"pub.1047477746\", \"pub.1013451017\", \"pub.1032065062\", \"pub.1001382506\", \"pub.1000014148\", \"pub.1023213671\", \"pub.1093284811\", \"pub.1093769472\", \"pub.1093846191\", \"pub.1095269165\", \"pub.1028410070\", \"pub.1094430676\", \"pub.1093650099\", \"pub.1094863524\", \"pub.1093452830\", \"pub.1094437164\", \"pub.1094400157\", \"pub.1093195070\", \"pub.1093518633\", \"pub.1007477808\", \"pub.1095181753\", \"pub.1021070535\", \"pub.1048178440\", \"pub.1001653422\", \"pub.1094913168\", \"pub.1033777395\", \"pub.1028929519\", \"pub.1018665804\", \"pub.1028019246\", \"pub.1094464343\", \"pub.1014804321\", \"pub.1050318957\", \"pub.1094276302\", \"pub.1094155360\", \"pub.1094381427\", \"pub.1004896692\", \"pub.1094133050\", \"pub.1093353115\", \"pub.1094173713\", \"pub.1095495913\", \"pub.1094329545\", \"pub.1098583557\", \"pub.1018740773\", \"pub.1047988884\", \"pub.1096043682\", \"pub.1043978231\", \"pub.1019362433\", \"pub.1095152349\", \"pub.1035458287\", \"pub.1006664082\", \"pub.1095498211\", \"pub.1022368783\", \"pub.1099284874\", \"pub.1003911360\", \"pub.1013362293\", \"pub.1050725136\", \"pub.1010385813\", \"pub.1093650295\", \"pub.1093363187\", \"pub.1052601711\", \"pub.1093368148\", \"pub.1094862344\", \"pub.1093987423\", \"pub.1001541515\", \"pub.1094183150\", \"pub.1003545633\", \"pub.1001654235\", \"pub.1025154861\", \"pub.1009626332\", \"pub.1094140982\", \"pub.1093578819\", \"pub.1093215833\", \"pub.1094261972\", \"pub.1096084173\", \"pub.1094817901\", \"pub.1017667914\", \"pub.1094013836\", \"pub.1040216806\", \"pub.1093171677\"], \"yaxis\": \"y\"}],\n",
       "                        {\"barmode\": \"relative\", \"legend\": {\"title\": {\"text\": \"type\"}, \"tracegroupgap\": 0}, \"template\": {\"data\": {\"bar\": [{\"error_x\": {\"color\": \"#2a3f5f\"}, \"error_y\": {\"color\": \"#2a3f5f\"}, \"marker\": {\"line\": {\"color\": \"#E5ECF6\", \"width\": 0.5}}, \"type\": \"bar\"}], \"barpolar\": [{\"marker\": {\"line\": {\"color\": \"#E5ECF6\", \"width\": 0.5}}, \"type\": \"barpolar\"}], \"carpet\": [{\"aaxis\": {\"endlinecolor\": \"#2a3f5f\", \"gridcolor\": \"white\", \"linecolor\": \"white\", \"minorgridcolor\": \"white\", \"startlinecolor\": \"#2a3f5f\"}, \"baxis\": {\"endlinecolor\": \"#2a3f5f\", \"gridcolor\": \"white\", \"linecolor\": \"white\", \"minorgridcolor\": \"white\", \"startlinecolor\": \"#2a3f5f\"}, \"type\": \"carpet\"}], \"choropleth\": [{\"colorbar\": {\"outlinewidth\": 0, \"ticks\": \"\"}, \"type\": \"choropleth\"}], \"contour\": [{\"colorbar\": {\"outlinewidth\": 0, \"ticks\": \"\"}, \"colorscale\": [[0.0, \"#0d0887\"], [0.1111111111111111, \"#46039f\"], [0.2222222222222222, \"#7201a8\"], [0.3333333333333333, \"#9c179e\"], [0.4444444444444444, \"#bd3786\"], [0.5555555555555556, \"#d8576b\"], [0.6666666666666666, \"#ed7953\"], [0.7777777777777778, \"#fb9f3a\"], [0.8888888888888888, \"#fdca26\"], [1.0, \"#f0f921\"]], \"type\": \"contour\"}], \"contourcarpet\": [{\"colorbar\": {\"outlinewidth\": 0, \"ticks\": \"\"}, \"type\": \"contourcarpet\"}], \"heatmap\": [{\"colorbar\": {\"outlinewidth\": 0, \"ticks\": \"\"}, \"colorscale\": [[0.0, \"#0d0887\"], [0.1111111111111111, \"#46039f\"], [0.2222222222222222, \"#7201a8\"], [0.3333333333333333, \"#9c179e\"], [0.4444444444444444, \"#bd3786\"], [0.5555555555555556, \"#d8576b\"], [0.6666666666666666, \"#ed7953\"], [0.7777777777777778, \"#fb9f3a\"], [0.8888888888888888, \"#fdca26\"], [1.0, \"#f0f921\"]], \"type\": \"heatmap\"}], \"heatmapgl\": [{\"colorbar\": {\"outlinewidth\": 0, \"ticks\": \"\"}, \"colorscale\": [[0.0, \"#0d0887\"], [0.1111111111111111, \"#46039f\"], [0.2222222222222222, \"#7201a8\"], [0.3333333333333333, \"#9c179e\"], [0.4444444444444444, \"#bd3786\"], [0.5555555555555556, \"#d8576b\"], [0.6666666666666666, \"#ed7953\"], [0.7777777777777778, \"#fb9f3a\"], [0.8888888888888888, \"#fdca26\"], [1.0, \"#f0f921\"]], \"type\": \"heatmapgl\"}], \"histogram\": [{\"marker\": {\"colorbar\": {\"outlinewidth\": 0, \"ticks\": \"\"}}, \"type\": \"histogram\"}], \"histogram2d\": [{\"colorbar\": {\"outlinewidth\": 0, \"ticks\": \"\"}, \"colorscale\": [[0.0, \"#0d0887\"], [0.1111111111111111, \"#46039f\"], [0.2222222222222222, \"#7201a8\"], [0.3333333333333333, \"#9c179e\"], [0.4444444444444444, \"#bd3786\"], [0.5555555555555556, \"#d8576b\"], [0.6666666666666666, \"#ed7953\"], [0.7777777777777778, \"#fb9f3a\"], [0.8888888888888888, \"#fdca26\"], [1.0, \"#f0f921\"]], \"type\": \"histogram2d\"}], \"histogram2dcontour\": [{\"colorbar\": {\"outlinewidth\": 0, \"ticks\": \"\"}, \"colorscale\": [[0.0, \"#0d0887\"], [0.1111111111111111, \"#46039f\"], [0.2222222222222222, \"#7201a8\"], [0.3333333333333333, \"#9c179e\"], [0.4444444444444444, \"#bd3786\"], [0.5555555555555556, \"#d8576b\"], [0.6666666666666666, \"#ed7953\"], [0.7777777777777778, \"#fb9f3a\"], [0.8888888888888888, \"#fdca26\"], [1.0, \"#f0f921\"]], \"type\": \"histogram2dcontour\"}], \"mesh3d\": [{\"colorbar\": {\"outlinewidth\": 0, \"ticks\": \"\"}, \"type\": \"mesh3d\"}], \"parcoords\": [{\"line\": {\"colorbar\": {\"outlinewidth\": 0, \"ticks\": \"\"}}, \"type\": \"parcoords\"}], \"pie\": [{\"automargin\": true, \"type\": \"pie\"}], \"scatter\": [{\"marker\": {\"colorbar\": {\"outlinewidth\": 0, \"ticks\": \"\"}}, \"type\": \"scatter\"}], \"scatter3d\": [{\"line\": {\"colorbar\": {\"outlinewidth\": 0, \"ticks\": \"\"}}, \"marker\": {\"colorbar\": {\"outlinewidth\": 0, \"ticks\": \"\"}}, \"type\": \"scatter3d\"}], \"scattercarpet\": [{\"marker\": {\"colorbar\": {\"outlinewidth\": 0, \"ticks\": \"\"}}, \"type\": \"scattercarpet\"}], \"scattergeo\": [{\"marker\": {\"colorbar\": {\"outlinewidth\": 0, \"ticks\": \"\"}}, \"type\": \"scattergeo\"}], \"scattergl\": [{\"marker\": {\"colorbar\": {\"outlinewidth\": 0, \"ticks\": \"\"}}, \"type\": \"scattergl\"}], \"scattermapbox\": [{\"marker\": {\"colorbar\": {\"outlinewidth\": 0, \"ticks\": \"\"}}, \"type\": \"scattermapbox\"}], \"scatterpolar\": [{\"marker\": {\"colorbar\": {\"outlinewidth\": 0, \"ticks\": \"\"}}, \"type\": \"scatterpolar\"}], \"scatterpolargl\": [{\"marker\": {\"colorbar\": {\"outlinewidth\": 0, \"ticks\": \"\"}}, \"type\": \"scatterpolargl\"}], \"scatterternary\": [{\"marker\": {\"colorbar\": {\"outlinewidth\": 0, \"ticks\": \"\"}}, \"type\": \"scatterternary\"}], \"surface\": [{\"colorbar\": {\"outlinewidth\": 0, \"ticks\": \"\"}, \"colorscale\": [[0.0, \"#0d0887\"], [0.1111111111111111, \"#46039f\"], [0.2222222222222222, \"#7201a8\"], [0.3333333333333333, \"#9c179e\"], [0.4444444444444444, \"#bd3786\"], [0.5555555555555556, \"#d8576b\"], [0.6666666666666666, \"#ed7953\"], [0.7777777777777778, \"#fb9f3a\"], [0.8888888888888888, \"#fdca26\"], [1.0, \"#f0f921\"]], \"type\": \"surface\"}], \"table\": [{\"cells\": {\"fill\": {\"color\": \"#EBF0F8\"}, \"line\": {\"color\": \"white\"}}, \"header\": {\"fill\": {\"color\": \"#C8D4E3\"}, \"line\": {\"color\": \"white\"}}, \"type\": \"table\"}]}, \"layout\": {\"annotationdefaults\": {\"arrowcolor\": \"#2a3f5f\", \"arrowhead\": 0, \"arrowwidth\": 1}, \"coloraxis\": {\"colorbar\": {\"outlinewidth\": 0, \"ticks\": \"\"}}, \"colorscale\": {\"diverging\": [[0, \"#8e0152\"], [0.1, \"#c51b7d\"], [0.2, \"#de77ae\"], [0.3, \"#f1b6da\"], [0.4, \"#fde0ef\"], [0.5, \"#f7f7f7\"], [0.6, \"#e6f5d0\"], [0.7, \"#b8e186\"], [0.8, \"#7fbc41\"], [0.9, \"#4d9221\"], [1, \"#276419\"]], \"sequential\": [[0.0, \"#0d0887\"], [0.1111111111111111, \"#46039f\"], [0.2222222222222222, \"#7201a8\"], [0.3333333333333333, \"#9c179e\"], [0.4444444444444444, \"#bd3786\"], [0.5555555555555556, \"#d8576b\"], [0.6666666666666666, \"#ed7953\"], [0.7777777777777778, \"#fb9f3a\"], [0.8888888888888888, \"#fdca26\"], [1.0, \"#f0f921\"]], \"sequentialminus\": [[0.0, \"#0d0887\"], [0.1111111111111111, \"#46039f\"], [0.2222222222222222, \"#7201a8\"], [0.3333333333333333, \"#9c179e\"], [0.4444444444444444, \"#bd3786\"], [0.5555555555555556, \"#d8576b\"], [0.6666666666666666, \"#ed7953\"], [0.7777777777777778, \"#fb9f3a\"], [0.8888888888888888, \"#fdca26\"], [1.0, \"#f0f921\"]]}, \"colorway\": [\"#636efa\", \"#EF553B\", \"#00cc96\", \"#ab63fa\", \"#FFA15A\", \"#19d3f3\", \"#FF6692\", \"#B6E880\", \"#FF97FF\", \"#FECB52\"], \"font\": {\"color\": \"#2a3f5f\"}, \"geo\": {\"bgcolor\": \"white\", \"lakecolor\": \"white\", \"landcolor\": \"#E5ECF6\", \"showlakes\": true, \"showland\": true, \"subunitcolor\": \"white\"}, \"hoverlabel\": {\"align\": \"left\"}, \"hovermode\": \"closest\", \"mapbox\": {\"style\": \"light\"}, \"paper_bgcolor\": \"white\", \"plot_bgcolor\": \"#E5ECF6\", \"polar\": {\"angularaxis\": {\"gridcolor\": \"white\", \"linecolor\": \"white\", \"ticks\": \"\"}, \"bgcolor\": \"#E5ECF6\", \"radialaxis\": {\"gridcolor\": \"white\", \"linecolor\": \"white\", \"ticks\": \"\"}}, \"scene\": {\"xaxis\": {\"backgroundcolor\": \"#E5ECF6\", \"gridcolor\": \"white\", \"gridwidth\": 2, \"linecolor\": \"white\", \"showbackground\": true, \"ticks\": \"\", \"zerolinecolor\": \"white\"}, \"yaxis\": {\"backgroundcolor\": \"#E5ECF6\", \"gridcolor\": \"white\", \"gridwidth\": 2, \"linecolor\": \"white\", \"showbackground\": true, \"ticks\": \"\", \"zerolinecolor\": \"white\"}, \"zaxis\": {\"backgroundcolor\": \"#E5ECF6\", \"gridcolor\": \"white\", \"gridwidth\": 2, \"linecolor\": \"white\", \"showbackground\": true, \"ticks\": \"\", \"zerolinecolor\": \"white\"}}, \"shapedefaults\": {\"line\": {\"color\": \"#2a3f5f\"}}, \"ternary\": {\"aaxis\": {\"gridcolor\": \"white\", \"linecolor\": \"white\", \"ticks\": \"\"}, \"baxis\": {\"gridcolor\": \"white\", \"linecolor\": \"white\", \"ticks\": \"\"}, \"bgcolor\": \"#E5ECF6\", \"caxis\": {\"gridcolor\": \"white\", \"linecolor\": \"white\", \"ticks\": \"\"}}, \"title\": {\"x\": 0.05}, \"xaxis\": {\"automargin\": true, \"gridcolor\": \"white\", \"linecolor\": \"white\", \"ticks\": \"\", \"title\": {\"standoff\": 15}, \"zerolinecolor\": \"white\", \"zerolinewidth\": 2}, \"yaxis\": {\"automargin\": true, \"gridcolor\": \"white\", \"linecolor\": \"white\", \"ticks\": \"\", \"title\": {\"standoff\": 15}, \"zerolinecolor\": \"white\", \"zerolinewidth\": 2}}}, \"title\": {\"text\": \"Publications per year with industry collaborations for grid.11696.39\"}, \"xaxis\": {\"anchor\": \"y\", \"domain\": [0.0, 1.0], \"title\": {\"text\": \"year\"}}, \"yaxis\": {\"anchor\": \"x\", \"domain\": [0.0, 1.0], \"title\": {\"text\": \"count of id\"}}},\n",
       "                        {\"responsive\": true}\n",
       "                    ).then(function(){\n",
       "                            \n",
       "var gd = document.getElementById('870a4bbb-024d-4d78-8fe9-bf575a448c14');\n",
       "var x = new MutationObserver(function (mutations, observer) {{\n",
       "        var display = window.getComputedStyle(gd).display;\n",
       "        if (!display || display === 'none') {{\n",
       "            console.log([gd, 'removed!']);\n",
       "            Plotly.purge(gd);\n",
       "            observer.disconnect();\n",
       "        }}\n",
       "}});\n",
       "\n",
       "// Listen for the removal of the full notebook cells\n",
       "var notebookContainer = gd.closest('#notebook-container');\n",
       "if (notebookContainer) {{\n",
       "    x.observe(notebookContainer, {childList: true});\n",
       "}}\n",
       "\n",
       "// Listen for the clearing of the current output cell\n",
       "var outputEl = gd.closest('.output');\n",
       "if (outputEl) {{\n",
       "    x.observe(outputEl, {childList: true});\n",
       "}}\n",
       "\n",
       "                        })\n",
       "                };\n",
       "                });\n",
       "            </script>\n",
       "        </div>"
      ]
     },
     "metadata": {},
     "output_type": "display_data"
    }
   ],
   "source": [
    "px.histogram(pubs, x=\"year\", y=\"id\", color=\"type\",\n",
    "                title=f\"Publications per year with industry collaborations for {GRIDID}\")"
   ]
  },
  {
   "cell_type": "markdown",
   "metadata": {
    "Collapsed": "false",
    "colab_type": "text",
    "id": "xaQt5doKRtCD"
   },
   "source": [
    "## Citations from Industry Collaboration"
   ]
  },
  {
   "cell_type": "code",
   "execution_count": 18,
   "metadata": {
    "Collapsed": "false",
    "colab": {
     "base_uri": "https://localhost:8080/",
     "height": 542
    },
    "colab_type": "code",
    "executionInfo": {
     "elapsed": 465471,
     "status": "ok",
     "timestamp": 1579782231231,
     "user": {
      "displayName": "Michele Pasin",
      "photoUrl": "https://lh3.googleusercontent.com/a-/AAuE7mBu8LVjIGgontF2Wax51BoL5KFx8esezX3bUmaa0g=s64",
      "userId": "10309320684375994511"
     },
     "user_tz": 0
    },
    "id": "xgksEVXTRtCD",
    "outputId": "b6006078-b594-449f-9ab1-2ba32db1f793"
   },
   "outputs": [
    {
     "data": {
      "application/vnd.plotly.v1+json": {
       "config": {
        "plotlyServerURL": "https://plot.ly"
       },
       "data": [
        {
         "alignmentgroup": "True",
         "hoverlabel": {
          "namelength": 0
         },
         "hovertemplate": "year=%{x}<br>times_cited=%{y}",
         "legendgroup": "",
         "marker": {
          "color": "#636efa"
         },
         "name": "",
         "offsetgroup": "",
         "orientation": "v",
         "showlegend": false,
         "textposition": "auto",
         "type": "bar",
         "x": [
          2000,
          2001,
          2002,
          2003,
          2004,
          2005,
          2006,
          2007,
          2008,
          2009,
          2010,
          2011,
          2012,
          2013,
          2014,
          2015,
          2016
         ],
         "xaxis": "x",
         "y": [
          30,
          38,
          369,
          130,
          236,
          229,
          702,
          225,
          488,
          1594,
          456,
          538,
          302,
          638,
          963,
          2273,
          3756
         ],
         "yaxis": "y"
        }
       ],
       "layout": {
        "autosize": true,
        "barmode": "relative",
        "legend": {
         "tracegroupgap": 0
        },
        "template": {
         "data": {
          "bar": [
           {
            "error_x": {
             "color": "#2a3f5f"
            },
            "error_y": {
             "color": "#2a3f5f"
            },
            "marker": {
             "line": {
              "color": "#E5ECF6",
              "width": 0.5
             }
            },
            "type": "bar"
           }
          ],
          "barpolar": [
           {
            "marker": {
             "line": {
              "color": "#E5ECF6",
              "width": 0.5
             }
            },
            "type": "barpolar"
           }
          ],
          "carpet": [
           {
            "aaxis": {
             "endlinecolor": "#2a3f5f",
             "gridcolor": "white",
             "linecolor": "white",
             "minorgridcolor": "white",
             "startlinecolor": "#2a3f5f"
            },
            "baxis": {
             "endlinecolor": "#2a3f5f",
             "gridcolor": "white",
             "linecolor": "white",
             "minorgridcolor": "white",
             "startlinecolor": "#2a3f5f"
            },
            "type": "carpet"
           }
          ],
          "choropleth": [
           {
            "colorbar": {
             "outlinewidth": 0,
             "ticks": ""
            },
            "type": "choropleth"
           }
          ],
          "contour": [
           {
            "colorbar": {
             "outlinewidth": 0,
             "ticks": ""
            },
            "colorscale": [
             [
              0,
              "#0d0887"
             ],
             [
              0.1111111111111111,
              "#46039f"
             ],
             [
              0.2222222222222222,
              "#7201a8"
             ],
             [
              0.3333333333333333,
              "#9c179e"
             ],
             [
              0.4444444444444444,
              "#bd3786"
             ],
             [
              0.5555555555555556,
              "#d8576b"
             ],
             [
              0.6666666666666666,
              "#ed7953"
             ],
             [
              0.7777777777777778,
              "#fb9f3a"
             ],
             [
              0.8888888888888888,
              "#fdca26"
             ],
             [
              1,
              "#f0f921"
             ]
            ],
            "type": "contour"
           }
          ],
          "contourcarpet": [
           {
            "colorbar": {
             "outlinewidth": 0,
             "ticks": ""
            },
            "type": "contourcarpet"
           }
          ],
          "heatmap": [
           {
            "colorbar": {
             "outlinewidth": 0,
             "ticks": ""
            },
            "colorscale": [
             [
              0,
              "#0d0887"
             ],
             [
              0.1111111111111111,
              "#46039f"
             ],
             [
              0.2222222222222222,
              "#7201a8"
             ],
             [
              0.3333333333333333,
              "#9c179e"
             ],
             [
              0.4444444444444444,
              "#bd3786"
             ],
             [
              0.5555555555555556,
              "#d8576b"
             ],
             [
              0.6666666666666666,
              "#ed7953"
             ],
             [
              0.7777777777777778,
              "#fb9f3a"
             ],
             [
              0.8888888888888888,
              "#fdca26"
             ],
             [
              1,
              "#f0f921"
             ]
            ],
            "type": "heatmap"
           }
          ],
          "heatmapgl": [
           {
            "colorbar": {
             "outlinewidth": 0,
             "ticks": ""
            },
            "colorscale": [
             [
              0,
              "#0d0887"
             ],
             [
              0.1111111111111111,
              "#46039f"
             ],
             [
              0.2222222222222222,
              "#7201a8"
             ],
             [
              0.3333333333333333,
              "#9c179e"
             ],
             [
              0.4444444444444444,
              "#bd3786"
             ],
             [
              0.5555555555555556,
              "#d8576b"
             ],
             [
              0.6666666666666666,
              "#ed7953"
             ],
             [
              0.7777777777777778,
              "#fb9f3a"
             ],
             [
              0.8888888888888888,
              "#fdca26"
             ],
             [
              1,
              "#f0f921"
             ]
            ],
            "type": "heatmapgl"
           }
          ],
          "histogram": [
           {
            "marker": {
             "colorbar": {
              "outlinewidth": 0,
              "ticks": ""
             }
            },
            "type": "histogram"
           }
          ],
          "histogram2d": [
           {
            "colorbar": {
             "outlinewidth": 0,
             "ticks": ""
            },
            "colorscale": [
             [
              0,
              "#0d0887"
             ],
             [
              0.1111111111111111,
              "#46039f"
             ],
             [
              0.2222222222222222,
              "#7201a8"
             ],
             [
              0.3333333333333333,
              "#9c179e"
             ],
             [
              0.4444444444444444,
              "#bd3786"
             ],
             [
              0.5555555555555556,
              "#d8576b"
             ],
             [
              0.6666666666666666,
              "#ed7953"
             ],
             [
              0.7777777777777778,
              "#fb9f3a"
             ],
             [
              0.8888888888888888,
              "#fdca26"
             ],
             [
              1,
              "#f0f921"
             ]
            ],
            "type": "histogram2d"
           }
          ],
          "histogram2dcontour": [
           {
            "colorbar": {
             "outlinewidth": 0,
             "ticks": ""
            },
            "colorscale": [
             [
              0,
              "#0d0887"
             ],
             [
              0.1111111111111111,
              "#46039f"
             ],
             [
              0.2222222222222222,
              "#7201a8"
             ],
             [
              0.3333333333333333,
              "#9c179e"
             ],
             [
              0.4444444444444444,
              "#bd3786"
             ],
             [
              0.5555555555555556,
              "#d8576b"
             ],
             [
              0.6666666666666666,
              "#ed7953"
             ],
             [
              0.7777777777777778,
              "#fb9f3a"
             ],
             [
              0.8888888888888888,
              "#fdca26"
             ],
             [
              1,
              "#f0f921"
             ]
            ],
            "type": "histogram2dcontour"
           }
          ],
          "mesh3d": [
           {
            "colorbar": {
             "outlinewidth": 0,
             "ticks": ""
            },
            "type": "mesh3d"
           }
          ],
          "parcoords": [
           {
            "line": {
             "colorbar": {
              "outlinewidth": 0,
              "ticks": ""
             }
            },
            "type": "parcoords"
           }
          ],
          "pie": [
           {
            "automargin": true,
            "type": "pie"
           }
          ],
          "scatter": [
           {
            "marker": {
             "colorbar": {
              "outlinewidth": 0,
              "ticks": ""
             }
            },
            "type": "scatter"
           }
          ],
          "scatter3d": [
           {
            "line": {
             "colorbar": {
              "outlinewidth": 0,
              "ticks": ""
             }
            },
            "marker": {
             "colorbar": {
              "outlinewidth": 0,
              "ticks": ""
             }
            },
            "type": "scatter3d"
           }
          ],
          "scattercarpet": [
           {
            "marker": {
             "colorbar": {
              "outlinewidth": 0,
              "ticks": ""
             }
            },
            "type": "scattercarpet"
           }
          ],
          "scattergeo": [
           {
            "marker": {
             "colorbar": {
              "outlinewidth": 0,
              "ticks": ""
             }
            },
            "type": "scattergeo"
           }
          ],
          "scattergl": [
           {
            "marker": {
             "colorbar": {
              "outlinewidth": 0,
              "ticks": ""
             }
            },
            "type": "scattergl"
           }
          ],
          "scattermapbox": [
           {
            "marker": {
             "colorbar": {
              "outlinewidth": 0,
              "ticks": ""
             }
            },
            "type": "scattermapbox"
           }
          ],
          "scatterpolar": [
           {
            "marker": {
             "colorbar": {
              "outlinewidth": 0,
              "ticks": ""
             }
            },
            "type": "scatterpolar"
           }
          ],
          "scatterpolargl": [
           {
            "marker": {
             "colorbar": {
              "outlinewidth": 0,
              "ticks": ""
             }
            },
            "type": "scatterpolargl"
           }
          ],
          "scatterternary": [
           {
            "marker": {
             "colorbar": {
              "outlinewidth": 0,
              "ticks": ""
             }
            },
            "type": "scatterternary"
           }
          ],
          "surface": [
           {
            "colorbar": {
             "outlinewidth": 0,
             "ticks": ""
            },
            "colorscale": [
             [
              0,
              "#0d0887"
             ],
             [
              0.1111111111111111,
              "#46039f"
             ],
             [
              0.2222222222222222,
              "#7201a8"
             ],
             [
              0.3333333333333333,
              "#9c179e"
             ],
             [
              0.4444444444444444,
              "#bd3786"
             ],
             [
              0.5555555555555556,
              "#d8576b"
             ],
             [
              0.6666666666666666,
              "#ed7953"
             ],
             [
              0.7777777777777778,
              "#fb9f3a"
             ],
             [
              0.8888888888888888,
              "#fdca26"
             ],
             [
              1,
              "#f0f921"
             ]
            ],
            "type": "surface"
           }
          ],
          "table": [
           {
            "cells": {
             "fill": {
              "color": "#EBF0F8"
             },
             "line": {
              "color": "white"
             }
            },
            "header": {
             "fill": {
              "color": "#C8D4E3"
             },
             "line": {
              "color": "white"
             }
            },
            "type": "table"
           }
          ]
         },
         "layout": {
          "annotationdefaults": {
           "arrowcolor": "#2a3f5f",
           "arrowhead": 0,
           "arrowwidth": 1
          },
          "coloraxis": {
           "colorbar": {
            "outlinewidth": 0,
            "ticks": ""
           }
          },
          "colorscale": {
           "diverging": [
            [
             0,
             "#8e0152"
            ],
            [
             0.1,
             "#c51b7d"
            ],
            [
             0.2,
             "#de77ae"
            ],
            [
             0.3,
             "#f1b6da"
            ],
            [
             0.4,
             "#fde0ef"
            ],
            [
             0.5,
             "#f7f7f7"
            ],
            [
             0.6,
             "#e6f5d0"
            ],
            [
             0.7,
             "#b8e186"
            ],
            [
             0.8,
             "#7fbc41"
            ],
            [
             0.9,
             "#4d9221"
            ],
            [
             1,
             "#276419"
            ]
           ],
           "sequential": [
            [
             0,
             "#0d0887"
            ],
            [
             0.1111111111111111,
             "#46039f"
            ],
            [
             0.2222222222222222,
             "#7201a8"
            ],
            [
             0.3333333333333333,
             "#9c179e"
            ],
            [
             0.4444444444444444,
             "#bd3786"
            ],
            [
             0.5555555555555556,
             "#d8576b"
            ],
            [
             0.6666666666666666,
             "#ed7953"
            ],
            [
             0.7777777777777778,
             "#fb9f3a"
            ],
            [
             0.8888888888888888,
             "#fdca26"
            ],
            [
             1,
             "#f0f921"
            ]
           ],
           "sequentialminus": [
            [
             0,
             "#0d0887"
            ],
            [
             0.1111111111111111,
             "#46039f"
            ],
            [
             0.2222222222222222,
             "#7201a8"
            ],
            [
             0.3333333333333333,
             "#9c179e"
            ],
            [
             0.4444444444444444,
             "#bd3786"
            ],
            [
             0.5555555555555556,
             "#d8576b"
            ],
            [
             0.6666666666666666,
             "#ed7953"
            ],
            [
             0.7777777777777778,
             "#fb9f3a"
            ],
            [
             0.8888888888888888,
             "#fdca26"
            ],
            [
             1,
             "#f0f921"
            ]
           ]
          },
          "colorway": [
           "#636efa",
           "#EF553B",
           "#00cc96",
           "#ab63fa",
           "#FFA15A",
           "#19d3f3",
           "#FF6692",
           "#B6E880",
           "#FF97FF",
           "#FECB52"
          ],
          "font": {
           "color": "#2a3f5f"
          },
          "geo": {
           "bgcolor": "white",
           "lakecolor": "white",
           "landcolor": "#E5ECF6",
           "showlakes": true,
           "showland": true,
           "subunitcolor": "white"
          },
          "hoverlabel": {
           "align": "left"
          },
          "hovermode": "closest",
          "mapbox": {
           "style": "light"
          },
          "paper_bgcolor": "white",
          "plot_bgcolor": "#E5ECF6",
          "polar": {
           "angularaxis": {
            "gridcolor": "white",
            "linecolor": "white",
            "ticks": ""
           },
           "bgcolor": "#E5ECF6",
           "radialaxis": {
            "gridcolor": "white",
            "linecolor": "white",
            "ticks": ""
           }
          },
          "scene": {
           "xaxis": {
            "backgroundcolor": "#E5ECF6",
            "gridcolor": "white",
            "gridwidth": 2,
            "linecolor": "white",
            "showbackground": true,
            "ticks": "",
            "zerolinecolor": "white"
           },
           "yaxis": {
            "backgroundcolor": "#E5ECF6",
            "gridcolor": "white",
            "gridwidth": 2,
            "linecolor": "white",
            "showbackground": true,
            "ticks": "",
            "zerolinecolor": "white"
           },
           "zaxis": {
            "backgroundcolor": "#E5ECF6",
            "gridcolor": "white",
            "gridwidth": 2,
            "linecolor": "white",
            "showbackground": true,
            "ticks": "",
            "zerolinecolor": "white"
           }
          },
          "shapedefaults": {
           "line": {
            "color": "#2a3f5f"
           }
          },
          "ternary": {
           "aaxis": {
            "gridcolor": "white",
            "linecolor": "white",
            "ticks": ""
           },
           "baxis": {
            "gridcolor": "white",
            "linecolor": "white",
            "ticks": ""
           },
           "bgcolor": "#E5ECF6",
           "caxis": {
            "gridcolor": "white",
            "linecolor": "white",
            "ticks": ""
           }
          },
          "title": {
           "x": 0.05
          },
          "xaxis": {
           "automargin": true,
           "gridcolor": "white",
           "linecolor": "white",
           "ticks": "",
           "title": {
            "standoff": 15
           },
           "zerolinecolor": "white",
           "zerolinewidth": 2
          },
          "yaxis": {
           "automargin": true,
           "gridcolor": "white",
           "linecolor": "white",
           "ticks": "",
           "title": {
            "standoff": 15
           },
           "zerolinecolor": "white",
           "zerolinewidth": 2
          }
         }
        },
        "title": {
         "text": "Tot Citations per year for publications with industry collaborations for grid.11696.39"
        },
        "xaxis": {
         "anchor": "y",
         "autorange": true,
         "domain": [
          0,
          1
         ],
         "range": [
          1999.5,
          2016.5
         ],
         "title": {
          "text": "year"
         },
         "type": "linear"
        },
        "yaxis": {
         "anchor": "x",
         "autorange": true,
         "domain": [
          0,
          1
         ],
         "range": [
          0,
          3953.684210526316
         ],
         "title": {
          "text": "times_cited"
         },
         "type": "linear"
        }
       }
      },
      "image/png": "[encoded data removed]",
      "text/html": [
       "<div>\n",
       "        \n",
       "        \n",
       "            <div id=\"226d96c5-9149-46bc-aac5-095417258ba3\" class=\"plotly-graph-div\" style=\"height:525px; width:100%;\"></div>\n",
       "            <script type=\"text/javascript\">\n",
       "                require([\"plotly\"], function(Plotly) {\n",
       "                    window.PLOTLYENV=window.PLOTLYENV || {};\n",
       "                    \n",
       "                if (document.getElementById(\"226d96c5-9149-46bc-aac5-095417258ba3\")) {\n",
       "                    Plotly.newPlot(\n",
       "                        '226d96c5-9149-46bc-aac5-095417258ba3',\n",
       "                        [{\"alignmentgroup\": \"True\", \"hoverlabel\": {\"namelength\": 0}, \"hovertemplate\": \"year=%{x}<br>times_cited=%{y}\", \"legendgroup\": \"\", \"marker\": {\"color\": \"#636efa\"}, \"name\": \"\", \"offsetgroup\": \"\", \"orientation\": \"v\", \"showlegend\": false, \"textposition\": \"auto\", \"type\": \"bar\", \"x\": [2000, 2001, 2002, 2003, 2004, 2005, 2006, 2007, 2008, 2009, 2010, 2011, 2012, 2013, 2014, 2015, 2016], \"xaxis\": \"x\", \"y\": [30.0, 38.0, 369.0, 130.0, 236.0, 229.0, 702.0, 225.0, 488.0, 1594.0, 456.0, 538.0, 302.0, 638.0, 963.0, 2273.0, 3756.0], \"yaxis\": \"y\"}],\n",
       "                        {\"barmode\": \"relative\", \"legend\": {\"tracegroupgap\": 0}, \"template\": {\"data\": {\"bar\": [{\"error_x\": {\"color\": \"#2a3f5f\"}, \"error_y\": {\"color\": \"#2a3f5f\"}, \"marker\": {\"line\": {\"color\": \"#E5ECF6\", \"width\": 0.5}}, \"type\": \"bar\"}], \"barpolar\": [{\"marker\": {\"line\": {\"color\": \"#E5ECF6\", \"width\": 0.5}}, \"type\": \"barpolar\"}], \"carpet\": [{\"aaxis\": {\"endlinecolor\": \"#2a3f5f\", \"gridcolor\": \"white\", \"linecolor\": \"white\", \"minorgridcolor\": \"white\", \"startlinecolor\": \"#2a3f5f\"}, \"baxis\": {\"endlinecolor\": \"#2a3f5f\", \"gridcolor\": \"white\", \"linecolor\": \"white\", \"minorgridcolor\": \"white\", \"startlinecolor\": \"#2a3f5f\"}, \"type\": \"carpet\"}], \"choropleth\": [{\"colorbar\": {\"outlinewidth\": 0, \"ticks\": \"\"}, \"type\": \"choropleth\"}], \"contour\": [{\"colorbar\": {\"outlinewidth\": 0, \"ticks\": \"\"}, \"colorscale\": [[0.0, \"#0d0887\"], [0.1111111111111111, \"#46039f\"], [0.2222222222222222, \"#7201a8\"], [0.3333333333333333, \"#9c179e\"], [0.4444444444444444, \"#bd3786\"], [0.5555555555555556, \"#d8576b\"], [0.6666666666666666, \"#ed7953\"], [0.7777777777777778, \"#fb9f3a\"], [0.8888888888888888, \"#fdca26\"], [1.0, \"#f0f921\"]], \"type\": \"contour\"}], \"contourcarpet\": [{\"colorbar\": {\"outlinewidth\": 0, \"ticks\": \"\"}, \"type\": \"contourcarpet\"}], \"heatmap\": [{\"colorbar\": {\"outlinewidth\": 0, \"ticks\": \"\"}, \"colorscale\": [[0.0, \"#0d0887\"], [0.1111111111111111, \"#46039f\"], [0.2222222222222222, \"#7201a8\"], [0.3333333333333333, \"#9c179e\"], [0.4444444444444444, \"#bd3786\"], [0.5555555555555556, \"#d8576b\"], [0.6666666666666666, \"#ed7953\"], [0.7777777777777778, \"#fb9f3a\"], [0.8888888888888888, \"#fdca26\"], [1.0, \"#f0f921\"]], \"type\": \"heatmap\"}], \"heatmapgl\": [{\"colorbar\": {\"outlinewidth\": 0, \"ticks\": \"\"}, \"colorscale\": [[0.0, \"#0d0887\"], [0.1111111111111111, \"#46039f\"], [0.2222222222222222, \"#7201a8\"], [0.3333333333333333, \"#9c179e\"], [0.4444444444444444, \"#bd3786\"], [0.5555555555555556, \"#d8576b\"], [0.6666666666666666, \"#ed7953\"], [0.7777777777777778, \"#fb9f3a\"], [0.8888888888888888, \"#fdca26\"], [1.0, \"#f0f921\"]], \"type\": \"heatmapgl\"}], \"histogram\": [{\"marker\": {\"colorbar\": {\"outlinewidth\": 0, \"ticks\": \"\"}}, \"type\": \"histogram\"}], \"histogram2d\": [{\"colorbar\": {\"outlinewidth\": 0, \"ticks\": \"\"}, \"colorscale\": [[0.0, \"#0d0887\"], [0.1111111111111111, \"#46039f\"], [0.2222222222222222, \"#7201a8\"], [0.3333333333333333, \"#9c179e\"], [0.4444444444444444, \"#bd3786\"], [0.5555555555555556, \"#d8576b\"], [0.6666666666666666, \"#ed7953\"], [0.7777777777777778, \"#fb9f3a\"], [0.8888888888888888, \"#fdca26\"], [1.0, \"#f0f921\"]], \"type\": \"histogram2d\"}], \"histogram2dcontour\": [{\"colorbar\": {\"outlinewidth\": 0, \"ticks\": \"\"}, \"colorscale\": [[0.0, \"#0d0887\"], [0.1111111111111111, \"#46039f\"], [0.2222222222222222, \"#7201a8\"], [0.3333333333333333, \"#9c179e\"], [0.4444444444444444, \"#bd3786\"], [0.5555555555555556, \"#d8576b\"], [0.6666666666666666, \"#ed7953\"], [0.7777777777777778, \"#fb9f3a\"], [0.8888888888888888, \"#fdca26\"], [1.0, \"#f0f921\"]], \"type\": \"histogram2dcontour\"}], \"mesh3d\": [{\"colorbar\": {\"outlinewidth\": 0, \"ticks\": \"\"}, \"type\": \"mesh3d\"}], \"parcoords\": [{\"line\": {\"colorbar\": {\"outlinewidth\": 0, \"ticks\": \"\"}}, \"type\": \"parcoords\"}], \"pie\": [{\"automargin\": true, \"type\": \"pie\"}], \"scatter\": [{\"marker\": {\"colorbar\": {\"outlinewidth\": 0, \"ticks\": \"\"}}, \"type\": \"scatter\"}], \"scatter3d\": [{\"line\": {\"colorbar\": {\"outlinewidth\": 0, \"ticks\": \"\"}}, \"marker\": {\"colorbar\": {\"outlinewidth\": 0, \"ticks\": \"\"}}, \"type\": \"scatter3d\"}], \"scattercarpet\": [{\"marker\": {\"colorbar\": {\"outlinewidth\": 0, \"ticks\": \"\"}}, \"type\": \"scattercarpet\"}], \"scattergeo\": [{\"marker\": {\"colorbar\": {\"outlinewidth\": 0, \"ticks\": \"\"}}, \"type\": \"scattergeo\"}], \"scattergl\": [{\"marker\": {\"colorbar\": {\"outlinewidth\": 0, \"ticks\": \"\"}}, \"type\": \"scattergl\"}], \"scattermapbox\": [{\"marker\": {\"colorbar\": {\"outlinewidth\": 0, \"ticks\": \"\"}}, \"type\": \"scattermapbox\"}], \"scatterpolar\": [{\"marker\": {\"colorbar\": {\"outlinewidth\": 0, \"ticks\": \"\"}}, \"type\": \"scatterpolar\"}], \"scatterpolargl\": [{\"marker\": {\"colorbar\": {\"outlinewidth\": 0, \"ticks\": \"\"}}, \"type\": \"scatterpolargl\"}], \"scatterternary\": [{\"marker\": {\"colorbar\": {\"outlinewidth\": 0, \"ticks\": \"\"}}, \"type\": \"scatterternary\"}], \"surface\": [{\"colorbar\": {\"outlinewidth\": 0, \"ticks\": \"\"}, \"colorscale\": [[0.0, \"#0d0887\"], [0.1111111111111111, \"#46039f\"], [0.2222222222222222, \"#7201a8\"], [0.3333333333333333, \"#9c179e\"], [0.4444444444444444, \"#bd3786\"], [0.5555555555555556, \"#d8576b\"], [0.6666666666666666, \"#ed7953\"], [0.7777777777777778, \"#fb9f3a\"], [0.8888888888888888, \"#fdca26\"], [1.0, \"#f0f921\"]], \"type\": \"surface\"}], \"table\": [{\"cells\": {\"fill\": {\"color\": \"#EBF0F8\"}, \"line\": {\"color\": \"white\"}}, \"header\": {\"fill\": {\"color\": \"#C8D4E3\"}, \"line\": {\"color\": \"white\"}}, \"type\": \"table\"}]}, \"layout\": {\"annotationdefaults\": {\"arrowcolor\": \"#2a3f5f\", \"arrowhead\": 0, \"arrowwidth\": 1}, \"coloraxis\": {\"colorbar\": {\"outlinewidth\": 0, \"ticks\": \"\"}}, \"colorscale\": {\"diverging\": [[0, \"#8e0152\"], [0.1, \"#c51b7d\"], [0.2, \"#de77ae\"], [0.3, \"#f1b6da\"], [0.4, \"#fde0ef\"], [0.5, \"#f7f7f7\"], [0.6, \"#e6f5d0\"], [0.7, \"#b8e186\"], [0.8, \"#7fbc41\"], [0.9, \"#4d9221\"], [1, \"#276419\"]], \"sequential\": [[0.0, \"#0d0887\"], [0.1111111111111111, \"#46039f\"], [0.2222222222222222, \"#7201a8\"], [0.3333333333333333, \"#9c179e\"], [0.4444444444444444, \"#bd3786\"], [0.5555555555555556, \"#d8576b\"], [0.6666666666666666, \"#ed7953\"], [0.7777777777777778, \"#fb9f3a\"], [0.8888888888888888, \"#fdca26\"], [1.0, \"#f0f921\"]], \"sequentialminus\": [[0.0, \"#0d0887\"], [0.1111111111111111, \"#46039f\"], [0.2222222222222222, \"#7201a8\"], [0.3333333333333333, \"#9c179e\"], [0.4444444444444444, \"#bd3786\"], [0.5555555555555556, \"#d8576b\"], [0.6666666666666666, \"#ed7953\"], [0.7777777777777778, \"#fb9f3a\"], [0.8888888888888888, \"#fdca26\"], [1.0, \"#f0f921\"]]}, \"colorway\": [\"#636efa\", \"#EF553B\", \"#00cc96\", \"#ab63fa\", \"#FFA15A\", \"#19d3f3\", \"#FF6692\", \"#B6E880\", \"#FF97FF\", \"#FECB52\"], \"font\": {\"color\": \"#2a3f5f\"}, \"geo\": {\"bgcolor\": \"white\", \"lakecolor\": \"white\", \"landcolor\": \"#E5ECF6\", \"showlakes\": true, \"showland\": true, \"subunitcolor\": \"white\"}, \"hoverlabel\": {\"align\": \"left\"}, \"hovermode\": \"closest\", \"mapbox\": {\"style\": \"light\"}, \"paper_bgcolor\": \"white\", \"plot_bgcolor\": \"#E5ECF6\", \"polar\": {\"angularaxis\": {\"gridcolor\": \"white\", \"linecolor\": \"white\", \"ticks\": \"\"}, \"bgcolor\": \"#E5ECF6\", \"radialaxis\": {\"gridcolor\": \"white\", \"linecolor\": \"white\", \"ticks\": \"\"}}, \"scene\": {\"xaxis\": {\"backgroundcolor\": \"#E5ECF6\", \"gridcolor\": \"white\", \"gridwidth\": 2, \"linecolor\": \"white\", \"showbackground\": true, \"ticks\": \"\", \"zerolinecolor\": \"white\"}, \"yaxis\": {\"backgroundcolor\": \"#E5ECF6\", \"gridcolor\": \"white\", \"gridwidth\": 2, \"linecolor\": \"white\", \"showbackground\": true, \"ticks\": \"\", \"zerolinecolor\": \"white\"}, \"zaxis\": {\"backgroundcolor\": \"#E5ECF6\", \"gridcolor\": \"white\", \"gridwidth\": 2, \"linecolor\": \"white\", \"showbackground\": true, \"ticks\": \"\", \"zerolinecolor\": \"white\"}}, \"shapedefaults\": {\"line\": {\"color\": \"#2a3f5f\"}}, \"ternary\": {\"aaxis\": {\"gridcolor\": \"white\", \"linecolor\": \"white\", \"ticks\": \"\"}, \"baxis\": {\"gridcolor\": \"white\", \"linecolor\": \"white\", \"ticks\": \"\"}, \"bgcolor\": \"#E5ECF6\", \"caxis\": {\"gridcolor\": \"white\", \"linecolor\": \"white\", \"ticks\": \"\"}}, \"title\": {\"x\": 0.05}, \"xaxis\": {\"automargin\": true, \"gridcolor\": \"white\", \"linecolor\": \"white\", \"ticks\": \"\", \"title\": {\"standoff\": 15}, \"zerolinecolor\": \"white\", \"zerolinewidth\": 2}, \"yaxis\": {\"automargin\": true, \"gridcolor\": \"white\", \"linecolor\": \"white\", \"ticks\": \"\", \"title\": {\"standoff\": 15}, \"zerolinecolor\": \"white\", \"zerolinewidth\": 2}}}, \"title\": {\"text\": \"Tot Citations per year for publications with industry collaborations for grid.11696.39\"}, \"xaxis\": {\"anchor\": \"y\", \"domain\": [0.0, 1.0], \"title\": {\"text\": \"year\"}}, \"yaxis\": {\"anchor\": \"x\", \"domain\": [0.0, 1.0], \"title\": {\"text\": \"times_cited\"}}},\n",
       "                        {\"responsive\": true}\n",
       "                    ).then(function(){\n",
       "                            \n",
       "var gd = document.getElementById('226d96c5-9149-46bc-aac5-095417258ba3');\n",
       "var x = new MutationObserver(function (mutations, observer) {{\n",
       "        var display = window.getComputedStyle(gd).display;\n",
       "        if (!display || display === 'none') {{\n",
       "            console.log([gd, 'removed!']);\n",
       "            Plotly.purge(gd);\n",
       "            observer.disconnect();\n",
       "        }}\n",
       "}});\n",
       "\n",
       "// Listen for the removal of the full notebook cells\n",
       "var notebookContainer = gd.closest('#notebook-container');\n",
       "if (notebookContainer) {{\n",
       "    x.observe(notebookContainer, {childList: true});\n",
       "}}\n",
       "\n",
       "// Listen for the clearing of the current output cell\n",
       "var outputEl = gd.closest('.output');\n",
       "if (outputEl) {{\n",
       "    x.observe(outputEl, {childList: true});\n",
       "}}\n",
       "\n",
       "                        })\n",
       "                };\n",
       "                });\n",
       "            </script>\n",
       "        </div>"
      ]
     },
     "metadata": {},
     "output_type": "display_data"
    }
   ],
   "source": [
    "pubs_grouped = pubs.groupby(['year'], as_index=False).sum()\n",
    "px.bar(pubs_grouped, x=\"year\", y=\"times_cited\",\n",
    "       title=f\"Tot Citations per year for publications with industry collaborations for {GRIDID}\")"
   ]
  },
  {
   "cell_type": "markdown",
   "metadata": {
    "Collapsed": "false",
    "colab_type": "text",
    "id": "ew3ROTg6RtCF"
   },
   "source": [
    "## Top Industry Collaborators\n",
    "\n",
    "In order to dig deeper into the industry affiliations we have to process the **nested JSON data** in the 'authors' column. By doing so, we can process authors & affiliations information and identify the ones belonging to the 'industry' set defined above.  \n",
    "\n",
    "For example, if we extract the authors data for the first publication/row (`pubs.iloc[0]['authors']`), this is what it'd look like: \n",
    "\n",
    "```\n",
    "[{'first_name': 'LUCA DALLA',\n",
    "  'last_name': 'VALLE',\n",
    "  'corresponding': '',\n",
    "  'orcid': '',\n",
    "  'current_organization_id': 'grid.11696.39',\n",
    "  'researcher_id': 'ur.013645226073.38',\n",
    "  'affiliations': [{'id': 'grid.11696.39',\n",
    "    'name': 'University of Trento',\n",
    "    'city': 'Trento',\n",
    "    'city_id': 3165243,\n",
    "    'country': 'Italy',\n",
    "    'country_code': 'IT',\n",
    "    'state': None,\n",
    "    'state_code': None}]},\n",
    " {'first_name': 'ELENA CRISTINA',\n",
    "  'last_name': 'RADA',\n",
    "  'corresponding': '',\n",
    "  'orcid': \"['0000-0003-0807-1826']\",\n",
    "  'current_organization_id': 'grid.18147.3b',\n",
    "  'researcher_id': 'ur.01344320306.26',\n",
    "  'affiliations': [{'id': 'grid.11696.39',\n",
    "    'name': 'University of Trento',\n",
    "    'city': 'Trento',\n",
    "    'city_id': 3165243,\n",
    "    'country': 'Italy',\n",
    "    'country_code': 'IT',\n",
    "    'state': None,\n",
    "    'state_code': None}]},\n",
    " {'first_name': 'MARCO',\n",
    "  'last_name': 'RAGAZZI',\n",
    "  'corresponding': '',\n",
    "  'orcid': '',\n",
    "  'current_organization_id': 'grid.11696.39',\n",
    "  'researcher_id': 'ur.0655652202.53',\n",
    "  'affiliations': [{'id': 'grid.11696.39',\n",
    "    'name': 'University of Trento',\n",
    "    'city': 'Trento',\n",
    "    'city_id': 3165243,\n",
    "    'country': 'Italy',\n",
    "    'country_code': 'IT',\n",
    "    'state': None,\n",
    "    'state_code': None}]},\n",
    " {'first_name': 'MICHELE',\n",
    "  'last_name': 'CARAVIELLO',\n",
    "  'corresponding': '',\n",
    "  'orcid': '',\n",
    "  'current_organization_id': 'grid.14587.3f',\n",
    "  'researcher_id': 'ur.016015622301.36',\n",
    "  'affiliations': [{'id': 'grid.14587.3f',\n",
    "    'name': 'Telecom Italia (Italy)',\n",
    "    'city': 'Rome',\n",
    "    'city_id': 3169070,\n",
    "    'country': 'Italy',\n",
    "    'country_code': 'IT',\n",
    "    'state': None,\n",
    "    'state_code': None}]}]\n",
    "```"
   ]
  },
  {
   "cell_type": "markdown",
   "metadata": {
    "Collapsed": "false",
    "colab_type": "text",
    "id": "cW4CSoBHRtCF"
   },
   "source": [
    "NOTE: Instead of iterating through the authors/affiliations data by building a new function, we can just take advantage of the `Dataset` class in the [Dimcli](https://digital-science.github.io/dimensions-api-lab/cookbooks/1-getting-started/1-Using-the-Dimcli-library-to-query-the-API.html) library. This class abstracts the notion of a Dimensions 'results list' and provides useful methods to quickly process authors and affiliations."
   ]
  },
  {
   "cell_type": "code",
   "execution_count": 19,
   "metadata": {
    "Collapsed": "false",
    "colab": {
     "base_uri": "https://localhost:8080/",
     "height": 193
    },
    "colab_type": "code",
    "executionInfo": {
     "elapsed": 466485,
     "status": "ok",
     "timestamp": 1579782232253,
     "user": {
      "displayName": "Michele Pasin",
      "photoUrl": "https://lh3.googleusercontent.com/a-/AAuE7mBu8LVjIGgontF2Wax51BoL5KFx8esezX3bUmaa0g=s64",
      "userId": "10309320684375994511"
     },
     "user_tz": 0
    },
    "id": "cQHMProjRtCG",
    "outputId": "a997bc97-e4b6-4b32-f63f-1739e921a1df"
   },
   "outputs": [
    {
     "data": {
      "text/html": [
       "<div>\n",
       "<style scoped>\n",
       "    .dataframe tbody tr th:only-of-type {\n",
       "        vertical-align: middle;\n",
       "    }\n",
       "\n",
       "    .dataframe tbody tr th {\n",
       "        vertical-align: top;\n",
       "    }\n",
       "\n",
       "    .dataframe thead th {\n",
       "        text-align: right;\n",
       "    }\n",
       "</style>\n",
       "<table border=\"1\" class=\"dataframe\">\n",
       "  <thead>\n",
       "    <tr style=\"text-align: right;\">\n",
       "      <th></th>\n",
       "      <th>aff_city</th>\n",
       "      <th>aff_city_id</th>\n",
       "      <th>aff_country</th>\n",
       "      <th>aff_country_code</th>\n",
       "      <th>aff_id</th>\n",
       "      <th>aff_name</th>\n",
       "      <th>aff_state</th>\n",
       "      <th>aff_state_code</th>\n",
       "      <th>pub_id</th>\n",
       "      <th>researcher_id</th>\n",
       "      <th>first_name</th>\n",
       "      <th>last_name</th>\n",
       "    </tr>\n",
       "  </thead>\n",
       "  <tbody>\n",
       "    <tr>\n",
       "      <th>3</th>\n",
       "      <td>Rome</td>\n",
       "      <td>3.16907e+06</td>\n",
       "      <td>Italy</td>\n",
       "      <td>IT</td>\n",
       "      <td>grid.14587.3f</td>\n",
       "      <td>Telecom Italia (Italy)</td>\n",
       "      <td></td>\n",
       "      <td></td>\n",
       "      <td>pub.1087081818</td>\n",
       "      <td>ur.016015622301.36</td>\n",
       "      <td>MICHELE</td>\n",
       "      <td>CARAVIELLO</td>\n",
       "    </tr>\n",
       "    <tr>\n",
       "      <th>11</th>\n",
       "      <td>Hamburg</td>\n",
       "      <td>2.9113e+06</td>\n",
       "      <td>Germany</td>\n",
       "      <td>DE</td>\n",
       "      <td>grid.410308.e</td>\n",
       "      <td>Airbus (Germany)</td>\n",
       "      <td></td>\n",
       "      <td></td>\n",
       "      <td>pub.1059063534</td>\n",
       "      <td></td>\n",
       "      <td>N</td>\n",
       "      <td>Brandt</td>\n",
       "    </tr>\n",
       "    <tr>\n",
       "      <th>12</th>\n",
       "      <td>Milan</td>\n",
       "      <td>3.17344e+06</td>\n",
       "      <td>Italy</td>\n",
       "      <td>IT</td>\n",
       "      <td>grid.424032.3</td>\n",
       "      <td>Orbitale Hochtechnologie Bremen (Italy)</td>\n",
       "      <td></td>\n",
       "      <td></td>\n",
       "      <td>pub.1059063534</td>\n",
       "      <td>ur.014542047336.90</td>\n",
       "      <td>A</td>\n",
       "      <td>Bursi</td>\n",
       "    </tr>\n",
       "    <tr>\n",
       "      <th>19</th>\n",
       "      <td>Milan</td>\n",
       "      <td>3.17344e+06</td>\n",
       "      <td>Italy</td>\n",
       "      <td>IT</td>\n",
       "      <td>grid.424032.3</td>\n",
       "      <td>Orbitale Hochtechnologie Bremen (Italy)</td>\n",
       "      <td></td>\n",
       "      <td></td>\n",
       "      <td>pub.1059063534</td>\n",
       "      <td></td>\n",
       "      <td>D</td>\n",
       "      <td>Desiderio</td>\n",
       "    </tr>\n",
       "    <tr>\n",
       "      <th>20</th>\n",
       "      <td>Milan</td>\n",
       "      <td>3.17344e+06</td>\n",
       "      <td>Italy</td>\n",
       "      <td>IT</td>\n",
       "      <td>grid.424032.3</td>\n",
       "      <td>Orbitale Hochtechnologie Bremen (Italy)</td>\n",
       "      <td></td>\n",
       "      <td></td>\n",
       "      <td>pub.1059063534</td>\n",
       "      <td></td>\n",
       "      <td>E</td>\n",
       "      <td>Piersanti</td>\n",
       "    </tr>\n",
       "  </tbody>\n",
       "</table>\n",
       "</div>"
      ],
      "text/plain": [
       "   aff_city  aff_city_id aff_country aff_country_code         aff_id  \\\n",
       "3      Rome  3.16907e+06       Italy               IT  grid.14587.3f   \n",
       "11  Hamburg   2.9113e+06     Germany               DE  grid.410308.e   \n",
       "12    Milan  3.17344e+06       Italy               IT  grid.424032.3   \n",
       "19    Milan  3.17344e+06       Italy               IT  grid.424032.3   \n",
       "20    Milan  3.17344e+06       Italy               IT  grid.424032.3   \n",
       "\n",
       "                                   aff_name aff_state aff_state_code  \\\n",
       "3                    Telecom Italia (Italy)                            \n",
       "11                         Airbus (Germany)                            \n",
       "12  Orbitale Hochtechnologie Bremen (Italy)                            \n",
       "19  Orbitale Hochtechnologie Bremen (Italy)                            \n",
       "20  Orbitale Hochtechnologie Bremen (Italy)                            \n",
       "\n",
       "            pub_id       researcher_id first_name   last_name  \n",
       "3   pub.1087081818  ur.016015622301.36    MICHELE  CARAVIELLO  \n",
       "11  pub.1059063534                              N      Brandt  \n",
       "12  pub.1059063534  ur.014542047336.90          A       Bursi  \n",
       "19  pub.1059063534                              D   Desiderio  \n",
       "20  pub.1059063534                              E   Piersanti  "
      ]
     },
     "execution_count": 19,
     "metadata": {},
     "output_type": "execute_result"
    }
   ],
   "source": [
    "# create a new Dataset instance\n",
    "pubsnew = Dataset.from_publications_list(pubs)\n",
    "# extract affiliations as a dataframe\n",
    "affiliations = pubsnew.as_dataframe_authors_affiliations()\n",
    "# focus only on affiliations including a grid from the industry set created above\n",
    "affiliations = affiliations[affiliations['aff_id' ].isin(gridis)]\n",
    "# preview the data\n",
    "affiliations.head(5)"
   ]
  },
  {
   "cell_type": "markdown",
   "metadata": {
    "Collapsed": "false",
    "colab_type": "text",
    "id": "kBpVv6zFRtCH"
   },
   "source": [
    "Let's now count frequency and create a nice chart summing up the top industry collaborators.\n",
    "\n",
    "TIP Try zooming in on the left-hand side to put into focus the organizations that appear most frequently. "
   ]
  },
  {
   "cell_type": "code",
   "execution_count": 20,
   "metadata": {
    "Collapsed": "false",
    "colab": {
     "base_uri": "https://localhost:8080/",
     "height": 917
    },
    "colab_type": "code",
    "executionInfo": {
     "elapsed": 466888,
     "status": "ok",
     "timestamp": 1579782232662,
     "user": {
      "displayName": "Michele Pasin",
      "photoUrl": "https://lh3.googleusercontent.com/a-/AAuE7mBu8LVjIGgontF2Wax51BoL5KFx8esezX3bUmaa0g=s64",
      "userId": "10309320684375994511"
     },
     "user_tz": 0
    },
    "id": "OU7VgscuRtCI",
    "outputId": "194c8ee7-a892-4173-8b10-866463fdaf7b"
   },
   "outputs": [
    {
     "data": {
      "application/vnd.plotly.v1+json": {
       "config": {
        "plotlyServerURL": "https://plot.ly"
       },
       "data": [
        {
         "alignmentgroup": "True",
         "bingroup": "x",
         "hoverlabel": {
          "namelength": 0
         },
         "hovertemplate": "aff_name=%{x}<br>count=%{y}",
         "legendgroup": "",
         "marker": {
          "color": "#636efa"
         },
         "name": "",
         "offsetgroup": "",
         "orientation": "v",
         "showlegend": false,
         "type": "histogram",
         "x": [
          "Telecom Italia (Italy)",
          "Airbus (Germany)",
          "Orbitale Hochtechnologie Bremen (Italy)",
          "Orbitale Hochtechnologie Bremen (Italy)",
          "Orbitale Hochtechnologie Bremen (Italy)",
          "Airbus (United Kingdom)",
          "Airbus (Germany)",
          "Airbus (Germany)",
          "Airbus (Germany)",
          "Orbitale Hochtechnologie Bremen (Italy)",
          "Orbitale Hochtechnologie Bremen (Italy)",
          "Airbus (Germany)",
          "Airbus (United Kingdom)",
          "Airbus (United Kingdom)",
          "Airbus (United Kingdom)",
          "Airbus (United Kingdom)",
          "Airbus (Germany)",
          "Telecom Italia (Italy)",
          "Telecom Italia (Italy)",
          "Telecom Italia (Italy)",
          "Telecom Italia (Italy)",
          "Telecom Italia (Italy)",
          "Telefonica Research and Development",
          "Telecom Italia (Italy)",
          "Takeda (Japan)",
          "Takeda (Japan)",
          "Takeda (Japan)",
          "Sanofi (United States)",
          "Sanofi (United States)",
          "Novartis (United States)",
          "Novartis (United States)",
          "Advanced Bioscience Laboratories (United States)",
          "Novartis (Italy)",
          "Leidos (United States)",
          "Leidos (United States)",
          "Leidos (United States)",
          "Leidos (United States)",
          "GlaxoSmithKline (United Kingdom)",
          "GlaxoSmithKline (United Kingdom)",
          "GlaxoSmithKline (United Kingdom)",
          "GlaxoSmithKline (United Kingdom)",
          "Robert Bosch (Germany)",
          "Robert Bosch (Germany)",
          "Robert Bosch (Germany)",
          "GlaxoSmithKline (United Kingdom)",
          "Airbus (Germany)",
          "Airbus (United Kingdom)",
          "Airbus (Germany)",
          "Airbus (Germany)",
          "Airbus (Germany)",
          "Orbitale Hochtechnologie Bremen (Italy)",
          "Airbus (Germany)",
          "Airbus (United Kingdom)",
          "Airbus (United Kingdom)",
          "Airbus (United Kingdom)",
          "Airbus (Germany)",
          "IBM (Ireland)",
          "IBM (Ireland)",
          "Orange (France)",
          "IBM (Ireland)",
          "Interoute (Italy)",
          "Interoute (Italy)",
          "Telefonica Research and Development",
          "Telefonica Research and Development",
          "IBM (Ireland)",
          "IBM (Ireland)",
          "IBM (Ireland)",
          "IBM (Ireland)",
          "IBM (Ireland)",
          "Orange (France)",
          "Amgen (United States)",
          "Roche (United States)",
          "Human Longevity (United States)",
          "Ginkgo BioWorks (United States)",
          "Electricité de France (France)",
          "Roche (United States)",
          "Roche (United States)",
          "MSD (United States)",
          "Venus Remedies (India)",
          "Merck (Germany)",
          "Roche (United States)",
          "Roche (United States)",
          "Sangamo BioSciences (United States)",
          "AstraZeneca (United States)",
          "Amorepacific (South Korea)",
          "Applied Genetic Technologies",
          "Roche (United States)",
          "Telecom Italia (Italy)",
          "Telecom Italia (Italy)",
          "Telecom Italia (Italy)",
          "Telecom Italia (Italy)",
          "Toshiba (United Kingdom)",
          "Roche (United States)",
          "Pfizer (United States)",
          "Pfizer (United States)",
          "Pfizer (United States)",
          "Pfizer (United States)",
          "Human Longevity (United States)",
          "Ixico (United Kingdom)",
          "Eli Lilly (United States)",
          "Takeda (United States)",
          "Boehringer Ingelheim (United States)",
          "BioClinica (United States)",
          "Eli Lilly (United States)",
          "Janssen (United States)",
          "Novartis (United States)",
          "Novartis (United States)",
          "Pfizer (United States)",
          "Pfizer (United States)",
          "General Motors (United States)",
          "Airbus (Germany)",
          "Orbitale Hochtechnologie Bremen (Italy)",
          "Airbus (United Kingdom)",
          "Airbus (Germany)",
          "Airbus (Germany)",
          "Orbitale Hochtechnologie Bremen (Italy)",
          "Orbitale Hochtechnologie Bremen (Italy)",
          "Airbus (Germany)",
          "Airbus (United Kingdom)",
          "Airbus (United Kingdom)",
          "Airbus (Germany)",
          "Airbus (Germany)",
          "Orbitale Hochtechnologie Bremen (Italy)",
          "Airbus (United Kingdom)",
          "Airbus (Germany)",
          "Airbus (Germany)",
          "Orbitale Hochtechnologie Bremen (Italy)",
          "Orbitale Hochtechnologie Bremen (Italy)",
          "Airbus (Germany)",
          "Airbus (United Kingdom)",
          "Airbus (United Kingdom)",
          "Airbus (Germany)",
          "Airbus (Germany)",
          "Orbitale Hochtechnologie Bremen (Italy)",
          "Airbus (United Kingdom)",
          "Airbus (Germany)",
          "Airbus (Germany)",
          "Orbitale Hochtechnologie Bremen (Italy)",
          "Orbitale Hochtechnologie Bremen (Italy)",
          "Airbus (Germany)",
          "Airbus (United Kingdom)",
          "Airbus (United Kingdom)",
          "Airbus (Germany)",
          "Airbus (Germany)",
          "Orbitale Hochtechnologie Bremen (Italy)",
          "Airbus (United Kingdom)",
          "Airbus (Germany)",
          "Airbus (Germany)",
          "Orbitale Hochtechnologie Bremen (Italy)",
          "Orbitale Hochtechnologie Bremen (Italy)",
          "Airbus (Germany)",
          "Airbus (United Kingdom)",
          "Airbus (United Kingdom)",
          "Airbus (Germany)",
          "Airbus (Germany)",
          "Orbitale Hochtechnologie Bremen (Italy)",
          "Airbus (United Kingdom)",
          "Airbus (Germany)",
          "Airbus (Germany)",
          "Orbitale Hochtechnologie Bremen (Italy)",
          "Orbitale Hochtechnologie Bremen (Italy)",
          "Airbus (Germany)",
          "Airbus (United Kingdom)",
          "Airbus (United Kingdom)",
          "Airbus (Germany)",
          "Airbus (Germany)",
          "Orbitale Hochtechnologie Bremen (Italy)",
          "Airbus (United Kingdom)",
          "Airbus (Germany)",
          "Airbus (Germany)",
          "Orbitale Hochtechnologie Bremen (Italy)",
          "Orbitale Hochtechnologie Bremen (Italy)",
          "Airbus (Germany)",
          "Airbus (United Kingdom)",
          "Airbus (United Kingdom)",
          "Airbus (Germany)",
          "Telecom Italia (Italy)",
          "Airbus (Germany)",
          "Orbitale Hochtechnologie Bremen (Italy)",
          "Airbus (United Kingdom)",
          "Airbus (Germany)",
          "Airbus (Germany)",
          "Orbitale Hochtechnologie Bremen (Italy)",
          "Orbitale Hochtechnologie Bremen (Italy)",
          "Airbus (Germany)",
          "Airbus (United Kingdom)",
          "Airbus (United Kingdom)",
          "Airbus (Germany)",
          "Hewlett-Packard (United States)",
          "Hewlett-Packard (United States)",
          "Google (United States)",
          "AT&T (United States)",
          "Robert Bosch (Germany)",
          "Microsoft (United States)",
          "Philips (Netherlands)",
          "Telecom Italia (Italy)",
          "Telecom Italia (Italy)",
          "Microsoft (United States)",
          "Airbus (United Kingdom)",
          "Thales Group (France)",
          "Selex ES (Italy)",
          "Hewlett-Packard (United States)",
          "Rolls-Royce (United Kingdom)",
          "Microsoft (United States)",
          "Nokia (Finland)",
          "Nokia (Finland)",
          "Nokia (Finland)",
          "Intel (United States)",
          "Intel (United States)",
          "Telecom Italia (Italy)",
          "Thales Group (France)",
          "Microsoft (United States)",
          "Microsoft (United States)",
          "Telecom Italia (Italy)",
          "Telecom Italia (Italy)",
          "Hewlett-Packard (United States)",
          "Thales Group (France)",
          "Thales Group (France)",
          "Atos (France)",
          "Nokia (Finland)",
          "Telecom Italia (Italy)",
          "Telecom Italia (Italy)",
          "Microsoft (United States)",
          "Microsoft (United States)",
          "Hewlett-Packard (United States)",
          "Robert Bosch (Germany)",
          "Telecom Italia (Italy)",
          "Microsoft (United States)",
          "Telecom Italia (Italy)",
          "Intel (United States)",
          "Intel (United States)",
          "Hewlett-Packard (United States)",
          "Siemens (Germany)",
          "Intel (United States)",
          "Thales Group (France)",
          "Thales Group (France)",
          "Thales Group (France)",
          "Thales Group (France)",
          "Microsoft (United States)",
          "Microsoft (United States)",
          "Microsoft (United States)",
          "Microsoft (United States)",
          "Roche (United States)",
          "Intel (United States)",
          "Intel (United States)",
          "Intel (United States)",
          "Intel (United States)",
          "Microsoft (United States)",
          "Yahoo (Spain)",
          "Microsoft Research Asia (China)",
          "Thales Group (France)",
          "Hewlett-Packard (United States)",
          "Ford Motor Company (United States)",
          "Thales Group (France)",
          "Telecom Italia (Italy)",
          "Hewlett-Packard (United States)",
          "Hewlett-Packard (United States)",
          "Microsoft (United States)",
          "GlaxoSmithKline (United Kingdom)",
          "GlaxoSmithKline (United Kingdom)",
          "Siemens (Germany)",
          "Siemens (Germany)",
          "Siemens (Germany)",
          "Thales Group (France)",
          "Thales Group (France)",
          "Eli Lilly (United States)",
          "Eli Lilly (United States)",
          "Ford Motor Company (United States)",
          "Hewlett-Packard (United States)",
          "Microsoft (United States)",
          "Hewlett-Packard (United States)",
          "Hewlett-Packard (United States)",
          "Philips (Netherlands)",
          "Microsoft (United States)",
          "Philips (Netherlands)",
          "Ford Motor Company (United States)",
          "Ford Motor Company (United States)",
          "Microsoft (United States)",
          "IBM Research - Zurich",
          "Google (United States)",
          "Microsoft (United States)",
          "Pfizer (United States)",
          "Airbus (United Kingdom)",
          "Airbus (Germany)",
          "Airbus (Germany)",
          "Airbus (United Kingdom)",
          "Nippon Telegraph and Telephone (Japan)",
          "Nippon Telegraph and Telephone (Japan)",
          "Nippon Telegraph and Telephone (Japan)",
          "Yahoo (United States)",
          "Microsoft (United States)",
          "Systems Applications & Products in Data Processing (Germany)",
          "Microsoft (United States)",
          "Microsoft (United States)",
          "AT&T (United States)",
          "AT&T (United States)",
          "Microsoft (United States)",
          "Microsoft (United States)",
          "Microsoft (United States)",
          "Microsoft (United States)",
          "Microsoft (United States)",
          "Microsoft (United States)",
          "AT&T (United States)",
          "Microsoft (United States)",
          "Microsoft Research (United Kingdom)",
          "Yahoo (Spain)",
          "Yahoo (Spain)",
          "Microsoft (United States)",
          "AT&T (United States)",
          "Yahoo (United States)",
          "Hitachi (Japan)",
          "Microsoft Research (United Kingdom)",
          "Hitachi (Japan)",
          "AT&T (United States)",
          "Microsoft Research Asia (China)",
          "Microsoft (United States)",
          "NetApp (United States)",
          "Microsoft (United States)",
          "Google (United States)",
          "Google (United States)",
          "Microsoft Research (United Kingdom)",
          "Microsoft (United States)",
          "IBM Research - Almaden",
          "Microsoft (United States)",
          "Hewlett-Packard (United States)",
          "Yahoo (United States)",
          "AT&T (United States)",
          "NetApp (United States)",
          "Fujitsu (Japan)",
          "NetApp (United States)",
          "NetApp (United States)",
          "Fujitsu (Japan)",
          "Fujitsu (Japan)",
          "Hewlett-Packard (United States)",
          "Fujitsu (Japan)",
          "BMW (Germany)",
          "NetApp (United States)",
          "Fujitsu (Japan)",
          "NetApp (United States)",
          "Fujitsu (Japan)",
          "AT&T (United States)",
          "Yahoo (United States)",
          "Yahoo (Spain)",
          "Yahoo (Spain)",
          "Microsoft Research (United Kingdom)",
          "Microsoft (United States)",
          "Google (United States)",
          "Airbus (United Kingdom)",
          "IBM (United States)",
          "Hewlett-Packard (United States)",
          "Unilever (United Kingdom)",
          "Unilever (United Kingdom)",
          "Mitre (United States)",
          "Advanced Process Combinatorics (United States)",
          "GlaxoSmithKline (United Kingdom)",
          "BASF (Germany)",
          "Hewlett-Packard (United States)",
          "Hewlett-Packard (United States)",
          "Hewlett-Packard (United States)",
          "Unilever (United Kingdom)",
          "Hewlett-Packard (United States)",
          "Robert Bosch (Germany)",
          "STMicroelectronics (Italy)",
          "Nippon Telegraph and Telephone (Japan)",
          "BT Group (United Kingdom)",
          "Thales Group (France)",
          "Nippon Telegraph and Telephone (Japan)",
          "Unilever (United Kingdom)",
          "Nippon Telegraph and Telephone (Japan)",
          "Airbus (Germany)",
          "Airbus (Germany)",
          "Airbus (United Kingdom)",
          "Airbus (Germany)",
          "Airbus (Germany)",
          "Airbus (Germany)",
          "Airbus (Germany)",
          "Airbus (Germany)",
          "Airbus (United Kingdom)",
          "Airbus (Germany)",
          "Nippon Telegraph and Telephone (Japan)",
          "Nippon Telegraph and Telephone (Japan)",
          "Nippon Telegraph and Telephone (Japan)",
          "Microsoft (United States)",
          "AT&T (United States)",
          "Applied Graphene Materials (United Kingdom)",
          "Texas Instruments (United States)",
          "Applied Graphene Materials (United Kingdom)",
          "Texas Instruments (United States)",
          "Finmeccanica (Italy)",
          "Danone (France)",
          "Danone (France)",
          "Danone (France)",
          "Finmeccanica (Italy)",
          "Selex ES (Italy)",
          "Finmeccanica (Italy)",
          "Microsoft Research Asia (China)",
          "Facebook (United States)",
          "Finmeccanica (Italy)",
          "Finmeccanica (Italy)",
          "Facebook (United States)",
          "AT&T (United States)",
          "AT&T (United States)",
          "NXP (Netherlands)",
          "Texas Instruments (United States)",
          "Finmeccanica (Italy)",
          "Systems Applications & Products in Data Processing (Germany)",
          "Huawei Technologies (China)",
          "Nissan (United States)",
          "Huawei Technologies (China)",
          "Huawei Technologies (China)",
          "Owens Corning (United States)",
          "Toray (Japan)",
          "Synopsys (United States)",
          "Eni (Italy)",
          "Eni (Italy)",
          "Eni (Italy)",
          "AT&T (United States)",
          "AT&T (United States)",
          "AT&T (United States)",
          "AT&T (United States)",
          "AT&T (United States)",
          "AT&T (United States)",
          "AT&T (United States)",
          "AT&T (United States)",
          "Finmeccanica (Italy)",
          "Eni (Italy)",
          "Eni (Italy)",
          "Eni (Italy)",
          "Finmeccanica (Italy)",
          "Chiesi Farmaceutici (Italy)",
          "Amazon (United States)",
          "Ecolab (United States)",
          "Ecolab (United States)",
          "Nofima",
          "Campden BRI (United Kingdom)",
          "Nofima",
          "Caesars Entertainment (United States)",
          "STMicroelectronics (Italy)",
          "STMicroelectronics (Italy)",
          "STMicroelectronics (Italy)",
          "STMicroelectronics (Italy)",
          "STMicroelectronics (Italy)",
          "Engineering (Italy)",
          "Engineering (Italy)",
          "Nexture Consulting",
          "Innovation Engineering (Italy)",
          "Engineering (Italy)",
          "Deep Blue (Italy)",
          "Deep Blue (Italy)",
          "Volvo (Sweden)",
          "Fiat Chrysler Automobiles (Italy)",
          "Volvo (Sweden)",
          "Volvo (Sweden)",
          "Volvo (Sweden)",
          "Ford (Germany)",
          "STMicroelectronics (Italy)",
          "STMicroelectronics (Italy)",
          "STMicroelectronics (Italy)",
          "STMicroelectronics (Italy)",
          "STMicroelectronics (Italy)",
          "National Grid (United Kingdom)",
          "Novartis (Italy)",
          "GlaxoSmithKline (Italy)",
          "Novartis (Italy)",
          "GlaxoSmithKline (Italy)",
          "Novartis (Italy)",
          "Novartis (Italy)",
          "Novartis (Italy)",
          "GlaxoSmithKline (Italy)",
          "Novartis (Italy)",
          "GlaxoSmithKline (Italy)",
          "Novartis (Italy)",
          "GlaxoSmithKline (Italy)",
          "Novartis (Italy)",
          "GlaxoSmithKline (Italy)",
          "Novartis (Italy)",
          "GlaxoSmithKline (Italy)",
          "Novartis (Italy)",
          "GlaxoSmithKline (Italy)",
          "Novartis (Italy)",
          "GlaxoSmithKline (Italy)",
          "Novartis (Italy)",
          "GlaxoSmithKline (Italy)",
          "Novartis (Italy)",
          "GlaxoSmithKline (Italy)",
          "Novartis (Italy)",
          "GlaxoSmithKline (Italy)",
          "Novartis (Italy)",
          "Novartis (Italy)",
          "GlaxoSmithKline (Italy)",
          "Novartis (Italy)",
          "GlaxoSmithKline (Italy)",
          "Novartis (Italy)",
          "GlaxoSmithKline (Italy)",
          "Novartis (Italy)",
          "GlaxoSmithKline (Italy)",
          "Novartis (Italy)",
          "GlaxoSmithKline (Italy)",
          "Novartis (Italy)",
          "GlaxoSmithKline (Italy)",
          "Novartis (Italy)",
          "GlaxoSmithKline (Italy)",
          "Telefonica Research and Development",
          "Systems Applications & Products in Data Processing (Germany)",
          "Systems Applications & Products in Data Processing (Germany)",
          "Telefonica Research and Development",
          "Systems Applications & Products in Data Processing (Germany)",
          "National Grid (United Kingdom)",
          "Novartis (Italy)",
          "Novartis (Italy)",
          "Novartis (Italy)",
          "Novartis (Italy)",
          "Novartis (Italy)",
          "Telefonica Research and Development",
          "SELEX Sistemi Integrati",
          "Systems Applications & Products in Data Processing (Germany)",
          "Systems Applications & Products in Data Processing (Germany)",
          "Systems Applications & Products in Data Processing (Germany)",
          "Systems Applications & Products in Data Processing (Germany)",
          "Systems Applications & Products in Data Processing (Germany)",
          "Systems Applications & Products in Data Processing (Germany)",
          "Systems Applications & Products in Data Processing (Germany)",
          "Telefonica Research and Development",
          "Athens Technology Center (Greece)",
          "Athens Technology Center (Greece)",
          "Athens Technology Center (Greece)",
          "Systems Applications & Products in Data Processing (Germany)",
          "Systems Applications & Products in Data Processing (Germany)",
          "Systems Applications & Products in Data Processing (Germany)",
          "Italtel (Italy)",
          "IBM Research - Haifa",
          "IBM Research - Haifa",
          "Systems Applications & Products in Data Processing (Germany)",
          "Systems Applications & Products in Data Processing (Germany)",
          "Systems Applications & Products in Data Processing (Germany)",
          "Microsoft Research (United Kingdom)",
          "Microsoft Research (United Kingdom)",
          "Telenor (Norway)",
          "Telenor (Norway)",
          "Centro Sviluppo Materiali (Italy)",
          "Ionis Pharmaceuticals (United States)",
          "Atos (Spain)",
          "Airbus (Germany)",
          "Airbus (Germany)",
          "Airbus (Germany)",
          "Airbus (Germany)",
          "Airbus (Germany)",
          "Airbus (Germany)",
          "Airbus (Germany)",
          "Airbus (Germany)",
          "Airbus (Germany)",
          "Airbus (Germany)",
          "Airbus (Germany)",
          "IBM Research - Zurich",
          "Hologic Gen-Probe Incorporated (United States)",
          "Hologic Gen-Probe Incorporated (United States)",
          "IBM Research - Zurich",
          "IBM Research - Zurich",
          "IBM Research - Zurich",
          "Quest Diagnostics (United States)",
          "Quest Diagnostics (United States)",
          "Quest Diagnostics (United States)",
          "IBM Research - Zurich",
          "Nestlé (Switzerland)",
          "Nestlé (Switzerland)",
          "Nestlé (Switzerland)",
          "Nestlé (Switzerland)",
          "Nestlé (Switzerland)",
          "Nestlé (Switzerland)",
          "Bizkaia Technology Park",
          "Nestlé (Switzerland)",
          "Nestlé (Switzerland)",
          "Nestlé (Switzerland)",
          "Nestlé (Switzerland)",
          "Nestlé (Switzerland)",
          "Nestlé (Switzerland)",
          "Nestlé (Switzerland)",
          "Ivoclar Vivadent (Liechtenstein)",
          "Mitre (United States)",
          "Mitre (United States)",
          "Accelrys (United Kingdom)",
          "Geotechnical Observations (United Kingdom)",
          "Geotechnical Observations (United Kingdom)",
          "STMicroelectronics (United Kingdom)",
          "AiCure (United States)",
          "ALBA Synchrotron (Spain)",
          "ALBA Synchrotron (Spain)",
          "Aeiforia (Italy)",
          "Swiss Center for Electronics and Microtechnology (Switzerland)",
          "CSP Innovazione nelle ICT (Italy)",
          "CSP Innovazione nelle ICT (Italy)",
          "Thales Alenia Space (Italy)",
          "Thales Alenia Space (Italy)",
          "Thales Alenia Space (Italy)",
          "Thales Alenia Space (Italy)",
          "Deep Blue (Italy)",
          "Thales Alenia Space (Italy)",
          "Deep Blue (Italy)",
          "AquaTT (Ireland)",
          "Deep Blue (Italy)",
          "Deep Blue (Italy)",
          "Thales Alenia Space (Italy)",
          "Thales Alenia Space (Italy)",
          "Deep Blue (Italy)",
          "Deep Blue (Italy)",
          "Thales Alenia Space (Italy)",
          "IBM (France)",
          "Centro Elettrotecnico Sperimentale Italiano (Italy)",
          "Centro Elettrotecnico Sperimentale Italiano (Italy)",
          "GMV Innovating Solutions (Spain)",
          "Aquaplus (Belgium)",
          "Aquaplus (Belgium)",
          "Veolia (France)",
          "Aquaplus (Belgium)",
          "Veolia (France)",
          "Aquaplus (Belgium)",
          "GMV Innovating Solutions (Spain)",
          "Höganäs (Sweden)",
          "IBM Research - Ireland",
          "Höganäs (Sweden)",
          "Pirelli (Italy)",
          "Pirelli (Italy)",
          "Höganäs (Sweden)",
          "Pirelli (Italy)",
          "Pirelli (Italy)",
          "IBM Research - Ireland",
          "Ikerlan",
          "Ikerlan",
          "General Electric (Italy)",
          "General Electric (Italy)",
          "Innovation Engineering (Italy)",
          "Ikerlan",
          "Ikerlan",
          "Gamma Remote Sensing",
          "Gamma Remote Sensing",
          "Gamma Remote Sensing",
          "Gamma Remote Sensing",
          "LioniX (Netherlands)",
          "LioniX (Netherlands)",
          "LioniX (Netherlands)",
          "LioniX (Netherlands)",
          "LioniX (Netherlands)",
          "LioniX (Netherlands)",
          "PhoeniX Software (Netherlands)",
          "Instituttet for Produktudvikling (Denmark)",
          "Instituttet for Produktudvikling (Denmark)",
          "Instituttet for Produktudvikling (Denmark)",
          "Fiat Chrysler Automobiles (Italy)",
          "Fiat Chrysler Automobiles (Italy)",
          "Fiat Chrysler Automobiles (Italy)",
          "Planetek Italia",
          "Ion Beam Services (France)",
          "Research and Environmental Devices (Italy)",
          "Research and Environmental Devices (Italy)",
          "Laviosa Minerals (Italy)",
          "MJC2 (United Kingdom)",
          "Nokia (Germany)",
          "Akka Technologies (France)",
          "Siemens (Austria)",
          "Siemens (Austria)",
          "TÁRKI Social Research Institute",
          "Sylics (Netherlands)",
          "RISA Sicherheitsanalysen",
          "RISA Sicherheitsanalysen",
          "Sitex 45 (Romania)",
          "Memscap (France)",
          "Thermo Fisher Scientific (Netherlands)",
          "Advanced Microwave Systems (Greece)",
          "Sitex 45 (Romania)",
          "RISA Sicherheitsanalysen",
          "Stresstech Group (Finland)",
          "Siemens (Italy)",
          "Siemens (Italy)",
          "Siemens (Italy)",
          "SOFCpower (Italy)",
          "Yahoo (Spain)",
          "Yahoo (Spain)",
          "SOFCpower (Italy)",
          "Xerox (France)",
          "Yahoo (Spain)",
          "Yahoo (Spain)",
          "Yahoo (Spain)",
          "Yahoo (Spain)",
          "Yahoo (Spain)",
          "Yahoo (Spain)",
          "Veneto Nanotech (Italy)",
          "Vienna Consulting Engineers (Austria)",
          "Analytical Imaging and Geophysics (United States)",
          "Global Science & Technology (United States)",
          "PPG Industries (United States)",
          "PPG Industries (United States)",
          "Trento RISE (Italy)",
          "Trento RISE (Italy)",
          "Trento RISE (Italy)",
          "BioSyntha Technology (United Kingdom)",
          "Advanced Laboratory On Embedded Systems (Italy)",
          "Advanced Laboratory On Embedded Systems (Italy)",
          "Advanced Laboratory On Embedded Systems (Italy)",
          "Advanced Laboratory On Embedded Systems (Italy)",
          "Advanced Laboratory On Embedded Systems (Italy)",
          "Advanced Microwave Systems (Greece)",
          "Advanced Microwave Systems (Greece)",
          "Advanced Microwave Systems (Greece)",
          "Sitex 45 (Romania)",
          "Agilent Technologies (Italy)",
          "Carlo Gavazzi (Italy)",
          "Carlo Gavazzi (Italy)",
          "Agilent Technologies (Italy)",
          "Holst Centre (Netherlands)",
          "Holst Centre (Netherlands)",
          "Holst Centre (Netherlands)",
          "Memscap (France)",
          "Thermo Fisher Scientific (Netherlands)",
          "Holst Centre (Netherlands)",
          "Flame Spray (Italy)",
          "Evidence (Italy)",
          "Giotto Biotech (Italy)",
          "Zanardi Fonderie (Italy)",
          "Zanardi Fonderie (Italy)",
          "3M (Germany)",
          "IBM (Italy)",
          "IBM (India)",
          "Isofoton (Spain)",
          "De Agostini (Italy)",
          "Datacorp (United States)",
          "Accuray (United States)",
          "Accenture (Italy)",
          "Accenture (Italy)",
          "Accenture (Italy)",
          "Nanoforce Technology (United Kingdom)",
          "Nanoforce Technology (United Kingdom)",
          "Nanoforce Technology (United Kingdom)",
          "Nanoforce Technology (United Kingdom)",
          "Nanoforce Technology (United Kingdom)",
          "Nanoforce Technology (United Kingdom)",
          "Poste italiane (Italy)",
          "Ribocon (Germany)",
          "Smartec (Switzerland)",
          "Smartec (Switzerland)",
          "Smartec (Switzerland)",
          "Smartec (Switzerland)",
          "Smartec (Switzerland)",
          "Smartec (Switzerland)",
          "Smartec (Switzerland)",
          "Smartec (Switzerland)",
          "Smartec (Switzerland)",
          "Smartec (Switzerland)",
          "Smartec (Switzerland)",
          "Smartec (Switzerland)",
          "Surface Phenomena Researches Group (Russia)",
          "Surface Phenomena Researches Group (Russia)",
          "Surface Phenomena Researches Group (Russia)",
          "Surface Phenomena Researches Group (Russia)",
          "Smartec (Switzerland)",
          "U-Hopper (Italy)",
          "U-Hopper (Italy)",
          "U-Hopper (Italy)",
          "U-Hopper (Italy)",
          "Trentino Network (Italy)",
          "Trentino Network (Italy)",
          "U-Hopper (Italy)",
          "U-Hopper (Italy)",
          "Edinburgh Instruments (United Kingdom)",
          "Edinburgh Instruments (United Kingdom)",
          "Edinburgh Instruments (United Kingdom)",
          "Cambridge Cognition (United Kingdom)",
          "Cambridge Cognition (United Kingdom)",
          "Cambridge Cognition (United Kingdom)",
          "Cambridge Cognition (United Kingdom)",
          "Cambridge Cognition (United Kingdom)",
          "Cambridge Cognition (United Kingdom)",
          "Centro Agricoltura Ambiente (Italy)",
          "Arcon (United States)",
          "EN-FIST Centre of Excellence (Slovenia)",
          "AMO (Germany)",
          "Capital Fund Management (France)",
          "Samsung (India)",
          "Microsoft Research Asia (China)",
          "Microsoft Research Asia (China)",
          "Microsoft Research Asia (China)",
          "Tata Elxsi (India)",
          "Brembo (Italy)",
          "Brembo (Italy)",
          "Brembo (Italy)",
          "Brembo (Italy)",
          "Brembo (Italy)",
          "Brembo (Italy)",
          "Brembo (Italy)",
          "Brembo (Italy)",
          "NetApp (United States)",
          "NetApp (United States)",
          "Google (Switzerland)",
          "Google (Switzerland)",
          "Google (Switzerland)",
          "Google (Switzerland)",
          "Google (Switzerland)",
          "NEC (Germany)",
          "NEC (Germany)",
          "MTN (Uganda)",
          "IBM Research – Africa",
          "IBM Research – Africa",
          "IBM Research – Africa",
          "IBM Research - India",
          "IBM Research - India",
          "IBM Research - India",
          "IBM Research - Almaden",
          "IBM Research - Almaden",
          "IBM Research - Almaden",
          "IBM Research - Almaden",
          "Holst Centre (Netherlands)",
          "Holst Centre (Netherlands)",
          "Memscap (France)",
          "Daiichi Sankyo (Germany)",
          "Orthofix (Italy)",
          "Cloudera (United States)",
          "Akamai (United States)",
          "FM Global (United States)",
          "Magnetic Resonance Innovations (United States)",
          "Magnetic Resonance Innovations (United States)"
         ],
         "xaxis": "x",
         "yaxis": "y"
        }
       ],
       "layout": {
        "autosize": true,
        "barmode": "relative",
        "legend": {
         "tracegroupgap": 0
        },
        "template": {
         "data": {
          "bar": [
           {
            "error_x": {
             "color": "#2a3f5f"
            },
            "error_y": {
             "color": "#2a3f5f"
            },
            "marker": {
             "line": {
              "color": "#E5ECF6",
              "width": 0.5
             }
            },
            "type": "bar"
           }
          ],
          "barpolar": [
           {
            "marker": {
             "line": {
              "color": "#E5ECF6",
              "width": 0.5
             }
            },
            "type": "barpolar"
           }
          ],
          "carpet": [
           {
            "aaxis": {
             "endlinecolor": "#2a3f5f",
             "gridcolor": "white",
             "linecolor": "white",
             "minorgridcolor": "white",
             "startlinecolor": "#2a3f5f"
            },
            "baxis": {
             "endlinecolor": "#2a3f5f",
             "gridcolor": "white",
             "linecolor": "white",
             "minorgridcolor": "white",
             "startlinecolor": "#2a3f5f"
            },
            "type": "carpet"
           }
          ],
          "choropleth": [
           {
            "colorbar": {
             "outlinewidth": 0,
             "ticks": ""
            },
            "type": "choropleth"
           }
          ],
          "contour": [
           {
            "colorbar": {
             "outlinewidth": 0,
             "ticks": ""
            },
            "colorscale": [
             [
              0,
              "#0d0887"
             ],
             [
              0.1111111111111111,
              "#46039f"
             ],
             [
              0.2222222222222222,
              "#7201a8"
             ],
             [
              0.3333333333333333,
              "#9c179e"
             ],
             [
              0.4444444444444444,
              "#bd3786"
             ],
             [
              0.5555555555555556,
              "#d8576b"
             ],
             [
              0.6666666666666666,
              "#ed7953"
             ],
             [
              0.7777777777777778,
              "#fb9f3a"
             ],
             [
              0.8888888888888888,
              "#fdca26"
             ],
             [
              1,
              "#f0f921"
             ]
            ],
            "type": "contour"
           }
          ],
          "contourcarpet": [
           {
            "colorbar": {
             "outlinewidth": 0,
             "ticks": ""
            },
            "type": "contourcarpet"
           }
          ],
          "heatmap": [
           {
            "colorbar": {
             "outlinewidth": 0,
             "ticks": ""
            },
            "colorscale": [
             [
              0,
              "#0d0887"
             ],
             [
              0.1111111111111111,
              "#46039f"
             ],
             [
              0.2222222222222222,
              "#7201a8"
             ],
             [
              0.3333333333333333,
              "#9c179e"
             ],
             [
              0.4444444444444444,
              "#bd3786"
             ],
             [
              0.5555555555555556,
              "#d8576b"
             ],
             [
              0.6666666666666666,
              "#ed7953"
             ],
             [
              0.7777777777777778,
              "#fb9f3a"
             ],
             [
              0.8888888888888888,
              "#fdca26"
             ],
             [
              1,
              "#f0f921"
             ]
            ],
            "type": "heatmap"
           }
          ],
          "heatmapgl": [
           {
            "colorbar": {
             "outlinewidth": 0,
             "ticks": ""
            },
            "colorscale": [
             [
              0,
              "#0d0887"
             ],
             [
              0.1111111111111111,
              "#46039f"
             ],
             [
              0.2222222222222222,
              "#7201a8"
             ],
             [
              0.3333333333333333,
              "#9c179e"
             ],
             [
              0.4444444444444444,
              "#bd3786"
             ],
             [
              0.5555555555555556,
              "#d8576b"
             ],
             [
              0.6666666666666666,
              "#ed7953"
             ],
             [
              0.7777777777777778,
              "#fb9f3a"
             ],
             [
              0.8888888888888888,
              "#fdca26"
             ],
             [
              1,
              "#f0f921"
             ]
            ],
            "type": "heatmapgl"
           }
          ],
          "histogram": [
           {
            "marker": {
             "colorbar": {
              "outlinewidth": 0,
              "ticks": ""
             }
            },
            "type": "histogram"
           }
          ],
          "histogram2d": [
           {
            "colorbar": {
             "outlinewidth": 0,
             "ticks": ""
            },
            "colorscale": [
             [
              0,
              "#0d0887"
             ],
             [
              0.1111111111111111,
              "#46039f"
             ],
             [
              0.2222222222222222,
              "#7201a8"
             ],
             [
              0.3333333333333333,
              "#9c179e"
             ],
             [
              0.4444444444444444,
              "#bd3786"
             ],
             [
              0.5555555555555556,
              "#d8576b"
             ],
             [
              0.6666666666666666,
              "#ed7953"
             ],
             [
              0.7777777777777778,
              "#fb9f3a"
             ],
             [
              0.8888888888888888,
              "#fdca26"
             ],
             [
              1,
              "#f0f921"
             ]
            ],
            "type": "histogram2d"
           }
          ],
          "histogram2dcontour": [
           {
            "colorbar": {
             "outlinewidth": 0,
             "ticks": ""
            },
            "colorscale": [
             [
              0,
              "#0d0887"
             ],
             [
              0.1111111111111111,
              "#46039f"
             ],
             [
              0.2222222222222222,
              "#7201a8"
             ],
             [
              0.3333333333333333,
              "#9c179e"
             ],
             [
              0.4444444444444444,
              "#bd3786"
             ],
             [
              0.5555555555555556,
              "#d8576b"
             ],
             [
              0.6666666666666666,
              "#ed7953"
             ],
             [
              0.7777777777777778,
              "#fb9f3a"
             ],
             [
              0.8888888888888888,
              "#fdca26"
             ],
             [
              1,
              "#f0f921"
             ]
            ],
            "type": "histogram2dcontour"
           }
          ],
          "mesh3d": [
           {
            "colorbar": {
             "outlinewidth": 0,
             "ticks": ""
            },
            "type": "mesh3d"
           }
          ],
          "parcoords": [
           {
            "line": {
             "colorbar": {
              "outlinewidth": 0,
              "ticks": ""
             }
            },
            "type": "parcoords"
           }
          ],
          "pie": [
           {
            "automargin": true,
            "type": "pie"
           }
          ],
          "scatter": [
           {
            "marker": {
             "colorbar": {
              "outlinewidth": 0,
              "ticks": ""
             }
            },
            "type": "scatter"
           }
          ],
          "scatter3d": [
           {
            "line": {
             "colorbar": {
              "outlinewidth": 0,
              "ticks": ""
             }
            },
            "marker": {
             "colorbar": {
              "outlinewidth": 0,
              "ticks": ""
             }
            },
            "type": "scatter3d"
           }
          ],
          "scattercarpet": [
           {
            "marker": {
             "colorbar": {
              "outlinewidth": 0,
              "ticks": ""
             }
            },
            "type": "scattercarpet"
           }
          ],
          "scattergeo": [
           {
            "marker": {
             "colorbar": {
              "outlinewidth": 0,
              "ticks": ""
             }
            },
            "type": "scattergeo"
           }
          ],
          "scattergl": [
           {
            "marker": {
             "colorbar": {
              "outlinewidth": 0,
              "ticks": ""
             }
            },
            "type": "scattergl"
           }
          ],
          "scattermapbox": [
           {
            "marker": {
             "colorbar": {
              "outlinewidth": 0,
              "ticks": ""
             }
            },
            "type": "scattermapbox"
           }
          ],
          "scatterpolar": [
           {
            "marker": {
             "colorbar": {
              "outlinewidth": 0,
              "ticks": ""
             }
            },
            "type": "scatterpolar"
           }
          ],
          "scatterpolargl": [
           {
            "marker": {
             "colorbar": {
              "outlinewidth": 0,
              "ticks": ""
             }
            },
            "type": "scatterpolargl"
           }
          ],
          "scatterternary": [
           {
            "marker": {
             "colorbar": {
              "outlinewidth": 0,
              "ticks": ""
             }
            },
            "type": "scatterternary"
           }
          ],
          "surface": [
           {
            "colorbar": {
             "outlinewidth": 0,
             "ticks": ""
            },
            "colorscale": [
             [
              0,
              "#0d0887"
             ],
             [
              0.1111111111111111,
              "#46039f"
             ],
             [
              0.2222222222222222,
              "#7201a8"
             ],
             [
              0.3333333333333333,
              "#9c179e"
             ],
             [
              0.4444444444444444,
              "#bd3786"
             ],
             [
              0.5555555555555556,
              "#d8576b"
             ],
             [
              0.6666666666666666,
              "#ed7953"
             ],
             [
              0.7777777777777778,
              "#fb9f3a"
             ],
             [
              0.8888888888888888,
              "#fdca26"
             ],
             [
              1,
              "#f0f921"
             ]
            ],
            "type": "surface"
           }
          ],
          "table": [
           {
            "cells": {
             "fill": {
              "color": "#EBF0F8"
             },
             "line": {
              "color": "white"
             }
            },
            "header": {
             "fill": {
              "color": "#C8D4E3"
             },
             "line": {
              "color": "white"
             }
            },
            "type": "table"
           }
          ]
         },
         "layout": {
          "annotationdefaults": {
           "arrowcolor": "#2a3f5f",
           "arrowhead": 0,
           "arrowwidth": 1
          },
          "coloraxis": {
           "colorbar": {
            "outlinewidth": 0,
            "ticks": ""
           }
          },
          "colorscale": {
           "diverging": [
            [
             0,
             "#8e0152"
            ],
            [
             0.1,
             "#c51b7d"
            ],
            [
             0.2,
             "#de77ae"
            ],
            [
             0.3,
             "#f1b6da"
            ],
            [
             0.4,
             "#fde0ef"
            ],
            [
             0.5,
             "#f7f7f7"
            ],
            [
             0.6,
             "#e6f5d0"
            ],
            [
             0.7,
             "#b8e186"
            ],
            [
             0.8,
             "#7fbc41"
            ],
            [
             0.9,
             "#4d9221"
            ],
            [
             1,
             "#276419"
            ]
           ],
           "sequential": [
            [
             0,
             "#0d0887"
            ],
            [
             0.1111111111111111,
             "#46039f"
            ],
            [
             0.2222222222222222,
             "#7201a8"
            ],
            [
             0.3333333333333333,
             "#9c179e"
            ],
            [
             0.4444444444444444,
             "#bd3786"
            ],
            [
             0.5555555555555556,
             "#d8576b"
            ],
            [
             0.6666666666666666,
             "#ed7953"
            ],
            [
             0.7777777777777778,
             "#fb9f3a"
            ],
            [
             0.8888888888888888,
             "#fdca26"
            ],
            [
             1,
             "#f0f921"
            ]
           ],
           "sequentialminus": [
            [
             0,
             "#0d0887"
            ],
            [
             0.1111111111111111,
             "#46039f"
            ],
            [
             0.2222222222222222,
             "#7201a8"
            ],
            [
             0.3333333333333333,
             "#9c179e"
            ],
            [
             0.4444444444444444,
             "#bd3786"
            ],
            [
             0.5555555555555556,
             "#d8576b"
            ],
            [
             0.6666666666666666,
             "#ed7953"
            ],
            [
             0.7777777777777778,
             "#fb9f3a"
            ],
            [
             0.8888888888888888,
             "#fdca26"
            ],
            [
             1,
             "#f0f921"
            ]
           ]
          },
          "colorway": [
           "#636efa",
           "#EF553B",
           "#00cc96",
           "#ab63fa",
           "#FFA15A",
           "#19d3f3",
           "#FF6692",
           "#B6E880",
           "#FF97FF",
           "#FECB52"
          ],
          "font": {
           "color": "#2a3f5f"
          },
          "geo": {
           "bgcolor": "white",
           "lakecolor": "white",
           "landcolor": "#E5ECF6",
           "showlakes": true,
           "showland": true,
           "subunitcolor": "white"
          },
          "hoverlabel": {
           "align": "left"
          },
          "hovermode": "closest",
          "mapbox": {
           "style": "light"
          },
          "paper_bgcolor": "white",
          "plot_bgcolor": "#E5ECF6",
          "polar": {
           "angularaxis": {
            "gridcolor": "white",
            "linecolor": "white",
            "ticks": ""
           },
           "bgcolor": "#E5ECF6",
           "radialaxis": {
            "gridcolor": "white",
            "linecolor": "white",
            "ticks": ""
           }
          },
          "scene": {
           "xaxis": {
            "backgroundcolor": "#E5ECF6",
            "gridcolor": "white",
            "gridwidth": 2,
            "linecolor": "white",
            "showbackground": true,
            "ticks": "",
            "zerolinecolor": "white"
           },
           "yaxis": {
            "backgroundcolor": "#E5ECF6",
            "gridcolor": "white",
            "gridwidth": 2,
            "linecolor": "white",
            "showbackground": true,
            "ticks": "",
            "zerolinecolor": "white"
           },
           "zaxis": {
            "backgroundcolor": "#E5ECF6",
            "gridcolor": "white",
            "gridwidth": 2,
            "linecolor": "white",
            "showbackground": true,
            "ticks": "",
            "zerolinecolor": "white"
           }
          },
          "shapedefaults": {
           "line": {
            "color": "#2a3f5f"
           }
          },
          "ternary": {
           "aaxis": {
            "gridcolor": "white",
            "linecolor": "white",
            "ticks": ""
           },
           "baxis": {
            "gridcolor": "white",
            "linecolor": "white",
            "ticks": ""
           },
           "bgcolor": "#E5ECF6",
           "caxis": {
            "gridcolor": "white",
            "linecolor": "white",
            "ticks": ""
           }
          },
          "title": {
           "x": 0.05
          },
          "xaxis": {
           "automargin": true,
           "gridcolor": "white",
           "linecolor": "white",
           "ticks": "",
           "title": {
            "standoff": 15
           },
           "zerolinecolor": "white",
           "zerolinewidth": 2
          },
          "yaxis": {
           "automargin": true,
           "gridcolor": "white",
           "linecolor": "white",
           "ticks": "",
           "title": {
            "standoff": 15
           },
           "zerolinecolor": "white",
           "zerolinewidth": 2
          }
         }
        },
        "title": {
         "text": "Top Industry collaborators for grid.11696.39"
        },
        "xaxis": {
         "anchor": "y",
         "autorange": true,
         "categoryorder": "total descending",
         "domain": [
          0,
          1
         ],
         "range": [
          -0.5,
          202.5
         ],
         "title": {
          "text": "aff_name"
         },
         "type": "category"
        },
        "yaxis": {
         "anchor": "x",
         "autorange": true,
         "domain": [
          0,
          1
         ],
         "range": [
          0,
          71.57894736842105
         ],
         "title": {
          "text": "count"
         }
        }
       }
      },
      "image/png": "[encoded data removed]",
      "text/html": [
       "<div>\n",
       "        \n",
       "        \n",
       "            <div id=\"011882f0-c6b9-469e-80cb-5be504407c61\" class=\"plotly-graph-div\" style=\"height:900px; width:100%;\"></div>\n",
       "            <script type=\"text/javascript\">\n",
       "                require([\"plotly\"], function(Plotly) {\n",
       "                    window.PLOTLYENV=window.PLOTLYENV || {};\n",
       "                    \n",
       "                if (document.getElementById(\"011882f0-c6b9-469e-80cb-5be504407c61\")) {\n",
       "                    Plotly.newPlot(\n",
       "                        '011882f0-c6b9-469e-80cb-5be504407c61',\n",
       "                        [{\"alignmentgroup\": \"True\", \"bingroup\": \"x\", \"hoverlabel\": {\"namelength\": 0}, \"hovertemplate\": \"aff_name=%{x}<br>count=%{y}\", \"legendgroup\": \"\", \"marker\": {\"color\": \"#636efa\"}, \"name\": \"\", \"offsetgroup\": \"\", \"orientation\": \"v\", \"showlegend\": false, \"type\": \"histogram\", \"x\": [\"Telecom Italia (Italy)\", \"Airbus (Germany)\", \"Orbitale Hochtechnologie Bremen (Italy)\", \"Orbitale Hochtechnologie Bremen (Italy)\", \"Orbitale Hochtechnologie Bremen (Italy)\", \"Airbus (United Kingdom)\", \"Airbus (Germany)\", \"Airbus (Germany)\", \"Airbus (Germany)\", \"Orbitale Hochtechnologie Bremen (Italy)\", \"Orbitale Hochtechnologie Bremen (Italy)\", \"Airbus (Germany)\", \"Airbus (United Kingdom)\", \"Airbus (United Kingdom)\", \"Airbus (United Kingdom)\", \"Airbus (United Kingdom)\", \"Airbus (Germany)\", \"Telecom Italia (Italy)\", \"Telecom Italia (Italy)\", \"Telecom Italia (Italy)\", \"Telecom Italia (Italy)\", \"Telecom Italia (Italy)\", \"Telefonica Research and Development\", \"Telecom Italia (Italy)\", \"Takeda (Japan)\", \"Takeda (Japan)\", \"Takeda (Japan)\", \"Sanofi (United States)\", \"Sanofi (United States)\", \"Novartis (United States)\", \"Novartis (United States)\", \"Advanced Bioscience Laboratories (United States)\", \"Novartis (Italy)\", \"Leidos (United States)\", \"Leidos (United States)\", \"Leidos (United States)\", \"Leidos (United States)\", \"GlaxoSmithKline (United Kingdom)\", \"GlaxoSmithKline (United Kingdom)\", \"GlaxoSmithKline (United Kingdom)\", \"GlaxoSmithKline (United Kingdom)\", \"Robert Bosch (Germany)\", \"Robert Bosch (Germany)\", \"Robert Bosch (Germany)\", \"GlaxoSmithKline (United Kingdom)\", \"Airbus (Germany)\", \"Airbus (United Kingdom)\", \"Airbus (Germany)\", \"Airbus (Germany)\", \"Airbus (Germany)\", \"Orbitale Hochtechnologie Bremen (Italy)\", \"Airbus (Germany)\", \"Airbus (United Kingdom)\", \"Airbus (United Kingdom)\", \"Airbus (United Kingdom)\", \"Airbus (Germany)\", \"IBM (Ireland)\", \"IBM (Ireland)\", \"Orange (France)\", \"IBM (Ireland)\", \"Interoute (Italy)\", \"Interoute (Italy)\", \"Telefonica Research and Development\", \"Telefonica Research and Development\", \"IBM (Ireland)\", \"IBM (Ireland)\", \"IBM (Ireland)\", \"IBM (Ireland)\", \"IBM (Ireland)\", \"Orange (France)\", \"Amgen (United States)\", \"Roche (United States)\", \"Human Longevity (United States)\", \"Ginkgo BioWorks (United States)\", \"Electricit\\u00e9 de France (France)\", \"Roche (United States)\", \"Roche (United States)\", \"MSD (United States)\", \"Venus Remedies (India)\", \"Merck (Germany)\", \"Roche (United States)\", \"Roche (United States)\", \"Sangamo BioSciences (United States)\", \"AstraZeneca (United States)\", \"Amorepacific (South Korea)\", \"Applied Genetic Technologies\", \"Roche (United States)\", \"Telecom Italia (Italy)\", \"Telecom Italia (Italy)\", \"Telecom Italia (Italy)\", \"Telecom Italia (Italy)\", \"Toshiba (United Kingdom)\", \"Roche (United States)\", \"Pfizer (United States)\", \"Pfizer (United States)\", \"Pfizer (United States)\", \"Pfizer (United States)\", \"Human Longevity (United States)\", \"Ixico (United Kingdom)\", \"Eli Lilly (United States)\", \"Takeda (United States)\", \"Boehringer Ingelheim (United States)\", \"BioClinica (United States)\", \"Eli Lilly (United States)\", \"Janssen (United States)\", \"Novartis (United States)\", \"Novartis (United States)\", \"Pfizer (United States)\", \"Pfizer (United States)\", \"General Motors (United States)\", \"Airbus (Germany)\", \"Orbitale Hochtechnologie Bremen (Italy)\", \"Airbus (United Kingdom)\", \"Airbus (Germany)\", \"Airbus (Germany)\", \"Orbitale Hochtechnologie Bremen (Italy)\", \"Orbitale Hochtechnologie Bremen (Italy)\", \"Airbus (Germany)\", \"Airbus (United Kingdom)\", \"Airbus (United Kingdom)\", \"Airbus (Germany)\", \"Airbus (Germany)\", \"Orbitale Hochtechnologie Bremen (Italy)\", \"Airbus (United Kingdom)\", \"Airbus (Germany)\", \"Airbus (Germany)\", \"Orbitale Hochtechnologie Bremen (Italy)\", \"Orbitale Hochtechnologie Bremen (Italy)\", \"Airbus (Germany)\", \"Airbus (United Kingdom)\", \"Airbus (United Kingdom)\", \"Airbus (Germany)\", \"Airbus (Germany)\", \"Orbitale Hochtechnologie Bremen (Italy)\", \"Airbus (United Kingdom)\", \"Airbus (Germany)\", \"Airbus (Germany)\", \"Orbitale Hochtechnologie Bremen (Italy)\", \"Orbitale Hochtechnologie Bremen (Italy)\", \"Airbus (Germany)\", \"Airbus (United Kingdom)\", \"Airbus (United Kingdom)\", \"Airbus (Germany)\", \"Airbus (Germany)\", \"Orbitale Hochtechnologie Bremen (Italy)\", \"Airbus (United Kingdom)\", \"Airbus (Germany)\", \"Airbus (Germany)\", \"Orbitale Hochtechnologie Bremen (Italy)\", \"Orbitale Hochtechnologie Bremen (Italy)\", \"Airbus (Germany)\", \"Airbus (United Kingdom)\", \"Airbus (United Kingdom)\", \"Airbus (Germany)\", \"Airbus (Germany)\", \"Orbitale Hochtechnologie Bremen (Italy)\", \"Airbus (United Kingdom)\", \"Airbus (Germany)\", \"Airbus (Germany)\", \"Orbitale Hochtechnologie Bremen (Italy)\", \"Orbitale Hochtechnologie Bremen (Italy)\", \"Airbus (Germany)\", \"Airbus (United Kingdom)\", \"Airbus (United Kingdom)\", \"Airbus (Germany)\", \"Airbus (Germany)\", \"Orbitale Hochtechnologie Bremen (Italy)\", \"Airbus (United Kingdom)\", \"Airbus (Germany)\", \"Airbus (Germany)\", \"Orbitale Hochtechnologie Bremen (Italy)\", \"Orbitale Hochtechnologie Bremen (Italy)\", \"Airbus (Germany)\", \"Airbus (United Kingdom)\", \"Airbus (United Kingdom)\", \"Airbus (Germany)\", \"Telecom Italia (Italy)\", \"Airbus (Germany)\", \"Orbitale Hochtechnologie Bremen (Italy)\", \"Airbus (United Kingdom)\", \"Airbus (Germany)\", \"Airbus (Germany)\", \"Orbitale Hochtechnologie Bremen (Italy)\", \"Orbitale Hochtechnologie Bremen (Italy)\", \"Airbus (Germany)\", \"Airbus (United Kingdom)\", \"Airbus (United Kingdom)\", \"Airbus (Germany)\", \"Hewlett-Packard (United States)\", \"Hewlett-Packard (United States)\", \"Google (United States)\", \"AT&T (United States)\", \"Robert Bosch (Germany)\", \"Microsoft (United States)\", \"Philips (Netherlands)\", \"Telecom Italia (Italy)\", \"Telecom Italia (Italy)\", \"Microsoft (United States)\", \"Airbus (United Kingdom)\", \"Thales Group (France)\", \"Selex ES (Italy)\", \"Hewlett-Packard (United States)\", \"Rolls-Royce (United Kingdom)\", \"Microsoft (United States)\", \"Nokia (Finland)\", \"Nokia (Finland)\", \"Nokia (Finland)\", \"Intel (United States)\", \"Intel (United States)\", \"Telecom Italia (Italy)\", \"Thales Group (France)\", \"Microsoft (United States)\", \"Microsoft (United States)\", \"Telecom Italia (Italy)\", \"Telecom Italia (Italy)\", \"Hewlett-Packard (United States)\", \"Thales Group (France)\", \"Thales Group (France)\", \"Atos (France)\", \"Nokia (Finland)\", \"Telecom Italia (Italy)\", \"Telecom Italia (Italy)\", \"Microsoft (United States)\", \"Microsoft (United States)\", \"Hewlett-Packard (United States)\", \"Robert Bosch (Germany)\", \"Telecom Italia (Italy)\", \"Microsoft (United States)\", \"Telecom Italia (Italy)\", \"Intel (United States)\", \"Intel (United States)\", \"Hewlett-Packard (United States)\", \"Siemens (Germany)\", \"Intel (United States)\", \"Thales Group (France)\", \"Thales Group (France)\", \"Thales Group (France)\", \"Thales Group (France)\", \"Microsoft (United States)\", \"Microsoft (United States)\", \"Microsoft (United States)\", \"Microsoft (United States)\", \"Roche (United States)\", \"Intel (United States)\", \"Intel (United States)\", \"Intel (United States)\", \"Intel (United States)\", \"Microsoft (United States)\", \"Yahoo (Spain)\", \"Microsoft Research Asia (China)\", \"Thales Group (France)\", \"Hewlett-Packard (United States)\", \"Ford Motor Company (United States)\", \"Thales Group (France)\", \"Telecom Italia (Italy)\", \"Hewlett-Packard (United States)\", \"Hewlett-Packard (United States)\", \"Microsoft (United States)\", \"GlaxoSmithKline (United Kingdom)\", \"GlaxoSmithKline (United Kingdom)\", \"Siemens (Germany)\", \"Siemens (Germany)\", \"Siemens (Germany)\", \"Thales Group (France)\", \"Thales Group (France)\", \"Eli Lilly (United States)\", \"Eli Lilly (United States)\", \"Ford Motor Company (United States)\", \"Hewlett-Packard (United States)\", \"Microsoft (United States)\", \"Hewlett-Packard (United States)\", \"Hewlett-Packard (United States)\", \"Philips (Netherlands)\", \"Microsoft (United States)\", \"Philips (Netherlands)\", \"Ford Motor Company (United States)\", \"Ford Motor Company (United States)\", \"Microsoft (United States)\", \"IBM Research - Zurich\", \"Google (United States)\", \"Microsoft (United States)\", \"Pfizer (United States)\", \"Airbus (United Kingdom)\", \"Airbus (Germany)\", \"Airbus (Germany)\", \"Airbus (United Kingdom)\", \"Nippon Telegraph and Telephone (Japan)\", \"Nippon Telegraph and Telephone (Japan)\", \"Nippon Telegraph and Telephone (Japan)\", \"Yahoo (United States)\", \"Microsoft (United States)\", \"Systems Applications & Products in Data Processing (Germany)\", \"Microsoft (United States)\", \"Microsoft (United States)\", \"AT&T (United States)\", \"AT&T (United States)\", \"Microsoft (United States)\", \"Microsoft (United States)\", \"Microsoft (United States)\", \"Microsoft (United States)\", \"Microsoft (United States)\", \"Microsoft (United States)\", \"AT&T (United States)\", \"Microsoft (United States)\", \"Microsoft Research (United Kingdom)\", \"Yahoo (Spain)\", \"Yahoo (Spain)\", \"Microsoft (United States)\", \"AT&T (United States)\", \"Yahoo (United States)\", \"Hitachi (Japan)\", \"Microsoft Research (United Kingdom)\", \"Hitachi (Japan)\", \"AT&T (United States)\", \"Microsoft Research Asia (China)\", \"Microsoft (United States)\", \"NetApp (United States)\", \"Microsoft (United States)\", \"Google (United States)\", \"Google (United States)\", \"Microsoft Research (United Kingdom)\", \"Microsoft (United States)\", \"IBM Research - Almaden\", \"Microsoft (United States)\", \"Hewlett-Packard (United States)\", \"Yahoo (United States)\", \"AT&T (United States)\", \"NetApp (United States)\", \"Fujitsu (Japan)\", \"NetApp (United States)\", \"NetApp (United States)\", \"Fujitsu (Japan)\", \"Fujitsu (Japan)\", \"Hewlett-Packard (United States)\", \"Fujitsu (Japan)\", \"BMW (Germany)\", \"NetApp (United States)\", \"Fujitsu (Japan)\", \"NetApp (United States)\", \"Fujitsu (Japan)\", \"AT&T (United States)\", \"Yahoo (United States)\", \"Yahoo (Spain)\", \"Yahoo (Spain)\", \"Microsoft Research (United Kingdom)\", \"Microsoft (United States)\", \"Google (United States)\", \"Airbus (United Kingdom)\", \"IBM (United States)\", \"Hewlett-Packard (United States)\", \"Unilever (United Kingdom)\", \"Unilever (United Kingdom)\", \"Mitre (United States)\", \"Advanced Process Combinatorics (United States)\", \"GlaxoSmithKline (United Kingdom)\", \"BASF (Germany)\", \"Hewlett-Packard (United States)\", \"Hewlett-Packard (United States)\", \"Hewlett-Packard (United States)\", \"Unilever (United Kingdom)\", \"Hewlett-Packard (United States)\", \"Robert Bosch (Germany)\", \"STMicroelectronics (Italy)\", \"Nippon Telegraph and Telephone (Japan)\", \"BT Group (United Kingdom)\", \"Thales Group (France)\", \"Nippon Telegraph and Telephone (Japan)\", \"Unilever (United Kingdom)\", \"Nippon Telegraph and Telephone (Japan)\", \"Airbus (Germany)\", \"Airbus (Germany)\", \"Airbus (United Kingdom)\", \"Airbus (Germany)\", \"Airbus (Germany)\", \"Airbus (Germany)\", \"Airbus (Germany)\", \"Airbus (Germany)\", \"Airbus (United Kingdom)\", \"Airbus (Germany)\", \"Nippon Telegraph and Telephone (Japan)\", \"Nippon Telegraph and Telephone (Japan)\", \"Nippon Telegraph and Telephone (Japan)\", \"Microsoft (United States)\", \"AT&T (United States)\", \"Applied Graphene Materials (United Kingdom)\", \"Texas Instruments (United States)\", \"Applied Graphene Materials (United Kingdom)\", \"Texas Instruments (United States)\", \"Finmeccanica (Italy)\", \"Danone (France)\", \"Danone (France)\", \"Danone (France)\", \"Finmeccanica (Italy)\", \"Selex ES (Italy)\", \"Finmeccanica (Italy)\", \"Microsoft Research Asia (China)\", \"Facebook (United States)\", \"Finmeccanica (Italy)\", \"Finmeccanica (Italy)\", \"Facebook (United States)\", \"AT&T (United States)\", \"AT&T (United States)\", \"NXP (Netherlands)\", \"Texas Instruments (United States)\", \"Finmeccanica (Italy)\", \"Systems Applications & Products in Data Processing (Germany)\", \"Huawei Technologies (China)\", \"Nissan (United States)\", \"Huawei Technologies (China)\", \"Huawei Technologies (China)\", \"Owens Corning (United States)\", \"Toray (Japan)\", \"Synopsys (United States)\", \"Eni (Italy)\", \"Eni (Italy)\", \"Eni (Italy)\", \"AT&T (United States)\", \"AT&T (United States)\", \"AT&T (United States)\", \"AT&T (United States)\", \"AT&T (United States)\", \"AT&T (United States)\", \"AT&T (United States)\", \"AT&T (United States)\", \"Finmeccanica (Italy)\", \"Eni (Italy)\", \"Eni (Italy)\", \"Eni (Italy)\", \"Finmeccanica (Italy)\", \"Chiesi Farmaceutici (Italy)\", \"Amazon (United States)\", \"Ecolab (United States)\", \"Ecolab (United States)\", \"Nofima\", \"Campden BRI (United Kingdom)\", \"Nofima\", \"Caesars Entertainment (United States)\", \"STMicroelectronics (Italy)\", \"STMicroelectronics (Italy)\", \"STMicroelectronics (Italy)\", \"STMicroelectronics (Italy)\", \"STMicroelectronics (Italy)\", \"Engineering (Italy)\", \"Engineering (Italy)\", \"Nexture Consulting\", \"Innovation Engineering (Italy)\", \"Engineering (Italy)\", \"Deep Blue (Italy)\", \"Deep Blue (Italy)\", \"Volvo (Sweden)\", \"Fiat Chrysler Automobiles (Italy)\", \"Volvo (Sweden)\", \"Volvo (Sweden)\", \"Volvo (Sweden)\", \"Ford (Germany)\", \"STMicroelectronics (Italy)\", \"STMicroelectronics (Italy)\", \"STMicroelectronics (Italy)\", \"STMicroelectronics (Italy)\", \"STMicroelectronics (Italy)\", \"National Grid (United Kingdom)\", \"Novartis (Italy)\", \"GlaxoSmithKline (Italy)\", \"Novartis (Italy)\", \"GlaxoSmithKline (Italy)\", \"Novartis (Italy)\", \"Novartis (Italy)\", \"Novartis (Italy)\", \"GlaxoSmithKline (Italy)\", \"Novartis (Italy)\", \"GlaxoSmithKline (Italy)\", \"Novartis (Italy)\", \"GlaxoSmithKline (Italy)\", \"Novartis (Italy)\", \"GlaxoSmithKline (Italy)\", \"Novartis (Italy)\", \"GlaxoSmithKline (Italy)\", \"Novartis (Italy)\", \"GlaxoSmithKline (Italy)\", \"Novartis (Italy)\", \"GlaxoSmithKline (Italy)\", \"Novartis (Italy)\", \"GlaxoSmithKline (Italy)\", \"Novartis (Italy)\", \"GlaxoSmithKline (Italy)\", \"Novartis (Italy)\", \"GlaxoSmithKline (Italy)\", \"Novartis (Italy)\", \"Novartis (Italy)\", \"GlaxoSmithKline (Italy)\", \"Novartis (Italy)\", \"GlaxoSmithKline (Italy)\", \"Novartis (Italy)\", \"GlaxoSmithKline (Italy)\", \"Novartis (Italy)\", \"GlaxoSmithKline (Italy)\", \"Novartis (Italy)\", \"GlaxoSmithKline (Italy)\", \"Novartis (Italy)\", \"GlaxoSmithKline (Italy)\", \"Novartis (Italy)\", \"GlaxoSmithKline (Italy)\", \"Telefonica Research and Development\", \"Systems Applications & Products in Data Processing (Germany)\", \"Systems Applications & Products in Data Processing (Germany)\", \"Telefonica Research and Development\", \"Systems Applications & Products in Data Processing (Germany)\", \"National Grid (United Kingdom)\", \"Novartis (Italy)\", \"Novartis (Italy)\", \"Novartis (Italy)\", \"Novartis (Italy)\", \"Novartis (Italy)\", \"Telefonica Research and Development\", \"SELEX Sistemi Integrati\", \"Systems Applications & Products in Data Processing (Germany)\", \"Systems Applications & Products in Data Processing (Germany)\", \"Systems Applications & Products in Data Processing (Germany)\", \"Systems Applications & Products in Data Processing (Germany)\", \"Systems Applications & Products in Data Processing (Germany)\", \"Systems Applications & Products in Data Processing (Germany)\", \"Systems Applications & Products in Data Processing (Germany)\", \"Telefonica Research and Development\", \"Athens Technology Center (Greece)\", \"Athens Technology Center (Greece)\", \"Athens Technology Center (Greece)\", \"Systems Applications & Products in Data Processing (Germany)\", \"Systems Applications & Products in Data Processing (Germany)\", \"Systems Applications & Products in Data Processing (Germany)\", \"Italtel (Italy)\", \"IBM Research - Haifa\", \"IBM Research - Haifa\", \"Systems Applications & Products in Data Processing (Germany)\", \"Systems Applications & Products in Data Processing (Germany)\", \"Systems Applications & Products in Data Processing (Germany)\", \"Microsoft Research (United Kingdom)\", \"Microsoft Research (United Kingdom)\", \"Telenor (Norway)\", \"Telenor (Norway)\", \"Centro Sviluppo Materiali (Italy)\", \"Ionis Pharmaceuticals (United States)\", \"Atos (Spain)\", \"Airbus (Germany)\", \"Airbus (Germany)\", \"Airbus (Germany)\", \"Airbus (Germany)\", \"Airbus (Germany)\", \"Airbus (Germany)\", \"Airbus (Germany)\", \"Airbus (Germany)\", \"Airbus (Germany)\", \"Airbus (Germany)\", \"Airbus (Germany)\", \"IBM Research - Zurich\", \"Hologic Gen-Probe Incorporated (United States)\", \"Hologic Gen-Probe Incorporated (United States)\", \"IBM Research - Zurich\", \"IBM Research - Zurich\", \"IBM Research - Zurich\", \"Quest Diagnostics (United States)\", \"Quest Diagnostics (United States)\", \"Quest Diagnostics (United States)\", \"IBM Research - Zurich\", \"Nestl\\u00e9 (Switzerland)\", \"Nestl\\u00e9 (Switzerland)\", \"Nestl\\u00e9 (Switzerland)\", \"Nestl\\u00e9 (Switzerland)\", \"Nestl\\u00e9 (Switzerland)\", \"Nestl\\u00e9 (Switzerland)\", \"Bizkaia Technology Park\", \"Nestl\\u00e9 (Switzerland)\", \"Nestl\\u00e9 (Switzerland)\", \"Nestl\\u00e9 (Switzerland)\", \"Nestl\\u00e9 (Switzerland)\", \"Nestl\\u00e9 (Switzerland)\", \"Nestl\\u00e9 (Switzerland)\", \"Nestl\\u00e9 (Switzerland)\", \"Ivoclar Vivadent (Liechtenstein)\", \"Mitre (United States)\", \"Mitre (United States)\", \"Accelrys (United Kingdom)\", \"Geotechnical Observations (United Kingdom)\", \"Geotechnical Observations (United Kingdom)\", \"STMicroelectronics (United Kingdom)\", \"AiCure (United States)\", \"ALBA Synchrotron (Spain)\", \"ALBA Synchrotron (Spain)\", \"Aeiforia (Italy)\", \"Swiss Center for Electronics and Microtechnology (Switzerland)\", \"CSP Innovazione nelle ICT (Italy)\", \"CSP Innovazione nelle ICT (Italy)\", \"Thales Alenia Space (Italy)\", \"Thales Alenia Space (Italy)\", \"Thales Alenia Space (Italy)\", \"Thales Alenia Space (Italy)\", \"Deep Blue (Italy)\", \"Thales Alenia Space (Italy)\", \"Deep Blue (Italy)\", \"AquaTT (Ireland)\", \"Deep Blue (Italy)\", \"Deep Blue (Italy)\", \"Thales Alenia Space (Italy)\", \"Thales Alenia Space (Italy)\", \"Deep Blue (Italy)\", \"Deep Blue (Italy)\", \"Thales Alenia Space (Italy)\", \"IBM (France)\", \"Centro Elettrotecnico Sperimentale Italiano (Italy)\", \"Centro Elettrotecnico Sperimentale Italiano (Italy)\", \"GMV Innovating Solutions (Spain)\", \"Aquaplus (Belgium)\", \"Aquaplus (Belgium)\", \"Veolia (France)\", \"Aquaplus (Belgium)\", \"Veolia (France)\", \"Aquaplus (Belgium)\", \"GMV Innovating Solutions (Spain)\", \"H\\u00f6gan\\u00e4s (Sweden)\", \"IBM Research - Ireland\", \"H\\u00f6gan\\u00e4s (Sweden)\", \"Pirelli (Italy)\", \"Pirelli (Italy)\", \"H\\u00f6gan\\u00e4s (Sweden)\", \"Pirelli (Italy)\", \"Pirelli (Italy)\", \"IBM Research - Ireland\", \"Ikerlan\", \"Ikerlan\", \"General Electric (Italy)\", \"General Electric (Italy)\", \"Innovation Engineering (Italy)\", \"Ikerlan\", \"Ikerlan\", \"Gamma Remote Sensing\", \"Gamma Remote Sensing\", \"Gamma Remote Sensing\", \"Gamma Remote Sensing\", \"LioniX (Netherlands)\", \"LioniX (Netherlands)\", \"LioniX (Netherlands)\", \"LioniX (Netherlands)\", \"LioniX (Netherlands)\", \"LioniX (Netherlands)\", \"PhoeniX Software (Netherlands)\", \"Instituttet for Produktudvikling (Denmark)\", \"Instituttet for Produktudvikling (Denmark)\", \"Instituttet for Produktudvikling (Denmark)\", \"Fiat Chrysler Automobiles (Italy)\", \"Fiat Chrysler Automobiles (Italy)\", \"Fiat Chrysler Automobiles (Italy)\", \"Planetek Italia\", \"Ion Beam Services (France)\", \"Research and Environmental Devices (Italy)\", \"Research and Environmental Devices (Italy)\", \"Laviosa Minerals (Italy)\", \"MJC2 (United Kingdom)\", \"Nokia (Germany)\", \"Akka Technologies (France)\", \"Siemens (Austria)\", \"Siemens (Austria)\", \"T\\u00c1RKI Social Research Institute\", \"Sylics (Netherlands)\", \"RISA Sicherheitsanalysen\", \"RISA Sicherheitsanalysen\", \"Sitex 45 (Romania)\", \"Memscap (France)\", \"Thermo Fisher Scientific (Netherlands)\", \"Advanced Microwave Systems (Greece)\", \"Sitex 45 (Romania)\", \"RISA Sicherheitsanalysen\", \"Stresstech Group (Finland)\", \"Siemens (Italy)\", \"Siemens (Italy)\", \"Siemens (Italy)\", \"SOFCpower (Italy)\", \"Yahoo (Spain)\", \"Yahoo (Spain)\", \"SOFCpower (Italy)\", \"Xerox (France)\", \"Yahoo (Spain)\", \"Yahoo (Spain)\", \"Yahoo (Spain)\", \"Yahoo (Spain)\", \"Yahoo (Spain)\", \"Yahoo (Spain)\", \"Veneto Nanotech (Italy)\", \"Vienna Consulting Engineers (Austria)\", \"Analytical Imaging and Geophysics (United States)\", \"Global Science & Technology (United States)\", \"PPG Industries (United States)\", \"PPG Industries (United States)\", \"Trento RISE (Italy)\", \"Trento RISE (Italy)\", \"Trento RISE (Italy)\", \"BioSyntha Technology (United Kingdom)\", \"Advanced Laboratory On Embedded Systems (Italy)\", \"Advanced Laboratory On Embedded Systems (Italy)\", \"Advanced Laboratory On Embedded Systems (Italy)\", \"Advanced Laboratory On Embedded Systems (Italy)\", \"Advanced Laboratory On Embedded Systems (Italy)\", \"Advanced Microwave Systems (Greece)\", \"Advanced Microwave Systems (Greece)\", \"Advanced Microwave Systems (Greece)\", \"Sitex 45 (Romania)\", \"Agilent Technologies (Italy)\", \"Carlo Gavazzi (Italy)\", \"Carlo Gavazzi (Italy)\", \"Agilent Technologies (Italy)\", \"Holst Centre (Netherlands)\", \"Holst Centre (Netherlands)\", \"Holst Centre (Netherlands)\", \"Memscap (France)\", \"Thermo Fisher Scientific (Netherlands)\", \"Holst Centre (Netherlands)\", \"Flame Spray (Italy)\", \"Evidence (Italy)\", \"Giotto Biotech (Italy)\", \"Zanardi Fonderie (Italy)\", \"Zanardi Fonderie (Italy)\", \"3M (Germany)\", \"IBM (Italy)\", \"IBM (India)\", \"Isofoton (Spain)\", \"De Agostini (Italy)\", \"Datacorp (United States)\", \"Accuray (United States)\", \"Accenture (Italy)\", \"Accenture (Italy)\", \"Accenture (Italy)\", \"Nanoforce Technology (United Kingdom)\", \"Nanoforce Technology (United Kingdom)\", \"Nanoforce Technology (United Kingdom)\", \"Nanoforce Technology (United Kingdom)\", \"Nanoforce Technology (United Kingdom)\", \"Nanoforce Technology (United Kingdom)\", \"Poste italiane (Italy)\", \"Ribocon (Germany)\", \"Smartec (Switzerland)\", \"Smartec (Switzerland)\", \"Smartec (Switzerland)\", \"Smartec (Switzerland)\", \"Smartec (Switzerland)\", \"Smartec (Switzerland)\", \"Smartec (Switzerland)\", \"Smartec (Switzerland)\", \"Smartec (Switzerland)\", \"Smartec (Switzerland)\", \"Smartec (Switzerland)\", \"Smartec (Switzerland)\", \"Surface Phenomena Researches Group (Russia)\", \"Surface Phenomena Researches Group (Russia)\", \"Surface Phenomena Researches Group (Russia)\", \"Surface Phenomena Researches Group (Russia)\", \"Smartec (Switzerland)\", \"U-Hopper (Italy)\", \"U-Hopper (Italy)\", \"U-Hopper (Italy)\", \"U-Hopper (Italy)\", \"Trentino Network (Italy)\", \"Trentino Network (Italy)\", \"U-Hopper (Italy)\", \"U-Hopper (Italy)\", \"Edinburgh Instruments (United Kingdom)\", \"Edinburgh Instruments (United Kingdom)\", \"Edinburgh Instruments (United Kingdom)\", \"Cambridge Cognition (United Kingdom)\", \"Cambridge Cognition (United Kingdom)\", \"Cambridge Cognition (United Kingdom)\", \"Cambridge Cognition (United Kingdom)\", \"Cambridge Cognition (United Kingdom)\", \"Cambridge Cognition (United Kingdom)\", \"Centro Agricoltura Ambiente (Italy)\", \"Arcon (United States)\", \"EN-FIST Centre of Excellence (Slovenia)\", \"AMO (Germany)\", \"Capital Fund Management (France)\", \"Samsung (India)\", \"Microsoft Research Asia (China)\", \"Microsoft Research Asia (China)\", \"Microsoft Research Asia (China)\", \"Tata Elxsi (India)\", \"Brembo (Italy)\", \"Brembo (Italy)\", \"Brembo (Italy)\", \"Brembo (Italy)\", \"Brembo (Italy)\", \"Brembo (Italy)\", \"Brembo (Italy)\", \"Brembo (Italy)\", \"NetApp (United States)\", \"NetApp (United States)\", \"Google (Switzerland)\", \"Google (Switzerland)\", \"Google (Switzerland)\", \"Google (Switzerland)\", \"Google (Switzerland)\", \"NEC (Germany)\", \"NEC (Germany)\", \"MTN (Uganda)\", \"IBM Research \\u2013 Africa\", \"IBM Research \\u2013 Africa\", \"IBM Research \\u2013 Africa\", \"IBM Research - India\", \"IBM Research - India\", \"IBM Research - India\", \"IBM Research - Almaden\", \"IBM Research - Almaden\", \"IBM Research - Almaden\", \"IBM Research - Almaden\", \"Holst Centre (Netherlands)\", \"Holst Centre (Netherlands)\", \"Memscap (France)\", \"Daiichi Sankyo (Germany)\", \"Orthofix (Italy)\", \"Cloudera (United States)\", \"Akamai (United States)\", \"FM Global (United States)\", \"Magnetic Resonance Innovations (United States)\", \"Magnetic Resonance Innovations (United States)\"], \"xaxis\": \"x\", \"yaxis\": \"y\"}],\n",
       "                        {\"barmode\": \"relative\", \"height\": 900, \"legend\": {\"tracegroupgap\": 0}, \"template\": {\"data\": {\"bar\": [{\"error_x\": {\"color\": \"#2a3f5f\"}, \"error_y\": {\"color\": \"#2a3f5f\"}, \"marker\": {\"line\": {\"color\": \"#E5ECF6\", \"width\": 0.5}}, \"type\": \"bar\"}], \"barpolar\": [{\"marker\": {\"line\": {\"color\": \"#E5ECF6\", \"width\": 0.5}}, \"type\": \"barpolar\"}], \"carpet\": [{\"aaxis\": {\"endlinecolor\": \"#2a3f5f\", \"gridcolor\": \"white\", \"linecolor\": \"white\", \"minorgridcolor\": \"white\", \"startlinecolor\": \"#2a3f5f\"}, \"baxis\": {\"endlinecolor\": \"#2a3f5f\", \"gridcolor\": \"white\", \"linecolor\": \"white\", \"minorgridcolor\": \"white\", \"startlinecolor\": \"#2a3f5f\"}, \"type\": \"carpet\"}], \"choropleth\": [{\"colorbar\": {\"outlinewidth\": 0, \"ticks\": \"\"}, \"type\": \"choropleth\"}], \"contour\": [{\"colorbar\": {\"outlinewidth\": 0, \"ticks\": \"\"}, \"colorscale\": [[0.0, \"#0d0887\"], [0.1111111111111111, \"#46039f\"], [0.2222222222222222, \"#7201a8\"], [0.3333333333333333, \"#9c179e\"], [0.4444444444444444, \"#bd3786\"], [0.5555555555555556, \"#d8576b\"], [0.6666666666666666, \"#ed7953\"], [0.7777777777777778, \"#fb9f3a\"], [0.8888888888888888, \"#fdca26\"], [1.0, \"#f0f921\"]], \"type\": \"contour\"}], \"contourcarpet\": [{\"colorbar\": {\"outlinewidth\": 0, \"ticks\": \"\"}, \"type\": \"contourcarpet\"}], \"heatmap\": [{\"colorbar\": {\"outlinewidth\": 0, \"ticks\": \"\"}, \"colorscale\": [[0.0, \"#0d0887\"], [0.1111111111111111, \"#46039f\"], [0.2222222222222222, \"#7201a8\"], [0.3333333333333333, \"#9c179e\"], [0.4444444444444444, \"#bd3786\"], [0.5555555555555556, \"#d8576b\"], [0.6666666666666666, \"#ed7953\"], [0.7777777777777778, \"#fb9f3a\"], [0.8888888888888888, \"#fdca26\"], [1.0, \"#f0f921\"]], \"type\": \"heatmap\"}], \"heatmapgl\": [{\"colorbar\": {\"outlinewidth\": 0, \"ticks\": \"\"}, \"colorscale\": [[0.0, \"#0d0887\"], [0.1111111111111111, \"#46039f\"], [0.2222222222222222, \"#7201a8\"], [0.3333333333333333, \"#9c179e\"], [0.4444444444444444, \"#bd3786\"], [0.5555555555555556, \"#d8576b\"], [0.6666666666666666, \"#ed7953\"], [0.7777777777777778, \"#fb9f3a\"], [0.8888888888888888, \"#fdca26\"], [1.0, \"#f0f921\"]], \"type\": \"heatmapgl\"}], \"histogram\": [{\"marker\": {\"colorbar\": {\"outlinewidth\": 0, \"ticks\": \"\"}}, \"type\": \"histogram\"}], \"histogram2d\": [{\"colorbar\": {\"outlinewidth\": 0, \"ticks\": \"\"}, \"colorscale\": [[0.0, \"#0d0887\"], [0.1111111111111111, \"#46039f\"], [0.2222222222222222, \"#7201a8\"], [0.3333333333333333, \"#9c179e\"], [0.4444444444444444, \"#bd3786\"], [0.5555555555555556, \"#d8576b\"], [0.6666666666666666, \"#ed7953\"], [0.7777777777777778, \"#fb9f3a\"], [0.8888888888888888, \"#fdca26\"], [1.0, \"#f0f921\"]], \"type\": \"histogram2d\"}], \"histogram2dcontour\": [{\"colorbar\": {\"outlinewidth\": 0, \"ticks\": \"\"}, \"colorscale\": [[0.0, \"#0d0887\"], [0.1111111111111111, \"#46039f\"], [0.2222222222222222, \"#7201a8\"], [0.3333333333333333, \"#9c179e\"], [0.4444444444444444, \"#bd3786\"], [0.5555555555555556, \"#d8576b\"], [0.6666666666666666, \"#ed7953\"], [0.7777777777777778, \"#fb9f3a\"], [0.8888888888888888, \"#fdca26\"], [1.0, \"#f0f921\"]], \"type\": \"histogram2dcontour\"}], \"mesh3d\": [{\"colorbar\": {\"outlinewidth\": 0, \"ticks\": \"\"}, \"type\": \"mesh3d\"}], \"parcoords\": [{\"line\": {\"colorbar\": {\"outlinewidth\": 0, \"ticks\": \"\"}}, \"type\": \"parcoords\"}], \"pie\": [{\"automargin\": true, \"type\": \"pie\"}], \"scatter\": [{\"marker\": {\"colorbar\": {\"outlinewidth\": 0, \"ticks\": \"\"}}, \"type\": \"scatter\"}], \"scatter3d\": [{\"line\": {\"colorbar\": {\"outlinewidth\": 0, \"ticks\": \"\"}}, \"marker\": {\"colorbar\": {\"outlinewidth\": 0, \"ticks\": \"\"}}, \"type\": \"scatter3d\"}], \"scattercarpet\": [{\"marker\": {\"colorbar\": {\"outlinewidth\": 0, \"ticks\": \"\"}}, \"type\": \"scattercarpet\"}], \"scattergeo\": [{\"marker\": {\"colorbar\": {\"outlinewidth\": 0, \"ticks\": \"\"}}, \"type\": \"scattergeo\"}], \"scattergl\": [{\"marker\": {\"colorbar\": {\"outlinewidth\": 0, \"ticks\": \"\"}}, \"type\": \"scattergl\"}], \"scattermapbox\": [{\"marker\": {\"colorbar\": {\"outlinewidth\": 0, \"ticks\": \"\"}}, \"type\": \"scattermapbox\"}], \"scatterpolar\": [{\"marker\": {\"colorbar\": {\"outlinewidth\": 0, \"ticks\": \"\"}}, \"type\": \"scatterpolar\"}], \"scatterpolargl\": [{\"marker\": {\"colorbar\": {\"outlinewidth\": 0, \"ticks\": \"\"}}, \"type\": \"scatterpolargl\"}], \"scatterternary\": [{\"marker\": {\"colorbar\": {\"outlinewidth\": 0, \"ticks\": \"\"}}, \"type\": \"scatterternary\"}], \"surface\": [{\"colorbar\": {\"outlinewidth\": 0, \"ticks\": \"\"}, \"colorscale\": [[0.0, \"#0d0887\"], [0.1111111111111111, \"#46039f\"], [0.2222222222222222, \"#7201a8\"], [0.3333333333333333, \"#9c179e\"], [0.4444444444444444, \"#bd3786\"], [0.5555555555555556, \"#d8576b\"], [0.6666666666666666, \"#ed7953\"], [0.7777777777777778, \"#fb9f3a\"], [0.8888888888888888, \"#fdca26\"], [1.0, \"#f0f921\"]], \"type\": \"surface\"}], \"table\": [{\"cells\": {\"fill\": {\"color\": \"#EBF0F8\"}, \"line\": {\"color\": \"white\"}}, \"header\": {\"fill\": {\"color\": \"#C8D4E3\"}, \"line\": {\"color\": \"white\"}}, \"type\": \"table\"}]}, \"layout\": {\"annotationdefaults\": {\"arrowcolor\": \"#2a3f5f\", \"arrowhead\": 0, \"arrowwidth\": 1}, \"coloraxis\": {\"colorbar\": {\"outlinewidth\": 0, \"ticks\": \"\"}}, \"colorscale\": {\"diverging\": [[0, \"#8e0152\"], [0.1, \"#c51b7d\"], [0.2, \"#de77ae\"], [0.3, \"#f1b6da\"], [0.4, \"#fde0ef\"], [0.5, \"#f7f7f7\"], [0.6, \"#e6f5d0\"], [0.7, \"#b8e186\"], [0.8, \"#7fbc41\"], [0.9, \"#4d9221\"], [1, \"#276419\"]], \"sequential\": [[0.0, \"#0d0887\"], [0.1111111111111111, \"#46039f\"], [0.2222222222222222, \"#7201a8\"], [0.3333333333333333, \"#9c179e\"], [0.4444444444444444, \"#bd3786\"], [0.5555555555555556, \"#d8576b\"], [0.6666666666666666, \"#ed7953\"], [0.7777777777777778, \"#fb9f3a\"], [0.8888888888888888, \"#fdca26\"], [1.0, \"#f0f921\"]], \"sequentialminus\": [[0.0, \"#0d0887\"], [0.1111111111111111, \"#46039f\"], [0.2222222222222222, \"#7201a8\"], [0.3333333333333333, \"#9c179e\"], [0.4444444444444444, \"#bd3786\"], [0.5555555555555556, \"#d8576b\"], [0.6666666666666666, \"#ed7953\"], [0.7777777777777778, \"#fb9f3a\"], [0.8888888888888888, \"#fdca26\"], [1.0, \"#f0f921\"]]}, \"colorway\": [\"#636efa\", \"#EF553B\", \"#00cc96\", \"#ab63fa\", \"#FFA15A\", \"#19d3f3\", \"#FF6692\", \"#B6E880\", \"#FF97FF\", \"#FECB52\"], \"font\": {\"color\": \"#2a3f5f\"}, \"geo\": {\"bgcolor\": \"white\", \"lakecolor\": \"white\", \"landcolor\": \"#E5ECF6\", \"showlakes\": true, \"showland\": true, \"subunitcolor\": \"white\"}, \"hoverlabel\": {\"align\": \"left\"}, \"hovermode\": \"closest\", \"mapbox\": {\"style\": \"light\"}, \"paper_bgcolor\": \"white\", \"plot_bgcolor\": \"#E5ECF6\", \"polar\": {\"angularaxis\": {\"gridcolor\": \"white\", \"linecolor\": \"white\", \"ticks\": \"\"}, \"bgcolor\": \"#E5ECF6\", \"radialaxis\": {\"gridcolor\": \"white\", \"linecolor\": \"white\", \"ticks\": \"\"}}, \"scene\": {\"xaxis\": {\"backgroundcolor\": \"#E5ECF6\", \"gridcolor\": \"white\", \"gridwidth\": 2, \"linecolor\": \"white\", \"showbackground\": true, \"ticks\": \"\", \"zerolinecolor\": \"white\"}, \"yaxis\": {\"backgroundcolor\": \"#E5ECF6\", \"gridcolor\": \"white\", \"gridwidth\": 2, \"linecolor\": \"white\", \"showbackground\": true, \"ticks\": \"\", \"zerolinecolor\": \"white\"}, \"zaxis\": {\"backgroundcolor\": \"#E5ECF6\", \"gridcolor\": \"white\", \"gridwidth\": 2, \"linecolor\": \"white\", \"showbackground\": true, \"ticks\": \"\", \"zerolinecolor\": \"white\"}}, \"shapedefaults\": {\"line\": {\"color\": \"#2a3f5f\"}}, \"ternary\": {\"aaxis\": {\"gridcolor\": \"white\", \"linecolor\": \"white\", \"ticks\": \"\"}, \"baxis\": {\"gridcolor\": \"white\", \"linecolor\": \"white\", \"ticks\": \"\"}, \"bgcolor\": \"#E5ECF6\", \"caxis\": {\"gridcolor\": \"white\", \"linecolor\": \"white\", \"ticks\": \"\"}}, \"title\": {\"x\": 0.05}, \"xaxis\": {\"automargin\": true, \"gridcolor\": \"white\", \"linecolor\": \"white\", \"ticks\": \"\", \"title\": {\"standoff\": 15}, \"zerolinecolor\": \"white\", \"zerolinewidth\": 2}, \"yaxis\": {\"automargin\": true, \"gridcolor\": \"white\", \"linecolor\": \"white\", \"ticks\": \"\", \"title\": {\"standoff\": 15}, \"zerolinecolor\": \"white\", \"zerolinewidth\": 2}}}, \"title\": {\"text\": \"Top Industry collaborators for grid.11696.39\"}, \"xaxis\": {\"anchor\": \"y\", \"categoryorder\": \"total descending\", \"domain\": [0.0, 1.0], \"title\": {\"text\": \"aff_name\"}}, \"yaxis\": {\"anchor\": \"x\", \"domain\": [0.0, 1.0], \"title\": {\"text\": \"count\"}}},\n",
       "                        {\"responsive\": true}\n",
       "                    ).then(function(){\n",
       "                            \n",
       "var gd = document.getElementById('011882f0-c6b9-469e-80cb-5be504407c61');\n",
       "var x = new MutationObserver(function (mutations, observer) {{\n",
       "        var display = window.getComputedStyle(gd).display;\n",
       "        if (!display || display === 'none') {{\n",
       "            console.log([gd, 'removed!']);\n",
       "            Plotly.purge(gd);\n",
       "            observer.disconnect();\n",
       "        }}\n",
       "}});\n",
       "\n",
       "// Listen for the removal of the full notebook cells\n",
       "var notebookContainer = gd.closest('#notebook-container');\n",
       "if (notebookContainer) {{\n",
       "    x.observe(notebookContainer, {childList: true});\n",
       "}}\n",
       "\n",
       "// Listen for the clearing of the current output cell\n",
       "var outputEl = gd.closest('.output');\n",
       "if (outputEl) {{\n",
       "    x.observe(outputEl, {childList: true});\n",
       "}}\n",
       "\n",
       "                        })\n",
       "                };\n",
       "                });\n",
       "            </script>\n",
       "        </div>"
      ]
     },
     "metadata": {},
     "output_type": "display_data"
    }
   ],
   "source": [
    "px.histogram(affiliations, x=\"aff_name\", height=900,\n",
    "             title=f\"Top Industry collaborators for {GRIDID}\").update_xaxes(categoryorder=\"total descending\")"
   ]
  },
  {
   "cell_type": "markdown",
   "metadata": {
    "Collapsed": "false",
    "colab_type": "text",
    "id": "_ZiDc0DLRtCJ"
   },
   "source": [
    "## Countries of Industry Collaborators\n",
    "\n",
    "We can use the same dataset to segment the data by country."
   ]
  },
  {
   "cell_type": "code",
   "execution_count": 21,
   "metadata": {
    "Collapsed": "false",
    "colab": {
     "base_uri": "https://localhost:8080/",
     "height": 617
    },
    "colab_type": "code",
    "executionInfo": {
     "elapsed": 467094,
     "status": "ok",
     "timestamp": 1579782232873,
     "user": {
      "displayName": "Michele Pasin",
      "photoUrl": "https://lh3.googleusercontent.com/a-/AAuE7mBu8LVjIGgontF2Wax51BoL5KFx8esezX3bUmaa0g=s64",
      "userId": "10309320684375994511"
     },
     "user_tz": 0
    },
    "id": "2SHn7MckRtCK",
    "outputId": "93bf2f73-1f6d-42e1-a2b9-96d12832ecc2"
   },
   "outputs": [
    {
     "data": {
      "application/vnd.plotly.v1+json": {
       "config": {
        "plotlyServerURL": "https://plot.ly"
       },
       "data": [
        {
         "domain": {
          "x": [
           0,
           1
          ],
          "y": [
           0,
           1
          ]
         },
         "hoverlabel": {
          "namelength": 0
         },
         "hovertemplate": "aff_country=%{label}",
         "labels": [
          "Italy",
          "Germany",
          "Italy",
          "Italy",
          "Italy",
          "United Kingdom",
          "Germany",
          "Germany",
          "Germany",
          "Italy",
          "Italy",
          "Germany",
          "United Kingdom",
          "United Kingdom",
          "United Kingdom",
          "United Kingdom",
          "Germany",
          "Italy",
          "Italy",
          "Italy",
          "Italy",
          "Italy",
          "Spain",
          "Italy",
          "Japan",
          "Japan",
          "Japan",
          "United States",
          "United States",
          "United States",
          "United States",
          "United States",
          "Italy",
          "United States",
          "United States",
          "United States",
          "United States",
          "United Kingdom",
          "United Kingdom",
          "United Kingdom",
          "United Kingdom",
          "Germany",
          "Germany",
          "Germany",
          "United Kingdom",
          "Germany",
          "United Kingdom",
          "Germany",
          "Germany",
          "Germany",
          "Italy",
          "Germany",
          "United Kingdom",
          "United Kingdom",
          "United Kingdom",
          "Germany",
          "Ireland",
          "Ireland",
          "France",
          "Ireland",
          "Italy",
          "Italy",
          "Spain",
          "Spain",
          "Ireland",
          "Ireland",
          "Ireland",
          "Ireland",
          "Ireland",
          "France",
          "United States",
          "United States",
          "United States",
          "United States",
          "France",
          "United States",
          "United States",
          "United States",
          "India",
          "Germany",
          "United States",
          "United States",
          "United States",
          "United States",
          "South Korea",
          "United States",
          "United States",
          "Italy",
          "Italy",
          "Italy",
          "Italy",
          "United Kingdom",
          "United States",
          "United States",
          "United States",
          "United States",
          "United States",
          "United States",
          "United Kingdom",
          "United States",
          "United States",
          "United States",
          "United States",
          "United States",
          "United States",
          "United States",
          "United States",
          "United States",
          "United States",
          "United States",
          "Germany",
          "Italy",
          "United Kingdom",
          "Germany",
          "Germany",
          "Italy",
          "Italy",
          "Germany",
          "United Kingdom",
          "United Kingdom",
          "Germany",
          "Germany",
          "Italy",
          "United Kingdom",
          "Germany",
          "Germany",
          "Italy",
          "Italy",
          "Germany",
          "United Kingdom",
          "United Kingdom",
          "Germany",
          "Germany",
          "Italy",
          "United Kingdom",
          "Germany",
          "Germany",
          "Italy",
          "Italy",
          "Germany",
          "United Kingdom",
          "United Kingdom",
          "Germany",
          "Germany",
          "Italy",
          "United Kingdom",
          "Germany",
          "Germany",
          "Italy",
          "Italy",
          "Germany",
          "United Kingdom",
          "United Kingdom",
          "Germany",
          "Germany",
          "Italy",
          "United Kingdom",
          "Germany",
          "Germany",
          "Italy",
          "Italy",
          "Germany",
          "United Kingdom",
          "United Kingdom",
          "Germany",
          "Germany",
          "Italy",
          "United Kingdom",
          "Germany",
          "Germany",
          "Italy",
          "Italy",
          "Germany",
          "United Kingdom",
          "United Kingdom",
          "Germany",
          "Italy",
          "Germany",
          "Italy",
          "United Kingdom",
          "Germany",
          "Germany",
          "Italy",
          "Italy",
          "Germany",
          "United Kingdom",
          "United Kingdom",
          "Germany",
          "United States",
          "United States",
          "United States",
          "United States",
          "Germany",
          "United States",
          "Netherlands",
          "Italy",
          "Italy",
          "United States",
          "United Kingdom",
          "France",
          "Italy",
          "United States",
          "United Kingdom",
          "United States",
          "Finland",
          "Finland",
          "Finland",
          "United States",
          "United States",
          "Italy",
          "France",
          "United States",
          "United States",
          "Italy",
          "Italy",
          "United States",
          "France",
          "France",
          "France",
          "Finland",
          "Italy",
          "Italy",
          "United States",
          "United States",
          "United States",
          "Germany",
          "Italy",
          "United States",
          "Italy",
          "United States",
          "United States",
          "United States",
          "Germany",
          "United States",
          "France",
          "France",
          "France",
          "France",
          "United States",
          "United States",
          "United States",
          "United States",
          "United States",
          "United States",
          "United States",
          "United States",
          "United States",
          "United States",
          "Spain",
          "China",
          "France",
          "United States",
          "United States",
          "France",
          "Italy",
          "United States",
          "United States",
          "United States",
          "United Kingdom",
          "United Kingdom",
          "Germany",
          "Germany",
          "Germany",
          "France",
          "France",
          "United States",
          "United States",
          "United States",
          "United States",
          "United States",
          "United States",
          "United States",
          "Netherlands",
          "United States",
          "Netherlands",
          "United States",
          "United States",
          "United States",
          "Switzerland",
          "United States",
          "United States",
          "United States",
          "United Kingdom",
          "Germany",
          "Germany",
          "United Kingdom",
          "Japan",
          "Japan",
          "Japan",
          "United States",
          "United States",
          "Germany",
          "United States",
          "United States",
          "United States",
          "United States",
          "United States",
          "United States",
          "United States",
          "United States",
          "United States",
          "United States",
          "United States",
          "United States",
          "United Kingdom",
          "Spain",
          "Spain",
          "United States",
          "United States",
          "United States",
          "Japan",
          "United Kingdom",
          "Japan",
          "United States",
          "China",
          "United States",
          "United States",
          "United States",
          "United States",
          "United States",
          "United Kingdom",
          "United States",
          "United States",
          "United States",
          "United States",
          "United States",
          "United States",
          "United States",
          "Japan",
          "United States",
          "United States",
          "Japan",
          "Japan",
          "United States",
          "Japan",
          "Germany",
          "United States",
          "Japan",
          "United States",
          "Japan",
          "United States",
          "United States",
          "Spain",
          "Spain",
          "United Kingdom",
          "United States",
          "United States",
          "United Kingdom",
          "United States",
          "United States",
          "United Kingdom",
          "United Kingdom",
          "United States",
          "United States",
          "United Kingdom",
          "Germany",
          "United States",
          "United States",
          "United States",
          "United Kingdom",
          "United States",
          "Germany",
          "Italy",
          "Japan",
          "United Kingdom",
          "France",
          "Japan",
          "United Kingdom",
          "Japan",
          "Germany",
          "Germany",
          "United Kingdom",
          "Germany",
          "Germany",
          "Germany",
          "Germany",
          "Germany",
          "United Kingdom",
          "Germany",
          "Japan",
          "Japan",
          "Japan",
          "United States",
          "United States",
          "United Kingdom",
          "United States",
          "United Kingdom",
          "United States",
          "Italy",
          "France",
          "France",
          "France",
          "Italy",
          "Italy",
          "Italy",
          "China",
          "United States",
          "Italy",
          "Italy",
          "United States",
          "United States",
          "United States",
          "Netherlands",
          "United States",
          "Italy",
          "Germany",
          "China",
          "United States",
          "China",
          "China",
          "United States",
          "Japan",
          "United States",
          "Italy",
          "Italy",
          "Italy",
          "United States",
          "United States",
          "United States",
          "United States",
          "United States",
          "United States",
          "United States",
          "United States",
          "Italy",
          "Italy",
          "Italy",
          "Italy",
          "Italy",
          "Italy",
          "United States",
          "United States",
          "United States",
          "Norway",
          "United Kingdom",
          "Norway",
          "United States",
          "Italy",
          "Italy",
          "Italy",
          "Italy",
          "Italy",
          "Italy",
          "Italy",
          "Italy",
          "Italy",
          "Italy",
          "Italy",
          "Italy",
          "Sweden",
          "Italy",
          "Sweden",
          "Sweden",
          "Sweden",
          "Germany",
          "Italy",
          "Italy",
          "Italy",
          "Italy",
          "Italy",
          "United Kingdom",
          "Italy",
          "Italy",
          "Italy",
          "Italy",
          "Italy",
          "Italy",
          "Italy",
          "Italy",
          "Italy",
          "Italy",
          "Italy",
          "Italy",
          "Italy",
          "Italy",
          "Italy",
          "Italy",
          "Italy",
          "Italy",
          "Italy",
          "Italy",
          "Italy",
          "Italy",
          "Italy",
          "Italy",
          "Italy",
          "Italy",
          "Italy",
          "Italy",
          "Italy",
          "Italy",
          "Italy",
          "Italy",
          "Italy",
          "Italy",
          "Italy",
          "Italy",
          "Italy",
          "Italy",
          "Italy",
          "Italy",
          "Italy",
          "Spain",
          "Germany",
          "Germany",
          "Spain",
          "Germany",
          "United Kingdom",
          "Italy",
          "Italy",
          "Italy",
          "Italy",
          "Italy",
          "Spain",
          "Italy",
          "Germany",
          "Germany",
          "Germany",
          "Germany",
          "Germany",
          "Germany",
          "Germany",
          "Spain",
          "Greece",
          "Greece",
          "Greece",
          "Germany",
          "Germany",
          "Germany",
          "Italy",
          "Israel",
          "Israel",
          "Germany",
          "Germany",
          "Germany",
          "United Kingdom",
          "United Kingdom",
          "Norway",
          "Norway",
          "Italy",
          "United States",
          "Spain",
          "Germany",
          "Germany",
          "Germany",
          "Germany",
          "Germany",
          "Germany",
          "Germany",
          "Germany",
          "Germany",
          "Germany",
          "Germany",
          "Switzerland",
          "United States",
          "United States",
          "Switzerland",
          "Switzerland",
          "Switzerland",
          "United States",
          "United States",
          "United States",
          "Switzerland",
          "Switzerland",
          "Switzerland",
          "Switzerland",
          "Switzerland",
          "Switzerland",
          "Switzerland",
          "Spain",
          "Switzerland",
          "Switzerland",
          "Switzerland",
          "Switzerland",
          "Switzerland",
          "Switzerland",
          "Switzerland",
          "Liechtenstein",
          "United States",
          "United States",
          "United Kingdom",
          "United Kingdom",
          "United Kingdom",
          "United Kingdom",
          "United States",
          "Spain",
          "Spain",
          "Italy",
          "Switzerland",
          "Italy",
          "Italy",
          "Italy",
          "Italy",
          "Italy",
          "Italy",
          "Italy",
          "Italy",
          "Italy",
          "Ireland",
          "Italy",
          "Italy",
          "Italy",
          "Italy",
          "Italy",
          "Italy",
          "Italy",
          "France",
          "Italy",
          "Italy",
          "Spain",
          "Belgium",
          "Belgium",
          "France",
          "Belgium",
          "France",
          "Belgium",
          "Spain",
          "Sweden",
          "Ireland",
          "Sweden",
          "Italy",
          "Italy",
          "Sweden",
          "Italy",
          "Italy",
          "Ireland",
          "Spain",
          "Spain",
          "Italy",
          "Italy",
          "Italy",
          "Spain",
          "Spain",
          "Switzerland",
          "Switzerland",
          "Switzerland",
          "Switzerland",
          "Netherlands",
          "Netherlands",
          "Netherlands",
          "Netherlands",
          "Netherlands",
          "Netherlands",
          "Netherlands",
          "Denmark",
          "Denmark",
          "Denmark",
          "Italy",
          "Italy",
          "Italy",
          "Italy",
          "France",
          "Italy",
          "Italy",
          "Italy",
          "United Kingdom",
          "Germany",
          "France",
          "Austria",
          "Austria",
          "Hungary",
          "Netherlands",
          "Germany",
          "Germany",
          "Romania",
          "France",
          "Netherlands",
          "Greece",
          "Romania",
          "Germany",
          "Finland",
          "Italy",
          "Italy",
          "Italy",
          "Italy",
          "Spain",
          "Spain",
          "Italy",
          "France",
          "Spain",
          "Spain",
          "Spain",
          "Spain",
          "Spain",
          "Spain",
          "Italy",
          "Austria",
          "United States",
          "United States",
          "United States",
          "United States",
          "Italy",
          "Italy",
          "Italy",
          "United Kingdom",
          "Italy",
          "Italy",
          "Italy",
          "Italy",
          "Italy",
          "Greece",
          "Greece",
          "Greece",
          "Romania",
          "Italy",
          "Italy",
          "Italy",
          "Italy",
          "Netherlands",
          "Netherlands",
          "Netherlands",
          "France",
          "Netherlands",
          "Netherlands",
          "Italy",
          "Italy",
          "Italy",
          "Italy",
          "Italy",
          "Germany",
          "Italy",
          "India",
          "Spain",
          "Italy",
          "United States",
          "United States",
          "Italy",
          "Italy",
          "Italy",
          "United Kingdom",
          "United Kingdom",
          "United Kingdom",
          "United Kingdom",
          "United Kingdom",
          "United Kingdom",
          "Italy",
          "Germany",
          "Switzerland",
          "Switzerland",
          "Switzerland",
          "Switzerland",
          "Switzerland",
          "Switzerland",
          "Switzerland",
          "Switzerland",
          "Switzerland",
          "Switzerland",
          "Switzerland",
          "Switzerland",
          "Russia",
          "Russia",
          "Russia",
          "Russia",
          "Switzerland",
          "Italy",
          "Italy",
          "Italy",
          "Italy",
          "Italy",
          "Italy",
          "Italy",
          "Italy",
          "United Kingdom",
          "United Kingdom",
          "United Kingdom",
          "United Kingdom",
          "United Kingdom",
          "United Kingdom",
          "United Kingdom",
          "United Kingdom",
          "United Kingdom",
          "Italy",
          "United States",
          "Slovenia",
          "Germany",
          "France",
          "India",
          "China",
          "China",
          "China",
          "India",
          "Italy",
          "Italy",
          "Italy",
          "Italy",
          "Italy",
          "Italy",
          "Italy",
          "Italy",
          "United States",
          "United States",
          "Switzerland",
          "Switzerland",
          "Switzerland",
          "Switzerland",
          "Switzerland",
          "Germany",
          "Germany",
          "Uganda",
          "Kenya",
          "Kenya",
          "Kenya",
          "India",
          "India",
          "India",
          "United States",
          "United States",
          "United States",
          "United States",
          "Netherlands",
          "Netherlands",
          "France",
          "Germany",
          "Italy",
          "United States",
          "United States",
          "United States",
          "United States",
          "United States"
         ],
         "legendgroup": "",
         "name": "",
         "showlegend": true,
         "type": "pie"
        }
       ],
       "layout": {
        "autosize": true,
        "legend": {
         "tracegroupgap": 0
        },
        "template": {
         "data": {
          "bar": [
           {
            "error_x": {
             "color": "#2a3f5f"
            },
            "error_y": {
             "color": "#2a3f5f"
            },
            "marker": {
             "line": {
              "color": "#E5ECF6",
              "width": 0.5
             }
            },
            "type": "bar"
           }
          ],
          "barpolar": [
           {
            "marker": {
             "line": {
              "color": "#E5ECF6",
              "width": 0.5
             }
            },
            "type": "barpolar"
           }
          ],
          "carpet": [
           {
            "aaxis": {
             "endlinecolor": "#2a3f5f",
             "gridcolor": "white",
             "linecolor": "white",
             "minorgridcolor": "white",
             "startlinecolor": "#2a3f5f"
            },
            "baxis": {
             "endlinecolor": "#2a3f5f",
             "gridcolor": "white",
             "linecolor": "white",
             "minorgridcolor": "white",
             "startlinecolor": "#2a3f5f"
            },
            "type": "carpet"
           }
          ],
          "choropleth": [
           {
            "colorbar": {
             "outlinewidth": 0,
             "ticks": ""
            },
            "type": "choropleth"
           }
          ],
          "contour": [
           {
            "colorbar": {
             "outlinewidth": 0,
             "ticks": ""
            },
            "colorscale": [
             [
              0,
              "#0d0887"
             ],
             [
              0.1111111111111111,
              "#46039f"
             ],
             [
              0.2222222222222222,
              "#7201a8"
             ],
             [
              0.3333333333333333,
              "#9c179e"
             ],
             [
              0.4444444444444444,
              "#bd3786"
             ],
             [
              0.5555555555555556,
              "#d8576b"
             ],
             [
              0.6666666666666666,
              "#ed7953"
             ],
             [
              0.7777777777777778,
              "#fb9f3a"
             ],
             [
              0.8888888888888888,
              "#fdca26"
             ],
             [
              1,
              "#f0f921"
             ]
            ],
            "type": "contour"
           }
          ],
          "contourcarpet": [
           {
            "colorbar": {
             "outlinewidth": 0,
             "ticks": ""
            },
            "type": "contourcarpet"
           }
          ],
          "heatmap": [
           {
            "colorbar": {
             "outlinewidth": 0,
             "ticks": ""
            },
            "colorscale": [
             [
              0,
              "#0d0887"
             ],
             [
              0.1111111111111111,
              "#46039f"
             ],
             [
              0.2222222222222222,
              "#7201a8"
             ],
             [
              0.3333333333333333,
              "#9c179e"
             ],
             [
              0.4444444444444444,
              "#bd3786"
             ],
             [
              0.5555555555555556,
              "#d8576b"
             ],
             [
              0.6666666666666666,
              "#ed7953"
             ],
             [
              0.7777777777777778,
              "#fb9f3a"
             ],
             [
              0.8888888888888888,
              "#fdca26"
             ],
             [
              1,
              "#f0f921"
             ]
            ],
            "type": "heatmap"
           }
          ],
          "heatmapgl": [
           {
            "colorbar": {
             "outlinewidth": 0,
             "ticks": ""
            },
            "colorscale": [
             [
              0,
              "#0d0887"
             ],
             [
              0.1111111111111111,
              "#46039f"
             ],
             [
              0.2222222222222222,
              "#7201a8"
             ],
             [
              0.3333333333333333,
              "#9c179e"
             ],
             [
              0.4444444444444444,
              "#bd3786"
             ],
             [
              0.5555555555555556,
              "#d8576b"
             ],
             [
              0.6666666666666666,
              "#ed7953"
             ],
             [
              0.7777777777777778,
              "#fb9f3a"
             ],
             [
              0.8888888888888888,
              "#fdca26"
             ],
             [
              1,
              "#f0f921"
             ]
            ],
            "type": "heatmapgl"
           }
          ],
          "histogram": [
           {
            "marker": {
             "colorbar": {
              "outlinewidth": 0,
              "ticks": ""
             }
            },
            "type": "histogram"
           }
          ],
          "histogram2d": [
           {
            "colorbar": {
             "outlinewidth": 0,
             "ticks": ""
            },
            "colorscale": [
             [
              0,
              "#0d0887"
             ],
             [
              0.1111111111111111,
              "#46039f"
             ],
             [
              0.2222222222222222,
              "#7201a8"
             ],
             [
              0.3333333333333333,
              "#9c179e"
             ],
             [
              0.4444444444444444,
              "#bd3786"
             ],
             [
              0.5555555555555556,
              "#d8576b"
             ],
             [
              0.6666666666666666,
              "#ed7953"
             ],
             [
              0.7777777777777778,
              "#fb9f3a"
             ],
             [
              0.8888888888888888,
              "#fdca26"
             ],
             [
              1,
              "#f0f921"
             ]
            ],
            "type": "histogram2d"
           }
          ],
          "histogram2dcontour": [
           {
            "colorbar": {
             "outlinewidth": 0,
             "ticks": ""
            },
            "colorscale": [
             [
              0,
              "#0d0887"
             ],
             [
              0.1111111111111111,
              "#46039f"
             ],
             [
              0.2222222222222222,
              "#7201a8"
             ],
             [
              0.3333333333333333,
              "#9c179e"
             ],
             [
              0.4444444444444444,
              "#bd3786"
             ],
             [
              0.5555555555555556,
              "#d8576b"
             ],
             [
              0.6666666666666666,
              "#ed7953"
             ],
             [
              0.7777777777777778,
              "#fb9f3a"
             ],
             [
              0.8888888888888888,
              "#fdca26"
             ],
             [
              1,
              "#f0f921"
             ]
            ],
            "type": "histogram2dcontour"
           }
          ],
          "mesh3d": [
           {
            "colorbar": {
             "outlinewidth": 0,
             "ticks": ""
            },
            "type": "mesh3d"
           }
          ],
          "parcoords": [
           {
            "line": {
             "colorbar": {
              "outlinewidth": 0,
              "ticks": ""
             }
            },
            "type": "parcoords"
           }
          ],
          "pie": [
           {
            "automargin": true,
            "type": "pie"
           }
          ],
          "scatter": [
           {
            "marker": {
             "colorbar": {
              "outlinewidth": 0,
              "ticks": ""
             }
            },
            "type": "scatter"
           }
          ],
          "scatter3d": [
           {
            "line": {
             "colorbar": {
              "outlinewidth": 0,
              "ticks": ""
             }
            },
            "marker": {
             "colorbar": {
              "outlinewidth": 0,
              "ticks": ""
             }
            },
            "type": "scatter3d"
           }
          ],
          "scattercarpet": [
           {
            "marker": {
             "colorbar": {
              "outlinewidth": 0,
              "ticks": ""
             }
            },
            "type": "scattercarpet"
           }
          ],
          "scattergeo": [
           {
            "marker": {
             "colorbar": {
              "outlinewidth": 0,
              "ticks": ""
             }
            },
            "type": "scattergeo"
           }
          ],
          "scattergl": [
           {
            "marker": {
             "colorbar": {
              "outlinewidth": 0,
              "ticks": ""
             }
            },
            "type": "scattergl"
           }
          ],
          "scattermapbox": [
           {
            "marker": {
             "colorbar": {
              "outlinewidth": 0,
              "ticks": ""
             }
            },
            "type": "scattermapbox"
           }
          ],
          "scatterpolar": [
           {
            "marker": {
             "colorbar": {
              "outlinewidth": 0,
              "ticks": ""
             }
            },
            "type": "scatterpolar"
           }
          ],
          "scatterpolargl": [
           {
            "marker": {
             "colorbar": {
              "outlinewidth": 0,
              "ticks": ""
             }
            },
            "type": "scatterpolargl"
           }
          ],
          "scatterternary": [
           {
            "marker": {
             "colorbar": {
              "outlinewidth": 0,
              "ticks": ""
             }
            },
            "type": "scatterternary"
           }
          ],
          "surface": [
           {
            "colorbar": {
             "outlinewidth": 0,
             "ticks": ""
            },
            "colorscale": [
             [
              0,
              "#0d0887"
             ],
             [
              0.1111111111111111,
              "#46039f"
             ],
             [
              0.2222222222222222,
              "#7201a8"
             ],
             [
              0.3333333333333333,
              "#9c179e"
             ],
             [
              0.4444444444444444,
              "#bd3786"
             ],
             [
              0.5555555555555556,
              "#d8576b"
             ],
             [
              0.6666666666666666,
              "#ed7953"
             ],
             [
              0.7777777777777778,
              "#fb9f3a"
             ],
             [
              0.8888888888888888,
              "#fdca26"
             ],
             [
              1,
              "#f0f921"
             ]
            ],
            "type": "surface"
           }
          ],
          "table": [
           {
            "cells": {
             "fill": {
              "color": "#EBF0F8"
             },
             "line": {
              "color": "white"
             }
            },
            "header": {
             "fill": {
              "color": "#C8D4E3"
             },
             "line": {
              "color": "white"
             }
            },
            "type": "table"
           }
          ]
         },
         "layout": {
          "annotationdefaults": {
           "arrowcolor": "#2a3f5f",
           "arrowhead": 0,
           "arrowwidth": 1
          },
          "coloraxis": {
           "colorbar": {
            "outlinewidth": 0,
            "ticks": ""
           }
          },
          "colorscale": {
           "diverging": [
            [
             0,
             "#8e0152"
            ],
            [
             0.1,
             "#c51b7d"
            ],
            [
             0.2,
             "#de77ae"
            ],
            [
             0.3,
             "#f1b6da"
            ],
            [
             0.4,
             "#fde0ef"
            ],
            [
             0.5,
             "#f7f7f7"
            ],
            [
             0.6,
             "#e6f5d0"
            ],
            [
             0.7,
             "#b8e186"
            ],
            [
             0.8,
             "#7fbc41"
            ],
            [
             0.9,
             "#4d9221"
            ],
            [
             1,
             "#276419"
            ]
           ],
           "sequential": [
            [
             0,
             "#0d0887"
            ],
            [
             0.1111111111111111,
             "#46039f"
            ],
            [
             0.2222222222222222,
             "#7201a8"
            ],
            [
             0.3333333333333333,
             "#9c179e"
            ],
            [
             0.4444444444444444,
             "#bd3786"
            ],
            [
             0.5555555555555556,
             "#d8576b"
            ],
            [
             0.6666666666666666,
             "#ed7953"
            ],
            [
             0.7777777777777778,
             "#fb9f3a"
            ],
            [
             0.8888888888888888,
             "#fdca26"
            ],
            [
             1,
             "#f0f921"
            ]
           ],
           "sequentialminus": [
            [
             0,
             "#0d0887"
            ],
            [
             0.1111111111111111,
             "#46039f"
            ],
            [
             0.2222222222222222,
             "#7201a8"
            ],
            [
             0.3333333333333333,
             "#9c179e"
            ],
            [
             0.4444444444444444,
             "#bd3786"
            ],
            [
             0.5555555555555556,
             "#d8576b"
            ],
            [
             0.6666666666666666,
             "#ed7953"
            ],
            [
             0.7777777777777778,
             "#fb9f3a"
            ],
            [
             0.8888888888888888,
             "#fdca26"
            ],
            [
             1,
             "#f0f921"
            ]
           ]
          },
          "colorway": [
           "#636efa",
           "#EF553B",
           "#00cc96",
           "#ab63fa",
           "#FFA15A",
           "#19d3f3",
           "#FF6692",
           "#B6E880",
           "#FF97FF",
           "#FECB52"
          ],
          "font": {
           "color": "#2a3f5f"
          },
          "geo": {
           "bgcolor": "white",
           "lakecolor": "white",
           "landcolor": "#E5ECF6",
           "showlakes": true,
           "showland": true,
           "subunitcolor": "white"
          },
          "hoverlabel": {
           "align": "left"
          },
          "hovermode": "closest",
          "mapbox": {
           "style": "light"
          },
          "paper_bgcolor": "white",
          "plot_bgcolor": "#E5ECF6",
          "polar": {
           "angularaxis": {
            "gridcolor": "white",
            "linecolor": "white",
            "ticks": ""
           },
           "bgcolor": "#E5ECF6",
           "radialaxis": {
            "gridcolor": "white",
            "linecolor": "white",
            "ticks": ""
           }
          },
          "scene": {
           "xaxis": {
            "backgroundcolor": "#E5ECF6",
            "gridcolor": "white",
            "gridwidth": 2,
            "linecolor": "white",
            "showbackground": true,
            "ticks": "",
            "zerolinecolor": "white"
           },
           "yaxis": {
            "backgroundcolor": "#E5ECF6",
            "gridcolor": "white",
            "gridwidth": 2,
            "linecolor": "white",
            "showbackground": true,
            "ticks": "",
            "zerolinecolor": "white"
           },
           "zaxis": {
            "backgroundcolor": "#E5ECF6",
            "gridcolor": "white",
            "gridwidth": 2,
            "linecolor": "white",
            "showbackground": true,
            "ticks": "",
            "zerolinecolor": "white"
           }
          },
          "shapedefaults": {
           "line": {
            "color": "#2a3f5f"
           }
          },
          "ternary": {
           "aaxis": {
            "gridcolor": "white",
            "linecolor": "white",
            "ticks": ""
           },
           "baxis": {
            "gridcolor": "white",
            "linecolor": "white",
            "ticks": ""
           },
           "bgcolor": "#E5ECF6",
           "caxis": {
            "gridcolor": "white",
            "linecolor": "white",
            "ticks": ""
           }
          },
          "title": {
           "x": 0.05
          },
          "xaxis": {
           "automargin": true,
           "gridcolor": "white",
           "linecolor": "white",
           "ticks": "",
           "title": {
            "standoff": 15
           },
           "zerolinecolor": "white",
           "zerolinewidth": 2
          },
          "yaxis": {
           "automargin": true,
           "gridcolor": "white",
           "linecolor": "white",
           "ticks": "",
           "title": {
            "standoff": 15
           },
           "zerolinecolor": "white",
           "zerolinewidth": 2
          }
         }
        },
        "title": {
         "text": "Countries of collaborators for grid.11696.39"
        }
       }
      },
      "image/png": "[encoded data removed]",
      "text/html": [
       "<div>\n",
       "        \n",
       "        \n",
       "            <div id=\"7e68c8ed-f9de-481b-b845-aa798bcc5174\" class=\"plotly-graph-div\" style=\"height:600px; width:100%;\"></div>\n",
       "            <script type=\"text/javascript\">\n",
       "                require([\"plotly\"], function(Plotly) {\n",
       "                    window.PLOTLYENV=window.PLOTLYENV || {};\n",
       "                    \n",
       "                if (document.getElementById(\"7e68c8ed-f9de-481b-b845-aa798bcc5174\")) {\n",
       "                    Plotly.newPlot(\n",
       "                        '7e68c8ed-f9de-481b-b845-aa798bcc5174',\n",
       "                        [{\"domain\": {\"x\": [0.0, 1.0], \"y\": [0.0, 1.0]}, \"hoverlabel\": {\"namelength\": 0}, \"hovertemplate\": \"aff_country=%{label}\", \"labels\": [\"Italy\", \"Germany\", \"Italy\", \"Italy\", \"Italy\", \"United Kingdom\", \"Germany\", \"Germany\", \"Germany\", \"Italy\", \"Italy\", \"Germany\", \"United Kingdom\", \"United Kingdom\", \"United Kingdom\", \"United Kingdom\", \"Germany\", \"Italy\", \"Italy\", \"Italy\", \"Italy\", \"Italy\", \"Spain\", \"Italy\", \"Japan\", \"Japan\", \"Japan\", \"United States\", \"United States\", \"United States\", \"United States\", \"United States\", \"Italy\", \"United States\", \"United States\", \"United States\", \"United States\", \"United Kingdom\", \"United Kingdom\", \"United Kingdom\", \"United Kingdom\", \"Germany\", \"Germany\", \"Germany\", \"United Kingdom\", \"Germany\", \"United Kingdom\", \"Germany\", \"Germany\", \"Germany\", \"Italy\", \"Germany\", \"United Kingdom\", \"United Kingdom\", \"United Kingdom\", \"Germany\", \"Ireland\", \"Ireland\", \"France\", \"Ireland\", \"Italy\", \"Italy\", \"Spain\", \"Spain\", \"Ireland\", \"Ireland\", \"Ireland\", \"Ireland\", \"Ireland\", \"France\", \"United States\", \"United States\", \"United States\", \"United States\", \"France\", \"United States\", \"United States\", \"United States\", \"India\", \"Germany\", \"United States\", \"United States\", \"United States\", \"United States\", \"South Korea\", \"United States\", \"United States\", \"Italy\", \"Italy\", \"Italy\", \"Italy\", \"United Kingdom\", \"United States\", \"United States\", \"United States\", \"United States\", \"United States\", \"United States\", \"United Kingdom\", \"United States\", \"United States\", \"United States\", \"United States\", \"United States\", \"United States\", \"United States\", \"United States\", \"United States\", \"United States\", \"United States\", \"Germany\", \"Italy\", \"United Kingdom\", \"Germany\", \"Germany\", \"Italy\", \"Italy\", \"Germany\", \"United Kingdom\", \"United Kingdom\", \"Germany\", \"Germany\", \"Italy\", \"United Kingdom\", \"Germany\", \"Germany\", \"Italy\", \"Italy\", \"Germany\", \"United Kingdom\", \"United Kingdom\", \"Germany\", \"Germany\", \"Italy\", \"United Kingdom\", \"Germany\", \"Germany\", \"Italy\", \"Italy\", \"Germany\", \"United Kingdom\", \"United Kingdom\", \"Germany\", \"Germany\", \"Italy\", \"United Kingdom\", \"Germany\", \"Germany\", \"Italy\", \"Italy\", \"Germany\", \"United Kingdom\", \"United Kingdom\", \"Germany\", \"Germany\", \"Italy\", \"United Kingdom\", \"Germany\", \"Germany\", \"Italy\", \"Italy\", \"Germany\", \"United Kingdom\", \"United Kingdom\", \"Germany\", \"Germany\", \"Italy\", \"United Kingdom\", \"Germany\", \"Germany\", \"Italy\", \"Italy\", \"Germany\", \"United Kingdom\", \"United Kingdom\", \"Germany\", \"Italy\", \"Germany\", \"Italy\", \"United Kingdom\", \"Germany\", \"Germany\", \"Italy\", \"Italy\", \"Germany\", \"United Kingdom\", \"United Kingdom\", \"Germany\", \"United States\", \"United States\", \"United States\", \"United States\", \"Germany\", \"United States\", \"Netherlands\", \"Italy\", \"Italy\", \"United States\", \"United Kingdom\", \"France\", \"Italy\", \"United States\", \"United Kingdom\", \"United States\", \"Finland\", \"Finland\", \"Finland\", \"United States\", \"United States\", \"Italy\", \"France\", \"United States\", \"United States\", \"Italy\", \"Italy\", \"United States\", \"France\", \"France\", \"France\", \"Finland\", \"Italy\", \"Italy\", \"United States\", \"United States\", \"United States\", \"Germany\", \"Italy\", \"United States\", \"Italy\", \"United States\", \"United States\", \"United States\", \"Germany\", \"United States\", \"France\", \"France\", \"France\", \"France\", \"United States\", \"United States\", \"United States\", \"United States\", \"United States\", \"United States\", \"United States\", \"United States\", \"United States\", \"United States\", \"Spain\", \"China\", \"France\", \"United States\", \"United States\", \"France\", \"Italy\", \"United States\", \"United States\", \"United States\", \"United Kingdom\", \"United Kingdom\", \"Germany\", \"Germany\", \"Germany\", \"France\", \"France\", \"United States\", \"United States\", \"United States\", \"United States\", \"United States\", \"United States\", \"United States\", \"Netherlands\", \"United States\", \"Netherlands\", \"United States\", \"United States\", \"United States\", \"Switzerland\", \"United States\", \"United States\", \"United States\", \"United Kingdom\", \"Germany\", \"Germany\", \"United Kingdom\", \"Japan\", \"Japan\", \"Japan\", \"United States\", \"United States\", \"Germany\", \"United States\", \"United States\", \"United States\", \"United States\", \"United States\", \"United States\", \"United States\", \"United States\", \"United States\", \"United States\", \"United States\", \"United States\", \"United Kingdom\", \"Spain\", \"Spain\", \"United States\", \"United States\", \"United States\", \"Japan\", \"United Kingdom\", \"Japan\", \"United States\", \"China\", \"United States\", \"United States\", \"United States\", \"United States\", \"United States\", \"United Kingdom\", \"United States\", \"United States\", \"United States\", \"United States\", \"United States\", \"United States\", \"United States\", \"Japan\", \"United States\", \"United States\", \"Japan\", \"Japan\", \"United States\", \"Japan\", \"Germany\", \"United States\", \"Japan\", \"United States\", \"Japan\", \"United States\", \"United States\", \"Spain\", \"Spain\", \"United Kingdom\", \"United States\", \"United States\", \"United Kingdom\", \"United States\", \"United States\", \"United Kingdom\", \"United Kingdom\", \"United States\", \"United States\", \"United Kingdom\", \"Germany\", \"United States\", \"United States\", \"United States\", \"United Kingdom\", \"United States\", \"Germany\", \"Italy\", \"Japan\", \"United Kingdom\", \"France\", \"Japan\", \"United Kingdom\", \"Japan\", \"Germany\", \"Germany\", \"United Kingdom\", \"Germany\", \"Germany\", \"Germany\", \"Germany\", \"Germany\", \"United Kingdom\", \"Germany\", \"Japan\", \"Japan\", \"Japan\", \"United States\", \"United States\", \"United Kingdom\", \"United States\", \"United Kingdom\", \"United States\", \"Italy\", \"France\", \"France\", \"France\", \"Italy\", \"Italy\", \"Italy\", \"China\", \"United States\", \"Italy\", \"Italy\", \"United States\", \"United States\", \"United States\", \"Netherlands\", \"United States\", \"Italy\", \"Germany\", \"China\", \"United States\", \"China\", \"China\", \"United States\", \"Japan\", \"United States\", \"Italy\", \"Italy\", \"Italy\", \"United States\", \"United States\", \"United States\", \"United States\", \"United States\", \"United States\", \"United States\", \"United States\", \"Italy\", \"Italy\", \"Italy\", \"Italy\", \"Italy\", \"Italy\", \"United States\", \"United States\", \"United States\", \"Norway\", \"United Kingdom\", \"Norway\", \"United States\", \"Italy\", \"Italy\", \"Italy\", \"Italy\", \"Italy\", \"Italy\", \"Italy\", \"Italy\", \"Italy\", \"Italy\", \"Italy\", \"Italy\", \"Sweden\", \"Italy\", \"Sweden\", \"Sweden\", \"Sweden\", \"Germany\", \"Italy\", \"Italy\", \"Italy\", \"Italy\", \"Italy\", \"United Kingdom\", \"Italy\", \"Italy\", \"Italy\", \"Italy\", \"Italy\", \"Italy\", \"Italy\", \"Italy\", \"Italy\", \"Italy\", \"Italy\", \"Italy\", \"Italy\", \"Italy\", \"Italy\", \"Italy\", \"Italy\", \"Italy\", \"Italy\", \"Italy\", \"Italy\", \"Italy\", \"Italy\", \"Italy\", \"Italy\", \"Italy\", \"Italy\", \"Italy\", \"Italy\", \"Italy\", \"Italy\", \"Italy\", \"Italy\", \"Italy\", \"Italy\", \"Italy\", \"Italy\", \"Italy\", \"Italy\", \"Italy\", \"Italy\", \"Spain\", \"Germany\", \"Germany\", \"Spain\", \"Germany\", \"United Kingdom\", \"Italy\", \"Italy\", \"Italy\", \"Italy\", \"Italy\", \"Spain\", \"Italy\", \"Germany\", \"Germany\", \"Germany\", \"Germany\", \"Germany\", \"Germany\", \"Germany\", \"Spain\", \"Greece\", \"Greece\", \"Greece\", \"Germany\", \"Germany\", \"Germany\", \"Italy\", \"Israel\", \"Israel\", \"Germany\", \"Germany\", \"Germany\", \"United Kingdom\", \"United Kingdom\", \"Norway\", \"Norway\", \"Italy\", \"United States\", \"Spain\", \"Germany\", \"Germany\", \"Germany\", \"Germany\", \"Germany\", \"Germany\", \"Germany\", \"Germany\", \"Germany\", \"Germany\", \"Germany\", \"Switzerland\", \"United States\", \"United States\", \"Switzerland\", \"Switzerland\", \"Switzerland\", \"United States\", \"United States\", \"United States\", \"Switzerland\", \"Switzerland\", \"Switzerland\", \"Switzerland\", \"Switzerland\", \"Switzerland\", \"Switzerland\", \"Spain\", \"Switzerland\", \"Switzerland\", \"Switzerland\", \"Switzerland\", \"Switzerland\", \"Switzerland\", \"Switzerland\", \"Liechtenstein\", \"United States\", \"United States\", \"United Kingdom\", \"United Kingdom\", \"United Kingdom\", \"United Kingdom\", \"United States\", \"Spain\", \"Spain\", \"Italy\", \"Switzerland\", \"Italy\", \"Italy\", \"Italy\", \"Italy\", \"Italy\", \"Italy\", \"Italy\", \"Italy\", \"Italy\", \"Ireland\", \"Italy\", \"Italy\", \"Italy\", \"Italy\", \"Italy\", \"Italy\", \"Italy\", \"France\", \"Italy\", \"Italy\", \"Spain\", \"Belgium\", \"Belgium\", \"France\", \"Belgium\", \"France\", \"Belgium\", \"Spain\", \"Sweden\", \"Ireland\", \"Sweden\", \"Italy\", \"Italy\", \"Sweden\", \"Italy\", \"Italy\", \"Ireland\", \"Spain\", \"Spain\", \"Italy\", \"Italy\", \"Italy\", \"Spain\", \"Spain\", \"Switzerland\", \"Switzerland\", \"Switzerland\", \"Switzerland\", \"Netherlands\", \"Netherlands\", \"Netherlands\", \"Netherlands\", \"Netherlands\", \"Netherlands\", \"Netherlands\", \"Denmark\", \"Denmark\", \"Denmark\", \"Italy\", \"Italy\", \"Italy\", \"Italy\", \"France\", \"Italy\", \"Italy\", \"Italy\", \"United Kingdom\", \"Germany\", \"France\", \"Austria\", \"Austria\", \"Hungary\", \"Netherlands\", \"Germany\", \"Germany\", \"Romania\", \"France\", \"Netherlands\", \"Greece\", \"Romania\", \"Germany\", \"Finland\", \"Italy\", \"Italy\", \"Italy\", \"Italy\", \"Spain\", \"Spain\", \"Italy\", \"France\", \"Spain\", \"Spain\", \"Spain\", \"Spain\", \"Spain\", \"Spain\", \"Italy\", \"Austria\", \"United States\", \"United States\", \"United States\", \"United States\", \"Italy\", \"Italy\", \"Italy\", \"United Kingdom\", \"Italy\", \"Italy\", \"Italy\", \"Italy\", \"Italy\", \"Greece\", \"Greece\", \"Greece\", \"Romania\", \"Italy\", \"Italy\", \"Italy\", \"Italy\", \"Netherlands\", \"Netherlands\", \"Netherlands\", \"France\", \"Netherlands\", \"Netherlands\", \"Italy\", \"Italy\", \"Italy\", \"Italy\", \"Italy\", \"Germany\", \"Italy\", \"India\", \"Spain\", \"Italy\", \"United States\", \"United States\", \"Italy\", \"Italy\", \"Italy\", \"United Kingdom\", \"United Kingdom\", \"United Kingdom\", \"United Kingdom\", \"United Kingdom\", \"United Kingdom\", \"Italy\", \"Germany\", \"Switzerland\", \"Switzerland\", \"Switzerland\", \"Switzerland\", \"Switzerland\", \"Switzerland\", \"Switzerland\", \"Switzerland\", \"Switzerland\", \"Switzerland\", \"Switzerland\", \"Switzerland\", \"Russia\", \"Russia\", \"Russia\", \"Russia\", \"Switzerland\", \"Italy\", \"Italy\", \"Italy\", \"Italy\", \"Italy\", \"Italy\", \"Italy\", \"Italy\", \"United Kingdom\", \"United Kingdom\", \"United Kingdom\", \"United Kingdom\", \"United Kingdom\", \"United Kingdom\", \"United Kingdom\", \"United Kingdom\", \"United Kingdom\", \"Italy\", \"United States\", \"Slovenia\", \"Germany\", \"France\", \"India\", \"China\", \"China\", \"China\", \"India\", \"Italy\", \"Italy\", \"Italy\", \"Italy\", \"Italy\", \"Italy\", \"Italy\", \"Italy\", \"United States\", \"United States\", \"Switzerland\", \"Switzerland\", \"Switzerland\", \"Switzerland\", \"Switzerland\", \"Germany\", \"Germany\", \"Uganda\", \"Kenya\", \"Kenya\", \"Kenya\", \"India\", \"India\", \"India\", \"United States\", \"United States\", \"United States\", \"United States\", \"Netherlands\", \"Netherlands\", \"France\", \"Germany\", \"Italy\", \"United States\", \"United States\", \"United States\", \"United States\", \"United States\"], \"legendgroup\": \"\", \"name\": \"\", \"showlegend\": true, \"type\": \"pie\"}],\n",
       "                        {\"height\": 600, \"legend\": {\"tracegroupgap\": 0}, \"template\": {\"data\": {\"bar\": [{\"error_x\": {\"color\": \"#2a3f5f\"}, \"error_y\": {\"color\": \"#2a3f5f\"}, \"marker\": {\"line\": {\"color\": \"#E5ECF6\", \"width\": 0.5}}, \"type\": \"bar\"}], \"barpolar\": [{\"marker\": {\"line\": {\"color\": \"#E5ECF6\", \"width\": 0.5}}, \"type\": \"barpolar\"}], \"carpet\": [{\"aaxis\": {\"endlinecolor\": \"#2a3f5f\", \"gridcolor\": \"white\", \"linecolor\": \"white\", \"minorgridcolor\": \"white\", \"startlinecolor\": \"#2a3f5f\"}, \"baxis\": {\"endlinecolor\": \"#2a3f5f\", \"gridcolor\": \"white\", \"linecolor\": \"white\", \"minorgridcolor\": \"white\", \"startlinecolor\": \"#2a3f5f\"}, \"type\": \"carpet\"}], \"choropleth\": [{\"colorbar\": {\"outlinewidth\": 0, \"ticks\": \"\"}, \"type\": \"choropleth\"}], \"contour\": [{\"colorbar\": {\"outlinewidth\": 0, \"ticks\": \"\"}, \"colorscale\": [[0.0, \"#0d0887\"], [0.1111111111111111, \"#46039f\"], [0.2222222222222222, \"#7201a8\"], [0.3333333333333333, \"#9c179e\"], [0.4444444444444444, \"#bd3786\"], [0.5555555555555556, \"#d8576b\"], [0.6666666666666666, \"#ed7953\"], [0.7777777777777778, \"#fb9f3a\"], [0.8888888888888888, \"#fdca26\"], [1.0, \"#f0f921\"]], \"type\": \"contour\"}], \"contourcarpet\": [{\"colorbar\": {\"outlinewidth\": 0, \"ticks\": \"\"}, \"type\": \"contourcarpet\"}], \"heatmap\": [{\"colorbar\": {\"outlinewidth\": 0, \"ticks\": \"\"}, \"colorscale\": [[0.0, \"#0d0887\"], [0.1111111111111111, \"#46039f\"], [0.2222222222222222, \"#7201a8\"], [0.3333333333333333, \"#9c179e\"], [0.4444444444444444, \"#bd3786\"], [0.5555555555555556, \"#d8576b\"], [0.6666666666666666, \"#ed7953\"], [0.7777777777777778, \"#fb9f3a\"], [0.8888888888888888, \"#fdca26\"], [1.0, \"#f0f921\"]], \"type\": \"heatmap\"}], \"heatmapgl\": [{\"colorbar\": {\"outlinewidth\": 0, \"ticks\": \"\"}, \"colorscale\": [[0.0, \"#0d0887\"], [0.1111111111111111, \"#46039f\"], [0.2222222222222222, \"#7201a8\"], [0.3333333333333333, \"#9c179e\"], [0.4444444444444444, \"#bd3786\"], [0.5555555555555556, \"#d8576b\"], [0.6666666666666666, \"#ed7953\"], [0.7777777777777778, \"#fb9f3a\"], [0.8888888888888888, \"#fdca26\"], [1.0, \"#f0f921\"]], \"type\": \"heatmapgl\"}], \"histogram\": [{\"marker\": {\"colorbar\": {\"outlinewidth\": 0, \"ticks\": \"\"}}, \"type\": \"histogram\"}], \"histogram2d\": [{\"colorbar\": {\"outlinewidth\": 0, \"ticks\": \"\"}, \"colorscale\": [[0.0, \"#0d0887\"], [0.1111111111111111, \"#46039f\"], [0.2222222222222222, \"#7201a8\"], [0.3333333333333333, \"#9c179e\"], [0.4444444444444444, \"#bd3786\"], [0.5555555555555556, \"#d8576b\"], [0.6666666666666666, \"#ed7953\"], [0.7777777777777778, \"#fb9f3a\"], [0.8888888888888888, \"#fdca26\"], [1.0, \"#f0f921\"]], \"type\": \"histogram2d\"}], \"histogram2dcontour\": [{\"colorbar\": {\"outlinewidth\": 0, \"ticks\": \"\"}, \"colorscale\": [[0.0, \"#0d0887\"], [0.1111111111111111, \"#46039f\"], [0.2222222222222222, \"#7201a8\"], [0.3333333333333333, \"#9c179e\"], [0.4444444444444444, \"#bd3786\"], [0.5555555555555556, \"#d8576b\"], [0.6666666666666666, \"#ed7953\"], [0.7777777777777778, \"#fb9f3a\"], [0.8888888888888888, \"#fdca26\"], [1.0, \"#f0f921\"]], \"type\": \"histogram2dcontour\"}], \"mesh3d\": [{\"colorbar\": {\"outlinewidth\": 0, \"ticks\": \"\"}, \"type\": \"mesh3d\"}], \"parcoords\": [{\"line\": {\"colorbar\": {\"outlinewidth\": 0, \"ticks\": \"\"}}, \"type\": \"parcoords\"}], \"pie\": [{\"automargin\": true, \"type\": \"pie\"}], \"scatter\": [{\"marker\": {\"colorbar\": {\"outlinewidth\": 0, \"ticks\": \"\"}}, \"type\": \"scatter\"}], \"scatter3d\": [{\"line\": {\"colorbar\": {\"outlinewidth\": 0, \"ticks\": \"\"}}, \"marker\": {\"colorbar\": {\"outlinewidth\": 0, \"ticks\": \"\"}}, \"type\": \"scatter3d\"}], \"scattercarpet\": [{\"marker\": {\"colorbar\": {\"outlinewidth\": 0, \"ticks\": \"\"}}, \"type\": \"scattercarpet\"}], \"scattergeo\": [{\"marker\": {\"colorbar\": {\"outlinewidth\": 0, \"ticks\": \"\"}}, \"type\": \"scattergeo\"}], \"scattergl\": [{\"marker\": {\"colorbar\": {\"outlinewidth\": 0, \"ticks\": \"\"}}, \"type\": \"scattergl\"}], \"scattermapbox\": [{\"marker\": {\"colorbar\": {\"outlinewidth\": 0, \"ticks\": \"\"}}, \"type\": \"scattermapbox\"}], \"scatterpolar\": [{\"marker\": {\"colorbar\": {\"outlinewidth\": 0, \"ticks\": \"\"}}, \"type\": \"scatterpolar\"}], \"scatterpolargl\": [{\"marker\": {\"colorbar\": {\"outlinewidth\": 0, \"ticks\": \"\"}}, \"type\": \"scatterpolargl\"}], \"scatterternary\": [{\"marker\": {\"colorbar\": {\"outlinewidth\": 0, \"ticks\": \"\"}}, \"type\": \"scatterternary\"}], \"surface\": [{\"colorbar\": {\"outlinewidth\": 0, \"ticks\": \"\"}, \"colorscale\": [[0.0, \"#0d0887\"], [0.1111111111111111, \"#46039f\"], [0.2222222222222222, \"#7201a8\"], [0.3333333333333333, \"#9c179e\"], [0.4444444444444444, \"#bd3786\"], [0.5555555555555556, \"#d8576b\"], [0.6666666666666666, \"#ed7953\"], [0.7777777777777778, \"#fb9f3a\"], [0.8888888888888888, \"#fdca26\"], [1.0, \"#f0f921\"]], \"type\": \"surface\"}], \"table\": [{\"cells\": {\"fill\": {\"color\": \"#EBF0F8\"}, \"line\": {\"color\": \"white\"}}, \"header\": {\"fill\": {\"color\": \"#C8D4E3\"}, \"line\": {\"color\": \"white\"}}, \"type\": \"table\"}]}, \"layout\": {\"annotationdefaults\": {\"arrowcolor\": \"#2a3f5f\", \"arrowhead\": 0, \"arrowwidth\": 1}, \"coloraxis\": {\"colorbar\": {\"outlinewidth\": 0, \"ticks\": \"\"}}, \"colorscale\": {\"diverging\": [[0, \"#8e0152\"], [0.1, \"#c51b7d\"], [0.2, \"#de77ae\"], [0.3, \"#f1b6da\"], [0.4, \"#fde0ef\"], [0.5, \"#f7f7f7\"], [0.6, \"#e6f5d0\"], [0.7, \"#b8e186\"], [0.8, \"#7fbc41\"], [0.9, \"#4d9221\"], [1, \"#276419\"]], \"sequential\": [[0.0, \"#0d0887\"], [0.1111111111111111, \"#46039f\"], [0.2222222222222222, \"#7201a8\"], [0.3333333333333333, \"#9c179e\"], [0.4444444444444444, \"#bd3786\"], [0.5555555555555556, \"#d8576b\"], [0.6666666666666666, \"#ed7953\"], [0.7777777777777778, \"#fb9f3a\"], [0.8888888888888888, \"#fdca26\"], [1.0, \"#f0f921\"]], \"sequentialminus\": [[0.0, \"#0d0887\"], [0.1111111111111111, \"#46039f\"], [0.2222222222222222, \"#7201a8\"], [0.3333333333333333, \"#9c179e\"], [0.4444444444444444, \"#bd3786\"], [0.5555555555555556, \"#d8576b\"], [0.6666666666666666, \"#ed7953\"], [0.7777777777777778, \"#fb9f3a\"], [0.8888888888888888, \"#fdca26\"], [1.0, \"#f0f921\"]]}, \"colorway\": [\"#636efa\", \"#EF553B\", \"#00cc96\", \"#ab63fa\", \"#FFA15A\", \"#19d3f3\", \"#FF6692\", \"#B6E880\", \"#FF97FF\", \"#FECB52\"], \"font\": {\"color\": \"#2a3f5f\"}, \"geo\": {\"bgcolor\": \"white\", \"lakecolor\": \"white\", \"landcolor\": \"#E5ECF6\", \"showlakes\": true, \"showland\": true, \"subunitcolor\": \"white\"}, \"hoverlabel\": {\"align\": \"left\"}, \"hovermode\": \"closest\", \"mapbox\": {\"style\": \"light\"}, \"paper_bgcolor\": \"white\", \"plot_bgcolor\": \"#E5ECF6\", \"polar\": {\"angularaxis\": {\"gridcolor\": \"white\", \"linecolor\": \"white\", \"ticks\": \"\"}, \"bgcolor\": \"#E5ECF6\", \"radialaxis\": {\"gridcolor\": \"white\", \"linecolor\": \"white\", \"ticks\": \"\"}}, \"scene\": {\"xaxis\": {\"backgroundcolor\": \"#E5ECF6\", \"gridcolor\": \"white\", \"gridwidth\": 2, \"linecolor\": \"white\", \"showbackground\": true, \"ticks\": \"\", \"zerolinecolor\": \"white\"}, \"yaxis\": {\"backgroundcolor\": \"#E5ECF6\", \"gridcolor\": \"white\", \"gridwidth\": 2, \"linecolor\": \"white\", \"showbackground\": true, \"ticks\": \"\", \"zerolinecolor\": \"white\"}, \"zaxis\": {\"backgroundcolor\": \"#E5ECF6\", \"gridcolor\": \"white\", \"gridwidth\": 2, \"linecolor\": \"white\", \"showbackground\": true, \"ticks\": \"\", \"zerolinecolor\": \"white\"}}, \"shapedefaults\": {\"line\": {\"color\": \"#2a3f5f\"}}, \"ternary\": {\"aaxis\": {\"gridcolor\": \"white\", \"linecolor\": \"white\", \"ticks\": \"\"}, \"baxis\": {\"gridcolor\": \"white\", \"linecolor\": \"white\", \"ticks\": \"\"}, \"bgcolor\": \"#E5ECF6\", \"caxis\": {\"gridcolor\": \"white\", \"linecolor\": \"white\", \"ticks\": \"\"}}, \"title\": {\"x\": 0.05}, \"xaxis\": {\"automargin\": true, \"gridcolor\": \"white\", \"linecolor\": \"white\", \"ticks\": \"\", \"title\": {\"standoff\": 15}, \"zerolinecolor\": \"white\", \"zerolinewidth\": 2}, \"yaxis\": {\"automargin\": true, \"gridcolor\": \"white\", \"linecolor\": \"white\", \"ticks\": \"\", \"title\": {\"standoff\": 15}, \"zerolinecolor\": \"white\", \"zerolinewidth\": 2}}}, \"title\": {\"text\": \"Countries of collaborators for grid.11696.39\"}},\n",
       "                        {\"responsive\": true}\n",
       "                    ).then(function(){\n",
       "                            \n",
       "var gd = document.getElementById('7e68c8ed-f9de-481b-b845-aa798bcc5174');\n",
       "var x = new MutationObserver(function (mutations, observer) {{\n",
       "        var display = window.getComputedStyle(gd).display;\n",
       "        if (!display || display === 'none') {{\n",
       "            console.log([gd, 'removed!']);\n",
       "            Plotly.purge(gd);\n",
       "            observer.disconnect();\n",
       "        }}\n",
       "}});\n",
       "\n",
       "// Listen for the removal of the full notebook cells\n",
       "var notebookContainer = gd.closest('#notebook-container');\n",
       "if (notebookContainer) {{\n",
       "    x.observe(notebookContainer, {childList: true});\n",
       "}}\n",
       "\n",
       "// Listen for the clearing of the current output cell\n",
       "var outputEl = gd.closest('.output');\n",
       "if (outputEl) {{\n",
       "    x.observe(outputEl, {childList: true});\n",
       "}}\n",
       "\n",
       "                        })\n",
       "                };\n",
       "                });\n",
       "            </script>\n",
       "        </div>"
      ]
     },
     "metadata": {},
     "output_type": "display_data"
    }
   ],
   "source": [
    "px.pie(affiliations, names=\"aff_country\", height=600, \n",
    "      title=f\"Countries of collaborators for {GRIDID}\")"
   ]
  },
  {
   "cell_type": "markdown",
   "metadata": {
    "Collapsed": "false",
    "colab_type": "text",
    "id": "WHeVZusHXutr"
   },
   "source": [
    "## Putting Countries and Collaborators together...\n",
    "\n",
    "**TIP** by clicking on the right panel you can turn on/off specific countries"
   ]
  },
  {
   "cell_type": "code",
   "execution_count": 24,
   "metadata": {
    "Collapsed": "false",
    "colab": {
     "base_uri": "https://localhost:8080/",
     "height": 917
    },
    "colab_type": "code",
    "executionInfo": {
     "elapsed": 467851,
     "status": "ok",
     "timestamp": 1579782233636,
     "user": {
      "displayName": "Michele Pasin",
      "photoUrl": "https://lh3.googleusercontent.com/a-/AAuE7mBu8LVjIGgontF2Wax51BoL5KFx8esezX3bUmaa0g=s64",
      "userId": "10309320684375994511"
     },
     "user_tz": 0
    },
    "id": "WewReSBERtCL",
    "outputId": "875e0a6f-caf0-4b38-8720-066d2b85d012"
   },
   "outputs": [
    {
     "data": {
      "application/vnd.plotly.v1+json": {
       "config": {
        "plotlyServerURL": "https://plot.ly"
       },
       "data": [
        {
         "alignmentgroup": "True",
         "bingroup": "x",
         "hoverlabel": {
          "namelength": 0
         },
         "hovertemplate": "aff_country=Italy<br>aff_name=%{x}<br>count=%{y}",
         "legendgroup": "Italy",
         "marker": {
          "color": "rgb(158,1,66)"
         },
         "name": "Italy",
         "offsetgroup": "Italy",
         "orientation": "v",
         "showlegend": true,
         "type": "histogram",
         "x": [
          "Telecom Italia (Italy)",
          "Orbitale Hochtechnologie Bremen (Italy)",
          "Orbitale Hochtechnologie Bremen (Italy)",
          "Orbitale Hochtechnologie Bremen (Italy)",
          "Orbitale Hochtechnologie Bremen (Italy)",
          "Orbitale Hochtechnologie Bremen (Italy)",
          "Telecom Italia (Italy)",
          "Telecom Italia (Italy)",
          "Telecom Italia (Italy)",
          "Telecom Italia (Italy)",
          "Telecom Italia (Italy)",
          "Telecom Italia (Italy)",
          "Novartis (Italy)",
          "Orbitale Hochtechnologie Bremen (Italy)",
          "Interoute (Italy)",
          "Interoute (Italy)",
          "Telecom Italia (Italy)",
          "Telecom Italia (Italy)",
          "Telecom Italia (Italy)",
          "Telecom Italia (Italy)",
          "Orbitale Hochtechnologie Bremen (Italy)",
          "Orbitale Hochtechnologie Bremen (Italy)",
          "Orbitale Hochtechnologie Bremen (Italy)",
          "Orbitale Hochtechnologie Bremen (Italy)",
          "Orbitale Hochtechnologie Bremen (Italy)",
          "Orbitale Hochtechnologie Bremen (Italy)",
          "Orbitale Hochtechnologie Bremen (Italy)",
          "Orbitale Hochtechnologie Bremen (Italy)",
          "Orbitale Hochtechnologie Bremen (Italy)",
          "Orbitale Hochtechnologie Bremen (Italy)",
          "Orbitale Hochtechnologie Bremen (Italy)",
          "Orbitale Hochtechnologie Bremen (Italy)",
          "Orbitale Hochtechnologie Bremen (Italy)",
          "Orbitale Hochtechnologie Bremen (Italy)",
          "Orbitale Hochtechnologie Bremen (Italy)",
          "Orbitale Hochtechnologie Bremen (Italy)",
          "Orbitale Hochtechnologie Bremen (Italy)",
          "Orbitale Hochtechnologie Bremen (Italy)",
          "Telecom Italia (Italy)",
          "Orbitale Hochtechnologie Bremen (Italy)",
          "Orbitale Hochtechnologie Bremen (Italy)",
          "Orbitale Hochtechnologie Bremen (Italy)",
          "Telecom Italia (Italy)",
          "Telecom Italia (Italy)",
          "Selex ES (Italy)",
          "Telecom Italia (Italy)",
          "Telecom Italia (Italy)",
          "Telecom Italia (Italy)",
          "Telecom Italia (Italy)",
          "Telecom Italia (Italy)",
          "Telecom Italia (Italy)",
          "Telecom Italia (Italy)",
          "Telecom Italia (Italy)",
          "STMicroelectronics (Italy)",
          "Finmeccanica (Italy)",
          "Finmeccanica (Italy)",
          "Selex ES (Italy)",
          "Finmeccanica (Italy)",
          "Finmeccanica (Italy)",
          "Finmeccanica (Italy)",
          "Finmeccanica (Italy)",
          "Eni (Italy)",
          "Eni (Italy)",
          "Eni (Italy)",
          "Finmeccanica (Italy)",
          "Eni (Italy)",
          "Eni (Italy)",
          "Eni (Italy)",
          "Finmeccanica (Italy)",
          "Chiesi Farmaceutici (Italy)",
          "STMicroelectronics (Italy)",
          "STMicroelectronics (Italy)",
          "STMicroelectronics (Italy)",
          "STMicroelectronics (Italy)",
          "STMicroelectronics (Italy)",
          "Engineering (Italy)",
          "Engineering (Italy)",
          "Nexture Consulting",
          "Innovation Engineering (Italy)",
          "Engineering (Italy)",
          "Deep Blue (Italy)",
          "Deep Blue (Italy)",
          "Fiat Chrysler Automobiles (Italy)",
          "STMicroelectronics (Italy)",
          "STMicroelectronics (Italy)",
          "STMicroelectronics (Italy)",
          "STMicroelectronics (Italy)",
          "STMicroelectronics (Italy)",
          "Novartis (Italy)",
          "GlaxoSmithKline (Italy)",
          "Novartis (Italy)",
          "GlaxoSmithKline (Italy)",
          "Novartis (Italy)",
          "Novartis (Italy)",
          "Novartis (Italy)",
          "GlaxoSmithKline (Italy)",
          "Novartis (Italy)",
          "GlaxoSmithKline (Italy)",
          "Novartis (Italy)",
          "GlaxoSmithKline (Italy)",
          "Novartis (Italy)",
          "GlaxoSmithKline (Italy)",
          "Novartis (Italy)",
          "GlaxoSmithKline (Italy)",
          "Novartis (Italy)",
          "GlaxoSmithKline (Italy)",
          "Novartis (Italy)",
          "GlaxoSmithKline (Italy)",
          "Novartis (Italy)",
          "GlaxoSmithKline (Italy)",
          "Novartis (Italy)",
          "GlaxoSmithKline (Italy)",
          "Novartis (Italy)",
          "GlaxoSmithKline (Italy)",
          "Novartis (Italy)",
          "Novartis (Italy)",
          "GlaxoSmithKline (Italy)",
          "Novartis (Italy)",
          "GlaxoSmithKline (Italy)",
          "Novartis (Italy)",
          "GlaxoSmithKline (Italy)",
          "Novartis (Italy)",
          "GlaxoSmithKline (Italy)",
          "Novartis (Italy)",
          "GlaxoSmithKline (Italy)",
          "Novartis (Italy)",
          "GlaxoSmithKline (Italy)",
          "Novartis (Italy)",
          "GlaxoSmithKline (Italy)",
          "Novartis (Italy)",
          "Novartis (Italy)",
          "Novartis (Italy)",
          "Novartis (Italy)",
          "Novartis (Italy)",
          "SELEX Sistemi Integrati",
          "Italtel (Italy)",
          "Centro Sviluppo Materiali (Italy)",
          "Aeiforia (Italy)",
          "CSP Innovazione nelle ICT (Italy)",
          "CSP Innovazione nelle ICT (Italy)",
          "Thales Alenia Space (Italy)",
          "Thales Alenia Space (Italy)",
          "Thales Alenia Space (Italy)",
          "Thales Alenia Space (Italy)",
          "Deep Blue (Italy)",
          "Thales Alenia Space (Italy)",
          "Deep Blue (Italy)",
          "Deep Blue (Italy)",
          "Deep Blue (Italy)",
          "Thales Alenia Space (Italy)",
          "Thales Alenia Space (Italy)",
          "Deep Blue (Italy)",
          "Deep Blue (Italy)",
          "Thales Alenia Space (Italy)",
          "Centro Elettrotecnico Sperimentale Italiano (Italy)",
          "Centro Elettrotecnico Sperimentale Italiano (Italy)",
          "Pirelli (Italy)",
          "Pirelli (Italy)",
          "Pirelli (Italy)",
          "Pirelli (Italy)",
          "General Electric (Italy)",
          "General Electric (Italy)",
          "Innovation Engineering (Italy)",
          "Fiat Chrysler Automobiles (Italy)",
          "Fiat Chrysler Automobiles (Italy)",
          "Fiat Chrysler Automobiles (Italy)",
          "Planetek Italia",
          "Research and Environmental Devices (Italy)",
          "Research and Environmental Devices (Italy)",
          "Laviosa Minerals (Italy)",
          "Siemens (Italy)",
          "Siemens (Italy)",
          "Siemens (Italy)",
          "SOFCpower (Italy)",
          "SOFCpower (Italy)",
          "Veneto Nanotech (Italy)",
          "Trento RISE (Italy)",
          "Trento RISE (Italy)",
          "Trento RISE (Italy)",
          "Advanced Laboratory On Embedded Systems (Italy)",
          "Advanced Laboratory On Embedded Systems (Italy)",
          "Advanced Laboratory On Embedded Systems (Italy)",
          "Advanced Laboratory On Embedded Systems (Italy)",
          "Advanced Laboratory On Embedded Systems (Italy)",
          "Agilent Technologies (Italy)",
          "Carlo Gavazzi (Italy)",
          "Carlo Gavazzi (Italy)",
          "Agilent Technologies (Italy)",
          "Flame Spray (Italy)",
          "Evidence (Italy)",
          "Giotto Biotech (Italy)",
          "Zanardi Fonderie (Italy)",
          "Zanardi Fonderie (Italy)",
          "IBM (Italy)",
          "De Agostini (Italy)",
          "Accenture (Italy)",
          "Accenture (Italy)",
          "Accenture (Italy)",
          "Poste italiane (Italy)",
          "U-Hopper (Italy)",
          "U-Hopper (Italy)",
          "U-Hopper (Italy)",
          "U-Hopper (Italy)",
          "Trentino Network (Italy)",
          "Trentino Network (Italy)",
          "U-Hopper (Italy)",
          "U-Hopper (Italy)",
          "Centro Agricoltura Ambiente (Italy)",
          "Brembo (Italy)",
          "Brembo (Italy)",
          "Brembo (Italy)",
          "Brembo (Italy)",
          "Brembo (Italy)",
          "Brembo (Italy)",
          "Brembo (Italy)",
          "Brembo (Italy)",
          "Orthofix (Italy)"
         ],
         "xaxis": "x",
         "yaxis": "y"
        },
        {
         "alignmentgroup": "True",
         "bingroup": "x",
         "hoverlabel": {
          "namelength": 0
         },
         "hovertemplate": "aff_country=Germany<br>aff_name=%{x}<br>count=%{y}",
         "legendgroup": "Germany",
         "marker": {
          "color": "rgb(213,62,79)"
         },
         "name": "Germany",
         "offsetgroup": "Germany",
         "orientation": "v",
         "showlegend": true,
         "type": "histogram",
         "x": [
          "Airbus (Germany)",
          "Airbus (Germany)",
          "Airbus (Germany)",
          "Airbus (Germany)",
          "Airbus (Germany)",
          "Airbus (Germany)",
          "Robert Bosch (Germany)",
          "Robert Bosch (Germany)",
          "Robert Bosch (Germany)",
          "Airbus (Germany)",
          "Airbus (Germany)",
          "Airbus (Germany)",
          "Airbus (Germany)",
          "Airbus (Germany)",
          "Airbus (Germany)",
          "Merck (Germany)",
          "Airbus (Germany)",
          "Airbus (Germany)",
          "Airbus (Germany)",
          "Airbus (Germany)",
          "Airbus (Germany)",
          "Airbus (Germany)",
          "Airbus (Germany)",
          "Airbus (Germany)",
          "Airbus (Germany)",
          "Airbus (Germany)",
          "Airbus (Germany)",
          "Airbus (Germany)",
          "Airbus (Germany)",
          "Airbus (Germany)",
          "Airbus (Germany)",
          "Airbus (Germany)",
          "Airbus (Germany)",
          "Airbus (Germany)",
          "Airbus (Germany)",
          "Airbus (Germany)",
          "Airbus (Germany)",
          "Airbus (Germany)",
          "Airbus (Germany)",
          "Airbus (Germany)",
          "Airbus (Germany)",
          "Airbus (Germany)",
          "Airbus (Germany)",
          "Airbus (Germany)",
          "Airbus (Germany)",
          "Airbus (Germany)",
          "Airbus (Germany)",
          "Airbus (Germany)",
          "Airbus (Germany)",
          "Airbus (Germany)",
          "Airbus (Germany)",
          "Robert Bosch (Germany)",
          "Robert Bosch (Germany)",
          "Siemens (Germany)",
          "Siemens (Germany)",
          "Siemens (Germany)",
          "Siemens (Germany)",
          "Airbus (Germany)",
          "Airbus (Germany)",
          "Systems Applications & Products in Data Processing (Germany)",
          "BMW (Germany)",
          "BASF (Germany)",
          "Robert Bosch (Germany)",
          "Airbus (Germany)",
          "Airbus (Germany)",
          "Airbus (Germany)",
          "Airbus (Germany)",
          "Airbus (Germany)",
          "Airbus (Germany)",
          "Airbus (Germany)",
          "Airbus (Germany)",
          "Systems Applications & Products in Data Processing (Germany)",
          "Ford (Germany)",
          "Systems Applications & Products in Data Processing (Germany)",
          "Systems Applications & Products in Data Processing (Germany)",
          "Systems Applications & Products in Data Processing (Germany)",
          "Systems Applications & Products in Data Processing (Germany)",
          "Systems Applications & Products in Data Processing (Germany)",
          "Systems Applications & Products in Data Processing (Germany)",
          "Systems Applications & Products in Data Processing (Germany)",
          "Systems Applications & Products in Data Processing (Germany)",
          "Systems Applications & Products in Data Processing (Germany)",
          "Systems Applications & Products in Data Processing (Germany)",
          "Systems Applications & Products in Data Processing (Germany)",
          "Systems Applications & Products in Data Processing (Germany)",
          "Systems Applications & Products in Data Processing (Germany)",
          "Systems Applications & Products in Data Processing (Germany)",
          "Systems Applications & Products in Data Processing (Germany)",
          "Systems Applications & Products in Data Processing (Germany)",
          "Airbus (Germany)",
          "Airbus (Germany)",
          "Airbus (Germany)",
          "Airbus (Germany)",
          "Airbus (Germany)",
          "Airbus (Germany)",
          "Airbus (Germany)",
          "Airbus (Germany)",
          "Airbus (Germany)",
          "Airbus (Germany)",
          "Airbus (Germany)",
          "Nokia (Germany)",
          "RISA Sicherheitsanalysen",
          "RISA Sicherheitsanalysen",
          "RISA Sicherheitsanalysen",
          "3M (Germany)",
          "Ribocon (Germany)",
          "AMO (Germany)",
          "NEC (Germany)",
          "NEC (Germany)",
          "Daiichi Sankyo (Germany)"
         ],
         "xaxis": "x",
         "yaxis": "y"
        },
        {
         "alignmentgroup": "True",
         "bingroup": "x",
         "hoverlabel": {
          "namelength": 0
         },
         "hovertemplate": "aff_country=United Kingdom<br>aff_name=%{x}<br>count=%{y}",
         "legendgroup": "United Kingdom",
         "marker": {
          "color": "rgb(244,109,67)"
         },
         "name": "United Kingdom",
         "offsetgroup": "United Kingdom",
         "orientation": "v",
         "showlegend": true,
         "type": "histogram",
         "x": [
          "Airbus (United Kingdom)",
          "Airbus (United Kingdom)",
          "Airbus (United Kingdom)",
          "Airbus (United Kingdom)",
          "Airbus (United Kingdom)",
          "GlaxoSmithKline (United Kingdom)",
          "GlaxoSmithKline (United Kingdom)",
          "GlaxoSmithKline (United Kingdom)",
          "GlaxoSmithKline (United Kingdom)",
          "GlaxoSmithKline (United Kingdom)",
          "Airbus (United Kingdom)",
          "Airbus (United Kingdom)",
          "Airbus (United Kingdom)",
          "Airbus (United Kingdom)",
          "Toshiba (United Kingdom)",
          "Ixico (United Kingdom)",
          "Airbus (United Kingdom)",
          "Airbus (United Kingdom)",
          "Airbus (United Kingdom)",
          "Airbus (United Kingdom)",
          "Airbus (United Kingdom)",
          "Airbus (United Kingdom)",
          "Airbus (United Kingdom)",
          "Airbus (United Kingdom)",
          "Airbus (United Kingdom)",
          "Airbus (United Kingdom)",
          "Airbus (United Kingdom)",
          "Airbus (United Kingdom)",
          "Airbus (United Kingdom)",
          "Airbus (United Kingdom)",
          "Airbus (United Kingdom)",
          "Airbus (United Kingdom)",
          "Airbus (United Kingdom)",
          "Airbus (United Kingdom)",
          "Airbus (United Kingdom)",
          "Airbus (United Kingdom)",
          "Airbus (United Kingdom)",
          "Airbus (United Kingdom)",
          "Rolls-Royce (United Kingdom)",
          "GlaxoSmithKline (United Kingdom)",
          "GlaxoSmithKline (United Kingdom)",
          "Airbus (United Kingdom)",
          "Airbus (United Kingdom)",
          "Microsoft Research (United Kingdom)",
          "Microsoft Research (United Kingdom)",
          "Microsoft Research (United Kingdom)",
          "Microsoft Research (United Kingdom)",
          "Airbus (United Kingdom)",
          "Unilever (United Kingdom)",
          "Unilever (United Kingdom)",
          "GlaxoSmithKline (United Kingdom)",
          "Unilever (United Kingdom)",
          "BT Group (United Kingdom)",
          "Unilever (United Kingdom)",
          "Airbus (United Kingdom)",
          "Airbus (United Kingdom)",
          "Applied Graphene Materials (United Kingdom)",
          "Applied Graphene Materials (United Kingdom)",
          "Campden BRI (United Kingdom)",
          "National Grid (United Kingdom)",
          "National Grid (United Kingdom)",
          "Microsoft Research (United Kingdom)",
          "Microsoft Research (United Kingdom)",
          "Accelrys (United Kingdom)",
          "Geotechnical Observations (United Kingdom)",
          "Geotechnical Observations (United Kingdom)",
          "STMicroelectronics (United Kingdom)",
          "MJC2 (United Kingdom)",
          "BioSyntha Technology (United Kingdom)",
          "Nanoforce Technology (United Kingdom)",
          "Nanoforce Technology (United Kingdom)",
          "Nanoforce Technology (United Kingdom)",
          "Nanoforce Technology (United Kingdom)",
          "Nanoforce Technology (United Kingdom)",
          "Nanoforce Technology (United Kingdom)",
          "Edinburgh Instruments (United Kingdom)",
          "Edinburgh Instruments (United Kingdom)",
          "Edinburgh Instruments (United Kingdom)",
          "Cambridge Cognition (United Kingdom)",
          "Cambridge Cognition (United Kingdom)",
          "Cambridge Cognition (United Kingdom)",
          "Cambridge Cognition (United Kingdom)",
          "Cambridge Cognition (United Kingdom)",
          "Cambridge Cognition (United Kingdom)"
         ],
         "xaxis": "x",
         "yaxis": "y"
        },
        {
         "alignmentgroup": "True",
         "bingroup": "x",
         "hoverlabel": {
          "namelength": 0
         },
         "hovertemplate": "aff_country=Spain<br>aff_name=%{x}<br>count=%{y}",
         "legendgroup": "Spain",
         "marker": {
          "color": "rgb(253,174,97)"
         },
         "name": "Spain",
         "offsetgroup": "Spain",
         "orientation": "v",
         "showlegend": true,
         "type": "histogram",
         "x": [
          "Telefonica Research and Development",
          "Telefonica Research and Development",
          "Telefonica Research and Development",
          "Yahoo (Spain)",
          "Yahoo (Spain)",
          "Yahoo (Spain)",
          "Yahoo (Spain)",
          "Yahoo (Spain)",
          "Telefonica Research and Development",
          "Telefonica Research and Development",
          "Telefonica Research and Development",
          "Telefonica Research and Development",
          "Atos (Spain)",
          "Bizkaia Technology Park",
          "ALBA Synchrotron (Spain)",
          "ALBA Synchrotron (Spain)",
          "GMV Innovating Solutions (Spain)",
          "GMV Innovating Solutions (Spain)",
          "Ikerlan",
          "Ikerlan",
          "Ikerlan",
          "Ikerlan",
          "Yahoo (Spain)",
          "Yahoo (Spain)",
          "Yahoo (Spain)",
          "Yahoo (Spain)",
          "Yahoo (Spain)",
          "Yahoo (Spain)",
          "Yahoo (Spain)",
          "Yahoo (Spain)",
          "Isofoton (Spain)"
         ],
         "xaxis": "x",
         "yaxis": "y"
        },
        {
         "alignmentgroup": "True",
         "bingroup": "x",
         "hoverlabel": {
          "namelength": 0
         },
         "hovertemplate": "aff_country=Japan<br>aff_name=%{x}<br>count=%{y}",
         "legendgroup": "Japan",
         "marker": {
          "color": "rgb(254,224,139)"
         },
         "name": "Japan",
         "offsetgroup": "Japan",
         "orientation": "v",
         "showlegend": true,
         "type": "histogram",
         "x": [
          "Takeda (Japan)",
          "Takeda (Japan)",
          "Takeda (Japan)",
          "Nippon Telegraph and Telephone (Japan)",
          "Nippon Telegraph and Telephone (Japan)",
          "Nippon Telegraph and Telephone (Japan)",
          "Hitachi (Japan)",
          "Hitachi (Japan)",
          "Fujitsu (Japan)",
          "Fujitsu (Japan)",
          "Fujitsu (Japan)",
          "Fujitsu (Japan)",
          "Fujitsu (Japan)",
          "Fujitsu (Japan)",
          "Nippon Telegraph and Telephone (Japan)",
          "Nippon Telegraph and Telephone (Japan)",
          "Nippon Telegraph and Telephone (Japan)",
          "Nippon Telegraph and Telephone (Japan)",
          "Nippon Telegraph and Telephone (Japan)",
          "Nippon Telegraph and Telephone (Japan)",
          "Toray (Japan)"
         ],
         "xaxis": "x",
         "yaxis": "y"
        },
        {
         "alignmentgroup": "True",
         "bingroup": "x",
         "hoverlabel": {
          "namelength": 0
         },
         "hovertemplate": "aff_country=United States<br>aff_name=%{x}<br>count=%{y}",
         "legendgroup": "United States",
         "marker": {
          "color": "rgb(255,255,191)"
         },
         "name": "United States",
         "offsetgroup": "United States",
         "orientation": "v",
         "showlegend": true,
         "type": "histogram",
         "x": [
          "Sanofi (United States)",
          "Sanofi (United States)",
          "Novartis (United States)",
          "Novartis (United States)",
          "Advanced Bioscience Laboratories (United States)",
          "Leidos (United States)",
          "Leidos (United States)",
          "Leidos (United States)",
          "Leidos (United States)",
          "Amgen (United States)",
          "Roche (United States)",
          "Human Longevity (United States)",
          "Ginkgo BioWorks (United States)",
          "Roche (United States)",
          "Roche (United States)",
          "MSD (United States)",
          "Roche (United States)",
          "Roche (United States)",
          "Sangamo BioSciences (United States)",
          "AstraZeneca (United States)",
          "Applied Genetic Technologies",
          "Roche (United States)",
          "Roche (United States)",
          "Pfizer (United States)",
          "Pfizer (United States)",
          "Pfizer (United States)",
          "Pfizer (United States)",
          "Human Longevity (United States)",
          "Eli Lilly (United States)",
          "Takeda (United States)",
          "Boehringer Ingelheim (United States)",
          "BioClinica (United States)",
          "Eli Lilly (United States)",
          "Janssen (United States)",
          "Novartis (United States)",
          "Novartis (United States)",
          "Pfizer (United States)",
          "Pfizer (United States)",
          "General Motors (United States)",
          "Hewlett-Packard (United States)",
          "Hewlett-Packard (United States)",
          "Google (United States)",
          "AT&T (United States)",
          "Microsoft (United States)",
          "Microsoft (United States)",
          "Hewlett-Packard (United States)",
          "Microsoft (United States)",
          "Intel (United States)",
          "Intel (United States)",
          "Microsoft (United States)",
          "Microsoft (United States)",
          "Hewlett-Packard (United States)",
          "Microsoft (United States)",
          "Microsoft (United States)",
          "Hewlett-Packard (United States)",
          "Microsoft (United States)",
          "Intel (United States)",
          "Intel (United States)",
          "Hewlett-Packard (United States)",
          "Intel (United States)",
          "Microsoft (United States)",
          "Microsoft (United States)",
          "Microsoft (United States)",
          "Microsoft (United States)",
          "Roche (United States)",
          "Intel (United States)",
          "Intel (United States)",
          "Intel (United States)",
          "Intel (United States)",
          "Microsoft (United States)",
          "Hewlett-Packard (United States)",
          "Ford Motor Company (United States)",
          "Hewlett-Packard (United States)",
          "Hewlett-Packard (United States)",
          "Microsoft (United States)",
          "Eli Lilly (United States)",
          "Eli Lilly (United States)",
          "Ford Motor Company (United States)",
          "Hewlett-Packard (United States)",
          "Microsoft (United States)",
          "Hewlett-Packard (United States)",
          "Hewlett-Packard (United States)",
          "Microsoft (United States)",
          "Ford Motor Company (United States)",
          "Ford Motor Company (United States)",
          "Microsoft (United States)",
          "Google (United States)",
          "Microsoft (United States)",
          "Pfizer (United States)",
          "Yahoo (United States)",
          "Microsoft (United States)",
          "Microsoft (United States)",
          "Microsoft (United States)",
          "AT&T (United States)",
          "AT&T (United States)",
          "Microsoft (United States)",
          "Microsoft (United States)",
          "Microsoft (United States)",
          "Microsoft (United States)",
          "Microsoft (United States)",
          "Microsoft (United States)",
          "AT&T (United States)",
          "Microsoft (United States)",
          "Microsoft (United States)",
          "AT&T (United States)",
          "Yahoo (United States)",
          "AT&T (United States)",
          "Microsoft (United States)",
          "NetApp (United States)",
          "Microsoft (United States)",
          "Google (United States)",
          "Google (United States)",
          "Microsoft (United States)",
          "IBM Research - Almaden",
          "Microsoft (United States)",
          "Hewlett-Packard (United States)",
          "Yahoo (United States)",
          "AT&T (United States)",
          "NetApp (United States)",
          "NetApp (United States)",
          "NetApp (United States)",
          "Hewlett-Packard (United States)",
          "NetApp (United States)",
          "NetApp (United States)",
          "AT&T (United States)",
          "Yahoo (United States)",
          "Microsoft (United States)",
          "Google (United States)",
          "IBM (United States)",
          "Hewlett-Packard (United States)",
          "Mitre (United States)",
          "Advanced Process Combinatorics (United States)",
          "Hewlett-Packard (United States)",
          "Hewlett-Packard (United States)",
          "Hewlett-Packard (United States)",
          "Hewlett-Packard (United States)",
          "Microsoft (United States)",
          "AT&T (United States)",
          "Texas Instruments (United States)",
          "Texas Instruments (United States)",
          "Facebook (United States)",
          "Facebook (United States)",
          "AT&T (United States)",
          "AT&T (United States)",
          "Texas Instruments (United States)",
          "Nissan (United States)",
          "Owens Corning (United States)",
          "Synopsys (United States)",
          "AT&T (United States)",
          "AT&T (United States)",
          "AT&T (United States)",
          "AT&T (United States)",
          "AT&T (United States)",
          "AT&T (United States)",
          "AT&T (United States)",
          "AT&T (United States)",
          "Amazon (United States)",
          "Ecolab (United States)",
          "Ecolab (United States)",
          "Caesars Entertainment (United States)",
          "Ionis Pharmaceuticals (United States)",
          "Hologic Gen-Probe Incorporated (United States)",
          "Hologic Gen-Probe Incorporated (United States)",
          "Quest Diagnostics (United States)",
          "Quest Diagnostics (United States)",
          "Quest Diagnostics (United States)",
          "Mitre (United States)",
          "Mitre (United States)",
          "AiCure (United States)",
          "Analytical Imaging and Geophysics (United States)",
          "Global Science & Technology (United States)",
          "PPG Industries (United States)",
          "PPG Industries (United States)",
          "Datacorp (United States)",
          "Accuray (United States)",
          "Arcon (United States)",
          "NetApp (United States)",
          "NetApp (United States)",
          "IBM Research - Almaden",
          "IBM Research - Almaden",
          "IBM Research - Almaden",
          "IBM Research - Almaden",
          "Cloudera (United States)",
          "Akamai (United States)",
          "FM Global (United States)",
          "Magnetic Resonance Innovations (United States)",
          "Magnetic Resonance Innovations (United States)"
         ],
         "xaxis": "x",
         "yaxis": "y"
        },
        {
         "alignmentgroup": "True",
         "bingroup": "x",
         "hoverlabel": {
          "namelength": 0
         },
         "hovertemplate": "aff_country=Ireland<br>aff_name=%{x}<br>count=%{y}",
         "legendgroup": "Ireland",
         "marker": {
          "color": "rgb(230,245,152)"
         },
         "name": "Ireland",
         "offsetgroup": "Ireland",
         "orientation": "v",
         "showlegend": true,
         "type": "histogram",
         "x": [
          "IBM (Ireland)",
          "IBM (Ireland)",
          "IBM (Ireland)",
          "IBM (Ireland)",
          "IBM (Ireland)",
          "IBM (Ireland)",
          "IBM (Ireland)",
          "IBM (Ireland)",
          "AquaTT (Ireland)",
          "IBM Research - Ireland",
          "IBM Research - Ireland"
         ],
         "xaxis": "x",
         "yaxis": "y"
        },
        {
         "alignmentgroup": "True",
         "bingroup": "x",
         "hoverlabel": {
          "namelength": 0
         },
         "hovertemplate": "aff_country=France<br>aff_name=%{x}<br>count=%{y}",
         "legendgroup": "France",
         "marker": {
          "color": "rgb(171,221,164)"
         },
         "name": "France",
         "offsetgroup": "France",
         "orientation": "v",
         "showlegend": true,
         "type": "histogram",
         "x": [
          "Orange (France)",
          "Orange (France)",
          "Electricité de France (France)",
          "Thales Group (France)",
          "Thales Group (France)",
          "Thales Group (France)",
          "Thales Group (France)",
          "Atos (France)",
          "Thales Group (France)",
          "Thales Group (France)",
          "Thales Group (France)",
          "Thales Group (France)",
          "Thales Group (France)",
          "Thales Group (France)",
          "Thales Group (France)",
          "Thales Group (France)",
          "Thales Group (France)",
          "Danone (France)",
          "Danone (France)",
          "Danone (France)",
          "IBM (France)",
          "Veolia (France)",
          "Veolia (France)",
          "Ion Beam Services (France)",
          "Akka Technologies (France)",
          "Memscap (France)",
          "Xerox (France)",
          "Memscap (France)",
          "Capital Fund Management (France)",
          "Memscap (France)"
         ],
         "xaxis": "x",
         "yaxis": "y"
        },
        {
         "alignmentgroup": "True",
         "bingroup": "x",
         "hoverlabel": {
          "namelength": 0
         },
         "hovertemplate": "aff_country=India<br>aff_name=%{x}<br>count=%{y}",
         "legendgroup": "India",
         "marker": {
          "color": "rgb(102,194,165)"
         },
         "name": "India",
         "offsetgroup": "India",
         "orientation": "v",
         "showlegend": true,
         "type": "histogram",
         "x": [
          "Venus Remedies (India)",
          "IBM (India)",
          "Samsung (India)",
          "Tata Elxsi (India)",
          "IBM Research - India",
          "IBM Research - India",
          "IBM Research - India"
         ],
         "xaxis": "x",
         "yaxis": "y"
        },
        {
         "alignmentgroup": "True",
         "bingroup": "x",
         "hoverlabel": {
          "namelength": 0
         },
         "hovertemplate": "aff_country=South Korea<br>aff_name=%{x}<br>count=%{y}",
         "legendgroup": "South Korea",
         "marker": {
          "color": "rgb(50,136,189)"
         },
         "name": "South Korea",
         "offsetgroup": "South Korea",
         "orientation": "v",
         "showlegend": true,
         "type": "histogram",
         "x": [
          "Amorepacific (South Korea)"
         ],
         "xaxis": "x",
         "yaxis": "y"
        },
        {
         "alignmentgroup": "True",
         "bingroup": "x",
         "hoverlabel": {
          "namelength": 0
         },
         "hovertemplate": "aff_country=Netherlands<br>aff_name=%{x}<br>count=%{y}",
         "legendgroup": "Netherlands",
         "marker": {
          "color": "rgb(94,79,162)"
         },
         "name": "Netherlands",
         "offsetgroup": "Netherlands",
         "orientation": "v",
         "showlegend": true,
         "type": "histogram",
         "x": [
          "Philips (Netherlands)",
          "Philips (Netherlands)",
          "Philips (Netherlands)",
          "NXP (Netherlands)",
          "LioniX (Netherlands)",
          "LioniX (Netherlands)",
          "LioniX (Netherlands)",
          "LioniX (Netherlands)",
          "LioniX (Netherlands)",
          "LioniX (Netherlands)",
          "PhoeniX Software (Netherlands)",
          "Sylics (Netherlands)",
          "Thermo Fisher Scientific (Netherlands)",
          "Holst Centre (Netherlands)",
          "Holst Centre (Netherlands)",
          "Holst Centre (Netherlands)",
          "Thermo Fisher Scientific (Netherlands)",
          "Holst Centre (Netherlands)",
          "Holst Centre (Netherlands)",
          "Holst Centre (Netherlands)"
         ],
         "xaxis": "x",
         "yaxis": "y"
        },
        {
         "alignmentgroup": "True",
         "bingroup": "x",
         "hoverlabel": {
          "namelength": 0
         },
         "hovertemplate": "aff_country=Finland<br>aff_name=%{x}<br>count=%{y}",
         "legendgroup": "Finland",
         "marker": {
          "color": "rgb(158,1,66)"
         },
         "name": "Finland",
         "offsetgroup": "Finland",
         "orientation": "v",
         "showlegend": true,
         "type": "histogram",
         "x": [
          "Nokia (Finland)",
          "Nokia (Finland)",
          "Nokia (Finland)",
          "Nokia (Finland)",
          "Stresstech Group (Finland)"
         ],
         "xaxis": "x",
         "yaxis": "y"
        },
        {
         "alignmentgroup": "True",
         "bingroup": "x",
         "hoverlabel": {
          "namelength": 0
         },
         "hovertemplate": "aff_country=China<br>aff_name=%{x}<br>count=%{y}",
         "legendgroup": "China",
         "marker": {
          "color": "rgb(213,62,79)"
         },
         "name": "China",
         "offsetgroup": "China",
         "orientation": "v",
         "showlegend": true,
         "type": "histogram",
         "x": [
          "Microsoft Research Asia (China)",
          "Microsoft Research Asia (China)",
          "Microsoft Research Asia (China)",
          "Huawei Technologies (China)",
          "Huawei Technologies (China)",
          "Huawei Technologies (China)",
          "Microsoft Research Asia (China)",
          "Microsoft Research Asia (China)",
          "Microsoft Research Asia (China)"
         ],
         "xaxis": "x",
         "yaxis": "y"
        },
        {
         "alignmentgroup": "True",
         "bingroup": "x",
         "hoverlabel": {
          "namelength": 0
         },
         "hovertemplate": "aff_country=Switzerland<br>aff_name=%{x}<br>count=%{y}",
         "legendgroup": "Switzerland",
         "marker": {
          "color": "rgb(244,109,67)"
         },
         "name": "Switzerland",
         "offsetgroup": "Switzerland",
         "orientation": "v",
         "showlegend": true,
         "type": "histogram",
         "x": [
          "IBM Research - Zurich",
          "IBM Research - Zurich",
          "IBM Research - Zurich",
          "IBM Research - Zurich",
          "IBM Research - Zurich",
          "IBM Research - Zurich",
          "Nestlé (Switzerland)",
          "Nestlé (Switzerland)",
          "Nestlé (Switzerland)",
          "Nestlé (Switzerland)",
          "Nestlé (Switzerland)",
          "Nestlé (Switzerland)",
          "Nestlé (Switzerland)",
          "Nestlé (Switzerland)",
          "Nestlé (Switzerland)",
          "Nestlé (Switzerland)",
          "Nestlé (Switzerland)",
          "Nestlé (Switzerland)",
          "Nestlé (Switzerland)",
          "Swiss Center for Electronics and Microtechnology (Switzerland)",
          "Gamma Remote Sensing",
          "Gamma Remote Sensing",
          "Gamma Remote Sensing",
          "Gamma Remote Sensing",
          "Smartec (Switzerland)",
          "Smartec (Switzerland)",
          "Smartec (Switzerland)",
          "Smartec (Switzerland)",
          "Smartec (Switzerland)",
          "Smartec (Switzerland)",
          "Smartec (Switzerland)",
          "Smartec (Switzerland)",
          "Smartec (Switzerland)",
          "Smartec (Switzerland)",
          "Smartec (Switzerland)",
          "Smartec (Switzerland)",
          "Smartec (Switzerland)",
          "Google (Switzerland)",
          "Google (Switzerland)",
          "Google (Switzerland)",
          "Google (Switzerland)",
          "Google (Switzerland)"
         ],
         "xaxis": "x",
         "yaxis": "y"
        },
        {
         "alignmentgroup": "True",
         "bingroup": "x",
         "hoverlabel": {
          "namelength": 0
         },
         "hovertemplate": "aff_country=Norway<br>aff_name=%{x}<br>count=%{y}",
         "legendgroup": "Norway",
         "marker": {
          "color": "rgb(253,174,97)"
         },
         "name": "Norway",
         "offsetgroup": "Norway",
         "orientation": "v",
         "showlegend": true,
         "type": "histogram",
         "x": [
          "Nofima",
          "Nofima",
          "Telenor (Norway)",
          "Telenor (Norway)"
         ],
         "xaxis": "x",
         "yaxis": "y"
        },
        {
         "alignmentgroup": "True",
         "bingroup": "x",
         "hoverlabel": {
          "namelength": 0
         },
         "hovertemplate": "aff_country=Sweden<br>aff_name=%{x}<br>count=%{y}",
         "legendgroup": "Sweden",
         "marker": {
          "color": "rgb(254,224,139)"
         },
         "name": "Sweden",
         "offsetgroup": "Sweden",
         "orientation": "v",
         "showlegend": true,
         "type": "histogram",
         "x": [
          "Volvo (Sweden)",
          "Volvo (Sweden)",
          "Volvo (Sweden)",
          "Volvo (Sweden)",
          "Höganäs (Sweden)",
          "Höganäs (Sweden)",
          "Höganäs (Sweden)"
         ],
         "xaxis": "x",
         "yaxis": "y"
        },
        {
         "alignmentgroup": "True",
         "bingroup": "x",
         "hoverlabel": {
          "namelength": 0
         },
         "hovertemplate": "aff_country=Greece<br>aff_name=%{x}<br>count=%{y}",
         "legendgroup": "Greece",
         "marker": {
          "color": "rgb(255,255,191)"
         },
         "name": "Greece",
         "offsetgroup": "Greece",
         "orientation": "v",
         "showlegend": true,
         "type": "histogram",
         "x": [
          "Athens Technology Center (Greece)",
          "Athens Technology Center (Greece)",
          "Athens Technology Center (Greece)",
          "Advanced Microwave Systems (Greece)",
          "Advanced Microwave Systems (Greece)",
          "Advanced Microwave Systems (Greece)",
          "Advanced Microwave Systems (Greece)"
         ],
         "xaxis": "x",
         "yaxis": "y"
        },
        {
         "alignmentgroup": "True",
         "bingroup": "x",
         "hoverlabel": {
          "namelength": 0
         },
         "hovertemplate": "aff_country=Israel<br>aff_name=%{x}<br>count=%{y}",
         "legendgroup": "Israel",
         "marker": {
          "color": "rgb(230,245,152)"
         },
         "name": "Israel",
         "offsetgroup": "Israel",
         "orientation": "v",
         "showlegend": true,
         "type": "histogram",
         "x": [
          "IBM Research - Haifa",
          "IBM Research - Haifa"
         ],
         "xaxis": "x",
         "yaxis": "y"
        },
        {
         "alignmentgroup": "True",
         "bingroup": "x",
         "hoverlabel": {
          "namelength": 0
         },
         "hovertemplate": "aff_country=Liechtenstein<br>aff_name=%{x}<br>count=%{y}",
         "legendgroup": "Liechtenstein",
         "marker": {
          "color": "rgb(171,221,164)"
         },
         "name": "Liechtenstein",
         "offsetgroup": "Liechtenstein",
         "orientation": "v",
         "showlegend": true,
         "type": "histogram",
         "x": [
          "Ivoclar Vivadent (Liechtenstein)"
         ],
         "xaxis": "x",
         "yaxis": "y"
        },
        {
         "alignmentgroup": "True",
         "bingroup": "x",
         "hoverlabel": {
          "namelength": 0
         },
         "hovertemplate": "aff_country=Belgium<br>aff_name=%{x}<br>count=%{y}",
         "legendgroup": "Belgium",
         "marker": {
          "color": "rgb(102,194,165)"
         },
         "name": "Belgium",
         "offsetgroup": "Belgium",
         "orientation": "v",
         "showlegend": true,
         "type": "histogram",
         "x": [
          "Aquaplus (Belgium)",
          "Aquaplus (Belgium)",
          "Aquaplus (Belgium)",
          "Aquaplus (Belgium)"
         ],
         "xaxis": "x",
         "yaxis": "y"
        },
        {
         "alignmentgroup": "True",
         "bingroup": "x",
         "hoverlabel": {
          "namelength": 0
         },
         "hovertemplate": "aff_country=Denmark<br>aff_name=%{x}<br>count=%{y}",
         "legendgroup": "Denmark",
         "marker": {
          "color": "rgb(50,136,189)"
         },
         "name": "Denmark",
         "offsetgroup": "Denmark",
         "orientation": "v",
         "showlegend": true,
         "type": "histogram",
         "x": [
          "Instituttet for Produktudvikling (Denmark)",
          "Instituttet for Produktudvikling (Denmark)",
          "Instituttet for Produktudvikling (Denmark)"
         ],
         "xaxis": "x",
         "yaxis": "y"
        },
        {
         "alignmentgroup": "True",
         "bingroup": "x",
         "hoverlabel": {
          "namelength": 0
         },
         "hovertemplate": "aff_country=Austria<br>aff_name=%{x}<br>count=%{y}",
         "legendgroup": "Austria",
         "marker": {
          "color": "rgb(94,79,162)"
         },
         "name": "Austria",
         "offsetgroup": "Austria",
         "orientation": "v",
         "showlegend": true,
         "type": "histogram",
         "x": [
          "Siemens (Austria)",
          "Siemens (Austria)",
          "Vienna Consulting Engineers (Austria)"
         ],
         "xaxis": "x",
         "yaxis": "y"
        },
        {
         "alignmentgroup": "True",
         "bingroup": "x",
         "hoverlabel": {
          "namelength": 0
         },
         "hovertemplate": "aff_country=Hungary<br>aff_name=%{x}<br>count=%{y}",
         "legendgroup": "Hungary",
         "marker": {
          "color": "rgb(158,1,66)"
         },
         "name": "Hungary",
         "offsetgroup": "Hungary",
         "orientation": "v",
         "showlegend": true,
         "type": "histogram",
         "x": [
          "TÁRKI Social Research Institute"
         ],
         "xaxis": "x",
         "yaxis": "y"
        },
        {
         "alignmentgroup": "True",
         "bingroup": "x",
         "hoverlabel": {
          "namelength": 0
         },
         "hovertemplate": "aff_country=Romania<br>aff_name=%{x}<br>count=%{y}",
         "legendgroup": "Romania",
         "marker": {
          "color": "rgb(213,62,79)"
         },
         "name": "Romania",
         "offsetgroup": "Romania",
         "orientation": "v",
         "showlegend": true,
         "type": "histogram",
         "x": [
          "Sitex 45 (Romania)",
          "Sitex 45 (Romania)",
          "Sitex 45 (Romania)"
         ],
         "xaxis": "x",
         "yaxis": "y"
        },
        {
         "alignmentgroup": "True",
         "bingroup": "x",
         "hoverlabel": {
          "namelength": 0
         },
         "hovertemplate": "aff_country=Russia<br>aff_name=%{x}<br>count=%{y}",
         "legendgroup": "Russia",
         "marker": {
          "color": "rgb(244,109,67)"
         },
         "name": "Russia",
         "offsetgroup": "Russia",
         "orientation": "v",
         "showlegend": true,
         "type": "histogram",
         "x": [
          "Surface Phenomena Researches Group (Russia)",
          "Surface Phenomena Researches Group (Russia)",
          "Surface Phenomena Researches Group (Russia)",
          "Surface Phenomena Researches Group (Russia)"
         ],
         "xaxis": "x",
         "yaxis": "y"
        },
        {
         "alignmentgroup": "True",
         "bingroup": "x",
         "hoverlabel": {
          "namelength": 0
         },
         "hovertemplate": "aff_country=Slovenia<br>aff_name=%{x}<br>count=%{y}",
         "legendgroup": "Slovenia",
         "marker": {
          "color": "rgb(253,174,97)"
         },
         "name": "Slovenia",
         "offsetgroup": "Slovenia",
         "orientation": "v",
         "showlegend": true,
         "type": "histogram",
         "x": [
          "EN-FIST Centre of Excellence (Slovenia)"
         ],
         "xaxis": "x",
         "yaxis": "y"
        },
        {
         "alignmentgroup": "True",
         "bingroup": "x",
         "hoverlabel": {
          "namelength": 0
         },
         "hovertemplate": "aff_country=Uganda<br>aff_name=%{x}<br>count=%{y}",
         "legendgroup": "Uganda",
         "marker": {
          "color": "rgb(254,224,139)"
         },
         "name": "Uganda",
         "offsetgroup": "Uganda",
         "orientation": "v",
         "showlegend": true,
         "type": "histogram",
         "x": [
          "MTN (Uganda)"
         ],
         "xaxis": "x",
         "yaxis": "y"
        },
        {
         "alignmentgroup": "True",
         "bingroup": "x",
         "hoverlabel": {
          "namelength": 0
         },
         "hovertemplate": "aff_country=Kenya<br>aff_name=%{x}<br>count=%{y}",
         "legendgroup": "Kenya",
         "marker": {
          "color": "rgb(255,255,191)"
         },
         "name": "Kenya",
         "offsetgroup": "Kenya",
         "orientation": "v",
         "showlegend": true,
         "type": "histogram",
         "x": [
          "IBM Research – Africa",
          "IBM Research – Africa",
          "IBM Research – Africa"
         ],
         "xaxis": "x",
         "yaxis": "y"
        }
       ],
       "layout": {
        "autosize": true,
        "barmode": "relative",
        "legend": {
         "title": {
          "text": "aff_country"
         },
         "tracegroupgap": 0
        },
        "template": {
         "data": {
          "bar": [
           {
            "error_x": {
             "color": "#2a3f5f"
            },
            "error_y": {
             "color": "#2a3f5f"
            },
            "marker": {
             "line": {
              "color": "#E5ECF6",
              "width": 0.5
             }
            },
            "type": "bar"
           }
          ],
          "barpolar": [
           {
            "marker": {
             "line": {
              "color": "#E5ECF6",
              "width": 0.5
             }
            },
            "type": "barpolar"
           }
          ],
          "carpet": [
           {
            "aaxis": {
             "endlinecolor": "#2a3f5f",
             "gridcolor": "white",
             "linecolor": "white",
             "minorgridcolor": "white",
             "startlinecolor": "#2a3f5f"
            },
            "baxis": {
             "endlinecolor": "#2a3f5f",
             "gridcolor": "white",
             "linecolor": "white",
             "minorgridcolor": "white",
             "startlinecolor": "#2a3f5f"
            },
            "type": "carpet"
           }
          ],
          "choropleth": [
           {
            "colorbar": {
             "outlinewidth": 0,
             "ticks": ""
            },
            "type": "choropleth"
           }
          ],
          "contour": [
           {
            "colorbar": {
             "outlinewidth": 0,
             "ticks": ""
            },
            "colorscale": [
             [
              0,
              "#0d0887"
             ],
             [
              0.1111111111111111,
              "#46039f"
             ],
             [
              0.2222222222222222,
              "#7201a8"
             ],
             [
              0.3333333333333333,
              "#9c179e"
             ],
             [
              0.4444444444444444,
              "#bd3786"
             ],
             [
              0.5555555555555556,
              "#d8576b"
             ],
             [
              0.6666666666666666,
              "#ed7953"
             ],
             [
              0.7777777777777778,
              "#fb9f3a"
             ],
             [
              0.8888888888888888,
              "#fdca26"
             ],
             [
              1,
              "#f0f921"
             ]
            ],
            "type": "contour"
           }
          ],
          "contourcarpet": [
           {
            "colorbar": {
             "outlinewidth": 0,
             "ticks": ""
            },
            "type": "contourcarpet"
           }
          ],
          "heatmap": [
           {
            "colorbar": {
             "outlinewidth": 0,
             "ticks": ""
            },
            "colorscale": [
             [
              0,
              "#0d0887"
             ],
             [
              0.1111111111111111,
              "#46039f"
             ],
             [
              0.2222222222222222,
              "#7201a8"
             ],
             [
              0.3333333333333333,
              "#9c179e"
             ],
             [
              0.4444444444444444,
              "#bd3786"
             ],
             [
              0.5555555555555556,
              "#d8576b"
             ],
             [
              0.6666666666666666,
              "#ed7953"
             ],
             [
              0.7777777777777778,
              "#fb9f3a"
             ],
             [
              0.8888888888888888,
              "#fdca26"
             ],
             [
              1,
              "#f0f921"
             ]
            ],
            "type": "heatmap"
           }
          ],
          "heatmapgl": [
           {
            "colorbar": {
             "outlinewidth": 0,
             "ticks": ""
            },
            "colorscale": [
             [
              0,
              "#0d0887"
             ],
             [
              0.1111111111111111,
              "#46039f"
             ],
             [
              0.2222222222222222,
              "#7201a8"
             ],
             [
              0.3333333333333333,
              "#9c179e"
             ],
             [
              0.4444444444444444,
              "#bd3786"
             ],
             [
              0.5555555555555556,
              "#d8576b"
             ],
             [
              0.6666666666666666,
              "#ed7953"
             ],
             [
              0.7777777777777778,
              "#fb9f3a"
             ],
             [
              0.8888888888888888,
              "#fdca26"
             ],
             [
              1,
              "#f0f921"
             ]
            ],
            "type": "heatmapgl"
           }
          ],
          "histogram": [
           {
            "marker": {
             "colorbar": {
              "outlinewidth": 0,
              "ticks": ""
             }
            },
            "type": "histogram"
           }
          ],
          "histogram2d": [
           {
            "colorbar": {
             "outlinewidth": 0,
             "ticks": ""
            },
            "colorscale": [
             [
              0,
              "#0d0887"
             ],
             [
              0.1111111111111111,
              "#46039f"
             ],
             [
              0.2222222222222222,
              "#7201a8"
             ],
             [
              0.3333333333333333,
              "#9c179e"
             ],
             [
              0.4444444444444444,
              "#bd3786"
             ],
             [
              0.5555555555555556,
              "#d8576b"
             ],
             [
              0.6666666666666666,
              "#ed7953"
             ],
             [
              0.7777777777777778,
              "#fb9f3a"
             ],
             [
              0.8888888888888888,
              "#fdca26"
             ],
             [
              1,
              "#f0f921"
             ]
            ],
            "type": "histogram2d"
           }
          ],
          "histogram2dcontour": [
           {
            "colorbar": {
             "outlinewidth": 0,
             "ticks": ""
            },
            "colorscale": [
             [
              0,
              "#0d0887"
             ],
             [
              0.1111111111111111,
              "#46039f"
             ],
             [
              0.2222222222222222,
              "#7201a8"
             ],
             [
              0.3333333333333333,
              "#9c179e"
             ],
             [
              0.4444444444444444,
              "#bd3786"
             ],
             [
              0.5555555555555556,
              "#d8576b"
             ],
             [
              0.6666666666666666,
              "#ed7953"
             ],
             [
              0.7777777777777778,
              "#fb9f3a"
             ],
             [
              0.8888888888888888,
              "#fdca26"
             ],
             [
              1,
              "#f0f921"
             ]
            ],
            "type": "histogram2dcontour"
           }
          ],
          "mesh3d": [
           {
            "colorbar": {
             "outlinewidth": 0,
             "ticks": ""
            },
            "type": "mesh3d"
           }
          ],
          "parcoords": [
           {
            "line": {
             "colorbar": {
              "outlinewidth": 0,
              "ticks": ""
             }
            },
            "type": "parcoords"
           }
          ],
          "pie": [
           {
            "automargin": true,
            "type": "pie"
           }
          ],
          "scatter": [
           {
            "marker": {
             "colorbar": {
              "outlinewidth": 0,
              "ticks": ""
             }
            },
            "type": "scatter"
           }
          ],
          "scatter3d": [
           {
            "line": {
             "colorbar": {
              "outlinewidth": 0,
              "ticks": ""
             }
            },
            "marker": {
             "colorbar": {
              "outlinewidth": 0,
              "ticks": ""
             }
            },
            "type": "scatter3d"
           }
          ],
          "scattercarpet": [
           {
            "marker": {
             "colorbar": {
              "outlinewidth": 0,
              "ticks": ""
             }
            },
            "type": "scattercarpet"
           }
          ],
          "scattergeo": [
           {
            "marker": {
             "colorbar": {
              "outlinewidth": 0,
              "ticks": ""
             }
            },
            "type": "scattergeo"
           }
          ],
          "scattergl": [
           {
            "marker": {
             "colorbar": {
              "outlinewidth": 0,
              "ticks": ""
             }
            },
            "type": "scattergl"
           }
          ],
          "scattermapbox": [
           {
            "marker": {
             "colorbar": {
              "outlinewidth": 0,
              "ticks": ""
             }
            },
            "type": "scattermapbox"
           }
          ],
          "scatterpolar": [
           {
            "marker": {
             "colorbar": {
              "outlinewidth": 0,
              "ticks": ""
             }
            },
            "type": "scatterpolar"
           }
          ],
          "scatterpolargl": [
           {
            "marker": {
             "colorbar": {
              "outlinewidth": 0,
              "ticks": ""
             }
            },
            "type": "scatterpolargl"
           }
          ],
          "scatterternary": [
           {
            "marker": {
             "colorbar": {
              "outlinewidth": 0,
              "ticks": ""
             }
            },
            "type": "scatterternary"
           }
          ],
          "surface": [
           {
            "colorbar": {
             "outlinewidth": 0,
             "ticks": ""
            },
            "colorscale": [
             [
              0,
              "#0d0887"
             ],
             [
              0.1111111111111111,
              "#46039f"
             ],
             [
              0.2222222222222222,
              "#7201a8"
             ],
             [
              0.3333333333333333,
              "#9c179e"
             ],
             [
              0.4444444444444444,
              "#bd3786"
             ],
             [
              0.5555555555555556,
              "#d8576b"
             ],
             [
              0.6666666666666666,
              "#ed7953"
             ],
             [
              0.7777777777777778,
              "#fb9f3a"
             ],
             [
              0.8888888888888888,
              "#fdca26"
             ],
             [
              1,
              "#f0f921"
             ]
            ],
            "type": "surface"
           }
          ],
          "table": [
           {
            "cells": {
             "fill": {
              "color": "#EBF0F8"
             },
             "line": {
              "color": "white"
             }
            },
            "header": {
             "fill": {
              "color": "#C8D4E3"
             },
             "line": {
              "color": "white"
             }
            },
            "type": "table"
           }
          ]
         },
         "layout": {
          "annotationdefaults": {
           "arrowcolor": "#2a3f5f",
           "arrowhead": 0,
           "arrowwidth": 1
          },
          "coloraxis": {
           "colorbar": {
            "outlinewidth": 0,
            "ticks": ""
           }
          },
          "colorscale": {
           "diverging": [
            [
             0,
             "#8e0152"
            ],
            [
             0.1,
             "#c51b7d"
            ],
            [
             0.2,
             "#de77ae"
            ],
            [
             0.3,
             "#f1b6da"
            ],
            [
             0.4,
             "#fde0ef"
            ],
            [
             0.5,
             "#f7f7f7"
            ],
            [
             0.6,
             "#e6f5d0"
            ],
            [
             0.7,
             "#b8e186"
            ],
            [
             0.8,
             "#7fbc41"
            ],
            [
             0.9,
             "#4d9221"
            ],
            [
             1,
             "#276419"
            ]
           ],
           "sequential": [
            [
             0,
             "#0d0887"
            ],
            [
             0.1111111111111111,
             "#46039f"
            ],
            [
             0.2222222222222222,
             "#7201a8"
            ],
            [
             0.3333333333333333,
             "#9c179e"
            ],
            [
             0.4444444444444444,
             "#bd3786"
            ],
            [
             0.5555555555555556,
             "#d8576b"
            ],
            [
             0.6666666666666666,
             "#ed7953"
            ],
            [
             0.7777777777777778,
             "#fb9f3a"
            ],
            [
             0.8888888888888888,
             "#fdca26"
            ],
            [
             1,
             "#f0f921"
            ]
           ],
           "sequentialminus": [
            [
             0,
             "#0d0887"
            ],
            [
             0.1111111111111111,
             "#46039f"
            ],
            [
             0.2222222222222222,
             "#7201a8"
            ],
            [
             0.3333333333333333,
             "#9c179e"
            ],
            [
             0.4444444444444444,
             "#bd3786"
            ],
            [
             0.5555555555555556,
             "#d8576b"
            ],
            [
             0.6666666666666666,
             "#ed7953"
            ],
            [
             0.7777777777777778,
             "#fb9f3a"
            ],
            [
             0.8888888888888888,
             "#fdca26"
            ],
            [
             1,
             "#f0f921"
            ]
           ]
          },
          "colorway": [
           "#636efa",
           "#EF553B",
           "#00cc96",
           "#ab63fa",
           "#FFA15A",
           "#19d3f3",
           "#FF6692",
           "#B6E880",
           "#FF97FF",
           "#FECB52"
          ],
          "font": {
           "color": "#2a3f5f"
          },
          "geo": {
           "bgcolor": "white",
           "lakecolor": "white",
           "landcolor": "#E5ECF6",
           "showlakes": true,
           "showland": true,
           "subunitcolor": "white"
          },
          "hoverlabel": {
           "align": "left"
          },
          "hovermode": "closest",
          "mapbox": {
           "style": "light"
          },
          "paper_bgcolor": "white",
          "plot_bgcolor": "#E5ECF6",
          "polar": {
           "angularaxis": {
            "gridcolor": "white",
            "linecolor": "white",
            "ticks": ""
           },
           "bgcolor": "#E5ECF6",
           "radialaxis": {
            "gridcolor": "white",
            "linecolor": "white",
            "ticks": ""
           }
          },
          "scene": {
           "xaxis": {
            "backgroundcolor": "#E5ECF6",
            "gridcolor": "white",
            "gridwidth": 2,
            "linecolor": "white",
            "showbackground": true,
            "ticks": "",
            "zerolinecolor": "white"
           },
           "yaxis": {
            "backgroundcolor": "#E5ECF6",
            "gridcolor": "white",
            "gridwidth": 2,
            "linecolor": "white",
            "showbackground": true,
            "ticks": "",
            "zerolinecolor": "white"
           },
           "zaxis": {
            "backgroundcolor": "#E5ECF6",
            "gridcolor": "white",
            "gridwidth": 2,
            "linecolor": "white",
            "showbackground": true,
            "ticks": "",
            "zerolinecolor": "white"
           }
          },
          "shapedefaults": {
           "line": {
            "color": "#2a3f5f"
           }
          },
          "ternary": {
           "aaxis": {
            "gridcolor": "white",
            "linecolor": "white",
            "ticks": ""
           },
           "baxis": {
            "gridcolor": "white",
            "linecolor": "white",
            "ticks": ""
           },
           "bgcolor": "#E5ECF6",
           "caxis": {
            "gridcolor": "white",
            "linecolor": "white",
            "ticks": ""
           }
          },
          "title": {
           "x": 0.05
          },
          "xaxis": {
           "automargin": true,
           "gridcolor": "white",
           "linecolor": "white",
           "ticks": "",
           "title": {
            "standoff": 15
           },
           "zerolinecolor": "white",
           "zerolinewidth": 2
          },
          "yaxis": {
           "automargin": true,
           "gridcolor": "white",
           "linecolor": "white",
           "ticks": "",
           "title": {
            "standoff": 15
           },
           "zerolinecolor": "white",
           "zerolinewidth": 2
          }
         }
        },
        "title": {
         "text": "Top Countries and Industry collaborators for University of Trento-grid.11696.39"
        },
        "xaxis": {
         "anchor": "y",
         "autorange": true,
         "domain": [
          0,
          1
         ],
         "range": [
          -0.5,
          202.5
         ],
         "title": {
          "text": "aff_name"
         },
         "type": "category"
        },
        "yaxis": {
         "anchor": "x",
         "autorange": true,
         "domain": [
          0,
          1
         ],
         "range": [
          0,
          71.57894736842105
         ],
         "title": {
          "text": "count"
         }
        }
       }
      },
      "image/png": "[encoded data removed]",
      "text/html": [
       "<div>\n",
       "        \n",
       "        \n",
       "            <div id=\"efb38dd5-5a4f-4557-8b18-e2378e864ba4\" class=\"plotly-graph-div\" style=\"height:900px; width:100%;\"></div>\n",
       "            <script type=\"text/javascript\">\n",
       "                require([\"plotly\"], function(Plotly) {\n",
       "                    window.PLOTLYENV=window.PLOTLYENV || {};\n",
       "                    \n",
       "                if (document.getElementById(\"efb38dd5-5a4f-4557-8b18-e2378e864ba4\")) {\n",
       "                    Plotly.newPlot(\n",
       "                        'efb38dd5-5a4f-4557-8b18-e2378e864ba4',\n",
       "                        [{\"alignmentgroup\": \"True\", \"bingroup\": \"x\", \"hoverlabel\": {\"namelength\": 0}, \"hovertemplate\": \"aff_country=Italy<br>aff_name=%{x}<br>count=%{y}\", \"legendgroup\": \"Italy\", \"marker\": {\"color\": \"rgb(158,1,66)\"}, \"name\": \"Italy\", \"offsetgroup\": \"Italy\", \"orientation\": \"v\", \"showlegend\": true, \"type\": \"histogram\", \"x\": [\"Telecom Italia (Italy)\", \"Orbitale Hochtechnologie Bremen (Italy)\", \"Orbitale Hochtechnologie Bremen (Italy)\", \"Orbitale Hochtechnologie Bremen (Italy)\", \"Orbitale Hochtechnologie Bremen (Italy)\", \"Orbitale Hochtechnologie Bremen (Italy)\", \"Telecom Italia (Italy)\", \"Telecom Italia (Italy)\", \"Telecom Italia (Italy)\", \"Telecom Italia (Italy)\", \"Telecom Italia (Italy)\", \"Telecom Italia (Italy)\", \"Novartis (Italy)\", \"Orbitale Hochtechnologie Bremen (Italy)\", \"Interoute (Italy)\", \"Interoute (Italy)\", \"Telecom Italia (Italy)\", \"Telecom Italia (Italy)\", \"Telecom Italia (Italy)\", \"Telecom Italia (Italy)\", \"Orbitale Hochtechnologie Bremen (Italy)\", \"Orbitale Hochtechnologie Bremen (Italy)\", \"Orbitale Hochtechnologie Bremen (Italy)\", \"Orbitale Hochtechnologie Bremen (Italy)\", \"Orbitale Hochtechnologie Bremen (Italy)\", \"Orbitale Hochtechnologie Bremen (Italy)\", \"Orbitale Hochtechnologie Bremen (Italy)\", \"Orbitale Hochtechnologie Bremen (Italy)\", \"Orbitale Hochtechnologie Bremen (Italy)\", \"Orbitale Hochtechnologie Bremen (Italy)\", \"Orbitale Hochtechnologie Bremen (Italy)\", \"Orbitale Hochtechnologie Bremen (Italy)\", \"Orbitale Hochtechnologie Bremen (Italy)\", \"Orbitale Hochtechnologie Bremen (Italy)\", \"Orbitale Hochtechnologie Bremen (Italy)\", \"Orbitale Hochtechnologie Bremen (Italy)\", \"Orbitale Hochtechnologie Bremen (Italy)\", \"Orbitale Hochtechnologie Bremen (Italy)\", \"Telecom Italia (Italy)\", \"Orbitale Hochtechnologie Bremen (Italy)\", \"Orbitale Hochtechnologie Bremen (Italy)\", \"Orbitale Hochtechnologie Bremen (Italy)\", \"Telecom Italia (Italy)\", \"Telecom Italia (Italy)\", \"Selex ES (Italy)\", \"Telecom Italia (Italy)\", \"Telecom Italia (Italy)\", \"Telecom Italia (Italy)\", \"Telecom Italia (Italy)\", \"Telecom Italia (Italy)\", \"Telecom Italia (Italy)\", \"Telecom Italia (Italy)\", \"Telecom Italia (Italy)\", \"STMicroelectronics (Italy)\", \"Finmeccanica (Italy)\", \"Finmeccanica (Italy)\", \"Selex ES (Italy)\", \"Finmeccanica (Italy)\", \"Finmeccanica (Italy)\", \"Finmeccanica (Italy)\", \"Finmeccanica (Italy)\", \"Eni (Italy)\", \"Eni (Italy)\", \"Eni (Italy)\", \"Finmeccanica (Italy)\", \"Eni (Italy)\", \"Eni (Italy)\", \"Eni (Italy)\", \"Finmeccanica (Italy)\", \"Chiesi Farmaceutici (Italy)\", \"STMicroelectronics (Italy)\", \"STMicroelectronics (Italy)\", \"STMicroelectronics (Italy)\", \"STMicroelectronics (Italy)\", \"STMicroelectronics (Italy)\", \"Engineering (Italy)\", \"Engineering (Italy)\", \"Nexture Consulting\", \"Innovation Engineering (Italy)\", \"Engineering (Italy)\", \"Deep Blue (Italy)\", \"Deep Blue (Italy)\", \"Fiat Chrysler Automobiles (Italy)\", \"STMicroelectronics (Italy)\", \"STMicroelectronics (Italy)\", \"STMicroelectronics (Italy)\", \"STMicroelectronics (Italy)\", \"STMicroelectronics (Italy)\", \"Novartis (Italy)\", \"GlaxoSmithKline (Italy)\", \"Novartis (Italy)\", \"GlaxoSmithKline (Italy)\", \"Novartis (Italy)\", \"Novartis (Italy)\", \"Novartis (Italy)\", \"GlaxoSmithKline (Italy)\", \"Novartis (Italy)\", \"GlaxoSmithKline (Italy)\", \"Novartis (Italy)\", \"GlaxoSmithKline (Italy)\", \"Novartis (Italy)\", \"GlaxoSmithKline (Italy)\", \"Novartis (Italy)\", \"GlaxoSmithKline (Italy)\", \"Novartis (Italy)\", \"GlaxoSmithKline (Italy)\", \"Novartis (Italy)\", \"GlaxoSmithKline (Italy)\", \"Novartis (Italy)\", \"GlaxoSmithKline (Italy)\", \"Novartis (Italy)\", \"GlaxoSmithKline (Italy)\", \"Novartis (Italy)\", \"GlaxoSmithKline (Italy)\", \"Novartis (Italy)\", \"Novartis (Italy)\", \"GlaxoSmithKline (Italy)\", \"Novartis (Italy)\", \"GlaxoSmithKline (Italy)\", \"Novartis (Italy)\", \"GlaxoSmithKline (Italy)\", \"Novartis (Italy)\", \"GlaxoSmithKline (Italy)\", \"Novartis (Italy)\", \"GlaxoSmithKline (Italy)\", \"Novartis (Italy)\", \"GlaxoSmithKline (Italy)\", \"Novartis (Italy)\", \"GlaxoSmithKline (Italy)\", \"Novartis (Italy)\", \"Novartis (Italy)\", \"Novartis (Italy)\", \"Novartis (Italy)\", \"Novartis (Italy)\", \"SELEX Sistemi Integrati\", \"Italtel (Italy)\", \"Centro Sviluppo Materiali (Italy)\", \"Aeiforia (Italy)\", \"CSP Innovazione nelle ICT (Italy)\", \"CSP Innovazione nelle ICT (Italy)\", \"Thales Alenia Space (Italy)\", \"Thales Alenia Space (Italy)\", \"Thales Alenia Space (Italy)\", \"Thales Alenia Space (Italy)\", \"Deep Blue (Italy)\", \"Thales Alenia Space (Italy)\", \"Deep Blue (Italy)\", \"Deep Blue (Italy)\", \"Deep Blue (Italy)\", \"Thales Alenia Space (Italy)\", \"Thales Alenia Space (Italy)\", \"Deep Blue (Italy)\", \"Deep Blue (Italy)\", \"Thales Alenia Space (Italy)\", \"Centro Elettrotecnico Sperimentale Italiano (Italy)\", \"Centro Elettrotecnico Sperimentale Italiano (Italy)\", \"Pirelli (Italy)\", \"Pirelli (Italy)\", \"Pirelli (Italy)\", \"Pirelli (Italy)\", \"General Electric (Italy)\", \"General Electric (Italy)\", \"Innovation Engineering (Italy)\", \"Fiat Chrysler Automobiles (Italy)\", \"Fiat Chrysler Automobiles (Italy)\", \"Fiat Chrysler Automobiles (Italy)\", \"Planetek Italia\", \"Research and Environmental Devices (Italy)\", \"Research and Environmental Devices (Italy)\", \"Laviosa Minerals (Italy)\", \"Siemens (Italy)\", \"Siemens (Italy)\", \"Siemens (Italy)\", \"SOFCpower (Italy)\", \"SOFCpower (Italy)\", \"Veneto Nanotech (Italy)\", \"Trento RISE (Italy)\", \"Trento RISE (Italy)\", \"Trento RISE (Italy)\", \"Advanced Laboratory On Embedded Systems (Italy)\", \"Advanced Laboratory On Embedded Systems (Italy)\", \"Advanced Laboratory On Embedded Systems (Italy)\", \"Advanced Laboratory On Embedded Systems (Italy)\", \"Advanced Laboratory On Embedded Systems (Italy)\", \"Agilent Technologies (Italy)\", \"Carlo Gavazzi (Italy)\", \"Carlo Gavazzi (Italy)\", \"Agilent Technologies (Italy)\", \"Flame Spray (Italy)\", \"Evidence (Italy)\", \"Giotto Biotech (Italy)\", \"Zanardi Fonderie (Italy)\", \"Zanardi Fonderie (Italy)\", \"IBM (Italy)\", \"De Agostini (Italy)\", \"Accenture (Italy)\", \"Accenture (Italy)\", \"Accenture (Italy)\", \"Poste italiane (Italy)\", \"U-Hopper (Italy)\", \"U-Hopper (Italy)\", \"U-Hopper (Italy)\", \"U-Hopper (Italy)\", \"Trentino Network (Italy)\", \"Trentino Network (Italy)\", \"U-Hopper (Italy)\", \"U-Hopper (Italy)\", \"Centro Agricoltura Ambiente (Italy)\", \"Brembo (Italy)\", \"Brembo (Italy)\", \"Brembo (Italy)\", \"Brembo (Italy)\", \"Brembo (Italy)\", \"Brembo (Italy)\", \"Brembo (Italy)\", \"Brembo (Italy)\", \"Orthofix (Italy)\"], \"xaxis\": \"x\", \"yaxis\": \"y\"}, {\"alignmentgroup\": \"True\", \"bingroup\": \"x\", \"hoverlabel\": {\"namelength\": 0}, \"hovertemplate\": \"aff_country=Germany<br>aff_name=%{x}<br>count=%{y}\", \"legendgroup\": \"Germany\", \"marker\": {\"color\": \"rgb(213,62,79)\"}, \"name\": \"Germany\", \"offsetgroup\": \"Germany\", \"orientation\": \"v\", \"showlegend\": true, \"type\": \"histogram\", \"x\": [\"Airbus (Germany)\", \"Airbus (Germany)\", \"Airbus (Germany)\", \"Airbus (Germany)\", \"Airbus (Germany)\", \"Airbus (Germany)\", \"Robert Bosch (Germany)\", \"Robert Bosch (Germany)\", \"Robert Bosch (Germany)\", \"Airbus (Germany)\", \"Airbus (Germany)\", \"Airbus (Germany)\", \"Airbus (Germany)\", \"Airbus (Germany)\", \"Airbus (Germany)\", \"Merck (Germany)\", \"Airbus (Germany)\", \"Airbus (Germany)\", \"Airbus (Germany)\", \"Airbus (Germany)\", \"Airbus (Germany)\", \"Airbus (Germany)\", \"Airbus (Germany)\", \"Airbus (Germany)\", \"Airbus (Germany)\", \"Airbus (Germany)\", \"Airbus (Germany)\", \"Airbus (Germany)\", \"Airbus (Germany)\", \"Airbus (Germany)\", \"Airbus (Germany)\", \"Airbus (Germany)\", \"Airbus (Germany)\", \"Airbus (Germany)\", \"Airbus (Germany)\", \"Airbus (Germany)\", \"Airbus (Germany)\", \"Airbus (Germany)\", \"Airbus (Germany)\", \"Airbus (Germany)\", \"Airbus (Germany)\", \"Airbus (Germany)\", \"Airbus (Germany)\", \"Airbus (Germany)\", \"Airbus (Germany)\", \"Airbus (Germany)\", \"Airbus (Germany)\", \"Airbus (Germany)\", \"Airbus (Germany)\", \"Airbus (Germany)\", \"Airbus (Germany)\", \"Robert Bosch (Germany)\", \"Robert Bosch (Germany)\", \"Siemens (Germany)\", \"Siemens (Germany)\", \"Siemens (Germany)\", \"Siemens (Germany)\", \"Airbus (Germany)\", \"Airbus (Germany)\", \"Systems Applications & Products in Data Processing (Germany)\", \"BMW (Germany)\", \"BASF (Germany)\", \"Robert Bosch (Germany)\", \"Airbus (Germany)\", \"Airbus (Germany)\", \"Airbus (Germany)\", \"Airbus (Germany)\", \"Airbus (Germany)\", \"Airbus (Germany)\", \"Airbus (Germany)\", \"Airbus (Germany)\", \"Systems Applications & Products in Data Processing (Germany)\", \"Ford (Germany)\", \"Systems Applications & Products in Data Processing (Germany)\", \"Systems Applications & Products in Data Processing (Germany)\", \"Systems Applications & Products in Data Processing (Germany)\", \"Systems Applications & Products in Data Processing (Germany)\", \"Systems Applications & Products in Data Processing (Germany)\", \"Systems Applications & Products in Data Processing (Germany)\", \"Systems Applications & Products in Data Processing (Germany)\", \"Systems Applications & Products in Data Processing (Germany)\", \"Systems Applications & Products in Data Processing (Germany)\", \"Systems Applications & Products in Data Processing (Germany)\", \"Systems Applications & Products in Data Processing (Germany)\", \"Systems Applications & Products in Data Processing (Germany)\", \"Systems Applications & Products in Data Processing (Germany)\", \"Systems Applications & Products in Data Processing (Germany)\", \"Systems Applications & Products in Data Processing (Germany)\", \"Systems Applications & Products in Data Processing (Germany)\", \"Airbus (Germany)\", \"Airbus (Germany)\", \"Airbus (Germany)\", \"Airbus (Germany)\", \"Airbus (Germany)\", \"Airbus (Germany)\", \"Airbus (Germany)\", \"Airbus (Germany)\", \"Airbus (Germany)\", \"Airbus (Germany)\", \"Airbus (Germany)\", \"Nokia (Germany)\", \"RISA Sicherheitsanalysen\", \"RISA Sicherheitsanalysen\", \"RISA Sicherheitsanalysen\", \"3M (Germany)\", \"Ribocon (Germany)\", \"AMO (Germany)\", \"NEC (Germany)\", \"NEC (Germany)\", \"Daiichi Sankyo (Germany)\"], \"xaxis\": \"x\", \"yaxis\": \"y\"}, {\"alignmentgroup\": \"True\", \"bingroup\": \"x\", \"hoverlabel\": {\"namelength\": 0}, \"hovertemplate\": \"aff_country=United Kingdom<br>aff_name=%{x}<br>count=%{y}\", \"legendgroup\": \"United Kingdom\", \"marker\": {\"color\": \"rgb(244,109,67)\"}, \"name\": \"United Kingdom\", \"offsetgroup\": \"United Kingdom\", \"orientation\": \"v\", \"showlegend\": true, \"type\": \"histogram\", \"x\": [\"Airbus (United Kingdom)\", \"Airbus (United Kingdom)\", \"Airbus (United Kingdom)\", \"Airbus (United Kingdom)\", \"Airbus (United Kingdom)\", \"GlaxoSmithKline (United Kingdom)\", \"GlaxoSmithKline (United Kingdom)\", \"GlaxoSmithKline (United Kingdom)\", \"GlaxoSmithKline (United Kingdom)\", \"GlaxoSmithKline (United Kingdom)\", \"Airbus (United Kingdom)\", \"Airbus (United Kingdom)\", \"Airbus (United Kingdom)\", \"Airbus (United Kingdom)\", \"Toshiba (United Kingdom)\", \"Ixico (United Kingdom)\", \"Airbus (United Kingdom)\", \"Airbus (United Kingdom)\", \"Airbus (United Kingdom)\", \"Airbus (United Kingdom)\", \"Airbus (United Kingdom)\", \"Airbus (United Kingdom)\", \"Airbus (United Kingdom)\", \"Airbus (United Kingdom)\", \"Airbus (United Kingdom)\", \"Airbus (United Kingdom)\", \"Airbus (United Kingdom)\", \"Airbus (United Kingdom)\", \"Airbus (United Kingdom)\", \"Airbus (United Kingdom)\", \"Airbus (United Kingdom)\", \"Airbus (United Kingdom)\", \"Airbus (United Kingdom)\", \"Airbus (United Kingdom)\", \"Airbus (United Kingdom)\", \"Airbus (United Kingdom)\", \"Airbus (United Kingdom)\", \"Airbus (United Kingdom)\", \"Rolls-Royce (United Kingdom)\", \"GlaxoSmithKline (United Kingdom)\", \"GlaxoSmithKline (United Kingdom)\", \"Airbus (United Kingdom)\", \"Airbus (United Kingdom)\", \"Microsoft Research (United Kingdom)\", \"Microsoft Research (United Kingdom)\", \"Microsoft Research (United Kingdom)\", \"Microsoft Research (United Kingdom)\", \"Airbus (United Kingdom)\", \"Unilever (United Kingdom)\", \"Unilever (United Kingdom)\", \"GlaxoSmithKline (United Kingdom)\", \"Unilever (United Kingdom)\", \"BT Group (United Kingdom)\", \"Unilever (United Kingdom)\", \"Airbus (United Kingdom)\", \"Airbus (United Kingdom)\", \"Applied Graphene Materials (United Kingdom)\", \"Applied Graphene Materials (United Kingdom)\", \"Campden BRI (United Kingdom)\", \"National Grid (United Kingdom)\", \"National Grid (United Kingdom)\", \"Microsoft Research (United Kingdom)\", \"Microsoft Research (United Kingdom)\", \"Accelrys (United Kingdom)\", \"Geotechnical Observations (United Kingdom)\", \"Geotechnical Observations (United Kingdom)\", \"STMicroelectronics (United Kingdom)\", \"MJC2 (United Kingdom)\", \"BioSyntha Technology (United Kingdom)\", \"Nanoforce Technology (United Kingdom)\", \"Nanoforce Technology (United Kingdom)\", \"Nanoforce Technology (United Kingdom)\", \"Nanoforce Technology (United Kingdom)\", \"Nanoforce Technology (United Kingdom)\", \"Nanoforce Technology (United Kingdom)\", \"Edinburgh Instruments (United Kingdom)\", \"Edinburgh Instruments (United Kingdom)\", \"Edinburgh Instruments (United Kingdom)\", \"Cambridge Cognition (United Kingdom)\", \"Cambridge Cognition (United Kingdom)\", \"Cambridge Cognition (United Kingdom)\", \"Cambridge Cognition (United Kingdom)\", \"Cambridge Cognition (United Kingdom)\", \"Cambridge Cognition (United Kingdom)\"], \"xaxis\": \"x\", \"yaxis\": \"y\"}, {\"alignmentgroup\": \"True\", \"bingroup\": \"x\", \"hoverlabel\": {\"namelength\": 0}, \"hovertemplate\": \"aff_country=Spain<br>aff_name=%{x}<br>count=%{y}\", \"legendgroup\": \"Spain\", \"marker\": {\"color\": \"rgb(253,174,97)\"}, \"name\": \"Spain\", \"offsetgroup\": \"Spain\", \"orientation\": \"v\", \"showlegend\": true, \"type\": \"histogram\", \"x\": [\"Telefonica Research and Development\", \"Telefonica Research and Development\", \"Telefonica Research and Development\", \"Yahoo (Spain)\", \"Yahoo (Spain)\", \"Yahoo (Spain)\", \"Yahoo (Spain)\", \"Yahoo (Spain)\", \"Telefonica Research and Development\", \"Telefonica Research and Development\", \"Telefonica Research and Development\", \"Telefonica Research and Development\", \"Atos (Spain)\", \"Bizkaia Technology Park\", \"ALBA Synchrotron (Spain)\", \"ALBA Synchrotron (Spain)\", \"GMV Innovating Solutions (Spain)\", \"GMV Innovating Solutions (Spain)\", \"Ikerlan\", \"Ikerlan\", \"Ikerlan\", \"Ikerlan\", \"Yahoo (Spain)\", \"Yahoo (Spain)\", \"Yahoo (Spain)\", \"Yahoo (Spain)\", \"Yahoo (Spain)\", \"Yahoo (Spain)\", \"Yahoo (Spain)\", \"Yahoo (Spain)\", \"Isofoton (Spain)\"], \"xaxis\": \"x\", \"yaxis\": \"y\"}, {\"alignmentgroup\": \"True\", \"bingroup\": \"x\", \"hoverlabel\": {\"namelength\": 0}, \"hovertemplate\": \"aff_country=Japan<br>aff_name=%{x}<br>count=%{y}\", \"legendgroup\": \"Japan\", \"marker\": {\"color\": \"rgb(254,224,139)\"}, \"name\": \"Japan\", \"offsetgroup\": \"Japan\", \"orientation\": \"v\", \"showlegend\": true, \"type\": \"histogram\", \"x\": [\"Takeda (Japan)\", \"Takeda (Japan)\", \"Takeda (Japan)\", \"Nippon Telegraph and Telephone (Japan)\", \"Nippon Telegraph and Telephone (Japan)\", \"Nippon Telegraph and Telephone (Japan)\", \"Hitachi (Japan)\", \"Hitachi (Japan)\", \"Fujitsu (Japan)\", \"Fujitsu (Japan)\", \"Fujitsu (Japan)\", \"Fujitsu (Japan)\", \"Fujitsu (Japan)\", \"Fujitsu (Japan)\", \"Nippon Telegraph and Telephone (Japan)\", \"Nippon Telegraph and Telephone (Japan)\", \"Nippon Telegraph and Telephone (Japan)\", \"Nippon Telegraph and Telephone (Japan)\", \"Nippon Telegraph and Telephone (Japan)\", \"Nippon Telegraph and Telephone (Japan)\", \"Toray (Japan)\"], \"xaxis\": \"x\", \"yaxis\": \"y\"}, {\"alignmentgroup\": \"True\", \"bingroup\": \"x\", \"hoverlabel\": {\"namelength\": 0}, \"hovertemplate\": \"aff_country=United States<br>aff_name=%{x}<br>count=%{y}\", \"legendgroup\": \"United States\", \"marker\": {\"color\": \"rgb(255,255,191)\"}, \"name\": \"United States\", \"offsetgroup\": \"United States\", \"orientation\": \"v\", \"showlegend\": true, \"type\": \"histogram\", \"x\": [\"Sanofi (United States)\", \"Sanofi (United States)\", \"Novartis (United States)\", \"Novartis (United States)\", \"Advanced Bioscience Laboratories (United States)\", \"Leidos (United States)\", \"Leidos (United States)\", \"Leidos (United States)\", \"Leidos (United States)\", \"Amgen (United States)\", \"Roche (United States)\", \"Human Longevity (United States)\", \"Ginkgo BioWorks (United States)\", \"Roche (United States)\", \"Roche (United States)\", \"MSD (United States)\", \"Roche (United States)\", \"Roche (United States)\", \"Sangamo BioSciences (United States)\", \"AstraZeneca (United States)\", \"Applied Genetic Technologies\", \"Roche (United States)\", \"Roche (United States)\", \"Pfizer (United States)\", \"Pfizer (United States)\", \"Pfizer (United States)\", \"Pfizer (United States)\", \"Human Longevity (United States)\", \"Eli Lilly (United States)\", \"Takeda (United States)\", \"Boehringer Ingelheim (United States)\", \"BioClinica (United States)\", \"Eli Lilly (United States)\", \"Janssen (United States)\", \"Novartis (United States)\", \"Novartis (United States)\", \"Pfizer (United States)\", \"Pfizer (United States)\", \"General Motors (United States)\", \"Hewlett-Packard (United States)\", \"Hewlett-Packard (United States)\", \"Google (United States)\", \"AT&T (United States)\", \"Microsoft (United States)\", \"Microsoft (United States)\", \"Hewlett-Packard (United States)\", \"Microsoft (United States)\", \"Intel (United States)\", \"Intel (United States)\", \"Microsoft (United States)\", \"Microsoft (United States)\", \"Hewlett-Packard (United States)\", \"Microsoft (United States)\", \"Microsoft (United States)\", \"Hewlett-Packard (United States)\", \"Microsoft (United States)\", \"Intel (United States)\", \"Intel (United States)\", \"Hewlett-Packard (United States)\", \"Intel (United States)\", \"Microsoft (United States)\", \"Microsoft (United States)\", \"Microsoft (United States)\", \"Microsoft (United States)\", \"Roche (United States)\", \"Intel (United States)\", \"Intel (United States)\", \"Intel (United States)\", \"Intel (United States)\", \"Microsoft (United States)\", \"Hewlett-Packard (United States)\", \"Ford Motor Company (United States)\", \"Hewlett-Packard (United States)\", \"Hewlett-Packard (United States)\", \"Microsoft (United States)\", \"Eli Lilly (United States)\", \"Eli Lilly (United States)\", \"Ford Motor Company (United States)\", \"Hewlett-Packard (United States)\", \"Microsoft (United States)\", \"Hewlett-Packard (United States)\", \"Hewlett-Packard (United States)\", \"Microsoft (United States)\", \"Ford Motor Company (United States)\", \"Ford Motor Company (United States)\", \"Microsoft (United States)\", \"Google (United States)\", \"Microsoft (United States)\", \"Pfizer (United States)\", \"Yahoo (United States)\", \"Microsoft (United States)\", \"Microsoft (United States)\", \"Microsoft (United States)\", \"AT&T (United States)\", \"AT&T (United States)\", \"Microsoft (United States)\", \"Microsoft (United States)\", \"Microsoft (United States)\", \"Microsoft (United States)\", \"Microsoft (United States)\", \"Microsoft (United States)\", \"AT&T (United States)\", \"Microsoft (United States)\", \"Microsoft (United States)\", \"AT&T (United States)\", \"Yahoo (United States)\", \"AT&T (United States)\", \"Microsoft (United States)\", \"NetApp (United States)\", \"Microsoft (United States)\", \"Google (United States)\", \"Google (United States)\", \"Microsoft (United States)\", \"IBM Research - Almaden\", \"Microsoft (United States)\", \"Hewlett-Packard (United States)\", \"Yahoo (United States)\", \"AT&T (United States)\", \"NetApp (United States)\", \"NetApp (United States)\", \"NetApp (United States)\", \"Hewlett-Packard (United States)\", \"NetApp (United States)\", \"NetApp (United States)\", \"AT&T (United States)\", \"Yahoo (United States)\", \"Microsoft (United States)\", \"Google (United States)\", \"IBM (United States)\", \"Hewlett-Packard (United States)\", \"Mitre (United States)\", \"Advanced Process Combinatorics (United States)\", \"Hewlett-Packard (United States)\", \"Hewlett-Packard (United States)\", \"Hewlett-Packard (United States)\", \"Hewlett-Packard (United States)\", \"Microsoft (United States)\", \"AT&T (United States)\", \"Texas Instruments (United States)\", \"Texas Instruments (United States)\", \"Facebook (United States)\", \"Facebook (United States)\", \"AT&T (United States)\", \"AT&T (United States)\", \"Texas Instruments (United States)\", \"Nissan (United States)\", \"Owens Corning (United States)\", \"Synopsys (United States)\", \"AT&T (United States)\", \"AT&T (United States)\", \"AT&T (United States)\", \"AT&T (United States)\", \"AT&T (United States)\", \"AT&T (United States)\", \"AT&T (United States)\", \"AT&T (United States)\", \"Amazon (United States)\", \"Ecolab (United States)\", \"Ecolab (United States)\", \"Caesars Entertainment (United States)\", \"Ionis Pharmaceuticals (United States)\", \"Hologic Gen-Probe Incorporated (United States)\", \"Hologic Gen-Probe Incorporated (United States)\", \"Quest Diagnostics (United States)\", \"Quest Diagnostics (United States)\", \"Quest Diagnostics (United States)\", \"Mitre (United States)\", \"Mitre (United States)\", \"AiCure (United States)\", \"Analytical Imaging and Geophysics (United States)\", \"Global Science & Technology (United States)\", \"PPG Industries (United States)\", \"PPG Industries (United States)\", \"Datacorp (United States)\", \"Accuray (United States)\", \"Arcon (United States)\", \"NetApp (United States)\", \"NetApp (United States)\", \"IBM Research - Almaden\", \"IBM Research - Almaden\", \"IBM Research - Almaden\", \"IBM Research - Almaden\", \"Cloudera (United States)\", \"Akamai (United States)\", \"FM Global (United States)\", \"Magnetic Resonance Innovations (United States)\", \"Magnetic Resonance Innovations (United States)\"], \"xaxis\": \"x\", \"yaxis\": \"y\"}, {\"alignmentgroup\": \"True\", \"bingroup\": \"x\", \"hoverlabel\": {\"namelength\": 0}, \"hovertemplate\": \"aff_country=Ireland<br>aff_name=%{x}<br>count=%{y}\", \"legendgroup\": \"Ireland\", \"marker\": {\"color\": \"rgb(230,245,152)\"}, \"name\": \"Ireland\", \"offsetgroup\": \"Ireland\", \"orientation\": \"v\", \"showlegend\": true, \"type\": \"histogram\", \"x\": [\"IBM (Ireland)\", \"IBM (Ireland)\", \"IBM (Ireland)\", \"IBM (Ireland)\", \"IBM (Ireland)\", \"IBM (Ireland)\", \"IBM (Ireland)\", \"IBM (Ireland)\", \"AquaTT (Ireland)\", \"IBM Research - Ireland\", \"IBM Research - Ireland\"], \"xaxis\": \"x\", \"yaxis\": \"y\"}, {\"alignmentgroup\": \"True\", \"bingroup\": \"x\", \"hoverlabel\": {\"namelength\": 0}, \"hovertemplate\": \"aff_country=France<br>aff_name=%{x}<br>count=%{y}\", \"legendgroup\": \"France\", \"marker\": {\"color\": \"rgb(171,221,164)\"}, \"name\": \"France\", \"offsetgroup\": \"France\", \"orientation\": \"v\", \"showlegend\": true, \"type\": \"histogram\", \"x\": [\"Orange (France)\", \"Orange (France)\", \"Electricit\\u00e9 de France (France)\", \"Thales Group (France)\", \"Thales Group (France)\", \"Thales Group (France)\", \"Thales Group (France)\", \"Atos (France)\", \"Thales Group (France)\", \"Thales Group (France)\", \"Thales Group (France)\", \"Thales Group (France)\", \"Thales Group (France)\", \"Thales Group (France)\", \"Thales Group (France)\", \"Thales Group (France)\", \"Thales Group (France)\", \"Danone (France)\", \"Danone (France)\", \"Danone (France)\", \"IBM (France)\", \"Veolia (France)\", \"Veolia (France)\", \"Ion Beam Services (France)\", \"Akka Technologies (France)\", \"Memscap (France)\", \"Xerox (France)\", \"Memscap (France)\", \"Capital Fund Management (France)\", \"Memscap (France)\"], \"xaxis\": \"x\", \"yaxis\": \"y\"}, {\"alignmentgroup\": \"True\", \"bingroup\": \"x\", \"hoverlabel\": {\"namelength\": 0}, \"hovertemplate\": \"aff_country=India<br>aff_name=%{x}<br>count=%{y}\", \"legendgroup\": \"India\", \"marker\": {\"color\": \"rgb(102,194,165)\"}, \"name\": \"India\", \"offsetgroup\": \"India\", \"orientation\": \"v\", \"showlegend\": true, \"type\": \"histogram\", \"x\": [\"Venus Remedies (India)\", \"IBM (India)\", \"Samsung (India)\", \"Tata Elxsi (India)\", \"IBM Research - India\", \"IBM Research - India\", \"IBM Research - India\"], \"xaxis\": \"x\", \"yaxis\": \"y\"}, {\"alignmentgroup\": \"True\", \"bingroup\": \"x\", \"hoverlabel\": {\"namelength\": 0}, \"hovertemplate\": \"aff_country=South Korea<br>aff_name=%{x}<br>count=%{y}\", \"legendgroup\": \"South Korea\", \"marker\": {\"color\": \"rgb(50,136,189)\"}, \"name\": \"South Korea\", \"offsetgroup\": \"South Korea\", \"orientation\": \"v\", \"showlegend\": true, \"type\": \"histogram\", \"x\": [\"Amorepacific (South Korea)\"], \"xaxis\": \"x\", \"yaxis\": \"y\"}, {\"alignmentgroup\": \"True\", \"bingroup\": \"x\", \"hoverlabel\": {\"namelength\": 0}, \"hovertemplate\": \"aff_country=Netherlands<br>aff_name=%{x}<br>count=%{y}\", \"legendgroup\": \"Netherlands\", \"marker\": {\"color\": \"rgb(94,79,162)\"}, \"name\": \"Netherlands\", \"offsetgroup\": \"Netherlands\", \"orientation\": \"v\", \"showlegend\": true, \"type\": \"histogram\", \"x\": [\"Philips (Netherlands)\", \"Philips (Netherlands)\", \"Philips (Netherlands)\", \"NXP (Netherlands)\", \"LioniX (Netherlands)\", \"LioniX (Netherlands)\", \"LioniX (Netherlands)\", \"LioniX (Netherlands)\", \"LioniX (Netherlands)\", \"LioniX (Netherlands)\", \"PhoeniX Software (Netherlands)\", \"Sylics (Netherlands)\", \"Thermo Fisher Scientific (Netherlands)\", \"Holst Centre (Netherlands)\", \"Holst Centre (Netherlands)\", \"Holst Centre (Netherlands)\", \"Thermo Fisher Scientific (Netherlands)\", \"Holst Centre (Netherlands)\", \"Holst Centre (Netherlands)\", \"Holst Centre (Netherlands)\"], \"xaxis\": \"x\", \"yaxis\": \"y\"}, {\"alignmentgroup\": \"True\", \"bingroup\": \"x\", \"hoverlabel\": {\"namelength\": 0}, \"hovertemplate\": \"aff_country=Finland<br>aff_name=%{x}<br>count=%{y}\", \"legendgroup\": \"Finland\", \"marker\": {\"color\": \"rgb(158,1,66)\"}, \"name\": \"Finland\", \"offsetgroup\": \"Finland\", \"orientation\": \"v\", \"showlegend\": true, \"type\": \"histogram\", \"x\": [\"Nokia (Finland)\", \"Nokia (Finland)\", \"Nokia (Finland)\", \"Nokia (Finland)\", \"Stresstech Group (Finland)\"], \"xaxis\": \"x\", \"yaxis\": \"y\"}, {\"alignmentgroup\": \"True\", \"bingroup\": \"x\", \"hoverlabel\": {\"namelength\": 0}, \"hovertemplate\": \"aff_country=China<br>aff_name=%{x}<br>count=%{y}\", \"legendgroup\": \"China\", \"marker\": {\"color\": \"rgb(213,62,79)\"}, \"name\": \"China\", \"offsetgroup\": \"China\", \"orientation\": \"v\", \"showlegend\": true, \"type\": \"histogram\", \"x\": [\"Microsoft Research Asia (China)\", \"Microsoft Research Asia (China)\", \"Microsoft Research Asia (China)\", \"Huawei Technologies (China)\", \"Huawei Technologies (China)\", \"Huawei Technologies (China)\", \"Microsoft Research Asia (China)\", \"Microsoft Research Asia (China)\", \"Microsoft Research Asia (China)\"], \"xaxis\": \"x\", \"yaxis\": \"y\"}, {\"alignmentgroup\": \"True\", \"bingroup\": \"x\", \"hoverlabel\": {\"namelength\": 0}, \"hovertemplate\": \"aff_country=Switzerland<br>aff_name=%{x}<br>count=%{y}\", \"legendgroup\": \"Switzerland\", \"marker\": {\"color\": \"rgb(244,109,67)\"}, \"name\": \"Switzerland\", \"offsetgroup\": \"Switzerland\", \"orientation\": \"v\", \"showlegend\": true, \"type\": \"histogram\", \"x\": [\"IBM Research - Zurich\", \"IBM Research - Zurich\", \"IBM Research - Zurich\", \"IBM Research - Zurich\", \"IBM Research - Zurich\", \"IBM Research - Zurich\", \"Nestl\\u00e9 (Switzerland)\", \"Nestl\\u00e9 (Switzerland)\", \"Nestl\\u00e9 (Switzerland)\", \"Nestl\\u00e9 (Switzerland)\", \"Nestl\\u00e9 (Switzerland)\", \"Nestl\\u00e9 (Switzerland)\", \"Nestl\\u00e9 (Switzerland)\", \"Nestl\\u00e9 (Switzerland)\", \"Nestl\\u00e9 (Switzerland)\", \"Nestl\\u00e9 (Switzerland)\", \"Nestl\\u00e9 (Switzerland)\", \"Nestl\\u00e9 (Switzerland)\", \"Nestl\\u00e9 (Switzerland)\", \"Swiss Center for Electronics and Microtechnology (Switzerland)\", \"Gamma Remote Sensing\", \"Gamma Remote Sensing\", \"Gamma Remote Sensing\", \"Gamma Remote Sensing\", \"Smartec (Switzerland)\", \"Smartec (Switzerland)\", \"Smartec (Switzerland)\", \"Smartec (Switzerland)\", \"Smartec (Switzerland)\", \"Smartec (Switzerland)\", \"Smartec (Switzerland)\", \"Smartec (Switzerland)\", \"Smartec (Switzerland)\", \"Smartec (Switzerland)\", \"Smartec (Switzerland)\", \"Smartec (Switzerland)\", \"Smartec (Switzerland)\", \"Google (Switzerland)\", \"Google (Switzerland)\", \"Google (Switzerland)\", \"Google (Switzerland)\", \"Google (Switzerland)\"], \"xaxis\": \"x\", \"yaxis\": \"y\"}, {\"alignmentgroup\": \"True\", \"bingroup\": \"x\", \"hoverlabel\": {\"namelength\": 0}, \"hovertemplate\": \"aff_country=Norway<br>aff_name=%{x}<br>count=%{y}\", \"legendgroup\": \"Norway\", \"marker\": {\"color\": \"rgb(253,174,97)\"}, \"name\": \"Norway\", \"offsetgroup\": \"Norway\", \"orientation\": \"v\", \"showlegend\": true, \"type\": \"histogram\", \"x\": [\"Nofima\", \"Nofima\", \"Telenor (Norway)\", \"Telenor (Norway)\"], \"xaxis\": \"x\", \"yaxis\": \"y\"}, {\"alignmentgroup\": \"True\", \"bingroup\": \"x\", \"hoverlabel\": {\"namelength\": 0}, \"hovertemplate\": \"aff_country=Sweden<br>aff_name=%{x}<br>count=%{y}\", \"legendgroup\": \"Sweden\", \"marker\": {\"color\": \"rgb(254,224,139)\"}, \"name\": \"Sweden\", \"offsetgroup\": \"Sweden\", \"orientation\": \"v\", \"showlegend\": true, \"type\": \"histogram\", \"x\": [\"Volvo (Sweden)\", \"Volvo (Sweden)\", \"Volvo (Sweden)\", \"Volvo (Sweden)\", \"H\\u00f6gan\\u00e4s (Sweden)\", \"H\\u00f6gan\\u00e4s (Sweden)\", \"H\\u00f6gan\\u00e4s (Sweden)\"], \"xaxis\": \"x\", \"yaxis\": \"y\"}, {\"alignmentgroup\": \"True\", \"bingroup\": \"x\", \"hoverlabel\": {\"namelength\": 0}, \"hovertemplate\": \"aff_country=Greece<br>aff_name=%{x}<br>count=%{y}\", \"legendgroup\": \"Greece\", \"marker\": {\"color\": \"rgb(255,255,191)\"}, \"name\": \"Greece\", \"offsetgroup\": \"Greece\", \"orientation\": \"v\", \"showlegend\": true, \"type\": \"histogram\", \"x\": [\"Athens Technology Center (Greece)\", \"Athens Technology Center (Greece)\", \"Athens Technology Center (Greece)\", \"Advanced Microwave Systems (Greece)\", \"Advanced Microwave Systems (Greece)\", \"Advanced Microwave Systems (Greece)\", \"Advanced Microwave Systems (Greece)\"], \"xaxis\": \"x\", \"yaxis\": \"y\"}, {\"alignmentgroup\": \"True\", \"bingroup\": \"x\", \"hoverlabel\": {\"namelength\": 0}, \"hovertemplate\": \"aff_country=Israel<br>aff_name=%{x}<br>count=%{y}\", \"legendgroup\": \"Israel\", \"marker\": {\"color\": \"rgb(230,245,152)\"}, \"name\": \"Israel\", \"offsetgroup\": \"Israel\", \"orientation\": \"v\", \"showlegend\": true, \"type\": \"histogram\", \"x\": [\"IBM Research - Haifa\", \"IBM Research - Haifa\"], \"xaxis\": \"x\", \"yaxis\": \"y\"}, {\"alignmentgroup\": \"True\", \"bingroup\": \"x\", \"hoverlabel\": {\"namelength\": 0}, \"hovertemplate\": \"aff_country=Liechtenstein<br>aff_name=%{x}<br>count=%{y}\", \"legendgroup\": \"Liechtenstein\", \"marker\": {\"color\": \"rgb(171,221,164)\"}, \"name\": \"Liechtenstein\", \"offsetgroup\": \"Liechtenstein\", \"orientation\": \"v\", \"showlegend\": true, \"type\": \"histogram\", \"x\": [\"Ivoclar Vivadent (Liechtenstein)\"], \"xaxis\": \"x\", \"yaxis\": \"y\"}, {\"alignmentgroup\": \"True\", \"bingroup\": \"x\", \"hoverlabel\": {\"namelength\": 0}, \"hovertemplate\": \"aff_country=Belgium<br>aff_name=%{x}<br>count=%{y}\", \"legendgroup\": \"Belgium\", \"marker\": {\"color\": \"rgb(102,194,165)\"}, \"name\": \"Belgium\", \"offsetgroup\": \"Belgium\", \"orientation\": \"v\", \"showlegend\": true, \"type\": \"histogram\", \"x\": [\"Aquaplus (Belgium)\", \"Aquaplus (Belgium)\", \"Aquaplus (Belgium)\", \"Aquaplus (Belgium)\"], \"xaxis\": \"x\", \"yaxis\": \"y\"}, {\"alignmentgroup\": \"True\", \"bingroup\": \"x\", \"hoverlabel\": {\"namelength\": 0}, \"hovertemplate\": \"aff_country=Denmark<br>aff_name=%{x}<br>count=%{y}\", \"legendgroup\": \"Denmark\", \"marker\": {\"color\": \"rgb(50,136,189)\"}, \"name\": \"Denmark\", \"offsetgroup\": \"Denmark\", \"orientation\": \"v\", \"showlegend\": true, \"type\": \"histogram\", \"x\": [\"Instituttet for Produktudvikling (Denmark)\", \"Instituttet for Produktudvikling (Denmark)\", \"Instituttet for Produktudvikling (Denmark)\"], \"xaxis\": \"x\", \"yaxis\": \"y\"}, {\"alignmentgroup\": \"True\", \"bingroup\": \"x\", \"hoverlabel\": {\"namelength\": 0}, \"hovertemplate\": \"aff_country=Austria<br>aff_name=%{x}<br>count=%{y}\", \"legendgroup\": \"Austria\", \"marker\": {\"color\": \"rgb(94,79,162)\"}, \"name\": \"Austria\", \"offsetgroup\": \"Austria\", \"orientation\": \"v\", \"showlegend\": true, \"type\": \"histogram\", \"x\": [\"Siemens (Austria)\", \"Siemens (Austria)\", \"Vienna Consulting Engineers (Austria)\"], \"xaxis\": \"x\", \"yaxis\": \"y\"}, {\"alignmentgroup\": \"True\", \"bingroup\": \"x\", \"hoverlabel\": {\"namelength\": 0}, \"hovertemplate\": \"aff_country=Hungary<br>aff_name=%{x}<br>count=%{y}\", \"legendgroup\": \"Hungary\", \"marker\": {\"color\": \"rgb(158,1,66)\"}, \"name\": \"Hungary\", \"offsetgroup\": \"Hungary\", \"orientation\": \"v\", \"showlegend\": true, \"type\": \"histogram\", \"x\": [\"T\\u00c1RKI Social Research Institute\"], \"xaxis\": \"x\", \"yaxis\": \"y\"}, {\"alignmentgroup\": \"True\", \"bingroup\": \"x\", \"hoverlabel\": {\"namelength\": 0}, \"hovertemplate\": \"aff_country=Romania<br>aff_name=%{x}<br>count=%{y}\", \"legendgroup\": \"Romania\", \"marker\": {\"color\": \"rgb(213,62,79)\"}, \"name\": \"Romania\", \"offsetgroup\": \"Romania\", \"orientation\": \"v\", \"showlegend\": true, \"type\": \"histogram\", \"x\": [\"Sitex 45 (Romania)\", \"Sitex 45 (Romania)\", \"Sitex 45 (Romania)\"], \"xaxis\": \"x\", \"yaxis\": \"y\"}, {\"alignmentgroup\": \"True\", \"bingroup\": \"x\", \"hoverlabel\": {\"namelength\": 0}, \"hovertemplate\": \"aff_country=Russia<br>aff_name=%{x}<br>count=%{y}\", \"legendgroup\": \"Russia\", \"marker\": {\"color\": \"rgb(244,109,67)\"}, \"name\": \"Russia\", \"offsetgroup\": \"Russia\", \"orientation\": \"v\", \"showlegend\": true, \"type\": \"histogram\", \"x\": [\"Surface Phenomena Researches Group (Russia)\", \"Surface Phenomena Researches Group (Russia)\", \"Surface Phenomena Researches Group (Russia)\", \"Surface Phenomena Researches Group (Russia)\"], \"xaxis\": \"x\", \"yaxis\": \"y\"}, {\"alignmentgroup\": \"True\", \"bingroup\": \"x\", \"hoverlabel\": {\"namelength\": 0}, \"hovertemplate\": \"aff_country=Slovenia<br>aff_name=%{x}<br>count=%{y}\", \"legendgroup\": \"Slovenia\", \"marker\": {\"color\": \"rgb(253,174,97)\"}, \"name\": \"Slovenia\", \"offsetgroup\": \"Slovenia\", \"orientation\": \"v\", \"showlegend\": true, \"type\": \"histogram\", \"x\": [\"EN-FIST Centre of Excellence (Slovenia)\"], \"xaxis\": \"x\", \"yaxis\": \"y\"}, {\"alignmentgroup\": \"True\", \"bingroup\": \"x\", \"hoverlabel\": {\"namelength\": 0}, \"hovertemplate\": \"aff_country=Uganda<br>aff_name=%{x}<br>count=%{y}\", \"legendgroup\": \"Uganda\", \"marker\": {\"color\": \"rgb(254,224,139)\"}, \"name\": \"Uganda\", \"offsetgroup\": \"Uganda\", \"orientation\": \"v\", \"showlegend\": true, \"type\": \"histogram\", \"x\": [\"MTN (Uganda)\"], \"xaxis\": \"x\", \"yaxis\": \"y\"}, {\"alignmentgroup\": \"True\", \"bingroup\": \"x\", \"hoverlabel\": {\"namelength\": 0}, \"hovertemplate\": \"aff_country=Kenya<br>aff_name=%{x}<br>count=%{y}\", \"legendgroup\": \"Kenya\", \"marker\": {\"color\": \"rgb(255,255,191)\"}, \"name\": \"Kenya\", \"offsetgroup\": \"Kenya\", \"orientation\": \"v\", \"showlegend\": true, \"type\": \"histogram\", \"x\": [\"IBM Research \\u2013 Africa\", \"IBM Research \\u2013 Africa\", \"IBM Research \\u2013 Africa\"], \"xaxis\": \"x\", \"yaxis\": \"y\"}],\n",
       "                        {\"barmode\": \"relative\", \"height\": 900, \"legend\": {\"title\": {\"text\": \"aff_country\"}, \"tracegroupgap\": 0}, \"template\": {\"data\": {\"bar\": [{\"error_x\": {\"color\": \"#2a3f5f\"}, \"error_y\": {\"color\": \"#2a3f5f\"}, \"marker\": {\"line\": {\"color\": \"#E5ECF6\", \"width\": 0.5}}, \"type\": \"bar\"}], \"barpolar\": [{\"marker\": {\"line\": {\"color\": \"#E5ECF6\", \"width\": 0.5}}, \"type\": \"barpolar\"}], \"carpet\": [{\"aaxis\": {\"endlinecolor\": \"#2a3f5f\", \"gridcolor\": \"white\", \"linecolor\": \"white\", \"minorgridcolor\": \"white\", \"startlinecolor\": \"#2a3f5f\"}, \"baxis\": {\"endlinecolor\": \"#2a3f5f\", \"gridcolor\": \"white\", \"linecolor\": \"white\", \"minorgridcolor\": \"white\", \"startlinecolor\": \"#2a3f5f\"}, \"type\": \"carpet\"}], \"choropleth\": [{\"colorbar\": {\"outlinewidth\": 0, \"ticks\": \"\"}, \"type\": \"choropleth\"}], \"contour\": [{\"colorbar\": {\"outlinewidth\": 0, \"ticks\": \"\"}, \"colorscale\": [[0.0, \"#0d0887\"], [0.1111111111111111, \"#46039f\"], [0.2222222222222222, \"#7201a8\"], [0.3333333333333333, \"#9c179e\"], [0.4444444444444444, \"#bd3786\"], [0.5555555555555556, \"#d8576b\"], [0.6666666666666666, \"#ed7953\"], [0.7777777777777778, \"#fb9f3a\"], [0.8888888888888888, \"#fdca26\"], [1.0, \"#f0f921\"]], \"type\": \"contour\"}], \"contourcarpet\": [{\"colorbar\": {\"outlinewidth\": 0, \"ticks\": \"\"}, \"type\": \"contourcarpet\"}], \"heatmap\": [{\"colorbar\": {\"outlinewidth\": 0, \"ticks\": \"\"}, \"colorscale\": [[0.0, \"#0d0887\"], [0.1111111111111111, \"#46039f\"], [0.2222222222222222, \"#7201a8\"], [0.3333333333333333, \"#9c179e\"], [0.4444444444444444, \"#bd3786\"], [0.5555555555555556, \"#d8576b\"], [0.6666666666666666, \"#ed7953\"], [0.7777777777777778, \"#fb9f3a\"], [0.8888888888888888, \"#fdca26\"], [1.0, \"#f0f921\"]], \"type\": \"heatmap\"}], \"heatmapgl\": [{\"colorbar\": {\"outlinewidth\": 0, \"ticks\": \"\"}, \"colorscale\": [[0.0, \"#0d0887\"], [0.1111111111111111, \"#46039f\"], [0.2222222222222222, \"#7201a8\"], [0.3333333333333333, \"#9c179e\"], [0.4444444444444444, \"#bd3786\"], [0.5555555555555556, \"#d8576b\"], [0.6666666666666666, \"#ed7953\"], [0.7777777777777778, \"#fb9f3a\"], [0.8888888888888888, \"#fdca26\"], [1.0, \"#f0f921\"]], \"type\": \"heatmapgl\"}], \"histogram\": [{\"marker\": {\"colorbar\": {\"outlinewidth\": 0, \"ticks\": \"\"}}, \"type\": \"histogram\"}], \"histogram2d\": [{\"colorbar\": {\"outlinewidth\": 0, \"ticks\": \"\"}, \"colorscale\": [[0.0, \"#0d0887\"], [0.1111111111111111, \"#46039f\"], [0.2222222222222222, \"#7201a8\"], [0.3333333333333333, \"#9c179e\"], [0.4444444444444444, \"#bd3786\"], [0.5555555555555556, \"#d8576b\"], [0.6666666666666666, \"#ed7953\"], [0.7777777777777778, \"#fb9f3a\"], [0.8888888888888888, \"#fdca26\"], [1.0, \"#f0f921\"]], \"type\": \"histogram2d\"}], \"histogram2dcontour\": [{\"colorbar\": {\"outlinewidth\": 0, \"ticks\": \"\"}, \"colorscale\": [[0.0, \"#0d0887\"], [0.1111111111111111, \"#46039f\"], [0.2222222222222222, \"#7201a8\"], [0.3333333333333333, \"#9c179e\"], [0.4444444444444444, \"#bd3786\"], [0.5555555555555556, \"#d8576b\"], [0.6666666666666666, \"#ed7953\"], [0.7777777777777778, \"#fb9f3a\"], [0.8888888888888888, \"#fdca26\"], [1.0, \"#f0f921\"]], \"type\": \"histogram2dcontour\"}], \"mesh3d\": [{\"colorbar\": {\"outlinewidth\": 0, \"ticks\": \"\"}, \"type\": \"mesh3d\"}], \"parcoords\": [{\"line\": {\"colorbar\": {\"outlinewidth\": 0, \"ticks\": \"\"}}, \"type\": \"parcoords\"}], \"pie\": [{\"automargin\": true, \"type\": \"pie\"}], \"scatter\": [{\"marker\": {\"colorbar\": {\"outlinewidth\": 0, \"ticks\": \"\"}}, \"type\": \"scatter\"}], \"scatter3d\": [{\"line\": {\"colorbar\": {\"outlinewidth\": 0, \"ticks\": \"\"}}, \"marker\": {\"colorbar\": {\"outlinewidth\": 0, \"ticks\": \"\"}}, \"type\": \"scatter3d\"}], \"scattercarpet\": [{\"marker\": {\"colorbar\": {\"outlinewidth\": 0, \"ticks\": \"\"}}, \"type\": \"scattercarpet\"}], \"scattergeo\": [{\"marker\": {\"colorbar\": {\"outlinewidth\": 0, \"ticks\": \"\"}}, \"type\": \"scattergeo\"}], \"scattergl\": [{\"marker\": {\"colorbar\": {\"outlinewidth\": 0, \"ticks\": \"\"}}, \"type\": \"scattergl\"}], \"scattermapbox\": [{\"marker\": {\"colorbar\": {\"outlinewidth\": 0, \"ticks\": \"\"}}, \"type\": \"scattermapbox\"}], \"scatterpolar\": [{\"marker\": {\"colorbar\": {\"outlinewidth\": 0, \"ticks\": \"\"}}, \"type\": \"scatterpolar\"}], \"scatterpolargl\": [{\"marker\": {\"colorbar\": {\"outlinewidth\": 0, \"ticks\": \"\"}}, \"type\": \"scatterpolargl\"}], \"scatterternary\": [{\"marker\": {\"colorbar\": {\"outlinewidth\": 0, \"ticks\": \"\"}}, \"type\": \"scatterternary\"}], \"surface\": [{\"colorbar\": {\"outlinewidth\": 0, \"ticks\": \"\"}, \"colorscale\": [[0.0, \"#0d0887\"], [0.1111111111111111, \"#46039f\"], [0.2222222222222222, \"#7201a8\"], [0.3333333333333333, \"#9c179e\"], [0.4444444444444444, \"#bd3786\"], [0.5555555555555556, \"#d8576b\"], [0.6666666666666666, \"#ed7953\"], [0.7777777777777778, \"#fb9f3a\"], [0.8888888888888888, \"#fdca26\"], [1.0, \"#f0f921\"]], \"type\": \"surface\"}], \"table\": [{\"cells\": {\"fill\": {\"color\": \"#EBF0F8\"}, \"line\": {\"color\": \"white\"}}, \"header\": {\"fill\": {\"color\": \"#C8D4E3\"}, \"line\": {\"color\": \"white\"}}, \"type\": \"table\"}]}, \"layout\": {\"annotationdefaults\": {\"arrowcolor\": \"#2a3f5f\", \"arrowhead\": 0, \"arrowwidth\": 1}, \"coloraxis\": {\"colorbar\": {\"outlinewidth\": 0, \"ticks\": \"\"}}, \"colorscale\": {\"diverging\": [[0, \"#8e0152\"], [0.1, \"#c51b7d\"], [0.2, \"#de77ae\"], [0.3, \"#f1b6da\"], [0.4, \"#fde0ef\"], [0.5, \"#f7f7f7\"], [0.6, \"#e6f5d0\"], [0.7, \"#b8e186\"], [0.8, \"#7fbc41\"], [0.9, \"#4d9221\"], [1, \"#276419\"]], \"sequential\": [[0.0, \"#0d0887\"], [0.1111111111111111, \"#46039f\"], [0.2222222222222222, \"#7201a8\"], [0.3333333333333333, \"#9c179e\"], [0.4444444444444444, \"#bd3786\"], [0.5555555555555556, \"#d8576b\"], [0.6666666666666666, \"#ed7953\"], [0.7777777777777778, \"#fb9f3a\"], [0.8888888888888888, \"#fdca26\"], [1.0, \"#f0f921\"]], \"sequentialminus\": [[0.0, \"#0d0887\"], [0.1111111111111111, \"#46039f\"], [0.2222222222222222, \"#7201a8\"], [0.3333333333333333, \"#9c179e\"], [0.4444444444444444, \"#bd3786\"], [0.5555555555555556, \"#d8576b\"], [0.6666666666666666, \"#ed7953\"], [0.7777777777777778, \"#fb9f3a\"], [0.8888888888888888, \"#fdca26\"], [1.0, \"#f0f921\"]]}, \"colorway\": [\"#636efa\", \"#EF553B\", \"#00cc96\", \"#ab63fa\", \"#FFA15A\", \"#19d3f3\", \"#FF6692\", \"#B6E880\", \"#FF97FF\", \"#FECB52\"], \"font\": {\"color\": \"#2a3f5f\"}, \"geo\": {\"bgcolor\": \"white\", \"lakecolor\": \"white\", \"landcolor\": \"#E5ECF6\", \"showlakes\": true, \"showland\": true, \"subunitcolor\": \"white\"}, \"hoverlabel\": {\"align\": \"left\"}, \"hovermode\": \"closest\", \"mapbox\": {\"style\": \"light\"}, \"paper_bgcolor\": \"white\", \"plot_bgcolor\": \"#E5ECF6\", \"polar\": {\"angularaxis\": {\"gridcolor\": \"white\", \"linecolor\": \"white\", \"ticks\": \"\"}, \"bgcolor\": \"#E5ECF6\", \"radialaxis\": {\"gridcolor\": \"white\", \"linecolor\": \"white\", \"ticks\": \"\"}}, \"scene\": {\"xaxis\": {\"backgroundcolor\": \"#E5ECF6\", \"gridcolor\": \"white\", \"gridwidth\": 2, \"linecolor\": \"white\", \"showbackground\": true, \"ticks\": \"\", \"zerolinecolor\": \"white\"}, \"yaxis\": {\"backgroundcolor\": \"#E5ECF6\", \"gridcolor\": \"white\", \"gridwidth\": 2, \"linecolor\": \"white\", \"showbackground\": true, \"ticks\": \"\", \"zerolinecolor\": \"white\"}, \"zaxis\": {\"backgroundcolor\": \"#E5ECF6\", \"gridcolor\": \"white\", \"gridwidth\": 2, \"linecolor\": \"white\", \"showbackground\": true, \"ticks\": \"\", \"zerolinecolor\": \"white\"}}, \"shapedefaults\": {\"line\": {\"color\": \"#2a3f5f\"}}, \"ternary\": {\"aaxis\": {\"gridcolor\": \"white\", \"linecolor\": \"white\", \"ticks\": \"\"}, \"baxis\": {\"gridcolor\": \"white\", \"linecolor\": \"white\", \"ticks\": \"\"}, \"bgcolor\": \"#E5ECF6\", \"caxis\": {\"gridcolor\": \"white\", \"linecolor\": \"white\", \"ticks\": \"\"}}, \"title\": {\"x\": 0.05}, \"xaxis\": {\"automargin\": true, \"gridcolor\": \"white\", \"linecolor\": \"white\", \"ticks\": \"\", \"title\": {\"standoff\": 15}, \"zerolinecolor\": \"white\", \"zerolinewidth\": 2}, \"yaxis\": {\"automargin\": true, \"gridcolor\": \"white\", \"linecolor\": \"white\", \"ticks\": \"\", \"title\": {\"standoff\": 15}, \"zerolinecolor\": \"white\", \"zerolinewidth\": 2}}}, \"title\": {\"text\": \"Top Countries and Industry collaborators for University of Trento-grid.11696.39\"}, \"xaxis\": {\"anchor\": \"y\", \"domain\": [0.0, 1.0], \"title\": {\"text\": \"aff_name\"}}, \"yaxis\": {\"anchor\": \"x\", \"domain\": [0.0, 1.0], \"title\": {\"text\": \"count\"}}},\n",
       "                        {\"responsive\": true}\n",
       "                    ).then(function(){\n",
       "                            \n",
       "var gd = document.getElementById('efb38dd5-5a4f-4557-8b18-e2378e864ba4');\n",
       "var x = new MutationObserver(function (mutations, observer) {{\n",
       "        var display = window.getComputedStyle(gd).display;\n",
       "        if (!display || display === 'none') {{\n",
       "            console.log([gd, 'removed!']);\n",
       "            Plotly.purge(gd);\n",
       "            observer.disconnect();\n",
       "        }}\n",
       "}});\n",
       "\n",
       "// Listen for the removal of the full notebook cells\n",
       "var notebookContainer = gd.closest('#notebook-container');\n",
       "if (notebookContainer) {{\n",
       "    x.observe(notebookContainer, {childList: true});\n",
       "}}\n",
       "\n",
       "// Listen for the clearing of the current output cell\n",
       "var outputEl = gd.closest('.output');\n",
       "if (outputEl) {{\n",
       "    x.observe(outputEl, {childList: true});\n",
       "}}\n",
       "\n",
       "                        })\n",
       "                };\n",
       "                });\n",
       "            </script>\n",
       "        </div>"
      ]
     },
     "metadata": {},
     "output_type": "display_data"
    }
   ],
   "source": [
    "px.histogram(affiliations, x=\"aff_name\", height=900, color=\"aff_country\",\n",
    "             title=f\"Top Countries and Industry collaborators for {gridname}-{GRIDID}\",\n",
    "             color_discrete_sequence=px.colors.diverging.Spectral)"
   ]
  },
  {
   "cell_type": "code",
   "execution_count": null,
   "metadata": {
    "Collapsed": "false"
   },
   "outputs": [],
   "source": []
  }
 ],
 "metadata": {
  "colab": {
   "collapsed_sections": [],
   "name": "Industry-Collaboration.ipynb",
   "provenance": []
  },
  "kernel_info": {
   "name": "python3"
  },
  "kernelspec": {
   "display_name": "Python 3",
   "language": "python",
   "name": "python3"
  },
  "language_info": {
   "codemirror_mode": {
    "name": "ipython",
    "version": 3
   },
   "file_extension": ".py",
   "mimetype": "text/x-python",
   "name": "python",
   "nbconvert_exporter": "python",
   "pygments_lexer": "ipython3",
   "version": "3.7.4"
  },
  "nteract": {
   "version": "0.15.0"
  },
  "widgets": {
   "application/vnd.jupyter.widget-state+json": {
    "25a23859e0ce4aea9c7dcf292c8d4273": {
     "model_module": "@jupyter-widgets/controls",
     "model_name": "ProgressStyleModel",
     "state": {
      "_model_module": "@jupyter-widgets/controls",
      "_model_module_version": "1.5.0",
      "_model_name": "ProgressStyleModel",
      "_view_count": null,
      "_view_module": "@jupyter-widgets/base",
      "_view_module_version": "1.2.0",
      "_view_name": "StyleView",
      "bar_color": null,
      "description_width": "initial"
     }
    },
    "297a076ea466401d8da0d7ebfdd9e9f5": {
     "model_module": "@jupyter-widgets/base",
     "model_name": "LayoutModel",
     "state": {
      "_model_module": "@jupyter-widgets/base",
      "_model_module_version": "1.2.0",
      "_model_name": "LayoutModel",
      "_view_count": null,
      "_view_module": "@jupyter-widgets/base",
      "_view_module_version": "1.2.0",
      "_view_name": "LayoutView",
      "align_content": null,
      "align_items": null,
      "align_self": null,
      "border": null,
      "bottom": null,
      "display": null,
      "flex": null,
      "flex_flow": null,
      "grid_area": null,
      "grid_auto_columns": null,
      "grid_auto_flow": null,
      "grid_auto_rows": null,
      "grid_column": null,
      "grid_gap": null,
      "grid_row": null,
      "grid_template_areas": null,
      "grid_template_columns": null,
      "grid_template_rows": null,
      "height": null,
      "justify_content": null,
      "justify_items": null,
      "left": null,
      "margin": null,
      "max_height": null,
      "max_width": null,
      "min_height": null,
      "min_width": null,
      "object_fit": null,
      "object_position": null,
      "order": null,
      "overflow": null,
      "overflow_x": null,
      "overflow_y": null,
      "padding": null,
      "right": null,
      "top": null,
      "visibility": null,
      "width": null
     }
    },
    "3f9c64a18f114f2a855bf6adf729889c": {
     "model_module": "@jupyter-widgets/base",
     "model_name": "LayoutModel",
     "state": {
      "_model_module": "@jupyter-widgets/base",
      "_model_module_version": "1.2.0",
      "_model_name": "LayoutModel",
      "_view_count": null,
      "_view_module": "@jupyter-widgets/base",
      "_view_module_version": "1.2.0",
      "_view_name": "LayoutView",
      "align_content": null,
      "align_items": null,
      "align_self": null,
      "border": null,
      "bottom": null,
      "display": null,
      "flex": null,
      "flex_flow": null,
      "grid_area": null,
      "grid_auto_columns": null,
      "grid_auto_flow": null,
      "grid_auto_rows": null,
      "grid_column": null,
      "grid_gap": null,
      "grid_row": null,
      "grid_template_areas": null,
      "grid_template_columns": null,
      "grid_template_rows": null,
      "height": null,
      "justify_content": null,
      "justify_items": null,
      "left": null,
      "margin": null,
      "max_height": null,
      "max_width": null,
      "min_height": null,
      "min_width": null,
      "object_fit": null,
      "object_position": null,
      "order": null,
      "overflow": null,
      "overflow_x": null,
      "overflow_y": null,
      "padding": null,
      "right": null,
      "top": null,
      "visibility": null,
      "width": null
     }
    },
    "8e2793aae8c2441980cb7c2405a5f2e4": {
     "model_module": "@jupyter-widgets/base",
     "model_name": "LayoutModel",
     "state": {
      "_model_module": "@jupyter-widgets/base",
      "_model_module_version": "1.2.0",
      "_model_name": "LayoutModel",
      "_view_count": null,
      "_view_module": "@jupyter-widgets/base",
      "_view_module_version": "1.2.0",
      "_view_name": "LayoutView",
      "align_content": null,
      "align_items": null,
      "align_self": null,
      "border": null,
      "bottom": null,
      "display": null,
      "flex": null,
      "flex_flow": null,
      "grid_area": null,
      "grid_auto_columns": null,
      "grid_auto_flow": null,
      "grid_auto_rows": null,
      "grid_column": null,
      "grid_gap": null,
      "grid_row": null,
      "grid_template_areas": null,
      "grid_template_columns": null,
      "grid_template_rows": null,
      "height": null,
      "justify_content": null,
      "justify_items": null,
      "left": null,
      "margin": null,
      "max_height": null,
      "max_width": null,
      "min_height": null,
      "min_width": null,
      "object_fit": null,
      "object_position": null,
      "order": null,
      "overflow": null,
      "overflow_x": null,
      "overflow_y": null,
      "padding": null,
      "right": null,
      "top": null,
      "visibility": null,
      "width": null
     }
    },
    "c28823c1a7ca4713ba1112d0ae657c82": {
     "model_module": "@jupyter-widgets/controls",
     "model_name": "DescriptionStyleModel",
     "state": {
      "_model_module": "@jupyter-widgets/controls",
      "_model_module_version": "1.5.0",
      "_model_name": "DescriptionStyleModel",
      "_view_count": null,
      "_view_module": "@jupyter-widgets/base",
      "_view_module_version": "1.2.0",
      "_view_name": "StyleView",
      "description_width": ""
     }
    },
    "d0676b66f5ba4e3bb240acb480e72300": {
     "model_module": "@jupyter-widgets/controls",
     "model_name": "FloatProgressModel",
     "state": {
      "_dom_classes": [],
      "_model_module": "@jupyter-widgets/controls",
      "_model_module_version": "1.5.0",
      "_model_name": "FloatProgressModel",
      "_view_count": null,
      "_view_module": "@jupyter-widgets/controls",
      "_view_module_version": "1.5.0",
      "_view_name": "ProgressView",
      "bar_style": "success",
      "description": "100%",
      "description_tooltip": null,
      "layout": "IPY_MODEL_297a076ea466401d8da0d7ebfdd9e9f5",
      "max": 140,
      "min": 0,
      "orientation": "horizontal",
      "style": "IPY_MODEL_25a23859e0ce4aea9c7dcf292c8d4273",
      "value": 140
     }
    },
    "d1668f03e7854af4831bd4d14d4c1768": {
     "model_module": "@jupyter-widgets/controls",
     "model_name": "HBoxModel",
     "state": {
      "_dom_classes": [],
      "_model_module": "@jupyter-widgets/controls",
      "_model_module_version": "1.5.0",
      "_model_name": "HBoxModel",
      "_view_count": null,
      "_view_module": "@jupyter-widgets/controls",
      "_view_module_version": "1.5.0",
      "_view_name": "HBoxView",
      "box_style": "",
      "children": [
       "IPY_MODEL_d0676b66f5ba4e3bb240acb480e72300",
       "IPY_MODEL_e1363587f7da45329330cb0d05718e5d"
      ],
      "layout": "IPY_MODEL_3f9c64a18f114f2a855bf6adf729889c"
     }
    },
    "e1363587f7da45329330cb0d05718e5d": {
     "model_module": "@jupyter-widgets/controls",
     "model_name": "HTMLModel",
     "state": {
      "_dom_classes": [],
      "_model_module": "@jupyter-widgets/controls",
      "_model_module_version": "1.5.0",
      "_model_name": "HTMLModel",
      "_view_count": null,
      "_view_module": "@jupyter-widgets/controls",
      "_view_module_version": "1.5.0",
      "_view_name": "HTMLView",
      "description": "",
      "description_tooltip": null,
      "layout": "IPY_MODEL_8e2793aae8c2441980cb7c2405a5f2e4",
      "placeholder": "​",
      "style": "IPY_MODEL_c28823c1a7ca4713ba1112d0ae657c82",
      "value": " 140/140 [07:11&lt;00:00,  3.09s/it]"
     }
    }
   }
  }
 },
 "nbformat": 4,
 "nbformat_minor": 4
}
