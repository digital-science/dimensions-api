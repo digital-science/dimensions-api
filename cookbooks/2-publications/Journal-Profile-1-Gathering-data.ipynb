{
 "cells": [
  {
   "cell_type": "markdown",
   "metadata": {
    "Collapsed": "false",
    "colab_type": "text",
    "id": "Pesu5qAD6J7-"
   },
   "source": [
    "# Journal Profiling Part 1: Getting the Data\n",
    "\n",
    "This Python notebook shows how to use the [Dimensions Analytics API](https://www.dimensions.ai/dimensions-apis/) to extract [publications data ](https://docs.dimensions.ai/dsl/datasource-publications.html) for a specific journal, as well its authors and affiliations.\n",
    "\n",
    "This tutorial is the first of a series that uses the data extracted in order to generate a 'journal profile' report. See the [API Lab homepage](https://api-lab.dimensions.ai/) for the other tutorials in this series.\n",
    "\n",
    "\n",
    "In this notebook we are going to:\n",
    "\n",
    "* extract all publications data for a given journal\n",
    "* have a quick look at the publications' authors and affiliations \n",
    "* review how many authors have been disambiguated with a Dimensions Researcher ID\n",
    "* produce a dataset of non-disambiguated authors that can be used for manual disambiguation "
   ]
  },
  {
   "cell_type": "markdown",
   "metadata": {
    "Collapsed": "false",
    "colab_type": "text",
    "id": "hMaQlB7DG8Vw"
   },
   "source": [
    "## Prerequisites\n",
    "\n",
    "This notebook assumes you have installed the [Dimcli](https://pypi.org/project/dimcli/) library and are familiar with the *Getting Started* tutorial.\n"
   ]
  },
  {
   "cell_type": "code",
   "execution_count": 1,
   "metadata": {
    "Collapsed": "false"
   },
   "outputs": [
    {
     "data": {
      "text/html": [
       "        <script type=\"text/javascript\">\n",
       "        window.PlotlyConfig = {MathJaxConfig: 'local'};\n",
       "        if (window.MathJax) {MathJax.Hub.Config({SVG: {font: \"STIX-Web\"}});}\n",
       "        if (typeof require !== 'undefined') {\n",
       "        require.undef(\"plotly\");\n",
       "        requirejs.config({\n",
       "            paths: {\n",
       "                'plotly': ['https://cdn.plot.ly/plotly-latest.min']\n",
       "            }\n",
       "        });\n",
       "        require(['plotly'], function(Plotly) {\n",
       "            window._Plotly = Plotly;\n",
       "        });\n",
       "        }\n",
       "        </script>\n",
       "        "
      ]
     },
     "metadata": {},
     "output_type": "display_data"
    },
    {
     "name": "stdout",
     "output_type": "stream",
     "text": [
      "==\n",
      "Logging in..\n",
      "\u001b[2mDimcli - Dimensions API Client (v0.7.4.2)\u001b[0m\n",
      "\u001b[2mConnected to: https://app.dimensions.ai - DSL v1.27\u001b[0m\n",
      "\u001b[2mMethod: dsl.ini file\u001b[0m\n"
     ]
    }
   ],
   "source": [
    "!pip install dimcli plotly tqdm -U --quiet \n",
    "\n",
    "import dimcli\n",
    "from dimcli.shortcuts import *\n",
    "import os, sys, time, json\n",
    "from tqdm.notebook import tqdm as progress\n",
    "import pandas as pd\n",
    "import plotly.express as px\n",
    "if not 'google.colab' in sys.modules:\n",
    "  # make js dependecies local / needed by html exports\n",
    "  from plotly.offline import init_notebook_mode\n",
    "  init_notebook_mode(connected=True)\n",
    "#\n",
    "\n",
    "print(\"==\\nLogging in..\")\n",
    "# https://github.com/digital-science/dimcli#authentication\n",
    "ENDPOINT = \"https://app.dimensions.ai\"\n",
    "if 'google.colab' in sys.modules:\n",
    "  import getpass\n",
    "  USERNAME = getpass.getpass(prompt='Username: ')\n",
    "  PASSWORD = getpass.getpass(prompt='Password: ')    \n",
    "  dimcli.login(USERNAME, PASSWORD, ENDPOINT)\n",
    "else:\n",
    "  USERNAME, PASSWORD  = \"\", \"\"\n",
    "  dimcli.login(USERNAME, PASSWORD, ENDPOINT)\n",
    "dsl = dimcli.Dsl()"
   ]
  },
  {
   "cell_type": "markdown",
   "metadata": {
    "Collapsed": "false"
   },
   "source": [
    "Some helper functions to store the data we are going to extract"
   ]
  },
  {
   "cell_type": "code",
   "execution_count": 2,
   "metadata": {
    "Collapsed": "false",
    "colab": {
     "base_uri": "https://localhost:8080/",
     "height": 85
    },
    "colab_type": "code",
    "executionInfo": {
     "elapsed": 22421,
     "status": "ok",
     "timestamp": 1590004308752,
     "user": {
      "displayName": "Michele Pasin",
      "photoUrl": "https://lh3.googleusercontent.com/a-/AOh14GiYfmLTPbeMuYDDrETLbTVXTXnfVr9f7eBtkmR73A=s64",
      "userId": "10309320684375994511"
     },
     "user_tz": -60
    },
    "id": "zN1l7rvMo6Ds",
    "outputId": "cf4253c6-272a-4186-8461-72db2a225670"
   },
   "outputs": [],
   "source": [
    "# create output data folder\n",
    "FOLDER_NAME = \"journal-profile-data\"\n",
    "if not(os.path.exists(FOLDER_NAME)):\n",
    "    os.mkdir(FOLDER_NAME)\n",
    "    \n",
    "def save(df,filename_dot_csv):\n",
    "    df.to_csv(FOLDER_NAME+\"/\"+filename_dot_csv, index=False)"
   ]
  },
  {
   "cell_type": "markdown",
   "metadata": {
    "Collapsed": "false",
    "colab_type": "text",
    "id": "Z1jwOf1F64mr"
   },
   "source": [
    "## Selecting a Journal and Extracting All Publications Metadata"
   ]
  },
  {
   "cell_type": "code",
   "execution_count": 20,
   "metadata": {
    "Collapsed": "false",
    "cellView": "form",
    "colab": {
     "base_uri": "https://localhost:8080/",
     "height": 238
    },
    "colab_type": "code",
    "executionInfo": {
     "elapsed": 30263,
     "status": "ok",
     "timestamp": 1590004324419,
     "user": {
      "displayName": "Michele Pasin",
      "photoUrl": "https://lh3.googleusercontent.com/a-/AOh14GiYfmLTPbeMuYDDrETLbTVXTXnfVr9f7eBtkmR73A=s64",
      "userId": "10309320684375994511"
     },
     "user_tz": -60
    },
    "id": "Ku0GkHfE7JI7",
    "outputId": "23e41dd0-af76-4150-9a60-17da1bd1746e"
   },
   "outputs": [
    {
     "name": "stdout",
     "output_type": "stream",
     "text": [
      "DSL Query:\n",
      "----\n",
      " search publications where \n",
      "    journal.title=\"Nature Genetics\" and \n",
      "    year>=2015 \n",
      "    return publications[id+title+doi+year+authors+type+pages+journal+issue+volume+altmetric+times_cited] \n",
      "----\n",
      "Starting iteration with limit=500 skip=0 ...\n",
      "0-500 / 1546 (6.28s)\n",
      "500-1000 / 1546 (5.77s)\n",
      "1000-1500 / 1546 (4.35s)\n",
      "1500-1546 / 1546 (1.00s)\n",
      "===\n",
      "Records extracted: 1546\n"
     ]
    }
   ],
   "source": [
    "#@title Select a journal from the dropdown\n",
    "#@markdown If the journal isn't there, you can try type in the exact name instead.\n",
    "\n",
    "journal_title = \"Nature Genetics\" #@param ['Nature', 'Nature Communications', 'Nature Biotechnology', 'Nature Medicine', 'Nature Genetics', 'Nature Neuroscience', 'Nature Structural & Molecular Biology', 'Nature Methods', 'Nature Cell Biology', 'Nature Immunology', 'Nature Reviews Drug Discovery', 'Nature Materials', 'Nature Physics', 'Nature Reviews Neuroscience', 'Nature Nanotechnology', 'Nature Reviews Genetics', 'Nature Reviews Urology', 'Nature Reviews Molecular Cell Biology', 'Nature Precedings', 'Nature Reviews Cancer', 'Nature Photonics', 'Nature Reviews Immunology', 'Nature Reviews Cardiology', 'Nature Reviews Gastroenterology & Hepatology', 'Nature Reviews Clinical Oncology', 'Nature Reviews Endocrinology', 'Nature Reviews Neurology', 'Nature Chemical Biology', 'Nature Reviews Microbiology', 'Nature Geoscience', 'Nature Reviews Rheumatology', 'Nature Climate Change', 'Nature Reviews Nephrology', 'Nature Chemistry', 'Nature Digest', 'Nature Protocols', 'Nature Middle East', 'Nature India', 'Nature China', 'Nature Plants', 'Nature Microbiology', 'Nature Ecology & Evolution', 'Nature Astronomy', 'Nature Energy', 'Nature Human Behaviour', 'AfCS-Nature Molecule Pages', 'Human Nature', 'Nature Reviews Disease Primers', 'Nature Biomedical Engineering', 'Nature Reports Stem Cells', 'Nature Reviews Materials', 'Nature Sustainability', 'Nature Catalysis', 'Nature Electronics', 'Nature Reviews Chemistry', 'Nature Metabolism', 'Nature Reviews Physics', 'Nature Machine Intelligence', 'NCI Nature Pathway Interaction Database', 'Nature Reports: Climate Change'] {allow-input: true}\n",
    "start_year = 2015  #@param {type: \"number\"}\n",
    "#@markdown ---\n",
    "\n",
    "# PS \n",
    "# To get titles from the API one can do this:\n",
    "# > %dsldf search publications where journal.title~\"Nature\" and publisher=\"Springer Nature\" return journal limit 100\n",
    "# > \", \".join([f\"'{x}'\" for x in list(dsl_last_results.title)]) \n",
    "#\n",
    "\n",
    "q_template = \"\"\"search publications where \n",
    "    journal.title=\"{}\" and \n",
    "    year>={} \n",
    "    return publications[id+title+doi+year+authors+type+pages+journal+issue+volume+altmetric+times_cited]\"\"\"\n",
    "q = q_template.format(journal_title, start_year)\n",
    "print(\"DSL Query:\\n----\\n\", q, \"\\n----\")\n",
    "pubs = dsl.query_iterative(q.format(journal_title, start_year), limit=500)\n"
   ]
  },
  {
   "cell_type": "markdown",
   "metadata": {
    "Collapsed": "false",
    "colab_type": "text",
    "id": "FFT3DayHo6Dy"
   },
   "source": [
    "Save the data as a CSV file in case we want to reuse it later"
   ]
  },
  {
   "cell_type": "code",
   "execution_count": 21,
   "metadata": {
    "Collapsed": "false",
    "colab": {
     "base_uri": "https://localhost:8080/",
     "height": 1946
    },
    "colab_type": "code",
    "executionInfo": {
     "elapsed": 3101,
     "status": "ok",
     "timestamp": 1590004329997,
     "user": {
      "displayName": "Michele Pasin",
      "photoUrl": "https://lh3.googleusercontent.com/a-/AOh14GiYfmLTPbeMuYDDrETLbTVXTXnfVr9f7eBtkmR73A=s64",
      "userId": "10309320684375994511"
     },
     "user_tz": -60
    },
    "id": "xnwSEydio6Dy",
    "outputId": "6cde27d6-8c9c-4b5c-8544-7f3871ea390d"
   },
   "outputs": [
    {
     "data": {
      "text/html": [
       "<div>\n",
       "<style scoped>\n",
       "    .dataframe tbody tr th:only-of-type {\n",
       "        vertical-align: middle;\n",
       "    }\n",
       "\n",
       "    .dataframe tbody tr th {\n",
       "        vertical-align: top;\n",
       "    }\n",
       "\n",
       "    .dataframe thead th {\n",
       "        text-align: right;\n",
       "    }\n",
       "</style>\n",
       "<table border=\"1\" class=\"dataframe\">\n",
       "  <thead>\n",
       "    <tr style=\"text-align: right;\">\n",
       "      <th></th>\n",
       "      <th>pages</th>\n",
       "      <th>title</th>\n",
       "      <th>type</th>\n",
       "      <th>authors</th>\n",
       "      <th>id</th>\n",
       "      <th>doi</th>\n",
       "      <th>altmetric</th>\n",
       "      <th>year</th>\n",
       "      <th>times_cited</th>\n",
       "      <th>journal.id</th>\n",
       "      <th>journal.title</th>\n",
       "      <th>issue</th>\n",
       "      <th>volume</th>\n",
       "    </tr>\n",
       "  </thead>\n",
       "  <tbody>\n",
       "    <tr>\n",
       "      <th>0</th>\n",
       "      <td>1-1</td>\n",
       "      <td>Author Correction: PGBD5 promotes site-specifi...</td>\n",
       "      <td>article</td>\n",
       "      <td>[{'first_name': 'Anton G.', 'last_name': 'Hens...</td>\n",
       "      <td>pub.1130757641</td>\n",
       "      <td>10.1038/s41588-020-00711-z</td>\n",
       "      <td>1.0</td>\n",
       "      <td>2020</td>\n",
       "      <td>0</td>\n",
       "      <td>jour.1103138</td>\n",
       "      <td>Nature Genetics</td>\n",
       "      <td>NaN</td>\n",
       "      <td>NaN</td>\n",
       "    </tr>\n",
       "    <tr>\n",
       "      <th>1</th>\n",
       "      <td>1-3</td>\n",
       "      <td>Exploring the structural distribution of genet...</td>\n",
       "      <td>article</td>\n",
       "      <td>[{'first_name': 'Stephanie', 'last_name': 'Por...</td>\n",
       "      <td>pub.1130690640</td>\n",
       "      <td>10.1038/s41588-020-0693-3</td>\n",
       "      <td>164.0</td>\n",
       "      <td>2020</td>\n",
       "      <td>1</td>\n",
       "      <td>jour.1103138</td>\n",
       "      <td>Nature Genetics</td>\n",
       "      <td>NaN</td>\n",
       "      <td>NaN</td>\n",
       "    </tr>\n",
       "    <tr>\n",
       "      <th>2</th>\n",
       "      <td>1-6</td>\n",
       "      <td>Exploring the coronavirus pandemic with the Wa...</td>\n",
       "      <td>article</td>\n",
       "      <td>[{'first_name': 'Jennifer A.', 'last_name': 'F...</td>\n",
       "      <td>pub.1130694392</td>\n",
       "      <td>10.1038/s41588-020-0697-z</td>\n",
       "      <td>18.0</td>\n",
       "      <td>2020</td>\n",
       "      <td>0</td>\n",
       "      <td>jour.1103138</td>\n",
       "      <td>Nature Genetics</td>\n",
       "      <td>NaN</td>\n",
       "      <td>NaN</td>\n",
       "    </tr>\n",
       "    <tr>\n",
       "      <th>3</th>\n",
       "      <td>1-8</td>\n",
       "      <td>The UCSC SARS-CoV-2 Genome Browser</td>\n",
       "      <td>article</td>\n",
       "      <td>[{'first_name': 'Jason D.', 'last_name': 'Fern...</td>\n",
       "      <td>pub.1130696405</td>\n",
       "      <td>10.1038/s41588-020-0700-8</td>\n",
       "      <td>7.0</td>\n",
       "      <td>2020</td>\n",
       "      <td>0</td>\n",
       "      <td>jour.1103138</td>\n",
       "      <td>Nature Genetics</td>\n",
       "      <td>NaN</td>\n",
       "      <td>NaN</td>\n",
       "    </tr>\n",
       "    <tr>\n",
       "      <th>4</th>\n",
       "      <td>1-10</td>\n",
       "      <td>Phenome-wide Mendelian randomization mapping t...</td>\n",
       "      <td>article</td>\n",
       "      <td>[{'first_name': 'Jie', 'last_name': 'Zheng', '...</td>\n",
       "      <td>pub.1130642727</td>\n",
       "      <td>10.1038/s41588-020-0682-6</td>\n",
       "      <td>146.0</td>\n",
       "      <td>2020</td>\n",
       "      <td>0</td>\n",
       "      <td>jour.1103138</td>\n",
       "      <td>Nature Genetics</td>\n",
       "      <td>NaN</td>\n",
       "      <td>NaN</td>\n",
       "    </tr>\n",
       "    <tr>\n",
       "      <th>5</th>\n",
       "      <td>1-1</td>\n",
       "      <td>Author Correction: A co-clinical approach iden...</td>\n",
       "      <td>article</td>\n",
       "      <td>[{'first_name': 'Andrea', 'last_name': 'Lunard...</td>\n",
       "      <td>pub.1130541833</td>\n",
       "      <td>10.1038/s41588-020-0701-7</td>\n",
       "      <td>1.0</td>\n",
       "      <td>2020</td>\n",
       "      <td>0</td>\n",
       "      <td>jour.1103138</td>\n",
       "      <td>Nature Genetics</td>\n",
       "      <td>NaN</td>\n",
       "      <td>NaN</td>\n",
       "    </tr>\n",
       "    <tr>\n",
       "      <th>6</th>\n",
       "      <td>865-865</td>\n",
       "      <td>Crop genomes and beyond</td>\n",
       "      <td>article</td>\n",
       "      <td>NaN</td>\n",
       "      <td>pub.1130496379</td>\n",
       "      <td>10.1038/s41588-020-0691-5</td>\n",
       "      <td>12.0</td>\n",
       "      <td>2020</td>\n",
       "      <td>0</td>\n",
       "      <td>jour.1103138</td>\n",
       "      <td>Nature Genetics</td>\n",
       "      <td>9</td>\n",
       "      <td>52</td>\n",
       "    </tr>\n",
       "    <tr>\n",
       "      <th>7</th>\n",
       "      <td>878-883</td>\n",
       "      <td>Landscape of G-quadruplex DNA structural regio...</td>\n",
       "      <td>article</td>\n",
       "      <td>[{'first_name': 'Robert', 'last_name': 'Hänsel...</td>\n",
       "      <td>pub.1129832914</td>\n",
       "      <td>10.1038/s41588-020-0672-8</td>\n",
       "      <td>167.0</td>\n",
       "      <td>2020</td>\n",
       "      <td>2</td>\n",
       "      <td>jour.1103138</td>\n",
       "      <td>Nature Genetics</td>\n",
       "      <td>9</td>\n",
       "      <td>52</td>\n",
       "    </tr>\n",
       "    <tr>\n",
       "      <th>8</th>\n",
       "      <td>931-938</td>\n",
       "      <td>RNA is essential for PRC2 chromatin occupancy ...</td>\n",
       "      <td>article</td>\n",
       "      <td>[{'first_name': 'Yicheng', 'last_name': 'Long'...</td>\n",
       "      <td>pub.1129017794</td>\n",
       "      <td>10.1038/s41588-020-0662-x</td>\n",
       "      <td>224.0</td>\n",
       "      <td>2020</td>\n",
       "      <td>4</td>\n",
       "      <td>jour.1103138</td>\n",
       "      <td>Nature Genetics</td>\n",
       "      <td>9</td>\n",
       "      <td>52</td>\n",
       "    </tr>\n",
       "    <tr>\n",
       "      <th>9</th>\n",
       "      <td>868-869</td>\n",
       "      <td>RNA post-transcriptional modification speaks t...</td>\n",
       "      <td>article</td>\n",
       "      <td>[{'first_name': 'Dalen', 'last_name': 'Chan', ...</td>\n",
       "      <td>pub.1130496620</td>\n",
       "      <td>10.1038/s41588-020-0685-3</td>\n",
       "      <td>21.0</td>\n",
       "      <td>2020</td>\n",
       "      <td>0</td>\n",
       "      <td>jour.1103138</td>\n",
       "      <td>Nature Genetics</td>\n",
       "      <td>9</td>\n",
       "      <td>52</td>\n",
       "    </tr>\n",
       "  </tbody>\n",
       "</table>\n",
       "</div>"
      ],
      "text/plain": [
       "     pages                                              title     type  \\\n",
       "0      1-1  Author Correction: PGBD5 promotes site-specifi...  article   \n",
       "1      1-3  Exploring the structural distribution of genet...  article   \n",
       "2      1-6  Exploring the coronavirus pandemic with the Wa...  article   \n",
       "3      1-8                 The UCSC SARS-CoV-2 Genome Browser  article   \n",
       "4     1-10  Phenome-wide Mendelian randomization mapping t...  article   \n",
       "5      1-1  Author Correction: A co-clinical approach iden...  article   \n",
       "6  865-865                            Crop genomes and beyond  article   \n",
       "7  878-883  Landscape of G-quadruplex DNA structural regio...  article   \n",
       "8  931-938  RNA is essential for PRC2 chromatin occupancy ...  article   \n",
       "9  868-869  RNA post-transcriptional modification speaks t...  article   \n",
       "\n",
       "                                             authors              id  \\\n",
       "0  [{'first_name': 'Anton G.', 'last_name': 'Hens...  pub.1130757641   \n",
       "1  [{'first_name': 'Stephanie', 'last_name': 'Por...  pub.1130690640   \n",
       "2  [{'first_name': 'Jennifer A.', 'last_name': 'F...  pub.1130694392   \n",
       "3  [{'first_name': 'Jason D.', 'last_name': 'Fern...  pub.1130696405   \n",
       "4  [{'first_name': 'Jie', 'last_name': 'Zheng', '...  pub.1130642727   \n",
       "5  [{'first_name': 'Andrea', 'last_name': 'Lunard...  pub.1130541833   \n",
       "6                                                NaN  pub.1130496379   \n",
       "7  [{'first_name': 'Robert', 'last_name': 'Hänsel...  pub.1129832914   \n",
       "8  [{'first_name': 'Yicheng', 'last_name': 'Long'...  pub.1129017794   \n",
       "9  [{'first_name': 'Dalen', 'last_name': 'Chan', ...  pub.1130496620   \n",
       "\n",
       "                          doi  altmetric  year  times_cited    journal.id  \\\n",
       "0  10.1038/s41588-020-00711-z        1.0  2020            0  jour.1103138   \n",
       "1   10.1038/s41588-020-0693-3      164.0  2020            1  jour.1103138   \n",
       "2   10.1038/s41588-020-0697-z       18.0  2020            0  jour.1103138   \n",
       "3   10.1038/s41588-020-0700-8        7.0  2020            0  jour.1103138   \n",
       "4   10.1038/s41588-020-0682-6      146.0  2020            0  jour.1103138   \n",
       "5   10.1038/s41588-020-0701-7        1.0  2020            0  jour.1103138   \n",
       "6   10.1038/s41588-020-0691-5       12.0  2020            0  jour.1103138   \n",
       "7   10.1038/s41588-020-0672-8      167.0  2020            2  jour.1103138   \n",
       "8   10.1038/s41588-020-0662-x      224.0  2020            4  jour.1103138   \n",
       "9   10.1038/s41588-020-0685-3       21.0  2020            0  jour.1103138   \n",
       "\n",
       "     journal.title issue volume  \n",
       "0  Nature Genetics   NaN    NaN  \n",
       "1  Nature Genetics   NaN    NaN  \n",
       "2  Nature Genetics   NaN    NaN  \n",
       "3  Nature Genetics   NaN    NaN  \n",
       "4  Nature Genetics   NaN    NaN  \n",
       "5  Nature Genetics   NaN    NaN  \n",
       "6  Nature Genetics     9     52  \n",
       "7  Nature Genetics     9     52  \n",
       "8  Nature Genetics     9     52  \n",
       "9  Nature Genetics     9     52  "
      ]
     },
     "execution_count": 21,
     "metadata": {},
     "output_type": "execute_result"
    }
   ],
   "source": [
    "dfpubs = pubs.as_dataframe()\n",
    "save(dfpubs,\"1_publications.csv\")\n",
    "# preview the publications \n",
    "dfpubs.head(10)"
   ]
  },
  {
   "cell_type": "markdown",
   "metadata": {
    "Collapsed": "false",
    "colab_type": "text",
    "id": "aJSz9ltEo6D0"
   },
   "source": [
    "Extract the authors data "
   ]
  },
  {
   "cell_type": "code",
   "execution_count": 22,
   "metadata": {
    "Collapsed": "false",
    "colab": {
     "base_uri": "https://localhost:8080/",
     "height": 1194
    },
    "colab_type": "code",
    "executionInfo": {
     "elapsed": 5007,
     "status": "ok",
     "timestamp": 1590004331909,
     "user": {
      "displayName": "Michele Pasin",
      "photoUrl": "https://lh3.googleusercontent.com/a-/AOh14GiYfmLTPbeMuYDDrETLbTVXTXnfVr9f7eBtkmR73A=s64",
      "userId": "10309320684375994511"
     },
     "user_tz": -60
    },
    "id": "ihjtFg1pUofn",
    "outputId": "9eb0aec0-8a28-4e07-c847-1b140a5a7919"
   },
   "outputs": [
    {
     "data": {
      "text/html": [
       "<div>\n",
       "<style scoped>\n",
       "    .dataframe tbody tr th:only-of-type {\n",
       "        vertical-align: middle;\n",
       "    }\n",
       "\n",
       "    .dataframe tbody tr th {\n",
       "        vertical-align: top;\n",
       "    }\n",
       "\n",
       "    .dataframe thead th {\n",
       "        text-align: right;\n",
       "    }\n",
       "</style>\n",
       "<table border=\"1\" class=\"dataframe\">\n",
       "  <thead>\n",
       "    <tr style=\"text-align: right;\">\n",
       "      <th></th>\n",
       "      <th>first_name</th>\n",
       "      <th>last_name</th>\n",
       "      <th>corresponding</th>\n",
       "      <th>orcid</th>\n",
       "      <th>current_organization_id</th>\n",
       "      <th>researcher_id</th>\n",
       "      <th>affiliations</th>\n",
       "      <th>pub_id</th>\n",
       "    </tr>\n",
       "  </thead>\n",
       "  <tbody>\n",
       "    <tr>\n",
       "      <th>0</th>\n",
       "      <td>Anton G.</td>\n",
       "      <td>Henssen</td>\n",
       "      <td></td>\n",
       "      <td></td>\n",
       "      <td></td>\n",
       "      <td></td>\n",
       "      <td>[{'id': 'grid.51462.34', 'name': 'Memorial Slo...</td>\n",
       "      <td>pub.1130757641</td>\n",
       "    </tr>\n",
       "    <tr>\n",
       "      <th>1</th>\n",
       "      <td>Richard</td>\n",
       "      <td>Koche</td>\n",
       "      <td></td>\n",
       "      <td></td>\n",
       "      <td></td>\n",
       "      <td></td>\n",
       "      <td>[{'id': 'grid.51462.34', 'name': 'Memorial Slo...</td>\n",
       "      <td>pub.1130757641</td>\n",
       "    </tr>\n",
       "    <tr>\n",
       "      <th>2</th>\n",
       "      <td>Jiali</td>\n",
       "      <td>Zhuang</td>\n",
       "      <td></td>\n",
       "      <td></td>\n",
       "      <td></td>\n",
       "      <td></td>\n",
       "      <td>[{'id': 'grid.168645.8', 'name': 'University o...</td>\n",
       "      <td>pub.1130757641</td>\n",
       "    </tr>\n",
       "    <tr>\n",
       "      <th>3</th>\n",
       "      <td>Eileen</td>\n",
       "      <td>Jiang</td>\n",
       "      <td></td>\n",
       "      <td></td>\n",
       "      <td></td>\n",
       "      <td></td>\n",
       "      <td>[{'id': 'grid.51462.34', 'name': 'Memorial Slo...</td>\n",
       "      <td>pub.1130757641</td>\n",
       "    </tr>\n",
       "    <tr>\n",
       "      <th>4</th>\n",
       "      <td>Casie</td>\n",
       "      <td>Reed</td>\n",
       "      <td></td>\n",
       "      <td></td>\n",
       "      <td></td>\n",
       "      <td></td>\n",
       "      <td>[{'id': 'grid.51462.34', 'name': 'Memorial Slo...</td>\n",
       "      <td>pub.1130757641</td>\n",
       "    </tr>\n",
       "    <tr>\n",
       "      <th>5</th>\n",
       "      <td>Amy</td>\n",
       "      <td>Eisenberg</td>\n",
       "      <td></td>\n",
       "      <td></td>\n",
       "      <td></td>\n",
       "      <td></td>\n",
       "      <td>[{'id': 'grid.51462.34', 'name': 'Memorial Slo...</td>\n",
       "      <td>pub.1130757641</td>\n",
       "    </tr>\n",
       "    <tr>\n",
       "      <th>6</th>\n",
       "      <td>Eric</td>\n",
       "      <td>Still</td>\n",
       "      <td></td>\n",
       "      <td></td>\n",
       "      <td></td>\n",
       "      <td></td>\n",
       "      <td>[{'id': 'grid.51462.34', 'name': 'Memorial Slo...</td>\n",
       "      <td>pub.1130757641</td>\n",
       "    </tr>\n",
       "    <tr>\n",
       "      <th>7</th>\n",
       "      <td>Ian C.</td>\n",
       "      <td>MacArthur</td>\n",
       "      <td></td>\n",
       "      <td></td>\n",
       "      <td></td>\n",
       "      <td></td>\n",
       "      <td>[{'id': 'grid.51462.34', 'name': 'Memorial Slo...</td>\n",
       "      <td>pub.1130757641</td>\n",
       "    </tr>\n",
       "    <tr>\n",
       "      <th>8</th>\n",
       "      <td>Elias</td>\n",
       "      <td>Rodríguez-Fos</td>\n",
       "      <td></td>\n",
       "      <td></td>\n",
       "      <td></td>\n",
       "      <td></td>\n",
       "      <td>[{'id': 'grid.10097.3f', 'name': 'Barcelona Su...</td>\n",
       "      <td>pub.1130757641</td>\n",
       "    </tr>\n",
       "    <tr>\n",
       "      <th>9</th>\n",
       "      <td>Santiago</td>\n",
       "      <td>Gonzalez</td>\n",
       "      <td></td>\n",
       "      <td></td>\n",
       "      <td></td>\n",
       "      <td></td>\n",
       "      <td>[{'id': 'grid.10097.3f', 'name': 'Barcelona Su...</td>\n",
       "      <td>pub.1130757641</td>\n",
       "    </tr>\n",
       "  </tbody>\n",
       "</table>\n",
       "</div>"
      ],
      "text/plain": [
       "  first_name      last_name corresponding orcid current_organization_id  \\\n",
       "0   Anton G.        Henssen                                               \n",
       "1    Richard          Koche                                               \n",
       "2      Jiali         Zhuang                                               \n",
       "3     Eileen          Jiang                                               \n",
       "4      Casie           Reed                                               \n",
       "5        Amy      Eisenberg                                               \n",
       "6       Eric          Still                                               \n",
       "7     Ian C.      MacArthur                                               \n",
       "8      Elias  Rodríguez-Fos                                               \n",
       "9   Santiago       Gonzalez                                               \n",
       "\n",
       "  researcher_id                                       affiliations  \\\n",
       "0                [{'id': 'grid.51462.34', 'name': 'Memorial Slo...   \n",
       "1                [{'id': 'grid.51462.34', 'name': 'Memorial Slo...   \n",
       "2                [{'id': 'grid.168645.8', 'name': 'University o...   \n",
       "3                [{'id': 'grid.51462.34', 'name': 'Memorial Slo...   \n",
       "4                [{'id': 'grid.51462.34', 'name': 'Memorial Slo...   \n",
       "5                [{'id': 'grid.51462.34', 'name': 'Memorial Slo...   \n",
       "6                [{'id': 'grid.51462.34', 'name': 'Memorial Slo...   \n",
       "7                [{'id': 'grid.51462.34', 'name': 'Memorial Slo...   \n",
       "8                [{'id': 'grid.10097.3f', 'name': 'Barcelona Su...   \n",
       "9                [{'id': 'grid.10097.3f', 'name': 'Barcelona Su...   \n",
       "\n",
       "           pub_id  \n",
       "0  pub.1130757641  \n",
       "1  pub.1130757641  \n",
       "2  pub.1130757641  \n",
       "3  pub.1130757641  \n",
       "4  pub.1130757641  \n",
       "5  pub.1130757641  \n",
       "6  pub.1130757641  \n",
       "7  pub.1130757641  \n",
       "8  pub.1130757641  \n",
       "9  pub.1130757641  "
      ]
     },
     "execution_count": 22,
     "metadata": {},
     "output_type": "execute_result"
    }
   ],
   "source": [
    "# preview the authors data \n",
    "authors = pubs.as_dataframe_authors()\n",
    "save(authors,\"1_publications_authors.csv\")\n",
    "authors.head(10)"
   ]
  },
  {
   "cell_type": "markdown",
   "metadata": {
    "Collapsed": "false",
    "colab_type": "text",
    "id": "QLkrxzT2o6D3"
   },
   "source": [
    "Extract the affiliations data "
   ]
  },
  {
   "cell_type": "code",
   "execution_count": 23,
   "metadata": {
    "Collapsed": "false",
    "colab": {
     "base_uri": "https://localhost:8080/",
     "height": 681
    },
    "colab_type": "code",
    "executionInfo": {
     "elapsed": 8888,
     "status": "ok",
     "timestamp": 1590004335794,
     "user": {
      "displayName": "Michele Pasin",
      "photoUrl": "https://lh3.googleusercontent.com/a-/AOh14GiYfmLTPbeMuYDDrETLbTVXTXnfVr9f7eBtkmR73A=s64",
      "userId": "10309320684375994511"
     },
     "user_tz": -60
    },
    "id": "SsT078tTuhvX",
    "outputId": "e0a4e40d-b009-4f0c-a907-4e1623c13a93"
   },
   "outputs": [
    {
     "data": {
      "text/html": [
       "<div>\n",
       "<style scoped>\n",
       "    .dataframe tbody tr th:only-of-type {\n",
       "        vertical-align: middle;\n",
       "    }\n",
       "\n",
       "    .dataframe tbody tr th {\n",
       "        vertical-align: top;\n",
       "    }\n",
       "\n",
       "    .dataframe thead th {\n",
       "        text-align: right;\n",
       "    }\n",
       "</style>\n",
       "<table border=\"1\" class=\"dataframe\">\n",
       "  <thead>\n",
       "    <tr style=\"text-align: right;\">\n",
       "      <th></th>\n",
       "      <th>aff_id</th>\n",
       "      <th>aff_name</th>\n",
       "      <th>aff_city</th>\n",
       "      <th>aff_city_id</th>\n",
       "      <th>aff_country</th>\n",
       "      <th>aff_country_code</th>\n",
       "      <th>aff_state</th>\n",
       "      <th>aff_state_code</th>\n",
       "      <th>pub_id</th>\n",
       "      <th>researcher_id</th>\n",
       "      <th>first_name</th>\n",
       "      <th>last_name</th>\n",
       "    </tr>\n",
       "  </thead>\n",
       "  <tbody>\n",
       "    <tr>\n",
       "      <th>0</th>\n",
       "      <td>grid.51462.34</td>\n",
       "      <td>Memorial Sloan Kettering Cancer Center</td>\n",
       "      <td>New York</td>\n",
       "      <td>5.12858e+06</td>\n",
       "      <td>United States</td>\n",
       "      <td>US</td>\n",
       "      <td>New York</td>\n",
       "      <td>US-NY</td>\n",
       "      <td>pub.1130757641</td>\n",
       "      <td></td>\n",
       "      <td>Anton G.</td>\n",
       "      <td>Henssen</td>\n",
       "    </tr>\n",
       "    <tr>\n",
       "      <th>1</th>\n",
       "      <td>grid.6363.0</td>\n",
       "      <td>Charité</td>\n",
       "      <td>Berlin</td>\n",
       "      <td>2.95016e+06</td>\n",
       "      <td>Germany</td>\n",
       "      <td>DE</td>\n",
       "      <td></td>\n",
       "      <td></td>\n",
       "      <td>pub.1130757641</td>\n",
       "      <td></td>\n",
       "      <td>Anton G.</td>\n",
       "      <td>Henssen</td>\n",
       "    </tr>\n",
       "    <tr>\n",
       "      <th>2</th>\n",
       "      <td>grid.51462.34</td>\n",
       "      <td>Memorial Sloan Kettering Cancer Center</td>\n",
       "      <td>New York</td>\n",
       "      <td>5.12858e+06</td>\n",
       "      <td>United States</td>\n",
       "      <td>US</td>\n",
       "      <td>New York</td>\n",
       "      <td>US-NY</td>\n",
       "      <td>pub.1130757641</td>\n",
       "      <td></td>\n",
       "      <td>Richard</td>\n",
       "      <td>Koche</td>\n",
       "    </tr>\n",
       "    <tr>\n",
       "      <th>3</th>\n",
       "      <td>grid.168645.8</td>\n",
       "      <td>University of Massachusetts Medical School</td>\n",
       "      <td>Worcester</td>\n",
       "      <td>4.95618e+06</td>\n",
       "      <td>United States</td>\n",
       "      <td>US</td>\n",
       "      <td>Massachusetts</td>\n",
       "      <td>US-MA</td>\n",
       "      <td>pub.1130757641</td>\n",
       "      <td></td>\n",
       "      <td>Jiali</td>\n",
       "      <td>Zhuang</td>\n",
       "    </tr>\n",
       "    <tr>\n",
       "      <th>4</th>\n",
       "      <td>grid.51462.34</td>\n",
       "      <td>Memorial Sloan Kettering Cancer Center</td>\n",
       "      <td>New York</td>\n",
       "      <td>5.12858e+06</td>\n",
       "      <td>United States</td>\n",
       "      <td>US</td>\n",
       "      <td>New York</td>\n",
       "      <td>US-NY</td>\n",
       "      <td>pub.1130757641</td>\n",
       "      <td></td>\n",
       "      <td>Eileen</td>\n",
       "      <td>Jiang</td>\n",
       "    </tr>\n",
       "    <tr>\n",
       "      <th>5</th>\n",
       "      <td>grid.51462.34</td>\n",
       "      <td>Memorial Sloan Kettering Cancer Center</td>\n",
       "      <td>New York</td>\n",
       "      <td>5.12858e+06</td>\n",
       "      <td>United States</td>\n",
       "      <td>US</td>\n",
       "      <td>New York</td>\n",
       "      <td>US-NY</td>\n",
       "      <td>pub.1130757641</td>\n",
       "      <td></td>\n",
       "      <td>Casie</td>\n",
       "      <td>Reed</td>\n",
       "    </tr>\n",
       "    <tr>\n",
       "      <th>6</th>\n",
       "      <td>grid.51462.34</td>\n",
       "      <td>Memorial Sloan Kettering Cancer Center</td>\n",
       "      <td>New York</td>\n",
       "      <td>5.12858e+06</td>\n",
       "      <td>United States</td>\n",
       "      <td>US</td>\n",
       "      <td>New York</td>\n",
       "      <td>US-NY</td>\n",
       "      <td>pub.1130757641</td>\n",
       "      <td></td>\n",
       "      <td>Amy</td>\n",
       "      <td>Eisenberg</td>\n",
       "    </tr>\n",
       "    <tr>\n",
       "      <th>7</th>\n",
       "      <td>grid.51462.34</td>\n",
       "      <td>Memorial Sloan Kettering Cancer Center</td>\n",
       "      <td>New York</td>\n",
       "      <td>5.12858e+06</td>\n",
       "      <td>United States</td>\n",
       "      <td>US</td>\n",
       "      <td>New York</td>\n",
       "      <td>US-NY</td>\n",
       "      <td>pub.1130757641</td>\n",
       "      <td></td>\n",
       "      <td>Eric</td>\n",
       "      <td>Still</td>\n",
       "    </tr>\n",
       "    <tr>\n",
       "      <th>8</th>\n",
       "      <td>grid.51462.34</td>\n",
       "      <td>Memorial Sloan Kettering Cancer Center</td>\n",
       "      <td>New York</td>\n",
       "      <td>5.12858e+06</td>\n",
       "      <td>United States</td>\n",
       "      <td>US</td>\n",
       "      <td>New York</td>\n",
       "      <td>US-NY</td>\n",
       "      <td>pub.1130757641</td>\n",
       "      <td></td>\n",
       "      <td>Ian C.</td>\n",
       "      <td>MacArthur</td>\n",
       "    </tr>\n",
       "    <tr>\n",
       "      <th>9</th>\n",
       "      <td>grid.10097.3f</td>\n",
       "      <td>Barcelona Supercomputing Center</td>\n",
       "      <td>Barcelona</td>\n",
       "      <td>3.12876e+06</td>\n",
       "      <td>Spain</td>\n",
       "      <td>ES</td>\n",
       "      <td></td>\n",
       "      <td></td>\n",
       "      <td>pub.1130757641</td>\n",
       "      <td></td>\n",
       "      <td>Elias</td>\n",
       "      <td>Rodríguez-Fos</td>\n",
       "    </tr>\n",
       "  </tbody>\n",
       "</table>\n",
       "</div>"
      ],
      "text/plain": [
       "          aff_id                                    aff_name   aff_city  \\\n",
       "0  grid.51462.34      Memorial Sloan Kettering Cancer Center   New York   \n",
       "1    grid.6363.0                                     Charité     Berlin   \n",
       "2  grid.51462.34      Memorial Sloan Kettering Cancer Center   New York   \n",
       "3  grid.168645.8  University of Massachusetts Medical School  Worcester   \n",
       "4  grid.51462.34      Memorial Sloan Kettering Cancer Center   New York   \n",
       "5  grid.51462.34      Memorial Sloan Kettering Cancer Center   New York   \n",
       "6  grid.51462.34      Memorial Sloan Kettering Cancer Center   New York   \n",
       "7  grid.51462.34      Memorial Sloan Kettering Cancer Center   New York   \n",
       "8  grid.51462.34      Memorial Sloan Kettering Cancer Center   New York   \n",
       "9  grid.10097.3f             Barcelona Supercomputing Center  Barcelona   \n",
       "\n",
       "   aff_city_id    aff_country aff_country_code      aff_state aff_state_code  \\\n",
       "0  5.12858e+06  United States               US       New York          US-NY   \n",
       "1  2.95016e+06        Germany               DE                                 \n",
       "2  5.12858e+06  United States               US       New York          US-NY   \n",
       "3  4.95618e+06  United States               US  Massachusetts          US-MA   \n",
       "4  5.12858e+06  United States               US       New York          US-NY   \n",
       "5  5.12858e+06  United States               US       New York          US-NY   \n",
       "6  5.12858e+06  United States               US       New York          US-NY   \n",
       "7  5.12858e+06  United States               US       New York          US-NY   \n",
       "8  5.12858e+06  United States               US       New York          US-NY   \n",
       "9  3.12876e+06          Spain               ES                                 \n",
       "\n",
       "           pub_id researcher_id first_name      last_name  \n",
       "0  pub.1130757641                 Anton G.        Henssen  \n",
       "1  pub.1130757641                 Anton G.        Henssen  \n",
       "2  pub.1130757641                  Richard          Koche  \n",
       "3  pub.1130757641                    Jiali         Zhuang  \n",
       "4  pub.1130757641                   Eileen          Jiang  \n",
       "5  pub.1130757641                    Casie           Reed  \n",
       "6  pub.1130757641                      Amy      Eisenberg  \n",
       "7  pub.1130757641                     Eric          Still  \n",
       "8  pub.1130757641                   Ian C.      MacArthur  \n",
       "9  pub.1130757641                    Elias  Rodríguez-Fos  "
      ]
     },
     "execution_count": 23,
     "metadata": {},
     "output_type": "execute_result"
    }
   ],
   "source": [
    "affiliations = pubs.as_dataframe_authors_affiliations()\n",
    "save(affiliations,\"1_publications_affiliations.csv\")\n",
    "affiliations.head(10)"
   ]
  },
  {
   "cell_type": "markdown",
   "metadata": {
    "Collapsed": "false",
    "colab_type": "text",
    "id": "8Tri9qhoCYH3"
   },
   "source": [
    "## Some stats about authors\n",
    "\n",
    "* count how many authors in total \n",
    "* count how many authors have a researcher ID\n",
    "* count how many unique researchers IDs we have in total"
   ]
  },
  {
   "cell_type": "code",
   "execution_count": 24,
   "metadata": {
    "Collapsed": "false",
    "colab": {
     "base_uri": "https://localhost:8080/",
     "height": 542
    },
    "colab_type": "code",
    "executionInfo": {
     "elapsed": 9231,
     "status": "ok",
     "timestamp": 1590004336142,
     "user": {
      "displayName": "Michele Pasin",
      "photoUrl": "https://lh3.googleusercontent.com/a-/AOh14GiYfmLTPbeMuYDDrETLbTVXTXnfVr9f7eBtkmR73A=s64",
      "userId": "10309320684375994511"
     },
     "user_tz": -60
    },
    "id": "4k5V31MFRmdH",
    "outputId": "fa7662e9-f7fd-4df4-b119-9bee723ceb8f"
   },
   "outputs": [
    {
     "data": {
      "application/vnd.plotly.v1+json": {
       "config": {
        "plotlyServerURL": "https://plot.ly"
       },
       "data": [
        {
         "alignmentgroup": "True",
         "hovertemplate": "measure=%{x}<br>count=%{y}<extra></extra>",
         "legendgroup": "",
         "marker": {
          "color": "#636efa"
         },
         "name": "",
         "offsetgroup": "",
         "orientation": "v",
         "showlegend": false,
         "textposition": "auto",
         "type": "bar",
         "x": [
          "Authors in total (non unique)",
          "Authors with a researcher ID",
          "Authors with a researcher ID (unique)"
         ],
         "xaxis": "x",
         "y": [
          44531,
          36138,
          19565
         ],
         "yaxis": "y"
        }
       ],
       "layout": {
        "autosize": true,
        "barmode": "relative",
        "legend": {
         "tracegroupgap": 0
        },
        "template": {
         "data": {
          "bar": [
           {
            "error_x": {
             "color": "#2a3f5f"
            },
            "error_y": {
             "color": "#2a3f5f"
            },
            "marker": {
             "line": {
              "color": "#E5ECF6",
              "width": 0.5
             }
            },
            "type": "bar"
           }
          ],
          "barpolar": [
           {
            "marker": {
             "line": {
              "color": "#E5ECF6",
              "width": 0.5
             }
            },
            "type": "barpolar"
           }
          ],
          "carpet": [
           {
            "aaxis": {
             "endlinecolor": "#2a3f5f",
             "gridcolor": "white",
             "linecolor": "white",
             "minorgridcolor": "white",
             "startlinecolor": "#2a3f5f"
            },
            "baxis": {
             "endlinecolor": "#2a3f5f",
             "gridcolor": "white",
             "linecolor": "white",
             "minorgridcolor": "white",
             "startlinecolor": "#2a3f5f"
            },
            "type": "carpet"
           }
          ],
          "choropleth": [
           {
            "colorbar": {
             "outlinewidth": 0,
             "ticks": ""
            },
            "type": "choropleth"
           }
          ],
          "contour": [
           {
            "colorbar": {
             "outlinewidth": 0,
             "ticks": ""
            },
            "colorscale": [
             [
              0,
              "#0d0887"
             ],
             [
              0.1111111111111111,
              "#46039f"
             ],
             [
              0.2222222222222222,
              "#7201a8"
             ],
             [
              0.3333333333333333,
              "#9c179e"
             ],
             [
              0.4444444444444444,
              "#bd3786"
             ],
             [
              0.5555555555555556,
              "#d8576b"
             ],
             [
              0.6666666666666666,
              "#ed7953"
             ],
             [
              0.7777777777777778,
              "#fb9f3a"
             ],
             [
              0.8888888888888888,
              "#fdca26"
             ],
             [
              1,
              "#f0f921"
             ]
            ],
            "type": "contour"
           }
          ],
          "contourcarpet": [
           {
            "colorbar": {
             "outlinewidth": 0,
             "ticks": ""
            },
            "type": "contourcarpet"
           }
          ],
          "heatmap": [
           {
            "colorbar": {
             "outlinewidth": 0,
             "ticks": ""
            },
            "colorscale": [
             [
              0,
              "#0d0887"
             ],
             [
              0.1111111111111111,
              "#46039f"
             ],
             [
              0.2222222222222222,
              "#7201a8"
             ],
             [
              0.3333333333333333,
              "#9c179e"
             ],
             [
              0.4444444444444444,
              "#bd3786"
             ],
             [
              0.5555555555555556,
              "#d8576b"
             ],
             [
              0.6666666666666666,
              "#ed7953"
             ],
             [
              0.7777777777777778,
              "#fb9f3a"
             ],
             [
              0.8888888888888888,
              "#fdca26"
             ],
             [
              1,
              "#f0f921"
             ]
            ],
            "type": "heatmap"
           }
          ],
          "heatmapgl": [
           {
            "colorbar": {
             "outlinewidth": 0,
             "ticks": ""
            },
            "colorscale": [
             [
              0,
              "#0d0887"
             ],
             [
              0.1111111111111111,
              "#46039f"
             ],
             [
              0.2222222222222222,
              "#7201a8"
             ],
             [
              0.3333333333333333,
              "#9c179e"
             ],
             [
              0.4444444444444444,
              "#bd3786"
             ],
             [
              0.5555555555555556,
              "#d8576b"
             ],
             [
              0.6666666666666666,
              "#ed7953"
             ],
             [
              0.7777777777777778,
              "#fb9f3a"
             ],
             [
              0.8888888888888888,
              "#fdca26"
             ],
             [
              1,
              "#f0f921"
             ]
            ],
            "type": "heatmapgl"
           }
          ],
          "histogram": [
           {
            "marker": {
             "colorbar": {
              "outlinewidth": 0,
              "ticks": ""
             }
            },
            "type": "histogram"
           }
          ],
          "histogram2d": [
           {
            "colorbar": {
             "outlinewidth": 0,
             "ticks": ""
            },
            "colorscale": [
             [
              0,
              "#0d0887"
             ],
             [
              0.1111111111111111,
              "#46039f"
             ],
             [
              0.2222222222222222,
              "#7201a8"
             ],
             [
              0.3333333333333333,
              "#9c179e"
             ],
             [
              0.4444444444444444,
              "#bd3786"
             ],
             [
              0.5555555555555556,
              "#d8576b"
             ],
             [
              0.6666666666666666,
              "#ed7953"
             ],
             [
              0.7777777777777778,
              "#fb9f3a"
             ],
             [
              0.8888888888888888,
              "#fdca26"
             ],
             [
              1,
              "#f0f921"
             ]
            ],
            "type": "histogram2d"
           }
          ],
          "histogram2dcontour": [
           {
            "colorbar": {
             "outlinewidth": 0,
             "ticks": ""
            },
            "colorscale": [
             [
              0,
              "#0d0887"
             ],
             [
              0.1111111111111111,
              "#46039f"
             ],
             [
              0.2222222222222222,
              "#7201a8"
             ],
             [
              0.3333333333333333,
              "#9c179e"
             ],
             [
              0.4444444444444444,
              "#bd3786"
             ],
             [
              0.5555555555555556,
              "#d8576b"
             ],
             [
              0.6666666666666666,
              "#ed7953"
             ],
             [
              0.7777777777777778,
              "#fb9f3a"
             ],
             [
              0.8888888888888888,
              "#fdca26"
             ],
             [
              1,
              "#f0f921"
             ]
            ],
            "type": "histogram2dcontour"
           }
          ],
          "mesh3d": [
           {
            "colorbar": {
             "outlinewidth": 0,
             "ticks": ""
            },
            "type": "mesh3d"
           }
          ],
          "parcoords": [
           {
            "line": {
             "colorbar": {
              "outlinewidth": 0,
              "ticks": ""
             }
            },
            "type": "parcoords"
           }
          ],
          "pie": [
           {
            "automargin": true,
            "type": "pie"
           }
          ],
          "scatter": [
           {
            "marker": {
             "colorbar": {
              "outlinewidth": 0,
              "ticks": ""
             }
            },
            "type": "scatter"
           }
          ],
          "scatter3d": [
           {
            "line": {
             "colorbar": {
              "outlinewidth": 0,
              "ticks": ""
             }
            },
            "marker": {
             "colorbar": {
              "outlinewidth": 0,
              "ticks": ""
             }
            },
            "type": "scatter3d"
           }
          ],
          "scattercarpet": [
           {
            "marker": {
             "colorbar": {
              "outlinewidth": 0,
              "ticks": ""
             }
            },
            "type": "scattercarpet"
           }
          ],
          "scattergeo": [
           {
            "marker": {
             "colorbar": {
              "outlinewidth": 0,
              "ticks": ""
             }
            },
            "type": "scattergeo"
           }
          ],
          "scattergl": [
           {
            "marker": {
             "colorbar": {
              "outlinewidth": 0,
              "ticks": ""
             }
            },
            "type": "scattergl"
           }
          ],
          "scattermapbox": [
           {
            "marker": {
             "colorbar": {
              "outlinewidth": 0,
              "ticks": ""
             }
            },
            "type": "scattermapbox"
           }
          ],
          "scatterpolar": [
           {
            "marker": {
             "colorbar": {
              "outlinewidth": 0,
              "ticks": ""
             }
            },
            "type": "scatterpolar"
           }
          ],
          "scatterpolargl": [
           {
            "marker": {
             "colorbar": {
              "outlinewidth": 0,
              "ticks": ""
             }
            },
            "type": "scatterpolargl"
           }
          ],
          "scatterternary": [
           {
            "marker": {
             "colorbar": {
              "outlinewidth": 0,
              "ticks": ""
             }
            },
            "type": "scatterternary"
           }
          ],
          "surface": [
           {
            "colorbar": {
             "outlinewidth": 0,
             "ticks": ""
            },
            "colorscale": [
             [
              0,
              "#0d0887"
             ],
             [
              0.1111111111111111,
              "#46039f"
             ],
             [
              0.2222222222222222,
              "#7201a8"
             ],
             [
              0.3333333333333333,
              "#9c179e"
             ],
             [
              0.4444444444444444,
              "#bd3786"
             ],
             [
              0.5555555555555556,
              "#d8576b"
             ],
             [
              0.6666666666666666,
              "#ed7953"
             ],
             [
              0.7777777777777778,
              "#fb9f3a"
             ],
             [
              0.8888888888888888,
              "#fdca26"
             ],
             [
              1,
              "#f0f921"
             ]
            ],
            "type": "surface"
           }
          ],
          "table": [
           {
            "cells": {
             "fill": {
              "color": "#EBF0F8"
             },
             "line": {
              "color": "white"
             }
            },
            "header": {
             "fill": {
              "color": "#C8D4E3"
             },
             "line": {
              "color": "white"
             }
            },
            "type": "table"
           }
          ]
         },
         "layout": {
          "annotationdefaults": {
           "arrowcolor": "#2a3f5f",
           "arrowhead": 0,
           "arrowwidth": 1
          },
          "coloraxis": {
           "colorbar": {
            "outlinewidth": 0,
            "ticks": ""
           }
          },
          "colorscale": {
           "diverging": [
            [
             0,
             "#8e0152"
            ],
            [
             0.1,
             "#c51b7d"
            ],
            [
             0.2,
             "#de77ae"
            ],
            [
             0.3,
             "#f1b6da"
            ],
            [
             0.4,
             "#fde0ef"
            ],
            [
             0.5,
             "#f7f7f7"
            ],
            [
             0.6,
             "#e6f5d0"
            ],
            [
             0.7,
             "#b8e186"
            ],
            [
             0.8,
             "#7fbc41"
            ],
            [
             0.9,
             "#4d9221"
            ],
            [
             1,
             "#276419"
            ]
           ],
           "sequential": [
            [
             0,
             "#0d0887"
            ],
            [
             0.1111111111111111,
             "#46039f"
            ],
            [
             0.2222222222222222,
             "#7201a8"
            ],
            [
             0.3333333333333333,
             "#9c179e"
            ],
            [
             0.4444444444444444,
             "#bd3786"
            ],
            [
             0.5555555555555556,
             "#d8576b"
            ],
            [
             0.6666666666666666,
             "#ed7953"
            ],
            [
             0.7777777777777778,
             "#fb9f3a"
            ],
            [
             0.8888888888888888,
             "#fdca26"
            ],
            [
             1,
             "#f0f921"
            ]
           ],
           "sequentialminus": [
            [
             0,
             "#0d0887"
            ],
            [
             0.1111111111111111,
             "#46039f"
            ],
            [
             0.2222222222222222,
             "#7201a8"
            ],
            [
             0.3333333333333333,
             "#9c179e"
            ],
            [
             0.4444444444444444,
             "#bd3786"
            ],
            [
             0.5555555555555556,
             "#d8576b"
            ],
            [
             0.6666666666666666,
             "#ed7953"
            ],
            [
             0.7777777777777778,
             "#fb9f3a"
            ],
            [
             0.8888888888888888,
             "#fdca26"
            ],
            [
             1,
             "#f0f921"
            ]
           ]
          },
          "colorway": [
           "#636efa",
           "#EF553B",
           "#00cc96",
           "#ab63fa",
           "#FFA15A",
           "#19d3f3",
           "#FF6692",
           "#B6E880",
           "#FF97FF",
           "#FECB52"
          ],
          "font": {
           "color": "#2a3f5f"
          },
          "geo": {
           "bgcolor": "white",
           "lakecolor": "white",
           "landcolor": "#E5ECF6",
           "showlakes": true,
           "showland": true,
           "subunitcolor": "white"
          },
          "hoverlabel": {
           "align": "left"
          },
          "hovermode": "closest",
          "mapbox": {
           "style": "light"
          },
          "paper_bgcolor": "white",
          "plot_bgcolor": "#E5ECF6",
          "polar": {
           "angularaxis": {
            "gridcolor": "white",
            "linecolor": "white",
            "ticks": ""
           },
           "bgcolor": "#E5ECF6",
           "radialaxis": {
            "gridcolor": "white",
            "linecolor": "white",
            "ticks": ""
           }
          },
          "scene": {
           "xaxis": {
            "backgroundcolor": "#E5ECF6",
            "gridcolor": "white",
            "gridwidth": 2,
            "linecolor": "white",
            "showbackground": true,
            "ticks": "",
            "zerolinecolor": "white"
           },
           "yaxis": {
            "backgroundcolor": "#E5ECF6",
            "gridcolor": "white",
            "gridwidth": 2,
            "linecolor": "white",
            "showbackground": true,
            "ticks": "",
            "zerolinecolor": "white"
           },
           "zaxis": {
            "backgroundcolor": "#E5ECF6",
            "gridcolor": "white",
            "gridwidth": 2,
            "linecolor": "white",
            "showbackground": true,
            "ticks": "",
            "zerolinecolor": "white"
           }
          },
          "shapedefaults": {
           "line": {
            "color": "#2a3f5f"
           }
          },
          "ternary": {
           "aaxis": {
            "gridcolor": "white",
            "linecolor": "white",
            "ticks": ""
           },
           "baxis": {
            "gridcolor": "white",
            "linecolor": "white",
            "ticks": ""
           },
           "bgcolor": "#E5ECF6",
           "caxis": {
            "gridcolor": "white",
            "linecolor": "white",
            "ticks": ""
           }
          },
          "title": {
           "x": 0.05
          },
          "xaxis": {
           "automargin": true,
           "gridcolor": "white",
           "linecolor": "white",
           "ticks": "",
           "title": {
            "standoff": 15
           },
           "zerolinecolor": "white",
           "zerolinewidth": 2
          },
          "yaxis": {
           "automargin": true,
           "gridcolor": "white",
           "linecolor": "white",
           "ticks": "",
           "title": {
            "standoff": 15
           },
           "zerolinecolor": "white",
           "zerolinewidth": 2
          }
         }
        },
        "title": {
         "text": "Author stats for Nature Genetics (from 2015)"
        },
        "xaxis": {
         "anchor": "y",
         "autorange": true,
         "domain": [
          0,
          1
         ],
         "range": [
          -0.5,
          2.5
         ],
         "title": {
          "text": "measure"
         },
         "type": "category"
        },
        "yaxis": {
         "anchor": "x",
         "autorange": true,
         "domain": [
          0,
          1
         ],
         "range": [
          0,
          46874.73684210526
         ],
         "title": {
          "text": "count"
         },
         "type": "linear"
        }
       }
      },
      "image/png": "[encoded data removed]",
      "text/html": [
       "<div>                            <div id=\"84d6a232-0769-4e73-b93f-826476b8d444\" class=\"plotly-graph-div\" style=\"height:525px; width:100%;\"></div>            <script type=\"text/javascript\">                require([\"plotly\"], function(Plotly) {                    window.PLOTLYENV=window.PLOTLYENV || {};                                    if (document.getElementById(\"84d6a232-0769-4e73-b93f-826476b8d444\")) {                    Plotly.newPlot(                        \"84d6a232-0769-4e73-b93f-826476b8d444\",                        [{\"alignmentgroup\": \"True\", \"hovertemplate\": \"measure=%{x}<br>count=%{y}<extra></extra>\", \"legendgroup\": \"\", \"marker\": {\"color\": \"#636efa\"}, \"name\": \"\", \"offsetgroup\": \"\", \"orientation\": \"v\", \"showlegend\": false, \"textposition\": \"auto\", \"type\": \"bar\", \"x\": [\"Authors in total (non unique)\", \"Authors with a researcher ID\", \"Authors with a researcher ID (unique)\"], \"xaxis\": \"x\", \"y\": [44531, 36138, 19565], \"yaxis\": \"y\"}],                        {\"barmode\": \"relative\", \"legend\": {\"tracegroupgap\": 0}, \"template\": {\"data\": {\"bar\": [{\"error_x\": {\"color\": \"#2a3f5f\"}, \"error_y\": {\"color\": \"#2a3f5f\"}, \"marker\": {\"line\": {\"color\": \"#E5ECF6\", \"width\": 0.5}}, \"type\": \"bar\"}], \"barpolar\": [{\"marker\": {\"line\": {\"color\": \"#E5ECF6\", \"width\": 0.5}}, \"type\": \"barpolar\"}], \"carpet\": [{\"aaxis\": {\"endlinecolor\": \"#2a3f5f\", \"gridcolor\": \"white\", \"linecolor\": \"white\", \"minorgridcolor\": \"white\", \"startlinecolor\": \"#2a3f5f\"}, \"baxis\": {\"endlinecolor\": \"#2a3f5f\", \"gridcolor\": \"white\", \"linecolor\": \"white\", \"minorgridcolor\": \"white\", \"startlinecolor\": \"#2a3f5f\"}, \"type\": \"carpet\"}], \"choropleth\": [{\"colorbar\": {\"outlinewidth\": 0, \"ticks\": \"\"}, \"type\": \"choropleth\"}], \"contour\": [{\"colorbar\": {\"outlinewidth\": 0, \"ticks\": \"\"}, \"colorscale\": [[0.0, \"#0d0887\"], [0.1111111111111111, \"#46039f\"], [0.2222222222222222, \"#7201a8\"], [0.3333333333333333, \"#9c179e\"], [0.4444444444444444, \"#bd3786\"], [0.5555555555555556, \"#d8576b\"], [0.6666666666666666, \"#ed7953\"], [0.7777777777777778, \"#fb9f3a\"], [0.8888888888888888, \"#fdca26\"], [1.0, \"#f0f921\"]], \"type\": \"contour\"}], \"contourcarpet\": [{\"colorbar\": {\"outlinewidth\": 0, \"ticks\": \"\"}, \"type\": \"contourcarpet\"}], \"heatmap\": [{\"colorbar\": {\"outlinewidth\": 0, \"ticks\": \"\"}, \"colorscale\": [[0.0, \"#0d0887\"], [0.1111111111111111, \"#46039f\"], [0.2222222222222222, \"#7201a8\"], [0.3333333333333333, \"#9c179e\"], [0.4444444444444444, \"#bd3786\"], [0.5555555555555556, \"#d8576b\"], [0.6666666666666666, \"#ed7953\"], [0.7777777777777778, \"#fb9f3a\"], [0.8888888888888888, \"#fdca26\"], [1.0, \"#f0f921\"]], \"type\": \"heatmap\"}], \"heatmapgl\": [{\"colorbar\": {\"outlinewidth\": 0, \"ticks\": \"\"}, \"colorscale\": [[0.0, \"#0d0887\"], [0.1111111111111111, \"#46039f\"], [0.2222222222222222, \"#7201a8\"], [0.3333333333333333, \"#9c179e\"], [0.4444444444444444, \"#bd3786\"], [0.5555555555555556, \"#d8576b\"], [0.6666666666666666, \"#ed7953\"], [0.7777777777777778, \"#fb9f3a\"], [0.8888888888888888, \"#fdca26\"], [1.0, \"#f0f921\"]], \"type\": \"heatmapgl\"}], \"histogram\": [{\"marker\": {\"colorbar\": {\"outlinewidth\": 0, \"ticks\": \"\"}}, \"type\": \"histogram\"}], \"histogram2d\": [{\"colorbar\": {\"outlinewidth\": 0, \"ticks\": \"\"}, \"colorscale\": [[0.0, \"#0d0887\"], [0.1111111111111111, \"#46039f\"], [0.2222222222222222, \"#7201a8\"], [0.3333333333333333, \"#9c179e\"], [0.4444444444444444, \"#bd3786\"], [0.5555555555555556, \"#d8576b\"], [0.6666666666666666, \"#ed7953\"], [0.7777777777777778, \"#fb9f3a\"], [0.8888888888888888, \"#fdca26\"], [1.0, \"#f0f921\"]], \"type\": \"histogram2d\"}], \"histogram2dcontour\": [{\"colorbar\": {\"outlinewidth\": 0, \"ticks\": \"\"}, \"colorscale\": [[0.0, \"#0d0887\"], [0.1111111111111111, \"#46039f\"], [0.2222222222222222, \"#7201a8\"], [0.3333333333333333, \"#9c179e\"], [0.4444444444444444, \"#bd3786\"], [0.5555555555555556, \"#d8576b\"], [0.6666666666666666, \"#ed7953\"], [0.7777777777777778, \"#fb9f3a\"], [0.8888888888888888, \"#fdca26\"], [1.0, \"#f0f921\"]], \"type\": \"histogram2dcontour\"}], \"mesh3d\": [{\"colorbar\": {\"outlinewidth\": 0, \"ticks\": \"\"}, \"type\": \"mesh3d\"}], \"parcoords\": [{\"line\": {\"colorbar\": {\"outlinewidth\": 0, \"ticks\": \"\"}}, \"type\": \"parcoords\"}], \"pie\": [{\"automargin\": true, \"type\": \"pie\"}], \"scatter\": [{\"marker\": {\"colorbar\": {\"outlinewidth\": 0, \"ticks\": \"\"}}, \"type\": \"scatter\"}], \"scatter3d\": [{\"line\": {\"colorbar\": {\"outlinewidth\": 0, \"ticks\": \"\"}}, \"marker\": {\"colorbar\": {\"outlinewidth\": 0, \"ticks\": \"\"}}, \"type\": \"scatter3d\"}], \"scattercarpet\": [{\"marker\": {\"colorbar\": {\"outlinewidth\": 0, \"ticks\": \"\"}}, \"type\": \"scattercarpet\"}], \"scattergeo\": [{\"marker\": {\"colorbar\": {\"outlinewidth\": 0, \"ticks\": \"\"}}, \"type\": \"scattergeo\"}], \"scattergl\": [{\"marker\": {\"colorbar\": {\"outlinewidth\": 0, \"ticks\": \"\"}}, \"type\": \"scattergl\"}], \"scattermapbox\": [{\"marker\": {\"colorbar\": {\"outlinewidth\": 0, \"ticks\": \"\"}}, \"type\": \"scattermapbox\"}], \"scatterpolar\": [{\"marker\": {\"colorbar\": {\"outlinewidth\": 0, \"ticks\": \"\"}}, \"type\": \"scatterpolar\"}], \"scatterpolargl\": [{\"marker\": {\"colorbar\": {\"outlinewidth\": 0, \"ticks\": \"\"}}, \"type\": \"scatterpolargl\"}], \"scatterternary\": [{\"marker\": {\"colorbar\": {\"outlinewidth\": 0, \"ticks\": \"\"}}, \"type\": \"scatterternary\"}], \"surface\": [{\"colorbar\": {\"outlinewidth\": 0, \"ticks\": \"\"}, \"colorscale\": [[0.0, \"#0d0887\"], [0.1111111111111111, \"#46039f\"], [0.2222222222222222, \"#7201a8\"], [0.3333333333333333, \"#9c179e\"], [0.4444444444444444, \"#bd3786\"], [0.5555555555555556, \"#d8576b\"], [0.6666666666666666, \"#ed7953\"], [0.7777777777777778, \"#fb9f3a\"], [0.8888888888888888, \"#fdca26\"], [1.0, \"#f0f921\"]], \"type\": \"surface\"}], \"table\": [{\"cells\": {\"fill\": {\"color\": \"#EBF0F8\"}, \"line\": {\"color\": \"white\"}}, \"header\": {\"fill\": {\"color\": \"#C8D4E3\"}, \"line\": {\"color\": \"white\"}}, \"type\": \"table\"}]}, \"layout\": {\"annotationdefaults\": {\"arrowcolor\": \"#2a3f5f\", \"arrowhead\": 0, \"arrowwidth\": 1}, \"coloraxis\": {\"colorbar\": {\"outlinewidth\": 0, \"ticks\": \"\"}}, \"colorscale\": {\"diverging\": [[0, \"#8e0152\"], [0.1, \"#c51b7d\"], [0.2, \"#de77ae\"], [0.3, \"#f1b6da\"], [0.4, \"#fde0ef\"], [0.5, \"#f7f7f7\"], [0.6, \"#e6f5d0\"], [0.7, \"#b8e186\"], [0.8, \"#7fbc41\"], [0.9, \"#4d9221\"], [1, \"#276419\"]], \"sequential\": [[0.0, \"#0d0887\"], [0.1111111111111111, \"#46039f\"], [0.2222222222222222, \"#7201a8\"], [0.3333333333333333, \"#9c179e\"], [0.4444444444444444, \"#bd3786\"], [0.5555555555555556, \"#d8576b\"], [0.6666666666666666, \"#ed7953\"], [0.7777777777777778, \"#fb9f3a\"], [0.8888888888888888, \"#fdca26\"], [1.0, \"#f0f921\"]], \"sequentialminus\": [[0.0, \"#0d0887\"], [0.1111111111111111, \"#46039f\"], [0.2222222222222222, \"#7201a8\"], [0.3333333333333333, \"#9c179e\"], [0.4444444444444444, \"#bd3786\"], [0.5555555555555556, \"#d8576b\"], [0.6666666666666666, \"#ed7953\"], [0.7777777777777778, \"#fb9f3a\"], [0.8888888888888888, \"#fdca26\"], [1.0, \"#f0f921\"]]}, \"colorway\": [\"#636efa\", \"#EF553B\", \"#00cc96\", \"#ab63fa\", \"#FFA15A\", \"#19d3f3\", \"#FF6692\", \"#B6E880\", \"#FF97FF\", \"#FECB52\"], \"font\": {\"color\": \"#2a3f5f\"}, \"geo\": {\"bgcolor\": \"white\", \"lakecolor\": \"white\", \"landcolor\": \"#E5ECF6\", \"showlakes\": true, \"showland\": true, \"subunitcolor\": \"white\"}, \"hoverlabel\": {\"align\": \"left\"}, \"hovermode\": \"closest\", \"mapbox\": {\"style\": \"light\"}, \"paper_bgcolor\": \"white\", \"plot_bgcolor\": \"#E5ECF6\", \"polar\": {\"angularaxis\": {\"gridcolor\": \"white\", \"linecolor\": \"white\", \"ticks\": \"\"}, \"bgcolor\": \"#E5ECF6\", \"radialaxis\": {\"gridcolor\": \"white\", \"linecolor\": \"white\", \"ticks\": \"\"}}, \"scene\": {\"xaxis\": {\"backgroundcolor\": \"#E5ECF6\", \"gridcolor\": \"white\", \"gridwidth\": 2, \"linecolor\": \"white\", \"showbackground\": true, \"ticks\": \"\", \"zerolinecolor\": \"white\"}, \"yaxis\": {\"backgroundcolor\": \"#E5ECF6\", \"gridcolor\": \"white\", \"gridwidth\": 2, \"linecolor\": \"white\", \"showbackground\": true, \"ticks\": \"\", \"zerolinecolor\": \"white\"}, \"zaxis\": {\"backgroundcolor\": \"#E5ECF6\", \"gridcolor\": \"white\", \"gridwidth\": 2, \"linecolor\": \"white\", \"showbackground\": true, \"ticks\": \"\", \"zerolinecolor\": \"white\"}}, \"shapedefaults\": {\"line\": {\"color\": \"#2a3f5f\"}}, \"ternary\": {\"aaxis\": {\"gridcolor\": \"white\", \"linecolor\": \"white\", \"ticks\": \"\"}, \"baxis\": {\"gridcolor\": \"white\", \"linecolor\": \"white\", \"ticks\": \"\"}, \"bgcolor\": \"#E5ECF6\", \"caxis\": {\"gridcolor\": \"white\", \"linecolor\": \"white\", \"ticks\": \"\"}}, \"title\": {\"x\": 0.05}, \"xaxis\": {\"automargin\": true, \"gridcolor\": \"white\", \"linecolor\": \"white\", \"ticks\": \"\", \"title\": {\"standoff\": 15}, \"zerolinecolor\": \"white\", \"zerolinewidth\": 2}, \"yaxis\": {\"automargin\": true, \"gridcolor\": \"white\", \"linecolor\": \"white\", \"ticks\": \"\", \"title\": {\"standoff\": 15}, \"zerolinecolor\": \"white\", \"zerolinewidth\": 2}}}, \"title\": {\"text\": \"Author stats for Nature Genetics (from 2015)\"}, \"xaxis\": {\"anchor\": \"y\", \"domain\": [0.0, 1.0], \"title\": {\"text\": \"measure\"}}, \"yaxis\": {\"anchor\": \"x\", \"domain\": [0.0, 1.0], \"title\": {\"text\": \"count\"}}},                        {\"responsive\": true}                    ).then(function(){\n",
       "                            \n",
       "var gd = document.getElementById('84d6a232-0769-4e73-b93f-826476b8d444');\n",
       "var x = new MutationObserver(function (mutations, observer) {{\n",
       "        var display = window.getComputedStyle(gd).display;\n",
       "        if (!display || display === 'none') {{\n",
       "            console.log([gd, 'removed!']);\n",
       "            Plotly.purge(gd);\n",
       "            observer.disconnect();\n",
       "        }}\n",
       "}});\n",
       "\n",
       "// Listen for the removal of the full notebook cells\n",
       "var notebookContainer = gd.closest('#notebook-container');\n",
       "if (notebookContainer) {{\n",
       "    x.observe(notebookContainer, {childList: true});\n",
       "}}\n",
       "\n",
       "// Listen for the clearing of the current output cell\n",
       "var outputEl = gd.closest('.output');\n",
       "if (outputEl) {{\n",
       "    x.observe(outputEl, {childList: true});\n",
       "}}\n",
       "\n",
       "                        })                };                });            </script>        </div>"
      ]
     },
     "metadata": {},
     "output_type": "display_data"
    }
   ],
   "source": [
    "researchers = authors.query(\"researcher_id!=''\")\n",
    "#\n",
    "df = pd.DataFrame({\n",
    "    'measure' : ['Authors in total (non unique)', 'Authors with a researcher ID', 'Authors with a researcher ID (unique)'],\n",
    "    'count' : [len(authors), len(researchers), researchers['researcher_id'].nunique()],\n",
    "})\n",
    "px.bar(df, x=\"measure\", y=\"count\", title=f\"Author stats for {journal_title} (from {start_year})\")"
   ]
  },
  {
   "cell_type": "code",
   "execution_count": 25,
   "metadata": {
    "Collapsed": "false",
    "colab": {},
    "colab_type": "code",
    "id": "bs2a6hzBRmdM"
   },
   "outputs": [],
   "source": [
    "# save the researchers data to a file\n",
    "save(researchers, \"1_authors_with_researchers_id.csv\")"
   ]
  },
  {
   "cell_type": "markdown",
   "metadata": {
    "Collapsed": "false",
    "colab_type": "text",
    "id": "fJuPwNoORmdN"
   },
   "source": [
    "## A quick look at authors *without* a Dimensions Researcher ID\n",
    "\n",
    "We're not going to try to disambiguate them here, but still it's good to have a quick look at them... \n",
    "\n",
    "Looks like the most common surname is `Wang`, while the most common first name is an empty value"
   ]
  },
  {
   "cell_type": "code",
   "execution_count": 26,
   "metadata": {
    "Collapsed": "false",
    "colab": {
     "base_uri": "https://localhost:8080/",
     "height": 172
    },
    "colab_type": "code",
    "executionInfo": {
     "elapsed": 9573,
     "status": "ok",
     "timestamp": 1590004336490,
     "user": {
      "displayName": "Michele Pasin",
      "photoUrl": "https://lh3.googleusercontent.com/a-/AOh14GiYfmLTPbeMuYDDrETLbTVXTXnfVr9f7eBtkmR73A=s64",
      "userId": "10309320684375994511"
     },
     "user_tz": -60
    },
    "id": "Zh-u7ZN4RmdO",
    "outputId": "4ab12b2a-dabc-4cf8-f64d-9e85e0e6e086"
   },
   "outputs": [
    {
     "data": {
      "text/html": [
       "<div>\n",
       "<style scoped>\n",
       "    .dataframe tbody tr th:only-of-type {\n",
       "        vertical-align: middle;\n",
       "    }\n",
       "\n",
       "    .dataframe tbody tr th {\n",
       "        vertical-align: top;\n",
       "    }\n",
       "\n",
       "    .dataframe thead th {\n",
       "        text-align: right;\n",
       "    }\n",
       "</style>\n",
       "<table border=\"1\" class=\"dataframe\">\n",
       "  <thead>\n",
       "    <tr style=\"text-align: right;\">\n",
       "      <th></th>\n",
       "      <th>first_name</th>\n",
       "      <th>last_name</th>\n",
       "    </tr>\n",
       "  </thead>\n",
       "  <tbody>\n",
       "    <tr>\n",
       "      <th>count</th>\n",
       "      <td>8393</td>\n",
       "      <td>8393</td>\n",
       "    </tr>\n",
       "    <tr>\n",
       "      <th>unique</th>\n",
       "      <td>3747</td>\n",
       "      <td>3561</td>\n",
       "    </tr>\n",
       "    <tr>\n",
       "      <th>top</th>\n",
       "      <td></td>\n",
       "      <td></td>\n",
       "    </tr>\n",
       "    <tr>\n",
       "      <th>freq</th>\n",
       "      <td>565</td>\n",
       "      <td>464</td>\n",
       "    </tr>\n",
       "  </tbody>\n",
       "</table>\n",
       "</div>"
      ],
      "text/plain": [
       "       first_name last_name\n",
       "count        8393      8393\n",
       "unique       3747      3561\n",
       "top                        \n",
       "freq          565       464"
      ]
     },
     "execution_count": 26,
     "metadata": {},
     "output_type": "execute_result"
    }
   ],
   "source": [
    "authors_without_id = authors.query(\"researcher_id==''\")\n",
    "authors_without_id[['first_name', 'last_name']].describe()"
   ]
  },
  {
   "cell_type": "markdown",
   "metadata": {
    "Collapsed": "false",
    "colab_type": "text",
    "id": "17_9q8y1RmdP"
   },
   "source": [
    "Top ten 'ambiguous' surnames seem to be all Asian.. it's a rather known problem! "
   ]
  },
  {
   "cell_type": "code",
   "execution_count": 27,
   "metadata": {
    "Collapsed": "false",
    "colab": {
     "base_uri": "https://localhost:8080/",
     "height": 204
    },
    "colab_type": "code",
    "executionInfo": {
     "elapsed": 9567,
     "status": "ok",
     "timestamp": 1590004336491,
     "user": {
      "displayName": "Michele Pasin",
      "photoUrl": "https://lh3.googleusercontent.com/a-/AOh14GiYfmLTPbeMuYDDrETLbTVXTXnfVr9f7eBtkmR73A=s64",
      "userId": "10309320684375994511"
     },
     "user_tz": -60
    },
    "id": "IO6R4sRARmdQ",
    "outputId": "9adfea21-5f69-4698-a8b9-e6b9fb2c3e61"
   },
   "outputs": [
    {
     "data": {
      "text/plain": [
       "         464\n",
       "Wang     177\n",
       "Li       145\n",
       "Zhang    143\n",
       "Liu      119\n",
       "Chen     103\n",
       "Yang      65\n",
       "Zhao      61\n",
       "Lee       55\n",
       "Kim       47\n",
       "Name: last_name, dtype: int64"
      ]
     },
     "execution_count": 27,
     "metadata": {},
     "output_type": "execute_result"
    }
   ],
   "source": [
    "authors_without_id['last_name'].value_counts()[:10]"
   ]
  },
  {
   "cell_type": "markdown",
   "metadata": {
    "Collapsed": "false",
    "colab_type": "text",
    "id": "ivhKZPLsRmdS"
   },
   "source": [
    "### Any common patterns? \n",
    "\n",
    "If we try to group the data by name+surname we can see some interesting patterns \n",
    "\n",
    "* some entries are things which are not persons (presumably the results of bad source data in Dimensions, eg from the publisher) \n",
    "* there are some apparently meaningful name+surname combinations with a lot of hits\n",
    "* not many Asian names in the top ones \n",
    "\n"
   ]
  },
  {
   "cell_type": "code",
   "execution_count": 28,
   "metadata": {
    "Collapsed": "false",
    "colab": {
     "base_uri": "https://localhost:8080/",
     "height": 901
    },
    "colab_type": "code",
    "executionInfo": {
     "elapsed": 9563,
     "status": "ok",
     "timestamp": 1590004336491,
     "user": {
      "displayName": "Michele Pasin",
      "photoUrl": "https://lh3.googleusercontent.com/a-/AOh14GiYfmLTPbeMuYDDrETLbTVXTXnfVr9f7eBtkmR73A=s64",
      "userId": "10309320684375994511"
     },
     "user_tz": -60
    },
    "id": "VCkNdlWgRmdS",
    "outputId": "2ec4715d-0dc6-442c-a38a-6e9ef19344b6"
   },
   "outputs": [
    {
     "data": {
      "text/html": [
       "<div>\n",
       "<style scoped>\n",
       "    .dataframe tbody tr th:only-of-type {\n",
       "        vertical-align: middle;\n",
       "    }\n",
       "\n",
       "    .dataframe tbody tr th {\n",
       "        vertical-align: top;\n",
       "    }\n",
       "\n",
       "    .dataframe thead th {\n",
       "        text-align: right;\n",
       "    }\n",
       "</style>\n",
       "<table border=\"1\" class=\"dataframe\">\n",
       "  <thead>\n",
       "    <tr style=\"text-align: right;\">\n",
       "      <th></th>\n",
       "      <th>first_name</th>\n",
       "      <th>last_name</th>\n",
       "      <th>frequency</th>\n",
       "    </tr>\n",
       "  </thead>\n",
       "  <tbody>\n",
       "    <tr>\n",
       "      <th>0</th>\n",
       "      <td></td>\n",
       "      <td></td>\n",
       "      <td>464</td>\n",
       "    </tr>\n",
       "    <tr>\n",
       "      <th>2074</th>\n",
       "      <td>Jaakko</td>\n",
       "      <td>Tuomilehto</td>\n",
       "      <td>13</td>\n",
       "    </tr>\n",
       "    <tr>\n",
       "      <th>2147</th>\n",
       "      <td>James G.</td>\n",
       "      <td>Wilson</td>\n",
       "      <td>12</td>\n",
       "    </tr>\n",
       "    <tr>\n",
       "      <th>5263</th>\n",
       "      <td>Wei</td>\n",
       "      <td>Zhao</td>\n",
       "      <td>12</td>\n",
       "    </tr>\n",
       "    <tr>\n",
       "      <th>2161</th>\n",
       "      <td>James P.</td>\n",
       "      <td>Cook</td>\n",
       "      <td>11</td>\n",
       "    </tr>\n",
       "    <tr>\n",
       "      <th>2385</th>\n",
       "      <td>Jie</td>\n",
       "      <td>Huang</td>\n",
       "      <td>11</td>\n",
       "    </tr>\n",
       "    <tr>\n",
       "      <th>3967</th>\n",
       "      <td>Olle</td>\n",
       "      <td>Melander</td>\n",
       "      <td>11</td>\n",
       "    </tr>\n",
       "    <tr>\n",
       "      <th>672</th>\n",
       "      <td>Brooke</td>\n",
       "      <td>LaFlamme</td>\n",
       "      <td>10</td>\n",
       "    </tr>\n",
       "    <tr>\n",
       "      <th>4228</th>\n",
       "      <td>Qiong</td>\n",
       "      <td>Yang</td>\n",
       "      <td>10</td>\n",
       "    </tr>\n",
       "    <tr>\n",
       "      <th>266</th>\n",
       "      <td>Andre</td>\n",
       "      <td>Franke</td>\n",
       "      <td>9</td>\n",
       "    </tr>\n",
       "    <tr>\n",
       "      <th>1123</th>\n",
       "      <td>Daniela</td>\n",
       "      <td>Toniolo</td>\n",
       "      <td>9</td>\n",
       "    </tr>\n",
       "    <tr>\n",
       "      <th>3010</th>\n",
       "      <td>Lars</td>\n",
       "      <td>Lind</td>\n",
       "      <td>9</td>\n",
       "    </tr>\n",
       "    <tr>\n",
       "      <th>5350</th>\n",
       "      <td>Wolfgang</td>\n",
       "      <td>Lieb</td>\n",
       "      <td>9</td>\n",
       "    </tr>\n",
       "    <tr>\n",
       "      <th>3890</th>\n",
       "      <td>Nicholas G.</td>\n",
       "      <td>Martin</td>\n",
       "      <td>9</td>\n",
       "    </tr>\n",
       "    <tr>\n",
       "      <th>5594</th>\n",
       "      <td>Ying</td>\n",
       "      <td>Wu</td>\n",
       "      <td>9</td>\n",
       "    </tr>\n",
       "    <tr>\n",
       "      <th>75</th>\n",
       "      <td>Aarno</td>\n",
       "      <td>Palotie</td>\n",
       "      <td>8</td>\n",
       "    </tr>\n",
       "    <tr>\n",
       "      <th>4101</th>\n",
       "      <td>Peter</td>\n",
       "      <td>Almgren</td>\n",
       "      <td>8</td>\n",
       "    </tr>\n",
       "    <tr>\n",
       "      <th>150</th>\n",
       "      <td>Albert</td>\n",
       "      <td>Hofman</td>\n",
       "      <td>8</td>\n",
       "    </tr>\n",
       "    <tr>\n",
       "      <th>5161</th>\n",
       "      <td>Tõnu</td>\n",
       "      <td>Esko</td>\n",
       "      <td>8</td>\n",
       "    </tr>\n",
       "    <tr>\n",
       "      <th>4128</th>\n",
       "      <td>Peter</td>\n",
       "      <td>Vollenweider</td>\n",
       "      <td>8</td>\n",
       "    </tr>\n",
       "  </tbody>\n",
       "</table>\n",
       "</div>"
      ],
      "text/plain": [
       "       first_name     last_name  frequency\n",
       "0                                      464\n",
       "2074       Jaakko    Tuomilehto         13\n",
       "2147     James G.        Wilson         12\n",
       "5263          Wei          Zhao         12\n",
       "2161     James P.          Cook         11\n",
       "2385          Jie         Huang         11\n",
       "3967         Olle      Melander         11\n",
       "672        Brooke      LaFlamme         10\n",
       "4228        Qiong          Yang         10\n",
       "266         Andre        Franke          9\n",
       "1123      Daniela       Toniolo          9\n",
       "3010         Lars          Lind          9\n",
       "5350     Wolfgang          Lieb          9\n",
       "3890  Nicholas G.        Martin          9\n",
       "5594         Ying            Wu          9\n",
       "75          Aarno       Palotie          8\n",
       "4101        Peter       Almgren          8\n",
       "150        Albert        Hofman          8\n",
       "5161         Tõnu          Esko          8\n",
       "4128        Peter  Vollenweider          8"
      ]
     },
     "execution_count": 28,
     "metadata": {},
     "output_type": "execute_result"
    }
   ],
   "source": [
    "authors_without_id = authors_without_id.groupby([\"first_name\", \"last_name\"]).size().reset_index().rename(columns={0: \"frequency\"})\n",
    "authors_without_id.sort_values(\"frequency\", ascending=False, inplace=True)\n",
    "authors_without_id.head(20)"
   ]
  },
  {
   "cell_type": "markdown",
   "metadata": {
    "Collapsed": "false",
    "colab_type": "text",
    "id": "dqxFegeLRmdW"
   },
   "source": [
    "### Creating an export for manual curation\n",
    "\n",
    "For the next tasks, we will focus on the disambiguated authors as the Researcher ID links will let us carry out useful analyses.\n",
    "\n",
    "Still, we can **save the authors with missing IDs** results and try to do some manual disambiguation later. To this end, adding a simple google-search URL can help in making sense of these data quickly."
   ]
  },
  {
   "cell_type": "code",
   "execution_count": 29,
   "metadata": {
    "Collapsed": "false",
    "colab": {
     "base_uri": "https://localhost:8080/",
     "height": 508
    },
    "colab_type": "code",
    "executionInfo": {
     "elapsed": 9890,
     "status": "ok",
     "timestamp": 1590004336822,
     "user": {
      "displayName": "Michele Pasin",
      "photoUrl": "https://lh3.googleusercontent.com/a-/AOh14GiYfmLTPbeMuYDDrETLbTVXTXnfVr9f7eBtkmR73A=s64",
      "userId": "10309320684375994511"
     },
     "user_tz": -60
    },
    "id": "cC__pj51RmdW",
    "outputId": "da9b33b0-1cf5-4a3c-9d5e-4c5a95b3fa28"
   },
   "outputs": [
    {
     "data": {
      "text/html": [
       "<div>\n",
       "<style scoped>\n",
       "    .dataframe tbody tr th:only-of-type {\n",
       "        vertical-align: middle;\n",
       "    }\n",
       "\n",
       "    .dataframe tbody tr th {\n",
       "        vertical-align: top;\n",
       "    }\n",
       "\n",
       "    .dataframe thead th {\n",
       "        text-align: right;\n",
       "    }\n",
       "</style>\n",
       "<table border=\"1\" class=\"dataframe\">\n",
       "  <thead>\n",
       "    <tr style=\"text-align: right;\">\n",
       "      <th></th>\n",
       "      <th>first_name</th>\n",
       "      <th>last_name</th>\n",
       "      <th>frequency</th>\n",
       "      <th>search_url</th>\n",
       "    </tr>\n",
       "  </thead>\n",
       "  <tbody>\n",
       "    <tr>\n",
       "      <th>0</th>\n",
       "      <td></td>\n",
       "      <td></td>\n",
       "      <td>464</td>\n",
       "      <td>https://www.google.com/search?q=%20</td>\n",
       "    </tr>\n",
       "    <tr>\n",
       "      <th>2074</th>\n",
       "      <td>Jaakko</td>\n",
       "      <td>Tuomilehto</td>\n",
       "      <td>13</td>\n",
       "      <td>https://www.google.com/search?q=Jaakko%20Tuomi...</td>\n",
       "    </tr>\n",
       "    <tr>\n",
       "      <th>2147</th>\n",
       "      <td>James G.</td>\n",
       "      <td>Wilson</td>\n",
       "      <td>12</td>\n",
       "      <td>https://www.google.com/search?q=James%20G.%20W...</td>\n",
       "    </tr>\n",
       "    <tr>\n",
       "      <th>5263</th>\n",
       "      <td>Wei</td>\n",
       "      <td>Zhao</td>\n",
       "      <td>12</td>\n",
       "      <td>https://www.google.com/search?q=Wei%20Zhao</td>\n",
       "    </tr>\n",
       "    <tr>\n",
       "      <th>2161</th>\n",
       "      <td>James P.</td>\n",
       "      <td>Cook</td>\n",
       "      <td>11</td>\n",
       "      <td>https://www.google.com/search?q=James%20P.%20Cook</td>\n",
       "    </tr>\n",
       "    <tr>\n",
       "      <th>2385</th>\n",
       "      <td>Jie</td>\n",
       "      <td>Huang</td>\n",
       "      <td>11</td>\n",
       "      <td>https://www.google.com/search?q=Jie%20Huang</td>\n",
       "    </tr>\n",
       "    <tr>\n",
       "      <th>3967</th>\n",
       "      <td>Olle</td>\n",
       "      <td>Melander</td>\n",
       "      <td>11</td>\n",
       "      <td>https://www.google.com/search?q=Olle%20Melander</td>\n",
       "    </tr>\n",
       "    <tr>\n",
       "      <th>672</th>\n",
       "      <td>Brooke</td>\n",
       "      <td>LaFlamme</td>\n",
       "      <td>10</td>\n",
       "      <td>https://www.google.com/search?q=Brooke%20LaFlamme</td>\n",
       "    </tr>\n",
       "    <tr>\n",
       "      <th>4228</th>\n",
       "      <td>Qiong</td>\n",
       "      <td>Yang</td>\n",
       "      <td>10</td>\n",
       "      <td>https://www.google.com/search?q=Qiong%20Yang</td>\n",
       "    </tr>\n",
       "    <tr>\n",
       "      <th>266</th>\n",
       "      <td>Andre</td>\n",
       "      <td>Franke</td>\n",
       "      <td>9</td>\n",
       "      <td>https://www.google.com/search?q=Andre%20Franke</td>\n",
       "    </tr>\n",
       "    <tr>\n",
       "      <th>1123</th>\n",
       "      <td>Daniela</td>\n",
       "      <td>Toniolo</td>\n",
       "      <td>9</td>\n",
       "      <td>https://www.google.com/search?q=Daniela%20Toniolo</td>\n",
       "    </tr>\n",
       "    <tr>\n",
       "      <th>3010</th>\n",
       "      <td>Lars</td>\n",
       "      <td>Lind</td>\n",
       "      <td>9</td>\n",
       "      <td>https://www.google.com/search?q=Lars%20Lind</td>\n",
       "    </tr>\n",
       "    <tr>\n",
       "      <th>5350</th>\n",
       "      <td>Wolfgang</td>\n",
       "      <td>Lieb</td>\n",
       "      <td>9</td>\n",
       "      <td>https://www.google.com/search?q=Wolfgang%20Lieb</td>\n",
       "    </tr>\n",
       "    <tr>\n",
       "      <th>3890</th>\n",
       "      <td>Nicholas G.</td>\n",
       "      <td>Martin</td>\n",
       "      <td>9</td>\n",
       "      <td>https://www.google.com/search?q=Nicholas%20G.%...</td>\n",
       "    </tr>\n",
       "    <tr>\n",
       "      <th>5594</th>\n",
       "      <td>Ying</td>\n",
       "      <td>Wu</td>\n",
       "      <td>9</td>\n",
       "      <td>https://www.google.com/search?q=Ying%20Wu</td>\n",
       "    </tr>\n",
       "    <tr>\n",
       "      <th>75</th>\n",
       "      <td>Aarno</td>\n",
       "      <td>Palotie</td>\n",
       "      <td>8</td>\n",
       "      <td>https://www.google.com/search?q=Aarno%20Palotie</td>\n",
       "    </tr>\n",
       "    <tr>\n",
       "      <th>4101</th>\n",
       "      <td>Peter</td>\n",
       "      <td>Almgren</td>\n",
       "      <td>8</td>\n",
       "      <td>https://www.google.com/search?q=Peter%20Almgren</td>\n",
       "    </tr>\n",
       "    <tr>\n",
       "      <th>150</th>\n",
       "      <td>Albert</td>\n",
       "      <td>Hofman</td>\n",
       "      <td>8</td>\n",
       "      <td>https://www.google.com/search?q=Albert%20Hofman</td>\n",
       "    </tr>\n",
       "    <tr>\n",
       "      <th>5161</th>\n",
       "      <td>Tõnu</td>\n",
       "      <td>Esko</td>\n",
       "      <td>8</td>\n",
       "      <td>https://www.google.com/search?q=T%C3%B5nu%20Esko</td>\n",
       "    </tr>\n",
       "    <tr>\n",
       "      <th>4128</th>\n",
       "      <td>Peter</td>\n",
       "      <td>Vollenweider</td>\n",
       "      <td>8</td>\n",
       "      <td>https://www.google.com/search?q=Peter%20Vollen...</td>\n",
       "    </tr>\n",
       "  </tbody>\n",
       "</table>\n",
       "</div>"
      ],
      "text/plain": [
       "       first_name     last_name  frequency  \\\n",
       "0                                      464   \n",
       "2074       Jaakko    Tuomilehto         13   \n",
       "2147     James G.        Wilson         12   \n",
       "5263          Wei          Zhao         12   \n",
       "2161     James P.          Cook         11   \n",
       "2385          Jie         Huang         11   \n",
       "3967         Olle      Melander         11   \n",
       "672        Brooke      LaFlamme         10   \n",
       "4228        Qiong          Yang         10   \n",
       "266         Andre        Franke          9   \n",
       "1123      Daniela       Toniolo          9   \n",
       "3010         Lars          Lind          9   \n",
       "5350     Wolfgang          Lieb          9   \n",
       "3890  Nicholas G.        Martin          9   \n",
       "5594         Ying            Wu          9   \n",
       "75          Aarno       Palotie          8   \n",
       "4101        Peter       Almgren          8   \n",
       "150        Albert        Hofman          8   \n",
       "5161         Tõnu          Esko          8   \n",
       "4128        Peter  Vollenweider          8   \n",
       "\n",
       "                                             search_url  \n",
       "0                   https://www.google.com/search?q=%20  \n",
       "2074  https://www.google.com/search?q=Jaakko%20Tuomi...  \n",
       "2147  https://www.google.com/search?q=James%20G.%20W...  \n",
       "5263         https://www.google.com/search?q=Wei%20Zhao  \n",
       "2161  https://www.google.com/search?q=James%20P.%20Cook  \n",
       "2385        https://www.google.com/search?q=Jie%20Huang  \n",
       "3967    https://www.google.com/search?q=Olle%20Melander  \n",
       "672   https://www.google.com/search?q=Brooke%20LaFlamme  \n",
       "4228       https://www.google.com/search?q=Qiong%20Yang  \n",
       "266      https://www.google.com/search?q=Andre%20Franke  \n",
       "1123  https://www.google.com/search?q=Daniela%20Toniolo  \n",
       "3010        https://www.google.com/search?q=Lars%20Lind  \n",
       "5350    https://www.google.com/search?q=Wolfgang%20Lieb  \n",
       "3890  https://www.google.com/search?q=Nicholas%20G.%...  \n",
       "5594          https://www.google.com/search?q=Ying%20Wu  \n",
       "75      https://www.google.com/search?q=Aarno%20Palotie  \n",
       "4101    https://www.google.com/search?q=Peter%20Almgren  \n",
       "150     https://www.google.com/search?q=Albert%20Hofman  \n",
       "5161   https://www.google.com/search?q=T%C3%B5nu%20Esko  \n",
       "4128  https://www.google.com/search?q=Peter%20Vollen...  "
      ]
     },
     "execution_count": 29,
     "metadata": {},
     "output_type": "execute_result"
    }
   ],
   "source": [
    "from dimcli.shortcuts import google_url\n",
    "\n",
    "authors_without_id['search_url'] = authors_without_id.apply(lambda x: google_url(x['first_name'] + \" \" +x['last_name'] ), axis=1)\n",
    "\n",
    "authors_without_id.head(20)"
   ]
  },
  {
   "cell_type": "code",
   "execution_count": 30,
   "metadata": {
    "Collapsed": "false",
    "colab": {},
    "colab_type": "code",
    "id": "xQFQTOPOWm_T"
   },
   "outputs": [],
   "source": [
    "# save the data\n",
    "save(authors_without_id, \"1_authors_without_researchers_id.csv\")"
   ]
  },
  {
   "cell_type": "markdown",
   "metadata": {
    "Collapsed": "false",
    "colab_type": "text",
    "id": "Y9cYfZJZRmdY"
   },
   "source": [
    "That's it! \n",
    "\n",
    "Now let's go and open this in [Google Sheets](https://docs.google.com/spreadsheets/)..."
   ]
  },
  {
   "cell_type": "code",
   "execution_count": 31,
   "metadata": {
    "Collapsed": "false",
    "colab": {
     "base_uri": "https://localhost:8080/",
     "height": 34
    },
    "colab_type": "code",
    "executionInfo": {
     "elapsed": 9303,
     "status": "ok",
     "timestamp": 1590004531476,
     "user": {
      "displayName": "Michele Pasin",
      "photoUrl": "https://lh3.googleusercontent.com/a-/AOh14GiYfmLTPbeMuYDDrETLbTVXTXnfVr9f7eBtkmR73A=s64",
      "userId": "10309320684375994511"
     },
     "user_tz": -60
    },
    "id": "pt8y3YXAo6EM",
    "outputId": "18b6b189-f5f3-4290-ed40-662184d36525"
   },
   "outputs": [],
   "source": [
    "# for colab users: download everything\n",
    "if COLAB_ENV:\n",
    "    from google.colab import auth\n",
    "    auth.authenticate_user()\n",
    "\n",
    "    import gspread\n",
    "    from gspread_dataframe import get_as_dataframe, set_with_dataframe\n",
    "    from oauth2client.client import GoogleCredentials\n",
    "\n",
    "    gc = gspread.authorize(GoogleCredentials.get_application_default())\n",
    "\n",
    "    title = 'Authors_without_IDs'\n",
    "    sh = gc.create(title)\n",
    "    worksheet = gc.open(title).sheet1\n",
    "    set_with_dataframe(worksheet, authors_without_id)\n",
    "    spreadsheet_url = \"https://docs.google.com/spreadsheets/d/%s\" % sh.id\n",
    "    print(spreadsheet_url)"
   ]
  }
 ],
 "metadata": {
  "colab": {
   "collapsed_sections": [],
   "name": "Journal-Profile-1-Gathering-data.ipynb",
   "provenance": [],
   "toc_visible": true
  },
  "kernelspec": {
   "display_name": "Python 3",
   "language": "python",
   "name": "python3"
  },
  "language_info": {
   "codemirror_mode": {
    "name": "ipython",
    "version": 3
   },
   "file_extension": ".py",
   "mimetype": "text/x-python",
   "name": "python",
   "nbconvert_exporter": "python",
   "pygments_lexer": "ipython3",
   "version": "3.8.5"
  }
 },
 "nbformat": 4,
 "nbformat_minor": 4
}
