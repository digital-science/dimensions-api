{
 "cells": [
  {
   "cell_type": "markdown",
   "metadata": {
    "Collapsed": "false",
    "colab_type": "text",
    "id": "kWem7RVkXcVP"
   },
   "source": [
    "# Journal Profiling Part 4: Institutions\n",
    "\n",
    "This Python notebook shows how to use the [Dimensions Analytics API](https://www.dimensions.ai/dimensions-apis/) to extract information about the authors affiliations data linked to [publications](https://docs.dimensions.ai/dsl/datasource-publications.html) of a specific journal.\n",
    "\n",
    "This tutorial is the fourth of a series that uses the data extracted in order to generate a 'journal profile' report. See the [API Lab homepage](https://api-lab.dimensions.ai/) for the other tutorials in this series.\n",
    "\n",
    "In this notebook we are going to \n",
    "\n",
    "* Load the publications data extracted in part 1\n",
    "* Focus on institutions linked to a journal: measure how often do they appear, how many affiliated authors they have etc..\n",
    "* Build some simple visualizations in order to have a quick overview of the results "
   ]
  },
  {
   "cell_type": "markdown",
   "metadata": {
    "Collapsed": "false",
    "colab_type": "text",
    "id": "Pesu5qAD6J7-"
   },
   "source": [
    "## Prerequisites: Installing the Dimensions Library and Logging in"
   ]
  },
  {
   "cell_type": "code",
   "execution_count": 1,
   "metadata": {
    "Collapsed": "false"
   },
   "outputs": [
    {
     "name": "stdout",
     "output_type": "stream",
     "text": [
      "DimCli v0.6.8.1 - Succesfully connected to <https://app.dimensions.ai> (method: dsl.ini file)\n"
     ]
    },
    {
     "data": {
      "text/html": [
       "        <script type=\"text/javascript\">\n",
       "        window.PlotlyConfig = {MathJaxConfig: 'local'};\n",
       "        if (window.MathJax) {MathJax.Hub.Config({SVG: {font: \"STIX-Web\"}});}\n",
       "        if (typeof require !== 'undefined') {\n",
       "        require.undef(\"plotly\");\n",
       "        requirejs.config({\n",
       "            paths: {\n",
       "                'plotly': ['https://cdn.plot.ly/plotly-latest.min']\n",
       "            }\n",
       "        });\n",
       "        require(['plotly'], function(Plotly) {\n",
       "            window._Plotly = Plotly;\n",
       "        });\n",
       "        }\n",
       "        </script>\n",
       "        "
      ]
     },
     "metadata": {},
     "output_type": "display_data"
    }
   ],
   "source": [
    "\n",
    "# @markdown # Get the API library and login\n",
    "# @markdown Click the 'play' button on the left (or shift+enter) after entering your API credentials\n",
    "\n",
    "username = \"\" #@param {type: \"string\"}\n",
    "password = \"\" #@param {type: \"string\"}\n",
    "endpoint = \"https://app.dimensions.ai\" #@param {type: \"string\"}\n",
    "\n",
    "\n",
    "!pip install dimcli plotly tqdm -U --quiet\n",
    "import dimcli\n",
    "from dimcli.shortcuts import *\n",
    "dimcli.login(username, password, endpoint)\n",
    "dsl = dimcli.Dsl()\n",
    "\n",
    "#\n",
    "# load common libraries\n",
    "import time\n",
    "import sys\n",
    "import os\n",
    "import json\n",
    "import pandas as pd\n",
    "from pandas.io.json import json_normalize\n",
    "from tqdm.notebook import tqdm as progress\n",
    "\n",
    "#\n",
    "# charts libs\n",
    "# import plotly_express as px\n",
    "import plotly.express as px\n",
    "if not 'google.colab' in sys.modules:\n",
    "  # make js dependecies local / needed by html exports\n",
    "  from plotly.offline import init_notebook_mode\n",
    "  init_notebook_mode(connected=True)\n",
    "#\n",
    "# create output data folder\n",
    "FOLDER_NAME = \"journal-profile-data\"\n",
    "if not(os.path.exists(FOLDER_NAME)):\n",
    "    os.mkdir(FOLDER_NAME)\n",
    "    \n",
    "def save(df,filename_dot_csv):\n",
    "    df.to_csv(FOLDER_NAME+\"/\"+filename_dot_csv, index=False)"
   ]
  },
  {
   "cell_type": "markdown",
   "metadata": {
    "Collapsed": "false",
    "colab_type": "text",
    "id": "nARfj0K4tQ3H"
   },
   "source": [
    "## Institutions Contributing to a Journal"
   ]
  },
  {
   "cell_type": "markdown",
   "metadata": {
    "Collapsed": "false",
    "colab_type": "text",
    "id": "yPIROxVftQ3I"
   },
   "source": [
    "From our original publications dataset, we now want to look at institutions i.e. \n",
    "\n",
    "* getting the full list of institutions (also ones without a GRID, for subsequent analysis) linked to the journal\n",
    "* publications count \n",
    "* authors count \n",
    "\n",
    "Let's reload the affiliations data from Part-1 of this tutorial series.\n",
    "\n",
    "**NOTE** If you are using Google Colab or don't have the data available, just grab it [here](https://github.com/digital-science/dimensions-api-lab/tree/master/cookbooks/2-publications/journal-profile-data) and make sure they're saved in a folder called `journal-profile-data` where this notebook is. \n"
   ]
  },
  {
   "cell_type": "code",
   "execution_count": 2,
   "metadata": {
    "Collapsed": "false",
    "colab": {
     "base_uri": "https://localhost:8080/",
     "height": 1000
    },
    "colab_type": "code",
    "executionInfo": {
     "elapsed": 440,
     "status": "ok",
     "timestamp": 1570141836711,
     "user": {
      "displayName": "Michele Pasin",
      "photoUrl": "https://lh3.googleusercontent.com/a-/AAuE7mBu8LVjIGgontF2Wax51BoL5KFx8esezX3bUmaa0g=s64",
      "userId": "10309320684375994511"
     },
     "user_tz": 240
    },
    "id": "ZGv-f_TttQ3K",
    "outputId": "5c13416d-8169-42d5-b090-7989d32ce824"
   },
   "outputs": [
    {
     "data": {
      "text/html": [
       "<div>\n",
       "<style scoped>\n",
       "    .dataframe tbody tr th:only-of-type {\n",
       "        vertical-align: middle;\n",
       "    }\n",
       "\n",
       "    .dataframe tbody tr th {\n",
       "        vertical-align: top;\n",
       "    }\n",
       "\n",
       "    .dataframe thead th {\n",
       "        text-align: right;\n",
       "    }\n",
       "</style>\n",
       "<table border=\"1\" class=\"dataframe\">\n",
       "  <thead>\n",
       "    <tr style=\"text-align: right;\">\n",
       "      <th></th>\n",
       "      <th>aff_id</th>\n",
       "      <th>aff_name</th>\n",
       "      <th>aff_city</th>\n",
       "      <th>aff_city_id</th>\n",
       "      <th>aff_country</th>\n",
       "      <th>aff_country_code</th>\n",
       "      <th>aff_state</th>\n",
       "      <th>aff_state_code</th>\n",
       "      <th>pub_id</th>\n",
       "      <th>researcher_id</th>\n",
       "      <th>first_name</th>\n",
       "      <th>last_name</th>\n",
       "    </tr>\n",
       "  </thead>\n",
       "  <tbody>\n",
       "    <tr>\n",
       "      <th>0</th>\n",
       "      <td>grid.38142.3c</td>\n",
       "      <td>Harvard University</td>\n",
       "      <td>Cambridge</td>\n",
       "      <td>4931972.0</td>\n",
       "      <td>United States</td>\n",
       "      <td>US</td>\n",
       "      <td>Massachusetts</td>\n",
       "      <td>US-MA</td>\n",
       "      <td>pub.1127548497</td>\n",
       "      <td>NaN</td>\n",
       "      <td>Isidro</td>\n",
       "      <td>Cortés-Ciriano</td>\n",
       "    </tr>\n",
       "    <tr>\n",
       "      <th>1</th>\n",
       "      <td>NaN</td>\n",
       "      <td>Ludwig Center at Harvard, Boston, MA, USA</td>\n",
       "      <td>NaN</td>\n",
       "      <td>NaN</td>\n",
       "      <td>NaN</td>\n",
       "      <td>NaN</td>\n",
       "      <td>NaN</td>\n",
       "      <td>NaN</td>\n",
       "      <td>pub.1127548497</td>\n",
       "      <td>NaN</td>\n",
       "      <td>Isidro</td>\n",
       "      <td>Cortés-Ciriano</td>\n",
       "    </tr>\n",
       "    <tr>\n",
       "      <th>2</th>\n",
       "      <td>grid.5335.0</td>\n",
       "      <td>University of Cambridge</td>\n",
       "      <td>Cambridge</td>\n",
       "      <td>2653941.0</td>\n",
       "      <td>United Kingdom</td>\n",
       "      <td>GB</td>\n",
       "      <td>NaN</td>\n",
       "      <td>NaN</td>\n",
       "      <td>pub.1127548497</td>\n",
       "      <td>NaN</td>\n",
       "      <td>Isidro</td>\n",
       "      <td>Cortés-Ciriano</td>\n",
       "    </tr>\n",
       "    <tr>\n",
       "      <th>3</th>\n",
       "      <td>grid.225360.0</td>\n",
       "      <td>European Bioinformatics Institute</td>\n",
       "      <td>Cambridge</td>\n",
       "      <td>2653941.0</td>\n",
       "      <td>United Kingdom</td>\n",
       "      <td>GB</td>\n",
       "      <td>NaN</td>\n",
       "      <td>NaN</td>\n",
       "      <td>pub.1127548497</td>\n",
       "      <td>NaN</td>\n",
       "      <td>Isidro</td>\n",
       "      <td>Cortés-Ciriano</td>\n",
       "    </tr>\n",
       "    <tr>\n",
       "      <th>4</th>\n",
       "      <td>grid.38142.3c</td>\n",
       "      <td>Harvard University</td>\n",
       "      <td>Cambridge</td>\n",
       "      <td>4931972.0</td>\n",
       "      <td>United States</td>\n",
       "      <td>US</td>\n",
       "      <td>Massachusetts</td>\n",
       "      <td>US-MA</td>\n",
       "      <td>pub.1127548497</td>\n",
       "      <td>NaN</td>\n",
       "      <td>Jake June-Koo</td>\n",
       "      <td>Lee</td>\n",
       "    </tr>\n",
       "    <tr>\n",
       "      <th>5</th>\n",
       "      <td>NaN</td>\n",
       "      <td>Ludwig Center at Harvard, Boston, MA, USA</td>\n",
       "      <td>NaN</td>\n",
       "      <td>NaN</td>\n",
       "      <td>NaN</td>\n",
       "      <td>NaN</td>\n",
       "      <td>NaN</td>\n",
       "      <td>NaN</td>\n",
       "      <td>pub.1127548497</td>\n",
       "      <td>NaN</td>\n",
       "      <td>Jake June-Koo</td>\n",
       "      <td>Lee</td>\n",
       "    </tr>\n",
       "    <tr>\n",
       "      <th>6</th>\n",
       "      <td>grid.11135.37</td>\n",
       "      <td>Peking University</td>\n",
       "      <td>Beijing</td>\n",
       "      <td>1816670.0</td>\n",
       "      <td>China</td>\n",
       "      <td>CN</td>\n",
       "      <td>NaN</td>\n",
       "      <td>NaN</td>\n",
       "      <td>pub.1127548497</td>\n",
       "      <td>NaN</td>\n",
       "      <td>Ruibin</td>\n",
       "      <td>Xi</td>\n",
       "    </tr>\n",
       "    <tr>\n",
       "      <th>7</th>\n",
       "      <td>grid.38142.3c</td>\n",
       "      <td>Harvard University</td>\n",
       "      <td>Cambridge</td>\n",
       "      <td>4931972.0</td>\n",
       "      <td>United States</td>\n",
       "      <td>US</td>\n",
       "      <td>Massachusetts</td>\n",
       "      <td>US-MA</td>\n",
       "      <td>pub.1127548497</td>\n",
       "      <td>NaN</td>\n",
       "      <td>Dhawal</td>\n",
       "      <td>Jain</td>\n",
       "    </tr>\n",
       "    <tr>\n",
       "      <th>8</th>\n",
       "      <td>grid.38142.3c</td>\n",
       "      <td>Harvard University</td>\n",
       "      <td>Cambridge</td>\n",
       "      <td>4931972.0</td>\n",
       "      <td>United States</td>\n",
       "      <td>US</td>\n",
       "      <td>Massachusetts</td>\n",
       "      <td>US-MA</td>\n",
       "      <td>pub.1127548497</td>\n",
       "      <td>NaN</td>\n",
       "      <td>Youngsook L.</td>\n",
       "      <td>Jung</td>\n",
       "    </tr>\n",
       "    <tr>\n",
       "      <th>9</th>\n",
       "      <td>NaN</td>\n",
       "      <td>Ben May Department for Cancer Research, Univer...</td>\n",
       "      <td>NaN</td>\n",
       "      <td>NaN</td>\n",
       "      <td>NaN</td>\n",
       "      <td>NaN</td>\n",
       "      <td>NaN</td>\n",
       "      <td>NaN</td>\n",
       "      <td>pub.1127548497</td>\n",
       "      <td>NaN</td>\n",
       "      <td>Lixing</td>\n",
       "      <td>Yang</td>\n",
       "    </tr>\n",
       "  </tbody>\n",
       "</table>\n",
       "</div>"
      ],
      "text/plain": [
       "          aff_id                                           aff_name  \\\n",
       "0  grid.38142.3c                                 Harvard University   \n",
       "1            NaN          Ludwig Center at Harvard, Boston, MA, USA   \n",
       "2    grid.5335.0                            University of Cambridge   \n",
       "3  grid.225360.0                  European Bioinformatics Institute   \n",
       "4  grid.38142.3c                                 Harvard University   \n",
       "5            NaN          Ludwig Center at Harvard, Boston, MA, USA   \n",
       "6  grid.11135.37                                  Peking University   \n",
       "7  grid.38142.3c                                 Harvard University   \n",
       "8  grid.38142.3c                                 Harvard University   \n",
       "9            NaN  Ben May Department for Cancer Research, Univer...   \n",
       "\n",
       "    aff_city  aff_city_id     aff_country aff_country_code      aff_state  \\\n",
       "0  Cambridge    4931972.0   United States               US  Massachusetts   \n",
       "1        NaN          NaN             NaN              NaN            NaN   \n",
       "2  Cambridge    2653941.0  United Kingdom               GB            NaN   \n",
       "3  Cambridge    2653941.0  United Kingdom               GB            NaN   \n",
       "4  Cambridge    4931972.0   United States               US  Massachusetts   \n",
       "5        NaN          NaN             NaN              NaN            NaN   \n",
       "6    Beijing    1816670.0           China               CN            NaN   \n",
       "7  Cambridge    4931972.0   United States               US  Massachusetts   \n",
       "8  Cambridge    4931972.0   United States               US  Massachusetts   \n",
       "9        NaN          NaN             NaN              NaN            NaN   \n",
       "\n",
       "  aff_state_code          pub_id researcher_id     first_name       last_name  \n",
       "0          US-MA  pub.1127548497           NaN         Isidro  Cortés-Ciriano  \n",
       "1            NaN  pub.1127548497           NaN         Isidro  Cortés-Ciriano  \n",
       "2            NaN  pub.1127548497           NaN         Isidro  Cortés-Ciriano  \n",
       "3            NaN  pub.1127548497           NaN         Isidro  Cortés-Ciriano  \n",
       "4          US-MA  pub.1127548497           NaN  Jake June-Koo             Lee  \n",
       "5            NaN  pub.1127548497           NaN  Jake June-Koo             Lee  \n",
       "6            NaN  pub.1127548497           NaN         Ruibin              Xi  \n",
       "7          US-MA  pub.1127548497           NaN         Dhawal            Jain  \n",
       "8          US-MA  pub.1127548497           NaN   Youngsook L.            Jung  \n",
       "9            NaN  pub.1127548497           NaN         Lixing            Yang  "
      ]
     },
     "execution_count": 2,
     "metadata": {},
     "output_type": "execute_result"
    }
   ],
   "source": [
    "affiliations = pd.read_csv(FOLDER_NAME+\"/1_publications_affiliations.csv\")\n",
    "affiliations.head(10)"
   ]
  },
  {
   "cell_type": "markdown",
   "metadata": {
    "Collapsed": "false",
    "colab_type": "text",
    "id": "8Tri9qhoCYH3"
   },
   "source": [
    "## Basic stats about affiliations\n",
    "\n",
    "* count how many affiliations statements in total\n",
    "* count how many affiliations have a GRID ID\n",
    "* count how many unique GRID IDs we have in total"
   ]
  },
  {
   "cell_type": "code",
   "execution_count": 3,
   "metadata": {
    "Collapsed": "false",
    "colab": {},
    "colab_type": "code",
    "id": "0QU8Po_8tQ3_"
   },
   "outputs": [],
   "source": [
    "#\n",
    "# segment the affiliations dataset\n",
    "affiliations = affiliations.fillna('') \n",
    "affiliations_with_grid = affiliations.query(\"aff_id != ''\")\n",
    "affiliations_without_grid = affiliations.query(\"aff_id == ''\")\n",
    "#\n",
    "# save\n",
    "save(affiliations_without_grid, \"4_institutions_without_grid.csv\")"
   ]
  },
  {
   "cell_type": "code",
   "execution_count": 4,
   "metadata": {
    "Collapsed": "false",
    "colab": {
     "base_uri": "https://localhost:8080/",
     "height": 617
    },
    "colab_type": "code",
    "executionInfo": {
     "elapsed": 1977,
     "status": "ok",
     "timestamp": 1570142002838,
     "user": {
      "displayName": "Michele Pasin",
      "photoUrl": "https://lh3.googleusercontent.com/a-/AAuE7mBu8LVjIGgontF2Wax51BoL5KFx8esezX3bUmaa0g=s64",
      "userId": "10309320684375994511"
     },
     "user_tz": 240
    },
    "id": "rsJEcm--tQ4C",
    "outputId": "3521303a-ea56-4638-da07-bfb0121ef950"
   },
   "outputs": [
    {
     "data": {
      "application/vnd.plotly.v1+json": {
       "config": {
        "plotlyServerURL": "https://plot.ly"
       },
       "data": [
        {
         "alignmentgroup": "True",
         "hovertemplate": "measure=%{x}<br>count=%{y}<extra></extra>",
         "legendgroup": "",
         "marker": {
          "color": "#636efa"
         },
         "name": "",
         "offsetgroup": "",
         "orientation": "v",
         "showlegend": false,
         "textposition": "auto",
         "type": "bar",
         "x": [
          "Affiliations in total (non unique)",
          "Affiliations with a GRID ID",
          "Affiliations with a GRID ID (unique)"
         ],
         "xaxis": "x",
         "y": [
          57663,
          52073,
          2582
         ],
         "yaxis": "y"
        }
       ],
       "layout": {
        "autosize": true,
        "barmode": "relative",
        "legend": {
         "tracegroupgap": 0
        },
        "template": {
         "data": {
          "bar": [
           {
            "error_x": {
             "color": "#2a3f5f"
            },
            "error_y": {
             "color": "#2a3f5f"
            },
            "marker": {
             "line": {
              "color": "#E5ECF6",
              "width": 0.5
             }
            },
            "type": "bar"
           }
          ],
          "barpolar": [
           {
            "marker": {
             "line": {
              "color": "#E5ECF6",
              "width": 0.5
             }
            },
            "type": "barpolar"
           }
          ],
          "carpet": [
           {
            "aaxis": {
             "endlinecolor": "#2a3f5f",
             "gridcolor": "white",
             "linecolor": "white",
             "minorgridcolor": "white",
             "startlinecolor": "#2a3f5f"
            },
            "baxis": {
             "endlinecolor": "#2a3f5f",
             "gridcolor": "white",
             "linecolor": "white",
             "minorgridcolor": "white",
             "startlinecolor": "#2a3f5f"
            },
            "type": "carpet"
           }
          ],
          "choropleth": [
           {
            "colorbar": {
             "outlinewidth": 0,
             "ticks": ""
            },
            "type": "choropleth"
           }
          ],
          "contour": [
           {
            "colorbar": {
             "outlinewidth": 0,
             "ticks": ""
            },
            "colorscale": [
             [
              0,
              "#0d0887"
             ],
             [
              0.1111111111111111,
              "#46039f"
             ],
             [
              0.2222222222222222,
              "#7201a8"
             ],
             [
              0.3333333333333333,
              "#9c179e"
             ],
             [
              0.4444444444444444,
              "#bd3786"
             ],
             [
              0.5555555555555556,
              "#d8576b"
             ],
             [
              0.6666666666666666,
              "#ed7953"
             ],
             [
              0.7777777777777778,
              "#fb9f3a"
             ],
             [
              0.8888888888888888,
              "#fdca26"
             ],
             [
              1,
              "#f0f921"
             ]
            ],
            "type": "contour"
           }
          ],
          "contourcarpet": [
           {
            "colorbar": {
             "outlinewidth": 0,
             "ticks": ""
            },
            "type": "contourcarpet"
           }
          ],
          "heatmap": [
           {
            "colorbar": {
             "outlinewidth": 0,
             "ticks": ""
            },
            "colorscale": [
             [
              0,
              "#0d0887"
             ],
             [
              0.1111111111111111,
              "#46039f"
             ],
             [
              0.2222222222222222,
              "#7201a8"
             ],
             [
              0.3333333333333333,
              "#9c179e"
             ],
             [
              0.4444444444444444,
              "#bd3786"
             ],
             [
              0.5555555555555556,
              "#d8576b"
             ],
             [
              0.6666666666666666,
              "#ed7953"
             ],
             [
              0.7777777777777778,
              "#fb9f3a"
             ],
             [
              0.8888888888888888,
              "#fdca26"
             ],
             [
              1,
              "#f0f921"
             ]
            ],
            "type": "heatmap"
           }
          ],
          "heatmapgl": [
           {
            "colorbar": {
             "outlinewidth": 0,
             "ticks": ""
            },
            "colorscale": [
             [
              0,
              "#0d0887"
             ],
             [
              0.1111111111111111,
              "#46039f"
             ],
             [
              0.2222222222222222,
              "#7201a8"
             ],
             [
              0.3333333333333333,
              "#9c179e"
             ],
             [
              0.4444444444444444,
              "#bd3786"
             ],
             [
              0.5555555555555556,
              "#d8576b"
             ],
             [
              0.6666666666666666,
              "#ed7953"
             ],
             [
              0.7777777777777778,
              "#fb9f3a"
             ],
             [
              0.8888888888888888,
              "#fdca26"
             ],
             [
              1,
              "#f0f921"
             ]
            ],
            "type": "heatmapgl"
           }
          ],
          "histogram": [
           {
            "marker": {
             "colorbar": {
              "outlinewidth": 0,
              "ticks": ""
             }
            },
            "type": "histogram"
           }
          ],
          "histogram2d": [
           {
            "colorbar": {
             "outlinewidth": 0,
             "ticks": ""
            },
            "colorscale": [
             [
              0,
              "#0d0887"
             ],
             [
              0.1111111111111111,
              "#46039f"
             ],
             [
              0.2222222222222222,
              "#7201a8"
             ],
             [
              0.3333333333333333,
              "#9c179e"
             ],
             [
              0.4444444444444444,
              "#bd3786"
             ],
             [
              0.5555555555555556,
              "#d8576b"
             ],
             [
              0.6666666666666666,
              "#ed7953"
             ],
             [
              0.7777777777777778,
              "#fb9f3a"
             ],
             [
              0.8888888888888888,
              "#fdca26"
             ],
             [
              1,
              "#f0f921"
             ]
            ],
            "type": "histogram2d"
           }
          ],
          "histogram2dcontour": [
           {
            "colorbar": {
             "outlinewidth": 0,
             "ticks": ""
            },
            "colorscale": [
             [
              0,
              "#0d0887"
             ],
             [
              0.1111111111111111,
              "#46039f"
             ],
             [
              0.2222222222222222,
              "#7201a8"
             ],
             [
              0.3333333333333333,
              "#9c179e"
             ],
             [
              0.4444444444444444,
              "#bd3786"
             ],
             [
              0.5555555555555556,
              "#d8576b"
             ],
             [
              0.6666666666666666,
              "#ed7953"
             ],
             [
              0.7777777777777778,
              "#fb9f3a"
             ],
             [
              0.8888888888888888,
              "#fdca26"
             ],
             [
              1,
              "#f0f921"
             ]
            ],
            "type": "histogram2dcontour"
           }
          ],
          "mesh3d": [
           {
            "colorbar": {
             "outlinewidth": 0,
             "ticks": ""
            },
            "type": "mesh3d"
           }
          ],
          "parcoords": [
           {
            "line": {
             "colorbar": {
              "outlinewidth": 0,
              "ticks": ""
             }
            },
            "type": "parcoords"
           }
          ],
          "pie": [
           {
            "automargin": true,
            "type": "pie"
           }
          ],
          "scatter": [
           {
            "marker": {
             "colorbar": {
              "outlinewidth": 0,
              "ticks": ""
             }
            },
            "type": "scatter"
           }
          ],
          "scatter3d": [
           {
            "line": {
             "colorbar": {
              "outlinewidth": 0,
              "ticks": ""
             }
            },
            "marker": {
             "colorbar": {
              "outlinewidth": 0,
              "ticks": ""
             }
            },
            "type": "scatter3d"
           }
          ],
          "scattercarpet": [
           {
            "marker": {
             "colorbar": {
              "outlinewidth": 0,
              "ticks": ""
             }
            },
            "type": "scattercarpet"
           }
          ],
          "scattergeo": [
           {
            "marker": {
             "colorbar": {
              "outlinewidth": 0,
              "ticks": ""
             }
            },
            "type": "scattergeo"
           }
          ],
          "scattergl": [
           {
            "marker": {
             "colorbar": {
              "outlinewidth": 0,
              "ticks": ""
             }
            },
            "type": "scattergl"
           }
          ],
          "scattermapbox": [
           {
            "marker": {
             "colorbar": {
              "outlinewidth": 0,
              "ticks": ""
             }
            },
            "type": "scattermapbox"
           }
          ],
          "scatterpolar": [
           {
            "marker": {
             "colorbar": {
              "outlinewidth": 0,
              "ticks": ""
             }
            },
            "type": "scatterpolar"
           }
          ],
          "scatterpolargl": [
           {
            "marker": {
             "colorbar": {
              "outlinewidth": 0,
              "ticks": ""
             }
            },
            "type": "scatterpolargl"
           }
          ],
          "scatterternary": [
           {
            "marker": {
             "colorbar": {
              "outlinewidth": 0,
              "ticks": ""
             }
            },
            "type": "scatterternary"
           }
          ],
          "surface": [
           {
            "colorbar": {
             "outlinewidth": 0,
             "ticks": ""
            },
            "colorscale": [
             [
              0,
              "#0d0887"
             ],
             [
              0.1111111111111111,
              "#46039f"
             ],
             [
              0.2222222222222222,
              "#7201a8"
             ],
             [
              0.3333333333333333,
              "#9c179e"
             ],
             [
              0.4444444444444444,
              "#bd3786"
             ],
             [
              0.5555555555555556,
              "#d8576b"
             ],
             [
              0.6666666666666666,
              "#ed7953"
             ],
             [
              0.7777777777777778,
              "#fb9f3a"
             ],
             [
              0.8888888888888888,
              "#fdca26"
             ],
             [
              1,
              "#f0f921"
             ]
            ],
            "type": "surface"
           }
          ],
          "table": [
           {
            "cells": {
             "fill": {
              "color": "#EBF0F8"
             },
             "line": {
              "color": "white"
             }
            },
            "header": {
             "fill": {
              "color": "#C8D4E3"
             },
             "line": {
              "color": "white"
             }
            },
            "type": "table"
           }
          ]
         },
         "layout": {
          "annotationdefaults": {
           "arrowcolor": "#2a3f5f",
           "arrowhead": 0,
           "arrowwidth": 1
          },
          "coloraxis": {
           "colorbar": {
            "outlinewidth": 0,
            "ticks": ""
           }
          },
          "colorscale": {
           "diverging": [
            [
             0,
             "#8e0152"
            ],
            [
             0.1,
             "#c51b7d"
            ],
            [
             0.2,
             "#de77ae"
            ],
            [
             0.3,
             "#f1b6da"
            ],
            [
             0.4,
             "#fde0ef"
            ],
            [
             0.5,
             "#f7f7f7"
            ],
            [
             0.6,
             "#e6f5d0"
            ],
            [
             0.7,
             "#b8e186"
            ],
            [
             0.8,
             "#7fbc41"
            ],
            [
             0.9,
             "#4d9221"
            ],
            [
             1,
             "#276419"
            ]
           ],
           "sequential": [
            [
             0,
             "#0d0887"
            ],
            [
             0.1111111111111111,
             "#46039f"
            ],
            [
             0.2222222222222222,
             "#7201a8"
            ],
            [
             0.3333333333333333,
             "#9c179e"
            ],
            [
             0.4444444444444444,
             "#bd3786"
            ],
            [
             0.5555555555555556,
             "#d8576b"
            ],
            [
             0.6666666666666666,
             "#ed7953"
            ],
            [
             0.7777777777777778,
             "#fb9f3a"
            ],
            [
             0.8888888888888888,
             "#fdca26"
            ],
            [
             1,
             "#f0f921"
            ]
           ],
           "sequentialminus": [
            [
             0,
             "#0d0887"
            ],
            [
             0.1111111111111111,
             "#46039f"
            ],
            [
             0.2222222222222222,
             "#7201a8"
            ],
            [
             0.3333333333333333,
             "#9c179e"
            ],
            [
             0.4444444444444444,
             "#bd3786"
            ],
            [
             0.5555555555555556,
             "#d8576b"
            ],
            [
             0.6666666666666666,
             "#ed7953"
            ],
            [
             0.7777777777777778,
             "#fb9f3a"
            ],
            [
             0.8888888888888888,
             "#fdca26"
            ],
            [
             1,
             "#f0f921"
            ]
           ]
          },
          "colorway": [
           "#636efa",
           "#EF553B",
           "#00cc96",
           "#ab63fa",
           "#FFA15A",
           "#19d3f3",
           "#FF6692",
           "#B6E880",
           "#FF97FF",
           "#FECB52"
          ],
          "font": {
           "color": "#2a3f5f"
          },
          "geo": {
           "bgcolor": "white",
           "lakecolor": "white",
           "landcolor": "#E5ECF6",
           "showlakes": true,
           "showland": true,
           "subunitcolor": "white"
          },
          "hoverlabel": {
           "align": "left"
          },
          "hovermode": "closest",
          "mapbox": {
           "style": "light"
          },
          "paper_bgcolor": "white",
          "plot_bgcolor": "#E5ECF6",
          "polar": {
           "angularaxis": {
            "gridcolor": "white",
            "linecolor": "white",
            "ticks": ""
           },
           "bgcolor": "#E5ECF6",
           "radialaxis": {
            "gridcolor": "white",
            "linecolor": "white",
            "ticks": ""
           }
          },
          "scene": {
           "xaxis": {
            "backgroundcolor": "#E5ECF6",
            "gridcolor": "white",
            "gridwidth": 2,
            "linecolor": "white",
            "showbackground": true,
            "ticks": "",
            "zerolinecolor": "white"
           },
           "yaxis": {
            "backgroundcolor": "#E5ECF6",
            "gridcolor": "white",
            "gridwidth": 2,
            "linecolor": "white",
            "showbackground": true,
            "ticks": "",
            "zerolinecolor": "white"
           },
           "zaxis": {
            "backgroundcolor": "#E5ECF6",
            "gridcolor": "white",
            "gridwidth": 2,
            "linecolor": "white",
            "showbackground": true,
            "ticks": "",
            "zerolinecolor": "white"
           }
          },
          "shapedefaults": {
           "line": {
            "color": "#2a3f5f"
           }
          },
          "ternary": {
           "aaxis": {
            "gridcolor": "white",
            "linecolor": "white",
            "ticks": ""
           },
           "baxis": {
            "gridcolor": "white",
            "linecolor": "white",
            "ticks": ""
           },
           "bgcolor": "#E5ECF6",
           "caxis": {
            "gridcolor": "white",
            "linecolor": "white",
            "ticks": ""
           }
          },
          "title": {
           "x": 0.05
          },
          "xaxis": {
           "automargin": true,
           "gridcolor": "white",
           "linecolor": "white",
           "ticks": "",
           "title": {
            "standoff": 15
           },
           "zerolinecolor": "white",
           "zerolinewidth": 2
          },
          "yaxis": {
           "automargin": true,
           "gridcolor": "white",
           "linecolor": "white",
           "ticks": "",
           "title": {
            "standoff": 15
           },
           "zerolinecolor": "white",
           "zerolinewidth": 2
          }
         }
        },
        "title": {
         "text": "Affiliations stats"
        },
        "xaxis": {
         "anchor": "y",
         "autorange": true,
         "domain": [
          0,
          1
         ],
         "range": [
          -0.5,
          2.5
         ],
         "title": {
          "text": "measure"
         },
         "type": "category"
        },
        "yaxis": {
         "anchor": "x",
         "autorange": true,
         "domain": [
          0,
          1
         ],
         "range": [
          0,
          60697.89473684211
         ],
         "title": {
          "text": "count"
         },
         "type": "linear"
        }
       }
      },
      "image/png": "[encoded data removed]",
      "text/html": [
       "<div>\n",
       "        \n",
       "        \n",
       "            <div id=\"3dc8b208-d4f1-41da-a1c0-546708eae230\" class=\"plotly-graph-div\" style=\"height:525px; width:100%;\"></div>\n",
       "            <script type=\"text/javascript\">\n",
       "                require([\"plotly\"], function(Plotly) {\n",
       "                    window.PLOTLYENV=window.PLOTLYENV || {};\n",
       "                    \n",
       "                if (document.getElementById(\"3dc8b208-d4f1-41da-a1c0-546708eae230\")) {\n",
       "                    Plotly.newPlot(\n",
       "                        '3dc8b208-d4f1-41da-a1c0-546708eae230',\n",
       "                        [{\"alignmentgroup\": \"True\", \"hovertemplate\": \"measure=%{x}<br>count=%{y}<extra></extra>\", \"legendgroup\": \"\", \"marker\": {\"color\": \"#636efa\"}, \"name\": \"\", \"offsetgroup\": \"\", \"orientation\": \"v\", \"showlegend\": false, \"textposition\": \"auto\", \"type\": \"bar\", \"x\": [\"Affiliations in total (non unique)\", \"Affiliations with a GRID ID\", \"Affiliations with a GRID ID (unique)\"], \"xaxis\": \"x\", \"y\": [57663, 52073, 2582], \"yaxis\": \"y\"}],\n",
       "                        {\"barmode\": \"relative\", \"legend\": {\"tracegroupgap\": 0}, \"template\": {\"data\": {\"bar\": [{\"error_x\": {\"color\": \"#2a3f5f\"}, \"error_y\": {\"color\": \"#2a3f5f\"}, \"marker\": {\"line\": {\"color\": \"#E5ECF6\", \"width\": 0.5}}, \"type\": \"bar\"}], \"barpolar\": [{\"marker\": {\"line\": {\"color\": \"#E5ECF6\", \"width\": 0.5}}, \"type\": \"barpolar\"}], \"carpet\": [{\"aaxis\": {\"endlinecolor\": \"#2a3f5f\", \"gridcolor\": \"white\", \"linecolor\": \"white\", \"minorgridcolor\": \"white\", \"startlinecolor\": \"#2a3f5f\"}, \"baxis\": {\"endlinecolor\": \"#2a3f5f\", \"gridcolor\": \"white\", \"linecolor\": \"white\", \"minorgridcolor\": \"white\", \"startlinecolor\": \"#2a3f5f\"}, \"type\": \"carpet\"}], \"choropleth\": [{\"colorbar\": {\"outlinewidth\": 0, \"ticks\": \"\"}, \"type\": \"choropleth\"}], \"contour\": [{\"colorbar\": {\"outlinewidth\": 0, \"ticks\": \"\"}, \"colorscale\": [[0.0, \"#0d0887\"], [0.1111111111111111, \"#46039f\"], [0.2222222222222222, \"#7201a8\"], [0.3333333333333333, \"#9c179e\"], [0.4444444444444444, \"#bd3786\"], [0.5555555555555556, \"#d8576b\"], [0.6666666666666666, \"#ed7953\"], [0.7777777777777778, \"#fb9f3a\"], [0.8888888888888888, \"#fdca26\"], [1.0, \"#f0f921\"]], \"type\": \"contour\"}], \"contourcarpet\": [{\"colorbar\": {\"outlinewidth\": 0, \"ticks\": \"\"}, \"type\": \"contourcarpet\"}], \"heatmap\": [{\"colorbar\": {\"outlinewidth\": 0, \"ticks\": \"\"}, \"colorscale\": [[0.0, \"#0d0887\"], [0.1111111111111111, \"#46039f\"], [0.2222222222222222, \"#7201a8\"], [0.3333333333333333, \"#9c179e\"], [0.4444444444444444, \"#bd3786\"], [0.5555555555555556, \"#d8576b\"], [0.6666666666666666, \"#ed7953\"], [0.7777777777777778, \"#fb9f3a\"], [0.8888888888888888, \"#fdca26\"], [1.0, \"#f0f921\"]], \"type\": \"heatmap\"}], \"heatmapgl\": [{\"colorbar\": {\"outlinewidth\": 0, \"ticks\": \"\"}, \"colorscale\": [[0.0, \"#0d0887\"], [0.1111111111111111, \"#46039f\"], [0.2222222222222222, \"#7201a8\"], [0.3333333333333333, \"#9c179e\"], [0.4444444444444444, \"#bd3786\"], [0.5555555555555556, \"#d8576b\"], [0.6666666666666666, \"#ed7953\"], [0.7777777777777778, \"#fb9f3a\"], [0.8888888888888888, \"#fdca26\"], [1.0, \"#f0f921\"]], \"type\": \"heatmapgl\"}], \"histogram\": [{\"marker\": {\"colorbar\": {\"outlinewidth\": 0, \"ticks\": \"\"}}, \"type\": \"histogram\"}], \"histogram2d\": [{\"colorbar\": {\"outlinewidth\": 0, \"ticks\": \"\"}, \"colorscale\": [[0.0, \"#0d0887\"], [0.1111111111111111, \"#46039f\"], [0.2222222222222222, \"#7201a8\"], [0.3333333333333333, \"#9c179e\"], [0.4444444444444444, \"#bd3786\"], [0.5555555555555556, \"#d8576b\"], [0.6666666666666666, \"#ed7953\"], [0.7777777777777778, \"#fb9f3a\"], [0.8888888888888888, \"#fdca26\"], [1.0, \"#f0f921\"]], \"type\": \"histogram2d\"}], \"histogram2dcontour\": [{\"colorbar\": {\"outlinewidth\": 0, \"ticks\": \"\"}, \"colorscale\": [[0.0, \"#0d0887\"], [0.1111111111111111, \"#46039f\"], [0.2222222222222222, \"#7201a8\"], [0.3333333333333333, \"#9c179e\"], [0.4444444444444444, \"#bd3786\"], [0.5555555555555556, \"#d8576b\"], [0.6666666666666666, \"#ed7953\"], [0.7777777777777778, \"#fb9f3a\"], [0.8888888888888888, \"#fdca26\"], [1.0, \"#f0f921\"]], \"type\": \"histogram2dcontour\"}], \"mesh3d\": [{\"colorbar\": {\"outlinewidth\": 0, \"ticks\": \"\"}, \"type\": \"mesh3d\"}], \"parcoords\": [{\"line\": {\"colorbar\": {\"outlinewidth\": 0, \"ticks\": \"\"}}, \"type\": \"parcoords\"}], \"pie\": [{\"automargin\": true, \"type\": \"pie\"}], \"scatter\": [{\"marker\": {\"colorbar\": {\"outlinewidth\": 0, \"ticks\": \"\"}}, \"type\": \"scatter\"}], \"scatter3d\": [{\"line\": {\"colorbar\": {\"outlinewidth\": 0, \"ticks\": \"\"}}, \"marker\": {\"colorbar\": {\"outlinewidth\": 0, \"ticks\": \"\"}}, \"type\": \"scatter3d\"}], \"scattercarpet\": [{\"marker\": {\"colorbar\": {\"outlinewidth\": 0, \"ticks\": \"\"}}, \"type\": \"scattercarpet\"}], \"scattergeo\": [{\"marker\": {\"colorbar\": {\"outlinewidth\": 0, \"ticks\": \"\"}}, \"type\": \"scattergeo\"}], \"scattergl\": [{\"marker\": {\"colorbar\": {\"outlinewidth\": 0, \"ticks\": \"\"}}, \"type\": \"scattergl\"}], \"scattermapbox\": [{\"marker\": {\"colorbar\": {\"outlinewidth\": 0, \"ticks\": \"\"}}, \"type\": \"scattermapbox\"}], \"scatterpolar\": [{\"marker\": {\"colorbar\": {\"outlinewidth\": 0, \"ticks\": \"\"}}, \"type\": \"scatterpolar\"}], \"scatterpolargl\": [{\"marker\": {\"colorbar\": {\"outlinewidth\": 0, \"ticks\": \"\"}}, \"type\": \"scatterpolargl\"}], \"scatterternary\": [{\"marker\": {\"colorbar\": {\"outlinewidth\": 0, \"ticks\": \"\"}}, \"type\": \"scatterternary\"}], \"surface\": [{\"colorbar\": {\"outlinewidth\": 0, \"ticks\": \"\"}, \"colorscale\": [[0.0, \"#0d0887\"], [0.1111111111111111, \"#46039f\"], [0.2222222222222222, \"#7201a8\"], [0.3333333333333333, \"#9c179e\"], [0.4444444444444444, \"#bd3786\"], [0.5555555555555556, \"#d8576b\"], [0.6666666666666666, \"#ed7953\"], [0.7777777777777778, \"#fb9f3a\"], [0.8888888888888888, \"#fdca26\"], [1.0, \"#f0f921\"]], \"type\": \"surface\"}], \"table\": [{\"cells\": {\"fill\": {\"color\": \"#EBF0F8\"}, \"line\": {\"color\": \"white\"}}, \"header\": {\"fill\": {\"color\": \"#C8D4E3\"}, \"line\": {\"color\": \"white\"}}, \"type\": \"table\"}]}, \"layout\": {\"annotationdefaults\": {\"arrowcolor\": \"#2a3f5f\", \"arrowhead\": 0, \"arrowwidth\": 1}, \"coloraxis\": {\"colorbar\": {\"outlinewidth\": 0, \"ticks\": \"\"}}, \"colorscale\": {\"diverging\": [[0, \"#8e0152\"], [0.1, \"#c51b7d\"], [0.2, \"#de77ae\"], [0.3, \"#f1b6da\"], [0.4, \"#fde0ef\"], [0.5, \"#f7f7f7\"], [0.6, \"#e6f5d0\"], [0.7, \"#b8e186\"], [0.8, \"#7fbc41\"], [0.9, \"#4d9221\"], [1, \"#276419\"]], \"sequential\": [[0.0, \"#0d0887\"], [0.1111111111111111, \"#46039f\"], [0.2222222222222222, \"#7201a8\"], [0.3333333333333333, \"#9c179e\"], [0.4444444444444444, \"#bd3786\"], [0.5555555555555556, \"#d8576b\"], [0.6666666666666666, \"#ed7953\"], [0.7777777777777778, \"#fb9f3a\"], [0.8888888888888888, \"#fdca26\"], [1.0, \"#f0f921\"]], \"sequentialminus\": [[0.0, \"#0d0887\"], [0.1111111111111111, \"#46039f\"], [0.2222222222222222, \"#7201a8\"], [0.3333333333333333, \"#9c179e\"], [0.4444444444444444, \"#bd3786\"], [0.5555555555555556, \"#d8576b\"], [0.6666666666666666, \"#ed7953\"], [0.7777777777777778, \"#fb9f3a\"], [0.8888888888888888, \"#fdca26\"], [1.0, \"#f0f921\"]]}, \"colorway\": [\"#636efa\", \"#EF553B\", \"#00cc96\", \"#ab63fa\", \"#FFA15A\", \"#19d3f3\", \"#FF6692\", \"#B6E880\", \"#FF97FF\", \"#FECB52\"], \"font\": {\"color\": \"#2a3f5f\"}, \"geo\": {\"bgcolor\": \"white\", \"lakecolor\": \"white\", \"landcolor\": \"#E5ECF6\", \"showlakes\": true, \"showland\": true, \"subunitcolor\": \"white\"}, \"hoverlabel\": {\"align\": \"left\"}, \"hovermode\": \"closest\", \"mapbox\": {\"style\": \"light\"}, \"paper_bgcolor\": \"white\", \"plot_bgcolor\": \"#E5ECF6\", \"polar\": {\"angularaxis\": {\"gridcolor\": \"white\", \"linecolor\": \"white\", \"ticks\": \"\"}, \"bgcolor\": \"#E5ECF6\", \"radialaxis\": {\"gridcolor\": \"white\", \"linecolor\": \"white\", \"ticks\": \"\"}}, \"scene\": {\"xaxis\": {\"backgroundcolor\": \"#E5ECF6\", \"gridcolor\": \"white\", \"gridwidth\": 2, \"linecolor\": \"white\", \"showbackground\": true, \"ticks\": \"\", \"zerolinecolor\": \"white\"}, \"yaxis\": {\"backgroundcolor\": \"#E5ECF6\", \"gridcolor\": \"white\", \"gridwidth\": 2, \"linecolor\": \"white\", \"showbackground\": true, \"ticks\": \"\", \"zerolinecolor\": \"white\"}, \"zaxis\": {\"backgroundcolor\": \"#E5ECF6\", \"gridcolor\": \"white\", \"gridwidth\": 2, \"linecolor\": \"white\", \"showbackground\": true, \"ticks\": \"\", \"zerolinecolor\": \"white\"}}, \"shapedefaults\": {\"line\": {\"color\": \"#2a3f5f\"}}, \"ternary\": {\"aaxis\": {\"gridcolor\": \"white\", \"linecolor\": \"white\", \"ticks\": \"\"}, \"baxis\": {\"gridcolor\": \"white\", \"linecolor\": \"white\", \"ticks\": \"\"}, \"bgcolor\": \"#E5ECF6\", \"caxis\": {\"gridcolor\": \"white\", \"linecolor\": \"white\", \"ticks\": \"\"}}, \"title\": {\"x\": 0.05}, \"xaxis\": {\"automargin\": true, \"gridcolor\": \"white\", \"linecolor\": \"white\", \"ticks\": \"\", \"title\": {\"standoff\": 15}, \"zerolinecolor\": \"white\", \"zerolinewidth\": 2}, \"yaxis\": {\"automargin\": true, \"gridcolor\": \"white\", \"linecolor\": \"white\", \"ticks\": \"\", \"title\": {\"standoff\": 15}, \"zerolinecolor\": \"white\", \"zerolinewidth\": 2}}}, \"title\": {\"text\": \"Affiliations stats\"}, \"xaxis\": {\"anchor\": \"y\", \"domain\": [0.0, 1.0], \"title\": {\"text\": \"measure\"}}, \"yaxis\": {\"anchor\": \"x\", \"domain\": [0.0, 1.0], \"title\": {\"text\": \"count\"}}},\n",
       "                        {\"responsive\": true}\n",
       "                    ).then(function(){\n",
       "                            \n",
       "var gd = document.getElementById('3dc8b208-d4f1-41da-a1c0-546708eae230');\n",
       "var x = new MutationObserver(function (mutations, observer) {{\n",
       "        var display = window.getComputedStyle(gd).display;\n",
       "        if (!display || display === 'none') {{\n",
       "            console.log([gd, 'removed!']);\n",
       "            Plotly.purge(gd);\n",
       "            observer.disconnect();\n",
       "        }}\n",
       "}});\n",
       "\n",
       "// Listen for the removal of the full notebook cells\n",
       "var notebookContainer = gd.closest('#notebook-container');\n",
       "if (notebookContainer) {{\n",
       "    x.observe(notebookContainer, {childList: true});\n",
       "}}\n",
       "\n",
       "// Listen for the clearing of the current output cell\n",
       "var outputEl = gd.closest('.output');\n",
       "if (outputEl) {{\n",
       "    x.observe(outputEl, {childList: true});\n",
       "}}\n",
       "\n",
       "                        })\n",
       "                };\n",
       "                });\n",
       "            </script>\n",
       "        </div>"
      ]
     },
     "metadata": {},
     "output_type": "display_data"
    }
   ],
   "source": [
    "# build a summary barchart\n",
    "\n",
    "df = pd.DataFrame({\n",
    "    'measure' : ['Affiliations in total (non unique)', 'Affiliations with a GRID ID', 'Affiliations with a GRID ID (unique)'],\n",
    "    'count' : [len(affiliations), len(affiliations_with_grid), affiliations_with_grid['aff_id'].nunique()],\n",
    "})\n",
    "px.bar(df, x=\"measure\", y=\"count\", title=f\"Affiliations stats\")"
   ]
  },
  {
   "cell_type": "markdown",
   "metadata": {
    "Collapsed": "false",
    "colab_type": "text",
    "id": "VTMALLBctQ4E"
   },
   "source": [
    "## Enriching the unique affiliations (GRIDs list) with pubs count and authors count"
   ]
  },
  {
   "cell_type": "markdown",
   "metadata": {
    "Collapsed": "false",
    "colab_type": "text",
    "id": "lWY0RAxjtQ4F"
   },
   "source": [
    "We want a table with the following columns \n",
    "\n",
    "* grid ID\n",
    "* city\n",
    "* country\n",
    "* country code\n",
    "* name\n",
    "* tot_pubs\n",
    "* tot_affiliations\n",
    "\n",
    "NOTE: tot_affiliations is a list of 'authorships' (ie authors in the context of each publication). \n",
    "\n",
    "For out analysis we can start from the `gridaffiliations` dataframe. "
   ]
  },
  {
   "cell_type": "code",
   "execution_count": 5,
   "metadata": {
    "Collapsed": "false",
    "colab": {
     "base_uri": "https://localhost:8080/",
     "height": 193
    },
    "colab_type": "code",
    "executionInfo": {
     "elapsed": 414,
     "status": "ok",
     "timestamp": 1570142063629,
     "user": {
      "displayName": "Michele Pasin",
      "photoUrl": "https://lh3.googleusercontent.com/a-/AAuE7mBu8LVjIGgontF2Wax51BoL5KFx8esezX3bUmaa0g=s64",
      "userId": "10309320684375994511"
     },
     "user_tz": 240
    },
    "id": "Z62QkRGdtQ4H",
    "outputId": "35afbbe4-bbb3-4ea2-8ef1-f78e164de038"
   },
   "outputs": [
    {
     "data": {
      "text/html": [
       "<div>\n",
       "<style scoped>\n",
       "    .dataframe tbody tr th:only-of-type {\n",
       "        vertical-align: middle;\n",
       "    }\n",
       "\n",
       "    .dataframe tbody tr th {\n",
       "        vertical-align: top;\n",
       "    }\n",
       "\n",
       "    .dataframe thead th {\n",
       "        text-align: right;\n",
       "    }\n",
       "</style>\n",
       "<table border=\"1\" class=\"dataframe\">\n",
       "  <thead>\n",
       "    <tr style=\"text-align: right;\">\n",
       "      <th></th>\n",
       "      <th>aff_id</th>\n",
       "      <th>aff_name</th>\n",
       "      <th>aff_city</th>\n",
       "      <th>aff_city_id</th>\n",
       "      <th>aff_country</th>\n",
       "      <th>aff_country_code</th>\n",
       "      <th>aff_state</th>\n",
       "      <th>aff_state_code</th>\n",
       "      <th>pub_id</th>\n",
       "      <th>researcher_id</th>\n",
       "      <th>first_name</th>\n",
       "      <th>last_name</th>\n",
       "    </tr>\n",
       "  </thead>\n",
       "  <tbody>\n",
       "    <tr>\n",
       "      <th>0</th>\n",
       "      <td>grid.38142.3c</td>\n",
       "      <td>Harvard University</td>\n",
       "      <td>Cambridge</td>\n",
       "      <td>4.93197e+06</td>\n",
       "      <td>United States</td>\n",
       "      <td>US</td>\n",
       "      <td>Massachusetts</td>\n",
       "      <td>US-MA</td>\n",
       "      <td>pub.1127548497</td>\n",
       "      <td></td>\n",
       "      <td>Isidro</td>\n",
       "      <td>Cortés-Ciriano</td>\n",
       "    </tr>\n",
       "    <tr>\n",
       "      <th>2</th>\n",
       "      <td>grid.5335.0</td>\n",
       "      <td>University of Cambridge</td>\n",
       "      <td>Cambridge</td>\n",
       "      <td>2.65394e+06</td>\n",
       "      <td>United Kingdom</td>\n",
       "      <td>GB</td>\n",
       "      <td></td>\n",
       "      <td></td>\n",
       "      <td>pub.1127548497</td>\n",
       "      <td></td>\n",
       "      <td>Isidro</td>\n",
       "      <td>Cortés-Ciriano</td>\n",
       "    </tr>\n",
       "    <tr>\n",
       "      <th>3</th>\n",
       "      <td>grid.225360.0</td>\n",
       "      <td>European Bioinformatics Institute</td>\n",
       "      <td>Cambridge</td>\n",
       "      <td>2.65394e+06</td>\n",
       "      <td>United Kingdom</td>\n",
       "      <td>GB</td>\n",
       "      <td></td>\n",
       "      <td></td>\n",
       "      <td>pub.1127548497</td>\n",
       "      <td></td>\n",
       "      <td>Isidro</td>\n",
       "      <td>Cortés-Ciriano</td>\n",
       "    </tr>\n",
       "    <tr>\n",
       "      <th>4</th>\n",
       "      <td>grid.38142.3c</td>\n",
       "      <td>Harvard University</td>\n",
       "      <td>Cambridge</td>\n",
       "      <td>4.93197e+06</td>\n",
       "      <td>United States</td>\n",
       "      <td>US</td>\n",
       "      <td>Massachusetts</td>\n",
       "      <td>US-MA</td>\n",
       "      <td>pub.1127548497</td>\n",
       "      <td></td>\n",
       "      <td>Jake June-Koo</td>\n",
       "      <td>Lee</td>\n",
       "    </tr>\n",
       "    <tr>\n",
       "      <th>6</th>\n",
       "      <td>grid.11135.37</td>\n",
       "      <td>Peking University</td>\n",
       "      <td>Beijing</td>\n",
       "      <td>1.81667e+06</td>\n",
       "      <td>China</td>\n",
       "      <td>CN</td>\n",
       "      <td></td>\n",
       "      <td></td>\n",
       "      <td>pub.1127548497</td>\n",
       "      <td></td>\n",
       "      <td>Ruibin</td>\n",
       "      <td>Xi</td>\n",
       "    </tr>\n",
       "  </tbody>\n",
       "</table>\n",
       "</div>"
      ],
      "text/plain": [
       "          aff_id                           aff_name   aff_city  aff_city_id  \\\n",
       "0  grid.38142.3c                 Harvard University  Cambridge  4.93197e+06   \n",
       "2    grid.5335.0            University of Cambridge  Cambridge  2.65394e+06   \n",
       "3  grid.225360.0  European Bioinformatics Institute  Cambridge  2.65394e+06   \n",
       "4  grid.38142.3c                 Harvard University  Cambridge  4.93197e+06   \n",
       "6  grid.11135.37                  Peking University    Beijing  1.81667e+06   \n",
       "\n",
       "      aff_country aff_country_code      aff_state aff_state_code  \\\n",
       "0   United States               US  Massachusetts          US-MA   \n",
       "2  United Kingdom               GB                                 \n",
       "3  United Kingdom               GB                                 \n",
       "4   United States               US  Massachusetts          US-MA   \n",
       "6           China               CN                                 \n",
       "\n",
       "           pub_id researcher_id     first_name       last_name  \n",
       "0  pub.1127548497                       Isidro  Cortés-Ciriano  \n",
       "2  pub.1127548497                       Isidro  Cortés-Ciriano  \n",
       "3  pub.1127548497                       Isidro  Cortés-Ciriano  \n",
       "4  pub.1127548497                Jake June-Koo             Lee  \n",
       "6  pub.1127548497                       Ruibin              Xi  "
      ]
     },
     "execution_count": 5,
     "metadata": {},
     "output_type": "execute_result"
    }
   ],
   "source": [
    "affiliations_with_grid.head(5)"
   ]
  },
  {
   "cell_type": "code",
   "execution_count": 6,
   "metadata": {
    "Collapsed": "false",
    "colab": {
     "base_uri": "https://localhost:8080/",
     "height": 465
    },
    "colab_type": "code",
    "executionInfo": {
     "elapsed": 747,
     "status": "ok",
     "timestamp": 1570142184609,
     "user": {
      "displayName": "Michele Pasin",
      "photoUrl": "https://lh3.googleusercontent.com/a-/AAuE7mBu8LVjIGgontF2Wax51BoL5KFx8esezX3bUmaa0g=s64",
      "userId": "10309320684375994511"
     },
     "user_tz": 240
    },
    "id": "AimraC80tQ4J",
    "outputId": "821529b9-ea79-47a9-d634-d2a386ba57e7"
   },
   "outputs": [
    {
     "data": {
      "text/html": [
       "<div>\n",
       "<style scoped>\n",
       "    .dataframe tbody tr th:only-of-type {\n",
       "        vertical-align: middle;\n",
       "    }\n",
       "\n",
       "    .dataframe tbody tr th {\n",
       "        vertical-align: top;\n",
       "    }\n",
       "\n",
       "    .dataframe thead th {\n",
       "        text-align: right;\n",
       "    }\n",
       "</style>\n",
       "<table border=\"1\" class=\"dataframe\">\n",
       "  <thead>\n",
       "    <tr style=\"text-align: right;\">\n",
       "      <th></th>\n",
       "      <th>aff_id</th>\n",
       "      <th>aff_name</th>\n",
       "      <th>aff_city</th>\n",
       "      <th>aff_country</th>\n",
       "      <th>aff_country_code</th>\n",
       "      <th>aff_state</th>\n",
       "      <th>aff_state_code</th>\n",
       "      <th>tot_affiliations</th>\n",
       "      <th>tot_pubs</th>\n",
       "    </tr>\n",
       "  </thead>\n",
       "  <tbody>\n",
       "    <tr>\n",
       "      <th>387</th>\n",
       "      <td>grid.66859.34</td>\n",
       "      <td>Broad Institute</td>\n",
       "      <td>Cambridge</td>\n",
       "      <td>United States</td>\n",
       "      <td>US</td>\n",
       "      <td>Massachusetts</td>\n",
       "      <td>US-MA</td>\n",
       "      <td>1386</td>\n",
       "      <td>225</td>\n",
       "    </tr>\n",
       "    <tr>\n",
       "      <th>0</th>\n",
       "      <td>grid.38142.3c</td>\n",
       "      <td>Harvard University</td>\n",
       "      <td>Cambridge</td>\n",
       "      <td>United States</td>\n",
       "      <td>US</td>\n",
       "      <td>Massachusetts</td>\n",
       "      <td>US-MA</td>\n",
       "      <td>1204</td>\n",
       "      <td>265</td>\n",
       "    </tr>\n",
       "    <tr>\n",
       "      <th>1</th>\n",
       "      <td>grid.5335.0</td>\n",
       "      <td>University of Cambridge</td>\n",
       "      <td>Cambridge</td>\n",
       "      <td>United Kingdom</td>\n",
       "      <td>GB</td>\n",
       "      <td></td>\n",
       "      <td></td>\n",
       "      <td>935</td>\n",
       "      <td>158</td>\n",
       "    </tr>\n",
       "    <tr>\n",
       "      <th>423</th>\n",
       "      <td>grid.10306.34</td>\n",
       "      <td>Wellcome Sanger Institute</td>\n",
       "      <td>Cambridge</td>\n",
       "      <td>United Kingdom</td>\n",
       "      <td>GB</td>\n",
       "      <td></td>\n",
       "      <td></td>\n",
       "      <td>705</td>\n",
       "      <td>142</td>\n",
       "    </tr>\n",
       "    <tr>\n",
       "      <th>551</th>\n",
       "      <td>grid.32224.35</td>\n",
       "      <td>Massachusetts General Hospital</td>\n",
       "      <td>Boston</td>\n",
       "      <td>United States</td>\n",
       "      <td>US</td>\n",
       "      <td>Massachusetts</td>\n",
       "      <td>US-MA</td>\n",
       "      <td>698</td>\n",
       "      <td>140</td>\n",
       "    </tr>\n",
       "  </tbody>\n",
       "</table>\n",
       "</div>"
      ],
      "text/plain": [
       "            aff_id                        aff_name   aff_city     aff_country  \\\n",
       "387  grid.66859.34                 Broad Institute  Cambridge   United States   \n",
       "0    grid.38142.3c              Harvard University  Cambridge   United States   \n",
       "1      grid.5335.0         University of Cambridge  Cambridge  United Kingdom   \n",
       "423  grid.10306.34       Wellcome Sanger Institute  Cambridge  United Kingdom   \n",
       "551  grid.32224.35  Massachusetts General Hospital     Boston   United States   \n",
       "\n",
       "    aff_country_code      aff_state aff_state_code  tot_affiliations  tot_pubs  \n",
       "387               US  Massachusetts          US-MA              1386       225  \n",
       "0                 US  Massachusetts          US-MA              1204       265  \n",
       "1                 GB                                             935       158  \n",
       "423               GB                                             705       142  \n",
       "551               US  Massachusetts          US-MA               698       140  "
      ]
     },
     "execution_count": 6,
     "metadata": {},
     "output_type": "execute_result"
    }
   ],
   "source": [
    "gridaffiliations = affiliations_with_grid.copy()\n",
    "#\n",
    "# group by GRIDID and add new column with affiliations count\n",
    "gridaffiliations[\"tot_affiliations\"] = gridaffiliations.groupby('aff_id')['aff_id'].transform('count')\n",
    "#\n",
    "# add new column with publications count, for each GRID\n",
    "gridaffiliations[\"tot_pubs\"] = gridaffiliations.groupby(['aff_id'])['pub_id'].transform('nunique')\n",
    "# \n",
    "# remove unnecessary columns\n",
    "gridaffiliations = gridaffiliations.drop(['aff_city_id', 'pub_id', 'researcher_id', 'first_name', 'last_name'], axis=1).reset_index(drop=True)\n",
    "#\n",
    "# remove duplicate rows\n",
    "gridaffiliations.drop_duplicates(inplace=True)\n",
    "#\n",
    "# update columns order\n",
    "gridaffiliations = gridaffiliations[[ 'aff_id', 'aff_name','aff_city', \n",
    "                                     'aff_country', 'aff_country_code',  'aff_state',\n",
    "                                     'aff_state_code', 'tot_affiliations',  'tot_pubs']]\n",
    "#\n",
    "# sort\n",
    "gridaffiliations = gridaffiliations.sort_values(['tot_affiliations', 'tot_pubs'], ascending=False)\n",
    "#\n",
    "#\n",
    "# That's it! Let's see the result\n",
    "gridaffiliations.head()"
   ]
  },
  {
   "cell_type": "code",
   "execution_count": 7,
   "metadata": {
    "Collapsed": "false",
    "colab": {},
    "colab_type": "code",
    "id": "WXgclUtptQ4T"
   },
   "outputs": [],
   "source": [
    "# save the data\n",
    "save(gridaffiliations, \"4_institutions_with_grid_with_metrics.csv\")"
   ]
  },
  {
   "cell_type": "markdown",
   "metadata": {
    "Collapsed": "false",
    "colab_type": "text",
    "id": "EJa68MtDtQ4V"
   },
   "source": [
    "## Couple of Dataviz"
   ]
  },
  {
   "cell_type": "code",
   "execution_count": 8,
   "metadata": {
    "Collapsed": "false"
   },
   "outputs": [
    {
     "data": {
      "application/vnd.plotly.v1+json": {
       "config": {
        "plotlyServerURL": "https://plot.ly"
       },
       "data": [
        {
         "customdata": [
          [
           "grid.66859.34",
           "Broad Institute",
           "Cambridge",
           "United States",
           1386,
           225
          ],
          [
           "grid.38142.3c",
           "Harvard University",
           "Cambridge",
           "United States",
           1204,
           265
          ],
          [
           "grid.32224.35",
           "Massachusetts General Hospital",
           "Boston",
           "United States",
           698,
           140
          ],
          [
           "grid.59734.3c",
           "Icahn School of Medicine at Mount Sinai",
           "New York",
           "United States",
           638,
           93
          ],
          [
           "grid.214458.e",
           "University of Michigan–Ann Arbor",
           "Ann Arbor",
           "United States",
           617,
           86
          ],
          [
           "grid.168010.e",
           "Stanford University",
           "Stanford",
           "United States",
           565,
           121
          ],
          [
           "grid.51462.34",
           "Memorial Sloan Kettering Cancer Center",
           "New York",
           "United States",
           475,
           59
          ],
          [
           "grid.34477.33",
           "University of Washington",
           "Seattle",
           "United States",
           447,
           88
          ],
          [
           "grid.266102.1",
           "University of California, San Francisco",
           "San Francisco",
           "United States",
           403,
           87
          ],
          [
           "grid.4367.6",
           "Washington University in St. Louis",
           "St Louis",
           "United States",
           400,
           65
          ],
          [
           "grid.65499.37",
           "Dana-Farber Cancer Institute",
           "Boston",
           "United States",
           395,
           72
          ],
          [
           "grid.240871.8",
           "St. Jude Children's Research Hospital",
           "Memphis",
           "United States",
           364,
           27
          ],
          [
           "grid.47100.32",
           "Yale University",
           "New Haven",
           "United States",
           322,
           47
          ],
          [
           "grid.62560.37",
           "Brigham and Women's Hospital",
           "Boston",
           "United States",
           311,
           94
          ],
          [
           "grid.266100.3",
           "University of California, San Diego",
           "San Diego",
           "United States",
           308,
           64
          ],
          [
           "grid.21107.35",
           "Johns Hopkins University",
           "Baltimore",
           "United States",
           305,
           78
          ],
          [
           "grid.10698.36",
           "University of North Carolina at Chapel Hill",
           "Chapel Hill",
           "United States",
           301,
           71
          ],
          [
           "grid.25879.31",
           "University of Pennsylvania",
           "Philadelphia",
           "United States",
           297,
           83
          ],
          [
           "grid.21729.3f",
           "Columbia University",
           "New York",
           "United States",
           279,
           55
          ],
          [
           "grid.19006.3e",
           "University of California, Los Angeles",
           "Los Angeles",
           "United States",
           276,
           72
          ],
          [
           "grid.39382.33",
           "Baylor College of Medicine",
           "Houston",
           "United States",
           265,
           62
          ],
          [
           "grid.5386.8",
           "Cornell University",
           "Ithaca",
           "United States",
           233,
           66
          ],
          [
           "grid.42505.36",
           "University of Southern California",
           "Los Angeles",
           "United States",
           221,
           60
          ],
          [
           "grid.2515.3",
           "Boston Children's Hospital",
           "Boston",
           "United States",
           201,
           63
          ],
          [
           "grid.270240.3",
           "Fred Hutchinson Cancer Research Center",
           "Seattle",
           "United States",
           171,
           43
          ],
          [
           "grid.240145.6",
           "The University of Texas MD Anderson Cancer Center",
           "Houston",
           "United States",
           164,
           37
          ],
          [
           "grid.189504.1",
           "Boston University",
           "Boston",
           "United States",
           154,
           47
          ],
          [
           "grid.21925.3d",
           "University of Pittsburgh",
           "Pittsburgh",
           "United States",
           146,
           41
          ],
          [
           "grid.279885.9",
           "National Heart Lung and Blood Institute",
           "Bethesda",
           "United States",
           142,
           36
          ],
          [
           "grid.66875.3a",
           "Mayo Clinic",
           "Rochester",
           "United States",
           136,
           38
          ],
          [
           "grid.94365.3d",
           "National Institutes of Health",
           "Bethesda",
           "United States",
           128,
           42
          ],
          [
           "grid.48336.3a",
           "National Cancer Institute",
           "Rockville",
           "United States",
           128,
           29
          ],
          [
           "grid.26790.3a",
           "University of Miami",
           "Coral Gables",
           "United States",
           118,
           18
          ],
          [
           "grid.267313.2",
           "The University of Texas Southwestern Medical Center",
           "Dallas",
           "United States",
           115,
           26
          ],
          [
           "grid.412807.8",
           "Vanderbilt University Medical Center",
           "Nashville",
           "United States",
           113,
           28
          ],
          [
           "grid.16753.36",
           "Northwestern University",
           "Evanston",
           "United States",
           113,
           21
          ],
          [
           "grid.241167.7",
           "Wake Forest University",
           "Winston-Salem",
           "United States",
           109,
           27
          ],
          [
           "grid.418158.1",
           "Roche (United States)",
           "Nutley",
           "United States",
           109,
           16
          ],
          [
           "grid.239844.0",
           "Harbor–UCLA Medical Center",
           "Torrance",
           "United States",
           108,
           24
          ],
          [
           "grid.223827.e",
           "University of Utah",
           "Salt Lake City",
           "United States",
           105,
           44
          ],
          [
           "grid.267308.8",
           "The University of Texas Health Science Center at Houston",
           "Houston",
           "United States",
           104,
           38
          ],
          [
           "grid.17635.36",
           "University of Minnesota",
           "Minneapolis",
           "United States",
           103,
           37
          ],
          [
           "grid.116068.8",
           "Massachusetts Institute of Technology",
           "Cambridge",
           "United States",
           96,
           50
          ],
          [
           "grid.152326.1",
           "Vanderbilt University",
           "Nashville",
           "United States",
           95,
           33
          ],
          [
           "grid.475010.7",
           "Boston University School of Medicine",
           "Boston",
           "United States",
           94,
           31
          ],
          [
           "grid.225279.9",
           "Cold Spring Harbor Laboratory",
           "Cold Spring Harbor",
           "United States",
           94,
           25
          ],
          [
           "grid.239552.a",
           "Children's Hospital of Philadelphia",
           "Philadelphia",
           "United States",
           89,
           22
          ],
          [
           "grid.280128.1",
           "National Human Genome Research Institute",
           "Bethesda",
           "United States",
           86,
           32
          ],
          [
           "grid.137628.9",
           "New York University",
           "New York",
           "United States",
           81,
           30
          ],
          [
           "grid.257413.6",
           "Indiana University – Purdue University Indianapolis",
           "Indianapolis",
           "United States",
           79,
           22
          ],
          [
           "grid.213876.9",
           "University of Georgia",
           "Athens",
           "United States",
           79,
           21
          ],
          [
           "grid.27755.32",
           "University of Virginia",
           "Charlottesville",
           "United States",
           78,
           27
          ],
          [
           "grid.67105.35",
           "Case Western Reserve University",
           "Cleveland",
           "United States",
           77,
           26
          ],
          [
           "grid.430503.1",
           "University of Colorado Anschutz Medical Campus",
           "Aurora",
           "United States",
           76,
           29
          ],
          [
           "grid.413575.1",
           "Howard Hughes Medical Institute",
           "Chevy Chase",
           "United States",
           75,
           31
          ],
          [
           "grid.26009.3d",
           "Duke University",
           "Durham",
           "United States",
           75,
           28
          ],
          [
           "grid.170205.1",
           "University of Chicago",
           "Chicago",
           "United States",
           74,
           31
          ],
          [
           "grid.134563.6",
           "University of Arizona",
           "Tucson",
           "United States",
           72,
           16
          ],
          [
           "grid.410711.2",
           "University of North Carolina System",
           "Chapel Hill",
           "United States",
           71,
           30
          ],
          [
           "grid.134907.8",
           "Rockefeller University",
           "New York",
           "United States",
           68,
           15
          ],
          [
           "grid.249880.f",
           "Jackson Laboratory",
           "Bar Harbor",
           "United States",
           66,
           27
          ],
          [
           "grid.451309.a",
           "Joint Genome Institute",
           "Walnut Creek",
           "United States",
           66,
           10
          ],
          [
           "grid.27860.3b",
           "University of California, Davis",
           "Davis",
           "United States",
           65,
           29
          ],
          [
           "grid.16750.35",
           "Princeton University",
           "Princeton",
           "United States",
           65,
           14
          ],
          [
           "grid.419475.a",
           "National Institute on Aging",
           "Baltimore",
           "United States",
           64,
           24
          ],
          [
           "grid.47840.3f",
           "University of California, Berkeley",
           "Berkeley",
           "United States",
           63,
           22
          ],
          [
           "grid.420283.f",
           "23andMe (United States)",
           "Mountain View",
           "United States",
           62,
           29
          ],
          [
           "grid.15276.37",
           "University of Florida",
           "Gainesville",
           "United States",
           60,
           26
          ],
          [
           "grid.411024.2",
           "University of Maryland, Baltimore",
           "Baltimore",
           "United States",
           60,
           19
          ],
          [
           "grid.266190.a",
           "University of Colorado Boulder",
           "Boulder",
           "United States",
           60,
           15
          ],
          [
           "grid.429884.b",
           "New York Genome Center",
           "New York",
           "United States",
           57,
           16
          ],
          [
           "grid.189967.8",
           "Emory University",
           "Atlanta",
           "United States",
           55,
           26
          ],
          [
           "grid.17088.36",
           "Michigan State University",
           "East Lansing",
           "United States",
           54,
           12
          ],
          [
           "grid.50956.3f",
           "Cedars-Sinai Medical Center",
           "Los Angeles",
           "United States",
           52,
           18
          ],
          [
           "grid.14003.36",
           "University of Wisconsin–Madison",
           "Madison",
           "United States",
           52,
           11
          ],
          [
           "grid.240684.c",
           "Rush University Medical Center",
           "Chicago",
           "United States",
           52,
           9
          ],
          [
           "grid.239573.9",
           "Cincinnati Children's Hospital Medical Center",
           "Cincinnati",
           "United States",
           50,
           14
          ],
          [
           "grid.35403.31",
           "University of Illinois at Urbana Champaign",
           "Urbana",
           "United States",
           50,
           10
          ],
          [
           "grid.410721.1",
           "University of Mississippi Medical Center",
           "Jackson",
           "United States",
           49,
           24
          ],
          [
           "grid.40263.33",
           "Brown University",
           "Providence",
           "United States",
           48,
           15
          ],
          [
           "grid.5288.7",
           "Oregon Health & Science University",
           "Portland",
           "United States",
           47,
           19
          ],
          [
           "grid.419681.3",
           "National Institute of Allergy and Infectious Diseases",
           "Bethesda",
           "United States",
           46,
           9
          ],
          [
           "grid.266093.8",
           "University of California, Irvine",
           "Irvine",
           "United States",
           45,
           15
          ],
          [
           "grid.261331.4",
           "The Ohio State University",
           "Columbus",
           "United States",
           44,
           22
          ],
          [
           "grid.239585.0",
           "Columbia University Medical Center",
           "New York",
           "United States",
           43,
           26
          ],
          [
           "grid.29857.31",
           "Pennsylvania State University",
           "State College",
           "United States",
           41,
           15
          ],
          [
           "grid.239578.2",
           "Cleveland Clinic",
           "Cleveland",
           "United States",
           39,
           13
          ],
          [
           "grid.417467.7",
           "Mayo Clinic",
           "Jacksonville",
           "United States",
           39,
           8
          ],
          [
           "grid.224260.0",
           "Virginia Commonwealth University",
           "Richmond",
           "United States",
           37,
           13
          ],
          [
           "grid.270301.7",
           "Whitehead Institute for Biomedical Research",
           "Cambridge",
           "United States",
           37,
           11
          ],
          [
           "grid.413734.6",
           "NewYork–Presbyterian Hospital",
           "New York",
           "United States",
           36,
           7
          ],
          [
           "grid.416975.8",
           "Texas Children's Hospital",
           "Houston",
           "United States",
           36,
           6
          ],
          [
           "grid.420086.8",
           "National Institute of Arthritis and Musculoskeletal and Skin Diseases",
           "Bethesda",
           "United States",
           36,
           5
          ],
          [
           "grid.418019.5",
           "GlaxoSmithKline (United States)",
           "Philadelphia",
           "United States",
           35,
           14
          ],
          [
           "grid.410370.1",
           "VA Boston Healthcare System",
           "Boston",
           "United States",
           35,
           11
          ],
          [
           "grid.417993.1",
           "MSD (United States)",
           "Kenilworth",
           "United States",
           34,
           15
          ],
          [
           "grid.280062.e",
           "Kaiser Permanente",
           "Oakland",
           "United States",
           34,
           13
          ],
          [
           "grid.254880.3",
           "Dartmouth College",
           "Hanover",
           "United States",
           33,
           15
          ],
          [
           "grid.422418.9",
           "American Cancer Society",
           "Atlanta",
           "United States",
           33,
           14
          ],
          [
           "grid.168645.8",
           "University of Massachusetts Medical School",
           "Worcester",
           "United States",
           33,
           11
          ],
          [
           "grid.468198.a",
           "Moffitt Cancer Center",
           "Tampa",
           "United States",
           32,
           13
          ],
          [
           "grid.36567.31",
           "Kansas State University",
           "Manhattan",
           "United States",
           32,
           5
          ],
          [
           "grid.265892.2",
           "University of Alabama at Birmingham",
           "Birmingham",
           "United States",
           31,
           18
          ],
          [
           "grid.410425.6",
           "City Of Hope National Medical Center",
           "Duarte",
           "United States",
           30,
           12
          ],
          [
           "grid.1052.6",
           "Ludwig Cancer Research",
           "New York",
           "United States",
           30,
           4
          ],
          [
           "grid.214572.7",
           "University of Iowa",
           "Iowa City",
           "United States",
           29,
           18
          ],
          [
           "grid.463419.d",
           "Agricultural Research Service",
           "Washington D.C.",
           "United States",
           29,
           13
          ],
          [
           "grid.279946.7",
           "Los Angeles Biomedical Research Institute",
           "Torrance",
           "United States",
           29,
           10
          ],
          [
           "grid.266539.d",
           "University of Kentucky",
           "Lexington",
           "United States",
           29,
           8
          ],
          [
           "grid.63368.38",
           "Houston Methodist",
           "Houston",
           "United States",
           29,
           5
          ],
          [
           "grid.280664.e",
           "National Institute of Environmental Health Sciences",
           "Durham",
           "United States",
           28,
           10
          ],
          [
           "grid.185669.5",
           "Illumina (United States)",
           "San Diego",
           "United States",
           28,
           8
          ],
          [
           "grid.251993.5",
           "Albert Einstein College of Medicine",
           "The Bronx",
           "United States",
           27,
           17
          ],
          [
           "grid.417691.c",
           "HudsonAlpha Institute for Biotechnology",
           "Huntsville",
           "United States",
           27,
           11
          ],
          [
           "grid.34421.30",
           "Iowa State University",
           "Ames",
           "United States",
           27,
           11
          ],
          [
           "grid.24827.3b",
           "University of Cincinnati",
           "Cincinnati",
           "United States",
           27,
           10
          ],
          [
           "grid.280030.9",
           "National Eye Institute",
           "Bethesda",
           "United States",
           26,
           4
          ],
          [
           "grid.488833.c",
           "Kaiser Permanente Washington Health Research Institute",
           "Seattle",
           "United States",
           25,
           20
          ],
          [
           "grid.189509.c",
           "Duke University Hospital",
           "Durham",
           "United States",
           25,
           10
          ],
          [
           "grid.492568.4",
           "Seven Bridges Genomics (United States)",
           "Cambridge",
           "United States",
           25,
           1
          ],
          [
           "grid.410445.0",
           "University of Hawaii at Manoa",
           "Honolulu",
           "United States",
           24,
           15
          ],
          [
           "grid.89336.37",
           "The University of Texas at Austin",
           "Austin",
           "United States",
           23,
           5
          ],
          [
           "grid.459583.6",
           "Human Longevity (United States)",
           "San Diego",
           "United States",
           23,
           3
          ],
          [
           "grid.410513.2",
           "Pfizer (United States)",
           "New York",
           "United States",
           22,
           10
          ],
          [
           "grid.430387.b",
           "Rutgers, The State University of New Jersey",
           "New Brunswick",
           "United States",
           21,
           8
          ],
          [
           "grid.40803.3f",
           "North Carolina State University",
           "Raleigh",
           "United States",
           21,
           8
          ],
          [
           "grid.240614.5",
           "Roswell Park Cancer Institute",
           "Buffalo",
           "United States",
           20,
           6
          ],
          [
           "grid.418000.d",
           "Department of Plant Biology",
           "Stanford",
           "United States",
           20,
           3
          ],
          [
           "grid.437349.e",
           "University of Minnesota System",
           "Minneapolis",
           "United States",
           19,
           10
          ],
          [
           "grid.250820.d",
           "Stowers Institute for Medical Research",
           "Kansas City",
           "United States",
           19,
           5
          ],
          [
           "grid.412016.0",
           "University of Kansas Medical Center",
           "Kansas City",
           "United States",
           18,
           10
          ],
          [
           "grid.266902.9",
           "University of Oklahoma Health Sciences Center",
           "Oklahoma City",
           "United States",
           18,
           9
          ],
          [
           "grid.239864.2",
           "Henry Ford Health System",
           "Detroit",
           "United States",
           18,
           6
          ],
          [
           "grid.30760.32",
           "Medical College of Wisconsin",
           "Milwaukee",
           "United States",
           17,
           7
          ]
         ],
         "hovertemplate": "<b>%{hovertext}</b><br><br>aff_country=%{customdata[3]}<br>aff_name=%{customdata[1]}<br>tot_pubs=%{customdata[5]}<br>tot_affiliations=%{customdata[4]}<br>aff_id=%{customdata[0]}<br>aff_city=%{customdata[2]}<extra></extra>",
         "hovertext": [
          "Broad Institute",
          "Harvard University",
          "Massachusetts General Hospital",
          "Icahn School of Medicine at Mount Sinai",
          "University of Michigan–Ann Arbor",
          "Stanford University",
          "Memorial Sloan Kettering Cancer Center",
          "University of Washington",
          "University of California, San Francisco",
          "Washington University in St. Louis",
          "Dana-Farber Cancer Institute",
          "St. Jude Children's Research Hospital",
          "Yale University",
          "Brigham and Women's Hospital",
          "University of California, San Diego",
          "Johns Hopkins University",
          "University of North Carolina at Chapel Hill",
          "University of Pennsylvania",
          "Columbia University",
          "University of California, Los Angeles",
          "Baylor College of Medicine",
          "Cornell University",
          "University of Southern California",
          "Boston Children's Hospital",
          "Fred Hutchinson Cancer Research Center",
          "The University of Texas MD Anderson Cancer Center",
          "Boston University",
          "University of Pittsburgh",
          "National Heart Lung and Blood Institute",
          "Mayo Clinic",
          "National Institutes of Health",
          "National Cancer Institute",
          "University of Miami",
          "The University of Texas Southwestern Medical Center",
          "Vanderbilt University Medical Center",
          "Northwestern University",
          "Wake Forest University",
          "Roche (United States)",
          "Harbor–UCLA Medical Center",
          "University of Utah",
          "The University of Texas Health Science Center at Houston",
          "University of Minnesota",
          "Massachusetts Institute of Technology",
          "Vanderbilt University",
          "Boston University School of Medicine",
          "Cold Spring Harbor Laboratory",
          "Children's Hospital of Philadelphia",
          "National Human Genome Research Institute",
          "New York University",
          "Indiana University – Purdue University Indianapolis",
          "University of Georgia",
          "University of Virginia",
          "Case Western Reserve University",
          "University of Colorado Anschutz Medical Campus",
          "Howard Hughes Medical Institute",
          "Duke University",
          "University of Chicago",
          "University of Arizona",
          "University of North Carolina System",
          "Rockefeller University",
          "Jackson Laboratory",
          "Joint Genome Institute",
          "University of California, Davis",
          "Princeton University",
          "National Institute on Aging",
          "University of California, Berkeley",
          "23andMe (United States)",
          "University of Florida",
          "University of Maryland, Baltimore",
          "University of Colorado Boulder",
          "New York Genome Center",
          "Emory University",
          "Michigan State University",
          "Cedars-Sinai Medical Center",
          "University of Wisconsin–Madison",
          "Rush University Medical Center",
          "Cincinnati Children's Hospital Medical Center",
          "University of Illinois at Urbana Champaign",
          "University of Mississippi Medical Center",
          "Brown University",
          "Oregon Health & Science University",
          "National Institute of Allergy and Infectious Diseases",
          "University of California, Irvine",
          "The Ohio State University",
          "Columbia University Medical Center",
          "Pennsylvania State University",
          "Cleveland Clinic",
          "Mayo Clinic",
          "Virginia Commonwealth University",
          "Whitehead Institute for Biomedical Research",
          "NewYork–Presbyterian Hospital",
          "Texas Children's Hospital",
          "National Institute of Arthritis and Musculoskeletal and Skin Diseases",
          "GlaxoSmithKline (United States)",
          "VA Boston Healthcare System",
          "MSD (United States)",
          "Kaiser Permanente",
          "Dartmouth College",
          "American Cancer Society",
          "University of Massachusetts Medical School",
          "Moffitt Cancer Center",
          "Kansas State University",
          "University of Alabama at Birmingham",
          "City Of Hope National Medical Center",
          "Ludwig Cancer Research",
          "University of Iowa",
          "Agricultural Research Service",
          "Los Angeles Biomedical Research Institute",
          "University of Kentucky",
          "Houston Methodist",
          "National Institute of Environmental Health Sciences",
          "Illumina (United States)",
          "Albert Einstein College of Medicine",
          "HudsonAlpha Institute for Biotechnology",
          "Iowa State University",
          "University of Cincinnati",
          "National Eye Institute",
          "Kaiser Permanente Washington Health Research Institute",
          "Duke University Hospital",
          "Seven Bridges Genomics (United States)",
          "University of Hawaii at Manoa",
          "The University of Texas at Austin",
          "Human Longevity (United States)",
          "Pfizer (United States)",
          "Rutgers, The State University of New Jersey",
          "North Carolina State University",
          "Roswell Park Cancer Institute",
          "Department of Plant Biology",
          "University of Minnesota System",
          "Stowers Institute for Medical Research",
          "University of Kansas Medical Center",
          "University of Oklahoma Health Sciences Center",
          "Henry Ford Health System",
          "Medical College of Wisconsin"
         ],
         "legendgroup": "United States",
         "marker": {
          "color": "#636efa",
          "size": [
           1386,
           1204,
           698,
           638,
           617,
           565,
           475,
           447,
           403,
           400,
           395,
           364,
           322,
           311,
           308,
           305,
           301,
           297,
           279,
           276,
           265,
           233,
           221,
           201,
           171,
           164,
           154,
           146,
           142,
           136,
           128,
           128,
           118,
           115,
           113,
           113,
           109,
           109,
           108,
           105,
           104,
           103,
           96,
           95,
           94,
           94,
           89,
           86,
           81,
           79,
           79,
           78,
           77,
           76,
           75,
           75,
           74,
           72,
           71,
           68,
           66,
           66,
           65,
           65,
           64,
           63,
           62,
           60,
           60,
           60,
           57,
           55,
           54,
           52,
           52,
           52,
           50,
           50,
           49,
           48,
           47,
           46,
           45,
           44,
           43,
           41,
           39,
           39,
           37,
           37,
           36,
           36,
           36,
           35,
           35,
           34,
           34,
           33,
           33,
           33,
           32,
           32,
           31,
           30,
           30,
           29,
           29,
           29,
           29,
           29,
           28,
           28,
           27,
           27,
           27,
           27,
           26,
           25,
           25,
           25,
           24,
           23,
           23,
           22,
           21,
           21,
           20,
           20,
           19,
           19,
           18,
           18,
           18,
           17
          ],
          "sizemode": "area",
          "sizeref": 3.465,
          "symbol": "circle"
         },
         "mode": "markers",
         "name": "United States",
         "showlegend": true,
         "type": "scatter",
         "x": [
          "Broad Institute",
          "Harvard University",
          "Massachusetts General Hospital",
          "Icahn School of Medicine at Mount Sinai",
          "University of Michigan–Ann Arbor",
          "Stanford University",
          "Memorial Sloan Kettering Cancer Center",
          "University of Washington",
          "University of California, San Francisco",
          "Washington University in St. Louis",
          "Dana-Farber Cancer Institute",
          "St. Jude Children's Research Hospital",
          "Yale University",
          "Brigham and Women's Hospital",
          "University of California, San Diego",
          "Johns Hopkins University",
          "University of North Carolina at Chapel Hill",
          "University of Pennsylvania",
          "Columbia University",
          "University of California, Los Angeles",
          "Baylor College of Medicine",
          "Cornell University",
          "University of Southern California",
          "Boston Children's Hospital",
          "Fred Hutchinson Cancer Research Center",
          "The University of Texas MD Anderson Cancer Center",
          "Boston University",
          "University of Pittsburgh",
          "National Heart Lung and Blood Institute",
          "Mayo Clinic",
          "National Institutes of Health",
          "National Cancer Institute",
          "University of Miami",
          "The University of Texas Southwestern Medical Center",
          "Vanderbilt University Medical Center",
          "Northwestern University",
          "Wake Forest University",
          "Roche (United States)",
          "Harbor–UCLA Medical Center",
          "University of Utah",
          "The University of Texas Health Science Center at Houston",
          "University of Minnesota",
          "Massachusetts Institute of Technology",
          "Vanderbilt University",
          "Boston University School of Medicine",
          "Cold Spring Harbor Laboratory",
          "Children's Hospital of Philadelphia",
          "National Human Genome Research Institute",
          "New York University",
          "Indiana University – Purdue University Indianapolis",
          "University of Georgia",
          "University of Virginia",
          "Case Western Reserve University",
          "University of Colorado Anschutz Medical Campus",
          "Howard Hughes Medical Institute",
          "Duke University",
          "University of Chicago",
          "University of Arizona",
          "University of North Carolina System",
          "Rockefeller University",
          "Jackson Laboratory",
          "Joint Genome Institute",
          "University of California, Davis",
          "Princeton University",
          "National Institute on Aging",
          "University of California, Berkeley",
          "23andMe (United States)",
          "University of Florida",
          "University of Maryland, Baltimore",
          "University of Colorado Boulder",
          "New York Genome Center",
          "Emory University",
          "Michigan State University",
          "Cedars-Sinai Medical Center",
          "University of Wisconsin–Madison",
          "Rush University Medical Center",
          "Cincinnati Children's Hospital Medical Center",
          "University of Illinois at Urbana Champaign",
          "University of Mississippi Medical Center",
          "Brown University",
          "Oregon Health & Science University",
          "National Institute of Allergy and Infectious Diseases",
          "University of California, Irvine",
          "The Ohio State University",
          "Columbia University Medical Center",
          "Pennsylvania State University",
          "Cleveland Clinic",
          "Mayo Clinic",
          "Virginia Commonwealth University",
          "Whitehead Institute for Biomedical Research",
          "NewYork–Presbyterian Hospital",
          "Texas Children's Hospital",
          "National Institute of Arthritis and Musculoskeletal and Skin Diseases",
          "GlaxoSmithKline (United States)",
          "VA Boston Healthcare System",
          "MSD (United States)",
          "Kaiser Permanente",
          "Dartmouth College",
          "American Cancer Society",
          "University of Massachusetts Medical School",
          "Moffitt Cancer Center",
          "Kansas State University",
          "University of Alabama at Birmingham",
          "City Of Hope National Medical Center",
          "Ludwig Cancer Research",
          "University of Iowa",
          "Agricultural Research Service",
          "Los Angeles Biomedical Research Institute",
          "University of Kentucky",
          "Houston Methodist",
          "National Institute of Environmental Health Sciences",
          "Illumina (United States)",
          "Albert Einstein College of Medicine",
          "HudsonAlpha Institute for Biotechnology",
          "Iowa State University",
          "University of Cincinnati",
          "National Eye Institute",
          "Kaiser Permanente Washington Health Research Institute",
          "Duke University Hospital",
          "Seven Bridges Genomics (United States)",
          "University of Hawaii at Manoa",
          "The University of Texas at Austin",
          "Human Longevity (United States)",
          "Pfizer (United States)",
          "Rutgers, The State University of New Jersey",
          "North Carolina State University",
          "Roswell Park Cancer Institute",
          "Department of Plant Biology",
          "University of Minnesota System",
          "Stowers Institute for Medical Research",
          "University of Kansas Medical Center",
          "University of Oklahoma Health Sciences Center",
          "Henry Ford Health System",
          "Medical College of Wisconsin"
         ],
         "xaxis": "x",
         "y": [
          225,
          265,
          140,
          93,
          86,
          121,
          59,
          88,
          87,
          65,
          72,
          27,
          47,
          94,
          64,
          78,
          71,
          83,
          55,
          72,
          62,
          66,
          60,
          63,
          43,
          37,
          47,
          41,
          36,
          38,
          42,
          29,
          18,
          26,
          28,
          21,
          27,
          16,
          24,
          44,
          38,
          37,
          50,
          33,
          31,
          25,
          22,
          32,
          30,
          22,
          21,
          27,
          26,
          29,
          31,
          28,
          31,
          16,
          30,
          15,
          27,
          10,
          29,
          14,
          24,
          22,
          29,
          26,
          19,
          15,
          16,
          26,
          12,
          18,
          11,
          9,
          14,
          10,
          24,
          15,
          19,
          9,
          15,
          22,
          26,
          15,
          13,
          8,
          13,
          11,
          7,
          6,
          5,
          14,
          11,
          15,
          13,
          15,
          14,
          11,
          13,
          5,
          18,
          12,
          4,
          18,
          13,
          10,
          8,
          5,
          10,
          8,
          17,
          11,
          11,
          10,
          4,
          20,
          10,
          1,
          15,
          5,
          3,
          10,
          8,
          8,
          6,
          3,
          10,
          5,
          10,
          9,
          6,
          7
         ],
         "yaxis": "y"
        },
        {
         "customdata": [
          [
           "grid.5335.0",
           "University of Cambridge",
           "Cambridge",
           "United Kingdom",
           935,
           158
          ],
          [
           "grid.10306.34",
           "Wellcome Sanger Institute",
           "Cambridge",
           "United Kingdom",
           705,
           142
          ],
          [
           "grid.4305.2",
           "University of Edinburgh",
           "Edinburgh",
           "United Kingdom",
           526,
           77
          ],
          [
           "grid.4991.5",
           "University of Oxford",
           "Oxford",
           "United Kingdom",
           500,
           132
          ],
          [
           "grid.7445.2",
           "Imperial College London",
           "London",
           "United Kingdom",
           418,
           81
          ],
          [
           "grid.270683.8",
           "Wellcome Centre for Human Genetics",
           "Oxford",
           "United Kingdom",
           361,
           81
          ],
          [
           "grid.13097.3c",
           "King's College London",
           "London",
           "United Kingdom",
           356,
           90
          ],
          [
           "grid.83440.3b",
           "University College London",
           "London",
           "United Kingdom",
           331,
           113
          ],
          [
           "grid.4868.2",
           "Queen Mary University of London",
           "London",
           "United Kingdom",
           260,
           57
          ],
          [
           "grid.18886.3f",
           "Institute of Cancer Research",
           "London",
           "United Kingdom",
           210,
           42
          ],
          [
           "grid.5600.3",
           "Cardiff University",
           "Cardiff",
           "United Kingdom",
           198,
           29
          ],
          [
           "grid.5337.2",
           "University of Bristol",
           "Bristol",
           "United Kingdom",
           177,
           53
          ],
          [
           "grid.470900.a",
           "Institute of Metabolic Science",
           "Cambridge",
           "United Kingdom",
           126,
           29
          ],
          [
           "grid.9918.9",
           "University of Leicester",
           "Leicester",
           "United Kingdom",
           118,
           29
          ],
          [
           "grid.5379.8",
           "University of Manchester",
           "Manchester",
           "United Kingdom",
           116,
           53
          ],
          [
           "grid.470869.4",
           "Cancer Research UK Cambridge Institute",
           "Cambridge",
           "United Kingdom",
           101,
           23
          ],
          [
           "grid.8756.c",
           "University of Glasgow",
           "Glasgow",
           "United Kingdom",
           96,
           42
          ],
          [
           "grid.10025.36",
           "University of Liverpool",
           "Liverpool",
           "United Kingdom",
           76,
           45
          ],
          [
           "grid.8391.3",
           "University of Exeter",
           "Exeter",
           "United Kingdom",
           73,
           23
          ],
          [
           "grid.225360.0",
           "European Bioinformatics Institute",
           "Cambridge",
           "United Kingdom",
           64,
           27
          ],
          [
           "grid.5491.9",
           "University of Southampton",
           "Southampton",
           "United Kingdom",
           60,
           27
          ],
          [
           "grid.8991.9",
           "London School of Hygiene & Tropical Medicine",
           "London",
           "United Kingdom",
           57,
           18
          ],
          [
           "grid.436283.8",
           "National Hospital for Neurology and Neurosurgery",
           "London",
           "United Kingdom",
           57,
           4
          ],
          [
           "grid.412925.9",
           "Glenfield Hospital",
           "Leicester",
           "United Kingdom",
           56,
           25
          ],
          [
           "grid.415918.0",
           "Ealing Hospital",
           "London",
           "United Kingdom",
           48,
           16
          ],
          [
           "grid.1006.7",
           "Newcastle University",
           "Newcastle upon Tyne",
           "United Kingdom",
           44,
           27
          ],
          [
           "grid.451388.3",
           "The Francis Crick Institute",
           "London",
           "United Kingdom",
           41,
           18
          ],
          [
           "grid.11835.3e",
           "University of Sheffield",
           "Sheffield",
           "United Kingdom",
           40,
           17
          ],
          [
           "grid.415854.9",
           "Medical Research Council Institute of Genetics and Molecular Medicine",
           "Edinburgh",
           "United Kingdom",
           40,
           8
          ],
          [
           "grid.4563.4",
           "University of Nottingham",
           "Nottingham",
           "United Kingdom",
           39,
           16
          ],
          [
           "grid.5072.0",
           "Royal Marsden NHS Foundation Trust",
           "London",
           "United Kingdom",
           39,
           7
          ],
          [
           "grid.120073.7",
           "Addenbrooke's Hospital",
           "Cambridge",
           "United Kingdom",
           38,
           20
          ],
          [
           "grid.8241.f",
           "University of Dundee",
           "Dundee",
           "United Kingdom",
           37,
           16
          ],
          [
           "grid.454382.c",
           "NIHR Oxford Musculoskeletal Biomedical Research Centre",
           "Oxford",
           "United Kingdom",
           37,
           14
          ],
          [
           "grid.6572.6",
           "University of Birmingham",
           "Birmingham",
           "United Kingdom",
           36,
           11
          ],
          [
           "grid.418195.0",
           "Babraham Institute",
           "Cambridge",
           "United Kingdom",
           35,
           7
          ],
          [
           "grid.4777.3",
           "Queen's University Belfast",
           "Belfast",
           "United Kingdom",
           33,
           17
          ],
          [
           "grid.451056.3",
           "National Institute for Health Research",
           "London",
           "United Kingdom",
           32,
           14
          ],
          [
           "grid.9909.9",
           "University of Leeds",
           "Leeds",
           "United Kingdom",
           32,
           12
          ],
          [
           "grid.417895.6",
           "Imperial College Healthcare NHS Trust",
           "London",
           "United Kingdom",
           31,
           16
          ],
          [
           "grid.420006.0",
           "Medical Research Council Harwell",
           "Oxford",
           "United Kingdom",
           29,
           3
          ],
          [
           "grid.24029.3d",
           "Cambridge University Hospitals NHS Foundation Trust",
           "Cambridge",
           "United Kingdom",
           25,
           15
          ],
          [
           "grid.415719.f",
           "Churchill Hospital",
           "Oxford",
           "United Kingdom",
           25,
           13
          ],
          [
           "grid.418236.a",
           "GlaxoSmithKline (United Kingdom)",
           "London",
           "United Kingdom",
           24,
           10
          ],
          [
           "grid.418566.8",
           "Pfizer (United Kingdom)",
           "Tadworth",
           "United Kingdom",
           24,
           3
          ],
          [
           "grid.14105.31",
           "Medical Research Council",
           "London",
           "United Kingdom",
           23,
           6
          ],
          [
           "grid.498322.6",
           "Genomics England",
           "London",
           "United Kingdom",
           23,
           2
          ],
          [
           "grid.421962.a",
           "Weatherall Institute of Molecular Medicine",
           "Oxford",
           "United Kingdom",
           23,
           1
          ],
          [
           "grid.420468.c",
           "Great Ormond Street Hospital",
           "London",
           "United Kingdom",
           22,
           5
          ],
          [
           "grid.498924.a",
           "Manchester University NHS Foundation Trust",
           "Manchester",
           "United Kingdom",
           21,
           11
          ],
          [
           "grid.434747.7",
           "Illumina (United Kingdom)",
           "Cambridge",
           "United Kingdom",
           21,
           4
          ],
          [
           "grid.7372.1",
           "University of Warwick",
           "Coventry",
           "United Kingdom",
           20,
           13
          ],
          [
           "grid.7107.1",
           "University of Aberdeen",
           "Aberdeen",
           "United Kingdom",
           19,
           15
          ]
         ],
         "hovertemplate": "<b>%{hovertext}</b><br><br>aff_country=%{customdata[3]}<br>aff_name=%{customdata[1]}<br>tot_pubs=%{customdata[5]}<br>tot_affiliations=%{customdata[4]}<br>aff_id=%{customdata[0]}<br>aff_city=%{customdata[2]}<extra></extra>",
         "hovertext": [
          "University of Cambridge",
          "Wellcome Sanger Institute",
          "University of Edinburgh",
          "University of Oxford",
          "Imperial College London",
          "Wellcome Centre for Human Genetics",
          "King's College London",
          "University College London",
          "Queen Mary University of London",
          "Institute of Cancer Research",
          "Cardiff University",
          "University of Bristol",
          "Institute of Metabolic Science",
          "University of Leicester",
          "University of Manchester",
          "Cancer Research UK Cambridge Institute",
          "University of Glasgow",
          "University of Liverpool",
          "University of Exeter",
          "European Bioinformatics Institute",
          "University of Southampton",
          "London School of Hygiene & Tropical Medicine",
          "National Hospital for Neurology and Neurosurgery",
          "Glenfield Hospital",
          "Ealing Hospital",
          "Newcastle University",
          "The Francis Crick Institute",
          "University of Sheffield",
          "Medical Research Council Institute of Genetics and Molecular Medicine",
          "University of Nottingham",
          "Royal Marsden NHS Foundation Trust",
          "Addenbrooke's Hospital",
          "University of Dundee",
          "NIHR Oxford Musculoskeletal Biomedical Research Centre",
          "University of Birmingham",
          "Babraham Institute",
          "Queen's University Belfast",
          "National Institute for Health Research",
          "University of Leeds",
          "Imperial College Healthcare NHS Trust",
          "Medical Research Council Harwell",
          "Cambridge University Hospitals NHS Foundation Trust",
          "Churchill Hospital",
          "GlaxoSmithKline (United Kingdom)",
          "Pfizer (United Kingdom)",
          "Medical Research Council",
          "Genomics England",
          "Weatherall Institute of Molecular Medicine",
          "Great Ormond Street Hospital",
          "Manchester University NHS Foundation Trust",
          "Illumina (United Kingdom)",
          "University of Warwick",
          "University of Aberdeen"
         ],
         "legendgroup": "United Kingdom",
         "marker": {
          "color": "#EF553B",
          "size": [
           935,
           705,
           526,
           500,
           418,
           361,
           356,
           331,
           260,
           210,
           198,
           177,
           126,
           118,
           116,
           101,
           96,
           76,
           73,
           64,
           60,
           57,
           57,
           56,
           48,
           44,
           41,
           40,
           40,
           39,
           39,
           38,
           37,
           37,
           36,
           35,
           33,
           32,
           32,
           31,
           29,
           25,
           25,
           24,
           24,
           23,
           23,
           23,
           22,
           21,
           21,
           20,
           19
          ],
          "sizemode": "area",
          "sizeref": 3.465,
          "symbol": "circle"
         },
         "mode": "markers",
         "name": "United Kingdom",
         "showlegend": true,
         "type": "scatter",
         "x": [
          "University of Cambridge",
          "Wellcome Sanger Institute",
          "University of Edinburgh",
          "University of Oxford",
          "Imperial College London",
          "Wellcome Centre for Human Genetics",
          "King's College London",
          "University College London",
          "Queen Mary University of London",
          "Institute of Cancer Research",
          "Cardiff University",
          "University of Bristol",
          "Institute of Metabolic Science",
          "University of Leicester",
          "University of Manchester",
          "Cancer Research UK Cambridge Institute",
          "University of Glasgow",
          "University of Liverpool",
          "University of Exeter",
          "European Bioinformatics Institute",
          "University of Southampton",
          "London School of Hygiene & Tropical Medicine",
          "National Hospital for Neurology and Neurosurgery",
          "Glenfield Hospital",
          "Ealing Hospital",
          "Newcastle University",
          "The Francis Crick Institute",
          "University of Sheffield",
          "Medical Research Council Institute of Genetics and Molecular Medicine",
          "University of Nottingham",
          "Royal Marsden NHS Foundation Trust",
          "Addenbrooke's Hospital",
          "University of Dundee",
          "NIHR Oxford Musculoskeletal Biomedical Research Centre",
          "University of Birmingham",
          "Babraham Institute",
          "Queen's University Belfast",
          "National Institute for Health Research",
          "University of Leeds",
          "Imperial College Healthcare NHS Trust",
          "Medical Research Council Harwell",
          "Cambridge University Hospitals NHS Foundation Trust",
          "Churchill Hospital",
          "GlaxoSmithKline (United Kingdom)",
          "Pfizer (United Kingdom)",
          "Medical Research Council",
          "Genomics England",
          "Weatherall Institute of Molecular Medicine",
          "Great Ormond Street Hospital",
          "Manchester University NHS Foundation Trust",
          "Illumina (United Kingdom)",
          "University of Warwick",
          "University of Aberdeen"
         ],
         "xaxis": "x",
         "y": [
          158,
          142,
          77,
          132,
          81,
          81,
          90,
          113,
          57,
          42,
          29,
          53,
          29,
          29,
          53,
          23,
          42,
          45,
          23,
          27,
          27,
          18,
          4,
          25,
          16,
          27,
          18,
          17,
          8,
          16,
          7,
          20,
          16,
          14,
          11,
          7,
          17,
          14,
          12,
          16,
          3,
          15,
          13,
          10,
          3,
          6,
          2,
          1,
          5,
          11,
          4,
          13,
          15
         ],
         "yaxis": "y"
        },
        {
         "customdata": [
          [
           "grid.5645.2",
           "Erasmus University Medical Center",
           "Rotterdam",
           "Netherlands",
           594,
           85
          ],
          [
           "grid.4494.d",
           "University Medical Center Groningen",
           "Groningen",
           "Netherlands",
           279,
           44
          ],
          [
           "grid.10419.3d",
           "Leiden University Medical Center",
           "Leiden",
           "Netherlands",
           244,
           60
          ],
          [
           "grid.7692.a",
           "University Medical Center Utrecht",
           "Utrecht",
           "Netherlands",
           206,
           42
          ],
          [
           "grid.10417.33",
           "Radboud University Nijmegen Medical Centre",
           "Nijmegen",
           "Netherlands",
           173,
           38
          ],
          [
           "grid.484519.5",
           "Amsterdam Neuroscience",
           "Amsterdam",
           "Netherlands",
           153,
           26
          ],
          [
           "grid.12380.38",
           "VU Amsterdam",
           "Amsterdam",
           "Netherlands",
           145,
           34
          ],
          [
           "grid.5650.6",
           "Academic Medical Center",
           "Amsterdam",
           "Netherlands",
           86,
           17
          ],
          [
           "grid.430814.a",
           "Antoni van Leeuwenhoek Hospital",
           "Amsterdam",
           "Netherlands",
           75,
           16
          ],
          [
           "grid.16872.3a",
           "VU University Medical Center",
           "Amsterdam",
           "Netherlands",
           74,
           37
          ],
          [
           "grid.5590.9",
           "Radboud University Nijmegen",
           "Nijmegen",
           "Netherlands",
           62,
           14
          ],
          [
           "grid.4818.5",
           "Wageningen University & Research",
           "Wageningen",
           "Netherlands",
           53,
           13
          ],
          [
           "grid.412966.e",
           "Maastricht University Medical Centre",
           "Maastricht",
           "Netherlands",
           44,
           19
          ],
          [
           "grid.6906.9",
           "Erasmus University Rotterdam",
           "Rotterdam",
           "Netherlands",
           39,
           6
          ],
          [
           "grid.466632.3",
           "EMGO Institute for Health and Care Research",
           "Amsterdam",
           "Netherlands",
           32,
           9
          ],
          [
           "grid.411737.7",
           "Netherlands Heart Institute",
           "Utrecht",
           "Netherlands",
           18,
           12
          ]
         ],
         "hovertemplate": "<b>%{hovertext}</b><br><br>aff_country=%{customdata[3]}<br>aff_name=%{customdata[1]}<br>tot_pubs=%{customdata[5]}<br>tot_affiliations=%{customdata[4]}<br>aff_id=%{customdata[0]}<br>aff_city=%{customdata[2]}<extra></extra>",
         "hovertext": [
          "Erasmus University Medical Center",
          "University Medical Center Groningen",
          "Leiden University Medical Center",
          "University Medical Center Utrecht",
          "Radboud University Nijmegen Medical Centre",
          "Amsterdam Neuroscience",
          "VU Amsterdam",
          "Academic Medical Center",
          "Antoni van Leeuwenhoek Hospital",
          "VU University Medical Center",
          "Radboud University Nijmegen",
          "Wageningen University & Research",
          "Maastricht University Medical Centre",
          "Erasmus University Rotterdam",
          "EMGO Institute for Health and Care Research",
          "Netherlands Heart Institute"
         ],
         "legendgroup": "Netherlands",
         "marker": {
          "color": "#00cc96",
          "size": [
           594,
           279,
           244,
           206,
           173,
           153,
           145,
           86,
           75,
           74,
           62,
           53,
           44,
           39,
           32,
           18
          ],
          "sizemode": "area",
          "sizeref": 3.465,
          "symbol": "circle"
         },
         "mode": "markers",
         "name": "Netherlands",
         "showlegend": true,
         "type": "scatter",
         "x": [
          "Erasmus University Medical Center",
          "University Medical Center Groningen",
          "Leiden University Medical Center",
          "University Medical Center Utrecht",
          "Radboud University Nijmegen Medical Centre",
          "Amsterdam Neuroscience",
          "VU Amsterdam",
          "Academic Medical Center",
          "Antoni van Leeuwenhoek Hospital",
          "VU University Medical Center",
          "Radboud University Nijmegen",
          "Wageningen University & Research",
          "Maastricht University Medical Centre",
          "Erasmus University Rotterdam",
          "EMGO Institute for Health and Care Research",
          "Netherlands Heart Institute"
         ],
         "xaxis": "x",
         "y": [
          85,
          44,
          60,
          42,
          38,
          26,
          34,
          17,
          16,
          37,
          14,
          13,
          19,
          6,
          9,
          12
         ],
         "yaxis": "y"
        },
        {
         "customdata": [
          [
           "grid.7737.4",
           "University of Helsinki",
           "Helsinki",
           "Finland",
           476,
           55
          ],
          [
           "grid.14758.3f",
           "National Institute for Health and Welfare",
           "Helsinki",
           "Finland",
           164,
           39
          ],
          [
           "grid.502801.e",
           "Tampere University",
           "Tampere",
           "Finland",
           123,
           28
          ],
          [
           "grid.9668.1",
           "University of Eastern Finland",
           "Kuopio",
           "Finland",
           113,
           29
          ],
          [
           "grid.410705.7",
           "Kuopio University Hospital",
           "Kuopio",
           "Finland",
           112,
           34
          ],
          [
           "grid.10858.34",
           "University of Oulu",
           "Oulu",
           "Finland",
           85,
           33
          ],
          [
           "grid.15485.3d",
           "Helsinki University Central Hospital",
           "Helsinki",
           "Finland",
           58,
           28
          ],
          [
           "grid.1374.1",
           "University of Turku",
           "Turku",
           "Finland",
           49,
           27
          ],
          [
           "grid.419013.e",
           "Kuopion Liikuntalääketieteen Tutkimuslaitos",
           "Kuopio",
           "Finland",
           33,
           12
          ],
          [
           "grid.410552.7",
           "Turku University Hospital",
           "Turku",
           "Finland",
           32,
           25
          ],
          [
           "grid.412326.0",
           "Oulu University Hospital",
           "Oulu",
           "Finland",
           27,
           19
          ],
          [
           "grid.412330.7",
           "Tampere University Hospital",
           "Tampere",
           "Finland",
           25,
           18
          ]
         ],
         "hovertemplate": "<b>%{hovertext}</b><br><br>aff_country=%{customdata[3]}<br>aff_name=%{customdata[1]}<br>tot_pubs=%{customdata[5]}<br>tot_affiliations=%{customdata[4]}<br>aff_id=%{customdata[0]}<br>aff_city=%{customdata[2]}<extra></extra>",
         "hovertext": [
          "University of Helsinki",
          "National Institute for Health and Welfare",
          "Tampere University",
          "University of Eastern Finland",
          "Kuopio University Hospital",
          "University of Oulu",
          "Helsinki University Central Hospital",
          "University of Turku",
          "Kuopion Liikuntalääketieteen Tutkimuslaitos",
          "Turku University Hospital",
          "Oulu University Hospital",
          "Tampere University Hospital"
         ],
         "legendgroup": "Finland",
         "marker": {
          "color": "#ab63fa",
          "size": [
           476,
           164,
           123,
           113,
           112,
           85,
           58,
           49,
           33,
           32,
           27,
           25
          ],
          "sizemode": "area",
          "sizeref": 3.465,
          "symbol": "circle"
         },
         "mode": "markers",
         "name": "Finland",
         "showlegend": true,
         "type": "scatter",
         "x": [
          "University of Helsinki",
          "National Institute for Health and Welfare",
          "Tampere University",
          "University of Eastern Finland",
          "Kuopio University Hospital",
          "University of Oulu",
          "Helsinki University Central Hospital",
          "University of Turku",
          "Kuopion Liikuntalääketieteen Tutkimuslaitos",
          "Turku University Hospital",
          "Oulu University Hospital",
          "Tampere University Hospital"
         ],
         "xaxis": "x",
         "y": [
          55,
          39,
          28,
          29,
          34,
          33,
          28,
          27,
          12,
          25,
          19,
          18
         ],
         "yaxis": "y"
        },
        {
         "customdata": [
          [
           "grid.4714.6",
           "Karolinska Institute",
           "Stockholm",
           "Sweden",
           382,
           100
          ],
          [
           "grid.8993.b",
           "Uppsala University",
           "Uppsala",
           "Sweden",
           186,
           58
          ],
          [
           "grid.4514.4",
           "Lund University",
           "Lund",
           "Sweden",
           157,
           43
          ],
          [
           "grid.12650.30",
           "Umeå University",
           "Umeå",
           "Sweden",
           66,
           27
          ],
          [
           "grid.24381.3c",
           "Karolinska University Hospital",
           "Stockholm",
           "Sweden",
           61,
           30
          ],
          [
           "grid.8761.8",
           "University of Gothenburg",
           "Gothenburg",
           "Sweden",
           27,
           15
          ],
          [
           "grid.6341.0",
           "Swedish University of Agricultural Sciences",
           "Uppsala",
           "Sweden",
           22,
           6
          ],
          [
           "grid.411843.b",
           "Skåne University Hospital",
           "Lund",
           "Sweden",
           21,
           11
          ]
         ],
         "hovertemplate": "<b>%{hovertext}</b><br><br>aff_country=%{customdata[3]}<br>aff_name=%{customdata[1]}<br>tot_pubs=%{customdata[5]}<br>tot_affiliations=%{customdata[4]}<br>aff_id=%{customdata[0]}<br>aff_city=%{customdata[2]}<extra></extra>",
         "hovertext": [
          "Karolinska Institute",
          "Uppsala University",
          "Lund University",
          "Umeå University",
          "Karolinska University Hospital",
          "University of Gothenburg",
          "Swedish University of Agricultural Sciences",
          "Skåne University Hospital"
         ],
         "legendgroup": "Sweden",
         "marker": {
          "color": "#FFA15A",
          "size": [
           382,
           186,
           157,
           66,
           61,
           27,
           22,
           21
          ],
          "sizemode": "area",
          "sizeref": 3.465,
          "symbol": "circle"
         },
         "mode": "markers",
         "name": "Sweden",
         "showlegend": true,
         "type": "scatter",
         "x": [
          "Karolinska Institute",
          "Uppsala University",
          "Lund University",
          "Umeå University",
          "Karolinska University Hospital",
          "University of Gothenburg",
          "Swedish University of Agricultural Sciences",
          "Skåne University Hospital"
         ],
         "xaxis": "x",
         "y": [
          100,
          58,
          43,
          27,
          30,
          15,
          6,
          11
         ],
         "yaxis": "y"
        },
        {
         "customdata": [
          [
           "grid.17063.33",
           "University of Toronto",
           "Toronto",
           "Canada",
           317,
           76
          ],
          [
           "grid.14709.3b",
           "McGill University",
           "Montreal",
           "Canada",
           174,
           47
          ],
          [
           "grid.42327.30",
           "Hospital for Sick Children",
           "Toronto",
           "Canada",
           165,
           23
          ],
          [
           "grid.17091.3e",
           "University of British Columbia",
           "Vancouver",
           "Canada",
           120,
           29
          ],
          [
           "grid.419890.d",
           "Ontario Institute for Cancer Research",
           "Toronto",
           "Canada",
           115,
           18
          ],
          [
           "grid.248762.d",
           "BC Cancer Agency",
           "Vancouver",
           "Canada",
           103,
           14
          ],
          [
           "grid.415224.4",
           "Princess Margaret Cancer Centre",
           "Toronto",
           "Canada",
           92,
           20
          ],
          [
           "grid.14848.31",
           "University of Montreal",
           "Montreal",
           "Canada",
           91,
           23
          ],
          [
           "grid.63984.30",
           "McGill University Health Centre",
           "Montreal",
           "Canada",
           44,
           18
          ],
          [
           "grid.23856.3a",
           "Université Laval",
           "Québec",
           "Canada",
           43,
           20
          ],
          [
           "grid.231844.8",
           "University Health Network",
           "Toronto",
           "Canada",
           39,
           17
          ],
          [
           "grid.25073.33",
           "McMaster University",
           "Hamilton",
           "Canada",
           29,
           9
          ],
          [
           "grid.411640.6",
           "McGill University and Génome Québec Innovation Centre",
           "Montreal",
           "Canada",
           27,
           13
          ],
          [
           "grid.17089.37",
           "University of Alberta",
           "Edmonton",
           "Canada",
           26,
           10
          ],
          [
           "grid.416166.2",
           "Mount Sinai Hospital",
           "Toronto",
           "Canada",
           24,
           11
          ],
          [
           "grid.250674.2",
           "Lunenfeld-Tanenbaum Research Institute",
           "Toronto",
           "Canada",
           21,
           8
          ],
          [
           "grid.55602.34",
           "Dalhousie University",
           "Halifax",
           "Canada",
           19,
           12
          ],
          [
           "grid.39381.30",
           "Western University",
           "London",
           "Canada",
           17,
           6
          ],
          [
           "grid.25152.31",
           "University of Saskatchewan",
           "Saskatoon",
           "Canada",
           17,
           4
          ]
         ],
         "hovertemplate": "<b>%{hovertext}</b><br><br>aff_country=%{customdata[3]}<br>aff_name=%{customdata[1]}<br>tot_pubs=%{customdata[5]}<br>tot_affiliations=%{customdata[4]}<br>aff_id=%{customdata[0]}<br>aff_city=%{customdata[2]}<extra></extra>",
         "hovertext": [
          "University of Toronto",
          "McGill University",
          "Hospital for Sick Children",
          "University of British Columbia",
          "Ontario Institute for Cancer Research",
          "BC Cancer Agency",
          "Princess Margaret Cancer Centre",
          "University of Montreal",
          "McGill University Health Centre",
          "Université Laval",
          "University Health Network",
          "McMaster University",
          "McGill University and Génome Québec Innovation Centre",
          "University of Alberta",
          "Mount Sinai Hospital",
          "Lunenfeld-Tanenbaum Research Institute",
          "Dalhousie University",
          "Western University",
          "University of Saskatchewan"
         ],
         "legendgroup": "Canada",
         "marker": {
          "color": "#19d3f3",
          "size": [
           317,
           174,
           165,
           120,
           115,
           103,
           92,
           91,
           44,
           43,
           39,
           29,
           27,
           26,
           24,
           21,
           19,
           17,
           17
          ],
          "sizemode": "area",
          "sizeref": 3.465,
          "symbol": "circle"
         },
         "mode": "markers",
         "name": "Canada",
         "showlegend": true,
         "type": "scatter",
         "x": [
          "University of Toronto",
          "McGill University",
          "Hospital for Sick Children",
          "University of British Columbia",
          "Ontario Institute for Cancer Research",
          "BC Cancer Agency",
          "Princess Margaret Cancer Centre",
          "University of Montreal",
          "McGill University Health Centre",
          "Université Laval",
          "University Health Network",
          "McMaster University",
          "McGill University and Génome Québec Innovation Centre",
          "University of Alberta",
          "Mount Sinai Hospital",
          "Lunenfeld-Tanenbaum Research Institute",
          "Dalhousie University",
          "Western University",
          "University of Saskatchewan"
         ],
         "xaxis": "x",
         "y": [
          76,
          47,
          23,
          29,
          18,
          14,
          20,
          23,
          18,
          20,
          17,
          9,
          13,
          10,
          11,
          8,
          12,
          6,
          4
         ],
         "yaxis": "y"
        },
        {
         "customdata": [
          [
           "grid.1003.2",
           "University of Queensland",
           "Brisbane",
           "Australia",
           316,
           78
          ],
          [
           "grid.1049.c",
           "QIMR Berghofer Medical Research Institute",
           "Brisbane",
           "Australia",
           232,
           56
          ],
          [
           "grid.1008.9",
           "University of Melbourne",
           "Melbourne",
           "Australia",
           214,
           68
          ],
          [
           "grid.1013.3",
           "University of Sydney",
           "Sydney",
           "Australia",
           95,
           35
          ],
          [
           "grid.1012.2",
           "University of Western Australia",
           "Perth",
           "Australia",
           83,
           37
          ],
          [
           "grid.266842.c",
           "University of Newcastle Australia",
           "Newcastle",
           "Australia",
           54,
           20
          ],
          [
           "grid.1005.4",
           "UNSW Sydney",
           "Sydney",
           "Australia",
           51,
           16
          ],
          [
           "grid.1009.8",
           "University of Tasmania",
           "Hobart",
           "Australia",
           36,
           22
          ],
          [
           "grid.452283.a",
           "AgriBio",
           "Melbourne",
           "Australia",
           35,
           5
          ],
          [
           "grid.3263.4",
           "Cancer Council Victoria",
           "Melbourne",
           "Australia",
           34,
           13
          ],
          [
           "grid.1055.1",
           "Peter MacCallum Cancer Centre",
           "Melbourne",
           "Australia",
           32,
           9
          ],
          [
           "grid.1002.3",
           "Monash University",
           "Melbourne",
           "Australia",
           29,
           12
          ],
          [
           "grid.1058.c",
           "Murdoch Children's Research Institute",
           "Melbourne",
           "Australia",
           28,
           12
          ],
          [
           "grid.415306.5",
           "Garvan Institute of Medical Research",
           "Darlinghurst",
           "Australia",
           25,
           11
          ],
          [
           "grid.416153.4",
           "Royal Melbourne Hospital",
           "Melbourne",
           "Australia",
           24,
           5
          ],
          [
           "grid.1024.7",
           "Queensland University of Technology",
           "Brisbane",
           "Australia",
           22,
           14
          ],
          [
           "grid.1014.4",
           "Flinders University",
           "Adelaide",
           "Australia",
           22,
           11
          ],
          [
           "grid.1042.7",
           "Walter and Eliza Hall Institute of Medical Research",
           "Melbourne",
           "Australia",
           21,
           8
          ],
          [
           "grid.414925.f",
           "Flinders Medical Centre",
           "Bedford Park",
           "Australia",
           20,
           2
          ],
          [
           "grid.1010.0",
           "University of Adelaide",
           "Adelaide",
           "Australia",
           19,
           14
          ]
         ],
         "hovertemplate": "<b>%{hovertext}</b><br><br>aff_country=%{customdata[3]}<br>aff_name=%{customdata[1]}<br>tot_pubs=%{customdata[5]}<br>tot_affiliations=%{customdata[4]}<br>aff_id=%{customdata[0]}<br>aff_city=%{customdata[2]}<extra></extra>",
         "hovertext": [
          "University of Queensland",
          "QIMR Berghofer Medical Research Institute",
          "University of Melbourne",
          "University of Sydney",
          "University of Western Australia",
          "University of Newcastle Australia",
          "UNSW Sydney",
          "University of Tasmania",
          "AgriBio",
          "Cancer Council Victoria",
          "Peter MacCallum Cancer Centre",
          "Monash University",
          "Murdoch Children's Research Institute",
          "Garvan Institute of Medical Research",
          "Royal Melbourne Hospital",
          "Queensland University of Technology",
          "Flinders University",
          "Walter and Eliza Hall Institute of Medical Research",
          "Flinders Medical Centre",
          "University of Adelaide"
         ],
         "legendgroup": "Australia",
         "marker": {
          "color": "#FF6692",
          "size": [
           316,
           232,
           214,
           95,
           83,
           54,
           51,
           36,
           35,
           34,
           32,
           29,
           28,
           25,
           24,
           22,
           22,
           21,
           20,
           19
          ],
          "sizemode": "area",
          "sizeref": 3.465,
          "symbol": "circle"
         },
         "mode": "markers",
         "name": "Australia",
         "showlegend": true,
         "type": "scatter",
         "x": [
          "University of Queensland",
          "QIMR Berghofer Medical Research Institute",
          "University of Melbourne",
          "University of Sydney",
          "University of Western Australia",
          "University of Newcastle Australia",
          "UNSW Sydney",
          "University of Tasmania",
          "AgriBio",
          "Cancer Council Victoria",
          "Peter MacCallum Cancer Centre",
          "Monash University",
          "Murdoch Children's Research Institute",
          "Garvan Institute of Medical Research",
          "Royal Melbourne Hospital",
          "Queensland University of Technology",
          "Flinders University",
          "Walter and Eliza Hall Institute of Medical Research",
          "Flinders Medical Centre",
          "University of Adelaide"
         ],
         "xaxis": "x",
         "y": [
          78,
          56,
          68,
          35,
          37,
          20,
          16,
          22,
          5,
          13,
          9,
          12,
          12,
          11,
          5,
          14,
          11,
          8,
          2,
          14
         ],
         "yaxis": "y"
        },
        {
         "customdata": [
          [
           "grid.7497.d",
           "German Cancer Research Center",
           "Heidelberg",
           "Germany",
           300,
           42
          ],
          [
           "grid.9647.c",
           "Leipzig University",
           "Leipzig",
           "Germany",
           168,
           28
          ],
          [
           "grid.6363.0",
           "Charité",
           "Berlin",
           "Germany",
           160,
           51
          ],
          [
           "grid.5603.0",
           "University of Greifswald",
           "Greifswald",
           "Germany",
           133,
           34
          ],
          [
           "grid.452396.f",
           "German Centre for Cardiovascular Research",
           "Berlin",
           "Germany",
           126,
           31
          ],
          [
           "grid.10388.32",
           "University of Bonn",
           "Bonn",
           "Germany",
           125,
           32
          ],
          [
           "grid.5252.0",
           "Ludwig Maximilian University of Munich",
           "Munich",
           "Germany",
           118,
           54
          ],
          [
           "grid.9764.c",
           "Kiel University",
           "Kiel",
           "Germany",
           99,
           27
          ],
          [
           "grid.7700.0",
           "Heidelberg University",
           "Heidelberg",
           "Germany",
           89,
           44
          ],
          [
           "grid.4567.0",
           "Helmholtz Zentrum München",
           "Munich",
           "Germany",
           79,
           30
          ],
          [
           "grid.6190.e",
           "University of Cologne",
           "Cologne",
           "Germany",
           78,
           31
          ],
          [
           "grid.10423.34",
           "Hannover Medical School",
           "Hanover",
           "Germany",
           74,
           20
          ],
          [
           "grid.6936.a",
           "Technical University of Munich",
           "Munich",
           "Germany",
           68,
           42
          ],
          [
           "grid.419538.2",
           "Max Planck Institute for Molecular Genetics",
           "Berlin",
           "Germany",
           68,
           13
          ],
          [
           "grid.418934.3",
           "Institute of Plant Genetics and Crop Plant Research",
           "Gatersleben",
           "Germany",
           64,
           9
          ],
          [
           "grid.452622.5",
           "German Center for Diabetes Research",
           "Munich",
           "Germany",
           62,
           23
          ],
          [
           "grid.419491.0",
           "Max Delbrück Center for Molecular Medicine",
           "Berlin",
           "Germany",
           60,
           14
          ],
          [
           "grid.4709.a",
           "European Molecular Biology Laboratory",
           "Heidelberg",
           "Germany",
           50,
           13
          ],
          [
           "grid.411097.a",
           "University Hospital Cologne",
           "Cologne",
           "Germany",
           49,
           16
          ],
          [
           "grid.13648.38",
           "University Medical Center Hamburg-Eppendorf",
           "Hamburg",
           "Germany",
           41,
           21
          ],
          [
           "grid.412468.d",
           "University Hospital Schleswig-Holstein",
           "Kiel",
           "Germany",
           39,
           14
          ],
          [
           "grid.7727.5",
           "University of Regensburg",
           "Regensburg",
           "Germany",
           38,
           16
          ],
          [
           "grid.484013.a",
           "Berlin Institute of Health",
           "Berlin",
           "Germany",
           33,
           10
          ],
          [
           "grid.6582.9",
           "University of Ulm",
           "Ulm",
           "Germany",
           32,
           14
          ],
          [
           "grid.411941.8",
           "University Hospital Regensburg",
           "Regensburg",
           "Germany",
           31,
           14
          ],
          [
           "grid.424247.3",
           "German Center for Neurodegenerative Diseases",
           "Bonn",
           "Germany",
           30,
           17
          ],
          [
           "grid.10392.39",
           "University of Tübingen",
           "Tübingen",
           "Germany",
           30,
           17
          ],
          [
           "grid.5253.1",
           "University Hospital Heidelberg",
           "Heidelberg",
           "Germany",
           30,
           16
          ],
          [
           "grid.5330.5",
           "University of Erlangen-Nuremberg",
           "Erlangen",
           "Germany",
           29,
           20
          ],
          [
           "grid.5949.1",
           "University of Münster",
           "Münster",
           "Germany",
           26,
           14
          ],
          [
           "grid.419548.5",
           "Max Planck Institute of Psychiatry",
           "Munich",
           "Germany",
           26,
           11
          ],
          [
           "grid.8379.5",
           "University of Würzburg",
           "Wurzburg",
           "Germany",
           25,
           12
          ],
          [
           "grid.5963.9",
           "University of Freiburg",
           "Freiburg",
           "Germany",
           24,
           8
          ],
          [
           "grid.9018.0",
           "Martin Luther University Halle-Wittenberg",
           "Halle",
           "Germany",
           23,
           10
          ],
          [
           "grid.411327.2",
           "Heinrich Heine University Düsseldorf",
           "Düsseldorf",
           "Germany",
           23,
           6
          ],
          [
           "grid.410718.b",
           "Essen University Hospital",
           "Essen",
           "Germany",
           22,
           10
          ],
          [
           "grid.418213.d",
           "German Institute of Human Nutrition",
           "Potsdam",
           "Germany",
           22,
           9
          ],
          [
           "grid.413757.3",
           "Central Institute of Mental Health",
           "Mannheim",
           "Germany",
           21,
           5
          ],
          [
           "grid.428620.a",
           "Hertie Institute for Clinical Brain Research",
           "Tübingen",
           "Germany",
           18,
           6
          ],
          [
           "grid.429509.3",
           "Max Planck Institute of Immunobiology and Epigenetics",
           "Freiburg",
           "Germany",
           18,
           6
          ],
          [
           "grid.419498.9",
           "Max Planck Institute for Plant Breeding Research",
           "Cologne",
           "Germany",
           17,
           4
          ]
         ],
         "hovertemplate": "<b>%{hovertext}</b><br><br>aff_country=%{customdata[3]}<br>aff_name=%{customdata[1]}<br>tot_pubs=%{customdata[5]}<br>tot_affiliations=%{customdata[4]}<br>aff_id=%{customdata[0]}<br>aff_city=%{customdata[2]}<extra></extra>",
         "hovertext": [
          "German Cancer Research Center",
          "Leipzig University",
          "Charité",
          "University of Greifswald",
          "German Centre for Cardiovascular Research",
          "University of Bonn",
          "Ludwig Maximilian University of Munich",
          "Kiel University",
          "Heidelberg University",
          "Helmholtz Zentrum München",
          "University of Cologne",
          "Hannover Medical School",
          "Technical University of Munich",
          "Max Planck Institute for Molecular Genetics",
          "Institute of Plant Genetics and Crop Plant Research",
          "German Center for Diabetes Research",
          "Max Delbrück Center for Molecular Medicine",
          "European Molecular Biology Laboratory",
          "University Hospital Cologne",
          "University Medical Center Hamburg-Eppendorf",
          "University Hospital Schleswig-Holstein",
          "University of Regensburg",
          "Berlin Institute of Health",
          "University of Ulm",
          "University Hospital Regensburg",
          "German Center for Neurodegenerative Diseases",
          "University of Tübingen",
          "University Hospital Heidelberg",
          "University of Erlangen-Nuremberg",
          "University of Münster",
          "Max Planck Institute of Psychiatry",
          "University of Würzburg",
          "University of Freiburg",
          "Martin Luther University Halle-Wittenberg",
          "Heinrich Heine University Düsseldorf",
          "Essen University Hospital",
          "German Institute of Human Nutrition",
          "Central Institute of Mental Health",
          "Hertie Institute for Clinical Brain Research",
          "Max Planck Institute of Immunobiology and Epigenetics",
          "Max Planck Institute for Plant Breeding Research"
         ],
         "legendgroup": "Germany",
         "marker": {
          "color": "#B6E880",
          "size": [
           300,
           168,
           160,
           133,
           126,
           125,
           118,
           99,
           89,
           79,
           78,
           74,
           68,
           68,
           64,
           62,
           60,
           50,
           49,
           41,
           39,
           38,
           33,
           32,
           31,
           30,
           30,
           30,
           29,
           26,
           26,
           25,
           24,
           23,
           23,
           22,
           22,
           21,
           18,
           18,
           17
          ],
          "sizemode": "area",
          "sizeref": 3.465,
          "symbol": "circle"
         },
         "mode": "markers",
         "name": "Germany",
         "showlegend": true,
         "type": "scatter",
         "x": [
          "German Cancer Research Center",
          "Leipzig University",
          "Charité",
          "University of Greifswald",
          "German Centre for Cardiovascular Research",
          "University of Bonn",
          "Ludwig Maximilian University of Munich",
          "Kiel University",
          "Heidelberg University",
          "Helmholtz Zentrum München",
          "University of Cologne",
          "Hannover Medical School",
          "Technical University of Munich",
          "Max Planck Institute for Molecular Genetics",
          "Institute of Plant Genetics and Crop Plant Research",
          "German Center for Diabetes Research",
          "Max Delbrück Center for Molecular Medicine",
          "European Molecular Biology Laboratory",
          "University Hospital Cologne",
          "University Medical Center Hamburg-Eppendorf",
          "University Hospital Schleswig-Holstein",
          "University of Regensburg",
          "Berlin Institute of Health",
          "University of Ulm",
          "University Hospital Regensburg",
          "German Center for Neurodegenerative Diseases",
          "University of Tübingen",
          "University Hospital Heidelberg",
          "University of Erlangen-Nuremberg",
          "University of Münster",
          "Max Planck Institute of Psychiatry",
          "University of Würzburg",
          "University of Freiburg",
          "Martin Luther University Halle-Wittenberg",
          "Heinrich Heine University Düsseldorf",
          "Essen University Hospital",
          "German Institute of Human Nutrition",
          "Central Institute of Mental Health",
          "Hertie Institute for Clinical Brain Research",
          "Max Planck Institute of Immunobiology and Epigenetics",
          "Max Planck Institute for Plant Breeding Research"
         ],
         "xaxis": "x",
         "y": [
          42,
          28,
          51,
          34,
          31,
          32,
          54,
          27,
          44,
          30,
          31,
          20,
          42,
          13,
          9,
          23,
          14,
          13,
          16,
          21,
          14,
          16,
          10,
          14,
          14,
          17,
          17,
          16,
          20,
          14,
          11,
          12,
          8,
          10,
          6,
          10,
          9,
          5,
          6,
          6,
          4
         ],
         "yaxis": "y"
        },
        {
         "customdata": [
          [
           "grid.14013.37",
           "University of Iceland",
           "Reykjavik",
           "Iceland",
           295,
           81
          ],
          [
           "grid.410540.4",
           "National University Hospital of Iceland",
           "Reykjavik",
           "Iceland",
           97,
           35
          ],
          [
           "grid.420802.c",
           "Icelandic Heart Association",
           "Kopavogur",
           "Iceland",
           63,
           27
          ],
          [
           "grid.421812.c",
           "deCODE Genetics (Iceland)",
           "Reykjavik",
           "Iceland",
           60,
           14
          ]
         ],
         "hovertemplate": "<b>%{hovertext}</b><br><br>aff_country=%{customdata[3]}<br>aff_name=%{customdata[1]}<br>tot_pubs=%{customdata[5]}<br>tot_affiliations=%{customdata[4]}<br>aff_id=%{customdata[0]}<br>aff_city=%{customdata[2]}<extra></extra>",
         "hovertext": [
          "University of Iceland",
          "National University Hospital of Iceland",
          "Icelandic Heart Association",
          "deCODE Genetics (Iceland)"
         ],
         "legendgroup": "Iceland",
         "marker": {
          "color": "#FF97FF",
          "size": [
           295,
           97,
           63,
           60
          ],
          "sizemode": "area",
          "sizeref": 3.465,
          "symbol": "circle"
         },
         "mode": "markers",
         "name": "Iceland",
         "showlegend": true,
         "type": "scatter",
         "x": [
          "University of Iceland",
          "National University Hospital of Iceland",
          "Icelandic Heart Association",
          "deCODE Genetics (Iceland)"
         ],
         "xaxis": "x",
         "y": [
          81,
          35,
          27,
          14
         ],
         "yaxis": "y"
        },
        {
         "customdata": [
          [
           "grid.5254.6",
           "University of Copenhagen",
           "Copenhagen",
           "Denmark",
           273,
           75
          ],
          [
           "grid.7048.b",
           "Aarhus University",
           "Aarhus",
           "Denmark",
           210,
           39
          ],
          [
           "grid.452548.a",
           "Lundbeck Foundation",
           "Copenhagen",
           "Denmark",
           140,
           17
          ],
          [
           "grid.10825.3e",
           "University of Southern Denmark",
           "Odense",
           "Denmark",
           68,
           24
          ],
          [
           "grid.6203.7",
           "Statens Serum Institut",
           "Copenhagen",
           "Denmark",
           57,
           23
          ],
          [
           "grid.5170.3",
           "Technical University of Denmark",
           "Kongens Lyngby",
           "Denmark",
           34,
           10
          ],
          [
           "grid.475435.4",
           "Rigshospitalet",
           "Copenhagen",
           "Denmark",
           28,
           18
          ],
          [
           "grid.419658.7",
           "Steno Diabetes Center",
           "Charlottenlund",
           "Denmark",
           23,
           17
          ],
          [
           "grid.459623.f",
           "Sygehus Lillebælt",
           "Fredericia",
           "Denmark",
           19,
           7
          ],
          [
           "grid.154185.c",
           "Aarhus University Hospital",
           "Aarhus",
           "Denmark",
           18,
           14
          ],
          [
           "grid.7143.1",
           "Odense University Hospital",
           "Odense",
           "Denmark",
           16,
           11
          ]
         ],
         "hovertemplate": "<b>%{hovertext}</b><br><br>aff_country=%{customdata[3]}<br>aff_name=%{customdata[1]}<br>tot_pubs=%{customdata[5]}<br>tot_affiliations=%{customdata[4]}<br>aff_id=%{customdata[0]}<br>aff_city=%{customdata[2]}<extra></extra>",
         "hovertext": [
          "University of Copenhagen",
          "Aarhus University",
          "Lundbeck Foundation",
          "University of Southern Denmark",
          "Statens Serum Institut",
          "Technical University of Denmark",
          "Rigshospitalet",
          "Steno Diabetes Center",
          "Sygehus Lillebælt",
          "Aarhus University Hospital",
          "Odense University Hospital"
         ],
         "legendgroup": "Denmark",
         "marker": {
          "color": "#FECB52",
          "size": [
           273,
           210,
           140,
           68,
           57,
           34,
           28,
           23,
           19,
           18,
           16
          ],
          "sizemode": "area",
          "sizeref": 3.465,
          "symbol": "circle"
         },
         "mode": "markers",
         "name": "Denmark",
         "showlegend": true,
         "type": "scatter",
         "x": [
          "University of Copenhagen",
          "Aarhus University",
          "Lundbeck Foundation",
          "University of Southern Denmark",
          "Statens Serum Institut",
          "Technical University of Denmark",
          "Rigshospitalet",
          "Steno Diabetes Center",
          "Sygehus Lillebælt",
          "Aarhus University Hospital",
          "Odense University Hospital"
         ],
         "xaxis": "x",
         "y": [
          75,
          39,
          17,
          24,
          23,
          10,
          18,
          17,
          7,
          14,
          11
         ],
         "yaxis": "y"
        },
        {
         "customdata": [
          [
           "grid.256111.0",
           "Fujian Agriculture and Forestry University",
           "Fuzhou",
           "China",
           237,
           10
          ],
          [
           "grid.419092.7",
           "Shanghai Institutes for Biological Sciences",
           "Shanghai",
           "China",
           156,
           21
          ],
          [
           "grid.21155.32",
           "Beijing Genomics Institute",
           "Shenzhen",
           "China",
           152,
           15
          ],
          [
           "grid.35155.37",
           "Huazhong Agricultural University",
           "Wuhan",
           "China",
           133,
           17
          ],
          [
           "grid.507003.1",
           "National Center for Gene Research",
           "Shanghai",
           "China",
           96,
           8
          ],
          [
           "grid.418558.5",
           "Institute of Genetics and Developmental Biology",
           "Beijing",
           "China",
           88,
           15
          ],
          [
           "grid.16821.3c",
           "Shanghai Jiao Tong University",
           "Shanghai",
           "China",
           76,
           17
          ],
          [
           "grid.11135.37",
           "Peking University",
           "Beijing",
           "China",
           76,
           12
          ],
          [
           "grid.27871.3b",
           "Nanjing Agricultural University",
           "Nanjing",
           "China",
           73,
           10
          ],
          [
           "grid.12527.33",
           "Tsinghua University",
           "Beijing",
           "China",
           71,
           11
          ],
          [
           "grid.186775.a",
           "Anhui Medical University",
           "Hefei",
           "China",
           61,
           3
          ],
          [
           "grid.464357.7",
           "Institute of Vegetables and Flowers",
           "Beijing",
           "China",
           50,
           10
          ],
          [
           "grid.194645.b",
           "University of Hong Kong",
           "Hong Kong",
           "China",
           49,
           19
          ],
          [
           "grid.506261.6",
           "Chinese Academy of Medical Sciences & Peking Union Medical College",
           "Beijing",
           "China",
           44,
           15
          ],
          [
           "grid.410726.6",
           "University of Chinese Academy of Sciences",
           "Beijing",
           "China",
           42,
           10
          ],
          [
           "grid.24696.3f",
           "Capital Medical University",
           "Beijing",
           "China",
           40,
           9
          ],
          [
           "grid.13402.34",
           "Zhejiang University",
           "Hangzhou",
           "China",
           35,
           9
          ],
          [
           "grid.10784.3a",
           "Chinese University of Hong Kong",
           "Shatin",
           "China",
           31,
           9
          ],
          [
           "grid.464267.5",
           "Cotton Research Institute",
           "Beijing",
           "China",
           31,
           2
          ],
          [
           "grid.33199.31",
           "Huazhong University of Science and Technology",
           "Wuhan",
           "China",
           30,
           6
          ],
          [
           "grid.410751.6",
           "Biomarker Technologies Corporation (China)",
           "Beijing",
           "China",
           29,
           6
          ],
          [
           "grid.9227.e",
           "Chinese Academy of Sciences",
           "Beijing",
           "China",
           28,
           13
          ],
          [
           "grid.22935.3f",
           "China Agricultural University",
           "Beijing",
           "China",
           28,
           5
          ],
          [
           "grid.49470.3e",
           "Wuhan University",
           "Wuhan",
           "China",
           28,
           4
          ],
          [
           "grid.12981.33",
           "Sun Yat-sen University",
           "Guangzhou",
           "China",
           24,
           8
          ],
          [
           "grid.464499.2",
           "Zhengzhou Fruit Research Institute",
           "Zhengzhou",
           "China",
           24,
           2
          ],
          [
           "grid.89957.3a",
           "Nanjing Medical University",
           "Nanjing",
           "China",
           22,
           9
          ],
          [
           "grid.488316.0",
           "Agricultural Genomics Institute at Shenzhen",
           "Shenzhen",
           "China",
           22,
           8
          ],
          [
           "grid.411863.9",
           "Guangzhou University",
           "Guangzhou",
           "China",
           22,
           3
          ],
          [
           "grid.410587.f",
           "Shandong Academy of Medical Science",
           "Jinan",
           "China",
           22,
           2
          ],
          [
           "grid.412277.5",
           "Ruijin Hospital",
           "Shanghai",
           "China",
           22,
           1
          ],
          [
           "grid.458493.7",
           "Northeast Institute of Geography and Agroecology",
           "Changchun",
           "China",
           21,
           3
          ],
          [
           "grid.464345.4",
           "Institute of Crop Sciences",
           "Beijing",
           "China",
           20,
           4
          ],
          [
           "grid.419897.a",
           "Ministry of Education of the People's Republic of China",
           "Beijing",
           "China",
           20,
           4
          ],
          [
           "grid.484590.4",
           "Qingdao National Laboratory for Marine Science and Technology",
           "Qingdao",
           "China",
           18,
           2
          ],
          [
           "grid.418527.d",
           "China National Rice Research Institute",
           "Hangzhou",
           "China",
           17,
           5
          ],
          [
           "grid.440773.3",
           "Yunnan University",
           "Kunming",
           "China",
           17,
           3
          ],
          [
           "grid.429211.d",
           "Institute of Hydrobiology",
           "Wuhan",
           "China",
           17,
           1
          ]
         ],
         "hovertemplate": "<b>%{hovertext}</b><br><br>aff_country=%{customdata[3]}<br>aff_name=%{customdata[1]}<br>tot_pubs=%{customdata[5]}<br>tot_affiliations=%{customdata[4]}<br>aff_id=%{customdata[0]}<br>aff_city=%{customdata[2]}<extra></extra>",
         "hovertext": [
          "Fujian Agriculture and Forestry University",
          "Shanghai Institutes for Biological Sciences",
          "Beijing Genomics Institute",
          "Huazhong Agricultural University",
          "National Center for Gene Research",
          "Institute of Genetics and Developmental Biology",
          "Shanghai Jiao Tong University",
          "Peking University",
          "Nanjing Agricultural University",
          "Tsinghua University",
          "Anhui Medical University",
          "Institute of Vegetables and Flowers",
          "University of Hong Kong",
          "Chinese Academy of Medical Sciences & Peking Union Medical College",
          "University of Chinese Academy of Sciences",
          "Capital Medical University",
          "Zhejiang University",
          "Chinese University of Hong Kong",
          "Cotton Research Institute",
          "Huazhong University of Science and Technology",
          "Biomarker Technologies Corporation (China)",
          "Chinese Academy of Sciences",
          "China Agricultural University",
          "Wuhan University",
          "Sun Yat-sen University",
          "Zhengzhou Fruit Research Institute",
          "Nanjing Medical University",
          "Agricultural Genomics Institute at Shenzhen",
          "Guangzhou University",
          "Shandong Academy of Medical Science",
          "Ruijin Hospital",
          "Northeast Institute of Geography and Agroecology",
          "Institute of Crop Sciences",
          "Ministry of Education of the People's Republic of China",
          "Qingdao National Laboratory for Marine Science and Technology",
          "China National Rice Research Institute",
          "Yunnan University",
          "Institute of Hydrobiology"
         ],
         "legendgroup": "China",
         "marker": {
          "color": "#636efa",
          "size": [
           237,
           156,
           152,
           133,
           96,
           88,
           76,
           76,
           73,
           71,
           61,
           50,
           49,
           44,
           42,
           40,
           35,
           31,
           31,
           30,
           29,
           28,
           28,
           28,
           24,
           24,
           22,
           22,
           22,
           22,
           22,
           21,
           20,
           20,
           18,
           17,
           17,
           17
          ],
          "sizemode": "area",
          "sizeref": 3.465,
          "symbol": "circle"
         },
         "mode": "markers",
         "name": "China",
         "showlegend": true,
         "type": "scatter",
         "x": [
          "Fujian Agriculture and Forestry University",
          "Shanghai Institutes for Biological Sciences",
          "Beijing Genomics Institute",
          "Huazhong Agricultural University",
          "National Center for Gene Research",
          "Institute of Genetics and Developmental Biology",
          "Shanghai Jiao Tong University",
          "Peking University",
          "Nanjing Agricultural University",
          "Tsinghua University",
          "Anhui Medical University",
          "Institute of Vegetables and Flowers",
          "University of Hong Kong",
          "Chinese Academy of Medical Sciences & Peking Union Medical College",
          "University of Chinese Academy of Sciences",
          "Capital Medical University",
          "Zhejiang University",
          "Chinese University of Hong Kong",
          "Cotton Research Institute",
          "Huazhong University of Science and Technology",
          "Biomarker Technologies Corporation (China)",
          "Chinese Academy of Sciences",
          "China Agricultural University",
          "Wuhan University",
          "Sun Yat-sen University",
          "Zhengzhou Fruit Research Institute",
          "Nanjing Medical University",
          "Agricultural Genomics Institute at Shenzhen",
          "Guangzhou University",
          "Shandong Academy of Medical Science",
          "Ruijin Hospital",
          "Northeast Institute of Geography and Agroecology",
          "Institute of Crop Sciences",
          "Ministry of Education of the People's Republic of China",
          "Qingdao National Laboratory for Marine Science and Technology",
          "China National Rice Research Institute",
          "Yunnan University",
          "Institute of Hydrobiology"
         ],
         "xaxis": "x",
         "y": [
          10,
          21,
          15,
          17,
          8,
          15,
          17,
          12,
          10,
          11,
          3,
          10,
          19,
          15,
          10,
          9,
          9,
          9,
          2,
          6,
          6,
          13,
          5,
          4,
          8,
          2,
          9,
          8,
          3,
          2,
          1,
          3,
          4,
          4,
          2,
          5,
          3,
          1
         ],
         "yaxis": "y"
        },
        {
         "customdata": [
          [
           "grid.4280.e",
           "National University of Singapore",
           "Singapore",
           "Singapore",
           227,
           64
          ],
          [
           "grid.418377.e",
           "Genome Institute of Singapore",
           "Singapore",
           "Singapore",
           133,
           27
          ],
          [
           "grid.428397.3",
           "Duke NUS Graduate Medical School",
           "Singapore",
           "Singapore",
           113,
           22
          ],
          [
           "grid.419272.b",
           "Singapore National Eye Center",
           "Singapore",
           "Singapore",
           68,
           14
          ],
          [
           "grid.410759.e",
           "National University Health System",
           "Singapore",
           "Singapore",
           51,
           13
          ],
          [
           "grid.418812.6",
           "Institute of Molecular and Cell Biology",
           "Singapore",
           "Singapore",
           46,
           11
          ],
          [
           "grid.410724.4",
           "National Cancer Centre Singapore",
           "Singapore",
           "Singapore",
           45,
           10
          ],
          [
           "grid.272555.2",
           "Singapore Eye Research Institute",
           "Singapore",
           "Singapore",
           30,
           5
          ],
          [
           "grid.163555.1",
           "Singapore General Hospital",
           "Singapore",
           "Singapore",
           25,
           5
          ],
          [
           "grid.59025.3b",
           "Nanyang Technological University",
           "Singapore",
           "Singapore",
           19,
           15
          ]
         ],
         "hovertemplate": "<b>%{hovertext}</b><br><br>aff_country=%{customdata[3]}<br>aff_name=%{customdata[1]}<br>tot_pubs=%{customdata[5]}<br>tot_affiliations=%{customdata[4]}<br>aff_id=%{customdata[0]}<br>aff_city=%{customdata[2]}<extra></extra>",
         "hovertext": [
          "National University of Singapore",
          "Genome Institute of Singapore",
          "Duke NUS Graduate Medical School",
          "Singapore National Eye Center",
          "National University Health System",
          "Institute of Molecular and Cell Biology",
          "National Cancer Centre Singapore",
          "Singapore Eye Research Institute",
          "Singapore General Hospital",
          "Nanyang Technological University"
         ],
         "legendgroup": "Singapore",
         "marker": {
          "color": "#EF553B",
          "size": [
           227,
           133,
           113,
           68,
           51,
           46,
           45,
           30,
           25,
           19
          ],
          "sizemode": "area",
          "sizeref": 3.465,
          "symbol": "circle"
         },
         "mode": "markers",
         "name": "Singapore",
         "showlegend": true,
         "type": "scatter",
         "x": [
          "National University of Singapore",
          "Genome Institute of Singapore",
          "Duke NUS Graduate Medical School",
          "Singapore National Eye Center",
          "National University Health System",
          "Institute of Molecular and Cell Biology",
          "National Cancer Centre Singapore",
          "Singapore Eye Research Institute",
          "Singapore General Hospital",
          "Nanyang Technological University"
         ],
         "xaxis": "x",
         "y": [
          64,
          27,
          22,
          14,
          13,
          11,
          10,
          5,
          5,
          15
         ],
         "yaxis": "y"
        },
        {
         "customdata": [
          [
           "grid.10939.32",
           "University of Tartu",
           "Tartu",
           "Estonia",
           197,
           57
          ]
         ],
         "hovertemplate": "<b>%{hovertext}</b><br><br>aff_country=%{customdata[3]}<br>aff_name=%{customdata[1]}<br>tot_pubs=%{customdata[5]}<br>tot_affiliations=%{customdata[4]}<br>aff_id=%{customdata[0]}<br>aff_city=%{customdata[2]}<extra></extra>",
         "hovertext": [
          "University of Tartu"
         ],
         "legendgroup": "Estonia",
         "marker": {
          "color": "#00cc96",
          "size": [
           197
          ],
          "sizemode": "area",
          "sizeref": 3.465,
          "symbol": "circle"
         },
         "mode": "markers",
         "name": "Estonia",
         "showlegend": true,
         "type": "scatter",
         "x": [
          "University of Tartu"
         ],
         "xaxis": "x",
         "y": [
          57
         ],
         "yaxis": "y"
        },
        {
         "customdata": [
          [
           "grid.26999.3d",
           "University of Tokyo",
           "Tokyo",
           "Japan",
           152,
           36
          ],
          [
           "grid.258799.8",
           "Kyoto University",
           "Kyoto",
           "Japan",
           97,
           24
          ],
          [
           "grid.7597.c",
           "RIKEN",
           "Wako",
           "Japan",
           93,
           30
          ],
          [
           "grid.136593.b",
           "Osaka University",
           "Osaka",
           "Japan",
           65,
           21
          ],
          [
           "grid.412708.8",
           "University of Tokyo Hospital",
           "Tokyo",
           "Japan",
           48,
           2
          ],
          [
           "grid.272242.3",
           "National Cancer Centre",
           "Tokyo",
           "Japan",
           45,
           8
          ],
          [
           "grid.27476.30",
           "Nagoya University",
           "Nagoya",
           "Japan",
           42,
           13
          ],
          [
           "grid.177174.3",
           "Kyushu University",
           "Fukuoka",
           "Japan",
           28,
           16
          ],
          [
           "grid.268441.d",
           "Yokohama City University",
           "Yokohama",
           "Japan",
           24,
           6
          ],
          [
           "grid.272458.e",
           "Kyoto Prefectural University of Medicine",
           "Kyoto",
           "Japan",
           22,
           5
          ],
          [
           "grid.410849.0",
           "University of Miyazaki",
           "Miyazaki",
           "Japan",
           18,
           6
          ],
          [
           "grid.265073.5",
           "Tokyo Medical and Dental University",
           "Tokyo",
           "Japan",
           17,
           12
          ]
         ],
         "hovertemplate": "<b>%{hovertext}</b><br><br>aff_country=%{customdata[3]}<br>aff_name=%{customdata[1]}<br>tot_pubs=%{customdata[5]}<br>tot_affiliations=%{customdata[4]}<br>aff_id=%{customdata[0]}<br>aff_city=%{customdata[2]}<extra></extra>",
         "hovertext": [
          "University of Tokyo",
          "Kyoto University",
          "RIKEN",
          "Osaka University",
          "University of Tokyo Hospital",
          "National Cancer Centre",
          "Nagoya University",
          "Kyushu University",
          "Yokohama City University",
          "Kyoto Prefectural University of Medicine",
          "University of Miyazaki",
          "Tokyo Medical and Dental University"
         ],
         "legendgroup": "Japan",
         "marker": {
          "color": "#ab63fa",
          "size": [
           152,
           97,
           93,
           65,
           48,
           45,
           42,
           28,
           24,
           22,
           18,
           17
          ],
          "sizemode": "area",
          "sizeref": 3.465,
          "symbol": "circle"
         },
         "mode": "markers",
         "name": "Japan",
         "showlegend": true,
         "type": "scatter",
         "x": [
          "University of Tokyo",
          "Kyoto University",
          "RIKEN",
          "Osaka University",
          "University of Tokyo Hospital",
          "National Cancer Centre",
          "Nagoya University",
          "Kyushu University",
          "Yokohama City University",
          "Kyoto Prefectural University of Medicine",
          "University of Miyazaki",
          "Tokyo Medical and Dental University"
         ],
         "xaxis": "x",
         "y": [
          36,
          24,
          30,
          21,
          2,
          8,
          13,
          16,
          6,
          5,
          6,
          12
         ],
         "yaxis": "y"
        },
        {
         "customdata": [
          [
           "grid.55325.34",
           "Oslo University Hospital",
           "Oslo",
           "Norway",
           145,
           46
          ],
          [
           "grid.7914.b",
           "University of Bergen",
           "Bergen",
           "Norway",
           101,
           36
          ],
          [
           "grid.5947.f",
           "Norwegian University of Science and Technology",
           "Trondheim",
           "Norway",
           79,
           24
          ],
          [
           "grid.412008.f",
           "Haukeland University Hospital",
           "Bergen",
           "Norway",
           70,
           23
          ],
          [
           "grid.5510.1",
           "University of Oslo",
           "Oslo",
           "Norway",
           64,
           27
          ],
          [
           "grid.52522.32",
           "St Olav's University Hospital",
           "Trondheim",
           "Norway",
           21,
           12
          ]
         ],
         "hovertemplate": "<b>%{hovertext}</b><br><br>aff_country=%{customdata[3]}<br>aff_name=%{customdata[1]}<br>tot_pubs=%{customdata[5]}<br>tot_affiliations=%{customdata[4]}<br>aff_id=%{customdata[0]}<br>aff_city=%{customdata[2]}<extra></extra>",
         "hovertext": [
          "Oslo University Hospital",
          "University of Bergen",
          "Norwegian University of Science and Technology",
          "Haukeland University Hospital",
          "University of Oslo",
          "St Olav's University Hospital"
         ],
         "legendgroup": "Norway",
         "marker": {
          "color": "#FFA15A",
          "size": [
           145,
           101,
           79,
           70,
           64,
           21
          ],
          "sizemode": "area",
          "sizeref": 3.465,
          "symbol": "circle"
         },
         "mode": "markers",
         "name": "Norway",
         "showlegend": true,
         "type": "scatter",
         "x": [
          "Oslo University Hospital",
          "University of Bergen",
          "Norwegian University of Science and Technology",
          "Haukeland University Hospital",
          "University of Oslo",
          "St Olav's University Hospital"
         ],
         "xaxis": "x",
         "y": [
          46,
          36,
          24,
          23,
          27,
          12
         ],
         "yaxis": "y"
        },
        {
         "customdata": [
          [
           "grid.428485.7",
           "Institute of Genetic and Biomedical Research",
           "Monserrato",
           "Italy",
           98,
           16
          ],
          [
           "grid.418712.9",
           "IRCCS Materno Infantile Burlo Garofolo",
           "Trieste",
           "Italy",
           82,
           20
          ],
          [
           "grid.5133.4",
           "University of Trieste",
           "Trieste",
           "Italy",
           74,
           20
          ],
          [
           "grid.4708.b",
           "University of Milan",
           "Milan",
           "Italy",
           43,
           18
          ],
          [
           "grid.7605.4",
           "University of Turin",
           "Turin",
           "Italy",
           41,
           13
          ],
          [
           "grid.417893.0",
           "Istituto Nazionale dei Tumori",
           "Milan",
           "Italy",
           32,
           13
          ],
          [
           "grid.5326.2",
           "National Research Council",
           "Rome",
           "Italy",
           31,
           9
          ],
          [
           "grid.18887.3e",
           "San Raffaele Hospital",
           "Milan",
           "Italy",
           30,
           13
          ],
          [
           "grid.11450.31",
           "University of Sassari",
           "Sassari",
           "Italy",
           30,
           13
          ],
          [
           "grid.5608.b",
           "University of Padua",
           "Padova",
           "Italy",
           27,
           11
          ],
          [
           "grid.8404.8",
           "University of Florence",
           "Florence",
           "Italy",
           26,
           14
          ],
          [
           "grid.4691.a",
           "University of Naples Federico II",
           "Naples",
           "Italy",
           23,
           9
          ],
          [
           "grid.15667.33",
           "European Institute of Oncology",
           "Milan",
           "Italy",
           23,
           9
          ],
          [
           "grid.417894.7",
           "Istituto Neurologico Carlo Besta",
           "Milan",
           "Italy",
           22,
           12
          ],
          [
           "grid.417778.a",
           "Fondazione Santa Lucia",
           "Rome",
           "Italy",
           20,
           3
          ],
          [
           "grid.9027.c",
           "University of Perugia",
           "Perugia",
           "Italy",
           18,
           8
          ],
          [
           "grid.5611.3",
           "University of Verona",
           "Verona",
           "Italy",
           16,
           9
          ]
         ],
         "hovertemplate": "<b>%{hovertext}</b><br><br>aff_country=%{customdata[3]}<br>aff_name=%{customdata[1]}<br>tot_pubs=%{customdata[5]}<br>tot_affiliations=%{customdata[4]}<br>aff_id=%{customdata[0]}<br>aff_city=%{customdata[2]}<extra></extra>",
         "hovertext": [
          "Institute of Genetic and Biomedical Research",
          "IRCCS Materno Infantile Burlo Garofolo",
          "University of Trieste",
          "University of Milan",
          "University of Turin",
          "Istituto Nazionale dei Tumori",
          "National Research Council",
          "San Raffaele Hospital",
          "University of Sassari",
          "University of Padua",
          "University of Florence",
          "University of Naples Federico II",
          "European Institute of Oncology",
          "Istituto Neurologico Carlo Besta",
          "Fondazione Santa Lucia",
          "University of Perugia",
          "University of Verona"
         ],
         "legendgroup": "Italy",
         "marker": {
          "color": "#19d3f3",
          "size": [
           98,
           82,
           74,
           43,
           41,
           32,
           31,
           30,
           30,
           27,
           26,
           23,
           23,
           22,
           20,
           18,
           16
          ],
          "sizemode": "area",
          "sizeref": 3.465,
          "symbol": "circle"
         },
         "mode": "markers",
         "name": "Italy",
         "showlegend": true,
         "type": "scatter",
         "x": [
          "Institute of Genetic and Biomedical Research",
          "IRCCS Materno Infantile Burlo Garofolo",
          "University of Trieste",
          "University of Milan",
          "University of Turin",
          "Istituto Nazionale dei Tumori",
          "National Research Council",
          "San Raffaele Hospital",
          "University of Sassari",
          "University of Padua",
          "University of Florence",
          "University of Naples Federico II",
          "European Institute of Oncology",
          "Istituto Neurologico Carlo Besta",
          "Fondazione Santa Lucia",
          "University of Perugia",
          "University of Verona"
         ],
         "xaxis": "x",
         "y": [
          16,
          20,
          20,
          18,
          13,
          13,
          9,
          13,
          13,
          11,
          14,
          9,
          9,
          12,
          3,
          8,
          9
         ],
         "yaxis": "y"
        },
        {
         "customdata": [
          [
           "grid.7429.8",
           "Inserm",
           "Paris",
           "France",
           92,
           18
          ],
          [
           "grid.418596.7",
           "Institute Curie",
           "Paris",
           "France",
           91,
           14
          ],
          [
           "grid.11843.3f",
           "University of Strasbourg",
           "Strasbourg",
           "France",
           77,
           13
          ],
          [
           "grid.5613.1",
           "University of Burgundy",
           "Dijon",
           "France",
           77,
           6
          ],
          [
           "grid.462336.6",
           "Imagine Institute for Genetic Diseases",
           "Paris",
           "France",
           69,
           12
          ],
          [
           "grid.7452.4",
           "Paris Diderot University",
           "Paris",
           "France",
           64,
           11
          ],
          [
           "grid.14925.3b",
           "Institut Gustave Roussy",
           "Villejuif",
           "France",
           60,
           10
          ],
          [
           "grid.10992.33",
           "Paris Descartes University",
           "Paris",
           "France",
           59,
           21
          ],
          [
           "grid.411439.a",
           "Pitié-Salpêtrière Hospital",
           "Paris",
           "France",
           50,
           8
          ],
          [
           "grid.452426.3",
           "Mouse Clinical Insitute",
           "Illkirch-Graffenstaden",
           "France",
           49,
           2
          ],
          [
           "grid.8970.6",
           "Pasteur Institute of Lille",
           "Lille",
           "France",
           46,
           15
          ],
          [
           "grid.412041.2",
           "University of Bordeaux",
           "Bordeaux",
           "France",
           39,
           18
          ],
          [
           "grid.503422.2",
           "University of Lille",
           "Lille",
           "France",
           38,
           14
          ],
          [
           "grid.412134.1",
           "Necker-Enfants Malades Hospital",
           "Paris",
           "France",
           38,
           13
          ],
          [
           "grid.493090.7",
           "Université Bourgogne Franche-Comté",
           "Besançon",
           "France",
           36,
           3
          ],
          [
           "grid.420255.4",
           "Institute of Genetics and Molecular and Cellular Biology",
           "Illkirch-Graffenstaden",
           "France",
           34,
           6
          ],
          [
           "grid.410463.4",
           "Centre Hospitalier Regional et Universitaire de Lille",
           "Lille",
           "France",
           28,
           17
          ],
          [
           "grid.4444.0",
           "French National Centre for Scientific Research",
           "Paris",
           "France",
           28,
           15
          ],
          [
           "grid.428999.7",
           "Institut Pasteur",
           "Paris",
           "France",
           28,
           13
          ],
          [
           "grid.17703.32",
           "International Agency For Research On Cancer",
           "Lyon",
           "France",
           27,
           8
          ],
          [
           "grid.11318.3a",
           "Paris 13 University",
           "Villetaneuse",
           "France",
           26,
           3
          ],
          [
           "grid.457380.d",
           "Délégation Nord-Ouest",
           "Lille",
           "France",
           24,
           6
          ],
          [
           "grid.121334.6",
           "University of Montpellier",
           "Montpellier",
           "France",
           22,
           8
          ],
          [
           "grid.425274.2",
           "Institut du Cerveau et de la Moelle Épinière",
           "Paris",
           "France",
           21,
           5
          ],
          [
           "grid.42399.35",
           "Centre Hospitalier Universitaire de Bordeaux",
           "Bordeaux",
           "France",
           19,
           11
          ],
          [
           "grid.5842.b",
           "University of Paris-Sud",
           "Orsay",
           "France",
           19,
           8
          ],
          [
           "grid.418135.a",
           "Centre National de Génotypage",
           "Évry",
           "France",
           19,
           6
          ],
          [
           "grid.5399.6",
           "Aix-Marseille University",
           "Marseille",
           "France",
           19,
           5
          ]
         ],
         "hovertemplate": "<b>%{hovertext}</b><br><br>aff_country=%{customdata[3]}<br>aff_name=%{customdata[1]}<br>tot_pubs=%{customdata[5]}<br>tot_affiliations=%{customdata[4]}<br>aff_id=%{customdata[0]}<br>aff_city=%{customdata[2]}<extra></extra>",
         "hovertext": [
          "Inserm",
          "Institute Curie",
          "University of Strasbourg",
          "University of Burgundy",
          "Imagine Institute for Genetic Diseases",
          "Paris Diderot University",
          "Institut Gustave Roussy",
          "Paris Descartes University",
          "Pitié-Salpêtrière Hospital",
          "Mouse Clinical Insitute",
          "Pasteur Institute of Lille",
          "University of Bordeaux",
          "University of Lille",
          "Necker-Enfants Malades Hospital",
          "Université Bourgogne Franche-Comté",
          "Institute of Genetics and Molecular and Cellular Biology",
          "Centre Hospitalier Regional et Universitaire de Lille",
          "French National Centre for Scientific Research",
          "Institut Pasteur",
          "International Agency For Research On Cancer",
          "Paris 13 University",
          "Délégation Nord-Ouest",
          "University of Montpellier",
          "Institut du Cerveau et de la Moelle Épinière",
          "Centre Hospitalier Universitaire de Bordeaux",
          "University of Paris-Sud",
          "Centre National de Génotypage",
          "Aix-Marseille University"
         ],
         "legendgroup": "France",
         "marker": {
          "color": "#FF6692",
          "size": [
           92,
           91,
           77,
           77,
           69,
           64,
           60,
           59,
           50,
           49,
           46,
           39,
           38,
           38,
           36,
           34,
           28,
           28,
           28,
           27,
           26,
           24,
           22,
           21,
           19,
           19,
           19,
           19
          ],
          "sizemode": "area",
          "sizeref": 3.465,
          "symbol": "circle"
         },
         "mode": "markers",
         "name": "France",
         "showlegend": true,
         "type": "scatter",
         "x": [
          "Inserm",
          "Institute Curie",
          "University of Strasbourg",
          "University of Burgundy",
          "Imagine Institute for Genetic Diseases",
          "Paris Diderot University",
          "Institut Gustave Roussy",
          "Paris Descartes University",
          "Pitié-Salpêtrière Hospital",
          "Mouse Clinical Insitute",
          "Pasteur Institute of Lille",
          "University of Bordeaux",
          "University of Lille",
          "Necker-Enfants Malades Hospital",
          "Université Bourgogne Franche-Comté",
          "Institute of Genetics and Molecular and Cellular Biology",
          "Centre Hospitalier Regional et Universitaire de Lille",
          "French National Centre for Scientific Research",
          "Institut Pasteur",
          "International Agency For Research On Cancer",
          "Paris 13 University",
          "Délégation Nord-Ouest",
          "University of Montpellier",
          "Institut du Cerveau et de la Moelle Épinière",
          "Centre Hospitalier Universitaire de Bordeaux",
          "University of Paris-Sud",
          "Centre National de Génotypage",
          "Aix-Marseille University"
         ],
         "xaxis": "x",
         "y": [
          18,
          14,
          13,
          6,
          12,
          11,
          10,
          21,
          8,
          2,
          15,
          18,
          14,
          13,
          3,
          6,
          17,
          15,
          13,
          8,
          3,
          6,
          8,
          5,
          11,
          8,
          6,
          5
         ],
         "yaxis": "y"
        },
        {
         "customdata": [
          [
           "grid.5612.0",
           "Pompeu Fabra University",
           "Barcelona",
           "Spain",
           90,
           30
          ],
          [
           "grid.413448.e",
           "Instituto de Salud Carlos III",
           "Madrid",
           "Spain",
           83,
           28
          ],
          [
           "grid.11478.3b",
           "Centre for Genomic Regulation",
           "Barcelona",
           "Spain",
           70,
           19
          ],
          [
           "grid.7719.8",
           "Spanish National Cancer Research Centre",
           "Madrid",
           "Spain",
           48,
           15
          ],
          [
           "grid.7722.0",
           "Institute for Research in Biomedicine",
           "Barcelona",
           "Spain",
           39,
           7
          ],
          [
           "grid.5841.8",
           "University of Barcelona",
           "Barcelona",
           "Spain",
           32,
           9
          ],
          [
           "grid.11794.3a",
           "University of Santiago de Compostela",
           "Santiago de Compostela",
           "Spain",
           32,
           7
          ],
          [
           "grid.425902.8",
           "Institució Catalana de Recerca i Estudis Avançats",
           "Barcelona",
           "Spain",
           31,
           26
          ],
          [
           "grid.411083.f",
           "Hospital Universitari Vall d'Hebron",
           "Barcelona",
           "Spain",
           27,
           16
          ],
          [
           "grid.10097.3f",
           "Barcelona Supercomputing Center",
           "Barcelona",
           "Spain",
           27,
           8
          ],
          [
           "grid.452372.5",
           "Centre for Biomedical Network Research on Rare Diseases",
           "Madrid",
           "Spain",
           21,
           10
          ]
         ],
         "hovertemplate": "<b>%{hovertext}</b><br><br>aff_country=%{customdata[3]}<br>aff_name=%{customdata[1]}<br>tot_pubs=%{customdata[5]}<br>tot_affiliations=%{customdata[4]}<br>aff_id=%{customdata[0]}<br>aff_city=%{customdata[2]}<extra></extra>",
         "hovertext": [
          "Pompeu Fabra University",
          "Instituto de Salud Carlos III",
          "Centre for Genomic Regulation",
          "Spanish National Cancer Research Centre",
          "Institute for Research in Biomedicine",
          "University of Barcelona",
          "University of Santiago de Compostela",
          "Institució Catalana de Recerca i Estudis Avançats",
          "Hospital Universitari Vall d'Hebron",
          "Barcelona Supercomputing Center",
          "Centre for Biomedical Network Research on Rare Diseases"
         ],
         "legendgroup": "Spain",
         "marker": {
          "color": "#B6E880",
          "size": [
           90,
           83,
           70,
           48,
           39,
           32,
           32,
           31,
           27,
           27,
           21
          ],
          "sizemode": "area",
          "sizeref": 3.465,
          "symbol": "circle"
         },
         "mode": "markers",
         "name": "Spain",
         "showlegend": true,
         "type": "scatter",
         "x": [
          "Pompeu Fabra University",
          "Instituto de Salud Carlos III",
          "Centre for Genomic Regulation",
          "Spanish National Cancer Research Centre",
          "Institute for Research in Biomedicine",
          "University of Barcelona",
          "University of Santiago de Compostela",
          "Institució Catalana de Recerca i Estudis Avançats",
          "Hospital Universitari Vall d'Hebron",
          "Barcelona Supercomputing Center",
          "Centre for Biomedical Network Research on Rare Diseases"
         ],
         "xaxis": "x",
         "y": [
          30,
          28,
          19,
          15,
          7,
          9,
          7,
          26,
          16,
          8,
          10
         ],
         "yaxis": "y"
        },
        {
         "customdata": [
          [
           "grid.5596.f",
           "KU Leuven",
           "Leuven",
           "Belgium",
           87,
           37
          ],
          [
           "grid.11486.3a",
           "Vlaams Instituut voor Biotechnologie",
           "Ghent",
           "Belgium",
           52,
           23
          ],
          [
           "grid.410569.f",
           "Universitaire Ziekenhuizen Leuven",
           "Leuven",
           "Belgium",
           43,
           20
          ],
          [
           "grid.5284.b",
           "University of Antwerp",
           "Antwerp",
           "Belgium",
           34,
           10
          ],
          [
           "grid.5342.0",
           "Ghent University",
           "Ghent",
           "Belgium",
           32,
           16
          ],
          [
           "grid.4989.c",
           "Université Libre de Bruxelles",
           "Brussels",
           "Belgium",
           27,
           6
          ],
          [
           "grid.410566.0",
           "Ghent University Hospital",
           "Ghent",
           "Belgium",
           25,
           11
          ]
         ],
         "hovertemplate": "<b>%{hovertext}</b><br><br>aff_country=%{customdata[3]}<br>aff_name=%{customdata[1]}<br>tot_pubs=%{customdata[5]}<br>tot_affiliations=%{customdata[4]}<br>aff_id=%{customdata[0]}<br>aff_city=%{customdata[2]}<extra></extra>",
         "hovertext": [
          "KU Leuven",
          "Vlaams Instituut voor Biotechnologie",
          "Universitaire Ziekenhuizen Leuven",
          "University of Antwerp",
          "Ghent University",
          "Université Libre de Bruxelles",
          "Ghent University Hospital"
         ],
         "legendgroup": "Belgium",
         "marker": {
          "color": "#FF97FF",
          "size": [
           87,
           52,
           43,
           34,
           32,
           27,
           25
          ],
          "sizemode": "area",
          "sizeref": 3.465,
          "symbol": "circle"
         },
         "mode": "markers",
         "name": "Belgium",
         "showlegend": true,
         "type": "scatter",
         "x": [
          "KU Leuven",
          "Vlaams Instituut voor Biotechnologie",
          "Universitaire Ziekenhuizen Leuven",
          "University of Antwerp",
          "Ghent University",
          "Université Libre de Bruxelles",
          "Ghent University Hospital"
         ],
         "xaxis": "x",
         "y": [
          37,
          23,
          20,
          10,
          16,
          6,
          11
         ],
         "yaxis": "y"
        },
        {
         "customdata": [
          [
           "grid.11598.34",
           "Medical University of Graz",
           "Graz",
           "Austria",
           81,
           24
          ],
          [
           "grid.418729.1",
           "CeMM Research Center for Molecular Medicine",
           "Vienna",
           "Austria",
           51,
           3
          ],
          [
           "grid.22937.3d",
           "Medical University of Vienna",
           "Vienna",
           "Austria",
           41,
           14
          ],
          [
           "grid.5361.1",
           "Innsbruck Medical University",
           "Innsbruck",
           "Austria",
           21,
           10
          ],
          [
           "grid.14826.39",
           "Research Institute of Molecular Pathology",
           "Vienna",
           "Austria",
           17,
           5
          ]
         ],
         "hovertemplate": "<b>%{hovertext}</b><br><br>aff_country=%{customdata[3]}<br>aff_name=%{customdata[1]}<br>tot_pubs=%{customdata[5]}<br>tot_affiliations=%{customdata[4]}<br>aff_id=%{customdata[0]}<br>aff_city=%{customdata[2]}<extra></extra>",
         "hovertext": [
          "Medical University of Graz",
          "CeMM Research Center for Molecular Medicine",
          "Medical University of Vienna",
          "Innsbruck Medical University",
          "Research Institute of Molecular Pathology"
         ],
         "legendgroup": "Austria",
         "marker": {
          "color": "#FECB52",
          "size": [
           81,
           51,
           41,
           21,
           17
          ],
          "sizemode": "area",
          "sizeref": 3.465,
          "symbol": "circle"
         },
         "mode": "markers",
         "name": "Austria",
         "showlegend": true,
         "type": "scatter",
         "x": [
          "Medical University of Graz",
          "CeMM Research Center for Molecular Medicine",
          "Medical University of Vienna",
          "Innsbruck Medical University",
          "Research Institute of Molecular Pathology"
         ],
         "xaxis": "x",
         "y": [
          24,
          3,
          14,
          10,
          5
         ],
         "yaxis": "y"
        },
        {
         "customdata": [
          [
           "grid.6612.3",
           "University of Basel",
           "Basel",
           "Switzerland",
           67,
           26
          ],
          [
           "grid.419765.8",
           "Swiss Institute of Bioinformatics",
           "Geneva",
           "Switzerland",
           63,
           24
          ],
          [
           "grid.9851.5",
           "University of Lausanne",
           "Lausanne",
           "Switzerland",
           56,
           25
          ],
          [
           "grid.8591.5",
           "University of Geneva",
           "Geneva",
           "Switzerland",
           49,
           14
          ],
          [
           "grid.7400.3",
           "University of Zurich",
           "Zurich",
           "Switzerland",
           47,
           18
          ],
          [
           "grid.416786.a",
           "Swiss Tropical and Public Health Institute",
           "Basel",
           "Switzerland",
           33,
           9
          ],
          [
           "grid.419922.5",
           "Institute of Oncology Research",
           "Bellinzona",
           "Switzerland",
           30,
           2
          ],
          [
           "grid.150338.c",
           "University Hospital of Geneva",
           "Geneva",
           "Switzerland",
           25,
           10
          ],
          [
           "grid.410567.1",
           "University Hospital of Basel",
           "Basel",
           "Switzerland",
           23,
           12
          ],
          [
           "grid.482968.9",
           "Institute of Social and Preventive Medicine",
           "Lausanne",
           "Switzerland",
           21,
           14
          ],
          [
           "grid.8515.9",
           "University Hospital of Lausanne",
           "Lausanne",
           "Switzerland",
           21,
           12
          ],
          [
           "grid.5734.5",
           "University of Bern",
           "Bern",
           "Switzerland",
           20,
           11
          ],
          [
           "grid.5333.6",
           "École Polytechnique Fédérale de Lausanne",
           "Lausanne",
           "Switzerland",
           19,
           5
          ]
         ],
         "hovertemplate": "<b>%{hovertext}</b><br><br>aff_country=%{customdata[3]}<br>aff_name=%{customdata[1]}<br>tot_pubs=%{customdata[5]}<br>tot_affiliations=%{customdata[4]}<br>aff_id=%{customdata[0]}<br>aff_city=%{customdata[2]}<extra></extra>",
         "hovertext": [
          "University of Basel",
          "Swiss Institute of Bioinformatics",
          "University of Lausanne",
          "University of Geneva",
          "University of Zurich",
          "Swiss Tropical and Public Health Institute",
          "Institute of Oncology Research",
          "University Hospital of Geneva",
          "University Hospital of Basel",
          "Institute of Social and Preventive Medicine",
          "University Hospital of Lausanne",
          "University of Bern",
          "École Polytechnique Fédérale de Lausanne"
         ],
         "legendgroup": "Switzerland",
         "marker": {
          "color": "#636efa",
          "size": [
           67,
           63,
           56,
           49,
           47,
           33,
           30,
           25,
           23,
           21,
           21,
           20,
           19
          ],
          "sizemode": "area",
          "sizeref": 3.465,
          "symbol": "circle"
         },
         "mode": "markers",
         "name": "Switzerland",
         "showlegend": true,
         "type": "scatter",
         "x": [
          "University of Basel",
          "Swiss Institute of Bioinformatics",
          "University of Lausanne",
          "University of Geneva",
          "University of Zurich",
          "Swiss Tropical and Public Health Institute",
          "Institute of Oncology Research",
          "University Hospital of Geneva",
          "University Hospital of Basel",
          "Institute of Social and Preventive Medicine",
          "University Hospital of Lausanne",
          "University of Bern",
          "École Polytechnique Fédérale de Lausanne"
         ],
         "xaxis": "x",
         "y": [
          26,
          24,
          25,
          14,
          18,
          9,
          2,
          10,
          12,
          14,
          12,
          11,
          5
         ],
         "yaxis": "y"
        },
        {
         "customdata": [
          [
           "grid.31501.36",
           "Seoul National University",
           "Seoul",
           "South Korea",
           61,
           18
          ],
          [
           "grid.414964.a",
           "Samsung Medical Center",
           "Seoul",
           "South Korea",
           42,
           5
          ],
          [
           "grid.264381.a",
           "Sungkyunkwan University",
           "Seoul",
           "South Korea",
           22,
           8
          ],
          [
           "grid.37172.30",
           "Korea Advanced Institute of Science and Technology",
           "Daejeon",
           "South Korea",
           20,
           7
          ],
          [
           "grid.415482.e",
           "Korea National Institute of Health",
           "Cheongju-si",
           "South Korea",
           17,
           5
          ]
         ],
         "hovertemplate": "<b>%{hovertext}</b><br><br>aff_country=%{customdata[3]}<br>aff_name=%{customdata[1]}<br>tot_pubs=%{customdata[5]}<br>tot_affiliations=%{customdata[4]}<br>aff_id=%{customdata[0]}<br>aff_city=%{customdata[2]}<extra></extra>",
         "hovertext": [
          "Seoul National University",
          "Samsung Medical Center",
          "Sungkyunkwan University",
          "Korea Advanced Institute of Science and Technology",
          "Korea National Institute of Health"
         ],
         "legendgroup": "South Korea",
         "marker": {
          "color": "#EF553B",
          "size": [
           61,
           42,
           22,
           20,
           17
          ],
          "sizemode": "area",
          "sizeref": 3.465,
          "symbol": "circle"
         },
         "mode": "markers",
         "name": "South Korea",
         "showlegend": true,
         "type": "scatter",
         "x": [
          "Seoul National University",
          "Samsung Medical Center",
          "Sungkyunkwan University",
          "Korea Advanced Institute of Science and Technology",
          "Korea National Institute of Health"
         ],
         "xaxis": "x",
         "y": [
          18,
          5,
          8,
          7,
          5
         ],
         "yaxis": "y"
        },
        {
         "customdata": [
          [
           "grid.107950.a",
           "Pomeranian Medical University",
           "Szczecin",
           "Poland",
           60,
           14
          ]
         ],
         "hovertemplate": "<b>%{hovertext}</b><br><br>aff_country=%{customdata[3]}<br>aff_name=%{customdata[1]}<br>tot_pubs=%{customdata[5]}<br>tot_affiliations=%{customdata[4]}<br>aff_id=%{customdata[0]}<br>aff_city=%{customdata[2]}<extra></extra>",
         "hovertext": [
          "Pomeranian Medical University"
         ],
         "legendgroup": "Poland",
         "marker": {
          "color": "#00cc96",
          "size": [
           60
          ],
          "sizemode": "area",
          "sizeref": 3.465,
          "symbol": "circle"
         },
         "mode": "markers",
         "name": "Poland",
         "showlegend": true,
         "type": "scatter",
         "x": [
          "Pomeranian Medical University"
         ],
         "xaxis": "x",
         "y": [
          14
         ],
         "yaxis": "y"
        },
        {
         "customdata": [
          [
           "grid.412125.1",
           "King Abdulaziz University",
           "Jeddah",
           "Saudi Arabia",
           37,
           22
          ],
          [
           "grid.45672.32",
           "King Abdullah University of Science and Technology",
           "Jeddah",
           "Saudi Arabia",
           19,
           7
          ],
          [
           "grid.415310.2",
           "King Faisal Specialist Hospital & Research Centre",
           "Riyadh",
           "Saudi Arabia",
           16,
           8
          ]
         ],
         "hovertemplate": "<b>%{hovertext}</b><br><br>aff_country=%{customdata[3]}<br>aff_name=%{customdata[1]}<br>tot_pubs=%{customdata[5]}<br>tot_affiliations=%{customdata[4]}<br>aff_id=%{customdata[0]}<br>aff_city=%{customdata[2]}<extra></extra>",
         "hovertext": [
          "King Abdulaziz University",
          "King Abdullah University of Science and Technology",
          "King Faisal Specialist Hospital & Research Centre"
         ],
         "legendgroup": "Saudi Arabia",
         "marker": {
          "color": "#ab63fa",
          "size": [
           37,
           19,
           16
          ],
          "sizemode": "area",
          "sizeref": 3.465,
          "symbol": "circle"
         },
         "mode": "markers",
         "name": "Saudi Arabia",
         "showlegend": true,
         "type": "scatter",
         "x": [
          "King Abdulaziz University",
          "King Abdullah University of Science and Technology",
          "King Faisal Specialist Hospital & Research Centre"
         ],
         "xaxis": "x",
         "y": [
          22,
          7,
          8
         ],
         "yaxis": "y"
        },
        {
         "customdata": [
          [
           "grid.7836.a",
           "University of Cape Town",
           "Rondebosch",
           "South Africa",
           37,
           13
          ],
          [
           "grid.11956.3a",
           "Stellenbosch University",
           "Stellenbosch",
           "South Africa",
           27,
           9
          ]
         ],
         "hovertemplate": "<b>%{hovertext}</b><br><br>aff_country=%{customdata[3]}<br>aff_name=%{customdata[1]}<br>tot_pubs=%{customdata[5]}<br>tot_affiliations=%{customdata[4]}<br>aff_id=%{customdata[0]}<br>aff_city=%{customdata[2]}<extra></extra>",
         "hovertext": [
          "University of Cape Town",
          "Stellenbosch University"
         ],
         "legendgroup": "South Africa",
         "marker": {
          "color": "#FFA15A",
          "size": [
           37,
           27
          ],
          "sizemode": "area",
          "sizeref": 3.465,
          "symbol": "circle"
         },
         "mode": "markers",
         "name": "South Africa",
         "showlegend": true,
         "type": "scatter",
         "x": [
          "University of Cape Town",
          "Stellenbosch University"
         ],
         "xaxis": "x",
         "y": [
          13,
          9
         ],
         "yaxis": "y"
        },
        {
         "customdata": [
          [
           "grid.38603.3e",
           "University of Split",
           "Split",
           "Croatia",
           34,
           23
          ]
         ],
         "hovertemplate": "<b>%{hovertext}</b><br><br>aff_country=%{customdata[3]}<br>aff_name=%{customdata[1]}<br>tot_pubs=%{customdata[5]}<br>tot_affiliations=%{customdata[4]}<br>aff_id=%{customdata[0]}<br>aff_city=%{customdata[2]}<extra></extra>",
         "hovertext": [
          "University of Split"
         ],
         "legendgroup": "Croatia",
         "marker": {
          "color": "#19d3f3",
          "size": [
           34
          ],
          "sizemode": "area",
          "sizeref": 3.465,
          "symbol": "circle"
         },
         "mode": "markers",
         "name": "Croatia",
         "showlegend": true,
         "type": "scatter",
         "x": [
          "University of Split"
         ],
         "xaxis": "x",
         "y": [
          23
         ],
         "yaxis": "y"
        },
        {
         "customdata": [
          [
           "grid.15823.3d",
           "Harokopio University",
           "Athens",
           "Greece",
           34,
           20
          ],
          [
           "grid.9594.1",
           "University of Ioannina",
           "Ioannina",
           "Greece",
           26,
           17
          ],
          [
           "grid.4793.9",
           "Aristotle University of Thessaloniki",
           "Thessaloniki",
           "Greece",
           25,
           6
          ],
          [
           "grid.5216.0",
           "National and Kapodistrian University of Athens",
           "Athens",
           "Greece",
           24,
           13
          ]
         ],
         "hovertemplate": "<b>%{hovertext}</b><br><br>aff_country=%{customdata[3]}<br>aff_name=%{customdata[1]}<br>tot_pubs=%{customdata[5]}<br>tot_affiliations=%{customdata[4]}<br>aff_id=%{customdata[0]}<br>aff_city=%{customdata[2]}<extra></extra>",
         "hovertext": [
          "Harokopio University",
          "University of Ioannina",
          "Aristotle University of Thessaloniki",
          "National and Kapodistrian University of Athens"
         ],
         "legendgroup": "Greece",
         "marker": {
          "color": "#FF6692",
          "size": [
           34,
           26,
           25,
           24
          ],
          "sizemode": "area",
          "sizeref": 3.465,
          "symbol": "circle"
         },
         "mode": "markers",
         "name": "Greece",
         "showlegend": true,
         "type": "scatter",
         "x": [
          "Harokopio University",
          "University of Ioannina",
          "Aristotle University of Thessaloniki",
          "National and Kapodistrian University of Athens"
         ],
         "xaxis": "x",
         "y": [
          20,
          17,
          6,
          13
         ],
         "yaxis": "y"
        },
        {
         "customdata": [
          [
           "grid.11899.38",
           "University of Sao Paulo",
           "São Paulo",
           "Brazil",
           31,
           15
          ]
         ],
         "hovertemplate": "<b>%{hovertext}</b><br><br>aff_country=%{customdata[3]}<br>aff_name=%{customdata[1]}<br>tot_pubs=%{customdata[5]}<br>tot_affiliations=%{customdata[4]}<br>aff_id=%{customdata[0]}<br>aff_city=%{customdata[2]}<extra></extra>",
         "hovertext": [
          "University of Sao Paulo"
         ],
         "legendgroup": "Brazil",
         "marker": {
          "color": "#B6E880",
          "size": [
           31
          ],
          "sizemode": "area",
          "sizeref": 3.465,
          "symbol": "circle"
         },
         "mode": "markers",
         "name": "Brazil",
         "showlegend": true,
         "type": "scatter",
         "x": [
          "University of Sao Paulo"
         ],
         "xaxis": "x",
         "y": [
          15
         ],
         "yaxis": "y"
        },
        {
         "customdata": [
          [
           "grid.410764.0",
           "Taichung Veterans General Hospital",
           "Taichung",
           "Taiwan",
           30,
           13
          ],
          [
           "grid.19188.39",
           "National Taiwan University",
           "Taipei",
           "Taiwan",
           18,
           8
          ]
         ],
         "hovertemplate": "<b>%{hovertext}</b><br><br>aff_country=%{customdata[3]}<br>aff_name=%{customdata[1]}<br>tot_pubs=%{customdata[5]}<br>tot_affiliations=%{customdata[4]}<br>aff_id=%{customdata[0]}<br>aff_city=%{customdata[2]}<extra></extra>",
         "hovertext": [
          "Taichung Veterans General Hospital",
          "National Taiwan University"
         ],
         "legendgroup": "Taiwan",
         "marker": {
          "color": "#FF97FF",
          "size": [
           30,
           18
          ],
          "sizemode": "area",
          "sizeref": 3.465,
          "symbol": "circle"
         },
         "mode": "markers",
         "name": "Taiwan",
         "showlegend": true,
         "type": "scatter",
         "x": [
          "Taichung Veterans General Hospital",
          "National Taiwan University"
         ],
         "xaxis": "x",
         "y": [
          13,
          8
         ],
         "yaxis": "y"
        },
        {
         "customdata": [
          [
           "grid.8217.c",
           "Trinity College Dublin",
           "Dublin",
           "Ireland",
           29,
           11
          ],
          [
           "grid.6142.1",
           "National University of Ireland, Galway",
           "Galway",
           "Ireland",
           19,
           11
          ],
          [
           "grid.417322.1",
           "Our Lady's Children's Hospital",
           "Dublin",
           "Ireland",
           19,
           4
          ]
         ],
         "hovertemplate": "<b>%{hovertext}</b><br><br>aff_country=%{customdata[3]}<br>aff_name=%{customdata[1]}<br>tot_pubs=%{customdata[5]}<br>tot_affiliations=%{customdata[4]}<br>aff_id=%{customdata[0]}<br>aff_city=%{customdata[2]}<extra></extra>",
         "hovertext": [
          "Trinity College Dublin",
          "National University of Ireland, Galway",
          "Our Lady's Children's Hospital"
         ],
         "legendgroup": "Ireland",
         "marker": {
          "color": "#FECB52",
          "size": [
           29,
           19,
           19
          ],
          "sizemode": "area",
          "sizeref": 3.465,
          "symbol": "circle"
         },
         "mode": "markers",
         "name": "Ireland",
         "showlegend": true,
         "type": "scatter",
         "x": [
          "Trinity College Dublin",
          "National University of Ireland, Galway",
          "Our Lady's Children's Hospital"
         ],
         "xaxis": "x",
         "y": [
          11,
          11,
          4
         ],
         "yaxis": "y"
        },
        {
         "customdata": [
          [
           "grid.419337.b",
           "International Crops Research Institute for the Semi-Arid Tropics",
           "Patancheru",
           "India",
           29,
           6
          ],
          [
           "grid.413854.f",
           "Aravind Eye Hospital",
           "Madurai",
           "India",
           21,
           3
          ]
         ],
         "hovertemplate": "<b>%{hovertext}</b><br><br>aff_country=%{customdata[3]}<br>aff_name=%{customdata[1]}<br>tot_pubs=%{customdata[5]}<br>tot_affiliations=%{customdata[4]}<br>aff_id=%{customdata[0]}<br>aff_city=%{customdata[2]}<extra></extra>",
         "hovertext": [
          "International Crops Research Institute for the Semi-Arid Tropics",
          "Aravind Eye Hospital"
         ],
         "legendgroup": "India",
         "marker": {
          "color": "#636efa",
          "size": [
           29,
           21
          ],
          "sizemode": "area",
          "sizeref": 3.465,
          "symbol": "circle"
         },
         "mode": "markers",
         "name": "India",
         "showlegend": true,
         "type": "scatter",
         "x": [
          "International Crops Research Institute for the Semi-Arid Tropics",
          "Aravind Eye Hospital"
         ],
         "xaxis": "x",
         "y": [
          6,
          3
         ],
         "yaxis": "y"
        },
        {
         "customdata": [
          [
           "grid.12136.37",
           "Tel Aviv University",
           "Tel Aviv",
           "Israel",
           28,
           14
          ]
         ],
         "hovertemplate": "<b>%{hovertext}</b><br><br>aff_country=%{customdata[3]}<br>aff_name=%{customdata[1]}<br>tot_pubs=%{customdata[5]}<br>tot_affiliations=%{customdata[4]}<br>aff_id=%{customdata[0]}<br>aff_city=%{customdata[2]}<extra></extra>",
         "hovertext": [
          "Tel Aviv University"
         ],
         "legendgroup": "Israel",
         "marker": {
          "color": "#EF553B",
          "size": [
           28
          ],
          "sizemode": "area",
          "sizeref": 3.465,
          "symbol": "circle"
         },
         "mode": "markers",
         "name": "Israel",
         "showlegend": true,
         "type": "scatter",
         "x": [
          "Tel Aviv University"
         ],
         "xaxis": "x",
         "y": [
          14
         ],
         "yaxis": "y"
        },
        {
         "customdata": [
          [
           "grid.433436.5",
           "International Maize and Wheat Improvement Center",
           "Texcoco",
           "Mexico",
           25,
           4
          ]
         ],
         "hovertemplate": "<b>%{hovertext}</b><br><br>aff_country=%{customdata[3]}<br>aff_name=%{customdata[1]}<br>tot_pubs=%{customdata[5]}<br>tot_affiliations=%{customdata[4]}<br>aff_id=%{customdata[0]}<br>aff_city=%{customdata[2]}<extra></extra>",
         "hovertext": [
          "International Maize and Wheat Improvement Center"
         ],
         "legendgroup": "Mexico",
         "marker": {
          "color": "#00cc96",
          "size": [
           25
          ],
          "sizemode": "area",
          "sizeref": 3.465,
          "symbol": "circle"
         },
         "mode": "markers",
         "name": "Mexico",
         "showlegend": true,
         "type": "scatter",
         "x": [
          "International Maize and Wheat Improvement Center"
         ],
         "xaxis": "x",
         "y": [
          4
         ],
         "yaxis": "y"
        },
        {
         "customdata": [
          [
           "grid.4491.8",
           "Charles University",
           "Prague",
           "Czechia",
           21,
           11
          ]
         ],
         "hovertemplate": "<b>%{hovertext}</b><br><br>aff_country=%{customdata[3]}<br>aff_name=%{customdata[1]}<br>tot_pubs=%{customdata[5]}<br>tot_affiliations=%{customdata[4]}<br>aff_id=%{customdata[0]}<br>aff_city=%{customdata[2]}<extra></extra>",
         "hovertext": [
          "Charles University"
         ],
         "legendgroup": "Czechia",
         "marker": {
          "color": "#ab63fa",
          "size": [
           21
          ],
          "sizemode": "area",
          "sizeref": 3.465,
          "symbol": "circle"
         },
         "mode": "markers",
         "name": "Czechia",
         "showlegend": true,
         "type": "scatter",
         "x": [
          "Charles University"
         ],
         "xaxis": "x",
         "y": [
          11
         ],
         "yaxis": "y"
        },
        {
         "customdata": [
          [
           "grid.411600.2",
           "Shahid Beheshti University of Medical Sciences",
           "Tehran",
           "Iran",
           21,
           6
          ]
         ],
         "hovertemplate": "<b>%{hovertext}</b><br><br>aff_country=%{customdata[3]}<br>aff_name=%{customdata[1]}<br>tot_pubs=%{customdata[5]}<br>tot_affiliations=%{customdata[4]}<br>aff_id=%{customdata[0]}<br>aff_city=%{customdata[2]}<extra></extra>",
         "hovertext": [
          "Shahid Beheshti University of Medical Sciences"
         ],
         "legendgroup": "Iran",
         "marker": {
          "color": "#FFA15A",
          "size": [
           21
          ],
          "sizemode": "area",
          "sizeref": 3.465,
          "symbol": "circle"
         },
         "mode": "markers",
         "name": "Iran",
         "showlegend": true,
         "type": "scatter",
         "x": [
          "Shahid Beheshti University of Medical Sciences"
         ],
         "xaxis": "x",
         "y": [
          6
         ],
         "yaxis": "y"
        },
        {
         "customdata": [
          [
           "grid.412433.3",
           "Oxford University Clinical Research Unit",
           "Ho Chi Minh City",
           "Vietnam",
           19,
           5
          ]
         ],
         "hovertemplate": "<b>%{hovertext}</b><br><br>aff_country=%{customdata[3]}<br>aff_name=%{customdata[1]}<br>tot_pubs=%{customdata[5]}<br>tot_affiliations=%{customdata[4]}<br>aff_id=%{customdata[0]}<br>aff_city=%{customdata[2]}<extra></extra>",
         "hovertext": [
          "Oxford University Clinical Research Unit"
         ],
         "legendgroup": "Vietnam",
         "marker": {
          "color": "#19d3f3",
          "size": [
           19
          ],
          "sizemode": "area",
          "sizeref": 3.465,
          "symbol": "circle"
         },
         "mode": "markers",
         "name": "Vietnam",
         "showlegend": true,
         "type": "scatter",
         "x": [
          "Oxford University Clinical Research Unit"
         ],
         "xaxis": "x",
         "y": [
          5
         ],
         "yaxis": "y"
        },
        {
         "customdata": [
          [
           "grid.9654.e",
           "University of Auckland",
           "Auckland",
           "New Zealand",
           18,
           15
          ]
         ],
         "hovertemplate": "<b>%{hovertext}</b><br><br>aff_country=%{customdata[3]}<br>aff_name=%{customdata[1]}<br>tot_pubs=%{customdata[5]}<br>tot_affiliations=%{customdata[4]}<br>aff_id=%{customdata[0]}<br>aff_city=%{customdata[2]}<extra></extra>",
         "hovertext": [
          "University of Auckland"
         ],
         "legendgroup": "New Zealand",
         "marker": {
          "color": "#FF6692",
          "size": [
           18
          ],
          "sizemode": "area",
          "sizeref": 3.465,
          "symbol": "circle"
         },
         "mode": "markers",
         "name": "New Zealand",
         "showlegend": true,
         "type": "scatter",
         "x": [
          "University of Auckland"
         ],
         "xaxis": "x",
         "y": [
          15
         ],
         "yaxis": "y"
        },
        {
         "customdata": [
          [
           "grid.497620.e",
           "Center for Non-Communicable Diseases",
           "Karachi",
           "Pakistan",
           18,
           5
          ]
         ],
         "hovertemplate": "<b>%{hovertext}</b><br><br>aff_country=%{customdata[3]}<br>aff_name=%{customdata[1]}<br>tot_pubs=%{customdata[5]}<br>tot_affiliations=%{customdata[4]}<br>aff_id=%{customdata[0]}<br>aff_city=%{customdata[2]}<extra></extra>",
         "hovertext": [
          "Center for Non-Communicable Diseases"
         ],
         "legendgroup": "Pakistan",
         "marker": {
          "color": "#B6E880",
          "size": [
           18
          ],
          "sizemode": "area",
          "sizeref": 3.465,
          "symbol": "circle"
         },
         "mode": "markers",
         "name": "Pakistan",
         "showlegend": true,
         "type": "scatter",
         "x": [
          "Center for Non-Communicable Diseases"
         ],
         "xaxis": "x",
         "y": [
          5
         ],
         "yaxis": "y"
        },
        {
         "customdata": [
          [
           "grid.267101.3",
           "University of San Carlos",
           "Cebu City",
           "Philippines",
           17,
           9
          ]
         ],
         "hovertemplate": "<b>%{hovertext}</b><br><br>aff_country=%{customdata[3]}<br>aff_name=%{customdata[1]}<br>tot_pubs=%{customdata[5]}<br>tot_affiliations=%{customdata[4]}<br>aff_id=%{customdata[0]}<br>aff_city=%{customdata[2]}<extra></extra>",
         "hovertext": [
          "University of San Carlos"
         ],
         "legendgroup": "Philippines",
         "marker": {
          "color": "#FF97FF",
          "size": [
           17
          ],
          "sizemode": "area",
          "sizeref": 3.465,
          "symbol": "circle"
         },
         "mode": "markers",
         "name": "Philippines",
         "showlegend": true,
         "type": "scatter",
         "x": [
          "University of San Carlos"
         ],
         "xaxis": "x",
         "y": [
          9
         ],
         "yaxis": "y"
        },
        {
         "customdata": [
          [
           "grid.10223.32",
           "Mahidol University",
           "Bangkok",
           "Thailand",
           17,
           9
          ]
         ],
         "hovertemplate": "<b>%{hovertext}</b><br><br>aff_country=%{customdata[3]}<br>aff_name=%{customdata[1]}<br>tot_pubs=%{customdata[5]}<br>tot_affiliations=%{customdata[4]}<br>aff_id=%{customdata[0]}<br>aff_city=%{customdata[2]}<extra></extra>",
         "hovertext": [
          "Mahidol University"
         ],
         "legendgroup": "Thailand",
         "marker": {
          "color": "#FECB52",
          "size": [
           17
          ],
          "sizemode": "area",
          "sizeref": 3.465,
          "symbol": "circle"
         },
         "mode": "markers",
         "name": "Thailand",
         "showlegend": true,
         "type": "scatter",
         "x": [
          "Mahidol University"
         ],
         "xaxis": "x",
         "y": [
          9
         ],
         "yaxis": "y"
        },
        {
         "customdata": [
          [
           "grid.14442.37",
           "Hacettepe University",
           "Ankara",
           "Turkey",
           17,
           9
          ]
         ],
         "hovertemplate": "<b>%{hovertext}</b><br><br>aff_country=%{customdata[3]}<br>aff_name=%{customdata[1]}<br>tot_pubs=%{customdata[5]}<br>tot_affiliations=%{customdata[4]}<br>aff_id=%{customdata[0]}<br>aff_city=%{customdata[2]}<extra></extra>",
         "hovertext": [
          "Hacettepe University"
         ],
         "legendgroup": "Turkey",
         "marker": {
          "color": "#636efa",
          "size": [
           17
          ],
          "sizemode": "area",
          "sizeref": 3.465,
          "symbol": "circle"
         },
         "mode": "markers",
         "name": "Turkey",
         "showlegend": true,
         "type": "scatter",
         "x": [
          "Hacettepe University"
         ],
         "xaxis": "x",
         "y": [
          9
         ],
         "yaxis": "y"
        }
       ],
       "layout": {
        "autosize": true,
        "legend": {
         "itemsizing": "constant",
         "title": {
          "text": "aff_country"
         },
         "tracegroupgap": 0
        },
        "template": {
         "data": {
          "bar": [
           {
            "error_x": {
             "color": "#2a3f5f"
            },
            "error_y": {
             "color": "#2a3f5f"
            },
            "marker": {
             "line": {
              "color": "#E5ECF6",
              "width": 0.5
             }
            },
            "type": "bar"
           }
          ],
          "barpolar": [
           {
            "marker": {
             "line": {
              "color": "#E5ECF6",
              "width": 0.5
             }
            },
            "type": "barpolar"
           }
          ],
          "carpet": [
           {
            "aaxis": {
             "endlinecolor": "#2a3f5f",
             "gridcolor": "white",
             "linecolor": "white",
             "minorgridcolor": "white",
             "startlinecolor": "#2a3f5f"
            },
            "baxis": {
             "endlinecolor": "#2a3f5f",
             "gridcolor": "white",
             "linecolor": "white",
             "minorgridcolor": "white",
             "startlinecolor": "#2a3f5f"
            },
            "type": "carpet"
           }
          ],
          "choropleth": [
           {
            "colorbar": {
             "outlinewidth": 0,
             "ticks": ""
            },
            "type": "choropleth"
           }
          ],
          "contour": [
           {
            "colorbar": {
             "outlinewidth": 0,
             "ticks": ""
            },
            "colorscale": [
             [
              0,
              "#0d0887"
             ],
             [
              0.1111111111111111,
              "#46039f"
             ],
             [
              0.2222222222222222,
              "#7201a8"
             ],
             [
              0.3333333333333333,
              "#9c179e"
             ],
             [
              0.4444444444444444,
              "#bd3786"
             ],
             [
              0.5555555555555556,
              "#d8576b"
             ],
             [
              0.6666666666666666,
              "#ed7953"
             ],
             [
              0.7777777777777778,
              "#fb9f3a"
             ],
             [
              0.8888888888888888,
              "#fdca26"
             ],
             [
              1,
              "#f0f921"
             ]
            ],
            "type": "contour"
           }
          ],
          "contourcarpet": [
           {
            "colorbar": {
             "outlinewidth": 0,
             "ticks": ""
            },
            "type": "contourcarpet"
           }
          ],
          "heatmap": [
           {
            "colorbar": {
             "outlinewidth": 0,
             "ticks": ""
            },
            "colorscale": [
             [
              0,
              "#0d0887"
             ],
             [
              0.1111111111111111,
              "#46039f"
             ],
             [
              0.2222222222222222,
              "#7201a8"
             ],
             [
              0.3333333333333333,
              "#9c179e"
             ],
             [
              0.4444444444444444,
              "#bd3786"
             ],
             [
              0.5555555555555556,
              "#d8576b"
             ],
             [
              0.6666666666666666,
              "#ed7953"
             ],
             [
              0.7777777777777778,
              "#fb9f3a"
             ],
             [
              0.8888888888888888,
              "#fdca26"
             ],
             [
              1,
              "#f0f921"
             ]
            ],
            "type": "heatmap"
           }
          ],
          "heatmapgl": [
           {
            "colorbar": {
             "outlinewidth": 0,
             "ticks": ""
            },
            "colorscale": [
             [
              0,
              "#0d0887"
             ],
             [
              0.1111111111111111,
              "#46039f"
             ],
             [
              0.2222222222222222,
              "#7201a8"
             ],
             [
              0.3333333333333333,
              "#9c179e"
             ],
             [
              0.4444444444444444,
              "#bd3786"
             ],
             [
              0.5555555555555556,
              "#d8576b"
             ],
             [
              0.6666666666666666,
              "#ed7953"
             ],
             [
              0.7777777777777778,
              "#fb9f3a"
             ],
             [
              0.8888888888888888,
              "#fdca26"
             ],
             [
              1,
              "#f0f921"
             ]
            ],
            "type": "heatmapgl"
           }
          ],
          "histogram": [
           {
            "marker": {
             "colorbar": {
              "outlinewidth": 0,
              "ticks": ""
             }
            },
            "type": "histogram"
           }
          ],
          "histogram2d": [
           {
            "colorbar": {
             "outlinewidth": 0,
             "ticks": ""
            },
            "colorscale": [
             [
              0,
              "#0d0887"
             ],
             [
              0.1111111111111111,
              "#46039f"
             ],
             [
              0.2222222222222222,
              "#7201a8"
             ],
             [
              0.3333333333333333,
              "#9c179e"
             ],
             [
              0.4444444444444444,
              "#bd3786"
             ],
             [
              0.5555555555555556,
              "#d8576b"
             ],
             [
              0.6666666666666666,
              "#ed7953"
             ],
             [
              0.7777777777777778,
              "#fb9f3a"
             ],
             [
              0.8888888888888888,
              "#fdca26"
             ],
             [
              1,
              "#f0f921"
             ]
            ],
            "type": "histogram2d"
           }
          ],
          "histogram2dcontour": [
           {
            "colorbar": {
             "outlinewidth": 0,
             "ticks": ""
            },
            "colorscale": [
             [
              0,
              "#0d0887"
             ],
             [
              0.1111111111111111,
              "#46039f"
             ],
             [
              0.2222222222222222,
              "#7201a8"
             ],
             [
              0.3333333333333333,
              "#9c179e"
             ],
             [
              0.4444444444444444,
              "#bd3786"
             ],
             [
              0.5555555555555556,
              "#d8576b"
             ],
             [
              0.6666666666666666,
              "#ed7953"
             ],
             [
              0.7777777777777778,
              "#fb9f3a"
             ],
             [
              0.8888888888888888,
              "#fdca26"
             ],
             [
              1,
              "#f0f921"
             ]
            ],
            "type": "histogram2dcontour"
           }
          ],
          "mesh3d": [
           {
            "colorbar": {
             "outlinewidth": 0,
             "ticks": ""
            },
            "type": "mesh3d"
           }
          ],
          "parcoords": [
           {
            "line": {
             "colorbar": {
              "outlinewidth": 0,
              "ticks": ""
             }
            },
            "type": "parcoords"
           }
          ],
          "pie": [
           {
            "automargin": true,
            "type": "pie"
           }
          ],
          "scatter": [
           {
            "marker": {
             "colorbar": {
              "outlinewidth": 0,
              "ticks": ""
             }
            },
            "type": "scatter"
           }
          ],
          "scatter3d": [
           {
            "line": {
             "colorbar": {
              "outlinewidth": 0,
              "ticks": ""
             }
            },
            "marker": {
             "colorbar": {
              "outlinewidth": 0,
              "ticks": ""
             }
            },
            "type": "scatter3d"
           }
          ],
          "scattercarpet": [
           {
            "marker": {
             "colorbar": {
              "outlinewidth": 0,
              "ticks": ""
             }
            },
            "type": "scattercarpet"
           }
          ],
          "scattergeo": [
           {
            "marker": {
             "colorbar": {
              "outlinewidth": 0,
              "ticks": ""
             }
            },
            "type": "scattergeo"
           }
          ],
          "scattergl": [
           {
            "marker": {
             "colorbar": {
              "outlinewidth": 0,
              "ticks": ""
             }
            },
            "type": "scattergl"
           }
          ],
          "scattermapbox": [
           {
            "marker": {
             "colorbar": {
              "outlinewidth": 0,
              "ticks": ""
             }
            },
            "type": "scattermapbox"
           }
          ],
          "scatterpolar": [
           {
            "marker": {
             "colorbar": {
              "outlinewidth": 0,
              "ticks": ""
             }
            },
            "type": "scatterpolar"
           }
          ],
          "scatterpolargl": [
           {
            "marker": {
             "colorbar": {
              "outlinewidth": 0,
              "ticks": ""
             }
            },
            "type": "scatterpolargl"
           }
          ],
          "scatterternary": [
           {
            "marker": {
             "colorbar": {
              "outlinewidth": 0,
              "ticks": ""
             }
            },
            "type": "scatterternary"
           }
          ],
          "surface": [
           {
            "colorbar": {
             "outlinewidth": 0,
             "ticks": ""
            },
            "colorscale": [
             [
              0,
              "#0d0887"
             ],
             [
              0.1111111111111111,
              "#46039f"
             ],
             [
              0.2222222222222222,
              "#7201a8"
             ],
             [
              0.3333333333333333,
              "#9c179e"
             ],
             [
              0.4444444444444444,
              "#bd3786"
             ],
             [
              0.5555555555555556,
              "#d8576b"
             ],
             [
              0.6666666666666666,
              "#ed7953"
             ],
             [
              0.7777777777777778,
              "#fb9f3a"
             ],
             [
              0.8888888888888888,
              "#fdca26"
             ],
             [
              1,
              "#f0f921"
             ]
            ],
            "type": "surface"
           }
          ],
          "table": [
           {
            "cells": {
             "fill": {
              "color": "#EBF0F8"
             },
             "line": {
              "color": "white"
             }
            },
            "header": {
             "fill": {
              "color": "#C8D4E3"
             },
             "line": {
              "color": "white"
             }
            },
            "type": "table"
           }
          ]
         },
         "layout": {
          "annotationdefaults": {
           "arrowcolor": "#2a3f5f",
           "arrowhead": 0,
           "arrowwidth": 1
          },
          "coloraxis": {
           "colorbar": {
            "outlinewidth": 0,
            "ticks": ""
           }
          },
          "colorscale": {
           "diverging": [
            [
             0,
             "#8e0152"
            ],
            [
             0.1,
             "#c51b7d"
            ],
            [
             0.2,
             "#de77ae"
            ],
            [
             0.3,
             "#f1b6da"
            ],
            [
             0.4,
             "#fde0ef"
            ],
            [
             0.5,
             "#f7f7f7"
            ],
            [
             0.6,
             "#e6f5d0"
            ],
            [
             0.7,
             "#b8e186"
            ],
            [
             0.8,
             "#7fbc41"
            ],
            [
             0.9,
             "#4d9221"
            ],
            [
             1,
             "#276419"
            ]
           ],
           "sequential": [
            [
             0,
             "#0d0887"
            ],
            [
             0.1111111111111111,
             "#46039f"
            ],
            [
             0.2222222222222222,
             "#7201a8"
            ],
            [
             0.3333333333333333,
             "#9c179e"
            ],
            [
             0.4444444444444444,
             "#bd3786"
            ],
            [
             0.5555555555555556,
             "#d8576b"
            ],
            [
             0.6666666666666666,
             "#ed7953"
            ],
            [
             0.7777777777777778,
             "#fb9f3a"
            ],
            [
             0.8888888888888888,
             "#fdca26"
            ],
            [
             1,
             "#f0f921"
            ]
           ],
           "sequentialminus": [
            [
             0,
             "#0d0887"
            ],
            [
             0.1111111111111111,
             "#46039f"
            ],
            [
             0.2222222222222222,
             "#7201a8"
            ],
            [
             0.3333333333333333,
             "#9c179e"
            ],
            [
             0.4444444444444444,
             "#bd3786"
            ],
            [
             0.5555555555555556,
             "#d8576b"
            ],
            [
             0.6666666666666666,
             "#ed7953"
            ],
            [
             0.7777777777777778,
             "#fb9f3a"
            ],
            [
             0.8888888888888888,
             "#fdca26"
            ],
            [
             1,
             "#f0f921"
            ]
           ]
          },
          "colorway": [
           "#636efa",
           "#EF553B",
           "#00cc96",
           "#ab63fa",
           "#FFA15A",
           "#19d3f3",
           "#FF6692",
           "#B6E880",
           "#FF97FF",
           "#FECB52"
          ],
          "font": {
           "color": "#2a3f5f"
          },
          "geo": {
           "bgcolor": "white",
           "lakecolor": "white",
           "landcolor": "#E5ECF6",
           "showlakes": true,
           "showland": true,
           "subunitcolor": "white"
          },
          "hoverlabel": {
           "align": "left"
          },
          "hovermode": "closest",
          "mapbox": {
           "style": "light"
          },
          "paper_bgcolor": "white",
          "plot_bgcolor": "#E5ECF6",
          "polar": {
           "angularaxis": {
            "gridcolor": "white",
            "linecolor": "white",
            "ticks": ""
           },
           "bgcolor": "#E5ECF6",
           "radialaxis": {
            "gridcolor": "white",
            "linecolor": "white",
            "ticks": ""
           }
          },
          "scene": {
           "xaxis": {
            "backgroundcolor": "#E5ECF6",
            "gridcolor": "white",
            "gridwidth": 2,
            "linecolor": "white",
            "showbackground": true,
            "ticks": "",
            "zerolinecolor": "white"
           },
           "yaxis": {
            "backgroundcolor": "#E5ECF6",
            "gridcolor": "white",
            "gridwidth": 2,
            "linecolor": "white",
            "showbackground": true,
            "ticks": "",
            "zerolinecolor": "white"
           },
           "zaxis": {
            "backgroundcolor": "#E5ECF6",
            "gridcolor": "white",
            "gridwidth": 2,
            "linecolor": "white",
            "showbackground": true,
            "ticks": "",
            "zerolinecolor": "white"
           }
          },
          "shapedefaults": {
           "line": {
            "color": "#2a3f5f"
           }
          },
          "ternary": {
           "aaxis": {
            "gridcolor": "white",
            "linecolor": "white",
            "ticks": ""
           },
           "baxis": {
            "gridcolor": "white",
            "linecolor": "white",
            "ticks": ""
           },
           "bgcolor": "#E5ECF6",
           "caxis": {
            "gridcolor": "white",
            "linecolor": "white",
            "ticks": ""
           }
          },
          "title": {
           "x": 0.05
          },
          "xaxis": {
           "automargin": true,
           "gridcolor": "white",
           "linecolor": "white",
           "ticks": "",
           "title": {
            "standoff": 15
           },
           "zerolinecolor": "white",
           "zerolinewidth": 2
          },
          "yaxis": {
           "automargin": true,
           "gridcolor": "white",
           "linecolor": "white",
           "ticks": "",
           "title": {
            "standoff": 15
           },
           "zerolinecolor": "white",
           "zerolinewidth": 2
          }
         }
        },
        "title": {
         "text": "Top 500 Institutions by number of publications (country segmentation)"
        },
        "xaxis": {
         "anchor": "y",
         "autorange": true,
         "domain": [
          0,
          1
         ],
         "range": [
          -39.3535006867942,
          528.4711778016704
         ],
         "title": {
          "text": "aff_name"
         },
         "type": "category"
        },
        "yaxis": {
         "anchor": "x",
         "autorange": true,
         "domain": [
          0,
          1
         ],
         "range": [
          -15.614122750331184,
          287.3492921086492
         ],
         "title": {
          "text": "tot_pubs"
         },
         "type": "linear"
        }
       }
      },
      "image/png": "[encoded data removed]",
      "text/html": [
       "<div>\n",
       "        \n",
       "        \n",
       "            <div id=\"82d73bae-e1a0-4667-86d8-568e94f014e3\" class=\"plotly-graph-div\" style=\"height:800px; width:100%;\"></div>\n",
       "            <script type=\"text/javascript\">\n",
       "                require([\"plotly\"], function(Plotly) {\n",
       "                    window.PLOTLYENV=window.PLOTLYENV || {};\n",
       "                    \n",
       "                if (document.getElementById(\"82d73bae-e1a0-4667-86d8-568e94f014e3\")) {\n",
       "                    Plotly.newPlot(\n",
       "                        '82d73bae-e1a0-4667-86d8-568e94f014e3',\n",
       "                        [{\"customdata\": [[\"grid.66859.34\", \"Broad Institute\", \"Cambridge\", \"United States\", 1386, 225], [\"grid.38142.3c\", \"Harvard University\", \"Cambridge\", \"United States\", 1204, 265], [\"grid.32224.35\", \"Massachusetts General Hospital\", \"Boston\", \"United States\", 698, 140], [\"grid.59734.3c\", \"Icahn School of Medicine at Mount Sinai\", \"New York\", \"United States\", 638, 93], [\"grid.214458.e\", \"University of Michigan\\u2013Ann Arbor\", \"Ann Arbor\", \"United States\", 617, 86], [\"grid.168010.e\", \"Stanford University\", \"Stanford\", \"United States\", 565, 121], [\"grid.51462.34\", \"Memorial Sloan Kettering Cancer Center\", \"New York\", \"United States\", 475, 59], [\"grid.34477.33\", \"University of Washington\", \"Seattle\", \"United States\", 447, 88], [\"grid.266102.1\", \"University of California, San Francisco\", \"San Francisco\", \"United States\", 403, 87], [\"grid.4367.6\", \"Washington University in St. Louis\", \"St Louis\", \"United States\", 400, 65], [\"grid.65499.37\", \"Dana-Farber Cancer Institute\", \"Boston\", \"United States\", 395, 72], [\"grid.240871.8\", \"St. Jude Children's Research Hospital\", \"Memphis\", \"United States\", 364, 27], [\"grid.47100.32\", \"Yale University\", \"New Haven\", \"United States\", 322, 47], [\"grid.62560.37\", \"Brigham and Women's Hospital\", \"Boston\", \"United States\", 311, 94], [\"grid.266100.3\", \"University of California, San Diego\", \"San Diego\", \"United States\", 308, 64], [\"grid.21107.35\", \"Johns Hopkins University\", \"Baltimore\", \"United States\", 305, 78], [\"grid.10698.36\", \"University of North Carolina at Chapel Hill\", \"Chapel Hill\", \"United States\", 301, 71], [\"grid.25879.31\", \"University of Pennsylvania\", \"Philadelphia\", \"United States\", 297, 83], [\"grid.21729.3f\", \"Columbia University\", \"New York\", \"United States\", 279, 55], [\"grid.19006.3e\", \"University of California, Los Angeles\", \"Los Angeles\", \"United States\", 276, 72], [\"grid.39382.33\", \"Baylor College of Medicine\", \"Houston\", \"United States\", 265, 62], [\"grid.5386.8\", \"Cornell University\", \"Ithaca\", \"United States\", 233, 66], [\"grid.42505.36\", \"University of Southern California\", \"Los Angeles\", \"United States\", 221, 60], [\"grid.2515.3\", \"Boston Children's Hospital\", \"Boston\", \"United States\", 201, 63], [\"grid.270240.3\", \"Fred Hutchinson Cancer Research Center\", \"Seattle\", \"United States\", 171, 43], [\"grid.240145.6\", \"The University of Texas MD Anderson Cancer Center\", \"Houston\", \"United States\", 164, 37], [\"grid.189504.1\", \"Boston University\", \"Boston\", \"United States\", 154, 47], [\"grid.21925.3d\", \"University of Pittsburgh\", \"Pittsburgh\", \"United States\", 146, 41], [\"grid.279885.9\", \"National Heart Lung and Blood Institute\", \"Bethesda\", \"United States\", 142, 36], [\"grid.66875.3a\", \"Mayo Clinic\", \"Rochester\", \"United States\", 136, 38], [\"grid.94365.3d\", \"National Institutes of Health\", \"Bethesda\", \"United States\", 128, 42], [\"grid.48336.3a\", \"National Cancer Institute\", \"Rockville\", \"United States\", 128, 29], [\"grid.26790.3a\", \"University of Miami\", \"Coral Gables\", \"United States\", 118, 18], [\"grid.267313.2\", \"The University of Texas Southwestern Medical Center\", \"Dallas\", \"United States\", 115, 26], [\"grid.412807.8\", \"Vanderbilt University Medical Center\", \"Nashville\", \"United States\", 113, 28], [\"grid.16753.36\", \"Northwestern University\", \"Evanston\", \"United States\", 113, 21], [\"grid.241167.7\", \"Wake Forest University\", \"Winston-Salem\", \"United States\", 109, 27], [\"grid.418158.1\", \"Roche (United States)\", \"Nutley\", \"United States\", 109, 16], [\"grid.239844.0\", \"Harbor\\u2013UCLA Medical Center\", \"Torrance\", \"United States\", 108, 24], [\"grid.223827.e\", \"University of Utah\", \"Salt Lake City\", \"United States\", 105, 44], [\"grid.267308.8\", \"The University of Texas Health Science Center at Houston\", \"Houston\", \"United States\", 104, 38], [\"grid.17635.36\", \"University of Minnesota\", \"Minneapolis\", \"United States\", 103, 37], [\"grid.116068.8\", \"Massachusetts Institute of Technology\", \"Cambridge\", \"United States\", 96, 50], [\"grid.152326.1\", \"Vanderbilt University\", \"Nashville\", \"United States\", 95, 33], [\"grid.475010.7\", \"Boston University School of Medicine\", \"Boston\", \"United States\", 94, 31], [\"grid.225279.9\", \"Cold Spring Harbor Laboratory\", \"Cold Spring Harbor\", \"United States\", 94, 25], [\"grid.239552.a\", \"Children's Hospital of Philadelphia\", \"Philadelphia\", \"United States\", 89, 22], [\"grid.280128.1\", \"National Human Genome Research Institute\", \"Bethesda\", \"United States\", 86, 32], [\"grid.137628.9\", \"New York University\", \"New York\", \"United States\", 81, 30], [\"grid.257413.6\", \"Indiana University \\u2013 Purdue University Indianapolis\", \"Indianapolis\", \"United States\", 79, 22], [\"grid.213876.9\", \"University of Georgia\", \"Athens\", \"United States\", 79, 21], [\"grid.27755.32\", \"University of Virginia\", \"Charlottesville\", \"United States\", 78, 27], [\"grid.67105.35\", \"Case Western Reserve University\", \"Cleveland\", \"United States\", 77, 26], [\"grid.430503.1\", \"University of Colorado Anschutz Medical Campus\", \"Aurora\", \"United States\", 76, 29], [\"grid.413575.1\", \"Howard Hughes Medical Institute\", \"Chevy Chase\", \"United States\", 75, 31], [\"grid.26009.3d\", \"Duke University\", \"Durham\", \"United States\", 75, 28], [\"grid.170205.1\", \"University of Chicago\", \"Chicago\", \"United States\", 74, 31], [\"grid.134563.6\", \"University of Arizona\", \"Tucson\", \"United States\", 72, 16], [\"grid.410711.2\", \"University of North Carolina System\", \"Chapel Hill\", \"United States\", 71, 30], [\"grid.134907.8\", \"Rockefeller University\", \"New York\", \"United States\", 68, 15], [\"grid.249880.f\", \"Jackson Laboratory\", \"Bar Harbor\", \"United States\", 66, 27], [\"grid.451309.a\", \"Joint Genome Institute\", \"Walnut Creek\", \"United States\", 66, 10], [\"grid.27860.3b\", \"University of California, Davis\", \"Davis\", \"United States\", 65, 29], [\"grid.16750.35\", \"Princeton University\", \"Princeton\", \"United States\", 65, 14], [\"grid.419475.a\", \"National Institute on Aging\", \"Baltimore\", \"United States\", 64, 24], [\"grid.47840.3f\", \"University of California, Berkeley\", \"Berkeley\", \"United States\", 63, 22], [\"grid.420283.f\", \"23andMe (United States)\", \"Mountain View\", \"United States\", 62, 29], [\"grid.15276.37\", \"University of Florida\", \"Gainesville\", \"United States\", 60, 26], [\"grid.411024.2\", \"University of Maryland, Baltimore\", \"Baltimore\", \"United States\", 60, 19], [\"grid.266190.a\", \"University of Colorado Boulder\", \"Boulder\", \"United States\", 60, 15], [\"grid.429884.b\", \"New York Genome Center\", \"New York\", \"United States\", 57, 16], [\"grid.189967.8\", \"Emory University\", \"Atlanta\", \"United States\", 55, 26], [\"grid.17088.36\", \"Michigan State University\", \"East Lansing\", \"United States\", 54, 12], [\"grid.50956.3f\", \"Cedars-Sinai Medical Center\", \"Los Angeles\", \"United States\", 52, 18], [\"grid.14003.36\", \"University of Wisconsin\\u2013Madison\", \"Madison\", \"United States\", 52, 11], [\"grid.240684.c\", \"Rush University Medical Center\", \"Chicago\", \"United States\", 52, 9], [\"grid.239573.9\", \"Cincinnati Children's Hospital Medical Center\", \"Cincinnati\", \"United States\", 50, 14], [\"grid.35403.31\", \"University of Illinois at Urbana Champaign\", \"Urbana\", \"United States\", 50, 10], [\"grid.410721.1\", \"University of Mississippi Medical Center\", \"Jackson\", \"United States\", 49, 24], [\"grid.40263.33\", \"Brown University\", \"Providence\", \"United States\", 48, 15], [\"grid.5288.7\", \"Oregon Health & Science University\", \"Portland\", \"United States\", 47, 19], [\"grid.419681.3\", \"National Institute of Allergy and Infectious Diseases\", \"Bethesda\", \"United States\", 46, 9], [\"grid.266093.8\", \"University of California, Irvine\", \"Irvine\", \"United States\", 45, 15], [\"grid.261331.4\", \"The Ohio State University\", \"Columbus\", \"United States\", 44, 22], [\"grid.239585.0\", \"Columbia University Medical Center\", \"New York\", \"United States\", 43, 26], [\"grid.29857.31\", \"Pennsylvania State University\", \"State College\", \"United States\", 41, 15], [\"grid.239578.2\", \"Cleveland Clinic\", \"Cleveland\", \"United States\", 39, 13], [\"grid.417467.7\", \"Mayo Clinic\", \"Jacksonville\", \"United States\", 39, 8], [\"grid.224260.0\", \"Virginia Commonwealth University\", \"Richmond\", \"United States\", 37, 13], [\"grid.270301.7\", \"Whitehead Institute for Biomedical Research\", \"Cambridge\", \"United States\", 37, 11], [\"grid.413734.6\", \"NewYork\\u2013Presbyterian Hospital\", \"New York\", \"United States\", 36, 7], [\"grid.416975.8\", \"Texas Children's Hospital\", \"Houston\", \"United States\", 36, 6], [\"grid.420086.8\", \"National Institute of Arthritis and Musculoskeletal and Skin Diseases\", \"Bethesda\", \"United States\", 36, 5], [\"grid.418019.5\", \"GlaxoSmithKline (United States)\", \"Philadelphia\", \"United States\", 35, 14], [\"grid.410370.1\", \"VA Boston Healthcare System\", \"Boston\", \"United States\", 35, 11], [\"grid.417993.1\", \"MSD (United States)\", \"Kenilworth\", \"United States\", 34, 15], [\"grid.280062.e\", \"Kaiser Permanente\", \"Oakland\", \"United States\", 34, 13], [\"grid.254880.3\", \"Dartmouth College\", \"Hanover\", \"United States\", 33, 15], [\"grid.422418.9\", \"American Cancer Society\", \"Atlanta\", \"United States\", 33, 14], [\"grid.168645.8\", \"University of Massachusetts Medical School\", \"Worcester\", \"United States\", 33, 11], [\"grid.468198.a\", \"Moffitt Cancer Center\", \"Tampa\", \"United States\", 32, 13], [\"grid.36567.31\", \"Kansas State University\", \"Manhattan\", \"United States\", 32, 5], [\"grid.265892.2\", \"University of Alabama at Birmingham\", \"Birmingham\", \"United States\", 31, 18], [\"grid.410425.6\", \"City Of Hope National Medical Center\", \"Duarte\", \"United States\", 30, 12], [\"grid.1052.6\", \"Ludwig Cancer Research\", \"New York\", \"United States\", 30, 4], [\"grid.214572.7\", \"University of Iowa\", \"Iowa City\", \"United States\", 29, 18], [\"grid.463419.d\", \"Agricultural Research Service\", \"Washington D.C.\", \"United States\", 29, 13], [\"grid.279946.7\", \"Los Angeles Biomedical Research Institute\", \"Torrance\", \"United States\", 29, 10], [\"grid.266539.d\", \"University of Kentucky\", \"Lexington\", \"United States\", 29, 8], [\"grid.63368.38\", \"Houston Methodist\", \"Houston\", \"United States\", 29, 5], [\"grid.280664.e\", \"National Institute of Environmental Health Sciences\", \"Durham\", \"United States\", 28, 10], [\"grid.185669.5\", \"Illumina (United States)\", \"San Diego\", \"United States\", 28, 8], [\"grid.251993.5\", \"Albert Einstein College of Medicine\", \"The Bronx\", \"United States\", 27, 17], [\"grid.417691.c\", \"HudsonAlpha Institute for Biotechnology\", \"Huntsville\", \"United States\", 27, 11], [\"grid.34421.30\", \"Iowa State University\", \"Ames\", \"United States\", 27, 11], [\"grid.24827.3b\", \"University of Cincinnati\", \"Cincinnati\", \"United States\", 27, 10], [\"grid.280030.9\", \"National Eye Institute\", \"Bethesda\", \"United States\", 26, 4], [\"grid.488833.c\", \"Kaiser Permanente Washington Health Research Institute\", \"Seattle\", \"United States\", 25, 20], [\"grid.189509.c\", \"Duke University Hospital\", \"Durham\", \"United States\", 25, 10], [\"grid.492568.4\", \"Seven Bridges Genomics (United States)\", \"Cambridge\", \"United States\", 25, 1], [\"grid.410445.0\", \"University of Hawaii at Manoa\", \"Honolulu\", \"United States\", 24, 15], [\"grid.89336.37\", \"The University of Texas at Austin\", \"Austin\", \"United States\", 23, 5], [\"grid.459583.6\", \"Human Longevity (United States)\", \"San Diego\", \"United States\", 23, 3], [\"grid.410513.2\", \"Pfizer (United States)\", \"New York\", \"United States\", 22, 10], [\"grid.430387.b\", \"Rutgers, The State University of New Jersey\", \"New Brunswick\", \"United States\", 21, 8], [\"grid.40803.3f\", \"North Carolina State University\", \"Raleigh\", \"United States\", 21, 8], [\"grid.240614.5\", \"Roswell Park Cancer Institute\", \"Buffalo\", \"United States\", 20, 6], [\"grid.418000.d\", \"Department of Plant Biology\", \"Stanford\", \"United States\", 20, 3], [\"grid.437349.e\", \"University of Minnesota System\", \"Minneapolis\", \"United States\", 19, 10], [\"grid.250820.d\", \"Stowers Institute for Medical Research\", \"Kansas City\", \"United States\", 19, 5], [\"grid.412016.0\", \"University of Kansas Medical Center\", \"Kansas City\", \"United States\", 18, 10], [\"grid.266902.9\", \"University of Oklahoma Health Sciences Center\", \"Oklahoma City\", \"United States\", 18, 9], [\"grid.239864.2\", \"Henry Ford Health System\", \"Detroit\", \"United States\", 18, 6], [\"grid.30760.32\", \"Medical College of Wisconsin\", \"Milwaukee\", \"United States\", 17, 7]], \"hovertemplate\": \"<b>%{hovertext}</b><br><br>aff_country=%{customdata[3]}<br>aff_name=%{customdata[1]}<br>tot_pubs=%{customdata[5]}<br>tot_affiliations=%{customdata[4]}<br>aff_id=%{customdata[0]}<br>aff_city=%{customdata[2]}<extra></extra>\", \"hovertext\": [\"Broad Institute\", \"Harvard University\", \"Massachusetts General Hospital\", \"Icahn School of Medicine at Mount Sinai\", \"University of Michigan\\u2013Ann Arbor\", \"Stanford University\", \"Memorial Sloan Kettering Cancer Center\", \"University of Washington\", \"University of California, San Francisco\", \"Washington University in St. Louis\", \"Dana-Farber Cancer Institute\", \"St. Jude Children's Research Hospital\", \"Yale University\", \"Brigham and Women's Hospital\", \"University of California, San Diego\", \"Johns Hopkins University\", \"University of North Carolina at Chapel Hill\", \"University of Pennsylvania\", \"Columbia University\", \"University of California, Los Angeles\", \"Baylor College of Medicine\", \"Cornell University\", \"University of Southern California\", \"Boston Children's Hospital\", \"Fred Hutchinson Cancer Research Center\", \"The University of Texas MD Anderson Cancer Center\", \"Boston University\", \"University of Pittsburgh\", \"National Heart Lung and Blood Institute\", \"Mayo Clinic\", \"National Institutes of Health\", \"National Cancer Institute\", \"University of Miami\", \"The University of Texas Southwestern Medical Center\", \"Vanderbilt University Medical Center\", \"Northwestern University\", \"Wake Forest University\", \"Roche (United States)\", \"Harbor\\u2013UCLA Medical Center\", \"University of Utah\", \"The University of Texas Health Science Center at Houston\", \"University of Minnesota\", \"Massachusetts Institute of Technology\", \"Vanderbilt University\", \"Boston University School of Medicine\", \"Cold Spring Harbor Laboratory\", \"Children's Hospital of Philadelphia\", \"National Human Genome Research Institute\", \"New York University\", \"Indiana University \\u2013 Purdue University Indianapolis\", \"University of Georgia\", \"University of Virginia\", \"Case Western Reserve University\", \"University of Colorado Anschutz Medical Campus\", \"Howard Hughes Medical Institute\", \"Duke University\", \"University of Chicago\", \"University of Arizona\", \"University of North Carolina System\", \"Rockefeller University\", \"Jackson Laboratory\", \"Joint Genome Institute\", \"University of California, Davis\", \"Princeton University\", \"National Institute on Aging\", \"University of California, Berkeley\", \"23andMe (United States)\", \"University of Florida\", \"University of Maryland, Baltimore\", \"University of Colorado Boulder\", \"New York Genome Center\", \"Emory University\", \"Michigan State University\", \"Cedars-Sinai Medical Center\", \"University of Wisconsin\\u2013Madison\", \"Rush University Medical Center\", \"Cincinnati Children's Hospital Medical Center\", \"University of Illinois at Urbana Champaign\", \"University of Mississippi Medical Center\", \"Brown University\", \"Oregon Health & Science University\", \"National Institute of Allergy and Infectious Diseases\", \"University of California, Irvine\", \"The Ohio State University\", \"Columbia University Medical Center\", \"Pennsylvania State University\", \"Cleveland Clinic\", \"Mayo Clinic\", \"Virginia Commonwealth University\", \"Whitehead Institute for Biomedical Research\", \"NewYork\\u2013Presbyterian Hospital\", \"Texas Children's Hospital\", \"National Institute of Arthritis and Musculoskeletal and Skin Diseases\", \"GlaxoSmithKline (United States)\", \"VA Boston Healthcare System\", \"MSD (United States)\", \"Kaiser Permanente\", \"Dartmouth College\", \"American Cancer Society\", \"University of Massachusetts Medical School\", \"Moffitt Cancer Center\", \"Kansas State University\", \"University of Alabama at Birmingham\", \"City Of Hope National Medical Center\", \"Ludwig Cancer Research\", \"University of Iowa\", \"Agricultural Research Service\", \"Los Angeles Biomedical Research Institute\", \"University of Kentucky\", \"Houston Methodist\", \"National Institute of Environmental Health Sciences\", \"Illumina (United States)\", \"Albert Einstein College of Medicine\", \"HudsonAlpha Institute for Biotechnology\", \"Iowa State University\", \"University of Cincinnati\", \"National Eye Institute\", \"Kaiser Permanente Washington Health Research Institute\", \"Duke University Hospital\", \"Seven Bridges Genomics (United States)\", \"University of Hawaii at Manoa\", \"The University of Texas at Austin\", \"Human Longevity (United States)\", \"Pfizer (United States)\", \"Rutgers, The State University of New Jersey\", \"North Carolina State University\", \"Roswell Park Cancer Institute\", \"Department of Plant Biology\", \"University of Minnesota System\", \"Stowers Institute for Medical Research\", \"University of Kansas Medical Center\", \"University of Oklahoma Health Sciences Center\", \"Henry Ford Health System\", \"Medical College of Wisconsin\"], \"legendgroup\": \"United States\", \"marker\": {\"color\": \"#636efa\", \"size\": [1386, 1204, 698, 638, 617, 565, 475, 447, 403, 400, 395, 364, 322, 311, 308, 305, 301, 297, 279, 276, 265, 233, 221, 201, 171, 164, 154, 146, 142, 136, 128, 128, 118, 115, 113, 113, 109, 109, 108, 105, 104, 103, 96, 95, 94, 94, 89, 86, 81, 79, 79, 78, 77, 76, 75, 75, 74, 72, 71, 68, 66, 66, 65, 65, 64, 63, 62, 60, 60, 60, 57, 55, 54, 52, 52, 52, 50, 50, 49, 48, 47, 46, 45, 44, 43, 41, 39, 39, 37, 37, 36, 36, 36, 35, 35, 34, 34, 33, 33, 33, 32, 32, 31, 30, 30, 29, 29, 29, 29, 29, 28, 28, 27, 27, 27, 27, 26, 25, 25, 25, 24, 23, 23, 22, 21, 21, 20, 20, 19, 19, 18, 18, 18, 17], \"sizemode\": \"area\", \"sizeref\": 3.465, \"symbol\": \"circle\"}, \"mode\": \"markers\", \"name\": \"United States\", \"showlegend\": true, \"type\": \"scatter\", \"x\": [\"Broad Institute\", \"Harvard University\", \"Massachusetts General Hospital\", \"Icahn School of Medicine at Mount Sinai\", \"University of Michigan\\u2013Ann Arbor\", \"Stanford University\", \"Memorial Sloan Kettering Cancer Center\", \"University of Washington\", \"University of California, San Francisco\", \"Washington University in St. Louis\", \"Dana-Farber Cancer Institute\", \"St. Jude Children's Research Hospital\", \"Yale University\", \"Brigham and Women's Hospital\", \"University of California, San Diego\", \"Johns Hopkins University\", \"University of North Carolina at Chapel Hill\", \"University of Pennsylvania\", \"Columbia University\", \"University of California, Los Angeles\", \"Baylor College of Medicine\", \"Cornell University\", \"University of Southern California\", \"Boston Children's Hospital\", \"Fred Hutchinson Cancer Research Center\", \"The University of Texas MD Anderson Cancer Center\", \"Boston University\", \"University of Pittsburgh\", \"National Heart Lung and Blood Institute\", \"Mayo Clinic\", \"National Institutes of Health\", \"National Cancer Institute\", \"University of Miami\", \"The University of Texas Southwestern Medical Center\", \"Vanderbilt University Medical Center\", \"Northwestern University\", \"Wake Forest University\", \"Roche (United States)\", \"Harbor\\u2013UCLA Medical Center\", \"University of Utah\", \"The University of Texas Health Science Center at Houston\", \"University of Minnesota\", \"Massachusetts Institute of Technology\", \"Vanderbilt University\", \"Boston University School of Medicine\", \"Cold Spring Harbor Laboratory\", \"Children's Hospital of Philadelphia\", \"National Human Genome Research Institute\", \"New York University\", \"Indiana University \\u2013 Purdue University Indianapolis\", \"University of Georgia\", \"University of Virginia\", \"Case Western Reserve University\", \"University of Colorado Anschutz Medical Campus\", \"Howard Hughes Medical Institute\", \"Duke University\", \"University of Chicago\", \"University of Arizona\", \"University of North Carolina System\", \"Rockefeller University\", \"Jackson Laboratory\", \"Joint Genome Institute\", \"University of California, Davis\", \"Princeton University\", \"National Institute on Aging\", \"University of California, Berkeley\", \"23andMe (United States)\", \"University of Florida\", \"University of Maryland, Baltimore\", \"University of Colorado Boulder\", \"New York Genome Center\", \"Emory University\", \"Michigan State University\", \"Cedars-Sinai Medical Center\", \"University of Wisconsin\\u2013Madison\", \"Rush University Medical Center\", \"Cincinnati Children's Hospital Medical Center\", \"University of Illinois at Urbana Champaign\", \"University of Mississippi Medical Center\", \"Brown University\", \"Oregon Health & Science University\", \"National Institute of Allergy and Infectious Diseases\", \"University of California, Irvine\", \"The Ohio State University\", \"Columbia University Medical Center\", \"Pennsylvania State University\", \"Cleveland Clinic\", \"Mayo Clinic\", \"Virginia Commonwealth University\", \"Whitehead Institute for Biomedical Research\", \"NewYork\\u2013Presbyterian Hospital\", \"Texas Children's Hospital\", \"National Institute of Arthritis and Musculoskeletal and Skin Diseases\", \"GlaxoSmithKline (United States)\", \"VA Boston Healthcare System\", \"MSD (United States)\", \"Kaiser Permanente\", \"Dartmouth College\", \"American Cancer Society\", \"University of Massachusetts Medical School\", \"Moffitt Cancer Center\", \"Kansas State University\", \"University of Alabama at Birmingham\", \"City Of Hope National Medical Center\", \"Ludwig Cancer Research\", \"University of Iowa\", \"Agricultural Research Service\", \"Los Angeles Biomedical Research Institute\", \"University of Kentucky\", \"Houston Methodist\", \"National Institute of Environmental Health Sciences\", \"Illumina (United States)\", \"Albert Einstein College of Medicine\", \"HudsonAlpha Institute for Biotechnology\", \"Iowa State University\", \"University of Cincinnati\", \"National Eye Institute\", \"Kaiser Permanente Washington Health Research Institute\", \"Duke University Hospital\", \"Seven Bridges Genomics (United States)\", \"University of Hawaii at Manoa\", \"The University of Texas at Austin\", \"Human Longevity (United States)\", \"Pfizer (United States)\", \"Rutgers, The State University of New Jersey\", \"North Carolina State University\", \"Roswell Park Cancer Institute\", \"Department of Plant Biology\", \"University of Minnesota System\", \"Stowers Institute for Medical Research\", \"University of Kansas Medical Center\", \"University of Oklahoma Health Sciences Center\", \"Henry Ford Health System\", \"Medical College of Wisconsin\"], \"xaxis\": \"x\", \"y\": [225, 265, 140, 93, 86, 121, 59, 88, 87, 65, 72, 27, 47, 94, 64, 78, 71, 83, 55, 72, 62, 66, 60, 63, 43, 37, 47, 41, 36, 38, 42, 29, 18, 26, 28, 21, 27, 16, 24, 44, 38, 37, 50, 33, 31, 25, 22, 32, 30, 22, 21, 27, 26, 29, 31, 28, 31, 16, 30, 15, 27, 10, 29, 14, 24, 22, 29, 26, 19, 15, 16, 26, 12, 18, 11, 9, 14, 10, 24, 15, 19, 9, 15, 22, 26, 15, 13, 8, 13, 11, 7, 6, 5, 14, 11, 15, 13, 15, 14, 11, 13, 5, 18, 12, 4, 18, 13, 10, 8, 5, 10, 8, 17, 11, 11, 10, 4, 20, 10, 1, 15, 5, 3, 10, 8, 8, 6, 3, 10, 5, 10, 9, 6, 7], \"yaxis\": \"y\"}, {\"customdata\": [[\"grid.5335.0\", \"University of Cambridge\", \"Cambridge\", \"United Kingdom\", 935, 158], [\"grid.10306.34\", \"Wellcome Sanger Institute\", \"Cambridge\", \"United Kingdom\", 705, 142], [\"grid.4305.2\", \"University of Edinburgh\", \"Edinburgh\", \"United Kingdom\", 526, 77], [\"grid.4991.5\", \"University of Oxford\", \"Oxford\", \"United Kingdom\", 500, 132], [\"grid.7445.2\", \"Imperial College London\", \"London\", \"United Kingdom\", 418, 81], [\"grid.270683.8\", \"Wellcome Centre for Human Genetics\", \"Oxford\", \"United Kingdom\", 361, 81], [\"grid.13097.3c\", \"King's College London\", \"London\", \"United Kingdom\", 356, 90], [\"grid.83440.3b\", \"University College London\", \"London\", \"United Kingdom\", 331, 113], [\"grid.4868.2\", \"Queen Mary University of London\", \"London\", \"United Kingdom\", 260, 57], [\"grid.18886.3f\", \"Institute of Cancer Research\", \"London\", \"United Kingdom\", 210, 42], [\"grid.5600.3\", \"Cardiff University\", \"Cardiff\", \"United Kingdom\", 198, 29], [\"grid.5337.2\", \"University of Bristol\", \"Bristol\", \"United Kingdom\", 177, 53], [\"grid.470900.a\", \"Institute of Metabolic Science\", \"Cambridge\", \"United Kingdom\", 126, 29], [\"grid.9918.9\", \"University of Leicester\", \"Leicester\", \"United Kingdom\", 118, 29], [\"grid.5379.8\", \"University of Manchester\", \"Manchester\", \"United Kingdom\", 116, 53], [\"grid.470869.4\", \"Cancer Research UK Cambridge Institute\", \"Cambridge\", \"United Kingdom\", 101, 23], [\"grid.8756.c\", \"University of Glasgow\", \"Glasgow\", \"United Kingdom\", 96, 42], [\"grid.10025.36\", \"University of Liverpool\", \"Liverpool\", \"United Kingdom\", 76, 45], [\"grid.8391.3\", \"University of Exeter\", \"Exeter\", \"United Kingdom\", 73, 23], [\"grid.225360.0\", \"European Bioinformatics Institute\", \"Cambridge\", \"United Kingdom\", 64, 27], [\"grid.5491.9\", \"University of Southampton\", \"Southampton\", \"United Kingdom\", 60, 27], [\"grid.8991.9\", \"London School of Hygiene & Tropical Medicine\", \"London\", \"United Kingdom\", 57, 18], [\"grid.436283.8\", \"National Hospital for Neurology and Neurosurgery\", \"London\", \"United Kingdom\", 57, 4], [\"grid.412925.9\", \"Glenfield Hospital\", \"Leicester\", \"United Kingdom\", 56, 25], [\"grid.415918.0\", \"Ealing Hospital\", \"London\", \"United Kingdom\", 48, 16], [\"grid.1006.7\", \"Newcastle University\", \"Newcastle upon Tyne\", \"United Kingdom\", 44, 27], [\"grid.451388.3\", \"The Francis Crick Institute\", \"London\", \"United Kingdom\", 41, 18], [\"grid.11835.3e\", \"University of Sheffield\", \"Sheffield\", \"United Kingdom\", 40, 17], [\"grid.415854.9\", \"Medical Research Council Institute of Genetics and Molecular Medicine\", \"Edinburgh\", \"United Kingdom\", 40, 8], [\"grid.4563.4\", \"University of Nottingham\", \"Nottingham\", \"United Kingdom\", 39, 16], [\"grid.5072.0\", \"Royal Marsden NHS Foundation Trust\", \"London\", \"United Kingdom\", 39, 7], [\"grid.120073.7\", \"Addenbrooke's Hospital\", \"Cambridge\", \"United Kingdom\", 38, 20], [\"grid.8241.f\", \"University of Dundee\", \"Dundee\", \"United Kingdom\", 37, 16], [\"grid.454382.c\", \"NIHR Oxford Musculoskeletal Biomedical Research Centre\", \"Oxford\", \"United Kingdom\", 37, 14], [\"grid.6572.6\", \"University of Birmingham\", \"Birmingham\", \"United Kingdom\", 36, 11], [\"grid.418195.0\", \"Babraham Institute\", \"Cambridge\", \"United Kingdom\", 35, 7], [\"grid.4777.3\", \"Queen's University Belfast\", \"Belfast\", \"United Kingdom\", 33, 17], [\"grid.451056.3\", \"National Institute for Health Research\", \"London\", \"United Kingdom\", 32, 14], [\"grid.9909.9\", \"University of Leeds\", \"Leeds\", \"United Kingdom\", 32, 12], [\"grid.417895.6\", \"Imperial College Healthcare NHS Trust\", \"London\", \"United Kingdom\", 31, 16], [\"grid.420006.0\", \"Medical Research Council Harwell\", \"Oxford\", \"United Kingdom\", 29, 3], [\"grid.24029.3d\", \"Cambridge University Hospitals NHS Foundation Trust\", \"Cambridge\", \"United Kingdom\", 25, 15], [\"grid.415719.f\", \"Churchill Hospital\", \"Oxford\", \"United Kingdom\", 25, 13], [\"grid.418236.a\", \"GlaxoSmithKline (United Kingdom)\", \"London\", \"United Kingdom\", 24, 10], [\"grid.418566.8\", \"Pfizer (United Kingdom)\", \"Tadworth\", \"United Kingdom\", 24, 3], [\"grid.14105.31\", \"Medical Research Council\", \"London\", \"United Kingdom\", 23, 6], [\"grid.498322.6\", \"Genomics England\", \"London\", \"United Kingdom\", 23, 2], [\"grid.421962.a\", \"Weatherall Institute of Molecular Medicine\", \"Oxford\", \"United Kingdom\", 23, 1], [\"grid.420468.c\", \"Great Ormond Street Hospital\", \"London\", \"United Kingdom\", 22, 5], [\"grid.498924.a\", \"Manchester University NHS Foundation Trust\", \"Manchester\", \"United Kingdom\", 21, 11], [\"grid.434747.7\", \"Illumina (United Kingdom)\", \"Cambridge\", \"United Kingdom\", 21, 4], [\"grid.7372.1\", \"University of Warwick\", \"Coventry\", \"United Kingdom\", 20, 13], [\"grid.7107.1\", \"University of Aberdeen\", \"Aberdeen\", \"United Kingdom\", 19, 15]], \"hovertemplate\": \"<b>%{hovertext}</b><br><br>aff_country=%{customdata[3]}<br>aff_name=%{customdata[1]}<br>tot_pubs=%{customdata[5]}<br>tot_affiliations=%{customdata[4]}<br>aff_id=%{customdata[0]}<br>aff_city=%{customdata[2]}<extra></extra>\", \"hovertext\": [\"University of Cambridge\", \"Wellcome Sanger Institute\", \"University of Edinburgh\", \"University of Oxford\", \"Imperial College London\", \"Wellcome Centre for Human Genetics\", \"King's College London\", \"University College London\", \"Queen Mary University of London\", \"Institute of Cancer Research\", \"Cardiff University\", \"University of Bristol\", \"Institute of Metabolic Science\", \"University of Leicester\", \"University of Manchester\", \"Cancer Research UK Cambridge Institute\", \"University of Glasgow\", \"University of Liverpool\", \"University of Exeter\", \"European Bioinformatics Institute\", \"University of Southampton\", \"London School of Hygiene & Tropical Medicine\", \"National Hospital for Neurology and Neurosurgery\", \"Glenfield Hospital\", \"Ealing Hospital\", \"Newcastle University\", \"The Francis Crick Institute\", \"University of Sheffield\", \"Medical Research Council Institute of Genetics and Molecular Medicine\", \"University of Nottingham\", \"Royal Marsden NHS Foundation Trust\", \"Addenbrooke's Hospital\", \"University of Dundee\", \"NIHR Oxford Musculoskeletal Biomedical Research Centre\", \"University of Birmingham\", \"Babraham Institute\", \"Queen's University Belfast\", \"National Institute for Health Research\", \"University of Leeds\", \"Imperial College Healthcare NHS Trust\", \"Medical Research Council Harwell\", \"Cambridge University Hospitals NHS Foundation Trust\", \"Churchill Hospital\", \"GlaxoSmithKline (United Kingdom)\", \"Pfizer (United Kingdom)\", \"Medical Research Council\", \"Genomics England\", \"Weatherall Institute of Molecular Medicine\", \"Great Ormond Street Hospital\", \"Manchester University NHS Foundation Trust\", \"Illumina (United Kingdom)\", \"University of Warwick\", \"University of Aberdeen\"], \"legendgroup\": \"United Kingdom\", \"marker\": {\"color\": \"#EF553B\", \"size\": [935, 705, 526, 500, 418, 361, 356, 331, 260, 210, 198, 177, 126, 118, 116, 101, 96, 76, 73, 64, 60, 57, 57, 56, 48, 44, 41, 40, 40, 39, 39, 38, 37, 37, 36, 35, 33, 32, 32, 31, 29, 25, 25, 24, 24, 23, 23, 23, 22, 21, 21, 20, 19], \"sizemode\": \"area\", \"sizeref\": 3.465, \"symbol\": \"circle\"}, \"mode\": \"markers\", \"name\": \"United Kingdom\", \"showlegend\": true, \"type\": \"scatter\", \"x\": [\"University of Cambridge\", \"Wellcome Sanger Institute\", \"University of Edinburgh\", \"University of Oxford\", \"Imperial College London\", \"Wellcome Centre for Human Genetics\", \"King's College London\", \"University College London\", \"Queen Mary University of London\", \"Institute of Cancer Research\", \"Cardiff University\", \"University of Bristol\", \"Institute of Metabolic Science\", \"University of Leicester\", \"University of Manchester\", \"Cancer Research UK Cambridge Institute\", \"University of Glasgow\", \"University of Liverpool\", \"University of Exeter\", \"European Bioinformatics Institute\", \"University of Southampton\", \"London School of Hygiene & Tropical Medicine\", \"National Hospital for Neurology and Neurosurgery\", \"Glenfield Hospital\", \"Ealing Hospital\", \"Newcastle University\", \"The Francis Crick Institute\", \"University of Sheffield\", \"Medical Research Council Institute of Genetics and Molecular Medicine\", \"University of Nottingham\", \"Royal Marsden NHS Foundation Trust\", \"Addenbrooke's Hospital\", \"University of Dundee\", \"NIHR Oxford Musculoskeletal Biomedical Research Centre\", \"University of Birmingham\", \"Babraham Institute\", \"Queen's University Belfast\", \"National Institute for Health Research\", \"University of Leeds\", \"Imperial College Healthcare NHS Trust\", \"Medical Research Council Harwell\", \"Cambridge University Hospitals NHS Foundation Trust\", \"Churchill Hospital\", \"GlaxoSmithKline (United Kingdom)\", \"Pfizer (United Kingdom)\", \"Medical Research Council\", \"Genomics England\", \"Weatherall Institute of Molecular Medicine\", \"Great Ormond Street Hospital\", \"Manchester University NHS Foundation Trust\", \"Illumina (United Kingdom)\", \"University of Warwick\", \"University of Aberdeen\"], \"xaxis\": \"x\", \"y\": [158, 142, 77, 132, 81, 81, 90, 113, 57, 42, 29, 53, 29, 29, 53, 23, 42, 45, 23, 27, 27, 18, 4, 25, 16, 27, 18, 17, 8, 16, 7, 20, 16, 14, 11, 7, 17, 14, 12, 16, 3, 15, 13, 10, 3, 6, 2, 1, 5, 11, 4, 13, 15], \"yaxis\": \"y\"}, {\"customdata\": [[\"grid.5645.2\", \"Erasmus University Medical Center\", \"Rotterdam\", \"Netherlands\", 594, 85], [\"grid.4494.d\", \"University Medical Center Groningen\", \"Groningen\", \"Netherlands\", 279, 44], [\"grid.10419.3d\", \"Leiden University Medical Center\", \"Leiden\", \"Netherlands\", 244, 60], [\"grid.7692.a\", \"University Medical Center Utrecht\", \"Utrecht\", \"Netherlands\", 206, 42], [\"grid.10417.33\", \"Radboud University Nijmegen Medical Centre\", \"Nijmegen\", \"Netherlands\", 173, 38], [\"grid.484519.5\", \"Amsterdam Neuroscience\", \"Amsterdam\", \"Netherlands\", 153, 26], [\"grid.12380.38\", \"VU Amsterdam\", \"Amsterdam\", \"Netherlands\", 145, 34], [\"grid.5650.6\", \"Academic Medical Center\", \"Amsterdam\", \"Netherlands\", 86, 17], [\"grid.430814.a\", \"Antoni van Leeuwenhoek Hospital\", \"Amsterdam\", \"Netherlands\", 75, 16], [\"grid.16872.3a\", \"VU University Medical Center\", \"Amsterdam\", \"Netherlands\", 74, 37], [\"grid.5590.9\", \"Radboud University Nijmegen\", \"Nijmegen\", \"Netherlands\", 62, 14], [\"grid.4818.5\", \"Wageningen University & Research\", \"Wageningen\", \"Netherlands\", 53, 13], [\"grid.412966.e\", \"Maastricht University Medical Centre\", \"Maastricht\", \"Netherlands\", 44, 19], [\"grid.6906.9\", \"Erasmus University Rotterdam\", \"Rotterdam\", \"Netherlands\", 39, 6], [\"grid.466632.3\", \"EMGO Institute for Health and Care Research\", \"Amsterdam\", \"Netherlands\", 32, 9], [\"grid.411737.7\", \"Netherlands Heart Institute\", \"Utrecht\", \"Netherlands\", 18, 12]], \"hovertemplate\": \"<b>%{hovertext}</b><br><br>aff_country=%{customdata[3]}<br>aff_name=%{customdata[1]}<br>tot_pubs=%{customdata[5]}<br>tot_affiliations=%{customdata[4]}<br>aff_id=%{customdata[0]}<br>aff_city=%{customdata[2]}<extra></extra>\", \"hovertext\": [\"Erasmus University Medical Center\", \"University Medical Center Groningen\", \"Leiden University Medical Center\", \"University Medical Center Utrecht\", \"Radboud University Nijmegen Medical Centre\", \"Amsterdam Neuroscience\", \"VU Amsterdam\", \"Academic Medical Center\", \"Antoni van Leeuwenhoek Hospital\", \"VU University Medical Center\", \"Radboud University Nijmegen\", \"Wageningen University & Research\", \"Maastricht University Medical Centre\", \"Erasmus University Rotterdam\", \"EMGO Institute for Health and Care Research\", \"Netherlands Heart Institute\"], \"legendgroup\": \"Netherlands\", \"marker\": {\"color\": \"#00cc96\", \"size\": [594, 279, 244, 206, 173, 153, 145, 86, 75, 74, 62, 53, 44, 39, 32, 18], \"sizemode\": \"area\", \"sizeref\": 3.465, \"symbol\": \"circle\"}, \"mode\": \"markers\", \"name\": \"Netherlands\", \"showlegend\": true, \"type\": \"scatter\", \"x\": [\"Erasmus University Medical Center\", \"University Medical Center Groningen\", \"Leiden University Medical Center\", \"University Medical Center Utrecht\", \"Radboud University Nijmegen Medical Centre\", \"Amsterdam Neuroscience\", \"VU Amsterdam\", \"Academic Medical Center\", \"Antoni van Leeuwenhoek Hospital\", \"VU University Medical Center\", \"Radboud University Nijmegen\", \"Wageningen University & Research\", \"Maastricht University Medical Centre\", \"Erasmus University Rotterdam\", \"EMGO Institute for Health and Care Research\", \"Netherlands Heart Institute\"], \"xaxis\": \"x\", \"y\": [85, 44, 60, 42, 38, 26, 34, 17, 16, 37, 14, 13, 19, 6, 9, 12], \"yaxis\": \"y\"}, {\"customdata\": [[\"grid.7737.4\", \"University of Helsinki\", \"Helsinki\", \"Finland\", 476, 55], [\"grid.14758.3f\", \"National Institute for Health and Welfare\", \"Helsinki\", \"Finland\", 164, 39], [\"grid.502801.e\", \"Tampere University\", \"Tampere\", \"Finland\", 123, 28], [\"grid.9668.1\", \"University of Eastern Finland\", \"Kuopio\", \"Finland\", 113, 29], [\"grid.410705.7\", \"Kuopio University Hospital\", \"Kuopio\", \"Finland\", 112, 34], [\"grid.10858.34\", \"University of Oulu\", \"Oulu\", \"Finland\", 85, 33], [\"grid.15485.3d\", \"Helsinki University Central Hospital\", \"Helsinki\", \"Finland\", 58, 28], [\"grid.1374.1\", \"University of Turku\", \"Turku\", \"Finland\", 49, 27], [\"grid.419013.e\", \"Kuopion Liikuntal\\u00e4\\u00e4ketieteen Tutkimuslaitos\", \"Kuopio\", \"Finland\", 33, 12], [\"grid.410552.7\", \"Turku University Hospital\", \"Turku\", \"Finland\", 32, 25], [\"grid.412326.0\", \"Oulu University Hospital\", \"Oulu\", \"Finland\", 27, 19], [\"grid.412330.7\", \"Tampere University Hospital\", \"Tampere\", \"Finland\", 25, 18]], \"hovertemplate\": \"<b>%{hovertext}</b><br><br>aff_country=%{customdata[3]}<br>aff_name=%{customdata[1]}<br>tot_pubs=%{customdata[5]}<br>tot_affiliations=%{customdata[4]}<br>aff_id=%{customdata[0]}<br>aff_city=%{customdata[2]}<extra></extra>\", \"hovertext\": [\"University of Helsinki\", \"National Institute for Health and Welfare\", \"Tampere University\", \"University of Eastern Finland\", \"Kuopio University Hospital\", \"University of Oulu\", \"Helsinki University Central Hospital\", \"University of Turku\", \"Kuopion Liikuntal\\u00e4\\u00e4ketieteen Tutkimuslaitos\", \"Turku University Hospital\", \"Oulu University Hospital\", \"Tampere University Hospital\"], \"legendgroup\": \"Finland\", \"marker\": {\"color\": \"#ab63fa\", \"size\": [476, 164, 123, 113, 112, 85, 58, 49, 33, 32, 27, 25], \"sizemode\": \"area\", \"sizeref\": 3.465, \"symbol\": \"circle\"}, \"mode\": \"markers\", \"name\": \"Finland\", \"showlegend\": true, \"type\": \"scatter\", \"x\": [\"University of Helsinki\", \"National Institute for Health and Welfare\", \"Tampere University\", \"University of Eastern Finland\", \"Kuopio University Hospital\", \"University of Oulu\", \"Helsinki University Central Hospital\", \"University of Turku\", \"Kuopion Liikuntal\\u00e4\\u00e4ketieteen Tutkimuslaitos\", \"Turku University Hospital\", \"Oulu University Hospital\", \"Tampere University Hospital\"], \"xaxis\": \"x\", \"y\": [55, 39, 28, 29, 34, 33, 28, 27, 12, 25, 19, 18], \"yaxis\": \"y\"}, {\"customdata\": [[\"grid.4714.6\", \"Karolinska Institute\", \"Stockholm\", \"Sweden\", 382, 100], [\"grid.8993.b\", \"Uppsala University\", \"Uppsala\", \"Sweden\", 186, 58], [\"grid.4514.4\", \"Lund University\", \"Lund\", \"Sweden\", 157, 43], [\"grid.12650.30\", \"Ume\\u00e5 University\", \"Ume\\u00e5\", \"Sweden\", 66, 27], [\"grid.24381.3c\", \"Karolinska University Hospital\", \"Stockholm\", \"Sweden\", 61, 30], [\"grid.8761.8\", \"University of Gothenburg\", \"Gothenburg\", \"Sweden\", 27, 15], [\"grid.6341.0\", \"Swedish University of Agricultural Sciences\", \"Uppsala\", \"Sweden\", 22, 6], [\"grid.411843.b\", \"Sk\\u00e5ne University Hospital\", \"Lund\", \"Sweden\", 21, 11]], \"hovertemplate\": \"<b>%{hovertext}</b><br><br>aff_country=%{customdata[3]}<br>aff_name=%{customdata[1]}<br>tot_pubs=%{customdata[5]}<br>tot_affiliations=%{customdata[4]}<br>aff_id=%{customdata[0]}<br>aff_city=%{customdata[2]}<extra></extra>\", \"hovertext\": [\"Karolinska Institute\", \"Uppsala University\", \"Lund University\", \"Ume\\u00e5 University\", \"Karolinska University Hospital\", \"University of Gothenburg\", \"Swedish University of Agricultural Sciences\", \"Sk\\u00e5ne University Hospital\"], \"legendgroup\": \"Sweden\", \"marker\": {\"color\": \"#FFA15A\", \"size\": [382, 186, 157, 66, 61, 27, 22, 21], \"sizemode\": \"area\", \"sizeref\": 3.465, \"symbol\": \"circle\"}, \"mode\": \"markers\", \"name\": \"Sweden\", \"showlegend\": true, \"type\": \"scatter\", \"x\": [\"Karolinska Institute\", \"Uppsala University\", \"Lund University\", \"Ume\\u00e5 University\", \"Karolinska University Hospital\", \"University of Gothenburg\", \"Swedish University of Agricultural Sciences\", \"Sk\\u00e5ne University Hospital\"], \"xaxis\": \"x\", \"y\": [100, 58, 43, 27, 30, 15, 6, 11], \"yaxis\": \"y\"}, {\"customdata\": [[\"grid.17063.33\", \"University of Toronto\", \"Toronto\", \"Canada\", 317, 76], [\"grid.14709.3b\", \"McGill University\", \"Montreal\", \"Canada\", 174, 47], [\"grid.42327.30\", \"Hospital for Sick Children\", \"Toronto\", \"Canada\", 165, 23], [\"grid.17091.3e\", \"University of British Columbia\", \"Vancouver\", \"Canada\", 120, 29], [\"grid.419890.d\", \"Ontario Institute for Cancer Research\", \"Toronto\", \"Canada\", 115, 18], [\"grid.248762.d\", \"BC Cancer Agency\", \"Vancouver\", \"Canada\", 103, 14], [\"grid.415224.4\", \"Princess Margaret Cancer Centre\", \"Toronto\", \"Canada\", 92, 20], [\"grid.14848.31\", \"University of Montreal\", \"Montreal\", \"Canada\", 91, 23], [\"grid.63984.30\", \"McGill University Health Centre\", \"Montreal\", \"Canada\", 44, 18], [\"grid.23856.3a\", \"Universit\\u00e9 Laval\", \"Qu\\u00e9bec\", \"Canada\", 43, 20], [\"grid.231844.8\", \"University Health Network\", \"Toronto\", \"Canada\", 39, 17], [\"grid.25073.33\", \"McMaster University\", \"Hamilton\", \"Canada\", 29, 9], [\"grid.411640.6\", \"McGill University and G\\u00e9nome Qu\\u00e9bec Innovation Centre\", \"Montreal\", \"Canada\", 27, 13], [\"grid.17089.37\", \"University of Alberta\", \"Edmonton\", \"Canada\", 26, 10], [\"grid.416166.2\", \"Mount Sinai Hospital\", \"Toronto\", \"Canada\", 24, 11], [\"grid.250674.2\", \"Lunenfeld-Tanenbaum Research Institute\", \"Toronto\", \"Canada\", 21, 8], [\"grid.55602.34\", \"Dalhousie University\", \"Halifax\", \"Canada\", 19, 12], [\"grid.39381.30\", \"Western University\", \"London\", \"Canada\", 17, 6], [\"grid.25152.31\", \"University of Saskatchewan\", \"Saskatoon\", \"Canada\", 17, 4]], \"hovertemplate\": \"<b>%{hovertext}</b><br><br>aff_country=%{customdata[3]}<br>aff_name=%{customdata[1]}<br>tot_pubs=%{customdata[5]}<br>tot_affiliations=%{customdata[4]}<br>aff_id=%{customdata[0]}<br>aff_city=%{customdata[2]}<extra></extra>\", \"hovertext\": [\"University of Toronto\", \"McGill University\", \"Hospital for Sick Children\", \"University of British Columbia\", \"Ontario Institute for Cancer Research\", \"BC Cancer Agency\", \"Princess Margaret Cancer Centre\", \"University of Montreal\", \"McGill University Health Centre\", \"Universit\\u00e9 Laval\", \"University Health Network\", \"McMaster University\", \"McGill University and G\\u00e9nome Qu\\u00e9bec Innovation Centre\", \"University of Alberta\", \"Mount Sinai Hospital\", \"Lunenfeld-Tanenbaum Research Institute\", \"Dalhousie University\", \"Western University\", \"University of Saskatchewan\"], \"legendgroup\": \"Canada\", \"marker\": {\"color\": \"#19d3f3\", \"size\": [317, 174, 165, 120, 115, 103, 92, 91, 44, 43, 39, 29, 27, 26, 24, 21, 19, 17, 17], \"sizemode\": \"area\", \"sizeref\": 3.465, \"symbol\": \"circle\"}, \"mode\": \"markers\", \"name\": \"Canada\", \"showlegend\": true, \"type\": \"scatter\", \"x\": [\"University of Toronto\", \"McGill University\", \"Hospital for Sick Children\", \"University of British Columbia\", \"Ontario Institute for Cancer Research\", \"BC Cancer Agency\", \"Princess Margaret Cancer Centre\", \"University of Montreal\", \"McGill University Health Centre\", \"Universit\\u00e9 Laval\", \"University Health Network\", \"McMaster University\", \"McGill University and G\\u00e9nome Qu\\u00e9bec Innovation Centre\", \"University of Alberta\", \"Mount Sinai Hospital\", \"Lunenfeld-Tanenbaum Research Institute\", \"Dalhousie University\", \"Western University\", \"University of Saskatchewan\"], \"xaxis\": \"x\", \"y\": [76, 47, 23, 29, 18, 14, 20, 23, 18, 20, 17, 9, 13, 10, 11, 8, 12, 6, 4], \"yaxis\": \"y\"}, {\"customdata\": [[\"grid.1003.2\", \"University of Queensland\", \"Brisbane\", \"Australia\", 316, 78], [\"grid.1049.c\", \"QIMR Berghofer Medical Research Institute\", \"Brisbane\", \"Australia\", 232, 56], [\"grid.1008.9\", \"University of Melbourne\", \"Melbourne\", \"Australia\", 214, 68], [\"grid.1013.3\", \"University of Sydney\", \"Sydney\", \"Australia\", 95, 35], [\"grid.1012.2\", \"University of Western Australia\", \"Perth\", \"Australia\", 83, 37], [\"grid.266842.c\", \"University of Newcastle Australia\", \"Newcastle\", \"Australia\", 54, 20], [\"grid.1005.4\", \"UNSW Sydney\", \"Sydney\", \"Australia\", 51, 16], [\"grid.1009.8\", \"University of Tasmania\", \"Hobart\", \"Australia\", 36, 22], [\"grid.452283.a\", \"AgriBio\", \"Melbourne\", \"Australia\", 35, 5], [\"grid.3263.4\", \"Cancer Council Victoria\", \"Melbourne\", \"Australia\", 34, 13], [\"grid.1055.1\", \"Peter MacCallum Cancer Centre\", \"Melbourne\", \"Australia\", 32, 9], [\"grid.1002.3\", \"Monash University\", \"Melbourne\", \"Australia\", 29, 12], [\"grid.1058.c\", \"Murdoch Children's Research Institute\", \"Melbourne\", \"Australia\", 28, 12], [\"grid.415306.5\", \"Garvan Institute of Medical Research\", \"Darlinghurst\", \"Australia\", 25, 11], [\"grid.416153.4\", \"Royal Melbourne Hospital\", \"Melbourne\", \"Australia\", 24, 5], [\"grid.1024.7\", \"Queensland University of Technology\", \"Brisbane\", \"Australia\", 22, 14], [\"grid.1014.4\", \"Flinders University\", \"Adelaide\", \"Australia\", 22, 11], [\"grid.1042.7\", \"Walter and Eliza Hall Institute of Medical Research\", \"Melbourne\", \"Australia\", 21, 8], [\"grid.414925.f\", \"Flinders Medical Centre\", \"Bedford Park\", \"Australia\", 20, 2], [\"grid.1010.0\", \"University of Adelaide\", \"Adelaide\", \"Australia\", 19, 14]], \"hovertemplate\": \"<b>%{hovertext}</b><br><br>aff_country=%{customdata[3]}<br>aff_name=%{customdata[1]}<br>tot_pubs=%{customdata[5]}<br>tot_affiliations=%{customdata[4]}<br>aff_id=%{customdata[0]}<br>aff_city=%{customdata[2]}<extra></extra>\", \"hovertext\": [\"University of Queensland\", \"QIMR Berghofer Medical Research Institute\", \"University of Melbourne\", \"University of Sydney\", \"University of Western Australia\", \"University of Newcastle Australia\", \"UNSW Sydney\", \"University of Tasmania\", \"AgriBio\", \"Cancer Council Victoria\", \"Peter MacCallum Cancer Centre\", \"Monash University\", \"Murdoch Children's Research Institute\", \"Garvan Institute of Medical Research\", \"Royal Melbourne Hospital\", \"Queensland University of Technology\", \"Flinders University\", \"Walter and Eliza Hall Institute of Medical Research\", \"Flinders Medical Centre\", \"University of Adelaide\"], \"legendgroup\": \"Australia\", \"marker\": {\"color\": \"#FF6692\", \"size\": [316, 232, 214, 95, 83, 54, 51, 36, 35, 34, 32, 29, 28, 25, 24, 22, 22, 21, 20, 19], \"sizemode\": \"area\", \"sizeref\": 3.465, \"symbol\": \"circle\"}, \"mode\": \"markers\", \"name\": \"Australia\", \"showlegend\": true, \"type\": \"scatter\", \"x\": [\"University of Queensland\", \"QIMR Berghofer Medical Research Institute\", \"University of Melbourne\", \"University of Sydney\", \"University of Western Australia\", \"University of Newcastle Australia\", \"UNSW Sydney\", \"University of Tasmania\", \"AgriBio\", \"Cancer Council Victoria\", \"Peter MacCallum Cancer Centre\", \"Monash University\", \"Murdoch Children's Research Institute\", \"Garvan Institute of Medical Research\", \"Royal Melbourne Hospital\", \"Queensland University of Technology\", \"Flinders University\", \"Walter and Eliza Hall Institute of Medical Research\", \"Flinders Medical Centre\", \"University of Adelaide\"], \"xaxis\": \"x\", \"y\": [78, 56, 68, 35, 37, 20, 16, 22, 5, 13, 9, 12, 12, 11, 5, 14, 11, 8, 2, 14], \"yaxis\": \"y\"}, {\"customdata\": [[\"grid.7497.d\", \"German Cancer Research Center\", \"Heidelberg\", \"Germany\", 300, 42], [\"grid.9647.c\", \"Leipzig University\", \"Leipzig\", \"Germany\", 168, 28], [\"grid.6363.0\", \"Charit\\u00e9\", \"Berlin\", \"Germany\", 160, 51], [\"grid.5603.0\", \"University of Greifswald\", \"Greifswald\", \"Germany\", 133, 34], [\"grid.452396.f\", \"German Centre for Cardiovascular Research\", \"Berlin\", \"Germany\", 126, 31], [\"grid.10388.32\", \"University of Bonn\", \"Bonn\", \"Germany\", 125, 32], [\"grid.5252.0\", \"Ludwig Maximilian University of Munich\", \"Munich\", \"Germany\", 118, 54], [\"grid.9764.c\", \"Kiel University\", \"Kiel\", \"Germany\", 99, 27], [\"grid.7700.0\", \"Heidelberg University\", \"Heidelberg\", \"Germany\", 89, 44], [\"grid.4567.0\", \"Helmholtz Zentrum M\\u00fcnchen\", \"Munich\", \"Germany\", 79, 30], [\"grid.6190.e\", \"University of Cologne\", \"Cologne\", \"Germany\", 78, 31], [\"grid.10423.34\", \"Hannover Medical School\", \"Hanover\", \"Germany\", 74, 20], [\"grid.6936.a\", \"Technical University of Munich\", \"Munich\", \"Germany\", 68, 42], [\"grid.419538.2\", \"Max Planck Institute for Molecular Genetics\", \"Berlin\", \"Germany\", 68, 13], [\"grid.418934.3\", \"Institute of Plant Genetics and Crop Plant Research\", \"Gatersleben\", \"Germany\", 64, 9], [\"grid.452622.5\", \"German Center for Diabetes Research\", \"Munich\", \"Germany\", 62, 23], [\"grid.419491.0\", \"Max Delbr\\u00fcck Center for Molecular Medicine\", \"Berlin\", \"Germany\", 60, 14], [\"grid.4709.a\", \"European Molecular Biology Laboratory\", \"Heidelberg\", \"Germany\", 50, 13], [\"grid.411097.a\", \"University Hospital Cologne\", \"Cologne\", \"Germany\", 49, 16], [\"grid.13648.38\", \"University Medical Center Hamburg-Eppendorf\", \"Hamburg\", \"Germany\", 41, 21], [\"grid.412468.d\", \"University Hospital Schleswig-Holstein\", \"Kiel\", \"Germany\", 39, 14], [\"grid.7727.5\", \"University of Regensburg\", \"Regensburg\", \"Germany\", 38, 16], [\"grid.484013.a\", \"Berlin Institute of Health\", \"Berlin\", \"Germany\", 33, 10], [\"grid.6582.9\", \"University of Ulm\", \"Ulm\", \"Germany\", 32, 14], [\"grid.411941.8\", \"University Hospital Regensburg\", \"Regensburg\", \"Germany\", 31, 14], [\"grid.424247.3\", \"German Center for Neurodegenerative Diseases\", \"Bonn\", \"Germany\", 30, 17], [\"grid.10392.39\", \"University of T\\u00fcbingen\", \"T\\u00fcbingen\", \"Germany\", 30, 17], [\"grid.5253.1\", \"University Hospital Heidelberg\", \"Heidelberg\", \"Germany\", 30, 16], [\"grid.5330.5\", \"University of Erlangen-Nuremberg\", \"Erlangen\", \"Germany\", 29, 20], [\"grid.5949.1\", \"University of M\\u00fcnster\", \"M\\u00fcnster\", \"Germany\", 26, 14], [\"grid.419548.5\", \"Max Planck Institute of Psychiatry\", \"Munich\", \"Germany\", 26, 11], [\"grid.8379.5\", \"University of W\\u00fcrzburg\", \"Wurzburg\", \"Germany\", 25, 12], [\"grid.5963.9\", \"University of Freiburg\", \"Freiburg\", \"Germany\", 24, 8], [\"grid.9018.0\", \"Martin Luther University Halle-Wittenberg\", \"Halle\", \"Germany\", 23, 10], [\"grid.411327.2\", \"Heinrich Heine University D\\u00fcsseldorf\", \"D\\u00fcsseldorf\", \"Germany\", 23, 6], [\"grid.410718.b\", \"Essen University Hospital\", \"Essen\", \"Germany\", 22, 10], [\"grid.418213.d\", \"German Institute of Human Nutrition\", \"Potsdam\", \"Germany\", 22, 9], [\"grid.413757.3\", \"Central Institute of Mental Health\", \"Mannheim\", \"Germany\", 21, 5], [\"grid.428620.a\", \"Hertie Institute for Clinical Brain Research\", \"T\\u00fcbingen\", \"Germany\", 18, 6], [\"grid.429509.3\", \"Max Planck Institute of Immunobiology and Epigenetics\", \"Freiburg\", \"Germany\", 18, 6], [\"grid.419498.9\", \"Max Planck Institute for Plant Breeding Research\", \"Cologne\", \"Germany\", 17, 4]], \"hovertemplate\": \"<b>%{hovertext}</b><br><br>aff_country=%{customdata[3]}<br>aff_name=%{customdata[1]}<br>tot_pubs=%{customdata[5]}<br>tot_affiliations=%{customdata[4]}<br>aff_id=%{customdata[0]}<br>aff_city=%{customdata[2]}<extra></extra>\", \"hovertext\": [\"German Cancer Research Center\", \"Leipzig University\", \"Charit\\u00e9\", \"University of Greifswald\", \"German Centre for Cardiovascular Research\", \"University of Bonn\", \"Ludwig Maximilian University of Munich\", \"Kiel University\", \"Heidelberg University\", \"Helmholtz Zentrum M\\u00fcnchen\", \"University of Cologne\", \"Hannover Medical School\", \"Technical University of Munich\", \"Max Planck Institute for Molecular Genetics\", \"Institute of Plant Genetics and Crop Plant Research\", \"German Center for Diabetes Research\", \"Max Delbr\\u00fcck Center for Molecular Medicine\", \"European Molecular Biology Laboratory\", \"University Hospital Cologne\", \"University Medical Center Hamburg-Eppendorf\", \"University Hospital Schleswig-Holstein\", \"University of Regensburg\", \"Berlin Institute of Health\", \"University of Ulm\", \"University Hospital Regensburg\", \"German Center for Neurodegenerative Diseases\", \"University of T\\u00fcbingen\", \"University Hospital Heidelberg\", \"University of Erlangen-Nuremberg\", \"University of M\\u00fcnster\", \"Max Planck Institute of Psychiatry\", \"University of W\\u00fcrzburg\", \"University of Freiburg\", \"Martin Luther University Halle-Wittenberg\", \"Heinrich Heine University D\\u00fcsseldorf\", \"Essen University Hospital\", \"German Institute of Human Nutrition\", \"Central Institute of Mental Health\", \"Hertie Institute for Clinical Brain Research\", \"Max Planck Institute of Immunobiology and Epigenetics\", \"Max Planck Institute for Plant Breeding Research\"], \"legendgroup\": \"Germany\", \"marker\": {\"color\": \"#B6E880\", \"size\": [300, 168, 160, 133, 126, 125, 118, 99, 89, 79, 78, 74, 68, 68, 64, 62, 60, 50, 49, 41, 39, 38, 33, 32, 31, 30, 30, 30, 29, 26, 26, 25, 24, 23, 23, 22, 22, 21, 18, 18, 17], \"sizemode\": \"area\", \"sizeref\": 3.465, \"symbol\": \"circle\"}, \"mode\": \"markers\", \"name\": \"Germany\", \"showlegend\": true, \"type\": \"scatter\", \"x\": [\"German Cancer Research Center\", \"Leipzig University\", \"Charit\\u00e9\", \"University of Greifswald\", \"German Centre for Cardiovascular Research\", \"University of Bonn\", \"Ludwig Maximilian University of Munich\", \"Kiel University\", \"Heidelberg University\", \"Helmholtz Zentrum M\\u00fcnchen\", \"University of Cologne\", \"Hannover Medical School\", \"Technical University of Munich\", \"Max Planck Institute for Molecular Genetics\", \"Institute of Plant Genetics and Crop Plant Research\", \"German Center for Diabetes Research\", \"Max Delbr\\u00fcck Center for Molecular Medicine\", \"European Molecular Biology Laboratory\", \"University Hospital Cologne\", \"University Medical Center Hamburg-Eppendorf\", \"University Hospital Schleswig-Holstein\", \"University of Regensburg\", \"Berlin Institute of Health\", \"University of Ulm\", \"University Hospital Regensburg\", \"German Center for Neurodegenerative Diseases\", \"University of T\\u00fcbingen\", \"University Hospital Heidelberg\", \"University of Erlangen-Nuremberg\", \"University of M\\u00fcnster\", \"Max Planck Institute of Psychiatry\", \"University of W\\u00fcrzburg\", \"University of Freiburg\", \"Martin Luther University Halle-Wittenberg\", \"Heinrich Heine University D\\u00fcsseldorf\", \"Essen University Hospital\", \"German Institute of Human Nutrition\", \"Central Institute of Mental Health\", \"Hertie Institute for Clinical Brain Research\", \"Max Planck Institute of Immunobiology and Epigenetics\", \"Max Planck Institute for Plant Breeding Research\"], \"xaxis\": \"x\", \"y\": [42, 28, 51, 34, 31, 32, 54, 27, 44, 30, 31, 20, 42, 13, 9, 23, 14, 13, 16, 21, 14, 16, 10, 14, 14, 17, 17, 16, 20, 14, 11, 12, 8, 10, 6, 10, 9, 5, 6, 6, 4], \"yaxis\": \"y\"}, {\"customdata\": [[\"grid.14013.37\", \"University of Iceland\", \"Reykjavik\", \"Iceland\", 295, 81], [\"grid.410540.4\", \"National University Hospital of Iceland\", \"Reykjavik\", \"Iceland\", 97, 35], [\"grid.420802.c\", \"Icelandic Heart Association\", \"Kopavogur\", \"Iceland\", 63, 27], [\"grid.421812.c\", \"deCODE Genetics (Iceland)\", \"Reykjavik\", \"Iceland\", 60, 14]], \"hovertemplate\": \"<b>%{hovertext}</b><br><br>aff_country=%{customdata[3]}<br>aff_name=%{customdata[1]}<br>tot_pubs=%{customdata[5]}<br>tot_affiliations=%{customdata[4]}<br>aff_id=%{customdata[0]}<br>aff_city=%{customdata[2]}<extra></extra>\", \"hovertext\": [\"University of Iceland\", \"National University Hospital of Iceland\", \"Icelandic Heart Association\", \"deCODE Genetics (Iceland)\"], \"legendgroup\": \"Iceland\", \"marker\": {\"color\": \"#FF97FF\", \"size\": [295, 97, 63, 60], \"sizemode\": \"area\", \"sizeref\": 3.465, \"symbol\": \"circle\"}, \"mode\": \"markers\", \"name\": \"Iceland\", \"showlegend\": true, \"type\": \"scatter\", \"x\": [\"University of Iceland\", \"National University Hospital of Iceland\", \"Icelandic Heart Association\", \"deCODE Genetics (Iceland)\"], \"xaxis\": \"x\", \"y\": [81, 35, 27, 14], \"yaxis\": \"y\"}, {\"customdata\": [[\"grid.5254.6\", \"University of Copenhagen\", \"Copenhagen\", \"Denmark\", 273, 75], [\"grid.7048.b\", \"Aarhus University\", \"Aarhus\", \"Denmark\", 210, 39], [\"grid.452548.a\", \"Lundbeck Foundation\", \"Copenhagen\", \"Denmark\", 140, 17], [\"grid.10825.3e\", \"University of Southern Denmark\", \"Odense\", \"Denmark\", 68, 24], [\"grid.6203.7\", \"Statens Serum Institut\", \"Copenhagen\", \"Denmark\", 57, 23], [\"grid.5170.3\", \"Technical University of Denmark\", \"Kongens Lyngby\", \"Denmark\", 34, 10], [\"grid.475435.4\", \"Rigshospitalet\", \"Copenhagen\", \"Denmark\", 28, 18], [\"grid.419658.7\", \"Steno Diabetes Center\", \"Charlottenlund\", \"Denmark\", 23, 17], [\"grid.459623.f\", \"Sygehus Lilleb\\u00e6lt\", \"Fredericia\", \"Denmark\", 19, 7], [\"grid.154185.c\", \"Aarhus University Hospital\", \"Aarhus\", \"Denmark\", 18, 14], [\"grid.7143.1\", \"Odense University Hospital\", \"Odense\", \"Denmark\", 16, 11]], \"hovertemplate\": \"<b>%{hovertext}</b><br><br>aff_country=%{customdata[3]}<br>aff_name=%{customdata[1]}<br>tot_pubs=%{customdata[5]}<br>tot_affiliations=%{customdata[4]}<br>aff_id=%{customdata[0]}<br>aff_city=%{customdata[2]}<extra></extra>\", \"hovertext\": [\"University of Copenhagen\", \"Aarhus University\", \"Lundbeck Foundation\", \"University of Southern Denmark\", \"Statens Serum Institut\", \"Technical University of Denmark\", \"Rigshospitalet\", \"Steno Diabetes Center\", \"Sygehus Lilleb\\u00e6lt\", \"Aarhus University Hospital\", \"Odense University Hospital\"], \"legendgroup\": \"Denmark\", \"marker\": {\"color\": \"#FECB52\", \"size\": [273, 210, 140, 68, 57, 34, 28, 23, 19, 18, 16], \"sizemode\": \"area\", \"sizeref\": 3.465, \"symbol\": \"circle\"}, \"mode\": \"markers\", \"name\": \"Denmark\", \"showlegend\": true, \"type\": \"scatter\", \"x\": [\"University of Copenhagen\", \"Aarhus University\", \"Lundbeck Foundation\", \"University of Southern Denmark\", \"Statens Serum Institut\", \"Technical University of Denmark\", \"Rigshospitalet\", \"Steno Diabetes Center\", \"Sygehus Lilleb\\u00e6lt\", \"Aarhus University Hospital\", \"Odense University Hospital\"], \"xaxis\": \"x\", \"y\": [75, 39, 17, 24, 23, 10, 18, 17, 7, 14, 11], \"yaxis\": \"y\"}, {\"customdata\": [[\"grid.256111.0\", \"Fujian Agriculture and Forestry University\", \"Fuzhou\", \"China\", 237, 10], [\"grid.419092.7\", \"Shanghai Institutes for Biological Sciences\", \"Shanghai\", \"China\", 156, 21], [\"grid.21155.32\", \"Beijing Genomics Institute\", \"Shenzhen\", \"China\", 152, 15], [\"grid.35155.37\", \"Huazhong Agricultural University\", \"Wuhan\", \"China\", 133, 17], [\"grid.507003.1\", \"National Center for Gene Research\", \"Shanghai\", \"China\", 96, 8], [\"grid.418558.5\", \"Institute of Genetics and Developmental Biology\", \"Beijing\", \"China\", 88, 15], [\"grid.16821.3c\", \"Shanghai Jiao Tong University\", \"Shanghai\", \"China\", 76, 17], [\"grid.11135.37\", \"Peking University\", \"Beijing\", \"China\", 76, 12], [\"grid.27871.3b\", \"Nanjing Agricultural University\", \"Nanjing\", \"China\", 73, 10], [\"grid.12527.33\", \"Tsinghua University\", \"Beijing\", \"China\", 71, 11], [\"grid.186775.a\", \"Anhui Medical University\", \"Hefei\", \"China\", 61, 3], [\"grid.464357.7\", \"Institute of Vegetables and Flowers\", \"Beijing\", \"China\", 50, 10], [\"grid.194645.b\", \"University of Hong Kong\", \"Hong Kong\", \"China\", 49, 19], [\"grid.506261.6\", \"Chinese Academy of Medical Sciences & Peking Union Medical College\", \"Beijing\", \"China\", 44, 15], [\"grid.410726.6\", \"University of Chinese Academy of Sciences\", \"Beijing\", \"China\", 42, 10], [\"grid.24696.3f\", \"Capital Medical University\", \"Beijing\", \"China\", 40, 9], [\"grid.13402.34\", \"Zhejiang University\", \"Hangzhou\", \"China\", 35, 9], [\"grid.10784.3a\", \"Chinese University of Hong Kong\", \"Shatin\", \"China\", 31, 9], [\"grid.464267.5\", \"Cotton Research Institute\", \"Beijing\", \"China\", 31, 2], [\"grid.33199.31\", \"Huazhong University of Science and Technology\", \"Wuhan\", \"China\", 30, 6], [\"grid.410751.6\", \"Biomarker Technologies Corporation (China)\", \"Beijing\", \"China\", 29, 6], [\"grid.9227.e\", \"Chinese Academy of Sciences\", \"Beijing\", \"China\", 28, 13], [\"grid.22935.3f\", \"China Agricultural University\", \"Beijing\", \"China\", 28, 5], [\"grid.49470.3e\", \"Wuhan University\", \"Wuhan\", \"China\", 28, 4], [\"grid.12981.33\", \"Sun Yat-sen University\", \"Guangzhou\", \"China\", 24, 8], [\"grid.464499.2\", \"Zhengzhou Fruit Research Institute\", \"Zhengzhou\", \"China\", 24, 2], [\"grid.89957.3a\", \"Nanjing Medical University\", \"Nanjing\", \"China\", 22, 9], [\"grid.488316.0\", \"Agricultural Genomics Institute at Shenzhen\", \"Shenzhen\", \"China\", 22, 8], [\"grid.411863.9\", \"Guangzhou University\", \"Guangzhou\", \"China\", 22, 3], [\"grid.410587.f\", \"Shandong Academy of Medical Science\", \"Jinan\", \"China\", 22, 2], [\"grid.412277.5\", \"Ruijin Hospital\", \"Shanghai\", \"China\", 22, 1], [\"grid.458493.7\", \"Northeast Institute of Geography and Agroecology\", \"Changchun\", \"China\", 21, 3], [\"grid.464345.4\", \"Institute of Crop Sciences\", \"Beijing\", \"China\", 20, 4], [\"grid.419897.a\", \"Ministry of Education of the People's Republic of China\", \"Beijing\", \"China\", 20, 4], [\"grid.484590.4\", \"Qingdao National Laboratory for Marine Science and Technology\", \"Qingdao\", \"China\", 18, 2], [\"grid.418527.d\", \"China National Rice Research Institute\", \"Hangzhou\", \"China\", 17, 5], [\"grid.440773.3\", \"Yunnan University\", \"Kunming\", \"China\", 17, 3], [\"grid.429211.d\", \"Institute of Hydrobiology\", \"Wuhan\", \"China\", 17, 1]], \"hovertemplate\": \"<b>%{hovertext}</b><br><br>aff_country=%{customdata[3]}<br>aff_name=%{customdata[1]}<br>tot_pubs=%{customdata[5]}<br>tot_affiliations=%{customdata[4]}<br>aff_id=%{customdata[0]}<br>aff_city=%{customdata[2]}<extra></extra>\", \"hovertext\": [\"Fujian Agriculture and Forestry University\", \"Shanghai Institutes for Biological Sciences\", \"Beijing Genomics Institute\", \"Huazhong Agricultural University\", \"National Center for Gene Research\", \"Institute of Genetics and Developmental Biology\", \"Shanghai Jiao Tong University\", \"Peking University\", \"Nanjing Agricultural University\", \"Tsinghua University\", \"Anhui Medical University\", \"Institute of Vegetables and Flowers\", \"University of Hong Kong\", \"Chinese Academy of Medical Sciences & Peking Union Medical College\", \"University of Chinese Academy of Sciences\", \"Capital Medical University\", \"Zhejiang University\", \"Chinese University of Hong Kong\", \"Cotton Research Institute\", \"Huazhong University of Science and Technology\", \"Biomarker Technologies Corporation (China)\", \"Chinese Academy of Sciences\", \"China Agricultural University\", \"Wuhan University\", \"Sun Yat-sen University\", \"Zhengzhou Fruit Research Institute\", \"Nanjing Medical University\", \"Agricultural Genomics Institute at Shenzhen\", \"Guangzhou University\", \"Shandong Academy of Medical Science\", \"Ruijin Hospital\", \"Northeast Institute of Geography and Agroecology\", \"Institute of Crop Sciences\", \"Ministry of Education of the People's Republic of China\", \"Qingdao National Laboratory for Marine Science and Technology\", \"China National Rice Research Institute\", \"Yunnan University\", \"Institute of Hydrobiology\"], \"legendgroup\": \"China\", \"marker\": {\"color\": \"#636efa\", \"size\": [237, 156, 152, 133, 96, 88, 76, 76, 73, 71, 61, 50, 49, 44, 42, 40, 35, 31, 31, 30, 29, 28, 28, 28, 24, 24, 22, 22, 22, 22, 22, 21, 20, 20, 18, 17, 17, 17], \"sizemode\": \"area\", \"sizeref\": 3.465, \"symbol\": \"circle\"}, \"mode\": \"markers\", \"name\": \"China\", \"showlegend\": true, \"type\": \"scatter\", \"x\": [\"Fujian Agriculture and Forestry University\", \"Shanghai Institutes for Biological Sciences\", \"Beijing Genomics Institute\", \"Huazhong Agricultural University\", \"National Center for Gene Research\", \"Institute of Genetics and Developmental Biology\", \"Shanghai Jiao Tong University\", \"Peking University\", \"Nanjing Agricultural University\", \"Tsinghua University\", \"Anhui Medical University\", \"Institute of Vegetables and Flowers\", \"University of Hong Kong\", \"Chinese Academy of Medical Sciences & Peking Union Medical College\", \"University of Chinese Academy of Sciences\", \"Capital Medical University\", \"Zhejiang University\", \"Chinese University of Hong Kong\", \"Cotton Research Institute\", \"Huazhong University of Science and Technology\", \"Biomarker Technologies Corporation (China)\", \"Chinese Academy of Sciences\", \"China Agricultural University\", \"Wuhan University\", \"Sun Yat-sen University\", \"Zhengzhou Fruit Research Institute\", \"Nanjing Medical University\", \"Agricultural Genomics Institute at Shenzhen\", \"Guangzhou University\", \"Shandong Academy of Medical Science\", \"Ruijin Hospital\", \"Northeast Institute of Geography and Agroecology\", \"Institute of Crop Sciences\", \"Ministry of Education of the People's Republic of China\", \"Qingdao National Laboratory for Marine Science and Technology\", \"China National Rice Research Institute\", \"Yunnan University\", \"Institute of Hydrobiology\"], \"xaxis\": \"x\", \"y\": [10, 21, 15, 17, 8, 15, 17, 12, 10, 11, 3, 10, 19, 15, 10, 9, 9, 9, 2, 6, 6, 13, 5, 4, 8, 2, 9, 8, 3, 2, 1, 3, 4, 4, 2, 5, 3, 1], \"yaxis\": \"y\"}, {\"customdata\": [[\"grid.4280.e\", \"National University of Singapore\", \"Singapore\", \"Singapore\", 227, 64], [\"grid.418377.e\", \"Genome Institute of Singapore\", \"Singapore\", \"Singapore\", 133, 27], [\"grid.428397.3\", \"Duke NUS Graduate Medical School\", \"Singapore\", \"Singapore\", 113, 22], [\"grid.419272.b\", \"Singapore National Eye Center\", \"Singapore\", \"Singapore\", 68, 14], [\"grid.410759.e\", \"National University Health System\", \"Singapore\", \"Singapore\", 51, 13], [\"grid.418812.6\", \"Institute of Molecular and Cell Biology\", \"Singapore\", \"Singapore\", 46, 11], [\"grid.410724.4\", \"National Cancer Centre Singapore\", \"Singapore\", \"Singapore\", 45, 10], [\"grid.272555.2\", \"Singapore Eye Research Institute\", \"Singapore\", \"Singapore\", 30, 5], [\"grid.163555.1\", \"Singapore General Hospital\", \"Singapore\", \"Singapore\", 25, 5], [\"grid.59025.3b\", \"Nanyang Technological University\", \"Singapore\", \"Singapore\", 19, 15]], \"hovertemplate\": \"<b>%{hovertext}</b><br><br>aff_country=%{customdata[3]}<br>aff_name=%{customdata[1]}<br>tot_pubs=%{customdata[5]}<br>tot_affiliations=%{customdata[4]}<br>aff_id=%{customdata[0]}<br>aff_city=%{customdata[2]}<extra></extra>\", \"hovertext\": [\"National University of Singapore\", \"Genome Institute of Singapore\", \"Duke NUS Graduate Medical School\", \"Singapore National Eye Center\", \"National University Health System\", \"Institute of Molecular and Cell Biology\", \"National Cancer Centre Singapore\", \"Singapore Eye Research Institute\", \"Singapore General Hospital\", \"Nanyang Technological University\"], \"legendgroup\": \"Singapore\", \"marker\": {\"color\": \"#EF553B\", \"size\": [227, 133, 113, 68, 51, 46, 45, 30, 25, 19], \"sizemode\": \"area\", \"sizeref\": 3.465, \"symbol\": \"circle\"}, \"mode\": \"markers\", \"name\": \"Singapore\", \"showlegend\": true, \"type\": \"scatter\", \"x\": [\"National University of Singapore\", \"Genome Institute of Singapore\", \"Duke NUS Graduate Medical School\", \"Singapore National Eye Center\", \"National University Health System\", \"Institute of Molecular and Cell Biology\", \"National Cancer Centre Singapore\", \"Singapore Eye Research Institute\", \"Singapore General Hospital\", \"Nanyang Technological University\"], \"xaxis\": \"x\", \"y\": [64, 27, 22, 14, 13, 11, 10, 5, 5, 15], \"yaxis\": \"y\"}, {\"customdata\": [[\"grid.10939.32\", \"University of Tartu\", \"Tartu\", \"Estonia\", 197, 57]], \"hovertemplate\": \"<b>%{hovertext}</b><br><br>aff_country=%{customdata[3]}<br>aff_name=%{customdata[1]}<br>tot_pubs=%{customdata[5]}<br>tot_affiliations=%{customdata[4]}<br>aff_id=%{customdata[0]}<br>aff_city=%{customdata[2]}<extra></extra>\", \"hovertext\": [\"University of Tartu\"], \"legendgroup\": \"Estonia\", \"marker\": {\"color\": \"#00cc96\", \"size\": [197], \"sizemode\": \"area\", \"sizeref\": 3.465, \"symbol\": \"circle\"}, \"mode\": \"markers\", \"name\": \"Estonia\", \"showlegend\": true, \"type\": \"scatter\", \"x\": [\"University of Tartu\"], \"xaxis\": \"x\", \"y\": [57], \"yaxis\": \"y\"}, {\"customdata\": [[\"grid.26999.3d\", \"University of Tokyo\", \"Tokyo\", \"Japan\", 152, 36], [\"grid.258799.8\", \"Kyoto University\", \"Kyoto\", \"Japan\", 97, 24], [\"grid.7597.c\", \"RIKEN\", \"Wako\", \"Japan\", 93, 30], [\"grid.136593.b\", \"Osaka University\", \"Osaka\", \"Japan\", 65, 21], [\"grid.412708.8\", \"University of Tokyo Hospital\", \"Tokyo\", \"Japan\", 48, 2], [\"grid.272242.3\", \"National Cancer Centre\", \"Tokyo\", \"Japan\", 45, 8], [\"grid.27476.30\", \"Nagoya University\", \"Nagoya\", \"Japan\", 42, 13], [\"grid.177174.3\", \"Kyushu University\", \"Fukuoka\", \"Japan\", 28, 16], [\"grid.268441.d\", \"Yokohama City University\", \"Yokohama\", \"Japan\", 24, 6], [\"grid.272458.e\", \"Kyoto Prefectural University of Medicine\", \"Kyoto\", \"Japan\", 22, 5], [\"grid.410849.0\", \"University of Miyazaki\", \"Miyazaki\", \"Japan\", 18, 6], [\"grid.265073.5\", \"Tokyo Medical and Dental University\", \"Tokyo\", \"Japan\", 17, 12]], \"hovertemplate\": \"<b>%{hovertext}</b><br><br>aff_country=%{customdata[3]}<br>aff_name=%{customdata[1]}<br>tot_pubs=%{customdata[5]}<br>tot_affiliations=%{customdata[4]}<br>aff_id=%{customdata[0]}<br>aff_city=%{customdata[2]}<extra></extra>\", \"hovertext\": [\"University of Tokyo\", \"Kyoto University\", \"RIKEN\", \"Osaka University\", \"University of Tokyo Hospital\", \"National Cancer Centre\", \"Nagoya University\", \"Kyushu University\", \"Yokohama City University\", \"Kyoto Prefectural University of Medicine\", \"University of Miyazaki\", \"Tokyo Medical and Dental University\"], \"legendgroup\": \"Japan\", \"marker\": {\"color\": \"#ab63fa\", \"size\": [152, 97, 93, 65, 48, 45, 42, 28, 24, 22, 18, 17], \"sizemode\": \"area\", \"sizeref\": 3.465, \"symbol\": \"circle\"}, \"mode\": \"markers\", \"name\": \"Japan\", \"showlegend\": true, \"type\": \"scatter\", \"x\": [\"University of Tokyo\", \"Kyoto University\", \"RIKEN\", \"Osaka University\", \"University of Tokyo Hospital\", \"National Cancer Centre\", \"Nagoya University\", \"Kyushu University\", \"Yokohama City University\", \"Kyoto Prefectural University of Medicine\", \"University of Miyazaki\", \"Tokyo Medical and Dental University\"], \"xaxis\": \"x\", \"y\": [36, 24, 30, 21, 2, 8, 13, 16, 6, 5, 6, 12], \"yaxis\": \"y\"}, {\"customdata\": [[\"grid.55325.34\", \"Oslo University Hospital\", \"Oslo\", \"Norway\", 145, 46], [\"grid.7914.b\", \"University of Bergen\", \"Bergen\", \"Norway\", 101, 36], [\"grid.5947.f\", \"Norwegian University of Science and Technology\", \"Trondheim\", \"Norway\", 79, 24], [\"grid.412008.f\", \"Haukeland University Hospital\", \"Bergen\", \"Norway\", 70, 23], [\"grid.5510.1\", \"University of Oslo\", \"Oslo\", \"Norway\", 64, 27], [\"grid.52522.32\", \"St Olav's University Hospital\", \"Trondheim\", \"Norway\", 21, 12]], \"hovertemplate\": \"<b>%{hovertext}</b><br><br>aff_country=%{customdata[3]}<br>aff_name=%{customdata[1]}<br>tot_pubs=%{customdata[5]}<br>tot_affiliations=%{customdata[4]}<br>aff_id=%{customdata[0]}<br>aff_city=%{customdata[2]}<extra></extra>\", \"hovertext\": [\"Oslo University Hospital\", \"University of Bergen\", \"Norwegian University of Science and Technology\", \"Haukeland University Hospital\", \"University of Oslo\", \"St Olav's University Hospital\"], \"legendgroup\": \"Norway\", \"marker\": {\"color\": \"#FFA15A\", \"size\": [145, 101, 79, 70, 64, 21], \"sizemode\": \"area\", \"sizeref\": 3.465, \"symbol\": \"circle\"}, \"mode\": \"markers\", \"name\": \"Norway\", \"showlegend\": true, \"type\": \"scatter\", \"x\": [\"Oslo University Hospital\", \"University of Bergen\", \"Norwegian University of Science and Technology\", \"Haukeland University Hospital\", \"University of Oslo\", \"St Olav's University Hospital\"], \"xaxis\": \"x\", \"y\": [46, 36, 24, 23, 27, 12], \"yaxis\": \"y\"}, {\"customdata\": [[\"grid.428485.7\", \"Institute of Genetic and Biomedical Research\", \"Monserrato\", \"Italy\", 98, 16], [\"grid.418712.9\", \"IRCCS Materno Infantile Burlo Garofolo\", \"Trieste\", \"Italy\", 82, 20], [\"grid.5133.4\", \"University of Trieste\", \"Trieste\", \"Italy\", 74, 20], [\"grid.4708.b\", \"University of Milan\", \"Milan\", \"Italy\", 43, 18], [\"grid.7605.4\", \"University of Turin\", \"Turin\", \"Italy\", 41, 13], [\"grid.417893.0\", \"Istituto Nazionale dei Tumori\", \"Milan\", \"Italy\", 32, 13], [\"grid.5326.2\", \"National Research Council\", \"Rome\", \"Italy\", 31, 9], [\"grid.18887.3e\", \"San Raffaele Hospital\", \"Milan\", \"Italy\", 30, 13], [\"grid.11450.31\", \"University of Sassari\", \"Sassari\", \"Italy\", 30, 13], [\"grid.5608.b\", \"University of Padua\", \"Padova\", \"Italy\", 27, 11], [\"grid.8404.8\", \"University of Florence\", \"Florence\", \"Italy\", 26, 14], [\"grid.4691.a\", \"University of Naples Federico II\", \"Naples\", \"Italy\", 23, 9], [\"grid.15667.33\", \"European Institute of Oncology\", \"Milan\", \"Italy\", 23, 9], [\"grid.417894.7\", \"Istituto Neurologico Carlo Besta\", \"Milan\", \"Italy\", 22, 12], [\"grid.417778.a\", \"Fondazione Santa Lucia\", \"Rome\", \"Italy\", 20, 3], [\"grid.9027.c\", \"University of Perugia\", \"Perugia\", \"Italy\", 18, 8], [\"grid.5611.3\", \"University of Verona\", \"Verona\", \"Italy\", 16, 9]], \"hovertemplate\": \"<b>%{hovertext}</b><br><br>aff_country=%{customdata[3]}<br>aff_name=%{customdata[1]}<br>tot_pubs=%{customdata[5]}<br>tot_affiliations=%{customdata[4]}<br>aff_id=%{customdata[0]}<br>aff_city=%{customdata[2]}<extra></extra>\", \"hovertext\": [\"Institute of Genetic and Biomedical Research\", \"IRCCS Materno Infantile Burlo Garofolo\", \"University of Trieste\", \"University of Milan\", \"University of Turin\", \"Istituto Nazionale dei Tumori\", \"National Research Council\", \"San Raffaele Hospital\", \"University of Sassari\", \"University of Padua\", \"University of Florence\", \"University of Naples Federico II\", \"European Institute of Oncology\", \"Istituto Neurologico Carlo Besta\", \"Fondazione Santa Lucia\", \"University of Perugia\", \"University of Verona\"], \"legendgroup\": \"Italy\", \"marker\": {\"color\": \"#19d3f3\", \"size\": [98, 82, 74, 43, 41, 32, 31, 30, 30, 27, 26, 23, 23, 22, 20, 18, 16], \"sizemode\": \"area\", \"sizeref\": 3.465, \"symbol\": \"circle\"}, \"mode\": \"markers\", \"name\": \"Italy\", \"showlegend\": true, \"type\": \"scatter\", \"x\": [\"Institute of Genetic and Biomedical Research\", \"IRCCS Materno Infantile Burlo Garofolo\", \"University of Trieste\", \"University of Milan\", \"University of Turin\", \"Istituto Nazionale dei Tumori\", \"National Research Council\", \"San Raffaele Hospital\", \"University of Sassari\", \"University of Padua\", \"University of Florence\", \"University of Naples Federico II\", \"European Institute of Oncology\", \"Istituto Neurologico Carlo Besta\", \"Fondazione Santa Lucia\", \"University of Perugia\", \"University of Verona\"], \"xaxis\": \"x\", \"y\": [16, 20, 20, 18, 13, 13, 9, 13, 13, 11, 14, 9, 9, 12, 3, 8, 9], \"yaxis\": \"y\"}, {\"customdata\": [[\"grid.7429.8\", \"Inserm\", \"Paris\", \"France\", 92, 18], [\"grid.418596.7\", \"Institute Curie\", \"Paris\", \"France\", 91, 14], [\"grid.11843.3f\", \"University of Strasbourg\", \"Strasbourg\", \"France\", 77, 13], [\"grid.5613.1\", \"University of Burgundy\", \"Dijon\", \"France\", 77, 6], [\"grid.462336.6\", \"Imagine Institute for Genetic Diseases\", \"Paris\", \"France\", 69, 12], [\"grid.7452.4\", \"Paris Diderot University\", \"Paris\", \"France\", 64, 11], [\"grid.14925.3b\", \"Institut Gustave Roussy\", \"Villejuif\", \"France\", 60, 10], [\"grid.10992.33\", \"Paris Descartes University\", \"Paris\", \"France\", 59, 21], [\"grid.411439.a\", \"Piti\\u00e9-Salp\\u00eatri\\u00e8re Hospital\", \"Paris\", \"France\", 50, 8], [\"grid.452426.3\", \"Mouse Clinical Insitute\", \"Illkirch-Graffenstaden\", \"France\", 49, 2], [\"grid.8970.6\", \"Pasteur Institute of Lille\", \"Lille\", \"France\", 46, 15], [\"grid.412041.2\", \"University of Bordeaux\", \"Bordeaux\", \"France\", 39, 18], [\"grid.503422.2\", \"University of Lille\", \"Lille\", \"France\", 38, 14], [\"grid.412134.1\", \"Necker-Enfants Malades Hospital\", \"Paris\", \"France\", 38, 13], [\"grid.493090.7\", \"Universit\\u00e9 Bourgogne Franche-Comt\\u00e9\", \"Besan\\u00e7on\", \"France\", 36, 3], [\"grid.420255.4\", \"Institute of Genetics and Molecular and Cellular Biology\", \"Illkirch-Graffenstaden\", \"France\", 34, 6], [\"grid.410463.4\", \"Centre Hospitalier Regional et Universitaire de Lille\", \"Lille\", \"France\", 28, 17], [\"grid.4444.0\", \"French National Centre for Scientific Research\", \"Paris\", \"France\", 28, 15], [\"grid.428999.7\", \"Institut Pasteur\", \"Paris\", \"France\", 28, 13], [\"grid.17703.32\", \"International Agency For Research On Cancer\", \"Lyon\", \"France\", 27, 8], [\"grid.11318.3a\", \"Paris 13 University\", \"Villetaneuse\", \"France\", 26, 3], [\"grid.457380.d\", \"D\\u00e9l\\u00e9gation Nord-Ouest\", \"Lille\", \"France\", 24, 6], [\"grid.121334.6\", \"University of Montpellier\", \"Montpellier\", \"France\", 22, 8], [\"grid.425274.2\", \"Institut du Cerveau et de la Moelle \\u00c9pini\\u00e8re\", \"Paris\", \"France\", 21, 5], [\"grid.42399.35\", \"Centre Hospitalier Universitaire de Bordeaux\", \"Bordeaux\", \"France\", 19, 11], [\"grid.5842.b\", \"University of Paris-Sud\", \"Orsay\", \"France\", 19, 8], [\"grid.418135.a\", \"Centre National de G\\u00e9notypage\", \"\\u00c9vry\", \"France\", 19, 6], [\"grid.5399.6\", \"Aix-Marseille University\", \"Marseille\", \"France\", 19, 5]], \"hovertemplate\": \"<b>%{hovertext}</b><br><br>aff_country=%{customdata[3]}<br>aff_name=%{customdata[1]}<br>tot_pubs=%{customdata[5]}<br>tot_affiliations=%{customdata[4]}<br>aff_id=%{customdata[0]}<br>aff_city=%{customdata[2]}<extra></extra>\", \"hovertext\": [\"Inserm\", \"Institute Curie\", \"University of Strasbourg\", \"University of Burgundy\", \"Imagine Institute for Genetic Diseases\", \"Paris Diderot University\", \"Institut Gustave Roussy\", \"Paris Descartes University\", \"Piti\\u00e9-Salp\\u00eatri\\u00e8re Hospital\", \"Mouse Clinical Insitute\", \"Pasteur Institute of Lille\", \"University of Bordeaux\", \"University of Lille\", \"Necker-Enfants Malades Hospital\", \"Universit\\u00e9 Bourgogne Franche-Comt\\u00e9\", \"Institute of Genetics and Molecular and Cellular Biology\", \"Centre Hospitalier Regional et Universitaire de Lille\", \"French National Centre for Scientific Research\", \"Institut Pasteur\", \"International Agency For Research On Cancer\", \"Paris 13 University\", \"D\\u00e9l\\u00e9gation Nord-Ouest\", \"University of Montpellier\", \"Institut du Cerveau et de la Moelle \\u00c9pini\\u00e8re\", \"Centre Hospitalier Universitaire de Bordeaux\", \"University of Paris-Sud\", \"Centre National de G\\u00e9notypage\", \"Aix-Marseille University\"], \"legendgroup\": \"France\", \"marker\": {\"color\": \"#FF6692\", \"size\": [92, 91, 77, 77, 69, 64, 60, 59, 50, 49, 46, 39, 38, 38, 36, 34, 28, 28, 28, 27, 26, 24, 22, 21, 19, 19, 19, 19], \"sizemode\": \"area\", \"sizeref\": 3.465, \"symbol\": \"circle\"}, \"mode\": \"markers\", \"name\": \"France\", \"showlegend\": true, \"type\": \"scatter\", \"x\": [\"Inserm\", \"Institute Curie\", \"University of Strasbourg\", \"University of Burgundy\", \"Imagine Institute for Genetic Diseases\", \"Paris Diderot University\", \"Institut Gustave Roussy\", \"Paris Descartes University\", \"Piti\\u00e9-Salp\\u00eatri\\u00e8re Hospital\", \"Mouse Clinical Insitute\", \"Pasteur Institute of Lille\", \"University of Bordeaux\", \"University of Lille\", \"Necker-Enfants Malades Hospital\", \"Universit\\u00e9 Bourgogne Franche-Comt\\u00e9\", \"Institute of Genetics and Molecular and Cellular Biology\", \"Centre Hospitalier Regional et Universitaire de Lille\", \"French National Centre for Scientific Research\", \"Institut Pasteur\", \"International Agency For Research On Cancer\", \"Paris 13 University\", \"D\\u00e9l\\u00e9gation Nord-Ouest\", \"University of Montpellier\", \"Institut du Cerveau et de la Moelle \\u00c9pini\\u00e8re\", \"Centre Hospitalier Universitaire de Bordeaux\", \"University of Paris-Sud\", \"Centre National de G\\u00e9notypage\", \"Aix-Marseille University\"], \"xaxis\": \"x\", \"y\": [18, 14, 13, 6, 12, 11, 10, 21, 8, 2, 15, 18, 14, 13, 3, 6, 17, 15, 13, 8, 3, 6, 8, 5, 11, 8, 6, 5], \"yaxis\": \"y\"}, {\"customdata\": [[\"grid.5612.0\", \"Pompeu Fabra University\", \"Barcelona\", \"Spain\", 90, 30], [\"grid.413448.e\", \"Instituto de Salud Carlos III\", \"Madrid\", \"Spain\", 83, 28], [\"grid.11478.3b\", \"Centre for Genomic Regulation\", \"Barcelona\", \"Spain\", 70, 19], [\"grid.7719.8\", \"Spanish National Cancer Research Centre\", \"Madrid\", \"Spain\", 48, 15], [\"grid.7722.0\", \"Institute for Research in Biomedicine\", \"Barcelona\", \"Spain\", 39, 7], [\"grid.5841.8\", \"University of Barcelona\", \"Barcelona\", \"Spain\", 32, 9], [\"grid.11794.3a\", \"University of Santiago de Compostela\", \"Santiago de Compostela\", \"Spain\", 32, 7], [\"grid.425902.8\", \"Instituci\\u00f3 Catalana de Recerca i Estudis Avan\\u00e7ats\", \"Barcelona\", \"Spain\", 31, 26], [\"grid.411083.f\", \"Hospital Universitari Vall d'Hebron\", \"Barcelona\", \"Spain\", 27, 16], [\"grid.10097.3f\", \"Barcelona Supercomputing Center\", \"Barcelona\", \"Spain\", 27, 8], [\"grid.452372.5\", \"Centre for Biomedical Network Research on Rare Diseases\", \"Madrid\", \"Spain\", 21, 10]], \"hovertemplate\": \"<b>%{hovertext}</b><br><br>aff_country=%{customdata[3]}<br>aff_name=%{customdata[1]}<br>tot_pubs=%{customdata[5]}<br>tot_affiliations=%{customdata[4]}<br>aff_id=%{customdata[0]}<br>aff_city=%{customdata[2]}<extra></extra>\", \"hovertext\": [\"Pompeu Fabra University\", \"Instituto de Salud Carlos III\", \"Centre for Genomic Regulation\", \"Spanish National Cancer Research Centre\", \"Institute for Research in Biomedicine\", \"University of Barcelona\", \"University of Santiago de Compostela\", \"Instituci\\u00f3 Catalana de Recerca i Estudis Avan\\u00e7ats\", \"Hospital Universitari Vall d'Hebron\", \"Barcelona Supercomputing Center\", \"Centre for Biomedical Network Research on Rare Diseases\"], \"legendgroup\": \"Spain\", \"marker\": {\"color\": \"#B6E880\", \"size\": [90, 83, 70, 48, 39, 32, 32, 31, 27, 27, 21], \"sizemode\": \"area\", \"sizeref\": 3.465, \"symbol\": \"circle\"}, \"mode\": \"markers\", \"name\": \"Spain\", \"showlegend\": true, \"type\": \"scatter\", \"x\": [\"Pompeu Fabra University\", \"Instituto de Salud Carlos III\", \"Centre for Genomic Regulation\", \"Spanish National Cancer Research Centre\", \"Institute for Research in Biomedicine\", \"University of Barcelona\", \"University of Santiago de Compostela\", \"Instituci\\u00f3 Catalana de Recerca i Estudis Avan\\u00e7ats\", \"Hospital Universitari Vall d'Hebron\", \"Barcelona Supercomputing Center\", \"Centre for Biomedical Network Research on Rare Diseases\"], \"xaxis\": \"x\", \"y\": [30, 28, 19, 15, 7, 9, 7, 26, 16, 8, 10], \"yaxis\": \"y\"}, {\"customdata\": [[\"grid.5596.f\", \"KU Leuven\", \"Leuven\", \"Belgium\", 87, 37], [\"grid.11486.3a\", \"Vlaams Instituut voor Biotechnologie\", \"Ghent\", \"Belgium\", 52, 23], [\"grid.410569.f\", \"Universitaire Ziekenhuizen Leuven\", \"Leuven\", \"Belgium\", 43, 20], [\"grid.5284.b\", \"University of Antwerp\", \"Antwerp\", \"Belgium\", 34, 10], [\"grid.5342.0\", \"Ghent University\", \"Ghent\", \"Belgium\", 32, 16], [\"grid.4989.c\", \"Universit\\u00e9 Libre de Bruxelles\", \"Brussels\", \"Belgium\", 27, 6], [\"grid.410566.0\", \"Ghent University Hospital\", \"Ghent\", \"Belgium\", 25, 11]], \"hovertemplate\": \"<b>%{hovertext}</b><br><br>aff_country=%{customdata[3]}<br>aff_name=%{customdata[1]}<br>tot_pubs=%{customdata[5]}<br>tot_affiliations=%{customdata[4]}<br>aff_id=%{customdata[0]}<br>aff_city=%{customdata[2]}<extra></extra>\", \"hovertext\": [\"KU Leuven\", \"Vlaams Instituut voor Biotechnologie\", \"Universitaire Ziekenhuizen Leuven\", \"University of Antwerp\", \"Ghent University\", \"Universit\\u00e9 Libre de Bruxelles\", \"Ghent University Hospital\"], \"legendgroup\": \"Belgium\", \"marker\": {\"color\": \"#FF97FF\", \"size\": [87, 52, 43, 34, 32, 27, 25], \"sizemode\": \"area\", \"sizeref\": 3.465, \"symbol\": \"circle\"}, \"mode\": \"markers\", \"name\": \"Belgium\", \"showlegend\": true, \"type\": \"scatter\", \"x\": [\"KU Leuven\", \"Vlaams Instituut voor Biotechnologie\", \"Universitaire Ziekenhuizen Leuven\", \"University of Antwerp\", \"Ghent University\", \"Universit\\u00e9 Libre de Bruxelles\", \"Ghent University Hospital\"], \"xaxis\": \"x\", \"y\": [37, 23, 20, 10, 16, 6, 11], \"yaxis\": \"y\"}, {\"customdata\": [[\"grid.11598.34\", \"Medical University of Graz\", \"Graz\", \"Austria\", 81, 24], [\"grid.418729.1\", \"CeMM Research Center for Molecular Medicine\", \"Vienna\", \"Austria\", 51, 3], [\"grid.22937.3d\", \"Medical University of Vienna\", \"Vienna\", \"Austria\", 41, 14], [\"grid.5361.1\", \"Innsbruck Medical University\", \"Innsbruck\", \"Austria\", 21, 10], [\"grid.14826.39\", \"Research Institute of Molecular Pathology\", \"Vienna\", \"Austria\", 17, 5]], \"hovertemplate\": \"<b>%{hovertext}</b><br><br>aff_country=%{customdata[3]}<br>aff_name=%{customdata[1]}<br>tot_pubs=%{customdata[5]}<br>tot_affiliations=%{customdata[4]}<br>aff_id=%{customdata[0]}<br>aff_city=%{customdata[2]}<extra></extra>\", \"hovertext\": [\"Medical University of Graz\", \"CeMM Research Center for Molecular Medicine\", \"Medical University of Vienna\", \"Innsbruck Medical University\", \"Research Institute of Molecular Pathology\"], \"legendgroup\": \"Austria\", \"marker\": {\"color\": \"#FECB52\", \"size\": [81, 51, 41, 21, 17], \"sizemode\": \"area\", \"sizeref\": 3.465, \"symbol\": \"circle\"}, \"mode\": \"markers\", \"name\": \"Austria\", \"showlegend\": true, \"type\": \"scatter\", \"x\": [\"Medical University of Graz\", \"CeMM Research Center for Molecular Medicine\", \"Medical University of Vienna\", \"Innsbruck Medical University\", \"Research Institute of Molecular Pathology\"], \"xaxis\": \"x\", \"y\": [24, 3, 14, 10, 5], \"yaxis\": \"y\"}, {\"customdata\": [[\"grid.6612.3\", \"University of Basel\", \"Basel\", \"Switzerland\", 67, 26], [\"grid.419765.8\", \"Swiss Institute of Bioinformatics\", \"Geneva\", \"Switzerland\", 63, 24], [\"grid.9851.5\", \"University of Lausanne\", \"Lausanne\", \"Switzerland\", 56, 25], [\"grid.8591.5\", \"University of Geneva\", \"Geneva\", \"Switzerland\", 49, 14], [\"grid.7400.3\", \"University of Zurich\", \"Zurich\", \"Switzerland\", 47, 18], [\"grid.416786.a\", \"Swiss Tropical and Public Health Institute\", \"Basel\", \"Switzerland\", 33, 9], [\"grid.419922.5\", \"Institute of Oncology Research\", \"Bellinzona\", \"Switzerland\", 30, 2], [\"grid.150338.c\", \"University Hospital of Geneva\", \"Geneva\", \"Switzerland\", 25, 10], [\"grid.410567.1\", \"University Hospital of Basel\", \"Basel\", \"Switzerland\", 23, 12], [\"grid.482968.9\", \"Institute of Social and Preventive Medicine\", \"Lausanne\", \"Switzerland\", 21, 14], [\"grid.8515.9\", \"University Hospital of Lausanne\", \"Lausanne\", \"Switzerland\", 21, 12], [\"grid.5734.5\", \"University of Bern\", \"Bern\", \"Switzerland\", 20, 11], [\"grid.5333.6\", \"\\u00c9cole Polytechnique F\\u00e9d\\u00e9rale de Lausanne\", \"Lausanne\", \"Switzerland\", 19, 5]], \"hovertemplate\": \"<b>%{hovertext}</b><br><br>aff_country=%{customdata[3]}<br>aff_name=%{customdata[1]}<br>tot_pubs=%{customdata[5]}<br>tot_affiliations=%{customdata[4]}<br>aff_id=%{customdata[0]}<br>aff_city=%{customdata[2]}<extra></extra>\", \"hovertext\": [\"University of Basel\", \"Swiss Institute of Bioinformatics\", \"University of Lausanne\", \"University of Geneva\", \"University of Zurich\", \"Swiss Tropical and Public Health Institute\", \"Institute of Oncology Research\", \"University Hospital of Geneva\", \"University Hospital of Basel\", \"Institute of Social and Preventive Medicine\", \"University Hospital of Lausanne\", \"University of Bern\", \"\\u00c9cole Polytechnique F\\u00e9d\\u00e9rale de Lausanne\"], \"legendgroup\": \"Switzerland\", \"marker\": {\"color\": \"#636efa\", \"size\": [67, 63, 56, 49, 47, 33, 30, 25, 23, 21, 21, 20, 19], \"sizemode\": \"area\", \"sizeref\": 3.465, \"symbol\": \"circle\"}, \"mode\": \"markers\", \"name\": \"Switzerland\", \"showlegend\": true, \"type\": \"scatter\", \"x\": [\"University of Basel\", \"Swiss Institute of Bioinformatics\", \"University of Lausanne\", \"University of Geneva\", \"University of Zurich\", \"Swiss Tropical and Public Health Institute\", \"Institute of Oncology Research\", \"University Hospital of Geneva\", \"University Hospital of Basel\", \"Institute of Social and Preventive Medicine\", \"University Hospital of Lausanne\", \"University of Bern\", \"\\u00c9cole Polytechnique F\\u00e9d\\u00e9rale de Lausanne\"], \"xaxis\": \"x\", \"y\": [26, 24, 25, 14, 18, 9, 2, 10, 12, 14, 12, 11, 5], \"yaxis\": \"y\"}, {\"customdata\": [[\"grid.31501.36\", \"Seoul National University\", \"Seoul\", \"South Korea\", 61, 18], [\"grid.414964.a\", \"Samsung Medical Center\", \"Seoul\", \"South Korea\", 42, 5], [\"grid.264381.a\", \"Sungkyunkwan University\", \"Seoul\", \"South Korea\", 22, 8], [\"grid.37172.30\", \"Korea Advanced Institute of Science and Technology\", \"Daejeon\", \"South Korea\", 20, 7], [\"grid.415482.e\", \"Korea National Institute of Health\", \"Cheongju-si\", \"South Korea\", 17, 5]], \"hovertemplate\": \"<b>%{hovertext}</b><br><br>aff_country=%{customdata[3]}<br>aff_name=%{customdata[1]}<br>tot_pubs=%{customdata[5]}<br>tot_affiliations=%{customdata[4]}<br>aff_id=%{customdata[0]}<br>aff_city=%{customdata[2]}<extra></extra>\", \"hovertext\": [\"Seoul National University\", \"Samsung Medical Center\", \"Sungkyunkwan University\", \"Korea Advanced Institute of Science and Technology\", \"Korea National Institute of Health\"], \"legendgroup\": \"South Korea\", \"marker\": {\"color\": \"#EF553B\", \"size\": [61, 42, 22, 20, 17], \"sizemode\": \"area\", \"sizeref\": 3.465, \"symbol\": \"circle\"}, \"mode\": \"markers\", \"name\": \"South Korea\", \"showlegend\": true, \"type\": \"scatter\", \"x\": [\"Seoul National University\", \"Samsung Medical Center\", \"Sungkyunkwan University\", \"Korea Advanced Institute of Science and Technology\", \"Korea National Institute of Health\"], \"xaxis\": \"x\", \"y\": [18, 5, 8, 7, 5], \"yaxis\": \"y\"}, {\"customdata\": [[\"grid.107950.a\", \"Pomeranian Medical University\", \"Szczecin\", \"Poland\", 60, 14]], \"hovertemplate\": \"<b>%{hovertext}</b><br><br>aff_country=%{customdata[3]}<br>aff_name=%{customdata[1]}<br>tot_pubs=%{customdata[5]}<br>tot_affiliations=%{customdata[4]}<br>aff_id=%{customdata[0]}<br>aff_city=%{customdata[2]}<extra></extra>\", \"hovertext\": [\"Pomeranian Medical University\"], \"legendgroup\": \"Poland\", \"marker\": {\"color\": \"#00cc96\", \"size\": [60], \"sizemode\": \"area\", \"sizeref\": 3.465, \"symbol\": \"circle\"}, \"mode\": \"markers\", \"name\": \"Poland\", \"showlegend\": true, \"type\": \"scatter\", \"x\": [\"Pomeranian Medical University\"], \"xaxis\": \"x\", \"y\": [14], \"yaxis\": \"y\"}, {\"customdata\": [[\"grid.412125.1\", \"King Abdulaziz University\", \"Jeddah\", \"Saudi Arabia\", 37, 22], [\"grid.45672.32\", \"King Abdullah University of Science and Technology\", \"Jeddah\", \"Saudi Arabia\", 19, 7], [\"grid.415310.2\", \"King Faisal Specialist Hospital & Research Centre\", \"Riyadh\", \"Saudi Arabia\", 16, 8]], \"hovertemplate\": \"<b>%{hovertext}</b><br><br>aff_country=%{customdata[3]}<br>aff_name=%{customdata[1]}<br>tot_pubs=%{customdata[5]}<br>tot_affiliations=%{customdata[4]}<br>aff_id=%{customdata[0]}<br>aff_city=%{customdata[2]}<extra></extra>\", \"hovertext\": [\"King Abdulaziz University\", \"King Abdullah University of Science and Technology\", \"King Faisal Specialist Hospital & Research Centre\"], \"legendgroup\": \"Saudi Arabia\", \"marker\": {\"color\": \"#ab63fa\", \"size\": [37, 19, 16], \"sizemode\": \"area\", \"sizeref\": 3.465, \"symbol\": \"circle\"}, \"mode\": \"markers\", \"name\": \"Saudi Arabia\", \"showlegend\": true, \"type\": \"scatter\", \"x\": [\"King Abdulaziz University\", \"King Abdullah University of Science and Technology\", \"King Faisal Specialist Hospital & Research Centre\"], \"xaxis\": \"x\", \"y\": [22, 7, 8], \"yaxis\": \"y\"}, {\"customdata\": [[\"grid.7836.a\", \"University of Cape Town\", \"Rondebosch\", \"South Africa\", 37, 13], [\"grid.11956.3a\", \"Stellenbosch University\", \"Stellenbosch\", \"South Africa\", 27, 9]], \"hovertemplate\": \"<b>%{hovertext}</b><br><br>aff_country=%{customdata[3]}<br>aff_name=%{customdata[1]}<br>tot_pubs=%{customdata[5]}<br>tot_affiliations=%{customdata[4]}<br>aff_id=%{customdata[0]}<br>aff_city=%{customdata[2]}<extra></extra>\", \"hovertext\": [\"University of Cape Town\", \"Stellenbosch University\"], \"legendgroup\": \"South Africa\", \"marker\": {\"color\": \"#FFA15A\", \"size\": [37, 27], \"sizemode\": \"area\", \"sizeref\": 3.465, \"symbol\": \"circle\"}, \"mode\": \"markers\", \"name\": \"South Africa\", \"showlegend\": true, \"type\": \"scatter\", \"x\": [\"University of Cape Town\", \"Stellenbosch University\"], \"xaxis\": \"x\", \"y\": [13, 9], \"yaxis\": \"y\"}, {\"customdata\": [[\"grid.38603.3e\", \"University of Split\", \"Split\", \"Croatia\", 34, 23]], \"hovertemplate\": \"<b>%{hovertext}</b><br><br>aff_country=%{customdata[3]}<br>aff_name=%{customdata[1]}<br>tot_pubs=%{customdata[5]}<br>tot_affiliations=%{customdata[4]}<br>aff_id=%{customdata[0]}<br>aff_city=%{customdata[2]}<extra></extra>\", \"hovertext\": [\"University of Split\"], \"legendgroup\": \"Croatia\", \"marker\": {\"color\": \"#19d3f3\", \"size\": [34], \"sizemode\": \"area\", \"sizeref\": 3.465, \"symbol\": \"circle\"}, \"mode\": \"markers\", \"name\": \"Croatia\", \"showlegend\": true, \"type\": \"scatter\", \"x\": [\"University of Split\"], \"xaxis\": \"x\", \"y\": [23], \"yaxis\": \"y\"}, {\"customdata\": [[\"grid.15823.3d\", \"Harokopio University\", \"Athens\", \"Greece\", 34, 20], [\"grid.9594.1\", \"University of Ioannina\", \"Ioannina\", \"Greece\", 26, 17], [\"grid.4793.9\", \"Aristotle University of Thessaloniki\", \"Thessaloniki\", \"Greece\", 25, 6], [\"grid.5216.0\", \"National and Kapodistrian University of Athens\", \"Athens\", \"Greece\", 24, 13]], \"hovertemplate\": \"<b>%{hovertext}</b><br><br>aff_country=%{customdata[3]}<br>aff_name=%{customdata[1]}<br>tot_pubs=%{customdata[5]}<br>tot_affiliations=%{customdata[4]}<br>aff_id=%{customdata[0]}<br>aff_city=%{customdata[2]}<extra></extra>\", \"hovertext\": [\"Harokopio University\", \"University of Ioannina\", \"Aristotle University of Thessaloniki\", \"National and Kapodistrian University of Athens\"], \"legendgroup\": \"Greece\", \"marker\": {\"color\": \"#FF6692\", \"size\": [34, 26, 25, 24], \"sizemode\": \"area\", \"sizeref\": 3.465, \"symbol\": \"circle\"}, \"mode\": \"markers\", \"name\": \"Greece\", \"showlegend\": true, \"type\": \"scatter\", \"x\": [\"Harokopio University\", \"University of Ioannina\", \"Aristotle University of Thessaloniki\", \"National and Kapodistrian University of Athens\"], \"xaxis\": \"x\", \"y\": [20, 17, 6, 13], \"yaxis\": \"y\"}, {\"customdata\": [[\"grid.11899.38\", \"University of Sao Paulo\", \"S\\u00e3o Paulo\", \"Brazil\", 31, 15]], \"hovertemplate\": \"<b>%{hovertext}</b><br><br>aff_country=%{customdata[3]}<br>aff_name=%{customdata[1]}<br>tot_pubs=%{customdata[5]}<br>tot_affiliations=%{customdata[4]}<br>aff_id=%{customdata[0]}<br>aff_city=%{customdata[2]}<extra></extra>\", \"hovertext\": [\"University of Sao Paulo\"], \"legendgroup\": \"Brazil\", \"marker\": {\"color\": \"#B6E880\", \"size\": [31], \"sizemode\": \"area\", \"sizeref\": 3.465, \"symbol\": \"circle\"}, \"mode\": \"markers\", \"name\": \"Brazil\", \"showlegend\": true, \"type\": \"scatter\", \"x\": [\"University of Sao Paulo\"], \"xaxis\": \"x\", \"y\": [15], \"yaxis\": \"y\"}, {\"customdata\": [[\"grid.410764.0\", \"Taichung Veterans General Hospital\", \"Taichung\", \"Taiwan\", 30, 13], [\"grid.19188.39\", \"National Taiwan University\", \"Taipei\", \"Taiwan\", 18, 8]], \"hovertemplate\": \"<b>%{hovertext}</b><br><br>aff_country=%{customdata[3]}<br>aff_name=%{customdata[1]}<br>tot_pubs=%{customdata[5]}<br>tot_affiliations=%{customdata[4]}<br>aff_id=%{customdata[0]}<br>aff_city=%{customdata[2]}<extra></extra>\", \"hovertext\": [\"Taichung Veterans General Hospital\", \"National Taiwan University\"], \"legendgroup\": \"Taiwan\", \"marker\": {\"color\": \"#FF97FF\", \"size\": [30, 18], \"sizemode\": \"area\", \"sizeref\": 3.465, \"symbol\": \"circle\"}, \"mode\": \"markers\", \"name\": \"Taiwan\", \"showlegend\": true, \"type\": \"scatter\", \"x\": [\"Taichung Veterans General Hospital\", \"National Taiwan University\"], \"xaxis\": \"x\", \"y\": [13, 8], \"yaxis\": \"y\"}, {\"customdata\": [[\"grid.8217.c\", \"Trinity College Dublin\", \"Dublin\", \"Ireland\", 29, 11], [\"grid.6142.1\", \"National University of Ireland, Galway\", \"Galway\", \"Ireland\", 19, 11], [\"grid.417322.1\", \"Our Lady's Children's Hospital\", \"Dublin\", \"Ireland\", 19, 4]], \"hovertemplate\": \"<b>%{hovertext}</b><br><br>aff_country=%{customdata[3]}<br>aff_name=%{customdata[1]}<br>tot_pubs=%{customdata[5]}<br>tot_affiliations=%{customdata[4]}<br>aff_id=%{customdata[0]}<br>aff_city=%{customdata[2]}<extra></extra>\", \"hovertext\": [\"Trinity College Dublin\", \"National University of Ireland, Galway\", \"Our Lady's Children's Hospital\"], \"legendgroup\": \"Ireland\", \"marker\": {\"color\": \"#FECB52\", \"size\": [29, 19, 19], \"sizemode\": \"area\", \"sizeref\": 3.465, \"symbol\": \"circle\"}, \"mode\": \"markers\", \"name\": \"Ireland\", \"showlegend\": true, \"type\": \"scatter\", \"x\": [\"Trinity College Dublin\", \"National University of Ireland, Galway\", \"Our Lady's Children's Hospital\"], \"xaxis\": \"x\", \"y\": [11, 11, 4], \"yaxis\": \"y\"}, {\"customdata\": [[\"grid.419337.b\", \"International Crops Research Institute for the Semi-Arid Tropics\", \"Patancheru\", \"India\", 29, 6], [\"grid.413854.f\", \"Aravind Eye Hospital\", \"Madurai\", \"India\", 21, 3]], \"hovertemplate\": \"<b>%{hovertext}</b><br><br>aff_country=%{customdata[3]}<br>aff_name=%{customdata[1]}<br>tot_pubs=%{customdata[5]}<br>tot_affiliations=%{customdata[4]}<br>aff_id=%{customdata[0]}<br>aff_city=%{customdata[2]}<extra></extra>\", \"hovertext\": [\"International Crops Research Institute for the Semi-Arid Tropics\", \"Aravind Eye Hospital\"], \"legendgroup\": \"India\", \"marker\": {\"color\": \"#636efa\", \"size\": [29, 21], \"sizemode\": \"area\", \"sizeref\": 3.465, \"symbol\": \"circle\"}, \"mode\": \"markers\", \"name\": \"India\", \"showlegend\": true, \"type\": \"scatter\", \"x\": [\"International Crops Research Institute for the Semi-Arid Tropics\", \"Aravind Eye Hospital\"], \"xaxis\": \"x\", \"y\": [6, 3], \"yaxis\": \"y\"}, {\"customdata\": [[\"grid.12136.37\", \"Tel Aviv University\", \"Tel Aviv\", \"Israel\", 28, 14]], \"hovertemplate\": \"<b>%{hovertext}</b><br><br>aff_country=%{customdata[3]}<br>aff_name=%{customdata[1]}<br>tot_pubs=%{customdata[5]}<br>tot_affiliations=%{customdata[4]}<br>aff_id=%{customdata[0]}<br>aff_city=%{customdata[2]}<extra></extra>\", \"hovertext\": [\"Tel Aviv University\"], \"legendgroup\": \"Israel\", \"marker\": {\"color\": \"#EF553B\", \"size\": [28], \"sizemode\": \"area\", \"sizeref\": 3.465, \"symbol\": \"circle\"}, \"mode\": \"markers\", \"name\": \"Israel\", \"showlegend\": true, \"type\": \"scatter\", \"x\": [\"Tel Aviv University\"], \"xaxis\": \"x\", \"y\": [14], \"yaxis\": \"y\"}, {\"customdata\": [[\"grid.433436.5\", \"International Maize and Wheat Improvement Center\", \"Texcoco\", \"Mexico\", 25, 4]], \"hovertemplate\": \"<b>%{hovertext}</b><br><br>aff_country=%{customdata[3]}<br>aff_name=%{customdata[1]}<br>tot_pubs=%{customdata[5]}<br>tot_affiliations=%{customdata[4]}<br>aff_id=%{customdata[0]}<br>aff_city=%{customdata[2]}<extra></extra>\", \"hovertext\": [\"International Maize and Wheat Improvement Center\"], \"legendgroup\": \"Mexico\", \"marker\": {\"color\": \"#00cc96\", \"size\": [25], \"sizemode\": \"area\", \"sizeref\": 3.465, \"symbol\": \"circle\"}, \"mode\": \"markers\", \"name\": \"Mexico\", \"showlegend\": true, \"type\": \"scatter\", \"x\": [\"International Maize and Wheat Improvement Center\"], \"xaxis\": \"x\", \"y\": [4], \"yaxis\": \"y\"}, {\"customdata\": [[\"grid.4491.8\", \"Charles University\", \"Prague\", \"Czechia\", 21, 11]], \"hovertemplate\": \"<b>%{hovertext}</b><br><br>aff_country=%{customdata[3]}<br>aff_name=%{customdata[1]}<br>tot_pubs=%{customdata[5]}<br>tot_affiliations=%{customdata[4]}<br>aff_id=%{customdata[0]}<br>aff_city=%{customdata[2]}<extra></extra>\", \"hovertext\": [\"Charles University\"], \"legendgroup\": \"Czechia\", \"marker\": {\"color\": \"#ab63fa\", \"size\": [21], \"sizemode\": \"area\", \"sizeref\": 3.465, \"symbol\": \"circle\"}, \"mode\": \"markers\", \"name\": \"Czechia\", \"showlegend\": true, \"type\": \"scatter\", \"x\": [\"Charles University\"], \"xaxis\": \"x\", \"y\": [11], \"yaxis\": \"y\"}, {\"customdata\": [[\"grid.411600.2\", \"Shahid Beheshti University of Medical Sciences\", \"Tehran\", \"Iran\", 21, 6]], \"hovertemplate\": \"<b>%{hovertext}</b><br><br>aff_country=%{customdata[3]}<br>aff_name=%{customdata[1]}<br>tot_pubs=%{customdata[5]}<br>tot_affiliations=%{customdata[4]}<br>aff_id=%{customdata[0]}<br>aff_city=%{customdata[2]}<extra></extra>\", \"hovertext\": [\"Shahid Beheshti University of Medical Sciences\"], \"legendgroup\": \"Iran\", \"marker\": {\"color\": \"#FFA15A\", \"size\": [21], \"sizemode\": \"area\", \"sizeref\": 3.465, \"symbol\": \"circle\"}, \"mode\": \"markers\", \"name\": \"Iran\", \"showlegend\": true, \"type\": \"scatter\", \"x\": [\"Shahid Beheshti University of Medical Sciences\"], \"xaxis\": \"x\", \"y\": [6], \"yaxis\": \"y\"}, {\"customdata\": [[\"grid.412433.3\", \"Oxford University Clinical Research Unit\", \"Ho Chi Minh City\", \"Vietnam\", 19, 5]], \"hovertemplate\": \"<b>%{hovertext}</b><br><br>aff_country=%{customdata[3]}<br>aff_name=%{customdata[1]}<br>tot_pubs=%{customdata[5]}<br>tot_affiliations=%{customdata[4]}<br>aff_id=%{customdata[0]}<br>aff_city=%{customdata[2]}<extra></extra>\", \"hovertext\": [\"Oxford University Clinical Research Unit\"], \"legendgroup\": \"Vietnam\", \"marker\": {\"color\": \"#19d3f3\", \"size\": [19], \"sizemode\": \"area\", \"sizeref\": 3.465, \"symbol\": \"circle\"}, \"mode\": \"markers\", \"name\": \"Vietnam\", \"showlegend\": true, \"type\": \"scatter\", \"x\": [\"Oxford University Clinical Research Unit\"], \"xaxis\": \"x\", \"y\": [5], \"yaxis\": \"y\"}, {\"customdata\": [[\"grid.9654.e\", \"University of Auckland\", \"Auckland\", \"New Zealand\", 18, 15]], \"hovertemplate\": \"<b>%{hovertext}</b><br><br>aff_country=%{customdata[3]}<br>aff_name=%{customdata[1]}<br>tot_pubs=%{customdata[5]}<br>tot_affiliations=%{customdata[4]}<br>aff_id=%{customdata[0]}<br>aff_city=%{customdata[2]}<extra></extra>\", \"hovertext\": [\"University of Auckland\"], \"legendgroup\": \"New Zealand\", \"marker\": {\"color\": \"#FF6692\", \"size\": [18], \"sizemode\": \"area\", \"sizeref\": 3.465, \"symbol\": \"circle\"}, \"mode\": \"markers\", \"name\": \"New Zealand\", \"showlegend\": true, \"type\": \"scatter\", \"x\": [\"University of Auckland\"], \"xaxis\": \"x\", \"y\": [15], \"yaxis\": \"y\"}, {\"customdata\": [[\"grid.497620.e\", \"Center for Non-Communicable Diseases\", \"Karachi\", \"Pakistan\", 18, 5]], \"hovertemplate\": \"<b>%{hovertext}</b><br><br>aff_country=%{customdata[3]}<br>aff_name=%{customdata[1]}<br>tot_pubs=%{customdata[5]}<br>tot_affiliations=%{customdata[4]}<br>aff_id=%{customdata[0]}<br>aff_city=%{customdata[2]}<extra></extra>\", \"hovertext\": [\"Center for Non-Communicable Diseases\"], \"legendgroup\": \"Pakistan\", \"marker\": {\"color\": \"#B6E880\", \"size\": [18], \"sizemode\": \"area\", \"sizeref\": 3.465, \"symbol\": \"circle\"}, \"mode\": \"markers\", \"name\": \"Pakistan\", \"showlegend\": true, \"type\": \"scatter\", \"x\": [\"Center for Non-Communicable Diseases\"], \"xaxis\": \"x\", \"y\": [5], \"yaxis\": \"y\"}, {\"customdata\": [[\"grid.267101.3\", \"University of San Carlos\", \"Cebu City\", \"Philippines\", 17, 9]], \"hovertemplate\": \"<b>%{hovertext}</b><br><br>aff_country=%{customdata[3]}<br>aff_name=%{customdata[1]}<br>tot_pubs=%{customdata[5]}<br>tot_affiliations=%{customdata[4]}<br>aff_id=%{customdata[0]}<br>aff_city=%{customdata[2]}<extra></extra>\", \"hovertext\": [\"University of San Carlos\"], \"legendgroup\": \"Philippines\", \"marker\": {\"color\": \"#FF97FF\", \"size\": [17], \"sizemode\": \"area\", \"sizeref\": 3.465, \"symbol\": \"circle\"}, \"mode\": \"markers\", \"name\": \"Philippines\", \"showlegend\": true, \"type\": \"scatter\", \"x\": [\"University of San Carlos\"], \"xaxis\": \"x\", \"y\": [9], \"yaxis\": \"y\"}, {\"customdata\": [[\"grid.10223.32\", \"Mahidol University\", \"Bangkok\", \"Thailand\", 17, 9]], \"hovertemplate\": \"<b>%{hovertext}</b><br><br>aff_country=%{customdata[3]}<br>aff_name=%{customdata[1]}<br>tot_pubs=%{customdata[5]}<br>tot_affiliations=%{customdata[4]}<br>aff_id=%{customdata[0]}<br>aff_city=%{customdata[2]}<extra></extra>\", \"hovertext\": [\"Mahidol University\"], \"legendgroup\": \"Thailand\", \"marker\": {\"color\": \"#FECB52\", \"size\": [17], \"sizemode\": \"area\", \"sizeref\": 3.465, \"symbol\": \"circle\"}, \"mode\": \"markers\", \"name\": \"Thailand\", \"showlegend\": true, \"type\": \"scatter\", \"x\": [\"Mahidol University\"], \"xaxis\": \"x\", \"y\": [9], \"yaxis\": \"y\"}, {\"customdata\": [[\"grid.14442.37\", \"Hacettepe University\", \"Ankara\", \"Turkey\", 17, 9]], \"hovertemplate\": \"<b>%{hovertext}</b><br><br>aff_country=%{customdata[3]}<br>aff_name=%{customdata[1]}<br>tot_pubs=%{customdata[5]}<br>tot_affiliations=%{customdata[4]}<br>aff_id=%{customdata[0]}<br>aff_city=%{customdata[2]}<extra></extra>\", \"hovertext\": [\"Hacettepe University\"], \"legendgroup\": \"Turkey\", \"marker\": {\"color\": \"#636efa\", \"size\": [17], \"sizemode\": \"area\", \"sizeref\": 3.465, \"symbol\": \"circle\"}, \"mode\": \"markers\", \"name\": \"Turkey\", \"showlegend\": true, \"type\": \"scatter\", \"x\": [\"Hacettepe University\"], \"xaxis\": \"x\", \"y\": [9], \"yaxis\": \"y\"}],\n",
       "                        {\"height\": 800, \"legend\": {\"itemsizing\": \"constant\", \"title\": {\"text\": \"aff_country\"}, \"tracegroupgap\": 0}, \"template\": {\"data\": {\"bar\": [{\"error_x\": {\"color\": \"#2a3f5f\"}, \"error_y\": {\"color\": \"#2a3f5f\"}, \"marker\": {\"line\": {\"color\": \"#E5ECF6\", \"width\": 0.5}}, \"type\": \"bar\"}], \"barpolar\": [{\"marker\": {\"line\": {\"color\": \"#E5ECF6\", \"width\": 0.5}}, \"type\": \"barpolar\"}], \"carpet\": [{\"aaxis\": {\"endlinecolor\": \"#2a3f5f\", \"gridcolor\": \"white\", \"linecolor\": \"white\", \"minorgridcolor\": \"white\", \"startlinecolor\": \"#2a3f5f\"}, \"baxis\": {\"endlinecolor\": \"#2a3f5f\", \"gridcolor\": \"white\", \"linecolor\": \"white\", \"minorgridcolor\": \"white\", \"startlinecolor\": \"#2a3f5f\"}, \"type\": \"carpet\"}], \"choropleth\": [{\"colorbar\": {\"outlinewidth\": 0, \"ticks\": \"\"}, \"type\": \"choropleth\"}], \"contour\": [{\"colorbar\": {\"outlinewidth\": 0, \"ticks\": \"\"}, \"colorscale\": [[0.0, \"#0d0887\"], [0.1111111111111111, \"#46039f\"], [0.2222222222222222, \"#7201a8\"], [0.3333333333333333, \"#9c179e\"], [0.4444444444444444, \"#bd3786\"], [0.5555555555555556, \"#d8576b\"], [0.6666666666666666, \"#ed7953\"], [0.7777777777777778, \"#fb9f3a\"], [0.8888888888888888, \"#fdca26\"], [1.0, \"#f0f921\"]], \"type\": \"contour\"}], \"contourcarpet\": [{\"colorbar\": {\"outlinewidth\": 0, \"ticks\": \"\"}, \"type\": \"contourcarpet\"}], \"heatmap\": [{\"colorbar\": {\"outlinewidth\": 0, \"ticks\": \"\"}, \"colorscale\": [[0.0, \"#0d0887\"], [0.1111111111111111, \"#46039f\"], [0.2222222222222222, \"#7201a8\"], [0.3333333333333333, \"#9c179e\"], [0.4444444444444444, \"#bd3786\"], [0.5555555555555556, \"#d8576b\"], [0.6666666666666666, \"#ed7953\"], [0.7777777777777778, \"#fb9f3a\"], [0.8888888888888888, \"#fdca26\"], [1.0, \"#f0f921\"]], \"type\": \"heatmap\"}], \"heatmapgl\": [{\"colorbar\": {\"outlinewidth\": 0, \"ticks\": \"\"}, \"colorscale\": [[0.0, \"#0d0887\"], [0.1111111111111111, \"#46039f\"], [0.2222222222222222, \"#7201a8\"], [0.3333333333333333, \"#9c179e\"], [0.4444444444444444, \"#bd3786\"], [0.5555555555555556, \"#d8576b\"], [0.6666666666666666, \"#ed7953\"], [0.7777777777777778, \"#fb9f3a\"], [0.8888888888888888, \"#fdca26\"], [1.0, \"#f0f921\"]], \"type\": \"heatmapgl\"}], \"histogram\": [{\"marker\": {\"colorbar\": {\"outlinewidth\": 0, \"ticks\": \"\"}}, \"type\": \"histogram\"}], \"histogram2d\": [{\"colorbar\": {\"outlinewidth\": 0, \"ticks\": \"\"}, \"colorscale\": [[0.0, \"#0d0887\"], [0.1111111111111111, \"#46039f\"], [0.2222222222222222, \"#7201a8\"], [0.3333333333333333, \"#9c179e\"], [0.4444444444444444, \"#bd3786\"], [0.5555555555555556, \"#d8576b\"], [0.6666666666666666, \"#ed7953\"], [0.7777777777777778, \"#fb9f3a\"], [0.8888888888888888, \"#fdca26\"], [1.0, \"#f0f921\"]], \"type\": \"histogram2d\"}], \"histogram2dcontour\": [{\"colorbar\": {\"outlinewidth\": 0, \"ticks\": \"\"}, \"colorscale\": [[0.0, \"#0d0887\"], [0.1111111111111111, \"#46039f\"], [0.2222222222222222, \"#7201a8\"], [0.3333333333333333, \"#9c179e\"], [0.4444444444444444, \"#bd3786\"], [0.5555555555555556, \"#d8576b\"], [0.6666666666666666, \"#ed7953\"], [0.7777777777777778, \"#fb9f3a\"], [0.8888888888888888, \"#fdca26\"], [1.0, \"#f0f921\"]], \"type\": \"histogram2dcontour\"}], \"mesh3d\": [{\"colorbar\": {\"outlinewidth\": 0, \"ticks\": \"\"}, \"type\": \"mesh3d\"}], \"parcoords\": [{\"line\": {\"colorbar\": {\"outlinewidth\": 0, \"ticks\": \"\"}}, \"type\": \"parcoords\"}], \"pie\": [{\"automargin\": true, \"type\": \"pie\"}], \"scatter\": [{\"marker\": {\"colorbar\": {\"outlinewidth\": 0, \"ticks\": \"\"}}, \"type\": \"scatter\"}], \"scatter3d\": [{\"line\": {\"colorbar\": {\"outlinewidth\": 0, \"ticks\": \"\"}}, \"marker\": {\"colorbar\": {\"outlinewidth\": 0, \"ticks\": \"\"}}, \"type\": \"scatter3d\"}], \"scattercarpet\": [{\"marker\": {\"colorbar\": {\"outlinewidth\": 0, \"ticks\": \"\"}}, \"type\": \"scattercarpet\"}], \"scattergeo\": [{\"marker\": {\"colorbar\": {\"outlinewidth\": 0, \"ticks\": \"\"}}, \"type\": \"scattergeo\"}], \"scattergl\": [{\"marker\": {\"colorbar\": {\"outlinewidth\": 0, \"ticks\": \"\"}}, \"type\": \"scattergl\"}], \"scattermapbox\": [{\"marker\": {\"colorbar\": {\"outlinewidth\": 0, \"ticks\": \"\"}}, \"type\": \"scattermapbox\"}], \"scatterpolar\": [{\"marker\": {\"colorbar\": {\"outlinewidth\": 0, \"ticks\": \"\"}}, \"type\": \"scatterpolar\"}], \"scatterpolargl\": [{\"marker\": {\"colorbar\": {\"outlinewidth\": 0, \"ticks\": \"\"}}, \"type\": \"scatterpolargl\"}], \"scatterternary\": [{\"marker\": {\"colorbar\": {\"outlinewidth\": 0, \"ticks\": \"\"}}, \"type\": \"scatterternary\"}], \"surface\": [{\"colorbar\": {\"outlinewidth\": 0, \"ticks\": \"\"}, \"colorscale\": [[0.0, \"#0d0887\"], [0.1111111111111111, \"#46039f\"], [0.2222222222222222, \"#7201a8\"], [0.3333333333333333, \"#9c179e\"], [0.4444444444444444, \"#bd3786\"], [0.5555555555555556, \"#d8576b\"], [0.6666666666666666, \"#ed7953\"], [0.7777777777777778, \"#fb9f3a\"], [0.8888888888888888, \"#fdca26\"], [1.0, \"#f0f921\"]], \"type\": \"surface\"}], \"table\": [{\"cells\": {\"fill\": {\"color\": \"#EBF0F8\"}, \"line\": {\"color\": \"white\"}}, \"header\": {\"fill\": {\"color\": \"#C8D4E3\"}, \"line\": {\"color\": \"white\"}}, \"type\": \"table\"}]}, \"layout\": {\"annotationdefaults\": {\"arrowcolor\": \"#2a3f5f\", \"arrowhead\": 0, \"arrowwidth\": 1}, \"coloraxis\": {\"colorbar\": {\"outlinewidth\": 0, \"ticks\": \"\"}}, \"colorscale\": {\"diverging\": [[0, \"#8e0152\"], [0.1, \"#c51b7d\"], [0.2, \"#de77ae\"], [0.3, \"#f1b6da\"], [0.4, \"#fde0ef\"], [0.5, \"#f7f7f7\"], [0.6, \"#e6f5d0\"], [0.7, \"#b8e186\"], [0.8, \"#7fbc41\"], [0.9, \"#4d9221\"], [1, \"#276419\"]], \"sequential\": [[0.0, \"#0d0887\"], [0.1111111111111111, \"#46039f\"], [0.2222222222222222, \"#7201a8\"], [0.3333333333333333, \"#9c179e\"], [0.4444444444444444, \"#bd3786\"], [0.5555555555555556, \"#d8576b\"], [0.6666666666666666, \"#ed7953\"], [0.7777777777777778, \"#fb9f3a\"], [0.8888888888888888, \"#fdca26\"], [1.0, \"#f0f921\"]], \"sequentialminus\": [[0.0, \"#0d0887\"], [0.1111111111111111, \"#46039f\"], [0.2222222222222222, \"#7201a8\"], [0.3333333333333333, \"#9c179e\"], [0.4444444444444444, \"#bd3786\"], [0.5555555555555556, \"#d8576b\"], [0.6666666666666666, \"#ed7953\"], [0.7777777777777778, \"#fb9f3a\"], [0.8888888888888888, \"#fdca26\"], [1.0, \"#f0f921\"]]}, \"colorway\": [\"#636efa\", \"#EF553B\", \"#00cc96\", \"#ab63fa\", \"#FFA15A\", \"#19d3f3\", \"#FF6692\", \"#B6E880\", \"#FF97FF\", \"#FECB52\"], \"font\": {\"color\": \"#2a3f5f\"}, \"geo\": {\"bgcolor\": \"white\", \"lakecolor\": \"white\", \"landcolor\": \"#E5ECF6\", \"showlakes\": true, \"showland\": true, \"subunitcolor\": \"white\"}, \"hoverlabel\": {\"align\": \"left\"}, \"hovermode\": \"closest\", \"mapbox\": {\"style\": \"light\"}, \"paper_bgcolor\": \"white\", \"plot_bgcolor\": \"#E5ECF6\", \"polar\": {\"angularaxis\": {\"gridcolor\": \"white\", \"linecolor\": \"white\", \"ticks\": \"\"}, \"bgcolor\": \"#E5ECF6\", \"radialaxis\": {\"gridcolor\": \"white\", \"linecolor\": \"white\", \"ticks\": \"\"}}, \"scene\": {\"xaxis\": {\"backgroundcolor\": \"#E5ECF6\", \"gridcolor\": \"white\", \"gridwidth\": 2, \"linecolor\": \"white\", \"showbackground\": true, \"ticks\": \"\", \"zerolinecolor\": \"white\"}, \"yaxis\": {\"backgroundcolor\": \"#E5ECF6\", \"gridcolor\": \"white\", \"gridwidth\": 2, \"linecolor\": \"white\", \"showbackground\": true, \"ticks\": \"\", \"zerolinecolor\": \"white\"}, \"zaxis\": {\"backgroundcolor\": \"#E5ECF6\", \"gridcolor\": \"white\", \"gridwidth\": 2, \"linecolor\": \"white\", \"showbackground\": true, \"ticks\": \"\", \"zerolinecolor\": \"white\"}}, \"shapedefaults\": {\"line\": {\"color\": \"#2a3f5f\"}}, \"ternary\": {\"aaxis\": {\"gridcolor\": \"white\", \"linecolor\": \"white\", \"ticks\": \"\"}, \"baxis\": {\"gridcolor\": \"white\", \"linecolor\": \"white\", \"ticks\": \"\"}, \"bgcolor\": \"#E5ECF6\", \"caxis\": {\"gridcolor\": \"white\", \"linecolor\": \"white\", \"ticks\": \"\"}}, \"title\": {\"x\": 0.05}, \"xaxis\": {\"automargin\": true, \"gridcolor\": \"white\", \"linecolor\": \"white\", \"ticks\": \"\", \"title\": {\"standoff\": 15}, \"zerolinecolor\": \"white\", \"zerolinewidth\": 2}, \"yaxis\": {\"automargin\": true, \"gridcolor\": \"white\", \"linecolor\": \"white\", \"ticks\": \"\", \"title\": {\"standoff\": 15}, \"zerolinecolor\": \"white\", \"zerolinewidth\": 2}}}, \"title\": {\"text\": \"Top 500 Institutions by number of publications (country segmentation)\"}, \"xaxis\": {\"anchor\": \"y\", \"domain\": [0.0, 1.0], \"title\": {\"text\": \"aff_name\"}}, \"yaxis\": {\"anchor\": \"x\", \"domain\": [0.0, 1.0], \"title\": {\"text\": \"tot_pubs\"}}},\n",
       "                        {\"responsive\": true}\n",
       "                    ).then(function(){\n",
       "                            \n",
       "var gd = document.getElementById('82d73bae-e1a0-4667-86d8-568e94f014e3');\n",
       "var x = new MutationObserver(function (mutations, observer) {{\n",
       "        var display = window.getComputedStyle(gd).display;\n",
       "        if (!display || display === 'none') {{\n",
       "            console.log([gd, 'removed!']);\n",
       "            Plotly.purge(gd);\n",
       "            observer.disconnect();\n",
       "        }}\n",
       "}});\n",
       "\n",
       "// Listen for the removal of the full notebook cells\n",
       "var notebookContainer = gd.closest('#notebook-container');\n",
       "if (notebookContainer) {{\n",
       "    x.observe(notebookContainer, {childList: true});\n",
       "}}\n",
       "\n",
       "// Listen for the clearing of the current output cell\n",
       "var outputEl = gd.closest('.output');\n",
       "if (outputEl) {{\n",
       "    x.observe(outputEl, {childList: true});\n",
       "}}\n",
       "\n",
       "                        })\n",
       "                };\n",
       "                });\n",
       "            </script>\n",
       "        </div>"
      ]
     },
     "metadata": {},
     "output_type": "display_data"
    }
   ],
   "source": [
    "treshold = 500\n",
    "\n",
    "px.scatter(gridaffiliations[:treshold], \n",
    "           x=\"aff_name\", y=\"tot_pubs\", \n",
    "           color=\"aff_country\", \n",
    "           size='tot_affiliations',\n",
    "           hover_name=\"aff_name\", \n",
    "           height=800,\n",
    "           hover_data=['aff_id', 'aff_name', 'aff_city', 'aff_country', 'tot_affiliations', 'tot_pubs'], \n",
    "           title=f\"Top {treshold} Institutions by number of publications (country segmentation)\")"
   ]
  },
  {
   "cell_type": "code",
   "execution_count": 9,
   "metadata": {
    "Collapsed": "false",
    "colab": {
     "base_uri": "https://localhost:8080/",
     "height": 617
    },
    "colab_type": "code",
    "executionInfo": {
     "elapsed": 958,
     "status": "ok",
     "timestamp": 1570142320740,
     "user": {
      "displayName": "Michele Pasin",
      "photoUrl": "https://lh3.googleusercontent.com/a-/AAuE7mBu8LVjIGgontF2Wax51BoL5KFx8esezX3bUmaa0g=s64",
      "userId": "10309320684375994511"
     },
     "user_tz": 240
    },
    "id": "joA2dnfwtQ4W",
    "outputId": "b734487f-699c-4ad8-8ba4-e04157730420"
   },
   "outputs": [
    {
     "data": {
      "application/vnd.plotly.v1+json": {
       "config": {
        "plotlyServerURL": "https://plot.ly"
       },
       "data": [
        {
         "customdata": [
          [
           "grid.66859.34",
           "Broad Institute",
           "Cambridge",
           "United States",
           1386,
           225
          ],
          [
           "grid.38142.3c",
           "Harvard University",
           "Cambridge",
           "United States",
           1204,
           265
          ],
          [
           "grid.32224.35",
           "Massachusetts General Hospital",
           "Boston",
           "United States",
           698,
           140
          ],
          [
           "grid.59734.3c",
           "Icahn School of Medicine at Mount Sinai",
           "New York",
           "United States",
           638,
           93
          ],
          [
           "grid.214458.e",
           "University of Michigan–Ann Arbor",
           "Ann Arbor",
           "United States",
           617,
           86
          ],
          [
           "grid.168010.e",
           "Stanford University",
           "Stanford",
           "United States",
           565,
           121
          ],
          [
           "grid.51462.34",
           "Memorial Sloan Kettering Cancer Center",
           "New York",
           "United States",
           475,
           59
          ],
          [
           "grid.34477.33",
           "University of Washington",
           "Seattle",
           "United States",
           447,
           88
          ],
          [
           "grid.266102.1",
           "University of California, San Francisco",
           "San Francisco",
           "United States",
           403,
           87
          ],
          [
           "grid.4367.6",
           "Washington University in St. Louis",
           "St Louis",
           "United States",
           400,
           65
          ],
          [
           "grid.65499.37",
           "Dana-Farber Cancer Institute",
           "Boston",
           "United States",
           395,
           72
          ],
          [
           "grid.240871.8",
           "St. Jude Children's Research Hospital",
           "Memphis",
           "United States",
           364,
           27
          ],
          [
           "grid.47100.32",
           "Yale University",
           "New Haven",
           "United States",
           322,
           47
          ],
          [
           "grid.62560.37",
           "Brigham and Women's Hospital",
           "Boston",
           "United States",
           311,
           94
          ],
          [
           "grid.266100.3",
           "University of California, San Diego",
           "San Diego",
           "United States",
           308,
           64
          ],
          [
           "grid.21107.35",
           "Johns Hopkins University",
           "Baltimore",
           "United States",
           305,
           78
          ],
          [
           "grid.10698.36",
           "University of North Carolina at Chapel Hill",
           "Chapel Hill",
           "United States",
           301,
           71
          ],
          [
           "grid.25879.31",
           "University of Pennsylvania",
           "Philadelphia",
           "United States",
           297,
           83
          ],
          [
           "grid.21729.3f",
           "Columbia University",
           "New York",
           "United States",
           279,
           55
          ],
          [
           "grid.19006.3e",
           "University of California, Los Angeles",
           "Los Angeles",
           "United States",
           276,
           72
          ],
          [
           "grid.39382.33",
           "Baylor College of Medicine",
           "Houston",
           "United States",
           265,
           62
          ],
          [
           "grid.5386.8",
           "Cornell University",
           "Ithaca",
           "United States",
           233,
           66
          ],
          [
           "grid.42505.36",
           "University of Southern California",
           "Los Angeles",
           "United States",
           221,
           60
          ],
          [
           "grid.2515.3",
           "Boston Children's Hospital",
           "Boston",
           "United States",
           201,
           63
          ],
          [
           "grid.270240.3",
           "Fred Hutchinson Cancer Research Center",
           "Seattle",
           "United States",
           171,
           43
          ],
          [
           "grid.240145.6",
           "The University of Texas MD Anderson Cancer Center",
           "Houston",
           "United States",
           164,
           37
          ],
          [
           "grid.189504.1",
           "Boston University",
           "Boston",
           "United States",
           154,
           47
          ],
          [
           "grid.21925.3d",
           "University of Pittsburgh",
           "Pittsburgh",
           "United States",
           146,
           41
          ],
          [
           "grid.279885.9",
           "National Heart Lung and Blood Institute",
           "Bethesda",
           "United States",
           142,
           36
          ],
          [
           "grid.66875.3a",
           "Mayo Clinic",
           "Rochester",
           "United States",
           136,
           38
          ],
          [
           "grid.94365.3d",
           "National Institutes of Health",
           "Bethesda",
           "United States",
           128,
           42
          ],
          [
           "grid.48336.3a",
           "National Cancer Institute",
           "Rockville",
           "United States",
           128,
           29
          ],
          [
           "grid.26790.3a",
           "University of Miami",
           "Coral Gables",
           "United States",
           118,
           18
          ],
          [
           "grid.267313.2",
           "The University of Texas Southwestern Medical Center",
           "Dallas",
           "United States",
           115,
           26
          ],
          [
           "grid.412807.8",
           "Vanderbilt University Medical Center",
           "Nashville",
           "United States",
           113,
           28
          ],
          [
           "grid.16753.36",
           "Northwestern University",
           "Evanston",
           "United States",
           113,
           21
          ],
          [
           "grid.241167.7",
           "Wake Forest University",
           "Winston-Salem",
           "United States",
           109,
           27
          ],
          [
           "grid.418158.1",
           "Roche (United States)",
           "Nutley",
           "United States",
           109,
           16
          ],
          [
           "grid.239844.0",
           "Harbor–UCLA Medical Center",
           "Torrance",
           "United States",
           108,
           24
          ],
          [
           "grid.223827.e",
           "University of Utah",
           "Salt Lake City",
           "United States",
           105,
           44
          ],
          [
           "grid.267308.8",
           "The University of Texas Health Science Center at Houston",
           "Houston",
           "United States",
           104,
           38
          ]
         ],
         "hovertemplate": "<b>%{hovertext}</b><br><br>aff_country=%{customdata[3]}<br>tot_affiliations=%{customdata[4]}<br>tot_pubs=%{customdata[5]}<br>aff_id=%{customdata[0]}<br>aff_name=%{customdata[1]}<br>aff_city=%{customdata[2]}<extra></extra>",
         "hovertext": [
          "Broad Institute",
          "Harvard University",
          "Massachusetts General Hospital",
          "Icahn School of Medicine at Mount Sinai",
          "University of Michigan–Ann Arbor",
          "Stanford University",
          "Memorial Sloan Kettering Cancer Center",
          "University of Washington",
          "University of California, San Francisco",
          "Washington University in St. Louis",
          "Dana-Farber Cancer Institute",
          "St. Jude Children's Research Hospital",
          "Yale University",
          "Brigham and Women's Hospital",
          "University of California, San Diego",
          "Johns Hopkins University",
          "University of North Carolina at Chapel Hill",
          "University of Pennsylvania",
          "Columbia University",
          "University of California, Los Angeles",
          "Baylor College of Medicine",
          "Cornell University",
          "University of Southern California",
          "Boston Children's Hospital",
          "Fred Hutchinson Cancer Research Center",
          "The University of Texas MD Anderson Cancer Center",
          "Boston University",
          "University of Pittsburgh",
          "National Heart Lung and Blood Institute",
          "Mayo Clinic",
          "National Institutes of Health",
          "National Cancer Institute",
          "University of Miami",
          "The University of Texas Southwestern Medical Center",
          "Vanderbilt University Medical Center",
          "Northwestern University",
          "Wake Forest University",
          "Roche (United States)",
          "Harbor–UCLA Medical Center",
          "University of Utah",
          "The University of Texas Health Science Center at Houston"
         ],
         "legendgroup": "United States",
         "marker": {
          "color": "#636efa",
          "symbol": "circle"
         },
         "mode": "markers",
         "name": "United States",
         "showlegend": true,
         "type": "scatter",
         "x": [
          1386,
          1204,
          698,
          638,
          617,
          565,
          475,
          447,
          403,
          400,
          395,
          364,
          322,
          311,
          308,
          305,
          301,
          297,
          279,
          276,
          265,
          233,
          221,
          201,
          171,
          164,
          154,
          146,
          142,
          136,
          128,
          128,
          118,
          115,
          113,
          113,
          109,
          109,
          108,
          105,
          104
         ],
         "xaxis": "x",
         "y": [
          225,
          265,
          140,
          93,
          86,
          121,
          59,
          88,
          87,
          65,
          72,
          27,
          47,
          94,
          64,
          78,
          71,
          83,
          55,
          72,
          62,
          66,
          60,
          63,
          43,
          37,
          47,
          41,
          36,
          38,
          42,
          29,
          18,
          26,
          28,
          21,
          27,
          16,
          24,
          44,
          38
         ],
         "yaxis": "y"
        },
        {
         "customdata": [
          [
           "grid.5335.0",
           "University of Cambridge",
           "Cambridge",
           "United Kingdom",
           935,
           158
          ],
          [
           "grid.10306.34",
           "Wellcome Sanger Institute",
           "Cambridge",
           "United Kingdom",
           705,
           142
          ],
          [
           "grid.4305.2",
           "University of Edinburgh",
           "Edinburgh",
           "United Kingdom",
           526,
           77
          ],
          [
           "grid.4991.5",
           "University of Oxford",
           "Oxford",
           "United Kingdom",
           500,
           132
          ],
          [
           "grid.7445.2",
           "Imperial College London",
           "London",
           "United Kingdom",
           418,
           81
          ],
          [
           "grid.270683.8",
           "Wellcome Centre for Human Genetics",
           "Oxford",
           "United Kingdom",
           361,
           81
          ],
          [
           "grid.13097.3c",
           "King's College London",
           "London",
           "United Kingdom",
           356,
           90
          ],
          [
           "grid.83440.3b",
           "University College London",
           "London",
           "United Kingdom",
           331,
           113
          ],
          [
           "grid.4868.2",
           "Queen Mary University of London",
           "London",
           "United Kingdom",
           260,
           57
          ],
          [
           "grid.18886.3f",
           "Institute of Cancer Research",
           "London",
           "United Kingdom",
           210,
           42
          ],
          [
           "grid.5600.3",
           "Cardiff University",
           "Cardiff",
           "United Kingdom",
           198,
           29
          ],
          [
           "grid.5337.2",
           "University of Bristol",
           "Bristol",
           "United Kingdom",
           177,
           53
          ],
          [
           "grid.470900.a",
           "Institute of Metabolic Science",
           "Cambridge",
           "United Kingdom",
           126,
           29
          ],
          [
           "grid.9918.9",
           "University of Leicester",
           "Leicester",
           "United Kingdom",
           118,
           29
          ],
          [
           "grid.5379.8",
           "University of Manchester",
           "Manchester",
           "United Kingdom",
           116,
           53
          ]
         ],
         "hovertemplate": "<b>%{hovertext}</b><br><br>aff_country=%{customdata[3]}<br>tot_affiliations=%{customdata[4]}<br>tot_pubs=%{customdata[5]}<br>aff_id=%{customdata[0]}<br>aff_name=%{customdata[1]}<br>aff_city=%{customdata[2]}<extra></extra>",
         "hovertext": [
          "University of Cambridge",
          "Wellcome Sanger Institute",
          "University of Edinburgh",
          "University of Oxford",
          "Imperial College London",
          "Wellcome Centre for Human Genetics",
          "King's College London",
          "University College London",
          "Queen Mary University of London",
          "Institute of Cancer Research",
          "Cardiff University",
          "University of Bristol",
          "Institute of Metabolic Science",
          "University of Leicester",
          "University of Manchester"
         ],
         "legendgroup": "United Kingdom",
         "marker": {
          "color": "#EF553B",
          "symbol": "circle"
         },
         "mode": "markers",
         "name": "United Kingdom",
         "showlegend": true,
         "type": "scatter",
         "x": [
          935,
          705,
          526,
          500,
          418,
          361,
          356,
          331,
          260,
          210,
          198,
          177,
          126,
          118,
          116
         ],
         "xaxis": "x",
         "y": [
          158,
          142,
          77,
          132,
          81,
          81,
          90,
          113,
          57,
          42,
          29,
          53,
          29,
          29,
          53
         ],
         "yaxis": "y"
        },
        {
         "customdata": [
          [
           "grid.5645.2",
           "Erasmus University Medical Center",
           "Rotterdam",
           "Netherlands",
           594,
           85
          ],
          [
           "grid.4494.d",
           "University Medical Center Groningen",
           "Groningen",
           "Netherlands",
           279,
           44
          ],
          [
           "grid.10419.3d",
           "Leiden University Medical Center",
           "Leiden",
           "Netherlands",
           244,
           60
          ],
          [
           "grid.7692.a",
           "University Medical Center Utrecht",
           "Utrecht",
           "Netherlands",
           206,
           42
          ],
          [
           "grid.10417.33",
           "Radboud University Nijmegen Medical Centre",
           "Nijmegen",
           "Netherlands",
           173,
           38
          ],
          [
           "grid.484519.5",
           "Amsterdam Neuroscience",
           "Amsterdam",
           "Netherlands",
           153,
           26
          ],
          [
           "grid.12380.38",
           "VU Amsterdam",
           "Amsterdam",
           "Netherlands",
           145,
           34
          ]
         ],
         "hovertemplate": "<b>%{hovertext}</b><br><br>aff_country=%{customdata[3]}<br>tot_affiliations=%{customdata[4]}<br>tot_pubs=%{customdata[5]}<br>aff_id=%{customdata[0]}<br>aff_name=%{customdata[1]}<br>aff_city=%{customdata[2]}<extra></extra>",
         "hovertext": [
          "Erasmus University Medical Center",
          "University Medical Center Groningen",
          "Leiden University Medical Center",
          "University Medical Center Utrecht",
          "Radboud University Nijmegen Medical Centre",
          "Amsterdam Neuroscience",
          "VU Amsterdam"
         ],
         "legendgroup": "Netherlands",
         "marker": {
          "color": "#00cc96",
          "symbol": "circle"
         },
         "mode": "markers",
         "name": "Netherlands",
         "showlegend": true,
         "type": "scatter",
         "x": [
          594,
          279,
          244,
          206,
          173,
          153,
          145
         ],
         "xaxis": "x",
         "y": [
          85,
          44,
          60,
          42,
          38,
          26,
          34
         ],
         "yaxis": "y"
        },
        {
         "customdata": [
          [
           "grid.7737.4",
           "University of Helsinki",
           "Helsinki",
           "Finland",
           476,
           55
          ],
          [
           "grid.14758.3f",
           "National Institute for Health and Welfare",
           "Helsinki",
           "Finland",
           164,
           39
          ],
          [
           "grid.502801.e",
           "Tampere University",
           "Tampere",
           "Finland",
           123,
           28
          ],
          [
           "grid.9668.1",
           "University of Eastern Finland",
           "Kuopio",
           "Finland",
           113,
           29
          ],
          [
           "grid.410705.7",
           "Kuopio University Hospital",
           "Kuopio",
           "Finland",
           112,
           34
          ]
         ],
         "hovertemplate": "<b>%{hovertext}</b><br><br>aff_country=%{customdata[3]}<br>tot_affiliations=%{customdata[4]}<br>tot_pubs=%{customdata[5]}<br>aff_id=%{customdata[0]}<br>aff_name=%{customdata[1]}<br>aff_city=%{customdata[2]}<extra></extra>",
         "hovertext": [
          "University of Helsinki",
          "National Institute for Health and Welfare",
          "Tampere University",
          "University of Eastern Finland",
          "Kuopio University Hospital"
         ],
         "legendgroup": "Finland",
         "marker": {
          "color": "#ab63fa",
          "symbol": "circle"
         },
         "mode": "markers",
         "name": "Finland",
         "showlegend": true,
         "type": "scatter",
         "x": [
          476,
          164,
          123,
          113,
          112
         ],
         "xaxis": "x",
         "y": [
          55,
          39,
          28,
          29,
          34
         ],
         "yaxis": "y"
        },
        {
         "customdata": [
          [
           "grid.4714.6",
           "Karolinska Institute",
           "Stockholm",
           "Sweden",
           382,
           100
          ],
          [
           "grid.8993.b",
           "Uppsala University",
           "Uppsala",
           "Sweden",
           186,
           58
          ],
          [
           "grid.4514.4",
           "Lund University",
           "Lund",
           "Sweden",
           157,
           43
          ]
         ],
         "hovertemplate": "<b>%{hovertext}</b><br><br>aff_country=%{customdata[3]}<br>tot_affiliations=%{customdata[4]}<br>tot_pubs=%{customdata[5]}<br>aff_id=%{customdata[0]}<br>aff_name=%{customdata[1]}<br>aff_city=%{customdata[2]}<extra></extra>",
         "hovertext": [
          "Karolinska Institute",
          "Uppsala University",
          "Lund University"
         ],
         "legendgroup": "Sweden",
         "marker": {
          "color": "#FFA15A",
          "symbol": "circle"
         },
         "mode": "markers",
         "name": "Sweden",
         "showlegend": true,
         "type": "scatter",
         "x": [
          382,
          186,
          157
         ],
         "xaxis": "x",
         "y": [
          100,
          58,
          43
         ],
         "yaxis": "y"
        },
        {
         "customdata": [
          [
           "grid.17063.33",
           "University of Toronto",
           "Toronto",
           "Canada",
           317,
           76
          ],
          [
           "grid.14709.3b",
           "McGill University",
           "Montreal",
           "Canada",
           174,
           47
          ],
          [
           "grid.42327.30",
           "Hospital for Sick Children",
           "Toronto",
           "Canada",
           165,
           23
          ],
          [
           "grid.17091.3e",
           "University of British Columbia",
           "Vancouver",
           "Canada",
           120,
           29
          ],
          [
           "grid.419890.d",
           "Ontario Institute for Cancer Research",
           "Toronto",
           "Canada",
           115,
           18
          ]
         ],
         "hovertemplate": "<b>%{hovertext}</b><br><br>aff_country=%{customdata[3]}<br>tot_affiliations=%{customdata[4]}<br>tot_pubs=%{customdata[5]}<br>aff_id=%{customdata[0]}<br>aff_name=%{customdata[1]}<br>aff_city=%{customdata[2]}<extra></extra>",
         "hovertext": [
          "University of Toronto",
          "McGill University",
          "Hospital for Sick Children",
          "University of British Columbia",
          "Ontario Institute for Cancer Research"
         ],
         "legendgroup": "Canada",
         "marker": {
          "color": "#19d3f3",
          "symbol": "circle"
         },
         "mode": "markers",
         "name": "Canada",
         "showlegend": true,
         "type": "scatter",
         "x": [
          317,
          174,
          165,
          120,
          115
         ],
         "xaxis": "x",
         "y": [
          76,
          47,
          23,
          29,
          18
         ],
         "yaxis": "y"
        },
        {
         "customdata": [
          [
           "grid.1003.2",
           "University of Queensland",
           "Brisbane",
           "Australia",
           316,
           78
          ],
          [
           "grid.1049.c",
           "QIMR Berghofer Medical Research Institute",
           "Brisbane",
           "Australia",
           232,
           56
          ],
          [
           "grid.1008.9",
           "University of Melbourne",
           "Melbourne",
           "Australia",
           214,
           68
          ]
         ],
         "hovertemplate": "<b>%{hovertext}</b><br><br>aff_country=%{customdata[3]}<br>tot_affiliations=%{customdata[4]}<br>tot_pubs=%{customdata[5]}<br>aff_id=%{customdata[0]}<br>aff_name=%{customdata[1]}<br>aff_city=%{customdata[2]}<extra></extra>",
         "hovertext": [
          "University of Queensland",
          "QIMR Berghofer Medical Research Institute",
          "University of Melbourne"
         ],
         "legendgroup": "Australia",
         "marker": {
          "color": "#FF6692",
          "symbol": "circle"
         },
         "mode": "markers",
         "name": "Australia",
         "showlegend": true,
         "type": "scatter",
         "x": [
          316,
          232,
          214
         ],
         "xaxis": "x",
         "y": [
          78,
          56,
          68
         ],
         "yaxis": "y"
        },
        {
         "customdata": [
          [
           "grid.7497.d",
           "German Cancer Research Center",
           "Heidelberg",
           "Germany",
           300,
           42
          ],
          [
           "grid.9647.c",
           "Leipzig University",
           "Leipzig",
           "Germany",
           168,
           28
          ],
          [
           "grid.6363.0",
           "Charité",
           "Berlin",
           "Germany",
           160,
           51
          ],
          [
           "grid.5603.0",
           "University of Greifswald",
           "Greifswald",
           "Germany",
           133,
           34
          ],
          [
           "grid.452396.f",
           "German Centre for Cardiovascular Research",
           "Berlin",
           "Germany",
           126,
           31
          ],
          [
           "grid.10388.32",
           "University of Bonn",
           "Bonn",
           "Germany",
           125,
           32
          ],
          [
           "grid.5252.0",
           "Ludwig Maximilian University of Munich",
           "Munich",
           "Germany",
           118,
           54
          ]
         ],
         "hovertemplate": "<b>%{hovertext}</b><br><br>aff_country=%{customdata[3]}<br>tot_affiliations=%{customdata[4]}<br>tot_pubs=%{customdata[5]}<br>aff_id=%{customdata[0]}<br>aff_name=%{customdata[1]}<br>aff_city=%{customdata[2]}<extra></extra>",
         "hovertext": [
          "German Cancer Research Center",
          "Leipzig University",
          "Charité",
          "University of Greifswald",
          "German Centre for Cardiovascular Research",
          "University of Bonn",
          "Ludwig Maximilian University of Munich"
         ],
         "legendgroup": "Germany",
         "marker": {
          "color": "#B6E880",
          "symbol": "circle"
         },
         "mode": "markers",
         "name": "Germany",
         "showlegend": true,
         "type": "scatter",
         "x": [
          300,
          168,
          160,
          133,
          126,
          125,
          118
         ],
         "xaxis": "x",
         "y": [
          42,
          28,
          51,
          34,
          31,
          32,
          54
         ],
         "yaxis": "y"
        },
        {
         "customdata": [
          [
           "grid.14013.37",
           "University of Iceland",
           "Reykjavik",
           "Iceland",
           295,
           81
          ]
         ],
         "hovertemplate": "<b>%{hovertext}</b><br><br>aff_country=%{customdata[3]}<br>tot_affiliations=%{customdata[4]}<br>tot_pubs=%{customdata[5]}<br>aff_id=%{customdata[0]}<br>aff_name=%{customdata[1]}<br>aff_city=%{customdata[2]}<extra></extra>",
         "hovertext": [
          "University of Iceland"
         ],
         "legendgroup": "Iceland",
         "marker": {
          "color": "#FF97FF",
          "symbol": "circle"
         },
         "mode": "markers",
         "name": "Iceland",
         "showlegend": true,
         "type": "scatter",
         "x": [
          295
         ],
         "xaxis": "x",
         "y": [
          81
         ],
         "yaxis": "y"
        },
        {
         "customdata": [
          [
           "grid.5254.6",
           "University of Copenhagen",
           "Copenhagen",
           "Denmark",
           273,
           75
          ],
          [
           "grid.7048.b",
           "Aarhus University",
           "Aarhus",
           "Denmark",
           210,
           39
          ],
          [
           "grid.452548.a",
           "Lundbeck Foundation",
           "Copenhagen",
           "Denmark",
           140,
           17
          ]
         ],
         "hovertemplate": "<b>%{hovertext}</b><br><br>aff_country=%{customdata[3]}<br>tot_affiliations=%{customdata[4]}<br>tot_pubs=%{customdata[5]}<br>aff_id=%{customdata[0]}<br>aff_name=%{customdata[1]}<br>aff_city=%{customdata[2]}<extra></extra>",
         "hovertext": [
          "University of Copenhagen",
          "Aarhus University",
          "Lundbeck Foundation"
         ],
         "legendgroup": "Denmark",
         "marker": {
          "color": "#FECB52",
          "symbol": "circle"
         },
         "mode": "markers",
         "name": "Denmark",
         "showlegend": true,
         "type": "scatter",
         "x": [
          273,
          210,
          140
         ],
         "xaxis": "x",
         "y": [
          75,
          39,
          17
         ],
         "yaxis": "y"
        },
        {
         "customdata": [
          [
           "grid.256111.0",
           "Fujian Agriculture and Forestry University",
           "Fuzhou",
           "China",
           237,
           10
          ],
          [
           "grid.419092.7",
           "Shanghai Institutes for Biological Sciences",
           "Shanghai",
           "China",
           156,
           21
          ],
          [
           "grid.21155.32",
           "Beijing Genomics Institute",
           "Shenzhen",
           "China",
           152,
           15
          ],
          [
           "grid.35155.37",
           "Huazhong Agricultural University",
           "Wuhan",
           "China",
           133,
           17
          ]
         ],
         "hovertemplate": "<b>%{hovertext}</b><br><br>aff_country=%{customdata[3]}<br>tot_affiliations=%{customdata[4]}<br>tot_pubs=%{customdata[5]}<br>aff_id=%{customdata[0]}<br>aff_name=%{customdata[1]}<br>aff_city=%{customdata[2]}<extra></extra>",
         "hovertext": [
          "Fujian Agriculture and Forestry University",
          "Shanghai Institutes for Biological Sciences",
          "Beijing Genomics Institute",
          "Huazhong Agricultural University"
         ],
         "legendgroup": "China",
         "marker": {
          "color": "#636efa",
          "symbol": "circle"
         },
         "mode": "markers",
         "name": "China",
         "showlegend": true,
         "type": "scatter",
         "x": [
          237,
          156,
          152,
          133
         ],
         "xaxis": "x",
         "y": [
          10,
          21,
          15,
          17
         ],
         "yaxis": "y"
        },
        {
         "customdata": [
          [
           "grid.4280.e",
           "National University of Singapore",
           "Singapore",
           "Singapore",
           227,
           64
          ],
          [
           "grid.418377.e",
           "Genome Institute of Singapore",
           "Singapore",
           "Singapore",
           133,
           27
          ],
          [
           "grid.428397.3",
           "Duke NUS Graduate Medical School",
           "Singapore",
           "Singapore",
           113,
           22
          ]
         ],
         "hovertemplate": "<b>%{hovertext}</b><br><br>aff_country=%{customdata[3]}<br>tot_affiliations=%{customdata[4]}<br>tot_pubs=%{customdata[5]}<br>aff_id=%{customdata[0]}<br>aff_name=%{customdata[1]}<br>aff_city=%{customdata[2]}<extra></extra>",
         "hovertext": [
          "National University of Singapore",
          "Genome Institute of Singapore",
          "Duke NUS Graduate Medical School"
         ],
         "legendgroup": "Singapore",
         "marker": {
          "color": "#EF553B",
          "symbol": "circle"
         },
         "mode": "markers",
         "name": "Singapore",
         "showlegend": true,
         "type": "scatter",
         "x": [
          227,
          133,
          113
         ],
         "xaxis": "x",
         "y": [
          64,
          27,
          22
         ],
         "yaxis": "y"
        },
        {
         "customdata": [
          [
           "grid.10939.32",
           "University of Tartu",
           "Tartu",
           "Estonia",
           197,
           57
          ]
         ],
         "hovertemplate": "<b>%{hovertext}</b><br><br>aff_country=%{customdata[3]}<br>tot_affiliations=%{customdata[4]}<br>tot_pubs=%{customdata[5]}<br>aff_id=%{customdata[0]}<br>aff_name=%{customdata[1]}<br>aff_city=%{customdata[2]}<extra></extra>",
         "hovertext": [
          "University of Tartu"
         ],
         "legendgroup": "Estonia",
         "marker": {
          "color": "#00cc96",
          "symbol": "circle"
         },
         "mode": "markers",
         "name": "Estonia",
         "showlegend": true,
         "type": "scatter",
         "x": [
          197
         ],
         "xaxis": "x",
         "y": [
          57
         ],
         "yaxis": "y"
        },
        {
         "customdata": [
          [
           "grid.26999.3d",
           "University of Tokyo",
           "Tokyo",
           "Japan",
           152,
           36
          ]
         ],
         "hovertemplate": "<b>%{hovertext}</b><br><br>aff_country=%{customdata[3]}<br>tot_affiliations=%{customdata[4]}<br>tot_pubs=%{customdata[5]}<br>aff_id=%{customdata[0]}<br>aff_name=%{customdata[1]}<br>aff_city=%{customdata[2]}<extra></extra>",
         "hovertext": [
          "University of Tokyo"
         ],
         "legendgroup": "Japan",
         "marker": {
          "color": "#ab63fa",
          "symbol": "circle"
         },
         "mode": "markers",
         "name": "Japan",
         "showlegend": true,
         "type": "scatter",
         "x": [
          152
         ],
         "xaxis": "x",
         "y": [
          36
         ],
         "yaxis": "y"
        },
        {
         "customdata": [
          [
           "grid.55325.34",
           "Oslo University Hospital",
           "Oslo",
           "Norway",
           145,
           46
          ]
         ],
         "hovertemplate": "<b>%{hovertext}</b><br><br>aff_country=%{customdata[3]}<br>tot_affiliations=%{customdata[4]}<br>tot_pubs=%{customdata[5]}<br>aff_id=%{customdata[0]}<br>aff_name=%{customdata[1]}<br>aff_city=%{customdata[2]}<extra></extra>",
         "hovertext": [
          "Oslo University Hospital"
         ],
         "legendgroup": "Norway",
         "marker": {
          "color": "#FFA15A",
          "symbol": "circle"
         },
         "mode": "markers",
         "name": "Norway",
         "showlegend": true,
         "type": "scatter",
         "x": [
          145
         ],
         "xaxis": "x",
         "y": [
          46
         ],
         "yaxis": "y"
        }
       ],
       "layout": {
        "autosize": true,
        "legend": {
         "title": {
          "text": "aff_country"
         },
         "tracegroupgap": 0
        },
        "template": {
         "data": {
          "bar": [
           {
            "error_x": {
             "color": "#2a3f5f"
            },
            "error_y": {
             "color": "#2a3f5f"
            },
            "marker": {
             "line": {
              "color": "#E5ECF6",
              "width": 0.5
             }
            },
            "type": "bar"
           }
          ],
          "barpolar": [
           {
            "marker": {
             "line": {
              "color": "#E5ECF6",
              "width": 0.5
             }
            },
            "type": "barpolar"
           }
          ],
          "carpet": [
           {
            "aaxis": {
             "endlinecolor": "#2a3f5f",
             "gridcolor": "white",
             "linecolor": "white",
             "minorgridcolor": "white",
             "startlinecolor": "#2a3f5f"
            },
            "baxis": {
             "endlinecolor": "#2a3f5f",
             "gridcolor": "white",
             "linecolor": "white",
             "minorgridcolor": "white",
             "startlinecolor": "#2a3f5f"
            },
            "type": "carpet"
           }
          ],
          "choropleth": [
           {
            "colorbar": {
             "outlinewidth": 0,
             "ticks": ""
            },
            "type": "choropleth"
           }
          ],
          "contour": [
           {
            "colorbar": {
             "outlinewidth": 0,
             "ticks": ""
            },
            "colorscale": [
             [
              0,
              "#0d0887"
             ],
             [
              0.1111111111111111,
              "#46039f"
             ],
             [
              0.2222222222222222,
              "#7201a8"
             ],
             [
              0.3333333333333333,
              "#9c179e"
             ],
             [
              0.4444444444444444,
              "#bd3786"
             ],
             [
              0.5555555555555556,
              "#d8576b"
             ],
             [
              0.6666666666666666,
              "#ed7953"
             ],
             [
              0.7777777777777778,
              "#fb9f3a"
             ],
             [
              0.8888888888888888,
              "#fdca26"
             ],
             [
              1,
              "#f0f921"
             ]
            ],
            "type": "contour"
           }
          ],
          "contourcarpet": [
           {
            "colorbar": {
             "outlinewidth": 0,
             "ticks": ""
            },
            "type": "contourcarpet"
           }
          ],
          "heatmap": [
           {
            "colorbar": {
             "outlinewidth": 0,
             "ticks": ""
            },
            "colorscale": [
             [
              0,
              "#0d0887"
             ],
             [
              0.1111111111111111,
              "#46039f"
             ],
             [
              0.2222222222222222,
              "#7201a8"
             ],
             [
              0.3333333333333333,
              "#9c179e"
             ],
             [
              0.4444444444444444,
              "#bd3786"
             ],
             [
              0.5555555555555556,
              "#d8576b"
             ],
             [
              0.6666666666666666,
              "#ed7953"
             ],
             [
              0.7777777777777778,
              "#fb9f3a"
             ],
             [
              0.8888888888888888,
              "#fdca26"
             ],
             [
              1,
              "#f0f921"
             ]
            ],
            "type": "heatmap"
           }
          ],
          "heatmapgl": [
           {
            "colorbar": {
             "outlinewidth": 0,
             "ticks": ""
            },
            "colorscale": [
             [
              0,
              "#0d0887"
             ],
             [
              0.1111111111111111,
              "#46039f"
             ],
             [
              0.2222222222222222,
              "#7201a8"
             ],
             [
              0.3333333333333333,
              "#9c179e"
             ],
             [
              0.4444444444444444,
              "#bd3786"
             ],
             [
              0.5555555555555556,
              "#d8576b"
             ],
             [
              0.6666666666666666,
              "#ed7953"
             ],
             [
              0.7777777777777778,
              "#fb9f3a"
             ],
             [
              0.8888888888888888,
              "#fdca26"
             ],
             [
              1,
              "#f0f921"
             ]
            ],
            "type": "heatmapgl"
           }
          ],
          "histogram": [
           {
            "marker": {
             "colorbar": {
              "outlinewidth": 0,
              "ticks": ""
             }
            },
            "type": "histogram"
           }
          ],
          "histogram2d": [
           {
            "colorbar": {
             "outlinewidth": 0,
             "ticks": ""
            },
            "colorscale": [
             [
              0,
              "#0d0887"
             ],
             [
              0.1111111111111111,
              "#46039f"
             ],
             [
              0.2222222222222222,
              "#7201a8"
             ],
             [
              0.3333333333333333,
              "#9c179e"
             ],
             [
              0.4444444444444444,
              "#bd3786"
             ],
             [
              0.5555555555555556,
              "#d8576b"
             ],
             [
              0.6666666666666666,
              "#ed7953"
             ],
             [
              0.7777777777777778,
              "#fb9f3a"
             ],
             [
              0.8888888888888888,
              "#fdca26"
             ],
             [
              1,
              "#f0f921"
             ]
            ],
            "type": "histogram2d"
           }
          ],
          "histogram2dcontour": [
           {
            "colorbar": {
             "outlinewidth": 0,
             "ticks": ""
            },
            "colorscale": [
             [
              0,
              "#0d0887"
             ],
             [
              0.1111111111111111,
              "#46039f"
             ],
             [
              0.2222222222222222,
              "#7201a8"
             ],
             [
              0.3333333333333333,
              "#9c179e"
             ],
             [
              0.4444444444444444,
              "#bd3786"
             ],
             [
              0.5555555555555556,
              "#d8576b"
             ],
             [
              0.6666666666666666,
              "#ed7953"
             ],
             [
              0.7777777777777778,
              "#fb9f3a"
             ],
             [
              0.8888888888888888,
              "#fdca26"
             ],
             [
              1,
              "#f0f921"
             ]
            ],
            "type": "histogram2dcontour"
           }
          ],
          "mesh3d": [
           {
            "colorbar": {
             "outlinewidth": 0,
             "ticks": ""
            },
            "type": "mesh3d"
           }
          ],
          "parcoords": [
           {
            "line": {
             "colorbar": {
              "outlinewidth": 0,
              "ticks": ""
             }
            },
            "type": "parcoords"
           }
          ],
          "pie": [
           {
            "automargin": true,
            "type": "pie"
           }
          ],
          "scatter": [
           {
            "marker": {
             "colorbar": {
              "outlinewidth": 0,
              "ticks": ""
             }
            },
            "type": "scatter"
           }
          ],
          "scatter3d": [
           {
            "line": {
             "colorbar": {
              "outlinewidth": 0,
              "ticks": ""
             }
            },
            "marker": {
             "colorbar": {
              "outlinewidth": 0,
              "ticks": ""
             }
            },
            "type": "scatter3d"
           }
          ],
          "scattercarpet": [
           {
            "marker": {
             "colorbar": {
              "outlinewidth": 0,
              "ticks": ""
             }
            },
            "type": "scattercarpet"
           }
          ],
          "scattergeo": [
           {
            "marker": {
             "colorbar": {
              "outlinewidth": 0,
              "ticks": ""
             }
            },
            "type": "scattergeo"
           }
          ],
          "scattergl": [
           {
            "marker": {
             "colorbar": {
              "outlinewidth": 0,
              "ticks": ""
             }
            },
            "type": "scattergl"
           }
          ],
          "scattermapbox": [
           {
            "marker": {
             "colorbar": {
              "outlinewidth": 0,
              "ticks": ""
             }
            },
            "type": "scattermapbox"
           }
          ],
          "scatterpolar": [
           {
            "marker": {
             "colorbar": {
              "outlinewidth": 0,
              "ticks": ""
             }
            },
            "type": "scatterpolar"
           }
          ],
          "scatterpolargl": [
           {
            "marker": {
             "colorbar": {
              "outlinewidth": 0,
              "ticks": ""
             }
            },
            "type": "scatterpolargl"
           }
          ],
          "scatterternary": [
           {
            "marker": {
             "colorbar": {
              "outlinewidth": 0,
              "ticks": ""
             }
            },
            "type": "scatterternary"
           }
          ],
          "surface": [
           {
            "colorbar": {
             "outlinewidth": 0,
             "ticks": ""
            },
            "colorscale": [
             [
              0,
              "#0d0887"
             ],
             [
              0.1111111111111111,
              "#46039f"
             ],
             [
              0.2222222222222222,
              "#7201a8"
             ],
             [
              0.3333333333333333,
              "#9c179e"
             ],
             [
              0.4444444444444444,
              "#bd3786"
             ],
             [
              0.5555555555555556,
              "#d8576b"
             ],
             [
              0.6666666666666666,
              "#ed7953"
             ],
             [
              0.7777777777777778,
              "#fb9f3a"
             ],
             [
              0.8888888888888888,
              "#fdca26"
             ],
             [
              1,
              "#f0f921"
             ]
            ],
            "type": "surface"
           }
          ],
          "table": [
           {
            "cells": {
             "fill": {
              "color": "#EBF0F8"
             },
             "line": {
              "color": "white"
             }
            },
            "header": {
             "fill": {
              "color": "#C8D4E3"
             },
             "line": {
              "color": "white"
             }
            },
            "type": "table"
           }
          ]
         },
         "layout": {
          "annotationdefaults": {
           "arrowcolor": "#2a3f5f",
           "arrowhead": 0,
           "arrowwidth": 1
          },
          "coloraxis": {
           "colorbar": {
            "outlinewidth": 0,
            "ticks": ""
           }
          },
          "colorscale": {
           "diverging": [
            [
             0,
             "#8e0152"
            ],
            [
             0.1,
             "#c51b7d"
            ],
            [
             0.2,
             "#de77ae"
            ],
            [
             0.3,
             "#f1b6da"
            ],
            [
             0.4,
             "#fde0ef"
            ],
            [
             0.5,
             "#f7f7f7"
            ],
            [
             0.6,
             "#e6f5d0"
            ],
            [
             0.7,
             "#b8e186"
            ],
            [
             0.8,
             "#7fbc41"
            ],
            [
             0.9,
             "#4d9221"
            ],
            [
             1,
             "#276419"
            ]
           ],
           "sequential": [
            [
             0,
             "#0d0887"
            ],
            [
             0.1111111111111111,
             "#46039f"
            ],
            [
             0.2222222222222222,
             "#7201a8"
            ],
            [
             0.3333333333333333,
             "#9c179e"
            ],
            [
             0.4444444444444444,
             "#bd3786"
            ],
            [
             0.5555555555555556,
             "#d8576b"
            ],
            [
             0.6666666666666666,
             "#ed7953"
            ],
            [
             0.7777777777777778,
             "#fb9f3a"
            ],
            [
             0.8888888888888888,
             "#fdca26"
            ],
            [
             1,
             "#f0f921"
            ]
           ],
           "sequentialminus": [
            [
             0,
             "#0d0887"
            ],
            [
             0.1111111111111111,
             "#46039f"
            ],
            [
             0.2222222222222222,
             "#7201a8"
            ],
            [
             0.3333333333333333,
             "#9c179e"
            ],
            [
             0.4444444444444444,
             "#bd3786"
            ],
            [
             0.5555555555555556,
             "#d8576b"
            ],
            [
             0.6666666666666666,
             "#ed7953"
            ],
            [
             0.7777777777777778,
             "#fb9f3a"
            ],
            [
             0.8888888888888888,
             "#fdca26"
            ],
            [
             1,
             "#f0f921"
            ]
           ]
          },
          "colorway": [
           "#636efa",
           "#EF553B",
           "#00cc96",
           "#ab63fa",
           "#FFA15A",
           "#19d3f3",
           "#FF6692",
           "#B6E880",
           "#FF97FF",
           "#FECB52"
          ],
          "font": {
           "color": "#2a3f5f"
          },
          "geo": {
           "bgcolor": "white",
           "lakecolor": "white",
           "landcolor": "#E5ECF6",
           "showlakes": true,
           "showland": true,
           "subunitcolor": "white"
          },
          "hoverlabel": {
           "align": "left"
          },
          "hovermode": "closest",
          "mapbox": {
           "style": "light"
          },
          "paper_bgcolor": "white",
          "plot_bgcolor": "#E5ECF6",
          "polar": {
           "angularaxis": {
            "gridcolor": "white",
            "linecolor": "white",
            "ticks": ""
           },
           "bgcolor": "#E5ECF6",
           "radialaxis": {
            "gridcolor": "white",
            "linecolor": "white",
            "ticks": ""
           }
          },
          "scene": {
           "xaxis": {
            "backgroundcolor": "#E5ECF6",
            "gridcolor": "white",
            "gridwidth": 2,
            "linecolor": "white",
            "showbackground": true,
            "ticks": "",
            "zerolinecolor": "white"
           },
           "yaxis": {
            "backgroundcolor": "#E5ECF6",
            "gridcolor": "white",
            "gridwidth": 2,
            "linecolor": "white",
            "showbackground": true,
            "ticks": "",
            "zerolinecolor": "white"
           },
           "zaxis": {
            "backgroundcolor": "#E5ECF6",
            "gridcolor": "white",
            "gridwidth": 2,
            "linecolor": "white",
            "showbackground": true,
            "ticks": "",
            "zerolinecolor": "white"
           }
          },
          "shapedefaults": {
           "line": {
            "color": "#2a3f5f"
           }
          },
          "ternary": {
           "aaxis": {
            "gridcolor": "white",
            "linecolor": "white",
            "ticks": ""
           },
           "baxis": {
            "gridcolor": "white",
            "linecolor": "white",
            "ticks": ""
           },
           "bgcolor": "#E5ECF6",
           "caxis": {
            "gridcolor": "white",
            "linecolor": "white",
            "ticks": ""
           }
          },
          "title": {
           "x": 0.05
          },
          "xaxis": {
           "automargin": true,
           "gridcolor": "white",
           "linecolor": "white",
           "ticks": "",
           "title": {
            "standoff": 15
           },
           "zerolinecolor": "white",
           "zerolinewidth": 2
          },
          "yaxis": {
           "automargin": true,
           "gridcolor": "white",
           "linecolor": "white",
           "ticks": "",
           "title": {
            "standoff": 15
           },
           "zerolinecolor": "white",
           "zerolinewidth": 2
          }
         }
        },
        "title": {
         "text": "Top 100 Institutions: Number of Publications VS Number of Authors"
        },
        "xaxis": {
         "anchor": "y",
         "autorange": true,
         "domain": [
          0,
          1
         ],
         "range": [
          25.45641447368419,
          1464.5435855263158
         ],
         "title": {
          "text": "tot_affiliations"
         },
         "type": "linear"
        },
        "yaxis": {
         "anchor": "x",
         "autorange": true,
         "domain": [
          0,
          1
         ],
         "range": [
          -8.678343949044585,
          283.6783439490446
         ],
         "title": {
          "text": "tot_pubs"
         },
         "type": "linear"
        }
       }
      },
      "image/png": "[encoded data removed]",
      "text/html": [
       "<div>\n",
       "        \n",
       "        \n",
       "            <div id=\"71a27dde-7a2a-4080-bc4e-c253fbe0113a\" class=\"plotly-graph-div\" style=\"height:525px; width:100%;\"></div>\n",
       "            <script type=\"text/javascript\">\n",
       "                require([\"plotly\"], function(Plotly) {\n",
       "                    window.PLOTLYENV=window.PLOTLYENV || {};\n",
       "                    \n",
       "                if (document.getElementById(\"71a27dde-7a2a-4080-bc4e-c253fbe0113a\")) {\n",
       "                    Plotly.newPlot(\n",
       "                        '71a27dde-7a2a-4080-bc4e-c253fbe0113a',\n",
       "                        [{\"customdata\": [[\"grid.66859.34\", \"Broad Institute\", \"Cambridge\", \"United States\", 1386, 225], [\"grid.38142.3c\", \"Harvard University\", \"Cambridge\", \"United States\", 1204, 265], [\"grid.32224.35\", \"Massachusetts General Hospital\", \"Boston\", \"United States\", 698, 140], [\"grid.59734.3c\", \"Icahn School of Medicine at Mount Sinai\", \"New York\", \"United States\", 638, 93], [\"grid.214458.e\", \"University of Michigan\\u2013Ann Arbor\", \"Ann Arbor\", \"United States\", 617, 86], [\"grid.168010.e\", \"Stanford University\", \"Stanford\", \"United States\", 565, 121], [\"grid.51462.34\", \"Memorial Sloan Kettering Cancer Center\", \"New York\", \"United States\", 475, 59], [\"grid.34477.33\", \"University of Washington\", \"Seattle\", \"United States\", 447, 88], [\"grid.266102.1\", \"University of California, San Francisco\", \"San Francisco\", \"United States\", 403, 87], [\"grid.4367.6\", \"Washington University in St. Louis\", \"St Louis\", \"United States\", 400, 65], [\"grid.65499.37\", \"Dana-Farber Cancer Institute\", \"Boston\", \"United States\", 395, 72], [\"grid.240871.8\", \"St. Jude Children's Research Hospital\", \"Memphis\", \"United States\", 364, 27], [\"grid.47100.32\", \"Yale University\", \"New Haven\", \"United States\", 322, 47], [\"grid.62560.37\", \"Brigham and Women's Hospital\", \"Boston\", \"United States\", 311, 94], [\"grid.266100.3\", \"University of California, San Diego\", \"San Diego\", \"United States\", 308, 64], [\"grid.21107.35\", \"Johns Hopkins University\", \"Baltimore\", \"United States\", 305, 78], [\"grid.10698.36\", \"University of North Carolina at Chapel Hill\", \"Chapel Hill\", \"United States\", 301, 71], [\"grid.25879.31\", \"University of Pennsylvania\", \"Philadelphia\", \"United States\", 297, 83], [\"grid.21729.3f\", \"Columbia University\", \"New York\", \"United States\", 279, 55], [\"grid.19006.3e\", \"University of California, Los Angeles\", \"Los Angeles\", \"United States\", 276, 72], [\"grid.39382.33\", \"Baylor College of Medicine\", \"Houston\", \"United States\", 265, 62], [\"grid.5386.8\", \"Cornell University\", \"Ithaca\", \"United States\", 233, 66], [\"grid.42505.36\", \"University of Southern California\", \"Los Angeles\", \"United States\", 221, 60], [\"grid.2515.3\", \"Boston Children's Hospital\", \"Boston\", \"United States\", 201, 63], [\"grid.270240.3\", \"Fred Hutchinson Cancer Research Center\", \"Seattle\", \"United States\", 171, 43], [\"grid.240145.6\", \"The University of Texas MD Anderson Cancer Center\", \"Houston\", \"United States\", 164, 37], [\"grid.189504.1\", \"Boston University\", \"Boston\", \"United States\", 154, 47], [\"grid.21925.3d\", \"University of Pittsburgh\", \"Pittsburgh\", \"United States\", 146, 41], [\"grid.279885.9\", \"National Heart Lung and Blood Institute\", \"Bethesda\", \"United States\", 142, 36], [\"grid.66875.3a\", \"Mayo Clinic\", \"Rochester\", \"United States\", 136, 38], [\"grid.94365.3d\", \"National Institutes of Health\", \"Bethesda\", \"United States\", 128, 42], [\"grid.48336.3a\", \"National Cancer Institute\", \"Rockville\", \"United States\", 128, 29], [\"grid.26790.3a\", \"University of Miami\", \"Coral Gables\", \"United States\", 118, 18], [\"grid.267313.2\", \"The University of Texas Southwestern Medical Center\", \"Dallas\", \"United States\", 115, 26], [\"grid.412807.8\", \"Vanderbilt University Medical Center\", \"Nashville\", \"United States\", 113, 28], [\"grid.16753.36\", \"Northwestern University\", \"Evanston\", \"United States\", 113, 21], [\"grid.241167.7\", \"Wake Forest University\", \"Winston-Salem\", \"United States\", 109, 27], [\"grid.418158.1\", \"Roche (United States)\", \"Nutley\", \"United States\", 109, 16], [\"grid.239844.0\", \"Harbor\\u2013UCLA Medical Center\", \"Torrance\", \"United States\", 108, 24], [\"grid.223827.e\", \"University of Utah\", \"Salt Lake City\", \"United States\", 105, 44], [\"grid.267308.8\", \"The University of Texas Health Science Center at Houston\", \"Houston\", \"United States\", 104, 38]], \"hovertemplate\": \"<b>%{hovertext}</b><br><br>aff_country=%{customdata[3]}<br>tot_affiliations=%{customdata[4]}<br>tot_pubs=%{customdata[5]}<br>aff_id=%{customdata[0]}<br>aff_name=%{customdata[1]}<br>aff_city=%{customdata[2]}<extra></extra>\", \"hovertext\": [\"Broad Institute\", \"Harvard University\", \"Massachusetts General Hospital\", \"Icahn School of Medicine at Mount Sinai\", \"University of Michigan\\u2013Ann Arbor\", \"Stanford University\", \"Memorial Sloan Kettering Cancer Center\", \"University of Washington\", \"University of California, San Francisco\", \"Washington University in St. Louis\", \"Dana-Farber Cancer Institute\", \"St. Jude Children's Research Hospital\", \"Yale University\", \"Brigham and Women's Hospital\", \"University of California, San Diego\", \"Johns Hopkins University\", \"University of North Carolina at Chapel Hill\", \"University of Pennsylvania\", \"Columbia University\", \"University of California, Los Angeles\", \"Baylor College of Medicine\", \"Cornell University\", \"University of Southern California\", \"Boston Children's Hospital\", \"Fred Hutchinson Cancer Research Center\", \"The University of Texas MD Anderson Cancer Center\", \"Boston University\", \"University of Pittsburgh\", \"National Heart Lung and Blood Institute\", \"Mayo Clinic\", \"National Institutes of Health\", \"National Cancer Institute\", \"University of Miami\", \"The University of Texas Southwestern Medical Center\", \"Vanderbilt University Medical Center\", \"Northwestern University\", \"Wake Forest University\", \"Roche (United States)\", \"Harbor\\u2013UCLA Medical Center\", \"University of Utah\", \"The University of Texas Health Science Center at Houston\"], \"legendgroup\": \"United States\", \"marker\": {\"color\": \"#636efa\", \"symbol\": \"circle\"}, \"mode\": \"markers\", \"name\": \"United States\", \"showlegend\": true, \"type\": \"scatter\", \"x\": [1386, 1204, 698, 638, 617, 565, 475, 447, 403, 400, 395, 364, 322, 311, 308, 305, 301, 297, 279, 276, 265, 233, 221, 201, 171, 164, 154, 146, 142, 136, 128, 128, 118, 115, 113, 113, 109, 109, 108, 105, 104], \"xaxis\": \"x\", \"y\": [225, 265, 140, 93, 86, 121, 59, 88, 87, 65, 72, 27, 47, 94, 64, 78, 71, 83, 55, 72, 62, 66, 60, 63, 43, 37, 47, 41, 36, 38, 42, 29, 18, 26, 28, 21, 27, 16, 24, 44, 38], \"yaxis\": \"y\"}, {\"customdata\": [[\"grid.5335.0\", \"University of Cambridge\", \"Cambridge\", \"United Kingdom\", 935, 158], [\"grid.10306.34\", \"Wellcome Sanger Institute\", \"Cambridge\", \"United Kingdom\", 705, 142], [\"grid.4305.2\", \"University of Edinburgh\", \"Edinburgh\", \"United Kingdom\", 526, 77], [\"grid.4991.5\", \"University of Oxford\", \"Oxford\", \"United Kingdom\", 500, 132], [\"grid.7445.2\", \"Imperial College London\", \"London\", \"United Kingdom\", 418, 81], [\"grid.270683.8\", \"Wellcome Centre for Human Genetics\", \"Oxford\", \"United Kingdom\", 361, 81], [\"grid.13097.3c\", \"King's College London\", \"London\", \"United Kingdom\", 356, 90], [\"grid.83440.3b\", \"University College London\", \"London\", \"United Kingdom\", 331, 113], [\"grid.4868.2\", \"Queen Mary University of London\", \"London\", \"United Kingdom\", 260, 57], [\"grid.18886.3f\", \"Institute of Cancer Research\", \"London\", \"United Kingdom\", 210, 42], [\"grid.5600.3\", \"Cardiff University\", \"Cardiff\", \"United Kingdom\", 198, 29], [\"grid.5337.2\", \"University of Bristol\", \"Bristol\", \"United Kingdom\", 177, 53], [\"grid.470900.a\", \"Institute of Metabolic Science\", \"Cambridge\", \"United Kingdom\", 126, 29], [\"grid.9918.9\", \"University of Leicester\", \"Leicester\", \"United Kingdom\", 118, 29], [\"grid.5379.8\", \"University of Manchester\", \"Manchester\", \"United Kingdom\", 116, 53]], \"hovertemplate\": \"<b>%{hovertext}</b><br><br>aff_country=%{customdata[3]}<br>tot_affiliations=%{customdata[4]}<br>tot_pubs=%{customdata[5]}<br>aff_id=%{customdata[0]}<br>aff_name=%{customdata[1]}<br>aff_city=%{customdata[2]}<extra></extra>\", \"hovertext\": [\"University of Cambridge\", \"Wellcome Sanger Institute\", \"University of Edinburgh\", \"University of Oxford\", \"Imperial College London\", \"Wellcome Centre for Human Genetics\", \"King's College London\", \"University College London\", \"Queen Mary University of London\", \"Institute of Cancer Research\", \"Cardiff University\", \"University of Bristol\", \"Institute of Metabolic Science\", \"University of Leicester\", \"University of Manchester\"], \"legendgroup\": \"United Kingdom\", \"marker\": {\"color\": \"#EF553B\", \"symbol\": \"circle\"}, \"mode\": \"markers\", \"name\": \"United Kingdom\", \"showlegend\": true, \"type\": \"scatter\", \"x\": [935, 705, 526, 500, 418, 361, 356, 331, 260, 210, 198, 177, 126, 118, 116], \"xaxis\": \"x\", \"y\": [158, 142, 77, 132, 81, 81, 90, 113, 57, 42, 29, 53, 29, 29, 53], \"yaxis\": \"y\"}, {\"customdata\": [[\"grid.5645.2\", \"Erasmus University Medical Center\", \"Rotterdam\", \"Netherlands\", 594, 85], [\"grid.4494.d\", \"University Medical Center Groningen\", \"Groningen\", \"Netherlands\", 279, 44], [\"grid.10419.3d\", \"Leiden University Medical Center\", \"Leiden\", \"Netherlands\", 244, 60], [\"grid.7692.a\", \"University Medical Center Utrecht\", \"Utrecht\", \"Netherlands\", 206, 42], [\"grid.10417.33\", \"Radboud University Nijmegen Medical Centre\", \"Nijmegen\", \"Netherlands\", 173, 38], [\"grid.484519.5\", \"Amsterdam Neuroscience\", \"Amsterdam\", \"Netherlands\", 153, 26], [\"grid.12380.38\", \"VU Amsterdam\", \"Amsterdam\", \"Netherlands\", 145, 34]], \"hovertemplate\": \"<b>%{hovertext}</b><br><br>aff_country=%{customdata[3]}<br>tot_affiliations=%{customdata[4]}<br>tot_pubs=%{customdata[5]}<br>aff_id=%{customdata[0]}<br>aff_name=%{customdata[1]}<br>aff_city=%{customdata[2]}<extra></extra>\", \"hovertext\": [\"Erasmus University Medical Center\", \"University Medical Center Groningen\", \"Leiden University Medical Center\", \"University Medical Center Utrecht\", \"Radboud University Nijmegen Medical Centre\", \"Amsterdam Neuroscience\", \"VU Amsterdam\"], \"legendgroup\": \"Netherlands\", \"marker\": {\"color\": \"#00cc96\", \"symbol\": \"circle\"}, \"mode\": \"markers\", \"name\": \"Netherlands\", \"showlegend\": true, \"type\": \"scatter\", \"x\": [594, 279, 244, 206, 173, 153, 145], \"xaxis\": \"x\", \"y\": [85, 44, 60, 42, 38, 26, 34], \"yaxis\": \"y\"}, {\"customdata\": [[\"grid.7737.4\", \"University of Helsinki\", \"Helsinki\", \"Finland\", 476, 55], [\"grid.14758.3f\", \"National Institute for Health and Welfare\", \"Helsinki\", \"Finland\", 164, 39], [\"grid.502801.e\", \"Tampere University\", \"Tampere\", \"Finland\", 123, 28], [\"grid.9668.1\", \"University of Eastern Finland\", \"Kuopio\", \"Finland\", 113, 29], [\"grid.410705.7\", \"Kuopio University Hospital\", \"Kuopio\", \"Finland\", 112, 34]], \"hovertemplate\": \"<b>%{hovertext}</b><br><br>aff_country=%{customdata[3]}<br>tot_affiliations=%{customdata[4]}<br>tot_pubs=%{customdata[5]}<br>aff_id=%{customdata[0]}<br>aff_name=%{customdata[1]}<br>aff_city=%{customdata[2]}<extra></extra>\", \"hovertext\": [\"University of Helsinki\", \"National Institute for Health and Welfare\", \"Tampere University\", \"University of Eastern Finland\", \"Kuopio University Hospital\"], \"legendgroup\": \"Finland\", \"marker\": {\"color\": \"#ab63fa\", \"symbol\": \"circle\"}, \"mode\": \"markers\", \"name\": \"Finland\", \"showlegend\": true, \"type\": \"scatter\", \"x\": [476, 164, 123, 113, 112], \"xaxis\": \"x\", \"y\": [55, 39, 28, 29, 34], \"yaxis\": \"y\"}, {\"customdata\": [[\"grid.4714.6\", \"Karolinska Institute\", \"Stockholm\", \"Sweden\", 382, 100], [\"grid.8993.b\", \"Uppsala University\", \"Uppsala\", \"Sweden\", 186, 58], [\"grid.4514.4\", \"Lund University\", \"Lund\", \"Sweden\", 157, 43]], \"hovertemplate\": \"<b>%{hovertext}</b><br><br>aff_country=%{customdata[3]}<br>tot_affiliations=%{customdata[4]}<br>tot_pubs=%{customdata[5]}<br>aff_id=%{customdata[0]}<br>aff_name=%{customdata[1]}<br>aff_city=%{customdata[2]}<extra></extra>\", \"hovertext\": [\"Karolinska Institute\", \"Uppsala University\", \"Lund University\"], \"legendgroup\": \"Sweden\", \"marker\": {\"color\": \"#FFA15A\", \"symbol\": \"circle\"}, \"mode\": \"markers\", \"name\": \"Sweden\", \"showlegend\": true, \"type\": \"scatter\", \"x\": [382, 186, 157], \"xaxis\": \"x\", \"y\": [100, 58, 43], \"yaxis\": \"y\"}, {\"customdata\": [[\"grid.17063.33\", \"University of Toronto\", \"Toronto\", \"Canada\", 317, 76], [\"grid.14709.3b\", \"McGill University\", \"Montreal\", \"Canada\", 174, 47], [\"grid.42327.30\", \"Hospital for Sick Children\", \"Toronto\", \"Canada\", 165, 23], [\"grid.17091.3e\", \"University of British Columbia\", \"Vancouver\", \"Canada\", 120, 29], [\"grid.419890.d\", \"Ontario Institute for Cancer Research\", \"Toronto\", \"Canada\", 115, 18]], \"hovertemplate\": \"<b>%{hovertext}</b><br><br>aff_country=%{customdata[3]}<br>tot_affiliations=%{customdata[4]}<br>tot_pubs=%{customdata[5]}<br>aff_id=%{customdata[0]}<br>aff_name=%{customdata[1]}<br>aff_city=%{customdata[2]}<extra></extra>\", \"hovertext\": [\"University of Toronto\", \"McGill University\", \"Hospital for Sick Children\", \"University of British Columbia\", \"Ontario Institute for Cancer Research\"], \"legendgroup\": \"Canada\", \"marker\": {\"color\": \"#19d3f3\", \"symbol\": \"circle\"}, \"mode\": \"markers\", \"name\": \"Canada\", \"showlegend\": true, \"type\": \"scatter\", \"x\": [317, 174, 165, 120, 115], \"xaxis\": \"x\", \"y\": [76, 47, 23, 29, 18], \"yaxis\": \"y\"}, {\"customdata\": [[\"grid.1003.2\", \"University of Queensland\", \"Brisbane\", \"Australia\", 316, 78], [\"grid.1049.c\", \"QIMR Berghofer Medical Research Institute\", \"Brisbane\", \"Australia\", 232, 56], [\"grid.1008.9\", \"University of Melbourne\", \"Melbourne\", \"Australia\", 214, 68]], \"hovertemplate\": \"<b>%{hovertext}</b><br><br>aff_country=%{customdata[3]}<br>tot_affiliations=%{customdata[4]}<br>tot_pubs=%{customdata[5]}<br>aff_id=%{customdata[0]}<br>aff_name=%{customdata[1]}<br>aff_city=%{customdata[2]}<extra></extra>\", \"hovertext\": [\"University of Queensland\", \"QIMR Berghofer Medical Research Institute\", \"University of Melbourne\"], \"legendgroup\": \"Australia\", \"marker\": {\"color\": \"#FF6692\", \"symbol\": \"circle\"}, \"mode\": \"markers\", \"name\": \"Australia\", \"showlegend\": true, \"type\": \"scatter\", \"x\": [316, 232, 214], \"xaxis\": \"x\", \"y\": [78, 56, 68], \"yaxis\": \"y\"}, {\"customdata\": [[\"grid.7497.d\", \"German Cancer Research Center\", \"Heidelberg\", \"Germany\", 300, 42], [\"grid.9647.c\", \"Leipzig University\", \"Leipzig\", \"Germany\", 168, 28], [\"grid.6363.0\", \"Charit\\u00e9\", \"Berlin\", \"Germany\", 160, 51], [\"grid.5603.0\", \"University of Greifswald\", \"Greifswald\", \"Germany\", 133, 34], [\"grid.452396.f\", \"German Centre for Cardiovascular Research\", \"Berlin\", \"Germany\", 126, 31], [\"grid.10388.32\", \"University of Bonn\", \"Bonn\", \"Germany\", 125, 32], [\"grid.5252.0\", \"Ludwig Maximilian University of Munich\", \"Munich\", \"Germany\", 118, 54]], \"hovertemplate\": \"<b>%{hovertext}</b><br><br>aff_country=%{customdata[3]}<br>tot_affiliations=%{customdata[4]}<br>tot_pubs=%{customdata[5]}<br>aff_id=%{customdata[0]}<br>aff_name=%{customdata[1]}<br>aff_city=%{customdata[2]}<extra></extra>\", \"hovertext\": [\"German Cancer Research Center\", \"Leipzig University\", \"Charit\\u00e9\", \"University of Greifswald\", \"German Centre for Cardiovascular Research\", \"University of Bonn\", \"Ludwig Maximilian University of Munich\"], \"legendgroup\": \"Germany\", \"marker\": {\"color\": \"#B6E880\", \"symbol\": \"circle\"}, \"mode\": \"markers\", \"name\": \"Germany\", \"showlegend\": true, \"type\": \"scatter\", \"x\": [300, 168, 160, 133, 126, 125, 118], \"xaxis\": \"x\", \"y\": [42, 28, 51, 34, 31, 32, 54], \"yaxis\": \"y\"}, {\"customdata\": [[\"grid.14013.37\", \"University of Iceland\", \"Reykjavik\", \"Iceland\", 295, 81]], \"hovertemplate\": \"<b>%{hovertext}</b><br><br>aff_country=%{customdata[3]}<br>tot_affiliations=%{customdata[4]}<br>tot_pubs=%{customdata[5]}<br>aff_id=%{customdata[0]}<br>aff_name=%{customdata[1]}<br>aff_city=%{customdata[2]}<extra></extra>\", \"hovertext\": [\"University of Iceland\"], \"legendgroup\": \"Iceland\", \"marker\": {\"color\": \"#FF97FF\", \"symbol\": \"circle\"}, \"mode\": \"markers\", \"name\": \"Iceland\", \"showlegend\": true, \"type\": \"scatter\", \"x\": [295], \"xaxis\": \"x\", \"y\": [81], \"yaxis\": \"y\"}, {\"customdata\": [[\"grid.5254.6\", \"University of Copenhagen\", \"Copenhagen\", \"Denmark\", 273, 75], [\"grid.7048.b\", \"Aarhus University\", \"Aarhus\", \"Denmark\", 210, 39], [\"grid.452548.a\", \"Lundbeck Foundation\", \"Copenhagen\", \"Denmark\", 140, 17]], \"hovertemplate\": \"<b>%{hovertext}</b><br><br>aff_country=%{customdata[3]}<br>tot_affiliations=%{customdata[4]}<br>tot_pubs=%{customdata[5]}<br>aff_id=%{customdata[0]}<br>aff_name=%{customdata[1]}<br>aff_city=%{customdata[2]}<extra></extra>\", \"hovertext\": [\"University of Copenhagen\", \"Aarhus University\", \"Lundbeck Foundation\"], \"legendgroup\": \"Denmark\", \"marker\": {\"color\": \"#FECB52\", \"symbol\": \"circle\"}, \"mode\": \"markers\", \"name\": \"Denmark\", \"showlegend\": true, \"type\": \"scatter\", \"x\": [273, 210, 140], \"xaxis\": \"x\", \"y\": [75, 39, 17], \"yaxis\": \"y\"}, {\"customdata\": [[\"grid.256111.0\", \"Fujian Agriculture and Forestry University\", \"Fuzhou\", \"China\", 237, 10], [\"grid.419092.7\", \"Shanghai Institutes for Biological Sciences\", \"Shanghai\", \"China\", 156, 21], [\"grid.21155.32\", \"Beijing Genomics Institute\", \"Shenzhen\", \"China\", 152, 15], [\"grid.35155.37\", \"Huazhong Agricultural University\", \"Wuhan\", \"China\", 133, 17]], \"hovertemplate\": \"<b>%{hovertext}</b><br><br>aff_country=%{customdata[3]}<br>tot_affiliations=%{customdata[4]}<br>tot_pubs=%{customdata[5]}<br>aff_id=%{customdata[0]}<br>aff_name=%{customdata[1]}<br>aff_city=%{customdata[2]}<extra></extra>\", \"hovertext\": [\"Fujian Agriculture and Forestry University\", \"Shanghai Institutes for Biological Sciences\", \"Beijing Genomics Institute\", \"Huazhong Agricultural University\"], \"legendgroup\": \"China\", \"marker\": {\"color\": \"#636efa\", \"symbol\": \"circle\"}, \"mode\": \"markers\", \"name\": \"China\", \"showlegend\": true, \"type\": \"scatter\", \"x\": [237, 156, 152, 133], \"xaxis\": \"x\", \"y\": [10, 21, 15, 17], \"yaxis\": \"y\"}, {\"customdata\": [[\"grid.4280.e\", \"National University of Singapore\", \"Singapore\", \"Singapore\", 227, 64], [\"grid.418377.e\", \"Genome Institute of Singapore\", \"Singapore\", \"Singapore\", 133, 27], [\"grid.428397.3\", \"Duke NUS Graduate Medical School\", \"Singapore\", \"Singapore\", 113, 22]], \"hovertemplate\": \"<b>%{hovertext}</b><br><br>aff_country=%{customdata[3]}<br>tot_affiliations=%{customdata[4]}<br>tot_pubs=%{customdata[5]}<br>aff_id=%{customdata[0]}<br>aff_name=%{customdata[1]}<br>aff_city=%{customdata[2]}<extra></extra>\", \"hovertext\": [\"National University of Singapore\", \"Genome Institute of Singapore\", \"Duke NUS Graduate Medical School\"], \"legendgroup\": \"Singapore\", \"marker\": {\"color\": \"#EF553B\", \"symbol\": \"circle\"}, \"mode\": \"markers\", \"name\": \"Singapore\", \"showlegend\": true, \"type\": \"scatter\", \"x\": [227, 133, 113], \"xaxis\": \"x\", \"y\": [64, 27, 22], \"yaxis\": \"y\"}, {\"customdata\": [[\"grid.10939.32\", \"University of Tartu\", \"Tartu\", \"Estonia\", 197, 57]], \"hovertemplate\": \"<b>%{hovertext}</b><br><br>aff_country=%{customdata[3]}<br>tot_affiliations=%{customdata[4]}<br>tot_pubs=%{customdata[5]}<br>aff_id=%{customdata[0]}<br>aff_name=%{customdata[1]}<br>aff_city=%{customdata[2]}<extra></extra>\", \"hovertext\": [\"University of Tartu\"], \"legendgroup\": \"Estonia\", \"marker\": {\"color\": \"#00cc96\", \"symbol\": \"circle\"}, \"mode\": \"markers\", \"name\": \"Estonia\", \"showlegend\": true, \"type\": \"scatter\", \"x\": [197], \"xaxis\": \"x\", \"y\": [57], \"yaxis\": \"y\"}, {\"customdata\": [[\"grid.26999.3d\", \"University of Tokyo\", \"Tokyo\", \"Japan\", 152, 36]], \"hovertemplate\": \"<b>%{hovertext}</b><br><br>aff_country=%{customdata[3]}<br>tot_affiliations=%{customdata[4]}<br>tot_pubs=%{customdata[5]}<br>aff_id=%{customdata[0]}<br>aff_name=%{customdata[1]}<br>aff_city=%{customdata[2]}<extra></extra>\", \"hovertext\": [\"University of Tokyo\"], \"legendgroup\": \"Japan\", \"marker\": {\"color\": \"#ab63fa\", \"symbol\": \"circle\"}, \"mode\": \"markers\", \"name\": \"Japan\", \"showlegend\": true, \"type\": \"scatter\", \"x\": [152], \"xaxis\": \"x\", \"y\": [36], \"yaxis\": \"y\"}, {\"customdata\": [[\"grid.55325.34\", \"Oslo University Hospital\", \"Oslo\", \"Norway\", 145, 46]], \"hovertemplate\": \"<b>%{hovertext}</b><br><br>aff_country=%{customdata[3]}<br>tot_affiliations=%{customdata[4]}<br>tot_pubs=%{customdata[5]}<br>aff_id=%{customdata[0]}<br>aff_name=%{customdata[1]}<br>aff_city=%{customdata[2]}<extra></extra>\", \"hovertext\": [\"Oslo University Hospital\"], \"legendgroup\": \"Norway\", \"marker\": {\"color\": \"#FFA15A\", \"symbol\": \"circle\"}, \"mode\": \"markers\", \"name\": \"Norway\", \"showlegend\": true, \"type\": \"scatter\", \"x\": [145], \"xaxis\": \"x\", \"y\": [46], \"yaxis\": \"y\"}],\n",
       "                        {\"legend\": {\"title\": {\"text\": \"aff_country\"}, \"tracegroupgap\": 0}, \"template\": {\"data\": {\"bar\": [{\"error_x\": {\"color\": \"#2a3f5f\"}, \"error_y\": {\"color\": \"#2a3f5f\"}, \"marker\": {\"line\": {\"color\": \"#E5ECF6\", \"width\": 0.5}}, \"type\": \"bar\"}], \"barpolar\": [{\"marker\": {\"line\": {\"color\": \"#E5ECF6\", \"width\": 0.5}}, \"type\": \"barpolar\"}], \"carpet\": [{\"aaxis\": {\"endlinecolor\": \"#2a3f5f\", \"gridcolor\": \"white\", \"linecolor\": \"white\", \"minorgridcolor\": \"white\", \"startlinecolor\": \"#2a3f5f\"}, \"baxis\": {\"endlinecolor\": \"#2a3f5f\", \"gridcolor\": \"white\", \"linecolor\": \"white\", \"minorgridcolor\": \"white\", \"startlinecolor\": \"#2a3f5f\"}, \"type\": \"carpet\"}], \"choropleth\": [{\"colorbar\": {\"outlinewidth\": 0, \"ticks\": \"\"}, \"type\": \"choropleth\"}], \"contour\": [{\"colorbar\": {\"outlinewidth\": 0, \"ticks\": \"\"}, \"colorscale\": [[0.0, \"#0d0887\"], [0.1111111111111111, \"#46039f\"], [0.2222222222222222, \"#7201a8\"], [0.3333333333333333, \"#9c179e\"], [0.4444444444444444, \"#bd3786\"], [0.5555555555555556, \"#d8576b\"], [0.6666666666666666, \"#ed7953\"], [0.7777777777777778, \"#fb9f3a\"], [0.8888888888888888, \"#fdca26\"], [1.0, \"#f0f921\"]], \"type\": \"contour\"}], \"contourcarpet\": [{\"colorbar\": {\"outlinewidth\": 0, \"ticks\": \"\"}, \"type\": \"contourcarpet\"}], \"heatmap\": [{\"colorbar\": {\"outlinewidth\": 0, \"ticks\": \"\"}, \"colorscale\": [[0.0, \"#0d0887\"], [0.1111111111111111, \"#46039f\"], [0.2222222222222222, \"#7201a8\"], [0.3333333333333333, \"#9c179e\"], [0.4444444444444444, \"#bd3786\"], [0.5555555555555556, \"#d8576b\"], [0.6666666666666666, \"#ed7953\"], [0.7777777777777778, \"#fb9f3a\"], [0.8888888888888888, \"#fdca26\"], [1.0, \"#f0f921\"]], \"type\": \"heatmap\"}], \"heatmapgl\": [{\"colorbar\": {\"outlinewidth\": 0, \"ticks\": \"\"}, \"colorscale\": [[0.0, \"#0d0887\"], [0.1111111111111111, \"#46039f\"], [0.2222222222222222, \"#7201a8\"], [0.3333333333333333, \"#9c179e\"], [0.4444444444444444, \"#bd3786\"], [0.5555555555555556, \"#d8576b\"], [0.6666666666666666, \"#ed7953\"], [0.7777777777777778, \"#fb9f3a\"], [0.8888888888888888, \"#fdca26\"], [1.0, \"#f0f921\"]], \"type\": \"heatmapgl\"}], \"histogram\": [{\"marker\": {\"colorbar\": {\"outlinewidth\": 0, \"ticks\": \"\"}}, \"type\": \"histogram\"}], \"histogram2d\": [{\"colorbar\": {\"outlinewidth\": 0, \"ticks\": \"\"}, \"colorscale\": [[0.0, \"#0d0887\"], [0.1111111111111111, \"#46039f\"], [0.2222222222222222, \"#7201a8\"], [0.3333333333333333, \"#9c179e\"], [0.4444444444444444, \"#bd3786\"], [0.5555555555555556, \"#d8576b\"], [0.6666666666666666, \"#ed7953\"], [0.7777777777777778, \"#fb9f3a\"], [0.8888888888888888, \"#fdca26\"], [1.0, \"#f0f921\"]], \"type\": \"histogram2d\"}], \"histogram2dcontour\": [{\"colorbar\": {\"outlinewidth\": 0, \"ticks\": \"\"}, \"colorscale\": [[0.0, \"#0d0887\"], [0.1111111111111111, \"#46039f\"], [0.2222222222222222, \"#7201a8\"], [0.3333333333333333, \"#9c179e\"], [0.4444444444444444, \"#bd3786\"], [0.5555555555555556, \"#d8576b\"], [0.6666666666666666, \"#ed7953\"], [0.7777777777777778, \"#fb9f3a\"], [0.8888888888888888, \"#fdca26\"], [1.0, \"#f0f921\"]], \"type\": \"histogram2dcontour\"}], \"mesh3d\": [{\"colorbar\": {\"outlinewidth\": 0, \"ticks\": \"\"}, \"type\": \"mesh3d\"}], \"parcoords\": [{\"line\": {\"colorbar\": {\"outlinewidth\": 0, \"ticks\": \"\"}}, \"type\": \"parcoords\"}], \"pie\": [{\"automargin\": true, \"type\": \"pie\"}], \"scatter\": [{\"marker\": {\"colorbar\": {\"outlinewidth\": 0, \"ticks\": \"\"}}, \"type\": \"scatter\"}], \"scatter3d\": [{\"line\": {\"colorbar\": {\"outlinewidth\": 0, \"ticks\": \"\"}}, \"marker\": {\"colorbar\": {\"outlinewidth\": 0, \"ticks\": \"\"}}, \"type\": \"scatter3d\"}], \"scattercarpet\": [{\"marker\": {\"colorbar\": {\"outlinewidth\": 0, \"ticks\": \"\"}}, \"type\": \"scattercarpet\"}], \"scattergeo\": [{\"marker\": {\"colorbar\": {\"outlinewidth\": 0, \"ticks\": \"\"}}, \"type\": \"scattergeo\"}], \"scattergl\": [{\"marker\": {\"colorbar\": {\"outlinewidth\": 0, \"ticks\": \"\"}}, \"type\": \"scattergl\"}], \"scattermapbox\": [{\"marker\": {\"colorbar\": {\"outlinewidth\": 0, \"ticks\": \"\"}}, \"type\": \"scattermapbox\"}], \"scatterpolar\": [{\"marker\": {\"colorbar\": {\"outlinewidth\": 0, \"ticks\": \"\"}}, \"type\": \"scatterpolar\"}], \"scatterpolargl\": [{\"marker\": {\"colorbar\": {\"outlinewidth\": 0, \"ticks\": \"\"}}, \"type\": \"scatterpolargl\"}], \"scatterternary\": [{\"marker\": {\"colorbar\": {\"outlinewidth\": 0, \"ticks\": \"\"}}, \"type\": \"scatterternary\"}], \"surface\": [{\"colorbar\": {\"outlinewidth\": 0, \"ticks\": \"\"}, \"colorscale\": [[0.0, \"#0d0887\"], [0.1111111111111111, \"#46039f\"], [0.2222222222222222, \"#7201a8\"], [0.3333333333333333, \"#9c179e\"], [0.4444444444444444, \"#bd3786\"], [0.5555555555555556, \"#d8576b\"], [0.6666666666666666, \"#ed7953\"], [0.7777777777777778, \"#fb9f3a\"], [0.8888888888888888, \"#fdca26\"], [1.0, \"#f0f921\"]], \"type\": \"surface\"}], \"table\": [{\"cells\": {\"fill\": {\"color\": \"#EBF0F8\"}, \"line\": {\"color\": \"white\"}}, \"header\": {\"fill\": {\"color\": \"#C8D4E3\"}, \"line\": {\"color\": \"white\"}}, \"type\": \"table\"}]}, \"layout\": {\"annotationdefaults\": {\"arrowcolor\": \"#2a3f5f\", \"arrowhead\": 0, \"arrowwidth\": 1}, \"coloraxis\": {\"colorbar\": {\"outlinewidth\": 0, \"ticks\": \"\"}}, \"colorscale\": {\"diverging\": [[0, \"#8e0152\"], [0.1, \"#c51b7d\"], [0.2, \"#de77ae\"], [0.3, \"#f1b6da\"], [0.4, \"#fde0ef\"], [0.5, \"#f7f7f7\"], [0.6, \"#e6f5d0\"], [0.7, \"#b8e186\"], [0.8, \"#7fbc41\"], [0.9, \"#4d9221\"], [1, \"#276419\"]], \"sequential\": [[0.0, \"#0d0887\"], [0.1111111111111111, \"#46039f\"], [0.2222222222222222, \"#7201a8\"], [0.3333333333333333, \"#9c179e\"], [0.4444444444444444, \"#bd3786\"], [0.5555555555555556, \"#d8576b\"], [0.6666666666666666, \"#ed7953\"], [0.7777777777777778, \"#fb9f3a\"], [0.8888888888888888, \"#fdca26\"], [1.0, \"#f0f921\"]], \"sequentialminus\": [[0.0, \"#0d0887\"], [0.1111111111111111, \"#46039f\"], [0.2222222222222222, \"#7201a8\"], [0.3333333333333333, \"#9c179e\"], [0.4444444444444444, \"#bd3786\"], [0.5555555555555556, \"#d8576b\"], [0.6666666666666666, \"#ed7953\"], [0.7777777777777778, \"#fb9f3a\"], [0.8888888888888888, \"#fdca26\"], [1.0, \"#f0f921\"]]}, \"colorway\": [\"#636efa\", \"#EF553B\", \"#00cc96\", \"#ab63fa\", \"#FFA15A\", \"#19d3f3\", \"#FF6692\", \"#B6E880\", \"#FF97FF\", \"#FECB52\"], \"font\": {\"color\": \"#2a3f5f\"}, \"geo\": {\"bgcolor\": \"white\", \"lakecolor\": \"white\", \"landcolor\": \"#E5ECF6\", \"showlakes\": true, \"showland\": true, \"subunitcolor\": \"white\"}, \"hoverlabel\": {\"align\": \"left\"}, \"hovermode\": \"closest\", \"mapbox\": {\"style\": \"light\"}, \"paper_bgcolor\": \"white\", \"plot_bgcolor\": \"#E5ECF6\", \"polar\": {\"angularaxis\": {\"gridcolor\": \"white\", \"linecolor\": \"white\", \"ticks\": \"\"}, \"bgcolor\": \"#E5ECF6\", \"radialaxis\": {\"gridcolor\": \"white\", \"linecolor\": \"white\", \"ticks\": \"\"}}, \"scene\": {\"xaxis\": {\"backgroundcolor\": \"#E5ECF6\", \"gridcolor\": \"white\", \"gridwidth\": 2, \"linecolor\": \"white\", \"showbackground\": true, \"ticks\": \"\", \"zerolinecolor\": \"white\"}, \"yaxis\": {\"backgroundcolor\": \"#E5ECF6\", \"gridcolor\": \"white\", \"gridwidth\": 2, \"linecolor\": \"white\", \"showbackground\": true, \"ticks\": \"\", \"zerolinecolor\": \"white\"}, \"zaxis\": {\"backgroundcolor\": \"#E5ECF6\", \"gridcolor\": \"white\", \"gridwidth\": 2, \"linecolor\": \"white\", \"showbackground\": true, \"ticks\": \"\", \"zerolinecolor\": \"white\"}}, \"shapedefaults\": {\"line\": {\"color\": \"#2a3f5f\"}}, \"ternary\": {\"aaxis\": {\"gridcolor\": \"white\", \"linecolor\": \"white\", \"ticks\": \"\"}, \"baxis\": {\"gridcolor\": \"white\", \"linecolor\": \"white\", \"ticks\": \"\"}, \"bgcolor\": \"#E5ECF6\", \"caxis\": {\"gridcolor\": \"white\", \"linecolor\": \"white\", \"ticks\": \"\"}}, \"title\": {\"x\": 0.05}, \"xaxis\": {\"automargin\": true, \"gridcolor\": \"white\", \"linecolor\": \"white\", \"ticks\": \"\", \"title\": {\"standoff\": 15}, \"zerolinecolor\": \"white\", \"zerolinewidth\": 2}, \"yaxis\": {\"automargin\": true, \"gridcolor\": \"white\", \"linecolor\": \"white\", \"ticks\": \"\", \"title\": {\"standoff\": 15}, \"zerolinecolor\": \"white\", \"zerolinewidth\": 2}}}, \"title\": {\"text\": \"Top 100 Institutions: Number of Publications VS Number of Authors\"}, \"xaxis\": {\"anchor\": \"y\", \"domain\": [0.0, 1.0], \"title\": {\"text\": \"tot_affiliations\"}}, \"yaxis\": {\"anchor\": \"x\", \"domain\": [0.0, 1.0], \"title\": {\"text\": \"tot_pubs\"}}},\n",
       "                        {\"responsive\": true}\n",
       "                    ).then(function(){\n",
       "                            \n",
       "var gd = document.getElementById('71a27dde-7a2a-4080-bc4e-c253fbe0113a');\n",
       "var x = new MutationObserver(function (mutations, observer) {{\n",
       "        var display = window.getComputedStyle(gd).display;\n",
       "        if (!display || display === 'none') {{\n",
       "            console.log([gd, 'removed!']);\n",
       "            Plotly.purge(gd);\n",
       "            observer.disconnect();\n",
       "        }}\n",
       "}});\n",
       "\n",
       "// Listen for the removal of the full notebook cells\n",
       "var notebookContainer = gd.closest('#notebook-container');\n",
       "if (notebookContainer) {{\n",
       "    x.observe(notebookContainer, {childList: true});\n",
       "}}\n",
       "\n",
       "// Listen for the clearing of the current output cell\n",
       "var outputEl = gd.closest('.output');\n",
       "if (outputEl) {{\n",
       "    x.observe(outputEl, {childList: true});\n",
       "}}\n",
       "\n",
       "                        })\n",
       "                };\n",
       "                });\n",
       "            </script>\n",
       "        </div>"
      ]
     },
     "metadata": {},
     "output_type": "display_data"
    }
   ],
   "source": [
    "treshold = 100\n",
    "\n",
    "px.scatter(gridaffiliations[:treshold], \n",
    "           x=\"tot_affiliations\", y=\"tot_pubs\", \n",
    "           color=\"aff_country\",\n",
    "           hover_name=\"aff_name\", \n",
    "           hover_data=['aff_id', 'aff_name', 'aff_city', 'aff_country', 'tot_affiliations', 'tot_pubs'], \n",
    "           title=f\"Top {treshold} Institutions: Number of Publications VS Number of Authors\")"
   ]
  }
 ],
 "metadata": {
  "colab": {
   "collapsed_sections": [],
   "name": "4-Institutions for a journal.ipynb",
   "provenance": []
  },
  "kernelspec": {
   "display_name": "Python 3",
   "language": "python",
   "name": "python3"
  },
  "language_info": {
   "codemirror_mode": {
    "name": "ipython",
    "version": 3
   },
   "file_extension": ".py",
   "mimetype": "text/x-python",
   "name": "python",
   "nbconvert_exporter": "python",
   "pygments_lexer": "ipython3",
   "version": "3.7.4"
  }
 },
 "nbformat": 4,
 "nbformat_minor": 4
}
