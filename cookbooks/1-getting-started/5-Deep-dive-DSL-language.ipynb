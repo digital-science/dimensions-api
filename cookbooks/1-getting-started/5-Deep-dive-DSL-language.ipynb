{
 "cells": [
  {
   "cell_type": "markdown",
   "metadata": {
    "Collapsed": "false",
    "colab_type": "text",
    "id": "1h9FQJHvG8Vv"
   },
   "source": [
    "# Exploring The Dimensions Search Language (DSL) - Deep Dive\n",
    "\n",
    "This tutorial provides a detailed walkthrough of the most important features of the [Dimensions Search Language](https://docs.dimensions.ai/dsl/). \n",
    "\n",
    "This tutorial is based on the [Query Syntax](https://docs.dimensions.ai/dsl/language.html) section of the official documentation. So, it can be used as an interactive version of the documentation, as it allows to try out the various DSL queries presented there.\n",
    "\n",
    "## What is the Dimensions Search Language?\n",
    "\n",
    "The DSL aims to capture the type of interaction with Dimensions data\n",
    "that users are accustomed to performing graphically via the [web\n",
    "application](https://app.dimensions.ai/), and enable web app developers, power users, and others to\n",
    "carry out such interactions by writing query statements in a syntax\n",
    "loosely inspired by SQL but particularly suited to our specific domain\n",
    "and data organization.\n",
    "\n",
    "**Note:** this notebook uses the Python programming language, however all the **DSL queries are not Python-specific** and can in fact be reused with any other API client. \n",
    "\n"
   ]
  },
  {
   "cell_type": "markdown",
   "metadata": {
    "Collapsed": "false",
    "colab_type": "text",
    "id": "hMaQlB7DG8Vw"
   },
   "source": [
    "## Prerequisites\n",
    "\n",
    "This notebook assumes you have installed the [Dimcli](https://pypi.org/project/dimcli/) library and are familiar with the *Getting Started* tutorial.\n"
   ]
  },
  {
   "cell_type": "code",
   "execution_count": 1,
   "metadata": {
    "Collapsed": "false"
   },
   "outputs": [
    {
     "name": "stdout",
     "output_type": "stream",
     "text": [
      "==\n",
      "Logging in..\n",
      "Dimcli - Dimensions API Client (v0.6.9.2)\n",
      "Connected to endpoint: https://app.dimensions.ai - DSL version: 1.25\n",
      "Method: dsl.ini file\n"
     ]
    }
   ],
   "source": [
    "!pip install dimcli --quiet \n",
    "\n",
    "import dimcli\n",
    "from dimcli.shortcuts import *\n",
    "import json\n",
    "import sys\n",
    "import pandas as pd\n",
    "#\n",
    "\n",
    "print(\"==\\nLogging in..\")\n",
    "# https://github.com/digital-science/dimcli#authentication\n",
    "ENDPOINT = \"https://app.dimensions.ai\"\n",
    "if 'google.colab' in sys.modules:\n",
    "  import getpass\n",
    "  USERNAME = getpass.getpass(prompt='Username: ')\n",
    "  PASSWORD = getpass.getpass(prompt='Password: ')    \n",
    "  dimcli.login(USERNAME, PASSWORD, ENDPOINT)\n",
    "else:\n",
    "  USERNAME, PASSWORD  = \"\", \"\"\n",
    "  dimcli.login(USERNAME, PASSWORD, ENDPOINT)\n",
    "dsl = dimcli.Dsl()"
   ]
  },
  {
   "cell_type": "markdown",
   "metadata": {
    "Collapsed": "false"
   },
   "source": [
    "\n",
    "## Sections Index \n",
    "\n",
    "1. Basic query structure\n",
    "2. Full-text searching\n",
    "3. Field searching\n",
    "4. Searching for researchers\n",
    "5. Returning results \n",
    "6. Aggregations"
   ]
  },
  {
   "cell_type": "markdown",
   "metadata": {
    "Collapsed": "false"
   },
   "source": [
    "## 1. Basic query structure\n",
    "\n",
    "DSL queries consist of two required components: a `search` phrase that\n",
    "indicates the scientific records to be searched, and one or\n",
    "more `return` phrases which specify the contents and structure of the\n",
    "desired results.\n",
    "\n",
    "The simplest valid DSL query is of the form `search <source>|return <result>`:"
   ]
  },
  {
   "cell_type": "code",
   "execution_count": 3,
   "metadata": {
    "Collapsed": "false"
   },
   "outputs": [
    {
     "name": "stdout",
     "output_type": "stream",
     "text": [
      "Returned Grants: 5 (total = 5310256)\n"
     ]
    },
    {
     "data": {
      "text/html": [
       "<div>\n",
       "<style scoped>\n",
       "    .dataframe tbody tr th:only-of-type {\n",
       "        vertical-align: middle;\n",
       "    }\n",
       "\n",
       "    .dataframe tbody tr th {\n",
       "        vertical-align: top;\n",
       "    }\n",
       "\n",
       "    .dataframe thead th {\n",
       "        text-align: right;\n",
       "    }\n",
       "</style>\n",
       "<table border=\"1\" class=\"dataframe\">\n",
       "  <thead>\n",
       "    <tr style=\"text-align: right;\">\n",
       "      <th></th>\n",
       "      <th>language</th>\n",
       "      <th>title_language</th>\n",
       "      <th>active_year</th>\n",
       "      <th>project_num</th>\n",
       "      <th>start_year</th>\n",
       "      <th>funding_org_name</th>\n",
       "      <th>id</th>\n",
       "      <th>title</th>\n",
       "      <th>start_date</th>\n",
       "      <th>original_title</th>\n",
       "      <th>funders</th>\n",
       "      <th>end_date</th>\n",
       "    </tr>\n",
       "  </thead>\n",
       "  <tbody>\n",
       "    <tr>\n",
       "      <th>0</th>\n",
       "      <td>en</td>\n",
       "      <td>en</td>\n",
       "      <td>[2021]</td>\n",
       "      <td>2018-HRSI-1548</td>\n",
       "      <td>2021</td>\n",
       "      <td>New Brunswick Health Research Foundation</td>\n",
       "      <td>grant.8690978</td>\n",
       "      <td>APPROACH to Enriching the Real World Evidence ...</td>\n",
       "      <td>2021-11-30</td>\n",
       "      <td>APPROACH to Enriching the Real World Evidence ...</td>\n",
       "      <td>[{'id': 'grid.484521.e', 'acronym': 'NBHRF', '...</td>\n",
       "      <td>NaN</td>\n",
       "    </tr>\n",
       "    <tr>\n",
       "      <th>1</th>\n",
       "      <td>en</td>\n",
       "      <td>en</td>\n",
       "      <td>[2021]</td>\n",
       "      <td>1301720F</td>\n",
       "      <td>2021</td>\n",
       "      <td>Fund for Scientific Research</td>\n",
       "      <td>grant.8950252</td>\n",
       "      <td>Molecular mechanism of DNA double strand break...</td>\n",
       "      <td>2021-10-01</td>\n",
       "      <td>Mécanismes moléculaires de la formation et la ...</td>\n",
       "      <td>[{'id': 'grid.424470.1', 'acronym': 'FRS FNRS'...</td>\n",
       "      <td>NaN</td>\n",
       "    </tr>\n",
       "    <tr>\n",
       "      <th>2</th>\n",
       "      <td>en</td>\n",
       "      <td>en</td>\n",
       "      <td>[2021, 2022, 2023]</td>\n",
       "      <td>M 2734</td>\n",
       "      <td>2021</td>\n",
       "      <td>FWF Austrian Science Fund</td>\n",
       "      <td>grant.8715161</td>\n",
       "      <td>Life as concept and as science</td>\n",
       "      <td>2021-10-01</td>\n",
       "      <td>Life as concept and as science</td>\n",
       "      <td>[{'id': 'grid.25111.36', 'acronym': 'FWF', 'ci...</td>\n",
       "      <td>2023-09-30</td>\n",
       "    </tr>\n",
       "    <tr>\n",
       "      <th>3</th>\n",
       "      <td>en</td>\n",
       "      <td>en</td>\n",
       "      <td>[2021, 2022, 2023]</td>\n",
       "      <td>892933</td>\n",
       "      <td>2021</td>\n",
       "      <td>European Commission</td>\n",
       "      <td>grant.8964235</td>\n",
       "      <td>Scintillation Light For New Physics with Liqui...</td>\n",
       "      <td>2021-09-01</td>\n",
       "      <td>Scintillation Light For New Physics with Liqui...</td>\n",
       "      <td>[{'id': 'grid.270680.b', 'acronym': 'EC', 'cit...</td>\n",
       "      <td>2023-08-31</td>\n",
       "    </tr>\n",
       "    <tr>\n",
       "      <th>4</th>\n",
       "      <td>en</td>\n",
       "      <td>en</td>\n",
       "      <td>[2021, 2022, 2023]</td>\n",
       "      <td>893021</td>\n",
       "      <td>2021</td>\n",
       "      <td>European Commission</td>\n",
       "      <td>grant.8963889</td>\n",
       "      <td>Jet quenching for heavy-ion collisions at the LHC</td>\n",
       "      <td>2021-09-01</td>\n",
       "      <td>Jet quenching for heavy-ion collisions at the LHC</td>\n",
       "      <td>[{'id': 'grid.270680.b', 'acronym': 'EC', 'cit...</td>\n",
       "      <td>2023-08-31</td>\n",
       "    </tr>\n",
       "  </tbody>\n",
       "</table>\n",
       "</div>"
      ],
      "text/plain": [
       "  language title_language         active_year     project_num  start_year  \\\n",
       "0       en             en              [2021]  2018-HRSI-1548        2021   \n",
       "1       en             en              [2021]        1301720F        2021   \n",
       "2       en             en  [2021, 2022, 2023]          M 2734        2021   \n",
       "3       en             en  [2021, 2022, 2023]          892933        2021   \n",
       "4       en             en  [2021, 2022, 2023]          893021        2021   \n",
       "\n",
       "                           funding_org_name             id  \\\n",
       "0  New Brunswick Health Research Foundation  grant.8690978   \n",
       "1              Fund for Scientific Research  grant.8950252   \n",
       "2                 FWF Austrian Science Fund  grant.8715161   \n",
       "3                       European Commission  grant.8964235   \n",
       "4                       European Commission  grant.8963889   \n",
       "\n",
       "                                               title  start_date  \\\n",
       "0  APPROACH to Enriching the Real World Evidence ...  2021-11-30   \n",
       "1  Molecular mechanism of DNA double strand break...  2021-10-01   \n",
       "2                     Life as concept and as science  2021-10-01   \n",
       "3  Scintillation Light For New Physics with Liqui...  2021-09-01   \n",
       "4  Jet quenching for heavy-ion collisions at the LHC  2021-09-01   \n",
       "\n",
       "                                      original_title  \\\n",
       "0  APPROACH to Enriching the Real World Evidence ...   \n",
       "1  Mécanismes moléculaires de la formation et la ...   \n",
       "2                     Life as concept and as science   \n",
       "3  Scintillation Light For New Physics with Liqui...   \n",
       "4  Jet quenching for heavy-ion collisions at the LHC   \n",
       "\n",
       "                                             funders    end_date  \n",
       "0  [{'id': 'grid.484521.e', 'acronym': 'NBHRF', '...         NaN  \n",
       "1  [{'id': 'grid.424470.1', 'acronym': 'FRS FNRS'...         NaN  \n",
       "2  [{'id': 'grid.25111.36', 'acronym': 'FWF', 'ci...  2023-09-30  \n",
       "3  [{'id': 'grid.270680.b', 'acronym': 'EC', 'cit...  2023-08-31  \n",
       "4  [{'id': 'grid.270680.b', 'acronym': 'EC', 'cit...  2023-08-31  "
      ]
     },
     "execution_count": 3,
     "metadata": {},
     "output_type": "execute_result"
    }
   ],
   "source": [
    "%%dsldf \n",
    "search grants return  grants limit 5"
   ]
  },
  {
   "cell_type": "markdown",
   "metadata": {
    "Collapsed": "false"
   },
   "source": [
    "### `search source`\n",
    "\n",
    "A query must begin with the word `search` followed by a `source` name, i.e. the name of a type of scientific `record`, such as `grants` or `publications`.\n",
    "\n",
    "**What are the sources available?** See the [data sources](https://docs.dimensions.ai/dsl/data-sources.html) section of the documentation. \n",
    "\n",
    "Alternatively, we can use the 'schema' API ([describe](https://docs.dimensions.ai/dsl/data-sources.html#metadata-api)) to return this information programmatically:"
   ]
  },
  {
   "cell_type": "code",
   "execution_count": 4,
   "metadata": {
    "Collapsed": "false"
   },
   "outputs": [
    {
     "data": {
      "application/json": {
       "entities": {
        "categories": {
         "fields": {
          "id": {
           "description": "Dimensions ID of the category.",
           "is_filter": true,
           "long_description": null,
           "name": "string",
           "type": "string"
          },
          "name": {
           "description": "Name of the category. Note: this may include an identifier from the original source. E.g., '2.1 Biological and endogenous factors' (HRCS_RAC codes) or '1103 Clinical Sciences' (FOR codes).",
           "is_filter": true,
           "long_description": null,
           "name": "string",
           "type": "string"
          }
         },
         "fieldsets": [
          "all",
          "basics"
         ]
        },
        "cities": {
         "fields": {
          "id": {
           "description": "GeoNames city ID (eg '5391811' for `geonames:5391811 <http://www.geonames.org/5391811>`_ )",
           "is_filter": true,
           "long_description": null,
           "name": "string",
           "type": "string"
          },
          "name": {
           "description": "GeoNames city name.",
           "is_filter": true,
           "long_description": null,
           "name": "string",
           "type": "string"
          }
         },
         "fieldsets": [
          "all",
          "basics"
         ]
        },
        "countries": {
         "fields": {
          "id": {
           "description": "GeoNames country code (eg 'US' for `geonames:6252001 <http://www.geonames.org/6252001>`_ )",
           "is_filter": true,
           "long_description": null,
           "name": "string",
           "type": "string"
          },
          "name": {
           "description": "GeoNames country name.",
           "is_filter": true,
           "long_description": null,
           "name": "string",
           "type": "string"
          }
         },
         "fieldsets": [
          "all",
          "basics"
         ]
        },
        "journals": {
         "fields": {
          "id": {
           "description": "Dimensions ID of a journal. E.g., `jour.1016355 <https://app.dimensions.ai/discover/publication?and_facet_source_title=jour.1016355>`_ or `jour.1077219 <https://app.dimensions.ai/discover/publication?and_facet_source_title=jour.1077219>`_ .",
           "is_filter": true,
           "long_description": null,
           "name": "string",
           "type": "string"
          },
          "title": {
           "description": "Title of a journal publication. E.g. 'Nature' or 'The Lancet'",
           "is_filter": true,
           "long_description": null,
           "name": "string",
           "type": "string"
          }
         },
         "fieldsets": [
          "all",
          "basics"
         ]
        },
        "open_access": {
         "fields": {
          "description": {
           "description": "Description of the open access category.",
           "is_filter": false,
           "long_description": null,
           "name": "string",
           "type": "string"
          },
          "id": {
           "description": "Dimensions ID of the open access category. E.g., one of 'closed', 'oa_all', 'gold_bronze', 'gold_pure', 'green_sub', 'gold_hybrid', 'green_pub', 'green_acc'. (see also the :ref:`publications` field ``open_access``).",
           "is_filter": true,
           "long_description": null,
           "name": "string",
           "type": "string"
          },
          "name": {
           "description": "Name of the open access category. E.g., 'Closed' or 'Pure Gold'.",
           "is_filter": true,
           "long_description": null,
           "name": "string",
           "type": "string"
          }
         },
         "fieldsets": [
          "all",
          "basics"
         ]
        },
        "org_groups": {
         "fields": {
          "id": {
           "description": "Dimensions ID of the organization group.",
           "is_filter": true,
           "long_description": null,
           "name": "string",
           "type": "string"
          },
          "name": {
           "description": "Name of the organization group. E.g., 'NIH' or 'ICRP'.",
           "is_filter": true,
           "long_description": null,
           "name": "string",
           "type": "string"
          }
         },
         "fieldsets": [
          "all",
          "basics"
         ]
        },
        "states": {
         "fields": {
          "id": {
           "description": "GeoNames state code (ISO‌-3166-2). E.g., 'US.CA' for `geonames:5332921 <http://www.geonames.org/5332921>`_ .",
           "is_filter": true,
           "long_description": null,
           "name": "string",
           "type": "string"
          },
          "name": {
           "description": "GeoNames state name (ISO‌-3166-2).",
           "is_filter": true,
           "long_description": null,
           "name": "string",
           "type": "string"
          }
         },
         "fieldsets": [
          "all",
          "basics"
         ]
        }
       },
       "sources": {
        "clinical_trials": {
         "fields": {
          "abstract": {
           "description": "Abstract or description of the clinical trial.",
           "is_entity": false,
           "is_facet": false,
           "is_filter": false,
           "long_description": null,
           "type": "string"
          },
          "acronym": {
           "description": "Acronym of the clinical trial.",
           "is_entity": false,
           "is_facet": false,
           "is_filter": true,
           "long_description": null,
           "type": "string"
          },
          "active_years": {
           "description": "List of active years for a clinical trial.",
           "is_entity": false,
           "is_facet": true,
           "is_filter": true,
           "long_description": null,
           "type": "integer"
          },
          "associated_grant_ids": {
           "description": "Dimensions IDs of the grants associated to the clinical trial (see also: :ref:`clinical_trials_model` section).",
           "is_entity": false,
           "is_facet": false,
           "is_filter": true,
           "long_description": null,
           "type": "string"
          },
          "brief_title": {
           "description": "Brief title of the clinical trial.",
           "is_entity": false,
           "is_facet": false,
           "is_filter": true,
           "long_description": null,
           "type": "string"
          },
          "category_bra": {
           "description": "`Broad Research Areas <https://app.dimensions.ai/browse/publication/broad_research_areas?redirect_path=/discover/publication>`_",
           "is_entity": true,
           "is_facet": true,
           "is_filter": true,
           "long_description": null,
           "type": "categories"
          },
          "category_for": {
           "description": "`ANZSRC Fields of Research classification <https://app.dimensions.ai/browse/publication/for>`_",
           "is_entity": true,
           "is_facet": true,
           "is_filter": true,
           "long_description": null,
           "type": "categories"
          },
          "category_hra": {
           "description": "`Health Research Areas <https://app.dimensions.ai/browse/publication/health_research_areas?redirect_path=/discover/publication>`_",
           "is_entity": true,
           "is_facet": true,
           "is_filter": true,
           "long_description": null,
           "type": "categories"
          },
          "category_hrcs_hc": {
           "description": "`HRCS - Health Categories <https://app.dimensions.ai/browse/publication/hrcs_hc>`_",
           "is_entity": true,
           "is_facet": true,
           "is_filter": true,
           "long_description": null,
           "type": "categories"
          },
          "category_hrcs_rac": {
           "description": "`HRCS – Research Activity Codes <https://app.dimensions.ai/browse/publication/hrcs_rac>`_",
           "is_entity": true,
           "is_facet": true,
           "is_filter": true,
           "long_description": null,
           "type": "categories"
          },
          "category_icrp_cso": {
           "description": "`ICRP Common Scientific Outline <https://app.dimensions.ai/browse/publication/cso>`_",
           "is_entity": true,
           "is_facet": true,
           "is_filter": true,
           "long_description": null,
           "type": "categories"
          },
          "category_icrp_ct": {
           "description": "`ICRP Cancer Types <https://app.dimensions.ai/browse/publication/cancer_types>`_",
           "is_entity": true,
           "is_facet": true,
           "is_filter": true,
           "long_description": null,
           "type": "categories"
          },
          "category_rcdc": {
           "description": "`Research, Condition, and Disease Categorization <https://app.dimensions.ai/browse/publication/rcdc>`_",
           "is_entity": true,
           "is_facet": true,
           "is_filter": true,
           "long_description": null,
           "type": "categories"
          },
          "conditions": {
           "description": "List of medical conditions names, e.g. 'Breast cancer' or 'Obesity'.",
           "is_entity": false,
           "is_facet": false,
           "is_filter": true,
           "long_description": null,
           "type": "string"
          },
          "date": {
           "description": "Start date of a clinical trial.",
           "is_entity": false,
           "is_facet": false,
           "is_filter": true,
           "long_description": null,
           "type": "date"
          },
          "date_inserted": {
           "description": "Date when the record was inserted into Dimensions (note: this field does not support exact match on the data, only range filters e.g. `<=` or `>=').",
           "is_entity": false,
           "is_facet": false,
           "is_filter": true,
           "long_description": null,
           "type": "date"
          },
          "funder_countries": {
           "description": "The country group the funding organisations.",
           "is_entity": true,
           "is_facet": true,
           "is_filter": true,
           "long_description": null,
           "type": "countries"
          },
          "funders": {
           "description": "GRID funding organisations that are involved with the clinical trial.",
           "is_entity": true,
           "is_facet": true,
           "is_filter": true,
           "long_description": null,
           "type": "organizations"
          },
          "gender": {
           "description": "The gender of the clinical trial subjects e.g. 'Male', 'Female' or 'All'.",
           "is_entity": false,
           "is_facet": false,
           "is_filter": true,
           "long_description": null,
           "type": "string"
          },
          "id": {
           "description": "Dimensions clinical trial ID",
           "is_entity": false,
           "is_facet": false,
           "is_filter": true,
           "long_description": null,
           "type": "string"
          },
          "interventions": {
           "description": "Structured JSON object containing information about the clinical trial's interventions according to the research plan or protocol created by the investigators.",
           "is_entity": false,
           "is_facet": false,
           "is_filter": true,
           "long_description": null,
           "type": "json"
          },
          "investigator_details": {
           "description": "Additional details about investigators, including affiliations and roles.",
           "is_entity": false,
           "is_facet": false,
           "is_filter": true,
           "long_description": null,
           "type": "json"
          },
          "linkout": {
           "description": "Original URL for the clinical trial.",
           "is_entity": false,
           "is_facet": false,
           "is_filter": false,
           "long_description": null,
           "type": "string"
          },
          "phase": {
           "description": "Phase of the clinical trial, as a string.",
           "is_entity": false,
           "is_facet": false,
           "is_filter": true,
           "long_description": null,
           "type": "string"
          },
          "publication_ids": {
           "description": "Dimensions IDs of the publications related to this clinical trial (see also: :ref:`clinical_trials_model` section).",
           "is_entity": false,
           "is_facet": false,
           "is_filter": true,
           "long_description": null,
           "type": "string"
          },
          "registry": {
           "description": "The platform where the clinical trial has been registered, e.g. 'ClinicalTrials.gov' or 'EU-CTR'.",
           "is_entity": false,
           "is_facet": false,
           "is_filter": true,
           "long_description": null,
           "type": "string"
          },
          "research_orgs": {
           "description": "GRID organizations involved, e.g. as sponsors or collaborators.",
           "is_entity": true,
           "is_facet": true,
           "is_filter": true,
           "long_description": null,
           "type": "organizations"
          },
          "researchers": {
           "description": "Dimensions researchers IDs associated to the clinical trial.",
           "is_entity": true,
           "is_facet": true,
           "is_filter": true,
           "long_description": null,
           "type": "researchers"
          },
          "title": {
           "description": "The title of the clinical trial.",
           "is_entity": false,
           "is_facet": false,
           "is_filter": false,
           "long_description": null,
           "type": "string"
          }
         },
         "fieldsets": [
          "all",
          "basics",
          "extras",
          "categories"
         ],
         "metrics": {
          "count": {
           "description": "Total count",
           "name": "count"
          }
         },
         "search_fields": [
          "investigators",
          "full_data",
          "title_only",
          "title_abstract_only"
         ]
        },
        "datasets": {
         "fields": {
          "associated_grant_ids": {
           "description": "The Dimensions IDs of the grants linked to the publication the dataset is associated with.",
           "is_entity": false,
           "is_facet": false,
           "is_filter": true,
           "long_description": null,
           "type": "string"
          },
          "associated_publication_id": {
           "description": "The Dimensions ID of the publication linked to the dataset (single value).",
           "is_entity": false,
           "is_facet": false,
           "is_filter": true,
           "long_description": null,
           "type": "string"
          },
          "authors": {
           "description": "Ordered list of the dataset authors. ORCIDs are included if available.",
           "is_entity": false,
           "is_facet": false,
           "is_filter": true,
           "long_description": null,
           "type": "json"
          },
          "category_bra": {
           "description": "`Broad Research Areas <https://app.dimensions.ai/browse/publication/broad_research_areas>`_",
           "is_entity": true,
           "is_facet": true,
           "is_filter": true,
           "long_description": null,
           "type": "categories"
          },
          "category_for": {
           "description": "`ANZSRC Fields of Research classification <https://app.dimensions.ai/browse/publication/for>`_",
           "is_entity": true,
           "is_facet": true,
           "is_filter": true,
           "long_description": null,
           "type": "categories"
          },
          "category_hra": {
           "description": "`Health Research Areas <https://app.dimensions.ai/browse/publication/health_research_areas>`_",
           "is_entity": true,
           "is_facet": true,
           "is_filter": true,
           "long_description": null,
           "type": "categories"
          },
          "category_hrcs_hc": {
           "description": "`HRCS - Health Categories <https://app.dimensions.ai/browse/publication/hrcs_hc>`_",
           "is_entity": true,
           "is_facet": true,
           "is_filter": true,
           "long_description": null,
           "type": "categories"
          },
          "category_hrcs_rac": {
           "description": "`HRCS – Research Activity Codes <https://app.dimensions.ai/browse/publication/hrcs_rac>`_",
           "is_entity": true,
           "is_facet": true,
           "is_filter": true,
           "long_description": null,
           "type": "categories"
          },
          "category_icrp_cso": {
           "description": "`ICRP Common Scientific Outline <https://app.dimensions.ai/browse/publication/cso>`_",
           "is_entity": true,
           "is_facet": true,
           "is_filter": true,
           "long_description": null,
           "type": "categories"
          },
          "category_icrp_ct": {
           "description": "`ICRP Cancer Types <https://app.dimensions.ai/browse/publication/cancer_types>`_",
           "is_entity": true,
           "is_facet": true,
           "is_filter": true,
           "long_description": null,
           "type": "categories"
          },
          "category_rcdc": {
           "description": "`Research, Condition, and Disease Categorization <https://app.dimensions.ai/browse/publication/rcdc>`_",
           "is_entity": true,
           "is_facet": true,
           "is_filter": true,
           "long_description": null,
           "type": "categories"
          },
          "date": {
           "description": "The publication date of the dataset, eg \"2018-01-01\".",
           "is_entity": false,
           "is_facet": false,
           "is_filter": true,
           "long_description": null,
           "type": "date"
          },
          "date_created": {
           "description": "The creation date of the dataset.",
           "is_entity": false,
           "is_facet": false,
           "is_filter": true,
           "long_description": null,
           "type": "date"
          },
          "date_embargo": {
           "description": "The embargo date of the dataset.",
           "is_entity": false,
           "is_facet": false,
           "is_filter": true,
           "long_description": null,
           "type": "date"
          },
          "date_inserted": {
           "description": "Date when the record was inserted into Dimensions (note: this field does not support exact match on the data, only range filters e.g. `<=` or `>=').",
           "is_entity": false,
           "is_facet": false,
           "is_filter": true,
           "long_description": null,
           "type": "date"
          },
          "date_modified": {
           "description": "The last modification date of the dataset.",
           "is_entity": false,
           "is_facet": false,
           "is_filter": true,
           "long_description": null,
           "type": "date"
          },
          "description": {
           "description": "Description of the dataset.",
           "is_entity": false,
           "is_facet": false,
           "is_filter": false,
           "long_description": null,
           "type": "string"
          },
          "doi": {
           "description": "Dataset DOI.",
           "is_entity": false,
           "is_facet": false,
           "is_filter": true,
           "long_description": null,
           "type": "string"
          },
          "figshare_url": {
           "description": "Figshare URL for the dataset.",
           "is_entity": false,
           "is_facet": false,
           "is_filter": false,
           "long_description": null,
           "type": "string"
          },
          "funder_countries": {
           "description": "The country linked to the organisation funding the grant, expressed as GeoNames codes.",
           "is_entity": true,
           "is_facet": true,
           "is_filter": true,
           "long_description": null,
           "type": "countries"
          },
          "funders": {
           "description": "The GRID organisations funding the dataset.",
           "is_entity": true,
           "is_facet": true,
           "is_filter": true,
           "long_description": null,
           "type": "organizations"
          },
          "id": {
           "description": "Dimensions dataset ID.",
           "is_entity": false,
           "is_facet": false,
           "is_filter": true,
           "long_description": null,
           "type": "string"
          },
          "journal": {
           "description": "The journal a data set belongs to.",
           "is_entity": true,
           "is_facet": true,
           "is_filter": true,
           "long_description": null,
           "type": "journals"
          },
          "keywords": {
           "description": "Keywords used to describe the dataset (from authors).",
           "is_entity": false,
           "is_facet": true,
           "is_filter": true,
           "long_description": null,
           "type": "string"
          },
          "language_desc": {
           "description": "Dataset title language, as ISO 639-1 language codes.",
           "is_entity": false,
           "is_facet": true,
           "is_filter": true,
           "long_description": null,
           "type": "string"
          },
          "language_title": {
           "description": "Dataset title language, as ISO 639-1 language codes.",
           "is_entity": false,
           "is_facet": true,
           "is_filter": true,
           "long_description": null,
           "type": "string"
          },
          "license": {
           "description": "The dataset licence, as a structured JSON containing the license name, URL, and value.",
           "is_entity": false,
           "is_facet": false,
           "is_filter": true,
           "long_description": null,
           "type": "json"
          },
          "publication_ids": {
           "description": "The Dimensions IDs of the publications the dataset cites.",
           "is_entity": false,
           "is_facet": false,
           "is_filter": true,
           "long_description": null,
           "type": "string"
          },
          "repository_id": {
           "description": "The ID of the repository of the dataset.",
           "is_entity": false,
           "is_facet": true,
           "is_filter": true,
           "long_description": null,
           "type": "string"
          },
          "research_org_cities": {
           "description": "City of the organisations the publication authors are affiliated to, expressed as GeoNames ID and name.",
           "is_entity": true,
           "is_facet": true,
           "is_filter": true,
           "long_description": null,
           "type": "cities"
          },
          "research_org_countries": {
           "description": "Country of the organisations the publication authors are affiliated to, identified using GeoNames codes (note: this field supports count: count)..",
           "is_entity": true,
           "is_facet": true,
           "is_filter": true,
           "long_description": null,
           "type": "countries"
          },
          "research_org_states": {
           "description": "State of the organisations the publication authors are affiliated to, expressed as GeoNames codes (ISO‌-3166-2).",
           "is_entity": true,
           "is_facet": true,
           "is_filter": true,
           "long_description": null,
           "type": "states"
          },
          "research_orgs": {
           "description": "GRID organisations linked to the publication associated to the dataset (note: this field supports count: count).",
           "is_entity": true,
           "is_facet": true,
           "is_filter": true,
           "long_description": null,
           "type": "organizations"
          },
          "researchers": {
           "description": "Dimensions researchers IDs associated to the dataset's associated publication. Note: in most cases, these would be the same as the dataset authors.",
           "is_entity": true,
           "is_facet": true,
           "is_filter": true,
           "long_description": null,
           "type": "researchers"
          },
          "title": {
           "description": "Title of the dataset.",
           "is_entity": false,
           "is_facet": false,
           "is_filter": false,
           "long_description": null,
           "type": "string"
          },
          "year": {
           "description": "Year of publication of the dataset.",
           "is_entity": false,
           "is_facet": true,
           "is_filter": true,
           "long_description": null,
           "type": "integer"
          }
         },
         "fieldsets": [
          "all",
          "basics",
          "categories"
         ],
         "metrics": {
          "count": {
           "description": "Total count",
           "name": "count"
          }
         },
         "search_fields": [
          "full_data",
          "title_only",
          "title_abstract_only"
         ]
        },
        "grants": {
         "fields": {
          "abstract": {
           "description": "Abstract or summary from a grant proposal.",
           "is_entity": false,
           "is_facet": false,
           "is_filter": false,
           "long_description": null,
           "type": "string"
          },
          "active_year": {
           "description": "List of active years for a grant.",
           "is_entity": false,
           "is_facet": true,
           "is_filter": true,
           "long_description": null,
           "type": "integer"
          },
          "category_bra": {
           "description": "`Broad Research Areas <https://app.dimensions.ai/browse/publication/broad_research_areas?redirect_path=/discover/publication>`_",
           "is_entity": true,
           "is_facet": true,
           "is_filter": true,
           "long_description": null,
           "type": "categories"
          },
          "category_for": {
           "description": "`ANZSRC Fields of Research classification <https://app.dimensions.ai/browse/publication/for>`_",
           "is_entity": true,
           "is_facet": true,
           "is_filter": true,
           "long_description": null,
           "type": "categories"
          },
          "category_hra": {
           "description": "`Health Research Areas <https://app.dimensions.ai/browse/publication/health_research_areas?redirect_path=/discover/publication>`_",
           "is_entity": true,
           "is_facet": true,
           "is_filter": true,
           "long_description": null,
           "type": "categories"
          },
          "category_hrcs_hc": {
           "description": "`HRCS - Health Categories <https://app.dimensions.ai/browse/publication/hrcs_hc>`_ .",
           "is_entity": true,
           "is_facet": true,
           "is_filter": true,
           "long_description": null,
           "type": "categories"
          },
          "category_hrcs_rac": {
           "description": "`HRCS – Research Activity Codes <https://app.dimensions.ai/browse/publication/hrcs_rac>`_ .",
           "is_entity": true,
           "is_facet": true,
           "is_filter": true,
           "long_description": null,
           "type": "categories"
          },
          "category_icrp_cso": {
           "description": "`ICRP Common Scientific Outline <https://app.dimensions.ai/browse/publication/cso>`_",
           "is_entity": true,
           "is_facet": true,
           "is_filter": true,
           "long_description": null,
           "type": "categories"
          },
          "category_icrp_ct": {
           "description": "`ICRP Cancer Types <https://app.dimensions.ai/browse/publication/cancer_types>`_",
           "is_entity": true,
           "is_facet": true,
           "is_filter": true,
           "long_description": null,
           "type": "categories"
          },
          "category_rcdc": {
           "description": "`Research, Condition, and Disease Categorization <https://app.dimensions.ai/browse/publication/rcdc>`_ .",
           "is_entity": true,
           "is_facet": true,
           "is_filter": true,
           "long_description": null,
           "type": "categories"
          },
          "category_uoa": {
           "description": "`Units of Assessment <https://app.dimensions.ai/browse/publication/uoa>`_",
           "is_entity": true,
           "is_facet": true,
           "is_filter": true,
           "long_description": null,
           "type": "categories"
          },
          "concepts": {
           "description": "Concepts describing the main topics of a grant (note: automatically derived from the grant text using machine learning).",
           "is_entity": false,
           "is_facet": false,
           "is_filter": false,
           "long_description": null,
           "type": "string"
          },
          "date_inserted": {
           "description": "Date when the record was inserted into Dimensions (note: this field does not support exact match on the data, only range filters e.g. `<=` or `>=`).",
           "is_entity": false,
           "is_facet": false,
           "is_filter": true,
           "long_description": null,
           "type": "date"
          },
          "end_date": {
           "description": "Date when the grant ends.",
           "is_entity": false,
           "is_facet": false,
           "is_filter": true,
           "long_description": null,
           "type": "date"
          },
          "foa_number": {
           "description": "The funding opportunity announcement (FOA) number, where available e.g. for grants from the US National Institute of Health (NIH) or from the National Science Foundation (NSF).",
           "is_entity": false,
           "is_facet": false,
           "is_filter": true,
           "long_description": null,
           "type": "string"
          },
          "funder_countries": {
           "description": "The country linked to the organisation funding the grant, expressed as GeoNames codes.",
           "is_entity": true,
           "is_facet": true,
           "is_filter": true,
           "long_description": null,
           "type": "countries"
          },
          "funders": {
           "description": "The organisation funding the grant. This is normally a GRID organisation, but in very few cases a Dimensions funder ID is used.",
           "is_entity": true,
           "is_facet": true,
           "is_filter": true,
           "long_description": null,
           "type": "organizations"
          },
          "funding_aud": {
           "description": "Funding amount awarded in AUD.",
           "is_entity": false,
           "is_facet": false,
           "is_filter": true,
           "long_description": null,
           "type": "float"
          },
          "funding_cad": {
           "description": "Funding amount awarded in CAD.",
           "is_entity": false,
           "is_facet": false,
           "is_filter": true,
           "long_description": null,
           "type": "float"
          },
          "funding_chf": {
           "description": "Funding amount awarded in CHF.",
           "is_entity": false,
           "is_facet": false,
           "is_filter": true,
           "long_description": null,
           "type": "float"
          },
          "funding_currency": {
           "description": "Original funding currency.",
           "is_entity": false,
           "is_facet": true,
           "is_filter": true,
           "long_description": null,
           "type": "string"
          },
          "funding_eur": {
           "description": "Funding amount awarded in EUR.",
           "is_entity": false,
           "is_facet": false,
           "is_filter": true,
           "long_description": null,
           "type": "float"
          },
          "funding_gbp": {
           "description": "Funding amount awarded in GBP.",
           "is_entity": false,
           "is_facet": false,
           "is_filter": true,
           "long_description": null,
           "type": "float"
          },
          "funding_jpy": {
           "description": "Funding amount awarded in JPY.",
           "is_entity": false,
           "is_facet": false,
           "is_filter": true,
           "long_description": null,
           "type": "float"
          },
          "funding_nzd": {
           "description": "Funding amount awarded in NZD.",
           "is_entity": false,
           "is_facet": false,
           "is_filter": true,
           "long_description": null,
           "type": "float"
          },
          "funding_org_acronym": {
           "description": "Acronym for funding organisation.",
           "is_entity": false,
           "is_facet": true,
           "is_filter": true,
           "long_description": null,
           "type": "string"
          },
          "funding_org_city": {
           "description": "City name for funding organisation.",
           "is_entity": false,
           "is_facet": true,
           "is_filter": true,
           "long_description": null,
           "type": "string"
          },
          "funding_org_name": {
           "description": "Name of funding organisation.",
           "is_entity": false,
           "is_facet": true,
           "is_filter": true,
           "long_description": null,
           "type": "string"
          },
          "funding_usd": {
           "description": "Funding amount awarded in USD.",
           "is_entity": false,
           "is_facet": false,
           "is_filter": true,
           "long_description": null,
           "type": "float"
          },
          "grant_number": {
           "description": "Grant identifier, as provided by the source (e.g., funder, aggregator) the grant was derived from.",
           "is_entity": false,
           "is_facet": false,
           "is_filter": true,
           "long_description": null,
           "type": "string"
          },
          "id": {
           "description": "Dimensions grant ID.",
           "is_entity": false,
           "is_facet": false,
           "is_filter": true,
           "long_description": null,
           "type": "string"
          },
          "investigator_details": {
           "description": "Additional details about investigators, including affiliations and roles e.g. 'PI' or 'Co-PI' (note: if the investigator has a Dimensions researcher ID, that is returned as well).",
           "is_entity": false,
           "is_facet": false,
           "is_filter": true,
           "long_description": null,
           "type": "json"
          },
          "language": {
           "description": "Grant original language, as ISO 639-1 language codes.",
           "is_entity": false,
           "is_facet": true,
           "is_filter": true,
           "long_description": null,
           "type": "string"
          },
          "language_title": {
           "description": "ISO 639-1 language code for the original grant title.",
           "is_entity": false,
           "is_facet": true,
           "is_filter": true,
           "long_description": null,
           "type": "string"
          },
          "linkout": {
           "description": "Original URL for the grant.",
           "is_entity": false,
           "is_facet": false,
           "is_filter": false,
           "long_description": null,
           "type": "string"
          },
          "original_title": {
           "description": "Title of the grant in its original language.",
           "is_entity": false,
           "is_facet": false,
           "is_filter": false,
           "long_description": null,
           "type": "string"
          },
          "research_org_cities": {
           "description": "City of the research organisations receiving the grant, expressed as GeoNames id and name.",
           "is_entity": true,
           "is_facet": true,
           "is_filter": true,
           "long_description": null,
           "type": "cities"
          },
          "research_org_countries": {
           "description": "Country of the research organisations receiving the grant, expressed as GeoNames code and name.",
           "is_entity": true,
           "is_facet": true,
           "is_filter": true,
           "long_description": null,
           "type": "countries"
          },
          "research_org_state_codes": {
           "description": "State of the organisations receiving the grant, expressed as GeoNames codes (ISO‌-3166-2).",
           "is_entity": true,
           "is_facet": true,
           "is_filter": true,
           "long_description": null,
           "type": "states"
          },
          "research_orgs": {
           "description": "GRID organisations receiving the grant (note: identifiers are automatically extracted from the source text and can be missing in some cases).",
           "is_entity": true,
           "is_facet": true,
           "is_filter": true,
           "long_description": null,
           "type": "organizations"
          },
          "researchers": {
           "description": "Dimensions researchers IDs associated to the grant.",
           "is_entity": true,
           "is_facet": true,
           "is_filter": true,
           "long_description": null,
           "type": "researchers"
          },
          "start_date": {
           "description": "Date when the grant starts, in the format 'YYYY-MM-DD'.",
           "is_entity": false,
           "is_facet": false,
           "is_filter": true,
           "long_description": null,
           "type": "date"
          },
          "start_year": {
           "description": "Year when the grant starts.",
           "is_entity": false,
           "is_facet": true,
           "is_filter": true,
           "long_description": null,
           "type": "integer"
          },
          "title": {
           "description": "Title of the grant in English (if the grant language is not English, this field contains a translation of the title).",
           "is_entity": false,
           "is_facet": false,
           "is_filter": false,
           "long_description": null,
           "type": "string"
          }
         },
         "fieldsets": [
          "all",
          "basics",
          "extras",
          "categories"
         ],
         "metrics": {
          "count": {
           "description": "Total count",
           "name": "count"
          },
          "funding": {
           "description": "Total funding amount, in USD.",
           "name": "funding"
          }
         },
         "search_fields": [
          "noun_phrases",
          "full_data",
          "investigators",
          "title_abstract_only",
          "title_only",
          "concepts"
         ]
        },
        "organizations": {
         "fields": {
          "acronym": {
           "description": "GRID acronym of the organization. E.g., \"UT\" for `grid.26999.3d <https://grid.ac/institutes/grid.26999.3d>`_",
           "is_entity": false,
           "is_facet": false,
           "is_filter": true,
           "long_description": null,
           "type": "string"
          },
          "city_name": {
           "description": "GRID name of the organization country. E.g., \"Bethesda\" for `grid.419635.c <https://grid.ac/institutes/grid.419635.c>`_",
           "is_entity": false,
           "is_facet": true,
           "is_filter": true,
           "long_description": null,
           "type": "string"
          },
          "cnrs_ids": {
           "description": "CNRS IDs for this organization",
           "is_entity": false,
           "is_facet": false,
           "is_filter": true,
           "long_description": null,
           "type": "string"
          },
          "country_name": {
           "description": "GRID name of the organization country. E.g., \"Japan\" for `grid.26999.3d <https://grid.ac/institutes/grid.26999.3d>`_",
           "is_entity": false,
           "is_facet": true,
           "is_filter": true,
           "long_description": null,
           "type": "string"
          },
          "established": {
           "description": "Year when the organization was estabilished",
           "is_entity": false,
           "is_facet": false,
           "is_filter": true,
           "long_description": null,
           "type": "integer"
          },
          "external_ids_fundref": {
           "description": "Fundref IDs for this organization",
           "is_entity": false,
           "is_facet": false,
           "is_filter": true,
           "long_description": null,
           "type": "string"
          },
          "hesa_ids": {
           "description": "HESA IDs for this organization",
           "is_entity": false,
           "is_facet": false,
           "is_filter": true,
           "long_description": null,
           "type": "string"
          },
          "id": {
           "description": "GRID ID of the organization. E.g., \"grid.26999.3d\".",
           "is_entity": false,
           "is_facet": false,
           "is_filter": true,
           "long_description": null,
           "type": "string"
          },
          "isni_ids": {
           "description": "ISNI IDs for this organization",
           "is_entity": false,
           "is_facet": false,
           "is_filter": true,
           "long_description": null,
           "type": "string"
          },
          "latitude": {
           "description": null,
           "is_entity": false,
           "is_facet": false,
           "is_filter": false,
           "long_description": null,
           "type": "float"
          },
          "linkout": {
           "description": null,
           "is_entity": false,
           "is_facet": false,
           "is_filter": false,
           "long_description": null,
           "type": "string"
          },
          "longitude": {
           "description": null,
           "is_entity": false,
           "is_facet": false,
           "is_filter": false,
           "long_description": null,
           "type": "float"
          },
          "name": {
           "description": "GRID name of the organization. E.g., \"University of Tokyo\" for `grid.26999.3d <https://grid.ac/institutes/grid.26999.3d>`_",
           "is_entity": false,
           "is_facet": false,
           "is_filter": true,
           "long_description": null,
           "type": "string"
          },
          "nuts_level1_code": {
           "description": "Level 1 code for this organization, based on `Nomenclature of Territorial Units for Statistics <https://en.wikipedia.org/wiki/Nomenclature_of_Territorial_Units_for_Statistics>`_ (NUTS) codes of the European Union.",
           "is_entity": false,
           "is_facet": true,
           "is_filter": true,
           "long_description": null,
           "type": "string"
          },
          "nuts_level1_name": {
           "description": "Level 1 name for this organization, based on `Nomenclature of Territorial Units for Statistics <https://en.wikipedia.org/wiki/Nomenclature_of_Territorial_Units_for_Statistics>`_ (NUTS) codes of the European Union.",
           "is_entity": false,
           "is_facet": true,
           "is_filter": true,
           "long_description": null,
           "type": "string"
          },
          "nuts_level2_code": {
           "description": "Level 2 code for this organization, based on `Nomenclature of Territorial Units for Statistics <https://en.wikipedia.org/wiki/Nomenclature_of_Territorial_Units_for_Statistics>`_ (NUTS) codes of the European Union.",
           "is_entity": false,
           "is_facet": true,
           "is_filter": true,
           "long_description": null,
           "type": "string"
          },
          "nuts_level2_name": {
           "description": "Level 2 name for this organization, based on `Nomenclature of Territorial Units for Statistics <https://en.wikipedia.org/wiki/Nomenclature_of_Territorial_Units_for_Statistics>`_ (NUTS) codes of the European Union.",
           "is_entity": false,
           "is_facet": true,
           "is_filter": true,
           "long_description": null,
           "type": "string"
          },
          "organization_child_ids": {
           "description": "Child organization IDs",
           "is_entity": false,
           "is_facet": false,
           "is_filter": true,
           "long_description": null,
           "type": "string"
          },
          "organization_parent_ids": {
           "description": "Parent organization IDs",
           "is_entity": false,
           "is_facet": false,
           "is_filter": true,
           "long_description": null,
           "type": "string"
          },
          "organization_related_ids": {
           "description": "Related organization IDs",
           "is_entity": false,
           "is_facet": false,
           "is_filter": true,
           "long_description": null,
           "type": "string"
          },
          "orgref_ids": {
           "description": "OrgRef IDs for this organization",
           "is_entity": false,
           "is_facet": false,
           "is_filter": true,
           "long_description": null,
           "type": "string"
          },
          "state_name": {
           "description": "GRID name of the organization country. E.g., \"Maryland\" for `grid.419635.c <https://grid.ac/institutes/grid.419635.c>`_",
           "is_entity": false,
           "is_facet": true,
           "is_filter": true,
           "long_description": null,
           "type": "string"
          },
          "types": {
           "description": "Type of an organization. Available types include: ``Company``, ``Education``, ``Healthcare``, ``Nonprofit``, ``Facility``, ``Other``, ``Government``, ``Archive``, ``Education,Company``, ``Education,Facility``, ``Education,Healthcare``, ``Education,Other``, ``Archive,Nonprofit``. Furhter explanation is on the `GRID <https://www.grid.ac/pages/policies>`_ website.",
           "is_entity": false,
           "is_facet": true,
           "is_filter": true,
           "long_description": null,
           "type": "string"
          },
          "ucas_ids": {
           "description": "UCAS IDs for this organization",
           "is_entity": false,
           "is_facet": false,
           "is_filter": true,
           "long_description": null,
           "type": "string"
          },
          "ukprn_ids": {
           "description": "UKPRN IDs for this organization",
           "is_entity": false,
           "is_facet": false,
           "is_filter": true,
           "long_description": null,
           "type": "string"
          },
          "wikidata_ids": {
           "description": "WikiData IDs for this organization",
           "is_entity": false,
           "is_facet": false,
           "is_filter": true,
           "long_description": null,
           "type": "string"
          },
          "wikipedia_url": {
           "description": "Wikipedia URL",
           "is_entity": false,
           "is_facet": false,
           "is_filter": false,
           "long_description": null,
           "type": "string"
          }
         },
         "fieldsets": [
          "all",
          "basics",
          "nuts"
         ],
         "metrics": {
          "count": {
           "description": "Total count",
           "name": "count"
          }
         },
         "search_fields": [
          "full_data"
         ]
        },
        "patents": {
         "fields": {
          "abstract": {
           "description": "Abstract or description of the patent.",
           "is_entity": false,
           "is_facet": false,
           "is_filter": false,
           "long_description": null,
           "type": "string"
          },
          "additional_filters": {
           "description": "Additional filters describing the patents, e.g. whether it's about a 'Research Organisation', or it is part of the 'Orange Book'.",
           "is_entity": false,
           "is_facet": false,
           "is_filter": true,
           "long_description": null,
           "type": "string"
          },
          "assignee_cities": {
           "description": "City of the assignees of the patent, expressed as GeoNames ID and name (note: this value is extracted independently from GRID).",
           "is_entity": true,
           "is_facet": true,
           "is_filter": true,
           "long_description": null,
           "type": "cities"
          },
          "assignee_countries": {
           "description": "Country of the assignees of the patent, expressed as GeoNames code and name (note: this value is extracted independently from GRID).",
           "is_entity": true,
           "is_facet": true,
           "is_filter": true,
           "long_description": null,
           "type": "countries"
          },
          "assignee_names": {
           "description": "Name of assignees of the patent, as they appear in the original document.",
           "is_entity": false,
           "is_facet": false,
           "is_filter": true,
           "long_description": null,
           "type": "string"
          },
          "assignee_state_codes": {
           "description": "State of the assignee, expressed using GeoNames (ISO‌-3166-2) codes (note: this value is extracted independently from GRID).",
           "is_entity": true,
           "is_facet": true,
           "is_filter": true,
           "long_description": null,
           "type": "states"
          },
          "assignees": {
           "description": "Disambiguated GRID organisations who own or have owned the rights of a patent (note: this is a combination of `current_assignees` and `original_assignees` fields).",
           "is_entity": true,
           "is_facet": true,
           "is_filter": true,
           "long_description": null,
           "type": "organizations"
          },
          "associated_grant_ids": {
           "description": "Dimensions IDs of the grants associated to the patent (see also: :ref:`patents_model` section).",
           "is_entity": false,
           "is_facet": false,
           "is_filter": true,
           "long_description": null,
           "type": "string"
          },
          "category_bra": {
           "description": "`Broad Research Areas <https://app.dimensions.ai/browse/publication/broad_research_areas?redirect_path=/discover/publication>`_",
           "is_entity": true,
           "is_facet": true,
           "is_filter": true,
           "long_description": null,
           "type": "categories"
          },
          "category_for": {
           "description": "`ANZSRC Fields of Research classification <https://app.dimensions.ai/browse/publication/for>`_",
           "is_entity": true,
           "is_facet": true,
           "is_filter": true,
           "long_description": null,
           "type": "categories"
          },
          "category_hra": {
           "description": "`Health Research Areas <https://app.dimensions.ai/browse/publication/health_research_areas?redirect_path=/discover/publication>`_",
           "is_entity": true,
           "is_facet": true,
           "is_filter": true,
           "long_description": null,
           "type": "categories"
          },
          "category_hrcs_hc": {
           "description": "`HRCS - Health Categories <https://app.dimensions.ai/browse/publication/hrcs_hc>`_",
           "is_entity": true,
           "is_facet": true,
           "is_filter": true,
           "long_description": null,
           "type": "categories"
          },
          "category_hrcs_rac": {
           "description": "`HRCS – Research Activity Codes <https://app.dimensions.ai/browse/publication/hrcs_rac>`_",
           "is_entity": true,
           "is_facet": true,
           "is_filter": true,
           "long_description": null,
           "type": "categories"
          },
          "category_icrp_cso": {
           "description": "`ICRP Common Scientific Outline <https://app.dimensions.ai/browse/publication/cso>`_",
           "is_entity": true,
           "is_facet": true,
           "is_filter": true,
           "long_description": null,
           "type": "categories"
          },
          "category_icrp_ct": {
           "description": "`ICRP Cancer Types <https://app.dimensions.ai/browse/publication/cancer_types>`_",
           "is_entity": true,
           "is_facet": true,
           "is_filter": true,
           "long_description": null,
           "type": "categories"
          },
          "category_rcdc": {
           "description": "`Research, Condition, and Disease Categorization <https://app.dimensions.ai/browse/publication/rcdc>`_",
           "is_entity": true,
           "is_facet": true,
           "is_filter": true,
           "long_description": null,
           "type": "categories"
          },
          "cited_by_ids": {
           "description": "Dimensions IDs of the patents that cite this patent (see also: :ref:`patents_model` section).",
           "is_entity": false,
           "is_facet": false,
           "is_filter": true,
           "long_description": null,
           "type": "string"
          },
          "cpc": {
           "description": "`Cooperative Patent Classification Categorization <https://www.epo.org/searching-for-patents/helpful-resources/first-time-here/classification/cpc.html>`_.",
           "is_entity": false,
           "is_facet": true,
           "is_filter": true,
           "long_description": null,
           "type": "string"
          },
          "current_assignee_names": {
           "description": "Names of the organisations currently holding the patent, as they appear in the original document.",
           "is_entity": false,
           "is_facet": false,
           "is_filter": true,
           "long_description": null,
           "type": "string"
          },
          "current_assignees": {
           "description": "Disambiguated GRID organisations currenlty owning the patent.",
           "is_entity": true,
           "is_facet": true,
           "is_filter": true,
           "long_description": null,
           "type": "organizations"
          },
          "date": {
           "description": "Date when the patent was filed.",
           "is_entity": false,
           "is_facet": false,
           "is_filter": true,
           "long_description": null,
           "type": "date"
          },
          "date_inserted": {
           "description": "Date when the record was inserted into Dimensions (note: this field does not support exact match on the data, only range filters e.g. `<=` or `>=`).",
           "is_entity": false,
           "is_facet": false,
           "is_filter": true,
           "long_description": null,
           "type": "date"
          },
          "expiration_date": {
           "description": "Date when the patent expires.",
           "is_entity": false,
           "is_facet": false,
           "is_filter": true,
           "long_description": null,
           "type": "date"
          },
          "filing_status": {
           "description": "Filing Status of the patent e.g. 'Application' or 'Grant'.",
           "is_entity": false,
           "is_facet": false,
           "is_filter": true,
           "long_description": null,
           "type": "string"
          },
          "funders": {
           "description": "GRID organisations funding the patent.",
           "is_entity": true,
           "is_facet": true,
           "is_filter": true,
           "long_description": null,
           "type": "organizations"
          },
          "granted_date": {
           "description": "The date on which the official body grants the patent.",
           "is_entity": false,
           "is_facet": false,
           "is_filter": true,
           "long_description": null,
           "type": "date"
          },
          "granted_year": {
           "description": "The year on which the official body grants the patent.",
           "is_entity": false,
           "is_facet": true,
           "is_filter": true,
           "long_description": null,
           "type": "integer"
          },
          "id": {
           "description": "Dimensions patent ID",
           "is_entity": false,
           "is_facet": false,
           "is_filter": true,
           "long_description": null,
           "type": "string"
          },
          "inventor_names": {
           "description": "Names of the people who invented the patent.",
           "is_entity": false,
           "is_facet": false,
           "is_filter": true,
           "long_description": null,
           "type": "string"
          },
          "ipcr": {
           "description": "`International Patent Classification Reform Categorization <https://www.wipo.int/classifications/ipc/en/faq/>`_.",
           "is_entity": false,
           "is_facet": true,
           "is_filter": true,
           "long_description": null,
           "type": "string"
          },
          "jurisdiction": {
           "description": "The jurisdiction where the patent was granted, e.g. 'US', 'DE', 'EP'...",
           "is_entity": false,
           "is_facet": true,
           "is_filter": true,
           "long_description": null,
           "type": "string"
          },
          "legal_status": {
           "description": "The legal status of the patent, e.g. 'Granted', 'Active', 'Abandoned' etc..",
           "is_entity": false,
           "is_facet": false,
           "is_filter": true,
           "long_description": null,
           "type": "string"
          },
          "original_assignee_names": {
           "description": "Name of the organisations that first owned the patent, as they appear in the original document.",
           "is_entity": false,
           "is_facet": false,
           "is_filter": true,
           "long_description": null,
           "type": "string"
          },
          "original_assignees": {
           "description": "Disambiguated GRID organisations that first owned the patent.",
           "is_entity": true,
           "is_facet": true,
           "is_filter": true,
           "long_description": null,
           "type": "organizations"
          },
          "priority_date": {
           "description": "The earliest filing date in a family of patent applications.",
           "is_entity": false,
           "is_facet": false,
           "is_filter": true,
           "long_description": null,
           "type": "date"
          },
          "priority_year": {
           "description": "The filing year of the earliest application of which priority is claimed.",
           "is_entity": false,
           "is_facet": true,
           "is_filter": true,
           "long_description": null,
           "type": "integer"
          },
          "publication_date": {
           "description": "Date of publication of a patent.",
           "is_entity": false,
           "is_facet": false,
           "is_filter": true,
           "long_description": null,
           "type": "date"
          },
          "publication_ids": {
           "description": "Dimensions IDs of the publications related to this patent (see also: :ref:`patents_model` section).",
           "is_entity": false,
           "is_facet": false,
           "is_filter": true,
           "long_description": null,
           "type": "string"
          },
          "publication_year": {
           "description": "Year of publication of a patent.",
           "is_entity": false,
           "is_facet": true,
           "is_filter": true,
           "long_description": null,
           "type": "integer"
          },
          "reference_ids": {
           "description": "Dimensions IDs of the patents which are cited by this patent (see also: :ref:`patents_model` section).",
           "is_entity": false,
           "is_facet": false,
           "is_filter": true,
           "long_description": null,
           "type": "string"
          },
          "researchers": {
           "description": "Researcher IDs matched to the patent's inventors list. (note: this returns only the disambiguated inventors of a patent; in order to get the full list of inventors, the field `inventors` should be used).",
           "is_entity": true,
           "is_facet": true,
           "is_filter": true,
           "long_description": null,
           "type": "researchers"
          },
          "times_cited": {
           "description": "The number of times the patent has been cited by other patents.",
           "is_entity": false,
           "is_facet": true,
           "is_filter": true,
           "long_description": null,
           "type": "integer"
          },
          "title": {
           "description": "The title of the patent.",
           "is_entity": false,
           "is_facet": false,
           "is_filter": false,
           "long_description": null,
           "type": "string"
          },
          "year": {
           "description": "The year the patent was filed.",
           "is_entity": false,
           "is_facet": true,
           "is_filter": true,
           "long_description": null,
           "type": "integer"
          }
         },
         "fieldsets": [
          "all",
          "basics",
          "extras",
          "categories"
         ],
         "metrics": {
          "count": {
           "description": "Total count",
           "name": "count"
          }
         },
         "search_fields": [
          "inventors",
          "full_data",
          "title_only",
          "title_abstract_only"
         ]
        },
        "policy_documents": {
         "fields": {
          "category_bra": {
           "description": "`Broad Research Areas <https://app.dimensions.ai/browse/publication/broad_research_areas?redirect_path=/discover/publication>`_",
           "is_entity": true,
           "is_facet": true,
           "is_filter": true,
           "long_description": null,
           "type": "categories"
          },
          "category_for": {
           "description": "`ANZSRC Fields of Research classification <https://app.dimensions.ai/browse/publication/for>`_",
           "is_entity": true,
           "is_facet": true,
           "is_filter": true,
           "long_description": null,
           "type": "categories"
          },
          "category_hra": {
           "description": "`Health Research Areas <https://app.dimensions.ai/browse/publication/health_research_areas?redirect_path=/discover/publication>`_",
           "is_entity": true,
           "is_facet": true,
           "is_filter": true,
           "long_description": null,
           "type": "categories"
          },
          "category_hrcs_hc": {
           "description": "`HRCS - Health Categories <https://app.dimensions.ai/browse/publication/hrcs_hc>`_",
           "is_entity": true,
           "is_facet": true,
           "is_filter": true,
           "long_description": null,
           "type": "categories"
          },
          "category_hrcs_rac": {
           "description": "`HRCS – Research Activity Codes <https://app.dimensions.ai/browse/publication/hrcs_rac>`_",
           "is_entity": true,
           "is_facet": true,
           "is_filter": true,
           "long_description": null,
           "type": "categories"
          },
          "category_icrp_cso": {
           "description": "`ICRP Common Scientific Outline <https://app.dimensions.ai/browse/publication/cso>`_",
           "is_entity": true,
           "is_facet": true,
           "is_filter": true,
           "long_description": null,
           "type": "categories"
          },
          "category_icrp_ct": {
           "description": "`ICRP Cancer Types <https://app.dimensions.ai/browse/publication/cancer_types>`_",
           "is_entity": true,
           "is_facet": true,
           "is_filter": true,
           "long_description": null,
           "type": "categories"
          },
          "category_rcdc": {
           "description": "`Research, Condition, and Disease Categorization <https://app.dimensions.ai/browse/publication/rcdc>`_",
           "is_entity": true,
           "is_facet": true,
           "is_filter": true,
           "long_description": null,
           "type": "categories"
          },
          "date_inserted": {
           "description": "Date when the record was inserted into Dimensions (note: this field does not support exact match on the data, only range filters e.g. `<=` or `>=`).",
           "is_entity": false,
           "is_facet": false,
           "is_filter": true,
           "long_description": null,
           "type": "date"
          },
          "id": {
           "description": "Dimensions policy document ID",
           "is_entity": false,
           "is_facet": false,
           "is_filter": true,
           "long_description": null,
           "type": "string"
          },
          "linkout": {
           "description": "Original URL for the policy document.",
           "is_entity": false,
           "is_facet": false,
           "is_filter": false,
           "long_description": null,
           "type": "string"
          },
          "publication_ids": {
           "description": "Dimensions IDs of the publications related to this policy document (see also: :ref:`policy_documents_model` section).",
           "is_entity": false,
           "is_facet": false,
           "is_filter": true,
           "long_description": null,
           "type": "string"
          },
          "publisher_org": {
           "description": "GRID organization publishing the policy document.",
           "is_entity": true,
           "is_facet": true,
           "is_filter": true,
           "long_description": null,
           "type": "organizations"
          },
          "publisher_org_city": {
           "description": "City of the organization publishing the policy document.",
           "is_entity": true,
           "is_facet": true,
           "is_filter": true,
           "long_description": null,
           "type": "cities"
          },
          "publisher_org_country": {
           "description": "Country of the organization publishing the policy document.",
           "is_entity": true,
           "is_facet": true,
           "is_filter": true,
           "long_description": null,
           "type": "countries"
          },
          "publisher_org_state": {
           "description": "State of the organization publishing the policy document.",
           "is_entity": true,
           "is_facet": true,
           "is_filter": true,
           "long_description": null,
           "type": "states"
          },
          "title": {
           "description": "Title of the policy document.",
           "is_entity": false,
           "is_facet": false,
           "is_filter": true,
           "long_description": null,
           "type": "string"
          },
          "year": {
           "description": "Year of publication of the policy document.",
           "is_entity": false,
           "is_facet": true,
           "is_filter": true,
           "long_description": null,
           "type": "integer"
          }
         },
         "fieldsets": [
          "all",
          "basics",
          "categories"
         ],
         "metrics": {
          "count": {
           "description": "Total count",
           "name": "count"
          }
         },
         "search_fields": [
          "full_data",
          "title_only"
         ]
        },
        "publications": {
         "fields": {
          "altmetric": {
           "description": "Altmetric attention score.",
           "is_entity": false,
           "is_facet": false,
           "is_filter": true,
           "long_description": null,
           "type": "float"
          },
          "altmetric_id": {
           "description": "AltMetric Publication ID",
           "is_entity": false,
           "is_facet": false,
           "is_filter": true,
           "long_description": null,
           "type": "integer"
          },
          "authors": {
           "description": "Ordered list of authors names and their affiliations, as they appear in the original publication. The list can include researcher and organization identifiers, when available (note: in order to search for disambiguated authors, use the `in researchers` syntax).",
           "is_entity": false,
           "is_facet": false,
           "is_filter": true,
           "long_description": null,
           "type": "json"
          },
          "book_doi": {
           "description": "The DOI of the book a chapter belongs to (note: this field is available only for chapters).",
           "is_entity": false,
           "is_facet": false,
           "is_filter": true,
           "long_description": null,
           "type": "string"
          },
          "book_series_title": {
           "description": "The title of the book series book, belong to.",
           "is_entity": false,
           "is_facet": false,
           "is_filter": false,
           "long_description": null,
           "type": "string"
          },
          "book_title": {
           "description": "The title of the book a chapter belongs to (note: this field is available only for chapters).",
           "is_entity": false,
           "is_facet": false,
           "is_filter": false,
           "long_description": null,
           "type": "string"
          },
          "category_bra": {
           "description": "`Broad Research Areas <https://app.dimensions.ai/browse/publication/broad_research_areas>`_",
           "is_entity": true,
           "is_facet": true,
           "is_filter": true,
           "long_description": null,
           "type": "categories"
          },
          "category_for": {
           "description": "`ANZSRC Fields of Research classification <https://app.dimensions.ai/browse/publication/for>`_",
           "is_entity": true,
           "is_facet": true,
           "is_filter": true,
           "long_description": null,
           "type": "categories"
          },
          "category_hra": {
           "description": "`Health Research Areas <https://app.dimensions.ai/browse/publication/health_research_areas>`_",
           "is_entity": true,
           "is_facet": true,
           "is_filter": true,
           "long_description": null,
           "type": "categories"
          },
          "category_hrcs_hc": {
           "description": "`HRCS - Health Categories <https://app.dimensions.ai/browse/publication/hrcs_hc>`_",
           "is_entity": true,
           "is_facet": true,
           "is_filter": true,
           "long_description": null,
           "type": "categories"
          },
          "category_hrcs_rac": {
           "description": "`HRCS – Research Activity Codes <https://app.dimensions.ai/browse/publication/hrcs_rac>`_",
           "is_entity": true,
           "is_facet": true,
           "is_filter": true,
           "long_description": null,
           "type": "categories"
          },
          "category_icrp_cso": {
           "description": "`ICRP Common Scientific Outline <https://app.dimensions.ai/browse/publication/cso>`_",
           "is_entity": true,
           "is_facet": true,
           "is_filter": true,
           "long_description": null,
           "type": "categories"
          },
          "category_icrp_ct": {
           "description": "`ICRP Cancer Types <https://app.dimensions.ai/browse/publication/cancer_types>`_",
           "is_entity": true,
           "is_facet": true,
           "is_filter": true,
           "long_description": null,
           "type": "categories"
          },
          "category_rcdc": {
           "description": "`Research, Condition, and Disease Categorization <https://app.dimensions.ai/browse/publication/rcdc>`_",
           "is_entity": true,
           "is_facet": true,
           "is_filter": true,
           "long_description": null,
           "type": "categories"
          },
          "category_sdg": {
           "description": "SDG - Sustainable Development Goals",
           "is_entity": true,
           "is_facet": true,
           "is_filter": true,
           "long_description": null,
           "type": "categories"
          },
          "category_uoa": {
           "description": "`Units of Assessment <https://app.dimensions.ai/browse/publication/uoa>`_",
           "is_entity": true,
           "is_facet": true,
           "is_filter": true,
           "long_description": null,
           "type": "categories"
          },
          "concepts": {
           "description": null,
           "is_entity": false,
           "is_facet": false,
           "is_filter": true,
           "long_description": null,
           "type": "json"
          },
          "concepts_scores": {
           "description": null,
           "is_entity": false,
           "is_facet": false,
           "is_filter": true,
           "long_description": null,
           "type": "json"
          },
          "date": {
           "description": "The publication date of a document, eg \"2018-01-01\" (note: dates can sometimes be incomplete and include only the month or the year).",
           "is_entity": false,
           "is_facet": false,
           "is_filter": true,
           "long_description": null,
           "type": "date"
          },
          "date_inserted": {
           "description": "Date when the record was inserted into Dimensions (note: this field does not support exact match on the data, only range filters e.g. `<=` or `>=').",
           "is_entity": false,
           "is_facet": false,
           "is_filter": true,
           "long_description": null,
           "type": "date"
          },
          "doi": {
           "description": "Digital object identifier.",
           "is_entity": false,
           "is_facet": false,
           "is_filter": true,
           "long_description": null,
           "type": "string"
          },
          "field_citation_ratio": {
           "description": "Relative citation performance of article when compared to similarly aged articles in its area of research (note: does not support emptiness filters).",
           "is_entity": false,
           "is_facet": false,
           "is_filter": true,
           "long_description": null,
           "type": "float"
          },
          "funder_countries": {
           "description": "The country of the organisations funding this publication.",
           "is_entity": true,
           "is_facet": true,
           "is_filter": true,
           "long_description": null,
           "type": "countries"
          },
          "funders": {
           "description": "The GRID organisation funding this publication.",
           "is_entity": true,
           "is_facet": true,
           "is_filter": true,
           "long_description": null,
           "type": "organizations"
          },
          "id": {
           "description": "Dimensions publication ID.",
           "is_entity": false,
           "is_facet": false,
           "is_filter": true,
           "long_description": null,
           "type": "string"
          },
          "issn": {
           "description": "International Standard Serial Number",
           "is_entity": false,
           "is_facet": false,
           "is_filter": true,
           "long_description": null,
           "type": "string"
          },
          "issue": {
           "description": "The issue number of a publication.",
           "is_entity": false,
           "is_facet": false,
           "is_filter": true,
           "long_description": null,
           "type": "string"
          },
          "journal": {
           "description": "The journal a publication belongs to.",
           "is_entity": true,
           "is_facet": true,
           "is_filter": true,
           "long_description": null,
           "type": "journals"
          },
          "journal_lists": {
           "description": "Independent grouping of journals outside of Dimensions, e.g. 'ERA 2015' or 'Norwegian register level 1'.",
           "is_entity": false,
           "is_facet": true,
           "is_filter": true,
           "long_description": null,
           "type": "string"
          },
          "linkout": {
           "description": "Original URL for a publication full text.",
           "is_entity": false,
           "is_facet": false,
           "is_filter": false,
           "long_description": null,
           "type": "string"
          },
          "mesh_terms": {
           "description": "Medical Subject Heading terms as used in PubMed.",
           "is_entity": false,
           "is_facet": true,
           "is_filter": true,
           "long_description": null,
           "type": "string"
          },
          "open_access_categories": {
           "description": "Open Access categories for publications. See below for more examples.",
           "is_entity": true,
           "is_facet": true,
           "is_filter": true,
           "long_description": "Open Access category data for publications values:\n\n        * `oa_all`: Article is freely available\n        * `gold_pure`: Version Of Record (VOR) is free under an open licence from a full OA journal\n        * `gold_hybrid`: Version Of Record (VOR) is free under an open licence in a paid-access journal\n        * `gold_bronze`: Freely available on publisher page, but without an open licence\n        * `green_pub`: Free copy of published version in an OA repository\n        * `green_acc`: Free copy of accepted version in an OA repository\n        * `green_sub`: Free copy of submitted version, or where version is unknown, in an OA repository\n        * `closed`: No freely available copy has been identified",
           "type": "open_access"
          },
          "pages": {
           "description": "The pages of the publication, as they would appear in a citation record.",
           "is_entity": false,
           "is_facet": false,
           "is_filter": true,
           "long_description": null,
           "type": "string"
          },
          "pmcid": {
           "description": "PubMed Central ID.",
           "is_entity": false,
           "is_facet": false,
           "is_filter": true,
           "long_description": null,
           "type": "string"
          },
          "pmid": {
           "description": "PubMed ID.",
           "is_entity": false,
           "is_facet": false,
           "is_filter": true,
           "long_description": null,
           "type": "string"
          },
          "proceedings_title": {
           "description": "Title of the conference proceedings volume associated to a publication.",
           "is_entity": false,
           "is_facet": false,
           "is_filter": false,
           "long_description": null,
           "type": "string"
          },
          "publisher": {
           "description": "Name of the publisher as a string.",
           "is_entity": false,
           "is_facet": true,
           "is_filter": true,
           "long_description": null,
           "type": "string"
          },
          "recent_citations": {
           "description": "Number of citations received in the last two years. Does not support emptiness filters",
           "is_entity": false,
           "is_facet": false,
           "is_filter": true,
           "long_description": null,
           "type": "integer"
          },
          "reference_ids": {
           "description": "Dimensions publication ID for publications in the references list, i.e. outgoing citations (see also: :ref:`publications_model` section).",
           "is_entity": false,
           "is_facet": false,
           "is_filter": true,
           "long_description": null,
           "type": "string"
          },
          "relative_citation_ratio": {
           "description": "Relative citation performance of an article when compared to others in its area of research (note: does not support emptiness filters).",
           "is_entity": false,
           "is_facet": false,
           "is_filter": true,
           "long_description": null,
           "type": "float"
          },
          "research_org_cities": {
           "description": "City of the organisations authors are affiliated to, expressed as GeoNames ID and name.",
           "is_entity": true,
           "is_facet": true,
           "is_filter": true,
           "long_description": null,
           "type": "cities"
          },
          "research_org_countries": {
           "description": "Country of the organisations authors are affiliated to, identified using GeoNames codes (note: this field supports :ref:`filter-functions`: ``count``).",
           "is_entity": true,
           "is_facet": true,
           "is_filter": true,
           "long_description": null,
           "type": "countries"
          },
          "research_org_country_names": {
           "description": "Country name of the organisations authors are affiliated to, as a string.",
           "is_entity": false,
           "is_facet": false,
           "is_filter": true,
           "long_description": null,
           "type": "string"
          },
          "research_org_names": {
           "description": "Names of organizations authors are affiliated to.",
           "is_entity": false,
           "is_facet": false,
           "is_filter": true,
           "long_description": null,
           "type": "string"
          },
          "research_org_state_codes": {
           "description": "State of the organisations authors are affiliated to, expressed as GeoNames codes (ISO‌-3166-2).",
           "is_entity": true,
           "is_facet": true,
           "is_filter": true,
           "long_description": null,
           "type": "states"
          },
          "research_org_state_names": {
           "description": "State name of the organisations authors are affiliated to, as a string.",
           "is_entity": false,
           "is_facet": false,
           "is_filter": true,
           "long_description": null,
           "type": "string"
          },
          "research_orgs": {
           "description": "GRID organisations associated to a publication. Identifiers are automatically extracted from author affiliations text, so they can be missing in some cases (note: this field supports :ref:`filter-functions`: ``count``).",
           "is_entity": true,
           "is_facet": true,
           "is_filter": true,
           "long_description": null,
           "type": "organizations"
          },
          "researchers": {
           "description": "Researcher IDs matched to the publication's authors list. (note: this returns only the disambiguated authors of a publication; in order to get the full authors list, the field `authors` should be used). This field supports :ref:`filter-functions`: ``count``.",
           "is_entity": true,
           "is_facet": true,
           "is_filter": true,
           "long_description": null,
           "type": "researchers"
          },
          "resulting_publication_doi": {
           "description": "For preprints, the DOIs of the resulting full publications.",
           "is_entity": false,
           "is_facet": false,
           "is_filter": true,
           "long_description": null,
           "type": "string"
          },
          "supporting_grant_ids": {
           "description": "Grants supporting a publication, returned as a list of dimensions grants IDs  (see also: :ref:`publications_model` section).",
           "is_entity": false,
           "is_facet": false,
           "is_filter": true,
           "long_description": null,
           "type": "string"
          },
          "times_cited": {
           "description": "Number of citations (note: does not support emptiness filters).",
           "is_entity": false,
           "is_facet": true,
           "is_filter": true,
           "long_description": null,
           "type": "integer"
          },
          "title": {
           "description": "Title of a publication.",
           "is_entity": false,
           "is_facet": false,
           "is_filter": false,
           "long_description": null,
           "type": "string"
          },
          "type": {
           "description": "Publication type (one of: article, chapter, proceeding, monograph, preprint or book).",
           "is_entity": false,
           "is_facet": true,
           "is_filter": true,
           "long_description": null,
           "type": "string"
          },
          "volume": {
           "description": "Publication volume.",
           "is_entity": false,
           "is_facet": false,
           "is_filter": true,
           "long_description": null,
           "type": "string"
          },
          "year": {
           "description": "The year of publication (note: when the `date` field is available, this is equal to the year part of the full date).",
           "is_entity": false,
           "is_facet": true,
           "is_filter": true,
           "long_description": null,
           "type": "integer"
          }
         },
         "fieldsets": [
          "all",
          "basics",
          "extras",
          "book",
          "categories"
         ],
         "metrics": {
          "altmetric_avg": {
           "description": "Altmetric attention score mean",
           "name": "altmetric_avg"
          },
          "altmetric_median": {
           "description": "Median Altmetric attention score",
           "name": "altmetric_median"
          },
          "citations_avg": {
           "description": "Arithmetic mean of citations",
           "name": "citations_avg"
          },
          "citations_median": {
           "description": "Median of citations",
           "name": "citations_median"
          },
          "citations_total": {
           "description": "Aggregated number of citations",
           "name": "citations_total"
          },
          "count": {
           "description": "Total count",
           "name": "count"
          },
          "fcr_gavg": {
           "description": "Geometric mean of `field_citation_ratio` field (note: This field cannot be used for sorting results).",
           "name": "fcr_gavg"
          },
          "rcr_avg": {
           "description": "Arithmetic mean of `relative_citation_ratio` field.",
           "name": "rcr_avg"
          },
          "recent_citations_total": {
           "description": "For a given article, in a given year, the number of citations accrued in the last two year period. Single value stored per document, year window rolls over in July.",
           "name": "recent_citations_total"
          }
         },
         "search_fields": [
          "noun_phrases",
          "authors",
          "full_data_exact",
          "full_data",
          "title_abstract_only",
          "title_only",
          "concepts"
         ]
        },
        "researchers": {
         "fields": {
          "current_research_org": {
           "description": "The most recent research organization linked to the researcher.",
           "is_entity": true,
           "is_facet": true,
           "is_filter": true,
           "long_description": null,
           "type": "organizations"
          },
          "first_grant_year": {
           "description": "First year the researcher was awarded a grant.",
           "is_entity": false,
           "is_facet": true,
           "is_filter": true,
           "long_description": null,
           "type": "integer"
          },
          "first_name": {
           "description": "First Name.",
           "is_entity": false,
           "is_facet": false,
           "is_filter": true,
           "long_description": null,
           "type": "string"
          },
          "first_publication_year": {
           "description": null,
           "is_entity": false,
           "is_facet": true,
           "is_filter": true,
           "long_description": null,
           "type": "integer"
          },
          "id": {
           "description": "Dimensions researcher ID.",
           "is_entity": false,
           "is_facet": false,
           "is_filter": true,
           "long_description": null,
           "type": "string"
          },
          "last_grant_year": {
           "description": "Last year the researcher was awarded a grant.",
           "is_entity": false,
           "is_facet": true,
           "is_filter": true,
           "long_description": null,
           "type": "integer"
          },
          "last_name": {
           "description": "Last Name.",
           "is_entity": false,
           "is_facet": false,
           "is_filter": true,
           "long_description": null,
           "type": "string"
          },
          "last_publication_year": {
           "description": null,
           "is_entity": false,
           "is_facet": true,
           "is_filter": true,
           "long_description": null,
           "type": "integer"
          },
          "nih_ppid": {
           "description": "The PI Profile ID (i.e., ppid) is a Researcher ID from the US National Institute of Health (NIH).",
           "is_entity": false,
           "is_facet": false,
           "is_filter": true,
           "long_description": null,
           "type": "string"
          },
          "obsolete": {
           "description": "Indicates researcher ID status. 0 means that the researcher ID is still active, 1 means that the researcher ID is no longer valid. See the `redirect` field for further information on invalid researcher IDs.",
           "is_entity": false,
           "is_facet": false,
           "is_filter": true,
           "long_description": null,
           "type": "integer"
          },
          "orcid_id": {
           "description": "`ORCID <https://orcid.org/>`_ ID.",
           "is_entity": false,
           "is_facet": false,
           "is_filter": true,
           "long_description": null,
           "type": "string"
          },
          "redirect": {
           "description": "Indicates status of a researcher ID marked as obsolete. Empty means that the researcher ID was deleted. Otherwise ID provided means that is the new ID into which the obsolete one was redirected. If multiple values are available, it means that the original researcher ID was split into multiple IDs.",
           "is_entity": false,
           "is_facet": false,
           "is_filter": true,
           "long_description": null,
           "type": "string"
          },
          "research_orgs": {
           "description": "All research organizations linked to the researcher.",
           "is_entity": true,
           "is_facet": true,
           "is_filter": true,
           "long_description": null,
           "type": "organizations"
          },
          "total_grants": {
           "description": "Total grants count.",
           "is_entity": false,
           "is_facet": true,
           "is_filter": true,
           "long_description": null,
           "type": "integer"
          },
          "total_publications": {
           "description": "Total publications count.",
           "is_entity": false,
           "is_facet": true,
           "is_filter": true,
           "long_description": null,
           "type": "integer"
          }
         },
         "fieldsets": [
          "all",
          "basics",
          "extras"
         ],
         "metrics": {
          "count": {
           "description": "Total count",
           "name": "count"
          }
         },
         "search_fields": []
        }
       }
      },
      "text/plain": [
       "<dimcli.DslDataset object #4635749392. Dict keys: 'sources', 'entities'>"
      ]
     },
     "execution_count": 4,
     "metadata": {
      "application/json": {
       "expanded": false,
       "root": "root"
      }
     },
     "output_type": "execute_result"
    }
   ],
   "source": [
    "dsl.query(\"describe schema\")"
   ]
  },
  {
   "cell_type": "markdown",
   "metadata": {
    "Collapsed": "false"
   },
   "source": [
    "A more useful query might also make use of the optional `for` and\n",
    "`where` phrases to limit the set of records returned."
   ]
  },
  {
   "cell_type": "code",
   "execution_count": 5,
   "metadata": {
    "Collapsed": "false"
   },
   "outputs": [
    {
     "name": "stdout",
     "output_type": "stream",
     "text": [
      "Returned Grants: 5 (total = 1734)\n"
     ]
    },
    {
     "data": {
      "text/html": [
       "<div>\n",
       "<style scoped>\n",
       "    .dataframe tbody tr th:only-of-type {\n",
       "        vertical-align: middle;\n",
       "    }\n",
       "\n",
       "    .dataframe tbody tr th {\n",
       "        vertical-align: top;\n",
       "    }\n",
       "\n",
       "    .dataframe thead th {\n",
       "        text-align: right;\n",
       "    }\n",
       "</style>\n",
       "<table border=\"1\" class=\"dataframe\">\n",
       "  <thead>\n",
       "    <tr style=\"text-align: right;\">\n",
       "      <th></th>\n",
       "      <th>project_num</th>\n",
       "      <th>end_date</th>\n",
       "      <th>start_date</th>\n",
       "      <th>original_title</th>\n",
       "      <th>start_year</th>\n",
       "      <th>title_language</th>\n",
       "      <th>id</th>\n",
       "      <th>funding_org_name</th>\n",
       "      <th>funders</th>\n",
       "      <th>active_year</th>\n",
       "      <th>language</th>\n",
       "      <th>title</th>\n",
       "    </tr>\n",
       "  </thead>\n",
       "  <tbody>\n",
       "    <tr>\n",
       "      <th>0</th>\n",
       "      <td>F32HL010455</td>\n",
       "      <td>2002-01-01</td>\n",
       "      <td>2000-12-31</td>\n",
       "      <td>ROLE OF CD44 ISOFORMS IN ENDOTHELIAL CELL DAMAGE</td>\n",
       "      <td>2000</td>\n",
       "      <td>en</td>\n",
       "      <td>grant.2386513</td>\n",
       "      <td>National Heart Lung and Blood Institute</td>\n",
       "      <td>[{'id': 'grid.279885.9', 'country_name': 'Unit...</td>\n",
       "      <td>[2000, 2001, 2002]</td>\n",
       "      <td>en</td>\n",
       "      <td>ROLE OF CD44 ISOFORMS IN ENDOTHELIAL CELL DAMAGE</td>\n",
       "    </tr>\n",
       "    <tr>\n",
       "      <th>1</th>\n",
       "      <td>R01HL063695</td>\n",
       "      <td>2004-11-30</td>\n",
       "      <td>2000-12-18</td>\n",
       "      <td>ESTROGEN, ANGIOGENESIS AND ENDOTHELIAL PROGENI...</td>\n",
       "      <td>2000</td>\n",
       "      <td>en</td>\n",
       "      <td>grant.2537116</td>\n",
       "      <td>National Heart Lung and Blood Institute</td>\n",
       "      <td>[{'id': 'grid.279885.9', 'country_name': 'Unit...</td>\n",
       "      <td>[2000, 2001, 2002, 2003, 2004]</td>\n",
       "      <td>en</td>\n",
       "      <td>ESTROGEN, ANGIOGENESIS AND ENDOTHELIAL PROGENI...</td>\n",
       "    </tr>\n",
       "    <tr>\n",
       "      <th>2</th>\n",
       "      <td>R01HL066221</td>\n",
       "      <td>2007-11-30</td>\n",
       "      <td>2000-12-18</td>\n",
       "      <td>GENETIC ANALYSIS OF EPHRIN-EPH SIGNALING IN AN...</td>\n",
       "      <td>2000</td>\n",
       "      <td>en</td>\n",
       "      <td>grant.2537801</td>\n",
       "      <td>National Heart Lung and Blood Institute</td>\n",
       "      <td>[{'id': 'grid.279885.9', 'country_name': 'Unit...</td>\n",
       "      <td>[2000, 2001, 2002, 2003, 2004, 2005, 2006, 2007]</td>\n",
       "      <td>en</td>\n",
       "      <td>GENETIC ANALYSIS OF EPHRIN-EPH SIGNALING IN AN...</td>\n",
       "    </tr>\n",
       "    <tr>\n",
       "      <th>3</th>\n",
       "      <td>R01HL062244</td>\n",
       "      <td>2017-12-31</td>\n",
       "      <td>2000-12-15</td>\n",
       "      <td>Synthetic Heparan Sulfate: Probing Biosynthesi...</td>\n",
       "      <td>2000</td>\n",
       "      <td>en</td>\n",
       "      <td>grant.2536777</td>\n",
       "      <td>National Heart Lung and Blood Institute</td>\n",
       "      <td>[{'id': 'grid.279885.9', 'country_name': 'Unit...</td>\n",
       "      <td>[2000, 2001, 2002, 2003, 2004, 2005, 2006, 200...</td>\n",
       "      <td>en</td>\n",
       "      <td>Synthetic Heparan Sulfate: Probing Biosynthesi...</td>\n",
       "    </tr>\n",
       "    <tr>\n",
       "      <th>4</th>\n",
       "      <td>R01CA088932</td>\n",
       "      <td>2019-03-31</td>\n",
       "      <td>2000-12-01</td>\n",
       "      <td>Regulation of Telomerase by Sphingolipid Signa...</td>\n",
       "      <td>2000</td>\n",
       "      <td>en</td>\n",
       "      <td>grant.2475193</td>\n",
       "      <td>National Cancer Institute</td>\n",
       "      <td>[{'id': 'grid.48336.3a', 'country_name': 'Unit...</td>\n",
       "      <td>[2000, 2001, 2002, 2003, 2004, 2005, 2006, 200...</td>\n",
       "      <td>en</td>\n",
       "      <td>Regulation of Telomerase by Sphingolipid Signa...</td>\n",
       "    </tr>\n",
       "  </tbody>\n",
       "</table>\n",
       "</div>"
      ],
      "text/plain": [
       "   project_num    end_date  start_date  \\\n",
       "0  F32HL010455  2002-01-01  2000-12-31   \n",
       "1  R01HL063695  2004-11-30  2000-12-18   \n",
       "2  R01HL066221  2007-11-30  2000-12-18   \n",
       "3  R01HL062244  2017-12-31  2000-12-15   \n",
       "4  R01CA088932  2019-03-31  2000-12-01   \n",
       "\n",
       "                                      original_title  start_year  \\\n",
       "0   ROLE OF CD44 ISOFORMS IN ENDOTHELIAL CELL DAMAGE        2000   \n",
       "1  ESTROGEN, ANGIOGENESIS AND ENDOTHELIAL PROGENI...        2000   \n",
       "2  GENETIC ANALYSIS OF EPHRIN-EPH SIGNALING IN AN...        2000   \n",
       "3  Synthetic Heparan Sulfate: Probing Biosynthesi...        2000   \n",
       "4  Regulation of Telomerase by Sphingolipid Signa...        2000   \n",
       "\n",
       "  title_language             id                         funding_org_name  \\\n",
       "0             en  grant.2386513  National Heart Lung and Blood Institute   \n",
       "1             en  grant.2537116  National Heart Lung and Blood Institute   \n",
       "2             en  grant.2537801  National Heart Lung and Blood Institute   \n",
       "3             en  grant.2536777  National Heart Lung and Blood Institute   \n",
       "4             en  grant.2475193                National Cancer Institute   \n",
       "\n",
       "                                             funders  \\\n",
       "0  [{'id': 'grid.279885.9', 'country_name': 'Unit...   \n",
       "1  [{'id': 'grid.279885.9', 'country_name': 'Unit...   \n",
       "2  [{'id': 'grid.279885.9', 'country_name': 'Unit...   \n",
       "3  [{'id': 'grid.279885.9', 'country_name': 'Unit...   \n",
       "4  [{'id': 'grid.48336.3a', 'country_name': 'Unit...   \n",
       "\n",
       "                                         active_year language  \\\n",
       "0                                 [2000, 2001, 2002]       en   \n",
       "1                     [2000, 2001, 2002, 2003, 2004]       en   \n",
       "2   [2000, 2001, 2002, 2003, 2004, 2005, 2006, 2007]       en   \n",
       "3  [2000, 2001, 2002, 2003, 2004, 2005, 2006, 200...       en   \n",
       "4  [2000, 2001, 2002, 2003, 2004, 2005, 2006, 200...       en   \n",
       "\n",
       "                                               title  \n",
       "0   ROLE OF CD44 ISOFORMS IN ENDOTHELIAL CELL DAMAGE  \n",
       "1  ESTROGEN, ANGIOGENESIS AND ENDOTHELIAL PROGENI...  \n",
       "2  GENETIC ANALYSIS OF EPHRIN-EPH SIGNALING IN AN...  \n",
       "3  Synthetic Heparan Sulfate: Probing Biosynthesi...  \n",
       "4  Regulation of Telomerase by Sphingolipid Signa...  "
      ]
     },
     "execution_count": 5,
     "metadata": {},
     "output_type": "execute_result"
    }
   ],
   "source": [
    "%%dsldf \n",
    "search grants  for \"lung cancer\" \n",
    "    where active_year=2000 \n",
    "return  grants  limit 5"
   ]
  },
  {
   "cell_type": "markdown",
   "metadata": {
    "Collapsed": "false"
   },
   "source": [
    "### `return` result (source or facet)\n",
    "\n",
    "The most basic `return` phrase consists of the keyword `return` followed\n",
    "by the name of a `record` or `facet` to be returned. \n",
    "\n",
    "This must be the\n",
    "name of the `source` used in the `search` phrase, or the name of a\n",
    "`facet` of that source."
   ]
  },
  {
   "cell_type": "code",
   "execution_count": 6,
   "metadata": {
    "Collapsed": "false"
   },
   "outputs": [
    {
     "name": "stdout",
     "output_type": "stream",
     "text": [
      "Returned Grants: 5 (total = 110)\n"
     ]
    },
    {
     "data": {
      "text/html": [
       "<div>\n",
       "<style scoped>\n",
       "    .dataframe tbody tr th:only-of-type {\n",
       "        vertical-align: middle;\n",
       "    }\n",
       "\n",
       "    .dataframe tbody tr th {\n",
       "        vertical-align: top;\n",
       "    }\n",
       "\n",
       "    .dataframe thead th {\n",
       "        text-align: right;\n",
       "    }\n",
       "</style>\n",
       "<table border=\"1\" class=\"dataframe\">\n",
       "  <thead>\n",
       "    <tr style=\"text-align: right;\">\n",
       "      <th></th>\n",
       "      <th>start_date</th>\n",
       "      <th>title</th>\n",
       "      <th>end_date</th>\n",
       "      <th>title_language</th>\n",
       "      <th>project_num</th>\n",
       "      <th>id</th>\n",
       "      <th>funders</th>\n",
       "      <th>original_title</th>\n",
       "      <th>funding_org_name</th>\n",
       "      <th>start_year</th>\n",
       "      <th>language</th>\n",
       "      <th>active_year</th>\n",
       "    </tr>\n",
       "  </thead>\n",
       "  <tbody>\n",
       "    <tr>\n",
       "      <th>0</th>\n",
       "      <td>2019-08-15</td>\n",
       "      <td>Wearable silent speech technology to enhance i...</td>\n",
       "      <td>2024-07-31</td>\n",
       "      <td>en</td>\n",
       "      <td>R01DC016621</td>\n",
       "      <td>grant.8554260</td>\n",
       "      <td>[{'id': 'grid.214431.1', 'types': ['Facility']...</td>\n",
       "      <td>Wearable silent speech technology to enhance i...</td>\n",
       "      <td>National Institute on Deafness and Other Commu...</td>\n",
       "      <td>2019</td>\n",
       "      <td>en</td>\n",
       "      <td>[2019, 2020, 2021, 2022, 2023, 2024]</td>\n",
       "    </tr>\n",
       "    <tr>\n",
       "      <th>1</th>\n",
       "      <td>2019-04-01</td>\n",
       "      <td>Construction of a nursing system leading to im...</td>\n",
       "      <td>2023-03-31</td>\n",
       "      <td>en</td>\n",
       "      <td>19H03937</td>\n",
       "      <td>grant.8428997</td>\n",
       "      <td>[{'id': 'grid.54432.34', 'types': ['Nonprofit'...</td>\n",
       "      <td>Construction of a nursing system leading to im...</td>\n",
       "      <td>Japan Society for the Promotion of Science</td>\n",
       "      <td>2019</td>\n",
       "      <td>ja</td>\n",
       "      <td>[2019, 2020, 2021, 2022, 2023]</td>\n",
       "    </tr>\n",
       "    <tr>\n",
       "      <th>2</th>\n",
       "      <td>2019-04-01</td>\n",
       "      <td>Development of self-directed TE shunt speech t...</td>\n",
       "      <td>2022-03-31</td>\n",
       "      <td>en</td>\n",
       "      <td>19K10927</td>\n",
       "      <td>grant.8441322</td>\n",
       "      <td>[{'id': 'grid.54432.34', 'types': ['Nonprofit'...</td>\n",
       "      <td>Development of self-directed TE shunt speech t...</td>\n",
       "      <td>Japan Society for the Promotion of Science</td>\n",
       "      <td>2019</td>\n",
       "      <td>ja</td>\n",
       "      <td>[2019, 2020, 2021, 2022]</td>\n",
       "    </tr>\n",
       "    <tr>\n",
       "      <th>3</th>\n",
       "      <td>2019-04-01</td>\n",
       "      <td>Development of an olfactory improvement progra...</td>\n",
       "      <td>2021-03-31</td>\n",
       "      <td>ja</td>\n",
       "      <td>19K19574</td>\n",
       "      <td>grant.8422934</td>\n",
       "      <td>[{'id': 'grid.54432.34', 'types': ['Nonprofit'...</td>\n",
       "      <td>喉頭がん、下咽頭がんにより喉頭摘出術を受けた患者に対する嗅覚向上プログラムの開発</td>\n",
       "      <td>Japan Society for the Promotion of Science</td>\n",
       "      <td>2019</td>\n",
       "      <td>ja</td>\n",
       "      <td>[2019, 2020, 2021]</td>\n",
       "    </tr>\n",
       "    <tr>\n",
       "      <th>4</th>\n",
       "      <td>2019-03-01</td>\n",
       "      <td>Early postoperative complications of laryngect...</td>\n",
       "      <td>2019-05-01</td>\n",
       "      <td>lv</td>\n",
       "      <td>AP-44/19</td>\n",
       "      <td>grant.9013618</td>\n",
       "      <td>[{'id': 'grid.453247.3', 'types': ['Government...</td>\n",
       "      <td>Agrīnās laringektomiju pēcoperācijas komplikāc...</td>\n",
       "      <td>Ministry of Education and Science</td>\n",
       "      <td>2019</td>\n",
       "      <td>lv</td>\n",
       "      <td>[2019]</td>\n",
       "    </tr>\n",
       "  </tbody>\n",
       "</table>\n",
       "</div>"
      ],
      "text/plain": [
       "   start_date                                              title    end_date  \\\n",
       "0  2019-08-15  Wearable silent speech technology to enhance i...  2024-07-31   \n",
       "1  2019-04-01  Construction of a nursing system leading to im...  2023-03-31   \n",
       "2  2019-04-01  Development of self-directed TE shunt speech t...  2022-03-31   \n",
       "3  2019-04-01  Development of an olfactory improvement progra...  2021-03-31   \n",
       "4  2019-03-01  Early postoperative complications of laryngect...  2019-05-01   \n",
       "\n",
       "  title_language  project_num             id  \\\n",
       "0             en  R01DC016621  grant.8554260   \n",
       "1             en     19H03937  grant.8428997   \n",
       "2             en     19K10927  grant.8441322   \n",
       "3             ja     19K19574  grant.8422934   \n",
       "4             lv     AP-44/19  grant.9013618   \n",
       "\n",
       "                                             funders  \\\n",
       "0  [{'id': 'grid.214431.1', 'types': ['Facility']...   \n",
       "1  [{'id': 'grid.54432.34', 'types': ['Nonprofit'...   \n",
       "2  [{'id': 'grid.54432.34', 'types': ['Nonprofit'...   \n",
       "3  [{'id': 'grid.54432.34', 'types': ['Nonprofit'...   \n",
       "4  [{'id': 'grid.453247.3', 'types': ['Government...   \n",
       "\n",
       "                                      original_title  \\\n",
       "0  Wearable silent speech technology to enhance i...   \n",
       "1  Construction of a nursing system leading to im...   \n",
       "2  Development of self-directed TE shunt speech t...   \n",
       "3           喉頭がん、下咽頭がんにより喉頭摘出術を受けた患者に対する嗅覚向上プログラムの開発   \n",
       "4  Agrīnās laringektomiju pēcoperācijas komplikāc...   \n",
       "\n",
       "                                    funding_org_name  start_year language  \\\n",
       "0  National Institute on Deafness and Other Commu...        2019       en   \n",
       "1         Japan Society for the Promotion of Science        2019       ja   \n",
       "2         Japan Society for the Promotion of Science        2019       ja   \n",
       "3         Japan Society for the Promotion of Science        2019       ja   \n",
       "4                  Ministry of Education and Science        2019       lv   \n",
       "\n",
       "                            active_year  \n",
       "0  [2019, 2020, 2021, 2022, 2023, 2024]  \n",
       "1        [2019, 2020, 2021, 2022, 2023]  \n",
       "2              [2019, 2020, 2021, 2022]  \n",
       "3                    [2019, 2020, 2021]  \n",
       "4                                [2019]  "
      ]
     },
     "execution_count": 6,
     "metadata": {},
     "output_type": "execute_result"
    }
   ],
   "source": [
    "%%dsldf\n",
    "search grants for \"laryngectomy\" \n",
    "return grants limit 5"
   ]
  },
  {
   "cell_type": "markdown",
   "metadata": {
    "Collapsed": "false"
   },
   "source": [
    "Eg let's see what are the *facets* available for the *grants* source:"
   ]
  },
  {
   "cell_type": "code",
   "execution_count": 7,
   "metadata": {
    "Collapsed": "false"
   },
   "outputs": [
    {
     "data": {
      "text/plain": [
       "['category_uoa',\n",
       " 'category_for',\n",
       " 'category_hrcs_hc',\n",
       " 'category_hra',\n",
       " 'category_rcdc',\n",
       " 'language',\n",
       " 'funder_countries',\n",
       " 'research_org_state_codes',\n",
       " 'category_hrcs_rac',\n",
       " 'research_org_cities',\n",
       " 'start_year',\n",
       " 'funders',\n",
       " 'funding_currency',\n",
       " 'research_org_countries',\n",
       " 'active_year',\n",
       " 'funding_org_city',\n",
       " 'funding_org_name',\n",
       " 'language_title',\n",
       " 'funding_org_acronym',\n",
       " 'research_orgs',\n",
       " 'researchers',\n",
       " 'category_icrp_cso',\n",
       " 'category_icrp_ct',\n",
       " 'category_bra']"
      ]
     },
     "execution_count": 7,
     "metadata": {},
     "output_type": "execute_result"
    }
   ],
   "source": [
    "fields = dsl.query(\"describe schema\")['sources']['grants']['fields']\n",
    "[x for x in fields if fields[x]['is_facet']]"
   ]
  },
  {
   "cell_type": "markdown",
   "metadata": {
    "Collapsed": "false"
   },
   "source": [
    "## 2. Full-text Searching\n",
    "\n",
    "Full-text search or keyword search finds all instances of a term\n",
    "(keyword) in a document, or group of documents. \n",
    "\n",
    "Full text search works\n",
    "by using search indexes, which can be targeting specific sections of a\n",
    "document e.g. its $abstract$, $authors$, $full text$ etc..."
   ]
  },
  {
   "cell_type": "code",
   "execution_count": 8,
   "metadata": {
    "Collapsed": "false"
   },
   "outputs": [
    {
     "name": "stdout",
     "output_type": "stream",
     "text": [
      "Returned Publications: 5 (total = 168408)\n"
     ]
    },
    {
     "data": {
      "text/html": [
       "<div>\n",
       "<style scoped>\n",
       "    .dataframe tbody tr th:only-of-type {\n",
       "        vertical-align: middle;\n",
       "    }\n",
       "\n",
       "    .dataframe tbody tr th {\n",
       "        vertical-align: top;\n",
       "    }\n",
       "\n",
       "    .dataframe thead th {\n",
       "        text-align: right;\n",
       "    }\n",
       "</style>\n",
       "<table border=\"1\" class=\"dataframe\">\n",
       "  <thead>\n",
       "    <tr style=\"text-align: right;\">\n",
       "      <th></th>\n",
       "      <th>type</th>\n",
       "      <th>pages</th>\n",
       "      <th>author_affiliations</th>\n",
       "      <th>year</th>\n",
       "      <th>id</th>\n",
       "      <th>title</th>\n",
       "    </tr>\n",
       "  </thead>\n",
       "  <tbody>\n",
       "    <tr>\n",
       "      <th>0</th>\n",
       "      <td>chapter</td>\n",
       "      <td>14-30</td>\n",
       "      <td>[[{'first_name': 'Alessandro', 'last_name': 'B...</td>\n",
       "      <td>2020</td>\n",
       "      <td>pub.1127643502</td>\n",
       "      <td>1. Into the Woods (Via Cuma 320, Bacoli)</td>\n",
       "    </tr>\n",
       "    <tr>\n",
       "      <th>1</th>\n",
       "      <td>chapter</td>\n",
       "      <td>82-103</td>\n",
       "      <td>NaN</td>\n",
       "      <td>2020</td>\n",
       "      <td>pub.1125153646</td>\n",
       "      <td>ANDRIY BONDAR</td>\n",
       "    </tr>\n",
       "    <tr>\n",
       "      <th>2</th>\n",
       "      <td>chapter</td>\n",
       "      <td>160-174</td>\n",
       "      <td>[[{'first_name': 'Laura', 'last_name': 'Marcus...</td>\n",
       "      <td>2020</td>\n",
       "      <td>pub.1126253233</td>\n",
       "      <td>15. H. G. Wells at Uppark</td>\n",
       "    </tr>\n",
       "    <tr>\n",
       "      <th>3</th>\n",
       "      <td>chapter</td>\n",
       "      <td>224-240</td>\n",
       "      <td>[[{'first_name': 'Jacob L.', 'last_name': 'Mac...</td>\n",
       "      <td>2020</td>\n",
       "      <td>pub.1127632269</td>\n",
       "      <td>12. The Silence of Aeneid 6 in Augustine’s Con...</td>\n",
       "    </tr>\n",
       "    <tr>\n",
       "      <th>4</th>\n",
       "      <td>chapter</td>\n",
       "      <td>232-271</td>\n",
       "      <td>[[{'first_name': 'Alison', 'last_name': 'Finla...</td>\n",
       "      <td>2020</td>\n",
       "      <td>pub.1125633591</td>\n",
       "      <td>Skald Sagas in their Literary Context 2: Possi...</td>\n",
       "    </tr>\n",
       "  </tbody>\n",
       "</table>\n",
       "</div>"
      ],
      "text/plain": [
       "      type    pages                                author_affiliations  year  \\\n",
       "0  chapter    14-30  [[{'first_name': 'Alessandro', 'last_name': 'B...  2020   \n",
       "1  chapter   82-103                                                NaN  2020   \n",
       "2  chapter  160-174  [[{'first_name': 'Laura', 'last_name': 'Marcus...  2020   \n",
       "3  chapter  224-240  [[{'first_name': 'Jacob L.', 'last_name': 'Mac...  2020   \n",
       "4  chapter  232-271  [[{'first_name': 'Alison', 'last_name': 'Finla...  2020   \n",
       "\n",
       "               id                                              title  \n",
       "0  pub.1127643502           1. Into the Woods (Via Cuma 320, Bacoli)  \n",
       "1  pub.1125153646                                      ANDRIY BONDAR  \n",
       "2  pub.1126253233                          15. H. G. Wells at Uppark  \n",
       "3  pub.1127632269  12. The Silence of Aeneid 6 in Augustine’s Con...  \n",
       "4  pub.1125633591  Skald Sagas in their Literary Context 2: Possi...  "
      ]
     },
     "execution_count": 8,
     "metadata": {},
     "output_type": "execute_result"
    }
   ],
   "source": [
    "%%dsldf \n",
    "search publications \n",
    "    in full_data for \"moon landing\" \n",
    "return publications limit 5"
   ]
  },
  {
   "cell_type": "markdown",
   "metadata": {
    "Collapsed": "true"
   },
   "source": [
    "### 2.1 `in [search index]`\n",
    "\n",
    "This optional phrase consists of the particle `in` followed by a term indicating a `search index`, specifying for example whether the search\n",
    "is limited to full text, title and abstract only, or title only. "
   ]
  },
  {
   "cell_type": "code",
   "execution_count": 9,
   "metadata": {
    "Collapsed": "false"
   },
   "outputs": [
    {
     "name": "stdout",
     "output_type": "stream",
     "text": [
      "Returned Grants: 5 (total = 9677)\n"
     ]
    },
    {
     "data": {
      "text/html": [
       "<div>\n",
       "<style scoped>\n",
       "    .dataframe tbody tr th:only-of-type {\n",
       "        vertical-align: middle;\n",
       "    }\n",
       "\n",
       "    .dataframe tbody tr th {\n",
       "        vertical-align: top;\n",
       "    }\n",
       "\n",
       "    .dataframe thead th {\n",
       "        text-align: right;\n",
       "    }\n",
       "</style>\n",
       "<table border=\"1\" class=\"dataframe\">\n",
       "  <thead>\n",
       "    <tr style=\"text-align: right;\">\n",
       "      <th></th>\n",
       "      <th>start_date</th>\n",
       "      <th>title</th>\n",
       "      <th>end_date</th>\n",
       "      <th>title_language</th>\n",
       "      <th>project_num</th>\n",
       "      <th>id</th>\n",
       "      <th>funders</th>\n",
       "      <th>original_title</th>\n",
       "      <th>funding_org_name</th>\n",
       "      <th>start_year</th>\n",
       "      <th>language</th>\n",
       "      <th>active_year</th>\n",
       "    </tr>\n",
       "  </thead>\n",
       "  <tbody>\n",
       "    <tr>\n",
       "      <th>0</th>\n",
       "      <td>2020-10-01</td>\n",
       "      <td>SaTC: CORE: Medium: Collaborative: Hardening O...</td>\n",
       "      <td>2024-09-30</td>\n",
       "      <td>en</td>\n",
       "      <td>1954521</td>\n",
       "      <td>grant.9046367</td>\n",
       "      <td>[{'id': 'grid.457785.c', 'types': ['Government...</td>\n",
       "      <td>SaTC: CORE: Medium: Collaborative: Hardening O...</td>\n",
       "      <td>Directorate for Computer &amp; Information Science...</td>\n",
       "      <td>2020</td>\n",
       "      <td>en</td>\n",
       "      <td>[2020, 2021, 2022, 2023, 2024]</td>\n",
       "    </tr>\n",
       "    <tr>\n",
       "      <th>1</th>\n",
       "      <td>2020-10-01</td>\n",
       "      <td>SaTC: CORE: Medium: Collaborative: Hardening O...</td>\n",
       "      <td>2024-09-30</td>\n",
       "      <td>en</td>\n",
       "      <td>1955270</td>\n",
       "      <td>grant.9046432</td>\n",
       "      <td>[{'id': 'grid.457785.c', 'types': ['Government...</td>\n",
       "      <td>SaTC: CORE: Medium: Collaborative: Hardening O...</td>\n",
       "      <td>Directorate for Computer &amp; Information Science...</td>\n",
       "      <td>2020</td>\n",
       "      <td>en</td>\n",
       "      <td>[2020, 2021, 2022, 2023, 2024]</td>\n",
       "    </tr>\n",
       "    <tr>\n",
       "      <th>2</th>\n",
       "      <td>2020-10-01</td>\n",
       "      <td>SaTC: CORE: Medium: Collaborative: Hardening O...</td>\n",
       "      <td>2024-09-30</td>\n",
       "      <td>en</td>\n",
       "      <td>1954712</td>\n",
       "      <td>grant.9046384</td>\n",
       "      <td>[{'id': 'grid.457785.c', 'types': ['Government...</td>\n",
       "      <td>SaTC: CORE: Medium: Collaborative: Hardening O...</td>\n",
       "      <td>Directorate for Computer &amp; Information Science...</td>\n",
       "      <td>2020</td>\n",
       "      <td>en</td>\n",
       "      <td>[2020, 2021, 2022, 2023, 2024]</td>\n",
       "    </tr>\n",
       "    <tr>\n",
       "      <th>3</th>\n",
       "      <td>2020-09-30</td>\n",
       "      <td>The Cosmology of the Early and Late Universe</td>\n",
       "      <td>2023-09-29</td>\n",
       "      <td>en</td>\n",
       "      <td>ST/T000732/1</td>\n",
       "      <td>grant.8673892</td>\n",
       "      <td>[{'id': 'grid.14467.30', 'types': ['Government...</td>\n",
       "      <td>The Cosmology of the Early and Late Universe</td>\n",
       "      <td>Science and Technology Facilities Council</td>\n",
       "      <td>2020</td>\n",
       "      <td>en</td>\n",
       "      <td>[2020, 2021, 2022, 2023]</td>\n",
       "    </tr>\n",
       "    <tr>\n",
       "      <th>4</th>\n",
       "      <td>2020-09-01</td>\n",
       "      <td>Decoding the Infrared Spectra of High Frequenc...</td>\n",
       "      <td>2023-08-31</td>\n",
       "      <td>en</td>\n",
       "      <td>1900095</td>\n",
       "      <td>grant.8966252</td>\n",
       "      <td>[{'id': 'grid.457875.c', 'types': ['Government...</td>\n",
       "      <td>Decoding the Infrared Spectra of High Frequenc...</td>\n",
       "      <td>Directorate for Mathematical &amp; Physical Sciences</td>\n",
       "      <td>2020</td>\n",
       "      <td>en</td>\n",
       "      <td>[2020, 2021, 2022, 2023]</td>\n",
       "    </tr>\n",
       "  </tbody>\n",
       "</table>\n",
       "</div>"
      ],
      "text/plain": [
       "   start_date                                              title    end_date  \\\n",
       "0  2020-10-01  SaTC: CORE: Medium: Collaborative: Hardening O...  2024-09-30   \n",
       "1  2020-10-01  SaTC: CORE: Medium: Collaborative: Hardening O...  2024-09-30   \n",
       "2  2020-10-01  SaTC: CORE: Medium: Collaborative: Hardening O...  2024-09-30   \n",
       "3  2020-09-30       The Cosmology of the Early and Late Universe  2023-09-29   \n",
       "4  2020-09-01  Decoding the Infrared Spectra of High Frequenc...  2023-08-31   \n",
       "\n",
       "  title_language   project_num             id  \\\n",
       "0             en       1954521  grant.9046367   \n",
       "1             en       1955270  grant.9046432   \n",
       "2             en       1954712  grant.9046384   \n",
       "3             en  ST/T000732/1  grant.8673892   \n",
       "4             en       1900095  grant.8966252   \n",
       "\n",
       "                                             funders  \\\n",
       "0  [{'id': 'grid.457785.c', 'types': ['Government...   \n",
       "1  [{'id': 'grid.457785.c', 'types': ['Government...   \n",
       "2  [{'id': 'grid.457785.c', 'types': ['Government...   \n",
       "3  [{'id': 'grid.14467.30', 'types': ['Government...   \n",
       "4  [{'id': 'grid.457875.c', 'types': ['Government...   \n",
       "\n",
       "                                      original_title  \\\n",
       "0  SaTC: CORE: Medium: Collaborative: Hardening O...   \n",
       "1  SaTC: CORE: Medium: Collaborative: Hardening O...   \n",
       "2  SaTC: CORE: Medium: Collaborative: Hardening O...   \n",
       "3       The Cosmology of the Early and Late Universe   \n",
       "4  Decoding the Infrared Spectra of High Frequenc...   \n",
       "\n",
       "                                    funding_org_name  start_year language  \\\n",
       "0  Directorate for Computer & Information Science...        2020       en   \n",
       "1  Directorate for Computer & Information Science...        2020       en   \n",
       "2  Directorate for Computer & Information Science...        2020       en   \n",
       "3          Science and Technology Facilities Council        2020       en   \n",
       "4   Directorate for Mathematical & Physical Sciences        2020       en   \n",
       "\n",
       "                      active_year  \n",
       "0  [2020, 2021, 2022, 2023, 2024]  \n",
       "1  [2020, 2021, 2022, 2023, 2024]  \n",
       "2  [2020, 2021, 2022, 2023, 2024]  \n",
       "3        [2020, 2021, 2022, 2023]  \n",
       "4        [2020, 2021, 2022, 2023]  "
      ]
     },
     "execution_count": 9,
     "metadata": {},
     "output_type": "execute_result"
    }
   ],
   "source": [
    "%%dsldf \n",
    "search grants \n",
    "    in title_abstract_only for \"something\" \n",
    "return grants limit 5"
   ]
  },
  {
   "cell_type": "markdown",
   "metadata": {
    "Collapsed": "false"
   },
   "source": [
    "Eg let's see what are the *search fields* available for the *grants* source:"
   ]
  },
  {
   "cell_type": "code",
   "execution_count": 10,
   "metadata": {
    "Collapsed": "false"
   },
   "outputs": [
    {
     "data": {
      "text/plain": [
       "['concepts',\n",
       " 'title_abstract_only',\n",
       " 'title_only',\n",
       " 'noun_phrases',\n",
       " 'investigators',\n",
       " 'full_data']"
      ]
     },
     "execution_count": 10,
     "metadata": {},
     "output_type": "execute_result"
    }
   ],
   "source": [
    "dsl.query(\"describe schema\")['sources']['grants']['search_fields']"
   ]
  },
  {
   "cell_type": "code",
   "execution_count": 11,
   "metadata": {
    "Collapsed": "false"
   },
   "outputs": [
    {
     "name": "stdout",
     "output_type": "stream",
     "text": [
      "Returned Grants: 5 (total = 10)\n"
     ]
    },
    {
     "data": {
      "text/html": [
       "<div>\n",
       "<style scoped>\n",
       "    .dataframe tbody tr th:only-of-type {\n",
       "        vertical-align: middle;\n",
       "    }\n",
       "\n",
       "    .dataframe tbody tr th {\n",
       "        vertical-align: top;\n",
       "    }\n",
       "\n",
       "    .dataframe thead th {\n",
       "        text-align: right;\n",
       "    }\n",
       "</style>\n",
       "<table border=\"1\" class=\"dataframe\">\n",
       "  <thead>\n",
       "    <tr style=\"text-align: right;\">\n",
       "      <th></th>\n",
       "      <th>start_date</th>\n",
       "      <th>title</th>\n",
       "      <th>end_date</th>\n",
       "      <th>title_language</th>\n",
       "      <th>project_num</th>\n",
       "      <th>id</th>\n",
       "      <th>funders</th>\n",
       "      <th>original_title</th>\n",
       "      <th>funding_org_name</th>\n",
       "      <th>start_year</th>\n",
       "      <th>language</th>\n",
       "      <th>active_year</th>\n",
       "    </tr>\n",
       "  </thead>\n",
       "  <tbody>\n",
       "    <tr>\n",
       "      <th>0</th>\n",
       "      <td>2019-01-01</td>\n",
       "      <td>Weyl and Dirac semimetals and beyond - predict...</td>\n",
       "      <td>2021-12-31</td>\n",
       "      <td>en</td>\n",
       "      <td>19-43-04129</td>\n",
       "      <td>grant.8413990</td>\n",
       "      <td>[{'id': 'grid.454869.2', 'types': ['Nonprofit'...</td>\n",
       "      <td>Weyl and Dirac semimetals and beyond - predict...</td>\n",
       "      <td>Russian Science Foundation</td>\n",
       "      <td>2019</td>\n",
       "      <td>en</td>\n",
       "      <td>[2019, 2020, 2021]</td>\n",
       "    </tr>\n",
       "    <tr>\n",
       "      <th>1</th>\n",
       "      <td>2018-01-01</td>\n",
       "      <td>Project of the organization of the 18th Intern...</td>\n",
       "      <td>2018-12-31</td>\n",
       "      <td>ru</td>\n",
       "      <td>18-02-20097</td>\n",
       "      <td>grant.8731867</td>\n",
       "      <td>[{'id': 'grid.452899.b', 'types': ['Government...</td>\n",
       "      <td>Проект организации 18-ой Международной конфере...</td>\n",
       "      <td>Russian Foundation for Basic Research</td>\n",
       "      <td>2018</td>\n",
       "      <td>ru</td>\n",
       "      <td>[2018]</td>\n",
       "    </tr>\n",
       "    <tr>\n",
       "      <th>2</th>\n",
       "      <td>2016-02-22</td>\n",
       "      <td>Subject subsidy for maintaining the research p...</td>\n",
       "      <td>2016-12-31</td>\n",
       "      <td>pl</td>\n",
       "      <td>4491/E-370/S/2016</td>\n",
       "      <td>grant.7397800</td>\n",
       "      <td>[{'id': 'grid.425823.a', 'types': ['Government...</td>\n",
       "      <td>Dotacja podmiotowa na utrzymanie potencjału ba...</td>\n",
       "      <td>Ministry of Science and Higher Education</td>\n",
       "      <td>2016</td>\n",
       "      <td>pl</td>\n",
       "      <td>[2016]</td>\n",
       "    </tr>\n",
       "    <tr>\n",
       "      <th>3</th>\n",
       "      <td>2015-02-19</td>\n",
       "      <td>Subject subsidy for maintaining the research p...</td>\n",
       "      <td>2015-12-31</td>\n",
       "      <td>pl</td>\n",
       "      <td>4491/E-370/S/2015</td>\n",
       "      <td>grant.7397795</td>\n",
       "      <td>[{'id': 'grid.425823.a', 'types': ['Government...</td>\n",
       "      <td>Dotacja podmiotowa na utrzymanie potencjału ba...</td>\n",
       "      <td>Ministry of Science and Higher Education</td>\n",
       "      <td>2015</td>\n",
       "      <td>pl</td>\n",
       "      <td>[2015]</td>\n",
       "    </tr>\n",
       "    <tr>\n",
       "      <th>4</th>\n",
       "      <td>2014-04-09</td>\n",
       "      <td>Intentional grant for conducting in 2014 the F...</td>\n",
       "      <td>2014-12-31</td>\n",
       "      <td>pl</td>\n",
       "      <td>4491/E-370/M/2014</td>\n",
       "      <td>grant.7397490</td>\n",
       "      <td>[{'id': 'grid.425823.a', 'types': ['Government...</td>\n",
       "      <td>Dotacja celowa na prowadzenie w 2014 przez Wyd...</td>\n",
       "      <td>Ministry of Science and Higher Education</td>\n",
       "      <td>2014</td>\n",
       "      <td>pl</td>\n",
       "      <td>[2014]</td>\n",
       "    </tr>\n",
       "  </tbody>\n",
       "</table>\n",
       "</div>"
      ],
      "text/plain": [
       "   start_date                                              title    end_date  \\\n",
       "0  2019-01-01  Weyl and Dirac semimetals and beyond - predict...  2021-12-31   \n",
       "1  2018-01-01  Project of the organization of the 18th Intern...  2018-12-31   \n",
       "2  2016-02-22  Subject subsidy for maintaining the research p...  2016-12-31   \n",
       "3  2015-02-19  Subject subsidy for maintaining the research p...  2015-12-31   \n",
       "4  2014-04-09  Intentional grant for conducting in 2014 the F...  2014-12-31   \n",
       "\n",
       "  title_language        project_num             id  \\\n",
       "0             en        19-43-04129  grant.8413990   \n",
       "1             ru        18-02-20097  grant.8731867   \n",
       "2             pl  4491/E-370/S/2016  grant.7397800   \n",
       "3             pl  4491/E-370/S/2015  grant.7397795   \n",
       "4             pl  4491/E-370/M/2014  grant.7397490   \n",
       "\n",
       "                                             funders  \\\n",
       "0  [{'id': 'grid.454869.2', 'types': ['Nonprofit'...   \n",
       "1  [{'id': 'grid.452899.b', 'types': ['Government...   \n",
       "2  [{'id': 'grid.425823.a', 'types': ['Government...   \n",
       "3  [{'id': 'grid.425823.a', 'types': ['Government...   \n",
       "4  [{'id': 'grid.425823.a', 'types': ['Government...   \n",
       "\n",
       "                                      original_title  \\\n",
       "0  Weyl and Dirac semimetals and beyond - predict...   \n",
       "1  Проект организации 18-ой Международной конфере...   \n",
       "2  Dotacja podmiotowa na utrzymanie potencjału ba...   \n",
       "3  Dotacja podmiotowa na utrzymanie potencjału ba...   \n",
       "4  Dotacja celowa na prowadzenie w 2014 przez Wyd...   \n",
       "\n",
       "                           funding_org_name  start_year language  \\\n",
       "0                Russian Science Foundation        2019       en   \n",
       "1     Russian Foundation for Basic Research        2018       ru   \n",
       "2  Ministry of Science and Higher Education        2016       pl   \n",
       "3  Ministry of Science and Higher Education        2015       pl   \n",
       "4  Ministry of Science and Higher Education        2014       pl   \n",
       "\n",
       "          active_year  \n",
       "0  [2019, 2020, 2021]  \n",
       "1              [2018]  \n",
       "2              [2016]  \n",
       "3              [2015]  \n",
       "4              [2014]  "
      ]
     },
     "execution_count": 11,
     "metadata": {},
     "output_type": "execute_result"
    }
   ],
   "source": [
    "%%dsldf \n",
    "search grants \n",
    "    in full_data for \"graphene AND computer AND iron\" \n",
    "return grants limit 5"
   ]
  },
  {
   "cell_type": "markdown",
   "metadata": {
    "Collapsed": "false"
   },
   "source": [
    "Special search indexes for persons names permit to perform full text\n",
    "searches on publications `authors` or grants `investigators`. Please see the\n",
    "*Researchers Search* section below for more information\n",
    "on how searches work in this case."
   ]
  },
  {
   "cell_type": "code",
   "execution_count": 12,
   "metadata": {
    "Collapsed": "false"
   },
   "outputs": [
    {
     "name": "stdout",
     "output_type": "stream",
     "text": [
      "Returned Publications: 5 (total = 323)\n"
     ]
    },
    {
     "data": {
      "text/html": [
       "<div>\n",
       "<style scoped>\n",
       "    .dataframe tbody tr th:only-of-type {\n",
       "        vertical-align: middle;\n",
       "    }\n",
       "\n",
       "    .dataframe tbody tr th {\n",
       "        vertical-align: top;\n",
       "    }\n",
       "\n",
       "    .dataframe thead th {\n",
       "        text-align: right;\n",
       "    }\n",
       "</style>\n",
       "<table border=\"1\" class=\"dataframe\">\n",
       "  <thead>\n",
       "    <tr style=\"text-align: right;\">\n",
       "      <th></th>\n",
       "      <th>title</th>\n",
       "      <th>author_affiliations</th>\n",
       "      <th>issue</th>\n",
       "      <th>id</th>\n",
       "      <th>year</th>\n",
       "      <th>volume</th>\n",
       "      <th>type</th>\n",
       "      <th>pages</th>\n",
       "      <th>journal.id</th>\n",
       "      <th>journal.title</th>\n",
       "    </tr>\n",
       "  </thead>\n",
       "  <tbody>\n",
       "    <tr>\n",
       "      <th>0</th>\n",
       "      <td>Machine learning predicts new anti-CRISPR prot...</td>\n",
       "      <td>[[{'first_name': 'Simon', 'last_name': 'Eitzin...</td>\n",
       "      <td>9</td>\n",
       "      <td>pub.1125959258</td>\n",
       "      <td>2020</td>\n",
       "      <td>48</td>\n",
       "      <td>article</td>\n",
       "      <td>4698-4708</td>\n",
       "      <td>jour.1018982</td>\n",
       "      <td>Nucleic Acids Research</td>\n",
       "    </tr>\n",
       "    <tr>\n",
       "      <th>1</th>\n",
       "      <td>Author Correction: Phage-assisted evolution of...</td>\n",
       "      <td>[[{'first_name': 'Michelle F.', 'last_name': '...</td>\n",
       "      <td>NaN</td>\n",
       "      <td>pub.1127737872</td>\n",
       "      <td>2020</td>\n",
       "      <td>NaN</td>\n",
       "      <td>article</td>\n",
       "      <td>1-1</td>\n",
       "      <td>jour.1115214</td>\n",
       "      <td>Nature Biotechnology</td>\n",
       "    </tr>\n",
       "    <tr>\n",
       "      <th>2</th>\n",
       "      <td>Huge and variable diversity of episymbiotic CP...</td>\n",
       "      <td>[[{'first_name': 'Christine Y', 'last_name': '...</td>\n",
       "      <td>NaN</td>\n",
       "      <td>pub.1127645424</td>\n",
       "      <td>2020</td>\n",
       "      <td>NaN</td>\n",
       "      <td>preprint</td>\n",
       "      <td>2020.05.14.094862</td>\n",
       "      <td>jour.1293558</td>\n",
       "      <td>bioRxiv</td>\n",
       "    </tr>\n",
       "    <tr>\n",
       "      <th>3</th>\n",
       "      <td>Cancer-specific loss of TERT activation sensit...</td>\n",
       "      <td>[[{'first_name': 'Alexandra M', 'last_name': '...</td>\n",
       "      <td>NaN</td>\n",
       "      <td>pub.1127163455</td>\n",
       "      <td>2020</td>\n",
       "      <td>NaN</td>\n",
       "      <td>preprint</td>\n",
       "      <td>2020.04.25.061606</td>\n",
       "      <td>jour.1293558</td>\n",
       "      <td>bioRxiv</td>\n",
       "    </tr>\n",
       "    <tr>\n",
       "      <th>4</th>\n",
       "      <td>Blueprint for a Pop-up SARS-CoV-2 Testing Lab</td>\n",
       "      <td>[[{'first_name': 'Innovative Genomics Institut...</td>\n",
       "      <td>NaN</td>\n",
       "      <td>pub.1126635310</td>\n",
       "      <td>2020</td>\n",
       "      <td>NaN</td>\n",
       "      <td>article</td>\n",
       "      <td>2020.04.11.20061424</td>\n",
       "      <td>jour.1369542</td>\n",
       "      <td>medRxiv</td>\n",
       "    </tr>\n",
       "  </tbody>\n",
       "</table>\n",
       "</div>"
      ],
      "text/plain": [
       "                                               title  \\\n",
       "0  Machine learning predicts new anti-CRISPR prot...   \n",
       "1  Author Correction: Phage-assisted evolution of...   \n",
       "2  Huge and variable diversity of episymbiotic CP...   \n",
       "3  Cancer-specific loss of TERT activation sensit...   \n",
       "4      Blueprint for a Pop-up SARS-CoV-2 Testing Lab   \n",
       "\n",
       "                                 author_affiliations issue              id  \\\n",
       "0  [[{'first_name': 'Simon', 'last_name': 'Eitzin...     9  pub.1125959258   \n",
       "1  [[{'first_name': 'Michelle F.', 'last_name': '...   NaN  pub.1127737872   \n",
       "2  [[{'first_name': 'Christine Y', 'last_name': '...   NaN  pub.1127645424   \n",
       "3  [[{'first_name': 'Alexandra M', 'last_name': '...   NaN  pub.1127163455   \n",
       "4  [[{'first_name': 'Innovative Genomics Institut...   NaN  pub.1126635310   \n",
       "\n",
       "   year volume      type                pages    journal.id  \\\n",
       "0  2020     48   article            4698-4708  jour.1018982   \n",
       "1  2020    NaN   article                  1-1  jour.1115214   \n",
       "2  2020    NaN  preprint    2020.05.14.094862  jour.1293558   \n",
       "3  2020    NaN  preprint    2020.04.25.061606  jour.1293558   \n",
       "4  2020    NaN   article  2020.04.11.20061424  jour.1369542   \n",
       "\n",
       "            journal.title  \n",
       "0  Nucleic Acids Research  \n",
       "1    Nature Biotechnology  \n",
       "2                 bioRxiv  \n",
       "3                 bioRxiv  \n",
       "4                 medRxiv  "
      ]
     },
     "execution_count": 12,
     "metadata": {},
     "output_type": "execute_result"
    }
   ],
   "source": [
    "%dsldf search publications in authors for \"\\\"Jennifer A Doudna\\\"\" return publications limit 5"
   ]
  },
  {
   "cell_type": "markdown",
   "metadata": {
    "Collapsed": "false"
   },
   "source": [
    "### 2.2 `for \"search term\"`\n",
    "\n",
    "This optional phrase consists of the keyword `for` followed by a\n",
    "`search term` `string`, enclosed in double quotes (`\"`)."
   ]
  },
  {
   "cell_type": "markdown",
   "metadata": {
    "Collapsed": "false"
   },
   "source": [
    "Strings in double quotes can contain nested quotes escaped by a\n",
    "backslash `\\`. This will ensure that the string in nested double quotes\n",
    "is searched for as if it was a single phrase, not multiple words.\n",
    "\n",
    "An example of a phrase: `\"\\\"Machine Learning\\\"\"` : results must contain\n",
    "`Machine Learning` as a phrase."
   ]
  },
  {
   "cell_type": "code",
   "execution_count": 13,
   "metadata": {
    "Collapsed": "false"
   },
   "outputs": [
    {
     "name": "stdout",
     "output_type": "stream",
     "text": [
      "Returned Publications: 5 (total = 1139898)\n"
     ]
    },
    {
     "data": {
      "text/html": [
       "<div>\n",
       "<style scoped>\n",
       "    .dataframe tbody tr th:only-of-type {\n",
       "        vertical-align: middle;\n",
       "    }\n",
       "\n",
       "    .dataframe tbody tr th {\n",
       "        vertical-align: top;\n",
       "    }\n",
       "\n",
       "    .dataframe thead th {\n",
       "        text-align: right;\n",
       "    }\n",
       "</style>\n",
       "<table border=\"1\" class=\"dataframe\">\n",
       "  <thead>\n",
       "    <tr style=\"text-align: right;\">\n",
       "      <th></th>\n",
       "      <th>pages</th>\n",
       "      <th>id</th>\n",
       "      <th>type</th>\n",
       "      <th>title</th>\n",
       "      <th>author_affiliations</th>\n",
       "      <th>year</th>\n",
       "      <th>volume</th>\n",
       "      <th>issue</th>\n",
       "      <th>journal.id</th>\n",
       "      <th>journal.title</th>\n",
       "    </tr>\n",
       "  </thead>\n",
       "  <tbody>\n",
       "    <tr>\n",
       "      <th>0</th>\n",
       "      <td>243-248</td>\n",
       "      <td>pub.1124666091</td>\n",
       "      <td>chapter</td>\n",
       "      <td>Towards maritime traffic coordination in the e...</td>\n",
       "      <td>[[{'first_name': 'Eetu', 'last_name': 'Heikkil...</td>\n",
       "      <td>2020</td>\n",
       "      <td>NaN</td>\n",
       "      <td>NaN</td>\n",
       "      <td>NaN</td>\n",
       "      <td>NaN</td>\n",
       "    </tr>\n",
       "    <tr>\n",
       "      <th>1</th>\n",
       "      <td>1726672</td>\n",
       "      <td>pub.1125710665</td>\n",
       "      <td>article</td>\n",
       "      <td>Recognizing hotspots in Brief Eclectic Psychot...</td>\n",
       "      <td>[[{'first_name': 'Sytske', 'last_name': 'Wiege...</td>\n",
       "      <td>2020</td>\n",
       "      <td>11</td>\n",
       "      <td>1</td>\n",
       "      <td>jour.1045059</td>\n",
       "      <td>European Journal of Psychotraumatology</td>\n",
       "    </tr>\n",
       "    <tr>\n",
       "      <th>2</th>\n",
       "      <td>41-54</td>\n",
       "      <td>pub.1126735888</td>\n",
       "      <td>article</td>\n",
       "      <td>Capacitated vehicle routing problem with colum...</td>\n",
       "      <td>[[{'first_name': 'Baze University Abuja', 'las...</td>\n",
       "      <td>2020</td>\n",
       "      <td>3</td>\n",
       "      <td>1</td>\n",
       "      <td>jour.1365688</td>\n",
       "      <td>Open Journal of Discrete Applied Mathematics</td>\n",
       "    </tr>\n",
       "    <tr>\n",
       "      <th>3</th>\n",
       "      <td>219-250</td>\n",
       "      <td>pub.1124034443</td>\n",
       "      <td>chapter</td>\n",
       "      <td>Die Erfassung und Messung von Bedeutungsstrukt...</td>\n",
       "      <td>[[{'first_name': 'Jan', 'last_name': 'Goldenst...</td>\n",
       "      <td>2020</td>\n",
       "      <td>NaN</td>\n",
       "      <td>NaN</td>\n",
       "      <td>NaN</td>\n",
       "      <td>NaN</td>\n",
       "    </tr>\n",
       "    <tr>\n",
       "      <th>4</th>\n",
       "      <td>83-94</td>\n",
       "      <td>pub.1124677880</td>\n",
       "      <td>chapter</td>\n",
       "      <td>Korean Technical Innovation: toward Autonomous...</td>\n",
       "      <td>[[{'first_name': 'Yongwon', 'last_name': 'Kwon...</td>\n",
       "      <td>2020</td>\n",
       "      <td>NaN</td>\n",
       "      <td>NaN</td>\n",
       "      <td>NaN</td>\n",
       "      <td>NaN</td>\n",
       "    </tr>\n",
       "  </tbody>\n",
       "</table>\n",
       "</div>"
      ],
      "text/plain": [
       "     pages              id     type  \\\n",
       "0  243-248  pub.1124666091  chapter   \n",
       "1  1726672  pub.1125710665  article   \n",
       "2    41-54  pub.1126735888  article   \n",
       "3  219-250  pub.1124034443  chapter   \n",
       "4    83-94  pub.1124677880  chapter   \n",
       "\n",
       "                                               title  \\\n",
       "0  Towards maritime traffic coordination in the e...   \n",
       "1  Recognizing hotspots in Brief Eclectic Psychot...   \n",
       "2  Capacitated vehicle routing problem with colum...   \n",
       "3  Die Erfassung und Messung von Bedeutungsstrukt...   \n",
       "4  Korean Technical Innovation: toward Autonomous...   \n",
       "\n",
       "                                 author_affiliations  year volume issue  \\\n",
       "0  [[{'first_name': 'Eetu', 'last_name': 'Heikkil...  2020    NaN   NaN   \n",
       "1  [[{'first_name': 'Sytske', 'last_name': 'Wiege...  2020     11     1   \n",
       "2  [[{'first_name': 'Baze University Abuja', 'las...  2020      3     1   \n",
       "3  [[{'first_name': 'Jan', 'last_name': 'Goldenst...  2020    NaN   NaN   \n",
       "4  [[{'first_name': 'Yongwon', 'last_name': 'Kwon...  2020    NaN   NaN   \n",
       "\n",
       "     journal.id                                 journal.title  \n",
       "0           NaN                                           NaN  \n",
       "1  jour.1045059        European Journal of Psychotraumatology  \n",
       "2  jour.1365688  Open Journal of Discrete Applied Mathematics  \n",
       "3           NaN                                           NaN  \n",
       "4           NaN                                           NaN  "
      ]
     },
     "execution_count": 13,
     "metadata": {},
     "output_type": "execute_result"
    }
   ],
   "source": [
    "%dsldf search publications for \"\\\"Machine Learning\\\"\" return publications limit 5"
   ]
  },
  {
   "cell_type": "markdown",
   "metadata": {
    "Collapsed": "false"
   },
   "source": [
    "Example of multiple keywords: `\"Machine Learning\"` : this searches for\n",
    "keywords independently."
   ]
  },
  {
   "cell_type": "code",
   "execution_count": 14,
   "metadata": {
    "Collapsed": "false"
   },
   "outputs": [
    {
     "name": "stdout",
     "output_type": "stream",
     "text": [
      "Returned Publications: 5 (total = 2400834)\n"
     ]
    },
    {
     "data": {
      "text/html": [
       "<div>\n",
       "<style scoped>\n",
       "    .dataframe tbody tr th:only-of-type {\n",
       "        vertical-align: middle;\n",
       "    }\n",
       "\n",
       "    .dataframe tbody tr th {\n",
       "        vertical-align: top;\n",
       "    }\n",
       "\n",
       "    .dataframe thead th {\n",
       "        text-align: right;\n",
       "    }\n",
       "</style>\n",
       "<table border=\"1\" class=\"dataframe\">\n",
       "  <thead>\n",
       "    <tr style=\"text-align: right;\">\n",
       "      <th></th>\n",
       "      <th>pages</th>\n",
       "      <th>id</th>\n",
       "      <th>type</th>\n",
       "      <th>title</th>\n",
       "      <th>author_affiliations</th>\n",
       "      <th>year</th>\n",
       "    </tr>\n",
       "  </thead>\n",
       "  <tbody>\n",
       "    <tr>\n",
       "      <th>0</th>\n",
       "      <td>84-118</td>\n",
       "      <td>pub.1124947017</td>\n",
       "      <td>chapter</td>\n",
       "      <td>4. Visualizing the Division of Labor: William ...</td>\n",
       "      <td>[[{'first_name': 'John', 'last_name': 'Barrell...</td>\n",
       "      <td>2020</td>\n",
       "    </tr>\n",
       "    <tr>\n",
       "      <th>1</th>\n",
       "      <td>65-368</td>\n",
       "      <td>pub.1127396158</td>\n",
       "      <td>chapter</td>\n",
       "      <td>Documents</td>\n",
       "      <td>NaN</td>\n",
       "      <td>2020</td>\n",
       "    </tr>\n",
       "    <tr>\n",
       "      <th>2</th>\n",
       "      <td>87-139</td>\n",
       "      <td>pub.1125380179</td>\n",
       "      <td>chapter</td>\n",
       "      <td>I. THE PHILOSOPHY OF SUCCESS</td>\n",
       "      <td>[[{'first_name': 'Heinrich Robert', 'last_name...</td>\n",
       "      <td>2020</td>\n",
       "    </tr>\n",
       "    <tr>\n",
       "      <th>3</th>\n",
       "      <td>243-248</td>\n",
       "      <td>pub.1124666091</td>\n",
       "      <td>chapter</td>\n",
       "      <td>Towards maritime traffic coordination in the e...</td>\n",
       "      <td>[[{'first_name': 'Eetu', 'last_name': 'Heikkil...</td>\n",
       "      <td>2020</td>\n",
       "    </tr>\n",
       "    <tr>\n",
       "      <th>4</th>\n",
       "      <td>1-60</td>\n",
       "      <td>pub.1124109965</td>\n",
       "      <td>chapter</td>\n",
       "      <td>George Eliot’s Spinoza. An introduction</td>\n",
       "      <td>[[{'first_name': 'Benedictus de', 'last_name':...</td>\n",
       "      <td>2020</td>\n",
       "    </tr>\n",
       "  </tbody>\n",
       "</table>\n",
       "</div>"
      ],
      "text/plain": [
       "     pages              id     type  \\\n",
       "0   84-118  pub.1124947017  chapter   \n",
       "1   65-368  pub.1127396158  chapter   \n",
       "2   87-139  pub.1125380179  chapter   \n",
       "3  243-248  pub.1124666091  chapter   \n",
       "4     1-60  pub.1124109965  chapter   \n",
       "\n",
       "                                               title  \\\n",
       "0  4. Visualizing the Division of Labor: William ...   \n",
       "1                                          Documents   \n",
       "2                       I. THE PHILOSOPHY OF SUCCESS   \n",
       "3  Towards maritime traffic coordination in the e...   \n",
       "4            George Eliot’s Spinoza. An introduction   \n",
       "\n",
       "                                 author_affiliations  year  \n",
       "0  [[{'first_name': 'John', 'last_name': 'Barrell...  2020  \n",
       "1                                                NaN  2020  \n",
       "2  [[{'first_name': 'Heinrich Robert', 'last_name...  2020  \n",
       "3  [[{'first_name': 'Eetu', 'last_name': 'Heikkil...  2020  \n",
       "4  [[{'first_name': 'Benedictus de', 'last_name':...  2020  "
      ]
     },
     "execution_count": 14,
     "metadata": {},
     "output_type": "execute_result"
    }
   ],
   "source": [
    "%dsldf search publications for \"Machine Learning\" return publications limit 5"
   ]
  },
  {
   "cell_type": "markdown",
   "metadata": {
    "Collapsed": "false"
   },
   "source": [
    "Note: Special characters, such as any of `^ \" : ~ \\ [ ] { } ( ) ! | & +` must be escaped by a backslash `\\`. Also, please note escaping rules in\n",
    "[Python](http://python-reference.readthedocs.io/en/latest/docs/str/escapes.html) (or other languages). For example, when writing a query with escaped quotes, such as `search publications for \"\\\"phrase 1\\\" AND \\\"phrase 2\\\"\"`, in Python, it is necessary to escape the backslashes as well, so it\n",
    "would look like: `'search publications for \"\\\\\"phrase 1\\\\\" AND \\\\\"phrase 2\\\\\"\"'`. \n",
    "\n",
    "See the [official docs](https://docs.dimensions.ai/dsl/language.html#for-search-term) for more details."
   ]
  },
  {
   "cell_type": "markdown",
   "metadata": {
    "Collapsed": "false"
   },
   "source": [
    "### 2.3 Boolean Operators\n",
    "\n",
    "Search term can consist of multiple keywords or phrases connected using\n",
    "boolean logic operators, e.g. `AND`, `OR` and `NOT`."
   ]
  },
  {
   "cell_type": "code",
   "execution_count": 15,
   "metadata": {
    "Collapsed": "false"
   },
   "outputs": [
    {
     "name": "stdout",
     "output_type": "stream",
     "text": [
      "Returned Publications: 5 (total = 5259655)\n"
     ]
    },
    {
     "data": {
      "text/html": [
       "<div>\n",
       "<style scoped>\n",
       "    .dataframe tbody tr th:only-of-type {\n",
       "        vertical-align: middle;\n",
       "    }\n",
       "\n",
       "    .dataframe tbody tr th {\n",
       "        vertical-align: top;\n",
       "    }\n",
       "\n",
       "    .dataframe thead th {\n",
       "        text-align: right;\n",
       "    }\n",
       "</style>\n",
       "<table border=\"1\" class=\"dataframe\">\n",
       "  <thead>\n",
       "    <tr style=\"text-align: right;\">\n",
       "      <th></th>\n",
       "      <th>title</th>\n",
       "      <th>id</th>\n",
       "      <th>year</th>\n",
       "      <th>type</th>\n",
       "      <th>pages</th>\n",
       "      <th>author_affiliations</th>\n",
       "      <th>issue</th>\n",
       "      <th>volume</th>\n",
       "      <th>journal.id</th>\n",
       "      <th>journal.title</th>\n",
       "    </tr>\n",
       "  </thead>\n",
       "  <tbody>\n",
       "    <tr>\n",
       "      <th>0</th>\n",
       "      <td>ANHANG. Part 2</td>\n",
       "      <td>pub.1126070644</td>\n",
       "      <td>2020</td>\n",
       "      <td>chapter</td>\n",
       "      <td>802-1094</td>\n",
       "      <td>NaN</td>\n",
       "      <td>NaN</td>\n",
       "      <td>NaN</td>\n",
       "      <td>NaN</td>\n",
       "      <td>NaN</td>\n",
       "    </tr>\n",
       "    <tr>\n",
       "      <th>1</th>\n",
       "      <td>England in 1845 and in 1885</td>\n",
       "      <td>pub.1126070808</td>\n",
       "      <td>2020</td>\n",
       "      <td>chapter</td>\n",
       "      <td>61-66</td>\n",
       "      <td>NaN</td>\n",
       "      <td>NaN</td>\n",
       "      <td>NaN</td>\n",
       "      <td>NaN</td>\n",
       "      <td>NaN</td>\n",
       "    </tr>\n",
       "    <tr>\n",
       "      <th>2</th>\n",
       "      <td>Translational studies of estradiol and progest...</td>\n",
       "      <td>pub.1124948447</td>\n",
       "      <td>2020</td>\n",
       "      <td>article</td>\n",
       "      <td>1723857</td>\n",
       "      <td>[[{'first_name': 'Antonia V', 'last_name': 'Se...</td>\n",
       "      <td>1</td>\n",
       "      <td>11</td>\n",
       "      <td>jour.1045059</td>\n",
       "      <td>European Journal of Psychotraumatology</td>\n",
       "    </tr>\n",
       "    <tr>\n",
       "      <th>3</th>\n",
       "      <td>7. Conservation of the Amsterdam Sunflowers: F...</td>\n",
       "      <td>pub.1125801745</td>\n",
       "      <td>2020</td>\n",
       "      <td>chapter</td>\n",
       "      <td>175-206</td>\n",
       "      <td>[[{'first_name': 'Ella', 'last_name': 'Hendrik...</td>\n",
       "      <td>NaN</td>\n",
       "      <td>NaN</td>\n",
       "      <td>NaN</td>\n",
       "      <td>NaN</td>\n",
       "    </tr>\n",
       "    <tr>\n",
       "      <th>4</th>\n",
       "      <td>New findings questioning the construct validit...</td>\n",
       "      <td>pub.1124216519</td>\n",
       "      <td>2020</td>\n",
       "      <td>article</td>\n",
       "      <td>1708145</td>\n",
       "      <td>[[{'first_name': 'Julian D', 'last_name': 'For...</td>\n",
       "      <td>1</td>\n",
       "      <td>11</td>\n",
       "      <td>jour.1045059</td>\n",
       "      <td>European Journal of Psychotraumatology</td>\n",
       "    </tr>\n",
       "  </tbody>\n",
       "</table>\n",
       "</div>"
      ],
      "text/plain": [
       "                                               title              id  year  \\\n",
       "0                                     ANHANG. Part 2  pub.1126070644  2020   \n",
       "1                        England in 1845 and in 1885  pub.1126070808  2020   \n",
       "2  Translational studies of estradiol and progest...  pub.1124948447  2020   \n",
       "3  7. Conservation of the Amsterdam Sunflowers: F...  pub.1125801745  2020   \n",
       "4  New findings questioning the construct validit...  pub.1124216519  2020   \n",
       "\n",
       "      type     pages                                author_affiliations issue  \\\n",
       "0  chapter  802-1094                                                NaN   NaN   \n",
       "1  chapter     61-66                                                NaN   NaN   \n",
       "2  article   1723857  [[{'first_name': 'Antonia V', 'last_name': 'Se...     1   \n",
       "3  chapter   175-206  [[{'first_name': 'Ella', 'last_name': 'Hendrik...   NaN   \n",
       "4  article   1708145  [[{'first_name': 'Julian D', 'last_name': 'For...     1   \n",
       "\n",
       "  volume    journal.id                           journal.title  \n",
       "0    NaN           NaN                                     NaN  \n",
       "1    NaN           NaN                                     NaN  \n",
       "2     11  jour.1045059  European Journal of Psychotraumatology  \n",
       "3    NaN           NaN                                     NaN  \n",
       "4     11  jour.1045059  European Journal of Psychotraumatology  "
      ]
     },
     "execution_count": 15,
     "metadata": {},
     "output_type": "execute_result"
    }
   ],
   "source": [
    "%dsldf search publications for \"(dose AND concentration)\" return publications limit 5"
   ]
  },
  {
   "cell_type": "markdown",
   "metadata": {
    "Collapsed": "false"
   },
   "source": [
    "When specifying Boolean operators with keywords such as `AND`, `OR` and\n",
    "`NOT`, the keywords must appear in all uppercase. \n",
    "\n",
    "The operators available are shown in the table below.\n",
    ".\n",
    "\n",
    "| Boolean Operator | Alternative Symbol | Description                                                                                                                                                                 |\n",
    "|------------------|--------------------|-----------------------------------------------------------------------------------------------------------------------------------------------------------------------------|\n",
    "| `AND`            | `&&`               | Requires both terms on either side of the Boolean operator to be present for a match.                                                                                       |\n",
    "| `NOT`            | `!`                | Requires that the following term not be present.                                                                                                                            |\n",
    "| `OR`             | `||`               | Requires that either term (or both terms) be present for a match.                                                                                                           |\n",
    "|                  | `+`                | Requires that the following term be present.                                                                                                                                |\n",
    "|                  | `-`                | Prohibits the following term (that is, matches on fields or documents that do not include that term). The `-` operator is functionally similar to the Boolean operator `!`. |"
   ]
  },
  {
   "cell_type": "code",
   "execution_count": 16,
   "metadata": {
    "Collapsed": "false"
   },
   "outputs": [
    {
     "name": "stdout",
     "output_type": "stream",
     "text": [
      "Returned Publications: 5 (total = 1355217)\n"
     ]
    },
    {
     "data": {
      "text/html": [
       "<div>\n",
       "<style scoped>\n",
       "    .dataframe tbody tr th:only-of-type {\n",
       "        vertical-align: middle;\n",
       "    }\n",
       "\n",
       "    .dataframe tbody tr th {\n",
       "        vertical-align: top;\n",
       "    }\n",
       "\n",
       "    .dataframe thead th {\n",
       "        text-align: right;\n",
       "    }\n",
       "</style>\n",
       "<table border=\"1\" class=\"dataframe\">\n",
       "  <thead>\n",
       "    <tr style=\"text-align: right;\">\n",
       "      <th></th>\n",
       "      <th>type</th>\n",
       "      <th>pages</th>\n",
       "      <th>year</th>\n",
       "      <th>id</th>\n",
       "      <th>title</th>\n",
       "      <th>author_affiliations</th>\n",
       "    </tr>\n",
       "  </thead>\n",
       "  <tbody>\n",
       "    <tr>\n",
       "      <th>0</th>\n",
       "      <td>chapter</td>\n",
       "      <td>65-368</td>\n",
       "      <td>2020</td>\n",
       "      <td>pub.1127396158</td>\n",
       "      <td>Documents</td>\n",
       "      <td>NaN</td>\n",
       "    </tr>\n",
       "    <tr>\n",
       "      <th>1</th>\n",
       "      <td>chapter</td>\n",
       "      <td>129-143</td>\n",
       "      <td>2020</td>\n",
       "      <td>pub.1124248733</td>\n",
       "      <td>8. India in the Early Nuclear Age</td>\n",
       "      <td>[[{'first_name': 'Campbell', 'last_name': 'Cra...</td>\n",
       "    </tr>\n",
       "    <tr>\n",
       "      <th>2</th>\n",
       "      <td>chapter</td>\n",
       "      <td>155-174</td>\n",
       "      <td>2020</td>\n",
       "      <td>pub.1127822864</td>\n",
       "      <td>The Economy of Detainability</td>\n",
       "      <td>[[{'first_name': 'Nicholas', 'last_name': 'De ...</td>\n",
       "    </tr>\n",
       "    <tr>\n",
       "      <th>3</th>\n",
       "      <td>chapter</td>\n",
       "      <td>634-688</td>\n",
       "      <td>2020</td>\n",
       "      <td>pub.1124248682</td>\n",
       "      <td>17. Institutions for Infrastructure in Develop...</td>\n",
       "      <td>[[{'first_name': 'Antonio', 'last_name': 'Esta...</td>\n",
       "    </tr>\n",
       "    <tr>\n",
       "      <th>4</th>\n",
       "      <td>chapter</td>\n",
       "      <td>285-304</td>\n",
       "      <td>2020</td>\n",
       "      <td>pub.1124946791</td>\n",
       "      <td>16. The Neuroethology of Birdsong</td>\n",
       "      <td>[[{'first_name': 'Eliot A.', 'last_name': 'Bre...</td>\n",
       "    </tr>\n",
       "  </tbody>\n",
       "</table>\n",
       "</div>"
      ],
      "text/plain": [
       "      type    pages  year              id  \\\n",
       "0  chapter   65-368  2020  pub.1127396158   \n",
       "1  chapter  129-143  2020  pub.1124248733   \n",
       "2  chapter  155-174  2020  pub.1127822864   \n",
       "3  chapter  634-688  2020  pub.1124248682   \n",
       "4  chapter  285-304  2020  pub.1124946791   \n",
       "\n",
       "                                               title  \\\n",
       "0                                          Documents   \n",
       "1                  8. India in the Early Nuclear Age   \n",
       "2                       The Economy of Detainability   \n",
       "3  17. Institutions for Infrastructure in Develop...   \n",
       "4                  16. The Neuroethology of Birdsong   \n",
       "\n",
       "                                 author_affiliations  \n",
       "0                                                NaN  \n",
       "1  [[{'first_name': 'Campbell', 'last_name': 'Cra...  \n",
       "2  [[{'first_name': 'Nicholas', 'last_name': 'De ...  \n",
       "3  [[{'first_name': 'Antonio', 'last_name': 'Esta...  \n",
       "4  [[{'first_name': 'Eliot A.', 'last_name': 'Bre...  "
      ]
     },
     "execution_count": 16,
     "metadata": {},
     "output_type": "execute_result"
    }
   ],
   "source": [
    "%dsldf search publications for \"(dose OR concentration) AND (-malaria +africa)\" return publications limit 5"
   ]
  },
  {
   "cell_type": "markdown",
   "metadata": {
    "Collapsed": "false"
   },
   "source": [
    "The combination of keywords and boolean operators allow to construct rather sophisticated queries. For example, here's a real-world query used to extract publications related to COVID-19. "
   ]
  },
  {
   "cell_type": "code",
   "execution_count": 70,
   "metadata": {
    "Collapsed": "false"
   },
   "outputs": [
    {
     "name": "stdout",
     "output_type": "stream",
     "text": [
      "search publications in full_data for \" \\\"2019-nCoV\\\" OR \\\"COVID-19\\\" OR \\\"SARS-CoV-2\\\" OR \\\"HCoV-2019\\\" OR \\\"hcov\\\" OR \\\"NCOVID-19\\\" OR  \n",
      "    \\\"severe acute respiratory syndrome coronavirus 2\\\" OR \\\"severe acute respiratory syndrome corona virus 2\\\" \n",
      "    OR ((\\\"coronavirus\\\"  OR \\\"corona virus\\\") AND (Wuhan OR China OR novel)) \" return publications\n",
      "Returned Publications: 20 (total = 99186)\n"
     ]
    },
    {
     "data": {
      "application/json": {
       "_stats": {
        "total_count": 99186
       },
       "_version": {
        "release": "1.25",
        "version": "1.25.0"
       },
       "publications": [
        {
         "author_affiliations": [
          [
           {
            "affiliations": [
             {
              "city": "Louvain-la-Neuve",
              "city_id": 2792073,
              "country": "Belgium",
              "country_code": "BE",
              "id": "grid.7942.8",
              "name": "Université Catholique de Louvain",
              "state": null,
              "state_code": null
             }
            ],
            "corresponding": "",
            "current_organization_id": "grid.7942.8",
            "first_name": "Benjamin-Samuel",
            "initials": "",
            "last_name": "Schlüter",
            "orcid": "",
            "researcher_id": "ur.013130304214.27"
           },
           {
            "affiliations": [
             {
              "city": "Louvain-la-Neuve",
              "city_id": 2792073,
              "country": "Belgium",
              "country_code": "BE",
              "id": "grid.7942.8",
              "name": "Université Catholique de Louvain",
              "state": null,
              "state_code": null
             },
             {
              "city": "Paris",
              "city_id": 2988507,
              "country": "France",
              "country_code": "FR",
              "id": "grid.77048.3c",
              "name": "National Institute for Demographic Studies",
              "state": null,
              "state_code": null
             }
            ],
            "corresponding": "",
            "current_organization_id": "grid.7942.8",
            "first_name": "Bruno",
            "initials": "",
            "last_name": "Masquelier",
            "orcid": "['0000-0002-9585-891X']",
            "researcher_id": "ur.01065454262.07"
           },
           {
            "affiliations": [
             {
              "city": "Princeton",
              "city_id": 5102922,
              "country": "United States",
              "country_code": "US",
              "id": "grid.16750.35",
              "name": "Princeton University",
              "state": "New Jersey",
              "state_code": "US-NJ"
             }
            ],
            "corresponding": "",
            "current_organization_id": "grid.16750.35",
            "first_name": "C Jessica E",
            "initials": "",
            "last_name": "Metcalf",
            "orcid": "",
            "researcher_id": "ur.016452515157.97"
           },
           {
            "affiliations": [
             {
              "name": "Bureau Municipal d'Hygiène De La Commune Urbaine d'Antananarivo, Antananarivo, Madagascar."
             }
            ],
            "corresponding": "",
            "current_organization_id": "",
            "first_name": "Anjarasoa",
            "initials": "",
            "last_name": "Rasoanomenjanahary",
            "orcid": "",
            "researcher_id": ""
           }
          ]
         ],
         "id": "pub.1124649186",
         "issue": "1",
         "journal": {
          "id": "jour.1041075",
          "title": "Global Health Action"
         },
         "pages": "1717411",
         "title": "Long-term trends in seasonality of mortality in urban Madagascar: the role of the epidemiological transition",
         "type": "article",
         "volume": "13",
         "year": 2020
        },
        {
         "author_affiliations": [
          [
           {
            "affiliations": [
             {
              "name": "Department of Psychiatry, Amsterdam Neuroscience & Public Health, Amsterdam UMC, Amsterdam, The Netherlands"
             },
             {
              "name": "ARQ National Psychotrauma Centre, Diemen, The Netherlands"
             }
            ],
            "corresponding": "",
            "current_organization_id": "grid.491097.2",
            "first_name": "Miranda",
            "initials": "",
            "last_name": "Olff",
            "orcid": "['0000-0003-1016-9515']",
            "researcher_id": "ur.01146350533.18"
           },
           {
            "affiliations": [
             {
              "name": "Department of Psychiatry, Amsterdam UMC, Amsterdam, The Netherlands"
             }
            ],
            "corresponding": "",
            "current_organization_id": "grid.7177.6",
            "first_name": "Anne",
            "initials": "",
            "last_name": "Bakker",
            "orcid": "['0000-0002-3248-2441']",
            "researcher_id": "ur.01161651232.71"
           },
           {
            "affiliations": [
             {
              "city": "London",
              "city_id": 6058560,
              "country": "Canada",
              "country_code": "CA",
              "id": "grid.39381.30",
              "name": "Western University",
              "state": "Ontario",
              "state_code": "CA-ON"
             }
            ],
            "corresponding": "",
            "current_organization_id": "grid.39381.30",
            "first_name": "Paul",
            "initials": "",
            "last_name": "Frewen",
            "orcid": "",
            "researcher_id": "ur.01040106640.89"
           },
           {
            "affiliations": [
             {
              "city": "Oslo",
              "city_id": 3143244,
              "country": "Norway",
              "country_code": "NO",
              "id": "grid.504188.0",
              "name": "Norwegian Centre for Violence and Traumatic Stress Studies",
              "state": null,
              "state_code": null
             }
            ],
            "corresponding": "",
            "current_organization_id": "grid.504188.0",
            "first_name": "Helene",
            "initials": "",
            "last_name": "Aakvaag",
            "orcid": "",
            "researcher_id": "ur.01172210614.57"
           },
           {
            "affiliations": [
             {
              "city": "Zagreb",
              "city_id": 3186886,
              "country": "Croatia",
              "country_code": "HR",
              "id": "grid.4808.4",
              "name": "University of Zagreb",
              "state": null,
              "state_code": null
             }
            ],
            "corresponding": "",
            "current_organization_id": "grid.4808.4",
            "first_name": "Dean",
            "initials": "",
            "last_name": "Ajdukovic",
            "orcid": "",
            "researcher_id": "ur.0674164006.36"
           },
           {
            "affiliations": [
             {
              "name": "Ramsay Health Care, The Hollywood Clinic, Perth, Australia"
             }
            ],
            "corresponding": "",
            "current_organization_id": "",
            "first_name": "Douglas",
            "initials": "",
            "last_name": "Brewer",
            "orcid": "",
            "researcher_id": "ur.07674505346.48"
           },
           {
            "affiliations": [
             {
              "city": "Durham",
              "city_id": 4464368,
              "country": "United States",
              "country_code": "US",
              "id": "grid.26009.3d",
              "name": "Duke University",
              "state": "North Carolina",
              "state_code": "US-NC"
             }
            ],
            "corresponding": "",
            "current_organization_id": "",
            "first_name": "Diane L.",
            "initials": "",
            "last_name": "Elmore Borbon",
            "orcid": "",
            "researcher_id": ""
           },
           {
            "affiliations": [
             {
              "city": "Stanford",
              "city_id": 5398563,
              "country": "United States",
              "country_code": "US",
              "id": "grid.168010.e",
              "name": "Stanford University",
              "state": "California",
              "state_code": "US-CA"
             }
            ],
            "corresponding": "",
            "current_organization_id": "grid.280747.e",
            "first_name": "Marylène",
            "initials": "",
            "last_name": "Cloitre",
            "orcid": "",
            "researcher_id": "ur.0700745076.93"
           },
           {
            "affiliations": [
             {
              "city": "Maynooth",
              "city_id": 2962668,
              "country": "Ireland",
              "country_code": "IE",
              "id": "grid.95004.38",
              "name": "National University of Ireland, Maynooth",
              "state": null,
              "state_code": null
             }
            ],
            "corresponding": "",
            "current_organization_id": "grid.95004.38",
            "first_name": "Philip",
            "initials": "",
            "last_name": "Hyland",
            "orcid": "['0000-0002-9574-7128']",
            "researcher_id": "ur.01142770032.49"
           },
           {
            "affiliations": [
             {
              "city": "Philadelphia",
              "city_id": 4560349,
              "country": "United States",
              "country_code": "US",
              "id": "grid.239552.a",
              "name": "Children's Hospital of Philadelphia",
              "state": "Pennsylvania",
              "state_code": "US-PA"
             },
             {
              "city": "Philadelphia",
              "city_id": 4560349,
              "country": "United States",
              "country_code": "US",
              "id": "grid.239552.a",
              "name": "Children's Hospital of Philadelphia",
              "state": "Pennsylvania",
              "state_code": "US-PA"
             },
             {
              "city": "Philadelphia",
              "city_id": 4560349,
              "country": "United States",
              "country_code": "US",
              "id": "grid.25879.31",
              "name": "University of Pennsylvania",
              "state": "Pennsylvania",
              "state_code": "US-PA"
             }
            ],
            "corresponding": "",
            "current_organization_id": "grid.239552.a",
            "first_name": "Nancy",
            "initials": "",
            "last_name": "Kassam-Adams",
            "orcid": "['0000-0001-7412-1428']",
            "researcher_id": "ur.0774311077.48"
           },
           {
            "affiliations": [
             {
              "city": "Vienna",
              "city_id": 2761369,
              "country": "Austria",
              "country_code": "AT",
              "id": "grid.10420.37",
              "name": "University of Vienna",
              "state": null,
              "state_code": null
             }
            ],
            "corresponding": "",
            "current_organization_id": "grid.10420.37",
            "first_name": "Matthias",
            "initials": "",
            "last_name": "Knefel",
            "orcid": "['0000-0003-0632-0673']",
            "researcher_id": "ur.0611572430.05"
           },
           {
            "affiliations": [
             {
              "name": "Traumatic Stress Unit, Psychiatric Emergency Hospital, Buenos City, Argentina"
             },
             {
              "name": "Human Factors, Emergency Medical Care System (SAME), Buenos Aires City, Argentina"
             }
            ],
            "corresponding": "",
            "current_organization_id": "",
            "first_name": "Juliana A.",
            "initials": "",
            "last_name": "Lanza",
            "orcid": "",
            "researcher_id": "ur.012133142146.29"
           },
           {
            "affiliations": [
             {
              "city": "Vienna",
              "city_id": 2761369,
              "country": "Austria",
              "country_code": "AT",
              "id": "grid.10420.37",
              "name": "University of Vienna",
              "state": null,
              "state_code": null
             }
            ],
            "corresponding": "",
            "current_organization_id": "grid.10420.37",
            "first_name": "Brigitte",
            "initials": "",
            "last_name": "Lueger-Schuster",
            "orcid": "['0000-0003-0784-8437']",
            "researcher_id": "ur.01310272743.27"
           },
           {
            "affiliations": [
             {
              "city": "Sydney",
              "city_id": 2147714,
              "country": "Australia",
              "country_code": "AU",
              "id": "grid.1005.4",
              "name": "UNSW Sydney",
              "state": "New South Wales",
              "state_code": "AU-NSW"
             }
            ],
            "corresponding": "",
            "current_organization_id": "grid.1005.4",
            "first_name": "Angela",
            "initials": "",
            "last_name": "Nickerson",
            "orcid": "['0000-0001-9171-4209']",
            "researcher_id": "ur.01270344355.72"
           },
           {
            "affiliations": [
             {
              "city": "Kurume",
              "city_id": 1858088,
              "country": "Japan",
              "country_code": "JP",
              "id": "grid.410781.b",
              "name": "Kurume University",
              "state": null,
              "state_code": null
             }
            ],
            "corresponding": "",
            "current_organization_id": "grid.410781.b",
            "first_name": "Misari",
            "initials": "",
            "last_name": "Oe",
            "orcid": "['0000-0003-4550-036X']",
            "researcher_id": "ur.0617710137.38"
           },
           {
            "affiliations": [
             {
              "city": "Zurich",
              "city_id": 2657896,
              "country": "Switzerland",
              "country_code": "CH",
              "id": "grid.412004.3",
              "name": "University Hospital of Zurich",
              "state": null,
              "state_code": null
             }
            ],
            "corresponding": "",
            "current_organization_id": "grid.7400.3",
            "first_name": "Monique C.",
            "initials": "",
            "last_name": "Pfaltz",
            "orcid": "['0000-0002-7762-6226']",
            "researcher_id": "ur.0706555476.63"
           },
           {
            "affiliations": [
             {
              "city": "Talca",
              "city_id": 3870294,
              "country": "Chile",
              "country_code": "CL",
              "id": "grid.411964.f",
              "name": "Catholic University of the Maule",
              "state": null,
              "state_code": null
             }
            ],
            "corresponding": "",
            "current_organization_id": "",
            "first_name": "Carolina",
            "initials": "",
            "last_name": "Salgado",
            "orcid": "",
            "researcher_id": ""
           },
           {
            "affiliations": [
             {
              "city": "Stellenbosch",
              "city_id": 3361025,
              "country": "South Africa",
              "country_code": "ZA",
              "id": "grid.11956.3a",
              "name": "Stellenbosch University",
              "state": null,
              "state_code": null
             }
            ],
            "corresponding": "",
            "current_organization_id": "grid.11956.3a",
            "first_name": "Soraya",
            "initials": "",
            "last_name": "Seedat",
            "orcid": "['0000-0002-5118-786X']",
            "researcher_id": "ur.01253746503.16"
           },
           {
            "affiliations": [
             {
              "city": "Toronto",
              "city_id": 6167865,
              "country": "Canada",
              "country_code": "CA",
              "id": "grid.68312.3e",
              "name": "Ryerson University",
              "state": "Ontario",
              "state_code": "CA-ON"
             },
             {
              "name": "Department of Psychology, Ryerson University, Toronto, Canada and Remedy, Toronto, Canada"
             }
            ],
            "corresponding": "",
            "current_organization_id": "",
            "first_name": "Anne",
            "initials": "",
            "last_name": "Wagner",
            "orcid": "",
            "researcher_id": ""
           },
           {
            "affiliations": [
             {
              "name": "Department of Consultation-Liaison Psychiatry and Psychosomatic Medicine, University Hospital Zurich, University of Zurich, Zurich, Switzerland"
             }
            ],
            "corresponding": "",
            "current_organization_id": "grid.7400.3",
            "first_name": "Ulrich",
            "initials": "",
            "last_name": "Schnyder",
            "orcid": "['0000-0003-3556-7990']",
            "researcher_id": "ur.01034466661.00"
           }
          ]
         ],
         "id": "pub.1127162174",
         "issue": "1",
         "journal": {
          "id": "jour.1045059",
          "title": "European Journal of Psychotraumatology"
         },
         "pages": "1752504",
         "title": "Screening for consequences of trauma – an update on the global collaboration on traumatic stress",
         "type": "article",
         "volume": "11",
         "year": 2020
        },
        {
         "author_affiliations": [
          [
           {
            "affiliations": [
             {
              "city": "Umeå",
              "city_id": 602150,
              "country": "Sweden",
              "country_code": "SE",
              "id": "grid.12650.30",
              "name": "Umeå University",
              "state": null,
              "state_code": null
             },
             {
              "city": "Aberdeen",
              "city_id": 2657832,
              "country": "United Kingdom",
              "country_code": "GB",
              "id": "grid.7107.1",
              "name": "University of Aberdeen",
              "state": null,
              "state_code": null
             },
             {
              "city": "Johannesburg",
              "city_id": 993800,
              "country": "South Africa",
              "country_code": "ZA",
              "id": "grid.11951.3d",
              "name": "University of the Witwatersrand",
              "state": null,
              "state_code": null
             }
            ],
            "corresponding": "",
            "current_organization_id": "grid.12650.30",
            "first_name": "Peter",
            "initials": "",
            "last_name": "Byass",
            "orcid": "['0000-0001-5474-4361']",
            "researcher_id": "ur.0730655413.45"
           }
          ]
         ],
         "id": "pub.1127605002",
         "issue": "1",
         "journal": {
          "id": "jour.1041075",
          "title": "Global Health Action"
         },
         "pages": "1760490",
         "title": "Eco-epidemiological assessment of the COVID-19 epidemic in China, January–February 2020",
         "type": "article",
         "volume": "13",
         "year": 2020
        },
        {
         "author_affiliations": [
          [
           {
            "affiliations": [
             {
              "city": "Maastricht",
              "city_id": 2751283,
              "country": "Netherlands",
              "country_code": "NL",
              "id": "grid.5012.6",
              "name": "Maastricht University",
              "state": null,
              "state_code": null
             }
            ],
            "corresponding": "",
            "current_organization_id": "grid.5342.0",
            "first_name": "An",
            "initials": "",
            "last_name": "de Sutter",
            "orcid": "['0000-0002-2540-8307']",
            "researcher_id": "ur.01202650507.15"
           },
           {
            "affiliations": [
             {
              "city": "Maastricht",
              "city_id": 2751283,
              "country": "Netherlands",
              "country_code": "NL",
              "id": "grid.5012.6",
              "name": "Maastricht University",
              "state": null,
              "state_code": null
             }
            ],
            "corresponding": "",
            "current_organization_id": "grid.5012.6",
            "first_name": "Carl",
            "initials": "",
            "last_name": "Llor",
            "orcid": "",
            "researcher_id": "ur.011002705163.15"
           },
           {
            "affiliations": [
             {
              "city": "Maastricht",
              "city_id": 2751283,
              "country": "Netherlands",
              "country_code": "NL",
              "id": "grid.5012.6",
              "name": "Maastricht University",
              "state": null,
              "state_code": null
             }
            ],
            "corresponding": "",
            "current_organization_id": "grid.5012.6",
            "first_name": "Manfred",
            "initials": "",
            "last_name": "Maier",
            "orcid": "",
            "researcher_id": "ur.01242673734.30"
           },
           {
            "affiliations": [
             {
              "city": "Maastricht",
              "city_id": 2751283,
              "country": "Netherlands",
              "country_code": "NL",
              "id": "grid.5012.6",
              "name": "Maastricht University",
              "state": null,
              "state_code": null
             }
            ],
            "corresponding": "",
            "current_organization_id": "grid.5012.6",
            "first_name": "Christian",
            "initials": "",
            "last_name": "Mallen",
            "orcid": "",
            "researcher_id": "ur.016710200632.89"
           },
           {
            "affiliations": [
             {
              "city": "Maastricht",
              "city_id": 2751283,
              "country": "Netherlands",
              "country_code": "NL",
              "id": "grid.5012.6",
              "name": "Maastricht University",
              "state": null,
              "state_code": null
             }
            ],
            "corresponding": "",
            "current_organization_id": "grid.9594.1",
            "first_name": "Athina",
            "initials": "",
            "last_name": "Tatsioni",
            "orcid": "",
            "researcher_id": "ur.01117773302.59"
           },
           {
            "affiliations": [
             {
              "city": "Maastricht",
              "city_id": 2751283,
              "country": "Netherlands",
              "country_code": "NL",
              "id": "grid.5012.6",
              "name": "Maastricht University",
              "state": null,
              "state_code": null
             }
            ],
            "corresponding": "",
            "current_organization_id": "grid.7177.6",
            "first_name": "Henk",
            "initials": "",
            "last_name": "van Weert",
            "orcid": "",
            "researcher_id": "ur.0661700447.33"
           },
           {
            "affiliations": [
             {
              "city": "Maastricht",
              "city_id": 2751283,
              "country": "Netherlands",
              "country_code": "NL",
              "id": "grid.5012.6",
              "name": "Maastricht University",
              "state": null,
              "state_code": null
             }
            ],
            "corresponding": "",
            "current_organization_id": "grid.5522.0",
            "first_name": "Adam",
            "initials": "",
            "last_name": "Windak",
            "orcid": "['0000-0001-9844-8935']",
            "researcher_id": "ur.0700013263.90"
           },
           {
            "affiliations": [
             {
              "city": "Maastricht",
              "city_id": 2751283,
              "country": "Netherlands",
              "country_code": "NL",
              "id": "grid.5012.6",
              "name": "Maastricht University",
              "state": null,
              "state_code": null
             }
            ],
            "corresponding": "",
            "current_organization_id": "grid.5012.6",
            "first_name": "Jelle",
            "initials": "",
            "last_name": "Stoffers",
            "orcid": "['0000-0002-7908-5101']",
            "researcher_id": "ur.015060514121.06"
           },
           {
            "affiliations": [],
            "corresponding": "",
            "current_organization_id": "",
            "first_name": "On behalf of the Editorial Board Jelle Stoffers Editor-in-Chief the European Journal of General",
            "initials": "",
            "last_name": "Practice",
            "orcid": "",
            "researcher_id": ""
           }
          ]
         ],
         "id": "pub.1127251895",
         "issue": "1",
         "journal": {
          "id": "jour.1114546",
          "title": "European Journal of General Practice"
         },
         "pages": "58-60",
         "title": "Family medicine in times of ‘COVID-19’: A generalists' voice",
         "type": "article",
         "volume": "26",
         "year": 2020
        },
        {
         "author_affiliations": [
          [
           {
            "affiliations": [
             {
              "city": "Amoy",
              "city_id": 1790645,
              "country": "China",
              "country_code": "CN",
              "id": "grid.12955.3a",
              "name": "Xiamen University",
              "state": null,
              "state_code": null
             }
            ],
            "corresponding": "",
            "current_organization_id": "grid.419052.b",
            "first_name": "Jingjing",
            "initials": "",
            "last_name": "Yuan",
            "orcid": "",
            "researcher_id": "ur.014431633062.43"
           },
           {
            "affiliations": [
             {
              "city": "Amoy",
              "city_id": 1790645,
              "country": "China",
              "country_code": "CN",
              "id": "grid.12955.3a",
              "name": "Xiamen University",
              "state": null,
              "state_code": null
             },
             {
              "city": "Beijing",
              "city_id": 1816670,
              "country": "China",
              "country_code": "CN",
              "id": "grid.419052.b",
              "name": "Research Center for Eco-Environmental Sciences",
              "state": null,
              "state_code": null
             }
            ],
            "corresponding": "",
            "current_organization_id": "grid.419052.b",
            "first_name": "Yonglong",
            "initials": "",
            "last_name": "Lu",
            "orcid": "['0000-0002-3338-4210']",
            "researcher_id": "ur.0764417077.06"
           },
           {
            "affiliations": [
             {
              "city": "Beijing",
              "city_id": 1816670,
              "country": "China",
              "country_code": "CN",
              "id": "grid.419052.b",
              "name": "Research Center for Eco-Environmental Sciences",
              "state": null,
              "state_code": null
             }
            ],
            "corresponding": "",
            "current_organization_id": "grid.419052.b",
            "first_name": "Xianghui",
            "initials": "",
            "last_name": "Cao",
            "orcid": "",
            "researcher_id": "ur.010554706124.60"
           },
           {
            "affiliations": [
             {
              "city": "Beijing",
              "city_id": 1816670,
              "country": "China",
              "country_code": "CN",
              "id": "grid.419052.b",
              "name": "Research Center for Eco-Environmental Sciences",
              "state": null,
              "state_code": null
             }
            ],
            "corresponding": "",
            "current_organization_id": "",
            "first_name": "Haotian",
            "initials": "",
            "last_name": "Cui",
            "orcid": "",
            "researcher_id": ""
           }
          ]
         ],
         "id": "pub.1125546310",
         "issue": "1",
         "journal": {
          "id": "jour.1149989",
          "title": "Ecosystem Health and Sustainability"
         },
         "pages": "1741325",
         "title": "Regulating wildlife conservation and food safety to prevent human exposure to novel virus",
         "type": "article",
         "volume": "6",
         "year": 2020
        },
        {
         "author_affiliations": [
          [
           {
            "affiliations": [
             {
              "name": "Independent Scholar, Rockville, MD, USA, Correspondencegoffmane@yahoo.com"
             }
            ],
            "corresponding": "",
            "current_organization_id": "",
            "first_name": "Ethan",
            "initials": "",
            "last_name": "Goffman",
            "orcid": "",
            "researcher_id": ""
           }
          ]
         ],
         "id": "pub.1127881367",
         "issue": "1",
         "journal": {
          "id": "jour.1035508",
          "title": "Sustainability Science Practice and Policy"
         },
         "pages": "48-52",
         "title": "In the wake of COVID-19, is glocalization our sustainability future?",
         "type": "article",
         "volume": "16",
         "year": 2020
        },
        {
         "author_affiliations": [
          [
           {
            "affiliations": [
             {
              "city": "Plymouth",
              "city_id": 2640194,
              "country": "United Kingdom",
              "country_code": "GB",
              "id": "grid.11201.33",
              "name": "Plymouth University",
              "state": null,
              "state_code": null
             }
            ],
            "corresponding": "",
            "current_organization_id": "grid.11201.33",
            "first_name": "M. J.",
            "initials": "",
            "last_name": "Smith",
            "orcid": "",
            "researcher_id": "ur.015237040415.29"
           }
          ]
         ],
         "id": "pub.1127356903",
         "issue": "2",
         "journal": {
          "id": "jour.1047646",
          "title": "Journal of Maps"
         },
         "pages": "i-iii",
         "title": "Sustainable Development Goals: genuine global change requires genuine measures of efficacy",
         "type": "article",
         "volume": "16",
         "year": 2020
        },
        {
         "author_affiliations": [
          [
           {
            "affiliations": [
             {
              "name": "Midwest Veterinary Pathology, LLC, 2824 Flagstone Way, Lafayette, IN 47909, United States"
             }
            ],
            "corresponding": "",
            "current_organization_id": "",
            "first_name": "Nicola M.A.",
            "initials": "",
            "last_name": "Parry",
            "orcid": "",
            "researcher_id": ""
           }
          ]
         ],
         "id": "pub.1126583189",
         "journal": {
          "id": "jour.1367981",
          "title": "Forensic Science International Reports"
         },
         "pages": "100090",
         "title": "COVID-19 and Pets: When Pandemic Meets Panic",
         "type": "article",
         "volume": "2",
         "year": 2020
        },
        {
         "author_affiliations": [
          [
           {
            "affiliations": [
             {
              "name": "Department of Intensive Care, Erasme University Hospital, Université Libre de Bruxelles, Route de Lennik 808, 1070, Brussels, Belgium"
             }
            ],
            "corresponding": true,
            "current_organization_id": "",
            "first_name": "Jean-Louis",
            "initials": "",
            "last_name": "Vincent",
            "orcid": "",
            "researcher_id": ""
           },
           {
            "affiliations": [
             {
              "city": "Toronto",
              "city_id": 6167865,
              "country": "Canada",
              "country_code": "CA",
              "id": "grid.415502.7",
              "name": "St. Michael's Hospital",
              "state": "Ontario",
              "state_code": "CA-ON"
             },
             {
              "city": "Toronto",
              "city_id": 6167865,
              "country": "Canada",
              "country_code": "CA",
              "id": "grid.17063.33",
              "name": "University of Toronto",
              "state": "Ontario",
              "state_code": "CA-ON"
             }
            ],
            "corresponding": "",
            "current_organization_id": "grid.17063.33",
            "first_name": "Arthur S.",
            "initials": "",
            "last_name": "Slutsky",
            "orcid": "",
            "researcher_id": "ur.0676632646.68"
           }
          ]
         ],
         "id": "pub.1125691672",
         "issue": "1",
         "journal": {
          "id": "jour.1117766",
          "title": "Critical Care"
         },
         "pages": "90",
         "title": "Coronavirus: just imagine…",
         "type": "article",
         "volume": "24",
         "year": 2020
        },
        {
         "author_affiliations": [
          [
           {
            "affiliations": [
             {
              "city": "Toronto",
              "city_id": 6167865,
              "country": "Canada",
              "country_code": "CA",
              "id": "grid.17063.33",
              "name": "University of Toronto",
              "state": "Ontario",
              "state_code": "CA-ON"
             },
             {
              "city": "Toronto",
              "city_id": 6167865,
              "country": "Canada",
              "country_code": "CA",
              "id": "grid.415502.7",
              "name": "St. Michael's Hospital",
              "state": "Ontario",
              "state_code": "CA-ON"
             },
             {
              "name": "Global Institute of Public Health, Thiruvananthapuram, Kerala, India"
             }
            ],
            "corresponding": "",
            "current_organization_id": "",
            "first_name": "Vijay Kumar",
            "initials": "",
            "last_name": "Chattu",
            "orcid": "",
            "researcher_id": ""
           },
           {
            "affiliations": [
             {
              "city": "Ottawa",
              "city_id": 6094817,
              "country": "Canada",
              "country_code": "CA",
              "id": "grid.28046.38",
              "name": "University of Ottawa",
              "state": "Ontario",
              "state_code": "CA-ON"
             },
             {
              "city": "Oxford",
              "city_id": 2640729,
              "country": "United Kingdom",
              "country_code": "GB",
              "id": "grid.4991.5",
              "name": "University of Oxford",
              "state": null,
              "state_code": null
             }
            ],
            "corresponding": true,
            "current_organization_id": "grid.28046.38",
            "first_name": "Sanni",
            "initials": "",
            "last_name": "Yaya",
            "orcid": "['0000-0002-4876-6043']",
            "researcher_id": "ur.01351570052.20"
           }
          ]
         ],
         "id": "pub.1126049527",
         "issue": "1",
         "journal": {
          "id": "jour.1034053",
          "title": "Reproductive Health"
         },
         "pages": "43",
         "title": "Emerging infectious diseases and outbreaks: implications for women’s reproductive health and rights in resource-poor settings",
         "type": "article",
         "volume": "17",
         "year": 2020
        },
        {
         "author_affiliations": [
          [
           {
            "affiliations": [
             {
              "city": "Kuala Lumpur",
              "city_id": 1735161,
              "country": "Malaysia",
              "country_code": "MY",
              "id": "grid.10347.31",
              "name": "University of Malaya",
              "state": null,
              "state_code": null
             }
            ],
            "corresponding": "",
            "current_organization_id": "",
            "first_name": "Muhammad Izzuddin",
            "initials": "",
            "last_name": "Mohd Ropidi",
            "orcid": "",
            "researcher_id": ""
           },
           {
            "affiliations": [
             {
              "city": "Kuala Lumpur",
              "city_id": 1735161,
              "country": "Malaysia",
              "country_code": "MY",
              "id": "grid.10347.31",
              "name": "University of Malaya",
              "state": null,
              "state_code": null
             }
            ],
            "corresponding": "",
            "current_organization_id": "grid.10347.31",
            "first_name": "Ahmad Suhail",
            "initials": "",
            "last_name": "Khazali",
            "orcid": "['0000-0001-8830-441X']",
            "researcher_id": "ur.01164026661.25"
           },
           {
            "affiliations": [
             {
              "city": "Kuala Lumpur",
              "city_id": 1735161,
              "country": "Malaysia",
              "country_code": "MY",
              "id": "grid.10347.31",
              "name": "University of Malaya",
              "state": null,
              "state_code": null
             }
            ],
            "corresponding": true,
            "current_organization_id": "grid.10347.31",
            "first_name": "Nurshamimi",
            "initials": "",
            "last_name": "Nor Rashid",
            "orcid": "",
            "researcher_id": "ur.0653303774.76"
           },
           {
            "affiliations": [
             {
              "city": "Kuala Lumpur",
              "city_id": 1735161,
              "country": "Malaysia",
              "country_code": "MY",
              "id": "grid.10347.31",
              "name": "University of Malaya",
              "state": null,
              "state_code": null
             }
            ],
            "corresponding": "",
            "current_organization_id": "grid.10347.31",
            "first_name": "Rohana",
            "initials": "",
            "last_name": "Yusof",
            "orcid": "",
            "researcher_id": "ur.01227032415.92"
           }
          ]
         ],
         "id": "pub.1124199727",
         "issue": "1",
         "journal": {
          "id": "jour.1105665",
          "title": "Journal of Biomedical Science"
         },
         "pages": "27",
         "title": "Endoplasmic reticulum: a focal point of Zika virus infection",
         "type": "article",
         "volume": "27",
         "year": 2020
        },
        {
         "author_affiliations": [
          [
           {
            "affiliations": [
             {
              "city": "Beijing",
              "city_id": 1816670,
              "country": "China",
              "country_code": "CN",
              "id": "grid.411634.5",
              "name": "Peking University People's Hospital",
              "state": null,
              "state_code": null
             }
            ],
            "corresponding": "",
            "current_organization_id": "grid.411634.5",
            "first_name": "Peixun",
            "initials": "",
            "last_name": "Zhang",
            "orcid": "['0000-0003-0929-6293']",
            "researcher_id": "ur.01205721173.80"
           },
           {
            "affiliations": [
             {
              "city": "Beijing",
              "city_id": 1816670,
              "country": "China",
              "country_code": "CN",
              "id": "grid.411634.5",
              "name": "Peking University People's Hospital",
              "state": null,
              "state_code": null
             }
            ],
            "corresponding": "",
            "current_organization_id": "",
            "first_name": "Jia",
            "initials": "",
            "last_name": "Li",
            "orcid": "",
            "researcher_id": ""
           },
           {
            "affiliations": [
             {
              "city": "Beijing",
              "city_id": 1816670,
              "country": "China",
              "country_code": "CN",
              "id": "grid.411634.5",
              "name": "Peking University People's Hospital",
              "state": null,
              "state_code": null
             }
            ],
            "corresponding": "",
            "current_organization_id": "",
            "first_name": "Huixin",
            "initials": "",
            "last_name": "Liu",
            "orcid": "",
            "researcher_id": ""
           },
           {
            "affiliations": [
             {
              "city": "Beijing",
              "city_id": 1816670,
              "country": "China",
              "country_code": "CN",
              "id": "grid.411634.5",
              "name": "Peking University People's Hospital",
              "state": null,
              "state_code": null
             }
            ],
            "corresponding": "",
            "current_organization_id": "grid.412561.5",
            "first_name": "Na",
            "initials": "",
            "last_name": "Han",
            "orcid": "['0000-0002-2472-8245']",
            "researcher_id": "ur.0744041276.14"
           },
           {
            "affiliations": [
             {
              "city": "Beijing",
              "city_id": 1816670,
              "country": "China",
              "country_code": "CN",
              "id": "grid.411634.5",
              "name": "Peking University People's Hospital",
              "state": null,
              "state_code": null
             }
            ],
            "corresponding": "",
            "current_organization_id": "grid.411634.5",
            "first_name": "Jiabao",
            "initials": "",
            "last_name": "Ju",
            "orcid": "",
            "researcher_id": "ur.014431153010.74"
           },
           {
            "affiliations": [
             {
              "city": "Beijing",
              "city_id": 1816670,
              "country": "China",
              "country_code": "CN",
              "id": "grid.411634.5",
              "name": "Peking University People's Hospital",
              "state": null,
              "state_code": null
             }
            ],
            "corresponding": "",
            "current_organization_id": "grid.411634.5",
            "first_name": "Yuhui",
            "initials": "",
            "last_name": "Kou",
            "orcid": "['0000-0003-1523-825X']",
            "researcher_id": "ur.01014011037.53"
           },
           {
            "affiliations": [
             {
              "city": "Beijing",
              "city_id": 1816670,
              "country": "China",
              "country_code": "CN",
              "id": "grid.411634.5",
              "name": "Peking University People's Hospital",
              "state": null,
              "state_code": null
             }
            ],
            "corresponding": "",
            "current_organization_id": "",
            "first_name": "Lei",
            "initials": "",
            "last_name": "Chen",
            "orcid": "",
            "researcher_id": ""
           },
           {
            "affiliations": [
             {
              "city": "Beijing",
              "city_id": 1816670,
              "country": "China",
              "country_code": "CN",
              "id": "grid.411634.5",
              "name": "Peking University People's Hospital",
              "state": null,
              "state_code": null
             }
            ],
            "corresponding": "",
            "current_organization_id": "",
            "first_name": "Mengxi",
            "initials": "",
            "last_name": "Jiang",
            "orcid": "",
            "researcher_id": ""
           },
           {
            "affiliations": [
             {
              "city": "Beijing",
              "city_id": 1816670,
              "country": "China",
              "country_code": "CN",
              "id": "grid.411634.5",
              "name": "Peking University People's Hospital",
              "state": null,
              "state_code": null
             }
            ],
            "corresponding": "",
            "current_organization_id": "grid.411634.5",
            "first_name": "Feng",
            "initials": "",
            "last_name": "Pan",
            "orcid": "",
            "researcher_id": "ur.013036212010.27"
           },
           {
            "affiliations": [
             {
              "city": "Beijing",
              "city_id": 1816670,
              "country": "China",
              "country_code": "CN",
              "id": "grid.411634.5",
              "name": "Peking University People's Hospital",
              "state": null,
              "state_code": null
             }
            ],
            "corresponding": "",
            "current_organization_id": "grid.411634.5",
            "first_name": "Yali",
            "initials": "",
            "last_name": "Zheng",
            "orcid": "['0000-0002-0359-2799']",
            "researcher_id": "ur.016136323765.06"
           },
           {
            "affiliations": [
             {
              "city": "Beijing",
              "city_id": 1816670,
              "country": "China",
              "country_code": "CN",
              "id": "grid.411634.5",
              "name": "Peking University People's Hospital",
              "state": null,
              "state_code": null
             }
            ],
            "corresponding": true,
            "current_organization_id": "grid.411634.5",
            "first_name": "Zhancheng",
            "initials": "",
            "last_name": "Gao",
            "orcid": "",
            "researcher_id": "ur.01011230276.16"
           },
           {
            "affiliations": [
             {
              "city": "Beijing",
              "city_id": 1816670,
              "country": "China",
              "country_code": "CN",
              "id": "grid.411634.5",
              "name": "Peking University People's Hospital",
              "state": null,
              "state_code": null
             }
            ],
            "corresponding": true,
            "current_organization_id": "grid.411634.5",
            "first_name": "Baoguo",
            "initials": "",
            "last_name": "Jiang",
            "orcid": "['0000-0001-8436-5266']",
            "researcher_id": "ur.01367255303.85"
           }
          ]
         ],
         "id": "pub.1124864146",
         "issue": "1",
         "journal": {
          "id": "jour.1048439",
          "title": "Bone Research"
         },
         "pages": "8",
         "title": "Long-term bone and lung consequences associated with hospital-acquired severe acute respiratory syndrome: a 15-year follow-up from a prospective cohort study",
         "type": "article",
         "volume": "8",
         "year": 2020
        },
        {
         "author_affiliations": [
          [
           {
            "affiliations": [
             {
              "city": "Nairobi",
              "city_id": 184745,
              "country": "Kenya",
              "country_code": "KE",
              "id": "grid.33058.3d",
              "name": "Kenya Medical Research Institute",
              "state": null,
              "state_code": null
             }
            ],
            "corresponding": true,
            "current_organization_id": "grid.33058.3d",
            "first_name": "Everlyn",
            "initials": "",
            "last_name": "Kamau",
            "orcid": "['0000-0003-4285-2255']",
            "researcher_id": "ur.016332434023.41"
           },
           {
            "affiliations": [
             {
              "city": "Nairobi",
              "city_id": 184745,
              "country": "Kenya",
              "country_code": "KE",
              "id": "grid.33058.3d",
              "name": "Kenya Medical Research Institute",
              "state": null,
              "state_code": null
             }
            ],
            "corresponding": "",
            "current_organization_id": "grid.33058.3d",
            "first_name": "John W.",
            "initials": "",
            "last_name": "Oketch",
            "orcid": "",
            "researcher_id": "ur.012242565653.00"
           },
           {
            "affiliations": [
             {
              "city": "Nairobi",
              "city_id": 184745,
              "country": "Kenya",
              "country_code": "KE",
              "id": "grid.33058.3d",
              "name": "Kenya Medical Research Institute",
              "state": null,
              "state_code": null
             }
            ],
            "corresponding": "",
            "current_organization_id": "grid.33058.3d",
            "first_name": "Zaydah R.",
            "initials": "",
            "last_name": "de Laurent",
            "orcid": "",
            "researcher_id": "ur.012133266460.27"
           },
           {
            "affiliations": [
             {
              "city": "Rotterdam",
              "city_id": 2747891,
              "country": "Netherlands",
              "country_code": "NL",
              "id": "grid.5645.2",
              "name": "Erasmus University Medical Center",
              "state": null,
              "state_code": null
             }
            ],
            "corresponding": "",
            "current_organization_id": "grid.5645.2",
            "first_name": "My V. T.",
            "initials": "",
            "last_name": "Phan",
            "orcid": "['0000-0002-6905-8513']",
            "researcher_id": "ur.0766612704.03"
           },
           {
            "affiliations": [
             {
              "city": "Nairobi",
              "city_id": 184745,
              "country": "Kenya",
              "country_code": "KE",
              "id": "grid.33058.3d",
              "name": "Kenya Medical Research Institute",
              "state": null,
              "state_code": null
             }
            ],
            "corresponding": "",
            "current_organization_id": "grid.33058.3d",
            "first_name": "Charles N.",
            "initials": "",
            "last_name": "Agoti",
            "orcid": "",
            "researcher_id": "ur.01060374403.38"
           },
           {
            "affiliations": [
             {
              "city": "Nairobi",
              "city_id": 184745,
              "country": "Kenya",
              "country_code": "KE",
              "id": "grid.33058.3d",
              "name": "Kenya Medical Research Institute",
              "state": null,
              "state_code": null
             },
             {
              "city": "Coventry",
              "city_id": 2652221,
              "country": "United Kingdom",
              "country_code": "GB",
              "id": "grid.7372.1",
              "name": "University of Warwick",
              "state": null,
              "state_code": null
             }
            ],
            "corresponding": "",
            "current_organization_id": "grid.7372.1",
            "first_name": "D. James",
            "initials": "",
            "last_name": "Nokes",
            "orcid": "['0000-0001-5426-1984']",
            "researcher_id": "ur.01334264057.01"
           },
           {
            "affiliations": [
             {
              "name": "MRC/UVRI & LSHTM Uganda Research Unit, Entebbe, Uganda"
             },
             {
              "city": "Glasgow",
              "city_id": 2648579,
              "country": "United Kingdom",
              "country_code": "GB",
              "id": "grid.301713.7",
              "name": "MRC-University of Glasgow Centre For Virus Research",
              "state": null,
              "state_code": null
             }
            ],
            "corresponding": "",
            "current_organization_id": "grid.5645.2",
            "first_name": "Matthew",
            "initials": "",
            "last_name": "Cotten",
            "orcid": "['0000-0002-3361-3351']",
            "researcher_id": "ur.010604523677.19"
           }
          ]
         ],
         "id": "pub.1123791400",
         "issue": "1",
         "journal": {
          "id": "jour.1023790",
          "title": "BMC Genomics"
         },
         "pages": "5",
         "title": "Whole genome sequencing and phylogenetic analysis of human metapneumovirus strains from Kenya and Zambia",
         "type": "article",
         "volume": "21",
         "year": 2020
        },
        {
         "author_affiliations": [
          [
           {
            "affiliations": [
             {
              "city": "Shanghai",
              "city_id": 1796236,
              "country": "China",
              "country_code": "CN",
              "id": "grid.73113.37",
              "name": "Second Military Medical University",
              "state": null,
              "state_code": null
             },
             {
              "city": "Shanghai",
              "city_id": 1796236,
              "country": "China",
              "country_code": "CN",
              "id": "grid.73113.37",
              "name": "Second Military Medical University",
              "state": null,
              "state_code": null
             }
            ],
            "corresponding": "",
            "current_organization_id": "grid.73113.37",
            "first_name": "Changhai",
            "initials": "",
            "last_name": "Lei",
            "orcid": "",
            "researcher_id": "ur.01360436426.57"
           },
           {
            "affiliations": [
             {
              "city": "Shanghai",
              "city_id": 1796236,
              "country": "China",
              "country_code": "CN",
              "id": "grid.73113.37",
              "name": "Second Military Medical University",
              "state": null,
              "state_code": null
             },
             {
              "city": "Shanghai",
              "city_id": 1796236,
              "country": "China",
              "country_code": "CN",
              "id": "grid.73113.37",
              "name": "Second Military Medical University",
              "state": null,
              "state_code": null
             }
            ],
            "corresponding": "",
            "current_organization_id": "grid.73113.37",
            "first_name": "Kewen",
            "initials": "",
            "last_name": "Qian",
            "orcid": "",
            "researcher_id": "ur.012033527701.03"
           },
           {
            "affiliations": [
             {
              "city": "Shanghai",
              "city_id": 1796236,
              "country": "China",
              "country_code": "CN",
              "id": "grid.73113.37",
              "name": "Second Military Medical University",
              "state": null,
              "state_code": null
             },
             {
              "city": "Shanghai",
              "city_id": 1796236,
              "country": "China",
              "country_code": "CN",
              "id": "grid.73113.37",
              "name": "Second Military Medical University",
              "state": null,
              "state_code": null
             }
            ],
            "corresponding": "",
            "current_organization_id": "grid.73113.37",
            "first_name": "Tian",
            "initials": "",
            "last_name": "Li",
            "orcid": "",
            "researcher_id": "ur.07402177345.01"
           },
           {
            "affiliations": [
             {
              "city": "Shanghai",
              "city_id": 1796236,
              "country": "China",
              "country_code": "CN",
              "id": "grid.16821.3c",
              "name": "Shanghai Jiao Tong University",
              "state": null,
              "state_code": null
             }
            ],
            "corresponding": "",
            "current_organization_id": "grid.16821.3c",
            "first_name": "Sheng",
            "initials": "",
            "last_name": "Zhang",
            "orcid": "",
            "researcher_id": "ur.011121265411.95"
           },
           {
            "affiliations": [
             {
              "city": "Shanghai",
              "city_id": 1796236,
              "country": "China",
              "country_code": "CN",
              "id": "grid.16821.3c",
              "name": "Shanghai Jiao Tong University",
              "state": null,
              "state_code": null
             }
            ],
            "corresponding": "",
            "current_organization_id": "grid.24516.34",
            "first_name": "Wenyan",
            "initials": "",
            "last_name": "Fu",
            "orcid": "",
            "researcher_id": "ur.0663024630.61"
           },
           {
            "affiliations": [
             {
              "name": "Pharchoice Therapeutics, Inc, 201406, Shanghai, China"
             }
            ],
            "corresponding": "",
            "current_organization_id": "",
            "first_name": "Min",
            "initials": "",
            "last_name": "Ding",
            "orcid": "",
            "researcher_id": "ur.010201450050.87"
           },
           {
            "affiliations": [
             {
              "city": "Shanghai",
              "city_id": 1796236,
              "country": "China",
              "country_code": "CN",
              "id": "grid.73113.37",
              "name": "Second Military Medical University",
              "state": null,
              "state_code": null
             },
             {
              "city": "Shanghai",
              "city_id": 1796236,
              "country": "China",
              "country_code": "CN",
              "id": "grid.73113.37",
              "name": "Second Military Medical University",
              "state": null,
              "state_code": null
             }
            ],
            "corresponding": true,
            "current_organization_id": "grid.73113.37",
            "first_name": "Shi",
            "initials": "",
            "last_name": "Hu",
            "orcid": "['0000-0002-7905-4284']",
            "researcher_id": "ur.01076472536.48"
           }
          ]
         ],
         "id": "pub.1126917816",
         "issue": "1",
         "journal": {
          "id": "jour.1043282",
          "title": "Nature Communications"
         },
         "pages": "2070",
         "title": "Neutralization of SARS-CoV-2 spike pseudotyped virus by recombinant ACE2-Ig",
         "type": "article",
         "volume": "11",
         "year": 2020
        },
        {
         "author_affiliations": [
          [
           {
            "affiliations": [
             {
              "city": "Tehran",
              "city_id": 112931,
              "country": "Iran",
              "country_code": "IR",
              "id": "grid.419420.a",
              "name": "National Institute of Genetic Engineering and Biotechnology",
              "state": null,
              "state_code": null
             }
            ],
            "corresponding": true,
            "current_organization_id": "grid.419420.a",
            "first_name": "Reza",
            "initials": "",
            "last_name": "Zolfaghari Emameh",
            "orcid": "['0000-0002-3253-7844']",
            "researcher_id": "ur.01216342512.18"
           },
           {
            "affiliations": [
             {
              "city": "Tehran",
              "city_id": 112931,
              "country": "Iran",
              "country_code": "IR",
              "id": "grid.412266.5",
              "name": "Tarbiat Modares University",
              "state": null,
              "state_code": null
             }
            ],
            "corresponding": "",
            "current_organization_id": "grid.412266.5",
            "first_name": "Hassan",
            "initials": "",
            "last_name": "Nosrati",
            "orcid": "['0000-0003-1509-9819']",
            "researcher_id": "ur.012443060350.10"
           },
           {
            "affiliations": [
             {
              "city": "Tehran",
              "city_id": 112931,
              "country": "Iran",
              "country_code": "IR",
              "id": "grid.411521.2",
              "name": "Baqiyatallah University of Medical Sciences",
              "state": null,
              "state_code": null
             }
            ],
            "corresponding": "",
            "current_organization_id": "grid.411521.2",
            "first_name": "Ramezan Ali",
            "initials": "",
            "last_name": "Taheri",
            "orcid": "['0000-0003-1394-6412']",
            "researcher_id": "ur.01040274746.91"
           }
          ]
         ],
         "id": "pub.1126818177",
         "issue": "1",
         "journal": {
          "id": "jour.1023701",
          "title": "Biological Procedures Online"
         },
         "pages": "8",
         "title": "Combination of Biodata Mining and Computational Modelling in Identification and Characterization of ORF1ab Polyprotein of SARS-CoV-2 Isolated from Oronasopharynx of an Iranian Patient",
         "type": "article",
         "volume": "22",
         "year": 2020
        },
        {
         "author_affiliations": [
          [
           {
            "affiliations": [
             {
              "city": "Tehran",
              "city_id": 112931,
              "country": "Iran",
              "country_code": "IR",
              "id": "grid.411600.2",
              "name": "Shahid Beheshti University of Medical Sciences",
              "state": null,
              "state_code": null
             },
             {
              "city": "Tehran",
              "city_id": 112931,
              "country": "Iran",
              "country_code": "IR",
              "id": "grid.411600.2",
              "name": "Shahid Beheshti University of Medical Sciences",
              "state": null,
              "state_code": null
             }
            ],
            "corresponding": "",
            "current_organization_id": "",
            "first_name": "Hamid Reza",
            "initials": "",
            "last_name": "Fallahi",
            "orcid": "",
            "researcher_id": ""
           },
           {
            "affiliations": [
             {
              "name": "CMFRC, National Advance Center for Craniomaxillofacial Reconstruction, Tehran, Iran"
             },
             {
              "city": "Tehran",
              "city_id": 112931,
              "country": "Iran",
              "country_code": "IR",
              "id": "grid.411705.6",
              "name": "Tehran University of Medical Sciences",
              "state": null,
              "state_code": null
             },
             {
              "name": "Bahar building, Shahid Nuranian Alley, Saadat Abad, Isfahan, Iran"
             }
            ],
            "corresponding": true,
            "current_organization_id": "grid.411705.6",
            "first_name": "Seied Omid",
            "initials": "",
            "last_name": "Keyhan",
            "orcid": "['0000-0002-5269-9859']",
            "researcher_id": "ur.01152575131.01"
           },
           {
            "affiliations": [
             {
              "city": "Tehran",
              "city_id": 112931,
              "country": "Iran",
              "country_code": "IR",
              "id": "grid.411600.2",
              "name": "Shahid Beheshti University of Medical Sciences",
              "state": null,
              "state_code": null
             },
             {
              "city": "Tehran",
              "city_id": 112931,
              "country": "Iran",
              "country_code": "IR",
              "id": "grid.411600.2",
              "name": "Shahid Beheshti University of Medical Sciences",
              "state": null,
              "state_code": null
             }
            ],
            "corresponding": "",
            "current_organization_id": "grid.411600.2",
            "first_name": "Dana",
            "initials": "",
            "last_name": "Zandian",
            "orcid": "",
            "researcher_id": "ur.01260462215.06"
           },
           {
            "affiliations": [
             {
              "city": "Gangneung",
              "city_id": 1843137,
              "country": "South Korea",
              "country_code": "KR",
              "id": "grid.411733.3",
              "name": "Gangneung–Wonju National University",
              "state": null,
              "state_code": null
             },
             {
              "city": "Gangneung",
              "city_id": 1843137,
              "country": "South Korea",
              "country_code": "KR",
              "id": "grid.411733.3",
              "name": "Gangneung–Wonju National University",
              "state": null,
              "state_code": null
             }
            ],
            "corresponding": true,
            "current_organization_id": "grid.411733.3",
            "first_name": "Seong-Gon",
            "initials": "",
            "last_name": "Kim",
            "orcid": "['0000-0001-5088-2732']",
            "researcher_id": "ur.01250342566.12"
           },
           {
            "affiliations": [
             {
              "city": "Tehran",
              "city_id": 112931,
              "country": "Iran",
              "country_code": "IR",
              "id": "grid.411463.5",
              "name": "Islamic Azad University, Tehran",
              "state": null,
              "state_code": null
             }
            ],
            "corresponding": "",
            "current_organization_id": "grid.464594.e",
            "first_name": "Behzad",
            "initials": "",
            "last_name": "Cheshmi",
            "orcid": "['0000-0001-5805-451X']",
            "researcher_id": "ur.012556647527.59"
           }
          ]
         ],
         "id": "pub.1126911233",
         "issue": "1",
         "journal": {
          "id": "jour.1297158",
          "title": "Maxillofacial Plastic and Reconstructive Surgery"
         },
         "pages": "12",
         "title": "Being a front-line dentist during the Covid-19 pandemic: a literature review",
         "type": "article",
         "volume": "42",
         "year": 2020
        },
        {
         "author_affiliations": [
          [
           {
            "affiliations": [
             {
              "city": "Wuhan",
              "city_id": 1791247,
              "country": "China",
              "country_code": "CN",
              "id": "grid.35155.37",
              "name": "Huazhong Agricultural University",
              "state": null,
              "state_code": null
             },
             {
              "name": "Key Laboratory of Preventive Veterinary Medicine in Hubei Province, Cooperative Innovation Center for Sustainable Pig Production, 430070, Wuhan, China"
             }
            ],
            "corresponding": "",
            "current_organization_id": "grid.35155.37",
            "first_name": "Jing",
            "initials": "",
            "last_name": "Huang",
            "orcid": "['0000-0002-3455-5966']",
            "researcher_id": "ur.016605750677.10"
           },
           {
            "affiliations": [
             {
              "city": "Wuhan",
              "city_id": 1791247,
              "country": "China",
              "country_code": "CN",
              "id": "grid.35155.37",
              "name": "Huazhong Agricultural University",
              "state": null,
              "state_code": null
             },
             {
              "name": "Key Laboratory of Preventive Veterinary Medicine in Hubei Province, Cooperative Innovation Center for Sustainable Pig Production, 430070, Wuhan, China"
             }
            ],
            "corresponding": "",
            "current_organization_id": "grid.35155.37",
            "first_name": "Yanhua",
            "initials": "",
            "last_name": "Qi",
            "orcid": "",
            "researcher_id": "ur.016644137347.48"
           },
           {
            "affiliations": [
             {
              "city": "Wuhan",
              "city_id": 1791247,
              "country": "China",
              "country_code": "CN",
              "id": "grid.35155.37",
              "name": "Huazhong Agricultural University",
              "state": null,
              "state_code": null
             },
             {
              "name": "Key Laboratory of Preventive Veterinary Medicine in Hubei Province, Cooperative Innovation Center for Sustainable Pig Production, 430070, Wuhan, China"
             }
            ],
            "corresponding": "",
            "current_organization_id": "",
            "first_name": "Antian",
            "initials": "",
            "last_name": "Wang",
            "orcid": "",
            "researcher_id": ""
           },
           {
            "affiliations": [
             {
              "city": "Wuhan",
              "city_id": 1791247,
              "country": "China",
              "country_code": "CN",
              "id": "grid.35155.37",
              "name": "Huazhong Agricultural University",
              "state": null,
              "state_code": null
             },
             {
              "name": "Key Laboratory of Preventive Veterinary Medicine in Hubei Province, Cooperative Innovation Center for Sustainable Pig Production, 430070, Wuhan, China"
             }
            ],
            "corresponding": "",
            "current_organization_id": "grid.35155.37",
            "first_name": "Chao",
            "initials": "",
            "last_name": "Huang",
            "orcid": "",
            "researcher_id": "ur.012331600747.47"
           },
           {
            "affiliations": [
             {
              "city": "Wuhan",
              "city_id": 1791247,
              "country": "China",
              "country_code": "CN",
              "id": "grid.35155.37",
              "name": "Huazhong Agricultural University",
              "state": null,
              "state_code": null
             },
             {
              "name": "Key Laboratory of Preventive Veterinary Medicine in Hubei Province, Cooperative Innovation Center for Sustainable Pig Production, 430070, Wuhan, China"
             }
            ],
            "corresponding": "",
            "current_organization_id": "",
            "first_name": "Xiao",
            "initials": "",
            "last_name": "Liu",
            "orcid": "",
            "researcher_id": ""
           },
           {
            "affiliations": [
             {
              "city": "Wuhan",
              "city_id": 1791247,
              "country": "China",
              "country_code": "CN",
              "id": "grid.35155.37",
              "name": "Huazhong Agricultural University",
              "state": null,
              "state_code": null
             },
             {
              "city": "Chongqing",
              "city_id": 1814906,
              "country": "China",
              "country_code": "CN",
              "id": "grid.410597.e",
              "name": "Chongqing Academy of Animal Science",
              "state": null,
              "state_code": null
             }
            ],
            "corresponding": "",
            "current_organization_id": "",
            "first_name": "Xi",
            "initials": "",
            "last_name": "Yang",
            "orcid": "",
            "researcher_id": ""
           },
           {
            "affiliations": [
             {
              "city": "Wuhan",
              "city_id": 1791247,
              "country": "China",
              "country_code": "CN",
              "id": "grid.35155.37",
              "name": "Huazhong Agricultural University",
              "state": null,
              "state_code": null
             },
             {
              "name": "Key Laboratory of Preventive Veterinary Medicine in Hubei Province, Cooperative Innovation Center for Sustainable Pig Production, 430070, Wuhan, China"
             },
             {
              "name": "Key Laboratory of Development of Veterinary Diagnostic Products, Ministry of Agriculture and Rural Affairs of the People’s Republic of China, 430070, Wuhan, China"
             },
             {
              "city": "Beijing",
              "city_id": 1816670,
              "country": "China",
              "country_code": "CN",
              "id": "grid.424020.0",
              "name": "Ministry of Science and Technology of the People's Republic of China",
              "state": null,
              "state_code": null
             }
            ],
            "corresponding": true,
            "current_organization_id": "grid.35155.37",
            "first_name": "Lu",
            "initials": "",
            "last_name": "Li",
            "orcid": "['0000-0002-9190-5475']",
            "researcher_id": "ur.0666071666.01"
           },
           {
            "affiliations": [
             {
              "city": "Wuhan",
              "city_id": 1791247,
              "country": "China",
              "country_code": "CN",
              "id": "grid.35155.37",
              "name": "Huazhong Agricultural University",
              "state": null,
              "state_code": null
             },
             {
              "name": "Key Laboratory of Preventive Veterinary Medicine in Hubei Province, Cooperative Innovation Center for Sustainable Pig Production, 430070, Wuhan, China"
             },
             {
              "name": "Key Laboratory of Development of Veterinary Diagnostic Products, Ministry of Agriculture and Rural Affairs of the People’s Republic of China, 430070, Wuhan, China"
             },
             {
              "city": "Beijing",
              "city_id": 1816670,
              "country": "China",
              "country_code": "CN",
              "id": "grid.424020.0",
              "name": "Ministry of Science and Technology of the People's Republic of China",
              "state": null,
              "state_code": null
             }
            ],
            "corresponding": true,
            "current_organization_id": "grid.35155.37",
            "first_name": "Rui",
            "initials": "",
            "last_name": "Zhou",
            "orcid": "",
            "researcher_id": "ur.01036662022.45"
           }
          ]
         ],
         "id": "pub.1124552774",
         "issue": "1",
         "journal": {
          "id": "jour.1034449",
          "title": "Virology Journal"
         },
         "pages": "18",
         "title": "Porcine β-defensin 2 inhibits proliferation of pseudorabies virus in vitro and in transgenic mice",
         "type": "article",
         "volume": "17",
         "year": 2020
        },
        {
         "author_affiliations": [
          [
           {
            "affiliations": [
             {
              "city": "Essen",
              "city_id": 2928810,
              "country": "Germany",
              "country_code": "DE",
              "id": "grid.5718.b",
              "name": "University of Duisburg-Essen",
              "state": null,
              "state_code": null
             }
            ],
            "corresponding": "",
            "current_organization_id": "",
            "first_name": "Judith",
            "initials": "",
            "last_name": "Lang",
            "orcid": "",
            "researcher_id": ""
           },
           {
            "affiliations": [
             {
              "city": "Essen",
              "city_id": 2928810,
              "country": "Germany",
              "country_code": "DE",
              "id": "grid.5718.b",
              "name": "University of Duisburg-Essen",
              "state": null,
              "state_code": null
             }
            ],
            "corresponding": "",
            "current_organization_id": "",
            "first_name": "Patrick",
            "initials": "",
            "last_name": "Bohn",
            "orcid": "",
            "researcher_id": ""
           },
           {
            "affiliations": [
             {
              "city": "Essen",
              "city_id": 2928810,
              "country": "Germany",
              "country_code": "DE",
              "id": "grid.5718.b",
              "name": "University of Duisburg-Essen",
              "state": null,
              "state_code": null
             }
            ],
            "corresponding": "",
            "current_organization_id": "grid.5718.b",
            "first_name": "Hilal",
            "initials": "",
            "last_name": "Bhat",
            "orcid": "",
            "researcher_id": "ur.016277416234.55"
           },
           {
            "affiliations": [
             {
              "city": "Essen",
              "city_id": 2928810,
              "country": "Germany",
              "country_code": "DE",
              "id": "grid.5718.b",
              "name": "University of Duisburg-Essen",
              "state": null,
              "state_code": null
             },
             {
              "city": "Essen",
              "city_id": 2928810,
              "country": "Germany",
              "country_code": "DE",
              "id": "grid.5718.b",
              "name": "University of Duisburg-Essen",
              "state": null,
              "state_code": null
             }
            ],
            "corresponding": "",
            "current_organization_id": "grid.410718.b",
            "first_name": "Holger",
            "initials": "",
            "last_name": "Jastrow",
            "orcid": "",
            "researcher_id": "ur.01151537376.63"
           },
           {
            "affiliations": [
             {
              "city": "Essen",
              "city_id": 2928810,
              "country": "Germany",
              "country_code": "DE",
              "id": "grid.5718.b",
              "name": "University of Duisburg-Essen",
              "state": null,
              "state_code": null
             }
            ],
            "corresponding": "",
            "current_organization_id": "grid.5718.b",
            "first_name": "Bernd",
            "initials": "",
            "last_name": "Walkenfort",
            "orcid": "",
            "researcher_id": "ur.0763224324.64"
           },
           {
            "affiliations": [
             {
              "city": "Essen",
              "city_id": 2928810,
              "country": "Germany",
              "country_code": "DE",
              "id": "grid.5718.b",
              "name": "University of Duisburg-Essen",
              "state": null,
              "state_code": null
             }
            ],
            "corresponding": "",
            "current_organization_id": "",
            "first_name": "Feyza",
            "initials": "",
            "last_name": "Cansiz",
            "orcid": "",
            "researcher_id": ""
           },
           {
            "affiliations": [
             {
              "city": "Wurzburg",
              "city_id": 2805615,
              "country": "Germany",
              "country_code": "DE",
              "id": "grid.8379.5",
              "name": "University of Würzburg",
              "state": null,
              "state_code": null
             }
            ],
            "corresponding": "",
            "current_organization_id": "",
            "first_name": "Julian",
            "initials": "",
            "last_name": "Fink",
            "orcid": "",
            "researcher_id": ""
           },
           {
            "affiliations": [
             {
              "city": "Zurich",
              "city_id": 2657896,
              "country": "Switzerland",
              "country_code": "CH",
              "id": "grid.7400.3",
              "name": "University of Zurich",
              "state": null,
              "state_code": null
             }
            ],
            "corresponding": "",
            "current_organization_id": "grid.7400.3",
            "first_name": "Michael",
            "initials": "",
            "last_name": "Bauer",
            "orcid": "['0000-0002-8156-4603']",
            "researcher_id": "ur.016177116175.11"
           },
           {
            "affiliations": [
             {
              "city": "Zurich",
              "city_id": 2657896,
              "country": "Switzerland",
              "country_code": "CH",
              "id": "grid.7400.3",
              "name": "University of Zurich",
              "state": null,
              "state_code": null
             }
            ],
            "corresponding": "",
            "current_organization_id": "",
            "first_name": "Dominik",
            "initials": "",
            "last_name": "Olszewski",
            "orcid": "",
            "researcher_id": ""
           },
           {
            "affiliations": [
             {
              "city": "Hanover",
              "city_id": 2910831,
              "country": "Germany",
              "country_code": "DE",
              "id": "grid.10423.34",
              "name": "Hannover Medical School",
              "state": null,
              "state_code": null
             }
            ],
            "corresponding": "",
            "current_organization_id": "grid.10423.34",
            "first_name": "Ana",
            "initials": "",
            "last_name": "Ramos-Nascimento",
            "orcid": "",
            "researcher_id": "ur.011322562573.85"
           },
           {
            "affiliations": [
             {
              "city": "Essen",
              "city_id": 2928810,
              "country": "Germany",
              "country_code": "DE",
              "id": "grid.5718.b",
              "name": "University of Duisburg-Essen",
              "state": null,
              "state_code": null
             }
            ],
            "corresponding": "",
            "current_organization_id": "grid.5718.b",
            "first_name": "Vikas",
            "initials": "",
            "last_name": "Duhan",
            "orcid": "['0000-0002-6337-8225']",
            "researcher_id": "ur.01212213322.45"
           },
           {
            "affiliations": [
             {
              "city": "Essen",
              "city_id": 2928810,
              "country": "Germany",
              "country_code": "DE",
              "id": "grid.5718.b",
              "name": "University of Duisburg-Essen",
              "state": null,
              "state_code": null
             }
            ],
            "corresponding": "",
            "current_organization_id": "grid.5718.b",
            "first_name": "Sarah-Kim",
            "initials": "",
            "last_name": "Friedrich",
            "orcid": "",
            "researcher_id": "ur.01171355255.94"
           },
           {
            "affiliations": [
             {
              "city": "Essen",
              "city_id": 2928810,
              "country": "Germany",
              "country_code": "DE",
              "id": "grid.5718.b",
              "name": "University of Duisburg-Essen",
              "state": null,
              "state_code": null
             }
            ],
            "corresponding": "",
            "current_organization_id": "grid.5718.b",
            "first_name": "Katrin Anne",
            "initials": "",
            "last_name": "Becker",
            "orcid": "",
            "researcher_id": "ur.01007254422.43"
           },
           {
            "affiliations": [
             {
              "city": "Essen",
              "city_id": 2928810,
              "country": "Germany",
              "country_code": "DE",
              "id": "grid.5718.b",
              "name": "University of Duisburg-Essen",
              "state": null,
              "state_code": null
             },
             {
              "name": "Department of Infectious Diseases, University Hospital of Essen, University of Duisburg-Essen, Hufelandstr. 55, D-45147, Essen, Germany"
             }
            ],
            "corresponding": "",
            "current_organization_id": "",
            "first_name": "Adalbert",
            "initials": "",
            "last_name": "Krawczyk",
            "orcid": "",
            "researcher_id": ""
           },
           {
            "affiliations": [
             {
              "city": "Cincinnati",
              "city_id": 4508722,
              "country": "United States",
              "country_code": "US",
              "id": "grid.413561.4",
              "name": "University of Cincinnati Medical Center",
              "state": "Ohio",
              "state_code": "US-OH"
             }
            ],
            "corresponding": "",
            "current_organization_id": "",
            "first_name": "Michael J.",
            "initials": "",
            "last_name": "Edwards",
            "orcid": "",
            "researcher_id": ""
           },
           {
            "affiliations": [
             {
              "city": "Giessen",
              "city_id": 2920512,
              "country": "Germany",
              "country_code": "DE",
              "id": "grid.411067.5",
              "name": "Universitätsklinikum Gießen und Marburg",
              "state": null,
              "state_code": null
             }
            ],
            "corresponding": "",
            "current_organization_id": "grid.10253.35",
            "first_name": "Andreas",
            "initials": "",
            "last_name": "Burchert",
            "orcid": "",
            "researcher_id": "ur.0704721072.57"
           },
           {
            "affiliations": [
             {
              "city": "Marburg",
              "city_id": 2873759,
              "country": "Germany",
              "country_code": "DE",
              "id": "grid.10253.35",
              "name": "Philipp University of Marburg",
              "state": null,
              "state_code": null
             }
            ],
            "corresponding": "",
            "current_organization_id": "",
            "first_name": "Magdalena",
            "initials": "",
            "last_name": "Huber",
            "orcid": "",
            "researcher_id": ""
           },
           {
            "affiliations": [
             {
              "city": "Essen",
              "city_id": 2928810,
              "country": "Germany",
              "country_code": "DE",
              "id": "grid.5718.b",
              "name": "University of Duisburg-Essen",
              "state": null,
              "state_code": null
             }
            ],
            "corresponding": "",
            "current_organization_id": "grid.5718.b",
            "first_name": "Justa",
            "initials": "",
            "last_name": "Friebus-Kardash",
            "orcid": "",
            "researcher_id": "ur.016564631673.77"
           },
           {
            "affiliations": [
             {
              "name": "Department of Hematology, West German Cancer Center, University Hospital of Essen, University of Duisburg-Essen, Hufelandstr. 55, D-45147, Essen, Germany"
             }
            ],
            "corresponding": "",
            "current_organization_id": "grid.410718.b",
            "first_name": "Joachim R.",
            "initials": "",
            "last_name": "Göthert",
            "orcid": "['0000-0001-8957-6732']",
            "researcher_id": "ur.01074774160.46"
           },
           {
            "affiliations": [
             {
              "city": "Essen",
              "city_id": 2928810,
              "country": "Germany",
              "country_code": "DE",
              "id": "grid.5718.b",
              "name": "University of Duisburg-Essen",
              "state": null,
              "state_code": null
             }
            ],
            "corresponding": "",
            "current_organization_id": "grid.5718.b",
            "first_name": "Cornelia",
            "initials": "",
            "last_name": "Hardt",
            "orcid": "",
            "researcher_id": "ur.01011341562.04"
           },
           {
            "affiliations": [
             {
              "city": "Mainz",
              "city_id": 2874225,
              "country": "Germany",
              "country_code": "DE",
              "id": "grid.410607.4",
              "name": "University Medical Center of the Johannes Gutenberg University Mainz",
              "state": null,
              "state_code": null
             }
            ],
            "corresponding": "",
            "current_organization_id": "grid.410607.4",
            "first_name": "Hans Christian",
            "initials": "",
            "last_name": "Probst",
            "orcid": "['0000-0002-7926-0651']",
            "researcher_id": "ur.01235634743.36"
           },
           {
            "affiliations": [
             {
              "city": "Essen",
              "city_id": 2928810,
              "country": "Germany",
              "country_code": "DE",
              "id": "grid.5718.b",
              "name": "University of Duisburg-Essen",
              "state": null,
              "state_code": null
             },
             {
              "city": "Potsdam",
              "city_id": 2852458,
              "country": "Germany",
              "country_code": "DE",
              "id": "grid.11348.3f",
              "name": "University of Potsdam",
              "state": null,
              "state_code": null
             }
            ],
            "corresponding": "",
            "current_organization_id": "grid.11348.3f",
            "first_name": "Fabian",
            "initials": "",
            "last_name": "Schumacher",
            "orcid": "['0000-0001-8703-3275']",
            "researcher_id": "ur.01043373655.57"
           },
           {
            "affiliations": [
             {
              "city": "Düsseldorf",
              "city_id": 2934246,
              "country": "Germany",
              "country_code": "DE",
              "id": "grid.411327.2",
              "name": "Heinrich Heine University Düsseldorf",
              "state": null,
              "state_code": null
             }
            ],
            "corresponding": "",
            "current_organization_id": "grid.411327.2",
            "first_name": "Karl",
            "initials": "",
            "last_name": "Köhrer",
            "orcid": "['0000-0003-3644-2022']",
            "researcher_id": "ur.01346565346.08"
           },
           {
            "affiliations": [
             {
              "city": "Potsdam",
              "city_id": 2852458,
              "country": "Germany",
              "country_code": "DE",
              "id": "grid.11348.3f",
              "name": "University of Potsdam",
              "state": null,
              "state_code": null
             }
            ],
            "corresponding": "",
            "current_organization_id": "grid.11348.3f",
            "first_name": "Burkhard",
            "initials": "",
            "last_name": "Kleuser",
            "orcid": "['0000-0002-1888-9595']",
            "researcher_id": "ur.01126315770.48"
           },
           {
            "affiliations": [
             {
              "city": "Bern",
              "city_id": 2661552,
              "country": "Switzerland",
              "country_code": "CH",
              "id": "grid.5734.5",
              "name": "University of Bern",
              "state": null,
              "state_code": null
             }
            ],
            "corresponding": "",
            "current_organization_id": "grid.5734.5",
            "first_name": "Eduard B.",
            "initials": "",
            "last_name": "Babiychuk",
            "orcid": "",
            "researcher_id": "ur.01267543674.78"
           },
           {
            "affiliations": [
             {
              "city": "Hanover",
              "city_id": 2910831,
              "country": "Germany",
              "country_code": "DE",
              "id": "grid.10423.34",
              "name": "Hannover Medical School",
              "state": null,
              "state_code": null
             },
             {
              "city": "Hanover",
              "city_id": 2910831,
              "country": "Germany",
              "country_code": "DE",
              "id": "grid.10423.34",
              "name": "Hannover Medical School",
              "state": null,
              "state_code": null
             }
            ],
            "corresponding": "",
            "current_organization_id": "grid.10423.34",
            "first_name": "Beate",
            "initials": "",
            "last_name": "Sodeik",
            "orcid": "['0000-0003-4650-3036']",
            "researcher_id": "ur.0725320240.15"
           },
           {
            "affiliations": [
             {
              "city": "Wurzburg",
              "city_id": 2805615,
              "country": "Germany",
              "country_code": "DE",
              "id": "grid.8379.5",
              "name": "University of Würzburg",
              "state": null,
              "state_code": null
             }
            ],
            "corresponding": "",
            "current_organization_id": "",
            "first_name": "Jürgen",
            "initials": "",
            "last_name": "Seibel",
            "orcid": "",
            "researcher_id": ""
           },
           {
            "affiliations": [
             {
              "city": "Zurich",
              "city_id": 2657896,
              "country": "Switzerland",
              "country_code": "CH",
              "id": "grid.7400.3",
              "name": "University of Zurich",
              "state": null,
              "state_code": null
             }
            ],
            "corresponding": "",
            "current_organization_id": "grid.7400.3",
            "first_name": "Urs F.",
            "initials": "",
            "last_name": "Greber",
            "orcid": "['0000-0003-2278-120X']",
            "researcher_id": "ur.01045132156.37"
           },
           {
            "affiliations": [
             {
              "city": "Düsseldorf",
              "city_id": 2934246,
              "country": "Germany",
              "country_code": "DE",
              "id": "grid.411327.2",
              "name": "Heinrich Heine University Düsseldorf",
              "state": null,
              "state_code": null
             }
            ],
            "corresponding": "",
            "current_organization_id": "grid.411327.2",
            "first_name": "Philipp A.",
            "initials": "",
            "last_name": "Lang",
            "orcid": "",
            "researcher_id": "ur.01226116300.46"
           },
           {
            "affiliations": [
             {
              "city": "Essen",
              "city_id": 2928810,
              "country": "Germany",
              "country_code": "DE",
              "id": "grid.5718.b",
              "name": "University of Duisburg-Essen",
              "state": null,
              "state_code": null
             },
             {
              "city": "Cincinnati",
              "city_id": 4508722,
              "country": "United States",
              "country_code": "US",
              "id": "grid.413561.4",
              "name": "University of Cincinnati Medical Center",
              "state": "Ohio",
              "state_code": "US-OH"
             }
            ],
            "corresponding": "",
            "current_organization_id": "grid.5718.b",
            "first_name": "Erich",
            "initials": "",
            "last_name": "Gulbins",
            "orcid": "['0000-0002-3117-1342']",
            "researcher_id": "ur.0705263470.50"
           },
           {
            "affiliations": [
             {
              "city": "Essen",
              "city_id": 2928810,
              "country": "Germany",
              "country_code": "DE",
              "id": "grid.5718.b",
              "name": "University of Duisburg-Essen",
              "state": null,
              "state_code": null
             }
            ],
            "corresponding": true,
            "current_organization_id": "grid.5718.b",
            "first_name": "Karl S.",
            "initials": "",
            "last_name": "Lang",
            "orcid": "",
            "researcher_id": "ur.01115400473.89"
           }
          ]
         ],
         "id": "pub.1125555502",
         "issue": "1",
         "journal": {
          "id": "jour.1043282",
          "title": "Nature Communications"
         },
         "pages": "1338",
         "title": "Acid ceramidase of macrophages traps herpes simplex virus in multivesicular bodies and protects from severe disease",
         "type": "article",
         "volume": "11",
         "year": 2020
        },
        {
         "author_affiliations": [
          [
           {
            "affiliations": [
             {
              "city": "Gangneung",
              "city_id": 1843137,
              "country": "South Korea",
              "country_code": "KR",
              "id": "grid.411199.5",
              "name": "Kwandong University",
              "state": null,
              "state_code": null
             }
            ],
            "corresponding": "",
            "current_organization_id": "",
            "first_name": "Chang Hoon",
            "initials": "",
            "last_name": "Yang",
            "orcid": "",
            "researcher_id": ""
           },
           {
            "affiliations": [
             {
              "city": "Busan",
              "city_id": 1838524,
              "country": "South Korea",
              "country_code": "KR",
              "id": "grid.262229.f",
              "name": "Pusan National University",
              "state": null,
              "state_code": null
             }
            ],
            "corresponding": true,
            "current_organization_id": "",
            "first_name": "Hyejin",
            "initials": "",
            "last_name": "Jung",
            "orcid": "",
            "researcher_id": ""
           }
          ]
         ],
         "id": "pub.1125496492",
         "issue": "1",
         "journal": {
          "id": "jour.1045337",
          "title": "Scientific Reports"
         },
         "pages": "4327",
         "title": "Topological dynamics of the 2015 South Korea MERS-CoV spread-on-contact networks",
         "type": "article",
         "volume": "10",
         "year": 2020
        },
        {
         "author_affiliations": [
          [
           {
            "affiliations": [
             {
              "city": "Szczecin",
              "city_id": 3083829,
              "country": "Poland",
              "country_code": "PL",
              "id": "grid.107950.a",
              "name": "Pomeranian Medical University",
              "state": null,
              "state_code": null
             }
            ],
            "corresponding": true,
            "current_organization_id": "grid.107950.a",
            "first_name": "Katarzyna",
            "initials": "",
            "last_name": "Kotfis",
            "orcid": "['0000-0001-8430-1369']",
            "researcher_id": "ur.0641005233.07"
           },
           {
            "affiliations": [
             {
              "city": "Nashville",
              "city_id": 4644585,
              "country": "United States",
              "country_code": "US",
              "id": "grid.412807.8",
              "name": "Vanderbilt University Medical Center",
              "state": "Tennessee",
              "state_code": "US-TN"
             },
             {
              "city": "Nashville",
              "city_id": 4644585,
              "country": "United States",
              "country_code": "US",
              "id": "grid.412807.8",
              "name": "Vanderbilt University Medical Center",
              "state": "Tennessee",
              "state_code": "US-TN"
             },
             {
              "city": "Nashville",
              "city_id": 4644585,
              "country": "United States",
              "country_code": "US",
              "id": "grid.152326.1",
              "name": "Vanderbilt University",
              "state": "Tennessee",
              "state_code": "US-TN"
             }
            ],
            "corresponding": "",
            "current_organization_id": "grid.412807.8",
            "first_name": "Shawniqua",
            "initials": "",
            "last_name": "Williams Roberson",
            "orcid": "",
            "researcher_id": "ur.016662453401.43"
           },
           {
            "affiliations": [
             {
              "city": "Nashville",
              "city_id": 4644585,
              "country": "United States",
              "country_code": "US",
              "id": "grid.412807.8",
              "name": "Vanderbilt University Medical Center",
              "state": "Tennessee",
              "state_code": "US-TN"
             },
             {
              "city": "Nashville",
              "city_id": 4644585,
              "country": "United States",
              "country_code": "US",
              "id": "grid.412807.8",
              "name": "Vanderbilt University Medical Center",
              "state": "Tennessee",
              "state_code": "US-TN"
             },
             {
              "name": "Geriatric Research, Education and Clinical Center (GRECC), Tennessee Valley Veterans Affairs Healthcare System, Nashville, TN, USA"
             }
            ],
            "corresponding": "",
            "current_organization_id": "grid.412807.8",
            "first_name": "Jo Ellen",
            "initials": "",
            "last_name": "Wilson",
            "orcid": "",
            "researcher_id": "ur.0775220124.17"
           },
           {
            "affiliations": [
             {
              "city": "Lublin",
              "city_id": 765876,
              "country": "Poland",
              "country_code": "PL",
              "id": "grid.411484.c",
              "name": "Medical University of Lublin",
              "state": null,
              "state_code": null
             }
            ],
            "corresponding": "",
            "current_organization_id": "grid.411484.c",
            "first_name": "Wojciech",
            "initials": "",
            "last_name": "Dabrowski",
            "orcid": "",
            "researcher_id": "ur.0740246002.11"
           },
           {
            "affiliations": [
             {
              "city": "Nashville",
              "city_id": 4644585,
              "country": "United States",
              "country_code": "US",
              "id": "grid.412807.8",
              "name": "Vanderbilt University Medical Center",
              "state": "Tennessee",
              "state_code": "US-TN"
             }
            ],
            "corresponding": "",
            "current_organization_id": "grid.412807.8",
            "first_name": "Brenda T.",
            "initials": "",
            "last_name": "Pun",
            "orcid": "",
            "researcher_id": "ur.01262247752.42"
           },
           {
            "affiliations": [
             {
              "city": "Nashville",
              "city_id": 4644585,
              "country": "United States",
              "country_code": "US",
              "id": "grid.412807.8",
              "name": "Vanderbilt University Medical Center",
              "state": "Tennessee",
              "state_code": "US-TN"
             },
             {
              "name": "Geriatric Research, Education and Clinical Center (GRECC), Tennessee Valley Veterans Affairs Healthcare System, Nashville, TN, USA"
             },
             {
              "city": "Nashville",
              "city_id": 4644585,
              "country": "United States",
              "country_code": "US",
              "id": "grid.412807.8",
              "name": "Vanderbilt University Medical Center",
              "state": "Tennessee",
              "state_code": "US-TN"
             }
            ],
            "corresponding": "",
            "current_organization_id": "grid.412807.8",
            "first_name": "E. Wesley",
            "initials": "",
            "last_name": "Ely",
            "orcid": "",
            "researcher_id": "ur.012337030037.37"
           }
          ]
         ],
         "id": "pub.1127125001",
         "issue": "1",
         "journal": {
          "id": "jour.1117766",
          "title": "Critical Care"
         },
         "pages": "176",
         "title": "COVID-19: ICU delirium management during SARS-CoV-2 pandemic",
         "type": "article",
         "volume": "24",
         "year": 2020
        }
       ]
      },
      "text/plain": [
       "<dimcli.DslDataset object #4639883024. Records: 20/99186>"
      ]
     },
     "execution_count": 70,
     "metadata": {
      "application/json": {
       "expanded": false,
       "root": "root"
      }
     },
     "output_type": "execute_result"
    }
   ],
   "source": [
    "q_inner = \"\"\" \"2019-nCoV\" OR \"COVID-19\" OR \"SARS-CoV-2\" OR \"HCoV-2019\" OR \"hcov\" OR \"NCOVID-19\" OR  \n",
    "    \"severe acute respiratory syndrome coronavirus 2\" OR \"severe acute respiratory syndrome corona virus 2\" \n",
    "    OR ((\"coronavirus\"  OR \"corona virus\") AND (Wuhan OR China OR novel)) \"\"\"\n",
    "\n",
    "# tip: dsl_escape is a dimcli utility function for escaping special characters \n",
    "q_outer = f\"\"\"search publications in full_data for \"{dsl_escape(q_inner)}\" return publications\"\"\"\n",
    "print(q_outer)\n",
    "\n",
    "dsl.query(q_outer)"
   ]
  },
  {
   "cell_type": "markdown",
   "metadata": {
    "Collapsed": "false"
   },
   "source": [
    "### 2.4 Wildcard Searches\n",
    "\n",
    "The DSL supports single and multiple character wildcard searches within\n",
    "single terms. Wildcard characters can be applied to single terms, but\n",
    "not to search phrases."
   ]
  },
  {
   "cell_type": "code",
   "execution_count": 17,
   "metadata": {
    "Collapsed": "false"
   },
   "outputs": [
    {
     "name": "stdout",
     "output_type": "stream",
     "text": [
      "Too Many Requests for the Server. Sleeping for 30 seconds and then retrying.\n",
      "Returned Publications: 5 (total = 142)\n"
     ]
    },
    {
     "data": {
      "text/html": [
       "<div>\n",
       "<style scoped>\n",
       "    .dataframe tbody tr th:only-of-type {\n",
       "        vertical-align: middle;\n",
       "    }\n",
       "\n",
       "    .dataframe tbody tr th {\n",
       "        vertical-align: top;\n",
       "    }\n",
       "\n",
       "    .dataframe thead th {\n",
       "        text-align: right;\n",
       "    }\n",
       "</style>\n",
       "<table border=\"1\" class=\"dataframe\">\n",
       "  <thead>\n",
       "    <tr style=\"text-align: right;\">\n",
       "      <th></th>\n",
       "      <th>title</th>\n",
       "      <th>author_affiliations</th>\n",
       "      <th>id</th>\n",
       "      <th>year</th>\n",
       "      <th>type</th>\n",
       "      <th>pages</th>\n",
       "      <th>journal.id</th>\n",
       "      <th>journal.title</th>\n",
       "      <th>volume</th>\n",
       "      <th>issue</th>\n",
       "    </tr>\n",
       "  </thead>\n",
       "  <tbody>\n",
       "    <tr>\n",
       "      <th>0</th>\n",
       "      <td>Seasons in Italy: Northern European travelers,...</td>\n",
       "      <td>[[{'first_name': 'Benjamin', 'last_name': 'Rei...</td>\n",
       "      <td>pub.1124231018</td>\n",
       "      <td>2020</td>\n",
       "      <td>article</td>\n",
       "      <td>1-20</td>\n",
       "      <td>jour.1141817</td>\n",
       "      <td>Journal of Tourism and Cultural Change</td>\n",
       "      <td>NaN</td>\n",
       "      <td>NaN</td>\n",
       "    </tr>\n",
       "    <tr>\n",
       "      <th>1</th>\n",
       "      <td>Updated guidelines for malaria prophylaxis in ...</td>\n",
       "      <td>[[{'first_name': 'Guido', 'last_name': 'Caller...</td>\n",
       "      <td>pub.1123222257</td>\n",
       "      <td>2020</td>\n",
       "      <td>article</td>\n",
       "      <td>101544</td>\n",
       "      <td>jour.1034401</td>\n",
       "      <td>Travel Medicine and Infectious Disease</td>\n",
       "      <td>33</td>\n",
       "      <td>NaN</td>\n",
       "    </tr>\n",
       "    <tr>\n",
       "      <th>2</th>\n",
       "      <td>Clinical management of imported malaria in Ita...</td>\n",
       "      <td>[[{'first_name': 'Luciana', 'last_name': 'Lepo...</td>\n",
       "      <td>pub.1125332077</td>\n",
       "      <td>2020</td>\n",
       "      <td>article</td>\n",
       "      <td>28-33</td>\n",
       "      <td>jour.1089291</td>\n",
       "      <td>Microbiologica</td>\n",
       "      <td>43</td>\n",
       "      <td>1</td>\n",
       "    </tr>\n",
       "    <tr>\n",
       "      <th>3</th>\n",
       "      <td>Investigation on potential malaria vectors (An...</td>\n",
       "      <td>[[{'first_name': 'Valentina', 'last_name': 'Ta...</td>\n",
       "      <td>pub.1113815431</td>\n",
       "      <td>2019</td>\n",
       "      <td>article</td>\n",
       "      <td>151</td>\n",
       "      <td>jour.1030597</td>\n",
       "      <td>Malaria Journal</td>\n",
       "      <td>18</td>\n",
       "      <td>1</td>\n",
       "    </tr>\n",
       "    <tr>\n",
       "      <th>4</th>\n",
       "      <td>Increasing imported malaria in children and ad...</td>\n",
       "      <td>[[{'first_name': 'Fiorenza', 'last_name': 'Pan...</td>\n",
       "      <td>pub.1113201846</td>\n",
       "      <td>2019</td>\n",
       "      <td>article</td>\n",
       "      <td>34-39</td>\n",
       "      <td>jour.1034401</td>\n",
       "      <td>Travel Medicine and Infectious Disease</td>\n",
       "      <td>29</td>\n",
       "      <td>NaN</td>\n",
       "    </tr>\n",
       "  </tbody>\n",
       "</table>\n",
       "</div>"
      ],
      "text/plain": [
       "                                               title  \\\n",
       "0  Seasons in Italy: Northern European travelers,...   \n",
       "1  Updated guidelines for malaria prophylaxis in ...   \n",
       "2  Clinical management of imported malaria in Ita...   \n",
       "3  Investigation on potential malaria vectors (An...   \n",
       "4  Increasing imported malaria in children and ad...   \n",
       "\n",
       "                                 author_affiliations              id  year  \\\n",
       "0  [[{'first_name': 'Benjamin', 'last_name': 'Rei...  pub.1124231018  2020   \n",
       "1  [[{'first_name': 'Guido', 'last_name': 'Caller...  pub.1123222257  2020   \n",
       "2  [[{'first_name': 'Luciana', 'last_name': 'Lepo...  pub.1125332077  2020   \n",
       "3  [[{'first_name': 'Valentina', 'last_name': 'Ta...  pub.1113815431  2019   \n",
       "4  [[{'first_name': 'Fiorenza', 'last_name': 'Pan...  pub.1113201846  2019   \n",
       "\n",
       "      type   pages    journal.id                           journal.title  \\\n",
       "0  article    1-20  jour.1141817  Journal of Tourism and Cultural Change   \n",
       "1  article  101544  jour.1034401  Travel Medicine and Infectious Disease   \n",
       "2  article   28-33  jour.1089291                          Microbiologica   \n",
       "3  article     151  jour.1030597                         Malaria Journal   \n",
       "4  article   34-39  jour.1034401  Travel Medicine and Infectious Disease   \n",
       "\n",
       "  volume issue  \n",
       "0    NaN   NaN  \n",
       "1     33   NaN  \n",
       "2     43     1  \n",
       "3     18     1  \n",
       "4     29   NaN  "
      ]
     },
     "execution_count": 17,
     "metadata": {},
     "output_type": "execute_result"
    }
   ],
   "source": [
    "%dsldf search publications in title_only for \"ital? malaria\" return publications limit 5"
   ]
  },
  {
   "cell_type": "code",
   "execution_count": 18,
   "metadata": {
    "Collapsed": "false"
   },
   "outputs": [
    {
     "name": "stdout",
     "output_type": "stream",
     "text": [
      "Returned Publications: 5 (total = 1498)\n"
     ]
    },
    {
     "data": {
      "text/html": [
       "<div>\n",
       "<style scoped>\n",
       "    .dataframe tbody tr th:only-of-type {\n",
       "        vertical-align: middle;\n",
       "    }\n",
       "\n",
       "    .dataframe tbody tr th {\n",
       "        vertical-align: top;\n",
       "    }\n",
       "\n",
       "    .dataframe thead th {\n",
       "        text-align: right;\n",
       "    }\n",
       "</style>\n",
       "<table border=\"1\" class=\"dataframe\">\n",
       "  <thead>\n",
       "    <tr style=\"text-align: right;\">\n",
       "      <th></th>\n",
       "      <th>type</th>\n",
       "      <th>pages</th>\n",
       "      <th>author_affiliations</th>\n",
       "      <th>issue</th>\n",
       "      <th>volume</th>\n",
       "      <th>year</th>\n",
       "      <th>id</th>\n",
       "      <th>title</th>\n",
       "      <th>journal.id</th>\n",
       "      <th>journal.title</th>\n",
       "    </tr>\n",
       "  </thead>\n",
       "  <tbody>\n",
       "    <tr>\n",
       "      <th>0</th>\n",
       "      <td>article</td>\n",
       "      <td>24</td>\n",
       "      <td>[[{'first_name': 'Monica P.', 'last_name': 'Sh...</td>\n",
       "      <td>1</td>\n",
       "      <td>19</td>\n",
       "      <td>2020</td>\n",
       "      <td>pub.1124106064</td>\n",
       "      <td>The effectiveness of older insecticide-treated...</td>\n",
       "      <td>jour.1030597</td>\n",
       "      <td>Malaria Journal</td>\n",
       "    </tr>\n",
       "    <tr>\n",
       "      <th>1</th>\n",
       "      <td>article</td>\n",
       "      <td>109809</td>\n",
       "      <td>[[{'first_name': 'Berge', 'last_name': 'Tsanou...</td>\n",
       "      <td>NaN</td>\n",
       "      <td>136</td>\n",
       "      <td>2020</td>\n",
       "      <td>pub.1126819455</td>\n",
       "      <td>Modeling pyrethroids repellency and its role o...</td>\n",
       "      <td>jour.1026215</td>\n",
       "      <td>Chaos Solitons &amp; Fractals</td>\n",
       "    </tr>\n",
       "    <tr>\n",
       "      <th>2</th>\n",
       "      <td>article</td>\n",
       "      <td>100333</td>\n",
       "      <td>[[{'first_name': 'Toussaint', 'last_name': 'Ro...</td>\n",
       "      <td>NaN</td>\n",
       "      <td>33</td>\n",
       "      <td>2020</td>\n",
       "      <td>pub.1124902730</td>\n",
       "      <td>Severe-malaria infection and its outcomes amon...</td>\n",
       "      <td>jour.1042240</td>\n",
       "      <td>Spatial and Spatio-temporal Epidemiology</td>\n",
       "    </tr>\n",
       "    <tr>\n",
       "      <th>3</th>\n",
       "      <td>article</td>\n",
       "      <td>NaN</td>\n",
       "      <td>[[{'first_name': 'Arif Jamal', 'last_name': 'S...</td>\n",
       "      <td>NaN</td>\n",
       "      <td>67</td>\n",
       "      <td>2020</td>\n",
       "      <td>pub.1127964785</td>\n",
       "      <td>Neurological disorder and psychosocial aspects...</td>\n",
       "      <td>jour.1006696</td>\n",
       "      <td>Folia Parasitologica</td>\n",
       "    </tr>\n",
       "    <tr>\n",
       "      <th>4</th>\n",
       "      <td>preprint</td>\n",
       "      <td>NaN</td>\n",
       "      <td>[[{'first_name': 'Jifar', 'last_name': 'Hassen...</td>\n",
       "      <td>NaN</td>\n",
       "      <td>NaN</td>\n",
       "      <td>2020</td>\n",
       "      <td>pub.1127968073</td>\n",
       "      <td>Urban Malaria Prevalence and Its Associated Ri...</td>\n",
       "      <td>jour.1380788</td>\n",
       "      <td>Research Square</td>\n",
       "    </tr>\n",
       "  </tbody>\n",
       "</table>\n",
       "</div>"
      ],
      "text/plain": [
       "       type   pages                                author_affiliations issue  \\\n",
       "0   article      24  [[{'first_name': 'Monica P.', 'last_name': 'Sh...     1   \n",
       "1   article  109809  [[{'first_name': 'Berge', 'last_name': 'Tsanou...   NaN   \n",
       "2   article  100333  [[{'first_name': 'Toussaint', 'last_name': 'Ro...   NaN   \n",
       "3   article     NaN  [[{'first_name': 'Arif Jamal', 'last_name': 'S...   NaN   \n",
       "4  preprint     NaN  [[{'first_name': 'Jifar', 'last_name': 'Hassen...   NaN   \n",
       "\n",
       "  volume  year              id  \\\n",
       "0     19  2020  pub.1124106064   \n",
       "1    136  2020  pub.1126819455   \n",
       "2     33  2020  pub.1124902730   \n",
       "3     67  2020  pub.1127964785   \n",
       "4    NaN  2020  pub.1127968073   \n",
       "\n",
       "                                               title    journal.id  \\\n",
       "0  The effectiveness of older insecticide-treated...  jour.1030597   \n",
       "1  Modeling pyrethroids repellency and its role o...  jour.1026215   \n",
       "2  Severe-malaria infection and its outcomes amon...  jour.1042240   \n",
       "3  Neurological disorder and psychosocial aspects...  jour.1006696   \n",
       "4  Urban Malaria Prevalence and Its Associated Ri...  jour.1380788   \n",
       "\n",
       "                              journal.title  \n",
       "0                           Malaria Journal  \n",
       "1                 Chaos Solitons & Fractals  \n",
       "2  Spatial and Spatio-temporal Epidemiology  \n",
       "3                      Folia Parasitologica  \n",
       "4                           Research Square  "
      ]
     },
     "execution_count": 18,
     "metadata": {},
     "output_type": "execute_result"
    }
   ],
   "source": [
    "%dsldf search publications in title_only for \"it* malaria\" return publications limit 5"
   ]
  },
  {
   "cell_type": "markdown",
   "metadata": {
    "Collapsed": "false"
   },
   "source": [
    "| Wildcard Search Type                                             | Special Character | Example                                                                                                                                                                                                                         |\n",
    "|------------------------------------------------------------------|-------------------|---------------------------------------------------------------------------------------------------------------------------------------------------------------------------------------------------------------------------------|\n",
    "| Single character - matches a single character                    | `?`               | The search string `te?t` would match both `test` and `text`.                                                                                                                                                                    |\n",
    "| Multiple characters - matches zero or more sequential characters | `*`               | The wildcard search: `tes*` would match `test`, `testing`, and `tester`. You can also use wildcard characters in the middle of a term. For example: `te*t` would match `test` and `text`. `*est` would match `pest` and `test`. |"
   ]
  },
  {
   "cell_type": "markdown",
   "metadata": {
    "Collapsed": "false"
   },
   "source": [
    "### 2.5 Proximity Searches\n",
    "\n",
    "A proximity search looks for terms that are within a specific distance\n",
    "from one another.\n",
    "\n",
    "To perform a proximity search, add the tilde character `~` and a numeric\n",
    "value to the end of a search phrase. For example, to search for a\n",
    "`formal` and `model` within 10 words of each other in a document, use\n",
    "the search:"
   ]
  },
  {
   "cell_type": "code",
   "execution_count": 19,
   "metadata": {
    "Collapsed": "false"
   },
   "outputs": [
    {
     "name": "stdout",
     "output_type": "stream",
     "text": [
      "Returned Publications: 5 (total = 468787)\n"
     ]
    },
    {
     "data": {
      "text/html": [
       "<div>\n",
       "<style scoped>\n",
       "    .dataframe tbody tr th:only-of-type {\n",
       "        vertical-align: middle;\n",
       "    }\n",
       "\n",
       "    .dataframe tbody tr th {\n",
       "        vertical-align: top;\n",
       "    }\n",
       "\n",
       "    .dataframe thead th {\n",
       "        text-align: right;\n",
       "    }\n",
       "</style>\n",
       "<table border=\"1\" class=\"dataframe\">\n",
       "  <thead>\n",
       "    <tr style=\"text-align: right;\">\n",
       "      <th></th>\n",
       "      <th>pages</th>\n",
       "      <th>id</th>\n",
       "      <th>type</th>\n",
       "      <th>title</th>\n",
       "      <th>author_affiliations</th>\n",
       "      <th>year</th>\n",
       "      <th>volume</th>\n",
       "      <th>issue</th>\n",
       "      <th>journal.id</th>\n",
       "      <th>journal.title</th>\n",
       "    </tr>\n",
       "  </thead>\n",
       "  <tbody>\n",
       "    <tr>\n",
       "      <th>0</th>\n",
       "      <td>84-102</td>\n",
       "      <td>pub.1124248667</td>\n",
       "      <td>chapter</td>\n",
       "      <td>2. Clientelistic Politics and Economic Develop...</td>\n",
       "      <td>[[{'first_name': 'Pranab', 'last_name': 'Bardh...</td>\n",
       "      <td>2020</td>\n",
       "      <td>NaN</td>\n",
       "      <td>NaN</td>\n",
       "      <td>NaN</td>\n",
       "      <td>NaN</td>\n",
       "    </tr>\n",
       "    <tr>\n",
       "      <th>1</th>\n",
       "      <td>1726722</td>\n",
       "      <td>pub.1125320181</td>\n",
       "      <td>article</td>\n",
       "      <td>Building cooperative learning to address alcoh...</td>\n",
       "      <td>[[{'first_name': 'Oladapo', 'last_name': 'Olad...</td>\n",
       "      <td>2020</td>\n",
       "      <td>13</td>\n",
       "      <td>1</td>\n",
       "      <td>jour.1041075</td>\n",
       "      <td>Global Health Action</td>\n",
       "    </tr>\n",
       "    <tr>\n",
       "      <th>2</th>\n",
       "      <td>xi-xvi</td>\n",
       "      <td>pub.1125144025</td>\n",
       "      <td>chapter</td>\n",
       "      <td>Foreword</td>\n",
       "      <td>NaN</td>\n",
       "      <td>2020</td>\n",
       "      <td>NaN</td>\n",
       "      <td>NaN</td>\n",
       "      <td>NaN</td>\n",
       "      <td>NaN</td>\n",
       "    </tr>\n",
       "    <tr>\n",
       "      <th>3</th>\n",
       "      <td>137-159</td>\n",
       "      <td>pub.1125788857</td>\n",
       "      <td>chapter</td>\n",
       "      <td>6. Hierarchy and Power in the Tropical Forest</td>\n",
       "      <td>[[{'first_name': 'Irving', 'last_name': 'Goldm...</td>\n",
       "      <td>2020</td>\n",
       "      <td>NaN</td>\n",
       "      <td>NaN</td>\n",
       "      <td>NaN</td>\n",
       "      <td>NaN</td>\n",
       "    </tr>\n",
       "    <tr>\n",
       "      <th>4</th>\n",
       "      <td>136-161</td>\n",
       "      <td>pub.1125789336</td>\n",
       "      <td>chapter</td>\n",
       "      <td>6. The Structure and Workings of Employer-Prom...</td>\n",
       "      <td>[[{'first_name': 'Joseph F.', 'last_name': 'Ge...</td>\n",
       "      <td>2020</td>\n",
       "      <td>NaN</td>\n",
       "      <td>NaN</td>\n",
       "      <td>NaN</td>\n",
       "      <td>NaN</td>\n",
       "    </tr>\n",
       "  </tbody>\n",
       "</table>\n",
       "</div>"
      ],
      "text/plain": [
       "     pages              id     type  \\\n",
       "0   84-102  pub.1124248667  chapter   \n",
       "1  1726722  pub.1125320181  article   \n",
       "2   xi-xvi  pub.1125144025  chapter   \n",
       "3  137-159  pub.1125788857  chapter   \n",
       "4  136-161  pub.1125789336  chapter   \n",
       "\n",
       "                                               title  \\\n",
       "0  2. Clientelistic Politics and Economic Develop...   \n",
       "1  Building cooperative learning to address alcoh...   \n",
       "2                                           Foreword   \n",
       "3      6. Hierarchy and Power in the Tropical Forest   \n",
       "4  6. The Structure and Workings of Employer-Prom...   \n",
       "\n",
       "                                 author_affiliations  year volume issue  \\\n",
       "0  [[{'first_name': 'Pranab', 'last_name': 'Bardh...  2020    NaN   NaN   \n",
       "1  [[{'first_name': 'Oladapo', 'last_name': 'Olad...  2020     13     1   \n",
       "2                                                NaN  2020    NaN   NaN   \n",
       "3  [[{'first_name': 'Irving', 'last_name': 'Goldm...  2020    NaN   NaN   \n",
       "4  [[{'first_name': 'Joseph F.', 'last_name': 'Ge...  2020    NaN   NaN   \n",
       "\n",
       "     journal.id         journal.title  \n",
       "0           NaN                   NaN  \n",
       "1  jour.1041075  Global Health Action  \n",
       "2           NaN                   NaN  \n",
       "3           NaN                   NaN  \n",
       "4           NaN                   NaN  "
      ]
     },
     "execution_count": 19,
     "metadata": {},
     "output_type": "execute_result"
    }
   ],
   "source": [
    "%dsldf search publications for \"\\\"formal model\\\"~10\" return publications limit 5"
   ]
  },
  {
   "cell_type": "code",
   "execution_count": 20,
   "metadata": {
    "Collapsed": "false"
   },
   "outputs": [
    {
     "name": "stdout",
     "output_type": "stream",
     "text": [
      "Returned Publications: 5 (total = 7345)\n"
     ]
    },
    {
     "data": {
      "text/html": [
       "<div>\n",
       "<style scoped>\n",
       "    .dataframe tbody tr th:only-of-type {\n",
       "        vertical-align: middle;\n",
       "    }\n",
       "\n",
       "    .dataframe tbody tr th {\n",
       "        vertical-align: top;\n",
       "    }\n",
       "\n",
       "    .dataframe thead th {\n",
       "        text-align: right;\n",
       "    }\n",
       "</style>\n",
       "<table border=\"1\" class=\"dataframe\">\n",
       "  <thead>\n",
       "    <tr style=\"text-align: right;\">\n",
       "      <th></th>\n",
       "      <th>pages</th>\n",
       "      <th>id</th>\n",
       "      <th>type</th>\n",
       "      <th>title</th>\n",
       "      <th>author_affiliations</th>\n",
       "      <th>volume</th>\n",
       "      <th>year</th>\n",
       "      <th>issue</th>\n",
       "      <th>journal.id</th>\n",
       "      <th>journal.title</th>\n",
       "    </tr>\n",
       "  </thead>\n",
       "  <tbody>\n",
       "    <tr>\n",
       "      <th>0</th>\n",
       "      <td>89</td>\n",
       "      <td>pub.1127423858</td>\n",
       "      <td>article</td>\n",
       "      <td>Citizen science in the social sciences and hum...</td>\n",
       "      <td>[[{'first_name': 'Loreta', 'last_name': 'Taugi...</td>\n",
       "      <td>6</td>\n",
       "      <td>2020</td>\n",
       "      <td>1</td>\n",
       "      <td>jour.1136613</td>\n",
       "      <td>Palgrave Communications</td>\n",
       "    </tr>\n",
       "    <tr>\n",
       "      <th>1</th>\n",
       "      <td>471-478</td>\n",
       "      <td>pub.1127978306</td>\n",
       "      <td>proceeding</td>\n",
       "      <td>Atlante dei siti fortificati della provincia d...</td>\n",
       "      <td>[[{'first_name': 'Maurizio', 'last_name': 'Tos...</td>\n",
       "      <td>NaN</td>\n",
       "      <td>2020</td>\n",
       "      <td>NaN</td>\n",
       "      <td>NaN</td>\n",
       "      <td>NaN</td>\n",
       "    </tr>\n",
       "    <tr>\n",
       "      <th>2</th>\n",
       "      <td>NaN</td>\n",
       "      <td>pub.1127498852</td>\n",
       "      <td>monograph</td>\n",
       "      <td>Emerging Extended Reality Technologies For Ind...</td>\n",
       "      <td>[[{'first_name': 'Jolanda G.', 'last_name': 'T...</td>\n",
       "      <td>NaN</td>\n",
       "      <td>2020</td>\n",
       "      <td>NaN</td>\n",
       "      <td>NaN</td>\n",
       "      <td>NaN</td>\n",
       "    </tr>\n",
       "    <tr>\n",
       "      <th>3</th>\n",
       "      <td>185-196</td>\n",
       "      <td>pub.1124901249</td>\n",
       "      <td>article</td>\n",
       "      <td>Sparse Low Rank Factorization for Deep Neural ...</td>\n",
       "      <td>[[{'first_name': 'Sridhar', 'last_name': 'Swam...</td>\n",
       "      <td>398</td>\n",
       "      <td>2020</td>\n",
       "      <td>NaN</td>\n",
       "      <td>jour.1128607</td>\n",
       "      <td>Neurocomputing</td>\n",
       "    </tr>\n",
       "    <tr>\n",
       "      <th>4</th>\n",
       "      <td>585-604</td>\n",
       "      <td>pub.1120871378</td>\n",
       "      <td>article</td>\n",
       "      <td>WebKey: a graph-based method for event detecti...</td>\n",
       "      <td>[[{'first_name': 'Elham', 'last_name': 'Rasoul...</td>\n",
       "      <td>54</td>\n",
       "      <td>2020</td>\n",
       "      <td>3</td>\n",
       "      <td>jour.1327483</td>\n",
       "      <td>Journal of Intelligent Information Systems</td>\n",
       "    </tr>\n",
       "  </tbody>\n",
       "</table>\n",
       "</div>"
      ],
      "text/plain": [
       "     pages              id        type  \\\n",
       "0       89  pub.1127423858     article   \n",
       "1  471-478  pub.1127978306  proceeding   \n",
       "2      NaN  pub.1127498852   monograph   \n",
       "3  185-196  pub.1124901249     article   \n",
       "4  585-604  pub.1120871378     article   \n",
       "\n",
       "                                               title  \\\n",
       "0  Citizen science in the social sciences and hum...   \n",
       "1  Atlante dei siti fortificati della provincia d...   \n",
       "2  Emerging Extended Reality Technologies For Ind...   \n",
       "3  Sparse Low Rank Factorization for Deep Neural ...   \n",
       "4  WebKey: a graph-based method for event detecti...   \n",
       "\n",
       "                                 author_affiliations volume  year issue  \\\n",
       "0  [[{'first_name': 'Loreta', 'last_name': 'Taugi...      6  2020     1   \n",
       "1  [[{'first_name': 'Maurizio', 'last_name': 'Tos...    NaN  2020   NaN   \n",
       "2  [[{'first_name': 'Jolanda G.', 'last_name': 'T...    NaN  2020   NaN   \n",
       "3  [[{'first_name': 'Sridhar', 'last_name': 'Swam...    398  2020   NaN   \n",
       "4  [[{'first_name': 'Elham', 'last_name': 'Rasoul...     54  2020     3   \n",
       "\n",
       "     journal.id                               journal.title  \n",
       "0  jour.1136613                     Palgrave Communications  \n",
       "1           NaN                                         NaN  \n",
       "2           NaN                                         NaN  \n",
       "3  jour.1128607                              Neurocomputing  \n",
       "4  jour.1327483  Journal of Intelligent Information Systems  "
      ]
     },
     "execution_count": 20,
     "metadata": {},
     "output_type": "execute_result"
    }
   ],
   "source": [
    "%dsldf search publications for \"\\\"digital humanities\\\"~5  +ontology\" return publications limit 5"
   ]
  },
  {
   "cell_type": "markdown",
   "metadata": {
    "Collapsed": "false"
   },
   "source": [
    "The distance referred to here is the number of term movements needed to match the specified phrase.  \n",
    "In the example above, if `formal` and `model` were 10 spaces apart in a\n",
    "field, but `formal` appeared before `model`, more than 10 term movements\n",
    "would be required to move the terms together and position `formal` to\n",
    "the right of `model` with a space in between."
   ]
  },
  {
   "cell_type": "markdown",
   "metadata": {
    "Collapsed": "false"
   },
   "source": [
    "## 3. Field Searching\n",
    "\n",
    "Field searching allows to use a specific `field` of a `source` as a\n",
    "query filter. For example, this can be a\n",
    "[Literal](supported-types.ipynb) field such as the $type$ of a\n",
    "publication, its $date$, $mesh terms$, etc.. Or it can be an\n",
    "[entity](data-entities.ipynb) field, such as the $journal title$ for a\n",
    "publication, the $country name$ of its author affiliations, etc..\n",
    "\n",
    "**What are the fields available for each source?** See the [data sources](https://docs.dimensions.ai/dsl/data-sources.html) section of the documentation. \n",
    "\n",
    "Alternatively, we can use the 'schema' API ([describe](https://docs.dimensions.ai/dsl/data-sources.html#metadata-api)) to return this information programmatically: "
   ]
  },
  {
   "cell_type": "code",
   "execution_count": 21,
   "metadata": {
    "Collapsed": "false"
   },
   "outputs": [
    {
     "data": {
      "text/html": [
       "<div>\n",
       "<style scoped>\n",
       "    .dataframe tbody tr th:only-of-type {\n",
       "        vertical-align: middle;\n",
       "    }\n",
       "\n",
       "    .dataframe tbody tr th {\n",
       "        vertical-align: top;\n",
       "    }\n",
       "\n",
       "    .dataframe thead th {\n",
       "        text-align: right;\n",
       "    }\n",
       "</style>\n",
       "<table border=\"1\" class=\"dataframe\">\n",
       "  <thead>\n",
       "    <tr style=\"text-align: right;\">\n",
       "      <th></th>\n",
       "      <th>sources</th>\n",
       "      <th>field</th>\n",
       "      <th>type</th>\n",
       "      <th>description</th>\n",
       "      <th>is_filter</th>\n",
       "      <th>is_entity</th>\n",
       "      <th>is_facet</th>\n",
       "    </tr>\n",
       "  </thead>\n",
       "  <tbody>\n",
       "    <tr>\n",
       "      <th>0</th>\n",
       "      <td>publications</td>\n",
       "      <td>altmetric</td>\n",
       "      <td>float</td>\n",
       "      <td>Altmetric attention score.</td>\n",
       "      <td>True</td>\n",
       "      <td>False</td>\n",
       "      <td>False</td>\n",
       "    </tr>\n",
       "    <tr>\n",
       "      <th>1</th>\n",
       "      <td>publications</td>\n",
       "      <td>altmetric_id</td>\n",
       "      <td>integer</td>\n",
       "      <td>AltMetric Publication ID</td>\n",
       "      <td>True</td>\n",
       "      <td>False</td>\n",
       "      <td>False</td>\n",
       "    </tr>\n",
       "    <tr>\n",
       "      <th>2</th>\n",
       "      <td>publications</td>\n",
       "      <td>authors</td>\n",
       "      <td>json</td>\n",
       "      <td>Ordered list of authors names and their affili...</td>\n",
       "      <td>True</td>\n",
       "      <td>False</td>\n",
       "      <td>False</td>\n",
       "    </tr>\n",
       "    <tr>\n",
       "      <th>3</th>\n",
       "      <td>publications</td>\n",
       "      <td>book_doi</td>\n",
       "      <td>string</td>\n",
       "      <td>The DOI of the book a chapter belongs to (note...</td>\n",
       "      <td>True</td>\n",
       "      <td>False</td>\n",
       "      <td>False</td>\n",
       "    </tr>\n",
       "    <tr>\n",
       "      <th>4</th>\n",
       "      <td>publications</td>\n",
       "      <td>book_series_title</td>\n",
       "      <td>string</td>\n",
       "      <td>The title of the book series book, belong to.</td>\n",
       "      <td>False</td>\n",
       "      <td>False</td>\n",
       "      <td>False</td>\n",
       "    </tr>\n",
       "    <tr>\n",
       "      <th>5</th>\n",
       "      <td>publications</td>\n",
       "      <td>book_title</td>\n",
       "      <td>string</td>\n",
       "      <td>The title of the book a chapter belongs to (no...</td>\n",
       "      <td>False</td>\n",
       "      <td>False</td>\n",
       "      <td>False</td>\n",
       "    </tr>\n",
       "    <tr>\n",
       "      <th>6</th>\n",
       "      <td>publications</td>\n",
       "      <td>category_bra</td>\n",
       "      <td>categories</td>\n",
       "      <td>`Broad Research Areas &lt;https://app.dimensions....</td>\n",
       "      <td>True</td>\n",
       "      <td>True</td>\n",
       "      <td>True</td>\n",
       "    </tr>\n",
       "    <tr>\n",
       "      <th>7</th>\n",
       "      <td>publications</td>\n",
       "      <td>category_for</td>\n",
       "      <td>categories</td>\n",
       "      <td>`ANZSRC Fields of Research classification &lt;htt...</td>\n",
       "      <td>True</td>\n",
       "      <td>True</td>\n",
       "      <td>True</td>\n",
       "    </tr>\n",
       "    <tr>\n",
       "      <th>8</th>\n",
       "      <td>publications</td>\n",
       "      <td>category_hra</td>\n",
       "      <td>categories</td>\n",
       "      <td>`Health Research Areas &lt;https://app.dimensions...</td>\n",
       "      <td>True</td>\n",
       "      <td>True</td>\n",
       "      <td>True</td>\n",
       "    </tr>\n",
       "    <tr>\n",
       "      <th>9</th>\n",
       "      <td>publications</td>\n",
       "      <td>category_hrcs_hc</td>\n",
       "      <td>categories</td>\n",
       "      <td>`HRCS - Health Categories &lt;https://app.dimensi...</td>\n",
       "      <td>True</td>\n",
       "      <td>True</td>\n",
       "      <td>True</td>\n",
       "    </tr>\n",
       "    <tr>\n",
       "      <th>10</th>\n",
       "      <td>publications</td>\n",
       "      <td>category_hrcs_rac</td>\n",
       "      <td>categories</td>\n",
       "      <td>`HRCS – Research Activity Codes &lt;https://app.d...</td>\n",
       "      <td>True</td>\n",
       "      <td>True</td>\n",
       "      <td>True</td>\n",
       "    </tr>\n",
       "    <tr>\n",
       "      <th>11</th>\n",
       "      <td>publications</td>\n",
       "      <td>category_icrp_cso</td>\n",
       "      <td>categories</td>\n",
       "      <td>`ICRP Common Scientific Outline &lt;https://app.d...</td>\n",
       "      <td>True</td>\n",
       "      <td>True</td>\n",
       "      <td>True</td>\n",
       "    </tr>\n",
       "    <tr>\n",
       "      <th>12</th>\n",
       "      <td>publications</td>\n",
       "      <td>category_icrp_ct</td>\n",
       "      <td>categories</td>\n",
       "      <td>`ICRP Cancer Types &lt;https://app.dimensions.ai/...</td>\n",
       "      <td>True</td>\n",
       "      <td>True</td>\n",
       "      <td>True</td>\n",
       "    </tr>\n",
       "    <tr>\n",
       "      <th>13</th>\n",
       "      <td>publications</td>\n",
       "      <td>category_rcdc</td>\n",
       "      <td>categories</td>\n",
       "      <td>`Research, Condition, and Disease Categorizati...</td>\n",
       "      <td>True</td>\n",
       "      <td>True</td>\n",
       "      <td>True</td>\n",
       "    </tr>\n",
       "    <tr>\n",
       "      <th>14</th>\n",
       "      <td>publications</td>\n",
       "      <td>category_sdg</td>\n",
       "      <td>categories</td>\n",
       "      <td>SDG - Sustainable Development Goals</td>\n",
       "      <td>True</td>\n",
       "      <td>True</td>\n",
       "      <td>True</td>\n",
       "    </tr>\n",
       "    <tr>\n",
       "      <th>15</th>\n",
       "      <td>publications</td>\n",
       "      <td>category_uoa</td>\n",
       "      <td>categories</td>\n",
       "      <td>`Units of Assessment &lt;https://app.dimensions.a...</td>\n",
       "      <td>True</td>\n",
       "      <td>True</td>\n",
       "      <td>True</td>\n",
       "    </tr>\n",
       "    <tr>\n",
       "      <th>16</th>\n",
       "      <td>publications</td>\n",
       "      <td>concepts</td>\n",
       "      <td>json</td>\n",
       "      <td>None</td>\n",
       "      <td>True</td>\n",
       "      <td>False</td>\n",
       "      <td>False</td>\n",
       "    </tr>\n",
       "    <tr>\n",
       "      <th>17</th>\n",
       "      <td>publications</td>\n",
       "      <td>concepts_scores</td>\n",
       "      <td>json</td>\n",
       "      <td>None</td>\n",
       "      <td>True</td>\n",
       "      <td>False</td>\n",
       "      <td>False</td>\n",
       "    </tr>\n",
       "    <tr>\n",
       "      <th>18</th>\n",
       "      <td>publications</td>\n",
       "      <td>date</td>\n",
       "      <td>date</td>\n",
       "      <td>The publication date of a document, eg \"2018-0...</td>\n",
       "      <td>True</td>\n",
       "      <td>False</td>\n",
       "      <td>False</td>\n",
       "    </tr>\n",
       "    <tr>\n",
       "      <th>19</th>\n",
       "      <td>publications</td>\n",
       "      <td>date_inserted</td>\n",
       "      <td>date</td>\n",
       "      <td>Date when the record was inserted into Dimensi...</td>\n",
       "      <td>True</td>\n",
       "      <td>False</td>\n",
       "      <td>False</td>\n",
       "    </tr>\n",
       "    <tr>\n",
       "      <th>20</th>\n",
       "      <td>publications</td>\n",
       "      <td>doi</td>\n",
       "      <td>string</td>\n",
       "      <td>Digital object identifier.</td>\n",
       "      <td>True</td>\n",
       "      <td>False</td>\n",
       "      <td>False</td>\n",
       "    </tr>\n",
       "    <tr>\n",
       "      <th>21</th>\n",
       "      <td>publications</td>\n",
       "      <td>field_citation_ratio</td>\n",
       "      <td>float</td>\n",
       "      <td>Relative citation performance of article when ...</td>\n",
       "      <td>True</td>\n",
       "      <td>False</td>\n",
       "      <td>False</td>\n",
       "    </tr>\n",
       "    <tr>\n",
       "      <th>22</th>\n",
       "      <td>publications</td>\n",
       "      <td>funder_countries</td>\n",
       "      <td>countries</td>\n",
       "      <td>The country of the organisations funding this ...</td>\n",
       "      <td>True</td>\n",
       "      <td>True</td>\n",
       "      <td>True</td>\n",
       "    </tr>\n",
       "    <tr>\n",
       "      <th>23</th>\n",
       "      <td>publications</td>\n",
       "      <td>funders</td>\n",
       "      <td>organizations</td>\n",
       "      <td>The GRID organisation funding this publication.</td>\n",
       "      <td>True</td>\n",
       "      <td>True</td>\n",
       "      <td>True</td>\n",
       "    </tr>\n",
       "    <tr>\n",
       "      <th>24</th>\n",
       "      <td>publications</td>\n",
       "      <td>id</td>\n",
       "      <td>string</td>\n",
       "      <td>Dimensions publication ID.</td>\n",
       "      <td>True</td>\n",
       "      <td>False</td>\n",
       "      <td>False</td>\n",
       "    </tr>\n",
       "    <tr>\n",
       "      <th>25</th>\n",
       "      <td>publications</td>\n",
       "      <td>issn</td>\n",
       "      <td>string</td>\n",
       "      <td>International Standard Serial Number</td>\n",
       "      <td>True</td>\n",
       "      <td>False</td>\n",
       "      <td>False</td>\n",
       "    </tr>\n",
       "    <tr>\n",
       "      <th>26</th>\n",
       "      <td>publications</td>\n",
       "      <td>issue</td>\n",
       "      <td>string</td>\n",
       "      <td>The issue number of a publication.</td>\n",
       "      <td>True</td>\n",
       "      <td>False</td>\n",
       "      <td>False</td>\n",
       "    </tr>\n",
       "    <tr>\n",
       "      <th>27</th>\n",
       "      <td>publications</td>\n",
       "      <td>journal</td>\n",
       "      <td>journals</td>\n",
       "      <td>The journal a publication belongs to.</td>\n",
       "      <td>True</td>\n",
       "      <td>True</td>\n",
       "      <td>True</td>\n",
       "    </tr>\n",
       "    <tr>\n",
       "      <th>28</th>\n",
       "      <td>publications</td>\n",
       "      <td>journal_lists</td>\n",
       "      <td>string</td>\n",
       "      <td>Independent grouping of journals outside of Di...</td>\n",
       "      <td>True</td>\n",
       "      <td>False</td>\n",
       "      <td>True</td>\n",
       "    </tr>\n",
       "    <tr>\n",
       "      <th>29</th>\n",
       "      <td>publications</td>\n",
       "      <td>linkout</td>\n",
       "      <td>string</td>\n",
       "      <td>Original URL for a publication full text.</td>\n",
       "      <td>False</td>\n",
       "      <td>False</td>\n",
       "      <td>False</td>\n",
       "    </tr>\n",
       "    <tr>\n",
       "      <th>30</th>\n",
       "      <td>publications</td>\n",
       "      <td>mesh_terms</td>\n",
       "      <td>string</td>\n",
       "      <td>Medical Subject Heading terms as used in PubMed.</td>\n",
       "      <td>True</td>\n",
       "      <td>False</td>\n",
       "      <td>True</td>\n",
       "    </tr>\n",
       "    <tr>\n",
       "      <th>31</th>\n",
       "      <td>publications</td>\n",
       "      <td>open_access_categories</td>\n",
       "      <td>open_access</td>\n",
       "      <td>Open Access categories for publications. See b...</td>\n",
       "      <td>True</td>\n",
       "      <td>True</td>\n",
       "      <td>True</td>\n",
       "    </tr>\n",
       "    <tr>\n",
       "      <th>32</th>\n",
       "      <td>publications</td>\n",
       "      <td>pages</td>\n",
       "      <td>string</td>\n",
       "      <td>The pages of the publication, as they would ap...</td>\n",
       "      <td>True</td>\n",
       "      <td>False</td>\n",
       "      <td>False</td>\n",
       "    </tr>\n",
       "    <tr>\n",
       "      <th>33</th>\n",
       "      <td>publications</td>\n",
       "      <td>pmcid</td>\n",
       "      <td>string</td>\n",
       "      <td>PubMed Central ID.</td>\n",
       "      <td>True</td>\n",
       "      <td>False</td>\n",
       "      <td>False</td>\n",
       "    </tr>\n",
       "    <tr>\n",
       "      <th>34</th>\n",
       "      <td>publications</td>\n",
       "      <td>pmid</td>\n",
       "      <td>string</td>\n",
       "      <td>PubMed ID.</td>\n",
       "      <td>True</td>\n",
       "      <td>False</td>\n",
       "      <td>False</td>\n",
       "    </tr>\n",
       "    <tr>\n",
       "      <th>35</th>\n",
       "      <td>publications</td>\n",
       "      <td>proceedings_title</td>\n",
       "      <td>string</td>\n",
       "      <td>Title of the conference proceedings volume ass...</td>\n",
       "      <td>False</td>\n",
       "      <td>False</td>\n",
       "      <td>False</td>\n",
       "    </tr>\n",
       "    <tr>\n",
       "      <th>36</th>\n",
       "      <td>publications</td>\n",
       "      <td>publisher</td>\n",
       "      <td>string</td>\n",
       "      <td>Name of the publisher as a string.</td>\n",
       "      <td>True</td>\n",
       "      <td>False</td>\n",
       "      <td>True</td>\n",
       "    </tr>\n",
       "    <tr>\n",
       "      <th>37</th>\n",
       "      <td>publications</td>\n",
       "      <td>recent_citations</td>\n",
       "      <td>integer</td>\n",
       "      <td>Number of citations received in the last two y...</td>\n",
       "      <td>True</td>\n",
       "      <td>False</td>\n",
       "      <td>False</td>\n",
       "    </tr>\n",
       "    <tr>\n",
       "      <th>38</th>\n",
       "      <td>publications</td>\n",
       "      <td>reference_ids</td>\n",
       "      <td>string</td>\n",
       "      <td>Dimensions publication ID for publications in ...</td>\n",
       "      <td>True</td>\n",
       "      <td>False</td>\n",
       "      <td>False</td>\n",
       "    </tr>\n",
       "    <tr>\n",
       "      <th>39</th>\n",
       "      <td>publications</td>\n",
       "      <td>relative_citation_ratio</td>\n",
       "      <td>float</td>\n",
       "      <td>Relative citation performance of an article wh...</td>\n",
       "      <td>True</td>\n",
       "      <td>False</td>\n",
       "      <td>False</td>\n",
       "    </tr>\n",
       "    <tr>\n",
       "      <th>40</th>\n",
       "      <td>publications</td>\n",
       "      <td>research_org_cities</td>\n",
       "      <td>cities</td>\n",
       "      <td>City of the organisations authors are affiliat...</td>\n",
       "      <td>True</td>\n",
       "      <td>True</td>\n",
       "      <td>True</td>\n",
       "    </tr>\n",
       "    <tr>\n",
       "      <th>41</th>\n",
       "      <td>publications</td>\n",
       "      <td>research_org_countries</td>\n",
       "      <td>countries</td>\n",
       "      <td>Country of the organisations authors are affil...</td>\n",
       "      <td>True</td>\n",
       "      <td>True</td>\n",
       "      <td>True</td>\n",
       "    </tr>\n",
       "    <tr>\n",
       "      <th>42</th>\n",
       "      <td>publications</td>\n",
       "      <td>research_org_country_names</td>\n",
       "      <td>string</td>\n",
       "      <td>Country name of the organisations authors are ...</td>\n",
       "      <td>True</td>\n",
       "      <td>False</td>\n",
       "      <td>False</td>\n",
       "    </tr>\n",
       "    <tr>\n",
       "      <th>43</th>\n",
       "      <td>publications</td>\n",
       "      <td>research_org_names</td>\n",
       "      <td>string</td>\n",
       "      <td>Names of organizations authors are affiliated to.</td>\n",
       "      <td>True</td>\n",
       "      <td>False</td>\n",
       "      <td>False</td>\n",
       "    </tr>\n",
       "    <tr>\n",
       "      <th>44</th>\n",
       "      <td>publications</td>\n",
       "      <td>research_org_state_codes</td>\n",
       "      <td>states</td>\n",
       "      <td>State of the organisations authors are affilia...</td>\n",
       "      <td>True</td>\n",
       "      <td>True</td>\n",
       "      <td>True</td>\n",
       "    </tr>\n",
       "    <tr>\n",
       "      <th>45</th>\n",
       "      <td>publications</td>\n",
       "      <td>research_org_state_names</td>\n",
       "      <td>string</td>\n",
       "      <td>State name of the organisations authors are af...</td>\n",
       "      <td>True</td>\n",
       "      <td>False</td>\n",
       "      <td>False</td>\n",
       "    </tr>\n",
       "    <tr>\n",
       "      <th>46</th>\n",
       "      <td>publications</td>\n",
       "      <td>research_orgs</td>\n",
       "      <td>organizations</td>\n",
       "      <td>GRID organisations associated to a publication...</td>\n",
       "      <td>True</td>\n",
       "      <td>True</td>\n",
       "      <td>True</td>\n",
       "    </tr>\n",
       "    <tr>\n",
       "      <th>47</th>\n",
       "      <td>publications</td>\n",
       "      <td>researchers</td>\n",
       "      <td>researchers</td>\n",
       "      <td>Researcher IDs matched to the publication's au...</td>\n",
       "      <td>True</td>\n",
       "      <td>True</td>\n",
       "      <td>True</td>\n",
       "    </tr>\n",
       "    <tr>\n",
       "      <th>48</th>\n",
       "      <td>publications</td>\n",
       "      <td>resulting_publication_doi</td>\n",
       "      <td>string</td>\n",
       "      <td>For preprints, the DOIs of the resulting full ...</td>\n",
       "      <td>True</td>\n",
       "      <td>False</td>\n",
       "      <td>False</td>\n",
       "    </tr>\n",
       "    <tr>\n",
       "      <th>49</th>\n",
       "      <td>publications</td>\n",
       "      <td>supporting_grant_ids</td>\n",
       "      <td>string</td>\n",
       "      <td>Grants supporting a publication, returned as a...</td>\n",
       "      <td>True</td>\n",
       "      <td>False</td>\n",
       "      <td>False</td>\n",
       "    </tr>\n",
       "    <tr>\n",
       "      <th>50</th>\n",
       "      <td>publications</td>\n",
       "      <td>times_cited</td>\n",
       "      <td>integer</td>\n",
       "      <td>Number of citations (note: does not support em...</td>\n",
       "      <td>True</td>\n",
       "      <td>False</td>\n",
       "      <td>True</td>\n",
       "    </tr>\n",
       "    <tr>\n",
       "      <th>51</th>\n",
       "      <td>publications</td>\n",
       "      <td>title</td>\n",
       "      <td>string</td>\n",
       "      <td>Title of a publication.</td>\n",
       "      <td>False</td>\n",
       "      <td>False</td>\n",
       "      <td>False</td>\n",
       "    </tr>\n",
       "    <tr>\n",
       "      <th>52</th>\n",
       "      <td>publications</td>\n",
       "      <td>type</td>\n",
       "      <td>string</td>\n",
       "      <td>Publication type (one of: article, chapter, pr...</td>\n",
       "      <td>True</td>\n",
       "      <td>False</td>\n",
       "      <td>True</td>\n",
       "    </tr>\n",
       "    <tr>\n",
       "      <th>53</th>\n",
       "      <td>publications</td>\n",
       "      <td>volume</td>\n",
       "      <td>string</td>\n",
       "      <td>Publication volume.</td>\n",
       "      <td>True</td>\n",
       "      <td>False</td>\n",
       "      <td>False</td>\n",
       "    </tr>\n",
       "    <tr>\n",
       "      <th>54</th>\n",
       "      <td>publications</td>\n",
       "      <td>year</td>\n",
       "      <td>integer</td>\n",
       "      <td>The year of publication (note: when the `date`...</td>\n",
       "      <td>True</td>\n",
       "      <td>False</td>\n",
       "      <td>True</td>\n",
       "    </tr>\n",
       "  </tbody>\n",
       "</table>\n",
       "</div>"
      ],
      "text/plain": [
       "         sources                       field           type  \\\n",
       "0   publications                   altmetric          float   \n",
       "1   publications                altmetric_id        integer   \n",
       "2   publications                     authors           json   \n",
       "3   publications                    book_doi         string   \n",
       "4   publications           book_series_title         string   \n",
       "5   publications                  book_title         string   \n",
       "6   publications                category_bra     categories   \n",
       "7   publications                category_for     categories   \n",
       "8   publications                category_hra     categories   \n",
       "9   publications            category_hrcs_hc     categories   \n",
       "10  publications           category_hrcs_rac     categories   \n",
       "11  publications           category_icrp_cso     categories   \n",
       "12  publications            category_icrp_ct     categories   \n",
       "13  publications               category_rcdc     categories   \n",
       "14  publications                category_sdg     categories   \n",
       "15  publications                category_uoa     categories   \n",
       "16  publications                    concepts           json   \n",
       "17  publications             concepts_scores           json   \n",
       "18  publications                        date           date   \n",
       "19  publications               date_inserted           date   \n",
       "20  publications                         doi         string   \n",
       "21  publications        field_citation_ratio          float   \n",
       "22  publications            funder_countries      countries   \n",
       "23  publications                     funders  organizations   \n",
       "24  publications                          id         string   \n",
       "25  publications                        issn         string   \n",
       "26  publications                       issue         string   \n",
       "27  publications                     journal       journals   \n",
       "28  publications               journal_lists         string   \n",
       "29  publications                     linkout         string   \n",
       "30  publications                  mesh_terms         string   \n",
       "31  publications      open_access_categories    open_access   \n",
       "32  publications                       pages         string   \n",
       "33  publications                       pmcid         string   \n",
       "34  publications                        pmid         string   \n",
       "35  publications           proceedings_title         string   \n",
       "36  publications                   publisher         string   \n",
       "37  publications            recent_citations        integer   \n",
       "38  publications               reference_ids         string   \n",
       "39  publications     relative_citation_ratio          float   \n",
       "40  publications         research_org_cities         cities   \n",
       "41  publications      research_org_countries      countries   \n",
       "42  publications  research_org_country_names         string   \n",
       "43  publications          research_org_names         string   \n",
       "44  publications    research_org_state_codes         states   \n",
       "45  publications    research_org_state_names         string   \n",
       "46  publications               research_orgs  organizations   \n",
       "47  publications                 researchers    researchers   \n",
       "48  publications   resulting_publication_doi         string   \n",
       "49  publications        supporting_grant_ids         string   \n",
       "50  publications                 times_cited        integer   \n",
       "51  publications                       title         string   \n",
       "52  publications                        type         string   \n",
       "53  publications                      volume         string   \n",
       "54  publications                        year        integer   \n",
       "\n",
       "                                          description  is_filter  is_entity  \\\n",
       "0                          Altmetric attention score.       True      False   \n",
       "1                            AltMetric Publication ID       True      False   \n",
       "2   Ordered list of authors names and their affili...       True      False   \n",
       "3   The DOI of the book a chapter belongs to (note...       True      False   \n",
       "4       The title of the book series book, belong to.      False      False   \n",
       "5   The title of the book a chapter belongs to (no...      False      False   \n",
       "6   `Broad Research Areas <https://app.dimensions....       True       True   \n",
       "7   `ANZSRC Fields of Research classification <htt...       True       True   \n",
       "8   `Health Research Areas <https://app.dimensions...       True       True   \n",
       "9   `HRCS - Health Categories <https://app.dimensi...       True       True   \n",
       "10  `HRCS – Research Activity Codes <https://app.d...       True       True   \n",
       "11  `ICRP Common Scientific Outline <https://app.d...       True       True   \n",
       "12  `ICRP Cancer Types <https://app.dimensions.ai/...       True       True   \n",
       "13  `Research, Condition, and Disease Categorizati...       True       True   \n",
       "14                SDG - Sustainable Development Goals       True       True   \n",
       "15  `Units of Assessment <https://app.dimensions.a...       True       True   \n",
       "16                                               None       True      False   \n",
       "17                                               None       True      False   \n",
       "18  The publication date of a document, eg \"2018-0...       True      False   \n",
       "19  Date when the record was inserted into Dimensi...       True      False   \n",
       "20                         Digital object identifier.       True      False   \n",
       "21  Relative citation performance of article when ...       True      False   \n",
       "22  The country of the organisations funding this ...       True       True   \n",
       "23    The GRID organisation funding this publication.       True       True   \n",
       "24                         Dimensions publication ID.       True      False   \n",
       "25               International Standard Serial Number       True      False   \n",
       "26                 The issue number of a publication.       True      False   \n",
       "27              The journal a publication belongs to.       True       True   \n",
       "28  Independent grouping of journals outside of Di...       True      False   \n",
       "29          Original URL for a publication full text.      False      False   \n",
       "30   Medical Subject Heading terms as used in PubMed.       True      False   \n",
       "31  Open Access categories for publications. See b...       True       True   \n",
       "32  The pages of the publication, as they would ap...       True      False   \n",
       "33                                 PubMed Central ID.       True      False   \n",
       "34                                         PubMed ID.       True      False   \n",
       "35  Title of the conference proceedings volume ass...      False      False   \n",
       "36                 Name of the publisher as a string.       True      False   \n",
       "37  Number of citations received in the last two y...       True      False   \n",
       "38  Dimensions publication ID for publications in ...       True      False   \n",
       "39  Relative citation performance of an article wh...       True      False   \n",
       "40  City of the organisations authors are affiliat...       True       True   \n",
       "41  Country of the organisations authors are affil...       True       True   \n",
       "42  Country name of the organisations authors are ...       True      False   \n",
       "43  Names of organizations authors are affiliated to.       True      False   \n",
       "44  State of the organisations authors are affilia...       True       True   \n",
       "45  State name of the organisations authors are af...       True      False   \n",
       "46  GRID organisations associated to a publication...       True       True   \n",
       "47  Researcher IDs matched to the publication's au...       True       True   \n",
       "48  For preprints, the DOIs of the resulting full ...       True      False   \n",
       "49  Grants supporting a publication, returned as a...       True      False   \n",
       "50  Number of citations (note: does not support em...       True      False   \n",
       "51                            Title of a publication.      False      False   \n",
       "52  Publication type (one of: article, chapter, pr...       True      False   \n",
       "53                                Publication volume.       True      False   \n",
       "54  The year of publication (note: when the `date`...       True      False   \n",
       "\n",
       "    is_facet  \n",
       "0      False  \n",
       "1      False  \n",
       "2      False  \n",
       "3      False  \n",
       "4      False  \n",
       "5      False  \n",
       "6       True  \n",
       "7       True  \n",
       "8       True  \n",
       "9       True  \n",
       "10      True  \n",
       "11      True  \n",
       "12      True  \n",
       "13      True  \n",
       "14      True  \n",
       "15      True  \n",
       "16     False  \n",
       "17     False  \n",
       "18     False  \n",
       "19     False  \n",
       "20     False  \n",
       "21     False  \n",
       "22      True  \n",
       "23      True  \n",
       "24     False  \n",
       "25     False  \n",
       "26     False  \n",
       "27      True  \n",
       "28      True  \n",
       "29     False  \n",
       "30      True  \n",
       "31      True  \n",
       "32     False  \n",
       "33     False  \n",
       "34     False  \n",
       "35     False  \n",
       "36      True  \n",
       "37     False  \n",
       "38     False  \n",
       "39     False  \n",
       "40      True  \n",
       "41      True  \n",
       "42     False  \n",
       "43     False  \n",
       "44      True  \n",
       "45     False  \n",
       "46      True  \n",
       "47      True  \n",
       "48     False  \n",
       "49     False  \n",
       "50      True  \n",
       "51     False  \n",
       "52      True  \n",
       "53     False  \n",
       "54      True  "
      ]
     },
     "execution_count": 21,
     "metadata": {},
     "output_type": "execute_result"
    }
   ],
   "source": [
    "%dsldocs publications  "
   ]
  },
  {
   "cell_type": "markdown",
   "metadata": {
    "Collapsed": "false"
   },
   "source": [
    "### 3.1 `where`\n",
    "\n",
    "This optional phrase consists of the keyword `where` followed by a\n",
    "`filters` phrase consisting of DSL filter expressions, as described\n",
    "below."
   ]
  },
  {
   "cell_type": "code",
   "execution_count": 22,
   "metadata": {
    "Collapsed": "false"
   },
   "outputs": [
    {
     "name": "stdout",
     "output_type": "stream",
     "text": [
      "Returned Publications: 5 (total = 289608)\n"
     ]
    },
    {
     "data": {
      "text/html": [
       "<div>\n",
       "<style scoped>\n",
       "    .dataframe tbody tr th:only-of-type {\n",
       "        vertical-align: middle;\n",
       "    }\n",
       "\n",
       "    .dataframe tbody tr th {\n",
       "        vertical-align: top;\n",
       "    }\n",
       "\n",
       "    .dataframe thead th {\n",
       "        text-align: right;\n",
       "    }\n",
       "</style>\n",
       "<table border=\"1\" class=\"dataframe\">\n",
       "  <thead>\n",
       "    <tr style=\"text-align: right;\">\n",
       "      <th></th>\n",
       "      <th>id</th>\n",
       "      <th>type</th>\n",
       "      <th>title</th>\n",
       "      <th>year</th>\n",
       "    </tr>\n",
       "  </thead>\n",
       "  <tbody>\n",
       "    <tr>\n",
       "      <th>0</th>\n",
       "      <td>pub.1125300609</td>\n",
       "      <td>book</td>\n",
       "      <td>Duoethnography in English Language Teaching</td>\n",
       "      <td>2020</td>\n",
       "    </tr>\n",
       "    <tr>\n",
       "      <th>1</th>\n",
       "      <td>pub.1108455576</td>\n",
       "      <td>book</td>\n",
       "      <td>The Indo-Aryans of Ancient South Asia</td>\n",
       "      <td>2020</td>\n",
       "    </tr>\n",
       "    <tr>\n",
       "      <th>2</th>\n",
       "      <td>pub.1031251220</td>\n",
       "      <td>book</td>\n",
       "      <td>Scholia in Aeschinem</td>\n",
       "      <td>2020</td>\n",
       "    </tr>\n",
       "    <tr>\n",
       "      <th>3</th>\n",
       "      <td>pub.1124703342</td>\n",
       "      <td>book</td>\n",
       "      <td>Learning to Read Talmud</td>\n",
       "      <td>2020</td>\n",
       "    </tr>\n",
       "    <tr>\n",
       "      <th>4</th>\n",
       "      <td>pub.1125300607</td>\n",
       "      <td>book</td>\n",
       "      <td>Sociolinguistic Perspectives on Migration Control</td>\n",
       "      <td>2020</td>\n",
       "    </tr>\n",
       "  </tbody>\n",
       "</table>\n",
       "</div>"
      ],
      "text/plain": [
       "               id  type                                              title  \\\n",
       "0  pub.1125300609  book        Duoethnography in English Language Teaching   \n",
       "1  pub.1108455576  book              The Indo-Aryans of Ancient South Asia   \n",
       "2  pub.1031251220  book                               Scholia in Aeschinem   \n",
       "3  pub.1124703342  book                            Learning to Read Talmud   \n",
       "4  pub.1125300607  book  Sociolinguistic Perspectives on Migration Control   \n",
       "\n",
       "   year  \n",
       "0  2020  \n",
       "1  2020  \n",
       "2  2020  \n",
       "3  2020  \n",
       "4  2020  "
      ]
     },
     "execution_count": 22,
     "metadata": {},
     "output_type": "execute_result"
    }
   ],
   "source": [
    "%dsldf search publications where type = \"book\" return publications limit 5"
   ]
  },
  {
   "cell_type": "markdown",
   "metadata": {
    "Collapsed": "false"
   },
   "source": [
    "If a `for` phrase is also used in a filtered query, the\n",
    "system will first apply the filters, and then search the resulting\n",
    "restricted set of documents for the `search term`."
   ]
  },
  {
   "cell_type": "code",
   "execution_count": 23,
   "metadata": {
    "Collapsed": "false"
   },
   "outputs": [
    {
     "name": "stdout",
     "output_type": "stream",
     "text": [
      "Returned Publications: 5 (total = 12374)\n"
     ]
    },
    {
     "data": {
      "text/html": [
       "<div>\n",
       "<style scoped>\n",
       "    .dataframe tbody tr th:only-of-type {\n",
       "        vertical-align: middle;\n",
       "    }\n",
       "\n",
       "    .dataframe tbody tr th {\n",
       "        vertical-align: top;\n",
       "    }\n",
       "\n",
       "    .dataframe thead th {\n",
       "        text-align: right;\n",
       "    }\n",
       "</style>\n",
       "<table border=\"1\" class=\"dataframe\">\n",
       "  <thead>\n",
       "    <tr style=\"text-align: right;\">\n",
       "      <th></th>\n",
       "      <th>type</th>\n",
       "      <th>year</th>\n",
       "      <th>id</th>\n",
       "      <th>title</th>\n",
       "    </tr>\n",
       "  </thead>\n",
       "  <tbody>\n",
       "    <tr>\n",
       "      <th>0</th>\n",
       "      <td>book</td>\n",
       "      <td>2020</td>\n",
       "      <td>pub.1127956583</td>\n",
       "      <td>Food Microbiology and Biotechnology</td>\n",
       "    </tr>\n",
       "    <tr>\n",
       "      <th>1</th>\n",
       "      <td>book</td>\n",
       "      <td>2020</td>\n",
       "      <td>pub.1127885675</td>\n",
       "      <td>Armed Conflict Survey 2020</td>\n",
       "    </tr>\n",
       "    <tr>\n",
       "      <th>2</th>\n",
       "      <td>book</td>\n",
       "      <td>2020</td>\n",
       "      <td>pub.1127764124</td>\n",
       "      <td>Textiles, Identity and Innovation: In Touch</td>\n",
       "    </tr>\n",
       "    <tr>\n",
       "      <th>3</th>\n",
       "      <td>book</td>\n",
       "      <td>2020</td>\n",
       "      <td>pub.1127540316</td>\n",
       "      <td>Phagocytes and Cellular Immunity</td>\n",
       "    </tr>\n",
       "    <tr>\n",
       "      <th>4</th>\n",
       "      <td>book</td>\n",
       "      <td>2020</td>\n",
       "      <td>pub.1127312535</td>\n",
       "      <td>Pharmaceutical Drug Product Development and Pr...</td>\n",
       "    </tr>\n",
       "  </tbody>\n",
       "</table>\n",
       "</div>"
      ],
      "text/plain": [
       "   type  year              id  \\\n",
       "0  book  2020  pub.1127956583   \n",
       "1  book  2020  pub.1127885675   \n",
       "2  book  2020  pub.1127764124   \n",
       "3  book  2020  pub.1127540316   \n",
       "4  book  2020  pub.1127312535   \n",
       "\n",
       "                                               title  \n",
       "0                Food Microbiology and Biotechnology  \n",
       "1                         Armed Conflict Survey 2020  \n",
       "2        Textiles, Identity and Innovation: In Touch  \n",
       "3                   Phagocytes and Cellular Immunity  \n",
       "4  Pharmaceutical Drug Product Development and Pr...  "
      ]
     },
     "execution_count": 23,
     "metadata": {},
     "output_type": "execute_result"
    }
   ],
   "source": [
    "%dsldf search publications for \"malaria\" where type = \"book\" return publications limit 5"
   ]
  },
  {
   "cell_type": "markdown",
   "metadata": {
    "Collapsed": "false"
   },
   "source": [
    "### 3.2 `in`\n",
    "\n",
    "For convenience, the DSL also supports shorthand notation for filters\n",
    "where a particular field should be restricted to a specified range or\n",
    "list of values (although the same logic may be expressed using complex\n",
    "filters as shown below).\n",
    "\n",
    "Syntax: a **range filter** consists of the `field` name, the keyword `in`, and a\n",
    "range of values enclosed in square brackets (`[]`), where the range\n",
    "consists of a `low` value, colon `:`, and a `high` value."
   ]
  },
  {
   "cell_type": "code",
   "execution_count": 24,
   "metadata": {
    "Collapsed": "false"
   },
   "outputs": [
    {
     "name": "stdout",
     "output_type": "stream",
     "text": [
      "Returned Grants: 5 (total = 3046)\n"
     ]
    },
    {
     "data": {
      "text/html": [
       "<div>\n",
       "<style scoped>\n",
       "    .dataframe tbody tr th:only-of-type {\n",
       "        vertical-align: middle;\n",
       "    }\n",
       "\n",
       "    .dataframe tbody tr th {\n",
       "        vertical-align: top;\n",
       "    }\n",
       "\n",
       "    .dataframe thead th {\n",
       "        text-align: right;\n",
       "    }\n",
       "</style>\n",
       "<table border=\"1\" class=\"dataframe\">\n",
       "  <thead>\n",
       "    <tr style=\"text-align: right;\">\n",
       "      <th></th>\n",
       "      <th>language</th>\n",
       "      <th>title_language</th>\n",
       "      <th>active_year</th>\n",
       "      <th>project_num</th>\n",
       "      <th>start_year</th>\n",
       "      <th>funding_org_name</th>\n",
       "      <th>id</th>\n",
       "      <th>title</th>\n",
       "      <th>start_date</th>\n",
       "      <th>original_title</th>\n",
       "      <th>funders</th>\n",
       "      <th>end_date</th>\n",
       "    </tr>\n",
       "  </thead>\n",
       "  <tbody>\n",
       "    <tr>\n",
       "      <th>0</th>\n",
       "      <td>en</td>\n",
       "      <td>en</td>\n",
       "      <td>[2015, 2016, 2017]</td>\n",
       "      <td>R21AI120981</td>\n",
       "      <td>2015</td>\n",
       "      <td>National Institute of Allergy and Infectious D...</td>\n",
       "      <td>grant.4729738</td>\n",
       "      <td>Bloodborne tropical pathogen detection using m...</td>\n",
       "      <td>2015-12-28</td>\n",
       "      <td>Bloodborne tropical pathogen detection using m...</td>\n",
       "      <td>[{'id': 'grid.419681.3', 'acronym': 'NIAID', '...</td>\n",
       "      <td>2017-11-30</td>\n",
       "    </tr>\n",
       "    <tr>\n",
       "      <th>1</th>\n",
       "      <td>en</td>\n",
       "      <td>en</td>\n",
       "      <td>[2015, 2016, 2017, 2018, 2019]</td>\n",
       "      <td>R21AI120973</td>\n",
       "      <td>2015</td>\n",
       "      <td>National Institute of Allergy and Infectious D...</td>\n",
       "      <td>grant.4729736</td>\n",
       "      <td>Field-deployable Assay for Differential Diagno...</td>\n",
       "      <td>2015-12-24</td>\n",
       "      <td>Field-deployable Assay for Differential Diagno...</td>\n",
       "      <td>[{'id': 'grid.419681.3', 'acronym': 'NIAID', '...</td>\n",
       "      <td>2019-02-28</td>\n",
       "    </tr>\n",
       "    <tr>\n",
       "      <th>2</th>\n",
       "      <td>en</td>\n",
       "      <td>en</td>\n",
       "      <td>[2015, 2016, 2017, 2018]</td>\n",
       "      <td>R21AI109439</td>\n",
       "      <td>2015</td>\n",
       "      <td>National Institute of Allergy and Infectious D...</td>\n",
       "      <td>grant.4729699</td>\n",
       "      <td>T cell driven antigen discovery for vaccine ca...</td>\n",
       "      <td>2015-12-21</td>\n",
       "      <td>T cell driven antigen discovery for vaccine ca...</td>\n",
       "      <td>[{'id': 'grid.419681.3', 'acronym': 'NIAID', '...</td>\n",
       "      <td>2018-11-30</td>\n",
       "    </tr>\n",
       "    <tr>\n",
       "      <th>3</th>\n",
       "      <td>en</td>\n",
       "      <td>en</td>\n",
       "      <td>[2015, 2016, 2017, 2018]</td>\n",
       "      <td>91488</td>\n",
       "      <td>2015</td>\n",
       "      <td>Volkswagen Foundation</td>\n",
       "      <td>grant.4854433</td>\n",
       "      <td>Senior Fellowship for Dr. Eduardo Samo Gudo: E...</td>\n",
       "      <td>2015-12-18</td>\n",
       "      <td>Senior Fellowship for Dr. Eduardo Samo Gudo: E...</td>\n",
       "      <td>[{'id': 'grid.452969.5', 'acronym': 'Volkswage...</td>\n",
       "      <td>2018-12-18</td>\n",
       "    </tr>\n",
       "    <tr>\n",
       "      <th>4</th>\n",
       "      <td>en</td>\n",
       "      <td>en</td>\n",
       "      <td>[2015, 2016, 2017, 2018, 2019]</td>\n",
       "      <td>MIS-311250</td>\n",
       "      <td>2015</td>\n",
       "      <td>National Institute of Food and Agriculture</td>\n",
       "      <td>grant.8821176</td>\n",
       "      <td>Biology, Ecology &amp; Management of Emerging Dise...</td>\n",
       "      <td>2015-12-10</td>\n",
       "      <td>Biology, Ecology &amp; Management of Emerging Dise...</td>\n",
       "      <td>[{'id': 'grid.482914.2', 'acronym': 'NIFA', 's...</td>\n",
       "      <td>2019-09-30</td>\n",
       "    </tr>\n",
       "  </tbody>\n",
       "</table>\n",
       "</div>"
      ],
      "text/plain": [
       "  language title_language                     active_year  project_num  \\\n",
       "0       en             en              [2015, 2016, 2017]  R21AI120981   \n",
       "1       en             en  [2015, 2016, 2017, 2018, 2019]  R21AI120973   \n",
       "2       en             en        [2015, 2016, 2017, 2018]  R21AI109439   \n",
       "3       en             en        [2015, 2016, 2017, 2018]        91488   \n",
       "4       en             en  [2015, 2016, 2017, 2018, 2019]   MIS-311250   \n",
       "\n",
       "   start_year                                   funding_org_name  \\\n",
       "0        2015  National Institute of Allergy and Infectious D...   \n",
       "1        2015  National Institute of Allergy and Infectious D...   \n",
       "2        2015  National Institute of Allergy and Infectious D...   \n",
       "3        2015                              Volkswagen Foundation   \n",
       "4        2015         National Institute of Food and Agriculture   \n",
       "\n",
       "              id                                              title  \\\n",
       "0  grant.4729738  Bloodborne tropical pathogen detection using m...   \n",
       "1  grant.4729736  Field-deployable Assay for Differential Diagno...   \n",
       "2  grant.4729699  T cell driven antigen discovery for vaccine ca...   \n",
       "3  grant.4854433  Senior Fellowship for Dr. Eduardo Samo Gudo: E...   \n",
       "4  grant.8821176  Biology, Ecology & Management of Emerging Dise...   \n",
       "\n",
       "   start_date                                     original_title  \\\n",
       "0  2015-12-28  Bloodborne tropical pathogen detection using m...   \n",
       "1  2015-12-24  Field-deployable Assay for Differential Diagno...   \n",
       "2  2015-12-21  T cell driven antigen discovery for vaccine ca...   \n",
       "3  2015-12-18  Senior Fellowship for Dr. Eduardo Samo Gudo: E...   \n",
       "4  2015-12-10  Biology, Ecology & Management of Emerging Dise...   \n",
       "\n",
       "                                             funders    end_date  \n",
       "0  [{'id': 'grid.419681.3', 'acronym': 'NIAID', '...  2017-11-30  \n",
       "1  [{'id': 'grid.419681.3', 'acronym': 'NIAID', '...  2019-02-28  \n",
       "2  [{'id': 'grid.419681.3', 'acronym': 'NIAID', '...  2018-11-30  \n",
       "3  [{'id': 'grid.452969.5', 'acronym': 'Volkswage...  2018-12-18  \n",
       "4  [{'id': 'grid.482914.2', 'acronym': 'NIFA', 's...  2019-09-30  "
      ]
     },
     "execution_count": 24,
     "metadata": {},
     "output_type": "execute_result"
    }
   ],
   "source": [
    "%%dsldf \n",
    "search grants \n",
    "    for \"malaria\" \n",
    "    where start_year in [ 2010 : 2015 ] \n",
    "return grants limit 5"
   ]
  },
  {
   "cell_type": "markdown",
   "metadata": {
    "Collapsed": "false"
   },
   "source": [
    "Syntax: a **list filter** consists of the `field` name, the keyword `in`, and a list\n",
    "of one or more `value` s enclosed in square brackets (`[]`), where\n",
    "values are separated by commas (`,`):"
   ]
  },
  {
   "cell_type": "code",
   "execution_count": 25,
   "metadata": {
    "Collapsed": "false"
   },
   "outputs": [
    {
     "name": "stdout",
     "output_type": "stream",
     "text": [
      "Returned Grants: 0\n",
      "WARNINGS [1]\n",
      "Field 'research_org_name' is deprecated in favor of research_orgs. Please refer to https://docs.dimensions.ai/dsl/releasenotes.html for more details\n"
     ]
    },
    {
     "data": {
      "text/html": [
       "<div>\n",
       "<style scoped>\n",
       "    .dataframe tbody tr th:only-of-type {\n",
       "        vertical-align: middle;\n",
       "    }\n",
       "\n",
       "    .dataframe tbody tr th {\n",
       "        vertical-align: top;\n",
       "    }\n",
       "\n",
       "    .dataframe thead th {\n",
       "        text-align: right;\n",
       "    }\n",
       "</style>\n",
       "<table border=\"1\" class=\"dataframe\">\n",
       "  <thead>\n",
       "    <tr style=\"text-align: right;\">\n",
       "      <th></th>\n",
       "    </tr>\n",
       "  </thead>\n",
       "  <tbody>\n",
       "  </tbody>\n",
       "</table>\n",
       "</div>"
      ],
      "text/plain": [
       "Empty DataFrame\n",
       "Columns: []\n",
       "Index: []"
      ]
     },
     "execution_count": 25,
     "metadata": {},
     "output_type": "execute_result"
    }
   ],
   "source": [
    "%%dsldf \n",
    "search grants \n",
    "    for \"malaria\" \n",
    "    where research_org_name in [ \"UC Berkeley\", \"UC Davis\", \"UCLA\"  ] \n",
    "return grants limit 5"
   ]
  },
  {
   "cell_type": "markdown",
   "metadata": {
    "Collapsed": "false"
   },
   "source": [
    "### 3.3 `count` - filter function\n",
    "\n",
    "The filter function `count` is supported on some fields in\n",
    "[publications](publications.ipynb) (e.g. `researchers` and\n",
    "`research_orgs`).\n",
    "\n",
    "Use of this filter is shown on the example below:"
   ]
  },
  {
   "cell_type": "code",
   "execution_count": 26,
   "metadata": {
    "Collapsed": "false"
   },
   "outputs": [
    {
     "name": "stdout",
     "output_type": "stream",
     "text": [
      "Returned Research_orgs: 5\n"
     ]
    },
    {
     "data": {
      "text/html": [
       "<div>\n",
       "<style scoped>\n",
       "    .dataframe tbody tr th:only-of-type {\n",
       "        vertical-align: middle;\n",
       "    }\n",
       "\n",
       "    .dataframe tbody tr th {\n",
       "        vertical-align: top;\n",
       "    }\n",
       "\n",
       "    .dataframe thead th {\n",
       "        text-align: right;\n",
       "    }\n",
       "</style>\n",
       "<table border=\"1\" class=\"dataframe\">\n",
       "  <thead>\n",
       "    <tr style=\"text-align: right;\">\n",
       "      <th></th>\n",
       "      <th>id</th>\n",
       "      <th>count</th>\n",
       "      <th>country_name</th>\n",
       "      <th>name</th>\n",
       "      <th>longitude</th>\n",
       "      <th>state_name</th>\n",
       "      <th>city_name</th>\n",
       "      <th>latitude</th>\n",
       "      <th>linkout</th>\n",
       "      <th>types</th>\n",
       "      <th>acronym</th>\n",
       "    </tr>\n",
       "  </thead>\n",
       "  <tbody>\n",
       "    <tr>\n",
       "      <th>0</th>\n",
       "      <td>grid.4991.5</td>\n",
       "      <td>1477</td>\n",
       "      <td>United Kingdom</td>\n",
       "      <td>University of Oxford</td>\n",
       "      <td>-1.254010</td>\n",
       "      <td>Oxfordshire</td>\n",
       "      <td>Oxford</td>\n",
       "      <td>51.753437</td>\n",
       "      <td>[http://www.ox.ac.uk/]</td>\n",
       "      <td>[Education]</td>\n",
       "      <td>NaN</td>\n",
       "    </tr>\n",
       "    <tr>\n",
       "      <th>1</th>\n",
       "      <td>grid.8991.9</td>\n",
       "      <td>1396</td>\n",
       "      <td>United Kingdom</td>\n",
       "      <td>London School of Hygiene &amp; Tropical Medicine</td>\n",
       "      <td>-0.130700</td>\n",
       "      <td>Camden</td>\n",
       "      <td>London</td>\n",
       "      <td>51.520900</td>\n",
       "      <td>[http://www.lshtm.ac.uk/]</td>\n",
       "      <td>[Education]</td>\n",
       "      <td>LSHTM</td>\n",
       "    </tr>\n",
       "    <tr>\n",
       "      <th>2</th>\n",
       "      <td>grid.38142.3c</td>\n",
       "      <td>1015</td>\n",
       "      <td>United States</td>\n",
       "      <td>Harvard University</td>\n",
       "      <td>-71.116650</td>\n",
       "      <td>Massachusetts</td>\n",
       "      <td>Cambridge</td>\n",
       "      <td>42.377052</td>\n",
       "      <td>[http://www.harvard.edu/]</td>\n",
       "      <td>[Education]</td>\n",
       "      <td>NaN</td>\n",
       "    </tr>\n",
       "    <tr>\n",
       "      <th>3</th>\n",
       "      <td>grid.21107.35</td>\n",
       "      <td>814</td>\n",
       "      <td>United States</td>\n",
       "      <td>Johns Hopkins University</td>\n",
       "      <td>-76.620280</td>\n",
       "      <td>Maryland</td>\n",
       "      <td>Baltimore</td>\n",
       "      <td>39.328888</td>\n",
       "      <td>[https://www.jhu.edu/]</td>\n",
       "      <td>[Education]</td>\n",
       "      <td>JHU</td>\n",
       "    </tr>\n",
       "    <tr>\n",
       "      <th>4</th>\n",
       "      <td>grid.7445.2</td>\n",
       "      <td>730</td>\n",
       "      <td>United Kingdom</td>\n",
       "      <td>Imperial College London</td>\n",
       "      <td>-0.175478</td>\n",
       "      <td>Westminster</td>\n",
       "      <td>London</td>\n",
       "      <td>51.498600</td>\n",
       "      <td>[http://www.imperial.ac.uk/]</td>\n",
       "      <td>[Education]</td>\n",
       "      <td>NaN</td>\n",
       "    </tr>\n",
       "  </tbody>\n",
       "</table>\n",
       "</div>"
      ],
      "text/plain": [
       "              id  count    country_name  \\\n",
       "0    grid.4991.5   1477  United Kingdom   \n",
       "1    grid.8991.9   1396  United Kingdom   \n",
       "2  grid.38142.3c   1015   United States   \n",
       "3  grid.21107.35    814   United States   \n",
       "4    grid.7445.2    730  United Kingdom   \n",
       "\n",
       "                                           name  longitude     state_name  \\\n",
       "0                          University of Oxford  -1.254010    Oxfordshire   \n",
       "1  London School of Hygiene & Tropical Medicine  -0.130700         Camden   \n",
       "2                            Harvard University -71.116650  Massachusetts   \n",
       "3                      Johns Hopkins University -76.620280       Maryland   \n",
       "4                       Imperial College London  -0.175478    Westminster   \n",
       "\n",
       "   city_name   latitude                       linkout        types acronym  \n",
       "0     Oxford  51.753437        [http://www.ox.ac.uk/]  [Education]     NaN  \n",
       "1     London  51.520900     [http://www.lshtm.ac.uk/]  [Education]   LSHTM  \n",
       "2  Cambridge  42.377052     [http://www.harvard.edu/]  [Education]     NaN  \n",
       "3  Baltimore  39.328888        [https://www.jhu.edu/]  [Education]     JHU  \n",
       "4     London  51.498600  [http://www.imperial.ac.uk/]  [Education]     NaN  "
      ]
     },
     "execution_count": 26,
     "metadata": {},
     "output_type": "execute_result"
    }
   ],
   "source": [
    "%%dsldf \n",
    "search publications \n",
    "    for \"malaria\" \n",
    "    where count(research_orgs) > 5 \n",
    "return research_orgs limit 5"
   ]
  },
  {
   "cell_type": "markdown",
   "metadata": {
    "Collapsed": "false"
   },
   "source": [
    "Number of publications with more than 50 researcher."
   ]
  },
  {
   "cell_type": "code",
   "execution_count": 27,
   "metadata": {
    "Collapsed": "false"
   },
   "outputs": [
    {
     "name": "stdout",
     "output_type": "stream",
     "text": [
      "Returned Publications: 5 (total = 190)\n"
     ]
    },
    {
     "data": {
      "text/html": [
       "<div>\n",
       "<style scoped>\n",
       "    .dataframe tbody tr th:only-of-type {\n",
       "        vertical-align: middle;\n",
       "    }\n",
       "\n",
       "    .dataframe tbody tr th {\n",
       "        vertical-align: top;\n",
       "    }\n",
       "\n",
       "    .dataframe thead th {\n",
       "        text-align: right;\n",
       "    }\n",
       "</style>\n",
       "<table border=\"1\" class=\"dataframe\">\n",
       "  <thead>\n",
       "    <tr style=\"text-align: right;\">\n",
       "      <th></th>\n",
       "      <th>id</th>\n",
       "      <th>type</th>\n",
       "      <th>title</th>\n",
       "      <th>author_affiliations</th>\n",
       "      <th>year</th>\n",
       "      <th>journal.id</th>\n",
       "      <th>journal.title</th>\n",
       "      <th>pages</th>\n",
       "      <th>volume</th>\n",
       "      <th>issue</th>\n",
       "    </tr>\n",
       "  </thead>\n",
       "  <tbody>\n",
       "    <tr>\n",
       "      <th>0</th>\n",
       "      <td>pub.1127418736</td>\n",
       "      <td>article</td>\n",
       "      <td>Mapping geographical inequalities in childhood...</td>\n",
       "      <td>[[{'first_name': 'Robert C', 'last_name': 'Rei...</td>\n",
       "      <td>2020</td>\n",
       "      <td>jour.1077219</td>\n",
       "      <td>The Lancet</td>\n",
       "      <td>NaN</td>\n",
       "      <td>NaN</td>\n",
       "      <td>NaN</td>\n",
       "    </tr>\n",
       "    <tr>\n",
       "      <th>1</th>\n",
       "      <td>pub.1127157285</td>\n",
       "      <td>article</td>\n",
       "      <td>Frequency and management of maternal infection...</td>\n",
       "      <td>[[{'first_name': 'Mercedes', 'last_name': 'Bon...</td>\n",
       "      <td>2020</td>\n",
       "      <td>jour.1048786</td>\n",
       "      <td>The Lancet Global Health</td>\n",
       "      <td>e661-e671</td>\n",
       "      <td>8</td>\n",
       "      <td>5</td>\n",
       "    </tr>\n",
       "    <tr>\n",
       "      <th>2</th>\n",
       "      <td>pub.1126151286</td>\n",
       "      <td>article</td>\n",
       "      <td>Genetic tool development in marine protists: e...</td>\n",
       "      <td>[[{'first_name': 'Drahomíra', 'last_name': 'Fa...</td>\n",
       "      <td>2020</td>\n",
       "      <td>jour.1033763</td>\n",
       "      <td>Nature Methods</td>\n",
       "      <td>481-494</td>\n",
       "      <td>17</td>\n",
       "      <td>5</td>\n",
       "    </tr>\n",
       "    <tr>\n",
       "      <th>3</th>\n",
       "      <td>pub.1127247220</td>\n",
       "      <td>article</td>\n",
       "      <td>A SARS-CoV-2 protein interaction map reveals t...</td>\n",
       "      <td>[[{'first_name': 'David E.', 'last_name': 'Gor...</td>\n",
       "      <td>2020</td>\n",
       "      <td>jour.1018957</td>\n",
       "      <td>Nature</td>\n",
       "      <td>1-13</td>\n",
       "      <td>NaN</td>\n",
       "      <td>NaN</td>\n",
       "    </tr>\n",
       "    <tr>\n",
       "      <th>4</th>\n",
       "      <td>pub.1125560167</td>\n",
       "      <td>article</td>\n",
       "      <td>Triple artemisinin-based combination therapies...</td>\n",
       "      <td>[[{'first_name': 'Rob W', 'last_name': 'van de...</td>\n",
       "      <td>2020</td>\n",
       "      <td>jour.1077219</td>\n",
       "      <td>The Lancet</td>\n",
       "      <td>1345-1360</td>\n",
       "      <td>395</td>\n",
       "      <td>10233</td>\n",
       "    </tr>\n",
       "  </tbody>\n",
       "</table>\n",
       "</div>"
      ],
      "text/plain": [
       "               id     type                                              title  \\\n",
       "0  pub.1127418736  article  Mapping geographical inequalities in childhood...   \n",
       "1  pub.1127157285  article  Frequency and management of maternal infection...   \n",
       "2  pub.1126151286  article  Genetic tool development in marine protists: e...   \n",
       "3  pub.1127247220  article  A SARS-CoV-2 protein interaction map reveals t...   \n",
       "4  pub.1125560167  article  Triple artemisinin-based combination therapies...   \n",
       "\n",
       "                                 author_affiliations  year    journal.id  \\\n",
       "0  [[{'first_name': 'Robert C', 'last_name': 'Rei...  2020  jour.1077219   \n",
       "1  [[{'first_name': 'Mercedes', 'last_name': 'Bon...  2020  jour.1048786   \n",
       "2  [[{'first_name': 'Drahomíra', 'last_name': 'Fa...  2020  jour.1033763   \n",
       "3  [[{'first_name': 'David E.', 'last_name': 'Gor...  2020  jour.1018957   \n",
       "4  [[{'first_name': 'Rob W', 'last_name': 'van de...  2020  jour.1077219   \n",
       "\n",
       "              journal.title      pages volume  issue  \n",
       "0                The Lancet        NaN    NaN    NaN  \n",
       "1  The Lancet Global Health  e661-e671      8      5  \n",
       "2            Nature Methods    481-494     17      5  \n",
       "3                    Nature       1-13    NaN    NaN  \n",
       "4                The Lancet  1345-1360    395  10233  "
      ]
     },
     "execution_count": 27,
     "metadata": {},
     "output_type": "execute_result"
    }
   ],
   "source": [
    "%%dsldf \n",
    "search publications \n",
    "    for \"malaria\" \n",
    "    where count(researchers) > 50 \n",
    "return publications limit 5"
   ]
  },
  {
   "cell_type": "markdown",
   "metadata": {
    "Collapsed": "false"
   },
   "source": [
    "Number of publications with more than one researcher."
   ]
  },
  {
   "cell_type": "code",
   "execution_count": 28,
   "metadata": {
    "Collapsed": "false"
   },
   "outputs": [
    {
     "name": "stdout",
     "output_type": "stream",
     "text": [
      "Returned Funders: 5\n"
     ]
    },
    {
     "data": {
      "text/html": [
       "<div>\n",
       "<style scoped>\n",
       "    .dataframe tbody tr th:only-of-type {\n",
       "        vertical-align: middle;\n",
       "    }\n",
       "\n",
       "    .dataframe tbody tr th {\n",
       "        vertical-align: top;\n",
       "    }\n",
       "\n",
       "    .dataframe thead th {\n",
       "        text-align: right;\n",
       "    }\n",
       "</style>\n",
       "<table border=\"1\" class=\"dataframe\">\n",
       "  <thead>\n",
       "    <tr style=\"text-align: right;\">\n",
       "      <th></th>\n",
       "      <th>id</th>\n",
       "      <th>count</th>\n",
       "      <th>types</th>\n",
       "      <th>city_name</th>\n",
       "      <th>longitude</th>\n",
       "      <th>name</th>\n",
       "      <th>country_name</th>\n",
       "      <th>linkout</th>\n",
       "      <th>acronym</th>\n",
       "      <th>latitude</th>\n",
       "      <th>state_name</th>\n",
       "    </tr>\n",
       "  </thead>\n",
       "  <tbody>\n",
       "    <tr>\n",
       "      <th>0</th>\n",
       "      <td>grid.419696.5</td>\n",
       "      <td>1758857</td>\n",
       "      <td>[Government]</td>\n",
       "      <td>Beijing</td>\n",
       "      <td>116.339830</td>\n",
       "      <td>National Natural Science Foundation of China</td>\n",
       "      <td>China</td>\n",
       "      <td>[http://www.nsfc.gov.cn/publish/portal1/]</td>\n",
       "      <td>NSFC</td>\n",
       "      <td>40.005177</td>\n",
       "      <td>NaN</td>\n",
       "    </tr>\n",
       "    <tr>\n",
       "      <th>1</th>\n",
       "      <td>grid.270680.b</td>\n",
       "      <td>645606</td>\n",
       "      <td>[Government]</td>\n",
       "      <td>Brussels</td>\n",
       "      <td>4.363670</td>\n",
       "      <td>European Commission</td>\n",
       "      <td>Belgium</td>\n",
       "      <td>[http://ec.europa.eu/index_en.htm]</td>\n",
       "      <td>EC</td>\n",
       "      <td>50.851650</td>\n",
       "      <td>NaN</td>\n",
       "    </tr>\n",
       "    <tr>\n",
       "      <th>2</th>\n",
       "      <td>grid.424020.0</td>\n",
       "      <td>565529</td>\n",
       "      <td>[Government]</td>\n",
       "      <td>Beijing</td>\n",
       "      <td>116.316284</td>\n",
       "      <td>Ministry of Science and Technology of the Peop...</td>\n",
       "      <td>China</td>\n",
       "      <td>[http://www.most.gov.cn/eng/]</td>\n",
       "      <td>MOST</td>\n",
       "      <td>39.827835</td>\n",
       "      <td>NaN</td>\n",
       "    </tr>\n",
       "    <tr>\n",
       "      <th>3</th>\n",
       "      <td>grid.48336.3a</td>\n",
       "      <td>554556</td>\n",
       "      <td>[Government]</td>\n",
       "      <td>Rockville</td>\n",
       "      <td>-77.101190</td>\n",
       "      <td>National Cancer Institute</td>\n",
       "      <td>United States</td>\n",
       "      <td>[http://www.cancer.gov/]</td>\n",
       "      <td>NCI</td>\n",
       "      <td>39.004326</td>\n",
       "      <td>Maryland</td>\n",
       "    </tr>\n",
       "    <tr>\n",
       "      <th>4</th>\n",
       "      <td>grid.54432.34</td>\n",
       "      <td>525799</td>\n",
       "      <td>[Nonprofit]</td>\n",
       "      <td>Tokyo</td>\n",
       "      <td>139.740390</td>\n",
       "      <td>Japan Society for the Promotion of Science</td>\n",
       "      <td>Japan</td>\n",
       "      <td>[http://www.jsps.go.jp/]</td>\n",
       "      <td>JSPS</td>\n",
       "      <td>35.687160</td>\n",
       "      <td>NaN</td>\n",
       "    </tr>\n",
       "  </tbody>\n",
       "</table>\n",
       "</div>"
      ],
      "text/plain": [
       "              id    count         types  city_name   longitude  \\\n",
       "0  grid.419696.5  1758857  [Government]    Beijing  116.339830   \n",
       "1  grid.270680.b   645606  [Government]   Brussels    4.363670   \n",
       "2  grid.424020.0   565529  [Government]    Beijing  116.316284   \n",
       "3  grid.48336.3a   554556  [Government]  Rockville  -77.101190   \n",
       "4  grid.54432.34   525799   [Nonprofit]      Tokyo  139.740390   \n",
       "\n",
       "                                                name   country_name  \\\n",
       "0       National Natural Science Foundation of China          China   \n",
       "1                                European Commission        Belgium   \n",
       "2  Ministry of Science and Technology of the Peop...          China   \n",
       "3                          National Cancer Institute  United States   \n",
       "4         Japan Society for the Promotion of Science          Japan   \n",
       "\n",
       "                                     linkout acronym   latitude state_name  \n",
       "0  [http://www.nsfc.gov.cn/publish/portal1/]    NSFC  40.005177        NaN  \n",
       "1         [http://ec.europa.eu/index_en.htm]      EC  50.851650        NaN  \n",
       "2              [http://www.most.gov.cn/eng/]    MOST  39.827835        NaN  \n",
       "3                   [http://www.cancer.gov/]     NCI  39.004326   Maryland  \n",
       "4                   [http://www.jsps.go.jp/]    JSPS  35.687160        NaN  "
      ]
     },
     "execution_count": 28,
     "metadata": {},
     "output_type": "execute_result"
    }
   ],
   "source": [
    "%%dsldf \n",
    "search publications\n",
    "where count(researchers) > 1\n",
    "return funders limit 5"
   ]
  },
  {
   "cell_type": "markdown",
   "metadata": {
    "Collapsed": "false"
   },
   "source": [
    "International collaborations: number of publications with more than one author and affiliations located in more than one country."
   ]
  },
  {
   "cell_type": "code",
   "execution_count": 29,
   "metadata": {
    "Collapsed": "false"
   },
   "outputs": [
    {
     "name": "stdout",
     "output_type": "stream",
     "text": [
      "Returned Funders: 5\n"
     ]
    },
    {
     "data": {
      "text/html": [
       "<div>\n",
       "<style scoped>\n",
       "    .dataframe tbody tr th:only-of-type {\n",
       "        vertical-align: middle;\n",
       "    }\n",
       "\n",
       "    .dataframe tbody tr th {\n",
       "        vertical-align: top;\n",
       "    }\n",
       "\n",
       "    .dataframe thead th {\n",
       "        text-align: right;\n",
       "    }\n",
       "</style>\n",
       "<table border=\"1\" class=\"dataframe\">\n",
       "  <thead>\n",
       "    <tr style=\"text-align: right;\">\n",
       "      <th></th>\n",
       "      <th>id</th>\n",
       "      <th>count</th>\n",
       "      <th>types</th>\n",
       "      <th>city_name</th>\n",
       "      <th>longitude</th>\n",
       "      <th>name</th>\n",
       "      <th>country_name</th>\n",
       "      <th>linkout</th>\n",
       "      <th>acronym</th>\n",
       "      <th>latitude</th>\n",
       "    </tr>\n",
       "  </thead>\n",
       "  <tbody>\n",
       "    <tr>\n",
       "      <th>0</th>\n",
       "      <td>grid.419696.5</td>\n",
       "      <td>433678</td>\n",
       "      <td>[Government]</td>\n",
       "      <td>Beijing</td>\n",
       "      <td>116.339830</td>\n",
       "      <td>National Natural Science Foundation of China</td>\n",
       "      <td>China</td>\n",
       "      <td>[http://www.nsfc.gov.cn/publish/portal1/]</td>\n",
       "      <td>NSFC</td>\n",
       "      <td>40.005177</td>\n",
       "    </tr>\n",
       "    <tr>\n",
       "      <th>1</th>\n",
       "      <td>grid.270680.b</td>\n",
       "      <td>331110</td>\n",
       "      <td>[Government]</td>\n",
       "      <td>Brussels</td>\n",
       "      <td>4.363670</td>\n",
       "      <td>European Commission</td>\n",
       "      <td>Belgium</td>\n",
       "      <td>[http://ec.europa.eu/index_en.htm]</td>\n",
       "      <td>EC</td>\n",
       "      <td>50.851650</td>\n",
       "    </tr>\n",
       "    <tr>\n",
       "      <th>2</th>\n",
       "      <td>grid.424150.6</td>\n",
       "      <td>150024</td>\n",
       "      <td>[Facility]</td>\n",
       "      <td>Bonn</td>\n",
       "      <td>7.147797</td>\n",
       "      <td>German Research Foundation</td>\n",
       "      <td>Germany</td>\n",
       "      <td>[http://www.dfg.de/en/]</td>\n",
       "      <td>DFG</td>\n",
       "      <td>50.699340</td>\n",
       "    </tr>\n",
       "    <tr>\n",
       "      <th>3</th>\n",
       "      <td>grid.424020.0</td>\n",
       "      <td>143572</td>\n",
       "      <td>[Government]</td>\n",
       "      <td>Beijing</td>\n",
       "      <td>116.316284</td>\n",
       "      <td>Ministry of Science and Technology of the Peop...</td>\n",
       "      <td>China</td>\n",
       "      <td>[http://www.most.gov.cn/eng/]</td>\n",
       "      <td>MOST</td>\n",
       "      <td>39.827835</td>\n",
       "    </tr>\n",
       "    <tr>\n",
       "      <th>4</th>\n",
       "      <td>grid.54432.34</td>\n",
       "      <td>132520</td>\n",
       "      <td>[Nonprofit]</td>\n",
       "      <td>Tokyo</td>\n",
       "      <td>139.740390</td>\n",
       "      <td>Japan Society for the Promotion of Science</td>\n",
       "      <td>Japan</td>\n",
       "      <td>[http://www.jsps.go.jp/]</td>\n",
       "      <td>JSPS</td>\n",
       "      <td>35.687160</td>\n",
       "    </tr>\n",
       "  </tbody>\n",
       "</table>\n",
       "</div>"
      ],
      "text/plain": [
       "              id   count         types city_name   longitude  \\\n",
       "0  grid.419696.5  433678  [Government]   Beijing  116.339830   \n",
       "1  grid.270680.b  331110  [Government]  Brussels    4.363670   \n",
       "2  grid.424150.6  150024    [Facility]      Bonn    7.147797   \n",
       "3  grid.424020.0  143572  [Government]   Beijing  116.316284   \n",
       "4  grid.54432.34  132520   [Nonprofit]     Tokyo  139.740390   \n",
       "\n",
       "                                                name country_name  \\\n",
       "0       National Natural Science Foundation of China        China   \n",
       "1                                European Commission      Belgium   \n",
       "2                         German Research Foundation      Germany   \n",
       "3  Ministry of Science and Technology of the Peop...        China   \n",
       "4         Japan Society for the Promotion of Science        Japan   \n",
       "\n",
       "                                     linkout acronym   latitude  \n",
       "0  [http://www.nsfc.gov.cn/publish/portal1/]    NSFC  40.005177  \n",
       "1         [http://ec.europa.eu/index_en.htm]      EC  50.851650  \n",
       "2                    [http://www.dfg.de/en/]     DFG  50.699340  \n",
       "3              [http://www.most.gov.cn/eng/]    MOST  39.827835  \n",
       "4                   [http://www.jsps.go.jp/]    JSPS  35.687160  "
      ]
     },
     "execution_count": 29,
     "metadata": {},
     "output_type": "execute_result"
    }
   ],
   "source": [
    "%%dsldf \n",
    "search publications\n",
    "where count(researchers) > 1\n",
    "and count(research_org_countries) > 1\n",
    "return funders limit 5"
   ]
  },
  {
   "cell_type": "markdown",
   "metadata": {
    "Collapsed": "false"
   },
   "source": [
    "Domestic collaborations: number of publications with more than one author and more than one affiliation located in exactly one country."
   ]
  },
  {
   "cell_type": "code",
   "execution_count": 30,
   "metadata": {
    "Collapsed": "false"
   },
   "outputs": [
    {
     "name": "stdout",
     "output_type": "stream",
     "text": [
      "Returned Funders: 5\n"
     ]
    },
    {
     "data": {
      "text/html": [
       "<div>\n",
       "<style scoped>\n",
       "    .dataframe tbody tr th:only-of-type {\n",
       "        vertical-align: middle;\n",
       "    }\n",
       "\n",
       "    .dataframe tbody tr th {\n",
       "        vertical-align: top;\n",
       "    }\n",
       "\n",
       "    .dataframe thead th {\n",
       "        text-align: right;\n",
       "    }\n",
       "</style>\n",
       "<table border=\"1\" class=\"dataframe\">\n",
       "  <thead>\n",
       "    <tr style=\"text-align: right;\">\n",
       "      <th></th>\n",
       "      <th>id</th>\n",
       "      <th>count</th>\n",
       "      <th>types</th>\n",
       "      <th>city_name</th>\n",
       "      <th>longitude</th>\n",
       "      <th>name</th>\n",
       "      <th>country_name</th>\n",
       "      <th>linkout</th>\n",
       "      <th>acronym</th>\n",
       "      <th>latitude</th>\n",
       "      <th>state_name</th>\n",
       "    </tr>\n",
       "  </thead>\n",
       "  <tbody>\n",
       "    <tr>\n",
       "      <th>0</th>\n",
       "      <td>grid.419696.5</td>\n",
       "      <td>1285232</td>\n",
       "      <td>[Government]</td>\n",
       "      <td>Beijing</td>\n",
       "      <td>116.339830</td>\n",
       "      <td>National Natural Science Foundation of China</td>\n",
       "      <td>China</td>\n",
       "      <td>[http://www.nsfc.gov.cn/publish/portal1/]</td>\n",
       "      <td>NSFC</td>\n",
       "      <td>40.005177</td>\n",
       "      <td>NaN</td>\n",
       "    </tr>\n",
       "    <tr>\n",
       "      <th>1</th>\n",
       "      <td>grid.424020.0</td>\n",
       "      <td>411382</td>\n",
       "      <td>[Government]</td>\n",
       "      <td>Beijing</td>\n",
       "      <td>116.316284</td>\n",
       "      <td>Ministry of Science and Technology of the Peop...</td>\n",
       "      <td>China</td>\n",
       "      <td>[http://www.most.gov.cn/eng/]</td>\n",
       "      <td>MOST</td>\n",
       "      <td>39.827835</td>\n",
       "      <td>NaN</td>\n",
       "    </tr>\n",
       "    <tr>\n",
       "      <th>2</th>\n",
       "      <td>grid.48336.3a</td>\n",
       "      <td>406370</td>\n",
       "      <td>[Government]</td>\n",
       "      <td>Rockville</td>\n",
       "      <td>-77.101190</td>\n",
       "      <td>National Cancer Institute</td>\n",
       "      <td>United States</td>\n",
       "      <td>[http://www.cancer.gov/]</td>\n",
       "      <td>NCI</td>\n",
       "      <td>39.004326</td>\n",
       "      <td>Maryland</td>\n",
       "    </tr>\n",
       "    <tr>\n",
       "      <th>3</th>\n",
       "      <td>grid.54432.34</td>\n",
       "      <td>361012</td>\n",
       "      <td>[Nonprofit]</td>\n",
       "      <td>Tokyo</td>\n",
       "      <td>139.740390</td>\n",
       "      <td>Japan Society for the Promotion of Science</td>\n",
       "      <td>Japan</td>\n",
       "      <td>[http://www.jsps.go.jp/]</td>\n",
       "      <td>JSPS</td>\n",
       "      <td>35.687160</td>\n",
       "      <td>NaN</td>\n",
       "    </tr>\n",
       "    <tr>\n",
       "      <th>4</th>\n",
       "      <td>grid.280785.0</td>\n",
       "      <td>314257</td>\n",
       "      <td>[Facility]</td>\n",
       "      <td>Bethesda</td>\n",
       "      <td>-77.099380</td>\n",
       "      <td>National Institute of General Medical Sciences</td>\n",
       "      <td>United States</td>\n",
       "      <td>[http://www.nigms.nih.gov/Pages/default.aspx]</td>\n",
       "      <td>NIGMS</td>\n",
       "      <td>38.997833</td>\n",
       "      <td>Maryland</td>\n",
       "    </tr>\n",
       "  </tbody>\n",
       "</table>\n",
       "</div>"
      ],
      "text/plain": [
       "              id    count         types  city_name   longitude  \\\n",
       "0  grid.419696.5  1285232  [Government]    Beijing  116.339830   \n",
       "1  grid.424020.0   411382  [Government]    Beijing  116.316284   \n",
       "2  grid.48336.3a   406370  [Government]  Rockville  -77.101190   \n",
       "3  grid.54432.34   361012   [Nonprofit]      Tokyo  139.740390   \n",
       "4  grid.280785.0   314257    [Facility]   Bethesda  -77.099380   \n",
       "\n",
       "                                                name   country_name  \\\n",
       "0       National Natural Science Foundation of China          China   \n",
       "1  Ministry of Science and Technology of the Peop...          China   \n",
       "2                          National Cancer Institute  United States   \n",
       "3         Japan Society for the Promotion of Science          Japan   \n",
       "4     National Institute of General Medical Sciences  United States   \n",
       "\n",
       "                                         linkout acronym   latitude state_name  \n",
       "0      [http://www.nsfc.gov.cn/publish/portal1/]    NSFC  40.005177        NaN  \n",
       "1                  [http://www.most.gov.cn/eng/]    MOST  39.827835        NaN  \n",
       "2                       [http://www.cancer.gov/]     NCI  39.004326   Maryland  \n",
       "3                       [http://www.jsps.go.jp/]    JSPS  35.687160        NaN  \n",
       "4  [http://www.nigms.nih.gov/Pages/default.aspx]   NIGMS  38.997833   Maryland  "
      ]
     },
     "execution_count": 30,
     "metadata": {},
     "output_type": "execute_result"
    }
   ],
   "source": [
    "%%dsldf \n",
    "search publications\n",
    "where count(researchers) > 1\n",
    "and count(research_org_countries) = 1\n",
    "return funders limit 5"
   ]
  },
  {
   "cell_type": "markdown",
   "metadata": {
    "Collapsed": "false"
   },
   "source": [
    "### 3.4 Filter Operators\n",
    "\n",
    "A simple filter expression consists of a `field` name, an in-/equality\n",
    "operator `op`, and the desired field `value`. \n",
    "\n",
    "The `value` must be a\n",
    "`string` enclosed in double quotes (`\"`) or an integer (e.g. `1234`).\n",
    "\n",
    "The available operators are:\n",
    "\n",
    "| `op`           | meaning                                                                                  |\n",
    "|----------------|------------------------------------------------------------------------------------------|\n",
    "| `=`            | *is* (or *contains* if the given `field` is multi-value)                                 |\n",
    "| `!=`           | *is not*                                                                                 |\n",
    "| `>`            | *is greater than*                                                                        |\n",
    "| `<`            | *is less than*                                                                           |\n",
    "| `>=`           | *is greater than or equal to*                                                            |\n",
    "| `<=`           | *is less than or equal to*                                                               |\n",
    "| `~`            | *partially matches* (see partial-string-matching below) |\n",
    "| `is empty`     | *is empty* (see emptiness-filters below)                      |\n",
    "| `is not empty` | *is not empty* (see emptiness-filters below)                  |"
   ]
  },
  {
   "cell_type": "markdown",
   "metadata": {
    "Collapsed": "false"
   },
   "source": [
    "A couple of examples "
   ]
  },
  {
   "cell_type": "code",
   "execution_count": 31,
   "metadata": {
    "Collapsed": "false"
   },
   "outputs": [
    {
     "name": "stdout",
     "output_type": "stream",
     "text": [
      "Returned Datasets: 5 (total = 38341)\n"
     ]
    },
    {
     "data": {
      "text/html": [
       "<div>\n",
       "<style scoped>\n",
       "    .dataframe tbody tr th:only-of-type {\n",
       "        vertical-align: middle;\n",
       "    }\n",
       "\n",
       "    .dataframe tbody tr th {\n",
       "        vertical-align: top;\n",
       "    }\n",
       "\n",
       "    .dataframe thead th {\n",
       "        text-align: right;\n",
       "    }\n",
       "</style>\n",
       "<table border=\"1\" class=\"dataframe\">\n",
       "  <thead>\n",
       "    <tr style=\"text-align: right;\">\n",
       "      <th></th>\n",
       "      <th>authors</th>\n",
       "      <th>keywords</th>\n",
       "      <th>id</th>\n",
       "      <th>title</th>\n",
       "      <th>year</th>\n",
       "      <th>journal.id</th>\n",
       "      <th>journal.title</th>\n",
       "    </tr>\n",
       "  </thead>\n",
       "  <tbody>\n",
       "    <tr>\n",
       "      <th>0</th>\n",
       "      <td>[{'name': 'Minna Väliranta', 'orcid': ''}, {'n...</td>\n",
       "      <td>[PANGAEA]</td>\n",
       "      <td>10993892</td>\n",
       "      <td>(Table 1) Radiocarbon ages of samples taken fr...</td>\n",
       "      <td>2011</td>\n",
       "      <td>jour.1020344</td>\n",
       "      <td>Journal of Biogeography</td>\n",
       "    </tr>\n",
       "    <tr>\n",
       "      <th>1</th>\n",
       "      <td>[{'name': 'Charles-Edouard Thuróczy', 'orcid':...</td>\n",
       "      <td>[PANGAEA]</td>\n",
       "      <td>10993247</td>\n",
       "      <td>Average fluorescence and dissolved iron and Fe...</td>\n",
       "      <td>2011</td>\n",
       "      <td>jour.1023157</td>\n",
       "      <td>Deep Sea Research Part II Topical Studies in O...</td>\n",
       "    </tr>\n",
       "    <tr>\n",
       "      <th>2</th>\n",
       "      <td>[{'name': 'Charles-Edouard Thuróczy', 'orcid':...</td>\n",
       "      <td>[PANGAEA]</td>\n",
       "      <td>10993244</td>\n",
       "      <td>(Table 1) Average fluorescence in the surface ...</td>\n",
       "      <td>2011</td>\n",
       "      <td>NaN</td>\n",
       "      <td>NaN</td>\n",
       "    </tr>\n",
       "    <tr>\n",
       "      <th>3</th>\n",
       "      <td>[{'name': 'Charles-Edouard Thuróczy', 'orcid':...</td>\n",
       "      <td>[PANGAEA]</td>\n",
       "      <td>10993241</td>\n",
       "      <td>Dissolved and dissolvable iron concentrations ...</td>\n",
       "      <td>2011</td>\n",
       "      <td>jour.1312079</td>\n",
       "      <td>Journal of Geophysical Research</td>\n",
       "    </tr>\n",
       "    <tr>\n",
       "      <th>4</th>\n",
       "      <td>[{'name': 'Jean-François Therrien', 'orcid': '...</td>\n",
       "      <td>[PANGAEA]</td>\n",
       "      <td>10993193</td>\n",
       "      <td>(Table 1) Movement parameters of nine adult fe...</td>\n",
       "      <td>2011</td>\n",
       "      <td>jour.1023041</td>\n",
       "      <td>Journal of Avian Biology</td>\n",
       "    </tr>\n",
       "  </tbody>\n",
       "</table>\n",
       "</div>"
      ],
      "text/plain": [
       "                                             authors   keywords        id  \\\n",
       "0  [{'name': 'Minna Väliranta', 'orcid': ''}, {'n...  [PANGAEA]  10993892   \n",
       "1  [{'name': 'Charles-Edouard Thuróczy', 'orcid':...  [PANGAEA]  10993247   \n",
       "2  [{'name': 'Charles-Edouard Thuróczy', 'orcid':...  [PANGAEA]  10993244   \n",
       "3  [{'name': 'Charles-Edouard Thuróczy', 'orcid':...  [PANGAEA]  10993241   \n",
       "4  [{'name': 'Jean-François Therrien', 'orcid': '...  [PANGAEA]  10993193   \n",
       "\n",
       "                                               title  year    journal.id  \\\n",
       "0  (Table 1) Radiocarbon ages of samples taken fr...  2011  jour.1020344   \n",
       "1  Average fluorescence and dissolved iron and Fe...  2011  jour.1023157   \n",
       "2  (Table 1) Average fluorescence in the surface ...  2011           NaN   \n",
       "3  Dissolved and dissolvable iron concentrations ...  2011  jour.1312079   \n",
       "4  (Table 1) Movement parameters of nine adult fe...  2011  jour.1023041   \n",
       "\n",
       "                                       journal.title  \n",
       "0                            Journal of Biogeography  \n",
       "1  Deep Sea Research Part II Topical Studies in O...  \n",
       "2                                                NaN  \n",
       "3                    Journal of Geophysical Research  \n",
       "4                           Journal of Avian Biology  "
      ]
     },
     "execution_count": 31,
     "metadata": {},
     "output_type": "execute_result"
    }
   ],
   "source": [
    "%dsldf search datasets where year > 2010 and year < 2012 return datasets limit 5"
   ]
  },
  {
   "cell_type": "code",
   "execution_count": 32,
   "metadata": {
    "Collapsed": "false"
   },
   "outputs": [
    {
     "name": "stdout",
     "output_type": "stream",
     "text": [
      "Returned Patents: 5 (total = 39704493)\n"
     ]
    },
    {
     "data": {
      "text/html": [
       "<div>\n",
       "<style scoped>\n",
       "    .dataframe tbody tr th:only-of-type {\n",
       "        vertical-align: middle;\n",
       "    }\n",
       "\n",
       "    .dataframe tbody tr th {\n",
       "        vertical-align: top;\n",
       "    }\n",
       "\n",
       "    .dataframe thead th {\n",
       "        text-align: right;\n",
       "    }\n",
       "</style>\n",
       "<table border=\"1\" class=\"dataframe\">\n",
       "  <thead>\n",
       "    <tr style=\"text-align: right;\">\n",
       "      <th></th>\n",
       "      <th>publication_date</th>\n",
       "      <th>inventor_names</th>\n",
       "      <th>granted_year</th>\n",
       "      <th>filing_status</th>\n",
       "      <th>assignees</th>\n",
       "      <th>assignee_names</th>\n",
       "      <th>id</th>\n",
       "      <th>title</th>\n",
       "      <th>times_cited</th>\n",
       "      <th>year</th>\n",
       "    </tr>\n",
       "  </thead>\n",
       "  <tbody>\n",
       "    <tr>\n",
       "      <th>0</th>\n",
       "      <td>2009-12-09</td>\n",
       "      <td>[TUMBACK, STEFAN, SCHNELLE, KLAUS-PETER]</td>\n",
       "      <td>2009.0</td>\n",
       "      <td>Grant</td>\n",
       "      <td>[{'id': 'grid.6584.f', 'city_name': 'Stuttgart...</td>\n",
       "      <td>[Robert Bosch GmbH, BOSCH GMBH ROBERT]</td>\n",
       "      <td>EP-1409282-B1</td>\n",
       "      <td>METHODS FOR OPERATING A MOTOR VEHICLE DRIVEN B...</td>\n",
       "      <td>0</td>\n",
       "      <td>2001</td>\n",
       "    </tr>\n",
       "    <tr>\n",
       "      <th>1</th>\n",
       "      <td>2009-12-10</td>\n",
       "      <td>[SHKEDI, ROY]</td>\n",
       "      <td>NaN</td>\n",
       "      <td>Application</td>\n",
       "      <td>NaN</td>\n",
       "      <td>[SHKEDI ROY]</td>\n",
       "      <td>WO-2009149128-A2</td>\n",
       "      <td>TARGETED TELEVISION ADVERTISEMENTS ASSOCIATED ...</td>\n",
       "      <td>1</td>\n",
       "      <td>2009</td>\n",
       "    </tr>\n",
       "    <tr>\n",
       "      <th>2</th>\n",
       "      <td>2009-12-09</td>\n",
       "      <td>[RIVIELLO, JOHN, M., REY, MARIA, A.]</td>\n",
       "      <td>2009.0</td>\n",
       "      <td>Grant</td>\n",
       "      <td>[{'id': 'grid.418190.5', 'acronym': 'Life Tech...</td>\n",
       "      <td>[Dionex Corp, DIONEX CORP]</td>\n",
       "      <td>EP-0868664-B1</td>\n",
       "      <td>MULTI-CYCLE LOOP INJECTION FOR TRACE ANALYSIS ...</td>\n",
       "      <td>0</td>\n",
       "      <td>1996</td>\n",
       "    </tr>\n",
       "    <tr>\n",
       "      <th>3</th>\n",
       "      <td>2009-12-09</td>\n",
       "      <td>[TANAKA, EIJI, HIGASHI, TAMIO, KITAMURA, TAKAN...</td>\n",
       "      <td>2009.0</td>\n",
       "      <td>Grant</td>\n",
       "      <td>[{'id': 'grid.471210.1', 'city_name': 'Tokyo',...</td>\n",
       "      <td>[Kuraray Co Ltd, KURARAY CO]</td>\n",
       "      <td>EP-0861808-B1</td>\n",
       "      <td>Waste water treatment apparatus</td>\n",
       "      <td>1</td>\n",
       "      <td>1998</td>\n",
       "    </tr>\n",
       "    <tr>\n",
       "      <th>4</th>\n",
       "      <td>2009-12-09</td>\n",
       "      <td>[NAKAI, MICHIHIRO, SHIMA, KENSUKE, HIDAKA, HIR...</td>\n",
       "      <td>2009.0</td>\n",
       "      <td>Grant</td>\n",
       "      <td>[{'id': 'grid.471143.4', 'city_name': 'Tokyo',...</td>\n",
       "      <td>[Fujikura Ltd, FUJIKURA LTD]</td>\n",
       "      <td>EP-0805365-B1</td>\n",
       "      <td>Optical waveguide grating and production metho...</td>\n",
       "      <td>0</td>\n",
       "      <td>1997</td>\n",
       "    </tr>\n",
       "  </tbody>\n",
       "</table>\n",
       "</div>"
      ],
      "text/plain": [
       "  publication_date                                     inventor_names  \\\n",
       "0       2009-12-09           [TUMBACK, STEFAN, SCHNELLE, KLAUS-PETER]   \n",
       "1       2009-12-10                                      [SHKEDI, ROY]   \n",
       "2       2009-12-09               [RIVIELLO, JOHN, M., REY, MARIA, A.]   \n",
       "3       2009-12-09  [TANAKA, EIJI, HIGASHI, TAMIO, KITAMURA, TAKAN...   \n",
       "4       2009-12-09  [NAKAI, MICHIHIRO, SHIMA, KENSUKE, HIDAKA, HIR...   \n",
       "\n",
       "   granted_year filing_status  \\\n",
       "0        2009.0         Grant   \n",
       "1           NaN   Application   \n",
       "2        2009.0         Grant   \n",
       "3        2009.0         Grant   \n",
       "4        2009.0         Grant   \n",
       "\n",
       "                                           assignees  \\\n",
       "0  [{'id': 'grid.6584.f', 'city_name': 'Stuttgart...   \n",
       "1                                                NaN   \n",
       "2  [{'id': 'grid.418190.5', 'acronym': 'Life Tech...   \n",
       "3  [{'id': 'grid.471210.1', 'city_name': 'Tokyo',...   \n",
       "4  [{'id': 'grid.471143.4', 'city_name': 'Tokyo',...   \n",
       "\n",
       "                           assignee_names                id  \\\n",
       "0  [Robert Bosch GmbH, BOSCH GMBH ROBERT]     EP-1409282-B1   \n",
       "1                            [SHKEDI ROY]  WO-2009149128-A2   \n",
       "2              [Dionex Corp, DIONEX CORP]     EP-0868664-B1   \n",
       "3            [Kuraray Co Ltd, KURARAY CO]     EP-0861808-B1   \n",
       "4            [Fujikura Ltd, FUJIKURA LTD]     EP-0805365-B1   \n",
       "\n",
       "                                               title  times_cited  year  \n",
       "0  METHODS FOR OPERATING A MOTOR VEHICLE DRIVEN B...            0  2001  \n",
       "1  TARGETED TELEVISION ADVERTISEMENTS ASSOCIATED ...            1  2009  \n",
       "2  MULTI-CYCLE LOOP INJECTION FOR TRACE ANALYSIS ...            0  1996  \n",
       "3                    Waste water treatment apparatus            1  1998  \n",
       "4  Optical waveguide grating and production metho...            0  1997  "
      ]
     },
     "execution_count": 32,
     "metadata": {},
     "output_type": "execute_result"
    }
   ],
   "source": [
    "%dsldf search patents where assignees != \"grid.410484.d\" return patents limit 5"
   ]
  },
  {
   "cell_type": "markdown",
   "metadata": {
    "Collapsed": "false"
   },
   "source": [
    "### 3.5 Partial string matching with `~`\n",
    "\n",
    "The `~` operator indicates that the given `field` need only partially,\n",
    "instead of exactly, match the given `string` (the `value` used with this\n",
    "operator must be a `string`, not an integer).\n",
    "\n",
    "For example, the filter `where research_orgs.name~\"Saarland Uni\"` would\n",
    "match both the organization named \"Saarland University\" and the one\n",
    "named \"Universitätsklinikum des Saarlandes\", and any other organization\n",
    "whose name includes the terms \"Saarland\" and \"Uni\" (the order is\n",
    "unimportant). "
   ]
  },
  {
   "cell_type": "code",
   "execution_count": 33,
   "metadata": {
    "Collapsed": "false"
   },
   "outputs": [
    {
     "name": "stdout",
     "output_type": "stream",
     "text": [
      "Returned Assignees: 5\n"
     ]
    },
    {
     "data": {
      "text/html": [
       "<div>\n",
       "<style scoped>\n",
       "    .dataframe tbody tr th:only-of-type {\n",
       "        vertical-align: middle;\n",
       "    }\n",
       "\n",
       "    .dataframe tbody tr th {\n",
       "        vertical-align: top;\n",
       "    }\n",
       "\n",
       "    .dataframe thead th {\n",
       "        text-align: right;\n",
       "    }\n",
       "</style>\n",
       "<table border=\"1\" class=\"dataframe\">\n",
       "  <thead>\n",
       "    <tr style=\"text-align: right;\">\n",
       "      <th></th>\n",
       "      <th>id</th>\n",
       "      <th>count</th>\n",
       "      <th>city_name</th>\n",
       "      <th>name</th>\n",
       "      <th>country_name</th>\n",
       "    </tr>\n",
       "  </thead>\n",
       "  <tbody>\n",
       "    <tr>\n",
       "      <th>0</th>\n",
       "      <td>grid.410484.d</td>\n",
       "      <td>329418</td>\n",
       "      <td>Armonk</td>\n",
       "      <td>IBM (United States)</td>\n",
       "      <td>United States</td>\n",
       "    </tr>\n",
       "    <tr>\n",
       "      <th>1</th>\n",
       "      <td>grid.471366.1</td>\n",
       "      <td>22089</td>\n",
       "      <td>George Town</td>\n",
       "      <td>GlobalFoundries (Cayman Islands)</td>\n",
       "      <td>Cayman Islands</td>\n",
       "    </tr>\n",
       "    <tr>\n",
       "      <th>2</th>\n",
       "      <td>grid.14648.3f</td>\n",
       "      <td>5071</td>\n",
       "      <td>Winchester</td>\n",
       "      <td>IBM (United Kingdom)</td>\n",
       "      <td>United Kingdom</td>\n",
       "    </tr>\n",
       "    <tr>\n",
       "      <th>3</th>\n",
       "      <td>grid.420451.6</td>\n",
       "      <td>3555</td>\n",
       "      <td>Mountain View</td>\n",
       "      <td>Google</td>\n",
       "      <td>United States</td>\n",
       "    </tr>\n",
       "    <tr>\n",
       "      <th>4</th>\n",
       "      <td>grid.472772.3</td>\n",
       "      <td>2717</td>\n",
       "      <td>Beijing</td>\n",
       "      <td>Lenovo (China)</td>\n",
       "      <td>China</td>\n",
       "    </tr>\n",
       "  </tbody>\n",
       "</table>\n",
       "</div>"
      ],
      "text/plain": [
       "              id   count      city_name                              name  \\\n",
       "0  grid.410484.d  329418         Armonk               IBM (United States)   \n",
       "1  grid.471366.1   22089    George Town  GlobalFoundries (Cayman Islands)   \n",
       "2  grid.14648.3f    5071     Winchester              IBM (United Kingdom)   \n",
       "3  grid.420451.6    3555  Mountain View                            Google   \n",
       "4  grid.472772.3    2717        Beijing                    Lenovo (China)   \n",
       "\n",
       "     country_name  \n",
       "0   United States  \n",
       "1  Cayman Islands  \n",
       "2  United Kingdom  \n",
       "3   United States  \n",
       "4           China  "
      ]
     },
     "execution_count": 33,
     "metadata": {},
     "output_type": "execute_result"
    }
   ],
   "source": [
    "%%dsldf \n",
    "search patents \n",
    "    where assignee_names ~ \"IBM\" \n",
    "return assignees limit 5"
   ]
  },
  {
   "cell_type": "markdown",
   "metadata": {
    "Collapsed": "false"
   },
   "source": [
    "### 3.6 Emptiness filters `is empty`\n",
    "\n",
    "To filter records which contain specific field or to filter those which\n",
    "contain an empty field, it is possible to use something like\n",
    "`where research_orgs is not empty` or `where issn is empty`."
   ]
  },
  {
   "cell_type": "code",
   "execution_count": 34,
   "metadata": {
    "Collapsed": "false"
   },
   "outputs": [
    {
     "name": "stdout",
     "output_type": "stream",
     "text": [
      "Returned Publications: 5 (total = 2066)\n"
     ]
    },
    {
     "data": {
      "text/html": [
       "<div>\n",
       "<style scoped>\n",
       "    .dataframe tbody tr th:only-of-type {\n",
       "        vertical-align: middle;\n",
       "    }\n",
       "\n",
       "    .dataframe tbody tr th {\n",
       "        vertical-align: top;\n",
       "    }\n",
       "\n",
       "    .dataframe thead th {\n",
       "        text-align: right;\n",
       "    }\n",
       "</style>\n",
       "<table border=\"1\" class=\"dataframe\">\n",
       "  <thead>\n",
       "    <tr style=\"text-align: right;\">\n",
       "      <th></th>\n",
       "      <th>type</th>\n",
       "      <th>research_orgs</th>\n",
       "      <th>id</th>\n",
       "      <th>title</th>\n",
       "    </tr>\n",
       "  </thead>\n",
       "  <tbody>\n",
       "    <tr>\n",
       "      <th>0</th>\n",
       "      <td>article</td>\n",
       "      <td>[{'id': 'grid.411507.6', 'country_name': 'Indi...</td>\n",
       "      <td>pub.1127980991</td>\n",
       "      <td>Sensitive determination of kojic acid in tomat...</td>\n",
       "    </tr>\n",
       "    <tr>\n",
       "      <th>1</th>\n",
       "      <td>article</td>\n",
       "      <td>[{'id': 'grid.411507.6', 'country_name': 'Indi...</td>\n",
       "      <td>pub.1127901191</td>\n",
       "      <td>Copper oxide immobilized clay nano architectur...</td>\n",
       "    </tr>\n",
       "    <tr>\n",
       "      <th>2</th>\n",
       "      <td>article</td>\n",
       "      <td>[{'id': 'grid.33764.35', 'country_name': 'Chin...</td>\n",
       "      <td>pub.1125095130</td>\n",
       "      <td>Molecular Dynamics Simulations of Melting Iron...</td>\n",
       "    </tr>\n",
       "    <tr>\n",
       "      <th>3</th>\n",
       "      <td>article</td>\n",
       "      <td>[{'id': 'grid.411510.0', 'country_name': 'Chin...</td>\n",
       "      <td>pub.1124438091</td>\n",
       "      <td>Sulfur-Doped Alkylated Graphene Oxide as High-...</td>\n",
       "    </tr>\n",
       "    <tr>\n",
       "      <th>4</th>\n",
       "      <td>article</td>\n",
       "      <td>[{'id': 'grid.410726.6', 'country_name': 'Chin...</td>\n",
       "      <td>pub.1127875464</td>\n",
       "      <td>Application of Raman spectroscopy to probe fun...</td>\n",
       "    </tr>\n",
       "  </tbody>\n",
       "</table>\n",
       "</div>"
      ],
      "text/plain": [
       "      type                                      research_orgs              id  \\\n",
       "0  article  [{'id': 'grid.411507.6', 'country_name': 'Indi...  pub.1127980991   \n",
       "1  article  [{'id': 'grid.411507.6', 'country_name': 'Indi...  pub.1127901191   \n",
       "2  article  [{'id': 'grid.33764.35', 'country_name': 'Chin...  pub.1125095130   \n",
       "3  article  [{'id': 'grid.411510.0', 'country_name': 'Chin...  pub.1124438091   \n",
       "4  article  [{'id': 'grid.410726.6', 'country_name': 'Chin...  pub.1127875464   \n",
       "\n",
       "                                               title  \n",
       "0  Sensitive determination of kojic acid in tomat...  \n",
       "1  Copper oxide immobilized clay nano architectur...  \n",
       "2  Molecular Dynamics Simulations of Melting Iron...  \n",
       "3  Sulfur-Doped Alkylated Graphene Oxide as High-...  \n",
       "4  Application of Raman spectroscopy to probe fun...  "
      ]
     },
     "execution_count": 34,
     "metadata": {},
     "output_type": "execute_result"
    }
   ],
   "source": [
    "%%dsldf\n",
    "search publications \n",
    "    for \"iron graphene\" \n",
    "    where researchers is empty \n",
    "    and research_orgs is not empty \n",
    "return publications[id+title+researchers+research_orgs+type] limit 5"
   ]
  },
  {
   "cell_type": "markdown",
   "metadata": {
    "Collapsed": "false"
   },
   "source": [
    "## 4. Searching for Researchers\n",
    "\n",
    "The DSL offers different mechanisms for searching for researchers (e.g.\n",
    "publication authors, grant investigators), each of them presenting\n",
    "specific advantages."
   ]
  },
  {
   "cell_type": "markdown",
   "metadata": {
    "Collapsed": "false"
   },
   "source": [
    "### 4.1 Exact name searches\n",
    "\n",
    "Special full-text indices allows to look up a researcher's name and\n",
    "surname **exactly as they appear in the source documents** they derive from.\n",
    "\n",
    "This approach has a broad scope, as it allows to search the full\n",
    "collection of Dimensions documents irrespectively of whether a\n",
    "researcher was succesfully disambiguated (and hence given a Dimensions\n",
    "ID). On the other hand, this approach will only match names as they\n",
    "appear in the source document, so different spellings or initials are\n",
    "not necessarily returned via a single query. \n",
    "\n",
    "```\n",
    "search in [authors|investigators|inventors]\n",
    "```\n",
    "\n",
    "It is possible to look up publications authors using a specific\n",
    "`search index` called `authors`. \n",
    "\n",
    "This method expects case insensitive\n",
    "phrases, in format $\"<first name> <last name>\"$ or reverse order. Note\n",
    "that strings in double quotes that contain nested quotes must always be\n",
    "escaped by a backslash `\\`."
   ]
  },
  {
   "cell_type": "code",
   "execution_count": 35,
   "metadata": {
    "Collapsed": "false"
   },
   "outputs": [
    {
     "name": "stdout",
     "output_type": "stream",
     "text": [
      "Returned Publications: 5 (total = 229)\n"
     ]
    },
    {
     "data": {
      "text/html": [
       "<div>\n",
       "<style scoped>\n",
       "    .dataframe tbody tr th:only-of-type {\n",
       "        vertical-align: middle;\n",
       "    }\n",
       "\n",
       "    .dataframe tbody tr th {\n",
       "        vertical-align: top;\n",
       "    }\n",
       "\n",
       "    .dataframe thead th {\n",
       "        text-align: right;\n",
       "    }\n",
       "</style>\n",
       "<table border=\"1\" class=\"dataframe\">\n",
       "  <thead>\n",
       "    <tr style=\"text-align: right;\">\n",
       "      <th></th>\n",
       "      <th>title</th>\n",
       "      <th>author_affiliations</th>\n",
       "      <th>id</th>\n",
       "      <th>year</th>\n",
       "      <th>type</th>\n",
       "      <th>pages</th>\n",
       "    </tr>\n",
       "  </thead>\n",
       "  <tbody>\n",
       "    <tr>\n",
       "      <th>0</th>\n",
       "      <td>26. Assurance through Reasoning</td>\n",
       "      <td>[[{'first_name': 'Charles S.', 'last_name': 'P...</td>\n",
       "      <td>pub.1123488542</td>\n",
       "      <td>2019</td>\n",
       "      <td>chapter</td>\n",
       "      <td>565-585</td>\n",
       "    </tr>\n",
       "    <tr>\n",
       "      <th>1</th>\n",
       "      <td>Abbreviations of Peirce’s Works and Archives</td>\n",
       "      <td>[[{'first_name': 'Charles S.', 'last_name': 'P...</td>\n",
       "      <td>pub.1123488550</td>\n",
       "      <td>2019</td>\n",
       "      <td>chapter</td>\n",
       "      <td>x-xii</td>\n",
       "    </tr>\n",
       "    <tr>\n",
       "      <th>2</th>\n",
       "      <td>5. On Logical Graphs</td>\n",
       "      <td>[[{'first_name': 'Charles S.', 'last_name': 'P...</td>\n",
       "      <td>pub.1123488521</td>\n",
       "      <td>2019</td>\n",
       "      <td>chapter</td>\n",
       "      <td>211-261</td>\n",
       "    </tr>\n",
       "    <tr>\n",
       "      <th>3</th>\n",
       "      <td>12. Peripatetic Talks</td>\n",
       "      <td>[[{'first_name': 'Charles S.', 'last_name': 'P...</td>\n",
       "      <td>pub.1123488528</td>\n",
       "      <td>2019</td>\n",
       "      <td>chapter</td>\n",
       "      <td>348-366</td>\n",
       "    </tr>\n",
       "    <tr>\n",
       "      <th>4</th>\n",
       "      <td>14. On the First Principles of Logical Algebra</td>\n",
       "      <td>[[{'first_name': 'Charles S.', 'last_name': 'P...</td>\n",
       "      <td>pub.1123488530</td>\n",
       "      <td>2019</td>\n",
       "      <td>chapter</td>\n",
       "      <td>385-398</td>\n",
       "    </tr>\n",
       "  </tbody>\n",
       "</table>\n",
       "</div>"
      ],
      "text/plain": [
       "                                            title  \\\n",
       "0                 26. Assurance through Reasoning   \n",
       "1    Abbreviations of Peirce’s Works and Archives   \n",
       "2                            5. On Logical Graphs   \n",
       "3                           12. Peripatetic Talks   \n",
       "4  14. On the First Principles of Logical Algebra   \n",
       "\n",
       "                                 author_affiliations              id  year  \\\n",
       "0  [[{'first_name': 'Charles S.', 'last_name': 'P...  pub.1123488542  2019   \n",
       "1  [[{'first_name': 'Charles S.', 'last_name': 'P...  pub.1123488550  2019   \n",
       "2  [[{'first_name': 'Charles S.', 'last_name': 'P...  pub.1123488521  2019   \n",
       "3  [[{'first_name': 'Charles S.', 'last_name': 'P...  pub.1123488528  2019   \n",
       "4  [[{'first_name': 'Charles S.', 'last_name': 'P...  pub.1123488530  2019   \n",
       "\n",
       "      type    pages  \n",
       "0  chapter  565-585  \n",
       "1  chapter    x-xii  \n",
       "2  chapter  211-261  \n",
       "3  chapter  348-366  \n",
       "4  chapter  385-398  "
      ]
     },
     "execution_count": 35,
     "metadata": {},
     "output_type": "execute_result"
    }
   ],
   "source": [
    "%dsldf search publications in authors for \"\\\"Charles Peirce\\\"\" return publications limit 5"
   ]
  },
  {
   "cell_type": "markdown",
   "metadata": {
    "Collapsed": "false"
   },
   "source": [
    "Instead of first name, initials can also be used. These are examples of\n",
    "valid research search phrases:\n",
    "\n",
    "-   `\\\"Peirce, Charles S.\\\"`\n",
    "-   `\\\"Charles S. Peirce\\\"`\n",
    "-   `\\\"CS Peirce\\\"`\n",
    "-   `\\\"Peirce CS\\\"`\n",
    "-   `\\\"C S Peirce\\\"`\n",
    "-   `\\\"Peirce C S\\\"`\n",
    "-   `\\\"C Peirce\\\"`\n",
    "-   `\\\"Peirce C\\\"`\n",
    "-   `\\\"Charles Peirce\\\"`\n",
    "-   `\\\"Peirce Charles\\\"`\n",
    "\n",
    "**Warning**: In order to produce valid results an author or an investigator search\n",
    "query must contain **at least two components or more** (e.g., name and\n",
    "surname, either in full or initials).\n",
    "\n",
    "Investigators search is similar to *authors* search, only it allows to search on `grants` and\n",
    "`clinical trials` using a separate search index `investigators`, and on\n",
    "`patents` using the index `inventors`."
   ]
  },
  {
   "cell_type": "code",
   "execution_count": 36,
   "metadata": {
    "Collapsed": "false"
   },
   "outputs": [
    {
     "name": "stdout",
     "output_type": "stream",
     "text": [
      "Returned Clinical_trials: 2 (total = 2)\n"
     ]
    },
    {
     "data": {
      "text/html": [
       "<div>\n",
       "<style scoped>\n",
       "    .dataframe tbody tr th:only-of-type {\n",
       "        vertical-align: middle;\n",
       "    }\n",
       "\n",
       "    .dataframe tbody tr th {\n",
       "        vertical-align: top;\n",
       "    }\n",
       "\n",
       "    .dataframe thead th {\n",
       "        text-align: right;\n",
       "    }\n",
       "</style>\n",
       "<table border=\"1\" class=\"dataframe\">\n",
       "  <thead>\n",
       "    <tr style=\"text-align: right;\">\n",
       "      <th></th>\n",
       "      <th>active_years</th>\n",
       "      <th>id</th>\n",
       "      <th>investigator_details</th>\n",
       "      <th>title</th>\n",
       "    </tr>\n",
       "  </thead>\n",
       "  <tbody>\n",
       "    <tr>\n",
       "      <th>0</th>\n",
       "      <td>[2008, 2009, 2010, 2011, 2012, 2013, 2014, 201...</td>\n",
       "      <td>NCT00689533</td>\n",
       "      <td>[[John M Flynn, MD, Principal Investigator, Ch...</td>\n",
       "      <td>VEPTR Implantation to Treat Children With Earl...</td>\n",
       "    </tr>\n",
       "    <tr>\n",
       "      <th>1</th>\n",
       "      <td>NaN</td>\n",
       "      <td>NCT01241149</td>\n",
       "      <td>[[Ellie Mentler, MD, Principal Investigator, U...</td>\n",
       "      <td>Prospective Evaluation of Symptom Resolution i...</td>\n",
       "    </tr>\n",
       "  </tbody>\n",
       "</table>\n",
       "</div>"
      ],
      "text/plain": [
       "                                        active_years           id  \\\n",
       "0  [2008, 2009, 2010, 2011, 2012, 2013, 2014, 201...  NCT00689533   \n",
       "1                                                NaN  NCT01241149   \n",
       "\n",
       "                                investigator_details  \\\n",
       "0  [[John M Flynn, MD, Principal Investigator, Ch...   \n",
       "1  [[Ellie Mentler, MD, Principal Investigator, U...   \n",
       "\n",
       "                                               title  \n",
       "0  VEPTR Implantation to Treat Children With Earl...  \n",
       "1  Prospective Evaluation of Symptom Resolution i...  "
      ]
     },
     "execution_count": 36,
     "metadata": {},
     "output_type": "execute_result"
    }
   ],
   "source": [
    "%%dsldf \n",
    "search clinical_trials in investigators for \"\\\"John Smith\\\"\" \n",
    "return clinical_trials limit 5"
   ]
  },
  {
   "cell_type": "code",
   "execution_count": 37,
   "metadata": {
    "Collapsed": "false"
   },
   "outputs": [
    {
     "name": "stdout",
     "output_type": "stream",
     "text": [
      "Returned Grants: 4 (total = 4)\n"
     ]
    },
    {
     "data": {
      "text/html": [
       "<div>\n",
       "<style scoped>\n",
       "    .dataframe tbody tr th:only-of-type {\n",
       "        vertical-align: middle;\n",
       "    }\n",
       "\n",
       "    .dataframe tbody tr th {\n",
       "        vertical-align: top;\n",
       "    }\n",
       "\n",
       "    .dataframe thead th {\n",
       "        text-align: right;\n",
       "    }\n",
       "</style>\n",
       "<table border=\"1\" class=\"dataframe\">\n",
       "  <thead>\n",
       "    <tr style=\"text-align: right;\">\n",
       "      <th></th>\n",
       "      <th>start_date</th>\n",
       "      <th>title</th>\n",
       "      <th>end_date</th>\n",
       "      <th>title_language</th>\n",
       "      <th>project_num</th>\n",
       "      <th>id</th>\n",
       "      <th>funders</th>\n",
       "      <th>original_title</th>\n",
       "      <th>funding_org_name</th>\n",
       "      <th>start_year</th>\n",
       "      <th>language</th>\n",
       "      <th>active_year</th>\n",
       "    </tr>\n",
       "  </thead>\n",
       "  <tbody>\n",
       "    <tr>\n",
       "      <th>0</th>\n",
       "      <td>2020-09-01</td>\n",
       "      <td>Kabuki Actors, Print Technology, and the Theat...</td>\n",
       "      <td>2021-08-31</td>\n",
       "      <td>en</td>\n",
       "      <td>FEL-263245-19</td>\n",
       "      <td>grant.7925589</td>\n",
       "      <td>[{'id': 'grid.422239.c', 'types': ['Government...</td>\n",
       "      <td>Kabuki Actors, Print Technology, and the Theat...</td>\n",
       "      <td>National Endowment for the Humanities</td>\n",
       "      <td>2020</td>\n",
       "      <td>en</td>\n",
       "      <td>[2020, 2021]</td>\n",
       "    </tr>\n",
       "    <tr>\n",
       "      <th>1</th>\n",
       "      <td>2018-04-01</td>\n",
       "      <td>Genealogy research on female saints in the Pal...</td>\n",
       "      <td>2021-03-31</td>\n",
       "      <td>ja</td>\n",
       "      <td>18K00431</td>\n",
       "      <td>grant.7527261</td>\n",
       "      <td>[{'id': 'grid.54432.34', 'types': ['Nonprofit'...</td>\n",
       "      <td>古・中英語期における女性聖人伝の系譜研究：Aelfricのテクストと言語を中心に</td>\n",
       "      <td>Japan Society for the Promotion of Science</td>\n",
       "      <td>2018</td>\n",
       "      <td>ja</td>\n",
       "      <td>[2018, 2019, 2020, 2021]</td>\n",
       "    </tr>\n",
       "    <tr>\n",
       "      <th>2</th>\n",
       "      <td>2015-04-01</td>\n",
       "      <td>Images of Women in the Old English Lives of Sa...</td>\n",
       "      <td>2018-03-31</td>\n",
       "      <td>en</td>\n",
       "      <td>15K02313</td>\n",
       "      <td>grant.5858713</td>\n",
       "      <td>[{'id': 'grid.54432.34', 'types': ['Nonprofit'...</td>\n",
       "      <td>Images of Women in the Old English Lives of Sa...</td>\n",
       "      <td>Japan Society for the Promotion of Science</td>\n",
       "      <td>2015</td>\n",
       "      <td>en</td>\n",
       "      <td>[2015, 2016, 2017, 2018]</td>\n",
       "    </tr>\n",
       "    <tr>\n",
       "      <th>3</th>\n",
       "      <td>2012-04-01</td>\n",
       "      <td>Reception and Transfromation of the Images of ...</td>\n",
       "      <td>2015-03-31</td>\n",
       "      <td>en</td>\n",
       "      <td>24520310</td>\n",
       "      <td>grant.6086985</td>\n",
       "      <td>[{'id': 'grid.54432.34', 'types': ['Nonprofit'...</td>\n",
       "      <td>Reception and Transfromation of the Images of ...</td>\n",
       "      <td>Japan Society for the Promotion of Science</td>\n",
       "      <td>2012</td>\n",
       "      <td>en</td>\n",
       "      <td>[2012, 2013, 2014, 2015]</td>\n",
       "    </tr>\n",
       "  </tbody>\n",
       "</table>\n",
       "</div>"
      ],
      "text/plain": [
       "   start_date                                              title    end_date  \\\n",
       "0  2020-09-01  Kabuki Actors, Print Technology, and the Theat...  2021-08-31   \n",
       "1  2018-04-01  Genealogy research on female saints in the Pal...  2021-03-31   \n",
       "2  2015-04-01  Images of Women in the Old English Lives of Sa...  2018-03-31   \n",
       "3  2012-04-01  Reception and Transfromation of the Images of ...  2015-03-31   \n",
       "\n",
       "  title_language    project_num             id  \\\n",
       "0             en  FEL-263245-19  grant.7925589   \n",
       "1             ja       18K00431  grant.7527261   \n",
       "2             en       15K02313  grant.5858713   \n",
       "3             en       24520310  grant.6086985   \n",
       "\n",
       "                                             funders  \\\n",
       "0  [{'id': 'grid.422239.c', 'types': ['Government...   \n",
       "1  [{'id': 'grid.54432.34', 'types': ['Nonprofit'...   \n",
       "2  [{'id': 'grid.54432.34', 'types': ['Nonprofit'...   \n",
       "3  [{'id': 'grid.54432.34', 'types': ['Nonprofit'...   \n",
       "\n",
       "                                      original_title  \\\n",
       "0  Kabuki Actors, Print Technology, and the Theat...   \n",
       "1           古・中英語期における女性聖人伝の系譜研究：Aelfricのテクストと言語を中心に   \n",
       "2  Images of Women in the Old English Lives of Sa...   \n",
       "3  Reception and Transfromation of the Images of ...   \n",
       "\n",
       "                             funding_org_name  start_year language  \\\n",
       "0       National Endowment for the Humanities        2020       en   \n",
       "1  Japan Society for the Promotion of Science        2018       ja   \n",
       "2  Japan Society for the Promotion of Science        2015       en   \n",
       "3  Japan Society for the Promotion of Science        2012       en   \n",
       "\n",
       "                active_year  \n",
       "0              [2020, 2021]  \n",
       "1  [2018, 2019, 2020, 2021]  \n",
       "2  [2015, 2016, 2017, 2018]  \n",
       "3  [2012, 2013, 2014, 2015]  "
      ]
     },
     "execution_count": 37,
     "metadata": {},
     "output_type": "execute_result"
    }
   ],
   "source": [
    "%%dsldf \n",
    "search grants in investigators for \"\\\"Satoko Shimazaki\\\"\" \n",
    "return grants limit 5"
   ]
  },
  {
   "cell_type": "code",
   "execution_count": 38,
   "metadata": {
    "Collapsed": "false"
   },
   "outputs": [
    {
     "name": "stdout",
     "output_type": "stream",
     "text": [
      "Returned Patents: 5 (total = 501)\n"
     ]
    },
    {
     "data": {
      "text/html": [
       "<div>\n",
       "<style scoped>\n",
       "    .dataframe tbody tr th:only-of-type {\n",
       "        vertical-align: middle;\n",
       "    }\n",
       "\n",
       "    .dataframe tbody tr th {\n",
       "        vertical-align: top;\n",
       "    }\n",
       "\n",
       "    .dataframe thead th {\n",
       "        text-align: right;\n",
       "    }\n",
       "</style>\n",
       "<table border=\"1\" class=\"dataframe\">\n",
       "  <thead>\n",
       "    <tr style=\"text-align: right;\">\n",
       "      <th></th>\n",
       "      <th>title</th>\n",
       "      <th>times_cited</th>\n",
       "      <th>filing_status</th>\n",
       "      <th>publication_date</th>\n",
       "      <th>id</th>\n",
       "      <th>year</th>\n",
       "      <th>assignee_names</th>\n",
       "      <th>assignees</th>\n",
       "      <th>inventor_names</th>\n",
       "      <th>granted_year</th>\n",
       "    </tr>\n",
       "  </thead>\n",
       "  <tbody>\n",
       "    <tr>\n",
       "      <th>0</th>\n",
       "      <td>Diagnostic method</td>\n",
       "      <td>0</td>\n",
       "      <td>Application</td>\n",
       "      <td>2002-10-31</td>\n",
       "      <td>US-20020160362-A1</td>\n",
       "      <td>2001</td>\n",
       "      <td>[AstraZeneca AB, SMITH JOHN CRAIG]</td>\n",
       "      <td>[{'id': 'grid.418151.8', 'city_name': 'Södertä...</td>\n",
       "      <td>[John Smith]</td>\n",
       "      <td>NaN</td>\n",
       "    </tr>\n",
       "    <tr>\n",
       "      <th>1</th>\n",
       "      <td>Automotive heat exchanger</td>\n",
       "      <td>0</td>\n",
       "      <td>Grant</td>\n",
       "      <td>2006-03-22</td>\n",
       "      <td>GB-2384299-B</td>\n",
       "      <td>2002</td>\n",
       "      <td>[Llanelli Radiators Ltd, Calsonic Kansei UK Lt...</td>\n",
       "      <td>[{'id': 'grid.472810.8', 'city_name': 'Llanell...</td>\n",
       "      <td>[SMITH JOHN]</td>\n",
       "      <td>2006.0</td>\n",
       "    </tr>\n",
       "    <tr>\n",
       "      <th>2</th>\n",
       "      <td>Microelectronic assemblies with composite cond...</td>\n",
       "      <td>2</td>\n",
       "      <td>Application</td>\n",
       "      <td>2005-06-23</td>\n",
       "      <td>US-20050133900-A1</td>\n",
       "      <td>2005</td>\n",
       "      <td>[Tessera Inc, TESSERA INC]</td>\n",
       "      <td>[{'id': 'grid.455499.0', 'city_name': 'San Jos...</td>\n",
       "      <td>[John Smith]</td>\n",
       "      <td>NaN</td>\n",
       "    </tr>\n",
       "    <tr>\n",
       "      <th>3</th>\n",
       "      <td>A lockable safety insert for an electrical dom...</td>\n",
       "      <td>0</td>\n",
       "      <td>Grant</td>\n",
       "      <td>2004-11-03</td>\n",
       "      <td>IE-S20030195-A2</td>\n",
       "      <td>2003</td>\n",
       "      <td>[SMITH JOHN]</td>\n",
       "      <td>NaN</td>\n",
       "      <td>[SMITH JOHN]</td>\n",
       "      <td>2004.0</td>\n",
       "    </tr>\n",
       "    <tr>\n",
       "      <th>4</th>\n",
       "      <td>Ammunition cartridge</td>\n",
       "      <td>0</td>\n",
       "      <td>Application</td>\n",
       "      <td>2014-10-22</td>\n",
       "      <td>GB-2513101-A</td>\n",
       "      <td>2013</td>\n",
       "      <td>[Eley Ltd, ELEY LTD]</td>\n",
       "      <td>NaN</td>\n",
       "      <td>[SMITH JOHN]</td>\n",
       "      <td>NaN</td>\n",
       "    </tr>\n",
       "  </tbody>\n",
       "</table>\n",
       "</div>"
      ],
      "text/plain": [
       "                                               title  times_cited  \\\n",
       "0                                  Diagnostic method            0   \n",
       "1                          Automotive heat exchanger            0   \n",
       "2  Microelectronic assemblies with composite cond...            2   \n",
       "3  A lockable safety insert for an electrical dom...            0   \n",
       "4                               Ammunition cartridge            0   \n",
       "\n",
       "  filing_status publication_date                 id  year  \\\n",
       "0   Application       2002-10-31  US-20020160362-A1  2001   \n",
       "1         Grant       2006-03-22       GB-2384299-B  2002   \n",
       "2   Application       2005-06-23  US-20050133900-A1  2005   \n",
       "3         Grant       2004-11-03    IE-S20030195-A2  2003   \n",
       "4   Application       2014-10-22       GB-2513101-A  2013   \n",
       "\n",
       "                                      assignee_names  \\\n",
       "0                 [AstraZeneca AB, SMITH JOHN CRAIG]   \n",
       "1  [Llanelli Radiators Ltd, Calsonic Kansei UK Lt...   \n",
       "2                         [Tessera Inc, TESSERA INC]   \n",
       "3                                       [SMITH JOHN]   \n",
       "4                               [Eley Ltd, ELEY LTD]   \n",
       "\n",
       "                                           assignees inventor_names  \\\n",
       "0  [{'id': 'grid.418151.8', 'city_name': 'Södertä...   [John Smith]   \n",
       "1  [{'id': 'grid.472810.8', 'city_name': 'Llanell...   [SMITH JOHN]   \n",
       "2  [{'id': 'grid.455499.0', 'city_name': 'San Jos...   [John Smith]   \n",
       "3                                                NaN   [SMITH JOHN]   \n",
       "4                                                NaN   [SMITH JOHN]   \n",
       "\n",
       "   granted_year  \n",
       "0           NaN  \n",
       "1        2006.0  \n",
       "2           NaN  \n",
       "3        2004.0  \n",
       "4           NaN  "
      ]
     },
     "execution_count": 38,
     "metadata": {},
     "output_type": "execute_result"
    }
   ],
   "source": [
    "%%dsldf \n",
    "search patents in inventors for \"\\\"John Smith\\\"\" \n",
    "return patents limit 5"
   ]
  },
  {
   "cell_type": "markdown",
   "metadata": {
    "Collapsed": "false"
   },
   "source": [
    "### 4.2 Fuzzy Searches\n",
    "\n",
    "This type of search is similar to *full-text\n",
    "search*, with the difference that it\n",
    "allows searching by only a part of a name, e.g. only the 'last name' of\n",
    "a person, by using the `where` clause. \n",
    "\n",
    "**Note** At this moment, this type of search is only available for\n",
    "`publications`. Other sources will add this option in the future.\n",
    "\n",
    "For example:"
   ]
  },
  {
   "cell_type": "code",
   "execution_count": 39,
   "metadata": {
    "Collapsed": "false"
   },
   "outputs": [
    {
     "name": "stdout",
     "output_type": "stream",
     "text": [
      "Returned Errors: 1\n",
      "1 QuerySyntaxError found\n",
      "1 ParserError found\n",
      "  * [Line 2:27] ('[') mismatched input '[' expecting <EOF>\n"
     ]
    }
   ],
   "source": [
    "%%dsldf \n",
    "search publications where authors = \"Hawking\" \n",
    "return publications limit 5[id+doi+title+authors] limit 10"
   ]
  },
  {
   "cell_type": "markdown",
   "metadata": {
    "Collapsed": "false"
   },
   "source": [
    "Generally speaking, using a `where` clause to search authors is less\n",
    "precise that using the relevant exact-search syntax. \n",
    "\n",
    "On the other hand, using a\n",
    "`where` clause can be handy if one wants to **combine an author search\n",
    "with another full-text search index**.\n",
    "\n",
    "For example:"
   ]
  },
  {
   "cell_type": "code",
   "execution_count": 40,
   "metadata": {
    "Collapsed": "false"
   },
   "outputs": [
    {
     "name": "stdout",
     "output_type": "stream",
     "text": [
      "Returned Publications: 5 (total = 1527)\n"
     ]
    },
    {
     "data": {
      "text/html": [
       "<div>\n",
       "<style scoped>\n",
       "    .dataframe tbody tr th:only-of-type {\n",
       "        vertical-align: middle;\n",
       "    }\n",
       "\n",
       "    .dataframe tbody tr th {\n",
       "        vertical-align: top;\n",
       "    }\n",
       "\n",
       "    .dataframe thead th {\n",
       "        text-align: right;\n",
       "    }\n",
       "</style>\n",
       "<table border=\"1\" class=\"dataframe\">\n",
       "  <thead>\n",
       "    <tr style=\"text-align: right;\">\n",
       "      <th></th>\n",
       "      <th>pages</th>\n",
       "      <th>id</th>\n",
       "      <th>type</th>\n",
       "      <th>title</th>\n",
       "      <th>author_affiliations</th>\n",
       "      <th>volume</th>\n",
       "      <th>year</th>\n",
       "      <th>issue</th>\n",
       "      <th>journal.id</th>\n",
       "      <th>journal.title</th>\n",
       "    </tr>\n",
       "  </thead>\n",
       "  <tbody>\n",
       "    <tr>\n",
       "      <th>0</th>\n",
       "      <td>37</td>\n",
       "      <td>pub.1124910780</td>\n",
       "      <td>article</td>\n",
       "      <td>Genetic associations with clozapine-induced my...</td>\n",
       "      <td>[[{'first_name': 'Paul', 'last_name': 'Lacaze'...</td>\n",
       "      <td>10</td>\n",
       "      <td>2020</td>\n",
       "      <td>1</td>\n",
       "      <td>jour.1045271</td>\n",
       "      <td>Translational Psychiatry</td>\n",
       "    </tr>\n",
       "    <tr>\n",
       "      <th>1</th>\n",
       "      <td>46</td>\n",
       "      <td>pub.1125664041</td>\n",
       "      <td>article</td>\n",
       "      <td>An epigenome-wide association study of posttra...</td>\n",
       "      <td>[[{'first_name': 'Mark W.', 'last_name': 'Logu...</td>\n",
       "      <td>12</td>\n",
       "      <td>2020</td>\n",
       "      <td>1</td>\n",
       "      <td>jour.1042271</td>\n",
       "      <td>Clinical Epigenetics</td>\n",
       "    </tr>\n",
       "    <tr>\n",
       "      <th>2</th>\n",
       "      <td>11</td>\n",
       "      <td>pub.1124060243</td>\n",
       "      <td>article</td>\n",
       "      <td>Longitudinal epigenome-wide association studie...</td>\n",
       "      <td>[[{'first_name': 'Clara', 'last_name': 'Snijde...</td>\n",
       "      <td>12</td>\n",
       "      <td>2020</td>\n",
       "      <td>1</td>\n",
       "      <td>jour.1042271</td>\n",
       "      <td>Clinical Epigenetics</td>\n",
       "    </tr>\n",
       "    <tr>\n",
       "      <th>3</th>\n",
       "      <td>250-256</td>\n",
       "      <td>pub.1126387158</td>\n",
       "      <td>article</td>\n",
       "      <td>Molecular Targeting of Cancer-Associated PCNA ...</td>\n",
       "      <td>[[{'first_name': 'Shanna J.', 'last_name': 'Sm...</td>\n",
       "      <td>17</td>\n",
       "      <td>2020</td>\n",
       "      <td>NaN</td>\n",
       "      <td>jour.1052368</td>\n",
       "      <td>Molecular Therapy - Oncolytics</td>\n",
       "    </tr>\n",
       "    <tr>\n",
       "      <th>4</th>\n",
       "      <td>rna.073114.119</td>\n",
       "      <td>pub.1125466205</td>\n",
       "      <td>article</td>\n",
       "      <td>Reciprocal monoallelic expression of ASAR lncR...</td>\n",
       "      <td>[[{'first_name': 'Michael', 'last_name': 'Hesk...</td>\n",
       "      <td>26</td>\n",
       "      <td>2020</td>\n",
       "      <td>6</td>\n",
       "      <td>jour.1114285</td>\n",
       "      <td>RNA</td>\n",
       "    </tr>\n",
       "  </tbody>\n",
       "</table>\n",
       "</div>"
      ],
      "text/plain": [
       "            pages              id     type  \\\n",
       "0              37  pub.1124910780  article   \n",
       "1              46  pub.1125664041  article   \n",
       "2              11  pub.1124060243  article   \n",
       "3         250-256  pub.1126387158  article   \n",
       "4  rna.073114.119  pub.1125466205  article   \n",
       "\n",
       "                                               title  \\\n",
       "0  Genetic associations with clozapine-induced my...   \n",
       "1  An epigenome-wide association study of posttra...   \n",
       "2  Longitudinal epigenome-wide association studie...   \n",
       "3  Molecular Targeting of Cancer-Associated PCNA ...   \n",
       "4  Reciprocal monoallelic expression of ASAR lncR...   \n",
       "\n",
       "                                 author_affiliations volume  year issue  \\\n",
       "0  [[{'first_name': 'Paul', 'last_name': 'Lacaze'...     10  2020     1   \n",
       "1  [[{'first_name': 'Mark W.', 'last_name': 'Logu...     12  2020     1   \n",
       "2  [[{'first_name': 'Clara', 'last_name': 'Snijde...     12  2020     1   \n",
       "3  [[{'first_name': 'Shanna J.', 'last_name': 'Sm...     17  2020   NaN   \n",
       "4  [[{'first_name': 'Michael', 'last_name': 'Hesk...     26  2020     6   \n",
       "\n",
       "     journal.id                   journal.title  \n",
       "0  jour.1045271        Translational Psychiatry  \n",
       "1  jour.1042271            Clinical Epigenetics  \n",
       "2  jour.1042271            Clinical Epigenetics  \n",
       "3  jour.1052368  Molecular Therapy - Oncolytics  \n",
       "4  jour.1114285                             RNA  "
      ]
     },
     "execution_count": 40,
     "metadata": {},
     "output_type": "execute_result"
    }
   ],
   "source": [
    "%%dsldf \n",
    "search publications \n",
    "    in title_abstract_only for \"dna replication\" \n",
    "    where authors = \"smith\"  \n",
    "return publications limit 5"
   ]
  },
  {
   "cell_type": "markdown",
   "metadata": {
    "Collapsed": "false"
   },
   "source": [
    "### 4.3 Using the disambiguated Researchers database\n",
    "\n",
    "The Dimensions [Researchers](https://docs.dimensions.ai/dsl/datasource-researchers.html) source is a database of\n",
    "researchers information algorithmically extracted and disambiguated from\n",
    "all of the other content sources (publications, grants, clinical trials\n",
    "etc..).\n",
    "\n",
    "By using the `researchers` source it is possible to match an\n",
    "'aggregated' person object linking together multiple publication\n",
    "authors, grant investigators etc.. irrespectively of the form their\n",
    "names can take in the original source documents.\n",
    "\n",
    "However, since database does not contain all authors and investigators information\n",
    "available in Dimensions. \n",
    "\n",
    "E.g. think of authors from older publications,\n",
    "or authors with very common names that are difficult to disambiguate, or\n",
    "very new authors, who have only one or few publications. In such cases,\n",
    "using full-text authors search might be more\n",
    "appropriate.\n",
    "\n",
    "Examples:"
   ]
  },
  {
   "cell_type": "code",
   "execution_count": 41,
   "metadata": {
    "Collapsed": "false"
   },
   "outputs": [
    {
     "name": "stdout",
     "output_type": "stream",
     "text": [
      "Returned Researchers: 4 (total = 4)\n"
     ]
    },
    {
     "data": {
      "text/html": [
       "<div>\n",
       "<style scoped>\n",
       "    .dataframe tbody tr th:only-of-type {\n",
       "        vertical-align: middle;\n",
       "    }\n",
       "\n",
       "    .dataframe tbody tr th {\n",
       "        vertical-align: top;\n",
       "    }\n",
       "\n",
       "    .dataframe thead th {\n",
       "        text-align: right;\n",
       "    }\n",
       "</style>\n",
       "<table border=\"1\" class=\"dataframe\">\n",
       "  <thead>\n",
       "    <tr style=\"text-align: right;\">\n",
       "      <th></th>\n",
       "      <th>id</th>\n",
       "      <th>obsolete</th>\n",
       "      <th>first_name</th>\n",
       "      <th>last_name</th>\n",
       "      <th>research_orgs</th>\n",
       "    </tr>\n",
       "  </thead>\n",
       "  <tbody>\n",
       "    <tr>\n",
       "      <th>0</th>\n",
       "      <td>ur.014307627665.09</td>\n",
       "      <td>0</td>\n",
       "      <td>Satoko</td>\n",
       "      <td>Shimazaki</td>\n",
       "      <td>[{'id': 'grid.19006.3e', 'types': ['Education'...</td>\n",
       "    </tr>\n",
       "    <tr>\n",
       "      <th>1</th>\n",
       "      <td>ur.010537333602.30</td>\n",
       "      <td>1</td>\n",
       "      <td>Satoko</td>\n",
       "      <td>Shimazaki</td>\n",
       "      <td>NaN</td>\n",
       "    </tr>\n",
       "    <tr>\n",
       "      <th>2</th>\n",
       "      <td>ur.07751146721.59</td>\n",
       "      <td>0</td>\n",
       "      <td>Satoko</td>\n",
       "      <td>Shimazaki</td>\n",
       "      <td>NaN</td>\n",
       "    </tr>\n",
       "    <tr>\n",
       "      <th>3</th>\n",
       "      <td>ur.015527473602.63</td>\n",
       "      <td>0</td>\n",
       "      <td>Satoko</td>\n",
       "      <td>Shimazaki</td>\n",
       "      <td>[{'id': 'grid.266190.a', 'types': ['Education'...</td>\n",
       "    </tr>\n",
       "  </tbody>\n",
       "</table>\n",
       "</div>"
      ],
      "text/plain": [
       "                   id  obsolete first_name  last_name  \\\n",
       "0  ur.014307627665.09         0     Satoko  Shimazaki   \n",
       "1  ur.010537333602.30         1     Satoko  Shimazaki   \n",
       "2   ur.07751146721.59         0     Satoko  Shimazaki   \n",
       "3  ur.015527473602.63         0     Satoko  Shimazaki   \n",
       "\n",
       "                                       research_orgs  \n",
       "0  [{'id': 'grid.19006.3e', 'types': ['Education'...  \n",
       "1                                                NaN  \n",
       "2                                                NaN  \n",
       "3  [{'id': 'grid.266190.a', 'types': ['Education'...  "
      ]
     },
     "execution_count": 41,
     "metadata": {},
     "output_type": "execute_result"
    }
   ],
   "source": [
    "%%dsldf \n",
    "search researchers for \"\\\"Satoko Shimazaki\\\"\" \n",
    "return researchers[basics+obsolete] "
   ]
  },
  {
   "cell_type": "markdown",
   "metadata": {
    "Collapsed": "false"
   },
   "source": [
    "NOTE pay attentiont to the `obsolete` field. This indicates the researcher ID status. 0 means that the researcher ID is still **active**, 1 means that the researcher ID is **no longer valid**. This is due to the ongoing process of refinement of Dimensions researchers. \n",
    "\n",
    "Hence the query above is best written like this:"
   ]
  },
  {
   "cell_type": "code",
   "execution_count": 42,
   "metadata": {
    "Collapsed": "false"
   },
   "outputs": [
    {
     "name": "stdout",
     "output_type": "stream",
     "text": [
      "Returned Researchers: 3 (total = 3)\n"
     ]
    },
    {
     "data": {
      "text/html": [
       "<div>\n",
       "<style scoped>\n",
       "    .dataframe tbody tr th:only-of-type {\n",
       "        vertical-align: middle;\n",
       "    }\n",
       "\n",
       "    .dataframe tbody tr th {\n",
       "        vertical-align: top;\n",
       "    }\n",
       "\n",
       "    .dataframe thead th {\n",
       "        text-align: right;\n",
       "    }\n",
       "</style>\n",
       "<table border=\"1\" class=\"dataframe\">\n",
       "  <thead>\n",
       "    <tr style=\"text-align: right;\">\n",
       "      <th></th>\n",
       "      <th>id</th>\n",
       "      <th>research_orgs</th>\n",
       "      <th>first_name</th>\n",
       "      <th>last_name</th>\n",
       "      <th>obsolete</th>\n",
       "    </tr>\n",
       "  </thead>\n",
       "  <tbody>\n",
       "    <tr>\n",
       "      <th>0</th>\n",
       "      <td>ur.014307627665.09</td>\n",
       "      <td>[{'id': 'grid.19006.3e', 'acronym': 'UCLA', 's...</td>\n",
       "      <td>Satoko</td>\n",
       "      <td>Shimazaki</td>\n",
       "      <td>0</td>\n",
       "    </tr>\n",
       "    <tr>\n",
       "      <th>1</th>\n",
       "      <td>ur.07751146721.59</td>\n",
       "      <td>NaN</td>\n",
       "      <td>Satoko</td>\n",
       "      <td>Shimazaki</td>\n",
       "      <td>0</td>\n",
       "    </tr>\n",
       "    <tr>\n",
       "      <th>2</th>\n",
       "      <td>ur.015527473602.63</td>\n",
       "      <td>[{'id': 'grid.266190.a', 'acronym': 'UCB', 'st...</td>\n",
       "      <td>Satoko</td>\n",
       "      <td>Shimazaki</td>\n",
       "      <td>0</td>\n",
       "    </tr>\n",
       "  </tbody>\n",
       "</table>\n",
       "</div>"
      ],
      "text/plain": [
       "                   id                                      research_orgs  \\\n",
       "0  ur.014307627665.09  [{'id': 'grid.19006.3e', 'acronym': 'UCLA', 's...   \n",
       "1   ur.07751146721.59                                                NaN   \n",
       "2  ur.015527473602.63  [{'id': 'grid.266190.a', 'acronym': 'UCB', 'st...   \n",
       "\n",
       "  first_name  last_name  obsolete  \n",
       "0     Satoko  Shimazaki         0  \n",
       "1     Satoko  Shimazaki         0  \n",
       "2     Satoko  Shimazaki         0  "
      ]
     },
     "execution_count": 42,
     "metadata": {},
     "output_type": "execute_result"
    }
   ],
   "source": [
    "%%dsldf \n",
    "search researchers where obsolete=0 for \"\\\"Satoko Shimazaki\\\"\" \n",
    "return researchers[basics+obsolete] "
   ]
  },
  {
   "cell_type": "markdown",
   "metadata": {
    "Collapsed": "false"
   },
   "source": [
    "With `Researchers`, one can use other fields as well:"
   ]
  },
  {
   "cell_type": "code",
   "execution_count": 43,
   "metadata": {
    "Collapsed": "false"
   },
   "outputs": [
    {
     "name": "stdout",
     "output_type": "stream",
     "text": [
      "Returned Researchers: 5 (total = 468)\n"
     ]
    },
    {
     "data": {
      "text/html": [
       "<div>\n",
       "<style scoped>\n",
       "    .dataframe tbody tr th:only-of-type {\n",
       "        vertical-align: middle;\n",
       "    }\n",
       "\n",
       "    .dataframe tbody tr th {\n",
       "        vertical-align: top;\n",
       "    }\n",
       "\n",
       "    .dataframe thead th {\n",
       "        text-align: right;\n",
       "    }\n",
       "</style>\n",
       "<table border=\"1\" class=\"dataframe\">\n",
       "  <thead>\n",
       "    <tr style=\"text-align: right;\">\n",
       "      <th></th>\n",
       "      <th>id</th>\n",
       "      <th>research_orgs</th>\n",
       "      <th>first_name</th>\n",
       "      <th>last_name</th>\n",
       "    </tr>\n",
       "  </thead>\n",
       "  <tbody>\n",
       "    <tr>\n",
       "      <th>0</th>\n",
       "      <td>ur.013510032403.65</td>\n",
       "      <td>[{'id': 'grid.419075.e', 'acronym': 'ARC', 'st...</td>\n",
       "      <td>Tatsuo</td>\n",
       "      <td>Shimazaki</td>\n",
       "    </tr>\n",
       "    <tr>\n",
       "      <th>1</th>\n",
       "      <td>ur.010700310627.87</td>\n",
       "      <td>[{'id': 'grid.471199.3', 'city_name': 'Kyoto',...</td>\n",
       "      <td>Tomomi</td>\n",
       "      <td>Shimazaki</td>\n",
       "    </tr>\n",
       "    <tr>\n",
       "      <th>2</th>\n",
       "      <td>ur.011035131473.19</td>\n",
       "      <td>[{'id': 'grid.415776.6', 'acronym': 'NIPH', 'c...</td>\n",
       "      <td>Dai</td>\n",
       "      <td>Shimazaki</td>\n",
       "    </tr>\n",
       "    <tr>\n",
       "      <th>3</th>\n",
       "      <td>ur.016627632300.80</td>\n",
       "      <td>NaN</td>\n",
       "      <td>Koji</td>\n",
       "      <td>Shimazaki</td>\n",
       "    </tr>\n",
       "    <tr>\n",
       "      <th>4</th>\n",
       "      <td>ur.013205240215.48</td>\n",
       "      <td>[{'id': 'grid.420062.2', 'city_name': 'Tokyo',...</td>\n",
       "      <td>Toshiyuki</td>\n",
       "      <td>Shimazaki</td>\n",
       "    </tr>\n",
       "  </tbody>\n",
       "</table>\n",
       "</div>"
      ],
      "text/plain": [
       "                   id                                      research_orgs  \\\n",
       "0  ur.013510032403.65  [{'id': 'grid.419075.e', 'acronym': 'ARC', 'st...   \n",
       "1  ur.010700310627.87  [{'id': 'grid.471199.3', 'city_name': 'Kyoto',...   \n",
       "2  ur.011035131473.19  [{'id': 'grid.415776.6', 'acronym': 'NIPH', 'c...   \n",
       "3  ur.016627632300.80                                                NaN   \n",
       "4  ur.013205240215.48  [{'id': 'grid.420062.2', 'city_name': 'Tokyo',...   \n",
       "\n",
       "  first_name  last_name  \n",
       "0     Tatsuo  Shimazaki  \n",
       "1     Tomomi  Shimazaki  \n",
       "2        Dai  Shimazaki  \n",
       "3       Koji  Shimazaki  \n",
       "4  Toshiyuki  Shimazaki  "
      ]
     },
     "execution_count": 43,
     "metadata": {},
     "output_type": "execute_result"
    }
   ],
   "source": [
    "%%dsldf \n",
    "search researchers \n",
    "    where obsolete=0 and last_name=\"Shimazaki\" \n",
    "return researchers[basics] limit 5"
   ]
  },
  {
   "cell_type": "markdown",
   "metadata": {
    "Collapsed": "false"
   },
   "source": [
    "## 5. Returning results\n",
    "\n",
    "After the `search` phrase, a query must contain one or more `return`\n",
    "phrases, specifying the content and format of the information that\n",
    "should be returned."
   ]
  },
  {
   "cell_type": "markdown",
   "metadata": {
    "Collapsed": "false"
   },
   "source": [
    "\n",
    "\n",
    "### 5.1 Returning Multiple Sources\n",
    "\n",
    "Multiple results may not be returned in a single `return` phrase."
   ]
  },
  {
   "cell_type": "code",
   "execution_count": 44,
   "metadata": {
    "Collapsed": "false"
   },
   "outputs": [
    {
     "name": "stdout",
     "output_type": "stream",
     "text": [
      "Returned Year: 20\n",
      "Returned Funders: 5\n",
      "Returned Research_orgs: 5\n",
      "[Warning] Dataframe created from first available key, but more than one JSON key found: ['year', 'funders', 'research_orgs']\n"
     ]
    },
    {
     "data": {
      "text/html": [
       "<div>\n",
       "<style scoped>\n",
       "    .dataframe tbody tr th:only-of-type {\n",
       "        vertical-align: middle;\n",
       "    }\n",
       "\n",
       "    .dataframe tbody tr th {\n",
       "        vertical-align: top;\n",
       "    }\n",
       "\n",
       "    .dataframe thead th {\n",
       "        text-align: right;\n",
       "    }\n",
       "</style>\n",
       "<table border=\"1\" class=\"dataframe\">\n",
       "  <thead>\n",
       "    <tr style=\"text-align: right;\">\n",
       "      <th></th>\n",
       "      <th>id</th>\n",
       "      <th>count</th>\n",
       "    </tr>\n",
       "  </thead>\n",
       "  <tbody>\n",
       "    <tr>\n",
       "      <th>0</th>\n",
       "      <td>2019</td>\n",
       "      <td>5488513</td>\n",
       "    </tr>\n",
       "    <tr>\n",
       "      <th>1</th>\n",
       "      <td>2018</td>\n",
       "      <td>5118512</td>\n",
       "    </tr>\n",
       "    <tr>\n",
       "      <th>2</th>\n",
       "      <td>2017</td>\n",
       "      <td>4789054</td>\n",
       "    </tr>\n",
       "    <tr>\n",
       "      <th>3</th>\n",
       "      <td>2016</td>\n",
       "      <td>4403893</td>\n",
       "    </tr>\n",
       "    <tr>\n",
       "      <th>4</th>\n",
       "      <td>2015</td>\n",
       "      <td>4219869</td>\n",
       "    </tr>\n",
       "    <tr>\n",
       "      <th>5</th>\n",
       "      <td>2014</td>\n",
       "      <td>4077817</td>\n",
       "    </tr>\n",
       "    <tr>\n",
       "      <th>6</th>\n",
       "      <td>2013</td>\n",
       "      <td>3885112</td>\n",
       "    </tr>\n",
       "    <tr>\n",
       "      <th>7</th>\n",
       "      <td>2012</td>\n",
       "      <td>3624608</td>\n",
       "    </tr>\n",
       "    <tr>\n",
       "      <th>8</th>\n",
       "      <td>2011</td>\n",
       "      <td>3506759</td>\n",
       "    </tr>\n",
       "    <tr>\n",
       "      <th>9</th>\n",
       "      <td>2010</td>\n",
       "      <td>3090707</td>\n",
       "    </tr>\n",
       "    <tr>\n",
       "      <th>10</th>\n",
       "      <td>2009</td>\n",
       "      <td>2960156</td>\n",
       "    </tr>\n",
       "    <tr>\n",
       "      <th>11</th>\n",
       "      <td>2007</td>\n",
       "      <td>2804855</td>\n",
       "    </tr>\n",
       "    <tr>\n",
       "      <th>12</th>\n",
       "      <td>2008</td>\n",
       "      <td>2789225</td>\n",
       "    </tr>\n",
       "    <tr>\n",
       "      <th>13</th>\n",
       "      <td>2020</td>\n",
       "      <td>2506606</td>\n",
       "    </tr>\n",
       "    <tr>\n",
       "      <th>14</th>\n",
       "      <td>2006</td>\n",
       "      <td>2496433</td>\n",
       "    </tr>\n",
       "    <tr>\n",
       "      <th>15</th>\n",
       "      <td>2005</td>\n",
       "      <td>2283046</td>\n",
       "    </tr>\n",
       "    <tr>\n",
       "      <th>16</th>\n",
       "      <td>2004</td>\n",
       "      <td>2163862</td>\n",
       "    </tr>\n",
       "    <tr>\n",
       "      <th>17</th>\n",
       "      <td>2003</td>\n",
       "      <td>1972500</td>\n",
       "    </tr>\n",
       "    <tr>\n",
       "      <th>18</th>\n",
       "      <td>2002</td>\n",
       "      <td>1841789</td>\n",
       "    </tr>\n",
       "    <tr>\n",
       "      <th>19</th>\n",
       "      <td>2001</td>\n",
       "      <td>1779842</td>\n",
       "    </tr>\n",
       "  </tbody>\n",
       "</table>\n",
       "</div>"
      ],
      "text/plain": [
       "      id    count\n",
       "0   2019  5488513\n",
       "1   2018  5118512\n",
       "2   2017  4789054\n",
       "3   2016  4403893\n",
       "4   2015  4219869\n",
       "5   2014  4077817\n",
       "6   2013  3885112\n",
       "7   2012  3624608\n",
       "8   2011  3506759\n",
       "9   2010  3090707\n",
       "10  2009  2960156\n",
       "11  2007  2804855\n",
       "12  2008  2789225\n",
       "13  2020  2506606\n",
       "14  2006  2496433\n",
       "15  2005  2283046\n",
       "16  2004  2163862\n",
       "17  2003  1972500\n",
       "18  2002  1841789\n",
       "19  2001  1779842"
      ]
     },
     "execution_count": 44,
     "metadata": {},
     "output_type": "execute_result"
    }
   ],
   "source": [
    "%%dsldf \n",
    "search publications \n",
    "return funders limit 5 \n",
    "return research_orgs limit 5 \n",
    "return year"
   ]
  },
  {
   "cell_type": "markdown",
   "metadata": {
    "Collapsed": "false"
   },
   "source": [
    "\n",
    "### 5.2 Returning Specific Fields\n",
    "\n",
    "For control over which information from each given `record` will be\n",
    "returned, a `source` or `entity` name in the `results` phrase can be\n",
    "optionally followed by a specification of `fields` and `fieldsets` to be\n",
    "included in the JSON results for each retrieved record.\n",
    "\n",
    "The fields specification may be an arbitrary list of `field` names\n",
    "enclosed in brackets (`[`, `]`), with field names separated by a plus\n",
    "sign (`+`). Minus sign (`-`) can be used to exclude `field` or a\n",
    "`fieldset` from the result. Field names thus listed within brackets must\n",
    "be \"known\" to the DSL, and therefore only a subset of fields may be used\n",
    "in this syntax (see note below)."
   ]
  },
  {
   "cell_type": "code",
   "execution_count": 45,
   "metadata": {
    "Collapsed": "false"
   },
   "outputs": [
    {
     "name": "stdout",
     "output_type": "stream",
     "text": [
      "Returned Grants: 5 (total = 5310256)\n"
     ]
    },
    {
     "data": {
      "text/html": [
       "<div>\n",
       "<style scoped>\n",
       "    .dataframe tbody tr th:only-of-type {\n",
       "        vertical-align: middle;\n",
       "    }\n",
       "\n",
       "    .dataframe tbody tr th {\n",
       "        vertical-align: top;\n",
       "    }\n",
       "\n",
       "    .dataframe thead th {\n",
       "        text-align: right;\n",
       "    }\n",
       "</style>\n",
       "<table border=\"1\" class=\"dataframe\">\n",
       "  <thead>\n",
       "    <tr style=\"text-align: right;\">\n",
       "      <th></th>\n",
       "      <th>grant_number</th>\n",
       "      <th>title</th>\n",
       "      <th>language</th>\n",
       "    </tr>\n",
       "  </thead>\n",
       "  <tbody>\n",
       "    <tr>\n",
       "      <th>0</th>\n",
       "      <td>2018-HRSI-1548</td>\n",
       "      <td>APPROACH to Enriching the Real World Evidence ...</td>\n",
       "      <td>en</td>\n",
       "    </tr>\n",
       "    <tr>\n",
       "      <th>1</th>\n",
       "      <td>1301720F</td>\n",
       "      <td>Molecular mechanism of DNA double strand break...</td>\n",
       "      <td>en</td>\n",
       "    </tr>\n",
       "    <tr>\n",
       "      <th>2</th>\n",
       "      <td>M 2734</td>\n",
       "      <td>Life as concept and as science</td>\n",
       "      <td>en</td>\n",
       "    </tr>\n",
       "    <tr>\n",
       "      <th>3</th>\n",
       "      <td>892933</td>\n",
       "      <td>Scintillation Light For New Physics with Liqui...</td>\n",
       "      <td>en</td>\n",
       "    </tr>\n",
       "    <tr>\n",
       "      <th>4</th>\n",
       "      <td>893021</td>\n",
       "      <td>Jet quenching for heavy-ion collisions at the LHC</td>\n",
       "      <td>en</td>\n",
       "    </tr>\n",
       "  </tbody>\n",
       "</table>\n",
       "</div>"
      ],
      "text/plain": [
       "     grant_number                                              title language\n",
       "0  2018-HRSI-1548  APPROACH to Enriching the Real World Evidence ...       en\n",
       "1        1301720F  Molecular mechanism of DNA double strand break...       en\n",
       "2          M 2734                     Life as concept and as science       en\n",
       "3          892933  Scintillation Light For New Physics with Liqui...       en\n",
       "4          893021  Jet quenching for heavy-ion collisions at the LHC       en"
      ]
     },
     "execution_count": 45,
     "metadata": {},
     "output_type": "execute_result"
    }
   ],
   "source": [
    "%%dsldf \n",
    "search grants \n",
    "return grants[grant_number + title + language] limit 5"
   ]
  },
  {
   "cell_type": "code",
   "execution_count": 46,
   "metadata": {
    "Collapsed": "false"
   },
   "outputs": [
    {
     "name": "stdout",
     "output_type": "stream",
     "text": [
      "Returned Clinical_trials: 5 (total = 562451)\n"
     ]
    },
    {
     "data": {
      "text/html": [
       "<div>\n",
       "<style scoped>\n",
       "    .dataframe tbody tr th:only-of-type {\n",
       "        vertical-align: middle;\n",
       "    }\n",
       "\n",
       "    .dataframe tbody tr th {\n",
       "        vertical-align: top;\n",
       "    }\n",
       "\n",
       "    .dataframe thead th {\n",
       "        text-align: right;\n",
       "    }\n",
       "</style>\n",
       "<table border=\"1\" class=\"dataframe\">\n",
       "  <thead>\n",
       "    <tr style=\"text-align: right;\">\n",
       "      <th></th>\n",
       "      <th>id</th>\n",
       "      <th>title</th>\n",
       "      <th>phase</th>\n",
       "      <th>acronym</th>\n",
       "    </tr>\n",
       "  </thead>\n",
       "  <tbody>\n",
       "    <tr>\n",
       "      <th>0</th>\n",
       "      <td>NCT00249756</td>\n",
       "      <td>Re-Entry MTC for Offenders With MICA Disorders</td>\n",
       "      <td>NaN</td>\n",
       "      <td>NaN</td>\n",
       "    </tr>\n",
       "    <tr>\n",
       "      <th>1</th>\n",
       "      <td>NCT00249782</td>\n",
       "      <td>A Phase II, Randomized, Partial-Blind, Paralle...</td>\n",
       "      <td>Phase 2</td>\n",
       "      <td>NaN</td>\n",
       "    </tr>\n",
       "    <tr>\n",
       "      <th>2</th>\n",
       "      <td>NCT00249795</td>\n",
       "      <td>A Parallel Randomized Controlled Evaluation of...</td>\n",
       "      <td>Phase 3</td>\n",
       "      <td>ACTIVE I</td>\n",
       "    </tr>\n",
       "    <tr>\n",
       "      <th>3</th>\n",
       "      <td>NCT00249847</td>\n",
       "      <td>A Feasibility Study of Positron Emission Tomog...</td>\n",
       "      <td>NaN</td>\n",
       "      <td>NaN</td>\n",
       "    </tr>\n",
       "    <tr>\n",
       "      <th>4</th>\n",
       "      <td>NCT00249860</td>\n",
       "      <td>A Multicentre Phase III Study of Interferon-be...</td>\n",
       "      <td>Phase 3</td>\n",
       "      <td>NaN</td>\n",
       "    </tr>\n",
       "  </tbody>\n",
       "</table>\n",
       "</div>"
      ],
      "text/plain": [
       "            id                                              title    phase  \\\n",
       "0  NCT00249756     Re-Entry MTC for Offenders With MICA Disorders      NaN   \n",
       "1  NCT00249782  A Phase II, Randomized, Partial-Blind, Paralle...  Phase 2   \n",
       "2  NCT00249795  A Parallel Randomized Controlled Evaluation of...  Phase 3   \n",
       "3  NCT00249847  A Feasibility Study of Positron Emission Tomog...      NaN   \n",
       "4  NCT00249860  A Multicentre Phase III Study of Interferon-be...  Phase 3   \n",
       "\n",
       "    acronym  \n",
       "0       NaN  \n",
       "1       NaN  \n",
       "2  ACTIVE I  \n",
       "3       NaN  \n",
       "4       NaN  "
      ]
     },
     "execution_count": 46,
     "metadata": {},
     "output_type": "execute_result"
    }
   ],
   "source": [
    "%%dsldf \n",
    "search clinical_trials \n",
    "return clinical_trials [id+ title + acronym + phase] limit 5"
   ]
  },
  {
   "cell_type": "markdown",
   "metadata": {
    "Collapsed": "false"
   },
   "source": [
    "**Shortcuts: `fieldsets`**\n",
    "\n",
    "The fields specification may be the name of a pre-defined `fieldset`\n",
    "(e.g. `extras`, `basics`). These are shortcuts that can be handy when testing out new queries, for example. \n",
    "\n",
    "NOTE In general when writing code used in integrations or long-standing extraction scripts it is **best to return specific fields rather that a predefined set**. This has also the advantage of making queries faster by avoiding the extraction of unnecessary data.\n",
    "    "
   ]
  },
  {
   "cell_type": "code",
   "execution_count": 47,
   "metadata": {
    "Collapsed": "false"
   },
   "outputs": [
    {
     "name": "stdout",
     "output_type": "stream",
     "text": [
      "Returned Grants: 5 (total = 5310256)\n",
      "WARNINGS [2]\n",
      "Field 'project_num' is deprecated in favor of grant_number. Please refer to https://docs.dimensions.ai/dsl/releasenotes.html for more details\n",
      "Field 'title_language' is deprecated in favor of language_title. Please refer to https://docs.dimensions.ai/dsl/releasenotes.html for more details\n"
     ]
    },
    {
     "data": {
      "text/html": [
       "<div>\n",
       "<style scoped>\n",
       "    .dataframe tbody tr th:only-of-type {\n",
       "        vertical-align: middle;\n",
       "    }\n",
       "\n",
       "    .dataframe tbody tr th {\n",
       "        vertical-align: top;\n",
       "    }\n",
       "\n",
       "    .dataframe thead th {\n",
       "        text-align: right;\n",
       "    }\n",
       "</style>\n",
       "<table border=\"1\" class=\"dataframe\">\n",
       "  <thead>\n",
       "    <tr style=\"text-align: right;\">\n",
       "      <th></th>\n",
       "      <th>start_date</th>\n",
       "      <th>title</th>\n",
       "      <th>language</th>\n",
       "      <th>project_num</th>\n",
       "      <th>id</th>\n",
       "      <th>funders</th>\n",
       "      <th>original_title</th>\n",
       "      <th>funding_org_name</th>\n",
       "      <th>start_year</th>\n",
       "      <th>title_language</th>\n",
       "      <th>active_year</th>\n",
       "      <th>end_date</th>\n",
       "    </tr>\n",
       "  </thead>\n",
       "  <tbody>\n",
       "    <tr>\n",
       "      <th>0</th>\n",
       "      <td>2021-11-30</td>\n",
       "      <td>APPROACH to Enriching the Real World Evidence ...</td>\n",
       "      <td>en</td>\n",
       "      <td>2018-HRSI-1548</td>\n",
       "      <td>grant.8690978</td>\n",
       "      <td>[{'id': 'grid.484521.e', 'types': ['Nonprofit'...</td>\n",
       "      <td>APPROACH to Enriching the Real World Evidence ...</td>\n",
       "      <td>New Brunswick Health Research Foundation</td>\n",
       "      <td>2021</td>\n",
       "      <td>en</td>\n",
       "      <td>[2021]</td>\n",
       "      <td>NaN</td>\n",
       "    </tr>\n",
       "    <tr>\n",
       "      <th>1</th>\n",
       "      <td>2021-10-01</td>\n",
       "      <td>Molecular mechanism of DNA double strand break...</td>\n",
       "      <td>en</td>\n",
       "      <td>1301720F</td>\n",
       "      <td>grant.8950252</td>\n",
       "      <td>[{'id': 'grid.424470.1', 'types': ['Nonprofit'...</td>\n",
       "      <td>Mécanismes moléculaires de la formation et la ...</td>\n",
       "      <td>Fund for Scientific Research</td>\n",
       "      <td>2021</td>\n",
       "      <td>en</td>\n",
       "      <td>[2021]</td>\n",
       "      <td>NaN</td>\n",
       "    </tr>\n",
       "    <tr>\n",
       "      <th>2</th>\n",
       "      <td>2021-10-01</td>\n",
       "      <td>Life as concept and as science</td>\n",
       "      <td>en</td>\n",
       "      <td>M 2734</td>\n",
       "      <td>grant.8715161</td>\n",
       "      <td>[{'id': 'grid.25111.36', 'types': ['Nonprofit'...</td>\n",
       "      <td>Life as concept and as science</td>\n",
       "      <td>FWF Austrian Science Fund</td>\n",
       "      <td>2021</td>\n",
       "      <td>en</td>\n",
       "      <td>[2021, 2022, 2023]</td>\n",
       "      <td>2023-09-30</td>\n",
       "    </tr>\n",
       "    <tr>\n",
       "      <th>3</th>\n",
       "      <td>2021-09-01</td>\n",
       "      <td>Scintillation Light For New Physics with Liqui...</td>\n",
       "      <td>en</td>\n",
       "      <td>892933</td>\n",
       "      <td>grant.8964235</td>\n",
       "      <td>[{'id': 'grid.270680.b', 'types': ['Government...</td>\n",
       "      <td>Scintillation Light For New Physics with Liqui...</td>\n",
       "      <td>European Commission</td>\n",
       "      <td>2021</td>\n",
       "      <td>en</td>\n",
       "      <td>[2021, 2022, 2023]</td>\n",
       "      <td>2023-08-31</td>\n",
       "    </tr>\n",
       "    <tr>\n",
       "      <th>4</th>\n",
       "      <td>2021-09-01</td>\n",
       "      <td>Jet quenching for heavy-ion collisions at the LHC</td>\n",
       "      <td>en</td>\n",
       "      <td>893021</td>\n",
       "      <td>grant.8963889</td>\n",
       "      <td>[{'id': 'grid.270680.b', 'types': ['Government...</td>\n",
       "      <td>Jet quenching for heavy-ion collisions at the LHC</td>\n",
       "      <td>European Commission</td>\n",
       "      <td>2021</td>\n",
       "      <td>en</td>\n",
       "      <td>[2021, 2022, 2023]</td>\n",
       "      <td>2023-08-31</td>\n",
       "    </tr>\n",
       "  </tbody>\n",
       "</table>\n",
       "</div>"
      ],
      "text/plain": [
       "   start_date                                              title language  \\\n",
       "0  2021-11-30  APPROACH to Enriching the Real World Evidence ...       en   \n",
       "1  2021-10-01  Molecular mechanism of DNA double strand break...       en   \n",
       "2  2021-10-01                     Life as concept and as science       en   \n",
       "3  2021-09-01  Scintillation Light For New Physics with Liqui...       en   \n",
       "4  2021-09-01  Jet quenching for heavy-ion collisions at the LHC       en   \n",
       "\n",
       "      project_num             id  \\\n",
       "0  2018-HRSI-1548  grant.8690978   \n",
       "1        1301720F  grant.8950252   \n",
       "2          M 2734  grant.8715161   \n",
       "3          892933  grant.8964235   \n",
       "4          893021  grant.8963889   \n",
       "\n",
       "                                             funders  \\\n",
       "0  [{'id': 'grid.484521.e', 'types': ['Nonprofit'...   \n",
       "1  [{'id': 'grid.424470.1', 'types': ['Nonprofit'...   \n",
       "2  [{'id': 'grid.25111.36', 'types': ['Nonprofit'...   \n",
       "3  [{'id': 'grid.270680.b', 'types': ['Government...   \n",
       "4  [{'id': 'grid.270680.b', 'types': ['Government...   \n",
       "\n",
       "                                      original_title  \\\n",
       "0  APPROACH to Enriching the Real World Evidence ...   \n",
       "1  Mécanismes moléculaires de la formation et la ...   \n",
       "2                     Life as concept and as science   \n",
       "3  Scintillation Light For New Physics with Liqui...   \n",
       "4  Jet quenching for heavy-ion collisions at the LHC   \n",
       "\n",
       "                           funding_org_name  start_year title_language  \\\n",
       "0  New Brunswick Health Research Foundation        2021             en   \n",
       "1              Fund for Scientific Research        2021             en   \n",
       "2                 FWF Austrian Science Fund        2021             en   \n",
       "3                       European Commission        2021             en   \n",
       "4                       European Commission        2021             en   \n",
       "\n",
       "          active_year    end_date  \n",
       "0              [2021]         NaN  \n",
       "1              [2021]         NaN  \n",
       "2  [2021, 2022, 2023]  2023-09-30  \n",
       "3  [2021, 2022, 2023]  2023-08-31  \n",
       "4  [2021, 2022, 2023]  2023-08-31  "
      ]
     },
     "execution_count": 47,
     "metadata": {},
     "output_type": "execute_result"
    }
   ],
   "source": [
    "%%dsldf \n",
    "search grants \n",
    "return grants [basics] limit 5 "
   ]
  },
  {
   "cell_type": "code",
   "execution_count": 48,
   "metadata": {
    "Collapsed": "false"
   },
   "outputs": [
    {
     "name": "stdout",
     "output_type": "stream",
     "text": [
      "Returned Publications: 5 (total = 110113720)\n",
      "WARNINGS [1]\n",
      "Field 'author_affiliations' is deprecated in favor of authors. Please refer to https://docs.dimensions.ai/dsl/releasenotes.html for more details\n"
     ]
    },
    {
     "data": {
      "text/html": [
       "<div>\n",
       "<style scoped>\n",
       "    .dataframe tbody tr th:only-of-type {\n",
       "        vertical-align: middle;\n",
       "    }\n",
       "\n",
       "    .dataframe tbody tr th {\n",
       "        vertical-align: top;\n",
       "    }\n",
       "\n",
       "    .dataframe thead th {\n",
       "        text-align: right;\n",
       "    }\n",
       "</style>\n",
       "<table border=\"1\" class=\"dataframe\">\n",
       "  <thead>\n",
       "    <tr style=\"text-align: right;\">\n",
       "      <th></th>\n",
       "      <th>type</th>\n",
       "      <th>times_cited</th>\n",
       "      <th>pages</th>\n",
       "      <th>author_affiliations</th>\n",
       "      <th>year</th>\n",
       "      <th>id</th>\n",
       "      <th>title</th>\n",
       "      <th>journal.id</th>\n",
       "      <th>journal.title</th>\n",
       "      <th>issue</th>\n",
       "      <th>volume</th>\n",
       "    </tr>\n",
       "  </thead>\n",
       "  <tbody>\n",
       "    <tr>\n",
       "      <th>0</th>\n",
       "      <td>article</td>\n",
       "      <td>0</td>\n",
       "      <td>1-18</td>\n",
       "      <td>[[{'first_name': 'Nihal', 'last_name': 'ATA TU...</td>\n",
       "      <td>2020</td>\n",
       "      <td>pub.1125931386</td>\n",
       "      <td>Visual research on the trustability of classic...</td>\n",
       "      <td>jour.1142190</td>\n",
       "      <td>Hacettepe Journal of Mathematics and Statistics</td>\n",
       "      <td>NaN</td>\n",
       "      <td>NaN</td>\n",
       "    </tr>\n",
       "    <tr>\n",
       "      <th>1</th>\n",
       "      <td>chapter</td>\n",
       "      <td>0</td>\n",
       "      <td>21-48</td>\n",
       "      <td>[[{'first_name': 'Nienke', 'last_name': 'Bakke...</td>\n",
       "      <td>2020</td>\n",
       "      <td>pub.1125801740</td>\n",
       "      <td>2. The Sunflowers in Perspective</td>\n",
       "      <td>NaN</td>\n",
       "      <td>NaN</td>\n",
       "      <td>NaN</td>\n",
       "      <td>NaN</td>\n",
       "    </tr>\n",
       "    <tr>\n",
       "      <th>2</th>\n",
       "      <td>chapter</td>\n",
       "      <td>0</td>\n",
       "      <td>333-349</td>\n",
       "      <td>NaN</td>\n",
       "      <td>2020</td>\n",
       "      <td>pub.1125632078</td>\n",
       "      <td>Literature</td>\n",
       "      <td>NaN</td>\n",
       "      <td>NaN</td>\n",
       "      <td>NaN</td>\n",
       "      <td>NaN</td>\n",
       "    </tr>\n",
       "    <tr>\n",
       "      <th>3</th>\n",
       "      <td>monograph</td>\n",
       "      <td>32</td>\n",
       "      <td>NaN</td>\n",
       "      <td>[[{'first_name': 'Jochen', 'last_name': 'Taupi...</td>\n",
       "      <td>2020</td>\n",
       "      <td>pub.1096916023</td>\n",
       "      <td>Die Standesordnungen der freien Berufe</td>\n",
       "      <td>NaN</td>\n",
       "      <td>NaN</td>\n",
       "      <td>NaN</td>\n",
       "      <td>NaN</td>\n",
       "    </tr>\n",
       "    <tr>\n",
       "      <th>4</th>\n",
       "      <td>article</td>\n",
       "      <td>0</td>\n",
       "      <td>1711335</td>\n",
       "      <td>[[{'first_name': 'Nathaly', 'last_name': 'Aya ...</td>\n",
       "      <td>2020</td>\n",
       "      <td>pub.1124196727</td>\n",
       "      <td>The gender responsiveness of social marketing ...</td>\n",
       "      <td>jour.1041075</td>\n",
       "      <td>Global Health Action</td>\n",
       "      <td>1</td>\n",
       "      <td>13</td>\n",
       "    </tr>\n",
       "  </tbody>\n",
       "</table>\n",
       "</div>"
      ],
      "text/plain": [
       "        type  times_cited    pages  \\\n",
       "0    article            0     1-18   \n",
       "1    chapter            0    21-48   \n",
       "2    chapter            0  333-349   \n",
       "3  monograph           32      NaN   \n",
       "4    article            0  1711335   \n",
       "\n",
       "                                 author_affiliations  year              id  \\\n",
       "0  [[{'first_name': 'Nihal', 'last_name': 'ATA TU...  2020  pub.1125931386   \n",
       "1  [[{'first_name': 'Nienke', 'last_name': 'Bakke...  2020  pub.1125801740   \n",
       "2                                                NaN  2020  pub.1125632078   \n",
       "3  [[{'first_name': 'Jochen', 'last_name': 'Taupi...  2020  pub.1096916023   \n",
       "4  [[{'first_name': 'Nathaly', 'last_name': 'Aya ...  2020  pub.1124196727   \n",
       "\n",
       "                                               title    journal.id  \\\n",
       "0  Visual research on the trustability of classic...  jour.1142190   \n",
       "1                   2. The Sunflowers in Perspective           NaN   \n",
       "2                                         Literature           NaN   \n",
       "3             Die Standesordnungen der freien Berufe           NaN   \n",
       "4  The gender responsiveness of social marketing ...  jour.1041075   \n",
       "\n",
       "                                     journal.title issue volume  \n",
       "0  Hacettepe Journal of Mathematics and Statistics   NaN    NaN  \n",
       "1                                              NaN   NaN    NaN  \n",
       "2                                              NaN   NaN    NaN  \n",
       "3                                              NaN   NaN    NaN  \n",
       "4                             Global Health Action     1     13  "
      ]
     },
     "execution_count": 48,
     "metadata": {},
     "output_type": "execute_result"
    }
   ],
   "source": [
    "%%dsldf \n",
    "search publications \n",
    "return publications [basics+times_cited] limit 5 "
   ]
  },
  {
   "cell_type": "markdown",
   "metadata": {
    "Collapsed": "false"
   },
   "source": [
    "The fields specification may be an (`all`), to indicate that all fields\n",
    "available for the given `source` should be returned."
   ]
  },
  {
   "cell_type": "code",
   "execution_count": 49,
   "metadata": {
    "Collapsed": "false"
   },
   "outputs": [
    {
     "name": "stdout",
     "output_type": "stream",
     "text": [
      "Returned Publications: 5 (total = 110113720)\n",
      "WARNINGS [10]\n",
      "Field 'FOR_first' is deprecated in favor of category_for. Please refer to https://docs.dimensions.ai/dsl/releasenotes.html for more details\n",
      "Field 'FOR' is deprecated in favor of category_for. Please refer to https://docs.dimensions.ai/dsl/releasenotes.html for more details\n",
      "Field 'author_affiliations' is deprecated in favor of authors. Please refer to https://docs.dimensions.ai/dsl/releasenotes.html for more details\n",
      "Field 'terms' is deprecated in favor of concepts. Please refer to https://docs.dimensions.ai/dsl/releasenotes.html for more details\n",
      "Field 'RCDC' is deprecated in favor of category_rcdc. Please refer to https://docs.dimensions.ai/dsl/releasenotes.html for more details\n",
      "Field 'HRCS_RAC' is deprecated in favor of category_hrcs_rac. Please refer to https://docs.dimensions.ai/dsl/releasenotes.html for more details\n",
      "Field 'HRCS_HC' is deprecated in favor of category_hrcs_hc. Please refer to https://docs.dimensions.ai/dsl/releasenotes.html for more details\n",
      "Field 'open_access' is deprecated in favor of open_access_categories. Please refer to https://docs.dimensions.ai/dsl/releasenotes.html for more details\n",
      "Field 'references' is deprecated in favor of reference_ids. Please refer to https://docs.dimensions.ai/dsl/releasenotes.html for more details\n",
      "Field 'category_ua' is deprecated in favor of category_uoa. Please refer to https://docs.dimensions.ai/dsl/releasenotes.html for more details\n"
     ]
    },
    {
     "data": {
      "text/html": [
       "<div>\n",
       "<style scoped>\n",
       "    .dataframe tbody tr th:only-of-type {\n",
       "        vertical-align: middle;\n",
       "    }\n",
       "\n",
       "    .dataframe tbody tr th {\n",
       "        vertical-align: top;\n",
       "    }\n",
       "\n",
       "    .dataframe thead th {\n",
       "        text-align: right;\n",
       "    }\n",
       "</style>\n",
       "<table border=\"1\" class=\"dataframe\">\n",
       "  <thead>\n",
       "    <tr style=\"text-align: right;\">\n",
       "      <th></th>\n",
       "      <th>date_inserted</th>\n",
       "      <th>references</th>\n",
       "      <th>reference_ids</th>\n",
       "      <th>researchers</th>\n",
       "      <th>linkout</th>\n",
       "      <th>id</th>\n",
       "      <th>pages</th>\n",
       "      <th>concepts_scores</th>\n",
       "      <th>concepts</th>\n",
       "      <th>year</th>\n",
       "      <th>...</th>\n",
       "      <th>volume</th>\n",
       "      <th>RCDC</th>\n",
       "      <th>category_rcdc</th>\n",
       "      <th>research_org_country_names</th>\n",
       "      <th>research_org_countries</th>\n",
       "      <th>research_org_names</th>\n",
       "      <th>research_org_cities</th>\n",
       "      <th>category_hra</th>\n",
       "      <th>issue</th>\n",
       "      <th>research_orgs</th>\n",
       "    </tr>\n",
       "  </thead>\n",
       "  <tbody>\n",
       "    <tr>\n",
       "      <th>0</th>\n",
       "      <td>2020-03-28</td>\n",
       "      <td>[pub.1107763504, pub.1061471419, pub.100981774...</td>\n",
       "      <td>[pub.1107763504, pub.1061471419, pub.100981774...</td>\n",
       "      <td>[{'id': 'ur.015425340575.47', 'first_name': 'N...</td>\n",
       "      <td>https://dergipark.org.tr/tr/download/article-f...</td>\n",
       "      <td>pub.1125931386</td>\n",
       "      <td>1-18</td>\n",
       "      <td>[{'concept': 'Cox regression', 'relevance': 0....</td>\n",
       "      <td>[Cox regression, regression, research, method,...</td>\n",
       "      <td>2020</td>\n",
       "      <td>...</td>\n",
       "      <td>NaN</td>\n",
       "      <td>NaN</td>\n",
       "      <td>NaN</td>\n",
       "      <td>NaN</td>\n",
       "      <td>NaN</td>\n",
       "      <td>NaN</td>\n",
       "      <td>NaN</td>\n",
       "      <td>NaN</td>\n",
       "      <td>NaN</td>\n",
       "      <td>NaN</td>\n",
       "    </tr>\n",
       "    <tr>\n",
       "      <th>1</th>\n",
       "      <td>2020-03-22</td>\n",
       "      <td>NaN</td>\n",
       "      <td>NaN</td>\n",
       "      <td>NaN</td>\n",
       "      <td>NaN</td>\n",
       "      <td>pub.1125801740</td>\n",
       "      <td>21-48</td>\n",
       "      <td>[{'concept': 'perspective', 'relevance': 0.055...</td>\n",
       "      <td>[perspective, sunflower]</td>\n",
       "      <td>2020</td>\n",
       "      <td>...</td>\n",
       "      <td>NaN</td>\n",
       "      <td>NaN</td>\n",
       "      <td>NaN</td>\n",
       "      <td>NaN</td>\n",
       "      <td>NaN</td>\n",
       "      <td>NaN</td>\n",
       "      <td>NaN</td>\n",
       "      <td>NaN</td>\n",
       "      <td>NaN</td>\n",
       "      <td>NaN</td>\n",
       "    </tr>\n",
       "    <tr>\n",
       "      <th>2</th>\n",
       "      <td>2020-03-15</td>\n",
       "      <td>NaN</td>\n",
       "      <td>NaN</td>\n",
       "      <td>NaN</td>\n",
       "      <td>NaN</td>\n",
       "      <td>pub.1125632078</td>\n",
       "      <td>333-349</td>\n",
       "      <td>NaN</td>\n",
       "      <td>NaN</td>\n",
       "      <td>2020</td>\n",
       "      <td>...</td>\n",
       "      <td>NaN</td>\n",
       "      <td>NaN</td>\n",
       "      <td>NaN</td>\n",
       "      <td>NaN</td>\n",
       "      <td>NaN</td>\n",
       "      <td>NaN</td>\n",
       "      <td>NaN</td>\n",
       "      <td>NaN</td>\n",
       "      <td>NaN</td>\n",
       "      <td>NaN</td>\n",
       "    </tr>\n",
       "    <tr>\n",
       "      <th>3</th>\n",
       "      <td>2017-12-07</td>\n",
       "      <td>NaN</td>\n",
       "      <td>NaN</td>\n",
       "      <td>NaN</td>\n",
       "      <td>NaN</td>\n",
       "      <td>pub.1096916023</td>\n",
       "      <td>NaN</td>\n",
       "      <td>NaN</td>\n",
       "      <td>NaN</td>\n",
       "      <td>2020</td>\n",
       "      <td>...</td>\n",
       "      <td>NaN</td>\n",
       "      <td>NaN</td>\n",
       "      <td>NaN</td>\n",
       "      <td>NaN</td>\n",
       "      <td>NaN</td>\n",
       "      <td>NaN</td>\n",
       "      <td>NaN</td>\n",
       "      <td>NaN</td>\n",
       "      <td>NaN</td>\n",
       "      <td>NaN</td>\n",
       "    </tr>\n",
       "    <tr>\n",
       "      <th>4</th>\n",
       "      <td>2020-01-21</td>\n",
       "      <td>[pub.1038918292, pub.1013186597, pub.101488649...</td>\n",
       "      <td>[pub.1038918292, pub.1013186597, pub.101488649...</td>\n",
       "      <td>[{'id': 'ur.07430064243.75', 'first_name': 'Na...</td>\n",
       "      <td>https://www.tandfonline.com/doi/pdf/10.1080/16...</td>\n",
       "      <td>pub.1124196727</td>\n",
       "      <td>1711335</td>\n",
       "      <td>[{'concept': 'social marketing interventions',...</td>\n",
       "      <td>[social marketing interventions, tropical dise...</td>\n",
       "      <td>2020</td>\n",
       "      <td>...</td>\n",
       "      <td>13</td>\n",
       "      <td>[{'id': '498', 'name': 'Behavioral and Social ...</td>\n",
       "      <td>[{'id': '498', 'name': 'Behavioral and Social ...</td>\n",
       "      <td>[Switzerland]</td>\n",
       "      <td>[{'id': 'CH', 'name': 'Switzerland'}]</td>\n",
       "      <td>[Universita della Svizzera Italiana, Graduate ...</td>\n",
       "      <td>[{'id': 2657896, 'name': 'Zürich'}, {'id': 265...</td>\n",
       "      <td>[{'id': '3903', 'name': 'Population &amp; Society'}]</td>\n",
       "      <td>1</td>\n",
       "      <td>[{'id': 'grid.424404.2', 'types': ['Education'...</td>\n",
       "    </tr>\n",
       "  </tbody>\n",
       "</table>\n",
       "<p>5 rows × 53 columns</p>\n",
       "</div>"
      ],
      "text/plain": [
       "  date_inserted                                         references  \\\n",
       "0    2020-03-28  [pub.1107763504, pub.1061471419, pub.100981774...   \n",
       "1    2020-03-22                                                NaN   \n",
       "2    2020-03-15                                                NaN   \n",
       "3    2017-12-07                                                NaN   \n",
       "4    2020-01-21  [pub.1038918292, pub.1013186597, pub.101488649...   \n",
       "\n",
       "                                       reference_ids  \\\n",
       "0  [pub.1107763504, pub.1061471419, pub.100981774...   \n",
       "1                                                NaN   \n",
       "2                                                NaN   \n",
       "3                                                NaN   \n",
       "4  [pub.1038918292, pub.1013186597, pub.101488649...   \n",
       "\n",
       "                                         researchers  \\\n",
       "0  [{'id': 'ur.015425340575.47', 'first_name': 'N...   \n",
       "1                                                NaN   \n",
       "2                                                NaN   \n",
       "3                                                NaN   \n",
       "4  [{'id': 'ur.07430064243.75', 'first_name': 'Na...   \n",
       "\n",
       "                                             linkout              id    pages  \\\n",
       "0  https://dergipark.org.tr/tr/download/article-f...  pub.1125931386     1-18   \n",
       "1                                                NaN  pub.1125801740    21-48   \n",
       "2                                                NaN  pub.1125632078  333-349   \n",
       "3                                                NaN  pub.1096916023      NaN   \n",
       "4  https://www.tandfonline.com/doi/pdf/10.1080/16...  pub.1124196727  1711335   \n",
       "\n",
       "                                     concepts_scores  \\\n",
       "0  [{'concept': 'Cox regression', 'relevance': 0....   \n",
       "1  [{'concept': 'perspective', 'relevance': 0.055...   \n",
       "2                                                NaN   \n",
       "3                                                NaN   \n",
       "4  [{'concept': 'social marketing interventions',...   \n",
       "\n",
       "                                            concepts  year  ... volume  \\\n",
       "0  [Cox regression, regression, research, method,...  2020  ...    NaN   \n",
       "1                           [perspective, sunflower]  2020  ...    NaN   \n",
       "2                                                NaN  2020  ...    NaN   \n",
       "3                                                NaN  2020  ...    NaN   \n",
       "4  [social marketing interventions, tropical dise...  2020  ...     13   \n",
       "\n",
       "                                                RCDC  \\\n",
       "0                                                NaN   \n",
       "1                                                NaN   \n",
       "2                                                NaN   \n",
       "3                                                NaN   \n",
       "4  [{'id': '498', 'name': 'Behavioral and Social ...   \n",
       "\n",
       "                                       category_rcdc  \\\n",
       "0                                                NaN   \n",
       "1                                                NaN   \n",
       "2                                                NaN   \n",
       "3                                                NaN   \n",
       "4  [{'id': '498', 'name': 'Behavioral and Social ...   \n",
       "\n",
       "  research_org_country_names                 research_org_countries  \\\n",
       "0                        NaN                                    NaN   \n",
       "1                        NaN                                    NaN   \n",
       "2                        NaN                                    NaN   \n",
       "3                        NaN                                    NaN   \n",
       "4              [Switzerland]  [{'id': 'CH', 'name': 'Switzerland'}]   \n",
       "\n",
       "                                  research_org_names  \\\n",
       "0                                                NaN   \n",
       "1                                                NaN   \n",
       "2                                                NaN   \n",
       "3                                                NaN   \n",
       "4  [Universita della Svizzera Italiana, Graduate ...   \n",
       "\n",
       "                                 research_org_cities  \\\n",
       "0                                                NaN   \n",
       "1                                                NaN   \n",
       "2                                                NaN   \n",
       "3                                                NaN   \n",
       "4  [{'id': 2657896, 'name': 'Zürich'}, {'id': 265...   \n",
       "\n",
       "                                       category_hra issue  \\\n",
       "0                                               NaN   NaN   \n",
       "1                                               NaN   NaN   \n",
       "2                                               NaN   NaN   \n",
       "3                                               NaN   NaN   \n",
       "4  [{'id': '3903', 'name': 'Population & Society'}]     1   \n",
       "\n",
       "                                       research_orgs  \n",
       "0                                                NaN  \n",
       "1                                                NaN  \n",
       "2                                                NaN  \n",
       "3                                                NaN  \n",
       "4  [{'id': 'grid.424404.2', 'types': ['Education'...  \n",
       "\n",
       "[5 rows x 53 columns]"
      ]
     },
     "execution_count": 49,
     "metadata": {},
     "output_type": "execute_result"
    }
   ],
   "source": [
    "%%dsldf\n",
    "search publications \n",
    "return publications [all] limit 5 "
   ]
  },
  {
   "cell_type": "markdown",
   "metadata": {
    "Collapsed": "false"
   },
   "source": [
    "### 5.3 Returning Facets\n",
    "\n",
    "In addition to returning source records matching a query, it is possible\n",
    "to $facet$ on the [entity](data-entities.ipynb) fields related to a\n",
    "particular source and return only those entity values as an aggregrated\n",
    "view of the related source data. This operation is similar to a\n",
    "$group by$ or $pivot table$.\n",
    "\n",
    "**Warning** Faceting can return up to a maximum of 1000 results. This is to ensure\n",
    "adequate performance with all queries. Furthemore, although the `limit`\n",
    "operator is allowed, the `skip` operator cannot be used."
   ]
  },
  {
   "cell_type": "code",
   "execution_count": 50,
   "metadata": {
    "Collapsed": "false"
   },
   "outputs": [
    {
     "name": "stdout",
     "output_type": "stream",
     "text": [
      "Returned Research_orgs: 5\n"
     ]
    },
    {
     "data": {
      "text/html": [
       "<div>\n",
       "<style scoped>\n",
       "    .dataframe tbody tr th:only-of-type {\n",
       "        vertical-align: middle;\n",
       "    }\n",
       "\n",
       "    .dataframe tbody tr th {\n",
       "        vertical-align: top;\n",
       "    }\n",
       "\n",
       "    .dataframe thead th {\n",
       "        text-align: right;\n",
       "    }\n",
       "</style>\n",
       "<table border=\"1\" class=\"dataframe\">\n",
       "  <thead>\n",
       "    <tr style=\"text-align: right;\">\n",
       "      <th></th>\n",
       "      <th>id</th>\n",
       "      <th>count</th>\n",
       "      <th>country_name</th>\n",
       "      <th>name</th>\n",
       "      <th>longitude</th>\n",
       "      <th>state_name</th>\n",
       "      <th>city_name</th>\n",
       "      <th>latitude</th>\n",
       "      <th>linkout</th>\n",
       "      <th>types</th>\n",
       "      <th>acronym</th>\n",
       "    </tr>\n",
       "  </thead>\n",
       "  <tbody>\n",
       "    <tr>\n",
       "      <th>0</th>\n",
       "      <td>grid.194645.b</td>\n",
       "      <td>984</td>\n",
       "      <td>China</td>\n",
       "      <td>University of Hong Kong</td>\n",
       "      <td>114.13708</td>\n",
       "      <td>Hong Kong</td>\n",
       "      <td>Hong Kong</td>\n",
       "      <td>22.283287</td>\n",
       "      <td>[http://www.hku.hk/]</td>\n",
       "      <td>[Education]</td>\n",
       "      <td>HKU</td>\n",
       "    </tr>\n",
       "    <tr>\n",
       "      <th>1</th>\n",
       "      <td>grid.21107.35</td>\n",
       "      <td>827</td>\n",
       "      <td>United States</td>\n",
       "      <td>Johns Hopkins University</td>\n",
       "      <td>-76.62028</td>\n",
       "      <td>Maryland</td>\n",
       "      <td>Baltimore</td>\n",
       "      <td>39.328888</td>\n",
       "      <td>[https://www.jhu.edu/]</td>\n",
       "      <td>[Education]</td>\n",
       "      <td>JHU</td>\n",
       "    </tr>\n",
       "    <tr>\n",
       "      <th>2</th>\n",
       "      <td>grid.38142.3c</td>\n",
       "      <td>760</td>\n",
       "      <td>United States</td>\n",
       "      <td>Harvard University</td>\n",
       "      <td>-71.11665</td>\n",
       "      <td>Massachusetts</td>\n",
       "      <td>Cambridge</td>\n",
       "      <td>42.377052</td>\n",
       "      <td>[http://www.harvard.edu/]</td>\n",
       "      <td>[Education]</td>\n",
       "      <td>NaN</td>\n",
       "    </tr>\n",
       "    <tr>\n",
       "      <th>3</th>\n",
       "      <td>grid.25879.31</td>\n",
       "      <td>725</td>\n",
       "      <td>United States</td>\n",
       "      <td>University of Pennsylvania</td>\n",
       "      <td>-75.19322</td>\n",
       "      <td>Pennsylvania</td>\n",
       "      <td>Philadelphia</td>\n",
       "      <td>39.952457</td>\n",
       "      <td>[http://www.upenn.edu/]</td>\n",
       "      <td>[Education]</td>\n",
       "      <td>NaN</td>\n",
       "    </tr>\n",
       "    <tr>\n",
       "      <th>4</th>\n",
       "      <td>grid.4991.5</td>\n",
       "      <td>703</td>\n",
       "      <td>United Kingdom</td>\n",
       "      <td>University of Oxford</td>\n",
       "      <td>-1.25401</td>\n",
       "      <td>Oxfordshire</td>\n",
       "      <td>Oxford</td>\n",
       "      <td>51.753437</td>\n",
       "      <td>[http://www.ox.ac.uk/]</td>\n",
       "      <td>[Education]</td>\n",
       "      <td>NaN</td>\n",
       "    </tr>\n",
       "  </tbody>\n",
       "</table>\n",
       "</div>"
      ],
      "text/plain": [
       "              id  count    country_name                        name  \\\n",
       "0  grid.194645.b    984           China     University of Hong Kong   \n",
       "1  grid.21107.35    827   United States    Johns Hopkins University   \n",
       "2  grid.38142.3c    760   United States          Harvard University   \n",
       "3  grid.25879.31    725   United States  University of Pennsylvania   \n",
       "4    grid.4991.5    703  United Kingdom        University of Oxford   \n",
       "\n",
       "   longitude     state_name     city_name   latitude  \\\n",
       "0  114.13708      Hong Kong     Hong Kong  22.283287   \n",
       "1  -76.62028       Maryland     Baltimore  39.328888   \n",
       "2  -71.11665  Massachusetts     Cambridge  42.377052   \n",
       "3  -75.19322   Pennsylvania  Philadelphia  39.952457   \n",
       "4   -1.25401    Oxfordshire        Oxford  51.753437   \n",
       "\n",
       "                     linkout        types acronym  \n",
       "0       [http://www.hku.hk/]  [Education]     HKU  \n",
       "1     [https://www.jhu.edu/]  [Education]     JHU  \n",
       "2  [http://www.harvard.edu/]  [Education]     NaN  \n",
       "3    [http://www.upenn.edu/]  [Education]     NaN  \n",
       "4     [http://www.ox.ac.uk/]  [Education]     NaN  "
      ]
     },
     "execution_count": 50,
     "metadata": {},
     "output_type": "execute_result"
    }
   ],
   "source": [
    "%%dsldf \n",
    "search publications \n",
    "    for \"coronavirus\" \n",
    "return research_orgs limit 5"
   ]
  },
  {
   "cell_type": "code",
   "execution_count": 51,
   "metadata": {
    "Collapsed": "false"
   },
   "outputs": [
    {
     "name": "stdout",
     "output_type": "stream",
     "text": [
      "Returned Category_for: 5\n",
      "Returned Research_org_countries: 5\n",
      "Returned Year: 5\n",
      "[Warning] Dataframe created from first available key, but more than one JSON key found: ['category_for', 'research_org_countries', 'year']\n"
     ]
    },
    {
     "data": {
      "text/html": [
       "<div>\n",
       "<style scoped>\n",
       "    .dataframe tbody tr th:only-of-type {\n",
       "        vertical-align: middle;\n",
       "    }\n",
       "\n",
       "    .dataframe tbody tr th {\n",
       "        vertical-align: top;\n",
       "    }\n",
       "\n",
       "    .dataframe thead th {\n",
       "        text-align: right;\n",
       "    }\n",
       "</style>\n",
       "<table border=\"1\" class=\"dataframe\">\n",
       "  <thead>\n",
       "    <tr style=\"text-align: right;\">\n",
       "      <th></th>\n",
       "      <th>id</th>\n",
       "      <th>count</th>\n",
       "      <th>name</th>\n",
       "    </tr>\n",
       "  </thead>\n",
       "  <tbody>\n",
       "    <tr>\n",
       "      <th>0</th>\n",
       "      <td>2211</td>\n",
       "      <td>61716</td>\n",
       "      <td>11 Medical and Health Sciences</td>\n",
       "    </tr>\n",
       "    <tr>\n",
       "      <th>1</th>\n",
       "      <td>2206</td>\n",
       "      <td>21254</td>\n",
       "      <td>06 Biological Sciences</td>\n",
       "    </tr>\n",
       "    <tr>\n",
       "      <th>2</th>\n",
       "      <td>3114</td>\n",
       "      <td>19179</td>\n",
       "      <td>1108 Medical Microbiology</td>\n",
       "    </tr>\n",
       "    <tr>\n",
       "      <th>3</th>\n",
       "      <td>3053</td>\n",
       "      <td>15688</td>\n",
       "      <td>1103 Clinical Sciences</td>\n",
       "    </tr>\n",
       "    <tr>\n",
       "      <th>4</th>\n",
       "      <td>3177</td>\n",
       "      <td>15199</td>\n",
       "      <td>1117 Public Health and Health Services</td>\n",
       "    </tr>\n",
       "  </tbody>\n",
       "</table>\n",
       "</div>"
      ],
      "text/plain": [
       "     id  count                                    name\n",
       "0  2211  61716          11 Medical and Health Sciences\n",
       "1  2206  21254                  06 Biological Sciences\n",
       "2  3114  19179               1108 Medical Microbiology\n",
       "3  3053  15688                  1103 Clinical Sciences\n",
       "4  3177  15199  1117 Public Health and Health Services"
      ]
     },
     "execution_count": 51,
     "metadata": {},
     "output_type": "execute_result"
    }
   ],
   "source": [
    "%%dsldf \n",
    "search publications \n",
    "    for \"coronavirus\" \n",
    "return research_org_countries limit 5\n",
    "return year limit 5\n",
    "return category_for limit 5"
   ]
  },
  {
   "cell_type": "markdown",
   "metadata": {
    "Collapsed": "false"
   },
   "source": [
    "For control over the organization and headers of the JSON query results,\n",
    "the `return` keyword in a return phrase may be followed by the keyword\n",
    "`in` and then a `group` name for this group of results, where the group\n",
    "name is enclosed in double quotes(`\"`).\n",
    "\n",
    "Also, one can define `aliases` that replace the defaul JSON fields names with other ones provided by the user. \n",
    "\n",
    "See the [official documentation](https://docs.dimensions.ai/dsl/language.html#aliases) for more details about this feature. "
   ]
  },
  {
   "cell_type": "code",
   "execution_count": 52,
   "metadata": {
    "Collapsed": "false"
   },
   "outputs": [
    {
     "name": "stdout",
     "output_type": "stream",
     "text": [
      "Returned Facets: 2\n"
     ]
    },
    {
     "data": {
      "text/html": [
       "<div>\n",
       "<style scoped>\n",
       "    .dataframe tbody tr th:only-of-type {\n",
       "        vertical-align: middle;\n",
       "    }\n",
       "\n",
       "    .dataframe tbody tr th {\n",
       "        vertical-align: top;\n",
       "    }\n",
       "\n",
       "    .dataframe thead th {\n",
       "        text-align: right;\n",
       "    }\n",
       "</style>\n",
       "<table border=\"1\" class=\"dataframe\">\n",
       "  <thead>\n",
       "    <tr style=\"text-align: right;\">\n",
       "      <th></th>\n",
       "      <th>funders</th>\n",
       "      <th>research_orgs</th>\n",
       "    </tr>\n",
       "  </thead>\n",
       "  <tbody>\n",
       "    <tr>\n",
       "      <th>0</th>\n",
       "      <td>[{'id': 'grid.419696.5', 'count': 1951296, 'ty...</td>\n",
       "      <td>[{'id': 'grid.26999.3d', 'count': 325233, 'typ...</td>\n",
       "    </tr>\n",
       "  </tbody>\n",
       "</table>\n",
       "</div>"
      ],
      "text/plain": [
       "                                             funders  \\\n",
       "0  [{'id': 'grid.419696.5', 'count': 1951296, 'ty...   \n",
       "\n",
       "                                       research_orgs  \n",
       "0  [{'id': 'grid.26999.3d', 'count': 325233, 'typ...  "
      ]
     },
     "execution_count": 52,
     "metadata": {},
     "output_type": "execute_result"
    }
   ],
   "source": [
    "%%dsldf \n",
    "search publications \n",
    "return in \"facets\" funders \n",
    "return in \"facets\" research_orgs"
   ]
  },
  {
   "cell_type": "markdown",
   "metadata": {
    "Collapsed": "false",
    "colab_type": "text",
    "id": "hQSTK25yG8Vz"
   },
   "source": [
    "### 5.4 What the query statistics refer to - sources VS facets\n",
    "\n",
    "When performing a DSL search, a `_stats` object is return which contains some useful info eg the total number of records available for a search. "
   ]
  },
  {
   "cell_type": "code",
   "execution_count": 53,
   "metadata": {
    "Collapsed": "false",
    "colab": {
     "base_uri": "https://localhost:8080/",
     "height": 34
    },
    "colab_type": "code",
    "executionInfo": {
     "elapsed": 956,
     "status": "ok",
     "timestamp": 1574678516635,
     "user": {
      "displayName": "Michele Pasin",
      "photoUrl": "https://lh3.googleusercontent.com/a-/AAuE7mBu8LVjIGgontF2Wax51BoL5KFx8esezX3bUmaa0g=s64",
      "userId": "10309320684375994511"
     },
     "user_tz": 0
    },
    "id": "yn-gpdVQG8Vz",
    "outputId": "695b23b2-f439-412d-9741-24cd3515f5d3"
   },
   "outputs": [
    {
     "name": "stdout",
     "output_type": "stream",
     "text": [
      "Returned Publications: 5 (total = 3768)\n"
     ]
    },
    {
     "data": {
      "text/html": [
       "<div>\n",
       "<style scoped>\n",
       "    .dataframe tbody tr th:only-of-type {\n",
       "        vertical-align: middle;\n",
       "    }\n",
       "\n",
       "    .dataframe tbody tr th {\n",
       "        vertical-align: top;\n",
       "    }\n",
       "\n",
       "    .dataframe thead th {\n",
       "        text-align: right;\n",
       "    }\n",
       "</style>\n",
       "<table border=\"1\" class=\"dataframe\">\n",
       "  <thead>\n",
       "    <tr style=\"text-align: right;\">\n",
       "      <th></th>\n",
       "      <th>type</th>\n",
       "      <th>pages</th>\n",
       "      <th>author_affiliations</th>\n",
       "      <th>issue</th>\n",
       "      <th>volume</th>\n",
       "      <th>year</th>\n",
       "      <th>id</th>\n",
       "      <th>title</th>\n",
       "      <th>journal.id</th>\n",
       "      <th>journal.title</th>\n",
       "    </tr>\n",
       "  </thead>\n",
       "  <tbody>\n",
       "    <tr>\n",
       "      <th>0</th>\n",
       "      <td>article</td>\n",
       "      <td>18124-18131</td>\n",
       "      <td>[[{'first_name': 'Siewteng', 'last_name': 'Sim...</td>\n",
       "      <td>12</td>\n",
       "      <td>3</td>\n",
       "      <td>2018</td>\n",
       "      <td>pub.1110885950</td>\n",
       "      <td>Development of Organo-Dispersible Graphene Oxi...</td>\n",
       "      <td>jour.1157000</td>\n",
       "      <td>ACS Omega</td>\n",
       "    </tr>\n",
       "    <tr>\n",
       "      <th>1</th>\n",
       "      <td>proceeding</td>\n",
       "      <td>NaN</td>\n",
       "      <td>[[{'first_name': 'T.', 'last_name': 'Miyagi', ...</td>\n",
       "      <td>NaN</td>\n",
       "      <td>NaN</td>\n",
       "      <td>2018</td>\n",
       "      <td>pub.1110925389</td>\n",
       "      <td>Nuclear Ab Initio Calculations with the Unitar...</td>\n",
       "      <td>NaN</td>\n",
       "      <td>NaN</td>\n",
       "    </tr>\n",
       "    <tr>\n",
       "      <th>2</th>\n",
       "      <td>article</td>\n",
       "      <td>29200-29209</td>\n",
       "      <td>[[{'first_name': 'Taro', 'last_name': 'Toyoda'...</td>\n",
       "      <td>51</td>\n",
       "      <td>122</td>\n",
       "      <td>2018</td>\n",
       "      <td>pub.1110369527</td>\n",
       "      <td>Anisotropic Crystal Growth, Optical Absorption...</td>\n",
       "      <td>jour.1038386</td>\n",
       "      <td>The Journal of Physical Chemistry C</td>\n",
       "    </tr>\n",
       "    <tr>\n",
       "      <th>3</th>\n",
       "      <td>article</td>\n",
       "      <td>28491-28496</td>\n",
       "      <td>[[{'first_name': 'Liang', 'last_name': 'Wang',...</td>\n",
       "      <td>50</td>\n",
       "      <td>122</td>\n",
       "      <td>2018</td>\n",
       "      <td>pub.1110271601</td>\n",
       "      <td>Indium Zinc Oxide Electron Transport Layer for...</td>\n",
       "      <td>jour.1038386</td>\n",
       "      <td>The Journal of Physical Chemistry C</td>\n",
       "    </tr>\n",
       "    <tr>\n",
       "      <th>4</th>\n",
       "      <td>article</td>\n",
       "      <td>43682-43690</td>\n",
       "      <td>[[{'first_name': 'Ami', 'last_name': 'Nomura',...</td>\n",
       "      <td>50</td>\n",
       "      <td>10</td>\n",
       "      <td>2018</td>\n",
       "      <td>pub.1110222625</td>\n",
       "      <td>Chalcopyrite ZnSnSb2: A Promising Thermoelectr...</td>\n",
       "      <td>jour.1041450</td>\n",
       "      <td>ACS Applied Materials &amp; Interfaces</td>\n",
       "    </tr>\n",
       "  </tbody>\n",
       "</table>\n",
       "</div>"
      ],
      "text/plain": [
       "         type        pages                                author_affiliations  \\\n",
       "0     article  18124-18131  [[{'first_name': 'Siewteng', 'last_name': 'Sim...   \n",
       "1  proceeding          NaN  [[{'first_name': 'T.', 'last_name': 'Miyagi', ...   \n",
       "2     article  29200-29209  [[{'first_name': 'Taro', 'last_name': 'Toyoda'...   \n",
       "3     article  28491-28496  [[{'first_name': 'Liang', 'last_name': 'Wang',...   \n",
       "4     article  43682-43690  [[{'first_name': 'Ami', 'last_name': 'Nomura',...   \n",
       "\n",
       "  issue volume  year              id  \\\n",
       "0    12      3  2018  pub.1110885950   \n",
       "1   NaN    NaN  2018  pub.1110925389   \n",
       "2    51    122  2018  pub.1110369527   \n",
       "3    50    122  2018  pub.1110271601   \n",
       "4    50     10  2018  pub.1110222625   \n",
       "\n",
       "                                               title    journal.id  \\\n",
       "0  Development of Organo-Dispersible Graphene Oxi...  jour.1157000   \n",
       "1  Nuclear Ab Initio Calculations with the Unitar...           NaN   \n",
       "2  Anisotropic Crystal Growth, Optical Absorption...  jour.1038386   \n",
       "3  Indium Zinc Oxide Electron Transport Layer for...  jour.1038386   \n",
       "4  Chalcopyrite ZnSnSb2: A Promising Thermoelectr...  jour.1041450   \n",
       "\n",
       "                         journal.title  \n",
       "0                            ACS Omega  \n",
       "1                                  NaN  \n",
       "2  The Journal of Physical Chemistry C  \n",
       "3  The Journal of Physical Chemistry C  \n",
       "4   ACS Applied Materials & Interfaces  "
      ]
     },
     "execution_count": 53,
     "metadata": {},
     "output_type": "execute_result"
    }
   ],
   "source": [
    "%%dsldf \n",
    "search publications\n",
    "  where year in [2013:2018] and research_orgs=\"grid.258806.1\"\n",
    "return publications limit 5"
   ]
  },
  {
   "cell_type": "markdown",
   "metadata": {
    "Collapsed": "false",
    "colab_type": "text",
    "id": "lBP-VzxJItji"
   },
   "source": [
    "\n",
    "\n",
    "It is important to note though that the **total number always refers to the main source, never the facets** one is searching for. \n",
    "\n",
    "For example, in this query we return `researchers` linked to publications: "
   ]
  },
  {
   "cell_type": "code",
   "execution_count": 54,
   "metadata": {
    "Collapsed": "false",
    "colab": {
     "base_uri": "https://localhost:8080/",
     "height": 34
    },
    "colab_type": "code",
    "executionInfo": {
     "elapsed": 1011,
     "status": "ok",
     "timestamp": 1574678518954,
     "user": {
      "displayName": "Michele Pasin",
      "photoUrl": "https://lh3.googleusercontent.com/a-/AAuE7mBu8LVjIGgontF2Wax51BoL5KFx8esezX3bUmaa0g=s64",
      "userId": "10309320684375994511"
     },
     "user_tz": 0
    },
    "id": "UDa-lDPVG8V1",
    "outputId": "0c9717e4-2172-4c0a-ebb7-a12d3c38f3e1"
   },
   "outputs": [
    {
     "name": "stdout",
     "output_type": "stream",
     "text": [
      "Returned Researchers: 5\n"
     ]
    },
    {
     "data": {
      "text/html": [
       "<div>\n",
       "<style scoped>\n",
       "    .dataframe tbody tr th:only-of-type {\n",
       "        vertical-align: middle;\n",
       "    }\n",
       "\n",
       "    .dataframe tbody tr th {\n",
       "        vertical-align: top;\n",
       "    }\n",
       "\n",
       "    .dataframe thead th {\n",
       "        text-align: right;\n",
       "    }\n",
       "</style>\n",
       "<table border=\"1\" class=\"dataframe\">\n",
       "  <thead>\n",
       "    <tr style=\"text-align: right;\">\n",
       "      <th></th>\n",
       "      <th>id</th>\n",
       "      <th>count</th>\n",
       "      <th>research_orgs</th>\n",
       "      <th>first_name</th>\n",
       "      <th>last_name</th>\n",
       "      <th>orcid_id</th>\n",
       "    </tr>\n",
       "  </thead>\n",
       "  <tbody>\n",
       "    <tr>\n",
       "      <th>0</th>\n",
       "      <td>ur.01055753603.27</td>\n",
       "      <td>138</td>\n",
       "      <td>[grid.14003.36, grid.266298.1, grid.258806.1, ...</td>\n",
       "      <td>Shuzi Shuzi</td>\n",
       "      <td>Hayase</td>\n",
       "      <td>NaN</td>\n",
       "    </tr>\n",
       "    <tr>\n",
       "      <th>1</th>\n",
       "      <td>ur.011212042763.67</td>\n",
       "      <td>102</td>\n",
       "      <td>[grid.258806.1, grid.27476.30, grid.462727.2]</td>\n",
       "      <td>Masayuki</td>\n",
       "      <td>Hikita</td>\n",
       "      <td>NaN</td>\n",
       "    </tr>\n",
       "    <tr>\n",
       "      <th>2</th>\n",
       "      <td>ur.01144540527.52</td>\n",
       "      <td>98</td>\n",
       "      <td>[grid.258806.1, grid.177174.3, grid.11135.37, ...</td>\n",
       "      <td>Ting-Li</td>\n",
       "      <td>Ma</td>\n",
       "      <td>[0000-0002-3310-459X]</td>\n",
       "    </tr>\n",
       "    <tr>\n",
       "      <th>3</th>\n",
       "      <td>ur.07644453127.11</td>\n",
       "      <td>96</td>\n",
       "      <td>[grid.258806.1, grid.471634.3, grid.11417.32, ...</td>\n",
       "      <td>M Kozako M</td>\n",
       "      <td>Kozako</td>\n",
       "      <td>NaN</td>\n",
       "    </tr>\n",
       "    <tr>\n",
       "      <th>4</th>\n",
       "      <td>ur.016357156077.09</td>\n",
       "      <td>91</td>\n",
       "      <td>[grid.54432.34, grid.454850.8, grid.268415.c, ...</td>\n",
       "      <td>Huimin</td>\n",
       "      <td>Lu</td>\n",
       "      <td>[0000-0001-9794-3221]</td>\n",
       "    </tr>\n",
       "  </tbody>\n",
       "</table>\n",
       "</div>"
      ],
      "text/plain": [
       "                   id  count  \\\n",
       "0   ur.01055753603.27    138   \n",
       "1  ur.011212042763.67    102   \n",
       "2   ur.01144540527.52     98   \n",
       "3   ur.07644453127.11     96   \n",
       "4  ur.016357156077.09     91   \n",
       "\n",
       "                                       research_orgs   first_name last_name  \\\n",
       "0  [grid.14003.36, grid.266298.1, grid.258806.1, ...  Shuzi Shuzi    Hayase   \n",
       "1      [grid.258806.1, grid.27476.30, grid.462727.2]     Masayuki    Hikita   \n",
       "2  [grid.258806.1, grid.177174.3, grid.11135.37, ...      Ting-Li        Ma   \n",
       "3  [grid.258806.1, grid.471634.3, grid.11417.32, ...   M Kozako M    Kozako   \n",
       "4  [grid.54432.34, grid.454850.8, grid.268415.c, ...       Huimin        Lu   \n",
       "\n",
       "                orcid_id  \n",
       "0                    NaN  \n",
       "1                    NaN  \n",
       "2  [0000-0002-3310-459X]  \n",
       "3                    NaN  \n",
       "4  [0000-0001-9794-3221]  "
      ]
     },
     "execution_count": 54,
     "metadata": {},
     "output_type": "execute_result"
    }
   ],
   "source": [
    "%%dsldf \n",
    "search publications\n",
    "  where year in [2013:2018] and research_orgs=\"grid.258806.1\"\n",
    "return researchers limit 5"
   ]
  },
  {
   "cell_type": "markdown",
   "metadata": {
    "Collapsed": "false",
    "colab_type": "text",
    "id": "Ihecf2FPTCoM"
   },
   "source": [
    "NOTE: facet results can be 1000 at most (due to performance limitations) so if there are more than 1000 it is not possible to know the total number. "
   ]
  },
  {
   "cell_type": "markdown",
   "metadata": {
    "Collapsed": "false"
   },
   "source": [
    "### 5.5 Paginating Results\n",
    "\n",
    "At the end of a `return` phrase, the user can specify the maximum number\n",
    "of results to be returned and the number of top records to skip over\n",
    "before returning the first result record, for e.g. returning large\n",
    "result sets page-by-page (i.e. \"paging\" results) as described below.\n",
    "\n",
    "This is done using the keyword `limit` followed by the maximum number of\n",
    "results to return, optionally followed by the keyword `skip` and the\n",
    "number of results to skip (the offset)."
   ]
  },
  {
   "cell_type": "code",
   "execution_count": 55,
   "metadata": {
    "Collapsed": "false"
   },
   "outputs": [
    {
     "name": "stdout",
     "output_type": "stream",
     "text": [
      "Returned Publications: 10 (total = 110113720)\n"
     ]
    },
    {
     "data": {
      "text/html": [
       "<div>\n",
       "<style scoped>\n",
       "    .dataframe tbody tr th:only-of-type {\n",
       "        vertical-align: middle;\n",
       "    }\n",
       "\n",
       "    .dataframe tbody tr th {\n",
       "        vertical-align: top;\n",
       "    }\n",
       "\n",
       "    .dataframe thead th {\n",
       "        text-align: right;\n",
       "    }\n",
       "</style>\n",
       "<table border=\"1\" class=\"dataframe\">\n",
       "  <thead>\n",
       "    <tr style=\"text-align: right;\">\n",
       "      <th></th>\n",
       "      <th>title</th>\n",
       "      <th>author_affiliations</th>\n",
       "      <th>id</th>\n",
       "      <th>year</th>\n",
       "      <th>type</th>\n",
       "      <th>pages</th>\n",
       "      <th>journal.id</th>\n",
       "      <th>journal.title</th>\n",
       "      <th>issue</th>\n",
       "      <th>volume</th>\n",
       "    </tr>\n",
       "  </thead>\n",
       "  <tbody>\n",
       "    <tr>\n",
       "      <th>0</th>\n",
       "      <td>Visual research on the trustability of classic...</td>\n",
       "      <td>[[{'first_name': 'Nihal', 'last_name': 'ATA TU...</td>\n",
       "      <td>pub.1125931386</td>\n",
       "      <td>2020</td>\n",
       "      <td>article</td>\n",
       "      <td>1-18</td>\n",
       "      <td>jour.1142190</td>\n",
       "      <td>Hacettepe Journal of Mathematics and Statistics</td>\n",
       "      <td>NaN</td>\n",
       "      <td>NaN</td>\n",
       "    </tr>\n",
       "    <tr>\n",
       "      <th>1</th>\n",
       "      <td>2. The Sunflowers in Perspective</td>\n",
       "      <td>[[{'first_name': 'Nienke', 'last_name': 'Bakke...</td>\n",
       "      <td>pub.1125801740</td>\n",
       "      <td>2020</td>\n",
       "      <td>chapter</td>\n",
       "      <td>21-48</td>\n",
       "      <td>NaN</td>\n",
       "      <td>NaN</td>\n",
       "      <td>NaN</td>\n",
       "      <td>NaN</td>\n",
       "    </tr>\n",
       "    <tr>\n",
       "      <th>2</th>\n",
       "      <td>Literature</td>\n",
       "      <td>NaN</td>\n",
       "      <td>pub.1125632078</td>\n",
       "      <td>2020</td>\n",
       "      <td>chapter</td>\n",
       "      <td>333-349</td>\n",
       "      <td>NaN</td>\n",
       "      <td>NaN</td>\n",
       "      <td>NaN</td>\n",
       "      <td>NaN</td>\n",
       "    </tr>\n",
       "    <tr>\n",
       "      <th>3</th>\n",
       "      <td>Die Standesordnungen der freien Berufe</td>\n",
       "      <td>[[{'first_name': 'Jochen', 'last_name': 'Taupi...</td>\n",
       "      <td>pub.1096916023</td>\n",
       "      <td>2020</td>\n",
       "      <td>monograph</td>\n",
       "      <td>NaN</td>\n",
       "      <td>NaN</td>\n",
       "      <td>NaN</td>\n",
       "      <td>NaN</td>\n",
       "      <td>NaN</td>\n",
       "    </tr>\n",
       "    <tr>\n",
       "      <th>4</th>\n",
       "      <td>The gender responsiveness of social marketing ...</td>\n",
       "      <td>[[{'first_name': 'Nathaly', 'last_name': 'Aya ...</td>\n",
       "      <td>pub.1124196727</td>\n",
       "      <td>2020</td>\n",
       "      <td>article</td>\n",
       "      <td>1711335</td>\n",
       "      <td>jour.1041075</td>\n",
       "      <td>Global Health Action</td>\n",
       "      <td>1</td>\n",
       "      <td>13</td>\n",
       "    </tr>\n",
       "    <tr>\n",
       "      <th>5</th>\n",
       "      <td>To start or to complete? – Challenges in imple...</td>\n",
       "      <td>[[{'first_name': 'Mahendra M', 'last_name': 'R...</td>\n",
       "      <td>pub.1124099280</td>\n",
       "      <td>2020</td>\n",
       "      <td>article</td>\n",
       "      <td>1704540</td>\n",
       "      <td>jour.1041075</td>\n",
       "      <td>Global Health Action</td>\n",
       "      <td>1</td>\n",
       "      <td>13</td>\n",
       "    </tr>\n",
       "    <tr>\n",
       "      <th>6</th>\n",
       "      <td>Long-term trends in seasonality of mortality i...</td>\n",
       "      <td>[[{'first_name': 'Benjamin-Samuel', 'last_name...</td>\n",
       "      <td>pub.1124649186</td>\n",
       "      <td>2020</td>\n",
       "      <td>article</td>\n",
       "      <td>1717411</td>\n",
       "      <td>jour.1041075</td>\n",
       "      <td>Global Health Action</td>\n",
       "      <td>1</td>\n",
       "      <td>13</td>\n",
       "    </tr>\n",
       "    <tr>\n",
       "      <th>7</th>\n",
       "      <td>Eine Warnung an alle, dy sych etwaz duncken: D...</td>\n",
       "      <td>[[{'first_name': 'Ulla', 'last_name': 'William...</td>\n",
       "      <td>pub.1125632729</td>\n",
       "      <td>2020</td>\n",
       "      <td>chapter</td>\n",
       "      <td>167-190</td>\n",
       "      <td>NaN</td>\n",
       "      <td>NaN</td>\n",
       "      <td>NaN</td>\n",
       "      <td>NaN</td>\n",
       "    </tr>\n",
       "    <tr>\n",
       "      <th>8</th>\n",
       "      <td>Marienklagen und Pietà</td>\n",
       "      <td>[[{'first_name': 'Georg', 'last_name': 'Satzin...</td>\n",
       "      <td>pub.1125635978</td>\n",
       "      <td>2020</td>\n",
       "      <td>chapter</td>\n",
       "      <td>241-276</td>\n",
       "      <td>NaN</td>\n",
       "      <td>NaN</td>\n",
       "      <td>NaN</td>\n",
       "      <td>NaN</td>\n",
       "    </tr>\n",
       "    <tr>\n",
       "      <th>9</th>\n",
       "      <td>Johannes Taulers Via negationis</td>\n",
       "      <td>[[{'first_name': 'Walter', 'last_name': 'Haug'...</td>\n",
       "      <td>pub.1125632704</td>\n",
       "      <td>2020</td>\n",
       "      <td>chapter</td>\n",
       "      <td>76-93</td>\n",
       "      <td>NaN</td>\n",
       "      <td>NaN</td>\n",
       "      <td>NaN</td>\n",
       "      <td>NaN</td>\n",
       "    </tr>\n",
       "  </tbody>\n",
       "</table>\n",
       "</div>"
      ],
      "text/plain": [
       "                                               title  \\\n",
       "0  Visual research on the trustability of classic...   \n",
       "1                   2. The Sunflowers in Perspective   \n",
       "2                                         Literature   \n",
       "3             Die Standesordnungen der freien Berufe   \n",
       "4  The gender responsiveness of social marketing ...   \n",
       "5  To start or to complete? – Challenges in imple...   \n",
       "6  Long-term trends in seasonality of mortality i...   \n",
       "7  Eine Warnung an alle, dy sych etwaz duncken: D...   \n",
       "8                             Marienklagen und Pietà   \n",
       "9                    Johannes Taulers Via negationis   \n",
       "\n",
       "                                 author_affiliations              id  year  \\\n",
       "0  [[{'first_name': 'Nihal', 'last_name': 'ATA TU...  pub.1125931386  2020   \n",
       "1  [[{'first_name': 'Nienke', 'last_name': 'Bakke...  pub.1125801740  2020   \n",
       "2                                                NaN  pub.1125632078  2020   \n",
       "3  [[{'first_name': 'Jochen', 'last_name': 'Taupi...  pub.1096916023  2020   \n",
       "4  [[{'first_name': 'Nathaly', 'last_name': 'Aya ...  pub.1124196727  2020   \n",
       "5  [[{'first_name': 'Mahendra M', 'last_name': 'R...  pub.1124099280  2020   \n",
       "6  [[{'first_name': 'Benjamin-Samuel', 'last_name...  pub.1124649186  2020   \n",
       "7  [[{'first_name': 'Ulla', 'last_name': 'William...  pub.1125632729  2020   \n",
       "8  [[{'first_name': 'Georg', 'last_name': 'Satzin...  pub.1125635978  2020   \n",
       "9  [[{'first_name': 'Walter', 'last_name': 'Haug'...  pub.1125632704  2020   \n",
       "\n",
       "        type    pages    journal.id  \\\n",
       "0    article     1-18  jour.1142190   \n",
       "1    chapter    21-48           NaN   \n",
       "2    chapter  333-349           NaN   \n",
       "3  monograph      NaN           NaN   \n",
       "4    article  1711335  jour.1041075   \n",
       "5    article  1704540  jour.1041075   \n",
       "6    article  1717411  jour.1041075   \n",
       "7    chapter  167-190           NaN   \n",
       "8    chapter  241-276           NaN   \n",
       "9    chapter    76-93           NaN   \n",
       "\n",
       "                                     journal.title issue volume  \n",
       "0  Hacettepe Journal of Mathematics and Statistics   NaN    NaN  \n",
       "1                                              NaN   NaN    NaN  \n",
       "2                                              NaN   NaN    NaN  \n",
       "3                                              NaN   NaN    NaN  \n",
       "4                             Global Health Action     1     13  \n",
       "5                             Global Health Action     1     13  \n",
       "6                             Global Health Action     1     13  \n",
       "7                                              NaN   NaN    NaN  \n",
       "8                                              NaN   NaN    NaN  \n",
       "9                                              NaN   NaN    NaN  "
      ]
     },
     "execution_count": 55,
     "metadata": {},
     "output_type": "execute_result"
    }
   ],
   "source": [
    "%%dsldf \n",
    "search publications return publications limit 10"
   ]
  },
  {
   "cell_type": "markdown",
   "metadata": {
    "Collapsed": "false"
   },
   "source": [
    "If paging information is not provided, the default values\n",
    "`limit 20 skip 0` are used, so the two following queries are equivalent:"
   ]
  },
  {
   "cell_type": "markdown",
   "metadata": {
    "Collapsed": "false"
   },
   "source": [
    "Combining `limit` and `skip` across multiple queries enables paging or\n",
    "batching of results; e.g. to retrieve 30 grant records divided into 3\n",
    "pages of 10 records each, the following three queries could be used:\n",
    "\n",
    "```\n",
    "return grants limit 10           => get 1st 10 records for page 1 (skip 0, by default)\n",
    "return grants limit 10 skip 10   => get next 10 for page 2; skip the 10 we already have\n",
    "return grants limit 10 skip 20   => get another 10 for page 3, for a total of 30\n",
    "```"
   ]
  },
  {
   "cell_type": "markdown",
   "metadata": {
    "Collapsed": "false"
   },
   "source": [
    "### 5.6 Sorting Results\n",
    "\n",
    "A sort order for the results in a given `return` phrase can be specified\n",
    "with the keyword `sort by` followed by the name of \n",
    "* a `field` (in the\n",
    "case that a `source` is being requested) \n",
    "* an `indicator (aggregation)` (in the case\n",
    "that one or more facets are being requested). \n",
    "\n",
    " By default, the result set of full text\n",
    "queries ($search ... for \"full text query\"$) is sorted by \"relevance\".\n",
    "Additionally, it is possible to specify the sort order, using `asc` or\n",
    "`desc` keywords. By default, descending order is selected."
   ]
  },
  {
   "cell_type": "code",
   "execution_count": 56,
   "metadata": {
    "Collapsed": "false"
   },
   "outputs": [
    {
     "name": "stdout",
     "output_type": "stream",
     "text": [
      "Returned Grants: 5 (total = 17719)\n"
     ]
    },
    {
     "data": {
      "text/html": [
       "<div>\n",
       "<style scoped>\n",
       "    .dataframe tbody tr th:only-of-type {\n",
       "        vertical-align: middle;\n",
       "    }\n",
       "\n",
       "    .dataframe tbody tr th {\n",
       "        vertical-align: top;\n",
       "    }\n",
       "\n",
       "    .dataframe thead th {\n",
       "        text-align: right;\n",
       "    }\n",
       "</style>\n",
       "<table border=\"1\" class=\"dataframe\">\n",
       "  <thead>\n",
       "    <tr style=\"text-align: right;\">\n",
       "      <th></th>\n",
       "      <th>project_num</th>\n",
       "      <th>end_date</th>\n",
       "      <th>start_date</th>\n",
       "      <th>original_title</th>\n",
       "      <th>start_year</th>\n",
       "      <th>title_language</th>\n",
       "      <th>id</th>\n",
       "      <th>funding_org_name</th>\n",
       "      <th>funders</th>\n",
       "      <th>active_year</th>\n",
       "      <th>language</th>\n",
       "      <th>title</th>\n",
       "    </tr>\n",
       "  </thead>\n",
       "  <tbody>\n",
       "    <tr>\n",
       "      <th>0</th>\n",
       "      <td>2018/29/N/ST5/01240</td>\n",
       "      <td>2022-03-31</td>\n",
       "      <td>2019-04-01</td>\n",
       "      <td>x</td>\n",
       "      <td>2019</td>\n",
       "      <td>pl</td>\n",
       "      <td>grant.8518592</td>\n",
       "      <td>National Science Center</td>\n",
       "      <td>[{'id': 'grid.436846.b', 'country_name': 'Pola...</td>\n",
       "      <td>[2019, 2020, 2021, 2022]</td>\n",
       "      <td>pl</td>\n",
       "      <td>x</td>\n",
       "    </tr>\n",
       "    <tr>\n",
       "      <th>1</th>\n",
       "      <td>280331443</td>\n",
       "      <td>NaN</td>\n",
       "      <td>2015-01-01</td>\n",
       "      <td>Transmissionselektronenmikroskop</td>\n",
       "      <td>2015</td>\n",
       "      <td>en</td>\n",
       "      <td>grant.4841519</td>\n",
       "      <td>German Research Foundation</td>\n",
       "      <td>[{'id': 'grid.424150.6', 'country_name': 'Germ...</td>\n",
       "      <td>[2015]</td>\n",
       "      <td>en</td>\n",
       "      <td>Transmissionselektronenmikroskop</td>\n",
       "    </tr>\n",
       "    <tr>\n",
       "      <th>2</th>\n",
       "      <td>220923099</td>\n",
       "      <td>NaN</td>\n",
       "      <td>2012-01-01</td>\n",
       "      <td>Transmissionselektronenmikroskop</td>\n",
       "      <td>2012</td>\n",
       "      <td>en</td>\n",
       "      <td>grant.4823271</td>\n",
       "      <td>German Research Foundation</td>\n",
       "      <td>[{'id': 'grid.424150.6', 'country_name': 'Germ...</td>\n",
       "      <td>[2012]</td>\n",
       "      <td>de</td>\n",
       "      <td>Transmissionselektronenmikroskop</td>\n",
       "    </tr>\n",
       "    <tr>\n",
       "      <th>3</th>\n",
       "      <td>3E120109</td>\n",
       "      <td>2015-06-13</td>\n",
       "      <td>2011-06-16</td>\n",
       "      <td>Snowcontrol.</td>\n",
       "      <td>2011</td>\n",
       "      <td>en</td>\n",
       "      <td>grant.6774902</td>\n",
       "      <td>Belgian Federal Science Policy Office</td>\n",
       "      <td>[{'id': 'grid.425119.a', 'country_name': 'Belg...</td>\n",
       "      <td>[2011, 2012, 2013, 2014, 2015]</td>\n",
       "      <td>en</td>\n",
       "      <td>Snowcontrol.</td>\n",
       "    </tr>\n",
       "    <tr>\n",
       "      <th>4</th>\n",
       "      <td>245513494</td>\n",
       "      <td>NaN</td>\n",
       "      <td>2014-01-01</td>\n",
       "      <td>Röntgenquelle</td>\n",
       "      <td>2014</td>\n",
       "      <td>en</td>\n",
       "      <td>grant.4834305</td>\n",
       "      <td>German Research Foundation</td>\n",
       "      <td>[{'id': 'grid.424150.6', 'country_name': 'Germ...</td>\n",
       "      <td>[2014]</td>\n",
       "      <td>de</td>\n",
       "      <td>Röntgenquelle</td>\n",
       "    </tr>\n",
       "  </tbody>\n",
       "</table>\n",
       "</div>"
      ],
      "text/plain": [
       "           project_num    end_date  start_date  \\\n",
       "0  2018/29/N/ST5/01240  2022-03-31  2019-04-01   \n",
       "1            280331443         NaN  2015-01-01   \n",
       "2            220923099         NaN  2012-01-01   \n",
       "3             3E120109  2015-06-13  2011-06-16   \n",
       "4            245513494         NaN  2014-01-01   \n",
       "\n",
       "                     original_title  start_year title_language             id  \\\n",
       "0                                 x        2019             pl  grant.8518592   \n",
       "1  Transmissionselektronenmikroskop        2015             en  grant.4841519   \n",
       "2  Transmissionselektronenmikroskop        2012             en  grant.4823271   \n",
       "3                      Snowcontrol.        2011             en  grant.6774902   \n",
       "4                     Röntgenquelle        2014             en  grant.4834305   \n",
       "\n",
       "                        funding_org_name  \\\n",
       "0                National Science Center   \n",
       "1             German Research Foundation   \n",
       "2             German Research Foundation   \n",
       "3  Belgian Federal Science Policy Office   \n",
       "4             German Research Foundation   \n",
       "\n",
       "                                             funders  \\\n",
       "0  [{'id': 'grid.436846.b', 'country_name': 'Pola...   \n",
       "1  [{'id': 'grid.424150.6', 'country_name': 'Germ...   \n",
       "2  [{'id': 'grid.424150.6', 'country_name': 'Germ...   \n",
       "3  [{'id': 'grid.425119.a', 'country_name': 'Belg...   \n",
       "4  [{'id': 'grid.424150.6', 'country_name': 'Germ...   \n",
       "\n",
       "                      active_year language                             title  \n",
       "0        [2019, 2020, 2021, 2022]       pl                                 x  \n",
       "1                          [2015]       en  Transmissionselektronenmikroskop  \n",
       "2                          [2012]       de  Transmissionselektronenmikroskop  \n",
       "3  [2011, 2012, 2013, 2014, 2015]       en                      Snowcontrol.  \n",
       "4                          [2014]       de                     Röntgenquelle  "
      ]
     },
     "execution_count": 56,
     "metadata": {},
     "output_type": "execute_result"
    }
   ],
   "source": [
    "%%dsldf \n",
    "search grants \n",
    "    for \"nanomaterials\"\n",
    "return grants sort by title desc limit 5 "
   ]
  },
  {
   "cell_type": "code",
   "execution_count": 57,
   "metadata": {
    "Collapsed": "false"
   },
   "outputs": [
    {
     "name": "stdout",
     "output_type": "stream",
     "text": [
      "Returned Grants: 5 (total = 17719)\n"
     ]
    },
    {
     "data": {
      "text/html": [
       "<div>\n",
       "<style scoped>\n",
       "    .dataframe tbody tr th:only-of-type {\n",
       "        vertical-align: middle;\n",
       "    }\n",
       "\n",
       "    .dataframe tbody tr th {\n",
       "        vertical-align: top;\n",
       "    }\n",
       "\n",
       "    .dataframe thead th {\n",
       "        text-align: right;\n",
       "    }\n",
       "</style>\n",
       "<table border=\"1\" class=\"dataframe\">\n",
       "  <thead>\n",
       "    <tr style=\"text-align: right;\">\n",
       "      <th></th>\n",
       "      <th>start_date</th>\n",
       "      <th>title</th>\n",
       "      <th>end_date</th>\n",
       "      <th>title_language</th>\n",
       "      <th>project_num</th>\n",
       "      <th>id</th>\n",
       "      <th>funders</th>\n",
       "      <th>original_title</th>\n",
       "      <th>funding_org_name</th>\n",
       "      <th>start_year</th>\n",
       "      <th>language</th>\n",
       "      <th>active_year</th>\n",
       "    </tr>\n",
       "  </thead>\n",
       "  <tbody>\n",
       "    <tr>\n",
       "      <th>0</th>\n",
       "      <td>2012-06-01</td>\n",
       "      <td>Optically-active chiral nanomaterials</td>\n",
       "      <td>2013-05-31</td>\n",
       "      <td>en</td>\n",
       "      <td>11/W.1/I2065</td>\n",
       "      <td>grant.3984032</td>\n",
       "      <td>[{'id': 'grid.437854.9', 'types': ['Nonprofit'...</td>\n",
       "      <td>Optically-active chiral nanomaterials</td>\n",
       "      <td>Science Foundation Ireland</td>\n",
       "      <td>2012</td>\n",
       "      <td>en</td>\n",
       "      <td>[2012, 2013]</td>\n",
       "    </tr>\n",
       "    <tr>\n",
       "      <th>1</th>\n",
       "      <td>2016-04-01</td>\n",
       "      <td>Polymer Nanomaterials</td>\n",
       "      <td>2017-03-31</td>\n",
       "      <td>en</td>\n",
       "      <td>617505</td>\n",
       "      <td>grant.6973622</td>\n",
       "      <td>[{'id': 'grid.452912.9', 'types': ['Government...</td>\n",
       "      <td>Polymer Nanomaterials</td>\n",
       "      <td>Natural Sciences and Engineering Research Council</td>\n",
       "      <td>2016</td>\n",
       "      <td>en</td>\n",
       "      <td>[2016, 2017]</td>\n",
       "    </tr>\n",
       "    <tr>\n",
       "      <th>2</th>\n",
       "      <td>2016-04-01</td>\n",
       "      <td>Polymer Nanomaterials</td>\n",
       "      <td>2017-03-31</td>\n",
       "      <td>en</td>\n",
       "      <td>617153</td>\n",
       "      <td>grant.6973270</td>\n",
       "      <td>[{'id': 'grid.452912.9', 'types': ['Government...</td>\n",
       "      <td>Polymer Nanomaterials</td>\n",
       "      <td>Natural Sciences and Engineering Research Council</td>\n",
       "      <td>2016</td>\n",
       "      <td>en</td>\n",
       "      <td>[2016, 2017]</td>\n",
       "    </tr>\n",
       "    <tr>\n",
       "      <th>3</th>\n",
       "      <td>2013-04-01</td>\n",
       "      <td>Polymer Nanomaterials</td>\n",
       "      <td>2014-03-31</td>\n",
       "      <td>en</td>\n",
       "      <td>543663</td>\n",
       "      <td>grant.3643972</td>\n",
       "      <td>[{'id': 'grid.452912.9', 'types': ['Government...</td>\n",
       "      <td>Polymer Nanomaterials</td>\n",
       "      <td>Natural Sciences and Engineering Research Council</td>\n",
       "      <td>2013</td>\n",
       "      <td>en</td>\n",
       "      <td>[2013, 2014]</td>\n",
       "    </tr>\n",
       "    <tr>\n",
       "      <th>4</th>\n",
       "      <td>2010-04-01</td>\n",
       "      <td>Polymer Nanomaterials</td>\n",
       "      <td>2011-03-31</td>\n",
       "      <td>en</td>\n",
       "      <td>454382</td>\n",
       "      <td>grant.2865162</td>\n",
       "      <td>[{'id': 'grid.452912.9', 'types': ['Government...</td>\n",
       "      <td>Polymer Nanomaterials</td>\n",
       "      <td>Natural Sciences and Engineering Research Council</td>\n",
       "      <td>2010</td>\n",
       "      <td>en</td>\n",
       "      <td>[2010, 2011]</td>\n",
       "    </tr>\n",
       "  </tbody>\n",
       "</table>\n",
       "</div>"
      ],
      "text/plain": [
       "   start_date                                  title    end_date  \\\n",
       "0  2012-06-01  Optically-active chiral nanomaterials  2013-05-31   \n",
       "1  2016-04-01                  Polymer Nanomaterials  2017-03-31   \n",
       "2  2016-04-01                  Polymer Nanomaterials  2017-03-31   \n",
       "3  2013-04-01                  Polymer Nanomaterials  2014-03-31   \n",
       "4  2010-04-01                  Polymer Nanomaterials  2011-03-31   \n",
       "\n",
       "  title_language   project_num             id  \\\n",
       "0             en  11/W.1/I2065  grant.3984032   \n",
       "1             en        617505  grant.6973622   \n",
       "2             en        617153  grant.6973270   \n",
       "3             en        543663  grant.3643972   \n",
       "4             en        454382  grant.2865162   \n",
       "\n",
       "                                             funders  \\\n",
       "0  [{'id': 'grid.437854.9', 'types': ['Nonprofit'...   \n",
       "1  [{'id': 'grid.452912.9', 'types': ['Government...   \n",
       "2  [{'id': 'grid.452912.9', 'types': ['Government...   \n",
       "3  [{'id': 'grid.452912.9', 'types': ['Government...   \n",
       "4  [{'id': 'grid.452912.9', 'types': ['Government...   \n",
       "\n",
       "                          original_title  \\\n",
       "0  Optically-active chiral nanomaterials   \n",
       "1                  Polymer Nanomaterials   \n",
       "2                  Polymer Nanomaterials   \n",
       "3                  Polymer Nanomaterials   \n",
       "4                  Polymer Nanomaterials   \n",
       "\n",
       "                                    funding_org_name  start_year language  \\\n",
       "0                         Science Foundation Ireland        2012       en   \n",
       "1  Natural Sciences and Engineering Research Council        2016       en   \n",
       "2  Natural Sciences and Engineering Research Council        2016       en   \n",
       "3  Natural Sciences and Engineering Research Council        2013       en   \n",
       "4  Natural Sciences and Engineering Research Council        2010       en   \n",
       "\n",
       "    active_year  \n",
       "0  [2012, 2013]  \n",
       "1  [2016, 2017]  \n",
       "2  [2016, 2017]  \n",
       "3  [2013, 2014]  \n",
       "4  [2010, 2011]  "
      ]
     },
     "execution_count": 57,
     "metadata": {},
     "output_type": "execute_result"
    }
   ],
   "source": [
    "%%dsldf  \n",
    "search grants  \n",
    "    for \"nanomaterials\"\n",
    "return grants  sort by relevance desc limit 5"
   ]
  },
  {
   "cell_type": "markdown",
   "metadata": {
    "Collapsed": "false"
   },
   "source": [
    "Number of citations per publication"
   ]
  },
  {
   "cell_type": "code",
   "execution_count": 58,
   "metadata": {
    "Collapsed": "false"
   },
   "outputs": [
    {
     "name": "stdout",
     "output_type": "stream",
     "text": [
      "Returned Publications: 5 (total = 110023255)\n"
     ]
    },
    {
     "data": {
      "text/html": [
       "<div>\n",
       "<style scoped>\n",
       "    .dataframe tbody tr th:only-of-type {\n",
       "        vertical-align: middle;\n",
       "    }\n",
       "\n",
       "    .dataframe tbody tr th {\n",
       "        vertical-align: top;\n",
       "    }\n",
       "\n",
       "    .dataframe thead th {\n",
       "        text-align: right;\n",
       "    }\n",
       "</style>\n",
       "<table border=\"1\" class=\"dataframe\">\n",
       "  <thead>\n",
       "    <tr style=\"text-align: right;\">\n",
       "      <th></th>\n",
       "      <th>times_cited</th>\n",
       "      <th>doi</th>\n",
       "    </tr>\n",
       "  </thead>\n",
       "  <tbody>\n",
       "    <tr>\n",
       "      <th>0</th>\n",
       "      <td>230793</td>\n",
       "      <td>NaN</td>\n",
       "    </tr>\n",
       "    <tr>\n",
       "      <th>1</th>\n",
       "      <td>196708</td>\n",
       "      <td>10.1038/227680a0</td>\n",
       "    </tr>\n",
       "    <tr>\n",
       "      <th>2</th>\n",
       "      <td>178696</td>\n",
       "      <td>10.1016/0003-2697(76)90527-3</td>\n",
       "    </tr>\n",
       "    <tr>\n",
       "      <th>3</th>\n",
       "      <td>87448</td>\n",
       "      <td>10.1006/meth.2001.1262</td>\n",
       "    </tr>\n",
       "    <tr>\n",
       "      <th>4</th>\n",
       "      <td>82895</td>\n",
       "      <td>10.1103/physrevlett.77.3865</td>\n",
       "    </tr>\n",
       "  </tbody>\n",
       "</table>\n",
       "</div>"
      ],
      "text/plain": [
       "   times_cited                           doi\n",
       "0       230793                           NaN\n",
       "1       196708              10.1038/227680a0\n",
       "2       178696  10.1016/0003-2697(76)90527-3\n",
       "3        87448        10.1006/meth.2001.1262\n",
       "4        82895   10.1103/physrevlett.77.3865"
      ]
     },
     "execution_count": 58,
     "metadata": {},
     "output_type": "execute_result"
    }
   ],
   "source": [
    "%%dsldf  \n",
    "search publications\n",
    "return publications  [doi + times_cited] \n",
    "    sort by times_cited limit 5"
   ]
  },
  {
   "cell_type": "markdown",
   "metadata": {
    "Collapsed": "false"
   },
   "source": [
    "Recent citations per publication.\n",
    "Note: Recent citation refers to the number of citations accrued in the last two year period. A single value is stored per document and the year window rolls over in July."
   ]
  },
  {
   "cell_type": "code",
   "execution_count": 59,
   "metadata": {
    "Collapsed": "false"
   },
   "outputs": [
    {
     "name": "stdout",
     "output_type": "stream",
     "text": [
      "Returned Publications: 5 (total = 110023255)\n"
     ]
    },
    {
     "data": {
      "text/html": [
       "<div>\n",
       "<style scoped>\n",
       "    .dataframe tbody tr th:only-of-type {\n",
       "        vertical-align: middle;\n",
       "    }\n",
       "\n",
       "    .dataframe tbody tr th {\n",
       "        vertical-align: top;\n",
       "    }\n",
       "\n",
       "    .dataframe thead th {\n",
       "        text-align: right;\n",
       "    }\n",
       "</style>\n",
       "<table border=\"1\" class=\"dataframe\">\n",
       "  <thead>\n",
       "    <tr style=\"text-align: right;\">\n",
       "      <th></th>\n",
       "      <th>recent_citations</th>\n",
       "      <th>doi</th>\n",
       "    </tr>\n",
       "  </thead>\n",
       "  <tbody>\n",
       "    <tr>\n",
       "      <th>0</th>\n",
       "      <td>29381</td>\n",
       "      <td>10.1006/meth.2001.1262</td>\n",
       "    </tr>\n",
       "    <tr>\n",
       "      <th>1</th>\n",
       "      <td>22006</td>\n",
       "      <td>10.1103/physrevlett.77.3865</td>\n",
       "    </tr>\n",
       "    <tr>\n",
       "      <th>2</th>\n",
       "      <td>21376</td>\n",
       "      <td>10.1176/appi.books.9780890425596</td>\n",
       "    </tr>\n",
       "    <tr>\n",
       "      <th>3</th>\n",
       "      <td>20907</td>\n",
       "      <td>10.1109/cvpr.2016.90</td>\n",
       "    </tr>\n",
       "    <tr>\n",
       "      <th>4</th>\n",
       "      <td>20077</td>\n",
       "      <td>10.1191/1478088706qp063oa</td>\n",
       "    </tr>\n",
       "  </tbody>\n",
       "</table>\n",
       "</div>"
      ],
      "text/plain": [
       "   recent_citations                               doi\n",
       "0             29381            10.1006/meth.2001.1262\n",
       "1             22006       10.1103/physrevlett.77.3865\n",
       "2             21376  10.1176/appi.books.9780890425596\n",
       "3             20907              10.1109/cvpr.2016.90\n",
       "4             20077         10.1191/1478088706qp063oa"
      ]
     },
     "execution_count": 59,
     "metadata": {},
     "output_type": "execute_result"
    }
   ],
   "source": [
    "%%dsldf \n",
    "search publications\n",
    "return publications [doi + recent_citations]\n",
    "    sort by recent_citations limit 5"
   ]
  },
  {
   "cell_type": "markdown",
   "metadata": {
    "Collapsed": "false"
   },
   "source": [
    "When a facet is being returned, the `indicator` used in the\n",
    "`sort` phrase must either be `count` (the default, such that\n",
    "`sort by count` is unnecessary), or one of the indicators specified in\n",
    "the `aggregate` phrase, i.e. one whose values are being computed in the\n",
    "faceting operation. \n"
   ]
  },
  {
   "cell_type": "code",
   "execution_count": 60,
   "metadata": {
    "Collapsed": "false"
   },
   "outputs": [
    {
     "name": "stdout",
     "output_type": "stream",
     "text": [
      "Returned Research_orgs: 5\n"
     ]
    },
    {
     "data": {
      "text/html": [
       "<div>\n",
       "<style scoped>\n",
       "    .dataframe tbody tr th:only-of-type {\n",
       "        vertical-align: middle;\n",
       "    }\n",
       "\n",
       "    .dataframe tbody tr th {\n",
       "        vertical-align: top;\n",
       "    }\n",
       "\n",
       "    .dataframe thead th {\n",
       "        text-align: right;\n",
       "    }\n",
       "</style>\n",
       "<table border=\"1\" class=\"dataframe\">\n",
       "  <thead>\n",
       "    <tr style=\"text-align: right;\">\n",
       "      <th></th>\n",
       "      <th>id</th>\n",
       "      <th>count</th>\n",
       "      <th>rcr_avg</th>\n",
       "      <th>altmetric_median</th>\n",
       "      <th>types</th>\n",
       "      <th>city_name</th>\n",
       "      <th>longitude</th>\n",
       "      <th>name</th>\n",
       "      <th>country_name</th>\n",
       "      <th>linkout</th>\n",
       "      <th>latitude</th>\n",
       "      <th>acronym</th>\n",
       "      <th>state_name</th>\n",
       "    </tr>\n",
       "  </thead>\n",
       "  <tbody>\n",
       "    <tr>\n",
       "      <th>0</th>\n",
       "      <td>grid.11444.34</td>\n",
       "      <td>1</td>\n",
       "      <td>207.839996</td>\n",
       "      <td>343.0</td>\n",
       "      <td>[Facility]</td>\n",
       "      <td>Shanghai</td>\n",
       "      <td>121.467255</td>\n",
       "      <td>Shanghai Institute of Hypertension</td>\n",
       "      <td>China</td>\n",
       "      <td>[http://www.china-sih.com/]</td>\n",
       "      <td>31.211678</td>\n",
       "      <td>NaN</td>\n",
       "      <td>NaN</td>\n",
       "    </tr>\n",
       "    <tr>\n",
       "      <th>1</th>\n",
       "      <td>grid.11485.39</td>\n",
       "      <td>1</td>\n",
       "      <td>207.839996</td>\n",
       "      <td>343.0</td>\n",
       "      <td>[Nonprofit]</td>\n",
       "      <td>London</td>\n",
       "      <td>-0.106269</td>\n",
       "      <td>Cancer Research UK</td>\n",
       "      <td>United Kingdom</td>\n",
       "      <td>[http://www.cancerresearchuk.org/]</td>\n",
       "      <td>51.531322</td>\n",
       "      <td>CRUK</td>\n",
       "      <td>NaN</td>\n",
       "    </tr>\n",
       "    <tr>\n",
       "      <th>2</th>\n",
       "      <td>grid.11642.30</td>\n",
       "      <td>1</td>\n",
       "      <td>207.839996</td>\n",
       "      <td>343.0</td>\n",
       "      <td>[Education]</td>\n",
       "      <td>Saint-Denis</td>\n",
       "      <td>55.484550</td>\n",
       "      <td>University of La Réunion</td>\n",
       "      <td>Reunion</td>\n",
       "      <td>[http://www.univ-reunion.fr/university-of-reun...</td>\n",
       "      <td>-20.901735</td>\n",
       "      <td>NaN</td>\n",
       "      <td>NaN</td>\n",
       "    </tr>\n",
       "    <tr>\n",
       "      <th>3</th>\n",
       "      <td>grid.120073.7</td>\n",
       "      <td>1</td>\n",
       "      <td>207.839996</td>\n",
       "      <td>343.0</td>\n",
       "      <td>[Healthcare]</td>\n",
       "      <td>Cambridge</td>\n",
       "      <td>0.140000</td>\n",
       "      <td>Addenbrooke's Hospital</td>\n",
       "      <td>United Kingdom</td>\n",
       "      <td>[http://www.cuh.org.uk/addenbrookes-hospital]</td>\n",
       "      <td>52.176000</td>\n",
       "      <td>NaN</td>\n",
       "      <td>Cambridgeshire</td>\n",
       "    </tr>\n",
       "    <tr>\n",
       "      <th>4</th>\n",
       "      <td>grid.20931.39</td>\n",
       "      <td>1</td>\n",
       "      <td>207.839996</td>\n",
       "      <td>343.0</td>\n",
       "      <td>[Education]</td>\n",
       "      <td>London</td>\n",
       "      <td>-0.134000</td>\n",
       "      <td>Royal Veterinary College</td>\n",
       "      <td>United Kingdom</td>\n",
       "      <td>[http://www.rvc.ac.uk/]</td>\n",
       "      <td>51.536800</td>\n",
       "      <td>RVC</td>\n",
       "      <td>NaN</td>\n",
       "    </tr>\n",
       "  </tbody>\n",
       "</table>\n",
       "</div>"
      ],
      "text/plain": [
       "              id  count     rcr_avg  altmetric_median         types  \\\n",
       "0  grid.11444.34      1  207.839996             343.0    [Facility]   \n",
       "1  grid.11485.39      1  207.839996             343.0   [Nonprofit]   \n",
       "2  grid.11642.30      1  207.839996             343.0   [Education]   \n",
       "3  grid.120073.7      1  207.839996             343.0  [Healthcare]   \n",
       "4  grid.20931.39      1  207.839996             343.0   [Education]   \n",
       "\n",
       "     city_name   longitude                                name  \\\n",
       "0     Shanghai  121.467255  Shanghai Institute of Hypertension   \n",
       "1       London   -0.106269                  Cancer Research UK   \n",
       "2  Saint-Denis   55.484550            University of La Réunion   \n",
       "3    Cambridge    0.140000              Addenbrooke's Hospital   \n",
       "4       London   -0.134000            Royal Veterinary College   \n",
       "\n",
       "     country_name                                            linkout  \\\n",
       "0           China                        [http://www.china-sih.com/]   \n",
       "1  United Kingdom                 [http://www.cancerresearchuk.org/]   \n",
       "2         Reunion  [http://www.univ-reunion.fr/university-of-reun...   \n",
       "3  United Kingdom      [http://www.cuh.org.uk/addenbrookes-hospital]   \n",
       "4  United Kingdom                            [http://www.rvc.ac.uk/]   \n",
       "\n",
       "    latitude acronym      state_name  \n",
       "0  31.211678     NaN             NaN  \n",
       "1  51.531322    CRUK             NaN  \n",
       "2 -20.901735     NaN             NaN  \n",
       "3  52.176000     NaN  Cambridgeshire  \n",
       "4  51.536800     RVC             NaN  "
      ]
     },
     "execution_count": 60,
     "metadata": {},
     "output_type": "execute_result"
    }
   ],
   "source": [
    "%%dsldf \n",
    "search publications \n",
    "    for \"nanomaterials\"\n",
    "return research_orgs \n",
    "    aggregate altmetric_median, rcr_avg sort by rcr_avg limit 5 "
   ]
  },
  {
   "cell_type": "markdown",
   "metadata": {
    "Collapsed": "false"
   },
   "source": [
    "## 6. Aggregations\n",
    "\n",
    "In a `return` phrase requesting one or more `facet` results, aggregation\n",
    "operations to perform during faceting can be specified after the facet\n",
    "name(s) by using the keyword `aggregate` followed by a comma-separated\n",
    "list of one or more `indicator` names corresponding to the `source`\n",
    "being searched."
   ]
  },
  {
   "cell_type": "code",
   "execution_count": 61,
   "metadata": {
    "Collapsed": "false"
   },
   "outputs": [
    {
     "name": "stdout",
     "output_type": "stream",
     "text": [
      "Returned Research_orgs: 5\n"
     ]
    },
    {
     "data": {
      "text/html": [
       "<div>\n",
       "<style scoped>\n",
       "    .dataframe tbody tr th:only-of-type {\n",
       "        vertical-align: middle;\n",
       "    }\n",
       "\n",
       "    .dataframe tbody tr th {\n",
       "        vertical-align: top;\n",
       "    }\n",
       "\n",
       "    .dataframe thead th {\n",
       "        text-align: right;\n",
       "    }\n",
       "</style>\n",
       "<table border=\"1\" class=\"dataframe\">\n",
       "  <thead>\n",
       "    <tr style=\"text-align: right;\">\n",
       "      <th></th>\n",
       "      <th>id</th>\n",
       "      <th>count</th>\n",
       "      <th>rcr_avg</th>\n",
       "      <th>altmetric_median</th>\n",
       "      <th>country_name</th>\n",
       "      <th>name</th>\n",
       "      <th>longitude</th>\n",
       "      <th>state_name</th>\n",
       "      <th>city_name</th>\n",
       "      <th>latitude</th>\n",
       "      <th>linkout</th>\n",
       "      <th>types</th>\n",
       "      <th>acronym</th>\n",
       "    </tr>\n",
       "  </thead>\n",
       "  <tbody>\n",
       "    <tr>\n",
       "      <th>0</th>\n",
       "      <td>grid.17063.33</td>\n",
       "      <td>140923</td>\n",
       "      <td>1.692821</td>\n",
       "      <td>4.0</td>\n",
       "      <td>Canada</td>\n",
       "      <td>University of Toronto</td>\n",
       "      <td>-79.395000</td>\n",
       "      <td>Ontario</td>\n",
       "      <td>Toronto</td>\n",
       "      <td>43.661667</td>\n",
       "      <td>[http://www.utoronto.ca/]</td>\n",
       "      <td>[Education]</td>\n",
       "      <td>NaN</td>\n",
       "    </tr>\n",
       "    <tr>\n",
       "      <th>1</th>\n",
       "      <td>grid.38142.3c</td>\n",
       "      <td>136543</td>\n",
       "      <td>2.213127</td>\n",
       "      <td>5.0</td>\n",
       "      <td>United States</td>\n",
       "      <td>Harvard University</td>\n",
       "      <td>-71.116650</td>\n",
       "      <td>Massachusetts</td>\n",
       "      <td>Cambridge</td>\n",
       "      <td>42.377052</td>\n",
       "      <td>[http://www.harvard.edu/]</td>\n",
       "      <td>[Education]</td>\n",
       "      <td>NaN</td>\n",
       "    </tr>\n",
       "    <tr>\n",
       "      <th>2</th>\n",
       "      <td>grid.11899.38</td>\n",
       "      <td>132248</td>\n",
       "      <td>1.045882</td>\n",
       "      <td>2.0</td>\n",
       "      <td>Brazil</td>\n",
       "      <td>University of São Paulo</td>\n",
       "      <td>-46.730103</td>\n",
       "      <td>NaN</td>\n",
       "      <td>São Paulo</td>\n",
       "      <td>-23.563051</td>\n",
       "      <td>[http://www5.usp.br/en/]</td>\n",
       "      <td>[Education]</td>\n",
       "      <td>USP</td>\n",
       "    </tr>\n",
       "    <tr>\n",
       "      <th>3</th>\n",
       "      <td>grid.83440.3b</td>\n",
       "      <td>120731</td>\n",
       "      <td>1.906856</td>\n",
       "      <td>4.0</td>\n",
       "      <td>United Kingdom</td>\n",
       "      <td>University College London</td>\n",
       "      <td>-0.133982</td>\n",
       "      <td>NaN</td>\n",
       "      <td>London</td>\n",
       "      <td>51.524470</td>\n",
       "      <td>[http://www.ucl.ac.uk/]</td>\n",
       "      <td>[Education]</td>\n",
       "      <td>UCL</td>\n",
       "    </tr>\n",
       "    <tr>\n",
       "      <th>4</th>\n",
       "      <td>grid.26999.3d</td>\n",
       "      <td>119074</td>\n",
       "      <td>1.181334</td>\n",
       "      <td>2.0</td>\n",
       "      <td>Japan</td>\n",
       "      <td>University of Tokyo</td>\n",
       "      <td>139.762220</td>\n",
       "      <td>NaN</td>\n",
       "      <td>Tokyo</td>\n",
       "      <td>35.713333</td>\n",
       "      <td>[http://www.u-tokyo.ac.jp/en/]</td>\n",
       "      <td>[Education]</td>\n",
       "      <td>UT</td>\n",
       "    </tr>\n",
       "  </tbody>\n",
       "</table>\n",
       "</div>"
      ],
      "text/plain": [
       "              id   count   rcr_avg  altmetric_median    country_name  \\\n",
       "0  grid.17063.33  140923  1.692821               4.0          Canada   \n",
       "1  grid.38142.3c  136543  2.213127               5.0   United States   \n",
       "2  grid.11899.38  132248  1.045882               2.0          Brazil   \n",
       "3  grid.83440.3b  120731  1.906856               4.0  United Kingdom   \n",
       "4  grid.26999.3d  119074  1.181334               2.0           Japan   \n",
       "\n",
       "                        name   longitude     state_name  city_name   latitude  \\\n",
       "0      University of Toronto  -79.395000        Ontario    Toronto  43.661667   \n",
       "1         Harvard University  -71.116650  Massachusetts  Cambridge  42.377052   \n",
       "2    University of São Paulo  -46.730103            NaN  São Paulo -23.563051   \n",
       "3  University College London   -0.133982            NaN     London  51.524470   \n",
       "4        University of Tokyo  139.762220            NaN      Tokyo  35.713333   \n",
       "\n",
       "                          linkout        types acronym  \n",
       "0       [http://www.utoronto.ca/]  [Education]     NaN  \n",
       "1       [http://www.harvard.edu/]  [Education]     NaN  \n",
       "2        [http://www5.usp.br/en/]  [Education]     USP  \n",
       "3         [http://www.ucl.ac.uk/]  [Education]     UCL  \n",
       "4  [http://www.u-tokyo.ac.jp/en/]  [Education]      UT  "
      ]
     },
     "execution_count": 61,
     "metadata": {},
     "output_type": "execute_result"
    }
   ],
   "source": [
    "%%dsldf\n",
    "search publications \n",
    "    where year > 2010 \n",
    "return research_orgs  \n",
    "    aggregate rcr_avg, altmetric_median limit 5"
   ]
  },
  {
   "cell_type": "markdown",
   "metadata": {
    "Collapsed": "false"
   },
   "source": [
    "**What are the metrics/aggregations available?** See the data sources documentation for information about available [indicators](https://docs.dimensions.ai/dsl/datasource-publications.html#publications-indicators).  \n",
    "\n",
    "Alternatively, we can use the 'schema' API ([describe](https://docs.dimensions.ai/dsl/data-sources.html#metadata-api)) to return this information programmatically:"
   ]
  },
  {
   "cell_type": "code",
   "execution_count": 62,
   "metadata": {
    "Collapsed": "false"
   },
   "outputs": [
    {
     "name": "stdout",
     "output_type": "stream",
     "text": [
      "SOURCE: publications\n",
      "-- count  =>  Total count\n",
      "-- altmetric_median  =>  Median Altmetric attention score\n",
      "-- altmetric_avg  =>  Altmetric attention score mean\n",
      "-- citations_total  =>  Aggregated number of citations\n",
      "-- citations_avg  =>  Arithmetic mean of citations\n",
      "-- citations_median  =>  Median of citations\n",
      "-- recent_citations_total  =>  For a given article, in a given year, the number of citations accrued in the last two year period. Single value stored per document, year window rolls over in July.\n",
      "-- rcr_avg  =>  Arithmetic mean of `relative_citation_ratio` field.\n",
      "-- fcr_gavg  =>  Geometric mean of `field_citation_ratio` field (note: This field cannot be used for sorting results).\n",
      "SOURCE: grants\n",
      "-- count  =>  Total count\n",
      "-- funding  =>  Total funding amount, in USD.\n",
      "SOURCE: patents\n",
      "-- count  =>  Total count\n",
      "SOURCE: clinical_trials\n",
      "-- count  =>  Total count\n",
      "SOURCE: policy_documents\n",
      "-- count  =>  Total count\n",
      "SOURCE: researchers\n",
      "-- count  =>  Total count\n",
      "SOURCE: organizations\n",
      "-- count  =>  Total count\n",
      "SOURCE: datasets\n",
      "-- count  =>  Total count\n"
     ]
    }
   ],
   "source": [
    "schema = dsl.query(\"describe schema\")\n",
    "sources = [x for x in schema['sources']]\n",
    "# for each source name, extract metrics info\n",
    "for s in sources:\n",
    "    print(\"SOURCE:\", s)\n",
    "    for m in schema['sources'][s]['metrics']:\n",
    "        print(\"--\", schema['sources'][s]['metrics'][m]['name'], \" => \", schema['sources'][s]['metrics'][m]['description'], )"
   ]
  },
  {
   "cell_type": "markdown",
   "metadata": {
    "Collapsed": "false"
   },
   "source": [
    "**NOTE** In addition to any specified aggregations, `count` is always computed\n",
    "and reported when facet results are requested."
   ]
  },
  {
   "cell_type": "code",
   "execution_count": 63,
   "metadata": {
    "Collapsed": "false"
   },
   "outputs": [
    {
     "name": "stdout",
     "output_type": "stream",
     "text": [
      "Returned Funders: 5\n"
     ]
    },
    {
     "data": {
      "text/html": [
       "<div>\n",
       "<style scoped>\n",
       "    .dataframe tbody tr th:only-of-type {\n",
       "        vertical-align: middle;\n",
       "    }\n",
       "\n",
       "    .dataframe tbody tr th {\n",
       "        vertical-align: top;\n",
       "    }\n",
       "\n",
       "    .dataframe thead th {\n",
       "        text-align: right;\n",
       "    }\n",
       "</style>\n",
       "<table border=\"1\" class=\"dataframe\">\n",
       "  <thead>\n",
       "    <tr style=\"text-align: right;\">\n",
       "      <th></th>\n",
       "      <th>id</th>\n",
       "      <th>count</th>\n",
       "      <th>funding</th>\n",
       "      <th>acronym</th>\n",
       "      <th>city_name</th>\n",
       "      <th>name</th>\n",
       "      <th>types</th>\n",
       "      <th>longitude</th>\n",
       "      <th>linkout</th>\n",
       "      <th>latitude</th>\n",
       "      <th>country_name</th>\n",
       "      <th>state_name</th>\n",
       "    </tr>\n",
       "  </thead>\n",
       "  <tbody>\n",
       "    <tr>\n",
       "      <th>0</th>\n",
       "      <td>grid.270680.b</td>\n",
       "      <td>175</td>\n",
       "      <td>834354500.0</td>\n",
       "      <td>EC</td>\n",
       "      <td>Brussels</td>\n",
       "      <td>European Commission</td>\n",
       "      <td>[Government]</td>\n",
       "      <td>4.363670</td>\n",
       "      <td>[http://ec.europa.eu/index_en.htm]</td>\n",
       "      <td>50.851650</td>\n",
       "      <td>Belgium</td>\n",
       "      <td>NaN</td>\n",
       "    </tr>\n",
       "    <tr>\n",
       "      <th>1</th>\n",
       "      <td>grid.421091.f</td>\n",
       "      <td>68</td>\n",
       "      <td>52650403.0</td>\n",
       "      <td>EPSRC</td>\n",
       "      <td>Swindon</td>\n",
       "      <td>Engineering and Physical Sciences Research Cou...</td>\n",
       "      <td>[Government]</td>\n",
       "      <td>-1.784602</td>\n",
       "      <td>[https://www.epsrc.ac.uk/]</td>\n",
       "      <td>51.567093</td>\n",
       "      <td>United Kingdom</td>\n",
       "      <td>England</td>\n",
       "    </tr>\n",
       "    <tr>\n",
       "      <th>2</th>\n",
       "      <td>grid.457785.c</td>\n",
       "      <td>106</td>\n",
       "      <td>49446108.0</td>\n",
       "      <td>NSF CISE</td>\n",
       "      <td>Arlington</td>\n",
       "      <td>Directorate for Computer &amp; Information Science...</td>\n",
       "      <td>[Government]</td>\n",
       "      <td>-77.111000</td>\n",
       "      <td>[http://www.nsf.gov/dir/index.jsp?org=CISE]</td>\n",
       "      <td>38.880580</td>\n",
       "      <td>United States</td>\n",
       "      <td>Virginia</td>\n",
       "    </tr>\n",
       "    <tr>\n",
       "      <th>3</th>\n",
       "      <td>grid.55047.33</td>\n",
       "      <td>5</td>\n",
       "      <td>47182381.0</td>\n",
       "      <td>NCRD</td>\n",
       "      <td>Warsaw</td>\n",
       "      <td>National Centre for Research and Development</td>\n",
       "      <td>[Government]</td>\n",
       "      <td>21.007630</td>\n",
       "      <td>[http://www.ncbr.gov.pl/en/]</td>\n",
       "      <td>52.227455</td>\n",
       "      <td>Poland</td>\n",
       "      <td>NaN</td>\n",
       "    </tr>\n",
       "    <tr>\n",
       "      <th>4</th>\n",
       "      <td>grid.457810.f</td>\n",
       "      <td>73</td>\n",
       "      <td>24371660.0</td>\n",
       "      <td>NSF ENG</td>\n",
       "      <td>Arlington</td>\n",
       "      <td>Directorate for Engineering</td>\n",
       "      <td>[Government]</td>\n",
       "      <td>-77.111000</td>\n",
       "      <td>[http://www.nsf.gov/dir/index.jsp?org=ENG]</td>\n",
       "      <td>38.880580</td>\n",
       "      <td>United States</td>\n",
       "      <td>Virginia</td>\n",
       "    </tr>\n",
       "  </tbody>\n",
       "</table>\n",
       "</div>"
      ],
      "text/plain": [
       "              id  count      funding   acronym  city_name  \\\n",
       "0  grid.270680.b    175  834354500.0        EC   Brussels   \n",
       "1  grid.421091.f     68   52650403.0     EPSRC    Swindon   \n",
       "2  grid.457785.c    106   49446108.0  NSF CISE  Arlington   \n",
       "3  grid.55047.33      5   47182381.0      NCRD     Warsaw   \n",
       "4  grid.457810.f     73   24371660.0   NSF ENG  Arlington   \n",
       "\n",
       "                                                name         types  longitude  \\\n",
       "0                                European Commission  [Government]   4.363670   \n",
       "1  Engineering and Physical Sciences Research Cou...  [Government]  -1.784602   \n",
       "2  Directorate for Computer & Information Science...  [Government] -77.111000   \n",
       "3       National Centre for Research and Development  [Government]  21.007630   \n",
       "4                        Directorate for Engineering  [Government] -77.111000   \n",
       "\n",
       "                                       linkout   latitude    country_name  \\\n",
       "0           [http://ec.europa.eu/index_en.htm]  50.851650         Belgium   \n",
       "1                   [https://www.epsrc.ac.uk/]  51.567093  United Kingdom   \n",
       "2  [http://www.nsf.gov/dir/index.jsp?org=CISE]  38.880580   United States   \n",
       "3                 [http://www.ncbr.gov.pl/en/]  52.227455          Poland   \n",
       "4   [http://www.nsf.gov/dir/index.jsp?org=ENG]  38.880580   United States   \n",
       "\n",
       "  state_name  \n",
       "0        NaN  \n",
       "1    England  \n",
       "2   Virginia  \n",
       "3        NaN  \n",
       "4   Virginia  "
      ]
     },
     "execution_count": 63,
     "metadata": {},
     "output_type": "execute_result"
    }
   ],
   "source": [
    "%%dsldf\n",
    "search grants \n",
    "    for \"5g network\" \n",
    "return funders \n",
    "    aggregate count, funding sort by funding limit 5 "
   ]
  },
  {
   "cell_type": "markdown",
   "metadata": {
    "Collapsed": "false"
   },
   "source": [
    "Aggregated total number of citations"
   ]
  },
  {
   "cell_type": "code",
   "execution_count": 64,
   "metadata": {
    "Collapsed": "false"
   },
   "outputs": [
    {
     "name": "stdout",
     "output_type": "stream",
     "text": [
      "Returned Funders: 5\n"
     ]
    },
    {
     "data": {
      "text/html": [
       "<div>\n",
       "<style scoped>\n",
       "    .dataframe tbody tr th:only-of-type {\n",
       "        vertical-align: middle;\n",
       "    }\n",
       "\n",
       "    .dataframe tbody tr th {\n",
       "        vertical-align: top;\n",
       "    }\n",
       "\n",
       "    .dataframe thead th {\n",
       "        text-align: right;\n",
       "    }\n",
       "</style>\n",
       "<table border=\"1\" class=\"dataframe\">\n",
       "  <thead>\n",
       "    <tr style=\"text-align: right;\">\n",
       "      <th></th>\n",
       "      <th>id</th>\n",
       "      <th>count</th>\n",
       "      <th>citations_total</th>\n",
       "      <th>types</th>\n",
       "      <th>city_name</th>\n",
       "      <th>longitude</th>\n",
       "      <th>name</th>\n",
       "      <th>country_name</th>\n",
       "      <th>linkout</th>\n",
       "      <th>state_name</th>\n",
       "      <th>acronym</th>\n",
       "      <th>latitude</th>\n",
       "    </tr>\n",
       "  </thead>\n",
       "  <tbody>\n",
       "    <tr>\n",
       "      <th>0</th>\n",
       "      <td>grid.48336.3a</td>\n",
       "      <td>12083</td>\n",
       "      <td>807005.0</td>\n",
       "      <td>[Government]</td>\n",
       "      <td>Rockville</td>\n",
       "      <td>-77.101190</td>\n",
       "      <td>National Cancer Institute</td>\n",
       "      <td>United States</td>\n",
       "      <td>[http://www.cancer.gov/]</td>\n",
       "      <td>Maryland</td>\n",
       "      <td>NCI</td>\n",
       "      <td>39.004326</td>\n",
       "    </tr>\n",
       "    <tr>\n",
       "      <th>1</th>\n",
       "      <td>grid.280785.0</td>\n",
       "      <td>11603</td>\n",
       "      <td>777080.0</td>\n",
       "      <td>[Facility]</td>\n",
       "      <td>Bethesda</td>\n",
       "      <td>-77.099380</td>\n",
       "      <td>National Institute of General Medical Sciences</td>\n",
       "      <td>United States</td>\n",
       "      <td>[http://www.nigms.nih.gov/Pages/default.aspx]</td>\n",
       "      <td>Maryland</td>\n",
       "      <td>NIGMS</td>\n",
       "      <td>38.997833</td>\n",
       "    </tr>\n",
       "    <tr>\n",
       "      <th>2</th>\n",
       "      <td>grid.280128.1</td>\n",
       "      <td>4424</td>\n",
       "      <td>575386.0</td>\n",
       "      <td>[Facility]</td>\n",
       "      <td>Bethesda</td>\n",
       "      <td>-77.096930</td>\n",
       "      <td>National Human Genome Research Institute</td>\n",
       "      <td>United States</td>\n",
       "      <td>[https://www.genome.gov/]</td>\n",
       "      <td>Maryland</td>\n",
       "      <td>NHGRI</td>\n",
       "      <td>38.996967</td>\n",
       "    </tr>\n",
       "    <tr>\n",
       "      <th>3</th>\n",
       "      <td>grid.270680.b</td>\n",
       "      <td>18022</td>\n",
       "      <td>548865.0</td>\n",
       "      <td>[Government]</td>\n",
       "      <td>Brussels</td>\n",
       "      <td>4.363670</td>\n",
       "      <td>European Commission</td>\n",
       "      <td>Belgium</td>\n",
       "      <td>[http://ec.europa.eu/index_en.htm]</td>\n",
       "      <td>NaN</td>\n",
       "      <td>EC</td>\n",
       "      <td>50.851650</td>\n",
       "    </tr>\n",
       "    <tr>\n",
       "      <th>4</th>\n",
       "      <td>grid.52788.30</td>\n",
       "      <td>4838</td>\n",
       "      <td>418936.0</td>\n",
       "      <td>[Nonprofit]</td>\n",
       "      <td>London</td>\n",
       "      <td>-0.135005</td>\n",
       "      <td>Wellcome Trust</td>\n",
       "      <td>United Kingdom</td>\n",
       "      <td>[http://www.wellcome.ac.uk/]</td>\n",
       "      <td>NaN</td>\n",
       "      <td>WT</td>\n",
       "      <td>51.525867</td>\n",
       "    </tr>\n",
       "  </tbody>\n",
       "</table>\n",
       "</div>"
      ],
      "text/plain": [
       "              id  count  citations_total         types  city_name  longitude  \\\n",
       "0  grid.48336.3a  12083         807005.0  [Government]  Rockville -77.101190   \n",
       "1  grid.280785.0  11603         777080.0    [Facility]   Bethesda -77.099380   \n",
       "2  grid.280128.1   4424         575386.0    [Facility]   Bethesda -77.096930   \n",
       "3  grid.270680.b  18022         548865.0  [Government]   Brussels   4.363670   \n",
       "4  grid.52788.30   4838         418936.0   [Nonprofit]     London  -0.135005   \n",
       "\n",
       "                                             name    country_name  \\\n",
       "0                       National Cancer Institute   United States   \n",
       "1  National Institute of General Medical Sciences   United States   \n",
       "2        National Human Genome Research Institute   United States   \n",
       "3                             European Commission         Belgium   \n",
       "4                                  Wellcome Trust  United Kingdom   \n",
       "\n",
       "                                         linkout state_name acronym   latitude  \n",
       "0                       [http://www.cancer.gov/]   Maryland     NCI  39.004326  \n",
       "1  [http://www.nigms.nih.gov/Pages/default.aspx]   Maryland   NIGMS  38.997833  \n",
       "2                      [https://www.genome.gov/]   Maryland   NHGRI  38.996967  \n",
       "3             [http://ec.europa.eu/index_en.htm]        NaN      EC  50.851650  \n",
       "4                   [http://www.wellcome.ac.uk/]        NaN      WT  51.525867  "
      ]
     },
     "execution_count": 64,
     "metadata": {},
     "output_type": "execute_result"
    }
   ],
   "source": [
    "%%dsldf\n",
    "search publications\n",
    "    for \"ontologies\"\n",
    "return funders \n",
    "    aggregate citations_total \n",
    "    sort by citations_total  limit 5"
   ]
  },
  {
   "cell_type": "markdown",
   "metadata": {
    "Collapsed": "false"
   },
   "source": [
    "Arithmetic mean number of citations"
   ]
  },
  {
   "cell_type": "code",
   "execution_count": 65,
   "metadata": {
    "Collapsed": "false"
   },
   "outputs": [
    {
     "name": "stdout",
     "output_type": "stream",
     "text": [
      "Returned Funders: 5\n"
     ]
    },
    {
     "data": {
      "text/html": [
       "<div>\n",
       "<style scoped>\n",
       "    .dataframe tbody tr th:only-of-type {\n",
       "        vertical-align: middle;\n",
       "    }\n",
       "\n",
       "    .dataframe tbody tr th {\n",
       "        vertical-align: top;\n",
       "    }\n",
       "\n",
       "    .dataframe thead th {\n",
       "        text-align: right;\n",
       "    }\n",
       "</style>\n",
       "<table border=\"1\" class=\"dataframe\">\n",
       "  <thead>\n",
       "    <tr style=\"text-align: right;\">\n",
       "      <th></th>\n",
       "      <th>id</th>\n",
       "      <th>count</th>\n",
       "      <th>citations_avg</th>\n",
       "      <th>types</th>\n",
       "      <th>city_name</th>\n",
       "      <th>longitude</th>\n",
       "      <th>name</th>\n",
       "      <th>country_name</th>\n",
       "      <th>linkout</th>\n",
       "      <th>state_name</th>\n",
       "      <th>latitude</th>\n",
       "    </tr>\n",
       "  </thead>\n",
       "  <tbody>\n",
       "    <tr>\n",
       "      <th>0</th>\n",
       "      <td>grid.478308.0</td>\n",
       "      <td>169</td>\n",
       "      <td>276.136095</td>\n",
       "      <td>[Nonprofit]</td>\n",
       "      <td>Washington D.C.</td>\n",
       "      <td>-77.039730</td>\n",
       "      <td>Alexander &amp; Margaret Stewart Trust</td>\n",
       "      <td>United States</td>\n",
       "      <td>[http://www.stewart-trust.org/]</td>\n",
       "      <td>District of Columbia</td>\n",
       "      <td>38.90116</td>\n",
       "    </tr>\n",
       "    <tr>\n",
       "      <th>1</th>\n",
       "      <td>grid.453780.d</td>\n",
       "      <td>143</td>\n",
       "      <td>186.685315</td>\n",
       "      <td>[Nonprofit]</td>\n",
       "      <td>Washington D.C.</td>\n",
       "      <td>-77.039520</td>\n",
       "      <td>Accelerate Brain Cancer Cure</td>\n",
       "      <td>United States</td>\n",
       "      <td>[http://www.abc2.org/]</td>\n",
       "      <td>District of Columbia</td>\n",
       "      <td>38.90672</td>\n",
       "    </tr>\n",
       "    <tr>\n",
       "      <th>2</th>\n",
       "      <td>grid.478789.d</td>\n",
       "      <td>568</td>\n",
       "      <td>164.917254</td>\n",
       "      <td>[Other]</td>\n",
       "      <td>Las Vegas</td>\n",
       "      <td>-115.299850</td>\n",
       "      <td>Donald W. Reynolds Foundation</td>\n",
       "      <td>United States</td>\n",
       "      <td>[http://www.dwreynolds.org/]</td>\n",
       "      <td>Nevada</td>\n",
       "      <td>36.19046</td>\n",
       "    </tr>\n",
       "    <tr>\n",
       "      <th>3</th>\n",
       "      <td>grid.417710.4</td>\n",
       "      <td>181</td>\n",
       "      <td>162.027624</td>\n",
       "      <td>[Company]</td>\n",
       "      <td>Rockville</td>\n",
       "      <td>-77.203760</td>\n",
       "      <td>Human Genome Sciences (United States)</td>\n",
       "      <td>United States</td>\n",
       "      <td>[http://www.hgsi.com]</td>\n",
       "      <td>Maryland</td>\n",
       "      <td>39.09665</td>\n",
       "    </tr>\n",
       "    <tr>\n",
       "      <th>4</th>\n",
       "      <td>grid.429197.0</td>\n",
       "      <td>719</td>\n",
       "      <td>146.849791</td>\n",
       "      <td>[Other]</td>\n",
       "      <td>New City</td>\n",
       "      <td>-73.982895</td>\n",
       "      <td>Helen Hay Whitney Foundation</td>\n",
       "      <td>United States</td>\n",
       "      <td>[http://www.hhwf.org/]</td>\n",
       "      <td>New York</td>\n",
       "      <td>41.15845</td>\n",
       "    </tr>\n",
       "  </tbody>\n",
       "</table>\n",
       "</div>"
      ],
      "text/plain": [
       "              id  count  citations_avg        types        city_name  \\\n",
       "0  grid.478308.0    169     276.136095  [Nonprofit]  Washington D.C.   \n",
       "1  grid.453780.d    143     186.685315  [Nonprofit]  Washington D.C.   \n",
       "2  grid.478789.d    568     164.917254      [Other]        Las Vegas   \n",
       "3  grid.417710.4    181     162.027624    [Company]        Rockville   \n",
       "4  grid.429197.0    719     146.849791      [Other]         New City   \n",
       "\n",
       "    longitude                                   name   country_name  \\\n",
       "0  -77.039730     Alexander & Margaret Stewart Trust  United States   \n",
       "1  -77.039520           Accelerate Brain Cancer Cure  United States   \n",
       "2 -115.299850          Donald W. Reynolds Foundation  United States   \n",
       "3  -77.203760  Human Genome Sciences (United States)  United States   \n",
       "4  -73.982895           Helen Hay Whitney Foundation  United States   \n",
       "\n",
       "                           linkout            state_name  latitude  \n",
       "0  [http://www.stewart-trust.org/]  District of Columbia  38.90116  \n",
       "1           [http://www.abc2.org/]  District of Columbia  38.90672  \n",
       "2     [http://www.dwreynolds.org/]                Nevada  36.19046  \n",
       "3            [http://www.hgsi.com]              Maryland  39.09665  \n",
       "4           [http://www.hhwf.org/]              New York  41.15845  "
      ]
     },
     "execution_count": 65,
     "metadata": {},
     "output_type": "execute_result"
    }
   ],
   "source": [
    "%%dsldf\n",
    "search publications\n",
    "return funders \n",
    "    aggregate citations_avg \n",
    "    sort by citations_avg limit 5"
   ]
  },
  {
   "cell_type": "markdown",
   "metadata": {
    "Collapsed": "false"
   },
   "source": [
    "Geometric mean of FCR\n"
   ]
  },
  {
   "cell_type": "code",
   "execution_count": 66,
   "metadata": {
    "Collapsed": "false"
   },
   "outputs": [
    {
     "name": "stdout",
     "output_type": "stream",
     "text": [
      "Returned Funders: 5\n"
     ]
    },
    {
     "data": {
      "text/html": [
       "<div>\n",
       "<style scoped>\n",
       "    .dataframe tbody tr th:only-of-type {\n",
       "        vertical-align: middle;\n",
       "    }\n",
       "\n",
       "    .dataframe tbody tr th {\n",
       "        vertical-align: top;\n",
       "    }\n",
       "\n",
       "    .dataframe thead th {\n",
       "        text-align: right;\n",
       "    }\n",
       "</style>\n",
       "<table border=\"1\" class=\"dataframe\">\n",
       "  <thead>\n",
       "    <tr style=\"text-align: right;\">\n",
       "      <th></th>\n",
       "      <th>id</th>\n",
       "      <th>fcr_gavg</th>\n",
       "      <th>count</th>\n",
       "      <th>acronym</th>\n",
       "      <th>city_name</th>\n",
       "      <th>name</th>\n",
       "      <th>types</th>\n",
       "      <th>longitude</th>\n",
       "      <th>linkout</th>\n",
       "      <th>latitude</th>\n",
       "      <th>country_name</th>\n",
       "      <th>state_name</th>\n",
       "    </tr>\n",
       "  </thead>\n",
       "  <tbody>\n",
       "    <tr>\n",
       "      <th>0</th>\n",
       "      <td>grid.419696.5</td>\n",
       "      <td>2.304725</td>\n",
       "      <td>1951296</td>\n",
       "      <td>NSFC</td>\n",
       "      <td>Beijing</td>\n",
       "      <td>National Natural Science Foundation of China</td>\n",
       "      <td>[Government]</td>\n",
       "      <td>116.339830</td>\n",
       "      <td>[http://www.nsfc.gov.cn/publish/portal1/]</td>\n",
       "      <td>40.005177</td>\n",
       "      <td>China</td>\n",
       "      <td>NaN</td>\n",
       "    </tr>\n",
       "    <tr>\n",
       "      <th>1</th>\n",
       "      <td>grid.270680.b</td>\n",
       "      <td>3.281903</td>\n",
       "      <td>677891</td>\n",
       "      <td>EC</td>\n",
       "      <td>Brussels</td>\n",
       "      <td>European Commission</td>\n",
       "      <td>[Government]</td>\n",
       "      <td>4.363670</td>\n",
       "      <td>[http://ec.europa.eu/index_en.htm]</td>\n",
       "      <td>50.851650</td>\n",
       "      <td>Belgium</td>\n",
       "      <td>NaN</td>\n",
       "    </tr>\n",
       "    <tr>\n",
       "      <th>2</th>\n",
       "      <td>grid.424020.0</td>\n",
       "      <td>2.523239</td>\n",
       "      <td>612579</td>\n",
       "      <td>MOST</td>\n",
       "      <td>Beijing</td>\n",
       "      <td>Ministry of Science and Technology of the Peop...</td>\n",
       "      <td>[Government]</td>\n",
       "      <td>116.316284</td>\n",
       "      <td>[http://www.most.gov.cn/eng/]</td>\n",
       "      <td>39.827835</td>\n",
       "      <td>China</td>\n",
       "      <td>NaN</td>\n",
       "    </tr>\n",
       "    <tr>\n",
       "      <th>3</th>\n",
       "      <td>grid.48336.3a</td>\n",
       "      <td>4.901802</td>\n",
       "      <td>584689</td>\n",
       "      <td>NCI</td>\n",
       "      <td>Rockville</td>\n",
       "      <td>National Cancer Institute</td>\n",
       "      <td>[Government]</td>\n",
       "      <td>-77.101190</td>\n",
       "      <td>[http://www.cancer.gov/]</td>\n",
       "      <td>39.004326</td>\n",
       "      <td>United States</td>\n",
       "      <td>Maryland</td>\n",
       "    </tr>\n",
       "    <tr>\n",
       "      <th>4</th>\n",
       "      <td>grid.54432.34</td>\n",
       "      <td>2.258015</td>\n",
       "      <td>574493</td>\n",
       "      <td>JSPS</td>\n",
       "      <td>Tokyo</td>\n",
       "      <td>Japan Society for the Promotion of Science</td>\n",
       "      <td>[Nonprofit]</td>\n",
       "      <td>139.740390</td>\n",
       "      <td>[http://www.jsps.go.jp/]</td>\n",
       "      <td>35.687160</td>\n",
       "      <td>Japan</td>\n",
       "      <td>NaN</td>\n",
       "    </tr>\n",
       "  </tbody>\n",
       "</table>\n",
       "</div>"
      ],
      "text/plain": [
       "              id  fcr_gavg    count acronym  city_name  \\\n",
       "0  grid.419696.5  2.304725  1951296    NSFC    Beijing   \n",
       "1  grid.270680.b  3.281903   677891      EC   Brussels   \n",
       "2  grid.424020.0  2.523239   612579    MOST    Beijing   \n",
       "3  grid.48336.3a  4.901802   584689     NCI  Rockville   \n",
       "4  grid.54432.34  2.258015   574493    JSPS      Tokyo   \n",
       "\n",
       "                                                name         types  \\\n",
       "0       National Natural Science Foundation of China  [Government]   \n",
       "1                                European Commission  [Government]   \n",
       "2  Ministry of Science and Technology of the Peop...  [Government]   \n",
       "3                          National Cancer Institute  [Government]   \n",
       "4         Japan Society for the Promotion of Science   [Nonprofit]   \n",
       "\n",
       "    longitude                                    linkout   latitude  \\\n",
       "0  116.339830  [http://www.nsfc.gov.cn/publish/portal1/]  40.005177   \n",
       "1    4.363670         [http://ec.europa.eu/index_en.htm]  50.851650   \n",
       "2  116.316284              [http://www.most.gov.cn/eng/]  39.827835   \n",
       "3  -77.101190                   [http://www.cancer.gov/]  39.004326   \n",
       "4  139.740390                   [http://www.jsps.go.jp/]  35.687160   \n",
       "\n",
       "    country_name state_name  \n",
       "0          China        NaN  \n",
       "1        Belgium        NaN  \n",
       "2          China        NaN  \n",
       "3  United States   Maryland  \n",
       "4          Japan        NaN  "
      ]
     },
     "execution_count": 66,
     "metadata": {},
     "output_type": "execute_result"
    }
   ],
   "source": [
    "%%dsldf\n",
    "search publications\n",
    "return funders \n",
    "    aggregate fcr_gavg limit 5"
   ]
  },
  {
   "cell_type": "markdown",
   "metadata": {
    "Collapsed": "false"
   },
   "source": [
    "Median Altmetric Attention Score"
   ]
  },
  {
   "cell_type": "code",
   "execution_count": 67,
   "metadata": {
    "Collapsed": "false"
   },
   "outputs": [
    {
     "name": "stdout",
     "output_type": "stream",
     "text": [
      "Returned Funders: 5\n"
     ]
    },
    {
     "data": {
      "text/html": [
       "<div>\n",
       "<style scoped>\n",
       "    .dataframe tbody tr th:only-of-type {\n",
       "        vertical-align: middle;\n",
       "    }\n",
       "\n",
       "    .dataframe tbody tr th {\n",
       "        vertical-align: top;\n",
       "    }\n",
       "\n",
       "    .dataframe thead th {\n",
       "        text-align: right;\n",
       "    }\n",
       "</style>\n",
       "<table border=\"1\" class=\"dataframe\">\n",
       "  <thead>\n",
       "    <tr style=\"text-align: right;\">\n",
       "      <th></th>\n",
       "      <th>id</th>\n",
       "      <th>count</th>\n",
       "      <th>altmetric_median</th>\n",
       "      <th>types</th>\n",
       "      <th>city_name</th>\n",
       "      <th>longitude</th>\n",
       "      <th>name</th>\n",
       "      <th>country_name</th>\n",
       "      <th>linkout</th>\n",
       "      <th>acronym</th>\n",
       "      <th>latitude</th>\n",
       "      <th>state_name</th>\n",
       "    </tr>\n",
       "  </thead>\n",
       "  <tbody>\n",
       "    <tr>\n",
       "      <th>0</th>\n",
       "      <td>grid.258806.1</td>\n",
       "      <td>6</td>\n",
       "      <td>309.0</td>\n",
       "      <td>[Education]</td>\n",
       "      <td>Kitakyushu</td>\n",
       "      <td>130.839200</td>\n",
       "      <td>Kyushu Institute of Technology</td>\n",
       "      <td>Japan</td>\n",
       "      <td>[https://www.kyutech.ac.jp/english/]</td>\n",
       "      <td>KIT</td>\n",
       "      <td>33.894436</td>\n",
       "      <td>NaN</td>\n",
       "    </tr>\n",
       "    <tr>\n",
       "      <th>1</th>\n",
       "      <td>grid.470711.4</td>\n",
       "      <td>2</td>\n",
       "      <td>110.5</td>\n",
       "      <td>[Nonprofit]</td>\n",
       "      <td>Edinburgh</td>\n",
       "      <td>-3.219597</td>\n",
       "      <td>Chest Heart and Stroke Scotland</td>\n",
       "      <td>United Kingdom</td>\n",
       "      <td>[http://www.chss.org.uk/]</td>\n",
       "      <td>CHSS</td>\n",
       "      <td>55.946075</td>\n",
       "      <td>NaN</td>\n",
       "    </tr>\n",
       "    <tr>\n",
       "      <th>2</th>\n",
       "      <td>grid.443873.f</td>\n",
       "      <td>5</td>\n",
       "      <td>99.0</td>\n",
       "      <td>[Nonprofit]</td>\n",
       "      <td>Chicago</td>\n",
       "      <td>-87.626480</td>\n",
       "      <td>LUNGevity Foundation</td>\n",
       "      <td>United States</td>\n",
       "      <td>[http://www.lungevity.org/]</td>\n",
       "      <td>LUNG</td>\n",
       "      <td>41.878674</td>\n",
       "      <td>Illinois</td>\n",
       "    </tr>\n",
       "    <tr>\n",
       "      <th>3</th>\n",
       "      <td>grid.473856.b</td>\n",
       "      <td>2</td>\n",
       "      <td>66.0</td>\n",
       "      <td>[Government]</td>\n",
       "      <td>Washington D.C.</td>\n",
       "      <td>-77.016370</td>\n",
       "      <td>Administration for Children and Families</td>\n",
       "      <td>United States</td>\n",
       "      <td>[https://www.acf.hhs.gov/]</td>\n",
       "      <td>ACF</td>\n",
       "      <td>38.885940</td>\n",
       "      <td>District of Columbia</td>\n",
       "    </tr>\n",
       "    <tr>\n",
       "      <th>4</th>\n",
       "      <td>grid.473769.8</td>\n",
       "      <td>1</td>\n",
       "      <td>33.0</td>\n",
       "      <td>[Nonprofit]</td>\n",
       "      <td>Bethesda</td>\n",
       "      <td>-77.097880</td>\n",
       "      <td>Bladder Cancer Advocacy Network</td>\n",
       "      <td>United States</td>\n",
       "      <td>[http://www.bcan.org/]</td>\n",
       "      <td>BCAN</td>\n",
       "      <td>38.988724</td>\n",
       "      <td>Maryland</td>\n",
       "    </tr>\n",
       "  </tbody>\n",
       "</table>\n",
       "</div>"
      ],
      "text/plain": [
       "              id  count  altmetric_median         types        city_name  \\\n",
       "0  grid.258806.1      6             309.0   [Education]       Kitakyushu   \n",
       "1  grid.470711.4      2             110.5   [Nonprofit]        Edinburgh   \n",
       "2  grid.443873.f      5              99.0   [Nonprofit]          Chicago   \n",
       "3  grid.473856.b      2              66.0  [Government]  Washington D.C.   \n",
       "4  grid.473769.8      1              33.0   [Nonprofit]         Bethesda   \n",
       "\n",
       "    longitude                                      name    country_name  \\\n",
       "0  130.839200            Kyushu Institute of Technology           Japan   \n",
       "1   -3.219597           Chest Heart and Stroke Scotland  United Kingdom   \n",
       "2  -87.626480                      LUNGevity Foundation   United States   \n",
       "3  -77.016370  Administration for Children and Families   United States   \n",
       "4  -77.097880           Bladder Cancer Advocacy Network   United States   \n",
       "\n",
       "                                linkout acronym   latitude  \\\n",
       "0  [https://www.kyutech.ac.jp/english/]     KIT  33.894436   \n",
       "1             [http://www.chss.org.uk/]    CHSS  55.946075   \n",
       "2           [http://www.lungevity.org/]    LUNG  41.878674   \n",
       "3            [https://www.acf.hhs.gov/]     ACF  38.885940   \n",
       "4                [http://www.bcan.org/]    BCAN  38.988724   \n",
       "\n",
       "             state_name  \n",
       "0                   NaN  \n",
       "1                   NaN  \n",
       "2              Illinois  \n",
       "3  District of Columbia  \n",
       "4              Maryland  "
      ]
     },
     "execution_count": 67,
     "metadata": {},
     "output_type": "execute_result"
    }
   ],
   "source": [
    "%%dsldf \n",
    "search publications\n",
    "return funders aggregate altmetric_median \n",
    "    sort by altmetric_median limit 5 "
   ]
  }
 ],
 "metadata": {
  "kernelspec": {
   "display_name": "Python 3",
   "language": "python",
   "name": "python3"
  },
  "language_info": {
   "codemirror_mode": {
    "name": "ipython",
    "version": 3
   },
   "file_extension": ".py",
   "mimetype": "text/x-python",
   "name": "python",
   "nbconvert_exporter": "python",
   "pygments_lexer": "ipython3",
   "version": "3.7.4"
  },
  "toc-showcode": false,
  "toc-showmarkdowntxt": false,
  "toc-showtags": false
 },
 "nbformat": 4,
 "nbformat_minor": 4
}
