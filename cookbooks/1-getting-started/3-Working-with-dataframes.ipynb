{
 "cells": [
  {
   "cell_type": "markdown",
   "metadata": {
    "Collapsed": "false",
    "colab_type": "text",
    "id": "8XNB2EeXR4DA"
   },
   "source": [
    "# Transforming API results into Pandas dataframes\n",
    "\n",
    "DimCli includes a few utilities that make it easier to transform Dimensions JSON data into Pandas [dataframe objects](https://pandas.pydata.org/pandas-docs/stable/getting_started/dsintro.html#dataframe). \n",
    "\n",
    "Dataframes are then easy to sort, analyse, export as CSV and use within visualisation softwares.\n",
    "\n",
    ">  [pandas](https://pandas.pydata.org/pandas-docs/stable/) is a popular software library written for the Python programming language for data manipulation and analysis."
   ]
  },
  {
   "cell_type": "code",
   "execution_count": 1,
   "metadata": {
    "Collapsed": "false",
    "colab": {
     "base_uri": "https://localhost:8080/",
     "height": 51
    },
    "colab_type": "code",
    "executionInfo": {
     "elapsed": 6993,
     "status": "ok",
     "timestamp": 1575637337420,
     "user": {
      "displayName": "Michele Pasin",
      "photoUrl": "https://lh3.googleusercontent.com/a-/AAuE7mBu8LVjIGgontF2Wax51BoL5KFx8esezX3bUmaa0g=s64",
      "userId": "10309320684375994511"
     },
     "user_tz": 0
    },
    "id": "ZFn1lPjmR4DB",
    "outputId": "3af69bca-ad2c-4f80-e4db-e5fe39d379fa"
   },
   "outputs": [
    {
     "name": "stdout",
     "output_type": "stream",
     "text": [
      "DimCli v0.6.1.2 - Succesfully connected to <https://app.dimensions.ai> (method: dsl.ini file)\n"
     ]
    }
   ],
   "source": [
    "# @markdown Click the 'play' button on the left (or shift+enter) after entering your API credentials\n",
    "\n",
    "username = \"\" #@param {type: \"string\"}\n",
    "password = \"\" #@param {type: \"string\"}\n",
    "endpoint = \"https://app.dimensions.ai\"\n",
    "\n",
    "!pip install dimcli -U --quiet\n",
    "\n",
    "# import all libraries and login\n",
    "import pandas\n",
    "import dimcli\n",
    "dimcli.login(username, password, endpoint)\n",
    "dsl = dimcli.Dsl()"
   ]
  },
  {
   "cell_type": "markdown",
   "metadata": {
    "Collapsed": "false",
    "colab_type": "text",
    "id": "oMLG9WL0R4DE"
   },
   "source": [
    "## 1. Getting started: the `as_dataframe` method\n",
    "\n",
    "This utility method allows to quickly turn any query results into a dataframe. "
   ]
  },
  {
   "cell_type": "code",
   "execution_count": 2,
   "metadata": {
    "Collapsed": "false",
    "colab": {
     "base_uri": "https://localhost:8080/",
     "height": 34
    },
    "colab_type": "code",
    "executionInfo": {
     "elapsed": 3008,
     "status": "ok",
     "timestamp": 1574681077688,
     "user": {
      "displayName": "Michele Pasin",
      "photoUrl": "https://lh3.googleusercontent.com/a-/AAuE7mBu8LVjIGgontF2Wax51BoL5KFx8esezX3bUmaa0g=s64",
      "userId": "10309320684375994511"
     },
     "user_tz": 0
    },
    "id": "19qgos2dR4DF",
    "outputId": "a4bdf8a3-a760-4b80-cb1d-fb89b6cf08ca"
   },
   "outputs": [
    {
     "name": "stdout",
     "output_type": "stream",
     "text": [
      "Returned Publications: 1000 (total = 405308)\n"
     ]
    }
   ],
   "source": [
    "# we'll reuse this query later on \n",
    "query = \"\"\"search publications for \"graphene\" \n",
    "            where year in [2013:2019] \n",
    "            return publications sort by times_cited limit 1000\"\"\"\n",
    "res = dsl.query(query)"
   ]
  },
  {
   "cell_type": "code",
   "execution_count": 3,
   "metadata": {
    "Collapsed": "false",
    "colab": {
     "base_uri": "https://localhost:8080/",
     "height": 1000
    },
    "colab_type": "code",
    "executionInfo": {
     "elapsed": 1346,
     "status": "ok",
     "timestamp": 1574681079469,
     "user": {
      "displayName": "Michele Pasin",
      "photoUrl": "https://lh3.googleusercontent.com/a-/AAuE7mBu8LVjIGgontF2Wax51BoL5KFx8esezX3bUmaa0g=s64",
      "userId": "10309320684375994511"
     },
     "user_tz": 0
    },
    "id": "6LCGKJPwR4DG",
    "outputId": "b0b6e7e6-10de-4a17-e037-33083352fc8f"
   },
   "outputs": [
    {
     "data": {
      "text/html": [
       "<div>\n",
       "<style scoped>\n",
       "    .dataframe tbody tr th:only-of-type {\n",
       "        vertical-align: middle;\n",
       "    }\n",
       "\n",
       "    .dataframe tbody tr th {\n",
       "        vertical-align: top;\n",
       "    }\n",
       "\n",
       "    .dataframe thead th {\n",
       "        text-align: right;\n",
       "    }\n",
       "</style>\n",
       "<table border=\"1\" class=\"dataframe\">\n",
       "  <thead>\n",
       "    <tr style=\"text-align: right;\">\n",
       "      <th></th>\n",
       "      <th>year</th>\n",
       "      <th>issue</th>\n",
       "      <th>volume</th>\n",
       "      <th>title</th>\n",
       "      <th>id</th>\n",
       "      <th>type</th>\n",
       "      <th>pages</th>\n",
       "      <th>author_affiliations</th>\n",
       "      <th>journal.id</th>\n",
       "      <th>journal.title</th>\n",
       "    </tr>\n",
       "  </thead>\n",
       "  <tbody>\n",
       "    <tr>\n",
       "      <th>0</th>\n",
       "      <td>2013</td>\n",
       "      <td>4</td>\n",
       "      <td>5</td>\n",
       "      <td>The chemistry of two-dimensional layered trans...</td>\n",
       "      <td>pub.1050119463</td>\n",
       "      <td>article</td>\n",
       "      <td>263-275</td>\n",
       "      <td>[[{'first_name': 'Manish', 'last_name': 'Chhow...</td>\n",
       "      <td>jour.1041224</td>\n",
       "      <td>Nature Chemistry</td>\n",
       "    </tr>\n",
       "    <tr>\n",
       "      <th>1</th>\n",
       "      <td>2013</td>\n",
       "      <td>7459</td>\n",
       "      <td>499</td>\n",
       "      <td>Van der Waals heterostructures</td>\n",
       "      <td>pub.1024857999</td>\n",
       "      <td>article</td>\n",
       "      <td>419-425</td>\n",
       "      <td>[[{'first_name': 'A. K.', 'last_name': 'Geim',...</td>\n",
       "      <td>jour.1018957</td>\n",
       "      <td>Nature</td>\n",
       "    </tr>\n",
       "    <tr>\n",
       "      <th>2</th>\n",
       "      <td>2013</td>\n",
       "      <td>NaN</td>\n",
       "      <td>NaN</td>\n",
       "      <td>Nanoenergy, Nanotechnology Applied for Energy ...</td>\n",
       "      <td>pub.1031762191</td>\n",
       "      <td>book</td>\n",
       "      <td>NaN</td>\n",
       "      <td>NaN</td>\n",
       "      <td>NaN</td>\n",
       "      <td>NaN</td>\n",
       "    </tr>\n",
       "    <tr>\n",
       "      <th>3</th>\n",
       "      <td>2016</td>\n",
       "      <td>10</td>\n",
       "      <td>40</td>\n",
       "      <td>Review of Particle Physics</td>\n",
       "      <td>pub.1059158429</td>\n",
       "      <td>article</td>\n",
       "      <td>100001</td>\n",
       "      <td>[[{'first_name': 'C.', 'last_name': 'Patrignan...</td>\n",
       "      <td>jour.1327822</td>\n",
       "      <td>Chinese Physics C</td>\n",
       "    </tr>\n",
       "    <tr>\n",
       "      <th>4</th>\n",
       "      <td>2013</td>\n",
       "      <td>4</td>\n",
       "      <td>135</td>\n",
       "      <td>The Li-ion rechargeable battery: a perspective.</td>\n",
       "      <td>pub.1019126274</td>\n",
       "      <td>article</td>\n",
       "      <td>1167-76</td>\n",
       "      <td>[[{'first_name': 'John B.', 'last_name': 'Good...</td>\n",
       "      <td>jour.1081898</td>\n",
       "      <td>Journal of the American Chemical Society</td>\n",
       "    </tr>\n",
       "    <tr>\n",
       "      <th>5</th>\n",
       "      <td>2013</td>\n",
       "      <td>4</td>\n",
       "      <td>8</td>\n",
       "      <td>Raman spectroscopy as a versatile tool for stu...</td>\n",
       "      <td>pub.1015305822</td>\n",
       "      <td>article</td>\n",
       "      <td>235-246</td>\n",
       "      <td>[[{'first_name': 'Andrea C.', 'last_name': 'Fe...</td>\n",
       "      <td>jour.1037429</td>\n",
       "      <td>Nature Nanotechnology</td>\n",
       "    </tr>\n",
       "    <tr>\n",
       "      <th>6</th>\n",
       "      <td>2014</td>\n",
       "      <td>4</td>\n",
       "      <td>8</td>\n",
       "      <td>Phosphorene: an unexplored 2D semiconductor wi...</td>\n",
       "      <td>pub.1009826879</td>\n",
       "      <td>article</td>\n",
       "      <td>4033-41</td>\n",
       "      <td>[[{'first_name': 'Han', 'last_name': 'Liu', 'c...</td>\n",
       "      <td>jour.1038917</td>\n",
       "      <td>ACS Nano</td>\n",
       "    </tr>\n",
       "    <tr>\n",
       "      <th>7</th>\n",
       "      <td>2013</td>\n",
       "      <td>4</td>\n",
       "      <td>7</td>\n",
       "      <td>Progress, challenges, and opportunities in two...</td>\n",
       "      <td>pub.1038090434</td>\n",
       "      <td>article</td>\n",
       "      <td>2898-926</td>\n",
       "      <td>[[{'first_name': 'Sheneve Z.', 'last_name': 'B...</td>\n",
       "      <td>jour.1038917</td>\n",
       "      <td>ACS Nano</td>\n",
       "    </tr>\n",
       "    <tr>\n",
       "      <th>8</th>\n",
       "      <td>2013</td>\n",
       "      <td>5</td>\n",
       "      <td>113</td>\n",
       "      <td>Graphene-like two-dimensional materials.</td>\n",
       "      <td>pub.1022830330</td>\n",
       "      <td>article</td>\n",
       "      <td>3766-98</td>\n",
       "      <td>[[{'first_name': 'Mingsheng', 'last_name': 'Xu...</td>\n",
       "      <td>jour.1077147</td>\n",
       "      <td>Chemical Reviews</td>\n",
       "    </tr>\n",
       "    <tr>\n",
       "      <th>9</th>\n",
       "      <td>2013</td>\n",
       "      <td>7</td>\n",
       "      <td>8</td>\n",
       "      <td>Ultrasensitive photodetectors based on monolay...</td>\n",
       "      <td>pub.1023181230</td>\n",
       "      <td>article</td>\n",
       "      <td>497-501</td>\n",
       "      <td>[[{'first_name': 'Oriol', 'last_name': 'Lopez-...</td>\n",
       "      <td>jour.1037429</td>\n",
       "      <td>Nature Nanotechnology</td>\n",
       "    </tr>\n",
       "  </tbody>\n",
       "</table>\n",
       "</div>"
      ],
      "text/plain": [
       "   year issue volume                                              title  \\\n",
       "0  2013     4      5  The chemistry of two-dimensional layered trans...   \n",
       "1  2013  7459    499                     Van der Waals heterostructures   \n",
       "2  2013   NaN    NaN  Nanoenergy, Nanotechnology Applied for Energy ...   \n",
       "3  2016    10     40                         Review of Particle Physics   \n",
       "4  2013     4    135    The Li-ion rechargeable battery: a perspective.   \n",
       "5  2013     4      8  Raman spectroscopy as a versatile tool for stu...   \n",
       "6  2014     4      8  Phosphorene: an unexplored 2D semiconductor wi...   \n",
       "7  2013     4      7  Progress, challenges, and opportunities in two...   \n",
       "8  2013     5    113           Graphene-like two-dimensional materials.   \n",
       "9  2013     7      8  Ultrasensitive photodetectors based on monolay...   \n",
       "\n",
       "               id     type     pages  \\\n",
       "0  pub.1050119463  article   263-275   \n",
       "1  pub.1024857999  article   419-425   \n",
       "2  pub.1031762191     book       NaN   \n",
       "3  pub.1059158429  article    100001   \n",
       "4  pub.1019126274  article   1167-76   \n",
       "5  pub.1015305822  article   235-246   \n",
       "6  pub.1009826879  article   4033-41   \n",
       "7  pub.1038090434  article  2898-926   \n",
       "8  pub.1022830330  article   3766-98   \n",
       "9  pub.1023181230  article   497-501   \n",
       "\n",
       "                                 author_affiliations    journal.id  \\\n",
       "0  [[{'first_name': 'Manish', 'last_name': 'Chhow...  jour.1041224   \n",
       "1  [[{'first_name': 'A. K.', 'last_name': 'Geim',...  jour.1018957   \n",
       "2                                                NaN           NaN   \n",
       "3  [[{'first_name': 'C.', 'last_name': 'Patrignan...  jour.1327822   \n",
       "4  [[{'first_name': 'John B.', 'last_name': 'Good...  jour.1081898   \n",
       "5  [[{'first_name': 'Andrea C.', 'last_name': 'Fe...  jour.1037429   \n",
       "6  [[{'first_name': 'Han', 'last_name': 'Liu', 'c...  jour.1038917   \n",
       "7  [[{'first_name': 'Sheneve Z.', 'last_name': 'B...  jour.1038917   \n",
       "8  [[{'first_name': 'Mingsheng', 'last_name': 'Xu...  jour.1077147   \n",
       "9  [[{'first_name': 'Oriol', 'last_name': 'Lopez-...  jour.1037429   \n",
       "\n",
       "                              journal.title  \n",
       "0                          Nature Chemistry  \n",
       "1                                    Nature  \n",
       "2                                       NaN  \n",
       "3                         Chinese Physics C  \n",
       "4  Journal of the American Chemical Society  \n",
       "5                     Nature Nanotechnology  \n",
       "6                                  ACS Nano  \n",
       "7                                  ACS Nano  \n",
       "8                          Chemical Reviews  \n",
       "9                     Nature Nanotechnology  "
      ]
     },
     "execution_count": 3,
     "metadata": {},
     "output_type": "execute_result"
    }
   ],
   "source": [
    "df = res.as_dataframe()\n",
    "df.head(10)"
   ]
  },
  {
   "cell_type": "markdown",
   "metadata": {
    "Collapsed": "false",
    "colab_type": "text",
    "id": "tCq1lF6HR4DI"
   },
   "source": [
    "Pandas dataframes offer a myriad of utilities for inspecting data. Check out the [official docs](https://pandas.pydata.org/pandas-docs/stable/getting_started/10min.html) or google a [pandas tutorial](https://www.google.com/search?q=pandas+tutorial) to lean more about it. "
   ]
  },
  {
   "cell_type": "code",
   "execution_count": 4,
   "metadata": {
    "Collapsed": "false",
    "colab": {
     "base_uri": "https://localhost:8080/",
     "height": 34
    },
    "colab_type": "code",
    "executionInfo": {
     "elapsed": 1124,
     "status": "ok",
     "timestamp": 1574681118435,
     "user": {
      "displayName": "Michele Pasin",
      "photoUrl": "https://lh3.googleusercontent.com/a-/AAuE7mBu8LVjIGgontF2Wax51BoL5KFx8esezX3bUmaa0g=s64",
      "userId": "10309320684375994511"
     },
     "user_tz": 0
    },
    "id": "k_3GoeDkR4DJ",
    "outputId": "04323988-d055-4928-80f9-b283b34c8328"
   },
   "outputs": [
    {
     "data": {
      "text/plain": [
       "(1000, 10)"
      ]
     },
     "execution_count": 4,
     "metadata": {},
     "output_type": "execute_result"
    }
   ],
   "source": [
    "# the table shape\n",
    "df.shape"
   ]
  },
  {
   "cell_type": "code",
   "execution_count": 5,
   "metadata": {
    "Collapsed": "false",
    "colab": {
     "base_uri": "https://localhost:8080/",
     "height": 136
    },
    "colab_type": "code",
    "executionInfo": {
     "elapsed": 929,
     "status": "ok",
     "timestamp": 1574681130276,
     "user": {
      "displayName": "Michele Pasin",
      "photoUrl": "https://lh3.googleusercontent.com/a-/AAuE7mBu8LVjIGgontF2Wax51BoL5KFx8esezX3bUmaa0g=s64",
      "userId": "10309320684375994511"
     },
     "user_tz": 0
    },
    "id": "CjvMBNCBR4DK",
    "outputId": "771e011c-1a06-43d4-a12c-851e9edacce0"
   },
   "outputs": [
    {
     "data": {
      "text/plain": [
       "2013    359\n",
       "2014    296\n",
       "2015    202\n",
       "2016     90\n",
       "2017     46\n",
       "2018      7\n",
       "Name: year, dtype: int64"
      ]
     },
     "execution_count": 5,
     "metadata": {},
     "output_type": "execute_result"
    }
   ],
   "source": [
    "# the 'value_counts' method returns the distribution of a specific field eg publication [years]\n",
    "df['year'].value_counts()"
   ]
  },
  {
   "cell_type": "code",
   "execution_count": 6,
   "metadata": {
    "Collapsed": "false",
    "colab": {
     "base_uri": "https://localhost:8080/",
     "height": 102
    },
    "colab_type": "code",
    "executionInfo": {
     "elapsed": 817,
     "status": "ok",
     "timestamp": 1574681132393,
     "user": {
      "displayName": "Michele Pasin",
      "photoUrl": "https://lh3.googleusercontent.com/a-/AAuE7mBu8LVjIGgontF2Wax51BoL5KFx8esezX3bUmaa0g=s64",
      "userId": "10309320684375994511"
     },
     "user_tz": 0
    },
    "id": "vndAnGmyR4DM",
    "outputId": "68301915-01d4-46fc-ddb2-5fa23f768e3f"
   },
   "outputs": [
    {
     "data": {
      "text/plain": [
       "article      995\n",
       "book           2\n",
       "monograph      2\n",
       "chapter        1\n",
       "Name: type, dtype: int64"
      ]
     },
     "execution_count": 6,
     "metadata": {},
     "output_type": "execute_result"
    }
   ],
   "source": [
    "# eg distribution of publication [type]\n",
    "df['type'].value_counts()"
   ]
  },
  {
   "cell_type": "markdown",
   "metadata": {
    "Collapsed": "false",
    "colab_type": "text",
    "id": "ye1VswB3R4DO"
   },
   "source": [
    "## 2. Helper Methods for 'Publications' queries\n",
    "\n",
    "What follows are specialized versions of the `as_dataframe` method for results sets composed of publication records. "
   ]
  },
  {
   "cell_type": "markdown",
   "metadata": {
    "Collapsed": "false",
    "colab_type": "text",
    "id": "j75inlUMR4DO"
   },
   "source": [
    "###  Extracting authors: `as_dataframe_authors`\n",
    "\n",
    "Publications authors are usually returned by the Dimensions API inside a nested JSON object in the `authors_affiliations` sub-key. \n",
    "\n",
    "> Note: the order of authors in the JSON is consistent with the ordering of authors in the original publication\n",
    "\n",
    "This methods allows to quickly extract that data and return a dataframe with **one row per author**."
   ]
  },
  {
   "cell_type": "code",
   "execution_count": 7,
   "metadata": {
    "Collapsed": "false",
    "colab": {
     "base_uri": "https://localhost:8080/",
     "height": 1000
    },
    "colab_type": "code",
    "executionInfo": {
     "elapsed": 940,
     "status": "ok",
     "timestamp": 1574681159951,
     "user": {
      "displayName": "Michele Pasin",
      "photoUrl": "https://lh3.googleusercontent.com/a-/AAuE7mBu8LVjIGgontF2Wax51BoL5KFx8esezX3bUmaa0g=s64",
      "userId": "10309320684375994511"
     },
     "user_tz": 0
    },
    "id": "0_KbE4ylR4DP",
    "outputId": "d5ad1426-b64b-4b64-d76f-6c1fb05348d7"
   },
   "outputs": [
    {
     "data": {
      "text/html": [
       "<div>\n",
       "<style scoped>\n",
       "    .dataframe tbody tr th:only-of-type {\n",
       "        vertical-align: middle;\n",
       "    }\n",
       "\n",
       "    .dataframe tbody tr th {\n",
       "        vertical-align: top;\n",
       "    }\n",
       "\n",
       "    .dataframe thead th {\n",
       "        text-align: right;\n",
       "    }\n",
       "</style>\n",
       "<table border=\"1\" class=\"dataframe\">\n",
       "  <thead>\n",
       "    <tr style=\"text-align: right;\">\n",
       "      <th></th>\n",
       "      <th>first_name</th>\n",
       "      <th>last_name</th>\n",
       "      <th>corresponding</th>\n",
       "      <th>orcid</th>\n",
       "      <th>current_organization_id</th>\n",
       "      <th>researcher_id</th>\n",
       "      <th>affiliations</th>\n",
       "      <th>pub_id</th>\n",
       "    </tr>\n",
       "  </thead>\n",
       "  <tbody>\n",
       "    <tr>\n",
       "      <th>0</th>\n",
       "      <td>Manish</td>\n",
       "      <td>Chhowalla</td>\n",
       "      <td>True</td>\n",
       "      <td></td>\n",
       "      <td>grid.430387.b</td>\n",
       "      <td>ur.0633062306.03</td>\n",
       "      <td>[{'id': 'grid.430387.b', 'name': 'Rutgers, The...</td>\n",
       "      <td>pub.1050119463</td>\n",
       "    </tr>\n",
       "    <tr>\n",
       "      <th>1</th>\n",
       "      <td>Hyeon Suk</td>\n",
       "      <td>Shin</td>\n",
       "      <td></td>\n",
       "      <td></td>\n",
       "      <td>grid.42687.3f</td>\n",
       "      <td>ur.07617630407.83</td>\n",
       "      <td>[{'id': 'grid.42687.3f', 'name': 'Ulsan Nation...</td>\n",
       "      <td>pub.1050119463</td>\n",
       "    </tr>\n",
       "    <tr>\n",
       "      <th>2</th>\n",
       "      <td>Goki</td>\n",
       "      <td>Eda</td>\n",
       "      <td></td>\n",
       "      <td></td>\n",
       "      <td>grid.4280.e</td>\n",
       "      <td>ur.01150450507.27</td>\n",
       "      <td>[{'id': 'grid.4280.e', 'name': 'National Unive...</td>\n",
       "      <td>pub.1050119463</td>\n",
       "    </tr>\n",
       "    <tr>\n",
       "      <th>3</th>\n",
       "      <td>Lain-Jong</td>\n",
       "      <td>Li</td>\n",
       "      <td></td>\n",
       "      <td>['0000-0002-4059-7783']</td>\n",
       "      <td>grid.45672.32</td>\n",
       "      <td>ur.01313340113.13</td>\n",
       "      <td>[{'id': 'grid.28665.3f', 'name': 'Academia Sin...</td>\n",
       "      <td>pub.1050119463</td>\n",
       "    </tr>\n",
       "    <tr>\n",
       "      <th>4</th>\n",
       "      <td>Kian Ping</td>\n",
       "      <td>Loh</td>\n",
       "      <td></td>\n",
       "      <td>['0000-0002-1491-743X']</td>\n",
       "      <td>grid.4280.e</td>\n",
       "      <td>ur.0752174033.73</td>\n",
       "      <td>[{'id': 'grid.4280.e', 'name': 'National Unive...</td>\n",
       "      <td>pub.1050119463</td>\n",
       "    </tr>\n",
       "  </tbody>\n",
       "</table>\n",
       "</div>"
      ],
      "text/plain": [
       "  first_name  last_name corresponding                    orcid  \\\n",
       "0     Manish  Chhowalla          True                            \n",
       "1  Hyeon Suk       Shin                                          \n",
       "2       Goki        Eda                                          \n",
       "3  Lain-Jong         Li                ['0000-0002-4059-7783']   \n",
       "4  Kian Ping        Loh                ['0000-0002-1491-743X']   \n",
       "\n",
       "  current_organization_id      researcher_id  \\\n",
       "0           grid.430387.b   ur.0633062306.03   \n",
       "1           grid.42687.3f  ur.07617630407.83   \n",
       "2             grid.4280.e  ur.01150450507.27   \n",
       "3           grid.45672.32  ur.01313340113.13   \n",
       "4             grid.4280.e   ur.0752174033.73   \n",
       "\n",
       "                                        affiliations          pub_id  \n",
       "0  [{'id': 'grid.430387.b', 'name': 'Rutgers, The...  pub.1050119463  \n",
       "1  [{'id': 'grid.42687.3f', 'name': 'Ulsan Nation...  pub.1050119463  \n",
       "2  [{'id': 'grid.4280.e', 'name': 'National Unive...  pub.1050119463  \n",
       "3  [{'id': 'grid.28665.3f', 'name': 'Academia Sin...  pub.1050119463  \n",
       "4  [{'id': 'grid.4280.e', 'name': 'National Unive...  pub.1050119463  "
      ]
     },
     "execution_count": 7,
     "metadata": {},
     "output_type": "execute_result"
    }
   ],
   "source": [
    "authors = res.as_dataframe_authors()\n",
    "authors.head()"
   ]
  },
  {
   "cell_type": "markdown",
   "metadata": {
    "Collapsed": "false",
    "colab_type": "text",
    "id": "N1VtHVQbR4DQ"
   },
   "source": [
    "Using the authors dataframe, we can easily get the top ten values for `current_organization_id`. "
   ]
  },
  {
   "cell_type": "code",
   "execution_count": 8,
   "metadata": {
    "Collapsed": "false",
    "colab": {
     "base_uri": "https://localhost:8080/",
     "height": 204
    },
    "colab_type": "code",
    "executionInfo": {
     "elapsed": 1031,
     "status": "ok",
     "timestamp": 1574681165815,
     "user": {
      "displayName": "Michele Pasin",
      "photoUrl": "https://lh3.googleusercontent.com/a-/AAuE7mBu8LVjIGgontF2Wax51BoL5KFx8esezX3bUmaa0g=s64",
      "userId": "10309320684375994511"
     },
     "user_tz": 0
    },
    "id": "ut6y8Di0R4DR",
    "outputId": "3a56a8d3-f5e2-463e-b367-e53f1f9d70b1"
   },
   "outputs": [
    {
     "data": {
      "text/plain": [
       "                 188\n",
       "grid.59025.3b    145\n",
       "grid.12527.33    114\n",
       "grid.5379.8      105\n",
       "grid.19006.3e     78\n",
       "grid.59053.3a     77\n",
       "grid.168010.e     76\n",
       "grid.13402.34     72\n",
       "grid.21940.3e     69\n",
       "grid.4280.e       66\n",
       "Name: current_organization_id, dtype: int64"
      ]
     },
     "execution_count": 8,
     "metadata": {},
     "output_type": "execute_result"
    }
   ],
   "source": [
    "authors['current_organization_id'].value_counts()[:10]"
   ]
  },
  {
   "cell_type": "markdown",
   "metadata": {
    "Collapsed": "false",
    "colab_type": "text",
    "id": "6NpFRYBGR4DS"
   },
   "source": [
    "> Explanation: the most frequent value turns to be grid.59025.3b ie [Nanyang Technological University in Singapore](https://www.grid.ac/institutes/grid.59025.3b). The first result is empty, meaning that for those authors Dimensions has no info about `current_organization_id`. "
   ]
  },
  {
   "cell_type": "markdown",
   "metadata": {
    "Collapsed": "false",
    "colab_type": "text",
    "id": "p2eN2Y8GR4DT"
   },
   "source": [
    "### Extracting Affiliations: `as_dataframe_authors_affiliations`\n",
    "\n",
    "As you can see from the results of the previous section, the `affiliations` of each author is yet another nested JSON object. \n",
    "\n",
    "> Note: the order of affiliations in the JSON is consistent with the affiliations order in the original publication\n",
    "\n",
    "The `as_dataframe_authors_affiliations` method allows to quickly extract that affiliations data and return a dataframe with **one row per affiliation**.\n",
    "\n",
    "This can be useful e.g. if one wants to count research organizations at *the time of writing* (as opposed to `current_organization_id`, which is the *most recent organization* of a researcher). "
   ]
  },
  {
   "cell_type": "code",
   "execution_count": 9,
   "metadata": {
    "Collapsed": "false",
    "colab": {
     "base_uri": "https://localhost:8080/",
     "height": 464
    },
    "colab_type": "code",
    "executionInfo": {
     "elapsed": 1544,
     "status": "ok",
     "timestamp": 1574681203066,
     "user": {
      "displayName": "Michele Pasin",
      "photoUrl": "https://lh3.googleusercontent.com/a-/AAuE7mBu8LVjIGgontF2Wax51BoL5KFx8esezX3bUmaa0g=s64",
      "userId": "10309320684375994511"
     },
     "user_tz": 0
    },
    "id": "fszvKPHdR4DT",
    "outputId": "704b1027-ff46-4417-e3d5-4c5f5e2c20f7"
   },
   "outputs": [
    {
     "data": {
      "text/html": [
       "<div>\n",
       "<style scoped>\n",
       "    .dataframe tbody tr th:only-of-type {\n",
       "        vertical-align: middle;\n",
       "    }\n",
       "\n",
       "    .dataframe tbody tr th {\n",
       "        vertical-align: top;\n",
       "    }\n",
       "\n",
       "    .dataframe thead th {\n",
       "        text-align: right;\n",
       "    }\n",
       "</style>\n",
       "<table border=\"1\" class=\"dataframe\">\n",
       "  <thead>\n",
       "    <tr style=\"text-align: right;\">\n",
       "      <th></th>\n",
       "      <th>aff_id</th>\n",
       "      <th>aff_name</th>\n",
       "      <th>aff_city</th>\n",
       "      <th>aff_city_id</th>\n",
       "      <th>aff_country</th>\n",
       "      <th>aff_country_code</th>\n",
       "      <th>aff_state</th>\n",
       "      <th>aff_state_code</th>\n",
       "      <th>pub_id</th>\n",
       "      <th>researcher_id</th>\n",
       "      <th>first_name</th>\n",
       "      <th>last_name</th>\n",
       "    </tr>\n",
       "  </thead>\n",
       "  <tbody>\n",
       "    <tr>\n",
       "      <th>0</th>\n",
       "      <td>grid.430387.b</td>\n",
       "      <td>Rutgers, The State University of New Jersey</td>\n",
       "      <td>New Brunswick</td>\n",
       "      <td>5.10172e+06</td>\n",
       "      <td>United States</td>\n",
       "      <td>US</td>\n",
       "      <td>New Jersey</td>\n",
       "      <td>US-NJ</td>\n",
       "      <td>pub.1050119463</td>\n",
       "      <td>ur.0633062306.03</td>\n",
       "      <td>Manish</td>\n",
       "      <td>Chhowalla</td>\n",
       "    </tr>\n",
       "    <tr>\n",
       "      <th>1</th>\n",
       "      <td>grid.42687.3f</td>\n",
       "      <td>Ulsan National Institute of Science and Techno...</td>\n",
       "      <td>Ulsan</td>\n",
       "      <td>1.83375e+06</td>\n",
       "      <td>South Korea</td>\n",
       "      <td>KR</td>\n",
       "      <td></td>\n",
       "      <td></td>\n",
       "      <td>pub.1050119463</td>\n",
       "      <td>ur.07617630407.83</td>\n",
       "      <td>Hyeon Suk</td>\n",
       "      <td>Shin</td>\n",
       "    </tr>\n",
       "    <tr>\n",
       "      <th>2</th>\n",
       "      <td>grid.4280.e</td>\n",
       "      <td>National University of Singapore</td>\n",
       "      <td>Singapore</td>\n",
       "      <td>1.88025e+06</td>\n",
       "      <td>Singapore</td>\n",
       "      <td>SG</td>\n",
       "      <td></td>\n",
       "      <td></td>\n",
       "      <td>pub.1050119463</td>\n",
       "      <td>ur.01150450507.27</td>\n",
       "      <td>Goki</td>\n",
       "      <td>Eda</td>\n",
       "    </tr>\n",
       "    <tr>\n",
       "      <th>3</th>\n",
       "      <td>grid.28665.3f</td>\n",
       "      <td>Academia Sinica</td>\n",
       "      <td>Taipei</td>\n",
       "      <td>1.66834e+06</td>\n",
       "      <td>Taiwan</td>\n",
       "      <td>TW</td>\n",
       "      <td></td>\n",
       "      <td></td>\n",
       "      <td>pub.1050119463</td>\n",
       "      <td>ur.01313340113.13</td>\n",
       "      <td>Lain-Jong</td>\n",
       "      <td>Li</td>\n",
       "    </tr>\n",
       "    <tr>\n",
       "      <th>4</th>\n",
       "      <td>grid.4280.e</td>\n",
       "      <td>National University of Singapore</td>\n",
       "      <td>Singapore</td>\n",
       "      <td>1.88025e+06</td>\n",
       "      <td>Singapore</td>\n",
       "      <td>SG</td>\n",
       "      <td></td>\n",
       "      <td></td>\n",
       "      <td>pub.1050119463</td>\n",
       "      <td>ur.0752174033.73</td>\n",
       "      <td>Kian Ping</td>\n",
       "      <td>Loh</td>\n",
       "    </tr>\n",
       "  </tbody>\n",
       "</table>\n",
       "</div>"
      ],
      "text/plain": [
       "          aff_id                                           aff_name  \\\n",
       "0  grid.430387.b        Rutgers, The State University of New Jersey   \n",
       "1  grid.42687.3f  Ulsan National Institute of Science and Techno...   \n",
       "2    grid.4280.e                   National University of Singapore   \n",
       "3  grid.28665.3f                                    Academia Sinica   \n",
       "4    grid.4280.e                   National University of Singapore   \n",
       "\n",
       "        aff_city  aff_city_id    aff_country aff_country_code   aff_state  \\\n",
       "0  New Brunswick  5.10172e+06  United States               US  New Jersey   \n",
       "1          Ulsan  1.83375e+06    South Korea               KR               \n",
       "2      Singapore  1.88025e+06      Singapore               SG               \n",
       "3         Taipei  1.66834e+06         Taiwan               TW               \n",
       "4      Singapore  1.88025e+06      Singapore               SG               \n",
       "\n",
       "  aff_state_code          pub_id      researcher_id first_name  last_name  \n",
       "0          US-NJ  pub.1050119463   ur.0633062306.03     Manish  Chhowalla  \n",
       "1                 pub.1050119463  ur.07617630407.83  Hyeon Suk       Shin  \n",
       "2                 pub.1050119463  ur.01150450507.27       Goki        Eda  \n",
       "3                 pub.1050119463  ur.01313340113.13  Lain-Jong         Li  \n",
       "4                 pub.1050119463   ur.0752174033.73  Kian Ping        Loh  "
      ]
     },
     "execution_count": 9,
     "metadata": {},
     "output_type": "execute_result"
    }
   ],
   "source": [
    "affiliations = res.as_dataframe_authors_affiliations()\n",
    "affiliations.head()"
   ]
  },
  {
   "cell_type": "code",
   "execution_count": 10,
   "metadata": {
    "Collapsed": "false",
    "colab": {
     "base_uri": "https://localhost:8080/",
     "height": 219
    },
    "colab_type": "code",
    "executionInfo": {
     "elapsed": 797,
     "status": "ok",
     "timestamp": 1574681207520,
     "user": {
      "displayName": "Michele Pasin",
      "photoUrl": "https://lh3.googleusercontent.com/a-/AAuE7mBu8LVjIGgontF2Wax51BoL5KFx8esezX3bUmaa0g=s64",
      "userId": "10309320684375994511"
     },
     "user_tz": 0
    },
    "id": "Ci5OzQyJR4DV",
    "outputId": "35131ce4-d325-4d49-87a3-087198f0fb72"
   },
   "outputs": [
    {
     "data": {
      "text/html": [
       "<div>\n",
       "<style scoped>\n",
       "    .dataframe tbody tr th:only-of-type {\n",
       "        vertical-align: middle;\n",
       "    }\n",
       "\n",
       "    .dataframe tbody tr th {\n",
       "        vertical-align: top;\n",
       "    }\n",
       "\n",
       "    .dataframe thead th {\n",
       "        text-align: right;\n",
       "    }\n",
       "</style>\n",
       "<table border=\"1\" class=\"dataframe\">\n",
       "  <thead>\n",
       "    <tr style=\"text-align: right;\">\n",
       "      <th></th>\n",
       "      <th>aff_id</th>\n",
       "      <th>aff_name</th>\n",
       "      <th>aff_city</th>\n",
       "      <th>aff_city_id</th>\n",
       "      <th>aff_country</th>\n",
       "      <th>aff_country_code</th>\n",
       "      <th>aff_state</th>\n",
       "      <th>aff_state_code</th>\n",
       "      <th>pub_id</th>\n",
       "      <th>researcher_id</th>\n",
       "      <th>first_name</th>\n",
       "      <th>last_name</th>\n",
       "    </tr>\n",
       "  </thead>\n",
       "  <tbody>\n",
       "    <tr>\n",
       "      <th>count</th>\n",
       "      <td>7008</td>\n",
       "      <td>7008</td>\n",
       "      <td>7008</td>\n",
       "      <td>7008</td>\n",
       "      <td>7008</td>\n",
       "      <td>7008</td>\n",
       "      <td>7008</td>\n",
       "      <td>7008</td>\n",
       "      <td>7008</td>\n",
       "      <td>7008</td>\n",
       "      <td>7008</td>\n",
       "      <td>7008</td>\n",
       "    </tr>\n",
       "    <tr>\n",
       "      <th>unique</th>\n",
       "      <td>750</td>\n",
       "      <td>1065</td>\n",
       "      <td>460</td>\n",
       "      <td>463</td>\n",
       "      <td>53</td>\n",
       "      <td>53</td>\n",
       "      <td>56</td>\n",
       "      <td>56</td>\n",
       "      <td>984</td>\n",
       "      <td>4149</td>\n",
       "      <td>3416</td>\n",
       "      <td>1891</td>\n",
       "    </tr>\n",
       "    <tr>\n",
       "      <th>top</th>\n",
       "      <td></td>\n",
       "      <td>Nanyang Technological University</td>\n",
       "      <td></td>\n",
       "      <td></td>\n",
       "      <td>China</td>\n",
       "      <td>CN</td>\n",
       "      <td></td>\n",
       "      <td></td>\n",
       "      <td>pub.1019661721</td>\n",
       "      <td></td>\n",
       "      <td>Wei</td>\n",
       "      <td>Zhang</td>\n",
       "    </tr>\n",
       "    <tr>\n",
       "      <th>freq</th>\n",
       "      <td>947</td>\n",
       "      <td>221</td>\n",
       "      <td>947</td>\n",
       "      <td>952</td>\n",
       "      <td>1951</td>\n",
       "      <td>1951</td>\n",
       "      <td>5136</td>\n",
       "      <td>5136</td>\n",
       "      <td>105</td>\n",
       "      <td>158</td>\n",
       "      <td>62</td>\n",
       "      <td>295</td>\n",
       "    </tr>\n",
       "  </tbody>\n",
       "</table>\n",
       "</div>"
      ],
      "text/plain": [
       "       aff_id                          aff_name aff_city aff_city_id  \\\n",
       "count    7008                              7008     7008        7008   \n",
       "unique    750                              1065      460         463   \n",
       "top            Nanyang Technological University                        \n",
       "freq      947                               221      947         952   \n",
       "\n",
       "       aff_country aff_country_code aff_state aff_state_code          pub_id  \\\n",
       "count         7008             7008      7008           7008            7008   \n",
       "unique          53               53        56             56             984   \n",
       "top          China               CN                           pub.1019661721   \n",
       "freq          1951             1951      5136           5136             105   \n",
       "\n",
       "       researcher_id first_name last_name  \n",
       "count           7008       7008      7008  \n",
       "unique          4149       3416      1891  \n",
       "top                         Wei     Zhang  \n",
       "freq             158         62       295  "
      ]
     },
     "execution_count": 10,
     "metadata": {},
     "output_type": "execute_result"
    }
   ],
   "source": [
    "affiliations.describe(include=\"all\")"
   ]
  },
  {
   "cell_type": "markdown",
   "metadata": {
    "Collapsed": "false",
    "colab_type": "text",
    "id": "at7DTaU5R4DW"
   },
   "source": [
    "Let's get the top ten values for `aff_id`. "
   ]
  },
  {
   "cell_type": "code",
   "execution_count": 11,
   "metadata": {
    "Collapsed": "false",
    "colab": {
     "base_uri": "https://localhost:8080/",
     "height": 204
    },
    "colab_type": "code",
    "executionInfo": {
     "elapsed": 877,
     "status": "ok",
     "timestamp": 1574681214999,
     "user": {
      "displayName": "Michele Pasin",
      "photoUrl": "https://lh3.googleusercontent.com/a-/AAuE7mBu8LVjIGgontF2Wax51BoL5KFx8esezX3bUmaa0g=s64",
      "userId": "10309320684375994511"
     },
     "user_tz": 0
    },
    "id": "o2zUnRg0R4DX",
    "outputId": "d777c549-679c-4623-8cb0-866ec0b4bc4b"
   },
   "outputs": [
    {
     "data": {
      "text/plain": [
       "                 947\n",
       "grid.59025.3b    221\n",
       "grid.12527.33    133\n",
       "grid.5379.8      115\n",
       "grid.168010.e    100\n",
       "grid.19006.3e    100\n",
       "grid.21940.3e     96\n",
       "grid.21729.3f     87\n",
       "grid.59053.3a     82\n",
       "grid.116068.8     81\n",
       "Name: aff_id, dtype: int64"
      ]
     },
     "execution_count": 11,
     "metadata": {},
     "output_type": "execute_result"
    }
   ],
   "source": [
    "affiliations['aff_id'].value_counts()[:10]"
   ]
  },
  {
   "cell_type": "markdown",
   "metadata": {
    "Collapsed": "false",
    "colab_type": "text",
    "id": "aPQNuTpuR4DY"
   },
   "source": [
    "> Explanation: the most frequent value is still [grid.59025.3b](https://www.grid.ac/institutes/grid.59025.3b), meaning that most authors' current organization is the same organization of when they published these articles. "
   ]
  },
  {
   "cell_type": "markdown",
   "metadata": {
    "Collapsed": "false",
    "colab_type": "text",
    "id": "Zmv0M_PkR4DZ"
   },
   "source": [
    "Another example: we can now easily analyze the data by country too. "
   ]
  },
  {
   "cell_type": "code",
   "execution_count": 12,
   "metadata": {
    "Collapsed": "false",
    "colab": {
     "base_uri": "https://localhost:8080/",
     "height": 204
    },
    "colab_type": "code",
    "executionInfo": {
     "elapsed": 1021,
     "status": "ok",
     "timestamp": 1574681222068,
     "user": {
      "displayName": "Michele Pasin",
      "photoUrl": "https://lh3.googleusercontent.com/a-/AAuE7mBu8LVjIGgontF2Wax51BoL5KFx8esezX3bUmaa0g=s64",
      "userId": "10309320684375994511"
     },
     "user_tz": 0
    },
    "id": "OnmvjI-8R4DZ",
    "outputId": "d596422c-961f-471f-9cb4-289fc066cb71"
   },
   "outputs": [
    {
     "data": {
      "text/plain": [
       "China             1951\n",
       "United States     1563\n",
       "                   947\n",
       "South Korea        346\n",
       "Singapore          330\n",
       "United Kingdom     312\n",
       "Australia          171\n",
       "Japan              154\n",
       "Canada             138\n",
       "Germany            130\n",
       "Name: aff_country, dtype: int64"
      ]
     },
     "execution_count": 12,
     "metadata": {},
     "output_type": "execute_result"
    }
   ],
   "source": [
    "affiliations['aff_country'].value_counts()[:10]"
   ]
  },
  {
   "cell_type": "markdown",
   "metadata": {
    "Collapsed": "false",
    "colab_type": "text",
    "id": "a83GEMfQR4Db"
   },
   "source": [
    "> Explanation: the vast majority of authors in this dataset are from China, closely followed by the USA. "
   ]
  },
  {
   "cell_type": "markdown",
   "metadata": {
    "Collapsed": "false",
    "colab_type": "text",
    "id": "69JItbFgR4Db"
   },
   "source": [
    "## 2. Helper Methods for 'Grants' queries"
   ]
  },
  {
   "cell_type": "markdown",
   "metadata": {
    "Collapsed": "false",
    "colab_type": "text",
    "id": "P0FLXthRR4Dc"
   },
   "source": [
    "###  Extracting Funders: `as_dataframe_funders`\n",
    "\n",
    "Grant funders authors are usually returned by the Dimensions API inside a nested JSON object in the `funders` sub-key. \n",
    "\n",
    "This methods allows to quickly extract that data and return a dataframe with **one row per funder**."
   ]
  },
  {
   "cell_type": "code",
   "execution_count": 13,
   "metadata": {
    "Collapsed": "false",
    "colab": {
     "base_uri": "https://localhost:8080/",
     "height": 34
    },
    "colab_type": "code",
    "executionInfo": {
     "elapsed": 3344,
     "status": "ok",
     "timestamp": 1574681269386,
     "user": {
      "displayName": "Michele Pasin",
      "photoUrl": "https://lh3.googleusercontent.com/a-/AAuE7mBu8LVjIGgontF2Wax51BoL5KFx8esezX3bUmaa0g=s64",
      "userId": "10309320684375994511"
     },
     "user_tz": 0
    },
    "id": "kjxgoy_VR4Dc",
    "outputId": "59ee9e43-ed66-4e6f-ee5e-7e81e5f9d515"
   },
   "outputs": [
    {
     "name": "stdout",
     "output_type": "stream",
     "text": [
      "Returned Grants: 1000 (total = 9204)\n"
     ]
    }
   ],
   "source": [
    "# get a sample list of grants\n",
    "query = \"\"\"search grants for \"malaria\" return grants limit 1000\"\"\"\n",
    "res = dsl.query(query)"
   ]
  },
  {
   "cell_type": "code",
   "execution_count": 14,
   "metadata": {
    "Collapsed": "false",
    "colab": {
     "base_uri": "https://localhost:8080/",
     "height": 1000
    },
    "colab_type": "code",
    "executionInfo": {
     "elapsed": 736,
     "status": "ok",
     "timestamp": 1574681271845,
     "user": {
      "displayName": "Michele Pasin",
      "photoUrl": "https://lh3.googleusercontent.com/a-/AAuE7mBu8LVjIGgontF2Wax51BoL5KFx8esezX3bUmaa0g=s64",
      "userId": "10309320684375994511"
     },
     "user_tz": 0
    },
    "id": "56iPhGTUR4Dd",
    "outputId": "c94bba81-caf4-4f7b-e85b-e8969e4c8b6a"
   },
   "outputs": [
    {
     "data": {
      "text/html": [
       "<div>\n",
       "<style scoped>\n",
       "    .dataframe tbody tr th:only-of-type {\n",
       "        vertical-align: middle;\n",
       "    }\n",
       "\n",
       "    .dataframe tbody tr th {\n",
       "        vertical-align: top;\n",
       "    }\n",
       "\n",
       "    .dataframe thead th {\n",
       "        text-align: right;\n",
       "    }\n",
       "</style>\n",
       "<table border=\"1\" class=\"dataframe\">\n",
       "  <thead>\n",
       "    <tr style=\"text-align: right;\">\n",
       "      <th></th>\n",
       "      <th>id</th>\n",
       "      <th>city_name</th>\n",
       "      <th>types</th>\n",
       "      <th>acronym</th>\n",
       "      <th>state_name</th>\n",
       "      <th>latitude</th>\n",
       "      <th>name</th>\n",
       "      <th>country_name</th>\n",
       "      <th>linkout</th>\n",
       "      <th>longitude</th>\n",
       "      <th>grant_id</th>\n",
       "      <th>grant_title</th>\n",
       "      <th>grant_start_date</th>\n",
       "      <th>grant_end_date</th>\n",
       "    </tr>\n",
       "  </thead>\n",
       "  <tbody>\n",
       "    <tr>\n",
       "      <th>0</th>\n",
       "      <td>grid.421091.f</td>\n",
       "      <td>Swindon</td>\n",
       "      <td>[Government]</td>\n",
       "      <td>EPSRC</td>\n",
       "      <td>England</td>\n",
       "      <td>51.567093</td>\n",
       "      <td>Engineering and Physical Sciences Research Cou...</td>\n",
       "      <td>United Kingdom</td>\n",
       "      <td>[https://www.epsrc.ac.uk/]</td>\n",
       "      <td>-1.784602</td>\n",
       "      <td>grant.8558055</td>\n",
       "      <td>UK-Africa Postgraduate Advanced Study Institut...</td>\n",
       "      <td>2020-03-31</td>\n",
       "      <td>2021-03-30</td>\n",
       "    </tr>\n",
       "    <tr>\n",
       "      <th>1</th>\n",
       "      <td>grid.270680.b</td>\n",
       "      <td>Brussels</td>\n",
       "      <td>[Government]</td>\n",
       "      <td>EC</td>\n",
       "      <td>NaN</td>\n",
       "      <td>50.851650</td>\n",
       "      <td>European Commission</td>\n",
       "      <td>Belgium</td>\n",
       "      <td>[http://ec.europa.eu/index_en.htm]</td>\n",
       "      <td>4.363670</td>\n",
       "      <td>grant.8585457</td>\n",
       "      <td>Estimating the Prevalence of AntiMicrobial Res...</td>\n",
       "      <td>2020-01-01</td>\n",
       "      <td>2021-12-31</td>\n",
       "    </tr>\n",
       "    <tr>\n",
       "      <th>2</th>\n",
       "      <td>grid.270680.b</td>\n",
       "      <td>Brussels</td>\n",
       "      <td>[Government]</td>\n",
       "      <td>EC</td>\n",
       "      <td>NaN</td>\n",
       "      <td>50.851650</td>\n",
       "      <td>European Commission</td>\n",
       "      <td>Belgium</td>\n",
       "      <td>[http://ec.europa.eu/index_en.htm]</td>\n",
       "      <td>4.363670</td>\n",
       "      <td>grant.8586121</td>\n",
       "      <td>Earth observation service for preventive contr...</td>\n",
       "      <td>2019-11-01</td>\n",
       "      <td>2022-10-31</td>\n",
       "    </tr>\n",
       "    <tr>\n",
       "      <th>3</th>\n",
       "      <td>grid.454774.1</td>\n",
       "      <td>New Delhi</td>\n",
       "      <td>[Government]</td>\n",
       "      <td>DBT</td>\n",
       "      <td>NaN</td>\n",
       "      <td>28.601473</td>\n",
       "      <td>Department of Biotechnology</td>\n",
       "      <td>India</td>\n",
       "      <td>[http://www.dbtindia.nic.in/]</td>\n",
       "      <td>77.235780</td>\n",
       "      <td>grant.8657420</td>\n",
       "      <td>Translational research and clinical developmen...</td>\n",
       "      <td>2019-10-07</td>\n",
       "      <td>2022-10-07</td>\n",
       "    </tr>\n",
       "    <tr>\n",
       "      <th>4</th>\n",
       "      <td>grid.248883.d</td>\n",
       "      <td>Ottawa</td>\n",
       "      <td>[Government]</td>\n",
       "      <td>CIHR</td>\n",
       "      <td>Ontario</td>\n",
       "      <td>45.381893</td>\n",
       "      <td>Canadian Institutes of Health Research</td>\n",
       "      <td>Canada</td>\n",
       "      <td>[http://www.cihr-irsc.gc.ca/e/193.html]</td>\n",
       "      <td>-75.745224</td>\n",
       "      <td>grant.8527034</td>\n",
       "      <td>Mechanisms of Leishmania dissemination and tra...</td>\n",
       "      <td>2019-10-01</td>\n",
       "      <td>2024-09-30</td>\n",
       "    </tr>\n",
       "    <tr>\n",
       "      <th>5</th>\n",
       "      <td>grid.52788.30</td>\n",
       "      <td>London</td>\n",
       "      <td>[Nonprofit]</td>\n",
       "      <td>WT</td>\n",
       "      <td>NaN</td>\n",
       "      <td>51.525867</td>\n",
       "      <td>Wellcome Trust</td>\n",
       "      <td>United Kingdom</td>\n",
       "      <td>[http://www.wellcome.ac.uk/]</td>\n",
       "      <td>-0.135005</td>\n",
       "      <td>grant.8558648</td>\n",
       "      <td>Molecular mechanisms of carbohydrate uptake in...</td>\n",
       "      <td>2019-10-01</td>\n",
       "      <td>2022-09-30</td>\n",
       "    </tr>\n",
       "    <tr>\n",
       "      <th>6</th>\n",
       "      <td>grid.52788.30</td>\n",
       "      <td>London</td>\n",
       "      <td>[Nonprofit]</td>\n",
       "      <td>WT</td>\n",
       "      <td>NaN</td>\n",
       "      <td>51.525867</td>\n",
       "      <td>Wellcome Trust</td>\n",
       "      <td>United Kingdom</td>\n",
       "      <td>[http://www.wellcome.ac.uk/]</td>\n",
       "      <td>-0.135005</td>\n",
       "      <td>grant.8103743</td>\n",
       "      <td>The Chemical Empire: A New History of Syntheti...</td>\n",
       "      <td>2019-10-01</td>\n",
       "      <td>2023-10-01</td>\n",
       "    </tr>\n",
       "    <tr>\n",
       "      <th>7</th>\n",
       "      <td>grid.425888.b</td>\n",
       "      <td>Bern</td>\n",
       "      <td>[Government]</td>\n",
       "      <td>SNF</td>\n",
       "      <td>NaN</td>\n",
       "      <td>46.949230</td>\n",
       "      <td>Swiss National Science Foundation</td>\n",
       "      <td>Switzerland</td>\n",
       "      <td>[http://www.snf.ch/en]</td>\n",
       "      <td>7.432395</td>\n",
       "      <td>grant.8599112</td>\n",
       "      <td>Gauging Global Governance: The Effectiveness o...</td>\n",
       "      <td>2019-10-01</td>\n",
       "      <td>2022-09-30</td>\n",
       "    </tr>\n",
       "    <tr>\n",
       "      <th>8</th>\n",
       "      <td>grid.270680.b</td>\n",
       "      <td>Brussels</td>\n",
       "      <td>[Government]</td>\n",
       "      <td>EC</td>\n",
       "      <td>NaN</td>\n",
       "      <td>50.851650</td>\n",
       "      <td>European Commission</td>\n",
       "      <td>Belgium</td>\n",
       "      <td>[http://ec.europa.eu/index_en.htm]</td>\n",
       "      <td>4.363670</td>\n",
       "      <td>grant.8585082</td>\n",
       "      <td>Understanding the roles of pathogen infection ...</td>\n",
       "      <td>2019-10-01</td>\n",
       "      <td>2021-09-30</td>\n",
       "    </tr>\n",
       "    <tr>\n",
       "      <th>9</th>\n",
       "      <td>grid.457875.c</td>\n",
       "      <td>Arlington</td>\n",
       "      <td>[Government]</td>\n",
       "      <td>NSF MPS</td>\n",
       "      <td>Virginia</td>\n",
       "      <td>38.880566</td>\n",
       "      <td>Directorate for Mathematical &amp; Physical Sciences</td>\n",
       "      <td>United States</td>\n",
       "      <td>[http://www.nsf.gov/dir/index.jsp?org=MPS]</td>\n",
       "      <td>-77.110990</td>\n",
       "      <td>grant.8566624</td>\n",
       "      <td>Collaborative Research: Principal Component An...</td>\n",
       "      <td>2019-10-01</td>\n",
       "      <td>2022-09-30</td>\n",
       "    </tr>\n",
       "  </tbody>\n",
       "</table>\n",
       "</div>"
      ],
      "text/plain": [
       "              id  city_name         types  acronym state_name   latitude  \\\n",
       "0  grid.421091.f    Swindon  [Government]    EPSRC    England  51.567093   \n",
       "1  grid.270680.b   Brussels  [Government]       EC        NaN  50.851650   \n",
       "2  grid.270680.b   Brussels  [Government]       EC        NaN  50.851650   \n",
       "3  grid.454774.1  New Delhi  [Government]      DBT        NaN  28.601473   \n",
       "4  grid.248883.d     Ottawa  [Government]     CIHR    Ontario  45.381893   \n",
       "5  grid.52788.30     London   [Nonprofit]       WT        NaN  51.525867   \n",
       "6  grid.52788.30     London   [Nonprofit]       WT        NaN  51.525867   \n",
       "7  grid.425888.b       Bern  [Government]      SNF        NaN  46.949230   \n",
       "8  grid.270680.b   Brussels  [Government]       EC        NaN  50.851650   \n",
       "9  grid.457875.c  Arlington  [Government]  NSF MPS   Virginia  38.880566   \n",
       "\n",
       "                                                name    country_name  \\\n",
       "0  Engineering and Physical Sciences Research Cou...  United Kingdom   \n",
       "1                                European Commission         Belgium   \n",
       "2                                European Commission         Belgium   \n",
       "3                        Department of Biotechnology           India   \n",
       "4             Canadian Institutes of Health Research          Canada   \n",
       "5                                     Wellcome Trust  United Kingdom   \n",
       "6                                     Wellcome Trust  United Kingdom   \n",
       "7                  Swiss National Science Foundation     Switzerland   \n",
       "8                                European Commission         Belgium   \n",
       "9   Directorate for Mathematical & Physical Sciences   United States   \n",
       "\n",
       "                                      linkout  longitude       grant_id  \\\n",
       "0                  [https://www.epsrc.ac.uk/]  -1.784602  grant.8558055   \n",
       "1          [http://ec.europa.eu/index_en.htm]   4.363670  grant.8585457   \n",
       "2          [http://ec.europa.eu/index_en.htm]   4.363670  grant.8586121   \n",
       "3               [http://www.dbtindia.nic.in/]  77.235780  grant.8657420   \n",
       "4     [http://www.cihr-irsc.gc.ca/e/193.html] -75.745224  grant.8527034   \n",
       "5                [http://www.wellcome.ac.uk/]  -0.135005  grant.8558648   \n",
       "6                [http://www.wellcome.ac.uk/]  -0.135005  grant.8103743   \n",
       "7                      [http://www.snf.ch/en]   7.432395  grant.8599112   \n",
       "8          [http://ec.europa.eu/index_en.htm]   4.363670  grant.8585082   \n",
       "9  [http://www.nsf.gov/dir/index.jsp?org=MPS] -77.110990  grant.8566624   \n",
       "\n",
       "                                         grant_title grant_start_date  \\\n",
       "0  UK-Africa Postgraduate Advanced Study Institut...       2020-03-31   \n",
       "1  Estimating the Prevalence of AntiMicrobial Res...       2020-01-01   \n",
       "2  Earth observation service for preventive contr...       2019-11-01   \n",
       "3  Translational research and clinical developmen...       2019-10-07   \n",
       "4  Mechanisms of Leishmania dissemination and tra...       2019-10-01   \n",
       "5  Molecular mechanisms of carbohydrate uptake in...       2019-10-01   \n",
       "6  The Chemical Empire: A New History of Syntheti...       2019-10-01   \n",
       "7  Gauging Global Governance: The Effectiveness o...       2019-10-01   \n",
       "8  Understanding the roles of pathogen infection ...       2019-10-01   \n",
       "9  Collaborative Research: Principal Component An...       2019-10-01   \n",
       "\n",
       "  grant_end_date  \n",
       "0     2021-03-30  \n",
       "1     2021-12-31  \n",
       "2     2022-10-31  \n",
       "3     2022-10-07  \n",
       "4     2024-09-30  \n",
       "5     2022-09-30  \n",
       "6     2023-10-01  \n",
       "7     2022-09-30  \n",
       "8     2021-09-30  \n",
       "9     2022-09-30  "
      ]
     },
     "execution_count": 14,
     "metadata": {},
     "output_type": "execute_result"
    }
   ],
   "source": [
    "res.as_dataframe_funders().head(10)"
   ]
  },
  {
   "cell_type": "markdown",
   "metadata": {
    "Collapsed": "false",
    "colab_type": "text",
    "id": "UqanXsrmR4Df"
   },
   "source": [
    "### Extracting investigators: `as_dataframe_investigators`\n",
    "\n",
    "Grant investigators are usually returned by the Dimensions API inside a nested JSON object in the `investigator_details` sub-key. \n",
    "\n",
    "This methods allows to quickly extract that data and return a dataframe with **one row per investigator**.\n",
    "\n",
    "> NOTE: `investigator_details` are not returned by default in a grants query hence one must specify this in the query results"
   ]
  },
  {
   "cell_type": "code",
   "execution_count": 16,
   "metadata": {
    "Collapsed": "false",
    "colab": {
     "base_uri": "https://localhost:8080/",
     "height": 88
    },
    "colab_type": "code",
    "executionInfo": {
     "elapsed": 3591,
     "status": "ok",
     "timestamp": 1574681293076,
     "user": {
      "displayName": "Michele Pasin",
      "photoUrl": "https://lh3.googleusercontent.com/a-/AAuE7mBu8LVjIGgontF2Wax51BoL5KFx8esezX3bUmaa0g=s64",
      "userId": "10309320684375994511"
     },
     "user_tz": 0
    },
    "id": "QZS6TePGR4Df",
    "outputId": "aae7e731-18a0-488f-b65f-111dfab61b8b"
   },
   "outputs": [
    {
     "name": "stdout",
     "output_type": "stream",
     "text": [
      "Returned Grants: 1000 (total = 9204)\n",
      "WARNINGS [1]\n",
      "Field 'project_num' is deprecated in favor of grant_number. Please refer to https://docs.dimensions.ai/dsl/releasenotes.html for more details\n"
     ]
    }
   ],
   "source": [
    "# get a sample list of grants\n",
    "query = \"\"\"search grants for \"malaria\" return grants[basics+investigator_details] limit 1000\"\"\"\n",
    "res = dsl.query(query)"
   ]
  },
  {
   "cell_type": "code",
   "execution_count": null,
   "metadata": {
    "Collapsed": "false"
   },
   "outputs": [],
   "source": [
    "res.as_dataframe_investigators().head(10)"
   ]
  },
  {
   "cell_type": "markdown",
   "metadata": {
    "Collapsed": "false",
    "colab_type": "text",
    "id": "WkolG6VKR4Dj"
   },
   "source": [
    "## Conclusions \n",
    "\n",
    "Moving Dimensions API results to pandas dataframes **makes it easier** to **analyze the data** and **answer research questions**. \n",
    "\n",
    "Note: the examples above only scratch the surface of what can be done with pandas! "
   ]
  }
 ],
 "metadata": {
  "colab": {
   "collapsed_sections": [],
   "name": "3-Working-with-dataframes.ipynb",
   "provenance": [],
   "toc_visible": true
  },
  "kernel_info": {
   "name": "python3"
  },
  "kernelspec": {
   "display_name": "Python 3",
   "language": "python",
   "name": "python3"
  },
  "language_info": {
   "codemirror_mode": {
    "name": "ipython",
    "version": 3
   },
   "file_extension": ".py",
   "mimetype": "text/x-python",
   "name": "python",
   "nbconvert_exporter": "python",
   "pygments_lexer": "ipython3",
   "version": "3.7.4"
  },
  "nteract": {
   "version": "0.14.5"
  }
 },
 "nbformat": 4,
 "nbformat_minor": 4
}
