{
 "cells": [
  {
   "cell_type": "markdown",
   "metadata": {
    "Collapsed": "false",
    "colab_type": "text",
    "id": "8XNB2EeXR4DA"
   },
   "source": [
    "# Transforming API results into Pandas dataframes\n",
    "\n",
    "DimCli includes a few utilities that make it easier to transform Dimensions JSON data into Pandas [dataframe objects](https://pandas.pydata.org/pandas-docs/stable/getting_started/dsintro.html#dataframe). \n",
    "\n",
    "Dataframes are then easy to sort, analyse, export as CSV and use within visualisation softwares.\n",
    "\n",
    ">  [pandas](https://pandas.pydata.org/pandas-docs/stable/) is a popular software library written for the Python programming language for data manipulation and analysis."
   ]
  },
  {
   "cell_type": "code",
   "execution_count": 2,
   "metadata": {
    "Collapsed": "false",
    "colab": {
     "base_uri": "https://localhost:8080/",
     "height": 51
    },
    "colab_type": "code",
    "executionInfo": {
     "elapsed": 6993,
     "status": "ok",
     "timestamp": 1575637337420,
     "user": {
      "displayName": "Michele Pasin",
      "photoUrl": "https://lh3.googleusercontent.com/a-/AAuE7mBu8LVjIGgontF2Wax51BoL5KFx8esezX3bUmaa0g=s64",
      "userId": "10309320684375994511"
     },
     "user_tz": 0
    },
    "id": "ZFn1lPjmR4DB",
    "outputId": "3af69bca-ad2c-4f80-e4db-e5fe39d379fa"
   },
   "outputs": [
    {
     "name": "stdout",
     "output_type": "stream",
     "text": [
      "DimCli v0.6.2.1 - Succesfully connected to <https://app.dimensions.ai> (method: dsl.ini file)\n"
     ]
    }
   ],
   "source": [
    "# @markdown Click the 'play' button on the left (or shift+enter) after entering your API credentials\n",
    "\n",
    "username = \"\" #@param {type: \"string\"}\n",
    "password = \"\" #@param {type: \"string\"}\n",
    "endpoint = \"https://app.dimensions.ai\"\n",
    "\n",
    "!pip install dimcli -U --quiet\n",
    "\n",
    "# import all libraries and login\n",
    "import pandas\n",
    "import dimcli\n",
    "dimcli.login(username, password, endpoint)\n",
    "dsl = dimcli.Dsl()"
   ]
  },
  {
   "cell_type": "markdown",
   "metadata": {
    "Collapsed": "false",
    "colab_type": "text",
    "id": "oMLG9WL0R4DE"
   },
   "source": [
    "## 1. Getting started: the `as_dataframe` method\n",
    "\n",
    "This utility method allows to quickly turn any query results into a dataframe. "
   ]
  },
  {
   "cell_type": "code",
   "execution_count": 3,
   "metadata": {
    "Collapsed": "false",
    "colab": {
     "base_uri": "https://localhost:8080/",
     "height": 34
    },
    "colab_type": "code",
    "executionInfo": {
     "elapsed": 3008,
     "status": "ok",
     "timestamp": 1574681077688,
     "user": {
      "displayName": "Michele Pasin",
      "photoUrl": "https://lh3.googleusercontent.com/a-/AAuE7mBu8LVjIGgontF2Wax51BoL5KFx8esezX3bUmaa0g=s64",
      "userId": "10309320684375994511"
     },
     "user_tz": 0
    },
    "id": "19qgos2dR4DF",
    "outputId": "a4bdf8a3-a760-4b80-cb1d-fb89b6cf08ca"
   },
   "outputs": [
    {
     "name": "stdout",
     "output_type": "stream",
     "text": [
      "Returned Publications: 1000 (total = 405843)\n"
     ]
    }
   ],
   "source": [
    "# we'll reuse this query later on \n",
    "query = \"\"\"search publications for \"graphene\" \n",
    "            where year in [2013:2019] \n",
    "            return publications sort by times_cited limit 1000\"\"\"\n",
    "res = dsl.query(query)"
   ]
  },
  {
   "cell_type": "code",
   "execution_count": 4,
   "metadata": {
    "Collapsed": "false",
    "colab": {
     "base_uri": "https://localhost:8080/",
     "height": 1000
    },
    "colab_type": "code",
    "executionInfo": {
     "elapsed": 1346,
     "status": "ok",
     "timestamp": 1574681079469,
     "user": {
      "displayName": "Michele Pasin",
      "photoUrl": "https://lh3.googleusercontent.com/a-/AAuE7mBu8LVjIGgontF2Wax51BoL5KFx8esezX3bUmaa0g=s64",
      "userId": "10309320684375994511"
     },
     "user_tz": 0
    },
    "id": "6LCGKJPwR4DG",
    "outputId": "b0b6e7e6-10de-4a17-e037-33083352fc8f"
   },
   "outputs": [
    {
     "data": {
      "text/html": [
       "<div>\n",
       "<style scoped>\n",
       "    .dataframe tbody tr th:only-of-type {\n",
       "        vertical-align: middle;\n",
       "    }\n",
       "\n",
       "    .dataframe tbody tr th {\n",
       "        vertical-align: top;\n",
       "    }\n",
       "\n",
       "    .dataframe thead th {\n",
       "        text-align: right;\n",
       "    }\n",
       "</style>\n",
       "<table border=\"1\" class=\"dataframe\">\n",
       "  <thead>\n",
       "    <tr style=\"text-align: right;\">\n",
       "      <th></th>\n",
       "      <th>author_affiliations</th>\n",
       "      <th>volume</th>\n",
       "      <th>pages</th>\n",
       "      <th>year</th>\n",
       "      <th>title</th>\n",
       "      <th>id</th>\n",
       "      <th>type</th>\n",
       "      <th>issue</th>\n",
       "      <th>journal.id</th>\n",
       "      <th>journal.title</th>\n",
       "    </tr>\n",
       "  </thead>\n",
       "  <tbody>\n",
       "    <tr>\n",
       "      <th>0</th>\n",
       "      <td>[[{'first_name': 'Manish', 'last_name': 'Chhow...</td>\n",
       "      <td>5</td>\n",
       "      <td>263-275</td>\n",
       "      <td>2013</td>\n",
       "      <td>The chemistry of two-dimensional layered trans...</td>\n",
       "      <td>pub.1050119463</td>\n",
       "      <td>article</td>\n",
       "      <td>4</td>\n",
       "      <td>jour.1041224</td>\n",
       "      <td>Nature Chemistry</td>\n",
       "    </tr>\n",
       "    <tr>\n",
       "      <th>1</th>\n",
       "      <td>[[{'first_name': 'A. K.', 'last_name': 'Geim',...</td>\n",
       "      <td>499</td>\n",
       "      <td>419-425</td>\n",
       "      <td>2013</td>\n",
       "      <td>Van der Waals heterostructures</td>\n",
       "      <td>pub.1024857999</td>\n",
       "      <td>article</td>\n",
       "      <td>7459</td>\n",
       "      <td>jour.1018957</td>\n",
       "      <td>Nature</td>\n",
       "    </tr>\n",
       "    <tr>\n",
       "      <th>2</th>\n",
       "      <td>NaN</td>\n",
       "      <td>NaN</td>\n",
       "      <td>NaN</td>\n",
       "      <td>2013</td>\n",
       "      <td>Nanoenergy, Nanotechnology Applied for Energy ...</td>\n",
       "      <td>pub.1031762191</td>\n",
       "      <td>book</td>\n",
       "      <td>NaN</td>\n",
       "      <td>NaN</td>\n",
       "      <td>NaN</td>\n",
       "    </tr>\n",
       "    <tr>\n",
       "      <th>3</th>\n",
       "      <td>[[{'first_name': 'C.', 'last_name': 'Patrignan...</td>\n",
       "      <td>40</td>\n",
       "      <td>100001</td>\n",
       "      <td>2016</td>\n",
       "      <td>Review of Particle Physics</td>\n",
       "      <td>pub.1059158429</td>\n",
       "      <td>article</td>\n",
       "      <td>10</td>\n",
       "      <td>jour.1327822</td>\n",
       "      <td>Chinese Physics C</td>\n",
       "    </tr>\n",
       "    <tr>\n",
       "      <th>4</th>\n",
       "      <td>[[{'first_name': 'John B.', 'last_name': 'Good...</td>\n",
       "      <td>135</td>\n",
       "      <td>1167-76</td>\n",
       "      <td>2013</td>\n",
       "      <td>The Li-ion rechargeable battery: a perspective.</td>\n",
       "      <td>pub.1019126274</td>\n",
       "      <td>article</td>\n",
       "      <td>4</td>\n",
       "      <td>jour.1081898</td>\n",
       "      <td>Journal of the American Chemical Society</td>\n",
       "    </tr>\n",
       "    <tr>\n",
       "      <th>5</th>\n",
       "      <td>[[{'first_name': 'Andrea C.', 'last_name': 'Fe...</td>\n",
       "      <td>8</td>\n",
       "      <td>235-246</td>\n",
       "      <td>2013</td>\n",
       "      <td>Raman spectroscopy as a versatile tool for stu...</td>\n",
       "      <td>pub.1015305822</td>\n",
       "      <td>article</td>\n",
       "      <td>4</td>\n",
       "      <td>jour.1037429</td>\n",
       "      <td>Nature Nanotechnology</td>\n",
       "    </tr>\n",
       "    <tr>\n",
       "      <th>6</th>\n",
       "      <td>[[{'first_name': 'Han', 'last_name': 'Liu', 'c...</td>\n",
       "      <td>8</td>\n",
       "      <td>4033-41</td>\n",
       "      <td>2014</td>\n",
       "      <td>Phosphorene: an unexplored 2D semiconductor wi...</td>\n",
       "      <td>pub.1009826879</td>\n",
       "      <td>article</td>\n",
       "      <td>4</td>\n",
       "      <td>jour.1038917</td>\n",
       "      <td>ACS Nano</td>\n",
       "    </tr>\n",
       "    <tr>\n",
       "      <th>7</th>\n",
       "      <td>[[{'first_name': 'Sheneve Z.', 'last_name': 'B...</td>\n",
       "      <td>7</td>\n",
       "      <td>2898-926</td>\n",
       "      <td>2013</td>\n",
       "      <td>Progress, challenges, and opportunities in two...</td>\n",
       "      <td>pub.1038090434</td>\n",
       "      <td>article</td>\n",
       "      <td>4</td>\n",
       "      <td>jour.1038917</td>\n",
       "      <td>ACS Nano</td>\n",
       "    </tr>\n",
       "    <tr>\n",
       "      <th>8</th>\n",
       "      <td>[[{'first_name': 'Mingsheng', 'last_name': 'Xu...</td>\n",
       "      <td>113</td>\n",
       "      <td>3766-98</td>\n",
       "      <td>2013</td>\n",
       "      <td>Graphene-like two-dimensional materials.</td>\n",
       "      <td>pub.1022830330</td>\n",
       "      <td>article</td>\n",
       "      <td>5</td>\n",
       "      <td>jour.1077147</td>\n",
       "      <td>Chemical Reviews</td>\n",
       "    </tr>\n",
       "    <tr>\n",
       "      <th>9</th>\n",
       "      <td>[[{'first_name': 'Oriol', 'last_name': 'Lopez-...</td>\n",
       "      <td>8</td>\n",
       "      <td>497-501</td>\n",
       "      <td>2013</td>\n",
       "      <td>Ultrasensitive photodetectors based on monolay...</td>\n",
       "      <td>pub.1023181230</td>\n",
       "      <td>article</td>\n",
       "      <td>7</td>\n",
       "      <td>jour.1037429</td>\n",
       "      <td>Nature Nanotechnology</td>\n",
       "    </tr>\n",
       "  </tbody>\n",
       "</table>\n",
       "</div>"
      ],
      "text/plain": [
       "                                 author_affiliations volume     pages  year  \\\n",
       "0  [[{'first_name': 'Manish', 'last_name': 'Chhow...      5   263-275  2013   \n",
       "1  [[{'first_name': 'A. K.', 'last_name': 'Geim',...    499   419-425  2013   \n",
       "2                                                NaN    NaN       NaN  2013   \n",
       "3  [[{'first_name': 'C.', 'last_name': 'Patrignan...     40    100001  2016   \n",
       "4  [[{'first_name': 'John B.', 'last_name': 'Good...    135   1167-76  2013   \n",
       "5  [[{'first_name': 'Andrea C.', 'last_name': 'Fe...      8   235-246  2013   \n",
       "6  [[{'first_name': 'Han', 'last_name': 'Liu', 'c...      8   4033-41  2014   \n",
       "7  [[{'first_name': 'Sheneve Z.', 'last_name': 'B...      7  2898-926  2013   \n",
       "8  [[{'first_name': 'Mingsheng', 'last_name': 'Xu...    113   3766-98  2013   \n",
       "9  [[{'first_name': 'Oriol', 'last_name': 'Lopez-...      8   497-501  2013   \n",
       "\n",
       "                                               title              id     type  \\\n",
       "0  The chemistry of two-dimensional layered trans...  pub.1050119463  article   \n",
       "1                     Van der Waals heterostructures  pub.1024857999  article   \n",
       "2  Nanoenergy, Nanotechnology Applied for Energy ...  pub.1031762191     book   \n",
       "3                         Review of Particle Physics  pub.1059158429  article   \n",
       "4    The Li-ion rechargeable battery: a perspective.  pub.1019126274  article   \n",
       "5  Raman spectroscopy as a versatile tool for stu...  pub.1015305822  article   \n",
       "6  Phosphorene: an unexplored 2D semiconductor wi...  pub.1009826879  article   \n",
       "7  Progress, challenges, and opportunities in two...  pub.1038090434  article   \n",
       "8           Graphene-like two-dimensional materials.  pub.1022830330  article   \n",
       "9  Ultrasensitive photodetectors based on monolay...  pub.1023181230  article   \n",
       "\n",
       "  issue    journal.id                             journal.title  \n",
       "0     4  jour.1041224                          Nature Chemistry  \n",
       "1  7459  jour.1018957                                    Nature  \n",
       "2   NaN           NaN                                       NaN  \n",
       "3    10  jour.1327822                         Chinese Physics C  \n",
       "4     4  jour.1081898  Journal of the American Chemical Society  \n",
       "5     4  jour.1037429                     Nature Nanotechnology  \n",
       "6     4  jour.1038917                                  ACS Nano  \n",
       "7     4  jour.1038917                                  ACS Nano  \n",
       "8     5  jour.1077147                          Chemical Reviews  \n",
       "9     7  jour.1037429                     Nature Nanotechnology  "
      ]
     },
     "execution_count": 4,
     "metadata": {},
     "output_type": "execute_result"
    }
   ],
   "source": [
    "df = res.as_dataframe()\n",
    "df.head(10)"
   ]
  },
  {
   "cell_type": "markdown",
   "metadata": {
    "Collapsed": "false",
    "colab_type": "text",
    "id": "tCq1lF6HR4DI"
   },
   "source": [
    "Pandas dataframes offer a myriad of utilities for inspecting data. Check out the [official docs](https://pandas.pydata.org/pandas-docs/stable/getting_started/10min.html) or google a [pandas tutorial](https://www.google.com/search?q=pandas+tutorial) to lean more about it. "
   ]
  },
  {
   "cell_type": "code",
   "execution_count": 5,
   "metadata": {
    "Collapsed": "false",
    "colab": {
     "base_uri": "https://localhost:8080/",
     "height": 34
    },
    "colab_type": "code",
    "executionInfo": {
     "elapsed": 1124,
     "status": "ok",
     "timestamp": 1574681118435,
     "user": {
      "displayName": "Michele Pasin",
      "photoUrl": "https://lh3.googleusercontent.com/a-/AAuE7mBu8LVjIGgontF2Wax51BoL5KFx8esezX3bUmaa0g=s64",
      "userId": "10309320684375994511"
     },
     "user_tz": 0
    },
    "id": "k_3GoeDkR4DJ",
    "outputId": "04323988-d055-4928-80f9-b283b34c8328"
   },
   "outputs": [
    {
     "data": {
      "text/plain": [
       "(1000, 10)"
      ]
     },
     "execution_count": 5,
     "metadata": {},
     "output_type": "execute_result"
    }
   ],
   "source": [
    "# the table shape\n",
    "df.shape"
   ]
  },
  {
   "cell_type": "code",
   "execution_count": 6,
   "metadata": {
    "Collapsed": "false",
    "colab": {
     "base_uri": "https://localhost:8080/",
     "height": 136
    },
    "colab_type": "code",
    "executionInfo": {
     "elapsed": 929,
     "status": "ok",
     "timestamp": 1574681130276,
     "user": {
      "displayName": "Michele Pasin",
      "photoUrl": "https://lh3.googleusercontent.com/a-/AAuE7mBu8LVjIGgontF2Wax51BoL5KFx8esezX3bUmaa0g=s64",
      "userId": "10309320684375994511"
     },
     "user_tz": 0
    },
    "id": "CjvMBNCBR4DK",
    "outputId": "771e011c-1a06-43d4-a12c-851e9edacce0"
   },
   "outputs": [
    {
     "data": {
      "text/plain": [
       "2013    357\n",
       "2014    295\n",
       "2015    201\n",
       "2016     92\n",
       "2017     47\n",
       "2018      8\n",
       "Name: year, dtype: int64"
      ]
     },
     "execution_count": 6,
     "metadata": {},
     "output_type": "execute_result"
    }
   ],
   "source": [
    "# the 'value_counts' method returns the distribution of a specific field eg publication [years]\n",
    "df['year'].value_counts()"
   ]
  },
  {
   "cell_type": "code",
   "execution_count": 7,
   "metadata": {
    "Collapsed": "false",
    "colab": {
     "base_uri": "https://localhost:8080/",
     "height": 102
    },
    "colab_type": "code",
    "executionInfo": {
     "elapsed": 817,
     "status": "ok",
     "timestamp": 1574681132393,
     "user": {
      "displayName": "Michele Pasin",
      "photoUrl": "https://lh3.googleusercontent.com/a-/AAuE7mBu8LVjIGgontF2Wax51BoL5KFx8esezX3bUmaa0g=s64",
      "userId": "10309320684375994511"
     },
     "user_tz": 0
    },
    "id": "vndAnGmyR4DM",
    "outputId": "68301915-01d4-46fc-ddb2-5fa23f768e3f"
   },
   "outputs": [
    {
     "data": {
      "text/plain": [
       "article      995\n",
       "monograph      2\n",
       "book           2\n",
       "chapter        1\n",
       "Name: type, dtype: int64"
      ]
     },
     "execution_count": 7,
     "metadata": {},
     "output_type": "execute_result"
    }
   ],
   "source": [
    "# eg distribution of publication [type]\n",
    "df['type'].value_counts()"
   ]
  },
  {
   "cell_type": "markdown",
   "metadata": {
    "Collapsed": "false",
    "colab_type": "text",
    "id": "ye1VswB3R4DO"
   },
   "source": [
    "## 2. Helper Methods for 'Publications' queries\n",
    "\n",
    "What follows are specialized versions of the `as_dataframe` method for results sets composed of publication records. "
   ]
  },
  {
   "cell_type": "markdown",
   "metadata": {
    "Collapsed": "false",
    "colab_type": "text",
    "id": "j75inlUMR4DO"
   },
   "source": [
    "###  Extracting authors: `as_dataframe_authors`\n",
    "\n",
    "Publications authors are usually returned by the Dimensions API inside a nested JSON object in the `authors_affiliations` sub-key. \n",
    "\n",
    "> Note: the order of authors in the JSON is consistent with the ordering of authors in the original publication\n",
    "\n",
    "This methods allows to quickly extract that data and return a dataframe with **one row per author**."
   ]
  },
  {
   "cell_type": "code",
   "execution_count": 8,
   "metadata": {
    "Collapsed": "false",
    "colab": {
     "base_uri": "https://localhost:8080/",
     "height": 1000
    },
    "colab_type": "code",
    "executionInfo": {
     "elapsed": 940,
     "status": "ok",
     "timestamp": 1574681159951,
     "user": {
      "displayName": "Michele Pasin",
      "photoUrl": "https://lh3.googleusercontent.com/a-/AAuE7mBu8LVjIGgontF2Wax51BoL5KFx8esezX3bUmaa0g=s64",
      "userId": "10309320684375994511"
     },
     "user_tz": 0
    },
    "id": "0_KbE4ylR4DP",
    "outputId": "d5ad1426-b64b-4b64-d76f-6c1fb05348d7"
   },
   "outputs": [
    {
     "data": {
      "text/html": [
       "<div>\n",
       "<style scoped>\n",
       "    .dataframe tbody tr th:only-of-type {\n",
       "        vertical-align: middle;\n",
       "    }\n",
       "\n",
       "    .dataframe tbody tr th {\n",
       "        vertical-align: top;\n",
       "    }\n",
       "\n",
       "    .dataframe thead th {\n",
       "        text-align: right;\n",
       "    }\n",
       "</style>\n",
       "<table border=\"1\" class=\"dataframe\">\n",
       "  <thead>\n",
       "    <tr style=\"text-align: right;\">\n",
       "      <th></th>\n",
       "      <th>first_name</th>\n",
       "      <th>last_name</th>\n",
       "      <th>corresponding</th>\n",
       "      <th>orcid</th>\n",
       "      <th>current_organization_id</th>\n",
       "      <th>researcher_id</th>\n",
       "      <th>affiliations</th>\n",
       "      <th>pub_id</th>\n",
       "    </tr>\n",
       "  </thead>\n",
       "  <tbody>\n",
       "    <tr>\n",
       "      <th>0</th>\n",
       "      <td>Manish</td>\n",
       "      <td>Chhowalla</td>\n",
       "      <td>True</td>\n",
       "      <td></td>\n",
       "      <td>grid.430387.b</td>\n",
       "      <td>ur.0633062306.03</td>\n",
       "      <td>[{'id': 'grid.430387.b', 'name': 'Rutgers, The...</td>\n",
       "      <td>pub.1050119463</td>\n",
       "    </tr>\n",
       "    <tr>\n",
       "      <th>1</th>\n",
       "      <td>Hyeon Suk</td>\n",
       "      <td>Shin</td>\n",
       "      <td></td>\n",
       "      <td></td>\n",
       "      <td>grid.42687.3f</td>\n",
       "      <td>ur.07617630407.83</td>\n",
       "      <td>[{'id': 'grid.42687.3f', 'name': 'Ulsan Nation...</td>\n",
       "      <td>pub.1050119463</td>\n",
       "    </tr>\n",
       "    <tr>\n",
       "      <th>2</th>\n",
       "      <td>Goki</td>\n",
       "      <td>Eda</td>\n",
       "      <td></td>\n",
       "      <td></td>\n",
       "      <td>grid.4280.e</td>\n",
       "      <td>ur.01150450507.27</td>\n",
       "      <td>[{'id': 'grid.4280.e', 'name': 'National Unive...</td>\n",
       "      <td>pub.1050119463</td>\n",
       "    </tr>\n",
       "    <tr>\n",
       "      <th>3</th>\n",
       "      <td>Lain-Jong</td>\n",
       "      <td>Li</td>\n",
       "      <td></td>\n",
       "      <td>['0000-0002-4059-7783']</td>\n",
       "      <td>grid.45672.32</td>\n",
       "      <td>ur.01313340113.13</td>\n",
       "      <td>[{'id': 'grid.28665.3f', 'name': 'Academia Sin...</td>\n",
       "      <td>pub.1050119463</td>\n",
       "    </tr>\n",
       "    <tr>\n",
       "      <th>4</th>\n",
       "      <td>Kian Ping</td>\n",
       "      <td>Loh</td>\n",
       "      <td></td>\n",
       "      <td>['0000-0002-1491-743X']</td>\n",
       "      <td>grid.4280.e</td>\n",
       "      <td>ur.0752174033.73</td>\n",
       "      <td>[{'id': 'grid.4280.e', 'name': 'National Unive...</td>\n",
       "      <td>pub.1050119463</td>\n",
       "    </tr>\n",
       "  </tbody>\n",
       "</table>\n",
       "</div>"
      ],
      "text/plain": [
       "  first_name  last_name corresponding                    orcid  \\\n",
       "0     Manish  Chhowalla          True                            \n",
       "1  Hyeon Suk       Shin                                          \n",
       "2       Goki        Eda                                          \n",
       "3  Lain-Jong         Li                ['0000-0002-4059-7783']   \n",
       "4  Kian Ping        Loh                ['0000-0002-1491-743X']   \n",
       "\n",
       "  current_organization_id      researcher_id  \\\n",
       "0           grid.430387.b   ur.0633062306.03   \n",
       "1           grid.42687.3f  ur.07617630407.83   \n",
       "2             grid.4280.e  ur.01150450507.27   \n",
       "3           grid.45672.32  ur.01313340113.13   \n",
       "4             grid.4280.e   ur.0752174033.73   \n",
       "\n",
       "                                        affiliations          pub_id  \n",
       "0  [{'id': 'grid.430387.b', 'name': 'Rutgers, The...  pub.1050119463  \n",
       "1  [{'id': 'grid.42687.3f', 'name': 'Ulsan Nation...  pub.1050119463  \n",
       "2  [{'id': 'grid.4280.e', 'name': 'National Unive...  pub.1050119463  \n",
       "3  [{'id': 'grid.28665.3f', 'name': 'Academia Sin...  pub.1050119463  \n",
       "4  [{'id': 'grid.4280.e', 'name': 'National Unive...  pub.1050119463  "
      ]
     },
     "execution_count": 8,
     "metadata": {},
     "output_type": "execute_result"
    }
   ],
   "source": [
    "authors = res.as_dataframe_authors()\n",
    "authors.head()"
   ]
  },
  {
   "cell_type": "markdown",
   "metadata": {
    "Collapsed": "false",
    "colab_type": "text",
    "id": "N1VtHVQbR4DQ"
   },
   "source": [
    "Using the authors dataframe, we can easily get the top ten values for `current_organization_id`. "
   ]
  },
  {
   "cell_type": "code",
   "execution_count": 9,
   "metadata": {
    "Collapsed": "false",
    "colab": {
     "base_uri": "https://localhost:8080/",
     "height": 204
    },
    "colab_type": "code",
    "executionInfo": {
     "elapsed": 1031,
     "status": "ok",
     "timestamp": 1574681165815,
     "user": {
      "displayName": "Michele Pasin",
      "photoUrl": "https://lh3.googleusercontent.com/a-/AAuE7mBu8LVjIGgontF2Wax51BoL5KFx8esezX3bUmaa0g=s64",
      "userId": "10309320684375994511"
     },
     "user_tz": 0
    },
    "id": "ut6y8Di0R4DR",
    "outputId": "3a56a8d3-f5e2-463e-b367-e53f1f9d70b1"
   },
   "outputs": [
    {
     "data": {
      "text/plain": [
       "                 188\n",
       "grid.59025.3b    144\n",
       "grid.12527.33    116\n",
       "grid.5379.8      105\n",
       "grid.59053.3a     85\n",
       "grid.19006.3e     78\n",
       "grid.168010.e     76\n",
       "grid.13402.34     72\n",
       "grid.21940.3e     69\n",
       "grid.116068.8     65\n",
       "Name: current_organization_id, dtype: int64"
      ]
     },
     "execution_count": 9,
     "metadata": {},
     "output_type": "execute_result"
    }
   ],
   "source": [
    "authors['current_organization_id'].value_counts()[:10]"
   ]
  },
  {
   "cell_type": "markdown",
   "metadata": {
    "Collapsed": "false",
    "colab_type": "text",
    "id": "6NpFRYBGR4DS"
   },
   "source": [
    "> Explanation: the most frequent value turns to be grid.59025.3b ie [Nanyang Technological University in Singapore](https://www.grid.ac/institutes/grid.59025.3b). The first result is empty, meaning that for those authors Dimensions has no info about `current_organization_id`. "
   ]
  },
  {
   "cell_type": "markdown",
   "metadata": {
    "Collapsed": "false",
    "colab_type": "text",
    "id": "p2eN2Y8GR4DT"
   },
   "source": [
    "### Extracting Affiliations: `as_dataframe_authors_affiliations`\n",
    "\n",
    "As you can see from the results of the previous section, the `affiliations` of each author is yet another nested JSON object. \n",
    "\n",
    "> Note: the order of affiliations in the JSON is consistent with the affiliations order in the original publication\n",
    "\n",
    "The `as_dataframe_authors_affiliations` method allows to quickly extract that affiliations data and return a dataframe with **one row per affiliation**.\n",
    "\n",
    "This can be useful e.g. if one wants to count research organizations at *the time of writing* (as opposed to `current_organization_id`, which is the *most recent organization* of a researcher). "
   ]
  },
  {
   "cell_type": "code",
   "execution_count": 10,
   "metadata": {
    "Collapsed": "false",
    "colab": {
     "base_uri": "https://localhost:8080/",
     "height": 464
    },
    "colab_type": "code",
    "executionInfo": {
     "elapsed": 1544,
     "status": "ok",
     "timestamp": 1574681203066,
     "user": {
      "displayName": "Michele Pasin",
      "photoUrl": "https://lh3.googleusercontent.com/a-/AAuE7mBu8LVjIGgontF2Wax51BoL5KFx8esezX3bUmaa0g=s64",
      "userId": "10309320684375994511"
     },
     "user_tz": 0
    },
    "id": "fszvKPHdR4DT",
    "outputId": "704b1027-ff46-4417-e3d5-4c5f5e2c20f7"
   },
   "outputs": [
    {
     "data": {
      "text/html": [
       "<div>\n",
       "<style scoped>\n",
       "    .dataframe tbody tr th:only-of-type {\n",
       "        vertical-align: middle;\n",
       "    }\n",
       "\n",
       "    .dataframe tbody tr th {\n",
       "        vertical-align: top;\n",
       "    }\n",
       "\n",
       "    .dataframe thead th {\n",
       "        text-align: right;\n",
       "    }\n",
       "</style>\n",
       "<table border=\"1\" class=\"dataframe\">\n",
       "  <thead>\n",
       "    <tr style=\"text-align: right;\">\n",
       "      <th></th>\n",
       "      <th>aff_id</th>\n",
       "      <th>aff_name</th>\n",
       "      <th>aff_city</th>\n",
       "      <th>aff_city_id</th>\n",
       "      <th>aff_country</th>\n",
       "      <th>aff_country_code</th>\n",
       "      <th>aff_state</th>\n",
       "      <th>aff_state_code</th>\n",
       "      <th>pub_id</th>\n",
       "      <th>researcher_id</th>\n",
       "      <th>first_name</th>\n",
       "      <th>last_name</th>\n",
       "    </tr>\n",
       "  </thead>\n",
       "  <tbody>\n",
       "    <tr>\n",
       "      <th>0</th>\n",
       "      <td>grid.430387.b</td>\n",
       "      <td>Rutgers, The State University of New Jersey</td>\n",
       "      <td>New Brunswick</td>\n",
       "      <td>5.10172e+06</td>\n",
       "      <td>United States</td>\n",
       "      <td>US</td>\n",
       "      <td>New Jersey</td>\n",
       "      <td>US-NJ</td>\n",
       "      <td>pub.1050119463</td>\n",
       "      <td>ur.0633062306.03</td>\n",
       "      <td>Manish</td>\n",
       "      <td>Chhowalla</td>\n",
       "    </tr>\n",
       "    <tr>\n",
       "      <th>1</th>\n",
       "      <td>grid.42687.3f</td>\n",
       "      <td>Ulsan National Institute of Science and Techno...</td>\n",
       "      <td>Ulsan</td>\n",
       "      <td>1.83375e+06</td>\n",
       "      <td>South Korea</td>\n",
       "      <td>KR</td>\n",
       "      <td></td>\n",
       "      <td></td>\n",
       "      <td>pub.1050119463</td>\n",
       "      <td>ur.07617630407.83</td>\n",
       "      <td>Hyeon Suk</td>\n",
       "      <td>Shin</td>\n",
       "    </tr>\n",
       "    <tr>\n",
       "      <th>2</th>\n",
       "      <td>grid.4280.e</td>\n",
       "      <td>National University of Singapore</td>\n",
       "      <td>Singapore</td>\n",
       "      <td>1.88025e+06</td>\n",
       "      <td>Singapore</td>\n",
       "      <td>SG</td>\n",
       "      <td></td>\n",
       "      <td></td>\n",
       "      <td>pub.1050119463</td>\n",
       "      <td>ur.01150450507.27</td>\n",
       "      <td>Goki</td>\n",
       "      <td>Eda</td>\n",
       "    </tr>\n",
       "    <tr>\n",
       "      <th>3</th>\n",
       "      <td>grid.28665.3f</td>\n",
       "      <td>Academia Sinica</td>\n",
       "      <td>Taipei</td>\n",
       "      <td>1.66834e+06</td>\n",
       "      <td>Taiwan</td>\n",
       "      <td>TW</td>\n",
       "      <td></td>\n",
       "      <td></td>\n",
       "      <td>pub.1050119463</td>\n",
       "      <td>ur.01313340113.13</td>\n",
       "      <td>Lain-Jong</td>\n",
       "      <td>Li</td>\n",
       "    </tr>\n",
       "    <tr>\n",
       "      <th>4</th>\n",
       "      <td>grid.4280.e</td>\n",
       "      <td>National University of Singapore</td>\n",
       "      <td>Singapore</td>\n",
       "      <td>1.88025e+06</td>\n",
       "      <td>Singapore</td>\n",
       "      <td>SG</td>\n",
       "      <td></td>\n",
       "      <td></td>\n",
       "      <td>pub.1050119463</td>\n",
       "      <td>ur.0752174033.73</td>\n",
       "      <td>Kian Ping</td>\n",
       "      <td>Loh</td>\n",
       "    </tr>\n",
       "  </tbody>\n",
       "</table>\n",
       "</div>"
      ],
      "text/plain": [
       "          aff_id                                           aff_name  \\\n",
       "0  grid.430387.b        Rutgers, The State University of New Jersey   \n",
       "1  grid.42687.3f  Ulsan National Institute of Science and Techno...   \n",
       "2    grid.4280.e                   National University of Singapore   \n",
       "3  grid.28665.3f                                    Academia Sinica   \n",
       "4    grid.4280.e                   National University of Singapore   \n",
       "\n",
       "        aff_city  aff_city_id    aff_country aff_country_code   aff_state  \\\n",
       "0  New Brunswick  5.10172e+06  United States               US  New Jersey   \n",
       "1          Ulsan  1.83375e+06    South Korea               KR               \n",
       "2      Singapore  1.88025e+06      Singapore               SG               \n",
       "3         Taipei  1.66834e+06         Taiwan               TW               \n",
       "4      Singapore  1.88025e+06      Singapore               SG               \n",
       "\n",
       "  aff_state_code          pub_id      researcher_id first_name  last_name  \n",
       "0          US-NJ  pub.1050119463   ur.0633062306.03     Manish  Chhowalla  \n",
       "1                 pub.1050119463  ur.07617630407.83  Hyeon Suk       Shin  \n",
       "2                 pub.1050119463  ur.01150450507.27       Goki        Eda  \n",
       "3                 pub.1050119463  ur.01313340113.13  Lain-Jong         Li  \n",
       "4                 pub.1050119463   ur.0752174033.73  Kian Ping        Loh  "
      ]
     },
     "execution_count": 10,
     "metadata": {},
     "output_type": "execute_result"
    }
   ],
   "source": [
    "affiliations = res.as_dataframe_authors_affiliations()\n",
    "affiliations.head()"
   ]
  },
  {
   "cell_type": "code",
   "execution_count": 11,
   "metadata": {
    "Collapsed": "false",
    "colab": {
     "base_uri": "https://localhost:8080/",
     "height": 219
    },
    "colab_type": "code",
    "executionInfo": {
     "elapsed": 797,
     "status": "ok",
     "timestamp": 1574681207520,
     "user": {
      "displayName": "Michele Pasin",
      "photoUrl": "https://lh3.googleusercontent.com/a-/AAuE7mBu8LVjIGgontF2Wax51BoL5KFx8esezX3bUmaa0g=s64",
      "userId": "10309320684375994511"
     },
     "user_tz": 0
    },
    "id": "Ci5OzQyJR4DV",
    "outputId": "35131ce4-d325-4d49-87a3-087198f0fb72"
   },
   "outputs": [
    {
     "data": {
      "text/html": [
       "<div>\n",
       "<style scoped>\n",
       "    .dataframe tbody tr th:only-of-type {\n",
       "        vertical-align: middle;\n",
       "    }\n",
       "\n",
       "    .dataframe tbody tr th {\n",
       "        vertical-align: top;\n",
       "    }\n",
       "\n",
       "    .dataframe thead th {\n",
       "        text-align: right;\n",
       "    }\n",
       "</style>\n",
       "<table border=\"1\" class=\"dataframe\">\n",
       "  <thead>\n",
       "    <tr style=\"text-align: right;\">\n",
       "      <th></th>\n",
       "      <th>aff_id</th>\n",
       "      <th>aff_name</th>\n",
       "      <th>aff_city</th>\n",
       "      <th>aff_city_id</th>\n",
       "      <th>aff_country</th>\n",
       "      <th>aff_country_code</th>\n",
       "      <th>aff_state</th>\n",
       "      <th>aff_state_code</th>\n",
       "      <th>pub_id</th>\n",
       "      <th>researcher_id</th>\n",
       "      <th>first_name</th>\n",
       "      <th>last_name</th>\n",
       "    </tr>\n",
       "  </thead>\n",
       "  <tbody>\n",
       "    <tr>\n",
       "      <th>count</th>\n",
       "      <td>6999</td>\n",
       "      <td>6999</td>\n",
       "      <td>6999</td>\n",
       "      <td>6999</td>\n",
       "      <td>6999</td>\n",
       "      <td>6999</td>\n",
       "      <td>6999</td>\n",
       "      <td>6999</td>\n",
       "      <td>6999</td>\n",
       "      <td>6999</td>\n",
       "      <td>6999</td>\n",
       "      <td>6999</td>\n",
       "    </tr>\n",
       "    <tr>\n",
       "      <th>unique</th>\n",
       "      <td>750</td>\n",
       "      <td>1061</td>\n",
       "      <td>460</td>\n",
       "      <td>463</td>\n",
       "      <td>53</td>\n",
       "      <td>53</td>\n",
       "      <td>56</td>\n",
       "      <td>56</td>\n",
       "      <td>984</td>\n",
       "      <td>4159</td>\n",
       "      <td>3415</td>\n",
       "      <td>1891</td>\n",
       "    </tr>\n",
       "    <tr>\n",
       "      <th>top</th>\n",
       "      <td></td>\n",
       "      <td>Nanyang Technological University</td>\n",
       "      <td></td>\n",
       "      <td></td>\n",
       "      <td>China</td>\n",
       "      <td>CN</td>\n",
       "      <td></td>\n",
       "      <td></td>\n",
       "      <td>pub.1019661721</td>\n",
       "      <td></td>\n",
       "      <td>Wei</td>\n",
       "      <td>Zhang</td>\n",
       "    </tr>\n",
       "    <tr>\n",
       "      <th>freq</th>\n",
       "      <td>925</td>\n",
       "      <td>220</td>\n",
       "      <td>925</td>\n",
       "      <td>930</td>\n",
       "      <td>1972</td>\n",
       "      <td>1972</td>\n",
       "      <td>5120</td>\n",
       "      <td>5120</td>\n",
       "      <td>105</td>\n",
       "      <td>159</td>\n",
       "      <td>62</td>\n",
       "      <td>294</td>\n",
       "    </tr>\n",
       "  </tbody>\n",
       "</table>\n",
       "</div>"
      ],
      "text/plain": [
       "       aff_id                          aff_name aff_city aff_city_id  \\\n",
       "count    6999                              6999     6999        6999   \n",
       "unique    750                              1061      460         463   \n",
       "top            Nanyang Technological University                        \n",
       "freq      925                               220      925         930   \n",
       "\n",
       "       aff_country aff_country_code aff_state aff_state_code          pub_id  \\\n",
       "count         6999             6999      6999           6999            6999   \n",
       "unique          53               53        56             56             984   \n",
       "top          China               CN                           pub.1019661721   \n",
       "freq          1972             1972      5120           5120             105   \n",
       "\n",
       "       researcher_id first_name last_name  \n",
       "count           6999       6999      6999  \n",
       "unique          4159       3415      1891  \n",
       "top                         Wei     Zhang  \n",
       "freq             159         62       294  "
      ]
     },
     "execution_count": 11,
     "metadata": {},
     "output_type": "execute_result"
    }
   ],
   "source": [
    "affiliations.describe(include=\"all\")"
   ]
  },
  {
   "cell_type": "markdown",
   "metadata": {
    "Collapsed": "false",
    "colab_type": "text",
    "id": "at7DTaU5R4DW"
   },
   "source": [
    "Let's get the top ten values for `aff_id`. "
   ]
  },
  {
   "cell_type": "code",
   "execution_count": 12,
   "metadata": {
    "Collapsed": "false",
    "colab": {
     "base_uri": "https://localhost:8080/",
     "height": 204
    },
    "colab_type": "code",
    "executionInfo": {
     "elapsed": 877,
     "status": "ok",
     "timestamp": 1574681214999,
     "user": {
      "displayName": "Michele Pasin",
      "photoUrl": "https://lh3.googleusercontent.com/a-/AAuE7mBu8LVjIGgontF2Wax51BoL5KFx8esezX3bUmaa0g=s64",
      "userId": "10309320684375994511"
     },
     "user_tz": 0
    },
    "id": "o2zUnRg0R4DX",
    "outputId": "d777c549-679c-4623-8cb0-866ec0b4bc4b"
   },
   "outputs": [
    {
     "data": {
      "text/plain": [
       "                 925\n",
       "grid.59025.3b    220\n",
       "grid.12527.33    134\n",
       "grid.5379.8      115\n",
       "grid.19006.3e    100\n",
       "grid.168010.e    100\n",
       "grid.21940.3e     96\n",
       "grid.59053.3a     91\n",
       "grid.21729.3f     87\n",
       "grid.116068.8     86\n",
       "Name: aff_id, dtype: int64"
      ]
     },
     "execution_count": 12,
     "metadata": {},
     "output_type": "execute_result"
    }
   ],
   "source": [
    "affiliations['aff_id'].value_counts()[:10]"
   ]
  },
  {
   "cell_type": "markdown",
   "metadata": {
    "Collapsed": "false",
    "colab_type": "text",
    "id": "aPQNuTpuR4DY"
   },
   "source": [
    "> Explanation: the most frequent value is still [grid.59025.3b](https://www.grid.ac/institutes/grid.59025.3b), meaning that most authors' current organization is the same organization of when they published these articles. "
   ]
  },
  {
   "cell_type": "markdown",
   "metadata": {
    "Collapsed": "false",
    "colab_type": "text",
    "id": "Zmv0M_PkR4DZ"
   },
   "source": [
    "Another example: we can now easily analyze the data by country too. "
   ]
  },
  {
   "cell_type": "code",
   "execution_count": 13,
   "metadata": {
    "Collapsed": "false",
    "colab": {
     "base_uri": "https://localhost:8080/",
     "height": 204
    },
    "colab_type": "code",
    "executionInfo": {
     "elapsed": 1021,
     "status": "ok",
     "timestamp": 1574681222068,
     "user": {
      "displayName": "Michele Pasin",
      "photoUrl": "https://lh3.googleusercontent.com/a-/AAuE7mBu8LVjIGgontF2Wax51BoL5KFx8esezX3bUmaa0g=s64",
      "userId": "10309320684375994511"
     },
     "user_tz": 0
    },
    "id": "OnmvjI-8R4DZ",
    "outputId": "d596422c-961f-471f-9cb4-289fc066cb71"
   },
   "outputs": [
    {
     "data": {
      "text/plain": [
       "China             1972\n",
       "United States     1570\n",
       "                   925\n",
       "South Korea        342\n",
       "Singapore          327\n",
       "United Kingdom     312\n",
       "Australia          171\n",
       "Japan              158\n",
       "Canada             138\n",
       "Germany            126\n",
       "Name: aff_country, dtype: int64"
      ]
     },
     "execution_count": 13,
     "metadata": {},
     "output_type": "execute_result"
    }
   ],
   "source": [
    "affiliations['aff_country'].value_counts()[:10]"
   ]
  },
  {
   "cell_type": "markdown",
   "metadata": {
    "Collapsed": "false",
    "colab_type": "text",
    "id": "a83GEMfQR4Db"
   },
   "source": [
    "> Explanation: the vast majority of authors in this dataset are from China, closely followed by the USA. "
   ]
  },
  {
   "cell_type": "markdown",
   "metadata": {
    "Collapsed": "false",
    "colab_type": "text",
    "id": "p2eN2Y8GR4DT"
   },
   "source": [
    "### Extracting Concepts: `as_dataframe_concepts`\n",
    "\n",
    "The `as_dataframe_concepts` method allows to quickly extract all concepts attached to publications **one row per concept**, so to make it easier to do operations like counting or plotting the results.\n",
    "\n",
    "NOTE: concepts are normalized keywords describing the main topics of a publication, which are automatically derived from the publication text using machine learning. In the JSON data, concepts are returned with an ordered list like this (first concepts are the most relevant): \n",
    "\n",
    "```\n",
    "{'concepts': ['electrochemical conversion',\n",
    "  'conversion',\n",
    "  'CO2',\n",
    "  'formate',\n",
    "  'formic acid',\n",
    "  'acid'],\n",
    " 'id': 'pub.1122072646'}\n",
    "```\n",
    "\n",
    "The `as_dataframe_concepts` method includes in the results three extra measures that are handy to carry out further analyses:\n",
    "\n",
    "1. `position`: an integer representing the position of the concept in the list, in absolute terms e.g. the first concept gets 1, while the fifth gets 5.\n",
    "2. `score`: an integer representing the relevance of the concept, normalized against the total number of concepts for that publication. So if a publication has 10 concepts in total, the first one gets 1, the second one 0.9, etc..\n",
    "3. `frequency`: an integer repreenting how often that concept occurs in the dataset returned ie how many documents have that concept.\n",
    "\n",
    "By sorting and segmenting concepts using these three parameters, it is possible to fine-tune the concept extraction algorithm that is most suitable to the application at hand.\n",
    "\n",
    "\n",
    "\n",
    "\n"
   ]
  },
  {
   "cell_type": "code",
   "execution_count": 14,
   "metadata": {
    "Collapsed": "false"
   },
   "outputs": [
    {
     "name": "stdout",
     "output_type": "stream",
     "text": [
      "Returned Publications: 100 (total = 100511)\n"
     ]
    },
    {
     "data": {
      "text/html": [
       "<div>\n",
       "<style scoped>\n",
       "    .dataframe tbody tr th:only-of-type {\n",
       "        vertical-align: middle;\n",
       "    }\n",
       "\n",
       "    .dataframe tbody tr th {\n",
       "        vertical-align: top;\n",
       "    }\n",
       "\n",
       "    .dataframe thead th {\n",
       "        text-align: right;\n",
       "    }\n",
       "</style>\n",
       "<table border=\"1\" class=\"dataframe\">\n",
       "  <thead>\n",
       "    <tr style=\"text-align: right;\">\n",
       "      <th></th>\n",
       "      <th>name</th>\n",
       "      <th>position</th>\n",
       "      <th>score</th>\n",
       "      <th>frequency</th>\n",
       "      <th>pubid</th>\n",
       "      <th>title</th>\n",
       "      <th>year</th>\n",
       "    </tr>\n",
       "  </thead>\n",
       "  <tbody>\n",
       "    <tr>\n",
       "      <th>0</th>\n",
       "      <td>graphene oxide synthesis</td>\n",
       "      <td>1</td>\n",
       "      <td>1.0</td>\n",
       "      <td>1</td>\n",
       "      <td>pub.1120445400</td>\n",
       "      <td>Graphene oxide synthesis by facile method and ...</td>\n",
       "      <td>2019</td>\n",
       "    </tr>\n",
       "    <tr>\n",
       "      <th>1</th>\n",
       "      <td>synthesis</td>\n",
       "      <td>2</td>\n",
       "      <td>0.8</td>\n",
       "      <td>8</td>\n",
       "      <td>pub.1120445400</td>\n",
       "      <td>Graphene oxide synthesis by facile method and ...</td>\n",
       "      <td>2019</td>\n",
       "    </tr>\n",
       "    <tr>\n",
       "      <th>2</th>\n",
       "      <td>facile method</td>\n",
       "      <td>3</td>\n",
       "      <td>0.6</td>\n",
       "      <td>1</td>\n",
       "      <td>pub.1120445400</td>\n",
       "      <td>Graphene oxide synthesis by facile method and ...</td>\n",
       "      <td>2019</td>\n",
       "    </tr>\n",
       "    <tr>\n",
       "      <th>3</th>\n",
       "      <td>method</td>\n",
       "      <td>4</td>\n",
       "      <td>0.4</td>\n",
       "      <td>27</td>\n",
       "      <td>pub.1120445400</td>\n",
       "      <td>Graphene oxide synthesis by facile method and ...</td>\n",
       "      <td>2019</td>\n",
       "    </tr>\n",
       "    <tr>\n",
       "      <th>4</th>\n",
       "      <td>characterization</td>\n",
       "      <td>5</td>\n",
       "      <td>0.2</td>\n",
       "      <td>4</td>\n",
       "      <td>pub.1120445400</td>\n",
       "      <td>Graphene oxide synthesis by facile method and ...</td>\n",
       "      <td>2019</td>\n",
       "    </tr>\n",
       "  </tbody>\n",
       "</table>\n",
       "</div>"
      ],
      "text/plain": [
       "                       name  position  score  frequency           pubid  \\\n",
       "0  graphene oxide synthesis         1    1.0          1  pub.1120445400   \n",
       "1                 synthesis         2    0.8          8  pub.1120445400   \n",
       "2             facile method         3    0.6          1  pub.1120445400   \n",
       "3                    method         4    0.4         27  pub.1120445400   \n",
       "4          characterization         5    0.2          4  pub.1120445400   \n",
       "\n",
       "                                               title  year  \n",
       "0  Graphene oxide synthesis by facile method and ...  2019  \n",
       "1  Graphene oxide synthesis by facile method and ...  2019  \n",
       "2  Graphene oxide synthesis by facile method and ...  2019  \n",
       "3  Graphene oxide synthesis by facile method and ...  2019  \n",
       "4  Graphene oxide synthesis by facile method and ...  2019  "
      ]
     },
     "execution_count": 14,
     "metadata": {},
     "output_type": "execute_result"
    }
   ],
   "source": [
    "concepts = dsl.query(\"\"\"search publications for \"graphene\" where year=2019 return publications[id+title+year+concepts] limit 100\"\"\").as_dataframe_concepts()\n",
    "concepts.head()"
   ]
  },
  {
   "cell_type": "code",
   "execution_count": 15,
   "metadata": {
    "Collapsed": "false"
   },
   "outputs": [
    {
     "name": "stdout",
     "output_type": "stream",
     "text": [
      "<class 'pandas.core.frame.DataFrame'>\n",
      "Int64Index: 4137 entries, 0 to 44\n",
      "Data columns (total 7 columns):\n",
      "name         4137 non-null object\n",
      "position     4137 non-null int64\n",
      "score        4137 non-null float64\n",
      "frequency    4137 non-null int64\n",
      "pubid        4137 non-null object\n",
      "title        4137 non-null object\n",
      "year         4137 non-null object\n",
      "dtypes: float64(1), int64(2), object(4)\n",
      "memory usage: 258.6+ KB\n"
     ]
    }
   ],
   "source": [
    "concepts.info()"
   ]
  },
  {
   "cell_type": "markdown",
   "metadata": {
    "Collapsed": "false"
   },
   "source": [
    "E.g. Sorting by **position** permits to highlight concepts that are important but don't appear in many documents."
   ]
  },
  {
   "cell_type": "code",
   "execution_count": 16,
   "metadata": {
    "Collapsed": "false"
   },
   "outputs": [
    {
     "data": {
      "text/html": [
       "<div>\n",
       "<style scoped>\n",
       "    .dataframe tbody tr th:only-of-type {\n",
       "        vertical-align: middle;\n",
       "    }\n",
       "\n",
       "    .dataframe tbody tr th {\n",
       "        vertical-align: top;\n",
       "    }\n",
       "\n",
       "    .dataframe thead th {\n",
       "        text-align: right;\n",
       "    }\n",
       "</style>\n",
       "<table border=\"1\" class=\"dataframe\">\n",
       "  <thead>\n",
       "    <tr style=\"text-align: right;\">\n",
       "      <th></th>\n",
       "      <th>position</th>\n",
       "      <th>score</th>\n",
       "      <th>frequency</th>\n",
       "    </tr>\n",
       "    <tr>\n",
       "      <th>name</th>\n",
       "      <th></th>\n",
       "      <th></th>\n",
       "      <th></th>\n",
       "    </tr>\n",
       "  </thead>\n",
       "  <tbody>\n",
       "    <tr>\n",
       "      <th>system stores</th>\n",
       "      <td>1</td>\n",
       "      <td>1.00</td>\n",
       "      <td>1</td>\n",
       "    </tr>\n",
       "    <tr>\n",
       "      <th>combined study</th>\n",
       "      <td>1</td>\n",
       "      <td>1.00</td>\n",
       "      <td>1</td>\n",
       "    </tr>\n",
       "    <tr>\n",
       "      <th>cerium compounds</th>\n",
       "      <td>1</td>\n",
       "      <td>1.00</td>\n",
       "      <td>1</td>\n",
       "    </tr>\n",
       "    <tr>\n",
       "      <th>green reduction</th>\n",
       "      <td>1</td>\n",
       "      <td>1.00</td>\n",
       "      <td>1</td>\n",
       "    </tr>\n",
       "    <tr>\n",
       "      <th>polymer surface</th>\n",
       "      <td>1</td>\n",
       "      <td>1.00</td>\n",
       "      <td>1</td>\n",
       "    </tr>\n",
       "    <tr>\n",
       "      <th>...</th>\n",
       "      <td>...</td>\n",
       "      <td>...</td>\n",
       "      <td>...</td>\n",
       "    </tr>\n",
       "    <tr>\n",
       "      <th>results</th>\n",
       "      <td>591</td>\n",
       "      <td>5.61</td>\n",
       "      <td>289</td>\n",
       "    </tr>\n",
       "    <tr>\n",
       "      <th>structure</th>\n",
       "      <td>619</td>\n",
       "      <td>14.17</td>\n",
       "      <td>576</td>\n",
       "    </tr>\n",
       "    <tr>\n",
       "      <th>effects</th>\n",
       "      <td>652</td>\n",
       "      <td>7.52</td>\n",
       "      <td>324</td>\n",
       "    </tr>\n",
       "    <tr>\n",
       "      <th>applications</th>\n",
       "      <td>667</td>\n",
       "      <td>15.92</td>\n",
       "      <td>900</td>\n",
       "    </tr>\n",
       "    <tr>\n",
       "      <th>materials</th>\n",
       "      <td>764</td>\n",
       "      <td>21.59</td>\n",
       "      <td>1225</td>\n",
       "    </tr>\n",
       "  </tbody>\n",
       "</table>\n",
       "<p>2702 rows × 3 columns</p>\n",
       "</div>"
      ],
      "text/plain": [
       "                  position  score  frequency\n",
       "name                                        \n",
       "system stores            1   1.00          1\n",
       "combined study           1   1.00          1\n",
       "cerium compounds         1   1.00          1\n",
       "green reduction          1   1.00          1\n",
       "polymer surface          1   1.00          1\n",
       "...                    ...    ...        ...\n",
       "results                591   5.61        289\n",
       "structure              619  14.17        576\n",
       "effects                652   7.52        324\n",
       "applications           667  15.92        900\n",
       "materials              764  21.59       1225\n",
       "\n",
       "[2702 rows x 3 columns]"
      ]
     },
     "execution_count": 16,
     "metadata": {},
     "output_type": "execute_result"
    }
   ],
   "source": [
    "concepts.groupby(\"name\").sum().sort_values(\"position\", ascending=True)"
   ]
  },
  {
   "cell_type": "markdown",
   "metadata": {
    "Collapsed": "false"
   },
   "source": [
    "E.g. Sorting by **frequency** highlights concepts that are shared by many documents in our dataset (= the one generated by the original query)."
   ]
  },
  {
   "cell_type": "code",
   "execution_count": 17,
   "metadata": {
    "Collapsed": "false"
   },
   "outputs": [
    {
     "data": {
      "text/html": [
       "<div>\n",
       "<style scoped>\n",
       "    .dataframe tbody tr th:only-of-type {\n",
       "        vertical-align: middle;\n",
       "    }\n",
       "\n",
       "    .dataframe tbody tr th {\n",
       "        vertical-align: top;\n",
       "    }\n",
       "\n",
       "    .dataframe thead th {\n",
       "        text-align: right;\n",
       "    }\n",
       "</style>\n",
       "<table border=\"1\" class=\"dataframe\">\n",
       "  <thead>\n",
       "    <tr style=\"text-align: right;\">\n",
       "      <th></th>\n",
       "      <th>name</th>\n",
       "      <th>position</th>\n",
       "      <th>score</th>\n",
       "      <th>frequency</th>\n",
       "      <th>pubid</th>\n",
       "      <th>title</th>\n",
       "      <th>year</th>\n",
       "    </tr>\n",
       "  </thead>\n",
       "  <tbody>\n",
       "    <tr>\n",
       "      <th>0</th>\n",
       "      <td>graphene oxide synthesis</td>\n",
       "      <td>1</td>\n",
       "      <td>1.00</td>\n",
       "      <td>1</td>\n",
       "      <td>pub.1120445400</td>\n",
       "      <td>Graphene oxide synthesis by facile method and ...</td>\n",
       "      <td>2019</td>\n",
       "    </tr>\n",
       "    <tr>\n",
       "      <th>69</th>\n",
       "      <td>pure TiO 2</td>\n",
       "      <td>70</td>\n",
       "      <td>0.23</td>\n",
       "      <td>1</td>\n",
       "      <td>pub.1123014472</td>\n",
       "      <td>Вплив модифікування діоксиду титану сіркою та ...</td>\n",
       "      <td>2019</td>\n",
       "    </tr>\n",
       "    <tr>\n",
       "      <th>70</th>\n",
       "      <td>gap narrowing</td>\n",
       "      <td>71</td>\n",
       "      <td>0.22</td>\n",
       "      <td>1</td>\n",
       "      <td>pub.1123014472</td>\n",
       "      <td>Вплив модифікування діоксиду титану сіркою та ...</td>\n",
       "      <td>2019</td>\n",
       "    </tr>\n",
       "    <tr>\n",
       "      <th>71</th>\n",
       "      <td>nanocomposite samples</td>\n",
       "      <td>72</td>\n",
       "      <td>0.21</td>\n",
       "      <td>1</td>\n",
       "      <td>pub.1123014472</td>\n",
       "      <td>Вплив модифікування діоксиду титану сіркою та ...</td>\n",
       "      <td>2019</td>\n",
       "    </tr>\n",
       "    <tr>\n",
       "      <th>74</th>\n",
       "      <td>safranine T</td>\n",
       "      <td>75</td>\n",
       "      <td>0.18</td>\n",
       "      <td>1</td>\n",
       "      <td>pub.1123014472</td>\n",
       "      <td>Вплив модифікування діоксиду титану сіркою та ...</td>\n",
       "      <td>2019</td>\n",
       "    </tr>\n",
       "    <tr>\n",
       "      <th>...</th>\n",
       "      <td>...</td>\n",
       "      <td>...</td>\n",
       "      <td>...</td>\n",
       "      <td>...</td>\n",
       "      <td>...</td>\n",
       "      <td>...</td>\n",
       "      <td>...</td>\n",
       "    </tr>\n",
       "    <tr>\n",
       "      <th>6</th>\n",
       "      <td>structure</td>\n",
       "      <td>7</td>\n",
       "      <td>0.82</td>\n",
       "      <td>24</td>\n",
       "      <td>pub.1112946271</td>\n",
       "      <td>Synthesis and modelling of the mechanical prop...</td>\n",
       "      <td>2019</td>\n",
       "    </tr>\n",
       "    <tr>\n",
       "      <th>3</th>\n",
       "      <td>method</td>\n",
       "      <td>4</td>\n",
       "      <td>0.40</td>\n",
       "      <td>27</td>\n",
       "      <td>pub.1120445400</td>\n",
       "      <td>Graphene oxide synthesis by facile method and ...</td>\n",
       "      <td>2019</td>\n",
       "    </tr>\n",
       "    <tr>\n",
       "      <th>17</th>\n",
       "      <td>applications</td>\n",
       "      <td>18</td>\n",
       "      <td>0.11</td>\n",
       "      <td>30</td>\n",
       "      <td>pub.1122256034</td>\n",
       "      <td>The Surface of Polymers</td>\n",
       "      <td>2019</td>\n",
       "    </tr>\n",
       "    <tr>\n",
       "      <th>7</th>\n",
       "      <td>materials</td>\n",
       "      <td>8</td>\n",
       "      <td>0.79</td>\n",
       "      <td>35</td>\n",
       "      <td>pub.1112946271</td>\n",
       "      <td>Synthesis and modelling of the mechanical prop...</td>\n",
       "      <td>2019</td>\n",
       "    </tr>\n",
       "    <tr>\n",
       "      <th>10</th>\n",
       "      <td>properties</td>\n",
       "      <td>11</td>\n",
       "      <td>0.71</td>\n",
       "      <td>36</td>\n",
       "      <td>pub.1112946271</td>\n",
       "      <td>Synthesis and modelling of the mechanical prop...</td>\n",
       "      <td>2019</td>\n",
       "    </tr>\n",
       "  </tbody>\n",
       "</table>\n",
       "<p>2702 rows × 7 columns</p>\n",
       "</div>"
      ],
      "text/plain": [
       "                        name  position  score  frequency           pubid  \\\n",
       "0   graphene oxide synthesis         1   1.00          1  pub.1120445400   \n",
       "69                pure TiO 2        70   0.23          1  pub.1123014472   \n",
       "70             gap narrowing        71   0.22          1  pub.1123014472   \n",
       "71     nanocomposite samples        72   0.21          1  pub.1123014472   \n",
       "74               safranine T        75   0.18          1  pub.1123014472   \n",
       "..                       ...       ...    ...        ...             ...   \n",
       "6                  structure         7   0.82         24  pub.1112946271   \n",
       "3                     method         4   0.40         27  pub.1120445400   \n",
       "17              applications        18   0.11         30  pub.1122256034   \n",
       "7                  materials         8   0.79         35  pub.1112946271   \n",
       "10                properties        11   0.71         36  pub.1112946271   \n",
       "\n",
       "                                                title  year  \n",
       "0   Graphene oxide synthesis by facile method and ...  2019  \n",
       "69  Вплив модифікування діоксиду титану сіркою та ...  2019  \n",
       "70  Вплив модифікування діоксиду титану сіркою та ...  2019  \n",
       "71  Вплив модифікування діоксиду титану сіркою та ...  2019  \n",
       "74  Вплив модифікування діоксиду титану сіркою та ...  2019  \n",
       "..                                                ...   ...  \n",
       "6   Synthesis and modelling of the mechanical prop...  2019  \n",
       "3   Graphene oxide synthesis by facile method and ...  2019  \n",
       "17                            The Surface of Polymers  2019  \n",
       "7   Synthesis and modelling of the mechanical prop...  2019  \n",
       "10  Synthesis and modelling of the mechanical prop...  2019  \n",
       "\n",
       "[2702 rows x 7 columns]"
      ]
     },
     "execution_count": 17,
     "metadata": {},
     "output_type": "execute_result"
    }
   ],
   "source": [
    "concepts.drop_duplicates(\"name\").sort_values(\"frequency\", ascending=True)"
   ]
  },
  {
   "cell_type": "markdown",
   "metadata": {
    "Collapsed": "false"
   },
   "source": [
    "E.g. Sorting by **score** permits to identify concepts that are both frequent and important."
   ]
  },
  {
   "cell_type": "code",
   "execution_count": 18,
   "metadata": {
    "Collapsed": "false"
   },
   "outputs": [
    {
     "data": {
      "text/html": [
       "<div>\n",
       "<style scoped>\n",
       "    .dataframe tbody tr th:only-of-type {\n",
       "        vertical-align: middle;\n",
       "    }\n",
       "\n",
       "    .dataframe tbody tr th {\n",
       "        vertical-align: top;\n",
       "    }\n",
       "\n",
       "    .dataframe thead th {\n",
       "        text-align: right;\n",
       "    }\n",
       "</style>\n",
       "<table border=\"1\" class=\"dataframe\">\n",
       "  <thead>\n",
       "    <tr style=\"text-align: right;\">\n",
       "      <th></th>\n",
       "      <th>position</th>\n",
       "      <th>score</th>\n",
       "      <th>frequency</th>\n",
       "    </tr>\n",
       "    <tr>\n",
       "      <th>name</th>\n",
       "      <th></th>\n",
       "      <th></th>\n",
       "      <th></th>\n",
       "    </tr>\n",
       "  </thead>\n",
       "  <tbody>\n",
       "    <tr>\n",
       "      <th>properties</th>\n",
       "      <td>572</td>\n",
       "      <td>25.75</td>\n",
       "      <td>1296</td>\n",
       "    </tr>\n",
       "    <tr>\n",
       "      <th>materials</th>\n",
       "      <td>764</td>\n",
       "      <td>21.59</td>\n",
       "      <td>1225</td>\n",
       "    </tr>\n",
       "    <tr>\n",
       "      <th>method</th>\n",
       "      <td>532</td>\n",
       "      <td>17.45</td>\n",
       "      <td>729</td>\n",
       "    </tr>\n",
       "    <tr>\n",
       "      <th>applications</th>\n",
       "      <td>667</td>\n",
       "      <td>15.92</td>\n",
       "      <td>900</td>\n",
       "    </tr>\n",
       "    <tr>\n",
       "      <th>structure</th>\n",
       "      <td>619</td>\n",
       "      <td>14.17</td>\n",
       "      <td>576</td>\n",
       "    </tr>\n",
       "    <tr>\n",
       "      <th>...</th>\n",
       "      <td>...</td>\n",
       "      <td>...</td>\n",
       "      <td>...</td>\n",
       "    </tr>\n",
       "    <tr>\n",
       "      <th>ecological point</th>\n",
       "      <td>77</td>\n",
       "      <td>0.01</td>\n",
       "      <td>1</td>\n",
       "    </tr>\n",
       "    <tr>\n",
       "      <th>probe molecules</th>\n",
       "      <td>69</td>\n",
       "      <td>0.01</td>\n",
       "      <td>1</td>\n",
       "    </tr>\n",
       "    <tr>\n",
       "      <th>delivery</th>\n",
       "      <td>100</td>\n",
       "      <td>0.01</td>\n",
       "      <td>1</td>\n",
       "    </tr>\n",
       "    <tr>\n",
       "      <th>conventional methods</th>\n",
       "      <td>83</td>\n",
       "      <td>0.01</td>\n",
       "      <td>1</td>\n",
       "    </tr>\n",
       "    <tr>\n",
       "      <th>detoxification</th>\n",
       "      <td>79</td>\n",
       "      <td>0.01</td>\n",
       "      <td>1</td>\n",
       "    </tr>\n",
       "  </tbody>\n",
       "</table>\n",
       "<p>2702 rows × 3 columns</p>\n",
       "</div>"
      ],
      "text/plain": [
       "                      position  score  frequency\n",
       "name                                            \n",
       "properties                 572  25.75       1296\n",
       "materials                  764  21.59       1225\n",
       "method                     532  17.45        729\n",
       "applications               667  15.92        900\n",
       "structure                  619  14.17        576\n",
       "...                        ...    ...        ...\n",
       "ecological point            77   0.01          1\n",
       "probe molecules             69   0.01          1\n",
       "delivery                   100   0.01          1\n",
       "conventional methods        83   0.01          1\n",
       "detoxification              79   0.01          1\n",
       "\n",
       "[2702 rows x 3 columns]"
      ]
     },
     "execution_count": 18,
     "metadata": {},
     "output_type": "execute_result"
    }
   ],
   "source": [
    "concepts.groupby(\"name\").sum().sort_values(\"score\", ascending=False)"
   ]
  },
  {
   "cell_type": "markdown",
   "metadata": {
    "Collapsed": "false",
    "colab_type": "text",
    "id": "69JItbFgR4Db"
   },
   "source": [
    "## 2. Helper Methods for 'Grants' queries"
   ]
  },
  {
   "cell_type": "markdown",
   "metadata": {
    "Collapsed": "false",
    "colab_type": "text",
    "id": "P0FLXthRR4Dc"
   },
   "source": [
    "###  Extracting Funders: `as_dataframe_funders`\n",
    "\n",
    "Grant funders authors are usually returned by the Dimensions API inside a nested JSON object in the `funders` sub-key. \n",
    "\n",
    "This methods allows to quickly extract that data and return a dataframe with **one row per funder**."
   ]
  },
  {
   "cell_type": "code",
   "execution_count": 19,
   "metadata": {
    "Collapsed": "false",
    "colab": {
     "base_uri": "https://localhost:8080/",
     "height": 34
    },
    "colab_type": "code",
    "executionInfo": {
     "elapsed": 3344,
     "status": "ok",
     "timestamp": 1574681269386,
     "user": {
      "displayName": "Michele Pasin",
      "photoUrl": "https://lh3.googleusercontent.com/a-/AAuE7mBu8LVjIGgontF2Wax51BoL5KFx8esezX3bUmaa0g=s64",
      "userId": "10309320684375994511"
     },
     "user_tz": 0
    },
    "id": "kjxgoy_VR4Dc",
    "outputId": "59ee9e43-ed66-4e6f-ee5e-7e81e5f9d515"
   },
   "outputs": [
    {
     "name": "stdout",
     "output_type": "stream",
     "text": [
      "Returned Grants: 1000 (total = 9204)\n"
     ]
    }
   ],
   "source": [
    "# get a sample list of grants\n",
    "query = \"\"\"search grants for \"malaria\" return grants limit 1000\"\"\"\n",
    "res = dsl.query(query)"
   ]
  },
  {
   "cell_type": "code",
   "execution_count": 20,
   "metadata": {
    "Collapsed": "false",
    "colab": {
     "base_uri": "https://localhost:8080/",
     "height": 1000
    },
    "colab_type": "code",
    "executionInfo": {
     "elapsed": 736,
     "status": "ok",
     "timestamp": 1574681271845,
     "user": {
      "displayName": "Michele Pasin",
      "photoUrl": "https://lh3.googleusercontent.com/a-/AAuE7mBu8LVjIGgontF2Wax51BoL5KFx8esezX3bUmaa0g=s64",
      "userId": "10309320684375994511"
     },
     "user_tz": 0
    },
    "id": "56iPhGTUR4Dd",
    "outputId": "c94bba81-caf4-4f7b-e85b-e8969e4c8b6a"
   },
   "outputs": [
    {
     "data": {
      "text/html": [
       "<div>\n",
       "<style scoped>\n",
       "    .dataframe tbody tr th:only-of-type {\n",
       "        vertical-align: middle;\n",
       "    }\n",
       "\n",
       "    .dataframe tbody tr th {\n",
       "        vertical-align: top;\n",
       "    }\n",
       "\n",
       "    .dataframe thead th {\n",
       "        text-align: right;\n",
       "    }\n",
       "</style>\n",
       "<table border=\"1\" class=\"dataframe\">\n",
       "  <thead>\n",
       "    <tr style=\"text-align: right;\">\n",
       "      <th></th>\n",
       "      <th>id</th>\n",
       "      <th>city_name</th>\n",
       "      <th>types</th>\n",
       "      <th>acronym</th>\n",
       "      <th>state_name</th>\n",
       "      <th>latitude</th>\n",
       "      <th>name</th>\n",
       "      <th>country_name</th>\n",
       "      <th>linkout</th>\n",
       "      <th>longitude</th>\n",
       "      <th>grant_id</th>\n",
       "      <th>grant_title</th>\n",
       "      <th>grant_start_date</th>\n",
       "      <th>grant_end_date</th>\n",
       "    </tr>\n",
       "  </thead>\n",
       "  <tbody>\n",
       "    <tr>\n",
       "      <th>0</th>\n",
       "      <td>grid.421091.f</td>\n",
       "      <td>Swindon</td>\n",
       "      <td>[Government]</td>\n",
       "      <td>EPSRC</td>\n",
       "      <td>England</td>\n",
       "      <td>51.567093</td>\n",
       "      <td>Engineering and Physical Sciences Research Cou...</td>\n",
       "      <td>United Kingdom</td>\n",
       "      <td>[https://www.epsrc.ac.uk/]</td>\n",
       "      <td>-1.784602</td>\n",
       "      <td>grant.8558055</td>\n",
       "      <td>UK-Africa Postgraduate Advanced Study Institut...</td>\n",
       "      <td>2020-03-31</td>\n",
       "      <td>2021-03-30</td>\n",
       "    </tr>\n",
       "    <tr>\n",
       "      <th>1</th>\n",
       "      <td>grid.270680.b</td>\n",
       "      <td>Brussels</td>\n",
       "      <td>[Government]</td>\n",
       "      <td>EC</td>\n",
       "      <td>NaN</td>\n",
       "      <td>50.851650</td>\n",
       "      <td>European Commission</td>\n",
       "      <td>Belgium</td>\n",
       "      <td>[http://ec.europa.eu/index_en.htm]</td>\n",
       "      <td>4.363670</td>\n",
       "      <td>grant.8585457</td>\n",
       "      <td>Estimating the Prevalence of AntiMicrobial Res...</td>\n",
       "      <td>2020-01-01</td>\n",
       "      <td>2021-12-31</td>\n",
       "    </tr>\n",
       "    <tr>\n",
       "      <th>2</th>\n",
       "      <td>grid.270680.b</td>\n",
       "      <td>Brussels</td>\n",
       "      <td>[Government]</td>\n",
       "      <td>EC</td>\n",
       "      <td>NaN</td>\n",
       "      <td>50.851650</td>\n",
       "      <td>European Commission</td>\n",
       "      <td>Belgium</td>\n",
       "      <td>[http://ec.europa.eu/index_en.htm]</td>\n",
       "      <td>4.363670</td>\n",
       "      <td>grant.8586121</td>\n",
       "      <td>Earth observation service for preventive contr...</td>\n",
       "      <td>2019-11-01</td>\n",
       "      <td>2022-10-31</td>\n",
       "    </tr>\n",
       "    <tr>\n",
       "      <th>3</th>\n",
       "      <td>grid.454774.1</td>\n",
       "      <td>New Delhi</td>\n",
       "      <td>[Government]</td>\n",
       "      <td>DBT</td>\n",
       "      <td>NaN</td>\n",
       "      <td>28.601473</td>\n",
       "      <td>Department of Biotechnology</td>\n",
       "      <td>India</td>\n",
       "      <td>[http://www.dbtindia.nic.in/]</td>\n",
       "      <td>77.235780</td>\n",
       "      <td>grant.8657420</td>\n",
       "      <td>Translational research and clinical developmen...</td>\n",
       "      <td>2019-10-07</td>\n",
       "      <td>2022-10-07</td>\n",
       "    </tr>\n",
       "    <tr>\n",
       "      <th>4</th>\n",
       "      <td>grid.248883.d</td>\n",
       "      <td>Ottawa</td>\n",
       "      <td>[Government]</td>\n",
       "      <td>CIHR</td>\n",
       "      <td>Ontario</td>\n",
       "      <td>45.381893</td>\n",
       "      <td>Canadian Institutes of Health Research</td>\n",
       "      <td>Canada</td>\n",
       "      <td>[http://www.cihr-irsc.gc.ca/e/193.html]</td>\n",
       "      <td>-75.745224</td>\n",
       "      <td>grant.8527034</td>\n",
       "      <td>Mechanisms of Leishmania dissemination and tra...</td>\n",
       "      <td>2019-10-01</td>\n",
       "      <td>2024-09-30</td>\n",
       "    </tr>\n",
       "    <tr>\n",
       "      <th>5</th>\n",
       "      <td>grid.52788.30</td>\n",
       "      <td>London</td>\n",
       "      <td>[Nonprofit]</td>\n",
       "      <td>WT</td>\n",
       "      <td>NaN</td>\n",
       "      <td>51.525867</td>\n",
       "      <td>Wellcome Trust</td>\n",
       "      <td>United Kingdom</td>\n",
       "      <td>[http://www.wellcome.ac.uk/]</td>\n",
       "      <td>-0.135005</td>\n",
       "      <td>grant.8558648</td>\n",
       "      <td>Molecular mechanisms of carbohydrate uptake in...</td>\n",
       "      <td>2019-10-01</td>\n",
       "      <td>2022-09-30</td>\n",
       "    </tr>\n",
       "    <tr>\n",
       "      <th>6</th>\n",
       "      <td>grid.52788.30</td>\n",
       "      <td>London</td>\n",
       "      <td>[Nonprofit]</td>\n",
       "      <td>WT</td>\n",
       "      <td>NaN</td>\n",
       "      <td>51.525867</td>\n",
       "      <td>Wellcome Trust</td>\n",
       "      <td>United Kingdom</td>\n",
       "      <td>[http://www.wellcome.ac.uk/]</td>\n",
       "      <td>-0.135005</td>\n",
       "      <td>grant.8103743</td>\n",
       "      <td>The Chemical Empire: A New History of Syntheti...</td>\n",
       "      <td>2019-10-01</td>\n",
       "      <td>2023-10-01</td>\n",
       "    </tr>\n",
       "    <tr>\n",
       "      <th>7</th>\n",
       "      <td>grid.425888.b</td>\n",
       "      <td>Bern</td>\n",
       "      <td>[Government]</td>\n",
       "      <td>SNF</td>\n",
       "      <td>NaN</td>\n",
       "      <td>46.949230</td>\n",
       "      <td>Swiss National Science Foundation</td>\n",
       "      <td>Switzerland</td>\n",
       "      <td>[http://www.snf.ch/en]</td>\n",
       "      <td>7.432395</td>\n",
       "      <td>grant.8599112</td>\n",
       "      <td>Gauging Global Governance: The Effectiveness o...</td>\n",
       "      <td>2019-10-01</td>\n",
       "      <td>2022-09-30</td>\n",
       "    </tr>\n",
       "    <tr>\n",
       "      <th>8</th>\n",
       "      <td>grid.270680.b</td>\n",
       "      <td>Brussels</td>\n",
       "      <td>[Government]</td>\n",
       "      <td>EC</td>\n",
       "      <td>NaN</td>\n",
       "      <td>50.851650</td>\n",
       "      <td>European Commission</td>\n",
       "      <td>Belgium</td>\n",
       "      <td>[http://ec.europa.eu/index_en.htm]</td>\n",
       "      <td>4.363670</td>\n",
       "      <td>grant.8585082</td>\n",
       "      <td>Understanding the roles of pathogen infection ...</td>\n",
       "      <td>2019-10-01</td>\n",
       "      <td>2021-09-30</td>\n",
       "    </tr>\n",
       "    <tr>\n",
       "      <th>9</th>\n",
       "      <td>grid.457875.c</td>\n",
       "      <td>Arlington</td>\n",
       "      <td>[Government]</td>\n",
       "      <td>NSF MPS</td>\n",
       "      <td>Virginia</td>\n",
       "      <td>38.880566</td>\n",
       "      <td>Directorate for Mathematical &amp; Physical Sciences</td>\n",
       "      <td>United States</td>\n",
       "      <td>[http://www.nsf.gov/dir/index.jsp?org=MPS]</td>\n",
       "      <td>-77.110990</td>\n",
       "      <td>grant.8566624</td>\n",
       "      <td>Collaborative Research: Principal Component An...</td>\n",
       "      <td>2019-10-01</td>\n",
       "      <td>2022-09-30</td>\n",
       "    </tr>\n",
       "  </tbody>\n",
       "</table>\n",
       "</div>"
      ],
      "text/plain": [
       "              id  city_name         types  acronym state_name   latitude  \\\n",
       "0  grid.421091.f    Swindon  [Government]    EPSRC    England  51.567093   \n",
       "1  grid.270680.b   Brussels  [Government]       EC        NaN  50.851650   \n",
       "2  grid.270680.b   Brussels  [Government]       EC        NaN  50.851650   \n",
       "3  grid.454774.1  New Delhi  [Government]      DBT        NaN  28.601473   \n",
       "4  grid.248883.d     Ottawa  [Government]     CIHR    Ontario  45.381893   \n",
       "5  grid.52788.30     London   [Nonprofit]       WT        NaN  51.525867   \n",
       "6  grid.52788.30     London   [Nonprofit]       WT        NaN  51.525867   \n",
       "7  grid.425888.b       Bern  [Government]      SNF        NaN  46.949230   \n",
       "8  grid.270680.b   Brussels  [Government]       EC        NaN  50.851650   \n",
       "9  grid.457875.c  Arlington  [Government]  NSF MPS   Virginia  38.880566   \n",
       "\n",
       "                                                name    country_name  \\\n",
       "0  Engineering and Physical Sciences Research Cou...  United Kingdom   \n",
       "1                                European Commission         Belgium   \n",
       "2                                European Commission         Belgium   \n",
       "3                        Department of Biotechnology           India   \n",
       "4             Canadian Institutes of Health Research          Canada   \n",
       "5                                     Wellcome Trust  United Kingdom   \n",
       "6                                     Wellcome Trust  United Kingdom   \n",
       "7                  Swiss National Science Foundation     Switzerland   \n",
       "8                                European Commission         Belgium   \n",
       "9   Directorate for Mathematical & Physical Sciences   United States   \n",
       "\n",
       "                                      linkout  longitude       grant_id  \\\n",
       "0                  [https://www.epsrc.ac.uk/]  -1.784602  grant.8558055   \n",
       "1          [http://ec.europa.eu/index_en.htm]   4.363670  grant.8585457   \n",
       "2          [http://ec.europa.eu/index_en.htm]   4.363670  grant.8586121   \n",
       "3               [http://www.dbtindia.nic.in/]  77.235780  grant.8657420   \n",
       "4     [http://www.cihr-irsc.gc.ca/e/193.html] -75.745224  grant.8527034   \n",
       "5                [http://www.wellcome.ac.uk/]  -0.135005  grant.8558648   \n",
       "6                [http://www.wellcome.ac.uk/]  -0.135005  grant.8103743   \n",
       "7                      [http://www.snf.ch/en]   7.432395  grant.8599112   \n",
       "8          [http://ec.europa.eu/index_en.htm]   4.363670  grant.8585082   \n",
       "9  [http://www.nsf.gov/dir/index.jsp?org=MPS] -77.110990  grant.8566624   \n",
       "\n",
       "                                         grant_title grant_start_date  \\\n",
       "0  UK-Africa Postgraduate Advanced Study Institut...       2020-03-31   \n",
       "1  Estimating the Prevalence of AntiMicrobial Res...       2020-01-01   \n",
       "2  Earth observation service for preventive contr...       2019-11-01   \n",
       "3  Translational research and clinical developmen...       2019-10-07   \n",
       "4  Mechanisms of Leishmania dissemination and tra...       2019-10-01   \n",
       "5  Molecular mechanisms of carbohydrate uptake in...       2019-10-01   \n",
       "6  The Chemical Empire: A New History of Syntheti...       2019-10-01   \n",
       "7  Gauging Global Governance: The Effectiveness o...       2019-10-01   \n",
       "8  Understanding the roles of pathogen infection ...       2019-10-01   \n",
       "9  Collaborative Research: Principal Component An...       2019-10-01   \n",
       "\n",
       "  grant_end_date  \n",
       "0     2021-03-30  \n",
       "1     2021-12-31  \n",
       "2     2022-10-31  \n",
       "3     2022-10-07  \n",
       "4     2024-09-30  \n",
       "5     2022-09-30  \n",
       "6     2023-10-01  \n",
       "7     2022-09-30  \n",
       "8     2021-09-30  \n",
       "9     2022-09-30  "
      ]
     },
     "execution_count": 20,
     "metadata": {},
     "output_type": "execute_result"
    }
   ],
   "source": [
    "res.as_dataframe_funders().head(10)"
   ]
  },
  {
   "cell_type": "markdown",
   "metadata": {
    "Collapsed": "false",
    "colab_type": "text",
    "id": "UqanXsrmR4Df"
   },
   "source": [
    "### Extracting investigators: `as_dataframe_investigators`\n",
    "\n",
    "Grant investigators are usually returned by the Dimensions API inside a nested JSON object in the `investigator_details` sub-key. \n",
    "\n",
    "This methods allows to quickly extract that data and return a dataframe with **one row per investigator**.\n",
    "\n",
    "> NOTE: `investigator_details` are not returned by default in a grants query hence one must specify this in the query results"
   ]
  },
  {
   "cell_type": "code",
   "execution_count": 21,
   "metadata": {
    "Collapsed": "false",
    "colab": {
     "base_uri": "https://localhost:8080/",
     "height": 88
    },
    "colab_type": "code",
    "executionInfo": {
     "elapsed": 3591,
     "status": "ok",
     "timestamp": 1574681293076,
     "user": {
      "displayName": "Michele Pasin",
      "photoUrl": "https://lh3.googleusercontent.com/a-/AAuE7mBu8LVjIGgontF2Wax51BoL5KFx8esezX3bUmaa0g=s64",
      "userId": "10309320684375994511"
     },
     "user_tz": 0
    },
    "id": "QZS6TePGR4Df",
    "outputId": "aae7e731-18a0-488f-b65f-111dfab61b8b"
   },
   "outputs": [
    {
     "name": "stdout",
     "output_type": "stream",
     "text": [
      "Returned Grants: 1000 (total = 9204)\n",
      "WARNINGS [1]\n",
      "Field 'project_num' is deprecated in favor of grant_number. Please refer to https://docs.dimensions.ai/dsl/releasenotes.html for more details\n"
     ]
    }
   ],
   "source": [
    "# get a sample list of grants\n",
    "query = \"\"\"search grants for \"malaria\" return grants[basics+investigator_details] limit 1000\"\"\"\n",
    "res = dsl.query(query)"
   ]
  },
  {
   "cell_type": "code",
   "execution_count": 22,
   "metadata": {
    "Collapsed": "false"
   },
   "outputs": [
    {
     "data": {
      "text/html": [
       "<div>\n",
       "<style scoped>\n",
       "    .dataframe tbody tr th:only-of-type {\n",
       "        vertical-align: middle;\n",
       "    }\n",
       "\n",
       "    .dataframe tbody tr th {\n",
       "        vertical-align: top;\n",
       "    }\n",
       "\n",
       "    .dataframe thead th {\n",
       "        text-align: right;\n",
       "    }\n",
       "</style>\n",
       "<table border=\"1\" class=\"dataframe\">\n",
       "  <thead>\n",
       "    <tr style=\"text-align: right;\">\n",
       "      <th></th>\n",
       "      <th>first_name</th>\n",
       "      <th>last_name</th>\n",
       "      <th>middle_name</th>\n",
       "      <th>id</th>\n",
       "      <th>role</th>\n",
       "      <th>affiliations</th>\n",
       "      <th>grant_id</th>\n",
       "      <th>grant_title</th>\n",
       "      <th>grant_start_date</th>\n",
       "      <th>grant_end_date</th>\n",
       "    </tr>\n",
       "  </thead>\n",
       "  <tbody>\n",
       "    <tr>\n",
       "      <th>0</th>\n",
       "      <td>Anotida</td>\n",
       "      <td>Madzvamuse</td>\n",
       "      <td></td>\n",
       "      <td>ur.01301306304.17</td>\n",
       "      <td>PI</td>\n",
       "      <td>[{'country': 'United Kingdom', 'state_code': N...</td>\n",
       "      <td>grant.8558055</td>\n",
       "      <td>UK-Africa Postgraduate Advanced Study Institut...</td>\n",
       "      <td>2020-03-31</td>\n",
       "      <td>2021-03-30</td>\n",
       "    </tr>\n",
       "    <tr>\n",
       "      <th>1</th>\n",
       "      <td>Gift</td>\n",
       "      <td>Muchatibaya</td>\n",
       "      <td></td>\n",
       "      <td>ur.01125437006.53</td>\n",
       "      <td>Co-PI</td>\n",
       "      <td>NaN</td>\n",
       "      <td>grant.8558055</td>\n",
       "      <td>UK-Africa Postgraduate Advanced Study Institut...</td>\n",
       "      <td>2020-03-31</td>\n",
       "      <td>2021-03-30</td>\n",
       "    </tr>\n",
       "    <tr>\n",
       "      <th>2</th>\n",
       "      <td>Farai</td>\n",
       "      <td>Nyabadza</td>\n",
       "      <td></td>\n",
       "      <td>ur.016431672433.40</td>\n",
       "      <td>Co-PI</td>\n",
       "      <td>[{'country': 'South Africa', 'state_code': Non...</td>\n",
       "      <td>grant.8558055</td>\n",
       "      <td>UK-Africa Postgraduate Advanced Study Institut...</td>\n",
       "      <td>2020-03-31</td>\n",
       "      <td>2021-03-30</td>\n",
       "    </tr>\n",
       "    <tr>\n",
       "      <th>3</th>\n",
       "      <td>Zindoga</td>\n",
       "      <td>Mukandavire</td>\n",
       "      <td></td>\n",
       "      <td>ur.01176116461.04</td>\n",
       "      <td>Co-PI</td>\n",
       "      <td>NaN</td>\n",
       "      <td>grant.8558055</td>\n",
       "      <td>UK-Africa Postgraduate Advanced Study Institut...</td>\n",
       "      <td>2020-03-31</td>\n",
       "      <td>2021-03-30</td>\n",
       "    </tr>\n",
       "    <tr>\n",
       "      <th>4</th>\n",
       "      <td>Jasmina</td>\n",
       "      <td>Panovska-Griffiths</td>\n",
       "      <td></td>\n",
       "      <td>ur.01037661532.12</td>\n",
       "      <td>Co-PI</td>\n",
       "      <td>NaN</td>\n",
       "      <td>grant.8558055</td>\n",
       "      <td>UK-Africa Postgraduate Advanced Study Institut...</td>\n",
       "      <td>2020-03-31</td>\n",
       "      <td>2021-03-30</td>\n",
       "    </tr>\n",
       "    <tr>\n",
       "      <th>5</th>\n",
       "      <td>Edward</td>\n",
       "      <td>Lungu</td>\n",
       "      <td></td>\n",
       "      <td>ur.0644520733.99</td>\n",
       "      <td>Co-PI</td>\n",
       "      <td>NaN</td>\n",
       "      <td>grant.8558055</td>\n",
       "      <td>UK-Africa Postgraduate Advanced Study Institut...</td>\n",
       "      <td>2020-03-31</td>\n",
       "      <td>2021-03-30</td>\n",
       "    </tr>\n",
       "    <tr>\n",
       "      <th>6</th>\n",
       "      <td>Hatson John Boscoh</td>\n",
       "      <td>Njagarah</td>\n",
       "      <td></td>\n",
       "      <td>ur.010541731643.13</td>\n",
       "      <td>Co-PI</td>\n",
       "      <td>NaN</td>\n",
       "      <td>grant.8558055</td>\n",
       "      <td>UK-Africa Postgraduate Advanced Study Institut...</td>\n",
       "      <td>2020-03-31</td>\n",
       "      <td>2021-03-30</td>\n",
       "    </tr>\n",
       "    <tr>\n",
       "      <th>7</th>\n",
       "      <td>Eduard</td>\n",
       "      <td>Campillo Funollet</td>\n",
       "      <td></td>\n",
       "      <td>ur.014162252725.80</td>\n",
       "      <td>Co-PI</td>\n",
       "      <td>[{'country': 'United Kingdom', 'state_code': N...</td>\n",
       "      <td>grant.8558055</td>\n",
       "      <td>UK-Africa Postgraduate Advanced Study Institut...</td>\n",
       "      <td>2020-03-31</td>\n",
       "      <td>2021-03-30</td>\n",
       "    </tr>\n",
       "    <tr>\n",
       "      <th>8</th>\n",
       "      <td>K</td>\n",
       "      <td>White</td>\n",
       "      <td></td>\n",
       "      <td>ur.015153160033.34</td>\n",
       "      <td>Co-PI</td>\n",
       "      <td>NaN</td>\n",
       "      <td>grant.8558055</td>\n",
       "      <td>UK-Africa Postgraduate Advanced Study Institut...</td>\n",
       "      <td>2020-03-31</td>\n",
       "      <td>2021-03-30</td>\n",
       "    </tr>\n",
       "    <tr>\n",
       "      <th>9</th>\n",
       "      <td>Istvan</td>\n",
       "      <td>Kiss</td>\n",
       "      <td>Zoltan</td>\n",
       "      <td>ur.016546121033.78</td>\n",
       "      <td>Co-PI</td>\n",
       "      <td>[{'country': 'United Kingdom', 'state_code': N...</td>\n",
       "      <td>grant.8558055</td>\n",
       "      <td>UK-Africa Postgraduate Advanced Study Institut...</td>\n",
       "      <td>2020-03-31</td>\n",
       "      <td>2021-03-30</td>\n",
       "    </tr>\n",
       "  </tbody>\n",
       "</table>\n",
       "</div>"
      ],
      "text/plain": [
       "           first_name           last_name middle_name                  id  \\\n",
       "0             Anotida          Madzvamuse               ur.01301306304.17   \n",
       "1                Gift         Muchatibaya               ur.01125437006.53   \n",
       "2               Farai            Nyabadza              ur.016431672433.40   \n",
       "3             Zindoga         Mukandavire               ur.01176116461.04   \n",
       "4             Jasmina  Panovska-Griffiths               ur.01037661532.12   \n",
       "5              Edward               Lungu                ur.0644520733.99   \n",
       "6  Hatson John Boscoh            Njagarah              ur.010541731643.13   \n",
       "7              Eduard   Campillo Funollet              ur.014162252725.80   \n",
       "8                   K               White              ur.015153160033.34   \n",
       "9              Istvan                Kiss      Zoltan  ur.016546121033.78   \n",
       "\n",
       "    role                                       affiliations       grant_id  \\\n",
       "0     PI  [{'country': 'United Kingdom', 'state_code': N...  grant.8558055   \n",
       "1  Co-PI                                                NaN  grant.8558055   \n",
       "2  Co-PI  [{'country': 'South Africa', 'state_code': Non...  grant.8558055   \n",
       "3  Co-PI                                                NaN  grant.8558055   \n",
       "4  Co-PI                                                NaN  grant.8558055   \n",
       "5  Co-PI                                                NaN  grant.8558055   \n",
       "6  Co-PI                                                NaN  grant.8558055   \n",
       "7  Co-PI  [{'country': 'United Kingdom', 'state_code': N...  grant.8558055   \n",
       "8  Co-PI                                                NaN  grant.8558055   \n",
       "9  Co-PI  [{'country': 'United Kingdom', 'state_code': N...  grant.8558055   \n",
       "\n",
       "                                         grant_title grant_start_date  \\\n",
       "0  UK-Africa Postgraduate Advanced Study Institut...       2020-03-31   \n",
       "1  UK-Africa Postgraduate Advanced Study Institut...       2020-03-31   \n",
       "2  UK-Africa Postgraduate Advanced Study Institut...       2020-03-31   \n",
       "3  UK-Africa Postgraduate Advanced Study Institut...       2020-03-31   \n",
       "4  UK-Africa Postgraduate Advanced Study Institut...       2020-03-31   \n",
       "5  UK-Africa Postgraduate Advanced Study Institut...       2020-03-31   \n",
       "6  UK-Africa Postgraduate Advanced Study Institut...       2020-03-31   \n",
       "7  UK-Africa Postgraduate Advanced Study Institut...       2020-03-31   \n",
       "8  UK-Africa Postgraduate Advanced Study Institut...       2020-03-31   \n",
       "9  UK-Africa Postgraduate Advanced Study Institut...       2020-03-31   \n",
       "\n",
       "  grant_end_date  \n",
       "0     2021-03-30  \n",
       "1     2021-03-30  \n",
       "2     2021-03-30  \n",
       "3     2021-03-30  \n",
       "4     2021-03-30  \n",
       "5     2021-03-30  \n",
       "6     2021-03-30  \n",
       "7     2021-03-30  \n",
       "8     2021-03-30  \n",
       "9     2021-03-30  "
      ]
     },
     "execution_count": 22,
     "metadata": {},
     "output_type": "execute_result"
    }
   ],
   "source": [
    "res.as_dataframe_investigators().head(10)"
   ]
  },
  {
   "cell_type": "markdown",
   "metadata": {
    "Collapsed": "false",
    "colab_type": "text",
    "id": "WkolG6VKR4Dj"
   },
   "source": [
    "## Conclusions \n",
    "\n",
    "Moving Dimensions API results to pandas dataframes **makes it easier** to **analyze the data** and **answer research questions**. \n",
    "\n",
    "Note: the examples above only scratch the surface of what can be done with pandas! "
   ]
  }
 ],
 "metadata": {
  "colab": {
   "collapsed_sections": [],
   "name": "3-Working-with-dataframes.ipynb",
   "provenance": [],
   "toc_visible": true
  },
  "kernel_info": {
   "name": "python3"
  },
  "kernelspec": {
   "display_name": "Python 3",
   "language": "python",
   "name": "python3"
  },
  "language_info": {
   "codemirror_mode": {
    "name": "ipython",
    "version": 3
   },
   "file_extension": ".py",
   "mimetype": "text/x-python",
   "name": "python",
   "nbconvert_exporter": "python",
   "pygments_lexer": "ipython3",
   "version": "3.7.4"
  },
  "nteract": {
   "version": "0.14.5"
  }
 },
 "nbformat": 4,
 "nbformat_minor": 4
}
