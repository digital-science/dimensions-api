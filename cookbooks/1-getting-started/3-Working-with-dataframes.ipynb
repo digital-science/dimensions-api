{
 "cells": [
  {
   "cell_type": "markdown",
   "metadata": {
    "Collapsed": "false",
    "colab_type": "text",
    "id": "8XNB2EeXR4DA"
   },
   "source": [
    "# The Dimcli Python library: Working with Pandas Dataframes\n",
    "\n",
    "[Dimcli](https://github.com/lambdamusic/dimcli) includes a few utilities that make it easier to transform Dimensions JSON data into Pandas [dataframe objects](https://pandas.pydata.org/pandas-docs/stable/getting_started/dsintro.html#dataframe). \n",
    "\n",
    "Dataframes are then easy to sort, analyse, export as CSV and use within visualisation softwares.\n",
    "\n",
    ">  [pandas](https://pandas.pydata.org/pandas-docs/stable/) is a popular software library written for the Python programming language for data manipulation and analysis.\n"
   ]
  },
  {
   "cell_type": "markdown",
   "metadata": {
    "Collapsed": "false",
    "colab_type": "text",
    "id": "hMaQlB7DG8Vw"
   },
   "source": [
    "## Prerequisites\n",
    "\n",
    "This notebook assumes you have installed the [Dimcli](https://pypi.org/project/dimcli/) library and are familiar with the *Getting Started* tutorial.\n"
   ]
  },
  {
   "cell_type": "code",
   "execution_count": 1,
   "metadata": {
    "Collapsed": "false"
   },
   "outputs": [
    {
     "name": "stdout",
     "output_type": "stream",
     "text": [
      "==\n",
      "Logging in..\n",
      "Dimcli - Dimensions API Client (v0.7)\n",
      "Connected to: https://app.dimensions.ai - DSL v1.25\n",
      "Method: dsl.ini file\n"
     ]
    }
   ],
   "source": [
    "!pip install dimcli --quiet \n",
    "\n",
    "import dimcli\n",
    "from dimcli.shortcuts import *\n",
    "import json\n",
    "import sys\n",
    "import pandas as pd\n",
    "#\n",
    "\n",
    "print(\"==\\nLogging in..\")\n",
    "# https://github.com/digital-science/dimcli#authentication\n",
    "ENDPOINT = \"https://app.dimensions.ai\"\n",
    "if 'google.colab' in sys.modules:\n",
    "  import getpass\n",
    "  USERNAME = getpass.getpass(prompt='Username: ')\n",
    "  PASSWORD = getpass.getpass(prompt='Password: ')    \n",
    "  dimcli.login(USERNAME, PASSWORD, ENDPOINT)\n",
    "else:\n",
    "  USERNAME, PASSWORD  = \"\", \"\"\n",
    "  dimcli.login(USERNAME, PASSWORD, ENDPOINT)\n",
    "dsl = dimcli.Dsl()"
   ]
  },
  {
   "cell_type": "markdown",
   "metadata": {
    "Collapsed": "false",
    "colab_type": "text",
    "id": "oMLG9WL0R4DE"
   },
   "source": [
    "## 1. General method to transform JSON query results into a dataframe \n",
    "\n",
    "The `DslDataset.as_dataframe` method allows to quickly turn any query results into a dataframe. "
   ]
  },
  {
   "cell_type": "code",
   "execution_count": 2,
   "metadata": {
    "Collapsed": "false",
    "colab": {
     "base_uri": "https://localhost:8080/",
     "height": 34
    },
    "colab_type": "code",
    "executionInfo": {
     "elapsed": 3008,
     "status": "ok",
     "timestamp": 1574681077688,
     "user": {
      "displayName": "Michele Pasin",
      "photoUrl": "https://lh3.googleusercontent.com/a-/AAuE7mBu8LVjIGgontF2Wax51BoL5KFx8esezX3bUmaa0g=s64",
      "userId": "10309320684375994511"
     },
     "user_tz": 0
    },
    "id": "19qgos2dR4DF",
    "outputId": "a4bdf8a3-a760-4b80-cb1d-fb89b6cf08ca"
   },
   "outputs": [
    {
     "name": "stdout",
     "output_type": "stream",
     "text": [
      "Returned Publications: 1000 (total = 425229)\n"
     ]
    }
   ],
   "source": [
    "# we'll reuse this query later on \n",
    "query = \"\"\"search publications for \"graphene\" \n",
    "            where year in [2013:2019] \n",
    "            return publications sort by times_cited limit 1000\"\"\"\n",
    "res = dsl.query(query)"
   ]
  },
  {
   "cell_type": "code",
   "execution_count": 3,
   "metadata": {
    "Collapsed": "false",
    "colab": {
     "base_uri": "https://localhost:8080/",
     "height": 1000
    },
    "colab_type": "code",
    "executionInfo": {
     "elapsed": 1346,
     "status": "ok",
     "timestamp": 1574681079469,
     "user": {
      "displayName": "Michele Pasin",
      "photoUrl": "https://lh3.googleusercontent.com/a-/AAuE7mBu8LVjIGgontF2Wax51BoL5KFx8esezX3bUmaa0g=s64",
      "userId": "10309320684375994511"
     },
     "user_tz": 0
    },
    "id": "6LCGKJPwR4DG",
    "outputId": "b0b6e7e6-10de-4a17-e037-33083352fc8f"
   },
   "outputs": [
    {
     "data": {
      "text/html": [
       "<div>\n",
       "<style scoped>\n",
       "    .dataframe tbody tr th:only-of-type {\n",
       "        vertical-align: middle;\n",
       "    }\n",
       "\n",
       "    .dataframe tbody tr th {\n",
       "        vertical-align: top;\n",
       "    }\n",
       "\n",
       "    .dataframe thead th {\n",
       "        text-align: right;\n",
       "    }\n",
       "</style>\n",
       "<table border=\"1\" class=\"dataframe\">\n",
       "  <thead>\n",
       "    <tr style=\"text-align: right;\">\n",
       "      <th></th>\n",
       "      <th>title</th>\n",
       "      <th>author_affiliations</th>\n",
       "      <th>volume</th>\n",
       "      <th>issue</th>\n",
       "      <th>pages</th>\n",
       "      <th>type</th>\n",
       "      <th>year</th>\n",
       "      <th>id</th>\n",
       "      <th>journal.id</th>\n",
       "      <th>journal.title</th>\n",
       "    </tr>\n",
       "  </thead>\n",
       "  <tbody>\n",
       "    <tr>\n",
       "      <th>0</th>\n",
       "      <td>The chemistry of two-dimensional layered trans...</td>\n",
       "      <td>[[{'first_name': 'Manish', 'last_name': 'Chhow...</td>\n",
       "      <td>5</td>\n",
       "      <td>4</td>\n",
       "      <td>263-275</td>\n",
       "      <td>article</td>\n",
       "      <td>2013</td>\n",
       "      <td>pub.1050119463</td>\n",
       "      <td>jour.1041224</td>\n",
       "      <td>Nature Chemistry</td>\n",
       "    </tr>\n",
       "    <tr>\n",
       "      <th>1</th>\n",
       "      <td>Van der Waals heterostructures</td>\n",
       "      <td>[[{'first_name': 'A. K.', 'last_name': 'Geim',...</td>\n",
       "      <td>499</td>\n",
       "      <td>7459</td>\n",
       "      <td>419-425</td>\n",
       "      <td>article</td>\n",
       "      <td>2013</td>\n",
       "      <td>pub.1024857999</td>\n",
       "      <td>jour.1018957</td>\n",
       "      <td>Nature</td>\n",
       "    </tr>\n",
       "    <tr>\n",
       "      <th>2</th>\n",
       "      <td>Interface engineering of highly efficient pero...</td>\n",
       "      <td>[[{'first_name': 'Huanping', 'last_name': 'Zho...</td>\n",
       "      <td>345</td>\n",
       "      <td>6196</td>\n",
       "      <td>542-546</td>\n",
       "      <td>article</td>\n",
       "      <td>2014</td>\n",
       "      <td>pub.1004394295</td>\n",
       "      <td>jour.1346339</td>\n",
       "      <td>Science</td>\n",
       "    </tr>\n",
       "    <tr>\n",
       "      <th>3</th>\n",
       "      <td>Black phosphorus field-effect transistors</td>\n",
       "      <td>[[{'first_name': 'Likai', 'last_name': 'Li', '...</td>\n",
       "      <td>9</td>\n",
       "      <td>5</td>\n",
       "      <td>372-377</td>\n",
       "      <td>article</td>\n",
       "      <td>2014</td>\n",
       "      <td>pub.1032956475</td>\n",
       "      <td>jour.1037429</td>\n",
       "      <td>Nature Nanotechnology</td>\n",
       "    </tr>\n",
       "    <tr>\n",
       "      <th>4</th>\n",
       "      <td>The Li-ion rechargeable battery: a perspective.</td>\n",
       "      <td>[[{'first_name': 'John B.', 'last_name': 'Good...</td>\n",
       "      <td>135</td>\n",
       "      <td>4</td>\n",
       "      <td>1167-76</td>\n",
       "      <td>article</td>\n",
       "      <td>2013</td>\n",
       "      <td>pub.1019126274</td>\n",
       "      <td>jour.1081898</td>\n",
       "      <td>Journal of the American Chemical Society</td>\n",
       "    </tr>\n",
       "    <tr>\n",
       "      <th>5</th>\n",
       "      <td>Nanoenergy, Nanotechnology Applied for Energy ...</td>\n",
       "      <td>NaN</td>\n",
       "      <td>NaN</td>\n",
       "      <td>NaN</td>\n",
       "      <td>NaN</td>\n",
       "      <td>book</td>\n",
       "      <td>2013</td>\n",
       "      <td>pub.1031762191</td>\n",
       "      <td>NaN</td>\n",
       "      <td>NaN</td>\n",
       "    </tr>\n",
       "    <tr>\n",
       "      <th>6</th>\n",
       "      <td>Phosphorene: an unexplored 2D semiconductor wi...</td>\n",
       "      <td>[[{'first_name': 'Han', 'last_name': 'Liu', 'i...</td>\n",
       "      <td>8</td>\n",
       "      <td>4</td>\n",
       "      <td>4033-41</td>\n",
       "      <td>article</td>\n",
       "      <td>2014</td>\n",
       "      <td>pub.1009826879</td>\n",
       "      <td>jour.1038917</td>\n",
       "      <td>ACS Nano</td>\n",
       "    </tr>\n",
       "    <tr>\n",
       "      <th>7</th>\n",
       "      <td>Raman spectroscopy as a versatile tool for stu...</td>\n",
       "      <td>[[{'first_name': 'Andrea C.', 'last_name': 'Fe...</td>\n",
       "      <td>8</td>\n",
       "      <td>4</td>\n",
       "      <td>235-246</td>\n",
       "      <td>article</td>\n",
       "      <td>2013</td>\n",
       "      <td>pub.1015305822</td>\n",
       "      <td>jour.1037429</td>\n",
       "      <td>Nature Nanotechnology</td>\n",
       "    </tr>\n",
       "    <tr>\n",
       "      <th>8</th>\n",
       "      <td>Carbon Nanotubes: Present and Future Commercia...</td>\n",
       "      <td>[[{'first_name': 'Michael F. L.', 'last_name':...</td>\n",
       "      <td>339</td>\n",
       "      <td>6119</td>\n",
       "      <td>535-539</td>\n",
       "      <td>article</td>\n",
       "      <td>2013</td>\n",
       "      <td>pub.1007405937</td>\n",
       "      <td>jour.1346339</td>\n",
       "      <td>Science</td>\n",
       "    </tr>\n",
       "    <tr>\n",
       "      <th>9</th>\n",
       "      <td>The emergence of perovskite solar cells</td>\n",
       "      <td>[[{'first_name': 'Martin A.', 'last_name': 'Gr...</td>\n",
       "      <td>8</td>\n",
       "      <td>7</td>\n",
       "      <td>506-514</td>\n",
       "      <td>article</td>\n",
       "      <td>2014</td>\n",
       "      <td>pub.1045181228</td>\n",
       "      <td>jour.1037430</td>\n",
       "      <td>Nature Photonics</td>\n",
       "    </tr>\n",
       "  </tbody>\n",
       "</table>\n",
       "</div>"
      ],
      "text/plain": [
       "                                               title  \\\n",
       "0  The chemistry of two-dimensional layered trans...   \n",
       "1                     Van der Waals heterostructures   \n",
       "2  Interface engineering of highly efficient pero...   \n",
       "3          Black phosphorus field-effect transistors   \n",
       "4    The Li-ion rechargeable battery: a perspective.   \n",
       "5  Nanoenergy, Nanotechnology Applied for Energy ...   \n",
       "6  Phosphorene: an unexplored 2D semiconductor wi...   \n",
       "7  Raman spectroscopy as a versatile tool for stu...   \n",
       "8  Carbon Nanotubes: Present and Future Commercia...   \n",
       "9            The emergence of perovskite solar cells   \n",
       "\n",
       "                                 author_affiliations volume issue    pages  \\\n",
       "0  [[{'first_name': 'Manish', 'last_name': 'Chhow...      5     4  263-275   \n",
       "1  [[{'first_name': 'A. K.', 'last_name': 'Geim',...    499  7459  419-425   \n",
       "2  [[{'first_name': 'Huanping', 'last_name': 'Zho...    345  6196  542-546   \n",
       "3  [[{'first_name': 'Likai', 'last_name': 'Li', '...      9     5  372-377   \n",
       "4  [[{'first_name': 'John B.', 'last_name': 'Good...    135     4  1167-76   \n",
       "5                                                NaN    NaN   NaN      NaN   \n",
       "6  [[{'first_name': 'Han', 'last_name': 'Liu', 'i...      8     4  4033-41   \n",
       "7  [[{'first_name': 'Andrea C.', 'last_name': 'Fe...      8     4  235-246   \n",
       "8  [[{'first_name': 'Michael F. L.', 'last_name':...    339  6119  535-539   \n",
       "9  [[{'first_name': 'Martin A.', 'last_name': 'Gr...      8     7  506-514   \n",
       "\n",
       "      type  year              id    journal.id  \\\n",
       "0  article  2013  pub.1050119463  jour.1041224   \n",
       "1  article  2013  pub.1024857999  jour.1018957   \n",
       "2  article  2014  pub.1004394295  jour.1346339   \n",
       "3  article  2014  pub.1032956475  jour.1037429   \n",
       "4  article  2013  pub.1019126274  jour.1081898   \n",
       "5     book  2013  pub.1031762191           NaN   \n",
       "6  article  2014  pub.1009826879  jour.1038917   \n",
       "7  article  2013  pub.1015305822  jour.1037429   \n",
       "8  article  2013  pub.1007405937  jour.1346339   \n",
       "9  article  2014  pub.1045181228  jour.1037430   \n",
       "\n",
       "                              journal.title  \n",
       "0                          Nature Chemistry  \n",
       "1                                    Nature  \n",
       "2                                   Science  \n",
       "3                     Nature Nanotechnology  \n",
       "4  Journal of the American Chemical Society  \n",
       "5                                       NaN  \n",
       "6                                  ACS Nano  \n",
       "7                     Nature Nanotechnology  \n",
       "8                                   Science  \n",
       "9                          Nature Photonics  "
      ]
     },
     "execution_count": 3,
     "metadata": {},
     "output_type": "execute_result"
    }
   ],
   "source": [
    "df = res.as_dataframe()\n",
    "df.head(10)"
   ]
  },
  {
   "cell_type": "markdown",
   "metadata": {
    "Collapsed": "false",
    "colab_type": "text",
    "id": "tCq1lF6HR4DI"
   },
   "source": [
    "Pandas dataframes offer a myriad of utilities for inspecting data. Check out the [official docs](https://pandas.pydata.org/pandas-docs/stable/getting_started/10min.html) or google a [pandas tutorial](https://www.google.com/search?q=pandas+tutorial) to lean more about it. "
   ]
  },
  {
   "cell_type": "code",
   "execution_count": 4,
   "metadata": {
    "Collapsed": "false",
    "colab": {
     "base_uri": "https://localhost:8080/",
     "height": 34
    },
    "colab_type": "code",
    "executionInfo": {
     "elapsed": 1124,
     "status": "ok",
     "timestamp": 1574681118435,
     "user": {
      "displayName": "Michele Pasin",
      "photoUrl": "https://lh3.googleusercontent.com/a-/AAuE7mBu8LVjIGgontF2Wax51BoL5KFx8esezX3bUmaa0g=s64",
      "userId": "10309320684375994511"
     },
     "user_tz": 0
    },
    "id": "k_3GoeDkR4DJ",
    "outputId": "04323988-d055-4928-80f9-b283b34c8328"
   },
   "outputs": [
    {
     "data": {
      "text/plain": [
       "(1000, 10)"
      ]
     },
     "execution_count": 4,
     "metadata": {},
     "output_type": "execute_result"
    }
   ],
   "source": [
    "# the table shape\n",
    "df.shape"
   ]
  },
  {
   "cell_type": "code",
   "execution_count": 5,
   "metadata": {
    "Collapsed": "false",
    "colab": {
     "base_uri": "https://localhost:8080/",
     "height": 136
    },
    "colab_type": "code",
    "executionInfo": {
     "elapsed": 929,
     "status": "ok",
     "timestamp": 1574681130276,
     "user": {
      "displayName": "Michele Pasin",
      "photoUrl": "https://lh3.googleusercontent.com/a-/AAuE7mBu8LVjIGgontF2Wax51BoL5KFx8esezX3bUmaa0g=s64",
      "userId": "10309320684375994511"
     },
     "user_tz": 0
    },
    "id": "CjvMBNCBR4DK",
    "outputId": "771e011c-1a06-43d4-a12c-851e9edacce0"
   },
   "outputs": [
    {
     "data": {
      "text/plain": [
       "2013    324\n",
       "2014    299\n",
       "2015    210\n",
       "2016    105\n",
       "2017     50\n",
       "2018     11\n",
       "2019      1\n",
       "Name: year, dtype: int64"
      ]
     },
     "execution_count": 5,
     "metadata": {},
     "output_type": "execute_result"
    }
   ],
   "source": [
    "# the 'value_counts' method returns the distribution of a specific field eg publication [years]\n",
    "df['year'].value_counts()"
   ]
  },
  {
   "cell_type": "code",
   "execution_count": 6,
   "metadata": {
    "Collapsed": "false",
    "colab": {
     "base_uri": "https://localhost:8080/",
     "height": 102
    },
    "colab_type": "code",
    "executionInfo": {
     "elapsed": 817,
     "status": "ok",
     "timestamp": 1574681132393,
     "user": {
      "displayName": "Michele Pasin",
      "photoUrl": "https://lh3.googleusercontent.com/a-/AAuE7mBu8LVjIGgontF2Wax51BoL5KFx8esezX3bUmaa0g=s64",
      "userId": "10309320684375994511"
     },
     "user_tz": 0
    },
    "id": "vndAnGmyR4DM",
    "outputId": "68301915-01d4-46fc-ddb2-5fa23f768e3f"
   },
   "outputs": [
    {
     "data": {
      "text/plain": [
       "article    997\n",
       "book         2\n",
       "chapter      1\n",
       "Name: type, dtype: int64"
      ]
     },
     "execution_count": 6,
     "metadata": {},
     "output_type": "execute_result"
    }
   ],
   "source": [
    "# eg distribution of publication [type]\n",
    "df['type'].value_counts()"
   ]
  },
  {
   "cell_type": "markdown",
   "metadata": {
    "Collapsed": "false",
    "colab_type": "text",
    "id": "ye1VswB3R4DO"
   },
   "source": [
    "## 2. Dataframe Methods for 'Publications' queries\n",
    "\n",
    "What follows are specialized versions of the `as_dataframe` method for results sets composed of publication records. "
   ]
  },
  {
   "cell_type": "markdown",
   "metadata": {
    "Collapsed": "false",
    "colab_type": "text",
    "id": "j75inlUMR4DO"
   },
   "source": [
    "###  Extracting authors: `as_dataframe_authors`\n",
    "\n",
    "Publications authors are usually returned by the Dimensions API inside a nested JSON object in the `authors_affiliations` sub-key. \n",
    "\n",
    "> Note: the order of authors in the JSON is consistent with the ordering of authors in the original publication\n",
    "\n",
    "This methods allows to quickly extract that data and return a dataframe with **one row per author**."
   ]
  },
  {
   "cell_type": "code",
   "execution_count": 7,
   "metadata": {
    "Collapsed": "false",
    "colab": {
     "base_uri": "https://localhost:8080/",
     "height": 1000
    },
    "colab_type": "code",
    "executionInfo": {
     "elapsed": 940,
     "status": "ok",
     "timestamp": 1574681159951,
     "user": {
      "displayName": "Michele Pasin",
      "photoUrl": "https://lh3.googleusercontent.com/a-/AAuE7mBu8LVjIGgontF2Wax51BoL5KFx8esezX3bUmaa0g=s64",
      "userId": "10309320684375994511"
     },
     "user_tz": 0
    },
    "id": "0_KbE4ylR4DP",
    "outputId": "d5ad1426-b64b-4b64-d76f-6c1fb05348d7"
   },
   "outputs": [
    {
     "data": {
      "text/html": [
       "<div>\n",
       "<style scoped>\n",
       "    .dataframe tbody tr th:only-of-type {\n",
       "        vertical-align: middle;\n",
       "    }\n",
       "\n",
       "    .dataframe tbody tr th {\n",
       "        vertical-align: top;\n",
       "    }\n",
       "\n",
       "    .dataframe thead th {\n",
       "        text-align: right;\n",
       "    }\n",
       "</style>\n",
       "<table border=\"1\" class=\"dataframe\">\n",
       "  <thead>\n",
       "    <tr style=\"text-align: right;\">\n",
       "      <th></th>\n",
       "      <th>first_name</th>\n",
       "      <th>last_name</th>\n",
       "      <th>initials</th>\n",
       "      <th>corresponding</th>\n",
       "      <th>orcid</th>\n",
       "      <th>current_organization_id</th>\n",
       "      <th>researcher_id</th>\n",
       "      <th>affiliations</th>\n",
       "      <th>pub_id</th>\n",
       "    </tr>\n",
       "  </thead>\n",
       "  <tbody>\n",
       "    <tr>\n",
       "      <th>0</th>\n",
       "      <td>Manish</td>\n",
       "      <td>Chhowalla</td>\n",
       "      <td></td>\n",
       "      <td>True</td>\n",
       "      <td></td>\n",
       "      <td>grid.5335.0</td>\n",
       "      <td>ur.0633062306.03</td>\n",
       "      <td>[{'id': 'grid.430387.b', 'name': 'Rutgers, The...</td>\n",
       "      <td>pub.1050119463</td>\n",
       "    </tr>\n",
       "    <tr>\n",
       "      <th>1</th>\n",
       "      <td>Hyeon Suk</td>\n",
       "      <td>Shin</td>\n",
       "      <td></td>\n",
       "      <td></td>\n",
       "      <td></td>\n",
       "      <td>grid.42687.3f</td>\n",
       "      <td>ur.07617630407.83</td>\n",
       "      <td>[{'id': 'grid.42687.3f', 'name': 'Ulsan Nation...</td>\n",
       "      <td>pub.1050119463</td>\n",
       "    </tr>\n",
       "    <tr>\n",
       "      <th>2</th>\n",
       "      <td>Goki</td>\n",
       "      <td>Eda</td>\n",
       "      <td></td>\n",
       "      <td></td>\n",
       "      <td></td>\n",
       "      <td>grid.4280.e</td>\n",
       "      <td>ur.01150450507.27</td>\n",
       "      <td>[{'id': 'grid.4280.e', 'name': 'National Unive...</td>\n",
       "      <td>pub.1050119463</td>\n",
       "    </tr>\n",
       "    <tr>\n",
       "      <th>3</th>\n",
       "      <td>Lain-Jong</td>\n",
       "      <td>Li</td>\n",
       "      <td></td>\n",
       "      <td></td>\n",
       "      <td>['0000-0002-4059-7783']</td>\n",
       "      <td>grid.45672.32</td>\n",
       "      <td>ur.01313340113.13</td>\n",
       "      <td>[{'id': 'grid.28665.3f', 'name': 'Academia Sin...</td>\n",
       "      <td>pub.1050119463</td>\n",
       "    </tr>\n",
       "    <tr>\n",
       "      <th>4</th>\n",
       "      <td>Kian Ping</td>\n",
       "      <td>Loh</td>\n",
       "      <td></td>\n",
       "      <td></td>\n",
       "      <td>['0000-0002-1491-743X']</td>\n",
       "      <td>grid.4280.e</td>\n",
       "      <td>ur.0752174033.73</td>\n",
       "      <td>[{'id': 'grid.4280.e', 'name': 'National Unive...</td>\n",
       "      <td>pub.1050119463</td>\n",
       "    </tr>\n",
       "  </tbody>\n",
       "</table>\n",
       "</div>"
      ],
      "text/plain": [
       "  first_name  last_name initials corresponding                    orcid  \\\n",
       "0     Manish  Chhowalla                   True                            \n",
       "1  Hyeon Suk       Shin                                                   \n",
       "2       Goki        Eda                                                   \n",
       "3  Lain-Jong         Li                         ['0000-0002-4059-7783']   \n",
       "4  Kian Ping        Loh                         ['0000-0002-1491-743X']   \n",
       "\n",
       "  current_organization_id      researcher_id  \\\n",
       "0             grid.5335.0   ur.0633062306.03   \n",
       "1           grid.42687.3f  ur.07617630407.83   \n",
       "2             grid.4280.e  ur.01150450507.27   \n",
       "3           grid.45672.32  ur.01313340113.13   \n",
       "4             grid.4280.e   ur.0752174033.73   \n",
       "\n",
       "                                        affiliations          pub_id  \n",
       "0  [{'id': 'grid.430387.b', 'name': 'Rutgers, The...  pub.1050119463  \n",
       "1  [{'id': 'grid.42687.3f', 'name': 'Ulsan Nation...  pub.1050119463  \n",
       "2  [{'id': 'grid.4280.e', 'name': 'National Unive...  pub.1050119463  \n",
       "3  [{'id': 'grid.28665.3f', 'name': 'Academia Sin...  pub.1050119463  \n",
       "4  [{'id': 'grid.4280.e', 'name': 'National Unive...  pub.1050119463  "
      ]
     },
     "execution_count": 7,
     "metadata": {},
     "output_type": "execute_result"
    }
   ],
   "source": [
    "authors = res.as_dataframe_authors()\n",
    "authors.head()"
   ]
  },
  {
   "cell_type": "markdown",
   "metadata": {
    "Collapsed": "false",
    "colab_type": "text",
    "id": "N1VtHVQbR4DQ"
   },
   "source": [
    "Using the authors dataframe, we can easily get the top ten values for `current_organization_id`. "
   ]
  },
  {
   "cell_type": "code",
   "execution_count": 8,
   "metadata": {
    "Collapsed": "false",
    "colab": {
     "base_uri": "https://localhost:8080/",
     "height": 204
    },
    "colab_type": "code",
    "executionInfo": {
     "elapsed": 1031,
     "status": "ok",
     "timestamp": 1574681165815,
     "user": {
      "displayName": "Michele Pasin",
      "photoUrl": "https://lh3.googleusercontent.com/a-/AAuE7mBu8LVjIGgontF2Wax51BoL5KFx8esezX3bUmaa0g=s64",
      "userId": "10309320684375994511"
     },
     "user_tz": 0
    },
    "id": "ut6y8Di0R4DR",
    "outputId": "3a56a8d3-f5e2-463e-b367-e53f1f9d70b1"
   },
   "outputs": [
    {
     "data": {
      "text/plain": [
       "                 200\n",
       "grid.168010.e    157\n",
       "grid.59025.3b    136\n",
       "grid.5379.8       88\n",
       "grid.12527.33     83\n",
       "grid.116068.8     83\n",
       "grid.59053.3a     80\n",
       "grid.19006.3e     75\n",
       "grid.13402.34     72\n",
       "grid.5333.6       71\n",
       "Name: current_organization_id, dtype: int64"
      ]
     },
     "execution_count": 8,
     "metadata": {},
     "output_type": "execute_result"
    }
   ],
   "source": [
    "authors['current_organization_id'].value_counts()[:10]"
   ]
  },
  {
   "cell_type": "markdown",
   "metadata": {
    "Collapsed": "false",
    "colab_type": "text",
    "id": "6NpFRYBGR4DS"
   },
   "source": [
    "> Explanation: the most frequent value turns to be grid.59025.3b ie [Nanyang Technological University in Singapore](https://www.grid.ac/institutes/grid.59025.3b). The first result is empty, meaning that for those authors Dimensions has no info about `current_organization_id`. "
   ]
  },
  {
   "cell_type": "markdown",
   "metadata": {
    "Collapsed": "false",
    "colab_type": "text",
    "id": "p2eN2Y8GR4DT"
   },
   "source": [
    "### Extracting Affiliations: `as_dataframe_authors_affiliations`\n",
    "\n",
    "As you can see from the results of the previous section, the `affiliations` of each author is yet another nested JSON object. \n",
    "\n",
    "> Note: the order of affiliations in the JSON is consistent with the affiliations order in the original publication\n",
    "\n",
    "The `as_dataframe_authors_affiliations` method allows to quickly extract that affiliations data and return a dataframe with **one row per affiliation**.\n",
    "\n",
    "This can be useful e.g. if one wants to count research organizations at *the time of writing* (as opposed to `current_organization_id`, which is the *most recent organization* of a researcher). "
   ]
  },
  {
   "cell_type": "code",
   "execution_count": 9,
   "metadata": {
    "Collapsed": "false",
    "colab": {
     "base_uri": "https://localhost:8080/",
     "height": 464
    },
    "colab_type": "code",
    "executionInfo": {
     "elapsed": 1544,
     "status": "ok",
     "timestamp": 1574681203066,
     "user": {
      "displayName": "Michele Pasin",
      "photoUrl": "https://lh3.googleusercontent.com/a-/AAuE7mBu8LVjIGgontF2Wax51BoL5KFx8esezX3bUmaa0g=s64",
      "userId": "10309320684375994511"
     },
     "user_tz": 0
    },
    "id": "fszvKPHdR4DT",
    "outputId": "704b1027-ff46-4417-e3d5-4c5f5e2c20f7"
   },
   "outputs": [
    {
     "data": {
      "text/html": [
       "<div>\n",
       "<style scoped>\n",
       "    .dataframe tbody tr th:only-of-type {\n",
       "        vertical-align: middle;\n",
       "    }\n",
       "\n",
       "    .dataframe tbody tr th {\n",
       "        vertical-align: top;\n",
       "    }\n",
       "\n",
       "    .dataframe thead th {\n",
       "        text-align: right;\n",
       "    }\n",
       "</style>\n",
       "<table border=\"1\" class=\"dataframe\">\n",
       "  <thead>\n",
       "    <tr style=\"text-align: right;\">\n",
       "      <th></th>\n",
       "      <th>aff_id</th>\n",
       "      <th>aff_name</th>\n",
       "      <th>aff_city</th>\n",
       "      <th>aff_city_id</th>\n",
       "      <th>aff_country</th>\n",
       "      <th>aff_country_code</th>\n",
       "      <th>aff_state</th>\n",
       "      <th>aff_state_code</th>\n",
       "      <th>pub_id</th>\n",
       "      <th>researcher_id</th>\n",
       "      <th>first_name</th>\n",
       "      <th>last_name</th>\n",
       "    </tr>\n",
       "  </thead>\n",
       "  <tbody>\n",
       "    <tr>\n",
       "      <th>0</th>\n",
       "      <td>grid.430387.b</td>\n",
       "      <td>Rutgers, The State University of New Jersey</td>\n",
       "      <td>New Brunswick</td>\n",
       "      <td>5.10172e+06</td>\n",
       "      <td>United States</td>\n",
       "      <td>US</td>\n",
       "      <td>New Jersey</td>\n",
       "      <td>US-NJ</td>\n",
       "      <td>pub.1050119463</td>\n",
       "      <td>ur.0633062306.03</td>\n",
       "      <td>Manish</td>\n",
       "      <td>Chhowalla</td>\n",
       "    </tr>\n",
       "    <tr>\n",
       "      <th>1</th>\n",
       "      <td>grid.42687.3f</td>\n",
       "      <td>Ulsan National Institute of Science and Techno...</td>\n",
       "      <td>Ulsan</td>\n",
       "      <td>1.83375e+06</td>\n",
       "      <td>South Korea</td>\n",
       "      <td>KR</td>\n",
       "      <td></td>\n",
       "      <td></td>\n",
       "      <td>pub.1050119463</td>\n",
       "      <td>ur.07617630407.83</td>\n",
       "      <td>Hyeon Suk</td>\n",
       "      <td>Shin</td>\n",
       "    </tr>\n",
       "    <tr>\n",
       "      <th>2</th>\n",
       "      <td>grid.4280.e</td>\n",
       "      <td>National University of Singapore</td>\n",
       "      <td>Singapore</td>\n",
       "      <td>1.88025e+06</td>\n",
       "      <td>Singapore</td>\n",
       "      <td>SG</td>\n",
       "      <td></td>\n",
       "      <td></td>\n",
       "      <td>pub.1050119463</td>\n",
       "      <td>ur.01150450507.27</td>\n",
       "      <td>Goki</td>\n",
       "      <td>Eda</td>\n",
       "    </tr>\n",
       "    <tr>\n",
       "      <th>3</th>\n",
       "      <td>grid.4280.e</td>\n",
       "      <td>National University of Singapore</td>\n",
       "      <td>Singapore</td>\n",
       "      <td>1.88025e+06</td>\n",
       "      <td>Singapore</td>\n",
       "      <td>SG</td>\n",
       "      <td></td>\n",
       "      <td></td>\n",
       "      <td>pub.1050119463</td>\n",
       "      <td>ur.01150450507.27</td>\n",
       "      <td>Goki</td>\n",
       "      <td>Eda</td>\n",
       "    </tr>\n",
       "    <tr>\n",
       "      <th>4</th>\n",
       "      <td>grid.4280.e</td>\n",
       "      <td>National University of Singapore</td>\n",
       "      <td>Singapore</td>\n",
       "      <td>1.88025e+06</td>\n",
       "      <td>Singapore</td>\n",
       "      <td>SG</td>\n",
       "      <td></td>\n",
       "      <td></td>\n",
       "      <td>pub.1050119463</td>\n",
       "      <td>ur.01150450507.27</td>\n",
       "      <td>Goki</td>\n",
       "      <td>Eda</td>\n",
       "    </tr>\n",
       "  </tbody>\n",
       "</table>\n",
       "</div>"
      ],
      "text/plain": [
       "          aff_id                                           aff_name  \\\n",
       "0  grid.430387.b        Rutgers, The State University of New Jersey   \n",
       "1  grid.42687.3f  Ulsan National Institute of Science and Techno...   \n",
       "2    grid.4280.e                   National University of Singapore   \n",
       "3    grid.4280.e                   National University of Singapore   \n",
       "4    grid.4280.e                   National University of Singapore   \n",
       "\n",
       "        aff_city  aff_city_id    aff_country aff_country_code   aff_state  \\\n",
       "0  New Brunswick  5.10172e+06  United States               US  New Jersey   \n",
       "1          Ulsan  1.83375e+06    South Korea               KR               \n",
       "2      Singapore  1.88025e+06      Singapore               SG               \n",
       "3      Singapore  1.88025e+06      Singapore               SG               \n",
       "4      Singapore  1.88025e+06      Singapore               SG               \n",
       "\n",
       "  aff_state_code          pub_id      researcher_id first_name  last_name  \n",
       "0          US-NJ  pub.1050119463   ur.0633062306.03     Manish  Chhowalla  \n",
       "1                 pub.1050119463  ur.07617630407.83  Hyeon Suk       Shin  \n",
       "2                 pub.1050119463  ur.01150450507.27       Goki        Eda  \n",
       "3                 pub.1050119463  ur.01150450507.27       Goki        Eda  \n",
       "4                 pub.1050119463  ur.01150450507.27       Goki        Eda  "
      ]
     },
     "execution_count": 9,
     "metadata": {},
     "output_type": "execute_result"
    }
   ],
   "source": [
    "affiliations = res.as_dataframe_authors_affiliations()\n",
    "affiliations.head()"
   ]
  },
  {
   "cell_type": "code",
   "execution_count": 10,
   "metadata": {
    "Collapsed": "false",
    "colab": {
     "base_uri": "https://localhost:8080/",
     "height": 219
    },
    "colab_type": "code",
    "executionInfo": {
     "elapsed": 797,
     "status": "ok",
     "timestamp": 1574681207520,
     "user": {
      "displayName": "Michele Pasin",
      "photoUrl": "https://lh3.googleusercontent.com/a-/AAuE7mBu8LVjIGgontF2Wax51BoL5KFx8esezX3bUmaa0g=s64",
      "userId": "10309320684375994511"
     },
     "user_tz": 0
    },
    "id": "Ci5OzQyJR4DV",
    "outputId": "35131ce4-d325-4d49-87a3-087198f0fb72"
   },
   "outputs": [
    {
     "data": {
      "text/html": [
       "<div>\n",
       "<style scoped>\n",
       "    .dataframe tbody tr th:only-of-type {\n",
       "        vertical-align: middle;\n",
       "    }\n",
       "\n",
       "    .dataframe tbody tr th {\n",
       "        vertical-align: top;\n",
       "    }\n",
       "\n",
       "    .dataframe thead th {\n",
       "        text-align: right;\n",
       "    }\n",
       "</style>\n",
       "<table border=\"1\" class=\"dataframe\">\n",
       "  <thead>\n",
       "    <tr style=\"text-align: right;\">\n",
       "      <th></th>\n",
       "      <th>aff_id</th>\n",
       "      <th>aff_name</th>\n",
       "      <th>aff_city</th>\n",
       "      <th>aff_city_id</th>\n",
       "      <th>aff_country</th>\n",
       "      <th>aff_country_code</th>\n",
       "      <th>aff_state</th>\n",
       "      <th>aff_state_code</th>\n",
       "      <th>pub_id</th>\n",
       "      <th>researcher_id</th>\n",
       "      <th>first_name</th>\n",
       "      <th>last_name</th>\n",
       "    </tr>\n",
       "  </thead>\n",
       "  <tbody>\n",
       "    <tr>\n",
       "      <th>count</th>\n",
       "      <td>7810</td>\n",
       "      <td>7810</td>\n",
       "      <td>7810</td>\n",
       "      <td>7810</td>\n",
       "      <td>7810</td>\n",
       "      <td>7810</td>\n",
       "      <td>7810</td>\n",
       "      <td>7810</td>\n",
       "      <td>7810</td>\n",
       "      <td>7810</td>\n",
       "      <td>7810</td>\n",
       "      <td>7810</td>\n",
       "    </tr>\n",
       "    <tr>\n",
       "      <th>unique</th>\n",
       "      <td>727</td>\n",
       "      <td>1078</td>\n",
       "      <td>446</td>\n",
       "      <td>448</td>\n",
       "      <td>51</td>\n",
       "      <td>51</td>\n",
       "      <td>53</td>\n",
       "      <td>53</td>\n",
       "      <td>985</td>\n",
       "      <td>4363</td>\n",
       "      <td>3500</td>\n",
       "      <td>2097</td>\n",
       "    </tr>\n",
       "    <tr>\n",
       "      <th>top</th>\n",
       "      <td></td>\n",
       "      <td>Nanyang Technological University</td>\n",
       "      <td></td>\n",
       "      <td></td>\n",
       "      <td>United States</td>\n",
       "      <td>US</td>\n",
       "      <td></td>\n",
       "      <td></td>\n",
       "      <td>pub.1019661721</td>\n",
       "      <td></td>\n",
       "      <td>Yi</td>\n",
       "      <td>Wang</td>\n",
       "    </tr>\n",
       "    <tr>\n",
       "      <th>freq</th>\n",
       "      <td>989</td>\n",
       "      <td>242</td>\n",
       "      <td>989</td>\n",
       "      <td>995</td>\n",
       "      <td>2162</td>\n",
       "      <td>2162</td>\n",
       "      <td>5350</td>\n",
       "      <td>5350</td>\n",
       "      <td>108</td>\n",
       "      <td>185</td>\n",
       "      <td>72</td>\n",
       "      <td>325</td>\n",
       "    </tr>\n",
       "  </tbody>\n",
       "</table>\n",
       "</div>"
      ],
      "text/plain": [
       "       aff_id                          aff_name aff_city aff_city_id  \\\n",
       "count    7810                              7810     7810        7810   \n",
       "unique    727                              1078      446         448   \n",
       "top            Nanyang Technological University                        \n",
       "freq      989                               242      989         995   \n",
       "\n",
       "          aff_country aff_country_code aff_state aff_state_code  \\\n",
       "count            7810             7810      7810           7810   \n",
       "unique             51               51        53             53   \n",
       "top     United States               US                            \n",
       "freq             2162             2162      5350           5350   \n",
       "\n",
       "                pub_id researcher_id first_name last_name  \n",
       "count             7810          7810       7810      7810  \n",
       "unique             985          4363       3500      2097  \n",
       "top     pub.1019661721                       Yi      Wang  \n",
       "freq               108           185         72       325  "
      ]
     },
     "execution_count": 10,
     "metadata": {},
     "output_type": "execute_result"
    }
   ],
   "source": [
    "affiliations.describe(include=\"all\")"
   ]
  },
  {
   "cell_type": "markdown",
   "metadata": {
    "Collapsed": "false",
    "colab_type": "text",
    "id": "at7DTaU5R4DW"
   },
   "source": [
    "Let's get the top ten values for `aff_id`. "
   ]
  },
  {
   "cell_type": "code",
   "execution_count": 11,
   "metadata": {
    "Collapsed": "false",
    "colab": {
     "base_uri": "https://localhost:8080/",
     "height": 204
    },
    "colab_type": "code",
    "executionInfo": {
     "elapsed": 877,
     "status": "ok",
     "timestamp": 1574681214999,
     "user": {
      "displayName": "Michele Pasin",
      "photoUrl": "https://lh3.googleusercontent.com/a-/AAuE7mBu8LVjIGgontF2Wax51BoL5KFx8esezX3bUmaa0g=s64",
      "userId": "10309320684375994511"
     },
     "user_tz": 0
    },
    "id": "o2zUnRg0R4DX",
    "outputId": "d777c549-679c-4623-8cb0-866ec0b4bc4b"
   },
   "outputs": [
    {
     "data": {
      "text/plain": [
       "                 989\n",
       "grid.59025.3b    242\n",
       "grid.168010.e    221\n",
       "grid.19006.3e    135\n",
       "grid.4280.e      116\n",
       "grid.21729.3f    116\n",
       "grid.8217.c      113\n",
       "grid.5379.8      106\n",
       "grid.116068.8    100\n",
       "grid.12527.33     97\n",
       "Name: aff_id, dtype: int64"
      ]
     },
     "execution_count": 11,
     "metadata": {},
     "output_type": "execute_result"
    }
   ],
   "source": [
    "affiliations['aff_id'].value_counts()[:10]"
   ]
  },
  {
   "cell_type": "markdown",
   "metadata": {
    "Collapsed": "false",
    "colab_type": "text",
    "id": "aPQNuTpuR4DY"
   },
   "source": [
    "> Explanation: the most frequent value is still [grid.59025.3b](https://www.grid.ac/institutes/grid.59025.3b), meaning that most authors' current organization is the same organization of when they published these articles. "
   ]
  },
  {
   "cell_type": "markdown",
   "metadata": {
    "Collapsed": "false",
    "colab_type": "text",
    "id": "Zmv0M_PkR4DZ"
   },
   "source": [
    "Another example: we can now easily analyze the data by country too. "
   ]
  },
  {
   "cell_type": "code",
   "execution_count": 12,
   "metadata": {
    "Collapsed": "false",
    "colab": {
     "base_uri": "https://localhost:8080/",
     "height": 204
    },
    "colab_type": "code",
    "executionInfo": {
     "elapsed": 1021,
     "status": "ok",
     "timestamp": 1574681222068,
     "user": {
      "displayName": "Michele Pasin",
      "photoUrl": "https://lh3.googleusercontent.com/a-/AAuE7mBu8LVjIGgontF2Wax51BoL5KFx8esezX3bUmaa0g=s64",
      "userId": "10309320684375994511"
     },
     "user_tz": 0
    },
    "id": "OnmvjI-8R4DZ",
    "outputId": "d596422c-961f-471f-9cb4-289fc066cb71"
   },
   "outputs": [
    {
     "data": {
      "text/plain": [
       "United States     2162\n",
       "China             1833\n",
       "                   989\n",
       "Singapore          382\n",
       "South Korea        328\n",
       "United Kingdom     317\n",
       "Germany            228\n",
       "Australia          175\n",
       "Japan              174\n",
       "Canada             123\n",
       "Name: aff_country, dtype: int64"
      ]
     },
     "execution_count": 12,
     "metadata": {},
     "output_type": "execute_result"
    }
   ],
   "source": [
    "affiliations['aff_country'].value_counts()[:10]"
   ]
  },
  {
   "cell_type": "markdown",
   "metadata": {
    "Collapsed": "false",
    "colab_type": "text",
    "id": "a83GEMfQR4Db"
   },
   "source": [
    "> Explanation: the vast majority of authors in this dataset are from China, closely followed by the USA. "
   ]
  },
  {
   "cell_type": "markdown",
   "metadata": {
    "Collapsed": "false",
    "colab_type": "text",
    "id": "69JItbFgR4Db"
   },
   "source": [
    "## 3. Dataframe Methods for 'Grants' queries"
   ]
  },
  {
   "cell_type": "markdown",
   "metadata": {
    "Collapsed": "true",
    "colab_type": "text",
    "id": "P0FLXthRR4Dc"
   },
   "source": [
    "###  Extracting Funders: `as_dataframe_funders`\n",
    "\n",
    "Grant funders authors are usually returned by the Dimensions API inside a nested JSON object in the `funders` sub-key. \n",
    "\n",
    "This methods allows to quickly extract that data and return a dataframe with **one row per funder**."
   ]
  },
  {
   "cell_type": "code",
   "execution_count": 13,
   "metadata": {
    "Collapsed": "false",
    "colab": {
     "base_uri": "https://localhost:8080/",
     "height": 34
    },
    "colab_type": "code",
    "executionInfo": {
     "elapsed": 3344,
     "status": "ok",
     "timestamp": 1574681269386,
     "user": {
      "displayName": "Michele Pasin",
      "photoUrl": "https://lh3.googleusercontent.com/a-/AAuE7mBu8LVjIGgontF2Wax51BoL5KFx8esezX3bUmaa0g=s64",
      "userId": "10309320684375994511"
     },
     "user_tz": 0
    },
    "id": "kjxgoy_VR4Dc",
    "outputId": "59ee9e43-ed66-4e6f-ee5e-7e81e5f9d515"
   },
   "outputs": [
    {
     "name": "stdout",
     "output_type": "stream",
     "text": [
      "Returned Grants: 1000 (total = 11076)\n"
     ]
    }
   ],
   "source": [
    "# get a sample list of grants\n",
    "query = \"\"\"search grants for \"malaria\" return grants limit 1000\"\"\"\n",
    "res = dsl.query(query)"
   ]
  },
  {
   "cell_type": "code",
   "execution_count": 14,
   "metadata": {
    "Collapsed": "false",
    "colab": {
     "base_uri": "https://localhost:8080/",
     "height": 1000
    },
    "colab_type": "code",
    "executionInfo": {
     "elapsed": 736,
     "status": "ok",
     "timestamp": 1574681271845,
     "user": {
      "displayName": "Michele Pasin",
      "photoUrl": "https://lh3.googleusercontent.com/a-/AAuE7mBu8LVjIGgontF2Wax51BoL5KFx8esezX3bUmaa0g=s64",
      "userId": "10309320684375994511"
     },
     "user_tz": 0
    },
    "id": "56iPhGTUR4Dd",
    "outputId": "c94bba81-caf4-4f7b-e85b-e8969e4c8b6a"
   },
   "outputs": [
    {
     "data": {
      "text/html": [
       "<div>\n",
       "<style scoped>\n",
       "    .dataframe tbody tr th:only-of-type {\n",
       "        vertical-align: middle;\n",
       "    }\n",
       "\n",
       "    .dataframe tbody tr th {\n",
       "        vertical-align: top;\n",
       "    }\n",
       "\n",
       "    .dataframe thead th {\n",
       "        text-align: right;\n",
       "    }\n",
       "</style>\n",
       "<table border=\"1\" class=\"dataframe\">\n",
       "  <thead>\n",
       "    <tr style=\"text-align: right;\">\n",
       "      <th></th>\n",
       "      <th>id</th>\n",
       "      <th>linkout</th>\n",
       "      <th>name</th>\n",
       "      <th>country_name</th>\n",
       "      <th>types</th>\n",
       "      <th>longitude</th>\n",
       "      <th>city_name</th>\n",
       "      <th>latitude</th>\n",
       "      <th>acronym</th>\n",
       "      <th>state_name</th>\n",
       "      <th>grant_id</th>\n",
       "      <th>grant_title</th>\n",
       "      <th>grant_start_date</th>\n",
       "      <th>grant_end_date</th>\n",
       "    </tr>\n",
       "  </thead>\n",
       "  <tbody>\n",
       "    <tr>\n",
       "      <th>0</th>\n",
       "      <td>grid.270680.b</td>\n",
       "      <td>[http://ec.europa.eu/index_en.htm]</td>\n",
       "      <td>European Commission</td>\n",
       "      <td>Belgium</td>\n",
       "      <td>[Government]</td>\n",
       "      <td>4.363670</td>\n",
       "      <td>Brussels</td>\n",
       "      <td>50.851650</td>\n",
       "      <td>EC</td>\n",
       "      <td>NaN</td>\n",
       "      <td>grant.8964341</td>\n",
       "      <td>mAlaRIa Sex dEtermination</td>\n",
       "      <td>2020-10-01</td>\n",
       "      <td>2022-09-30</td>\n",
       "    </tr>\n",
       "    <tr>\n",
       "      <th>1</th>\n",
       "      <td>grid.419681.3</td>\n",
       "      <td>[http://www.niaid.nih.gov/Pages/default.aspx]</td>\n",
       "      <td>National Institute of Allergy and Infectious D...</td>\n",
       "      <td>United States</td>\n",
       "      <td>[Facility]</td>\n",
       "      <td>-77.111830</td>\n",
       "      <td>Bethesda</td>\n",
       "      <td>39.066647</td>\n",
       "      <td>NIAID</td>\n",
       "      <td>Maryland</td>\n",
       "      <td>grant.9018944</td>\n",
       "      <td>Establishment of the New York University Vacci...</td>\n",
       "      <td>2020-04-10</td>\n",
       "      <td>2026-11-30</td>\n",
       "    </tr>\n",
       "    <tr>\n",
       "      <th>2</th>\n",
       "      <td>grid.419681.3</td>\n",
       "      <td>[http://www.niaid.nih.gov/Pages/default.aspx]</td>\n",
       "      <td>National Institute of Allergy and Infectious D...</td>\n",
       "      <td>United States</td>\n",
       "      <td>[Facility]</td>\n",
       "      <td>-77.111830</td>\n",
       "      <td>Bethesda</td>\n",
       "      <td>39.066647</td>\n",
       "      <td>NIAID</td>\n",
       "      <td>Maryland</td>\n",
       "      <td>grant.9020234</td>\n",
       "      <td>Antigen discovery for transmission-blocking va...</td>\n",
       "      <td>2020-04-06</td>\n",
       "      <td>2025-03-31</td>\n",
       "    </tr>\n",
       "    <tr>\n",
       "      <th>3</th>\n",
       "      <td>grid.419681.3</td>\n",
       "      <td>[http://www.niaid.nih.gov/Pages/default.aspx]</td>\n",
       "      <td>National Institute of Allergy and Infectious D...</td>\n",
       "      <td>United States</td>\n",
       "      <td>[Facility]</td>\n",
       "      <td>-77.111830</td>\n",
       "      <td>Bethesda</td>\n",
       "      <td>39.066647</td>\n",
       "      <td>NIAID</td>\n",
       "      <td>Maryland</td>\n",
       "      <td>grant.9020279</td>\n",
       "      <td>Repurposing kinase inhibitor chemotypes as ant...</td>\n",
       "      <td>2020-04-03</td>\n",
       "      <td>2025-03-31</td>\n",
       "    </tr>\n",
       "    <tr>\n",
       "      <th>4</th>\n",
       "      <td>grid.270680.b</td>\n",
       "      <td>[http://ec.europa.eu/index_en.htm]</td>\n",
       "      <td>European Commission</td>\n",
       "      <td>Belgium</td>\n",
       "      <td>[Government]</td>\n",
       "      <td>4.363670</td>\n",
       "      <td>Brussels</td>\n",
       "      <td>50.851650</td>\n",
       "      <td>EC</td>\n",
       "      <td>NaN</td>\n",
       "      <td>grant.8585457</td>\n",
       "      <td>Estimating the Prevalence of AntiMicrobial Res...</td>\n",
       "      <td>2020-04-01</td>\n",
       "      <td>2022-03-31</td>\n",
       "    </tr>\n",
       "    <tr>\n",
       "      <th>5</th>\n",
       "      <td>grid.420089.7</td>\n",
       "      <td>[http://www.nichd.nih.gov/Pages/index.aspx]</td>\n",
       "      <td>National Institute of Child Health and Human D...</td>\n",
       "      <td>United States</td>\n",
       "      <td>[Facility]</td>\n",
       "      <td>-77.100420</td>\n",
       "      <td>Bethesda</td>\n",
       "      <td>39.001095</td>\n",
       "      <td>NICHD</td>\n",
       "      <td>Maryland</td>\n",
       "      <td>grant.9018783</td>\n",
       "      <td>Physiological Functions of Female Reproductive...</td>\n",
       "      <td>2020-04-01</td>\n",
       "      <td>2025-03-31</td>\n",
       "    </tr>\n",
       "    <tr>\n",
       "      <th>6</th>\n",
       "      <td>grid.419681.3</td>\n",
       "      <td>[http://www.niaid.nih.gov/Pages/default.aspx]</td>\n",
       "      <td>National Institute of Allergy and Infectious D...</td>\n",
       "      <td>United States</td>\n",
       "      <td>[Facility]</td>\n",
       "      <td>-77.111830</td>\n",
       "      <td>Bethesda</td>\n",
       "      <td>39.066647</td>\n",
       "      <td>NIAID</td>\n",
       "      <td>Maryland</td>\n",
       "      <td>grant.9019363</td>\n",
       "      <td>Determining the mechanism of antibody-mediated...</td>\n",
       "      <td>2020-04-01</td>\n",
       "      <td>2022-03-31</td>\n",
       "    </tr>\n",
       "    <tr>\n",
       "      <th>7</th>\n",
       "      <td>grid.419681.3</td>\n",
       "      <td>[http://www.niaid.nih.gov/Pages/default.aspx]</td>\n",
       "      <td>National Institute of Allergy and Infectious D...</td>\n",
       "      <td>United States</td>\n",
       "      <td>[Facility]</td>\n",
       "      <td>-77.111830</td>\n",
       "      <td>Bethesda</td>\n",
       "      <td>39.066647</td>\n",
       "      <td>NIAID</td>\n",
       "      <td>Maryland</td>\n",
       "      <td>grant.9019371</td>\n",
       "      <td>Computational models of naturally acquired imm...</td>\n",
       "      <td>2020-04-01</td>\n",
       "      <td>2025-03-31</td>\n",
       "    </tr>\n",
       "    <tr>\n",
       "      <th>8</th>\n",
       "      <td>grid.280785.0</td>\n",
       "      <td>[http://www.nigms.nih.gov/Pages/default.aspx]</td>\n",
       "      <td>National Institute of General Medical Sciences</td>\n",
       "      <td>United States</td>\n",
       "      <td>[Facility]</td>\n",
       "      <td>-77.099380</td>\n",
       "      <td>Bethesda</td>\n",
       "      <td>38.997833</td>\n",
       "      <td>NIGMS</td>\n",
       "      <td>Maryland</td>\n",
       "      <td>grant.9018600</td>\n",
       "      <td>A Biomedical Mass Spectrometry Resource: Ongoi...</td>\n",
       "      <td>2020-04-01</td>\n",
       "      <td>2023-03-31</td>\n",
       "    </tr>\n",
       "    <tr>\n",
       "      <th>9</th>\n",
       "      <td>grid.425888.b</td>\n",
       "      <td>[http://www.snf.ch/en]</td>\n",
       "      <td>Swiss National Science Foundation</td>\n",
       "      <td>Switzerland</td>\n",
       "      <td>[Government]</td>\n",
       "      <td>7.432395</td>\n",
       "      <td>Bern</td>\n",
       "      <td>46.949230</td>\n",
       "      <td>SNF</td>\n",
       "      <td>NaN</td>\n",
       "      <td>grant.8968483</td>\n",
       "      <td>Adressing concerns over gene drive based malar...</td>\n",
       "      <td>2020-04-01</td>\n",
       "      <td>2020-06-30</td>\n",
       "    </tr>\n",
       "  </tbody>\n",
       "</table>\n",
       "</div>"
      ],
      "text/plain": [
       "              id                                        linkout  \\\n",
       "0  grid.270680.b             [http://ec.europa.eu/index_en.htm]   \n",
       "1  grid.419681.3  [http://www.niaid.nih.gov/Pages/default.aspx]   \n",
       "2  grid.419681.3  [http://www.niaid.nih.gov/Pages/default.aspx]   \n",
       "3  grid.419681.3  [http://www.niaid.nih.gov/Pages/default.aspx]   \n",
       "4  grid.270680.b             [http://ec.europa.eu/index_en.htm]   \n",
       "5  grid.420089.7    [http://www.nichd.nih.gov/Pages/index.aspx]   \n",
       "6  grid.419681.3  [http://www.niaid.nih.gov/Pages/default.aspx]   \n",
       "7  grid.419681.3  [http://www.niaid.nih.gov/Pages/default.aspx]   \n",
       "8  grid.280785.0  [http://www.nigms.nih.gov/Pages/default.aspx]   \n",
       "9  grid.425888.b                         [http://www.snf.ch/en]   \n",
       "\n",
       "                                                name   country_name  \\\n",
       "0                                European Commission        Belgium   \n",
       "1  National Institute of Allergy and Infectious D...  United States   \n",
       "2  National Institute of Allergy and Infectious D...  United States   \n",
       "3  National Institute of Allergy and Infectious D...  United States   \n",
       "4                                European Commission        Belgium   \n",
       "5  National Institute of Child Health and Human D...  United States   \n",
       "6  National Institute of Allergy and Infectious D...  United States   \n",
       "7  National Institute of Allergy and Infectious D...  United States   \n",
       "8     National Institute of General Medical Sciences  United States   \n",
       "9                  Swiss National Science Foundation    Switzerland   \n",
       "\n",
       "          types  longitude city_name   latitude acronym state_name  \\\n",
       "0  [Government]   4.363670  Brussels  50.851650      EC        NaN   \n",
       "1    [Facility] -77.111830  Bethesda  39.066647   NIAID   Maryland   \n",
       "2    [Facility] -77.111830  Bethesda  39.066647   NIAID   Maryland   \n",
       "3    [Facility] -77.111830  Bethesda  39.066647   NIAID   Maryland   \n",
       "4  [Government]   4.363670  Brussels  50.851650      EC        NaN   \n",
       "5    [Facility] -77.100420  Bethesda  39.001095   NICHD   Maryland   \n",
       "6    [Facility] -77.111830  Bethesda  39.066647   NIAID   Maryland   \n",
       "7    [Facility] -77.111830  Bethesda  39.066647   NIAID   Maryland   \n",
       "8    [Facility] -77.099380  Bethesda  38.997833   NIGMS   Maryland   \n",
       "9  [Government]   7.432395      Bern  46.949230     SNF        NaN   \n",
       "\n",
       "        grant_id                                        grant_title  \\\n",
       "0  grant.8964341                          mAlaRIa Sex dEtermination   \n",
       "1  grant.9018944  Establishment of the New York University Vacci...   \n",
       "2  grant.9020234  Antigen discovery for transmission-blocking va...   \n",
       "3  grant.9020279  Repurposing kinase inhibitor chemotypes as ant...   \n",
       "4  grant.8585457  Estimating the Prevalence of AntiMicrobial Res...   \n",
       "5  grant.9018783  Physiological Functions of Female Reproductive...   \n",
       "6  grant.9019363  Determining the mechanism of antibody-mediated...   \n",
       "7  grant.9019371  Computational models of naturally acquired imm...   \n",
       "8  grant.9018600  A Biomedical Mass Spectrometry Resource: Ongoi...   \n",
       "9  grant.8968483  Adressing concerns over gene drive based malar...   \n",
       "\n",
       "  grant_start_date grant_end_date  \n",
       "0       2020-10-01     2022-09-30  \n",
       "1       2020-04-10     2026-11-30  \n",
       "2       2020-04-06     2025-03-31  \n",
       "3       2020-04-03     2025-03-31  \n",
       "4       2020-04-01     2022-03-31  \n",
       "5       2020-04-01     2025-03-31  \n",
       "6       2020-04-01     2022-03-31  \n",
       "7       2020-04-01     2025-03-31  \n",
       "8       2020-04-01     2023-03-31  \n",
       "9       2020-04-01     2020-06-30  "
      ]
     },
     "execution_count": 14,
     "metadata": {},
     "output_type": "execute_result"
    }
   ],
   "source": [
    "res.as_dataframe_funders().head(10)"
   ]
  },
  {
   "cell_type": "markdown",
   "metadata": {
    "Collapsed": "true",
    "colab_type": "text",
    "id": "UqanXsrmR4Df"
   },
   "source": [
    "### Extracting investigators: `as_dataframe_investigators`\n",
    "\n",
    "Grant investigators are usually returned by the Dimensions API inside a nested JSON object in the `investigator_details` sub-key. \n",
    "\n",
    "This methods allows to quickly extract that data and return a dataframe with **one row per investigator**.\n",
    "\n",
    "> NOTE: `investigator_details` are not returned by default in a grants query hence one must specify this in the query results"
   ]
  },
  {
   "cell_type": "code",
   "execution_count": 15,
   "metadata": {
    "Collapsed": "false",
    "colab": {
     "base_uri": "https://localhost:8080/",
     "height": 88
    },
    "colab_type": "code",
    "executionInfo": {
     "elapsed": 3591,
     "status": "ok",
     "timestamp": 1574681293076,
     "user": {
      "displayName": "Michele Pasin",
      "photoUrl": "https://lh3.googleusercontent.com/a-/AAuE7mBu8LVjIGgontF2Wax51BoL5KFx8esezX3bUmaa0g=s64",
      "userId": "10309320684375994511"
     },
     "user_tz": 0
    },
    "id": "QZS6TePGR4Df",
    "outputId": "aae7e731-18a0-488f-b65f-111dfab61b8b"
   },
   "outputs": [
    {
     "name": "stdout",
     "output_type": "stream",
     "text": [
      "Returned Grants: 1000 (total = 11076)\n",
      "WARNINGS [2]\n",
      "Field 'title_language' is deprecated in favor of language_title. Please refer to https://docs.dimensions.ai/dsl/releasenotes.html for more details\n",
      "Field 'project_num' is deprecated in favor of grant_number. Please refer to https://docs.dimensions.ai/dsl/releasenotes.html for more details\n"
     ]
    }
   ],
   "source": [
    "# get a sample list of grants\n",
    "query = \"\"\"search grants for \"malaria\" return grants[basics+investigator_details] limit 1000\"\"\"\n",
    "res = dsl.query(query)"
   ]
  },
  {
   "cell_type": "code",
   "execution_count": 16,
   "metadata": {
    "Collapsed": "false"
   },
   "outputs": [
    {
     "data": {
      "text/html": [
       "<div>\n",
       "<style scoped>\n",
       "    .dataframe tbody tr th:only-of-type {\n",
       "        vertical-align: middle;\n",
       "    }\n",
       "\n",
       "    .dataframe tbody tr th {\n",
       "        vertical-align: top;\n",
       "    }\n",
       "\n",
       "    .dataframe thead th {\n",
       "        text-align: right;\n",
       "    }\n",
       "</style>\n",
       "<table border=\"1\" class=\"dataframe\">\n",
       "  <thead>\n",
       "    <tr style=\"text-align: right;\">\n",
       "      <th></th>\n",
       "      <th>affiliations</th>\n",
       "      <th>first_name</th>\n",
       "      <th>last_name</th>\n",
       "      <th>role</th>\n",
       "      <th>id</th>\n",
       "      <th>middle_name</th>\n",
       "      <th>grant_id</th>\n",
       "      <th>grant_title</th>\n",
       "      <th>grant_start_date</th>\n",
       "      <th>grant_end_date</th>\n",
       "    </tr>\n",
       "  </thead>\n",
       "  <tbody>\n",
       "    <tr>\n",
       "      <th>0</th>\n",
       "      <td>[{'state': 'NY', 'state_code': 'US-NY', 'city'...</td>\n",
       "      <td>MARK JOSEPH</td>\n",
       "      <td>MULLIGAN</td>\n",
       "      <td>PI</td>\n",
       "      <td>None</td>\n",
       "      <td>None</td>\n",
       "      <td>grant.9018944</td>\n",
       "      <td>Establishment of the New York University Vacci...</td>\n",
       "      <td>2020-04-10</td>\n",
       "      <td>2026-11-30</td>\n",
       "    </tr>\n",
       "    <tr>\n",
       "      <th>1</th>\n",
       "      <td>[{'state': '', 'state_code': None, 'city': 'SH...</td>\n",
       "      <td>YAMING</td>\n",
       "      <td>CAO</td>\n",
       "      <td>PI</td>\n",
       "      <td>None</td>\n",
       "      <td>None</td>\n",
       "      <td>grant.9020234</td>\n",
       "      <td>Antigen discovery for transmission-blocking va...</td>\n",
       "      <td>2020-04-06</td>\n",
       "      <td>2025-03-31</td>\n",
       "    </tr>\n",
       "    <tr>\n",
       "      <th>2</th>\n",
       "      <td>[{'state': '', 'state_code': None, 'city': 'RO...</td>\n",
       "      <td>KELLY</td>\n",
       "      <td>CHIBALE</td>\n",
       "      <td>PI</td>\n",
       "      <td>None</td>\n",
       "      <td>None</td>\n",
       "      <td>grant.9020279</td>\n",
       "      <td>Repurposing kinase inhibitor chemotypes as ant...</td>\n",
       "      <td>2020-04-03</td>\n",
       "      <td>2025-03-31</td>\n",
       "    </tr>\n",
       "    <tr>\n",
       "      <th>3</th>\n",
       "      <td>NaN</td>\n",
       "      <td>WILLIAM</td>\n",
       "      <td>ZUERCHER</td>\n",
       "      <td>Co-PI</td>\n",
       "      <td>None</td>\n",
       "      <td>None</td>\n",
       "      <td>grant.9020279</td>\n",
       "      <td>Repurposing kinase inhibitor chemotypes as ant...</td>\n",
       "      <td>2020-04-03</td>\n",
       "      <td>2025-03-31</td>\n",
       "    </tr>\n",
       "    <tr>\n",
       "      <th>4</th>\n",
       "      <td>NaN</td>\n",
       "      <td>LORI</td>\n",
       "      <td>FERRINS</td>\n",
       "      <td>Co-PI</td>\n",
       "      <td>None</td>\n",
       "      <td>None</td>\n",
       "      <td>grant.9020279</td>\n",
       "      <td>Repurposing kinase inhibitor chemotypes as ant...</td>\n",
       "      <td>2020-04-03</td>\n",
       "      <td>2025-03-31</td>\n",
       "    </tr>\n",
       "    <tr>\n",
       "      <th>5</th>\n",
       "      <td>[{'state': 'CT', 'state_code': 'US-CT', 'city'...</td>\n",
       "      <td>JIANJUN</td>\n",
       "      <td>SUN</td>\n",
       "      <td>PI</td>\n",
       "      <td>None</td>\n",
       "      <td>None</td>\n",
       "      <td>grant.9018783</td>\n",
       "      <td>Physiological Functions of Female Reproductive...</td>\n",
       "      <td>2020-04-01</td>\n",
       "      <td>2025-03-31</td>\n",
       "    </tr>\n",
       "    <tr>\n",
       "      <th>6</th>\n",
       "      <td>[{'state': 'MN', 'state_code': 'US-MN', 'city'...</td>\n",
       "      <td>GEOFFREY T</td>\n",
       "      <td>HART</td>\n",
       "      <td>PI</td>\n",
       "      <td>None</td>\n",
       "      <td>None</td>\n",
       "      <td>grant.9019363</td>\n",
       "      <td>Determining the mechanism of antibody-mediated...</td>\n",
       "      <td>2020-04-01</td>\n",
       "      <td>2022-03-31</td>\n",
       "    </tr>\n",
       "    <tr>\n",
       "      <th>7</th>\n",
       "      <td>[{'state': 'CA', 'state_code': 'US-CA', 'city'...</td>\n",
       "      <td>BRYAN R</td>\n",
       "      <td>GREENHOUSE</td>\n",
       "      <td>PI</td>\n",
       "      <td>None</td>\n",
       "      <td>None</td>\n",
       "      <td>grant.9019371</td>\n",
       "      <td>Computational models of naturally acquired imm...</td>\n",
       "      <td>2020-04-01</td>\n",
       "      <td>2025-03-31</td>\n",
       "    </tr>\n",
       "    <tr>\n",
       "      <th>8</th>\n",
       "      <td>NaN</td>\n",
       "      <td>ATUL J.</td>\n",
       "      <td>BUTTE</td>\n",
       "      <td>Co-PI</td>\n",
       "      <td>None</td>\n",
       "      <td>None</td>\n",
       "      <td>grant.9019371</td>\n",
       "      <td>Computational models of naturally acquired imm...</td>\n",
       "      <td>2020-04-01</td>\n",
       "      <td>2025-03-31</td>\n",
       "    </tr>\n",
       "    <tr>\n",
       "      <th>9</th>\n",
       "      <td>NaN</td>\n",
       "      <td>PRASANNA</td>\n",
       "      <td>JAGANNATHAN</td>\n",
       "      <td>Co-PI</td>\n",
       "      <td>None</td>\n",
       "      <td>None</td>\n",
       "      <td>grant.9019371</td>\n",
       "      <td>Computational models of naturally acquired imm...</td>\n",
       "      <td>2020-04-01</td>\n",
       "      <td>2025-03-31</td>\n",
       "    </tr>\n",
       "  </tbody>\n",
       "</table>\n",
       "</div>"
      ],
      "text/plain": [
       "                                        affiliations   first_name  \\\n",
       "0  [{'state': 'NY', 'state_code': 'US-NY', 'city'...  MARK JOSEPH   \n",
       "1  [{'state': '', 'state_code': None, 'city': 'SH...       YAMING   \n",
       "2  [{'state': '', 'state_code': None, 'city': 'RO...        KELLY   \n",
       "3                                                NaN      WILLIAM   \n",
       "4                                                NaN         LORI   \n",
       "5  [{'state': 'CT', 'state_code': 'US-CT', 'city'...      JIANJUN   \n",
       "6  [{'state': 'MN', 'state_code': 'US-MN', 'city'...   GEOFFREY T   \n",
       "7  [{'state': 'CA', 'state_code': 'US-CA', 'city'...      BRYAN R   \n",
       "8                                                NaN      ATUL J.   \n",
       "9                                                NaN     PRASANNA   \n",
       "\n",
       "     last_name   role    id middle_name       grant_id  \\\n",
       "0     MULLIGAN     PI  None        None  grant.9018944   \n",
       "1          CAO     PI  None        None  grant.9020234   \n",
       "2      CHIBALE     PI  None        None  grant.9020279   \n",
       "3     ZUERCHER  Co-PI  None        None  grant.9020279   \n",
       "4      FERRINS  Co-PI  None        None  grant.9020279   \n",
       "5          SUN     PI  None        None  grant.9018783   \n",
       "6         HART     PI  None        None  grant.9019363   \n",
       "7   GREENHOUSE     PI  None        None  grant.9019371   \n",
       "8        BUTTE  Co-PI  None        None  grant.9019371   \n",
       "9  JAGANNATHAN  Co-PI  None        None  grant.9019371   \n",
       "\n",
       "                                         grant_title grant_start_date  \\\n",
       "0  Establishment of the New York University Vacci...       2020-04-10   \n",
       "1  Antigen discovery for transmission-blocking va...       2020-04-06   \n",
       "2  Repurposing kinase inhibitor chemotypes as ant...       2020-04-03   \n",
       "3  Repurposing kinase inhibitor chemotypes as ant...       2020-04-03   \n",
       "4  Repurposing kinase inhibitor chemotypes as ant...       2020-04-03   \n",
       "5  Physiological Functions of Female Reproductive...       2020-04-01   \n",
       "6  Determining the mechanism of antibody-mediated...       2020-04-01   \n",
       "7  Computational models of naturally acquired imm...       2020-04-01   \n",
       "8  Computational models of naturally acquired imm...       2020-04-01   \n",
       "9  Computational models of naturally acquired imm...       2020-04-01   \n",
       "\n",
       "  grant_end_date  \n",
       "0     2026-11-30  \n",
       "1     2025-03-31  \n",
       "2     2025-03-31  \n",
       "3     2025-03-31  \n",
       "4     2025-03-31  \n",
       "5     2025-03-31  \n",
       "6     2022-03-31  \n",
       "7     2025-03-31  \n",
       "8     2025-03-31  \n",
       "9     2025-03-31  "
      ]
     },
     "execution_count": 16,
     "metadata": {},
     "output_type": "execute_result"
    }
   ],
   "source": [
    "res.as_dataframe_investigators().head(10)"
   ]
  },
  {
   "cell_type": "markdown",
   "metadata": {
    "Collapsed": "false",
    "colab_type": "text",
    "id": "p2eN2Y8GR4DT"
   },
   "source": [
    "## 4. Dataframe Methods for 'Concepts' queries\n",
    "\n",
    "These methods can be used with all content types that support the extraction of concepts, i.e., `publications` or `grants`. See the [official documentation](https://docs.dimensions.ai/dsl/data-sources.html) for more details."
   ]
  },
  {
   "cell_type": "markdown",
   "metadata": {
    "Collapsed": "false",
    "colab_type": "text",
    "id": "p2eN2Y8GR4DT"
   },
   "source": [
    "### Extracting Concepts: `as_dataframe_concepts`\n",
    "\n",
    "The `as_dataframe_concepts` method allows to quickly extract all concepts attached to a record, **one row per concept**, so to make it easier to do operations like counting or plotting the results.\n",
    "\n",
    "NOTE: concepts are normalized *noun phrases* describing the main topics of a document, which are automatically derived from the full text  using machine learning. In the JSON data, concepts are available as an ordered list (=first items are the most relevant), including a relevance score. E.g. for the publications with ID 'pub.1122072646': \n",
    "\n",
    "```\n",
    "{'id': 'pub.1122072646',\n",
    "'concepts_scores': [{'concept': 'acid', 'relevance': 0.07450046286579201}, \n",
    "                    {'concept': 'conversion', 'relevance': 0.055053872555463006}, \n",
    "                    {'concept': 'formic acid', 'relevance': 0.048144671935356},\n",
    "                    {'concept': 'CO2', 'relevance': 0.032150964737607}\n",
    "                    [........]\n",
    "                    ],\n",
    " }\n",
    "```\n",
    "\n",
    "The `as_dataframe_concepts` extracts all concepts data from JSON to a dataframe (ps this is functionally similarly to pandas's [explode method](https://pandas.pydata.org/pandas-docs/stable/reference/api/pandas.DataFrame.explode.html)). Moreover, it automatically creates a number of metrics that can be used to carry out further analyses, like `frequency` and `score_avg`. "
   ]
  },
  {
   "cell_type": "code",
   "execution_count": 9,
   "metadata": {
    "Collapsed": "false"
   },
   "outputs": [
    {
     "name": "stdout",
     "output_type": "stream",
     "text": [
      "Returned Publications: 100 (total = 100865)\n",
      "Concepts found:  4925\n",
      "Unique:  3071\n"
     ]
    },
    {
     "data": {
      "text/html": [
       "<div>\n",
       "<style scoped>\n",
       "    .dataframe tbody tr th:only-of-type {\n",
       "        vertical-align: middle;\n",
       "    }\n",
       "\n",
       "    .dataframe tbody tr th {\n",
       "        vertical-align: top;\n",
       "    }\n",
       "\n",
       "    .dataframe thead th {\n",
       "        text-align: right;\n",
       "    }\n",
       "</style>\n",
       "<table border=\"1\" class=\"dataframe\">\n",
       "  <thead>\n",
       "    <tr style=\"text-align: right;\">\n",
       "      <th></th>\n",
       "      <th>title</th>\n",
       "      <th>id</th>\n",
       "      <th>year</th>\n",
       "      <th>concepts_count</th>\n",
       "      <th>concept</th>\n",
       "      <th>score</th>\n",
       "      <th>frequency</th>\n",
       "      <th>score_avg</th>\n",
       "    </tr>\n",
       "  </thead>\n",
       "  <tbody>\n",
       "    <tr>\n",
       "      <th>0</th>\n",
       "      <td>Smart Non-Woven Fiber Mats with Light-Induced ...</td>\n",
       "      <td>pub.1123764889</td>\n",
       "      <td>2019</td>\n",
       "      <td>63</td>\n",
       "      <td>non-woven fiber mats</td>\n",
       "      <td>0.78424</td>\n",
       "      <td>1</td>\n",
       "      <td>0.78424</td>\n",
       "    </tr>\n",
       "    <tr>\n",
       "      <th>1</th>\n",
       "      <td>Smart Non-Woven Fiber Mats with Light-Induced ...</td>\n",
       "      <td>pub.1123764889</td>\n",
       "      <td>2019</td>\n",
       "      <td>63</td>\n",
       "      <td>polymer matrix</td>\n",
       "      <td>0.72761</td>\n",
       "      <td>3</td>\n",
       "      <td>0.64380</td>\n",
       "    </tr>\n",
       "    <tr>\n",
       "      <th>2</th>\n",
       "      <td>Smart Non-Woven Fiber Mats with Light-Induced ...</td>\n",
       "      <td>pub.1123764889</td>\n",
       "      <td>2019</td>\n",
       "      <td>63</td>\n",
       "      <td>atom transfer radical polymerization</td>\n",
       "      <td>0.72668</td>\n",
       "      <td>1</td>\n",
       "      <td>0.72668</td>\n",
       "    </tr>\n",
       "    <tr>\n",
       "      <th>3</th>\n",
       "      <td>Smart Non-Woven Fiber Mats with Light-Induced ...</td>\n",
       "      <td>pub.1123764889</td>\n",
       "      <td>2019</td>\n",
       "      <td>63</td>\n",
       "      <td>transfer radical polymerization</td>\n",
       "      <td>0.70781</td>\n",
       "      <td>1</td>\n",
       "      <td>0.70781</td>\n",
       "    </tr>\n",
       "    <tr>\n",
       "      <th>4</th>\n",
       "      <td>Smart Non-Woven Fiber Mats with Light-Induced ...</td>\n",
       "      <td>pub.1123764889</td>\n",
       "      <td>2019</td>\n",
       "      <td>63</td>\n",
       "      <td>ray photoelectron spectroscopy</td>\n",
       "      <td>0.69869</td>\n",
       "      <td>3</td>\n",
       "      <td>0.64896</td>\n",
       "    </tr>\n",
       "  </tbody>\n",
       "</table>\n",
       "</div>"
      ],
      "text/plain": [
       "                                               title              id  year  \\\n",
       "0  Smart Non-Woven Fiber Mats with Light-Induced ...  pub.1123764889  2019   \n",
       "1  Smart Non-Woven Fiber Mats with Light-Induced ...  pub.1123764889  2019   \n",
       "2  Smart Non-Woven Fiber Mats with Light-Induced ...  pub.1123764889  2019   \n",
       "3  Smart Non-Woven Fiber Mats with Light-Induced ...  pub.1123764889  2019   \n",
       "4  Smart Non-Woven Fiber Mats with Light-Induced ...  pub.1123764889  2019   \n",
       "\n",
       "   concepts_count                               concept    score  frequency  \\\n",
       "0              63                  non-woven fiber mats  0.78424          1   \n",
       "1              63                        polymer matrix  0.72761          3   \n",
       "2              63  atom transfer radical polymerization  0.72668          1   \n",
       "3              63       transfer radical polymerization  0.70781          1   \n",
       "4              63        ray photoelectron spectroscopy  0.69869          3   \n",
       "\n",
       "   score_avg  \n",
       "0    0.78424  \n",
       "1    0.64380  \n",
       "2    0.72668  \n",
       "3    0.70781  \n",
       "4    0.64896  "
      ]
     },
     "execution_count": 9,
     "metadata": {},
     "output_type": "execute_result"
    }
   ],
   "source": [
    "q = \"\"\"search publications for \"graphene\" \n",
    "            where year=2019 \n",
    "       return publications[id+title+year+concepts_scores] limit 100\"\"\"\n",
    "\n",
    "concepts = dsl.query(q).as_dataframe_concepts()\n",
    "\n",
    "print(\"Concepts found: \", len(concepts))\n",
    "print(\"Unique: \", len(concepts.drop_duplicates(\"concept\")))\n",
    "\n",
    "concepts.head()"
   ]
  },
  {
   "cell_type": "code",
   "execution_count": 14,
   "metadata": {
    "Collapsed": "false"
   },
   "outputs": [
    {
     "data": {
      "text/html": [
       "<div>\n",
       "<style scoped>\n",
       "    .dataframe tbody tr th:only-of-type {\n",
       "        vertical-align: middle;\n",
       "    }\n",
       "\n",
       "    .dataframe tbody tr th {\n",
       "        vertical-align: top;\n",
       "    }\n",
       "\n",
       "    .dataframe thead th {\n",
       "        text-align: right;\n",
       "    }\n",
       "</style>\n",
       "<table border=\"1\" class=\"dataframe\">\n",
       "  <thead>\n",
       "    <tr style=\"text-align: right;\">\n",
       "      <th></th>\n",
       "      <th>concept</th>\n",
       "      <th>score_avg</th>\n",
       "    </tr>\n",
       "  </thead>\n",
       "  <tbody>\n",
       "    <tr>\n",
       "      <th>3027</th>\n",
       "      <td>graphene-based antenna</td>\n",
       "      <td>0.90147</td>\n",
       "    </tr>\n",
       "    <tr>\n",
       "      <th>2404</th>\n",
       "      <td>oxygen evolution reaction</td>\n",
       "      <td>0.87529</td>\n",
       "    </tr>\n",
       "    <tr>\n",
       "      <th>2405</th>\n",
       "      <td>oxygen reduction reaction</td>\n",
       "      <td>0.87487</td>\n",
       "    </tr>\n",
       "    <tr>\n",
       "      <th>2406</th>\n",
       "      <td>hydrogen evolution reaction</td>\n",
       "      <td>0.87120</td>\n",
       "    </tr>\n",
       "    <tr>\n",
       "      <th>2724</th>\n",
       "      <td>fluorinated carbon materials</td>\n",
       "      <td>0.86460</td>\n",
       "    </tr>\n",
       "    <tr>\n",
       "      <th>1327</th>\n",
       "      <td>MoP/SiO2 catalyst</td>\n",
       "      <td>0.86052</td>\n",
       "    </tr>\n",
       "    <tr>\n",
       "      <th>4711</th>\n",
       "      <td>POM water oxidation catalysts</td>\n",
       "      <td>0.85027</td>\n",
       "    </tr>\n",
       "    <tr>\n",
       "      <th>1392</th>\n",
       "      <td>high internal phase emulsions</td>\n",
       "      <td>0.84142</td>\n",
       "    </tr>\n",
       "    <tr>\n",
       "      <th>3028</th>\n",
       "      <td>dipole antenna</td>\n",
       "      <td>0.83857</td>\n",
       "    </tr>\n",
       "    <tr>\n",
       "      <th>4124</th>\n",
       "      <td>phenolic foam composites</td>\n",
       "      <td>0.83428</td>\n",
       "    </tr>\n",
       "  </tbody>\n",
       "</table>\n",
       "</div>"
      ],
      "text/plain": [
       "                            concept  score_avg\n",
       "3027         graphene-based antenna    0.90147\n",
       "2404      oxygen evolution reaction    0.87529\n",
       "2405      oxygen reduction reaction    0.87487\n",
       "2406    hydrogen evolution reaction    0.87120\n",
       "2724   fluorinated carbon materials    0.86460\n",
       "1327              MoP/SiO2 catalyst    0.86052\n",
       "4711  POM water oxidation catalysts    0.85027\n",
       "1392  high internal phase emulsions    0.84142\n",
       "3028                 dipole antenna    0.83857\n",
       "4124       phenolic foam composites    0.83428"
      ]
     },
     "execution_count": 14,
     "metadata": {},
     "output_type": "execute_result"
    }
   ],
   "source": [
    "concepts.drop_duplicates(\"concept\").sort_values(\"score_avg\", ascending=False).head(10)[['concept', 'score_avg']]"
   ]
  },
  {
   "cell_type": "markdown",
   "metadata": {
    "Collapsed": "false"
   },
   "source": [
    "Please note that (as of version 1.25 of the DSL API) it is possible to return either `concepts_scores` or `concepts` with Publications queries, but only `concepts` with Grants queries.  \n",
    "\n",
    "If a relevancy score is not available, the `as_dataframe_concepts` function will simulate one based on the concept rank (=its position in the document-concepts list).  \n",
    "\n",
    "For more information on how to make use of `concepts` please see the [Topic Modeling Analysis Tutorial](https://api-lab.dimensions.ai/cookbooks/2-publications/Simple-topic-analysis.html) and the [Official documentation](https://docs.dimensions.ai/dsl/). "
   ]
  },
  {
   "cell_type": "markdown",
   "metadata": {
    "Collapsed": "false",
    "colab_type": "text",
    "id": "WkolG6VKR4Dj"
   },
   "source": [
    "## Conclusions \n",
    "\n",
    "Moving Dimensions API results to pandas dataframes **makes it easier** to **analyze the data** and **answer research questions**. \n",
    "\n",
    "Note: the examples above only scratch the surface of what can be done with pandas! \n",
    "\n",
    "> Tip: see also the *Dimcli: Magic Commands* notebook to find out what shortcuts are available for these dataframe methods. "
   ]
  }
 ],
 "metadata": {
  "colab": {
   "collapsed_sections": [],
   "name": "3-Working-with-dataframes.ipynb",
   "provenance": [],
   "toc_visible": true
  },
  "kernel_info": {
   "name": "python3"
  },
  "kernelspec": {
   "display_name": "Python 3",
   "language": "python",
   "name": "python3"
  },
  "language_info": {
   "codemirror_mode": {
    "name": "ipython",
    "version": 3
   },
   "file_extension": ".py",
   "mimetype": "text/x-python",
   "name": "python",
   "nbconvert_exporter": "python",
   "pygments_lexer": "ipython3",
   "version": "3.7.7"
  },
  "nteract": {
   "version": "0.14.5"
  }
 },
 "nbformat": 4,
 "nbformat_minor": 4
}
