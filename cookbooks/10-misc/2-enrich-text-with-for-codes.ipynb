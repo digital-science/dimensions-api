{
 "cells": [
  {
   "cell_type": "markdown",
   "metadata": {
    "Collapsed": "false",
    "id": "abZLqVLBxVjV"
   },
   "source": [
    "# Enrich text with Field of Research (FoR) codes"
   ]
  },
  {
   "cell_type": "markdown",
   "metadata": {
    "Collapsed": "false",
    "id": "oAB9-a6xxVjW"
   },
   "source": [
    "In this tutorial, we show how to use the [Dimensions Analytics API](https://www.dimensions.ai/dimensions-apis/) *classify* function to retrieve suggested Field of Research (FoR) codes for a set of documents. \n",
    "\n",
    "FoR classification is a component of the Australian and New Zealand Standard Research Classification system. It allows all R&D activity to be categorized using a single system. The system is hierarchical, with major fields subdivided into minor fields. \n",
    "\n",
    "For more information on FoR classification, please see [this article](https://dimensions.freshdesk.com/support/solutions/articles/23000018826-what-is-the-background-behind-the-fields-of-research-for-classification-system-). For a complete list of all FoR categories in Dimensions, please visit [this link](https://app.dimensions.ai/browse/categories/publication/for).\n",
    "\n",
    "The [Dimensions API classifier](https://docs.dimensions.ai/dsl/functions.html#function-classify) suggests category classifications based on input title and abstract text. Category classifications allow analysts to gain insight into the area(s) of focus of a set of documents. For example, given a set of documents, how many of the documents relate to 'Artificial Intelligence and Image Processing' (FoR code 0801)? How does this compare to the number of documents related to 'Statistics' (FoR code 0104)?"
   ]
  },
  {
   "cell_type": "markdown",
   "metadata": {
    "Collapsed": "false",
    "id": "wbOE92zSxVjX"
   },
   "source": [
    "## A sample set of publications"
   ]
  },
  {
   "cell_type": "markdown",
   "metadata": {
    "Collapsed": "false",
    "id": "W3_deGA_xVjX"
   },
   "source": [
    "Our starting point is a [sample set of 100 titles/abstracts](http://api-sample-data.dimensions.ai/data/arxiv_june7.csv) belonging to publications that were submitted to arxiv.org on June 7th 2021. At the time of writing, these publications have not yet been indexed by Dimensions, and thus have not yet been assigned categories. \n",
    "\n",
    "Below, we will show below how to enrich this dataset with FoR codes."
   ]
  },
  {
   "cell_type": "code",
   "execution_count": 1,
   "metadata": {},
   "outputs": [
    {
     "name": "stdout",
     "output_type": "stream",
     "text": [
      "==\n",
      "CHANGELOG\n",
      "This notebook was last run on Aug 10, 2023\n",
      "==\n"
     ]
    }
   ],
   "source": [
    "import datetime\n",
    "print(\"==\\nCHANGELOG\\nThis notebook was last run on %s\\n==\" % datetime.date.today().strftime('%b %d, %Y'))"
   ]
  },
  {
   "cell_type": "markdown",
   "metadata": {
    "Collapsed": "false",
    "id": "rbFyeHoCxVjY"
   },
   "source": [
    "## Prerequisites"
   ]
  },
  {
   "cell_type": "markdown",
   "metadata": {
    "Collapsed": "false",
    "id": "HK_g2Yz3xVjY"
   },
   "source": [
    "This notebook assumes you have installed the [Dimcli](https://pypi.org/project/dimcli/) library and are familiar with the ['Getting Started' tutorial](https://api-lab.dimensions.ai/cookbooks/1-getting-started/1-Using-the-Dimcli-library-to-query-the-API.html)."
   ]
  },
  {
   "cell_type": "code",
   "execution_count": 2,
   "metadata": {
    "Collapsed": "false",
    "id": "OkNwZwrqxVjY",
    "outputId": "2501c567-36ce-4a01-f0be-da6372abd596"
   },
   "outputs": [
    {
     "name": "stderr",
     "output_type": "stream",
     "text": [
      "\u001b[2mSearching config file credentials for 'https://app.dimensions.ai' endpoint..\u001b[0m\n"
     ]
    },
    {
     "name": "stdout",
     "output_type": "stream",
     "text": [
      "==\n",
      "Logging in..\n",
      "\u001b[2mDimcli - Dimensions API Client (v1.1)\u001b[0m\n",
      "\u001b[2mConnected to: <https://app.dimensions.ai/api/dsl> - DSL v2.7\u001b[0m\n",
      "\u001b[2mMethod: dsl.ini file\u001b[0m\n"
     ]
    }
   ],
   "source": [
    "!pip install dimcli tqdm -U --quiet \n",
    "\n",
    "import dimcli\n",
    "from dimcli.utils import *\n",
    "\n",
    "import sys, json, time, os\n",
    "import pandas as pd\n",
    "import plotly.express as px  # plotly>=4.8.1\n",
    "from tqdm.notebook import tqdm as pbar\n",
    "\n",
    "print(\"==\\nLogging in..\")\n",
    "# https://digital-science.github.io/dimcli/getting-started.html#authentication\n",
    "ENDPOINT = \"https://app.dimensions.ai\"\n",
    "if 'google.colab' in sys.modules:\n",
    "  import getpass\n",
    "  KEY = getpass.getpass(prompt='API Key: ')  \n",
    "  dimcli.login(key=KEY, endpoint=ENDPOINT)\n",
    "else:\n",
    "  KEY = \"\"\n",
    "  dimcli.login(key=KEY, endpoint=ENDPOINT)\n",
    "dsl = dimcli.Dsl()"
   ]
  },
  {
   "cell_type": "markdown",
   "metadata": {
    "Collapsed": "false",
    "id": "3MOtLcuXxVjZ"
   },
   "source": [
    "## 1. Loading the sample text"
   ]
  },
  {
   "cell_type": "markdown",
   "metadata": {
    "Collapsed": "false",
    "id": "r2xmRMDLxVja"
   },
   "source": [
    "First, we are going to load the sample dataset '[arxiv_june7.csv](http://api-sample-data.dimensions.ai/data/arxiv_june7.csv)'."
   ]
  },
  {
   "cell_type": "code",
   "execution_count": 3,
   "metadata": {
    "Collapsed": "false",
    "id": "y6BJMHiMxVja"
   },
   "outputs": [],
   "source": [
    "df = pd.read_csv('http://api-sample-data.dimensions.ai/data/arxiv_june7.csv')"
   ]
  },
  {
   "cell_type": "markdown",
   "metadata": {
    "Collapsed": "false",
    "id": "AukWjVJyxVja"
   },
   "source": [
    "Let's preview the contents of the file:"
   ]
  },
  {
   "cell_type": "code",
   "execution_count": 4,
   "metadata": {
    "Collapsed": "false",
    "id": "Zf6pMWN9xVja",
    "outputId": "3371fbc3-9f38-4f20-be33-199057e7722b"
   },
   "outputs": [
    {
     "data": {
      "text/html": [
       "<div>\n",
       "<style scoped>\n",
       "    .dataframe tbody tr th:only-of-type {\n",
       "        vertical-align: middle;\n",
       "    }\n",
       "\n",
       "    .dataframe tbody tr th {\n",
       "        vertical-align: top;\n",
       "    }\n",
       "\n",
       "    .dataframe thead th {\n",
       "        text-align: right;\n",
       "    }\n",
       "</style>\n",
       "<table border=\"1\" class=\"dataframe\">\n",
       "  <thead>\n",
       "    <tr style=\"text-align: right;\">\n",
       "      <th></th>\n",
       "      <th>title</th>\n",
       "      <th>abstract</th>\n",
       "    </tr>\n",
       "  </thead>\n",
       "  <tbody>\n",
       "    <tr>\n",
       "      <th>0</th>\n",
       "      <td>SIMONe  View Invariant  Temporally Abstracted ...</td>\n",
       "      <td>To help agents reason about scenes in terms ...</td>\n",
       "    </tr>\n",
       "    <tr>\n",
       "      <th>1</th>\n",
       "      <td>How planets grow by pebble accretion IV  Envel...</td>\n",
       "      <td>The amount of nebular gas that a planet can ...</td>\n",
       "    </tr>\n",
       "    <tr>\n",
       "      <th>2</th>\n",
       "      <td>GAN Cocktail  mixing GANs without dataset access</td>\n",
       "      <td>Today s generative models are capable of syn...</td>\n",
       "    </tr>\n",
       "    <tr>\n",
       "      <th>3</th>\n",
       "      <td>it CosmoPower       emulating cosmological p...</td>\n",
       "      <td>We present   it CosmoPower    a suite of neu...</td>\n",
       "    </tr>\n",
       "    <tr>\n",
       "      <th>4</th>\n",
       "      <td>A Matrix Trickle Down Theorem on Simplicial Co...</td>\n",
       "      <td>We show that the natural Glauber dynamics mi...</td>\n",
       "    </tr>\n",
       "  </tbody>\n",
       "</table>\n",
       "</div>"
      ],
      "text/plain": [
       "                                               title  \\\n",
       "0  SIMONe  View Invariant  Temporally Abstracted ...   \n",
       "1  How planets grow by pebble accretion IV  Envel...   \n",
       "2   GAN Cocktail  mixing GANs without dataset access   \n",
       "3    it CosmoPower       emulating cosmological p...   \n",
       "4  A Matrix Trickle Down Theorem on Simplicial Co...   \n",
       "\n",
       "                                            abstract  \n",
       "0    To help agents reason about scenes in terms ...  \n",
       "1    The amount of nebular gas that a planet can ...  \n",
       "2    Today s generative models are capable of syn...  \n",
       "3    We present   it CosmoPower    a suite of neu...  \n",
       "4    We show that the natural Glauber dynamics mi...  "
      ]
     },
     "execution_count": 4,
     "metadata": {},
     "output_type": "execute_result"
    }
   ],
   "source": [
    "df.head()"
   ]
  },
  {
   "cell_type": "markdown",
   "metadata": {
    "Collapsed": "false",
    "id": "-va2S3-_xVjb"
   },
   "source": [
    "As we see above, each document is represented by title text and abstract text. We will use the Dimensions API's *classify* function to retrieve suggested FoR codes for this text. "
   ]
  },
  {
   "cell_type": "markdown",
   "metadata": {
    "Collapsed": "false",
    "id": "1WhKsOvDxVjb"
   },
   "source": [
    "## 2. FoR Classification"
   ]
  },
  {
   "cell_type": "markdown",
   "metadata": {
    "Collapsed": "false",
    "id": "hpDqMYE3xVjb"
   },
   "source": [
    "The [*classify*](https://docs.dimensions.ai/dsl/functions.html#function-classify) function has three inputs: title, abstract, and system. \n",
    "\n",
    "* **title**: the document's title text\n",
    "* **abstract**: the document's abstract text\n",
    "* **system**: the desired classification system for output\n",
    "\n",
    "In our case, we're going to use the FoR classification system. For details on other available classification schemes, please see [this article](https://support-funder.dimensions.ai/support/solutions/articles/13000037672-which-research-categories-and-classification-schemes-are-available-in-dimensions-). \n",
    "\n",
    "To classify each document, we iterate through the dataframe one row at a time and input the title and abstract text for each document. A list of suggested FoR codes is saved into a column called 'FoR_Categories'.\n",
    "\n",
    "We pause for a second after each iteration, which prevents us from hitting the max queries quota (~30 per minute)."
   ]
  },
  {
   "cell_type": "code",
   "execution_count": 5,
   "metadata": {
    "Collapsed": "false",
    "id": "FXPML3EUxVjb"
   },
   "outputs": [],
   "source": [
    "df['FoR_Categories'] = ''"
   ]
  },
  {
   "cell_type": "code",
   "execution_count": 9,
   "metadata": {
    "Collapsed": "false",
    "id": "VCRE6czWxVjb",
    "outputId": "08008433-1a43-4d93-c14f-b219efec1829"
   },
   "outputs": [
    {
     "data": {
      "application/vnd.jupyter.widget-view+json": {
       "model_id": "b8807279fffa419e804bec02e6b16d4f",
       "version_major": 2,
       "version_minor": 0
      },
      "text/plain": [
       "  0%|          | 0/100 [00:00<?, ?it/s]"
      ]
     },
     "metadata": {},
     "output_type": "display_data"
    }
   ],
   "source": [
    "# for index, row in df.iterrows():\n",
    "for index, row in pbar(df.iterrows(), total=df.shape[0]):\n",
    "    search_string = f\"\"\"\n",
    "                    classify(title=\"{row.title}\", abstract=\"{row.abstract}\", system=\"FOR\")\n",
    "            \"\"\"\n",
    "    a = dsl.query(search_string, verbose=False)\n",
    "    list_of_categories = []\n",
    "    for x in a.json['FOR_2020']:\n",
    "        list_of_categories.append(x['name'])\n",
    "    df['FoR_Categories'][index] = list_of_categories\n",
    "    time.sleep(1)"
   ]
  },
  {
   "cell_type": "markdown",
   "metadata": {
    "Collapsed": "false",
    "id": "TY3dflKbxVjc"
   },
   "source": [
    "Now that we have classified our documents, let's take a look at the updated dataframe:"
   ]
  },
  {
   "cell_type": "code",
   "execution_count": 10,
   "metadata": {
    "Collapsed": "false",
    "id": "mCO30Q5dxVjc",
    "outputId": "911a0304-d27e-4082-ee7e-54b81a1bcfeb"
   },
   "outputs": [
    {
     "data": {
      "text/html": [
       "<div>\n",
       "<style scoped>\n",
       "    .dataframe tbody tr th:only-of-type {\n",
       "        vertical-align: middle;\n",
       "    }\n",
       "\n",
       "    .dataframe tbody tr th {\n",
       "        vertical-align: top;\n",
       "    }\n",
       "\n",
       "    .dataframe thead th {\n",
       "        text-align: right;\n",
       "    }\n",
       "</style>\n",
       "<table border=\"1\" class=\"dataframe\">\n",
       "  <thead>\n",
       "    <tr style=\"text-align: right;\">\n",
       "      <th></th>\n",
       "      <th>title</th>\n",
       "      <th>abstract</th>\n",
       "      <th>FoR_Categories</th>\n",
       "    </tr>\n",
       "  </thead>\n",
       "  <tbody>\n",
       "    <tr>\n",
       "      <th>0</th>\n",
       "      <td>SIMONe  View Invariant  Temporally Abstracted ...</td>\n",
       "      <td>To help agents reason about scenes in terms ...</td>\n",
       "      <td>[4603 Computer Vision and Multimedia Computati...</td>\n",
       "    </tr>\n",
       "    <tr>\n",
       "      <th>1</th>\n",
       "      <td>How planets grow by pebble accretion IV  Envel...</td>\n",
       "      <td>The amount of nebular gas that a planet can ...</td>\n",
       "      <td>[5109 Space Sciences]</td>\n",
       "    </tr>\n",
       "    <tr>\n",
       "      <th>2</th>\n",
       "      <td>GAN Cocktail  mixing GANs without dataset access</td>\n",
       "      <td>Today s generative models are capable of syn...</td>\n",
       "      <td>[4611 Machine Learning]</td>\n",
       "    </tr>\n",
       "    <tr>\n",
       "      <th>3</th>\n",
       "      <td>it CosmoPower       emulating cosmological p...</td>\n",
       "      <td>We present   it CosmoPower    a suite of neu...</td>\n",
       "      <td>[5107 Particle and High Energy Physics]</td>\n",
       "    </tr>\n",
       "    <tr>\n",
       "      <th>4</th>\n",
       "      <td>A Matrix Trickle Down Theorem on Simplicial Co...</td>\n",
       "      <td>We show that the natural Glauber dynamics mi...</td>\n",
       "      <td>[4904 Pure Mathematics, 4901 Applied Mathematics]</td>\n",
       "    </tr>\n",
       "    <tr>\n",
       "      <th>5</th>\n",
       "      <td>Mean Shifted Contrastive Loss for Anomaly Dete...</td>\n",
       "      <td>Deep anomaly detection methods learn represe...</td>\n",
       "      <td>[4611 Machine Learning]</td>\n",
       "    </tr>\n",
       "    <tr>\n",
       "      <th>6</th>\n",
       "      <td>Equivariant Graph Neural Networks for  D Macro...</td>\n",
       "      <td>Representing and reasoning about  D structur...</td>\n",
       "      <td>[4611 Machine Learning]</td>\n",
       "    </tr>\n",
       "    <tr>\n",
       "      <th>7</th>\n",
       "      <td>Non Abelian Hybrid Fracton Orders</td>\n",
       "      <td>We introduce lattice gauge theories which de...</td>\n",
       "      <td>[4902 Mathematical Physics, 4904 Pure Mathemat...</td>\n",
       "    </tr>\n",
       "    <tr>\n",
       "      <th>8</th>\n",
       "      <td>A Helix Down the Throat  Internal Tidal Effects</td>\n",
       "      <td>Tidal effects in capped geometries computed ...</td>\n",
       "      <td>[4902 Mathematical Physics, 5107 Particle and ...</td>\n",
       "    </tr>\n",
       "    <tr>\n",
       "      <th>9</th>\n",
       "      <td>Balancing Garbage Collection vs I O Amplificat...</td>\n",
       "      <td>Key value  KV  separation is a technique tha...</td>\n",
       "      <td>[4606 Distributed Computing and Systems Software]</td>\n",
       "    </tr>\n",
       "    <tr>\n",
       "      <th>10</th>\n",
       "      <td>NTIRE      Challenge on Burst Super Resolution...</td>\n",
       "      <td>This paper reviews the NTIRE     challenge o...</td>\n",
       "      <td>[4605 Data Management and Data Science]</td>\n",
       "    </tr>\n",
       "    <tr>\n",
       "      <th>11</th>\n",
       "      <td>The quantum  p  spin glass model  A user manua...</td>\n",
       "      <td>We study a large  N  bosonic quantum mechani...</td>\n",
       "      <td>[4902 Mathematical Physics, 5108 Quantum Physi...</td>\n",
       "    </tr>\n",
       "    <tr>\n",
       "      <th>12</th>\n",
       "      <td>Tunable Trajectory Planner Using G  Curves</td>\n",
       "      <td>Trajectory planning is commonly used as part...</td>\n",
       "      <td>[4005 Civil Engineering]</td>\n",
       "    </tr>\n",
       "    <tr>\n",
       "      <th>13</th>\n",
       "      <td>MemStream  Memory Based Anomaly Detection in M...</td>\n",
       "      <td>Given a stream of entries over time in a mul...</td>\n",
       "      <td>[4605 Data Management and Data Science, 4611 M...</td>\n",
       "    </tr>\n",
       "    <tr>\n",
       "      <th>14</th>\n",
       "      <td>Negative times of the Davey  Stewartson integr...</td>\n",
       "      <td>We use example of the Davey  Stewartson hier...</td>\n",
       "      <td>[4902 Mathematical Physics]</td>\n",
       "    </tr>\n",
       "    <tr>\n",
       "      <th>15</th>\n",
       "      <td>Khovanov homology for links in thickened multi...</td>\n",
       "      <td>We define a variant of Khovanov homology for...</td>\n",
       "      <td>[4904 Pure Mathematics]</td>\n",
       "    </tr>\n",
       "    <tr>\n",
       "      <th>16</th>\n",
       "      <td>Learning without Knowing  Unobserved Context i...</td>\n",
       "      <td>In this paper  we consider a transfer Reinfo...</td>\n",
       "      <td>[4602 Artificial Intelligence, 4611 Machine Le...</td>\n",
       "    </tr>\n",
       "    <tr>\n",
       "      <th>17</th>\n",
       "      <td>Pattern Recognition on Oriented Matroids  Symm...</td>\n",
       "      <td>We consider decompositions of topes of the o...</td>\n",
       "      <td>[4901 Applied Mathematics, 4904 Pure Mathematics]</td>\n",
       "    </tr>\n",
       "    <tr>\n",
       "      <th>18</th>\n",
       "      <td>Counterfactual Maximum Likelihood Estimation f...</td>\n",
       "      <td>Although deep learning models have driven st...</td>\n",
       "      <td>[4611 Machine Learning]</td>\n",
       "    </tr>\n",
       "    <tr>\n",
       "      <th>19</th>\n",
       "      <td>A Simple Recipe for Multilingual Grammatical E...</td>\n",
       "      <td>This paper presents a simple recipe to train...</td>\n",
       "      <td>[4704 Linguistics]</td>\n",
       "    </tr>\n",
       "  </tbody>\n",
       "</table>\n",
       "</div>"
      ],
      "text/plain": [
       "                                                title  \\\n",
       "0   SIMONe  View Invariant  Temporally Abstracted ...   \n",
       "1   How planets grow by pebble accretion IV  Envel...   \n",
       "2    GAN Cocktail  mixing GANs without dataset access   \n",
       "3     it CosmoPower       emulating cosmological p...   \n",
       "4   A Matrix Trickle Down Theorem on Simplicial Co...   \n",
       "5   Mean Shifted Contrastive Loss for Anomaly Dete...   \n",
       "6   Equivariant Graph Neural Networks for  D Macro...   \n",
       "7                   Non Abelian Hybrid Fracton Orders   \n",
       "8     A Helix Down the Throat  Internal Tidal Effects   \n",
       "9   Balancing Garbage Collection vs I O Amplificat...   \n",
       "10  NTIRE      Challenge on Burst Super Resolution...   \n",
       "11  The quantum  p  spin glass model  A user manua...   \n",
       "12         Tunable Trajectory Planner Using G  Curves   \n",
       "13  MemStream  Memory Based Anomaly Detection in M...   \n",
       "14  Negative times of the Davey  Stewartson integr...   \n",
       "15  Khovanov homology for links in thickened multi...   \n",
       "16  Learning without Knowing  Unobserved Context i...   \n",
       "17  Pattern Recognition on Oriented Matroids  Symm...   \n",
       "18  Counterfactual Maximum Likelihood Estimation f...   \n",
       "19  A Simple Recipe for Multilingual Grammatical E...   \n",
       "\n",
       "                                             abstract  \\\n",
       "0     To help agents reason about scenes in terms ...   \n",
       "1     The amount of nebular gas that a planet can ...   \n",
       "2     Today s generative models are capable of syn...   \n",
       "3     We present   it CosmoPower    a suite of neu...   \n",
       "4     We show that the natural Glauber dynamics mi...   \n",
       "5     Deep anomaly detection methods learn represe...   \n",
       "6     Representing and reasoning about  D structur...   \n",
       "7     We introduce lattice gauge theories which de...   \n",
       "8     Tidal effects in capped geometries computed ...   \n",
       "9     Key value  KV  separation is a technique tha...   \n",
       "10    This paper reviews the NTIRE     challenge o...   \n",
       "11    We study a large  N  bosonic quantum mechani...   \n",
       "12    Trajectory planning is commonly used as part...   \n",
       "13    Given a stream of entries over time in a mul...   \n",
       "14    We use example of the Davey  Stewartson hier...   \n",
       "15    We define a variant of Khovanov homology for...   \n",
       "16    In this paper  we consider a transfer Reinfo...   \n",
       "17    We consider decompositions of topes of the o...   \n",
       "18    Although deep learning models have driven st...   \n",
       "19    This paper presents a simple recipe to train...   \n",
       "\n",
       "                                       FoR_Categories  \n",
       "0   [4603 Computer Vision and Multimedia Computati...  \n",
       "1                               [5109 Space Sciences]  \n",
       "2                             [4611 Machine Learning]  \n",
       "3             [5107 Particle and High Energy Physics]  \n",
       "4   [4904 Pure Mathematics, 4901 Applied Mathematics]  \n",
       "5                             [4611 Machine Learning]  \n",
       "6                             [4611 Machine Learning]  \n",
       "7   [4902 Mathematical Physics, 4904 Pure Mathemat...  \n",
       "8   [4902 Mathematical Physics, 5107 Particle and ...  \n",
       "9   [4606 Distributed Computing and Systems Software]  \n",
       "10            [4605 Data Management and Data Science]  \n",
       "11  [4902 Mathematical Physics, 5108 Quantum Physi...  \n",
       "12                           [4005 Civil Engineering]  \n",
       "13  [4605 Data Management and Data Science, 4611 M...  \n",
       "14                        [4902 Mathematical Physics]  \n",
       "15                            [4904 Pure Mathematics]  \n",
       "16  [4602 Artificial Intelligence, 4611 Machine Le...  \n",
       "17  [4901 Applied Mathematics, 4904 Pure Mathematics]  \n",
       "18                            [4611 Machine Learning]  \n",
       "19                                 [4704 Linguistics]  "
      ]
     },
     "execution_count": 10,
     "metadata": {},
     "output_type": "execute_result"
    }
   ],
   "source": [
    "df.head(20)"
   ]
  },
  {
   "cell_type": "markdown",
   "metadata": {
    "Collapsed": "false",
    "id": "t0FvVYOYxVjc"
   },
   "source": [
    "Above, we see that some document texts did not receive any suggested FoR codes, while others received multiple codes. The classifier is programmed assign each document 0-4 FoR codes. It may fail to classify or produce unexpected results when working with longer texts. "
   ]
  },
  {
   "cell_type": "markdown",
   "metadata": {
    "Collapsed": "false",
    "id": "1AdO3Re5xVjc"
   },
   "source": [
    "## 3. Number of FoR categories per document"
   ]
  },
  {
   "cell_type": "markdown",
   "metadata": {
    "Collapsed": "false",
    "id": "BfWJK6VHxVjc"
   },
   "source": [
    "Below, we plot the frequency of each count of categories using matplotlib:"
   ]
  },
  {
   "cell_type": "code",
   "execution_count": 11,
   "metadata": {
    "Collapsed": "false",
    "id": "R9o8poYvxVjd",
    "outputId": "d8156355-8127-4d00-8866-1d1e6e802b6f"
   },
   "outputs": [
    {
     "data": {
      "text/plain": [
       "<Axes: title={'center': 'Frequency of FoR counts'}, xlabel='Number of FoR categories', ylabel='Occurences'>"
      ]
     },
     "execution_count": 11,
     "metadata": {},
     "output_type": "execute_result"
    },
    {
     "data": {
      "image/png": "[encoded data removed]",
      "text/plain": [
       "<Figure size 640x480 with 1 Axes>"
      ]
     },
     "metadata": {},
     "output_type": "display_data"
    }
   ],
   "source": [
    "df['Counts'] = ''\n",
    "for index, row in df.iterrows():\n",
    "    df['Counts'][index] = len(df['FoR_Categories'][index])\n",
    "\n",
    "df['Counts'].value_counts().plot.bar(rot=0, \n",
    "                                     title='Frequency of FoR counts', \n",
    "                                     ylabel='Occurences', \n",
    "                                     xlabel='Number of FoR categories')"
   ]
  },
  {
   "cell_type": "markdown",
   "metadata": {
    "Collapsed": "false",
    "id": "AUgwrEjVxVjd"
   },
   "source": [
    "Here, we see that many of the documents were not assigned to any FoR categories. \n",
    "\n",
    "Of the documents that were successfully classified, the majority received only one FoR assignment. "
   ]
  },
  {
   "cell_type": "markdown",
   "metadata": {
    "Collapsed": "false",
    "id": "1Z3lbtXjxVjd"
   },
   "source": [
    "## 4. Top FoR categories by document count"
   ]
  },
  {
   "cell_type": "markdown",
   "metadata": {
    "Collapsed": "false",
    "id": "V3Ln4B6qxVjd"
   },
   "source": [
    "Below, we plot the top 10 FoR categories by document count."
   ]
  },
  {
   "cell_type": "code",
   "execution_count": 12,
   "metadata": {
    "Collapsed": "false",
    "id": "C1xCr7B-xVjd"
   },
   "outputs": [],
   "source": [
    "all_codes = pd.Series([category for item in df.FoR_Categories for category in item])\n",
    "code_counts = all_codes.value_counts()"
   ]
  },
  {
   "cell_type": "code",
   "execution_count": 13,
   "metadata": {
    "Collapsed": "false"
   },
   "outputs": [
    {
     "data": {
      "text/plain": [
       "<Axes: title={'center': 'Top FoR categories'}, xlabel='Number of documents', ylabel='Category'>"
      ]
     },
     "execution_count": 13,
     "metadata": {},
     "output_type": "execute_result"
    },
    {
     "data": {
      "image/png": "[encoded data removed]",
      "text/plain": [
       "<Figure size 640x480 with 1 Axes>"
      ]
     },
     "metadata": {},
     "output_type": "display_data"
    }
   ],
   "source": [
    "code_counts[:10].plot.barh(rot=0,\n",
    "                           title='Top FoR categories', \n",
    "                           ylabel='Category', \n",
    "                           xlabel='Number of documents')"
   ]
  },
  {
   "cell_type": "markdown",
   "metadata": {
    "Collapsed": "false",
    "id": "DPYNMid6xVje"
   },
   "source": [
    "'Artificial Intelligence and Image Processing' is the most common FoR category,  followed by 'Statistics'."
   ]
  },
  {
   "cell_type": "markdown",
   "metadata": {
    "Collapsed": "false",
    "id": "nEM8gMVuxVje"
   },
   "source": [
    "---\n",
    "## Conclusions\n",
    "\n",
    "In this notebook we have shown how to use the [Dimensions Analytics API](https://www.dimensions.ai/dimensions-apis/) *classify* function to retrieve suggested Field of Research (FoR) codes for a set of documents. \n",
    "\n",
    "For more background, see the [classify function documentation](https://docs.dimensions.ai/dsl/functions.html#function-classify), as well as the other functions available via the Dimensions API. \n"
   ]
  }
 ],
 "metadata": {
  "colab": {
   "collapsed_sections": [],
   "name": "[APILAB] Jay Reagan - Enrich text with FoR codes.ipynb",
   "provenance": []
  },
  "kernelspec": {
   "display_name": "Python 3 (ipykernel)",
   "language": "python",
   "name": "python3"
  },
  "language_info": {
   "codemirror_mode": {
    "name": "ipython",
    "version": 3
   },
   "file_extension": ".py",
   "mimetype": "text/x-python",
   "name": "python",
   "nbconvert_exporter": "python",
   "pygments_lexer": "ipython3",
   "version": "3.11.1"
  }
 },
 "nbformat": 4,
 "nbformat_minor": 4
}
