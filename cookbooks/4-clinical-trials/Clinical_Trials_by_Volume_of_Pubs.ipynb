{
 "cells": [
  {
   "cell_type": "markdown",
   "metadata": {
    "Collapsed": "false",
    "colab_type": "text",
    "id": "70_AcCo6JSwn"
   },
   "source": [
    "# Clinical Trials by Volume of Publications\n",
    "\n",
    "This notebook shows how use the [Dimensions Analytics API](https://www.dimensions.ai/dimensions-apis/) in order to get a list of clinical trials records and then sort them by the total number of publications they cite."
   ]
  },
  {
   "cell_type": "markdown",
   "metadata": {
    "Collapsed": "false",
    "colab_type": "text",
    "id": "hMaQlB7DG8Vw"
   },
   "source": [
    "## Prerequisites\n",
    "\n",
    "This notebook assumes you have installed the [Dimcli](https://pypi.org/project/dimcli/) library and are familiar with the *Getting Started* tutorial.\n"
   ]
  },
  {
   "cell_type": "code",
   "execution_count": 1,
   "metadata": {
    "Collapsed": "false"
   },
   "outputs": [
    {
     "data": {
      "text/html": [
       "        <script type=\"text/javascript\">\n",
       "        window.PlotlyConfig = {MathJaxConfig: 'local'};\n",
       "        if (window.MathJax) {MathJax.Hub.Config({SVG: {font: \"STIX-Web\"}});}\n",
       "        if (typeof require !== 'undefined') {\n",
       "        require.undef(\"plotly\");\n",
       "        requirejs.config({\n",
       "            paths: {\n",
       "                'plotly': ['https://cdn.plot.ly/plotly-latest.min']\n",
       "            }\n",
       "        });\n",
       "        require(['plotly'], function(Plotly) {\n",
       "            window._Plotly = Plotly;\n",
       "        });\n",
       "        }\n",
       "        </script>\n",
       "        "
      ]
     },
     "metadata": {},
     "output_type": "display_data"
    },
    {
     "name": "stdout",
     "output_type": "stream",
     "text": [
      "==\n",
      "Logging in..\n",
      "\u001b[2mDimcli - Dimensions API Client (v0.8.2)\u001b[0m\n",
      "\u001b[2mConnected to: https://app.dimensions.ai - DSL v1.28\u001b[0m\n",
      "\u001b[2mMethod: dsl.ini file\u001b[0m\n"
     ]
    }
   ],
   "source": [
    "!pip install dimcli plotly tqdm -U --quiet \n",
    "\n",
    "import dimcli\n",
    "from dimcli.utils import *\n",
    "\n",
    "import os, sys, time, json\n",
    "from tqdm.notebook import tqdm \n",
    "import pandas as pd\n",
    "import plotly.express as px\n",
    "from plotly.offline import plot\n",
    "if not 'google.colab' in sys.modules:\n",
    "  # make js dependecies local / needed by html exports\n",
    "  from plotly.offline import init_notebook_mode\n",
    "  init_notebook_mode(connected=True)\n",
    "\n",
    "print(\"==\\nLogging in..\")\n",
    "# https://digital-science.github.io/dimcli/getting-started.html#authentication\n",
    "ENDPOINT = \"https://app.dimensions.ai\"\n",
    "if 'google.colab' in sys.modules:\n",
    "  import getpass\n",
    "  KEY = getpass.getpass(prompt='API Key: ')  \n",
    "  dimcli.login(key=KEY, endpoint=ENDPOINT)\n",
    "else:\n",
    "  KEY = \"\"\n",
    "  dimcli.login(key=KEY, endpoint=ENDPOINT)\n",
    "dsl = dimcli.Dsl()"
   ]
  },
  {
   "cell_type": "markdown",
   "metadata": {
    "Collapsed": "false"
   },
   "source": [
    "## Query for Clinical Trials"
   ]
  },
  {
   "cell_type": "code",
   "execution_count": 2,
   "metadata": {
    "Collapsed": "false",
    "colab": {},
    "colab_type": "code",
    "id": "kCyRd6xE_GQJ"
   },
   "outputs": [],
   "source": [
    "q = \"\"\"search clinical_trials where category_rcdc.name=\"Multiple Sclerosis\" \n",
    "        and active_years=[2017, 2018, 2019] \n",
    "        return clinical_trials[basics+publication_ids]\"\"\""
   ]
  },
  {
   "cell_type": "code",
   "execution_count": 3,
   "metadata": {
    "Collapsed": "false",
    "colab": {
     "base_uri": "https://localhost:8080/",
     "height": 324
    },
    "colab_type": "code",
    "id": "pNV3BZ5G_cD1",
    "outputId": "562b8f2b-78dd-4564-935f-264f1ee44232"
   },
   "outputs": [
    {
     "name": "stdout",
     "output_type": "stream",
     "text": [
      "Starting iteration with limit=1000 skip=0 ...\n",
      "0-1000 / 2310 (3.08s)\n",
      "1000-2000 / 2310 (2.89s)\n",
      "2000-2310 / 2310 (1.12s)\n",
      "===\n",
      "Records extracted: 2310\n"
     ]
    },
    {
     "data": {
      "text/html": [
       "<div>\n",
       "<style scoped>\n",
       "    .dataframe tbody tr th:only-of-type {\n",
       "        vertical-align: middle;\n",
       "    }\n",
       "\n",
       "    .dataframe tbody tr th {\n",
       "        vertical-align: top;\n",
       "    }\n",
       "\n",
       "    .dataframe thead th {\n",
       "        text-align: right;\n",
       "    }\n",
       "</style>\n",
       "<table border=\"1\" class=\"dataframe\">\n",
       "  <thead>\n",
       "    <tr style=\"text-align: right;\">\n",
       "      <th></th>\n",
       "      <th>investigator_details</th>\n",
       "      <th>active_years</th>\n",
       "      <th>title</th>\n",
       "      <th>id</th>\n",
       "      <th>publication_ids</th>\n",
       "    </tr>\n",
       "  </thead>\n",
       "  <tbody>\n",
       "    <tr>\n",
       "      <th>0</th>\n",
       "      <td>[[Jacob J Sosnoff, PhD, Principal Investigator...</td>\n",
       "      <td>[2015, 2016]</td>\n",
       "      <td>Computerized Cognition Testing and Cognitive M...</td>\n",
       "      <td>NCT02318576</td>\n",
       "      <td>NaN</td>\n",
       "    </tr>\n",
       "    <tr>\n",
       "      <th>1</th>\n",
       "      <td>NaN</td>\n",
       "      <td>[2015, 2016]</td>\n",
       "      <td>A Multicenter, Open-Label, 12-Month Observatio...</td>\n",
       "      <td>NCT02323269</td>\n",
       "      <td>NaN</td>\n",
       "    </tr>\n",
       "    <tr>\n",
       "      <th>2</th>\n",
       "      <td>[[Luisa Klotz, PD Dr med, Principal Investigat...</td>\n",
       "      <td>[2014, 2015, 2016]</td>\n",
       "      <td>A 32-week, Monocentric, Exploratory, Single Ar...</td>\n",
       "      <td>NCT02325440</td>\n",
       "      <td>[pub.1105419585]</td>\n",
       "    </tr>\n",
       "    <tr>\n",
       "      <th>3</th>\n",
       "      <td>NaN</td>\n",
       "      <td>[2014, 2015, 2016, 2017]</td>\n",
       "      <td>Patient Reported Outcomes With Fingolimod in L...</td>\n",
       "      <td>NCT02335892</td>\n",
       "      <td>NaN</td>\n",
       "    </tr>\n",
       "    <tr>\n",
       "      <th>4</th>\n",
       "      <td>[[Peter Feys, prof dr, Principal Investigator,...</td>\n",
       "      <td>[2014, 2015, 2016]</td>\n",
       "      <td>Psychometric Properties of Outcome Measures fo...</td>\n",
       "      <td>NCT02339675</td>\n",
       "      <td>NaN</td>\n",
       "    </tr>\n",
       "  </tbody>\n",
       "</table>\n",
       "</div>"
      ],
      "text/plain": [
       "                                investigator_details  \\\n",
       "0  [[Jacob J Sosnoff, PhD, Principal Investigator...   \n",
       "1                                                NaN   \n",
       "2  [[Luisa Klotz, PD Dr med, Principal Investigat...   \n",
       "3                                                NaN   \n",
       "4  [[Peter Feys, prof dr, Principal Investigator,...   \n",
       "\n",
       "               active_years  \\\n",
       "0              [2015, 2016]   \n",
       "1              [2015, 2016]   \n",
       "2        [2014, 2015, 2016]   \n",
       "3  [2014, 2015, 2016, 2017]   \n",
       "4        [2014, 2015, 2016]   \n",
       "\n",
       "                                               title           id  \\\n",
       "0  Computerized Cognition Testing and Cognitive M...  NCT02318576   \n",
       "1  A Multicenter, Open-Label, 12-Month Observatio...  NCT02323269   \n",
       "2  A 32-week, Monocentric, Exploratory, Single Ar...  NCT02325440   \n",
       "3  Patient Reported Outcomes With Fingolimod in L...  NCT02335892   \n",
       "4  Psychometric Properties of Outcome Measures fo...  NCT02339675   \n",
       "\n",
       "    publication_ids  \n",
       "0               NaN  \n",
       "1               NaN  \n",
       "2  [pub.1105419585]  \n",
       "3               NaN  \n",
       "4               NaN  "
      ]
     },
     "execution_count": 3,
     "metadata": {},
     "output_type": "execute_result"
    }
   ],
   "source": [
    "df = dsl.query_iterative(q).as_dataframe()\n",
    "df.head()"
   ]
  },
  {
   "cell_type": "markdown",
   "metadata": {
    "Collapsed": "false"
   },
   "source": [
    "## Counting publications per clinical trial\n",
    "\n",
    "Before we can count publications, we should ensure that all the values are 'countable'. So we have to transform all None values in `publication_ids` into empty lists first."
   ]
  },
  {
   "cell_type": "code",
   "execution_count": 4,
   "metadata": {
    "Collapsed": "false",
    "colab": {},
    "colab_type": "code",
    "id": "SH_uUZ5tAqjh"
   },
   "outputs": [],
   "source": [
    "# replace empty values with empty lists so that they can be counted\n",
    "for row in df.loc[df.publication_ids.isnull(), 'publication_ids'].index:\n",
    "    df.at[row, 'publication_ids'] = []"
   ]
  },
  {
   "cell_type": "markdown",
   "metadata": {
    "Collapsed": "false"
   },
   "source": [
    "Now it's ok to count publications"
   ]
  },
  {
   "cell_type": "code",
   "execution_count": 5,
   "metadata": {
    "Collapsed": "false"
   },
   "outputs": [
    {
     "data": {
      "text/html": [
       "<div>\n",
       "<style scoped>\n",
       "    .dataframe tbody tr th:only-of-type {\n",
       "        vertical-align: middle;\n",
       "    }\n",
       "\n",
       "    .dataframe tbody tr th {\n",
       "        vertical-align: top;\n",
       "    }\n",
       "\n",
       "    .dataframe thead th {\n",
       "        text-align: right;\n",
       "    }\n",
       "</style>\n",
       "<table border=\"1\" class=\"dataframe\">\n",
       "  <thead>\n",
       "    <tr style=\"text-align: right;\">\n",
       "      <th></th>\n",
       "      <th>investigator_details</th>\n",
       "      <th>active_years</th>\n",
       "      <th>title</th>\n",
       "      <th>id</th>\n",
       "      <th>publication_ids</th>\n",
       "      <th>pubs_tot</th>\n",
       "    </tr>\n",
       "  </thead>\n",
       "  <tbody>\n",
       "    <tr>\n",
       "      <th>1236</th>\n",
       "      <td>NaN</td>\n",
       "      <td>[2019, 2020, 2021]</td>\n",
       "      <td>Exploration of Brain Changes Due to a Targeted...</td>\n",
       "      <td>NCT04073940</td>\n",
       "      <td>[pub.1083319037, pub.1009477785, pub.101592704...</td>\n",
       "      <td>100</td>\n",
       "    </tr>\n",
       "    <tr>\n",
       "      <th>1006</th>\n",
       "      <td>[[Dawn Ehde, PhD, Principal Investigator, Univ...</td>\n",
       "      <td>[2018, 2019, 2020, 2021, 2022]</td>\n",
       "      <td>Mindfulness-based Cognitive Therapy and Cognit...</td>\n",
       "      <td>NCT03782246</td>\n",
       "      <td>[pub.1053925843, pub.1007565109, pub.105228507...</td>\n",
       "      <td>73</td>\n",
       "    </tr>\n",
       "    <tr>\n",
       "      <th>82</th>\n",
       "      <td>[[Gavin Givannoni, , Principal Investigator, Q...</td>\n",
       "      <td>[2014, 2015, 2016, 2017, 2018]</td>\n",
       "      <td>OxCarbazepine as a Neuroprotective Agent in MS...</td>\n",
       "      <td>NCT02104661</td>\n",
       "      <td>[pub.1064157001, pub.1025592460, pub.101978498...</td>\n",
       "      <td>48</td>\n",
       "    </tr>\n",
       "    <tr>\n",
       "      <th>805</th>\n",
       "      <td>[[Myla Goldman, MD, Principal Investigator, Un...</td>\n",
       "      <td>[2016, 2017, 2018, 2019, 2020]</td>\n",
       "      <td>Assessment of the Clinical Importance of Insul...</td>\n",
       "      <td>NCT03004079</td>\n",
       "      <td>[pub.1033394944, pub.1030394891, pub.102122971...</td>\n",
       "      <td>46</td>\n",
       "    </tr>\n",
       "    <tr>\n",
       "      <th>2167</th>\n",
       "      <td>[[Bruce Cree, MD, PhD, MAS, Principal Investig...</td>\n",
       "      <td>[2020, 2021, 2022, 2023, 2024, 2025]</td>\n",
       "      <td>Impact of Ocrelizumab on Cerebrospinal Fluid B...</td>\n",
       "      <td>NCT04466150</td>\n",
       "      <td>[pub.1126808290, pub.1001923498, pub.105943841...</td>\n",
       "      <td>45</td>\n",
       "    </tr>\n",
       "  </tbody>\n",
       "</table>\n",
       "</div>"
      ],
      "text/plain": [
       "                                   investigator_details  \\\n",
       "1236                                                NaN   \n",
       "1006  [[Dawn Ehde, PhD, Principal Investigator, Univ...   \n",
       "82    [[Gavin Givannoni, , Principal Investigator, Q...   \n",
       "805   [[Myla Goldman, MD, Principal Investigator, Un...   \n",
       "2167  [[Bruce Cree, MD, PhD, MAS, Principal Investig...   \n",
       "\n",
       "                              active_years  \\\n",
       "1236                    [2019, 2020, 2021]   \n",
       "1006        [2018, 2019, 2020, 2021, 2022]   \n",
       "82          [2014, 2015, 2016, 2017, 2018]   \n",
       "805         [2016, 2017, 2018, 2019, 2020]   \n",
       "2167  [2020, 2021, 2022, 2023, 2024, 2025]   \n",
       "\n",
       "                                                  title           id  \\\n",
       "1236  Exploration of Brain Changes Due to a Targeted...  NCT04073940   \n",
       "1006  Mindfulness-based Cognitive Therapy and Cognit...  NCT03782246   \n",
       "82    OxCarbazepine as a Neuroprotective Agent in MS...  NCT02104661   \n",
       "805   Assessment of the Clinical Importance of Insul...  NCT03004079   \n",
       "2167  Impact of Ocrelizumab on Cerebrospinal Fluid B...  NCT04466150   \n",
       "\n",
       "                                        publication_ids  pubs_tot  \n",
       "1236  [pub.1083319037, pub.1009477785, pub.101592704...       100  \n",
       "1006  [pub.1053925843, pub.1007565109, pub.105228507...        73  \n",
       "82    [pub.1064157001, pub.1025592460, pub.101978498...        48  \n",
       "805   [pub.1033394944, pub.1030394891, pub.102122971...        46  \n",
       "2167  [pub.1126808290, pub.1001923498, pub.105943841...        45  "
      ]
     },
     "execution_count": 5,
     "metadata": {},
     "output_type": "execute_result"
    }
   ],
   "source": [
    "# create new column\n",
    "df['pubs_tot'] = df['publication_ids'].apply(lambda x: len(x))\n",
    "# sort \n",
    "df.sort_values(\"pubs_tot\", ascending=False, inplace=True)\n",
    "df.head(5)"
   ]
  },
  {
   "cell_type": "markdown",
   "metadata": {
    "Collapsed": "false"
   },
   "source": [
    "A simple data visualization"
   ]
  },
  {
   "cell_type": "code",
   "execution_count": 6,
   "metadata": {
    "Collapsed": "false",
    "colab": {
     "base_uri": "https://localhost:8080/",
     "height": 617
    },
    "colab_type": "code",
    "id": "9giBxuAqWi8c",
    "outputId": "ca11f394-d8bf-4329-c235-bee1fdcbb6aa"
   },
   "outputs": [
    {
     "data": {
      "application/vnd.plotly.v1+json": {
       "config": {
        "plotlyServerURL": "https://plot.ly"
       },
       "data": [
        {
         "alignmentgroup": "True",
         "customdata": [
          [
           [
            2019,
            2020,
            2021
           ]
          ],
          [
           [
            2018,
            2019,
            2020,
            2021,
            2022
           ]
          ],
          [
           [
            2014,
            2015,
            2016,
            2017,
            2018
           ]
          ],
          [
           [
            2016,
            2017,
            2018,
            2019,
            2020
           ]
          ],
          [
           [
            2020,
            2021,
            2022,
            2023,
            2024,
            2025
           ]
          ],
          [
           [
            2014,
            2015
           ]
          ],
          [
           null
          ],
          [
           [
            2017,
            2018,
            2019
           ]
          ],
          [
           [
            2020,
            2021,
            2022
           ]
          ],
          [
           [
            2019,
            2020,
            2021
           ]
          ],
          [
           [
            2014,
            2015,
            2016
           ]
          ],
          [
           [
            2020
           ]
          ],
          [
           [
            2011,
            2012,
            2013
           ]
          ],
          [
           [
            2020,
            2021,
            2022,
            2023
           ]
          ],
          [
           [
            2014,
            2015,
            2016,
            2017,
            2018,
            2019
           ]
          ],
          [
           [
            2018,
            2019
           ]
          ],
          [
           [
            2021,
            2022
           ]
          ],
          [
           [
            2010,
            2011,
            2012,
            2013
           ]
          ],
          [
           [
            2018,
            2019,
            2020
           ]
          ],
          [
           [
            2015,
            2016,
            2017
           ]
          ],
          [
           [
            2015,
            2016,
            2017,
            2018,
            2019,
            2020,
            2021
           ]
          ],
          [
           [
            2013,
            2014,
            2015,
            2016,
            2017,
            2018
           ]
          ],
          [
           [
            2018,
            2019
           ]
          ],
          [
           [
            2014,
            2015,
            2016
           ]
          ],
          [
           null
          ],
          [
           [
            2017,
            2018,
            2019,
            2020,
            2021
           ]
          ],
          [
           null
          ],
          [
           [
            2015,
            2016,
            2017,
            2018,
            2019,
            2020,
            2021,
            2022
           ]
          ],
          [
           [
            2015,
            2016,
            2017,
            2018,
            2019
           ]
          ],
          [
           [
            2020,
            2021,
            2022,
            2023
           ]
          ],
          [
           [
            2016,
            2017,
            2018,
            2019,
            2020,
            2021,
            2022,
            2023
           ]
          ],
          [
           [
            2016
           ]
          ],
          [
           [
            2018,
            2019,
            2020,
            2021,
            2022
           ]
          ],
          [
           [
            2018,
            2019
           ]
          ],
          [
           [
            2012,
            2013,
            2014,
            2015
           ]
          ],
          [
           [
            2019
           ]
          ],
          [
           [
            2016,
            2017
           ]
          ],
          [
           [
            2017,
            2018,
            2019,
            2020
           ]
          ],
          [
           [
            2016,
            2017,
            2018,
            2019,
            2020
           ]
          ],
          [
           [
            2019,
            2020
           ]
          ],
          [
           [
            2018,
            2019
           ]
          ],
          [
           [
            2016,
            2017,
            2018
           ]
          ],
          [
           [
            2019,
            2020,
            2021,
            2022,
            2023,
            2024,
            2025
           ]
          ],
          [
           [
            2018,
            2019,
            2020,
            2021
           ]
          ],
          [
           [
            2016,
            2017,
            2018,
            2019,
            2020
           ]
          ],
          [
           [
            2018,
            2019,
            2020
           ]
          ],
          [
           [
            2018,
            2019,
            2020,
            2021
           ]
          ],
          [
           [
            2020,
            2021,
            2022
           ]
          ],
          [
           [
            2014,
            2015,
            2016,
            2017,
            2018
           ]
          ],
          [
           [
            2020,
            2021
           ]
          ],
          [
           [
            2002,
            2003,
            2004,
            2005,
            2006,
            2007,
            2008
           ]
          ],
          [
           [
            2019,
            2020,
            2021
           ]
          ],
          [
           [
            2018,
            2019,
            2020
           ]
          ],
          [
           [
            2018,
            2019
           ]
          ],
          [
           [
            2008
           ]
          ],
          [
           [
            2018
           ]
          ],
          [
           [
            2016,
            2017,
            2018
           ]
          ],
          [
           [
            2012,
            2013,
            2014,
            2015,
            2016
           ]
          ],
          [
           [
            2012
           ]
          ],
          [
           [
            2014,
            2015,
            2016
           ]
          ],
          [
           [
            2015
           ]
          ],
          [
           [
            2020,
            2021
           ]
          ],
          [
           [
            2018,
            2019
           ]
          ],
          [
           [
            2012,
            2013
           ]
          ],
          [
           [
            2020,
            2021,
            2022
           ]
          ],
          [
           [
            2012,
            2013,
            2014
           ]
          ],
          [
           [
            2011,
            2012,
            2013,
            2014,
            2015,
            2016,
            2017,
            2018,
            2019,
            2020,
            2021,
            2022
           ]
          ],
          [
           [
            2007,
            2008,
            2009,
            2010,
            2011
           ]
          ],
          [
           [
            2018,
            2019,
            2020,
            2021,
            2022,
            2023,
            2024
           ]
          ],
          [
           null
          ],
          [
           [
            2006,
            2007,
            2008,
            2009,
            2010,
            2011,
            2012,
            2013,
            2014,
            2015
           ]
          ],
          [
           [
            2002,
            2003,
            2004,
            2005,
            2006,
            2007,
            2008,
            2009,
            2010
           ]
          ],
          [
           [
            2017,
            2018,
            2019
           ]
          ],
          [
           [
            2011,
            2012,
            2013,
            2014,
            2015,
            2016,
            2017,
            2018,
            2019
           ]
          ],
          [
           [
            2017,
            2018,
            2019
           ]
          ],
          [
           [
            2007,
            2008,
            2009,
            2010,
            2011
           ]
          ],
          [
           [
            2015,
            2016
           ]
          ],
          [
           [
            2018,
            2019,
            2020,
            2021
           ]
          ],
          [
           [
            2009,
            2010,
            2011,
            2012,
            2013,
            2014,
            2015,
            2016
           ]
          ],
          [
           [
            2019,
            2020,
            2021
           ]
          ],
          [
           [
            2007,
            2008,
            2009,
            2010,
            2011
           ]
          ],
          [
           [
            2013,
            2014,
            2015,
            2016,
            2017,
            2018,
            2019,
            2020,
            2021
           ]
          ],
          [
           [
            2015,
            2016,
            2017
           ]
          ],
          [
           [
            2014,
            2015,
            2016
           ]
          ],
          [
           [
            2018,
            2019,
            2020
           ]
          ],
          [
           [
            2010,
            2011
           ]
          ],
          [
           [
            2007,
            2008,
            2009,
            2010,
            2011
           ]
          ],
          [
           [
            2018,
            2019
           ]
          ],
          [
           [
            2015,
            2016,
            2017,
            2018,
            2019,
            2020
           ]
          ],
          [
           [
            2019,
            2020,
            2021,
            2022
           ]
          ],
          [
           [
            2007,
            2008,
            2009,
            2010,
            2011,
            2012,
            2013,
            2014
           ]
          ],
          [
           [
            2006,
            2007,
            2008,
            2009
           ]
          ],
          [
           [
            2014,
            2015,
            2016,
            2017
           ]
          ],
          [
           [
            2019,
            2020
           ]
          ],
          [
           [
            2014,
            2015,
            2016
           ]
          ],
          [
           [
            2005,
            2006,
            2007,
            2008,
            2009,
            2010,
            2011
           ]
          ],
          [
           [
            2017,
            2018,
            2019
           ]
          ],
          [
           [
            2016,
            2017,
            2018,
            2019
           ]
          ],
          [
           [
            2012,
            2013,
            2014,
            2015,
            2016
           ]
          ],
          [
           [
            2018,
            2019
           ]
          ],
          [
           [
            2002,
            2003,
            2004,
            2005,
            2006,
            2007,
            2008
           ]
          ],
          [
           [
            2020,
            2021,
            2022,
            2023,
            2024,
            2025
           ]
          ],
          [
           [
            2016,
            2017
           ]
          ],
          [
           [
            2012,
            2013,
            2014,
            2015,
            2016,
            2017
           ]
          ],
          [
           [
            2009,
            2010,
            2011
           ]
          ],
          [
           [
            2018,
            2019
           ]
          ],
          [
           [
            2004,
            2005,
            2006,
            2007,
            2008,
            2009,
            2010
           ]
          ],
          [
           [
            2019,
            2020,
            2021
           ]
          ],
          [
           [
            2004,
            2005,
            2006
           ]
          ],
          [
           [
            2019,
            2020,
            2021
           ]
          ],
          [
           [
            2018,
            2019,
            2020
           ]
          ],
          [
           [
            2018,
            2019,
            2020,
            2021,
            2022
           ]
          ],
          [
           [
            2016,
            2017,
            2018
           ]
          ],
          [
           [
            2008,
            2009,
            2010,
            2011,
            2012,
            2013,
            2014,
            2015
           ]
          ],
          [
           [
            2018,
            2019,
            2020
           ]
          ],
          [
           [
            2015,
            2016
           ]
          ],
          [
           [
            2019,
            2020
           ]
          ],
          [
           [
            2014,
            2015
           ]
          ],
          [
           [
            2019,
            2020
           ]
          ],
          [
           [
            2006,
            2007,
            2008,
            2009,
            2010,
            2011
           ]
          ],
          [
           [
            2001,
            2002,
            2003,
            2004,
            2005,
            2006,
            2007,
            2008
           ]
          ],
          [
           null
          ],
          [
           [
            2013,
            2014
           ]
          ],
          [
           [
            2019,
            2020
           ]
          ],
          [
           [
            2017,
            2018,
            2019,
            2020
           ]
          ],
          [
           [
            2006,
            2007,
            2008,
            2009,
            2010,
            2011
           ]
          ],
          [
           [
            2013,
            2014,
            2015,
            2016,
            2017
           ]
          ],
          [
           [
            2016,
            2017,
            2018,
            2019
           ]
          ],
          [
           [
            2015,
            2016,
            2017,
            2018,
            2019,
            2020
           ]
          ],
          [
           [
            2011,
            2012,
            2013
           ]
          ],
          [
           [
            2015,
            2016
           ]
          ],
          [
           [
            2019,
            2020,
            2021,
            2022,
            2023,
            2024
           ]
          ],
          [
           [
            2004,
            2005
           ]
          ],
          [
           [
            2010,
            2011,
            2012,
            2013,
            2014
           ]
          ],
          [
           [
            2001,
            2002,
            2003,
            2004,
            2005,
            2006,
            2007,
            2008,
            2009
           ]
          ],
          [
           [
            2012,
            2013,
            2014,
            2015,
            2016,
            2017
           ]
          ],
          [
           [
            2015,
            2016,
            2017,
            2018,
            2019
           ]
          ],
          [
           [
            2018,
            2019,
            2020
           ]
          ],
          [
           [
            2018
           ]
          ],
          [
           [
            2011,
            2012,
            2013,
            2014,
            2015
           ]
          ],
          [
           [
            2013,
            2014,
            2015,
            2016,
            2017,
            2018
           ]
          ],
          [
           [
            2015,
            2016
           ]
          ],
          [
           [
            2020,
            2021
           ]
          ],
          [
           [
            2010,
            2011,
            2012,
            2013
           ]
          ],
          [
           [
            2009,
            2010,
            2011,
            2012,
            2013,
            2014,
            2015,
            2016,
            2017,
            2018
           ]
          ],
          [
           [
            2008,
            2009,
            2010,
            2011,
            2012
           ]
          ],
          [
           [
            2014
           ]
          ],
          [
           [
            2018,
            2019
           ]
          ],
          [
           [
            2009,
            2010
           ]
          ],
          [
           [
            2020,
            2021,
            2022
           ]
          ],
          [
           [
            2011,
            2012,
            2013,
            2014
           ]
          ],
          [
           [
            2015,
            2016,
            2017,
            2018,
            2019,
            2020
           ]
          ],
          [
           [
            1999,
            2000,
            2001,
            2002
           ]
          ],
          [
           [
            2019,
            2020,
            2021,
            2022
           ]
          ],
          [
           [
            2004,
            2005,
            2006,
            2007,
            2008,
            2009,
            2010,
            2011
           ]
          ],
          [
           [
            2013,
            2014
           ]
          ],
          [
           [
            2018
           ]
          ],
          [
           [
            2005,
            2006,
            2007,
            2008,
            2009,
            2010,
            2011,
            2012
           ]
          ],
          [
           [
            2017,
            2018
           ]
          ],
          [
           [
            2009,
            2010,
            2011,
            2012,
            2013,
            2014
           ]
          ],
          [
           [
            2002,
            2003,
            2004,
            2005,
            2006,
            2007
           ]
          ],
          [
           [
            2019,
            2020,
            2021
           ]
          ],
          [
           [
            2018
           ]
          ],
          [
           [
            2019,
            2020
           ]
          ],
          [
           [
            2017,
            2018,
            2019,
            2020
           ]
          ],
          [
           [
            2011,
            2012,
            2013,
            2014,
            2015,
            2016,
            2017,
            2018,
            2019,
            2020,
            2021
           ]
          ],
          [
           null
          ],
          [
           [
            2005,
            2006,
            2007,
            2008,
            2009
           ]
          ],
          [
           [
            2005
           ]
          ],
          [
           [
            2013,
            2014,
            2015,
            2016
           ]
          ],
          [
           [
            2012,
            2013
           ]
          ],
          [
           [
            2002,
            2003,
            2004,
            2005
           ]
          ],
          [
           [
            2012,
            2013,
            2014,
            2015
           ]
          ],
          [
           [
            2005,
            2006,
            2007,
            2008,
            2009
           ]
          ],
          [
           [
            2007,
            2008,
            2009,
            2010
           ]
          ],
          [
           [
            2009,
            2010,
            2011,
            2012
           ]
          ],
          [
           [
            2014,
            2015,
            2016
           ]
          ],
          [
           [
            2018
           ]
          ],
          [
           [
            2016,
            2017,
            2018,
            2019
           ]
          ],
          [
           null
          ],
          [
           [
            2010,
            2011,
            2012
           ]
          ],
          [
           [
            2010,
            2011
           ]
          ],
          [
           [
            2011,
            2012,
            2013,
            2014,
            2015
           ]
          ],
          [
           [
            2010,
            2011,
            2012,
            2013,
            2014,
            2015,
            2016,
            2017
           ]
          ],
          [
           [
            1999,
            2000,
            2001,
            2002,
            2003,
            2004,
            2005,
            2006,
            2007,
            2008
           ]
          ],
          [
           [
            2015,
            2016,
            2017
           ]
          ],
          [
           [
            2003,
            2004,
            2005
           ]
          ],
          [
           [
            2009,
            2010,
            2011,
            2012
           ]
          ],
          [
           [
            2015,
            2016,
            2017
           ]
          ],
          [
           [
            2018,
            2019,
            2020
           ]
          ],
          [
           [
            2011,
            2012,
            2013,
            2014,
            2015,
            2016,
            2017
           ]
          ],
          [
           [
            2020,
            2021
           ]
          ],
          [
           [
            2011,
            2012,
            2013,
            2014
           ]
          ],
          [
           [
            2006,
            2007,
            2008
           ]
          ],
          [
           [
            2020
           ]
          ],
          [
           [
            2006,
            2007,
            2008,
            2009,
            2010,
            2011
           ]
          ],
          [
           [
            2001,
            2002,
            2003,
            2004,
            2005,
            2006,
            2007,
            2008,
            2009,
            2010,
            2011,
            2012,
            2013,
            2014,
            2015,
            2016
           ]
          ],
          [
           [
            2012
           ]
          ],
          [
           [
            2019,
            2020,
            2021,
            2022,
            2023,
            2024,
            2025,
            2026,
            2027,
            2028
           ]
          ],
          [
           [
            2006,
            2007,
            2008,
            2009,
            2010,
            2011
           ]
          ]
         ],
         "hovertemplate": "<b>%{hovertext}</b><br><br>id=%{x}<br>pubs_tot=%{y}<br>active_years=%{customdata[0]}<extra></extra>",
         "hovertext": [
          "Exploration of Brain Changes Due to a Targeted Ballet Program in Multiple Sclerosis",
          "Mindfulness-based Cognitive Therapy and Cognitive Behavioral Therapy for Chronic Pain in Multiple Sclerosis",
          "OxCarbazepine as a Neuroprotective Agent in MS: A Phase 2a Trial",
          "Assessment of the Clinical Importance of Insulin Resistance & Steroid-Associated Hyperglycemia in Relapsing Multiple Sclerosis",
          "Impact of Ocrelizumab on Cerebrospinal Fluid Biomarkers at Multiple Sclerosis Onset",
          "An Observational Retrospective Database Analysis to Estimate the Risk of Multiple Sclerosis Following Vaccination With Arepanrix™ in Manitoba, Canada",
          "NARCOMS Global Multiple Sclerosis Registry: A Long-Term Study to Facilitate Research in Multiple Sclerosis",
          "A Randomized, Placebo-Controlled Study of Mindfulness Meditation in Treating Insomnia in Multiple Sclerosis",
          "Cladribine Tablets After Treatment With Natalizumab (CLADRINA)",
          "A Double-blind, Randomised, Placebo-controlled Single-site Study of High Dose Simvastatin Treatment for Secondary Progressive Multiple Sclerosis: Impact on Vascular Perfusion and Oxidative Damage",
          "Improving the Quality of Life of People With Multiple Sclerosis and Their Caregivers With a Telemedicine Mindfulness-Based Intervention",
          "The Utilization of Yoga as a Therapeutic Tool to Promote Physical Activity Behavior Change and Improved Postural Control in Individuals With Multiple Sclerosis",
          "Dalfampridine After Optic Neuritis to Improve Visual Function in Multiple Sclerosis",
          "Cerebrospinal Fluid-biomarkers-based Diagnostic and Prognostic Models for Multiple Sclerosis",
          "Short and Long Term Fampridine Treatment in Persons With Multiple Sclerosis: Cognitive and Motor Performances",
          "Attitudes, Barriers and Facilitators to Physical Activity in People With Multiple Sclerosis Following a Relapse",
          "Impact of a Multimedia Website With Patient Experiences of Multiple Sclerosis (PExMS) on Immunotherapy Decision-making: a Pilot Randomised Controlled Trial in a Mixed-methods Design",
          "A Randomised, Double Blinded Cross-over Study Comparing the Efficacy of L-carnitine Versus Placebo in the Treatment of Fatigue in Multiple Sclerosis",
          "Sequential Natalizumab - Alemtuzumab Therapy in Patients With Relapsing Forms of Multiple Sclerosis (SUPPRESS)",
          "Comparison Between Clinical and MRI Multiple Sclerosis Activity and Expression of Human Endogenous Retrovirus Type W and Herpesvirus in Peripheral Blood of Patients",
          "A Randomized Trial of Positive Airway Pressure Therapy to Treat Cognitive Dysfunction in MS Patients With Obstructive Sleep Apnea",
          "Effects of Adrenocorticotropic Hormone (ACTHAR Gel) on Recovery From Cognitive Relapses in Multiple Sclerosis",
          "Intervention to Reduce Distress From Perceived Cognitive Impairment in Multiple Sclerosis",
          "Real-Life Outcomes of Multiple Sclerosis Treatment With Rebif on Employment Status, Quality of Life and Cognition: a Pilot Study",
          "Longitudinal Optic Neuritis Study (LONS)",
          "Intranasal Insulin for Improving Cognitive Function in Multiple Sclerosis",
          "Optic Neuritis Treatment Trial (ONTT)",
          "Evaluation of the Safety and Efficacy of Reduced-intensity Immunoablation and Autologous Hematopoietic Stem Cell Transplantation (AHSCT) in Multiple Sclerosis",
          "Randomized, Controlled Pilot Trial of Domperidone in Relapsing-Remitting Multiple Sclerosis",
          "Study on the Interaction Between Immune, Autonomic and Central Nervous Systems as a Target of Exercise Therapy in Multiple Sclerosis",
          "Use of Cellular Stromal Vascular Fraction (cSVF) for Select Multiple Sclerosis, Autoimmune, Inflammatory, and Neurologic Conditions: Clinical Interventional Study of Adverse Events and Clinical Outcomes Using Autologous Stem-Stromal Cells.",
          "Characterization of Teriflunomide's Therapeutic Mechanisms of Action in Patients With Relapsing Remitting Multiple Sclerosis.",
          "Risk Factors in Early Multiple Sclerosis",
          "Retinal Thickness as a Potential Biomarker of Neurodegeneration and Early Cognitive Impairment in Patients With Multiple Sclerosis",
          "Randomized, Comparative, Double Blind Controlled Phase II Clinical Trial, to Evaluate the Efficacy of ApE in Patients With Multiple Sclerosis (MS).",
          "Investigation of the Effects of Respiratory Functions and Trunk Control on Functional Mobility in Individuals With Multiple Sclerosis",
          "Clinical Pilot Study in the Feasibility and Effect of Online Cognitive Training on Cognitive Functions in Patients With Parkinson's Disease, Multiple Sclerosis and Depressive Patients Treated With Electroconvulsive Therapy",
          "The Effect of Alemtuzumab on the Blood-brain-barrier and Cerebral Metabolism in Multiple Sclerosis Patients; a New MRI Method for Treatment Response Evaluation in Multiple Sclerosis",
          "Effect of Nordic Walking Training Compared With Conventional Endurance Training in Walking Capacity in People With Multiple Sclerosis: a Simple Blinded Randomized Controlled Trial",
          "Treatment Response Among Chinese Patients With Acute Attack of Neuromyelitis Optica Spectrum Disorders: A Prospective, Multicenter Real-world Study",
          "Factors Associated With Dual-Task Performance in Patients With Multiple Sclerosis",
          "Intensity Dependent Clinical Effects of a Task-oriented Upper Limb Training in Multiple Sclerosis",
          "Clinical Relevance of miR-142-3p as Potential Biomarker of Synaptopathy in Multiple Sclerosis",
          "Mechanistic Studies of Teriflunomide in Relapsing Remitting Multiple Sclerosis: Regulatory B Lymphocytes as Central Mediators of the Therapeutic Effects of Teriflunomide in MS",
          "Dietary Approaches to Treat Multiple Sclerosis-Related Fatigue Study",
          "Single-Arm, Non-Randomized, Time Series, Single-Subject Study: Fecal Microbiota Transplantation (FMT) in Multiple Sclerosis",
          "Observational Prospective Multicentered Study Evaluating Initial Clinical Presentation of Inflammatory Optic Neuritis (ON) Associated or Not With Autoantibodies Anti- Myelin-oligodendrocyte-glycoprotein (MOG-Ab)",
          "ESPRIMO: A Bio-psycho-social Co-created Intervention for Young Adults With Multiple Sclerosis: Study Protocol for a Feasibility Study",
          "7T MRI Ferumoxytol-Enhanced Characterization of Multiple Sclerosis and Demyelinating Diseases",
          "Pilot Feasibility Study of Out-of-Pocket Cost Communication and Supportive Financial Services for Reducing Financial Toxicity Among Multiple Sclerosis Patients",
          "Open-label, Multi-center Phase III Extension of the Double-blind, Placebo-controlled BENEFIT Study (no. 92012/304747) to Obtain Long-term Follow-up Data of Patients With Clinically Definite Multiple Sclerosis (MS) and Patients With a First Demyelinating Event Suggestive of MS Treated With 8 MIU (250 µg) Interferon Beta-1b (Betaferon® / Betaseron®) Given Subcutaneously Every Other Day for at Least 36 Months.",
          "The Inflammatory Synaptopathy as a Target of Exercise Therapy in the Fight Against Multiple Sclerosis",
          "A Single-center Prospective Measurement of Upper Extremity Function in Multiple Sclerosis Patients With Advanced Disability Treated With Ocrevus™",
          "The Effect of a Gluten Free Diet on the Permeability of the Blood Brain Barrier in Patients With Clinically Isolated Syndrome Measured by Dynamic Contrast Enhanced Magnetic Resonance Imaging",
          "Immunoregulation by Controlled Parasite Exposure in Multiple Sclerosis.",
          "The Effect of Task-Oriented Training on the Physical and Cognitive Functions in Patients With Multiple Sclerosis",
          "How Does Strength Training and Balance Training Affect Gait Function and Fatigue in Patients With Multiple Sclerosis?",
          "Continuous Positive Airway Pressure for Fatigue Treatment in Patients With Multiple Sclerosis and Obstructive Sleep Apnea",
          "The Effect of Percutaneous Venoplasty on Muscular Function, Mobility and Fatigue of Multiple Sclerosis (MS) Patients With Chronic Cerebrospinal Venous Insufficiency (CCSVI).",
          "Tolerability of Acthar for the Treatment of Multiple Sclerosis Relapses (TAMS)",
          "Theory Based Intervention Program to Support Physical Activity for Individuals With Multiple Sclerosis: a Case Series",
          "The Effectiveness of Game-Based Virtual Reality Approach in Patients With Multiple Sclerosis",
          "The Effect of Multiple-Task Training on Physical and Cognitive Functions in Patients With Multiple Sclerosis",
          "A Phase II Study of High Dose Chemotherapy With Autologous Hematopoietic Progenitor Cell Transplant for Multiple Sclerosis That Failed at Least Two Lines of Therapy",
          "Intermittent Theta Burst Stimulation (iTBS) for the Treatment of Depression in Patients With Multiple Sclerosis: a Randomized Controlled Study",
          "Comparing Lesion Contrast With Both Magnevist and Gadavist and Understanding the Cerebral Perfusion Patterns of Patients With Multiple Sclerosis (MS) Using Magnetic Resonance Imaging (MRI)",
          "A Double-Blind, Placebo Controlled Trial of Estriol Treatment in Women With Multiple Sclerosis: Effect on Cognition.",
          "A Randomized, Multicenter, Double-Blind, Placebo-Controlled, Dose-Comparison Study to Determine the Efficacy and Safety of BG00012 in Subjects With Relapsing-Remitting Multiple Sclerosis",
          "A Pilot Trial of Testosterone Treatment for Fatigue in Men With Multiple Sclerosis",
          "The German Multiple Sclerosis Registry of the German MS Society",
          "A Phase II Study of High-Dose Immunosuppressive Therapy Using Carmustine, Etoposide, Cytarabine, Melphalan, Thymoglobulin and Autologous CD34+ Hematopoietic Stem Cell Transplant for the Treatment of Poor Prognosis Multiple Sclerosis",
          "A Phase II, Randomized, Open-Label, Three-Arm Study Comparing Low- and High-Dose Alemtuzumab and High-Dose Subcutaneous Interferon Beta-1a (Rebif®) in Patients With Early, Active Relapsing-Remitting Multiple Sclerosis",
          "Tolerance-Induction With Dendritic Cells Treated With Vitamin-D3 and Loaded With Myelin Peptides, in Multiple Sclerosis Patients (TOLERVIT-MS)",
          "Multiple Sclerosis and Fabry Disease: Prevalence of Fabry Disease in a Defined Population at Risk - Patients Formerly Diagnosed With Multiple Sclerosis - an Epidemiological Study",
          "Comparison of Expanded Disability Status Scale, Gad-enhanced Brain Lesions, Annualized Relapse Rate, and Side Effects Between Active Secondary Progressive Multiple Sclerosis Patients on Rituximab and Glatiramer Acetate",
          "A Phase 3, Randomized, Rater- and Dose-Blinded Study Comparing Two Annual Cycles of Intravenous Low- and High-Dose Alemtuzumab to Three-Times Weekly Subcutaneous Interferon Beta 1a (Rebif®) in Patients With Relapsing Remitting Multiple Sclerosis Who Have Relapsed On Therapy",
          "Comparison of Rebif Compared to Tecifdera on Six-month Outcomes in Patients With Relapsing-remitting MS",
          "A Randomized Controlled Trial of Telephone-delivered Cognitive Behavioral-therapy, Modafinil, and Combination Therapy of Both Interventions for Fatigue in Multiple Sclerosis",
          "An Extension Protocol for Multiple Sclerosis Patients Who Participated in Genzyme-Sponsored Studies of Alemtuzumab",
          "The Impact of a Planned 12-week Dosing Interruption of Natalizumab on Immune Cell Trafficking, Pharmacokinetic (PK)/Pharmacodynamic (PD) Parameters, and Multiple Sclerosis (MS) Disease Stability.",
          "A Randomized, Multicenter, Placebo-Controlled and Active Reference (Glatiramer Acetate) Comparison Study to Evaluate the Efficacy and Safety of BG00012 in Subjects With Relapsing-Remitting Multiple Sclerosis",
          "Switching Relapsing Multiple Sclerosis Patients Treated With Natalizumab at Risk for Progressive Multifocal Leukoencephalopathy to Teriflunomide: Is This Safe and Effective? (Sub-study: SWITCH-JCV)",
          "A Phase 1b, Open-label Study to Evaluate the Safety and Tolerability of the Putative Remyelinating Agent, Liothyronine, in Individuals With MS",
          "An Examination of Potential Neurochemical and Cognitive Mediators of the Relationship Between Mindfulness and Emotion Regulation in Individuals With Multiple Sclerosis: An Internet Based Self-Guided Pilot Study.",
          "Fecal Microbiota Transplantation (FMT) of FMP30 in Relapsing-Remitting Multiple Sclerosis: A Phase 1b Clinical Trial to Evaluate Feasibility, Safety, Tolerability and Effects on Immune Function",
          "De-escalation After Natalizumab Treatment With Interferon-beta-1b in Patients With Relapsing-remitting Multiple Sclerosis",
          "A Phase 3 Randomized, Rater-Blinded Study Comparing Two Annual Cycles of Intravenous Alemtuzumab to Three-Times Weekly Subcutaneous Interferon Beta-1a (Rebif®) in Treatment-Naïve Patients With Relapsing-Remitting Multiple Sclerosis",
          "Reliability and Validity of Glittre Activities Of Daily Living (ADL) Test in Multiple Sclerosis",
          "Open-label, Single-center, Single-arm Futility Trial Evaluating Oral Domperidone 10mg QID for Reducing Progression of Disability in Patients With Secondary Progressive Multiple Sclerosis (SPMS)",
          "Behaviour and Well-Being: A Bio-Psycho-Social Model of Resilience in Young Adults Newly Diagnosed With Multiple Sclerosis",
          "A Combination Trial of Copaxone Plus Estriol in RRMS",
          "A 24-month, Double-blind, Randomized, Multicenter, Placebo-controlled, Parallel-group Study Comparing the Efficacy and Safety of Fingolimod 1.25 mg and 0.5 mg Administered Orally Once Daily Versus Placebo in Patients With Relapsing-remitting Multiple Sclerosis",
          "Controlled, Randomized, Double-blind Clinical Trial, 24 Months Duration, to Compare the Efficacy, Safety and Tolerability of Andrographolide Versus Placebo in Patients With Progressive Forms of Multiple Sclerosis",
          "Sexual Dysfunction in Patients With Relapsing Remitting Multiple Sclerosis and Associated Comorbidities",
          "Robot-assisted Gait Training in Patients Affected by Multiple Sclerosis: Rehabilitative Efficacy Evaluation and Comparison With Traditional Methods",
          "Effect of Cyclical Administration of Interferon β-1b in Multiple Sclerosis - Comparison With Normal Dose.",
          "A Multicentric Randomized PRAGmatic Trial to Compare the Effectiveness of Fingolimod Versus Dimethyl-Fumarate on Patient Overall Disease Experience in Relapsing Remitting Multiple Sclerosis: Novel Data to Inform Decision-makers",
          "Effect of a Tissue Selective Estrogen Complex on Menopausal Symptoms in Women With MS: A Pilot Trial.",
          "A Phase II Proof of Concept Study Evaluating the Reduction of Mitoxantrone-induced Cardiotoxicity and Neurological Outcome in the Combined Use of Mitoxantrone and Dexrazoxane (Cardioxane®) in Multiple Sclerosis (MSCardioPro)",
          "Management of Acute Disseminated Encephalomyelitis in Neurology Unit of Assiut University Children Hospital",
          "Safety and Tolerability of Oral Two-Doses Estroprogestins Associated With Interferon-Beta 1a in Patients With Relapsing-Remitting Multiple Sclerosis",
          "Clinically Isolated Syndrome and Relapsing-Remitting Multiple Sclerosis",
          "The Effects of Oral Nanocurcumin on Expression Levels of microRNAs and Treg Cells and Th17 Cells Development Factors in Multiple Sclerosis Patients",
          "Keratinocyte Growth Factor - Promoting Thymic Reconstitution and Preventing Autoimmunity After Alemtuzumab (Campath-1H) Treatment of Multiple Sclerosis",
          "An Open Label Study of the Effects of Eculizumab in Neuromyelitis Optica",
          "The Effect of Combined Exercise Training on Cognitive Functions in Patients With Multiple Sclerosis",
          "A Randomized, Double-Blind, Placebo-Controlled, Parallel Group Design Study to Evaluate the Efficacy and Safety of Teriflunomide in Reducing the Frequency of Relapses and Delaying the Accumulation of Physical Disability in Subjects With Multiple Sclerosis With Relapses",
          "Validation of a Shared Decision-Making Tool, MS-SUPPORT, to Improve Decisions About Disease Modifying Therapies (DMT) for Multiple Sclerosis",
          "Proposal to Create a Flagship Neurology and Palliative Care Service for South London",
          "The Relationship Between Kinesiophobia, Physical Activity, Balance and Fear of Fall in Multiple Sclerosis Patients",
          "Cortical Lesions in the Primary Sensorimotor Hand Area and Their Impact on Dexterity in Multiple Sclerosis: a 7T MRI Study",
          "Muscle Strain in Multiple Sclerosis Patients Measured by Ultrasound Speckle Tracking",
          "Intrathecal Methotrexate for Progressive Multiple Sclerosis: An Open Label Single Arm Study",
          "A Multi-center Double-blind Parallel-group Placebo-controlled Study of the Efficacy and Safety of Teriflunomide in Patients With Relapsing Multiple Sclerosis",
          "Exercise as a Supplemental Treatment Strategy Early in the Disease Course of Multiple Sclerosis",
          "Evaluating the Effect of Fingolimod With Fish Oil Compared to Fingolimod With Placebo on Tumor Necrosis Factor-α , Interleukin1b , Interleukin6, and Interferon-gamma in Patients With Relapsing-Remitting Multiple Sclerosis",
          "Dual Benefits of Vaginal Estriol: Improved Urogenital Health and Re-myelination in Relapsing Remitting Multiple Sclerosis (RRMS)",
          "Evaluation of Cerebrovascular Hemodynamics With Transcranial Doppler and Near-infrared Spectroscopy in Patients With Multiple Sclerosis",
          "The Reliability and Validity of the Functional Reach Test in Patients With Multiple Sclerosis",
          "A 12-month Double-blind, Randomized, Multicenter, Active-controlled, Parallel-group Study Comparing the Efficacy and Safety of 0.5 mg and 1.25 mg Fingolimod (FTY720) Administered Orally Once Daily Versus Interferon ß-1a (Avonex) Administered im Once Weekly in Patients With Relapsing-remitting Multiple Sclerosis With Optional Extension Phase",
          "Phase 2-3 Use of Bacille Calmette-Guèrin (BCG) Vaccine in Patients With a First Clinical Demyelinating Episode: a Multicenter, Randomized, Single Blind Study.",
          "fMRI and Neurophysiological Study Protocol on Cannabinoids in Multiple Sclerosis",
          "Role of Vitamin D on the Relapse Rate of Multiple Sclerosis",
          "Clinical Patterns of Neuromyelitis Optica Spectrum Disorders in Assiut University Hospital",
          "Study of the Link Between Retinal Atrophy and Demyelinating Inflammatory Processes on Visual Pathways in Relapsing Multiple Sclerosis in Magnetic Resonance Imaging and Optical Coherence Tomography",
          "24-month Double-blind, Randomized, Multicenter, Placebo-controlled, Parallel-group Study Comparing the Efficacy and Safety of 0.5 mg and 1.25 mg Fingolimod (FTY720) Administered Orally Once Daily Versus Placebo in Patients With Relapsing-remitting Multiple Sclerosis With Optional Extension Phase",
          "Neurophysiological, Dynamometric, Functional and Clinical Assessment of the Cross-Training Effect in Patients With Multiple Sclerosis",
          "Linking Optic Nerve Lesion Length at MRI and the Retinal Axonal Loss at 12 Months From a Clinical Episode of Optic Neuritis",
          "Control Fatigue: Sleep Medical Treatment as a Novel Therapeutic Approach to an Unmet Medical Need in Multiple Sclerosis",
          "Study to Evaluate the Responsiveness and Minimal Clinical Important Difference (MCID) of the 'Multiple Sclerosis Questionnaire for Physiotherapists' (MSQPT)",
          "Assessment of the Effectiveness of Guided by a Physiotherapist Versus Non-guided Pelvic Floor Exercises for Urinary Incontinence (UI) in Patients With Relapsing-Remitting (RR) Multiple Sclerosis",
          "Use of Cellular Stromal Vascular Fraction in Multiple Sclerosis",
          "Factors That Influence Compliance With Disease-Modifying Therapy in Multiple Sclerosis",
          "Multicenter, Double-blind, Randomized, Parallel-group, Monotherapy, Active-control Study to Determine the Efficacy and Safety of Daclizumab High Yield Process (DAC HYP) Versus Avonex® (Interferon β 1a) in Patients With Relapsing-Remitting Multiple Sclerosis",
          "Controlled High-risk Avonex Multiple Sclerosis Prevention Study in Ongoing Neurologic Surveillance (CHAMPIONS10)",
          "Effect of Vitamin D Replacement on Immune Function and Cognition in MS Patients",
          "Teriflunomide Observational Effectiveness Study",
          "The Effects of Extremity and \"Core\" Muscles Strength on Walking and Sit-to-Stand Performance in Patients With Multiple Sclerosis",
          "The Reliability, Validity, and Responsiveness of the Static Balance Test in Patients With Multiple Sclerosis.",
          "A Randomised Controlled Pilot Study to Compare the Effects of Prolonged Fasting and Ketogenic Low Glycemic Load Treatment on Health Related Quality of Life in Relapsing-remitting Multiple Sclerosis.",
          "Multidimensional Assessment of Fatigue in Multiple Sclerosis- Observational Study - Ticino",
          "Randomized Controlled Trial of Core Stability Training in Patients With Multiple Sclerosis: Biomechanical and Performance Based Analysis of Gait",
          "MicroRNA-150 and microRNA-155 as Molecular Biomarkers in Multiple Sclerosis",
          "The Effectiveness of Endovascular Treatment of Chronic Cerebrospinal Venous Insufficiency (CCSVI) in Patients With Multiple Sclerosis",
          "Double Blind Placebo-Controlled Phase I/II Clinical Trial of Idebenone in Patients With Primary Progressive Multiple Sclerosis",
          "Anti-Inflammatory Type II Monocyte Induction by Glatiramer Acetate (Copaxone) Treatment of Multiple Sclerosis",
          "Efficacy of Sustained-release Oral Dalfampridine on Upper Extremity Function in Patients With Multiple Sclerosis: a Pilot Study",
          "Reducing Sedentary Behaviour: A Novel Opportunity for Managing Comorbidity in MS?",
          "The Effects of Vitamin D3 Supplementation on the T Cell Compartment in Multiple Sclerosis; a Pilot Study",
          "Double-blinded, Randomized Controlled Trial of Simvastatin Use As Adjuvant Therapy in Relapsing-Remitting Multiple Sclerosis",
          "An Exploratory Randomized Controlled Trial of a Manualized, Nurse-led, Telephone Intervention Support Service for Support Persons of People With Multiple Sclerosis",
          "Effect of Aerobic Exercises on Immune System in Patients With Multiple Sclerosis",
          "Interventions to Improve Memory in Patients With Multiple Sclerosis",
          "Calorie Restriction as a Novel Therapeutic Tool to Manipulate Immunity and Improve Therapeutic Potential of First Line Drug Treatments During Relapsing Remitting Multiple Sclerosis",
          "Gene Expression in MS Patients Before and During Treatment With High-dose Interferon Beta: Prospective Study for the Identification of Predicting Factors of Therapeutic Response.",
          "A Phase II Baseline Versus Treatment Study to Determine the Efficacy of Raltegravir (Isentress) in Preventing Progression of Relapsing Remitting Multiple Sclerosis as Determined by Gadolinium-enhanced MRI",
          "The Relationship of Cognitive Functions to Physical and Personal Factors in Patients With Multiple Sclerosis",
          "POPART'MUS: Prevention of Post Partum Relapses With Progestin and Estradiol in Multiple Sclerosis",
          "A Multi-center Randomized Clinical Trial of Regulating Gut Microbiota by Probiotic Agents in Management of Immune Thrombocytopenia",
          "Assessment of Lesion Activity Analysis in the Avonex- Steroid Azathioprine (ASA) Study",
          "Testosterone Treatment for Multiple Sclerosis: A Preliminary Trial",
          "Physical Activity Intervention for Improving Vascular Comorbidity Risk in Multiple Sclerosis",
          "The Reliability, Validity, and Responsiveness of the Timed 360° Turn Test Test in Patients With Multiple Sclerosis",
          "A Randomized Trial on the Novel Use of Treadmill Plus Music in Multiple Sclerosis Patients With Gate Impairnent",
          "A First-in-Kind Randomized, Controlled Pilot Clinical Trial Testing Proactive vs Reactive Management of a Symptom Triad in Multiple Sclerosis",
          "A Phase III, Multicentre, Randomized, Parallel-group, Double-blind, Placebo Controlled Study to Evaluate the Efficacy and Safety of Ocrelizumab in Adults With Primary Progressive Multiple Sclerosis",
          "Lorraine Registry of Multiple Sclerosis",
          "Efficacy, Safety and Tolerability of Atorvastatin 40 mg in Patients With Relapsing-remitting Multiple Sclerosis Treated With Interferon-beta-1b.SWiss Atorvastatin and Interferon-Beta 1b Trial In Multiple Sclerosis.",
          "A Long-term Follow up of Patients Enrolled in the Pivotal Study of Betaseron® (Interferon Beta 1b) in Relapsing-remitting Multiple Sclerosis",
          "Treatment Adherence in Pediatric Multiple Sclerosis",
          "Natalizumab De-escalation to Interferon-beta-1b in Patients With Relapsing-remitting Multiple Sclerosis: A Swiss Multicenter Study Prospective, Controlled, Single-arm, Open-label, Multi-centre, Phase IV Study",
          "Treatment of Multiple Sclerosis Using Over the Counter Inosine",
          "Randomized Multi-centered Study for Evaluating the Efficacy and Safety of Angioplastic Surgery of the Extracranial Veins in the Treatment of Multiple Sclerosis. Studio Randomizzato Multicentrico Per la Valutazione Dell'Efficacia e Sicurezza Dell'Intervento di Disostruzione Delle Vene Extracraniche Nel Trattamento Della Sclerosi Multipla",
          "Fish Oil as an Adjunct Therapy for Depression in Multiple Sclerosis",
          "SWiss Atorvastatin and Interferon-Beta 1b Trial In Multiple Sclerosis - Follow up Study (\"SWABIMS Follow Up-study\")",
          "A Multicentre, Non Interventional, Non Randomized, Observational Study for the Assessment of Compliance and Persistence With Rebif® Therapy of Patients With Relapsing-Remitting Multiple Sclerosis as Well as for the Evaluation of Potential Factors Influencing These Parameters, in Real Life Clinical Practice",
          "Functional Electrical Stimulation to Treat Foot Drop in People With Multiple Sclerosis",
          "Effects of Immersive Virtual Reality on Balance, Mobility, and Fatigue in Patients With Multiple Sclerosis",
          "Standardized Comprehensive Two-month Ambulatory Neurorehabilitation Program for Patients With Multiple Sclerosis: a Randomized-controlled Trial",
          "Evaluation of Progression in Multiple Sclerosis by Magnetic Resonance Imaging (MRI)",
          "A 6-month, Randomized, Active Comparator, Open-label, Multi-Center Study to Evaluate Patient OutComes, Safety and Tolerability of Fingolimod (FTY720) 0.5 mg/Day in Patients With Relapsing Forms of Multiple Sclerosis Who Are Candidates for MS Therapy Change From Previous Disease Modifying Therapy (EPOC)",
          "An Open-label, Randomised, Crossover Study to Assess the Relative Bioavailability of Different 2mg Formulations of GSK2018682(S1P1 Agonist) in Healthy Volunteers",
          "Phase IV Study of Oral Prednisone Taper vs. Placebo Following Intravenous Steroids for the Treatment of Acute Relapses in Multiple Sclerosis Within the Ticino Cohort",
          "Investigating Mechanism of Action of DAC HYP in the Treatment of High-Inflammatory Multiple Sclerosis (MS)",
          "Effect of the Humanized Monoclonal Antibody Against the Interleukin-2 Receptor Alpha Subunit (IL-2R-Alpha; Zenapax(Registered Trademark)) on Inflammatory Activity in the CNS in MS in a Baseline-to-Treatment, Cross-Over, MRI-Controlled Single Center Phase I/II Trial",
          "Single Test to ARrive at MS Diagnosis. A Prospective, Longitudinal, Investigator Blinded, Pilot Study Assessing the Accuracy of a Single 3 Tesla MRI Scan in Predicting Multiple Sclerosis in Cases of Diagnostic Uncertainty",
          "A Phase I/II, Open-Label Pilot Trial to Evaluate the Safety of Rapamune (Sirolimus) in Patients With Multiple Sclerosis",
          "Effects of Sensori-motor Integration Balance Training on Balance Disturbances in Patients With Multiple Sclerosis",
          "Phase I Study of Oral Guanabenz for Multiple Sclerosis",
          "Longitudinal Effect of Vitamin D3 Replacement on Cognitive Performance and MRI Markers in Multiple Sclerosis Patients: A Single-Blind Randomized Clinical Trial",
          "Examining the Effects of Physical Activity Promotion, Fatigue Management Education, and Social Support Using a Telehealth Intervention Approach Among Adults With Multiple Sclerosis",
          "Physical Activity Together for MS (PAT-MS): Pilot Study of a Dyadic Rehabilitation Intervention for People With Moderate-to-Severe Multiple Sclerosis Disability and Their Family Caregivers",
          "Pacing Activity Self-management for Patients With Multiple Sclerosis: Randomized Controlled Clinical Trial",
          "A Phase I/II Dose-Escalation Trial of Vitamin D3 With Calcium Supplementation in Patients With Multiple Sclerosis",
          "Pilot Study for the Evaluation of the More Stamina Mobile Application for Fatigue Management in Persons With Multiple Sclerosis",
          "An Exploratory Study on Detection of Cortical and White Matter Damage in Patients With Multiple Sclerosis Using Magnetic Resonance Imaging at 7 Tesla",
          "Targeting Multiple Sclerosis as an Autoimmune Disease With Intensive Immunoablative Therapy and Immunological Reconstitution: A Potential Curative Therapy for Patients With a Predicted Poor Prognosis",
          "Apraxia-specific Occupational Therapy in Patients With Multiple Sclerosis",
          "A Multicenter Randomized Controlled Trial of Best Available Therapy Versus Autologous Hematopoietic Stem Cell Transplant for Treatment-Resistant Relapsing Multiple Sclerosis (ITN077AI)",
          "The Use of Magnetic Resonance Imaging to Investigate Cortical Damage in Patients With Multiple Sclerosis and Correlation With Cognitive Dysfunction"
         ],
         "legendgroup": "",
         "marker": {
          "color": "#636efa"
         },
         "name": "",
         "offsetgroup": "",
         "orientation": "v",
         "showlegend": false,
         "textposition": "auto",
         "type": "bar",
         "x": [
          "NCT04073940",
          "NCT03782246",
          "NCT02104661",
          "NCT03004079",
          "NCT04466150",
          "NCT02367222",
          "NCT01018537",
          "NCT03949296",
          "NCT04178005",
          "NCT03896217",
          "NCT02364505",
          "NCT04113135",
          "NCT01337986",
          "NCT04496830",
          "NCT02849782",
          "NCT03736902",
          "NCT04236544",
          "NCT01149525",
          "NCT03135249",
          "NCT02489877",
          "NCT02544373",
          "NCT02290444",
          "NCT03889327",
          "NCT02377323",
          "NCT00000147",
          "NCT02988401",
          "NCT00000146",
          "NCT03113162",
          "NCT02493049",
          "NCT04294979",
          "NCT02939859",
          "NCT02833714",
          "NCT03586986",
          "NCT04153773",
          "NCT02280876",
          "NCT03826095",
          "NCT02525367",
          "NCT03193086",
          "NCT03976128",
          "NCT04101058",
          "NCT03508284",
          "NCT02688231",
          "NCT03999788",
          "NCT03464448",
          "NCT02914964",
          "NCT03975413",
          "NCT03345537",
          "NCT04431323",
          "NCT01973517",
          "NCT04257071",
          "NCT00185211",
          "NCT03735524",
          "NCT03562975",
          "NCT03451955",
          "NCT00630383",
          "NCT03505294",
          "NCT02870023",
          "NCT01563900",
          "NCT01555684",
          "NCT02258217",
          "NCT02335450",
          "NCT04212689",
          "NCT03512886",
          "NCT01679041",
          "NCT04524039",
          "NCT01836055",
          "NCT01466114",
          "NCT00420212",
          "NCT03000127",
          "DRKS00011257",
          "NCT00288626",
          "NCT00050778",
          "NCT02903537",
          "NCT01271699",
          "NCT03315923",
          "NCT00548405",
          "NCT02419638",
          "NCT03621761",
          "NCT00930553",
          "NCT04048577",
          "NCT00451451",
          "NCT01970410",
          "NCT02506751",
          "NCT02391298",
          "NCT03594487",
          "NCT01144052",
          "NCT00530348",
          "NCT04182269",
          "NCT02308137",
          "NCT03825055",
          "NCT00451204",
          "NCT00289978",
          "NCT02273635",
          "NCT04157283",
          "NCT02291107",
          "NCT00270816",
          "NCT03345940",
          "NCT02710214",
          "NCT01627938",
          "NCT03284801",
          "NCT00151801",
          "NCT04009005",
          "NCT03150966",
          "NCT01712945",
          "NCT00904826",
          "NCT03591809",
          "NCT00134563",
          "NCT04122989",
          "NCT00364936",
          "NCT04183751",
          "NCT03653585",
          "NCT03847545",
          "NCT02644044",
          "NCT00751881",
          "NCT03322761",
          "NCT02939079",
          "NCT03774407",
          "NCT02389426",
          "NCT04185688",
          "NCT00340834",
          "NCT00202410",
          "NCT00202423",
          "NCT01753375",
          "NCT03819413",
          "NCT03656055",
          "NCT00355134",
          "NCT02010398",
          "NCT03651362",
          "NCT03759249",
          "NCT02346279",
          "NCT03000647",
          "NCT03461419",
          "NCT00223457",
          "NCT01064401",
          "NCT00179478",
          "NCT01952483",
          "NCT02490982",
          "NCT03597451",
          "NCT03584672",
          "NCT01538355",
          "NCT02082002",
          "NCT03442049",
          "NCT04300543",
          "NCT01201707",
          "NCT00950248",
          "NCT00819195",
          "NCT02259361",
          "NCT03136744",
          "NCT00940719",
          "NCT04178980",
          "NCT01302431",
          "NCT04545372",
          "NCT00062972",
          "NCT04042415",
          "NCT00202384",
          "NCT01767701",
          "NCT03594357",
          "NCT00127075",
          "NCT03033199",
          "NCT01628315",
          "NCT00405353",
          "NCT03944538",
          "NCT03718026",
          "NCT04019912",
          "NCT03335618",
          "NCT01194570",
          "NCT02883335",
          "NCT00942591",
          "NCT00206635",
          "NCT02234713",
          "NCT01701856",
          "NCT00067327",
          "NCT01371760",
          "NCT00122954",
          "NCT01111656",
          "NCT01112345",
          "NCT02123537",
          "NCT03501342",
          "NCT02440516",
          "NCT00001248",
          "NCT01216072",
          "NCT01466322",
          "NCT01411514",
          "NCT01143441",
          "NCT00001934",
          "NCT02485223",
          "NCT00095329",
          "NCT01040117",
          "NCT02423083",
          "NCT03610139",
          "NCT01572714",
          "NCT04267185",
          "NCT01512329",
          "NCT00644904",
          "NCT04244214",
          "NCT00321568",
          "NCT01099930",
          "NCT01507636",
          "NCT04047628",
          "NCT00393588"
         ],
         "xaxis": "x",
         "y": [
          100,
          73,
          48,
          46,
          45,
          42,
          41,
          39,
          39,
          37,
          35,
          34,
          33,
          33,
          30,
          29,
          29,
          27,
          27,
          26,
          25,
          24,
          23,
          23,
          23,
          22,
          22,
          21,
          20,
          20,
          20,
          20,
          19,
          18,
          18,
          17,
          17,
          17,
          16,
          16,
          16,
          16,
          16,
          16,
          15,
          15,
          15,
          15,
          15,
          15,
          14,
          14,
          14,
          13,
          13,
          13,
          13,
          13,
          12,
          12,
          12,
          12,
          12,
          12,
          12,
          12,
          11,
          11,
          11,
          11,
          11,
          11,
          11,
          11,
          11,
          11,
          10,
          10,
          10,
          10,
          10,
          10,
          10,
          10,
          10,
          10,
          10,
          10,
          10,
          9,
          9,
          9,
          9,
          9,
          9,
          9,
          9,
          9,
          9,
          9,
          9,
          9,
          8,
          8,
          8,
          8,
          8,
          8,
          8,
          8,
          8,
          8,
          8,
          7,
          7,
          7,
          7,
          7,
          7,
          7,
          7,
          7,
          7,
          7,
          6,
          6,
          6,
          6,
          6,
          6,
          6,
          5,
          5,
          5,
          5,
          5,
          5,
          5,
          5,
          5,
          5,
          5,
          5,
          5,
          5,
          5,
          5,
          5,
          5,
          5,
          5,
          5,
          4,
          4,
          4,
          4,
          4,
          4,
          4,
          4,
          4,
          4,
          4,
          4,
          4,
          4,
          4,
          4,
          4,
          4,
          4,
          4,
          4,
          4,
          4,
          4,
          4,
          4,
          4,
          4,
          4,
          4,
          4,
          4,
          4,
          4,
          4,
          4,
          4,
          4,
          3,
          3,
          3,
          3,
          3,
          3,
          3,
          3,
          3,
          3
         ],
         "yaxis": "y"
        }
       ],
       "layout": {
        "autosize": true,
        "barmode": "relative",
        "legend": {
         "tracegroupgap": 0
        },
        "margin": {
         "t": 60
        },
        "template": {
         "data": {
          "bar": [
           {
            "error_x": {
             "color": "#2a3f5f"
            },
            "error_y": {
             "color": "#2a3f5f"
            },
            "marker": {
             "line": {
              "color": "#E5ECF6",
              "width": 0.5
             }
            },
            "type": "bar"
           }
          ],
          "barpolar": [
           {
            "marker": {
             "line": {
              "color": "#E5ECF6",
              "width": 0.5
             }
            },
            "type": "barpolar"
           }
          ],
          "carpet": [
           {
            "aaxis": {
             "endlinecolor": "#2a3f5f",
             "gridcolor": "white",
             "linecolor": "white",
             "minorgridcolor": "white",
             "startlinecolor": "#2a3f5f"
            },
            "baxis": {
             "endlinecolor": "#2a3f5f",
             "gridcolor": "white",
             "linecolor": "white",
             "minorgridcolor": "white",
             "startlinecolor": "#2a3f5f"
            },
            "type": "carpet"
           }
          ],
          "choropleth": [
           {
            "colorbar": {
             "outlinewidth": 0,
             "ticks": ""
            },
            "type": "choropleth"
           }
          ],
          "contour": [
           {
            "colorbar": {
             "outlinewidth": 0,
             "ticks": ""
            },
            "colorscale": [
             [
              0,
              "#0d0887"
             ],
             [
              0.1111111111111111,
              "#46039f"
             ],
             [
              0.2222222222222222,
              "#7201a8"
             ],
             [
              0.3333333333333333,
              "#9c179e"
             ],
             [
              0.4444444444444444,
              "#bd3786"
             ],
             [
              0.5555555555555556,
              "#d8576b"
             ],
             [
              0.6666666666666666,
              "#ed7953"
             ],
             [
              0.7777777777777778,
              "#fb9f3a"
             ],
             [
              0.8888888888888888,
              "#fdca26"
             ],
             [
              1,
              "#f0f921"
             ]
            ],
            "type": "contour"
           }
          ],
          "contourcarpet": [
           {
            "colorbar": {
             "outlinewidth": 0,
             "ticks": ""
            },
            "type": "contourcarpet"
           }
          ],
          "heatmap": [
           {
            "colorbar": {
             "outlinewidth": 0,
             "ticks": ""
            },
            "colorscale": [
             [
              0,
              "#0d0887"
             ],
             [
              0.1111111111111111,
              "#46039f"
             ],
             [
              0.2222222222222222,
              "#7201a8"
             ],
             [
              0.3333333333333333,
              "#9c179e"
             ],
             [
              0.4444444444444444,
              "#bd3786"
             ],
             [
              0.5555555555555556,
              "#d8576b"
             ],
             [
              0.6666666666666666,
              "#ed7953"
             ],
             [
              0.7777777777777778,
              "#fb9f3a"
             ],
             [
              0.8888888888888888,
              "#fdca26"
             ],
             [
              1,
              "#f0f921"
             ]
            ],
            "type": "heatmap"
           }
          ],
          "heatmapgl": [
           {
            "colorbar": {
             "outlinewidth": 0,
             "ticks": ""
            },
            "colorscale": [
             [
              0,
              "#0d0887"
             ],
             [
              0.1111111111111111,
              "#46039f"
             ],
             [
              0.2222222222222222,
              "#7201a8"
             ],
             [
              0.3333333333333333,
              "#9c179e"
             ],
             [
              0.4444444444444444,
              "#bd3786"
             ],
             [
              0.5555555555555556,
              "#d8576b"
             ],
             [
              0.6666666666666666,
              "#ed7953"
             ],
             [
              0.7777777777777778,
              "#fb9f3a"
             ],
             [
              0.8888888888888888,
              "#fdca26"
             ],
             [
              1,
              "#f0f921"
             ]
            ],
            "type": "heatmapgl"
           }
          ],
          "histogram": [
           {
            "marker": {
             "colorbar": {
              "outlinewidth": 0,
              "ticks": ""
             }
            },
            "type": "histogram"
           }
          ],
          "histogram2d": [
           {
            "colorbar": {
             "outlinewidth": 0,
             "ticks": ""
            },
            "colorscale": [
             [
              0,
              "#0d0887"
             ],
             [
              0.1111111111111111,
              "#46039f"
             ],
             [
              0.2222222222222222,
              "#7201a8"
             ],
             [
              0.3333333333333333,
              "#9c179e"
             ],
             [
              0.4444444444444444,
              "#bd3786"
             ],
             [
              0.5555555555555556,
              "#d8576b"
             ],
             [
              0.6666666666666666,
              "#ed7953"
             ],
             [
              0.7777777777777778,
              "#fb9f3a"
             ],
             [
              0.8888888888888888,
              "#fdca26"
             ],
             [
              1,
              "#f0f921"
             ]
            ],
            "type": "histogram2d"
           }
          ],
          "histogram2dcontour": [
           {
            "colorbar": {
             "outlinewidth": 0,
             "ticks": ""
            },
            "colorscale": [
             [
              0,
              "#0d0887"
             ],
             [
              0.1111111111111111,
              "#46039f"
             ],
             [
              0.2222222222222222,
              "#7201a8"
             ],
             [
              0.3333333333333333,
              "#9c179e"
             ],
             [
              0.4444444444444444,
              "#bd3786"
             ],
             [
              0.5555555555555556,
              "#d8576b"
             ],
             [
              0.6666666666666666,
              "#ed7953"
             ],
             [
              0.7777777777777778,
              "#fb9f3a"
             ],
             [
              0.8888888888888888,
              "#fdca26"
             ],
             [
              1,
              "#f0f921"
             ]
            ],
            "type": "histogram2dcontour"
           }
          ],
          "mesh3d": [
           {
            "colorbar": {
             "outlinewidth": 0,
             "ticks": ""
            },
            "type": "mesh3d"
           }
          ],
          "parcoords": [
           {
            "line": {
             "colorbar": {
              "outlinewidth": 0,
              "ticks": ""
             }
            },
            "type": "parcoords"
           }
          ],
          "pie": [
           {
            "automargin": true,
            "type": "pie"
           }
          ],
          "scatter": [
           {
            "marker": {
             "colorbar": {
              "outlinewidth": 0,
              "ticks": ""
             }
            },
            "type": "scatter"
           }
          ],
          "scatter3d": [
           {
            "line": {
             "colorbar": {
              "outlinewidth": 0,
              "ticks": ""
             }
            },
            "marker": {
             "colorbar": {
              "outlinewidth": 0,
              "ticks": ""
             }
            },
            "type": "scatter3d"
           }
          ],
          "scattercarpet": [
           {
            "marker": {
             "colorbar": {
              "outlinewidth": 0,
              "ticks": ""
             }
            },
            "type": "scattercarpet"
           }
          ],
          "scattergeo": [
           {
            "marker": {
             "colorbar": {
              "outlinewidth": 0,
              "ticks": ""
             }
            },
            "type": "scattergeo"
           }
          ],
          "scattergl": [
           {
            "marker": {
             "colorbar": {
              "outlinewidth": 0,
              "ticks": ""
             }
            },
            "type": "scattergl"
           }
          ],
          "scattermapbox": [
           {
            "marker": {
             "colorbar": {
              "outlinewidth": 0,
              "ticks": ""
             }
            },
            "type": "scattermapbox"
           }
          ],
          "scatterpolar": [
           {
            "marker": {
             "colorbar": {
              "outlinewidth": 0,
              "ticks": ""
             }
            },
            "type": "scatterpolar"
           }
          ],
          "scatterpolargl": [
           {
            "marker": {
             "colorbar": {
              "outlinewidth": 0,
              "ticks": ""
             }
            },
            "type": "scatterpolargl"
           }
          ],
          "scatterternary": [
           {
            "marker": {
             "colorbar": {
              "outlinewidth": 0,
              "ticks": ""
             }
            },
            "type": "scatterternary"
           }
          ],
          "surface": [
           {
            "colorbar": {
             "outlinewidth": 0,
             "ticks": ""
            },
            "colorscale": [
             [
              0,
              "#0d0887"
             ],
             [
              0.1111111111111111,
              "#46039f"
             ],
             [
              0.2222222222222222,
              "#7201a8"
             ],
             [
              0.3333333333333333,
              "#9c179e"
             ],
             [
              0.4444444444444444,
              "#bd3786"
             ],
             [
              0.5555555555555556,
              "#d8576b"
             ],
             [
              0.6666666666666666,
              "#ed7953"
             ],
             [
              0.7777777777777778,
              "#fb9f3a"
             ],
             [
              0.8888888888888888,
              "#fdca26"
             ],
             [
              1,
              "#f0f921"
             ]
            ],
            "type": "surface"
           }
          ],
          "table": [
           {
            "cells": {
             "fill": {
              "color": "#EBF0F8"
             },
             "line": {
              "color": "white"
             }
            },
            "header": {
             "fill": {
              "color": "#C8D4E3"
             },
             "line": {
              "color": "white"
             }
            },
            "type": "table"
           }
          ]
         },
         "layout": {
          "annotationdefaults": {
           "arrowcolor": "#2a3f5f",
           "arrowhead": 0,
           "arrowwidth": 1
          },
          "coloraxis": {
           "colorbar": {
            "outlinewidth": 0,
            "ticks": ""
           }
          },
          "colorscale": {
           "diverging": [
            [
             0,
             "#8e0152"
            ],
            [
             0.1,
             "#c51b7d"
            ],
            [
             0.2,
             "#de77ae"
            ],
            [
             0.3,
             "#f1b6da"
            ],
            [
             0.4,
             "#fde0ef"
            ],
            [
             0.5,
             "#f7f7f7"
            ],
            [
             0.6,
             "#e6f5d0"
            ],
            [
             0.7,
             "#b8e186"
            ],
            [
             0.8,
             "#7fbc41"
            ],
            [
             0.9,
             "#4d9221"
            ],
            [
             1,
             "#276419"
            ]
           ],
           "sequential": [
            [
             0,
             "#0d0887"
            ],
            [
             0.1111111111111111,
             "#46039f"
            ],
            [
             0.2222222222222222,
             "#7201a8"
            ],
            [
             0.3333333333333333,
             "#9c179e"
            ],
            [
             0.4444444444444444,
             "#bd3786"
            ],
            [
             0.5555555555555556,
             "#d8576b"
            ],
            [
             0.6666666666666666,
             "#ed7953"
            ],
            [
             0.7777777777777778,
             "#fb9f3a"
            ],
            [
             0.8888888888888888,
             "#fdca26"
            ],
            [
             1,
             "#f0f921"
            ]
           ],
           "sequentialminus": [
            [
             0,
             "#0d0887"
            ],
            [
             0.1111111111111111,
             "#46039f"
            ],
            [
             0.2222222222222222,
             "#7201a8"
            ],
            [
             0.3333333333333333,
             "#9c179e"
            ],
            [
             0.4444444444444444,
             "#bd3786"
            ],
            [
             0.5555555555555556,
             "#d8576b"
            ],
            [
             0.6666666666666666,
             "#ed7953"
            ],
            [
             0.7777777777777778,
             "#fb9f3a"
            ],
            [
             0.8888888888888888,
             "#fdca26"
            ],
            [
             1,
             "#f0f921"
            ]
           ]
          },
          "colorway": [
           "#636efa",
           "#EF553B",
           "#00cc96",
           "#ab63fa",
           "#FFA15A",
           "#19d3f3",
           "#FF6692",
           "#B6E880",
           "#FF97FF",
           "#FECB52"
          ],
          "font": {
           "color": "#2a3f5f"
          },
          "geo": {
           "bgcolor": "white",
           "lakecolor": "white",
           "landcolor": "#E5ECF6",
           "showlakes": true,
           "showland": true,
           "subunitcolor": "white"
          },
          "hoverlabel": {
           "align": "left"
          },
          "hovermode": "closest",
          "mapbox": {
           "style": "light"
          },
          "paper_bgcolor": "white",
          "plot_bgcolor": "#E5ECF6",
          "polar": {
           "angularaxis": {
            "gridcolor": "white",
            "linecolor": "white",
            "ticks": ""
           },
           "bgcolor": "#E5ECF6",
           "radialaxis": {
            "gridcolor": "white",
            "linecolor": "white",
            "ticks": ""
           }
          },
          "scene": {
           "xaxis": {
            "backgroundcolor": "#E5ECF6",
            "gridcolor": "white",
            "gridwidth": 2,
            "linecolor": "white",
            "showbackground": true,
            "ticks": "",
            "zerolinecolor": "white"
           },
           "yaxis": {
            "backgroundcolor": "#E5ECF6",
            "gridcolor": "white",
            "gridwidth": 2,
            "linecolor": "white",
            "showbackground": true,
            "ticks": "",
            "zerolinecolor": "white"
           },
           "zaxis": {
            "backgroundcolor": "#E5ECF6",
            "gridcolor": "white",
            "gridwidth": 2,
            "linecolor": "white",
            "showbackground": true,
            "ticks": "",
            "zerolinecolor": "white"
           }
          },
          "shapedefaults": {
           "line": {
            "color": "#2a3f5f"
           }
          },
          "ternary": {
           "aaxis": {
            "gridcolor": "white",
            "linecolor": "white",
            "ticks": ""
           },
           "baxis": {
            "gridcolor": "white",
            "linecolor": "white",
            "ticks": ""
           },
           "bgcolor": "#E5ECF6",
           "caxis": {
            "gridcolor": "white",
            "linecolor": "white",
            "ticks": ""
           }
          },
          "title": {
           "x": 0.05
          },
          "xaxis": {
           "automargin": true,
           "gridcolor": "white",
           "linecolor": "white",
           "ticks": "",
           "title": {
            "standoff": 15
           },
           "zerolinecolor": "white",
           "zerolinewidth": 2
          },
          "yaxis": {
           "automargin": true,
           "gridcolor": "white",
           "linecolor": "white",
           "ticks": "",
           "title": {
            "standoff": 15
           },
           "zerolinecolor": "white",
           "zerolinewidth": 2
          }
         }
        },
        "xaxis": {
         "anchor": "y",
         "autorange": true,
         "domain": [
          0,
          1
         ],
         "range": [
          -0.5,
          199.5
         ],
         "title": {
          "text": "id"
         },
         "type": "category"
        },
        "yaxis": {
         "anchor": "x",
         "autorange": true,
         "domain": [
          0,
          1
         ],
         "range": [
          0,
          105.26315789473684
         ],
         "title": {
          "text": "pubs_tot"
         },
         "type": "linear"
        }
       }
      },
      "image/png": "[encoded data removed]",
      "text/html": [
       "<div>                            <div id=\"0a0cb3ae-a3a8-4941-90c0-380527de2168\" class=\"plotly-graph-div\" style=\"height:525px; width:100%;\"></div>            <script type=\"text/javascript\">                require([\"plotly\"], function(Plotly) {                    window.PLOTLYENV=window.PLOTLYENV || {};                                    if (document.getElementById(\"0a0cb3ae-a3a8-4941-90c0-380527de2168\")) {                    Plotly.newPlot(                        \"0a0cb3ae-a3a8-4941-90c0-380527de2168\",                        [{\"alignmentgroup\": \"True\", \"customdata\": [[[2019, 2020, 2021]], [[2018, 2019, 2020, 2021, 2022]], [[2014, 2015, 2016, 2017, 2018]], [[2016, 2017, 2018, 2019, 2020]], [[2020, 2021, 2022, 2023, 2024, 2025]], [[2014, 2015]], [null], [[2017, 2018, 2019]], [[2020, 2021, 2022]], [[2019, 2020, 2021]], [[2014, 2015, 2016]], [[2020]], [[2011, 2012, 2013]], [[2020, 2021, 2022, 2023]], [[2014, 2015, 2016, 2017, 2018, 2019]], [[2018, 2019]], [[2021, 2022]], [[2010, 2011, 2012, 2013]], [[2018, 2019, 2020]], [[2015, 2016, 2017]], [[2015, 2016, 2017, 2018, 2019, 2020, 2021]], [[2013, 2014, 2015, 2016, 2017, 2018]], [[2018, 2019]], [[2014, 2015, 2016]], [null], [[2017, 2018, 2019, 2020, 2021]], [null], [[2015, 2016, 2017, 2018, 2019, 2020, 2021, 2022]], [[2015, 2016, 2017, 2018, 2019]], [[2020, 2021, 2022, 2023]], [[2016, 2017, 2018, 2019, 2020, 2021, 2022, 2023]], [[2016]], [[2018, 2019, 2020, 2021, 2022]], [[2018, 2019]], [[2012, 2013, 2014, 2015]], [[2019]], [[2016, 2017]], [[2017, 2018, 2019, 2020]], [[2016, 2017, 2018, 2019, 2020]], [[2019, 2020]], [[2018, 2019]], [[2016, 2017, 2018]], [[2019, 2020, 2021, 2022, 2023, 2024, 2025]], [[2018, 2019, 2020, 2021]], [[2016, 2017, 2018, 2019, 2020]], [[2018, 2019, 2020]], [[2018, 2019, 2020, 2021]], [[2020, 2021, 2022]], [[2014, 2015, 2016, 2017, 2018]], [[2020, 2021]], [[2002, 2003, 2004, 2005, 2006, 2007, 2008]], [[2019, 2020, 2021]], [[2018, 2019, 2020]], [[2018, 2019]], [[2008]], [[2018]], [[2016, 2017, 2018]], [[2012, 2013, 2014, 2015, 2016]], [[2012]], [[2014, 2015, 2016]], [[2015]], [[2020, 2021]], [[2018, 2019]], [[2012, 2013]], [[2020, 2021, 2022]], [[2012, 2013, 2014]], [[2011, 2012, 2013, 2014, 2015, 2016, 2017, 2018, 2019, 2020, 2021, 2022]], [[2007, 2008, 2009, 2010, 2011]], [[2018, 2019, 2020, 2021, 2022, 2023, 2024]], [null], [[2006, 2007, 2008, 2009, 2010, 2011, 2012, 2013, 2014, 2015]], [[2002, 2003, 2004, 2005, 2006, 2007, 2008, 2009, 2010]], [[2017, 2018, 2019]], [[2011, 2012, 2013, 2014, 2015, 2016, 2017, 2018, 2019]], [[2017, 2018, 2019]], [[2007, 2008, 2009, 2010, 2011]], [[2015, 2016]], [[2018, 2019, 2020, 2021]], [[2009, 2010, 2011, 2012, 2013, 2014, 2015, 2016]], [[2019, 2020, 2021]], [[2007, 2008, 2009, 2010, 2011]], [[2013, 2014, 2015, 2016, 2017, 2018, 2019, 2020, 2021]], [[2015, 2016, 2017]], [[2014, 2015, 2016]], [[2018, 2019, 2020]], [[2010, 2011]], [[2007, 2008, 2009, 2010, 2011]], [[2018, 2019]], [[2015, 2016, 2017, 2018, 2019, 2020]], [[2019, 2020, 2021, 2022]], [[2007, 2008, 2009, 2010, 2011, 2012, 2013, 2014]], [[2006, 2007, 2008, 2009]], [[2014, 2015, 2016, 2017]], [[2019, 2020]], [[2014, 2015, 2016]], [[2005, 2006, 2007, 2008, 2009, 2010, 2011]], [[2017, 2018, 2019]], [[2016, 2017, 2018, 2019]], [[2012, 2013, 2014, 2015, 2016]], [[2018, 2019]], [[2002, 2003, 2004, 2005, 2006, 2007, 2008]], [[2020, 2021, 2022, 2023, 2024, 2025]], [[2016, 2017]], [[2012, 2013, 2014, 2015, 2016, 2017]], [[2009, 2010, 2011]], [[2018, 2019]], [[2004, 2005, 2006, 2007, 2008, 2009, 2010]], [[2019, 2020, 2021]], [[2004, 2005, 2006]], [[2019, 2020, 2021]], [[2018, 2019, 2020]], [[2018, 2019, 2020, 2021, 2022]], [[2016, 2017, 2018]], [[2008, 2009, 2010, 2011, 2012, 2013, 2014, 2015]], [[2018, 2019, 2020]], [[2015, 2016]], [[2019, 2020]], [[2014, 2015]], [[2019, 2020]], [[2006, 2007, 2008, 2009, 2010, 2011]], [[2001, 2002, 2003, 2004, 2005, 2006, 2007, 2008]], [null], [[2013, 2014]], [[2019, 2020]], [[2017, 2018, 2019, 2020]], [[2006, 2007, 2008, 2009, 2010, 2011]], [[2013, 2014, 2015, 2016, 2017]], [[2016, 2017, 2018, 2019]], [[2015, 2016, 2017, 2018, 2019, 2020]], [[2011, 2012, 2013]], [[2015, 2016]], [[2019, 2020, 2021, 2022, 2023, 2024]], [[2004, 2005]], [[2010, 2011, 2012, 2013, 2014]], [[2001, 2002, 2003, 2004, 2005, 2006, 2007, 2008, 2009]], [[2012, 2013, 2014, 2015, 2016, 2017]], [[2015, 2016, 2017, 2018, 2019]], [[2018, 2019, 2020]], [[2018]], [[2011, 2012, 2013, 2014, 2015]], [[2013, 2014, 2015, 2016, 2017, 2018]], [[2015, 2016]], [[2020, 2021]], [[2010, 2011, 2012, 2013]], [[2009, 2010, 2011, 2012, 2013, 2014, 2015, 2016, 2017, 2018]], [[2008, 2009, 2010, 2011, 2012]], [[2014]], [[2018, 2019]], [[2009, 2010]], [[2020, 2021, 2022]], [[2011, 2012, 2013, 2014]], [[2015, 2016, 2017, 2018, 2019, 2020]], [[1999, 2000, 2001, 2002]], [[2019, 2020, 2021, 2022]], [[2004, 2005, 2006, 2007, 2008, 2009, 2010, 2011]], [[2013, 2014]], [[2018]], [[2005, 2006, 2007, 2008, 2009, 2010, 2011, 2012]], [[2017, 2018]], [[2009, 2010, 2011, 2012, 2013, 2014]], [[2002, 2003, 2004, 2005, 2006, 2007]], [[2019, 2020, 2021]], [[2018]], [[2019, 2020]], [[2017, 2018, 2019, 2020]], [[2011, 2012, 2013, 2014, 2015, 2016, 2017, 2018, 2019, 2020, 2021]], [null], [[2005, 2006, 2007, 2008, 2009]], [[2005]], [[2013, 2014, 2015, 2016]], [[2012, 2013]], [[2002, 2003, 2004, 2005]], [[2012, 2013, 2014, 2015]], [[2005, 2006, 2007, 2008, 2009]], [[2007, 2008, 2009, 2010]], [[2009, 2010, 2011, 2012]], [[2014, 2015, 2016]], [[2018]], [[2016, 2017, 2018, 2019]], [null], [[2010, 2011, 2012]], [[2010, 2011]], [[2011, 2012, 2013, 2014, 2015]], [[2010, 2011, 2012, 2013, 2014, 2015, 2016, 2017]], [[1999, 2000, 2001, 2002, 2003, 2004, 2005, 2006, 2007, 2008]], [[2015, 2016, 2017]], [[2003, 2004, 2005]], [[2009, 2010, 2011, 2012]], [[2015, 2016, 2017]], [[2018, 2019, 2020]], [[2011, 2012, 2013, 2014, 2015, 2016, 2017]], [[2020, 2021]], [[2011, 2012, 2013, 2014]], [[2006, 2007, 2008]], [[2020]], [[2006, 2007, 2008, 2009, 2010, 2011]], [[2001, 2002, 2003, 2004, 2005, 2006, 2007, 2008, 2009, 2010, 2011, 2012, 2013, 2014, 2015, 2016]], [[2012]], [[2019, 2020, 2021, 2022, 2023, 2024, 2025, 2026, 2027, 2028]], [[2006, 2007, 2008, 2009, 2010, 2011]]], \"hovertemplate\": \"<b>%{hovertext}</b><br><br>id=%{x}<br>pubs_tot=%{y}<br>active_years=%{customdata[0]}<extra></extra>\", \"hovertext\": [\"Exploration of Brain Changes Due to a Targeted Ballet Program in Multiple Sclerosis\", \"Mindfulness-based Cognitive Therapy and Cognitive Behavioral Therapy for Chronic Pain in Multiple Sclerosis\", \"OxCarbazepine as a Neuroprotective Agent in MS: A Phase 2a Trial\", \"Assessment of the Clinical Importance of Insulin Resistance & Steroid-Associated Hyperglycemia in Relapsing Multiple Sclerosis\", \"Impact of Ocrelizumab on Cerebrospinal Fluid Biomarkers at Multiple Sclerosis Onset\", \"An Observational Retrospective Database Analysis to Estimate the Risk of Multiple Sclerosis Following Vaccination With Arepanrix\\u2122 in Manitoba, Canada\", \"NARCOMS Global Multiple Sclerosis Registry: A Long-Term Study to Facilitate Research in Multiple Sclerosis\", \"A Randomized, Placebo-Controlled Study of Mindfulness Meditation in Treating Insomnia in Multiple Sclerosis\", \"Cladribine Tablets After Treatment With Natalizumab (CLADRINA)\", \"A Double-blind, Randomised, Placebo-controlled Single-site Study of High Dose Simvastatin Treatment for Secondary Progressive Multiple Sclerosis: Impact on Vascular Perfusion and Oxidative Damage\", \"Improving the Quality of Life of People With Multiple Sclerosis and Their Caregivers With a Telemedicine Mindfulness-Based Intervention\", \"The Utilization of Yoga as a Therapeutic Tool to Promote Physical Activity Behavior Change and Improved Postural Control in Individuals With Multiple Sclerosis\", \"Dalfampridine After Optic Neuritis to Improve Visual Function in Multiple Sclerosis\", \"Cerebrospinal Fluid-biomarkers-based Diagnostic and Prognostic Models for Multiple Sclerosis\", \"Short and Long Term Fampridine Treatment in Persons With Multiple Sclerosis: Cognitive and Motor Performances\", \"Attitudes, Barriers and Facilitators to Physical Activity in People With Multiple Sclerosis Following a Relapse\", \"Impact of a Multimedia Website With Patient Experiences of Multiple Sclerosis (PExMS) on Immunotherapy Decision-making: a Pilot Randomised Controlled Trial in a Mixed-methods Design\", \"A Randomised, Double Blinded Cross-over Study Comparing the Efficacy of L-carnitine Versus Placebo in the Treatment of Fatigue in Multiple Sclerosis\", \"Sequential Natalizumab - Alemtuzumab Therapy in Patients With Relapsing Forms of Multiple Sclerosis (SUPPRESS)\", \"Comparison Between Clinical and MRI Multiple Sclerosis Activity and Expression of Human Endogenous Retrovirus Type W and Herpesvirus in Peripheral Blood of Patients\", \"A Randomized Trial of Positive Airway Pressure Therapy to Treat Cognitive Dysfunction in MS Patients With Obstructive Sleep Apnea\", \"Effects of Adrenocorticotropic Hormone (ACTHAR Gel) on Recovery From Cognitive Relapses in Multiple Sclerosis\", \"Intervention to Reduce Distress From Perceived Cognitive Impairment in Multiple Sclerosis\", \"Real-Life Outcomes of Multiple Sclerosis Treatment With Rebif on Employment Status, Quality of Life and Cognition: a Pilot Study\", \"Longitudinal Optic Neuritis Study (LONS)\", \"Intranasal Insulin for Improving Cognitive Function in Multiple Sclerosis\", \"Optic Neuritis Treatment Trial (ONTT)\", \"Evaluation of the Safety and Efficacy of Reduced-intensity Immunoablation and Autologous Hematopoietic Stem Cell Transplantation (AHSCT) in Multiple Sclerosis\", \"Randomized, Controlled Pilot Trial of Domperidone in Relapsing-Remitting Multiple Sclerosis\", \"Study on the Interaction Between Immune, Autonomic and Central Nervous Systems as a Target of Exercise Therapy in Multiple Sclerosis\", \"Use of Cellular Stromal Vascular Fraction (cSVF) for Select Multiple Sclerosis, Autoimmune, Inflammatory, and Neurologic Conditions: Clinical Interventional Study of Adverse Events and Clinical Outcomes Using Autologous Stem-Stromal Cells.\", \"Characterization of Teriflunomide's Therapeutic Mechanisms of Action in Patients With Relapsing Remitting Multiple Sclerosis.\", \"Risk Factors in Early Multiple Sclerosis\", \"Retinal Thickness as a Potential Biomarker of Neurodegeneration and Early Cognitive Impairment in Patients With Multiple Sclerosis\", \"Randomized, Comparative, Double Blind Controlled Phase II Clinical Trial, to Evaluate the Efficacy of ApE in Patients With Multiple Sclerosis (MS).\", \"Investigation of the Effects of Respiratory Functions and Trunk Control on Functional Mobility in Individuals With Multiple Sclerosis\", \"Clinical Pilot Study in the Feasibility and Effect of Online Cognitive Training on Cognitive Functions in Patients With Parkinson's Disease, Multiple Sclerosis and Depressive Patients Treated With Electroconvulsive Therapy\", \"The Effect of Alemtuzumab on the Blood-brain-barrier and Cerebral Metabolism in Multiple Sclerosis Patients; a New MRI Method for Treatment Response Evaluation in Multiple Sclerosis\", \"Effect of Nordic Walking Training Compared With Conventional Endurance Training in Walking Capacity in People With Multiple Sclerosis: a Simple Blinded Randomized Controlled Trial\", \"Treatment Response Among Chinese Patients With Acute Attack of Neuromyelitis Optica Spectrum Disorders: A Prospective, Multicenter Real-world Study\", \"Factors Associated With Dual-Task Performance in Patients With Multiple Sclerosis\", \"Intensity Dependent Clinical Effects of a Task-oriented Upper Limb Training in Multiple Sclerosis\", \"Clinical Relevance of miR-142-3p as Potential Biomarker of Synaptopathy in Multiple Sclerosis\", \"Mechanistic Studies of Teriflunomide in Relapsing Remitting Multiple Sclerosis: Regulatory B Lymphocytes as Central Mediators of the Therapeutic Effects of Teriflunomide in MS\", \"Dietary Approaches to Treat Multiple Sclerosis-Related Fatigue Study\", \"Single-Arm, Non-Randomized, Time Series, Single-Subject Study: Fecal Microbiota Transplantation (FMT) in Multiple Sclerosis\", \"Observational Prospective Multicentered Study Evaluating Initial Clinical Presentation of Inflammatory Optic Neuritis (ON) Associated or Not With Autoantibodies Anti- Myelin-oligodendrocyte-glycoprotein (MOG-Ab)\", \"ESPRIMO: A Bio-psycho-social Co-created Intervention for Young Adults With Multiple Sclerosis: Study Protocol for a Feasibility Study\", \"7T MRI Ferumoxytol-Enhanced Characterization of Multiple Sclerosis and Demyelinating Diseases\", \"Pilot Feasibility Study of Out-of-Pocket Cost Communication and Supportive Financial Services for Reducing Financial Toxicity Among Multiple Sclerosis Patients\", \"Open-label, Multi-center Phase III Extension of the Double-blind, Placebo-controlled BENEFIT Study (no. 92012/304747) to Obtain Long-term Follow-up Data of Patients With Clinically Definite Multiple Sclerosis (MS) and Patients With a First Demyelinating Event Suggestive of MS Treated With 8 MIU (250 \\u00b5g) Interferon Beta-1b (Betaferon\\u00ae / Betaseron\\u00ae) Given Subcutaneously Every Other Day for at Least 36 Months.\", \"The Inflammatory Synaptopathy as a Target of Exercise Therapy in the Fight Against Multiple Sclerosis\", \"A Single-center Prospective Measurement of Upper Extremity Function in Multiple Sclerosis Patients With Advanced Disability Treated With Ocrevus\\u2122\", \"The Effect of a Gluten Free Diet on the Permeability of the Blood Brain Barrier in Patients With Clinically Isolated Syndrome Measured by Dynamic Contrast Enhanced Magnetic Resonance Imaging\", \"Immunoregulation by Controlled Parasite Exposure in Multiple Sclerosis.\", \"The Effect of Task-Oriented Training on the Physical and Cognitive Functions in Patients With Multiple Sclerosis\", \"How Does Strength Training and Balance Training Affect Gait Function and Fatigue in Patients With Multiple Sclerosis?\", \"Continuous Positive Airway Pressure for Fatigue Treatment in Patients With Multiple Sclerosis and Obstructive Sleep Apnea\", \"The Effect of Percutaneous Venoplasty on Muscular Function, Mobility and Fatigue of Multiple Sclerosis (MS) Patients With Chronic Cerebrospinal Venous Insufficiency (CCSVI).\", \"Tolerability of Acthar for the Treatment of Multiple Sclerosis Relapses (TAMS)\", \"Theory Based Intervention Program to Support Physical Activity for Individuals With Multiple Sclerosis: a Case Series\", \"The Effectiveness of Game-Based Virtual Reality Approach in Patients With Multiple Sclerosis\", \"The Effect of Multiple-Task Training on Physical and Cognitive Functions in Patients With Multiple Sclerosis\", \"A Phase II Study of High Dose Chemotherapy With Autologous Hematopoietic Progenitor Cell Transplant for Multiple Sclerosis That Failed at Least Two Lines of Therapy\", \"Intermittent Theta Burst Stimulation (iTBS) for the Treatment of Depression in Patients With Multiple Sclerosis: a Randomized Controlled Study\", \"Comparing Lesion Contrast With Both Magnevist and Gadavist and Understanding the Cerebral Perfusion Patterns of Patients With Multiple Sclerosis (MS) Using Magnetic Resonance Imaging (MRI)\", \"A Double-Blind, Placebo Controlled Trial of Estriol Treatment in Women With Multiple Sclerosis: Effect on Cognition.\", \"A Randomized, Multicenter, Double-Blind, Placebo-Controlled, Dose-Comparison Study to Determine the Efficacy and Safety of BG00012 in Subjects With Relapsing-Remitting Multiple Sclerosis\", \"A Pilot Trial of Testosterone Treatment for Fatigue in Men With Multiple Sclerosis\", \"The German Multiple Sclerosis Registry of the German MS Society\", \"A Phase II Study of High-Dose Immunosuppressive Therapy Using Carmustine, Etoposide, Cytarabine, Melphalan, Thymoglobulin and Autologous CD34+ Hematopoietic Stem Cell Transplant for the Treatment of Poor Prognosis Multiple Sclerosis\", \"A Phase II, Randomized, Open-Label, Three-Arm Study Comparing Low- and High-Dose Alemtuzumab and High-Dose Subcutaneous Interferon Beta-1a (Rebif\\u00ae) in Patients With Early, Active Relapsing-Remitting Multiple Sclerosis\", \"Tolerance-Induction With Dendritic Cells Treated With Vitamin-D3 and Loaded With Myelin Peptides, in Multiple Sclerosis Patients (TOLERVIT-MS)\", \"Multiple Sclerosis and Fabry Disease: Prevalence of Fabry Disease in a Defined Population at Risk - Patients Formerly Diagnosed With Multiple Sclerosis - an Epidemiological Study\", \"Comparison of Expanded Disability Status Scale, Gad-enhanced Brain Lesions, Annualized Relapse Rate, and Side Effects Between Active Secondary Progressive Multiple Sclerosis Patients on Rituximab and Glatiramer Acetate\", \"A Phase 3, Randomized, Rater- and Dose-Blinded Study Comparing Two Annual Cycles of Intravenous Low- and High-Dose Alemtuzumab to Three-Times Weekly Subcutaneous Interferon Beta 1a (Rebif\\u00ae) in Patients With Relapsing Remitting Multiple Sclerosis Who Have Relapsed On Therapy\", \"Comparison of Rebif Compared to Tecifdera on Six-month Outcomes in Patients With Relapsing-remitting MS\", \"A Randomized Controlled Trial of Telephone-delivered Cognitive Behavioral-therapy, Modafinil, and Combination Therapy of Both Interventions for Fatigue in Multiple Sclerosis\", \"An Extension Protocol for Multiple Sclerosis Patients Who Participated in Genzyme-Sponsored Studies of Alemtuzumab\", \"The Impact of a Planned 12-week Dosing Interruption of Natalizumab on Immune Cell Trafficking, Pharmacokinetic (PK)/Pharmacodynamic (PD) Parameters, and Multiple Sclerosis (MS) Disease Stability.\", \"A Randomized, Multicenter, Placebo-Controlled and Active Reference (Glatiramer Acetate) Comparison Study to Evaluate the Efficacy and Safety of BG00012 in Subjects With Relapsing-Remitting Multiple Sclerosis\", \"Switching Relapsing Multiple Sclerosis Patients Treated With Natalizumab at Risk for Progressive Multifocal Leukoencephalopathy to Teriflunomide: Is This Safe and Effective? (Sub-study: SWITCH-JCV)\", \"A Phase 1b, Open-label Study to Evaluate the Safety and Tolerability of the Putative Remyelinating Agent, Liothyronine, in Individuals With MS\", \"An Examination of Potential Neurochemical and Cognitive Mediators of the Relationship Between Mindfulness and Emotion Regulation in Individuals With Multiple Sclerosis: An Internet Based Self-Guided Pilot Study.\", \"Fecal Microbiota Transplantation (FMT) of FMP30 in Relapsing-Remitting Multiple Sclerosis: A Phase 1b Clinical Trial to Evaluate Feasibility, Safety, Tolerability and Effects on Immune Function\", \"De-escalation After Natalizumab Treatment With Interferon-beta-1b in Patients With Relapsing-remitting Multiple Sclerosis\", \"A Phase 3 Randomized, Rater-Blinded Study Comparing Two Annual Cycles of Intravenous Alemtuzumab to Three-Times Weekly Subcutaneous Interferon Beta-1a (Rebif\\u00ae) in Treatment-Na\\u00efve Patients With Relapsing-Remitting Multiple Sclerosis\", \"Reliability and Validity of Glittre Activities Of Daily Living (ADL) Test in Multiple Sclerosis\", \"Open-label, Single-center, Single-arm Futility Trial Evaluating Oral Domperidone 10mg QID for Reducing Progression of Disability in Patients With Secondary Progressive Multiple Sclerosis (SPMS)\", \"Behaviour and Well-Being: A Bio-Psycho-Social Model of Resilience in Young Adults Newly Diagnosed With Multiple Sclerosis\", \"A Combination Trial of Copaxone Plus Estriol in RRMS\", \"A 24-month, Double-blind, Randomized, Multicenter, Placebo-controlled, Parallel-group Study Comparing the Efficacy and Safety of Fingolimod 1.25 mg and 0.5 mg Administered Orally Once Daily Versus Placebo in Patients With Relapsing-remitting Multiple Sclerosis\", \"Controlled, Randomized, Double-blind Clinical Trial, 24 Months Duration, to Compare the Efficacy, Safety and Tolerability of Andrographolide Versus Placebo in Patients With Progressive Forms of Multiple Sclerosis\", \"Sexual Dysfunction in Patients With Relapsing Remitting Multiple Sclerosis and Associated Comorbidities\", \"Robot-assisted Gait Training in Patients Affected by Multiple Sclerosis: Rehabilitative Efficacy Evaluation and Comparison With Traditional Methods\", \"Effect of Cyclical Administration of Interferon \\u03b2-1b in Multiple Sclerosis - Comparison With Normal Dose.\", \"A Multicentric Randomized PRAGmatic Trial to Compare the Effectiveness of Fingolimod Versus Dimethyl-Fumarate on Patient Overall Disease Experience in Relapsing Remitting Multiple Sclerosis: Novel Data to Inform Decision-makers\", \"Effect of a Tissue Selective Estrogen Complex on Menopausal Symptoms in Women With MS: A Pilot Trial.\", \"A Phase II Proof of Concept Study Evaluating the Reduction of Mitoxantrone-induced Cardiotoxicity and Neurological Outcome in the Combined Use of Mitoxantrone and Dexrazoxane (Cardioxane\\u00ae) in Multiple Sclerosis (MSCardioPro)\", \"Management of Acute Disseminated Encephalomyelitis in Neurology Unit of Assiut University Children Hospital\", \"Safety and Tolerability of Oral Two-Doses Estroprogestins Associated With Interferon-Beta 1a in Patients With Relapsing-Remitting Multiple Sclerosis\", \"Clinically Isolated Syndrome and Relapsing-Remitting Multiple Sclerosis\", \"The Effects of Oral Nanocurcumin on Expression Levels of microRNAs and Treg Cells and Th17 Cells Development Factors in Multiple Sclerosis Patients\", \"Keratinocyte Growth Factor - Promoting Thymic Reconstitution and Preventing Autoimmunity After Alemtuzumab (Campath-1H) Treatment of Multiple Sclerosis\", \"An Open Label Study of the Effects of Eculizumab in Neuromyelitis Optica\", \"The Effect of Combined Exercise Training on Cognitive Functions in Patients With Multiple Sclerosis\", \"A Randomized, Double-Blind, Placebo-Controlled, Parallel Group Design Study to Evaluate the Efficacy and Safety of Teriflunomide in Reducing the Frequency of Relapses and Delaying the Accumulation of Physical Disability in Subjects With Multiple Sclerosis With Relapses\", \"Validation of a Shared Decision-Making Tool, MS-SUPPORT, to Improve Decisions About Disease Modifying Therapies (DMT) for Multiple Sclerosis\", \"Proposal to Create a Flagship Neurology and Palliative Care Service for South London\", \"The Relationship Between Kinesiophobia, Physical Activity, Balance and Fear of Fall in Multiple Sclerosis Patients\", \"Cortical Lesions in the Primary Sensorimotor Hand Area and Their Impact on Dexterity in Multiple Sclerosis: a 7T MRI Study\", \"Muscle Strain in Multiple Sclerosis Patients Measured by Ultrasound Speckle Tracking\", \"Intrathecal Methotrexate for Progressive Multiple Sclerosis: An Open Label Single Arm Study\", \"A Multi-center Double-blind Parallel-group Placebo-controlled Study of the Efficacy and Safety of Teriflunomide in Patients With Relapsing Multiple Sclerosis\", \"Exercise as a Supplemental Treatment Strategy Early in the Disease Course of Multiple Sclerosis\", \"Evaluating the Effect of Fingolimod With Fish Oil Compared to Fingolimod With Placebo on Tumor Necrosis Factor-\\u03b1 , Interleukin1b , Interleukin6, and Interferon-gamma in Patients With Relapsing-Remitting Multiple Sclerosis\", \"Dual Benefits of Vaginal Estriol: Improved Urogenital Health and Re-myelination in Relapsing Remitting Multiple Sclerosis (RRMS)\", \"Evaluation of Cerebrovascular Hemodynamics With Transcranial Doppler and Near-infrared Spectroscopy in Patients With Multiple Sclerosis\", \"The Reliability and Validity of the Functional Reach Test in Patients With Multiple Sclerosis\", \"A 12-month Double-blind, Randomized, Multicenter, Active-controlled, Parallel-group Study Comparing the Efficacy and Safety of 0.5 mg and 1.25 mg Fingolimod (FTY720) Administered Orally Once Daily Versus Interferon \\u00df-1a (Avonex) Administered im Once Weekly in Patients With Relapsing-remitting Multiple Sclerosis With Optional Extension Phase\", \"Phase 2-3 Use of Bacille Calmette-Gu\\u00e8rin (BCG) Vaccine in Patients With a First Clinical Demyelinating Episode: a Multicenter, Randomized, Single Blind Study.\", \"fMRI and Neurophysiological Study Protocol on Cannabinoids in Multiple Sclerosis\", \"Role of Vitamin D on the Relapse Rate of Multiple Sclerosis\", \"Clinical Patterns of Neuromyelitis Optica Spectrum Disorders in Assiut University Hospital\", \"Study of the Link Between Retinal Atrophy and Demyelinating Inflammatory Processes on Visual Pathways in Relapsing Multiple Sclerosis in Magnetic Resonance Imaging and Optical Coherence Tomography\", \"24-month Double-blind, Randomized, Multicenter, Placebo-controlled, Parallel-group Study Comparing the Efficacy and Safety of 0.5 mg and 1.25 mg Fingolimod (FTY720) Administered Orally Once Daily Versus Placebo in Patients With Relapsing-remitting Multiple Sclerosis With Optional Extension Phase\", \"Neurophysiological, Dynamometric, Functional and Clinical Assessment of the Cross-Training Effect in Patients With Multiple Sclerosis\", \"Linking Optic Nerve Lesion Length at MRI and the Retinal Axonal Loss at 12 Months From a Clinical Episode of Optic Neuritis\", \"Control Fatigue: Sleep Medical Treatment as a Novel Therapeutic Approach to an Unmet Medical Need in Multiple Sclerosis\", \"Study to Evaluate the Responsiveness and Minimal Clinical Important Difference (MCID) of the 'Multiple Sclerosis Questionnaire for Physiotherapists' (MSQPT)\", \"Assessment of the Effectiveness of Guided by a Physiotherapist Versus Non-guided Pelvic Floor Exercises for Urinary Incontinence (UI) in Patients With Relapsing-Remitting (RR) Multiple Sclerosis\", \"Use of Cellular Stromal Vascular Fraction in Multiple Sclerosis\", \"Factors That Influence Compliance With Disease-Modifying Therapy in Multiple Sclerosis\", \"Multicenter, Double-blind, Randomized, Parallel-group, Monotherapy, Active-control Study to Determine the Efficacy and Safety of Daclizumab High Yield Process (DAC HYP) Versus Avonex\\u00ae (Interferon \\u03b2 1a) in Patients With Relapsing-Remitting Multiple Sclerosis\", \"Controlled High-risk Avonex Multiple Sclerosis Prevention Study in Ongoing Neurologic Surveillance (CHAMPIONS10)\", \"Effect of Vitamin D Replacement on Immune Function and Cognition in MS Patients\", \"Teriflunomide Observational Effectiveness Study\", \"The Effects of Extremity and \\\"Core\\\" Muscles Strength on Walking and Sit-to-Stand Performance in Patients With Multiple Sclerosis\", \"The Reliability, Validity, and Responsiveness of the Static Balance Test in Patients With Multiple Sclerosis.\", \"A Randomised Controlled Pilot Study to Compare the Effects of Prolonged Fasting and Ketogenic Low Glycemic Load Treatment on Health Related Quality of Life in Relapsing-remitting Multiple Sclerosis.\", \"Multidimensional Assessment of Fatigue in Multiple Sclerosis- Observational Study - Ticino\", \"Randomized Controlled Trial of Core Stability Training in Patients With Multiple Sclerosis: Biomechanical and Performance Based Analysis of Gait\", \"MicroRNA-150 and microRNA-155 as Molecular Biomarkers in Multiple Sclerosis\", \"The Effectiveness of Endovascular Treatment of Chronic Cerebrospinal Venous Insufficiency (CCSVI) in Patients With Multiple Sclerosis\", \"Double Blind Placebo-Controlled Phase I/II Clinical Trial of Idebenone in Patients With Primary Progressive Multiple Sclerosis\", \"Anti-Inflammatory Type II Monocyte Induction by Glatiramer Acetate (Copaxone) Treatment of Multiple Sclerosis\", \"Efficacy of Sustained-release Oral Dalfampridine on Upper Extremity Function in Patients With Multiple Sclerosis: a Pilot Study\", \"Reducing Sedentary Behaviour: A Novel Opportunity for Managing Comorbidity in MS?\", \"The Effects of Vitamin D3 Supplementation on the T Cell Compartment in Multiple Sclerosis; a Pilot Study\", \"Double-blinded, Randomized Controlled Trial of Simvastatin Use As Adjuvant Therapy in Relapsing-Remitting Multiple Sclerosis\", \"An Exploratory Randomized Controlled Trial of a Manualized, Nurse-led, Telephone Intervention Support Service for Support Persons of People With Multiple Sclerosis\", \"Effect of Aerobic Exercises on Immune System in Patients With Multiple Sclerosis\", \"Interventions to Improve Memory in Patients With Multiple Sclerosis\", \"Calorie Restriction as a Novel Therapeutic Tool to Manipulate Immunity and Improve Therapeutic Potential of First Line Drug Treatments During Relapsing Remitting Multiple Sclerosis\", \"Gene Expression in MS Patients Before and During Treatment With High-dose Interferon Beta: Prospective Study for the Identification of Predicting Factors of Therapeutic Response.\", \"A Phase II Baseline Versus Treatment Study to Determine the Efficacy of Raltegravir (Isentress) in Preventing Progression of Relapsing Remitting Multiple Sclerosis as Determined by Gadolinium-enhanced MRI\", \"The Relationship of Cognitive Functions to Physical and Personal Factors in Patients With Multiple Sclerosis\", \"POPART'MUS: Prevention of Post Partum Relapses With Progestin and Estradiol in Multiple Sclerosis\", \"A Multi-center Randomized Clinical Trial of Regulating Gut Microbiota by Probiotic Agents in Management of Immune Thrombocytopenia\", \"Assessment of Lesion Activity Analysis in the Avonex- Steroid Azathioprine (ASA) Study\", \"Testosterone Treatment for Multiple Sclerosis: A Preliminary Trial\", \"Physical Activity Intervention for Improving Vascular Comorbidity Risk in Multiple Sclerosis\", \"The Reliability, Validity, and Responsiveness of the Timed 360\\u00b0 Turn Test Test in Patients With Multiple Sclerosis\", \"A Randomized Trial on the Novel Use of Treadmill Plus Music in Multiple Sclerosis Patients With Gate Impairnent\", \"A First-in-Kind Randomized, Controlled Pilot Clinical Trial Testing Proactive vs Reactive Management of a Symptom Triad in Multiple Sclerosis\", \"A Phase III, Multicentre, Randomized, Parallel-group, Double-blind, Placebo Controlled Study to Evaluate the Efficacy and Safety of Ocrelizumab in Adults With Primary Progressive Multiple Sclerosis\", \"Lorraine Registry of Multiple Sclerosis\", \"Efficacy, Safety and Tolerability of Atorvastatin 40 mg in Patients With Relapsing-remitting Multiple Sclerosis Treated With Interferon-beta-1b.SWiss Atorvastatin and Interferon-Beta 1b Trial In Multiple Sclerosis.\", \"A Long-term Follow up of Patients Enrolled in the Pivotal Study of Betaseron\\u00ae (Interferon Beta 1b) in Relapsing-remitting Multiple Sclerosis\", \"Treatment Adherence in Pediatric Multiple Sclerosis\", \"Natalizumab De-escalation to Interferon-beta-1b in Patients With Relapsing-remitting Multiple Sclerosis: A Swiss Multicenter Study Prospective, Controlled, Single-arm, Open-label, Multi-centre, Phase IV Study\", \"Treatment of Multiple Sclerosis Using Over the Counter Inosine\", \"Randomized Multi-centered Study for Evaluating the Efficacy and Safety of Angioplastic Surgery of the Extracranial Veins in the Treatment of Multiple Sclerosis. Studio Randomizzato Multicentrico Per la Valutazione Dell'Efficacia e Sicurezza Dell'Intervento di Disostruzione Delle Vene Extracraniche Nel Trattamento Della Sclerosi Multipla\", \"Fish Oil as an Adjunct Therapy for Depression in Multiple Sclerosis\", \"SWiss Atorvastatin and Interferon-Beta 1b Trial In Multiple Sclerosis - Follow up Study (\\\"SWABIMS Follow Up-study\\\")\", \"A Multicentre, Non Interventional, Non Randomized, Observational Study for the Assessment of Compliance and Persistence With Rebif\\u00ae Therapy of Patients With Relapsing-Remitting Multiple Sclerosis as Well as for the Evaluation of Potential Factors Influencing These Parameters, in Real Life Clinical Practice\", \"Functional Electrical Stimulation to Treat Foot Drop in People With Multiple Sclerosis\", \"Effects of Immersive Virtual Reality on Balance, Mobility, and Fatigue in Patients With Multiple Sclerosis\", \"Standardized Comprehensive Two-month Ambulatory Neurorehabilitation Program for Patients With Multiple Sclerosis: a Randomized-controlled Trial\", \"Evaluation of Progression in Multiple Sclerosis by Magnetic Resonance Imaging (MRI)\", \"A 6-month, Randomized, Active Comparator, Open-label, Multi-Center Study to Evaluate Patient OutComes, Safety and Tolerability of Fingolimod (FTY720) 0.5 mg/Day in Patients With Relapsing Forms of Multiple Sclerosis Who Are Candidates for MS Therapy Change From Previous Disease Modifying Therapy (EPOC)\", \"An Open-label, Randomised, Crossover Study to Assess the Relative Bioavailability of Different 2mg Formulations of GSK2018682(S1P1 Agonist) in Healthy Volunteers\", \"Phase IV Study of Oral Prednisone Taper vs. Placebo Following Intravenous Steroids for the Treatment of Acute Relapses in Multiple Sclerosis Within the Ticino Cohort\", \"Investigating Mechanism of Action of DAC HYP in the Treatment of High-Inflammatory Multiple Sclerosis (MS)\", \"Effect of the Humanized Monoclonal Antibody Against the Interleukin-2 Receptor Alpha Subunit (IL-2R-Alpha; Zenapax(Registered Trademark)) on Inflammatory Activity in the CNS in MS in a Baseline-to-Treatment, Cross-Over, MRI-Controlled Single Center Phase I/II Trial\", \"Single Test to ARrive at MS Diagnosis. A Prospective, Longitudinal, Investigator Blinded, Pilot Study Assessing the Accuracy of a Single 3 Tesla MRI Scan in Predicting Multiple Sclerosis in Cases of Diagnostic Uncertainty\", \"A Phase I/II, Open-Label Pilot Trial to Evaluate the Safety of Rapamune (Sirolimus) in Patients With Multiple Sclerosis\", \"Effects of Sensori-motor Integration Balance Training on Balance Disturbances in Patients With Multiple Sclerosis\", \"Phase I Study of Oral Guanabenz for Multiple Sclerosis\", \"Longitudinal Effect of Vitamin D3 Replacement on Cognitive Performance and MRI Markers in Multiple Sclerosis Patients: A Single-Blind Randomized Clinical Trial\", \"Examining the Effects of Physical Activity Promotion, Fatigue Management Education, and Social Support Using a Telehealth Intervention Approach Among Adults With Multiple Sclerosis\", \"Physical Activity Together for MS (PAT-MS): Pilot Study of a Dyadic Rehabilitation Intervention for People With Moderate-to-Severe Multiple Sclerosis Disability and Their Family Caregivers\", \"Pacing Activity Self-management for Patients With Multiple Sclerosis: Randomized Controlled Clinical Trial\", \"A Phase I/II Dose-Escalation Trial of Vitamin D3 With Calcium Supplementation in Patients With Multiple Sclerosis\", \"Pilot Study for the Evaluation of the More Stamina Mobile Application for Fatigue Management in Persons With Multiple Sclerosis\", \"An Exploratory Study on Detection of Cortical and White Matter Damage in Patients With Multiple Sclerosis Using Magnetic Resonance Imaging at 7 Tesla\", \"Targeting Multiple Sclerosis as an Autoimmune Disease With Intensive Immunoablative Therapy and Immunological Reconstitution: A Potential Curative Therapy for Patients With a Predicted Poor Prognosis\", \"Apraxia-specific Occupational Therapy in Patients With Multiple Sclerosis\", \"A Multicenter Randomized Controlled Trial of Best Available Therapy Versus Autologous Hematopoietic Stem Cell Transplant for Treatment-Resistant Relapsing Multiple Sclerosis (ITN077AI)\", \"The Use of Magnetic Resonance Imaging to Investigate Cortical Damage in Patients With Multiple Sclerosis and Correlation With Cognitive Dysfunction\"], \"legendgroup\": \"\", \"marker\": {\"color\": \"#636efa\"}, \"name\": \"\", \"offsetgroup\": \"\", \"orientation\": \"v\", \"showlegend\": false, \"textposition\": \"auto\", \"type\": \"bar\", \"x\": [\"NCT04073940\", \"NCT03782246\", \"NCT02104661\", \"NCT03004079\", \"NCT04466150\", \"NCT02367222\", \"NCT01018537\", \"NCT03949296\", \"NCT04178005\", \"NCT03896217\", \"NCT02364505\", \"NCT04113135\", \"NCT01337986\", \"NCT04496830\", \"NCT02849782\", \"NCT03736902\", \"NCT04236544\", \"NCT01149525\", \"NCT03135249\", \"NCT02489877\", \"NCT02544373\", \"NCT02290444\", \"NCT03889327\", \"NCT02377323\", \"NCT00000147\", \"NCT02988401\", \"NCT00000146\", \"NCT03113162\", \"NCT02493049\", \"NCT04294979\", \"NCT02939859\", \"NCT02833714\", \"NCT03586986\", \"NCT04153773\", \"NCT02280876\", \"NCT03826095\", \"NCT02525367\", \"NCT03193086\", \"NCT03976128\", \"NCT04101058\", \"NCT03508284\", \"NCT02688231\", \"NCT03999788\", \"NCT03464448\", \"NCT02914964\", \"NCT03975413\", \"NCT03345537\", \"NCT04431323\", \"NCT01973517\", \"NCT04257071\", \"NCT00185211\", \"NCT03735524\", \"NCT03562975\", \"NCT03451955\", \"NCT00630383\", \"NCT03505294\", \"NCT02870023\", \"NCT01563900\", \"NCT01555684\", \"NCT02258217\", \"NCT02335450\", \"NCT04212689\", \"NCT03512886\", \"NCT01679041\", \"NCT04524039\", \"NCT01836055\", \"NCT01466114\", \"NCT00420212\", \"NCT03000127\", \"DRKS00011257\", \"NCT00288626\", \"NCT00050778\", \"NCT02903537\", \"NCT01271699\", \"NCT03315923\", \"NCT00548405\", \"NCT02419638\", \"NCT03621761\", \"NCT00930553\", \"NCT04048577\", \"NCT00451451\", \"NCT01970410\", \"NCT02506751\", \"NCT02391298\", \"NCT03594487\", \"NCT01144052\", \"NCT00530348\", \"NCT04182269\", \"NCT02308137\", \"NCT03825055\", \"NCT00451204\", \"NCT00289978\", \"NCT02273635\", \"NCT04157283\", \"NCT02291107\", \"NCT00270816\", \"NCT03345940\", \"NCT02710214\", \"NCT01627938\", \"NCT03284801\", \"NCT00151801\", \"NCT04009005\", \"NCT03150966\", \"NCT01712945\", \"NCT00904826\", \"NCT03591809\", \"NCT00134563\", \"NCT04122989\", \"NCT00364936\", \"NCT04183751\", \"NCT03653585\", \"NCT03847545\", \"NCT02644044\", \"NCT00751881\", \"NCT03322761\", \"NCT02939079\", \"NCT03774407\", \"NCT02389426\", \"NCT04185688\", \"NCT00340834\", \"NCT00202410\", \"NCT00202423\", \"NCT01753375\", \"NCT03819413\", \"NCT03656055\", \"NCT00355134\", \"NCT02010398\", \"NCT03651362\", \"NCT03759249\", \"NCT02346279\", \"NCT03000647\", \"NCT03461419\", \"NCT00223457\", \"NCT01064401\", \"NCT00179478\", \"NCT01952483\", \"NCT02490982\", \"NCT03597451\", \"NCT03584672\", \"NCT01538355\", \"NCT02082002\", \"NCT03442049\", \"NCT04300543\", \"NCT01201707\", \"NCT00950248\", \"NCT00819195\", \"NCT02259361\", \"NCT03136744\", \"NCT00940719\", \"NCT04178980\", \"NCT01302431\", \"NCT04545372\", \"NCT00062972\", \"NCT04042415\", \"NCT00202384\", \"NCT01767701\", \"NCT03594357\", \"NCT00127075\", \"NCT03033199\", \"NCT01628315\", \"NCT00405353\", \"NCT03944538\", \"NCT03718026\", \"NCT04019912\", \"NCT03335618\", \"NCT01194570\", \"NCT02883335\", \"NCT00942591\", \"NCT00206635\", \"NCT02234713\", \"NCT01701856\", \"NCT00067327\", \"NCT01371760\", \"NCT00122954\", \"NCT01111656\", \"NCT01112345\", \"NCT02123537\", \"NCT03501342\", \"NCT02440516\", \"NCT00001248\", \"NCT01216072\", \"NCT01466322\", \"NCT01411514\", \"NCT01143441\", \"NCT00001934\", \"NCT02485223\", \"NCT00095329\", \"NCT01040117\", \"NCT02423083\", \"NCT03610139\", \"NCT01572714\", \"NCT04267185\", \"NCT01512329\", \"NCT00644904\", \"NCT04244214\", \"NCT00321568\", \"NCT01099930\", \"NCT01507636\", \"NCT04047628\", \"NCT00393588\"], \"xaxis\": \"x\", \"y\": [100, 73, 48, 46, 45, 42, 41, 39, 39, 37, 35, 34, 33, 33, 30, 29, 29, 27, 27, 26, 25, 24, 23, 23, 23, 22, 22, 21, 20, 20, 20, 20, 19, 18, 18, 17, 17, 17, 16, 16, 16, 16, 16, 16, 15, 15, 15, 15, 15, 15, 14, 14, 14, 13, 13, 13, 13, 13, 12, 12, 12, 12, 12, 12, 12, 12, 11, 11, 11, 11, 11, 11, 11, 11, 11, 11, 10, 10, 10, 10, 10, 10, 10, 10, 10, 10, 10, 10, 10, 9, 9, 9, 9, 9, 9, 9, 9, 9, 9, 9, 9, 9, 8, 8, 8, 8, 8, 8, 8, 8, 8, 8, 8, 7, 7, 7, 7, 7, 7, 7, 7, 7, 7, 7, 6, 6, 6, 6, 6, 6, 6, 5, 5, 5, 5, 5, 5, 5, 5, 5, 5, 5, 5, 5, 5, 5, 5, 5, 5, 5, 5, 5, 4, 4, 4, 4, 4, 4, 4, 4, 4, 4, 4, 4, 4, 4, 4, 4, 4, 4, 4, 4, 4, 4, 4, 4, 4, 4, 4, 4, 4, 4, 4, 4, 4, 4, 4, 4, 4, 4, 3, 3, 3, 3, 3, 3, 3, 3, 3, 3], \"yaxis\": \"y\"}],                        {\"barmode\": \"relative\", \"legend\": {\"tracegroupgap\": 0}, \"margin\": {\"t\": 60}, \"template\": {\"data\": {\"bar\": [{\"error_x\": {\"color\": \"#2a3f5f\"}, \"error_y\": {\"color\": \"#2a3f5f\"}, \"marker\": {\"line\": {\"color\": \"#E5ECF6\", \"width\": 0.5}}, \"type\": \"bar\"}], \"barpolar\": [{\"marker\": {\"line\": {\"color\": \"#E5ECF6\", \"width\": 0.5}}, \"type\": \"barpolar\"}], \"carpet\": [{\"aaxis\": {\"endlinecolor\": \"#2a3f5f\", \"gridcolor\": \"white\", \"linecolor\": \"white\", \"minorgridcolor\": \"white\", \"startlinecolor\": \"#2a3f5f\"}, \"baxis\": {\"endlinecolor\": \"#2a3f5f\", \"gridcolor\": \"white\", \"linecolor\": \"white\", \"minorgridcolor\": \"white\", \"startlinecolor\": \"#2a3f5f\"}, \"type\": \"carpet\"}], \"choropleth\": [{\"colorbar\": {\"outlinewidth\": 0, \"ticks\": \"\"}, \"type\": \"choropleth\"}], \"contour\": [{\"colorbar\": {\"outlinewidth\": 0, \"ticks\": \"\"}, \"colorscale\": [[0.0, \"#0d0887\"], [0.1111111111111111, \"#46039f\"], [0.2222222222222222, \"#7201a8\"], [0.3333333333333333, \"#9c179e\"], [0.4444444444444444, \"#bd3786\"], [0.5555555555555556, \"#d8576b\"], [0.6666666666666666, \"#ed7953\"], [0.7777777777777778, \"#fb9f3a\"], [0.8888888888888888, \"#fdca26\"], [1.0, \"#f0f921\"]], \"type\": \"contour\"}], \"contourcarpet\": [{\"colorbar\": {\"outlinewidth\": 0, \"ticks\": \"\"}, \"type\": \"contourcarpet\"}], \"heatmap\": [{\"colorbar\": {\"outlinewidth\": 0, \"ticks\": \"\"}, \"colorscale\": [[0.0, \"#0d0887\"], [0.1111111111111111, \"#46039f\"], [0.2222222222222222, \"#7201a8\"], [0.3333333333333333, \"#9c179e\"], [0.4444444444444444, \"#bd3786\"], [0.5555555555555556, \"#d8576b\"], [0.6666666666666666, \"#ed7953\"], [0.7777777777777778, \"#fb9f3a\"], [0.8888888888888888, \"#fdca26\"], [1.0, \"#f0f921\"]], \"type\": \"heatmap\"}], \"heatmapgl\": [{\"colorbar\": {\"outlinewidth\": 0, \"ticks\": \"\"}, \"colorscale\": [[0.0, \"#0d0887\"], [0.1111111111111111, \"#46039f\"], [0.2222222222222222, \"#7201a8\"], [0.3333333333333333, \"#9c179e\"], [0.4444444444444444, \"#bd3786\"], [0.5555555555555556, \"#d8576b\"], [0.6666666666666666, \"#ed7953\"], [0.7777777777777778, \"#fb9f3a\"], [0.8888888888888888, \"#fdca26\"], [1.0, \"#f0f921\"]], \"type\": \"heatmapgl\"}], \"histogram\": [{\"marker\": {\"colorbar\": {\"outlinewidth\": 0, \"ticks\": \"\"}}, \"type\": \"histogram\"}], \"histogram2d\": [{\"colorbar\": {\"outlinewidth\": 0, \"ticks\": \"\"}, \"colorscale\": [[0.0, \"#0d0887\"], [0.1111111111111111, \"#46039f\"], [0.2222222222222222, \"#7201a8\"], [0.3333333333333333, \"#9c179e\"], [0.4444444444444444, \"#bd3786\"], [0.5555555555555556, \"#d8576b\"], [0.6666666666666666, \"#ed7953\"], [0.7777777777777778, \"#fb9f3a\"], [0.8888888888888888, \"#fdca26\"], [1.0, \"#f0f921\"]], \"type\": \"histogram2d\"}], \"histogram2dcontour\": [{\"colorbar\": {\"outlinewidth\": 0, \"ticks\": \"\"}, \"colorscale\": [[0.0, \"#0d0887\"], [0.1111111111111111, \"#46039f\"], [0.2222222222222222, \"#7201a8\"], [0.3333333333333333, \"#9c179e\"], [0.4444444444444444, \"#bd3786\"], [0.5555555555555556, \"#d8576b\"], [0.6666666666666666, \"#ed7953\"], [0.7777777777777778, \"#fb9f3a\"], [0.8888888888888888, \"#fdca26\"], [1.0, \"#f0f921\"]], \"type\": \"histogram2dcontour\"}], \"mesh3d\": [{\"colorbar\": {\"outlinewidth\": 0, \"ticks\": \"\"}, \"type\": \"mesh3d\"}], \"parcoords\": [{\"line\": {\"colorbar\": {\"outlinewidth\": 0, \"ticks\": \"\"}}, \"type\": \"parcoords\"}], \"pie\": [{\"automargin\": true, \"type\": \"pie\"}], \"scatter\": [{\"marker\": {\"colorbar\": {\"outlinewidth\": 0, \"ticks\": \"\"}}, \"type\": \"scatter\"}], \"scatter3d\": [{\"line\": {\"colorbar\": {\"outlinewidth\": 0, \"ticks\": \"\"}}, \"marker\": {\"colorbar\": {\"outlinewidth\": 0, \"ticks\": \"\"}}, \"type\": \"scatter3d\"}], \"scattercarpet\": [{\"marker\": {\"colorbar\": {\"outlinewidth\": 0, \"ticks\": \"\"}}, \"type\": \"scattercarpet\"}], \"scattergeo\": [{\"marker\": {\"colorbar\": {\"outlinewidth\": 0, \"ticks\": \"\"}}, \"type\": \"scattergeo\"}], \"scattergl\": [{\"marker\": {\"colorbar\": {\"outlinewidth\": 0, \"ticks\": \"\"}}, \"type\": \"scattergl\"}], \"scattermapbox\": [{\"marker\": {\"colorbar\": {\"outlinewidth\": 0, \"ticks\": \"\"}}, \"type\": \"scattermapbox\"}], \"scatterpolar\": [{\"marker\": {\"colorbar\": {\"outlinewidth\": 0, \"ticks\": \"\"}}, \"type\": \"scatterpolar\"}], \"scatterpolargl\": [{\"marker\": {\"colorbar\": {\"outlinewidth\": 0, \"ticks\": \"\"}}, \"type\": \"scatterpolargl\"}], \"scatterternary\": [{\"marker\": {\"colorbar\": {\"outlinewidth\": 0, \"ticks\": \"\"}}, \"type\": \"scatterternary\"}], \"surface\": [{\"colorbar\": {\"outlinewidth\": 0, \"ticks\": \"\"}, \"colorscale\": [[0.0, \"#0d0887\"], [0.1111111111111111, \"#46039f\"], [0.2222222222222222, \"#7201a8\"], [0.3333333333333333, \"#9c179e\"], [0.4444444444444444, \"#bd3786\"], [0.5555555555555556, \"#d8576b\"], [0.6666666666666666, \"#ed7953\"], [0.7777777777777778, \"#fb9f3a\"], [0.8888888888888888, \"#fdca26\"], [1.0, \"#f0f921\"]], \"type\": \"surface\"}], \"table\": [{\"cells\": {\"fill\": {\"color\": \"#EBF0F8\"}, \"line\": {\"color\": \"white\"}}, \"header\": {\"fill\": {\"color\": \"#C8D4E3\"}, \"line\": {\"color\": \"white\"}}, \"type\": \"table\"}]}, \"layout\": {\"annotationdefaults\": {\"arrowcolor\": \"#2a3f5f\", \"arrowhead\": 0, \"arrowwidth\": 1}, \"coloraxis\": {\"colorbar\": {\"outlinewidth\": 0, \"ticks\": \"\"}}, \"colorscale\": {\"diverging\": [[0, \"#8e0152\"], [0.1, \"#c51b7d\"], [0.2, \"#de77ae\"], [0.3, \"#f1b6da\"], [0.4, \"#fde0ef\"], [0.5, \"#f7f7f7\"], [0.6, \"#e6f5d0\"], [0.7, \"#b8e186\"], [0.8, \"#7fbc41\"], [0.9, \"#4d9221\"], [1, \"#276419\"]], \"sequential\": [[0.0, \"#0d0887\"], [0.1111111111111111, \"#46039f\"], [0.2222222222222222, \"#7201a8\"], [0.3333333333333333, \"#9c179e\"], [0.4444444444444444, \"#bd3786\"], [0.5555555555555556, \"#d8576b\"], [0.6666666666666666, \"#ed7953\"], [0.7777777777777778, \"#fb9f3a\"], [0.8888888888888888, \"#fdca26\"], [1.0, \"#f0f921\"]], \"sequentialminus\": [[0.0, \"#0d0887\"], [0.1111111111111111, \"#46039f\"], [0.2222222222222222, \"#7201a8\"], [0.3333333333333333, \"#9c179e\"], [0.4444444444444444, \"#bd3786\"], [0.5555555555555556, \"#d8576b\"], [0.6666666666666666, \"#ed7953\"], [0.7777777777777778, \"#fb9f3a\"], [0.8888888888888888, \"#fdca26\"], [1.0, \"#f0f921\"]]}, \"colorway\": [\"#636efa\", \"#EF553B\", \"#00cc96\", \"#ab63fa\", \"#FFA15A\", \"#19d3f3\", \"#FF6692\", \"#B6E880\", \"#FF97FF\", \"#FECB52\"], \"font\": {\"color\": \"#2a3f5f\"}, \"geo\": {\"bgcolor\": \"white\", \"lakecolor\": \"white\", \"landcolor\": \"#E5ECF6\", \"showlakes\": true, \"showland\": true, \"subunitcolor\": \"white\"}, \"hoverlabel\": {\"align\": \"left\"}, \"hovermode\": \"closest\", \"mapbox\": {\"style\": \"light\"}, \"paper_bgcolor\": \"white\", \"plot_bgcolor\": \"#E5ECF6\", \"polar\": {\"angularaxis\": {\"gridcolor\": \"white\", \"linecolor\": \"white\", \"ticks\": \"\"}, \"bgcolor\": \"#E5ECF6\", \"radialaxis\": {\"gridcolor\": \"white\", \"linecolor\": \"white\", \"ticks\": \"\"}}, \"scene\": {\"xaxis\": {\"backgroundcolor\": \"#E5ECF6\", \"gridcolor\": \"white\", \"gridwidth\": 2, \"linecolor\": \"white\", \"showbackground\": true, \"ticks\": \"\", \"zerolinecolor\": \"white\"}, \"yaxis\": {\"backgroundcolor\": \"#E5ECF6\", \"gridcolor\": \"white\", \"gridwidth\": 2, \"linecolor\": \"white\", \"showbackground\": true, \"ticks\": \"\", \"zerolinecolor\": \"white\"}, \"zaxis\": {\"backgroundcolor\": \"#E5ECF6\", \"gridcolor\": \"white\", \"gridwidth\": 2, \"linecolor\": \"white\", \"showbackground\": true, \"ticks\": \"\", \"zerolinecolor\": \"white\"}}, \"shapedefaults\": {\"line\": {\"color\": \"#2a3f5f\"}}, \"ternary\": {\"aaxis\": {\"gridcolor\": \"white\", \"linecolor\": \"white\", \"ticks\": \"\"}, \"baxis\": {\"gridcolor\": \"white\", \"linecolor\": \"white\", \"ticks\": \"\"}, \"bgcolor\": \"#E5ECF6\", \"caxis\": {\"gridcolor\": \"white\", \"linecolor\": \"white\", \"ticks\": \"\"}}, \"title\": {\"x\": 0.05}, \"xaxis\": {\"automargin\": true, \"gridcolor\": \"white\", \"linecolor\": \"white\", \"ticks\": \"\", \"title\": {\"standoff\": 15}, \"zerolinecolor\": \"white\", \"zerolinewidth\": 2}, \"yaxis\": {\"automargin\": true, \"gridcolor\": \"white\", \"linecolor\": \"white\", \"ticks\": \"\", \"title\": {\"standoff\": 15}, \"zerolinecolor\": \"white\", \"zerolinewidth\": 2}}}, \"xaxis\": {\"anchor\": \"y\", \"domain\": [0.0, 1.0], \"title\": {\"text\": \"id\"}}, \"yaxis\": {\"anchor\": \"x\", \"domain\": [0.0, 1.0], \"title\": {\"text\": \"pubs_tot\"}}},                        {\"responsive\": true}                    ).then(function(){\n",
       "                            \n",
       "var gd = document.getElementById('0a0cb3ae-a3a8-4941-90c0-380527de2168');\n",
       "var x = new MutationObserver(function (mutations, observer) {{\n",
       "        var display = window.getComputedStyle(gd).display;\n",
       "        if (!display || display === 'none') {{\n",
       "            console.log([gd, 'removed!']);\n",
       "            Plotly.purge(gd);\n",
       "            observer.disconnect();\n",
       "        }}\n",
       "}});\n",
       "\n",
       "// Listen for the removal of the full notebook cells\n",
       "var notebookContainer = gd.closest('#notebook-container');\n",
       "if (notebookContainer) {{\n",
       "    x.observe(notebookContainer, {childList: true});\n",
       "}}\n",
       "\n",
       "// Listen for the clearing of the current output cell\n",
       "var outputEl = gd.closest('.output');\n",
       "if (outputEl) {{\n",
       "    x.observe(outputEl, {childList: true});\n",
       "}}\n",
       "\n",
       "                        })                };                });            </script>        </div>"
      ]
     },
     "metadata": {},
     "output_type": "display_data"
    }
   ],
   "source": [
    "px.bar(df[:200], x=\"id\", y=\"pubs_tot\", \n",
    "      hover_name=\"title\", hover_data=[\"active_years\"])"
   ]
  }
 ],
 "metadata": {
  "colab": {
   "collapsed_sections": [],
   "name": "Clinical Trials by Volume of Pubs.ipynb",
   "provenance": []
  },
  "kernelspec": {
   "display_name": "Python 3",
   "language": "python",
   "name": "python3"
  },
  "language_info": {
   "codemirror_mode": {
    "name": "ipython",
    "version": 3
   },
   "file_extension": ".py",
   "mimetype": "text/x-python",
   "name": "python",
   "nbconvert_exporter": "python",
   "pygments_lexer": "ipython3",
   "version": "3.8.5"
  }
 },
 "nbformat": 4,
 "nbformat_minor": 4
}
