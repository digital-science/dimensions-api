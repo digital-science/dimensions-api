{
  "cells": [
    {
      "cell_type": "markdown",
      "source": [
        "# Build an new indicator  (Publications per Grants)"
      ],
      "metadata": {}
    },
    {
      "cell_type": "code",
      "source": [
        "from dimcli.shortcuts import dslquery_json as dslquery\n",
        "import pandas as pd"
      ],
      "outputs": [],
      "execution_count": null,
      "metadata": {}
    },
    {
      "cell_type": "markdown",
      "source": [
        "## Build a publications per Grants Indicator (PGI)"
      ],
      "metadata": {}
    },
    {
      "cell_type": "code",
      "source": [
        "institute = \"grid.1002.3\""
      ],
      "outputs": [],
      "execution_count": null,
      "metadata": {}
    },
    {
      "cell_type": "markdown",
      "source": [
        "## Return FOR counts for publications and grants"
      ],
      "metadata": {}
    },
    {
      "cell_type": "code",
      "source": [
        "publications_by_for = dslquery(\"\"\"\n",
        "    search publications\n",
        "        where research_orgs.id = \"{}\"\n",
        "    return FOR\n",
        "    limit 200\n",
        "\"\"\".format(institute))\n",
        "\n",
        "grants_by_for = dslquery(\"\"\"\n",
        "    search grants\n",
        "        where research_orgs.id = \"{}\"\n",
        "    return FOR\n",
        "    limit 200\n",
        "\"\"\".format(institute))\n",
        "\n",
        "pdf = pd.DataFrame(publications_by_for['FOR'])\n",
        "\n",
        "pdf.columns = ['number_of_publications','FORid','FOR label']\n",
        "gdf = pd.DataFrame(grants_by_for['FOR'])"
      ],
      "outputs": [],
      "execution_count": null,
      "metadata": {}
    },
    {
      "cell_type": "markdown",
      "source": [
        "## Publications table:"
      ],
      "metadata": {}
    },
    {
      "cell_type": "code",
      "source": [
        "pdf.head()"
      ],
      "outputs": [],
      "execution_count": null,
      "metadata": {}
    },
    {
      "cell_type": "markdown",
      "source": [
        "## Grants table:"
      ],
      "metadata": {}
    },
    {
      "cell_type": "code",
      "source": [
        "gdf.head()\n"
      ],
      "outputs": [],
      "execution_count": null,
      "metadata": {}
    },
    {
      "cell_type": "markdown",
      "source": [
        "## Put the tables together"
      ],
      "metadata": {}
    },
    {
      "cell_type": "code",
      "source": [
        "pdf.columns = ['number_of_publications','FORid','FOR label']\n",
        "gdf.columns = ['number_of_grants','FORid','FOR label']"
      ],
      "outputs": [],
      "execution_count": null,
      "metadata": {}
    },
    {
      "cell_type": "code",
      "source": [
        "pgdf = pdf.set_index('FORid').join(gdf[['number_of_grants','FORid']].set_index('FORid'))"
      ],
      "outputs": [],
      "execution_count": null,
      "metadata": {}
    },
    {
      "cell_type": "markdown",
      "source": [
        "## Add a new column: the publications per grants indicator"
      ],
      "metadata": {}
    },
    {
      "cell_type": "code",
      "source": [
        "pgdf['PGI'] = pgdf['number_of_publications']/pgdf['number_of_grants']"
      ],
      "outputs": [],
      "execution_count": null,
      "metadata": {}
    },
    {
      "cell_type": "code",
      "source": [
        "pgdf.head()"
      ],
      "outputs": [],
      "execution_count": null,
      "metadata": {}
    },
    {
      "cell_type": "markdown",
      "source": [
        "## How can we make this better? \n",
        "## Benchmarking?\n",
        "## Restricting to number of years?\n"
      ],
      "metadata": {}
    },
    {
      "cell_type": "markdown",
      "source": [
        "---\n",
        "# Want to learn more?\n",
        "\n",
        "Check out the [Dimensions API Lab](https://digital-science.github.io/dimensions-api-lab/) website, which contains many tutorials and reusable Jupyter notebooks for scholarly data analytics. "
      ],
      "metadata": {}
    }
  ],
  "metadata": {
    "kernelspec": {
      "name": "python3",
      "language": "python",
      "display_name": "Python 3"
    },
    "language_info": {
      "name": "python",
      "version": "3.7.4",
      "mimetype": "text/x-python",
      "codemirror_mode": {
        "name": "ipython",
        "version": 3
      },
      "pygments_lexer": "ipython3",
      "nbconvert_exporter": "python",
      "file_extension": ".py"
    },
    "kernel_info": {
      "name": "python3"
    },
    "nteract": {
      "version": "0.14.5"
    }
  },
  "nbformat": 4,
  "nbformat_minor": 2
}