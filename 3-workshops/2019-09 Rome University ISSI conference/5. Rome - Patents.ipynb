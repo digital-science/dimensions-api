{
 "cells": [
  {
   "cell_type": "markdown",
   "metadata": {
    "slideshow": {
     "slide_type": "slide"
    }
   },
   "source": [
    "# 5. Patents Analysys\n",
    "\n",
    "This Notebook shows how it's possible to analyse patents data related to Rome University programmatically, using the Dimensions API with Jupyter Notebooks. \n"
   ]
  },
  {
   "cell_type": "code",
   "execution_count": 86,
   "metadata": {},
   "outputs": [
    {
     "data": {
      "text/html": [
       "        <script type=\"text/javascript\">\n",
       "        window.PlotlyConfig = {MathJaxConfig: 'local'};\n",
       "        if (window.MathJax) {MathJax.Hub.Config({SVG: {font: \"STIX-Web\"}});}\n",
       "        if (typeof require !== 'undefined') {\n",
       "        require.undef(\"plotly\");\n",
       "        requirejs.config({\n",
       "            paths: {\n",
       "                'plotly': ['https://cdn.plot.ly/plotly-latest.min']\n",
       "            }\n",
       "        });\n",
       "        require(['plotly'], function(Plotly) {\n",
       "            window._Plotly = Plotly;\n",
       "        });\n",
       "        }\n",
       "        </script>\n",
       "        "
      ]
     },
     "metadata": {},
     "output_type": "display_data"
    }
   ],
   "source": [
    "import dimcli\n",
    "from dimcli.shortcuts import dslquery, dslqueryall, chunks_of\n",
    "import time\n",
    "import pandas as pd\n",
    "from pandas.io.json import json_normalize\n",
    "import plotly_express as px\n",
    "from plotly.offline import init_notebook_mode # needed for exports \n",
    "init_notebook_mode(connected=True)"
   ]
  },
  {
   "cell_type": "markdown",
   "metadata": {},
   "source": [
    "Dimensions data source are mined for organizations identifiers using GRID, the [Global Research Identifier Database](https://grid.ac/). So we can use GRID IDs to perform searches across all source in Dimensions. \n",
    "\n",
    "The GRID ID for Rome La Sapienza is [grid.7841.a](https://grid.ac/institutes/grid.7841.a). \n"
   ]
  },
  {
   "cell_type": "code",
   "execution_count": 87,
   "metadata": {},
   "outputs": [],
   "source": [
    "GRIDID = \"grid.7841.a\""
   ]
  },
  {
   "cell_type": "markdown",
   "metadata": {},
   "source": [
    "## Patents assigned, by year "
   ]
  },
  {
   "cell_type": "code",
   "execution_count": 4,
   "metadata": {},
   "outputs": [
    {
     "name": "stdout",
     "output_type": "stream",
     "text": [
      "Returned Patents: 20 (total = 558)\n"
     ]
    },
    {
     "data": {
      "text/plain": [
       "{'total_count': 558}"
      ]
     },
     "execution_count": 4,
     "metadata": {},
     "output_type": "execute_result"
    }
   ],
   "source": [
    "dslquery(f\"\"\"search patents where assignees.id=\"{GRIDID}\" return patents\"\"\").stats "
   ]
  },
  {
   "cell_type": "code",
   "execution_count": 88,
   "metadata": {},
   "outputs": [
    {
     "name": "stdout",
     "output_type": "stream",
     "text": [
      "Login token expired. Logging in again.\n",
      "Returned Patents: 558 (total = 558)\n"
     ]
    }
   ],
   "source": [
    "data = dslquery(f\"\"\"search patents where assignees.id=\"{GRIDID}\" return patents limit 1000\"\"\")\n",
    "df = data.as_dataframe() "
   ]
  },
  {
   "cell_type": "code",
   "execution_count": 89,
   "metadata": {},
   "outputs": [
    {
     "data": {
      "text/html": [
       "<div>\n",
       "<style scoped>\n",
       "    .dataframe tbody tr th:only-of-type {\n",
       "        vertical-align: middle;\n",
       "    }\n",
       "\n",
       "    .dataframe tbody tr th {\n",
       "        vertical-align: top;\n",
       "    }\n",
       "\n",
       "    .dataframe thead th {\n",
       "        text-align: right;\n",
       "    }\n",
       "</style>\n",
       "<table border=\"1\" class=\"dataframe\">\n",
       "  <thead>\n",
       "    <tr style=\"text-align: right;\">\n",
       "      <th></th>\n",
       "      <th>assignee_names</th>\n",
       "      <th>assignees</th>\n",
       "      <th>filing_status</th>\n",
       "      <th>granted_year</th>\n",
       "      <th>id</th>\n",
       "      <th>inventor_names</th>\n",
       "      <th>publication_date</th>\n",
       "      <th>times_cited</th>\n",
       "      <th>title</th>\n",
       "      <th>year</th>\n",
       "    </tr>\n",
       "  </thead>\n",
       "  <tbody>\n",
       "    <tr>\n",
       "      <th>0</th>\n",
       "      <td>[PROVINCIA ITALIANA DELLA CONGREGAZIONE DEI FI...</td>\n",
       "      <td>[{'id': 'grid.7841.a', 'name': 'Sapienza Unive...</td>\n",
       "      <td>Application</td>\n",
       "      <td>NaN</td>\n",
       "      <td>CA-2659681-A1</td>\n",
       "      <td>[D'ATRI, STEFANIA, FAILLA, CRISTINA MARIA, LAC...</td>\n",
       "      <td>2008-02-07</td>\n",
       "      <td>NaN</td>\n",
       "      <td>PEPTIDE DERIVED FROM VASCULAR ENDOTHELIAL GROW...</td>\n",
       "      <td>2007</td>\n",
       "    </tr>\n",
       "    <tr>\n",
       "      <th>1</th>\n",
       "      <td>[Universita degli Studi di Roma La Sapienza, U...</td>\n",
       "      <td>[{'id': 'grid.7841.a', 'name': 'Sapienza Unive...</td>\n",
       "      <td>Grant</td>\n",
       "      <td>2012.0</td>\n",
       "      <td>EP-2212421-B1</td>\n",
       "      <td>[BOZZONI, IRENE, FATICA, ALESSANDRO, ROSA, ALE...</td>\n",
       "      <td>2012-08-08</td>\n",
       "      <td>NaN</td>\n",
       "      <td>MIRNA, SIRNA AND USE THEREOF IN THERAPY</td>\n",
       "      <td>2008</td>\n",
       "    </tr>\n",
       "    <tr>\n",
       "      <th>2</th>\n",
       "      <td>[Universita degli Studi di Roma La Sapienza, U...</td>\n",
       "      <td>[{'id': 'grid.7841.a', 'name': 'Sapienza Unive...</td>\n",
       "      <td>Grant</td>\n",
       "      <td>2006.0</td>\n",
       "      <td>DE-60028007-D1</td>\n",
       "      <td>[MACINO G, COGONI C]</td>\n",
       "      <td>2006-06-22</td>\n",
       "      <td>NaN</td>\n",
       "      <td>The isolation and characterization of a switch...</td>\n",
       "      <td>2000</td>\n",
       "    </tr>\n",
       "    <tr>\n",
       "      <th>3</th>\n",
       "      <td>[Universita degli Studi di Roma La Sapienza, U...</td>\n",
       "      <td>[{'id': 'grid.7841.a', 'name': 'Sapienza Unive...</td>\n",
       "      <td>Grant</td>\n",
       "      <td>2006.0</td>\n",
       "      <td>DE-60215843-D1</td>\n",
       "      <td>[DE VINCENTIIS MARCO, GALLO ANDREA, MANCIOCCO ...</td>\n",
       "      <td>2006-12-14</td>\n",
       "      <td>NaN</td>\n",
       "      <td>Artificial larynx</td>\n",
       "      <td>2002</td>\n",
       "    </tr>\n",
       "    <tr>\n",
       "      <th>4</th>\n",
       "      <td>[Universita degli Studi di Roma La Sapienza, U...</td>\n",
       "      <td>[{'id': 'grid.7841.a', 'name': 'Sapienza Unive...</td>\n",
       "      <td>Grant</td>\n",
       "      <td>2004.0</td>\n",
       "      <td>AU-777037-B2</td>\n",
       "      <td>[COGONI, CARLO, MACINO, GIUSEPPE]</td>\n",
       "      <td>2004-09-30</td>\n",
       "      <td>NaN</td>\n",
       "      <td>Isolation and characterization of a N. crassa ...</td>\n",
       "      <td>1999</td>\n",
       "    </tr>\n",
       "    <tr>\n",
       "      <th>5</th>\n",
       "      <td>[UNIV DEGLI STUDI DI ROMA LA SAPIENZA]</td>\n",
       "      <td>[{'id': 'grid.7841.a', 'name': 'Sapienza Unive...</td>\n",
       "      <td>Application</td>\n",
       "      <td>NaN</td>\n",
       "      <td>WO-2019111142-A1</td>\n",
       "      <td>[VIOLI, FRANCESCO, CARNEVALE, ROBERTO, NOCELLA...</td>\n",
       "      <td>2019-06-13</td>\n",
       "      <td>NaN</td>\n",
       "      <td>OLEUROPEIN FOR USE IN REDUCING POST-PRANDIAL G...</td>\n",
       "      <td>2018</td>\n",
       "    </tr>\n",
       "    <tr>\n",
       "      <th>6</th>\n",
       "      <td>[UNIV NORTH CAROLINA CHAPEL HILL, SAPIENZA UNI...</td>\n",
       "      <td>[{'id': 'grid.7841.a', 'name': 'Sapienza Unive...</td>\n",
       "      <td>Application</td>\n",
       "      <td>NaN</td>\n",
       "      <td>WO-2018187439-A1</td>\n",
       "      <td>[REID, LOLA M., DOMENICO, Alvaro, CARDINALE, V...</td>\n",
       "      <td>2018-10-11</td>\n",
       "      <td>NaN</td>\n",
       "      <td>CRYOPRESERVATION METHOD</td>\n",
       "      <td>2018</td>\n",
       "    </tr>\n",
       "    <tr>\n",
       "      <th>7</th>\n",
       "      <td>[Universita degli Studi di Siena, Universita d...</td>\n",
       "      <td>[{'id': 'grid.7841.a', 'name': 'Sapienza Unive...</td>\n",
       "      <td>Application</td>\n",
       "      <td>NaN</td>\n",
       "      <td>EP-2195289-A2</td>\n",
       "      <td>[BIAVA, MARIANGELA, BOTTA, MAURIZIO, DE LOGU, ...</td>\n",
       "      <td>2010-06-16</td>\n",
       "      <td>NaN</td>\n",
       "      <td>PYRROLE COMPOUNDS AS INHIBITORS OF MYCOBACTERI...</td>\n",
       "      <td>2008</td>\n",
       "    </tr>\n",
       "    <tr>\n",
       "      <th>8</th>\n",
       "      <td>[Universita degli Studi di Roma La Sapienza, M...</td>\n",
       "      <td>[{'id': 'grid.7841.a', 'name': 'Sapienza Unive...</td>\n",
       "      <td>Grant</td>\n",
       "      <td>2017.0</td>\n",
       "      <td>US-9750770-B2</td>\n",
       "      <td>[Lola M. Reid, Yunfang Wang, David A. GERBER, ...</td>\n",
       "      <td>2017-09-05</td>\n",
       "      <td>NaN</td>\n",
       "      <td>Method of treating pancreatic and liver condit...</td>\n",
       "      <td>2015</td>\n",
       "    </tr>\n",
       "    <tr>\n",
       "      <th>9</th>\n",
       "      <td>[Universita degli Studi di Roma Tor Vergata, U...</td>\n",
       "      <td>[{'id': 'grid.6530.0', 'name': 'University of ...</td>\n",
       "      <td>Application</td>\n",
       "      <td>NaN</td>\n",
       "      <td>EP-2013217-A1</td>\n",
       "      <td>[MACCARRONE, MAURO, ODDI, SERGIO, FEZZA, FILOM...</td>\n",
       "      <td>2009-01-14</td>\n",
       "      <td>NaN</td>\n",
       "      <td>DESIGN AND SYNTHESIS OF BIOTINYLATED PROBES FO...</td>\n",
       "      <td>2006</td>\n",
       "    </tr>\n",
       "    <tr>\n",
       "      <th>10</th>\n",
       "      <td>[Universita'Degli Studi di Roma “La Sapienza”,...</td>\n",
       "      <td>[{'id': 'grid.7841.a', 'name': 'Sapienza Unive...</td>\n",
       "      <td>Grant</td>\n",
       "      <td>2008.0</td>\n",
       "      <td>US-7459298-B2</td>\n",
       "      <td>[Irene Bozzoni, Elisa Caffarelli, Pietro Laneve]</td>\n",
       "      <td>2008-12-02</td>\n",
       "      <td>NaN</td>\n",
       "      <td>Purification, cloning and biochemical characte...</td>\n",
       "      <td>2005</td>\n",
       "    </tr>\n",
       "    <tr>\n",
       "      <th>11</th>\n",
       "      <td>[Universita Degli Studi di Padova, Universita ...</td>\n",
       "      <td>[{'id': 'grid.5608.b', 'acronym': 'UNIPD', 'na...</td>\n",
       "      <td>Application</td>\n",
       "      <td>NaN</td>\n",
       "      <td>US-20090036382-A1</td>\n",
       "      <td>[Giorgio Bressan, Paolo Bonaldo, Stefano Picco...</td>\n",
       "      <td>2009-02-05</td>\n",
       "      <td>4.0</td>\n",
       "      <td>TGF-Beta Modulators and Use Thereof</td>\n",
       "      <td>2007</td>\n",
       "    </tr>\n",
       "    <tr>\n",
       "      <th>12</th>\n",
       "      <td>[Universita degli Studi di Roma La Sapienza, U...</td>\n",
       "      <td>[{'id': 'grid.7841.a', 'name': 'Sapienza Unive...</td>\n",
       "      <td>Application</td>\n",
       "      <td>NaN</td>\n",
       "      <td>EP-2323751-A2</td>\n",
       "      <td>[GIAVARINI, CARLO, MACCIONI, FILIPPO]</td>\n",
       "      <td>2011-05-25</td>\n",
       "      <td>NaN</td>\n",
       "      <td>PROCESS FOR THE PURIFICATION-SWEETENING OF NAT...</td>\n",
       "      <td>2009</td>\n",
       "    </tr>\n",
       "    <tr>\n",
       "      <th>13</th>\n",
       "      <td>[IST FISIOTERAP OSPITALROMA, Istituti Fisioter...</td>\n",
       "      <td>[{'id': 'grid.417520.5', 'acronym': 'IFO', 'na...</td>\n",
       "      <td>Application</td>\n",
       "      <td>NaN</td>\n",
       "      <td>EP-2529195-A1</td>\n",
       "      <td>[SODDU, SILVIA, CUNDARI, ENRICO, CHESSA, LUCIA...</td>\n",
       "      <td>2012-12-05</td>\n",
       "      <td>NaN</td>\n",
       "      <td>METHOD FOR IN VITRO DETECTION OF ATAXIA TELANG...</td>\n",
       "      <td>2011</td>\n",
       "    </tr>\n",
       "    <tr>\n",
       "      <th>14</th>\n",
       "      <td>[Fondazione Istituto Europeo Di Oncologia E Ce...</td>\n",
       "      <td>[{'id': 'grid.7841.a', 'name': 'Sapienza Unive...</td>\n",
       "      <td>Application</td>\n",
       "      <td>NaN</td>\n",
       "      <td>CA-2797011-A1</td>\n",
       "      <td>[MINUCCI, SAVERIO, MAI, ANTONELLO, MATTEVI, AN...</td>\n",
       "      <td>2011-10-27</td>\n",
       "      <td>NaN</td>\n",
       "      <td>TRANYLCYPROMINE DERIVATIVES AS INHIBITORS OF H...</td>\n",
       "      <td>2011</td>\n",
       "    </tr>\n",
       "    <tr>\n",
       "      <th>15</th>\n",
       "      <td>[Veolia Water Solutions and Technologies Suppo...</td>\n",
       "      <td>[{'id': 'grid.7841.a', 'name': 'Sapienza Unive...</td>\n",
       "      <td>Application</td>\n",
       "      <td>NaN</td>\n",
       "      <td>EP-3186201-A1</td>\n",
       "      <td>[WERKER, ALAN GIDEON, BENGTSSON, SIMON OLOF HA...</td>\n",
       "      <td>2017-07-05</td>\n",
       "      <td>NaN</td>\n",
       "      <td>PROCESS FOR ENHANCING POLYHYDROXYALKANOATE ACC...</td>\n",
       "      <td>2015</td>\n",
       "    </tr>\n",
       "    <tr>\n",
       "      <th>16</th>\n",
       "      <td>[UNIVERSITA' DEGLI STUDI DI ROMA 'LA SAPIENZA']</td>\n",
       "      <td>[{'id': 'grid.7841.a', 'name': 'Sapienza Unive...</td>\n",
       "      <td>Application</td>\n",
       "      <td>NaN</td>\n",
       "      <td>WO-2016181271-A1</td>\n",
       "      <td>[AL MANSOUR, Monir]</td>\n",
       "      <td>2016-11-17</td>\n",
       "      <td>NaN</td>\n",
       "      <td>MECHANICAL GUN-TYPE CIRCUMCISION DEVICE WITH G...</td>\n",
       "      <td>2016</td>\n",
       "    </tr>\n",
       "    <tr>\n",
       "      <th>17</th>\n",
       "      <td>[Universita degli Studi di Roma La Sapienza, U...</td>\n",
       "      <td>[{'id': 'grid.7841.a', 'name': 'Sapienza Unive...</td>\n",
       "      <td>Application</td>\n",
       "      <td>NaN</td>\n",
       "      <td>EP-2438172-A1</td>\n",
       "      <td>[CERVONE, FELICE, DE LORENZO, GIULIA, BRUTUS, ...</td>\n",
       "      <td>2012-04-11</td>\n",
       "      <td>NaN</td>\n",
       "      <td>CONSTRUCTS EXPRESSING CHIMERIC RECEPTORS AND U...</td>\n",
       "      <td>2010</td>\n",
       "    </tr>\n",
       "    <tr>\n",
       "      <th>18</th>\n",
       "      <td>[Universita degli Studi di Roma La Sapienza, U...</td>\n",
       "      <td>[{'id': 'grid.7841.a', 'name': 'Sapienza Unive...</td>\n",
       "      <td>Application</td>\n",
       "      <td>NaN</td>\n",
       "      <td>EP-2106546-A1</td>\n",
       "      <td>[CAPUTO DOMENICO, DE CESARE GIAMPIERO, MANETTI...</td>\n",
       "      <td>2009-10-07</td>\n",
       "      <td>NaN</td>\n",
       "      <td>CHEMICAL AND/OR BIOMOLECULAR ANALYSIS INTEGRAT...</td>\n",
       "      <td>2008</td>\n",
       "    </tr>\n",
       "    <tr>\n",
       "      <th>19</th>\n",
       "      <td>[Universita degli Studi di Roma La Sapienza, U...</td>\n",
       "      <td>[{'id': 'grid.7841.a', 'name': 'Sapienza Unive...</td>\n",
       "      <td>Application</td>\n",
       "      <td>NaN</td>\n",
       "      <td>CA-2534378-A1</td>\n",
       "      <td>[GIACOMELLO, ALESSANDRO, MESSINA, ELISA, BATTA...</td>\n",
       "      <td>2005-02-10</td>\n",
       "      <td>NaN</td>\n",
       "      <td>METHOD FOR THE ISOLATION AND EXPANSION OF CARD...</td>\n",
       "      <td>2004</td>\n",
       "    </tr>\n",
       "    <tr>\n",
       "      <th>20</th>\n",
       "      <td>[Degli Studi Di Roma La Sapienza, University o...</td>\n",
       "      <td>[{'id': 'grid.7841.a', 'name': 'Sapienza Unive...</td>\n",
       "      <td>Application</td>\n",
       "      <td>NaN</td>\n",
       "      <td>EP-3310863-A1</td>\n",
       "      <td>[SARTO, MARIA SABRINA, TAMBURRANO, ALESSIO, PR...</td>\n",
       "      <td>2018-04-25</td>\n",
       "      <td>NaN</td>\n",
       "      <td>WATER-BASED PIEZORESISTIVE CONDUCTIVE POLYMERI...</td>\n",
       "      <td>2016</td>\n",
       "    </tr>\n",
       "    <tr>\n",
       "      <th>21</th>\n",
       "      <td>[Universita degli Studi di Roma La Sapienza, U...</td>\n",
       "      <td>[{'id': 'grid.7841.a', 'name': 'Sapienza Unive...</td>\n",
       "      <td>Grant</td>\n",
       "      <td>2005.0</td>\n",
       "      <td>DE-69923077-T2</td>\n",
       "      <td>[CHIANESE, ANGELO]</td>\n",
       "      <td>2005-12-08</td>\n",
       "      <td>NaN</td>\n",
       "      <td>A process for the purification of solid chemic...</td>\n",
       "      <td>1999</td>\n",
       "    </tr>\n",
       "    <tr>\n",
       "      <th>22</th>\n",
       "      <td>[Universita degli Studi di Roma La Sapienza, U...</td>\n",
       "      <td>[{'id': 'grid.10698.36', 'acronym': 'UNC', 'na...</td>\n",
       "      <td>Application</td>\n",
       "      <td>NaN</td>\n",
       "      <td>US-20180295834-A1</td>\n",
       "      <td>[Lola M. Reid, Alvaro Domenico, Vincenzo Cardi...</td>\n",
       "      <td>2018-10-18</td>\n",
       "      <td>NaN</td>\n",
       "      <td>CRYOPRESERVATION METHOD</td>\n",
       "      <td>2018</td>\n",
       "    </tr>\n",
       "    <tr>\n",
       "      <th>23</th>\n",
       "      <td>[Universita degli Studi di Roma Tor Vergata, U...</td>\n",
       "      <td>[{'id': 'grid.7841.a', 'name': 'Sapienza Unive...</td>\n",
       "      <td>Application</td>\n",
       "      <td>NaN</td>\n",
       "      <td>EP-1807713-A2</td>\n",
       "      <td>[BARTOLINI, SIMONE, GALATI, GASPARE]</td>\n",
       "      <td>2007-07-18</td>\n",
       "      <td>1.0</td>\n",
       "      <td>HIGH-CAPACITY LOCATION AND IDENTIFICATION SYST...</td>\n",
       "      <td>2005</td>\n",
       "    </tr>\n",
       "    <tr>\n",
       "      <th>24</th>\n",
       "      <td>[Istituto Superiore di Sanita, Universita degl...</td>\n",
       "      <td>[{'id': 'grid.416651.1', 'acronym': 'ISS', 'na...</td>\n",
       "      <td>Application</td>\n",
       "      <td>NaN</td>\n",
       "      <td>AU-5777696-A</td>\n",
       "      <td>[BROMURO, CARLA, CASSONE, ANTONIO, CRISANTI, A...</td>\n",
       "      <td>1996-11-29</td>\n",
       "      <td>NaN</td>\n",
       "      <td>Candida heat shock protein, cdna and uses thereof</td>\n",
       "      <td>1996</td>\n",
       "    </tr>\n",
       "    <tr>\n",
       "      <th>25</th>\n",
       "      <td>[Universita degli Studi di Roma La Sapienza, U...</td>\n",
       "      <td>[{'id': 'grid.7841.a', 'name': 'Sapienza Unive...</td>\n",
       "      <td>Grant</td>\n",
       "      <td>1998.0</td>\n",
       "      <td>EP-0682375-B1</td>\n",
       "      <td>[DE CESARE, GIAMPIERO, IRRERA, FERNANDA, PALMA...</td>\n",
       "      <td>1998-07-22</td>\n",
       "      <td>NaN</td>\n",
       "      <td>Voltage-controlled variable spectrum photodete...</td>\n",
       "      <td>1995</td>\n",
       "    </tr>\n",
       "    <tr>\n",
       "      <th>26</th>\n",
       "      <td>[UNIV NORTH CAROLINA CHAPEL HILL, SAPIENZA UNI...</td>\n",
       "      <td>[{'id': 'grid.7841.a', 'name': 'Sapienza Unive...</td>\n",
       "      <td>Application</td>\n",
       "      <td>NaN</td>\n",
       "      <td>NZ-709124-A</td>\n",
       "      <td>[CUI CAI-BIN, ALVARO DOMENICO, CARDINALE VINCE...</td>\n",
       "      <td>2017-06-30</td>\n",
       "      <td>NaN</td>\n",
       "      <td>Multipotent stem cells from the extrahepatic b...</td>\n",
       "      <td>2010</td>\n",
       "    </tr>\n",
       "    <tr>\n",
       "      <th>27</th>\n",
       "      <td>[KAY SYSTEMS ITALIA Srl, Universita degli Stud...</td>\n",
       "      <td>[{'id': 'grid.7841.a', 'name': 'Sapienza Unive...</td>\n",
       "      <td>Grant</td>\n",
       "      <td>2016.0</td>\n",
       "      <td>US-9362013-B2</td>\n",
       "      <td>[Roberto Pani]</td>\n",
       "      <td>2016-06-07</td>\n",
       "      <td>NaN</td>\n",
       "      <td>Tilting collimator, in particular for single-p...</td>\n",
       "      <td>2013</td>\n",
       "    </tr>\n",
       "    <tr>\n",
       "      <th>28</th>\n",
       "      <td>[Universita degli Studi di Roma La Sapienza, U...</td>\n",
       "      <td>[{'id': 'grid.7841.a', 'name': 'Sapienza Unive...</td>\n",
       "      <td>Grant</td>\n",
       "      <td>2016.0</td>\n",
       "      <td>CA-2793046-C</td>\n",
       "      <td>[GIACOMELLO, ALESSANDRO, MESSINA, ELISA, BATTA...</td>\n",
       "      <td>2016-02-16</td>\n",
       "      <td>NaN</td>\n",
       "      <td>METHOD FOR THE ISOLATION AND EXPANSION OF CARD...</td>\n",
       "      <td>2004</td>\n",
       "    </tr>\n",
       "    <tr>\n",
       "      <th>29</th>\n",
       "      <td>[Universita degli Studi di Roma La Sapienza, U...</td>\n",
       "      <td>[{'id': 'grid.7841.a', 'name': 'Sapienza Unive...</td>\n",
       "      <td>Application</td>\n",
       "      <td>NaN</td>\n",
       "      <td>US-20160060718-A1</td>\n",
       "      <td>[Giovanni Ristori, Rosella MECHELLI, Marco Sal...</td>\n",
       "      <td>2016-03-03</td>\n",
       "      <td>NaN</td>\n",
       "      <td>EPSTEIN BARR VIRUS GENOTIPIC VARIANTS AND USES...</td>\n",
       "      <td>2014</td>\n",
       "    </tr>\n",
       "    <tr>\n",
       "      <th>...</th>\n",
       "      <td>...</td>\n",
       "      <td>...</td>\n",
       "      <td>...</td>\n",
       "      <td>...</td>\n",
       "      <td>...</td>\n",
       "      <td>...</td>\n",
       "      <td>...</td>\n",
       "      <td>...</td>\n",
       "      <td>...</td>\n",
       "      <td>...</td>\n",
       "    </tr>\n",
       "    <tr>\n",
       "      <th>528</th>\n",
       "      <td>[Universita degli Studi di Roma La Sapienza, U...</td>\n",
       "      <td>[{'id': 'grid.7841.a', 'name': 'Sapienza Unive...</td>\n",
       "      <td>Grant</td>\n",
       "      <td>2001.0</td>\n",
       "      <td>EP-0784094-B1</td>\n",
       "      <td>[Bozzoni, I., Univ. Degli Studi di Roma La Sap...</td>\n",
       "      <td>2001-06-13</td>\n",
       "      <td>1.0</td>\n",
       "      <td>Ribozyme -snRNA chimeric molecules having a ca...</td>\n",
       "      <td>1996</td>\n",
       "    </tr>\n",
       "    <tr>\n",
       "      <th>529</th>\n",
       "      <td>[Universita degli Studi di Roma La Sapienza, U...</td>\n",
       "      <td>[{'id': 'grid.7841.a', 'name': 'Sapienza Unive...</td>\n",
       "      <td>Application</td>\n",
       "      <td>NaN</td>\n",
       "      <td>EP-0714543-A1</td>\n",
       "      <td>[MALTESE, Paolo Univ. degli Studi di Roma]</td>\n",
       "      <td>1996-06-05</td>\n",
       "      <td>NaN</td>\n",
       "      <td>A CONTROL METHOD FOR A FERROELECTRIC LIQUID CR...</td>\n",
       "      <td>1994</td>\n",
       "    </tr>\n",
       "    <tr>\n",
       "      <th>530</th>\n",
       "      <td>[Universita degli Studi di Roma La Sapienza, U...</td>\n",
       "      <td>[{'id': 'grid.7841.a', 'name': 'Sapienza Unive...</td>\n",
       "      <td>Application</td>\n",
       "      <td>NaN</td>\n",
       "      <td>EP-1135502-A1</td>\n",
       "      <td>[COGONI, CARLO, MACINO, GIUSEPPE]</td>\n",
       "      <td>2001-09-26</td>\n",
       "      <td>NaN</td>\n",
       "      <td>ISOLATION AND CHARACTERIZATION OF A $i(N. CRAS...</td>\n",
       "      <td>1999</td>\n",
       "    </tr>\n",
       "    <tr>\n",
       "      <th>531</th>\n",
       "      <td>[Universita degli Studi di Roma La Sapienza, U...</td>\n",
       "      <td>[{'id': 'grid.7841.a', 'name': 'Sapienza Unive...</td>\n",
       "      <td>Application</td>\n",
       "      <td>NaN</td>\n",
       "      <td>US-20180245655-A1</td>\n",
       "      <td>[Walter LACARBONARA, Biagio CARBONI]</td>\n",
       "      <td>2018-08-30</td>\n",
       "      <td>NaN</td>\n",
       "      <td>MULTI-PERFORMANCE HYSTERETIC RHEOLOGICAL DEVICE</td>\n",
       "      <td>2016</td>\n",
       "    </tr>\n",
       "    <tr>\n",
       "      <th>532</th>\n",
       "      <td>[Universita degli Studi di Roma La Sapienza, U...</td>\n",
       "      <td>[{'id': 'grid.7841.a', 'name': 'Sapienza Unive...</td>\n",
       "      <td>Grant</td>\n",
       "      <td>2006.0</td>\n",
       "      <td>EP-1443876-B1</td>\n",
       "      <td>[DE VINCENTIIS, MARCO, GALLO, ANDREA, MANCIOCC...</td>\n",
       "      <td>2006-11-02</td>\n",
       "      <td>NaN</td>\n",
       "      <td>ARTIFICIAL LARYNX</td>\n",
       "      <td>2002</td>\n",
       "    </tr>\n",
       "    <tr>\n",
       "      <th>533</th>\n",
       "      <td>[Consiglio Nazionale Delle Richerche, Universi...</td>\n",
       "      <td>[{'id': 'grid.5326.2', 'acronym': 'CNR', 'name...</td>\n",
       "      <td>Application</td>\n",
       "      <td>NaN</td>\n",
       "      <td>EP-2987011-A1</td>\n",
       "      <td>[OSELLAME, ROBERTO, CRESPI, ANDREA, CORRIELLI,...</td>\n",
       "      <td>2016-02-24</td>\n",
       "      <td>NaN</td>\n",
       "      <td>METHOD FOR REALIZING AN OPTICAL WAVEGUIDE IN A...</td>\n",
       "      <td>2014</td>\n",
       "    </tr>\n",
       "    <tr>\n",
       "      <th>534</th>\n",
       "      <td>[UNIVERSITA' DEGLI STUDI DI ROMA LA SAPIENZA, ...</td>\n",
       "      <td>[{'id': 'grid.9027.c', 'name': 'University of ...</td>\n",
       "      <td>Application</td>\n",
       "      <td>NaN</td>\n",
       "      <td>WO-2017125388-A1</td>\n",
       "      <td>[BRACCIALE, Maria Paola, BROGGI, Alessandra, C...</td>\n",
       "      <td>2017-07-27</td>\n",
       "      <td>NaN</td>\n",
       "      <td>COATING COMPOSITION WITH ANTIMICROBIAL AND ANT...</td>\n",
       "      <td>2017</td>\n",
       "    </tr>\n",
       "    <tr>\n",
       "      <th>535</th>\n",
       "      <td>[Scherrer Paul Institut, Sapienza University O...</td>\n",
       "      <td>[{'id': 'grid.5991.4', 'acronym': 'PSI', 'name...</td>\n",
       "      <td>Application</td>\n",
       "      <td>NaN</td>\n",
       "      <td>EP-3512641-A1</td>\n",
       "      <td>[GIORGIANNI, Flavio, HAURI, Christoph Peter, L...</td>\n",
       "      <td>2019-07-24</td>\n",
       "      <td>NaN</td>\n",
       "      <td>TRANSDUCER FOR ELECTROMAGNETIC AND THERMO-ACOU...</td>\n",
       "      <td>2017</td>\n",
       "    </tr>\n",
       "    <tr>\n",
       "      <th>536</th>\n",
       "      <td>[Centre National de la Recherche Scientifique ...</td>\n",
       "      <td>[{'id': 'grid.4444.0', 'acronym': 'CNRS', 'nam...</td>\n",
       "      <td>Application</td>\n",
       "      <td>NaN</td>\n",
       "      <td>EP-0241435-A3</td>\n",
       "      <td>[CLAUDIO, FALCONE, HIROSHI, FUKUHARA, LAURA, F...</td>\n",
       "      <td>1988-09-14</td>\n",
       "      <td>NaN</td>\n",
       "      <td>VECTORS FOR THE CLONING AND EXPRESSION OF HETE...</td>\n",
       "      <td>1987</td>\n",
       "    </tr>\n",
       "    <tr>\n",
       "      <th>537</th>\n",
       "      <td>[Universita degli Studi di Roma La Sapienza, U...</td>\n",
       "      <td>[{'id': 'grid.7841.a', 'name': 'Sapienza Unive...</td>\n",
       "      <td>Grant</td>\n",
       "      <td>2004.0</td>\n",
       "      <td>DE-69820089-D1</td>\n",
       "      <td>[ERCOLANI CLAUDIO, STUZHIN PAVEL, DONZELLO PIA...</td>\n",
       "      <td>2004-01-08</td>\n",
       "      <td>NaN</td>\n",
       "      <td>porphyrazine similar compounds, their metal de...</td>\n",
       "      <td>1998</td>\n",
       "    </tr>\n",
       "    <tr>\n",
       "      <th>538</th>\n",
       "      <td>[Universita degli Studi di Roma La Sapienza, U...</td>\n",
       "      <td>[{'id': 'grid.7841.a', 'name': 'Sapienza Unive...</td>\n",
       "      <td>Application</td>\n",
       "      <td>NaN</td>\n",
       "      <td>AU-5385899-A</td>\n",
       "      <td>[CHIANESE, ANGELO]</td>\n",
       "      <td>2000-02-21</td>\n",
       "      <td>NaN</td>\n",
       "      <td>Process for purifying solid chemical products ...</td>\n",
       "      <td>1999</td>\n",
       "    </tr>\n",
       "    <tr>\n",
       "      <th>539</th>\n",
       "      <td>[UNIV NORTH CAROLINA, SAPIENZA UNI DI ROMA]</td>\n",
       "      <td>[{'id': 'grid.410711.2', 'name': 'University o...</td>\n",
       "      <td>Application</td>\n",
       "      <td>NaN</td>\n",
       "      <td>NZ-600068-A</td>\n",
       "      <td>[REID LOLA M, WANG YUNFANG, CARDINALE VINCENZO...</td>\n",
       "      <td>2014-05-30</td>\n",
       "      <td>NaN</td>\n",
       "      <td>Multipotent stem cells from the extrahepatic b...</td>\n",
       "      <td>2010</td>\n",
       "    </tr>\n",
       "    <tr>\n",
       "      <th>540</th>\n",
       "      <td>[Northeastern University China, Sapienza Unive...</td>\n",
       "      <td>[{'id': 'grid.7841.a', 'name': 'Sapienza Unive...</td>\n",
       "      <td>Application</td>\n",
       "      <td>NaN</td>\n",
       "      <td>US-20180256905-A1</td>\n",
       "      <td>[Pietro FRANCIA, Tommaso MELODIA, Matteo Rinaldi]</td>\n",
       "      <td>2018-09-13</td>\n",
       "      <td>NaN</td>\n",
       "      <td>Multi-Site Ultrasonic Wireless Pacemaker-Defib...</td>\n",
       "      <td>2018</td>\n",
       "    </tr>\n",
       "    <tr>\n",
       "      <th>541</th>\n",
       "      <td>[UNIVERSITA' DELGI STUDI DI ROMA \"LA SAPIENZA\"...</td>\n",
       "      <td>[{'id': 'grid.7841.a', 'name': 'Sapienza Unive...</td>\n",
       "      <td>Application</td>\n",
       "      <td>NaN</td>\n",
       "      <td>US-20150359499-A1</td>\n",
       "      <td>[Riccardo FACCINI, Radio BELLINI, Francesco CO...</td>\n",
       "      <td>2015-12-17</td>\n",
       "      <td>NaN</td>\n",
       "      <td>INTRAOPERATIVE DETECTION OF TUMOR RESIDUES USI...</td>\n",
       "      <td>2014</td>\n",
       "    </tr>\n",
       "    <tr>\n",
       "      <th>542</th>\n",
       "      <td>[Centre National de la Recherche Scientifique ...</td>\n",
       "      <td>[{'id': 'grid.4444.0', 'acronym': 'CNRS', 'nam...</td>\n",
       "      <td>Application</td>\n",
       "      <td>NaN</td>\n",
       "      <td>FR-2935382-A1</td>\n",
       "      <td>[BUKOWSKA MARIA, SZCZECINSKI PRZEMYSLAW, WIECZ...</td>\n",
       "      <td>2010-03-05</td>\n",
       "      <td>2.0</td>\n",
       "      <td>The salt of anion pentacylique and its use as ...</td>\n",
       "      <td>2008</td>\n",
       "    </tr>\n",
       "    <tr>\n",
       "      <th>543</th>\n",
       "      <td>[IEG TECHNOLOGIE GMBH, SERSYS AMBIENTE S.R.L.,...</td>\n",
       "      <td>[{'id': 'grid.7841.a', 'name': 'Sapienza Unive...</td>\n",
       "      <td>Grant</td>\n",
       "      <td>2019.0</td>\n",
       "      <td>EP-3134349-B1</td>\n",
       "      <td>[PETRANGELI PAPINI, MARCO, MAJONE, MAURO, BARI...</td>\n",
       "      <td>2019-08-14</td>\n",
       "      <td>NaN</td>\n",
       "      <td>PROCESS FOR THE CLEAN-UP OF WATERS CONTAMINATE...</td>\n",
       "      <td>2015</td>\n",
       "    </tr>\n",
       "    <tr>\n",
       "      <th>544</th>\n",
       "      <td>[Centre National de la Recherche Scientifique ...</td>\n",
       "      <td>[{'id': 'grid.4444.0', 'acronym': 'CNRS', 'nam...</td>\n",
       "      <td>Application</td>\n",
       "      <td>NaN</td>\n",
       "      <td>EP-2928003-A1</td>\n",
       "      <td>[BUKOWSKA, MARIA, SZCZECINSKI, PRZEMYSLAW, WIE...</td>\n",
       "      <td>2015-10-07</td>\n",
       "      <td>NaN</td>\n",
       "      <td>PENTACYCLIC ANION SALT AND USE THEREOF AS ELEC...</td>\n",
       "      <td>2009</td>\n",
       "    </tr>\n",
       "    <tr>\n",
       "      <th>545</th>\n",
       "      <td>[UNIVERSITÀ DEGLI STUDI DI ROMA LA SAPIENZA]</td>\n",
       "      <td>[{'id': 'grid.7841.a', 'name': 'Sapienza Unive...</td>\n",
       "      <td>Application</td>\n",
       "      <td>NaN</td>\n",
       "      <td>WO-2017046410-A1</td>\n",
       "      <td>[LENZI, ANDREA, MIGLIACCIO, Silvia]</td>\n",
       "      <td>2017-03-23</td>\n",
       "      <td>NaN</td>\n",
       "      <td>IN VITRO METHOD AND KIT TO DIAGNOSE SKELETAL D...</td>\n",
       "      <td>2016</td>\n",
       "    </tr>\n",
       "    <tr>\n",
       "      <th>546</th>\n",
       "      <td>[Universita degli Studi di Roma La Sapienza, U...</td>\n",
       "      <td>[{'id': 'grid.7841.a', 'name': 'Sapienza Unive...</td>\n",
       "      <td>Application</td>\n",
       "      <td>NaN</td>\n",
       "      <td>EP-0682375-A1</td>\n",
       "      <td>[DE CESARE, GIAMPIERO, IRRERA, FERNANDA, PALMA...</td>\n",
       "      <td>1995-11-15</td>\n",
       "      <td>14.0</td>\n",
       "      <td>Voltage-controlled variable spectrum photodete...</td>\n",
       "      <td>1995</td>\n",
       "    </tr>\n",
       "    <tr>\n",
       "      <th>547</th>\n",
       "      <td>[UNIVERSITA' DEGLI STUDI DI ROMA LA SAPIENZA]</td>\n",
       "      <td>[{'id': 'grid.7841.a', 'name': 'Sapienza Unive...</td>\n",
       "      <td>Application</td>\n",
       "      <td>NaN</td>\n",
       "      <td>WO-2017064660-A1</td>\n",
       "      <td>[PETRIOLI, Chiara, LO PRESTI, FRANCESCO, DI VA...</td>\n",
       "      <td>2017-04-20</td>\n",
       "      <td>2.0</td>\n",
       "      <td>METHOD AND DEVICE FOR DYNAMICAL PROTOCOL SELEC...</td>\n",
       "      <td>2016</td>\n",
       "    </tr>\n",
       "    <tr>\n",
       "      <th>548</th>\n",
       "      <td>[Universita degli Studi di Roma La Sapienza, U...</td>\n",
       "      <td>[{'id': 'grid.7841.a', 'name': 'Sapienza Unive...</td>\n",
       "      <td>Grant</td>\n",
       "      <td>2002.0</td>\n",
       "      <td>US-6388650-B1</td>\n",
       "      <td>[Paolo Maltese]</td>\n",
       "      <td>2002-05-14</td>\n",
       "      <td>4.0</td>\n",
       "      <td>Low voltage control method for a ferroelectric...</td>\n",
       "      <td>1999</td>\n",
       "    </tr>\n",
       "    <tr>\n",
       "      <th>549</th>\n",
       "      <td>[UNIVERSITA'DEGLI STUDI DI ROMA TOR VERGATA\", ...</td>\n",
       "      <td>[{'id': 'grid.7841.a', 'name': 'Sapienza Unive...</td>\n",
       "      <td>Grant</td>\n",
       "      <td>2004.0</td>\n",
       "      <td>US-6819282-B1</td>\n",
       "      <td>[Gaspare Galati, Mauro Leonardi]</td>\n",
       "      <td>2004-11-16</td>\n",
       "      <td>27.0</td>\n",
       "      <td>Super-resolution processor/receiver to discrim...</td>\n",
       "      <td>2004</td>\n",
       "    </tr>\n",
       "    <tr>\n",
       "      <th>550</th>\n",
       "      <td>[Universita degli Studi di Roma La Sapienza, U...</td>\n",
       "      <td>[{'id': 'grid.7841.a', 'name': 'Sapienza Unive...</td>\n",
       "      <td>Grant</td>\n",
       "      <td>1997.0</td>\n",
       "      <td>US-5682037-A</td>\n",
       "      <td>[Giampiero de Cesare, Fernanda Irrera, Fabrizi...</td>\n",
       "      <td>1997-10-28</td>\n",
       "      <td>20.0</td>\n",
       "      <td>Thin film detector of ultraviolet radiation, w...</td>\n",
       "      <td>1996</td>\n",
       "    </tr>\n",
       "    <tr>\n",
       "      <th>551</th>\n",
       "      <td>[Universita degli Studi di Roma La Sapienza, U...</td>\n",
       "      <td>[{'id': 'grid.7841.a', 'name': 'Sapienza Unive...</td>\n",
       "      <td>Grant</td>\n",
       "      <td>2004.0</td>\n",
       "      <td>US-6810594-B2</td>\n",
       "      <td>[Cesare Lucarini, Mario Catamo]</td>\n",
       "      <td>2004-11-02</td>\n",
       "      <td>9.0</td>\n",
       "      <td>Astronomical, particularly solar and/or lunar,...</td>\n",
       "      <td>2003</td>\n",
       "    </tr>\n",
       "    <tr>\n",
       "      <th>552</th>\n",
       "      <td>[Univeristà Degli Studi Di Roma “TOR VERGATA”,...</td>\n",
       "      <td>[{'id': 'grid.6530.0', 'name': 'University of ...</td>\n",
       "      <td>Grant</td>\n",
       "      <td>2009.0</td>\n",
       "      <td>US-7570195-B2</td>\n",
       "      <td>[Simone Bartolini, Gaspare Galati]</td>\n",
       "      <td>2009-08-04</td>\n",
       "      <td>14.0</td>\n",
       "      <td>High-capacity location and identification syst...</td>\n",
       "      <td>2005</td>\n",
       "    </tr>\n",
       "    <tr>\n",
       "      <th>553</th>\n",
       "      <td>[Universita degli Studi di Roma La Sapienza, B...</td>\n",
       "      <td>[{'id': 'grid.7841.a', 'name': 'Sapienza Unive...</td>\n",
       "      <td>Grant</td>\n",
       "      <td>2012.0</td>\n",
       "      <td>US-8191204-B2</td>\n",
       "      <td>[Nicola Plo Belfiore, Massimiliano Scaccia, Fr...</td>\n",
       "      <td>2012-06-05</td>\n",
       "      <td>3.0</td>\n",
       "      <td>Selective compliance hinge</td>\n",
       "      <td>2008</td>\n",
       "    </tr>\n",
       "    <tr>\n",
       "      <th>554</th>\n",
       "      <td>[UNIVERSITA  DEGLI STUDI DI ROMA \"LA SAPIENZA\"...</td>\n",
       "      <td>[{'id': 'grid.7841.a', 'name': 'Sapienza Unive...</td>\n",
       "      <td>Application</td>\n",
       "      <td>NaN</td>\n",
       "      <td>DE-3509421-A1</td>\n",
       "      <td>[VITALI GIANFRANCO PROF]</td>\n",
       "      <td>1985-09-26</td>\n",
       "      <td>8.0</td>\n",
       "      <td>Improved device for homogenising and diffusing...</td>\n",
       "      <td>1985</td>\n",
       "    </tr>\n",
       "    <tr>\n",
       "      <th>555</th>\n",
       "      <td>[Universidade Federal do Rio de Janeiro, ICFO ...</td>\n",
       "      <td>[{'id': 'grid.5853.b', 'acronym': 'ICFO', 'nam...</td>\n",
       "      <td>Application</td>\n",
       "      <td>NaN</td>\n",
       "      <td>EP-2811258-A1</td>\n",
       "      <td>[D'AMBROSIO, VINCENZO, Spagnolo, Nicolò, DEL R...</td>\n",
       "      <td>2014-12-10</td>\n",
       "      <td>1.0</td>\n",
       "      <td>Ultra-sensitive photonic tiltmeter utilizing t...</td>\n",
       "      <td>2014</td>\n",
       "    </tr>\n",
       "    <tr>\n",
       "      <th>556</th>\n",
       "      <td>[Universita degli Studi di Roma La Sapienza, G...</td>\n",
       "      <td>[{'id': 'grid.7841.a', 'name': 'Sapienza Unive...</td>\n",
       "      <td>Application</td>\n",
       "      <td>NaN</td>\n",
       "      <td>US-20120093879-A1</td>\n",
       "      <td>[Alessandro Giacomello, Elisa Messina, Massimo...</td>\n",
       "      <td>2012-04-19</td>\n",
       "      <td>2.0</td>\n",
       "      <td>CARDIAC STEM CELLS AND USES OF SAME IN CARDIAC...</td>\n",
       "      <td>2011</td>\n",
       "    </tr>\n",
       "    <tr>\n",
       "      <th>557</th>\n",
       "      <td>[Universita degli Studi di Roma La Sapienza, U...</td>\n",
       "      <td>[{'id': 'grid.7841.a', 'name': 'Sapienza Unive...</td>\n",
       "      <td>Application</td>\n",
       "      <td>NaN</td>\n",
       "      <td>EP-1400569-A2</td>\n",
       "      <td>[BECCARI, MARIO, DIONISI, DAVIDE, MAJONE, MAUR...</td>\n",
       "      <td>2004-03-24</td>\n",
       "      <td>8.0</td>\n",
       "      <td>Process to obtain biodegradable polymers from ...</td>\n",
       "      <td>2003</td>\n",
       "    </tr>\n",
       "  </tbody>\n",
       "</table>\n",
       "<p>558 rows × 10 columns</p>\n",
       "</div>"
      ],
      "text/plain": [
       "                                        assignee_names  \\\n",
       "0    [PROVINCIA ITALIANA DELLA CONGREGAZIONE DEI FI...   \n",
       "1    [Universita degli Studi di Roma La Sapienza, U...   \n",
       "2    [Universita degli Studi di Roma La Sapienza, U...   \n",
       "3    [Universita degli Studi di Roma La Sapienza, U...   \n",
       "4    [Universita degli Studi di Roma La Sapienza, U...   \n",
       "5               [UNIV DEGLI STUDI DI ROMA LA SAPIENZA]   \n",
       "6    [UNIV NORTH CAROLINA CHAPEL HILL, SAPIENZA UNI...   \n",
       "7    [Universita degli Studi di Siena, Universita d...   \n",
       "8    [Universita degli Studi di Roma La Sapienza, M...   \n",
       "9    [Universita degli Studi di Roma Tor Vergata, U...   \n",
       "10   [Universita'Degli Studi di Roma “La Sapienza”,...   \n",
       "11   [Universita Degli Studi di Padova, Universita ...   \n",
       "12   [Universita degli Studi di Roma La Sapienza, U...   \n",
       "13   [IST FISIOTERAP OSPITALROMA, Istituti Fisioter...   \n",
       "14   [Fondazione Istituto Europeo Di Oncologia E Ce...   \n",
       "15   [Veolia Water Solutions and Technologies Suppo...   \n",
       "16     [UNIVERSITA' DEGLI STUDI DI ROMA 'LA SAPIENZA']   \n",
       "17   [Universita degli Studi di Roma La Sapienza, U...   \n",
       "18   [Universita degli Studi di Roma La Sapienza, U...   \n",
       "19   [Universita degli Studi di Roma La Sapienza, U...   \n",
       "20   [Degli Studi Di Roma La Sapienza, University o...   \n",
       "21   [Universita degli Studi di Roma La Sapienza, U...   \n",
       "22   [Universita degli Studi di Roma La Sapienza, U...   \n",
       "23   [Universita degli Studi di Roma Tor Vergata, U...   \n",
       "24   [Istituto Superiore di Sanita, Universita degl...   \n",
       "25   [Universita degli Studi di Roma La Sapienza, U...   \n",
       "26   [UNIV NORTH CAROLINA CHAPEL HILL, SAPIENZA UNI...   \n",
       "27   [KAY SYSTEMS ITALIA Srl, Universita degli Stud...   \n",
       "28   [Universita degli Studi di Roma La Sapienza, U...   \n",
       "29   [Universita degli Studi di Roma La Sapienza, U...   \n",
       "..                                                 ...   \n",
       "528  [Universita degli Studi di Roma La Sapienza, U...   \n",
       "529  [Universita degli Studi di Roma La Sapienza, U...   \n",
       "530  [Universita degli Studi di Roma La Sapienza, U...   \n",
       "531  [Universita degli Studi di Roma La Sapienza, U...   \n",
       "532  [Universita degli Studi di Roma La Sapienza, U...   \n",
       "533  [Consiglio Nazionale Delle Richerche, Universi...   \n",
       "534  [UNIVERSITA' DEGLI STUDI DI ROMA LA SAPIENZA, ...   \n",
       "535  [Scherrer Paul Institut, Sapienza University O...   \n",
       "536  [Centre National de la Recherche Scientifique ...   \n",
       "537  [Universita degli Studi di Roma La Sapienza, U...   \n",
       "538  [Universita degli Studi di Roma La Sapienza, U...   \n",
       "539        [UNIV NORTH CAROLINA, SAPIENZA UNI DI ROMA]   \n",
       "540  [Northeastern University China, Sapienza Unive...   \n",
       "541  [UNIVERSITA' DELGI STUDI DI ROMA \"LA SAPIENZA\"...   \n",
       "542  [Centre National de la Recherche Scientifique ...   \n",
       "543  [IEG TECHNOLOGIE GMBH, SERSYS AMBIENTE S.R.L.,...   \n",
       "544  [Centre National de la Recherche Scientifique ...   \n",
       "545       [UNIVERSITÀ DEGLI STUDI DI ROMA LA SAPIENZA]   \n",
       "546  [Universita degli Studi di Roma La Sapienza, U...   \n",
       "547      [UNIVERSITA' DEGLI STUDI DI ROMA LA SAPIENZA]   \n",
       "548  [Universita degli Studi di Roma La Sapienza, U...   \n",
       "549  [UNIVERSITA'DEGLI STUDI DI ROMA TOR VERGATA\", ...   \n",
       "550  [Universita degli Studi di Roma La Sapienza, U...   \n",
       "551  [Universita degli Studi di Roma La Sapienza, U...   \n",
       "552  [Univeristà Degli Studi Di Roma “TOR VERGATA”,...   \n",
       "553  [Universita degli Studi di Roma La Sapienza, B...   \n",
       "554  [UNIVERSITA  DEGLI STUDI DI ROMA \"LA SAPIENZA\"...   \n",
       "555  [Universidade Federal do Rio de Janeiro, ICFO ...   \n",
       "556  [Universita degli Studi di Roma La Sapienza, G...   \n",
       "557  [Universita degli Studi di Roma La Sapienza, U...   \n",
       "\n",
       "                                             assignees filing_status  \\\n",
       "0    [{'id': 'grid.7841.a', 'name': 'Sapienza Unive...   Application   \n",
       "1    [{'id': 'grid.7841.a', 'name': 'Sapienza Unive...         Grant   \n",
       "2    [{'id': 'grid.7841.a', 'name': 'Sapienza Unive...         Grant   \n",
       "3    [{'id': 'grid.7841.a', 'name': 'Sapienza Unive...         Grant   \n",
       "4    [{'id': 'grid.7841.a', 'name': 'Sapienza Unive...         Grant   \n",
       "5    [{'id': 'grid.7841.a', 'name': 'Sapienza Unive...   Application   \n",
       "6    [{'id': 'grid.7841.a', 'name': 'Sapienza Unive...   Application   \n",
       "7    [{'id': 'grid.7841.a', 'name': 'Sapienza Unive...   Application   \n",
       "8    [{'id': 'grid.7841.a', 'name': 'Sapienza Unive...         Grant   \n",
       "9    [{'id': 'grid.6530.0', 'name': 'University of ...   Application   \n",
       "10   [{'id': 'grid.7841.a', 'name': 'Sapienza Unive...         Grant   \n",
       "11   [{'id': 'grid.5608.b', 'acronym': 'UNIPD', 'na...   Application   \n",
       "12   [{'id': 'grid.7841.a', 'name': 'Sapienza Unive...   Application   \n",
       "13   [{'id': 'grid.417520.5', 'acronym': 'IFO', 'na...   Application   \n",
       "14   [{'id': 'grid.7841.a', 'name': 'Sapienza Unive...   Application   \n",
       "15   [{'id': 'grid.7841.a', 'name': 'Sapienza Unive...   Application   \n",
       "16   [{'id': 'grid.7841.a', 'name': 'Sapienza Unive...   Application   \n",
       "17   [{'id': 'grid.7841.a', 'name': 'Sapienza Unive...   Application   \n",
       "18   [{'id': 'grid.7841.a', 'name': 'Sapienza Unive...   Application   \n",
       "19   [{'id': 'grid.7841.a', 'name': 'Sapienza Unive...   Application   \n",
       "20   [{'id': 'grid.7841.a', 'name': 'Sapienza Unive...   Application   \n",
       "21   [{'id': 'grid.7841.a', 'name': 'Sapienza Unive...         Grant   \n",
       "22   [{'id': 'grid.10698.36', 'acronym': 'UNC', 'na...   Application   \n",
       "23   [{'id': 'grid.7841.a', 'name': 'Sapienza Unive...   Application   \n",
       "24   [{'id': 'grid.416651.1', 'acronym': 'ISS', 'na...   Application   \n",
       "25   [{'id': 'grid.7841.a', 'name': 'Sapienza Unive...         Grant   \n",
       "26   [{'id': 'grid.7841.a', 'name': 'Sapienza Unive...   Application   \n",
       "27   [{'id': 'grid.7841.a', 'name': 'Sapienza Unive...         Grant   \n",
       "28   [{'id': 'grid.7841.a', 'name': 'Sapienza Unive...         Grant   \n",
       "29   [{'id': 'grid.7841.a', 'name': 'Sapienza Unive...   Application   \n",
       "..                                                 ...           ...   \n",
       "528  [{'id': 'grid.7841.a', 'name': 'Sapienza Unive...         Grant   \n",
       "529  [{'id': 'grid.7841.a', 'name': 'Sapienza Unive...   Application   \n",
       "530  [{'id': 'grid.7841.a', 'name': 'Sapienza Unive...   Application   \n",
       "531  [{'id': 'grid.7841.a', 'name': 'Sapienza Unive...   Application   \n",
       "532  [{'id': 'grid.7841.a', 'name': 'Sapienza Unive...         Grant   \n",
       "533  [{'id': 'grid.5326.2', 'acronym': 'CNR', 'name...   Application   \n",
       "534  [{'id': 'grid.9027.c', 'name': 'University of ...   Application   \n",
       "535  [{'id': 'grid.5991.4', 'acronym': 'PSI', 'name...   Application   \n",
       "536  [{'id': 'grid.4444.0', 'acronym': 'CNRS', 'nam...   Application   \n",
       "537  [{'id': 'grid.7841.a', 'name': 'Sapienza Unive...         Grant   \n",
       "538  [{'id': 'grid.7841.a', 'name': 'Sapienza Unive...   Application   \n",
       "539  [{'id': 'grid.410711.2', 'name': 'University o...   Application   \n",
       "540  [{'id': 'grid.7841.a', 'name': 'Sapienza Unive...   Application   \n",
       "541  [{'id': 'grid.7841.a', 'name': 'Sapienza Unive...   Application   \n",
       "542  [{'id': 'grid.4444.0', 'acronym': 'CNRS', 'nam...   Application   \n",
       "543  [{'id': 'grid.7841.a', 'name': 'Sapienza Unive...         Grant   \n",
       "544  [{'id': 'grid.4444.0', 'acronym': 'CNRS', 'nam...   Application   \n",
       "545  [{'id': 'grid.7841.a', 'name': 'Sapienza Unive...   Application   \n",
       "546  [{'id': 'grid.7841.a', 'name': 'Sapienza Unive...   Application   \n",
       "547  [{'id': 'grid.7841.a', 'name': 'Sapienza Unive...   Application   \n",
       "548  [{'id': 'grid.7841.a', 'name': 'Sapienza Unive...         Grant   \n",
       "549  [{'id': 'grid.7841.a', 'name': 'Sapienza Unive...         Grant   \n",
       "550  [{'id': 'grid.7841.a', 'name': 'Sapienza Unive...         Grant   \n",
       "551  [{'id': 'grid.7841.a', 'name': 'Sapienza Unive...         Grant   \n",
       "552  [{'id': 'grid.6530.0', 'name': 'University of ...         Grant   \n",
       "553  [{'id': 'grid.7841.a', 'name': 'Sapienza Unive...         Grant   \n",
       "554  [{'id': 'grid.7841.a', 'name': 'Sapienza Unive...   Application   \n",
       "555  [{'id': 'grid.5853.b', 'acronym': 'ICFO', 'nam...   Application   \n",
       "556  [{'id': 'grid.7841.a', 'name': 'Sapienza Unive...   Application   \n",
       "557  [{'id': 'grid.7841.a', 'name': 'Sapienza Unive...   Application   \n",
       "\n",
       "     granted_year                 id  \\\n",
       "0             NaN      CA-2659681-A1   \n",
       "1          2012.0      EP-2212421-B1   \n",
       "2          2006.0     DE-60028007-D1   \n",
       "3          2006.0     DE-60215843-D1   \n",
       "4          2004.0       AU-777037-B2   \n",
       "5             NaN   WO-2019111142-A1   \n",
       "6             NaN   WO-2018187439-A1   \n",
       "7             NaN      EP-2195289-A2   \n",
       "8          2017.0      US-9750770-B2   \n",
       "9             NaN      EP-2013217-A1   \n",
       "10         2008.0      US-7459298-B2   \n",
       "11            NaN  US-20090036382-A1   \n",
       "12            NaN      EP-2323751-A2   \n",
       "13            NaN      EP-2529195-A1   \n",
       "14            NaN      CA-2797011-A1   \n",
       "15            NaN      EP-3186201-A1   \n",
       "16            NaN   WO-2016181271-A1   \n",
       "17            NaN      EP-2438172-A1   \n",
       "18            NaN      EP-2106546-A1   \n",
       "19            NaN      CA-2534378-A1   \n",
       "20            NaN      EP-3310863-A1   \n",
       "21         2005.0     DE-69923077-T2   \n",
       "22            NaN  US-20180295834-A1   \n",
       "23            NaN      EP-1807713-A2   \n",
       "24            NaN       AU-5777696-A   \n",
       "25         1998.0      EP-0682375-B1   \n",
       "26            NaN        NZ-709124-A   \n",
       "27         2016.0      US-9362013-B2   \n",
       "28         2016.0       CA-2793046-C   \n",
       "29            NaN  US-20160060718-A1   \n",
       "..            ...                ...   \n",
       "528        2001.0      EP-0784094-B1   \n",
       "529           NaN      EP-0714543-A1   \n",
       "530           NaN      EP-1135502-A1   \n",
       "531           NaN  US-20180245655-A1   \n",
       "532        2006.0      EP-1443876-B1   \n",
       "533           NaN      EP-2987011-A1   \n",
       "534           NaN   WO-2017125388-A1   \n",
       "535           NaN      EP-3512641-A1   \n",
       "536           NaN      EP-0241435-A3   \n",
       "537        2004.0     DE-69820089-D1   \n",
       "538           NaN       AU-5385899-A   \n",
       "539           NaN        NZ-600068-A   \n",
       "540           NaN  US-20180256905-A1   \n",
       "541           NaN  US-20150359499-A1   \n",
       "542           NaN      FR-2935382-A1   \n",
       "543        2019.0      EP-3134349-B1   \n",
       "544           NaN      EP-2928003-A1   \n",
       "545           NaN   WO-2017046410-A1   \n",
       "546           NaN      EP-0682375-A1   \n",
       "547           NaN   WO-2017064660-A1   \n",
       "548        2002.0      US-6388650-B1   \n",
       "549        2004.0      US-6819282-B1   \n",
       "550        1997.0       US-5682037-A   \n",
       "551        2004.0      US-6810594-B2   \n",
       "552        2009.0      US-7570195-B2   \n",
       "553        2012.0      US-8191204-B2   \n",
       "554           NaN      DE-3509421-A1   \n",
       "555           NaN      EP-2811258-A1   \n",
       "556           NaN  US-20120093879-A1   \n",
       "557           NaN      EP-1400569-A2   \n",
       "\n",
       "                                        inventor_names publication_date  \\\n",
       "0    [D'ATRI, STEFANIA, FAILLA, CRISTINA MARIA, LAC...       2008-02-07   \n",
       "1    [BOZZONI, IRENE, FATICA, ALESSANDRO, ROSA, ALE...       2012-08-08   \n",
       "2                                 [MACINO G, COGONI C]       2006-06-22   \n",
       "3    [DE VINCENTIIS MARCO, GALLO ANDREA, MANCIOCCO ...       2006-12-14   \n",
       "4                    [COGONI, CARLO, MACINO, GIUSEPPE]       2004-09-30   \n",
       "5    [VIOLI, FRANCESCO, CARNEVALE, ROBERTO, NOCELLA...       2019-06-13   \n",
       "6    [REID, LOLA M., DOMENICO, Alvaro, CARDINALE, V...       2018-10-11   \n",
       "7    [BIAVA, MARIANGELA, BOTTA, MAURIZIO, DE LOGU, ...       2010-06-16   \n",
       "8    [Lola M. Reid, Yunfang Wang, David A. GERBER, ...       2017-09-05   \n",
       "9    [MACCARRONE, MAURO, ODDI, SERGIO, FEZZA, FILOM...       2009-01-14   \n",
       "10    [Irene Bozzoni, Elisa Caffarelli, Pietro Laneve]       2008-12-02   \n",
       "11   [Giorgio Bressan, Paolo Bonaldo, Stefano Picco...       2009-02-05   \n",
       "12               [GIAVARINI, CARLO, MACCIONI, FILIPPO]       2011-05-25   \n",
       "13   [SODDU, SILVIA, CUNDARI, ENRICO, CHESSA, LUCIA...       2012-12-05   \n",
       "14   [MINUCCI, SAVERIO, MAI, ANTONELLO, MATTEVI, AN...       2011-10-27   \n",
       "15   [WERKER, ALAN GIDEON, BENGTSSON, SIMON OLOF HA...       2017-07-05   \n",
       "16                                 [AL MANSOUR, Monir]       2016-11-17   \n",
       "17   [CERVONE, FELICE, DE LORENZO, GIULIA, BRUTUS, ...       2012-04-11   \n",
       "18   [CAPUTO DOMENICO, DE CESARE GIAMPIERO, MANETTI...       2009-10-07   \n",
       "19   [GIACOMELLO, ALESSANDRO, MESSINA, ELISA, BATTA...       2005-02-10   \n",
       "20   [SARTO, MARIA SABRINA, TAMBURRANO, ALESSIO, PR...       2018-04-25   \n",
       "21                                  [CHIANESE, ANGELO]       2005-12-08   \n",
       "22   [Lola M. Reid, Alvaro Domenico, Vincenzo Cardi...       2018-10-18   \n",
       "23                [BARTOLINI, SIMONE, GALATI, GASPARE]       2007-07-18   \n",
       "24   [BROMURO, CARLA, CASSONE, ANTONIO, CRISANTI, A...       1996-11-29   \n",
       "25   [DE CESARE, GIAMPIERO, IRRERA, FERNANDA, PALMA...       1998-07-22   \n",
       "26   [CUI CAI-BIN, ALVARO DOMENICO, CARDINALE VINCE...       2017-06-30   \n",
       "27                                      [Roberto Pani]       2016-06-07   \n",
       "28   [GIACOMELLO, ALESSANDRO, MESSINA, ELISA, BATTA...       2016-02-16   \n",
       "29   [Giovanni Ristori, Rosella MECHELLI, Marco Sal...       2016-03-03   \n",
       "..                                                 ...              ...   \n",
       "528  [Bozzoni, I., Univ. Degli Studi di Roma La Sap...       2001-06-13   \n",
       "529         [MALTESE, Paolo Univ. degli Studi di Roma]       1996-06-05   \n",
       "530                  [COGONI, CARLO, MACINO, GIUSEPPE]       2001-09-26   \n",
       "531               [Walter LACARBONARA, Biagio CARBONI]       2018-08-30   \n",
       "532  [DE VINCENTIIS, MARCO, GALLO, ANDREA, MANCIOCC...       2006-11-02   \n",
       "533  [OSELLAME, ROBERTO, CRESPI, ANDREA, CORRIELLI,...       2016-02-24   \n",
       "534  [BRACCIALE, Maria Paola, BROGGI, Alessandra, C...       2017-07-27   \n",
       "535  [GIORGIANNI, Flavio, HAURI, Christoph Peter, L...       2019-07-24   \n",
       "536  [CLAUDIO, FALCONE, HIROSHI, FUKUHARA, LAURA, F...       1988-09-14   \n",
       "537  [ERCOLANI CLAUDIO, STUZHIN PAVEL, DONZELLO PIA...       2004-01-08   \n",
       "538                                 [CHIANESE, ANGELO]       2000-02-21   \n",
       "539  [REID LOLA M, WANG YUNFANG, CARDINALE VINCENZO...       2014-05-30   \n",
       "540  [Pietro FRANCIA, Tommaso MELODIA, Matteo Rinaldi]       2018-09-13   \n",
       "541  [Riccardo FACCINI, Radio BELLINI, Francesco CO...       2015-12-17   \n",
       "542  [BUKOWSKA MARIA, SZCZECINSKI PRZEMYSLAW, WIECZ...       2010-03-05   \n",
       "543  [PETRANGELI PAPINI, MARCO, MAJONE, MAURO, BARI...       2019-08-14   \n",
       "544  [BUKOWSKA, MARIA, SZCZECINSKI, PRZEMYSLAW, WIE...       2015-10-07   \n",
       "545                [LENZI, ANDREA, MIGLIACCIO, Silvia]       2017-03-23   \n",
       "546  [DE CESARE, GIAMPIERO, IRRERA, FERNANDA, PALMA...       1995-11-15   \n",
       "547  [PETRIOLI, Chiara, LO PRESTI, FRANCESCO, DI VA...       2017-04-20   \n",
       "548                                    [Paolo Maltese]       2002-05-14   \n",
       "549                   [Gaspare Galati, Mauro Leonardi]       2004-11-16   \n",
       "550  [Giampiero de Cesare, Fernanda Irrera, Fabrizi...       1997-10-28   \n",
       "551                    [Cesare Lucarini, Mario Catamo]       2004-11-02   \n",
       "552                 [Simone Bartolini, Gaspare Galati]       2009-08-04   \n",
       "553  [Nicola Plo Belfiore, Massimiliano Scaccia, Fr...       2012-06-05   \n",
       "554                           [VITALI GIANFRANCO PROF]       1985-09-26   \n",
       "555  [D'AMBROSIO, VINCENZO, Spagnolo, Nicolò, DEL R...       2014-12-10   \n",
       "556  [Alessandro Giacomello, Elisa Messina, Massimo...       2012-04-19   \n",
       "557  [BECCARI, MARIO, DIONISI, DAVIDE, MAJONE, MAUR...       2004-03-24   \n",
       "\n",
       "     times_cited                                              title  year  \n",
       "0            NaN  PEPTIDE DERIVED FROM VASCULAR ENDOTHELIAL GROW...  2007  \n",
       "1            NaN            MIRNA, SIRNA AND USE THEREOF IN THERAPY  2008  \n",
       "2            NaN  The isolation and characterization of a switch...  2000  \n",
       "3            NaN                                  Artificial larynx  2002  \n",
       "4            NaN  Isolation and characterization of a N. crassa ...  1999  \n",
       "5            NaN  OLEUROPEIN FOR USE IN REDUCING POST-PRANDIAL G...  2018  \n",
       "6            NaN                            CRYOPRESERVATION METHOD  2018  \n",
       "7            NaN  PYRROLE COMPOUNDS AS INHIBITORS OF MYCOBACTERI...  2008  \n",
       "8            NaN  Method of treating pancreatic and liver condit...  2015  \n",
       "9            NaN  DESIGN AND SYNTHESIS OF BIOTINYLATED PROBES FO...  2006  \n",
       "10           NaN  Purification, cloning and biochemical characte...  2005  \n",
       "11           4.0                TGF-Beta Modulators and Use Thereof  2007  \n",
       "12           NaN  PROCESS FOR THE PURIFICATION-SWEETENING OF NAT...  2009  \n",
       "13           NaN  METHOD FOR IN VITRO DETECTION OF ATAXIA TELANG...  2011  \n",
       "14           NaN  TRANYLCYPROMINE DERIVATIVES AS INHIBITORS OF H...  2011  \n",
       "15           NaN  PROCESS FOR ENHANCING POLYHYDROXYALKANOATE ACC...  2015  \n",
       "16           NaN  MECHANICAL GUN-TYPE CIRCUMCISION DEVICE WITH G...  2016  \n",
       "17           NaN  CONSTRUCTS EXPRESSING CHIMERIC RECEPTORS AND U...  2010  \n",
       "18           NaN  CHEMICAL AND/OR BIOMOLECULAR ANALYSIS INTEGRAT...  2008  \n",
       "19           NaN  METHOD FOR THE ISOLATION AND EXPANSION OF CARD...  2004  \n",
       "20           NaN  WATER-BASED PIEZORESISTIVE CONDUCTIVE POLYMERI...  2016  \n",
       "21           NaN  A process for the purification of solid chemic...  1999  \n",
       "22           NaN                            CRYOPRESERVATION METHOD  2018  \n",
       "23           1.0  HIGH-CAPACITY LOCATION AND IDENTIFICATION SYST...  2005  \n",
       "24           NaN  Candida heat shock protein, cdna and uses thereof  1996  \n",
       "25           NaN  Voltage-controlled variable spectrum photodete...  1995  \n",
       "26           NaN  Multipotent stem cells from the extrahepatic b...  2010  \n",
       "27           NaN  Tilting collimator, in particular for single-p...  2013  \n",
       "28           NaN  METHOD FOR THE ISOLATION AND EXPANSION OF CARD...  2004  \n",
       "29           NaN  EPSTEIN BARR VIRUS GENOTIPIC VARIANTS AND USES...  2014  \n",
       "..           ...                                                ...   ...  \n",
       "528          1.0  Ribozyme -snRNA chimeric molecules having a ca...  1996  \n",
       "529          NaN  A CONTROL METHOD FOR A FERROELECTRIC LIQUID CR...  1994  \n",
       "530          NaN  ISOLATION AND CHARACTERIZATION OF A $i(N. CRAS...  1999  \n",
       "531          NaN    MULTI-PERFORMANCE HYSTERETIC RHEOLOGICAL DEVICE  2016  \n",
       "532          NaN                                  ARTIFICIAL LARYNX  2002  \n",
       "533          NaN  METHOD FOR REALIZING AN OPTICAL WAVEGUIDE IN A...  2014  \n",
       "534          NaN  COATING COMPOSITION WITH ANTIMICROBIAL AND ANT...  2017  \n",
       "535          NaN  TRANSDUCER FOR ELECTROMAGNETIC AND THERMO-ACOU...  2017  \n",
       "536          NaN  VECTORS FOR THE CLONING AND EXPRESSION OF HETE...  1987  \n",
       "537          NaN  porphyrazine similar compounds, their metal de...  1998  \n",
       "538          NaN  Process for purifying solid chemical products ...  1999  \n",
       "539          NaN  Multipotent stem cells from the extrahepatic b...  2010  \n",
       "540          NaN  Multi-Site Ultrasonic Wireless Pacemaker-Defib...  2018  \n",
       "541          NaN  INTRAOPERATIVE DETECTION OF TUMOR RESIDUES USI...  2014  \n",
       "542          2.0  The salt of anion pentacylique and its use as ...  2008  \n",
       "543          NaN  PROCESS FOR THE CLEAN-UP OF WATERS CONTAMINATE...  2015  \n",
       "544          NaN  PENTACYCLIC ANION SALT AND USE THEREOF AS ELEC...  2009  \n",
       "545          NaN  IN VITRO METHOD AND KIT TO DIAGNOSE SKELETAL D...  2016  \n",
       "546         14.0  Voltage-controlled variable spectrum photodete...  1995  \n",
       "547          2.0  METHOD AND DEVICE FOR DYNAMICAL PROTOCOL SELEC...  2016  \n",
       "548          4.0  Low voltage control method for a ferroelectric...  1999  \n",
       "549         27.0  Super-resolution processor/receiver to discrim...  2004  \n",
       "550         20.0  Thin film detector of ultraviolet radiation, w...  1996  \n",
       "551          9.0  Astronomical, particularly solar and/or lunar,...  2003  \n",
       "552         14.0  High-capacity location and identification syst...  2005  \n",
       "553          3.0                         Selective compliance hinge  2008  \n",
       "554          8.0  Improved device for homogenising and diffusing...  1985  \n",
       "555          1.0  Ultra-sensitive photonic tiltmeter utilizing t...  2014  \n",
       "556          2.0  CARDIAC STEM CELLS AND USES OF SAME IN CARDIAC...  2011  \n",
       "557          8.0  Process to obtain biodegradable polymers from ...  2003  \n",
       "\n",
       "[558 rows x 10 columns]"
      ]
     },
     "execution_count": 89,
     "metadata": {},
     "output_type": "execute_result"
    }
   ],
   "source": [
    "df"
   ]
  },
  {
   "cell_type": "code",
   "execution_count": 12,
   "metadata": {},
   "outputs": [
    {
     "data": {
      "application/vnd.plotly.v1+json": {
       "config": {
        "linkText": "Export to plot.ly",
        "plotlyServerURL": "https://plot.ly",
        "showLink": false
       },
       "data": [
        {
         "alignmentgroup": "True",
         "bingroup": "x",
         "hoverlabel": {
          "namelength": 0
         },
         "hovertemplate": "filing_status=Application<br>year=%{x}<br>count of id=%{y}",
         "legendgroup": "filing_status=Application",
         "marker": {
          "color": "#636efa"
         },
         "name": "filing_status=Application",
         "offsetgroup": "filing_status=Application",
         "orientation": "v",
         "showlegend": true,
         "type": "histogram",
         "uid": "07aef428-020a-4c0c-a16a-caea9b95dca2",
         "x": [
          2007,
          2018,
          2018,
          2008,
          2006,
          2007,
          2009,
          2011,
          2011,
          2015,
          2016,
          2010,
          2008,
          2004,
          2016,
          2018,
          2005,
          1996,
          2010,
          2014,
          2011,
          2014,
          2016,
          2011,
          2016,
          1996,
          2018,
          2018,
          2016,
          1999,
          2004,
          2006,
          2005,
          2013,
          2004,
          1998,
          2013,
          2012,
          2016,
          2009,
          2009,
          2004,
          1996,
          2008,
          2005,
          2017,
          2011,
          2001,
          2016,
          2016,
          2016,
          2016,
          2012,
          2001,
          2001,
          2002,
          2014,
          2005,
          2014,
          2006,
          2012,
          1996,
          2016,
          2016,
          2008,
          2012,
          2012,
          2010,
          2010,
          2005,
          2014,
          1998,
          1999,
          1999,
          1999,
          2004,
          2004,
          2001,
          2001,
          2001,
          2000,
          2001,
          2003,
          2003,
          2003,
          2005,
          2005,
          2004,
          2005,
          2005,
          2004,
          2000,
          2007,
          2008,
          2016,
          2016,
          1987,
          2016,
          2016,
          2014,
          2008,
          2019,
          2004,
          2010,
          2004,
          2006,
          2000,
          2008,
          2010,
          2009,
          2008,
          2014,
          2016,
          2013,
          2001,
          2002,
          2010,
          2014,
          2012,
          2007,
          2009,
          2016,
          2014,
          2013,
          2012,
          2008,
          2018,
          2002,
          2016,
          1993,
          2000,
          2004,
          2005,
          2001,
          2016,
          2002,
          2013,
          2013,
          2009,
          2017,
          2003,
          2016,
          2001,
          2011,
          2003,
          2011,
          2011,
          2012,
          2016,
          1999,
          1997,
          2015,
          2013,
          2007,
          2015,
          2000,
          2000,
          2012,
          2016,
          2017,
          2009,
          2008,
          2003,
          2002,
          2001,
          2003,
          2006,
          2011,
          2014,
          2014,
          2008,
          2011,
          2015,
          2001,
          1985,
          2004,
          2011,
          2017,
          2014,
          2007,
          2002,
          2005,
          2006,
          2005,
          2005,
          2007,
          2012,
          2001,
          2018,
          2010,
          2014,
          2007,
          2010,
          2014,
          2001,
          2000,
          2010,
          2009,
          2009,
          2016,
          2016,
          2016,
          2001,
          2001,
          2014,
          2001,
          2017,
          2016,
          2007,
          2015,
          2016,
          2018,
          2010,
          2010,
          2014,
          2008,
          2004,
          2015,
          2015,
          1996,
          2005,
          2002,
          2006,
          2005,
          2001,
          2002,
          2000,
          1997,
          2000,
          1995,
          2014,
          2005,
          2012,
          2013,
          2010,
          2014,
          2019,
          2013,
          2012,
          2016,
          2007,
          2015,
          2009,
          2004,
          2001,
          2002,
          2006,
          2005,
          2004,
          2007,
          2002,
          2003,
          2010,
          2011,
          2001,
          2014,
          2014,
          2013,
          2004,
          2015,
          2007,
          2011,
          2015,
          2015,
          2005,
          2002,
          1999,
          2015,
          1994,
          2015,
          2015,
          2002,
          2002,
          1995,
          2007,
          1996,
          1993,
          2014,
          2015,
          2016,
          2016,
          2011,
          2010,
          2003,
          2007,
          2011,
          2013,
          2012,
          2015,
          2013,
          2007,
          2007,
          2016,
          2004,
          2006,
          2019,
          2018,
          2017,
          2016,
          2011,
          2013,
          2012,
          2010,
          2013,
          2013,
          2011,
          2010,
          2008,
          2008,
          2001,
          2014,
          2014,
          2002,
          2002,
          2010,
          2003,
          2003,
          2004,
          2002,
          2011,
          2013,
          2011,
          2015,
          2011,
          2004,
          2014,
          2017,
          2011,
          2016,
          2017,
          2002,
          2003,
          2005,
          2005,
          2011,
          2015,
          2009,
          2013,
          2005,
          2016,
          2007,
          2009,
          2001,
          2015,
          2017,
          2016,
          2014,
          2006,
          2015,
          2005,
          1996,
          1994,
          1999,
          2016,
          2014,
          2017,
          2017,
          1987,
          1999,
          2010,
          2018,
          2014,
          2008,
          2009,
          2016,
          1995,
          2016,
          1985,
          2014,
          2011,
          2003
         ],
         "xaxis": "x",
         "y": [
          "CA-2659681-A1",
          "WO-2019111142-A1",
          "WO-2018187439-A1",
          "EP-2195289-A2",
          "EP-2013217-A1",
          "US-20090036382-A1",
          "EP-2323751-A2",
          "EP-2529195-A1",
          "CA-2797011-A1",
          "EP-3186201-A1",
          "WO-2016181271-A1",
          "EP-2438172-A1",
          "EP-2106546-A1",
          "CA-2534378-A1",
          "EP-3310863-A1",
          "US-20180295834-A1",
          "EP-1807713-A2",
          "AU-5777696-A",
          "NZ-709124-A",
          "US-20160060718-A1",
          "EP-2593820-A1",
          "EP-2951612-A2",
          "EP-3363183-A1",
          "US-20120020935-A1",
          "WO-2017109693-A1",
          "AU-4354896-A",
          "WO-2018220597-A1",
          "WO-2019058325-A1",
          "US-20180302504-A1",
          "US-20020044125-A1",
          "EP-1831681-A1",
          "EP-1837626-A2",
          "EP-1718676-A1",
          "US-20140008162-A1",
          "US-20040243234-A1",
          "EP-0883194-A1",
          "WO-2014076645-A1",
          "EP-2757879-A1",
          "US-20190016686-A1",
          "WO-2010023413-A1",
          "US-20090317032-A1",
          "US-20050021149-A1",
          "EP-0784094-A1",
          "US-20080279840-A1",
          "EP-1684369-A1",
          "US-20190091109-A1",
          "AU-2011244478-A1",
          "AU-2189702-A",
          "WO-2016181271-A8",
          "WO-2017021933-A1",
          "WO-2016116450-A3",
          "AU-2016210783-A1",
          "EP-2696191-A4",
          "AU-2002222139-A1",
          "AU-2002221897-A1",
          "AU-2002241244-A1",
          "RU-2015143617-A",
          "EP-1828245-A2",
          "EP-2970879-A1",
          "IN-2006DN00049-A",
          "IN-2012KN01230-A",
          "RU-96119929-A",
          "AU-2016337678-A1",
          "US-20160244723-A1",
          "US-20110028988-A1",
          "EP-2710378-A1",
          "EP-2742254-A1",
          "EP-2435582-A1",
          "EP-2399263-A1",
          "US-20080199900-A1",
          "US-20150104492-A1",
          "EP-1017700-A1",
          "CA-2353087-A1",
          "EP-1124619-A1",
          "EP-1098845-A2",
          "EP-1590842-A2",
          "CA-2532019-A1",
          "CA-2430291-A1",
          "AU-5255501-A",
          "EP-1274674-A1",
          "EP-1155122-A1",
          "EP-1272659-A1",
          "EP-1400569-A3",
          "EP-1520027-A1",
          "AU-2003281302-A1",
          "EP-1807345-A1",
          "EP-1828733-A1",
          "EP-1615638-A1",
          "EP-1789532-A1",
          "EP-1866626-A1",
          "EP-1690096-A1",
          "AU-3189700-A",
          "EP-2115174-A2",
          "EP-2114542-A2",
          "EP-3289799-A1",
          "EP-3201194-A1",
          "EP-0241435-A2",
          "US-20180179779-A1",
          "EP-3259489-A2",
          "EP-2981625-A1",
          "US-20110009468-A1",
          "WO-2019149962-A1",
          "US-20040115189-A1",
          "US-20120129920-A1",
          "US-20060217327-A1",
          "US-20090078519-A1",
          "EP-1146128-A1",
          "EP-2201205-A1",
          "AU-2010252075-A1",
          "EP-2342172-A1",
          "EP-2160779-A2",
          "EP-3013331-A1",
          "WO-2017051440-A1",
          "WO-2014072883-A1",
          "AU-2002219505-A1",
          "AU-2002237513-A1",
          "EP-2494033-A4",
          "CA-2904140-A1",
          "WO-2012136874-A1",
          "EP-1875923-A3",
          "CA-2732942-A1",
          "WO-2016207804-A1",
          "US-20160368886-A1",
          "EP-2916794-A1",
          "EP-2858644-A1",
          "EP-2125023-A2",
          "IN-201838034102-A",
          "US-20030066670-A1",
          "US-20180171160-A1",
          "EP-0656063-A1",
          "EP-1214397-A2",
          "AU-2004256322-A1",
          "EP-1786895-A2",
          "AU-5255301-A",
          "EP-3353360-A1",
          "CA-2437889-A1",
          "EP-2713364-A1",
          "US-20150305212-A1",
          "EP-2204451-A1",
          "WO-2018109729-A1",
          "EP-1497026-A2",
          "WO-2017021992-A1",
          "EP-1167305-A2",
          "US-20130143469-A1",
          "US-20030166721-A1",
          "US-20130114133-A1",
          "US-20130053686-A1",
          "EP-2696191-A1",
          "WO-2017046706-A1",
          "AU-4366399-A",
          "AU-4636997-A",
          "US-20170233271-A1",
          "EP-2909139-A2",
          "EP-2064556-A2",
          "US-20170079609-A1",
          "CA-2385424-A1",
          "CA-2362203-A1",
          "IN-2012MN02335-A",
          "WO-2017064661-A1",
          "WO-2018122689-A1",
          "US-20110179714-A1",
          "US-20100325840-A1",
          "AU-2003226461-A1",
          "EP-1368616-A1",
          "EP-1410560-A1",
          "AU-2003234070-A1",
          "EP-1893775-A2",
          "EP-2521527-A1",
          "EP-3066565-A1",
          "EP-2772801-A1",
          "EP-2219548-A2",
          "US-20120288540-A1",
          "EP-3143428-A2",
          "AU-3049801-A",
          "DE-3510204-A1",
          "EP-2465921-A3",
          "EP-2542916-A1",
          "WO-2017149474-A1",
          "US-20140354635-A1",
          "EP-1880702-A2",
          "EP-1453494-A2",
          "US-20060084062-A1",
          "EP-1917234-A1",
          "EP-1782146-A2",
          "US-20090038022-A1",
          "EP-1880702-A3",
          "EP-2736781-A1",
          "EP-1326620-A1",
          "WO-2019110325-A1",
          "US-20120115150-A1",
          "US-20160054522-A1",
          "EP-2121179-A1",
          "RU-2012121428-A",
          "WO-2014170872-A1",
          "CA-2425514-A1",
          "AU-5812700-A",
          "CA-2779144-A1",
          "EP-2334831-A1",
          "EP-2334630-A2",
          "EP-3247940-A2",
          "WO-2017008816-A1",
          "WO-2017021992-A8",
          "AU-2001230498-A1",
          "AU-2002215187-A1",
          "WO-2014143632-A1",
          "EP-1167305-A3",
          "WO-2017178954-A1",
          "WO-2017051440-A8",
          "US-20090312266-A1",
          "EP-3102444-A1",
          "US-20180302172-A1",
          "EP-3495821-A1",
          "AU-2010313386-A1",
          "EP-2494033-A1",
          "US-20160274938-A1",
          "US-20100197672-A1",
          "EP-1649012-A1",
          "EP-3158584-A1",
          "US-20180002705-A1",
          "EP-0726605-A2",
          "CA-2576084-A1",
          "AU-2002368305-A1",
          "EP-1869662-A1",
          "EP-1732727-A1",
          "EP-1425217-A1",
          "AU-2002338187-A1",
          "AU-7555000-A",
          "EP-0928478-A1",
          "EP-1190090-A2",
          "EP-0746839-A1",
          "US-20150315155-A1",
          "US-20100291148-A1",
          "EP-2705472-A1",
          "EP-2882448-A1",
          "EP-2435583-A1",
          "CA-2914794-A1",
          "WO-2019145840-A1",
          "US-20150279493-A1",
          "US-20140026634-A1",
          "WO-2016151144-A1",
          "EP-2045237-A1",
          "WO-2015173841-A9",
          "US-20100170008-A1",
          "EP-1644499-A2",
          "EP-1339422-A2",
          "EP-1368696-A1",
          "EP-1889352-A2",
          "EP-1831988-A2",
          "EP-1660078-A1",
          "US-20100009938-A1",
          "EP-1425636-A1",
          "EP-1506298-A1",
          "RU-2016104823-A",
          "EP-2552360-A1",
          "AU-1518702-A",
          "EP-2970879-A4",
          "WO-2014106869-A8",
          "FR-3012895-A1",
          "CA-2793046-A1",
          "FR-3031796-A1",
          "EP-2092636-A1",
          "EP-2558096-A1",
          "US-20160348749-A1",
          "WO-2016092139-A1",
          "CA-2576124-A1",
          "CA-2367993-A1",
          "AU-1679800-A",
          "EP-3194967-A1",
          "AU-7508094-A",
          "FR-3040790-A1",
          "WO-2016102586-A1",
          "AU-2002247964-A1",
          "AU-2002330362-A1",
          "AU-1822995-A",
          "EP-2032687-A1",
          "EP-0826040-A1",
          "AU-4981093-A",
          "US-20140301985-A1",
          "US-20160058798-A1",
          "EP-3393974-A1",
          "US-20180344342-A1",
          "US-20130090858-A1",
          "US-20120137392-A1",
          "US-20040078988-A1",
          "EP-1875923-A2",
          "EP-2560949-A1",
          "WO-2014091365-A1",
          "US-20140126030-A1",
          "EP-3134349-A1",
          "US-20150224172-A1",
          "US-20100038298-A1",
          "US-20100085122-A1",
          "EP-3296028-A1",
          "US-20070020758-A1",
          "EP-1910383-A1",
          "WO-2019145907-A1",
          "US-20180361010-A1",
          "EP-3405529-A1",
          "EP-3350599-A1",
          "EP-2580607-A1",
          "US-20130202648-A1",
          "US-20140172191-A1",
          "RU-2580246-C2",
          "WO-2014061048-A2",
          "WO-2014057511-A1",
          "US-20130035377-A1",
          "NZ-622427-A",
          "EP-2178602-A2",
          "EP-2212421-A2",
          "AU-2002220953-A1",
          "AU-2014228310-A1",
          "EP-2976433-A1",
          "EP-1443876-A2",
          "EP-1381882-A1",
          "CA-2763432-A1",
          "EP-2151497-A3",
          "EP-2151497-A2",
          "EP-1699901-A1",
          "AU-2002354599-A1",
          "US-20130089856-A1",
          "EP-2907142-A1",
          "US-20120045421-A1",
          "WO-2016097961-A1",
          "EP-2605671-A1",
          "EP-2465921-A2",
          "RU-2018122958-A",
          "EP-3423025-A1",
          "EP-2531203-A2",
          "US-20180118717-A1",
          "WO-2018116228-A1",
          "EP-1438082-A1",
          "EP-1501931-A2",
          "EP-1773496-A1",
          "EP-1828377-A2",
          "US-20120021019-A1",
          "US-20170261505-A1",
          "EP-2258863-A1",
          "WO-2014061048-A3",
          "US-20080218280-A1",
          "CA-3010110-A1",
          "EP-2054440-A2",
          "EP-2276413-A2",
          "AU-3539301-A",
          "US-20170214085-A1",
          "WO-2018050372-A1",
          "EP-3277676-A1",
          "WO-2014162304-A1",
          "EP-1837626-A3",
          "IN-2015KN03243-A",
          "EP-1833855-A2",
          "EP-0726605-A3",
          "EP-0714543-A1",
          "EP-1135502-A1",
          "US-20180245655-A1",
          "EP-2987011-A1",
          "WO-2017125388-A1",
          "EP-3512641-A1",
          "EP-0241435-A3",
          "AU-5385899-A",
          "NZ-600068-A",
          "US-20180256905-A1",
          "US-20150359499-A1",
          "FR-2935382-A1",
          "EP-2928003-A1",
          "WO-2017046410-A1",
          "EP-0682375-A1",
          "WO-2017064660-A1",
          "DE-3509421-A1",
          "EP-2811258-A1",
          "US-20120093879-A1",
          "EP-1400569-A2"
         ],
         "yaxis": "y"
        },
        {
         "alignmentgroup": "True",
         "bingroup": "x",
         "hoverlabel": {
          "namelength": 0
         },
         "hovertemplate": "filing_status=Grant<br>year=%{x}<br>count of id=%{y}",
         "legendgroup": "filing_status=Grant",
         "marker": {
          "color": "#EF553B"
         },
         "name": "filing_status=Grant",
         "offsetgroup": "filing_status=Grant",
         "orientation": "v",
         "showlegend": true,
         "type": "histogram",
         "uid": "6130290a-8ec7-45f6-bc90-58a8fee4c992",
         "x": [
          2008,
          2000,
          2002,
          1999,
          2015,
          2005,
          1999,
          1995,
          2013,
          2004,
          2012,
          2011,
          2005,
          2012,
          2002,
          2005,
          2001,
          2014,
          2014,
          2007,
          1997,
          2003,
          2010,
          2006,
          2004,
          2006,
          2000,
          2014,
          2010,
          2013,
          2008,
          2011,
          2009,
          2012,
          2004,
          1998,
          1995,
          2003,
          2000,
          1987,
          2008,
          2007,
          2003,
          1995,
          1998,
          2011,
          1996,
          1995,
          2005,
          2005,
          2005,
          2006,
          2001,
          2011,
          2011,
          2004,
          2010,
          1985,
          2005,
          2014,
          2004,
          2015,
          2008,
          2014,
          2004,
          2002,
          1998,
          2002,
          2006,
          2003,
          1999,
          2016,
          2015,
          2012,
          2012,
          2013,
          1998,
          1995,
          2013,
          2009,
          2007,
          1987,
          2014,
          2008,
          2009,
          2002,
          2002,
          2003,
          2002,
          2002,
          2002,
          2001,
          1995,
          2015,
          2002,
          2004,
          1993,
          2004,
          1997,
          1996,
          2003,
          2004,
          2000,
          2005,
          2002,
          2001,
          2008,
          2004,
          2005,
          2008,
          2012,
          2004,
          2003,
          2011,
          2009,
          2002,
          2003,
          2016,
          2015,
          2012,
          2009,
          2001,
          2001,
          2000,
          2008,
          2002,
          1987,
          2005,
          1987,
          2013,
          2004,
          2005,
          2004,
          2011,
          2014,
          2007,
          1993,
          2014,
          1989,
          2010,
          2014,
          2016,
          2001,
          2011,
          1999,
          2016,
          1996,
          2001,
          2000,
          2011,
          1996,
          2009,
          2004,
          2004,
          2007,
          2013,
          2014,
          2002,
          2001,
          2008,
          2000,
          2004,
          2010,
          1996,
          2011,
          1995,
          1998,
          2005,
          2005,
          2013,
          2000,
          2005,
          2001,
          2010,
          2012,
          2005,
          2003,
          1996,
          2002,
          1998,
          2015,
          1999,
          2004,
          1996,
          2003,
          2005,
          2008
         ],
         "xaxis": "x",
         "y": [
          "EP-2212421-B1",
          "DE-60028007-D1",
          "DE-60215843-D1",
          "AU-777037-B2",
          "US-9750770-B2",
          "US-7459298-B2",
          "DE-69923077-T2",
          "EP-0682375-B1",
          "US-9362013-B2",
          "CA-2793046-C",
          "EP-2710378-B1",
          "EP-2558096-B1",
          "EP-1807713-B1",
          "EP-2705472-B1",
          "US-7001762-B1",
          "GB-0513431-D0",
          "EP-1272659-B1",
          "US-10013282-B2",
          "EP-2981625-B1",
          "US-8253501-B2",
          "US-5963161-A",
          "EP-2151497-B1",
          "EP-2435582-B1",
          "EP-1910383-B1",
          "AU-2004256322-B2",
          "DE-602006009276-D1",
          "DE-60009098-D1",
          "US-9533013-B2",
          "US-9499823-B2",
          "US-9631692-B2",
          "EP-2195289-B1",
          "EP-2542916-B1",
          "EP-2928003-B1",
          "US-9360460-B2",
          "EP-1699901-B1",
          "EP-1017700-B1",
          "EP-0746839-B1",
          "EP-1400569-B1",
          "EP-1214397-B1",
          "EP-0241435-B1",
          "US-8304410-B2",
          "US-8093218-B2",
          "DE-60304529-D1",
          "DE-69523444-D1",
          "EP-0883194-B1",
          "US-8765820-B2",
          "US-6052106-A",
          "US-5557133-A",
          "US-7667550-B2",
          "EP-1718676-B1",
          "EP-1786895-B1",
          "EP-1893775-B1",
          "DE-60122942-D1",
          "IN-303602-B",
          "AU-2011244478-B2",
          "US-7947823-B2",
          "EP-2438172-B1",
          "DE-3510204-C2",
          "EP-1773496-B1",
          "US-9488778-B2",
          "EP-1615638-B1",
          "US-9791017-B2",
          "EP-2219548-B1",
          "US-9452987-B2",
          "EP-1644499-B1",
          "EP-1368616-B1",
          "DE-69802234-T2",
          "DE-60215843-T2",
          "US-7955816-B2",
          "AU-2003226461-A8",
          "DE-69923077-D1",
          "AU-2016210783-B2",
          "EP-3143428-B1",
          "US-9370973-B2",
          "EP-2736781-B1",
          "EP-2882448-B1",
          "US-6169284-B1",
          "DE-69523444-T2",
          "US-9717170-B2",
          "EP-2342172-B1",
          "EP-2032687-B1",
          "DE-3782844-T2",
          "EP-2976433-B1",
          "EP-2201205-B1",
          "US-7925124-B2",
          "EP-1381882-B1",
          "EP-1425636-B1",
          "AU-2003281302-A8",
          "DE-60214203-D1",
          "DE-60214692-T2",
          "DE-60214692-D1",
          "EP-1274674-B1",
          "DE-69503565-D1",
          "US-9991558-B2",
          "CA-2437889-C",
          "EP-1590842-B1",
          "DE-69327167-D1",
          "US-7285133-B2",
          "US-5994124-A",
          "US-5864836-A",
          "DE-60304529-T2",
          "DE-602004002584-T2",
          "DE-60009098-T2",
          "EP-1833855-B1",
          "DE-60229660-D1",
          "DE-60121312-D1",
          "EP-2125023-B1",
          "CA-2534378-C",
          "EP-1828733-B1",
          "US-8722038-B2",
          "EP-2742254-B1",
          "EP-1649012-B1",
          "EP-1501931-B1",
          "EP-2560949-B1",
          "US-8637734-B2",
          "EP-1438082-B1",
          "EP-1497026-B1",
          "EP-3201194-B1",
          "EP-3158584-B1",
          "EP-2736781-B8",
          "US-8927160-B2",
          "DE-60117770-T2",
          "EP-1425217-B1",
          "EP-1155122-B1",
          "FR-2935382-B1",
          "AU-2002358986-A8",
          "DE-3782844-D1",
          "EP-1807345-B1",
          "DE-241435-T1",
          "US-9827292-B2",
          "EP-1831681-B1",
          "EP-1684369-B1",
          "US-7896925-B2",
          "EP-2605671-B1",
          "EP-2987011-B1",
          "EP-1880702-B1",
          "EP-0656063-B1",
          "US-10059752-B2",
          "US-5166070-A",
          "EP-2435583-B1",
          "EP-2811258-B1",
          "EP-3259489-B1",
          "DE-60122942-T2",
          "US-8772030-B2",
          "EP-1124619-B1",
          "HK-1218430-A1",
          "DE-69613336-D1",
          "DE-60117770-D1",
          "DE-60028007-T2",
          "US-8846396-B2",
          "US-5841419-A",
          "EP-2334831-B1",
          "DE-602004002584-D1",
          "DE-602004029622-D1",
          "EP-2054440-B1",
          "EP-2909139-B1",
          "US-10093642-B2",
          "EP-1453494-B1",
          "EP-1339422-B1",
          "US-8845520-B2",
          "US-6337395-B1",
          "US-8268619-B2",
          "AU-2010313386-B2",
          "DE-69613336-T2",
          "CA-2797011-C",
          "DE-69503565-T2",
          "DE-69802234-D1",
          "DE-602005013195-D1",
          "EP-1732727-B1",
          "FR-3012895-B1",
          "AU-776057-B2",
          "DE-602005015474-D1",
          "DE-60125585-D1",
          "US-9034838-B2",
          "EP-2757879-B1",
          "EP-1831988-B1",
          "AU-2003231928-A8",
          "EP-0784094-B1",
          "EP-1443876-B1",
          "DE-69820089-D1",
          "EP-3134349-B1",
          "US-6388650-B1",
          "US-6819282-B1",
          "US-5682037-A",
          "US-6810594-B2",
          "US-7570195-B2",
          "US-8191204-B2"
         ],
         "yaxis": "y"
        }
       ],
       "layout": {
        "autosize": true,
        "barmode": "relative",
        "grid": {
         "xaxes": [
          "x"
         ],
         "xgap": 0.1,
         "xside": "bottom",
         "yaxes": [
          "y"
         ],
         "ygap": 0.1,
         "yside": "left"
        },
        "legend": {
         "tracegroupgap": 0
        },
        "margin": {
         "t": 60
        },
        "template": {
         "data": {
          "bar": [
           {
            "marker": {
             "line": {
              "color": "#E5ECF6",
              "width": 0.5
             }
            },
            "type": "bar"
           }
          ],
          "barpolar": [
           {
            "marker": {
             "line": {
              "color": "#E5ECF6",
              "width": 0.5
             }
            },
            "type": "barpolar"
           }
          ],
          "carpet": [
           {
            "aaxis": {
             "endlinecolor": "#2a3f5f",
             "gridcolor": "white",
             "linecolor": "white",
             "minorgridcolor": "white",
             "startlinecolor": "#2a3f5f"
            },
            "baxis": {
             "endlinecolor": "#2a3f5f",
             "gridcolor": "white",
             "linecolor": "white",
             "minorgridcolor": "white",
             "startlinecolor": "#2a3f5f"
            },
            "type": "carpet"
           }
          ],
          "choropleth": [
           {
            "colorbar": {
             "outlinewidth": 0,
             "ticks": ""
            },
            "type": "choropleth"
           }
          ],
          "contour": [
           {
            "colorbar": {
             "outlinewidth": 0,
             "ticks": ""
            },
            "colorscale": [
             [
              0,
              "#0508b8"
             ],
             [
              0.0893854748603352,
              "#1910d8"
             ],
             [
              0.1787709497206704,
              "#3c19f0"
             ],
             [
              0.2681564245810056,
              "#6b1cfb"
             ],
             [
              0.3575418994413408,
              "#981cfd"
             ],
             [
              0.44692737430167595,
              "#bf1cfd"
             ],
             [
              0.5363128491620112,
              "#dd2bfd"
             ],
             [
              0.6256983240223464,
              "#f246fe"
             ],
             [
              0.7150837988826816,
              "#fc67fd"
             ],
             [
              0.8044692737430168,
              "#fe88fc"
             ],
             [
              0.8938547486033519,
              "#fea5fd"
             ],
             [
              0.9832402234636871,
              "#febefe"
             ],
             [
              1,
              "#fec3fe"
             ]
            ],
            "type": "contour"
           }
          ],
          "contourcarpet": [
           {
            "colorbar": {
             "outlinewidth": 0,
             "ticks": ""
            },
            "type": "contourcarpet"
           }
          ],
          "heatmap": [
           {
            "colorbar": {
             "outlinewidth": 0,
             "ticks": ""
            },
            "colorscale": [
             [
              0,
              "#0508b8"
             ],
             [
              0.0893854748603352,
              "#1910d8"
             ],
             [
              0.1787709497206704,
              "#3c19f0"
             ],
             [
              0.2681564245810056,
              "#6b1cfb"
             ],
             [
              0.3575418994413408,
              "#981cfd"
             ],
             [
              0.44692737430167595,
              "#bf1cfd"
             ],
             [
              0.5363128491620112,
              "#dd2bfd"
             ],
             [
              0.6256983240223464,
              "#f246fe"
             ],
             [
              0.7150837988826816,
              "#fc67fd"
             ],
             [
              0.8044692737430168,
              "#fe88fc"
             ],
             [
              0.8938547486033519,
              "#fea5fd"
             ],
             [
              0.9832402234636871,
              "#febefe"
             ],
             [
              1,
              "#fec3fe"
             ]
            ],
            "type": "heatmap"
           }
          ],
          "heatmapgl": [
           {
            "colorbar": {
             "outlinewidth": 0,
             "ticks": ""
            },
            "type": "heatmapgl"
           }
          ],
          "histogram": [
           {
            "marker": {
             "colorbar": {
              "outlinewidth": 0,
              "ticks": ""
             }
            },
            "type": "histogram"
           }
          ],
          "histogram2d": [
           {
            "colorbar": {
             "outlinewidth": 0,
             "ticks": ""
            },
            "colorscale": [
             [
              0,
              "#0508b8"
             ],
             [
              0.0893854748603352,
              "#1910d8"
             ],
             [
              0.1787709497206704,
              "#3c19f0"
             ],
             [
              0.2681564245810056,
              "#6b1cfb"
             ],
             [
              0.3575418994413408,
              "#981cfd"
             ],
             [
              0.44692737430167595,
              "#bf1cfd"
             ],
             [
              0.5363128491620112,
              "#dd2bfd"
             ],
             [
              0.6256983240223464,
              "#f246fe"
             ],
             [
              0.7150837988826816,
              "#fc67fd"
             ],
             [
              0.8044692737430168,
              "#fe88fc"
             ],
             [
              0.8938547486033519,
              "#fea5fd"
             ],
             [
              0.9832402234636871,
              "#febefe"
             ],
             [
              1,
              "#fec3fe"
             ]
            ],
            "type": "histogram2d"
           }
          ],
          "histogram2dcontour": [
           {
            "colorbar": {
             "outlinewidth": 0,
             "ticks": ""
            },
            "colorscale": [
             [
              0,
              "#0508b8"
             ],
             [
              0.0893854748603352,
              "#1910d8"
             ],
             [
              0.1787709497206704,
              "#3c19f0"
             ],
             [
              0.2681564245810056,
              "#6b1cfb"
             ],
             [
              0.3575418994413408,
              "#981cfd"
             ],
             [
              0.44692737430167595,
              "#bf1cfd"
             ],
             [
              0.5363128491620112,
              "#dd2bfd"
             ],
             [
              0.6256983240223464,
              "#f246fe"
             ],
             [
              0.7150837988826816,
              "#fc67fd"
             ],
             [
              0.8044692737430168,
              "#fe88fc"
             ],
             [
              0.8938547486033519,
              "#fea5fd"
             ],
             [
              0.9832402234636871,
              "#febefe"
             ],
             [
              1,
              "#fec3fe"
             ]
            ],
            "type": "histogram2dcontour"
           }
          ],
          "mesh3d": [
           {
            "colorbar": {
             "outlinewidth": 0,
             "ticks": ""
            },
            "type": "mesh3d"
           }
          ],
          "parcoords": [
           {
            "line": {
             "colorbar": {
              "outlinewidth": 0,
              "ticks": ""
             }
            },
            "type": "parcoords"
           }
          ],
          "scatter": [
           {
            "marker": {
             "colorbar": {
              "outlinewidth": 0,
              "ticks": ""
             }
            },
            "type": "scatter"
           }
          ],
          "scatter3d": [
           {
            "marker": {
             "colorbar": {
              "outlinewidth": 0,
              "ticks": ""
             }
            },
            "type": "scatter3d"
           }
          ],
          "scattercarpet": [
           {
            "marker": {
             "colorbar": {
              "outlinewidth": 0,
              "ticks": ""
             }
            },
            "type": "scattercarpet"
           }
          ],
          "scattergeo": [
           {
            "marker": {
             "colorbar": {
              "outlinewidth": 0,
              "ticks": ""
             }
            },
            "type": "scattergeo"
           }
          ],
          "scattergl": [
           {
            "marker": {
             "colorbar": {
              "outlinewidth": 0,
              "ticks": ""
             }
            },
            "type": "scattergl"
           }
          ],
          "scattermapbox": [
           {
            "marker": {
             "colorbar": {
              "outlinewidth": 0,
              "ticks": ""
             }
            },
            "type": "scattermapbox"
           }
          ],
          "scatterpolar": [
           {
            "marker": {
             "colorbar": {
              "outlinewidth": 0,
              "ticks": ""
             }
            },
            "type": "scatterpolar"
           }
          ],
          "scatterpolargl": [
           {
            "marker": {
             "colorbar": {
              "outlinewidth": 0,
              "ticks": ""
             }
            },
            "type": "scatterpolargl"
           }
          ],
          "scatterternary": [
           {
            "marker": {
             "colorbar": {
              "outlinewidth": 0,
              "ticks": ""
             }
            },
            "type": "scatterternary"
           }
          ],
          "surface": [
           {
            "colorbar": {
             "outlinewidth": 0,
             "ticks": ""
            },
            "type": "surface"
           }
          ],
          "table": [
           {
            "cells": {
             "fill": {
              "color": "#EBF0F8"
             },
             "line": {
              "color": "white"
             }
            },
            "header": {
             "fill": {
              "color": "#C8D4E3"
             },
             "line": {
              "color": "white"
             }
            },
            "type": "table"
           }
          ]
         },
         "layout": {
          "annotationdefaults": {
           "arrowcolor": "#506784",
           "arrowhead": 0,
           "arrowwidth": 1
          },
          "colorscale": {
           "diverging": [
            [
             0,
             "#8e0152"
            ],
            [
             0.1,
             "#c51b7d"
            ],
            [
             0.2,
             "#de77ae"
            ],
            [
             0.3,
             "#f1b6da"
            ],
            [
             0.4,
             "#fde0ef"
            ],
            [
             0.5,
             "#f7f7f7"
            ],
            [
             0.6,
             "#e6f5d0"
            ],
            [
             0.7,
             "#b8e186"
            ],
            [
             0.8,
             "#7fbc41"
            ],
            [
             0.9,
             "#4d9221"
            ],
            [
             1,
             "#276419"
            ]
           ],
           "sequential": [
            [
             0,
             "#0508b8"
            ],
            [
             0.0893854748603352,
             "#1910d8"
            ],
            [
             0.1787709497206704,
             "#3c19f0"
            ],
            [
             0.2681564245810056,
             "#6b1cfb"
            ],
            [
             0.3575418994413408,
             "#981cfd"
            ],
            [
             0.44692737430167595,
             "#bf1cfd"
            ],
            [
             0.5363128491620112,
             "#dd2bfd"
            ],
            [
             0.6256983240223464,
             "#f246fe"
            ],
            [
             0.7150837988826816,
             "#fc67fd"
            ],
            [
             0.8044692737430168,
             "#fe88fc"
            ],
            [
             0.8938547486033519,
             "#fea5fd"
            ],
            [
             0.9832402234636871,
             "#febefe"
            ],
            [
             1,
             "#fec3fe"
            ]
           ],
           "sequentialminus": [
            [
             0,
             "#0508b8"
            ],
            [
             0.0893854748603352,
             "#1910d8"
            ],
            [
             0.1787709497206704,
             "#3c19f0"
            ],
            [
             0.2681564245810056,
             "#6b1cfb"
            ],
            [
             0.3575418994413408,
             "#981cfd"
            ],
            [
             0.44692737430167595,
             "#bf1cfd"
            ],
            [
             0.5363128491620112,
             "#dd2bfd"
            ],
            [
             0.6256983240223464,
             "#f246fe"
            ],
            [
             0.7150837988826816,
             "#fc67fd"
            ],
            [
             0.8044692737430168,
             "#fe88fc"
            ],
            [
             0.8938547486033519,
             "#fea5fd"
            ],
            [
             0.9832402234636871,
             "#febefe"
            ],
            [
             1,
             "#fec3fe"
            ]
           ]
          },
          "colorway": [
           "#636efa",
           "#EF553B",
           "#00cc96",
           "#ab63fa",
           "#19d3f3",
           "#e763fa",
           "#FECB52",
           "#FFA15A",
           "#FF6692",
           "#B6E880"
          ],
          "font": {
           "color": "#2a3f5f"
          },
          "geo": {
           "bgcolor": "white",
           "lakecolor": "white",
           "landcolor": "#E5ECF6",
           "showlakes": true,
           "showland": true,
           "subunitcolor": "white"
          },
          "hoverlabel": {
           "align": "left"
          },
          "hovermode": "closest",
          "mapbox": {
           "style": "light"
          },
          "paper_bgcolor": "white",
          "plot_bgcolor": "#E5ECF6",
          "polar": {
           "angularaxis": {
            "gridcolor": "white",
            "linecolor": "white",
            "ticks": ""
           },
           "bgcolor": "#E5ECF6",
           "radialaxis": {
            "gridcolor": "white",
            "linecolor": "white",
            "ticks": ""
           }
          },
          "scene": {
           "xaxis": {
            "backgroundcolor": "#E5ECF6",
            "gridcolor": "white",
            "gridwidth": 2,
            "linecolor": "white",
            "showbackground": true,
            "ticks": "",
            "zerolinecolor": "white"
           },
           "yaxis": {
            "backgroundcolor": "#E5ECF6",
            "gridcolor": "white",
            "gridwidth": 2,
            "linecolor": "white",
            "showbackground": true,
            "ticks": "",
            "zerolinecolor": "white"
           },
           "zaxis": {
            "backgroundcolor": "#E5ECF6",
            "gridcolor": "white",
            "gridwidth": 2,
            "linecolor": "white",
            "showbackground": true,
            "ticks": "",
            "zerolinecolor": "white"
           }
          },
          "shapedefaults": {
           "fillcolor": "#506784",
           "line": {
            "width": 0
           },
           "opacity": 0.4
          },
          "ternary": {
           "aaxis": {
            "gridcolor": "white",
            "linecolor": "white",
            "ticks": ""
           },
           "baxis": {
            "gridcolor": "white",
            "linecolor": "white",
            "ticks": ""
           },
           "bgcolor": "#E5ECF6",
           "caxis": {
            "gridcolor": "white",
            "linecolor": "white",
            "ticks": ""
           }
          },
          "title": {
           "x": 0.05
          },
          "xaxis": {
           "automargin": true,
           "gridcolor": "white",
           "linecolor": "white",
           "ticks": "",
           "zerolinecolor": "white",
           "zerolinewidth": 2
          },
          "yaxis": {
           "automargin": true,
           "gridcolor": "white",
           "linecolor": "white",
           "ticks": "",
           "zerolinecolor": "white",
           "zerolinewidth": 2
          }
         }
        },
        "xaxis": {
         "autorange": true,
         "range": [
          1983.5,
          2019.5
         ],
         "title": {
          "text": "year"
         },
         "type": "linear"
        },
        "yaxis": {
         "autorange": true,
         "range": [
          0,
          77.89473684210526
         ],
         "title": {
          "text": "count of id"
         },
         "type": "linear"
        }
       }
      },
      "image/png": "[encoded data removed]",
      "text/html": [
       "<div>\n",
       "        \n",
       "        \n",
       "            <div id=\"e4b35115-3c0e-4a3a-b96f-10ca9b5b6323\" class=\"plotly-graph-div\" style=\"height:600px; width:100%;\"></div>\n",
       "            <script type=\"text/javascript\">\n",
       "                require([\"plotly\"], function(Plotly) {\n",
       "                    window.PLOTLYENV=window.PLOTLYENV || {};\n",
       "                    window.PLOTLYENV.BASE_URL='https://plot.ly';\n",
       "                    \n",
       "                if (document.getElementById(\"e4b35115-3c0e-4a3a-b96f-10ca9b5b6323\")) {\n",
       "                    Plotly.newPlot(\n",
       "                        'e4b35115-3c0e-4a3a-b96f-10ca9b5b6323',\n",
       "                        [{\"alignmentgroup\": \"True\", \"bingroup\": \"x\", \"hoverlabel\": {\"namelength\": 0}, \"hovertemplate\": \"filing_status=Application<br>year=%{x}<br>count of id=%{y}\", \"legendgroup\": \"filing_status=Application\", \"marker\": {\"color\": \"#636efa\"}, \"name\": \"filing_status=Application\", \"offsetgroup\": \"filing_status=Application\", \"orientation\": \"v\", \"showlegend\": true, \"type\": \"histogram\", \"uid\": \"07aef428-020a-4c0c-a16a-caea9b95dca2\", \"x\": [2007, 2018, 2018, 2008, 2006, 2007, 2009, 2011, 2011, 2015, 2016, 2010, 2008, 2004, 2016, 2018, 2005, 1996, 2010, 2014, 2011, 2014, 2016, 2011, 2016, 1996, 2018, 2018, 2016, 1999, 2004, 2006, 2005, 2013, 2004, 1998, 2013, 2012, 2016, 2009, 2009, 2004, 1996, 2008, 2005, 2017, 2011, 2001, 2016, 2016, 2016, 2016, 2012, 2001, 2001, 2002, 2014, 2005, 2014, 2006, 2012, 1996, 2016, 2016, 2008, 2012, 2012, 2010, 2010, 2005, 2014, 1998, 1999, 1999, 1999, 2004, 2004, 2001, 2001, 2001, 2000, 2001, 2003, 2003, 2003, 2005, 2005, 2004, 2005, 2005, 2004, 2000, 2007, 2008, 2016, 2016, 1987, 2016, 2016, 2014, 2008, 2019, 2004, 2010, 2004, 2006, 2000, 2008, 2010, 2009, 2008, 2014, 2016, 2013, 2001, 2002, 2010, 2014, 2012, 2007, 2009, 2016, 2014, 2013, 2012, 2008, 2018, 2002, 2016, 1993, 2000, 2004, 2005, 2001, 2016, 2002, 2013, 2013, 2009, 2017, 2003, 2016, 2001, 2011, 2003, 2011, 2011, 2012, 2016, 1999, 1997, 2015, 2013, 2007, 2015, 2000, 2000, 2012, 2016, 2017, 2009, 2008, 2003, 2002, 2001, 2003, 2006, 2011, 2014, 2014, 2008, 2011, 2015, 2001, 1985, 2004, 2011, 2017, 2014, 2007, 2002, 2005, 2006, 2005, 2005, 2007, 2012, 2001, 2018, 2010, 2014, 2007, 2010, 2014, 2001, 2000, 2010, 2009, 2009, 2016, 2016, 2016, 2001, 2001, 2014, 2001, 2017, 2016, 2007, 2015, 2016, 2018, 2010, 2010, 2014, 2008, 2004, 2015, 2015, 1996, 2005, 2002, 2006, 2005, 2001, 2002, 2000, 1997, 2000, 1995, 2014, 2005, 2012, 2013, 2010, 2014, 2019, 2013, 2012, 2016, 2007, 2015, 2009, 2004, 2001, 2002, 2006, 2005, 2004, 2007, 2002, 2003, 2010, 2011, 2001, 2014, 2014, 2013, 2004, 2015, 2007, 2011, 2015, 2015, 2005, 2002, 1999, 2015, 1994, 2015, 2015, 2002, 2002, 1995, 2007, 1996, 1993, 2014, 2015, 2016, 2016, 2011, 2010, 2003, 2007, 2011, 2013, 2012, 2015, 2013, 2007, 2007, 2016, 2004, 2006, 2019, 2018, 2017, 2016, 2011, 2013, 2012, 2010, 2013, 2013, 2011, 2010, 2008, 2008, 2001, 2014, 2014, 2002, 2002, 2010, 2003, 2003, 2004, 2002, 2011, 2013, 2011, 2015, 2011, 2004, 2014, 2017, 2011, 2016, 2017, 2002, 2003, 2005, 2005, 2011, 2015, 2009, 2013, 2005, 2016, 2007, 2009, 2001, 2015, 2017, 2016, 2014, 2006, 2015, 2005, 1996, 1994, 1999, 2016, 2014, 2017, 2017, 1987, 1999, 2010, 2018, 2014, 2008, 2009, 2016, 1995, 2016, 1985, 2014, 2011, 2003], \"xaxis\": \"x\", \"y\": [\"CA-2659681-A1\", \"WO-2019111142-A1\", \"WO-2018187439-A1\", \"EP-2195289-A2\", \"EP-2013217-A1\", \"US-20090036382-A1\", \"EP-2323751-A2\", \"EP-2529195-A1\", \"CA-2797011-A1\", \"EP-3186201-A1\", \"WO-2016181271-A1\", \"EP-2438172-A1\", \"EP-2106546-A1\", \"CA-2534378-A1\", \"EP-3310863-A1\", \"US-20180295834-A1\", \"EP-1807713-A2\", \"AU-5777696-A\", \"NZ-709124-A\", \"US-20160060718-A1\", \"EP-2593820-A1\", \"EP-2951612-A2\", \"EP-3363183-A1\", \"US-20120020935-A1\", \"WO-2017109693-A1\", \"AU-4354896-A\", \"WO-2018220597-A1\", \"WO-2019058325-A1\", \"US-20180302504-A1\", \"US-20020044125-A1\", \"EP-1831681-A1\", \"EP-1837626-A2\", \"EP-1718676-A1\", \"US-20140008162-A1\", \"US-20040243234-A1\", \"EP-0883194-A1\", \"WO-2014076645-A1\", \"EP-2757879-A1\", \"US-20190016686-A1\", \"WO-2010023413-A1\", \"US-20090317032-A1\", \"US-20050021149-A1\", \"EP-0784094-A1\", \"US-20080279840-A1\", \"EP-1684369-A1\", \"US-20190091109-A1\", \"AU-2011244478-A1\", \"AU-2189702-A\", \"WO-2016181271-A8\", \"WO-2017021933-A1\", \"WO-2016116450-A3\", \"AU-2016210783-A1\", \"EP-2696191-A4\", \"AU-2002222139-A1\", \"AU-2002221897-A1\", \"AU-2002241244-A1\", \"RU-2015143617-A\", \"EP-1828245-A2\", \"EP-2970879-A1\", \"IN-2006DN00049-A\", \"IN-2012KN01230-A\", \"RU-96119929-A\", \"AU-2016337678-A1\", \"US-20160244723-A1\", \"US-20110028988-A1\", \"EP-2710378-A1\", \"EP-2742254-A1\", \"EP-2435582-A1\", \"EP-2399263-A1\", \"US-20080199900-A1\", \"US-20150104492-A1\", \"EP-1017700-A1\", \"CA-2353087-A1\", \"EP-1124619-A1\", \"EP-1098845-A2\", \"EP-1590842-A2\", \"CA-2532019-A1\", \"CA-2430291-A1\", \"AU-5255501-A\", \"EP-1274674-A1\", \"EP-1155122-A1\", \"EP-1272659-A1\", \"EP-1400569-A3\", \"EP-1520027-A1\", \"AU-2003281302-A1\", \"EP-1807345-A1\", \"EP-1828733-A1\", \"EP-1615638-A1\", \"EP-1789532-A1\", \"EP-1866626-A1\", \"EP-1690096-A1\", \"AU-3189700-A\", \"EP-2115174-A2\", \"EP-2114542-A2\", \"EP-3289799-A1\", \"EP-3201194-A1\", \"EP-0241435-A2\", \"US-20180179779-A1\", \"EP-3259489-A2\", \"EP-2981625-A1\", \"US-20110009468-A1\", \"WO-2019149962-A1\", \"US-20040115189-A1\", \"US-20120129920-A1\", \"US-20060217327-A1\", \"US-20090078519-A1\", \"EP-1146128-A1\", \"EP-2201205-A1\", \"AU-2010252075-A1\", \"EP-2342172-A1\", \"EP-2160779-A2\", \"EP-3013331-A1\", \"WO-2017051440-A1\", \"WO-2014072883-A1\", \"AU-2002219505-A1\", \"AU-2002237513-A1\", \"EP-2494033-A4\", \"CA-2904140-A1\", \"WO-2012136874-A1\", \"EP-1875923-A3\", \"CA-2732942-A1\", \"WO-2016207804-A1\", \"US-20160368886-A1\", \"EP-2916794-A1\", \"EP-2858644-A1\", \"EP-2125023-A2\", \"IN-201838034102-A\", \"US-20030066670-A1\", \"US-20180171160-A1\", \"EP-0656063-A1\", \"EP-1214397-A2\", \"AU-2004256322-A1\", \"EP-1786895-A2\", \"AU-5255301-A\", \"EP-3353360-A1\", \"CA-2437889-A1\", \"EP-2713364-A1\", \"US-20150305212-A1\", \"EP-2204451-A1\", \"WO-2018109729-A1\", \"EP-1497026-A2\", \"WO-2017021992-A1\", \"EP-1167305-A2\", \"US-20130143469-A1\", \"US-20030166721-A1\", \"US-20130114133-A1\", \"US-20130053686-A1\", \"EP-2696191-A1\", \"WO-2017046706-A1\", \"AU-4366399-A\", \"AU-4636997-A\", \"US-20170233271-A1\", \"EP-2909139-A2\", \"EP-2064556-A2\", \"US-20170079609-A1\", \"CA-2385424-A1\", \"CA-2362203-A1\", \"IN-2012MN02335-A\", \"WO-2017064661-A1\", \"WO-2018122689-A1\", \"US-20110179714-A1\", \"US-20100325840-A1\", \"AU-2003226461-A1\", \"EP-1368616-A1\", \"EP-1410560-A1\", \"AU-2003234070-A1\", \"EP-1893775-A2\", \"EP-2521527-A1\", \"EP-3066565-A1\", \"EP-2772801-A1\", \"EP-2219548-A2\", \"US-20120288540-A1\", \"EP-3143428-A2\", \"AU-3049801-A\", \"DE-3510204-A1\", \"EP-2465921-A3\", \"EP-2542916-A1\", \"WO-2017149474-A1\", \"US-20140354635-A1\", \"EP-1880702-A2\", \"EP-1453494-A2\", \"US-20060084062-A1\", \"EP-1917234-A1\", \"EP-1782146-A2\", \"US-20090038022-A1\", \"EP-1880702-A3\", \"EP-2736781-A1\", \"EP-1326620-A1\", \"WO-2019110325-A1\", \"US-20120115150-A1\", \"US-20160054522-A1\", \"EP-2121179-A1\", \"RU-2012121428-A\", \"WO-2014170872-A1\", \"CA-2425514-A1\", \"AU-5812700-A\", \"CA-2779144-A1\", \"EP-2334831-A1\", \"EP-2334630-A2\", \"EP-3247940-A2\", \"WO-2017008816-A1\", \"WO-2017021992-A8\", \"AU-2001230498-A1\", \"AU-2002215187-A1\", \"WO-2014143632-A1\", \"EP-1167305-A3\", \"WO-2017178954-A1\", \"WO-2017051440-A8\", \"US-20090312266-A1\", \"EP-3102444-A1\", \"US-20180302172-A1\", \"EP-3495821-A1\", \"AU-2010313386-A1\", \"EP-2494033-A1\", \"US-20160274938-A1\", \"US-20100197672-A1\", \"EP-1649012-A1\", \"EP-3158584-A1\", \"US-20180002705-A1\", \"EP-0726605-A2\", \"CA-2576084-A1\", \"AU-2002368305-A1\", \"EP-1869662-A1\", \"EP-1732727-A1\", \"EP-1425217-A1\", \"AU-2002338187-A1\", \"AU-7555000-A\", \"EP-0928478-A1\", \"EP-1190090-A2\", \"EP-0746839-A1\", \"US-20150315155-A1\", \"US-20100291148-A1\", \"EP-2705472-A1\", \"EP-2882448-A1\", \"EP-2435583-A1\", \"CA-2914794-A1\", \"WO-2019145840-A1\", \"US-20150279493-A1\", \"US-20140026634-A1\", \"WO-2016151144-A1\", \"EP-2045237-A1\", \"WO-2015173841-A9\", \"US-20100170008-A1\", \"EP-1644499-A2\", \"EP-1339422-A2\", \"EP-1368696-A1\", \"EP-1889352-A2\", \"EP-1831988-A2\", \"EP-1660078-A1\", \"US-20100009938-A1\", \"EP-1425636-A1\", \"EP-1506298-A1\", \"RU-2016104823-A\", \"EP-2552360-A1\", \"AU-1518702-A\", \"EP-2970879-A4\", \"WO-2014106869-A8\", \"FR-3012895-A1\", \"CA-2793046-A1\", \"FR-3031796-A1\", \"EP-2092636-A1\", \"EP-2558096-A1\", \"US-20160348749-A1\", \"WO-2016092139-A1\", \"CA-2576124-A1\", \"CA-2367993-A1\", \"AU-1679800-A\", \"EP-3194967-A1\", \"AU-7508094-A\", \"FR-3040790-A1\", \"WO-2016102586-A1\", \"AU-2002247964-A1\", \"AU-2002330362-A1\", \"AU-1822995-A\", \"EP-2032687-A1\", \"EP-0826040-A1\", \"AU-4981093-A\", \"US-20140301985-A1\", \"US-20160058798-A1\", \"EP-3393974-A1\", \"US-20180344342-A1\", \"US-20130090858-A1\", \"US-20120137392-A1\", \"US-20040078988-A1\", \"EP-1875923-A2\", \"EP-2560949-A1\", \"WO-2014091365-A1\", \"US-20140126030-A1\", \"EP-3134349-A1\", \"US-20150224172-A1\", \"US-20100038298-A1\", \"US-20100085122-A1\", \"EP-3296028-A1\", \"US-20070020758-A1\", \"EP-1910383-A1\", \"WO-2019145907-A1\", \"US-20180361010-A1\", \"EP-3405529-A1\", \"EP-3350599-A1\", \"EP-2580607-A1\", \"US-20130202648-A1\", \"US-20140172191-A1\", \"RU-2580246-C2\", \"WO-2014061048-A2\", \"WO-2014057511-A1\", \"US-20130035377-A1\", \"NZ-622427-A\", \"EP-2178602-A2\", \"EP-2212421-A2\", \"AU-2002220953-A1\", \"AU-2014228310-A1\", \"EP-2976433-A1\", \"EP-1443876-A2\", \"EP-1381882-A1\", \"CA-2763432-A1\", \"EP-2151497-A3\", \"EP-2151497-A2\", \"EP-1699901-A1\", \"AU-2002354599-A1\", \"US-20130089856-A1\", \"EP-2907142-A1\", \"US-20120045421-A1\", \"WO-2016097961-A1\", \"EP-2605671-A1\", \"EP-2465921-A2\", \"RU-2018122958-A\", \"EP-3423025-A1\", \"EP-2531203-A2\", \"US-20180118717-A1\", \"WO-2018116228-A1\", \"EP-1438082-A1\", \"EP-1501931-A2\", \"EP-1773496-A1\", \"EP-1828377-A2\", \"US-20120021019-A1\", \"US-20170261505-A1\", \"EP-2258863-A1\", \"WO-2014061048-A3\", \"US-20080218280-A1\", \"CA-3010110-A1\", \"EP-2054440-A2\", \"EP-2276413-A2\", \"AU-3539301-A\", \"US-20170214085-A1\", \"WO-2018050372-A1\", \"EP-3277676-A1\", \"WO-2014162304-A1\", \"EP-1837626-A3\", \"IN-2015KN03243-A\", \"EP-1833855-A2\", \"EP-0726605-A3\", \"EP-0714543-A1\", \"EP-1135502-A1\", \"US-20180245655-A1\", \"EP-2987011-A1\", \"WO-2017125388-A1\", \"EP-3512641-A1\", \"EP-0241435-A3\", \"AU-5385899-A\", \"NZ-600068-A\", \"US-20180256905-A1\", \"US-20150359499-A1\", \"FR-2935382-A1\", \"EP-2928003-A1\", \"WO-2017046410-A1\", \"EP-0682375-A1\", \"WO-2017064660-A1\", \"DE-3509421-A1\", \"EP-2811258-A1\", \"US-20120093879-A1\", \"EP-1400569-A2\"], \"yaxis\": \"y\"}, {\"alignmentgroup\": \"True\", \"bingroup\": \"x\", \"hoverlabel\": {\"namelength\": 0}, \"hovertemplate\": \"filing_status=Grant<br>year=%{x}<br>count of id=%{y}\", \"legendgroup\": \"filing_status=Grant\", \"marker\": {\"color\": \"#EF553B\"}, \"name\": \"filing_status=Grant\", \"offsetgroup\": \"filing_status=Grant\", \"orientation\": \"v\", \"showlegend\": true, \"type\": \"histogram\", \"uid\": \"6130290a-8ec7-45f6-bc90-58a8fee4c992\", \"x\": [2008, 2000, 2002, 1999, 2015, 2005, 1999, 1995, 2013, 2004, 2012, 2011, 2005, 2012, 2002, 2005, 2001, 2014, 2014, 2007, 1997, 2003, 2010, 2006, 2004, 2006, 2000, 2014, 2010, 2013, 2008, 2011, 2009, 2012, 2004, 1998, 1995, 2003, 2000, 1987, 2008, 2007, 2003, 1995, 1998, 2011, 1996, 1995, 2005, 2005, 2005, 2006, 2001, 2011, 2011, 2004, 2010, 1985, 2005, 2014, 2004, 2015, 2008, 2014, 2004, 2002, 1998, 2002, 2006, 2003, 1999, 2016, 2015, 2012, 2012, 2013, 1998, 1995, 2013, 2009, 2007, 1987, 2014, 2008, 2009, 2002, 2002, 2003, 2002, 2002, 2002, 2001, 1995, 2015, 2002, 2004, 1993, 2004, 1997, 1996, 2003, 2004, 2000, 2005, 2002, 2001, 2008, 2004, 2005, 2008, 2012, 2004, 2003, 2011, 2009, 2002, 2003, 2016, 2015, 2012, 2009, 2001, 2001, 2000, 2008, 2002, 1987, 2005, 1987, 2013, 2004, 2005, 2004, 2011, 2014, 2007, 1993, 2014, 1989, 2010, 2014, 2016, 2001, 2011, 1999, 2016, 1996, 2001, 2000, 2011, 1996, 2009, 2004, 2004, 2007, 2013, 2014, 2002, 2001, 2008, 2000, 2004, 2010, 1996, 2011, 1995, 1998, 2005, 2005, 2013, 2000, 2005, 2001, 2010, 2012, 2005, 2003, 1996, 2002, 1998, 2015, 1999, 2004, 1996, 2003, 2005, 2008], \"xaxis\": \"x\", \"y\": [\"EP-2212421-B1\", \"DE-60028007-D1\", \"DE-60215843-D1\", \"AU-777037-B2\", \"US-9750770-B2\", \"US-7459298-B2\", \"DE-69923077-T2\", \"EP-0682375-B1\", \"US-9362013-B2\", \"CA-2793046-C\", \"EP-2710378-B1\", \"EP-2558096-B1\", \"EP-1807713-B1\", \"EP-2705472-B1\", \"US-7001762-B1\", \"GB-0513431-D0\", \"EP-1272659-B1\", \"US-10013282-B2\", \"EP-2981625-B1\", \"US-8253501-B2\", \"US-5963161-A\", \"EP-2151497-B1\", \"EP-2435582-B1\", \"EP-1910383-B1\", \"AU-2004256322-B2\", \"DE-602006009276-D1\", \"DE-60009098-D1\", \"US-9533013-B2\", \"US-9499823-B2\", \"US-9631692-B2\", \"EP-2195289-B1\", \"EP-2542916-B1\", \"EP-2928003-B1\", \"US-9360460-B2\", \"EP-1699901-B1\", \"EP-1017700-B1\", \"EP-0746839-B1\", \"EP-1400569-B1\", \"EP-1214397-B1\", \"EP-0241435-B1\", \"US-8304410-B2\", \"US-8093218-B2\", \"DE-60304529-D1\", \"DE-69523444-D1\", \"EP-0883194-B1\", \"US-8765820-B2\", \"US-6052106-A\", \"US-5557133-A\", \"US-7667550-B2\", \"EP-1718676-B1\", \"EP-1786895-B1\", \"EP-1893775-B1\", \"DE-60122942-D1\", \"IN-303602-B\", \"AU-2011244478-B2\", \"US-7947823-B2\", \"EP-2438172-B1\", \"DE-3510204-C2\", \"EP-1773496-B1\", \"US-9488778-B2\", \"EP-1615638-B1\", \"US-9791017-B2\", \"EP-2219548-B1\", \"US-9452987-B2\", \"EP-1644499-B1\", \"EP-1368616-B1\", \"DE-69802234-T2\", \"DE-60215843-T2\", \"US-7955816-B2\", \"AU-2003226461-A8\", \"DE-69923077-D1\", \"AU-2016210783-B2\", \"EP-3143428-B1\", \"US-9370973-B2\", \"EP-2736781-B1\", \"EP-2882448-B1\", \"US-6169284-B1\", \"DE-69523444-T2\", \"US-9717170-B2\", \"EP-2342172-B1\", \"EP-2032687-B1\", \"DE-3782844-T2\", \"EP-2976433-B1\", \"EP-2201205-B1\", \"US-7925124-B2\", \"EP-1381882-B1\", \"EP-1425636-B1\", \"AU-2003281302-A8\", \"DE-60214203-D1\", \"DE-60214692-T2\", \"DE-60214692-D1\", \"EP-1274674-B1\", \"DE-69503565-D1\", \"US-9991558-B2\", \"CA-2437889-C\", \"EP-1590842-B1\", \"DE-69327167-D1\", \"US-7285133-B2\", \"US-5994124-A\", \"US-5864836-A\", \"DE-60304529-T2\", \"DE-602004002584-T2\", \"DE-60009098-T2\", \"EP-1833855-B1\", \"DE-60229660-D1\", \"DE-60121312-D1\", \"EP-2125023-B1\", \"CA-2534378-C\", \"EP-1828733-B1\", \"US-8722038-B2\", \"EP-2742254-B1\", \"EP-1649012-B1\", \"EP-1501931-B1\", \"EP-2560949-B1\", \"US-8637734-B2\", \"EP-1438082-B1\", \"EP-1497026-B1\", \"EP-3201194-B1\", \"EP-3158584-B1\", \"EP-2736781-B8\", \"US-8927160-B2\", \"DE-60117770-T2\", \"EP-1425217-B1\", \"EP-1155122-B1\", \"FR-2935382-B1\", \"AU-2002358986-A8\", \"DE-3782844-D1\", \"EP-1807345-B1\", \"DE-241435-T1\", \"US-9827292-B2\", \"EP-1831681-B1\", \"EP-1684369-B1\", \"US-7896925-B2\", \"EP-2605671-B1\", \"EP-2987011-B1\", \"EP-1880702-B1\", \"EP-0656063-B1\", \"US-10059752-B2\", \"US-5166070-A\", \"EP-2435583-B1\", \"EP-2811258-B1\", \"EP-3259489-B1\", \"DE-60122942-T2\", \"US-8772030-B2\", \"EP-1124619-B1\", \"HK-1218430-A1\", \"DE-69613336-D1\", \"DE-60117770-D1\", \"DE-60028007-T2\", \"US-8846396-B2\", \"US-5841419-A\", \"EP-2334831-B1\", \"DE-602004002584-D1\", \"DE-602004029622-D1\", \"EP-2054440-B1\", \"EP-2909139-B1\", \"US-10093642-B2\", \"EP-1453494-B1\", \"EP-1339422-B1\", \"US-8845520-B2\", \"US-6337395-B1\", \"US-8268619-B2\", \"AU-2010313386-B2\", \"DE-69613336-T2\", \"CA-2797011-C\", \"DE-69503565-T2\", \"DE-69802234-D1\", \"DE-602005013195-D1\", \"EP-1732727-B1\", \"FR-3012895-B1\", \"AU-776057-B2\", \"DE-602005015474-D1\", \"DE-60125585-D1\", \"US-9034838-B2\", \"EP-2757879-B1\", \"EP-1831988-B1\", \"AU-2003231928-A8\", \"EP-0784094-B1\", \"EP-1443876-B1\", \"DE-69820089-D1\", \"EP-3134349-B1\", \"US-6388650-B1\", \"US-6819282-B1\", \"US-5682037-A\", \"US-6810594-B2\", \"US-7570195-B2\", \"US-8191204-B2\"], \"yaxis\": \"y\"}],\n",
       "                        {\"barmode\": \"relative\", \"grid\": {\"xaxes\": [\"x\"], \"xgap\": 0.1, \"xside\": \"bottom\", \"yaxes\": [\"y\"], \"ygap\": 0.1, \"yside\": \"left\"}, \"height\": 600, \"legend\": {\"tracegroupgap\": 0}, \"margin\": {\"t\": 60}, \"template\": {\"data\": {\"bar\": [{\"marker\": {\"line\": {\"color\": \"#E5ECF6\", \"width\": 0.5}}, \"type\": \"bar\"}], \"barpolar\": [{\"marker\": {\"line\": {\"color\": \"#E5ECF6\", \"width\": 0.5}}, \"type\": \"barpolar\"}], \"carpet\": [{\"aaxis\": {\"endlinecolor\": \"#2a3f5f\", \"gridcolor\": \"white\", \"linecolor\": \"white\", \"minorgridcolor\": \"white\", \"startlinecolor\": \"#2a3f5f\"}, \"baxis\": {\"endlinecolor\": \"#2a3f5f\", \"gridcolor\": \"white\", \"linecolor\": \"white\", \"minorgridcolor\": \"white\", \"startlinecolor\": \"#2a3f5f\"}, \"type\": \"carpet\"}], \"choropleth\": [{\"colorbar\": {\"outlinewidth\": 0, \"ticks\": \"\"}, \"type\": \"choropleth\"}], \"contour\": [{\"colorbar\": {\"outlinewidth\": 0, \"ticks\": \"\"}, \"colorscale\": [[0.0, \"#0508b8\"], [0.0893854748603352, \"#1910d8\"], [0.1787709497206704, \"#3c19f0\"], [0.2681564245810056, \"#6b1cfb\"], [0.3575418994413408, \"#981cfd\"], [0.44692737430167595, \"#bf1cfd\"], [0.5363128491620112, \"#dd2bfd\"], [0.6256983240223464, \"#f246fe\"], [0.7150837988826816, \"#fc67fd\"], [0.8044692737430168, \"#fe88fc\"], [0.8938547486033519, \"#fea5fd\"], [0.9832402234636871, \"#febefe\"], [1.0, \"#fec3fe\"]], \"type\": \"contour\"}], \"contourcarpet\": [{\"colorbar\": {\"outlinewidth\": 0, \"ticks\": \"\"}, \"type\": \"contourcarpet\"}], \"heatmap\": [{\"colorbar\": {\"outlinewidth\": 0, \"ticks\": \"\"}, \"colorscale\": [[0.0, \"#0508b8\"], [0.0893854748603352, \"#1910d8\"], [0.1787709497206704, \"#3c19f0\"], [0.2681564245810056, \"#6b1cfb\"], [0.3575418994413408, \"#981cfd\"], [0.44692737430167595, \"#bf1cfd\"], [0.5363128491620112, \"#dd2bfd\"], [0.6256983240223464, \"#f246fe\"], [0.7150837988826816, \"#fc67fd\"], [0.8044692737430168, \"#fe88fc\"], [0.8938547486033519, \"#fea5fd\"], [0.9832402234636871, \"#febefe\"], [1.0, \"#fec3fe\"]], \"type\": \"heatmap\"}], \"heatmapgl\": [{\"colorbar\": {\"outlinewidth\": 0, \"ticks\": \"\"}, \"type\": \"heatmapgl\"}], \"histogram\": [{\"marker\": {\"colorbar\": {\"outlinewidth\": 0, \"ticks\": \"\"}}, \"type\": \"histogram\"}], \"histogram2d\": [{\"colorbar\": {\"outlinewidth\": 0, \"ticks\": \"\"}, \"colorscale\": [[0.0, \"#0508b8\"], [0.0893854748603352, \"#1910d8\"], [0.1787709497206704, \"#3c19f0\"], [0.2681564245810056, \"#6b1cfb\"], [0.3575418994413408, \"#981cfd\"], [0.44692737430167595, \"#bf1cfd\"], [0.5363128491620112, \"#dd2bfd\"], [0.6256983240223464, \"#f246fe\"], [0.7150837988826816, \"#fc67fd\"], [0.8044692737430168, \"#fe88fc\"], [0.8938547486033519, \"#fea5fd\"], [0.9832402234636871, \"#febefe\"], [1.0, \"#fec3fe\"]], \"type\": \"histogram2d\"}], \"histogram2dcontour\": [{\"colorbar\": {\"outlinewidth\": 0, \"ticks\": \"\"}, \"colorscale\": [[0.0, \"#0508b8\"], [0.0893854748603352, \"#1910d8\"], [0.1787709497206704, \"#3c19f0\"], [0.2681564245810056, \"#6b1cfb\"], [0.3575418994413408, \"#981cfd\"], [0.44692737430167595, \"#bf1cfd\"], [0.5363128491620112, \"#dd2bfd\"], [0.6256983240223464, \"#f246fe\"], [0.7150837988826816, \"#fc67fd\"], [0.8044692737430168, \"#fe88fc\"], [0.8938547486033519, \"#fea5fd\"], [0.9832402234636871, \"#febefe\"], [1.0, \"#fec3fe\"]], \"type\": \"histogram2dcontour\"}], \"mesh3d\": [{\"colorbar\": {\"outlinewidth\": 0, \"ticks\": \"\"}, \"type\": \"mesh3d\"}], \"parcoords\": [{\"line\": {\"colorbar\": {\"outlinewidth\": 0, \"ticks\": \"\"}}, \"type\": \"parcoords\"}], \"scatter\": [{\"marker\": {\"colorbar\": {\"outlinewidth\": 0, \"ticks\": \"\"}}, \"type\": \"scatter\"}], \"scatter3d\": [{\"marker\": {\"colorbar\": {\"outlinewidth\": 0, \"ticks\": \"\"}}, \"type\": \"scatter3d\"}], \"scattercarpet\": [{\"marker\": {\"colorbar\": {\"outlinewidth\": 0, \"ticks\": \"\"}}, \"type\": \"scattercarpet\"}], \"scattergeo\": [{\"marker\": {\"colorbar\": {\"outlinewidth\": 0, \"ticks\": \"\"}}, \"type\": \"scattergeo\"}], \"scattergl\": [{\"marker\": {\"colorbar\": {\"outlinewidth\": 0, \"ticks\": \"\"}}, \"type\": \"scattergl\"}], \"scattermapbox\": [{\"marker\": {\"colorbar\": {\"outlinewidth\": 0, \"ticks\": \"\"}}, \"type\": \"scattermapbox\"}], \"scatterpolar\": [{\"marker\": {\"colorbar\": {\"outlinewidth\": 0, \"ticks\": \"\"}}, \"type\": \"scatterpolar\"}], \"scatterpolargl\": [{\"marker\": {\"colorbar\": {\"outlinewidth\": 0, \"ticks\": \"\"}}, \"type\": \"scatterpolargl\"}], \"scatterternary\": [{\"marker\": {\"colorbar\": {\"outlinewidth\": 0, \"ticks\": \"\"}}, \"type\": \"scatterternary\"}], \"surface\": [{\"colorbar\": {\"outlinewidth\": 0, \"ticks\": \"\"}, \"type\": \"surface\"}], \"table\": [{\"cells\": {\"fill\": {\"color\": \"#EBF0F8\"}, \"line\": {\"color\": \"white\"}}, \"header\": {\"fill\": {\"color\": \"#C8D4E3\"}, \"line\": {\"color\": \"white\"}}, \"type\": \"table\"}]}, \"layout\": {\"annotationdefaults\": {\"arrowcolor\": \"#506784\", \"arrowhead\": 0, \"arrowwidth\": 1}, \"colorscale\": {\"diverging\": [[0, \"#8e0152\"], [0.1, \"#c51b7d\"], [0.2, \"#de77ae\"], [0.3, \"#f1b6da\"], [0.4, \"#fde0ef\"], [0.5, \"#f7f7f7\"], [0.6, \"#e6f5d0\"], [0.7, \"#b8e186\"], [0.8, \"#7fbc41\"], [0.9, \"#4d9221\"], [1, \"#276419\"]], \"sequential\": [[0.0, \"#0508b8\"], [0.0893854748603352, \"#1910d8\"], [0.1787709497206704, \"#3c19f0\"], [0.2681564245810056, \"#6b1cfb\"], [0.3575418994413408, \"#981cfd\"], [0.44692737430167595, \"#bf1cfd\"], [0.5363128491620112, \"#dd2bfd\"], [0.6256983240223464, \"#f246fe\"], [0.7150837988826816, \"#fc67fd\"], [0.8044692737430168, \"#fe88fc\"], [0.8938547486033519, \"#fea5fd\"], [0.9832402234636871, \"#febefe\"], [1.0, \"#fec3fe\"]], \"sequentialminus\": [[0.0, \"#0508b8\"], [0.0893854748603352, \"#1910d8\"], [0.1787709497206704, \"#3c19f0\"], [0.2681564245810056, \"#6b1cfb\"], [0.3575418994413408, \"#981cfd\"], [0.44692737430167595, \"#bf1cfd\"], [0.5363128491620112, \"#dd2bfd\"], [0.6256983240223464, \"#f246fe\"], [0.7150837988826816, \"#fc67fd\"], [0.8044692737430168, \"#fe88fc\"], [0.8938547486033519, \"#fea5fd\"], [0.9832402234636871, \"#febefe\"], [1.0, \"#fec3fe\"]]}, \"colorway\": [\"#636efa\", \"#EF553B\", \"#00cc96\", \"#ab63fa\", \"#19d3f3\", \"#e763fa\", \"#FECB52\", \"#FFA15A\", \"#FF6692\", \"#B6E880\"], \"font\": {\"color\": \"#2a3f5f\"}, \"geo\": {\"bgcolor\": \"white\", \"lakecolor\": \"white\", \"landcolor\": \"#E5ECF6\", \"showlakes\": true, \"showland\": true, \"subunitcolor\": \"white\"}, \"hoverlabel\": {\"align\": \"left\"}, \"hovermode\": \"closest\", \"mapbox\": {\"style\": \"light\"}, \"paper_bgcolor\": \"white\", \"plot_bgcolor\": \"#E5ECF6\", \"polar\": {\"angularaxis\": {\"gridcolor\": \"white\", \"linecolor\": \"white\", \"ticks\": \"\"}, \"bgcolor\": \"#E5ECF6\", \"radialaxis\": {\"gridcolor\": \"white\", \"linecolor\": \"white\", \"ticks\": \"\"}}, \"scene\": {\"xaxis\": {\"backgroundcolor\": \"#E5ECF6\", \"gridcolor\": \"white\", \"gridwidth\": 2, \"linecolor\": \"white\", \"showbackground\": true, \"ticks\": \"\", \"zerolinecolor\": \"white\"}, \"yaxis\": {\"backgroundcolor\": \"#E5ECF6\", \"gridcolor\": \"white\", \"gridwidth\": 2, \"linecolor\": \"white\", \"showbackground\": true, \"ticks\": \"\", \"zerolinecolor\": \"white\"}, \"zaxis\": {\"backgroundcolor\": \"#E5ECF6\", \"gridcolor\": \"white\", \"gridwidth\": 2, \"linecolor\": \"white\", \"showbackground\": true, \"ticks\": \"\", \"zerolinecolor\": \"white\"}}, \"shapedefaults\": {\"fillcolor\": \"#506784\", \"line\": {\"width\": 0}, \"opacity\": 0.4}, \"ternary\": {\"aaxis\": {\"gridcolor\": \"white\", \"linecolor\": \"white\", \"ticks\": \"\"}, \"baxis\": {\"gridcolor\": \"white\", \"linecolor\": \"white\", \"ticks\": \"\"}, \"bgcolor\": \"#E5ECF6\", \"caxis\": {\"gridcolor\": \"white\", \"linecolor\": \"white\", \"ticks\": \"\"}}, \"title\": {\"x\": 0.05}, \"xaxis\": {\"automargin\": true, \"gridcolor\": \"white\", \"linecolor\": \"white\", \"ticks\": \"\", \"zerolinecolor\": \"white\", \"zerolinewidth\": 2}, \"yaxis\": {\"automargin\": true, \"gridcolor\": \"white\", \"linecolor\": \"white\", \"ticks\": \"\", \"zerolinecolor\": \"white\", \"zerolinewidth\": 2}}}, \"xaxis\": {\"title\": {\"text\": \"year\"}}, \"yaxis\": {\"title\": {\"text\": \"count of id\"}}},\n",
       "                        {\"showLink\": false, \"linkText\": \"Export to plot.ly\", \"plotlyServerURL\": \"https://plot.ly\", \"responsive\": true}\n",
       "                    ).then(function(){\n",
       "                            \n",
       "var gd = document.getElementById('e4b35115-3c0e-4a3a-b96f-10ca9b5b6323');\n",
       "var x = new MutationObserver(function (mutations, observer) {{\n",
       "        var display = window.getComputedStyle(gd).display;\n",
       "        if (!display || display === 'none') {{\n",
       "            console.log([gd, 'removed!']);\n",
       "            Plotly.purge(gd);\n",
       "            observer.disconnect();\n",
       "        }}\n",
       "}});\n",
       "\n",
       "// Listen for the removal of the full notebook cells\n",
       "var notebookContainer = gd.closest('#notebook-container');\n",
       "if (notebookContainer) {{\n",
       "    x.observe(notebookContainer, {childList: true});\n",
       "}}\n",
       "\n",
       "// Listen for the clearing of the current output cell\n",
       "var outputEl = gd.closest('.output');\n",
       "if (outputEl) {{\n",
       "    x.observe(outputEl, {childList: true});\n",
       "}}\n",
       "\n",
       "                        })\n",
       "                };\n",
       "                });\n",
       "            </script>\n",
       "        </div>"
      ]
     },
     "metadata": {},
     "output_type": "display_data"
    }
   ],
   "source": [
    "px.histogram(df, x=\"year\", y=\"id\", color=\"filing_status\", hover_data=['assignee_names'])"
   ]
  },
  {
   "cell_type": "markdown",
   "metadata": {},
   "source": [
    "## Patents co-assignees"
   ]
  },
  {
   "cell_type": "code",
   "execution_count": 58,
   "metadata": {},
   "outputs": [],
   "source": [
    "df2 = json_normalize(data.patents, record_path=['assignees'], \n",
    "                     meta=[\"id\", \"year\", \"title\"], errors='ignore', record_prefix='assignee_')\n",
    "df2 = df2.rename(columns={\"assignee_country_name\" : \"country\"})\n",
    "df2  = df2[df2['assignee_id'] != GRIDID] # remove Rome from data"
   ]
  },
  {
   "cell_type": "code",
   "execution_count": 59,
   "metadata": {},
   "outputs": [
    {
     "data": {
      "text/html": [
       "<div>\n",
       "<style scoped>\n",
       "    .dataframe tbody tr th:only-of-type {\n",
       "        vertical-align: middle;\n",
       "    }\n",
       "\n",
       "    .dataframe tbody tr th {\n",
       "        vertical-align: top;\n",
       "    }\n",
       "\n",
       "    .dataframe thead th {\n",
       "        text-align: right;\n",
       "    }\n",
       "</style>\n",
       "<table border=\"1\" class=\"dataframe\">\n",
       "  <thead>\n",
       "    <tr style=\"text-align: right;\">\n",
       "      <th></th>\n",
       "      <th>assignee_acronym</th>\n",
       "      <th>country</th>\n",
       "      <th>assignee_id</th>\n",
       "      <th>assignee_name</th>\n",
       "      <th>id</th>\n",
       "      <th>year</th>\n",
       "      <th>title</th>\n",
       "    </tr>\n",
       "  </thead>\n",
       "  <tbody>\n",
       "    <tr>\n",
       "      <th>1</th>\n",
       "      <td>CNR</td>\n",
       "      <td>Italy</td>\n",
       "      <td>grid.5326.2</td>\n",
       "      <td>National Research Council</td>\n",
       "      <td>CA-2659681-A1</td>\n",
       "      <td>2007</td>\n",
       "      <td>PEPTIDE DERIVED FROM VASCULAR ENDOTHELIAL GROW...</td>\n",
       "    </tr>\n",
       "    <tr>\n",
       "      <th>2</th>\n",
       "      <td>IDI</td>\n",
       "      <td>Italy</td>\n",
       "      <td>grid.419457.a</td>\n",
       "      <td>Istituto Dermopatico dell'Immacolata</td>\n",
       "      <td>CA-2659681-A1</td>\n",
       "      <td>2007</td>\n",
       "      <td>PEPTIDE DERIVED FROM VASCULAR ENDOTHELIAL GROW...</td>\n",
       "    </tr>\n",
       "    <tr>\n",
       "      <th>9</th>\n",
       "      <td>UNC</td>\n",
       "      <td>United States</td>\n",
       "      <td>grid.10698.36</td>\n",
       "      <td>University of North Carolina at Chapel Hill</td>\n",
       "      <td>WO-2018187439-A1</td>\n",
       "      <td>2018</td>\n",
       "      <td>CRYOPRESERVATION METHOD</td>\n",
       "    </tr>\n",
       "    <tr>\n",
       "      <th>11</th>\n",
       "      <td>UNISI</td>\n",
       "      <td>Italy</td>\n",
       "      <td>grid.9024.f</td>\n",
       "      <td>University of Siena</td>\n",
       "      <td>EP-2195289-A2</td>\n",
       "      <td>2008</td>\n",
       "      <td>PYRROLE COMPOUNDS AS INHIBITORS OF MYCOBACTERI...</td>\n",
       "    </tr>\n",
       "    <tr>\n",
       "      <th>13</th>\n",
       "      <td>UNC</td>\n",
       "      <td>United States</td>\n",
       "      <td>grid.10698.36</td>\n",
       "      <td>University of North Carolina at Chapel Hill</td>\n",
       "      <td>US-9750770-B2</td>\n",
       "      <td>2015</td>\n",
       "      <td>Method of treating pancreatic and liver condit...</td>\n",
       "    </tr>\n",
       "  </tbody>\n",
       "</table>\n",
       "</div>"
      ],
      "text/plain": [
       "   assignee_acronym        country    assignee_id  \\\n",
       "1               CNR          Italy    grid.5326.2   \n",
       "2               IDI          Italy  grid.419457.a   \n",
       "9               UNC  United States  grid.10698.36   \n",
       "11            UNISI          Italy    grid.9024.f   \n",
       "13              UNC  United States  grid.10698.36   \n",
       "\n",
       "                                  assignee_name                id  year  \\\n",
       "1                     National Research Council     CA-2659681-A1  2007   \n",
       "2          Istituto Dermopatico dell'Immacolata     CA-2659681-A1  2007   \n",
       "9   University of North Carolina at Chapel Hill  WO-2018187439-A1  2018   \n",
       "11                          University of Siena     EP-2195289-A2  2008   \n",
       "13  University of North Carolina at Chapel Hill     US-9750770-B2  2015   \n",
       "\n",
       "                                                title  \n",
       "1   PEPTIDE DERIVED FROM VASCULAR ENDOTHELIAL GROW...  \n",
       "2   PEPTIDE DERIVED FROM VASCULAR ENDOTHELIAL GROW...  \n",
       "9                             CRYOPRESERVATION METHOD  \n",
       "11  PYRROLE COMPOUNDS AS INHIBITORS OF MYCOBACTERI...  \n",
       "13  Method of treating pancreatic and liver condit...  "
      ]
     },
     "execution_count": 59,
     "metadata": {},
     "output_type": "execute_result"
    }
   ],
   "source": [
    "df2.head()"
   ]
  },
  {
   "cell_type": "code",
   "execution_count": 61,
   "metadata": {},
   "outputs": [
    {
     "data": {
      "application/vnd.plotly.v1+json": {
       "config": {
        "linkText": "Export to plot.ly",
        "plotlyServerURL": "https://plot.ly",
        "showLink": false
       },
       "data": [
        {
         "alignmentgroup": "True",
         "customdata": [
          [
           "CA-2659681-A1"
          ],
          [
           "CA-2659681-A1"
          ],
          [
           "EP-2195289-A2"
          ],
          [
           "EP-2013217-A1"
          ],
          [
           "US-7459298-B2"
          ],
          [
           "EP-2529195-A1"
          ],
          [
           "EP-2529195-A1"
          ],
          [
           "CA-2797011-A1"
          ],
          [
           "CA-2797011-A1"
          ],
          [
           "EP-1807713-A2"
          ],
          [
           "AU-5777696-A"
          ],
          [
           "EP-1807713-B1"
          ],
          [
           "EP-2705472-B1"
          ],
          [
           "EP-1831681-A1"
          ],
          [
           "EP-1837626-A2"
          ],
          [
           "GB-0513431-D0"
          ],
          [
           "EP-1718676-A1"
          ],
          [
           "EP-1718676-A1"
          ],
          [
           "EP-1272659-B1"
          ],
          [
           "US-20190016686-A1"
          ],
          [
           "US-20090317032-A1"
          ],
          [
           "US-20080279840-A1"
          ],
          [
           "AU-2011244478-A1"
          ],
          [
           "AU-2011244478-A1"
          ],
          [
           "EP-1910383-B1"
          ],
          [
           "DE-602006009276-D1"
          ],
          [
           "AU-2189702-A"
          ],
          [
           "AU-2002221897-A1"
          ],
          [
           "EP-2195289-B1"
          ],
          [
           "EP-1098845-A2"
          ],
          [
           "EP-1590842-A2"
          ],
          [
           "CA-2430291-A1"
          ],
          [
           "AU-5255501-A"
          ],
          [
           "AU-5255501-A"
          ],
          [
           "EP-1274674-A1"
          ],
          [
           "EP-1274674-A1"
          ],
          [
           "EP-1272659-A1"
          ],
          [
           "EP-1520027-A1"
          ],
          [
           "EP-0241435-B1"
          ],
          [
           "US-8304410-B2"
          ],
          [
           "AU-2003281302-A1"
          ],
          [
           "US-8093218-B2"
          ],
          [
           "US-8093218-B2"
          ],
          [
           "EP-1615638-A1"
          ],
          [
           "EP-1866626-A1"
          ],
          [
           "EP-1690096-A1"
          ],
          [
           "EP-2115174-A2"
          ],
          [
           "US-8765820-B2"
          ],
          [
           "US-8765820-B2"
          ],
          [
           "EP-3201194-A1"
          ],
          [
           "EP-0241435-A2"
          ],
          [
           "US-20040115189-A1"
          ],
          [
           "EP-1146128-A1"
          ],
          [
           "EP-1718676-B1"
          ],
          [
           "EP-1718676-B1"
          ],
          [
           "EP-2160779-A2"
          ],
          [
           "EP-1893775-B1"
          ],
          [
           "EP-3013331-A1"
          ],
          [
           "AU-2011244478-B2"
          ],
          [
           "AU-2011244478-B2"
          ],
          [
           "US-9488778-B2"
          ],
          [
           "EP-1615638-B1"
          ],
          [
           "US-20160368886-A1"
          ],
          [
           "EP-2916794-A1"
          ],
          [
           "US-7955816-B2"
          ],
          [
           "AU-5255301-A"
          ],
          [
           "US-20030166721-A1"
          ],
          [
           "US-20030166721-A1"
          ],
          [
           "AU-4366399-A"
          ],
          [
           "IN-2012MN02335-A"
          ],
          [
           "IN-2012MN02335-A"
          ],
          [
           "EP-2032687-B1"
          ],
          [
           "EP-2032687-B1"
          ],
          [
           "DE-3782844-T2"
          ],
          [
           "US-7925124-B2"
          ],
          [
           "EP-1381882-B1"
          ],
          [
           "EP-1425636-B1"
          ],
          [
           "AU-2003281302-A8"
          ],
          [
           "EP-1893775-A2"
          ],
          [
           "DE-60214203-D1"
          ],
          [
           "DE-60214692-T2"
          ],
          [
           "DE-60214692-D1"
          ],
          [
           "EP-2521527-A1"
          ],
          [
           "US-20120288540-A1"
          ],
          [
           "EP-1274674-B1"
          ],
          [
           "EP-1274674-B1"
          ],
          [
           "EP-1590842-B1"
          ],
          [
           "EP-1880702-A2"
          ],
          [
           "EP-1453494-A2"
          ],
          [
           "US-20060084062-A1"
          ],
          [
           "EP-1880702-A3"
          ],
          [
           "US-20160054522-A1"
          ],
          [
           "EP-2121179-A1"
          ],
          [
           "WO-2014170872-A1"
          ],
          [
           "DE-602004002584-T2"
          ],
          [
           "DE-60229660-D1"
          ],
          [
           "DE-60121312-D1"
          ],
          [
           "US-20090312266-A1"
          ],
          [
           "US-20090312266-A1"
          ],
          [
           "US-8722038-B2"
          ],
          [
           "US-20100197672-A1"
          ],
          [
           "EP-2560949-B1"
          ],
          [
           "EP-2560949-B1"
          ],
          [
           "EP-2705472-A1"
          ],
          [
           "EP-3201194-B1"
          ],
          [
           "CA-2914794-A1"
          ],
          [
           "WO-2019145840-A1"
          ],
          [
           "EP-2045237-A1"
          ],
          [
           "DE-60117770-T2"
          ],
          [
           "DE-60117770-T2"
          ],
          [
           "EP-1339422-A2"
          ],
          [
           "EP-1660078-A1"
          ],
          [
           "EP-1425636-A1"
          ],
          [
           "AU-2002358986-A8"
          ],
          [
           "DE-3782844-D1"
          ],
          [
           "EP-2552360-A1"
          ],
          [
           "DE-241435-T1"
          ],
          [
           "EP-1831681-B1"
          ],
          [
           "EP-2032687-A1"
          ],
          [
           "EP-2032687-A1"
          ],
          [
           "EP-2987011-B1"
          ],
          [
           "EP-1880702-B1"
          ],
          [
           "EP-0826040-A1"
          ],
          [
           "AU-4981093-A"
          ],
          [
           "US-5166070-A"
          ],
          [
           "EP-2560949-A1"
          ],
          [
           "EP-2560949-A1"
          ],
          [
           "US-20140126030-A1"
          ],
          [
           "US-20100038298-A1"
          ],
          [
           "EP-1910383-A1"
          ],
          [
           "US-20130202648-A1"
          ],
          [
           "US-20130035377-A1"
          ],
          [
           "US-20130035377-A1"
          ],
          [
           "EP-2178602-A2"
          ],
          [
           "EP-1381882-A1"
          ],
          [
           "DE-60117770-D1"
          ],
          [
           "DE-60117770-D1"
          ],
          [
           "US-20130089856-A1"
          ],
          [
           "DE-602004002584-D1"
          ],
          [
           "DE-602004029622-D1"
          ],
          [
           "EP-2054440-B1"
          ],
          [
           "EP-2054440-B1"
          ],
          [
           "US-10093642-B2"
          ],
          [
           "EP-1453494-B1"
          ],
          [
           "EP-1339422-B1"
          ],
          [
           "CA-2797011-C"
          ],
          [
           "CA-2797011-C"
          ],
          [
           "EP-2054440-A2"
          ],
          [
           "EP-2054440-A2"
          ],
          [
           "DE-602005013195-D1"
          ],
          [
           "EP-2276413-A2"
          ],
          [
           "DE-602005015474-D1"
          ],
          [
           "DE-60125585-D1"
          ],
          [
           "EP-1837626-A3"
          ],
          [
           "EP-2987011-A1"
          ],
          [
           "EP-0241435-A3"
          ],
          [
           "US-6819282-B1"
          ],
          [
           "US-7570195-B2"
          ]
         ],
         "hoverlabel": {
          "namelength": 0
         },
         "hovertemplate": "<b>%{hovertext}</b><br><br>country=Italy<br>assignee_name=%{x}<br>id=%{customdata[0]}",
         "hovertext": [
          "PEPTIDE DERIVED FROM VASCULAR ENDOTHELIAL GROWTH FACTOR RECEPTOR-1 BINDING INTEGRIN .ALPHA.5.BETA.1, HAVING PROANGIOGENIC ACTIVITY",
          "PEPTIDE DERIVED FROM VASCULAR ENDOTHELIAL GROWTH FACTOR RECEPTOR-1 BINDING INTEGRIN .ALPHA.5.BETA.1, HAVING PROANGIOGENIC ACTIVITY",
          "PYRROLE COMPOUNDS AS INHIBITORS OF MYCOBACTERIA, SYNTHESIS THEREOF ANS INTERMEDIATES THERETO",
          "DESIGN AND SYNTHESIS OF BIOTINYLATED PROBES FOR N-ACYL-ETHANOLAMINES",
          "Purification, cloning and biochemical characterization of XendoU, endoribonucleasic activity involved in small nuclear RNA splicing-independent biosynthesis in Xenopus laevis",
          "METHOD FOR IN VITRO DETECTION OF ATAXIA TELANGIECTASIA HEALTHY CARRIERS AND RELATED KIT",
          "METHOD FOR IN VITRO DETECTION OF ATAXIA TELANGIECTASIA HEALTHY CARRIERS AND RELATED KIT",
          "TRANYLCYPROMINE DERIVATIVES AS INHIBITORS OF HISTONE DEMETHYLASE LSD1 AND/OR LSD2",
          "TRANYLCYPROMINE DERIVATIVES AS INHIBITORS OF HISTONE DEMETHYLASE LSD1 AND/OR LSD2",
          "HIGH-CAPACITY LOCATION AND IDENTIFICATION SYSTEM FOR COOPERATING MOBILES WITH FREQUENCY AGILE AND TIME DIVISION TRANSPONDER DEVICE ON BOARD",
          "Candida heat shock protein, cdna and uses thereof",
          "HIGH-CAPACITY LOCATION AND IDENTIFICATION SYSTEM FOR COOPERATING MOBILES WITH FREQUENCY AGILE AND TIME DIVISION TRANSPONDER DEVICE ON BOARD",
          "AN INTEGRATED OPTICS LOGIC GATE FOR POLARIZATION-ENCODED QUANTUM QUBITS AND A METHOD FOR THE PRODUCTION AND USE THEREOF",
          "METHOD FOR THE CONTROL OF THE RESPONSE TIME OF A SENSOR FOR CHEMICAL SUBSTANCES",
          "System for asessing a law of motion and related method",
          "Prophylactic compositions and uses",
          "ANTI-CLUSTERIN OLIGOCLONAL ANTIBODIES FOR DIAGNOSIS AND PREDICTION OF THE AGGRESSIVENESS OF TUMOURS, DIAGNOSTIC METHOD AND RELATED KITS",
          "ANTI-CLUSTERIN OLIGOCLONAL ANTIBODIES FOR DIAGNOSIS AND PREDICTION OF THE AGGRESSIVENESS OF TUMOURS, DIAGNOSTIC METHOD AND RELATED KITS",
          "EARLY DIAGNOSIS OF MISCARRIAGE IN HUMAN BEINGS",
          "SALTS OF COMPOUNDS HAVING A BENZIMIDAZOLIC STRUCTURE, USES AND PROCESS FOR THE PREPARATION THEREOF",
          "Electro-Optical Tunable Filter and Manufacturing Process",
          "Histaminase of vegetable origin for use in the treatment of allergic and septic shock and of allergic asthma",
          "Tranylcypromine derivatives as inhibitors of histone demethylase LSD1 and/or LSD2",
          "Tranylcypromine derivatives as inhibitors of histone demethylase LSD1 and/or LSD2",
          "BENZODIAZEPINE DERIVATIVES AND USES THEREOF IN MEDICAL FIELD",
          "Benzodiazepine derivatives and uses thereof for the medical field",
          "Histaminase of vegetable origin for use in the treatment of allergic and septic shock and of allergic asthma",
          "Histaminase of vegetable origin for use in the treatment of allergic and septic shock and of allergic asthma",
          "PYRROLE COMPOUNDS AS INHIBITORS OF MYCOBACTERIA, SYNTHESIS THEREOF ANS INTERMEDIATES THERETO",
          "NEW CLASS OF DIAMOND-BASED MATERIALS AND TECHNIQUES FOR THEIR SYNTHESIS",
          "METHOD FOR SYNTHESIZING A CATHODIC MATERIAL BASED ON LITHIUM IRONPHOSPHATE, INTRINSICALLY CONTAINING CARBON",
          "HISTAMINASE OF VEGETABLE ORIGIN FOR USE IN THE TREATMENT OF ALLERGIC AND SEPTIC SHOCK AND OF ALLERGIC ASTHMA",
          "Choline derivatives for the treatment of alzheimer's disease",
          "Choline derivatives for the treatment of alzheimer's disease",
          "CHOLINE DERIVATIVES FOR THE TREATMENT OF ALZHEIMER'S DISEASE",
          "CHOLINE DERIVATIVES FOR THE TREATMENT OF ALZHEIMER'S DISEASE",
          "EARLY DIAGNOSIS OF MISCARRIAGE IN HUMAN BEINGS",
          "PURIFICATION, CLONING AND BIOCHEMICAL CHARACTERIZATION OF XendoU, ENDORIBONUCLEASIC ACTIVITY INVOLVED IN SMALL NUCLEAR RNA SPLICING-INDEPENDENT BIOSYNTHESIS IN XENOPUS LAEVIS",
          "VECTORS FOR THE CLONING AND EXPRESSION OF HETEROLOGOUS GENES IN YEAST AND THE YEAST STRAINS TRANSFORMED BY SAID VECTORS",
          "Pyrrole compounds as inhibitors of mycobacteria, synthesis thereof and intermediates thereto",
          "PURIFICATION, CLONING AND BIOCHEMICAL CHARACTERIZATION OF XendoU, ENDORIBONUCLEASIC ACTIVITY INVOLVED IN SMALL NUCLEAR RNA SPLICING-INDEPENDENT BIOSYNTHESIS IN XENOPUS LAEVIS",
          "Peptide derived from vascular endothelial growth factor receptor-1 binding integrin α5β1 having proangiogenic activity",
          "Peptide derived from vascular endothelial growth factor receptor-1 binding integrin α5β1 having proangiogenic activity",
          "USE OF 7-NITRO-2,1,3 BENZOXADIAZOLE DERIVATIVES FOR ANTICANCER THERAPY",
          "SPECTROSCOPIC SYSTEM FOR THE PUNCTUAL DETECTION OF THE CHARACTERISTICS OF ABSORPTION OF A SEMICONDUCTOR DEVICE",
          "METHOD FOR QUANTITATIVE AND SEMI-QUANTITATIVE DETECTION OF L-PHENYLALANINE, L-TYROSINE, L-3,4-DIHYDROXYPHENYLALANINE AND THEIR CORRESPONDING KETO-ACIDS",
          "ELECTRO-OPTICAL TUNABLE FILTER AND MANUFACTURING PROCESS",
          "Tranylcypromine derivatives as inhibitors of histone demethylases LSD1 and/or LSD2",
          "Tranylcypromine derivatives as inhibitors of histone demethylases LSD1 and/or LSD2",
          "SALTS OF COMPOUNDS HAVING A BENZIMIDAZOLIC STRUCTURE, USES AND PROCESS FOR THE PREPARATION THEREOF",
          "Vectors for the cloning and expression of heterologous genes in yeast and the yeast strains transformed by said vectors",
          "Histaminase of vegetable origin for use in the treatment of allergic and septic shock and of allergic asthma",
          "Method and kit for the early diagnosis of miscarriage in human beings",
          "ANTI-CLUSTERIN OLIGOCLONAL ANTIBODIES FOR DIAGNOSIS AND PREDICTION OF THE AGGRESSIVENESS OF TUMOURS, DIAGNOSTIC METHOD AND RELATED KITS",
          "ANTI-CLUSTERIN OLIGOCLONAL ANTIBODIES FOR DIAGNOSIS AND PREDICTION OF THE AGGRESSIVENESS OF TUMOURS, DIAGNOSTIC METHOD AND RELATED KITS",
          "CATALYSTS HAVING LOW PLATINUM CONTENT FOR FUEL CELLS",
          "ALTERNATIVE SPLICING ISOFORM OF LOX-1 PROTEIN ENCODING GENE,  AND USES THEREOF",
          "MULTITARGET HEDGEHOG PATHWAY INHIBITORS AND USES THEREOF",
          "Tranylcypromine derivatives as inhibitors of histone demethylase LSD1 and/or LSD2",
          "Tranylcypromine derivatives as inhibitors of histone demethylase LSD1 and/or LSD2",
          "Method for realizing an optical waveguide in a substrate by means of a femtosecond laser",
          "USE OF 7-NITRO-2,1,3 BENZOXADIAZOLE DERIVATIVES FOR ANTICANCER THERAPY",
          "MULTITARGET HEDGEHOG PATHWAY INHIBITORS AND USES THEREOF",
          "ANKLE AND KNEE MOTORIZED ORTHOSIS",
          "Design and synthesis of biotinylated probes for N-acyl-ethanolamines",
          "Early diagnosis of miscarriage in human beings",
          "Choline derivative for the treatment of alzheimer's disease",
          "Choline derivative for the treatment of alzheimer's disease",
          "New class of diamond-based materials and techniques for their synthesis",
          "TRANYLCYPROMINE DERIVATIVES AS INHIBITORS OF HISTONE DEMETHYLASE LSD1 AND/OR LSD2",
          "TRANYLCYPROMINE DERIVATIVES AS INHIBITORS OF HISTONE DEMETHYLASE LSD1 AND/OR LSD2",
          "SALMONELLA ENTERICA STRAINS OF REDUCED PATHOGENICITY, METHOD FOR THEIR PREPARATION AND USES THEREOF",
          "SALMONELLA ENTERICA STRAINS OF REDUCED PATHOGENICITY, METHOD FOR THEIR PREPARATION AND USES THEREOF",
          "Vectors for the cloning and expression of heterologous genes in yeasts and by means of these vectors transformed yeast strains.",
          "Electro-optical tunable filter and manufacturing process",
          "A SUPER-RESOLUTION PROCESSOR/RECEIVER TO DISCRIMINATE SUPERIMPOSED SECONDARY SURVEILLANCE RADAR (SSR) REPLIES AND SQUITTER",
          "SINGLE-INPUT MULTI-OUTPUT CONTROL SYSTEM",
          "Purification, cloning and biochemical characterization of xendou, endoribonucleasic activity involved in small nuclear rna splicing-independent biosynthesis in xenopus laevis",
          "ALTERNATIVE SPLICING ISOFORM OF LOX-1 PROTEIN ENCODING GENE,  AND USES THEREOF",
          "Control system having an input and a plurality of outputs",
          "A high-resolution processor / receiver for the differentiation of superimposed answers, and a secondary monitoring radar squitter",
          "A high-resolution processor / receiver for the differentiation of superimposed answers, and a secondary surveillance radar squitter via",
          "NIOSOMES, FREEZE-DRIED POWDER THEREOF AND THEIR USE IN TREATMENT",
          "NIOSOMES, FREEZE-DRIED POWDER THEREOF AND THEIR USE IN TREATMENT",
          "CHOLINE DERIVATIVES FOR THE TREATMENT OF ALZHEIMER'S DISEASE",
          "CHOLINE DERIVATIVES FOR THE TREATMENT OF ALZHEIMER'S DISEASE",
          "METHOD FOR SYNTHESIZING A CATHODIC MATERIAL BASED ON LITHIUM IRONPHOSPHATE, INTRINSICALLY CONTAINING CARBON",
          "Motorized platform for the therapeutic treatment of patients",
          "SPHINGOSINE DERIVATIVE AS AN IMMUNOREGULATOR COMPOUND",
          "Purification, cloning and biochemical characterization of xendou, endoribonucleasic activity involved in small nuclear rna splicing-independent biosynthesis in xenopus laevis",
          "Motorized platform for the therapeutic treatment of patients",
          "METHOD FOR REALIZING AN OPTICAL WAVEGUIDE IN A SUBSTRATE BY MEANS OF A FEMTOSECOND LASER",
          "HIGH-PERFORMANCE CHROMATOGRAPHIC COLUMNS CONTAINING ORGANIC OR COMPOSITE POLYMERIC MONOLITHIC SUPPORTS AND METHOD FOR THEIR PREPARATION",
          "METHOD FOR REALIZING AN OPTICAL WAVEGUIDE IN A SUBSTRATE BY MEANS OF A FEMTOSECOND LASER",
          "Use of 7 - nitro - 2,1,3 - benz oxadiazole - derivatives, for the treatment of cancers",
          "Use of a sphingosine derivative for the treatment of microbial infections",
          "Early diagnosis of on in humans",
          "PEPTIDE DERIVED FROM VASCULAR ENDOTHELIAL GROWTH FACTOR RECEPTOR-1 BINDING INTEGRIN ALPHA5BETA1 HAVING PROANGIOGENIC ACTIVITY",
          "PEPTIDE DERIVED FROM VASCULAR ENDOTHELIAL GROWTH FACTOR RECEPTOR-1 BINDING INTEGRIN ALPHA5BETA1 HAVING PROANGIOGENIC ACTIVITY",
          "Histaminase of vegetable origin for use in the treatment of allergic and septic shock and of allergic asthma",
          "PYRROLE COMPOUNDS AS INHIBITORS OF MYCOBACTERIA, SYNTHESIS THEREOF AND INTERMEDIATES THERETO",
          "TRANYLCYPROMINE DERIVATIVES AS INHIBITORS OF HISTONE DEMETHYLASE LSD1 AND/OR LSD2",
          "TRANYLCYPROMINE DERIVATIVES AS INHIBITORS OF HISTONE DEMETHYLASE LSD1 AND/OR LSD2",
          "AN INTEGRATED OPTICS LOGIC GATE FOR POLARIZATION-ENCODED QUANTUM QUBITS AND A METHOD FOR THE PRODUCTION AND USE THEREOF",
          "SALTS OF COMPOUNDS HAVING A BENZIMIDAZOLIC STRUCTURE, USES AND PROCESS FOR THE PREPARATION THEREOF",
          "MULTITARGET HEDGEHOG PATHWAY INHIBITORS AND USES THEREOF",
          "USE OF A PEPTIDE DERIVED FROM THE HUMAN PROTEIN NTIMP3 IN THE TREATMENT OF DIABETIC NEPHROPATHY",
          "Pyrrole compounds as inhibitors of mycrobacteria, synthesis thereof and intermediates thereto",
          "Choline derivatives for the treatment of alzheimer's disease",
          "Choline derivatives for the treatment of alzheimer's disease",
          "HISTAMINASE OF VEGETABLE ORIGIN FOR USE IN THE TREATMENT OF ALLERGIC AND SEPTIC SHOCK AND OF ALLERGIC ASTHMA",
          "USE OF INDOMETHACIN AND DERIVATIVES AS BROAD-SPECTRUM ANTIVIRAL DRUGS AND CORRESPONDING PHARMACEUTICAL COMPOSITIONS.",
          "SINGLE-INPUT MULTI-OUTPUT CONTROL SYSTEM",
          "Sphingosine derivative as an immunoregulator compound",
          "Vectors for the cloning and expression of heterologous genes in yeasts and by means of these vectors transformed yeast strains.",
          "DEVICE IMPLANTABLE IN BIOLOGICAL DUCTS",
          "Vectors for the cloning and expression of heterologous genes in yeasts and by means of these vectors transformed yeast strains.",
          "METHOD FOR THE CONTROL OF THE RESPONSE TIME OF A SENSOR FOR CHEMICAL SUBSTANCES",
          "SALMONELLA ENTERICA STRAINS OF REDUCED PATHOGENICITY, METHOD FOR THEIR PREPARATION AND USES THEREOF",
          "SALMONELLA ENTERICA STRAINS OF REDUCED PATHOGENICITY, METHOD FOR THEIR PREPARATION AND USES THEREOF",
          "METHOD FOR REALIZING AN OPTICAL WAVEGUIDE IN A SUBSTRATE BY MEANS OF A FEMTOSECOND LASER",
          "Motorized platform for the therapeutic treatment of patients",
          "CANDIDA HEAT SHOCK PROTEIN, cDNA AND USES THEREOF",
          "Nucleotide sequences coding for cryptosporidium proteins, polypeptides coded by said sequences and kits for the use thereof",
          "Vectors for the cloning and expression of heterologous genes in yeast and the yeast strains transformed by said vectors",
          "TRANYLCYPROMINE DERIVATIVES AS INHIBITORS OF HISTONE DEMETHYLASE LSD1 AND/OR LSD2",
          "TRANYLCYPROMINE DERIVATIVES AS INHIBITORS OF HISTONE DEMETHYLASE LSD1 AND/OR LSD2",
          "INTEGRATED OPTICS LOGIC GATE FOR POLARIZATION-ENCODED QUANTUM QUBITS AND A METHOD FOR THE PRODUCTION AND USE THEREOF",
          "HIGH-PERFORMANCE CHROMATOGRAPHIC COLUMNS CONTAINING ORGANIC OR COMPOSITE POLYMERIC MONOLITHIC SUPPORTS AND METHOD FOR THEIR PREPARATION",
          "BENZODIAZEPINE DERIVATIVES AND USES THEREOF IN MEDICAL FIELD",
          "Immunoregulator Compounds",
          "TRANYLCYPROMINE DERIVATIVES AS INHIBITORS OF HISTONE DEMETHYLASES LSD1 AND/OR LSD2",
          "TRANYLCYPROMINE DERIVATIVES AS INHIBITORS OF HISTONE DEMETHYLASES LSD1 AND/OR LSD2",
          "ASYMMETRIC LIPOSOMES AND USES IN MEDICAL FIELD THEREOF",
          "A SUPER-RESOLUTION PROCESSOR/RECEIVER TO DISCRIMINATE SUPERIMPOSED SECONDARY SURVEILLANCE RADAR (SSR) REPLIES AND SQUITTER",
          "Choline derivatives for the treatment of alzheimer's disease",
          "Choline derivatives for the treatment of alzheimer's disease",
          "METHOD FOR IN VITRO DETECTION OF ATAXIA TELANGIECTASIA HEALTHY CARRIERS AND RELATED KIT",
          "Use of 7 - nitro - 2,1,3 - benz oxadiazole derivatives, for the treatment of cancers",
          "nsors for chemical substances",
          "PEPTIDE DERIVED FROM VASCULAR ENDOTHELIAL GROWTH FACTOR RECEPTOR-1 BINDING INTEGRIN ALPHA5BETA1, HAVING PROANGIOGENIC ACTIVITY",
          "PEPTIDE DERIVED FROM VASCULAR ENDOTHELIAL GROWTH FACTOR RECEPTOR-1 BINDING INTEGRIN ALPHA5BETA1, HAVING PROANGIOGENIC ACTIVITY",
          "Multitarget hedgehog pathway inhibitors and uses thereof",
          "USE OF A SPHINGOSINE DERIVATIVE FOR THE TREATMENT OF MICROBIAL INFECTIONS",
          "HISTAMINASE OF VEGETABLE ORIGIN FOR USE IN THE TREATMENT OF ALLERGIC AND SEPTIC SHOCK AND OF ALLERGIC ASTHMA",
          "TRANYLCYPROMINE DERIVATIVES AS INHIBITORS OF HISTONE DEMETHYLASE LSD1 AND/OR LSD2",
          "TRANYLCYPROMINE DERIVATIVES AS INHIBITORS OF HISTONE DEMETHYLASE LSD1 AND/OR LSD2",
          "PEPTIDE DERIVED FROM VASCULAR ENDOTHELIAL GROWTH FACTOR RECEPTOR-1 BINDING INTEGRIN  5 1, HAVING PROANGIOGENIC ACTIVITY",
          "PEPTIDE DERIVED FROM VASCULAR ENDOTHELIAL GROWTH FACTOR RECEPTOR-1 BINDING INTEGRIN  5 1, HAVING PROANGIOGENIC ACTIVITY",
          "Method for the cutting of the worm and worm gear in a worm reduction gear with a circulation of bearing balls and related cutting tools",
          "SURGICAL TOOL, PARTICULARLY FOR USE IN LAPAROSCOPY",
          "localization - and identification system having a high capacity for mobile devices cooperating with frequency more flexible and time multiplexed transponder device on board",
          "histaminase of vegetable origin for the treatment of allergic and septic shock and allergic asthma",
          "System for assessing a law of motion and related method",
          "METHOD FOR REALIZING AN OPTICAL WAVEGUIDE IN A SUBSTRATE BY MEANS OF A FEMTOSECOND LASER",
          "VECTORS FOR THE CLONING AND EXPRESSION OF HETEROLOGOUS GENES IN YEAST AND THE YEAST STRAINS TRANSFORMED BY SAID VECTORS",
          "Super-resolution processor/receiver to discriminate superimposed secondary surveillance radar (SSR) replies and squitter",
          "High-capacity location and identification system for cooperating mobiles with frequency agile and time division transponder device on board"
         ],
         "legendgroup": "country=Italy",
         "marker": {
          "color": "#636efa"
         },
         "name": "country=Italy",
         "offsetgroup": "country=Italy",
         "orientation": "v",
         "showlegend": true,
         "textposition": "auto",
         "type": "bar",
         "uid": "76d41fa7-6e1d-49ce-a6c5-4cf704f05326",
         "x": [
          "National Research Council",
          "Istituto Dermopatico dell'Immacolata",
          "University of Siena",
          "University of Rome Tor Vergata",
          "National Research Council",
          "Istituti Fisioterapici Ospitalieri",
          "National Research Council",
          "University of Milan",
          "University of Pavia",
          "University of Rome Tor Vergata",
          "National Institute of Health",
          "University of Rome Tor Vergata",
          "National Research Council",
          "University of Rome Tor Vergata",
          "Bambino Gesù Children's Hospital",
          "University of Rome Tor Vergata",
          "Istituti Fisioterapici Ospitalieri",
          "University of Rome Tor Vergata",
          "University of Rome Tor Vergata",
          "National Institute of Health",
          "National Research Council",
          "Roma Tre University",
          "University of Pavia",
          "University of Milan",
          "University of Rome Tor Vergata",
          "University of Rome Tor Vergata",
          "Roma Tre University",
          "Roma Tre University",
          "University of Siena",
          "University of Rome Tor Vergata",
          "National Research Council",
          "Roma Tre University",
          "Magna Graecia University",
          "University of Camerino",
          "University of Camerino",
          "Magna Graecia University",
          "University of Rome Tor Vergata",
          "National Research Council",
          "National Research Council",
          "University of Siena",
          "National Research Council",
          "National Research Council",
          "Istituto Dermopatico dell'Immacolata",
          "University of Rome Tor Vergata",
          "University of Rome Tor Vergata",
          "University of Rome Tor Vergata",
          "National Research Council",
          "University of Milan",
          "University of Pavia",
          "National Institute of Health",
          "National Research Council",
          "Roma Tre University",
          "University of Rome Tor Vergata",
          "University of Rome Tor Vergata",
          "Istituti Fisioterapici Ospitalieri",
          "University of Camerino",
          "University of Rome Tor Vergata",
          "University of Siena",
          "University of Milan",
          "University of Pavia",
          "National Research Council",
          "University of Rome Tor Vergata",
          "University of Siena",
          "Bambino Gesù Children's Hospital",
          "University of Rome Tor Vergata",
          "University of Rome Tor Vergata",
          "University of Camerino",
          "Magna Graecia University",
          "University of Rome Tor Vergata",
          "University of Milan",
          "University of Pavia",
          "National Institute of Health",
          "University of Rome Tor Vergata",
          "National Research Council",
          "National Research Council",
          "University of Rome Tor Vergata",
          "University of Rome Tor Vergata",
          "National Research Council",
          "University of Rome Tor Vergata",
          "University of Rome Tor Vergata",
          "University of Rome Tor Vergata",
          "University of Rome Tor Vergata",
          "Magna Graecia University",
          "Magna Graecia University",
          "University of Camerino",
          "Magna Graecia University",
          "National Research Council",
          "Bambino Gesù Children's Hospital",
          "University of Rome Tor Vergata",
          "National Research Council",
          "Bambino Gesù Children's Hospital",
          "National Research Council",
          "National Research Council",
          "National Research Council",
          "University of Rome Tor Vergata",
          "University of Rome Tor Vergata",
          "University of Rome Tor Vergata",
          "National Research Council",
          "Istituto Dermopatico dell'Immacolata",
          "Roma Tre University",
          "University of Siena",
          "University of Pavia",
          "University of Milan",
          "National Research Council",
          "National Institute of Health",
          "University of Siena",
          "University of Rome Tor Vergata",
          "University of Siena",
          "Magna Graecia University",
          "University of Camerino",
          "Roma Tre University",
          "University of Rome Tor Vergata",
          "University of Rome Tor Vergata",
          "University of Rome Tor Vergata",
          "National Research Council",
          "University of Rome Tor Vergata",
          "National Research Council",
          "University of Rome Tor Vergata",
          "National Institute of Health",
          "University of Rome Tor Vergata",
          "National Research Council",
          "Bambino Gesù Children's Hospital",
          "National Institute of Health",
          "National Institute of Health",
          "National Research Council",
          "University of Milan",
          "University of Pavia",
          "National Research Council",
          "National Research Council",
          "University of Rome Tor Vergata",
          "University of Rome Tor Vergata",
          "University of Milan",
          "University of Pavia",
          "University of Rome Tor Vergata",
          "University of Rome Tor Vergata",
          "Magna Graecia University",
          "University of Camerino",
          "Istituti Fisioterapici Ospitalieri",
          "University of Rome Tor Vergata",
          "University of Rome Tor Vergata",
          "National Research Council",
          "Istituto Dermopatico dell'Immacolata",
          "University of Siena",
          "University of Rome Tor Vergata",
          "Roma Tre University",
          "University of Pavia",
          "University of Milan",
          "Istituto Dermopatico dell'Immacolata",
          "National Research Council",
          "University of Rome Tor Vergata",
          "University of Rome Tor Vergata",
          "University of Rome Tor Vergata",
          "Roma Tre University",
          "Bambino Gesù Children's Hospital",
          "National Research Council",
          "National Research Council",
          "University of Rome Tor Vergata",
          "University of Rome Tor Vergata"
         ],
         "xaxis": "x",
         "yaxis": "y"
        },
        {
         "alignmentgroup": "True",
         "customdata": [
          [
           "WO-2018187439-A1"
          ],
          [
           "US-9750770-B2"
          ],
          [
           "US-9750770-B2"
          ],
          [
           "US-20180295834-A1"
          ],
          [
           "NZ-709124-A"
          ],
          [
           "US-9533013-B2"
          ],
          [
           "US-9533013-B2"
          ],
          [
           "AU-2016210783-A1"
          ],
          [
           "AU-2016210783-A1"
          ],
          [
           "EP-2970879-A1"
          ],
          [
           "EP-2970879-A1"
          ],
          [
           "EP-2970879-A1"
          ],
          [
           "IN-2012KN01230-A"
          ],
          [
           "EP-2494033-A4"
          ],
          [
           "EP-2494033-A4"
          ],
          [
           "CA-2904140-A1"
          ],
          [
           "CA-2904140-A1"
          ],
          [
           "CA-2904140-A1"
          ],
          [
           "IN-201838034102-A"
          ],
          [
           "AU-2016210783-B2"
          ],
          [
           "CA-2779144-A1"
          ],
          [
           "CA-2779144-A1"
          ],
          [
           "WO-2014143632-A1"
          ],
          [
           "AU-2010313386-A1"
          ],
          [
           "AU-2010313386-A1"
          ],
          [
           "EP-2494033-A1"
          ],
          [
           "EP-2494033-A1"
          ],
          [
           "EP-2970879-A4"
          ],
          [
           "EP-2970879-A4"
          ],
          [
           "US-20140301985-A1"
          ],
          [
           "US-20140301985-A1"
          ],
          [
           "US-20140301985-A1"
          ],
          [
           "US-20160058798-A1"
          ],
          [
           "US-20160058798-A1"
          ],
          [
           "US-20160058798-A1"
          ],
          [
           "NZ-622427-A"
          ],
          [
           "HK-1218430-A1"
          ],
          [
           "HK-1218430-A1"
          ],
          [
           "AU-2014228310-A1"
          ],
          [
           "AU-2014228310-A1"
          ],
          [
           "AU-2014228310-A1"
          ],
          [
           "AU-2010313386-B2"
          ],
          [
           "IN-2015KN03243-A"
          ],
          [
           "IN-2015KN03243-A"
          ],
          [
           "NZ-600068-A"
          ]
         ],
         "hoverlabel": {
          "namelength": 0
         },
         "hovertemplate": "<b>%{hovertext}</b><br><br>country=United States<br>assignee_name=%{x}<br>id=%{customdata[0]}",
         "hovertext": [
          "CRYOPRESERVATION METHOD",
          "Method of treating pancreatic and liver conditions by endoscopic-mediated (or laparoscopic-mediated) transplantation of stem cells into/onto bile duct walls of particular regions of the biliary tree",
          "Method of treating pancreatic and liver conditions by endoscopic-mediated (or laparoscopic-mediated) transplantation of stem cells into/onto bile duct walls of particular regions of the biliary tree",
          "CRYOPRESERVATION METHOD",
          "Multipotent stem cells from the extrahepatic biliary tree and methods of isolating same",
          "Method of treating pancreatic and liver conditions by endoscopic-mediated (or laparoscopic-mediated) transplantation of stem cells into/onto bile duct walls of particular regions of the biliary tree",
          "Method of treating pancreatic and liver conditions by endoscopic-mediated (or laparoscopic-mediated) transplantation of stem cells into/onto bile duct walls of particular regions of the biliary tree",
          "Multipotent stem cells from the extrahepatic billary tree and methods of isolating same",
          "Multipotent stem cells from the extrahepatic billary tree and methods of isolating same",
          "METHOD OF TREATING PANCREATIC AND LIVER CONDITIONS BY TRANSPLANTATION OF STEM CELLS INTO BILE DUCT WALLS",
          "METHOD OF TREATING PANCREATIC AND LIVER CONDITIONS BY TRANSPLANTATION OF STEM CELLS INTO BILE DUCT WALLS",
          "METHOD OF TREATING PANCREATIC AND LIVER CONDITIONS BY TRANSPLANTATION OF STEM CELLS INTO BILE DUCT WALLS",
          "MULTIPOTENT STEM CELLS FROM THE EXTRAHEPATIC BILLARY TREE AND METHODS OF ISOLATING SAME",
          "MULTIPOTENT STEM CELLS FROM THE EXTRAHEPATIC BILLARY TREE AND METHODS OF ISOLATING SAME",
          "MULTIPOTENT STEM CELLS FROM THE EXTRAHEPATIC BILLARY TREE AND METHODS OF ISOLATING SAME",
          "METHOD OF TREATING PANCREATIC AND LIVER CONDITIONS BY TRANSPLANTATION OF STEM CELLS INTO BILE DUCT WALLS",
          "METHOD OF TREATING PANCREATIC AND LIVER CONDITIONS BY TRANSPLANTATION OF STEM CELLS INTO BILE DUCT WALLS",
          "METHOD OF TREATING PANCREATIC AND LIVER CONDITIONS BY TRANSPLANTATION OF STEM CELLS INTO BILE DUCT WALLS",
          "A METHOD OF OBTAINING A MAMMALIAN MULTIPOTENT STEM/PROGENITOR CELLS CAPABLE OF DIFFERENTIATING INTO MULTIPLE ENDODERMAL LINEAGES",
          "Multipotent stem cells from the extrahepatic billary tree and methods of isolating same",
          "MULTIPOTENT STEM CELLS FROM THE EXTRAHEPATIC BILIARY TREE AND METHODS OF ISOLATING SAME",
          "MULTIPOTENT STEM CELLS FROM THE EXTRAHEPATIC BILIARY TREE AND METHODS OF ISOLATING SAME",
          "METHOD OF TREATING PANCREATIC AND LIVER CONDITIONS BY TRANSPLANTATION OF STEM CELLS INTO BILE DUCT WALLS",
          "Multipotent stem cells from the extrahepatic billary tree and methods of isolating same",
          "Multipotent stem cells from the extrahepatic billary tree and methods of isolating same",
          "MULTIPOTENT STEM CELLS FROM THE EXTRAHEPATIC BILLARY TREE AND METHODS OF ISOLATING SAME",
          "MULTIPOTENT STEM CELLS FROM THE EXTRAHEPATIC BILLARY TREE AND METHODS OF ISOLATING SAME",
          "METHOD OF TREATING PANCREATIC AND LIVER CONDITIONS BY TRANSPLANTATION OF STEM CELLS INTO BILE DUCT WALLS",
          "METHOD OF TREATING PANCREATIC AND LIVER CONDITIONS BY TRANSPLANTATION OF STEM CELLS INTO BILE DUCT WALLS",
          "METHOD OF TREATING PANCREATIC AND LIVER CONDITIONS BY ENDOSCOPIC-MEDIATED (OR LAPAROSCOPIC-MEDIATED) TRANSPLANTATION OF STEM CELLS INTO/ONTO BILE DUCT WALLS OF PARTICULAR REGIONS OF THE BILIARY TREE",
          "METHOD OF TREATING PANCREATIC AND LIVER CONDITIONS BY ENDOSCOPIC-MEDIATED (OR LAPAROSCOPIC-MEDIATED) TRANSPLANTATION OF STEM CELLS INTO/ONTO BILE DUCT WALLS OF PARTICULAR REGIONS OF THE BILIARY TREE",
          "METHOD OF TREATING PANCREATIC AND LIVER CONDITIONS BY ENDOSCOPIC-MEDIATED (OR LAPAROSCOPIC-MEDIATED) TRANSPLANTATION OF STEM CELLS INTO/ONTO BILE DUCT WALLS OF PARTICULAR REGIONS OF THE BILIARY TREE",
          "METHOD OF TREATING PANCREATIC AND LIVER CONDITIONS BY ENDOSCOPIC-MEDIATED (OR LAPAROSCOPIC-MEDIATED) TRANSPLANTATION OF STEM CELLS INTO/ONTO BILE DUCT WALLS OF PARTICULAR REGIONS OF THE BILIARY TREE",
          "METHOD OF TREATING PANCREATIC AND LIVER CONDITIONS BY ENDOSCOPIC-MEDIATED (OR LAPAROSCOPIC-MEDIATED) TRANSPLANTATION OF STEM CELLS INTO/ONTO BILE DUCT WALLS OF PARTICULAR REGIONS OF THE BILIARY TREE",
          "METHOD OF TREATING PANCREATIC AND LIVER CONDITIONS BY ENDOSCOPIC-MEDIATED (OR LAPAROSCOPIC-MEDIATED) TRANSPLANTATION OF STEM CELLS INTO/ONTO BILE DUCT WALLS OF PARTICULAR REGIONS OF THE BILIARY TREE",
          "Multipotent stem cells from the extrahepatic biliary tree and methods of isolating same",
          "METHOD OF TREATING PANCREATIC AND LIVER CONDITIONS BY TRANSPLANTATION OF STEM CELLS INTO BILE DUCT WALLS",
          "METHOD OF TREATING PANCREATIC AND LIVER CONDITIONS BY TRANSPLANTATION OF STEM CELLS INTO BILE DUCT WALLS",
          "Method of treating pancreatic and liver conditions by transplantation of stem cells into bile duct walls",
          "Method of treating pancreatic and liver conditions by transplantation of stem cells into bile duct walls",
          "Method of treating pancreatic and liver conditions by transplantation of stem cells into bile duct walls",
          "Multipotent stem cells from the extrahepatic billary tree and methods of isolating same",
          "Method of treating pancreatic and liver conditions by transplantation of stem cells into bile duct walls",
          "Method of treating pancreatic and liver conditions by transplantation of stem cells into bile duct walls",
          "Multipotent stem cells from the extrahepatic billary tree and methods of isolating same"
         ],
         "legendgroup": "country=United States",
         "marker": {
          "color": "#EF553B"
         },
         "name": "country=United States",
         "offsetgroup": "country=United States",
         "orientation": "v",
         "showlegend": true,
         "textposition": "auto",
         "type": "bar",
         "uid": "26c8e602-f464-4682-9cca-5824ea729c17",
         "x": [
          "University of North Carolina at Chapel Hill",
          "University of North Carolina at Chapel Hill",
          "University of Miami",
          "University of North Carolina at Chapel Hill",
          "University of North Carolina at Chapel Hill",
          "University of North Carolina at Chapel Hill",
          "University of Miami",
          "University of North Carolina System",
          "University of North Carolina at Chapel Hill",
          "University of North Carolina at Chapel Hill",
          "University of North Carolina System",
          "University of Miami",
          "University of North Carolina at Chapel Hill",
          "University of North Carolina at Chapel Hill",
          "University of North Carolina System",
          "University of North Carolina System",
          "University of Miami",
          "University of North Carolina at Chapel Hill",
          "University of North Carolina at Chapel Hill",
          "University of North Carolina at Chapel Hill",
          "University of North Carolina System",
          "University of North Carolina at Chapel Hill",
          "University of North Carolina System",
          "University of North Carolina System",
          "University of North Carolina at Chapel Hill",
          "University of North Carolina at Chapel Hill",
          "University of North Carolina System",
          "University of Miami",
          "University of North Carolina at Chapel Hill",
          "University of Miami",
          "University of North Carolina System",
          "University of North Carolina at Chapel Hill",
          "University of Miami",
          "University of North Carolina System",
          "University of North Carolina at Chapel Hill",
          "University of North Carolina System",
          "University of North Carolina at Chapel Hill",
          "University of Miami",
          "University of North Carolina at Chapel Hill",
          "University of Miami",
          "University of North Carolina System",
          "University of North Carolina at Chapel Hill",
          "University of North Carolina at Chapel Hill",
          "University of Miami",
          "University of North Carolina System"
         ],
         "xaxis": "x",
         "yaxis": "y"
        },
        {
         "alignmentgroup": "True",
         "customdata": [
          [
           "US-10013282-B2"
          ],
          [
           "WO-2010023413-A1"
          ],
          [
           "WO-2010023413-A1"
          ],
          [
           "WO-2016116450-A3"
          ],
          [
           "EP-2928003-B1"
          ],
          [
           "EP-2928003-B1"
          ],
          [
           "EP-0241435-B1"
          ],
          [
           "EP-0241435-A2"
          ],
          [
           "US-9452987-B2"
          ],
          [
           "US-9452987-B2"
          ],
          [
           "DE-3782844-T2"
          ],
          [
           "EP-3066565-A1"
          ],
          [
           "EP-2334831-A1"
          ],
          [
           "EP-2334831-A1"
          ],
          [
           "EP-3247940-A2"
          ],
          [
           "US-20160274938-A1"
          ],
          [
           "US-20150315155-A1"
          ],
          [
           "US-20150315155-A1"
          ],
          [
           "WO-2016151144-A1"
          ],
          [
           "US-8927160-B2"
          ],
          [
           "US-8927160-B2"
          ],
          [
           "FR-2935382-B1"
          ],
          [
           "FR-2935382-B1"
          ],
          [
           "DE-3782844-D1"
          ],
          [
           "FR-3012895-A1"
          ],
          [
           "FR-3031796-A1"
          ],
          [
           "DE-241435-T1"
          ],
          [
           "EP-2334831-B1"
          ],
          [
           "EP-2334831-B1"
          ],
          [
           "US-20180118717-A1"
          ],
          [
           "FR-3012895-B1"
          ],
          [
           "EP-3277676-A1"
          ],
          [
           "EP-0241435-A3"
          ],
          [
           "FR-2935382-A1"
          ],
          [
           "FR-2935382-A1"
          ],
          [
           "EP-2928003-A1"
          ],
          [
           "EP-2928003-A1"
          ]
         ],
         "hoverlabel": {
          "namelength": 0
         },
         "hovertemplate": "<b>%{hovertext}</b><br><br>country=France<br>assignee_name=%{x}<br>id=%{customdata[0]}",
         "hovertext": [
          "Method and computer program for offloading execution of computing tasks of a wireless equipment",
          "PENTACYCLIC ANION SALT AND USE THEREOF AS AN ELECTROLYTE",
          "PENTACYCLIC ANION SALT AND USE THEREOF AS AN ELECTROLYTE",
          "COMBUSTION MODULE PROVIDING IMPROVED COMBUSTION OF GASES",
          "PENTACYCLIC ANION SALT AND USE THEREOF AS ELECTROLYTE",
          "PENTACYCLIC ANION SALT AND USE THEREOF AS ELECTROLYTE",
          "VECTORS FOR THE CLONING AND EXPRESSION OF HETEROLOGOUS GENES IN YEAST AND THE YEAST STRAINS TRANSFORMED BY SAID VECTORS",
          "Vectors for the cloning and expression of heterologous genes in yeast and the yeast strains transformed by said vectors",
          "Five-membered cyclic anion use thereof as an electrolyte",
          "Five-membered cyclic anion use thereof as an electrolyte",
          "Vectors for the cloning and expression of heterologous genes in yeasts and by means of these vectors transformed yeast strains.",
          "METHOD AND COMPUTER PROGRAM FOR THE OFF-SITE EXECUTION OF COMPUTING TASKS OF AN ITEM OF WIRELESS EQUIPMENT",
          "PENTACYCLIC ANION SALT AND USE THEREOF AS AN ELECTROLYTE",
          "PENTACYCLIC ANION SALT AND USE THEREOF AS AN ELECTROLYTE",
          "COMBUSTION MODULE FOR AN IMPROVED COMBUSTION OF GASES",
          "METHOD AND COMPUTER PROGRAM FOR OFFLOADING EXECUTION OF COMPUTING TASKS OF A WIRELESS EQUIPMENT",
          "FIVE-MEMBERED CYCLIC ANION USE THEREOF AS AN ELECTROLYTE",
          "FIVE-MEMBERED CYCLIC ANION USE THEREOF AS AN ELECTROLYTE",
          "SUBSTITUTED QUINAZOLINE DERIVATIVES AS DNA METHYLTRANSFERASE INHIBITORS",
          "Pentacyclic anion salt and use thereof as an electrolyte",
          "Pentacyclic anion salt and use thereof as an electrolyte",
          "The salt of anion pentacylique and its use as electrolyte",
          "The salt of anion pentacylique and its use as electrolyte",
          "Vectors for the cloning and expression of heterologous genes in yeasts and by means of these vectors transformed yeast strains.",
          "Method and the computer program for the computer deportee of spots of a wireless equipment",
          "The modulus of offering a combustion gas combustion improved",
          "Vectors for the cloning and expression of heterologous genes in yeasts and by means of these vectors transformed yeast strains.",
          "PENTACYCLIC ANION SALT AND USE THEREOF AS AN ELECTROLYTE",
          "PENTACYCLIC ANION SALT AND USE THEREOF AS AN ELECTROLYTE",
          "Substituted Quinazoline Derivatives as DNA Methyltransferase Inhibitors",
          "Method and the computer program for the computer deportee of spots of a wireless equipment",
          "SUBSTITUTED QUINAZOLINE DERIVATIVES AS DNA METHYLTRANSFERASE INHIBITORS",
          "VECTORS FOR THE CLONING AND EXPRESSION OF HETEROLOGOUS GENES IN YEAST AND THE YEAST STRAINS TRANSFORMED BY SAID VECTORS",
          "The salt of anion pentacylique and its use as electrolyte",
          "The salt of anion pentacylique and its use as electrolyte",
          "PENTACYCLIC ANION SALT AND USE THEREOF AS ELECTROLYTE",
          "PENTACYCLIC ANION SALT AND USE THEREOF AS ELECTROLYTE"
         ],
         "legendgroup": "country=France",
         "marker": {
          "color": "#00cc96"
         },
         "name": "country=France",
         "offsetgroup": "country=France",
         "orientation": "v",
         "showlegend": true,
         "textposition": "auto",
         "type": "bar",
         "uid": "5fb40a50-809c-4d47-9a47-3c9943269a9e",
         "x": [
          "Atomic Energy and Alternative Energies Commission",
          "French National Centre for Scientific Research",
          "University of Picardie Jules Verne",
          "Atomic Energy and Alternative Energies Commission",
          "French National Centre for Scientific Research",
          "University of Picardie Jules Verne",
          "French National Centre for Scientific Research",
          "French National Centre for Scientific Research",
          "French National Centre for Scientific Research",
          "University of Picardie Jules Verne",
          "French National Centre for Scientific Research",
          "Atomic Energy and Alternative Energies Commission",
          "University of Picardie Jules Verne",
          "French National Centre for Scientific Research",
          "Atomic Energy and Alternative Energies Commission",
          "Atomic Energy and Alternative Energies Commission",
          "French National Centre for Scientific Research",
          "University of Picardie Jules Verne",
          "French National Centre for Scientific Research",
          "University of Picardie Jules Verne",
          "French National Centre for Scientific Research",
          "University of Picardie Jules Verne",
          "French National Centre for Scientific Research",
          "French National Centre for Scientific Research",
          "Atomic Energy and Alternative Energies Commission",
          "Atomic Energy and Alternative Energies Commission",
          "French National Centre for Scientific Research",
          "University of Picardie Jules Verne",
          "French National Centre for Scientific Research",
          "French National Centre for Scientific Research",
          "Atomic Energy and Alternative Energies Commission",
          "French National Centre for Scientific Research",
          "French National Centre for Scientific Research",
          "French National Centre for Scientific Research",
          "University of Picardie Jules Verne",
          "French National Centre for Scientific Research",
          "University of Picardie Jules Verne"
         ],
         "xaxis": "x",
         "yaxis": "y"
        },
        {
         "alignmentgroup": "True",
         "customdata": [
          [
           "WO-2010023413-A1"
          ],
          [
           "EP-2928003-B1"
          ],
          [
           "US-9452987-B2"
          ],
          [
           "EP-2334831-A1"
          ],
          [
           "US-20150315155-A1"
          ],
          [
           "US-8927160-B2"
          ],
          [
           "FR-2935382-B1"
          ],
          [
           "EP-2334831-B1"
          ],
          [
           "FR-2935382-A1"
          ],
          [
           "EP-2928003-A1"
          ]
         ],
         "hoverlabel": {
          "namelength": 0
         },
         "hovertemplate": "<b>%{hovertext}</b><br><br>country=Poland<br>assignee_name=%{x}<br>id=%{customdata[0]}",
         "hovertext": [
          "PENTACYCLIC ANION SALT AND USE THEREOF AS AN ELECTROLYTE",
          "PENTACYCLIC ANION SALT AND USE THEREOF AS ELECTROLYTE",
          "Five-membered cyclic anion use thereof as an electrolyte",
          "PENTACYCLIC ANION SALT AND USE THEREOF AS AN ELECTROLYTE",
          "FIVE-MEMBERED CYCLIC ANION USE THEREOF AS AN ELECTROLYTE",
          "Pentacyclic anion salt and use thereof as an electrolyte",
          "The salt of anion pentacylique and its use as electrolyte",
          "PENTACYCLIC ANION SALT AND USE THEREOF AS AN ELECTROLYTE",
          "The salt of anion pentacylique and its use as electrolyte",
          "PENTACYCLIC ANION SALT AND USE THEREOF AS ELECTROLYTE"
         ],
         "legendgroup": "country=Poland",
         "marker": {
          "color": "#ab63fa"
         },
         "name": "country=Poland",
         "offsetgroup": "country=Poland",
         "orientation": "v",
         "showlegend": true,
         "textposition": "auto",
         "type": "bar",
         "uid": "a6dd3827-3701-47c0-8cef-b355c1bd3e3f",
         "x": [
          "Warsaw University of Technology",
          "Warsaw University of Technology",
          "Warsaw University of Technology",
          "Warsaw University of Technology",
          "Warsaw University of Technology",
          "Warsaw University of Technology",
          "Warsaw University of Technology",
          "Warsaw University of Technology",
          "Warsaw University of Technology",
          "Warsaw University of Technology"
         ],
         "xaxis": "x",
         "yaxis": "y"
        },
        {
         "alignmentgroup": "True",
         "customdata": [
          [
           "US-20080279840-A1"
          ],
          [
           "AU-2189702-A"
          ],
          [
           "AU-2002221897-A1"
          ],
          [
           "CA-2430291-A1"
          ],
          [
           "US-8722038-B2"
          ],
          [
           "EP-1339422-A2"
          ]
         ],
         "hoverlabel": {
          "namelength": 0
         },
         "hovertemplate": "<b>%{hovertext}</b><br><br>country=Canada<br>assignee_name=%{x}<br>id=%{customdata[0]}",
         "hovertext": [
          "Histaminase of vegetable origin for use in the treatment of allergic and septic shock and of allergic asthma",
          "Histaminase of vegetable origin for use in the treatment of allergic and septic shock and of allergic asthma",
          "Histaminase of vegetable origin for use in the treatment of allergic and septic shock and of allergic asthma",
          "HISTAMINASE OF VEGETABLE ORIGIN FOR USE IN THE TREATMENT OF ALLERGIC AND SEPTIC SHOCK AND OF ALLERGIC ASTHMA",
          "Histaminase of vegetable origin for use in the treatment of allergic and septic shock and of allergic asthma",
          "HISTAMINASE OF VEGETABLE ORIGIN FOR USE IN THE TREATMENT OF ALLERGIC AND SEPTIC SHOCK AND OF ALLERGIC ASTHMA"
         ],
         "legendgroup": "country=Canada",
         "marker": {
          "color": "#19d3f3"
         },
         "name": "country=Canada",
         "offsetgroup": "country=Canada",
         "orientation": "v",
         "showlegend": true,
         "textposition": "auto",
         "type": "bar",
         "uid": "128c59f0-be63-4447-ae9c-72259210c6bf",
         "x": [
          "University of Quebec at Montreal",
          "University of Quebec at Montreal",
          "University of Quebec at Montreal",
          "University of Quebec at Montreal",
          "University of Quebec at Montreal",
          "University of Quebec at Montreal"
         ],
         "xaxis": "x",
         "yaxis": "y"
        }
       ],
       "layout": {
        "autosize": true,
        "barmode": "relative",
        "grid": {
         "xaxes": [
          "x"
         ],
         "xgap": 0.1,
         "xside": "bottom",
         "yaxes": [
          "y"
         ],
         "ygap": 0.1,
         "yside": "left"
        },
        "legend": {
         "tracegroupgap": 0
        },
        "margin": {
         "t": 60
        },
        "template": {
         "data": {
          "bar": [
           {
            "marker": {
             "line": {
              "color": "#E5ECF6",
              "width": 0.5
             }
            },
            "type": "bar"
           }
          ],
          "barpolar": [
           {
            "marker": {
             "line": {
              "color": "#E5ECF6",
              "width": 0.5
             }
            },
            "type": "barpolar"
           }
          ],
          "carpet": [
           {
            "aaxis": {
             "endlinecolor": "#2a3f5f",
             "gridcolor": "white",
             "linecolor": "white",
             "minorgridcolor": "white",
             "startlinecolor": "#2a3f5f"
            },
            "baxis": {
             "endlinecolor": "#2a3f5f",
             "gridcolor": "white",
             "linecolor": "white",
             "minorgridcolor": "white",
             "startlinecolor": "#2a3f5f"
            },
            "type": "carpet"
           }
          ],
          "choropleth": [
           {
            "colorbar": {
             "outlinewidth": 0,
             "ticks": ""
            },
            "type": "choropleth"
           }
          ],
          "contour": [
           {
            "colorbar": {
             "outlinewidth": 0,
             "ticks": ""
            },
            "colorscale": [
             [
              0,
              "#0508b8"
             ],
             [
              0.0893854748603352,
              "#1910d8"
             ],
             [
              0.1787709497206704,
              "#3c19f0"
             ],
             [
              0.2681564245810056,
              "#6b1cfb"
             ],
             [
              0.3575418994413408,
              "#981cfd"
             ],
             [
              0.44692737430167595,
              "#bf1cfd"
             ],
             [
              0.5363128491620112,
              "#dd2bfd"
             ],
             [
              0.6256983240223464,
              "#f246fe"
             ],
             [
              0.7150837988826816,
              "#fc67fd"
             ],
             [
              0.8044692737430168,
              "#fe88fc"
             ],
             [
              0.8938547486033519,
              "#fea5fd"
             ],
             [
              0.9832402234636871,
              "#febefe"
             ],
             [
              1,
              "#fec3fe"
             ]
            ],
            "type": "contour"
           }
          ],
          "contourcarpet": [
           {
            "colorbar": {
             "outlinewidth": 0,
             "ticks": ""
            },
            "type": "contourcarpet"
           }
          ],
          "heatmap": [
           {
            "colorbar": {
             "outlinewidth": 0,
             "ticks": ""
            },
            "colorscale": [
             [
              0,
              "#0508b8"
             ],
             [
              0.0893854748603352,
              "#1910d8"
             ],
             [
              0.1787709497206704,
              "#3c19f0"
             ],
             [
              0.2681564245810056,
              "#6b1cfb"
             ],
             [
              0.3575418994413408,
              "#981cfd"
             ],
             [
              0.44692737430167595,
              "#bf1cfd"
             ],
             [
              0.5363128491620112,
              "#dd2bfd"
             ],
             [
              0.6256983240223464,
              "#f246fe"
             ],
             [
              0.7150837988826816,
              "#fc67fd"
             ],
             [
              0.8044692737430168,
              "#fe88fc"
             ],
             [
              0.8938547486033519,
              "#fea5fd"
             ],
             [
              0.9832402234636871,
              "#febefe"
             ],
             [
              1,
              "#fec3fe"
             ]
            ],
            "type": "heatmap"
           }
          ],
          "heatmapgl": [
           {
            "colorbar": {
             "outlinewidth": 0,
             "ticks": ""
            },
            "type": "heatmapgl"
           }
          ],
          "histogram": [
           {
            "marker": {
             "colorbar": {
              "outlinewidth": 0,
              "ticks": ""
             }
            },
            "type": "histogram"
           }
          ],
          "histogram2d": [
           {
            "colorbar": {
             "outlinewidth": 0,
             "ticks": ""
            },
            "colorscale": [
             [
              0,
              "#0508b8"
             ],
             [
              0.0893854748603352,
              "#1910d8"
             ],
             [
              0.1787709497206704,
              "#3c19f0"
             ],
             [
              0.2681564245810056,
              "#6b1cfb"
             ],
             [
              0.3575418994413408,
              "#981cfd"
             ],
             [
              0.44692737430167595,
              "#bf1cfd"
             ],
             [
              0.5363128491620112,
              "#dd2bfd"
             ],
             [
              0.6256983240223464,
              "#f246fe"
             ],
             [
              0.7150837988826816,
              "#fc67fd"
             ],
             [
              0.8044692737430168,
              "#fe88fc"
             ],
             [
              0.8938547486033519,
              "#fea5fd"
             ],
             [
              0.9832402234636871,
              "#febefe"
             ],
             [
              1,
              "#fec3fe"
             ]
            ],
            "type": "histogram2d"
           }
          ],
          "histogram2dcontour": [
           {
            "colorbar": {
             "outlinewidth": 0,
             "ticks": ""
            },
            "colorscale": [
             [
              0,
              "#0508b8"
             ],
             [
              0.0893854748603352,
              "#1910d8"
             ],
             [
              0.1787709497206704,
              "#3c19f0"
             ],
             [
              0.2681564245810056,
              "#6b1cfb"
             ],
             [
              0.3575418994413408,
              "#981cfd"
             ],
             [
              0.44692737430167595,
              "#bf1cfd"
             ],
             [
              0.5363128491620112,
              "#dd2bfd"
             ],
             [
              0.6256983240223464,
              "#f246fe"
             ],
             [
              0.7150837988826816,
              "#fc67fd"
             ],
             [
              0.8044692737430168,
              "#fe88fc"
             ],
             [
              0.8938547486033519,
              "#fea5fd"
             ],
             [
              0.9832402234636871,
              "#febefe"
             ],
             [
              1,
              "#fec3fe"
             ]
            ],
            "type": "histogram2dcontour"
           }
          ],
          "mesh3d": [
           {
            "colorbar": {
             "outlinewidth": 0,
             "ticks": ""
            },
            "type": "mesh3d"
           }
          ],
          "parcoords": [
           {
            "line": {
             "colorbar": {
              "outlinewidth": 0,
              "ticks": ""
             }
            },
            "type": "parcoords"
           }
          ],
          "scatter": [
           {
            "marker": {
             "colorbar": {
              "outlinewidth": 0,
              "ticks": ""
             }
            },
            "type": "scatter"
           }
          ],
          "scatter3d": [
           {
            "marker": {
             "colorbar": {
              "outlinewidth": 0,
              "ticks": ""
             }
            },
            "type": "scatter3d"
           }
          ],
          "scattercarpet": [
           {
            "marker": {
             "colorbar": {
              "outlinewidth": 0,
              "ticks": ""
             }
            },
            "type": "scattercarpet"
           }
          ],
          "scattergeo": [
           {
            "marker": {
             "colorbar": {
              "outlinewidth": 0,
              "ticks": ""
             }
            },
            "type": "scattergeo"
           }
          ],
          "scattergl": [
           {
            "marker": {
             "colorbar": {
              "outlinewidth": 0,
              "ticks": ""
             }
            },
            "type": "scattergl"
           }
          ],
          "scattermapbox": [
           {
            "marker": {
             "colorbar": {
              "outlinewidth": 0,
              "ticks": ""
             }
            },
            "type": "scattermapbox"
           }
          ],
          "scatterpolar": [
           {
            "marker": {
             "colorbar": {
              "outlinewidth": 0,
              "ticks": ""
             }
            },
            "type": "scatterpolar"
           }
          ],
          "scatterpolargl": [
           {
            "marker": {
             "colorbar": {
              "outlinewidth": 0,
              "ticks": ""
             }
            },
            "type": "scatterpolargl"
           }
          ],
          "scatterternary": [
           {
            "marker": {
             "colorbar": {
              "outlinewidth": 0,
              "ticks": ""
             }
            },
            "type": "scatterternary"
           }
          ],
          "surface": [
           {
            "colorbar": {
             "outlinewidth": 0,
             "ticks": ""
            },
            "type": "surface"
           }
          ],
          "table": [
           {
            "cells": {
             "fill": {
              "color": "#EBF0F8"
             },
             "line": {
              "color": "white"
             }
            },
            "header": {
             "fill": {
              "color": "#C8D4E3"
             },
             "line": {
              "color": "white"
             }
            },
            "type": "table"
           }
          ]
         },
         "layout": {
          "annotationdefaults": {
           "arrowcolor": "#506784",
           "arrowhead": 0,
           "arrowwidth": 1
          },
          "colorscale": {
           "diverging": [
            [
             0,
             "#8e0152"
            ],
            [
             0.1,
             "#c51b7d"
            ],
            [
             0.2,
             "#de77ae"
            ],
            [
             0.3,
             "#f1b6da"
            ],
            [
             0.4,
             "#fde0ef"
            ],
            [
             0.5,
             "#f7f7f7"
            ],
            [
             0.6,
             "#e6f5d0"
            ],
            [
             0.7,
             "#b8e186"
            ],
            [
             0.8,
             "#7fbc41"
            ],
            [
             0.9,
             "#4d9221"
            ],
            [
             1,
             "#276419"
            ]
           ],
           "sequential": [
            [
             0,
             "#0508b8"
            ],
            [
             0.0893854748603352,
             "#1910d8"
            ],
            [
             0.1787709497206704,
             "#3c19f0"
            ],
            [
             0.2681564245810056,
             "#6b1cfb"
            ],
            [
             0.3575418994413408,
             "#981cfd"
            ],
            [
             0.44692737430167595,
             "#bf1cfd"
            ],
            [
             0.5363128491620112,
             "#dd2bfd"
            ],
            [
             0.6256983240223464,
             "#f246fe"
            ],
            [
             0.7150837988826816,
             "#fc67fd"
            ],
            [
             0.8044692737430168,
             "#fe88fc"
            ],
            [
             0.8938547486033519,
             "#fea5fd"
            ],
            [
             0.9832402234636871,
             "#febefe"
            ],
            [
             1,
             "#fec3fe"
            ]
           ],
           "sequentialminus": [
            [
             0,
             "#0508b8"
            ],
            [
             0.0893854748603352,
             "#1910d8"
            ],
            [
             0.1787709497206704,
             "#3c19f0"
            ],
            [
             0.2681564245810056,
             "#6b1cfb"
            ],
            [
             0.3575418994413408,
             "#981cfd"
            ],
            [
             0.44692737430167595,
             "#bf1cfd"
            ],
            [
             0.5363128491620112,
             "#dd2bfd"
            ],
            [
             0.6256983240223464,
             "#f246fe"
            ],
            [
             0.7150837988826816,
             "#fc67fd"
            ],
            [
             0.8044692737430168,
             "#fe88fc"
            ],
            [
             0.8938547486033519,
             "#fea5fd"
            ],
            [
             0.9832402234636871,
             "#febefe"
            ],
            [
             1,
             "#fec3fe"
            ]
           ]
          },
          "colorway": [
           "#636efa",
           "#EF553B",
           "#00cc96",
           "#ab63fa",
           "#19d3f3",
           "#e763fa",
           "#FECB52",
           "#FFA15A",
           "#FF6692",
           "#B6E880"
          ],
          "font": {
           "color": "#2a3f5f"
          },
          "geo": {
           "bgcolor": "white",
           "lakecolor": "white",
           "landcolor": "#E5ECF6",
           "showlakes": true,
           "showland": true,
           "subunitcolor": "white"
          },
          "hoverlabel": {
           "align": "left"
          },
          "hovermode": "closest",
          "mapbox": {
           "style": "light"
          },
          "paper_bgcolor": "white",
          "plot_bgcolor": "#E5ECF6",
          "polar": {
           "angularaxis": {
            "gridcolor": "white",
            "linecolor": "white",
            "ticks": ""
           },
           "bgcolor": "#E5ECF6",
           "radialaxis": {
            "gridcolor": "white",
            "linecolor": "white",
            "ticks": ""
           }
          },
          "scene": {
           "xaxis": {
            "backgroundcolor": "#E5ECF6",
            "gridcolor": "white",
            "gridwidth": 2,
            "linecolor": "white",
            "showbackground": true,
            "ticks": "",
            "zerolinecolor": "white"
           },
           "yaxis": {
            "backgroundcolor": "#E5ECF6",
            "gridcolor": "white",
            "gridwidth": 2,
            "linecolor": "white",
            "showbackground": true,
            "ticks": "",
            "zerolinecolor": "white"
           },
           "zaxis": {
            "backgroundcolor": "#E5ECF6",
            "gridcolor": "white",
            "gridwidth": 2,
            "linecolor": "white",
            "showbackground": true,
            "ticks": "",
            "zerolinecolor": "white"
           }
          },
          "shapedefaults": {
           "fillcolor": "#506784",
           "line": {
            "width": 0
           },
           "opacity": 0.4
          },
          "ternary": {
           "aaxis": {
            "gridcolor": "white",
            "linecolor": "white",
            "ticks": ""
           },
           "baxis": {
            "gridcolor": "white",
            "linecolor": "white",
            "ticks": ""
           },
           "bgcolor": "#E5ECF6",
           "caxis": {
            "gridcolor": "white",
            "linecolor": "white",
            "ticks": ""
           }
          },
          "title": {
           "x": 0.05
          },
          "xaxis": {
           "automargin": true,
           "gridcolor": "white",
           "linecolor": "white",
           "ticks": "",
           "zerolinecolor": "white",
           "zerolinewidth": 2
          },
          "yaxis": {
           "automargin": true,
           "gridcolor": "white",
           "linecolor": "white",
           "ticks": "",
           "zerolinecolor": "white",
           "zerolinewidth": 2
          }
         }
        },
        "xaxis": {
         "autorange": true,
         "range": [
          -0.5,
          19.5
         ],
         "title": {
          "text": "assignee_name"
         },
         "type": "category"
        },
        "yaxis": {
         "autorange": true,
         "range": [
          0,
          4386.315789473684
         ]
        }
       }
      },
      "image/png": "[encoded data removed]",
      "text/html": [
       "<div>\n",
       "        \n",
       "        \n",
       "            <div id=\"bc70295c-08c7-4f73-b504-d9ff99fd2ef0\" class=\"plotly-graph-div\" style=\"height:600px; width:100%;\"></div>\n",
       "            <script type=\"text/javascript\">\n",
       "                require([\"plotly\"], function(Plotly) {\n",
       "                    window.PLOTLYENV=window.PLOTLYENV || {};\n",
       "                    window.PLOTLYENV.BASE_URL='https://plot.ly';\n",
       "                    \n",
       "                if (document.getElementById(\"bc70295c-08c7-4f73-b504-d9ff99fd2ef0\")) {\n",
       "                    Plotly.newPlot(\n",
       "                        'bc70295c-08c7-4f73-b504-d9ff99fd2ef0',\n",
       "                        [{\"alignmentgroup\": \"True\", \"customdata\": [[\"CA-2659681-A1\"], [\"CA-2659681-A1\"], [\"EP-2195289-A2\"], [\"EP-2013217-A1\"], [\"US-7459298-B2\"], [\"EP-2529195-A1\"], [\"EP-2529195-A1\"], [\"CA-2797011-A1\"], [\"CA-2797011-A1\"], [\"EP-1807713-A2\"], [\"AU-5777696-A\"], [\"EP-1807713-B1\"], [\"EP-2705472-B1\"], [\"EP-1831681-A1\"], [\"EP-1837626-A2\"], [\"GB-0513431-D0\"], [\"EP-1718676-A1\"], [\"EP-1718676-A1\"], [\"EP-1272659-B1\"], [\"US-20190016686-A1\"], [\"US-20090317032-A1\"], [\"US-20080279840-A1\"], [\"AU-2011244478-A1\"], [\"AU-2011244478-A1\"], [\"EP-1910383-B1\"], [\"DE-602006009276-D1\"], [\"AU-2189702-A\"], [\"AU-2002221897-A1\"], [\"EP-2195289-B1\"], [\"EP-1098845-A2\"], [\"EP-1590842-A2\"], [\"CA-2430291-A1\"], [\"AU-5255501-A\"], [\"AU-5255501-A\"], [\"EP-1274674-A1\"], [\"EP-1274674-A1\"], [\"EP-1272659-A1\"], [\"EP-1520027-A1\"], [\"EP-0241435-B1\"], [\"US-8304410-B2\"], [\"AU-2003281302-A1\"], [\"US-8093218-B2\"], [\"US-8093218-B2\"], [\"EP-1615638-A1\"], [\"EP-1866626-A1\"], [\"EP-1690096-A1\"], [\"EP-2115174-A2\"], [\"US-8765820-B2\"], [\"US-8765820-B2\"], [\"EP-3201194-A1\"], [\"EP-0241435-A2\"], [\"US-20040115189-A1\"], [\"EP-1146128-A1\"], [\"EP-1718676-B1\"], [\"EP-1718676-B1\"], [\"EP-2160779-A2\"], [\"EP-1893775-B1\"], [\"EP-3013331-A1\"], [\"AU-2011244478-B2\"], [\"AU-2011244478-B2\"], [\"US-9488778-B2\"], [\"EP-1615638-B1\"], [\"US-20160368886-A1\"], [\"EP-2916794-A1\"], [\"US-7955816-B2\"], [\"AU-5255301-A\"], [\"US-20030166721-A1\"], [\"US-20030166721-A1\"], [\"AU-4366399-A\"], [\"IN-2012MN02335-A\"], [\"IN-2012MN02335-A\"], [\"EP-2032687-B1\"], [\"EP-2032687-B1\"], [\"DE-3782844-T2\"], [\"US-7925124-B2\"], [\"EP-1381882-B1\"], [\"EP-1425636-B1\"], [\"AU-2003281302-A8\"], [\"EP-1893775-A2\"], [\"DE-60214203-D1\"], [\"DE-60214692-T2\"], [\"DE-60214692-D1\"], [\"EP-2521527-A1\"], [\"US-20120288540-A1\"], [\"EP-1274674-B1\"], [\"EP-1274674-B1\"], [\"EP-1590842-B1\"], [\"EP-1880702-A2\"], [\"EP-1453494-A2\"], [\"US-20060084062-A1\"], [\"EP-1880702-A3\"], [\"US-20160054522-A1\"], [\"EP-2121179-A1\"], [\"WO-2014170872-A1\"], [\"DE-602004002584-T2\"], [\"DE-60229660-D1\"], [\"DE-60121312-D1\"], [\"US-20090312266-A1\"], [\"US-20090312266-A1\"], [\"US-8722038-B2\"], [\"US-20100197672-A1\"], [\"EP-2560949-B1\"], [\"EP-2560949-B1\"], [\"EP-2705472-A1\"], [\"EP-3201194-B1\"], [\"CA-2914794-A1\"], [\"WO-2019145840-A1\"], [\"EP-2045237-A1\"], [\"DE-60117770-T2\"], [\"DE-60117770-T2\"], [\"EP-1339422-A2\"], [\"EP-1660078-A1\"], [\"EP-1425636-A1\"], [\"AU-2002358986-A8\"], [\"DE-3782844-D1\"], [\"EP-2552360-A1\"], [\"DE-241435-T1\"], [\"EP-1831681-B1\"], [\"EP-2032687-A1\"], [\"EP-2032687-A1\"], [\"EP-2987011-B1\"], [\"EP-1880702-B1\"], [\"EP-0826040-A1\"], [\"AU-4981093-A\"], [\"US-5166070-A\"], [\"EP-2560949-A1\"], [\"EP-2560949-A1\"], [\"US-20140126030-A1\"], [\"US-20100038298-A1\"], [\"EP-1910383-A1\"], [\"US-20130202648-A1\"], [\"US-20130035377-A1\"], [\"US-20130035377-A1\"], [\"EP-2178602-A2\"], [\"EP-1381882-A1\"], [\"DE-60117770-D1\"], [\"DE-60117770-D1\"], [\"US-20130089856-A1\"], [\"DE-602004002584-D1\"], [\"DE-602004029622-D1\"], [\"EP-2054440-B1\"], [\"EP-2054440-B1\"], [\"US-10093642-B2\"], [\"EP-1453494-B1\"], [\"EP-1339422-B1\"], [\"CA-2797011-C\"], [\"CA-2797011-C\"], [\"EP-2054440-A2\"], [\"EP-2054440-A2\"], [\"DE-602005013195-D1\"], [\"EP-2276413-A2\"], [\"DE-602005015474-D1\"], [\"DE-60125585-D1\"], [\"EP-1837626-A3\"], [\"EP-2987011-A1\"], [\"EP-0241435-A3\"], [\"US-6819282-B1\"], [\"US-7570195-B2\"]], \"hoverlabel\": {\"namelength\": 0}, \"hovertemplate\": \"<b>%{hovertext}</b><br><br>country=Italy<br>assignee_name=%{x}<br>id=%{customdata[0]}\", \"hovertext\": [\"PEPTIDE DERIVED FROM VASCULAR ENDOTHELIAL GROWTH FACTOR RECEPTOR-1 BINDING INTEGRIN .ALPHA.5.BETA.1, HAVING PROANGIOGENIC ACTIVITY\", \"PEPTIDE DERIVED FROM VASCULAR ENDOTHELIAL GROWTH FACTOR RECEPTOR-1 BINDING INTEGRIN .ALPHA.5.BETA.1, HAVING PROANGIOGENIC ACTIVITY\", \"PYRROLE COMPOUNDS AS INHIBITORS OF MYCOBACTERIA, SYNTHESIS THEREOF ANS INTERMEDIATES THERETO\", \"DESIGN AND SYNTHESIS OF BIOTINYLATED PROBES FOR N-ACYL-ETHANOLAMINES\", \"Purification, cloning and biochemical characterization of XendoU, endoribonucleasic activity involved in small nuclear RNA splicing-independent biosynthesis in Xenopus laevis\", \"METHOD FOR IN VITRO DETECTION OF ATAXIA TELANGIECTASIA HEALTHY CARRIERS AND RELATED KIT\", \"METHOD FOR IN VITRO DETECTION OF ATAXIA TELANGIECTASIA HEALTHY CARRIERS AND RELATED KIT\", \"TRANYLCYPROMINE DERIVATIVES AS INHIBITORS OF HISTONE DEMETHYLASE LSD1 AND/OR LSD2\", \"TRANYLCYPROMINE DERIVATIVES AS INHIBITORS OF HISTONE DEMETHYLASE LSD1 AND/OR LSD2\", \"HIGH-CAPACITY LOCATION AND IDENTIFICATION SYSTEM FOR COOPERATING MOBILES WITH FREQUENCY AGILE AND TIME DIVISION TRANSPONDER DEVICE ON BOARD\", \"Candida heat shock protein, cdna and uses thereof\", \"HIGH-CAPACITY LOCATION AND IDENTIFICATION SYSTEM FOR COOPERATING MOBILES WITH FREQUENCY AGILE AND TIME DIVISION TRANSPONDER DEVICE ON BOARD\", \"AN INTEGRATED OPTICS LOGIC GATE FOR POLARIZATION-ENCODED QUANTUM QUBITS AND A METHOD FOR THE PRODUCTION AND USE THEREOF\", \"METHOD FOR THE CONTROL OF THE RESPONSE TIME OF A SENSOR FOR CHEMICAL SUBSTANCES\", \"System for asessing a law of motion and related method\", \"Prophylactic compositions and uses\", \"ANTI-CLUSTERIN OLIGOCLONAL ANTIBODIES FOR DIAGNOSIS AND PREDICTION OF THE AGGRESSIVENESS OF TUMOURS, DIAGNOSTIC METHOD AND RELATED KITS\", \"ANTI-CLUSTERIN OLIGOCLONAL ANTIBODIES FOR DIAGNOSIS AND PREDICTION OF THE AGGRESSIVENESS OF TUMOURS, DIAGNOSTIC METHOD AND RELATED KITS\", \"EARLY DIAGNOSIS OF MISCARRIAGE IN HUMAN BEINGS\", \"SALTS OF COMPOUNDS HAVING A BENZIMIDAZOLIC STRUCTURE, USES AND PROCESS FOR THE PREPARATION THEREOF\", \"Electro-Optical Tunable Filter and Manufacturing Process\", \"Histaminase of vegetable origin for use in the treatment of allergic and septic shock and of allergic asthma\", \"Tranylcypromine derivatives as inhibitors of histone demethylase LSD1 and/or LSD2\", \"Tranylcypromine derivatives as inhibitors of histone demethylase LSD1 and/or LSD2\", \"BENZODIAZEPINE DERIVATIVES AND USES THEREOF IN MEDICAL FIELD\", \"Benzodiazepine derivatives and uses thereof for the medical field\", \"Histaminase of vegetable origin for use in the treatment of allergic and septic shock and of allergic asthma\", \"Histaminase of vegetable origin for use in the treatment of allergic and septic shock and of allergic asthma\", \"PYRROLE COMPOUNDS AS INHIBITORS OF MYCOBACTERIA, SYNTHESIS THEREOF ANS INTERMEDIATES THERETO\", \"NEW CLASS OF DIAMOND-BASED MATERIALS AND TECHNIQUES FOR THEIR SYNTHESIS\", \"METHOD FOR SYNTHESIZING A CATHODIC MATERIAL BASED ON LITHIUM IRONPHOSPHATE, INTRINSICALLY CONTAINING CARBON\", \"HISTAMINASE OF VEGETABLE ORIGIN FOR USE IN THE TREATMENT OF ALLERGIC AND SEPTIC SHOCK AND OF ALLERGIC ASTHMA\", \"Choline derivatives for the treatment of alzheimer's disease\", \"Choline derivatives for the treatment of alzheimer's disease\", \"CHOLINE DERIVATIVES FOR THE TREATMENT OF ALZHEIMER'S DISEASE\", \"CHOLINE DERIVATIVES FOR THE TREATMENT OF ALZHEIMER'S DISEASE\", \"EARLY DIAGNOSIS OF MISCARRIAGE IN HUMAN BEINGS\", \"PURIFICATION, CLONING AND BIOCHEMICAL CHARACTERIZATION OF XendoU, ENDORIBONUCLEASIC ACTIVITY INVOLVED IN SMALL NUCLEAR RNA SPLICING-INDEPENDENT BIOSYNTHESIS IN XENOPUS LAEVIS\", \"VECTORS FOR THE CLONING AND EXPRESSION OF HETEROLOGOUS GENES IN YEAST AND THE YEAST STRAINS TRANSFORMED BY SAID VECTORS\", \"Pyrrole compounds as inhibitors of mycobacteria, synthesis thereof and intermediates thereto\", \"PURIFICATION, CLONING AND BIOCHEMICAL CHARACTERIZATION OF XendoU, ENDORIBONUCLEASIC ACTIVITY INVOLVED IN SMALL NUCLEAR RNA SPLICING-INDEPENDENT BIOSYNTHESIS IN XENOPUS LAEVIS\", \"Peptide derived from vascular endothelial growth factor receptor-1 binding integrin \\u03b15\\u03b21 having proangiogenic activity\", \"Peptide derived from vascular endothelial growth factor receptor-1 binding integrin \\u03b15\\u03b21 having proangiogenic activity\", \"USE OF 7-NITRO-2,1,3 BENZOXADIAZOLE DERIVATIVES FOR ANTICANCER THERAPY\", \"SPECTROSCOPIC SYSTEM FOR THE PUNCTUAL DETECTION OF THE CHARACTERISTICS OF ABSORPTION OF A SEMICONDUCTOR DEVICE\", \"METHOD FOR QUANTITATIVE AND SEMI-QUANTITATIVE DETECTION OF L-PHENYLALANINE, L-TYROSINE, L-3,4-DIHYDROXYPHENYLALANINE AND THEIR CORRESPONDING KETO-ACIDS\", \"ELECTRO-OPTICAL TUNABLE FILTER AND MANUFACTURING PROCESS\", \"Tranylcypromine derivatives as inhibitors of histone demethylases LSD1 and/or LSD2\", \"Tranylcypromine derivatives as inhibitors of histone demethylases LSD1 and/or LSD2\", \"SALTS OF COMPOUNDS HAVING A BENZIMIDAZOLIC STRUCTURE, USES AND PROCESS FOR THE PREPARATION THEREOF\", \"Vectors for the cloning and expression of heterologous genes in yeast and the yeast strains transformed by said vectors\", \"Histaminase of vegetable origin for use in the treatment of allergic and septic shock and of allergic asthma\", \"Method and kit for the early diagnosis of miscarriage in human beings\", \"ANTI-CLUSTERIN OLIGOCLONAL ANTIBODIES FOR DIAGNOSIS AND PREDICTION OF THE AGGRESSIVENESS OF TUMOURS, DIAGNOSTIC METHOD AND RELATED KITS\", \"ANTI-CLUSTERIN OLIGOCLONAL ANTIBODIES FOR DIAGNOSIS AND PREDICTION OF THE AGGRESSIVENESS OF TUMOURS, DIAGNOSTIC METHOD AND RELATED KITS\", \"CATALYSTS HAVING LOW PLATINUM CONTENT FOR FUEL CELLS\", \"ALTERNATIVE SPLICING ISOFORM OF LOX-1 PROTEIN ENCODING GENE,  AND USES THEREOF\", \"MULTITARGET HEDGEHOG PATHWAY INHIBITORS AND USES THEREOF\", \"Tranylcypromine derivatives as inhibitors of histone demethylase LSD1 and/or LSD2\", \"Tranylcypromine derivatives as inhibitors of histone demethylase LSD1 and/or LSD2\", \"Method for realizing an optical waveguide in a substrate by means of a femtosecond laser\", \"USE OF 7-NITRO-2,1,3 BENZOXADIAZOLE DERIVATIVES FOR ANTICANCER THERAPY\", \"MULTITARGET HEDGEHOG PATHWAY INHIBITORS AND USES THEREOF\", \"ANKLE AND KNEE MOTORIZED ORTHOSIS\", \"Design and synthesis of biotinylated probes for N-acyl-ethanolamines\", \"Early diagnosis of miscarriage in human beings\", \"Choline derivative for the treatment of alzheimer's disease\", \"Choline derivative for the treatment of alzheimer's disease\", \"New class of diamond-based materials and techniques for their synthesis\", \"TRANYLCYPROMINE DERIVATIVES AS INHIBITORS OF HISTONE DEMETHYLASE LSD1 AND/OR LSD2\", \"TRANYLCYPROMINE DERIVATIVES AS INHIBITORS OF HISTONE DEMETHYLASE LSD1 AND/OR LSD2\", \"SALMONELLA ENTERICA STRAINS OF REDUCED PATHOGENICITY, METHOD FOR THEIR PREPARATION AND USES THEREOF\", \"SALMONELLA ENTERICA STRAINS OF REDUCED PATHOGENICITY, METHOD FOR THEIR PREPARATION AND USES THEREOF\", \"Vectors for the cloning and expression of heterologous genes in yeasts and by means of these vectors transformed yeast strains.\", \"Electro-optical tunable filter and manufacturing process\", \"A SUPER-RESOLUTION PROCESSOR/RECEIVER TO DISCRIMINATE SUPERIMPOSED SECONDARY SURVEILLANCE RADAR (SSR) REPLIES AND SQUITTER\", \"SINGLE-INPUT MULTI-OUTPUT CONTROL SYSTEM\", \"Purification, cloning and biochemical characterization of xendou, endoribonucleasic activity involved in small nuclear rna splicing-independent biosynthesis in xenopus laevis\", \"ALTERNATIVE SPLICING ISOFORM OF LOX-1 PROTEIN ENCODING GENE,  AND USES THEREOF\", \"Control system having an input and a plurality of outputs\", \"A high-resolution processor / receiver for the differentiation of superimposed answers, and a secondary monitoring radar squitter\", \"A high-resolution processor / receiver for the differentiation of superimposed answers, and a secondary surveillance radar squitter via\", \"NIOSOMES, FREEZE-DRIED POWDER THEREOF AND THEIR USE IN TREATMENT\", \"NIOSOMES, FREEZE-DRIED POWDER THEREOF AND THEIR USE IN TREATMENT\", \"CHOLINE DERIVATIVES FOR THE TREATMENT OF ALZHEIMER'S DISEASE\", \"CHOLINE DERIVATIVES FOR THE TREATMENT OF ALZHEIMER'S DISEASE\", \"METHOD FOR SYNTHESIZING A CATHODIC MATERIAL BASED ON LITHIUM IRONPHOSPHATE, INTRINSICALLY CONTAINING CARBON\", \"Motorized platform for the therapeutic treatment of patients\", \"SPHINGOSINE DERIVATIVE AS AN IMMUNOREGULATOR COMPOUND\", \"Purification, cloning and biochemical characterization of xendou, endoribonucleasic activity involved in small nuclear rna splicing-independent biosynthesis in xenopus laevis\", \"Motorized platform for the therapeutic treatment of patients\", \"METHOD FOR REALIZING AN OPTICAL WAVEGUIDE IN A SUBSTRATE BY MEANS OF A FEMTOSECOND LASER\", \"HIGH-PERFORMANCE CHROMATOGRAPHIC COLUMNS CONTAINING ORGANIC OR COMPOSITE POLYMERIC MONOLITHIC SUPPORTS AND METHOD FOR THEIR PREPARATION\", \"METHOD FOR REALIZING AN OPTICAL WAVEGUIDE IN A SUBSTRATE BY MEANS OF A FEMTOSECOND LASER\", \"Use of 7 - nitro - 2,1,3 - benz oxadiazole - derivatives, for the treatment of cancers\", \"Use of a sphingosine derivative for the treatment of microbial infections\", \"Early diagnosis of on in humans\", \"PEPTIDE DERIVED FROM VASCULAR ENDOTHELIAL GROWTH FACTOR RECEPTOR-1 BINDING INTEGRIN ALPHA5BETA1 HAVING PROANGIOGENIC ACTIVITY\", \"PEPTIDE DERIVED FROM VASCULAR ENDOTHELIAL GROWTH FACTOR RECEPTOR-1 BINDING INTEGRIN ALPHA5BETA1 HAVING PROANGIOGENIC ACTIVITY\", \"Histaminase of vegetable origin for use in the treatment of allergic and septic shock and of allergic asthma\", \"PYRROLE COMPOUNDS AS INHIBITORS OF MYCOBACTERIA, SYNTHESIS THEREOF AND INTERMEDIATES THERETO\", \"TRANYLCYPROMINE DERIVATIVES AS INHIBITORS OF HISTONE DEMETHYLASE LSD1 AND/OR LSD2\", \"TRANYLCYPROMINE DERIVATIVES AS INHIBITORS OF HISTONE DEMETHYLASE LSD1 AND/OR LSD2\", \"AN INTEGRATED OPTICS LOGIC GATE FOR POLARIZATION-ENCODED QUANTUM QUBITS AND A METHOD FOR THE PRODUCTION AND USE THEREOF\", \"SALTS OF COMPOUNDS HAVING A BENZIMIDAZOLIC STRUCTURE, USES AND PROCESS FOR THE PREPARATION THEREOF\", \"MULTITARGET HEDGEHOG PATHWAY INHIBITORS AND USES THEREOF\", \"USE OF A PEPTIDE DERIVED FROM THE HUMAN PROTEIN NTIMP3 IN THE TREATMENT OF DIABETIC NEPHROPATHY\", \"Pyrrole compounds as inhibitors of mycrobacteria, synthesis thereof and intermediates thereto\", \"Choline derivatives for the treatment of alzheimer's disease\", \"Choline derivatives for the treatment of alzheimer's disease\", \"HISTAMINASE OF VEGETABLE ORIGIN FOR USE IN THE TREATMENT OF ALLERGIC AND SEPTIC SHOCK AND OF ALLERGIC ASTHMA\", \"USE OF INDOMETHACIN AND DERIVATIVES AS BROAD-SPECTRUM ANTIVIRAL DRUGS AND CORRESPONDING PHARMACEUTICAL COMPOSITIONS.\", \"SINGLE-INPUT MULTI-OUTPUT CONTROL SYSTEM\", \"Sphingosine derivative as an immunoregulator compound\", \"Vectors for the cloning and expression of heterologous genes in yeasts and by means of these vectors transformed yeast strains.\", \"DEVICE IMPLANTABLE IN BIOLOGICAL DUCTS\", \"Vectors for the cloning and expression of heterologous genes in yeasts and by means of these vectors transformed yeast strains.\", \"METHOD FOR THE CONTROL OF THE RESPONSE TIME OF A SENSOR FOR CHEMICAL SUBSTANCES\", \"SALMONELLA ENTERICA STRAINS OF REDUCED PATHOGENICITY, METHOD FOR THEIR PREPARATION AND USES THEREOF\", \"SALMONELLA ENTERICA STRAINS OF REDUCED PATHOGENICITY, METHOD FOR THEIR PREPARATION AND USES THEREOF\", \"METHOD FOR REALIZING AN OPTICAL WAVEGUIDE IN A SUBSTRATE BY MEANS OF A FEMTOSECOND LASER\", \"Motorized platform for the therapeutic treatment of patients\", \"CANDIDA HEAT SHOCK PROTEIN, cDNA AND USES THEREOF\", \"Nucleotide sequences coding for cryptosporidium proteins, polypeptides coded by said sequences and kits for the use thereof\", \"Vectors for the cloning and expression of heterologous genes in yeast and the yeast strains transformed by said vectors\", \"TRANYLCYPROMINE DERIVATIVES AS INHIBITORS OF HISTONE DEMETHYLASE LSD1 AND/OR LSD2\", \"TRANYLCYPROMINE DERIVATIVES AS INHIBITORS OF HISTONE DEMETHYLASE LSD1 AND/OR LSD2\", \"INTEGRATED OPTICS LOGIC GATE FOR POLARIZATION-ENCODED QUANTUM QUBITS AND A METHOD FOR THE PRODUCTION AND USE THEREOF\", \"HIGH-PERFORMANCE CHROMATOGRAPHIC COLUMNS CONTAINING ORGANIC OR COMPOSITE POLYMERIC MONOLITHIC SUPPORTS AND METHOD FOR THEIR PREPARATION\", \"BENZODIAZEPINE DERIVATIVES AND USES THEREOF IN MEDICAL FIELD\", \"Immunoregulator Compounds\", \"TRANYLCYPROMINE DERIVATIVES AS INHIBITORS OF HISTONE DEMETHYLASES LSD1 AND/OR LSD2\", \"TRANYLCYPROMINE DERIVATIVES AS INHIBITORS OF HISTONE DEMETHYLASES LSD1 AND/OR LSD2\", \"ASYMMETRIC LIPOSOMES AND USES IN MEDICAL FIELD THEREOF\", \"A SUPER-RESOLUTION PROCESSOR/RECEIVER TO DISCRIMINATE SUPERIMPOSED SECONDARY SURVEILLANCE RADAR (SSR) REPLIES AND SQUITTER\", \"Choline derivatives for the treatment of alzheimer's disease\", \"Choline derivatives for the treatment of alzheimer's disease\", \"METHOD FOR IN VITRO DETECTION OF ATAXIA TELANGIECTASIA HEALTHY CARRIERS AND RELATED KIT\", \"Use of 7 - nitro - 2,1,3 - benz oxadiazole derivatives, for the treatment of cancers\", \"nsors for chemical substances\", \"PEPTIDE DERIVED FROM VASCULAR ENDOTHELIAL GROWTH FACTOR RECEPTOR-1 BINDING INTEGRIN ALPHA5BETA1, HAVING PROANGIOGENIC ACTIVITY\", \"PEPTIDE DERIVED FROM VASCULAR ENDOTHELIAL GROWTH FACTOR RECEPTOR-1 BINDING INTEGRIN ALPHA5BETA1, HAVING PROANGIOGENIC ACTIVITY\", \"Multitarget hedgehog pathway inhibitors and uses thereof\", \"USE OF A SPHINGOSINE DERIVATIVE FOR THE TREATMENT OF MICROBIAL INFECTIONS\", \"HISTAMINASE OF VEGETABLE ORIGIN FOR USE IN THE TREATMENT OF ALLERGIC AND SEPTIC SHOCK AND OF ALLERGIC ASTHMA\", \"TRANYLCYPROMINE DERIVATIVES AS INHIBITORS OF HISTONE DEMETHYLASE LSD1 AND/OR LSD2\", \"TRANYLCYPROMINE DERIVATIVES AS INHIBITORS OF HISTONE DEMETHYLASE LSD1 AND/OR LSD2\", \"PEPTIDE DERIVED FROM VASCULAR ENDOTHELIAL GROWTH FACTOR RECEPTOR-1 BINDING INTEGRIN  5 1, HAVING PROANGIOGENIC ACTIVITY\", \"PEPTIDE DERIVED FROM VASCULAR ENDOTHELIAL GROWTH FACTOR RECEPTOR-1 BINDING INTEGRIN  5 1, HAVING PROANGIOGENIC ACTIVITY\", \"Method for the cutting of the worm and worm gear in a worm reduction gear with a circulation of bearing balls and related cutting tools\", \"SURGICAL TOOL, PARTICULARLY FOR USE IN LAPAROSCOPY\", \"localization - and identification system having a high capacity for mobile devices cooperating with frequency more flexible and time multiplexed transponder device on board\", \"histaminase of vegetable origin for the treatment of allergic and septic shock and allergic asthma\", \"System for assessing a law of motion and related method\", \"METHOD FOR REALIZING AN OPTICAL WAVEGUIDE IN A SUBSTRATE BY MEANS OF A FEMTOSECOND LASER\", \"VECTORS FOR THE CLONING AND EXPRESSION OF HETEROLOGOUS GENES IN YEAST AND THE YEAST STRAINS TRANSFORMED BY SAID VECTORS\", \"Super-resolution processor/receiver to discriminate superimposed secondary surveillance radar (SSR) replies and squitter\", \"High-capacity location and identification system for cooperating mobiles with frequency agile and time division transponder device on board\"], \"legendgroup\": \"country=Italy\", \"marker\": {\"color\": \"#636efa\"}, \"name\": \"country=Italy\", \"offsetgroup\": \"country=Italy\", \"orientation\": \"v\", \"showlegend\": true, \"textposition\": \"auto\", \"type\": \"bar\", \"uid\": \"76d41fa7-6e1d-49ce-a6c5-4cf704f05326\", \"x\": [\"National Research Council\", \"Istituto Dermopatico dell'Immacolata\", \"University of Siena\", \"University of Rome Tor Vergata\", \"National Research Council\", \"Istituti Fisioterapici Ospitalieri\", \"National Research Council\", \"University of Milan\", \"University of Pavia\", \"University of Rome Tor Vergata\", \"National Institute of Health\", \"University of Rome Tor Vergata\", \"National Research Council\", \"University of Rome Tor Vergata\", \"Bambino Ges\\u00f9 Children's Hospital\", \"University of Rome Tor Vergata\", \"Istituti Fisioterapici Ospitalieri\", \"University of Rome Tor Vergata\", \"University of Rome Tor Vergata\", \"National Institute of Health\", \"National Research Council\", \"Roma Tre University\", \"University of Pavia\", \"University of Milan\", \"University of Rome Tor Vergata\", \"University of Rome Tor Vergata\", \"Roma Tre University\", \"Roma Tre University\", \"University of Siena\", \"University of Rome Tor Vergata\", \"National Research Council\", \"Roma Tre University\", \"Magna Graecia University\", \"University of Camerino\", \"University of Camerino\", \"Magna Graecia University\", \"University of Rome Tor Vergata\", \"National Research Council\", \"National Research Council\", \"University of Siena\", \"National Research Council\", \"National Research Council\", \"Istituto Dermopatico dell'Immacolata\", \"University of Rome Tor Vergata\", \"University of Rome Tor Vergata\", \"University of Rome Tor Vergata\", \"National Research Council\", \"University of Milan\", \"University of Pavia\", \"National Institute of Health\", \"National Research Council\", \"Roma Tre University\", \"University of Rome Tor Vergata\", \"University of Rome Tor Vergata\", \"Istituti Fisioterapici Ospitalieri\", \"University of Camerino\", \"University of Rome Tor Vergata\", \"University of Siena\", \"University of Milan\", \"University of Pavia\", \"National Research Council\", \"University of Rome Tor Vergata\", \"University of Siena\", \"Bambino Ges\\u00f9 Children's Hospital\", \"University of Rome Tor Vergata\", \"University of Rome Tor Vergata\", \"University of Camerino\", \"Magna Graecia University\", \"University of Rome Tor Vergata\", \"University of Milan\", \"University of Pavia\", \"National Institute of Health\", \"University of Rome Tor Vergata\", \"National Research Council\", \"National Research Council\", \"University of Rome Tor Vergata\", \"University of Rome Tor Vergata\", \"National Research Council\", \"University of Rome Tor Vergata\", \"University of Rome Tor Vergata\", \"University of Rome Tor Vergata\", \"University of Rome Tor Vergata\", \"Magna Graecia University\", \"Magna Graecia University\", \"University of Camerino\", \"Magna Graecia University\", \"National Research Council\", \"Bambino Ges\\u00f9 Children's Hospital\", \"University of Rome Tor Vergata\", \"National Research Council\", \"Bambino Ges\\u00f9 Children's Hospital\", \"National Research Council\", \"National Research Council\", \"National Research Council\", \"University of Rome Tor Vergata\", \"University of Rome Tor Vergata\", \"University of Rome Tor Vergata\", \"National Research Council\", \"Istituto Dermopatico dell'Immacolata\", \"Roma Tre University\", \"University of Siena\", \"University of Pavia\", \"University of Milan\", \"National Research Council\", \"National Institute of Health\", \"University of Siena\", \"University of Rome Tor Vergata\", \"University of Siena\", \"Magna Graecia University\", \"University of Camerino\", \"Roma Tre University\", \"University of Rome Tor Vergata\", \"University of Rome Tor Vergata\", \"University of Rome Tor Vergata\", \"National Research Council\", \"University of Rome Tor Vergata\", \"National Research Council\", \"University of Rome Tor Vergata\", \"National Institute of Health\", \"University of Rome Tor Vergata\", \"National Research Council\", \"Bambino Ges\\u00f9 Children's Hospital\", \"National Institute of Health\", \"National Institute of Health\", \"National Research Council\", \"University of Milan\", \"University of Pavia\", \"National Research Council\", \"National Research Council\", \"University of Rome Tor Vergata\", \"University of Rome Tor Vergata\", \"University of Milan\", \"University of Pavia\", \"University of Rome Tor Vergata\", \"University of Rome Tor Vergata\", \"Magna Graecia University\", \"University of Camerino\", \"Istituti Fisioterapici Ospitalieri\", \"University of Rome Tor Vergata\", \"University of Rome Tor Vergata\", \"National Research Council\", \"Istituto Dermopatico dell'Immacolata\", \"University of Siena\", \"University of Rome Tor Vergata\", \"Roma Tre University\", \"University of Pavia\", \"University of Milan\", \"Istituto Dermopatico dell'Immacolata\", \"National Research Council\", \"University of Rome Tor Vergata\", \"University of Rome Tor Vergata\", \"University of Rome Tor Vergata\", \"Roma Tre University\", \"Bambino Ges\\u00f9 Children's Hospital\", \"National Research Council\", \"National Research Council\", \"University of Rome Tor Vergata\", \"University of Rome Tor Vergata\"], \"xaxis\": \"x\", \"yaxis\": \"y\"}, {\"alignmentgroup\": \"True\", \"customdata\": [[\"WO-2018187439-A1\"], [\"US-9750770-B2\"], [\"US-9750770-B2\"], [\"US-20180295834-A1\"], [\"NZ-709124-A\"], [\"US-9533013-B2\"], [\"US-9533013-B2\"], [\"AU-2016210783-A1\"], [\"AU-2016210783-A1\"], [\"EP-2970879-A1\"], [\"EP-2970879-A1\"], [\"EP-2970879-A1\"], [\"IN-2012KN01230-A\"], [\"EP-2494033-A4\"], [\"EP-2494033-A4\"], [\"CA-2904140-A1\"], [\"CA-2904140-A1\"], [\"CA-2904140-A1\"], [\"IN-201838034102-A\"], [\"AU-2016210783-B2\"], [\"CA-2779144-A1\"], [\"CA-2779144-A1\"], [\"WO-2014143632-A1\"], [\"AU-2010313386-A1\"], [\"AU-2010313386-A1\"], [\"EP-2494033-A1\"], [\"EP-2494033-A1\"], [\"EP-2970879-A4\"], [\"EP-2970879-A4\"], [\"US-20140301985-A1\"], [\"US-20140301985-A1\"], [\"US-20140301985-A1\"], [\"US-20160058798-A1\"], [\"US-20160058798-A1\"], [\"US-20160058798-A1\"], [\"NZ-622427-A\"], [\"HK-1218430-A1\"], [\"HK-1218430-A1\"], [\"AU-2014228310-A1\"], [\"AU-2014228310-A1\"], [\"AU-2014228310-A1\"], [\"AU-2010313386-B2\"], [\"IN-2015KN03243-A\"], [\"IN-2015KN03243-A\"], [\"NZ-600068-A\"]], \"hoverlabel\": {\"namelength\": 0}, \"hovertemplate\": \"<b>%{hovertext}</b><br><br>country=United States<br>assignee_name=%{x}<br>id=%{customdata[0]}\", \"hovertext\": [\"CRYOPRESERVATION METHOD\", \"Method of treating pancreatic and liver conditions by endoscopic-mediated (or laparoscopic-mediated) transplantation of stem cells into/onto bile duct walls of particular regions of the biliary tree\", \"Method of treating pancreatic and liver conditions by endoscopic-mediated (or laparoscopic-mediated) transplantation of stem cells into/onto bile duct walls of particular regions of the biliary tree\", \"CRYOPRESERVATION METHOD\", \"Multipotent stem cells from the extrahepatic biliary tree and methods of isolating same\", \"Method of treating pancreatic and liver conditions by endoscopic-mediated (or laparoscopic-mediated) transplantation of stem cells into/onto bile duct walls of particular regions of the biliary tree\", \"Method of treating pancreatic and liver conditions by endoscopic-mediated (or laparoscopic-mediated) transplantation of stem cells into/onto bile duct walls of particular regions of the biliary tree\", \"Multipotent stem cells from the extrahepatic billary tree and methods of isolating same\", \"Multipotent stem cells from the extrahepatic billary tree and methods of isolating same\", \"METHOD OF TREATING PANCREATIC AND LIVER CONDITIONS BY TRANSPLANTATION OF STEM CELLS INTO BILE DUCT WALLS\", \"METHOD OF TREATING PANCREATIC AND LIVER CONDITIONS BY TRANSPLANTATION OF STEM CELLS INTO BILE DUCT WALLS\", \"METHOD OF TREATING PANCREATIC AND LIVER CONDITIONS BY TRANSPLANTATION OF STEM CELLS INTO BILE DUCT WALLS\", \"MULTIPOTENT STEM CELLS FROM THE EXTRAHEPATIC BILLARY TREE AND METHODS OF ISOLATING SAME\", \"MULTIPOTENT STEM CELLS FROM THE EXTRAHEPATIC BILLARY TREE AND METHODS OF ISOLATING SAME\", \"MULTIPOTENT STEM CELLS FROM THE EXTRAHEPATIC BILLARY TREE AND METHODS OF ISOLATING SAME\", \"METHOD OF TREATING PANCREATIC AND LIVER CONDITIONS BY TRANSPLANTATION OF STEM CELLS INTO BILE DUCT WALLS\", \"METHOD OF TREATING PANCREATIC AND LIVER CONDITIONS BY TRANSPLANTATION OF STEM CELLS INTO BILE DUCT WALLS\", \"METHOD OF TREATING PANCREATIC AND LIVER CONDITIONS BY TRANSPLANTATION OF STEM CELLS INTO BILE DUCT WALLS\", \"A METHOD OF OBTAINING A MAMMALIAN MULTIPOTENT STEM/PROGENITOR CELLS CAPABLE OF DIFFERENTIATING INTO MULTIPLE ENDODERMAL LINEAGES\", \"Multipotent stem cells from the extrahepatic billary tree and methods of isolating same\", \"MULTIPOTENT STEM CELLS FROM THE EXTRAHEPATIC BILIARY TREE AND METHODS OF ISOLATING SAME\", \"MULTIPOTENT STEM CELLS FROM THE EXTRAHEPATIC BILIARY TREE AND METHODS OF ISOLATING SAME\", \"METHOD OF TREATING PANCREATIC AND LIVER CONDITIONS BY TRANSPLANTATION OF STEM CELLS INTO BILE DUCT WALLS\", \"Multipotent stem cells from the extrahepatic billary tree and methods of isolating same\", \"Multipotent stem cells from the extrahepatic billary tree and methods of isolating same\", \"MULTIPOTENT STEM CELLS FROM THE EXTRAHEPATIC BILLARY TREE AND METHODS OF ISOLATING SAME\", \"MULTIPOTENT STEM CELLS FROM THE EXTRAHEPATIC BILLARY TREE AND METHODS OF ISOLATING SAME\", \"METHOD OF TREATING PANCREATIC AND LIVER CONDITIONS BY TRANSPLANTATION OF STEM CELLS INTO BILE DUCT WALLS\", \"METHOD OF TREATING PANCREATIC AND LIVER CONDITIONS BY TRANSPLANTATION OF STEM CELLS INTO BILE DUCT WALLS\", \"METHOD OF TREATING PANCREATIC AND LIVER CONDITIONS BY ENDOSCOPIC-MEDIATED (OR LAPAROSCOPIC-MEDIATED) TRANSPLANTATION OF STEM CELLS INTO/ONTO BILE DUCT WALLS OF PARTICULAR REGIONS OF THE BILIARY TREE\", \"METHOD OF TREATING PANCREATIC AND LIVER CONDITIONS BY ENDOSCOPIC-MEDIATED (OR LAPAROSCOPIC-MEDIATED) TRANSPLANTATION OF STEM CELLS INTO/ONTO BILE DUCT WALLS OF PARTICULAR REGIONS OF THE BILIARY TREE\", \"METHOD OF TREATING PANCREATIC AND LIVER CONDITIONS BY ENDOSCOPIC-MEDIATED (OR LAPAROSCOPIC-MEDIATED) TRANSPLANTATION OF STEM CELLS INTO/ONTO BILE DUCT WALLS OF PARTICULAR REGIONS OF THE BILIARY TREE\", \"METHOD OF TREATING PANCREATIC AND LIVER CONDITIONS BY ENDOSCOPIC-MEDIATED (OR LAPAROSCOPIC-MEDIATED) TRANSPLANTATION OF STEM CELLS INTO/ONTO BILE DUCT WALLS OF PARTICULAR REGIONS OF THE BILIARY TREE\", \"METHOD OF TREATING PANCREATIC AND LIVER CONDITIONS BY ENDOSCOPIC-MEDIATED (OR LAPAROSCOPIC-MEDIATED) TRANSPLANTATION OF STEM CELLS INTO/ONTO BILE DUCT WALLS OF PARTICULAR REGIONS OF THE BILIARY TREE\", \"METHOD OF TREATING PANCREATIC AND LIVER CONDITIONS BY ENDOSCOPIC-MEDIATED (OR LAPAROSCOPIC-MEDIATED) TRANSPLANTATION OF STEM CELLS INTO/ONTO BILE DUCT WALLS OF PARTICULAR REGIONS OF THE BILIARY TREE\", \"Multipotent stem cells from the extrahepatic biliary tree and methods of isolating same\", \"METHOD OF TREATING PANCREATIC AND LIVER CONDITIONS BY TRANSPLANTATION OF STEM CELLS INTO BILE DUCT WALLS\", \"METHOD OF TREATING PANCREATIC AND LIVER CONDITIONS BY TRANSPLANTATION OF STEM CELLS INTO BILE DUCT WALLS\", \"Method of treating pancreatic and liver conditions by transplantation of stem cells into bile duct walls\", \"Method of treating pancreatic and liver conditions by transplantation of stem cells into bile duct walls\", \"Method of treating pancreatic and liver conditions by transplantation of stem cells into bile duct walls\", \"Multipotent stem cells from the extrahepatic billary tree and methods of isolating same\", \"Method of treating pancreatic and liver conditions by transplantation of stem cells into bile duct walls\", \"Method of treating pancreatic and liver conditions by transplantation of stem cells into bile duct walls\", \"Multipotent stem cells from the extrahepatic billary tree and methods of isolating same\"], \"legendgroup\": \"country=United States\", \"marker\": {\"color\": \"#EF553B\"}, \"name\": \"country=United States\", \"offsetgroup\": \"country=United States\", \"orientation\": \"v\", \"showlegend\": true, \"textposition\": \"auto\", \"type\": \"bar\", \"uid\": \"26c8e602-f464-4682-9cca-5824ea729c17\", \"x\": [\"University of North Carolina at Chapel Hill\", \"University of North Carolina at Chapel Hill\", \"University of Miami\", \"University of North Carolina at Chapel Hill\", \"University of North Carolina at Chapel Hill\", \"University of North Carolina at Chapel Hill\", \"University of Miami\", \"University of North Carolina System\", \"University of North Carolina at Chapel Hill\", \"University of North Carolina at Chapel Hill\", \"University of North Carolina System\", \"University of Miami\", \"University of North Carolina at Chapel Hill\", \"University of North Carolina at Chapel Hill\", \"University of North Carolina System\", \"University of North Carolina System\", \"University of Miami\", \"University of North Carolina at Chapel Hill\", \"University of North Carolina at Chapel Hill\", \"University of North Carolina at Chapel Hill\", \"University of North Carolina System\", \"University of North Carolina at Chapel Hill\", \"University of North Carolina System\", \"University of North Carolina System\", \"University of North Carolina at Chapel Hill\", \"University of North Carolina at Chapel Hill\", \"University of North Carolina System\", \"University of Miami\", \"University of North Carolina at Chapel Hill\", \"University of Miami\", \"University of North Carolina System\", \"University of North Carolina at Chapel Hill\", \"University of Miami\", \"University of North Carolina System\", \"University of North Carolina at Chapel Hill\", \"University of North Carolina System\", \"University of North Carolina at Chapel Hill\", \"University of Miami\", \"University of North Carolina at Chapel Hill\", \"University of Miami\", \"University of North Carolina System\", \"University of North Carolina at Chapel Hill\", \"University of North Carolina at Chapel Hill\", \"University of Miami\", \"University of North Carolina System\"], \"xaxis\": \"x\", \"yaxis\": \"y\"}, {\"alignmentgroup\": \"True\", \"customdata\": [[\"US-10013282-B2\"], [\"WO-2010023413-A1\"], [\"WO-2010023413-A1\"], [\"WO-2016116450-A3\"], [\"EP-2928003-B1\"], [\"EP-2928003-B1\"], [\"EP-0241435-B1\"], [\"EP-0241435-A2\"], [\"US-9452987-B2\"], [\"US-9452987-B2\"], [\"DE-3782844-T2\"], [\"EP-3066565-A1\"], [\"EP-2334831-A1\"], [\"EP-2334831-A1\"], [\"EP-3247940-A2\"], [\"US-20160274938-A1\"], [\"US-20150315155-A1\"], [\"US-20150315155-A1\"], [\"WO-2016151144-A1\"], [\"US-8927160-B2\"], [\"US-8927160-B2\"], [\"FR-2935382-B1\"], [\"FR-2935382-B1\"], [\"DE-3782844-D1\"], [\"FR-3012895-A1\"], [\"FR-3031796-A1\"], [\"DE-241435-T1\"], [\"EP-2334831-B1\"], [\"EP-2334831-B1\"], [\"US-20180118717-A1\"], [\"FR-3012895-B1\"], [\"EP-3277676-A1\"], [\"EP-0241435-A3\"], [\"FR-2935382-A1\"], [\"FR-2935382-A1\"], [\"EP-2928003-A1\"], [\"EP-2928003-A1\"]], \"hoverlabel\": {\"namelength\": 0}, \"hovertemplate\": \"<b>%{hovertext}</b><br><br>country=France<br>assignee_name=%{x}<br>id=%{customdata[0]}\", \"hovertext\": [\"Method and computer program for offloading execution of computing tasks of a wireless equipment\", \"PENTACYCLIC ANION SALT AND USE THEREOF AS AN ELECTROLYTE\", \"PENTACYCLIC ANION SALT AND USE THEREOF AS AN ELECTROLYTE\", \"COMBUSTION MODULE PROVIDING IMPROVED COMBUSTION OF GASES\", \"PENTACYCLIC ANION SALT AND USE THEREOF AS ELECTROLYTE\", \"PENTACYCLIC ANION SALT AND USE THEREOF AS ELECTROLYTE\", \"VECTORS FOR THE CLONING AND EXPRESSION OF HETEROLOGOUS GENES IN YEAST AND THE YEAST STRAINS TRANSFORMED BY SAID VECTORS\", \"Vectors for the cloning and expression of heterologous genes in yeast and the yeast strains transformed by said vectors\", \"Five-membered cyclic anion use thereof as an electrolyte\", \"Five-membered cyclic anion use thereof as an electrolyte\", \"Vectors for the cloning and expression of heterologous genes in yeasts and by means of these vectors transformed yeast strains.\", \"METHOD AND COMPUTER PROGRAM FOR THE OFF-SITE EXECUTION OF COMPUTING TASKS OF AN ITEM OF WIRELESS EQUIPMENT\", \"PENTACYCLIC ANION SALT AND USE THEREOF AS AN ELECTROLYTE\", \"PENTACYCLIC ANION SALT AND USE THEREOF AS AN ELECTROLYTE\", \"COMBUSTION MODULE FOR AN IMPROVED COMBUSTION OF GASES\", \"METHOD AND COMPUTER PROGRAM FOR OFFLOADING EXECUTION OF COMPUTING TASKS OF A WIRELESS EQUIPMENT\", \"FIVE-MEMBERED CYCLIC ANION USE THEREOF AS AN ELECTROLYTE\", \"FIVE-MEMBERED CYCLIC ANION USE THEREOF AS AN ELECTROLYTE\", \"SUBSTITUTED QUINAZOLINE DERIVATIVES AS DNA METHYLTRANSFERASE INHIBITORS\", \"Pentacyclic anion salt and use thereof as an electrolyte\", \"Pentacyclic anion salt and use thereof as an electrolyte\", \"The salt of anion pentacylique and its use as electrolyte\", \"The salt of anion pentacylique and its use as electrolyte\", \"Vectors for the cloning and expression of heterologous genes in yeasts and by means of these vectors transformed yeast strains.\", \"Method and the computer program for the computer deportee of spots of a wireless equipment\", \"The modulus of offering a combustion gas combustion improved\", \"Vectors for the cloning and expression of heterologous genes in yeasts and by means of these vectors transformed yeast strains.\", \"PENTACYCLIC ANION SALT AND USE THEREOF AS AN ELECTROLYTE\", \"PENTACYCLIC ANION SALT AND USE THEREOF AS AN ELECTROLYTE\", \"Substituted Quinazoline Derivatives as DNA Methyltransferase Inhibitors\", \"Method and the computer program for the computer deportee of spots of a wireless equipment\", \"SUBSTITUTED QUINAZOLINE DERIVATIVES AS DNA METHYLTRANSFERASE INHIBITORS\", \"VECTORS FOR THE CLONING AND EXPRESSION OF HETEROLOGOUS GENES IN YEAST AND THE YEAST STRAINS TRANSFORMED BY SAID VECTORS\", \"The salt of anion pentacylique and its use as electrolyte\", \"The salt of anion pentacylique and its use as electrolyte\", \"PENTACYCLIC ANION SALT AND USE THEREOF AS ELECTROLYTE\", \"PENTACYCLIC ANION SALT AND USE THEREOF AS ELECTROLYTE\"], \"legendgroup\": \"country=France\", \"marker\": {\"color\": \"#00cc96\"}, \"name\": \"country=France\", \"offsetgroup\": \"country=France\", \"orientation\": \"v\", \"showlegend\": true, \"textposition\": \"auto\", \"type\": \"bar\", \"uid\": \"5fb40a50-809c-4d47-9a47-3c9943269a9e\", \"x\": [\"Atomic Energy and Alternative Energies Commission\", \"French National Centre for Scientific Research\", \"University of Picardie Jules Verne\", \"Atomic Energy and Alternative Energies Commission\", \"French National Centre for Scientific Research\", \"University of Picardie Jules Verne\", \"French National Centre for Scientific Research\", \"French National Centre for Scientific Research\", \"French National Centre for Scientific Research\", \"University of Picardie Jules Verne\", \"French National Centre for Scientific Research\", \"Atomic Energy and Alternative Energies Commission\", \"University of Picardie Jules Verne\", \"French National Centre for Scientific Research\", \"Atomic Energy and Alternative Energies Commission\", \"Atomic Energy and Alternative Energies Commission\", \"French National Centre for Scientific Research\", \"University of Picardie Jules Verne\", \"French National Centre for Scientific Research\", \"University of Picardie Jules Verne\", \"French National Centre for Scientific Research\", \"University of Picardie Jules Verne\", \"French National Centre for Scientific Research\", \"French National Centre for Scientific Research\", \"Atomic Energy and Alternative Energies Commission\", \"Atomic Energy and Alternative Energies Commission\", \"French National Centre for Scientific Research\", \"University of Picardie Jules Verne\", \"French National Centre for Scientific Research\", \"French National Centre for Scientific Research\", \"Atomic Energy and Alternative Energies Commission\", \"French National Centre for Scientific Research\", \"French National Centre for Scientific Research\", \"French National Centre for Scientific Research\", \"University of Picardie Jules Verne\", \"French National Centre for Scientific Research\", \"University of Picardie Jules Verne\"], \"xaxis\": \"x\", \"yaxis\": \"y\"}, {\"alignmentgroup\": \"True\", \"customdata\": [[\"WO-2010023413-A1\"], [\"EP-2928003-B1\"], [\"US-9452987-B2\"], [\"EP-2334831-A1\"], [\"US-20150315155-A1\"], [\"US-8927160-B2\"], [\"FR-2935382-B1\"], [\"EP-2334831-B1\"], [\"FR-2935382-A1\"], [\"EP-2928003-A1\"]], \"hoverlabel\": {\"namelength\": 0}, \"hovertemplate\": \"<b>%{hovertext}</b><br><br>country=Poland<br>assignee_name=%{x}<br>id=%{customdata[0]}\", \"hovertext\": [\"PENTACYCLIC ANION SALT AND USE THEREOF AS AN ELECTROLYTE\", \"PENTACYCLIC ANION SALT AND USE THEREOF AS ELECTROLYTE\", \"Five-membered cyclic anion use thereof as an electrolyte\", \"PENTACYCLIC ANION SALT AND USE THEREOF AS AN ELECTROLYTE\", \"FIVE-MEMBERED CYCLIC ANION USE THEREOF AS AN ELECTROLYTE\", \"Pentacyclic anion salt and use thereof as an electrolyte\", \"The salt of anion pentacylique and its use as electrolyte\", \"PENTACYCLIC ANION SALT AND USE THEREOF AS AN ELECTROLYTE\", \"The salt of anion pentacylique and its use as electrolyte\", \"PENTACYCLIC ANION SALT AND USE THEREOF AS ELECTROLYTE\"], \"legendgroup\": \"country=Poland\", \"marker\": {\"color\": \"#ab63fa\"}, \"name\": \"country=Poland\", \"offsetgroup\": \"country=Poland\", \"orientation\": \"v\", \"showlegend\": true, \"textposition\": \"auto\", \"type\": \"bar\", \"uid\": \"a6dd3827-3701-47c0-8cef-b355c1bd3e3f\", \"x\": [\"Warsaw University of Technology\", \"Warsaw University of Technology\", \"Warsaw University of Technology\", \"Warsaw University of Technology\", \"Warsaw University of Technology\", \"Warsaw University of Technology\", \"Warsaw University of Technology\", \"Warsaw University of Technology\", \"Warsaw University of Technology\", \"Warsaw University of Technology\"], \"xaxis\": \"x\", \"yaxis\": \"y\"}, {\"alignmentgroup\": \"True\", \"customdata\": [[\"US-20080279840-A1\"], [\"AU-2189702-A\"], [\"AU-2002221897-A1\"], [\"CA-2430291-A1\"], [\"US-8722038-B2\"], [\"EP-1339422-A2\"]], \"hoverlabel\": {\"namelength\": 0}, \"hovertemplate\": \"<b>%{hovertext}</b><br><br>country=Canada<br>assignee_name=%{x}<br>id=%{customdata[0]}\", \"hovertext\": [\"Histaminase of vegetable origin for use in the treatment of allergic and septic shock and of allergic asthma\", \"Histaminase of vegetable origin for use in the treatment of allergic and septic shock and of allergic asthma\", \"Histaminase of vegetable origin for use in the treatment of allergic and septic shock and of allergic asthma\", \"HISTAMINASE OF VEGETABLE ORIGIN FOR USE IN THE TREATMENT OF ALLERGIC AND SEPTIC SHOCK AND OF ALLERGIC ASTHMA\", \"Histaminase of vegetable origin for use in the treatment of allergic and septic shock and of allergic asthma\", \"HISTAMINASE OF VEGETABLE ORIGIN FOR USE IN THE TREATMENT OF ALLERGIC AND SEPTIC SHOCK AND OF ALLERGIC ASTHMA\"], \"legendgroup\": \"country=Canada\", \"marker\": {\"color\": \"#19d3f3\"}, \"name\": \"country=Canada\", \"offsetgroup\": \"country=Canada\", \"orientation\": \"v\", \"showlegend\": true, \"textposition\": \"auto\", \"type\": \"bar\", \"uid\": \"128c59f0-be63-4447-ae9c-72259210c6bf\", \"x\": [\"University of Quebec at Montreal\", \"University of Quebec at Montreal\", \"University of Quebec at Montreal\", \"University of Quebec at Montreal\", \"University of Quebec at Montreal\", \"University of Quebec at Montreal\"], \"xaxis\": \"x\", \"yaxis\": \"y\"}],\n",
       "                        {\"barmode\": \"relative\", \"grid\": {\"xaxes\": [\"x\"], \"xgap\": 0.1, \"xside\": \"bottom\", \"yaxes\": [\"y\"], \"ygap\": 0.1, \"yside\": \"left\"}, \"height\": 600, \"legend\": {\"tracegroupgap\": 0}, \"margin\": {\"t\": 60}, \"template\": {\"data\": {\"bar\": [{\"marker\": {\"line\": {\"color\": \"#E5ECF6\", \"width\": 0.5}}, \"type\": \"bar\"}], \"barpolar\": [{\"marker\": {\"line\": {\"color\": \"#E5ECF6\", \"width\": 0.5}}, \"type\": \"barpolar\"}], \"carpet\": [{\"aaxis\": {\"endlinecolor\": \"#2a3f5f\", \"gridcolor\": \"white\", \"linecolor\": \"white\", \"minorgridcolor\": \"white\", \"startlinecolor\": \"#2a3f5f\"}, \"baxis\": {\"endlinecolor\": \"#2a3f5f\", \"gridcolor\": \"white\", \"linecolor\": \"white\", \"minorgridcolor\": \"white\", \"startlinecolor\": \"#2a3f5f\"}, \"type\": \"carpet\"}], \"choropleth\": [{\"colorbar\": {\"outlinewidth\": 0, \"ticks\": \"\"}, \"type\": \"choropleth\"}], \"contour\": [{\"colorbar\": {\"outlinewidth\": 0, \"ticks\": \"\"}, \"colorscale\": [[0.0, \"#0508b8\"], [0.0893854748603352, \"#1910d8\"], [0.1787709497206704, \"#3c19f0\"], [0.2681564245810056, \"#6b1cfb\"], [0.3575418994413408, \"#981cfd\"], [0.44692737430167595, \"#bf1cfd\"], [0.5363128491620112, \"#dd2bfd\"], [0.6256983240223464, \"#f246fe\"], [0.7150837988826816, \"#fc67fd\"], [0.8044692737430168, \"#fe88fc\"], [0.8938547486033519, \"#fea5fd\"], [0.9832402234636871, \"#febefe\"], [1.0, \"#fec3fe\"]], \"type\": \"contour\"}], \"contourcarpet\": [{\"colorbar\": {\"outlinewidth\": 0, \"ticks\": \"\"}, \"type\": \"contourcarpet\"}], \"heatmap\": [{\"colorbar\": {\"outlinewidth\": 0, \"ticks\": \"\"}, \"colorscale\": [[0.0, \"#0508b8\"], [0.0893854748603352, \"#1910d8\"], [0.1787709497206704, \"#3c19f0\"], [0.2681564245810056, \"#6b1cfb\"], [0.3575418994413408, \"#981cfd\"], [0.44692737430167595, \"#bf1cfd\"], [0.5363128491620112, \"#dd2bfd\"], [0.6256983240223464, \"#f246fe\"], [0.7150837988826816, \"#fc67fd\"], [0.8044692737430168, \"#fe88fc\"], [0.8938547486033519, \"#fea5fd\"], [0.9832402234636871, \"#febefe\"], [1.0, \"#fec3fe\"]], \"type\": \"heatmap\"}], \"heatmapgl\": [{\"colorbar\": {\"outlinewidth\": 0, \"ticks\": \"\"}, \"type\": \"heatmapgl\"}], \"histogram\": [{\"marker\": {\"colorbar\": {\"outlinewidth\": 0, \"ticks\": \"\"}}, \"type\": \"histogram\"}], \"histogram2d\": [{\"colorbar\": {\"outlinewidth\": 0, \"ticks\": \"\"}, \"colorscale\": [[0.0, \"#0508b8\"], [0.0893854748603352, \"#1910d8\"], [0.1787709497206704, \"#3c19f0\"], [0.2681564245810056, \"#6b1cfb\"], [0.3575418994413408, \"#981cfd\"], [0.44692737430167595, \"#bf1cfd\"], [0.5363128491620112, \"#dd2bfd\"], [0.6256983240223464, \"#f246fe\"], [0.7150837988826816, \"#fc67fd\"], [0.8044692737430168, \"#fe88fc\"], [0.8938547486033519, \"#fea5fd\"], [0.9832402234636871, \"#febefe\"], [1.0, \"#fec3fe\"]], \"type\": \"histogram2d\"}], \"histogram2dcontour\": [{\"colorbar\": {\"outlinewidth\": 0, \"ticks\": \"\"}, \"colorscale\": [[0.0, \"#0508b8\"], [0.0893854748603352, \"#1910d8\"], [0.1787709497206704, \"#3c19f0\"], [0.2681564245810056, \"#6b1cfb\"], [0.3575418994413408, \"#981cfd\"], [0.44692737430167595, \"#bf1cfd\"], [0.5363128491620112, \"#dd2bfd\"], [0.6256983240223464, \"#f246fe\"], [0.7150837988826816, \"#fc67fd\"], [0.8044692737430168, \"#fe88fc\"], [0.8938547486033519, \"#fea5fd\"], [0.9832402234636871, \"#febefe\"], [1.0, \"#fec3fe\"]], \"type\": \"histogram2dcontour\"}], \"mesh3d\": [{\"colorbar\": {\"outlinewidth\": 0, \"ticks\": \"\"}, \"type\": \"mesh3d\"}], \"parcoords\": [{\"line\": {\"colorbar\": {\"outlinewidth\": 0, \"ticks\": \"\"}}, \"type\": \"parcoords\"}], \"scatter\": [{\"marker\": {\"colorbar\": {\"outlinewidth\": 0, \"ticks\": \"\"}}, \"type\": \"scatter\"}], \"scatter3d\": [{\"marker\": {\"colorbar\": {\"outlinewidth\": 0, \"ticks\": \"\"}}, \"type\": \"scatter3d\"}], \"scattercarpet\": [{\"marker\": {\"colorbar\": {\"outlinewidth\": 0, \"ticks\": \"\"}}, \"type\": \"scattercarpet\"}], \"scattergeo\": [{\"marker\": {\"colorbar\": {\"outlinewidth\": 0, \"ticks\": \"\"}}, \"type\": \"scattergeo\"}], \"scattergl\": [{\"marker\": {\"colorbar\": {\"outlinewidth\": 0, \"ticks\": \"\"}}, \"type\": \"scattergl\"}], \"scattermapbox\": [{\"marker\": {\"colorbar\": {\"outlinewidth\": 0, \"ticks\": \"\"}}, \"type\": \"scattermapbox\"}], \"scatterpolar\": [{\"marker\": {\"colorbar\": {\"outlinewidth\": 0, \"ticks\": \"\"}}, \"type\": \"scatterpolar\"}], \"scatterpolargl\": [{\"marker\": {\"colorbar\": {\"outlinewidth\": 0, \"ticks\": \"\"}}, \"type\": \"scatterpolargl\"}], \"scatterternary\": [{\"marker\": {\"colorbar\": {\"outlinewidth\": 0, \"ticks\": \"\"}}, \"type\": \"scatterternary\"}], \"surface\": [{\"colorbar\": {\"outlinewidth\": 0, \"ticks\": \"\"}, \"type\": \"surface\"}], \"table\": [{\"cells\": {\"fill\": {\"color\": \"#EBF0F8\"}, \"line\": {\"color\": \"white\"}}, \"header\": {\"fill\": {\"color\": \"#C8D4E3\"}, \"line\": {\"color\": \"white\"}}, \"type\": \"table\"}]}, \"layout\": {\"annotationdefaults\": {\"arrowcolor\": \"#506784\", \"arrowhead\": 0, \"arrowwidth\": 1}, \"colorscale\": {\"diverging\": [[0, \"#8e0152\"], [0.1, \"#c51b7d\"], [0.2, \"#de77ae\"], [0.3, \"#f1b6da\"], [0.4, \"#fde0ef\"], [0.5, \"#f7f7f7\"], [0.6, \"#e6f5d0\"], [0.7, \"#b8e186\"], [0.8, \"#7fbc41\"], [0.9, \"#4d9221\"], [1, \"#276419\"]], \"sequential\": [[0.0, \"#0508b8\"], [0.0893854748603352, \"#1910d8\"], [0.1787709497206704, \"#3c19f0\"], [0.2681564245810056, \"#6b1cfb\"], [0.3575418994413408, \"#981cfd\"], [0.44692737430167595, \"#bf1cfd\"], [0.5363128491620112, \"#dd2bfd\"], [0.6256983240223464, \"#f246fe\"], [0.7150837988826816, \"#fc67fd\"], [0.8044692737430168, \"#fe88fc\"], [0.8938547486033519, \"#fea5fd\"], [0.9832402234636871, \"#febefe\"], [1.0, \"#fec3fe\"]], \"sequentialminus\": [[0.0, \"#0508b8\"], [0.0893854748603352, \"#1910d8\"], [0.1787709497206704, \"#3c19f0\"], [0.2681564245810056, \"#6b1cfb\"], [0.3575418994413408, \"#981cfd\"], [0.44692737430167595, \"#bf1cfd\"], [0.5363128491620112, \"#dd2bfd\"], [0.6256983240223464, \"#f246fe\"], [0.7150837988826816, \"#fc67fd\"], [0.8044692737430168, \"#fe88fc\"], [0.8938547486033519, \"#fea5fd\"], [0.9832402234636871, \"#febefe\"], [1.0, \"#fec3fe\"]]}, \"colorway\": [\"#636efa\", \"#EF553B\", \"#00cc96\", \"#ab63fa\", \"#19d3f3\", \"#e763fa\", \"#FECB52\", \"#FFA15A\", \"#FF6692\", \"#B6E880\"], \"font\": {\"color\": \"#2a3f5f\"}, \"geo\": {\"bgcolor\": \"white\", \"lakecolor\": \"white\", \"landcolor\": \"#E5ECF6\", \"showlakes\": true, \"showland\": true, \"subunitcolor\": \"white\"}, \"hoverlabel\": {\"align\": \"left\"}, \"hovermode\": \"closest\", \"mapbox\": {\"style\": \"light\"}, \"paper_bgcolor\": \"white\", \"plot_bgcolor\": \"#E5ECF6\", \"polar\": {\"angularaxis\": {\"gridcolor\": \"white\", \"linecolor\": \"white\", \"ticks\": \"\"}, \"bgcolor\": \"#E5ECF6\", \"radialaxis\": {\"gridcolor\": \"white\", \"linecolor\": \"white\", \"ticks\": \"\"}}, \"scene\": {\"xaxis\": {\"backgroundcolor\": \"#E5ECF6\", \"gridcolor\": \"white\", \"gridwidth\": 2, \"linecolor\": \"white\", \"showbackground\": true, \"ticks\": \"\", \"zerolinecolor\": \"white\"}, \"yaxis\": {\"backgroundcolor\": \"#E5ECF6\", \"gridcolor\": \"white\", \"gridwidth\": 2, \"linecolor\": \"white\", \"showbackground\": true, \"ticks\": \"\", \"zerolinecolor\": \"white\"}, \"zaxis\": {\"backgroundcolor\": \"#E5ECF6\", \"gridcolor\": \"white\", \"gridwidth\": 2, \"linecolor\": \"white\", \"showbackground\": true, \"ticks\": \"\", \"zerolinecolor\": \"white\"}}, \"shapedefaults\": {\"fillcolor\": \"#506784\", \"line\": {\"width\": 0}, \"opacity\": 0.4}, \"ternary\": {\"aaxis\": {\"gridcolor\": \"white\", \"linecolor\": \"white\", \"ticks\": \"\"}, \"baxis\": {\"gridcolor\": \"white\", \"linecolor\": \"white\", \"ticks\": \"\"}, \"bgcolor\": \"#E5ECF6\", \"caxis\": {\"gridcolor\": \"white\", \"linecolor\": \"white\", \"ticks\": \"\"}}, \"title\": {\"x\": 0.05}, \"xaxis\": {\"automargin\": true, \"gridcolor\": \"white\", \"linecolor\": \"white\", \"ticks\": \"\", \"zerolinecolor\": \"white\", \"zerolinewidth\": 2}, \"yaxis\": {\"automargin\": true, \"gridcolor\": \"white\", \"linecolor\": \"white\", \"ticks\": \"\", \"zerolinecolor\": \"white\", \"zerolinewidth\": 2}}}, \"xaxis\": {\"title\": {\"text\": \"assignee_name\"}}},\n",
       "                        {\"showLink\": false, \"linkText\": \"Export to plot.ly\", \"plotlyServerURL\": \"https://plot.ly\", \"responsive\": true}\n",
       "                    ).then(function(){\n",
       "                            \n",
       "var gd = document.getElementById('bc70295c-08c7-4f73-b504-d9ff99fd2ef0');\n",
       "var x = new MutationObserver(function (mutations, observer) {{\n",
       "        var display = window.getComputedStyle(gd).display;\n",
       "        if (!display || display === 'none') {{\n",
       "            console.log([gd, 'removed!']);\n",
       "            Plotly.purge(gd);\n",
       "            observer.disconnect();\n",
       "        }}\n",
       "}});\n",
       "\n",
       "// Listen for the removal of the full notebook cells\n",
       "var notebookContainer = gd.closest('#notebook-container');\n",
       "if (notebookContainer) {{\n",
       "    x.observe(notebookContainer, {childList: true});\n",
       "}}\n",
       "\n",
       "// Listen for the clearing of the current output cell\n",
       "var outputEl = gd.closest('.output');\n",
       "if (outputEl) {{\n",
       "    x.observe(outputEl, {childList: true});\n",
       "}}\n",
       "\n",
       "                        })\n",
       "                };\n",
       "                });\n",
       "            </script>\n",
       "        </div>"
      ]
     },
     "metadata": {},
     "output_type": "display_data"
    }
   ],
   "source": [
    "px.bar(df2.groupby('assignee_name').filter(lambda x: len(x) > 3), x=\"assignee_name\", \n",
    "       color=\"country\", hover_name=\"title\", hover_data=[\"id\"])"
   ]
  },
  {
   "cell_type": "markdown",
   "metadata": {},
   "source": [
    "## Patents co-assignees by year and country"
   ]
  },
  {
   "cell_type": "code",
   "execution_count": 49,
   "metadata": {},
   "outputs": [
    {
     "data": {
      "application/vnd.plotly.v1+json": {
       "config": {
        "linkText": "Export to plot.ly",
        "plotlyServerURL": "https://plot.ly",
        "showLink": false
       },
       "data": [
        {
         "alignmentgroup": "True",
         "bingroup": "x",
         "hoverlabel": {
          "namelength": 0
         },
         "hovertemplate": "country=Italy<br>year=%{x}<br>count=%{y}",
         "legendgroup": "country=Italy",
         "marker": {
          "color": "#636efa"
         },
         "name": "country=Italy",
         "offsetgroup": "country=Italy",
         "orientation": "v",
         "showlegend": true,
         "type": "histogram",
         "uid": "144f55bf-f3ca-4385-a012-169f8a5866bc",
         "x": [
          2007,
          2007,
          2008,
          2006,
          2006,
          2005,
          2007,
          2011,
          2011,
          2011,
          2011,
          2005,
          1996,
          2005,
          2012,
          2004,
          2006,
          2005,
          2005,
          2005,
          2001,
          2016,
          2016,
          2009,
          2009,
          2008,
          2011,
          2011,
          2006,
          2006,
          2001,
          2001,
          2008,
          1999,
          2004,
          2004,
          2001,
          2001,
          2001,
          2001,
          2001,
          2001,
          2003,
          1987,
          2008,
          2003,
          2007,
          2007,
          2004,
          2005,
          2004,
          2007,
          2007,
          2011,
          2011,
          2016,
          1987,
          2004,
          2000,
          2005,
          2005,
          2008,
          2006,
          2014,
          2011,
          2011,
          2014,
          2007,
          2004,
          2014,
          2013,
          2012,
          2006,
          2006,
          2001,
          2017,
          2003,
          2003,
          1999,
          2012,
          2012,
          2007,
          2007,
          1987,
          2014,
          2014,
          2009,
          2009,
          2002,
          2002,
          2003,
          2006,
          2002,
          2002,
          2002,
          2011,
          2011,
          2015,
          2001,
          2001,
          2004,
          2004,
          2007,
          2002,
          2005,
          2007,
          2018,
          2014,
          2007,
          2014,
          2004,
          2016,
          2002,
          2001,
          2007,
          2007,
          2008,
          2008,
          2011,
          2011,
          2015,
          2012,
          2016,
          2014,
          2019,
          2015,
          2007,
          2001,
          2001,
          2001,
          2004,
          2002,
          2002,
          1987,
          2011,
          1987,
          2004,
          2007,
          2007,
          2014,
          2007,
          1996,
          1993,
          1989,
          2007,
          2014,
          2011,
          2011,
          2012,
          2007,
          2006,
          2017,
          2013,
          2011,
          2011,
          2008,
          2008,
          2014,
          2014,
          2002,
          2001,
          2001,
          2011,
          2004,
          2004,
          2007,
          2007,
          2014,
          2017,
          2002,
          2001,
          2011,
          2011,
          2007,
          2007,
          2005,
          2009,
          2005,
          2001,
          2006,
          2014,
          2017,
          1987,
          2004,
          2005,
          2014
         ],
         "xaxis": "x",
         "yaxis": "y"
        },
        {
         "alignmentgroup": "True",
         "bingroup": "x",
         "hoverlabel": {
          "namelength": 0
         },
         "hovertemplate": "country=United States<br>year=%{x}<br>count=%{y}",
         "legendgroup": "country=United States",
         "marker": {
          "color": "#EF553B"
         },
         "name": "country=United States",
         "offsetgroup": "country=United States",
         "orientation": "v",
         "showlegend": true,
         "type": "histogram",
         "uid": "19a2dccc-0e91-41cd-a7e5-ca9a0298f0a6",
         "x": [
          2018,
          2015,
          2015,
          2018,
          2010,
          2014,
          2014,
          2014,
          2014,
          2016,
          2016,
          2014,
          2014,
          2014,
          2012,
          2014,
          2010,
          2010,
          2014,
          2014,
          2014,
          2018,
          2016,
          2010,
          2010,
          2014,
          2014,
          2014,
          2010,
          2010,
          2010,
          2010,
          2014,
          2014,
          2014,
          2014,
          2014,
          2014,
          2014,
          2015,
          2015,
          2015,
          2014,
          2018,
          2010,
          2016,
          2016,
          2014,
          2014,
          2014,
          2010,
          2015,
          2015,
          2010,
          2018
         ],
         "xaxis": "x",
         "yaxis": "y"
        },
        {
         "alignmentgroup": "True",
         "bingroup": "x",
         "hoverlabel": {
          "namelength": 0
         },
         "hovertemplate": "country=France<br>year=%{x}<br>count=%{y}",
         "legendgroup": "country=France",
         "marker": {
          "color": "#00cc96"
         },
         "name": "country=France",
         "offsetgroup": "country=France",
         "orientation": "v",
         "showlegend": true,
         "type": "histogram",
         "uid": "79c00f22-c436-48c7-8c24-9788effb7812",
         "x": [
          2015,
          2014,
          2009,
          2009,
          2016,
          2009,
          2009,
          1987,
          2005,
          2005,
          1987,
          2014,
          2014,
          2015,
          1987,
          2014,
          2014,
          2009,
          2009,
          2016,
          2014,
          2014,
          2014,
          2005,
          2005,
          2016,
          2016,
          2009,
          2009,
          2008,
          2008,
          1987,
          2013,
          2015,
          1987,
          2005,
          2005,
          2015,
          2014,
          2009,
          2009,
          2016,
          2016,
          2013,
          2016,
          2016,
          1987,
          2008,
          2008,
          2009,
          2009
         ],
         "xaxis": "x",
         "yaxis": "y"
        },
        {
         "alignmentgroup": "True",
         "bingroup": "x",
         "hoverlabel": {
          "namelength": 0
         },
         "hovertemplate": "country=Poland<br>year=%{x}<br>count=%{y}",
         "legendgroup": "country=Poland",
         "marker": {
          "color": "#ab63fa"
         },
         "name": "country=Poland",
         "offsetgroup": "country=Poland",
         "orientation": "v",
         "showlegend": true,
         "type": "histogram",
         "uid": "dd71aaaf-0a8a-4505-8b3a-9d72cbd9e690",
         "x": [
          2009,
          2009,
          2014,
          2014,
          2009,
          2014,
          2009,
          2008,
          2009,
          2008,
          2009
         ],
         "xaxis": "x",
         "yaxis": "y"
        },
        {
         "alignmentgroup": "True",
         "bingroup": "x",
         "hoverlabel": {
          "namelength": 0
         },
         "hovertemplate": "country=Canada<br>year=%{x}<br>count=%{y}",
         "legendgroup": "country=Canada",
         "marker": {
          "color": "#19d3f3"
         },
         "name": "country=Canada",
         "offsetgroup": "country=Canada",
         "orientation": "v",
         "showlegend": true,
         "type": "histogram",
         "uid": "bde754ed-e735-42a8-8397-b6658fd3ca2c",
         "x": [
          2008,
          2001,
          2001,
          2001,
          2008,
          2001
         ],
         "xaxis": "x",
         "yaxis": "y"
        },
        {
         "alignmentgroup": "True",
         "bingroup": "x",
         "hoverlabel": {
          "namelength": 0
         },
         "hovertemplate": "country=Germany<br>year=%{x}<br>count=%{y}",
         "legendgroup": "country=Germany",
         "marker": {
          "color": "#e763fa"
         },
         "name": "country=Germany",
         "offsetgroup": "country=Germany",
         "orientation": "v",
         "showlegend": true,
         "type": "histogram",
         "uid": "ed88cc94-9b1f-425e-b323-70a149f5f2af",
         "x": [
          2014,
          2005,
          2005,
          2010,
          2014,
          2014,
          2014,
          2014,
          2005,
          2014,
          2014,
          2014,
          2014
         ],
         "xaxis": "x",
         "yaxis": "y"
        },
        {
         "alignmentgroup": "True",
         "bingroup": "x",
         "hoverlabel": {
          "namelength": 0
         },
         "hovertemplate": "country=Czechia<br>year=%{x}<br>count=%{y}",
         "legendgroup": "country=Czechia",
         "marker": {
          "color": "#FECB52"
         },
         "name": "country=Czechia",
         "offsetgroup": "country=Czechia",
         "orientation": "v",
         "showlegend": true,
         "type": "histogram",
         "uid": "ee1cbd7b-e12d-43fb-b3e4-09872544d613",
         "x": [
          2012,
          2012,
          2012
         ],
         "xaxis": "x",
         "yaxis": "y"
        },
        {
         "alignmentgroup": "True",
         "bingroup": "x",
         "hoverlabel": {
          "namelength": 0
         },
         "hovertemplate": "country=Spain<br>year=%{x}<br>count=%{y}",
         "legendgroup": "country=Spain",
         "marker": {
          "color": "#FFA15A"
         },
         "name": "country=Spain",
         "offsetgroup": "country=Spain",
         "orientation": "v",
         "showlegend": true,
         "type": "histogram",
         "uid": "ea7f7365-fe34-42e2-a4d3-8b2eb5a29e98",
         "x": [
          2012,
          2012,
          2012,
          2015,
          2014,
          2014
         ],
         "xaxis": "x",
         "yaxis": "y"
        },
        {
         "alignmentgroup": "True",
         "bingroup": "x",
         "hoverlabel": {
          "namelength": 0
         },
         "hovertemplate": "country=United Kingdom<br>year=%{x}<br>count=%{y}",
         "legendgroup": "country=United Kingdom",
         "marker": {
          "color": "#FF6692"
         },
         "name": "country=United Kingdom",
         "offsetgroup": "country=United Kingdom",
         "orientation": "v",
         "showlegend": true,
         "type": "histogram",
         "uid": "6748cc26-85fb-4756-8bcc-22df7715bce9",
         "x": [
          2001,
          2014,
          2014,
          2014,
          2014
         ],
         "xaxis": "x",
         "yaxis": "y"
        },
        {
         "alignmentgroup": "True",
         "bingroup": "x",
         "hoverlabel": {
          "namelength": 0
         },
         "hovertemplate": "country=Denmark<br>year=%{x}<br>count=%{y}",
         "legendgroup": "country=Denmark",
         "marker": {
          "color": "#B6E880"
         },
         "name": "country=Denmark",
         "offsetgroup": "country=Denmark",
         "orientation": "v",
         "showlegend": true,
         "type": "histogram",
         "uid": "7090cef6-ca92-4dd7-a9d5-6b6d4173c8db",
         "x": [
          2014,
          2016,
          2014
         ],
         "xaxis": "x",
         "yaxis": "y"
        },
        {
         "alignmentgroup": "True",
         "bingroup": "x",
         "hoverlabel": {
          "namelength": 0
         },
         "hovertemplate": "country=Netherlands<br>year=%{x}<br>count=%{y}",
         "legendgroup": "country=Netherlands",
         "marker": {
          "color": "#636efa"
         },
         "name": "country=Netherlands",
         "offsetgroup": "country=Netherlands",
         "orientation": "v",
         "showlegend": true,
         "type": "histogram",
         "uid": "28bd01a0-cba8-44b6-9b17-883799fb60bb",
         "x": [
          2014,
          2014,
          2014,
          2014
         ],
         "xaxis": "x",
         "yaxis": "y"
        },
        {
         "alignmentgroup": "True",
         "bingroup": "x",
         "hoverlabel": {
          "namelength": 0
         },
         "hovertemplate": "country=Greece<br>year=%{x}<br>count=%{y}",
         "legendgroup": "country=Greece",
         "marker": {
          "color": "#EF553B"
         },
         "name": "country=Greece",
         "offsetgroup": "country=Greece",
         "orientation": "v",
         "showlegend": true,
         "type": "histogram",
         "uid": "c1d9b30e-7147-4d97-bb0f-bc2e6bef050d",
         "x": [
          2014
         ],
         "xaxis": "x",
         "yaxis": "y"
        },
        {
         "alignmentgroup": "True",
         "bingroup": "x",
         "hoverlabel": {
          "namelength": 0
         },
         "hovertemplate": "country=Finland<br>year=%{x}<br>count=%{y}",
         "legendgroup": "country=Finland",
         "marker": {
          "color": "#00cc96"
         },
         "name": "country=Finland",
         "offsetgroup": "country=Finland",
         "orientation": "v",
         "showlegend": true,
         "type": "histogram",
         "uid": "853fa15d-4df5-42cd-8514-be8879862b31",
         "x": [
          2014,
          2014
         ],
         "xaxis": "x",
         "yaxis": "y"
        },
        {
         "alignmentgroup": "True",
         "bingroup": "x",
         "hoverlabel": {
          "namelength": 0
         },
         "hovertemplate": "country=Austria<br>year=%{x}<br>count=%{y}",
         "legendgroup": "country=Austria",
         "marker": {
          "color": "#ab63fa"
         },
         "name": "country=Austria",
         "offsetgroup": "country=Austria",
         "orientation": "v",
         "showlegend": true,
         "type": "histogram",
         "uid": "6eb6b0af-fb09-41d4-8bc9-be2544a24f27",
         "x": [
          2014,
          2014
         ],
         "xaxis": "x",
         "yaxis": "y"
        },
        {
         "alignmentgroup": "True",
         "bingroup": "x",
         "hoverlabel": {
          "namelength": 0
         },
         "hovertemplate": "country=Belgium<br>year=%{x}<br>count=%{y}",
         "legendgroup": "country=Belgium",
         "marker": {
          "color": "#19d3f3"
         },
         "name": "country=Belgium",
         "offsetgroup": "country=Belgium",
         "orientation": "v",
         "showlegend": true,
         "type": "histogram",
         "uid": "324702a7-404a-4e2e-a63f-9fd06ebe0f0c",
         "x": [
          2014,
          2014,
          2014,
          2014
         ],
         "xaxis": "x",
         "yaxis": "y"
        },
        {
         "alignmentgroup": "True",
         "bingroup": "x",
         "hoverlabel": {
          "namelength": 0
         },
         "hovertemplate": "country=Switzerland<br>year=%{x}<br>count=%{y}",
         "legendgroup": "country=Switzerland",
         "marker": {
          "color": "#e763fa"
         },
         "name": "country=Switzerland",
         "offsetgroup": "country=Switzerland",
         "orientation": "v",
         "showlegend": true,
         "type": "histogram",
         "uid": "ed5b7540-68b1-49f3-bc15-30cfbeeffd06",
         "x": [
          2014,
          2016,
          2014,
          2017,
          2017
         ],
         "xaxis": "x",
         "yaxis": "y"
        },
        {
         "alignmentgroup": "True",
         "bingroup": "x",
         "hoverlabel": {
          "namelength": 0
         },
         "hovertemplate": "country=Portugal<br>year=%{x}<br>count=%{y}",
         "legendgroup": "country=Portugal",
         "marker": {
          "color": "#FECB52"
         },
         "name": "country=Portugal",
         "offsetgroup": "country=Portugal",
         "orientation": "v",
         "showlegend": true,
         "type": "histogram",
         "uid": "94e64f21-b94f-4bb2-bdeb-19fc851b8624",
         "x": [
          1987
         ],
         "xaxis": "x",
         "yaxis": "y"
        },
        {
         "alignmentgroup": "True",
         "bingroup": "x",
         "hoverlabel": {
          "namelength": 0
         },
         "hovertemplate": "country=Singapore<br>year=%{x}<br>count=%{y}",
         "legendgroup": "country=Singapore",
         "marker": {
          "color": "#FFA15A"
         },
         "name": "country=Singapore",
         "offsetgroup": "country=Singapore",
         "orientation": "v",
         "showlegend": true,
         "type": "histogram",
         "uid": "973500cb-225a-4699-91c0-b04c92e1c49a",
         "x": [
          2014,
          2014
         ],
         "xaxis": "x",
         "yaxis": "y"
        },
        {
         "alignmentgroup": "True",
         "bingroup": "x",
         "hoverlabel": {
          "namelength": 0
         },
         "hovertemplate": "country=Brazil<br>year=%{x}<br>count=%{y}",
         "legendgroup": "country=Brazil",
         "marker": {
          "color": "#FF6692"
         },
         "name": "country=Brazil",
         "offsetgroup": "country=Brazil",
         "orientation": "v",
         "showlegend": true,
         "type": "histogram",
         "uid": "8e866899-90fa-4aa3-a2ef-4e5ab1b64bb4",
         "x": [
          2014,
          2014
         ],
         "xaxis": "x",
         "yaxis": "y"
        },
        {
         "alignmentgroup": "True",
         "bingroup": "x",
         "hoverlabel": {
          "namelength": 0
         },
         "hovertemplate": "country=China<br>year=%{x}<br>count=%{y}",
         "legendgroup": "country=China",
         "marker": {
          "color": "#B6E880"
         },
         "name": "country=China",
         "offsetgroup": "country=China",
         "orientation": "v",
         "showlegend": true,
         "type": "histogram",
         "uid": "037323e8-592d-4eb1-bde3-064385f15a6a",
         "x": [
          2018
         ],
         "xaxis": "x",
         "yaxis": "y"
        }
       ],
       "layout": {
        "autosize": true,
        "barmode": "relative",
        "grid": {
         "xaxes": [
          "x"
         ],
         "xgap": 0.1,
         "xside": "bottom",
         "yaxes": [
          "y"
         ],
         "ygap": 0.1,
         "yside": "left"
        },
        "legend": {
         "tracegroupgap": 0
        },
        "margin": {
         "t": 60
        },
        "template": {
         "data": {
          "bar": [
           {
            "marker": {
             "line": {
              "color": "#E5ECF6",
              "width": 0.5
             }
            },
            "type": "bar"
           }
          ],
          "barpolar": [
           {
            "marker": {
             "line": {
              "color": "#E5ECF6",
              "width": 0.5
             }
            },
            "type": "barpolar"
           }
          ],
          "carpet": [
           {
            "aaxis": {
             "endlinecolor": "#2a3f5f",
             "gridcolor": "white",
             "linecolor": "white",
             "minorgridcolor": "white",
             "startlinecolor": "#2a3f5f"
            },
            "baxis": {
             "endlinecolor": "#2a3f5f",
             "gridcolor": "white",
             "linecolor": "white",
             "minorgridcolor": "white",
             "startlinecolor": "#2a3f5f"
            },
            "type": "carpet"
           }
          ],
          "choropleth": [
           {
            "colorbar": {
             "outlinewidth": 0,
             "ticks": ""
            },
            "type": "choropleth"
           }
          ],
          "contour": [
           {
            "colorbar": {
             "outlinewidth": 0,
             "ticks": ""
            },
            "colorscale": [
             [
              0,
              "#0508b8"
             ],
             [
              0.0893854748603352,
              "#1910d8"
             ],
             [
              0.1787709497206704,
              "#3c19f0"
             ],
             [
              0.2681564245810056,
              "#6b1cfb"
             ],
             [
              0.3575418994413408,
              "#981cfd"
             ],
             [
              0.44692737430167595,
              "#bf1cfd"
             ],
             [
              0.5363128491620112,
              "#dd2bfd"
             ],
             [
              0.6256983240223464,
              "#f246fe"
             ],
             [
              0.7150837988826816,
              "#fc67fd"
             ],
             [
              0.8044692737430168,
              "#fe88fc"
             ],
             [
              0.8938547486033519,
              "#fea5fd"
             ],
             [
              0.9832402234636871,
              "#febefe"
             ],
             [
              1,
              "#fec3fe"
             ]
            ],
            "type": "contour"
           }
          ],
          "contourcarpet": [
           {
            "colorbar": {
             "outlinewidth": 0,
             "ticks": ""
            },
            "type": "contourcarpet"
           }
          ],
          "heatmap": [
           {
            "colorbar": {
             "outlinewidth": 0,
             "ticks": ""
            },
            "colorscale": [
             [
              0,
              "#0508b8"
             ],
             [
              0.0893854748603352,
              "#1910d8"
             ],
             [
              0.1787709497206704,
              "#3c19f0"
             ],
             [
              0.2681564245810056,
              "#6b1cfb"
             ],
             [
              0.3575418994413408,
              "#981cfd"
             ],
             [
              0.44692737430167595,
              "#bf1cfd"
             ],
             [
              0.5363128491620112,
              "#dd2bfd"
             ],
             [
              0.6256983240223464,
              "#f246fe"
             ],
             [
              0.7150837988826816,
              "#fc67fd"
             ],
             [
              0.8044692737430168,
              "#fe88fc"
             ],
             [
              0.8938547486033519,
              "#fea5fd"
             ],
             [
              0.9832402234636871,
              "#febefe"
             ],
             [
              1,
              "#fec3fe"
             ]
            ],
            "type": "heatmap"
           }
          ],
          "heatmapgl": [
           {
            "colorbar": {
             "outlinewidth": 0,
             "ticks": ""
            },
            "type": "heatmapgl"
           }
          ],
          "histogram": [
           {
            "marker": {
             "colorbar": {
              "outlinewidth": 0,
              "ticks": ""
             }
            },
            "type": "histogram"
           }
          ],
          "histogram2d": [
           {
            "colorbar": {
             "outlinewidth": 0,
             "ticks": ""
            },
            "colorscale": [
             [
              0,
              "#0508b8"
             ],
             [
              0.0893854748603352,
              "#1910d8"
             ],
             [
              0.1787709497206704,
              "#3c19f0"
             ],
             [
              0.2681564245810056,
              "#6b1cfb"
             ],
             [
              0.3575418994413408,
              "#981cfd"
             ],
             [
              0.44692737430167595,
              "#bf1cfd"
             ],
             [
              0.5363128491620112,
              "#dd2bfd"
             ],
             [
              0.6256983240223464,
              "#f246fe"
             ],
             [
              0.7150837988826816,
              "#fc67fd"
             ],
             [
              0.8044692737430168,
              "#fe88fc"
             ],
             [
              0.8938547486033519,
              "#fea5fd"
             ],
             [
              0.9832402234636871,
              "#febefe"
             ],
             [
              1,
              "#fec3fe"
             ]
            ],
            "type": "histogram2d"
           }
          ],
          "histogram2dcontour": [
           {
            "colorbar": {
             "outlinewidth": 0,
             "ticks": ""
            },
            "colorscale": [
             [
              0,
              "#0508b8"
             ],
             [
              0.0893854748603352,
              "#1910d8"
             ],
             [
              0.1787709497206704,
              "#3c19f0"
             ],
             [
              0.2681564245810056,
              "#6b1cfb"
             ],
             [
              0.3575418994413408,
              "#981cfd"
             ],
             [
              0.44692737430167595,
              "#bf1cfd"
             ],
             [
              0.5363128491620112,
              "#dd2bfd"
             ],
             [
              0.6256983240223464,
              "#f246fe"
             ],
             [
              0.7150837988826816,
              "#fc67fd"
             ],
             [
              0.8044692737430168,
              "#fe88fc"
             ],
             [
              0.8938547486033519,
              "#fea5fd"
             ],
             [
              0.9832402234636871,
              "#febefe"
             ],
             [
              1,
              "#fec3fe"
             ]
            ],
            "type": "histogram2dcontour"
           }
          ],
          "mesh3d": [
           {
            "colorbar": {
             "outlinewidth": 0,
             "ticks": ""
            },
            "type": "mesh3d"
           }
          ],
          "parcoords": [
           {
            "line": {
             "colorbar": {
              "outlinewidth": 0,
              "ticks": ""
             }
            },
            "type": "parcoords"
           }
          ],
          "scatter": [
           {
            "marker": {
             "colorbar": {
              "outlinewidth": 0,
              "ticks": ""
             }
            },
            "type": "scatter"
           }
          ],
          "scatter3d": [
           {
            "marker": {
             "colorbar": {
              "outlinewidth": 0,
              "ticks": ""
             }
            },
            "type": "scatter3d"
           }
          ],
          "scattercarpet": [
           {
            "marker": {
             "colorbar": {
              "outlinewidth": 0,
              "ticks": ""
             }
            },
            "type": "scattercarpet"
           }
          ],
          "scattergeo": [
           {
            "marker": {
             "colorbar": {
              "outlinewidth": 0,
              "ticks": ""
             }
            },
            "type": "scattergeo"
           }
          ],
          "scattergl": [
           {
            "marker": {
             "colorbar": {
              "outlinewidth": 0,
              "ticks": ""
             }
            },
            "type": "scattergl"
           }
          ],
          "scattermapbox": [
           {
            "marker": {
             "colorbar": {
              "outlinewidth": 0,
              "ticks": ""
             }
            },
            "type": "scattermapbox"
           }
          ],
          "scatterpolar": [
           {
            "marker": {
             "colorbar": {
              "outlinewidth": 0,
              "ticks": ""
             }
            },
            "type": "scatterpolar"
           }
          ],
          "scatterpolargl": [
           {
            "marker": {
             "colorbar": {
              "outlinewidth": 0,
              "ticks": ""
             }
            },
            "type": "scatterpolargl"
           }
          ],
          "scatterternary": [
           {
            "marker": {
             "colorbar": {
              "outlinewidth": 0,
              "ticks": ""
             }
            },
            "type": "scatterternary"
           }
          ],
          "surface": [
           {
            "colorbar": {
             "outlinewidth": 0,
             "ticks": ""
            },
            "type": "surface"
           }
          ],
          "table": [
           {
            "cells": {
             "fill": {
              "color": "#EBF0F8"
             },
             "line": {
              "color": "white"
             }
            },
            "header": {
             "fill": {
              "color": "#C8D4E3"
             },
             "line": {
              "color": "white"
             }
            },
            "type": "table"
           }
          ]
         },
         "layout": {
          "annotationdefaults": {
           "arrowcolor": "#506784",
           "arrowhead": 0,
           "arrowwidth": 1
          },
          "colorscale": {
           "diverging": [
            [
             0,
             "#8e0152"
            ],
            [
             0.1,
             "#c51b7d"
            ],
            [
             0.2,
             "#de77ae"
            ],
            [
             0.3,
             "#f1b6da"
            ],
            [
             0.4,
             "#fde0ef"
            ],
            [
             0.5,
             "#f7f7f7"
            ],
            [
             0.6,
             "#e6f5d0"
            ],
            [
             0.7,
             "#b8e186"
            ],
            [
             0.8,
             "#7fbc41"
            ],
            [
             0.9,
             "#4d9221"
            ],
            [
             1,
             "#276419"
            ]
           ],
           "sequential": [
            [
             0,
             "#0508b8"
            ],
            [
             0.0893854748603352,
             "#1910d8"
            ],
            [
             0.1787709497206704,
             "#3c19f0"
            ],
            [
             0.2681564245810056,
             "#6b1cfb"
            ],
            [
             0.3575418994413408,
             "#981cfd"
            ],
            [
             0.44692737430167595,
             "#bf1cfd"
            ],
            [
             0.5363128491620112,
             "#dd2bfd"
            ],
            [
             0.6256983240223464,
             "#f246fe"
            ],
            [
             0.7150837988826816,
             "#fc67fd"
            ],
            [
             0.8044692737430168,
             "#fe88fc"
            ],
            [
             0.8938547486033519,
             "#fea5fd"
            ],
            [
             0.9832402234636871,
             "#febefe"
            ],
            [
             1,
             "#fec3fe"
            ]
           ],
           "sequentialminus": [
            [
             0,
             "#0508b8"
            ],
            [
             0.0893854748603352,
             "#1910d8"
            ],
            [
             0.1787709497206704,
             "#3c19f0"
            ],
            [
             0.2681564245810056,
             "#6b1cfb"
            ],
            [
             0.3575418994413408,
             "#981cfd"
            ],
            [
             0.44692737430167595,
             "#bf1cfd"
            ],
            [
             0.5363128491620112,
             "#dd2bfd"
            ],
            [
             0.6256983240223464,
             "#f246fe"
            ],
            [
             0.7150837988826816,
             "#fc67fd"
            ],
            [
             0.8044692737430168,
             "#fe88fc"
            ],
            [
             0.8938547486033519,
             "#fea5fd"
            ],
            [
             0.9832402234636871,
             "#febefe"
            ],
            [
             1,
             "#fec3fe"
            ]
           ]
          },
          "colorway": [
           "#636efa",
           "#EF553B",
           "#00cc96",
           "#ab63fa",
           "#19d3f3",
           "#e763fa",
           "#FECB52",
           "#FFA15A",
           "#FF6692",
           "#B6E880"
          ],
          "font": {
           "color": "#2a3f5f"
          },
          "geo": {
           "bgcolor": "white",
           "lakecolor": "white",
           "landcolor": "#E5ECF6",
           "showlakes": true,
           "showland": true,
           "subunitcolor": "white"
          },
          "hoverlabel": {
           "align": "left"
          },
          "hovermode": "closest",
          "mapbox": {
           "style": "light"
          },
          "paper_bgcolor": "white",
          "plot_bgcolor": "#E5ECF6",
          "polar": {
           "angularaxis": {
            "gridcolor": "white",
            "linecolor": "white",
            "ticks": ""
           },
           "bgcolor": "#E5ECF6",
           "radialaxis": {
            "gridcolor": "white",
            "linecolor": "white",
            "ticks": ""
           }
          },
          "scene": {
           "xaxis": {
            "backgroundcolor": "#E5ECF6",
            "gridcolor": "white",
            "gridwidth": 2,
            "linecolor": "white",
            "showbackground": true,
            "ticks": "",
            "zerolinecolor": "white"
           },
           "yaxis": {
            "backgroundcolor": "#E5ECF6",
            "gridcolor": "white",
            "gridwidth": 2,
            "linecolor": "white",
            "showbackground": true,
            "ticks": "",
            "zerolinecolor": "white"
           },
           "zaxis": {
            "backgroundcolor": "#E5ECF6",
            "gridcolor": "white",
            "gridwidth": 2,
            "linecolor": "white",
            "showbackground": true,
            "ticks": "",
            "zerolinecolor": "white"
           }
          },
          "shapedefaults": {
           "fillcolor": "#506784",
           "line": {
            "width": 0
           },
           "opacity": 0.4
          },
          "ternary": {
           "aaxis": {
            "gridcolor": "white",
            "linecolor": "white",
            "ticks": ""
           },
           "baxis": {
            "gridcolor": "white",
            "linecolor": "white",
            "ticks": ""
           },
           "bgcolor": "#E5ECF6",
           "caxis": {
            "gridcolor": "white",
            "linecolor": "white",
            "ticks": ""
           }
          },
          "title": {
           "x": 0.05
          },
          "xaxis": {
           "automargin": true,
           "gridcolor": "white",
           "linecolor": "white",
           "ticks": "",
           "zerolinecolor": "white",
           "zerolinewidth": 2
          },
          "yaxis": {
           "automargin": true,
           "gridcolor": "white",
           "linecolor": "white",
           "ticks": "",
           "zerolinecolor": "white",
           "zerolinewidth": 2
          }
         }
        },
        "xaxis": {
         "autorange": true,
         "range": [
          1985.5,
          2019.5
         ],
         "title": {
          "text": "year"
         },
         "type": "linear"
        },
        "yaxis": {
         "autorange": true,
         "range": [
          0,
          108.42105263157895
         ],
         "title": {
          "text": "count"
         }
        }
       }
      },
      "image/png": "[encoded data removed]",
      "text/html": [
       "<div>\n",
       "        \n",
       "        \n",
       "            <div id=\"aba45449-42c4-412f-bcfc-1ab90ff5d013\" class=\"plotly-graph-div\" style=\"height:600px; width:100%;\"></div>\n",
       "            <script type=\"text/javascript\">\n",
       "                require([\"plotly\"], function(Plotly) {\n",
       "                    window.PLOTLYENV=window.PLOTLYENV || {};\n",
       "                    window.PLOTLYENV.BASE_URL='https://plot.ly';\n",
       "                    \n",
       "                if (document.getElementById(\"aba45449-42c4-412f-bcfc-1ab90ff5d013\")) {\n",
       "                    Plotly.newPlot(\n",
       "                        'aba45449-42c4-412f-bcfc-1ab90ff5d013',\n",
       "                        [{\"alignmentgroup\": \"True\", \"bingroup\": \"x\", \"hoverlabel\": {\"namelength\": 0}, \"hovertemplate\": \"country=Italy<br>year=%{x}<br>count=%{y}\", \"legendgroup\": \"country=Italy\", \"marker\": {\"color\": \"#636efa\"}, \"name\": \"country=Italy\", \"offsetgroup\": \"country=Italy\", \"orientation\": \"v\", \"showlegend\": true, \"type\": \"histogram\", \"uid\": \"144f55bf-f3ca-4385-a012-169f8a5866bc\", \"x\": [2007, 2007, 2008, 2006, 2006, 2005, 2007, 2011, 2011, 2011, 2011, 2005, 1996, 2005, 2012, 2004, 2006, 2005, 2005, 2005, 2001, 2016, 2016, 2009, 2009, 2008, 2011, 2011, 2006, 2006, 2001, 2001, 2008, 1999, 2004, 2004, 2001, 2001, 2001, 2001, 2001, 2001, 2003, 1987, 2008, 2003, 2007, 2007, 2004, 2005, 2004, 2007, 2007, 2011, 2011, 2016, 1987, 2004, 2000, 2005, 2005, 2008, 2006, 2014, 2011, 2011, 2014, 2007, 2004, 2014, 2013, 2012, 2006, 2006, 2001, 2017, 2003, 2003, 1999, 2012, 2012, 2007, 2007, 1987, 2014, 2014, 2009, 2009, 2002, 2002, 2003, 2006, 2002, 2002, 2002, 2011, 2011, 2015, 2001, 2001, 2004, 2004, 2007, 2002, 2005, 2007, 2018, 2014, 2007, 2014, 2004, 2016, 2002, 2001, 2007, 2007, 2008, 2008, 2011, 2011, 2015, 2012, 2016, 2014, 2019, 2015, 2007, 2001, 2001, 2001, 2004, 2002, 2002, 1987, 2011, 1987, 2004, 2007, 2007, 2014, 2007, 1996, 1993, 1989, 2007, 2014, 2011, 2011, 2012, 2007, 2006, 2017, 2013, 2011, 2011, 2008, 2008, 2014, 2014, 2002, 2001, 2001, 2011, 2004, 2004, 2007, 2007, 2014, 2017, 2002, 2001, 2011, 2011, 2007, 2007, 2005, 2009, 2005, 2001, 2006, 2014, 2017, 1987, 2004, 2005, 2014], \"xaxis\": \"x\", \"yaxis\": \"y\"}, {\"alignmentgroup\": \"True\", \"bingroup\": \"x\", \"hoverlabel\": {\"namelength\": 0}, \"hovertemplate\": \"country=United States<br>year=%{x}<br>count=%{y}\", \"legendgroup\": \"country=United States\", \"marker\": {\"color\": \"#EF553B\"}, \"name\": \"country=United States\", \"offsetgroup\": \"country=United States\", \"orientation\": \"v\", \"showlegend\": true, \"type\": \"histogram\", \"uid\": \"19a2dccc-0e91-41cd-a7e5-ca9a0298f0a6\", \"x\": [2018, 2015, 2015, 2018, 2010, 2014, 2014, 2014, 2014, 2016, 2016, 2014, 2014, 2014, 2012, 2014, 2010, 2010, 2014, 2014, 2014, 2018, 2016, 2010, 2010, 2014, 2014, 2014, 2010, 2010, 2010, 2010, 2014, 2014, 2014, 2014, 2014, 2014, 2014, 2015, 2015, 2015, 2014, 2018, 2010, 2016, 2016, 2014, 2014, 2014, 2010, 2015, 2015, 2010, 2018], \"xaxis\": \"x\", \"yaxis\": \"y\"}, {\"alignmentgroup\": \"True\", \"bingroup\": \"x\", \"hoverlabel\": {\"namelength\": 0}, \"hovertemplate\": \"country=France<br>year=%{x}<br>count=%{y}\", \"legendgroup\": \"country=France\", \"marker\": {\"color\": \"#00cc96\"}, \"name\": \"country=France\", \"offsetgroup\": \"country=France\", \"orientation\": \"v\", \"showlegend\": true, \"type\": \"histogram\", \"uid\": \"79c00f22-c436-48c7-8c24-9788effb7812\", \"x\": [2015, 2014, 2009, 2009, 2016, 2009, 2009, 1987, 2005, 2005, 1987, 2014, 2014, 2015, 1987, 2014, 2014, 2009, 2009, 2016, 2014, 2014, 2014, 2005, 2005, 2016, 2016, 2009, 2009, 2008, 2008, 1987, 2013, 2015, 1987, 2005, 2005, 2015, 2014, 2009, 2009, 2016, 2016, 2013, 2016, 2016, 1987, 2008, 2008, 2009, 2009], \"xaxis\": \"x\", \"yaxis\": \"y\"}, {\"alignmentgroup\": \"True\", \"bingroup\": \"x\", \"hoverlabel\": {\"namelength\": 0}, \"hovertemplate\": \"country=Poland<br>year=%{x}<br>count=%{y}\", \"legendgroup\": \"country=Poland\", \"marker\": {\"color\": \"#ab63fa\"}, \"name\": \"country=Poland\", \"offsetgroup\": \"country=Poland\", \"orientation\": \"v\", \"showlegend\": true, \"type\": \"histogram\", \"uid\": \"dd71aaaf-0a8a-4505-8b3a-9d72cbd9e690\", \"x\": [2009, 2009, 2014, 2014, 2009, 2014, 2009, 2008, 2009, 2008, 2009], \"xaxis\": \"x\", \"yaxis\": \"y\"}, {\"alignmentgroup\": \"True\", \"bingroup\": \"x\", \"hoverlabel\": {\"namelength\": 0}, \"hovertemplate\": \"country=Canada<br>year=%{x}<br>count=%{y}\", \"legendgroup\": \"country=Canada\", \"marker\": {\"color\": \"#19d3f3\"}, \"name\": \"country=Canada\", \"offsetgroup\": \"country=Canada\", \"orientation\": \"v\", \"showlegend\": true, \"type\": \"histogram\", \"uid\": \"bde754ed-e735-42a8-8397-b6658fd3ca2c\", \"x\": [2008, 2001, 2001, 2001, 2008, 2001], \"xaxis\": \"x\", \"yaxis\": \"y\"}, {\"alignmentgroup\": \"True\", \"bingroup\": \"x\", \"hoverlabel\": {\"namelength\": 0}, \"hovertemplate\": \"country=Germany<br>year=%{x}<br>count=%{y}\", \"legendgroup\": \"country=Germany\", \"marker\": {\"color\": \"#e763fa\"}, \"name\": \"country=Germany\", \"offsetgroup\": \"country=Germany\", \"orientation\": \"v\", \"showlegend\": true, \"type\": \"histogram\", \"uid\": \"ed88cc94-9b1f-425e-b323-70a149f5f2af\", \"x\": [2014, 2005, 2005, 2010, 2014, 2014, 2014, 2014, 2005, 2014, 2014, 2014, 2014], \"xaxis\": \"x\", \"yaxis\": \"y\"}, {\"alignmentgroup\": \"True\", \"bingroup\": \"x\", \"hoverlabel\": {\"namelength\": 0}, \"hovertemplate\": \"country=Czechia<br>year=%{x}<br>count=%{y}\", \"legendgroup\": \"country=Czechia\", \"marker\": {\"color\": \"#FECB52\"}, \"name\": \"country=Czechia\", \"offsetgroup\": \"country=Czechia\", \"orientation\": \"v\", \"showlegend\": true, \"type\": \"histogram\", \"uid\": \"ee1cbd7b-e12d-43fb-b3e4-09872544d613\", \"x\": [2012, 2012, 2012], \"xaxis\": \"x\", \"yaxis\": \"y\"}, {\"alignmentgroup\": \"True\", \"bingroup\": \"x\", \"hoverlabel\": {\"namelength\": 0}, \"hovertemplate\": \"country=Spain<br>year=%{x}<br>count=%{y}\", \"legendgroup\": \"country=Spain\", \"marker\": {\"color\": \"#FFA15A\"}, \"name\": \"country=Spain\", \"offsetgroup\": \"country=Spain\", \"orientation\": \"v\", \"showlegend\": true, \"type\": \"histogram\", \"uid\": \"ea7f7365-fe34-42e2-a4d3-8b2eb5a29e98\", \"x\": [2012, 2012, 2012, 2015, 2014, 2014], \"xaxis\": \"x\", \"yaxis\": \"y\"}, {\"alignmentgroup\": \"True\", \"bingroup\": \"x\", \"hoverlabel\": {\"namelength\": 0}, \"hovertemplate\": \"country=United Kingdom<br>year=%{x}<br>count=%{y}\", \"legendgroup\": \"country=United Kingdom\", \"marker\": {\"color\": \"#FF6692\"}, \"name\": \"country=United Kingdom\", \"offsetgroup\": \"country=United Kingdom\", \"orientation\": \"v\", \"showlegend\": true, \"type\": \"histogram\", \"uid\": \"6748cc26-85fb-4756-8bcc-22df7715bce9\", \"x\": [2001, 2014, 2014, 2014, 2014], \"xaxis\": \"x\", \"yaxis\": \"y\"}, {\"alignmentgroup\": \"True\", \"bingroup\": \"x\", \"hoverlabel\": {\"namelength\": 0}, \"hovertemplate\": \"country=Denmark<br>year=%{x}<br>count=%{y}\", \"legendgroup\": \"country=Denmark\", \"marker\": {\"color\": \"#B6E880\"}, \"name\": \"country=Denmark\", \"offsetgroup\": \"country=Denmark\", \"orientation\": \"v\", \"showlegend\": true, \"type\": \"histogram\", \"uid\": \"7090cef6-ca92-4dd7-a9d5-6b6d4173c8db\", \"x\": [2014, 2016, 2014], \"xaxis\": \"x\", \"yaxis\": \"y\"}, {\"alignmentgroup\": \"True\", \"bingroup\": \"x\", \"hoverlabel\": {\"namelength\": 0}, \"hovertemplate\": \"country=Netherlands<br>year=%{x}<br>count=%{y}\", \"legendgroup\": \"country=Netherlands\", \"marker\": {\"color\": \"#636efa\"}, \"name\": \"country=Netherlands\", \"offsetgroup\": \"country=Netherlands\", \"orientation\": \"v\", \"showlegend\": true, \"type\": \"histogram\", \"uid\": \"28bd01a0-cba8-44b6-9b17-883799fb60bb\", \"x\": [2014, 2014, 2014, 2014], \"xaxis\": \"x\", \"yaxis\": \"y\"}, {\"alignmentgroup\": \"True\", \"bingroup\": \"x\", \"hoverlabel\": {\"namelength\": 0}, \"hovertemplate\": \"country=Greece<br>year=%{x}<br>count=%{y}\", \"legendgroup\": \"country=Greece\", \"marker\": {\"color\": \"#EF553B\"}, \"name\": \"country=Greece\", \"offsetgroup\": \"country=Greece\", \"orientation\": \"v\", \"showlegend\": true, \"type\": \"histogram\", \"uid\": \"c1d9b30e-7147-4d97-bb0f-bc2e6bef050d\", \"x\": [2014], \"xaxis\": \"x\", \"yaxis\": \"y\"}, {\"alignmentgroup\": \"True\", \"bingroup\": \"x\", \"hoverlabel\": {\"namelength\": 0}, \"hovertemplate\": \"country=Finland<br>year=%{x}<br>count=%{y}\", \"legendgroup\": \"country=Finland\", \"marker\": {\"color\": \"#00cc96\"}, \"name\": \"country=Finland\", \"offsetgroup\": \"country=Finland\", \"orientation\": \"v\", \"showlegend\": true, \"type\": \"histogram\", \"uid\": \"853fa15d-4df5-42cd-8514-be8879862b31\", \"x\": [2014, 2014], \"xaxis\": \"x\", \"yaxis\": \"y\"}, {\"alignmentgroup\": \"True\", \"bingroup\": \"x\", \"hoverlabel\": {\"namelength\": 0}, \"hovertemplate\": \"country=Austria<br>year=%{x}<br>count=%{y}\", \"legendgroup\": \"country=Austria\", \"marker\": {\"color\": \"#ab63fa\"}, \"name\": \"country=Austria\", \"offsetgroup\": \"country=Austria\", \"orientation\": \"v\", \"showlegend\": true, \"type\": \"histogram\", \"uid\": \"6eb6b0af-fb09-41d4-8bc9-be2544a24f27\", \"x\": [2014, 2014], \"xaxis\": \"x\", \"yaxis\": \"y\"}, {\"alignmentgroup\": \"True\", \"bingroup\": \"x\", \"hoverlabel\": {\"namelength\": 0}, \"hovertemplate\": \"country=Belgium<br>year=%{x}<br>count=%{y}\", \"legendgroup\": \"country=Belgium\", \"marker\": {\"color\": \"#19d3f3\"}, \"name\": \"country=Belgium\", \"offsetgroup\": \"country=Belgium\", \"orientation\": \"v\", \"showlegend\": true, \"type\": \"histogram\", \"uid\": \"324702a7-404a-4e2e-a63f-9fd06ebe0f0c\", \"x\": [2014, 2014, 2014, 2014], \"xaxis\": \"x\", \"yaxis\": \"y\"}, {\"alignmentgroup\": \"True\", \"bingroup\": \"x\", \"hoverlabel\": {\"namelength\": 0}, \"hovertemplate\": \"country=Switzerland<br>year=%{x}<br>count=%{y}\", \"legendgroup\": \"country=Switzerland\", \"marker\": {\"color\": \"#e763fa\"}, \"name\": \"country=Switzerland\", \"offsetgroup\": \"country=Switzerland\", \"orientation\": \"v\", \"showlegend\": true, \"type\": \"histogram\", \"uid\": \"ed5b7540-68b1-49f3-bc15-30cfbeeffd06\", \"x\": [2014, 2016, 2014, 2017, 2017], \"xaxis\": \"x\", \"yaxis\": \"y\"}, {\"alignmentgroup\": \"True\", \"bingroup\": \"x\", \"hoverlabel\": {\"namelength\": 0}, \"hovertemplate\": \"country=Portugal<br>year=%{x}<br>count=%{y}\", \"legendgroup\": \"country=Portugal\", \"marker\": {\"color\": \"#FECB52\"}, \"name\": \"country=Portugal\", \"offsetgroup\": \"country=Portugal\", \"orientation\": \"v\", \"showlegend\": true, \"type\": \"histogram\", \"uid\": \"94e64f21-b94f-4bb2-bdeb-19fc851b8624\", \"x\": [1987], \"xaxis\": \"x\", \"yaxis\": \"y\"}, {\"alignmentgroup\": \"True\", \"bingroup\": \"x\", \"hoverlabel\": {\"namelength\": 0}, \"hovertemplate\": \"country=Singapore<br>year=%{x}<br>count=%{y}\", \"legendgroup\": \"country=Singapore\", \"marker\": {\"color\": \"#FFA15A\"}, \"name\": \"country=Singapore\", \"offsetgroup\": \"country=Singapore\", \"orientation\": \"v\", \"showlegend\": true, \"type\": \"histogram\", \"uid\": \"973500cb-225a-4699-91c0-b04c92e1c49a\", \"x\": [2014, 2014], \"xaxis\": \"x\", \"yaxis\": \"y\"}, {\"alignmentgroup\": \"True\", \"bingroup\": \"x\", \"hoverlabel\": {\"namelength\": 0}, \"hovertemplate\": \"country=Brazil<br>year=%{x}<br>count=%{y}\", \"legendgroup\": \"country=Brazil\", \"marker\": {\"color\": \"#FF6692\"}, \"name\": \"country=Brazil\", \"offsetgroup\": \"country=Brazil\", \"orientation\": \"v\", \"showlegend\": true, \"type\": \"histogram\", \"uid\": \"8e866899-90fa-4aa3-a2ef-4e5ab1b64bb4\", \"x\": [2014, 2014], \"xaxis\": \"x\", \"yaxis\": \"y\"}, {\"alignmentgroup\": \"True\", \"bingroup\": \"x\", \"hoverlabel\": {\"namelength\": 0}, \"hovertemplate\": \"country=China<br>year=%{x}<br>count=%{y}\", \"legendgroup\": \"country=China\", \"marker\": {\"color\": \"#B6E880\"}, \"name\": \"country=China\", \"offsetgroup\": \"country=China\", \"orientation\": \"v\", \"showlegend\": true, \"type\": \"histogram\", \"uid\": \"037323e8-592d-4eb1-bde3-064385f15a6a\", \"x\": [2018], \"xaxis\": \"x\", \"yaxis\": \"y\"}],\n",
       "                        {\"barmode\": \"relative\", \"grid\": {\"xaxes\": [\"x\"], \"xgap\": 0.1, \"xside\": \"bottom\", \"yaxes\": [\"y\"], \"ygap\": 0.1, \"yside\": \"left\"}, \"height\": 600, \"legend\": {\"tracegroupgap\": 0}, \"margin\": {\"t\": 60}, \"template\": {\"data\": {\"bar\": [{\"marker\": {\"line\": {\"color\": \"#E5ECF6\", \"width\": 0.5}}, \"type\": \"bar\"}], \"barpolar\": [{\"marker\": {\"line\": {\"color\": \"#E5ECF6\", \"width\": 0.5}}, \"type\": \"barpolar\"}], \"carpet\": [{\"aaxis\": {\"endlinecolor\": \"#2a3f5f\", \"gridcolor\": \"white\", \"linecolor\": \"white\", \"minorgridcolor\": \"white\", \"startlinecolor\": \"#2a3f5f\"}, \"baxis\": {\"endlinecolor\": \"#2a3f5f\", \"gridcolor\": \"white\", \"linecolor\": \"white\", \"minorgridcolor\": \"white\", \"startlinecolor\": \"#2a3f5f\"}, \"type\": \"carpet\"}], \"choropleth\": [{\"colorbar\": {\"outlinewidth\": 0, \"ticks\": \"\"}, \"type\": \"choropleth\"}], \"contour\": [{\"colorbar\": {\"outlinewidth\": 0, \"ticks\": \"\"}, \"colorscale\": [[0.0, \"#0508b8\"], [0.0893854748603352, \"#1910d8\"], [0.1787709497206704, \"#3c19f0\"], [0.2681564245810056, \"#6b1cfb\"], [0.3575418994413408, \"#981cfd\"], [0.44692737430167595, \"#bf1cfd\"], [0.5363128491620112, \"#dd2bfd\"], [0.6256983240223464, \"#f246fe\"], [0.7150837988826816, \"#fc67fd\"], [0.8044692737430168, \"#fe88fc\"], [0.8938547486033519, \"#fea5fd\"], [0.9832402234636871, \"#febefe\"], [1.0, \"#fec3fe\"]], \"type\": \"contour\"}], \"contourcarpet\": [{\"colorbar\": {\"outlinewidth\": 0, \"ticks\": \"\"}, \"type\": \"contourcarpet\"}], \"heatmap\": [{\"colorbar\": {\"outlinewidth\": 0, \"ticks\": \"\"}, \"colorscale\": [[0.0, \"#0508b8\"], [0.0893854748603352, \"#1910d8\"], [0.1787709497206704, \"#3c19f0\"], [0.2681564245810056, \"#6b1cfb\"], [0.3575418994413408, \"#981cfd\"], [0.44692737430167595, \"#bf1cfd\"], [0.5363128491620112, \"#dd2bfd\"], [0.6256983240223464, \"#f246fe\"], [0.7150837988826816, \"#fc67fd\"], [0.8044692737430168, \"#fe88fc\"], [0.8938547486033519, \"#fea5fd\"], [0.9832402234636871, \"#febefe\"], [1.0, \"#fec3fe\"]], \"type\": \"heatmap\"}], \"heatmapgl\": [{\"colorbar\": {\"outlinewidth\": 0, \"ticks\": \"\"}, \"type\": \"heatmapgl\"}], \"histogram\": [{\"marker\": {\"colorbar\": {\"outlinewidth\": 0, \"ticks\": \"\"}}, \"type\": \"histogram\"}], \"histogram2d\": [{\"colorbar\": {\"outlinewidth\": 0, \"ticks\": \"\"}, \"colorscale\": [[0.0, \"#0508b8\"], [0.0893854748603352, \"#1910d8\"], [0.1787709497206704, \"#3c19f0\"], [0.2681564245810056, \"#6b1cfb\"], [0.3575418994413408, \"#981cfd\"], [0.44692737430167595, \"#bf1cfd\"], [0.5363128491620112, \"#dd2bfd\"], [0.6256983240223464, \"#f246fe\"], [0.7150837988826816, \"#fc67fd\"], [0.8044692737430168, \"#fe88fc\"], [0.8938547486033519, \"#fea5fd\"], [0.9832402234636871, \"#febefe\"], [1.0, \"#fec3fe\"]], \"type\": \"histogram2d\"}], \"histogram2dcontour\": [{\"colorbar\": {\"outlinewidth\": 0, \"ticks\": \"\"}, \"colorscale\": [[0.0, \"#0508b8\"], [0.0893854748603352, \"#1910d8\"], [0.1787709497206704, \"#3c19f0\"], [0.2681564245810056, \"#6b1cfb\"], [0.3575418994413408, \"#981cfd\"], [0.44692737430167595, \"#bf1cfd\"], [0.5363128491620112, \"#dd2bfd\"], [0.6256983240223464, \"#f246fe\"], [0.7150837988826816, \"#fc67fd\"], [0.8044692737430168, \"#fe88fc\"], [0.8938547486033519, \"#fea5fd\"], [0.9832402234636871, \"#febefe\"], [1.0, \"#fec3fe\"]], \"type\": \"histogram2dcontour\"}], \"mesh3d\": [{\"colorbar\": {\"outlinewidth\": 0, \"ticks\": \"\"}, \"type\": \"mesh3d\"}], \"parcoords\": [{\"line\": {\"colorbar\": {\"outlinewidth\": 0, \"ticks\": \"\"}}, \"type\": \"parcoords\"}], \"scatter\": [{\"marker\": {\"colorbar\": {\"outlinewidth\": 0, \"ticks\": \"\"}}, \"type\": \"scatter\"}], \"scatter3d\": [{\"marker\": {\"colorbar\": {\"outlinewidth\": 0, \"ticks\": \"\"}}, \"type\": \"scatter3d\"}], \"scattercarpet\": [{\"marker\": {\"colorbar\": {\"outlinewidth\": 0, \"ticks\": \"\"}}, \"type\": \"scattercarpet\"}], \"scattergeo\": [{\"marker\": {\"colorbar\": {\"outlinewidth\": 0, \"ticks\": \"\"}}, \"type\": \"scattergeo\"}], \"scattergl\": [{\"marker\": {\"colorbar\": {\"outlinewidth\": 0, \"ticks\": \"\"}}, \"type\": \"scattergl\"}], \"scattermapbox\": [{\"marker\": {\"colorbar\": {\"outlinewidth\": 0, \"ticks\": \"\"}}, \"type\": \"scattermapbox\"}], \"scatterpolar\": [{\"marker\": {\"colorbar\": {\"outlinewidth\": 0, \"ticks\": \"\"}}, \"type\": \"scatterpolar\"}], \"scatterpolargl\": [{\"marker\": {\"colorbar\": {\"outlinewidth\": 0, \"ticks\": \"\"}}, \"type\": \"scatterpolargl\"}], \"scatterternary\": [{\"marker\": {\"colorbar\": {\"outlinewidth\": 0, \"ticks\": \"\"}}, \"type\": \"scatterternary\"}], \"surface\": [{\"colorbar\": {\"outlinewidth\": 0, \"ticks\": \"\"}, \"type\": \"surface\"}], \"table\": [{\"cells\": {\"fill\": {\"color\": \"#EBF0F8\"}, \"line\": {\"color\": \"white\"}}, \"header\": {\"fill\": {\"color\": \"#C8D4E3\"}, \"line\": {\"color\": \"white\"}}, \"type\": \"table\"}]}, \"layout\": {\"annotationdefaults\": {\"arrowcolor\": \"#506784\", \"arrowhead\": 0, \"arrowwidth\": 1}, \"colorscale\": {\"diverging\": [[0, \"#8e0152\"], [0.1, \"#c51b7d\"], [0.2, \"#de77ae\"], [0.3, \"#f1b6da\"], [0.4, \"#fde0ef\"], [0.5, \"#f7f7f7\"], [0.6, \"#e6f5d0\"], [0.7, \"#b8e186\"], [0.8, \"#7fbc41\"], [0.9, \"#4d9221\"], [1, \"#276419\"]], \"sequential\": [[0.0, \"#0508b8\"], [0.0893854748603352, \"#1910d8\"], [0.1787709497206704, \"#3c19f0\"], [0.2681564245810056, \"#6b1cfb\"], [0.3575418994413408, \"#981cfd\"], [0.44692737430167595, \"#bf1cfd\"], [0.5363128491620112, \"#dd2bfd\"], [0.6256983240223464, \"#f246fe\"], [0.7150837988826816, \"#fc67fd\"], [0.8044692737430168, \"#fe88fc\"], [0.8938547486033519, \"#fea5fd\"], [0.9832402234636871, \"#febefe\"], [1.0, \"#fec3fe\"]], \"sequentialminus\": [[0.0, \"#0508b8\"], [0.0893854748603352, \"#1910d8\"], [0.1787709497206704, \"#3c19f0\"], [0.2681564245810056, \"#6b1cfb\"], [0.3575418994413408, \"#981cfd\"], [0.44692737430167595, \"#bf1cfd\"], [0.5363128491620112, \"#dd2bfd\"], [0.6256983240223464, \"#f246fe\"], [0.7150837988826816, \"#fc67fd\"], [0.8044692737430168, \"#fe88fc\"], [0.8938547486033519, \"#fea5fd\"], [0.9832402234636871, \"#febefe\"], [1.0, \"#fec3fe\"]]}, \"colorway\": [\"#636efa\", \"#EF553B\", \"#00cc96\", \"#ab63fa\", \"#19d3f3\", \"#e763fa\", \"#FECB52\", \"#FFA15A\", \"#FF6692\", \"#B6E880\"], \"font\": {\"color\": \"#2a3f5f\"}, \"geo\": {\"bgcolor\": \"white\", \"lakecolor\": \"white\", \"landcolor\": \"#E5ECF6\", \"showlakes\": true, \"showland\": true, \"subunitcolor\": \"white\"}, \"hoverlabel\": {\"align\": \"left\"}, \"hovermode\": \"closest\", \"mapbox\": {\"style\": \"light\"}, \"paper_bgcolor\": \"white\", \"plot_bgcolor\": \"#E5ECF6\", \"polar\": {\"angularaxis\": {\"gridcolor\": \"white\", \"linecolor\": \"white\", \"ticks\": \"\"}, \"bgcolor\": \"#E5ECF6\", \"radialaxis\": {\"gridcolor\": \"white\", \"linecolor\": \"white\", \"ticks\": \"\"}}, \"scene\": {\"xaxis\": {\"backgroundcolor\": \"#E5ECF6\", \"gridcolor\": \"white\", \"gridwidth\": 2, \"linecolor\": \"white\", \"showbackground\": true, \"ticks\": \"\", \"zerolinecolor\": \"white\"}, \"yaxis\": {\"backgroundcolor\": \"#E5ECF6\", \"gridcolor\": \"white\", \"gridwidth\": 2, \"linecolor\": \"white\", \"showbackground\": true, \"ticks\": \"\", \"zerolinecolor\": \"white\"}, \"zaxis\": {\"backgroundcolor\": \"#E5ECF6\", \"gridcolor\": \"white\", \"gridwidth\": 2, \"linecolor\": \"white\", \"showbackground\": true, \"ticks\": \"\", \"zerolinecolor\": \"white\"}}, \"shapedefaults\": {\"fillcolor\": \"#506784\", \"line\": {\"width\": 0}, \"opacity\": 0.4}, \"ternary\": {\"aaxis\": {\"gridcolor\": \"white\", \"linecolor\": \"white\", \"ticks\": \"\"}, \"baxis\": {\"gridcolor\": \"white\", \"linecolor\": \"white\", \"ticks\": \"\"}, \"bgcolor\": \"#E5ECF6\", \"caxis\": {\"gridcolor\": \"white\", \"linecolor\": \"white\", \"ticks\": \"\"}}, \"title\": {\"x\": 0.05}, \"xaxis\": {\"automargin\": true, \"gridcolor\": \"white\", \"linecolor\": \"white\", \"ticks\": \"\", \"zerolinecolor\": \"white\", \"zerolinewidth\": 2}, \"yaxis\": {\"automargin\": true, \"gridcolor\": \"white\", \"linecolor\": \"white\", \"ticks\": \"\", \"zerolinecolor\": \"white\", \"zerolinewidth\": 2}}}, \"xaxis\": {\"title\": {\"text\": \"year\"}}, \"yaxis\": {\"title\": {\"text\": \"count\"}}},\n",
       "                        {\"showLink\": false, \"linkText\": \"Export to plot.ly\", \"plotlyServerURL\": \"https://plot.ly\", \"responsive\": true}\n",
       "                    ).then(function(){\n",
       "                            \n",
       "var gd = document.getElementById('aba45449-42c4-412f-bcfc-1ab90ff5d013');\n",
       "var x = new MutationObserver(function (mutations, observer) {{\n",
       "        var display = window.getComputedStyle(gd).display;\n",
       "        if (!display || display === 'none') {{\n",
       "            console.log([gd, 'removed!']);\n",
       "            Plotly.purge(gd);\n",
       "            observer.disconnect();\n",
       "        }}\n",
       "}});\n",
       "\n",
       "// Listen for the removal of the full notebook cells\n",
       "var notebookContainer = gd.closest('#notebook-container');\n",
       "if (notebookContainer) {{\n",
       "    x.observe(notebookContainer, {childList: true});\n",
       "}}\n",
       "\n",
       "// Listen for the clearing of the current output cell\n",
       "var outputEl = gd.closest('.output');\n",
       "if (outputEl) {{\n",
       "    x.observe(outputEl, {childList: true});\n",
       "}}\n",
       "\n",
       "                        })\n",
       "                };\n",
       "                });\n",
       "            </script>\n",
       "        </div>"
      ]
     },
     "metadata": {},
     "output_type": "display_data"
    }
   ],
   "source": [
    "px.histogram(df2, x=\"year\", color=\"country\", hover_name=\"assignee_name\", hover_data=['country'])\n"
   ]
  },
  {
   "cell_type": "markdown",
   "metadata": {},
   "source": [
    "## Patents co-assignees distribution, by year, org name and country"
   ]
  },
  {
   "cell_type": "code",
   "execution_count": 48,
   "metadata": {},
   "outputs": [
    {
     "data": {
      "application/vnd.plotly.v1+json": {
       "config": {
        "linkText": "Export to plot.ly",
        "plotlyServerURL": "https://plot.ly",
        "showLink": false
       },
       "data": [
        {
         "customdata": [
          [
           "Italy"
          ],
          [
           "Italy"
          ],
          [
           "Italy"
          ],
          [
           "Italy"
          ],
          [
           "Italy"
          ],
          [
           "Italy"
          ],
          [
           "Italy"
          ],
          [
           "Italy"
          ],
          [
           "Italy"
          ],
          [
           "Italy"
          ],
          [
           "Italy"
          ],
          [
           "Italy"
          ],
          [
           "Italy"
          ],
          [
           "Italy"
          ],
          [
           "Italy"
          ],
          [
           "Italy"
          ],
          [
           "Italy"
          ],
          [
           "Italy"
          ],
          [
           "Italy"
          ],
          [
           "Italy"
          ],
          [
           "Italy"
          ],
          [
           "Italy"
          ],
          [
           "Italy"
          ],
          [
           "Italy"
          ],
          [
           "Italy"
          ],
          [
           "Italy"
          ],
          [
           "Italy"
          ],
          [
           "Italy"
          ],
          [
           "Italy"
          ],
          [
           "Italy"
          ],
          [
           "Italy"
          ],
          [
           "Italy"
          ],
          [
           "Italy"
          ],
          [
           "Italy"
          ],
          [
           "Italy"
          ],
          [
           "Italy"
          ],
          [
           "Italy"
          ],
          [
           "Italy"
          ],
          [
           "Italy"
          ],
          [
           "Italy"
          ],
          [
           "Italy"
          ],
          [
           "Italy"
          ],
          [
           "Italy"
          ],
          [
           "Italy"
          ],
          [
           "Italy"
          ],
          [
           "Italy"
          ],
          [
           "Italy"
          ],
          [
           "Italy"
          ],
          [
           "Italy"
          ],
          [
           "Italy"
          ],
          [
           "Italy"
          ],
          [
           "Italy"
          ],
          [
           "Italy"
          ],
          [
           "Italy"
          ],
          [
           "Italy"
          ],
          [
           "Italy"
          ],
          [
           "Italy"
          ],
          [
           "Italy"
          ],
          [
           "Italy"
          ],
          [
           "Italy"
          ],
          [
           "Italy"
          ],
          [
           "Italy"
          ],
          [
           "Italy"
          ],
          [
           "Italy"
          ],
          [
           "Italy"
          ],
          [
           "Italy"
          ],
          [
           "Italy"
          ],
          [
           "Italy"
          ],
          [
           "Italy"
          ],
          [
           "Italy"
          ],
          [
           "Italy"
          ],
          [
           "Italy"
          ],
          [
           "Italy"
          ],
          [
           "Italy"
          ],
          [
           "Italy"
          ],
          [
           "Italy"
          ],
          [
           "Italy"
          ],
          [
           "Italy"
          ],
          [
           "Italy"
          ],
          [
           "Italy"
          ],
          [
           "Italy"
          ],
          [
           "Italy"
          ],
          [
           "Italy"
          ],
          [
           "Italy"
          ],
          [
           "Italy"
          ],
          [
           "Italy"
          ],
          [
           "Italy"
          ],
          [
           "Italy"
          ],
          [
           "Italy"
          ],
          [
           "Italy"
          ],
          [
           "Italy"
          ],
          [
           "Italy"
          ],
          [
           "Italy"
          ],
          [
           "Italy"
          ],
          [
           "Italy"
          ],
          [
           "Italy"
          ],
          [
           "Italy"
          ],
          [
           "Italy"
          ],
          [
           "Italy"
          ],
          [
           "Italy"
          ],
          [
           "Italy"
          ],
          [
           "Italy"
          ],
          [
           "Italy"
          ],
          [
           "Italy"
          ],
          [
           "Italy"
          ],
          [
           "Italy"
          ],
          [
           "Italy"
          ],
          [
           "Italy"
          ],
          [
           "Italy"
          ],
          [
           "Italy"
          ],
          [
           "Italy"
          ],
          [
           "Italy"
          ],
          [
           "Italy"
          ],
          [
           "Italy"
          ],
          [
           "Italy"
          ],
          [
           "Italy"
          ],
          [
           "Italy"
          ],
          [
           "Italy"
          ],
          [
           "Italy"
          ],
          [
           "Italy"
          ],
          [
           "Italy"
          ],
          [
           "Italy"
          ],
          [
           "Italy"
          ],
          [
           "Italy"
          ],
          [
           "Italy"
          ],
          [
           "Italy"
          ],
          [
           "Italy"
          ],
          [
           "Italy"
          ],
          [
           "Italy"
          ],
          [
           "Italy"
          ],
          [
           "Italy"
          ],
          [
           "Italy"
          ],
          [
           "Italy"
          ],
          [
           "Italy"
          ],
          [
           "Italy"
          ],
          [
           "Italy"
          ],
          [
           "Italy"
          ],
          [
           "Italy"
          ],
          [
           "Italy"
          ],
          [
           "Italy"
          ],
          [
           "Italy"
          ],
          [
           "Italy"
          ],
          [
           "Italy"
          ],
          [
           "Italy"
          ],
          [
           "Italy"
          ],
          [
           "Italy"
          ],
          [
           "Italy"
          ],
          [
           "Italy"
          ],
          [
           "Italy"
          ],
          [
           "Italy"
          ],
          [
           "Italy"
          ],
          [
           "Italy"
          ],
          [
           "Italy"
          ],
          [
           "Italy"
          ],
          [
           "Italy"
          ],
          [
           "Italy"
          ],
          [
           "Italy"
          ],
          [
           "Italy"
          ],
          [
           "Italy"
          ],
          [
           "Italy"
          ],
          [
           "Italy"
          ],
          [
           "Italy"
          ],
          [
           "Italy"
          ],
          [
           "Italy"
          ],
          [
           "Italy"
          ],
          [
           "Italy"
          ],
          [
           "Italy"
          ],
          [
           "Italy"
          ],
          [
           "Italy"
          ],
          [
           "Italy"
          ],
          [
           "Italy"
          ],
          [
           "Italy"
          ],
          [
           "Italy"
          ],
          [
           "Italy"
          ],
          [
           "Italy"
          ],
          [
           "Italy"
          ],
          [
           "Italy"
          ],
          [
           "Italy"
          ],
          [
           "Italy"
          ],
          [
           "Italy"
          ],
          [
           "Italy"
          ],
          [
           "Italy"
          ],
          [
           "Italy"
          ],
          [
           "Italy"
          ],
          [
           "Italy"
          ],
          [
           "Italy"
          ]
         ],
         "hoverlabel": {
          "namelength": 0
         },
         "hovertemplate": "<b>%{hovertext}</b><br><br>country=%{customdata[0]}<br>year=%{x}<br>assignee_name=%{y}",
         "hovertext": [
          "National Research Council",
          "Istituto Dermopatico dell'Immacolata",
          "University of Siena",
          "University of Rome Tor Vergata",
          "University of Teramo",
          "National Research Council",
          "University of Padua",
          "Istituti Fisioterapici Ospitalieri",
          "National Research Council",
          "University of Milan",
          "University of Pavia",
          "University of Rome Tor Vergata",
          "National Institute of Health",
          "University of Rome Tor Vergata",
          "National Research Council",
          "University of Rome Tor Vergata",
          "Bambino Gesù Children's Hospital",
          "University of Rome Tor Vergata",
          "Istituti Fisioterapici Ospitalieri",
          "University of Rome Tor Vergata",
          "University of Rome Tor Vergata",
          "National Institute of Health",
          "University of Chieti-Pescara",
          "National Research Council",
          "University of Calabria",
          "Roma Tre University",
          "University of Pavia",
          "University of Milan",
          "University of Rome Tor Vergata",
          "University of Rome Tor Vergata",
          "Roma Tre University",
          "Roma Tre University",
          "University of Siena",
          "University of Rome Tor Vergata",
          "National Research Council",
          "Italian National Agency for New Technologies, Energy and Sustainable Economic Development",
          "Roma Tre University",
          "Magna Graecia University",
          "University of Camerino",
          "University of Camerino",
          "Magna Graecia University",
          "University of Rome Tor Vergata",
          "National Research Council",
          "National Research Council",
          "University of Siena",
          "National Research Council",
          "National Research Council",
          "Istituto Dermopatico dell'Immacolata",
          "University of Rome Tor Vergata",
          "University of Rome Tor Vergata",
          "University of Rome Tor Vergata",
          "University of Calabria",
          "National Research Council",
          "University of Milan",
          "University of Pavia",
          "National Institute of Health",
          "National Research Council",
          "Roma Tre University",
          "University of Rome Tor Vergata",
          "University of Rome Tor Vergata",
          "Istituti Fisioterapici Ospitalieri",
          "University of Camerino",
          "University of Rome Tor Vergata",
          "University of Siena",
          "University of Milan",
          "University of Pavia",
          "National Research Council",
          "Istituto Neurologico Mediterraneo",
          "University of Rome Tor Vergata",
          "University of Siena",
          "Bambino Gesù Children's Hospital",
          "Fondazione Roma",
          "University of Teramo",
          "University of Rome Tor Vergata",
          "University of Rome Tor Vergata",
          "University of Perugia",
          "University of Camerino",
          "Magna Graecia University",
          "University of Rome Tor Vergata",
          "University of Milan",
          "University of Pavia",
          "National Institute of Health",
          "University of Rome Tor Vergata",
          "National Research Council",
          "University of Bologna",
          "Istituto Nazionale di Riposo e Cura per Anziani",
          "National Research Council",
          "University of Calabria",
          "University of Rome Tor Vergata",
          "University of Rome Tor Vergata",
          "National Research Council",
          "University of Rome Tor Vergata",
          "University of Rome Tor Vergata",
          "University of Rome Tor Vergata",
          "University of Rome Tor Vergata",
          "Magna Graecia University",
          "Magna Graecia University",
          "National Institute for Nuclear Physics",
          "University of Camerino",
          "Magna Graecia University",
          "Italian National Agency for New Technologies, Energy and Sustainable Economic Development",
          "National Research Council",
          "Bambino Gesù Children's Hospital",
          "University of Rome Tor Vergata",
          "National Research Council",
          "Bambino Gesù Children's Hospital",
          "University of Palermo",
          "National Research Council",
          "National Research Council",
          "National Research Council",
          "University of Rome Tor Vergata",
          "University of Chieti-Pescara",
          "University of Rome Tor Vergata",
          "University of Rome Tor Vergata",
          "National Research Council",
          "Istituto Dermopatico dell'Immacolata",
          "Roma Tre University",
          "University of Siena",
          "University of Pavia",
          "University of Milan",
          "Semiconductor Manufacturing International (Italy)",
          "National Research Council",
          "National Institute of Health",
          "University of Siena",
          "University of Rome Tor Vergata",
          "Semiconductor Manufacturing International (Italy)",
          "University of Siena",
          "Magna Graecia University",
          "University of Camerino",
          "Roma Tre University",
          "University of Rome Tor Vergata",
          "University of Rome Tor Vergata",
          "University of Rome Tor Vergata",
          "National Research Council",
          "University of Rome Tor Vergata",
          "National Research Council",
          "University of Rome Tor Vergata",
          "National Institute of Health",
          "University of Rome Tor Vergata",
          "National Research Council",
          "Bambino Gesù Children's Hospital",
          "National Institute of Health",
          "National Institute of Health",
          "National Research Council",
          "Istituto Neurologico Mediterraneo",
          "University of Naples Federico II",
          "University of Milan",
          "University of Pavia",
          "National Research Council",
          "National Research Council",
          "University of Rome Tor Vergata",
          "University of Perugia",
          "University of Rome Tor Vergata",
          "University of Milan",
          "University of Pavia",
          "Catholic University of the Sacred Heart",
          "University of Rome Tor Vergata",
          "University of Bologna",
          "Istituto Nazionale di Riposo e Cura per Anziani",
          "University of Rome Tor Vergata",
          "Magna Graecia University",
          "University of Camerino",
          "Istituti Fisioterapici Ospitalieri",
          "University of Rome Tor Vergata",
          "University of Rome Tor Vergata",
          "National Research Council",
          "Istituto Dermopatico dell'Immacolata",
          "University of Siena",
          "University of Teramo",
          "University of Rome Tor Vergata",
          "Roma Tre University",
          "University of Pavia",
          "University of Milan",
          "Istituto Dermopatico dell'Immacolata",
          "National Research Council",
          "University of Rome Tor Vergata",
          "University of Rome Tor Vergata",
          "University of Rome Tor Vergata",
          "Roma Tre University",
          "Bambino Gesù Children's Hospital",
          "National Research Council",
          "University of Perugia",
          "National Research Council",
          "University of Rome Tor Vergata",
          "University of Rome Tor Vergata",
          "University of Naples Federico II"
         ],
         "legendgroup": "country=Italy",
         "marker": {
          "color": "#636efa",
          "symbol": "circle"
         },
         "mode": "markers",
         "name": "country=Italy",
         "showlegend": true,
         "type": "scatter",
         "uid": "47fe13b6-83b2-4b2b-ba2a-8dcfa125a48d",
         "visible": true,
         "x": [
          2007,
          2007,
          2008,
          2006,
          2006,
          2005,
          2007,
          2011,
          2011,
          2011,
          2011,
          2005,
          1996,
          2005,
          2012,
          2004,
          2006,
          2005,
          2005,
          2005,
          2001,
          2016,
          2016,
          2009,
          2009,
          2008,
          2011,
          2011,
          2006,
          2006,
          2001,
          2001,
          2008,
          1999,
          2004,
          2004,
          2001,
          2001,
          2001,
          2001,
          2001,
          2001,
          2003,
          1987,
          2008,
          2003,
          2007,
          2007,
          2004,
          2005,
          2004,
          2007,
          2007,
          2011,
          2011,
          2016,
          1987,
          2004,
          2000,
          2005,
          2005,
          2008,
          2006,
          2014,
          2011,
          2011,
          2014,
          2007,
          2004,
          2014,
          2013,
          2012,
          2006,
          2006,
          2001,
          2017,
          2003,
          2003,
          1999,
          2012,
          2012,
          2007,
          2007,
          1987,
          2014,
          2014,
          2009,
          2009,
          2002,
          2002,
          2003,
          2006,
          2002,
          2002,
          2002,
          2011,
          2011,
          2015,
          2001,
          2001,
          2004,
          2004,
          2007,
          2002,
          2005,
          2007,
          2018,
          2014,
          2007,
          2014,
          2004,
          2016,
          2002,
          2001,
          2007,
          2007,
          2008,
          2008,
          2011,
          2011,
          2015,
          2012,
          2016,
          2014,
          2019,
          2015,
          2007,
          2001,
          2001,
          2001,
          2004,
          2002,
          2002,
          1987,
          2011,
          1987,
          2004,
          2007,
          2007,
          2014,
          2007,
          1996,
          1993,
          1989,
          2007,
          2014,
          2011,
          2011,
          2012,
          2007,
          2006,
          2017,
          2013,
          2011,
          2011,
          2008,
          2008,
          2014,
          2014,
          2002,
          2001,
          2001,
          2011,
          2004,
          2004,
          2007,
          2007,
          2014,
          2017,
          2002,
          2001,
          2011,
          2011,
          2007,
          2007,
          2005,
          2009,
          2005,
          2001,
          2006,
          2014,
          2017,
          1987,
          2004,
          2005,
          2014
         ],
         "xaxis": "x",
         "y": [
          "National Research Council",
          "Istituto Dermopatico dell'Immacolata",
          "University of Siena",
          "University of Rome Tor Vergata",
          "University of Teramo",
          "National Research Council",
          "University of Padua",
          "Istituti Fisioterapici Ospitalieri",
          "National Research Council",
          "University of Milan",
          "University of Pavia",
          "University of Rome Tor Vergata",
          "National Institute of Health",
          "University of Rome Tor Vergata",
          "National Research Council",
          "University of Rome Tor Vergata",
          "Bambino Gesù Children's Hospital",
          "University of Rome Tor Vergata",
          "Istituti Fisioterapici Ospitalieri",
          "University of Rome Tor Vergata",
          "University of Rome Tor Vergata",
          "National Institute of Health",
          "University of Chieti-Pescara",
          "National Research Council",
          "University of Calabria",
          "Roma Tre University",
          "University of Pavia",
          "University of Milan",
          "University of Rome Tor Vergata",
          "University of Rome Tor Vergata",
          "Roma Tre University",
          "Roma Tre University",
          "University of Siena",
          "University of Rome Tor Vergata",
          "National Research Council",
          "Italian National Agency for New Technologies, Energy and Sustainable Economic Development",
          "Roma Tre University",
          "Magna Graecia University",
          "University of Camerino",
          "University of Camerino",
          "Magna Graecia University",
          "University of Rome Tor Vergata",
          "National Research Council",
          "National Research Council",
          "University of Siena",
          "National Research Council",
          "National Research Council",
          "Istituto Dermopatico dell'Immacolata",
          "University of Rome Tor Vergata",
          "University of Rome Tor Vergata",
          "University of Rome Tor Vergata",
          "University of Calabria",
          "National Research Council",
          "University of Milan",
          "University of Pavia",
          "National Institute of Health",
          "National Research Council",
          "Roma Tre University",
          "University of Rome Tor Vergata",
          "University of Rome Tor Vergata",
          "Istituti Fisioterapici Ospitalieri",
          "University of Camerino",
          "University of Rome Tor Vergata",
          "University of Siena",
          "University of Milan",
          "University of Pavia",
          "National Research Council",
          "Istituto Neurologico Mediterraneo",
          "University of Rome Tor Vergata",
          "University of Siena",
          "Bambino Gesù Children's Hospital",
          "Fondazione Roma",
          "University of Teramo",
          "University of Rome Tor Vergata",
          "University of Rome Tor Vergata",
          "University of Perugia",
          "University of Camerino",
          "Magna Graecia University",
          "University of Rome Tor Vergata",
          "University of Milan",
          "University of Pavia",
          "National Institute of Health",
          "University of Rome Tor Vergata",
          "National Research Council",
          "University of Bologna",
          "Istituto Nazionale di Riposo e Cura per Anziani",
          "National Research Council",
          "University of Calabria",
          "University of Rome Tor Vergata",
          "University of Rome Tor Vergata",
          "National Research Council",
          "University of Rome Tor Vergata",
          "University of Rome Tor Vergata",
          "University of Rome Tor Vergata",
          "University of Rome Tor Vergata",
          "Magna Graecia University",
          "Magna Graecia University",
          "National Institute for Nuclear Physics",
          "University of Camerino",
          "Magna Graecia University",
          "Italian National Agency for New Technologies, Energy and Sustainable Economic Development",
          "National Research Council",
          "Bambino Gesù Children's Hospital",
          "University of Rome Tor Vergata",
          "National Research Council",
          "Bambino Gesù Children's Hospital",
          "University of Palermo",
          "National Research Council",
          "National Research Council",
          "National Research Council",
          "University of Rome Tor Vergata",
          "University of Chieti-Pescara",
          "University of Rome Tor Vergata",
          "University of Rome Tor Vergata",
          "National Research Council",
          "Istituto Dermopatico dell'Immacolata",
          "Roma Tre University",
          "University of Siena",
          "University of Pavia",
          "University of Milan",
          "Semiconductor Manufacturing International (Italy)",
          "National Research Council",
          "National Institute of Health",
          "University of Siena",
          "University of Rome Tor Vergata",
          "Semiconductor Manufacturing International (Italy)",
          "University of Siena",
          "Magna Graecia University",
          "University of Camerino",
          "Roma Tre University",
          "University of Rome Tor Vergata",
          "University of Rome Tor Vergata",
          "University of Rome Tor Vergata",
          "National Research Council",
          "University of Rome Tor Vergata",
          "National Research Council",
          "University of Rome Tor Vergata",
          "National Institute of Health",
          "University of Rome Tor Vergata",
          "National Research Council",
          "Bambino Gesù Children's Hospital",
          "National Institute of Health",
          "National Institute of Health",
          "National Research Council",
          "Istituto Neurologico Mediterraneo",
          "University of Naples Federico II",
          "University of Milan",
          "University of Pavia",
          "National Research Council",
          "National Research Council",
          "University of Rome Tor Vergata",
          "University of Perugia",
          "University of Rome Tor Vergata",
          "University of Milan",
          "University of Pavia",
          "Catholic University of the Sacred Heart",
          "University of Rome Tor Vergata",
          "University of Bologna",
          "Istituto Nazionale di Riposo e Cura per Anziani",
          "University of Rome Tor Vergata",
          "Magna Graecia University",
          "University of Camerino",
          "Istituti Fisioterapici Ospitalieri",
          "University of Rome Tor Vergata",
          "University of Rome Tor Vergata",
          "National Research Council",
          "Istituto Dermopatico dell'Immacolata",
          "University of Siena",
          "University of Teramo",
          "University of Rome Tor Vergata",
          "Roma Tre University",
          "University of Pavia",
          "University of Milan",
          "Istituto Dermopatico dell'Immacolata",
          "National Research Council",
          "University of Rome Tor Vergata",
          "University of Rome Tor Vergata",
          "University of Rome Tor Vergata",
          "Roma Tre University",
          "Bambino Gesù Children's Hospital",
          "National Research Council",
          "University of Perugia",
          "National Research Council",
          "University of Rome Tor Vergata",
          "University of Rome Tor Vergata",
          "University of Naples Federico II"
         ],
         "yaxis": "y"
        },
        {
         "customdata": [
          [
           "United States"
          ],
          [
           "United States"
          ],
          [
           "United States"
          ],
          [
           "United States"
          ],
          [
           "United States"
          ],
          [
           "United States"
          ],
          [
           "United States"
          ],
          [
           "United States"
          ],
          [
           "United States"
          ],
          [
           "United States"
          ],
          [
           "United States"
          ],
          [
           "United States"
          ],
          [
           "United States"
          ],
          [
           "United States"
          ],
          [
           "United States"
          ],
          [
           "United States"
          ],
          [
           "United States"
          ],
          [
           "United States"
          ],
          [
           "United States"
          ],
          [
           "United States"
          ],
          [
           "United States"
          ],
          [
           "United States"
          ],
          [
           "United States"
          ],
          [
           "United States"
          ],
          [
           "United States"
          ],
          [
           "United States"
          ],
          [
           "United States"
          ],
          [
           "United States"
          ],
          [
           "United States"
          ],
          [
           "United States"
          ],
          [
           "United States"
          ],
          [
           "United States"
          ],
          [
           "United States"
          ],
          [
           "United States"
          ],
          [
           "United States"
          ],
          [
           "United States"
          ],
          [
           "United States"
          ],
          [
           "United States"
          ],
          [
           "United States"
          ],
          [
           "United States"
          ],
          [
           "United States"
          ],
          [
           "United States"
          ],
          [
           "United States"
          ],
          [
           "United States"
          ],
          [
           "United States"
          ],
          [
           "United States"
          ],
          [
           "United States"
          ],
          [
           "United States"
          ],
          [
           "United States"
          ],
          [
           "United States"
          ],
          [
           "United States"
          ],
          [
           "United States"
          ],
          [
           "United States"
          ],
          [
           "United States"
          ],
          [
           "United States"
          ]
         ],
         "hoverlabel": {
          "namelength": 0
         },
         "hovertemplate": "<b>%{hovertext}</b><br><br>country=%{customdata[0]}<br>year=%{x}<br>assignee_name=%{y}",
         "hovertext": [
          "University of North Carolina at Chapel Hill",
          "University of North Carolina at Chapel Hill",
          "University of Miami",
          "University of North Carolina at Chapel Hill",
          "University of North Carolina at Chapel Hill",
          "University of Miami Health System",
          "University of North Carolina at Chapel Hill",
          "University of Miami",
          "Pacific Northwest Diabetes Research Institute",
          "University of North Carolina System",
          "University of North Carolina at Chapel Hill",
          "University of North Carolina at Chapel Hill",
          "University of North Carolina System",
          "University of Miami",
          "University of North Carolina at Chapel Hill",
          "University of Houston System",
          "University of North Carolina at Chapel Hill",
          "University of North Carolina System",
          "University of North Carolina System",
          "University of Miami",
          "University of North Carolina at Chapel Hill",
          "University of North Carolina at Chapel Hill",
          "University of North Carolina at Chapel Hill",
          "University of North Carolina System",
          "University of North Carolina at Chapel Hill",
          "Pacific Northwest Diabetes Research Institute",
          "University of North Carolina System",
          "University of Miami Health System",
          "University of North Carolina System",
          "University of North Carolina at Chapel Hill",
          "University of North Carolina at Chapel Hill",
          "University of North Carolina System",
          "University of Miami",
          "University of North Carolina at Chapel Hill",
          "University of Miami",
          "Pacific Northwest Diabetes Research Institute",
          "University of North Carolina System",
          "University of Miami Health System",
          "University of North Carolina at Chapel Hill",
          "University of Miami",
          "University of North Carolina System",
          "University of North Carolina at Chapel Hill",
          "University of Houston System",
          "University of Houston System",
          "University of North Carolina System",
          "University of North Carolina at Chapel Hill",
          "University of Miami",
          "University of North Carolina at Chapel Hill",
          "University of Miami",
          "University of North Carolina System",
          "University of North Carolina at Chapel Hill",
          "University of North Carolina at Chapel Hill",
          "University of Miami",
          "University of North Carolina System",
          "Northeastern University"
         ],
         "legendgroup": "country=United States",
         "marker": {
          "color": "#EF553B",
          "symbol": "circle"
         },
         "mode": "markers",
         "name": "country=United States",
         "showlegend": true,
         "type": "scatter",
         "uid": "84add9cb-3b02-463b-b99f-6c036a14594e",
         "visible": true,
         "x": [
          2018,
          2015,
          2015,
          2018,
          2010,
          2014,
          2014,
          2014,
          2014,
          2016,
          2016,
          2014,
          2014,
          2014,
          2012,
          2014,
          2010,
          2010,
          2014,
          2014,
          2014,
          2018,
          2016,
          2010,
          2010,
          2014,
          2014,
          2014,
          2010,
          2010,
          2010,
          2010,
          2014,
          2014,
          2014,
          2014,
          2014,
          2014,
          2014,
          2015,
          2015,
          2015,
          2014,
          2018,
          2010,
          2016,
          2016,
          2014,
          2014,
          2014,
          2010,
          2015,
          2015,
          2010,
          2018
         ],
         "xaxis": "x",
         "y": [
          "University of North Carolina at Chapel Hill",
          "University of North Carolina at Chapel Hill",
          "University of Miami",
          "University of North Carolina at Chapel Hill",
          "University of North Carolina at Chapel Hill",
          "University of Miami Health System",
          "University of North Carolina at Chapel Hill",
          "University of Miami",
          "Pacific Northwest Diabetes Research Institute",
          "University of North Carolina System",
          "University of North Carolina at Chapel Hill",
          "University of North Carolina at Chapel Hill",
          "University of North Carolina System",
          "University of Miami",
          "University of North Carolina at Chapel Hill",
          "University of Houston System",
          "University of North Carolina at Chapel Hill",
          "University of North Carolina System",
          "University of North Carolina System",
          "University of Miami",
          "University of North Carolina at Chapel Hill",
          "University of North Carolina at Chapel Hill",
          "University of North Carolina at Chapel Hill",
          "University of North Carolina System",
          "University of North Carolina at Chapel Hill",
          "Pacific Northwest Diabetes Research Institute",
          "University of North Carolina System",
          "University of Miami Health System",
          "University of North Carolina System",
          "University of North Carolina at Chapel Hill",
          "University of North Carolina at Chapel Hill",
          "University of North Carolina System",
          "University of Miami",
          "University of North Carolina at Chapel Hill",
          "University of Miami",
          "Pacific Northwest Diabetes Research Institute",
          "University of North Carolina System",
          "University of Miami Health System",
          "University of North Carolina at Chapel Hill",
          "University of Miami",
          "University of North Carolina System",
          "University of North Carolina at Chapel Hill",
          "University of Houston System",
          "University of Houston System",
          "University of North Carolina System",
          "University of North Carolina at Chapel Hill",
          "University of Miami",
          "University of North Carolina at Chapel Hill",
          "University of Miami",
          "University of North Carolina System",
          "University of North Carolina at Chapel Hill",
          "University of North Carolina at Chapel Hill",
          "University of Miami",
          "University of North Carolina System",
          "Northeastern University"
         ],
         "yaxis": "y"
        },
        {
         "customdata": [
          [
           "France"
          ],
          [
           "France"
          ],
          [
           "France"
          ],
          [
           "France"
          ],
          [
           "France"
          ],
          [
           "France"
          ],
          [
           "France"
          ],
          [
           "France"
          ],
          [
           "France"
          ],
          [
           "France"
          ],
          [
           "France"
          ],
          [
           "France"
          ],
          [
           "France"
          ],
          [
           "France"
          ],
          [
           "France"
          ],
          [
           "France"
          ],
          [
           "France"
          ],
          [
           "France"
          ],
          [
           "France"
          ],
          [
           "France"
          ],
          [
           "France"
          ],
          [
           "France"
          ],
          [
           "France"
          ],
          [
           "France"
          ],
          [
           "France"
          ],
          [
           "France"
          ],
          [
           "France"
          ],
          [
           "France"
          ],
          [
           "France"
          ],
          [
           "France"
          ],
          [
           "France"
          ],
          [
           "France"
          ],
          [
           "France"
          ],
          [
           "France"
          ],
          [
           "France"
          ],
          [
           "France"
          ],
          [
           "France"
          ],
          [
           "France"
          ],
          [
           "France"
          ],
          [
           "France"
          ],
          [
           "France"
          ],
          [
           "France"
          ],
          [
           "France"
          ],
          [
           "France"
          ],
          [
           "France"
          ],
          [
           "France"
          ],
          [
           "France"
          ],
          [
           "France"
          ],
          [
           "France"
          ],
          [
           "France"
          ],
          [
           "France"
          ]
         ],
         "hoverlabel": {
          "namelength": 0
         },
         "hovertemplate": "<b>%{hovertext}</b><br><br>country=%{customdata[0]}<br>year=%{x}<br>assignee_name=%{y}",
         "hovertext": [
          "Veolia (France)",
          "Atomic Energy and Alternative Energies Commission",
          "French National Centre for Scientific Research",
          "University of Picardie Jules Verne",
          "Atomic Energy and Alternative Energies Commission",
          "French National Centre for Scientific Research",
          "University of Picardie Jules Verne",
          "French National Centre for Scientific Research",
          "Pasteur Institute",
          "French Institute of Health and Medical Research",
          "French National Centre for Scientific Research",
          "French National Centre for Scientific Research",
          "University of Picardie Jules Verne",
          "Veolia (France)",
          "French National Centre for Scientific Research",
          "Sorbonne University",
          "Atomic Energy and Alternative Energies Commission",
          "University of Picardie Jules Verne",
          "French National Centre for Scientific Research",
          "Atomic Energy and Alternative Energies Commission",
          "Atomic Energy and Alternative Energies Commission",
          "French National Centre for Scientific Research",
          "University of Picardie Jules Verne",
          "Pasteur Institute",
          "French Institute of Health and Medical Research",
          "Pierre Fabre (France)",
          "French National Centre for Scientific Research",
          "University of Picardie Jules Verne",
          "French National Centre for Scientific Research",
          "University of Picardie Jules Verne",
          "French National Centre for Scientific Research",
          "French National Centre for Scientific Research",
          "Atomic Energy and Alternative Energies Commission",
          "Atomic Energy and Alternative Energies Commission",
          "French National Centre for Scientific Research",
          "Pasteur Institute",
          "French Institute of Health and Medical Research",
          "BioMérieux (France)",
          "Sorbonne University",
          "University of Picardie Jules Verne",
          "French National Centre for Scientific Research",
          "Pierre Fabre (France)",
          "French National Centre for Scientific Research",
          "Atomic Energy and Alternative Energies Commission",
          "French National Centre for Scientific Research",
          "Pierre Fabre (France)",
          "French National Centre for Scientific Research",
          "French National Centre for Scientific Research",
          "University of Picardie Jules Verne",
          "French National Centre for Scientific Research",
          "University of Picardie Jules Verne"
         ],
         "legendgroup": "country=France",
         "marker": {
          "color": "#00cc96",
          "symbol": "circle"
         },
         "mode": "markers",
         "name": "country=France",
         "showlegend": true,
         "type": "scatter",
         "uid": "61b7d96a-b178-43c6-ba57-6d0abbe21c13",
         "visible": true,
         "x": [
          2015,
          2014,
          2009,
          2009,
          2016,
          2009,
          2009,
          1987,
          2005,
          2005,
          1987,
          2014,
          2014,
          2015,
          1987,
          2014,
          2014,
          2009,
          2009,
          2016,
          2014,
          2014,
          2014,
          2005,
          2005,
          2016,
          2016,
          2009,
          2009,
          2008,
          2008,
          1987,
          2013,
          2015,
          1987,
          2005,
          2005,
          2015,
          2014,
          2009,
          2009,
          2016,
          2016,
          2013,
          2016,
          2016,
          1987,
          2008,
          2008,
          2009,
          2009
         ],
         "xaxis": "x",
         "y": [
          "Veolia (France)",
          "Atomic Energy and Alternative Energies Commission",
          "French National Centre for Scientific Research",
          "University of Picardie Jules Verne",
          "Atomic Energy and Alternative Energies Commission",
          "French National Centre for Scientific Research",
          "University of Picardie Jules Verne",
          "French National Centre for Scientific Research",
          "Pasteur Institute",
          "French Institute of Health and Medical Research",
          "French National Centre for Scientific Research",
          "French National Centre for Scientific Research",
          "University of Picardie Jules Verne",
          "Veolia (France)",
          "French National Centre for Scientific Research",
          "Sorbonne University",
          "Atomic Energy and Alternative Energies Commission",
          "University of Picardie Jules Verne",
          "French National Centre for Scientific Research",
          "Atomic Energy and Alternative Energies Commission",
          "Atomic Energy and Alternative Energies Commission",
          "French National Centre for Scientific Research",
          "University of Picardie Jules Verne",
          "Pasteur Institute",
          "French Institute of Health and Medical Research",
          "Pierre Fabre (France)",
          "French National Centre for Scientific Research",
          "University of Picardie Jules Verne",
          "French National Centre for Scientific Research",
          "University of Picardie Jules Verne",
          "French National Centre for Scientific Research",
          "French National Centre for Scientific Research",
          "Atomic Energy and Alternative Energies Commission",
          "Atomic Energy and Alternative Energies Commission",
          "French National Centre for Scientific Research",
          "Pasteur Institute",
          "French Institute of Health and Medical Research",
          "BioMérieux (France)",
          "Sorbonne University",
          "University of Picardie Jules Verne",
          "French National Centre for Scientific Research",
          "Pierre Fabre (France)",
          "French National Centre for Scientific Research",
          "Atomic Energy and Alternative Energies Commission",
          "French National Centre for Scientific Research",
          "Pierre Fabre (France)",
          "French National Centre for Scientific Research",
          "French National Centre for Scientific Research",
          "University of Picardie Jules Verne",
          "French National Centre for Scientific Research",
          "University of Picardie Jules Verne"
         ],
         "yaxis": "y"
        },
        {
         "customdata": [
          [
           "Poland"
          ],
          [
           "Poland"
          ],
          [
           "Poland"
          ],
          [
           "Poland"
          ],
          [
           "Poland"
          ],
          [
           "Poland"
          ],
          [
           "Poland"
          ],
          [
           "Poland"
          ],
          [
           "Poland"
          ],
          [
           "Poland"
          ],
          [
           "Poland"
          ]
         ],
         "hoverlabel": {
          "namelength": 0
         },
         "hovertemplate": "<b>%{hovertext}</b><br><br>country=%{customdata[0]}<br>year=%{x}<br>assignee_name=%{y}",
         "hovertext": [
          "Warsaw University of Technology",
          "Warsaw University of Technology",
          "Warsaw University of Technology",
          "Instytut Biologii Doświadczalnej im. Marcelego Nenckiego",
          "Warsaw University of Technology",
          "Warsaw University of Technology",
          "Warsaw University of Technology",
          "Warsaw University of Technology",
          "Warsaw University of Technology",
          "Warsaw University of Technology",
          "Warsaw University of Technology"
         ],
         "legendgroup": "country=Poland",
         "marker": {
          "color": "#ab63fa",
          "symbol": "circle"
         },
         "mode": "markers",
         "name": "country=Poland",
         "showlegend": true,
         "type": "scatter",
         "uid": "46b90b06-0e83-49a4-92f5-0db57cfdb2b9",
         "visible": true,
         "x": [
          2009,
          2009,
          2014,
          2014,
          2009,
          2014,
          2009,
          2008,
          2009,
          2008,
          2009
         ],
         "xaxis": "x",
         "y": [
          "Warsaw University of Technology",
          "Warsaw University of Technology",
          "Warsaw University of Technology",
          "Instytut Biologii Doświadczalnej im. Marcelego Nenckiego",
          "Warsaw University of Technology",
          "Warsaw University of Technology",
          "Warsaw University of Technology",
          "Warsaw University of Technology",
          "Warsaw University of Technology",
          "Warsaw University of Technology",
          "Warsaw University of Technology"
         ],
         "yaxis": "y"
        },
        {
         "customdata": [
          [
           "Canada"
          ],
          [
           "Canada"
          ],
          [
           "Canada"
          ],
          [
           "Canada"
          ],
          [
           "Canada"
          ],
          [
           "Canada"
          ]
         ],
         "hoverlabel": {
          "namelength": 0
         },
         "hovertemplate": "<b>%{hovertext}</b><br><br>country=%{customdata[0]}<br>year=%{x}<br>assignee_name=%{y}",
         "hovertext": [
          "University of Quebec at Montreal",
          "University of Quebec at Montreal",
          "University of Quebec at Montreal",
          "University of Quebec at Montreal",
          "University of Quebec at Montreal",
          "University of Quebec at Montreal"
         ],
         "legendgroup": "country=Canada",
         "marker": {
          "color": "#19d3f3",
          "symbol": "circle"
         },
         "mode": "markers",
         "name": "country=Canada",
         "showlegend": true,
         "type": "scatter",
         "uid": "bf2b415e-3629-4b7c-bab1-2dd7ada0a1ea",
         "visible": true,
         "x": [
          2008,
          2001,
          2001,
          2001,
          2008,
          2001
         ],
         "xaxis": "x",
         "y": [
          "University of Quebec at Montreal",
          "University of Quebec at Montreal",
          "University of Quebec at Montreal",
          "University of Quebec at Montreal",
          "University of Quebec at Montreal",
          "University of Quebec at Montreal"
         ],
         "yaxis": "y"
        },
        {
         "customdata": [
          [
           "Germany"
          ],
          [
           "Germany"
          ],
          [
           "Germany"
          ],
          [
           "Germany"
          ],
          [
           "Germany"
          ],
          [
           "Germany"
          ],
          [
           "Germany"
          ],
          [
           "Germany"
          ],
          [
           "Germany"
          ],
          [
           "Germany"
          ],
          [
           "Germany"
          ],
          [
           "Germany"
          ],
          [
           "Germany"
          ]
         ],
         "hoverlabel": {
          "namelength": 0
         },
         "hovertemplate": "<b>%{hovertext}</b><br><br>country=%{customdata[0]}<br>year=%{x}<br>assignee_name=%{y}",
         "hovertext": [
          "Helmholtz Zentrum München",
          "European Molecular Biology Laboratory",
          "European Molecular Biology Laboratory",
          "Centre for Solar Energy and Hydrogen Research Baden-Württemberg",
          "Martin Luther University Halle-Wittenberg",
          "University of Hohenheim",
          "BioTeSys (Germany)",
          "University of Konstanz",
          "European Molecular Biology Laboratory",
          "Martin Luther University Halle-Wittenberg",
          "University of Hohenheim",
          "University of Konstanz",
          "BioTeSys (Germany)"
         ],
         "legendgroup": "country=Germany",
         "marker": {
          "color": "#e763fa",
          "symbol": "circle"
         },
         "mode": "markers",
         "name": "country=Germany",
         "showlegend": true,
         "type": "scatter",
         "uid": "ceb9b521-afe9-4c6e-96b1-8642619acb05",
         "visible": true,
         "x": [
          2014,
          2005,
          2005,
          2010,
          2014,
          2014,
          2014,
          2014,
          2005,
          2014,
          2014,
          2014,
          2014
         ],
         "xaxis": "x",
         "y": [
          "Helmholtz Zentrum München",
          "European Molecular Biology Laboratory",
          "European Molecular Biology Laboratory",
          "Centre for Solar Energy and Hydrogen Research Baden-Württemberg",
          "Martin Luther University Halle-Wittenberg",
          "University of Hohenheim",
          "BioTeSys (Germany)",
          "University of Konstanz",
          "European Molecular Biology Laboratory",
          "Martin Luther University Halle-Wittenberg",
          "University of Hohenheim",
          "University of Konstanz",
          "BioTeSys (Germany)"
         ],
         "yaxis": "y"
        },
        {
         "customdata": [
          [
           "Czechia"
          ],
          [
           "Czechia"
          ],
          [
           "Czechia"
          ]
         ],
         "hoverlabel": {
          "namelength": 0
         },
         "hovertemplate": "<b>%{hovertext}</b><br><br>country=%{customdata[0]}<br>year=%{x}<br>assignee_name=%{y}",
         "hovertext": [
          "Masaryk University",
          "Masaryk University",
          "Masaryk University"
         ],
         "legendgroup": "country=Czechia",
         "marker": {
          "color": "#FECB52",
          "symbol": "circle"
         },
         "mode": "markers",
         "name": "country=Czechia",
         "showlegend": true,
         "type": "scatter",
         "uid": "ac7ce7ac-433d-447c-89a5-886ef5b3c423",
         "visible": true,
         "x": [
          2012,
          2012,
          2012
         ],
         "xaxis": "x",
         "y": [
          "Masaryk University",
          "Masaryk University",
          "Masaryk University"
         ],
         "yaxis": "y"
        },
        {
         "customdata": [
          [
           "Spain"
          ],
          [
           "Spain"
          ],
          [
           "Spain"
          ],
          [
           "Spain"
          ],
          [
           "Spain"
          ],
          [
           "Spain"
          ]
         ],
         "hoverlabel": {
          "namelength": 0
         },
         "hovertemplate": "<b>%{hovertext}</b><br><br>country=%{customdata[0]}<br>year=%{x}<br>assignee_name=%{y}",
         "hovertext": [
          "Autonomous University of Barcelona",
          "Autonomous University of Barcelona",
          "Autonomous University of Barcelona",
          "University of Zaragoza",
          "Institute of Photonic Sciences",
          "Institute of Photonic Sciences"
         ],
         "legendgroup": "country=Spain",
         "marker": {
          "color": "#FFA15A",
          "symbol": "circle"
         },
         "mode": "markers",
         "name": "country=Spain",
         "showlegend": true,
         "type": "scatter",
         "uid": "4d8c0e19-292e-446f-85cd-70b89303cbd4",
         "visible": true,
         "x": [
          2012,
          2012,
          2012,
          2015,
          2014,
          2014
         ],
         "xaxis": "x",
         "y": [
          "Autonomous University of Barcelona",
          "Autonomous University of Barcelona",
          "Autonomous University of Barcelona",
          "University of Zaragoza",
          "Institute of Photonic Sciences",
          "Institute of Photonic Sciences"
         ],
         "yaxis": "y"
        },
        {
         "customdata": [
          [
           "United Kingdom"
          ],
          [
           "United Kingdom"
          ],
          [
           "United Kingdom"
          ],
          [
           "United Kingdom"
          ],
          [
           "United Kingdom"
          ]
         ],
         "hoverlabel": {
          "namelength": 0
         },
         "hovertemplate": "<b>%{hovertext}</b><br><br>country=%{customdata[0]}<br>year=%{x}<br>assignee_name=%{y}",
         "hovertext": [
          "University of Cambridge",
          "Cranfield University",
          "Aston University",
          "Cranfield University",
          "Aston University"
         ],
         "legendgroup": "country=United Kingdom",
         "marker": {
          "color": "#FF6692",
          "symbol": "circle"
         },
         "mode": "markers",
         "name": "country=United Kingdom",
         "showlegend": true,
         "type": "scatter",
         "uid": "d776659d-bf36-455c-a312-9be977932daa",
         "visible": true,
         "x": [
          2001,
          2014,
          2014,
          2014,
          2014
         ],
         "xaxis": "x",
         "y": [
          "University of Cambridge",
          "Cranfield University",
          "Aston University",
          "Cranfield University",
          "Aston University"
         ],
         "yaxis": "y"
        },
        {
         "customdata": [
          [
           "Denmark"
          ],
          [
           "Denmark"
          ],
          [
           "Denmark"
          ]
         ],
         "hoverlabel": {
          "namelength": 0
         },
         "hovertemplate": "<b>%{hovertext}</b><br><br>country=%{customdata[0]}<br>year=%{x}<br>assignee_name=%{y}",
         "hovertext": [
          "Aarhus University",
          "Aarhus University",
          "Aarhus University"
         ],
         "legendgroup": "country=Denmark",
         "marker": {
          "color": "#B6E880",
          "symbol": "circle"
         },
         "mode": "markers",
         "name": "country=Denmark",
         "showlegend": true,
         "type": "scatter",
         "uid": "b7a8fd75-8a84-4532-a4c7-ea21340a2248",
         "visible": true,
         "x": [
          2014,
          2016,
          2014
         ],
         "xaxis": "x",
         "y": [
          "Aarhus University",
          "Aarhus University",
          "Aarhus University"
         ],
         "yaxis": "y"
        },
        {
         "customdata": [
          [
           "Netherlands"
          ],
          [
           "Netherlands"
          ],
          [
           "Netherlands"
          ],
          [
           "Netherlands"
          ]
         ],
         "hoverlabel": {
          "namelength": 0
         },
         "hovertemplate": "<b>%{hovertext}</b><br><br>country=%{customdata[0]}<br>year=%{x}<br>assignee_name=%{y}",
         "hovertext": [
          "Erasmus University Medical Center",
          "National Institute for Public Health and the Environment",
          "National Institute for Public Health and the Environment",
          "Erasmus University Medical Center"
         ],
         "legendgroup": "country=Netherlands",
         "marker": {
          "color": "#636efa",
          "symbol": "circle"
         },
         "mode": "markers",
         "name": "country=Netherlands",
         "showlegend": true,
         "type": "scatter",
         "uid": "b20449f4-b15b-4598-b4fe-9c55f420e0c8",
         "visible": true,
         "x": [
          2014,
          2014,
          2014,
          2014
         ],
         "xaxis": "x",
         "y": [
          "Erasmus University Medical Center",
          "National Institute for Public Health and the Environment",
          "National Institute for Public Health and the Environment",
          "Erasmus University Medical Center"
         ],
         "yaxis": "y"
        },
        {
         "customdata": [
          [
           "Greece"
          ]
         ],
         "hoverlabel": {
          "namelength": 0
         },
         "hovertemplate": "<b>%{hovertext}</b><br><br>country=%{customdata[0]}<br>year=%{x}<br>assignee_name=%{y}",
         "hovertext": [
          "National Hellenic Research Foundation"
         ],
         "legendgroup": "country=Greece",
         "marker": {
          "color": "#EF553B",
          "symbol": "circle"
         },
         "mode": "markers",
         "name": "country=Greece",
         "showlegend": true,
         "type": "scatter",
         "uid": "09c0e30b-0c88-4369-a851-8d91a00a8417",
         "visible": true,
         "x": [
          2014
         ],
         "xaxis": "x",
         "y": [
          "National Hellenic Research Foundation"
         ],
         "yaxis": "y"
        },
        {
         "customdata": [
          [
           "Finland"
          ],
          [
           "Finland"
          ]
         ],
         "hoverlabel": {
          "namelength": 0
         },
         "hovertemplate": "<b>%{hovertext}</b><br><br>country=%{customdata[0]}<br>year=%{x}<br>assignee_name=%{y}",
         "hovertext": [
          "University of Tampere",
          "University of Tampere"
         ],
         "legendgroup": "country=Finland",
         "marker": {
          "color": "#00cc96",
          "symbol": "circle"
         },
         "mode": "markers",
         "name": "country=Finland",
         "showlegend": true,
         "type": "scatter",
         "uid": "4b200535-73a3-4956-9ca5-f484989b1172",
         "visible": true,
         "x": [
          2014,
          2014
         ],
         "xaxis": "x",
         "y": [
          "University of Tampere",
          "University of Tampere"
         ],
         "yaxis": "y"
        },
        {
         "customdata": [
          [
           "Austria"
          ],
          [
           "Austria"
          ]
         ],
         "hoverlabel": {
          "namelength": 0
         },
         "hovertemplate": "<b>%{hovertext}</b><br><br>country=%{customdata[0]}<br>year=%{x}<br>assignee_name=%{y}",
         "hovertext": [
          "University of Innsbruck",
          "University of Innsbruck"
         ],
         "legendgroup": "country=Austria",
         "marker": {
          "color": "#ab63fa",
          "symbol": "circle"
         },
         "mode": "markers",
         "name": "country=Austria",
         "showlegend": true,
         "type": "scatter",
         "uid": "b9bba7ac-a73c-4aec-9180-76c68058118c",
         "visible": true,
         "x": [
          2014,
          2014
         ],
         "xaxis": "x",
         "y": [
          "University of Innsbruck",
          "University of Innsbruck"
         ],
         "yaxis": "y"
        },
        {
         "customdata": [
          [
           "Belgium"
          ],
          [
           "Belgium"
          ],
          [
           "Belgium"
          ],
          [
           "Belgium"
          ]
         ],
         "hoverlabel": {
          "namelength": 0
         },
         "hovertemplate": "<b>%{hovertext}</b><br><br>country=%{customdata[0]}<br>year=%{x}<br>assignee_name=%{y}",
         "hovertext": [
          "University of Namur",
          "Flanders Institute for Biotechnology",
          "Flanders Institute for Biotechnology",
          "University of Namur"
         ],
         "legendgroup": "country=Belgium",
         "marker": {
          "color": "#19d3f3",
          "symbol": "circle"
         },
         "mode": "markers",
         "name": "country=Belgium",
         "showlegend": true,
         "type": "scatter",
         "uid": "e381c4c3-4730-4caf-be0b-75b26b1dcb29",
         "visible": true,
         "x": [
          2014,
          2014,
          2014,
          2014
         ],
         "xaxis": "x",
         "y": [
          "University of Namur",
          "Flanders Institute for Biotechnology",
          "Flanders Institute for Biotechnology",
          "University of Namur"
         ],
         "yaxis": "y"
        },
        {
         "customdata": [
          [
           "Switzerland"
          ],
          [
           "Switzerland"
          ],
          [
           "Switzerland"
          ],
          [
           "Switzerland"
          ],
          [
           "Switzerland"
          ]
         ],
         "hoverlabel": {
          "namelength": 0
         },
         "hovertemplate": "<b>%{hovertext}</b><br><br>country=%{customdata[0]}<br>year=%{x}<br>assignee_name=%{y}",
         "hovertext": [
          "Nestlé (Switzerland)",
          "Paul Scherrer Institute",
          "Nestlé (Switzerland)",
          "Paul Scherrer Institute",
          "Paul Scherrer Institute"
         ],
         "legendgroup": "country=Switzerland",
         "marker": {
          "color": "#e763fa",
          "symbol": "circle"
         },
         "mode": "markers",
         "name": "country=Switzerland",
         "showlegend": true,
         "type": "scatter",
         "uid": "75cc9814-cd4c-42d9-9bd9-94b1af7dca57",
         "visible": true,
         "x": [
          2014,
          2016,
          2014,
          2017,
          2017
         ],
         "xaxis": "x",
         "y": [
          "Nestlé (Switzerland)",
          "Paul Scherrer Institute",
          "Nestlé (Switzerland)",
          "Paul Scherrer Institute",
          "Paul Scherrer Institute"
         ],
         "yaxis": "y"
        },
        {
         "customdata": [
          [
           "Portugal"
          ]
         ],
         "hoverlabel": {
          "namelength": 0
         },
         "hovertemplate": "<b>%{hovertext}</b><br><br>country=%{customdata[0]}<br>year=%{x}<br>assignee_name=%{y}",
         "hovertext": [
          "Instituto de Telecomunicações"
         ],
         "legendgroup": "country=Portugal",
         "marker": {
          "color": "#FECB52",
          "symbol": "circle"
         },
         "mode": "markers",
         "name": "country=Portugal",
         "showlegend": true,
         "type": "scatter",
         "uid": "e519a5c3-2d06-4d6c-ba4b-e45497419ec3",
         "visible": true,
         "x": [
          1987
         ],
         "xaxis": "x",
         "y": [
          "Instituto de Telecomunicações"
         ],
         "yaxis": "y"
        },
        {
         "customdata": [
          [
           "Singapore"
          ],
          [
           "Singapore"
          ]
         ],
         "hoverlabel": {
          "namelength": 0
         },
         "hovertemplate": "<b>%{hovertext}</b><br><br>country=%{customdata[0]}<br>year=%{x}<br>assignee_name=%{y}",
         "hovertext": [
          "National University of Singapore",
          "National University of Singapore"
         ],
         "legendgroup": "country=Singapore",
         "marker": {
          "color": "#FFA15A",
          "symbol": "circle"
         },
         "mode": "markers",
         "name": "country=Singapore",
         "showlegend": true,
         "type": "scatter",
         "uid": "0ad72ad7-c8e1-45f2-b787-097d62982ab8",
         "visible": true,
         "x": [
          2014,
          2014
         ],
         "xaxis": "x",
         "y": [
          "National University of Singapore",
          "National University of Singapore"
         ],
         "yaxis": "y"
        },
        {
         "customdata": [
          [
           "Brazil"
          ],
          [
           "Brazil"
          ]
         ],
         "hoverlabel": {
          "namelength": 0
         },
         "hovertemplate": "<b>%{hovertext}</b><br><br>country=%{customdata[0]}<br>year=%{x}<br>assignee_name=%{y}",
         "hovertext": [
          "Federal University of Rio de Janeiro",
          "Federal University of Rio de Janeiro"
         ],
         "legendgroup": "country=Brazil",
         "marker": {
          "color": "#FF6692",
          "symbol": "circle"
         },
         "mode": "markers",
         "name": "country=Brazil",
         "showlegend": true,
         "type": "scatter",
         "uid": "e13eeaa8-8206-43cc-a98b-79df022f262b",
         "visible": true,
         "x": [
          2014,
          2014
         ],
         "xaxis": "x",
         "y": [
          "Federal University of Rio de Janeiro",
          "Federal University of Rio de Janeiro"
         ],
         "yaxis": "y"
        },
        {
         "customdata": [
          [
           "China"
          ]
         ],
         "hoverlabel": {
          "namelength": 0
         },
         "hovertemplate": "<b>%{hovertext}</b><br><br>country=%{customdata[0]}<br>year=%{x}<br>assignee_name=%{y}",
         "hovertext": [
          "Northeastern University"
         ],
         "legendgroup": "country=China",
         "marker": {
          "color": "#B6E880",
          "symbol": "circle"
         },
         "mode": "markers",
         "name": "country=China",
         "showlegend": true,
         "type": "scatter",
         "uid": "19bc9a49-15e2-4a8a-9f28-3eaf601f8736",
         "visible": true,
         "x": [
          2018
         ],
         "xaxis": "x",
         "y": [
          "Northeastern University"
         ],
         "yaxis": "y"
        }
       ],
       "layout": {
        "autosize": true,
        "grid": {
         "xaxes": [
          "x"
         ],
         "xgap": 0.1,
         "xside": "bottom",
         "yaxes": [
          "y"
         ],
         "ygap": 0.1,
         "yside": "left"
        },
        "legend": {
         "tracegroupgap": 0
        },
        "margin": {
         "t": 60
        },
        "template": {
         "data": {
          "bar": [
           {
            "marker": {
             "line": {
              "color": "#E5ECF6",
              "width": 0.5
             }
            },
            "type": "bar"
           }
          ],
          "barpolar": [
           {
            "marker": {
             "line": {
              "color": "#E5ECF6",
              "width": 0.5
             }
            },
            "type": "barpolar"
           }
          ],
          "carpet": [
           {
            "aaxis": {
             "endlinecolor": "#2a3f5f",
             "gridcolor": "white",
             "linecolor": "white",
             "minorgridcolor": "white",
             "startlinecolor": "#2a3f5f"
            },
            "baxis": {
             "endlinecolor": "#2a3f5f",
             "gridcolor": "white",
             "linecolor": "white",
             "minorgridcolor": "white",
             "startlinecolor": "#2a3f5f"
            },
            "type": "carpet"
           }
          ],
          "choropleth": [
           {
            "colorbar": {
             "outlinewidth": 0,
             "ticks": ""
            },
            "type": "choropleth"
           }
          ],
          "contour": [
           {
            "colorbar": {
             "outlinewidth": 0,
             "ticks": ""
            },
            "colorscale": [
             [
              0,
              "#0508b8"
             ],
             [
              0.0893854748603352,
              "#1910d8"
             ],
             [
              0.1787709497206704,
              "#3c19f0"
             ],
             [
              0.2681564245810056,
              "#6b1cfb"
             ],
             [
              0.3575418994413408,
              "#981cfd"
             ],
             [
              0.44692737430167595,
              "#bf1cfd"
             ],
             [
              0.5363128491620112,
              "#dd2bfd"
             ],
             [
              0.6256983240223464,
              "#f246fe"
             ],
             [
              0.7150837988826816,
              "#fc67fd"
             ],
             [
              0.8044692737430168,
              "#fe88fc"
             ],
             [
              0.8938547486033519,
              "#fea5fd"
             ],
             [
              0.9832402234636871,
              "#febefe"
             ],
             [
              1,
              "#fec3fe"
             ]
            ],
            "type": "contour"
           }
          ],
          "contourcarpet": [
           {
            "colorbar": {
             "outlinewidth": 0,
             "ticks": ""
            },
            "type": "contourcarpet"
           }
          ],
          "heatmap": [
           {
            "colorbar": {
             "outlinewidth": 0,
             "ticks": ""
            },
            "colorscale": [
             [
              0,
              "#0508b8"
             ],
             [
              0.0893854748603352,
              "#1910d8"
             ],
             [
              0.1787709497206704,
              "#3c19f0"
             ],
             [
              0.2681564245810056,
              "#6b1cfb"
             ],
             [
              0.3575418994413408,
              "#981cfd"
             ],
             [
              0.44692737430167595,
              "#bf1cfd"
             ],
             [
              0.5363128491620112,
              "#dd2bfd"
             ],
             [
              0.6256983240223464,
              "#f246fe"
             ],
             [
              0.7150837988826816,
              "#fc67fd"
             ],
             [
              0.8044692737430168,
              "#fe88fc"
             ],
             [
              0.8938547486033519,
              "#fea5fd"
             ],
             [
              0.9832402234636871,
              "#febefe"
             ],
             [
              1,
              "#fec3fe"
             ]
            ],
            "type": "heatmap"
           }
          ],
          "heatmapgl": [
           {
            "colorbar": {
             "outlinewidth": 0,
             "ticks": ""
            },
            "type": "heatmapgl"
           }
          ],
          "histogram": [
           {
            "marker": {
             "colorbar": {
              "outlinewidth": 0,
              "ticks": ""
             }
            },
            "type": "histogram"
           }
          ],
          "histogram2d": [
           {
            "colorbar": {
             "outlinewidth": 0,
             "ticks": ""
            },
            "colorscale": [
             [
              0,
              "#0508b8"
             ],
             [
              0.0893854748603352,
              "#1910d8"
             ],
             [
              0.1787709497206704,
              "#3c19f0"
             ],
             [
              0.2681564245810056,
              "#6b1cfb"
             ],
             [
              0.3575418994413408,
              "#981cfd"
             ],
             [
              0.44692737430167595,
              "#bf1cfd"
             ],
             [
              0.5363128491620112,
              "#dd2bfd"
             ],
             [
              0.6256983240223464,
              "#f246fe"
             ],
             [
              0.7150837988826816,
              "#fc67fd"
             ],
             [
              0.8044692737430168,
              "#fe88fc"
             ],
             [
              0.8938547486033519,
              "#fea5fd"
             ],
             [
              0.9832402234636871,
              "#febefe"
             ],
             [
              1,
              "#fec3fe"
             ]
            ],
            "type": "histogram2d"
           }
          ],
          "histogram2dcontour": [
           {
            "colorbar": {
             "outlinewidth": 0,
             "ticks": ""
            },
            "colorscale": [
             [
              0,
              "#0508b8"
             ],
             [
              0.0893854748603352,
              "#1910d8"
             ],
             [
              0.1787709497206704,
              "#3c19f0"
             ],
             [
              0.2681564245810056,
              "#6b1cfb"
             ],
             [
              0.3575418994413408,
              "#981cfd"
             ],
             [
              0.44692737430167595,
              "#bf1cfd"
             ],
             [
              0.5363128491620112,
              "#dd2bfd"
             ],
             [
              0.6256983240223464,
              "#f246fe"
             ],
             [
              0.7150837988826816,
              "#fc67fd"
             ],
             [
              0.8044692737430168,
              "#fe88fc"
             ],
             [
              0.8938547486033519,
              "#fea5fd"
             ],
             [
              0.9832402234636871,
              "#febefe"
             ],
             [
              1,
              "#fec3fe"
             ]
            ],
            "type": "histogram2dcontour"
           }
          ],
          "mesh3d": [
           {
            "colorbar": {
             "outlinewidth": 0,
             "ticks": ""
            },
            "type": "mesh3d"
           }
          ],
          "parcoords": [
           {
            "line": {
             "colorbar": {
              "outlinewidth": 0,
              "ticks": ""
             }
            },
            "type": "parcoords"
           }
          ],
          "scatter": [
           {
            "marker": {
             "colorbar": {
              "outlinewidth": 0,
              "ticks": ""
             }
            },
            "type": "scatter"
           }
          ],
          "scatter3d": [
           {
            "marker": {
             "colorbar": {
              "outlinewidth": 0,
              "ticks": ""
             }
            },
            "type": "scatter3d"
           }
          ],
          "scattercarpet": [
           {
            "marker": {
             "colorbar": {
              "outlinewidth": 0,
              "ticks": ""
             }
            },
            "type": "scattercarpet"
           }
          ],
          "scattergeo": [
           {
            "marker": {
             "colorbar": {
              "outlinewidth": 0,
              "ticks": ""
             }
            },
            "type": "scattergeo"
           }
          ],
          "scattergl": [
           {
            "marker": {
             "colorbar": {
              "outlinewidth": 0,
              "ticks": ""
             }
            },
            "type": "scattergl"
           }
          ],
          "scattermapbox": [
           {
            "marker": {
             "colorbar": {
              "outlinewidth": 0,
              "ticks": ""
             }
            },
            "type": "scattermapbox"
           }
          ],
          "scatterpolar": [
           {
            "marker": {
             "colorbar": {
              "outlinewidth": 0,
              "ticks": ""
             }
            },
            "type": "scatterpolar"
           }
          ],
          "scatterpolargl": [
           {
            "marker": {
             "colorbar": {
              "outlinewidth": 0,
              "ticks": ""
             }
            },
            "type": "scatterpolargl"
           }
          ],
          "scatterternary": [
           {
            "marker": {
             "colorbar": {
              "outlinewidth": 0,
              "ticks": ""
             }
            },
            "type": "scatterternary"
           }
          ],
          "surface": [
           {
            "colorbar": {
             "outlinewidth": 0,
             "ticks": ""
            },
            "type": "surface"
           }
          ],
          "table": [
           {
            "cells": {
             "fill": {
              "color": "#EBF0F8"
             },
             "line": {
              "color": "white"
             }
            },
            "header": {
             "fill": {
              "color": "#C8D4E3"
             },
             "line": {
              "color": "white"
             }
            },
            "type": "table"
           }
          ]
         },
         "layout": {
          "annotationdefaults": {
           "arrowcolor": "#506784",
           "arrowhead": 0,
           "arrowwidth": 1
          },
          "colorscale": {
           "diverging": [
            [
             0,
             "#8e0152"
            ],
            [
             0.1,
             "#c51b7d"
            ],
            [
             0.2,
             "#de77ae"
            ],
            [
             0.3,
             "#f1b6da"
            ],
            [
             0.4,
             "#fde0ef"
            ],
            [
             0.5,
             "#f7f7f7"
            ],
            [
             0.6,
             "#e6f5d0"
            ],
            [
             0.7,
             "#b8e186"
            ],
            [
             0.8,
             "#7fbc41"
            ],
            [
             0.9,
             "#4d9221"
            ],
            [
             1,
             "#276419"
            ]
           ],
           "sequential": [
            [
             0,
             "#0508b8"
            ],
            [
             0.0893854748603352,
             "#1910d8"
            ],
            [
             0.1787709497206704,
             "#3c19f0"
            ],
            [
             0.2681564245810056,
             "#6b1cfb"
            ],
            [
             0.3575418994413408,
             "#981cfd"
            ],
            [
             0.44692737430167595,
             "#bf1cfd"
            ],
            [
             0.5363128491620112,
             "#dd2bfd"
            ],
            [
             0.6256983240223464,
             "#f246fe"
            ],
            [
             0.7150837988826816,
             "#fc67fd"
            ],
            [
             0.8044692737430168,
             "#fe88fc"
            ],
            [
             0.8938547486033519,
             "#fea5fd"
            ],
            [
             0.9832402234636871,
             "#febefe"
            ],
            [
             1,
             "#fec3fe"
            ]
           ],
           "sequentialminus": [
            [
             0,
             "#0508b8"
            ],
            [
             0.0893854748603352,
             "#1910d8"
            ],
            [
             0.1787709497206704,
             "#3c19f0"
            ],
            [
             0.2681564245810056,
             "#6b1cfb"
            ],
            [
             0.3575418994413408,
             "#981cfd"
            ],
            [
             0.44692737430167595,
             "#bf1cfd"
            ],
            [
             0.5363128491620112,
             "#dd2bfd"
            ],
            [
             0.6256983240223464,
             "#f246fe"
            ],
            [
             0.7150837988826816,
             "#fc67fd"
            ],
            [
             0.8044692737430168,
             "#fe88fc"
            ],
            [
             0.8938547486033519,
             "#fea5fd"
            ],
            [
             0.9832402234636871,
             "#febefe"
            ],
            [
             1,
             "#fec3fe"
            ]
           ]
          },
          "colorway": [
           "#636efa",
           "#EF553B",
           "#00cc96",
           "#ab63fa",
           "#19d3f3",
           "#e763fa",
           "#FECB52",
           "#FFA15A",
           "#FF6692",
           "#B6E880"
          ],
          "font": {
           "color": "#2a3f5f"
          },
          "geo": {
           "bgcolor": "white",
           "lakecolor": "white",
           "landcolor": "#E5ECF6",
           "showlakes": true,
           "showland": true,
           "subunitcolor": "white"
          },
          "hoverlabel": {
           "align": "left"
          },
          "hovermode": "closest",
          "mapbox": {
           "style": "light"
          },
          "paper_bgcolor": "white",
          "plot_bgcolor": "#E5ECF6",
          "polar": {
           "angularaxis": {
            "gridcolor": "white",
            "linecolor": "white",
            "ticks": ""
           },
           "bgcolor": "#E5ECF6",
           "radialaxis": {
            "gridcolor": "white",
            "linecolor": "white",
            "ticks": ""
           }
          },
          "scene": {
           "xaxis": {
            "backgroundcolor": "#E5ECF6",
            "gridcolor": "white",
            "gridwidth": 2,
            "linecolor": "white",
            "showbackground": true,
            "ticks": "",
            "zerolinecolor": "white"
           },
           "yaxis": {
            "backgroundcolor": "#E5ECF6",
            "gridcolor": "white",
            "gridwidth": 2,
            "linecolor": "white",
            "showbackground": true,
            "ticks": "",
            "zerolinecolor": "white"
           },
           "zaxis": {
            "backgroundcolor": "#E5ECF6",
            "gridcolor": "white",
            "gridwidth": 2,
            "linecolor": "white",
            "showbackground": true,
            "ticks": "",
            "zerolinecolor": "white"
           }
          },
          "shapedefaults": {
           "fillcolor": "#506784",
           "line": {
            "width": 0
           },
           "opacity": 0.4
          },
          "ternary": {
           "aaxis": {
            "gridcolor": "white",
            "linecolor": "white",
            "ticks": ""
           },
           "baxis": {
            "gridcolor": "white",
            "linecolor": "white",
            "ticks": ""
           },
           "bgcolor": "#E5ECF6",
           "caxis": {
            "gridcolor": "white",
            "linecolor": "white",
            "ticks": ""
           }
          },
          "title": {
           "x": 0.05
          },
          "xaxis": {
           "automargin": true,
           "gridcolor": "white",
           "linecolor": "white",
           "ticks": "",
           "zerolinecolor": "white",
           "zerolinewidth": 2
          },
          "yaxis": {
           "automargin": true,
           "gridcolor": "white",
           "linecolor": "white",
           "ticks": "",
           "zerolinecolor": "white",
           "zerolinewidth": 2
          }
         }
        },
        "xaxis": {
         "autorange": true,
         "range": [
          1984.911421911422,
          2021.088578088578
         ],
         "title": {
          "text": "year"
         },
         "type": "linear"
        },
        "yaxis": {
         "autorange": true,
         "range": [
          -5.104972375690608,
          77.10497237569061
         ],
         "title": {
          "text": "assignee_name"
         },
         "type": "category"
        }
       }
      },
      "image/png": "[encoded data removed]",
      "text/html": [
       "<div>\n",
       "        \n",
       "        \n",
       "            <div id=\"ceeea2c4-4c79-4777-ab8e-990dbd1d5393\" class=\"plotly-graph-div\" style=\"height:600px; width:100%;\"></div>\n",
       "            <script type=\"text/javascript\">\n",
       "                require([\"plotly\"], function(Plotly) {\n",
       "                    window.PLOTLYENV=window.PLOTLYENV || {};\n",
       "                    window.PLOTLYENV.BASE_URL='https://plot.ly';\n",
       "                    \n",
       "                if (document.getElementById(\"ceeea2c4-4c79-4777-ab8e-990dbd1d5393\")) {\n",
       "                    Plotly.newPlot(\n",
       "                        'ceeea2c4-4c79-4777-ab8e-990dbd1d5393',\n",
       "                        [{\"customdata\": [[\"Italy\"], [\"Italy\"], [\"Italy\"], [\"Italy\"], [\"Italy\"], [\"Italy\"], [\"Italy\"], [\"Italy\"], [\"Italy\"], [\"Italy\"], [\"Italy\"], [\"Italy\"], [\"Italy\"], [\"Italy\"], [\"Italy\"], [\"Italy\"], [\"Italy\"], [\"Italy\"], [\"Italy\"], [\"Italy\"], [\"Italy\"], [\"Italy\"], [\"Italy\"], [\"Italy\"], [\"Italy\"], [\"Italy\"], [\"Italy\"], [\"Italy\"], [\"Italy\"], [\"Italy\"], [\"Italy\"], [\"Italy\"], [\"Italy\"], [\"Italy\"], [\"Italy\"], [\"Italy\"], [\"Italy\"], [\"Italy\"], [\"Italy\"], [\"Italy\"], [\"Italy\"], [\"Italy\"], [\"Italy\"], [\"Italy\"], [\"Italy\"], [\"Italy\"], [\"Italy\"], [\"Italy\"], [\"Italy\"], [\"Italy\"], [\"Italy\"], [\"Italy\"], [\"Italy\"], [\"Italy\"], [\"Italy\"], [\"Italy\"], [\"Italy\"], [\"Italy\"], [\"Italy\"], [\"Italy\"], [\"Italy\"], [\"Italy\"], [\"Italy\"], [\"Italy\"], [\"Italy\"], [\"Italy\"], [\"Italy\"], [\"Italy\"], [\"Italy\"], [\"Italy\"], [\"Italy\"], [\"Italy\"], [\"Italy\"], [\"Italy\"], [\"Italy\"], [\"Italy\"], [\"Italy\"], [\"Italy\"], [\"Italy\"], [\"Italy\"], [\"Italy\"], [\"Italy\"], [\"Italy\"], [\"Italy\"], [\"Italy\"], [\"Italy\"], [\"Italy\"], [\"Italy\"], [\"Italy\"], [\"Italy\"], [\"Italy\"], [\"Italy\"], [\"Italy\"], [\"Italy\"], [\"Italy\"], [\"Italy\"], [\"Italy\"], [\"Italy\"], [\"Italy\"], [\"Italy\"], [\"Italy\"], [\"Italy\"], [\"Italy\"], [\"Italy\"], [\"Italy\"], [\"Italy\"], [\"Italy\"], [\"Italy\"], [\"Italy\"], [\"Italy\"], [\"Italy\"], [\"Italy\"], [\"Italy\"], [\"Italy\"], [\"Italy\"], [\"Italy\"], [\"Italy\"], [\"Italy\"], [\"Italy\"], [\"Italy\"], [\"Italy\"], [\"Italy\"], [\"Italy\"], [\"Italy\"], [\"Italy\"], [\"Italy\"], [\"Italy\"], [\"Italy\"], [\"Italy\"], [\"Italy\"], [\"Italy\"], [\"Italy\"], [\"Italy\"], [\"Italy\"], [\"Italy\"], [\"Italy\"], [\"Italy\"], [\"Italy\"], [\"Italy\"], [\"Italy\"], [\"Italy\"], [\"Italy\"], [\"Italy\"], [\"Italy\"], [\"Italy\"], [\"Italy\"], [\"Italy\"], [\"Italy\"], [\"Italy\"], [\"Italy\"], [\"Italy\"], [\"Italy\"], [\"Italy\"], [\"Italy\"], [\"Italy\"], [\"Italy\"], [\"Italy\"], [\"Italy\"], [\"Italy\"], [\"Italy\"], [\"Italy\"], [\"Italy\"], [\"Italy\"], [\"Italy\"], [\"Italy\"], [\"Italy\"], [\"Italy\"], [\"Italy\"], [\"Italy\"], [\"Italy\"], [\"Italy\"], [\"Italy\"], [\"Italy\"], [\"Italy\"], [\"Italy\"], [\"Italy\"], [\"Italy\"], [\"Italy\"], [\"Italy\"], [\"Italy\"], [\"Italy\"], [\"Italy\"], [\"Italy\"], [\"Italy\"], [\"Italy\"], [\"Italy\"]], \"hoverlabel\": {\"namelength\": 0}, \"hovertemplate\": \"<b>%{hovertext}</b><br><br>country=%{customdata[0]}<br>year=%{x}<br>assignee_name=%{y}\", \"hovertext\": [\"National Research Council\", \"Istituto Dermopatico dell'Immacolata\", \"University of Siena\", \"University of Rome Tor Vergata\", \"University of Teramo\", \"National Research Council\", \"University of Padua\", \"Istituti Fisioterapici Ospitalieri\", \"National Research Council\", \"University of Milan\", \"University of Pavia\", \"University of Rome Tor Vergata\", \"National Institute of Health\", \"University of Rome Tor Vergata\", \"National Research Council\", \"University of Rome Tor Vergata\", \"Bambino Ges\\u00f9 Children's Hospital\", \"University of Rome Tor Vergata\", \"Istituti Fisioterapici Ospitalieri\", \"University of Rome Tor Vergata\", \"University of Rome Tor Vergata\", \"National Institute of Health\", \"University of Chieti-Pescara\", \"National Research Council\", \"University of Calabria\", \"Roma Tre University\", \"University of Pavia\", \"University of Milan\", \"University of Rome Tor Vergata\", \"University of Rome Tor Vergata\", \"Roma Tre University\", \"Roma Tre University\", \"University of Siena\", \"University of Rome Tor Vergata\", \"National Research Council\", \"Italian National Agency for New Technologies, Energy and Sustainable Economic Development\", \"Roma Tre University\", \"Magna Graecia University\", \"University of Camerino\", \"University of Camerino\", \"Magna Graecia University\", \"University of Rome Tor Vergata\", \"National Research Council\", \"National Research Council\", \"University of Siena\", \"National Research Council\", \"National Research Council\", \"Istituto Dermopatico dell'Immacolata\", \"University of Rome Tor Vergata\", \"University of Rome Tor Vergata\", \"University of Rome Tor Vergata\", \"University of Calabria\", \"National Research Council\", \"University of Milan\", \"University of Pavia\", \"National Institute of Health\", \"National Research Council\", \"Roma Tre University\", \"University of Rome Tor Vergata\", \"University of Rome Tor Vergata\", \"Istituti Fisioterapici Ospitalieri\", \"University of Camerino\", \"University of Rome Tor Vergata\", \"University of Siena\", \"University of Milan\", \"University of Pavia\", \"National Research Council\", \"Istituto Neurologico Mediterraneo\", \"University of Rome Tor Vergata\", \"University of Siena\", \"Bambino Ges\\u00f9 Children's Hospital\", \"Fondazione Roma\", \"University of Teramo\", \"University of Rome Tor Vergata\", \"University of Rome Tor Vergata\", \"University of Perugia\", \"University of Camerino\", \"Magna Graecia University\", \"University of Rome Tor Vergata\", \"University of Milan\", \"University of Pavia\", \"National Institute of Health\", \"University of Rome Tor Vergata\", \"National Research Council\", \"University of Bologna\", \"Istituto Nazionale di Riposo e Cura per Anziani\", \"National Research Council\", \"University of Calabria\", \"University of Rome Tor Vergata\", \"University of Rome Tor Vergata\", \"National Research Council\", \"University of Rome Tor Vergata\", \"University of Rome Tor Vergata\", \"University of Rome Tor Vergata\", \"University of Rome Tor Vergata\", \"Magna Graecia University\", \"Magna Graecia University\", \"National Institute for Nuclear Physics\", \"University of Camerino\", \"Magna Graecia University\", \"Italian National Agency for New Technologies, Energy and Sustainable Economic Development\", \"National Research Council\", \"Bambino Ges\\u00f9 Children's Hospital\", \"University of Rome Tor Vergata\", \"National Research Council\", \"Bambino Ges\\u00f9 Children's Hospital\", \"University of Palermo\", \"National Research Council\", \"National Research Council\", \"National Research Council\", \"University of Rome Tor Vergata\", \"University of Chieti-Pescara\", \"University of Rome Tor Vergata\", \"University of Rome Tor Vergata\", \"National Research Council\", \"Istituto Dermopatico dell'Immacolata\", \"Roma Tre University\", \"University of Siena\", \"University of Pavia\", \"University of Milan\", \"Semiconductor Manufacturing International (Italy)\", \"National Research Council\", \"National Institute of Health\", \"University of Siena\", \"University of Rome Tor Vergata\", \"Semiconductor Manufacturing International (Italy)\", \"University of Siena\", \"Magna Graecia University\", \"University of Camerino\", \"Roma Tre University\", \"University of Rome Tor Vergata\", \"University of Rome Tor Vergata\", \"University of Rome Tor Vergata\", \"National Research Council\", \"University of Rome Tor Vergata\", \"National Research Council\", \"University of Rome Tor Vergata\", \"National Institute of Health\", \"University of Rome Tor Vergata\", \"National Research Council\", \"Bambino Ges\\u00f9 Children's Hospital\", \"National Institute of Health\", \"National Institute of Health\", \"National Research Council\", \"Istituto Neurologico Mediterraneo\", \"University of Naples Federico II\", \"University of Milan\", \"University of Pavia\", \"National Research Council\", \"National Research Council\", \"University of Rome Tor Vergata\", \"University of Perugia\", \"University of Rome Tor Vergata\", \"University of Milan\", \"University of Pavia\", \"Catholic University of the Sacred Heart\", \"University of Rome Tor Vergata\", \"University of Bologna\", \"Istituto Nazionale di Riposo e Cura per Anziani\", \"University of Rome Tor Vergata\", \"Magna Graecia University\", \"University of Camerino\", \"Istituti Fisioterapici Ospitalieri\", \"University of Rome Tor Vergata\", \"University of Rome Tor Vergata\", \"National Research Council\", \"Istituto Dermopatico dell'Immacolata\", \"University of Siena\", \"University of Teramo\", \"University of Rome Tor Vergata\", \"Roma Tre University\", \"University of Pavia\", \"University of Milan\", \"Istituto Dermopatico dell'Immacolata\", \"National Research Council\", \"University of Rome Tor Vergata\", \"University of Rome Tor Vergata\", \"University of Rome Tor Vergata\", \"Roma Tre University\", \"Bambino Ges\\u00f9 Children's Hospital\", \"National Research Council\", \"University of Perugia\", \"National Research Council\", \"University of Rome Tor Vergata\", \"University of Rome Tor Vergata\", \"University of Naples Federico II\"], \"legendgroup\": \"country=Italy\", \"marker\": {\"color\": \"#636efa\", \"symbol\": \"circle\"}, \"mode\": \"markers\", \"name\": \"country=Italy\", \"showlegend\": true, \"type\": \"scatter\", \"uid\": \"47fe13b6-83b2-4b2b-ba2a-8dcfa125a48d\", \"x\": [2007, 2007, 2008, 2006, 2006, 2005, 2007, 2011, 2011, 2011, 2011, 2005, 1996, 2005, 2012, 2004, 2006, 2005, 2005, 2005, 2001, 2016, 2016, 2009, 2009, 2008, 2011, 2011, 2006, 2006, 2001, 2001, 2008, 1999, 2004, 2004, 2001, 2001, 2001, 2001, 2001, 2001, 2003, 1987, 2008, 2003, 2007, 2007, 2004, 2005, 2004, 2007, 2007, 2011, 2011, 2016, 1987, 2004, 2000, 2005, 2005, 2008, 2006, 2014, 2011, 2011, 2014, 2007, 2004, 2014, 2013, 2012, 2006, 2006, 2001, 2017, 2003, 2003, 1999, 2012, 2012, 2007, 2007, 1987, 2014, 2014, 2009, 2009, 2002, 2002, 2003, 2006, 2002, 2002, 2002, 2011, 2011, 2015, 2001, 2001, 2004, 2004, 2007, 2002, 2005, 2007, 2018, 2014, 2007, 2014, 2004, 2016, 2002, 2001, 2007, 2007, 2008, 2008, 2011, 2011, 2015, 2012, 2016, 2014, 2019, 2015, 2007, 2001, 2001, 2001, 2004, 2002, 2002, 1987, 2011, 1987, 2004, 2007, 2007, 2014, 2007, 1996, 1993, 1989, 2007, 2014, 2011, 2011, 2012, 2007, 2006, 2017, 2013, 2011, 2011, 2008, 2008, 2014, 2014, 2002, 2001, 2001, 2011, 2004, 2004, 2007, 2007, 2014, 2017, 2002, 2001, 2011, 2011, 2007, 2007, 2005, 2009, 2005, 2001, 2006, 2014, 2017, 1987, 2004, 2005, 2014], \"xaxis\": \"x\", \"y\": [\"National Research Council\", \"Istituto Dermopatico dell'Immacolata\", \"University of Siena\", \"University of Rome Tor Vergata\", \"University of Teramo\", \"National Research Council\", \"University of Padua\", \"Istituti Fisioterapici Ospitalieri\", \"National Research Council\", \"University of Milan\", \"University of Pavia\", \"University of Rome Tor Vergata\", \"National Institute of Health\", \"University of Rome Tor Vergata\", \"National Research Council\", \"University of Rome Tor Vergata\", \"Bambino Ges\\u00f9 Children's Hospital\", \"University of Rome Tor Vergata\", \"Istituti Fisioterapici Ospitalieri\", \"University of Rome Tor Vergata\", \"University of Rome Tor Vergata\", \"National Institute of Health\", \"University of Chieti-Pescara\", \"National Research Council\", \"University of Calabria\", \"Roma Tre University\", \"University of Pavia\", \"University of Milan\", \"University of Rome Tor Vergata\", \"University of Rome Tor Vergata\", \"Roma Tre University\", \"Roma Tre University\", \"University of Siena\", \"University of Rome Tor Vergata\", \"National Research Council\", \"Italian National Agency for New Technologies, Energy and Sustainable Economic Development\", \"Roma Tre University\", \"Magna Graecia University\", \"University of Camerino\", \"University of Camerino\", \"Magna Graecia University\", \"University of Rome Tor Vergata\", \"National Research Council\", \"National Research Council\", \"University of Siena\", \"National Research Council\", \"National Research Council\", \"Istituto Dermopatico dell'Immacolata\", \"University of Rome Tor Vergata\", \"University of Rome Tor Vergata\", \"University of Rome Tor Vergata\", \"University of Calabria\", \"National Research Council\", \"University of Milan\", \"University of Pavia\", \"National Institute of Health\", \"National Research Council\", \"Roma Tre University\", \"University of Rome Tor Vergata\", \"University of Rome Tor Vergata\", \"Istituti Fisioterapici Ospitalieri\", \"University of Camerino\", \"University of Rome Tor Vergata\", \"University of Siena\", \"University of Milan\", \"University of Pavia\", \"National Research Council\", \"Istituto Neurologico Mediterraneo\", \"University of Rome Tor Vergata\", \"University of Siena\", \"Bambino Ges\\u00f9 Children's Hospital\", \"Fondazione Roma\", \"University of Teramo\", \"University of Rome Tor Vergata\", \"University of Rome Tor Vergata\", \"University of Perugia\", \"University of Camerino\", \"Magna Graecia University\", \"University of Rome Tor Vergata\", \"University of Milan\", \"University of Pavia\", \"National Institute of Health\", \"University of Rome Tor Vergata\", \"National Research Council\", \"University of Bologna\", \"Istituto Nazionale di Riposo e Cura per Anziani\", \"National Research Council\", \"University of Calabria\", \"University of Rome Tor Vergata\", \"University of Rome Tor Vergata\", \"National Research Council\", \"University of Rome Tor Vergata\", \"University of Rome Tor Vergata\", \"University of Rome Tor Vergata\", \"University of Rome Tor Vergata\", \"Magna Graecia University\", \"Magna Graecia University\", \"National Institute for Nuclear Physics\", \"University of Camerino\", \"Magna Graecia University\", \"Italian National Agency for New Technologies, Energy and Sustainable Economic Development\", \"National Research Council\", \"Bambino Ges\\u00f9 Children's Hospital\", \"University of Rome Tor Vergata\", \"National Research Council\", \"Bambino Ges\\u00f9 Children's Hospital\", \"University of Palermo\", \"National Research Council\", \"National Research Council\", \"National Research Council\", \"University of Rome Tor Vergata\", \"University of Chieti-Pescara\", \"University of Rome Tor Vergata\", \"University of Rome Tor Vergata\", \"National Research Council\", \"Istituto Dermopatico dell'Immacolata\", \"Roma Tre University\", \"University of Siena\", \"University of Pavia\", \"University of Milan\", \"Semiconductor Manufacturing International (Italy)\", \"National Research Council\", \"National Institute of Health\", \"University of Siena\", \"University of Rome Tor Vergata\", \"Semiconductor Manufacturing International (Italy)\", \"University of Siena\", \"Magna Graecia University\", \"University of Camerino\", \"Roma Tre University\", \"University of Rome Tor Vergata\", \"University of Rome Tor Vergata\", \"University of Rome Tor Vergata\", \"National Research Council\", \"University of Rome Tor Vergata\", \"National Research Council\", \"University of Rome Tor Vergata\", \"National Institute of Health\", \"University of Rome Tor Vergata\", \"National Research Council\", \"Bambino Ges\\u00f9 Children's Hospital\", \"National Institute of Health\", \"National Institute of Health\", \"National Research Council\", \"Istituto Neurologico Mediterraneo\", \"University of Naples Federico II\", \"University of Milan\", \"University of Pavia\", \"National Research Council\", \"National Research Council\", \"University of Rome Tor Vergata\", \"University of Perugia\", \"University of Rome Tor Vergata\", \"University of Milan\", \"University of Pavia\", \"Catholic University of the Sacred Heart\", \"University of Rome Tor Vergata\", \"University of Bologna\", \"Istituto Nazionale di Riposo e Cura per Anziani\", \"University of Rome Tor Vergata\", \"Magna Graecia University\", \"University of Camerino\", \"Istituti Fisioterapici Ospitalieri\", \"University of Rome Tor Vergata\", \"University of Rome Tor Vergata\", \"National Research Council\", \"Istituto Dermopatico dell'Immacolata\", \"University of Siena\", \"University of Teramo\", \"University of Rome Tor Vergata\", \"Roma Tre University\", \"University of Pavia\", \"University of Milan\", \"Istituto Dermopatico dell'Immacolata\", \"National Research Council\", \"University of Rome Tor Vergata\", \"University of Rome Tor Vergata\", \"University of Rome Tor Vergata\", \"Roma Tre University\", \"Bambino Ges\\u00f9 Children's Hospital\", \"National Research Council\", \"University of Perugia\", \"National Research Council\", \"University of Rome Tor Vergata\", \"University of Rome Tor Vergata\", \"University of Naples Federico II\"], \"yaxis\": \"y\"}, {\"customdata\": [[\"United States\"], [\"United States\"], [\"United States\"], [\"United States\"], [\"United States\"], [\"United States\"], [\"United States\"], [\"United States\"], [\"United States\"], [\"United States\"], [\"United States\"], [\"United States\"], [\"United States\"], [\"United States\"], [\"United States\"], [\"United States\"], [\"United States\"], [\"United States\"], [\"United States\"], [\"United States\"], [\"United States\"], [\"United States\"], [\"United States\"], [\"United States\"], [\"United States\"], [\"United States\"], [\"United States\"], [\"United States\"], [\"United States\"], [\"United States\"], [\"United States\"], [\"United States\"], [\"United States\"], [\"United States\"], [\"United States\"], [\"United States\"], [\"United States\"], [\"United States\"], [\"United States\"], [\"United States\"], [\"United States\"], [\"United States\"], [\"United States\"], [\"United States\"], [\"United States\"], [\"United States\"], [\"United States\"], [\"United States\"], [\"United States\"], [\"United States\"], [\"United States\"], [\"United States\"], [\"United States\"], [\"United States\"], [\"United States\"]], \"hoverlabel\": {\"namelength\": 0}, \"hovertemplate\": \"<b>%{hovertext}</b><br><br>country=%{customdata[0]}<br>year=%{x}<br>assignee_name=%{y}\", \"hovertext\": [\"University of North Carolina at Chapel Hill\", \"University of North Carolina at Chapel Hill\", \"University of Miami\", \"University of North Carolina at Chapel Hill\", \"University of North Carolina at Chapel Hill\", \"University of Miami Health System\", \"University of North Carolina at Chapel Hill\", \"University of Miami\", \"Pacific Northwest Diabetes Research Institute\", \"University of North Carolina System\", \"University of North Carolina at Chapel Hill\", \"University of North Carolina at Chapel Hill\", \"University of North Carolina System\", \"University of Miami\", \"University of North Carolina at Chapel Hill\", \"University of Houston System\", \"University of North Carolina at Chapel Hill\", \"University of North Carolina System\", \"University of North Carolina System\", \"University of Miami\", \"University of North Carolina at Chapel Hill\", \"University of North Carolina at Chapel Hill\", \"University of North Carolina at Chapel Hill\", \"University of North Carolina System\", \"University of North Carolina at Chapel Hill\", \"Pacific Northwest Diabetes Research Institute\", \"University of North Carolina System\", \"University of Miami Health System\", \"University of North Carolina System\", \"University of North Carolina at Chapel Hill\", \"University of North Carolina at Chapel Hill\", \"University of North Carolina System\", \"University of Miami\", \"University of North Carolina at Chapel Hill\", \"University of Miami\", \"Pacific Northwest Diabetes Research Institute\", \"University of North Carolina System\", \"University of Miami Health System\", \"University of North Carolina at Chapel Hill\", \"University of Miami\", \"University of North Carolina System\", \"University of North Carolina at Chapel Hill\", \"University of Houston System\", \"University of Houston System\", \"University of North Carolina System\", \"University of North Carolina at Chapel Hill\", \"University of Miami\", \"University of North Carolina at Chapel Hill\", \"University of Miami\", \"University of North Carolina System\", \"University of North Carolina at Chapel Hill\", \"University of North Carolina at Chapel Hill\", \"University of Miami\", \"University of North Carolina System\", \"Northeastern University\"], \"legendgroup\": \"country=United States\", \"marker\": {\"color\": \"#EF553B\", \"symbol\": \"circle\"}, \"mode\": \"markers\", \"name\": \"country=United States\", \"showlegend\": true, \"type\": \"scatter\", \"uid\": \"84add9cb-3b02-463b-b99f-6c036a14594e\", \"x\": [2018, 2015, 2015, 2018, 2010, 2014, 2014, 2014, 2014, 2016, 2016, 2014, 2014, 2014, 2012, 2014, 2010, 2010, 2014, 2014, 2014, 2018, 2016, 2010, 2010, 2014, 2014, 2014, 2010, 2010, 2010, 2010, 2014, 2014, 2014, 2014, 2014, 2014, 2014, 2015, 2015, 2015, 2014, 2018, 2010, 2016, 2016, 2014, 2014, 2014, 2010, 2015, 2015, 2010, 2018], \"xaxis\": \"x\", \"y\": [\"University of North Carolina at Chapel Hill\", \"University of North Carolina at Chapel Hill\", \"University of Miami\", \"University of North Carolina at Chapel Hill\", \"University of North Carolina at Chapel Hill\", \"University of Miami Health System\", \"University of North Carolina at Chapel Hill\", \"University of Miami\", \"Pacific Northwest Diabetes Research Institute\", \"University of North Carolina System\", \"University of North Carolina at Chapel Hill\", \"University of North Carolina at Chapel Hill\", \"University of North Carolina System\", \"University of Miami\", \"University of North Carolina at Chapel Hill\", \"University of Houston System\", \"University of North Carolina at Chapel Hill\", \"University of North Carolina System\", \"University of North Carolina System\", \"University of Miami\", \"University of North Carolina at Chapel Hill\", \"University of North Carolina at Chapel Hill\", \"University of North Carolina at Chapel Hill\", \"University of North Carolina System\", \"University of North Carolina at Chapel Hill\", \"Pacific Northwest Diabetes Research Institute\", \"University of North Carolina System\", \"University of Miami Health System\", \"University of North Carolina System\", \"University of North Carolina at Chapel Hill\", \"University of North Carolina at Chapel Hill\", \"University of North Carolina System\", \"University of Miami\", \"University of North Carolina at Chapel Hill\", \"University of Miami\", \"Pacific Northwest Diabetes Research Institute\", \"University of North Carolina System\", \"University of Miami Health System\", \"University of North Carolina at Chapel Hill\", \"University of Miami\", \"University of North Carolina System\", \"University of North Carolina at Chapel Hill\", \"University of Houston System\", \"University of Houston System\", \"University of North Carolina System\", \"University of North Carolina at Chapel Hill\", \"University of Miami\", \"University of North Carolina at Chapel Hill\", \"University of Miami\", \"University of North Carolina System\", \"University of North Carolina at Chapel Hill\", \"University of North Carolina at Chapel Hill\", \"University of Miami\", \"University of North Carolina System\", \"Northeastern University\"], \"yaxis\": \"y\"}, {\"customdata\": [[\"France\"], [\"France\"], [\"France\"], [\"France\"], [\"France\"], [\"France\"], [\"France\"], [\"France\"], [\"France\"], [\"France\"], [\"France\"], [\"France\"], [\"France\"], [\"France\"], [\"France\"], [\"France\"], [\"France\"], [\"France\"], [\"France\"], [\"France\"], [\"France\"], [\"France\"], [\"France\"], [\"France\"], [\"France\"], [\"France\"], [\"France\"], [\"France\"], [\"France\"], [\"France\"], [\"France\"], [\"France\"], [\"France\"], [\"France\"], [\"France\"], [\"France\"], [\"France\"], [\"France\"], [\"France\"], [\"France\"], [\"France\"], [\"France\"], [\"France\"], [\"France\"], [\"France\"], [\"France\"], [\"France\"], [\"France\"], [\"France\"], [\"France\"], [\"France\"]], \"hoverlabel\": {\"namelength\": 0}, \"hovertemplate\": \"<b>%{hovertext}</b><br><br>country=%{customdata[0]}<br>year=%{x}<br>assignee_name=%{y}\", \"hovertext\": [\"Veolia (France)\", \"Atomic Energy and Alternative Energies Commission\", \"French National Centre for Scientific Research\", \"University of Picardie Jules Verne\", \"Atomic Energy and Alternative Energies Commission\", \"French National Centre for Scientific Research\", \"University of Picardie Jules Verne\", \"French National Centre for Scientific Research\", \"Pasteur Institute\", \"French Institute of Health and Medical Research\", \"French National Centre for Scientific Research\", \"French National Centre for Scientific Research\", \"University of Picardie Jules Verne\", \"Veolia (France)\", \"French National Centre for Scientific Research\", \"Sorbonne University\", \"Atomic Energy and Alternative Energies Commission\", \"University of Picardie Jules Verne\", \"French National Centre for Scientific Research\", \"Atomic Energy and Alternative Energies Commission\", \"Atomic Energy and Alternative Energies Commission\", \"French National Centre for Scientific Research\", \"University of Picardie Jules Verne\", \"Pasteur Institute\", \"French Institute of Health and Medical Research\", \"Pierre Fabre (France)\", \"French National Centre for Scientific Research\", \"University of Picardie Jules Verne\", \"French National Centre for Scientific Research\", \"University of Picardie Jules Verne\", \"French National Centre for Scientific Research\", \"French National Centre for Scientific Research\", \"Atomic Energy and Alternative Energies Commission\", \"Atomic Energy and Alternative Energies Commission\", \"French National Centre for Scientific Research\", \"Pasteur Institute\", \"French Institute of Health and Medical Research\", \"BioM\\u00e9rieux (France)\", \"Sorbonne University\", \"University of Picardie Jules Verne\", \"French National Centre for Scientific Research\", \"Pierre Fabre (France)\", \"French National Centre for Scientific Research\", \"Atomic Energy and Alternative Energies Commission\", \"French National Centre for Scientific Research\", \"Pierre Fabre (France)\", \"French National Centre for Scientific Research\", \"French National Centre for Scientific Research\", \"University of Picardie Jules Verne\", \"French National Centre for Scientific Research\", \"University of Picardie Jules Verne\"], \"legendgroup\": \"country=France\", \"marker\": {\"color\": \"#00cc96\", \"symbol\": \"circle\"}, \"mode\": \"markers\", \"name\": \"country=France\", \"showlegend\": true, \"type\": \"scatter\", \"uid\": \"61b7d96a-b178-43c6-ba57-6d0abbe21c13\", \"x\": [2015, 2014, 2009, 2009, 2016, 2009, 2009, 1987, 2005, 2005, 1987, 2014, 2014, 2015, 1987, 2014, 2014, 2009, 2009, 2016, 2014, 2014, 2014, 2005, 2005, 2016, 2016, 2009, 2009, 2008, 2008, 1987, 2013, 2015, 1987, 2005, 2005, 2015, 2014, 2009, 2009, 2016, 2016, 2013, 2016, 2016, 1987, 2008, 2008, 2009, 2009], \"xaxis\": \"x\", \"y\": [\"Veolia (France)\", \"Atomic Energy and Alternative Energies Commission\", \"French National Centre for Scientific Research\", \"University of Picardie Jules Verne\", \"Atomic Energy and Alternative Energies Commission\", \"French National Centre for Scientific Research\", \"University of Picardie Jules Verne\", \"French National Centre for Scientific Research\", \"Pasteur Institute\", \"French Institute of Health and Medical Research\", \"French National Centre for Scientific Research\", \"French National Centre for Scientific Research\", \"University of Picardie Jules Verne\", \"Veolia (France)\", \"French National Centre for Scientific Research\", \"Sorbonne University\", \"Atomic Energy and Alternative Energies Commission\", \"University of Picardie Jules Verne\", \"French National Centre for Scientific Research\", \"Atomic Energy and Alternative Energies Commission\", \"Atomic Energy and Alternative Energies Commission\", \"French National Centre for Scientific Research\", \"University of Picardie Jules Verne\", \"Pasteur Institute\", \"French Institute of Health and Medical Research\", \"Pierre Fabre (France)\", \"French National Centre for Scientific Research\", \"University of Picardie Jules Verne\", \"French National Centre for Scientific Research\", \"University of Picardie Jules Verne\", \"French National Centre for Scientific Research\", \"French National Centre for Scientific Research\", \"Atomic Energy and Alternative Energies Commission\", \"Atomic Energy and Alternative Energies Commission\", \"French National Centre for Scientific Research\", \"Pasteur Institute\", \"French Institute of Health and Medical Research\", \"BioM\\u00e9rieux (France)\", \"Sorbonne University\", \"University of Picardie Jules Verne\", \"French National Centre for Scientific Research\", \"Pierre Fabre (France)\", \"French National Centre for Scientific Research\", \"Atomic Energy and Alternative Energies Commission\", \"French National Centre for Scientific Research\", \"Pierre Fabre (France)\", \"French National Centre for Scientific Research\", \"French National Centre for Scientific Research\", \"University of Picardie Jules Verne\", \"French National Centre for Scientific Research\", \"University of Picardie Jules Verne\"], \"yaxis\": \"y\"}, {\"customdata\": [[\"Poland\"], [\"Poland\"], [\"Poland\"], [\"Poland\"], [\"Poland\"], [\"Poland\"], [\"Poland\"], [\"Poland\"], [\"Poland\"], [\"Poland\"], [\"Poland\"]], \"hoverlabel\": {\"namelength\": 0}, \"hovertemplate\": \"<b>%{hovertext}</b><br><br>country=%{customdata[0]}<br>year=%{x}<br>assignee_name=%{y}\", \"hovertext\": [\"Warsaw University of Technology\", \"Warsaw University of Technology\", \"Warsaw University of Technology\", \"Instytut Biologii Do\\u015bwiadczalnej im. Marcelego Nenckiego\", \"Warsaw University of Technology\", \"Warsaw University of Technology\", \"Warsaw University of Technology\", \"Warsaw University of Technology\", \"Warsaw University of Technology\", \"Warsaw University of Technology\", \"Warsaw University of Technology\"], \"legendgroup\": \"country=Poland\", \"marker\": {\"color\": \"#ab63fa\", \"symbol\": \"circle\"}, \"mode\": \"markers\", \"name\": \"country=Poland\", \"showlegend\": true, \"type\": \"scatter\", \"uid\": \"46b90b06-0e83-49a4-92f5-0db57cfdb2b9\", \"x\": [2009, 2009, 2014, 2014, 2009, 2014, 2009, 2008, 2009, 2008, 2009], \"xaxis\": \"x\", \"y\": [\"Warsaw University of Technology\", \"Warsaw University of Technology\", \"Warsaw University of Technology\", \"Instytut Biologii Do\\u015bwiadczalnej im. Marcelego Nenckiego\", \"Warsaw University of Technology\", \"Warsaw University of Technology\", \"Warsaw University of Technology\", \"Warsaw University of Technology\", \"Warsaw University of Technology\", \"Warsaw University of Technology\", \"Warsaw University of Technology\"], \"yaxis\": \"y\"}, {\"customdata\": [[\"Canada\"], [\"Canada\"], [\"Canada\"], [\"Canada\"], [\"Canada\"], [\"Canada\"]], \"hoverlabel\": {\"namelength\": 0}, \"hovertemplate\": \"<b>%{hovertext}</b><br><br>country=%{customdata[0]}<br>year=%{x}<br>assignee_name=%{y}\", \"hovertext\": [\"University of Quebec at Montreal\", \"University of Quebec at Montreal\", \"University of Quebec at Montreal\", \"University of Quebec at Montreal\", \"University of Quebec at Montreal\", \"University of Quebec at Montreal\"], \"legendgroup\": \"country=Canada\", \"marker\": {\"color\": \"#19d3f3\", \"symbol\": \"circle\"}, \"mode\": \"markers\", \"name\": \"country=Canada\", \"showlegend\": true, \"type\": \"scatter\", \"uid\": \"bf2b415e-3629-4b7c-bab1-2dd7ada0a1ea\", \"x\": [2008, 2001, 2001, 2001, 2008, 2001], \"xaxis\": \"x\", \"y\": [\"University of Quebec at Montreal\", \"University of Quebec at Montreal\", \"University of Quebec at Montreal\", \"University of Quebec at Montreal\", \"University of Quebec at Montreal\", \"University of Quebec at Montreal\"], \"yaxis\": \"y\"}, {\"customdata\": [[\"Germany\"], [\"Germany\"], [\"Germany\"], [\"Germany\"], [\"Germany\"], [\"Germany\"], [\"Germany\"], [\"Germany\"], [\"Germany\"], [\"Germany\"], [\"Germany\"], [\"Germany\"], [\"Germany\"]], \"hoverlabel\": {\"namelength\": 0}, \"hovertemplate\": \"<b>%{hovertext}</b><br><br>country=%{customdata[0]}<br>year=%{x}<br>assignee_name=%{y}\", \"hovertext\": [\"Helmholtz Zentrum M\\u00fcnchen\", \"European Molecular Biology Laboratory\", \"European Molecular Biology Laboratory\", \"Centre for Solar Energy and Hydrogen Research Baden-W\\u00fcrttemberg\", \"Martin Luther University Halle-Wittenberg\", \"University of Hohenheim\", \"BioTeSys (Germany)\", \"University of Konstanz\", \"European Molecular Biology Laboratory\", \"Martin Luther University Halle-Wittenberg\", \"University of Hohenheim\", \"University of Konstanz\", \"BioTeSys (Germany)\"], \"legendgroup\": \"country=Germany\", \"marker\": {\"color\": \"#e763fa\", \"symbol\": \"circle\"}, \"mode\": \"markers\", \"name\": \"country=Germany\", \"showlegend\": true, \"type\": \"scatter\", \"uid\": \"ceb9b521-afe9-4c6e-96b1-8642619acb05\", \"x\": [2014, 2005, 2005, 2010, 2014, 2014, 2014, 2014, 2005, 2014, 2014, 2014, 2014], \"xaxis\": \"x\", \"y\": [\"Helmholtz Zentrum M\\u00fcnchen\", \"European Molecular Biology Laboratory\", \"European Molecular Biology Laboratory\", \"Centre for Solar Energy and Hydrogen Research Baden-W\\u00fcrttemberg\", \"Martin Luther University Halle-Wittenberg\", \"University of Hohenheim\", \"BioTeSys (Germany)\", \"University of Konstanz\", \"European Molecular Biology Laboratory\", \"Martin Luther University Halle-Wittenberg\", \"University of Hohenheim\", \"University of Konstanz\", \"BioTeSys (Germany)\"], \"yaxis\": \"y\"}, {\"customdata\": [[\"Czechia\"], [\"Czechia\"], [\"Czechia\"]], \"hoverlabel\": {\"namelength\": 0}, \"hovertemplate\": \"<b>%{hovertext}</b><br><br>country=%{customdata[0]}<br>year=%{x}<br>assignee_name=%{y}\", \"hovertext\": [\"Masaryk University\", \"Masaryk University\", \"Masaryk University\"], \"legendgroup\": \"country=Czechia\", \"marker\": {\"color\": \"#FECB52\", \"symbol\": \"circle\"}, \"mode\": \"markers\", \"name\": \"country=Czechia\", \"showlegend\": true, \"type\": \"scatter\", \"uid\": \"ac7ce7ac-433d-447c-89a5-886ef5b3c423\", \"x\": [2012, 2012, 2012], \"xaxis\": \"x\", \"y\": [\"Masaryk University\", \"Masaryk University\", \"Masaryk University\"], \"yaxis\": \"y\"}, {\"customdata\": [[\"Spain\"], [\"Spain\"], [\"Spain\"], [\"Spain\"], [\"Spain\"], [\"Spain\"]], \"hoverlabel\": {\"namelength\": 0}, \"hovertemplate\": \"<b>%{hovertext}</b><br><br>country=%{customdata[0]}<br>year=%{x}<br>assignee_name=%{y}\", \"hovertext\": [\"Autonomous University of Barcelona\", \"Autonomous University of Barcelona\", \"Autonomous University of Barcelona\", \"University of Zaragoza\", \"Institute of Photonic Sciences\", \"Institute of Photonic Sciences\"], \"legendgroup\": \"country=Spain\", \"marker\": {\"color\": \"#FFA15A\", \"symbol\": \"circle\"}, \"mode\": \"markers\", \"name\": \"country=Spain\", \"showlegend\": true, \"type\": \"scatter\", \"uid\": \"4d8c0e19-292e-446f-85cd-70b89303cbd4\", \"x\": [2012, 2012, 2012, 2015, 2014, 2014], \"xaxis\": \"x\", \"y\": [\"Autonomous University of Barcelona\", \"Autonomous University of Barcelona\", \"Autonomous University of Barcelona\", \"University of Zaragoza\", \"Institute of Photonic Sciences\", \"Institute of Photonic Sciences\"], \"yaxis\": \"y\"}, {\"customdata\": [[\"United Kingdom\"], [\"United Kingdom\"], [\"United Kingdom\"], [\"United Kingdom\"], [\"United Kingdom\"]], \"hoverlabel\": {\"namelength\": 0}, \"hovertemplate\": \"<b>%{hovertext}</b><br><br>country=%{customdata[0]}<br>year=%{x}<br>assignee_name=%{y}\", \"hovertext\": [\"University of Cambridge\", \"Cranfield University\", \"Aston University\", \"Cranfield University\", \"Aston University\"], \"legendgroup\": \"country=United Kingdom\", \"marker\": {\"color\": \"#FF6692\", \"symbol\": \"circle\"}, \"mode\": \"markers\", \"name\": \"country=United Kingdom\", \"showlegend\": true, \"type\": \"scatter\", \"uid\": \"d776659d-bf36-455c-a312-9be977932daa\", \"x\": [2001, 2014, 2014, 2014, 2014], \"xaxis\": \"x\", \"y\": [\"University of Cambridge\", \"Cranfield University\", \"Aston University\", \"Cranfield University\", \"Aston University\"], \"yaxis\": \"y\"}, {\"customdata\": [[\"Denmark\"], [\"Denmark\"], [\"Denmark\"]], \"hoverlabel\": {\"namelength\": 0}, \"hovertemplate\": \"<b>%{hovertext}</b><br><br>country=%{customdata[0]}<br>year=%{x}<br>assignee_name=%{y}\", \"hovertext\": [\"Aarhus University\", \"Aarhus University\", \"Aarhus University\"], \"legendgroup\": \"country=Denmark\", \"marker\": {\"color\": \"#B6E880\", \"symbol\": \"circle\"}, \"mode\": \"markers\", \"name\": \"country=Denmark\", \"showlegend\": true, \"type\": \"scatter\", \"uid\": \"b7a8fd75-8a84-4532-a4c7-ea21340a2248\", \"x\": [2014, 2016, 2014], \"xaxis\": \"x\", \"y\": [\"Aarhus University\", \"Aarhus University\", \"Aarhus University\"], \"yaxis\": \"y\"}, {\"customdata\": [[\"Netherlands\"], [\"Netherlands\"], [\"Netherlands\"], [\"Netherlands\"]], \"hoverlabel\": {\"namelength\": 0}, \"hovertemplate\": \"<b>%{hovertext}</b><br><br>country=%{customdata[0]}<br>year=%{x}<br>assignee_name=%{y}\", \"hovertext\": [\"Erasmus University Medical Center\", \"National Institute for Public Health and the Environment\", \"National Institute for Public Health and the Environment\", \"Erasmus University Medical Center\"], \"legendgroup\": \"country=Netherlands\", \"marker\": {\"color\": \"#636efa\", \"symbol\": \"circle\"}, \"mode\": \"markers\", \"name\": \"country=Netherlands\", \"showlegend\": true, \"type\": \"scatter\", \"uid\": \"b20449f4-b15b-4598-b4fe-9c55f420e0c8\", \"x\": [2014, 2014, 2014, 2014], \"xaxis\": \"x\", \"y\": [\"Erasmus University Medical Center\", \"National Institute for Public Health and the Environment\", \"National Institute for Public Health and the Environment\", \"Erasmus University Medical Center\"], \"yaxis\": \"y\"}, {\"customdata\": [[\"Greece\"]], \"hoverlabel\": {\"namelength\": 0}, \"hovertemplate\": \"<b>%{hovertext}</b><br><br>country=%{customdata[0]}<br>year=%{x}<br>assignee_name=%{y}\", \"hovertext\": [\"National Hellenic Research Foundation\"], \"legendgroup\": \"country=Greece\", \"marker\": {\"color\": \"#EF553B\", \"symbol\": \"circle\"}, \"mode\": \"markers\", \"name\": \"country=Greece\", \"showlegend\": true, \"type\": \"scatter\", \"uid\": \"09c0e30b-0c88-4369-a851-8d91a00a8417\", \"x\": [2014], \"xaxis\": \"x\", \"y\": [\"National Hellenic Research Foundation\"], \"yaxis\": \"y\"}, {\"customdata\": [[\"Finland\"], [\"Finland\"]], \"hoverlabel\": {\"namelength\": 0}, \"hovertemplate\": \"<b>%{hovertext}</b><br><br>country=%{customdata[0]}<br>year=%{x}<br>assignee_name=%{y}\", \"hovertext\": [\"University of Tampere\", \"University of Tampere\"], \"legendgroup\": \"country=Finland\", \"marker\": {\"color\": \"#00cc96\", \"symbol\": \"circle\"}, \"mode\": \"markers\", \"name\": \"country=Finland\", \"showlegend\": true, \"type\": \"scatter\", \"uid\": \"4b200535-73a3-4956-9ca5-f484989b1172\", \"x\": [2014, 2014], \"xaxis\": \"x\", \"y\": [\"University of Tampere\", \"University of Tampere\"], \"yaxis\": \"y\"}, {\"customdata\": [[\"Austria\"], [\"Austria\"]], \"hoverlabel\": {\"namelength\": 0}, \"hovertemplate\": \"<b>%{hovertext}</b><br><br>country=%{customdata[0]}<br>year=%{x}<br>assignee_name=%{y}\", \"hovertext\": [\"University of Innsbruck\", \"University of Innsbruck\"], \"legendgroup\": \"country=Austria\", \"marker\": {\"color\": \"#ab63fa\", \"symbol\": \"circle\"}, \"mode\": \"markers\", \"name\": \"country=Austria\", \"showlegend\": true, \"type\": \"scatter\", \"uid\": \"b9bba7ac-a73c-4aec-9180-76c68058118c\", \"x\": [2014, 2014], \"xaxis\": \"x\", \"y\": [\"University of Innsbruck\", \"University of Innsbruck\"], \"yaxis\": \"y\"}, {\"customdata\": [[\"Belgium\"], [\"Belgium\"], [\"Belgium\"], [\"Belgium\"]], \"hoverlabel\": {\"namelength\": 0}, \"hovertemplate\": \"<b>%{hovertext}</b><br><br>country=%{customdata[0]}<br>year=%{x}<br>assignee_name=%{y}\", \"hovertext\": [\"University of Namur\", \"Flanders Institute for Biotechnology\", \"Flanders Institute for Biotechnology\", \"University of Namur\"], \"legendgroup\": \"country=Belgium\", \"marker\": {\"color\": \"#19d3f3\", \"symbol\": \"circle\"}, \"mode\": \"markers\", \"name\": \"country=Belgium\", \"showlegend\": true, \"type\": \"scatter\", \"uid\": \"e381c4c3-4730-4caf-be0b-75b26b1dcb29\", \"x\": [2014, 2014, 2014, 2014], \"xaxis\": \"x\", \"y\": [\"University of Namur\", \"Flanders Institute for Biotechnology\", \"Flanders Institute for Biotechnology\", \"University of Namur\"], \"yaxis\": \"y\"}, {\"customdata\": [[\"Switzerland\"], [\"Switzerland\"], [\"Switzerland\"], [\"Switzerland\"], [\"Switzerland\"]], \"hoverlabel\": {\"namelength\": 0}, \"hovertemplate\": \"<b>%{hovertext}</b><br><br>country=%{customdata[0]}<br>year=%{x}<br>assignee_name=%{y}\", \"hovertext\": [\"Nestl\\u00e9 (Switzerland)\", \"Paul Scherrer Institute\", \"Nestl\\u00e9 (Switzerland)\", \"Paul Scherrer Institute\", \"Paul Scherrer Institute\"], \"legendgroup\": \"country=Switzerland\", \"marker\": {\"color\": \"#e763fa\", \"symbol\": \"circle\"}, \"mode\": \"markers\", \"name\": \"country=Switzerland\", \"showlegend\": true, \"type\": \"scatter\", \"uid\": \"75cc9814-cd4c-42d9-9bd9-94b1af7dca57\", \"x\": [2014, 2016, 2014, 2017, 2017], \"xaxis\": \"x\", \"y\": [\"Nestl\\u00e9 (Switzerland)\", \"Paul Scherrer Institute\", \"Nestl\\u00e9 (Switzerland)\", \"Paul Scherrer Institute\", \"Paul Scherrer Institute\"], \"yaxis\": \"y\"}, {\"customdata\": [[\"Portugal\"]], \"hoverlabel\": {\"namelength\": 0}, \"hovertemplate\": \"<b>%{hovertext}</b><br><br>country=%{customdata[0]}<br>year=%{x}<br>assignee_name=%{y}\", \"hovertext\": [\"Instituto de Telecomunica\\u00e7\\u00f5es\"], \"legendgroup\": \"country=Portugal\", \"marker\": {\"color\": \"#FECB52\", \"symbol\": \"circle\"}, \"mode\": \"markers\", \"name\": \"country=Portugal\", \"showlegend\": true, \"type\": \"scatter\", \"uid\": \"e519a5c3-2d06-4d6c-ba4b-e45497419ec3\", \"x\": [1987], \"xaxis\": \"x\", \"y\": [\"Instituto de Telecomunica\\u00e7\\u00f5es\"], \"yaxis\": \"y\"}, {\"customdata\": [[\"Singapore\"], [\"Singapore\"]], \"hoverlabel\": {\"namelength\": 0}, \"hovertemplate\": \"<b>%{hovertext}</b><br><br>country=%{customdata[0]}<br>year=%{x}<br>assignee_name=%{y}\", \"hovertext\": [\"National University of Singapore\", \"National University of Singapore\"], \"legendgroup\": \"country=Singapore\", \"marker\": {\"color\": \"#FFA15A\", \"symbol\": \"circle\"}, \"mode\": \"markers\", \"name\": \"country=Singapore\", \"showlegend\": true, \"type\": \"scatter\", \"uid\": \"0ad72ad7-c8e1-45f2-b787-097d62982ab8\", \"x\": [2014, 2014], \"xaxis\": \"x\", \"y\": [\"National University of Singapore\", \"National University of Singapore\"], \"yaxis\": \"y\"}, {\"customdata\": [[\"Brazil\"], [\"Brazil\"]], \"hoverlabel\": {\"namelength\": 0}, \"hovertemplate\": \"<b>%{hovertext}</b><br><br>country=%{customdata[0]}<br>year=%{x}<br>assignee_name=%{y}\", \"hovertext\": [\"Federal University of Rio de Janeiro\", \"Federal University of Rio de Janeiro\"], \"legendgroup\": \"country=Brazil\", \"marker\": {\"color\": \"#FF6692\", \"symbol\": \"circle\"}, \"mode\": \"markers\", \"name\": \"country=Brazil\", \"showlegend\": true, \"type\": \"scatter\", \"uid\": \"e13eeaa8-8206-43cc-a98b-79df022f262b\", \"x\": [2014, 2014], \"xaxis\": \"x\", \"y\": [\"Federal University of Rio de Janeiro\", \"Federal University of Rio de Janeiro\"], \"yaxis\": \"y\"}, {\"customdata\": [[\"China\"]], \"hoverlabel\": {\"namelength\": 0}, \"hovertemplate\": \"<b>%{hovertext}</b><br><br>country=%{customdata[0]}<br>year=%{x}<br>assignee_name=%{y}\", \"hovertext\": [\"Northeastern University\"], \"legendgroup\": \"country=China\", \"marker\": {\"color\": \"#B6E880\", \"symbol\": \"circle\"}, \"mode\": \"markers\", \"name\": \"country=China\", \"showlegend\": true, \"type\": \"scatter\", \"uid\": \"19bc9a49-15e2-4a8a-9f28-3eaf601f8736\", \"x\": [2018], \"xaxis\": \"x\", \"y\": [\"Northeastern University\"], \"yaxis\": \"y\"}],\n",
       "                        {\"grid\": {\"xaxes\": [\"x\"], \"xgap\": 0.1, \"xside\": \"bottom\", \"yaxes\": [\"y\"], \"ygap\": 0.1, \"yside\": \"left\"}, \"height\": 600, \"legend\": {\"tracegroupgap\": 0}, \"margin\": {\"t\": 60}, \"template\": {\"data\": {\"bar\": [{\"marker\": {\"line\": {\"color\": \"#E5ECF6\", \"width\": 0.5}}, \"type\": \"bar\"}], \"barpolar\": [{\"marker\": {\"line\": {\"color\": \"#E5ECF6\", \"width\": 0.5}}, \"type\": \"barpolar\"}], \"carpet\": [{\"aaxis\": {\"endlinecolor\": \"#2a3f5f\", \"gridcolor\": \"white\", \"linecolor\": \"white\", \"minorgridcolor\": \"white\", \"startlinecolor\": \"#2a3f5f\"}, \"baxis\": {\"endlinecolor\": \"#2a3f5f\", \"gridcolor\": \"white\", \"linecolor\": \"white\", \"minorgridcolor\": \"white\", \"startlinecolor\": \"#2a3f5f\"}, \"type\": \"carpet\"}], \"choropleth\": [{\"colorbar\": {\"outlinewidth\": 0, \"ticks\": \"\"}, \"type\": \"choropleth\"}], \"contour\": [{\"colorbar\": {\"outlinewidth\": 0, \"ticks\": \"\"}, \"colorscale\": [[0.0, \"#0508b8\"], [0.0893854748603352, \"#1910d8\"], [0.1787709497206704, \"#3c19f0\"], [0.2681564245810056, \"#6b1cfb\"], [0.3575418994413408, \"#981cfd\"], [0.44692737430167595, \"#bf1cfd\"], [0.5363128491620112, \"#dd2bfd\"], [0.6256983240223464, \"#f246fe\"], [0.7150837988826816, \"#fc67fd\"], [0.8044692737430168, \"#fe88fc\"], [0.8938547486033519, \"#fea5fd\"], [0.9832402234636871, \"#febefe\"], [1.0, \"#fec3fe\"]], \"type\": \"contour\"}], \"contourcarpet\": [{\"colorbar\": {\"outlinewidth\": 0, \"ticks\": \"\"}, \"type\": \"contourcarpet\"}], \"heatmap\": [{\"colorbar\": {\"outlinewidth\": 0, \"ticks\": \"\"}, \"colorscale\": [[0.0, \"#0508b8\"], [0.0893854748603352, \"#1910d8\"], [0.1787709497206704, \"#3c19f0\"], [0.2681564245810056, \"#6b1cfb\"], [0.3575418994413408, \"#981cfd\"], [0.44692737430167595, \"#bf1cfd\"], [0.5363128491620112, \"#dd2bfd\"], [0.6256983240223464, \"#f246fe\"], [0.7150837988826816, \"#fc67fd\"], [0.8044692737430168, \"#fe88fc\"], [0.8938547486033519, \"#fea5fd\"], [0.9832402234636871, \"#febefe\"], [1.0, \"#fec3fe\"]], \"type\": \"heatmap\"}], \"heatmapgl\": [{\"colorbar\": {\"outlinewidth\": 0, \"ticks\": \"\"}, \"type\": \"heatmapgl\"}], \"histogram\": [{\"marker\": {\"colorbar\": {\"outlinewidth\": 0, \"ticks\": \"\"}}, \"type\": \"histogram\"}], \"histogram2d\": [{\"colorbar\": {\"outlinewidth\": 0, \"ticks\": \"\"}, \"colorscale\": [[0.0, \"#0508b8\"], [0.0893854748603352, \"#1910d8\"], [0.1787709497206704, \"#3c19f0\"], [0.2681564245810056, \"#6b1cfb\"], [0.3575418994413408, \"#981cfd\"], [0.44692737430167595, \"#bf1cfd\"], [0.5363128491620112, \"#dd2bfd\"], [0.6256983240223464, \"#f246fe\"], [0.7150837988826816, \"#fc67fd\"], [0.8044692737430168, \"#fe88fc\"], [0.8938547486033519, \"#fea5fd\"], [0.9832402234636871, \"#febefe\"], [1.0, \"#fec3fe\"]], \"type\": \"histogram2d\"}], \"histogram2dcontour\": [{\"colorbar\": {\"outlinewidth\": 0, \"ticks\": \"\"}, \"colorscale\": [[0.0, \"#0508b8\"], [0.0893854748603352, \"#1910d8\"], [0.1787709497206704, \"#3c19f0\"], [0.2681564245810056, \"#6b1cfb\"], [0.3575418994413408, \"#981cfd\"], [0.44692737430167595, \"#bf1cfd\"], [0.5363128491620112, \"#dd2bfd\"], [0.6256983240223464, \"#f246fe\"], [0.7150837988826816, \"#fc67fd\"], [0.8044692737430168, \"#fe88fc\"], [0.8938547486033519, \"#fea5fd\"], [0.9832402234636871, \"#febefe\"], [1.0, \"#fec3fe\"]], \"type\": \"histogram2dcontour\"}], \"mesh3d\": [{\"colorbar\": {\"outlinewidth\": 0, \"ticks\": \"\"}, \"type\": \"mesh3d\"}], \"parcoords\": [{\"line\": {\"colorbar\": {\"outlinewidth\": 0, \"ticks\": \"\"}}, \"type\": \"parcoords\"}], \"scatter\": [{\"marker\": {\"colorbar\": {\"outlinewidth\": 0, \"ticks\": \"\"}}, \"type\": \"scatter\"}], \"scatter3d\": [{\"marker\": {\"colorbar\": {\"outlinewidth\": 0, \"ticks\": \"\"}}, \"type\": \"scatter3d\"}], \"scattercarpet\": [{\"marker\": {\"colorbar\": {\"outlinewidth\": 0, \"ticks\": \"\"}}, \"type\": \"scattercarpet\"}], \"scattergeo\": [{\"marker\": {\"colorbar\": {\"outlinewidth\": 0, \"ticks\": \"\"}}, \"type\": \"scattergeo\"}], \"scattergl\": [{\"marker\": {\"colorbar\": {\"outlinewidth\": 0, \"ticks\": \"\"}}, \"type\": \"scattergl\"}], \"scattermapbox\": [{\"marker\": {\"colorbar\": {\"outlinewidth\": 0, \"ticks\": \"\"}}, \"type\": \"scattermapbox\"}], \"scatterpolar\": [{\"marker\": {\"colorbar\": {\"outlinewidth\": 0, \"ticks\": \"\"}}, \"type\": \"scatterpolar\"}], \"scatterpolargl\": [{\"marker\": {\"colorbar\": {\"outlinewidth\": 0, \"ticks\": \"\"}}, \"type\": \"scatterpolargl\"}], \"scatterternary\": [{\"marker\": {\"colorbar\": {\"outlinewidth\": 0, \"ticks\": \"\"}}, \"type\": \"scatterternary\"}], \"surface\": [{\"colorbar\": {\"outlinewidth\": 0, \"ticks\": \"\"}, \"type\": \"surface\"}], \"table\": [{\"cells\": {\"fill\": {\"color\": \"#EBF0F8\"}, \"line\": {\"color\": \"white\"}}, \"header\": {\"fill\": {\"color\": \"#C8D4E3\"}, \"line\": {\"color\": \"white\"}}, \"type\": \"table\"}]}, \"layout\": {\"annotationdefaults\": {\"arrowcolor\": \"#506784\", \"arrowhead\": 0, \"arrowwidth\": 1}, \"colorscale\": {\"diverging\": [[0, \"#8e0152\"], [0.1, \"#c51b7d\"], [0.2, \"#de77ae\"], [0.3, \"#f1b6da\"], [0.4, \"#fde0ef\"], [0.5, \"#f7f7f7\"], [0.6, \"#e6f5d0\"], [0.7, \"#b8e186\"], [0.8, \"#7fbc41\"], [0.9, \"#4d9221\"], [1, \"#276419\"]], \"sequential\": [[0.0, \"#0508b8\"], [0.0893854748603352, \"#1910d8\"], [0.1787709497206704, \"#3c19f0\"], [0.2681564245810056, \"#6b1cfb\"], [0.3575418994413408, \"#981cfd\"], [0.44692737430167595, \"#bf1cfd\"], [0.5363128491620112, \"#dd2bfd\"], [0.6256983240223464, \"#f246fe\"], [0.7150837988826816, \"#fc67fd\"], [0.8044692737430168, \"#fe88fc\"], [0.8938547486033519, \"#fea5fd\"], [0.9832402234636871, \"#febefe\"], [1.0, \"#fec3fe\"]], \"sequentialminus\": [[0.0, \"#0508b8\"], [0.0893854748603352, \"#1910d8\"], [0.1787709497206704, \"#3c19f0\"], [0.2681564245810056, \"#6b1cfb\"], [0.3575418994413408, \"#981cfd\"], [0.44692737430167595, \"#bf1cfd\"], [0.5363128491620112, \"#dd2bfd\"], [0.6256983240223464, \"#f246fe\"], [0.7150837988826816, \"#fc67fd\"], [0.8044692737430168, \"#fe88fc\"], [0.8938547486033519, \"#fea5fd\"], [0.9832402234636871, \"#febefe\"], [1.0, \"#fec3fe\"]]}, \"colorway\": [\"#636efa\", \"#EF553B\", \"#00cc96\", \"#ab63fa\", \"#19d3f3\", \"#e763fa\", \"#FECB52\", \"#FFA15A\", \"#FF6692\", \"#B6E880\"], \"font\": {\"color\": \"#2a3f5f\"}, \"geo\": {\"bgcolor\": \"white\", \"lakecolor\": \"white\", \"landcolor\": \"#E5ECF6\", \"showlakes\": true, \"showland\": true, \"subunitcolor\": \"white\"}, \"hoverlabel\": {\"align\": \"left\"}, \"hovermode\": \"closest\", \"mapbox\": {\"style\": \"light\"}, \"paper_bgcolor\": \"white\", \"plot_bgcolor\": \"#E5ECF6\", \"polar\": {\"angularaxis\": {\"gridcolor\": \"white\", \"linecolor\": \"white\", \"ticks\": \"\"}, \"bgcolor\": \"#E5ECF6\", \"radialaxis\": {\"gridcolor\": \"white\", \"linecolor\": \"white\", \"ticks\": \"\"}}, \"scene\": {\"xaxis\": {\"backgroundcolor\": \"#E5ECF6\", \"gridcolor\": \"white\", \"gridwidth\": 2, \"linecolor\": \"white\", \"showbackground\": true, \"ticks\": \"\", \"zerolinecolor\": \"white\"}, \"yaxis\": {\"backgroundcolor\": \"#E5ECF6\", \"gridcolor\": \"white\", \"gridwidth\": 2, \"linecolor\": \"white\", \"showbackground\": true, \"ticks\": \"\", \"zerolinecolor\": \"white\"}, \"zaxis\": {\"backgroundcolor\": \"#E5ECF6\", \"gridcolor\": \"white\", \"gridwidth\": 2, \"linecolor\": \"white\", \"showbackground\": true, \"ticks\": \"\", \"zerolinecolor\": \"white\"}}, \"shapedefaults\": {\"fillcolor\": \"#506784\", \"line\": {\"width\": 0}, \"opacity\": 0.4}, \"ternary\": {\"aaxis\": {\"gridcolor\": \"white\", \"linecolor\": \"white\", \"ticks\": \"\"}, \"baxis\": {\"gridcolor\": \"white\", \"linecolor\": \"white\", \"ticks\": \"\"}, \"bgcolor\": \"#E5ECF6\", \"caxis\": {\"gridcolor\": \"white\", \"linecolor\": \"white\", \"ticks\": \"\"}}, \"title\": {\"x\": 0.05}, \"xaxis\": {\"automargin\": true, \"gridcolor\": \"white\", \"linecolor\": \"white\", \"ticks\": \"\", \"zerolinecolor\": \"white\", \"zerolinewidth\": 2}, \"yaxis\": {\"automargin\": true, \"gridcolor\": \"white\", \"linecolor\": \"white\", \"ticks\": \"\", \"zerolinecolor\": \"white\", \"zerolinewidth\": 2}}}, \"xaxis\": {\"title\": {\"text\": \"year\"}}, \"yaxis\": {\"title\": {\"text\": \"assignee_name\"}}},\n",
       "                        {\"showLink\": false, \"linkText\": \"Export to plot.ly\", \"plotlyServerURL\": \"https://plot.ly\", \"responsive\": true}\n",
       "                    ).then(function(){\n",
       "                            \n",
       "var gd = document.getElementById('ceeea2c4-4c79-4777-ab8e-990dbd1d5393');\n",
       "var x = new MutationObserver(function (mutations, observer) {{\n",
       "        var display = window.getComputedStyle(gd).display;\n",
       "        if (!display || display === 'none') {{\n",
       "            console.log([gd, 'removed!']);\n",
       "            Plotly.purge(gd);\n",
       "            observer.disconnect();\n",
       "        }}\n",
       "}});\n",
       "\n",
       "// Listen for the removal of the full notebook cells\n",
       "var notebookContainer = gd.closest('#notebook-container');\n",
       "if (notebookContainer) {{\n",
       "    x.observe(notebookContainer, {childList: true});\n",
       "}}\n",
       "\n",
       "// Listen for the clearing of the current output cell\n",
       "var outputEl = gd.closest('.output');\n",
       "if (outputEl) {{\n",
       "    x.observe(outputEl, {childList: true});\n",
       "}}\n",
       "\n",
       "                        })\n",
       "                };\n",
       "                });\n",
       "            </script>\n",
       "        </div>"
      ]
     },
     "metadata": {},
     "output_type": "display_data"
    }
   ],
   "source": [
    "px.scatter(df2, x=\"year\", y=\"assignee_name\", height=600,\n",
    "           color=\"country\", hover_name=\"assignee_name\", hover_data=['country'])"
   ]
  },
  {
   "cell_type": "markdown",
   "metadata": {},
   "source": [
    "# Patents citing publications from Rome"
   ]
  },
  {
   "cell_type": "markdown",
   "metadata": {},
   "source": [
    "Get a list of relevant publications - we don't take any recent publications as it's unlikely it'll be cited in patents!"
   ]
  },
  {
   "cell_type": "code",
   "execution_count": 80,
   "metadata": {},
   "outputs": [
    {
     "name": "stdout",
     "output_type": "stream",
     "text": [
      "1000 / 33729\n",
      "2000 / 33729\n",
      "3000 / 33729\n",
      "4000 / 33729\n",
      "5000 / 33729\n",
      "6000 / 33729\n",
      "7000 / 33729\n",
      "8000 / 33729\n",
      "9000 / 33729\n",
      "10000 / 33729\n",
      "11000 / 33729\n",
      "12000 / 33729\n",
      "13000 / 33729\n",
      "14000 / 33729\n",
      "15000 / 33729\n",
      "16000 / 33729\n",
      "17000 / 33729\n",
      "18000 / 33729\n",
      "19000 / 33729\n",
      "20000 / 33729\n",
      "21000 / 33729\n",
      "22000 / 33729\n",
      "23000 / 33729\n",
      "24000 / 33729\n",
      "25000 / 33729\n",
      "26000 / 33729\n",
      "27000 / 33729\n",
      "28000 / 33729\n",
      "29000 / 33729\n",
      "30000 / 33729\n",
      "31000 / 33729\n",
      "32000 / 33729\n",
      "33000 / 33729\n",
      "33729 / 33729\n"
     ]
    }
   ],
   "source": [
    "pubs = dslqueryall(f\"\"\"search publications where research_orgs.id=\"{GRIDID}\" and year in [2010:2015] return publications[basics]\"\"\")"
   ]
  },
  {
   "cell_type": "code",
   "execution_count": 81,
   "metadata": {},
   "outputs": [],
   "source": [
    "dfpubs = pubs.as_dataframe()"
   ]
  },
  {
   "cell_type": "markdown",
   "metadata": {},
   "source": [
    "Now extract all patents linked to the publications dataset previously created\n",
    "\n",
    "Note: the patents query goes like this: `search patents where publication_ids in [\"pub.1111511314\", ...] return patents`"
   ]
  },
  {
   "cell_type": "code",
   "execution_count": 83,
   "metadata": {},
   "outputs": [
    {
     "name": "stdout",
     "output_type": "stream",
     "text": [
      "Returned Patents: 4 (total = 4)\n",
      "[log] Scanned publications:  400  > Tot Patents found:  4\n",
      "Returned Patents: 5 (total = 5)\n",
      "[log] Scanned publications:  800  > Tot Patents found:  5\n",
      "Returned Patents: 2 (total = 2)\n",
      "[log] Scanned publications:  1200  > Tot Patents found:  2\n",
      "Returned Patents: 2 (total = 2)\n",
      "[log] Scanned publications:  1600  > Tot Patents found:  2\n",
      "Returned Patents: 2 (total = 2)\n",
      "[log] Scanned publications:  2000  > Tot Patents found:  2\n",
      "Returned Patents: 2 (total = 2)\n",
      "[log] Scanned publications:  2400  > Tot Patents found:  2\n",
      "Returned Patents: 2 (total = 2)\n",
      "[log] Scanned publications:  2800  > Tot Patents found:  2\n",
      "Returned Patents: 4 (total = 4)\n",
      "[log] Scanned publications:  3200  > Tot Patents found:  4\n",
      "Returned Patents: 1 (total = 1)\n",
      "[log] Scanned publications:  3600  > Tot Patents found:  1\n",
      "Returned Patents: 1 (total = 1)\n",
      "[log] Scanned publications:  4000  > Tot Patents found:  1\n",
      "Returned Patents: 7 (total = 7)\n",
      "[log] Scanned publications:  4400  > Tot Patents found:  7\n",
      "Returned Patents: 5 (total = 5)\n",
      "[log] Scanned publications:  4800  > Tot Patents found:  5\n",
      "Returned Patents: 4 (total = 4)\n",
      "[log] Scanned publications:  5200  > Tot Patents found:  4\n",
      "Returned Patents: 1 (total = 1)\n",
      "[log] Scanned publications:  5600  > Tot Patents found:  1\n",
      "Returned Patents: 11 (total = 11)\n",
      "[log] Scanned publications:  6000  > Tot Patents found:  11\n",
      "Returned Patents: 9 (total = 9)\n",
      "[log] Scanned publications:  6400  > Tot Patents found:  9\n",
      "Returned Patents: 1 (total = 1)\n",
      "[log] Scanned publications:  6800  > Tot Patents found:  1\n",
      "Returned Patents: 3 (total = 3)\n",
      "[log] Scanned publications:  7200  > Tot Patents found:  3\n",
      "Returned Patents: 3 (total = 3)\n",
      "[log] Scanned publications:  7600  > Tot Patents found:  3\n",
      "Returned Patents: 10 (total = 10)\n",
      "[log] Scanned publications:  8000  > Tot Patents found:  10\n",
      "Returned Patents: 2 (total = 2)\n",
      "[log] Scanned publications:  8400  > Tot Patents found:  2\n",
      "Returned Patents: 15 (total = 15)\n",
      "[log] Scanned publications:  8800  > Tot Patents found:  15\n",
      "Returned Patents: 17 (total = 17)\n",
      "[log] Scanned publications:  9200  > Tot Patents found:  17\n",
      "Returned Patents: 11 (total = 11)\n",
      "[log] Scanned publications:  9600  > Tot Patents found:  11\n",
      "Returned Patents: 8 (total = 8)\n",
      "[log] Scanned publications:  10000  > Tot Patents found:  8\n",
      "Returned Patents: 5 (total = 5)\n",
      "[log] Scanned publications:  10400  > Tot Patents found:  5\n",
      "Returned Patents: 5 (total = 5)\n",
      "[log] Scanned publications:  10800  > Tot Patents found:  5\n",
      "Returned Patents: 4 (total = 4)\n",
      "[log] Scanned publications:  11200  > Tot Patents found:  4\n",
      "Returned Patents: 5 (total = 5)\n",
      "[log] Scanned publications:  11600  > Tot Patents found:  5\n",
      "Returned Patents: 10 (total = 10)\n",
      "[log] Scanned publications:  12000  > Tot Patents found:  10\n",
      "Returned Patents: 4 (total = 4)\n",
      "[log] Scanned publications:  12400  > Tot Patents found:  4\n",
      "Returned Patents: 4 (total = 4)\n",
      "[log] Scanned publications:  12800  > Tot Patents found:  4\n",
      "Returned Patents: 2 (total = 2)\n",
      "[log] Scanned publications:  13200  > Tot Patents found:  2\n",
      "Returned Patents: 1 (total = 1)\n",
      "[log] Scanned publications:  13600  > Tot Patents found:  1\n",
      "Returned Patents: 14 (total = 14)\n",
      "[log] Scanned publications:  14000  > Tot Patents found:  14\n",
      "Returned Patents: 55 (total = 55)\n",
      "[log] Scanned publications:  14400  > Tot Patents found:  55\n",
      "Returned Patents: 8 (total = 8)\n",
      "[log] Scanned publications:  14800  > Tot Patents found:  8\n",
      "Returned Patents: 5 (total = 5)\n",
      "[log] Scanned publications:  15200  > Tot Patents found:  5\n",
      "Returned Patents: 21 (total = 21)\n",
      "[log] Scanned publications:  15600  > Tot Patents found:  21\n",
      "Returned Patents: 49 (total = 49)\n",
      "[log] Scanned publications:  16000  > Tot Patents found:  49\n",
      "Returned Patents: 5 (total = 5)\n",
      "[log] Scanned publications:  16400  > Tot Patents found:  5\n",
      "Returned Patents: 10 (total = 10)\n",
      "[log] Scanned publications:  16800  > Tot Patents found:  10\n",
      "Returned Patents: 15 (total = 15)\n",
      "[log] Scanned publications:  17200  > Tot Patents found:  15\n",
      "Returned Patents: 4 (total = 4)\n",
      "[log] Scanned publications:  17600  > Tot Patents found:  4\n",
      "Returned Patents: 40 (total = 40)\n",
      "[log] Scanned publications:  18000  > Tot Patents found:  40\n",
      "Returned Patents: 4 (total = 4)\n",
      "[log] Scanned publications:  18400  > Tot Patents found:  4\n",
      "Returned Patents: 28 (total = 28)\n",
      "[log] Scanned publications:  18800  > Tot Patents found:  28\n",
      "Returned Patents: 2 (total = 2)\n",
      "[log] Scanned publications:  19200  > Tot Patents found:  2\n",
      "Returned Patents: 4 (total = 4)\n",
      "[log] Scanned publications:  19600  > Tot Patents found:  4\n",
      "Returned Patents: 25 (total = 25)\n",
      "[log] Scanned publications:  20000  > Tot Patents found:  25\n",
      "Returned Patents: 18 (total = 18)\n",
      "[log] Scanned publications:  20400  > Tot Patents found:  18\n",
      "Returned Patents: 30 (total = 30)\n",
      "[log] Scanned publications:  20800  > Tot Patents found:  30\n",
      "Returned Patents: 11 (total = 11)\n",
      "[log] Scanned publications:  21200  > Tot Patents found:  11\n",
      "Returned Patents: 42 (total = 42)\n",
      "[log] Scanned publications:  21600  > Tot Patents found:  42\n",
      "Returned Patents: 17 (total = 17)\n",
      "[log] Scanned publications:  22000  > Tot Patents found:  17\n",
      "Returned Patents: 14 (total = 14)\n",
      "[log] Scanned publications:  22400  > Tot Patents found:  14\n",
      "Returned Patents: 46 (total = 46)\n",
      "[log] Scanned publications:  22800  > Tot Patents found:  46\n",
      "Returned Patents: 10 (total = 10)\n",
      "[log] Scanned publications:  23200  > Tot Patents found:  10\n",
      "Returned Patents: 31 (total = 31)\n",
      "[log] Scanned publications:  23600  > Tot Patents found:  31\n",
      "Returned Patents: 26 (total = 26)\n",
      "[log] Scanned publications:  24000  > Tot Patents found:  26\n",
      "Returned Patents: 20 (total = 20)\n",
      "[log] Scanned publications:  24400  > Tot Patents found:  20\n",
      "Returned Patents: 18 (total = 18)\n",
      "[log] Scanned publications:  24800  > Tot Patents found:  18\n",
      "Returned Patents: 19 (total = 19)\n",
      "[log] Scanned publications:  25200  > Tot Patents found:  19\n",
      "Returned Patents: 21 (total = 21)\n",
      "[log] Scanned publications:  25600  > Tot Patents found:  21\n",
      "Returned Patents: 29 (total = 29)\n",
      "[log] Scanned publications:  26000  > Tot Patents found:  29\n",
      "Returned Patents: 28 (total = 28)\n",
      "[log] Scanned publications:  26400  > Tot Patents found:  28\n",
      "Returned Patents: 28 (total = 28)\n",
      "[log] Scanned publications:  26800  > Tot Patents found:  28\n",
      "Returned Patents: 24 (total = 24)\n",
      "[log] Scanned publications:  27200  > Tot Patents found:  24\n",
      "Returned Patents: 62 (total = 62)\n",
      "[log] Scanned publications:  27600  > Tot Patents found:  62\n",
      "Returned Patents: 39 (total = 39)\n",
      "[log] Scanned publications:  28000  > Tot Patents found:  39\n",
      "Returned Patents: 22 (total = 22)\n",
      "[log] Scanned publications:  28400  > Tot Patents found:  22\n",
      "Returned Patents: 9 (total = 9)\n",
      "[log] Scanned publications:  28800  > Tot Patents found:  9\n",
      "Returned Patents: 37 (total = 37)\n",
      "[log] Scanned publications:  29200  > Tot Patents found:  37\n",
      "Returned Patents: 14 (total = 14)\n",
      "[log] Scanned publications:  29600  > Tot Patents found:  14\n",
      "Returned Patents: 27 (total = 27)\n",
      "[log] Scanned publications:  30000  > Tot Patents found:  27\n",
      "Returned Patents: 20 (total = 20)\n",
      "[log] Scanned publications:  30400  > Tot Patents found:  20\n",
      "Returned Patents: 21 (total = 21)\n",
      "[log] Scanned publications:  30800  > Tot Patents found:  21\n",
      "Returned Patents: 18 (total = 18)\n",
      "[log] Scanned publications:  31200  > Tot Patents found:  18\n",
      "Returned Patents: 101 (total = 101)\n",
      "[log] Scanned publications:  31600  > Tot Patents found:  101\n",
      "Returned Patents: 37 (total = 37)\n",
      "[log] Scanned publications:  32000  > Tot Patents found:  37\n",
      "Returned Patents: 76 (total = 76)\n",
      "[log] Scanned publications:  32400  > Tot Patents found:  76\n",
      "Returned Patents: 89 (total = 89)\n",
      "[log] Scanned publications:  32800  > Tot Patents found:  89\n",
      "Returned Patents: 28 (total = 28)\n",
      "[log] Scanned publications:  33200  > Tot Patents found:  28\n",
      "Returned Patents: 3 (total = 3)\n",
      "[log] Scanned publications:  33600  > Tot Patents found:  3\n",
      "Returned Patents: 4 (total = 4)\n",
      "[log] Scanned publications:  34000  > Tot Patents found:  4\n"
     ]
    }
   ],
   "source": [
    "\n",
    "BATCHSIZE = 400\n",
    "\n",
    "def run(pubs_ids):\n",
    "    patents_out, n  = [], 0\n",
    "    for chunk in chunks_of(pubs_ids, BATCHSIZE):\n",
    "        temp = ','.join(['\"{}\"'.format(i) for i in chunk])\n",
    "        data = dslquery(f\"\"\"search patents where publication_ids in [{temp}] return patents[basics] limit 1000\"\"\")\n",
    "        patents_out += data.patents\n",
    "        n += 1\n",
    "        print(\"[log] Scanned publications: \", n*BATCHSIZE, \" > Tot Patents found: \", len(data.patents))\n",
    "        time.sleep(1)\n",
    "    return patents_out\n",
    "        \n",
    "patents_list = run(list(dfpubs['id']))"
   ]
  },
  {
   "cell_type": "code",
   "execution_count": 84,
   "metadata": {},
   "outputs": [
    {
     "data": {
      "text/html": [
       "<div>\n",
       "<style scoped>\n",
       "    .dataframe tbody tr th:only-of-type {\n",
       "        vertical-align: middle;\n",
       "    }\n",
       "\n",
       "    .dataframe tbody tr th {\n",
       "        vertical-align: top;\n",
       "    }\n",
       "\n",
       "    .dataframe thead th {\n",
       "        text-align: right;\n",
       "    }\n",
       "</style>\n",
       "<table border=\"1\" class=\"dataframe\">\n",
       "  <thead>\n",
       "    <tr style=\"text-align: right;\">\n",
       "      <th></th>\n",
       "      <th>assignee_names</th>\n",
       "      <th>assignees</th>\n",
       "      <th>filing_status</th>\n",
       "      <th>granted_year</th>\n",
       "      <th>id</th>\n",
       "      <th>inventor_names</th>\n",
       "      <th>publication_date</th>\n",
       "      <th>times_cited</th>\n",
       "      <th>title</th>\n",
       "      <th>year</th>\n",
       "    </tr>\n",
       "  </thead>\n",
       "  <tbody>\n",
       "    <tr>\n",
       "      <th>0</th>\n",
       "      <td>[SPHINGOTEC GMBH]</td>\n",
       "      <td>NaN</td>\n",
       "      <td>Application</td>\n",
       "      <td>NaN</td>\n",
       "      <td>WO-2016170023-A1</td>\n",
       "      <td>[BERGMANN, ANDREAS, MELANDER, OLLE]</td>\n",
       "      <td>2016-10-27</td>\n",
       "      <td>NaN</td>\n",
       "      <td>A METHOD FOR PREDICTING THE RISK OF INCIDENCE ...</td>\n",
       "      <td>2016</td>\n",
       "    </tr>\n",
       "    <tr>\n",
       "      <th>1</th>\n",
       "      <td>[Purdue Pharma LP, PURDUE PHARMACEUTICAL PRODU...</td>\n",
       "      <td>[{'id': 'grid.418726.e', 'name': 'Purdue Pharm...</td>\n",
       "      <td>Grant</td>\n",
       "      <td>2018.0</td>\n",
       "      <td>US-9993482-B2</td>\n",
       "      <td>[Thomas Jorg Mehrling]</td>\n",
       "      <td>2018-06-12</td>\n",
       "      <td>NaN</td>\n",
       "      <td>Pharmaceutical combination comprising a class ...</td>\n",
       "      <td>2015</td>\n",
       "    </tr>\n",
       "    <tr>\n",
       "      <th>2</th>\n",
       "      <td>[Sunshire Lake Pharma Co Ltd, Sunshine Lake Ph...</td>\n",
       "      <td>NaN</td>\n",
       "      <td>Grant</td>\n",
       "      <td>2018.0</td>\n",
       "      <td>US-9957233-B1</td>\n",
       "      <td>[Ning Xi]</td>\n",
       "      <td>2018-05-01</td>\n",
       "      <td>NaN</td>\n",
       "      <td>Process for preparing substituted quinolin-4-o...</td>\n",
       "      <td>2017</td>\n",
       "    </tr>\n",
       "  </tbody>\n",
       "</table>\n",
       "</div>"
      ],
      "text/plain": [
       "                                      assignee_names  \\\n",
       "0                                  [SPHINGOTEC GMBH]   \n",
       "1  [Purdue Pharma LP, PURDUE PHARMACEUTICAL PRODU...   \n",
       "2  [Sunshire Lake Pharma Co Ltd, Sunshine Lake Ph...   \n",
       "\n",
       "                                           assignees filing_status  \\\n",
       "0                                                NaN   Application   \n",
       "1  [{'id': 'grid.418726.e', 'name': 'Purdue Pharm...         Grant   \n",
       "2                                                NaN         Grant   \n",
       "\n",
       "   granted_year                id                       inventor_names  \\\n",
       "0           NaN  WO-2016170023-A1  [BERGMANN, ANDREAS, MELANDER, OLLE]   \n",
       "1        2018.0     US-9993482-B2               [Thomas Jorg Mehrling]   \n",
       "2        2018.0     US-9957233-B1                            [Ning Xi]   \n",
       "\n",
       "  publication_date  times_cited  \\\n",
       "0       2016-10-27          NaN   \n",
       "1       2018-06-12          NaN   \n",
       "2       2018-05-01          NaN   \n",
       "\n",
       "                                               title  year  \n",
       "0  A METHOD FOR PREDICTING THE RISK OF INCIDENCE ...  2016  \n",
       "1  Pharmaceutical combination comprising a class ...  2015  \n",
       "2  Process for preparing substituted quinolin-4-o...  2017  "
      ]
     },
     "execution_count": 84,
     "metadata": {},
     "output_type": "execute_result"
    }
   ],
   "source": [
    "dfpatents = pd.DataFrame().from_dict(patents_list)\n",
    "# save to CSV\n",
    "dfpatents.to_csv(\"patents_citing_pubs.csv\")\n",
    "# preview top 3 rows\n",
    "dfpatents.head(3)"
   ]
  },
  {
   "cell_type": "code",
   "execution_count": 85,
   "metadata": {},
   "outputs": [
    {
     "data": {
      "application/vnd.plotly.v1+json": {
       "config": {
        "linkText": "Export to plot.ly",
        "plotlyServerURL": "https://plot.ly",
        "showLink": false
       },
       "data": [
        {
         "alignmentgroup": "True",
         "bingroup": "x",
         "hoverlabel": {
          "namelength": 0
         },
         "hovertemplate": "filing_status=Application<br>year=%{x}<br>count of id=%{y}",
         "legendgroup": "filing_status=Application",
         "marker": {
          "color": "#636efa"
         },
         "name": "filing_status=Application",
         "offsetgroup": "filing_status=Application",
         "orientation": "v",
         "showlegend": true,
         "type": "histogram",
         "uid": "04aae640-8f33-4869-b70d-f9918d17100d",
         "x": [
          2016,
          2017,
          2016,
          2017,
          2016,
          2017,
          2012,
          2016,
          2017,
          2016,
          2017,
          2016,
          2015,
          2016,
          2017,
          2015,
          2017,
          2016,
          2016,
          2016,
          2016,
          2015,
          2015,
          2016,
          2016,
          2016,
          2016,
          2015,
          2016,
          2017,
          2017,
          2015,
          2017,
          2017,
          2017,
          2016,
          2017,
          2017,
          2016,
          2016,
          2015,
          2017,
          2017,
          2016,
          2016,
          2016,
          2017,
          2016,
          2015,
          2015,
          2016,
          2016,
          2016,
          2015,
          2015,
          2015,
          2014,
          2015,
          2017,
          2015,
          2016,
          2015,
          2016,
          2013,
          2017,
          2017,
          2016,
          2015,
          2017,
          2017,
          2015,
          2014,
          2016,
          2016,
          2017,
          2016,
          2016,
          2017,
          2014,
          2017,
          2014,
          2017,
          2015,
          2016,
          2015,
          2014,
          2016,
          2015,
          2016,
          2015,
          2016,
          2016,
          2016,
          2013,
          2015,
          2016,
          2015,
          2014,
          2016,
          2015,
          2015,
          2014,
          2016,
          2013,
          2015,
          2017,
          2014,
          2015,
          2015,
          2016,
          1986,
          2016,
          2016,
          2015,
          2016,
          2015,
          2017,
          2016,
          2015,
          2016,
          2014,
          2016,
          2015,
          2016,
          2015,
          2015,
          2014,
          2014,
          2015,
          2014,
          2016,
          2016,
          2015,
          2017,
          2017,
          2017,
          2014,
          2014,
          2014,
          2014,
          2015,
          2015,
          2016,
          2015,
          2014,
          2014,
          2014,
          2015,
          2015,
          2014,
          2014,
          2014,
          2014,
          2016,
          2009,
          2013,
          2016,
          2017,
          2017,
          2016,
          2015,
          2015,
          2015,
          2015,
          2015,
          2016,
          2015,
          2015,
          2013,
          2012,
          2017,
          2016,
          2017,
          2017,
          2013,
          2013,
          2015,
          2013,
          2014,
          2015,
          2016,
          2015,
          2017,
          2013,
          2012,
          2014,
          2016,
          2015,
          2015,
          2014,
          2014,
          2016,
          2016,
          2015,
          2014,
          2017,
          2016,
          2014,
          2013,
          2014,
          2016,
          2016,
          2015,
          2011,
          2011,
          2014,
          2012,
          2017,
          2014,
          2017,
          2014,
          2016,
          2014,
          2017,
          2012,
          2015,
          2010,
          2013,
          2015,
          2014,
          2016,
          2011,
          2015,
          2010,
          2015,
          2015,
          2009,
          2015,
          2012,
          2015,
          2014,
          2014,
          2017,
          2016,
          2017,
          2015,
          2014,
          2015,
          2012,
          2017,
          2013,
          2013,
          2016,
          2013,
          2012,
          2013,
          2015,
          2014,
          2016,
          2017,
          2013,
          2017,
          2017,
          2012,
          2014,
          2015,
          2016,
          2015,
          2015,
          2012,
          2015,
          2016,
          2014,
          2016,
          2013,
          2013,
          2017,
          2014,
          2013,
          2013,
          2012,
          2012,
          2014,
          2013,
          2013,
          2013,
          2013,
          2016,
          2013,
          2014,
          2017,
          2014,
          2016,
          2014,
          2017,
          2017,
          2016,
          2014,
          2015,
          2012,
          2010,
          2013,
          2017,
          2014,
          2017,
          2012,
          2010,
          2013,
          2012,
          2012,
          2014,
          2014,
          2016,
          2012,
          2014,
          2012,
          2015,
          2014,
          2014,
          2014,
          2015,
          2014,
          2013,
          2016,
          2017,
          2014,
          2014,
          2013,
          2013,
          2014,
          2013,
          2017,
          2016,
          2013,
          2013,
          2016,
          2013,
          2015,
          2017,
          2011,
          2015,
          2014,
          2011,
          2012,
          2015,
          2017,
          2011,
          2007,
          2016,
          2011,
          2012,
          2013,
          2013,
          2014,
          2012,
          2014,
          2013,
          2013,
          2013,
          2015,
          2013,
          2012,
          2011,
          2013,
          2017,
          2013,
          2012,
          2016,
          2014,
          2014,
          2012,
          2015,
          2015,
          2013,
          2013,
          2017,
          2012,
          2012,
          2013,
          2013,
          2017,
          2012,
          2016,
          2012,
          2014,
          2012,
          2013,
          2016,
          2015,
          2014,
          2015,
          2011,
          2013,
          2011,
          2013,
          2012,
          2012,
          2012,
          2014,
          2015,
          2016,
          2013,
          2013,
          2015,
          2013,
          2013,
          2013,
          2013,
          2013,
          2013,
          2015,
          2012,
          2012,
          2017,
          2015,
          2012,
          2014,
          2016,
          2016,
          2015,
          2013,
          2011,
          2013,
          2011,
          2011,
          2011,
          2017,
          2014,
          2011,
          2011,
          2011,
          2017,
          2015,
          2012,
          2015,
          2011,
          2016,
          2013,
          2014,
          2012,
          2012,
          2014,
          2016,
          2014,
          2012,
          2011,
          2014,
          2013,
          2012,
          2013,
          2011,
          2014,
          2012,
          2013,
          2016,
          2011,
          2011,
          2016,
          2012,
          2012,
          2012,
          2014,
          2011,
          2012,
          2016,
          2011,
          2012,
          2012,
          2012,
          2015,
          2011,
          2011,
          2013,
          2015,
          2012,
          2012,
          2011,
          2012,
          2011,
          2013,
          2014,
          2013,
          2014,
          2014,
          2013,
          2014,
          2017,
          2016,
          2012,
          2012,
          2012,
          2012,
          2015,
          2014,
          2014,
          2011,
          2014,
          2014,
          2011,
          2012,
          2012,
          2015,
          2012,
          2013,
          2016,
          2013,
          2012,
          2012,
          2017,
          2010,
          2011,
          2017,
          2013,
          2010,
          2016,
          2013,
          2012,
          2014,
          2007,
          2012,
          2017,
          2013,
          2013,
          2012,
          2012,
          2014,
          2013,
          2011,
          2013,
          2014,
          2014,
          2012,
          2014,
          2016,
          2014,
          2011,
          2016,
          2014,
          2013,
          2010,
          2011,
          2014,
          2013,
          2014,
          2014,
          2014,
          2012,
          2014,
          2010,
          2015,
          2011,
          2016
         ],
         "xaxis": "x",
         "y": [
          "WO-2016170023-A1",
          "WO-2018078665-A1",
          "WO-2016113719-A1",
          "WO-2018002475-A1",
          "WO-2016146979-A1",
          "WO-2017207223-A1",
          "WO-2013064555-A1",
          "EP-3308778-A1",
          "WO-2018069471-A1",
          "WO-2017102939-A1",
          "WO-2018041995-A3",
          "EP-3258582-A1",
          "FR-3043480-A1",
          "WO-2017085138-A1",
          "WO-2018046870-A1",
          "WO-2016120647-A2",
          "WO-2017149474-A1",
          "WO-2017103783-A1",
          "WO-2016181177-A2",
          "WO-2016176427-A1",
          "DE-102016214332-A1",
          "DE-102015015597-A1",
          "FR-3043480-A1",
          "WO-2017103615-A1",
          "WO-2017103783-A1",
          "WO-2018029505-A1",
          "WO-2017093553-A1",
          "FR-3045859-A1",
          "WO-2017093931-A1",
          "WO-2017130106-A1",
          "WO-2017144471-A1",
          "WO-2016102586-A1",
          "WO-2017199042-A1",
          "WO-2018046870-A1",
          "WO-2017207610-A1",
          "WO-2017081709-A1",
          "WO-2018041959-A1",
          "WO-2017172588-A1",
          "EP-3272745-A1",
          "WO-2016184931-A1",
          "WO-2016079097-A1",
          "EP-3211826-A1",
          "WO-2018015558-A1",
          "WO-2017108895-A1",
          "FR-3048319-A1",
          "WO-2017008816-A1",
          "WO-2018091713-A1",
          "WO-2017008101-A1",
          "WO-2016091996-A1",
          "EP-3188373-A1",
          "US-20170104369-A1",
          "WO-2017039806-A1",
          "WO-2017039812-A1",
          "EP-3188372-A1",
          "WO-2016033422-A1",
          "WO-2016024131-A1",
          "EP-2963155-A1",
          "WO-2016001436-A1",
          "WO-2018100325-A1",
          "WO-2016016119-A1",
          "FR-3050050-A1",
          "WO-2016012968-A1",
          "EP-3208750-A1",
          "US-20150224172-A1",
          "WO-2017178352-A1",
          "WO-2017144372-A1",
          "FR-3059805-A1",
          "EP-3154544-A4",
          "WO-2017129618-A1",
          "WO-2017141879-A1",
          "EP-3113475-A1",
          "WO-2015052511-A1",
          "WO-2016185443-A1",
          "WO-2016185160-A1",
          "WO-2018050706-A1",
          "WO-2016116850-A1",
          "WO-2016141220-A1",
          "WO-2018037203-A1",
          "WO-2014198993-A1",
          "WO-2017205105-A1",
          "EP-3082814-A4",
          "WO-2017144674-A1",
          "WO-2016111887-A3",
          "WO-2017009676-A1",
          "EP-3104278-A1",
          "WO-2015063099-A1",
          "WO-2016198503-A1",
          "WO-2016090154-A1",
          "WO-2017167373-A1",
          "WO-2016038107-A1",
          "WO-2017025917-A1",
          "WO-2017013121-A1",
          "WO-2017025864-A1",
          "WO-2014057432-A3",
          "EP-3120838-A1",
          "WO-2016132161-A1",
          "WO-2017030251-A1",
          "US-20150065522-A1",
          "WO-2017097865-A1",
          "WO-2016091957-A1",
          "WO-2016020884-A1",
          "EP-2887431-A1",
          "WO-2017108419-A1",
          "WO-2014057432-A3",
          "WO-2016042436-A1",
          "WO-2017141879-A1",
          "WO-2015018503-A1",
          "WO-2016016119-A1",
          "WO-2016064604-A1",
          "WO-2017070545-A1",
          "EP-0223291-A2",
          "WO-2016170022-A1",
          "US-20170088793-A1",
          "WO-2015136362-A1",
          "WO-2016201264-A1",
          "EP-3059307-A1",
          "WO-2017129618-A1",
          "EP-3281632-A1",
          "FR-3044450-A1",
          "WO-2017093057-A1",
          "WO-2015071873-A1",
          "WO-2017037685-A1",
          "EP-3112375-A1",
          "WO-2017005615-A3",
          "WO-2015121022-A1",
          "WO-2016097351-A1",
          "US-20150140062-A1",
          "WO-2015073895-A1",
          "WO-2015166094-A1",
          "WO-2014210509-A1",
          "WO-2017079566-A1",
          "WO-2016168615-A1",
          "EP-3171436-A4",
          "DE-102017205049-A1",
          "WO-2018042207-A1",
          "EP-3229309-A1",
          "US-20140220159-A1",
          "WO-2015042182-A1",
          "WO-2015067936-A1",
          "US-20140205681-A1",
          "WO-2016010403-A1",
          "WO-2016071693-A1",
          "WO-2017008816-A1",
          "US-20150374689-A1",
          "DE-102014207513-A1",
          "WO-2015049063-A1",
          "WO-2015077717-A1",
          "WO-2015107184-A1",
          "WO-2016038107-A1",
          "WO-2014152278-A2",
          "US-20150139505-A1",
          "EP-2970249-A4",
          "US-20150361079-A1",
          "WO-2016202425-A1",
          "WO-2010075249-A2",
          "EP-2925760-A4",
          "WO-2017062558-A1",
          "WO-2017190048-A1",
          "WO-2018029717-A2",
          "WO-2017195224-A1",
          "WO-2015162216-A1",
          "WO-2016085668-A1",
          "EP-3280813-A4",
          "WO-2016102586-A1",
          "WO-2016051340-A1",
          "WO-2016161129-A1",
          "EP-3206236-A4",
          "WO-2015123408-A1",
          "WO-2014096687-A1",
          "FR-2999846-A1",
          "WO-2018055037-A1",
          "WO-2016161282-A1",
          "WO-2018022310-A1",
          "WO-2017208001-A1",
          "EP-2925307-A1",
          "EP-2925307-A4",
          "WO-2015123465-A1",
          "WO-2014057511-A1",
          "WO-2015014362-A1",
          "WO-2016097351-A1",
          "WO-2016147130-A1",
          "WO-2015180701-A1",
          "WO-2017184934-A1",
          "WO-2014166551-A1",
          "WO-2012131734-A1",
          "WO-2015084815-A1",
          "WO-2017089555-A1",
          "WO-2016016449-A1",
          "EP-3194398-A4",
          "EP-3077828-A4",
          "WO-2015107554-A1",
          "WO-2016116850-A1",
          "WO-2017050836-A1",
          "WO-2015179657-A1",
          "WO-2014121137-A2",
          "EP-3333745-A1",
          "WO-2016181122-A1",
          "WO-2015033154-A1",
          "EP-2919817-A4",
          "GB-2533244-A",
          "FR-3060153-A1",
          "EP-3145099-A3",
          "WO-2015157738-A1",
          "US-20130054191-A1",
          "WO-2012059224-A1",
          "EP-2982465-A4",
          "WO-2013048883-A3",
          "WO-2017123744-A1",
          "WO-2015091767-A1",
          "WO-2018050848-A1",
          "WO-2014128465-A1",
          "WO-2017081230-A1",
          "WO-2015086727-A2",
          "WO-2017176948-A1",
          "WO-2013049734-A1",
          "US-20160221881-A1",
          "US-20110046928-A1",
          "FR-3015050-A1",
          "WO-2015123219-A1",
          "WO-2014162947-A1",
          "WO-2016130645-A1",
          "EP-2816037-A3",
          "WO-2015148982-A1",
          "US-20120328608-A1",
          "WO-2016103223-A1",
          "WO-2015167890-A1",
          "US-20090297533-A1",
          "WO-2016046759-A2",
          "US-20130192392-A1",
          "WO-2016042436-A1",
          "DE-102014209209-A1",
          "WO-2015132860-A1",
          "WO-2017140641-A1",
          "WO-2017103783-A1",
          "EP-3276512-A1",
          "WO-2015162527-A1",
          "US-20150191604-A1",
          "WO-2015119838-A3",
          "EP-2664326-A1",
          "WO-2017147652-A1",
          "DE-102013214713-A1",
          "WO-2014064040-A1",
          "WO-2017079399-A1",
          "US-20150224172-A1",
          "DE-102012219656-A1",
          "WO-2014080429-A1",
          "WO-2016051340-A1",
          "EP-2897201-A4",
          "WO-2017055291-A1",
          "WO-2017208001-A1",
          "EP-2680191-A3",
          "WO-2017160856-A1",
          "WO-2017160851-A1",
          "WO-2012135970-A1",
          "EP-2982765-A1",
          "WO-2015112619-A1",
          "WO-2017060407-A1",
          "WO-2016034828-A1",
          "EP-3128580-A1",
          "WO-2013055911-A1",
          "WO-2015162570-A1",
          "EP-3312560-A1",
          "EP-2852062-A3",
          "EP-3081957-A1",
          "WO-2014061048-A2",
          "WO-2014061048-A3",
          "WO-2018073396-A1",
          "EP-2849399-A1",
          "WO-2014083332-A1",
          "WO-2014068133-A1",
          "WO-2013140106-A1",
          "EP-2776071-A4",
          "EP-2964237-A4",
          "WO-2014037900-A1",
          "WO-2014074890-A1",
          "EP-3038399-A4",
          "EP-2717644-A1",
          "WO-2016193718-A1",
          "EP-2940499-A4",
          "EP-2763469-A1",
          "WO-2018083326-A1",
          "WO-2015071873-A1",
          "WO-2017087667-A1",
          "WO-2014199318-A3",
          "WO-2017153381-A1",
          "WO-2018093683-A1",
          "WO-2017070497-A1",
          "WO-2014199319-A3",
          "WO-2015175594-A1",
          "WO-2013049750-A1",
          "US-20110135610-A1",
          "WO-2014011723-A1",
          "WO-2018029534-A1",
          "EP-2860790-A1",
          "WO-2018002147-A1",
          "EP-3263127-A1",
          "EP-2494033-A4",
          "WO-2013128446-A1",
          "EP-2715350-A4",
          "WO-2013024243-A1",
          "WO-2014124978-A2",
          "WO-2015095579-A1",
          "WO-2016191532-A1",
          "WO-2013078477-A3",
          "WO-2014159073-A1",
          "EP-2706357-A1",
          "WO-2016051064-A1",
          "WO-2015036552-A1",
          "FR-3026413-A1",
          "EP-2772801-A1",
          "WO-2016066755-A2",
          "WO-2015032414-A2",
          "WO-2014037552-A1",
          "WO-2016162706-A1",
          "WO-2018029200-A1",
          "WO-2014118296-A1",
          "DE-102014013302-A1",
          "WO-2014061048-A2",
          "WO-2013128453-A1",
          "EP-3016458-A1",
          "WO-2014061048-A3",
          "WO-2017144478-A1",
          "WO-2017093804-A3",
          "US-20160054724-A1",
          "WO-2014062138-A1",
          "WO-2016142719-A1",
          "WO-2014033313-A1",
          "WO-2016094874-A1",
          "WO-2018093683-A1",
          "WO-2012079578-A1",
          "EP-3059307-A1",
          "WO-2015020960-A1",
          "EP-2606905-A1",
          "WO-2013072059-A1",
          "WO-2016086185-A1",
          "WO-2017125593-A1",
          "EP-2595224-A1",
          "EP-2064556-A2",
          "EP-3196666-A1",
          "WO-2012095263-A1",
          "WO-2013093039-A1",
          "WO-2015010744-A1",
          "EP-2813850-A1",
          "WO-2014198727-A3",
          "WO-2013072946-A1",
          "EP-2975424-A1",
          "EP-2877584-A4",
          "WO-2014113089-A3",
          "WO-2013150002-A1",
          "WO-2016005354-A1",
          "WO-2014068133-A1",
          "WO-2012168459-A1",
          "EP-2533045-A1",
          "EP-2802648-A4",
          "WO-2017208001-A1",
          "WO-2013186541-A1",
          "WO-2013049750-A1",
          "WO-2016138488-A2",
          "WO-2014111704-A1",
          "WO-2014162304-A1",
          "WO-2013127450-A1",
          "WO-2016092439-A1",
          "WO-2015173841-A3",
          "EP-2803119-A4",
          "EP-2857939-A4",
          "WO-2018083608-A1",
          "WO-2013036679-A1",
          "GB-2503004-A",
          "EP-2752760-A3",
          "WO-2013123411-A1",
          "WO-2017200966-A1",
          "EP-2706357-A1",
          "WO-2016188530-A1",
          "EP-2706406-A4",
          "EP-2943205-A4",
          "EP-2706406-A2",
          "WO-2013150450-A1",
          "WO-2017081624-A1",
          "WO-2015181365-A1",
          "US-20160250128-A1",
          "WO-2016097443-A1",
          "EP-2540829-A1",
          "WO-2014037552-A1",
          "FR-2984358-A1",
          "WO-2014006505-A1",
          "WO-2013024499-A1",
          "WO-2013087907-A1",
          "WO-2013024500-A1",
          "WO-2015030677-A3",
          "WO-2016024246-A1",
          "EP-3229026-A1",
          "WO-2014047285-A1",
          "WO-2013106792-A1",
          "WO-2016092439-A1",
          "EP-2884696-A1",
          "US-20140164369-A1",
          "US-20150171966-A1",
          "US-20140004183-A1",
          "WO-2014057511-A1",
          "WO-2013114418-A1",
          "WO-2015168115-A1",
          "WO-2013056015-A1",
          "EP-2481816-A1",
          "WO-2017196668-A1",
          "WO-2015140257-A1",
          "US-20140336141-A1",
          "EP-2997181-A4",
          "WO-2016144917-A1",
          "WO-2016193441-A2",
          "WO-2016079321-A1",
          "US-20140127575-A1",
          "DE-102011017734-A1",
          "EP-2818549-A4",
          "EP-2588027-A4",
          "EP-2588027-A1",
          "EP-2591363-A4",
          "WO-2017196668-A1",
          "WO-2014194289-A1",
          "EP-3306321-A1",
          "EP-3192862-A1",
          "EP-3216444-A1",
          "WO-2017182580-A1",
          "WO-2016124165-A1",
          "WO-2013093493-A1",
          "WO-2016068043-A1",
          "EP-2591363-A2",
          "WO-2016193441-A2",
          "US-20130253319-A1",
          "US-20150376300-A1",
          "WO-2013097869-A1",
          "WO-2012155919-A1",
          "EP-2779437-A1",
          "WO-2017103783-A1",
          "WO-2014108135-A1",
          "US-20120238627-A1",
          "EP-2654278-A1",
          "WO-2014166947-A1",
          "EP-2789345-A1",
          "WO-2013090386-A3",
          "WO-2014072350-A1",
          "EP-2654278-A4",
          "EP-3011615-A4",
          "WO-2012143516-A1",
          "WO-2014033765-A1",
          "EP-3195881-A1",
          "EP-2659357-A4",
          "FR-2974369-A1",
          "WO-2017089593-A1",
          "EP-2687482-A4",
          "WO-2013077907-A1",
          "EP-2687482-A1",
          "US-20150104492-A1",
          "WO-2012049665-A1",
          "WO-2012141971-A2",
          "EP-3256582-A4",
          "FR-2984358-A1",
          "WO-2013057485-A1",
          "WO-2013087907-A1",
          "WO-2012141971-A3",
          "WO-2015137409-A1",
          "WO-2012085751-A1",
          "WO-2012042036-A1",
          "WO-2014204064-A1",
          "WO-2015173666-A1",
          "WO-2013087917-A1",
          "EP-2663865-A4",
          "WO-2012089570-A1",
          "EP-2625966-A1",
          "WO-2012038521-A1",
          "WO-2013120856-A1",
          "WO-2015083764-A1",
          "US-20130246328-A1",
          "WO-2014183989-A1",
          "WO-2015013777-A3",
          "WO-2013180200-A1",
          "WO-2014118296-A1",
          "WO-2017216323-A2",
          "EP-3258268-A1",
          "EP-2723865-A4",
          "WO-2013028639-A1",
          "EP-2723865-A1",
          "GB-2505718-A9",
          "WO-2015190931-A1",
          "US-20160166638-A1",
          "WO-2015054476-A1",
          "EP-2609220-A4",
          "WO-2015081410-A1",
          "WO-2014160645-A2",
          "EP-2609220-A1",
          "WO-2013059071-A1",
          "WO-2013081685-A1",
          "WO-2016154690-A1",
          "GB-2505718-A",
          "WO-2014075822-A1",
          "WO-2017060407-A1",
          "WO-2014071168-A2",
          "EP-2620155-A1",
          "US-20140053073-A1",
          "WO-2018007588-A1",
          "WO-2010137019-A1",
          "WO-2012032098-A1",
          "WO-2017208001-A1",
          "WO-2013113772-A1",
          "EP-2426215-A1",
          "US-20160289545-A1",
          "WO-2013134311-A1",
          "WO-2012152807-A1",
          "US-20140365992-A1",
          "US-20070248611-A1",
          "WO-2013003538-A1",
          "WO-2018063878-A1",
          "EP-2769732-A1",
          "EP-2851086-A1",
          "US-20130089562-A1",
          "WO-2013059230-A1",
          "WO-2015004534-A2",
          "WO-2014039893-A1",
          "WO-2011161548-A2",
          "WO-2013187953-A1",
          "WO-2014124156-A1",
          "WO-2015072859-A1",
          "WO-2012171889-A1",
          "WO-2014128257-A1",
          "WO-2016120471-A1",
          "WO-2015002841-A3",
          "WO-2011140187-A2",
          "EP-3195881-A1",
          "WO-2015178762-A1",
          "US-20160010108-A1",
          "WO-2011045402-A1",
          "WO-2011161548-A2",
          "WO-2015002841-A2",
          "EP-2653040-A1",
          "WO-2015084513-A1",
          "WO-2015072859-A1",
          "WO-2015007520-A1",
          "US-20140057014-A1",
          "WO-2014194289-A1",
          "WO-2011047856-A1",
          "WO-2017069612-A1",
          "WO-2012052943-A1",
          "WO-2017069630-A1"
         ],
         "yaxis": "y"
        },
        {
         "alignmentgroup": "True",
         "bingroup": "x",
         "hoverlabel": {
          "namelength": 0
         },
         "hovertemplate": "filing_status=Grant<br>year=%{x}<br>count of id=%{y}",
         "legendgroup": "filing_status=Grant",
         "marker": {
          "color": "#EF553B"
         },
         "name": "filing_status=Grant",
         "offsetgroup": "filing_status=Grant",
         "orientation": "v",
         "showlegend": true,
         "type": "histogram",
         "uid": "dee9b5cf-859a-405b-9bd9-3252b2c7dbd9",
         "x": [
          2015,
          2017,
          2015,
          2016,
          2012,
          2016,
          2016,
          2010,
          2015,
          2016,
          2015,
          2017,
          2012,
          2012,
          2012,
          2015,
          2015,
          2017,
          2017,
          2007,
          2017,
          2015,
          2015,
          2016,
          2015,
          2009,
          2015,
          2015,
          2015,
          2016,
          2017,
          2015,
          2016,
          2015,
          2015,
          2015,
          2015,
          2015,
          2016,
          2015,
          2013,
          2014,
          2015,
          2013,
          2015,
          2016,
          2016,
          2016,
          2015,
          2017,
          2012,
          2015,
          2017,
          2012,
          2016,
          2014,
          2014,
          2015,
          2015,
          2012,
          2014,
          2013,
          2013,
          2014,
          2014,
          2014,
          2011,
          2012,
          2016,
          2012,
          2012,
          2015,
          2012,
          2016,
          2016,
          2015,
          2011,
          2015,
          2016,
          2015,
          2017,
          2013,
          2013,
          2014,
          2013,
          2013,
          2015,
          2014,
          2015,
          2013,
          2016,
          2013,
          2013,
          2016,
          2011,
          2013,
          2013,
          2013,
          2013,
          2016,
          2013,
          2013,
          2014,
          2014,
          2013,
          2014,
          2016,
          2015,
          2015,
          2013,
          2012,
          2016,
          2013,
          2016,
          2015,
          2013,
          2014,
          2013,
          2013,
          2013,
          2013,
          2013,
          2013,
          2013,
          2013,
          2013,
          2015,
          2014,
          2009,
          2014,
          2015,
          2016,
          2014,
          2014,
          2015,
          2013,
          2015,
          2014,
          2014,
          2016,
          2017,
          2014,
          2014,
          2015,
          2016,
          2011,
          2015,
          2017,
          2015,
          2015,
          2015,
          2013,
          2013,
          2016,
          2011,
          2012,
          2013,
          2013,
          2013,
          2014,
          2016,
          2013,
          2014,
          2016,
          2016,
          2016,
          2011,
          2015,
          2011,
          2015,
          2015,
          2013,
          2014,
          2013,
          2014,
          2016,
          2016,
          2014,
          2015,
          2010,
          2015,
          2015,
          2016,
          2014,
          2016,
          2015,
          2013,
          2014,
          2015,
          2013,
          2018,
          2014,
          2014,
          2014,
          2016,
          2013,
          2017,
          2013,
          2015,
          2015,
          2014,
          2013,
          2009,
          2013,
          2013,
          2014,
          2014,
          2016,
          2014,
          2017,
          2015,
          2017,
          2014,
          2011,
          2011,
          2008,
          2008,
          2014,
          2014,
          2010,
          2013,
          2012,
          2014,
          2014,
          2014,
          2010,
          2015,
          2014,
          2008,
          2013,
          2010,
          2009,
          2011,
          2014,
          2008,
          2013,
          2012,
          2014,
          2009,
          2017,
          2012,
          2007,
          2016,
          2015,
          2017,
          2015,
          2013,
          2010,
          2014,
          2008,
          2013,
          2012,
          2013,
          2014,
          2014,
          2016,
          2013,
          2016,
          2011,
          2015,
          2015,
          2015,
          2012,
          2011,
          2011,
          2012,
          2014,
          2013,
          2016,
          2017,
          2013,
          2015,
          2015,
          2017,
          2016,
          2014,
          2015,
          2009,
          2015,
          2016,
          2017,
          2016,
          2016,
          2014,
          2015,
          2016,
          2015,
          2016,
          2016,
          2016,
          2014,
          2014,
          2016,
          2017,
          2011,
          2012,
          2014,
          2016,
          2016,
          2016,
          2014,
          2014,
          2015,
          2015,
          2017,
          2012,
          2013,
          2016,
          2015,
          2015,
          2012,
          2014,
          2015,
          2014,
          2014,
          2011,
          2011,
          2014,
          2008,
          2008,
          2014,
          2010,
          2013,
          2012,
          2013,
          2014,
          2010,
          2014,
          2014,
          2008,
          2010,
          2009,
          2011,
          2015,
          2008,
          2012,
          2014,
          2009,
          2017,
          2007,
          2015,
          2012,
          2009,
          2015,
          2010,
          2015,
          2017,
          2015,
          2015,
          2015,
          2011,
          2016,
          2013,
          2014,
          2014,
          2014,
          2014,
          2016,
          2016,
          2016,
          2014,
          2014,
          2012,
          2014,
          2011,
          2017,
          2012,
          2014,
          2012,
          2013,
          2015,
          2014,
          2014,
          2011,
          2012,
          2012,
          2017,
          2016,
          2012,
          2011,
          2012,
          2014,
          2011,
          2014,
          2013,
          2016,
          2014,
          2014,
          2013,
          2015,
          2014,
          2014,
          2016,
          2016,
          2016,
          2013,
          2012,
          2014,
          2014,
          2012,
          2013,
          2014,
          2014,
          2014,
          2011,
          2016,
          2013,
          2012,
          2017,
          2014,
          2013,
          2014,
          2014,
          2016,
          2015,
          2013,
          2015,
          2016,
          2013,
          2014,
          2016,
          2017,
          2014,
          2015,
          2014,
          2014,
          2016,
          2014,
          2016,
          2015,
          2016,
          2012,
          2013,
          2014,
          2015,
          2013,
          2014,
          2014,
          2014,
          2013,
          2012,
          2008,
          2011,
          2009,
          2016,
          2017,
          2013,
          2009,
          2012,
          2011,
          2013,
          2015,
          2010,
          2012,
          2011,
          2010,
          2012,
          2014,
          2012,
          2013,
          2013,
          2010,
          2010,
          2014,
          2012,
          2014,
          2015,
          2014,
          2014,
          2015,
          2015,
          2015,
          2015,
          2013,
          2012,
          2016,
          2015,
          2014,
          2015,
          2016,
          2013,
          2013,
          2015,
          2014,
          2014,
          2014,
          2013,
          2014,
          2012,
          2013,
          2014,
          2013,
          2013,
          2016,
          2015,
          2014,
          2015,
          2014,
          2013,
          2014,
          2015,
          2015,
          2016,
          2013,
          2013,
          2016,
          2013,
          2012,
          2016,
          2013,
          2012,
          2012,
          2013,
          2013,
          2014,
          2011,
          2014,
          2016,
          2013,
          2016,
          2010,
          2007,
          2014,
          2014,
          2011,
          2013,
          2014,
          2016,
          2012,
          2013,
          2013,
          2014,
          2012,
          2015,
          2013,
          2011,
          2011,
          2008,
          2008,
          2014,
          2016,
          2016,
          2010,
          2016,
          2013,
          2012,
          2015,
          2016,
          2012,
          2017,
          2014,
          2010,
          2011,
          2012,
          2014,
          2008,
          2013,
          2015,
          2015,
          2016,
          2016,
          2010,
          2014,
          2009,
          2011,
          2008,
          2015,
          2015,
          2012,
          2015,
          2008,
          2014,
          2014,
          2009,
          2015,
          2017,
          2013,
          2015,
          2015,
          2017,
          2015,
          2013,
          2007,
          2015,
          2015,
          2012,
          2013,
          2011,
          2015,
          2015,
          2013,
          2015,
          2016,
          2013,
          2014,
          2011,
          2011,
          2012,
          2013,
          2013,
          2017,
          2014,
          2015,
          2013,
          2018,
          2016,
          2015,
          2014,
          2017,
          2013,
          2012,
          2015,
          2013,
          2017,
          2014,
          2011,
          2011,
          2013,
          2014,
          2013,
          2015,
          2015,
          2015,
          2011,
          2015,
          2016,
          2012,
          2012,
          2011,
          2014,
          2012,
          2010,
          2014,
          2006,
          2014,
          2014,
          2013,
          2013,
          2013,
          2014,
          2013,
          2016,
          2014,
          2012,
          2014,
          2014,
          2011,
          2012,
          2011,
          2013,
          2012,
          2010,
          2012,
          2013,
          2012,
          2012,
          2013,
          2011,
          2016,
          2014,
          2012,
          2016,
          2013,
          2012,
          2016,
          2015,
          2013,
          2014,
          2013,
          2012,
          2014,
          2016,
          2015,
          2013,
          2014,
          2013,
          2012,
          2011,
          2015,
          2015,
          2014,
          2012,
          2013,
          2011,
          2013,
          2016,
          2015,
          2011,
          2013,
          2016,
          2013,
          2015,
          2018,
          2008,
          2015,
          2011,
          2009,
          2012,
          2017,
          2013,
          2013,
          2013,
          2016,
          2008,
          2017,
          2012,
          2018,
          2012,
          2015,
          2013,
          2013,
          2008,
          2015,
          2006,
          2012,
          2016,
          2010,
          2012,
          2015,
          2008,
          2008,
          2014,
          2016,
          2015,
          2014,
          2017,
          2012,
          2012,
          2013,
          2017,
          2015,
          2013,
          2015,
          2008,
          2014,
          2015,
          2017,
          2015,
          2015,
          2016,
          2010,
          2015,
          2014,
          2013,
          2017,
          2011,
          2013,
          2016,
          2014,
          2007,
          2009,
          2013,
          2014,
          2011,
          2006,
          2009,
          2014,
          2013,
          2013,
          2013,
          2008,
          2012,
          2014,
          2011,
          2013,
          2016,
          2016,
          2016,
          2013,
          2015,
          2005,
          2014,
          2013,
          2011,
          2013,
          2009,
          2013,
          2016,
          2013,
          2011,
          2016,
          2016,
          2017,
          2016,
          2012,
          2016,
          2017,
          2016,
          2012,
          2016,
          2016,
          2016,
          2013,
          2012,
          2012,
          2013,
          2016,
          2016,
          2011,
          2013,
          2012,
          2012,
          2013,
          2013,
          2016,
          2013,
          2016,
          2016,
          2013,
          2014,
          2014,
          2017,
          2010,
          2016,
          2016,
          2016,
          2011,
          2011,
          2008,
          2008,
          2014,
          2011,
          2010,
          2013,
          2010,
          2014,
          2012,
          2012,
          2016,
          2010,
          2015,
          2014,
          2015,
          2010,
          2007,
          2014,
          2008,
          2016,
          2010,
          2013,
          2009,
          2011,
          2017,
          2014,
          2008,
          2012,
          2013,
          2015,
          2012,
          2016,
          2014,
          2014,
          2016,
          2009,
          2013,
          2017,
          2010,
          2011,
          2007,
          2014,
          2011,
          2014,
          2013,
          2015,
          2013,
          2012,
          2012,
          2012,
          2014,
          2013,
          2013,
          2015,
          2014,
          2013,
          2015,
          2013,
          2012,
          2012,
          2014,
          2012,
          2011,
          2015,
          2014,
          2015,
          2014,
          2012,
          2015,
          2015,
          2014,
          2015,
          2013,
          2015,
          2012,
          2017,
          2014,
          2016,
          2013,
          2013,
          2014,
          2016,
          2014,
          2010,
          2016,
          2014,
          2013,
          2015,
          2013,
          2017,
          2011,
          2013,
          2011,
          2012,
          2011,
          2015,
          2016,
          2014,
          2012,
          2013,
          2013,
          2014,
          2013,
          2015,
          2013,
          2015,
          2013,
          2013,
          2012,
          2017,
          2016,
          2014,
          2012,
          2013,
          2011,
          2015,
          2013,
          2013,
          2013,
          2013,
          2014,
          2013,
          2013,
          2009,
          2016,
          2012,
          2013,
          2013,
          2014,
          2015,
          2014,
          2013,
          2013,
          2011,
          2013,
          2013,
          2010,
          2013,
          2010,
          2011
         ],
         "xaxis": "x",
         "y": [
          "US-9993482-B2",
          "US-9957233-B1",
          "US-9854396-B2",
          "US-9655945-B2",
          "US-9439884-B2",
          "US-9809541-B2",
          "US-10059668-B2",
          "US-9757368-B2",
          "US-9831503-B2",
          "US-10066009-B2",
          "US-9919011-B2",
          "US-9925164-B1",
          "US-9745373-B2",
          "US-9708393-B2",
          "US-9855332-B2",
          "US-9896502-B2",
          "US-9994842-B2",
          "US-10080736-B2",
          "US-9849143-B2",
          "US-9585849-B2",
          "US-10064935-B2",
          "US-9415087-B2",
          "US-9781246-B2",
          "US-9968580-B2",
          "US-9936042-B2",
          "US-10081840-B2",
          "US-9644180-B2",
          "US-10040867-B2",
          "US-9695167-B2",
          "US-9994546-B2",
          "US-10047086-B2",
          "US-9758523-B2",
          "US-9944647-B2",
          "US-9493450-B2",
          "US-9527835-B2",
          "US-9695180-B2",
          "US-9670210-B2",
          "US-9695168-B2",
          "US-9600765-B1",
          "US-9493442-B2",
          "US-10004703-B2",
          "US-9863048-B2",
          "US-9969989-B2",
          "US-9827292-B2",
          "US-10036018-B2",
          "US-9654478-B2",
          "US-10091435-B2",
          "US-9948909-B2",
          "US-10029997-B2",
          "US-9951328-B2",
          "US-10028982-B2",
          "US-9993482-B2",
          "US-9989543-B2",
          "US-9925224-B2",
          "US-10069592-B1",
          "US-10045994-B2",
          "US-9464321-B2",
          "US-9975196-B2",
          "US-10058506-B2",
          "US-9914958-B2",
          "US-9129228-B1",
          "US-9566338-B2",
          "US-9561264-B2",
          "US-10016600-B2",
          "US-10035801-B2",
          "US-9505767-B2",
          "US-8660547-B2",
          "EP-2710378-B1",
          "US-9795599-B2",
          "US-9211301-B2",
          "US-9220720-B2",
          "US-9957504-B2",
          "US-9050350-B2",
          "US-9980218-B2",
          "US-9856481-B2",
          "US-9932581-B2",
          "US-9114151-B2",
          "US-9382540-B2",
          "US-10022425-B2",
          "US-9544182-B2",
          "US-10064959-B2",
          "US-9192651-B2",
          "US-9301993-B2",
          "US-9181319-B2",
          "US-9334328-B2",
          "US-9216205-B2",
          "US-9849172-B2",
          "US-9089604-B2",
          "US-9447164-B2",
          "US-9220755-B2",
          "US-9950068-B2",
          "US-9233141-B2",
          "US-9221891-B2",
          "US-9657295-B2",
          "US-8986698-B2",
          "US-9220792-B2",
          "US-9303079-B2",
          "US-9597380-B2",
          "US-8999380-B2",
          "US-9572897-B2",
          "US-9107886-B2",
          "US-9186372-B2",
          "US-9533047-B2",
          "US-9061059-B2",
          "US-9114113-B2",
          "US-9464124-B2",
          "US-9937233-B2",
          "US-9827332-B2",
          "US-9814760-B2",
          "US-9295689-B2",
          "US-9428535-B2",
          "US-9587003-B2",
          "US-9271996-B2",
          "US-9782462-B2",
          "US-9828416-B2",
          "US-9095552-B2",
          "US-9701965-B2",
          "US-9968670-B2",
          "US-9878056-B2",
          "US-9050297-B2",
          "US-9255129-B2",
          "US-9149506-B2",
          "US-9675668-B2",
          "US-9254311-B2",
          "US-8980864-B2",
          "US-9127063-B2",
          "US-9283287-B2",
          "US-9908930-B2",
          "US-9572856-B2",
          "US-9457059-B2",
          "US-10028995-B2",
          "US-9867863-B2",
          "US-9220745-B2",
          "US-9737608-B2",
          "US-9750770-B2",
          "US-9738879-B2",
          "US-9695167-B2",
          "US-9533013-B2",
          "US-9957526-B2",
          "US-9994546-B2",
          "US-10047086-B2",
          "US-10059811-B2",
          "US-9828582-B2",
          "US-9758523-B2",
          "US-9944647-B2",
          "US-9745552-B2",
          "US-9527835-B2",
          "US-9833479-B2",
          "US-9695180-B2",
          "US-9695168-B2",
          "US-9616090-B2",
          "US-9179997-B2",
          "US-9131982-B2",
          "US-9713494-B2",
          "US-8974446-B2",
          "US-8934988-B2",
          "US-9510902-B2",
          "US-9974477-B2",
          "US-8876813-B2",
          "US-9775663-B2",
          "US-9791258-B2",
          "US-D747491-S1",
          "US-9861433-B2",
          "US-10052360-B2",
          "US-10080601-B2",
          "US-9937222-B2",
          "US-9427579-B2",
          "US-10005734-B2",
          "US-8909316-B2",
          "US-9314300-B2",
          "US-9771349-B2",
          "US-9539263-B2",
          "US-9872728-B2",
          "US-9179973-B2",
          "US-9713490-B2",
          "US-9801684-B2",
          "US-9993495-B2",
          "US-9913961-B2",
          "US-D793559-S1",
          "US-8979839-B2",
          "US-9815817-B2",
          "US-9354039-B2",
          "US-9427283-B2",
          "US-9775966-B2",
          "US-9861436-B2",
          "US-10075621-B2",
          "US-9186212-B2",
          "US-9561070-B2",
          "US-9834539-B2",
          "US-D774043-S1",
          "US-D829238-S1",
          "US-9999748-B2",
          "US-9987070-B2",
          "US-10034705-B2",
          "US-D815131-S1",
          "US-9113929-B2",
          "US-9815803-B2",
          "US-9963627-B2",
          "US-9985315-B1",
          "US-9643938-B2",
          "US-9556181-B2",
          "US-9540392-B2",
          "US-9463190-B2",
          "US-9296757-B2",
          "US-9382255-B2",
          "US-9675612-B2",
          "US-9782404-B2",
          "US-9938397-B2",
          "US-9605026-B2",
          "US-9819024-B2",
          "US-9859560-B2",
          "US-10074819-B2",
          "AU-2014240003-B2",
          "US-8993591-B2",
          "US-9271967-B2",
          "US-8906939-B2",
          "US-8722894-B2",
          "US-9458176-B2",
          "US-9708315-B2",
          "US-8937060-B2",
          "US-9132122-B2",
          "US-8748621-B2",
          "US-9708321-B2",
          "US-9384315-B2",
          "US-9085577-B2",
          "US-8946205-B2",
          "US-9562013-B2",
          "US-9266834-B2",
          "US-9114138-B2",
          "US-9676779-B2",
          "US-8716480-B2",
          "US-8697689-B2",
          "US-9012448-B2",
          "US-9815825-B2",
          "US-8785486-B2",
          "US-9546176-B2",
          "US-9067891-B2",
          "US-9226930-B2",
          "US-8691849-B2",
          "US-10071095-B2",
          "US-9221840-B2",
          "US-8841323-B2",
          "US-9382208-B1",
          "US-9737533-B2",
          "US-9949988-B2",
          "US-9932399-B2",
          "US-8974365-B2",
          "US-9297005-B2",
          "US-9385672-B2",
          "US-9770535-B2",
          "US-9937249-B2",
          "US-10045947-B2",
          "US-9370558-B2",
          "US-9675561-B2",
          "US-9381235-B2",
          "US-9821045-B2",
          "US-9833467-B2",
          "US-10080789-B2",
          "US-9610328-B2",
          "US-9446107-B2",
          "US-9505727-B2",
          "US-9649501-B2",
          "US-8799235-B2",
          "US-9603894-B2",
          "US-9693954-B2",
          "US-9486512-B2",
          "US-9132210-B2",
          "US-9668757-B2",
          "US-9956270-B2",
          "US-9962381-B2",
          "US-9781061-B2",
          "US-9932339-B2",
          "US-9662322-B2",
          "US-9968600-B2",
          "DE-212016000066-U1",
          "US-9192609-B2",
          "US-9618511-B2",
          "US-9127078-B2",
          "US-9817253-B2",
          "US-9974798-B2",
          "US-9918997-B2",
          "US-9980978-B2",
          "DE-102016008756-B3",
          "US-9597339-B2",
          "US-9532941-B2",
          "US-9755463-B2",
          "US-9775837-B2",
          "US-9855264-B2",
          "US-9742227-B2",
          "US-9748803-B2",
          "US-9323966-B2",
          "US-9476090-B2",
          "US-9748804-B2",
          "US-9918932-B2",
          "US-9182264-B2",
          "US-8985124-B2",
          "US-9357341-B2",
          "US-9742225-B2",
          "US-10075030-B2",
          "US-9742226-B2",
          "US-9951331-B2",
          "US-9994813-B2",
          "US-9789105-B2",
          "US-9789104-B2",
          "US-10064856-B2",
          "US-8791244-B2",
          "US-9273143-B2",
          "US-9827310-B2",
          "US-10040857-B2",
          "US-10024817-B2",
          "US-9220775-B2",
          "US-9284380-B2",
          "US-9718735-B2",
          "US-10031093-B2",
          "US-9946972-B2",
          "US-8993591-B2",
          "US-9271967-B2",
          "US-9827253-B2",
          "US-8906939-B2",
          "US-8722894-B2",
          "US-9708315-B2",
          "US-8937060-B2",
          "US-9132122-B2",
          "US-8748621-B2",
          "US-9994514-B2",
          "US-9085577-B2",
          "US-8946205-B2",
          "US-9949991-B2",
          "US-9266834-B2",
          "US-9114138-B2",
          "US-8716480-B2",
          "US-8697689-B2",
          "US-9012448-B2",
          "US-9387169-B2",
          "US-8785486-B2",
          "US-9067891-B2",
          "US-9226930-B2",
          "US-8691849-B2",
          "US-10071095-B2",
          "US-8841323-B2",
          "US-9737533-B2",
          "US-8984969-B2",
          "US-9132087-B2",
          "US-9957504-B2",
          "US-9200071-B2",
          "US-9399026-B2",
          "US-9918932-B2",
          "US-9932581-B2",
          "US-9382540-B2",
          "US-10024730-B2",
          "US-9831043-B2",
          "US-9954213-B2",
          "US-9379368-B2",
          "US-9991492-B2",
          "US-9771481-B2",
          "US-9431658-B2",
          "US-9737716-B2",
          "US-9802935-B2",
          "US-9789316-B2",
          "US-10066009-B2",
          "US-9999773-B2",
          "US-9409024-B2",
          "US-9926526-B2",
          "US-9504832-B2",
          "US-8577458-B1",
          "US-9925178-B2",
          "US-8571654-B2",
          "US-9272143-B2",
          "US-9643008-B2",
          "US-9879251-B2",
          "US-9446237-B2",
          "US-9533153-B2",
          "US-8965522-B2",
          "US-8918191-B2",
          "US-8923964-B2",
          "US-9745373-B2",
          "US-10004903-B2",
          "US-9669220-B2",
          "US-9708393-B2",
          "US-8918190-B2",
          "US-9855332-B2",
          "US-9713719-B2",
          "US-8600505-B2",
          "US-9393419-B2",
          "US-9643011-B2",
          "US-9808457-B2",
          "US-9415224-B2",
          "US-9919157-B2",
          "US-8923990-B2",
          "US-9526898-B2",
          "US-9950169-B2",
          "US-9770599-B2",
          "US-9808626-B2",
          "US-9764138-B2",
          "US-9688660-B2",
          "US-8700150-B2",
          "US-9452290-B2",
          "US-9511228-B2",
          "US-9114262-B2",
          "US-9592288-B2",
          "US-9827292-B2",
          "US-9913789-B2",
          "US-9504529-B2",
          "US-9698419-B1",
          "US-9757346-B2",
          "US-9895425-B2",
          "US-9136534-B2",
          "US-8481498-B1",
          "US-10084187-B2",
          "US-9034516-B2",
          "US-8795887-B2",
          "US-9637724-B2",
          "US-9972834-B2",
          "US-9763903-B2",
          "US-10023519-B2",
          "US-9159999-B2",
          "US-9549969-B2",
          "US-10010590-B2",
          "US-9585841-B2",
          "US-9326962-B2",
          "US-9757348-B2",
          "US-10085959-B2",
          "US-8962660-B2",
          "US-9308188-B2",
          "US-9432157-B2",
          "US-9966726-B2",
          "US-9783597-B2",
          "US-9796985-B2",
          "US-9783505-B2",
          "US-9481723-B2",
          "US-9899793-B2",
          "US-9458131-B2",
          "US-9717170-B2",
          "US-9199885-B2",
          "US-9156798-B2",
          "US-9266876-B2",
          "US-9160939-B2",
          "US-9556126-B2",
          "US-9698419-B1",
          "US-9136534-B2",
          "US-9763999-B2",
          "US-8722894-B2",
          "US-8961960-B2",
          "US-8691813-B2",
          "US-9896515-B2",
          "US-9925179-B2",
          "US-9159999-B2",
          "US-8697689-B2",
          "US-9067891-B2",
          "US-9744234-B2",
          "US-9447039-B2",
          "US-9528103-B2",
          "US-9392562-B2",
          "US-9155057-B2",
          "US-9271248-B2",
          "US-9756553-B2",
          "US-9237530-B2",
          "US-9220109-B2",
          "US-10022042-B2",
          "US-9448360-B2",
          "US-9057068-B1",
          "US-9642105-B2",
          "US-9204349-B2",
          "US-9696421-B2",
          "US-9127014-B2",
          "US-9655972-B2",
          "US-9657030-B2",
          "US-10059811-B2",
          "US-9655978-B2",
          "US-9593124-B2",
          "US-9499557-B2",
          "US-9481669-B2",
          "US-9624232-B2",
          "US-9280718-B2",
          "US-9207318-B2",
          "US-10045711-B2",
          "US-9587071-B2",
          "US-9392959-B2",
          "US-9724013-B2",
          "US-9808177-B2",
          "US-9716319-B2",
          "US-9831562-B2",
          "US-9345421-B2",
          "US-9439920-B2",
          "US-9575108-B2",
          "US-9839632-B2",
          "US-9717170-B2",
          "US-9452181-B2",
          "US-9446112-B2",
          "DE-202013102692-U1",
          "US-10028941-B2",
          "US-9738879-B2",
          "US-9539300-B2",
          "US-10010603-B2",
          "US-9919041-B2",
          "EP-2956167-B1",
          "US-9925256-B2",
          "US-10059997-B2",
          "US-9622971-B2",
          "US-9828582-B2",
          "US-9925255-B2",
          "US-9574211-B2",
          "US-9943587-B2",
          "US-9650674-B2",
          "US-9976180-B2",
          "US-10010604-B2",
          "US-10018989-B2",
          "US-9173617-B2",
          "US-9987349-B2",
          "US-9186357-B2",
          "US-8877808-B2",
          "US-8962321-B2",
          "US-8961956-B2",
          "US-8951969-B2",
          "US-9676864-B2",
          "US-8623826-B2",
          "US-9751824-B2",
          "US-10022427-B2",
          "US-9272029-B2",
          "US-9943515-B2",
          "US-8703801-B2",
          "EP-2064556-B1",
          "US-9933437-B2",
          "US-9254308-B2",
          "US-8986698-B2",
          "US-9345734-B2",
          "US-9657350-B2",
          "US-9669068-B2",
          "US-9518127-B2",
          "US-9127063-B2",
          "US-9428759-B2",
          "US-9186391-B2",
          "US-9333214-B2",
          "US-9695167-B2",
          "US-8901125-B2",
          "US-8993591-B2",
          "US-9271967-B2",
          "US-8906939-B2",
          "US-8722894-B2",
          "US-9708315-B2",
          "US-9549939-B2",
          "US-9994546-B2",
          "US-8937060-B2",
          "US-9402845-B2",
          "US-9132122-B2",
          "US-8748621-B2",
          "US-9724301-B2",
          "US-9511082-B2",
          "US-9119783-B2",
          "US-10047086-B2",
          "US-9085577-B2",
          "US-8946205-B2",
          "US-8853237-B2",
          "US-8710074-B2",
          "US-9266834-B2",
          "US-9114138-B2",
          "US-9566234-B2",
          "US-9758523-B2",
          "US-9895385-B2",
          "US-9549925-B2",
          "US-9944647-B2",
          "US-8716480-B2",
          "US-9827317-B2",
          "US-8697689-B2",
          "US-9012448-B2",
          "US-8785486-B2",
          "US-9493450-B2",
          "US-9737555-B2",
          "US-9067891-B2",
          "US-9527835-B2",
          "US-9114081-B2",
          "US-9226930-B2",
          "US-9925205-B2",
          "US-8691849-B2",
          "US-9695180-B2",
          "US-10071095-B2",
          "US-9029366-B2",
          "US-9670210-B2",
          "US-9695168-B2",
          "US-10064882-B2",
          "US-9862767-B2",
          "US-9552457-B2",
          "US-8841323-B2",
          "US-9493442-B2",
          "US-9737533-B2",
          "US-8574860-B2",
          "US-9034885-B2",
          "US-9649376-B2",
          "US-9725505-B2",
          "US-9763949-B2",
          "US-8685988-B2",
          "US-9993535-B2",
          "US-9920074-B2",
          "US-9586965-B2",
          "US-9464089-B2",
          "US-9427449-B2",
          "EP-2540829-B1",
          "US-9389276-B2",
          "US-9089589-B2",
          "US-9175076-B2",
          "US-9918955-B2",
          "US-9698419-B1",
          "US-9768885-B2",
          "US-9136534-B2",
          "US-10016386-B2",
          "US-9855240-B2",
          "US-9937228-B2",
          "US-9132174-B2",
          "US-10010517-B2",
          "US-9159999-B2",
          "US-8895571-B2",
          "US-9889135-B2",
          "US-9827219-B2",
          "US-9918954-B2",
          "US-9637738-B2",
          "DE-102011017734-B4",
          "US-8790878-B2",
          "US-9193971-B2",
          "US-9610348-B2",
          "US-9573983-B2",
          "US-9717794-B2",
          "US-9644034-B2",
          "US-10064937-B2",
          "US-8802081-B2",
          "US-9598497-B2",
          "US-9872920-B2",
          "US-9428745-B2",
          "US-9512200-B2",
          "US-9102913-B2",
          "US-9568476-B2",
          "US-8946305-B2",
          "US-8663852-B2",
          "US-9863949-B2",
          "US-9737488-B2",
          "US-9362568-B2",
          "US-9988376-B2",
          "US-9515310-B2",
          "US-9143089-B2",
          "US-9997778-B2",
          "US-9993514-B2",
          "US-9326735-B2",
          "US-9938264-B2",
          "US-9211413-B2",
          "US-8781583-B2",
          "US-9468764-B2",
          "US-9155893-B2",
          "US-8406868-B2",
          "US-9145584-B2",
          "US-8888699-B2",
          "US-9466834-B2",
          "US-8706223-B2",
          "US-8639327-B2",
          "US-8637573-B2",
          "US-9585854-B2",
          "US-8725259-B2",
          "US-8718763-B2",
          "US-9440189-B2",
          "US-8423134-B2",
          "US-10022342-B2",
          "US-10016600-B2",
          "US-8781582-B2",
          "US-9861603-B2",
          "US-9515310-B2",
          "US-9128246-B2",
          "US-9855273-B2",
          "US-9504706-B2",
          "US-8778894-B2",
          "US-9842375-B2",
          "US-9997778-B2",
          "US-9943522-B2",
          "US-9168257-B2",
          "US-9603822-B2",
          "US-9671415-B2",
          "US-9738621-B2",
          "US-9436784-B2",
          "US-10028675-B2",
          "US-9163215-B2",
          "US-9074207-B2",
          "US-9669109-B1",
          "US-9988629-B2",
          "US-10059752-B2",
          "AU-2012275335-B2",
          "US-9051063-B1",
          "US-8637642-B2",
          "US-9229012-B2",
          "US-9641154-B2",
          "US-9314538-B2",
          "US-8849580-B2",
          "US-9340784-B2",
          "US-9962454-B2",
          "US-9078931-B2",
          "US-9752175-B2",
          "US-10017517-B2",
          "US-10052497-B2",
          "US-9453215-B2",
          "US-8932562-B2",
          "US-8956363-B2",
          "US-9101690-B2",
          "US-9963459-B1",
          "US-9308392-B2",
          "US-9568449-B2",
          "US-10046174-B2",
          "US-9855267-B2",
          "US-8071562-B2",
          "US-9879018-B2",
          "US-8815582-B2",
          "US-10087223-B2",
          "US-9359449-B2",
          "US-9187745-B2",
          "US-9360472-B2",
          "US-8864805-B2",
          "US-9096651-B2",
          "US-9365852-B2",
          "US-9278159-B2",
          "US-9249234-B2",
          "US-10064912-B2",
          "US-10036758-B2",
          "US-9644241-B2",
          "US-10045999-B2",
          "US-9274099-B2",
          "US-10035027-B2",
          "US-9249200-B2",
          "US-9604073-B2",
          "US-9829492-B2",
          "US-9421258-B2",
          "US-9969783-B2",
          "US-9592252-B2",
          "US-9765054-B2",
          "US-10047388-B2",
          "US-10018695-B2",
          "US-9925208-B2",
          "US-8962589-B2",
          "US-9340589-B2",
          "US-9238150-B2",
          "US-9458208-B2",
          "US-9576241-B2",
          "US-9879019-B2",
          "US-9506061-B2",
          "US-9394347-B2",
          "US-9840541-B2",
          "US-8568971-B2",
          "US-9828429-B2",
          "US-9738640-B2",
          "US-9080215-B2",
          "US-10016504-B2",
          "US-9079940-B2",
          "US-9890377-B2",
          "US-9707297-B2",
          "US-9271674-B2",
          "US-8926959-B2",
          "US-8729040-B2",
          "US-9868948-B2",
          "US-9636380-B2",
          "US-9522288-B2",
          "US-8906360-B2",
          "US-9101759-B2",
          "US-9387246-B2",
          "US-9693692-B2",
          "US-8834546-B2",
          "US-9084885-B2",
          "US-8361714-B2",
          "US-9365628-B2",
          "US-9238660-B1",
          "US-10086012-B2",
          "US-9284353-B2",
          "US-9855442-B2",
          "US-9878176-B2",
          "US-9615789-B2",
          "US-9309296-B2",
          "US-9447414-B2",
          "US-8173611-B2",
          "US-9951331-B2",
          "US-9961932-B2",
          "US-9992981-B2",
          "US-9175095-B2",
          "US-8258111-B2",
          "US-9235806-B2",
          "US-9850290-B2",
          "US-8765709-B2",
          "US-8946177-B2",
          "US-9505817-B2",
          "US-10071132-B2",
          "US-9951080-B2",
          "US-9968652-B2",
          "US-8465914-B2",
          "US-9763941-B2",
          "AU-2017201900-B2",
          "US-10005761-B2",
          "US-8900836-B2",
          "US-9741047-B1",
          "US-9850229-B2",
          "US-9850230-B2",
          "US-9314464-B2",
          "US-9387208-B2",
          "US-9592288-B2",
          "US-9879251-B2",
          "US-9884057-B2",
          "US-9593099-B2",
          "US-8604075-B2",
          "US-9834601-B2",
          "US-9428745-B2",
          "US-9771617-B2",
          "EP-2814982-B1",
          "US-10011873-B2",
          "US-9593100-B2",
          "US-9089589-B2",
          "US-9994763-B2",
          "US-10004471-B2",
          "US-8765410-B2",
          "US-9268536-B2",
          "US-9012177-B2",
          "US-9917557-B1",
          "US-8688618-B2",
          "US-9880802-B2",
          "US-9998826-B2",
          "US-9967665-B2",
          "US-8993591-B2",
          "US-9271967-B2",
          "US-8906939-B2",
          "US-8722894-B2",
          "US-9708315-B2",
          "US-8602996-B2",
          "US-8937060-B2",
          "US-9132122-B2",
          "US-9843027-B1",
          "US-9795569-B2",
          "US-8748621-B2",
          "US-9262208-B2",
          "US-9813814-B1",
          "US-8835485-B2",
          "US-9955254-B2",
          "US-9085577-B2",
          "US-9725505-B2",
          "US-8946205-B2",
          "US-9387344-B2",
          "US-9266834-B2",
          "US-9114138-B2",
          "US-10064594-B2",
          "US-8716480-B2",
          "US-9232897-B2",
          "US-8697689-B2",
          "US-9012448-B2",
          "US-10008992-B1",
          "US-9820946-B2",
          "US-8785486-B2",
          "US-9135056-B2",
          "US-9287874-B2",
          "US-9959856-B2",
          "US-9067891-B2",
          "US-9807504-B2",
          "US-9613911-B2",
          "US-9226930-B2",
          "US-9929703-B1",
          "US-8691849-B2",
          "US-9590253-B2",
          "US-10071095-B2",
          "US-8431360-B2",
          "US-9757084-B2",
          "US-8841323-B2",
          "US-9998823-B2",
          "US-9350012-B2",
          "US-9585865-B2",
          "US-9903870-B2",
          "US-9737533-B2",
          "US-9175076-B2",
          "US-9824179-B2",
          "US-9499865-B2",
          "US-9023252-B2",
          "US-9228232-B2",
          "US-9077041-B2",
          "US-9271978-B2",
          "US-9577267-B2",
          "US-9636328-B2",
          "US-9347099-B2",
          "US-9567439-B1",
          "US-9073878-B2",
          "US-9706759-B2",
          "US-9496545-B2",
          "US-10066265-B2",
          "US-8936870-B2",
          "US-9043160-B1",
          "US-9663520-B2",
          "US-9708657-B2",
          "US-10072095-B2",
          "US-9523129-B2",
          "US-9147883-B2",
          "US-9744149-B2",
          "US-9278940-B2",
          "US-9662311-B2",
          "US-9549963-B2",
          "US-9629822-B2",
          "US-9522114-B1",
          "US-9548492-B2",
          "US-10077473-B2",
          "US-9559348-B2",
          "US-9598367-B2",
          "US-9622459-B2",
          "US-9528160-B2",
          "US-9550829-B2",
          "US-10011661-B2",
          "US-9932408-B2",
          "US-9005809-B2",
          "US-10082496-B2",
          "US-9419274-B2",
          "US-8940696-B2",
          "US-9505727-B2",
          "US-9214678-B2",
          "US-9861637-B2",
          "US-9577243-B2",
          "US-9765039-B2",
          "US-8691510-B2",
          "US-9279159-B2",
          "US-9853287-B2",
          "US-9950026-B2",
          "US-9982058-B2",
          "US-9855271-B2",
          "US-8795970-B2",
          "US-9457057-B2",
          "US-9365901-B2",
          "US-9181590-B2",
          "US-9969683-B2",
          "US-9930871-B2",
          "US-9856532-B2",
          "US-9944716-B2",
          "US-9932398-B2",
          "US-9150614-B2",
          "US-9663573-B2",
          "US-10010556-B2",
          "US-9809813-B2",
          "US-9531009-B2",
          "US-9217176-B2",
          "US-9150905-B2",
          "US-8748103-B2",
          "US-9371558-B2",
          "US-9623069-B2",
          "US-9416420-B2",
          "US-9023807-B2",
          "US-9506119-B2",
          "US-9512487-B2",
          "US-9040197-B2",
          "US-9686970-B2",
          "US-9034421-B2",
          "US-9744212-B2",
          "US-9272014-B2",
          "US-9568449-B2",
          "US-9742034-B2",
          "US-9486449-B2",
          "US-10020538-B2",
          "US-9796985-B2",
          "US-9502666-B2",
          "AU-2013309437-B2",
          "US-8598136-B2",
          "US-9909138-B2",
          "US-9550736-B2",
          "US-8729080-B2",
          "US-9089589-B2",
          "US-9644240-B2",
          "US-8816118-B2"
         ],
         "yaxis": "y"
        }
       ],
       "layout": {
        "autosize": true,
        "barmode": "relative",
        "grid": {
         "xaxes": [
          "x"
         ],
         "xgap": 0.1,
         "xside": "bottom",
         "yaxes": [
          "y"
         ],
         "ygap": 0.1,
         "yside": "left"
        },
        "legend": {
         "tracegroupgap": 0
        },
        "margin": {
         "t": 60
        },
        "template": {
         "data": {
          "bar": [
           {
            "marker": {
             "line": {
              "color": "#E5ECF6",
              "width": 0.5
             }
            },
            "type": "bar"
           }
          ],
          "barpolar": [
           {
            "marker": {
             "line": {
              "color": "#E5ECF6",
              "width": 0.5
             }
            },
            "type": "barpolar"
           }
          ],
          "carpet": [
           {
            "aaxis": {
             "endlinecolor": "#2a3f5f",
             "gridcolor": "white",
             "linecolor": "white",
             "minorgridcolor": "white",
             "startlinecolor": "#2a3f5f"
            },
            "baxis": {
             "endlinecolor": "#2a3f5f",
             "gridcolor": "white",
             "linecolor": "white",
             "minorgridcolor": "white",
             "startlinecolor": "#2a3f5f"
            },
            "type": "carpet"
           }
          ],
          "choropleth": [
           {
            "colorbar": {
             "outlinewidth": 0,
             "ticks": ""
            },
            "type": "choropleth"
           }
          ],
          "contour": [
           {
            "colorbar": {
             "outlinewidth": 0,
             "ticks": ""
            },
            "colorscale": [
             [
              0,
              "#0508b8"
             ],
             [
              0.0893854748603352,
              "#1910d8"
             ],
             [
              0.1787709497206704,
              "#3c19f0"
             ],
             [
              0.2681564245810056,
              "#6b1cfb"
             ],
             [
              0.3575418994413408,
              "#981cfd"
             ],
             [
              0.44692737430167595,
              "#bf1cfd"
             ],
             [
              0.5363128491620112,
              "#dd2bfd"
             ],
             [
              0.6256983240223464,
              "#f246fe"
             ],
             [
              0.7150837988826816,
              "#fc67fd"
             ],
             [
              0.8044692737430168,
              "#fe88fc"
             ],
             [
              0.8938547486033519,
              "#fea5fd"
             ],
             [
              0.9832402234636871,
              "#febefe"
             ],
             [
              1,
              "#fec3fe"
             ]
            ],
            "type": "contour"
           }
          ],
          "contourcarpet": [
           {
            "colorbar": {
             "outlinewidth": 0,
             "ticks": ""
            },
            "type": "contourcarpet"
           }
          ],
          "heatmap": [
           {
            "colorbar": {
             "outlinewidth": 0,
             "ticks": ""
            },
            "colorscale": [
             [
              0,
              "#0508b8"
             ],
             [
              0.0893854748603352,
              "#1910d8"
             ],
             [
              0.1787709497206704,
              "#3c19f0"
             ],
             [
              0.2681564245810056,
              "#6b1cfb"
             ],
             [
              0.3575418994413408,
              "#981cfd"
             ],
             [
              0.44692737430167595,
              "#bf1cfd"
             ],
             [
              0.5363128491620112,
              "#dd2bfd"
             ],
             [
              0.6256983240223464,
              "#f246fe"
             ],
             [
              0.7150837988826816,
              "#fc67fd"
             ],
             [
              0.8044692737430168,
              "#fe88fc"
             ],
             [
              0.8938547486033519,
              "#fea5fd"
             ],
             [
              0.9832402234636871,
              "#febefe"
             ],
             [
              1,
              "#fec3fe"
             ]
            ],
            "type": "heatmap"
           }
          ],
          "heatmapgl": [
           {
            "colorbar": {
             "outlinewidth": 0,
             "ticks": ""
            },
            "type": "heatmapgl"
           }
          ],
          "histogram": [
           {
            "marker": {
             "colorbar": {
              "outlinewidth": 0,
              "ticks": ""
             }
            },
            "type": "histogram"
           }
          ],
          "histogram2d": [
           {
            "colorbar": {
             "outlinewidth": 0,
             "ticks": ""
            },
            "colorscale": [
             [
              0,
              "#0508b8"
             ],
             [
              0.0893854748603352,
              "#1910d8"
             ],
             [
              0.1787709497206704,
              "#3c19f0"
             ],
             [
              0.2681564245810056,
              "#6b1cfb"
             ],
             [
              0.3575418994413408,
              "#981cfd"
             ],
             [
              0.44692737430167595,
              "#bf1cfd"
             ],
             [
              0.5363128491620112,
              "#dd2bfd"
             ],
             [
              0.6256983240223464,
              "#f246fe"
             ],
             [
              0.7150837988826816,
              "#fc67fd"
             ],
             [
              0.8044692737430168,
              "#fe88fc"
             ],
             [
              0.8938547486033519,
              "#fea5fd"
             ],
             [
              0.9832402234636871,
              "#febefe"
             ],
             [
              1,
              "#fec3fe"
             ]
            ],
            "type": "histogram2d"
           }
          ],
          "histogram2dcontour": [
           {
            "colorbar": {
             "outlinewidth": 0,
             "ticks": ""
            },
            "colorscale": [
             [
              0,
              "#0508b8"
             ],
             [
              0.0893854748603352,
              "#1910d8"
             ],
             [
              0.1787709497206704,
              "#3c19f0"
             ],
             [
              0.2681564245810056,
              "#6b1cfb"
             ],
             [
              0.3575418994413408,
              "#981cfd"
             ],
             [
              0.44692737430167595,
              "#bf1cfd"
             ],
             [
              0.5363128491620112,
              "#dd2bfd"
             ],
             [
              0.6256983240223464,
              "#f246fe"
             ],
             [
              0.7150837988826816,
              "#fc67fd"
             ],
             [
              0.8044692737430168,
              "#fe88fc"
             ],
             [
              0.8938547486033519,
              "#fea5fd"
             ],
             [
              0.9832402234636871,
              "#febefe"
             ],
             [
              1,
              "#fec3fe"
             ]
            ],
            "type": "histogram2dcontour"
           }
          ],
          "mesh3d": [
           {
            "colorbar": {
             "outlinewidth": 0,
             "ticks": ""
            },
            "type": "mesh3d"
           }
          ],
          "parcoords": [
           {
            "line": {
             "colorbar": {
              "outlinewidth": 0,
              "ticks": ""
             }
            },
            "type": "parcoords"
           }
          ],
          "scatter": [
           {
            "marker": {
             "colorbar": {
              "outlinewidth": 0,
              "ticks": ""
             }
            },
            "type": "scatter"
           }
          ],
          "scatter3d": [
           {
            "marker": {
             "colorbar": {
              "outlinewidth": 0,
              "ticks": ""
             }
            },
            "type": "scatter3d"
           }
          ],
          "scattercarpet": [
           {
            "marker": {
             "colorbar": {
              "outlinewidth": 0,
              "ticks": ""
             }
            },
            "type": "scattercarpet"
           }
          ],
          "scattergeo": [
           {
            "marker": {
             "colorbar": {
              "outlinewidth": 0,
              "ticks": ""
             }
            },
            "type": "scattergeo"
           }
          ],
          "scattergl": [
           {
            "marker": {
             "colorbar": {
              "outlinewidth": 0,
              "ticks": ""
             }
            },
            "type": "scattergl"
           }
          ],
          "scattermapbox": [
           {
            "marker": {
             "colorbar": {
              "outlinewidth": 0,
              "ticks": ""
             }
            },
            "type": "scattermapbox"
           }
          ],
          "scatterpolar": [
           {
            "marker": {
             "colorbar": {
              "outlinewidth": 0,
              "ticks": ""
             }
            },
            "type": "scatterpolar"
           }
          ],
          "scatterpolargl": [
           {
            "marker": {
             "colorbar": {
              "outlinewidth": 0,
              "ticks": ""
             }
            },
            "type": "scatterpolargl"
           }
          ],
          "scatterternary": [
           {
            "marker": {
             "colorbar": {
              "outlinewidth": 0,
              "ticks": ""
             }
            },
            "type": "scatterternary"
           }
          ],
          "surface": [
           {
            "colorbar": {
             "outlinewidth": 0,
             "ticks": ""
            },
            "type": "surface"
           }
          ],
          "table": [
           {
            "cells": {
             "fill": {
              "color": "#EBF0F8"
             },
             "line": {
              "color": "white"
             }
            },
            "header": {
             "fill": {
              "color": "#C8D4E3"
             },
             "line": {
              "color": "white"
             }
            },
            "type": "table"
           }
          ]
         },
         "layout": {
          "annotationdefaults": {
           "arrowcolor": "#506784",
           "arrowhead": 0,
           "arrowwidth": 1
          },
          "colorscale": {
           "diverging": [
            [
             0,
             "#8e0152"
            ],
            [
             0.1,
             "#c51b7d"
            ],
            [
             0.2,
             "#de77ae"
            ],
            [
             0.3,
             "#f1b6da"
            ],
            [
             0.4,
             "#fde0ef"
            ],
            [
             0.5,
             "#f7f7f7"
            ],
            [
             0.6,
             "#e6f5d0"
            ],
            [
             0.7,
             "#b8e186"
            ],
            [
             0.8,
             "#7fbc41"
            ],
            [
             0.9,
             "#4d9221"
            ],
            [
             1,
             "#276419"
            ]
           ],
           "sequential": [
            [
             0,
             "#0508b8"
            ],
            [
             0.0893854748603352,
             "#1910d8"
            ],
            [
             0.1787709497206704,
             "#3c19f0"
            ],
            [
             0.2681564245810056,
             "#6b1cfb"
            ],
            [
             0.3575418994413408,
             "#981cfd"
            ],
            [
             0.44692737430167595,
             "#bf1cfd"
            ],
            [
             0.5363128491620112,
             "#dd2bfd"
            ],
            [
             0.6256983240223464,
             "#f246fe"
            ],
            [
             0.7150837988826816,
             "#fc67fd"
            ],
            [
             0.8044692737430168,
             "#fe88fc"
            ],
            [
             0.8938547486033519,
             "#fea5fd"
            ],
            [
             0.9832402234636871,
             "#febefe"
            ],
            [
             1,
             "#fec3fe"
            ]
           ],
           "sequentialminus": [
            [
             0,
             "#0508b8"
            ],
            [
             0.0893854748603352,
             "#1910d8"
            ],
            [
             0.1787709497206704,
             "#3c19f0"
            ],
            [
             0.2681564245810056,
             "#6b1cfb"
            ],
            [
             0.3575418994413408,
             "#981cfd"
            ],
            [
             0.44692737430167595,
             "#bf1cfd"
            ],
            [
             0.5363128491620112,
             "#dd2bfd"
            ],
            [
             0.6256983240223464,
             "#f246fe"
            ],
            [
             0.7150837988826816,
             "#fc67fd"
            ],
            [
             0.8044692737430168,
             "#fe88fc"
            ],
            [
             0.8938547486033519,
             "#fea5fd"
            ],
            [
             0.9832402234636871,
             "#febefe"
            ],
            [
             1,
             "#fec3fe"
            ]
           ]
          },
          "colorway": [
           "#636efa",
           "#EF553B",
           "#00cc96",
           "#ab63fa",
           "#19d3f3",
           "#e763fa",
           "#FECB52",
           "#FFA15A",
           "#FF6692",
           "#B6E880"
          ],
          "font": {
           "color": "#2a3f5f"
          },
          "geo": {
           "bgcolor": "white",
           "lakecolor": "white",
           "landcolor": "#E5ECF6",
           "showlakes": true,
           "showland": true,
           "subunitcolor": "white"
          },
          "hoverlabel": {
           "align": "left"
          },
          "hovermode": "closest",
          "mapbox": {
           "style": "light"
          },
          "paper_bgcolor": "white",
          "plot_bgcolor": "#E5ECF6",
          "polar": {
           "angularaxis": {
            "gridcolor": "white",
            "linecolor": "white",
            "ticks": ""
           },
           "bgcolor": "#E5ECF6",
           "radialaxis": {
            "gridcolor": "white",
            "linecolor": "white",
            "ticks": ""
           }
          },
          "scene": {
           "xaxis": {
            "backgroundcolor": "#E5ECF6",
            "gridcolor": "white",
            "gridwidth": 2,
            "linecolor": "white",
            "showbackground": true,
            "ticks": "",
            "zerolinecolor": "white"
           },
           "yaxis": {
            "backgroundcolor": "#E5ECF6",
            "gridcolor": "white",
            "gridwidth": 2,
            "linecolor": "white",
            "showbackground": true,
            "ticks": "",
            "zerolinecolor": "white"
           },
           "zaxis": {
            "backgroundcolor": "#E5ECF6",
            "gridcolor": "white",
            "gridwidth": 2,
            "linecolor": "white",
            "showbackground": true,
            "ticks": "",
            "zerolinecolor": "white"
           }
          },
          "shapedefaults": {
           "fillcolor": "#506784",
           "line": {
            "width": 0
           },
           "opacity": 0.4
          },
          "ternary": {
           "aaxis": {
            "gridcolor": "white",
            "linecolor": "white",
            "ticks": ""
           },
           "baxis": {
            "gridcolor": "white",
            "linecolor": "white",
            "ticks": ""
           },
           "bgcolor": "#E5ECF6",
           "caxis": {
            "gridcolor": "white",
            "linecolor": "white",
            "ticks": ""
           }
          },
          "title": {
           "x": 0.05
          },
          "xaxis": {
           "automargin": true,
           "gridcolor": "white",
           "linecolor": "white",
           "ticks": "",
           "zerolinecolor": "white",
           "zerolinewidth": 2
          },
          "yaxis": {
           "automargin": true,
           "gridcolor": "white",
           "linecolor": "white",
           "ticks": "",
           "zerolinecolor": "white",
           "zerolinewidth": 2
          }
         }
        },
        "xaxis": {
         "autorange": true,
         "range": [
          1985.5,
          2018.5
         ],
         "title": {
          "text": "year"
         },
         "type": "linear"
        },
        "yaxis": {
         "autorange": true,
         "range": [
          0,
          285.2631578947368
         ],
         "title": {
          "text": "count of id"
         },
         "type": "linear"
        }
       }
      },
      "image/png": "[encoded data removed]",
      "text/html": [
       "<div>\n",
       "        \n",
       "        \n",
       "            <div id=\"82c0e08b-f836-45d2-9dff-bc84bc64ebde\" class=\"plotly-graph-div\" style=\"height:600px; width:100%;\"></div>\n",
       "            <script type=\"text/javascript\">\n",
       "                require([\"plotly\"], function(Plotly) {\n",
       "                    window.PLOTLYENV=window.PLOTLYENV || {};\n",
       "                    window.PLOTLYENV.BASE_URL='https://plot.ly';\n",
       "                    \n",
       "                if (document.getElementById(\"82c0e08b-f836-45d2-9dff-bc84bc64ebde\")) {\n",
       "                    Plotly.newPlot(\n",
       "                        '82c0e08b-f836-45d2-9dff-bc84bc64ebde',\n",
       "                        [{\"alignmentgroup\": \"True\", \"bingroup\": \"x\", \"hoverlabel\": {\"namelength\": 0}, \"hovertemplate\": \"filing_status=Application<br>year=%{x}<br>count of id=%{y}\", \"legendgroup\": \"filing_status=Application\", \"marker\": {\"color\": \"#636efa\"}, \"name\": \"filing_status=Application\", \"offsetgroup\": \"filing_status=Application\", \"orientation\": \"v\", \"showlegend\": true, \"type\": \"histogram\", \"uid\": \"04aae640-8f33-4869-b70d-f9918d17100d\", \"x\": [2016, 2017, 2016, 2017, 2016, 2017, 2012, 2016, 2017, 2016, 2017, 2016, 2015, 2016, 2017, 2015, 2017, 2016, 2016, 2016, 2016, 2015, 2015, 2016, 2016, 2016, 2016, 2015, 2016, 2017, 2017, 2015, 2017, 2017, 2017, 2016, 2017, 2017, 2016, 2016, 2015, 2017, 2017, 2016, 2016, 2016, 2017, 2016, 2015, 2015, 2016, 2016, 2016, 2015, 2015, 2015, 2014, 2015, 2017, 2015, 2016, 2015, 2016, 2013, 2017, 2017, 2016, 2015, 2017, 2017, 2015, 2014, 2016, 2016, 2017, 2016, 2016, 2017, 2014, 2017, 2014, 2017, 2015, 2016, 2015, 2014, 2016, 2015, 2016, 2015, 2016, 2016, 2016, 2013, 2015, 2016, 2015, 2014, 2016, 2015, 2015, 2014, 2016, 2013, 2015, 2017, 2014, 2015, 2015, 2016, 1986, 2016, 2016, 2015, 2016, 2015, 2017, 2016, 2015, 2016, 2014, 2016, 2015, 2016, 2015, 2015, 2014, 2014, 2015, 2014, 2016, 2016, 2015, 2017, 2017, 2017, 2014, 2014, 2014, 2014, 2015, 2015, 2016, 2015, 2014, 2014, 2014, 2015, 2015, 2014, 2014, 2014, 2014, 2016, 2009, 2013, 2016, 2017, 2017, 2016, 2015, 2015, 2015, 2015, 2015, 2016, 2015, 2015, 2013, 2012, 2017, 2016, 2017, 2017, 2013, 2013, 2015, 2013, 2014, 2015, 2016, 2015, 2017, 2013, 2012, 2014, 2016, 2015, 2015, 2014, 2014, 2016, 2016, 2015, 2014, 2017, 2016, 2014, 2013, 2014, 2016, 2016, 2015, 2011, 2011, 2014, 2012, 2017, 2014, 2017, 2014, 2016, 2014, 2017, 2012, 2015, 2010, 2013, 2015, 2014, 2016, 2011, 2015, 2010, 2015, 2015, 2009, 2015, 2012, 2015, 2014, 2014, 2017, 2016, 2017, 2015, 2014, 2015, 2012, 2017, 2013, 2013, 2016, 2013, 2012, 2013, 2015, 2014, 2016, 2017, 2013, 2017, 2017, 2012, 2014, 2015, 2016, 2015, 2015, 2012, 2015, 2016, 2014, 2016, 2013, 2013, 2017, 2014, 2013, 2013, 2012, 2012, 2014, 2013, 2013, 2013, 2013, 2016, 2013, 2014, 2017, 2014, 2016, 2014, 2017, 2017, 2016, 2014, 2015, 2012, 2010, 2013, 2017, 2014, 2017, 2012, 2010, 2013, 2012, 2012, 2014, 2014, 2016, 2012, 2014, 2012, 2015, 2014, 2014, 2014, 2015, 2014, 2013, 2016, 2017, 2014, 2014, 2013, 2013, 2014, 2013, 2017, 2016, 2013, 2013, 2016, 2013, 2015, 2017, 2011, 2015, 2014, 2011, 2012, 2015, 2017, 2011, 2007, 2016, 2011, 2012, 2013, 2013, 2014, 2012, 2014, 2013, 2013, 2013, 2015, 2013, 2012, 2011, 2013, 2017, 2013, 2012, 2016, 2014, 2014, 2012, 2015, 2015, 2013, 2013, 2017, 2012, 2012, 2013, 2013, 2017, 2012, 2016, 2012, 2014, 2012, 2013, 2016, 2015, 2014, 2015, 2011, 2013, 2011, 2013, 2012, 2012, 2012, 2014, 2015, 2016, 2013, 2013, 2015, 2013, 2013, 2013, 2013, 2013, 2013, 2015, 2012, 2012, 2017, 2015, 2012, 2014, 2016, 2016, 2015, 2013, 2011, 2013, 2011, 2011, 2011, 2017, 2014, 2011, 2011, 2011, 2017, 2015, 2012, 2015, 2011, 2016, 2013, 2014, 2012, 2012, 2014, 2016, 2014, 2012, 2011, 2014, 2013, 2012, 2013, 2011, 2014, 2012, 2013, 2016, 2011, 2011, 2016, 2012, 2012, 2012, 2014, 2011, 2012, 2016, 2011, 2012, 2012, 2012, 2015, 2011, 2011, 2013, 2015, 2012, 2012, 2011, 2012, 2011, 2013, 2014, 2013, 2014, 2014, 2013, 2014, 2017, 2016, 2012, 2012, 2012, 2012, 2015, 2014, 2014, 2011, 2014, 2014, 2011, 2012, 2012, 2015, 2012, 2013, 2016, 2013, 2012, 2012, 2017, 2010, 2011, 2017, 2013, 2010, 2016, 2013, 2012, 2014, 2007, 2012, 2017, 2013, 2013, 2012, 2012, 2014, 2013, 2011, 2013, 2014, 2014, 2012, 2014, 2016, 2014, 2011, 2016, 2014, 2013, 2010, 2011, 2014, 2013, 2014, 2014, 2014, 2012, 2014, 2010, 2015, 2011, 2016], \"xaxis\": \"x\", \"y\": [\"WO-2016170023-A1\", \"WO-2018078665-A1\", \"WO-2016113719-A1\", \"WO-2018002475-A1\", \"WO-2016146979-A1\", \"WO-2017207223-A1\", \"WO-2013064555-A1\", \"EP-3308778-A1\", \"WO-2018069471-A1\", \"WO-2017102939-A1\", \"WO-2018041995-A3\", \"EP-3258582-A1\", \"FR-3043480-A1\", \"WO-2017085138-A1\", \"WO-2018046870-A1\", \"WO-2016120647-A2\", \"WO-2017149474-A1\", \"WO-2017103783-A1\", \"WO-2016181177-A2\", \"WO-2016176427-A1\", \"DE-102016214332-A1\", \"DE-102015015597-A1\", \"FR-3043480-A1\", \"WO-2017103615-A1\", \"WO-2017103783-A1\", \"WO-2018029505-A1\", \"WO-2017093553-A1\", \"FR-3045859-A1\", \"WO-2017093931-A1\", \"WO-2017130106-A1\", \"WO-2017144471-A1\", \"WO-2016102586-A1\", \"WO-2017199042-A1\", \"WO-2018046870-A1\", \"WO-2017207610-A1\", \"WO-2017081709-A1\", \"WO-2018041959-A1\", \"WO-2017172588-A1\", \"EP-3272745-A1\", \"WO-2016184931-A1\", \"WO-2016079097-A1\", \"EP-3211826-A1\", \"WO-2018015558-A1\", \"WO-2017108895-A1\", \"FR-3048319-A1\", \"WO-2017008816-A1\", \"WO-2018091713-A1\", \"WO-2017008101-A1\", \"WO-2016091996-A1\", \"EP-3188373-A1\", \"US-20170104369-A1\", \"WO-2017039806-A1\", \"WO-2017039812-A1\", \"EP-3188372-A1\", \"WO-2016033422-A1\", \"WO-2016024131-A1\", \"EP-2963155-A1\", \"WO-2016001436-A1\", \"WO-2018100325-A1\", \"WO-2016016119-A1\", \"FR-3050050-A1\", \"WO-2016012968-A1\", \"EP-3208750-A1\", \"US-20150224172-A1\", \"WO-2017178352-A1\", \"WO-2017144372-A1\", \"FR-3059805-A1\", \"EP-3154544-A4\", \"WO-2017129618-A1\", \"WO-2017141879-A1\", \"EP-3113475-A1\", \"WO-2015052511-A1\", \"WO-2016185443-A1\", \"WO-2016185160-A1\", \"WO-2018050706-A1\", \"WO-2016116850-A1\", \"WO-2016141220-A1\", \"WO-2018037203-A1\", \"WO-2014198993-A1\", \"WO-2017205105-A1\", \"EP-3082814-A4\", \"WO-2017144674-A1\", \"WO-2016111887-A3\", \"WO-2017009676-A1\", \"EP-3104278-A1\", \"WO-2015063099-A1\", \"WO-2016198503-A1\", \"WO-2016090154-A1\", \"WO-2017167373-A1\", \"WO-2016038107-A1\", \"WO-2017025917-A1\", \"WO-2017013121-A1\", \"WO-2017025864-A1\", \"WO-2014057432-A3\", \"EP-3120838-A1\", \"WO-2016132161-A1\", \"WO-2017030251-A1\", \"US-20150065522-A1\", \"WO-2017097865-A1\", \"WO-2016091957-A1\", \"WO-2016020884-A1\", \"EP-2887431-A1\", \"WO-2017108419-A1\", \"WO-2014057432-A3\", \"WO-2016042436-A1\", \"WO-2017141879-A1\", \"WO-2015018503-A1\", \"WO-2016016119-A1\", \"WO-2016064604-A1\", \"WO-2017070545-A1\", \"EP-0223291-A2\", \"WO-2016170022-A1\", \"US-20170088793-A1\", \"WO-2015136362-A1\", \"WO-2016201264-A1\", \"EP-3059307-A1\", \"WO-2017129618-A1\", \"EP-3281632-A1\", \"FR-3044450-A1\", \"WO-2017093057-A1\", \"WO-2015071873-A1\", \"WO-2017037685-A1\", \"EP-3112375-A1\", \"WO-2017005615-A3\", \"WO-2015121022-A1\", \"WO-2016097351-A1\", \"US-20150140062-A1\", \"WO-2015073895-A1\", \"WO-2015166094-A1\", \"WO-2014210509-A1\", \"WO-2017079566-A1\", \"WO-2016168615-A1\", \"EP-3171436-A4\", \"DE-102017205049-A1\", \"WO-2018042207-A1\", \"EP-3229309-A1\", \"US-20140220159-A1\", \"WO-2015042182-A1\", \"WO-2015067936-A1\", \"US-20140205681-A1\", \"WO-2016010403-A1\", \"WO-2016071693-A1\", \"WO-2017008816-A1\", \"US-20150374689-A1\", \"DE-102014207513-A1\", \"WO-2015049063-A1\", \"WO-2015077717-A1\", \"WO-2015107184-A1\", \"WO-2016038107-A1\", \"WO-2014152278-A2\", \"US-20150139505-A1\", \"EP-2970249-A4\", \"US-20150361079-A1\", \"WO-2016202425-A1\", \"WO-2010075249-A2\", \"EP-2925760-A4\", \"WO-2017062558-A1\", \"WO-2017190048-A1\", \"WO-2018029717-A2\", \"WO-2017195224-A1\", \"WO-2015162216-A1\", \"WO-2016085668-A1\", \"EP-3280813-A4\", \"WO-2016102586-A1\", \"WO-2016051340-A1\", \"WO-2016161129-A1\", \"EP-3206236-A4\", \"WO-2015123408-A1\", \"WO-2014096687-A1\", \"FR-2999846-A1\", \"WO-2018055037-A1\", \"WO-2016161282-A1\", \"WO-2018022310-A1\", \"WO-2017208001-A1\", \"EP-2925307-A1\", \"EP-2925307-A4\", \"WO-2015123465-A1\", \"WO-2014057511-A1\", \"WO-2015014362-A1\", \"WO-2016097351-A1\", \"WO-2016147130-A1\", \"WO-2015180701-A1\", \"WO-2017184934-A1\", \"WO-2014166551-A1\", \"WO-2012131734-A1\", \"WO-2015084815-A1\", \"WO-2017089555-A1\", \"WO-2016016449-A1\", \"EP-3194398-A4\", \"EP-3077828-A4\", \"WO-2015107554-A1\", \"WO-2016116850-A1\", \"WO-2017050836-A1\", \"WO-2015179657-A1\", \"WO-2014121137-A2\", \"EP-3333745-A1\", \"WO-2016181122-A1\", \"WO-2015033154-A1\", \"EP-2919817-A4\", \"GB-2533244-A\", \"FR-3060153-A1\", \"EP-3145099-A3\", \"WO-2015157738-A1\", \"US-20130054191-A1\", \"WO-2012059224-A1\", \"EP-2982465-A4\", \"WO-2013048883-A3\", \"WO-2017123744-A1\", \"WO-2015091767-A1\", \"WO-2018050848-A1\", \"WO-2014128465-A1\", \"WO-2017081230-A1\", \"WO-2015086727-A2\", \"WO-2017176948-A1\", \"WO-2013049734-A1\", \"US-20160221881-A1\", \"US-20110046928-A1\", \"FR-3015050-A1\", \"WO-2015123219-A1\", \"WO-2014162947-A1\", \"WO-2016130645-A1\", \"EP-2816037-A3\", \"WO-2015148982-A1\", \"US-20120328608-A1\", \"WO-2016103223-A1\", \"WO-2015167890-A1\", \"US-20090297533-A1\", \"WO-2016046759-A2\", \"US-20130192392-A1\", \"WO-2016042436-A1\", \"DE-102014209209-A1\", \"WO-2015132860-A1\", \"WO-2017140641-A1\", \"WO-2017103783-A1\", \"EP-3276512-A1\", \"WO-2015162527-A1\", \"US-20150191604-A1\", \"WO-2015119838-A3\", \"EP-2664326-A1\", \"WO-2017147652-A1\", \"DE-102013214713-A1\", \"WO-2014064040-A1\", \"WO-2017079399-A1\", \"US-20150224172-A1\", \"DE-102012219656-A1\", \"WO-2014080429-A1\", \"WO-2016051340-A1\", \"EP-2897201-A4\", \"WO-2017055291-A1\", \"WO-2017208001-A1\", \"EP-2680191-A3\", \"WO-2017160856-A1\", \"WO-2017160851-A1\", \"WO-2012135970-A1\", \"EP-2982765-A1\", \"WO-2015112619-A1\", \"WO-2017060407-A1\", \"WO-2016034828-A1\", \"EP-3128580-A1\", \"WO-2013055911-A1\", \"WO-2015162570-A1\", \"EP-3312560-A1\", \"EP-2852062-A3\", \"EP-3081957-A1\", \"WO-2014061048-A2\", \"WO-2014061048-A3\", \"WO-2018073396-A1\", \"EP-2849399-A1\", \"WO-2014083332-A1\", \"WO-2014068133-A1\", \"WO-2013140106-A1\", \"EP-2776071-A4\", \"EP-2964237-A4\", \"WO-2014037900-A1\", \"WO-2014074890-A1\", \"EP-3038399-A4\", \"EP-2717644-A1\", \"WO-2016193718-A1\", \"EP-2940499-A4\", \"EP-2763469-A1\", \"WO-2018083326-A1\", \"WO-2015071873-A1\", \"WO-2017087667-A1\", \"WO-2014199318-A3\", \"WO-2017153381-A1\", \"WO-2018093683-A1\", \"WO-2017070497-A1\", \"WO-2014199319-A3\", \"WO-2015175594-A1\", \"WO-2013049750-A1\", \"US-20110135610-A1\", \"WO-2014011723-A1\", \"WO-2018029534-A1\", \"EP-2860790-A1\", \"WO-2018002147-A1\", \"EP-3263127-A1\", \"EP-2494033-A4\", \"WO-2013128446-A1\", \"EP-2715350-A4\", \"WO-2013024243-A1\", \"WO-2014124978-A2\", \"WO-2015095579-A1\", \"WO-2016191532-A1\", \"WO-2013078477-A3\", \"WO-2014159073-A1\", \"EP-2706357-A1\", \"WO-2016051064-A1\", \"WO-2015036552-A1\", \"FR-3026413-A1\", \"EP-2772801-A1\", \"WO-2016066755-A2\", \"WO-2015032414-A2\", \"WO-2014037552-A1\", \"WO-2016162706-A1\", \"WO-2018029200-A1\", \"WO-2014118296-A1\", \"DE-102014013302-A1\", \"WO-2014061048-A2\", \"WO-2013128453-A1\", \"EP-3016458-A1\", \"WO-2014061048-A3\", \"WO-2017144478-A1\", \"WO-2017093804-A3\", \"US-20160054724-A1\", \"WO-2014062138-A1\", \"WO-2016142719-A1\", \"WO-2014033313-A1\", \"WO-2016094874-A1\", \"WO-2018093683-A1\", \"WO-2012079578-A1\", \"EP-3059307-A1\", \"WO-2015020960-A1\", \"EP-2606905-A1\", \"WO-2013072059-A1\", \"WO-2016086185-A1\", \"WO-2017125593-A1\", \"EP-2595224-A1\", \"EP-2064556-A2\", \"EP-3196666-A1\", \"WO-2012095263-A1\", \"WO-2013093039-A1\", \"WO-2015010744-A1\", \"EP-2813850-A1\", \"WO-2014198727-A3\", \"WO-2013072946-A1\", \"EP-2975424-A1\", \"EP-2877584-A4\", \"WO-2014113089-A3\", \"WO-2013150002-A1\", \"WO-2016005354-A1\", \"WO-2014068133-A1\", \"WO-2012168459-A1\", \"EP-2533045-A1\", \"EP-2802648-A4\", \"WO-2017208001-A1\", \"WO-2013186541-A1\", \"WO-2013049750-A1\", \"WO-2016138488-A2\", \"WO-2014111704-A1\", \"WO-2014162304-A1\", \"WO-2013127450-A1\", \"WO-2016092439-A1\", \"WO-2015173841-A3\", \"EP-2803119-A4\", \"EP-2857939-A4\", \"WO-2018083608-A1\", \"WO-2013036679-A1\", \"GB-2503004-A\", \"EP-2752760-A3\", \"WO-2013123411-A1\", \"WO-2017200966-A1\", \"EP-2706357-A1\", \"WO-2016188530-A1\", \"EP-2706406-A4\", \"EP-2943205-A4\", \"EP-2706406-A2\", \"WO-2013150450-A1\", \"WO-2017081624-A1\", \"WO-2015181365-A1\", \"US-20160250128-A1\", \"WO-2016097443-A1\", \"EP-2540829-A1\", \"WO-2014037552-A1\", \"FR-2984358-A1\", \"WO-2014006505-A1\", \"WO-2013024499-A1\", \"WO-2013087907-A1\", \"WO-2013024500-A1\", \"WO-2015030677-A3\", \"WO-2016024246-A1\", \"EP-3229026-A1\", \"WO-2014047285-A1\", \"WO-2013106792-A1\", \"WO-2016092439-A1\", \"EP-2884696-A1\", \"US-20140164369-A1\", \"US-20150171966-A1\", \"US-20140004183-A1\", \"WO-2014057511-A1\", \"WO-2013114418-A1\", \"WO-2015168115-A1\", \"WO-2013056015-A1\", \"EP-2481816-A1\", \"WO-2017196668-A1\", \"WO-2015140257-A1\", \"US-20140336141-A1\", \"EP-2997181-A4\", \"WO-2016144917-A1\", \"WO-2016193441-A2\", \"WO-2016079321-A1\", \"US-20140127575-A1\", \"DE-102011017734-A1\", \"EP-2818549-A4\", \"EP-2588027-A4\", \"EP-2588027-A1\", \"EP-2591363-A4\", \"WO-2017196668-A1\", \"WO-2014194289-A1\", \"EP-3306321-A1\", \"EP-3192862-A1\", \"EP-3216444-A1\", \"WO-2017182580-A1\", \"WO-2016124165-A1\", \"WO-2013093493-A1\", \"WO-2016068043-A1\", \"EP-2591363-A2\", \"WO-2016193441-A2\", \"US-20130253319-A1\", \"US-20150376300-A1\", \"WO-2013097869-A1\", \"WO-2012155919-A1\", \"EP-2779437-A1\", \"WO-2017103783-A1\", \"WO-2014108135-A1\", \"US-20120238627-A1\", \"EP-2654278-A1\", \"WO-2014166947-A1\", \"EP-2789345-A1\", \"WO-2013090386-A3\", \"WO-2014072350-A1\", \"EP-2654278-A4\", \"EP-3011615-A4\", \"WO-2012143516-A1\", \"WO-2014033765-A1\", \"EP-3195881-A1\", \"EP-2659357-A4\", \"FR-2974369-A1\", \"WO-2017089593-A1\", \"EP-2687482-A4\", \"WO-2013077907-A1\", \"EP-2687482-A1\", \"US-20150104492-A1\", \"WO-2012049665-A1\", \"WO-2012141971-A2\", \"EP-3256582-A4\", \"FR-2984358-A1\", \"WO-2013057485-A1\", \"WO-2013087907-A1\", \"WO-2012141971-A3\", \"WO-2015137409-A1\", \"WO-2012085751-A1\", \"WO-2012042036-A1\", \"WO-2014204064-A1\", \"WO-2015173666-A1\", \"WO-2013087917-A1\", \"EP-2663865-A4\", \"WO-2012089570-A1\", \"EP-2625966-A1\", \"WO-2012038521-A1\", \"WO-2013120856-A1\", \"WO-2015083764-A1\", \"US-20130246328-A1\", \"WO-2014183989-A1\", \"WO-2015013777-A3\", \"WO-2013180200-A1\", \"WO-2014118296-A1\", \"WO-2017216323-A2\", \"EP-3258268-A1\", \"EP-2723865-A4\", \"WO-2013028639-A1\", \"EP-2723865-A1\", \"GB-2505718-A9\", \"WO-2015190931-A1\", \"US-20160166638-A1\", \"WO-2015054476-A1\", \"EP-2609220-A4\", \"WO-2015081410-A1\", \"WO-2014160645-A2\", \"EP-2609220-A1\", \"WO-2013059071-A1\", \"WO-2013081685-A1\", \"WO-2016154690-A1\", \"GB-2505718-A\", \"WO-2014075822-A1\", \"WO-2017060407-A1\", \"WO-2014071168-A2\", \"EP-2620155-A1\", \"US-20140053073-A1\", \"WO-2018007588-A1\", \"WO-2010137019-A1\", \"WO-2012032098-A1\", \"WO-2017208001-A1\", \"WO-2013113772-A1\", \"EP-2426215-A1\", \"US-20160289545-A1\", \"WO-2013134311-A1\", \"WO-2012152807-A1\", \"US-20140365992-A1\", \"US-20070248611-A1\", \"WO-2013003538-A1\", \"WO-2018063878-A1\", \"EP-2769732-A1\", \"EP-2851086-A1\", \"US-20130089562-A1\", \"WO-2013059230-A1\", \"WO-2015004534-A2\", \"WO-2014039893-A1\", \"WO-2011161548-A2\", \"WO-2013187953-A1\", \"WO-2014124156-A1\", \"WO-2015072859-A1\", \"WO-2012171889-A1\", \"WO-2014128257-A1\", \"WO-2016120471-A1\", \"WO-2015002841-A3\", \"WO-2011140187-A2\", \"EP-3195881-A1\", \"WO-2015178762-A1\", \"US-20160010108-A1\", \"WO-2011045402-A1\", \"WO-2011161548-A2\", \"WO-2015002841-A2\", \"EP-2653040-A1\", \"WO-2015084513-A1\", \"WO-2015072859-A1\", \"WO-2015007520-A1\", \"US-20140057014-A1\", \"WO-2014194289-A1\", \"WO-2011047856-A1\", \"WO-2017069612-A1\", \"WO-2012052943-A1\", \"WO-2017069630-A1\"], \"yaxis\": \"y\"}, {\"alignmentgroup\": \"True\", \"bingroup\": \"x\", \"hoverlabel\": {\"namelength\": 0}, \"hovertemplate\": \"filing_status=Grant<br>year=%{x}<br>count of id=%{y}\", \"legendgroup\": \"filing_status=Grant\", \"marker\": {\"color\": \"#EF553B\"}, \"name\": \"filing_status=Grant\", \"offsetgroup\": \"filing_status=Grant\", \"orientation\": \"v\", \"showlegend\": true, \"type\": \"histogram\", \"uid\": \"dee9b5cf-859a-405b-9bd9-3252b2c7dbd9\", \"x\": [2015, 2017, 2015, 2016, 2012, 2016, 2016, 2010, 2015, 2016, 2015, 2017, 2012, 2012, 2012, 2015, 2015, 2017, 2017, 2007, 2017, 2015, 2015, 2016, 2015, 2009, 2015, 2015, 2015, 2016, 2017, 2015, 2016, 2015, 2015, 2015, 2015, 2015, 2016, 2015, 2013, 2014, 2015, 2013, 2015, 2016, 2016, 2016, 2015, 2017, 2012, 2015, 2017, 2012, 2016, 2014, 2014, 2015, 2015, 2012, 2014, 2013, 2013, 2014, 2014, 2014, 2011, 2012, 2016, 2012, 2012, 2015, 2012, 2016, 2016, 2015, 2011, 2015, 2016, 2015, 2017, 2013, 2013, 2014, 2013, 2013, 2015, 2014, 2015, 2013, 2016, 2013, 2013, 2016, 2011, 2013, 2013, 2013, 2013, 2016, 2013, 2013, 2014, 2014, 2013, 2014, 2016, 2015, 2015, 2013, 2012, 2016, 2013, 2016, 2015, 2013, 2014, 2013, 2013, 2013, 2013, 2013, 2013, 2013, 2013, 2013, 2015, 2014, 2009, 2014, 2015, 2016, 2014, 2014, 2015, 2013, 2015, 2014, 2014, 2016, 2017, 2014, 2014, 2015, 2016, 2011, 2015, 2017, 2015, 2015, 2015, 2013, 2013, 2016, 2011, 2012, 2013, 2013, 2013, 2014, 2016, 2013, 2014, 2016, 2016, 2016, 2011, 2015, 2011, 2015, 2015, 2013, 2014, 2013, 2014, 2016, 2016, 2014, 2015, 2010, 2015, 2015, 2016, 2014, 2016, 2015, 2013, 2014, 2015, 2013, 2018, 2014, 2014, 2014, 2016, 2013, 2017, 2013, 2015, 2015, 2014, 2013, 2009, 2013, 2013, 2014, 2014, 2016, 2014, 2017, 2015, 2017, 2014, 2011, 2011, 2008, 2008, 2014, 2014, 2010, 2013, 2012, 2014, 2014, 2014, 2010, 2015, 2014, 2008, 2013, 2010, 2009, 2011, 2014, 2008, 2013, 2012, 2014, 2009, 2017, 2012, 2007, 2016, 2015, 2017, 2015, 2013, 2010, 2014, 2008, 2013, 2012, 2013, 2014, 2014, 2016, 2013, 2016, 2011, 2015, 2015, 2015, 2012, 2011, 2011, 2012, 2014, 2013, 2016, 2017, 2013, 2015, 2015, 2017, 2016, 2014, 2015, 2009, 2015, 2016, 2017, 2016, 2016, 2014, 2015, 2016, 2015, 2016, 2016, 2016, 2014, 2014, 2016, 2017, 2011, 2012, 2014, 2016, 2016, 2016, 2014, 2014, 2015, 2015, 2017, 2012, 2013, 2016, 2015, 2015, 2012, 2014, 2015, 2014, 2014, 2011, 2011, 2014, 2008, 2008, 2014, 2010, 2013, 2012, 2013, 2014, 2010, 2014, 2014, 2008, 2010, 2009, 2011, 2015, 2008, 2012, 2014, 2009, 2017, 2007, 2015, 2012, 2009, 2015, 2010, 2015, 2017, 2015, 2015, 2015, 2011, 2016, 2013, 2014, 2014, 2014, 2014, 2016, 2016, 2016, 2014, 2014, 2012, 2014, 2011, 2017, 2012, 2014, 2012, 2013, 2015, 2014, 2014, 2011, 2012, 2012, 2017, 2016, 2012, 2011, 2012, 2014, 2011, 2014, 2013, 2016, 2014, 2014, 2013, 2015, 2014, 2014, 2016, 2016, 2016, 2013, 2012, 2014, 2014, 2012, 2013, 2014, 2014, 2014, 2011, 2016, 2013, 2012, 2017, 2014, 2013, 2014, 2014, 2016, 2015, 2013, 2015, 2016, 2013, 2014, 2016, 2017, 2014, 2015, 2014, 2014, 2016, 2014, 2016, 2015, 2016, 2012, 2013, 2014, 2015, 2013, 2014, 2014, 2014, 2013, 2012, 2008, 2011, 2009, 2016, 2017, 2013, 2009, 2012, 2011, 2013, 2015, 2010, 2012, 2011, 2010, 2012, 2014, 2012, 2013, 2013, 2010, 2010, 2014, 2012, 2014, 2015, 2014, 2014, 2015, 2015, 2015, 2015, 2013, 2012, 2016, 2015, 2014, 2015, 2016, 2013, 2013, 2015, 2014, 2014, 2014, 2013, 2014, 2012, 2013, 2014, 2013, 2013, 2016, 2015, 2014, 2015, 2014, 2013, 2014, 2015, 2015, 2016, 2013, 2013, 2016, 2013, 2012, 2016, 2013, 2012, 2012, 2013, 2013, 2014, 2011, 2014, 2016, 2013, 2016, 2010, 2007, 2014, 2014, 2011, 2013, 2014, 2016, 2012, 2013, 2013, 2014, 2012, 2015, 2013, 2011, 2011, 2008, 2008, 2014, 2016, 2016, 2010, 2016, 2013, 2012, 2015, 2016, 2012, 2017, 2014, 2010, 2011, 2012, 2014, 2008, 2013, 2015, 2015, 2016, 2016, 2010, 2014, 2009, 2011, 2008, 2015, 2015, 2012, 2015, 2008, 2014, 2014, 2009, 2015, 2017, 2013, 2015, 2015, 2017, 2015, 2013, 2007, 2015, 2015, 2012, 2013, 2011, 2015, 2015, 2013, 2015, 2016, 2013, 2014, 2011, 2011, 2012, 2013, 2013, 2017, 2014, 2015, 2013, 2018, 2016, 2015, 2014, 2017, 2013, 2012, 2015, 2013, 2017, 2014, 2011, 2011, 2013, 2014, 2013, 2015, 2015, 2015, 2011, 2015, 2016, 2012, 2012, 2011, 2014, 2012, 2010, 2014, 2006, 2014, 2014, 2013, 2013, 2013, 2014, 2013, 2016, 2014, 2012, 2014, 2014, 2011, 2012, 2011, 2013, 2012, 2010, 2012, 2013, 2012, 2012, 2013, 2011, 2016, 2014, 2012, 2016, 2013, 2012, 2016, 2015, 2013, 2014, 2013, 2012, 2014, 2016, 2015, 2013, 2014, 2013, 2012, 2011, 2015, 2015, 2014, 2012, 2013, 2011, 2013, 2016, 2015, 2011, 2013, 2016, 2013, 2015, 2018, 2008, 2015, 2011, 2009, 2012, 2017, 2013, 2013, 2013, 2016, 2008, 2017, 2012, 2018, 2012, 2015, 2013, 2013, 2008, 2015, 2006, 2012, 2016, 2010, 2012, 2015, 2008, 2008, 2014, 2016, 2015, 2014, 2017, 2012, 2012, 2013, 2017, 2015, 2013, 2015, 2008, 2014, 2015, 2017, 2015, 2015, 2016, 2010, 2015, 2014, 2013, 2017, 2011, 2013, 2016, 2014, 2007, 2009, 2013, 2014, 2011, 2006, 2009, 2014, 2013, 2013, 2013, 2008, 2012, 2014, 2011, 2013, 2016, 2016, 2016, 2013, 2015, 2005, 2014, 2013, 2011, 2013, 2009, 2013, 2016, 2013, 2011, 2016, 2016, 2017, 2016, 2012, 2016, 2017, 2016, 2012, 2016, 2016, 2016, 2013, 2012, 2012, 2013, 2016, 2016, 2011, 2013, 2012, 2012, 2013, 2013, 2016, 2013, 2016, 2016, 2013, 2014, 2014, 2017, 2010, 2016, 2016, 2016, 2011, 2011, 2008, 2008, 2014, 2011, 2010, 2013, 2010, 2014, 2012, 2012, 2016, 2010, 2015, 2014, 2015, 2010, 2007, 2014, 2008, 2016, 2010, 2013, 2009, 2011, 2017, 2014, 2008, 2012, 2013, 2015, 2012, 2016, 2014, 2014, 2016, 2009, 2013, 2017, 2010, 2011, 2007, 2014, 2011, 2014, 2013, 2015, 2013, 2012, 2012, 2012, 2014, 2013, 2013, 2015, 2014, 2013, 2015, 2013, 2012, 2012, 2014, 2012, 2011, 2015, 2014, 2015, 2014, 2012, 2015, 2015, 2014, 2015, 2013, 2015, 2012, 2017, 2014, 2016, 2013, 2013, 2014, 2016, 2014, 2010, 2016, 2014, 2013, 2015, 2013, 2017, 2011, 2013, 2011, 2012, 2011, 2015, 2016, 2014, 2012, 2013, 2013, 2014, 2013, 2015, 2013, 2015, 2013, 2013, 2012, 2017, 2016, 2014, 2012, 2013, 2011, 2015, 2013, 2013, 2013, 2013, 2014, 2013, 2013, 2009, 2016, 2012, 2013, 2013, 2014, 2015, 2014, 2013, 2013, 2011, 2013, 2013, 2010, 2013, 2010, 2011], \"xaxis\": \"x\", \"y\": [\"US-9993482-B2\", \"US-9957233-B1\", \"US-9854396-B2\", \"US-9655945-B2\", \"US-9439884-B2\", \"US-9809541-B2\", \"US-10059668-B2\", \"US-9757368-B2\", \"US-9831503-B2\", \"US-10066009-B2\", \"US-9919011-B2\", \"US-9925164-B1\", \"US-9745373-B2\", \"US-9708393-B2\", \"US-9855332-B2\", \"US-9896502-B2\", \"US-9994842-B2\", \"US-10080736-B2\", \"US-9849143-B2\", \"US-9585849-B2\", \"US-10064935-B2\", \"US-9415087-B2\", \"US-9781246-B2\", \"US-9968580-B2\", \"US-9936042-B2\", \"US-10081840-B2\", \"US-9644180-B2\", \"US-10040867-B2\", \"US-9695167-B2\", \"US-9994546-B2\", \"US-10047086-B2\", \"US-9758523-B2\", \"US-9944647-B2\", \"US-9493450-B2\", \"US-9527835-B2\", \"US-9695180-B2\", \"US-9670210-B2\", \"US-9695168-B2\", \"US-9600765-B1\", \"US-9493442-B2\", \"US-10004703-B2\", \"US-9863048-B2\", \"US-9969989-B2\", \"US-9827292-B2\", \"US-10036018-B2\", \"US-9654478-B2\", \"US-10091435-B2\", \"US-9948909-B2\", \"US-10029997-B2\", \"US-9951328-B2\", \"US-10028982-B2\", \"US-9993482-B2\", \"US-9989543-B2\", \"US-9925224-B2\", \"US-10069592-B1\", \"US-10045994-B2\", \"US-9464321-B2\", \"US-9975196-B2\", \"US-10058506-B2\", \"US-9914958-B2\", \"US-9129228-B1\", \"US-9566338-B2\", \"US-9561264-B2\", \"US-10016600-B2\", \"US-10035801-B2\", \"US-9505767-B2\", \"US-8660547-B2\", \"EP-2710378-B1\", \"US-9795599-B2\", \"US-9211301-B2\", \"US-9220720-B2\", \"US-9957504-B2\", \"US-9050350-B2\", \"US-9980218-B2\", \"US-9856481-B2\", \"US-9932581-B2\", \"US-9114151-B2\", \"US-9382540-B2\", \"US-10022425-B2\", \"US-9544182-B2\", \"US-10064959-B2\", \"US-9192651-B2\", \"US-9301993-B2\", \"US-9181319-B2\", \"US-9334328-B2\", \"US-9216205-B2\", \"US-9849172-B2\", \"US-9089604-B2\", \"US-9447164-B2\", \"US-9220755-B2\", \"US-9950068-B2\", \"US-9233141-B2\", \"US-9221891-B2\", \"US-9657295-B2\", \"US-8986698-B2\", \"US-9220792-B2\", \"US-9303079-B2\", \"US-9597380-B2\", \"US-8999380-B2\", \"US-9572897-B2\", \"US-9107886-B2\", \"US-9186372-B2\", \"US-9533047-B2\", \"US-9061059-B2\", \"US-9114113-B2\", \"US-9464124-B2\", \"US-9937233-B2\", \"US-9827332-B2\", \"US-9814760-B2\", \"US-9295689-B2\", \"US-9428535-B2\", \"US-9587003-B2\", \"US-9271996-B2\", \"US-9782462-B2\", \"US-9828416-B2\", \"US-9095552-B2\", \"US-9701965-B2\", \"US-9968670-B2\", \"US-9878056-B2\", \"US-9050297-B2\", \"US-9255129-B2\", \"US-9149506-B2\", \"US-9675668-B2\", \"US-9254311-B2\", \"US-8980864-B2\", \"US-9127063-B2\", \"US-9283287-B2\", \"US-9908930-B2\", \"US-9572856-B2\", \"US-9457059-B2\", \"US-10028995-B2\", \"US-9867863-B2\", \"US-9220745-B2\", \"US-9737608-B2\", \"US-9750770-B2\", \"US-9738879-B2\", \"US-9695167-B2\", \"US-9533013-B2\", \"US-9957526-B2\", \"US-9994546-B2\", \"US-10047086-B2\", \"US-10059811-B2\", \"US-9828582-B2\", \"US-9758523-B2\", \"US-9944647-B2\", \"US-9745552-B2\", \"US-9527835-B2\", \"US-9833479-B2\", \"US-9695180-B2\", \"US-9695168-B2\", \"US-9616090-B2\", \"US-9179997-B2\", \"US-9131982-B2\", \"US-9713494-B2\", \"US-8974446-B2\", \"US-8934988-B2\", \"US-9510902-B2\", \"US-9974477-B2\", \"US-8876813-B2\", \"US-9775663-B2\", \"US-9791258-B2\", \"US-D747491-S1\", \"US-9861433-B2\", \"US-10052360-B2\", \"US-10080601-B2\", \"US-9937222-B2\", \"US-9427579-B2\", \"US-10005734-B2\", \"US-8909316-B2\", \"US-9314300-B2\", \"US-9771349-B2\", \"US-9539263-B2\", \"US-9872728-B2\", \"US-9179973-B2\", \"US-9713490-B2\", \"US-9801684-B2\", \"US-9993495-B2\", \"US-9913961-B2\", \"US-D793559-S1\", \"US-8979839-B2\", \"US-9815817-B2\", \"US-9354039-B2\", \"US-9427283-B2\", \"US-9775966-B2\", \"US-9861436-B2\", \"US-10075621-B2\", \"US-9186212-B2\", \"US-9561070-B2\", \"US-9834539-B2\", \"US-D774043-S1\", \"US-D829238-S1\", \"US-9999748-B2\", \"US-9987070-B2\", \"US-10034705-B2\", \"US-D815131-S1\", \"US-9113929-B2\", \"US-9815803-B2\", \"US-9963627-B2\", \"US-9985315-B1\", \"US-9643938-B2\", \"US-9556181-B2\", \"US-9540392-B2\", \"US-9463190-B2\", \"US-9296757-B2\", \"US-9382255-B2\", \"US-9675612-B2\", \"US-9782404-B2\", \"US-9938397-B2\", \"US-9605026-B2\", \"US-9819024-B2\", \"US-9859560-B2\", \"US-10074819-B2\", \"AU-2014240003-B2\", \"US-8993591-B2\", \"US-9271967-B2\", \"US-8906939-B2\", \"US-8722894-B2\", \"US-9458176-B2\", \"US-9708315-B2\", \"US-8937060-B2\", \"US-9132122-B2\", \"US-8748621-B2\", \"US-9708321-B2\", \"US-9384315-B2\", \"US-9085577-B2\", \"US-8946205-B2\", \"US-9562013-B2\", \"US-9266834-B2\", \"US-9114138-B2\", \"US-9676779-B2\", \"US-8716480-B2\", \"US-8697689-B2\", \"US-9012448-B2\", \"US-9815825-B2\", \"US-8785486-B2\", \"US-9546176-B2\", \"US-9067891-B2\", \"US-9226930-B2\", \"US-8691849-B2\", \"US-10071095-B2\", \"US-9221840-B2\", \"US-8841323-B2\", \"US-9382208-B1\", \"US-9737533-B2\", \"US-9949988-B2\", \"US-9932399-B2\", \"US-8974365-B2\", \"US-9297005-B2\", \"US-9385672-B2\", \"US-9770535-B2\", \"US-9937249-B2\", \"US-10045947-B2\", \"US-9370558-B2\", \"US-9675561-B2\", \"US-9381235-B2\", \"US-9821045-B2\", \"US-9833467-B2\", \"US-10080789-B2\", \"US-9610328-B2\", \"US-9446107-B2\", \"US-9505727-B2\", \"US-9649501-B2\", \"US-8799235-B2\", \"US-9603894-B2\", \"US-9693954-B2\", \"US-9486512-B2\", \"US-9132210-B2\", \"US-9668757-B2\", \"US-9956270-B2\", \"US-9962381-B2\", \"US-9781061-B2\", \"US-9932339-B2\", \"US-9662322-B2\", \"US-9968600-B2\", \"DE-212016000066-U1\", \"US-9192609-B2\", \"US-9618511-B2\", \"US-9127078-B2\", \"US-9817253-B2\", \"US-9974798-B2\", \"US-9918997-B2\", \"US-9980978-B2\", \"DE-102016008756-B3\", \"US-9597339-B2\", \"US-9532941-B2\", \"US-9755463-B2\", \"US-9775837-B2\", \"US-9855264-B2\", \"US-9742227-B2\", \"US-9748803-B2\", \"US-9323966-B2\", \"US-9476090-B2\", \"US-9748804-B2\", \"US-9918932-B2\", \"US-9182264-B2\", \"US-8985124-B2\", \"US-9357341-B2\", \"US-9742225-B2\", \"US-10075030-B2\", \"US-9742226-B2\", \"US-9951331-B2\", \"US-9994813-B2\", \"US-9789105-B2\", \"US-9789104-B2\", \"US-10064856-B2\", \"US-8791244-B2\", \"US-9273143-B2\", \"US-9827310-B2\", \"US-10040857-B2\", \"US-10024817-B2\", \"US-9220775-B2\", \"US-9284380-B2\", \"US-9718735-B2\", \"US-10031093-B2\", \"US-9946972-B2\", \"US-8993591-B2\", \"US-9271967-B2\", \"US-9827253-B2\", \"US-8906939-B2\", \"US-8722894-B2\", \"US-9708315-B2\", \"US-8937060-B2\", \"US-9132122-B2\", \"US-8748621-B2\", \"US-9994514-B2\", \"US-9085577-B2\", \"US-8946205-B2\", \"US-9949991-B2\", \"US-9266834-B2\", \"US-9114138-B2\", \"US-8716480-B2\", \"US-8697689-B2\", \"US-9012448-B2\", \"US-9387169-B2\", \"US-8785486-B2\", \"US-9067891-B2\", \"US-9226930-B2\", \"US-8691849-B2\", \"US-10071095-B2\", \"US-8841323-B2\", \"US-9737533-B2\", \"US-8984969-B2\", \"US-9132087-B2\", \"US-9957504-B2\", \"US-9200071-B2\", \"US-9399026-B2\", \"US-9918932-B2\", \"US-9932581-B2\", \"US-9382540-B2\", \"US-10024730-B2\", \"US-9831043-B2\", \"US-9954213-B2\", \"US-9379368-B2\", \"US-9991492-B2\", \"US-9771481-B2\", \"US-9431658-B2\", \"US-9737716-B2\", \"US-9802935-B2\", \"US-9789316-B2\", \"US-10066009-B2\", \"US-9999773-B2\", \"US-9409024-B2\", \"US-9926526-B2\", \"US-9504832-B2\", \"US-8577458-B1\", \"US-9925178-B2\", \"US-8571654-B2\", \"US-9272143-B2\", \"US-9643008-B2\", \"US-9879251-B2\", \"US-9446237-B2\", \"US-9533153-B2\", \"US-8965522-B2\", \"US-8918191-B2\", \"US-8923964-B2\", \"US-9745373-B2\", \"US-10004903-B2\", \"US-9669220-B2\", \"US-9708393-B2\", \"US-8918190-B2\", \"US-9855332-B2\", \"US-9713719-B2\", \"US-8600505-B2\", \"US-9393419-B2\", \"US-9643011-B2\", \"US-9808457-B2\", \"US-9415224-B2\", \"US-9919157-B2\", \"US-8923990-B2\", \"US-9526898-B2\", \"US-9950169-B2\", \"US-9770599-B2\", \"US-9808626-B2\", \"US-9764138-B2\", \"US-9688660-B2\", \"US-8700150-B2\", \"US-9452290-B2\", \"US-9511228-B2\", \"US-9114262-B2\", \"US-9592288-B2\", \"US-9827292-B2\", \"US-9913789-B2\", \"US-9504529-B2\", \"US-9698419-B1\", \"US-9757346-B2\", \"US-9895425-B2\", \"US-9136534-B2\", \"US-8481498-B1\", \"US-10084187-B2\", \"US-9034516-B2\", \"US-8795887-B2\", \"US-9637724-B2\", \"US-9972834-B2\", \"US-9763903-B2\", \"US-10023519-B2\", \"US-9159999-B2\", \"US-9549969-B2\", \"US-10010590-B2\", \"US-9585841-B2\", \"US-9326962-B2\", \"US-9757348-B2\", \"US-10085959-B2\", \"US-8962660-B2\", \"US-9308188-B2\", \"US-9432157-B2\", \"US-9966726-B2\", \"US-9783597-B2\", \"US-9796985-B2\", \"US-9783505-B2\", \"US-9481723-B2\", \"US-9899793-B2\", \"US-9458131-B2\", \"US-9717170-B2\", \"US-9199885-B2\", \"US-9156798-B2\", \"US-9266876-B2\", \"US-9160939-B2\", \"US-9556126-B2\", \"US-9698419-B1\", \"US-9136534-B2\", \"US-9763999-B2\", \"US-8722894-B2\", \"US-8961960-B2\", \"US-8691813-B2\", \"US-9896515-B2\", \"US-9925179-B2\", \"US-9159999-B2\", \"US-8697689-B2\", \"US-9067891-B2\", \"US-9744234-B2\", \"US-9447039-B2\", \"US-9528103-B2\", \"US-9392562-B2\", \"US-9155057-B2\", \"US-9271248-B2\", \"US-9756553-B2\", \"US-9237530-B2\", \"US-9220109-B2\", \"US-10022042-B2\", \"US-9448360-B2\", \"US-9057068-B1\", \"US-9642105-B2\", \"US-9204349-B2\", \"US-9696421-B2\", \"US-9127014-B2\", \"US-9655972-B2\", \"US-9657030-B2\", \"US-10059811-B2\", \"US-9655978-B2\", \"US-9593124-B2\", \"US-9499557-B2\", \"US-9481669-B2\", \"US-9624232-B2\", \"US-9280718-B2\", \"US-9207318-B2\", \"US-10045711-B2\", \"US-9587071-B2\", \"US-9392959-B2\", \"US-9724013-B2\", \"US-9808177-B2\", \"US-9716319-B2\", \"US-9831562-B2\", \"US-9345421-B2\", \"US-9439920-B2\", \"US-9575108-B2\", \"US-9839632-B2\", \"US-9717170-B2\", \"US-9452181-B2\", \"US-9446112-B2\", \"DE-202013102692-U1\", \"US-10028941-B2\", \"US-9738879-B2\", \"US-9539300-B2\", \"US-10010603-B2\", \"US-9919041-B2\", \"EP-2956167-B1\", \"US-9925256-B2\", \"US-10059997-B2\", \"US-9622971-B2\", \"US-9828582-B2\", \"US-9925255-B2\", \"US-9574211-B2\", \"US-9943587-B2\", \"US-9650674-B2\", \"US-9976180-B2\", \"US-10010604-B2\", \"US-10018989-B2\", \"US-9173617-B2\", \"US-9987349-B2\", \"US-9186357-B2\", \"US-8877808-B2\", \"US-8962321-B2\", \"US-8961956-B2\", \"US-8951969-B2\", \"US-9676864-B2\", \"US-8623826-B2\", \"US-9751824-B2\", \"US-10022427-B2\", \"US-9272029-B2\", \"US-9943515-B2\", \"US-8703801-B2\", \"EP-2064556-B1\", \"US-9933437-B2\", \"US-9254308-B2\", \"US-8986698-B2\", \"US-9345734-B2\", \"US-9657350-B2\", \"US-9669068-B2\", \"US-9518127-B2\", \"US-9127063-B2\", \"US-9428759-B2\", \"US-9186391-B2\", \"US-9333214-B2\", \"US-9695167-B2\", \"US-8901125-B2\", \"US-8993591-B2\", \"US-9271967-B2\", \"US-8906939-B2\", \"US-8722894-B2\", \"US-9708315-B2\", \"US-9549939-B2\", \"US-9994546-B2\", \"US-8937060-B2\", \"US-9402845-B2\", \"US-9132122-B2\", \"US-8748621-B2\", \"US-9724301-B2\", \"US-9511082-B2\", \"US-9119783-B2\", \"US-10047086-B2\", \"US-9085577-B2\", \"US-8946205-B2\", \"US-8853237-B2\", \"US-8710074-B2\", \"US-9266834-B2\", \"US-9114138-B2\", \"US-9566234-B2\", \"US-9758523-B2\", \"US-9895385-B2\", \"US-9549925-B2\", \"US-9944647-B2\", \"US-8716480-B2\", \"US-9827317-B2\", \"US-8697689-B2\", \"US-9012448-B2\", \"US-8785486-B2\", \"US-9493450-B2\", \"US-9737555-B2\", \"US-9067891-B2\", \"US-9527835-B2\", \"US-9114081-B2\", \"US-9226930-B2\", \"US-9925205-B2\", \"US-8691849-B2\", \"US-9695180-B2\", \"US-10071095-B2\", \"US-9029366-B2\", \"US-9670210-B2\", \"US-9695168-B2\", \"US-10064882-B2\", \"US-9862767-B2\", \"US-9552457-B2\", \"US-8841323-B2\", \"US-9493442-B2\", \"US-9737533-B2\", \"US-8574860-B2\", \"US-9034885-B2\", \"US-9649376-B2\", \"US-9725505-B2\", \"US-9763949-B2\", \"US-8685988-B2\", \"US-9993535-B2\", \"US-9920074-B2\", \"US-9586965-B2\", \"US-9464089-B2\", \"US-9427449-B2\", \"EP-2540829-B1\", \"US-9389276-B2\", \"US-9089589-B2\", \"US-9175076-B2\", \"US-9918955-B2\", \"US-9698419-B1\", \"US-9768885-B2\", \"US-9136534-B2\", \"US-10016386-B2\", \"US-9855240-B2\", \"US-9937228-B2\", \"US-9132174-B2\", \"US-10010517-B2\", \"US-9159999-B2\", \"US-8895571-B2\", \"US-9889135-B2\", \"US-9827219-B2\", \"US-9918954-B2\", \"US-9637738-B2\", \"DE-102011017734-B4\", \"US-8790878-B2\", \"US-9193971-B2\", \"US-9610348-B2\", \"US-9573983-B2\", \"US-9717794-B2\", \"US-9644034-B2\", \"US-10064937-B2\", \"US-8802081-B2\", \"US-9598497-B2\", \"US-9872920-B2\", \"US-9428745-B2\", \"US-9512200-B2\", \"US-9102913-B2\", \"US-9568476-B2\", \"US-8946305-B2\", \"US-8663852-B2\", \"US-9863949-B2\", \"US-9737488-B2\", \"US-9362568-B2\", \"US-9988376-B2\", \"US-9515310-B2\", \"US-9143089-B2\", \"US-9997778-B2\", \"US-9993514-B2\", \"US-9326735-B2\", \"US-9938264-B2\", \"US-9211413-B2\", \"US-8781583-B2\", \"US-9468764-B2\", \"US-9155893-B2\", \"US-8406868-B2\", \"US-9145584-B2\", \"US-8888699-B2\", \"US-9466834-B2\", \"US-8706223-B2\", \"US-8639327-B2\", \"US-8637573-B2\", \"US-9585854-B2\", \"US-8725259-B2\", \"US-8718763-B2\", \"US-9440189-B2\", \"US-8423134-B2\", \"US-10022342-B2\", \"US-10016600-B2\", \"US-8781582-B2\", \"US-9861603-B2\", \"US-9515310-B2\", \"US-9128246-B2\", \"US-9855273-B2\", \"US-9504706-B2\", \"US-8778894-B2\", \"US-9842375-B2\", \"US-9997778-B2\", \"US-9943522-B2\", \"US-9168257-B2\", \"US-9603822-B2\", \"US-9671415-B2\", \"US-9738621-B2\", \"US-9436784-B2\", \"US-10028675-B2\", \"US-9163215-B2\", \"US-9074207-B2\", \"US-9669109-B1\", \"US-9988629-B2\", \"US-10059752-B2\", \"AU-2012275335-B2\", \"US-9051063-B1\", \"US-8637642-B2\", \"US-9229012-B2\", \"US-9641154-B2\", \"US-9314538-B2\", \"US-8849580-B2\", \"US-9340784-B2\", \"US-9962454-B2\", \"US-9078931-B2\", \"US-9752175-B2\", \"US-10017517-B2\", \"US-10052497-B2\", \"US-9453215-B2\", \"US-8932562-B2\", \"US-8956363-B2\", \"US-9101690-B2\", \"US-9963459-B1\", \"US-9308392-B2\", \"US-9568449-B2\", \"US-10046174-B2\", \"US-9855267-B2\", \"US-8071562-B2\", \"US-9879018-B2\", \"US-8815582-B2\", \"US-10087223-B2\", \"US-9359449-B2\", \"US-9187745-B2\", \"US-9360472-B2\", \"US-8864805-B2\", \"US-9096651-B2\", \"US-9365852-B2\", \"US-9278159-B2\", \"US-9249234-B2\", \"US-10064912-B2\", \"US-10036758-B2\", \"US-9644241-B2\", \"US-10045999-B2\", \"US-9274099-B2\", \"US-10035027-B2\", \"US-9249200-B2\", \"US-9604073-B2\", \"US-9829492-B2\", \"US-9421258-B2\", \"US-9969783-B2\", \"US-9592252-B2\", \"US-9765054-B2\", \"US-10047388-B2\", \"US-10018695-B2\", \"US-9925208-B2\", \"US-8962589-B2\", \"US-9340589-B2\", \"US-9238150-B2\", \"US-9458208-B2\", \"US-9576241-B2\", \"US-9879019-B2\", \"US-9506061-B2\", \"US-9394347-B2\", \"US-9840541-B2\", \"US-8568971-B2\", \"US-9828429-B2\", \"US-9738640-B2\", \"US-9080215-B2\", \"US-10016504-B2\", \"US-9079940-B2\", \"US-9890377-B2\", \"US-9707297-B2\", \"US-9271674-B2\", \"US-8926959-B2\", \"US-8729040-B2\", \"US-9868948-B2\", \"US-9636380-B2\", \"US-9522288-B2\", \"US-8906360-B2\", \"US-9101759-B2\", \"US-9387246-B2\", \"US-9693692-B2\", \"US-8834546-B2\", \"US-9084885-B2\", \"US-8361714-B2\", \"US-9365628-B2\", \"US-9238660-B1\", \"US-10086012-B2\", \"US-9284353-B2\", \"US-9855442-B2\", \"US-9878176-B2\", \"US-9615789-B2\", \"US-9309296-B2\", \"US-9447414-B2\", \"US-8173611-B2\", \"US-9951331-B2\", \"US-9961932-B2\", \"US-9992981-B2\", \"US-9175095-B2\", \"US-8258111-B2\", \"US-9235806-B2\", \"US-9850290-B2\", \"US-8765709-B2\", \"US-8946177-B2\", \"US-9505817-B2\", \"US-10071132-B2\", \"US-9951080-B2\", \"US-9968652-B2\", \"US-8465914-B2\", \"US-9763941-B2\", \"AU-2017201900-B2\", \"US-10005761-B2\", \"US-8900836-B2\", \"US-9741047-B1\", \"US-9850229-B2\", \"US-9850230-B2\", \"US-9314464-B2\", \"US-9387208-B2\", \"US-9592288-B2\", \"US-9879251-B2\", \"US-9884057-B2\", \"US-9593099-B2\", \"US-8604075-B2\", \"US-9834601-B2\", \"US-9428745-B2\", \"US-9771617-B2\", \"EP-2814982-B1\", \"US-10011873-B2\", \"US-9593100-B2\", \"US-9089589-B2\", \"US-9994763-B2\", \"US-10004471-B2\", \"US-8765410-B2\", \"US-9268536-B2\", \"US-9012177-B2\", \"US-9917557-B1\", \"US-8688618-B2\", \"US-9880802-B2\", \"US-9998826-B2\", \"US-9967665-B2\", \"US-8993591-B2\", \"US-9271967-B2\", \"US-8906939-B2\", \"US-8722894-B2\", \"US-9708315-B2\", \"US-8602996-B2\", \"US-8937060-B2\", \"US-9132122-B2\", \"US-9843027-B1\", \"US-9795569-B2\", \"US-8748621-B2\", \"US-9262208-B2\", \"US-9813814-B1\", \"US-8835485-B2\", \"US-9955254-B2\", \"US-9085577-B2\", \"US-9725505-B2\", \"US-8946205-B2\", \"US-9387344-B2\", \"US-9266834-B2\", \"US-9114138-B2\", \"US-10064594-B2\", \"US-8716480-B2\", \"US-9232897-B2\", \"US-8697689-B2\", \"US-9012448-B2\", \"US-10008992-B1\", \"US-9820946-B2\", \"US-8785486-B2\", \"US-9135056-B2\", \"US-9287874-B2\", \"US-9959856-B2\", \"US-9067891-B2\", \"US-9807504-B2\", \"US-9613911-B2\", \"US-9226930-B2\", \"US-9929703-B1\", \"US-8691849-B2\", \"US-9590253-B2\", \"US-10071095-B2\", \"US-8431360-B2\", \"US-9757084-B2\", \"US-8841323-B2\", \"US-9998823-B2\", \"US-9350012-B2\", \"US-9585865-B2\", \"US-9903870-B2\", \"US-9737533-B2\", \"US-9175076-B2\", \"US-9824179-B2\", \"US-9499865-B2\", \"US-9023252-B2\", \"US-9228232-B2\", \"US-9077041-B2\", \"US-9271978-B2\", \"US-9577267-B2\", \"US-9636328-B2\", \"US-9347099-B2\", \"US-9567439-B1\", \"US-9073878-B2\", \"US-9706759-B2\", \"US-9496545-B2\", \"US-10066265-B2\", \"US-8936870-B2\", \"US-9043160-B1\", \"US-9663520-B2\", \"US-9708657-B2\", \"US-10072095-B2\", \"US-9523129-B2\", \"US-9147883-B2\", \"US-9744149-B2\", \"US-9278940-B2\", \"US-9662311-B2\", \"US-9549963-B2\", \"US-9629822-B2\", \"US-9522114-B1\", \"US-9548492-B2\", \"US-10077473-B2\", \"US-9559348-B2\", \"US-9598367-B2\", \"US-9622459-B2\", \"US-9528160-B2\", \"US-9550829-B2\", \"US-10011661-B2\", \"US-9932408-B2\", \"US-9005809-B2\", \"US-10082496-B2\", \"US-9419274-B2\", \"US-8940696-B2\", \"US-9505727-B2\", \"US-9214678-B2\", \"US-9861637-B2\", \"US-9577243-B2\", \"US-9765039-B2\", \"US-8691510-B2\", \"US-9279159-B2\", \"US-9853287-B2\", \"US-9950026-B2\", \"US-9982058-B2\", \"US-9855271-B2\", \"US-8795970-B2\", \"US-9457057-B2\", \"US-9365901-B2\", \"US-9181590-B2\", \"US-9969683-B2\", \"US-9930871-B2\", \"US-9856532-B2\", \"US-9944716-B2\", \"US-9932398-B2\", \"US-9150614-B2\", \"US-9663573-B2\", \"US-10010556-B2\", \"US-9809813-B2\", \"US-9531009-B2\", \"US-9217176-B2\", \"US-9150905-B2\", \"US-8748103-B2\", \"US-9371558-B2\", \"US-9623069-B2\", \"US-9416420-B2\", \"US-9023807-B2\", \"US-9506119-B2\", \"US-9512487-B2\", \"US-9040197-B2\", \"US-9686970-B2\", \"US-9034421-B2\", \"US-9744212-B2\", \"US-9272014-B2\", \"US-9568449-B2\", \"US-9742034-B2\", \"US-9486449-B2\", \"US-10020538-B2\", \"US-9796985-B2\", \"US-9502666-B2\", \"AU-2013309437-B2\", \"US-8598136-B2\", \"US-9909138-B2\", \"US-9550736-B2\", \"US-8729080-B2\", \"US-9089589-B2\", \"US-9644240-B2\", \"US-8816118-B2\"], \"yaxis\": \"y\"}],\n",
       "                        {\"barmode\": \"relative\", \"grid\": {\"xaxes\": [\"x\"], \"xgap\": 0.1, \"xside\": \"bottom\", \"yaxes\": [\"y\"], \"ygap\": 0.1, \"yside\": \"left\"}, \"height\": 600, \"legend\": {\"tracegroupgap\": 0}, \"margin\": {\"t\": 60}, \"template\": {\"data\": {\"bar\": [{\"marker\": {\"line\": {\"color\": \"#E5ECF6\", \"width\": 0.5}}, \"type\": \"bar\"}], \"barpolar\": [{\"marker\": {\"line\": {\"color\": \"#E5ECF6\", \"width\": 0.5}}, \"type\": \"barpolar\"}], \"carpet\": [{\"aaxis\": {\"endlinecolor\": \"#2a3f5f\", \"gridcolor\": \"white\", \"linecolor\": \"white\", \"minorgridcolor\": \"white\", \"startlinecolor\": \"#2a3f5f\"}, \"baxis\": {\"endlinecolor\": \"#2a3f5f\", \"gridcolor\": \"white\", \"linecolor\": \"white\", \"minorgridcolor\": \"white\", \"startlinecolor\": \"#2a3f5f\"}, \"type\": \"carpet\"}], \"choropleth\": [{\"colorbar\": {\"outlinewidth\": 0, \"ticks\": \"\"}, \"type\": \"choropleth\"}], \"contour\": [{\"colorbar\": {\"outlinewidth\": 0, \"ticks\": \"\"}, \"colorscale\": [[0.0, \"#0508b8\"], [0.0893854748603352, \"#1910d8\"], [0.1787709497206704, \"#3c19f0\"], [0.2681564245810056, \"#6b1cfb\"], [0.3575418994413408, \"#981cfd\"], [0.44692737430167595, \"#bf1cfd\"], [0.5363128491620112, \"#dd2bfd\"], [0.6256983240223464, \"#f246fe\"], [0.7150837988826816, \"#fc67fd\"], [0.8044692737430168, \"#fe88fc\"], [0.8938547486033519, \"#fea5fd\"], [0.9832402234636871, \"#febefe\"], [1.0, \"#fec3fe\"]], \"type\": \"contour\"}], \"contourcarpet\": [{\"colorbar\": {\"outlinewidth\": 0, \"ticks\": \"\"}, \"type\": \"contourcarpet\"}], \"heatmap\": [{\"colorbar\": {\"outlinewidth\": 0, \"ticks\": \"\"}, \"colorscale\": [[0.0, \"#0508b8\"], [0.0893854748603352, \"#1910d8\"], [0.1787709497206704, \"#3c19f0\"], [0.2681564245810056, \"#6b1cfb\"], [0.3575418994413408, \"#981cfd\"], [0.44692737430167595, \"#bf1cfd\"], [0.5363128491620112, \"#dd2bfd\"], [0.6256983240223464, \"#f246fe\"], [0.7150837988826816, \"#fc67fd\"], [0.8044692737430168, \"#fe88fc\"], [0.8938547486033519, \"#fea5fd\"], [0.9832402234636871, \"#febefe\"], [1.0, \"#fec3fe\"]], \"type\": \"heatmap\"}], \"heatmapgl\": [{\"colorbar\": {\"outlinewidth\": 0, \"ticks\": \"\"}, \"type\": \"heatmapgl\"}], \"histogram\": [{\"marker\": {\"colorbar\": {\"outlinewidth\": 0, \"ticks\": \"\"}}, \"type\": \"histogram\"}], \"histogram2d\": [{\"colorbar\": {\"outlinewidth\": 0, \"ticks\": \"\"}, \"colorscale\": [[0.0, \"#0508b8\"], [0.0893854748603352, \"#1910d8\"], [0.1787709497206704, \"#3c19f0\"], [0.2681564245810056, \"#6b1cfb\"], [0.3575418994413408, \"#981cfd\"], [0.44692737430167595, \"#bf1cfd\"], [0.5363128491620112, \"#dd2bfd\"], [0.6256983240223464, \"#f246fe\"], [0.7150837988826816, \"#fc67fd\"], [0.8044692737430168, \"#fe88fc\"], [0.8938547486033519, \"#fea5fd\"], [0.9832402234636871, \"#febefe\"], [1.0, \"#fec3fe\"]], \"type\": \"histogram2d\"}], \"histogram2dcontour\": [{\"colorbar\": {\"outlinewidth\": 0, \"ticks\": \"\"}, \"colorscale\": [[0.0, \"#0508b8\"], [0.0893854748603352, \"#1910d8\"], [0.1787709497206704, \"#3c19f0\"], [0.2681564245810056, \"#6b1cfb\"], [0.3575418994413408, \"#981cfd\"], [0.44692737430167595, \"#bf1cfd\"], [0.5363128491620112, \"#dd2bfd\"], [0.6256983240223464, \"#f246fe\"], [0.7150837988826816, \"#fc67fd\"], [0.8044692737430168, \"#fe88fc\"], [0.8938547486033519, \"#fea5fd\"], [0.9832402234636871, \"#febefe\"], [1.0, \"#fec3fe\"]], \"type\": \"histogram2dcontour\"}], \"mesh3d\": [{\"colorbar\": {\"outlinewidth\": 0, \"ticks\": \"\"}, \"type\": \"mesh3d\"}], \"parcoords\": [{\"line\": {\"colorbar\": {\"outlinewidth\": 0, \"ticks\": \"\"}}, \"type\": \"parcoords\"}], \"scatter\": [{\"marker\": {\"colorbar\": {\"outlinewidth\": 0, \"ticks\": \"\"}}, \"type\": \"scatter\"}], \"scatter3d\": [{\"marker\": {\"colorbar\": {\"outlinewidth\": 0, \"ticks\": \"\"}}, \"type\": \"scatter3d\"}], \"scattercarpet\": [{\"marker\": {\"colorbar\": {\"outlinewidth\": 0, \"ticks\": \"\"}}, \"type\": \"scattercarpet\"}], \"scattergeo\": [{\"marker\": {\"colorbar\": {\"outlinewidth\": 0, \"ticks\": \"\"}}, \"type\": \"scattergeo\"}], \"scattergl\": [{\"marker\": {\"colorbar\": {\"outlinewidth\": 0, \"ticks\": \"\"}}, \"type\": \"scattergl\"}], \"scattermapbox\": [{\"marker\": {\"colorbar\": {\"outlinewidth\": 0, \"ticks\": \"\"}}, \"type\": \"scattermapbox\"}], \"scatterpolar\": [{\"marker\": {\"colorbar\": {\"outlinewidth\": 0, \"ticks\": \"\"}}, \"type\": \"scatterpolar\"}], \"scatterpolargl\": [{\"marker\": {\"colorbar\": {\"outlinewidth\": 0, \"ticks\": \"\"}}, \"type\": \"scatterpolargl\"}], \"scatterternary\": [{\"marker\": {\"colorbar\": {\"outlinewidth\": 0, \"ticks\": \"\"}}, \"type\": \"scatterternary\"}], \"surface\": [{\"colorbar\": {\"outlinewidth\": 0, \"ticks\": \"\"}, \"type\": \"surface\"}], \"table\": [{\"cells\": {\"fill\": {\"color\": \"#EBF0F8\"}, \"line\": {\"color\": \"white\"}}, \"header\": {\"fill\": {\"color\": \"#C8D4E3\"}, \"line\": {\"color\": \"white\"}}, \"type\": \"table\"}]}, \"layout\": {\"annotationdefaults\": {\"arrowcolor\": \"#506784\", \"arrowhead\": 0, \"arrowwidth\": 1}, \"colorscale\": {\"diverging\": [[0, \"#8e0152\"], [0.1, \"#c51b7d\"], [0.2, \"#de77ae\"], [0.3, \"#f1b6da\"], [0.4, \"#fde0ef\"], [0.5, \"#f7f7f7\"], [0.6, \"#e6f5d0\"], [0.7, \"#b8e186\"], [0.8, \"#7fbc41\"], [0.9, \"#4d9221\"], [1, \"#276419\"]], \"sequential\": [[0.0, \"#0508b8\"], [0.0893854748603352, \"#1910d8\"], [0.1787709497206704, \"#3c19f0\"], [0.2681564245810056, \"#6b1cfb\"], [0.3575418994413408, \"#981cfd\"], [0.44692737430167595, \"#bf1cfd\"], [0.5363128491620112, \"#dd2bfd\"], [0.6256983240223464, \"#f246fe\"], [0.7150837988826816, \"#fc67fd\"], [0.8044692737430168, \"#fe88fc\"], [0.8938547486033519, \"#fea5fd\"], [0.9832402234636871, \"#febefe\"], [1.0, \"#fec3fe\"]], \"sequentialminus\": [[0.0, \"#0508b8\"], [0.0893854748603352, \"#1910d8\"], [0.1787709497206704, \"#3c19f0\"], [0.2681564245810056, \"#6b1cfb\"], [0.3575418994413408, \"#981cfd\"], [0.44692737430167595, \"#bf1cfd\"], [0.5363128491620112, \"#dd2bfd\"], [0.6256983240223464, \"#f246fe\"], [0.7150837988826816, \"#fc67fd\"], [0.8044692737430168, \"#fe88fc\"], [0.8938547486033519, \"#fea5fd\"], [0.9832402234636871, \"#febefe\"], [1.0, \"#fec3fe\"]]}, \"colorway\": [\"#636efa\", \"#EF553B\", \"#00cc96\", \"#ab63fa\", \"#19d3f3\", \"#e763fa\", \"#FECB52\", \"#FFA15A\", \"#FF6692\", \"#B6E880\"], \"font\": {\"color\": \"#2a3f5f\"}, \"geo\": {\"bgcolor\": \"white\", \"lakecolor\": \"white\", \"landcolor\": \"#E5ECF6\", \"showlakes\": true, \"showland\": true, \"subunitcolor\": \"white\"}, \"hoverlabel\": {\"align\": \"left\"}, \"hovermode\": \"closest\", \"mapbox\": {\"style\": \"light\"}, \"paper_bgcolor\": \"white\", \"plot_bgcolor\": \"#E5ECF6\", \"polar\": {\"angularaxis\": {\"gridcolor\": \"white\", \"linecolor\": \"white\", \"ticks\": \"\"}, \"bgcolor\": \"#E5ECF6\", \"radialaxis\": {\"gridcolor\": \"white\", \"linecolor\": \"white\", \"ticks\": \"\"}}, \"scene\": {\"xaxis\": {\"backgroundcolor\": \"#E5ECF6\", \"gridcolor\": \"white\", \"gridwidth\": 2, \"linecolor\": \"white\", \"showbackground\": true, \"ticks\": \"\", \"zerolinecolor\": \"white\"}, \"yaxis\": {\"backgroundcolor\": \"#E5ECF6\", \"gridcolor\": \"white\", \"gridwidth\": 2, \"linecolor\": \"white\", \"showbackground\": true, \"ticks\": \"\", \"zerolinecolor\": \"white\"}, \"zaxis\": {\"backgroundcolor\": \"#E5ECF6\", \"gridcolor\": \"white\", \"gridwidth\": 2, \"linecolor\": \"white\", \"showbackground\": true, \"ticks\": \"\", \"zerolinecolor\": \"white\"}}, \"shapedefaults\": {\"fillcolor\": \"#506784\", \"line\": {\"width\": 0}, \"opacity\": 0.4}, \"ternary\": {\"aaxis\": {\"gridcolor\": \"white\", \"linecolor\": \"white\", \"ticks\": \"\"}, \"baxis\": {\"gridcolor\": \"white\", \"linecolor\": \"white\", \"ticks\": \"\"}, \"bgcolor\": \"#E5ECF6\", \"caxis\": {\"gridcolor\": \"white\", \"linecolor\": \"white\", \"ticks\": \"\"}}, \"title\": {\"x\": 0.05}, \"xaxis\": {\"automargin\": true, \"gridcolor\": \"white\", \"linecolor\": \"white\", \"ticks\": \"\", \"zerolinecolor\": \"white\", \"zerolinewidth\": 2}, \"yaxis\": {\"automargin\": true, \"gridcolor\": \"white\", \"linecolor\": \"white\", \"ticks\": \"\", \"zerolinecolor\": \"white\", \"zerolinewidth\": 2}}}, \"xaxis\": {\"title\": {\"text\": \"year\"}}, \"yaxis\": {\"title\": {\"text\": \"count of id\"}}},\n",
       "                        {\"showLink\": false, \"linkText\": \"Export to plot.ly\", \"plotlyServerURL\": \"https://plot.ly\", \"responsive\": true}\n",
       "                    ).then(function(){\n",
       "                            \n",
       "var gd = document.getElementById('82c0e08b-f836-45d2-9dff-bc84bc64ebde');\n",
       "var x = new MutationObserver(function (mutations, observer) {{\n",
       "        var display = window.getComputedStyle(gd).display;\n",
       "        if (!display || display === 'none') {{\n",
       "            console.log([gd, 'removed!']);\n",
       "            Plotly.purge(gd);\n",
       "            observer.disconnect();\n",
       "        }}\n",
       "}});\n",
       "\n",
       "// Listen for the removal of the full notebook cells\n",
       "var notebookContainer = gd.closest('#notebook-container');\n",
       "if (notebookContainer) {{\n",
       "    x.observe(notebookContainer, {childList: true});\n",
       "}}\n",
       "\n",
       "// Listen for the clearing of the current output cell\n",
       "var outputEl = gd.closest('.output');\n",
       "if (outputEl) {{\n",
       "    x.observe(outputEl, {childList: true});\n",
       "}}\n",
       "\n",
       "                        })\n",
       "                };\n",
       "                });\n",
       "            </script>\n",
       "        </div>"
      ]
     },
     "metadata": {},
     "output_type": "display_data"
    }
   ],
   "source": [
    "px.histogram(dfpatents, x=\"year\", y=\"id\", color=\"filing_status\", hover_data=['assignee_names'])"
   ]
  },
  {
   "cell_type": "markdown",
   "metadata": {},
   "source": [
    "---\n",
    "# Activities\n",
    "\n",
    "* Try analyzing the assigness data (like we did above) for this new 'referencing' set of patents. Does any interesting patter emerge?\n",
    "* Try repeating the same analysis for a different organization listed in the [Global Research Identifier Database](https://grid.ac/)\n",
    "* Try modifying the original query to discover more information about the research areas of patents (tip: you can use `FOR` categories for this, [see the docs](https://docs.dimensions.ai/dsl/data-sources.html#patents))"
   ]
  },
  {
   "cell_type": "markdown",
   "metadata": {},
   "source": [
    "---\n",
    "# Want to learn more?\n",
    "\n",
    "Check out the [Dimensions API Lab](https://digital-science.github.io/dimensions-api-lab/) website, which contains many tutorials and reusable Jupyter notebooks for scholarly data analytics. "
   ]
  }
 ],
 "metadata": {
  "kernel_info": {
   "name": "python3"
  },
  "kernelspec": {
   "display_name": "Python 3",
   "language": "python",
   "name": "python3"
  },
  "language_info": {
   "codemirror_mode": {
    "name": "ipython",
    "version": 3
   },
   "file_extension": ".py",
   "mimetype": "text/x-python",
   "name": "python",
   "nbconvert_exporter": "python",
   "pygments_lexer": "ipython3",
   "version": "3.7.4"
  },
  "nteract": {
   "version": "0.14.5"
  }
 },
 "nbformat": 4,
 "nbformat_minor": 4
}
