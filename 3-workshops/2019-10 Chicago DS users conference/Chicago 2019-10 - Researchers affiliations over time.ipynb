{
 "cells": [
  {
   "cell_type": "markdown",
   "metadata": {
    "Collapsed": "false",
    "colab_type": "text",
    "id": "KpPifiVrSQ9e"
   },
   "source": [
    "# Analyzing Researchers affiliations over time \n",
    "\n",
    "What we'll cover in this notebooks\n",
    "\n",
    "* how to extract researchers data related to an institution \n",
    "* how to examine historical affiliations data \n",
    "* how to plot these data on a map so to be analysed further"
   ]
  },
  {
   "cell_type": "markdown",
   "metadata": {
    "Collapsed": "false",
    "colab_type": "text",
    "id": "3pflIZRe3lLu"
   },
   "source": [
    "## Installing Dimensions Client Library and Logging In"
   ]
  },
  {
   "cell_type": "code",
   "execution_count": null,
   "metadata": {
    "Collapsed": "false",
    "cellView": "form",
    "colab": {},
    "colab_type": "code",
    "id": "XG9RDExoShV4"
   },
   "outputs": [],
   "source": [
    "try:\n",
    "  from google.colab import files\n",
    "  %load_ext google.colab.data_table\n",
    "  COLAB_ENV = True\n",
    "  !pip install dimcli plotly_express  -U\n",
    "except:\n",
    "  COLAB_ENV = False\n",
    "\n",
    "\n",
    "# common libraries\n",
    "import pandas as pd\n",
    "from pandas.io.json import json_normalize\n",
    "import time\n",
    "from tqdm import tqdm_notebook as tqdm\n",
    "import plotly_express as px\n",
    "from getpass import getpass\n",
    "# FINALLY..\n",
    "import dimcli\n",
    "from dimcli.shortcuts import *\n",
    "\n",
    "# set up for exports\n",
    "if not COLAB_ENV:\n",
    "  from plotly.offline import init_notebook_mode # needed for exports \n",
    "  init_notebook_mode(connected=True)\n",
    "\n",
    "##\n",
    "# LOG IN \n",
    "##\n",
    "\n",
    "USERNAME = \"\"  #@param {type: \"string\"}\n",
    "\n",
    "if not USERNAME:\n",
    "  print(\"====\\nERROR: Please enter a valid Dimensions API username\")\n",
    "else:\n",
    "  password = getpass('====\\nEnter password here')\n",
    "  print('=> username is', USERNAME)\n",
    "  print('=> password is', \"*\" * len(password))\n",
    "  dimcli.login(USERNAME, password)\n",
    "  dsl = dimcli.Dsl()\n"
   ]
  },
  {
   "cell_type": "markdown",
   "metadata": {
    "Collapsed": "false",
    "colab_type": "text",
    "id": "2J4D2SUNSQ9i"
   },
   "source": [
    "## Selecting an organization\n",
    "\n",
    "Dimensions uses GRID, the [Global Research Identifier Database](https://grid.ac/). So we can use GRID IDs to perform searches across all source in Dimensions. \n",
    "\n",
    "Pick one of the institutions listed below to get started. Or just go to the GRID [search page](https://grid.ac/institutes) and find the ID of another institution you are interested in. *NOTE: make sure there is a **hyphen** between the grid ID and the institution name.*\n",
    "\n",
    "Then hit the 'Play' button to extract the data.\n"
   ]
  },
  {
   "cell_type": "code",
   "execution_count": null,
   "metadata": {
    "Collapsed": "false",
    "cellView": "form",
    "colab": {},
    "colab_type": "code",
    "id": "JV9n1e3HSQ9j"
   },
   "outputs": [],
   "source": [
    "#@title Select an institution\n",
    "\n",
    "GRID = \"grid.16416.34 - University of Rochester\" #@param [\"grid.16416.34 - University of Rochester\", \"grid.170205.1 - University of Chicago\", \"grid.264756.4 - Texas A&M University\", \"grid.147455.6 - Carnegie Mellon University\" ] {allow-input: true}\n",
    "#@markdown ---\n",
    "\n",
    "GRIDID = GRID.split(\"-\")[0].strip()\n",
    "print(\"You selected: \", GRID)\n",
    "\n",
    "\n",
    "#\n",
    "# DATA EXTRACTION\n",
    "#\n",
    "\n",
    "\n",
    "print(\"..extracting data..\")\n",
    "#\n",
    "# 1. Researchers currently affiliated to this university, by number of publications\n",
    "#\n",
    "\n",
    "data1 = dslquery(f\"\"\"search researchers where \n",
    "                    current_research_org=\"{GRIDID}\" and obsolete=0 \n",
    "                    return researchers[basics+total_publications] \n",
    "                    sort by total_publications limit 1000\"\"\")\n",
    "#\n",
    "#\n",
    "#\n",
    "df1 = data1.as_dataframe()\n",
    "df1[\"full_name\"] = df1[\"first_name\"] + \" \" + df1[\"last_name\"]\n",
    "df1[\"url\"] = \"https://app.dimensions.ai/discover/publication?and_facet_researcher=\" + df1[\"id\"]\n",
    "\n",
    "\n",
    "#\n",
    "# 2. Researchers affiliated to this university at any point in time \n",
    "#\n",
    "\n",
    "data2 = dslquery(f\"\"\"search researchers \n",
    "                      where research_orgs=\"{GRIDID}\" and obsolete=0 \n",
    "                      and current_research_org is not empty\n",
    "                    return researchers[basics+total_publications+current_research_org] \n",
    "                    sort by total_publications limit 1000\"\"\")\n",
    "#\n",
    "#\n",
    "#\n",
    "df2 = data2.as_dataframe()\n",
    "df2[\"full_name\"] = df2[\"first_name\"] + \" \" + df2[\"last_name\"]\n",
    "df2 = df2.rename(columns={\"current_research_org.name\": \"name\", \"current_research_org.country_name\": \"country\"})\n",
    "df2 = df2.fillna(\"empty\") # fill empty values with a string\n",
    "\n",
    "\n",
    "#\n",
    "# 3. \n",
    "#\n",
    "# remove the GRID org we are currenlty focusing on from the data\n",
    "df3 = df2[df2['current_research_org.id'] != GRIDID]\n",
    "#\n",
    "#\n",
    "\n",
    "print(\".. downloading the data as csv ..\")\n",
    "# query1\n",
    "filename = \"researchers_current_{}.csv\".format(GRIDID)\n",
    "df1.to_csv(filename, index=False)\n",
    "files.download(filename)\n",
    "# query2\n",
    "filename = \"researchers_historical_{}.csv\".format(GRIDID)\n",
    "df2.to_csv(filename, index=False)\n",
    "files.download(filename)\n",
    "#\n",
    "#\n",
    "print(\"====\\nDone!\")"
   ]
  },
  {
   "cell_type": "markdown",
   "metadata": {
    "Collapsed": "false",
    "colab_type": "text",
    "id": "eCv1JqQdhK6c"
   },
   "source": [
    "# Data Analysis \n",
    "\n",
    "## Researchers currently affiliated to this university, by number of publications"
   ]
  },
  {
   "cell_type": "code",
   "execution_count": null,
   "metadata": {
    "Collapsed": "false",
    "cellView": "form",
    "colab": {},
    "colab_type": "code",
    "id": "T5CM8oChSQ9n"
   },
   "outputs": [],
   "source": [
    "#@title Use the slider to select how many researchers to plot\n",
    "\n",
    "limit1 = 164  #@param {type: \"slider\", min: 10, max: 1000}\n",
    "#@markdown \n",
    "\n",
    "px.scatter(df1[:limit1], x=\"total_publications\", y=\"full_name\", \n",
    "           hover_name=\"full_name\", \n",
    "           hover_data=['id', 'total_publications'], \n",
    "           height=600, title=f\"Researchers currenlty affiliated to {GRID}\")"
   ]
  },
  {
   "cell_type": "markdown",
   "metadata": {
    "Collapsed": "false",
    "colab_type": "text",
    "id": "yNYL1Jc7SQ9w"
   },
   "source": [
    "## Historical Affiliations VS Current Affiliation: a quick look"
   ]
  },
  {
   "cell_type": "code",
   "execution_count": null,
   "metadata": {
    "Collapsed": "false",
    "cellView": "form",
    "colab": {},
    "colab_type": "code",
    "id": "jpYuMer8SQ9z"
   },
   "outputs": [],
   "source": [
    "#@title Use the slider to select how many researchers to plot\n",
    "\n",
    "limit2 = 100  #@param {type: \"slider\", min: 10, max: 1000}\n",
    "#@markdown \n",
    "\n",
    "px.scatter(df2[:limit2], x=\"full_name\", y=\"total_publications\", hover_name=\"full_name\", color=\"name\", size=\"total_publications\",\n",
    "           hover_data=['id', 'total_publications'], \n",
    "           height=600, title=f\"Researchers with historical associations to {GRID}\")"
   ]
  },
  {
   "cell_type": "markdown",
   "metadata": {
    "Collapsed": "false",
    "colab_type": "text",
    "id": "qMypUjvtSQ91"
   },
   "source": [
    "## Distribution of researchers across receiving institutions/countries"
   ]
  },
  {
   "cell_type": "markdown",
   "metadata": {
    "Collapsed": "false",
    "colab_type": "text",
    "id": "H_ZOCmWwSQ91"
   },
   "source": [
    "By using the `current_research_org` value we can get a quick overview of where the researchers in our dataset are now.\n",
    "\n"
   ]
  },
  {
   "cell_type": "code",
   "execution_count": null,
   "metadata": {
    "Collapsed": "false",
    "cellView": "form",
    "colab": {},
    "colab_type": "code",
    "id": "DnwcE-TRqCfz"
   },
   "outputs": [],
   "source": [
    "#@title Use the slider to select how many researchers to plot\n",
    "\n",
    "limit3 = 343  #@param {type: \"slider\", min: 10, max: 1000}\n",
    "#@markdown \n",
    "\n",
    "px.histogram(df3[:limit3], x=\"id\", y=\"name\", color=\"country\",\n",
    "             orientation='h', hover_name=\"name\", \n",
    "             hover_data=['current_research_org.id'],\n",
    "             title=f\"Current affiliation of researchers formerly affiliated to {GRID}\")"
   ]
  },
  {
   "cell_type": "markdown",
   "metadata": {
    "Collapsed": "false",
    "colab_type": "text",
    "id": "x9ysASlYSQ98"
   },
   "source": [
    "## Distribution of researchers segmented by tot number of high-impact publications "
   ]
  },
  {
   "cell_type": "code",
   "execution_count": null,
   "metadata": {
    "Collapsed": "false",
    "cellView": "form",
    "colab": {},
    "colab_type": "code",
    "id": "ZXW0TKYLSQ98"
   },
   "outputs": [],
   "source": [
    "#@title Use the slider to select how many researchers to plot\n",
    "\n",
    "limit4 = 100  #@param {type: \"slider\", min: 10, max: 1000}\n",
    "#@markdown \n",
    "\n",
    "px.scatter(df3[:limit4], y=\"name\", x=\"total_publications\",  \n",
    "           hover_name=\"full_name\", marginal_x=\"histogram\",\n",
    "           color=\"country\", hover_data=['id', 'total_publications'], \n",
    "           height=600, \n",
    "           title=f\"Current affiliation of researchers formerly affiliated to {GRID}, by No of publications\")"
   ]
  },
  {
   "cell_type": "markdown",
   "metadata": {
    "Collapsed": "false",
    "colab_type": "text",
    "id": "VjYecdZCSQ9-"
   },
   "source": [
    "---\n",
    "# Activities\n",
    "\n",
    "* Try repeating the same analysis for a different organization listed in the [Global Research Identifier Database](https://grid.ac/)\n",
    "* Try modifying the initial result set eg by adding a keyword search `search publications for \"malaria\" ...` and see how results change"
   ]
  },
  {
   "cell_type": "markdown",
   "metadata": {
    "Collapsed": "false",
    "colab_type": "text",
    "id": "XdZGoOdGSQ9-"
   },
   "source": [
    "---\n",
    "# Want to learn more?\n",
    "\n",
    "Check out the [Dimensions API Lab](https://digital-science.github.io/dimensions-api-lab/) website, which contains many tutorials and reusable Jupyter notebooks for scholarly data analytics. "
   ]
  }
 ],
 "metadata": {
  "colab": {
   "collapsed_sections": [],
   "name": "Chicago 2019-10 - Researchers affiliations over time.ipynb",
   "provenance": [
    {
     "file_id": "1Y6Qpnn9qQM2cdt8qY3ybcB8AkssAM5y9",
     "timestamp": 1569949675738
    }
   ]
  },
  "kernel_info": {
   "name": "python3"
  },
  "kernelspec": {
   "display_name": "Python 3",
   "language": "python",
   "name": "python3"
  },
  "language_info": {
   "codemirror_mode": {
    "name": "ipython",
    "version": 3
   },
   "file_extension": ".py",
   "mimetype": "text/x-python",
   "name": "python",
   "nbconvert_exporter": "python",
   "pygments_lexer": "ipython3",
   "version": "3.7.4"
  },
  "nteract": {
   "version": "0.14.5"
  }
 },
 "nbformat": 4,
 "nbformat_minor": 4
}
