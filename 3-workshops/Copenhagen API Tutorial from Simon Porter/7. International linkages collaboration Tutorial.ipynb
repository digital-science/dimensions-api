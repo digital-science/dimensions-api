{
  "cells": [
    {
      "cell_type": "markdown",
      "source": [
        "# 7. International Linkages (Institution Level)\n",
        "\n",
        "Building international linkage graphs is easy with the Dimensions DSL.\n",
        "Blog: https://www.dimensions.ai/blog/2018/02/building-institutional-collaboration-diagrams-with-the-dimensions-search-api\n"
      ],
      "metadata": {}
    },
    {
      "cell_type": "code",
      "source": [
        "from dimcli.shortcuts import dslquery_json as dslquery\n",
        "import networkx as nx\n",
        "import matplotlib.pyplot as plt"
      ],
      "outputs": [],
      "execution_count": null,
      "metadata": {}
    },
    {
      "cell_type": "markdown",
      "source": [
        "## 1) Start with a seed organisation"
      ],
      "metadata": {}
    },
    {
      "cell_type": "code",
      "source": [
        "seed_org = 'grid.5947.f'"
      ],
      "outputs": [],
      "execution_count": null,
      "metadata": {}
    },
    {
      "cell_type": "markdown",
      "source": [
        "## 2) Return the top 10 collaborating institutions"
      ],
      "metadata": {}
    },
    {
      "cell_type": "code",
      "source": [
        "def searchdataorg(orgid):\n",
        "    searchstring = \"\"\"search publications for \"nanotechnology\"\n",
        "                       where (year in [2015:2018] and research_orgs.id=\"{}\")\n",
        "                       return research_orgs\n",
        "                       limit 11\n",
        "             \"\"\".format(orgid)\n",
        "    return searchstring"
      ],
      "outputs": [],
      "execution_count": null,
      "metadata": {}
    },
    {
      "cell_type": "code",
      "source": [
        "seed_results = dslquery(searchdataorg(seed_org))"
      ],
      "outputs": [],
      "execution_count": null,
      "metadata": {}
    },
    {
      "cell_type": "code",
      "source": [
        "seed_results"
      ],
      "outputs": [],
      "execution_count": null,
      "metadata": {}
    },
    {
      "cell_type": "markdown",
      "source": [
        "## 3) For each of the top 10 collaborating institutions...\n",
        "return their collaborating institutions to create a 2 degree network "
      ],
      "metadata": {}
    },
    {
      "cell_type": "code",
      "source": [
        "edges = []\n",
        "for source_org in seed_results['research_orgs']:\n",
        "    results = dslquery(searchdataorg(source_org['id']))\n",
        "    edges += [\n",
        "               [ source_org['id'], target_org['id'], target_org['count'],\n",
        "                 source_org['name'], target_org['name'], \n",
        "                 source_org['country_name'], target_org['country_name']]\n",
        "               for target_org in results['research_orgs']\n",
        "               if target_org['id'] != source_org['id']\n",
        "               ]\n",
        "    \n",
        "    \n",
        "nodes={}    \n",
        "for e in edges:\n",
        "    nodes[e[0]] = dict(name=e[3], country=e[5])\n",
        "    nodes[e[1]] = dict(name=e[4], country=e[6])\n",
        "    \n"
      ],
      "outputs": [],
      "execution_count": null,
      "metadata": {}
    },
    {
      "cell_type": "markdown",
      "source": [
        "## 4) Export the Graph"
      ],
      "metadata": {}
    },
    {
      "cell_type": "code",
      "source": [
        "G = nx.Graph()\n",
        "G.add_nodes_from([(g,nodes[g]) for g in nodes.keys()])\n",
        "G.add_edges_from([(e[0],e[1],dict(weight=e[2])) for e in edges])\n",
        "\n",
        "labels = {}\n",
        "for n in nodes.keys():\n",
        "    labels[n] = nodes[n]['name'] "
      ],
      "outputs": [],
      "execution_count": null,
      "metadata": {}
    },
    {
      "cell_type": "code",
      "source": [
        "pos = nx.spring_layout(G)\n",
        "colors = range(20)\n",
        "plt.figure(figsize=(10,10))\n",
        "nx.draw(G, pos, node_color='#A0CBE2', labels=labels)\n",
        "plt.show()"
      ],
      "outputs": [],
      "execution_count": null,
      "metadata": {}
    },
    {
      "cell_type": "markdown",
      "source": [
        "---\n",
        "# Want to learn more?\n",
        "\n",
        "Check out the [Dimensions API Lab](https://digital-science.github.io/dimensions-api-lab/) website, which contains many tutorials and reusable Jupyter notebooks for scholarly data analytics. "
      ],
      "metadata": {}
    }
  ],
  "metadata": {
    "kernelspec": {
      "name": "python3",
      "language": "python",
      "display_name": "Python 3"
    },
    "language_info": {
      "name": "python",
      "version": "3.7.4",
      "mimetype": "text/x-python",
      "codemirror_mode": {
        "name": "ipython",
        "version": 3
      },
      "pygments_lexer": "ipython3",
      "nbconvert_exporter": "python",
      "file_extension": ".py"
    },
    "kernel_info": {
      "name": "python3"
    },
    "nteract": {
      "version": "0.14.5"
    }
  },
  "nbformat": 4,
  "nbformat_minor": 2
}