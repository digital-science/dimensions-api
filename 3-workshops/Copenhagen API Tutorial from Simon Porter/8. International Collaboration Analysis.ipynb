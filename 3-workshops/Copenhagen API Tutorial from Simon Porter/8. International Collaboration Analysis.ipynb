{
  "cells": [
    {
      "cell_type": "markdown",
      "source": [
        "# International Collaboration Analysis"
      ],
      "metadata": {}
    },
    {
      "cell_type": "code",
      "source": [
        "from dimcli.shortcuts import dslquery_json as dslquery\n",
        "import pandas as pd"
      ],
      "outputs": [],
      "execution_count": null,
      "metadata": {}
    },
    {
      "cell_type": "markdown",
      "source": [
        "## Identify Single institution papers"
      ],
      "metadata": {}
    },
    {
      "cell_type": "code",
      "source": [
        "sole_institution = pd.DataFrame(\n",
        "    dslquery(\"\"\"\n",
        "        search publications \n",
        "            where count(research_orgs) = 1\n",
        "            and type=\"article\"\n",
        "            and year = [2007:2017]\n",
        "        return research_orgs limit 200\n",
        "        \"\"\")['research_orgs']\n",
        ")\n",
        "sole_institution.head()"
      ],
      "outputs": [],
      "execution_count": null,
      "metadata": {}
    },
    {
      "cell_type": "markdown",
      "source": [
        "## Identify papers with domestic collaboration"
      ],
      "metadata": {}
    },
    {
      "cell_type": "code",
      "source": [
        "domestic_instituion = pd.DataFrame(\n",
        "    dslquery(\"\"\"\n",
        "        search publications \n",
        "            where count(research_org_countries) = 1\n",
        "            and type=\"article\"\n",
        "            and year = [2007:2017]\n",
        "        return research_orgs limit 200\n",
        "        \"\"\")['research_orgs']\n",
        ")\n",
        "domestic_instituion.head()"
      ],
      "outputs": [],
      "execution_count": null,
      "metadata": {}
    },
    {
      "cell_type": "markdown",
      "source": [
        "## Identify papers with international collaboration"
      ],
      "metadata": {}
    },
    {
      "cell_type": "code",
      "source": [
        "international_instituion = pd.DataFrame(\n",
        "    dslquery(\"\"\"\n",
        "        search publications \n",
        "            where count(research_org_countries) > 1\n",
        "            and type=\"article\"\n",
        "            and year = [2007:2017]\n",
        "        return research_orgs limit 200\n",
        "        \"\"\")['research_orgs']\n",
        ")\n",
        "international_instituion.head()"
      ],
      "outputs": [],
      "execution_count": null,
      "metadata": {}
    },
    {
      "cell_type": "markdown",
      "source": [
        "## Join the tables together"
      ],
      "metadata": {}
    },
    {
      "cell_type": "code",
      "source": [
        "sole = sole_institution[['id','name','country_name','count']]\n",
        "sole.columns = ['id','name','country_name','internal publications']"
      ],
      "outputs": [],
      "execution_count": null,
      "metadata": {}
    },
    {
      "cell_type": "code",
      "source": [
        "dom = domestic_instituion[['id','count']]\n",
        "dom.columns = ['id','domestic_publications']\n",
        "international = international_instituion[['id','count']]\n",
        "international.columns = ['id','international_publications']\n"
      ],
      "outputs": [],
      "execution_count": null,
      "metadata": {}
    },
    {
      "cell_type": "code",
      "source": [
        "jdf = sole.set_index('id').join(dom.set_index('id')).join(international.set_index('id'))\n",
        "\n",
        "jdf['internal_international_ratio'] = jdf['internal publications'] / jdf['international_publications']\n",
        "jdf.head(100)"
      ],
      "outputs": [],
      "execution_count": null,
      "metadata": {}
    },
    {
      "cell_type": "markdown",
      "source": [
        "## Add a little bit of analysis"
      ],
      "metadata": {}
    },
    {
      "cell_type": "code",
      "source": [
        "def highlight_cols(s):\n",
        "    if s > 1 :\n",
        "        color = 'yellow'\n",
        "    elif s < 1:\n",
        "        color = 'grey'\n",
        "    else:\n",
        "        color = 'white'\n",
        "    return 'background-color: %s' % color\n",
        "\n",
        "jdf.style.applymap(highlight_cols, subset=['internal_international_ratio'])"
      ],
      "outputs": [],
      "execution_count": null,
      "metadata": {}
    },
    {
      "cell_type": "markdown",
      "source": [
        "---\n",
        "# Want to learn more?\n",
        "\n",
        "Check out the [Dimensions API Lab](https://digital-science.github.io/dimensions-api-lab/) website, which contains many tutorials and reusable Jupyter notebooks for scholarly data analytics. "
      ],
      "metadata": {}
    }
  ],
  "metadata": {
    "kernelspec": {
      "name": "python3",
      "language": "python",
      "display_name": "Python 3"
    },
    "language_info": {
      "name": "python",
      "version": "3.7.4",
      "mimetype": "text/x-python",
      "codemirror_mode": {
        "name": "ipython",
        "version": 3
      },
      "pygments_lexer": "ipython3",
      "nbconvert_exporter": "python",
      "file_extension": ".py"
    },
    "kernel_info": {
      "name": "python3"
    },
    "nteract": {
      "version": "0.14.5"
    }
  },
  "nbformat": 4,
  "nbformat_minor": 2
}