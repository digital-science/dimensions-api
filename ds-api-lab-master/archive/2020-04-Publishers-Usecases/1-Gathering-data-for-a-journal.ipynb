{
 "cells": [
  {
   "cell_type": "markdown",
   "metadata": {
    "Collapsed": "false",
    "colab_type": "text",
    "id": "Pesu5qAD6J7-"
   },
   "source": [
    "# Part 1: Extracting a Journal's Publications+Researchers Datasets\n",
    "\n",
    "In this notebook we are going to \n",
    "\n",
    "* extract all publications data for a given journal\n",
    "* have a quick look at the publications' authors and affiliations \n",
    "* review how many authors have been disambiguated with a Dimensions Researcher ID\n",
    "* produce a dataset of non-disambiguated authors that can be used for manual disambiguation "
   ]
  },
  {
   "cell_type": "markdown",
   "metadata": {
    "Collapsed": "false",
    "colab_type": "text",
    "id": "Pesu5qAD6J7-"
   },
   "source": [
    "## Prerequisites: Installing the Dimensions Library and Logging in"
   ]
  },
  {
   "cell_type": "code",
   "execution_count": 18,
   "metadata": {
    "Collapsed": "false"
   },
   "outputs": [
    {
     "name": "stdout",
     "output_type": "stream",
     "text": [
      "DimCli v0.6.7 - Succesfully connected to <https://app.dimensions.ai> (method: dsl.ini file)\n"
     ]
    },
    {
     "data": {
      "text/html": [
       "        <script type=\"text/javascript\">\n",
       "        window.PlotlyConfig = {MathJaxConfig: 'local'};\n",
       "        if (window.MathJax) {MathJax.Hub.Config({SVG: {font: \"STIX-Web\"}});}\n",
       "        if (typeof require !== 'undefined') {\n",
       "        require.undef(\"plotly\");\n",
       "        requirejs.config({\n",
       "            paths: {\n",
       "                'plotly': ['https://cdn.plot.ly/plotly-latest.min']\n",
       "            }\n",
       "        });\n",
       "        require(['plotly'], function(Plotly) {\n",
       "            window._Plotly = Plotly;\n",
       "        });\n",
       "        }\n",
       "        </script>\n",
       "        "
      ]
     },
     "metadata": {},
     "output_type": "display_data"
    }
   ],
   "source": [
    "\n",
    "# @markdown # Get the API library and login\n",
    "# @markdown Click the 'play' button on the left (or shift+enter) after entering your API credentials\n",
    "\n",
    "username = \"\" #@param {type: \"string\"}\n",
    "password = \"\" #@param {type: \"string\"}\n",
    "endpoint = \"https://app.dimensions.ai\" #@param {type: \"string\"}\n",
    "\n",
    "\n",
    "!pip install dimcli plotly tqdm -U --quiet\n",
    "import dimcli\n",
    "from dimcli.shortcuts import *\n",
    "dimcli.login(username, password, endpoint)\n",
    "dsl = dimcli.Dsl()\n",
    "\n",
    "#\n",
    "# load common libraries\n",
    "import time\n",
    "import sys\n",
    "import json\n",
    "import os\n",
    "import pandas as pd\n",
    "from pandas.io.json import json_normalize\n",
    "from tqdm.notebook import tqdm as progress\n",
    "\n",
    "#\n",
    "# charts libs\n",
    "# import plotly_express as px\n",
    "import plotly.express as px\n",
    "if not 'google.colab' in sys.modules:\n",
    "  # make js dependecies local / needed by html exports\n",
    "  from plotly.offline import init_notebook_mode\n",
    "  init_notebook_mode(connected=True)\n",
    "#\n",
    "# create output data folder\n",
    "if not(os.path.exists(\"data\")):\n",
    "    os.mkdir(\"data\")"
   ]
  },
  {
   "cell_type": "markdown",
   "metadata": {
    "Collapsed": "false",
    "colab_type": "text",
    "id": "Z1jwOf1F64mr"
   },
   "source": [
    "## Selecting a Journal and Extracting All Publications Metadata"
   ]
  },
  {
   "cell_type": "code",
   "execution_count": 2,
   "metadata": {
    "Collapsed": "false",
    "cellView": "form",
    "colab": {},
    "colab_type": "code",
    "id": "Ku0GkHfE7JI7"
   },
   "outputs": [
    {
     "name": "stdout",
     "output_type": "stream",
     "text": [
      "DSL Query:\n",
      "----\n",
      " search publications where \n",
      "    journal.title=\"Nature Genetics\" and \n",
      "    year>=2015 \n",
      "    return publications[basics+altmetric+times_cited] \n",
      "----\n",
      "500 / 1472\n",
      "1000 / 1472\n",
      "1472 / 1472\n"
     ]
    }
   ],
   "source": [
    "#@title Select a journal from the dropdown\n",
    "#@markdown If the journal isn't there, you can try type in the exact name instead.\n",
    "\n",
    "journal_title = \"Nature Genetics\" #@param ['Nature', 'The Science of Nature', 'Nature Communications', 'Nature Biotechnology', 'Nature Medicine', 'Nature Genetics', 'Nature Neuroscience', 'Nature Structural & Molecular Biology', 'Nature Methods', 'Nature Cell Biology', 'Nature Immunology', 'Nature Reviews Drug Discovery', 'Nature Materials', 'Nature Physics', 'Nature Reviews Neuroscience', 'Nature Nanotechnology', 'Nature Reviews Genetics', 'Nature Reviews Urology', 'Nature Reviews Molecular Cell Biology', 'Nature Precedings', 'Nature Reviews Cancer', 'Nature Photonics', 'Nature Reviews Immunology', 'Nature Reviews Cardiology', 'Nature Reviews Gastroenterology & Hepatology', 'Nature Reviews Clinical Oncology', 'Nature Reviews Endocrinology', 'Nature Reviews Neurology', 'Nature Chemical Biology', 'Nature Reviews Microbiology', 'Nature Geoscience', 'Nature Reviews Rheumatology', 'Nature Climate Change', 'Nature Reviews Nephrology', 'Nature Chemistry', 'Nature Digest', 'Nature Protocols', 'Nature Middle East', 'Nature India', 'Nature China', 'Nature Plants', 'Nature Microbiology', 'Nature Ecology & Evolution', 'Nature Astronomy', 'Nature Energy', 'Nature Human Behaviour', 'AfCS-Nature Molecule Pages', 'Human Nature', 'Nature Reviews Disease Primers', 'Nature Biomedical Engineering', 'Nature Reports Stem Cells', 'Nature Reviews Materials', 'Nature Sustainability', 'Nature Catalysis', 'Nature Electronics', 'Nature Reviews Chemistry', 'Nature Metabolism', 'Nature Reviews Physics', 'Nature Machine Intelligence', 'NCI Nature Pathway Interaction Database', 'Nature Reports: Climate Change'] {allow-input: true}\n",
    "start_year = 2015  #@param {type: \"number\"}\n",
    "#@markdown ---\n",
    "\n",
    "# PS \n",
    "# To get titles from the API one can do this:\n",
    "# > %dsldf search publications where journal.title~\"Nature\" and publisher=\"Springer Nature\" return journal limit 100\n",
    "# > \", \".join([f\"'{x}'\" for x in list(dsl_last_results.title)]) \n",
    "#\n",
    "\n",
    "q_template = \"\"\"search publications where \n",
    "    journal.title=\"{}\" and \n",
    "    year>={} \n",
    "    return publications[basics+altmetric+times_cited]\"\"\"\n",
    "q = q_template.format(journal_title, start_year)\n",
    "print(\"DSL Query:\\n----\\n\", q, \"\\n----\")\n",
    "pubs = dsl.query_iterative(q.format(journal_title, start_year), limit=500)\n"
   ]
  },
  {
   "cell_type": "markdown",
   "metadata": {
    "Collapsed": "false"
   },
   "source": [
    "Save the data as a CSV file in case we want to reuse it later"
   ]
  },
  {
   "cell_type": "code",
   "execution_count": 3,
   "metadata": {
    "Collapsed": "false"
   },
   "outputs": [
    {
     "data": {
      "text/html": [
       "<div>\n",
       "<style scoped>\n",
       "    .dataframe tbody tr th:only-of-type {\n",
       "        vertical-align: middle;\n",
       "    }\n",
       "\n",
       "    .dataframe tbody tr th {\n",
       "        vertical-align: top;\n",
       "    }\n",
       "\n",
       "    .dataframe thead th {\n",
       "        text-align: right;\n",
       "    }\n",
       "</style>\n",
       "<table border=\"1\" class=\"dataframe\">\n",
       "  <thead>\n",
       "    <tr style=\"text-align: right;\">\n",
       "      <th></th>\n",
       "      <th>pages</th>\n",
       "      <th>altmetric</th>\n",
       "      <th>year</th>\n",
       "      <th>id</th>\n",
       "      <th>times_cited</th>\n",
       "      <th>author_affiliations</th>\n",
       "      <th>type</th>\n",
       "      <th>title</th>\n",
       "      <th>journal.id</th>\n",
       "      <th>journal.title</th>\n",
       "      <th>issue</th>\n",
       "      <th>volume</th>\n",
       "    </tr>\n",
       "  </thead>\n",
       "  <tbody>\n",
       "    <tr>\n",
       "      <th>0</th>\n",
       "      <td>1-7</td>\n",
       "      <td>9.0</td>\n",
       "      <td>2020</td>\n",
       "      <td>pub.1126819415</td>\n",
       "      <td>0</td>\n",
       "      <td>[[{'first_name': 'Margaux L. A.', 'last_name':...</td>\n",
       "      <td>article</td>\n",
       "      <td>Liability threshold modeling of case–control s...</td>\n",
       "      <td>jour.1103138</td>\n",
       "      <td>Nature Genetics</td>\n",
       "      <td>NaN</td>\n",
       "      <td>NaN</td>\n",
       "    </tr>\n",
       "    <tr>\n",
       "      <th>1</th>\n",
       "      <td>1-9</td>\n",
       "      <td>103.0</td>\n",
       "      <td>2020</td>\n",
       "      <td>pub.1126821460</td>\n",
       "      <td>0</td>\n",
       "      <td>[[{'first_name': 'Z. Jeffrey', 'last_name': 'C...</td>\n",
       "      <td>article</td>\n",
       "      <td>Genomic diversifications of five Gossypium all...</td>\n",
       "      <td>jour.1103138</td>\n",
       "      <td>Nature Genetics</td>\n",
       "      <td>NaN</td>\n",
       "      <td>NaN</td>\n",
       "    </tr>\n",
       "    <tr>\n",
       "      <th>2</th>\n",
       "      <td>1-9</td>\n",
       "      <td>23.0</td>\n",
       "      <td>2020</td>\n",
       "      <td>pub.1126635334</td>\n",
       "      <td>0</td>\n",
       "      <td>[[{'first_name': 'Gai', 'last_name': 'Huang', ...</td>\n",
       "      <td>article</td>\n",
       "      <td>Genome sequence of Gossypium herbaceum and gen...</td>\n",
       "      <td>jour.1103138</td>\n",
       "      <td>Nature Genetics</td>\n",
       "      <td>NaN</td>\n",
       "      <td>NaN</td>\n",
       "    </tr>\n",
       "    <tr>\n",
       "      <th>3</th>\n",
       "      <td>1-7</td>\n",
       "      <td>235.0</td>\n",
       "      <td>2020</td>\n",
       "      <td>pub.1126635876</td>\n",
       "      <td>1</td>\n",
       "      <td>[[{'first_name': 'Yoav', 'last_name': 'Voichek...</td>\n",
       "      <td>article</td>\n",
       "      <td>Identifying genetic variants underlying phenot...</td>\n",
       "      <td>jour.1103138</td>\n",
       "      <td>Nature Genetics</td>\n",
       "      <td>NaN</td>\n",
       "      <td>NaN</td>\n",
       "    </tr>\n",
       "    <tr>\n",
       "      <th>4</th>\n",
       "      <td>1-11</td>\n",
       "      <td>12.0</td>\n",
       "      <td>2020</td>\n",
       "      <td>pub.1126151817</td>\n",
       "      <td>0</td>\n",
       "      <td>[[{'first_name': 'Johanna', 'last_name': 'Fitz...</td>\n",
       "      <td>article</td>\n",
       "      <td>Spt5-mediated enhancer transcription directly ...</td>\n",
       "      <td>jour.1103138</td>\n",
       "      <td>Nature Genetics</td>\n",
       "      <td>NaN</td>\n",
       "      <td>NaN</td>\n",
       "    </tr>\n",
       "    <tr>\n",
       "      <th>5</th>\n",
       "      <td>363-369</td>\n",
       "      <td>48.0</td>\n",
       "      <td>2020</td>\n",
       "      <td>pub.1125823802</td>\n",
       "      <td>0</td>\n",
       "      <td>[[{'first_name': 'Michael B.', 'last_name': 'F...</td>\n",
       "      <td>article</td>\n",
       "      <td>Modeling the complex genetic architectures of ...</td>\n",
       "      <td>jour.1103138</td>\n",
       "      <td>Nature Genetics</td>\n",
       "      <td>4</td>\n",
       "      <td>52</td>\n",
       "    </tr>\n",
       "    <tr>\n",
       "      <th>6</th>\n",
       "      <td>437-447</td>\n",
       "      <td>86.0</td>\n",
       "      <td>2020</td>\n",
       "      <td>pub.1125979116</td>\n",
       "      <td>0</td>\n",
       "      <td>[[{'first_name': 'Na', 'last_name': 'Cai', 'in...</td>\n",
       "      <td>article</td>\n",
       "      <td>Minimal phenotyping yields genome-wide associa...</td>\n",
       "      <td>jour.1103138</td>\n",
       "      <td>Nature Genetics</td>\n",
       "      <td>4</td>\n",
       "      <td>52</td>\n",
       "    </tr>\n",
       "    <tr>\n",
       "      <th>7</th>\n",
       "      <td>355-355</td>\n",
       "      <td>15.0</td>\n",
       "      <td>2020</td>\n",
       "      <td>pub.1126104675</td>\n",
       "      <td>0</td>\n",
       "      <td>NaN</td>\n",
       "      <td>article</td>\n",
       "      <td>Calling it what it is</td>\n",
       "      <td>jour.1103138</td>\n",
       "      <td>Nature Genetics</td>\n",
       "      <td>4</td>\n",
       "      <td>52</td>\n",
       "    </tr>\n",
       "    <tr>\n",
       "      <th>8</th>\n",
       "      <td>361-362</td>\n",
       "      <td>18.0</td>\n",
       "      <td>2020</td>\n",
       "      <td>pub.1126104074</td>\n",
       "      <td>0</td>\n",
       "      <td>[[{'first_name': 'Charles Y.', 'last_name': 'L...</td>\n",
       "      <td>article</td>\n",
       "      <td>Springing an evolutionary trap on cancer</td>\n",
       "      <td>jour.1103138</td>\n",
       "      <td>Nature Genetics</td>\n",
       "      <td>4</td>\n",
       "      <td>52</td>\n",
       "    </tr>\n",
       "    <tr>\n",
       "      <th>9</th>\n",
       "      <td>428-436</td>\n",
       "      <td>13.0</td>\n",
       "      <td>2020</td>\n",
       "      <td>pub.1125975919</td>\n",
       "      <td>0</td>\n",
       "      <td>[[{'first_name': 'Sijia', 'last_name': 'Lu', '...</td>\n",
       "      <td>article</td>\n",
       "      <td>Stepwise selection on homeologous PRR genes co...</td>\n",
       "      <td>jour.1103138</td>\n",
       "      <td>Nature Genetics</td>\n",
       "      <td>4</td>\n",
       "      <td>52</td>\n",
       "    </tr>\n",
       "  </tbody>\n",
       "</table>\n",
       "</div>"
      ],
      "text/plain": [
       "     pages  altmetric  year              id  times_cited  \\\n",
       "0      1-7        9.0  2020  pub.1126819415            0   \n",
       "1      1-9      103.0  2020  pub.1126821460            0   \n",
       "2      1-9       23.0  2020  pub.1126635334            0   \n",
       "3      1-7      235.0  2020  pub.1126635876            1   \n",
       "4     1-11       12.0  2020  pub.1126151817            0   \n",
       "5  363-369       48.0  2020  pub.1125823802            0   \n",
       "6  437-447       86.0  2020  pub.1125979116            0   \n",
       "7  355-355       15.0  2020  pub.1126104675            0   \n",
       "8  361-362       18.0  2020  pub.1126104074            0   \n",
       "9  428-436       13.0  2020  pub.1125975919            0   \n",
       "\n",
       "                                 author_affiliations     type  \\\n",
       "0  [[{'first_name': 'Margaux L. A.', 'last_name':...  article   \n",
       "1  [[{'first_name': 'Z. Jeffrey', 'last_name': 'C...  article   \n",
       "2  [[{'first_name': 'Gai', 'last_name': 'Huang', ...  article   \n",
       "3  [[{'first_name': 'Yoav', 'last_name': 'Voichek...  article   \n",
       "4  [[{'first_name': 'Johanna', 'last_name': 'Fitz...  article   \n",
       "5  [[{'first_name': 'Michael B.', 'last_name': 'F...  article   \n",
       "6  [[{'first_name': 'Na', 'last_name': 'Cai', 'in...  article   \n",
       "7                                                NaN  article   \n",
       "8  [[{'first_name': 'Charles Y.', 'last_name': 'L...  article   \n",
       "9  [[{'first_name': 'Sijia', 'last_name': 'Lu', '...  article   \n",
       "\n",
       "                                               title    journal.id  \\\n",
       "0  Liability threshold modeling of case–control s...  jour.1103138   \n",
       "1  Genomic diversifications of five Gossypium all...  jour.1103138   \n",
       "2  Genome sequence of Gossypium herbaceum and gen...  jour.1103138   \n",
       "3  Identifying genetic variants underlying phenot...  jour.1103138   \n",
       "4  Spt5-mediated enhancer transcription directly ...  jour.1103138   \n",
       "5  Modeling the complex genetic architectures of ...  jour.1103138   \n",
       "6  Minimal phenotyping yields genome-wide associa...  jour.1103138   \n",
       "7                              Calling it what it is  jour.1103138   \n",
       "8           Springing an evolutionary trap on cancer  jour.1103138   \n",
       "9  Stepwise selection on homeologous PRR genes co...  jour.1103138   \n",
       "\n",
       "     journal.title issue volume  \n",
       "0  Nature Genetics   NaN    NaN  \n",
       "1  Nature Genetics   NaN    NaN  \n",
       "2  Nature Genetics   NaN    NaN  \n",
       "3  Nature Genetics   NaN    NaN  \n",
       "4  Nature Genetics   NaN    NaN  \n",
       "5  Nature Genetics     4     52  \n",
       "6  Nature Genetics     4     52  \n",
       "7  Nature Genetics     4     52  \n",
       "8  Nature Genetics     4     52  \n",
       "9  Nature Genetics     4     52  "
      ]
     },
     "execution_count": 3,
     "metadata": {},
     "output_type": "execute_result"
    }
   ],
   "source": [
    "dfpubs = pubs.as_dataframe()\n",
    "dfpubs.to_csv(\"data/1.pubs_metadata_with_metrics.csv\")\n",
    "# preview the publications \n",
    "dfpubs.head(10)"
   ]
  },
  {
   "cell_type": "markdown",
   "metadata": {
    "Collapsed": "false"
   },
   "source": [
    "Extract the authors data "
   ]
  },
  {
   "cell_type": "code",
   "execution_count": 4,
   "metadata": {
    "Collapsed": "false",
    "colab": {},
    "colab_type": "code",
    "id": "ihjtFg1pUofn"
   },
   "outputs": [
    {
     "data": {
      "text/html": [
       "<div>\n",
       "<style scoped>\n",
       "    .dataframe tbody tr th:only-of-type {\n",
       "        vertical-align: middle;\n",
       "    }\n",
       "\n",
       "    .dataframe tbody tr th {\n",
       "        vertical-align: top;\n",
       "    }\n",
       "\n",
       "    .dataframe thead th {\n",
       "        text-align: right;\n",
       "    }\n",
       "</style>\n",
       "<table border=\"1\" class=\"dataframe\">\n",
       "  <thead>\n",
       "    <tr style=\"text-align: right;\">\n",
       "      <th></th>\n",
       "      <th>first_name</th>\n",
       "      <th>last_name</th>\n",
       "      <th>initials</th>\n",
       "      <th>corresponding</th>\n",
       "      <th>orcid</th>\n",
       "      <th>current_organization_id</th>\n",
       "      <th>researcher_id</th>\n",
       "      <th>affiliations</th>\n",
       "      <th>is_bogus</th>\n",
       "      <th>pub_id</th>\n",
       "    </tr>\n",
       "  </thead>\n",
       "  <tbody>\n",
       "    <tr>\n",
       "      <th>0</th>\n",
       "      <td>Margaux L. A.</td>\n",
       "      <td>Hujoel</td>\n",
       "      <td></td>\n",
       "      <td>True</td>\n",
       "      <td></td>\n",
       "      <td></td>\n",
       "      <td></td>\n",
       "      <td>[{'id': 'grid.38142.3c', 'name': 'Harvard Univ...</td>\n",
       "      <td>NaN</td>\n",
       "      <td>pub.1126819415</td>\n",
       "    </tr>\n",
       "    <tr>\n",
       "      <th>1</th>\n",
       "      <td>Steven</td>\n",
       "      <td>Gazal</td>\n",
       "      <td></td>\n",
       "      <td></td>\n",
       "      <td></td>\n",
       "      <td></td>\n",
       "      <td></td>\n",
       "      <td>[{'id': 'grid.38142.3c', 'name': 'Harvard Univ...</td>\n",
       "      <td>NaN</td>\n",
       "      <td>pub.1126819415</td>\n",
       "    </tr>\n",
       "    <tr>\n",
       "      <th>2</th>\n",
       "      <td>Po-Ru</td>\n",
       "      <td>Loh</td>\n",
       "      <td></td>\n",
       "      <td></td>\n",
       "      <td></td>\n",
       "      <td></td>\n",
       "      <td></td>\n",
       "      <td>[{'id': 'grid.66859.34', 'name': 'Broad Instit...</td>\n",
       "      <td>NaN</td>\n",
       "      <td>pub.1126819415</td>\n",
       "    </tr>\n",
       "    <tr>\n",
       "      <th>3</th>\n",
       "      <td>Nick</td>\n",
       "      <td>Patterson</td>\n",
       "      <td></td>\n",
       "      <td></td>\n",
       "      <td></td>\n",
       "      <td></td>\n",
       "      <td></td>\n",
       "      <td>[{'id': 'grid.66859.34', 'name': 'Broad Instit...</td>\n",
       "      <td>NaN</td>\n",
       "      <td>pub.1126819415</td>\n",
       "    </tr>\n",
       "    <tr>\n",
       "      <th>4</th>\n",
       "      <td>Alkes L.</td>\n",
       "      <td>Price</td>\n",
       "      <td></td>\n",
       "      <td>True</td>\n",
       "      <td></td>\n",
       "      <td></td>\n",
       "      <td></td>\n",
       "      <td>[{'id': 'grid.38142.3c', 'name': 'Harvard Univ...</td>\n",
       "      <td>NaN</td>\n",
       "      <td>pub.1126819415</td>\n",
       "    </tr>\n",
       "    <tr>\n",
       "      <th>5</th>\n",
       "      <td>Z. Jeffrey</td>\n",
       "      <td>Chen</td>\n",
       "      <td></td>\n",
       "      <td>True</td>\n",
       "      <td></td>\n",
       "      <td></td>\n",
       "      <td></td>\n",
       "      <td>[{'id': 'grid.89336.37', 'name': 'The Universi...</td>\n",
       "      <td>NaN</td>\n",
       "      <td>pub.1126821460</td>\n",
       "    </tr>\n",
       "    <tr>\n",
       "      <th>6</th>\n",
       "      <td>Avinash</td>\n",
       "      <td>Sreedasyam</td>\n",
       "      <td></td>\n",
       "      <td></td>\n",
       "      <td></td>\n",
       "      <td></td>\n",
       "      <td></td>\n",
       "      <td>[{'id': 'grid.417691.c', 'name': 'HudsonAlpha ...</td>\n",
       "      <td>NaN</td>\n",
       "      <td>pub.1126821460</td>\n",
       "    </tr>\n",
       "    <tr>\n",
       "      <th>7</th>\n",
       "      <td>Atsumi</td>\n",
       "      <td>Ando</td>\n",
       "      <td></td>\n",
       "      <td></td>\n",
       "      <td></td>\n",
       "      <td></td>\n",
       "      <td></td>\n",
       "      <td>[{'id': 'grid.89336.37', 'name': 'The Universi...</td>\n",
       "      <td>NaN</td>\n",
       "      <td>pub.1126821460</td>\n",
       "    </tr>\n",
       "    <tr>\n",
       "      <th>8</th>\n",
       "      <td>Qingxin</td>\n",
       "      <td>Song</td>\n",
       "      <td></td>\n",
       "      <td></td>\n",
       "      <td></td>\n",
       "      <td></td>\n",
       "      <td></td>\n",
       "      <td>[{'id': 'grid.89336.37', 'name': 'The Universi...</td>\n",
       "      <td>NaN</td>\n",
       "      <td>pub.1126821460</td>\n",
       "    </tr>\n",
       "    <tr>\n",
       "      <th>9</th>\n",
       "      <td>Luis M.</td>\n",
       "      <td>De Santiago</td>\n",
       "      <td></td>\n",
       "      <td></td>\n",
       "      <td></td>\n",
       "      <td></td>\n",
       "      <td></td>\n",
       "      <td>[{'id': 'grid.264763.2', 'name': 'Texas A&amp;M Un...</td>\n",
       "      <td>NaN</td>\n",
       "      <td>pub.1126821460</td>\n",
       "    </tr>\n",
       "  </tbody>\n",
       "</table>\n",
       "</div>"
      ],
      "text/plain": [
       "      first_name    last_name initials corresponding orcid  \\\n",
       "0  Margaux L. A.       Hujoel                   True         \n",
       "1         Steven        Gazal                                \n",
       "2          Po-Ru          Loh                                \n",
       "3           Nick    Patterson                                \n",
       "4       Alkes L.        Price                   True         \n",
       "5     Z. Jeffrey         Chen                   True         \n",
       "6        Avinash   Sreedasyam                                \n",
       "7         Atsumi         Ando                                \n",
       "8        Qingxin         Song                                \n",
       "9        Luis M.  De Santiago                                \n",
       "\n",
       "  current_organization_id researcher_id  \\\n",
       "0                                         \n",
       "1                                         \n",
       "2                                         \n",
       "3                                         \n",
       "4                                         \n",
       "5                                         \n",
       "6                                         \n",
       "7                                         \n",
       "8                                         \n",
       "9                                         \n",
       "\n",
       "                                        affiliations is_bogus          pub_id  \n",
       "0  [{'id': 'grid.38142.3c', 'name': 'Harvard Univ...      NaN  pub.1126819415  \n",
       "1  [{'id': 'grid.38142.3c', 'name': 'Harvard Univ...      NaN  pub.1126819415  \n",
       "2  [{'id': 'grid.66859.34', 'name': 'Broad Instit...      NaN  pub.1126819415  \n",
       "3  [{'id': 'grid.66859.34', 'name': 'Broad Instit...      NaN  pub.1126819415  \n",
       "4  [{'id': 'grid.38142.3c', 'name': 'Harvard Univ...      NaN  pub.1126819415  \n",
       "5  [{'id': 'grid.89336.37', 'name': 'The Universi...      NaN  pub.1126821460  \n",
       "6  [{'id': 'grid.417691.c', 'name': 'HudsonAlpha ...      NaN  pub.1126821460  \n",
       "7  [{'id': 'grid.89336.37', 'name': 'The Universi...      NaN  pub.1126821460  \n",
       "8  [{'id': 'grid.89336.37', 'name': 'The Universi...      NaN  pub.1126821460  \n",
       "9  [{'id': 'grid.264763.2', 'name': 'Texas A&M Un...      NaN  pub.1126821460  "
      ]
     },
     "execution_count": 4,
     "metadata": {},
     "output_type": "execute_result"
    }
   ],
   "source": [
    "# preview the authors data \n",
    "authors = pubs.as_dataframe_authors()\n",
    "authors.to_csv(\"data/1.publications_authors.csv\", index=False)\n",
    "authors.head(10)"
   ]
  },
  {
   "cell_type": "markdown",
   "metadata": {
    "Collapsed": "false"
   },
   "source": [
    "Extract the affiliations data "
   ]
  },
  {
   "cell_type": "code",
   "execution_count": 5,
   "metadata": {
    "Collapsed": "false",
    "colab": {},
    "colab_type": "code",
    "id": "SsT078tTuhvX"
   },
   "outputs": [
    {
     "data": {
      "text/html": [
       "<div>\n",
       "<style scoped>\n",
       "    .dataframe tbody tr th:only-of-type {\n",
       "        vertical-align: middle;\n",
       "    }\n",
       "\n",
       "    .dataframe tbody tr th {\n",
       "        vertical-align: top;\n",
       "    }\n",
       "\n",
       "    .dataframe thead th {\n",
       "        text-align: right;\n",
       "    }\n",
       "</style>\n",
       "<table border=\"1\" class=\"dataframe\">\n",
       "  <thead>\n",
       "    <tr style=\"text-align: right;\">\n",
       "      <th></th>\n",
       "      <th>aff_id</th>\n",
       "      <th>aff_name</th>\n",
       "      <th>aff_city</th>\n",
       "      <th>aff_city_id</th>\n",
       "      <th>aff_country</th>\n",
       "      <th>aff_country_code</th>\n",
       "      <th>aff_state</th>\n",
       "      <th>aff_state_code</th>\n",
       "      <th>pub_id</th>\n",
       "      <th>researcher_id</th>\n",
       "      <th>first_name</th>\n",
       "      <th>last_name</th>\n",
       "    </tr>\n",
       "  </thead>\n",
       "  <tbody>\n",
       "    <tr>\n",
       "      <th>0</th>\n",
       "      <td>grid.38142.3c</td>\n",
       "      <td>Harvard University</td>\n",
       "      <td>Cambridge</td>\n",
       "      <td>4.93197e+06</td>\n",
       "      <td>United States</td>\n",
       "      <td>US</td>\n",
       "      <td>Massachusetts</td>\n",
       "      <td>US-MA</td>\n",
       "      <td>pub.1126819415</td>\n",
       "      <td></td>\n",
       "      <td>Margaux L. A.</td>\n",
       "      <td>Hujoel</td>\n",
       "    </tr>\n",
       "    <tr>\n",
       "      <th>1</th>\n",
       "      <td>grid.38142.3c</td>\n",
       "      <td>Harvard University</td>\n",
       "      <td>Cambridge</td>\n",
       "      <td>4.93197e+06</td>\n",
       "      <td>United States</td>\n",
       "      <td>US</td>\n",
       "      <td>Massachusetts</td>\n",
       "      <td>US-MA</td>\n",
       "      <td>pub.1126819415</td>\n",
       "      <td></td>\n",
       "      <td>Steven</td>\n",
       "      <td>Gazal</td>\n",
       "    </tr>\n",
       "    <tr>\n",
       "      <th>2</th>\n",
       "      <td>grid.66859.34</td>\n",
       "      <td>Broad Institute</td>\n",
       "      <td>Cambridge</td>\n",
       "      <td>4.93197e+06</td>\n",
       "      <td>United States</td>\n",
       "      <td>US</td>\n",
       "      <td>Massachusetts</td>\n",
       "      <td>US-MA</td>\n",
       "      <td>pub.1126819415</td>\n",
       "      <td></td>\n",
       "      <td>Steven</td>\n",
       "      <td>Gazal</td>\n",
       "    </tr>\n",
       "    <tr>\n",
       "      <th>3</th>\n",
       "      <td>grid.66859.34</td>\n",
       "      <td>Broad Institute</td>\n",
       "      <td>Cambridge</td>\n",
       "      <td>4.93197e+06</td>\n",
       "      <td>United States</td>\n",
       "      <td>US</td>\n",
       "      <td>Massachusetts</td>\n",
       "      <td>US-MA</td>\n",
       "      <td>pub.1126819415</td>\n",
       "      <td></td>\n",
       "      <td>Po-Ru</td>\n",
       "      <td>Loh</td>\n",
       "    </tr>\n",
       "    <tr>\n",
       "      <th>4</th>\n",
       "      <td>grid.62560.37</td>\n",
       "      <td>Brigham and Women's Hospital</td>\n",
       "      <td>Boston</td>\n",
       "      <td>4.93096e+06</td>\n",
       "      <td>United States</td>\n",
       "      <td>US</td>\n",
       "      <td>Massachusetts</td>\n",
       "      <td>US-MA</td>\n",
       "      <td>pub.1126819415</td>\n",
       "      <td></td>\n",
       "      <td>Po-Ru</td>\n",
       "      <td>Loh</td>\n",
       "    </tr>\n",
       "    <tr>\n",
       "      <th>5</th>\n",
       "      <td>grid.66859.34</td>\n",
       "      <td>Broad Institute</td>\n",
       "      <td>Cambridge</td>\n",
       "      <td>4.93197e+06</td>\n",
       "      <td>United States</td>\n",
       "      <td>US</td>\n",
       "      <td>Massachusetts</td>\n",
       "      <td>US-MA</td>\n",
       "      <td>pub.1126819415</td>\n",
       "      <td></td>\n",
       "      <td>Nick</td>\n",
       "      <td>Patterson</td>\n",
       "    </tr>\n",
       "    <tr>\n",
       "      <th>6</th>\n",
       "      <td>grid.38142.3c</td>\n",
       "      <td>Harvard University</td>\n",
       "      <td>Cambridge</td>\n",
       "      <td>4.93197e+06</td>\n",
       "      <td>United States</td>\n",
       "      <td>US</td>\n",
       "      <td>Massachusetts</td>\n",
       "      <td>US-MA</td>\n",
       "      <td>pub.1126819415</td>\n",
       "      <td></td>\n",
       "      <td>Alkes L.</td>\n",
       "      <td>Price</td>\n",
       "    </tr>\n",
       "    <tr>\n",
       "      <th>7</th>\n",
       "      <td>grid.38142.3c</td>\n",
       "      <td>Harvard University</td>\n",
       "      <td>Cambridge</td>\n",
       "      <td>4.93197e+06</td>\n",
       "      <td>United States</td>\n",
       "      <td>US</td>\n",
       "      <td>Massachusetts</td>\n",
       "      <td>US-MA</td>\n",
       "      <td>pub.1126819415</td>\n",
       "      <td></td>\n",
       "      <td>Alkes L.</td>\n",
       "      <td>Price</td>\n",
       "    </tr>\n",
       "    <tr>\n",
       "      <th>8</th>\n",
       "      <td>grid.66859.34</td>\n",
       "      <td>Broad Institute</td>\n",
       "      <td>Cambridge</td>\n",
       "      <td>4.93197e+06</td>\n",
       "      <td>United States</td>\n",
       "      <td>US</td>\n",
       "      <td>Massachusetts</td>\n",
       "      <td>US-MA</td>\n",
       "      <td>pub.1126819415</td>\n",
       "      <td></td>\n",
       "      <td>Alkes L.</td>\n",
       "      <td>Price</td>\n",
       "    </tr>\n",
       "    <tr>\n",
       "      <th>9</th>\n",
       "      <td>grid.89336.37</td>\n",
       "      <td>The University of Texas at Austin</td>\n",
       "      <td>Austin</td>\n",
       "      <td>4.67165e+06</td>\n",
       "      <td>United States</td>\n",
       "      <td>US</td>\n",
       "      <td>Texas</td>\n",
       "      <td>US-TX</td>\n",
       "      <td>pub.1126821460</td>\n",
       "      <td></td>\n",
       "      <td>Z. Jeffrey</td>\n",
       "      <td>Chen</td>\n",
       "    </tr>\n",
       "  </tbody>\n",
       "</table>\n",
       "</div>"
      ],
      "text/plain": [
       "          aff_id                           aff_name   aff_city  aff_city_id  \\\n",
       "0  grid.38142.3c                 Harvard University  Cambridge  4.93197e+06   \n",
       "1  grid.38142.3c                 Harvard University  Cambridge  4.93197e+06   \n",
       "2  grid.66859.34                    Broad Institute  Cambridge  4.93197e+06   \n",
       "3  grid.66859.34                    Broad Institute  Cambridge  4.93197e+06   \n",
       "4  grid.62560.37       Brigham and Women's Hospital     Boston  4.93096e+06   \n",
       "5  grid.66859.34                    Broad Institute  Cambridge  4.93197e+06   \n",
       "6  grid.38142.3c                 Harvard University  Cambridge  4.93197e+06   \n",
       "7  grid.38142.3c                 Harvard University  Cambridge  4.93197e+06   \n",
       "8  grid.66859.34                    Broad Institute  Cambridge  4.93197e+06   \n",
       "9  grid.89336.37  The University of Texas at Austin     Austin  4.67165e+06   \n",
       "\n",
       "     aff_country aff_country_code      aff_state aff_state_code  \\\n",
       "0  United States               US  Massachusetts          US-MA   \n",
       "1  United States               US  Massachusetts          US-MA   \n",
       "2  United States               US  Massachusetts          US-MA   \n",
       "3  United States               US  Massachusetts          US-MA   \n",
       "4  United States               US  Massachusetts          US-MA   \n",
       "5  United States               US  Massachusetts          US-MA   \n",
       "6  United States               US  Massachusetts          US-MA   \n",
       "7  United States               US  Massachusetts          US-MA   \n",
       "8  United States               US  Massachusetts          US-MA   \n",
       "9  United States               US          Texas          US-TX   \n",
       "\n",
       "           pub_id researcher_id     first_name  last_name  \n",
       "0  pub.1126819415                Margaux L. A.     Hujoel  \n",
       "1  pub.1126819415                       Steven      Gazal  \n",
       "2  pub.1126819415                       Steven      Gazal  \n",
       "3  pub.1126819415                        Po-Ru        Loh  \n",
       "4  pub.1126819415                        Po-Ru        Loh  \n",
       "5  pub.1126819415                         Nick  Patterson  \n",
       "6  pub.1126819415                     Alkes L.      Price  \n",
       "7  pub.1126819415                     Alkes L.      Price  \n",
       "8  pub.1126819415                     Alkes L.      Price  \n",
       "9  pub.1126821460                   Z. Jeffrey       Chen  "
      ]
     },
     "execution_count": 5,
     "metadata": {},
     "output_type": "execute_result"
    }
   ],
   "source": [
    "affiliations = pubs.as_dataframe_authors_affiliations()\n",
    "affiliations.to_csv(\"data/1.publications_authors_affiliations.csv\", index=False)\n",
    "affiliations.head(10)"
   ]
  },
  {
   "cell_type": "markdown",
   "metadata": {
    "Collapsed": "false",
    "colab_type": "text",
    "id": "8Tri9qhoCYH3"
   },
   "source": [
    "## Some stats about authors\n",
    "\n",
    "* count how many authors in total \n",
    "* count how many authors have a researcher ID\n",
    "* count how many unique researchers IDs we have in total"
   ]
  },
  {
   "cell_type": "code",
   "execution_count": 6,
   "metadata": {
    "Collapsed": "false",
    "colab": {},
    "colab_type": "code",
    "id": "4k5V31MFRmdH"
   },
   "outputs": [
    {
     "data": {
      "application/vnd.plotly.v1+json": {
       "config": {
        "plotlyServerURL": "https://plot.ly"
       },
       "data": [
        {
         "alignmentgroup": "True",
         "hovertemplate": "measure=%{x}<br>count=%{y}<extra></extra>",
         "legendgroup": "",
         "marker": {
          "color": "#636efa"
         },
         "name": "",
         "offsetgroup": "",
         "orientation": "v",
         "showlegend": false,
         "textposition": "auto",
         "type": "bar",
         "x": [
          "Authors in total (non unique)",
          "Authors with a researcher ID",
          "Authors with a researcher ID (unique)"
         ],
         "xaxis": "x",
         "y": [
          42818,
          32815,
          18341
         ],
         "yaxis": "y"
        }
       ],
       "layout": {
        "autosize": true,
        "barmode": "relative",
        "legend": {
         "tracegroupgap": 0
        },
        "template": {
         "data": {
          "bar": [
           {
            "error_x": {
             "color": "#2a3f5f"
            },
            "error_y": {
             "color": "#2a3f5f"
            },
            "marker": {
             "line": {
              "color": "#E5ECF6",
              "width": 0.5
             }
            },
            "type": "bar"
           }
          ],
          "barpolar": [
           {
            "marker": {
             "line": {
              "color": "#E5ECF6",
              "width": 0.5
             }
            },
            "type": "barpolar"
           }
          ],
          "carpet": [
           {
            "aaxis": {
             "endlinecolor": "#2a3f5f",
             "gridcolor": "white",
             "linecolor": "white",
             "minorgridcolor": "white",
             "startlinecolor": "#2a3f5f"
            },
            "baxis": {
             "endlinecolor": "#2a3f5f",
             "gridcolor": "white",
             "linecolor": "white",
             "minorgridcolor": "white",
             "startlinecolor": "#2a3f5f"
            },
            "type": "carpet"
           }
          ],
          "choropleth": [
           {
            "colorbar": {
             "outlinewidth": 0,
             "ticks": ""
            },
            "type": "choropleth"
           }
          ],
          "contour": [
           {
            "colorbar": {
             "outlinewidth": 0,
             "ticks": ""
            },
            "colorscale": [
             [
              0,
              "#0d0887"
             ],
             [
              0.1111111111111111,
              "#46039f"
             ],
             [
              0.2222222222222222,
              "#7201a8"
             ],
             [
              0.3333333333333333,
              "#9c179e"
             ],
             [
              0.4444444444444444,
              "#bd3786"
             ],
             [
              0.5555555555555556,
              "#d8576b"
             ],
             [
              0.6666666666666666,
              "#ed7953"
             ],
             [
              0.7777777777777778,
              "#fb9f3a"
             ],
             [
              0.8888888888888888,
              "#fdca26"
             ],
             [
              1,
              "#f0f921"
             ]
            ],
            "type": "contour"
           }
          ],
          "contourcarpet": [
           {
            "colorbar": {
             "outlinewidth": 0,
             "ticks": ""
            },
            "type": "contourcarpet"
           }
          ],
          "heatmap": [
           {
            "colorbar": {
             "outlinewidth": 0,
             "ticks": ""
            },
            "colorscale": [
             [
              0,
              "#0d0887"
             ],
             [
              0.1111111111111111,
              "#46039f"
             ],
             [
              0.2222222222222222,
              "#7201a8"
             ],
             [
              0.3333333333333333,
              "#9c179e"
             ],
             [
              0.4444444444444444,
              "#bd3786"
             ],
             [
              0.5555555555555556,
              "#d8576b"
             ],
             [
              0.6666666666666666,
              "#ed7953"
             ],
             [
              0.7777777777777778,
              "#fb9f3a"
             ],
             [
              0.8888888888888888,
              "#fdca26"
             ],
             [
              1,
              "#f0f921"
             ]
            ],
            "type": "heatmap"
           }
          ],
          "heatmapgl": [
           {
            "colorbar": {
             "outlinewidth": 0,
             "ticks": ""
            },
            "colorscale": [
             [
              0,
              "#0d0887"
             ],
             [
              0.1111111111111111,
              "#46039f"
             ],
             [
              0.2222222222222222,
              "#7201a8"
             ],
             [
              0.3333333333333333,
              "#9c179e"
             ],
             [
              0.4444444444444444,
              "#bd3786"
             ],
             [
              0.5555555555555556,
              "#d8576b"
             ],
             [
              0.6666666666666666,
              "#ed7953"
             ],
             [
              0.7777777777777778,
              "#fb9f3a"
             ],
             [
              0.8888888888888888,
              "#fdca26"
             ],
             [
              1,
              "#f0f921"
             ]
            ],
            "type": "heatmapgl"
           }
          ],
          "histogram": [
           {
            "marker": {
             "colorbar": {
              "outlinewidth": 0,
              "ticks": ""
             }
            },
            "type": "histogram"
           }
          ],
          "histogram2d": [
           {
            "colorbar": {
             "outlinewidth": 0,
             "ticks": ""
            },
            "colorscale": [
             [
              0,
              "#0d0887"
             ],
             [
              0.1111111111111111,
              "#46039f"
             ],
             [
              0.2222222222222222,
              "#7201a8"
             ],
             [
              0.3333333333333333,
              "#9c179e"
             ],
             [
              0.4444444444444444,
              "#bd3786"
             ],
             [
              0.5555555555555556,
              "#d8576b"
             ],
             [
              0.6666666666666666,
              "#ed7953"
             ],
             [
              0.7777777777777778,
              "#fb9f3a"
             ],
             [
              0.8888888888888888,
              "#fdca26"
             ],
             [
              1,
              "#f0f921"
             ]
            ],
            "type": "histogram2d"
           }
          ],
          "histogram2dcontour": [
           {
            "colorbar": {
             "outlinewidth": 0,
             "ticks": ""
            },
            "colorscale": [
             [
              0,
              "#0d0887"
             ],
             [
              0.1111111111111111,
              "#46039f"
             ],
             [
              0.2222222222222222,
              "#7201a8"
             ],
             [
              0.3333333333333333,
              "#9c179e"
             ],
             [
              0.4444444444444444,
              "#bd3786"
             ],
             [
              0.5555555555555556,
              "#d8576b"
             ],
             [
              0.6666666666666666,
              "#ed7953"
             ],
             [
              0.7777777777777778,
              "#fb9f3a"
             ],
             [
              0.8888888888888888,
              "#fdca26"
             ],
             [
              1,
              "#f0f921"
             ]
            ],
            "type": "histogram2dcontour"
           }
          ],
          "mesh3d": [
           {
            "colorbar": {
             "outlinewidth": 0,
             "ticks": ""
            },
            "type": "mesh3d"
           }
          ],
          "parcoords": [
           {
            "line": {
             "colorbar": {
              "outlinewidth": 0,
              "ticks": ""
             }
            },
            "type": "parcoords"
           }
          ],
          "pie": [
           {
            "automargin": true,
            "type": "pie"
           }
          ],
          "scatter": [
           {
            "marker": {
             "colorbar": {
              "outlinewidth": 0,
              "ticks": ""
             }
            },
            "type": "scatter"
           }
          ],
          "scatter3d": [
           {
            "line": {
             "colorbar": {
              "outlinewidth": 0,
              "ticks": ""
             }
            },
            "marker": {
             "colorbar": {
              "outlinewidth": 0,
              "ticks": ""
             }
            },
            "type": "scatter3d"
           }
          ],
          "scattercarpet": [
           {
            "marker": {
             "colorbar": {
              "outlinewidth": 0,
              "ticks": ""
             }
            },
            "type": "scattercarpet"
           }
          ],
          "scattergeo": [
           {
            "marker": {
             "colorbar": {
              "outlinewidth": 0,
              "ticks": ""
             }
            },
            "type": "scattergeo"
           }
          ],
          "scattergl": [
           {
            "marker": {
             "colorbar": {
              "outlinewidth": 0,
              "ticks": ""
             }
            },
            "type": "scattergl"
           }
          ],
          "scattermapbox": [
           {
            "marker": {
             "colorbar": {
              "outlinewidth": 0,
              "ticks": ""
             }
            },
            "type": "scattermapbox"
           }
          ],
          "scatterpolar": [
           {
            "marker": {
             "colorbar": {
              "outlinewidth": 0,
              "ticks": ""
             }
            },
            "type": "scatterpolar"
           }
          ],
          "scatterpolargl": [
           {
            "marker": {
             "colorbar": {
              "outlinewidth": 0,
              "ticks": ""
             }
            },
            "type": "scatterpolargl"
           }
          ],
          "scatterternary": [
           {
            "marker": {
             "colorbar": {
              "outlinewidth": 0,
              "ticks": ""
             }
            },
            "type": "scatterternary"
           }
          ],
          "surface": [
           {
            "colorbar": {
             "outlinewidth": 0,
             "ticks": ""
            },
            "colorscale": [
             [
              0,
              "#0d0887"
             ],
             [
              0.1111111111111111,
              "#46039f"
             ],
             [
              0.2222222222222222,
              "#7201a8"
             ],
             [
              0.3333333333333333,
              "#9c179e"
             ],
             [
              0.4444444444444444,
              "#bd3786"
             ],
             [
              0.5555555555555556,
              "#d8576b"
             ],
             [
              0.6666666666666666,
              "#ed7953"
             ],
             [
              0.7777777777777778,
              "#fb9f3a"
             ],
             [
              0.8888888888888888,
              "#fdca26"
             ],
             [
              1,
              "#f0f921"
             ]
            ],
            "type": "surface"
           }
          ],
          "table": [
           {
            "cells": {
             "fill": {
              "color": "#EBF0F8"
             },
             "line": {
              "color": "white"
             }
            },
            "header": {
             "fill": {
              "color": "#C8D4E3"
             },
             "line": {
              "color": "white"
             }
            },
            "type": "table"
           }
          ]
         },
         "layout": {
          "annotationdefaults": {
           "arrowcolor": "#2a3f5f",
           "arrowhead": 0,
           "arrowwidth": 1
          },
          "coloraxis": {
           "colorbar": {
            "outlinewidth": 0,
            "ticks": ""
           }
          },
          "colorscale": {
           "diverging": [
            [
             0,
             "#8e0152"
            ],
            [
             0.1,
             "#c51b7d"
            ],
            [
             0.2,
             "#de77ae"
            ],
            [
             0.3,
             "#f1b6da"
            ],
            [
             0.4,
             "#fde0ef"
            ],
            [
             0.5,
             "#f7f7f7"
            ],
            [
             0.6,
             "#e6f5d0"
            ],
            [
             0.7,
             "#b8e186"
            ],
            [
             0.8,
             "#7fbc41"
            ],
            [
             0.9,
             "#4d9221"
            ],
            [
             1,
             "#276419"
            ]
           ],
           "sequential": [
            [
             0,
             "#0d0887"
            ],
            [
             0.1111111111111111,
             "#46039f"
            ],
            [
             0.2222222222222222,
             "#7201a8"
            ],
            [
             0.3333333333333333,
             "#9c179e"
            ],
            [
             0.4444444444444444,
             "#bd3786"
            ],
            [
             0.5555555555555556,
             "#d8576b"
            ],
            [
             0.6666666666666666,
             "#ed7953"
            ],
            [
             0.7777777777777778,
             "#fb9f3a"
            ],
            [
             0.8888888888888888,
             "#fdca26"
            ],
            [
             1,
             "#f0f921"
            ]
           ],
           "sequentialminus": [
            [
             0,
             "#0d0887"
            ],
            [
             0.1111111111111111,
             "#46039f"
            ],
            [
             0.2222222222222222,
             "#7201a8"
            ],
            [
             0.3333333333333333,
             "#9c179e"
            ],
            [
             0.4444444444444444,
             "#bd3786"
            ],
            [
             0.5555555555555556,
             "#d8576b"
            ],
            [
             0.6666666666666666,
             "#ed7953"
            ],
            [
             0.7777777777777778,
             "#fb9f3a"
            ],
            [
             0.8888888888888888,
             "#fdca26"
            ],
            [
             1,
             "#f0f921"
            ]
           ]
          },
          "colorway": [
           "#636efa",
           "#EF553B",
           "#00cc96",
           "#ab63fa",
           "#FFA15A",
           "#19d3f3",
           "#FF6692",
           "#B6E880",
           "#FF97FF",
           "#FECB52"
          ],
          "font": {
           "color": "#2a3f5f"
          },
          "geo": {
           "bgcolor": "white",
           "lakecolor": "white",
           "landcolor": "#E5ECF6",
           "showlakes": true,
           "showland": true,
           "subunitcolor": "white"
          },
          "hoverlabel": {
           "align": "left"
          },
          "hovermode": "closest",
          "mapbox": {
           "style": "light"
          },
          "paper_bgcolor": "white",
          "plot_bgcolor": "#E5ECF6",
          "polar": {
           "angularaxis": {
            "gridcolor": "white",
            "linecolor": "white",
            "ticks": ""
           },
           "bgcolor": "#E5ECF6",
           "radialaxis": {
            "gridcolor": "white",
            "linecolor": "white",
            "ticks": ""
           }
          },
          "scene": {
           "xaxis": {
            "backgroundcolor": "#E5ECF6",
            "gridcolor": "white",
            "gridwidth": 2,
            "linecolor": "white",
            "showbackground": true,
            "ticks": "",
            "zerolinecolor": "white"
           },
           "yaxis": {
            "backgroundcolor": "#E5ECF6",
            "gridcolor": "white",
            "gridwidth": 2,
            "linecolor": "white",
            "showbackground": true,
            "ticks": "",
            "zerolinecolor": "white"
           },
           "zaxis": {
            "backgroundcolor": "#E5ECF6",
            "gridcolor": "white",
            "gridwidth": 2,
            "linecolor": "white",
            "showbackground": true,
            "ticks": "",
            "zerolinecolor": "white"
           }
          },
          "shapedefaults": {
           "line": {
            "color": "#2a3f5f"
           }
          },
          "ternary": {
           "aaxis": {
            "gridcolor": "white",
            "linecolor": "white",
            "ticks": ""
           },
           "baxis": {
            "gridcolor": "white",
            "linecolor": "white",
            "ticks": ""
           },
           "bgcolor": "#E5ECF6",
           "caxis": {
            "gridcolor": "white",
            "linecolor": "white",
            "ticks": ""
           }
          },
          "title": {
           "x": 0.05
          },
          "xaxis": {
           "automargin": true,
           "gridcolor": "white",
           "linecolor": "white",
           "ticks": "",
           "title": {
            "standoff": 15
           },
           "zerolinecolor": "white",
           "zerolinewidth": 2
          },
          "yaxis": {
           "automargin": true,
           "gridcolor": "white",
           "linecolor": "white",
           "ticks": "",
           "title": {
            "standoff": 15
           },
           "zerolinecolor": "white",
           "zerolinewidth": 2
          }
         }
        },
        "title": {
         "text": "Author stats for Nature Genetics (from 2015)"
        },
        "xaxis": {
         "anchor": "y",
         "autorange": true,
         "domain": [
          0,
          1
         ],
         "range": [
          -0.5,
          2.5
         ],
         "title": {
          "text": "measure"
         },
         "type": "category"
        },
        "yaxis": {
         "anchor": "x",
         "autorange": true,
         "domain": [
          0,
          1
         ],
         "range": [
          0,
          45071.57894736842
         ],
         "title": {
          "text": "count"
         },
         "type": "linear"
        }
       }
      },
      "image/png": "[encoded data removed]",
      "text/html": [
       "<div>\n",
       "        \n",
       "        \n",
       "            <div id=\"5fc89f2a-618b-444a-99b6-8aea5b243054\" class=\"plotly-graph-div\" style=\"height:525px; width:100%;\"></div>\n",
       "            <script type=\"text/javascript\">\n",
       "                require([\"plotly\"], function(Plotly) {\n",
       "                    window.PLOTLYENV=window.PLOTLYENV || {};\n",
       "                    \n",
       "                if (document.getElementById(\"5fc89f2a-618b-444a-99b6-8aea5b243054\")) {\n",
       "                    Plotly.newPlot(\n",
       "                        '5fc89f2a-618b-444a-99b6-8aea5b243054',\n",
       "                        [{\"alignmentgroup\": \"True\", \"hovertemplate\": \"measure=%{x}<br>count=%{y}<extra></extra>\", \"legendgroup\": \"\", \"marker\": {\"color\": \"#636efa\"}, \"name\": \"\", \"offsetgroup\": \"\", \"orientation\": \"v\", \"showlegend\": false, \"textposition\": \"auto\", \"type\": \"bar\", \"x\": [\"Authors in total (non unique)\", \"Authors with a researcher ID\", \"Authors with a researcher ID (unique)\"], \"xaxis\": \"x\", \"y\": [42818, 32815, 18341], \"yaxis\": \"y\"}],\n",
       "                        {\"barmode\": \"relative\", \"legend\": {\"tracegroupgap\": 0}, \"template\": {\"data\": {\"bar\": [{\"error_x\": {\"color\": \"#2a3f5f\"}, \"error_y\": {\"color\": \"#2a3f5f\"}, \"marker\": {\"line\": {\"color\": \"#E5ECF6\", \"width\": 0.5}}, \"type\": \"bar\"}], \"barpolar\": [{\"marker\": {\"line\": {\"color\": \"#E5ECF6\", \"width\": 0.5}}, \"type\": \"barpolar\"}], \"carpet\": [{\"aaxis\": {\"endlinecolor\": \"#2a3f5f\", \"gridcolor\": \"white\", \"linecolor\": \"white\", \"minorgridcolor\": \"white\", \"startlinecolor\": \"#2a3f5f\"}, \"baxis\": {\"endlinecolor\": \"#2a3f5f\", \"gridcolor\": \"white\", \"linecolor\": \"white\", \"minorgridcolor\": \"white\", \"startlinecolor\": \"#2a3f5f\"}, \"type\": \"carpet\"}], \"choropleth\": [{\"colorbar\": {\"outlinewidth\": 0, \"ticks\": \"\"}, \"type\": \"choropleth\"}], \"contour\": [{\"colorbar\": {\"outlinewidth\": 0, \"ticks\": \"\"}, \"colorscale\": [[0.0, \"#0d0887\"], [0.1111111111111111, \"#46039f\"], [0.2222222222222222, \"#7201a8\"], [0.3333333333333333, \"#9c179e\"], [0.4444444444444444, \"#bd3786\"], [0.5555555555555556, \"#d8576b\"], [0.6666666666666666, \"#ed7953\"], [0.7777777777777778, \"#fb9f3a\"], [0.8888888888888888, \"#fdca26\"], [1.0, \"#f0f921\"]], \"type\": \"contour\"}], \"contourcarpet\": [{\"colorbar\": {\"outlinewidth\": 0, \"ticks\": \"\"}, \"type\": \"contourcarpet\"}], \"heatmap\": [{\"colorbar\": {\"outlinewidth\": 0, \"ticks\": \"\"}, \"colorscale\": [[0.0, \"#0d0887\"], [0.1111111111111111, \"#46039f\"], [0.2222222222222222, \"#7201a8\"], [0.3333333333333333, \"#9c179e\"], [0.4444444444444444, \"#bd3786\"], [0.5555555555555556, \"#d8576b\"], [0.6666666666666666, \"#ed7953\"], [0.7777777777777778, \"#fb9f3a\"], [0.8888888888888888, \"#fdca26\"], [1.0, \"#f0f921\"]], \"type\": \"heatmap\"}], \"heatmapgl\": [{\"colorbar\": {\"outlinewidth\": 0, \"ticks\": \"\"}, \"colorscale\": [[0.0, \"#0d0887\"], [0.1111111111111111, \"#46039f\"], [0.2222222222222222, \"#7201a8\"], [0.3333333333333333, \"#9c179e\"], [0.4444444444444444, \"#bd3786\"], [0.5555555555555556, \"#d8576b\"], [0.6666666666666666, \"#ed7953\"], [0.7777777777777778, \"#fb9f3a\"], [0.8888888888888888, \"#fdca26\"], [1.0, \"#f0f921\"]], \"type\": \"heatmapgl\"}], \"histogram\": [{\"marker\": {\"colorbar\": {\"outlinewidth\": 0, \"ticks\": \"\"}}, \"type\": \"histogram\"}], \"histogram2d\": [{\"colorbar\": {\"outlinewidth\": 0, \"ticks\": \"\"}, \"colorscale\": [[0.0, \"#0d0887\"], [0.1111111111111111, \"#46039f\"], [0.2222222222222222, \"#7201a8\"], [0.3333333333333333, \"#9c179e\"], [0.4444444444444444, \"#bd3786\"], [0.5555555555555556, \"#d8576b\"], [0.6666666666666666, \"#ed7953\"], [0.7777777777777778, \"#fb9f3a\"], [0.8888888888888888, \"#fdca26\"], [1.0, \"#f0f921\"]], \"type\": \"histogram2d\"}], \"histogram2dcontour\": [{\"colorbar\": {\"outlinewidth\": 0, \"ticks\": \"\"}, \"colorscale\": [[0.0, \"#0d0887\"], [0.1111111111111111, \"#46039f\"], [0.2222222222222222, \"#7201a8\"], [0.3333333333333333, \"#9c179e\"], [0.4444444444444444, \"#bd3786\"], [0.5555555555555556, \"#d8576b\"], [0.6666666666666666, \"#ed7953\"], [0.7777777777777778, \"#fb9f3a\"], [0.8888888888888888, \"#fdca26\"], [1.0, \"#f0f921\"]], \"type\": \"histogram2dcontour\"}], \"mesh3d\": [{\"colorbar\": {\"outlinewidth\": 0, \"ticks\": \"\"}, \"type\": \"mesh3d\"}], \"parcoords\": [{\"line\": {\"colorbar\": {\"outlinewidth\": 0, \"ticks\": \"\"}}, \"type\": \"parcoords\"}], \"pie\": [{\"automargin\": true, \"type\": \"pie\"}], \"scatter\": [{\"marker\": {\"colorbar\": {\"outlinewidth\": 0, \"ticks\": \"\"}}, \"type\": \"scatter\"}], \"scatter3d\": [{\"line\": {\"colorbar\": {\"outlinewidth\": 0, \"ticks\": \"\"}}, \"marker\": {\"colorbar\": {\"outlinewidth\": 0, \"ticks\": \"\"}}, \"type\": \"scatter3d\"}], \"scattercarpet\": [{\"marker\": {\"colorbar\": {\"outlinewidth\": 0, \"ticks\": \"\"}}, \"type\": \"scattercarpet\"}], \"scattergeo\": [{\"marker\": {\"colorbar\": {\"outlinewidth\": 0, \"ticks\": \"\"}}, \"type\": \"scattergeo\"}], \"scattergl\": [{\"marker\": {\"colorbar\": {\"outlinewidth\": 0, \"ticks\": \"\"}}, \"type\": \"scattergl\"}], \"scattermapbox\": [{\"marker\": {\"colorbar\": {\"outlinewidth\": 0, \"ticks\": \"\"}}, \"type\": \"scattermapbox\"}], \"scatterpolar\": [{\"marker\": {\"colorbar\": {\"outlinewidth\": 0, \"ticks\": \"\"}}, \"type\": \"scatterpolar\"}], \"scatterpolargl\": [{\"marker\": {\"colorbar\": {\"outlinewidth\": 0, \"ticks\": \"\"}}, \"type\": \"scatterpolargl\"}], \"scatterternary\": [{\"marker\": {\"colorbar\": {\"outlinewidth\": 0, \"ticks\": \"\"}}, \"type\": \"scatterternary\"}], \"surface\": [{\"colorbar\": {\"outlinewidth\": 0, \"ticks\": \"\"}, \"colorscale\": [[0.0, \"#0d0887\"], [0.1111111111111111, \"#46039f\"], [0.2222222222222222, \"#7201a8\"], [0.3333333333333333, \"#9c179e\"], [0.4444444444444444, \"#bd3786\"], [0.5555555555555556, \"#d8576b\"], [0.6666666666666666, \"#ed7953\"], [0.7777777777777778, \"#fb9f3a\"], [0.8888888888888888, \"#fdca26\"], [1.0, \"#f0f921\"]], \"type\": \"surface\"}], \"table\": [{\"cells\": {\"fill\": {\"color\": \"#EBF0F8\"}, \"line\": {\"color\": \"white\"}}, \"header\": {\"fill\": {\"color\": \"#C8D4E3\"}, \"line\": {\"color\": \"white\"}}, \"type\": \"table\"}]}, \"layout\": {\"annotationdefaults\": {\"arrowcolor\": \"#2a3f5f\", \"arrowhead\": 0, \"arrowwidth\": 1}, \"coloraxis\": {\"colorbar\": {\"outlinewidth\": 0, \"ticks\": \"\"}}, \"colorscale\": {\"diverging\": [[0, \"#8e0152\"], [0.1, \"#c51b7d\"], [0.2, \"#de77ae\"], [0.3, \"#f1b6da\"], [0.4, \"#fde0ef\"], [0.5, \"#f7f7f7\"], [0.6, \"#e6f5d0\"], [0.7, \"#b8e186\"], [0.8, \"#7fbc41\"], [0.9, \"#4d9221\"], [1, \"#276419\"]], \"sequential\": [[0.0, \"#0d0887\"], [0.1111111111111111, \"#46039f\"], [0.2222222222222222, \"#7201a8\"], [0.3333333333333333, \"#9c179e\"], [0.4444444444444444, \"#bd3786\"], [0.5555555555555556, \"#d8576b\"], [0.6666666666666666, \"#ed7953\"], [0.7777777777777778, \"#fb9f3a\"], [0.8888888888888888, \"#fdca26\"], [1.0, \"#f0f921\"]], \"sequentialminus\": [[0.0, \"#0d0887\"], [0.1111111111111111, \"#46039f\"], [0.2222222222222222, \"#7201a8\"], [0.3333333333333333, \"#9c179e\"], [0.4444444444444444, \"#bd3786\"], [0.5555555555555556, \"#d8576b\"], [0.6666666666666666, \"#ed7953\"], [0.7777777777777778, \"#fb9f3a\"], [0.8888888888888888, \"#fdca26\"], [1.0, \"#f0f921\"]]}, \"colorway\": [\"#636efa\", \"#EF553B\", \"#00cc96\", \"#ab63fa\", \"#FFA15A\", \"#19d3f3\", \"#FF6692\", \"#B6E880\", \"#FF97FF\", \"#FECB52\"], \"font\": {\"color\": \"#2a3f5f\"}, \"geo\": {\"bgcolor\": \"white\", \"lakecolor\": \"white\", \"landcolor\": \"#E5ECF6\", \"showlakes\": true, \"showland\": true, \"subunitcolor\": \"white\"}, \"hoverlabel\": {\"align\": \"left\"}, \"hovermode\": \"closest\", \"mapbox\": {\"style\": \"light\"}, \"paper_bgcolor\": \"white\", \"plot_bgcolor\": \"#E5ECF6\", \"polar\": {\"angularaxis\": {\"gridcolor\": \"white\", \"linecolor\": \"white\", \"ticks\": \"\"}, \"bgcolor\": \"#E5ECF6\", \"radialaxis\": {\"gridcolor\": \"white\", \"linecolor\": \"white\", \"ticks\": \"\"}}, \"scene\": {\"xaxis\": {\"backgroundcolor\": \"#E5ECF6\", \"gridcolor\": \"white\", \"gridwidth\": 2, \"linecolor\": \"white\", \"showbackground\": true, \"ticks\": \"\", \"zerolinecolor\": \"white\"}, \"yaxis\": {\"backgroundcolor\": \"#E5ECF6\", \"gridcolor\": \"white\", \"gridwidth\": 2, \"linecolor\": \"white\", \"showbackground\": true, \"ticks\": \"\", \"zerolinecolor\": \"white\"}, \"zaxis\": {\"backgroundcolor\": \"#E5ECF6\", \"gridcolor\": \"white\", \"gridwidth\": 2, \"linecolor\": \"white\", \"showbackground\": true, \"ticks\": \"\", \"zerolinecolor\": \"white\"}}, \"shapedefaults\": {\"line\": {\"color\": \"#2a3f5f\"}}, \"ternary\": {\"aaxis\": {\"gridcolor\": \"white\", \"linecolor\": \"white\", \"ticks\": \"\"}, \"baxis\": {\"gridcolor\": \"white\", \"linecolor\": \"white\", \"ticks\": \"\"}, \"bgcolor\": \"#E5ECF6\", \"caxis\": {\"gridcolor\": \"white\", \"linecolor\": \"white\", \"ticks\": \"\"}}, \"title\": {\"x\": 0.05}, \"xaxis\": {\"automargin\": true, \"gridcolor\": \"white\", \"linecolor\": \"white\", \"ticks\": \"\", \"title\": {\"standoff\": 15}, \"zerolinecolor\": \"white\", \"zerolinewidth\": 2}, \"yaxis\": {\"automargin\": true, \"gridcolor\": \"white\", \"linecolor\": \"white\", \"ticks\": \"\", \"title\": {\"standoff\": 15}, \"zerolinecolor\": \"white\", \"zerolinewidth\": 2}}}, \"title\": {\"text\": \"Author stats for Nature Genetics (from 2015)\"}, \"xaxis\": {\"anchor\": \"y\", \"domain\": [0.0, 1.0], \"title\": {\"text\": \"measure\"}}, \"yaxis\": {\"anchor\": \"x\", \"domain\": [0.0, 1.0], \"title\": {\"text\": \"count\"}}},\n",
       "                        {\"responsive\": true}\n",
       "                    ).then(function(){\n",
       "                            \n",
       "var gd = document.getElementById('5fc89f2a-618b-444a-99b6-8aea5b243054');\n",
       "var x = new MutationObserver(function (mutations, observer) {{\n",
       "        var display = window.getComputedStyle(gd).display;\n",
       "        if (!display || display === 'none') {{\n",
       "            console.log([gd, 'removed!']);\n",
       "            Plotly.purge(gd);\n",
       "            observer.disconnect();\n",
       "        }}\n",
       "}});\n",
       "\n",
       "// Listen for the removal of the full notebook cells\n",
       "var notebookContainer = gd.closest('#notebook-container');\n",
       "if (notebookContainer) {{\n",
       "    x.observe(notebookContainer, {childList: true});\n",
       "}}\n",
       "\n",
       "// Listen for the clearing of the current output cell\n",
       "var outputEl = gd.closest('.output');\n",
       "if (outputEl) {{\n",
       "    x.observe(outputEl, {childList: true});\n",
       "}}\n",
       "\n",
       "                        })\n",
       "                };\n",
       "                });\n",
       "            </script>\n",
       "        </div>"
      ]
     },
     "metadata": {},
     "output_type": "display_data"
    }
   ],
   "source": [
    "researchers = authors.query(\"researcher_id!=''\")\n",
    "#\n",
    "df = pd.DataFrame({\n",
    "    'measure' : ['Authors in total (non unique)', 'Authors with a researcher ID', 'Authors with a researcher ID (unique)'],\n",
    "    'count' : [len(authors), len(researchers), researchers['researcher_id'].nunique()],\n",
    "})\n",
    "px.bar(df, x=\"measure\", y=\"count\", title=f\"Author stats for {journal_title} (from {start_year})\")"
   ]
  },
  {
   "cell_type": "code",
   "execution_count": 7,
   "metadata": {
    "Collapsed": "false",
    "colab": {},
    "colab_type": "code",
    "id": "bs2a6hzBRmdM"
   },
   "outputs": [],
   "source": [
    "# save the researchers data to a file\n",
    "researchers.to_csv(\"data/1.authors_with_researchers_id.csv\")"
   ]
  },
  {
   "cell_type": "markdown",
   "metadata": {
    "Collapsed": "false",
    "colab_type": "text",
    "id": "fJuPwNoORmdN"
   },
   "source": [
    "## Apprendix: A quick look at authors *without a Researcher ID*\n",
    "\n",
    "We're not going to try to disambiguate them here, but still it's good to have a quick look at them... \n",
    "\n",
    "Looks like the most common surname is `Wang`, while the most common first name is an empty value"
   ]
  },
  {
   "cell_type": "code",
   "execution_count": 8,
   "metadata": {
    "Collapsed": "false",
    "colab": {},
    "colab_type": "code",
    "id": "Zh-u7ZN4RmdO"
   },
   "outputs": [
    {
     "data": {
      "text/html": [
       "<div>\n",
       "<style scoped>\n",
       "    .dataframe tbody tr th:only-of-type {\n",
       "        vertical-align: middle;\n",
       "    }\n",
       "\n",
       "    .dataframe tbody tr th {\n",
       "        vertical-align: top;\n",
       "    }\n",
       "\n",
       "    .dataframe thead th {\n",
       "        text-align: right;\n",
       "    }\n",
       "</style>\n",
       "<table border=\"1\" class=\"dataframe\">\n",
       "  <thead>\n",
       "    <tr style=\"text-align: right;\">\n",
       "      <th></th>\n",
       "      <th>first_name</th>\n",
       "      <th>last_name</th>\n",
       "    </tr>\n",
       "  </thead>\n",
       "  <tbody>\n",
       "    <tr>\n",
       "      <th>count</th>\n",
       "      <td>10003</td>\n",
       "      <td>10003</td>\n",
       "    </tr>\n",
       "    <tr>\n",
       "      <th>unique</th>\n",
       "      <td>4366</td>\n",
       "      <td>4305</td>\n",
       "    </tr>\n",
       "    <tr>\n",
       "      <th>top</th>\n",
       "      <td></td>\n",
       "      <td></td>\n",
       "    </tr>\n",
       "    <tr>\n",
       "      <th>freq</th>\n",
       "      <td>544</td>\n",
       "      <td>382</td>\n",
       "    </tr>\n",
       "  </tbody>\n",
       "</table>\n",
       "</div>"
      ],
      "text/plain": [
       "       first_name last_name\n",
       "count       10003     10003\n",
       "unique       4366      4305\n",
       "top                        \n",
       "freq          544       382"
      ]
     },
     "execution_count": 8,
     "metadata": {},
     "output_type": "execute_result"
    }
   ],
   "source": [
    "authors_without_id = authors.query(\"researcher_id==''\")\n",
    "authors_without_id[['first_name', 'last_name']].describe()\n"
   ]
  },
  {
   "cell_type": "markdown",
   "metadata": {
    "Collapsed": "false",
    "colab_type": "text",
    "id": "17_9q8y1RmdP"
   },
   "source": [
    "Top Ten surnames seem all Chinese.. "
   ]
  },
  {
   "cell_type": "code",
   "execution_count": 9,
   "metadata": {
    "Collapsed": "false",
    "colab": {},
    "colab_type": "code",
    "id": "IO6R4sRARmdQ"
   },
   "outputs": [
    {
     "data": {
      "text/plain": [
       "         382\n",
       "Wang     178\n",
       "Zhang    145\n",
       "Li       143\n",
       "Liu      129\n",
       "Chen     106\n",
       "Yang      69\n",
       "Zhao      60\n",
       "Lee       58\n",
       "Kim       50\n",
       "Name: last_name, dtype: int64"
      ]
     },
     "execution_count": 9,
     "metadata": {},
     "output_type": "execute_result"
    }
   ],
   "source": [
    "authors_without_id['last_name'].value_counts()[:10]"
   ]
  },
  {
   "cell_type": "markdown",
   "metadata": {
    "Collapsed": "false",
    "colab_type": "text",
    "id": "ivhKZPLsRmdS"
   },
   "source": [
    "### Any common patterns? \n",
    "\n",
    "If we try to group the data by name+surname we can see some interesting patterns \n",
    "\n",
    "* some entries are things which are not persons (presumably the results of bad source data in Dimensions, eg from the publisher) \n",
    "* there are some apparently meaningful name+surname combinations with a lot of hits\n",
    "* not many Chinese names in the top ones \n",
    "\n"
   ]
  },
  {
   "cell_type": "code",
   "execution_count": 10,
   "metadata": {
    "Collapsed": "false",
    "colab": {},
    "colab_type": "code",
    "id": "VCkNdlWgRmdS"
   },
   "outputs": [
    {
     "data": {
      "text/plain": [
       "first_name    last_name   \n",
       "                              382\n",
       "Jaakko        Tuomilehto       13\n",
       "James G.      Wilson           12\n",
       "M. Arfan      Ikram            12\n",
       "Wei           Zhao             12\n",
       "Olle          Melander         11\n",
       "James P.      Cook             11\n",
       "Jouke-Jan     Hottenga         10\n",
       "Brooke        LaFlamme         10\n",
       "Qiong         Yang             10\n",
       "Jie           Huang            10\n",
       "Aarno         Palotie          10\n",
       "Tõnu          Esko              9\n",
       "Kari          Stefansson        9\n",
       "Andre         Franke            9\n",
       "Najaf         Amin              9\n",
       "Andrew P.     Morris            9\n",
       "Christian     Gieger            9\n",
       "Daniela       Toniolo           9\n",
       "Lars          Lind              9\n",
       "Ying          Wu                9\n",
       "Wolfgang      Lieb              9\n",
       "Joanna M. M.  Howson            9\n",
       "Ganesh        Chauhan           8\n",
       "Weihua        Zhang             8\n",
       "André G.      Uitterlinden      8\n",
       "Grant W.      Montgomery        8\n",
       "Charles       Kooperberg        8\n",
       "Nicholas G.   Martin            8\n",
       "David         Ellinghaus        8\n",
       "Albert V.     Smith             8\n",
       "Albert        Hofman            8\n",
       "Peter         Almgren           8\n",
       "              Vollenweider      8\n",
       "Manuel        Mattheisen        8\n",
       "Yongmei       Liu               8\n",
       "Leslie A.     Lange             7\n",
       "Jose C.       Florez            7\n",
       "Jonathan      Marten            7\n",
       "Andres        Metspalu          7\n",
       "Matthias W    Beckmann          7\n",
       "Patrick F.    Sullivan          7\n",
       "Jin           Li                7\n",
       "Jie Jin       Wang              7\n",
       "Yii-Der Ida   Chen              6\n",
       "Pamela        Sklar             6\n",
       "Hermann       Brenner           6\n",
       "Hiroko        Tanaka            6\n",
       "J. Wouter     Jukema            6\n",
       "James J       Lee               6\n",
       "dtype: int64"
      ]
     },
     "execution_count": 10,
     "metadata": {},
     "output_type": "execute_result"
    }
   ],
   "source": [
    "test = authors_without_id.groupby([\"first_name\", \"last_name\"]).size()\n",
    "test.sort_values(ascending=False, inplace=True)\n",
    "test.head(50)"
   ]
  },
  {
   "cell_type": "markdown",
   "metadata": {
    "Collapsed": "false",
    "colab_type": "text",
    "id": "dqxFegeLRmdW"
   },
   "source": [
    "## Conclusion and next steps\n",
    "\n",
    "For the next tasks, we will focus on the disambiguated authors as the Researcher ID links will let us carry out useful analyses.\n",
    "\n",
    "Still, we can **save the authors with missing IDs** results and try to do some manual disambiguation later. To this end, adding a simple google-search URL can help in making sense of these data quickly."
   ]
  },
  {
   "cell_type": "code",
   "execution_count": 11,
   "metadata": {
    "Collapsed": "false",
    "colab": {},
    "colab_type": "code",
    "id": "cC__pj51RmdW"
   },
   "outputs": [
    {
     "data": {
      "text/html": [
       "<div>\n",
       "<style scoped>\n",
       "    .dataframe tbody tr th:only-of-type {\n",
       "        vertical-align: middle;\n",
       "    }\n",
       "\n",
       "    .dataframe tbody tr th {\n",
       "        vertical-align: top;\n",
       "    }\n",
       "\n",
       "    .dataframe thead th {\n",
       "        text-align: right;\n",
       "    }\n",
       "</style>\n",
       "<table border=\"1\" class=\"dataframe\">\n",
       "  <thead>\n",
       "    <tr style=\"text-align: right;\">\n",
       "      <th></th>\n",
       "      <th>name</th>\n",
       "      <th>surname</th>\n",
       "      <th>frequency</th>\n",
       "      <th>search_url</th>\n",
       "    </tr>\n",
       "  </thead>\n",
       "  <tbody>\n",
       "    <tr>\n",
       "      <th>0</th>\n",
       "      <td></td>\n",
       "      <td></td>\n",
       "      <td>382</td>\n",
       "      <td></td>\n",
       "    </tr>\n",
       "    <tr>\n",
       "      <th>1</th>\n",
       "      <td>Jaakko</td>\n",
       "      <td>Tuomilehto</td>\n",
       "      <td>13</td>\n",
       "      <td>https://www.google.com/search?q=Jaakko+Tuomilehto</td>\n",
       "    </tr>\n",
       "    <tr>\n",
       "      <th>2</th>\n",
       "      <td>James G.</td>\n",
       "      <td>Wilson</td>\n",
       "      <td>12</td>\n",
       "      <td>https://www.google.com/search?q=James%20G.+Wilson</td>\n",
       "    </tr>\n",
       "    <tr>\n",
       "      <th>3</th>\n",
       "      <td>M. Arfan</td>\n",
       "      <td>Ikram</td>\n",
       "      <td>12</td>\n",
       "      <td>https://www.google.com/search?q=M.%20Arfan+Ikram</td>\n",
       "    </tr>\n",
       "    <tr>\n",
       "      <th>4</th>\n",
       "      <td>Wei</td>\n",
       "      <td>Zhao</td>\n",
       "      <td>12</td>\n",
       "      <td>https://www.google.com/search?q=Wei+Zhao</td>\n",
       "    </tr>\n",
       "    <tr>\n",
       "      <th>5</th>\n",
       "      <td>Olle</td>\n",
       "      <td>Melander</td>\n",
       "      <td>11</td>\n",
       "      <td>https://www.google.com/search?q=Olle+Melander</td>\n",
       "    </tr>\n",
       "    <tr>\n",
       "      <th>6</th>\n",
       "      <td>James P.</td>\n",
       "      <td>Cook</td>\n",
       "      <td>11</td>\n",
       "      <td>https://www.google.com/search?q=James%20P.+Cook</td>\n",
       "    </tr>\n",
       "    <tr>\n",
       "      <th>7</th>\n",
       "      <td>Jouke-Jan</td>\n",
       "      <td>Hottenga</td>\n",
       "      <td>10</td>\n",
       "      <td>https://www.google.com/search?q=Jouke-Jan+Hott...</td>\n",
       "    </tr>\n",
       "    <tr>\n",
       "      <th>8</th>\n",
       "      <td>Brooke</td>\n",
       "      <td>LaFlamme</td>\n",
       "      <td>10</td>\n",
       "      <td>https://www.google.com/search?q=Brooke+LaFlamme</td>\n",
       "    </tr>\n",
       "    <tr>\n",
       "      <th>9</th>\n",
       "      <td>Qiong</td>\n",
       "      <td>Yang</td>\n",
       "      <td>10</td>\n",
       "      <td>https://www.google.com/search?q=Qiong+Yang</td>\n",
       "    </tr>\n",
       "    <tr>\n",
       "      <th>10</th>\n",
       "      <td>Jie</td>\n",
       "      <td>Huang</td>\n",
       "      <td>10</td>\n",
       "      <td>https://www.google.com/search?q=Jie+Huang</td>\n",
       "    </tr>\n",
       "    <tr>\n",
       "      <th>11</th>\n",
       "      <td>Aarno</td>\n",
       "      <td>Palotie</td>\n",
       "      <td>10</td>\n",
       "      <td>https://www.google.com/search?q=Aarno+Palotie</td>\n",
       "    </tr>\n",
       "    <tr>\n",
       "      <th>12</th>\n",
       "      <td>Tõnu</td>\n",
       "      <td>Esko</td>\n",
       "      <td>9</td>\n",
       "      <td>https://www.google.com/search?q=T%C3%B5nu+Esko</td>\n",
       "    </tr>\n",
       "    <tr>\n",
       "      <th>13</th>\n",
       "      <td>Kari</td>\n",
       "      <td>Stefansson</td>\n",
       "      <td>9</td>\n",
       "      <td>https://www.google.com/search?q=Kari+Stefansson</td>\n",
       "    </tr>\n",
       "    <tr>\n",
       "      <th>14</th>\n",
       "      <td>Andre</td>\n",
       "      <td>Franke</td>\n",
       "      <td>9</td>\n",
       "      <td>https://www.google.com/search?q=Andre+Franke</td>\n",
       "    </tr>\n",
       "    <tr>\n",
       "      <th>15</th>\n",
       "      <td>Najaf</td>\n",
       "      <td>Amin</td>\n",
       "      <td>9</td>\n",
       "      <td>https://www.google.com/search?q=Najaf+Amin</td>\n",
       "    </tr>\n",
       "    <tr>\n",
       "      <th>16</th>\n",
       "      <td>Andrew P.</td>\n",
       "      <td>Morris</td>\n",
       "      <td>9</td>\n",
       "      <td>https://www.google.com/search?q=Andrew%20P.+Mo...</td>\n",
       "    </tr>\n",
       "    <tr>\n",
       "      <th>17</th>\n",
       "      <td>Christian</td>\n",
       "      <td>Gieger</td>\n",
       "      <td>9</td>\n",
       "      <td>https://www.google.com/search?q=Christian+Gieger</td>\n",
       "    </tr>\n",
       "    <tr>\n",
       "      <th>18</th>\n",
       "      <td>Daniela</td>\n",
       "      <td>Toniolo</td>\n",
       "      <td>9</td>\n",
       "      <td>https://www.google.com/search?q=Daniela+Toniolo</td>\n",
       "    </tr>\n",
       "    <tr>\n",
       "      <th>19</th>\n",
       "      <td>Lars</td>\n",
       "      <td>Lind</td>\n",
       "      <td>9</td>\n",
       "      <td>https://www.google.com/search?q=Lars+Lind</td>\n",
       "    </tr>\n",
       "  </tbody>\n",
       "</table>\n",
       "</div>"
      ],
      "text/plain": [
       "         name     surname  frequency  \\\n",
       "0                                382   \n",
       "1      Jaakko  Tuomilehto         13   \n",
       "2    James G.      Wilson         12   \n",
       "3    M. Arfan       Ikram         12   \n",
       "4         Wei        Zhao         12   \n",
       "5        Olle    Melander         11   \n",
       "6    James P.        Cook         11   \n",
       "7   Jouke-Jan    Hottenga         10   \n",
       "8      Brooke    LaFlamme         10   \n",
       "9       Qiong        Yang         10   \n",
       "10        Jie       Huang         10   \n",
       "11      Aarno     Palotie         10   \n",
       "12       Tõnu        Esko          9   \n",
       "13       Kari  Stefansson          9   \n",
       "14      Andre      Franke          9   \n",
       "15      Najaf        Amin          9   \n",
       "16  Andrew P.      Morris          9   \n",
       "17  Christian      Gieger          9   \n",
       "18    Daniela     Toniolo          9   \n",
       "19       Lars        Lind          9   \n",
       "\n",
       "                                           search_url  \n",
       "0                                                      \n",
       "1   https://www.google.com/search?q=Jaakko+Tuomilehto  \n",
       "2   https://www.google.com/search?q=James%20G.+Wilson  \n",
       "3    https://www.google.com/search?q=M.%20Arfan+Ikram  \n",
       "4            https://www.google.com/search?q=Wei+Zhao  \n",
       "5       https://www.google.com/search?q=Olle+Melander  \n",
       "6     https://www.google.com/search?q=James%20P.+Cook  \n",
       "7   https://www.google.com/search?q=Jouke-Jan+Hott...  \n",
       "8     https://www.google.com/search?q=Brooke+LaFlamme  \n",
       "9          https://www.google.com/search?q=Qiong+Yang  \n",
       "10          https://www.google.com/search?q=Jie+Huang  \n",
       "11      https://www.google.com/search?q=Aarno+Palotie  \n",
       "12     https://www.google.com/search?q=T%C3%B5nu+Esko  \n",
       "13    https://www.google.com/search?q=Kari+Stefansson  \n",
       "14       https://www.google.com/search?q=Andre+Franke  \n",
       "15         https://www.google.com/search?q=Najaf+Amin  \n",
       "16  https://www.google.com/search?q=Andrew%20P.+Mo...  \n",
       "17   https://www.google.com/search?q=Christian+Gieger  \n",
       "18    https://www.google.com/search?q=Daniela+Toniolo  \n",
       "19          https://www.google.com/search?q=Lars+Lind  "
      ]
     },
     "execution_count": 11,
     "metadata": {},
     "output_type": "execute_result"
    }
   ],
   "source": [
    "from urllib.parse import quote\n",
    "\n",
    "out = []\n",
    "for index, value in test.items():\n",
    "    # compose a simple URL of the form 'https://www.google.com/search?q=tonu+esko'\n",
    "    if index[0] or index[1]:\n",
    "        n, s = quote(index[0]), quote(index[1])\n",
    "        url = f\"https://www.google.com/search?q={n}+{s}\"\n",
    "    else:\n",
    "        url = \"\"\n",
    "    d = {'name': index[0] , 'surname' : index[1] , 'frequency' : value , 'search_url' : url }\n",
    "    out.append(d)\n",
    "\n",
    "dftest = pd.DataFrame.from_dict(out)\n",
    "# set order of columns\n",
    "dftest = dftest[['name', 'surname', 'frequency', 'search_url']]\n",
    "\n",
    "dftest.head(20)"
   ]
  },
  {
   "cell_type": "code",
   "execution_count": 12,
   "metadata": {
    "Collapsed": "false",
    "colab": {},
    "colab_type": "code",
    "id": "xQFQTOPOWm_T"
   },
   "outputs": [],
   "source": [
    "# save the data\n",
    "#\n",
    "dftest.to_csv(\"data/1.authors_not_disambiguated_frequency.csv\", header=True)"
   ]
  },
  {
   "cell_type": "code",
   "execution_count": 13,
   "metadata": {
    "Collapsed": "false",
    "colab": {},
    "colab_type": "code",
    "id": "AxTeHLccaz_K"
   },
   "outputs": [],
   "source": [
    "if COLAB_ENV:\n",
    "  files.download(\"data/1.authors_not_disambiguated_frequency.csv\")\n",
    "  files.download(\"data/1.authors_with_researchers_id.csv\")\n",
    "  files.download(\"data/1.publications_authors.csv\")\n",
    "  files.download(\"data/1.publications_authors_affiliations.csv\")\n",
    "  files.download(\"data/1.pubs_metadata_with_metrics.csv\")"
   ]
  },
  {
   "cell_type": "markdown",
   "metadata": {
    "Collapsed": "false",
    "colab_type": "text",
    "id": "Y9cYfZJZRmdY"
   },
   "source": [
    "That's it! \n",
    "\n",
    "Now let's go and open this in [Google Sheets](https://docs.google.com/spreadsheets/)..."
   ]
  }
 ],
 "metadata": {
  "colab": {
   "collapsed_sections": [
    "fJuPwNoORmdN"
   ],
   "name": "1. Gathering data for a journal.ipynb",
   "provenance": []
  },
  "kernelspec": {
   "display_name": "Python 3",
   "language": "python",
   "name": "python3"
  },
  "language_info": {
   "codemirror_mode": {
    "name": "ipython",
    "version": 3
   },
   "file_extension": ".py",
   "mimetype": "text/x-python",
   "name": "python",
   "nbconvert_exporter": "python",
   "pygments_lexer": "ipython3",
   "version": "3.7.4"
  }
 },
 "nbformat": 4,
 "nbformat_minor": 4
}
