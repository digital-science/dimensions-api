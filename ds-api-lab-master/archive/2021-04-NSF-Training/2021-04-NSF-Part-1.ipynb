{
 "cells": [
  {
   "cell_type": "markdown",
   "metadata": {
    "Collapsed": "false"
   },
   "source": [
    "# 2021-04 NSF Training part 1\n",
    "\n",
    "Outline \n",
    "\n",
    "1. The grants data model: key concepts\n",
    "2. Getting publications by grants id, directorate, funder groups\n",
    "3. Getting researcher awards, publications, patents, etc.\n",
    "4. Finding similar awards/publications based on a given awards/publications\n",
    "    \n",
    "  "
   ]
  },
  {
   "cell_type": "markdown",
   "metadata": {
    "Collapsed": "false",
    "colab_type": "text",
    "id": "hMaQlB7DG8Vw"
   },
   "source": [
    "## Prerequisites\n",
    "\n",
    "This notebook assumes you have installed the [Dimcli](https://pypi.org/project/dimcli/) library and are familiar with the *Getting Started* tutorial.\n"
   ]
  },
  {
   "cell_type": "code",
   "execution_count": 1,
   "metadata": {
    "Collapsed": "false"
   },
   "outputs": [
    {
     "name": "stdout",
     "output_type": "stream",
     "text": [
      "==\n",
      "Logging in..\n",
      "\u001b[2mDimcli - Dimensions API Client (v0.9)\u001b[0m\n",
      "\u001b[2mConnected to: https://app.dimensions.ai - DSL v1.30\u001b[0m\n",
      "\u001b[2mMethod: dsl.ini file\u001b[0m\n"
     ]
    }
   ],
   "source": [
    "!pip install dimcli --quiet \n",
    "\n",
    "import dimcli\n",
    "from dimcli.utils import *\n",
    "\n",
    "import json\n",
    "import sys\n",
    "import pandas as pd\n",
    "from IPython.display import Image\n",
    "from IPython.core.display import HTML\n",
    "\n",
    "print(\"==\\nLogging in..\")\n",
    "\n",
    "ENDPOINT = \"https://app.dimensions.ai\"\n",
    "\n",
    "if 'google.colab' in sys.modules:\n",
    "  import getpass\n",
    "  KEY = getpass.getpass(prompt='API Key: ')  \n",
    "  dimcli.login(key=KEY, endpoint=ENDPOINT)\n",
    "else:\n",
    "  KEY = \"\"\n",
    "  dimcli.login(key=KEY, endpoint=ENDPOINT)\n",
    "\n",
    "dsl = dimcli.Dsl()"
   ]
  },
  {
   "cell_type": "markdown",
   "metadata": {
    "Collapsed": "false"
   },
   "source": [
    "## 1. The grants data model - quick walkthrough\n"
   ]
  },
  {
   "cell_type": "markdown",
   "metadata": {
    "Collapsed": "false"
   },
   "source": [
    "Reference: https://docs.dimensions.ai/dsl/datasource-grants.html"
   ]
  },
  {
   "cell_type": "markdown",
   "metadata": {
    "Collapsed": "false"
   },
   "source": [
    "### 1.1 Dimensions grant ID VS 'original' grant ID (= `grant_number`)"
   ]
  },
  {
   "cell_type": "code",
   "execution_count": 25,
   "metadata": {
    "Collapsed": "false"
   },
   "outputs": [
    {
     "name": "stdout",
     "output_type": "stream",
     "text": [
      "Returned Grants: 5 (total = 8090)\n",
      "\u001b[2mTime: 0.55s\u001b[0m\n"
     ]
    },
    {
     "data": {
      "text/html": [
       "<div>\n",
       "<style scoped>\n",
       "    .dataframe tbody tr th:only-of-type {\n",
       "        vertical-align: middle;\n",
       "    }\n",
       "\n",
       "    .dataframe tbody tr th {\n",
       "        vertical-align: top;\n",
       "    }\n",
       "\n",
       "    .dataframe thead th {\n",
       "        text-align: right;\n",
       "    }\n",
       "</style>\n",
       "<table border=\"1\" class=\"dataframe\">\n",
       "  <thead>\n",
       "    <tr style=\"text-align: right;\">\n",
       "      <th></th>\n",
       "      <th>title</th>\n",
       "      <th>id</th>\n",
       "      <th>grant_number</th>\n",
       "    </tr>\n",
       "  </thead>\n",
       "  <tbody>\n",
       "    <tr>\n",
       "      <th>0</th>\n",
       "      <td>REU Site: The Stressed Life of Cells</td>\n",
       "      <td>grant.9606016</td>\n",
       "      <td>2051128</td>\n",
       "    </tr>\n",
       "    <tr>\n",
       "      <th>1</th>\n",
       "      <td>Towards the viable-decentralized supply chain</td>\n",
       "      <td>grant.9525993</td>\n",
       "      <td>198640</td>\n",
       "    </tr>\n",
       "    <tr>\n",
       "      <th>2</th>\n",
       "      <td>Annual meeting of the Swiss Society for Neuros...</td>\n",
       "      <td>grant.9526002</td>\n",
       "      <td>198908</td>\n",
       "    </tr>\n",
       "    <tr>\n",
       "      <th>3</th>\n",
       "      <td>Canonical and non-canonical secretory mechanis...</td>\n",
       "      <td>grant.8964419</td>\n",
       "      <td>894449</td>\n",
       "    </tr>\n",
       "    <tr>\n",
       "      <th>4</th>\n",
       "      <td>Institutional Quality, State Intervention, and...</td>\n",
       "      <td>grant.9550210</td>\n",
       "      <td>SAB20-0064</td>\n",
       "    </tr>\n",
       "  </tbody>\n",
       "</table>\n",
       "</div>"
      ],
      "text/plain": [
       "                                               title             id  \\\n",
       "0               REU Site: The Stressed Life of Cells  grant.9606016   \n",
       "1      Towards the viable-decentralized supply chain  grant.9525993   \n",
       "2  Annual meeting of the Swiss Society for Neuros...  grant.9526002   \n",
       "3  Canonical and non-canonical secretory mechanis...  grant.8964419   \n",
       "4  Institutional Quality, State Intervention, and...  grant.9550210   \n",
       "\n",
       "  grant_number  \n",
       "0      2051128  \n",
       "1       198640  \n",
       "2       198908  \n",
       "3       894449  \n",
       "4   SAB20-0064  "
      ]
     },
     "execution_count": 25,
     "metadata": {},
     "output_type": "execute_result"
    }
   ],
   "source": [
    "%%dsldf\n",
    "\n",
    "search grants \n",
    "    for \"covid-19 OR coronavirus\" \n",
    "return grants[id+grant_number+title] limit 5"
   ]
  },
  {
   "cell_type": "markdown",
   "metadata": {
    "Collapsed": "false"
   },
   "source": [
    "If you have the IDs, you can search using them:"
   ]
  },
  {
   "cell_type": "code",
   "execution_count": 156,
   "metadata": {
    "Collapsed": "false"
   },
   "outputs": [
    {
     "name": "stdout",
     "output_type": "stream",
     "text": [
      "Returned Grants: 5 (total = 5)\n",
      "\u001b[2mTime: 0.60s\u001b[0m\n"
     ]
    },
    {
     "data": {
      "text/html": [
       "<div>\n",
       "<style scoped>\n",
       "    .dataframe tbody tr th:only-of-type {\n",
       "        vertical-align: middle;\n",
       "    }\n",
       "\n",
       "    .dataframe tbody tr th {\n",
       "        vertical-align: top;\n",
       "    }\n",
       "\n",
       "    .dataframe thead th {\n",
       "        text-align: right;\n",
       "    }\n",
       "</style>\n",
       "<table border=\"1\" class=\"dataframe\">\n",
       "  <thead>\n",
       "    <tr style=\"text-align: right;\">\n",
       "      <th></th>\n",
       "      <th>grant_number</th>\n",
       "      <th>title</th>\n",
       "      <th>id</th>\n",
       "    </tr>\n",
       "  </thead>\n",
       "  <tbody>\n",
       "    <tr>\n",
       "      <th>0</th>\n",
       "      <td>2051128</td>\n",
       "      <td>REU Site: The Stressed Life of Cells</td>\n",
       "      <td>grant.9606016</td>\n",
       "    </tr>\n",
       "    <tr>\n",
       "      <th>1</th>\n",
       "      <td>198640</td>\n",
       "      <td>Towards the viable-decentralized supply chain</td>\n",
       "      <td>grant.9525993</td>\n",
       "    </tr>\n",
       "    <tr>\n",
       "      <th>2</th>\n",
       "      <td>198908</td>\n",
       "      <td>Annual meeting of the Swiss Society for Neuros...</td>\n",
       "      <td>grant.9526002</td>\n",
       "    </tr>\n",
       "    <tr>\n",
       "      <th>3</th>\n",
       "      <td>894449</td>\n",
       "      <td>Canonical and non-canonical secretory mechanis...</td>\n",
       "      <td>grant.8964419</td>\n",
       "    </tr>\n",
       "    <tr>\n",
       "      <th>4</th>\n",
       "      <td>SAB20-0064</td>\n",
       "      <td>Institutional Quality, State Intervention, and...</td>\n",
       "      <td>grant.9550210</td>\n",
       "    </tr>\n",
       "  </tbody>\n",
       "</table>\n",
       "</div>"
      ],
      "text/plain": [
       "  grant_number                                              title  \\\n",
       "0      2051128               REU Site: The Stressed Life of Cells   \n",
       "1       198640      Towards the viable-decentralized supply chain   \n",
       "2       198908  Annual meeting of the Swiss Society for Neuros...   \n",
       "3       894449  Canonical and non-canonical secretory mechanis...   \n",
       "4   SAB20-0064  Institutional Quality, State Intervention, and...   \n",
       "\n",
       "              id  \n",
       "0  grant.9606016  \n",
       "1  grant.9525993  \n",
       "2  grant.9526002  \n",
       "3  grant.8964419  \n",
       "4  grant.9550210  "
      ]
     },
     "execution_count": 156,
     "metadata": {},
     "output_type": "execute_result"
    }
   ],
   "source": [
    "%%dsldf\n",
    "\n",
    "search grants \n",
    "    where id in [\"grant.9606016\", \"grant.9525993\"]\n",
    "    or grant_number in [\"198908\", \"894449\", \"SAB20-0064\"]\n",
    "return grants[id+grant_number+title] "
   ]
  },
  {
   "cell_type": "markdown",
   "metadata": {
    "Collapsed": "false"
   },
   "source": [
    "### 1.2 Field types: 'Entity' (eg `funders`) VS lists (`funder_countries`) VS atomic data type (`funding_org_name`) "
   ]
  },
  {
   "cell_type": "code",
   "execution_count": 158,
   "metadata": {
    "Collapsed": "false"
   },
   "outputs": [
    {
     "name": "stdout",
     "output_type": "stream",
     "text": [
      "Returned objects: 5 (total grants= 8090)\n",
      "\u001b[2mTime: 0.53s\u001b[0m\n"
     ]
    },
    {
     "data": {
      "text/html": [
       "<div>\n",
       "<style scoped>\n",
       "    .dataframe tbody tr th:only-of-type {\n",
       "        vertical-align: middle;\n",
       "    }\n",
       "\n",
       "    .dataframe tbody tr th {\n",
       "        vertical-align: top;\n",
       "    }\n",
       "\n",
       "    .dataframe thead th {\n",
       "        text-align: right;\n",
       "    }\n",
       "</style>\n",
       "<table border=\"1\" class=\"dataframe\">\n",
       "  <thead>\n",
       "    <tr style=\"text-align: right;\">\n",
       "      <th></th>\n",
       "      <th>id</th>\n",
       "      <th>funding_org_name</th>\n",
       "      <th>funder_countries.id</th>\n",
       "      <th>funder_countries.name</th>\n",
       "    </tr>\n",
       "  </thead>\n",
       "  <tbody>\n",
       "    <tr>\n",
       "      <th>0</th>\n",
       "      <td>grant.9606016</td>\n",
       "      <td>Directorate for Biological Sciences</td>\n",
       "      <td>US</td>\n",
       "      <td>United States</td>\n",
       "    </tr>\n",
       "    <tr>\n",
       "      <th>1</th>\n",
       "      <td>grant.9525993</td>\n",
       "      <td>Swiss National Science Foundation</td>\n",
       "      <td>CH</td>\n",
       "      <td>Switzerland</td>\n",
       "    </tr>\n",
       "    <tr>\n",
       "      <th>2</th>\n",
       "      <td>grant.9526002</td>\n",
       "      <td>Swiss National Science Foundation</td>\n",
       "      <td>CH</td>\n",
       "      <td>Switzerland</td>\n",
       "    </tr>\n",
       "    <tr>\n",
       "      <th>3</th>\n",
       "      <td>grant.8964419</td>\n",
       "      <td>European Commission</td>\n",
       "      <td>BE</td>\n",
       "      <td>Belgium</td>\n",
       "    </tr>\n",
       "    <tr>\n",
       "      <th>4</th>\n",
       "      <td>grant.9550210</td>\n",
       "      <td>Bank of Sweden Tercentenary Foundation</td>\n",
       "      <td>SE</td>\n",
       "      <td>Sweden</td>\n",
       "    </tr>\n",
       "  </tbody>\n",
       "</table>\n",
       "</div>"
      ],
      "text/plain": [
       "              id                        funding_org_name funder_countries.id  \\\n",
       "0  grant.9606016     Directorate for Biological Sciences                  US   \n",
       "1  grant.9525993       Swiss National Science Foundation                  CH   \n",
       "2  grant.9526002       Swiss National Science Foundation                  CH   \n",
       "3  grant.8964419                     European Commission                  BE   \n",
       "4  grant.9550210  Bank of Sweden Tercentenary Foundation                  SE   \n",
       "\n",
       "  funder_countries.name  \n",
       "0         United States  \n",
       "1           Switzerland  \n",
       "2           Switzerland  \n",
       "3               Belgium  \n",
       "4                Sweden  "
      ]
     },
     "execution_count": 158,
     "metadata": {},
     "output_type": "execute_result"
    }
   ],
   "source": [
    "%%dsldf\n",
    "\n",
    "search grants \n",
    "    for \"covid-19 OR coronavirus\" \n",
    "return grants[id+funding_org_name+unnest(funder_countries)] limit 5"
   ]
  },
  {
   "cell_type": "markdown",
   "metadata": {
    "Collapsed": "false"
   },
   "source": [
    "Use `unnest(funders)` to unpack the contents of that field (docs:https://docs.dimensions.ai/dsl/language.html#unnesting-multi-value-entity-fields)"
   ]
  },
  {
   "cell_type": "code",
   "execution_count": 159,
   "metadata": {
    "Collapsed": "false"
   },
   "outputs": [
    {
     "name": "stdout",
     "output_type": "stream",
     "text": [
      "Returned objects: 5 (total grants= 8090)\n",
      "\u001b[2mTime: 2.43s\u001b[0m\n"
     ]
    },
    {
     "data": {
      "text/html": [
       "<div>\n",
       "<style scoped>\n",
       "    .dataframe tbody tr th:only-of-type {\n",
       "        vertical-align: middle;\n",
       "    }\n",
       "\n",
       "    .dataframe tbody tr th {\n",
       "        vertical-align: top;\n",
       "    }\n",
       "\n",
       "    .dataframe thead th {\n",
       "        text-align: right;\n",
       "    }\n",
       "</style>\n",
       "<table border=\"1\" class=\"dataframe\">\n",
       "  <thead>\n",
       "    <tr style=\"text-align: right;\">\n",
       "      <th></th>\n",
       "      <th>id</th>\n",
       "      <th>funders.id</th>\n",
       "      <th>funders.name</th>\n",
       "      <th>funders.acronym</th>\n",
       "      <th>funders.linkout</th>\n",
       "      <th>funders.country_name</th>\n",
       "      <th>funders.state_name</th>\n",
       "      <th>funders.city_name</th>\n",
       "      <th>funders.latitude</th>\n",
       "      <th>funders.longitude</th>\n",
       "      <th>funders.types</th>\n",
       "    </tr>\n",
       "  </thead>\n",
       "  <tbody>\n",
       "    <tr>\n",
       "      <th>0</th>\n",
       "      <td>grant.9606016</td>\n",
       "      <td>grid.457768.f</td>\n",
       "      <td>Directorate for Biological Sciences</td>\n",
       "      <td>NSF BIO</td>\n",
       "      <td>[http://www.nsf.gov/dir/index.jsp?org=BIO]</td>\n",
       "      <td>United States</td>\n",
       "      <td>Virginia</td>\n",
       "      <td>Arlington</td>\n",
       "      <td>38.88058</td>\n",
       "      <td>-77.110985</td>\n",
       "      <td>[Government]</td>\n",
       "    </tr>\n",
       "    <tr>\n",
       "      <th>1</th>\n",
       "      <td>grant.9525993</td>\n",
       "      <td>grid.425888.b</td>\n",
       "      <td>Swiss National Science Foundation</td>\n",
       "      <td>SNF</td>\n",
       "      <td>[http://www.snf.ch/en]</td>\n",
       "      <td>Switzerland</td>\n",
       "      <td>NaN</td>\n",
       "      <td>Bern</td>\n",
       "      <td>46.94923</td>\n",
       "      <td>7.432395</td>\n",
       "      <td>[Government]</td>\n",
       "    </tr>\n",
       "    <tr>\n",
       "      <th>2</th>\n",
       "      <td>grant.9526002</td>\n",
       "      <td>grid.425888.b</td>\n",
       "      <td>Swiss National Science Foundation</td>\n",
       "      <td>SNF</td>\n",
       "      <td>[http://www.snf.ch/en]</td>\n",
       "      <td>Switzerland</td>\n",
       "      <td>NaN</td>\n",
       "      <td>Bern</td>\n",
       "      <td>46.94923</td>\n",
       "      <td>7.432395</td>\n",
       "      <td>[Government]</td>\n",
       "    </tr>\n",
       "    <tr>\n",
       "      <th>3</th>\n",
       "      <td>grant.8964419</td>\n",
       "      <td>grid.270680.b</td>\n",
       "      <td>European Commission</td>\n",
       "      <td>EC</td>\n",
       "      <td>[http://ec.europa.eu/index_en.htm]</td>\n",
       "      <td>Belgium</td>\n",
       "      <td>NaN</td>\n",
       "      <td>Brussels</td>\n",
       "      <td>50.85165</td>\n",
       "      <td>4.363670</td>\n",
       "      <td>[Government]</td>\n",
       "    </tr>\n",
       "    <tr>\n",
       "      <th>4</th>\n",
       "      <td>grant.9550210</td>\n",
       "      <td>grid.454174.7</td>\n",
       "      <td>Bank of Sweden Tercentenary Foundation</td>\n",
       "      <td>RJSE</td>\n",
       "      <td>[http://www.rj.se/en/]</td>\n",
       "      <td>Sweden</td>\n",
       "      <td>NaN</td>\n",
       "      <td>Borås</td>\n",
       "      <td>57.71711</td>\n",
       "      <td>12.942706</td>\n",
       "      <td>[Nonprofit]</td>\n",
       "    </tr>\n",
       "  </tbody>\n",
       "</table>\n",
       "</div>"
      ],
      "text/plain": [
       "              id     funders.id                            funders.name  \\\n",
       "0  grant.9606016  grid.457768.f     Directorate for Biological Sciences   \n",
       "1  grant.9525993  grid.425888.b       Swiss National Science Foundation   \n",
       "2  grant.9526002  grid.425888.b       Swiss National Science Foundation   \n",
       "3  grant.8964419  grid.270680.b                     European Commission   \n",
       "4  grant.9550210  grid.454174.7  Bank of Sweden Tercentenary Foundation   \n",
       "\n",
       "  funders.acronym                             funders.linkout  \\\n",
       "0         NSF BIO  [http://www.nsf.gov/dir/index.jsp?org=BIO]   \n",
       "1             SNF                      [http://www.snf.ch/en]   \n",
       "2             SNF                      [http://www.snf.ch/en]   \n",
       "3              EC          [http://ec.europa.eu/index_en.htm]   \n",
       "4            RJSE                      [http://www.rj.se/en/]   \n",
       "\n",
       "  funders.country_name funders.state_name funders.city_name  funders.latitude  \\\n",
       "0        United States           Virginia         Arlington          38.88058   \n",
       "1          Switzerland                NaN              Bern          46.94923   \n",
       "2          Switzerland                NaN              Bern          46.94923   \n",
       "3              Belgium                NaN          Brussels          50.85165   \n",
       "4               Sweden                NaN             Borås          57.71711   \n",
       "\n",
       "   funders.longitude funders.types  \n",
       "0         -77.110985  [Government]  \n",
       "1           7.432395  [Government]  \n",
       "2           7.432395  [Government]  \n",
       "3           4.363670  [Government]  \n",
       "4          12.942706   [Nonprofit]  "
      ]
     },
     "execution_count": 159,
     "metadata": {},
     "output_type": "execute_result"
    }
   ],
   "source": [
    "%%dsldf\n",
    "\n",
    "search grants \n",
    "    for \"covid-19 OR coronavirus\" \n",
    "return grants[id+unnest(funders)] limit 5"
   ]
  },
  {
   "cell_type": "markdown",
   "metadata": {
    "Collapsed": "false"
   },
   "source": [
    "### 1.3 Funder GRID identifiers (`funders.id`)\n",
    "\n",
    "Caveat: entity filters are resolved via a 'subquery' and are better used only with identifiers or properties matching a small number of results. \n",
    "See also https://docs.dimensions.ai/dsl/language.html#literal-fields-vs-entity-fields"
   ]
  },
  {
   "cell_type": "code",
   "execution_count": 33,
   "metadata": {
    "Collapsed": "false"
   },
   "outputs": [
    {
     "name": "stdout",
     "output_type": "stream",
     "text": [
      "Returned Grants: 5 (total = 91)\n",
      "\u001b[2mTime: 0.60s\u001b[0m\n"
     ]
    },
    {
     "data": {
      "text/html": [
       "<div>\n",
       "<style scoped>\n",
       "    .dataframe tbody tr th:only-of-type {\n",
       "        vertical-align: middle;\n",
       "    }\n",
       "\n",
       "    .dataframe tbody tr th {\n",
       "        vertical-align: top;\n",
       "    }\n",
       "\n",
       "    .dataframe thead th {\n",
       "        text-align: right;\n",
       "    }\n",
       "</style>\n",
       "<table border=\"1\" class=\"dataframe\">\n",
       "  <thead>\n",
       "    <tr style=\"text-align: right;\">\n",
       "      <th></th>\n",
       "      <th>start_year</th>\n",
       "      <th>active_year</th>\n",
       "      <th>title_language</th>\n",
       "      <th>id</th>\n",
       "      <th>language</th>\n",
       "      <th>project_num</th>\n",
       "      <th>funding_org_name</th>\n",
       "      <th>end_date</th>\n",
       "      <th>start_date</th>\n",
       "      <th>title</th>\n",
       "      <th>funders</th>\n",
       "      <th>original_title</th>\n",
       "    </tr>\n",
       "  </thead>\n",
       "  <tbody>\n",
       "    <tr>\n",
       "      <th>0</th>\n",
       "      <td>2021</td>\n",
       "      <td>[2021, 2022]</td>\n",
       "      <td>en</td>\n",
       "      <td>grant.9525993</td>\n",
       "      <td>en</td>\n",
       "      <td>198640</td>\n",
       "      <td>Swiss National Science Foundation</td>\n",
       "      <td>2022-01-31</td>\n",
       "      <td>2021-12-01</td>\n",
       "      <td>Towards the viable-decentralized supply chain</td>\n",
       "      <td>[{'id': 'grid.425888.b', 'name': 'Swiss Nation...</td>\n",
       "      <td>Towards the viable-decentralized supply chain</td>\n",
       "    </tr>\n",
       "    <tr>\n",
       "      <th>1</th>\n",
       "      <td>2021</td>\n",
       "      <td>[2021, 2022]</td>\n",
       "      <td>en</td>\n",
       "      <td>grant.9526002</td>\n",
       "      <td>en</td>\n",
       "      <td>198908</td>\n",
       "      <td>Swiss National Science Foundation</td>\n",
       "      <td>2022-02-28</td>\n",
       "      <td>2021-12-01</td>\n",
       "      <td>Annual meeting of the Swiss Society for Neuros...</td>\n",
       "      <td>[{'id': 'grid.425888.b', 'name': 'Swiss Nation...</td>\n",
       "      <td>Annual meeting of the Swiss Society for Neuros...</td>\n",
       "    </tr>\n",
       "    <tr>\n",
       "      <th>2</th>\n",
       "      <td>2021</td>\n",
       "      <td>[2021, 2022]</td>\n",
       "      <td>en</td>\n",
       "      <td>grant.9556723</td>\n",
       "      <td>en</td>\n",
       "      <td>199262</td>\n",
       "      <td>Swiss National Science Foundation</td>\n",
       "      <td>2022-08-31</td>\n",
       "      <td>2021-03-01</td>\n",
       "      <td>The mechanism and impact of heterogeneity in a...</td>\n",
       "      <td>[{'id': 'grid.425888.b', 'name': 'Swiss Nation...</td>\n",
       "      <td>The mechanism and impact of heterogeneity in a...</td>\n",
       "    </tr>\n",
       "    <tr>\n",
       "      <th>3</th>\n",
       "      <td>2021</td>\n",
       "      <td>[2021]</td>\n",
       "      <td>en</td>\n",
       "      <td>grant.9556760</td>\n",
       "      <td>en</td>\n",
       "      <td>201312</td>\n",
       "      <td>Swiss National Science Foundation</td>\n",
       "      <td>2021-07-31</td>\n",
       "      <td>2021-02-01</td>\n",
       "      <td>Research semester</td>\n",
       "      <td>[{'id': 'grid.425888.b', 'name': 'Swiss Nation...</td>\n",
       "      <td>Research semester</td>\n",
       "    </tr>\n",
       "    <tr>\n",
       "      <th>4</th>\n",
       "      <td>2021</td>\n",
       "      <td>[2021, 2022]</td>\n",
       "      <td>en</td>\n",
       "      <td>grant.9556673</td>\n",
       "      <td>en</td>\n",
       "      <td>196906</td>\n",
       "      <td>Swiss National Science Foundation</td>\n",
       "      <td>2022-12-31</td>\n",
       "      <td>2021-01-01</td>\n",
       "      <td>A Systematic Assessment of the Drivers of COVI...</td>\n",
       "      <td>[{'id': 'grid.425888.b', 'name': 'Swiss Nation...</td>\n",
       "      <td>A Systematic Assessment of the Drivers of COVI...</td>\n",
       "    </tr>\n",
       "  </tbody>\n",
       "</table>\n",
       "</div>"
      ],
      "text/plain": [
       "   start_year   active_year title_language             id language  \\\n",
       "0        2021  [2021, 2022]             en  grant.9525993       en   \n",
       "1        2021  [2021, 2022]             en  grant.9526002       en   \n",
       "2        2021  [2021, 2022]             en  grant.9556723       en   \n",
       "3        2021        [2021]             en  grant.9556760       en   \n",
       "4        2021  [2021, 2022]             en  grant.9556673       en   \n",
       "\n",
       "  project_num                   funding_org_name    end_date  start_date  \\\n",
       "0      198640  Swiss National Science Foundation  2022-01-31  2021-12-01   \n",
       "1      198908  Swiss National Science Foundation  2022-02-28  2021-12-01   \n",
       "2      199262  Swiss National Science Foundation  2022-08-31  2021-03-01   \n",
       "3      201312  Swiss National Science Foundation  2021-07-31  2021-02-01   \n",
       "4      196906  Swiss National Science Foundation  2022-12-31  2021-01-01   \n",
       "\n",
       "                                               title  \\\n",
       "0      Towards the viable-decentralized supply chain   \n",
       "1  Annual meeting of the Swiss Society for Neuros...   \n",
       "2  The mechanism and impact of heterogeneity in a...   \n",
       "3                                  Research semester   \n",
       "4  A Systematic Assessment of the Drivers of COVI...   \n",
       "\n",
       "                                             funders  \\\n",
       "0  [{'id': 'grid.425888.b', 'name': 'Swiss Nation...   \n",
       "1  [{'id': 'grid.425888.b', 'name': 'Swiss Nation...   \n",
       "2  [{'id': 'grid.425888.b', 'name': 'Swiss Nation...   \n",
       "3  [{'id': 'grid.425888.b', 'name': 'Swiss Nation...   \n",
       "4  [{'id': 'grid.425888.b', 'name': 'Swiss Nation...   \n",
       "\n",
       "                                      original_title  \n",
       "0      Towards the viable-decentralized supply chain  \n",
       "1  Annual meeting of the Swiss Society for Neuros...  \n",
       "2  The mechanism and impact of heterogeneity in a...  \n",
       "3                                  Research semester  \n",
       "4  A Systematic Assessment of the Drivers of COVI...  "
      ]
     },
     "execution_count": 33,
     "metadata": {},
     "output_type": "execute_result"
    }
   ],
   "source": [
    "%%dsldf\n",
    "\n",
    "search grants for \"covid-19 OR coronavirus\" \n",
    "    where funders.id = \"grid.425888.b\"\n",
    "return grants limit 5"
   ]
  },
  {
   "cell_type": "markdown",
   "metadata": {
    "Collapsed": "false"
   },
   "source": [
    "### 1.4 Funder groups aggregations (= agencies, as defined in Dimensions)\n",
    "\n",
    "* Funder 'group' ie NSF: usually consists of more than one GRID identifier. These can be obtained from the webapp. \n",
    "    * https://app.dimensions.ai/browse/facet-filter-groups/publication\n",
    "* Division or Program: not available as such in Dimensions\n",
    "    * should be tackled via specific grants IDs  "
   ]
  },
  {
   "cell_type": "code",
   "execution_count": 162,
   "metadata": {
    "Collapsed": "false"
   },
   "outputs": [
    {
     "data": {
      "text/html": [
       "<div>\n",
       "<style scoped>\n",
       "    .dataframe tbody tr th:only-of-type {\n",
       "        vertical-align: middle;\n",
       "    }\n",
       "\n",
       "    .dataframe tbody tr th {\n",
       "        vertical-align: top;\n",
       "    }\n",
       "\n",
       "    .dataframe thead th {\n",
       "        text-align: right;\n",
       "    }\n",
       "</style>\n",
       "<table border=\"1\" class=\"dataframe\">\n",
       "  <thead>\n",
       "    <tr style=\"text-align: right;\">\n",
       "      <th></th>\n",
       "      <th>Filter type</th>\n",
       "      <th>Group</th>\n",
       "      <th>Name</th>\n",
       "      <th>ID</th>\n",
       "    </tr>\n",
       "  </thead>\n",
       "  <tbody>\n",
       "    <tr>\n",
       "      <th>0</th>\n",
       "      <td>Funder</td>\n",
       "      <td>NSF-mine</td>\n",
       "      <td>Directorate for Biological Sciences (NSF BIO)</td>\n",
       "      <td>grid.457768.f</td>\n",
       "    </tr>\n",
       "    <tr>\n",
       "      <th>1</th>\n",
       "      <td>Funder</td>\n",
       "      <td>NSF-mine</td>\n",
       "      <td>Directorate for Computer &amp; Information Science...</td>\n",
       "      <td>grid.457785.c</td>\n",
       "    </tr>\n",
       "    <tr>\n",
       "      <th>2</th>\n",
       "      <td>Funder</td>\n",
       "      <td>NSF-mine</td>\n",
       "      <td>Directorate for Education &amp; Human Resources (N...</td>\n",
       "      <td>grid.457799.1</td>\n",
       "    </tr>\n",
       "    <tr>\n",
       "      <th>3</th>\n",
       "      <td>Funder</td>\n",
       "      <td>NSF-mine</td>\n",
       "      <td>Directorate for Engineering (NSF ENG)</td>\n",
       "      <td>grid.457810.f</td>\n",
       "    </tr>\n",
       "    <tr>\n",
       "      <th>4</th>\n",
       "      <td>Funder</td>\n",
       "      <td>NSF-mine</td>\n",
       "      <td>Directorate for Geosciences (NSF GEO)</td>\n",
       "      <td>grid.457836.b</td>\n",
       "    </tr>\n",
       "    <tr>\n",
       "      <th>5</th>\n",
       "      <td>Funder</td>\n",
       "      <td>NSF-mine</td>\n",
       "      <td>Directorate for Mathematical &amp; Physical Scienc...</td>\n",
       "      <td>grid.457875.c</td>\n",
       "    </tr>\n",
       "    <tr>\n",
       "      <th>6</th>\n",
       "      <td>Funder</td>\n",
       "      <td>NSF-mine</td>\n",
       "      <td>Directorate for Social, Behavioral &amp; Economic ...</td>\n",
       "      <td>grid.457916.8</td>\n",
       "    </tr>\n",
       "    <tr>\n",
       "      <th>7</th>\n",
       "      <td>Funder</td>\n",
       "      <td>NSF-mine</td>\n",
       "      <td>Division of Advanced Cyberinfrastructure (NSF ...</td>\n",
       "      <td>grid.457789.0</td>\n",
       "    </tr>\n",
       "    <tr>\n",
       "      <th>8</th>\n",
       "      <td>Funder</td>\n",
       "      <td>NSF-mine</td>\n",
       "      <td>Division of Chemical, Bioengineering, Environm...</td>\n",
       "      <td>grid.457813.c</td>\n",
       "    </tr>\n",
       "    <tr>\n",
       "      <th>9</th>\n",
       "      <td>Funder</td>\n",
       "      <td>NSF-mine</td>\n",
       "      <td>Division of Civil, Mechanical &amp; Manufacturing ...</td>\n",
       "      <td>grid.457814.b</td>\n",
       "    </tr>\n",
       "    <tr>\n",
       "      <th>10</th>\n",
       "      <td>Funder</td>\n",
       "      <td>NSF-mine</td>\n",
       "      <td>Division of Earth Sciences (NSF EAR)</td>\n",
       "      <td>grid.457842.8</td>\n",
       "    </tr>\n",
       "    <tr>\n",
       "      <th>11</th>\n",
       "      <td>Funder</td>\n",
       "      <td>NSF-mine</td>\n",
       "      <td>Division of Engineering Education &amp; Centers (N...</td>\n",
       "      <td>grid.457821.d</td>\n",
       "    </tr>\n",
       "    <tr>\n",
       "      <th>12</th>\n",
       "      <td>Funder</td>\n",
       "      <td>NSF-mine</td>\n",
       "      <td>Division of Environmental Biology (NSF DEB)</td>\n",
       "      <td>grid.457772.4</td>\n",
       "    </tr>\n",
       "    <tr>\n",
       "      <th>13</th>\n",
       "      <td>Funder</td>\n",
       "      <td>NSF-mine</td>\n",
       "      <td>Division of Graduate Education (NSF DGE)</td>\n",
       "      <td>grid.457801.f</td>\n",
       "    </tr>\n",
       "    <tr>\n",
       "      <th>14</th>\n",
       "      <td>Funder</td>\n",
       "      <td>NSF-mine</td>\n",
       "      <td>Division of Materials Research (NSF DMR)</td>\n",
       "      <td>grid.457891.6</td>\n",
       "    </tr>\n",
       "    <tr>\n",
       "      <th>15</th>\n",
       "      <td>Funder</td>\n",
       "      <td>NSF-mine</td>\n",
       "      <td>Division of Mathematical Sciences (NSF DMS)</td>\n",
       "      <td>grid.457892.5</td>\n",
       "    </tr>\n",
       "    <tr>\n",
       "      <th>16</th>\n",
       "      <td>Funder</td>\n",
       "      <td>NSF-mine</td>\n",
       "      <td>Division of Ocean Sciences (NSF OCE)</td>\n",
       "      <td>grid.457845.f</td>\n",
       "    </tr>\n",
       "    <tr>\n",
       "      <th>17</th>\n",
       "      <td>Funder</td>\n",
       "      <td>NSF-mine</td>\n",
       "      <td>Division of Social and Economic Sciences (NSF ...</td>\n",
       "      <td>grid.457922.f</td>\n",
       "    </tr>\n",
       "    <tr>\n",
       "      <th>18</th>\n",
       "      <td>Funder</td>\n",
       "      <td>NSF-mine</td>\n",
       "      <td>National Science Board (NSF NSB)</td>\n",
       "      <td>grid.457896.1</td>\n",
       "    </tr>\n",
       "    <tr>\n",
       "      <th>19</th>\n",
       "      <td>Funder</td>\n",
       "      <td>NSF-mine</td>\n",
       "      <td>National Science Foundation (NSF)</td>\n",
       "      <td>grid.431093.c</td>\n",
       "    </tr>\n",
       "    <tr>\n",
       "      <th>20</th>\n",
       "      <td>Funder</td>\n",
       "      <td>NSF-mine</td>\n",
       "      <td>Office of Budget, Finance and Award Management...</td>\n",
       "      <td>grid.457758.c</td>\n",
       "    </tr>\n",
       "    <tr>\n",
       "      <th>21</th>\n",
       "      <td>Funder</td>\n",
       "      <td>NSF-mine</td>\n",
       "      <td>Office of Information and Resource Management ...</td>\n",
       "      <td>grid.457907.8</td>\n",
       "    </tr>\n",
       "    <tr>\n",
       "      <th>22</th>\n",
       "      <td>Funder</td>\n",
       "      <td>NSF-mine</td>\n",
       "      <td>Office of Inspector General (OIG)</td>\n",
       "      <td>grid.473792.c</td>\n",
       "    </tr>\n",
       "    <tr>\n",
       "      <th>23</th>\n",
       "      <td>Funder</td>\n",
       "      <td>NSF-mine</td>\n",
       "      <td>Office of Polar Programs (NSF PLR)</td>\n",
       "      <td>grid.457846.c</td>\n",
       "    </tr>\n",
       "    <tr>\n",
       "      <th>24</th>\n",
       "      <td>Funder</td>\n",
       "      <td>NSF-mine</td>\n",
       "      <td>Office of the Director (NSF OD)</td>\n",
       "      <td>grid.457898.f</td>\n",
       "    </tr>\n",
       "  </tbody>\n",
       "</table>\n",
       "</div>"
      ],
      "text/plain": [
       "   Filter type     Group                                               Name  \\\n",
       "0       Funder  NSF-mine      Directorate for Biological Sciences (NSF BIO)   \n",
       "1       Funder  NSF-mine  Directorate for Computer & Information Science...   \n",
       "2       Funder  NSF-mine  Directorate for Education & Human Resources (N...   \n",
       "3       Funder  NSF-mine              Directorate for Engineering (NSF ENG)   \n",
       "4       Funder  NSF-mine              Directorate for Geosciences (NSF GEO)   \n",
       "5       Funder  NSF-mine  Directorate for Mathematical & Physical Scienc...   \n",
       "6       Funder  NSF-mine  Directorate for Social, Behavioral & Economic ...   \n",
       "7       Funder  NSF-mine  Division of Advanced Cyberinfrastructure (NSF ...   \n",
       "8       Funder  NSF-mine  Division of Chemical, Bioengineering, Environm...   \n",
       "9       Funder  NSF-mine  Division of Civil, Mechanical & Manufacturing ...   \n",
       "10      Funder  NSF-mine               Division of Earth Sciences (NSF EAR)   \n",
       "11      Funder  NSF-mine  Division of Engineering Education & Centers (N...   \n",
       "12      Funder  NSF-mine        Division of Environmental Biology (NSF DEB)   \n",
       "13      Funder  NSF-mine           Division of Graduate Education (NSF DGE)   \n",
       "14      Funder  NSF-mine           Division of Materials Research (NSF DMR)   \n",
       "15      Funder  NSF-mine        Division of Mathematical Sciences (NSF DMS)   \n",
       "16      Funder  NSF-mine               Division of Ocean Sciences (NSF OCE)   \n",
       "17      Funder  NSF-mine  Division of Social and Economic Sciences (NSF ...   \n",
       "18      Funder  NSF-mine                   National Science Board (NSF NSB)   \n",
       "19      Funder  NSF-mine                  National Science Foundation (NSF)   \n",
       "20      Funder  NSF-mine  Office of Budget, Finance and Award Management...   \n",
       "21      Funder  NSF-mine  Office of Information and Resource Management ...   \n",
       "22      Funder  NSF-mine                  Office of Inspector General (OIG)   \n",
       "23      Funder  NSF-mine                 Office of Polar Programs (NSF PLR)   \n",
       "24      Funder  NSF-mine                    Office of the Director (NSF OD)   \n",
       "\n",
       "               ID  \n",
       "0   grid.457768.f  \n",
       "1   grid.457785.c  \n",
       "2   grid.457799.1  \n",
       "3   grid.457810.f  \n",
       "4   grid.457836.b  \n",
       "5   grid.457875.c  \n",
       "6   grid.457916.8  \n",
       "7   grid.457789.0  \n",
       "8   grid.457813.c  \n",
       "9   grid.457814.b  \n",
       "10  grid.457842.8  \n",
       "11  grid.457821.d  \n",
       "12  grid.457772.4  \n",
       "13  grid.457801.f  \n",
       "14  grid.457891.6  \n",
       "15  grid.457892.5  \n",
       "16  grid.457845.f  \n",
       "17  grid.457922.f  \n",
       "18  grid.457896.1  \n",
       "19  grid.431093.c  \n",
       "20  grid.457758.c  \n",
       "21  grid.457907.8  \n",
       "22  grid.473792.c  \n",
       "23  grid.457846.c  \n",
       "24  grid.457898.f  "
      ]
     },
     "execution_count": 162,
     "metadata": {},
     "output_type": "execute_result"
    }
   ],
   "source": [
    "# load a CSV containing funder group infos, exported from Dimensions\n",
    "\n",
    "pd.read_csv(\"Dimensions-My-groups-2021-04-07_08-05-49.csv\")"
   ]
  },
  {
   "cell_type": "markdown",
   "metadata": {
    "Collapsed": "false"
   },
   "source": [
    "Let's get the GRID IDs for the NSF and put them into a Python list.\n",
    "\n",
    "Then we can generate queries programmatically using this list. \n",
    "\n",
    "> For more background on this topic, see the [Working with lists in the Dimensions API](https://api-lab.dimensions.ai/cookbooks/1-getting-started/6-Working-with-lists.html) tutorial."
   ]
  },
  {
   "cell_type": "code",
   "execution_count": 163,
   "metadata": {
    "Collapsed": "false"
   },
   "outputs": [],
   "source": [
    "nsfgrids = pd.read_csv(\"Dimensions-My-groups-2021-04-07_08-05-49.csv\")['ID'].to_list()"
   ]
  },
  {
   "cell_type": "markdown",
   "metadata": {
    "Collapsed": "false"
   },
   "source": [
    "How many grants from the NSF? \n",
    "\n",
    "The total number of results should match [what you see in Dimensions](https://app.dimensions.ai/discover/publication?and_facet_funder_shared_group_facet=574603a4-0c27-4844-9f74-7e6810e25cfb).\n"
   ]
  },
  {
   "cell_type": "code",
   "execution_count": 166,
   "metadata": {
    "Collapsed": "false"
   },
   "outputs": [
    {
     "name": "stdout",
     "output_type": "stream",
     "text": [
      "\n",
      "search grants \n",
      "    where funders.id in [\"grid.457768.f\", \"grid.457785.c\", \"grid.457799.1\", \"grid.457810.f\", \"grid.457836.b\", \"grid.457875.c\", \"grid.457916.8\", \"grid.457789.0\", \"grid.457813.c\", \"grid.457814.b\", \"grid.457842.8\", \"grid.457821.d\", \"grid.457772.4\", \"grid.457801.f\", \"grid.457891.6\", \"grid.457892.5\", \"grid.457845.f\", \"grid.457922.f\", \"grid.457896.1\", \"grid.431093.c\", \"grid.457758.c\", \"grid.457907.8\", \"grid.473792.c\", \"grid.457846.c\", \"grid.457898.f\"]\n",
      "return grants[id+title]\n",
      "\n",
      "Returned Grants: 20 (total = 532277)\n",
      "\u001b[2mTime: 0.55s\u001b[0m\n"
     ]
    },
    {
     "data": {
      "text/html": [
       "<div>\n",
       "<style scoped>\n",
       "    .dataframe tbody tr th:only-of-type {\n",
       "        vertical-align: middle;\n",
       "    }\n",
       "\n",
       "    .dataframe tbody tr th {\n",
       "        vertical-align: top;\n",
       "    }\n",
       "\n",
       "    .dataframe thead th {\n",
       "        text-align: right;\n",
       "    }\n",
       "</style>\n",
       "<table border=\"1\" class=\"dataframe\">\n",
       "  <thead>\n",
       "    <tr style=\"text-align: right;\">\n",
       "      <th></th>\n",
       "      <th>id</th>\n",
       "      <th>title</th>\n",
       "    </tr>\n",
       "  </thead>\n",
       "  <tbody>\n",
       "    <tr>\n",
       "      <th>0</th>\n",
       "      <td>grant.9606016</td>\n",
       "      <td>REU Site: The Stressed Life of Cells</td>\n",
       "    </tr>\n",
       "    <tr>\n",
       "      <th>1</th>\n",
       "      <td>grant.9605752</td>\n",
       "      <td>CAREER: Sculpting light in biological tissue: ...</td>\n",
       "    </tr>\n",
       "    <tr>\n",
       "      <th>2</th>\n",
       "      <td>grant.9605878</td>\n",
       "      <td>CAREER: Achieving Real-Time Machine Learning w...</td>\n",
       "    </tr>\n",
       "    <tr>\n",
       "      <th>3</th>\n",
       "      <td>grant.9605613</td>\n",
       "      <td>FAI: Quantifying and Mitigating Disparities in...</td>\n",
       "    </tr>\n",
       "    <tr>\n",
       "      <th>4</th>\n",
       "      <td>grant.9605932</td>\n",
       "      <td>Doctoral Dissertation Research: Innovating Hou...</td>\n",
       "    </tr>\n",
       "    <tr>\n",
       "      <th>5</th>\n",
       "      <td>grant.9606024</td>\n",
       "      <td>SaTC: CORE: Small: Automatic Exploits Detectio...</td>\n",
       "    </tr>\n",
       "    <tr>\n",
       "      <th>6</th>\n",
       "      <td>grant.9606076</td>\n",
       "      <td>CRII: CIF: Machine Learning Based Equalization...</td>\n",
       "    </tr>\n",
       "    <tr>\n",
       "      <th>7</th>\n",
       "      <td>grant.9398792</td>\n",
       "      <td>SWIFT: SMALL: Interference Canceling for Impro...</td>\n",
       "    </tr>\n",
       "    <tr>\n",
       "      <th>8</th>\n",
       "      <td>grant.9522805</td>\n",
       "      <td>CAREER: Innovative Technology for Mass Timber ...</td>\n",
       "    </tr>\n",
       "    <tr>\n",
       "      <th>9</th>\n",
       "      <td>grant.9549632</td>\n",
       "      <td>CAREER: Leveraging Signal Structure for Cost-S...</td>\n",
       "    </tr>\n",
       "    <tr>\n",
       "      <th>10</th>\n",
       "      <td>grant.9522707</td>\n",
       "      <td>CAREER: Tubularenes: A Novel Class of Conjugat...</td>\n",
       "    </tr>\n",
       "    <tr>\n",
       "      <th>11</th>\n",
       "      <td>grant.9605683</td>\n",
       "      <td>Doctoral Dissertation Research: Risky Homes, D...</td>\n",
       "    </tr>\n",
       "    <tr>\n",
       "      <th>12</th>\n",
       "      <td>grant.9522700</td>\n",
       "      <td>CAREER: Peatland Geomorphology: Quantifying Ge...</td>\n",
       "    </tr>\n",
       "    <tr>\n",
       "      <th>13</th>\n",
       "      <td>grant.9605648</td>\n",
       "      <td>CAREER: Partial Differential Equation and Rand...</td>\n",
       "    </tr>\n",
       "    <tr>\n",
       "      <th>14</th>\n",
       "      <td>grant.9605684</td>\n",
       "      <td>Doctoral Dissertation Improvement Grant. Fluid...</td>\n",
       "    </tr>\n",
       "    <tr>\n",
       "      <th>15</th>\n",
       "      <td>grant.9605718</td>\n",
       "      <td>CAREER: Properties of Solutions to Singular St...</td>\n",
       "    </tr>\n",
       "    <tr>\n",
       "      <th>16</th>\n",
       "      <td>grant.9605794</td>\n",
       "      <td>CAREER: Mechanical Mechanisms of Biofilm Survi...</td>\n",
       "    </tr>\n",
       "    <tr>\n",
       "      <th>17</th>\n",
       "      <td>grant.9605747</td>\n",
       "      <td>CAREER: Extrapolation Methods for Matrix and T...</td>\n",
       "    </tr>\n",
       "    <tr>\n",
       "      <th>18</th>\n",
       "      <td>grant.9522810</td>\n",
       "      <td>CAREER: Understanding degradation mechanisms i...</td>\n",
       "    </tr>\n",
       "    <tr>\n",
       "      <th>19</th>\n",
       "      <td>grant.9605835</td>\n",
       "      <td>CAREER: Quantum Size Effects on Thermal Radiation</td>\n",
       "    </tr>\n",
       "  </tbody>\n",
       "</table>\n",
       "</div>"
      ],
      "text/plain": [
       "               id                                              title\n",
       "0   grant.9606016               REU Site: The Stressed Life of Cells\n",
       "1   grant.9605752  CAREER: Sculpting light in biological tissue: ...\n",
       "2   grant.9605878  CAREER: Achieving Real-Time Machine Learning w...\n",
       "3   grant.9605613  FAI: Quantifying and Mitigating Disparities in...\n",
       "4   grant.9605932  Doctoral Dissertation Research: Innovating Hou...\n",
       "5   grant.9606024  SaTC: CORE: Small: Automatic Exploits Detectio...\n",
       "6   grant.9606076  CRII: CIF: Machine Learning Based Equalization...\n",
       "7   grant.9398792  SWIFT: SMALL: Interference Canceling for Impro...\n",
       "8   grant.9522805  CAREER: Innovative Technology for Mass Timber ...\n",
       "9   grant.9549632  CAREER: Leveraging Signal Structure for Cost-S...\n",
       "10  grant.9522707  CAREER: Tubularenes: A Novel Class of Conjugat...\n",
       "11  grant.9605683  Doctoral Dissertation Research: Risky Homes, D...\n",
       "12  grant.9522700  CAREER: Peatland Geomorphology: Quantifying Ge...\n",
       "13  grant.9605648  CAREER: Partial Differential Equation and Rand...\n",
       "14  grant.9605684  Doctoral Dissertation Improvement Grant. Fluid...\n",
       "15  grant.9605718  CAREER: Properties of Solutions to Singular St...\n",
       "16  grant.9605794  CAREER: Mechanical Mechanisms of Biofilm Survi...\n",
       "17  grant.9605747  CAREER: Extrapolation Methods for Matrix and T...\n",
       "18  grant.9522810  CAREER: Understanding degradation mechanisms i...\n",
       "19  grant.9605835  CAREER: Quantum Size Effects on Thermal Radiation"
      ]
     },
     "execution_count": 166,
     "metadata": {},
     "output_type": "execute_result"
    }
   ],
   "source": [
    "import json\n",
    "\n",
    "query = f\"\"\"\n",
    "search grants \n",
    "    where funders.id in {json.dumps(nsfgrids)}\n",
    "return grants[id+title]\n",
    "\"\"\"\n",
    "\n",
    "print(query)\n",
    "\n",
    "grants = dsl.query(query)\n",
    "grants.as_dataframe()"
   ]
  },
  {
   "cell_type": "markdown",
   "metadata": {
    "Collapsed": "false"
   },
   "source": [
    "### 1.5 From grants to other entities: the links available"
   ]
  },
  {
   "cell_type": "code",
   "execution_count": 88,
   "metadata": {
    "Collapsed": "false"
   },
   "outputs": [
    {
     "data": {
      "text/html": [
       "<img src=\"https://docs.dimensions.ai/dsl/_images/data-model-overview-1.png\" width=\"1000\"/>"
      ],
      "text/plain": [
       "<IPython.core.display.Image object>"
      ]
     },
     "execution_count": 88,
     "metadata": {},
     "output_type": "execute_result"
    }
   ],
   "source": [
    "Image(url= \"https://docs.dimensions.ai/dsl/_images/data-model-overview-1.png\", width=1000)"
   ]
  },
  {
   "cell_type": "code",
   "execution_count": 149,
   "metadata": {
    "Collapsed": "false"
   },
   "outputs": [
    {
     "data": {
      "text/html": [
       "<img src=\"https://docs.dimensions.ai/dsl/_images/data-model-grants.png\" width=\"1000\"/>"
      ],
      "text/plain": [
       "<IPython.core.display.Image object>"
      ]
     },
     "execution_count": 149,
     "metadata": {},
     "output_type": "execute_result"
    }
   ],
   "source": [
    "Image(url= \"https://docs.dimensions.ai/dsl/_images/data-model-grants.png\", width=1000)"
   ]
  },
  {
   "cell_type": "markdown",
   "metadata": {
    "Collapsed": "false"
   },
   "source": [
    "## 2. Getting publications from Grants\n"
   ]
  },
  {
   "cell_type": "markdown",
   "metadata": {
    "Collapsed": "false"
   },
   "source": [
    "### 2.1 Starting from Dimensions grant IDs\n",
    "\n",
    "First let's retrieve a sample set of NSF grants from Dimensions"
   ]
  },
  {
   "cell_type": "code",
   "execution_count": 99,
   "metadata": {
    "Collapsed": "false"
   },
   "outputs": [
    {
     "name": "stdout",
     "output_type": "stream",
     "text": [
      "Returned Grants: 20 (total = 143)\n",
      "\u001b[2mTime: 0.75s\u001b[0m\n"
     ]
    },
    {
     "data": {
      "text/html": [
       "<div>\n",
       "<style scoped>\n",
       "    .dataframe tbody tr th:only-of-type {\n",
       "        vertical-align: middle;\n",
       "    }\n",
       "\n",
       "    .dataframe tbody tr th {\n",
       "        vertical-align: top;\n",
       "    }\n",
       "\n",
       "    .dataframe thead th {\n",
       "        text-align: right;\n",
       "    }\n",
       "</style>\n",
       "<table border=\"1\" class=\"dataframe\">\n",
       "  <thead>\n",
       "    <tr style=\"text-align: right;\">\n",
       "      <th></th>\n",
       "      <th>id</th>\n",
       "      <th>title</th>\n",
       "    </tr>\n",
       "  </thead>\n",
       "  <tbody>\n",
       "    <tr>\n",
       "      <th>0</th>\n",
       "      <td>grant.7874106</td>\n",
       "      <td>Enabling Quantum Leap: Convergent Approach to ...</td>\n",
       "    </tr>\n",
       "    <tr>\n",
       "      <th>1</th>\n",
       "      <td>grant.7672698</td>\n",
       "      <td>EAGER: Enabling Quantum Leap: Topological Nano...</td>\n",
       "    </tr>\n",
       "    <tr>\n",
       "      <th>2</th>\n",
       "      <td>grant.7733433</td>\n",
       "      <td>RAISE: TAQS: Engineering high quality, practic...</td>\n",
       "    </tr>\n",
       "    <tr>\n",
       "      <th>3</th>\n",
       "      <td>grant.7705359</td>\n",
       "      <td>MRI: Acquisition of a High Performance Compute...</td>\n",
       "    </tr>\n",
       "    <tr>\n",
       "      <th>4</th>\n",
       "      <td>grant.7734719</td>\n",
       "      <td>Collaborative Research: Atomic Displacement En...</td>\n",
       "    </tr>\n",
       "    <tr>\n",
       "      <th>5</th>\n",
       "      <td>grant.7734848</td>\n",
       "      <td>Collaborative Research: Atomic Displacement En...</td>\n",
       "    </tr>\n",
       "    <tr>\n",
       "      <th>6</th>\n",
       "      <td>grant.7672619</td>\n",
       "      <td>QLC: EAGER: Harnessing molecular conformationa...</td>\n",
       "    </tr>\n",
       "    <tr>\n",
       "      <th>7</th>\n",
       "      <td>grant.7703303</td>\n",
       "      <td>Photoresponsive Vinyl Azide Crystals</td>\n",
       "    </tr>\n",
       "    <tr>\n",
       "      <th>8</th>\n",
       "      <td>grant.7706507</td>\n",
       "      <td>First-Principles Design of Charged Defects for...</td>\n",
       "    </tr>\n",
       "    <tr>\n",
       "      <th>9</th>\n",
       "      <td>grant.7672113</td>\n",
       "      <td>EAGER: Enabling Quantum Leap: Room-temperature...</td>\n",
       "    </tr>\n",
       "    <tr>\n",
       "      <th>10</th>\n",
       "      <td>grant.7704662</td>\n",
       "      <td>PFCQC: STAQ: Software-Tailored Architecture fo...</td>\n",
       "    </tr>\n",
       "    <tr>\n",
       "      <th>11</th>\n",
       "      <td>grant.7425335</td>\n",
       "      <td>CAREER: Scalable Manufacturing of Two-dimensio...</td>\n",
       "    </tr>\n",
       "    <tr>\n",
       "      <th>12</th>\n",
       "      <td>grant.7672647</td>\n",
       "      <td>EAGER: Enabling Quantum Leap: Organic Magnonic...</td>\n",
       "    </tr>\n",
       "    <tr>\n",
       "      <th>13</th>\n",
       "      <td>grant.7672703</td>\n",
       "      <td>EAGER: Enabling Quantum Leap: Towards Room Tem...</td>\n",
       "    </tr>\n",
       "    <tr>\n",
       "      <th>14</th>\n",
       "      <td>grant.7672694</td>\n",
       "      <td>EAGER: Enabling Quantum Leap: Scalable, Contro...</td>\n",
       "    </tr>\n",
       "    <tr>\n",
       "      <th>15</th>\n",
       "      <td>grant.7672697</td>\n",
       "      <td>EAGER: Enabling Quantum Leap: Temperature depe...</td>\n",
       "    </tr>\n",
       "    <tr>\n",
       "      <th>16</th>\n",
       "      <td>grant.7672671</td>\n",
       "      <td>EAGER: Enabling Quantum Leap: Manipulating pol...</td>\n",
       "    </tr>\n",
       "    <tr>\n",
       "      <th>17</th>\n",
       "      <td>grant.7672681</td>\n",
       "      <td>EAGER: Enabling Quantum Leap: Towards Room Tem...</td>\n",
       "    </tr>\n",
       "    <tr>\n",
       "      <th>18</th>\n",
       "      <td>grant.7672692</td>\n",
       "      <td>EAGER: Enabling Quantum Leap: 2D metal oxides ...</td>\n",
       "    </tr>\n",
       "    <tr>\n",
       "      <th>19</th>\n",
       "      <td>grant.7672699</td>\n",
       "      <td>EAGER: Enabling Quantum Leap: Driven Non-Equil...</td>\n",
       "    </tr>\n",
       "  </tbody>\n",
       "</table>\n",
       "</div>"
      ],
      "text/plain": [
       "               id                                              title\n",
       "0   grant.7874106  Enabling Quantum Leap: Convergent Approach to ...\n",
       "1   grant.7672698  EAGER: Enabling Quantum Leap: Topological Nano...\n",
       "2   grant.7733433  RAISE: TAQS: Engineering high quality, practic...\n",
       "3   grant.7705359  MRI: Acquisition of a High Performance Compute...\n",
       "4   grant.7734719  Collaborative Research: Atomic Displacement En...\n",
       "5   grant.7734848  Collaborative Research: Atomic Displacement En...\n",
       "6   grant.7672619  QLC: EAGER: Harnessing molecular conformationa...\n",
       "7   grant.7703303               Photoresponsive Vinyl Azide Crystals\n",
       "8   grant.7706507  First-Principles Design of Charged Defects for...\n",
       "9   grant.7672113  EAGER: Enabling Quantum Leap: Room-temperature...\n",
       "10  grant.7704662  PFCQC: STAQ: Software-Tailored Architecture fo...\n",
       "11  grant.7425335  CAREER: Scalable Manufacturing of Two-dimensio...\n",
       "12  grant.7672647  EAGER: Enabling Quantum Leap: Organic Magnonic...\n",
       "13  grant.7672703  EAGER: Enabling Quantum Leap: Towards Room Tem...\n",
       "14  grant.7672694  EAGER: Enabling Quantum Leap: Scalable, Contro...\n",
       "15  grant.7672697  EAGER: Enabling Quantum Leap: Temperature depe...\n",
       "16  grant.7672671  EAGER: Enabling Quantum Leap: Manipulating pol...\n",
       "17  grant.7672681  EAGER: Enabling Quantum Leap: Towards Room Tem...\n",
       "18  grant.7672692  EAGER: Enabling Quantum Leap: 2D metal oxides ...\n",
       "19  grant.7672699  EAGER: Enabling Quantum Leap: Driven Non-Equil..."
      ]
     },
     "execution_count": 99,
     "metadata": {},
     "output_type": "execute_result"
    }
   ],
   "source": [
    "\n",
    "query = f\"\"\"\n",
    "search grants \n",
    "    for \"quantum leap\" \n",
    "    where funders.id in {json.dumps(nsfgrids)}\n",
    "    and active_year <= 2018 \n",
    "return grants[id+title]\n",
    "\"\"\"\n",
    "\n",
    "grants = dsl.query(query)\n",
    "grants.as_dataframe()\n"
   ]
  },
  {
   "cell_type": "markdown",
   "metadata": {
    "Collapsed": "false"
   },
   "source": [
    "Now we can use the IDs to retrieve all resulting publications.\n",
    "\n",
    "NOTE: the direction of the search is from publications to grants, using the `supporting_grant_ids` field.\n"
   ]
  },
  {
   "cell_type": "code",
   "execution_count": 100,
   "metadata": {
    "Collapsed": "false"
   },
   "outputs": [
    {
     "name": "stdout",
     "output_type": "stream",
     "text": [
      "Returned Publications: 20 (total = 113)\n",
      "\u001b[2mTime: 0.60s\u001b[0m\n"
     ]
    },
    {
     "data": {
      "text/html": [
       "<div>\n",
       "<style scoped>\n",
       "    .dataframe tbody tr th:only-of-type {\n",
       "        vertical-align: middle;\n",
       "    }\n",
       "\n",
       "    .dataframe tbody tr th {\n",
       "        vertical-align: top;\n",
       "    }\n",
       "\n",
       "    .dataframe thead th {\n",
       "        text-align: right;\n",
       "    }\n",
       "</style>\n",
       "<table border=\"1\" class=\"dataframe\">\n",
       "  <thead>\n",
       "    <tr style=\"text-align: right;\">\n",
       "      <th></th>\n",
       "      <th>year</th>\n",
       "      <th>supporting_grant_ids</th>\n",
       "      <th>doi</th>\n",
       "      <th>title</th>\n",
       "    </tr>\n",
       "  </thead>\n",
       "  <tbody>\n",
       "    <tr>\n",
       "      <th>0</th>\n",
       "      <td>2021</td>\n",
       "      <td>[grant.7704662]</td>\n",
       "      <td>10.1016/j.nuclphysb.2021.115373</td>\n",
       "      <td>Universal entanglement of mid-spectrum eigenst...</td>\n",
       "    </tr>\n",
       "    <tr>\n",
       "      <th>1</th>\n",
       "      <td>2021</td>\n",
       "      <td>[grant.7704662]</td>\n",
       "      <td>10.1038/s41578-021-00292-1</td>\n",
       "      <td>Materials challenges for trapped-ion quantum c...</td>\n",
       "    </tr>\n",
       "    <tr>\n",
       "      <th>2</th>\n",
       "      <td>2021</td>\n",
       "      <td>[grant.8659303, grant.7672113]</td>\n",
       "      <td>10.1021/acs.nanolett.0c04282</td>\n",
       "      <td>Site-Controlled Quantum Emitters in Monolayer ...</td>\n",
       "    </tr>\n",
       "    <tr>\n",
       "      <th>3</th>\n",
       "      <td>2021</td>\n",
       "      <td>[grant.7704662, grant.5544205, grant.8541793]</td>\n",
       "      <td>10.1103/physrevlett.126.090505</td>\n",
       "      <td>Quantum Computational Advantage with String Or...</td>\n",
       "    </tr>\n",
       "    <tr>\n",
       "      <th>4</th>\n",
       "      <td>2021</td>\n",
       "      <td>[grant.8541353, grant.7705359, grant.3142576]</td>\n",
       "      <td>10.3847/1538-4357/abd859</td>\n",
       "      <td>On the Origin of Solar Hemispherical Helicity ...</td>\n",
       "    </tr>\n",
       "    <tr>\n",
       "      <th>5</th>\n",
       "      <td>2021</td>\n",
       "      <td>[grant.7706507]</td>\n",
       "      <td>10.1088/1361-648x/abeacf</td>\n",
       "      <td>Substrate Effect on Excitonic Shift and Radiat...</td>\n",
       "    </tr>\n",
       "    <tr>\n",
       "      <th>6</th>\n",
       "      <td>2021</td>\n",
       "      <td>[grant.7425335]</td>\n",
       "      <td>10.1016/j.apsusc.2020.148461</td>\n",
       "      <td>First-principles studies of MoF6 absorption on...</td>\n",
       "    </tr>\n",
       "    <tr>\n",
       "      <th>7</th>\n",
       "      <td>2021</td>\n",
       "      <td>[grant.7070570, grant.8522863, grant.9046815, ...</td>\n",
       "      <td>10.1021/acs.jpca.0c08953</td>\n",
       "      <td>From Incident Light to Persistent and Regenera...</td>\n",
       "    </tr>\n",
       "    <tr>\n",
       "      <th>8</th>\n",
       "      <td>2021</td>\n",
       "      <td>[grant.7704662, grant.7438079, grant.3982512]</td>\n",
       "      <td>10.1145/3436752</td>\n",
       "      <td>Using Spectral Graph Theory to Map Qubits onto...</td>\n",
       "    </tr>\n",
       "    <tr>\n",
       "      <th>9</th>\n",
       "      <td>2021</td>\n",
       "      <td>[grant.7705359]</td>\n",
       "      <td>10.1016/j.jcp.2020.110063</td>\n",
       "      <td>A single-step third-order temporal discretizat...</td>\n",
       "    </tr>\n",
       "    <tr>\n",
       "      <th>10</th>\n",
       "      <td>2021</td>\n",
       "      <td>[grant.9215151, grant.8119520, grant.9382059, ...</td>\n",
       "      <td>10.1093/mnras/stab189</td>\n",
       "      <td>On the halo-mass and radial scale dependence o...</td>\n",
       "    </tr>\n",
       "    <tr>\n",
       "      <th>11</th>\n",
       "      <td>2021</td>\n",
       "      <td>[grant.7734848]</td>\n",
       "      <td>10.1063/5.0034572</td>\n",
       "      <td>Imaging of surface acoustic waves on GaAs usin...</td>\n",
       "    </tr>\n",
       "    <tr>\n",
       "      <th>12</th>\n",
       "      <td>2021</td>\n",
       "      <td>[grant.6503869, grant.7733433, grant.7926858]</td>\n",
       "      <td>10.1103/physrevapplied.15.014043</td>\n",
       "      <td>Anapole Tolerance to Dissipation Losses in The...</td>\n",
       "    </tr>\n",
       "    <tr>\n",
       "      <th>13</th>\n",
       "      <td>2021</td>\n",
       "      <td>[grant.7672703]</td>\n",
       "      <td>10.1103/physrevb.103.l020301</td>\n",
       "      <td>Nanosecond dynamics in intrinsic topological i...</td>\n",
       "    </tr>\n",
       "    <tr>\n",
       "      <th>14</th>\n",
       "      <td>2021</td>\n",
       "      <td>[grant.3982512, grant.7438079, grant.7704662]</td>\n",
       "      <td>10.1103/physreva.103.l010202</td>\n",
       "      <td>Nonlinear Bell inequality for macroscopic meas...</td>\n",
       "    </tr>\n",
       "    <tr>\n",
       "      <th>15</th>\n",
       "      <td>2020</td>\n",
       "      <td>[grant.7704662]</td>\n",
       "      <td>10.1088/2633-1357/abd1e2</td>\n",
       "      <td>Dynamics of Rényi entanglement entropy in diff...</td>\n",
       "    </tr>\n",
       "    <tr>\n",
       "      <th>16</th>\n",
       "      <td>2020</td>\n",
       "      <td>[grant.7703303, grant.9046485]</td>\n",
       "      <td>10.1021/acs.inorgchem.0c02938</td>\n",
       "      <td>Visible Light Absorption and Long-Lived Excite...</td>\n",
       "    </tr>\n",
       "    <tr>\n",
       "      <th>17</th>\n",
       "      <td>2020</td>\n",
       "      <td>[grant.7704662]</td>\n",
       "      <td>10.1145/3406309</td>\n",
       "      <td>Improved Quantum Circuits via Intermediate Qut...</td>\n",
       "    </tr>\n",
       "    <tr>\n",
       "      <th>18</th>\n",
       "      <td>2020</td>\n",
       "      <td>[grant.6935840, grant.5126526, grant.7672681, ...</td>\n",
       "      <td>10.1021/acs.jpcc.0c06544</td>\n",
       "      <td>Coupled 2D Semiconductor–Molecular Excitons wi...</td>\n",
       "    </tr>\n",
       "    <tr>\n",
       "      <th>19</th>\n",
       "      <td>2020</td>\n",
       "      <td>[grant.7706267, grant.7438690, grant.7705359, ...</td>\n",
       "      <td>10.1016/j.dark.2020.100719</td>\n",
       "      <td>Deep+ wide lensing surveys can measure the dar...</td>\n",
       "    </tr>\n",
       "  </tbody>\n",
       "</table>\n",
       "</div>"
      ],
      "text/plain": [
       "    year                               supporting_grant_ids  \\\n",
       "0   2021                                    [grant.7704662]   \n",
       "1   2021                                    [grant.7704662]   \n",
       "2   2021                     [grant.8659303, grant.7672113]   \n",
       "3   2021      [grant.7704662, grant.5544205, grant.8541793]   \n",
       "4   2021      [grant.8541353, grant.7705359, grant.3142576]   \n",
       "5   2021                                    [grant.7706507]   \n",
       "6   2021                                    [grant.7425335]   \n",
       "7   2021  [grant.7070570, grant.8522863, grant.9046815, ...   \n",
       "8   2021      [grant.7704662, grant.7438079, grant.3982512]   \n",
       "9   2021                                    [grant.7705359]   \n",
       "10  2021  [grant.9215151, grant.8119520, grant.9382059, ...   \n",
       "11  2021                                    [grant.7734848]   \n",
       "12  2021      [grant.6503869, grant.7733433, grant.7926858]   \n",
       "13  2021                                    [grant.7672703]   \n",
       "14  2021      [grant.3982512, grant.7438079, grant.7704662]   \n",
       "15  2020                                    [grant.7704662]   \n",
       "16  2020                     [grant.7703303, grant.9046485]   \n",
       "17  2020                                    [grant.7704662]   \n",
       "18  2020  [grant.6935840, grant.5126526, grant.7672681, ...   \n",
       "19  2020  [grant.7706267, grant.7438690, grant.7705359, ...   \n",
       "\n",
       "                                 doi  \\\n",
       "0    10.1016/j.nuclphysb.2021.115373   \n",
       "1         10.1038/s41578-021-00292-1   \n",
       "2       10.1021/acs.nanolett.0c04282   \n",
       "3     10.1103/physrevlett.126.090505   \n",
       "4           10.3847/1538-4357/abd859   \n",
       "5           10.1088/1361-648x/abeacf   \n",
       "6       10.1016/j.apsusc.2020.148461   \n",
       "7           10.1021/acs.jpca.0c08953   \n",
       "8                    10.1145/3436752   \n",
       "9          10.1016/j.jcp.2020.110063   \n",
       "10             10.1093/mnras/stab189   \n",
       "11                 10.1063/5.0034572   \n",
       "12  10.1103/physrevapplied.15.014043   \n",
       "13      10.1103/physrevb.103.l020301   \n",
       "14      10.1103/physreva.103.l010202   \n",
       "15          10.1088/2633-1357/abd1e2   \n",
       "16     10.1021/acs.inorgchem.0c02938   \n",
       "17                   10.1145/3406309   \n",
       "18          10.1021/acs.jpcc.0c06544   \n",
       "19        10.1016/j.dark.2020.100719   \n",
       "\n",
       "                                                title  \n",
       "0   Universal entanglement of mid-spectrum eigenst...  \n",
       "1   Materials challenges for trapped-ion quantum c...  \n",
       "2   Site-Controlled Quantum Emitters in Monolayer ...  \n",
       "3   Quantum Computational Advantage with String Or...  \n",
       "4   On the Origin of Solar Hemispherical Helicity ...  \n",
       "5   Substrate Effect on Excitonic Shift and Radiat...  \n",
       "6   First-principles studies of MoF6 absorption on...  \n",
       "7   From Incident Light to Persistent and Regenera...  \n",
       "8   Using Spectral Graph Theory to Map Qubits onto...  \n",
       "9   A single-step third-order temporal discretizat...  \n",
       "10  On the halo-mass and radial scale dependence o...  \n",
       "11  Imaging of surface acoustic waves on GaAs usin...  \n",
       "12  Anapole Tolerance to Dissipation Losses in The...  \n",
       "13  Nanosecond dynamics in intrinsic topological i...  \n",
       "14  Nonlinear Bell inequality for macroscopic meas...  \n",
       "15  Dynamics of Rényi entanglement entropy in diff...  \n",
       "16  Visible Light Absorption and Long-Lived Excite...  \n",
       "17  Improved Quantum Circuits via Intermediate Qut...  \n",
       "18  Coupled 2D Semiconductor–Molecular Excitons wi...  \n",
       "19  Deep+ wide lensing surveys can measure the dar...  "
      ]
     },
     "execution_count": 100,
     "metadata": {},
     "output_type": "execute_result"
    }
   ],
   "source": [
    "grantids = grants.as_dataframe()['id'].to_list()\n",
    "\n",
    "query = f\"\"\"search publications\n",
    "          where supporting_grant_ids in {json.dumps(grantids)}\n",
    "       return publications[title+doi+year+supporting_grant_ids]\"\"\"\n",
    "\n",
    "pubs = dsl.query(query).as_dataframe()\n",
    "pubs\n"
   ]
  },
  {
   "cell_type": "markdown",
   "metadata": {
    "Collapsed": "false"
   },
   "source": [
    "### 2.2 Starting from funders IDs\n",
    "\n",
    "We can use the field `funders`,  since it is a direct link from Publications to Funder Organizations."
   ]
  },
  {
   "cell_type": "code",
   "execution_count": 109,
   "metadata": {
    "Collapsed": "false"
   },
   "outputs": [
    {
     "name": "stdout",
     "output_type": "stream",
     "text": [
      "Returned objects: 86 (total publications= 960)\n",
      "\u001b[2mTime: 0.64s\u001b[0m\n"
     ]
    },
    {
     "data": {
      "text/html": [
       "<div>\n",
       "<style scoped>\n",
       "    .dataframe tbody tr th:only-of-type {\n",
       "        vertical-align: middle;\n",
       "    }\n",
       "\n",
       "    .dataframe tbody tr th {\n",
       "        vertical-align: top;\n",
       "    }\n",
       "\n",
       "    .dataframe thead th {\n",
       "        text-align: right;\n",
       "    }\n",
       "</style>\n",
       "<table border=\"1\" class=\"dataframe\">\n",
       "  <thead>\n",
       "    <tr style=\"text-align: right;\">\n",
       "      <th></th>\n",
       "      <th>title</th>\n",
       "      <th>id</th>\n",
       "      <th>year</th>\n",
       "      <th>supporting_grant_ids</th>\n",
       "    </tr>\n",
       "  </thead>\n",
       "  <tbody>\n",
       "    <tr>\n",
       "      <th>0</th>\n",
       "      <td>Ordering effects on deformation substructures ...</td>\n",
       "      <td>pub.1136651843</td>\n",
       "      <td>2021</td>\n",
       "      <td>grant.8541247</td>\n",
       "    </tr>\n",
       "    <tr>\n",
       "      <th>1</th>\n",
       "      <td>Ordering effects on deformation substructures ...</td>\n",
       "      <td>pub.1136651843</td>\n",
       "      <td>2021</td>\n",
       "      <td>grant.3489473</td>\n",
       "    </tr>\n",
       "    <tr>\n",
       "      <th>2</th>\n",
       "      <td>Central vortex steady states and dynamics of B...</td>\n",
       "      <td>pub.1135145104</td>\n",
       "      <td>2021</td>\n",
       "      <td>grant.7070570</td>\n",
       "    </tr>\n",
       "    <tr>\n",
       "      <th>3</th>\n",
       "      <td>Central vortex steady states and dynamics of B...</td>\n",
       "      <td>pub.1135145104</td>\n",
       "      <td>2021</td>\n",
       "      <td>grant.9381488</td>\n",
       "    </tr>\n",
       "    <tr>\n",
       "      <th>4</th>\n",
       "      <td>Central vortex steady states and dynamics of B...</td>\n",
       "      <td>pub.1135145104</td>\n",
       "      <td>2021</td>\n",
       "      <td>grant.8132165</td>\n",
       "    </tr>\n",
       "    <tr>\n",
       "      <th>...</th>\n",
       "      <td>...</td>\n",
       "      <td>...</td>\n",
       "      <td>...</td>\n",
       "      <td>...</td>\n",
       "    </tr>\n",
       "    <tr>\n",
       "      <th>81</th>\n",
       "      <td>Early defect identification for micro light‐em...</td>\n",
       "      <td>pub.1135163727</td>\n",
       "      <td>2021</td>\n",
       "      <td>grant.8567538</td>\n",
       "    </tr>\n",
       "    <tr>\n",
       "      <th>82</th>\n",
       "      <td>Nucleon axial and pseudoscalar form factors fr...</td>\n",
       "      <td>pub.1135670031</td>\n",
       "      <td>2021</td>\n",
       "      <td>grant.8659119</td>\n",
       "    </tr>\n",
       "    <tr>\n",
       "      <th>83</th>\n",
       "      <td>Nucleon axial and pseudoscalar form factors fr...</td>\n",
       "      <td>pub.1135670031</td>\n",
       "      <td>2021</td>\n",
       "      <td>grant.6439196</td>\n",
       "    </tr>\n",
       "    <tr>\n",
       "      <th>84</th>\n",
       "      <td>Nucleon axial and pseudoscalar form factors fr...</td>\n",
       "      <td>pub.1135670031</td>\n",
       "      <td>2021</td>\n",
       "      <td>grant.7031622</td>\n",
       "    </tr>\n",
       "    <tr>\n",
       "      <th>85</th>\n",
       "      <td>Nucleon axial and pseudoscalar form factors fr...</td>\n",
       "      <td>pub.1135670031</td>\n",
       "      <td>2021</td>\n",
       "      <td>grant.3938644</td>\n",
       "    </tr>\n",
       "  </tbody>\n",
       "</table>\n",
       "<p>86 rows × 4 columns</p>\n",
       "</div>"
      ],
      "text/plain": [
       "                                                title              id  year  \\\n",
       "0   Ordering effects on deformation substructures ...  pub.1136651843  2021   \n",
       "1   Ordering effects on deformation substructures ...  pub.1136651843  2021   \n",
       "2   Central vortex steady states and dynamics of B...  pub.1135145104  2021   \n",
       "3   Central vortex steady states and dynamics of B...  pub.1135145104  2021   \n",
       "4   Central vortex steady states and dynamics of B...  pub.1135145104  2021   \n",
       "..                                                ...             ...   ...   \n",
       "81  Early defect identification for micro light‐em...  pub.1135163727  2021   \n",
       "82  Nucleon axial and pseudoscalar form factors fr...  pub.1135670031  2021   \n",
       "83  Nucleon axial and pseudoscalar form factors fr...  pub.1135670031  2021   \n",
       "84  Nucleon axial and pseudoscalar form factors fr...  pub.1135670031  2021   \n",
       "85  Nucleon axial and pseudoscalar form factors fr...  pub.1135670031  2021   \n",
       "\n",
       "   supporting_grant_ids  \n",
       "0         grant.8541247  \n",
       "1         grant.3489473  \n",
       "2         grant.7070570  \n",
       "3         grant.9381488  \n",
       "4         grant.8132165  \n",
       "..                  ...  \n",
       "81        grant.8567538  \n",
       "82        grant.8659119  \n",
       "83        grant.6439196  \n",
       "84        grant.7031622  \n",
       "85        grant.3938644  \n",
       "\n",
       "[86 rows x 4 columns]"
      ]
     },
     "execution_count": 109,
     "metadata": {},
     "output_type": "execute_result"
    }
   ],
   "source": [
    "query = f\"\"\"\n",
    "search publications \n",
    "    for \"quantum leap\" \n",
    "    where funders.id in {json.dumps(nsfgrids)}\n",
    "return publications[id+title+year+unnest(supporting_grant_ids)]\n",
    "\"\"\"\n",
    "\n",
    "pubs = dsl.query(query).as_dataframe()\n",
    "pubs"
   ]
  },
  {
   "cell_type": "markdown",
   "metadata": {
    "Collapsed": "false"
   },
   "source": [
    "Now we can retrieve the associated grants. \n",
    "\n",
    "\n"
   ]
  },
  {
   "cell_type": "code",
   "execution_count": 114,
   "metadata": {
    "Collapsed": "false"
   },
   "outputs": [
    {
     "name": "stdout",
     "output_type": "stream",
     "text": [
      "Returned Grants: 20 (total = 83)\n",
      "\u001b[2mTime: 0.92s\u001b[0m\n"
     ]
    },
    {
     "data": {
      "text/html": [
       "<div>\n",
       "<style scoped>\n",
       "    .dataframe tbody tr th:only-of-type {\n",
       "        vertical-align: middle;\n",
       "    }\n",
       "\n",
       "    .dataframe tbody tr th {\n",
       "        vertical-align: top;\n",
       "    }\n",
       "\n",
       "    .dataframe thead th {\n",
       "        text-align: right;\n",
       "    }\n",
       "</style>\n",
       "<table border=\"1\" class=\"dataframe\">\n",
       "  <thead>\n",
       "    <tr style=\"text-align: right;\">\n",
       "      <th></th>\n",
       "      <th>title</th>\n",
       "      <th>funders</th>\n",
       "      <th>id</th>\n",
       "    </tr>\n",
       "  </thead>\n",
       "  <tbody>\n",
       "    <tr>\n",
       "      <th>0</th>\n",
       "      <td>Collaborative Research: CIF: Medium: Security ...</td>\n",
       "      <td>[{'id': 'grid.457785.c', 'name': 'Directorate ...</td>\n",
       "      <td>grant.9381525</td>\n",
       "    </tr>\n",
       "    <tr>\n",
       "      <th>1</th>\n",
       "      <td>CNS Core: Small: Harnessing Wireless Actuation</td>\n",
       "      <td>[{'id': 'grid.457785.c', 'name': 'Directorate ...</td>\n",
       "      <td>grant.9397686</td>\n",
       "    </tr>\n",
       "    <tr>\n",
       "      <th>2</th>\n",
       "      <td>CIF: Small: Alpha Loss: A New Framework for Un...</td>\n",
       "      <td>[{'id': 'grid.457785.c', 'name': 'Directorate ...</td>\n",
       "      <td>grant.9397682</td>\n",
       "    </tr>\n",
       "    <tr>\n",
       "      <th>3</th>\n",
       "      <td>SWIFT: LARGE: Averting Wireless Spectrum Pollu...</td>\n",
       "      <td>[{'id': 'grid.457810.f', 'name': 'Directorate ...</td>\n",
       "      <td>grant.9398808</td>\n",
       "    </tr>\n",
       "    <tr>\n",
       "      <th>4</th>\n",
       "      <td>QLCI-CI: NSF Quantum Leap Challenge Institute ...</td>\n",
       "      <td>[{'id': 'grid.457875.c', 'name': 'Directorate ...</td>\n",
       "      <td>grant.9382459</td>\n",
       "    </tr>\n",
       "    <tr>\n",
       "      <th>5</th>\n",
       "      <td>Design and Analysis of Highly Efficient Algori...</td>\n",
       "      <td>[{'id': 'grid.457875.c', 'name': 'Directorate ...</td>\n",
       "      <td>grant.9382289</td>\n",
       "    </tr>\n",
       "    <tr>\n",
       "      <th>6</th>\n",
       "      <td>Excellence in Research: Research in Machine Le...</td>\n",
       "      <td>[{'id': 'grid.457875.c', 'name': 'Directorate ...</td>\n",
       "      <td>grant.9381488</td>\n",
       "    </tr>\n",
       "    <tr>\n",
       "      <th>7</th>\n",
       "      <td>Point of Anchor: Impacts on Interfacial Charge...</td>\n",
       "      <td>[{'id': 'grid.457875.c', 'name': 'Directorate ...</td>\n",
       "      <td>grant.9313461</td>\n",
       "    </tr>\n",
       "    <tr>\n",
       "      <th>8</th>\n",
       "      <td>The Role of DNA dynamics in damage recognition</td>\n",
       "      <td>[{'id': 'grid.418100.c', 'name': 'Biotechnolog...</td>\n",
       "      <td>grant.8857516</td>\n",
       "    </tr>\n",
       "    <tr>\n",
       "      <th>9</th>\n",
       "      <td>Dynamics of sudden suppression of topological ...</td>\n",
       "      <td>[{'id': 'grid.436846.b', 'name': 'National Sci...</td>\n",
       "      <td>grant.9334162</td>\n",
       "    </tr>\n",
       "    <tr>\n",
       "      <th>10</th>\n",
       "      <td>Label-Free, High-Time Resolution, Single-Molec...</td>\n",
       "      <td>[{'id': 'grid.457875.c', 'name': 'Directorate ...</td>\n",
       "      <td>grant.9067914</td>\n",
       "    </tr>\n",
       "    <tr>\n",
       "      <th>11</th>\n",
       "      <td>RET Site: High School Teacher Experience in En...</td>\n",
       "      <td>[{'id': 'grid.457810.f', 'name': 'Directorate ...</td>\n",
       "      <td>grant.8566523</td>\n",
       "    </tr>\n",
       "    <tr>\n",
       "      <th>12</th>\n",
       "      <td>The structural dynamics of ribosomal frameshif...</td>\n",
       "      <td>[{'id': 'grid.280785.0', 'name': 'National Ins...</td>\n",
       "      <td>grant.9064128</td>\n",
       "    </tr>\n",
       "    <tr>\n",
       "      <th>13</th>\n",
       "      <td>Preparing Effective STEM Teachers by Advancing...</td>\n",
       "      <td>[{'id': 'grid.457799.1', 'name': 'Directorate ...</td>\n",
       "      <td>grant.8966289</td>\n",
       "    </tr>\n",
       "    <tr>\n",
       "      <th>14</th>\n",
       "      <td>Computational artificial intelligence on quant...</td>\n",
       "      <td>[{'id': 'grid.452948.6', 'name': 'University G...</td>\n",
       "      <td>grant.9290592</td>\n",
       "    </tr>\n",
       "    <tr>\n",
       "      <th>15</th>\n",
       "      <td>Urban Sustainability Engineering Fellows: Cata...</td>\n",
       "      <td>[{'id': 'grid.457799.1', 'name': 'Directorate ...</td>\n",
       "      <td>grant.8539937</td>\n",
       "    </tr>\n",
       "    <tr>\n",
       "      <th>16</th>\n",
       "      <td>Study on the Ground State and Dynamics of the ...</td>\n",
       "      <td>[{'id': 'grid.419696.5', 'name': 'National Nat...</td>\n",
       "      <td>grant.8898486</td>\n",
       "    </tr>\n",
       "    <tr>\n",
       "      <th>17</th>\n",
       "      <td>Computational Modeling of Thermodynamic Consis...</td>\n",
       "      <td>[{'id': 'grid.419696.5', 'name': 'National Nat...</td>\n",
       "      <td>grant.8898220</td>\n",
       "    </tr>\n",
       "    <tr>\n",
       "      <th>18</th>\n",
       "      <td>Mechanism of morphology-controlled titanate na...</td>\n",
       "      <td>[{'id': 'grid.419696.5', 'name': 'National Nat...</td>\n",
       "      <td>grant.8904339</td>\n",
       "    </tr>\n",
       "    <tr>\n",
       "      <th>19</th>\n",
       "      <td>Enabling Quantum Leap: Q-AMASE-i: Quantum Foun...</td>\n",
       "      <td>[{'id': 'grid.457875.c', 'name': 'Directorate ...</td>\n",
       "      <td>grant.8567488</td>\n",
       "    </tr>\n",
       "  </tbody>\n",
       "</table>\n",
       "</div>"
      ],
      "text/plain": [
       "                                                title  \\\n",
       "0   Collaborative Research: CIF: Medium: Security ...   \n",
       "1      CNS Core: Small: Harnessing Wireless Actuation   \n",
       "2   CIF: Small: Alpha Loss: A New Framework for Un...   \n",
       "3   SWIFT: LARGE: Averting Wireless Spectrum Pollu...   \n",
       "4   QLCI-CI: NSF Quantum Leap Challenge Institute ...   \n",
       "5   Design and Analysis of Highly Efficient Algori...   \n",
       "6   Excellence in Research: Research in Machine Le...   \n",
       "7   Point of Anchor: Impacts on Interfacial Charge...   \n",
       "8      The Role of DNA dynamics in damage recognition   \n",
       "9   Dynamics of sudden suppression of topological ...   \n",
       "10  Label-Free, High-Time Resolution, Single-Molec...   \n",
       "11  RET Site: High School Teacher Experience in En...   \n",
       "12  The structural dynamics of ribosomal frameshif...   \n",
       "13  Preparing Effective STEM Teachers by Advancing...   \n",
       "14  Computational artificial intelligence on quant...   \n",
       "15  Urban Sustainability Engineering Fellows: Cata...   \n",
       "16  Study on the Ground State and Dynamics of the ...   \n",
       "17  Computational Modeling of Thermodynamic Consis...   \n",
       "18  Mechanism of morphology-controlled titanate na...   \n",
       "19  Enabling Quantum Leap: Q-AMASE-i: Quantum Foun...   \n",
       "\n",
       "                                              funders             id  \n",
       "0   [{'id': 'grid.457785.c', 'name': 'Directorate ...  grant.9381525  \n",
       "1   [{'id': 'grid.457785.c', 'name': 'Directorate ...  grant.9397686  \n",
       "2   [{'id': 'grid.457785.c', 'name': 'Directorate ...  grant.9397682  \n",
       "3   [{'id': 'grid.457810.f', 'name': 'Directorate ...  grant.9398808  \n",
       "4   [{'id': 'grid.457875.c', 'name': 'Directorate ...  grant.9382459  \n",
       "5   [{'id': 'grid.457875.c', 'name': 'Directorate ...  grant.9382289  \n",
       "6   [{'id': 'grid.457875.c', 'name': 'Directorate ...  grant.9381488  \n",
       "7   [{'id': 'grid.457875.c', 'name': 'Directorate ...  grant.9313461  \n",
       "8   [{'id': 'grid.418100.c', 'name': 'Biotechnolog...  grant.8857516  \n",
       "9   [{'id': 'grid.436846.b', 'name': 'National Sci...  grant.9334162  \n",
       "10  [{'id': 'grid.457875.c', 'name': 'Directorate ...  grant.9067914  \n",
       "11  [{'id': 'grid.457810.f', 'name': 'Directorate ...  grant.8566523  \n",
       "12  [{'id': 'grid.280785.0', 'name': 'National Ins...  grant.9064128  \n",
       "13  [{'id': 'grid.457799.1', 'name': 'Directorate ...  grant.8966289  \n",
       "14  [{'id': 'grid.452948.6', 'name': 'University G...  grant.9290592  \n",
       "15  [{'id': 'grid.457799.1', 'name': 'Directorate ...  grant.8539937  \n",
       "16  [{'id': 'grid.419696.5', 'name': 'National Nat...  grant.8898486  \n",
       "17  [{'id': 'grid.419696.5', 'name': 'National Nat...  grant.8898220  \n",
       "18  [{'id': 'grid.419696.5', 'name': 'National Nat...  grant.8904339  \n",
       "19  [{'id': 'grid.457875.c', 'name': 'Directorate ...  grant.8567488  "
      ]
     },
     "execution_count": 114,
     "metadata": {},
     "output_type": "execute_result"
    }
   ],
   "source": [
    "grantids = pubs['supporting_grant_ids'].to_list()\n",
    "\n",
    "query = f\"\"\"\n",
    "search grants \n",
    "    where id in {json.dumps(grantids)}\n",
    "return grants[id+title+funders]\n",
    "\"\"\"\n",
    "\n",
    "linkedgrants = dsl.query(query).as_dataframe()\n",
    "linkedgrants"
   ]
  },
  {
   "cell_type": "markdown",
   "metadata": {
    "Collapsed": "false"
   },
   "source": [
    "### More learning resources\n",
    "\n",
    "* [Enriching Grants part 2: Adding Publications Information from Dimensions](https://api-lab.dimensions.ai/cookbooks/3-grants/2-grants-enrichment-adding-publications-information.html#)\n",
    "* [Working with longs lists of IDs](https://api-lab.dimensions.ai/cookbooks/1-getting-started/6-Working-with-lists.html#5.-How-Long-can-lists-get?)"
   ]
  },
  {
   "cell_type": "markdown",
   "metadata": {
    "Collapsed": "false"
   },
   "source": [
    "## 3. Getting researcher awards, publications, patents \n",
    "\n",
    "Let's start by retrieving a list of recently NSF-awarded researchers on Covid-19 related topics. We can use a facet query to quickly get this data.\n",
    "\n",
    "Note: by default, the `researchers` facet returns records sorted by number of associated grants. "
   ]
  },
  {
   "cell_type": "code",
   "execution_count": 53,
   "metadata": {
    "Collapsed": "false"
   },
   "outputs": [
    {
     "name": "stdout",
     "output_type": "stream",
     "text": [
      "Returned Researchers: 20\n",
      "\u001b[2mTime: 0.59s\u001b[0m\n"
     ]
    },
    {
     "data": {
      "text/html": [
       "<div>\n",
       "<style scoped>\n",
       "    .dataframe tbody tr th:only-of-type {\n",
       "        vertical-align: middle;\n",
       "    }\n",
       "\n",
       "    .dataframe tbody tr th {\n",
       "        vertical-align: top;\n",
       "    }\n",
       "\n",
       "    .dataframe thead th {\n",
       "        text-align: right;\n",
       "    }\n",
       "</style>\n",
       "<table border=\"1\" class=\"dataframe\">\n",
       "  <thead>\n",
       "    <tr style=\"text-align: right;\">\n",
       "      <th></th>\n",
       "      <th>id</th>\n",
       "      <th>count</th>\n",
       "      <th>first_name</th>\n",
       "      <th>dimensions_url</th>\n",
       "      <th>last_name</th>\n",
       "    </tr>\n",
       "  </thead>\n",
       "  <tbody>\n",
       "    <tr>\n",
       "      <th>0</th>\n",
       "      <td>ur.015320046213.35</td>\n",
       "      <td>3</td>\n",
       "      <td>Yanfang</td>\n",
       "      <td>https://app.dimensions.ai/discover/publication...</td>\n",
       "      <td>Ye</td>\n",
       "    </tr>\n",
       "    <tr>\n",
       "      <th>1</th>\n",
       "      <td>ur.0771415054.83</td>\n",
       "      <td>3</td>\n",
       "      <td>Ioannis A</td>\n",
       "      <td>https://app.dimensions.ai/discover/publication...</td>\n",
       "      <td>Kakadiaris</td>\n",
       "    </tr>\n",
       "    <tr>\n",
       "      <th>2</th>\n",
       "      <td>ur.01026705233.54</td>\n",
       "      <td>2</td>\n",
       "      <td>Kapil Chalil</td>\n",
       "      <td>https://app.dimensions.ai/discover/publication...</td>\n",
       "      <td>Madathil</td>\n",
       "    </tr>\n",
       "    <tr>\n",
       "      <th>3</th>\n",
       "      <td>ur.01033456147.69</td>\n",
       "      <td>2</td>\n",
       "      <td>Philip A</td>\n",
       "      <td>https://app.dimensions.ai/discover/publication...</td>\n",
       "      <td>Gable</td>\n",
       "    </tr>\n",
       "    <tr>\n",
       "      <th>4</th>\n",
       "      <td>ur.01052213267.35</td>\n",
       "      <td>2</td>\n",
       "      <td>Katriona</td>\n",
       "      <td>https://app.dimensions.ai/discover/publication...</td>\n",
       "      <td>Shea</td>\n",
       "    </tr>\n",
       "    <tr>\n",
       "      <th>5</th>\n",
       "      <td>ur.010575472101.85</td>\n",
       "      <td>2</td>\n",
       "      <td>Debra Fern</td>\n",
       "      <td>https://app.dimensions.ai/discover/publication...</td>\n",
       "      <td>Laefer</td>\n",
       "    </tr>\n",
       "    <tr>\n",
       "      <th>6</th>\n",
       "      <td>ur.01060704061.65</td>\n",
       "      <td>2</td>\n",
       "      <td>Mindy Krischer</td>\n",
       "      <td>https://app.dimensions.ai/discover/publication...</td>\n",
       "      <td>Shoss</td>\n",
       "    </tr>\n",
       "    <tr>\n",
       "      <th>7</th>\n",
       "      <td>ur.01062572075.16</td>\n",
       "      <td>2</td>\n",
       "      <td>Reza Arman</td>\n",
       "      <td>https://app.dimensions.ai/discover/publication...</td>\n",
       "      <td>Ghiladi</td>\n",
       "    </tr>\n",
       "    <tr>\n",
       "      <th>8</th>\n",
       "      <td>ur.010667213217.14</td>\n",
       "      <td>2</td>\n",
       "      <td>Rob A</td>\n",
       "      <td>https://app.dimensions.ai/discover/publication...</td>\n",
       "      <td>Deleo</td>\n",
       "    </tr>\n",
       "    <tr>\n",
       "      <th>9</th>\n",
       "      <td>ur.010700017517.23</td>\n",
       "      <td>2</td>\n",
       "      <td>Shuai</td>\n",
       "      <td>https://app.dimensions.ai/discover/publication...</td>\n",
       "      <td>Li</td>\n",
       "    </tr>\n",
       "    <tr>\n",
       "      <th>10</th>\n",
       "      <td>ur.010700502362.26</td>\n",
       "      <td>2</td>\n",
       "      <td>Lalitha</td>\n",
       "      <td>https://app.dimensions.ai/discover/publication...</td>\n",
       "      <td>Sankar</td>\n",
       "    </tr>\n",
       "    <tr>\n",
       "      <th>11</th>\n",
       "      <td>ur.01071541110.62</td>\n",
       "      <td>2</td>\n",
       "      <td>Maria Esther</td>\n",
       "      <td>https://app.dimensions.ai/discover/publication...</td>\n",
       "      <td>Mayorga</td>\n",
       "    </tr>\n",
       "    <tr>\n",
       "      <th>12</th>\n",
       "      <td>ur.01102010554.37</td>\n",
       "      <td>2</td>\n",
       "      <td>Calton</td>\n",
       "      <td>https://app.dimensions.ai/discover/publication...</td>\n",
       "      <td>Pu</td>\n",
       "    </tr>\n",
       "    <tr>\n",
       "      <th>13</th>\n",
       "      <td>ur.01115604070.55</td>\n",
       "      <td>2</td>\n",
       "      <td>Katherine Grace</td>\n",
       "      <td>https://app.dimensions.ai/discover/publication...</td>\n",
       "      <td>Carman</td>\n",
       "    </tr>\n",
       "    <tr>\n",
       "      <th>14</th>\n",
       "      <td>ur.01120645003.21</td>\n",
       "      <td>2</td>\n",
       "      <td>Sherecce Antoinette</td>\n",
       "      <td>https://app.dimensions.ai/discover/publication...</td>\n",
       "      <td>Fields</td>\n",
       "    </tr>\n",
       "    <tr>\n",
       "      <th>15</th>\n",
       "      <td>ur.011313514376.19</td>\n",
       "      <td>2</td>\n",
       "      <td>Andrew Markus</td>\n",
       "      <td>https://app.dimensions.ai/discover/publication...</td>\n",
       "      <td>Guess</td>\n",
       "    </tr>\n",
       "    <tr>\n",
       "      <th>16</th>\n",
       "      <td>ur.01157645744.24</td>\n",
       "      <td>2</td>\n",
       "      <td>Özlem</td>\n",
       "      <td>https://app.dimensions.ai/discover/publication...</td>\n",
       "      <td>Ergun</td>\n",
       "    </tr>\n",
       "    <tr>\n",
       "      <th>17</th>\n",
       "      <td>ur.01161135641.12</td>\n",
       "      <td>2</td>\n",
       "      <td>Krista Rule</td>\n",
       "      <td>https://app.dimensions.ai/discover/publication...</td>\n",
       "      <td>Wigginton</td>\n",
       "    </tr>\n",
       "    <tr>\n",
       "      <th>18</th>\n",
       "      <td>ur.012047152147.12</td>\n",
       "      <td>2</td>\n",
       "      <td>Julie Simmons</td>\n",
       "      <td>https://app.dimensions.ai/discover/publication...</td>\n",
       "      <td>Ivy</td>\n",
       "    </tr>\n",
       "    <tr>\n",
       "      <th>19</th>\n",
       "      <td>ur.01211250114.02</td>\n",
       "      <td>2</td>\n",
       "      <td>Wesley Monroe</td>\n",
       "      <td>https://app.dimensions.ai/discover/publication...</td>\n",
       "      <td>Shrum</td>\n",
       "    </tr>\n",
       "  </tbody>\n",
       "</table>\n",
       "</div>"
      ],
      "text/plain": [
       "                    id  count           first_name  \\\n",
       "0   ur.015320046213.35      3              Yanfang   \n",
       "1     ur.0771415054.83      3            Ioannis A   \n",
       "2    ur.01026705233.54      2         Kapil Chalil   \n",
       "3    ur.01033456147.69      2             Philip A   \n",
       "4    ur.01052213267.35      2             Katriona   \n",
       "5   ur.010575472101.85      2           Debra Fern   \n",
       "6    ur.01060704061.65      2       Mindy Krischer   \n",
       "7    ur.01062572075.16      2           Reza Arman   \n",
       "8   ur.010667213217.14      2                Rob A   \n",
       "9   ur.010700017517.23      2                Shuai   \n",
       "10  ur.010700502362.26      2              Lalitha   \n",
       "11   ur.01071541110.62      2         Maria Esther   \n",
       "12   ur.01102010554.37      2               Calton   \n",
       "13   ur.01115604070.55      2      Katherine Grace   \n",
       "14   ur.01120645003.21      2  Sherecce Antoinette   \n",
       "15  ur.011313514376.19      2        Andrew Markus   \n",
       "16   ur.01157645744.24      2                Özlem   \n",
       "17   ur.01161135641.12      2          Krista Rule   \n",
       "18  ur.012047152147.12      2        Julie Simmons   \n",
       "19   ur.01211250114.02      2        Wesley Monroe   \n",
       "\n",
       "                                       dimensions_url   last_name  \n",
       "0   https://app.dimensions.ai/discover/publication...          Ye  \n",
       "1   https://app.dimensions.ai/discover/publication...  Kakadiaris  \n",
       "2   https://app.dimensions.ai/discover/publication...    Madathil  \n",
       "3   https://app.dimensions.ai/discover/publication...       Gable  \n",
       "4   https://app.dimensions.ai/discover/publication...        Shea  \n",
       "5   https://app.dimensions.ai/discover/publication...      Laefer  \n",
       "6   https://app.dimensions.ai/discover/publication...       Shoss  \n",
       "7   https://app.dimensions.ai/discover/publication...     Ghiladi  \n",
       "8   https://app.dimensions.ai/discover/publication...       Deleo  \n",
       "9   https://app.dimensions.ai/discover/publication...          Li  \n",
       "10  https://app.dimensions.ai/discover/publication...      Sankar  \n",
       "11  https://app.dimensions.ai/discover/publication...     Mayorga  \n",
       "12  https://app.dimensions.ai/discover/publication...          Pu  \n",
       "13  https://app.dimensions.ai/discover/publication...      Carman  \n",
       "14  https://app.dimensions.ai/discover/publication...      Fields  \n",
       "15  https://app.dimensions.ai/discover/publication...       Guess  \n",
       "16  https://app.dimensions.ai/discover/publication...       Ergun  \n",
       "17  https://app.dimensions.ai/discover/publication...   Wigginton  \n",
       "18  https://app.dimensions.ai/discover/publication...         Ivy  \n",
       "19  https://app.dimensions.ai/discover/publication...       Shrum  "
      ]
     },
     "execution_count": 53,
     "metadata": {},
     "output_type": "execute_result"
    }
   ],
   "source": [
    "COVID_Q = '\"2019-nCoV\" OR \"COVID-19\" OR \"SARS-CoV-2\" OR \"HCoV-2019\" OR \"hcov\" OR \"NCOVID-19\" OR  \"severe acute respiratory syndrome coronavirus 2\" OR \"severe acute respiratory syndrome corona virus 2\" OR \"coronavirus disease 2019\" OR ((\"coronavirus\"  OR \"corona virus\") AND (Wuhan OR China OR novel))'\n",
    "\n",
    "\n",
    "query = f\"\"\"\n",
    "search grants \n",
    "    for \"{dsl_escape(COVID_Q)}\"\n",
    "    where funders.id in {json.dumps(nsfgrids)}\n",
    "    and active_year >= 2020\n",
    "return researchers[id+first_name+last_name+dimensions_url]\n",
    "\"\"\"\n",
    "\n",
    "researchers = dsl.query(query).as_dataframe()\n",
    "researchers"
   ]
  },
  {
   "cell_type": "markdown",
   "metadata": {
    "Collapsed": "false"
   },
   "source": [
    "Dimcli includes a function to quickly export a dataframe to google sheets ([documentation](https://digital-science.github.io/dimcli/modules.html#dimcli.utils.misc_utils.export_as_gsheets)). \n",
    "\n",
    "This is often handy to further analysing or for sharing the data."
   ]
  },
  {
   "cell_type": "code",
   "execution_count": 54,
   "metadata": {
    "Collapsed": "false"
   },
   "outputs": [
    {
     "name": "stdout",
     "output_type": "stream",
     "text": [
      "..authorizing with google..\u001b[0m\n",
      "..creating a google sheet..\u001b[0m\n",
      "..uploading..\u001b[0m\n"
     ]
    },
    {
     "data": {
      "text/plain": [
       "'https://docs.google.com/spreadsheets/d/15oO_8JZeYnUoulXJE7-eqOa9M7smKaEIMTl_IK7-Q9M'"
      ]
     },
     "execution_count": 54,
     "metadata": {},
     "output_type": "execute_result"
    }
   ],
   "source": [
    "export_as_gsheets(researchers)"
   ]
  },
  {
   "cell_type": "markdown",
   "metadata": {
    "Collapsed": "true"
   },
   "source": [
    "### 3.1 Awards\n",
    "\n",
    "You can select any number of researcher IDs and retrieve related data. \n",
    "\n",
    "Tips \n",
    "* If we `return grants` we get the full grant details  \n",
    "* If we `return funders` we can get a quick overview of who's funding these researchers."
   ]
  },
  {
   "cell_type": "code",
   "execution_count": 79,
   "metadata": {
    "Collapsed": "false"
   },
   "outputs": [],
   "source": [
    "focus = researchers['id'][:1].to_list()"
   ]
  },
  {
   "cell_type": "code",
   "execution_count": 83,
   "metadata": {
    "Collapsed": "false"
   },
   "outputs": [
    {
     "name": "stdout",
     "output_type": "stream",
     "text": [
      "Returned Grants: 12 (total = 12)\n",
      "\u001b[2mTime: 0.59s\u001b[0m\n"
     ]
    },
    {
     "data": {
      "text/html": [
       "<div>\n",
       "<style scoped>\n",
       "    .dataframe tbody tr th:only-of-type {\n",
       "        vertical-align: middle;\n",
       "    }\n",
       "\n",
       "    .dataframe tbody tr th {\n",
       "        vertical-align: top;\n",
       "    }\n",
       "\n",
       "    .dataframe thead th {\n",
       "        text-align: right;\n",
       "    }\n",
       "</style>\n",
       "<table border=\"1\" class=\"dataframe\">\n",
       "  <thead>\n",
       "    <tr style=\"text-align: right;\">\n",
       "      <th></th>\n",
       "      <th>active_year</th>\n",
       "      <th>grant_number</th>\n",
       "      <th>researchers</th>\n",
       "      <th>title</th>\n",
       "      <th>id</th>\n",
       "      <th>language</th>\n",
       "      <th>funding_org_name</th>\n",
       "    </tr>\n",
       "  </thead>\n",
       "  <tbody>\n",
       "    <tr>\n",
       "      <th>0</th>\n",
       "      <td>[2020, 2021]</td>\n",
       "      <td>2026612</td>\n",
       "      <td>[{'id': 'ur.011726261641.36', 'last_name': 'Yu...</td>\n",
       "      <td>FW-HTF-P: Distributed Intelligent Assistant to...</td>\n",
       "      <td>grant.9398642</td>\n",
       "      <td>en</td>\n",
       "      <td>Directorate for Engineering</td>\n",
       "    </tr>\n",
       "    <tr>\n",
       "      <th>1</th>\n",
       "      <td>[2020, 2021, 2022]</td>\n",
       "      <td>2040144</td>\n",
       "      <td>[{'id': 'ur.015320046213.35', 'last_name': 'Ye...</td>\n",
       "      <td>EAGER: An AI-driven Paradigm for Collective an...</td>\n",
       "      <td>grant.9383872</td>\n",
       "      <td>en</td>\n",
       "      <td>Directorate for Computer &amp; Information Science...</td>\n",
       "    </tr>\n",
       "    <tr>\n",
       "      <th>2</th>\n",
       "      <td>[2020, 2021]</td>\n",
       "      <td>2034470</td>\n",
       "      <td>[{'id': 'ur.015320046213.35', 'last_name': 'Ye...</td>\n",
       "      <td>RAPID: AI-driven Innovations for COVID-19 Them...</td>\n",
       "      <td>grant.9313236</td>\n",
       "      <td>en</td>\n",
       "      <td>Directorate for Computer &amp; Information Science...</td>\n",
       "    </tr>\n",
       "    <tr>\n",
       "      <th>3</th>\n",
       "      <td>[2020, 2021]</td>\n",
       "      <td>2027127</td>\n",
       "      <td>[{'id': 'ur.015320046213.35', 'last_name': 'Ye...</td>\n",
       "      <td>RAPID: AI- and Data-driven Integrated Framewor...</td>\n",
       "      <td>grant.9067270</td>\n",
       "      <td>en</td>\n",
       "      <td>Directorate for Computer &amp; Information Science...</td>\n",
       "    </tr>\n",
       "    <tr>\n",
       "      <th>4</th>\n",
       "      <td>[2019]</td>\n",
       "      <td>1908215</td>\n",
       "      <td>[{'id': 'ur.015320046213.35', 'last_name': 'Ye...</td>\n",
       "      <td>III: Small: Mining Heterogeneous Network Built...</td>\n",
       "      <td>grant.8567640</td>\n",
       "      <td>en</td>\n",
       "      <td>Directorate for Computer &amp; Information Science...</td>\n",
       "    </tr>\n",
       "    <tr>\n",
       "      <th>5</th>\n",
       "      <td>[2019, 2020, 2021, 2022]</td>\n",
       "      <td>1951504</td>\n",
       "      <td>[{'id': 'ur.015320046213.35', 'last_name': 'Ye...</td>\n",
       "      <td>III: Small: Mining Heterogeneous Network Built...</td>\n",
       "      <td>grant.8635076</td>\n",
       "      <td>en</td>\n",
       "      <td>Directorate for Computer &amp; Information Science...</td>\n",
       "    </tr>\n",
       "    <tr>\n",
       "      <th>6</th>\n",
       "      <td>[2019, 2020]</td>\n",
       "      <td>1946327</td>\n",
       "      <td>[{'id': 'ur.015320046213.35', 'last_name': 'Ye...</td>\n",
       "      <td>TWC: Small: Intelligent Malware Detection Util...</td>\n",
       "      <td>grant.8674944</td>\n",
       "      <td>en</td>\n",
       "      <td>Directorate for Computer &amp; Information Science...</td>\n",
       "    </tr>\n",
       "    <tr>\n",
       "      <th>7</th>\n",
       "      <td>[2019, 2020, 2021, 2022, 2023, 2024]</td>\n",
       "      <td>1940859</td>\n",
       "      <td>[{'id': 'ur.015320046213.35', 'last_name': 'Ye...</td>\n",
       "      <td>CAREER: Securing Cyberspace: Gaining Deep Insi...</td>\n",
       "      <td>grant.8540674</td>\n",
       "      <td>en</td>\n",
       "      <td>Directorate for Computer &amp; Information Science...</td>\n",
       "    </tr>\n",
       "    <tr>\n",
       "      <th>8</th>\n",
       "      <td>[2019, 2020, 2021]</td>\n",
       "      <td>1940855</td>\n",
       "      <td>[{'id': 'ur.015320046213.35', 'last_name': 'Ye...</td>\n",
       "      <td>CICI: SSC: SciTrust: Enhancing Security for Mo...</td>\n",
       "      <td>grant.8635104</td>\n",
       "      <td>en</td>\n",
       "      <td>Directorate for Computer &amp; Information Science...</td>\n",
       "    </tr>\n",
       "    <tr>\n",
       "      <th>9</th>\n",
       "      <td>[2019]</td>\n",
       "      <td>1845138</td>\n",
       "      <td>[{'id': 'ur.015320046213.35', 'last_name': 'Ye...</td>\n",
       "      <td>CAREER: Securing Cyberspace: Gaining Deep Insi...</td>\n",
       "      <td>grant.8382455</td>\n",
       "      <td>en</td>\n",
       "      <td>Directorate for Computer &amp; Information Science...</td>\n",
       "    </tr>\n",
       "    <tr>\n",
       "      <th>10</th>\n",
       "      <td>[2018, 2019]</td>\n",
       "      <td>1839909</td>\n",
       "      <td>[{'id': 'ur.015320046213.35', 'last_name': 'Ye...</td>\n",
       "      <td>CICI: SSC: SciTrust: Enhancing Security for Mo...</td>\n",
       "      <td>grant.7733580</td>\n",
       "      <td>en</td>\n",
       "      <td>Directorate for Computer &amp; Information Science...</td>\n",
       "    </tr>\n",
       "    <tr>\n",
       "      <th>11</th>\n",
       "      <td>[2016, 2017, 2018, 2019]</td>\n",
       "      <td>1618629</td>\n",
       "      <td>[{'id': 'ur.015320046213.35', 'last_name': 'Ye...</td>\n",
       "      <td>TWC: Small: Intelligent Malware Detection Util...</td>\n",
       "      <td>grant.5543433</td>\n",
       "      <td>en</td>\n",
       "      <td>Directorate for Computer &amp; Information Science...</td>\n",
       "    </tr>\n",
       "  </tbody>\n",
       "</table>\n",
       "</div>"
      ],
      "text/plain": [
       "                             active_year grant_number  \\\n",
       "0                           [2020, 2021]      2026612   \n",
       "1                     [2020, 2021, 2022]      2040144   \n",
       "2                           [2020, 2021]      2034470   \n",
       "3                           [2020, 2021]      2027127   \n",
       "4                                 [2019]      1908215   \n",
       "5               [2019, 2020, 2021, 2022]      1951504   \n",
       "6                           [2019, 2020]      1946327   \n",
       "7   [2019, 2020, 2021, 2022, 2023, 2024]      1940859   \n",
       "8                     [2019, 2020, 2021]      1940855   \n",
       "9                                 [2019]      1845138   \n",
       "10                          [2018, 2019]      1839909   \n",
       "11              [2016, 2017, 2018, 2019]      1618629   \n",
       "\n",
       "                                          researchers  \\\n",
       "0   [{'id': 'ur.011726261641.36', 'last_name': 'Yu...   \n",
       "1   [{'id': 'ur.015320046213.35', 'last_name': 'Ye...   \n",
       "2   [{'id': 'ur.015320046213.35', 'last_name': 'Ye...   \n",
       "3   [{'id': 'ur.015320046213.35', 'last_name': 'Ye...   \n",
       "4   [{'id': 'ur.015320046213.35', 'last_name': 'Ye...   \n",
       "5   [{'id': 'ur.015320046213.35', 'last_name': 'Ye...   \n",
       "6   [{'id': 'ur.015320046213.35', 'last_name': 'Ye...   \n",
       "7   [{'id': 'ur.015320046213.35', 'last_name': 'Ye...   \n",
       "8   [{'id': 'ur.015320046213.35', 'last_name': 'Ye...   \n",
       "9   [{'id': 'ur.015320046213.35', 'last_name': 'Ye...   \n",
       "10  [{'id': 'ur.015320046213.35', 'last_name': 'Ye...   \n",
       "11  [{'id': 'ur.015320046213.35', 'last_name': 'Ye...   \n",
       "\n",
       "                                                title             id language  \\\n",
       "0   FW-HTF-P: Distributed Intelligent Assistant to...  grant.9398642       en   \n",
       "1   EAGER: An AI-driven Paradigm for Collective an...  grant.9383872       en   \n",
       "2   RAPID: AI-driven Innovations for COVID-19 Them...  grant.9313236       en   \n",
       "3   RAPID: AI- and Data-driven Integrated Framewor...  grant.9067270       en   \n",
       "4   III: Small: Mining Heterogeneous Network Built...  grant.8567640       en   \n",
       "5   III: Small: Mining Heterogeneous Network Built...  grant.8635076       en   \n",
       "6   TWC: Small: Intelligent Malware Detection Util...  grant.8674944       en   \n",
       "7   CAREER: Securing Cyberspace: Gaining Deep Insi...  grant.8540674       en   \n",
       "8   CICI: SSC: SciTrust: Enhancing Security for Mo...  grant.8635104       en   \n",
       "9   CAREER: Securing Cyberspace: Gaining Deep Insi...  grant.8382455       en   \n",
       "10  CICI: SSC: SciTrust: Enhancing Security for Mo...  grant.7733580       en   \n",
       "11  TWC: Small: Intelligent Malware Detection Util...  grant.5543433       en   \n",
       "\n",
       "                                     funding_org_name  \n",
       "0                         Directorate for Engineering  \n",
       "1   Directorate for Computer & Information Science...  \n",
       "2   Directorate for Computer & Information Science...  \n",
       "3   Directorate for Computer & Information Science...  \n",
       "4   Directorate for Computer & Information Science...  \n",
       "5   Directorate for Computer & Information Science...  \n",
       "6   Directorate for Computer & Information Science...  \n",
       "7   Directorate for Computer & Information Science...  \n",
       "8   Directorate for Computer & Information Science...  \n",
       "9   Directorate for Computer & Information Science...  \n",
       "10  Directorate for Computer & Information Science...  \n",
       "11  Directorate for Computer & Information Science...  "
      ]
     },
     "execution_count": 83,
     "metadata": {},
     "output_type": "execute_result"
    }
   ],
   "source": [
    "query = f\"\"\"\n",
    "search grants \n",
    "    where researchers.id in {json.dumps(focus)}\n",
    "return grants[title+active_year+id+language+grant_number+funding_org_name+researchers]\n",
    "\"\"\"\n",
    "\n",
    "awards = dsl.query(query).as_dataframe()\n",
    "awards"
   ]
  },
  {
   "cell_type": "markdown",
   "metadata": {
    "Collapsed": "false"
   },
   "source": [
    "### 3.2 Publications\n"
   ]
  },
  {
   "cell_type": "code",
   "execution_count": 58,
   "metadata": {
    "Collapsed": "false"
   },
   "outputs": [],
   "source": [
    "focus = researchers['id'][:1].to_list()"
   ]
  },
  {
   "cell_type": "markdown",
   "metadata": {
    "Collapsed": "false"
   },
   "source": [
    "Let's get recent publications:"
   ]
  },
  {
   "cell_type": "code",
   "execution_count": 65,
   "metadata": {
    "Collapsed": "false"
   },
   "outputs": [
    {
     "name": "stdout",
     "output_type": "stream",
     "text": [
      "Returned Publications: 10 (total = 52)\n",
      "\u001b[2mTime: 0.60s\u001b[0m\n"
     ]
    },
    {
     "data": {
      "text/html": [
       "<div>\n",
       "<style scoped>\n",
       "    .dataframe tbody tr th:only-of-type {\n",
       "        vertical-align: middle;\n",
       "    }\n",
       "\n",
       "    .dataframe tbody tr th {\n",
       "        vertical-align: top;\n",
       "    }\n",
       "\n",
       "    .dataframe thead th {\n",
       "        text-align: right;\n",
       "    }\n",
       "</style>\n",
       "<table border=\"1\" class=\"dataframe\">\n",
       "  <thead>\n",
       "    <tr style=\"text-align: right;\">\n",
       "      <th></th>\n",
       "      <th>year</th>\n",
       "      <th>authors_count</th>\n",
       "      <th>field_citation_ratio</th>\n",
       "      <th>title</th>\n",
       "      <th>type</th>\n",
       "      <th>supporting_grant_ids</th>\n",
       "      <th>id</th>\n",
       "      <th>times_cited</th>\n",
       "      <th>funders</th>\n",
       "      <th>journal.id</th>\n",
       "      <th>journal.title</th>\n",
       "    </tr>\n",
       "  </thead>\n",
       "  <tbody>\n",
       "    <tr>\n",
       "      <th>0</th>\n",
       "      <td>2017</td>\n",
       "      <td>4</td>\n",
       "      <td>73.95</td>\n",
       "      <td>A Survey on Malware Detection Using Data Minin...</td>\n",
       "      <td>article</td>\n",
       "      <td>[grant.3935090, grant.8374180, grant.3479555, ...</td>\n",
       "      <td>pub.1090311679</td>\n",
       "      <td>163</td>\n",
       "      <td>[{'id': 'grid.457785.c', 'types': ['Government...</td>\n",
       "      <td>jour.1119907</td>\n",
       "      <td>ACM Computing Surveys</td>\n",
       "    </tr>\n",
       "    <tr>\n",
       "      <th>1</th>\n",
       "      <td>2019</td>\n",
       "      <td>7</td>\n",
       "      <td>128.38</td>\n",
       "      <td>Heterogeneous Graph Attention Network</td>\n",
       "      <td>proceeding</td>\n",
       "      <td>NaN</td>\n",
       "      <td>pub.1114205838</td>\n",
       "      <td>127</td>\n",
       "      <td>NaN</td>\n",
       "      <td>NaN</td>\n",
       "      <td>NaN</td>\n",
       "    </tr>\n",
       "    <tr>\n",
       "      <th>2</th>\n",
       "      <td>2017</td>\n",
       "      <td>4</td>\n",
       "      <td>38.13</td>\n",
       "      <td>HinDroid</td>\n",
       "      <td>proceeding</td>\n",
       "      <td>[grant.5543433]</td>\n",
       "      <td>pub.1091105361</td>\n",
       "      <td>85</td>\n",
       "      <td>[{'id': 'grid.457785.c', 'types': ['Government...</td>\n",
       "      <td>NaN</td>\n",
       "      <td>NaN</td>\n",
       "    </tr>\n",
       "    <tr>\n",
       "      <th>3</th>\n",
       "      <td>2016</td>\n",
       "      <td>4</td>\n",
       "      <td>29.90</td>\n",
       "      <td>Deep4MalDroid: A Deep Learning Framework for A...</td>\n",
       "      <td>proceeding</td>\n",
       "      <td>[grant.5543433]</td>\n",
       "      <td>pub.1093330020</td>\n",
       "      <td>74</td>\n",
       "      <td>[{'id': 'grid.457785.c', 'types': ['Government...</td>\n",
       "      <td>NaN</td>\n",
       "      <td>NaN</td>\n",
       "    </tr>\n",
       "    <tr>\n",
       "      <th>4</th>\n",
       "      <td>2016</td>\n",
       "      <td>3</td>\n",
       "      <td>24.86</td>\n",
       "      <td>Malicious sequential pattern mining for automa...</td>\n",
       "      <td>article</td>\n",
       "      <td>[grant.7023327]</td>\n",
       "      <td>pub.1048693282</td>\n",
       "      <td>65</td>\n",
       "      <td>[{'id': 'grid.419696.5', 'types': ['Government...</td>\n",
       "      <td>jour.1128045</td>\n",
       "      <td>Expert Systems with Applications</td>\n",
       "    </tr>\n",
       "    <tr>\n",
       "      <th>5</th>\n",
       "      <td>2016</td>\n",
       "      <td>4</td>\n",
       "      <td>13.86</td>\n",
       "      <td>DroidDelver: An Android Malware Detection Syst...</td>\n",
       "      <td>chapter</td>\n",
       "      <td>NaN</td>\n",
       "      <td>pub.1002478143</td>\n",
       "      <td>36</td>\n",
       "      <td>NaN</td>\n",
       "      <td>NaN</td>\n",
       "      <td>NaN</td>\n",
       "    </tr>\n",
       "    <tr>\n",
       "      <th>6</th>\n",
       "      <td>2017</td>\n",
       "      <td>5</td>\n",
       "      <td>16.48</td>\n",
       "      <td>DeepAM: a heterogeneous deep learning framewor...</td>\n",
       "      <td>article</td>\n",
       "      <td>[grant.5543433]</td>\n",
       "      <td>pub.1085221850</td>\n",
       "      <td>35</td>\n",
       "      <td>[{'id': 'grid.457785.c', 'types': ['Government...</td>\n",
       "      <td>jour.1041769</td>\n",
       "      <td>Knowledge and Information Systems</td>\n",
       "    </tr>\n",
       "    <tr>\n",
       "      <th>7</th>\n",
       "      <td>2017</td>\n",
       "      <td>3</td>\n",
       "      <td>13.46</td>\n",
       "      <td>SecureDroid</td>\n",
       "      <td>proceeding</td>\n",
       "      <td>[grant.5543433]</td>\n",
       "      <td>pub.1099595723</td>\n",
       "      <td>30</td>\n",
       "      <td>[{'id': 'grid.457785.c', 'types': ['Government...</td>\n",
       "      <td>NaN</td>\n",
       "      <td>NaN</td>\n",
       "    </tr>\n",
       "    <tr>\n",
       "      <th>8</th>\n",
       "      <td>2018</td>\n",
       "      <td>5</td>\n",
       "      <td>13.19</td>\n",
       "      <td>Gotcha - Sly Malware!</td>\n",
       "      <td>proceeding</td>\n",
       "      <td>[grant.5543433]</td>\n",
       "      <td>pub.1105723512</td>\n",
       "      <td>22</td>\n",
       "      <td>[{'id': 'grid.457785.c', 'types': ['Government...</td>\n",
       "      <td>NaN</td>\n",
       "      <td>NaN</td>\n",
       "    </tr>\n",
       "    <tr>\n",
       "      <th>9</th>\n",
       "      <td>2016</td>\n",
       "      <td>7</td>\n",
       "      <td>8.42</td>\n",
       "      <td>Automatic Detection of Helmet Uses for Constru...</td>\n",
       "      <td>proceeding</td>\n",
       "      <td>NaN</td>\n",
       "      <td>pub.1095272357</td>\n",
       "      <td>22</td>\n",
       "      <td>[{'id': 'grid.416809.2', 'types': ['Facility']...</td>\n",
       "      <td>NaN</td>\n",
       "      <td>NaN</td>\n",
       "    </tr>\n",
       "  </tbody>\n",
       "</table>\n",
       "</div>"
      ],
      "text/plain": [
       "   year  authors_count  field_citation_ratio  \\\n",
       "0  2017              4                 73.95   \n",
       "1  2019              7                128.38   \n",
       "2  2017              4                 38.13   \n",
       "3  2016              4                 29.90   \n",
       "4  2016              3                 24.86   \n",
       "5  2016              4                 13.86   \n",
       "6  2017              5                 16.48   \n",
       "7  2017              3                 13.46   \n",
       "8  2018              5                 13.19   \n",
       "9  2016              7                  8.42   \n",
       "\n",
       "                                               title        type  \\\n",
       "0  A Survey on Malware Detection Using Data Minin...     article   \n",
       "1              Heterogeneous Graph Attention Network  proceeding   \n",
       "2                                           HinDroid  proceeding   \n",
       "3  Deep4MalDroid: A Deep Learning Framework for A...  proceeding   \n",
       "4  Malicious sequential pattern mining for automa...     article   \n",
       "5  DroidDelver: An Android Malware Detection Syst...     chapter   \n",
       "6  DeepAM: a heterogeneous deep learning framewor...     article   \n",
       "7                                        SecureDroid  proceeding   \n",
       "8                              Gotcha - Sly Malware!  proceeding   \n",
       "9  Automatic Detection of Helmet Uses for Constru...  proceeding   \n",
       "\n",
       "                                supporting_grant_ids              id  \\\n",
       "0  [grant.3935090, grant.8374180, grant.3479555, ...  pub.1090311679   \n",
       "1                                                NaN  pub.1114205838   \n",
       "2                                    [grant.5543433]  pub.1091105361   \n",
       "3                                    [grant.5543433]  pub.1093330020   \n",
       "4                                    [grant.7023327]  pub.1048693282   \n",
       "5                                                NaN  pub.1002478143   \n",
       "6                                    [grant.5543433]  pub.1085221850   \n",
       "7                                    [grant.5543433]  pub.1099595723   \n",
       "8                                    [grant.5543433]  pub.1105723512   \n",
       "9                                                NaN  pub.1095272357   \n",
       "\n",
       "   times_cited                                            funders  \\\n",
       "0          163  [{'id': 'grid.457785.c', 'types': ['Government...   \n",
       "1          127                                                NaN   \n",
       "2           85  [{'id': 'grid.457785.c', 'types': ['Government...   \n",
       "3           74  [{'id': 'grid.457785.c', 'types': ['Government...   \n",
       "4           65  [{'id': 'grid.419696.5', 'types': ['Government...   \n",
       "5           36                                                NaN   \n",
       "6           35  [{'id': 'grid.457785.c', 'types': ['Government...   \n",
       "7           30  [{'id': 'grid.457785.c', 'types': ['Government...   \n",
       "8           22  [{'id': 'grid.457785.c', 'types': ['Government...   \n",
       "9           22  [{'id': 'grid.416809.2', 'types': ['Facility']...   \n",
       "\n",
       "     journal.id                      journal.title  \n",
       "0  jour.1119907              ACM Computing Surveys  \n",
       "1           NaN                                NaN  \n",
       "2           NaN                                NaN  \n",
       "3           NaN                                NaN  \n",
       "4  jour.1128045   Expert Systems with Applications  \n",
       "5           NaN                                NaN  \n",
       "6  jour.1041769  Knowledge and Information Systems  \n",
       "7           NaN                                NaN  \n",
       "8           NaN                                NaN  \n",
       "9           NaN                                NaN  "
      ]
     },
     "execution_count": 65,
     "metadata": {},
     "output_type": "execute_result"
    }
   ],
   "source": [
    "\n",
    "query = f\"\"\"\n",
    "search publications \n",
    "    where researchers.id in {json.dumps(focus)}\n",
    "    and year > 2015\n",
    "return publications[id+year+authors_count+title+type+journal+field_citation_ratio+times_cited+supporting_grant_ids+funders]\n",
    "sort by times_cited limit 10\n",
    "\"\"\"\n",
    "\n",
    "pubs = dsl.query(query).as_dataframe()\n",
    "pubs"
   ]
  },
  {
   "cell_type": "markdown",
   "metadata": {
    "Collapsed": "true"
   },
   "source": [
    "### 3.3 Patents"
   ]
  },
  {
   "cell_type": "code",
   "execution_count": 67,
   "metadata": {
    "Collapsed": "false"
   },
   "outputs": [],
   "source": [
    "focus = researchers['id'][:10].to_list()"
   ]
  },
  {
   "cell_type": "code",
   "execution_count": 72,
   "metadata": {
    "Collapsed": "false"
   },
   "outputs": [
    {
     "name": "stdout",
     "output_type": "stream",
     "text": [
      "Returned Patents: 10 (total = 20)\n",
      "\u001b[2mTime: 0.64s\u001b[0m\n"
     ]
    },
    {
     "data": {
      "text/html": [
       "<div>\n",
       "<style scoped>\n",
       "    .dataframe tbody tr th:only-of-type {\n",
       "        vertical-align: middle;\n",
       "    }\n",
       "\n",
       "    .dataframe tbody tr th {\n",
       "        vertical-align: top;\n",
       "    }\n",
       "\n",
       "    .dataframe thead th {\n",
       "        text-align: right;\n",
       "    }\n",
       "</style>\n",
       "<table border=\"1\" class=\"dataframe\">\n",
       "  <thead>\n",
       "    <tr style=\"text-align: right;\">\n",
       "      <th></th>\n",
       "      <th>year</th>\n",
       "      <th>assignee_names</th>\n",
       "      <th>filing_status</th>\n",
       "      <th>inventor_names</th>\n",
       "      <th>researchers</th>\n",
       "      <th>title</th>\n",
       "      <th>dimensions_url</th>\n",
       "      <th>assignees</th>\n",
       "      <th>id</th>\n",
       "      <th>publication_date</th>\n",
       "      <th>times_cited</th>\n",
       "      <th>granted_year</th>\n",
       "    </tr>\n",
       "  </thead>\n",
       "  <tbody>\n",
       "    <tr>\n",
       "      <th>0</th>\n",
       "      <td>2014</td>\n",
       "      <td>[UNIV HOUSTON SYSTEM]</td>\n",
       "      <td>Application</td>\n",
       "      <td>[KAKADIARIS IOANNIS A, MOUTAFIS PANAGIOTIS]</td>\n",
       "      <td>[{'id': 'ur.0771415054.83', 'last_name': 'Kaka...</td>\n",
       "      <td>A RANK-BASED SCORE NORMALIZATION FRAMEWORK AND...</td>\n",
       "      <td>https://app.dimensions.ai/details/patent/WO-20...</td>\n",
       "      <td>[{'id': 'grid.187082.4', 'types': ['Education'...</td>\n",
       "      <td>WO-2014145698-A1</td>\n",
       "      <td>2014-09-18</td>\n",
       "      <td>0</td>\n",
       "      <td>NaN</td>\n",
       "    </tr>\n",
       "    <tr>\n",
       "      <th>1</th>\n",
       "      <td>2004</td>\n",
       "      <td>[BOARD OF REGENTS, University of Houston]</td>\n",
       "      <td>Application</td>\n",
       "      <td>[KAKADIARIS IOANNIS, THEOHARIS THEOHARIS]</td>\n",
       "      <td>[{'id': 'ur.0771415054.83', 'last_name': 'Kaka...</td>\n",
       "      <td>Multi-modal face recognition</td>\n",
       "      <td>https://app.dimensions.ai/details/patent/US-20...</td>\n",
       "      <td>[{'id': 'grid.266436.3', 'types': ['Education'...</td>\n",
       "      <td>US-20050084140-A1</td>\n",
       "      <td>2005-04-21</td>\n",
       "      <td>47</td>\n",
       "      <td>NaN</td>\n",
       "    </tr>\n",
       "    <tr>\n",
       "      <th>2</th>\n",
       "      <td>2004</td>\n",
       "      <td>[THEOHARIS THEOHARIS, UNIV HOUSTON, KAKADIARIS...</td>\n",
       "      <td>Application</td>\n",
       "      <td>[KAKADIARIS IOANNIS, THEOHARIS THEOHARIS]</td>\n",
       "      <td>[{'id': 'ur.0771415054.83', 'last_name': 'Kaka...</td>\n",
       "      <td>MULTI-MODAL FACE RECOGNITION</td>\n",
       "      <td>https://app.dimensions.ai/details/patent/WO-20...</td>\n",
       "      <td>[{'id': 'grid.266436.3', 'types': ['Education'...</td>\n",
       "      <td>WO-2005020030-A3</td>\n",
       "      <td>2005-04-07</td>\n",
       "      <td>0</td>\n",
       "      <td>NaN</td>\n",
       "    </tr>\n",
       "    <tr>\n",
       "      <th>3</th>\n",
       "      <td>2004</td>\n",
       "      <td>[THEOHARIS THEOHARIS, UNIV HOUSTON, KAKADIARIS...</td>\n",
       "      <td>Application</td>\n",
       "      <td>[KAKADIARIS IOANNIS, THEOHARIS THEOHARIS]</td>\n",
       "      <td>[{'id': 'ur.0771415054.83', 'last_name': 'Kaka...</td>\n",
       "      <td>MULTI-MODAL FACE RECOGNITION</td>\n",
       "      <td>https://app.dimensions.ai/details/patent/WO-20...</td>\n",
       "      <td>[{'id': 'grid.266436.3', 'types': ['Education'...</td>\n",
       "      <td>WO-2005020030-A2</td>\n",
       "      <td>2005-03-03</td>\n",
       "      <td>0</td>\n",
       "      <td>NaN</td>\n",
       "    </tr>\n",
       "    <tr>\n",
       "      <th>4</th>\n",
       "      <td>2004</td>\n",
       "      <td>[BOARD OF REGENTS, University of Houston]</td>\n",
       "      <td>Grant</td>\n",
       "      <td>[KAKADIARIS IOANNIS, THEOHARIS THEOHARIS]</td>\n",
       "      <td>[{'id': 'ur.0771415054.83', 'last_name': 'Kaka...</td>\n",
       "      <td>Multi-modal face recognition</td>\n",
       "      <td>https://app.dimensions.ai/details/patent/US-75...</td>\n",
       "      <td>[{'id': 'grid.266436.3', 'types': ['Education'...</td>\n",
       "      <td>US-7512255-B2</td>\n",
       "      <td>2009-03-31</td>\n",
       "      <td>17</td>\n",
       "      <td>2009.0</td>\n",
       "    </tr>\n",
       "    <tr>\n",
       "      <th>5</th>\n",
       "      <td>2014</td>\n",
       "      <td>[University of Houston System]</td>\n",
       "      <td>Grant</td>\n",
       "      <td>[MOUTAFIS PANAGIOTIS, KAKADIARIS IOANNIS A]</td>\n",
       "      <td>[{'id': 'ur.0771415054.83', 'last_name': 'Kaka...</td>\n",
       "      <td>Rank-based score normalization framework and m...</td>\n",
       "      <td>https://app.dimensions.ai/details/patent/US-10...</td>\n",
       "      <td>[{'id': 'grid.187082.4', 'types': ['Education'...</td>\n",
       "      <td>US-10235344-B2</td>\n",
       "      <td>2019-03-19</td>\n",
       "      <td>1</td>\n",
       "      <td>2019.0</td>\n",
       "    </tr>\n",
       "    <tr>\n",
       "      <th>6</th>\n",
       "      <td>2018</td>\n",
       "      <td>[UNIV COLLEGE DUBLIN NAT UNIV IRELAND DUBLIN]</td>\n",
       "      <td>Application</td>\n",
       "      <td>[AL-SABAH SALAM, LAEFER DEBRA FERN]</td>\n",
       "      <td>[{'id': 'ur.07470163250.71', 'last_name': 'Al-...</td>\n",
       "      <td>STRUCTURAL MEMBER</td>\n",
       "      <td>https://app.dimensions.ai/details/patent/WO-20...</td>\n",
       "      <td>[{'id': 'grid.7886.1', 'types': ['Education'],...</td>\n",
       "      <td>WO-2019092286-A1</td>\n",
       "      <td>2019-05-16</td>\n",
       "      <td>0</td>\n",
       "      <td>NaN</td>\n",
       "    </tr>\n",
       "    <tr>\n",
       "      <th>7</th>\n",
       "      <td>2003</td>\n",
       "      <td>[University of Houston System, Iowa State Univ...</td>\n",
       "      <td>Grant</td>\n",
       "      <td>[KOURI DONALD K, HOFFMAN DAVID K, ARNOLD MARK,...</td>\n",
       "      <td>[{'id': 'ur.01043305330.38', 'last_name': 'Kou...</td>\n",
       "      <td>Methods for performing DAF data filtering and ...</td>\n",
       "      <td>https://app.dimensions.ai/details/patent/US-72...</td>\n",
       "      <td>[{'id': 'grid.34421.30', 'types': ['Education'...</td>\n",
       "      <td>US-7272265-B2</td>\n",
       "      <td>2007-09-18</td>\n",
       "      <td>122</td>\n",
       "      <td>2007.0</td>\n",
       "    </tr>\n",
       "    <tr>\n",
       "      <th>8</th>\n",
       "      <td>1999</td>\n",
       "      <td>[University of Houston System, Iowa State Univ...</td>\n",
       "      <td>Grant</td>\n",
       "      <td>[KOURI DONALD J, HOFFMAN DAVID K, KAKADIARIS I...</td>\n",
       "      <td>[{'id': 'ur.01043305330.38', 'last_name': 'Kou...</td>\n",
       "      <td>Methods for performing DAF data filtering and ...</td>\n",
       "      <td>https://app.dimensions.ai/details/patent/US-68...</td>\n",
       "      <td>[{'id': 'grid.187082.4', 'types': ['Education'...</td>\n",
       "      <td>US-6847737-B1</td>\n",
       "      <td>2005-01-25</td>\n",
       "      <td>192</td>\n",
       "      <td>2005.0</td>\n",
       "    </tr>\n",
       "    <tr>\n",
       "      <th>9</th>\n",
       "      <td>2018</td>\n",
       "      <td>[UNIV COLLEGE DUBLIN NAT UNIV IRELAND DUBLIN, ...</td>\n",
       "      <td>Application</td>\n",
       "      <td>[AL-SABAH SALAM, LAEFER DEBRA FERN]</td>\n",
       "      <td>[{'id': 'ur.07470163250.71', 'last_name': 'Al-...</td>\n",
       "      <td>STRUCTURAL MEMBER</td>\n",
       "      <td>https://app.dimensions.ai/details/patent/US-20...</td>\n",
       "      <td>[{'id': 'grid.7886.1', 'types': ['Education'],...</td>\n",
       "      <td>US-20200378107-A1</td>\n",
       "      <td>2020-12-03</td>\n",
       "      <td>0</td>\n",
       "      <td>NaN</td>\n",
       "    </tr>\n",
       "  </tbody>\n",
       "</table>\n",
       "</div>"
      ],
      "text/plain": [
       "   year                                     assignee_names filing_status  \\\n",
       "0  2014                              [UNIV HOUSTON SYSTEM]   Application   \n",
       "1  2004          [BOARD OF REGENTS, University of Houston]   Application   \n",
       "2  2004  [THEOHARIS THEOHARIS, UNIV HOUSTON, KAKADIARIS...   Application   \n",
       "3  2004  [THEOHARIS THEOHARIS, UNIV HOUSTON, KAKADIARIS...   Application   \n",
       "4  2004          [BOARD OF REGENTS, University of Houston]         Grant   \n",
       "5  2014                     [University of Houston System]         Grant   \n",
       "6  2018      [UNIV COLLEGE DUBLIN NAT UNIV IRELAND DUBLIN]   Application   \n",
       "7  2003  [University of Houston System, Iowa State Univ...         Grant   \n",
       "8  1999  [University of Houston System, Iowa State Univ...         Grant   \n",
       "9  2018  [UNIV COLLEGE DUBLIN NAT UNIV IRELAND DUBLIN, ...   Application   \n",
       "\n",
       "                                      inventor_names  \\\n",
       "0        [KAKADIARIS IOANNIS A, MOUTAFIS PANAGIOTIS]   \n",
       "1          [KAKADIARIS IOANNIS, THEOHARIS THEOHARIS]   \n",
       "2          [KAKADIARIS IOANNIS, THEOHARIS THEOHARIS]   \n",
       "3          [KAKADIARIS IOANNIS, THEOHARIS THEOHARIS]   \n",
       "4          [KAKADIARIS IOANNIS, THEOHARIS THEOHARIS]   \n",
       "5        [MOUTAFIS PANAGIOTIS, KAKADIARIS IOANNIS A]   \n",
       "6                [AL-SABAH SALAM, LAEFER DEBRA FERN]   \n",
       "7  [KOURI DONALD K, HOFFMAN DAVID K, ARNOLD MARK,...   \n",
       "8  [KOURI DONALD J, HOFFMAN DAVID K, KAKADIARIS I...   \n",
       "9                [AL-SABAH SALAM, LAEFER DEBRA FERN]   \n",
       "\n",
       "                                         researchers  \\\n",
       "0  [{'id': 'ur.0771415054.83', 'last_name': 'Kaka...   \n",
       "1  [{'id': 'ur.0771415054.83', 'last_name': 'Kaka...   \n",
       "2  [{'id': 'ur.0771415054.83', 'last_name': 'Kaka...   \n",
       "3  [{'id': 'ur.0771415054.83', 'last_name': 'Kaka...   \n",
       "4  [{'id': 'ur.0771415054.83', 'last_name': 'Kaka...   \n",
       "5  [{'id': 'ur.0771415054.83', 'last_name': 'Kaka...   \n",
       "6  [{'id': 'ur.07470163250.71', 'last_name': 'Al-...   \n",
       "7  [{'id': 'ur.01043305330.38', 'last_name': 'Kou...   \n",
       "8  [{'id': 'ur.01043305330.38', 'last_name': 'Kou...   \n",
       "9  [{'id': 'ur.07470163250.71', 'last_name': 'Al-...   \n",
       "\n",
       "                                               title  \\\n",
       "0  A RANK-BASED SCORE NORMALIZATION FRAMEWORK AND...   \n",
       "1                       Multi-modal face recognition   \n",
       "2                       MULTI-MODAL FACE RECOGNITION   \n",
       "3                       MULTI-MODAL FACE RECOGNITION   \n",
       "4                       Multi-modal face recognition   \n",
       "5  Rank-based score normalization framework and m...   \n",
       "6                                  STRUCTURAL MEMBER   \n",
       "7  Methods for performing DAF data filtering and ...   \n",
       "8  Methods for performing DAF data filtering and ...   \n",
       "9                                  STRUCTURAL MEMBER   \n",
       "\n",
       "                                      dimensions_url  \\\n",
       "0  https://app.dimensions.ai/details/patent/WO-20...   \n",
       "1  https://app.dimensions.ai/details/patent/US-20...   \n",
       "2  https://app.dimensions.ai/details/patent/WO-20...   \n",
       "3  https://app.dimensions.ai/details/patent/WO-20...   \n",
       "4  https://app.dimensions.ai/details/patent/US-75...   \n",
       "5  https://app.dimensions.ai/details/patent/US-10...   \n",
       "6  https://app.dimensions.ai/details/patent/WO-20...   \n",
       "7  https://app.dimensions.ai/details/patent/US-72...   \n",
       "8  https://app.dimensions.ai/details/patent/US-68...   \n",
       "9  https://app.dimensions.ai/details/patent/US-20...   \n",
       "\n",
       "                                           assignees                 id  \\\n",
       "0  [{'id': 'grid.187082.4', 'types': ['Education'...   WO-2014145698-A1   \n",
       "1  [{'id': 'grid.266436.3', 'types': ['Education'...  US-20050084140-A1   \n",
       "2  [{'id': 'grid.266436.3', 'types': ['Education'...   WO-2005020030-A3   \n",
       "3  [{'id': 'grid.266436.3', 'types': ['Education'...   WO-2005020030-A2   \n",
       "4  [{'id': 'grid.266436.3', 'types': ['Education'...      US-7512255-B2   \n",
       "5  [{'id': 'grid.187082.4', 'types': ['Education'...     US-10235344-B2   \n",
       "6  [{'id': 'grid.7886.1', 'types': ['Education'],...   WO-2019092286-A1   \n",
       "7  [{'id': 'grid.34421.30', 'types': ['Education'...      US-7272265-B2   \n",
       "8  [{'id': 'grid.187082.4', 'types': ['Education'...      US-6847737-B1   \n",
       "9  [{'id': 'grid.7886.1', 'types': ['Education'],...  US-20200378107-A1   \n",
       "\n",
       "  publication_date  times_cited  granted_year  \n",
       "0       2014-09-18            0           NaN  \n",
       "1       2005-04-21           47           NaN  \n",
       "2       2005-04-07            0           NaN  \n",
       "3       2005-03-03            0           NaN  \n",
       "4       2009-03-31           17        2009.0  \n",
       "5       2019-03-19            1        2019.0  \n",
       "6       2019-05-16            0           NaN  \n",
       "7       2007-09-18          122        2007.0  \n",
       "8       2005-01-25          192        2005.0  \n",
       "9       2020-12-03            0           NaN  "
      ]
     },
     "execution_count": 72,
     "metadata": {},
     "output_type": "execute_result"
    }
   ],
   "source": [
    "query = f\"\"\"\n",
    "search patents \n",
    "    where researchers.id in {json.dumps(focus)}\n",
    "return patents[basics+researchers+dimensions_url] \n",
    "limit 10\n",
    "\n",
    "\"\"\"\n",
    "\n",
    "patents = dsl.query(query).as_dataframe()\n",
    "patents"
   ]
  },
  {
   "cell_type": "code",
   "execution_count": 73,
   "metadata": {
    "Collapsed": "false"
   },
   "outputs": [
    {
     "name": "stdout",
     "output_type": "stream",
     "text": [
      "..authorizing with google..\u001b[0m\n",
      "..creating a google sheet..\u001b[0m\n",
      "..uploading..\u001b[0m\n"
     ]
    },
    {
     "data": {
      "text/plain": [
       "'https://docs.google.com/spreadsheets/d/1qi4Pzm0iLwEdGh_Hz9kklQlR-qZu0VQAX8Bb-ChfOv0'"
      ]
     },
     "execution_count": 73,
     "metadata": {},
     "output_type": "execute_result"
    }
   ],
   "source": [
    "export_as_gsheets(patents)"
   ]
  },
  {
   "cell_type": "markdown",
   "metadata": {
    "Collapsed": "false"
   },
   "source": [
    "### More learning resources\n",
    "\n",
    "* [Enriching Grants part 3: adding related Patents and Clinical Trials data](https://api-lab.dimensions.ai/cookbooks/3-grants/3-grants-enrichment-adding-patents-cltrials-information.html)\n",
    "* [Retrieve all grants funding publications ](https://api-lab.dimensions.ai/cookbooks/1-getting-started/6-Working-with-lists.html#9.-Patents-example-(patents--%3E-publications))"
   ]
  },
  {
   "cell_type": "markdown",
   "metadata": {
    "Collapsed": "false"
   },
   "source": [
    "## 4. Finding similar awards / publications\n",
    "\n",
    "The procedure is similar for both grants and publications. It involves extracting concepts and then using those concepts to find related records. \n",
    "    \n",
    "Let's generate a sample dataset of NSF grants on 'quantum leap'. NOTE this time the DSL query includes also the field `concepts_scores`.  \n",
    "\n",
    "For background, see also the [Working with concepts in the Dimensions API](https://api-lab.dimensions.ai/cookbooks/1-getting-started/7-Working-with-concepts.html) tutorial.\n",
    "    "
   ]
  },
  {
   "cell_type": "code",
   "execution_count": 133,
   "metadata": {
    "Collapsed": "false"
   },
   "outputs": [
    {
     "name": "stdout",
     "output_type": "stream",
     "text": [
      "Returned Grants: 162 (total = 162)\n",
      "\u001b[2mTime: 1.19s\u001b[0m\n"
     ]
    },
    {
     "data": {
      "text/html": [
       "<div>\n",
       "<style scoped>\n",
       "    .dataframe tbody tr th:only-of-type {\n",
       "        vertical-align: middle;\n",
       "    }\n",
       "\n",
       "    .dataframe tbody tr th {\n",
       "        vertical-align: top;\n",
       "    }\n",
       "\n",
       "    .dataframe thead th {\n",
       "        text-align: right;\n",
       "    }\n",
       "</style>\n",
       "<table border=\"1\" class=\"dataframe\">\n",
       "  <thead>\n",
       "    <tr style=\"text-align: right;\">\n",
       "      <th></th>\n",
       "      <th>id</th>\n",
       "      <th>concepts_scores</th>\n",
       "      <th>title</th>\n",
       "    </tr>\n",
       "  </thead>\n",
       "  <tbody>\n",
       "    <tr>\n",
       "      <th>0</th>\n",
       "      <td>grant.9522833</td>\n",
       "      <td>[{'concept': 'two-dimensional topological mate...</td>\n",
       "      <td>CAREER: Scalable Nanomanufacturing of Two-Dime...</td>\n",
       "    </tr>\n",
       "    <tr>\n",
       "      <th>1</th>\n",
       "      <td>grant.9455596</td>\n",
       "      <td>[{'concept': 'Cornell High Energy Synchrotron ...</td>\n",
       "      <td>Mid-scale RI-2: A first-of-its-kind X-ray faci...</td>\n",
       "    </tr>\n",
       "    <tr>\n",
       "      <th>2</th>\n",
       "      <td>grant.9398686</td>\n",
       "      <td>[{'concept': 'new software abstraction', 'rele...</td>\n",
       "      <td>PPoSS: Planning: THINGULARITY- Taming the Hete...</td>\n",
       "    </tr>\n",
       "    <tr>\n",
       "      <th>3</th>\n",
       "      <td>grant.9382743</td>\n",
       "      <td>[{'concept': 'quantum technologies', 'relevanc...</td>\n",
       "      <td>Collaborative Research: AccelNet: Global Quant...</td>\n",
       "    </tr>\n",
       "    <tr>\n",
       "      <th>4</th>\n",
       "      <td>grant.9382744</td>\n",
       "      <td>[{'concept': 'quantum technologies', 'relevanc...</td>\n",
       "      <td>Collaborative Research: AccelNet: Global Quant...</td>\n",
       "    </tr>\n",
       "    <tr>\n",
       "      <th>...</th>\n",
       "      <td>...</td>\n",
       "      <td>...</td>\n",
       "      <td>...</td>\n",
       "    </tr>\n",
       "    <tr>\n",
       "      <th>157</th>\n",
       "      <td>grant.3128420</td>\n",
       "      <td>[{'concept': 'material modification', 'relevan...</td>\n",
       "      <td>MRI: Development of a Versatile High Energy Re...</td>\n",
       "    </tr>\n",
       "    <tr>\n",
       "      <th>158</th>\n",
       "      <td>grant.3128904</td>\n",
       "      <td>[{'concept': 'sea surface salinity', 'relevanc...</td>\n",
       "      <td>Long Term Salinity Measurements</td>\n",
       "    </tr>\n",
       "    <tr>\n",
       "      <th>159</th>\n",
       "      <td>grant.3126824</td>\n",
       "      <td>[{'concept': 'human-computer interface', 'rele...</td>\n",
       "      <td>HCC: Small: Assistive Social Situational Aware...</td>\n",
       "    </tr>\n",
       "    <tr>\n",
       "      <th>160</th>\n",
       "      <td>grant.2999366</td>\n",
       "      <td>[{'concept': 'software pipeline', 'relevance':...</td>\n",
       "      <td>Collaborative Research: Booming or Beaming? So...</td>\n",
       "    </tr>\n",
       "    <tr>\n",
       "      <th>161</th>\n",
       "      <td>grant.3057561</td>\n",
       "      <td>[{'concept': 'Iceland Deep Drilling Project', ...</td>\n",
       "      <td>Collaborative Research on the Iceland Deep Dri...</td>\n",
       "    </tr>\n",
       "  </tbody>\n",
       "</table>\n",
       "<p>162 rows × 3 columns</p>\n",
       "</div>"
      ],
      "text/plain": [
       "                id                                    concepts_scores  \\\n",
       "0    grant.9522833  [{'concept': 'two-dimensional topological mate...   \n",
       "1    grant.9455596  [{'concept': 'Cornell High Energy Synchrotron ...   \n",
       "2    grant.9398686  [{'concept': 'new software abstraction', 'rele...   \n",
       "3    grant.9382743  [{'concept': 'quantum technologies', 'relevanc...   \n",
       "4    grant.9382744  [{'concept': 'quantum technologies', 'relevanc...   \n",
       "..             ...                                                ...   \n",
       "157  grant.3128420  [{'concept': 'material modification', 'relevan...   \n",
       "158  grant.3128904  [{'concept': 'sea surface salinity', 'relevanc...   \n",
       "159  grant.3126824  [{'concept': 'human-computer interface', 'rele...   \n",
       "160  grant.2999366  [{'concept': 'software pipeline', 'relevance':...   \n",
       "161  grant.3057561  [{'concept': 'Iceland Deep Drilling Project', ...   \n",
       "\n",
       "                                                 title  \n",
       "0    CAREER: Scalable Nanomanufacturing of Two-Dime...  \n",
       "1    Mid-scale RI-2: A first-of-its-kind X-ray faci...  \n",
       "2    PPoSS: Planning: THINGULARITY- Taming the Hete...  \n",
       "3    Collaborative Research: AccelNet: Global Quant...  \n",
       "4    Collaborative Research: AccelNet: Global Quant...  \n",
       "..                                                 ...  \n",
       "157  MRI: Development of a Versatile High Energy Re...  \n",
       "158                    Long Term Salinity Measurements  \n",
       "159  HCC: Small: Assistive Social Situational Aware...  \n",
       "160  Collaborative Research: Booming or Beaming? So...  \n",
       "161  Collaborative Research on the Iceland Deep Dri...  \n",
       "\n",
       "[162 rows x 3 columns]"
      ]
     },
     "execution_count": 133,
     "metadata": {},
     "output_type": "execute_result"
    }
   ],
   "source": [
    "query = f\"\"\"\n",
    "search grants \n",
    "    for \"quantum leap\" \n",
    "    where funders.id in {json.dumps(nsfgrids)}\n",
    "    and active_year >= 2015 \n",
    "return grants[id+title+concepts_scores] limit 1000\n",
    "\"\"\"\n",
    "\n",
    "grants = dsl.query(query)\n",
    "grants.as_dataframe()"
   ]
  },
  {
   "cell_type": "markdown",
   "metadata": {
    "Collapsed": "false"
   },
   "source": [
    "We then 'explode' the concepts data so to remove nested values"
   ]
  },
  {
   "cell_type": "code",
   "execution_count": 134,
   "metadata": {
    "Collapsed": "false"
   },
   "outputs": [
    {
     "data": {
      "text/html": [
       "<div>\n",
       "<style scoped>\n",
       "    .dataframe tbody tr th:only-of-type {\n",
       "        vertical-align: middle;\n",
       "    }\n",
       "\n",
       "    .dataframe tbody tr th {\n",
       "        vertical-align: top;\n",
       "    }\n",
       "\n",
       "    .dataframe thead th {\n",
       "        text-align: right;\n",
       "    }\n",
       "</style>\n",
       "<table border=\"1\" class=\"dataframe\">\n",
       "  <thead>\n",
       "    <tr style=\"text-align: right;\">\n",
       "      <th></th>\n",
       "      <th>id</th>\n",
       "      <th>title</th>\n",
       "      <th>concepts_count</th>\n",
       "      <th>concept</th>\n",
       "      <th>score</th>\n",
       "      <th>frequency</th>\n",
       "      <th>score_avg</th>\n",
       "    </tr>\n",
       "  </thead>\n",
       "  <tbody>\n",
       "    <tr>\n",
       "      <th>0</th>\n",
       "      <td>grant.9522833</td>\n",
       "      <td>CAREER: Scalable Nanomanufacturing of Two-Dime...</td>\n",
       "      <td>153</td>\n",
       "      <td>two-dimensional topological materials</td>\n",
       "      <td>0.733</td>\n",
       "      <td>1</td>\n",
       "      <td>0.73300</td>\n",
       "    </tr>\n",
       "    <tr>\n",
       "      <th>1</th>\n",
       "      <td>grant.9522833</td>\n",
       "      <td>CAREER: Scalable Nanomanufacturing of Two-Dime...</td>\n",
       "      <td>153</td>\n",
       "      <td>continuous flow process</td>\n",
       "      <td>0.711</td>\n",
       "      <td>1</td>\n",
       "      <td>0.71100</td>\n",
       "    </tr>\n",
       "    <tr>\n",
       "      <th>2</th>\n",
       "      <td>grant.9522833</td>\n",
       "      <td>CAREER: Scalable Nanomanufacturing of Two-Dime...</td>\n",
       "      <td>153</td>\n",
       "      <td>flow processes</td>\n",
       "      <td>0.707</td>\n",
       "      <td>1</td>\n",
       "      <td>0.70700</td>\n",
       "    </tr>\n",
       "    <tr>\n",
       "      <th>3</th>\n",
       "      <td>grant.9522833</td>\n",
       "      <td>CAREER: Scalable Nanomanufacturing of Two-Dime...</td>\n",
       "      <td>153</td>\n",
       "      <td>device applications</td>\n",
       "      <td>0.678</td>\n",
       "      <td>3</td>\n",
       "      <td>0.58700</td>\n",
       "    </tr>\n",
       "    <tr>\n",
       "      <th>4</th>\n",
       "      <td>grant.9522833</td>\n",
       "      <td>CAREER: Scalable Nanomanufacturing of Two-Dime...</td>\n",
       "      <td>153</td>\n",
       "      <td>energy-efficient electronics</td>\n",
       "      <td>0.674</td>\n",
       "      <td>3</td>\n",
       "      <td>0.47733</td>\n",
       "    </tr>\n",
       "    <tr>\n",
       "      <th>...</th>\n",
       "      <td>...</td>\n",
       "      <td>...</td>\n",
       "      <td>...</td>\n",
       "      <td>...</td>\n",
       "      <td>...</td>\n",
       "      <td>...</td>\n",
       "      <td>...</td>\n",
       "    </tr>\n",
       "    <tr>\n",
       "      <th>20507</th>\n",
       "      <td>grant.3057561</td>\n",
       "      <td>Collaborative Research on the Iceland Deep Dri...</td>\n",
       "      <td>123</td>\n",
       "      <td>funds</td>\n",
       "      <td>0.105</td>\n",
       "      <td>2</td>\n",
       "      <td>0.10650</td>\n",
       "    </tr>\n",
       "    <tr>\n",
       "      <th>20508</th>\n",
       "      <td>grant.3057561</td>\n",
       "      <td>Collaborative Research on the Iceland Deep Dri...</td>\n",
       "      <td>123</td>\n",
       "      <td>participation</td>\n",
       "      <td>0.098</td>\n",
       "      <td>23</td>\n",
       "      <td>0.10604</td>\n",
       "    </tr>\n",
       "    <tr>\n",
       "      <th>20509</th>\n",
       "      <td>grant.3057561</td>\n",
       "      <td>Collaborative Research on the Iceland Deep Dri...</td>\n",
       "      <td>123</td>\n",
       "      <td>smokers</td>\n",
       "      <td>0.068</td>\n",
       "      <td>1</td>\n",
       "      <td>0.06800</td>\n",
       "    </tr>\n",
       "    <tr>\n",
       "      <th>20510</th>\n",
       "      <td>grant.3057561</td>\n",
       "      <td>Collaborative Research on the Iceland Deep Dri...</td>\n",
       "      <td>123</td>\n",
       "      <td>elders</td>\n",
       "      <td>0.059</td>\n",
       "      <td>1</td>\n",
       "      <td>0.05900</td>\n",
       "    </tr>\n",
       "    <tr>\n",
       "      <th>20511</th>\n",
       "      <td>grant.3057561</td>\n",
       "      <td>Collaborative Research on the Iceland Deep Dri...</td>\n",
       "      <td>123</td>\n",
       "      <td>such active processes</td>\n",
       "      <td>0.001</td>\n",
       "      <td>1</td>\n",
       "      <td>0.00100</td>\n",
       "    </tr>\n",
       "  </tbody>\n",
       "</table>\n",
       "<p>20512 rows × 7 columns</p>\n",
       "</div>"
      ],
      "text/plain": [
       "                  id                                              title  \\\n",
       "0      grant.9522833  CAREER: Scalable Nanomanufacturing of Two-Dime...   \n",
       "1      grant.9522833  CAREER: Scalable Nanomanufacturing of Two-Dime...   \n",
       "2      grant.9522833  CAREER: Scalable Nanomanufacturing of Two-Dime...   \n",
       "3      grant.9522833  CAREER: Scalable Nanomanufacturing of Two-Dime...   \n",
       "4      grant.9522833  CAREER: Scalable Nanomanufacturing of Two-Dime...   \n",
       "...              ...                                                ...   \n",
       "20507  grant.3057561  Collaborative Research on the Iceland Deep Dri...   \n",
       "20508  grant.3057561  Collaborative Research on the Iceland Deep Dri...   \n",
       "20509  grant.3057561  Collaborative Research on the Iceland Deep Dri...   \n",
       "20510  grant.3057561  Collaborative Research on the Iceland Deep Dri...   \n",
       "20511  grant.3057561  Collaborative Research on the Iceland Deep Dri...   \n",
       "\n",
       "       concepts_count                                concept  score  \\\n",
       "0                 153  two-dimensional topological materials  0.733   \n",
       "1                 153                continuous flow process  0.711   \n",
       "2                 153                         flow processes  0.707   \n",
       "3                 153                    device applications  0.678   \n",
       "4                 153           energy-efficient electronics  0.674   \n",
       "...               ...                                    ...    ...   \n",
       "20507             123                                  funds  0.105   \n",
       "20508             123                          participation  0.098   \n",
       "20509             123                                smokers  0.068   \n",
       "20510             123                                 elders  0.059   \n",
       "20511             123                  such active processes  0.001   \n",
       "\n",
       "       frequency  score_avg  \n",
       "0              1    0.73300  \n",
       "1              1    0.71100  \n",
       "2              1    0.70700  \n",
       "3              3    0.58700  \n",
       "4              3    0.47733  \n",
       "...          ...        ...  \n",
       "20507          2    0.10650  \n",
       "20508         23    0.10604  \n",
       "20509          1    0.06800  \n",
       "20510          1    0.05900  \n",
       "20511          1    0.00100  \n",
       "\n",
       "[20512 rows x 7 columns]"
      ]
     },
     "execution_count": 134,
     "metadata": {},
     "output_type": "execute_result"
    }
   ],
   "source": [
    "concepts = grants.as_dataframe_concepts()\n",
    "concepts"
   ]
  },
  {
   "cell_type": "markdown",
   "metadata": {
    "Collapsed": "false"
   },
   "source": [
    "### 4.1 Analysing the concepts we found using frequency and score "
   ]
  },
  {
   "cell_type": "code",
   "execution_count": 135,
   "metadata": {
    "Collapsed": "false"
   },
   "outputs": [
    {
     "data": {
      "text/html": [
       "<div>\n",
       "<style scoped>\n",
       "    .dataframe tbody tr th:only-of-type {\n",
       "        vertical-align: middle;\n",
       "    }\n",
       "\n",
       "    .dataframe tbody tr th {\n",
       "        vertical-align: top;\n",
       "    }\n",
       "\n",
       "    .dataframe thead th {\n",
       "        text-align: right;\n",
       "    }\n",
       "</style>\n",
       "<table border=\"1\" class=\"dataframe\">\n",
       "  <thead>\n",
       "    <tr style=\"text-align: right;\">\n",
       "      <th></th>\n",
       "      <th>concept</th>\n",
       "      <th>frequency</th>\n",
       "      <th>score_avg</th>\n",
       "    </tr>\n",
       "  </thead>\n",
       "  <tbody>\n",
       "    <tr>\n",
       "      <th>0</th>\n",
       "      <td>two-dimensional topological materials</td>\n",
       "      <td>1</td>\n",
       "      <td>0.73300</td>\n",
       "    </tr>\n",
       "    <tr>\n",
       "      <th>1</th>\n",
       "      <td>continuous flow process</td>\n",
       "      <td>1</td>\n",
       "      <td>0.71100</td>\n",
       "    </tr>\n",
       "    <tr>\n",
       "      <th>2</th>\n",
       "      <td>flow processes</td>\n",
       "      <td>1</td>\n",
       "      <td>0.70700</td>\n",
       "    </tr>\n",
       "    <tr>\n",
       "      <th>3</th>\n",
       "      <td>device applications</td>\n",
       "      <td>3</td>\n",
       "      <td>0.58700</td>\n",
       "    </tr>\n",
       "    <tr>\n",
       "      <th>4</th>\n",
       "      <td>energy-efficient electronics</td>\n",
       "      <td>3</td>\n",
       "      <td>0.47733</td>\n",
       "    </tr>\n",
       "    <tr>\n",
       "      <th>...</th>\n",
       "      <td>...</td>\n",
       "      <td>...</td>\n",
       "      <td>...</td>\n",
       "    </tr>\n",
       "    <tr>\n",
       "      <th>20499</th>\n",
       "      <td>Power Company</td>\n",
       "      <td>1</td>\n",
       "      <td>0.18000</td>\n",
       "    </tr>\n",
       "    <tr>\n",
       "      <th>20504</th>\n",
       "      <td>handling</td>\n",
       "      <td>1</td>\n",
       "      <td>0.12700</td>\n",
       "    </tr>\n",
       "    <tr>\n",
       "      <th>20509</th>\n",
       "      <td>smokers</td>\n",
       "      <td>1</td>\n",
       "      <td>0.06800</td>\n",
       "    </tr>\n",
       "    <tr>\n",
       "      <th>20510</th>\n",
       "      <td>elders</td>\n",
       "      <td>1</td>\n",
       "      <td>0.05900</td>\n",
       "    </tr>\n",
       "    <tr>\n",
       "      <th>20511</th>\n",
       "      <td>such active processes</td>\n",
       "      <td>1</td>\n",
       "      <td>0.00100</td>\n",
       "    </tr>\n",
       "  </tbody>\n",
       "</table>\n",
       "<p>7677 rows × 3 columns</p>\n",
       "</div>"
      ],
      "text/plain": [
       "                                     concept  frequency  score_avg\n",
       "0      two-dimensional topological materials          1    0.73300\n",
       "1                    continuous flow process          1    0.71100\n",
       "2                             flow processes          1    0.70700\n",
       "3                        device applications          3    0.58700\n",
       "4               energy-efficient electronics          3    0.47733\n",
       "...                                      ...        ...        ...\n",
       "20499                          Power Company          1    0.18000\n",
       "20504                               handling          1    0.12700\n",
       "20509                                smokers          1    0.06800\n",
       "20510                                 elders          1    0.05900\n",
       "20511                  such active processes          1    0.00100\n",
       "\n",
       "[7677 rows x 3 columns]"
      ]
     },
     "execution_count": 135,
     "metadata": {},
     "output_type": "execute_result"
    }
   ],
   "source": [
    "concepts_unique = concepts.drop_duplicates(\"concept\")[['concept', 'frequency', 'score_avg']]\n",
    "concepts_unique"
   ]
  },
  {
   "cell_type": "markdown",
   "metadata": {
    "Collapsed": "false"
   },
   "source": [
    "We can use the plotly visualization library to explore the concepts:"
   ]
  },
  {
   "cell_type": "code",
   "execution_count": 136,
   "metadata": {
    "Collapsed": "false"
   },
   "outputs": [
    {
     "data": {
      "application/vnd.plotly.v1+json": {
       "config": {
        "plotlyServerURL": "https://plot.ly"
       },
       "data": [
        {
         "hovertemplate": "concept=%{x}<br>frequency=%{y}<br>score_avg=%{marker.color}<extra></extra>",
         "legendgroup": "",
         "marker": {
          "color": [
           0.888,
           0.8235,
           0.804,
           0.8008,
           0.796,
           0.7955,
           0.7885,
           0.788,
           0.783,
           0.778,
           0.772,
           0.77,
           0.7685,
           0.7628,
           0.762,
           0.761,
           0.761,
           0.7605,
           0.756,
           0.75425,
           0.75025,
           0.74925,
           0.74875,
           0.7485,
           0.745,
           0.745,
           0.74017,
           0.74,
           0.7395,
           0.739,
           0.7385,
           0.738,
           0.73733,
           0.73732,
           0.737,
           0.7365,
           0.736,
           0.7355,
           0.735,
           0.7335,
           0.7325,
           0.732,
           0.7315,
           0.731,
           0.731,
           0.73,
           0.7295,
           0.728,
           0.7265,
           0.72367,
           0.723,
           0.72258,
           0.72222,
           0.722,
           0.722,
           0.7218,
           0.721,
           0.7205,
           0.72,
           0.72,
           0.7185,
           0.717,
           0.717,
           0.71695,
           0.7155,
           0.7125,
           0.712,
           0.71167,
           0.711,
           0.71,
           0.71,
           0.71,
           0.71,
           0.709,
           0.709,
           0.709,
           0.7088,
           0.708,
           0.708,
           0.7065,
           0.7055,
           0.705,
           0.70426,
           0.7035,
           0.70314,
           0.701,
           0.69967,
           0.699,
           0.699,
           0.698,
           0.698,
           0.697,
           0.6965,
           0.696,
           0.6955,
           0.695,
           0.69433,
           0.69367,
           0.69343,
           0.69294,
           0.69267,
           0.6925,
           0.691,
           0.69,
           0.68881,
           0.68829,
           0.68675,
           0.686,
           0.68552,
           0.6855,
           0.685,
           0.684,
           0.6835,
           0.68333,
           0.6832,
           0.683,
           0.683,
           0.682,
           0.681,
           0.681,
           0.681,
           0.6805,
           0.68035,
           0.68,
           0.68,
           0.679,
           0.679,
           0.678,
           0.678,
           0.67767,
           0.677,
           0.67686,
           0.6765,
           0.6765,
           0.676,
           0.676,
           0.6756,
           0.675,
           0.675,
           0.675,
           0.67475,
           0.674,
           0.674,
           0.6735,
           0.673,
           0.673,
           0.673,
           0.673,
           0.673,
           0.672,
           0.672,
           0.67167,
           0.67138,
           0.671,
           0.671,
           0.6695,
           0.669,
           0.669,
           0.66825,
           0.668,
           0.667,
           0.666,
           0.666,
           0.666,
           0.6658,
           0.66575,
           0.665,
           0.665,
           0.664,
           0.664,
           0.664,
           0.663,
           0.663,
           0.663,
           0.66288,
           0.6625,
           0.662,
           0.66167,
           0.6615,
           0.6615,
           0.66114,
           0.661,
           0.6605,
           0.6605,
           0.65967,
           0.659,
           0.659,
           0.659,
           0.659,
           0.65867,
           0.65855,
           0.65825,
           0.658,
           0.658,
           0.658,
           0.658,
           0.658,
           0.6572,
           0.657,
           0.6565
          ],
          "coloraxis": "coloraxis",
          "size": [
           0.888,
           0.8235,
           0.804,
           0.8008,
           0.796,
           0.7955,
           0.7885,
           0.788,
           0.783,
           0.778,
           0.772,
           0.77,
           0.7685,
           0.7628,
           0.762,
           0.761,
           0.761,
           0.7605,
           0.756,
           0.75425,
           0.75025,
           0.74925,
           0.74875,
           0.7485,
           0.745,
           0.745,
           0.74017,
           0.74,
           0.7395,
           0.739,
           0.7385,
           0.738,
           0.73733,
           0.73732,
           0.737,
           0.7365,
           0.736,
           0.7355,
           0.735,
           0.7335,
           0.7325,
           0.732,
           0.7315,
           0.731,
           0.731,
           0.73,
           0.7295,
           0.728,
           0.7265,
           0.72367,
           0.723,
           0.72258,
           0.72222,
           0.722,
           0.722,
           0.7218,
           0.721,
           0.7205,
           0.72,
           0.72,
           0.7185,
           0.717,
           0.717,
           0.71695,
           0.7155,
           0.7125,
           0.712,
           0.71167,
           0.711,
           0.71,
           0.71,
           0.71,
           0.71,
           0.709,
           0.709,
           0.709,
           0.7088,
           0.708,
           0.708,
           0.7065,
           0.7055,
           0.705,
           0.70426,
           0.7035,
           0.70314,
           0.701,
           0.69967,
           0.699,
           0.699,
           0.698,
           0.698,
           0.697,
           0.6965,
           0.696,
           0.6955,
           0.695,
           0.69433,
           0.69367,
           0.69343,
           0.69294,
           0.69267,
           0.6925,
           0.691,
           0.69,
           0.68881,
           0.68829,
           0.68675,
           0.686,
           0.68552,
           0.6855,
           0.685,
           0.684,
           0.6835,
           0.68333,
           0.6832,
           0.683,
           0.683,
           0.682,
           0.681,
           0.681,
           0.681,
           0.6805,
           0.68035,
           0.68,
           0.68,
           0.679,
           0.679,
           0.678,
           0.678,
           0.67767,
           0.677,
           0.67686,
           0.6765,
           0.6765,
           0.676,
           0.676,
           0.6756,
           0.675,
           0.675,
           0.675,
           0.67475,
           0.674,
           0.674,
           0.6735,
           0.673,
           0.673,
           0.673,
           0.673,
           0.673,
           0.672,
           0.672,
           0.67167,
           0.67138,
           0.671,
           0.671,
           0.6695,
           0.669,
           0.669,
           0.66825,
           0.668,
           0.667,
           0.666,
           0.666,
           0.666,
           0.6658,
           0.66575,
           0.665,
           0.665,
           0.664,
           0.664,
           0.664,
           0.663,
           0.663,
           0.663,
           0.66288,
           0.6625,
           0.662,
           0.66167,
           0.6615,
           0.6615,
           0.66114,
           0.661,
           0.6605,
           0.6605,
           0.65967,
           0.659,
           0.659,
           0.659,
           0.659,
           0.65867,
           0.65855,
           0.65825,
           0.658,
           0.658,
           0.658,
           0.658,
           0.658,
           0.6572,
           0.657,
           0.6565
          ],
          "sizemode": "area",
          "sizeref": 0.00222,
          "symbol": "circle"
         },
         "mode": "markers",
         "name": "",
         "orientation": "v",
         "showlegend": false,
         "type": "scatter",
         "x": [
          "solid-state quantum emitters",
          "quantum logic operations",
          "monolayer WSe2",
          "second quantum revolution",
          "quantum information applications",
          "scalable quantum technologies",
          "quantum gates",
          "multifunctional coatings",
          "individual quantum systems",
          "mobile atomic species",
          "light emitters",
          "semiconductor structures",
          "transition-metal dichalcogenides",
          "single-photon emitters",
          "room-temperature quantum emitters",
          "half-matter quasiparticles",
          "nano-optical antennas",
          "quantum-based technologies",
          "light-matter interaction",
          "topological insulators",
          "quantum information processing",
          "neutron stars",
          "exciton states",
          "quantum information processing devices",
          "information processing devices",
          "layer material",
          "quantum emitters",
          "quantum photonic technologies",
          "nuclear spin qubits",
          "quantum information technology",
          "ultra-high vacuum technology",
          "atomic physics",
          "atomic species",
          "quantum information science",
          "single optical photons",
          "thin film materials",
          "long coherence times",
          "black holes",
          "atomic diffusion",
          "quantum applications",
          "photonic information processing",
          "optoelectronic building blocks",
          "National High Magnetic Field Laboratory",
          "coherent quantum systems",
          "transition metal dichalcogenide monolayers",
          "cavity quantum electrodynamics",
          "nuclear spins",
          "exciton polaritons",
          "different quantum systems",
          "quantum particle",
          "monolayers of WSe2",
          "quantum mechanics",
          "two-dimensional materials",
          "complex quantum systems",
          "single atomic layer",
          "quantum coherence",
          "polar codes",
          "chemistry program",
          "secure optical communications",
          "error-correcting performance",
          "spin texture",
          "parameter space",
          "tunable light emitters",
          "quantum systems",
          "single photons",
          "Strategic Computing Initiative",
          "metal dichalcogenide monolayers",
          "semiconductor heterostructures",
          "mathematical physics",
          "quantum optics",
          "ultra-thin materials",
          "unique probe",
          "quantum theory",
          "open quantum systems",
          "error-correcting codes",
          "low delay requirements",
          "quantum information community",
          "network communication problems",
          "large-scale synthesis",
          "machine intelligence",
          "coherence time",
          "different semiconductor materials",
          "quantum materials",
          "information applications",
          "quantum algorithms",
          "electronic states",
          "wireless communication",
          "low-density parity-check (LDPC) codes",
          "Unique Games Conjecture",
          "quantum computing systems",
          "emission of light",
          "wireless network setting",
          "quantum software",
          "quantum advantage",
          "quantum spin systems",
          "photonic band structure",
          "solid state",
          "topological superconductors",
          "quantum networks",
          "quantum revolution",
          "molecular systems",
          "ocean crust",
          "parity-check (LDPC) codes",
          "electronic device fabrication",
          "quantum simulation",
          "quantum technologies",
          "elements of devices",
          "quantum processor",
          "quantum computer",
          "logic operations",
          "numerical finite element model",
          "optical photons",
          "solid-state physics",
          "wireless systems",
          "quantum phenomena",
          "cold atoms",
          "additional throughput gain",
          "semiconductor alloy films",
          "magnetic materials",
          "NV centers",
          "spin qubits",
          "quantum repeaters",
          "quantum communication",
          "atomic states",
          "sparse graph codes",
          "quantum properties",
          "ultrafast spectroscopy",
          "individual photons",
          "hardness of approximation",
          "quantum effects",
          "Argonne National Laboratory",
          "quantum sensing",
          "resonator array",
          "quantum computing devices",
          "quantum dots",
          "chemical structure",
          "solar cells",
          "quantum behavior",
          "matter interactions",
          "semiconductor layer thickness",
          "quantum superposition",
          "transition metal dichalcogenides",
          "stress field",
          "chemical vapor deposition",
          "High Magnetic Field Laboratory",
          "broad parameter space",
          "plasmonic antennas",
          "micro-fabrication techniques",
          "crack propagation path",
          "quantum sensors",
          "thin film sensor arrays",
          "quantum electrodynamics",
          "classical computers",
          "modern lasers",
          "continuum damage model",
          "nitrogen vacancy centers",
          "photonic technologies",
          "information infrastructure",
          "fundamental physics",
          "laser beam",
          "quantum error correction",
          "quantum exchange",
          "Department of Chemistry",
          "semiconductor systems",
          "optical properties",
          "quantum cryptography",
          "optical devices",
          "necessary operating conditions",
          "photonic materials",
          "micro-resonators",
          "quantum analogue",
          "quantum communities",
          "optical communications",
          "laser light",
          "quantum chemistry",
          "single atoms",
          "photonic architectures",
          "quantum states",
          "electric field",
          "software stack",
          "quantum entanglement",
          "quantum control",
          "quantum protocols",
          "Division of Physics",
          "experimental signatures",
          "information science community",
          "film materials",
          "semiconductor substrate",
          "dichalcogenide monolayers",
          "coherent states",
          "quantum science",
          "quantum information",
          "quantum nature",
          "abrupt interfaces",
          "elastic stresses",
          "sensor calibration method",
          "finite element model",
          "quantum engineering",
          "epitaxial technology",
          "magnetic field"
         ],
         "xaxis": "x",
         "y": [
          2,
          2,
          2,
          5,
          2,
          2,
          2,
          2,
          2,
          2,
          2,
          2,
          2,
          5,
          2,
          2,
          2,
          2,
          2,
          4,
          8,
          4,
          4,
          2,
          3,
          2,
          6,
          3,
          2,
          3,
          4,
          2,
          3,
          37,
          2,
          2,
          4,
          2,
          2,
          2,
          2,
          2,
          2,
          2,
          2,
          3,
          2,
          2,
          2,
          3,
          2,
          12,
          9,
          2,
          2,
          5,
          2,
          2,
          2,
          2,
          2,
          2,
          2,
          20,
          2,
          2,
          2,
          3,
          3,
          6,
          2,
          2,
          2,
          2,
          2,
          2,
          5,
          2,
          2,
          2,
          6,
          2,
          23,
          2,
          7,
          2,
          3,
          2,
          2,
          4,
          2,
          2,
          2,
          4,
          2,
          2,
          3,
          3,
          7,
          18,
          3,
          2,
          2,
          2,
          26,
          31,
          4,
          3,
          25,
          2,
          2,
          2,
          2,
          3,
          5,
          2,
          2,
          2,
          5,
          2,
          2,
          2,
          23,
          3,
          2,
          3,
          2,
          2,
          2,
          3,
          2,
          7,
          2,
          2,
          3,
          2,
          5,
          2,
          2,
          2,
          4,
          3,
          2,
          2,
          2,
          2,
          2,
          2,
          2,
          7,
          2,
          3,
          8,
          2,
          2,
          2,
          3,
          2,
          4,
          2,
          2,
          4,
          2,
          2,
          5,
          4,
          2,
          2,
          3,
          2,
          2,
          4,
          3,
          2,
          8,
          4,
          2,
          15,
          2,
          2,
          7,
          2,
          4,
          2,
          3,
          4,
          2,
          2,
          2,
          3,
          20,
          16,
          2,
          2,
          2,
          2,
          2,
          5,
          2,
          6
         ],
         "yaxis": "y"
        }
       ],
       "layout": {
        "autosize": true,
        "coloraxis": {
         "colorbar": {
          "title": {
           "text": "score_avg"
          }
         },
         "colorscale": [
          [
           0,
           "#0d0887"
          ],
          [
           0.1111111111111111,
           "#46039f"
          ],
          [
           0.2222222222222222,
           "#7201a8"
          ],
          [
           0.3333333333333333,
           "#9c179e"
          ],
          [
           0.4444444444444444,
           "#bd3786"
          ],
          [
           0.5555555555555556,
           "#d8576b"
          ],
          [
           0.6666666666666666,
           "#ed7953"
          ],
          [
           0.7777777777777778,
           "#fb9f3a"
          ],
          [
           0.8888888888888888,
           "#fdca26"
          ],
          [
           1,
           "#f0f921"
          ]
         ]
        },
        "legend": {
         "itemsizing": "constant",
         "tracegroupgap": 0
        },
        "margin": {
         "t": 60
        },
        "template": {
         "data": {
          "bar": [
           {
            "error_x": {
             "color": "#2a3f5f"
            },
            "error_y": {
             "color": "#2a3f5f"
            },
            "marker": {
             "line": {
              "color": "#E5ECF6",
              "width": 0.5
             }
            },
            "type": "bar"
           }
          ],
          "barpolar": [
           {
            "marker": {
             "line": {
              "color": "#E5ECF6",
              "width": 0.5
             }
            },
            "type": "barpolar"
           }
          ],
          "carpet": [
           {
            "aaxis": {
             "endlinecolor": "#2a3f5f",
             "gridcolor": "white",
             "linecolor": "white",
             "minorgridcolor": "white",
             "startlinecolor": "#2a3f5f"
            },
            "baxis": {
             "endlinecolor": "#2a3f5f",
             "gridcolor": "white",
             "linecolor": "white",
             "minorgridcolor": "white",
             "startlinecolor": "#2a3f5f"
            },
            "type": "carpet"
           }
          ],
          "choropleth": [
           {
            "colorbar": {
             "outlinewidth": 0,
             "ticks": ""
            },
            "type": "choropleth"
           }
          ],
          "contour": [
           {
            "colorbar": {
             "outlinewidth": 0,
             "ticks": ""
            },
            "colorscale": [
             [
              0,
              "#0d0887"
             ],
             [
              0.1111111111111111,
              "#46039f"
             ],
             [
              0.2222222222222222,
              "#7201a8"
             ],
             [
              0.3333333333333333,
              "#9c179e"
             ],
             [
              0.4444444444444444,
              "#bd3786"
             ],
             [
              0.5555555555555556,
              "#d8576b"
             ],
             [
              0.6666666666666666,
              "#ed7953"
             ],
             [
              0.7777777777777778,
              "#fb9f3a"
             ],
             [
              0.8888888888888888,
              "#fdca26"
             ],
             [
              1,
              "#f0f921"
             ]
            ],
            "type": "contour"
           }
          ],
          "contourcarpet": [
           {
            "colorbar": {
             "outlinewidth": 0,
             "ticks": ""
            },
            "type": "contourcarpet"
           }
          ],
          "heatmap": [
           {
            "colorbar": {
             "outlinewidth": 0,
             "ticks": ""
            },
            "colorscale": [
             [
              0,
              "#0d0887"
             ],
             [
              0.1111111111111111,
              "#46039f"
             ],
             [
              0.2222222222222222,
              "#7201a8"
             ],
             [
              0.3333333333333333,
              "#9c179e"
             ],
             [
              0.4444444444444444,
              "#bd3786"
             ],
             [
              0.5555555555555556,
              "#d8576b"
             ],
             [
              0.6666666666666666,
              "#ed7953"
             ],
             [
              0.7777777777777778,
              "#fb9f3a"
             ],
             [
              0.8888888888888888,
              "#fdca26"
             ],
             [
              1,
              "#f0f921"
             ]
            ],
            "type": "heatmap"
           }
          ],
          "heatmapgl": [
           {
            "colorbar": {
             "outlinewidth": 0,
             "ticks": ""
            },
            "colorscale": [
             [
              0,
              "#0d0887"
             ],
             [
              0.1111111111111111,
              "#46039f"
             ],
             [
              0.2222222222222222,
              "#7201a8"
             ],
             [
              0.3333333333333333,
              "#9c179e"
             ],
             [
              0.4444444444444444,
              "#bd3786"
             ],
             [
              0.5555555555555556,
              "#d8576b"
             ],
             [
              0.6666666666666666,
              "#ed7953"
             ],
             [
              0.7777777777777778,
              "#fb9f3a"
             ],
             [
              0.8888888888888888,
              "#fdca26"
             ],
             [
              1,
              "#f0f921"
             ]
            ],
            "type": "heatmapgl"
           }
          ],
          "histogram": [
           {
            "marker": {
             "colorbar": {
              "outlinewidth": 0,
              "ticks": ""
             }
            },
            "type": "histogram"
           }
          ],
          "histogram2d": [
           {
            "colorbar": {
             "outlinewidth": 0,
             "ticks": ""
            },
            "colorscale": [
             [
              0,
              "#0d0887"
             ],
             [
              0.1111111111111111,
              "#46039f"
             ],
             [
              0.2222222222222222,
              "#7201a8"
             ],
             [
              0.3333333333333333,
              "#9c179e"
             ],
             [
              0.4444444444444444,
              "#bd3786"
             ],
             [
              0.5555555555555556,
              "#d8576b"
             ],
             [
              0.6666666666666666,
              "#ed7953"
             ],
             [
              0.7777777777777778,
              "#fb9f3a"
             ],
             [
              0.8888888888888888,
              "#fdca26"
             ],
             [
              1,
              "#f0f921"
             ]
            ],
            "type": "histogram2d"
           }
          ],
          "histogram2dcontour": [
           {
            "colorbar": {
             "outlinewidth": 0,
             "ticks": ""
            },
            "colorscale": [
             [
              0,
              "#0d0887"
             ],
             [
              0.1111111111111111,
              "#46039f"
             ],
             [
              0.2222222222222222,
              "#7201a8"
             ],
             [
              0.3333333333333333,
              "#9c179e"
             ],
             [
              0.4444444444444444,
              "#bd3786"
             ],
             [
              0.5555555555555556,
              "#d8576b"
             ],
             [
              0.6666666666666666,
              "#ed7953"
             ],
             [
              0.7777777777777778,
              "#fb9f3a"
             ],
             [
              0.8888888888888888,
              "#fdca26"
             ],
             [
              1,
              "#f0f921"
             ]
            ],
            "type": "histogram2dcontour"
           }
          ],
          "mesh3d": [
           {
            "colorbar": {
             "outlinewidth": 0,
             "ticks": ""
            },
            "type": "mesh3d"
           }
          ],
          "parcoords": [
           {
            "line": {
             "colorbar": {
              "outlinewidth": 0,
              "ticks": ""
             }
            },
            "type": "parcoords"
           }
          ],
          "pie": [
           {
            "automargin": true,
            "type": "pie"
           }
          ],
          "scatter": [
           {
            "marker": {
             "colorbar": {
              "outlinewidth": 0,
              "ticks": ""
             }
            },
            "type": "scatter"
           }
          ],
          "scatter3d": [
           {
            "line": {
             "colorbar": {
              "outlinewidth": 0,
              "ticks": ""
             }
            },
            "marker": {
             "colorbar": {
              "outlinewidth": 0,
              "ticks": ""
             }
            },
            "type": "scatter3d"
           }
          ],
          "scattercarpet": [
           {
            "marker": {
             "colorbar": {
              "outlinewidth": 0,
              "ticks": ""
             }
            },
            "type": "scattercarpet"
           }
          ],
          "scattergeo": [
           {
            "marker": {
             "colorbar": {
              "outlinewidth": 0,
              "ticks": ""
             }
            },
            "type": "scattergeo"
           }
          ],
          "scattergl": [
           {
            "marker": {
             "colorbar": {
              "outlinewidth": 0,
              "ticks": ""
             }
            },
            "type": "scattergl"
           }
          ],
          "scattermapbox": [
           {
            "marker": {
             "colorbar": {
              "outlinewidth": 0,
              "ticks": ""
             }
            },
            "type": "scattermapbox"
           }
          ],
          "scatterpolar": [
           {
            "marker": {
             "colorbar": {
              "outlinewidth": 0,
              "ticks": ""
             }
            },
            "type": "scatterpolar"
           }
          ],
          "scatterpolargl": [
           {
            "marker": {
             "colorbar": {
              "outlinewidth": 0,
              "ticks": ""
             }
            },
            "type": "scatterpolargl"
           }
          ],
          "scatterternary": [
           {
            "marker": {
             "colorbar": {
              "outlinewidth": 0,
              "ticks": ""
             }
            },
            "type": "scatterternary"
           }
          ],
          "surface": [
           {
            "colorbar": {
             "outlinewidth": 0,
             "ticks": ""
            },
            "colorscale": [
             [
              0,
              "#0d0887"
             ],
             [
              0.1111111111111111,
              "#46039f"
             ],
             [
              0.2222222222222222,
              "#7201a8"
             ],
             [
              0.3333333333333333,
              "#9c179e"
             ],
             [
              0.4444444444444444,
              "#bd3786"
             ],
             [
              0.5555555555555556,
              "#d8576b"
             ],
             [
              0.6666666666666666,
              "#ed7953"
             ],
             [
              0.7777777777777778,
              "#fb9f3a"
             ],
             [
              0.8888888888888888,
              "#fdca26"
             ],
             [
              1,
              "#f0f921"
             ]
            ],
            "type": "surface"
           }
          ],
          "table": [
           {
            "cells": {
             "fill": {
              "color": "#EBF0F8"
             },
             "line": {
              "color": "white"
             }
            },
            "header": {
             "fill": {
              "color": "#C8D4E3"
             },
             "line": {
              "color": "white"
             }
            },
            "type": "table"
           }
          ]
         },
         "layout": {
          "annotationdefaults": {
           "arrowcolor": "#2a3f5f",
           "arrowhead": 0,
           "arrowwidth": 1
          },
          "coloraxis": {
           "colorbar": {
            "outlinewidth": 0,
            "ticks": ""
           }
          },
          "colorscale": {
           "diverging": [
            [
             0,
             "#8e0152"
            ],
            [
             0.1,
             "#c51b7d"
            ],
            [
             0.2,
             "#de77ae"
            ],
            [
             0.3,
             "#f1b6da"
            ],
            [
             0.4,
             "#fde0ef"
            ],
            [
             0.5,
             "#f7f7f7"
            ],
            [
             0.6,
             "#e6f5d0"
            ],
            [
             0.7,
             "#b8e186"
            ],
            [
             0.8,
             "#7fbc41"
            ],
            [
             0.9,
             "#4d9221"
            ],
            [
             1,
             "#276419"
            ]
           ],
           "sequential": [
            [
             0,
             "#0d0887"
            ],
            [
             0.1111111111111111,
             "#46039f"
            ],
            [
             0.2222222222222222,
             "#7201a8"
            ],
            [
             0.3333333333333333,
             "#9c179e"
            ],
            [
             0.4444444444444444,
             "#bd3786"
            ],
            [
             0.5555555555555556,
             "#d8576b"
            ],
            [
             0.6666666666666666,
             "#ed7953"
            ],
            [
             0.7777777777777778,
             "#fb9f3a"
            ],
            [
             0.8888888888888888,
             "#fdca26"
            ],
            [
             1,
             "#f0f921"
            ]
           ],
           "sequentialminus": [
            [
             0,
             "#0d0887"
            ],
            [
             0.1111111111111111,
             "#46039f"
            ],
            [
             0.2222222222222222,
             "#7201a8"
            ],
            [
             0.3333333333333333,
             "#9c179e"
            ],
            [
             0.4444444444444444,
             "#bd3786"
            ],
            [
             0.5555555555555556,
             "#d8576b"
            ],
            [
             0.6666666666666666,
             "#ed7953"
            ],
            [
             0.7777777777777778,
             "#fb9f3a"
            ],
            [
             0.8888888888888888,
             "#fdca26"
            ],
            [
             1,
             "#f0f921"
            ]
           ]
          },
          "colorway": [
           "#636efa",
           "#EF553B",
           "#00cc96",
           "#ab63fa",
           "#FFA15A",
           "#19d3f3",
           "#FF6692",
           "#B6E880",
           "#FF97FF",
           "#FECB52"
          ],
          "font": {
           "color": "#2a3f5f"
          },
          "geo": {
           "bgcolor": "white",
           "lakecolor": "white",
           "landcolor": "#E5ECF6",
           "showlakes": true,
           "showland": true,
           "subunitcolor": "white"
          },
          "hoverlabel": {
           "align": "left"
          },
          "hovermode": "closest",
          "mapbox": {
           "style": "light"
          },
          "paper_bgcolor": "white",
          "plot_bgcolor": "#E5ECF6",
          "polar": {
           "angularaxis": {
            "gridcolor": "white",
            "linecolor": "white",
            "ticks": ""
           },
           "bgcolor": "#E5ECF6",
           "radialaxis": {
            "gridcolor": "white",
            "linecolor": "white",
            "ticks": ""
           }
          },
          "scene": {
           "xaxis": {
            "backgroundcolor": "#E5ECF6",
            "gridcolor": "white",
            "gridwidth": 2,
            "linecolor": "white",
            "showbackground": true,
            "ticks": "",
            "zerolinecolor": "white"
           },
           "yaxis": {
            "backgroundcolor": "#E5ECF6",
            "gridcolor": "white",
            "gridwidth": 2,
            "linecolor": "white",
            "showbackground": true,
            "ticks": "",
            "zerolinecolor": "white"
           },
           "zaxis": {
            "backgroundcolor": "#E5ECF6",
            "gridcolor": "white",
            "gridwidth": 2,
            "linecolor": "white",
            "showbackground": true,
            "ticks": "",
            "zerolinecolor": "white"
           }
          },
          "shapedefaults": {
           "line": {
            "color": "#2a3f5f"
           }
          },
          "ternary": {
           "aaxis": {
            "gridcolor": "white",
            "linecolor": "white",
            "ticks": ""
           },
           "baxis": {
            "gridcolor": "white",
            "linecolor": "white",
            "ticks": ""
           },
           "bgcolor": "#E5ECF6",
           "caxis": {
            "gridcolor": "white",
            "linecolor": "white",
            "ticks": ""
           }
          },
          "title": {
           "x": 0.05
          },
          "xaxis": {
           "automargin": true,
           "gridcolor": "white",
           "linecolor": "white",
           "ticks": "",
           "title": {
            "standoff": 15
           },
           "zerolinecolor": "white",
           "zerolinewidth": 2
          },
          "yaxis": {
           "automargin": true,
           "gridcolor": "white",
           "linecolor": "white",
           "ticks": "",
           "title": {
            "standoff": 15
           },
           "zerolinecolor": "white",
           "zerolinewidth": 2
          }
         }
        },
        "xaxis": {
         "anchor": "y",
         "autorange": true,
         "domain": [
          0,
          1
         ],
         "range": [
          -15.723568028862955,
          214.13051349221243
         ],
         "title": {
          "text": "concept"
         },
         "type": "category"
        },
        "yaxis": {
         "anchor": "x",
         "autorange": true,
         "domain": [
          0,
          1
         ],
         "range": [
          -2.2085003213391596,
          41.026783706531155
         ],
         "title": {
          "text": "frequency"
         },
         "type": "linear"
        }
       }
      },
      "image/png": "[encoded data removed]",
      "text/html": [
       "<div>                            <div id=\"1629edba-4014-4db4-89fb-092349540bad\" class=\"plotly-graph-div\" style=\"height:700px; width:100%;\"></div>            <script type=\"text/javascript\">                require([\"plotly\"], function(Plotly) {                    window.PLOTLYENV=window.PLOTLYENV || {};                                    if (document.getElementById(\"1629edba-4014-4db4-89fb-092349540bad\")) {                    Plotly.newPlot(                        \"1629edba-4014-4db4-89fb-092349540bad\",                        [{\"hovertemplate\": \"concept=%{x}<br>frequency=%{y}<br>score_avg=%{marker.color}<extra></extra>\", \"legendgroup\": \"\", \"marker\": {\"color\": [0.888, 0.8235, 0.804, 0.8008, 0.796, 0.7955, 0.7885, 0.788, 0.783, 0.778, 0.772, 0.77, 0.7685, 0.7628, 0.762, 0.761, 0.761, 0.7605, 0.756, 0.75425, 0.75025, 0.74925, 0.74875, 0.7485, 0.745, 0.745, 0.74017, 0.74, 0.7395, 0.739, 0.7385, 0.738, 0.73733, 0.73732, 0.737, 0.7365, 0.736, 0.7355, 0.735, 0.7335, 0.7325, 0.732, 0.7315, 0.731, 0.731, 0.73, 0.7295, 0.728, 0.7265, 0.72367, 0.723, 0.72258, 0.72222, 0.722, 0.722, 0.7218, 0.721, 0.7205, 0.72, 0.72, 0.7185, 0.717, 0.717, 0.71695, 0.7155, 0.7125, 0.712, 0.71167, 0.711, 0.71, 0.71, 0.71, 0.71, 0.709, 0.709, 0.709, 0.7088, 0.708, 0.708, 0.7065, 0.7055, 0.705, 0.70426, 0.7035, 0.70314, 0.701, 0.69967, 0.699, 0.699, 0.698, 0.698, 0.697, 0.6965, 0.696, 0.6955, 0.695, 0.69433, 0.69367, 0.69343, 0.69294, 0.69267, 0.6925, 0.691, 0.69, 0.68881, 0.68829, 0.68675, 0.686, 0.68552, 0.6855, 0.685, 0.684, 0.6835, 0.68333, 0.6832, 0.683, 0.683, 0.682, 0.681, 0.681, 0.681, 0.6805, 0.68035, 0.68, 0.68, 0.679, 0.679, 0.678, 0.678, 0.67767, 0.677, 0.67686, 0.6765, 0.6765, 0.676, 0.676, 0.6756, 0.675, 0.675, 0.675, 0.67475, 0.674, 0.674, 0.6735, 0.673, 0.673, 0.673, 0.673, 0.673, 0.672, 0.672, 0.67167, 0.67138, 0.671, 0.671, 0.6695, 0.669, 0.669, 0.66825, 0.668, 0.667, 0.666, 0.666, 0.666, 0.6658, 0.66575, 0.665, 0.665, 0.664, 0.664, 0.664, 0.663, 0.663, 0.663, 0.66288, 0.6625, 0.662, 0.66167, 0.6615, 0.6615, 0.66114, 0.661, 0.6605, 0.6605, 0.65967, 0.659, 0.659, 0.659, 0.659, 0.65867, 0.65855, 0.65825, 0.658, 0.658, 0.658, 0.658, 0.658, 0.6572, 0.657, 0.6565], \"coloraxis\": \"coloraxis\", \"size\": [0.888, 0.8235, 0.804, 0.8008, 0.796, 0.7955, 0.7885, 0.788, 0.783, 0.778, 0.772, 0.77, 0.7685, 0.7628, 0.762, 0.761, 0.761, 0.7605, 0.756, 0.75425, 0.75025, 0.74925, 0.74875, 0.7485, 0.745, 0.745, 0.74017, 0.74, 0.7395, 0.739, 0.7385, 0.738, 0.73733, 0.73732, 0.737, 0.7365, 0.736, 0.7355, 0.735, 0.7335, 0.7325, 0.732, 0.7315, 0.731, 0.731, 0.73, 0.7295, 0.728, 0.7265, 0.72367, 0.723, 0.72258, 0.72222, 0.722, 0.722, 0.7218, 0.721, 0.7205, 0.72, 0.72, 0.7185, 0.717, 0.717, 0.71695, 0.7155, 0.7125, 0.712, 0.71167, 0.711, 0.71, 0.71, 0.71, 0.71, 0.709, 0.709, 0.709, 0.7088, 0.708, 0.708, 0.7065, 0.7055, 0.705, 0.70426, 0.7035, 0.70314, 0.701, 0.69967, 0.699, 0.699, 0.698, 0.698, 0.697, 0.6965, 0.696, 0.6955, 0.695, 0.69433, 0.69367, 0.69343, 0.69294, 0.69267, 0.6925, 0.691, 0.69, 0.68881, 0.68829, 0.68675, 0.686, 0.68552, 0.6855, 0.685, 0.684, 0.6835, 0.68333, 0.6832, 0.683, 0.683, 0.682, 0.681, 0.681, 0.681, 0.6805, 0.68035, 0.68, 0.68, 0.679, 0.679, 0.678, 0.678, 0.67767, 0.677, 0.67686, 0.6765, 0.6765, 0.676, 0.676, 0.6756, 0.675, 0.675, 0.675, 0.67475, 0.674, 0.674, 0.6735, 0.673, 0.673, 0.673, 0.673, 0.673, 0.672, 0.672, 0.67167, 0.67138, 0.671, 0.671, 0.6695, 0.669, 0.669, 0.66825, 0.668, 0.667, 0.666, 0.666, 0.666, 0.6658, 0.66575, 0.665, 0.665, 0.664, 0.664, 0.664, 0.663, 0.663, 0.663, 0.66288, 0.6625, 0.662, 0.66167, 0.6615, 0.6615, 0.66114, 0.661, 0.6605, 0.6605, 0.65967, 0.659, 0.659, 0.659, 0.659, 0.65867, 0.65855, 0.65825, 0.658, 0.658, 0.658, 0.658, 0.658, 0.6572, 0.657, 0.6565], \"sizemode\": \"area\", \"sizeref\": 0.00222, \"symbol\": \"circle\"}, \"mode\": \"markers\", \"name\": \"\", \"orientation\": \"v\", \"showlegend\": false, \"type\": \"scatter\", \"x\": [\"solid-state quantum emitters\", \"quantum logic operations\", \"monolayer WSe2\", \"second quantum revolution\", \"quantum information applications\", \"scalable quantum technologies\", \"quantum gates\", \"multifunctional coatings\", \"individual quantum systems\", \"mobile atomic species\", \"light emitters\", \"semiconductor structures\", \"transition-metal dichalcogenides\", \"single-photon emitters\", \"room-temperature quantum emitters\", \"half-matter quasiparticles\", \"nano-optical antennas\", \"quantum-based technologies\", \"light-matter interaction\", \"topological insulators\", \"quantum information processing\", \"neutron stars\", \"exciton states\", \"quantum information processing devices\", \"information processing devices\", \"layer material\", \"quantum emitters\", \"quantum photonic technologies\", \"nuclear spin qubits\", \"quantum information technology\", \"ultra-high vacuum technology\", \"atomic physics\", \"atomic species\", \"quantum information science\", \"single optical photons\", \"thin film materials\", \"long coherence times\", \"black holes\", \"atomic diffusion\", \"quantum applications\", \"photonic information processing\", \"optoelectronic building blocks\", \"National High Magnetic Field Laboratory\", \"coherent quantum systems\", \"transition metal dichalcogenide monolayers\", \"cavity quantum electrodynamics\", \"nuclear spins\", \"exciton polaritons\", \"different quantum systems\", \"quantum particle\", \"monolayers of WSe2\", \"quantum mechanics\", \"two-dimensional materials\", \"complex quantum systems\", \"single atomic layer\", \"quantum coherence\", \"polar codes\", \"chemistry program\", \"secure optical communications\", \"error-correcting performance\", \"spin texture\", \"parameter space\", \"tunable light emitters\", \"quantum systems\", \"single photons\", \"Strategic Computing Initiative\", \"metal dichalcogenide monolayers\", \"semiconductor heterostructures\", \"mathematical physics\", \"quantum optics\", \"ultra-thin materials\", \"unique probe\", \"quantum theory\", \"open quantum systems\", \"error-correcting codes\", \"low delay requirements\", \"quantum information community\", \"network communication problems\", \"large-scale synthesis\", \"machine intelligence\", \"coherence time\", \"different semiconductor materials\", \"quantum materials\", \"information applications\", \"quantum algorithms\", \"electronic states\", \"wireless communication\", \"low-density parity-check (LDPC) codes\", \"Unique Games Conjecture\", \"quantum computing systems\", \"emission of light\", \"wireless network setting\", \"quantum software\", \"quantum advantage\", \"quantum spin systems\", \"photonic band structure\", \"solid state\", \"topological superconductors\", \"quantum networks\", \"quantum revolution\", \"molecular systems\", \"ocean crust\", \"parity-check (LDPC) codes\", \"electronic device fabrication\", \"quantum simulation\", \"quantum technologies\", \"elements of devices\", \"quantum processor\", \"quantum computer\", \"logic operations\", \"numerical finite element model\", \"optical photons\", \"solid-state physics\", \"wireless systems\", \"quantum phenomena\", \"cold atoms\", \"additional throughput gain\", \"semiconductor alloy films\", \"magnetic materials\", \"NV centers\", \"spin qubits\", \"quantum repeaters\", \"quantum communication\", \"atomic states\", \"sparse graph codes\", \"quantum properties\", \"ultrafast spectroscopy\", \"individual photons\", \"hardness of approximation\", \"quantum effects\", \"Argonne National Laboratory\", \"quantum sensing\", \"resonator array\", \"quantum computing devices\", \"quantum dots\", \"chemical structure\", \"solar cells\", \"quantum behavior\", \"matter interactions\", \"semiconductor layer thickness\", \"quantum superposition\", \"transition metal dichalcogenides\", \"stress field\", \"chemical vapor deposition\", \"High Magnetic Field Laboratory\", \"broad parameter space\", \"plasmonic antennas\", \"micro-fabrication techniques\", \"crack propagation path\", \"quantum sensors\", \"thin film sensor arrays\", \"quantum electrodynamics\", \"classical computers\", \"modern lasers\", \"continuum damage model\", \"nitrogen vacancy centers\", \"photonic technologies\", \"information infrastructure\", \"fundamental physics\", \"laser beam\", \"quantum error correction\", \"quantum exchange\", \"Department of Chemistry\", \"semiconductor systems\", \"optical properties\", \"quantum cryptography\", \"optical devices\", \"necessary operating conditions\", \"photonic materials\", \"micro-resonators\", \"quantum analogue\", \"quantum communities\", \"optical communications\", \"laser light\", \"quantum chemistry\", \"single atoms\", \"photonic architectures\", \"quantum states\", \"electric field\", \"software stack\", \"quantum entanglement\", \"quantum control\", \"quantum protocols\", \"Division of Physics\", \"experimental signatures\", \"information science community\", \"film materials\", \"semiconductor substrate\", \"dichalcogenide monolayers\", \"coherent states\", \"quantum science\", \"quantum information\", \"quantum nature\", \"abrupt interfaces\", \"elastic stresses\", \"sensor calibration method\", \"finite element model\", \"quantum engineering\", \"epitaxial technology\", \"magnetic field\"], \"xaxis\": \"x\", \"y\": [2, 2, 2, 5, 2, 2, 2, 2, 2, 2, 2, 2, 2, 5, 2, 2, 2, 2, 2, 4, 8, 4, 4, 2, 3, 2, 6, 3, 2, 3, 4, 2, 3, 37, 2, 2, 4, 2, 2, 2, 2, 2, 2, 2, 2, 3, 2, 2, 2, 3, 2, 12, 9, 2, 2, 5, 2, 2, 2, 2, 2, 2, 2, 20, 2, 2, 2, 3, 3, 6, 2, 2, 2, 2, 2, 2, 5, 2, 2, 2, 6, 2, 23, 2, 7, 2, 3, 2, 2, 4, 2, 2, 2, 4, 2, 2, 3, 3, 7, 18, 3, 2, 2, 2, 26, 31, 4, 3, 25, 2, 2, 2, 2, 3, 5, 2, 2, 2, 5, 2, 2, 2, 23, 3, 2, 3, 2, 2, 2, 3, 2, 7, 2, 2, 3, 2, 5, 2, 2, 2, 4, 3, 2, 2, 2, 2, 2, 2, 2, 7, 2, 3, 8, 2, 2, 2, 3, 2, 4, 2, 2, 4, 2, 2, 5, 4, 2, 2, 3, 2, 2, 4, 3, 2, 8, 4, 2, 15, 2, 2, 7, 2, 4, 2, 3, 4, 2, 2, 2, 3, 20, 16, 2, 2, 2, 2, 2, 5, 2, 6], \"yaxis\": \"y\"}],                        {\"coloraxis\": {\"colorbar\": {\"title\": {\"text\": \"score_avg\"}}, \"colorscale\": [[0.0, \"#0d0887\"], [0.1111111111111111, \"#46039f\"], [0.2222222222222222, \"#7201a8\"], [0.3333333333333333, \"#9c179e\"], [0.4444444444444444, \"#bd3786\"], [0.5555555555555556, \"#d8576b\"], [0.6666666666666666, \"#ed7953\"], [0.7777777777777778, \"#fb9f3a\"], [0.8888888888888888, \"#fdca26\"], [1.0, \"#f0f921\"]]}, \"height\": 700, \"legend\": {\"itemsizing\": \"constant\", \"tracegroupgap\": 0}, \"margin\": {\"t\": 60}, \"template\": {\"data\": {\"bar\": [{\"error_x\": {\"color\": \"#2a3f5f\"}, \"error_y\": {\"color\": \"#2a3f5f\"}, \"marker\": {\"line\": {\"color\": \"#E5ECF6\", \"width\": 0.5}}, \"type\": \"bar\"}], \"barpolar\": [{\"marker\": {\"line\": {\"color\": \"#E5ECF6\", \"width\": 0.5}}, \"type\": \"barpolar\"}], \"carpet\": [{\"aaxis\": {\"endlinecolor\": \"#2a3f5f\", \"gridcolor\": \"white\", \"linecolor\": \"white\", \"minorgridcolor\": \"white\", \"startlinecolor\": \"#2a3f5f\"}, \"baxis\": {\"endlinecolor\": \"#2a3f5f\", \"gridcolor\": \"white\", \"linecolor\": \"white\", \"minorgridcolor\": \"white\", \"startlinecolor\": \"#2a3f5f\"}, \"type\": \"carpet\"}], \"choropleth\": [{\"colorbar\": {\"outlinewidth\": 0, \"ticks\": \"\"}, \"type\": \"choropleth\"}], \"contour\": [{\"colorbar\": {\"outlinewidth\": 0, \"ticks\": \"\"}, \"colorscale\": [[0.0, \"#0d0887\"], [0.1111111111111111, \"#46039f\"], [0.2222222222222222, \"#7201a8\"], [0.3333333333333333, \"#9c179e\"], [0.4444444444444444, \"#bd3786\"], [0.5555555555555556, \"#d8576b\"], [0.6666666666666666, \"#ed7953\"], [0.7777777777777778, \"#fb9f3a\"], [0.8888888888888888, \"#fdca26\"], [1.0, \"#f0f921\"]], \"type\": \"contour\"}], \"contourcarpet\": [{\"colorbar\": {\"outlinewidth\": 0, \"ticks\": \"\"}, \"type\": \"contourcarpet\"}], \"heatmap\": [{\"colorbar\": {\"outlinewidth\": 0, \"ticks\": \"\"}, \"colorscale\": [[0.0, \"#0d0887\"], [0.1111111111111111, \"#46039f\"], [0.2222222222222222, \"#7201a8\"], [0.3333333333333333, \"#9c179e\"], [0.4444444444444444, \"#bd3786\"], [0.5555555555555556, \"#d8576b\"], [0.6666666666666666, \"#ed7953\"], [0.7777777777777778, \"#fb9f3a\"], [0.8888888888888888, \"#fdca26\"], [1.0, \"#f0f921\"]], \"type\": \"heatmap\"}], \"heatmapgl\": [{\"colorbar\": {\"outlinewidth\": 0, \"ticks\": \"\"}, \"colorscale\": [[0.0, \"#0d0887\"], [0.1111111111111111, \"#46039f\"], [0.2222222222222222, \"#7201a8\"], [0.3333333333333333, \"#9c179e\"], [0.4444444444444444, \"#bd3786\"], [0.5555555555555556, \"#d8576b\"], [0.6666666666666666, \"#ed7953\"], [0.7777777777777778, \"#fb9f3a\"], [0.8888888888888888, \"#fdca26\"], [1.0, \"#f0f921\"]], \"type\": \"heatmapgl\"}], \"histogram\": [{\"marker\": {\"colorbar\": {\"outlinewidth\": 0, \"ticks\": \"\"}}, \"type\": \"histogram\"}], \"histogram2d\": [{\"colorbar\": {\"outlinewidth\": 0, \"ticks\": \"\"}, \"colorscale\": [[0.0, \"#0d0887\"], [0.1111111111111111, \"#46039f\"], [0.2222222222222222, \"#7201a8\"], [0.3333333333333333, \"#9c179e\"], [0.4444444444444444, \"#bd3786\"], [0.5555555555555556, \"#d8576b\"], [0.6666666666666666, \"#ed7953\"], [0.7777777777777778, \"#fb9f3a\"], [0.8888888888888888, \"#fdca26\"], [1.0, \"#f0f921\"]], \"type\": \"histogram2d\"}], \"histogram2dcontour\": [{\"colorbar\": {\"outlinewidth\": 0, \"ticks\": \"\"}, \"colorscale\": [[0.0, \"#0d0887\"], [0.1111111111111111, \"#46039f\"], [0.2222222222222222, \"#7201a8\"], [0.3333333333333333, \"#9c179e\"], [0.4444444444444444, \"#bd3786\"], [0.5555555555555556, \"#d8576b\"], [0.6666666666666666, \"#ed7953\"], [0.7777777777777778, \"#fb9f3a\"], [0.8888888888888888, \"#fdca26\"], [1.0, \"#f0f921\"]], \"type\": \"histogram2dcontour\"}], \"mesh3d\": [{\"colorbar\": {\"outlinewidth\": 0, \"ticks\": \"\"}, \"type\": \"mesh3d\"}], \"parcoords\": [{\"line\": {\"colorbar\": {\"outlinewidth\": 0, \"ticks\": \"\"}}, \"type\": \"parcoords\"}], \"pie\": [{\"automargin\": true, \"type\": \"pie\"}], \"scatter\": [{\"marker\": {\"colorbar\": {\"outlinewidth\": 0, \"ticks\": \"\"}}, \"type\": \"scatter\"}], \"scatter3d\": [{\"line\": {\"colorbar\": {\"outlinewidth\": 0, \"ticks\": \"\"}}, \"marker\": {\"colorbar\": {\"outlinewidth\": 0, \"ticks\": \"\"}}, \"type\": \"scatter3d\"}], \"scattercarpet\": [{\"marker\": {\"colorbar\": {\"outlinewidth\": 0, \"ticks\": \"\"}}, \"type\": \"scattercarpet\"}], \"scattergeo\": [{\"marker\": {\"colorbar\": {\"outlinewidth\": 0, \"ticks\": \"\"}}, \"type\": \"scattergeo\"}], \"scattergl\": [{\"marker\": {\"colorbar\": {\"outlinewidth\": 0, \"ticks\": \"\"}}, \"type\": \"scattergl\"}], \"scattermapbox\": [{\"marker\": {\"colorbar\": {\"outlinewidth\": 0, \"ticks\": \"\"}}, \"type\": \"scattermapbox\"}], \"scatterpolar\": [{\"marker\": {\"colorbar\": {\"outlinewidth\": 0, \"ticks\": \"\"}}, \"type\": \"scatterpolar\"}], \"scatterpolargl\": [{\"marker\": {\"colorbar\": {\"outlinewidth\": 0, \"ticks\": \"\"}}, \"type\": \"scatterpolargl\"}], \"scatterternary\": [{\"marker\": {\"colorbar\": {\"outlinewidth\": 0, \"ticks\": \"\"}}, \"type\": \"scatterternary\"}], \"surface\": [{\"colorbar\": {\"outlinewidth\": 0, \"ticks\": \"\"}, \"colorscale\": [[0.0, \"#0d0887\"], [0.1111111111111111, \"#46039f\"], [0.2222222222222222, \"#7201a8\"], [0.3333333333333333, \"#9c179e\"], [0.4444444444444444, \"#bd3786\"], [0.5555555555555556, \"#d8576b\"], [0.6666666666666666, \"#ed7953\"], [0.7777777777777778, \"#fb9f3a\"], [0.8888888888888888, \"#fdca26\"], [1.0, \"#f0f921\"]], \"type\": \"surface\"}], \"table\": [{\"cells\": {\"fill\": {\"color\": \"#EBF0F8\"}, \"line\": {\"color\": \"white\"}}, \"header\": {\"fill\": {\"color\": \"#C8D4E3\"}, \"line\": {\"color\": \"white\"}}, \"type\": \"table\"}]}, \"layout\": {\"annotationdefaults\": {\"arrowcolor\": \"#2a3f5f\", \"arrowhead\": 0, \"arrowwidth\": 1}, \"coloraxis\": {\"colorbar\": {\"outlinewidth\": 0, \"ticks\": \"\"}}, \"colorscale\": {\"diverging\": [[0, \"#8e0152\"], [0.1, \"#c51b7d\"], [0.2, \"#de77ae\"], [0.3, \"#f1b6da\"], [0.4, \"#fde0ef\"], [0.5, \"#f7f7f7\"], [0.6, \"#e6f5d0\"], [0.7, \"#b8e186\"], [0.8, \"#7fbc41\"], [0.9, \"#4d9221\"], [1, \"#276419\"]], \"sequential\": [[0.0, \"#0d0887\"], [0.1111111111111111, \"#46039f\"], [0.2222222222222222, \"#7201a8\"], [0.3333333333333333, \"#9c179e\"], [0.4444444444444444, \"#bd3786\"], [0.5555555555555556, \"#d8576b\"], [0.6666666666666666, \"#ed7953\"], [0.7777777777777778, \"#fb9f3a\"], [0.8888888888888888, \"#fdca26\"], [1.0, \"#f0f921\"]], \"sequentialminus\": [[0.0, \"#0d0887\"], [0.1111111111111111, \"#46039f\"], [0.2222222222222222, \"#7201a8\"], [0.3333333333333333, \"#9c179e\"], [0.4444444444444444, \"#bd3786\"], [0.5555555555555556, \"#d8576b\"], [0.6666666666666666, \"#ed7953\"], [0.7777777777777778, \"#fb9f3a\"], [0.8888888888888888, \"#fdca26\"], [1.0, \"#f0f921\"]]}, \"colorway\": [\"#636efa\", \"#EF553B\", \"#00cc96\", \"#ab63fa\", \"#FFA15A\", \"#19d3f3\", \"#FF6692\", \"#B6E880\", \"#FF97FF\", \"#FECB52\"], \"font\": {\"color\": \"#2a3f5f\"}, \"geo\": {\"bgcolor\": \"white\", \"lakecolor\": \"white\", \"landcolor\": \"#E5ECF6\", \"showlakes\": true, \"showland\": true, \"subunitcolor\": \"white\"}, \"hoverlabel\": {\"align\": \"left\"}, \"hovermode\": \"closest\", \"mapbox\": {\"style\": \"light\"}, \"paper_bgcolor\": \"white\", \"plot_bgcolor\": \"#E5ECF6\", \"polar\": {\"angularaxis\": {\"gridcolor\": \"white\", \"linecolor\": \"white\", \"ticks\": \"\"}, \"bgcolor\": \"#E5ECF6\", \"radialaxis\": {\"gridcolor\": \"white\", \"linecolor\": \"white\", \"ticks\": \"\"}}, \"scene\": {\"xaxis\": {\"backgroundcolor\": \"#E5ECF6\", \"gridcolor\": \"white\", \"gridwidth\": 2, \"linecolor\": \"white\", \"showbackground\": true, \"ticks\": \"\", \"zerolinecolor\": \"white\"}, \"yaxis\": {\"backgroundcolor\": \"#E5ECF6\", \"gridcolor\": \"white\", \"gridwidth\": 2, \"linecolor\": \"white\", \"showbackground\": true, \"ticks\": \"\", \"zerolinecolor\": \"white\"}, \"zaxis\": {\"backgroundcolor\": \"#E5ECF6\", \"gridcolor\": \"white\", \"gridwidth\": 2, \"linecolor\": \"white\", \"showbackground\": true, \"ticks\": \"\", \"zerolinecolor\": \"white\"}}, \"shapedefaults\": {\"line\": {\"color\": \"#2a3f5f\"}}, \"ternary\": {\"aaxis\": {\"gridcolor\": \"white\", \"linecolor\": \"white\", \"ticks\": \"\"}, \"baxis\": {\"gridcolor\": \"white\", \"linecolor\": \"white\", \"ticks\": \"\"}, \"bgcolor\": \"#E5ECF6\", \"caxis\": {\"gridcolor\": \"white\", \"linecolor\": \"white\", \"ticks\": \"\"}}, \"title\": {\"x\": 0.05}, \"xaxis\": {\"automargin\": true, \"gridcolor\": \"white\", \"linecolor\": \"white\", \"ticks\": \"\", \"title\": {\"standoff\": 15}, \"zerolinecolor\": \"white\", \"zerolinewidth\": 2}, \"yaxis\": {\"automargin\": true, \"gridcolor\": \"white\", \"linecolor\": \"white\", \"ticks\": \"\", \"title\": {\"standoff\": 15}, \"zerolinecolor\": \"white\", \"zerolinewidth\": 2}}}, \"xaxis\": {\"anchor\": \"y\", \"domain\": [0.0, 1.0], \"title\": {\"text\": \"concept\"}}, \"yaxis\": {\"anchor\": \"x\", \"domain\": [0.0, 1.0], \"title\": {\"text\": \"frequency\"}}},                        {\"responsive\": true}                    ).then(function(){\n",
       "                            \n",
       "var gd = document.getElementById('1629edba-4014-4db4-89fb-092349540bad');\n",
       "var x = new MutationObserver(function (mutations, observer) {{\n",
       "        var display = window.getComputedStyle(gd).display;\n",
       "        if (!display || display === 'none') {{\n",
       "            console.log([gd, 'removed!']);\n",
       "            Plotly.purge(gd);\n",
       "            observer.disconnect();\n",
       "        }}\n",
       "}});\n",
       "\n",
       "// Listen for the removal of the full notebook cells\n",
       "var notebookContainer = gd.closest('#notebook-container');\n",
       "if (notebookContainer) {{\n",
       "    x.observe(notebookContainer, {childList: true});\n",
       "}}\n",
       "\n",
       "// Listen for the clearing of the current output cell\n",
       "var outputEl = gd.closest('.output');\n",
       "if (outputEl) {{\n",
       "    x.observe(outputEl, {childList: true});\n",
       "}}\n",
       "\n",
       "                        })                };                });            </script>        </div>"
      ]
     },
     "metadata": {},
     "output_type": "display_data"
    }
   ],
   "source": [
    "import plotly.express as px\n",
    "\n",
    "FREQ_MIN = 2 \n",
    "FREQ_MAX = 70 \n",
    "SCORE_MIN = 0.6 \n",
    "MAX_CONCEPTS = 200 \n",
    "\n",
    "filtered_concepts = concepts_unique.query(f\"\"\"frequency >= {FREQ_MIN} & frequency <= {FREQ_MAX} & score_avg >= {SCORE_MIN} \"\"\")\\\n",
    "                    .sort_values([\"score_avg\", \"frequency\"], ascending=False)[:MAX_CONCEPTS]\n",
    "\n",
    "px.scatter(filtered_concepts,\n",
    "           x=\"concept\",\n",
    "           y=\"frequency\",\n",
    "           height=700,\n",
    "           color=\"score_avg\",\n",
    "           size=\"score_avg\")\n"
   ]
  },
  {
   "cell_type": "markdown",
   "metadata": {
    "Collapsed": "false"
   },
   "source": [
    "### 4.2 Using 'shared' concepts to find similar documents"
   ]
  },
  {
   "cell_type": "markdown",
   "metadata": {
    "Collapsed": "false"
   },
   "source": [
    "Let's get a subset of those concepts to find 'similar' grants. "
   ]
  },
  {
   "cell_type": "code",
   "execution_count": 138,
   "metadata": {
    "Collapsed": "false"
   },
   "outputs": [
    {
     "data": {
      "text/html": [
       "<div>\n",
       "<style scoped>\n",
       "    .dataframe tbody tr th:only-of-type {\n",
       "        vertical-align: middle;\n",
       "    }\n",
       "\n",
       "    .dataframe tbody tr th {\n",
       "        vertical-align: top;\n",
       "    }\n",
       "\n",
       "    .dataframe thead th {\n",
       "        text-align: right;\n",
       "    }\n",
       "</style>\n",
       "<table border=\"1\" class=\"dataframe\">\n",
       "  <thead>\n",
       "    <tr style=\"text-align: right;\">\n",
       "      <th></th>\n",
       "      <th>concept</th>\n",
       "      <th>frequency</th>\n",
       "      <th>score_avg</th>\n",
       "    </tr>\n",
       "  </thead>\n",
       "  <tbody>\n",
       "    <tr>\n",
       "      <th>14317</th>\n",
       "      <td>second quantum revolution</td>\n",
       "      <td>5</td>\n",
       "      <td>0.80080</td>\n",
       "    </tr>\n",
       "    <tr>\n",
       "      <th>5400</th>\n",
       "      <td>single-photon emitters</td>\n",
       "      <td>5</td>\n",
       "      <td>0.76280</td>\n",
       "    </tr>\n",
       "    <tr>\n",
       "      <th>6878</th>\n",
       "      <td>topological insulators</td>\n",
       "      <td>4</td>\n",
       "      <td>0.75425</td>\n",
       "    </tr>\n",
       "    <tr>\n",
       "      <th>2779</th>\n",
       "      <td>quantum information processing</td>\n",
       "      <td>8</td>\n",
       "      <td>0.75025</td>\n",
       "    </tr>\n",
       "    <tr>\n",
       "      <th>1510</th>\n",
       "      <td>neutron stars</td>\n",
       "      <td>4</td>\n",
       "      <td>0.74925</td>\n",
       "    </tr>\n",
       "    <tr>\n",
       "      <th>12082</th>\n",
       "      <td>exciton states</td>\n",
       "      <td>4</td>\n",
       "      <td>0.74875</td>\n",
       "    </tr>\n",
       "    <tr>\n",
       "      <th>11639</th>\n",
       "      <td>information processing devices</td>\n",
       "      <td>3</td>\n",
       "      <td>0.74500</td>\n",
       "    </tr>\n",
       "    <tr>\n",
       "      <th>10397</th>\n",
       "      <td>quantum emitters</td>\n",
       "      <td>6</td>\n",
       "      <td>0.74017</td>\n",
       "    </tr>\n",
       "    <tr>\n",
       "      <th>5816</th>\n",
       "      <td>quantum photonic technologies</td>\n",
       "      <td>3</td>\n",
       "      <td>0.74000</td>\n",
       "    </tr>\n",
       "    <tr>\n",
       "      <th>3135</th>\n",
       "      <td>quantum information technology</td>\n",
       "      <td>3</td>\n",
       "      <td>0.73900</td>\n",
       "    </tr>\n",
       "    <tr>\n",
       "      <th>15622</th>\n",
       "      <td>ultra-high vacuum technology</td>\n",
       "      <td>4</td>\n",
       "      <td>0.73850</td>\n",
       "    </tr>\n",
       "    <tr>\n",
       "      <th>2658</th>\n",
       "      <td>atomic species</td>\n",
       "      <td>3</td>\n",
       "      <td>0.73733</td>\n",
       "    </tr>\n",
       "    <tr>\n",
       "      <th>3929</th>\n",
       "      <td>long coherence times</td>\n",
       "      <td>4</td>\n",
       "      <td>0.73600</td>\n",
       "    </tr>\n",
       "    <tr>\n",
       "      <th>5817</th>\n",
       "      <td>cavity quantum electrodynamics</td>\n",
       "      <td>3</td>\n",
       "      <td>0.73000</td>\n",
       "    </tr>\n",
       "    <tr>\n",
       "      <th>5559</th>\n",
       "      <td>quantum particle</td>\n",
       "      <td>3</td>\n",
       "      <td>0.72367</td>\n",
       "    </tr>\n",
       "    <tr>\n",
       "      <th>2929</th>\n",
       "      <td>quantum mechanics</td>\n",
       "      <td>12</td>\n",
       "      <td>0.72258</td>\n",
       "    </tr>\n",
       "    <tr>\n",
       "      <th>14</th>\n",
       "      <td>two-dimensional materials</td>\n",
       "      <td>9</td>\n",
       "      <td>0.72222</td>\n",
       "    </tr>\n",
       "    <tr>\n",
       "      <th>2654</th>\n",
       "      <td>quantum coherence</td>\n",
       "      <td>5</td>\n",
       "      <td>0.72180</td>\n",
       "    </tr>\n",
       "    <tr>\n",
       "      <th>1299</th>\n",
       "      <td>quantum systems</td>\n",
       "      <td>20</td>\n",
       "      <td>0.71695</td>\n",
       "    </tr>\n",
       "    <tr>\n",
       "      <th>3127</th>\n",
       "      <td>semiconductor heterostructures</td>\n",
       "      <td>3</td>\n",
       "      <td>0.71167</td>\n",
       "    </tr>\n",
       "    <tr>\n",
       "      <th>8726</th>\n",
       "      <td>mathematical physics</td>\n",
       "      <td>3</td>\n",
       "      <td>0.71100</td>\n",
       "    </tr>\n",
       "    <tr>\n",
       "      <th>3671</th>\n",
       "      <td>quantum optics</td>\n",
       "      <td>6</td>\n",
       "      <td>0.71000</td>\n",
       "    </tr>\n",
       "    <tr>\n",
       "      <th>470</th>\n",
       "      <td>quantum information community</td>\n",
       "      <td>5</td>\n",
       "      <td>0.70880</td>\n",
       "    </tr>\n",
       "    <tr>\n",
       "      <th>3938</th>\n",
       "      <td>coherence time</td>\n",
       "      <td>6</td>\n",
       "      <td>0.70550</td>\n",
       "    </tr>\n",
       "    <tr>\n",
       "      <th>1380</th>\n",
       "      <td>quantum algorithms</td>\n",
       "      <td>7</td>\n",
       "      <td>0.70314</td>\n",
       "    </tr>\n",
       "  </tbody>\n",
       "</table>\n",
       "</div>"
      ],
      "text/plain": [
       "                              concept  frequency  score_avg\n",
       "14317       second quantum revolution          5    0.80080\n",
       "5400           single-photon emitters          5    0.76280\n",
       "6878           topological insulators          4    0.75425\n",
       "2779   quantum information processing          8    0.75025\n",
       "1510                    neutron stars          4    0.74925\n",
       "12082                  exciton states          4    0.74875\n",
       "11639  information processing devices          3    0.74500\n",
       "10397                quantum emitters          6    0.74017\n",
       "5816    quantum photonic technologies          3    0.74000\n",
       "3135   quantum information technology          3    0.73900\n",
       "15622    ultra-high vacuum technology          4    0.73850\n",
       "2658                   atomic species          3    0.73733\n",
       "3929             long coherence times          4    0.73600\n",
       "5817   cavity quantum electrodynamics          3    0.73000\n",
       "5559                 quantum particle          3    0.72367\n",
       "2929                quantum mechanics         12    0.72258\n",
       "14          two-dimensional materials          9    0.72222\n",
       "2654                quantum coherence          5    0.72180\n",
       "1299                  quantum systems         20    0.71695\n",
       "3127   semiconductor heterostructures          3    0.71167\n",
       "8726             mathematical physics          3    0.71100\n",
       "3671                   quantum optics          6    0.71000\n",
       "470     quantum information community          5    0.70880\n",
       "3938                   coherence time          6    0.70550\n",
       "1380               quantum algorithms          7    0.70314"
      ]
     },
     "execution_count": 138,
     "metadata": {},
     "output_type": "execute_result"
    }
   ],
   "source": [
    "focusconcepts = concepts_unique.query(f\"\"\"frequency >= 3 & frequency <= 20 & score_avg >= 0.7 \"\"\")\\\n",
    "                    .sort_values([\"score_avg\", \"frequency\"], ascending=False)\n",
    "focusconcepts"
   ]
  },
  {
   "cell_type": "code",
   "execution_count": 145,
   "metadata": {
    "Collapsed": "false"
   },
   "outputs": [
    {
     "name": "stdout",
     "output_type": "stream",
     "text": [
      "\n",
      "search grants \n",
      "    in concepts \n",
      "    for \"\\\"second quantum revolution\\\" OR \\\"single-photon emitters\\\" OR \\\"topological insulators\\\" OR \\\"quantum information processing\\\" OR \\\"neutron stars\\\" OR \\\"exciton states\\\" OR \\\"information processing devices\\\" OR \\\"quantum emitters\\\" OR \\\"quantum photonic technologies\\\" OR \\\"quantum information technology\\\" OR \\\"ultra-high vacuum technology\\\" OR \\\"atomic species\\\" OR \\\"long coherence times\\\" OR \\\"cavity quantum electrodynamics\\\" OR \\\"quantum particle\\\" OR \\\"quantum mechanics\\\" OR \\\"two-dimensional materials\\\" OR \\\"quantum coherence\\\" OR \\\"quantum systems\\\" OR \\\"semiconductor heterostructures\\\" OR \\\"mathematical physics\\\" OR \\\"quantum optics\\\" OR \\\"quantum information community\\\" OR \\\"coherence time\\\" OR \\\"quantum algorithms\\\"\" \n",
      "    where active_year >= 2015\n",
      "    not funders.id in [\"grid.457768.f\", \"grid.457785.c\", \"grid.457799.1\", \"grid.457810.f\", \"grid.457836.b\", \"grid.457875.c\", \"grid.457916.8\", \"grid.457789.0\", \"grid.457813.c\", \"grid.457814.b\", \"grid.457842.8\", \"grid.457821.d\", \"grid.457772.4\", \"grid.457801.f\", \"grid.457891.6\", \"grid.457892.5\", \"grid.457845.f\", \"grid.457922.f\", \"grid.457896.1\", \"grid.431093.c\", \"grid.457758.c\", \"grid.457907.8\", \"grid.473792.c\", \"grid.457846.c\", \"grid.457898.f\"]\n",
      "return grants[id+title+funding_org_name] limit 1000\n",
      "\n",
      "Returned Grants: 1000 (total = 11851)\n",
      "\u001b[2mTime: 1.89s\u001b[0m\n"
     ]
    },
    {
     "data": {
      "text/html": [
       "<div>\n",
       "<style scoped>\n",
       "    .dataframe tbody tr th:only-of-type {\n",
       "        vertical-align: middle;\n",
       "    }\n",
       "\n",
       "    .dataframe tbody tr th {\n",
       "        vertical-align: top;\n",
       "    }\n",
       "\n",
       "    .dataframe thead th {\n",
       "        text-align: right;\n",
       "    }\n",
       "</style>\n",
       "<table border=\"1\" class=\"dataframe\">\n",
       "  <thead>\n",
       "    <tr style=\"text-align: right;\">\n",
       "      <th></th>\n",
       "      <th>title</th>\n",
       "      <th>funding_org_name</th>\n",
       "      <th>id</th>\n",
       "    </tr>\n",
       "  </thead>\n",
       "  <tbody>\n",
       "    <tr>\n",
       "      <th>0</th>\n",
       "      <td>Simulating ultracold correlated quantum matter...</td>\n",
       "      <td>European Research Council</td>\n",
       "      <td>grant.9414093</td>\n",
       "    </tr>\n",
       "    <tr>\n",
       "      <th>1</th>\n",
       "      <td>Nuclear Theory from First Principles</td>\n",
       "      <td>European Research Council</td>\n",
       "      <td>grant.9523059</td>\n",
       "    </tr>\n",
       "    <tr>\n",
       "      <th>2</th>\n",
       "      <td>Atomic Quantum Emitters in 2D Frameworks</td>\n",
       "      <td>European Research Council</td>\n",
       "      <td>grant.9488337</td>\n",
       "    </tr>\n",
       "    <tr>\n",
       "      <th>3</th>\n",
       "      <td>Entropy for Quantum Information Science</td>\n",
       "      <td>European Research Council</td>\n",
       "      <td>grant.9488556</td>\n",
       "    </tr>\n",
       "    <tr>\n",
       "      <th>4</th>\n",
       "      <td>Gravitational-wave data mining</td>\n",
       "      <td>European Research Council</td>\n",
       "      <td>grant.9413940</td>\n",
       "    </tr>\n",
       "    <tr>\n",
       "      <th>...</th>\n",
       "      <td>...</td>\n",
       "      <td>...</td>\n",
       "      <td>...</td>\n",
       "    </tr>\n",
       "    <tr>\n",
       "      <th>995</th>\n",
       "      <td>Quantum Information Learning</td>\n",
       "      <td>European Commission</td>\n",
       "      <td>grant.8586452</td>\n",
       "    </tr>\n",
       "    <tr>\n",
       "      <th>996</th>\n",
       "      <td>Long-range coherence in nanosystems</td>\n",
       "      <td>Academy of Finland</td>\n",
       "      <td>grant.8838094</td>\n",
       "    </tr>\n",
       "    <tr>\n",
       "      <th>997</th>\n",
       "      <td>Exact Solutions of strongly interacting Models...</td>\n",
       "      <td>German Research Foundation</td>\n",
       "      <td>grant.9142999</td>\n",
       "    </tr>\n",
       "    <tr>\n",
       "      <th>998</th>\n",
       "      <td>Levitated Cavity Optomechanics</td>\n",
       "      <td>German Research Foundation</td>\n",
       "      <td>grant.8858784</td>\n",
       "    </tr>\n",
       "    <tr>\n",
       "      <th>999</th>\n",
       "      <td>Electrically driven, topological exciton-polar...</td>\n",
       "      <td>German Research Foundation</td>\n",
       "      <td>grant.9396971</td>\n",
       "    </tr>\n",
       "  </tbody>\n",
       "</table>\n",
       "<p>1000 rows × 3 columns</p>\n",
       "</div>"
      ],
      "text/plain": [
       "                                                 title  \\\n",
       "0    Simulating ultracold correlated quantum matter...   \n",
       "1                 Nuclear Theory from First Principles   \n",
       "2             Atomic Quantum Emitters in 2D Frameworks   \n",
       "3              Entropy for Quantum Information Science   \n",
       "4                       Gravitational-wave data mining   \n",
       "..                                                 ...   \n",
       "995                       Quantum Information Learning   \n",
       "996                Long-range coherence in nanosystems   \n",
       "997  Exact Solutions of strongly interacting Models...   \n",
       "998                     Levitated Cavity Optomechanics   \n",
       "999  Electrically driven, topological exciton-polar...   \n",
       "\n",
       "               funding_org_name             id  \n",
       "0     European Research Council  grant.9414093  \n",
       "1     European Research Council  grant.9523059  \n",
       "2     European Research Council  grant.9488337  \n",
       "3     European Research Council  grant.9488556  \n",
       "4     European Research Council  grant.9413940  \n",
       "..                          ...            ...  \n",
       "995         European Commission  grant.8586452  \n",
       "996          Academy of Finland  grant.8838094  \n",
       "997  German Research Foundation  grant.9142999  \n",
       "998  German Research Foundation  grant.8858784  \n",
       "999  German Research Foundation  grant.9396971  \n",
       "\n",
       "[1000 rows x 3 columns]"
      ]
     },
     "execution_count": 145,
     "metadata": {},
     "output_type": "execute_result"
    }
   ],
   "source": [
    "names = focusconcepts['concept'].to_list()\n",
    "\n",
    "q_focusconcepts = \" OR \".join(['\"%s\"' % x for x in names])\n",
    "\n",
    "\n",
    "query = f\"\"\"\n",
    "search grants \n",
    "    in concepts \n",
    "    for \"{dsl_escape(q_focusconcepts)}\" \n",
    "    where active_year >= 2015\n",
    "    not funders.id in {json.dumps(nsfgrids)}\n",
    "return grants[id+title+funding_org_name] limit 1000\n",
    "\"\"\"\n",
    "\n",
    "print(query)\n",
    "\n",
    "grants = dsl.query(query)\n",
    "grants.as_dataframe()"
   ]
  },
  {
   "cell_type": "markdown",
   "metadata": {
    "Collapsed": "false"
   },
   "source": [
    "### 4.3 Most similar grants, by funder"
   ]
  },
  {
   "cell_type": "code",
   "execution_count": 147,
   "metadata": {
    "Collapsed": "false"
   },
   "outputs": [
    {
     "name": "stdout",
     "output_type": "stream",
     "text": [
      "Returned Funders: 20\n",
      "\u001b[2mTime: 0.63s\u001b[0m\n"
     ]
    },
    {
     "data": {
      "application/vnd.plotly.v1+json": {
       "config": {
        "plotlyServerURL": "https://plot.ly"
       },
       "data": [
        {
         "domain": {
          "x": [
           0,
           1
          ],
          "y": [
           0,
           1
          ]
         },
         "hovertemplate": "name=%{label}<br>count=%{value}<extra></extra>",
         "labels": [
          "National Natural Science Foundation of China",
          "Japan Society for the Promotion of Science",
          "Natural Sciences and Engineering Research Council",
          "Russian Foundation for Basic Research",
          "German Research Foundation",
          "Engineering and Physical Sciences Research Council",
          "European Commission",
          "European Research Council",
          "Russian Science Foundation",
          "National Science Center",
          "Swiss National Science Foundation",
          "São Paulo Research Foundation",
          "Science and Technology Facilities Council",
          "Office of Basic Energy Sciences",
          "FWF Austrian Science Fund",
          "University Grants Committee",
          "National Agency for Research",
          "Swedish Research Council",
          "Australian Research Council",
          "United States Army"
         ],
         "legendgroup": "",
         "name": "",
         "showlegend": true,
         "type": "pie",
         "values": [
          2286,
          1179,
          876,
          819,
          774,
          769,
          418,
          406,
          357,
          336,
          322,
          237,
          228,
          161,
          158,
          152,
          150,
          146,
          145,
          141
         ]
        }
       ],
       "layout": {
        "autosize": true,
        "legend": {
         "tracegroupgap": 0
        },
        "template": {
         "data": {
          "bar": [
           {
            "error_x": {
             "color": "#2a3f5f"
            },
            "error_y": {
             "color": "#2a3f5f"
            },
            "marker": {
             "line": {
              "color": "#E5ECF6",
              "width": 0.5
             }
            },
            "type": "bar"
           }
          ],
          "barpolar": [
           {
            "marker": {
             "line": {
              "color": "#E5ECF6",
              "width": 0.5
             }
            },
            "type": "barpolar"
           }
          ],
          "carpet": [
           {
            "aaxis": {
             "endlinecolor": "#2a3f5f",
             "gridcolor": "white",
             "linecolor": "white",
             "minorgridcolor": "white",
             "startlinecolor": "#2a3f5f"
            },
            "baxis": {
             "endlinecolor": "#2a3f5f",
             "gridcolor": "white",
             "linecolor": "white",
             "minorgridcolor": "white",
             "startlinecolor": "#2a3f5f"
            },
            "type": "carpet"
           }
          ],
          "choropleth": [
           {
            "colorbar": {
             "outlinewidth": 0,
             "ticks": ""
            },
            "type": "choropleth"
           }
          ],
          "contour": [
           {
            "colorbar": {
             "outlinewidth": 0,
             "ticks": ""
            },
            "colorscale": [
             [
              0,
              "#0d0887"
             ],
             [
              0.1111111111111111,
              "#46039f"
             ],
             [
              0.2222222222222222,
              "#7201a8"
             ],
             [
              0.3333333333333333,
              "#9c179e"
             ],
             [
              0.4444444444444444,
              "#bd3786"
             ],
             [
              0.5555555555555556,
              "#d8576b"
             ],
             [
              0.6666666666666666,
              "#ed7953"
             ],
             [
              0.7777777777777778,
              "#fb9f3a"
             ],
             [
              0.8888888888888888,
              "#fdca26"
             ],
             [
              1,
              "#f0f921"
             ]
            ],
            "type": "contour"
           }
          ],
          "contourcarpet": [
           {
            "colorbar": {
             "outlinewidth": 0,
             "ticks": ""
            },
            "type": "contourcarpet"
           }
          ],
          "heatmap": [
           {
            "colorbar": {
             "outlinewidth": 0,
             "ticks": ""
            },
            "colorscale": [
             [
              0,
              "#0d0887"
             ],
             [
              0.1111111111111111,
              "#46039f"
             ],
             [
              0.2222222222222222,
              "#7201a8"
             ],
             [
              0.3333333333333333,
              "#9c179e"
             ],
             [
              0.4444444444444444,
              "#bd3786"
             ],
             [
              0.5555555555555556,
              "#d8576b"
             ],
             [
              0.6666666666666666,
              "#ed7953"
             ],
             [
              0.7777777777777778,
              "#fb9f3a"
             ],
             [
              0.8888888888888888,
              "#fdca26"
             ],
             [
              1,
              "#f0f921"
             ]
            ],
            "type": "heatmap"
           }
          ],
          "heatmapgl": [
           {
            "colorbar": {
             "outlinewidth": 0,
             "ticks": ""
            },
            "colorscale": [
             [
              0,
              "#0d0887"
             ],
             [
              0.1111111111111111,
              "#46039f"
             ],
             [
              0.2222222222222222,
              "#7201a8"
             ],
             [
              0.3333333333333333,
              "#9c179e"
             ],
             [
              0.4444444444444444,
              "#bd3786"
             ],
             [
              0.5555555555555556,
              "#d8576b"
             ],
             [
              0.6666666666666666,
              "#ed7953"
             ],
             [
              0.7777777777777778,
              "#fb9f3a"
             ],
             [
              0.8888888888888888,
              "#fdca26"
             ],
             [
              1,
              "#f0f921"
             ]
            ],
            "type": "heatmapgl"
           }
          ],
          "histogram": [
           {
            "marker": {
             "colorbar": {
              "outlinewidth": 0,
              "ticks": ""
             }
            },
            "type": "histogram"
           }
          ],
          "histogram2d": [
           {
            "colorbar": {
             "outlinewidth": 0,
             "ticks": ""
            },
            "colorscale": [
             [
              0,
              "#0d0887"
             ],
             [
              0.1111111111111111,
              "#46039f"
             ],
             [
              0.2222222222222222,
              "#7201a8"
             ],
             [
              0.3333333333333333,
              "#9c179e"
             ],
             [
              0.4444444444444444,
              "#bd3786"
             ],
             [
              0.5555555555555556,
              "#d8576b"
             ],
             [
              0.6666666666666666,
              "#ed7953"
             ],
             [
              0.7777777777777778,
              "#fb9f3a"
             ],
             [
              0.8888888888888888,
              "#fdca26"
             ],
             [
              1,
              "#f0f921"
             ]
            ],
            "type": "histogram2d"
           }
          ],
          "histogram2dcontour": [
           {
            "colorbar": {
             "outlinewidth": 0,
             "ticks": ""
            },
            "colorscale": [
             [
              0,
              "#0d0887"
             ],
             [
              0.1111111111111111,
              "#46039f"
             ],
             [
              0.2222222222222222,
              "#7201a8"
             ],
             [
              0.3333333333333333,
              "#9c179e"
             ],
             [
              0.4444444444444444,
              "#bd3786"
             ],
             [
              0.5555555555555556,
              "#d8576b"
             ],
             [
              0.6666666666666666,
              "#ed7953"
             ],
             [
              0.7777777777777778,
              "#fb9f3a"
             ],
             [
              0.8888888888888888,
              "#fdca26"
             ],
             [
              1,
              "#f0f921"
             ]
            ],
            "type": "histogram2dcontour"
           }
          ],
          "mesh3d": [
           {
            "colorbar": {
             "outlinewidth": 0,
             "ticks": ""
            },
            "type": "mesh3d"
           }
          ],
          "parcoords": [
           {
            "line": {
             "colorbar": {
              "outlinewidth": 0,
              "ticks": ""
             }
            },
            "type": "parcoords"
           }
          ],
          "pie": [
           {
            "automargin": true,
            "type": "pie"
           }
          ],
          "scatter": [
           {
            "marker": {
             "colorbar": {
              "outlinewidth": 0,
              "ticks": ""
             }
            },
            "type": "scatter"
           }
          ],
          "scatter3d": [
           {
            "line": {
             "colorbar": {
              "outlinewidth": 0,
              "ticks": ""
             }
            },
            "marker": {
             "colorbar": {
              "outlinewidth": 0,
              "ticks": ""
             }
            },
            "type": "scatter3d"
           }
          ],
          "scattercarpet": [
           {
            "marker": {
             "colorbar": {
              "outlinewidth": 0,
              "ticks": ""
             }
            },
            "type": "scattercarpet"
           }
          ],
          "scattergeo": [
           {
            "marker": {
             "colorbar": {
              "outlinewidth": 0,
              "ticks": ""
             }
            },
            "type": "scattergeo"
           }
          ],
          "scattergl": [
           {
            "marker": {
             "colorbar": {
              "outlinewidth": 0,
              "ticks": ""
             }
            },
            "type": "scattergl"
           }
          ],
          "scattermapbox": [
           {
            "marker": {
             "colorbar": {
              "outlinewidth": 0,
              "ticks": ""
             }
            },
            "type": "scattermapbox"
           }
          ],
          "scatterpolar": [
           {
            "marker": {
             "colorbar": {
              "outlinewidth": 0,
              "ticks": ""
             }
            },
            "type": "scatterpolar"
           }
          ],
          "scatterpolargl": [
           {
            "marker": {
             "colorbar": {
              "outlinewidth": 0,
              "ticks": ""
             }
            },
            "type": "scatterpolargl"
           }
          ],
          "scatterternary": [
           {
            "marker": {
             "colorbar": {
              "outlinewidth": 0,
              "ticks": ""
             }
            },
            "type": "scatterternary"
           }
          ],
          "surface": [
           {
            "colorbar": {
             "outlinewidth": 0,
             "ticks": ""
            },
            "colorscale": [
             [
              0,
              "#0d0887"
             ],
             [
              0.1111111111111111,
              "#46039f"
             ],
             [
              0.2222222222222222,
              "#7201a8"
             ],
             [
              0.3333333333333333,
              "#9c179e"
             ],
             [
              0.4444444444444444,
              "#bd3786"
             ],
             [
              0.5555555555555556,
              "#d8576b"
             ],
             [
              0.6666666666666666,
              "#ed7953"
             ],
             [
              0.7777777777777778,
              "#fb9f3a"
             ],
             [
              0.8888888888888888,
              "#fdca26"
             ],
             [
              1,
              "#f0f921"
             ]
            ],
            "type": "surface"
           }
          ],
          "table": [
           {
            "cells": {
             "fill": {
              "color": "#EBF0F8"
             },
             "line": {
              "color": "white"
             }
            },
            "header": {
             "fill": {
              "color": "#C8D4E3"
             },
             "line": {
              "color": "white"
             }
            },
            "type": "table"
           }
          ]
         },
         "layout": {
          "annotationdefaults": {
           "arrowcolor": "#2a3f5f",
           "arrowhead": 0,
           "arrowwidth": 1
          },
          "coloraxis": {
           "colorbar": {
            "outlinewidth": 0,
            "ticks": ""
           }
          },
          "colorscale": {
           "diverging": [
            [
             0,
             "#8e0152"
            ],
            [
             0.1,
             "#c51b7d"
            ],
            [
             0.2,
             "#de77ae"
            ],
            [
             0.3,
             "#f1b6da"
            ],
            [
             0.4,
             "#fde0ef"
            ],
            [
             0.5,
             "#f7f7f7"
            ],
            [
             0.6,
             "#e6f5d0"
            ],
            [
             0.7,
             "#b8e186"
            ],
            [
             0.8,
             "#7fbc41"
            ],
            [
             0.9,
             "#4d9221"
            ],
            [
             1,
             "#276419"
            ]
           ],
           "sequential": [
            [
             0,
             "#0d0887"
            ],
            [
             0.1111111111111111,
             "#46039f"
            ],
            [
             0.2222222222222222,
             "#7201a8"
            ],
            [
             0.3333333333333333,
             "#9c179e"
            ],
            [
             0.4444444444444444,
             "#bd3786"
            ],
            [
             0.5555555555555556,
             "#d8576b"
            ],
            [
             0.6666666666666666,
             "#ed7953"
            ],
            [
             0.7777777777777778,
             "#fb9f3a"
            ],
            [
             0.8888888888888888,
             "#fdca26"
            ],
            [
             1,
             "#f0f921"
            ]
           ],
           "sequentialminus": [
            [
             0,
             "#0d0887"
            ],
            [
             0.1111111111111111,
             "#46039f"
            ],
            [
             0.2222222222222222,
             "#7201a8"
            ],
            [
             0.3333333333333333,
             "#9c179e"
            ],
            [
             0.4444444444444444,
             "#bd3786"
            ],
            [
             0.5555555555555556,
             "#d8576b"
            ],
            [
             0.6666666666666666,
             "#ed7953"
            ],
            [
             0.7777777777777778,
             "#fb9f3a"
            ],
            [
             0.8888888888888888,
             "#fdca26"
            ],
            [
             1,
             "#f0f921"
            ]
           ]
          },
          "colorway": [
           "#636efa",
           "#EF553B",
           "#00cc96",
           "#ab63fa",
           "#FFA15A",
           "#19d3f3",
           "#FF6692",
           "#B6E880",
           "#FF97FF",
           "#FECB52"
          ],
          "font": {
           "color": "#2a3f5f"
          },
          "geo": {
           "bgcolor": "white",
           "lakecolor": "white",
           "landcolor": "#E5ECF6",
           "showlakes": true,
           "showland": true,
           "subunitcolor": "white"
          },
          "hoverlabel": {
           "align": "left"
          },
          "hovermode": "closest",
          "mapbox": {
           "style": "light"
          },
          "paper_bgcolor": "white",
          "plot_bgcolor": "#E5ECF6",
          "polar": {
           "angularaxis": {
            "gridcolor": "white",
            "linecolor": "white",
            "ticks": ""
           },
           "bgcolor": "#E5ECF6",
           "radialaxis": {
            "gridcolor": "white",
            "linecolor": "white",
            "ticks": ""
           }
          },
          "scene": {
           "xaxis": {
            "backgroundcolor": "#E5ECF6",
            "gridcolor": "white",
            "gridwidth": 2,
            "linecolor": "white",
            "showbackground": true,
            "ticks": "",
            "zerolinecolor": "white"
           },
           "yaxis": {
            "backgroundcolor": "#E5ECF6",
            "gridcolor": "white",
            "gridwidth": 2,
            "linecolor": "white",
            "showbackground": true,
            "ticks": "",
            "zerolinecolor": "white"
           },
           "zaxis": {
            "backgroundcolor": "#E5ECF6",
            "gridcolor": "white",
            "gridwidth": 2,
            "linecolor": "white",
            "showbackground": true,
            "ticks": "",
            "zerolinecolor": "white"
           }
          },
          "shapedefaults": {
           "line": {
            "color": "#2a3f5f"
           }
          },
          "ternary": {
           "aaxis": {
            "gridcolor": "white",
            "linecolor": "white",
            "ticks": ""
           },
           "baxis": {
            "gridcolor": "white",
            "linecolor": "white",
            "ticks": ""
           },
           "bgcolor": "#E5ECF6",
           "caxis": {
            "gridcolor": "white",
            "linecolor": "white",
            "ticks": ""
           }
          },
          "title": {
           "x": 0.05
          },
          "xaxis": {
           "automargin": true,
           "gridcolor": "white",
           "linecolor": "white",
           "ticks": "",
           "title": {
            "standoff": 15
           },
           "zerolinecolor": "white",
           "zerolinewidth": 2
          },
          "yaxis": {
           "automargin": true,
           "gridcolor": "white",
           "linecolor": "white",
           "ticks": "",
           "title": {
            "standoff": 15
           },
           "zerolinecolor": "white",
           "zerolinewidth": 2
          }
         }
        },
        "title": {
         "text": "Top funder (non-NSF)"
        }
       }
      },
      "image/png": "[encoded data removed]",
      "text/html": [
       "<div>                            <div id=\"e464e84c-a644-4042-af95-351ab0f1bca5\" class=\"plotly-graph-div\" style=\"height:525px; width:100%;\"></div>            <script type=\"text/javascript\">                require([\"plotly\"], function(Plotly) {                    window.PLOTLYENV=window.PLOTLYENV || {};                                    if (document.getElementById(\"e464e84c-a644-4042-af95-351ab0f1bca5\")) {                    Plotly.newPlot(                        \"e464e84c-a644-4042-af95-351ab0f1bca5\",                        [{\"domain\": {\"x\": [0.0, 1.0], \"y\": [0.0, 1.0]}, \"hovertemplate\": \"name=%{label}<br>count=%{value}<extra></extra>\", \"labels\": [\"National Natural Science Foundation of China\", \"Japan Society for the Promotion of Science\", \"Natural Sciences and Engineering Research Council\", \"Russian Foundation for Basic Research\", \"German Research Foundation\", \"Engineering and Physical Sciences Research Council\", \"European Commission\", \"European Research Council\", \"Russian Science Foundation\", \"National Science Center\", \"Swiss National Science Foundation\", \"S\\u00e3o Paulo Research Foundation\", \"Science and Technology Facilities Council\", \"Office of Basic Energy Sciences\", \"FWF Austrian Science Fund\", \"University Grants Committee\", \"National Agency for Research\", \"Swedish Research Council\", \"Australian Research Council\", \"United States Army\"], \"legendgroup\": \"\", \"name\": \"\", \"showlegend\": true, \"type\": \"pie\", \"values\": [2286, 1179, 876, 819, 774, 769, 418, 406, 357, 336, 322, 237, 228, 161, 158, 152, 150, 146, 145, 141]}],                        {\"legend\": {\"tracegroupgap\": 0}, \"template\": {\"data\": {\"bar\": [{\"error_x\": {\"color\": \"#2a3f5f\"}, \"error_y\": {\"color\": \"#2a3f5f\"}, \"marker\": {\"line\": {\"color\": \"#E5ECF6\", \"width\": 0.5}}, \"type\": \"bar\"}], \"barpolar\": [{\"marker\": {\"line\": {\"color\": \"#E5ECF6\", \"width\": 0.5}}, \"type\": \"barpolar\"}], \"carpet\": [{\"aaxis\": {\"endlinecolor\": \"#2a3f5f\", \"gridcolor\": \"white\", \"linecolor\": \"white\", \"minorgridcolor\": \"white\", \"startlinecolor\": \"#2a3f5f\"}, \"baxis\": {\"endlinecolor\": \"#2a3f5f\", \"gridcolor\": \"white\", \"linecolor\": \"white\", \"minorgridcolor\": \"white\", \"startlinecolor\": \"#2a3f5f\"}, \"type\": \"carpet\"}], \"choropleth\": [{\"colorbar\": {\"outlinewidth\": 0, \"ticks\": \"\"}, \"type\": \"choropleth\"}], \"contour\": [{\"colorbar\": {\"outlinewidth\": 0, \"ticks\": \"\"}, \"colorscale\": [[0.0, \"#0d0887\"], [0.1111111111111111, \"#46039f\"], [0.2222222222222222, \"#7201a8\"], [0.3333333333333333, \"#9c179e\"], [0.4444444444444444, \"#bd3786\"], [0.5555555555555556, \"#d8576b\"], [0.6666666666666666, \"#ed7953\"], [0.7777777777777778, \"#fb9f3a\"], [0.8888888888888888, \"#fdca26\"], [1.0, \"#f0f921\"]], \"type\": \"contour\"}], \"contourcarpet\": [{\"colorbar\": {\"outlinewidth\": 0, \"ticks\": \"\"}, \"type\": \"contourcarpet\"}], \"heatmap\": [{\"colorbar\": {\"outlinewidth\": 0, \"ticks\": \"\"}, \"colorscale\": [[0.0, \"#0d0887\"], [0.1111111111111111, \"#46039f\"], [0.2222222222222222, \"#7201a8\"], [0.3333333333333333, \"#9c179e\"], [0.4444444444444444, \"#bd3786\"], [0.5555555555555556, \"#d8576b\"], [0.6666666666666666, \"#ed7953\"], [0.7777777777777778, \"#fb9f3a\"], [0.8888888888888888, \"#fdca26\"], [1.0, \"#f0f921\"]], \"type\": \"heatmap\"}], \"heatmapgl\": [{\"colorbar\": {\"outlinewidth\": 0, \"ticks\": \"\"}, \"colorscale\": [[0.0, \"#0d0887\"], [0.1111111111111111, \"#46039f\"], [0.2222222222222222, \"#7201a8\"], [0.3333333333333333, \"#9c179e\"], [0.4444444444444444, \"#bd3786\"], [0.5555555555555556, \"#d8576b\"], [0.6666666666666666, \"#ed7953\"], [0.7777777777777778, \"#fb9f3a\"], [0.8888888888888888, \"#fdca26\"], [1.0, \"#f0f921\"]], \"type\": \"heatmapgl\"}], \"histogram\": [{\"marker\": {\"colorbar\": {\"outlinewidth\": 0, \"ticks\": \"\"}}, \"type\": \"histogram\"}], \"histogram2d\": [{\"colorbar\": {\"outlinewidth\": 0, \"ticks\": \"\"}, \"colorscale\": [[0.0, \"#0d0887\"], [0.1111111111111111, \"#46039f\"], [0.2222222222222222, \"#7201a8\"], [0.3333333333333333, \"#9c179e\"], [0.4444444444444444, \"#bd3786\"], [0.5555555555555556, \"#d8576b\"], [0.6666666666666666, \"#ed7953\"], [0.7777777777777778, \"#fb9f3a\"], [0.8888888888888888, \"#fdca26\"], [1.0, \"#f0f921\"]], \"type\": \"histogram2d\"}], \"histogram2dcontour\": [{\"colorbar\": {\"outlinewidth\": 0, \"ticks\": \"\"}, \"colorscale\": [[0.0, \"#0d0887\"], [0.1111111111111111, \"#46039f\"], [0.2222222222222222, \"#7201a8\"], [0.3333333333333333, \"#9c179e\"], [0.4444444444444444, \"#bd3786\"], [0.5555555555555556, \"#d8576b\"], [0.6666666666666666, \"#ed7953\"], [0.7777777777777778, \"#fb9f3a\"], [0.8888888888888888, \"#fdca26\"], [1.0, \"#f0f921\"]], \"type\": \"histogram2dcontour\"}], \"mesh3d\": [{\"colorbar\": {\"outlinewidth\": 0, \"ticks\": \"\"}, \"type\": \"mesh3d\"}], \"parcoords\": [{\"line\": {\"colorbar\": {\"outlinewidth\": 0, \"ticks\": \"\"}}, \"type\": \"parcoords\"}], \"pie\": [{\"automargin\": true, \"type\": \"pie\"}], \"scatter\": [{\"marker\": {\"colorbar\": {\"outlinewidth\": 0, \"ticks\": \"\"}}, \"type\": \"scatter\"}], \"scatter3d\": [{\"line\": {\"colorbar\": {\"outlinewidth\": 0, \"ticks\": \"\"}}, \"marker\": {\"colorbar\": {\"outlinewidth\": 0, \"ticks\": \"\"}}, \"type\": \"scatter3d\"}], \"scattercarpet\": [{\"marker\": {\"colorbar\": {\"outlinewidth\": 0, \"ticks\": \"\"}}, \"type\": \"scattercarpet\"}], \"scattergeo\": [{\"marker\": {\"colorbar\": {\"outlinewidth\": 0, \"ticks\": \"\"}}, \"type\": \"scattergeo\"}], \"scattergl\": [{\"marker\": {\"colorbar\": {\"outlinewidth\": 0, \"ticks\": \"\"}}, \"type\": \"scattergl\"}], \"scattermapbox\": [{\"marker\": {\"colorbar\": {\"outlinewidth\": 0, \"ticks\": \"\"}}, \"type\": \"scattermapbox\"}], \"scatterpolar\": [{\"marker\": {\"colorbar\": {\"outlinewidth\": 0, \"ticks\": \"\"}}, \"type\": \"scatterpolar\"}], \"scatterpolargl\": [{\"marker\": {\"colorbar\": {\"outlinewidth\": 0, \"ticks\": \"\"}}, \"type\": \"scatterpolargl\"}], \"scatterternary\": [{\"marker\": {\"colorbar\": {\"outlinewidth\": 0, \"ticks\": \"\"}}, \"type\": \"scatterternary\"}], \"surface\": [{\"colorbar\": {\"outlinewidth\": 0, \"ticks\": \"\"}, \"colorscale\": [[0.0, \"#0d0887\"], [0.1111111111111111, \"#46039f\"], [0.2222222222222222, \"#7201a8\"], [0.3333333333333333, \"#9c179e\"], [0.4444444444444444, \"#bd3786\"], [0.5555555555555556, \"#d8576b\"], [0.6666666666666666, \"#ed7953\"], [0.7777777777777778, \"#fb9f3a\"], [0.8888888888888888, \"#fdca26\"], [1.0, \"#f0f921\"]], \"type\": \"surface\"}], \"table\": [{\"cells\": {\"fill\": {\"color\": \"#EBF0F8\"}, \"line\": {\"color\": \"white\"}}, \"header\": {\"fill\": {\"color\": \"#C8D4E3\"}, \"line\": {\"color\": \"white\"}}, \"type\": \"table\"}]}, \"layout\": {\"annotationdefaults\": {\"arrowcolor\": \"#2a3f5f\", \"arrowhead\": 0, \"arrowwidth\": 1}, \"coloraxis\": {\"colorbar\": {\"outlinewidth\": 0, \"ticks\": \"\"}}, \"colorscale\": {\"diverging\": [[0, \"#8e0152\"], [0.1, \"#c51b7d\"], [0.2, \"#de77ae\"], [0.3, \"#f1b6da\"], [0.4, \"#fde0ef\"], [0.5, \"#f7f7f7\"], [0.6, \"#e6f5d0\"], [0.7, \"#b8e186\"], [0.8, \"#7fbc41\"], [0.9, \"#4d9221\"], [1, \"#276419\"]], \"sequential\": [[0.0, \"#0d0887\"], [0.1111111111111111, \"#46039f\"], [0.2222222222222222, \"#7201a8\"], [0.3333333333333333, \"#9c179e\"], [0.4444444444444444, \"#bd3786\"], [0.5555555555555556, \"#d8576b\"], [0.6666666666666666, \"#ed7953\"], [0.7777777777777778, \"#fb9f3a\"], [0.8888888888888888, \"#fdca26\"], [1.0, \"#f0f921\"]], \"sequentialminus\": [[0.0, \"#0d0887\"], [0.1111111111111111, \"#46039f\"], [0.2222222222222222, \"#7201a8\"], [0.3333333333333333, \"#9c179e\"], [0.4444444444444444, \"#bd3786\"], [0.5555555555555556, \"#d8576b\"], [0.6666666666666666, \"#ed7953\"], [0.7777777777777778, \"#fb9f3a\"], [0.8888888888888888, \"#fdca26\"], [1.0, \"#f0f921\"]]}, \"colorway\": [\"#636efa\", \"#EF553B\", \"#00cc96\", \"#ab63fa\", \"#FFA15A\", \"#19d3f3\", \"#FF6692\", \"#B6E880\", \"#FF97FF\", \"#FECB52\"], \"font\": {\"color\": \"#2a3f5f\"}, \"geo\": {\"bgcolor\": \"white\", \"lakecolor\": \"white\", \"landcolor\": \"#E5ECF6\", \"showlakes\": true, \"showland\": true, \"subunitcolor\": \"white\"}, \"hoverlabel\": {\"align\": \"left\"}, \"hovermode\": \"closest\", \"mapbox\": {\"style\": \"light\"}, \"paper_bgcolor\": \"white\", \"plot_bgcolor\": \"#E5ECF6\", \"polar\": {\"angularaxis\": {\"gridcolor\": \"white\", \"linecolor\": \"white\", \"ticks\": \"\"}, \"bgcolor\": \"#E5ECF6\", \"radialaxis\": {\"gridcolor\": \"white\", \"linecolor\": \"white\", \"ticks\": \"\"}}, \"scene\": {\"xaxis\": {\"backgroundcolor\": \"#E5ECF6\", \"gridcolor\": \"white\", \"gridwidth\": 2, \"linecolor\": \"white\", \"showbackground\": true, \"ticks\": \"\", \"zerolinecolor\": \"white\"}, \"yaxis\": {\"backgroundcolor\": \"#E5ECF6\", \"gridcolor\": \"white\", \"gridwidth\": 2, \"linecolor\": \"white\", \"showbackground\": true, \"ticks\": \"\", \"zerolinecolor\": \"white\"}, \"zaxis\": {\"backgroundcolor\": \"#E5ECF6\", \"gridcolor\": \"white\", \"gridwidth\": 2, \"linecolor\": \"white\", \"showbackground\": true, \"ticks\": \"\", \"zerolinecolor\": \"white\"}}, \"shapedefaults\": {\"line\": {\"color\": \"#2a3f5f\"}}, \"ternary\": {\"aaxis\": {\"gridcolor\": \"white\", \"linecolor\": \"white\", \"ticks\": \"\"}, \"baxis\": {\"gridcolor\": \"white\", \"linecolor\": \"white\", \"ticks\": \"\"}, \"bgcolor\": \"#E5ECF6\", \"caxis\": {\"gridcolor\": \"white\", \"linecolor\": \"white\", \"ticks\": \"\"}}, \"title\": {\"x\": 0.05}, \"xaxis\": {\"automargin\": true, \"gridcolor\": \"white\", \"linecolor\": \"white\", \"ticks\": \"\", \"title\": {\"standoff\": 15}, \"zerolinecolor\": \"white\", \"zerolinewidth\": 2}, \"yaxis\": {\"automargin\": true, \"gridcolor\": \"white\", \"linecolor\": \"white\", \"ticks\": \"\", \"title\": {\"standoff\": 15}, \"zerolinecolor\": \"white\", \"zerolinewidth\": 2}}}, \"title\": {\"text\": \"Top funder (non-NSF)\"}},                        {\"responsive\": true}                    ).then(function(){\n",
       "                            \n",
       "var gd = document.getElementById('e464e84c-a644-4042-af95-351ab0f1bca5');\n",
       "var x = new MutationObserver(function (mutations, observer) {{\n",
       "        var display = window.getComputedStyle(gd).display;\n",
       "        if (!display || display === 'none') {{\n",
       "            console.log([gd, 'removed!']);\n",
       "            Plotly.purge(gd);\n",
       "            observer.disconnect();\n",
       "        }}\n",
       "}});\n",
       "\n",
       "// Listen for the removal of the full notebook cells\n",
       "var notebookContainer = gd.closest('#notebook-container');\n",
       "if (notebookContainer) {{\n",
       "    x.observe(notebookContainer, {childList: true});\n",
       "}}\n",
       "\n",
       "// Listen for the clearing of the current output cell\n",
       "var outputEl = gd.closest('.output');\n",
       "if (outputEl) {{\n",
       "    x.observe(outputEl, {childList: true});\n",
       "}}\n",
       "\n",
       "                        })                };                });            </script>        </div>"
      ]
     },
     "metadata": {},
     "output_type": "display_data"
    }
   ],
   "source": [
    "query = f\"\"\"\n",
    "search grants \n",
    "    in concepts \n",
    "    for \"{dsl_escape(q_focusconcepts)}\" \n",
    "    where active_year >= 2015\n",
    "    not funders.id in {json.dumps(nsfgrids)}\n",
    "return funders\n",
    "\"\"\"\n",
    "\n",
    "grants = dsl.query(query).as_dataframe()\n",
    "\n",
    "px.pie(grants,\n",
    "       names='name', values=\"count\",\n",
    "      title = \"Top funders (non-NSF)\")"
   ]
  },
  {
   "cell_type": "markdown",
   "metadata": {
    "Collapsed": "false"
   },
   "source": [
    "### More learning resources\n",
    "\n",
    "* [Working with concepts in the Dimensions API](https://api-lab.dimensions.ai/cookbooks/1-getting-started/7-Working-with-concepts.html)\n",
    "* [Building a concepts co-occurence network](https://api-lab.dimensions.ai/cookbooks/2-publications/Concepts-network-graph.html)\n",
    "* [Identifying emerging topics in grants using ‘concepts’](https://api-lab.dimensions.ai/cookbooks/3-grants/4-grants-topic-analysis.html)"
   ]
  }
 ],
 "metadata": {
  "kernelspec": {
   "display_name": "Python 3 (ipykernel)",
   "language": "python",
   "name": "python3"
  },
  "language_info": {
   "codemirror_mode": {
    "name": "ipython",
    "version": 3
   },
   "file_extension": ".py",
   "mimetype": "text/x-python",
   "name": "python",
   "nbconvert_exporter": "python",
   "pygments_lexer": "ipython3",
   "version": "3.9.9"
  }
 },
 "nbformat": 4,
 "nbformat_minor": 4
}
