{
 "cells": [
  {
   "cell_type": "markdown",
   "metadata": {
    "Collapsed": "false",
    "colab_type": "text",
    "id": "1h9FQJHvG8Vv"
   },
   "source": [
    "# Exploring The Dimensions Search Language (DSL) - Deep Dive\n",
    "\n",
    "This tutorial provides a detailed walkthrough of the most important features of the [Dimensions Search Language](https://docs.dimensions.ai/dsl/). \n",
    "\n",
    "This tutorial is based on the [Query Syntax](https://docs.dimensions.ai/dsl/language.html) section of the official documentation. So, it can be used as an interactive version of the documentation, as it allows to try out the various DSL queries presented there.\n",
    "\n",
    "## What is the Dimensions Search Language?\n",
    "\n",
    "The DSL aims to capture the type of interaction with Dimensions data\n",
    "that users are accustomed to performing graphically via the [web\n",
    "application](https://app.dimensions.ai/), and enable web app developers, power users, and others to\n",
    "carry out such interactions by writing query statements in a syntax\n",
    "loosely inspired by SQL but particularly suited to our specific domain\n",
    "and data organization.\n",
    "\n",
    "**Note:** this notebook uses the Python programming language, however all the **DSL queries are not Python-specific** and can in fact be reused with any other API client. \n",
    "\n"
   ]
  },
  {
   "cell_type": "code",
   "execution_count": 1,
   "metadata": {},
   "outputs": [
    {
     "name": "stdout",
     "output_type": "stream",
     "text": [
      "==\n",
      "CHANGELOG\n",
      "This notebook was last run on Jan 24, 2022\n",
      "==\n"
     ]
    }
   ],
   "source": [
    "import datetime\n",
    "print(\"==\\nCHANGELOG\\nThis notebook was last run on %s\\n==\" % datetime.date.today().strftime('%b %d, %Y'))"
   ]
  },
  {
   "cell_type": "markdown",
   "metadata": {
    "Collapsed": "false",
    "colab_type": "text",
    "id": "hMaQlB7DG8Vw"
   },
   "source": [
    "## Prerequisites\n",
    "\n",
    "This notebook assumes you have installed the [Dimcli](https://pypi.org/project/dimcli/) library and are familiar with the ['Getting Started' tutorial](https://api-lab.dimensions.ai/cookbooks/1-getting-started/1-Using-the-Dimcli-library-to-query-the-API.html)."
   ]
  },
  {
   "cell_type": "code",
   "execution_count": 1,
   "metadata": {
    "Collapsed": "false"
   },
   "outputs": [
    {
     "name": "stderr",
     "output_type": "stream",
     "text": [
      "\u001b[2mSearching config file credentials for 'https://app.dimensions.ai' endpoint..\u001b[0m\n"
     ]
    },
    {
     "name": "stdout",
     "output_type": "stream",
     "text": [
      "==\n",
      "Logging in..\n",
      "\u001b[2mDimcli - Dimensions API Client (v0.9.6)\u001b[0m\n",
      "\u001b[2mConnected to: <https://app.dimensions.ai/api/dsl> - DSL v2.0\u001b[0m\n",
      "\u001b[2mMethod: dsl.ini file\u001b[0m\n"
     ]
    }
   ],
   "source": [
    "!pip install dimcli --quiet \n",
    "\n",
    "import dimcli\n",
    "from dimcli.utils import *\n",
    "import json\n",
    "import sys\n",
    "import pandas as pd\n",
    "#\n",
    "\n",
    "print(\"==\\nLogging in..\")\n",
    "# https://digital-science.github.io/dimcli/getting-started.html#authentication\n",
    "ENDPOINT = \"https://app.dimensions.ai\"\n",
    "if 'google.colab' in sys.modules:\n",
    "  import getpass\n",
    "  KEY = getpass.getpass(prompt='API Key: ')  \n",
    "  dimcli.login(key=KEY, endpoint=ENDPOINT)\n",
    "else:\n",
    "  KEY = \"\"\n",
    "  dimcli.login(key=KEY, endpoint=ENDPOINT)\n",
    "dsl = dimcli.Dsl()"
   ]
  },
  {
   "cell_type": "markdown",
   "metadata": {
    "Collapsed": "false"
   },
   "source": [
    "\n",
    "## Sections Index \n",
    "\n",
    "1. Basic query structure\n",
    "2. Full-text searching\n",
    "3. Field searching\n",
    "4. Searching for researchers\n",
    "5. Returning results \n",
    "6. Aggregations"
   ]
  },
  {
   "cell_type": "markdown",
   "metadata": {
    "Collapsed": "false"
   },
   "source": [
    "## 1. Basic query structure\n",
    "\n",
    "DSL queries consist of two required components: a `search` phrase that\n",
    "indicates the scientific records to be searched, and one or\n",
    "more `return` phrases which specify the contents and structure of the\n",
    "desired results.\n",
    "\n",
    "The simplest valid DSL query is of the form `search <source>|return <result>`:"
   ]
  },
  {
   "cell_type": "code",
   "execution_count": 2,
   "metadata": {
    "Collapsed": "false"
   },
   "outputs": [
    {
     "name": "stdout",
     "output_type": "stream",
     "text": [
      "Returned Grants: 5 (total = 6115921)\n",
      "\u001b[2mTime: 0.91s\u001b[0m\n"
     ]
    },
    {
     "data": {
      "text/html": [
       "<div>\n",
       "<style scoped>\n",
       "    .dataframe tbody tr th:only-of-type {\n",
       "        vertical-align: middle;\n",
       "    }\n",
       "\n",
       "    .dataframe tbody tr th {\n",
       "        vertical-align: top;\n",
       "    }\n",
       "\n",
       "    .dataframe thead th {\n",
       "        text-align: right;\n",
       "    }\n",
       "</style>\n",
       "<table border=\"1\" class=\"dataframe\">\n",
       "  <thead>\n",
       "    <tr style=\"text-align: right;\">\n",
       "      <th></th>\n",
       "      <th>active_year</th>\n",
       "      <th>end_date</th>\n",
       "      <th>funders</th>\n",
       "      <th>funding_org_name</th>\n",
       "      <th>grant_number</th>\n",
       "      <th>id</th>\n",
       "      <th>language</th>\n",
       "      <th>original_title</th>\n",
       "      <th>start_date</th>\n",
       "      <th>start_year</th>\n",
       "      <th>title</th>\n",
       "    </tr>\n",
       "  </thead>\n",
       "  <tbody>\n",
       "    <tr>\n",
       "      <th>0</th>\n",
       "      <td>[2022, 2023, 2024, 2025, 2026, 2027]</td>\n",
       "      <td>2027-12-01</td>\n",
       "      <td>[{'acronym': 'ARC', 'city_name': 'Canberra', '...</td>\n",
       "      <td>Australian Research Council</td>\n",
       "      <td>FL210100107</td>\n",
       "      <td>grant.9782236</td>\n",
       "      <td>en</td>\n",
       "      <td>Tracking nanoparticles: from cell culture to i...</td>\n",
       "      <td>2022-12-01</td>\n",
       "      <td>2022</td>\n",
       "      <td>Tracking nanoparticles: from cell culture to i...</td>\n",
       "    </tr>\n",
       "    <tr>\n",
       "      <th>1</th>\n",
       "      <td>[2022, 2023]</td>\n",
       "      <td>2023-05-31</td>\n",
       "      <td>[{'acronym': 'NSF GEO', 'city_name': 'Arlingto...</td>\n",
       "      <td>Directorate for Geosciences</td>\n",
       "      <td>2127438</td>\n",
       "      <td>grant.9752271</td>\n",
       "      <td>en</td>\n",
       "      <td>NNA Planning: Developing community frameworks ...</td>\n",
       "      <td>2022-12-01</td>\n",
       "      <td>2022</td>\n",
       "      <td>NNA Planning: Developing community frameworks ...</td>\n",
       "    </tr>\n",
       "    <tr>\n",
       "      <th>2</th>\n",
       "      <td>[2022, 2023, 2024, 2025, 2026, 2027]</td>\n",
       "      <td>2027-11-30</td>\n",
       "      <td>[{'acronym': 'ERC', 'city_name': 'Brussels', '...</td>\n",
       "      <td>European Research Council</td>\n",
       "      <td>101019146</td>\n",
       "      <td>grant.9708025</td>\n",
       "      <td>en</td>\n",
       "      <td>Seeking Constraints on Open Ocean Biocalcifica...</td>\n",
       "      <td>2022-12-01</td>\n",
       "      <td>2022</td>\n",
       "      <td>Seeking Constraints on Open Ocean Biocalcifica...</td>\n",
       "    </tr>\n",
       "    <tr>\n",
       "      <th>3</th>\n",
       "      <td>[2022, 2023, 2024, 2025, 2026, 2027]</td>\n",
       "      <td>2027-11-30</td>\n",
       "      <td>[{'acronym': 'ERC', 'city_name': 'Brussels', '...</td>\n",
       "      <td>European Research Council</td>\n",
       "      <td>101003021</td>\n",
       "      <td>grant.9661402</td>\n",
       "      <td>en</td>\n",
       "      <td>New frontiers in advanced glycotherapy for cancer</td>\n",
       "      <td>2022-12-01</td>\n",
       "      <td>2022</td>\n",
       "      <td>New frontiers in advanced glycotherapy for cancer</td>\n",
       "    </tr>\n",
       "    <tr>\n",
       "      <th>4</th>\n",
       "      <td>[2022, 2023, 2024, 2025]</td>\n",
       "      <td>2025-10-31</td>\n",
       "      <td>[{'acronym': 'NSF MPS', 'city_name': 'Arlingto...</td>\n",
       "      <td>Directorate for Mathematical &amp; Physical Sciences</td>\n",
       "      <td>2105918</td>\n",
       "      <td>grant.9890102</td>\n",
       "      <td>en</td>\n",
       "      <td>RUI: Exciton-Phonon Interactions in Solids bas...</td>\n",
       "      <td>2022-11-15</td>\n",
       "      <td>2022</td>\n",
       "      <td>RUI: Exciton-Phonon Interactions in Solids bas...</td>\n",
       "    </tr>\n",
       "  </tbody>\n",
       "</table>\n",
       "</div>"
      ],
      "text/plain": [
       "                            active_year    end_date  \\\n",
       "0  [2022, 2023, 2024, 2025, 2026, 2027]  2027-12-01   \n",
       "1                          [2022, 2023]  2023-05-31   \n",
       "2  [2022, 2023, 2024, 2025, 2026, 2027]  2027-11-30   \n",
       "3  [2022, 2023, 2024, 2025, 2026, 2027]  2027-11-30   \n",
       "4              [2022, 2023, 2024, 2025]  2025-10-31   \n",
       "\n",
       "                                             funders  \\\n",
       "0  [{'acronym': 'ARC', 'city_name': 'Canberra', '...   \n",
       "1  [{'acronym': 'NSF GEO', 'city_name': 'Arlingto...   \n",
       "2  [{'acronym': 'ERC', 'city_name': 'Brussels', '...   \n",
       "3  [{'acronym': 'ERC', 'city_name': 'Brussels', '...   \n",
       "4  [{'acronym': 'NSF MPS', 'city_name': 'Arlingto...   \n",
       "\n",
       "                                   funding_org_name grant_number  \\\n",
       "0                       Australian Research Council  FL210100107   \n",
       "1                       Directorate for Geosciences      2127438   \n",
       "2                         European Research Council    101019146   \n",
       "3                         European Research Council    101003021   \n",
       "4  Directorate for Mathematical & Physical Sciences      2105918   \n",
       "\n",
       "              id language                                     original_title  \\\n",
       "0  grant.9782236       en  Tracking nanoparticles: from cell culture to i...   \n",
       "1  grant.9752271       en  NNA Planning: Developing community frameworks ...   \n",
       "2  grant.9708025       en  Seeking Constraints on Open Ocean Biocalcifica...   \n",
       "3  grant.9661402       en  New frontiers in advanced glycotherapy for cancer   \n",
       "4  grant.9890102       en  RUI: Exciton-Phonon Interactions in Solids bas...   \n",
       "\n",
       "   start_date  start_year                                              title  \n",
       "0  2022-12-01        2022  Tracking nanoparticles: from cell culture to i...  \n",
       "1  2022-12-01        2022  NNA Planning: Developing community frameworks ...  \n",
       "2  2022-12-01        2022  Seeking Constraints on Open Ocean Biocalcifica...  \n",
       "3  2022-12-01        2022  New frontiers in advanced glycotherapy for cancer  \n",
       "4  2022-11-15        2022  RUI: Exciton-Phonon Interactions in Solids bas...  "
      ]
     },
     "execution_count": 2,
     "metadata": {},
     "output_type": "execute_result"
    }
   ],
   "source": [
    "%%dsldf \n",
    "search grants return  grants limit 5"
   ]
  },
  {
   "cell_type": "markdown",
   "metadata": {
    "Collapsed": "false"
   },
   "source": [
    "### `search source`\n",
    "\n",
    "A query must begin with the word `search` followed by a `source` name, i.e. the name of a type of scientific `record`, such as `grants` or `publications`.\n",
    "\n",
    "**What are the sources available?** See the [data sources](https://docs.dimensions.ai/dsl/data-sources.html) section of the documentation. \n",
    "\n",
    "Alternatively, we can use the 'schema' API ([describe](https://docs.dimensions.ai/dsl/data-sources.html#metadata-api)) to return this information programmatically:"
   ]
  },
  {
   "cell_type": "code",
   "execution_count": 3,
   "metadata": {
    "Collapsed": "false"
   },
   "outputs": [
    {
     "data": {
      "application/json": {
       "entities": {
        "categories": {
         "fields": {
          "id": {
           "description": "Dimensions ID of the category.",
           "is_filter": true,
           "long_description": null,
           "name": "string",
           "type": "string"
          },
          "name": {
           "description": "Name of the category. Note: this may include an identifier from the original source. E.g., '2.1 Biological and endogenous factors' (HRCS_RAC codes) or '1103 Clinical Sciences' (FOR codes).",
           "is_filter": true,
           "long_description": null,
           "name": "string",
           "type": "string"
          }
         },
         "fieldsets": [
          "basics"
         ]
        },
        "cities": {
         "fields": {
          "id": {
           "description": "GeoNames city ID (eg '5391811' for `geonames:5391811 <http://www.geonames.org/5391811>`_ )",
           "is_filter": true,
           "long_description": null,
           "name": "string",
           "type": "string"
          },
          "name": {
           "description": "GeoNames city name.",
           "is_filter": true,
           "long_description": null,
           "name": "string",
           "type": "string"
          }
         },
         "fieldsets": [
          "basics"
         ]
        },
        "countries": {
         "fields": {
          "id": {
           "description": "GeoNames country code (eg 'US' for `geonames:6252001 <http://www.geonames.org/6252001>`_ )",
           "is_filter": true,
           "long_description": null,
           "name": "string",
           "type": "string"
          },
          "name": {
           "description": "GeoNames country name.",
           "is_filter": true,
           "long_description": null,
           "name": "string",
           "type": "string"
          }
         },
         "fieldsets": [
          "basics"
         ]
        },
        "journals": {
         "fields": {
          "id": {
           "description": "Dimensions ID of a journal. E.g., `jour.1016355 <https://app.dimensions.ai/discover/publication?and_facet_source_title=jour.1016355>`_ or `jour.1077219 <https://app.dimensions.ai/discover/publication?and_facet_source_title=jour.1077219>`_ .",
           "is_filter": true,
           "long_description": null,
           "name": "string",
           "type": "string"
          },
          "title": {
           "description": "Title of a journal publication. E.g. 'Nature' or 'The Lancet'",
           "is_filter": true,
           "long_description": null,
           "name": "string",
           "type": "string"
          }
         },
         "fieldsets": [
          "basics"
         ]
        },
        "open_access": {
         "fields": {
          "description": {
           "description": "Description of the open access category.",
           "is_filter": false,
           "long_description": null,
           "name": "string",
           "type": "string"
          },
          "id": {
           "description": "Dimensions ID of the open access category. E.g., one of 'closed', 'oa_all', 'gold_bronze', 'gold_pure', 'green_sub', 'gold_hybrid', 'green_pub', 'green_acc'. (see also the :ref:`publications` field ``open_access``).",
           "is_filter": true,
           "long_description": null,
           "name": "string",
           "type": "string"
          },
          "name": {
           "description": "Name of the open access category. E.g., 'Closed' or 'Pure Gold'.",
           "is_filter": true,
           "long_description": null,
           "name": "string",
           "type": "string"
          }
         },
         "fieldsets": [
          "basics"
         ]
        },
        "publication_links": {
         "fields": {
          "doi": {
           "description": "Digital object identifier",
           "is_filter": true,
           "long_description": null,
           "name": "string",
           "type": "string"
          },
          "id": {
           "description": "Dimensions publication id",
           "is_filter": true,
           "long_description": null,
           "name": "string",
           "type": "string"
          },
          "pmcid": {
           "description": "PubMed Central ID",
           "is_filter": true,
           "long_description": null,
           "name": "string",
           "type": "string"
          },
          "pmid": {
           "description": "PubMed ID",
           "is_filter": true,
           "long_description": null,
           "name": "string",
           "type": "string"
          }
         },
         "fieldsets": [
          "basics"
         ]
        },
        "states": {
         "fields": {
          "id": {
           "description": "GeoNames state code (ISO‌-3166-2). E.g., 'US.CA' for `geonames:5332921 <http://www.geonames.org/5332921>`_ .",
           "is_filter": true,
           "long_description": null,
           "name": "string",
           "type": "string"
          },
          "name": {
           "description": "GeoNames state name (ISO‌-3166-2).",
           "is_filter": true,
           "long_description": null,
           "name": "string",
           "type": "string"
          }
         },
         "fieldsets": [
          "basics"
         ]
        }
       },
       "sources": {
        "clinical_trials": {
         "fields": {
          "abstract": {
           "description": "Abstract or description of the clinical trial.",
           "is_entity": false,
           "is_facet": false,
           "is_filter": false,
           "is_multivalue": false,
           "long_description": null,
           "type": "string"
          },
          "acronym": {
           "description": "Acronym of the clinical trial.",
           "is_entity": false,
           "is_facet": false,
           "is_filter": true,
           "is_multivalue": false,
           "long_description": null,
           "type": "string"
          },
          "active_years": {
           "description": "List of active years for a clinical trial.",
           "is_entity": false,
           "is_facet": true,
           "is_filter": true,
           "is_multivalue": true,
           "long_description": null,
           "type": "integer"
          },
          "altmetric": {
           "description": "Altmetric Attention Score.",
           "is_entity": false,
           "is_facet": false,
           "is_filter": true,
           "is_multivalue": false,
           "long_description": null,
           "type": "float"
          },
          "associated_grant_ids": {
           "description": "Dimensions IDs of the grants associated to the clinical trial (see also: :ref:`clinical_trials_model` section).",
           "is_entity": false,
           "is_facet": false,
           "is_filter": true,
           "is_multivalue": true,
           "long_description": null,
           "type": "string"
          },
          "brief_title": {
           "description": "Brief title of the clinical trial.",
           "is_entity": false,
           "is_facet": false,
           "is_filter": true,
           "is_multivalue": false,
           "long_description": null,
           "type": "string"
          },
          "category_bra": {
           "description": "`Broad Research Areas <https://app.dimensions.ai/browse/publication/broad_research_areas?redirect_path=/discover/publication>`_",
           "is_entity": true,
           "is_facet": true,
           "is_filter": true,
           "is_multivalue": true,
           "long_description": null,
           "type": "categories"
          },
          "category_for": {
           "description": "`ANZSRC Fields of Research classification <https://dimensions.freshdesk.com/support/solutions/articles/23000018820-what-are-fields-of-research-and-other-classification-systems-and-how-are-they-created->`_",
           "is_entity": true,
           "is_facet": true,
           "is_filter": true,
           "is_multivalue": true,
           "long_description": null,
           "type": "categories"
          },
          "category_hra": {
           "description": "`Health Research Areas <https://dimensions.freshdesk.com/support/solutions/articles/23000018820-what-are-fields-of-research-and-other-classification-systems-and-how-are-they-created->`_",
           "is_entity": true,
           "is_facet": true,
           "is_filter": true,
           "is_multivalue": true,
           "long_description": null,
           "type": "categories"
          },
          "category_hrcs_hc": {
           "description": "`HRCS - Health Categories <https://dimensions.freshdesk.com/support/solutions/articles/23000018820-what-are-fields-of-research-and-other-classification-systems-and-how-are-they-created->`_",
           "is_entity": true,
           "is_facet": true,
           "is_filter": true,
           "is_multivalue": true,
           "long_description": null,
           "type": "categories"
          },
          "category_hrcs_rac": {
           "description": "`HRCS – Research Activity Codes <https://dimensions.freshdesk.com/support/solutions/articles/23000018820-what-are-fields-of-research-and-other-classification-systems-and-how-are-they-created->`_",
           "is_entity": true,
           "is_facet": true,
           "is_filter": true,
           "is_multivalue": true,
           "long_description": null,
           "type": "categories"
          },
          "category_icrp_cso": {
           "description": "`ICRP Common Scientific Outline <https://dimensions.freshdesk.com/support/solutions/articles/23000018820-what-are-fields-of-research-and-other-classification-systems-and-how-are-they-created->`_",
           "is_entity": true,
           "is_facet": true,
           "is_filter": true,
           "is_multivalue": true,
           "long_description": null,
           "type": "categories"
          },
          "category_icrp_ct": {
           "description": "`ICRP Cancer Types <https://dimensions.freshdesk.com/support/solutions/articles/23000018820-what-are-fields-of-research-and-other-classification-systems-and-how-are-they-created->`_",
           "is_entity": true,
           "is_facet": true,
           "is_filter": true,
           "is_multivalue": true,
           "long_description": null,
           "type": "categories"
          },
          "category_rcdc": {
           "description": "`Research, Condition, and Disease Categorization <https://dimensions.freshdesk.com/support/solutions/articles/23000018820-what-are-fields-of-research-and-other-classification-systems-and-how-are-they-created->`_",
           "is_entity": true,
           "is_facet": true,
           "is_filter": true,
           "is_multivalue": true,
           "long_description": null,
           "type": "categories"
          },
          "conditions": {
           "description": "List of medical conditions names, e.g. 'Breast cancer' or 'Obesity'.",
           "is_entity": false,
           "is_facet": false,
           "is_filter": true,
           "is_multivalue": true,
           "long_description": null,
           "type": "string"
          },
          "date": {
           "description": "Start date of a clinical trial.",
           "is_entity": false,
           "is_facet": false,
           "is_filter": true,
           "is_multivalue": false,
           "long_description": null,
           "type": "date"
          },
          "date_inserted": {
           "description": "Date when the record was inserted into Dimensions (note: this field does not support exact match on the data, only range filters e.g. `<=` or `>=').",
           "is_entity": false,
           "is_facet": false,
           "is_filter": true,
           "is_multivalue": false,
           "long_description": null,
           "type": "date"
          },
          "dimensions_url": {
           "description": "Link pointing to the Dimensions web application",
           "is_entity": false,
           "is_facet": false,
           "is_filter": false,
           "is_multivalue": false,
           "long_description": null,
           "type": "string"
          },
          "funder_countries": {
           "description": "The country group the funding organisations.",
           "is_entity": true,
           "is_facet": true,
           "is_filter": true,
           "is_multivalue": true,
           "long_description": null,
           "type": "countries"
          },
          "funders": {
           "description": "GRID funding organisations that are involved with the clinical trial.",
           "is_entity": true,
           "is_facet": true,
           "is_filter": true,
           "is_multivalue": true,
           "long_description": null,
           "type": "organizations"
          },
          "gender": {
           "description": "The gender of the clinical trial subjects e.g. 'Male', 'Female' or 'All'.",
           "is_entity": false,
           "is_facet": false,
           "is_filter": true,
           "is_multivalue": false,
           "long_description": null,
           "type": "string"
          },
          "id": {
           "description": "Dimensions clinical trial ID",
           "is_entity": false,
           "is_facet": false,
           "is_filter": true,
           "is_multivalue": false,
           "long_description": null,
           "type": "string"
          },
          "interventions": {
           "description": "Structured JSON object containing information about the clinical trial's interventions according to the research plan or protocol created by the investigators.",
           "is_entity": false,
           "is_facet": false,
           "is_filter": true,
           "is_multivalue": true,
           "long_description": "Returned objects contain: ``type``, ``name``, ``description``, ``arm_group_labels``, ``other_names``.\n                                            \n                                            For example:\n                                            \n    .. code-block:: json\n                                     \n        {\n            \"interventions\":[\n                {\n                    \"type\":\"Drug\",\n                    \"name\":\"INCB024360\",\n                    \"description\":\"INCB024360: Oral daily dosing\",\n                    \"arm_group_labels\":\"MEDI4736 + INCB024360\",\n                    \"other_names\":\"\"\n                },\n                {\n                    \"type\":\"Drug\",\n                    \"name\":\"MEDI4736\",\n                    \"description\":\"MEDI4736 administered intravenously (IV) every two weeks (q2w)\",\n                    \"arm_group_labels\":\"MEDI4736 + INCB024360\",\n                    \"other_names\":\"\"\n                }\n            ]\n        }",
           "type": "json"
          },
          "investigators": {
           "description": "Additional details about investigators, including affiliations and roles.",
           "is_entity": false,
           "is_facet": false,
           "is_filter": true,
           "is_multivalue": true,
           "long_description": null,
           "type": "json"
          },
          "linkout": {
           "description": "Original URL for the clinical trial.",
           "is_entity": false,
           "is_facet": false,
           "is_filter": false,
           "is_multivalue": false,
           "long_description": null,
           "type": "string"
          },
          "mesh_terms": {
           "description": "Medical Subject Heading terms as used in PubMed.",
           "is_entity": false,
           "is_facet": true,
           "is_filter": true,
           "is_multivalue": true,
           "long_description": null,
           "type": "string"
          },
          "phase": {
           "description": "Phase of the clinical trial, as a string.",
           "is_entity": false,
           "is_facet": false,
           "is_filter": true,
           "is_multivalue": false,
           "long_description": null,
           "type": "string"
          },
          "publication_ids": {
           "description": "Publications mentioned in clinical trials (excluding resulting publications), as a list of Dimensions identifiers.",
           "is_entity": false,
           "is_facet": false,
           "is_filter": true,
           "is_multivalue": true,
           "long_description": null,
           "type": "string"
          },
          "publications": {
           "description": "Publications mentioned in clinical trials (excluding resulting publications), as a structured entity.",
           "is_entity": true,
           "is_facet": true,
           "is_filter": true,
           "is_multivalue": true,
           "long_description": null,
           "type": "publication_links"
          },
          "registry": {
           "description": "The platform where the clinical trial has been registered, e.g. 'ClinicalTrials.gov' or 'EU-CTR'.",
           "is_entity": false,
           "is_facet": false,
           "is_filter": true,
           "is_multivalue": false,
           "long_description": null,
           "type": "string"
          },
          "research_orgs": {
           "description": "GRID organizations involved, e.g. as sponsors or collaborators.",
           "is_entity": true,
           "is_facet": true,
           "is_filter": true,
           "is_multivalue": true,
           "long_description": null,
           "type": "organizations"
          },
          "researchers": {
           "description": "Dimensions researchers IDs associated to the clinical trial.",
           "is_entity": true,
           "is_facet": true,
           "is_filter": true,
           "is_multivalue": true,
           "long_description": null,
           "type": "researchers"
          },
          "title": {
           "description": "The title of the clinical trial.",
           "is_entity": false,
           "is_facet": false,
           "is_filter": false,
           "is_multivalue": false,
           "long_description": null,
           "type": "string"
          }
         },
         "fieldsets": [
          "basics",
          "extras",
          "categories"
         ],
         "metrics": {
          "count": {
           "description": "Total count",
           "name": "count"
          }
         },
         "search_fields": [
          "title_abstract_only",
          "title_only",
          "investigators",
          "full_data"
         ]
        },
        "datasets": {
         "fields": {
          "associated_grant_ids": {
           "description": "The Dimensions IDs of the grants linked to the publication the dataset is associated with.",
           "is_entity": false,
           "is_facet": false,
           "is_filter": true,
           "is_multivalue": true,
           "long_description": null,
           "type": "string"
          },
          "associated_publication": {
           "description": "Publication linked to the dataset (single value).",
           "is_entity": true,
           "is_facet": true,
           "is_filter": true,
           "is_multivalue": false,
           "long_description": null,
           "type": "publication_links"
          },
          "associated_publication_id": {
           "description": "The Dimensions ID of the publication linked to the dataset (single value).",
           "is_entity": false,
           "is_facet": false,
           "is_filter": true,
           "is_multivalue": false,
           "long_description": null,
           "type": "string"
          },
          "authors": {
           "description": "Ordered list of the dataset authors. ORCIDs are included if available.",
           "is_entity": false,
           "is_facet": false,
           "is_filter": true,
           "is_multivalue": true,
           "long_description": "Returned objects contain: `name`, `orcid`\n                                            \n                                           For example:\n\n    .. code-block:: json\n    \n        {\n            \"name\": \"Steffen Vogt\",\n            \"orcid\": \"\"\n        }",
           "type": "json"
          },
          "category_bra": {
           "description": "`Broad Research Areas <https://dimensions.freshdesk.com/support/solutions/articles/23000018820-what-are-fields-of-research-and-other-classification-systems-and-how-are-they-created->`_",
           "is_entity": true,
           "is_facet": true,
           "is_filter": true,
           "is_multivalue": true,
           "long_description": null,
           "type": "categories"
          },
          "category_for": {
           "description": "`ANZSRC Fields of Research classification <https://dimensions.freshdesk.com/support/solutions/articles/23000018820-what-are-fields-of-research-and-other-classification-systems-and-how-are-they-created->`_",
           "is_entity": true,
           "is_facet": true,
           "is_filter": true,
           "is_multivalue": true,
           "long_description": null,
           "type": "categories"
          },
          "category_hra": {
           "description": "`Health Research Areas <https://dimensions.freshdesk.com/support/solutions/articles/23000018820-what-are-fields-of-research-and-other-classification-systems-and-how-are-they-created->`_",
           "is_entity": true,
           "is_facet": true,
           "is_filter": true,
           "is_multivalue": true,
           "long_description": null,
           "type": "categories"
          },
          "category_hrcs_hc": {
           "description": "`HRCS - Health Categories <https://dimensions.freshdesk.com/support/solutions/articles/23000018820-what-are-fields-of-research-and-other-classification-systems-and-how-are-they-created->`_",
           "is_entity": true,
           "is_facet": true,
           "is_filter": true,
           "is_multivalue": true,
           "long_description": null,
           "type": "categories"
          },
          "category_hrcs_rac": {
           "description": "`HRCS – Research Activity Codes <https://dimensions.freshdesk.com/support/solutions/articles/23000018820-what-are-fields-of-research-and-other-classification-systems-and-how-are-they-created->`_",
           "is_entity": true,
           "is_facet": true,
           "is_filter": true,
           "is_multivalue": true,
           "long_description": null,
           "type": "categories"
          },
          "category_icrp_cso": {
           "description": "`ICRP Common Scientific Outline <https://dimensions.freshdesk.com/support/solutions/articles/23000018820-what-are-fields-of-research-and-other-classification-systems-and-how-are-they-created->`_",
           "is_entity": true,
           "is_facet": true,
           "is_filter": true,
           "is_multivalue": true,
           "long_description": null,
           "type": "categories"
          },
          "category_icrp_ct": {
           "description": "`ICRP Cancer Types <https://dimensions.freshdesk.com/support/solutions/articles/23000018820-what-are-fields-of-research-and-other-classification-systems-and-how-are-they-created->`_",
           "is_entity": true,
           "is_facet": true,
           "is_filter": true,
           "is_multivalue": true,
           "long_description": null,
           "type": "categories"
          },
          "category_rcdc": {
           "description": "`Research, Condition, and Disease Categorization <https://dimensions.freshdesk.com/support/solutions/articles/23000018820-what-are-fields-of-research-and-other-classification-systems-and-how-are-they-created->`_",
           "is_entity": true,
           "is_facet": true,
           "is_filter": true,
           "is_multivalue": true,
           "long_description": null,
           "type": "categories"
          },
          "category_sdg": {
           "description": "SDG - Sustainable Development Goals",
           "is_entity": true,
           "is_facet": true,
           "is_filter": true,
           "is_multivalue": true,
           "long_description": null,
           "type": "categories"
          },
          "date": {
           "description": "The publication date of the dataset, eg \"2018-01-01\".",
           "is_entity": false,
           "is_facet": false,
           "is_filter": true,
           "is_multivalue": false,
           "long_description": null,
           "type": "date"
          },
          "date_created": {
           "description": "The creation date of the dataset.",
           "is_entity": false,
           "is_facet": false,
           "is_filter": true,
           "is_multivalue": false,
           "long_description": null,
           "type": "date"
          },
          "date_embargo": {
           "description": "The embargo date of the dataset.",
           "is_entity": false,
           "is_facet": false,
           "is_filter": true,
           "is_multivalue": false,
           "long_description": null,
           "type": "date"
          },
          "date_inserted": {
           "description": "Date when the record was inserted into Dimensions (note: this field does not support exact match on the data, only range filters e.g. `<=` or `>=').",
           "is_entity": false,
           "is_facet": false,
           "is_filter": true,
           "is_multivalue": false,
           "long_description": null,
           "type": "date"
          },
          "date_modified": {
           "description": "The last modification date of the dataset.",
           "is_entity": false,
           "is_facet": false,
           "is_filter": true,
           "is_multivalue": false,
           "long_description": null,
           "type": "date"
          },
          "description": {
           "description": "Description of the dataset.",
           "is_entity": false,
           "is_facet": false,
           "is_filter": false,
           "is_multivalue": false,
           "long_description": null,
           "type": "string"
          },
          "dimensions_url": {
           "description": "Link pointing to the Dimensions web application",
           "is_entity": false,
           "is_facet": false,
           "is_filter": false,
           "is_multivalue": false,
           "long_description": null,
           "type": "string"
          },
          "doi": {
           "description": "Dataset DOI.",
           "is_entity": false,
           "is_facet": false,
           "is_filter": true,
           "is_multivalue": false,
           "long_description": null,
           "type": "string"
          },
          "figshare_url": {
           "description": "Figshare URL for the dataset.",
           "is_entity": false,
           "is_facet": false,
           "is_filter": false,
           "is_multivalue": false,
           "long_description": null,
           "type": "string"
          },
          "funder_countries": {
           "description": "The country linked to the organisation funding the grant, expressed as GeoNames codes.",
           "is_entity": true,
           "is_facet": true,
           "is_filter": true,
           "is_multivalue": true,
           "long_description": null,
           "type": "countries"
          },
          "funders": {
           "description": "The GRID organisations funding the dataset.",
           "is_entity": true,
           "is_facet": true,
           "is_filter": true,
           "is_multivalue": true,
           "long_description": null,
           "type": "organizations"
          },
          "id": {
           "description": "Dimensions dataset ID.",
           "is_entity": false,
           "is_facet": false,
           "is_filter": true,
           "is_multivalue": false,
           "long_description": null,
           "type": "string"
          },
          "journal": {
           "description": "The journal a data set belongs to.",
           "is_entity": true,
           "is_facet": true,
           "is_filter": true,
           "is_multivalue": false,
           "long_description": null,
           "type": "journals"
          },
          "keywords": {
           "description": "Keywords used to describe the dataset (from authors).",
           "is_entity": false,
           "is_facet": true,
           "is_filter": true,
           "is_multivalue": true,
           "long_description": null,
           "type": "string"
          },
          "language_desc": {
           "description": "Dataset title language, as ISO 639-1 language codes.",
           "is_entity": false,
           "is_facet": true,
           "is_filter": true,
           "is_multivalue": false,
           "long_description": null,
           "type": "string"
          },
          "language_title": {
           "description": "Dataset title language, as ISO 639-1 language codes.",
           "is_entity": false,
           "is_facet": true,
           "is_filter": true,
           "is_multivalue": false,
           "long_description": null,
           "type": "string"
          },
          "license_name": {
           "description": "The dataset licence name, e.g. 'CC BY 4.0'.",
           "is_entity": false,
           "is_facet": true,
           "is_filter": true,
           "is_multivalue": false,
           "long_description": null,
           "type": "string"
          },
          "license_url": {
           "description": "The dataset licence URL, e.g. 'https://creativecommons.org/licenses/by/4.0/'.",
           "is_entity": false,
           "is_facet": false,
           "is_filter": false,
           "is_multivalue": false,
           "long_description": null,
           "type": "string"
          },
          "repository_id": {
           "description": "The ID of the repository of the dataset.",
           "is_entity": false,
           "is_facet": true,
           "is_filter": true,
           "is_multivalue": false,
           "long_description": null,
           "type": "string"
          },
          "research_org_cities": {
           "description": "City of the organisations the publication authors are affiliated to, expressed as GeoNames ID and name.",
           "is_entity": true,
           "is_facet": true,
           "is_filter": true,
           "is_multivalue": true,
           "long_description": null,
           "type": "cities"
          },
          "research_org_countries": {
           "description": "Country of the organisations the publication authors are affiliated to, identified using GeoNames codes (note: this field supports count: count)..",
           "is_entity": true,
           "is_facet": true,
           "is_filter": true,
           "is_multivalue": true,
           "long_description": null,
           "type": "countries"
          },
          "research_org_states": {
           "description": "State of the organisations the publication authors are affiliated to, expressed as GeoNames codes (ISO‌-3166-2).",
           "is_entity": true,
           "is_facet": true,
           "is_filter": true,
           "is_multivalue": true,
           "long_description": null,
           "type": "states"
          },
          "research_orgs": {
           "description": "GRID organisations linked to the publication associated to the dataset (note: this field supports count: count).",
           "is_entity": true,
           "is_facet": true,
           "is_filter": true,
           "is_multivalue": true,
           "long_description": null,
           "type": "organizations"
          },
          "researchers": {
           "description": "Dimensions researchers IDs associated to the dataset's associated publication. Note: in most cases, these would be the same as the dataset authors.",
           "is_entity": true,
           "is_facet": true,
           "is_filter": true,
           "is_multivalue": true,
           "long_description": null,
           "type": "researchers"
          },
          "title": {
           "description": "Title of the dataset.",
           "is_entity": false,
           "is_facet": false,
           "is_filter": false,
           "is_multivalue": false,
           "long_description": null,
           "type": "string"
          },
          "year": {
           "description": "Year of publication of the dataset.",
           "is_entity": false,
           "is_facet": true,
           "is_filter": true,
           "is_multivalue": false,
           "long_description": null,
           "type": "integer"
          }
         },
         "fieldsets": [
          "basics",
          "categories"
         ],
         "metrics": {
          "count": {
           "description": "Total count",
           "name": "count"
          }
         },
         "search_fields": [
          "title_abstract_only",
          "title_only",
          "full_data"
         ]
        },
        "grants": {
         "fields": {
          "abstract": {
           "description": "Abstract or summary from a grant proposal.",
           "is_entity": false,
           "is_facet": false,
           "is_filter": false,
           "is_multivalue": false,
           "long_description": null,
           "type": "string"
          },
          "active_year": {
           "description": "List of active years for a grant.",
           "is_entity": false,
           "is_facet": true,
           "is_filter": true,
           "is_multivalue": true,
           "long_description": null,
           "type": "integer"
          },
          "category_bra": {
           "description": "`Broad Research Areas <https://dimensions.freshdesk.com/support/solutions/articles/23000018820-what-are-fields-of-research-and-other-classification-systems-and-how-are-they-created->`_",
           "is_entity": true,
           "is_facet": true,
           "is_filter": true,
           "is_multivalue": true,
           "long_description": null,
           "type": "categories"
          },
          "category_for": {
           "description": "`ANZSRC Fields of Research classification <https://dimensions.freshdesk.com/support/solutions/articles/23000018820-what-are-fields-of-research-and-other-classification-systems-and-how-are-they-created->`_",
           "is_entity": true,
           "is_facet": true,
           "is_filter": true,
           "is_multivalue": true,
           "long_description": null,
           "type": "categories"
          },
          "category_hra": {
           "description": "`Health Research Areas <https://dimensions.freshdesk.com/support/solutions/articles/23000018820-what-are-fields-of-research-and-other-classification-systems-and-how-are-they-created->`_",
           "is_entity": true,
           "is_facet": true,
           "is_filter": true,
           "is_multivalue": true,
           "long_description": null,
           "type": "categories"
          },
          "category_hrcs_hc": {
           "description": "`HRCS - Health Categories <https://dimensions.freshdesk.com/support/solutions/articles/23000018820-what-are-fields-of-research-and-other-classification-systems-and-how-are-they-created->`_ .",
           "is_entity": true,
           "is_facet": true,
           "is_filter": true,
           "is_multivalue": true,
           "long_description": null,
           "type": "categories"
          },
          "category_hrcs_rac": {
           "description": "`HRCS – Research Activity Codes <https://dimensions.freshdesk.com/support/solutions/articles/23000018820-what-are-fields-of-research-and-other-classification-systems-and-how-are-they-created->`_ .",
           "is_entity": true,
           "is_facet": true,
           "is_filter": true,
           "is_multivalue": true,
           "long_description": null,
           "type": "categories"
          },
          "category_icrp_cso": {
           "description": "`ICRP Common Scientific Outline <https://dimensions.freshdesk.com/support/solutions/articles/23000018820-what-are-fields-of-research-and-other-classification-systems-and-how-are-they-created->`_",
           "is_entity": true,
           "is_facet": true,
           "is_filter": true,
           "is_multivalue": true,
           "long_description": null,
           "type": "categories"
          },
          "category_icrp_ct": {
           "description": "`ICRP Cancer Types <https://dimensions.freshdesk.com/support/solutions/articles/23000018820-what-are-fields-of-research-and-other-classification-systems-and-how-are-they-created->`_",
           "is_entity": true,
           "is_facet": true,
           "is_filter": true,
           "is_multivalue": true,
           "long_description": null,
           "type": "categories"
          },
          "category_rcdc": {
           "description": "`Research, Condition, and Disease Categorization <https://dimensions.freshdesk.com/support/solutions/articles/23000018820-what-are-fields-of-research-and-other-classification-systems-and-how-are-they-created->`_ .",
           "is_entity": true,
           "is_facet": true,
           "is_filter": true,
           "is_multivalue": true,
           "long_description": null,
           "type": "categories"
          },
          "category_sdg": {
           "description": "SDG - Sustainable Development Goals",
           "is_entity": true,
           "is_facet": true,
           "is_filter": true,
           "is_multivalue": true,
           "long_description": null,
           "type": "categories"
          },
          "category_uoa": {
           "description": "`Units of Assessment <https://dimensions.freshdesk.com/support/solutions/articles/23000018820-what-are-fields-of-research-and-other-classification-systems-and-how-are-they-created->`_",
           "is_entity": true,
           "is_facet": true,
           "is_filter": true,
           "is_multivalue": true,
           "long_description": null,
           "type": "categories"
          },
          "concepts": {
           "description": "Concepts describing the main topics of a publication (note: automatically derived from the publication text using machine learning).",
           "is_entity": false,
           "is_facet": false,
           "is_filter": true,
           "is_multivalue": false,
           "long_description": null,
           "type": "json"
          },
          "concepts_scores": {
           "description": "Relevancy scores for `concepts`.",
           "is_entity": false,
           "is_facet": false,
           "is_filter": true,
           "is_multivalue": false,
           "long_description": "Returned objects contain: ``concept``, ``relevance``.\n                                            \n                                            For example:\n                                            \n    .. code-block:: json\n    \n        {\n            \"concepts_scores\": [\n                {\n                  \"concept\": \"professional relations\",\n                  \"relevance\": 0.08789352253426701\n                },\n                {\n                  \"concept\": \"relation\",\n                  \"relevance\": 0.062333122509877006\n                },\n                {\n                  \"concept\": \"representation\",\n                  \"relevance\": 0.025851134800039\n                },\n                {\n                  \"concept\": \"skald\",\n                  \"relevance\": 6.984149644517923e-05\n                },\n                {\n                  \"concept\": \"Representations of Skalds\",\n                  \"relevance\": 0.0\n                },\n                {\n                  \"concept\": \"Sagas 1\",\n                  \"relevance\": 0.0\n                }\n            ]\n        }",
           "type": "json"
          },
          "date_inserted": {
           "description": "Date when the record was inserted into Dimensions (note: this field does not support exact match on the data, only range filters e.g. `<=` or `>=`).",
           "is_entity": false,
           "is_facet": false,
           "is_filter": true,
           "is_multivalue": false,
           "long_description": null,
           "type": "date"
          },
          "dimensions_url": {
           "description": "Link pointing to the Dimensions web application",
           "is_entity": false,
           "is_facet": false,
           "is_filter": false,
           "is_multivalue": false,
           "long_description": null,
           "type": "string"
          },
          "end_date": {
           "description": "Date when the grant ends.",
           "is_entity": false,
           "is_facet": false,
           "is_filter": true,
           "is_multivalue": false,
           "long_description": null,
           "type": "date"
          },
          "foa_number": {
           "description": "The funding opportunity announcement (FOA) number, where available e.g. for grants from the US National Institute of Health (NIH) or from the National Science Foundation (NSF).",
           "is_entity": false,
           "is_facet": false,
           "is_filter": true,
           "is_multivalue": false,
           "long_description": null,
           "type": "string"
          },
          "funder_countries": {
           "description": "The country linked to the organisation funding the grant, expressed as GeoNames codes.",
           "is_entity": true,
           "is_facet": true,
           "is_filter": true,
           "is_multivalue": true,
           "long_description": null,
           "type": "countries"
          },
          "funders": {
           "description": "The organisation funding the grant. This is normally a GRID organisation, but in very few cases a Dimensions funder ID is used.",
           "is_entity": true,
           "is_facet": true,
           "is_filter": true,
           "is_multivalue": true,
           "long_description": null,
           "type": "organizations"
          },
          "funding_aud": {
           "description": "Funding amount awarded in AUD.",
           "is_entity": false,
           "is_facet": false,
           "is_filter": true,
           "is_multivalue": false,
           "long_description": null,
           "type": "float"
          },
          "funding_cad": {
           "description": "Funding amount awarded in CAD.",
           "is_entity": false,
           "is_facet": false,
           "is_filter": true,
           "is_multivalue": false,
           "long_description": null,
           "type": "float"
          },
          "funding_chf": {
           "description": "Funding amount awarded in CHF.",
           "is_entity": false,
           "is_facet": false,
           "is_filter": true,
           "is_multivalue": false,
           "long_description": null,
           "type": "float"
          },
          "funding_currency": {
           "description": "Original funding currency.",
           "is_entity": false,
           "is_facet": true,
           "is_filter": true,
           "is_multivalue": false,
           "long_description": null,
           "type": "string"
          },
          "funding_eur": {
           "description": "Funding amount awarded in EUR.",
           "is_entity": false,
           "is_facet": false,
           "is_filter": true,
           "is_multivalue": false,
           "long_description": null,
           "type": "float"
          },
          "funding_gbp": {
           "description": "Funding amount awarded in GBP.",
           "is_entity": false,
           "is_facet": false,
           "is_filter": true,
           "is_multivalue": false,
           "long_description": null,
           "type": "float"
          },
          "funding_jpy": {
           "description": "Funding amount awarded in JPY.",
           "is_entity": false,
           "is_facet": false,
           "is_filter": true,
           "is_multivalue": false,
           "long_description": null,
           "type": "float"
          },
          "funding_nzd": {
           "description": "Funding amount awarded in NZD.",
           "is_entity": false,
           "is_facet": false,
           "is_filter": true,
           "is_multivalue": false,
           "long_description": null,
           "type": "float"
          },
          "funding_org_acronym": {
           "description": "Acronym for funding organisation.",
           "is_entity": false,
           "is_facet": true,
           "is_filter": true,
           "is_multivalue": false,
           "long_description": null,
           "type": "string"
          },
          "funding_org_city": {
           "description": "City name for funding organisation.",
           "is_entity": false,
           "is_facet": true,
           "is_filter": true,
           "is_multivalue": false,
           "long_description": null,
           "type": "string"
          },
          "funding_org_name": {
           "description": "Name of funding organisation.",
           "is_entity": false,
           "is_facet": true,
           "is_filter": true,
           "is_multivalue": false,
           "long_description": null,
           "type": "string"
          },
          "funding_usd": {
           "description": "Funding amount awarded in USD.",
           "is_entity": false,
           "is_facet": false,
           "is_filter": true,
           "is_multivalue": false,
           "long_description": null,
           "type": "float"
          },
          "grant_number": {
           "description": "Grant identifier, as provided by the source (e.g., funder, aggregator) the grant was derived from.",
           "is_entity": false,
           "is_facet": false,
           "is_filter": true,
           "is_multivalue": false,
           "long_description": null,
           "type": "string"
          },
          "id": {
           "description": "Dimensions grant ID.",
           "is_entity": false,
           "is_facet": false,
           "is_filter": true,
           "is_multivalue": false,
           "long_description": null,
           "type": "string"
          },
          "investigators": {
           "description": "Additional details about investigators, including affiliations and roles e.g. 'PI' or 'Co-PI' (note: if the investigator has a Dimensions researcher ID, that is returned as well).",
           "is_entity": false,
           "is_facet": false,
           "is_filter": true,
           "is_multivalue": false,
           "long_description": "Returned objects contain: ``id``, ``first_name``, ``middle_name``, ``last_name``, ``role``, ``affiliations``\n                                           \n                                           For example:\n\n    .. code-block:: json\n\n        {\n            \"investigator_details\":[\n                {\n                    \"id\":\"ur.012516501745.79\",\n                    \"first_name\":\"O.\",\n                    \"middle_name\":\"\",\n                    \"last_name\":\"Mitas\",\n                    \"role\":\"PI\",\n                    \"affiliations\":[\n                        {\n                            \"id\":\"grid.5477.1\",\n                            \"name\":\"Breda University of Applied Sciences\",\n                            \"city\":null,\n                            \"city_id\":\"2745912\",\n                            \"state\":null,\n                            \"state_code\":null,\n                            \"country\":null,\n                            \"country_code\":\"NL\"\n                        }\n                    ]\n                }\n            ]\n        }",
           "type": "json"
          },
          "language": {
           "description": "Grant original language, as ISO 639-1 language codes.",
           "is_entity": false,
           "is_facet": true,
           "is_filter": true,
           "is_multivalue": false,
           "long_description": null,
           "type": "string"
          },
          "language_title": {
           "description": "ISO 639-1 language code for the original grant title.",
           "is_entity": false,
           "is_facet": true,
           "is_filter": true,
           "is_multivalue": false,
           "long_description": null,
           "type": "string"
          },
          "linkout": {
           "description": "Original URL for the grant.",
           "is_entity": false,
           "is_facet": false,
           "is_filter": false,
           "is_multivalue": false,
           "long_description": null,
           "type": "string"
          },
          "original_title": {
           "description": "Title of the grant in its original language.",
           "is_entity": false,
           "is_facet": false,
           "is_filter": false,
           "is_multivalue": false,
           "long_description": null,
           "type": "string"
          },
          "research_org_cities": {
           "description": "City of the research organisations receiving the grant, expressed as GeoNames id and name.",
           "is_entity": true,
           "is_facet": true,
           "is_filter": true,
           "is_multivalue": true,
           "long_description": null,
           "type": "cities"
          },
          "research_org_countries": {
           "description": "Country of the research organisations receiving the grant, expressed as GeoNames code and name.",
           "is_entity": true,
           "is_facet": true,
           "is_filter": true,
           "is_multivalue": true,
           "long_description": null,
           "type": "countries"
          },
          "research_org_names": {
           "description": "Names of organizations investigators are affiliated to. If the organization has a GRID ID, the canonical organization name is used. Otherwise the original affiliation string is used.",
           "is_entity": false,
           "is_facet": false,
           "is_filter": true,
           "is_multivalue": true,
           "long_description": null,
           "type": "string"
          },
          "research_org_state_codes": {
           "description": "State of the organisations receiving the grant, expressed as GeoNames codes (ISO‌-3166-2).",
           "is_entity": true,
           "is_facet": true,
           "is_filter": true,
           "is_multivalue": true,
           "long_description": null,
           "type": "states"
          },
          "research_orgs": {
           "description": "GRID organisations receiving the grant (note: identifiers are automatically extracted from the source text and can be missing in some cases).",
           "is_entity": true,
           "is_facet": true,
           "is_filter": true,
           "is_multivalue": true,
           "long_description": null,
           "type": "organizations"
          },
          "researchers": {
           "description": "Dimensions researchers IDs associated to the grant.",
           "is_entity": true,
           "is_facet": true,
           "is_filter": true,
           "is_multivalue": true,
           "long_description": null,
           "type": "researchers"
          },
          "start_date": {
           "description": "Date when the grant starts, in the format 'YYYY-MM-DD'.",
           "is_entity": false,
           "is_facet": false,
           "is_filter": true,
           "is_multivalue": false,
           "long_description": null,
           "type": "date"
          },
          "start_year": {
           "description": "Year when the grant starts.",
           "is_entity": false,
           "is_facet": true,
           "is_filter": true,
           "is_multivalue": false,
           "long_description": null,
           "type": "integer"
          },
          "title": {
           "description": "Title of the grant in English (if the grant language is not English, this field contains a translation of the title).",
           "is_entity": false,
           "is_facet": false,
           "is_filter": false,
           "is_multivalue": false,
           "long_description": null,
           "type": "string"
          }
         },
         "fieldsets": [
          "basics",
          "extras",
          "categories"
         ],
         "metrics": {
          "count": {
           "description": "Total count",
           "name": "count"
          },
          "funding": {
           "description": "Total funding amount, in USD.",
           "name": "funding"
          }
         },
         "search_fields": [
          "investigators",
          "title_only",
          "full_data",
          "concepts",
          "title_abstract_only"
         ]
        },
        "organizations": {
         "fields": {
          "acronym": {
           "description": "GRID acronym of the organization. E.g., \"UT\" for `grid.26999.3d <https://grid.ac/institutes/grid.26999.3d>`_",
           "is_entity": false,
           "is_facet": false,
           "is_filter": true,
           "is_multivalue": false,
           "long_description": null,
           "type": "string"
          },
          "city_name": {
           "description": "GRID name of the organization country. E.g., \"Bethesda\" for `grid.419635.c <https://grid.ac/institutes/grid.419635.c>`_",
           "is_entity": false,
           "is_facet": true,
           "is_filter": true,
           "is_multivalue": false,
           "long_description": null,
           "type": "string"
          },
          "cnrs_ids": {
           "description": "CNRS IDs for this organization",
           "is_entity": false,
           "is_facet": false,
           "is_filter": true,
           "is_multivalue": true,
           "long_description": null,
           "type": "string"
          },
          "country_name": {
           "description": "GRID name of the organization country. E.g., \"Japan\" for `grid.26999.3d <https://grid.ac/institutes/grid.26999.3d>`_",
           "is_entity": false,
           "is_facet": true,
           "is_filter": true,
           "is_multivalue": false,
           "long_description": null,
           "type": "string"
          },
          "dimensions_url": {
           "description": "Link pointing to the Dimensions web application",
           "is_entity": false,
           "is_facet": false,
           "is_filter": false,
           "is_multivalue": false,
           "long_description": null,
           "type": "string"
          },
          "established": {
           "description": "Year when the organization was estabilished",
           "is_entity": false,
           "is_facet": false,
           "is_filter": true,
           "is_multivalue": false,
           "long_description": null,
           "type": "integer"
          },
          "external_ids_fundref": {
           "description": "Fundref IDs for this organization",
           "is_entity": false,
           "is_facet": false,
           "is_filter": true,
           "is_multivalue": true,
           "long_description": null,
           "type": "string"
          },
          "hesa_ids": {
           "description": "HESA IDs for this organization",
           "is_entity": false,
           "is_facet": false,
           "is_filter": true,
           "is_multivalue": true,
           "long_description": null,
           "type": "string"
          },
          "id": {
           "description": "GRID ID of the organization. E.g., \"grid.26999.3d\".",
           "is_entity": false,
           "is_facet": false,
           "is_filter": true,
           "is_multivalue": false,
           "long_description": null,
           "type": "string"
          },
          "isni_ids": {
           "description": "ISNI IDs for this organization",
           "is_entity": false,
           "is_facet": false,
           "is_filter": true,
           "is_multivalue": true,
           "long_description": null,
           "type": "string"
          },
          "latitude": {
           "description": null,
           "is_entity": false,
           "is_facet": false,
           "is_filter": false,
           "is_multivalue": false,
           "long_description": null,
           "type": "float"
          },
          "linkout": {
           "description": null,
           "is_entity": false,
           "is_facet": false,
           "is_filter": false,
           "is_multivalue": true,
           "long_description": null,
           "type": "string"
          },
          "longitude": {
           "description": null,
           "is_entity": false,
           "is_facet": false,
           "is_filter": false,
           "is_multivalue": false,
           "long_description": null,
           "type": "float"
          },
          "name": {
           "description": "GRID name of the organization. E.g., \"University of Tokyo\" for `grid.26999.3d <https://grid.ac/institutes/grid.26999.3d>`_",
           "is_entity": false,
           "is_facet": false,
           "is_filter": true,
           "is_multivalue": false,
           "long_description": null,
           "type": "string"
          },
          "nuts_level1_code": {
           "description": "Level 1 code for this organization, based on `Nomenclature of Territorial Units for Statistics <https://en.wikipedia.org/wiki/Nomenclature_of_Territorial_Units_for_Statistics>`_ (NUTS) codes of the European Union.",
           "is_entity": false,
           "is_facet": true,
           "is_filter": true,
           "is_multivalue": false,
           "long_description": null,
           "type": "string"
          },
          "nuts_level1_name": {
           "description": "Level 1 name for this organization, based on `Nomenclature of Territorial Units for Statistics <https://en.wikipedia.org/wiki/Nomenclature_of_Territorial_Units_for_Statistics>`_ (NUTS) codes of the European Union.",
           "is_entity": false,
           "is_facet": true,
           "is_filter": true,
           "is_multivalue": false,
           "long_description": null,
           "type": "string"
          },
          "nuts_level2_code": {
           "description": "Level 2 code for this organization, based on `Nomenclature of Territorial Units for Statistics <https://en.wikipedia.org/wiki/Nomenclature_of_Territorial_Units_for_Statistics>`_ (NUTS) codes of the European Union.",
           "is_entity": false,
           "is_facet": true,
           "is_filter": true,
           "is_multivalue": false,
           "long_description": null,
           "type": "string"
          },
          "nuts_level2_name": {
           "description": "Level 2 name for this organization, based on `Nomenclature of Territorial Units for Statistics <https://en.wikipedia.org/wiki/Nomenclature_of_Territorial_Units_for_Statistics>`_ (NUTS) codes of the European Union.",
           "is_entity": false,
           "is_facet": true,
           "is_filter": true,
           "is_multivalue": false,
           "long_description": null,
           "type": "string"
          },
          "nuts_level3_code": {
           "description": "Level 3 code for this organization, based on `Nomenclature of Territorial Units for Statistics <https://en.wikipedia.org/wiki/Nomenclature_of_Territorial_Units_for_Statistics>`_ (NUTS) codes of the European Union.",
           "is_entity": false,
           "is_facet": true,
           "is_filter": true,
           "is_multivalue": false,
           "long_description": null,
           "type": "string"
          },
          "nuts_level3_name": {
           "description": "Level 3 name for this organization, based on `Nomenclature of Territorial Units for Statistics <https://en.wikipedia.org/wiki/Nomenclature_of_Territorial_Units_for_Statistics>`_ (NUTS) codes of the European Union.",
           "is_entity": false,
           "is_facet": true,
           "is_filter": true,
           "is_multivalue": false,
           "long_description": null,
           "type": "string"
          },
          "organization_child_ids": {
           "description": "Child organization IDs",
           "is_entity": false,
           "is_facet": false,
           "is_filter": true,
           "is_multivalue": true,
           "long_description": null,
           "type": "string"
          },
          "organization_parent_ids": {
           "description": "Parent organization IDs",
           "is_entity": false,
           "is_facet": false,
           "is_filter": true,
           "is_multivalue": true,
           "long_description": null,
           "type": "string"
          },
          "organization_related_ids": {
           "description": "Related organization IDs",
           "is_entity": false,
           "is_facet": false,
           "is_filter": true,
           "is_multivalue": true,
           "long_description": null,
           "type": "string"
          },
          "orgref_ids": {
           "description": "OrgRef IDs for this organization",
           "is_entity": false,
           "is_facet": false,
           "is_filter": true,
           "is_multivalue": true,
           "long_description": null,
           "type": "string"
          },
          "redirect": {
           "description": "GRID ID of an organization this one was redirected to",
           "is_entity": false,
           "is_facet": false,
           "is_filter": true,
           "is_multivalue": false,
           "long_description": null,
           "type": "string"
          },
          "ror_ids": {
           "description": "ROR IDs for this organization",
           "is_entity": false,
           "is_facet": false,
           "is_filter": true,
           "is_multivalue": true,
           "long_description": null,
           "type": "string"
          },
          "state_name": {
           "description": "GRID name of the organization country. E.g., \"Maryland\" for `grid.419635.c <https://grid.ac/institutes/grid.419635.c>`_",
           "is_entity": false,
           "is_facet": true,
           "is_filter": true,
           "is_multivalue": false,
           "long_description": null,
           "type": "string"
          },
          "status": {
           "description": "Status of an organization. May be be one of:\n        \n        * `a`: active organization\n        * `o`: obsolete organization\n        * `r`: redirected organization, see field `redirect` to obtain the GRID ID of an organization this one was redirected to",
           "is_entity": false,
           "is_facet": true,
           "is_filter": true,
           "is_multivalue": false,
           "long_description": null,
           "type": "string"
          },
          "types": {
           "description": "Type of an organization. Available types include: ``Company``, ``Education``, ``Healthcare``, ``Nonprofit``, ``Facility``, ``Other``, ``Government``, ``Archive``, ``Education,Company``, ``Education,Facility``, ``Education,Healthcare``, ``Education,Other``, ``Archive,Nonprofit``. Furhter explanation is on the `GRID <https://www.grid.ac/pages/policies>`_ website.",
           "is_entity": false,
           "is_facet": true,
           "is_filter": true,
           "is_multivalue": true,
           "long_description": null,
           "type": "string"
          },
          "ucas_ids": {
           "description": "UCAS IDs for this organization",
           "is_entity": false,
           "is_facet": false,
           "is_filter": true,
           "is_multivalue": true,
           "long_description": null,
           "type": "string"
          },
          "ukprn_ids": {
           "description": "UKPRN IDs for this organization",
           "is_entity": false,
           "is_facet": false,
           "is_filter": true,
           "is_multivalue": true,
           "long_description": null,
           "type": "string"
          },
          "wikidata_ids": {
           "description": "WikiData IDs for this organization",
           "is_entity": false,
           "is_facet": false,
           "is_filter": true,
           "is_multivalue": true,
           "long_description": null,
           "type": "string"
          },
          "wikipedia_url": {
           "description": "Wikipedia URL",
           "is_entity": false,
           "is_facet": false,
           "is_filter": false,
           "is_multivalue": false,
           "long_description": null,
           "type": "string"
          }
         },
         "fieldsets": [
          "basics",
          "nuts"
         ],
         "metrics": {
          "count": {
           "description": "Total count",
           "name": "count"
          }
         },
         "search_fields": [
          "full_data"
         ]
        },
        "patents": {
         "fields": {
          "abstract": {
           "description": "Abstract or description of the patent.",
           "is_entity": false,
           "is_facet": false,
           "is_filter": false,
           "is_multivalue": false,
           "long_description": null,
           "type": "string"
          },
          "additional_filters": {
           "description": "Additional filters describing the patents, e.g. whether it's about a 'Research Organisation', or it is part of the 'Orange Book'.",
           "is_entity": false,
           "is_facet": false,
           "is_filter": true,
           "is_multivalue": true,
           "long_description": null,
           "type": "string"
          },
          "assignee_cities": {
           "description": "City of the assignees of the patent, expressed as GeoNames ID and name (note: this value is extracted independently from GRID).",
           "is_entity": true,
           "is_facet": true,
           "is_filter": true,
           "is_multivalue": true,
           "long_description": null,
           "type": "cities"
          },
          "assignee_countries": {
           "description": "Country of the assignees of the patent, expressed as GeoNames code and name (note: this value is extracted independently from GRID).",
           "is_entity": true,
           "is_facet": true,
           "is_filter": true,
           "is_multivalue": true,
           "long_description": null,
           "type": "countries"
          },
          "assignee_names": {
           "description": "Name of assignees of the patent, as they appear in the original document.",
           "is_entity": false,
           "is_facet": false,
           "is_filter": true,
           "is_multivalue": true,
           "long_description": null,
           "type": "string"
          },
          "assignee_state_codes": {
           "description": "State of the assignee, expressed using GeoNames (ISO‌-3166-2) codes (note: this value is extracted independently from GRID).",
           "is_entity": true,
           "is_facet": true,
           "is_filter": true,
           "is_multivalue": true,
           "long_description": null,
           "type": "states"
          },
          "assignees": {
           "description": "Disambiguated GRID organisations who own or have owned the rights of a patent (note: this is a combination of `current_assignees` and `original_assignees` fields).",
           "is_entity": true,
           "is_facet": true,
           "is_filter": true,
           "is_multivalue": true,
           "long_description": null,
           "type": "organizations"
          },
          "associated_grant_ids": {
           "description": "Dimensions IDs of the grants associated to the patent (see also: :ref:`patents_model` section).",
           "is_entity": false,
           "is_facet": false,
           "is_filter": true,
           "is_multivalue": true,
           "long_description": null,
           "type": "string"
          },
          "category_bra": {
           "description": "`Broad Research Areas <https://dimensions.freshdesk.com/support/solutions/articles/23000018820-what-are-fields-of-research-and-other-classification-systems-and-how-are-they-created->`_",
           "is_entity": true,
           "is_facet": true,
           "is_filter": true,
           "is_multivalue": true,
           "long_description": null,
           "type": "categories"
          },
          "category_for": {
           "description": "`ANZSRC Fields of Research classification <https://dimensions.freshdesk.com/support/solutions/articles/23000018820-what-are-fields-of-research-and-other-classification-systems-and-how-are-they-created->`_",
           "is_entity": true,
           "is_facet": true,
           "is_filter": true,
           "is_multivalue": true,
           "long_description": null,
           "type": "categories"
          },
          "category_hra": {
           "description": "`Health Research Areas <https://dimensions.freshdesk.com/support/solutions/articles/23000018820-what-are-fields-of-research-and-other-classification-systems-and-how-are-they-created->`_",
           "is_entity": true,
           "is_facet": true,
           "is_filter": true,
           "is_multivalue": true,
           "long_description": null,
           "type": "categories"
          },
          "category_hrcs_hc": {
           "description": "`HRCS - Health Categories <https://dimensions.freshdesk.com/support/solutions/articles/23000018820-what-are-fields-of-research-and-other-classification-systems-and-how-are-they-created->`_",
           "is_entity": true,
           "is_facet": true,
           "is_filter": true,
           "is_multivalue": true,
           "long_description": null,
           "type": "categories"
          },
          "category_hrcs_rac": {
           "description": "`HRCS – Research Activity Codes <https://dimensions.freshdesk.com/support/solutions/articles/23000018820-what-are-fields-of-research-and-other-classification-systems-and-how-are-they-created->`_",
           "is_entity": true,
           "is_facet": true,
           "is_filter": true,
           "is_multivalue": true,
           "long_description": null,
           "type": "categories"
          },
          "category_icrp_cso": {
           "description": "`ICRP Common Scientific Outline <https://dimensions.freshdesk.com/support/solutions/articles/23000018820-what-are-fields-of-research-and-other-classification-systems-and-how-are-they-created->`_",
           "is_entity": true,
           "is_facet": true,
           "is_filter": true,
           "is_multivalue": true,
           "long_description": null,
           "type": "categories"
          },
          "category_icrp_ct": {
           "description": "`ICRP Cancer Types <https://dimensions.freshdesk.com/support/solutions/articles/23000018820-what-are-fields-of-research-and-other-classification-systems-and-how-are-they-created->`_",
           "is_entity": true,
           "is_facet": true,
           "is_filter": true,
           "is_multivalue": true,
           "long_description": null,
           "type": "categories"
          },
          "category_rcdc": {
           "description": "`Research, Condition, and Disease Categorization <https://dimensions.freshdesk.com/support/solutions/articles/23000018820-what-are-fields-of-research-and-other-classification-systems-and-how-are-they-created->`_",
           "is_entity": true,
           "is_facet": true,
           "is_filter": true,
           "is_multivalue": true,
           "long_description": null,
           "type": "categories"
          },
          "cited_by_ids": {
           "description": "Dimensions IDs of the patents that cite this patent (see also: :ref:`patents_model` section).",
           "is_entity": false,
           "is_facet": false,
           "is_filter": true,
           "is_multivalue": true,
           "long_description": null,
           "type": "string"
          },
          "cpc": {
           "description": "`Cooperative Patent Classification Categorization <https://www.epo.org/searching-for-patents/helpful-resources/first-time-here/classification/cpc.html>`_.",
           "is_entity": false,
           "is_facet": true,
           "is_filter": true,
           "is_multivalue": true,
           "long_description": null,
           "type": "string"
          },
          "current_assignee_names": {
           "description": "Names of the organisations currently holding the patent, as they appear in the original document.",
           "is_entity": false,
           "is_facet": false,
           "is_filter": true,
           "is_multivalue": true,
           "long_description": null,
           "type": "string"
          },
          "current_assignees": {
           "description": "Disambiguated GRID organisations currenlty owning the patent.",
           "is_entity": true,
           "is_facet": true,
           "is_filter": true,
           "is_multivalue": true,
           "long_description": null,
           "type": "organizations"
          },
          "date": {
           "description": "Date when the patent was filed.",
           "is_entity": false,
           "is_facet": false,
           "is_filter": true,
           "is_multivalue": false,
           "long_description": null,
           "type": "date"
          },
          "date_inserted": {
           "description": "Date when the record was inserted into Dimensions (note: this field does not support exact match on the data, only range filters e.g. `<=` or `>=`).",
           "is_entity": false,
           "is_facet": false,
           "is_filter": true,
           "is_multivalue": false,
           "long_description": null,
           "type": "date"
          },
          "dimensions_url": {
           "description": "Link pointing to the Dimensions web application",
           "is_entity": false,
           "is_facet": false,
           "is_filter": false,
           "is_multivalue": false,
           "long_description": null,
           "type": "string"
          },
          "expiration_date": {
           "description": "Date when the patent expires.",
           "is_entity": false,
           "is_facet": false,
           "is_filter": true,
           "is_multivalue": false,
           "long_description": null,
           "type": "date"
          },
          "family_id": {
           "description": "Identifier of the corresponding `EPO patent family <https://www.epo.org/searching-for-patents/helpful-resources/first-time-here/patent-families/docdb.html>`_.",
           "is_entity": false,
           "is_facet": true,
           "is_filter": true,
           "is_multivalue": false,
           "long_description": null,
           "type": "integer"
          },
          "filing_status": {
           "description": "Filing Status of the patent e.g. 'Application' or 'Grant'.",
           "is_entity": false,
           "is_facet": false,
           "is_filter": true,
           "is_multivalue": false,
           "long_description": null,
           "type": "string"
          },
          "funder_countries": {
           "description": "The country of the funding organisation (note: currently this information is available only for US patents).",
           "is_entity": true,
           "is_facet": true,
           "is_filter": true,
           "is_multivalue": true,
           "long_description": null,
           "type": "countries"
          },
          "funders": {
           "description": "GRID organisations funding the patent.",
           "is_entity": true,
           "is_facet": true,
           "is_filter": true,
           "is_multivalue": true,
           "long_description": null,
           "type": "organizations"
          },
          "granted_date": {
           "description": "The date on which the official body grants the patent.",
           "is_entity": false,
           "is_facet": false,
           "is_filter": true,
           "is_multivalue": false,
           "long_description": null,
           "type": "date"
          },
          "granted_year": {
           "description": "The year on which the official body grants the patent.",
           "is_entity": false,
           "is_facet": true,
           "is_filter": true,
           "is_multivalue": false,
           "long_description": null,
           "type": "integer"
          },
          "id": {
           "description": "Dimensions patent ID",
           "is_entity": false,
           "is_facet": false,
           "is_filter": true,
           "is_multivalue": false,
           "long_description": null,
           "type": "string"
          },
          "inventor_names": {
           "description": "Names of the people who invented the patent.",
           "is_entity": false,
           "is_facet": false,
           "is_filter": true,
           "is_multivalue": false,
           "long_description": null,
           "type": "string"
          },
          "inventors": {
           "description": "Details of the people who invented the patent.",
           "is_entity": false,
           "is_facet": false,
           "is_filter": true,
           "is_multivalue": false,
           "long_description": null,
           "type": "json"
          },
          "ipcr": {
           "description": "`International Patent Classification Reform Categorization <https://www.wipo.int/classifications/ipc/en/faq/>`_.",
           "is_entity": false,
           "is_facet": true,
           "is_filter": true,
           "is_multivalue": true,
           "long_description": null,
           "type": "string"
          },
          "jurisdiction": {
           "description": "The jurisdiction where the patent was granted, e.g. 'US', 'DE', 'EP'...",
           "is_entity": false,
           "is_facet": true,
           "is_filter": true,
           "is_multivalue": false,
           "long_description": null,
           "type": "string"
          },
          "legal_status": {
           "description": "The legal status of the patent, e.g. 'Granted', 'Active', 'Abandoned' etc..",
           "is_entity": false,
           "is_facet": false,
           "is_filter": true,
           "is_multivalue": false,
           "long_description": null,
           "type": "string"
          },
          "original_assignee_names": {
           "description": "Name of the organisations that first owned the patent, as they appear in the original document.",
           "is_entity": false,
           "is_facet": false,
           "is_filter": true,
           "is_multivalue": true,
           "long_description": null,
           "type": "string"
          },
          "original_assignees": {
           "description": "Disambiguated GRID organisations that first owned the patent.",
           "is_entity": true,
           "is_facet": true,
           "is_filter": true,
           "is_multivalue": true,
           "long_description": null,
           "type": "organizations"
          },
          "priority_date": {
           "description": "The earliest filing date in a family of patent applications.",
           "is_entity": false,
           "is_facet": false,
           "is_filter": true,
           "is_multivalue": false,
           "long_description": null,
           "type": "date"
          },
          "priority_year": {
           "description": "The filing year of the earliest application of which priority is claimed.",
           "is_entity": false,
           "is_facet": true,
           "is_filter": true,
           "is_multivalue": false,
           "long_description": null,
           "type": "integer"
          },
          "publication_date": {
           "description": "Date of publication of a patent.",
           "is_entity": false,
           "is_facet": false,
           "is_filter": true,
           "is_multivalue": false,
           "long_description": null,
           "type": "date"
          },
          "publication_ids": {
           "description": "Dimensions IDs of the publications related to this patent (see also: :ref:`patents_model` section).",
           "is_entity": false,
           "is_facet": false,
           "is_filter": true,
           "is_multivalue": true,
           "long_description": null,
           "type": "string"
          },
          "publication_year": {
           "description": "Year of publication of a patent.",
           "is_entity": false,
           "is_facet": true,
           "is_filter": true,
           "is_multivalue": false,
           "long_description": null,
           "type": "integer"
          },
          "publications": {
           "description": "Publication IDs of the publications related to this patent (see also: :ref:`patents_model` section).",
           "is_entity": true,
           "is_facet": true,
           "is_filter": true,
           "is_multivalue": true,
           "long_description": null,
           "type": "publication_links"
          },
          "reference_ids": {
           "description": "Dimensions IDs of the patents which are cited by this patent (see also: :ref:`patents_model` section).",
           "is_entity": false,
           "is_facet": false,
           "is_filter": true,
           "is_multivalue": true,
           "long_description": null,
           "type": "string"
          },
          "researchers": {
           "description": "Researcher IDs matched to the patent's inventors list. (note: this returns only the disambiguated inventors of a patent; in order to get the full list of inventors, the field `inventors` should be used).",
           "is_entity": true,
           "is_facet": true,
           "is_filter": true,
           "is_multivalue": true,
           "long_description": null,
           "type": "researchers"
          },
          "times_cited": {
           "description": "The number of times the patent has been cited by other patents.",
           "is_entity": false,
           "is_facet": true,
           "is_filter": true,
           "is_multivalue": false,
           "long_description": null,
           "type": "integer"
          },
          "title": {
           "description": "The title of the patent.",
           "is_entity": false,
           "is_facet": false,
           "is_filter": false,
           "is_multivalue": false,
           "long_description": null,
           "type": "string"
          },
          "year": {
           "description": "The year the patent was filed.",
           "is_entity": false,
           "is_facet": true,
           "is_filter": true,
           "is_multivalue": false,
           "long_description": null,
           "type": "integer"
          }
         },
         "fieldsets": [
          "basics",
          "extras",
          "categories"
         ],
         "metrics": {
          "count": {
           "description": "Total count",
           "name": "count"
          }
         },
         "search_fields": [
          "inventors",
          "title_abstract_only",
          "title_only",
          "full_data"
         ]
        },
        "policy_documents": {
         "fields": {
          "category_bra": {
           "description": "`Broad Research Areas <https://dimensions.freshdesk.com/support/solutions/articles/23000018820-what-are-fields-of-research-and-other-classification-systems-and-how-are-they-created->`_",
           "is_entity": true,
           "is_facet": true,
           "is_filter": true,
           "is_multivalue": true,
           "long_description": null,
           "type": "categories"
          },
          "category_for": {
           "description": "`ANZSRC Fields of Research classification <https://dimensions.freshdesk.com/support/solutions/articles/23000018820-what-are-fields-of-research-and-other-classification-systems-and-how-are-they-created->`_",
           "is_entity": true,
           "is_facet": true,
           "is_filter": true,
           "is_multivalue": true,
           "long_description": null,
           "type": "categories"
          },
          "category_hra": {
           "description": "`Health Research Areas <https://dimensions.freshdesk.com/support/solutions/articles/23000018820-what-are-fields-of-research-and-other-classification-systems-and-how-are-they-created->`_",
           "is_entity": true,
           "is_facet": true,
           "is_filter": true,
           "is_multivalue": true,
           "long_description": null,
           "type": "categories"
          },
          "category_hrcs_hc": {
           "description": "`HRCS - Health Categories <https://dimensions.freshdesk.com/support/solutions/articles/23000018820-what-are-fields-of-research-and-other-classification-systems-and-how-are-they-created->`_",
           "is_entity": true,
           "is_facet": true,
           "is_filter": true,
           "is_multivalue": true,
           "long_description": null,
           "type": "categories"
          },
          "category_hrcs_rac": {
           "description": "`HRCS – Research Activity Codes <https://dimensions.freshdesk.com/support/solutions/articles/23000018820-what-are-fields-of-research-and-other-classification-systems-and-how-are-they-created->`_",
           "is_entity": true,
           "is_facet": true,
           "is_filter": true,
           "is_multivalue": true,
           "long_description": null,
           "type": "categories"
          },
          "category_icrp_cso": {
           "description": "`ICRP Common Scientific Outline <https://dimensions.freshdesk.com/support/solutions/articles/23000018820-what-are-fields-of-research-and-other-classification-systems-and-how-are-they-created->`_",
           "is_entity": true,
           "is_facet": true,
           "is_filter": true,
           "is_multivalue": true,
           "long_description": null,
           "type": "categories"
          },
          "category_icrp_ct": {
           "description": "`ICRP Cancer Types <https://dimensions.freshdesk.com/support/solutions/articles/23000018820-what-are-fields-of-research-and-other-classification-systems-and-how-are-they-created->`_",
           "is_entity": true,
           "is_facet": true,
           "is_filter": true,
           "is_multivalue": true,
           "long_description": null,
           "type": "categories"
          },
          "category_rcdc": {
           "description": "`Research, Condition, and Disease Categorization <https://dimensions.freshdesk.com/support/solutions/articles/23000018820-what-are-fields-of-research-and-other-classification-systems-and-how-are-they-created->`_",
           "is_entity": true,
           "is_facet": true,
           "is_filter": true,
           "is_multivalue": true,
           "long_description": null,
           "type": "categories"
          },
          "date_inserted": {
           "description": "Date when the record was inserted into Dimensions (note: this field does not support exact match on the data, only range filters e.g. `<=` or `>=`).",
           "is_entity": false,
           "is_facet": false,
           "is_filter": true,
           "is_multivalue": false,
           "long_description": null,
           "type": "date"
          },
          "dimensions_url": {
           "description": "Link pointing to the Dimensions web application",
           "is_entity": false,
           "is_facet": false,
           "is_filter": false,
           "is_multivalue": false,
           "long_description": null,
           "type": "string"
          },
          "id": {
           "description": "Dimensions policy document ID",
           "is_entity": false,
           "is_facet": false,
           "is_filter": true,
           "is_multivalue": false,
           "long_description": null,
           "type": "string"
          },
          "linkout": {
           "description": "Original URL for the policy document.",
           "is_entity": false,
           "is_facet": false,
           "is_filter": false,
           "is_multivalue": false,
           "long_description": null,
           "type": "string"
          },
          "publication_ids": {
           "description": "Dimensions IDs of the publications related to this policy document (see also: :ref:`policy_documents_model` section).",
           "is_entity": false,
           "is_facet": false,
           "is_filter": true,
           "is_multivalue": true,
           "long_description": null,
           "type": "string"
          },
          "publications": {
           "description": "Publication IDs of the publications related to this policy document (see also: :ref:`policy_documents_model` section).",
           "is_entity": true,
           "is_facet": true,
           "is_filter": true,
           "is_multivalue": true,
           "long_description": null,
           "type": "publication_links"
          },
          "publisher_org": {
           "description": "GRID organization publishing the policy document.",
           "is_entity": true,
           "is_facet": true,
           "is_filter": true,
           "is_multivalue": false,
           "long_description": null,
           "type": "organizations"
          },
          "publisher_org_city": {
           "description": "City of the organization publishing the policy document.",
           "is_entity": true,
           "is_facet": true,
           "is_filter": true,
           "is_multivalue": false,
           "long_description": null,
           "type": "cities"
          },
          "publisher_org_country": {
           "description": "Country of the organization publishing the policy document.",
           "is_entity": true,
           "is_facet": true,
           "is_filter": true,
           "is_multivalue": false,
           "long_description": null,
           "type": "countries"
          },
          "publisher_org_state": {
           "description": "State of the organization publishing the policy document.",
           "is_entity": true,
           "is_facet": true,
           "is_filter": true,
           "is_multivalue": false,
           "long_description": null,
           "type": "states"
          },
          "title": {
           "description": "Title of the policy document.",
           "is_entity": false,
           "is_facet": false,
           "is_filter": true,
           "is_multivalue": false,
           "long_description": null,
           "type": "string"
          },
          "year": {
           "description": "Year of publication of the policy document.",
           "is_entity": false,
           "is_facet": true,
           "is_filter": true,
           "is_multivalue": false,
           "long_description": null,
           "type": "integer"
          }
         },
         "fieldsets": [
          "basics",
          "categories"
         ],
         "metrics": {
          "count": {
           "description": "Total count",
           "name": "count"
          }
         },
         "search_fields": [
          "title_only",
          "full_data"
         ]
        },
        "publications": {
         "fields": {
          "abstract": {
           "description": "The publication abstract.",
           "is_entity": false,
           "is_facet": false,
           "is_filter": false,
           "is_multivalue": false,
           "long_description": null,
           "type": "string"
          },
          "acknowledgements": {
           "description": "The acknowledgements section text as found in the source document.",
           "is_entity": false,
           "is_facet": false,
           "is_filter": false,
           "is_multivalue": false,
           "long_description": null,
           "type": "string"
          },
          "altmetric": {
           "description": "Altmetric Attention Score.",
           "is_entity": false,
           "is_facet": false,
           "is_filter": true,
           "is_multivalue": false,
           "long_description": null,
           "type": "float"
          },
          "altmetric_id": {
           "description": "Altmetric Publication ID",
           "is_entity": false,
           "is_facet": false,
           "is_filter": true,
           "is_multivalue": false,
           "long_description": null,
           "type": "integer"
          },
          "arxiv_id": {
           "description": "The publications arXiv identifier (e.g. ‘arXiv:2102.02477’).",
           "is_entity": false,
           "is_facet": false,
           "is_filter": true,
           "is_multivalue": false,
           "long_description": null,
           "type": "string"
          },
          "authors": {
           "description": "Ordered list of authors names and their affiliations, as they appear in the original publication. The list can include researcher and organization identifiers, when available (note: in order to search for disambiguated authors, use the `in researchers` syntax).",
           "is_entity": false,
           "is_facet": false,
           "is_filter": true,
           "is_multivalue": true,
           "long_description": "Returned objects contain: ``first_name``, ``last_name``, ``corresponding``, ``orcid``, ``current_organization_id``, ``researcher_id``, ``affiliations`` and ``raw_affiliation``.\n\n        For example:\n        \n        .. code-block:: json\n        \n                {\n                    \"raw_affiliation\": [\n                        \"Centre for Operational Research, International Union Against Tuberculosis and Lung Disease (The Union), Paris, France.\",\n                        \"Centre for Operational Research, The Union South-East Asia Office, New Delhi, India.\"\n                    ],\n                    \"first_name\": \"Pruthu\",\n                    \"last_name\": \"Thekkur\",\n                    \"corresponding\": \"\",\n                    \"orcid\": \"['s']\",\n                    \"current_organization_id\": \"grid.435357.3\",\n                    \"researcher_id\": \"ur.0670077515.38\",\n                    \"affiliations\": [\n                        {\n                            \"raw_affiliation\": \"Centre for Operational Research, International Union Against Tuberculosis and Lung Disease (The Union), Paris, France.\",\n                            \"id\": \"grid.435357.3\",\n                            \"name\": \"International Union Against Tuberculosis and Lung Disease\",\n                            \"city\": \"Paris\",\n                            \"city_id\": 2988507,\n                            \"country\": \"France\",\n                            \"country_code\": \"FR\",\n                            \"state\": null,\n                            \"state_code\": null\n                        },\n                        {\n                            \"raw_affiliation\": \"Centre for Operational Research, The Union South-East Asia Office, New Delhi, India.\",\n                            \"id\": \"grid.8195.5\",\n                            \"name\": \"University of Delhi\",\n                            \"city\": \"New Delhi\",\n                            \"city_id\": 1261481,\n                            \"country\": \"India\",\n                            \"country_code\": \"IN\",\n                            \"state\": null,\n                            \"state_code\": null\n                        }\n                    ]\n                }",
           "type": "json"
          },
          "authors_count": {
           "description": "Count of authors, as they appear in the original publication.",
           "is_entity": false,
           "is_facet": true,
           "is_filter": true,
           "is_multivalue": false,
           "long_description": null,
           "type": "integer"
          },
          "book_doi": {
           "description": "The DOI of the book a chapter belongs to (note: this field is available only for chapters).",
           "is_entity": false,
           "is_facet": false,
           "is_filter": true,
           "is_multivalue": false,
           "long_description": null,
           "type": "string"
          },
          "book_series_title": {
           "description": "The title of the book series book, belong to.",
           "is_entity": false,
           "is_facet": false,
           "is_filter": false,
           "is_multivalue": false,
           "long_description": null,
           "type": "string"
          },
          "book_title": {
           "description": "The title of the book a chapter belongs to (note: this field is available only for chapters).",
           "is_entity": false,
           "is_facet": false,
           "is_filter": false,
           "is_multivalue": false,
           "long_description": null,
           "type": "string"
          },
          "category_bra": {
           "description": "`Broad Research Areas <https://dimensions.freshdesk.com/support/solutions/articles/23000018820-what-are-fields-of-research-and-other-classification-systems-and-how-are-they-created->`_",
           "is_entity": true,
           "is_facet": true,
           "is_filter": true,
           "is_multivalue": true,
           "long_description": null,
           "type": "categories"
          },
          "category_for": {
           "description": "`ANZSRC Fields of Research classification <https://dimensions.freshdesk.com/support/solutions/articles/23000018820-what-are-fields-of-research-and-other-classification-systems-and-how-are-they-created->`_",
           "is_entity": true,
           "is_facet": true,
           "is_filter": true,
           "is_multivalue": true,
           "long_description": null,
           "type": "categories"
          },
          "category_hra": {
           "description": "`Health Research Areas <https://dimensions.freshdesk.com/support/solutions/articles/23000018820-what-are-fields-of-research-and-other-classification-systems-and-how-are-they-created->`_",
           "is_entity": true,
           "is_facet": true,
           "is_filter": true,
           "is_multivalue": true,
           "long_description": null,
           "type": "categories"
          },
          "category_hrcs_hc": {
           "description": "`HRCS - Health Categories <https://dimensions.freshdesk.com/support/solutions/articles/23000018820-what-are-fields-of-research-and-other-classification-systems-and-how-are-they-created->`_",
           "is_entity": true,
           "is_facet": true,
           "is_filter": true,
           "is_multivalue": true,
           "long_description": null,
           "type": "categories"
          },
          "category_hrcs_rac": {
           "description": "`HRCS – Research Activity Codes <https://dimensions.freshdesk.com/support/solutions/articles/23000018820-what-are-fields-of-research-and-other-classification-systems-and-how-are-they-created->`_",
           "is_entity": true,
           "is_facet": true,
           "is_filter": true,
           "is_multivalue": true,
           "long_description": null,
           "type": "categories"
          },
          "category_icrp_cso": {
           "description": "`ICRP Common Scientific Outline <https://dimensions.freshdesk.com/support/solutions/articles/23000018820-what-are-fields-of-research-and-other-classification-systems-and-how-are-they-created->`_",
           "is_entity": true,
           "is_facet": true,
           "is_filter": true,
           "is_multivalue": true,
           "long_description": null,
           "type": "categories"
          },
          "category_icrp_ct": {
           "description": "`ICRP Cancer Types <https://dimensions.freshdesk.com/support/solutions/articles/23000018820-what-are-fields-of-research-and-other-classification-systems-and-how-are-they-created->`_",
           "is_entity": true,
           "is_facet": true,
           "is_filter": true,
           "is_multivalue": true,
           "long_description": null,
           "type": "categories"
          },
          "category_rcdc": {
           "description": "`Research, Condition, and Disease Categorization <https://dimensions.freshdesk.com/support/solutions/articles/23000018820-what-are-fields-of-research-and-other-classification-systems-and-how-are-they-created->`_",
           "is_entity": true,
           "is_facet": true,
           "is_filter": true,
           "is_multivalue": true,
           "long_description": null,
           "type": "categories"
          },
          "category_sdg": {
           "description": "SDG - Sustainable Development Goals",
           "is_entity": true,
           "is_facet": true,
           "is_filter": true,
           "is_multivalue": true,
           "long_description": null,
           "type": "categories"
          },
          "category_uoa": {
           "description": "`Units of Assessment <https://dimensions.freshdesk.com/support/solutions/articles/23000018820-what-are-fields-of-research-and-other-classification-systems-and-how-are-they-created->`_",
           "is_entity": true,
           "is_facet": true,
           "is_filter": true,
           "is_multivalue": true,
           "long_description": null,
           "type": "categories"
          },
          "clinical_trial_ids": {
           "description": "Clinical Trial IDs mentioned in publications full text.",
           "is_entity": false,
           "is_facet": false,
           "is_filter": true,
           "is_multivalue": true,
           "long_description": null,
           "type": "string"
          },
          "concepts": {
           "description": "Concepts describing the main topics of a publication (note: automatically derived from the publication text using machine learning).",
           "is_entity": false,
           "is_facet": false,
           "is_filter": true,
           "is_multivalue": false,
           "long_description": null,
           "type": "json"
          },
          "concepts_scores": {
           "description": "Relevancy scores for `concepts`.",
           "is_entity": false,
           "is_facet": false,
           "is_filter": true,
           "is_multivalue": false,
           "long_description": "Returned objects contain: ``concept``, ``relevance``.\n                                            \n                                            For example:\n                                            \n    .. code-block:: json\n    \n        {\n            \"concepts_scores\": [\n                {\n                  \"concept\": \"professional relations\",\n                  \"relevance\": 0.088\n                },\n                {\n                  \"concept\": \"relation\",\n                  \"relevance\": 0.062\n                },\n                {\n                  \"concept\": \"representation\",\n                  \"relevance\": 0.025\n                },\n                {\n                  \"concept\": \"skald\",\n                  \"relevance\": 6.984\n                },\n                {\n                  \"concept\": \"Representations of Skalds\",\n                  \"relevance\": 0.0\n                },\n                {\n                  \"concept\": \"Sagas 1\",\n                  \"relevance\": 0.0\n                }\n            ]\n        }",
           "type": "json"
          },
          "date": {
           "description": "The publication date for the version of record of a document (note: incomplete dates are always normalised as ‘YYYY-MM-DD’, so \"2018-01\" becomes \"2018-01-01\".).",
           "is_entity": false,
           "is_facet": false,
           "is_filter": true,
           "is_multivalue": false,
           "long_description": null,
           "type": "date"
          },
          "date_inserted": {
           "description": "Date when the record was inserted into Dimensions (note: this field does not support exact match on the data, only range filters e.g. `<=` or `>=').",
           "is_entity": false,
           "is_facet": false,
           "is_filter": true,
           "is_multivalue": false,
           "long_description": null,
           "type": "date"
          },
          "date_online": {
           "description": "The publication online date.",
           "is_entity": false,
           "is_facet": false,
           "is_filter": true,
           "is_multivalue": false,
           "long_description": null,
           "type": "string"
          },
          "date_print": {
           "description": "The publication print date.",
           "is_entity": false,
           "is_facet": false,
           "is_filter": true,
           "is_multivalue": false,
           "long_description": null,
           "type": "string"
          },
          "dimensions_url": {
           "description": "Link pointing to the Dimensions web application",
           "is_entity": false,
           "is_facet": false,
           "is_filter": false,
           "is_multivalue": false,
           "long_description": null,
           "type": "string"
          },
          "doi": {
           "description": "Digital object identifier.",
           "is_entity": false,
           "is_facet": false,
           "is_filter": true,
           "is_multivalue": false,
           "long_description": null,
           "type": "string"
          },
          "field_citation_ratio": {
           "description": "Relative citation performance of article when compared to similarly aged articles in its area of research (note: does not support emptiness filters).",
           "is_entity": false,
           "is_facet": false,
           "is_filter": true,
           "is_multivalue": false,
           "long_description": null,
           "type": "float"
          },
          "funder_countries": {
           "description": "The country of the organisations funding this publication.",
           "is_entity": true,
           "is_facet": true,
           "is_filter": true,
           "is_multivalue": true,
           "long_description": null,
           "type": "countries"
          },
          "funders": {
           "description": "The GRID organisation funding this publication.",
           "is_entity": true,
           "is_facet": true,
           "is_filter": true,
           "is_multivalue": true,
           "long_description": null,
           "type": "organizations"
          },
          "id": {
           "description": "Dimensions publication ID.",
           "is_entity": false,
           "is_facet": false,
           "is_filter": true,
           "is_multivalue": false,
           "long_description": null,
           "type": "string"
          },
          "issn": {
           "description": "International Standard Serial Number",
           "is_entity": false,
           "is_facet": false,
           "is_filter": true,
           "is_multivalue": true,
           "long_description": null,
           "type": "string"
          },
          "issue": {
           "description": "The issue number of a publication.",
           "is_entity": false,
           "is_facet": false,
           "is_filter": true,
           "is_multivalue": false,
           "long_description": null,
           "type": "string"
          },
          "journal": {
           "description": "The journal a publication belongs to.",
           "is_entity": true,
           "is_facet": true,
           "is_filter": true,
           "is_multivalue": false,
           "long_description": null,
           "type": "journals"
          },
          "journal_lists": {
           "description": "Independent grouping of journals outside of Dimensions, e.g. 'ERA 2015' or 'Norwegian register level 1'.",
           "is_entity": false,
           "is_facet": true,
           "is_filter": true,
           "is_multivalue": true,
           "long_description": null,
           "type": "string"
          },
          "journal_title_raw": {
           "description": "The journal title, as it appears in the original source (note: this field can be used to retrieve historical titles of journals whose official title was later updated).",
           "is_entity": false,
           "is_facet": false,
           "is_filter": true,
           "is_multivalue": false,
           "long_description": null,
           "type": "string"
          },
          "linkout": {
           "description": "Original URL for a publication full text.",
           "is_entity": false,
           "is_facet": false,
           "is_filter": false,
           "is_multivalue": false,
           "long_description": null,
           "type": "string"
          },
          "mesh_terms": {
           "description": "Medical Subject Heading terms as used in PubMed.",
           "is_entity": false,
           "is_facet": true,
           "is_filter": true,
           "is_multivalue": true,
           "long_description": null,
           "type": "string"
          },
          "open_access": {
           "description": "Open Access categories for publications `(latest version) <https://www.dimensions.ai/wp-content/uploads/2021/02/Dimensions_New-OA-status-definition.pdf>`_",
           "is_entity": false,
           "is_facet": true,
           "is_filter": true,
           "is_multivalue": true,
           "long_description": "Open Access category data for publications values:\n\n        * `oa_all`: Publication is either gold, hybrid, bronze or green OA.\n        * `hybrid`: Publication freely available under an open licence in a paid-access journal\n        * `bronze`: Document freely available on publisher page, but without an open licence and not in a full OA journal\n        * `gold`: Publication published in a full OA journal\n        * `green`: Free copy of the publication available in an OA repository\n        * `closed`: No freely available copy has been identified",
           "type": "string"
          },
          "pages": {
           "description": "The pages of the publication, as they would appear in a citation record.",
           "is_entity": false,
           "is_facet": false,
           "is_filter": true,
           "is_multivalue": false,
           "long_description": null,
           "type": "string"
          },
          "pmcid": {
           "description": "PubMed Central ID.",
           "is_entity": false,
           "is_facet": false,
           "is_filter": true,
           "is_multivalue": false,
           "long_description": null,
           "type": "string"
          },
          "pmid": {
           "description": "PubMed ID.",
           "is_entity": false,
           "is_facet": false,
           "is_filter": true,
           "is_multivalue": false,
           "long_description": null,
           "type": "string"
          },
          "proceedings_title": {
           "description": "Title of the conference proceedings volume associated to a publication.",
           "is_entity": false,
           "is_facet": false,
           "is_filter": false,
           "is_multivalue": false,
           "long_description": null,
           "type": "string"
          },
          "publisher": {
           "description": "Name of the publisher as a string.",
           "is_entity": false,
           "is_facet": true,
           "is_filter": true,
           "is_multivalue": false,
           "long_description": null,
           "type": "string"
          },
          "recent_citations": {
           "description": "Number of citations received in the last two years. Does not support emptiness filters",
           "is_entity": false,
           "is_facet": false,
           "is_filter": true,
           "is_multivalue": false,
           "long_description": null,
           "type": "integer"
          },
          "reference_ids": {
           "description": "Dimensions publication ID for publications in the references list, i.e. outgoing citations (see also: :ref:`publications_model` section).",
           "is_entity": false,
           "is_facet": false,
           "is_filter": true,
           "is_multivalue": true,
           "long_description": null,
           "type": "string"
          },
          "referenced_pubs": {
           "description": "Publication IDs of the publications in the references list, i.e. outgoing citations.",
           "is_entity": true,
           "is_facet": true,
           "is_filter": true,
           "is_multivalue": true,
           "long_description": null,
           "type": "publication_links"
          },
          "relative_citation_ratio": {
           "description": "Relative citation performance of an article when compared to others in its area of research (note: does not support emptiness filters).",
           "is_entity": false,
           "is_facet": false,
           "is_filter": true,
           "is_multivalue": false,
           "long_description": null,
           "type": "float"
          },
          "research_org_cities": {
           "description": "City of the organisations authors are affiliated to, expressed as GeoNames ID and name.",
           "is_entity": true,
           "is_facet": true,
           "is_filter": true,
           "is_multivalue": true,
           "long_description": null,
           "type": "cities"
          },
          "research_org_countries": {
           "description": "Country of the organisations authors are affiliated to, identified using GeoNames codes (note: this field supports :ref:`filter-functions`: ``count``).",
           "is_entity": true,
           "is_facet": true,
           "is_filter": true,
           "is_multivalue": true,
           "long_description": null,
           "type": "countries"
          },
          "research_org_country_names": {
           "description": "Country name of the organisations authors are affiliated to, as a string.",
           "is_entity": false,
           "is_facet": false,
           "is_filter": true,
           "is_multivalue": true,
           "long_description": null,
           "type": "string"
          },
          "research_org_names": {
           "description": "Names of organizations authors are affiliated to. If the organization has a GRID ID, the canonical organization name is used. Otherwise the original affiliation string is used.",
           "is_entity": false,
           "is_facet": false,
           "is_filter": true,
           "is_multivalue": true,
           "long_description": null,
           "type": "string"
          },
          "research_org_state_codes": {
           "description": "State of the organisations authors are affiliated to, expressed as GeoNames codes (ISO‌-3166-2).",
           "is_entity": true,
           "is_facet": true,
           "is_filter": true,
           "is_multivalue": true,
           "long_description": null,
           "type": "states"
          },
          "research_org_state_names": {
           "description": "State name of the organisations authors are affiliated to, as a string.",
           "is_entity": false,
           "is_facet": false,
           "is_filter": false,
           "is_multivalue": true,
           "long_description": null,
           "type": "string"
          },
          "research_orgs": {
           "description": "GRID organisations associated to a publication. Identifiers are automatically extracted from author affiliations text, so they can be missing in some cases (note: this field supports :ref:`filter-functions`: ``count``).",
           "is_entity": true,
           "is_facet": true,
           "is_filter": true,
           "is_multivalue": true,
           "long_description": null,
           "type": "organizations"
          },
          "researchers": {
           "description": "Researcher IDs matched to the publication's authors list. (note: this returns only the disambiguated authors of a publication; in order to get the full authors list, the field `authors` should be used). This field supports :ref:`filter-functions`: ``count``.",
           "is_entity": true,
           "is_facet": true,
           "is_filter": true,
           "is_multivalue": true,
           "long_description": null,
           "type": "researchers"
          },
          "resulting_publication_doi": {
           "description": "For preprints, the DOIs of the resulting full publications.",
           "is_entity": false,
           "is_facet": false,
           "is_filter": true,
           "is_multivalue": false,
           "long_description": null,
           "type": "string"
          },
          "source_title": {
           "description": "Source Title for the Publication.",
           "is_entity": true,
           "is_facet": true,
           "is_filter": true,
           "is_multivalue": false,
           "long_description": null,
           "type": "source_titles"
          },
          "subtitles": {
           "description": "Subtitles of a publication (when available).",
           "is_entity": false,
           "is_facet": false,
           "is_filter": false,
           "is_multivalue": true,
           "long_description": null,
           "type": "string"
          },
          "supporting_grant_ids": {
           "description": "Grants supporting a publication, returned as a list of dimensions grants IDs  (see also: :ref:`publications_model` section).",
           "is_entity": false,
           "is_facet": false,
           "is_filter": true,
           "is_multivalue": true,
           "long_description": null,
           "type": "string"
          },
          "times_cited": {
           "description": "Number of citations (note: does not support emptiness filters).",
           "is_entity": false,
           "is_facet": true,
           "is_filter": true,
           "is_multivalue": false,
           "long_description": null,
           "type": "integer"
          },
          "title": {
           "description": "Title of a publication.",
           "is_entity": false,
           "is_facet": false,
           "is_filter": false,
           "is_multivalue": false,
           "long_description": null,
           "type": "string"
          },
          "type": {
           "description": "Publication type (one of: article, chapter, proceeding, monograph, preprint or book).",
           "is_entity": false,
           "is_facet": true,
           "is_filter": true,
           "is_multivalue": false,
           "long_description": null,
           "type": "string"
          },
          "volume": {
           "description": "Publication volume.",
           "is_entity": false,
           "is_facet": false,
           "is_filter": true,
           "is_multivalue": false,
           "long_description": null,
           "type": "string"
          },
          "year": {
           "description": "The year for the version of record of publication (note: when the `date` field is available, this is equal to the year part of the full date).",
           "is_entity": false,
           "is_facet": true,
           "is_filter": true,
           "is_multivalue": false,
           "long_description": null,
           "type": "integer"
          }
         },
         "fieldsets": [
          "basics",
          "extras",
          "book",
          "categories"
         ],
         "metrics": {
          "altmetric_avg": {
           "description": "Altmetric Attention Score mean",
           "name": "altmetric_avg"
          },
          "altmetric_median": {
           "description": "Median Altmetric Attention Score",
           "name": "altmetric_median"
          },
          "citations_avg": {
           "description": "Arithmetic mean of citations",
           "name": "citations_avg"
          },
          "citations_median": {
           "description": "Median of citations",
           "name": "citations_median"
          },
          "citations_total": {
           "description": "Aggregated number of citations",
           "name": "citations_total"
          },
          "count": {
           "description": "Total count",
           "name": "count"
          },
          "fcr_gavg": {
           "description": "Geometric mean of `field_citation_ratio` field (note: This field cannot be used for sorting results).",
           "name": "fcr_gavg"
          },
          "rcr_avg": {
           "description": "Arithmetic mean of `relative_citation_ratio` field.",
           "name": "rcr_avg"
          },
          "recent_citations_total": {
           "description": "For a given article, in a given year, the number of citations accrued in the last two year period. Single value stored per document, year window rolls over in July.",
           "name": "recent_citations_total"
          }
         },
         "search_fields": [
          "terms",
          "acknowledgements",
          "title_only",
          "full_data",
          "title_abstract_only",
          "concepts",
          "full_data_exact",
          "authors"
         ]
        },
        "reports": {
         "fields": {
          "abstract": {
           "description": "The abstract of the report.",
           "is_entity": false,
           "is_facet": false,
           "is_filter": false,
           "is_multivalue": false,
           "long_description": null,
           "type": "string"
          },
          "authors": {
           "description": "Ordered list of authors names and their affiliations, as they appear in the source. The list can include researcher and organization identifiers, when available.",
           "is_entity": false,
           "is_facet": false,
           "is_filter": true,
           "is_multivalue": false,
           "long_description": null,
           "type": "json"
          },
          "category_bra": {
           "description": "`Broad Research Areas <https://dimensions.freshdesk.com/support/solutions/articles/23000018820-what-are-fields-of-research-and-other-classification-systems-and-how-are-they-created->`_",
           "is_entity": true,
           "is_facet": true,
           "is_filter": true,
           "is_multivalue": true,
           "long_description": null,
           "type": "categories"
          },
          "category_for": {
           "description": "`ANZSRC Fields of Research classification <https://dimensions.freshdesk.com/support/solutions/articles/23000018820-what-are-fields-of-research-and-other-classification-systems-and-how-are-they-created->`_",
           "is_entity": true,
           "is_facet": true,
           "is_filter": true,
           "is_multivalue": true,
           "long_description": null,
           "type": "categories"
          },
          "category_hra": {
           "description": "`Health Research Areas <https://dimensions.freshdesk.com/support/solutions/articles/23000018820-what-are-fields-of-research-and-other-classification-systems-and-how-are-they-created->`_",
           "is_entity": true,
           "is_facet": true,
           "is_filter": true,
           "is_multivalue": true,
           "long_description": null,
           "type": "categories"
          },
          "category_hrcs_hc": {
           "description": "`HRCS - Health Categories <https://dimensions.freshdesk.com/support/solutions/articles/23000018820-what-are-fields-of-research-and-other-classification-systems-and-how-are-they-created->`_",
           "is_entity": true,
           "is_facet": true,
           "is_filter": true,
           "is_multivalue": true,
           "long_description": null,
           "type": "categories"
          },
          "category_hrcs_rac": {
           "description": "`HRCS – Research Activity Codes <https://dimensions.freshdesk.com/support/solutions/articles/23000018820-what-are-fields-of-research-and-other-classification-systems-and-how-are-they-created->`_",
           "is_entity": true,
           "is_facet": true,
           "is_filter": true,
           "is_multivalue": true,
           "long_description": null,
           "type": "categories"
          },
          "category_icrp_cso": {
           "description": "`ICRP Common Scientific Outline <https://dimensions.freshdesk.com/support/solutions/articles/23000018820-what-are-fields-of-research-and-other-classification-systems-and-how-are-they-created->`_",
           "is_entity": true,
           "is_facet": true,
           "is_filter": true,
           "is_multivalue": true,
           "long_description": null,
           "type": "categories"
          },
          "category_icrp_ct": {
           "description": "`ICRP Cancer Types <https://dimensions.freshdesk.com/support/solutions/articles/23000018820-what-are-fields-of-research-and-other-classification-systems-and-how-are-they-created->`_",
           "is_entity": true,
           "is_facet": true,
           "is_filter": true,
           "is_multivalue": true,
           "long_description": null,
           "type": "categories"
          },
          "category_rcdc": {
           "description": "`Research, Condition, and Disease Categorization <https://dimensions.freshdesk.com/support/solutions/articles/23000018820-what-are-fields-of-research-and-other-classification-systems-and-how-are-they-created->`_",
           "is_entity": true,
           "is_facet": true,
           "is_filter": true,
           "is_multivalue": true,
           "long_description": null,
           "type": "categories"
          },
          "category_sdg": {
           "description": "SDG - Sustainable Development Goals",
           "is_entity": true,
           "is_facet": true,
           "is_filter": true,
           "is_multivalue": true,
           "long_description": null,
           "type": "categories"
          },
          "category_uoa": {
           "description": "`Units of Assessment <https://dimensions.freshdesk.com/support/solutions/articles/23000018820-what-are-fields-of-research-and-other-classification-systems-and-how-are-they-created->`_",
           "is_entity": true,
           "is_facet": true,
           "is_filter": true,
           "is_multivalue": true,
           "long_description": null,
           "type": "categories"
          },
          "concepts": {
           "description": "Concepts describing the main topics of the report (note: automatically derived from the text using machine learning).",
           "is_entity": false,
           "is_facet": false,
           "is_filter": true,
           "is_multivalue": false,
           "long_description": null,
           "type": "json"
          },
          "concepts_scores": {
           "description": "Relevancy scores for `concepts`.",
           "is_entity": false,
           "is_facet": false,
           "is_filter": true,
           "is_multivalue": false,
           "long_description": "Returned objects contain: ``concept``, ``relevance``.\n                                            \n                                            For example:\n                                            \n    .. code-block:: json\n    \n        {\n            \"concepts_scores\": [\n                {\n                  \"concept\": \"professional relations\",\n                  \"relevance\": 0.088\n                },\n                {\n                  \"concept\": \"relation\",\n                  \"relevance\": 0.062\n                },\n                {\n                  \"concept\": \"representation\",\n                  \"relevance\": 0.025\n                },\n                {\n                  \"concept\": \"skald\",\n                  \"relevance\": 6.984\n                },\n                {\n                  \"concept\": \"Representations of Skalds\",\n                  \"relevance\": 0.0\n                },\n                {\n                  \"concept\": \"Sagas 1\",\n                  \"relevance\": 0.0\n                }\n            ]\n        }",
           "type": "json"
          },
          "date": {
           "description": "Date when the report was published, in the format 'YYYY-MM-DD'.",
           "is_entity": false,
           "is_facet": false,
           "is_filter": true,
           "is_multivalue": false,
           "long_description": null,
           "type": "date"
          },
          "date_inserted": {
           "description": "Date when the record was inserted into Dimensions (note: this field does not support exact match on the data, only range filters e.g. `<=` or `>=').",
           "is_entity": false,
           "is_facet": false,
           "is_filter": true,
           "is_multivalue": false,
           "long_description": null,
           "type": "date"
          },
          "doi": {
           "description": "Digital object identifier.",
           "is_entity": false,
           "is_facet": false,
           "is_filter": true,
           "is_multivalue": false,
           "long_description": null,
           "type": "string"
          },
          "external_ids": {
           "description": "External identifiers available from the report publisher (e.g. OSTI ID).",
           "is_entity": false,
           "is_facet": false,
           "is_filter": true,
           "is_multivalue": false,
           "long_description": null,
           "type": "json"
          },
          "funder_details": {
           "description": "Sponsors/funders of the research/report, as they appear in the source.",
           "is_entity": false,
           "is_facet": false,
           "is_filter": true,
           "is_multivalue": false,
           "long_description": null,
           "type": "json"
          },
          "funder_orgs": {
           "description": "GRID organizations funding the report (only disambiguated).",
           "is_entity": true,
           "is_facet": true,
           "is_filter": true,
           "is_multivalue": true,
           "long_description": null,
           "type": "organizations"
          },
          "funder_orgs_countries": {
           "description": "Countries of the organizations funding the report.",
           "is_entity": true,
           "is_facet": true,
           "is_filter": true,
           "is_multivalue": true,
           "long_description": null,
           "type": "countries"
          },
          "id": {
           "description": "Dimensions report ID.",
           "is_entity": false,
           "is_facet": false,
           "is_filter": true,
           "is_multivalue": false,
           "long_description": null,
           "type": "string"
          },
          "keywords": {
           "description": "Keywords, as provided by the source.",
           "is_entity": false,
           "is_facet": false,
           "is_filter": true,
           "is_multivalue": false,
           "long_description": null,
           "type": "string"
          },
          "linkout": {
           "description": "Original URL for the report.",
           "is_entity": false,
           "is_facet": false,
           "is_filter": false,
           "is_multivalue": false,
           "long_description": null,
           "type": "string"
          },
          "publisher_details": {
           "description": "Organizations publishing the report, as they appear in the source.",
           "is_entity": false,
           "is_facet": false,
           "is_filter": true,
           "is_multivalue": false,
           "long_description": null,
           "type": "json"
          },
          "publisher_orgs": {
           "description": "GRID organizations publishing the report (only disambiguated).",
           "is_entity": true,
           "is_facet": true,
           "is_filter": true,
           "is_multivalue": true,
           "long_description": null,
           "type": "organizations"
          },
          "publisher_orgs_countries": {
           "description": "Countries of the organizations publishing the report.",
           "is_entity": true,
           "is_facet": true,
           "is_filter": true,
           "is_multivalue": true,
           "long_description": null,
           "type": "countries"
          },
          "research_org_cities": {
           "description": "Cities of the organisations associated with the report, expressed as GeoNames ID and name.",
           "is_entity": true,
           "is_facet": true,
           "is_filter": true,
           "is_multivalue": true,
           "long_description": null,
           "type": "cities"
          },
          "research_org_countries": {
           "description": "Countries of the organisations associated with the report, expressed as GeoNames code and name.",
           "is_entity": true,
           "is_facet": true,
           "is_filter": true,
           "is_multivalue": true,
           "long_description": null,
           "type": "countries"
          },
          "research_org_states": {
           "description": "States of the organisations associated with the report, expressed as GeoNames codes (ISO-3166-2).",
           "is_entity": true,
           "is_facet": true,
           "is_filter": true,
           "is_multivalue": true,
           "long_description": null,
           "type": "states"
          },
          "research_orgs": {
           "description": "Combined list of GRID organisations associated with the report, because the source marks them as responsible for it, or because they appear as authors affiliations.",
           "is_entity": true,
           "is_facet": true,
           "is_filter": true,
           "is_multivalue": true,
           "long_description": null,
           "type": "organizations"
          },
          "responsible_orgs": {
           "description": "GRID organizations responsible for the report. Note: this can be different from the author affiliations.",
           "is_entity": true,
           "is_facet": true,
           "is_filter": true,
           "is_multivalue": true,
           "long_description": null,
           "type": "organizations"
          },
          "responsible_orgs_cities": {
           "description": "Cities of the organisations responsible for the report, expressed as GeoNames ID and name.",
           "is_entity": true,
           "is_facet": true,
           "is_filter": true,
           "is_multivalue": true,
           "long_description": null,
           "type": "cities"
          },
          "responsible_orgs_countries": {
           "description": "Countries of the organisations responsible for the report, expressed as GeoNames code and name.",
           "is_entity": true,
           "is_facet": true,
           "is_filter": true,
           "is_multivalue": true,
           "long_description": null,
           "type": "countries"
          },
          "responsible_orgs_details": {
           "description": "Organizations responsible for the report, as they appear in the source. Note: this can be different from the author affiliations.",
           "is_entity": false,
           "is_facet": false,
           "is_filter": true,
           "is_multivalue": false,
           "long_description": null,
           "type": "json"
          },
          "responsible_orgs_states": {
           "description": "States of the organisations responsible for the report, expressed as GeoNames codes (ISO-3166-2).",
           "is_entity": true,
           "is_facet": true,
           "is_filter": true,
           "is_multivalue": true,
           "long_description": null,
           "type": "states"
          },
          "title": {
           "description": "Title of a report.",
           "is_entity": false,
           "is_facet": false,
           "is_filter": false,
           "is_multivalue": false,
           "long_description": null,
           "type": "string"
          },
          "year": {
           "description": "Year when the report was published (note: when the `date` field is available, this is equal to the year part of the full date).",
           "is_entity": false,
           "is_facet": true,
           "is_filter": true,
           "is_multivalue": false,
           "long_description": null,
           "type": "integer"
          }
         },
         "fieldsets": [
          "basics",
          "categories"
         ],
         "metrics": {
          "count": {
           "description": "Total count",
           "name": "count"
          }
         },
         "search_fields": [
          "title_abstract_only",
          "full_data"
         ]
        },
        "researchers": {
         "fields": {
          "current_research_org": {
           "description": "The most recent research organization linked to the researcher.",
           "is_entity": true,
           "is_facet": true,
           "is_filter": true,
           "is_multivalue": false,
           "long_description": null,
           "type": "organizations"
          },
          "dimensions_url": {
           "description": "Link pointing to the Dimensions web application",
           "is_entity": false,
           "is_facet": false,
           "is_filter": false,
           "is_multivalue": false,
           "long_description": null,
           "type": "string"
          },
          "first_grant_year": {
           "description": "First year the researcher was awarded a grant.",
           "is_entity": false,
           "is_facet": true,
           "is_filter": true,
           "is_multivalue": false,
           "long_description": null,
           "type": "integer"
          },
          "first_name": {
           "description": "First Name.",
           "is_entity": false,
           "is_facet": false,
           "is_filter": true,
           "is_multivalue": false,
           "long_description": null,
           "type": "string"
          },
          "first_publication_year": {
           "description": null,
           "is_entity": false,
           "is_facet": true,
           "is_filter": true,
           "is_multivalue": false,
           "long_description": null,
           "type": "integer"
          },
          "id": {
           "description": "Dimensions researcher ID.",
           "is_entity": false,
           "is_facet": false,
           "is_filter": true,
           "is_multivalue": false,
           "long_description": null,
           "type": "string"
          },
          "last_grant_year": {
           "description": "Last year the researcher was awarded a grant.",
           "is_entity": false,
           "is_facet": true,
           "is_filter": true,
           "is_multivalue": false,
           "long_description": null,
           "type": "integer"
          },
          "last_name": {
           "description": "Last Name.",
           "is_entity": false,
           "is_facet": false,
           "is_filter": true,
           "is_multivalue": false,
           "long_description": null,
           "type": "string"
          },
          "last_publication_year": {
           "description": null,
           "is_entity": false,
           "is_facet": true,
           "is_filter": true,
           "is_multivalue": false,
           "long_description": null,
           "type": "integer"
          },
          "nih_ppid": {
           "description": "The PI Profile ID (i.e., ppid) is a Researcher ID from the US National Institute of Health (NIH).",
           "is_entity": false,
           "is_facet": false,
           "is_filter": true,
           "is_multivalue": false,
           "long_description": null,
           "type": "string"
          },
          "obsolete": {
           "description": "Indicates researcher ID status. 0 means that the researcher ID is still active, 1 means that the researcher ID is no longer valid. See the `redirect` field for further information on invalid researcher IDs.",
           "is_entity": false,
           "is_facet": false,
           "is_filter": true,
           "is_multivalue": false,
           "long_description": null,
           "type": "integer"
          },
          "orcid_id": {
           "description": "`ORCID <https://orcid.org/>`_ ID.",
           "is_entity": false,
           "is_facet": false,
           "is_filter": true,
           "is_multivalue": true,
           "long_description": null,
           "type": "string"
          },
          "redirect": {
           "description": "Indicates status of a researcher ID marked as obsolete. Empty means that the researcher ID was deleted. Otherwise ID provided means that is the new ID into which the obsolete one was redirected. If multiple values are available, it means that the original researcher ID was split into multiple IDs.",
           "is_entity": false,
           "is_facet": false,
           "is_filter": true,
           "is_multivalue": true,
           "long_description": null,
           "type": "string"
          },
          "research_orgs": {
           "description": "All research organizations linked to the researcher.",
           "is_entity": true,
           "is_facet": true,
           "is_filter": true,
           "is_multivalue": true,
           "long_description": null,
           "type": "organizations"
          },
          "total_grants": {
           "description": "Total grants count.",
           "is_entity": false,
           "is_facet": true,
           "is_filter": true,
           "is_multivalue": false,
           "long_description": null,
           "type": "integer"
          },
          "total_publications": {
           "description": "Total publications count.",
           "is_entity": false,
           "is_facet": true,
           "is_filter": true,
           "is_multivalue": false,
           "long_description": null,
           "type": "integer"
          }
         },
         "fieldsets": [
          "basics",
          "extras"
         ],
         "metrics": {
          "count": {
           "description": "Total count",
           "name": "count"
          }
         },
         "search_fields": []
        },
        "source_titles": {
         "fields": {
          "id": {
           "description": "The Dimensions ID of the source.",
           "is_entity": false,
           "is_facet": false,
           "is_filter": true,
           "is_multivalue": false,
           "long_description": null,
           "type": "string"
          },
          "issn": {
           "description": "List of known ISSNs for the source, including both print and electronic.",
           "is_entity": false,
           "is_facet": false,
           "is_filter": true,
           "is_multivalue": true,
           "long_description": null,
           "type": "string"
          },
          "issn_electronic": {
           "description": "Electronic ISSN for the source.",
           "is_entity": false,
           "is_facet": false,
           "is_filter": true,
           "is_multivalue": false,
           "long_description": null,
           "type": "string"
          },
          "issn_print": {
           "description": "Print ISSN for the source.",
           "is_entity": false,
           "is_facet": false,
           "is_filter": true,
           "is_multivalue": false,
           "long_description": null,
           "type": "string"
          },
          "linkout": {
           "description": "The source web URL, if known.",
           "is_entity": false,
           "is_facet": false,
           "is_filter": false,
           "is_multivalue": false,
           "long_description": null,
           "type": "string"
          },
          "publisher": {
           "description": "The name of the source publisher entity.",
           "is_entity": false,
           "is_facet": true,
           "is_filter": true,
           "is_multivalue": false,
           "long_description": null,
           "type": "string"
          },
          "sjr": {
           "description": "SJR indicator (SCImago Journal Rank). This indicator measures both the number of citations received by a journal and the importance or prestige of the journals where the citations come from.",
           "is_entity": false,
           "is_facet": false,
           "is_filter": true,
           "is_multivalue": false,
           "long_description": null,
           "type": "float"
          },
          "snip": {
           "description": "SNIP indicator (source normalized impact per paper). This indicator measures the average citation impact of the publications of a journal.",
           "is_entity": false,
           "is_facet": false,
           "is_filter": true,
           "is_multivalue": false,
           "long_description": null,
           "type": "float"
          },
          "start_year": {
           "description": "Year when the source started publishing.",
           "is_entity": false,
           "is_facet": true,
           "is_filter": true,
           "is_multivalue": false,
           "long_description": null,
           "type": "integer"
          },
          "title": {
           "description": "The title of the source.",
           "is_entity": false,
           "is_facet": false,
           "is_filter": false,
           "is_multivalue": false,
           "long_description": null,
           "type": "string"
          },
          "type": {
           "description": "The source type: one of `book_series`, `proceeding`, `journal`, `preprint_platform` (4 in total).",
           "is_entity": false,
           "is_facet": true,
           "is_filter": true,
           "is_multivalue": false,
           "long_description": null,
           "type": "string"
          }
         },
         "fieldsets": [
          "basics"
         ],
         "metrics": {
          "count": {
           "description": "Total count",
           "name": "count"
          }
         },
         "search_fields": [
          "title_only"
         ]
        }
       }
      },
      "text/plain": [
       "<dimcli.DslDataset object #4578466976. Dict keys: 'entities', 'sources'>"
      ]
     },
     "execution_count": 3,
     "metadata": {
      "application/json": {
       "expanded": false,
       "root": "root"
      }
     },
     "output_type": "execute_result"
    }
   ],
   "source": [
    "dsl.query(\"describe schema\")"
   ]
  },
  {
   "cell_type": "markdown",
   "metadata": {
    "Collapsed": "false"
   },
   "source": [
    "A more useful query might also make use of the optional `for` and\n",
    "`where` phrases to limit the set of records returned."
   ]
  },
  {
   "cell_type": "code",
   "execution_count": 4,
   "metadata": {
    "Collapsed": "false"
   },
   "outputs": [
    {
     "name": "stdout",
     "output_type": "stream",
     "text": [
      "Returned Grants: 5 (total = 1764)\n",
      "\u001b[2mTime: 0.54s\u001b[0m\n"
     ]
    },
    {
     "data": {
      "text/html": [
       "<div>\n",
       "<style scoped>\n",
       "    .dataframe tbody tr th:only-of-type {\n",
       "        vertical-align: middle;\n",
       "    }\n",
       "\n",
       "    .dataframe tbody tr th {\n",
       "        vertical-align: top;\n",
       "    }\n",
       "\n",
       "    .dataframe thead th {\n",
       "        text-align: right;\n",
       "    }\n",
       "</style>\n",
       "<table border=\"1\" class=\"dataframe\">\n",
       "  <thead>\n",
       "    <tr style=\"text-align: right;\">\n",
       "      <th></th>\n",
       "      <th>active_year</th>\n",
       "      <th>end_date</th>\n",
       "      <th>funders</th>\n",
       "      <th>funding_org_name</th>\n",
       "      <th>grant_number</th>\n",
       "      <th>id</th>\n",
       "      <th>language</th>\n",
       "      <th>original_title</th>\n",
       "      <th>start_date</th>\n",
       "      <th>start_year</th>\n",
       "      <th>title</th>\n",
       "    </tr>\n",
       "  </thead>\n",
       "  <tbody>\n",
       "    <tr>\n",
       "      <th>0</th>\n",
       "      <td>[2000, 2001, 2002]</td>\n",
       "      <td>2002-01-01</td>\n",
       "      <td>[{'acronym': 'NHLBI', 'city_name': 'Bethesda',...</td>\n",
       "      <td>National Heart Lung and Blood Institute</td>\n",
       "      <td>F32HL010455</td>\n",
       "      <td>grant.2386513</td>\n",
       "      <td>en</td>\n",
       "      <td>ROLE OF CD44 ISOFORMS IN ENDOTHELIAL CELL DAMAGE</td>\n",
       "      <td>2000-12-31</td>\n",
       "      <td>2000</td>\n",
       "      <td>ROLE OF CD44 ISOFORMS IN ENDOTHELIAL CELL DAMAGE</td>\n",
       "    </tr>\n",
       "    <tr>\n",
       "      <th>1</th>\n",
       "      <td>[2000, 2001, 2002, 2003, 2004, 2005, 2006, 2007]</td>\n",
       "      <td>2007-11-30</td>\n",
       "      <td>[{'acronym': 'NHLBI', 'city_name': 'Bethesda',...</td>\n",
       "      <td>National Heart Lung and Blood Institute</td>\n",
       "      <td>R01HL066221</td>\n",
       "      <td>grant.2537801</td>\n",
       "      <td>en</td>\n",
       "      <td>GENETIC ANALYSIS OF EPHRIN-EPH SIGNALING IN AN...</td>\n",
       "      <td>2000-12-18</td>\n",
       "      <td>2000</td>\n",
       "      <td>GENETIC ANALYSIS OF EPHRIN-EPH SIGNALING IN AN...</td>\n",
       "    </tr>\n",
       "    <tr>\n",
       "      <th>2</th>\n",
       "      <td>[2000, 2001, 2002, 2003, 2004]</td>\n",
       "      <td>2004-11-30</td>\n",
       "      <td>[{'acronym': 'NHLBI', 'city_name': 'Bethesda',...</td>\n",
       "      <td>National Heart Lung and Blood Institute</td>\n",
       "      <td>R01HL063695</td>\n",
       "      <td>grant.2537116</td>\n",
       "      <td>en</td>\n",
       "      <td>ESTROGEN, ANGIOGENESIS AND ENDOTHELIAL PROGENI...</td>\n",
       "      <td>2000-12-18</td>\n",
       "      <td>2000</td>\n",
       "      <td>ESTROGEN, ANGIOGENESIS AND ENDOTHELIAL PROGENI...</td>\n",
       "    </tr>\n",
       "    <tr>\n",
       "      <th>3</th>\n",
       "      <td>[2000, 2001, 2002, 2003, 2004, 2005, 2006, 200...</td>\n",
       "      <td>2017-12-31</td>\n",
       "      <td>[{'acronym': 'NHLBI', 'city_name': 'Bethesda',...</td>\n",
       "      <td>National Heart Lung and Blood Institute</td>\n",
       "      <td>R01HL062244</td>\n",
       "      <td>grant.2536777</td>\n",
       "      <td>en</td>\n",
       "      <td>Synthetic Heparan Sulfate: Probing Biosynthesi...</td>\n",
       "      <td>2000-12-15</td>\n",
       "      <td>2000</td>\n",
       "      <td>Synthetic Heparan Sulfate: Probing Biosynthesi...</td>\n",
       "    </tr>\n",
       "    <tr>\n",
       "      <th>4</th>\n",
       "      <td>[2000, 2001]</td>\n",
       "      <td>2001-02-28</td>\n",
       "      <td>[{'acronym': 'RWJF', 'city_name': 'Princeton',...</td>\n",
       "      <td>Robert Wood Johnson Foundation</td>\n",
       "      <td>41067</td>\n",
       "      <td>grant.8616620</td>\n",
       "      <td>en</td>\n",
       "      <td>SmokeLess States Program - Implementation</td>\n",
       "      <td>2000-12-01</td>\n",
       "      <td>2000</td>\n",
       "      <td>SmokeLess States Program - Implementation</td>\n",
       "    </tr>\n",
       "  </tbody>\n",
       "</table>\n",
       "</div>"
      ],
      "text/plain": [
       "                                         active_year    end_date  \\\n",
       "0                                 [2000, 2001, 2002]  2002-01-01   \n",
       "1   [2000, 2001, 2002, 2003, 2004, 2005, 2006, 2007]  2007-11-30   \n",
       "2                     [2000, 2001, 2002, 2003, 2004]  2004-11-30   \n",
       "3  [2000, 2001, 2002, 2003, 2004, 2005, 2006, 200...  2017-12-31   \n",
       "4                                       [2000, 2001]  2001-02-28   \n",
       "\n",
       "                                             funders  \\\n",
       "0  [{'acronym': 'NHLBI', 'city_name': 'Bethesda',...   \n",
       "1  [{'acronym': 'NHLBI', 'city_name': 'Bethesda',...   \n",
       "2  [{'acronym': 'NHLBI', 'city_name': 'Bethesda',...   \n",
       "3  [{'acronym': 'NHLBI', 'city_name': 'Bethesda',...   \n",
       "4  [{'acronym': 'RWJF', 'city_name': 'Princeton',...   \n",
       "\n",
       "                          funding_org_name grant_number             id  \\\n",
       "0  National Heart Lung and Blood Institute  F32HL010455  grant.2386513   \n",
       "1  National Heart Lung and Blood Institute  R01HL066221  grant.2537801   \n",
       "2  National Heart Lung and Blood Institute  R01HL063695  grant.2537116   \n",
       "3  National Heart Lung and Blood Institute  R01HL062244  grant.2536777   \n",
       "4           Robert Wood Johnson Foundation        41067  grant.8616620   \n",
       "\n",
       "  language                                     original_title  start_date  \\\n",
       "0       en   ROLE OF CD44 ISOFORMS IN ENDOTHELIAL CELL DAMAGE  2000-12-31   \n",
       "1       en  GENETIC ANALYSIS OF EPHRIN-EPH SIGNALING IN AN...  2000-12-18   \n",
       "2       en  ESTROGEN, ANGIOGENESIS AND ENDOTHELIAL PROGENI...  2000-12-18   \n",
       "3       en  Synthetic Heparan Sulfate: Probing Biosynthesi...  2000-12-15   \n",
       "4       en          SmokeLess States Program - Implementation  2000-12-01   \n",
       "\n",
       "   start_year                                              title  \n",
       "0        2000   ROLE OF CD44 ISOFORMS IN ENDOTHELIAL CELL DAMAGE  \n",
       "1        2000  GENETIC ANALYSIS OF EPHRIN-EPH SIGNALING IN AN...  \n",
       "2        2000  ESTROGEN, ANGIOGENESIS AND ENDOTHELIAL PROGENI...  \n",
       "3        2000  Synthetic Heparan Sulfate: Probing Biosynthesi...  \n",
       "4        2000          SmokeLess States Program - Implementation  "
      ]
     },
     "execution_count": 4,
     "metadata": {},
     "output_type": "execute_result"
    }
   ],
   "source": [
    "%%dsldf \n",
    "search grants  for \"lung cancer\" \n",
    "    where active_year=2000 \n",
    "return  grants  limit 5"
   ]
  },
  {
   "cell_type": "markdown",
   "metadata": {
    "Collapsed": "false"
   },
   "source": [
    "### `return` result (source or facet)\n",
    "\n",
    "The most basic `return` phrase consists of the keyword `return` followed\n",
    "by the name of a `record` or `facet` to be returned. \n",
    "\n",
    "This must be the\n",
    "name of the `source` used in the `search` phrase, or the name of a\n",
    "`facet` of that source."
   ]
  },
  {
   "cell_type": "code",
   "execution_count": 5,
   "metadata": {
    "Collapsed": "false"
   },
   "outputs": [
    {
     "name": "stdout",
     "output_type": "stream",
     "text": [
      "Returned Grants: 5 (total = 127)\n",
      "\u001b[2mTime: 1.42s\u001b[0m\n"
     ]
    },
    {
     "data": {
      "text/html": [
       "<div>\n",
       "<style scoped>\n",
       "    .dataframe tbody tr th:only-of-type {\n",
       "        vertical-align: middle;\n",
       "    }\n",
       "\n",
       "    .dataframe tbody tr th {\n",
       "        vertical-align: top;\n",
       "    }\n",
       "\n",
       "    .dataframe thead th {\n",
       "        text-align: right;\n",
       "    }\n",
       "</style>\n",
       "<table border=\"1\" class=\"dataframe\">\n",
       "  <thead>\n",
       "    <tr style=\"text-align: right;\">\n",
       "      <th></th>\n",
       "      <th>active_year</th>\n",
       "      <th>end_date</th>\n",
       "      <th>funders</th>\n",
       "      <th>funding_org_name</th>\n",
       "      <th>grant_number</th>\n",
       "      <th>id</th>\n",
       "      <th>language</th>\n",
       "      <th>original_title</th>\n",
       "      <th>start_date</th>\n",
       "      <th>start_year</th>\n",
       "      <th>title</th>\n",
       "    </tr>\n",
       "  </thead>\n",
       "  <tbody>\n",
       "    <tr>\n",
       "      <th>0</th>\n",
       "      <td>[2021, 2022, 2023, 2024, 2025]</td>\n",
       "      <td>2025-09-30</td>\n",
       "      <td>[{'acronym': 'NCN', 'city_name': 'Krakow', 'co...</td>\n",
       "      <td>National Science Center</td>\n",
       "      <td>2020/39/O/HS6/01774</td>\n",
       "      <td>grant.9750968</td>\n",
       "      <td>pl</td>\n",
       "      <td>Psychologia ekologiczna i enaktywizm w praktyc...</td>\n",
       "      <td>2021-07-07</td>\n",
       "      <td>2021</td>\n",
       "      <td>Ecological psychology and enactivism in resear...</td>\n",
       "    </tr>\n",
       "    <tr>\n",
       "      <th>1</th>\n",
       "      <td>[2021, 2022, 2023, 2024, 2025, 2026]</td>\n",
       "      <td>2026-03-31</td>\n",
       "      <td>[{'acronym': 'NIDCD', 'city_name': 'Bethesda',...</td>\n",
       "      <td>National Institute on Deafness and Other Commu...</td>\n",
       "      <td>R01DC019352</td>\n",
       "      <td>grant.9643970</td>\n",
       "      <td>en</td>\n",
       "      <td>Reducing social isolation for adults with chro...</td>\n",
       "      <td>2021-04-05</td>\n",
       "      <td>2021</td>\n",
       "      <td>Reducing social isolation for adults with chro...</td>\n",
       "    </tr>\n",
       "    <tr>\n",
       "      <th>2</th>\n",
       "      <td>[2021, 2022, 2023, 2024]</td>\n",
       "      <td>2024-03-31</td>\n",
       "      <td>[{'acronym': 'JSPS', 'city_name': 'Tokyo', 'co...</td>\n",
       "      <td>Japan Society for the Promotion of Science</td>\n",
       "      <td>21K17363</td>\n",
       "      <td>grant.9692444</td>\n",
       "      <td>ja</td>\n",
       "      <td>喉頭摘出術後の無喉頭者の嗅覚リハビリテーション効果について</td>\n",
       "      <td>2021-04-01</td>\n",
       "      <td>2021</td>\n",
       "      <td>About the olfactory rehabilitation effect of l...</td>\n",
       "    </tr>\n",
       "    <tr>\n",
       "      <th>3</th>\n",
       "      <td>[2021, 2022, 2023, 2024, 2025]</td>\n",
       "      <td>2025-03-31</td>\n",
       "      <td>[{'acronym': 'JSPS', 'city_name': 'Tokyo', 'co...</td>\n",
       "      <td>Japan Society for the Promotion of Science</td>\n",
       "      <td>21K10776</td>\n",
       "      <td>grant.9685857</td>\n",
       "      <td>ja</td>\n",
       "      <td>喉頭がん、下咽頭がんにより喉頭摘出術を受けた患者に対する携帯型嗅覚知覚装置の開発</td>\n",
       "      <td>2021-04-01</td>\n",
       "      <td>2021</td>\n",
       "      <td>Development of a portable sensory sensory devi...</td>\n",
       "    </tr>\n",
       "    <tr>\n",
       "      <th>4</th>\n",
       "      <td>[2021, 2022, 2023, 2024, 2025]</td>\n",
       "      <td>2025-03-31</td>\n",
       "      <td>[{'acronym': 'JSPS', 'city_name': 'Tokyo', 'co...</td>\n",
       "      <td>Japan Society for the Promotion of Science</td>\n",
       "      <td>21K10721</td>\n",
       "      <td>grant.9685802</td>\n",
       "      <td>ja</td>\n",
       "      <td>喉頭摘出者の食道発声トレーニングプログラムの構築と効果の検証</td>\n",
       "      <td>2021-04-01</td>\n",
       "      <td>2021</td>\n",
       "      <td>Construction and effectiveness verification of...</td>\n",
       "    </tr>\n",
       "  </tbody>\n",
       "</table>\n",
       "</div>"
      ],
      "text/plain": [
       "                            active_year    end_date  \\\n",
       "0        [2021, 2022, 2023, 2024, 2025]  2025-09-30   \n",
       "1  [2021, 2022, 2023, 2024, 2025, 2026]  2026-03-31   \n",
       "2              [2021, 2022, 2023, 2024]  2024-03-31   \n",
       "3        [2021, 2022, 2023, 2024, 2025]  2025-03-31   \n",
       "4        [2021, 2022, 2023, 2024, 2025]  2025-03-31   \n",
       "\n",
       "                                             funders  \\\n",
       "0  [{'acronym': 'NCN', 'city_name': 'Krakow', 'co...   \n",
       "1  [{'acronym': 'NIDCD', 'city_name': 'Bethesda',...   \n",
       "2  [{'acronym': 'JSPS', 'city_name': 'Tokyo', 'co...   \n",
       "3  [{'acronym': 'JSPS', 'city_name': 'Tokyo', 'co...   \n",
       "4  [{'acronym': 'JSPS', 'city_name': 'Tokyo', 'co...   \n",
       "\n",
       "                                    funding_org_name         grant_number  \\\n",
       "0                            National Science Center  2020/39/O/HS6/01774   \n",
       "1  National Institute on Deafness and Other Commu...          R01DC019352   \n",
       "2         Japan Society for the Promotion of Science             21K17363   \n",
       "3         Japan Society for the Promotion of Science             21K10776   \n",
       "4         Japan Society for the Promotion of Science             21K10721   \n",
       "\n",
       "              id language                                     original_title  \\\n",
       "0  grant.9750968       pl  Psychologia ekologiczna i enaktywizm w praktyc...   \n",
       "1  grant.9643970       en  Reducing social isolation for adults with chro...   \n",
       "2  grant.9692444       ja                      喉頭摘出術後の無喉頭者の嗅覚リハビリテーション効果について   \n",
       "3  grant.9685857       ja           喉頭がん、下咽頭がんにより喉頭摘出術を受けた患者に対する携帯型嗅覚知覚装置の開発   \n",
       "4  grant.9685802       ja                     喉頭摘出者の食道発声トレーニングプログラムの構築と効果の検証   \n",
       "\n",
       "   start_date  start_year                                              title  \n",
       "0  2021-07-07        2021  Ecological psychology and enactivism in resear...  \n",
       "1  2021-04-05        2021  Reducing social isolation for adults with chro...  \n",
       "2  2021-04-01        2021  About the olfactory rehabilitation effect of l...  \n",
       "3  2021-04-01        2021  Development of a portable sensory sensory devi...  \n",
       "4  2021-04-01        2021  Construction and effectiveness verification of...  "
      ]
     },
     "execution_count": 5,
     "metadata": {},
     "output_type": "execute_result"
    }
   ],
   "source": [
    "%%dsldf\n",
    "search grants for \"laryngectomy\" \n",
    "return grants limit 5"
   ]
  },
  {
   "cell_type": "markdown",
   "metadata": {
    "Collapsed": "false"
   },
   "source": [
    "Eg let's see what are the *facets* available for the *grants* source:"
   ]
  },
  {
   "cell_type": "code",
   "execution_count": 6,
   "metadata": {
    "Collapsed": "false"
   },
   "outputs": [
    {
     "data": {
      "text/plain": [
       "['active_year',\n",
       " 'category_bra',\n",
       " 'category_for',\n",
       " 'category_hra',\n",
       " 'category_hrcs_hc',\n",
       " 'category_hrcs_rac',\n",
       " 'category_icrp_cso',\n",
       " 'category_icrp_ct',\n",
       " 'category_rcdc',\n",
       " 'category_sdg',\n",
       " 'category_uoa',\n",
       " 'funder_countries',\n",
       " 'funders',\n",
       " 'funding_currency',\n",
       " 'funding_org_acronym',\n",
       " 'funding_org_city',\n",
       " 'funding_org_name',\n",
       " 'language',\n",
       " 'language_title',\n",
       " 'research_org_cities',\n",
       " 'research_org_countries',\n",
       " 'research_org_state_codes',\n",
       " 'research_orgs',\n",
       " 'researchers',\n",
       " 'start_year']"
      ]
     },
     "execution_count": 6,
     "metadata": {},
     "output_type": "execute_result"
    }
   ],
   "source": [
    "fields = dsl.query(\"describe schema\")['sources']['grants']['fields']\n",
    "[x for x in fields if fields[x]['is_facet']]"
   ]
  },
  {
   "cell_type": "markdown",
   "metadata": {
    "Collapsed": "false",
    "toc-hr-collapsed": true,
    "toc-nb-collapsed": true
   },
   "source": [
    "## 2. Full-text Searching\n",
    "\n",
    "Full-text search or keyword search finds all instances of a term\n",
    "(keyword) in a document, or group of documents. \n",
    "\n",
    "Full text search works\n",
    "by using search indexes, which can be targeting specific sections of a\n",
    "document e.g. its $abstract$, $authors$, $full text$ etc..."
   ]
  },
  {
   "cell_type": "code",
   "execution_count": 7,
   "metadata": {
    "Collapsed": "false"
   },
   "outputs": [
    {
     "name": "stdout",
     "output_type": "stream",
     "text": [
      "Returned Publications: 5 (total = 198035)\n",
      "\u001b[2mTime: 1.71s\u001b[0m\n"
     ]
    },
    {
     "data": {
      "text/html": [
       "<div>\n",
       "<style scoped>\n",
       "    .dataframe tbody tr th:only-of-type {\n",
       "        vertical-align: middle;\n",
       "    }\n",
       "\n",
       "    .dataframe tbody tr th {\n",
       "        vertical-align: top;\n",
       "    }\n",
       "\n",
       "    .dataframe thead th {\n",
       "        text-align: right;\n",
       "    }\n",
       "</style>\n",
       "<table border=\"1\" class=\"dataframe\">\n",
       "  <thead>\n",
       "    <tr style=\"text-align: right;\">\n",
       "      <th></th>\n",
       "      <th>authors</th>\n",
       "      <th>id</th>\n",
       "      <th>pages</th>\n",
       "      <th>title</th>\n",
       "      <th>type</th>\n",
       "      <th>volume</th>\n",
       "      <th>year</th>\n",
       "      <th>journal.id</th>\n",
       "      <th>journal.title</th>\n",
       "      <th>issue</th>\n",
       "    </tr>\n",
       "  </thead>\n",
       "  <tbody>\n",
       "    <tr>\n",
       "      <th>0</th>\n",
       "      <td>[{'affiliations': [{'city': 'Noumea', 'city_id...</td>\n",
       "      <td>pub.1144582099</td>\n",
       "      <td>106194</td>\n",
       "      <td>Estimating post-release mortality of long-line...</td>\n",
       "      <td>article</td>\n",
       "      <td>249</td>\n",
       "      <td>2022</td>\n",
       "      <td>jour.1032122</td>\n",
       "      <td>Fisheries Research</td>\n",
       "      <td>NaN</td>\n",
       "    </tr>\n",
       "    <tr>\n",
       "      <th>1</th>\n",
       "      <td>[{'affiliations': [{'name': 'ESSEC Business Sc...</td>\n",
       "      <td>pub.1141367962</td>\n",
       "      <td>1-20</td>\n",
       "      <td>Optimization in Multimodal Freight Transportat...</td>\n",
       "      <td>article</td>\n",
       "      <td>299</td>\n",
       "      <td>2022</td>\n",
       "      <td>jour.1027009</td>\n",
       "      <td>European Journal of Operational Research</td>\n",
       "      <td>1</td>\n",
       "    </tr>\n",
       "    <tr>\n",
       "      <th>2</th>\n",
       "      <td>[{'affiliations': [{'city': 'Shanghai', 'city_...</td>\n",
       "      <td>pub.1144650554</td>\n",
       "      <td>106956</td>\n",
       "      <td>Constructing Highly Tribopositive Elastic Yarn...</td>\n",
       "      <td>article</td>\n",
       "      <td>94</td>\n",
       "      <td>2022</td>\n",
       "      <td>jour.1051417</td>\n",
       "      <td>Nano Energy</td>\n",
       "      <td>NaN</td>\n",
       "    </tr>\n",
       "    <tr>\n",
       "      <th>3</th>\n",
       "      <td>[{'affiliations': [{'city': 'Chengdu', 'city_i...</td>\n",
       "      <td>pub.1144554233</td>\n",
       "      <td>108783</td>\n",
       "      <td>Nonlinear vibration model and response charact...</td>\n",
       "      <td>article</td>\n",
       "      <td>169</td>\n",
       "      <td>2022</td>\n",
       "      <td>jour.1042338</td>\n",
       "      <td>Mechanical Systems and Signal Processing</td>\n",
       "      <td>NaN</td>\n",
       "    </tr>\n",
       "    <tr>\n",
       "      <th>4</th>\n",
       "      <td>[{'affiliations': [{'city': 'Evanston', 'city_...</td>\n",
       "      <td>pub.1144497595</td>\n",
       "      <td>550-563</td>\n",
       "      <td>A ranked solution for social media fact checki...</td>\n",
       "      <td>article</td>\n",
       "      <td>589</td>\n",
       "      <td>2022</td>\n",
       "      <td>jour.1119728</td>\n",
       "      <td>Information Sciences</td>\n",
       "      <td>NaN</td>\n",
       "    </tr>\n",
       "  </tbody>\n",
       "</table>\n",
       "</div>"
      ],
      "text/plain": [
       "                                             authors              id    pages  \\\n",
       "0  [{'affiliations': [{'city': 'Noumea', 'city_id...  pub.1144582099   106194   \n",
       "1  [{'affiliations': [{'name': 'ESSEC Business Sc...  pub.1141367962     1-20   \n",
       "2  [{'affiliations': [{'city': 'Shanghai', 'city_...  pub.1144650554   106956   \n",
       "3  [{'affiliations': [{'city': 'Chengdu', 'city_i...  pub.1144554233   108783   \n",
       "4  [{'affiliations': [{'city': 'Evanston', 'city_...  pub.1144497595  550-563   \n",
       "\n",
       "                                               title     type volume  year  \\\n",
       "0  Estimating post-release mortality of long-line...  article    249  2022   \n",
       "1  Optimization in Multimodal Freight Transportat...  article    299  2022   \n",
       "2  Constructing Highly Tribopositive Elastic Yarn...  article     94  2022   \n",
       "3  Nonlinear vibration model and response charact...  article    169  2022   \n",
       "4  A ranked solution for social media fact checki...  article    589  2022   \n",
       "\n",
       "     journal.id                             journal.title issue  \n",
       "0  jour.1032122                        Fisheries Research   NaN  \n",
       "1  jour.1027009  European Journal of Operational Research     1  \n",
       "2  jour.1051417                               Nano Energy   NaN  \n",
       "3  jour.1042338  Mechanical Systems and Signal Processing   NaN  \n",
       "4  jour.1119728                      Information Sciences   NaN  "
      ]
     },
     "execution_count": 7,
     "metadata": {},
     "output_type": "execute_result"
    }
   ],
   "source": [
    "%%dsldf \n",
    "search publications \n",
    "    in full_data for \"moon landing\" \n",
    "return publications limit 5"
   ]
  },
  {
   "cell_type": "markdown",
   "metadata": {
    "Collapsed": "true"
   },
   "source": [
    "### 2.1 `in [search index]`\n",
    "\n",
    "This optional phrase consists of the particle `in` followed by a term indicating a `search index`, specifying for example whether the search\n",
    "is limited to full text, title and abstract only, or title only. "
   ]
  },
  {
   "cell_type": "code",
   "execution_count": 8,
   "metadata": {
    "Collapsed": "false"
   },
   "outputs": [
    {
     "name": "stdout",
     "output_type": "stream",
     "text": [
      "Returned Grants: 5 (total = 11654)\n",
      "\u001b[2mTime: 0.53s\u001b[0m\n"
     ]
    },
    {
     "data": {
      "text/html": [
       "<div>\n",
       "<style scoped>\n",
       "    .dataframe tbody tr th:only-of-type {\n",
       "        vertical-align: middle;\n",
       "    }\n",
       "\n",
       "    .dataframe tbody tr th {\n",
       "        vertical-align: top;\n",
       "    }\n",
       "\n",
       "    .dataframe thead th {\n",
       "        text-align: right;\n",
       "    }\n",
       "</style>\n",
       "<table border=\"1\" class=\"dataframe\">\n",
       "  <thead>\n",
       "    <tr style=\"text-align: right;\">\n",
       "      <th></th>\n",
       "      <th>active_year</th>\n",
       "      <th>end_date</th>\n",
       "      <th>funders</th>\n",
       "      <th>funding_org_name</th>\n",
       "      <th>grant_number</th>\n",
       "      <th>id</th>\n",
       "      <th>language</th>\n",
       "      <th>original_title</th>\n",
       "      <th>start_date</th>\n",
       "      <th>start_year</th>\n",
       "      <th>title</th>\n",
       "    </tr>\n",
       "  </thead>\n",
       "  <tbody>\n",
       "    <tr>\n",
       "      <th>0</th>\n",
       "      <td>[2022, 2023, 2024]</td>\n",
       "      <td>2024-08-31</td>\n",
       "      <td>[{'acronym': 'EC', 'city_name': 'Brussels', 'c...</td>\n",
       "      <td>European Commission</td>\n",
       "      <td>101018408</td>\n",
       "      <td>grant.9662248</td>\n",
       "      <td>en</td>\n",
       "      <td>Conceptual Engineering, Inquiry and Communication</td>\n",
       "      <td>2022-09-01</td>\n",
       "      <td>2022</td>\n",
       "      <td>Conceptual Engineering, Inquiry and Communication</td>\n",
       "    </tr>\n",
       "    <tr>\n",
       "      <th>1</th>\n",
       "      <td>[2022, 2023, 2024]</td>\n",
       "      <td>2024-08-31</td>\n",
       "      <td>[{'acronym': 'EC', 'city_name': 'Brussels', 'c...</td>\n",
       "      <td>European Commission</td>\n",
       "      <td>101031970</td>\n",
       "      <td>grant.9652677</td>\n",
       "      <td>en</td>\n",
       "      <td>Molecular dynamics of size sensing at the sing...</td>\n",
       "      <td>2022-09-01</td>\n",
       "      <td>2022</td>\n",
       "      <td>Molecular dynamics of size sensing at the sing...</td>\n",
       "    </tr>\n",
       "    <tr>\n",
       "      <th>2</th>\n",
       "      <td>[2022, 2023, 2024, 2025]</td>\n",
       "      <td>2025-04-30</td>\n",
       "      <td>[{'acronym': 'EC', 'city_name': 'Brussels', 'c...</td>\n",
       "      <td>European Commission</td>\n",
       "      <td>101019008</td>\n",
       "      <td>grant.9662230</td>\n",
       "      <td>en</td>\n",
       "      <td>Yamatology of the Axis. Japan as a Nazi-Fascis...</td>\n",
       "      <td>2022-05-01</td>\n",
       "      <td>2022</td>\n",
       "      <td>Yamatology of the Axis. Japan as a Nazi-Fascis...</td>\n",
       "    </tr>\n",
       "    <tr>\n",
       "      <th>3</th>\n",
       "      <td>[2022]</td>\n",
       "      <td>2022-09-30</td>\n",
       "      <td>[{'acronym': 'SNF', 'city_name': 'Bern', 'coun...</td>\n",
       "      <td>Swiss National Science Foundation</td>\n",
       "      <td>205597</td>\n",
       "      <td>grant.9943737</td>\n",
       "      <td>en</td>\n",
       "      <td>Innovation performance and knowledge spillover...</td>\n",
       "      <td>2022-04-01</td>\n",
       "      <td>2022</td>\n",
       "      <td>Innovation performance and knowledge spillover...</td>\n",
       "    </tr>\n",
       "    <tr>\n",
       "      <th>4</th>\n",
       "      <td>[2022, 2023, 2024]</td>\n",
       "      <td>2024-12-31</td>\n",
       "      <td>[{'acronym': 'EPSRC', 'city_name': 'Swindon', ...</td>\n",
       "      <td>Engineering and Physical Sciences Research Cou...</td>\n",
       "      <td>EP/W002817/1</td>\n",
       "      <td>grant.9944524</td>\n",
       "      <td>en</td>\n",
       "      <td>The Farey framework for SL2-tilings</td>\n",
       "      <td>2022-01-01</td>\n",
       "      <td>2022</td>\n",
       "      <td>The Farey framework for SL2-tilings</td>\n",
       "    </tr>\n",
       "  </tbody>\n",
       "</table>\n",
       "</div>"
      ],
      "text/plain": [
       "                active_year    end_date  \\\n",
       "0        [2022, 2023, 2024]  2024-08-31   \n",
       "1        [2022, 2023, 2024]  2024-08-31   \n",
       "2  [2022, 2023, 2024, 2025]  2025-04-30   \n",
       "3                    [2022]  2022-09-30   \n",
       "4        [2022, 2023, 2024]  2024-12-31   \n",
       "\n",
       "                                             funders  \\\n",
       "0  [{'acronym': 'EC', 'city_name': 'Brussels', 'c...   \n",
       "1  [{'acronym': 'EC', 'city_name': 'Brussels', 'c...   \n",
       "2  [{'acronym': 'EC', 'city_name': 'Brussels', 'c...   \n",
       "3  [{'acronym': 'SNF', 'city_name': 'Bern', 'coun...   \n",
       "4  [{'acronym': 'EPSRC', 'city_name': 'Swindon', ...   \n",
       "\n",
       "                                    funding_org_name  grant_number  \\\n",
       "0                                European Commission     101018408   \n",
       "1                                European Commission     101031970   \n",
       "2                                European Commission     101019008   \n",
       "3                  Swiss National Science Foundation        205597   \n",
       "4  Engineering and Physical Sciences Research Cou...  EP/W002817/1   \n",
       "\n",
       "              id language                                     original_title  \\\n",
       "0  grant.9662248       en  Conceptual Engineering, Inquiry and Communication   \n",
       "1  grant.9652677       en  Molecular dynamics of size sensing at the sing...   \n",
       "2  grant.9662230       en  Yamatology of the Axis. Japan as a Nazi-Fascis...   \n",
       "3  grant.9943737       en  Innovation performance and knowledge spillover...   \n",
       "4  grant.9944524       en                The Farey framework for SL2-tilings   \n",
       "\n",
       "   start_date  start_year                                              title  \n",
       "0  2022-09-01        2022  Conceptual Engineering, Inquiry and Communication  \n",
       "1  2022-09-01        2022  Molecular dynamics of size sensing at the sing...  \n",
       "2  2022-05-01        2022  Yamatology of the Axis. Japan as a Nazi-Fascis...  \n",
       "3  2022-04-01        2022  Innovation performance and knowledge spillover...  \n",
       "4  2022-01-01        2022                The Farey framework for SL2-tilings  "
      ]
     },
     "execution_count": 8,
     "metadata": {},
     "output_type": "execute_result"
    }
   ],
   "source": [
    "%%dsldf \n",
    "search grants \n",
    "    in title_abstract_only for \"something\" \n",
    "return grants limit 5"
   ]
  },
  {
   "cell_type": "markdown",
   "metadata": {
    "Collapsed": "false"
   },
   "source": [
    "Eg let's see what are the *search fields* available for the *grants* source:"
   ]
  },
  {
   "cell_type": "code",
   "execution_count": 9,
   "metadata": {
    "Collapsed": "false"
   },
   "outputs": [
    {
     "data": {
      "text/plain": [
       "['full_data', 'concepts', 'investigators', 'title_abstract_only', 'title_only']"
      ]
     },
     "execution_count": 9,
     "metadata": {},
     "output_type": "execute_result"
    }
   ],
   "source": [
    "dsl.query(\"describe schema\")['sources']['grants']['search_fields']"
   ]
  },
  {
   "cell_type": "code",
   "execution_count": 10,
   "metadata": {
    "Collapsed": "false"
   },
   "outputs": [
    {
     "name": "stdout",
     "output_type": "stream",
     "text": [
      "Returned Grants: 5 (total = 13)\n",
      "\u001b[2mTime: 1.99s\u001b[0m\n"
     ]
    },
    {
     "data": {
      "text/html": [
       "<div>\n",
       "<style scoped>\n",
       "    .dataframe tbody tr th:only-of-type {\n",
       "        vertical-align: middle;\n",
       "    }\n",
       "\n",
       "    .dataframe tbody tr th {\n",
       "        vertical-align: top;\n",
       "    }\n",
       "\n",
       "    .dataframe thead th {\n",
       "        text-align: right;\n",
       "    }\n",
       "</style>\n",
       "<table border=\"1\" class=\"dataframe\">\n",
       "  <thead>\n",
       "    <tr style=\"text-align: right;\">\n",
       "      <th></th>\n",
       "      <th>active_year</th>\n",
       "      <th>end_date</th>\n",
       "      <th>funders</th>\n",
       "      <th>funding_org_name</th>\n",
       "      <th>grant_number</th>\n",
       "      <th>id</th>\n",
       "      <th>language</th>\n",
       "      <th>original_title</th>\n",
       "      <th>start_date</th>\n",
       "      <th>start_year</th>\n",
       "      <th>title</th>\n",
       "    </tr>\n",
       "  </thead>\n",
       "  <tbody>\n",
       "    <tr>\n",
       "      <th>0</th>\n",
       "      <td>[2020, 2021]</td>\n",
       "      <td>2021-03-31</td>\n",
       "      <td>[{'acronym': 'NSERC', 'city_name': 'Ottawa', '...</td>\n",
       "      <td>Natural Sciences and Engineering Research Council</td>\n",
       "      <td>N/A</td>\n",
       "      <td>grant.9873234</td>\n",
       "      <td>en</td>\n",
       "      <td>Phase transitions in two-dimensional ultrathin...</td>\n",
       "      <td>2020-04-01</td>\n",
       "      <td>2020</td>\n",
       "      <td>Phase transitions in two-dimensional ultrathin...</td>\n",
       "    </tr>\n",
       "    <tr>\n",
       "      <th>1</th>\n",
       "      <td>[2019, 2020]</td>\n",
       "      <td>2020-03-31</td>\n",
       "      <td>[{'acronym': 'NSERC', 'city_name': 'Ottawa', '...</td>\n",
       "      <td>Natural Sciences and Engineering Research Council</td>\n",
       "      <td>N/A</td>\n",
       "      <td>grant.9445377</td>\n",
       "      <td>en</td>\n",
       "      <td>Phase transitions in two-dimensional ultrathin...</td>\n",
       "      <td>2019-04-01</td>\n",
       "      <td>2019</td>\n",
       "      <td>Phase transitions in two-dimensional ultrathin...</td>\n",
       "    </tr>\n",
       "    <tr>\n",
       "      <th>2</th>\n",
       "      <td>[2019, 2020, 2021]</td>\n",
       "      <td>2021-12-31</td>\n",
       "      <td>[{'acronym': 'RSF', 'city_name': 'Moscow', 'co...</td>\n",
       "      <td>Russian Science Foundation</td>\n",
       "      <td>19-43-04129</td>\n",
       "      <td>grant.8413990</td>\n",
       "      <td>en</td>\n",
       "      <td>Weyl and Dirac semimetals and beyond - predict...</td>\n",
       "      <td>2019-01-01</td>\n",
       "      <td>2019</td>\n",
       "      <td>Weyl and Dirac semimetals and beyond - predict...</td>\n",
       "    </tr>\n",
       "    <tr>\n",
       "      <th>3</th>\n",
       "      <td>[2018]</td>\n",
       "      <td>2018-12-31</td>\n",
       "      <td>[{'acronym': 'RFBR', 'city_name': 'Moscow', 'c...</td>\n",
       "      <td>Russian Foundation for Basic Research</td>\n",
       "      <td>18-02-20097</td>\n",
       "      <td>grant.8731867</td>\n",
       "      <td>ru</td>\n",
       "      <td>Проект организации 18-ой Международной конфере...</td>\n",
       "      <td>2018-01-01</td>\n",
       "      <td>2018</td>\n",
       "      <td>Project of the organization of the 18th Intern...</td>\n",
       "    </tr>\n",
       "    <tr>\n",
       "      <th>4</th>\n",
       "      <td>[2016]</td>\n",
       "      <td>2016-12-31</td>\n",
       "      <td>[{'acronym': 'MNiSW', 'city_name': 'Warsaw', '...</td>\n",
       "      <td>Ministry of Science and Higher Education</td>\n",
       "      <td>4491/E-370/S/2016</td>\n",
       "      <td>grant.7397800</td>\n",
       "      <td>pl</td>\n",
       "      <td>Dotacja podmiotowa na utrzymanie potencjału ba...</td>\n",
       "      <td>2016-02-22</td>\n",
       "      <td>2016</td>\n",
       "      <td>Subject subsidy for maintaining the research p...</td>\n",
       "    </tr>\n",
       "  </tbody>\n",
       "</table>\n",
       "</div>"
      ],
      "text/plain": [
       "          active_year    end_date  \\\n",
       "0        [2020, 2021]  2021-03-31   \n",
       "1        [2019, 2020]  2020-03-31   \n",
       "2  [2019, 2020, 2021]  2021-12-31   \n",
       "3              [2018]  2018-12-31   \n",
       "4              [2016]  2016-12-31   \n",
       "\n",
       "                                             funders  \\\n",
       "0  [{'acronym': 'NSERC', 'city_name': 'Ottawa', '...   \n",
       "1  [{'acronym': 'NSERC', 'city_name': 'Ottawa', '...   \n",
       "2  [{'acronym': 'RSF', 'city_name': 'Moscow', 'co...   \n",
       "3  [{'acronym': 'RFBR', 'city_name': 'Moscow', 'c...   \n",
       "4  [{'acronym': 'MNiSW', 'city_name': 'Warsaw', '...   \n",
       "\n",
       "                                    funding_org_name       grant_number  \\\n",
       "0  Natural Sciences and Engineering Research Council                N/A   \n",
       "1  Natural Sciences and Engineering Research Council                N/A   \n",
       "2                         Russian Science Foundation        19-43-04129   \n",
       "3              Russian Foundation for Basic Research        18-02-20097   \n",
       "4           Ministry of Science and Higher Education  4491/E-370/S/2016   \n",
       "\n",
       "              id language                                     original_title  \\\n",
       "0  grant.9873234       en  Phase transitions in two-dimensional ultrathin...   \n",
       "1  grant.9445377       en  Phase transitions in two-dimensional ultrathin...   \n",
       "2  grant.8413990       en  Weyl and Dirac semimetals and beyond - predict...   \n",
       "3  grant.8731867       ru  Проект организации 18-ой Международной конфере...   \n",
       "4  grant.7397800       pl  Dotacja podmiotowa na utrzymanie potencjału ba...   \n",
       "\n",
       "   start_date  start_year                                              title  \n",
       "0  2020-04-01        2020  Phase transitions in two-dimensional ultrathin...  \n",
       "1  2019-04-01        2019  Phase transitions in two-dimensional ultrathin...  \n",
       "2  2019-01-01        2019  Weyl and Dirac semimetals and beyond - predict...  \n",
       "3  2018-01-01        2018  Project of the organization of the 18th Intern...  \n",
       "4  2016-02-22        2016  Subject subsidy for maintaining the research p...  "
      ]
     },
     "execution_count": 10,
     "metadata": {},
     "output_type": "execute_result"
    }
   ],
   "source": [
    "%%dsldf \n",
    "search grants \n",
    "    in full_data for \"graphene AND computer AND iron\" \n",
    "return grants limit 5"
   ]
  },
  {
   "cell_type": "markdown",
   "metadata": {
    "Collapsed": "false"
   },
   "source": [
    "Special search indexes for persons names permit to perform full text\n",
    "searches on publications `authors` or grants `investigators`. Please see the\n",
    "*Researchers Search* section below for more information\n",
    "on how searches work in this case."
   ]
  },
  {
   "cell_type": "code",
   "execution_count": 11,
   "metadata": {
    "Collapsed": "false"
   },
   "outputs": [
    {
     "name": "stdout",
     "output_type": "stream",
     "text": [
      "Returned Publications: 5 (total = 387)\n",
      "\u001b[2mTime: 1.17s\u001b[0m\n"
     ]
    },
    {
     "data": {
      "text/html": [
       "<div>\n",
       "<style scoped>\n",
       "    .dataframe tbody tr th:only-of-type {\n",
       "        vertical-align: middle;\n",
       "    }\n",
       "\n",
       "    .dataframe tbody tr th {\n",
       "        vertical-align: top;\n",
       "    }\n",
       "\n",
       "    .dataframe thead th {\n",
       "        text-align: right;\n",
       "    }\n",
       "</style>\n",
       "<table border=\"1\" class=\"dataframe\">\n",
       "  <thead>\n",
       "    <tr style=\"text-align: right;\">\n",
       "      <th></th>\n",
       "      <th>authors</th>\n",
       "      <th>id</th>\n",
       "      <th>pages</th>\n",
       "      <th>title</th>\n",
       "      <th>type</th>\n",
       "      <th>year</th>\n",
       "      <th>journal.id</th>\n",
       "      <th>journal.title</th>\n",
       "      <th>issue</th>\n",
       "      <th>volume</th>\n",
       "    </tr>\n",
       "  </thead>\n",
       "  <tbody>\n",
       "    <tr>\n",
       "      <th>0</th>\n",
       "      <td>[{'affiliations': [{'city': 'San Francisco', '...</td>\n",
       "      <td>pub.1144086202</td>\n",
       "      <td>2021.12.20.21268048</td>\n",
       "      <td>Omicron mutations enhance infectivity and redu...</td>\n",
       "      <td>preprint</td>\n",
       "      <td>2021</td>\n",
       "      <td>jour.1369542</td>\n",
       "      <td>medRxiv</td>\n",
       "      <td>NaN</td>\n",
       "      <td>NaN</td>\n",
       "    </tr>\n",
       "    <tr>\n",
       "      <th>1</th>\n",
       "      <td>[{'affiliations': [{'city': 'Berkeley', 'city_...</td>\n",
       "      <td>pub.1143670587</td>\n",
       "      <td>2021.12.06.471469</td>\n",
       "      <td>A naturally DNase-free CRISPR-Cas12c enzyme si...</td>\n",
       "      <td>preprint</td>\n",
       "      <td>2021</td>\n",
       "      <td>jour.1293558</td>\n",
       "      <td>bioRxiv</td>\n",
       "      <td>NaN</td>\n",
       "      <td>NaN</td>\n",
       "    </tr>\n",
       "    <tr>\n",
       "      <th>2</th>\n",
       "      <td>[{'affiliations': [{'city': 'Berkeley', 'city_...</td>\n",
       "      <td>pub.1143662570</td>\n",
       "      <td>34-47</td>\n",
       "      <td>Species- and site-specific genome editing in c...</td>\n",
       "      <td>article</td>\n",
       "      <td>2021</td>\n",
       "      <td>jour.1052984</td>\n",
       "      <td>Nature Microbiology</td>\n",
       "      <td>1</td>\n",
       "      <td>7</td>\n",
       "    </tr>\n",
       "    <tr>\n",
       "      <th>3</th>\n",
       "      <td>[{'affiliations': [{'city': 'Berkeley', 'city_...</td>\n",
       "      <td>pub.1142569174</td>\n",
       "      <td>100527-100527</td>\n",
       "      <td>Optimizing COVID-19 control with asymptomatic ...</td>\n",
       "      <td>article</td>\n",
       "      <td>2021</td>\n",
       "      <td>jour.1040589</td>\n",
       "      <td>Epidemics</td>\n",
       "      <td>NaN</td>\n",
       "      <td>37</td>\n",
       "    </tr>\n",
       "    <tr>\n",
       "      <th>4</th>\n",
       "      <td>[{'affiliations': [{'city': 'Berkeley', 'city_...</td>\n",
       "      <td>pub.1142452381</td>\n",
       "      <td>e0258263</td>\n",
       "      <td>LuNER: Multiplexed SARS-CoV-2 detection in cli...</td>\n",
       "      <td>article</td>\n",
       "      <td>2021</td>\n",
       "      <td>jour.1037553</td>\n",
       "      <td>PLOS ONE</td>\n",
       "      <td>11</td>\n",
       "      <td>16</td>\n",
       "    </tr>\n",
       "  </tbody>\n",
       "</table>\n",
       "</div>"
      ],
      "text/plain": [
       "                                             authors              id  \\\n",
       "0  [{'affiliations': [{'city': 'San Francisco', '...  pub.1144086202   \n",
       "1  [{'affiliations': [{'city': 'Berkeley', 'city_...  pub.1143670587   \n",
       "2  [{'affiliations': [{'city': 'Berkeley', 'city_...  pub.1143662570   \n",
       "3  [{'affiliations': [{'city': 'Berkeley', 'city_...  pub.1142569174   \n",
       "4  [{'affiliations': [{'city': 'Berkeley', 'city_...  pub.1142452381   \n",
       "\n",
       "                 pages                                              title  \\\n",
       "0  2021.12.20.21268048  Omicron mutations enhance infectivity and redu...   \n",
       "1    2021.12.06.471469  A naturally DNase-free CRISPR-Cas12c enzyme si...   \n",
       "2                34-47  Species- and site-specific genome editing in c...   \n",
       "3        100527-100527  Optimizing COVID-19 control with asymptomatic ...   \n",
       "4             e0258263  LuNER: Multiplexed SARS-CoV-2 detection in cli...   \n",
       "\n",
       "       type  year    journal.id        journal.title issue volume  \n",
       "0  preprint  2021  jour.1369542              medRxiv   NaN    NaN  \n",
       "1  preprint  2021  jour.1293558              bioRxiv   NaN    NaN  \n",
       "2   article  2021  jour.1052984  Nature Microbiology     1      7  \n",
       "3   article  2021  jour.1040589            Epidemics   NaN     37  \n",
       "4   article  2021  jour.1037553             PLOS ONE    11     16  "
      ]
     },
     "execution_count": 11,
     "metadata": {},
     "output_type": "execute_result"
    }
   ],
   "source": [
    "%dsldf search publications in authors for \"\\\"Jennifer A Doudna\\\"\" return publications limit 5"
   ]
  },
  {
   "cell_type": "markdown",
   "metadata": {
    "Collapsed": "false"
   },
   "source": [
    "### 2.2 `for \"search term\"`\n",
    "\n",
    "This optional phrase consists of the keyword `for` followed by a\n",
    "`search term` `string`, enclosed in double quotes (`\"`)."
   ]
  },
  {
   "cell_type": "markdown",
   "metadata": {
    "Collapsed": "false"
   },
   "source": [
    "Strings in double quotes can contain nested quotes escaped by a\n",
    "backslash `\\`. This will ensure that the string in nested double quotes\n",
    "is searched for as if it was a single phrase, not multiple words.\n",
    "\n",
    "An example of a phrase: `\"\\\"Machine Learning\\\"\"` : results must contain\n",
    "`Machine Learning` as a phrase."
   ]
  },
  {
   "cell_type": "code",
   "execution_count": 12,
   "metadata": {
    "Collapsed": "false"
   },
   "outputs": [
    {
     "name": "stdout",
     "output_type": "stream",
     "text": [
      "Returned Publications: 5 (total = 1746971)\n",
      "\u001b[2mTime: 1.94s\u001b[0m\n"
     ]
    },
    {
     "data": {
      "text/html": [
       "<div>\n",
       "<style scoped>\n",
       "    .dataframe tbody tr th:only-of-type {\n",
       "        vertical-align: middle;\n",
       "    }\n",
       "\n",
       "    .dataframe tbody tr th {\n",
       "        vertical-align: top;\n",
       "    }\n",
       "\n",
       "    .dataframe thead th {\n",
       "        text-align: right;\n",
       "    }\n",
       "</style>\n",
       "<table border=\"1\" class=\"dataframe\">\n",
       "  <thead>\n",
       "    <tr style=\"text-align: right;\">\n",
       "      <th></th>\n",
       "      <th>authors</th>\n",
       "      <th>id</th>\n",
       "      <th>issue</th>\n",
       "      <th>pages</th>\n",
       "      <th>title</th>\n",
       "      <th>type</th>\n",
       "      <th>volume</th>\n",
       "      <th>year</th>\n",
       "      <th>journal.id</th>\n",
       "      <th>journal.title</th>\n",
       "    </tr>\n",
       "  </thead>\n",
       "  <tbody>\n",
       "    <tr>\n",
       "      <th>0</th>\n",
       "      <td>[{'affiliations': [{'city': 'Barcelona', 'city...</td>\n",
       "      <td>pub.1141731106</td>\n",
       "      <td>9</td>\n",
       "      <td>1-38</td>\n",
       "      <td>Computing Graph Neural Networks: A Survey from...</td>\n",
       "      <td>article</td>\n",
       "      <td>54</td>\n",
       "      <td>2022</td>\n",
       "      <td>jour.1119907</td>\n",
       "      <td>ACM Computing Surveys</td>\n",
       "    </tr>\n",
       "    <tr>\n",
       "      <th>1</th>\n",
       "      <td>[{'affiliations': [{'city': 'Barcelona', 'city...</td>\n",
       "      <td>pub.1141731105</td>\n",
       "      <td>9</td>\n",
       "      <td>1-35</td>\n",
       "      <td>A Survey on Uncertainty Estimation in Deep Lea...</td>\n",
       "      <td>article</td>\n",
       "      <td>54</td>\n",
       "      <td>2022</td>\n",
       "      <td>jour.1119907</td>\n",
       "      <td>ACM Computing Surveys</td>\n",
       "    </tr>\n",
       "    <tr>\n",
       "      <th>2</th>\n",
       "      <td>[{'affiliations': [{'city': 'Pittsburgh', 'cit...</td>\n",
       "      <td>pub.1141731091</td>\n",
       "      <td>9</td>\n",
       "      <td>1-36</td>\n",
       "      <td>A Survey on Data-driven Network Intrusion Dete...</td>\n",
       "      <td>article</td>\n",
       "      <td>54</td>\n",
       "      <td>2022</td>\n",
       "      <td>jour.1119907</td>\n",
       "      <td>ACM Computing Surveys</td>\n",
       "    </tr>\n",
       "    <tr>\n",
       "      <th>3</th>\n",
       "      <td>[{'affiliations': [{'city': \"Xi'an\", 'city_id'...</td>\n",
       "      <td>pub.1141731088</td>\n",
       "      <td>9</td>\n",
       "      <td>1-40</td>\n",
       "      <td>A Survey of Deep Active Learning</td>\n",
       "      <td>article</td>\n",
       "      <td>54</td>\n",
       "      <td>2022</td>\n",
       "      <td>jour.1119907</td>\n",
       "      <td>ACM Computing Surveys</td>\n",
       "    </tr>\n",
       "    <tr>\n",
       "      <th>4</th>\n",
       "      <td>[{'affiliations': [{'city': 'Kuwait City', 'ci...</td>\n",
       "      <td>pub.1141731057</td>\n",
       "      <td>9</td>\n",
       "      <td>1-35</td>\n",
       "      <td>Design Guidelines for Cooperative UAV-supporte...</td>\n",
       "      <td>article</td>\n",
       "      <td>54</td>\n",
       "      <td>2022</td>\n",
       "      <td>jour.1119907</td>\n",
       "      <td>ACM Computing Surveys</td>\n",
       "    </tr>\n",
       "  </tbody>\n",
       "</table>\n",
       "</div>"
      ],
      "text/plain": [
       "                                             authors              id issue  \\\n",
       "0  [{'affiliations': [{'city': 'Barcelona', 'city...  pub.1141731106     9   \n",
       "1  [{'affiliations': [{'city': 'Barcelona', 'city...  pub.1141731105     9   \n",
       "2  [{'affiliations': [{'city': 'Pittsburgh', 'cit...  pub.1141731091     9   \n",
       "3  [{'affiliations': [{'city': \"Xi'an\", 'city_id'...  pub.1141731088     9   \n",
       "4  [{'affiliations': [{'city': 'Kuwait City', 'ci...  pub.1141731057     9   \n",
       "\n",
       "  pages                                              title     type volume  \\\n",
       "0  1-38  Computing Graph Neural Networks: A Survey from...  article     54   \n",
       "1  1-35  A Survey on Uncertainty Estimation in Deep Lea...  article     54   \n",
       "2  1-36  A Survey on Data-driven Network Intrusion Dete...  article     54   \n",
       "3  1-40                   A Survey of Deep Active Learning  article     54   \n",
       "4  1-35  Design Guidelines for Cooperative UAV-supporte...  article     54   \n",
       "\n",
       "   year    journal.id          journal.title  \n",
       "0  2022  jour.1119907  ACM Computing Surveys  \n",
       "1  2022  jour.1119907  ACM Computing Surveys  \n",
       "2  2022  jour.1119907  ACM Computing Surveys  \n",
       "3  2022  jour.1119907  ACM Computing Surveys  \n",
       "4  2022  jour.1119907  ACM Computing Surveys  "
      ]
     },
     "execution_count": 12,
     "metadata": {},
     "output_type": "execute_result"
    }
   ],
   "source": [
    "%dsldf search publications for \"\\\"Machine Learning\\\"\" return publications limit 5"
   ]
  },
  {
   "cell_type": "markdown",
   "metadata": {
    "Collapsed": "false"
   },
   "source": [
    "Example of multiple keywords: `\"Machine Learning\"` : this searches for\n",
    "keywords independently."
   ]
  },
  {
   "cell_type": "code",
   "execution_count": 13,
   "metadata": {
    "Collapsed": "false"
   },
   "outputs": [
    {
     "name": "stdout",
     "output_type": "stream",
     "text": [
      "Returned Publications: 5 (total = 3294893)\n",
      "\u001b[2mTime: 3.26s\u001b[0m\n"
     ]
    },
    {
     "data": {
      "text/html": [
       "<div>\n",
       "<style scoped>\n",
       "    .dataframe tbody tr th:only-of-type {\n",
       "        vertical-align: middle;\n",
       "    }\n",
       "\n",
       "    .dataframe tbody tr th {\n",
       "        vertical-align: top;\n",
       "    }\n",
       "\n",
       "    .dataframe thead th {\n",
       "        text-align: right;\n",
       "    }\n",
       "</style>\n",
       "<table border=\"1\" class=\"dataframe\">\n",
       "  <thead>\n",
       "    <tr style=\"text-align: right;\">\n",
       "      <th></th>\n",
       "      <th>authors</th>\n",
       "      <th>id</th>\n",
       "      <th>issue</th>\n",
       "      <th>pages</th>\n",
       "      <th>title</th>\n",
       "      <th>type</th>\n",
       "      <th>volume</th>\n",
       "      <th>year</th>\n",
       "      <th>journal.id</th>\n",
       "      <th>journal.title</th>\n",
       "    </tr>\n",
       "  </thead>\n",
       "  <tbody>\n",
       "    <tr>\n",
       "      <th>0</th>\n",
       "      <td>[{'affiliations': [{'city': 'Barcelona', 'city...</td>\n",
       "      <td>pub.1141731106</td>\n",
       "      <td>9</td>\n",
       "      <td>1-38</td>\n",
       "      <td>Computing Graph Neural Networks: A Survey from...</td>\n",
       "      <td>article</td>\n",
       "      <td>54</td>\n",
       "      <td>2022</td>\n",
       "      <td>jour.1119907</td>\n",
       "      <td>ACM Computing Surveys</td>\n",
       "    </tr>\n",
       "    <tr>\n",
       "      <th>1</th>\n",
       "      <td>[{'affiliations': [{'city': 'Barcelona', 'city...</td>\n",
       "      <td>pub.1141731105</td>\n",
       "      <td>9</td>\n",
       "      <td>1-35</td>\n",
       "      <td>A Survey on Uncertainty Estimation in Deep Lea...</td>\n",
       "      <td>article</td>\n",
       "      <td>54</td>\n",
       "      <td>2022</td>\n",
       "      <td>jour.1119907</td>\n",
       "      <td>ACM Computing Surveys</td>\n",
       "    </tr>\n",
       "    <tr>\n",
       "      <th>2</th>\n",
       "      <td>[{'affiliations': [{'city': 'Pittsburgh', 'cit...</td>\n",
       "      <td>pub.1141731091</td>\n",
       "      <td>9</td>\n",
       "      <td>1-36</td>\n",
       "      <td>A Survey on Data-driven Network Intrusion Dete...</td>\n",
       "      <td>article</td>\n",
       "      <td>54</td>\n",
       "      <td>2022</td>\n",
       "      <td>jour.1119907</td>\n",
       "      <td>ACM Computing Surveys</td>\n",
       "    </tr>\n",
       "    <tr>\n",
       "      <th>3</th>\n",
       "      <td>[{'affiliations': [{'city': \"Xi'an\", 'city_id'...</td>\n",
       "      <td>pub.1141731088</td>\n",
       "      <td>9</td>\n",
       "      <td>1-40</td>\n",
       "      <td>A Survey of Deep Active Learning</td>\n",
       "      <td>article</td>\n",
       "      <td>54</td>\n",
       "      <td>2022</td>\n",
       "      <td>jour.1119907</td>\n",
       "      <td>ACM Computing Surveys</td>\n",
       "    </tr>\n",
       "    <tr>\n",
       "      <th>4</th>\n",
       "      <td>[{'affiliations': [{'city': 'Kuwait City', 'ci...</td>\n",
       "      <td>pub.1141731057</td>\n",
       "      <td>9</td>\n",
       "      <td>1-35</td>\n",
       "      <td>Design Guidelines for Cooperative UAV-supporte...</td>\n",
       "      <td>article</td>\n",
       "      <td>54</td>\n",
       "      <td>2022</td>\n",
       "      <td>jour.1119907</td>\n",
       "      <td>ACM Computing Surveys</td>\n",
       "    </tr>\n",
       "  </tbody>\n",
       "</table>\n",
       "</div>"
      ],
      "text/plain": [
       "                                             authors              id issue  \\\n",
       "0  [{'affiliations': [{'city': 'Barcelona', 'city...  pub.1141731106     9   \n",
       "1  [{'affiliations': [{'city': 'Barcelona', 'city...  pub.1141731105     9   \n",
       "2  [{'affiliations': [{'city': 'Pittsburgh', 'cit...  pub.1141731091     9   \n",
       "3  [{'affiliations': [{'city': \"Xi'an\", 'city_id'...  pub.1141731088     9   \n",
       "4  [{'affiliations': [{'city': 'Kuwait City', 'ci...  pub.1141731057     9   \n",
       "\n",
       "  pages                                              title     type volume  \\\n",
       "0  1-38  Computing Graph Neural Networks: A Survey from...  article     54   \n",
       "1  1-35  A Survey on Uncertainty Estimation in Deep Lea...  article     54   \n",
       "2  1-36  A Survey on Data-driven Network Intrusion Dete...  article     54   \n",
       "3  1-40                   A Survey of Deep Active Learning  article     54   \n",
       "4  1-35  Design Guidelines for Cooperative UAV-supporte...  article     54   \n",
       "\n",
       "   year    journal.id          journal.title  \n",
       "0  2022  jour.1119907  ACM Computing Surveys  \n",
       "1  2022  jour.1119907  ACM Computing Surveys  \n",
       "2  2022  jour.1119907  ACM Computing Surveys  \n",
       "3  2022  jour.1119907  ACM Computing Surveys  \n",
       "4  2022  jour.1119907  ACM Computing Surveys  "
      ]
     },
     "execution_count": 13,
     "metadata": {},
     "output_type": "execute_result"
    }
   ],
   "source": [
    "%dsldf search publications for \"Machine Learning\" return publications limit 5"
   ]
  },
  {
   "cell_type": "markdown",
   "metadata": {
    "Collapsed": "false"
   },
   "source": [
    "Note: Special characters, such as any of `^ \" : ~ \\ [ ] { } ( ) ! | & +` must be escaped by a backslash `\\`. Also, please note escaping rules in\n",
    "[Python](http://python-reference.readthedocs.io/en/latest/docs/str/escapes.html) (or other languages). For example, when writing a query with escaped quotes, such as `search publications for \"\\\"phrase 1\\\" AND \\\"phrase 2\\\"\"`, in Python, it is necessary to escape the backslashes as well, so it\n",
    "would look like: `'search publications for \"\\\\\"phrase 1\\\\\" AND \\\\\"phrase 2\\\\\"\"'`. \n",
    "\n",
    "See the [official docs](https://docs.dimensions.ai/dsl/language.html#for-search-term) for more details."
   ]
  },
  {
   "cell_type": "markdown",
   "metadata": {
    "Collapsed": "false"
   },
   "source": [
    "### 2.3 Boolean Operators\n",
    "\n",
    "Search term can consist of multiple keywords or phrases connected using\n",
    "boolean logic operators, e.g. `AND`, `OR` and `NOT`."
   ]
  },
  {
   "cell_type": "code",
   "execution_count": 14,
   "metadata": {
    "Collapsed": "false"
   },
   "outputs": [
    {
     "name": "stdout",
     "output_type": "stream",
     "text": [
      "Returned Publications: 5 (total = 6047799)\n",
      "\u001b[2mTime: 2.00s\u001b[0m\n"
     ]
    },
    {
     "data": {
      "text/html": [
       "<div>\n",
       "<style scoped>\n",
       "    .dataframe tbody tr th:only-of-type {\n",
       "        vertical-align: middle;\n",
       "    }\n",
       "\n",
       "    .dataframe tbody tr th {\n",
       "        vertical-align: top;\n",
       "    }\n",
       "\n",
       "    .dataframe thead th {\n",
       "        text-align: right;\n",
       "    }\n",
       "</style>\n",
       "<table border=\"1\" class=\"dataframe\">\n",
       "  <thead>\n",
       "    <tr style=\"text-align: right;\">\n",
       "      <th></th>\n",
       "      <th>authors</th>\n",
       "      <th>id</th>\n",
       "      <th>pages</th>\n",
       "      <th>title</th>\n",
       "      <th>type</th>\n",
       "      <th>year</th>\n",
       "      <th>journal.id</th>\n",
       "      <th>journal.title</th>\n",
       "      <th>volume</th>\n",
       "    </tr>\n",
       "  </thead>\n",
       "  <tbody>\n",
       "    <tr>\n",
       "      <th>0</th>\n",
       "      <td>[{'affiliations': [{'city': 'Davangere', 'city...</td>\n",
       "      <td>pub.1143861372</td>\n",
       "      <td>1-14</td>\n",
       "      <td>Screening of Antibacterial and Antioxidant Act...</td>\n",
       "      <td>article</td>\n",
       "      <td>2022</td>\n",
       "      <td>jour.1047355</td>\n",
       "      <td>BioNanoScience</td>\n",
       "      <td>NaN</td>\n",
       "    </tr>\n",
       "    <tr>\n",
       "      <th>1</th>\n",
       "      <td>[{'affiliations': [{'city': 'Pune', 'city_id':...</td>\n",
       "      <td>pub.1144548884</td>\n",
       "      <td>17-22</td>\n",
       "      <td>Daily oral Vitamin D3 without concomitant ther...</td>\n",
       "      <td>article</td>\n",
       "      <td>2022</td>\n",
       "      <td>NaN</td>\n",
       "      <td>NaN</td>\n",
       "      <td>2</td>\n",
       "    </tr>\n",
       "    <tr>\n",
       "      <th>2</th>\n",
       "      <td>[{'affiliations': [{'city': 'Jatobá', 'city_id...</td>\n",
       "      <td>pub.1144546526</td>\n",
       "      <td>100051</td>\n",
       "      <td>Nutritional feed additives reduce the adverse ...</td>\n",
       "      <td>article</td>\n",
       "      <td>2022</td>\n",
       "      <td>jour.1400582</td>\n",
       "      <td>Fish and Shellfish Immunology Reports</td>\n",
       "      <td>3</td>\n",
       "    </tr>\n",
       "    <tr>\n",
       "      <th>3</th>\n",
       "      <td>[{'affiliations': [{'city': 'Lecce', 'city_id'...</td>\n",
       "      <td>pub.1144545525</td>\n",
       "      <td>100071</td>\n",
       "      <td>Income-dependent expansion of electricity dema...</td>\n",
       "      <td>article</td>\n",
       "      <td>2022</td>\n",
       "      <td>jour.1400160</td>\n",
       "      <td>Energy and Climate Change</td>\n",
       "      <td>3</td>\n",
       "    </tr>\n",
       "    <tr>\n",
       "      <th>4</th>\n",
       "      <td>[{'affiliations': [{'city': 'Tokyo', 'city_id'...</td>\n",
       "      <td>pub.1144519018</td>\n",
       "      <td>100049</td>\n",
       "      <td>Alteration of hemoglobin ß gene expression in ...</td>\n",
       "      <td>article</td>\n",
       "      <td>2022</td>\n",
       "      <td>jour.1400582</td>\n",
       "      <td>Fish and Shellfish Immunology Reports</td>\n",
       "      <td>3</td>\n",
       "    </tr>\n",
       "  </tbody>\n",
       "</table>\n",
       "</div>"
      ],
      "text/plain": [
       "                                             authors              id   pages  \\\n",
       "0  [{'affiliations': [{'city': 'Davangere', 'city...  pub.1143861372    1-14   \n",
       "1  [{'affiliations': [{'city': 'Pune', 'city_id':...  pub.1144548884   17-22   \n",
       "2  [{'affiliations': [{'city': 'Jatobá', 'city_id...  pub.1144546526  100051   \n",
       "3  [{'affiliations': [{'city': 'Lecce', 'city_id'...  pub.1144545525  100071   \n",
       "4  [{'affiliations': [{'city': 'Tokyo', 'city_id'...  pub.1144519018  100049   \n",
       "\n",
       "                                               title     type  year  \\\n",
       "0  Screening of Antibacterial and Antioxidant Act...  article  2022   \n",
       "1  Daily oral Vitamin D3 without concomitant ther...  article  2022   \n",
       "2  Nutritional feed additives reduce the adverse ...  article  2022   \n",
       "3  Income-dependent expansion of electricity dema...  article  2022   \n",
       "4  Alteration of hemoglobin ß gene expression in ...  article  2022   \n",
       "\n",
       "     journal.id                          journal.title volume  \n",
       "0  jour.1047355                         BioNanoScience    NaN  \n",
       "1           NaN                                    NaN      2  \n",
       "2  jour.1400582  Fish and Shellfish Immunology Reports      3  \n",
       "3  jour.1400160              Energy and Climate Change      3  \n",
       "4  jour.1400582  Fish and Shellfish Immunology Reports      3  "
      ]
     },
     "execution_count": 14,
     "metadata": {},
     "output_type": "execute_result"
    }
   ],
   "source": [
    "%dsldf search publications for \"(dose AND concentration)\" return publications limit 5"
   ]
  },
  {
   "cell_type": "markdown",
   "metadata": {
    "Collapsed": "false"
   },
   "source": [
    "When specifying Boolean operators with keywords such as `AND`, `OR` and\n",
    "`NOT`, the keywords must appear in all uppercase. \n",
    "\n",
    "The operators available are shown in the table below.\n",
    ".\n",
    "\n",
    "| Boolean Operator | Alternative Symbol | Description                                                                                                                                                                 |\n",
    "|------------------|--------------------|-----------------------------------------------------------------------------------------------------------------------------------------------------------------------------|\n",
    "| `AND`            | `&&`               | Requires both terms on either side of the Boolean operator to be present for a match.                                                                                       |\n",
    "| `NOT`            | `!`                | Requires that the following term not be present.                                                                                                                            |\n",
    "| `OR`             | `||`               | Requires that either term (or both terms) be present for a match.                                                                                                           |\n",
    "|                  | `+`                | Requires that the following term be present.                                                                                                                                |\n",
    "|                  | `-`                | Prohibits the following term (that is, matches on fields or documents that do not include that term). The `-` operator is functionally similar to the Boolean operator `!`. |"
   ]
  },
  {
   "cell_type": "code",
   "execution_count": 15,
   "metadata": {
    "Collapsed": "false"
   },
   "outputs": [
    {
     "name": "stdout",
     "output_type": "stream",
     "text": [
      "Returned Publications: 5 (total = 1641929)\n",
      "\u001b[2mTime: 1.38s\u001b[0m\n"
     ]
    },
    {
     "data": {
      "text/html": [
       "<div>\n",
       "<style scoped>\n",
       "    .dataframe tbody tr th:only-of-type {\n",
       "        vertical-align: middle;\n",
       "    }\n",
       "\n",
       "    .dataframe tbody tr th {\n",
       "        vertical-align: top;\n",
       "    }\n",
       "\n",
       "    .dataframe thead th {\n",
       "        text-align: right;\n",
       "    }\n",
       "</style>\n",
       "<table border=\"1\" class=\"dataframe\">\n",
       "  <thead>\n",
       "    <tr style=\"text-align: right;\">\n",
       "      <th></th>\n",
       "      <th>authors</th>\n",
       "      <th>id</th>\n",
       "      <th>pages</th>\n",
       "      <th>title</th>\n",
       "      <th>type</th>\n",
       "      <th>volume</th>\n",
       "      <th>year</th>\n",
       "      <th>journal.id</th>\n",
       "      <th>journal.title</th>\n",
       "    </tr>\n",
       "  </thead>\n",
       "  <tbody>\n",
       "    <tr>\n",
       "      <th>0</th>\n",
       "      <td>[{'affiliations': [{'city': 'Baltimore', 'city...</td>\n",
       "      <td>pub.1144345471</td>\n",
       "      <td>100059</td>\n",
       "      <td>Reliability and validity of a perinatal depres...</td>\n",
       "      <td>article</td>\n",
       "      <td>2</td>\n",
       "      <td>2022</td>\n",
       "      <td>jour.1410012</td>\n",
       "      <td>SSM - Mental Health</td>\n",
       "    </tr>\n",
       "    <tr>\n",
       "      <th>1</th>\n",
       "      <td>[{'affiliations': [{'city': 'Clemson', 'city_i...</td>\n",
       "      <td>pub.1144477432</td>\n",
       "      <td>100074</td>\n",
       "      <td>Detection of Trypanosoma brucei by microwave c...</td>\n",
       "      <td>article</td>\n",
       "      <td>4</td>\n",
       "      <td>2022</td>\n",
       "      <td>jour.1386020</td>\n",
       "      <td>Sensors and Actuators Reports</td>\n",
       "    </tr>\n",
       "    <tr>\n",
       "      <th>2</th>\n",
       "      <td>[{'affiliations': [{'city': 'Beijing', 'city_i...</td>\n",
       "      <td>pub.1144284673</td>\n",
       "      <td>1174-1190</td>\n",
       "      <td>Examining and applying the theory of “explorin...</td>\n",
       "      <td>article</td>\n",
       "      <td>8</td>\n",
       "      <td>2022</td>\n",
       "      <td>jour.1150945</td>\n",
       "      <td>Energy Reports</td>\n",
       "    </tr>\n",
       "    <tr>\n",
       "      <th>3</th>\n",
       "      <td>[{'affiliations': [{'city': 'Beijing', 'city_i...</td>\n",
       "      <td>pub.1143898003</td>\n",
       "      <td>161-182</td>\n",
       "      <td>A review of regional energy internet in smart ...</td>\n",
       "      <td>article</td>\n",
       "      <td>8</td>\n",
       "      <td>2022</td>\n",
       "      <td>jour.1150945</td>\n",
       "      <td>Energy Reports</td>\n",
       "    </tr>\n",
       "    <tr>\n",
       "      <th>4</th>\n",
       "      <td>[{'affiliations': [{'city': 'Beijing', 'city_i...</td>\n",
       "      <td>pub.1144553607</td>\n",
       "      <td>46-56</td>\n",
       "      <td>A mechanistic study of ciprofloxacin adsorptio...</td>\n",
       "      <td>article</td>\n",
       "      <td>118</td>\n",
       "      <td>2022</td>\n",
       "      <td>jour.1297326</td>\n",
       "      <td>Journal of Environmental Sciences</td>\n",
       "    </tr>\n",
       "  </tbody>\n",
       "</table>\n",
       "</div>"
      ],
      "text/plain": [
       "                                             authors              id  \\\n",
       "0  [{'affiliations': [{'city': 'Baltimore', 'city...  pub.1144345471   \n",
       "1  [{'affiliations': [{'city': 'Clemson', 'city_i...  pub.1144477432   \n",
       "2  [{'affiliations': [{'city': 'Beijing', 'city_i...  pub.1144284673   \n",
       "3  [{'affiliations': [{'city': 'Beijing', 'city_i...  pub.1143898003   \n",
       "4  [{'affiliations': [{'city': 'Beijing', 'city_i...  pub.1144553607   \n",
       "\n",
       "       pages                                              title     type  \\\n",
       "0     100059  Reliability and validity of a perinatal depres...  article   \n",
       "1     100074  Detection of Trypanosoma brucei by microwave c...  article   \n",
       "2  1174-1190  Examining and applying the theory of “explorin...  article   \n",
       "3    161-182  A review of regional energy internet in smart ...  article   \n",
       "4      46-56  A mechanistic study of ciprofloxacin adsorptio...  article   \n",
       "\n",
       "  volume  year    journal.id                      journal.title  \n",
       "0      2  2022  jour.1410012                SSM - Mental Health  \n",
       "1      4  2022  jour.1386020      Sensors and Actuators Reports  \n",
       "2      8  2022  jour.1150945                     Energy Reports  \n",
       "3      8  2022  jour.1150945                     Energy Reports  \n",
       "4    118  2022  jour.1297326  Journal of Environmental Sciences  "
      ]
     },
     "execution_count": 15,
     "metadata": {},
     "output_type": "execute_result"
    }
   ],
   "source": [
    "%dsldf search publications for \"(dose OR concentration) AND (-malaria +africa)\" return publications limit 5"
   ]
  },
  {
   "cell_type": "markdown",
   "metadata": {
    "Collapsed": "false"
   },
   "source": [
    "The combination of keywords and boolean operators allow to construct rather sophisticated queries. For example, here's a real-world query used to extract publications related to COVID-19. "
   ]
  },
  {
   "cell_type": "code",
   "execution_count": 16,
   "metadata": {
    "Collapsed": "false"
   },
   "outputs": [
    {
     "name": "stdout",
     "output_type": "stream",
     "text": [
      "search publications in full_data for \" \\\"2019-nCoV\\\" OR \\\"COVID-19\\\" OR \\\"SARS-CoV-2\\\" OR \\\"HCoV-2019\\\" OR \\\"hcov\\\" OR \\\"NCOVID-19\\\" OR  \n",
      "    \\\"severe acute respiratory syndrome coronavirus 2\\\" OR \\\"severe acute respiratory syndrome corona virus 2\\\" \n",
      "    OR ((\\\"coronavirus\\\"  OR \\\"corona virus\\\") AND (Wuhan OR China OR novel)) \" return publications\n",
      "Returned Publications: 20 (total = 932259)\n",
      "\u001b[2mTime: 5.78s\u001b[0m\n"
     ]
    },
    {
     "data": {
      "application/json": {
       "_copyright": "© 2022 Digital Science & Research Solutions Inc. All rights reserved. Please refer to our Copyright Notice https://terms.dsrsi.com/public/DimensionsCopyrightNotice for further information.",
       "_stats": {
        "total_count": 932259
       },
       "_version": {
        "release": "2.0",
        "version": "2.0.0"
       },
       "publications": [
        {
         "authors": [
          {
           "affiliations": [],
           "corresponding": "",
           "current_organization_id": "",
           "first_name": "Florence",
           "last_name": "Vibert",
           "orcid": [],
           "raw_affiliation": [],
           "researcher_id": null
          },
          {
           "affiliations": [],
           "corresponding": "",
           "current_organization_id": "",
           "first_name": "Camille",
           "last_name": "Martel",
           "orcid": [],
           "raw_affiliation": [],
           "researcher_id": null
          },
          {
           "affiliations": [],
           "corresponding": "",
           "current_organization_id": "",
           "first_name": "Raluca Andreea",
           "last_name": "Ionescu",
           "orcid": [],
           "raw_affiliation": [],
           "researcher_id": null
          },
          {
           "affiliations": [],
           "corresponding": "",
           "current_organization_id": "",
           "first_name": "Carole",
           "last_name": "Mathelin",
           "orcid": [],
           "raw_affiliation": [],
           "researcher_id": null
          },
          {
           "affiliations": [],
           "corresponding": "",
           "current_organization_id": "",
           "first_name": "Shanti",
           "last_name": "Ame",
           "orcid": [],
           "raw_affiliation": [],
           "researcher_id": null
          }
         ],
         "id": "pub.1144308472",
         "issue": "1",
         "journal": {
          "id": "jour.1044467",
          "title": "European Journal of Breast Health"
         },
         "pages": "91-93",
         "title": "A New Modality for Breast Cancer Diagnosis During the COVID-19 Pandemic: A Case Report",
         "type": "article",
         "volume": "18",
         "year": 2022
        },
        {
         "authors": [
          {
           "affiliations": [],
           "corresponding": "",
           "current_organization_id": "",
           "first_name": "Ahmet Serkan",
           "last_name": "İlgün",
           "orcid": [],
           "raw_affiliation": [],
           "researcher_id": null
          },
          {
           "affiliations": [],
           "corresponding": "",
           "current_organization_id": "",
           "first_name": "Vahit",
           "last_name": "Özmen",
           "orcid": [],
           "raw_affiliation": [],
           "researcher_id": null
          }
         ],
         "id": "pub.1144308471",
         "issue": "1",
         "journal": {
          "id": "jour.1044467",
          "title": "European Journal of Breast Health"
         },
         "pages": "85-90",
         "title": "The Impact of the COVID-19 Pandemic on Breast Cancer Patients",
         "type": "article",
         "volume": "18",
         "year": 2022
        },
        {
         "authors": [
          {
           "affiliations": [],
           "corresponding": "",
           "current_organization_id": "",
           "first_name": "Diana",
           "last_name": "Simão",
           "orcid": [],
           "raw_affiliation": [],
           "researcher_id": null
          },
          {
           "affiliations": [],
           "corresponding": "",
           "current_organization_id": "",
           "first_name": "Mariana",
           "last_name": "Sardinha",
           "orcid": [],
           "raw_affiliation": [],
           "researcher_id": null
          },
          {
           "affiliations": [],
           "corresponding": "",
           "current_organization_id": "",
           "first_name": "Ana Filipa",
           "last_name": "Reis",
           "orcid": [],
           "raw_affiliation": [],
           "researcher_id": null
          },
          {
           "affiliations": [],
           "corresponding": "",
           "current_organization_id": "",
           "first_name": "Ana Sofia",
           "last_name": "Spencer",
           "orcid": [],
           "raw_affiliation": [],
           "researcher_id": null
          },
          {
           "affiliations": [],
           "corresponding": "",
           "current_organization_id": "",
           "first_name": "Ricardo",
           "last_name": "Luz",
           "orcid": [],
           "raw_affiliation": [],
           "researcher_id": null
          },
          {
           "affiliations": [],
           "corresponding": "",
           "current_organization_id": "",
           "first_name": "Sónia",
           "last_name": "Oliveira",
           "orcid": [],
           "raw_affiliation": [],
           "researcher_id": null
          }
         ],
         "id": "pub.1144308470",
         "issue": "1",
         "journal": {
          "id": "jour.1044467",
          "title": "European Journal of Breast Health"
         },
         "pages": "74-78",
         "title": "What Has Changed During the COVID-19 Pandemic? - The Effect on an Academic Breast Department in Portugal",
         "type": "article",
         "volume": "18",
         "year": 2022
        },
        {
         "authors": [
          {
           "affiliations": [],
           "corresponding": "",
           "current_organization_id": "grid.26790.3a",
           "first_name": "Orli",
           "last_name": "Friedman-Eldar",
           "orcid": null,
           "raw_affiliation": [],
           "researcher_id": "ur.011156300665.47"
          },
          {
           "affiliations": [],
           "corresponding": "",
           "current_organization_id": "",
           "first_name": "Siarhei",
           "last_name": "Melnikau",
           "orcid": [],
           "raw_affiliation": [],
           "researcher_id": null
          },
          {
           "affiliations": [],
           "corresponding": "",
           "current_organization_id": "grid.26790.3a",
           "first_name": "Youley",
           "last_name": "Tjendra",
           "orcid": null,
           "raw_affiliation": [],
           "researcher_id": "ur.01216622117.01"
          },
          {
           "affiliations": [],
           "corresponding": "",
           "current_organization_id": "grid.26790.3a",
           "first_name": "Eli",
           "last_name": "Avisar",
           "orcid": [
            "0000-0003-0771-464X"
           ],
           "raw_affiliation": [],
           "researcher_id": "ur.0600671773.80"
          }
         ],
         "id": "pub.1142326869",
         "issue": "0",
         "journal": {
          "id": "jour.1044467",
          "title": "European Journal of Breast Health"
         },
         "pages": "0-0",
         "title": "Axillary Reverse Lymphatic Mapping in the Treatment for Axillary Accessory Breast Cancer: A Case Report and Review of Management",
         "type": "article",
         "volume": "0",
         "year": 2022
        },
        {
         "authors": [
          {
           "affiliations": [],
           "corresponding": "",
           "current_organization_id": "grid.416659.9",
           "first_name": "Hiba A.",
           "last_name": "Moukadem",
           "orcid": null,
           "raw_affiliation": [],
           "researcher_id": "ur.0737447243.57"
          },
          {
           "affiliations": [],
           "corresponding": "",
           "current_organization_id": "",
           "first_name": "Ahmad",
           "last_name": "Al Masry",
           "orcid": [],
           "raw_affiliation": [],
           "researcher_id": null
          },
          {
           "affiliations": [],
           "corresponding": "",
           "current_organization_id": "",
           "first_name": "Rula W.",
           "last_name": "Atwani",
           "orcid": [],
           "raw_affiliation": [],
           "researcher_id": null
          },
          {
           "affiliations": [],
           "corresponding": "",
           "current_organization_id": "grid.411654.3",
           "first_name": "Firas",
           "last_name": "Kreidieh",
           "orcid": null,
           "raw_affiliation": [],
           "researcher_id": "ur.01352304336.88"
          },
          {
           "affiliations": [],
           "corresponding": "",
           "current_organization_id": "grid.411654.3",
           "first_name": "Lana E.",
           "last_name": "Khalil",
           "orcid": null,
           "raw_affiliation": [],
           "researcher_id": "ur.012644715416.94"
          },
          {
           "affiliations": [],
           "corresponding": "",
           "current_organization_id": null,
           "first_name": "Rita",
           "last_name": "Saroufim",
           "orcid": null,
           "raw_affiliation": [],
           "researcher_id": "ur.011734134671.66"
          },
          {
           "affiliations": [],
           "corresponding": "",
           "current_organization_id": null,
           "first_name": "Sarah",
           "last_name": "Daouk",
           "orcid": null,
           "raw_affiliation": [],
           "researcher_id": "ur.014124456271.07"
          },
          {
           "affiliations": [],
           "corresponding": "",
           "current_organization_id": "grid.411654.3",
           "first_name": "Iman Abou",
           "last_name": "Dalle",
           "orcid": [
            "0000-0002-6520-9134"
           ],
           "raw_affiliation": [],
           "researcher_id": "ur.010664232555.96"
          },
          {
           "affiliations": [],
           "corresponding": "",
           "current_organization_id": "grid.411654.3",
           "first_name": "Nagi S.",
           "last_name": "El Saghir",
           "orcid": [
            "0000-0001-9612-4224"
           ],
           "raw_affiliation": [],
           "researcher_id": "ur.012321540645.89"
          }
         ],
         "id": "pub.1142318116",
         "issue": "0",
         "journal": {
          "id": "jour.1044467",
          "title": "European Journal of Breast Health"
         },
         "pages": "0-0",
         "title": "Genetic Counseling, Screening and Risk-Reducing Surgery in Patients with Primary Breast Cancer and Germline BRCA mutations: Unmet needs in Low- and Middle- Income Countries",
         "type": "article",
         "volume": "0",
         "year": 2022
        },
        {
         "authors": [
          {
           "affiliations": [],
           "corresponding": "",
           "current_organization_id": "",
           "first_name": "Supriyono",
           "last_name": "Supriyono",
           "orcid": [],
           "raw_affiliation": [],
           "researcher_id": null
          },
          {
           "affiliations": [],
           "corresponding": "",
           "current_organization_id": "",
           "first_name": "Anang Dony",
           "last_name": "Irawan",
           "orcid": [],
           "raw_affiliation": [],
           "researcher_id": null
          }
         ],
         "id": "pub.1134263546",
         "issue": "2",
         "journal": {
          "id": "jour.1364880",
          "title": "Jurnal Pendidikan Sosial Keberagaman"
         },
         "title": "SEMANGAT KEBANGKITAN NASIONAL UNTUK MENGHADAPI COVID-19 DALAM KONTEKS PANCASILA DAN KONSTITUSI",
         "type": "article",
         "volume": "7",
         "year": 2022
        },
        {
         "authors": [
          {
           "affiliations": [],
           "corresponding": "",
           "current_organization_id": "",
           "first_name": "Valentina L.",
           "last_name": "Kouznetsova",
           "orcid": [],
           "raw_affiliation": [],
           "researcher_id": null
          },
          {
           "affiliations": [],
           "corresponding": "",
           "current_organization_id": "",
           "first_name": "Aidan",
           "last_name": "Zhang",
           "orcid": [],
           "raw_affiliation": [],
           "researcher_id": null
          },
          {
           "affiliations": [],
           "corresponding": "",
           "current_organization_id": "",
           "first_name": "Mark A.",
           "last_name": "Miller",
           "orcid": [],
           "raw_affiliation": [],
           "researcher_id": null
          },
          {
           "affiliations": [],
           "corresponding": "",
           "current_organization_id": "",
           "first_name": "Mahidhar",
           "last_name": "Tatineni",
           "orcid": [],
           "raw_affiliation": [],
           "researcher_id": null
          },
          {
           "affiliations": [],
           "corresponding": "",
           "current_organization_id": "",
           "first_name": "Jerry P.",
           "last_name": "Greenberg",
           "orcid": [],
           "raw_affiliation": [],
           "researcher_id": null
          },
          {
           "affiliations": [],
           "corresponding": "",
           "current_organization_id": "",
           "first_name": "Igor F.",
           "last_name": "Tsigelny",
           "orcid": [],
           "raw_affiliation": [],
           "researcher_id": null
          }
         ],
         "id": "pub.1144174927",
         "issue": "000",
         "journal": {
          "id": "jour.1292928",
          "title": "Journal of Exploratory Research in Pharmacology"
         },
         "pages": "000-000",
         "title": "Potential SARS-CoV-2 Spike Protein-ACE2 Interface Inhibitors: Repurposing FDA-approved Drugs",
         "type": "article",
         "volume": "000",
         "year": 2022
        },
        {
         "authors": [
          {
           "affiliations": [],
           "corresponding": "",
           "current_organization_id": "",
           "first_name": "Vesna Žegarac",
           "last_name": "Leskovar",
           "orcid": [],
           "raw_affiliation": [],
           "researcher_id": null
          },
          {
           "affiliations": [],
           "corresponding": "",
           "current_organization_id": "",
           "first_name": "Vanja Skalicky",
           "last_name": "Klemenčič",
           "orcid": [],
           "raw_affiliation": [],
           "researcher_id": null
          }
         ],
         "id": "pub.1143990291",
         "issue": "1",
         "journal": {
          "id": "jour.1321171",
          "title": "Athens Journal of Architecture"
         },
         "pages": "51-66",
         "title": "The Role of Nursing Homes Architectural Design in Mitigating the Risk of COVID-19 Pandemics: The Case of Slovenia",
         "type": "article",
         "volume": "8",
         "year": 2022
        },
        {
         "authors": [
          {
           "affiliations": [],
           "corresponding": "",
           "current_organization_id": "",
           "first_name": "Anastasia",
           "last_name": "Nikologianni",
           "orcid": [],
           "raw_affiliation": [],
           "researcher_id": null
          }
         ],
         "id": "pub.1143990290",
         "issue": "1",
         "journal": {
          "id": "jour.1321171",
          "title": "Athens Journal of Architecture"
         },
         "pages": "35-50",
         "title": "How Can Landscape Architecture Influence Systemic Change to Achieve Sustainable Cities and Regions",
         "type": "article",
         "volume": "8",
         "year": 2022
        },
        {
         "authors": [
          {
           "affiliations": [
            {
             "city": null,
             "city_id": null,
             "country": null,
             "country_code": null,
             "id": null,
             "name": "cbt@rn.dk.",
             "raw_affiliation": "cbt@rn.dk.",
             "state": null,
             "state_code": null
            }
           ],
           "corresponding": "",
           "current_organization_id": "",
           "first_name": "Charlotte Bruun",
           "last_name": "Thorup",
           "orcid": [],
           "raw_affiliation": [
            "cbt@rn.dk."
           ],
           "researcher_id": null
          },
          {
           "affiliations": [],
           "corresponding": "",
           "current_organization_id": "",
           "first_name": "Helle",
           "last_name": "Spindler",
           "orcid": [],
           "raw_affiliation": [],
           "researcher_id": null
          },
          {
           "affiliations": [],
           "corresponding": "",
           "current_organization_id": "",
           "first_name": "Dorte",
           "last_name": "Nøhr",
           "orcid": [],
           "raw_affiliation": [],
           "researcher_id": null
          },
          {
           "affiliations": [],
           "corresponding": "",
           "current_organization_id": "",
           "first_name": "Hanne",
           "last_name": "Skinbjerg",
           "orcid": [],
           "raw_affiliation": [],
           "researcher_id": null
          },
          {
           "affiliations": [],
           "corresponding": "",
           "current_organization_id": "",
           "first_name": "Jan Jesper",
           "last_name": "Andreasen",
           "orcid": [],
           "raw_affiliation": [],
           "researcher_id": null
          }
         ],
         "id": "pub.1144025967",
         "issue": "1",
         "journal": {
          "id": "jour.1006703",
          "title": "Danish Medical Journal"
         },
         "title": "Distress and anxiety following postponed cardiac surgery prior to and during the COVID-19 pandemic.",
         "type": "article",
         "volume": "69",
         "year": 2022
        },
        {
         "authors": [
          {
           "affiliations": [
            {
             "city": null,
             "city_id": null,
             "country": "Brunei",
             "country_code": "BN",
             "id": null,
             "name": "Universiti Brunei DarussalamBrunei",
             "raw_affiliation": "Universiti Brunei DarussalamBrunei",
             "state": null,
             "state_code": null
            }
           ],
           "corresponding": "",
           "current_organization_id": "",
           "first_name": "AKM Ahsan",
           "last_name": "Ullah",
           "orcid": [],
           "raw_affiliation": [
            "Universiti Brunei DarussalamBrunei"
           ],
           "researcher_id": null
          },
          {
           "affiliations": [
            {
             "city": "Singapore",
             "city_id": 1880252,
             "country": "Singapore",
             "country_code": "SG",
             "id": "grid.4280.e",
             "name": "National University of Singapore",
             "raw_affiliation": "National University of SingaporeSingapore",
             "state": null,
             "state_code": null
            }
           ],
           "corresponding": "",
           "current_organization_id": "",
           "first_name": "Diotima",
           "last_name": "Chattoraj",
           "orcid": [],
           "raw_affiliation": [
            "National University of SingaporeSingapore"
           ],
           "researcher_id": null
          }
         ],
         "id": "pub.1143854424",
         "title": "COVID-19 Pandemic and the Migrant Population in Southeast Asia",
         "type": "monograph",
         "year": 2022
        },
        {
         "authors": [
          {
           "affiliations": [],
           "corresponding": "",
           "current_organization_id": "",
           "first_name": "Kim Mannemar",
           "last_name": "Sønderskov",
           "orcid": [],
           "raw_affiliation": [],
           "researcher_id": null
          },
          {
           "affiliations": [],
           "corresponding": "",
           "current_organization_id": "",
           "first_name": "Helene Tilma",
           "last_name": "Vistisen",
           "orcid": [],
           "raw_affiliation": [],
           "researcher_id": null
          },
          {
           "affiliations": [],
           "corresponding": "",
           "current_organization_id": "",
           "first_name": "Peter Thisted",
           "last_name": "Dinesen",
           "orcid": [],
           "raw_affiliation": [],
           "researcher_id": null
          },
          {
           "affiliations": [
            {
             "city": null,
             "city_id": null,
             "country": null,
             "country_code": null,
             "id": null,
             "name": "soeoes@rm.dk.",
             "raw_affiliation": "soeoes@rm.dk.",
             "state": null,
             "state_code": null
            }
           ],
           "corresponding": "",
           "current_organization_id": "",
           "first_name": "Søren Dinesen",
           "last_name": "Østergaard",
           "orcid": [],
           "raw_affiliation": [
            "soeoes@rm.dk."
           ],
           "researcher_id": null
          }
         ],
         "id": "pub.1144025966",
         "issue": "1",
         "journal": {
          "id": "jour.1006703",
          "title": "Danish Medical Journal"
         },
         "title": "COVID-19 booster vaccine willingness.",
         "type": "article",
         "volume": "69",
         "year": 2022
        },
        {
         "authors": [
          {
           "affiliations": [
            {
             "city": "Jakarta",
             "city_id": 1642911,
             "country": "Indonesia",
             "country_code": "ID",
             "id": null,
             "name": "Universitas Bhayangkara Jakarta",
             "raw_affiliation": "Universitas Bhayangkara Jakarta",
             "state": "Jakarta",
             "state_code": null
            }
           ],
           "corresponding": "",
           "current_organization_id": "",
           "first_name": "Ciwuk Musiana",
           "last_name": "Yudhawasthi",
           "orcid": [],
           "raw_affiliation": [
            "Universitas Bhayangkara Jakarta"
           ],
           "researcher_id": null
          },
          {
           "affiliations": [
            {
             "city": "Semarang",
             "city_id": 1627896,
             "country": "Indonesia",
             "country_code": "ID",
             "id": "grid.412032.6",
             "name": "Diponegoro University",
             "raw_affiliation": "Universitas Diponegoro",
             "state": null,
             "state_code": null
            }
           ],
           "corresponding": "",
           "current_organization_id": "",
           "first_name": "Lydia",
           "last_name": "Christiani",
           "orcid": [],
           "raw_affiliation": [
            "Universitas Diponegoro"
           ],
           "researcher_id": null
          }
         ],
         "id": "pub.1144597483",
         "issue": "2",
         "journal": {
          "id": "jour.1291324",
          "title": "Khizanah al-Hikmah Jurnal Ilmu Perpustakaan Informasi dan Kearsipan"
         },
         "pages": "193-209",
         "title": "Challenges of Higher Educational Documentary Institutions in Supporting Merdeka Belajar Kampus Merdeka Program",
         "type": "article",
         "volume": "9",
         "year": 2022
        },
        {
         "authors": [
          {
           "affiliations": [],
           "corresponding": "",
           "current_organization_id": "",
           "first_name": "Busyairi",
           "last_name": "Ahmad",
           "orcid": [],
           "raw_affiliation": [],
           "researcher_id": null
          },
          {
           "affiliations": [],
           "corresponding": "",
           "current_organization_id": "",
           "first_name": "Hamjah",
           "last_name": "Bonso",
           "orcid": [],
           "raw_affiliation": [],
           "researcher_id": null
          }
         ],
         "id": "pub.1144601467",
         "issue": "1",
         "journal": {
          "id": "jour.1390959",
          "title": "JISIP (Jurnal Ilmu Sosial dan Pendidikan)"
         },
         "title": "DAMPAK PANDEMI TERHADAP PENINGKATAN FUNGSI IBU RUMAH TANGGA DALAM KELUARGA (Studi Kasus Ibu-Ibu Wali Murid SD Yapis 2 Samofa Biak Numfor-Papua)",
         "type": "article",
         "volume": "6",
         "year": 2022
        },
        {
         "authors": [
          {
           "affiliations": [],
           "corresponding": "",
           "current_organization_id": "",
           "first_name": "إیمان",
           "last_name": "جلال",
           "orcid": [],
           "raw_affiliation": [],
           "researcher_id": null
          }
         ],
         "id": "pub.1142779451",
         "issue": "10",
         "journal": {
          "id": "jour.1404293",
          "title": "مجلة کلیة الآداب القاهرة"
         },
         "pages": "1-31",
         "title": "Pandemia mondiale, lingua mondiale: le collocazioni lessicali riguardanti il COVID-19 nel linguaggio dei giornali italiani ed egiziani",
         "type": "article",
         "volume": "82",
         "year": 2022
        },
        {
         "authors": [
          {
           "affiliations": [
            {
             "city": "Zurich",
             "city_id": 2657896,
             "country": "Switzerland",
             "country_code": "CH",
             "id": "grid.449532.d",
             "name": "Kalaidos University of Applied Sciences",
             "raw_affiliation": "Research Institute, Careum School of Health, part of Kalaidos University of Applied Sciences, Zurich, Switzerland",
             "state": null,
             "state_code": null
            },
            {
             "city": "Burgdorf",
             "city_id": 2661321,
             "country": "Switzerland",
             "country_code": "CH",
             "id": "grid.424060.4",
             "name": "Bern University of Applied Sciences",
             "raw_affiliation": "Bern University of Applied Sciences, Department of Health Professions, Applied Research Development in Nursing, Bern, Switzerland",
             "state": null,
             "state_code": null
            }
           ],
           "corresponding": true,
           "current_organization_id": "",
           "first_name": "Anna",
           "last_name": "Hegedüs",
           "orcid": [],
           "raw_affiliation": [
            "Research Institute, Careum School of Health, part of Kalaidos University of Applied Sciences, Zurich, Switzerland",
            "Bern University of Applied Sciences, Department of Health Professions, Applied Research Development in Nursing, Bern, Switzerland"
           ],
           "researcher_id": null
          },
          {
           "affiliations": [
            {
             "city": "Zurich",
             "city_id": 2657896,
             "country": "Switzerland",
             "country_code": "CH",
             "id": "grid.449532.d",
             "name": "Kalaidos University of Applied Sciences",
             "raw_affiliation": "Research Institute, Careum School of Health, part of Kalaidos University of Applied Sciences, Zurich, Switzerland",
             "state": null,
             "state_code": null
            },
            {
             "city": "Burgdorf",
             "city_id": 2661321,
             "country": "Switzerland",
             "country_code": "CH",
             "id": "grid.424060.4",
             "name": "Bern University of Applied Sciences",
             "raw_affiliation": "Bern University of Applied Sciences, Department of Health Professions, Competence Center Participatory Health Care, Bern, Switzerland",
             "state": null,
             "state_code": null
            }
           ],
           "corresponding": "",
           "current_organization_id": "",
           "first_name": "Anita",
           "last_name": "Schürch",
           "orcid": [],
           "raw_affiliation": [
            "Research Institute, Careum School of Health, part of Kalaidos University of Applied Sciences, Zurich, Switzerland",
            "Bern University of Applied Sciences, Department of Health Professions, Competence Center Participatory Health Care, Bern, Switzerland"
           ],
           "researcher_id": null
          },
          {
           "affiliations": [
            {
             "city": "Zurich",
             "city_id": 2657896,
             "country": "Switzerland",
             "country_code": "CH",
             "id": "grid.449532.d",
             "name": "Kalaidos University of Applied Sciences",
             "raw_affiliation": "Research Institute, Careum School of Health, part of Kalaidos University of Applied Sciences, Zurich, Switzerland",
             "state": null,
             "state_code": null
            }
           ],
           "corresponding": "",
           "current_organization_id": "",
           "first_name": "Iren",
           "last_name": "Bischofberger",
           "orcid": [],
           "raw_affiliation": [
            "Research Institute, Careum School of Health, part of Kalaidos University of Applied Sciences, Zurich, Switzerland"
           ],
           "researcher_id": null
          }
         ],
         "id": "pub.1144620722",
         "journal": {
          "id": "jour.1379429",
          "title": "International Journal of Nursing Studies Advances"
         },
         "pages": "100061",
         "title": "Implementing Buurtzorg-derived models in the home care setting: a Scoping Review",
         "type": "article",
         "volume": "4",
         "year": 2022
        },
        {
         "authors": [
          {
           "affiliations": [
            {
             "city": "Kolkata",
             "city_id": 1275004,
             "country": "India",
             "country_code": "IN",
             "id": "grid.440742.1",
             "name": "West Bengal University of Technology",
             "raw_affiliation": "JIS College of Engineering, Kalyani, Nadia, West Bengal, India",
             "state": null,
             "state_code": null
            }
           ],
           "corresponding": "",
           "current_organization_id": "",
           "first_name": "Avik",
           "last_name": "Sarkar",
           "orcid": [],
           "raw_affiliation": [
            "JIS College of Engineering, Kalyani, Nadia, West Bengal, India"
           ],
           "researcher_id": null
          },
          {
           "affiliations": [
            {
             "city": "Navadwip",
             "city_id": 1261669,
             "country": "India",
             "country_code": "IN",
             "id": null,
             "name": "Global Institute of Management and Technology, Krisnanagar, Nadia, West Bengal, India",
             "raw_affiliation": "Global Institute of Management and Technology, Krisnanagar, Nadia, West Bengal, India",
             "state": "West Bengal",
             "state_code": null
            }
           ],
           "corresponding": "",
           "current_organization_id": "",
           "first_name": "Ankita",
           "last_name": "Singh",
           "orcid": [],
           "raw_affiliation": [
            "Global Institute of Management and Technology, Krisnanagar, Nadia, West Bengal, India"
           ],
           "researcher_id": null
          },
          {
           "affiliations": [
            {
             "city": "Navadwip",
             "city_id": 1261669,
             "country": "India",
             "country_code": "IN",
             "id": null,
             "name": "Global Institute of Management and Technology, Krisnanagar, Nadia, West Bengal, India",
             "raw_affiliation": "Global Institute of Management and Technology, Krisnanagar, Nadia, West Bengal, India",
             "state": "West Bengal",
             "state_code": null
            }
           ],
           "corresponding": "",
           "current_organization_id": "",
           "first_name": "Rakhi",
           "last_name": "Chakraborty",
           "orcid": [],
           "raw_affiliation": [
            "Global Institute of Management and Technology, Krisnanagar, Nadia, West Bengal, India"
           ],
           "researcher_id": null
          }
         ],
         "id": "pub.1144580583",
         "issue": "4",
         "pages": "100039",
         "title": "A Deep Learning-Based Comparative Study to Track Mental Depression from EEG Data",
         "type": "article",
         "volume": "2",
         "year": 2022
        },
        {
         "authors": [
          {
           "affiliations": [
            {
             "city": "São Paulo",
             "city_id": 3448439,
             "country": "Brazil",
             "country_code": "BR",
             "id": "grid.411074.7",
             "name": "Hospital das Clínicas da Faculdade de Medicina da Universidade de São Paulo",
             "raw_affiliation": "Unidade de Hipertensao, Disciplina de Nefrologia, Instituto do Coraçao (InCor), Hospital das Clinicas HCFMUSP, Faculdade de Medicina, Universidade de São Paulo, São Paulo, SP, Brazil",
             "state": null,
             "state_code": null
            },
            {
             "city": "São Paulo",
             "city_id": 3448439,
             "country": "Brazil",
             "country_code": "BR",
             "id": "grid.11899.38",
             "name": "Universidade de São Paulo",
             "raw_affiliation": "Unidade de Hipertensao, Disciplina de Nefrologia, Instituto do Coraçao (InCor), Hospital das Clinicas HCFMUSP, Faculdade de Medicina, Universidade de São Paulo, São Paulo, SP, Brazil",
             "state": null,
             "state_code": null
            }
           ],
           "corresponding": "",
           "current_organization_id": "",
           "first_name": "Luciano F.",
           "last_name": "Drager",
           "orcid": [],
           "raw_affiliation": [
            "Unidade de Hipertensao, Disciplina de Nefrologia, Instituto do Coraçao (InCor), Hospital das Clinicas HCFMUSP, Faculdade de Medicina, Universidade de São Paulo, São Paulo, SP, Brazil"
           ],
           "researcher_id": null
          },
          {
           "affiliations": [
            {
             "city": "Sao Paulo",
             "city_id": 3448439,
             "country": "Brazil",
             "country_code": "BR",
             "id": null,
             "name": "Instituto Prossono, São Paulo, Brazil",
             "raw_affiliation": "Instituto Prossono, São Paulo, Brazil",
             "state": "Sao Paulo",
             "state_code": null
            }
           ],
           "corresponding": "",
           "current_organization_id": "",
           "first_name": "Daniela Vianna",
           "last_name": "Pachito",
           "orcid": [],
           "raw_affiliation": [
            "Instituto Prossono, São Paulo, Brazil"
           ],
           "researcher_id": null
          },
          {
           "affiliations": [
            {
             "city": "Sao Paulo",
             "city_id": 3448439,
             "country": "Brazil",
             "country_code": "BR",
             "id": null,
             "name": "Takeda Pharma Ltda. Brasil, São Paulo, Brazil",
             "raw_affiliation": "Takeda Pharma Ltda. Brasil, São Paulo, Brazil",
             "state": "Sao Paulo",
             "state_code": null
            }
           ],
           "corresponding": "",
           "current_organization_id": "",
           "first_name": "Rogerio",
           "last_name": "Morihisa",
           "orcid": [],
           "raw_affiliation": [
            "Takeda Pharma Ltda. Brasil, São Paulo, Brazil"
           ],
           "researcher_id": null
          },
          {
           "affiliations": [
            {
             "city": "Sao Paulo",
             "city_id": 3448439,
             "country": "Brazil",
             "country_code": "BR",
             "id": null,
             "name": "Takeda Pharma Ltda. Brasil, São Paulo, Brazil",
             "raw_affiliation": "Takeda Pharma Ltda. Brasil, São Paulo, Brazil",
             "state": "Sao Paulo",
             "state_code": null
            }
           ],
           "corresponding": "",
           "current_organization_id": "",
           "first_name": "Pedro",
           "last_name": "Carvalho",
           "orcid": [],
           "raw_affiliation": [
            "Takeda Pharma Ltda. Brasil, São Paulo, Brazil"
           ],
           "researcher_id": null
          },
          {
           "affiliations": [
            {
             "city": "Sao Paulo",
             "city_id": 3448439,
             "country": "Brazil",
             "country_code": "BR",
             "id": null,
             "name": "Takeda Pharma Ltda. Brasil, São Paulo, Brazil",
             "raw_affiliation": "Takeda Pharma Ltda. Brasil, São Paulo, Brazil",
             "state": "Sao Paulo",
             "state_code": null
            }
           ],
           "corresponding": "",
           "current_organization_id": "",
           "first_name": "Abner",
           "last_name": "Lobao",
           "orcid": [],
           "raw_affiliation": [
            "Takeda Pharma Ltda. Brasil, São Paulo, Brazil"
           ],
           "researcher_id": null
          },
          {
           "affiliations": [
            {
             "city": "São Paulo",
             "city_id": 3448439,
             "country": "Brazil",
             "country_code": "BR",
             "id": "grid.411249.b",
             "name": "Federal University of São Paulo",
             "raw_affiliation": "Psychobiology Departament/ Sleep Division Universidade Federal de São Paulo, São Paulo, Brazil",
             "state": null,
             "state_code": null
            }
           ],
           "corresponding": true,
           "current_organization_id": "",
           "first_name": "Dalva",
           "last_name": "Poyares",
           "orcid": [],
           "raw_affiliation": [
            "Psychobiology Departament/ Sleep Division Universidade Federal de São Paulo, São Paulo, Brazil"
           ],
           "researcher_id": null
          }
         ],
         "id": "pub.1144437303",
         "pages": "100020",
         "title": "Sleep quality in the Brazilian general population: A cross-sectional study",
         "type": "article",
         "volume": "2",
         "year": 2022
        },
        {
         "authors": [
          {
           "affiliations": [
            {
             "city": "Philadelphia",
             "city_id": 4560349,
             "country": "United States",
             "country_code": "US",
             "id": "grid.166341.7",
             "name": "Drexel University",
             "raw_affiliation": "The Ubuntu Center on Racism, Global Movements, and Population Health Equity, Drexel University Dornsife School of Public Health, Philadelphia, PA, USA",
             "state": "Pennsylvania",
             "state_code": "US-PA"
            }
           ],
           "corresponding": true,
           "current_organization_id": "",
           "first_name": "Jaquelyn L.",
           "last_name": "Jahn",
           "orcid": [],
           "raw_affiliation": [
            "The Ubuntu Center on Racism, Global Movements, and Population Health Equity, Drexel University Dornsife School of Public Health, Philadelphia, PA, USA"
           ],
           "researcher_id": null
          },
          {
           "affiliations": [
            {
             "city": "Cambridge",
             "city_id": 4931972,
             "country": "United States",
             "country_code": "US",
             "id": "grid.38142.3c",
             "name": "Harvard University",
             "raw_affiliation": "Department of Sociology, Harvard University, Cambridge, MA, USA",
             "state": "Massachusetts",
             "state_code": "US-MA"
            }
           ],
           "corresponding": "",
           "current_organization_id": "",
           "first_name": "Nicolette",
           "last_name": "Bardele",
           "orcid": [],
           "raw_affiliation": [
            "Department of Sociology, Harvard University, Cambridge, MA, USA"
           ],
           "researcher_id": null
          },
          {
           "affiliations": [
            {
             "city": "Boston",
             "city_id": 4930956,
             "country": "United States",
             "country_code": "US",
             "id": "grid.189504.1",
             "name": "Boston University",
             "raw_affiliation": "Department of Sociology, Boston University, Boston, MA, USA",
             "state": "Massachusetts",
             "state_code": "US-MA"
            }
           ],
           "corresponding": "",
           "current_organization_id": "",
           "first_name": "Jessica T.",
           "last_name": "Simes",
           "orcid": [],
           "raw_affiliation": [
            "Department of Sociology, Boston University, Boston, MA, USA"
           ],
           "researcher_id": null
          },
          {
           "affiliations": [
            {
             "city": "New York",
             "city_id": 5128581,
             "country": "United States",
             "country_code": "US",
             "id": "grid.21729.3f",
             "name": "Columbia University",
             "raw_affiliation": "Department of Sociology, Columbia University, New York, NY, USA",
             "state": "New York",
             "state_code": "US-NY"
            }
           ],
           "corresponding": "",
           "current_organization_id": "",
           "first_name": "Bruce",
           "last_name": "Western",
           "orcid": [],
           "raw_affiliation": [
            "Department of Sociology, Columbia University, New York, NY, USA"
           ],
           "researcher_id": null
          }
         ],
         "id": "pub.1144430468",
         "pages": "100036",
         "title": "Clustering of health burdens in solitary confinement: A mixed-methods approach",
         "type": "article",
         "volume": "2",
         "year": 2022
        },
        {
         "authors": [
          {
           "affiliations": [
            {
             "city": "Athens",
             "city_id": 4505542,
             "country": "United States",
             "country_code": "US",
             "id": "grid.20627.31",
             "name": "Ohio University",
             "raw_affiliation": "Ohio University, Heritage College of Osteopathic Medicine, Social Medicine, USA",
             "state": "Ohio",
             "state_code": "US-OH"
            }
           ],
           "corresponding": true,
           "current_organization_id": "",
           "first_name": "Kelly Lynn",
           "last_name": "Choyke",
           "orcid": [],
           "raw_affiliation": [
            "Ohio University, Heritage College of Osteopathic Medicine, Social Medicine, USA"
           ],
           "researcher_id": null
          },
          {
           "affiliations": [
            {
             "city": "Athens",
             "city_id": 4505542,
             "country": "United States",
             "country_code": "US",
             "id": "grid.20627.31",
             "name": "Ohio University",
             "raw_affiliation": "Ohio University, College of Arts and Sciences, Social and Public Health, USA",
             "state": "Ohio",
             "state_code": "US-OH"
            }
           ],
           "corresponding": "",
           "current_organization_id": "",
           "first_name": "Cory Edward",
           "last_name": "Cronin",
           "orcid": [],
           "raw_affiliation": [
            "Ohio University, College of Arts and Sciences, Social and Public Health, USA"
           ],
           "researcher_id": null
          },
          {
           "affiliations": [
            {
             "city": "Athens",
             "city_id": 4505542,
             "country": "United States",
             "country_code": "US",
             "id": "grid.20627.31",
             "name": "Ohio University",
             "raw_affiliation": "Ohio University, Heritage College of Osteopathic Medicine, Social Medicine, USA",
             "state": "Ohio",
             "state_code": "US-OH"
            }
           ],
           "corresponding": "",
           "current_organization_id": "",
           "first_name": "Vanessa",
           "last_name": "Rodriguez",
           "orcid": [],
           "raw_affiliation": [
            "Ohio University, Heritage College of Osteopathic Medicine, Social Medicine, USA"
           ],
           "researcher_id": null
          },
          {
           "affiliations": [
            {
             "city": "Cleveland",
             "city_id": 5150529,
             "country": "United States",
             "country_code": "US",
             "id": "grid.67105.35",
             "name": "Case Western Reserve University",
             "raw_affiliation": "Case Western Reserve University College of Arts and Sciences, Department of Sociology, USA",
             "state": "Ohio",
             "state_code": "US-OH"
            }
           ],
           "corresponding": "",
           "current_organization_id": "",
           "first_name": "Brian C.",
           "last_name": "Gran",
           "orcid": [],
           "raw_affiliation": [
            "Case Western Reserve University College of Arts and Sciences, Department of Sociology, USA"
           ],
           "researcher_id": null
          },
          {
           "affiliations": [
            {
             "city": "Athens",
             "city_id": 4505542,
             "country": "United States",
             "country_code": "US",
             "id": "grid.20627.31",
             "name": "Ohio University",
             "raw_affiliation": "Ohio University, Heritage College of Osteopathic Medicine, Social Medicine, USA",
             "state": "Ohio",
             "state_code": "US-OH"
            }
           ],
           "corresponding": "",
           "current_organization_id": "",
           "first_name": "Berkeley",
           "last_name": "Franz",
           "orcid": [],
           "raw_affiliation": [
            "Ohio University, Heritage College of Osteopathic Medicine, Social Medicine, USA"
           ],
           "researcher_id": null
          }
         ],
         "id": "pub.1144361000",
         "pages": "100037",
         "title": "An Organization's role in anchoring community health: How for-profit hospitals' balance corporate and social responsibility",
         "type": "article",
         "volume": "2",
         "year": 2022
        }
       ]
      },
      "text/plain": [
       "<dimcli.DslDataset object #4916089952. Records: 20/932259>"
      ]
     },
     "execution_count": 16,
     "metadata": {
      "application/json": {
       "expanded": false,
       "root": "root"
      }
     },
     "output_type": "execute_result"
    }
   ],
   "source": [
    "q_inner = \"\"\" \"2019-nCoV\" OR \"COVID-19\" OR \"SARS-CoV-2\" OR \"HCoV-2019\" OR \"hcov\" OR \"NCOVID-19\" OR  \n",
    "    \"severe acute respiratory syndrome coronavirus 2\" OR \"severe acute respiratory syndrome corona virus 2\" \n",
    "    OR ((\"coronavirus\"  OR \"corona virus\") AND (Wuhan OR China OR novel)) \"\"\"\n",
    "\n",
    "# tip: dsl_escape is a dimcli utility function for escaping special characters \n",
    "q_outer = f\"\"\"search publications in full_data for \"{dsl_escape(q_inner)}\" return publications\"\"\"\n",
    "print(q_outer)\n",
    "\n",
    "dsl.query(q_outer)"
   ]
  },
  {
   "cell_type": "markdown",
   "metadata": {
    "Collapsed": "false"
   },
   "source": [
    "### 2.4 Wildcard Searches\n",
    "\n",
    "The DSL supports single and multiple character wildcard searches within\n",
    "single terms. Wildcard characters can be applied to single terms, but\n",
    "not to search phrases."
   ]
  },
  {
   "cell_type": "code",
   "execution_count": 17,
   "metadata": {
    "Collapsed": "false"
   },
   "outputs": [
    {
     "name": "stdout",
     "output_type": "stream",
     "text": [
      "Returned Publications: 5 (total = 151)\n",
      "\u001b[2mTime: 1.25s\u001b[0m\n"
     ]
    },
    {
     "data": {
      "text/html": [
       "<div>\n",
       "<style scoped>\n",
       "    .dataframe tbody tr th:only-of-type {\n",
       "        vertical-align: middle;\n",
       "    }\n",
       "\n",
       "    .dataframe tbody tr th {\n",
       "        vertical-align: top;\n",
       "    }\n",
       "\n",
       "    .dataframe thead th {\n",
       "        text-align: right;\n",
       "    }\n",
       "</style>\n",
       "<table border=\"1\" class=\"dataframe\">\n",
       "  <thead>\n",
       "    <tr style=\"text-align: right;\">\n",
       "      <th></th>\n",
       "      <th>authors</th>\n",
       "      <th>id</th>\n",
       "      <th>pages</th>\n",
       "      <th>title</th>\n",
       "      <th>type</th>\n",
       "      <th>year</th>\n",
       "      <th>journal.id</th>\n",
       "      <th>journal.title</th>\n",
       "      <th>issue</th>\n",
       "      <th>volume</th>\n",
       "    </tr>\n",
       "  </thead>\n",
       "  <tbody>\n",
       "    <tr>\n",
       "      <th>0</th>\n",
       "      <td>[{'affiliations': [{'city': 'Milan', 'city_id'...</td>\n",
       "      <td>pub.1144404199</td>\n",
       "      <td>1-8</td>\n",
       "      <td>The value of lamp to rule out imported malaria...</td>\n",
       "      <td>article</td>\n",
       "      <td>2022</td>\n",
       "      <td>jour.1012240</td>\n",
       "      <td>Infectious Diseases</td>\n",
       "      <td>NaN</td>\n",
       "      <td>NaN</td>\n",
       "    </tr>\n",
       "    <tr>\n",
       "      <th>1</th>\n",
       "      <td>[{'affiliations': [{'city': 'Foggia', 'city_id...</td>\n",
       "      <td>pub.1143322096</td>\n",
       "      <td>1521</td>\n",
       "      <td>Entomological Surveillance in Former Malaria-e...</td>\n",
       "      <td>article</td>\n",
       "      <td>2021</td>\n",
       "      <td>jour.1047674</td>\n",
       "      <td>Pathogens</td>\n",
       "      <td>11</td>\n",
       "      <td>10</td>\n",
       "    </tr>\n",
       "    <tr>\n",
       "      <th>2</th>\n",
       "      <td>[{'affiliations': [{'city': 'Rome', 'city_id':...</td>\n",
       "      <td>pub.1136415339</td>\n",
       "      <td>621974</td>\n",
       "      <td>Plasmodium matutinum Transmitted by Culex pipi...</td>\n",
       "      <td>article</td>\n",
       "      <td>2021</td>\n",
       "      <td>jour.1052367</td>\n",
       "      <td>Frontiers in Veterinary Science</td>\n",
       "      <td>NaN</td>\n",
       "      <td>8</td>\n",
       "    </tr>\n",
       "    <tr>\n",
       "      <th>3</th>\n",
       "      <td>[{'affiliations': [{'city': 'Rome', 'city_id':...</td>\n",
       "      <td>pub.1133261890</td>\n",
       "      <td>NaN</td>\n",
       "      <td>Artemisinin resistance surveillance in African...</td>\n",
       "      <td>article</td>\n",
       "      <td>2020</td>\n",
       "      <td>jour.1112262</td>\n",
       "      <td>Journal of Travel Medicine</td>\n",
       "      <td>5</td>\n",
       "      <td>28</td>\n",
       "    </tr>\n",
       "    <tr>\n",
       "      <th>4</th>\n",
       "      <td>NaN</td>\n",
       "      <td>pub.1132438137</td>\n",
       "      <td>9744-9748</td>\n",
       "      <td>Does Living in Previously Exposed Malaria or W...</td>\n",
       "      <td>article</td>\n",
       "      <td>2020</td>\n",
       "      <td>jour.1278986</td>\n",
       "      <td>Biointerface Research in Applied Chemistry</td>\n",
       "      <td>2</td>\n",
       "      <td>11</td>\n",
       "    </tr>\n",
       "  </tbody>\n",
       "</table>\n",
       "</div>"
      ],
      "text/plain": [
       "                                             authors              id  \\\n",
       "0  [{'affiliations': [{'city': 'Milan', 'city_id'...  pub.1144404199   \n",
       "1  [{'affiliations': [{'city': 'Foggia', 'city_id...  pub.1143322096   \n",
       "2  [{'affiliations': [{'city': 'Rome', 'city_id':...  pub.1136415339   \n",
       "3  [{'affiliations': [{'city': 'Rome', 'city_id':...  pub.1133261890   \n",
       "4                                                NaN  pub.1132438137   \n",
       "\n",
       "       pages                                              title     type  \\\n",
       "0        1-8  The value of lamp to rule out imported malaria...  article   \n",
       "1       1521  Entomological Surveillance in Former Malaria-e...  article   \n",
       "2     621974  Plasmodium matutinum Transmitted by Culex pipi...  article   \n",
       "3        NaN  Artemisinin resistance surveillance in African...  article   \n",
       "4  9744-9748  Does Living in Previously Exposed Malaria or W...  article   \n",
       "\n",
       "   year    journal.id                               journal.title issue volume  \n",
       "0  2022  jour.1012240                         Infectious Diseases   NaN    NaN  \n",
       "1  2021  jour.1047674                                   Pathogens    11     10  \n",
       "2  2021  jour.1052367             Frontiers in Veterinary Science   NaN      8  \n",
       "3  2020  jour.1112262                  Journal of Travel Medicine     5     28  \n",
       "4  2020  jour.1278986  Biointerface Research in Applied Chemistry     2     11  "
      ]
     },
     "execution_count": 17,
     "metadata": {},
     "output_type": "execute_result"
    }
   ],
   "source": [
    "%dsldf search publications in title_only for \"ital? malaria\" return publications limit 5"
   ]
  },
  {
   "cell_type": "code",
   "execution_count": 18,
   "metadata": {
    "Collapsed": "false"
   },
   "outputs": [
    {
     "name": "stdout",
     "output_type": "stream",
     "text": [
      "Returned Publications: 5 (total = 1709)\n",
      "\u001b[2mTime: 2.33s\u001b[0m\n"
     ]
    },
    {
     "data": {
      "text/html": [
       "<div>\n",
       "<style scoped>\n",
       "    .dataframe tbody tr th:only-of-type {\n",
       "        vertical-align: middle;\n",
       "    }\n",
       "\n",
       "    .dataframe tbody tr th {\n",
       "        vertical-align: top;\n",
       "    }\n",
       "\n",
       "    .dataframe thead th {\n",
       "        text-align: right;\n",
       "    }\n",
       "</style>\n",
       "<table border=\"1\" class=\"dataframe\">\n",
       "  <thead>\n",
       "    <tr style=\"text-align: right;\">\n",
       "      <th></th>\n",
       "      <th>authors</th>\n",
       "      <th>id</th>\n",
       "      <th>issue</th>\n",
       "      <th>pages</th>\n",
       "      <th>title</th>\n",
       "      <th>type</th>\n",
       "      <th>volume</th>\n",
       "      <th>year</th>\n",
       "      <th>journal.id</th>\n",
       "      <th>journal.title</th>\n",
       "    </tr>\n",
       "  </thead>\n",
       "  <tbody>\n",
       "    <tr>\n",
       "      <th>0</th>\n",
       "      <td>[{'affiliations': [{'city': 'Rāiganj', 'city_i...</td>\n",
       "      <td>pub.1144613444</td>\n",
       "      <td>1</td>\n",
       "      <td>630</td>\n",
       "      <td>Study of epidemiological behaviour of malaria ...</td>\n",
       "      <td>article</td>\n",
       "      <td>12</td>\n",
       "      <td>2022</td>\n",
       "      <td>jour.1045337</td>\n",
       "      <td>Scientific Reports</td>\n",
       "    </tr>\n",
       "    <tr>\n",
       "      <th>1</th>\n",
       "      <td>[{'affiliations': [{'city': 'Paris', 'city_id'...</td>\n",
       "      <td>pub.1144507923</td>\n",
       "      <td>1</td>\n",
       "      <td>e0262018</td>\n",
       "      <td>Retrospective study of toxoplasmosis prevalenc...</td>\n",
       "      <td>article</td>\n",
       "      <td>17</td>\n",
       "      <td>2022</td>\n",
       "      <td>jour.1037553</td>\n",
       "      <td>PLOS ONE</td>\n",
       "    </tr>\n",
       "    <tr>\n",
       "      <th>2</th>\n",
       "      <td>[{'affiliations': [{'city': 'Manaus', 'city_id...</td>\n",
       "      <td>pub.1144484495</td>\n",
       "      <td>NaN</td>\n",
       "      <td>NaN</td>\n",
       "      <td>Essential Oil of Piper Purusanum C.DC (Piperac...</td>\n",
       "      <td>preprint</td>\n",
       "      <td>NaN</td>\n",
       "      <td>2022</td>\n",
       "      <td>jour.1380788</td>\n",
       "      <td>Research Square</td>\n",
       "    </tr>\n",
       "    <tr>\n",
       "      <th>3</th>\n",
       "      <td>[{'affiliations': [{'city': 'Rio de Janeiro', ...</td>\n",
       "      <td>pub.1144409586</td>\n",
       "      <td>1</td>\n",
       "      <td>6</td>\n",
       "      <td>Naturally acquired antibody response to a Plas...</td>\n",
       "      <td>article</td>\n",
       "      <td>21</td>\n",
       "      <td>2022</td>\n",
       "      <td>jour.1030597</td>\n",
       "      <td>Malaria Journal</td>\n",
       "    </tr>\n",
       "    <tr>\n",
       "      <th>4</th>\n",
       "      <td>[{'affiliations': [{'city': 'Milan', 'city_id'...</td>\n",
       "      <td>pub.1144404199</td>\n",
       "      <td>NaN</td>\n",
       "      <td>1-8</td>\n",
       "      <td>The value of lamp to rule out imported malaria...</td>\n",
       "      <td>article</td>\n",
       "      <td>NaN</td>\n",
       "      <td>2022</td>\n",
       "      <td>jour.1012240</td>\n",
       "      <td>Infectious Diseases</td>\n",
       "    </tr>\n",
       "  </tbody>\n",
       "</table>\n",
       "</div>"
      ],
      "text/plain": [
       "                                             authors              id issue  \\\n",
       "0  [{'affiliations': [{'city': 'Rāiganj', 'city_i...  pub.1144613444     1   \n",
       "1  [{'affiliations': [{'city': 'Paris', 'city_id'...  pub.1144507923     1   \n",
       "2  [{'affiliations': [{'city': 'Manaus', 'city_id...  pub.1144484495   NaN   \n",
       "3  [{'affiliations': [{'city': 'Rio de Janeiro', ...  pub.1144409586     1   \n",
       "4  [{'affiliations': [{'city': 'Milan', 'city_id'...  pub.1144404199   NaN   \n",
       "\n",
       "      pages                                              title      type  \\\n",
       "0       630  Study of epidemiological behaviour of malaria ...   article   \n",
       "1  e0262018  Retrospective study of toxoplasmosis prevalenc...   article   \n",
       "2       NaN  Essential Oil of Piper Purusanum C.DC (Piperac...  preprint   \n",
       "3         6  Naturally acquired antibody response to a Plas...   article   \n",
       "4       1-8  The value of lamp to rule out imported malaria...   article   \n",
       "\n",
       "  volume  year    journal.id        journal.title  \n",
       "0     12  2022  jour.1045337   Scientific Reports  \n",
       "1     17  2022  jour.1037553             PLOS ONE  \n",
       "2    NaN  2022  jour.1380788      Research Square  \n",
       "3     21  2022  jour.1030597      Malaria Journal  \n",
       "4    NaN  2022  jour.1012240  Infectious Diseases  "
      ]
     },
     "execution_count": 18,
     "metadata": {},
     "output_type": "execute_result"
    }
   ],
   "source": [
    "%dsldf search publications in title_only for \"it* malaria\" return publications limit 5"
   ]
  },
  {
   "cell_type": "markdown",
   "metadata": {
    "Collapsed": "false"
   },
   "source": [
    "| Wildcard Search Type                                             | Special Character | Example                                                                                                                                                                                                                         |\n",
    "|------------------------------------------------------------------|-------------------|---------------------------------------------------------------------------------------------------------------------------------------------------------------------------------------------------------------------------------|\n",
    "| Single character - matches a single character                    | `?`               | The search string `te?t` would match both `test` and `text`.                                                                                                                                                                    |\n",
    "| Multiple characters - matches zero or more sequential characters | `*`               | The wildcard search: `tes*` would match `test`, `testing`, and `tester`. You can also use wildcard characters in the middle of a term. For example: `te*t` would match `test` and `text`. `*est` would match `pest` and `test`. |"
   ]
  },
  {
   "cell_type": "markdown",
   "metadata": {
    "Collapsed": "false"
   },
   "source": [
    "### 2.5 Proximity Searches\n",
    "\n",
    "A proximity search looks for terms that are within a specific distance\n",
    "from one another.\n",
    "\n",
    "To perform a proximity search, add the tilde character `~` and a numeric\n",
    "value to the end of a search phrase. For example, to search for a\n",
    "`formal` and `model` within 10 words of each other in a document, use\n",
    "the search:"
   ]
  },
  {
   "cell_type": "code",
   "execution_count": 19,
   "metadata": {
    "Collapsed": "false"
   },
   "outputs": [
    {
     "name": "stdout",
     "output_type": "stream",
     "text": [
      "Returned Publications: 5 (total = 550169)\n",
      "\u001b[2mTime: 5.39s\u001b[0m\n"
     ]
    },
    {
     "data": {
      "text/html": [
       "<div>\n",
       "<style scoped>\n",
       "    .dataframe tbody tr th:only-of-type {\n",
       "        vertical-align: middle;\n",
       "    }\n",
       "\n",
       "    .dataframe tbody tr th {\n",
       "        vertical-align: top;\n",
       "    }\n",
       "\n",
       "    .dataframe thead th {\n",
       "        text-align: right;\n",
       "    }\n",
       "</style>\n",
       "<table border=\"1\" class=\"dataframe\">\n",
       "  <thead>\n",
       "    <tr style=\"text-align: right;\">\n",
       "      <th></th>\n",
       "      <th>authors</th>\n",
       "      <th>id</th>\n",
       "      <th>issue</th>\n",
       "      <th>pages</th>\n",
       "      <th>title</th>\n",
       "      <th>type</th>\n",
       "      <th>volume</th>\n",
       "      <th>year</th>\n",
       "      <th>journal.id</th>\n",
       "      <th>journal.title</th>\n",
       "    </tr>\n",
       "  </thead>\n",
       "  <tbody>\n",
       "    <tr>\n",
       "      <th>0</th>\n",
       "      <td>[{'affiliations': [{'city': 'Linz', 'city_id':...</td>\n",
       "      <td>pub.1141731109</td>\n",
       "      <td>9</td>\n",
       "      <td>1-35</td>\n",
       "      <td>Adversary Models for Mobile Device Authentication</td>\n",
       "      <td>article</td>\n",
       "      <td>54</td>\n",
       "      <td>2022</td>\n",
       "      <td>jour.1119907</td>\n",
       "      <td>ACM Computing Surveys</td>\n",
       "    </tr>\n",
       "    <tr>\n",
       "      <th>1</th>\n",
       "      <td>[{'affiliations': [{'city': 'Singapore', 'city...</td>\n",
       "      <td>pub.1139789629</td>\n",
       "      <td>7</td>\n",
       "      <td>1-38</td>\n",
       "      <td>A Survey of Smart Contract Formal Specificatio...</td>\n",
       "      <td>article</td>\n",
       "      <td>54</td>\n",
       "      <td>2022</td>\n",
       "      <td>jour.1119907</td>\n",
       "      <td>ACM Computing Surveys</td>\n",
       "    </tr>\n",
       "    <tr>\n",
       "      <th>2</th>\n",
       "      <td>[{'affiliations': [{'city': 'Valencia', 'city_...</td>\n",
       "      <td>pub.1144441268</td>\n",
       "      <td>3</td>\n",
       "      <td>100187</td>\n",
       "      <td>Institutional factors affecting entrepreneursh...</td>\n",
       "      <td>article</td>\n",
       "      <td>28</td>\n",
       "      <td>2022</td>\n",
       "      <td>jour.1357518</td>\n",
       "      <td>Investigaciones Europeas de Dirección y Econom...</td>\n",
       "    </tr>\n",
       "    <tr>\n",
       "      <th>3</th>\n",
       "      <td>[{'affiliations': [{'city': 'Shanghai', 'city_...</td>\n",
       "      <td>pub.1144280894</td>\n",
       "      <td>7</td>\n",
       "      <td>1-20</td>\n",
       "      <td>Research on Evaluation of Intelligent Manufact...</td>\n",
       "      <td>article</td>\n",
       "      <td>30</td>\n",
       "      <td>2022</td>\n",
       "      <td>jour.1140896</td>\n",
       "      <td>Journal of Global Information Management</td>\n",
       "    </tr>\n",
       "    <tr>\n",
       "      <th>4</th>\n",
       "      <td>[{'affiliations': [{'city': 'Hong Kong', 'city...</td>\n",
       "      <td>pub.1143725523</td>\n",
       "      <td>3</td>\n",
       "      <td>1-37</td>\n",
       "      <td>A Comparison between Term-Independence Retriev...</td>\n",
       "      <td>article</td>\n",
       "      <td>40</td>\n",
       "      <td>2022</td>\n",
       "      <td>jour.1139887</td>\n",
       "      <td>ACM Transactions on Information Systems</td>\n",
       "    </tr>\n",
       "  </tbody>\n",
       "</table>\n",
       "</div>"
      ],
      "text/plain": [
       "                                             authors              id issue  \\\n",
       "0  [{'affiliations': [{'city': 'Linz', 'city_id':...  pub.1141731109     9   \n",
       "1  [{'affiliations': [{'city': 'Singapore', 'city...  pub.1139789629     7   \n",
       "2  [{'affiliations': [{'city': 'Valencia', 'city_...  pub.1144441268     3   \n",
       "3  [{'affiliations': [{'city': 'Shanghai', 'city_...  pub.1144280894     7   \n",
       "4  [{'affiliations': [{'city': 'Hong Kong', 'city...  pub.1143725523     3   \n",
       "\n",
       "    pages                                              title     type volume  \\\n",
       "0    1-35  Adversary Models for Mobile Device Authentication  article     54   \n",
       "1    1-38  A Survey of Smart Contract Formal Specificatio...  article     54   \n",
       "2  100187  Institutional factors affecting entrepreneursh...  article     28   \n",
       "3    1-20  Research on Evaluation of Intelligent Manufact...  article     30   \n",
       "4    1-37  A Comparison between Term-Independence Retriev...  article     40   \n",
       "\n",
       "   year    journal.id                                      journal.title  \n",
       "0  2022  jour.1119907                              ACM Computing Surveys  \n",
       "1  2022  jour.1119907                              ACM Computing Surveys  \n",
       "2  2022  jour.1357518  Investigaciones Europeas de Dirección y Econom...  \n",
       "3  2022  jour.1140896           Journal of Global Information Management  \n",
       "4  2022  jour.1139887            ACM Transactions on Information Systems  "
      ]
     },
     "execution_count": 19,
     "metadata": {},
     "output_type": "execute_result"
    }
   ],
   "source": [
    "%dsldf search publications for \"\\\"formal model\\\"~10\" return publications limit 5"
   ]
  },
  {
   "cell_type": "code",
   "execution_count": 20,
   "metadata": {
    "Collapsed": "false"
   },
   "outputs": [
    {
     "name": "stdout",
     "output_type": "stream",
     "text": [
      "Returned Publications: 5 (total = 12046)\n",
      "\u001b[2mTime: 4.76s\u001b[0m\n"
     ]
    },
    {
     "data": {
      "text/html": [
       "<div>\n",
       "<style scoped>\n",
       "    .dataframe tbody tr th:only-of-type {\n",
       "        vertical-align: middle;\n",
       "    }\n",
       "\n",
       "    .dataframe tbody tr th {\n",
       "        vertical-align: top;\n",
       "    }\n",
       "\n",
       "    .dataframe thead th {\n",
       "        text-align: right;\n",
       "    }\n",
       "</style>\n",
       "<table border=\"1\" class=\"dataframe\">\n",
       "  <thead>\n",
       "    <tr style=\"text-align: right;\">\n",
       "      <th></th>\n",
       "      <th>authors</th>\n",
       "      <th>id</th>\n",
       "      <th>pages</th>\n",
       "      <th>title</th>\n",
       "      <th>type</th>\n",
       "      <th>year</th>\n",
       "      <th>journal.id</th>\n",
       "      <th>journal.title</th>\n",
       "      <th>issue</th>\n",
       "      <th>volume</th>\n",
       "    </tr>\n",
       "  </thead>\n",
       "  <tbody>\n",
       "    <tr>\n",
       "      <th>0</th>\n",
       "      <td>[{'affiliations': [{'city': 'Isparta', 'city_i...</td>\n",
       "      <td>pub.1144707794</td>\n",
       "      <td>1-21</td>\n",
       "      <td>Automatic and intelligent content visualizatio...</td>\n",
       "      <td>article</td>\n",
       "      <td>2022</td>\n",
       "      <td>jour.1104357</td>\n",
       "      <td>Neural Computing and Applications</td>\n",
       "      <td>NaN</td>\n",
       "      <td>NaN</td>\n",
       "    </tr>\n",
       "    <tr>\n",
       "      <th>1</th>\n",
       "      <td>[{'affiliations': [], 'corresponding': '', 'cu...</td>\n",
       "      <td>pub.1144619382</td>\n",
       "      <td>NaN</td>\n",
       "      <td>The Performance of Sculpture in Renaissance Ve...</td>\n",
       "      <td>monograph</td>\n",
       "      <td>2022</td>\n",
       "      <td>NaN</td>\n",
       "      <td>NaN</td>\n",
       "      <td>NaN</td>\n",
       "      <td>NaN</td>\n",
       "    </tr>\n",
       "    <tr>\n",
       "      <th>2</th>\n",
       "      <td>[{'affiliations': [{'city': 'Lübeck', 'city_id...</td>\n",
       "      <td>pub.1141892042</td>\n",
       "      <td>e25440</td>\n",
       "      <td>Understanding the Nature of Metadata: Systemat...</td>\n",
       "      <td>article</td>\n",
       "      <td>2022</td>\n",
       "      <td>jour.1312070</td>\n",
       "      <td>Journal of Medical Internet Research</td>\n",
       "      <td>1</td>\n",
       "      <td>24</td>\n",
       "    </tr>\n",
       "    <tr>\n",
       "      <th>3</th>\n",
       "      <td>[{'affiliations': [{'city': 'Shangxian', 'city...</td>\n",
       "      <td>pub.1144506374</td>\n",
       "      <td>1-6</td>\n",
       "      <td>International Trade English Phrases and Gramma...</td>\n",
       "      <td>article</td>\n",
       "      <td>2022</td>\n",
       "      <td>jour.1047050</td>\n",
       "      <td>Scientific Programming</td>\n",
       "      <td>NaN</td>\n",
       "      <td>2022</td>\n",
       "    </tr>\n",
       "    <tr>\n",
       "      <th>4</th>\n",
       "      <td>[{'affiliations': [{'city': 'Jena', 'city_id':...</td>\n",
       "      <td>pub.1144482039</td>\n",
       "      <td>1</td>\n",
       "      <td>End-to-End provenance representation for the u...</td>\n",
       "      <td>article</td>\n",
       "      <td>2022</td>\n",
       "      <td>jour.1043573</td>\n",
       "      <td>Journal of Biomedical Semantics</td>\n",
       "      <td>1</td>\n",
       "      <td>13</td>\n",
       "    </tr>\n",
       "  </tbody>\n",
       "</table>\n",
       "</div>"
      ],
      "text/plain": [
       "                                             authors              id   pages  \\\n",
       "0  [{'affiliations': [{'city': 'Isparta', 'city_i...  pub.1144707794    1-21   \n",
       "1  [{'affiliations': [], 'corresponding': '', 'cu...  pub.1144619382     NaN   \n",
       "2  [{'affiliations': [{'city': 'Lübeck', 'city_id...  pub.1141892042  e25440   \n",
       "3  [{'affiliations': [{'city': 'Shangxian', 'city...  pub.1144506374     1-6   \n",
       "4  [{'affiliations': [{'city': 'Jena', 'city_id':...  pub.1144482039       1   \n",
       "\n",
       "                                               title       type  year  \\\n",
       "0  Automatic and intelligent content visualizatio...    article  2022   \n",
       "1  The Performance of Sculpture in Renaissance Ve...  monograph  2022   \n",
       "2  Understanding the Nature of Metadata: Systemat...    article  2022   \n",
       "3  International Trade English Phrases and Gramma...    article  2022   \n",
       "4  End-to-End provenance representation for the u...    article  2022   \n",
       "\n",
       "     journal.id                         journal.title issue volume  \n",
       "0  jour.1104357     Neural Computing and Applications   NaN    NaN  \n",
       "1           NaN                                   NaN   NaN    NaN  \n",
       "2  jour.1312070  Journal of Medical Internet Research     1     24  \n",
       "3  jour.1047050                Scientific Programming   NaN   2022  \n",
       "4  jour.1043573       Journal of Biomedical Semantics     1     13  "
      ]
     },
     "execution_count": 20,
     "metadata": {},
     "output_type": "execute_result"
    }
   ],
   "source": [
    "%dsldf search publications for \"\\\"digital humanities\\\"~5  +ontology\" return publications limit 5"
   ]
  },
  {
   "cell_type": "markdown",
   "metadata": {
    "Collapsed": "false"
   },
   "source": [
    "The distance referred to here is the number of term movements needed to match the specified phrase.  \n",
    "In the example above, if `formal` and `model` were 10 spaces apart in a\n",
    "field, but `formal` appeared before `model`, more than 10 term movements\n",
    "would be required to move the terms together and position `formal` to\n",
    "the right of `model` with a space in between."
   ]
  },
  {
   "cell_type": "markdown",
   "metadata": {
    "Collapsed": "false",
    "toc-hr-collapsed": true,
    "toc-nb-collapsed": true
   },
   "source": [
    "## 3. Field Searching\n",
    "\n",
    "Field searching allows to use a specific `field` of a `source` as a\n",
    "query filter. For example, this can be a\n",
    "[Literal](supported-types.ipynb) field such as the $type$ of a\n",
    "publication, its $date$, $mesh terms$, etc.. Or it can be an\n",
    "[entity](data-entities.ipynb) field, such as the $journal title$ for a\n",
    "publication, the $country name$ of its author affiliations, etc..\n",
    "\n",
    "**What are the fields available for each source?** See the [data sources](https://docs.dimensions.ai/dsl/data-sources.html) section of the documentation. \n",
    "\n",
    "Alternatively, we can use the 'schema' API ([describe](https://docs.dimensions.ai/dsl/data-sources.html#metadata-api)) to return this information programmatically: "
   ]
  },
  {
   "cell_type": "code",
   "execution_count": 21,
   "metadata": {
    "Collapsed": "false"
   },
   "outputs": [
    {
     "data": {
      "text/html": [
       "<div>\n",
       "<style scoped>\n",
       "    .dataframe tbody tr th:only-of-type {\n",
       "        vertical-align: middle;\n",
       "    }\n",
       "\n",
       "    .dataframe tbody tr th {\n",
       "        vertical-align: top;\n",
       "    }\n",
       "\n",
       "    .dataframe thead th {\n",
       "        text-align: right;\n",
       "    }\n",
       "</style>\n",
       "<table border=\"1\" class=\"dataframe\">\n",
       "  <thead>\n",
       "    <tr style=\"text-align: right;\">\n",
       "      <th></th>\n",
       "      <th>sources</th>\n",
       "      <th>field</th>\n",
       "      <th>type</th>\n",
       "      <th>description</th>\n",
       "      <th>is_filter</th>\n",
       "      <th>is_entity</th>\n",
       "      <th>is_facet</th>\n",
       "    </tr>\n",
       "  </thead>\n",
       "  <tbody>\n",
       "    <tr>\n",
       "      <th>0</th>\n",
       "      <td>publications</td>\n",
       "      <td>abstract</td>\n",
       "      <td>string</td>\n",
       "      <td>The publication abstract.</td>\n",
       "      <td>False</td>\n",
       "      <td>False</td>\n",
       "      <td>False</td>\n",
       "    </tr>\n",
       "    <tr>\n",
       "      <th>1</th>\n",
       "      <td>publications</td>\n",
       "      <td>acknowledgements</td>\n",
       "      <td>string</td>\n",
       "      <td>The acknowledgements section text as found in ...</td>\n",
       "      <td>False</td>\n",
       "      <td>False</td>\n",
       "      <td>False</td>\n",
       "    </tr>\n",
       "    <tr>\n",
       "      <th>2</th>\n",
       "      <td>publications</td>\n",
       "      <td>altmetric</td>\n",
       "      <td>float</td>\n",
       "      <td>Altmetric Attention Score.</td>\n",
       "      <td>True</td>\n",
       "      <td>False</td>\n",
       "      <td>False</td>\n",
       "    </tr>\n",
       "    <tr>\n",
       "      <th>3</th>\n",
       "      <td>publications</td>\n",
       "      <td>altmetric_id</td>\n",
       "      <td>integer</td>\n",
       "      <td>Altmetric Publication ID</td>\n",
       "      <td>True</td>\n",
       "      <td>False</td>\n",
       "      <td>False</td>\n",
       "    </tr>\n",
       "    <tr>\n",
       "      <th>4</th>\n",
       "      <td>publications</td>\n",
       "      <td>arxiv_id</td>\n",
       "      <td>string</td>\n",
       "      <td>The publications arXiv identifier (e.g. ‘arXiv...</td>\n",
       "      <td>True</td>\n",
       "      <td>False</td>\n",
       "      <td>False</td>\n",
       "    </tr>\n",
       "    <tr>\n",
       "      <th>...</th>\n",
       "      <td>...</td>\n",
       "      <td>...</td>\n",
       "      <td>...</td>\n",
       "      <td>...</td>\n",
       "      <td>...</td>\n",
       "      <td>...</td>\n",
       "      <td>...</td>\n",
       "    </tr>\n",
       "    <tr>\n",
       "      <th>62</th>\n",
       "      <td>publications</td>\n",
       "      <td>times_cited</td>\n",
       "      <td>integer</td>\n",
       "      <td>Number of citations (note: does not support em...</td>\n",
       "      <td>True</td>\n",
       "      <td>False</td>\n",
       "      <td>True</td>\n",
       "    </tr>\n",
       "    <tr>\n",
       "      <th>63</th>\n",
       "      <td>publications</td>\n",
       "      <td>title</td>\n",
       "      <td>string</td>\n",
       "      <td>Title of a publication.</td>\n",
       "      <td>False</td>\n",
       "      <td>False</td>\n",
       "      <td>False</td>\n",
       "    </tr>\n",
       "    <tr>\n",
       "      <th>64</th>\n",
       "      <td>publications</td>\n",
       "      <td>type</td>\n",
       "      <td>string</td>\n",
       "      <td>Publication type (one of: article, chapter, pr...</td>\n",
       "      <td>True</td>\n",
       "      <td>False</td>\n",
       "      <td>True</td>\n",
       "    </tr>\n",
       "    <tr>\n",
       "      <th>65</th>\n",
       "      <td>publications</td>\n",
       "      <td>volume</td>\n",
       "      <td>string</td>\n",
       "      <td>Publication volume.</td>\n",
       "      <td>True</td>\n",
       "      <td>False</td>\n",
       "      <td>False</td>\n",
       "    </tr>\n",
       "    <tr>\n",
       "      <th>66</th>\n",
       "      <td>publications</td>\n",
       "      <td>year</td>\n",
       "      <td>integer</td>\n",
       "      <td>The year for the version of record of publicat...</td>\n",
       "      <td>True</td>\n",
       "      <td>False</td>\n",
       "      <td>True</td>\n",
       "    </tr>\n",
       "  </tbody>\n",
       "</table>\n",
       "<p>67 rows × 7 columns</p>\n",
       "</div>"
      ],
      "text/plain": [
       "         sources             field     type  \\\n",
       "0   publications          abstract   string   \n",
       "1   publications  acknowledgements   string   \n",
       "2   publications         altmetric    float   \n",
       "3   publications      altmetric_id  integer   \n",
       "4   publications          arxiv_id   string   \n",
       "..           ...               ...      ...   \n",
       "62  publications       times_cited  integer   \n",
       "63  publications             title   string   \n",
       "64  publications              type   string   \n",
       "65  publications            volume   string   \n",
       "66  publications              year  integer   \n",
       "\n",
       "                                          description  is_filter  is_entity  \\\n",
       "0                           The publication abstract.      False      False   \n",
       "1   The acknowledgements section text as found in ...      False      False   \n",
       "2                          Altmetric Attention Score.       True      False   \n",
       "3                            Altmetric Publication ID       True      False   \n",
       "4   The publications arXiv identifier (e.g. ‘arXiv...       True      False   \n",
       "..                                                ...        ...        ...   \n",
       "62  Number of citations (note: does not support em...       True      False   \n",
       "63                            Title of a publication.      False      False   \n",
       "64  Publication type (one of: article, chapter, pr...       True      False   \n",
       "65                                Publication volume.       True      False   \n",
       "66  The year for the version of record of publicat...       True      False   \n",
       "\n",
       "    is_facet  \n",
       "0      False  \n",
       "1      False  \n",
       "2      False  \n",
       "3      False  \n",
       "4      False  \n",
       "..       ...  \n",
       "62      True  \n",
       "63     False  \n",
       "64      True  \n",
       "65     False  \n",
       "66      True  \n",
       "\n",
       "[67 rows x 7 columns]"
      ]
     },
     "execution_count": 21,
     "metadata": {},
     "output_type": "execute_result"
    }
   ],
   "source": [
    "%dsldocs publications  "
   ]
  },
  {
   "cell_type": "markdown",
   "metadata": {
    "Collapsed": "false"
   },
   "source": [
    "### 3.1 `where`\n",
    "\n",
    "This optional phrase consists of the keyword `where` followed by a\n",
    "`filters` phrase consisting of DSL filter expressions, as described\n",
    "below."
   ]
  },
  {
   "cell_type": "code",
   "execution_count": 22,
   "metadata": {
    "Collapsed": "false"
   },
   "outputs": [
    {
     "name": "stdout",
     "output_type": "stream",
     "text": [
      "Returned Publications: 5 (total = 592280)\n",
      "\u001b[2mTime: 0.62s\u001b[0m\n"
     ]
    },
    {
     "data": {
      "text/html": [
       "<div>\n",
       "<style scoped>\n",
       "    .dataframe tbody tr th:only-of-type {\n",
       "        vertical-align: middle;\n",
       "    }\n",
       "\n",
       "    .dataframe tbody tr th {\n",
       "        vertical-align: top;\n",
       "    }\n",
       "\n",
       "    .dataframe thead th {\n",
       "        text-align: right;\n",
       "    }\n",
       "</style>\n",
       "<table border=\"1\" class=\"dataframe\">\n",
       "  <thead>\n",
       "    <tr style=\"text-align: right;\">\n",
       "      <th></th>\n",
       "      <th>id</th>\n",
       "      <th>title</th>\n",
       "      <th>type</th>\n",
       "      <th>year</th>\n",
       "    </tr>\n",
       "  </thead>\n",
       "  <tbody>\n",
       "    <tr>\n",
       "      <th>0</th>\n",
       "      <td>pub.1132180584</td>\n",
       "      <td>De consensu evangelistarum</td>\n",
       "      <td>book</td>\n",
       "      <td>2022</td>\n",
       "    </tr>\n",
       "    <tr>\n",
       "      <th>1</th>\n",
       "      <td>pub.1144311572</td>\n",
       "      <td>L'anti-manuel de management dans les EHPAD</td>\n",
       "      <td>book</td>\n",
       "      <td>2022</td>\n",
       "    </tr>\n",
       "    <tr>\n",
       "      <th>2</th>\n",
       "      <td>pub.1144411807</td>\n",
       "      <td>Roots and Trajectories of Violent Extremism an...</td>\n",
       "      <td>book</td>\n",
       "      <td>2022</td>\n",
       "    </tr>\n",
       "    <tr>\n",
       "      <th>3</th>\n",
       "      <td>pub.1144515956</td>\n",
       "      <td>Land Use Change and Its Ecological Effects in ...</td>\n",
       "      <td>book</td>\n",
       "      <td>2022</td>\n",
       "    </tr>\n",
       "    <tr>\n",
       "      <th>4</th>\n",
       "      <td>pub.1143803770</td>\n",
       "      <td>DISCURSO E GRAMÁTICA: entrelaces e perspectiva...</td>\n",
       "      <td>book</td>\n",
       "      <td>2022</td>\n",
       "    </tr>\n",
       "  </tbody>\n",
       "</table>\n",
       "</div>"
      ],
      "text/plain": [
       "               id                                              title  type  \\\n",
       "0  pub.1132180584                         De consensu evangelistarum  book   \n",
       "1  pub.1144311572         L'anti-manuel de management dans les EHPAD  book   \n",
       "2  pub.1144411807  Roots and Trajectories of Violent Extremism an...  book   \n",
       "3  pub.1144515956  Land Use Change and Its Ecological Effects in ...  book   \n",
       "4  pub.1143803770  DISCURSO E GRAMÁTICA: entrelaces e perspectiva...  book   \n",
       "\n",
       "   year  \n",
       "0  2022  \n",
       "1  2022  \n",
       "2  2022  \n",
       "3  2022  \n",
       "4  2022  "
      ]
     },
     "execution_count": 22,
     "metadata": {},
     "output_type": "execute_result"
    }
   ],
   "source": [
    "%dsldf search publications where type = \"book\" return publications limit 5"
   ]
  },
  {
   "cell_type": "markdown",
   "metadata": {
    "Collapsed": "false"
   },
   "source": [
    "If a `for` phrase is also used in a filtered query, the\n",
    "system will first apply the filters, and then search the resulting\n",
    "restricted set of documents for the `search term`."
   ]
  },
  {
   "cell_type": "code",
   "execution_count": 23,
   "metadata": {
    "Collapsed": "false"
   },
   "outputs": [
    {
     "name": "stdout",
     "output_type": "stream",
     "text": [
      "Returned Publications: 5 (total = 22294)\n",
      "\u001b[2mTime: 0.82s\u001b[0m\n"
     ]
    },
    {
     "data": {
      "text/html": [
       "<div>\n",
       "<style scoped>\n",
       "    .dataframe tbody tr th:only-of-type {\n",
       "        vertical-align: middle;\n",
       "    }\n",
       "\n",
       "    .dataframe tbody tr th {\n",
       "        vertical-align: top;\n",
       "    }\n",
       "\n",
       "    .dataframe thead th {\n",
       "        text-align: right;\n",
       "    }\n",
       "</style>\n",
       "<table border=\"1\" class=\"dataframe\">\n",
       "  <thead>\n",
       "    <tr style=\"text-align: right;\">\n",
       "      <th></th>\n",
       "      <th>id</th>\n",
       "      <th>title</th>\n",
       "      <th>type</th>\n",
       "      <th>year</th>\n",
       "      <th>volume</th>\n",
       "    </tr>\n",
       "  </thead>\n",
       "  <tbody>\n",
       "    <tr>\n",
       "      <th>0</th>\n",
       "      <td>pub.1144315336</td>\n",
       "      <td>Invertebrate Medicine</td>\n",
       "      <td>book</td>\n",
       "      <td>2022</td>\n",
       "      <td>NaN</td>\n",
       "    </tr>\n",
       "    <tr>\n",
       "      <th>1</th>\n",
       "      <td>pub.1144494935</td>\n",
       "      <td>Metallosurfactants</td>\n",
       "      <td>book</td>\n",
       "      <td>2022</td>\n",
       "      <td>NaN</td>\n",
       "    </tr>\n",
       "    <tr>\n",
       "      <th>2</th>\n",
       "      <td>pub.1144493884</td>\n",
       "      <td>Probiotics, Prebiotics and Synbiotics</td>\n",
       "      <td>book</td>\n",
       "      <td>2022</td>\n",
       "      <td>NaN</td>\n",
       "    </tr>\n",
       "    <tr>\n",
       "      <th>3</th>\n",
       "      <td>pub.1144718404</td>\n",
       "      <td>Zusammenfassung</td>\n",
       "      <td>book</td>\n",
       "      <td>2022</td>\n",
       "      <td>Band 10</td>\n",
       "    </tr>\n",
       "    <tr>\n",
       "      <th>4</th>\n",
       "      <td>pub.1144752324</td>\n",
       "      <td>Handbook of Biomass Valorization for Industria...</td>\n",
       "      <td>book</td>\n",
       "      <td>2022</td>\n",
       "      <td>NaN</td>\n",
       "    </tr>\n",
       "  </tbody>\n",
       "</table>\n",
       "</div>"
      ],
      "text/plain": [
       "               id                                              title  type  \\\n",
       "0  pub.1144315336                              Invertebrate Medicine  book   \n",
       "1  pub.1144494935                                 Metallosurfactants  book   \n",
       "2  pub.1144493884              Probiotics, Prebiotics and Synbiotics  book   \n",
       "3  pub.1144718404                                    Zusammenfassung  book   \n",
       "4  pub.1144752324  Handbook of Biomass Valorization for Industria...  book   \n",
       "\n",
       "   year   volume  \n",
       "0  2022      NaN  \n",
       "1  2022      NaN  \n",
       "2  2022      NaN  \n",
       "3  2022  Band 10  \n",
       "4  2022      NaN  "
      ]
     },
     "execution_count": 23,
     "metadata": {},
     "output_type": "execute_result"
    }
   ],
   "source": [
    "%dsldf search publications for \"malaria\" where type = \"book\" return publications limit 5"
   ]
  },
  {
   "cell_type": "markdown",
   "metadata": {
    "Collapsed": "false"
   },
   "source": [
    "### 3.2 `in`\n",
    "\n",
    "For convenience, the DSL also supports shorthand notation for filters\n",
    "where a particular field should be restricted to a specified range or\n",
    "list of values (although the same logic may be expressed using complex\n",
    "filters as shown below).\n",
    "\n",
    "Syntax: a **range filter** consists of the `field` name, the keyword `in`, and a\n",
    "range of values enclosed in square brackets (`[]`), where the range\n",
    "consists of a `low` value, colon `:`, and a `high` value."
   ]
  },
  {
   "cell_type": "code",
   "execution_count": 24,
   "metadata": {
    "Collapsed": "false"
   },
   "outputs": [
    {
     "name": "stdout",
     "output_type": "stream",
     "text": [
      "Returned Grants: 5 (total = 3281)\n",
      "\u001b[2mTime: 2.33s\u001b[0m\n"
     ]
    },
    {
     "data": {
      "text/html": [
       "<div>\n",
       "<style scoped>\n",
       "    .dataframe tbody tr th:only-of-type {\n",
       "        vertical-align: middle;\n",
       "    }\n",
       "\n",
       "    .dataframe tbody tr th {\n",
       "        vertical-align: top;\n",
       "    }\n",
       "\n",
       "    .dataframe thead th {\n",
       "        text-align: right;\n",
       "    }\n",
       "</style>\n",
       "<table border=\"1\" class=\"dataframe\">\n",
       "  <thead>\n",
       "    <tr style=\"text-align: right;\">\n",
       "      <th></th>\n",
       "      <th>active_year</th>\n",
       "      <th>end_date</th>\n",
       "      <th>funders</th>\n",
       "      <th>funding_org_name</th>\n",
       "      <th>grant_number</th>\n",
       "      <th>id</th>\n",
       "      <th>language</th>\n",
       "      <th>original_title</th>\n",
       "      <th>start_date</th>\n",
       "      <th>start_year</th>\n",
       "      <th>title</th>\n",
       "    </tr>\n",
       "  </thead>\n",
       "  <tbody>\n",
       "    <tr>\n",
       "      <th>0</th>\n",
       "      <td>[2015, 2016, 2017]</td>\n",
       "      <td>2017-11-30</td>\n",
       "      <td>[{'acronym': 'NIAID', 'city_name': 'Bethesda',...</td>\n",
       "      <td>National Institute of Allergy and Infectious D...</td>\n",
       "      <td>R21AI120981</td>\n",
       "      <td>grant.4729738</td>\n",
       "      <td>en</td>\n",
       "      <td>Bloodborne tropical pathogen detection using m...</td>\n",
       "      <td>2015-12-28</td>\n",
       "      <td>2015</td>\n",
       "      <td>Bloodborne tropical pathogen detection using m...</td>\n",
       "    </tr>\n",
       "    <tr>\n",
       "      <th>1</th>\n",
       "      <td>[2015, 2016, 2017, 2018, 2019]</td>\n",
       "      <td>2019-02-28</td>\n",
       "      <td>[{'acronym': 'NIAID', 'city_name': 'Bethesda',...</td>\n",
       "      <td>National Institute of Allergy and Infectious D...</td>\n",
       "      <td>R21AI120973</td>\n",
       "      <td>grant.4729736</td>\n",
       "      <td>en</td>\n",
       "      <td>Field-deployable Assay for Differential Diagno...</td>\n",
       "      <td>2015-12-24</td>\n",
       "      <td>2015</td>\n",
       "      <td>Field-deployable Assay for Differential Diagno...</td>\n",
       "    </tr>\n",
       "    <tr>\n",
       "      <th>2</th>\n",
       "      <td>[2015, 2016, 2017, 2018]</td>\n",
       "      <td>2018-11-30</td>\n",
       "      <td>[{'acronym': 'NIAID', 'city_name': 'Bethesda',...</td>\n",
       "      <td>National Institute of Allergy and Infectious D...</td>\n",
       "      <td>R21AI109439</td>\n",
       "      <td>grant.4729699</td>\n",
       "      <td>en</td>\n",
       "      <td>T cell driven antigen discovery for vaccine ca...</td>\n",
       "      <td>2015-12-21</td>\n",
       "      <td>2015</td>\n",
       "      <td>T cell driven antigen discovery for vaccine ca...</td>\n",
       "    </tr>\n",
       "    <tr>\n",
       "      <th>3</th>\n",
       "      <td>[2015, 2016, 2017, 2018]</td>\n",
       "      <td>2018-12-18</td>\n",
       "      <td>[{'acronym': 'VolkswagenStiftung', 'city_name'...</td>\n",
       "      <td>Volkswagen Foundation</td>\n",
       "      <td>91488</td>\n",
       "      <td>grant.4854433</td>\n",
       "      <td>en</td>\n",
       "      <td>Senior Fellowship for Dr. Eduardo Samo Gudo: E...</td>\n",
       "      <td>2015-12-18</td>\n",
       "      <td>2015</td>\n",
       "      <td>Senior Fellowship for Dr. Eduardo Samo Gudo: E...</td>\n",
       "    </tr>\n",
       "    <tr>\n",
       "      <th>4</th>\n",
       "      <td>[2015, 2016, 2017, 2018, 2019]</td>\n",
       "      <td>2019-09-30</td>\n",
       "      <td>[{'acronym': 'NIFA', 'city_name': 'Washington ...</td>\n",
       "      <td>National Institute of Food and Agriculture</td>\n",
       "      <td>N/A</td>\n",
       "      <td>grant.8821176</td>\n",
       "      <td>en</td>\n",
       "      <td>Biology, Ecology &amp; Management of Emerging Dise...</td>\n",
       "      <td>2015-12-10</td>\n",
       "      <td>2015</td>\n",
       "      <td>Biology, Ecology &amp; Management of Emerging Dise...</td>\n",
       "    </tr>\n",
       "  </tbody>\n",
       "</table>\n",
       "</div>"
      ],
      "text/plain": [
       "                      active_year    end_date  \\\n",
       "0              [2015, 2016, 2017]  2017-11-30   \n",
       "1  [2015, 2016, 2017, 2018, 2019]  2019-02-28   \n",
       "2        [2015, 2016, 2017, 2018]  2018-11-30   \n",
       "3        [2015, 2016, 2017, 2018]  2018-12-18   \n",
       "4  [2015, 2016, 2017, 2018, 2019]  2019-09-30   \n",
       "\n",
       "                                             funders  \\\n",
       "0  [{'acronym': 'NIAID', 'city_name': 'Bethesda',...   \n",
       "1  [{'acronym': 'NIAID', 'city_name': 'Bethesda',...   \n",
       "2  [{'acronym': 'NIAID', 'city_name': 'Bethesda',...   \n",
       "3  [{'acronym': 'VolkswagenStiftung', 'city_name'...   \n",
       "4  [{'acronym': 'NIFA', 'city_name': 'Washington ...   \n",
       "\n",
       "                                    funding_org_name grant_number  \\\n",
       "0  National Institute of Allergy and Infectious D...  R21AI120981   \n",
       "1  National Institute of Allergy and Infectious D...  R21AI120973   \n",
       "2  National Institute of Allergy and Infectious D...  R21AI109439   \n",
       "3                              Volkswagen Foundation        91488   \n",
       "4         National Institute of Food and Agriculture          N/A   \n",
       "\n",
       "              id language                                     original_title  \\\n",
       "0  grant.4729738       en  Bloodborne tropical pathogen detection using m...   \n",
       "1  grant.4729736       en  Field-deployable Assay for Differential Diagno...   \n",
       "2  grant.4729699       en  T cell driven antigen discovery for vaccine ca...   \n",
       "3  grant.4854433       en  Senior Fellowship for Dr. Eduardo Samo Gudo: E...   \n",
       "4  grant.8821176       en  Biology, Ecology & Management of Emerging Dise...   \n",
       "\n",
       "   start_date  start_year                                              title  \n",
       "0  2015-12-28        2015  Bloodborne tropical pathogen detection using m...  \n",
       "1  2015-12-24        2015  Field-deployable Assay for Differential Diagno...  \n",
       "2  2015-12-21        2015  T cell driven antigen discovery for vaccine ca...  \n",
       "3  2015-12-18        2015  Senior Fellowship for Dr. Eduardo Samo Gudo: E...  \n",
       "4  2015-12-10        2015  Biology, Ecology & Management of Emerging Dise...  "
      ]
     },
     "execution_count": 24,
     "metadata": {},
     "output_type": "execute_result"
    }
   ],
   "source": [
    "%%dsldf \n",
    "search grants \n",
    "    for \"malaria\" \n",
    "    where start_year in [ 2010 : 2015 ] \n",
    "return grants limit 5"
   ]
  },
  {
   "cell_type": "markdown",
   "metadata": {
    "Collapsed": "false"
   },
   "source": [
    "Syntax: a **list filter** consists of the `field` name, the keyword `in`, and a list\n",
    "of one or more `value` s enclosed in square brackets (`[]`), where\n",
    "values are separated by commas (`,`):"
   ]
  },
  {
   "cell_type": "code",
   "execution_count": 73,
   "metadata": {
    "Collapsed": "false"
   },
   "outputs": [
    {
     "name": "stdout",
     "output_type": "stream",
     "text": [
      "Returned Grants: 0\n",
      "\u001b[2mTime: 0.56s\u001b[0m\n"
     ]
    },
    {
     "data": {
      "text/html": [
       "<div>\n",
       "<style scoped>\n",
       "    .dataframe tbody tr th:only-of-type {\n",
       "        vertical-align: middle;\n",
       "    }\n",
       "\n",
       "    .dataframe tbody tr th {\n",
       "        vertical-align: top;\n",
       "    }\n",
       "\n",
       "    .dataframe thead th {\n",
       "        text-align: right;\n",
       "    }\n",
       "</style>\n",
       "<table border=\"1\" class=\"dataframe\">\n",
       "  <thead>\n",
       "    <tr style=\"text-align: right;\">\n",
       "      <th></th>\n",
       "    </tr>\n",
       "  </thead>\n",
       "  <tbody>\n",
       "  </tbody>\n",
       "</table>\n",
       "</div>"
      ],
      "text/plain": [
       "Empty DataFrame\n",
       "Columns: []\n",
       "Index: []"
      ]
     },
     "execution_count": 73,
     "metadata": {},
     "output_type": "execute_result"
    }
   ],
   "source": [
    "%%dsldf \n",
    "search grants \n",
    "    for \"malaria\" \n",
    "    where research_org_names in [ \"UC Berkeley\", \"UC Davis\", \"UCLA\"  ] \n",
    "return grants limit 5"
   ]
  },
  {
   "cell_type": "markdown",
   "metadata": {
    "Collapsed": "false"
   },
   "source": [
    "### 3.3 `count` - filter function\n",
    "\n",
    "The filter function `count` is supported on some fields in\n",
    "[publications](publications.ipynb) (e.g. `researchers` and\n",
    "`research_orgs`).\n",
    "\n",
    "Use of this filter is shown on the example below:"
   ]
  },
  {
   "cell_type": "code",
   "execution_count": 26,
   "metadata": {
    "Collapsed": "false"
   },
   "outputs": [
    {
     "name": "stdout",
     "output_type": "stream",
     "text": [
      "Returned Research_orgs: 5\n",
      "\u001b[2mTime: 2.67s\u001b[0m\n"
     ]
    },
    {
     "data": {
      "text/html": [
       "<div>\n",
       "<style scoped>\n",
       "    .dataframe tbody tr th:only-of-type {\n",
       "        vertical-align: middle;\n",
       "    }\n",
       "\n",
       "    .dataframe tbody tr th {\n",
       "        vertical-align: top;\n",
       "    }\n",
       "\n",
       "    .dataframe thead th {\n",
       "        text-align: right;\n",
       "    }\n",
       "</style>\n",
       "<table border=\"1\" class=\"dataframe\">\n",
       "  <thead>\n",
       "    <tr style=\"text-align: right;\">\n",
       "      <th></th>\n",
       "      <th>city_name</th>\n",
       "      <th>count</th>\n",
       "      <th>country_name</th>\n",
       "      <th>id</th>\n",
       "      <th>latitude</th>\n",
       "      <th>linkout</th>\n",
       "      <th>longitude</th>\n",
       "      <th>name</th>\n",
       "      <th>state_name</th>\n",
       "      <th>types</th>\n",
       "      <th>acronym</th>\n",
       "    </tr>\n",
       "  </thead>\n",
       "  <tbody>\n",
       "    <tr>\n",
       "      <th>0</th>\n",
       "      <td>Oxford</td>\n",
       "      <td>2318</td>\n",
       "      <td>United Kingdom</td>\n",
       "      <td>grid.4991.5</td>\n",
       "      <td>51.753437</td>\n",
       "      <td>[http://www.ox.ac.uk/]</td>\n",
       "      <td>-1.254010</td>\n",
       "      <td>University of Oxford</td>\n",
       "      <td>Oxfordshire</td>\n",
       "      <td>[Education]</td>\n",
       "      <td>NaN</td>\n",
       "    </tr>\n",
       "    <tr>\n",
       "      <th>1</th>\n",
       "      <td>London</td>\n",
       "      <td>2041</td>\n",
       "      <td>United Kingdom</td>\n",
       "      <td>grid.8991.9</td>\n",
       "      <td>51.520900</td>\n",
       "      <td>[http://www.lshtm.ac.uk/]</td>\n",
       "      <td>-0.130700</td>\n",
       "      <td>London School of Hygiene &amp; Tropical Medicine</td>\n",
       "      <td>Camden</td>\n",
       "      <td>[Education]</td>\n",
       "      <td>LSHTM</td>\n",
       "    </tr>\n",
       "    <tr>\n",
       "      <th>2</th>\n",
       "      <td>Cambridge</td>\n",
       "      <td>1901</td>\n",
       "      <td>United States</td>\n",
       "      <td>grid.38142.3c</td>\n",
       "      <td>42.377052</td>\n",
       "      <td>[http://www.harvard.edu/]</td>\n",
       "      <td>-71.116650</td>\n",
       "      <td>Harvard University</td>\n",
       "      <td>Massachusetts</td>\n",
       "      <td>[Education]</td>\n",
       "      <td>NaN</td>\n",
       "    </tr>\n",
       "    <tr>\n",
       "      <th>3</th>\n",
       "      <td>Baltimore</td>\n",
       "      <td>1121</td>\n",
       "      <td>United States</td>\n",
       "      <td>grid.21107.35</td>\n",
       "      <td>39.328888</td>\n",
       "      <td>[https://www.jhu.edu/]</td>\n",
       "      <td>-76.620280</td>\n",
       "      <td>Johns Hopkins University</td>\n",
       "      <td>Maryland</td>\n",
       "      <td>[Education]</td>\n",
       "      <td>JHU</td>\n",
       "    </tr>\n",
       "    <tr>\n",
       "      <th>4</th>\n",
       "      <td>London</td>\n",
       "      <td>1110</td>\n",
       "      <td>United Kingdom</td>\n",
       "      <td>grid.7445.2</td>\n",
       "      <td>51.498600</td>\n",
       "      <td>[http://www.imperial.ac.uk/]</td>\n",
       "      <td>-0.175478</td>\n",
       "      <td>Imperial College London</td>\n",
       "      <td>Westminster</td>\n",
       "      <td>[Education]</td>\n",
       "      <td>NaN</td>\n",
       "    </tr>\n",
       "  </tbody>\n",
       "</table>\n",
       "</div>"
      ],
      "text/plain": [
       "   city_name  count    country_name             id   latitude  \\\n",
       "0     Oxford   2318  United Kingdom    grid.4991.5  51.753437   \n",
       "1     London   2041  United Kingdom    grid.8991.9  51.520900   \n",
       "2  Cambridge   1901   United States  grid.38142.3c  42.377052   \n",
       "3  Baltimore   1121   United States  grid.21107.35  39.328888   \n",
       "4     London   1110  United Kingdom    grid.7445.2  51.498600   \n",
       "\n",
       "                        linkout  longitude  \\\n",
       "0        [http://www.ox.ac.uk/]  -1.254010   \n",
       "1     [http://www.lshtm.ac.uk/]  -0.130700   \n",
       "2     [http://www.harvard.edu/] -71.116650   \n",
       "3        [https://www.jhu.edu/] -76.620280   \n",
       "4  [http://www.imperial.ac.uk/]  -0.175478   \n",
       "\n",
       "                                           name     state_name        types  \\\n",
       "0                          University of Oxford    Oxfordshire  [Education]   \n",
       "1  London School of Hygiene & Tropical Medicine         Camden  [Education]   \n",
       "2                            Harvard University  Massachusetts  [Education]   \n",
       "3                      Johns Hopkins University       Maryland  [Education]   \n",
       "4                       Imperial College London    Westminster  [Education]   \n",
       "\n",
       "  acronym  \n",
       "0     NaN  \n",
       "1   LSHTM  \n",
       "2     NaN  \n",
       "3     JHU  \n",
       "4     NaN  "
      ]
     },
     "execution_count": 26,
     "metadata": {},
     "output_type": "execute_result"
    }
   ],
   "source": [
    "%%dsldf \n",
    "search publications \n",
    "    for \"malaria\" \n",
    "    where count(research_orgs) > 5 \n",
    "return research_orgs limit 5"
   ]
  },
  {
   "cell_type": "markdown",
   "metadata": {
    "Collapsed": "false"
   },
   "source": [
    "Number of publications with more than 50 researcher."
   ]
  },
  {
   "cell_type": "code",
   "execution_count": 27,
   "metadata": {
    "Collapsed": "false"
   },
   "outputs": [
    {
     "name": "stdout",
     "output_type": "stream",
     "text": [
      "Returned Publications: 5 (total = 323)\n",
      "\u001b[2mTime: 1.23s\u001b[0m\n"
     ]
    },
    {
     "data": {
      "text/html": [
       "<div>\n",
       "<style scoped>\n",
       "    .dataframe tbody tr th:only-of-type {\n",
       "        vertical-align: middle;\n",
       "    }\n",
       "\n",
       "    .dataframe tbody tr th {\n",
       "        vertical-align: top;\n",
       "    }\n",
       "\n",
       "    .dataframe thead th {\n",
       "        text-align: right;\n",
       "    }\n",
       "</style>\n",
       "<table border=\"1\" class=\"dataframe\">\n",
       "  <thead>\n",
       "    <tr style=\"text-align: right;\">\n",
       "      <th></th>\n",
       "      <th>authors</th>\n",
       "      <th>id</th>\n",
       "      <th>issue</th>\n",
       "      <th>title</th>\n",
       "      <th>type</th>\n",
       "      <th>volume</th>\n",
       "      <th>year</th>\n",
       "      <th>journal.id</th>\n",
       "      <th>journal.title</th>\n",
       "      <th>pages</th>\n",
       "    </tr>\n",
       "  </thead>\n",
       "  <tbody>\n",
       "    <tr>\n",
       "      <th>0</th>\n",
       "      <td>[{'affiliations': [], 'corresponding': '', 'cu...</td>\n",
       "      <td>pub.1144290266</td>\n",
       "      <td>3</td>\n",
       "      <td>Cancer Incidence, Mortality, Years of Life Los...</td>\n",
       "      <td>article</td>\n",
       "      <td>8</td>\n",
       "      <td>2021</td>\n",
       "      <td>jour.1051466</td>\n",
       "      <td>JAMA Oncology</td>\n",
       "      <td>NaN</td>\n",
       "    </tr>\n",
       "    <tr>\n",
       "      <th>1</th>\n",
       "      <td>[{'affiliations': [{'city': 'Washington D.C.',...</td>\n",
       "      <td>pub.1143711356</td>\n",
       "      <td>12</td>\n",
       "      <td>SARS-CoV-2 ferritin nanoparticle vaccines elic...</td>\n",
       "      <td>article</td>\n",
       "      <td>37</td>\n",
       "      <td>2021</td>\n",
       "      <td>jour.1046010</td>\n",
       "      <td>Cell Reports</td>\n",
       "      <td>110143-110143</td>\n",
       "    </tr>\n",
       "    <tr>\n",
       "      <th>2</th>\n",
       "      <td>[{'affiliations': [{'city': 'Modena', 'city_id...</td>\n",
       "      <td>pub.1143715249</td>\n",
       "      <td>12</td>\n",
       "      <td>Guidelines for the use of flow cytometry and c...</td>\n",
       "      <td>article</td>\n",
       "      <td>51</td>\n",
       "      <td>2021</td>\n",
       "      <td>jour.1054998</td>\n",
       "      <td>European Journal of Immunology</td>\n",
       "      <td>2708-3145</td>\n",
       "    </tr>\n",
       "    <tr>\n",
       "      <th>3</th>\n",
       "      <td>[{'affiliations': [], 'corresponding': True, '...</td>\n",
       "      <td>pub.1143609205</td>\n",
       "      <td>1</td>\n",
       "      <td>The global burden of adolescent and young adul...</td>\n",
       "      <td>article</td>\n",
       "      <td>23</td>\n",
       "      <td>2021</td>\n",
       "      <td>jour.1023279</td>\n",
       "      <td>The Lancet Oncology</td>\n",
       "      <td>27-52</td>\n",
       "    </tr>\n",
       "    <tr>\n",
       "      <th>4</th>\n",
       "      <td>[{'affiliations': [{'city': 'Dhaka', 'city_id'...</td>\n",
       "      <td>pub.1143648995</td>\n",
       "      <td>NaN</td>\n",
       "      <td>Global research priorities on COVID-19 for mat...</td>\n",
       "      <td>article</td>\n",
       "      <td>11</td>\n",
       "      <td>2021</td>\n",
       "      <td>jour.1046459</td>\n",
       "      <td>Journal of Global Health</td>\n",
       "      <td>04071</td>\n",
       "    </tr>\n",
       "  </tbody>\n",
       "</table>\n",
       "</div>"
      ],
      "text/plain": [
       "                                             authors              id issue  \\\n",
       "0  [{'affiliations': [], 'corresponding': '', 'cu...  pub.1144290266     3   \n",
       "1  [{'affiliations': [{'city': 'Washington D.C.',...  pub.1143711356    12   \n",
       "2  [{'affiliations': [{'city': 'Modena', 'city_id...  pub.1143715249    12   \n",
       "3  [{'affiliations': [], 'corresponding': True, '...  pub.1143609205     1   \n",
       "4  [{'affiliations': [{'city': 'Dhaka', 'city_id'...  pub.1143648995   NaN   \n",
       "\n",
       "                                               title     type volume  year  \\\n",
       "0  Cancer Incidence, Mortality, Years of Life Los...  article      8  2021   \n",
       "1  SARS-CoV-2 ferritin nanoparticle vaccines elic...  article     37  2021   \n",
       "2  Guidelines for the use of flow cytometry and c...  article     51  2021   \n",
       "3  The global burden of adolescent and young adul...  article     23  2021   \n",
       "4  Global research priorities on COVID-19 for mat...  article     11  2021   \n",
       "\n",
       "     journal.id                   journal.title          pages  \n",
       "0  jour.1051466                   JAMA Oncology            NaN  \n",
       "1  jour.1046010                    Cell Reports  110143-110143  \n",
       "2  jour.1054998  European Journal of Immunology      2708-3145  \n",
       "3  jour.1023279             The Lancet Oncology          27-52  \n",
       "4  jour.1046459        Journal of Global Health          04071  "
      ]
     },
     "execution_count": 27,
     "metadata": {},
     "output_type": "execute_result"
    }
   ],
   "source": [
    "%%dsldf \n",
    "search publications \n",
    "    for \"malaria\" \n",
    "    where count(researchers) > 50 \n",
    "return publications limit 5"
   ]
  },
  {
   "cell_type": "markdown",
   "metadata": {
    "Collapsed": "false"
   },
   "source": [
    "Number of publications with more than one researcher."
   ]
  },
  {
   "cell_type": "code",
   "execution_count": 28,
   "metadata": {
    "Collapsed": "false"
   },
   "outputs": [
    {
     "name": "stdout",
     "output_type": "stream",
     "text": [
      "Returned Funders: 5\n",
      "\u001b[2mTime: 5.43s\u001b[0m\n"
     ]
    },
    {
     "data": {
      "text/html": [
       "<div>\n",
       "<style scoped>\n",
       "    .dataframe tbody tr th:only-of-type {\n",
       "        vertical-align: middle;\n",
       "    }\n",
       "\n",
       "    .dataframe tbody tr th {\n",
       "        vertical-align: top;\n",
       "    }\n",
       "\n",
       "    .dataframe thead th {\n",
       "        text-align: right;\n",
       "    }\n",
       "</style>\n",
       "<table border=\"1\" class=\"dataframe\">\n",
       "  <thead>\n",
       "    <tr style=\"text-align: right;\">\n",
       "      <th></th>\n",
       "      <th>acronym</th>\n",
       "      <th>city_name</th>\n",
       "      <th>count</th>\n",
       "      <th>country_name</th>\n",
       "      <th>id</th>\n",
       "      <th>latitude</th>\n",
       "      <th>linkout</th>\n",
       "      <th>longitude</th>\n",
       "      <th>name</th>\n",
       "      <th>types</th>\n",
       "      <th>state_name</th>\n",
       "    </tr>\n",
       "  </thead>\n",
       "  <tbody>\n",
       "    <tr>\n",
       "      <th>0</th>\n",
       "      <td>NSFC</td>\n",
       "      <td>Beijing</td>\n",
       "      <td>2440048</td>\n",
       "      <td>China</td>\n",
       "      <td>grid.419696.5</td>\n",
       "      <td>40.005177</td>\n",
       "      <td>[http://www.nsfc.gov.cn/publish/portal1/]</td>\n",
       "      <td>116.339830</td>\n",
       "      <td>National Natural Science Foundation of China</td>\n",
       "      <td>[Government]</td>\n",
       "      <td>NaN</td>\n",
       "    </tr>\n",
       "    <tr>\n",
       "      <th>1</th>\n",
       "      <td>EC</td>\n",
       "      <td>Brussels</td>\n",
       "      <td>849374</td>\n",
       "      <td>Belgium</td>\n",
       "      <td>grid.270680.b</td>\n",
       "      <td>50.851650</td>\n",
       "      <td>[http://ec.europa.eu/index_en.htm]</td>\n",
       "      <td>4.363670</td>\n",
       "      <td>European Commission</td>\n",
       "      <td>[Government]</td>\n",
       "      <td>NaN</td>\n",
       "    </tr>\n",
       "    <tr>\n",
       "      <th>2</th>\n",
       "      <td>MOST</td>\n",
       "      <td>Beijing</td>\n",
       "      <td>760527</td>\n",
       "      <td>China</td>\n",
       "      <td>grid.424020.0</td>\n",
       "      <td>39.827835</td>\n",
       "      <td>[http://www.most.gov.cn/eng/]</td>\n",
       "      <td>116.316284</td>\n",
       "      <td>Ministry of Science and Technology of the Peop...</td>\n",
       "      <td>[Government]</td>\n",
       "      <td>NaN</td>\n",
       "    </tr>\n",
       "    <tr>\n",
       "      <th>3</th>\n",
       "      <td>JSPS</td>\n",
       "      <td>Tokyo</td>\n",
       "      <td>656013</td>\n",
       "      <td>Japan</td>\n",
       "      <td>grid.54432.34</td>\n",
       "      <td>35.687160</td>\n",
       "      <td>[http://www.jsps.go.jp/]</td>\n",
       "      <td>139.740390</td>\n",
       "      <td>Japan Society for the Promotion of Science</td>\n",
       "      <td>[Nonprofit]</td>\n",
       "      <td>NaN</td>\n",
       "    </tr>\n",
       "    <tr>\n",
       "      <th>4</th>\n",
       "      <td>NCI</td>\n",
       "      <td>Bethesda</td>\n",
       "      <td>593432</td>\n",
       "      <td>United States</td>\n",
       "      <td>grid.48336.3a</td>\n",
       "      <td>39.004326</td>\n",
       "      <td>[http://www.cancer.gov/]</td>\n",
       "      <td>-77.101190</td>\n",
       "      <td>National Cancer Institute</td>\n",
       "      <td>[Government]</td>\n",
       "      <td>Maryland</td>\n",
       "    </tr>\n",
       "  </tbody>\n",
       "</table>\n",
       "</div>"
      ],
      "text/plain": [
       "  acronym city_name    count   country_name             id   latitude  \\\n",
       "0    NSFC   Beijing  2440048          China  grid.419696.5  40.005177   \n",
       "1      EC  Brussels   849374        Belgium  grid.270680.b  50.851650   \n",
       "2    MOST   Beijing   760527          China  grid.424020.0  39.827835   \n",
       "3    JSPS     Tokyo   656013          Japan  grid.54432.34  35.687160   \n",
       "4     NCI  Bethesda   593432  United States  grid.48336.3a  39.004326   \n",
       "\n",
       "                                     linkout   longitude  \\\n",
       "0  [http://www.nsfc.gov.cn/publish/portal1/]  116.339830   \n",
       "1         [http://ec.europa.eu/index_en.htm]    4.363670   \n",
       "2              [http://www.most.gov.cn/eng/]  116.316284   \n",
       "3                   [http://www.jsps.go.jp/]  139.740390   \n",
       "4                   [http://www.cancer.gov/]  -77.101190   \n",
       "\n",
       "                                                name         types state_name  \n",
       "0       National Natural Science Foundation of China  [Government]        NaN  \n",
       "1                                European Commission  [Government]        NaN  \n",
       "2  Ministry of Science and Technology of the Peop...  [Government]        NaN  \n",
       "3         Japan Society for the Promotion of Science   [Nonprofit]        NaN  \n",
       "4                          National Cancer Institute  [Government]   Maryland  "
      ]
     },
     "execution_count": 28,
     "metadata": {},
     "output_type": "execute_result"
    }
   ],
   "source": [
    "%%dsldf \n",
    "search publications\n",
    "where count(researchers) > 1\n",
    "return funders limit 5"
   ]
  },
  {
   "cell_type": "markdown",
   "metadata": {
    "Collapsed": "false"
   },
   "source": [
    "International collaborations: number of publications with more than one author and affiliations located in more than one country."
   ]
  },
  {
   "cell_type": "code",
   "execution_count": 29,
   "metadata": {
    "Collapsed": "false"
   },
   "outputs": [
    {
     "name": "stdout",
     "output_type": "stream",
     "text": [
      "Returned Funders: 5\n",
      "\u001b[2mTime: 2.76s\u001b[0m\n"
     ]
    },
    {
     "data": {
      "text/html": [
       "<div>\n",
       "<style scoped>\n",
       "    .dataframe tbody tr th:only-of-type {\n",
       "        vertical-align: middle;\n",
       "    }\n",
       "\n",
       "    .dataframe tbody tr th {\n",
       "        vertical-align: top;\n",
       "    }\n",
       "\n",
       "    .dataframe thead th {\n",
       "        text-align: right;\n",
       "    }\n",
       "</style>\n",
       "<table border=\"1\" class=\"dataframe\">\n",
       "  <thead>\n",
       "    <tr style=\"text-align: right;\">\n",
       "      <th></th>\n",
       "      <th>acronym</th>\n",
       "      <th>city_name</th>\n",
       "      <th>count</th>\n",
       "      <th>country_name</th>\n",
       "      <th>id</th>\n",
       "      <th>latitude</th>\n",
       "      <th>linkout</th>\n",
       "      <th>longitude</th>\n",
       "      <th>name</th>\n",
       "      <th>types</th>\n",
       "    </tr>\n",
       "  </thead>\n",
       "  <tbody>\n",
       "    <tr>\n",
       "      <th>0</th>\n",
       "      <td>NSFC</td>\n",
       "      <td>Beijing</td>\n",
       "      <td>574461</td>\n",
       "      <td>China</td>\n",
       "      <td>grid.419696.5</td>\n",
       "      <td>40.005177</td>\n",
       "      <td>[http://www.nsfc.gov.cn/publish/portal1/]</td>\n",
       "      <td>116.339830</td>\n",
       "      <td>National Natural Science Foundation of China</td>\n",
       "      <td>[Government]</td>\n",
       "    </tr>\n",
       "    <tr>\n",
       "      <th>1</th>\n",
       "      <td>EC</td>\n",
       "      <td>Brussels</td>\n",
       "      <td>439995</td>\n",
       "      <td>Belgium</td>\n",
       "      <td>grid.270680.b</td>\n",
       "      <td>50.851650</td>\n",
       "      <td>[http://ec.europa.eu/index_en.htm]</td>\n",
       "      <td>4.363670</td>\n",
       "      <td>European Commission</td>\n",
       "      <td>[Government]</td>\n",
       "    </tr>\n",
       "    <tr>\n",
       "      <th>2</th>\n",
       "      <td>DFG</td>\n",
       "      <td>Bonn</td>\n",
       "      <td>192262</td>\n",
       "      <td>Germany</td>\n",
       "      <td>grid.424150.6</td>\n",
       "      <td>50.699340</td>\n",
       "      <td>[http://www.dfg.de/en/]</td>\n",
       "      <td>7.147797</td>\n",
       "      <td>German Research Foundation</td>\n",
       "      <td>[Nonprofit]</td>\n",
       "    </tr>\n",
       "    <tr>\n",
       "      <th>3</th>\n",
       "      <td>MOST</td>\n",
       "      <td>Beijing</td>\n",
       "      <td>186202</td>\n",
       "      <td>China</td>\n",
       "      <td>grid.424020.0</td>\n",
       "      <td>39.827835</td>\n",
       "      <td>[http://www.most.gov.cn/eng/]</td>\n",
       "      <td>116.316284</td>\n",
       "      <td>Ministry of Science and Technology of the Peop...</td>\n",
       "      <td>[Government]</td>\n",
       "    </tr>\n",
       "    <tr>\n",
       "      <th>4</th>\n",
       "      <td>JSPS</td>\n",
       "      <td>Tokyo</td>\n",
       "      <td>170505</td>\n",
       "      <td>Japan</td>\n",
       "      <td>grid.54432.34</td>\n",
       "      <td>35.687160</td>\n",
       "      <td>[http://www.jsps.go.jp/]</td>\n",
       "      <td>139.740390</td>\n",
       "      <td>Japan Society for the Promotion of Science</td>\n",
       "      <td>[Nonprofit]</td>\n",
       "    </tr>\n",
       "  </tbody>\n",
       "</table>\n",
       "</div>"
      ],
      "text/plain": [
       "  acronym city_name   count country_name             id   latitude  \\\n",
       "0    NSFC   Beijing  574461        China  grid.419696.5  40.005177   \n",
       "1      EC  Brussels  439995      Belgium  grid.270680.b  50.851650   \n",
       "2     DFG      Bonn  192262      Germany  grid.424150.6  50.699340   \n",
       "3    MOST   Beijing  186202        China  grid.424020.0  39.827835   \n",
       "4    JSPS     Tokyo  170505        Japan  grid.54432.34  35.687160   \n",
       "\n",
       "                                     linkout   longitude  \\\n",
       "0  [http://www.nsfc.gov.cn/publish/portal1/]  116.339830   \n",
       "1         [http://ec.europa.eu/index_en.htm]    4.363670   \n",
       "2                    [http://www.dfg.de/en/]    7.147797   \n",
       "3              [http://www.most.gov.cn/eng/]  116.316284   \n",
       "4                   [http://www.jsps.go.jp/]  139.740390   \n",
       "\n",
       "                                                name         types  \n",
       "0       National Natural Science Foundation of China  [Government]  \n",
       "1                                European Commission  [Government]  \n",
       "2                         German Research Foundation   [Nonprofit]  \n",
       "3  Ministry of Science and Technology of the Peop...  [Government]  \n",
       "4         Japan Society for the Promotion of Science   [Nonprofit]  "
      ]
     },
     "execution_count": 29,
     "metadata": {},
     "output_type": "execute_result"
    }
   ],
   "source": [
    "%%dsldf \n",
    "search publications\n",
    "where count(researchers) > 1\n",
    "and count(research_org_countries) > 1\n",
    "return funders limit 5"
   ]
  },
  {
   "cell_type": "markdown",
   "metadata": {
    "Collapsed": "false"
   },
   "source": [
    "Domestic collaborations: number of publications with more than one author and more than one affiliation located in exactly one country."
   ]
  },
  {
   "cell_type": "code",
   "execution_count": 30,
   "metadata": {
    "Collapsed": "false"
   },
   "outputs": [
    {
     "name": "stdout",
     "output_type": "stream",
     "text": [
      "Returned Funders: 5\n",
      "\u001b[2mTime: 3.73s\u001b[0m\n"
     ]
    },
    {
     "data": {
      "text/html": [
       "<div>\n",
       "<style scoped>\n",
       "    .dataframe tbody tr th:only-of-type {\n",
       "        vertical-align: middle;\n",
       "    }\n",
       "\n",
       "    .dataframe tbody tr th {\n",
       "        vertical-align: top;\n",
       "    }\n",
       "\n",
       "    .dataframe thead th {\n",
       "        text-align: right;\n",
       "    }\n",
       "</style>\n",
       "<table border=\"1\" class=\"dataframe\">\n",
       "  <thead>\n",
       "    <tr style=\"text-align: right;\">\n",
       "      <th></th>\n",
       "      <th>acronym</th>\n",
       "      <th>city_name</th>\n",
       "      <th>count</th>\n",
       "      <th>country_name</th>\n",
       "      <th>id</th>\n",
       "      <th>latitude</th>\n",
       "      <th>linkout</th>\n",
       "      <th>longitude</th>\n",
       "      <th>name</th>\n",
       "      <th>types</th>\n",
       "      <th>state_name</th>\n",
       "    </tr>\n",
       "  </thead>\n",
       "  <tbody>\n",
       "    <tr>\n",
       "      <th>0</th>\n",
       "      <td>NSFC</td>\n",
       "      <td>Beijing</td>\n",
       "      <td>1811942</td>\n",
       "      <td>China</td>\n",
       "      <td>grid.419696.5</td>\n",
       "      <td>40.005177</td>\n",
       "      <td>[http://www.nsfc.gov.cn/publish/portal1/]</td>\n",
       "      <td>116.339830</td>\n",
       "      <td>National Natural Science Foundation of China</td>\n",
       "      <td>[Government]</td>\n",
       "      <td>NaN</td>\n",
       "    </tr>\n",
       "    <tr>\n",
       "      <th>1</th>\n",
       "      <td>MOST</td>\n",
       "      <td>Beijing</td>\n",
       "      <td>560152</td>\n",
       "      <td>China</td>\n",
       "      <td>grid.424020.0</td>\n",
       "      <td>39.827835</td>\n",
       "      <td>[http://www.most.gov.cn/eng/]</td>\n",
       "      <td>116.316284</td>\n",
       "      <td>Ministry of Science and Technology of the Peop...</td>\n",
       "      <td>[Government]</td>\n",
       "      <td>NaN</td>\n",
       "    </tr>\n",
       "    <tr>\n",
       "      <th>2</th>\n",
       "      <td>JSPS</td>\n",
       "      <td>Tokyo</td>\n",
       "      <td>454223</td>\n",
       "      <td>Japan</td>\n",
       "      <td>grid.54432.34</td>\n",
       "      <td>35.687160</td>\n",
       "      <td>[http://www.jsps.go.jp/]</td>\n",
       "      <td>139.740390</td>\n",
       "      <td>Japan Society for the Promotion of Science</td>\n",
       "      <td>[Nonprofit]</td>\n",
       "      <td>NaN</td>\n",
       "    </tr>\n",
       "    <tr>\n",
       "      <th>3</th>\n",
       "      <td>NCI</td>\n",
       "      <td>Bethesda</td>\n",
       "      <td>433207</td>\n",
       "      <td>United States</td>\n",
       "      <td>grid.48336.3a</td>\n",
       "      <td>39.004326</td>\n",
       "      <td>[http://www.cancer.gov/]</td>\n",
       "      <td>-77.101190</td>\n",
       "      <td>National Cancer Institute</td>\n",
       "      <td>[Government]</td>\n",
       "      <td>Maryland</td>\n",
       "    </tr>\n",
       "    <tr>\n",
       "      <th>4</th>\n",
       "      <td>EC</td>\n",
       "      <td>Brussels</td>\n",
       "      <td>389544</td>\n",
       "      <td>Belgium</td>\n",
       "      <td>grid.270680.b</td>\n",
       "      <td>50.851650</td>\n",
       "      <td>[http://ec.europa.eu/index_en.htm]</td>\n",
       "      <td>4.363670</td>\n",
       "      <td>European Commission</td>\n",
       "      <td>[Government]</td>\n",
       "      <td>NaN</td>\n",
       "    </tr>\n",
       "  </tbody>\n",
       "</table>\n",
       "</div>"
      ],
      "text/plain": [
       "  acronym city_name    count   country_name             id   latitude  \\\n",
       "0    NSFC   Beijing  1811942          China  grid.419696.5  40.005177   \n",
       "1    MOST   Beijing   560152          China  grid.424020.0  39.827835   \n",
       "2    JSPS     Tokyo   454223          Japan  grid.54432.34  35.687160   \n",
       "3     NCI  Bethesda   433207  United States  grid.48336.3a  39.004326   \n",
       "4      EC  Brussels   389544        Belgium  grid.270680.b  50.851650   \n",
       "\n",
       "                                     linkout   longitude  \\\n",
       "0  [http://www.nsfc.gov.cn/publish/portal1/]  116.339830   \n",
       "1              [http://www.most.gov.cn/eng/]  116.316284   \n",
       "2                   [http://www.jsps.go.jp/]  139.740390   \n",
       "3                   [http://www.cancer.gov/]  -77.101190   \n",
       "4         [http://ec.europa.eu/index_en.htm]    4.363670   \n",
       "\n",
       "                                                name         types state_name  \n",
       "0       National Natural Science Foundation of China  [Government]        NaN  \n",
       "1  Ministry of Science and Technology of the Peop...  [Government]        NaN  \n",
       "2         Japan Society for the Promotion of Science   [Nonprofit]        NaN  \n",
       "3                          National Cancer Institute  [Government]   Maryland  \n",
       "4                                European Commission  [Government]        NaN  "
      ]
     },
     "execution_count": 30,
     "metadata": {},
     "output_type": "execute_result"
    }
   ],
   "source": [
    "%%dsldf \n",
    "search publications\n",
    "where count(researchers) > 1\n",
    "and count(research_org_countries) = 1\n",
    "return funders limit 5"
   ]
  },
  {
   "cell_type": "markdown",
   "metadata": {
    "Collapsed": "false"
   },
   "source": [
    "### 3.4 Filter Operators\n",
    "\n",
    "A simple filter expression consists of a `field` name, an in-/equality\n",
    "operator `op`, and the desired field `value`. \n",
    "\n",
    "The `value` must be a\n",
    "`string` enclosed in double quotes (`\"`) or an integer (e.g. `1234`).\n",
    "\n",
    "The available operators are:\n",
    "\n",
    "| `op`           | meaning                                                                                  |\n",
    "|----------------|------------------------------------------------------------------------------------------|\n",
    "| `=`            | *is* (or *contains* if the given `field` is multi-value)                                 |\n",
    "| `!=`           | *is not*                                                                                 |\n",
    "| `>`            | *is greater than*                                                                        |\n",
    "| `<`            | *is less than*                                                                           |\n",
    "| `>=`           | *is greater than or equal to*                                                            |\n",
    "| `<=`           | *is less than or equal to*                                                               |\n",
    "| `~`            | *partially matches* (see partial-string-matching below) |\n",
    "| `is empty`     | *is empty* (see emptiness-filters below)                      |\n",
    "| `is not empty` | *is not empty* (see emptiness-filters below)                  |"
   ]
  },
  {
   "cell_type": "markdown",
   "metadata": {
    "Collapsed": "false"
   },
   "source": [
    "A couple of examples "
   ]
  },
  {
   "cell_type": "code",
   "execution_count": 31,
   "metadata": {
    "Collapsed": "false"
   },
   "outputs": [
    {
     "name": "stdout",
     "output_type": "stream",
     "text": [
      "Returned Datasets: 5 (total = 158057)\n",
      "\u001b[2mTime: 0.59s\u001b[0m\n"
     ]
    },
    {
     "data": {
      "text/html": [
       "<div>\n",
       "<style scoped>\n",
       "    .dataframe tbody tr th:only-of-type {\n",
       "        vertical-align: middle;\n",
       "    }\n",
       "\n",
       "    .dataframe tbody tr th {\n",
       "        vertical-align: top;\n",
       "    }\n",
       "\n",
       "    .dataframe thead th {\n",
       "        text-align: right;\n",
       "    }\n",
       "</style>\n",
       "<table border=\"1\" class=\"dataframe\">\n",
       "  <thead>\n",
       "    <tr style=\"text-align: right;\">\n",
       "      <th></th>\n",
       "      <th>authors</th>\n",
       "      <th>id</th>\n",
       "      <th>title</th>\n",
       "      <th>year</th>\n",
       "    </tr>\n",
       "  </thead>\n",
       "  <tbody>\n",
       "    <tr>\n",
       "      <th>0</th>\n",
       "      <td>[{'name': 'Tsuji, Kazuki'}, {'name': 'Kikuta, ...</td>\n",
       "      <td>dataset.999</td>\n",
       "      <td>DiaBroodproduction Pupae</td>\n",
       "      <td>2011</td>\n",
       "    </tr>\n",
       "    <tr>\n",
       "      <th>1</th>\n",
       "      <td>[{'name': 'Tsuji, Kazuki'}, {'name': 'Kikuta, ...</td>\n",
       "      <td>dataset.998</td>\n",
       "      <td>Data from: Determination of the cost of worker...</td>\n",
       "      <td>2011</td>\n",
       "    </tr>\n",
       "    <tr>\n",
       "      <th>2</th>\n",
       "      <td>[{'name': 'Wessex Archaeology'}, {'name': 'Wes...</td>\n",
       "      <td>dataset.99758</td>\n",
       "      <td>Stricklands, Chapel Road, Southampton (OASIS I...</td>\n",
       "      <td>2011</td>\n",
       "    </tr>\n",
       "    <tr>\n",
       "      <th>3</th>\n",
       "      <td>[{'name': 'Vijendravarma, Roshan K.'}, {'name'...</td>\n",
       "      <td>dataset.997</td>\n",
       "      <td>critical weight data</td>\n",
       "      <td>2011</td>\n",
       "    </tr>\n",
       "    <tr>\n",
       "      <th>4</th>\n",
       "      <td>[{'name': 'Vijendravarma, Roshan K.'}, {'name'...</td>\n",
       "      <td>dataset.996</td>\n",
       "      <td>Data from: Chronic malnutrition favours smalle...</td>\n",
       "      <td>2011</td>\n",
       "    </tr>\n",
       "  </tbody>\n",
       "</table>\n",
       "</div>"
      ],
      "text/plain": [
       "                                             authors             id  \\\n",
       "0  [{'name': 'Tsuji, Kazuki'}, {'name': 'Kikuta, ...    dataset.999   \n",
       "1  [{'name': 'Tsuji, Kazuki'}, {'name': 'Kikuta, ...    dataset.998   \n",
       "2  [{'name': 'Wessex Archaeology'}, {'name': 'Wes...  dataset.99758   \n",
       "3  [{'name': 'Vijendravarma, Roshan K.'}, {'name'...    dataset.997   \n",
       "4  [{'name': 'Vijendravarma, Roshan K.'}, {'name'...    dataset.996   \n",
       "\n",
       "                                               title  year  \n",
       "0                           DiaBroodproduction Pupae  2011  \n",
       "1  Data from: Determination of the cost of worker...  2011  \n",
       "2  Stricklands, Chapel Road, Southampton (OASIS I...  2011  \n",
       "3                               critical weight data  2011  \n",
       "4  Data from: Chronic malnutrition favours smalle...  2011  "
      ]
     },
     "execution_count": 31,
     "metadata": {},
     "output_type": "execute_result"
    }
   ],
   "source": [
    "%dsldf search datasets where year > 2010 and year < 2012 return datasets limit 5"
   ]
  },
  {
   "cell_type": "code",
   "execution_count": 32,
   "metadata": {
    "Collapsed": "false"
   },
   "outputs": [
    {
     "name": "stdout",
     "output_type": "stream",
     "text": [
      "Returned Patents: 5 (total = 142264864)\n",
      "\u001b[2mTime: 1.27s\u001b[0m\n"
     ]
    },
    {
     "data": {
      "text/html": [
       "<div>\n",
       "<style scoped>\n",
       "    .dataframe tbody tr th:only-of-type {\n",
       "        vertical-align: middle;\n",
       "    }\n",
       "\n",
       "    .dataframe tbody tr th {\n",
       "        vertical-align: top;\n",
       "    }\n",
       "\n",
       "    .dataframe thead th {\n",
       "        text-align: right;\n",
       "    }\n",
       "</style>\n",
       "<table border=\"1\" class=\"dataframe\">\n",
       "  <thead>\n",
       "    <tr style=\"text-align: right;\">\n",
       "      <th></th>\n",
       "      <th>assignee_names</th>\n",
       "      <th>filing_status</th>\n",
       "      <th>id</th>\n",
       "      <th>inventor_names</th>\n",
       "      <th>publication_date</th>\n",
       "      <th>times_cited</th>\n",
       "      <th>title</th>\n",
       "      <th>year</th>\n",
       "    </tr>\n",
       "  </thead>\n",
       "  <tbody>\n",
       "    <tr>\n",
       "      <th>0</th>\n",
       "      <td>[KHASHOGGI E IND]</td>\n",
       "      <td>Application</td>\n",
       "      <td>ZW-9994-A1</td>\n",
       "      <td>[ANDERSEN PER JUST, HODSON SIMON K]</td>\n",
       "      <td>1994-09-28</td>\n",
       "      <td>0</td>\n",
       "      <td>Sealable liquid-tight, thin-walled containers ...</td>\n",
       "      <td>1994</td>\n",
       "    </tr>\n",
       "    <tr>\n",
       "      <th>1</th>\n",
       "      <td>[H L &amp; H TIMBER PROD]</td>\n",
       "      <td>Application</td>\n",
       "      <td>ZW-9993-A1</td>\n",
       "      <td>[FRANS ROELOF PETRUS PIENAAR, RICHARD GEORGE K...</td>\n",
       "      <td>1993-12-15</td>\n",
       "      <td>0</td>\n",
       "      <td>SPACER ASSEMBLY AND METHOD</td>\n",
       "      <td>1993</td>\n",
       "    </tr>\n",
       "    <tr>\n",
       "      <th>2</th>\n",
       "      <td>[GLAVERBEL]</td>\n",
       "      <td>Application</td>\n",
       "      <td>ZW-9992-A1</td>\n",
       "      <td>[JEAN-PIERRE MEYNCKENS, LEON-PHILIPPE MOTTET]</td>\n",
       "      <td>1993-07-28</td>\n",
       "      <td>0</td>\n",
       "      <td>PROCESS AND MIXTURE FOR FORMING A COHERENT REF...</td>\n",
       "      <td>1992</td>\n",
       "    </tr>\n",
       "    <tr>\n",
       "      <th>3</th>\n",
       "      <td>[SENTRACHEM LTD]</td>\n",
       "      <td>Application</td>\n",
       "      <td>ZW-9991-A1</td>\n",
       "      <td>[ANTHONY PATRICK REYNOLDS, MARK BURDON COCKSED...</td>\n",
       "      <td>1991-10-16</td>\n",
       "      <td>0</td>\n",
       "      <td>INORGANIC FLOCCULANT MANUFACTURE</td>\n",
       "      <td>1991</td>\n",
       "    </tr>\n",
       "    <tr>\n",
       "      <th>4</th>\n",
       "      <td>[DANTEX EXPLOSIVES]</td>\n",
       "      <td>Application</td>\n",
       "      <td>ZW-9990-A1</td>\n",
       "      <td>[LEON MICHAEL ZIMMERMANN]</td>\n",
       "      <td>1990-10-31</td>\n",
       "      <td>0</td>\n",
       "      <td>EXPLOSIVE COMPOSITION</td>\n",
       "      <td>1990</td>\n",
       "    </tr>\n",
       "  </tbody>\n",
       "</table>\n",
       "</div>"
      ],
      "text/plain": [
       "          assignee_names filing_status          id  \\\n",
       "0      [KHASHOGGI E IND]   Application  ZW-9994-A1   \n",
       "1  [H L & H TIMBER PROD]   Application  ZW-9993-A1   \n",
       "2            [GLAVERBEL]   Application  ZW-9992-A1   \n",
       "3       [SENTRACHEM LTD]   Application  ZW-9991-A1   \n",
       "4    [DANTEX EXPLOSIVES]   Application  ZW-9990-A1   \n",
       "\n",
       "                                      inventor_names publication_date  \\\n",
       "0                [ANDERSEN PER JUST, HODSON SIMON K]       1994-09-28   \n",
       "1  [FRANS ROELOF PETRUS PIENAAR, RICHARD GEORGE K...       1993-12-15   \n",
       "2      [JEAN-PIERRE MEYNCKENS, LEON-PHILIPPE MOTTET]       1993-07-28   \n",
       "3  [ANTHONY PATRICK REYNOLDS, MARK BURDON COCKSED...       1991-10-16   \n",
       "4                          [LEON MICHAEL ZIMMERMANN]       1990-10-31   \n",
       "\n",
       "   times_cited                                              title  year  \n",
       "0            0  Sealable liquid-tight, thin-walled containers ...  1994  \n",
       "1            0                         SPACER ASSEMBLY AND METHOD  1993  \n",
       "2            0  PROCESS AND MIXTURE FOR FORMING A COHERENT REF...  1992  \n",
       "3            0                   INORGANIC FLOCCULANT MANUFACTURE  1991  \n",
       "4            0                              EXPLOSIVE COMPOSITION  1990  "
      ]
     },
     "execution_count": 32,
     "metadata": {},
     "output_type": "execute_result"
    }
   ],
   "source": [
    "%dsldf search patents where assignees != \"grid.410484.d\" return patents limit 5"
   ]
  },
  {
   "cell_type": "markdown",
   "metadata": {
    "Collapsed": "false"
   },
   "source": [
    "### 3.5 Partial string matching with `~`\n",
    "\n",
    "The `~` operator indicates that the given `field` need only partially,\n",
    "instead of exactly, match the given `string` (the `value` used with this\n",
    "operator must be a `string`, not an integer).\n",
    "\n",
    "For example, the filter `where research_orgs.name~\"Saarland Uni\"` would\n",
    "match both the organization named \"Saarland University\" and the one\n",
    "named \"Universitätsklinikum des Saarlandes\", and any other organization\n",
    "whose name includes the terms \"Saarland\" and \"Uni\" (the order is\n",
    "unimportant). "
   ]
  },
  {
   "cell_type": "code",
   "execution_count": 33,
   "metadata": {
    "Collapsed": "false"
   },
   "outputs": [
    {
     "name": "stdout",
     "output_type": "stream",
     "text": [
      "Returned Assignees: 5\n",
      "\u001b[2mTime: 4.84s\u001b[0m\n"
     ]
    },
    {
     "data": {
      "text/html": [
       "<div>\n",
       "<style scoped>\n",
       "    .dataframe tbody tr th:only-of-type {\n",
       "        vertical-align: middle;\n",
       "    }\n",
       "\n",
       "    .dataframe tbody tr th {\n",
       "        vertical-align: top;\n",
       "    }\n",
       "\n",
       "    .dataframe thead th {\n",
       "        text-align: right;\n",
       "    }\n",
       "</style>\n",
       "<table border=\"1\" class=\"dataframe\">\n",
       "  <thead>\n",
       "    <tr style=\"text-align: right;\">\n",
       "      <th></th>\n",
       "      <th>city_name</th>\n",
       "      <th>count</th>\n",
       "      <th>country_name</th>\n",
       "      <th>id</th>\n",
       "      <th>latitude</th>\n",
       "      <th>linkout</th>\n",
       "      <th>longitude</th>\n",
       "      <th>name</th>\n",
       "      <th>state_name</th>\n",
       "      <th>types</th>\n",
       "    </tr>\n",
       "  </thead>\n",
       "  <tbody>\n",
       "    <tr>\n",
       "      <th>0</th>\n",
       "      <td>Armonk</td>\n",
       "      <td>101184</td>\n",
       "      <td>United States</td>\n",
       "      <td>grid.410484.d</td>\n",
       "      <td>41.108540</td>\n",
       "      <td>[http://www.ibm.com/]</td>\n",
       "      <td>-73.720470</td>\n",
       "      <td>IBM (United States)</td>\n",
       "      <td>New York</td>\n",
       "      <td>[Company]</td>\n",
       "    </tr>\n",
       "    <tr>\n",
       "      <th>1</th>\n",
       "      <td>Winchester</td>\n",
       "      <td>5830</td>\n",
       "      <td>United Kingdom</td>\n",
       "      <td>grid.14648.3f</td>\n",
       "      <td>51.026752</td>\n",
       "      <td>[https://www.ibm.com/in-en]</td>\n",
       "      <td>-1.397260</td>\n",
       "      <td>IBM (United Kingdom)</td>\n",
       "      <td>Hampshire</td>\n",
       "      <td>[Company]</td>\n",
       "    </tr>\n",
       "    <tr>\n",
       "      <th>2</th>\n",
       "      <td>Böblingen</td>\n",
       "      <td>3806</td>\n",
       "      <td>Germany</td>\n",
       "      <td>grid.424815.e</td>\n",
       "      <td>48.673832</td>\n",
       "      <td>[http://www.ibm.com/de/de/]</td>\n",
       "      <td>9.034824</td>\n",
       "      <td>IBM (Germany)</td>\n",
       "      <td>NaN</td>\n",
       "      <td>[Company]</td>\n",
       "    </tr>\n",
       "    <tr>\n",
       "      <th>3</th>\n",
       "      <td>Paris</td>\n",
       "      <td>1511</td>\n",
       "      <td>France</td>\n",
       "      <td>grid.424192.8</td>\n",
       "      <td>48.843975</td>\n",
       "      <td>[https://www.ibm.com/fr-fr/]</td>\n",
       "      <td>2.396280</td>\n",
       "      <td>IBM (France)</td>\n",
       "      <td>NaN</td>\n",
       "      <td>[Company]</td>\n",
       "    </tr>\n",
       "    <tr>\n",
       "      <th>4</th>\n",
       "      <td>Markham</td>\n",
       "      <td>1359</td>\n",
       "      <td>Canada</td>\n",
       "      <td>grid.292504.8</td>\n",
       "      <td>43.819103</td>\n",
       "      <td>[http://www.ibm.com/ca/en/]</td>\n",
       "      <td>-79.333930</td>\n",
       "      <td>IBM (Canada)</td>\n",
       "      <td>Ontario</td>\n",
       "      <td>[Company]</td>\n",
       "    </tr>\n",
       "  </tbody>\n",
       "</table>\n",
       "</div>"
      ],
      "text/plain": [
       "    city_name   count    country_name             id   latitude  \\\n",
       "0      Armonk  101184   United States  grid.410484.d  41.108540   \n",
       "1  Winchester    5830  United Kingdom  grid.14648.3f  51.026752   \n",
       "2   Böblingen    3806         Germany  grid.424815.e  48.673832   \n",
       "3       Paris    1511          France  grid.424192.8  48.843975   \n",
       "4     Markham    1359          Canada  grid.292504.8  43.819103   \n",
       "\n",
       "                        linkout  longitude                  name state_name  \\\n",
       "0         [http://www.ibm.com/] -73.720470   IBM (United States)   New York   \n",
       "1   [https://www.ibm.com/in-en]  -1.397260  IBM (United Kingdom)  Hampshire   \n",
       "2   [http://www.ibm.com/de/de/]   9.034824         IBM (Germany)        NaN   \n",
       "3  [https://www.ibm.com/fr-fr/]   2.396280          IBM (France)        NaN   \n",
       "4   [http://www.ibm.com/ca/en/] -79.333930          IBM (Canada)    Ontario   \n",
       "\n",
       "       types  \n",
       "0  [Company]  \n",
       "1  [Company]  \n",
       "2  [Company]  \n",
       "3  [Company]  \n",
       "4  [Company]  "
      ]
     },
     "execution_count": 33,
     "metadata": {},
     "output_type": "execute_result"
    }
   ],
   "source": [
    "%%dsldf \n",
    "search patents \n",
    "    where assignee_names ~ \"IBM\" \n",
    "return assignees limit 5"
   ]
  },
  {
   "cell_type": "markdown",
   "metadata": {
    "Collapsed": "false"
   },
   "source": [
    "### 3.6 Emptiness filters `is empty`\n",
    "\n",
    "To filter records which contain specific field or to filter those which\n",
    "contain an empty field, it is possible to use something like\n",
    "`where research_orgs is not empty` or `where issn is empty`."
   ]
  },
  {
   "cell_type": "code",
   "execution_count": 34,
   "metadata": {
    "Collapsed": "false"
   },
   "outputs": [
    {
     "name": "stdout",
     "output_type": "stream",
     "text": [
      "Returned Publications: 5 (total = 4931)\n",
      "\u001b[2mTime: 2.85s\u001b[0m\n"
     ]
    },
    {
     "data": {
      "text/html": [
       "<div>\n",
       "<style scoped>\n",
       "    .dataframe tbody tr th:only-of-type {\n",
       "        vertical-align: middle;\n",
       "    }\n",
       "\n",
       "    .dataframe tbody tr th {\n",
       "        vertical-align: top;\n",
       "    }\n",
       "\n",
       "    .dataframe thead th {\n",
       "        text-align: right;\n",
       "    }\n",
       "</style>\n",
       "<table border=\"1\" class=\"dataframe\">\n",
       "  <thead>\n",
       "    <tr style=\"text-align: right;\">\n",
       "      <th></th>\n",
       "      <th>id</th>\n",
       "      <th>research_orgs</th>\n",
       "      <th>title</th>\n",
       "      <th>type</th>\n",
       "    </tr>\n",
       "  </thead>\n",
       "  <tbody>\n",
       "    <tr>\n",
       "      <th>0</th>\n",
       "      <td>pub.1144344172</td>\n",
       "      <td>[{'acronym': 'USP', 'city_name': 'São Paulo', ...</td>\n",
       "      <td>Electrochemical sensor for isoniazid detection...</td>\n",
       "      <td>article</td>\n",
       "    </tr>\n",
       "    <tr>\n",
       "      <th>1</th>\n",
       "      <td>pub.1143970005</td>\n",
       "      <td>[{'acronym': 'KFUPM', 'city_name': 'Dhahran', ...</td>\n",
       "      <td>A review on underground hydrogen storage: Insi...</td>\n",
       "      <td>article</td>\n",
       "    </tr>\n",
       "    <tr>\n",
       "      <th>2</th>\n",
       "      <td>pub.1144588192</td>\n",
       "      <td>[{'city_name': 'Shanghai', 'country_name': 'Ch...</td>\n",
       "      <td>Destructing surfactant network in nanoemulsion...</td>\n",
       "      <td>article</td>\n",
       "    </tr>\n",
       "    <tr>\n",
       "      <th>3</th>\n",
       "      <td>pub.1144553605</td>\n",
       "      <td>[{'acronym': 'SIT', 'city_name': 'Hoboken', 'c...</td>\n",
       "      <td>Release of Pb adsorbed on graphene oxide surfa...</td>\n",
       "      <td>article</td>\n",
       "    </tr>\n",
       "    <tr>\n",
       "      <th>4</th>\n",
       "      <td>pub.1144626128</td>\n",
       "      <td>[{'city_name': 'Konya', 'country_name': 'Turke...</td>\n",
       "      <td>Ex-foliar applied extremolyte ectoine improves...</td>\n",
       "      <td>article</td>\n",
       "    </tr>\n",
       "  </tbody>\n",
       "</table>\n",
       "</div>"
      ],
      "text/plain": [
       "               id                                      research_orgs  \\\n",
       "0  pub.1144344172  [{'acronym': 'USP', 'city_name': 'São Paulo', ...   \n",
       "1  pub.1143970005  [{'acronym': 'KFUPM', 'city_name': 'Dhahran', ...   \n",
       "2  pub.1144588192  [{'city_name': 'Shanghai', 'country_name': 'Ch...   \n",
       "3  pub.1144553605  [{'acronym': 'SIT', 'city_name': 'Hoboken', 'c...   \n",
       "4  pub.1144626128  [{'city_name': 'Konya', 'country_name': 'Turke...   \n",
       "\n",
       "                                               title     type  \n",
       "0  Electrochemical sensor for isoniazid detection...  article  \n",
       "1  A review on underground hydrogen storage: Insi...  article  \n",
       "2  Destructing surfactant network in nanoemulsion...  article  \n",
       "3  Release of Pb adsorbed on graphene oxide surfa...  article  \n",
       "4  Ex-foliar applied extremolyte ectoine improves...  article  "
      ]
     },
     "execution_count": 34,
     "metadata": {},
     "output_type": "execute_result"
    }
   ],
   "source": [
    "%%dsldf\n",
    "search publications \n",
    "    for \"iron graphene\" \n",
    "    where researchers is empty \n",
    "    and research_orgs is not empty \n",
    "return publications[id+title+researchers+research_orgs+type] limit 5"
   ]
  },
  {
   "cell_type": "markdown",
   "metadata": {
    "Collapsed": "false"
   },
   "source": [
    "## 4. Searching for Researchers\n",
    "\n",
    "The DSL offers different mechanisms for searching for researchers (e.g.\n",
    "publication authors, grant investigators), each of them presenting\n",
    "specific advantages."
   ]
  },
  {
   "cell_type": "markdown",
   "metadata": {
    "Collapsed": "false"
   },
   "source": [
    "### 4.1 Exact name searches\n",
    "\n",
    "Special full-text indices allows to look up a researcher's name and\n",
    "surname **exactly as they appear in the source documents** they derive from.\n",
    "\n",
    "This approach has a broad scope, as it allows to search the full\n",
    "collection of Dimensions documents irrespectively of whether a\n",
    "researcher was succesfully disambiguated (and hence given a Dimensions\n",
    "ID). On the other hand, this approach will only match names as they\n",
    "appear in the source document, so different spellings or initials are\n",
    "not necessarily returned via a single query. \n",
    "\n",
    "```\n",
    "search in [authors|investigators|inventors]\n",
    "```\n",
    "\n",
    "It is possible to look up publications authors using a specific\n",
    "`search index` called `authors`. \n",
    "\n",
    "This method expects case insensitive\n",
    "phrases, in format $\"<first name> <last name>\"$ or reverse order. Note\n",
    "that strings in double quotes that contain nested quotes must always be\n",
    "escaped by a backslash `\\`."
   ]
  },
  {
   "cell_type": "code",
   "execution_count": 35,
   "metadata": {
    "Collapsed": "false"
   },
   "outputs": [
    {
     "name": "stdout",
     "output_type": "stream",
     "text": [
      "Returned Publications: 5 (total = 267)\n",
      "\u001b[2mTime: 2.28s\u001b[0m\n"
     ]
    },
    {
     "data": {
      "text/html": [
       "<div>\n",
       "<style scoped>\n",
       "    .dataframe tbody tr th:only-of-type {\n",
       "        vertical-align: middle;\n",
       "    }\n",
       "\n",
       "    .dataframe tbody tr th {\n",
       "        vertical-align: top;\n",
       "    }\n",
       "\n",
       "    .dataframe thead th {\n",
       "        text-align: right;\n",
       "    }\n",
       "</style>\n",
       "<table border=\"1\" class=\"dataframe\">\n",
       "  <thead>\n",
       "    <tr style=\"text-align: right;\">\n",
       "      <th></th>\n",
       "      <th>authors</th>\n",
       "      <th>id</th>\n",
       "      <th>issue</th>\n",
       "      <th>pages</th>\n",
       "      <th>title</th>\n",
       "      <th>type</th>\n",
       "      <th>volume</th>\n",
       "      <th>year</th>\n",
       "      <th>journal.id</th>\n",
       "      <th>journal.title</th>\n",
       "    </tr>\n",
       "  </thead>\n",
       "  <tbody>\n",
       "    <tr>\n",
       "      <th>0</th>\n",
       "      <td>[{'affiliations': [], 'corresponding': '', 'cu...</td>\n",
       "      <td>pub.1141018395</td>\n",
       "      <td>4</td>\n",
       "      <td>81-91</td>\n",
       "      <td>PAP : prolégomènes à une apologie du pragmatisme</td>\n",
       "      <td>article</td>\n",
       "      <td>N° 163</td>\n",
       "      <td>2021</td>\n",
       "      <td>jour.1142204</td>\n",
       "      <td>Cahiers philosophiques</td>\n",
       "    </tr>\n",
       "    <tr>\n",
       "      <th>1</th>\n",
       "      <td>[{'affiliations': [], 'corresponding': '', 'cu...</td>\n",
       "      <td>pub.1140830594</td>\n",
       "      <td>NaN</td>\n",
       "      <td>63-71</td>\n",
       "      <td>COMO TEORIZAR</td>\n",
       "      <td>chapter</td>\n",
       "      <td>NaN</td>\n",
       "      <td>2021</td>\n",
       "      <td>NaN</td>\n",
       "      <td>NaN</td>\n",
       "    </tr>\n",
       "    <tr>\n",
       "      <th>2</th>\n",
       "      <td>[{'affiliations': [], 'corresponding': '', 'cu...</td>\n",
       "      <td>pub.1140830593</td>\n",
       "      <td>NaN</td>\n",
       "      <td>55-61</td>\n",
       "      <td>INDUÇÃO ABDUTÓRIA</td>\n",
       "      <td>chapter</td>\n",
       "      <td>NaN</td>\n",
       "      <td>2021</td>\n",
       "      <td>NaN</td>\n",
       "      <td>NaN</td>\n",
       "    </tr>\n",
       "    <tr>\n",
       "      <th>3</th>\n",
       "      <td>[{'affiliations': [], 'corresponding': '', 'cu...</td>\n",
       "      <td>pub.1137292963</td>\n",
       "      <td>NaN</td>\n",
       "      <td>256-279</td>\n",
       "      <td>37 Lowell Lecture IV</td>\n",
       "      <td>chapter</td>\n",
       "      <td>NaN</td>\n",
       "      <td>2021</td>\n",
       "      <td>NaN</td>\n",
       "      <td>NaN</td>\n",
       "    </tr>\n",
       "    <tr>\n",
       "      <th>4</th>\n",
       "      <td>[{'affiliations': [], 'corresponding': '', 'cu...</td>\n",
       "      <td>pub.1137292823</td>\n",
       "      <td>NaN</td>\n",
       "      <td>437-438</td>\n",
       "      <td>Name Index</td>\n",
       "      <td>chapter</td>\n",
       "      <td>NaN</td>\n",
       "      <td>2021</td>\n",
       "      <td>NaN</td>\n",
       "      <td>NaN</td>\n",
       "    </tr>\n",
       "  </tbody>\n",
       "</table>\n",
       "</div>"
      ],
      "text/plain": [
       "                                             authors              id issue  \\\n",
       "0  [{'affiliations': [], 'corresponding': '', 'cu...  pub.1141018395     4   \n",
       "1  [{'affiliations': [], 'corresponding': '', 'cu...  pub.1140830594   NaN   \n",
       "2  [{'affiliations': [], 'corresponding': '', 'cu...  pub.1140830593   NaN   \n",
       "3  [{'affiliations': [], 'corresponding': '', 'cu...  pub.1137292963   NaN   \n",
       "4  [{'affiliations': [], 'corresponding': '', 'cu...  pub.1137292823   NaN   \n",
       "\n",
       "     pages                                             title     type  volume  \\\n",
       "0    81-91  PAP : prolégomènes à une apologie du pragmatisme  article  N° 163   \n",
       "1    63-71                                     COMO TEORIZAR  chapter     NaN   \n",
       "2    55-61                                 INDUÇÃO ABDUTÓRIA  chapter     NaN   \n",
       "3  256-279                              37 Lowell Lecture IV  chapter     NaN   \n",
       "4  437-438                                        Name Index  chapter     NaN   \n",
       "\n",
       "   year    journal.id           journal.title  \n",
       "0  2021  jour.1142204  Cahiers philosophiques  \n",
       "1  2021           NaN                     NaN  \n",
       "2  2021           NaN                     NaN  \n",
       "3  2021           NaN                     NaN  \n",
       "4  2021           NaN                     NaN  "
      ]
     },
     "execution_count": 35,
     "metadata": {},
     "output_type": "execute_result"
    }
   ],
   "source": [
    "%dsldf search publications in authors for \"\\\"Charles Peirce\\\"\" return publications limit 5"
   ]
  },
  {
   "cell_type": "markdown",
   "metadata": {
    "Collapsed": "false"
   },
   "source": [
    "Instead of first name, initials can also be used. These are examples of\n",
    "valid research search phrases:\n",
    "\n",
    "-   `\\\"Peirce, Charles S.\\\"`\n",
    "-   `\\\"Charles S. Peirce\\\"`\n",
    "-   `\\\"CS Peirce\\\"`\n",
    "-   `\\\"Peirce CS\\\"`\n",
    "-   `\\\"C S Peirce\\\"`\n",
    "-   `\\\"Peirce C S\\\"`\n",
    "-   `\\\"C Peirce\\\"`\n",
    "-   `\\\"Peirce C\\\"`\n",
    "-   `\\\"Charles Peirce\\\"`\n",
    "-   `\\\"Peirce Charles\\\"`\n",
    "\n",
    "**Warning**: In order to produce valid results an author or an investigator search\n",
    "query must contain **at least two components or more** (e.g., name and\n",
    "surname, either in full or initials).\n",
    "\n",
    "Investigators search is similar to *authors* search, only it allows to search on `grants` and\n",
    "`clinical trials` using a separate search index `investigators`, and on\n",
    "`patents` using the index `inventors`."
   ]
  },
  {
   "cell_type": "code",
   "execution_count": 36,
   "metadata": {
    "Collapsed": "false"
   },
   "outputs": [
    {
     "name": "stdout",
     "output_type": "stream",
     "text": [
      "Returned Clinical_trials: 5 (total = 7)\n",
      "\u001b[2mTime: 0.93s\u001b[0m\n"
     ]
    },
    {
     "data": {
      "text/html": [
       "<div>\n",
       "<style scoped>\n",
       "    .dataframe tbody tr th:only-of-type {\n",
       "        vertical-align: middle;\n",
       "    }\n",
       "\n",
       "    .dataframe tbody tr th {\n",
       "        vertical-align: top;\n",
       "    }\n",
       "\n",
       "    .dataframe thead th {\n",
       "        text-align: right;\n",
       "    }\n",
       "</style>\n",
       "<table border=\"1\" class=\"dataframe\">\n",
       "  <thead>\n",
       "    <tr style=\"text-align: right;\">\n",
       "      <th></th>\n",
       "      <th>active_years</th>\n",
       "      <th>id</th>\n",
       "      <th>investigators</th>\n",
       "      <th>title</th>\n",
       "    </tr>\n",
       "  </thead>\n",
       "  <tbody>\n",
       "    <tr>\n",
       "      <th>0</th>\n",
       "      <td>[2021, 2022, 2023]</td>\n",
       "      <td>NCT05110248</td>\n",
       "      <td>[[Bryn M Horsington, , Contact, Gemini One, 55...</td>\n",
       "      <td>Research and Development of Novel Quantitative...</td>\n",
       "    </tr>\n",
       "    <tr>\n",
       "      <th>1</th>\n",
       "      <td>[2019, 2020]</td>\n",
       "      <td>NCT04107519</td>\n",
       "      <td>[[Herman Taylor, MD, MPH, Principal Investigat...</td>\n",
       "      <td>Goal-Directed Resilience Training to Mitigate ...</td>\n",
       "    </tr>\n",
       "    <tr>\n",
       "      <th>2</th>\n",
       "      <td>[2019, 2020, 2021]</td>\n",
       "      <td>NCT04072380</td>\n",
       "      <td>[[Sallie Pulliam, , Contact, Pinnacle Research...</td>\n",
       "      <td>A Phase 2, Double-blind, Placebo-controlled, P...</td>\n",
       "    </tr>\n",
       "    <tr>\n",
       "      <th>3</th>\n",
       "      <td>[2019, 2020, 2021, 2022, 2023]</td>\n",
       "      <td>NCT03694600</td>\n",
       "      <td>[[Alamdar Rizvi, MS, Study Director, Laborator...</td>\n",
       "      <td>Prospective Clinical Trial to Detect Liver Can...</td>\n",
       "    </tr>\n",
       "    <tr>\n",
       "      <th>4</th>\n",
       "      <td>[2018, 2019, 2020, 2021, 2022, 2023]</td>\n",
       "      <td>NCT03653832</td>\n",
       "      <td>[[Timothy Walsh, MBChB MD MSc, Principal Inves...</td>\n",
       "      <td>Alpha 2 Agonists for Sedation to Produce Bette...</td>\n",
       "    </tr>\n",
       "  </tbody>\n",
       "</table>\n",
       "</div>"
      ],
      "text/plain": [
       "                           active_years           id  \\\n",
       "0                    [2021, 2022, 2023]  NCT05110248   \n",
       "1                          [2019, 2020]  NCT04107519   \n",
       "2                    [2019, 2020, 2021]  NCT04072380   \n",
       "3        [2019, 2020, 2021, 2022, 2023]  NCT03694600   \n",
       "4  [2018, 2019, 2020, 2021, 2022, 2023]  NCT03653832   \n",
       "\n",
       "                                       investigators  \\\n",
       "0  [[Bryn M Horsington, , Contact, Gemini One, 55...   \n",
       "1  [[Herman Taylor, MD, MPH, Principal Investigat...   \n",
       "2  [[Sallie Pulliam, , Contact, Pinnacle Research...   \n",
       "3  [[Alamdar Rizvi, MS, Study Director, Laborator...   \n",
       "4  [[Timothy Walsh, MBChB MD MSc, Principal Inves...   \n",
       "\n",
       "                                               title  \n",
       "0  Research and Development of Novel Quantitative...  \n",
       "1  Goal-Directed Resilience Training to Mitigate ...  \n",
       "2  A Phase 2, Double-blind, Placebo-controlled, P...  \n",
       "3  Prospective Clinical Trial to Detect Liver Can...  \n",
       "4  Alpha 2 Agonists for Sedation to Produce Bette...  "
      ]
     },
     "execution_count": 36,
     "metadata": {},
     "output_type": "execute_result"
    }
   ],
   "source": [
    "%%dsldf \n",
    "search clinical_trials in investigators for \"\\\"John Smith\\\"\" \n",
    "return clinical_trials limit 5"
   ]
  },
  {
   "cell_type": "code",
   "execution_count": 37,
   "metadata": {
    "Collapsed": "false"
   },
   "outputs": [
    {
     "name": "stdout",
     "output_type": "stream",
     "text": [
      "Returned Grants: 4 (total = 4)\n",
      "\u001b[2mTime: 0.49s\u001b[0m\n"
     ]
    },
    {
     "data": {
      "text/html": [
       "<div>\n",
       "<style scoped>\n",
       "    .dataframe tbody tr th:only-of-type {\n",
       "        vertical-align: middle;\n",
       "    }\n",
       "\n",
       "    .dataframe tbody tr th {\n",
       "        vertical-align: top;\n",
       "    }\n",
       "\n",
       "    .dataframe thead th {\n",
       "        text-align: right;\n",
       "    }\n",
       "</style>\n",
       "<table border=\"1\" class=\"dataframe\">\n",
       "  <thead>\n",
       "    <tr style=\"text-align: right;\">\n",
       "      <th></th>\n",
       "      <th>active_year</th>\n",
       "      <th>end_date</th>\n",
       "      <th>funders</th>\n",
       "      <th>funding_org_name</th>\n",
       "      <th>grant_number</th>\n",
       "      <th>id</th>\n",
       "      <th>language</th>\n",
       "      <th>original_title</th>\n",
       "      <th>start_date</th>\n",
       "      <th>start_year</th>\n",
       "      <th>title</th>\n",
       "    </tr>\n",
       "  </thead>\n",
       "  <tbody>\n",
       "    <tr>\n",
       "      <th>0</th>\n",
       "      <td>[2021, 2022]</td>\n",
       "      <td>2022-08-31</td>\n",
       "      <td>[{'acronym': 'NEH', 'city_name': 'Washington D...</td>\n",
       "      <td>National Endowment for the Humanities</td>\n",
       "      <td>FEL-263245-19</td>\n",
       "      <td>grant.7925589</td>\n",
       "      <td>en</td>\n",
       "      <td>Kabuki Actors, Print Technology, and the Theat...</td>\n",
       "      <td>2021-09-01</td>\n",
       "      <td>2021</td>\n",
       "      <td>Kabuki Actors, Print Technology, and the Theat...</td>\n",
       "    </tr>\n",
       "    <tr>\n",
       "      <th>1</th>\n",
       "      <td>[2018, 2019, 2020, 2021]</td>\n",
       "      <td>2021-03-31</td>\n",
       "      <td>[{'acronym': 'JSPS', 'city_name': 'Tokyo', 'co...</td>\n",
       "      <td>Japan Society for the Promotion of Science</td>\n",
       "      <td>18K00431</td>\n",
       "      <td>grant.7527261</td>\n",
       "      <td>ja</td>\n",
       "      <td>古・中英語期における女性聖人伝の系譜研究：Aelfricのテクストと言語を中心に</td>\n",
       "      <td>2018-04-01</td>\n",
       "      <td>2018</td>\n",
       "      <td>Genealogy research on female saints in the Pal...</td>\n",
       "    </tr>\n",
       "    <tr>\n",
       "      <th>2</th>\n",
       "      <td>[2015, 2016, 2017, 2018]</td>\n",
       "      <td>2018-03-31</td>\n",
       "      <td>[{'acronym': 'JSPS', 'city_name': 'Tokyo', 'co...</td>\n",
       "      <td>Japan Society for the Promotion of Science</td>\n",
       "      <td>15K02313</td>\n",
       "      <td>grant.5858713</td>\n",
       "      <td>en</td>\n",
       "      <td>Images of Women in the Old English Lives of Sa...</td>\n",
       "      <td>2015-04-01</td>\n",
       "      <td>2015</td>\n",
       "      <td>Images of Women in the Old English Lives of Sa...</td>\n",
       "    </tr>\n",
       "    <tr>\n",
       "      <th>3</th>\n",
       "      <td>[2012, 2013, 2014, 2015]</td>\n",
       "      <td>2015-03-31</td>\n",
       "      <td>[{'acronym': 'JSPS', 'city_name': 'Tokyo', 'co...</td>\n",
       "      <td>Japan Society for the Promotion of Science</td>\n",
       "      <td>24520310</td>\n",
       "      <td>grant.6086985</td>\n",
       "      <td>en</td>\n",
       "      <td>Reception and Transfromation of the Images of ...</td>\n",
       "      <td>2012-04-01</td>\n",
       "      <td>2012</td>\n",
       "      <td>Reception and Transfromation of the Images of ...</td>\n",
       "    </tr>\n",
       "  </tbody>\n",
       "</table>\n",
       "</div>"
      ],
      "text/plain": [
       "                active_year    end_date  \\\n",
       "0              [2021, 2022]  2022-08-31   \n",
       "1  [2018, 2019, 2020, 2021]  2021-03-31   \n",
       "2  [2015, 2016, 2017, 2018]  2018-03-31   \n",
       "3  [2012, 2013, 2014, 2015]  2015-03-31   \n",
       "\n",
       "                                             funders  \\\n",
       "0  [{'acronym': 'NEH', 'city_name': 'Washington D...   \n",
       "1  [{'acronym': 'JSPS', 'city_name': 'Tokyo', 'co...   \n",
       "2  [{'acronym': 'JSPS', 'city_name': 'Tokyo', 'co...   \n",
       "3  [{'acronym': 'JSPS', 'city_name': 'Tokyo', 'co...   \n",
       "\n",
       "                             funding_org_name   grant_number             id  \\\n",
       "0       National Endowment for the Humanities  FEL-263245-19  grant.7925589   \n",
       "1  Japan Society for the Promotion of Science       18K00431  grant.7527261   \n",
       "2  Japan Society for the Promotion of Science       15K02313  grant.5858713   \n",
       "3  Japan Society for the Promotion of Science       24520310  grant.6086985   \n",
       "\n",
       "  language                                     original_title  start_date  \\\n",
       "0       en  Kabuki Actors, Print Technology, and the Theat...  2021-09-01   \n",
       "1       ja           古・中英語期における女性聖人伝の系譜研究：Aelfricのテクストと言語を中心に  2018-04-01   \n",
       "2       en  Images of Women in the Old English Lives of Sa...  2015-04-01   \n",
       "3       en  Reception and Transfromation of the Images of ...  2012-04-01   \n",
       "\n",
       "   start_year                                              title  \n",
       "0        2021  Kabuki Actors, Print Technology, and the Theat...  \n",
       "1        2018  Genealogy research on female saints in the Pal...  \n",
       "2        2015  Images of Women in the Old English Lives of Sa...  \n",
       "3        2012  Reception and Transfromation of the Images of ...  "
      ]
     },
     "execution_count": 37,
     "metadata": {},
     "output_type": "execute_result"
    }
   ],
   "source": [
    "%%dsldf \n",
    "search grants in investigators for \"\\\"Satoko Shimazaki\\\"\" \n",
    "return grants limit 5"
   ]
  },
  {
   "cell_type": "code",
   "execution_count": 38,
   "metadata": {
    "Collapsed": "false"
   },
   "outputs": [
    {
     "name": "stdout",
     "output_type": "stream",
     "text": [
      "Returned Patents: 5 (total = 724)\n",
      "\u001b[2mTime: 0.72s\u001b[0m\n"
     ]
    },
    {
     "data": {
      "text/html": [
       "<div>\n",
       "<style scoped>\n",
       "    .dataframe tbody tr th:only-of-type {\n",
       "        vertical-align: middle;\n",
       "    }\n",
       "\n",
       "    .dataframe tbody tr th {\n",
       "        vertical-align: top;\n",
       "    }\n",
       "\n",
       "    .dataframe thead th {\n",
       "        text-align: right;\n",
       "    }\n",
       "</style>\n",
       "<table border=\"1\" class=\"dataframe\">\n",
       "  <thead>\n",
       "    <tr style=\"text-align: right;\">\n",
       "      <th></th>\n",
       "      <th>assignee_names</th>\n",
       "      <th>filing_status</th>\n",
       "      <th>id</th>\n",
       "      <th>inventor_names</th>\n",
       "      <th>publication_date</th>\n",
       "      <th>times_cited</th>\n",
       "      <th>title</th>\n",
       "      <th>year</th>\n",
       "      <th>assignees</th>\n",
       "    </tr>\n",
       "  </thead>\n",
       "  <tbody>\n",
       "    <tr>\n",
       "      <th>0</th>\n",
       "      <td>[KLEEN TEX IND INC]</td>\n",
       "      <td>Application</td>\n",
       "      <td>ZA-989065-B</td>\n",
       "      <td>[GORDON DAVID E, SMITH JOHN, LEVESQUE JIM, MCH...</td>\n",
       "      <td>1999-06-30</td>\n",
       "      <td>0</td>\n",
       "      <td>Track control floor mats and applications ther...</td>\n",
       "      <td>1998</td>\n",
       "      <td>NaN</td>\n",
       "    </tr>\n",
       "    <tr>\n",
       "      <th>1</th>\n",
       "      <td>[P I P PROPERTY MANAGERS CC]</td>\n",
       "      <td>Application</td>\n",
       "      <td>ZA-200303048-B</td>\n",
       "      <td>[SMITH JOHN, ROOS ANDREW IAN, ASHURST WILLIAM ...</td>\n",
       "      <td>2003-10-22</td>\n",
       "      <td>2</td>\n",
       "      <td>System for and method of transferring informat...</td>\n",
       "      <td>2003</td>\n",
       "      <td>NaN</td>\n",
       "    </tr>\n",
       "    <tr>\n",
       "      <th>2</th>\n",
       "      <td>[MILNES PTY LTD]</td>\n",
       "      <td>Application</td>\n",
       "      <td>ZA-200002202-B</td>\n",
       "      <td>[RICKARDS GARY, SMITH JOHN]</td>\n",
       "      <td>2000-11-23</td>\n",
       "      <td>0</td>\n",
       "      <td>Pipe clamp.</td>\n",
       "      <td>2000</td>\n",
       "      <td>NaN</td>\n",
       "    </tr>\n",
       "    <tr>\n",
       "      <th>3</th>\n",
       "      <td>[SMITH SOLUTIONS LP]</td>\n",
       "      <td>Application</td>\n",
       "      <td>WO-2021100020-A1</td>\n",
       "      <td>[SMITH JOHN]</td>\n",
       "      <td>2021-05-27</td>\n",
       "      <td>0</td>\n",
       "      <td>SOLAR BLOCKER</td>\n",
       "      <td>2020</td>\n",
       "      <td>NaN</td>\n",
       "    </tr>\n",
       "    <tr>\n",
       "      <th>4</th>\n",
       "      <td>[IBM CHINA INVESTMENT CO LTD, IBM UK, IBM]</td>\n",
       "      <td>Application</td>\n",
       "      <td>WO-2019224650-A1</td>\n",
       "      <td>[CONNELL II JONATHAN, PANKANTI SHARATHCHANDRA,...</td>\n",
       "      <td>2019-11-28</td>\n",
       "      <td>0</td>\n",
       "      <td>GENERATING A TEXTUAL DESCRIPTION OF AN IMAGE U...</td>\n",
       "      <td>2019</td>\n",
       "      <td>[{'city_name': 'Armonk', 'country_name': 'Unit...</td>\n",
       "    </tr>\n",
       "  </tbody>\n",
       "</table>\n",
       "</div>"
      ],
      "text/plain": [
       "                               assignee_names filing_status                id  \\\n",
       "0                         [KLEEN TEX IND INC]   Application       ZA-989065-B   \n",
       "1                [P I P PROPERTY MANAGERS CC]   Application    ZA-200303048-B   \n",
       "2                            [MILNES PTY LTD]   Application    ZA-200002202-B   \n",
       "3                        [SMITH SOLUTIONS LP]   Application  WO-2021100020-A1   \n",
       "4  [IBM CHINA INVESTMENT CO LTD, IBM UK, IBM]   Application  WO-2019224650-A1   \n",
       "\n",
       "                                      inventor_names publication_date  \\\n",
       "0  [GORDON DAVID E, SMITH JOHN, LEVESQUE JIM, MCH...       1999-06-30   \n",
       "1  [SMITH JOHN, ROOS ANDREW IAN, ASHURST WILLIAM ...       2003-10-22   \n",
       "2                        [RICKARDS GARY, SMITH JOHN]       2000-11-23   \n",
       "3                                       [SMITH JOHN]       2021-05-27   \n",
       "4  [CONNELL II JONATHAN, PANKANTI SHARATHCHANDRA,...       2019-11-28   \n",
       "\n",
       "   times_cited                                              title  year  \\\n",
       "0            0  Track control floor mats and applications ther...  1998   \n",
       "1            2  System for and method of transferring informat...  2003   \n",
       "2            0                                        Pipe clamp.  2000   \n",
       "3            0                                      SOLAR BLOCKER  2020   \n",
       "4            0  GENERATING A TEXTUAL DESCRIPTION OF AN IMAGE U...  2019   \n",
       "\n",
       "                                           assignees  \n",
       "0                                                NaN  \n",
       "1                                                NaN  \n",
       "2                                                NaN  \n",
       "3                                                NaN  \n",
       "4  [{'city_name': 'Armonk', 'country_name': 'Unit...  "
      ]
     },
     "execution_count": 38,
     "metadata": {},
     "output_type": "execute_result"
    }
   ],
   "source": [
    "%%dsldf \n",
    "search patents in inventors for \"\\\"John Smith\\\"\" \n",
    "return patents limit 5"
   ]
  },
  {
   "cell_type": "markdown",
   "metadata": {
    "Collapsed": "false"
   },
   "source": [
    "### 4.2 Fuzzy Searches\n",
    "\n",
    "This type of search is similar to *full-text\n",
    "search*, with the difference that it\n",
    "allows searching by only a part of a name, e.g. only the 'last name' of\n",
    "a person, by using the `where` clause. \n",
    "\n",
    "**Note** At this moment, this type of search is only available for\n",
    "`publications`. Other sources will add this option in the future.\n",
    "\n",
    "For example:"
   ]
  },
  {
   "cell_type": "code",
   "execution_count": 39,
   "metadata": {
    "Collapsed": "false"
   },
   "outputs": [
    {
     "name": "stdout",
     "output_type": "stream",
     "text": [
      "Returned Publications: 5 (total = 2102)\n",
      "\u001b[2mTime: 3.23s\u001b[0m\n"
     ]
    },
    {
     "data": {
      "text/html": [
       "<div>\n",
       "<style scoped>\n",
       "    .dataframe tbody tr th:only-of-type {\n",
       "        vertical-align: middle;\n",
       "    }\n",
       "\n",
       "    .dataframe tbody tr th {\n",
       "        vertical-align: top;\n",
       "    }\n",
       "\n",
       "    .dataframe thead th {\n",
       "        text-align: right;\n",
       "    }\n",
       "</style>\n",
       "<table border=\"1\" class=\"dataframe\">\n",
       "  <thead>\n",
       "    <tr style=\"text-align: right;\">\n",
       "      <th></th>\n",
       "      <th>authors</th>\n",
       "      <th>doi</th>\n",
       "      <th>id</th>\n",
       "      <th>title</th>\n",
       "    </tr>\n",
       "  </thead>\n",
       "  <tbody>\n",
       "    <tr>\n",
       "      <th>0</th>\n",
       "      <td>[{'affiliations': [{'city': 'Ghent', 'city_id'...</td>\n",
       "      <td>10.1016/j.geomorph.2021.108080</td>\n",
       "      <td>pub.1144137800</td>\n",
       "      <td>Long-lasting impacts of a 20th century glacial...</td>\n",
       "    </tr>\n",
       "    <tr>\n",
       "      <th>1</th>\n",
       "      <td>[{'affiliations': [], 'corresponding': '', 'cu...</td>\n",
       "      <td>10.1007/jhep01(2022)063</td>\n",
       "      <td>pub.1144755056</td>\n",
       "      <td>Search for exotic decays of the Higgs boson in...</td>\n",
       "    </tr>\n",
       "    <tr>\n",
       "      <th>2</th>\n",
       "      <td>[{'affiliations': [{'city': 'Marseille', 'city...</td>\n",
       "      <td>10.1140/epjc/s10052-021-09807-0</td>\n",
       "      <td>pub.1144445886</td>\n",
       "      <td>Performance of the ATLAS Level-1 topological t...</td>\n",
       "    </tr>\n",
       "    <tr>\n",
       "      <th>3</th>\n",
       "      <td>[{'affiliations': [{'city': 'Marseille', 'city...</td>\n",
       "      <td>10.1103/physrevd.105.012006</td>\n",
       "      <td>pub.1144591364</td>\n",
       "      <td>Search for Higgs boson decays into a pair of p...</td>\n",
       "    </tr>\n",
       "    <tr>\n",
       "      <th>4</th>\n",
       "      <td>[{'affiliations': [{'city': 'Marseille', 'city...</td>\n",
       "      <td>10.1088/1748-0221/17/01/p01013</td>\n",
       "      <td>pub.1144555956</td>\n",
       "      <td>Operation and performance of the ATLAS semicon...</td>\n",
       "    </tr>\n",
       "  </tbody>\n",
       "</table>\n",
       "</div>"
      ],
      "text/plain": [
       "                                             authors  \\\n",
       "0  [{'affiliations': [{'city': 'Ghent', 'city_id'...   \n",
       "1  [{'affiliations': [], 'corresponding': '', 'cu...   \n",
       "2  [{'affiliations': [{'city': 'Marseille', 'city...   \n",
       "3  [{'affiliations': [{'city': 'Marseille', 'city...   \n",
       "4  [{'affiliations': [{'city': 'Marseille', 'city...   \n",
       "\n",
       "                               doi              id  \\\n",
       "0   10.1016/j.geomorph.2021.108080  pub.1144137800   \n",
       "1          10.1007/jhep01(2022)063  pub.1144755056   \n",
       "2  10.1140/epjc/s10052-021-09807-0  pub.1144445886   \n",
       "3      10.1103/physrevd.105.012006  pub.1144591364   \n",
       "4   10.1088/1748-0221/17/01/p01013  pub.1144555956   \n",
       "\n",
       "                                               title  \n",
       "0  Long-lasting impacts of a 20th century glacial...  \n",
       "1  Search for exotic decays of the Higgs boson in...  \n",
       "2  Performance of the ATLAS Level-1 topological t...  \n",
       "3  Search for Higgs boson decays into a pair of p...  \n",
       "4  Operation and performance of the ATLAS semicon...  "
      ]
     },
     "execution_count": 39,
     "metadata": {},
     "output_type": "execute_result"
    }
   ],
   "source": [
    "%%dsldf \n",
    "search publications where authors = \"Hawking\" \n",
    "return publications[id+doi+title+authors] limit 5"
   ]
  },
  {
   "cell_type": "markdown",
   "metadata": {
    "Collapsed": "false"
   },
   "source": [
    "Generally speaking, using a `where` clause to search authors is less\n",
    "precise that using the relevant exact-search syntax. \n",
    "\n",
    "On the other hand, using a\n",
    "`where` clause can be handy if one wants to **combine an author search\n",
    "with another full-text search index**.\n",
    "\n",
    "For example:"
   ]
  },
  {
   "cell_type": "code",
   "execution_count": 40,
   "metadata": {
    "Collapsed": "false"
   },
   "outputs": [
    {
     "name": "stdout",
     "output_type": "stream",
     "text": [
      "Returned Publications: 5 (total = 1635)\n",
      "\u001b[2mTime: 0.92s\u001b[0m\n"
     ]
    },
    {
     "data": {
      "text/html": [
       "<div>\n",
       "<style scoped>\n",
       "    .dataframe tbody tr th:only-of-type {\n",
       "        vertical-align: middle;\n",
       "    }\n",
       "\n",
       "    .dataframe tbody tr th {\n",
       "        vertical-align: top;\n",
       "    }\n",
       "\n",
       "    .dataframe thead th {\n",
       "        text-align: right;\n",
       "    }\n",
       "</style>\n",
       "<table border=\"1\" class=\"dataframe\">\n",
       "  <thead>\n",
       "    <tr style=\"text-align: right;\">\n",
       "      <th></th>\n",
       "      <th>authors</th>\n",
       "      <th>id</th>\n",
       "      <th>title</th>\n",
       "      <th>type</th>\n",
       "      <th>year</th>\n",
       "      <th>journal.id</th>\n",
       "      <th>journal.title</th>\n",
       "      <th>issue</th>\n",
       "      <th>pages</th>\n",
       "      <th>volume</th>\n",
       "    </tr>\n",
       "  </thead>\n",
       "  <tbody>\n",
       "    <tr>\n",
       "      <th>0</th>\n",
       "      <td>[{'affiliations': [{'city': 'Seattle', 'city_i...</td>\n",
       "      <td>pub.1144684784</td>\n",
       "      <td>Dynamic configurations of meiotic DNA-break ho...</td>\n",
       "      <td>article</td>\n",
       "      <td>2022</td>\n",
       "      <td>jour.1006098</td>\n",
       "      <td>Journal of Cell Science</td>\n",
       "      <td>NaN</td>\n",
       "      <td>NaN</td>\n",
       "      <td>NaN</td>\n",
       "    </tr>\n",
       "    <tr>\n",
       "      <th>1</th>\n",
       "      <td>[{'affiliations': [{'city': 'Jackson', 'city_i...</td>\n",
       "      <td>pub.1143745236</td>\n",
       "      <td>Epigenome-wide association study of serum urat...</td>\n",
       "      <td>article</td>\n",
       "      <td>2021</td>\n",
       "      <td>jour.1043282</td>\n",
       "      <td>Nature Communications</td>\n",
       "      <td>1</td>\n",
       "      <td>7173</td>\n",
       "      <td>12</td>\n",
       "    </tr>\n",
       "    <tr>\n",
       "      <th>2</th>\n",
       "      <td>[{'affiliations': [{'city': 'Rochester', 'city...</td>\n",
       "      <td>pub.1142528147</td>\n",
       "      <td>The mitochondrial iron transporter ABCB7 is re...</td>\n",
       "      <td>article</td>\n",
       "      <td>2021</td>\n",
       "      <td>jour.1046517</td>\n",
       "      <td>eLife</td>\n",
       "      <td>NaN</td>\n",
       "      <td>e69621</td>\n",
       "      <td>10</td>\n",
       "    </tr>\n",
       "    <tr>\n",
       "      <th>3</th>\n",
       "      <td>[{'affiliations': [{'city': 'London', 'city_id...</td>\n",
       "      <td>pub.1142494563</td>\n",
       "      <td>Pre-existing polymerase-specific T cells expan...</td>\n",
       "      <td>article</td>\n",
       "      <td>2021</td>\n",
       "      <td>jour.1018957</td>\n",
       "      <td>Nature</td>\n",
       "      <td>7891</td>\n",
       "      <td>110-117</td>\n",
       "      <td>601</td>\n",
       "    </tr>\n",
       "    <tr>\n",
       "      <th>4</th>\n",
       "      <td>[{'affiliations': [{'city': 'Los Angeles', 'ci...</td>\n",
       "      <td>pub.1143361751</td>\n",
       "      <td>Epigenome-Wide Association Study of Acute Lymp...</td>\n",
       "      <td>article</td>\n",
       "      <td>2021</td>\n",
       "      <td>jour.1085025</td>\n",
       "      <td>Blood</td>\n",
       "      <td>Supplement 1</td>\n",
       "      <td>214-214</td>\n",
       "      <td>138</td>\n",
       "    </tr>\n",
       "  </tbody>\n",
       "</table>\n",
       "</div>"
      ],
      "text/plain": [
       "                                             authors              id  \\\n",
       "0  [{'affiliations': [{'city': 'Seattle', 'city_i...  pub.1144684784   \n",
       "1  [{'affiliations': [{'city': 'Jackson', 'city_i...  pub.1143745236   \n",
       "2  [{'affiliations': [{'city': 'Rochester', 'city...  pub.1142528147   \n",
       "3  [{'affiliations': [{'city': 'London', 'city_id...  pub.1142494563   \n",
       "4  [{'affiliations': [{'city': 'Los Angeles', 'ci...  pub.1143361751   \n",
       "\n",
       "                                               title     type  year  \\\n",
       "0  Dynamic configurations of meiotic DNA-break ho...  article  2022   \n",
       "1  Epigenome-wide association study of serum urat...  article  2021   \n",
       "2  The mitochondrial iron transporter ABCB7 is re...  article  2021   \n",
       "3  Pre-existing polymerase-specific T cells expan...  article  2021   \n",
       "4  Epigenome-Wide Association Study of Acute Lymp...  article  2021   \n",
       "\n",
       "     journal.id            journal.title         issue    pages volume  \n",
       "0  jour.1006098  Journal of Cell Science           NaN      NaN    NaN  \n",
       "1  jour.1043282    Nature Communications             1     7173     12  \n",
       "2  jour.1046517                    eLife           NaN   e69621     10  \n",
       "3  jour.1018957                   Nature          7891  110-117    601  \n",
       "4  jour.1085025                    Blood  Supplement 1  214-214    138  "
      ]
     },
     "execution_count": 40,
     "metadata": {},
     "output_type": "execute_result"
    }
   ],
   "source": [
    "%%dsldf \n",
    "search publications \n",
    "    in title_abstract_only for \"dna replication\" \n",
    "    where authors = \"smith\"  \n",
    "return publications limit 5"
   ]
  },
  {
   "cell_type": "markdown",
   "metadata": {
    "Collapsed": "false"
   },
   "source": [
    "### 4.3 Using the disambiguated Researchers database\n",
    "\n",
    "The Dimensions [Researchers](https://docs.dimensions.ai/dsl/datasource-researchers.html) source is a database of\n",
    "researchers information algorithmically extracted and disambiguated from\n",
    "all of the other content sources (publications, grants, clinical trials\n",
    "etc..).\n",
    "\n",
    "By using the `researchers` source it is possible to match an\n",
    "'aggregated' person object linking together multiple publication\n",
    "authors, grant investigators etc.. irrespectively of the form their\n",
    "names can take in the original source documents.\n",
    "\n",
    "However, since database does not contain all authors and investigators information\n",
    "available in Dimensions. \n",
    "\n",
    "E.g. think of authors from older publications,\n",
    "or authors with very common names that are difficult to disambiguate, or\n",
    "very new authors, who have only one or few publications. In such cases,\n",
    "using full-text authors search might be more\n",
    "appropriate.\n",
    "\n",
    "Examples:"
   ]
  },
  {
   "cell_type": "code",
   "execution_count": 41,
   "metadata": {
    "Collapsed": "false"
   },
   "outputs": [
    {
     "name": "stdout",
     "output_type": "stream",
     "text": [
      "Returned Researchers: 4 (total = 4)\n",
      "\u001b[2mTime: 1.66s\u001b[0m\n"
     ]
    },
    {
     "data": {
      "text/html": [
       "<div>\n",
       "<style scoped>\n",
       "    .dataframe tbody tr th:only-of-type {\n",
       "        vertical-align: middle;\n",
       "    }\n",
       "\n",
       "    .dataframe tbody tr th {\n",
       "        vertical-align: top;\n",
       "    }\n",
       "\n",
       "    .dataframe thead th {\n",
       "        text-align: right;\n",
       "    }\n",
       "</style>\n",
       "<table border=\"1\" class=\"dataframe\">\n",
       "  <thead>\n",
       "    <tr style=\"text-align: right;\">\n",
       "      <th></th>\n",
       "      <th>first_name</th>\n",
       "      <th>id</th>\n",
       "      <th>last_name</th>\n",
       "      <th>obsolete</th>\n",
       "      <th>research_orgs</th>\n",
       "    </tr>\n",
       "  </thead>\n",
       "  <tbody>\n",
       "    <tr>\n",
       "      <th>0</th>\n",
       "      <td>Satoko</td>\n",
       "      <td>ur.07751146721.59</td>\n",
       "      <td>Shimazaki</td>\n",
       "      <td>0</td>\n",
       "      <td>NaN</td>\n",
       "    </tr>\n",
       "    <tr>\n",
       "      <th>1</th>\n",
       "      <td>Satoko</td>\n",
       "      <td>ur.015527473602.63</td>\n",
       "      <td>Shimazaki</td>\n",
       "      <td>0</td>\n",
       "      <td>[{'acronym': 'UCB', 'city_name': 'Boulder', 'c...</td>\n",
       "    </tr>\n",
       "    <tr>\n",
       "      <th>2</th>\n",
       "      <td>Satoko</td>\n",
       "      <td>ur.014307627665.09</td>\n",
       "      <td>Shimazaki</td>\n",
       "      <td>0</td>\n",
       "      <td>[{'acronym': 'UCLA', 'city_name': 'Los Angeles...</td>\n",
       "    </tr>\n",
       "    <tr>\n",
       "      <th>3</th>\n",
       "      <td>Satoko</td>\n",
       "      <td>ur.010537333602.30</td>\n",
       "      <td>Shimazaki</td>\n",
       "      <td>1</td>\n",
       "      <td>NaN</td>\n",
       "    </tr>\n",
       "  </tbody>\n",
       "</table>\n",
       "</div>"
      ],
      "text/plain": [
       "  first_name                  id  last_name  obsolete  \\\n",
       "0     Satoko   ur.07751146721.59  Shimazaki         0   \n",
       "1     Satoko  ur.015527473602.63  Shimazaki         0   \n",
       "2     Satoko  ur.014307627665.09  Shimazaki         0   \n",
       "3     Satoko  ur.010537333602.30  Shimazaki         1   \n",
       "\n",
       "                                       research_orgs  \n",
       "0                                                NaN  \n",
       "1  [{'acronym': 'UCB', 'city_name': 'Boulder', 'c...  \n",
       "2  [{'acronym': 'UCLA', 'city_name': 'Los Angeles...  \n",
       "3                                                NaN  "
      ]
     },
     "execution_count": 41,
     "metadata": {},
     "output_type": "execute_result"
    }
   ],
   "source": [
    "%%dsldf \n",
    "search researchers for \"\\\"Satoko Shimazaki\\\"\" \n",
    "return researchers[basics+obsolete] "
   ]
  },
  {
   "cell_type": "markdown",
   "metadata": {
    "Collapsed": "false"
   },
   "source": [
    "NOTE pay attentiont to the `obsolete` field. This indicates the researcher ID status. 0 means that the researcher ID is still **active**, 1 means that the researcher ID is **no longer valid**. This is due to the ongoing process of refinement of Dimensions researchers. \n",
    "\n",
    "Hence the query above is best written like this:"
   ]
  },
  {
   "cell_type": "code",
   "execution_count": 42,
   "metadata": {
    "Collapsed": "false"
   },
   "outputs": [
    {
     "name": "stdout",
     "output_type": "stream",
     "text": [
      "Returned Researchers: 3 (total = 3)\n",
      "\u001b[2mTime: 1.18s\u001b[0m\n"
     ]
    },
    {
     "data": {
      "text/html": [
       "<div>\n",
       "<style scoped>\n",
       "    .dataframe tbody tr th:only-of-type {\n",
       "        vertical-align: middle;\n",
       "    }\n",
       "\n",
       "    .dataframe tbody tr th {\n",
       "        vertical-align: top;\n",
       "    }\n",
       "\n",
       "    .dataframe thead th {\n",
       "        text-align: right;\n",
       "    }\n",
       "</style>\n",
       "<table border=\"1\" class=\"dataframe\">\n",
       "  <thead>\n",
       "    <tr style=\"text-align: right;\">\n",
       "      <th></th>\n",
       "      <th>first_name</th>\n",
       "      <th>id</th>\n",
       "      <th>last_name</th>\n",
       "      <th>obsolete</th>\n",
       "      <th>research_orgs</th>\n",
       "    </tr>\n",
       "  </thead>\n",
       "  <tbody>\n",
       "    <tr>\n",
       "      <th>0</th>\n",
       "      <td>Satoko</td>\n",
       "      <td>ur.07751146721.59</td>\n",
       "      <td>Shimazaki</td>\n",
       "      <td>0</td>\n",
       "      <td>NaN</td>\n",
       "    </tr>\n",
       "    <tr>\n",
       "      <th>1</th>\n",
       "      <td>Satoko</td>\n",
       "      <td>ur.015527473602.63</td>\n",
       "      <td>Shimazaki</td>\n",
       "      <td>0</td>\n",
       "      <td>[{'acronym': 'UCB', 'city_name': 'Boulder', 'c...</td>\n",
       "    </tr>\n",
       "    <tr>\n",
       "      <th>2</th>\n",
       "      <td>Satoko</td>\n",
       "      <td>ur.014307627665.09</td>\n",
       "      <td>Shimazaki</td>\n",
       "      <td>0</td>\n",
       "      <td>[{'acronym': 'UCLA', 'city_name': 'Los Angeles...</td>\n",
       "    </tr>\n",
       "  </tbody>\n",
       "</table>\n",
       "</div>"
      ],
      "text/plain": [
       "  first_name                  id  last_name  obsolete  \\\n",
       "0     Satoko   ur.07751146721.59  Shimazaki         0   \n",
       "1     Satoko  ur.015527473602.63  Shimazaki         0   \n",
       "2     Satoko  ur.014307627665.09  Shimazaki         0   \n",
       "\n",
       "                                       research_orgs  \n",
       "0                                                NaN  \n",
       "1  [{'acronym': 'UCB', 'city_name': 'Boulder', 'c...  \n",
       "2  [{'acronym': 'UCLA', 'city_name': 'Los Angeles...  "
      ]
     },
     "execution_count": 42,
     "metadata": {},
     "output_type": "execute_result"
    }
   ],
   "source": [
    "%%dsldf \n",
    "search researchers where obsolete=0 for \"\\\"Satoko Shimazaki\\\"\" \n",
    "return researchers[basics+obsolete] "
   ]
  },
  {
   "cell_type": "markdown",
   "metadata": {
    "Collapsed": "false"
   },
   "source": [
    "With `Researchers`, one can use other fields as well:"
   ]
  },
  {
   "cell_type": "code",
   "execution_count": 43,
   "metadata": {
    "Collapsed": "false"
   },
   "outputs": [
    {
     "name": "stdout",
     "output_type": "stream",
     "text": [
      "Returned Researchers: 5 (total = 479)\n",
      "\u001b[2mTime: 1.74s\u001b[0m\n"
     ]
    },
    {
     "data": {
      "text/html": [
       "<div>\n",
       "<style scoped>\n",
       "    .dataframe tbody tr th:only-of-type {\n",
       "        vertical-align: middle;\n",
       "    }\n",
       "\n",
       "    .dataframe tbody tr th {\n",
       "        vertical-align: top;\n",
       "    }\n",
       "\n",
       "    .dataframe thead th {\n",
       "        text-align: right;\n",
       "    }\n",
       "</style>\n",
       "<table border=\"1\" class=\"dataframe\">\n",
       "  <thead>\n",
       "    <tr style=\"text-align: right;\">\n",
       "      <th></th>\n",
       "      <th>first_name</th>\n",
       "      <th>id</th>\n",
       "      <th>last_name</th>\n",
       "      <th>research_orgs</th>\n",
       "    </tr>\n",
       "  </thead>\n",
       "  <tbody>\n",
       "    <tr>\n",
       "      <th>0</th>\n",
       "      <td>Yoshiaki</td>\n",
       "      <td>ur.07777053663.32</td>\n",
       "      <td>Shimazaki</td>\n",
       "      <td>[{'acronym': 'KUIS', 'city_name': 'Miki', 'cou...</td>\n",
       "    </tr>\n",
       "    <tr>\n",
       "      <th>1</th>\n",
       "      <td>Takanori</td>\n",
       "      <td>ur.07761700432.36</td>\n",
       "      <td>Shimazaki</td>\n",
       "      <td>[{'city_name': 'Sendai', 'country_name': 'Japa...</td>\n",
       "    </tr>\n",
       "    <tr>\n",
       "      <th>2</th>\n",
       "      <td>Toshiharu</td>\n",
       "      <td>ur.07755624517.66</td>\n",
       "      <td>Shimazaki</td>\n",
       "      <td>[{'city_name': 'Toyama', 'country_name': 'Japa...</td>\n",
       "    </tr>\n",
       "    <tr>\n",
       "      <th>3</th>\n",
       "      <td>Satoko</td>\n",
       "      <td>ur.07751146721.59</td>\n",
       "      <td>Shimazaki</td>\n",
       "      <td>NaN</td>\n",
       "    </tr>\n",
       "    <tr>\n",
       "      <th>4</th>\n",
       "      <td>Junya</td>\n",
       "      <td>ur.0773771745.48</td>\n",
       "      <td>Shimazaki</td>\n",
       "      <td>[{'city_name': 'Suita', 'country_name': 'Japan...</td>\n",
       "    </tr>\n",
       "  </tbody>\n",
       "</table>\n",
       "</div>"
      ],
      "text/plain": [
       "  first_name                 id  last_name  \\\n",
       "0   Yoshiaki  ur.07777053663.32  Shimazaki   \n",
       "1   Takanori  ur.07761700432.36  Shimazaki   \n",
       "2  Toshiharu  ur.07755624517.66  Shimazaki   \n",
       "3     Satoko  ur.07751146721.59  Shimazaki   \n",
       "4      Junya   ur.0773771745.48  Shimazaki   \n",
       "\n",
       "                                       research_orgs  \n",
       "0  [{'acronym': 'KUIS', 'city_name': 'Miki', 'cou...  \n",
       "1  [{'city_name': 'Sendai', 'country_name': 'Japa...  \n",
       "2  [{'city_name': 'Toyama', 'country_name': 'Japa...  \n",
       "3                                                NaN  \n",
       "4  [{'city_name': 'Suita', 'country_name': 'Japan...  "
      ]
     },
     "execution_count": 43,
     "metadata": {},
     "output_type": "execute_result"
    }
   ],
   "source": [
    "%%dsldf \n",
    "search researchers \n",
    "    where obsolete=0 and last_name=\"Shimazaki\" \n",
    "return researchers[basics] limit 5"
   ]
  },
  {
   "cell_type": "markdown",
   "metadata": {
    "Collapsed": "false"
   },
   "source": [
    "## 5. Returning results\n",
    "\n",
    "After the `search` phrase, a query must contain one or more `return`\n",
    "phrases, specifying the content and format of the information that\n",
    "should be returned."
   ]
  },
  {
   "cell_type": "markdown",
   "metadata": {
    "Collapsed": "false"
   },
   "source": [
    "\n",
    "\n",
    "### 5.1 Returning Multiple Sources\n",
    "\n",
    "Multiple results may not be returned in a single `return` phrase."
   ]
  },
  {
   "cell_type": "code",
   "execution_count": 44,
   "metadata": {
    "Collapsed": "false"
   },
   "outputs": [
    {
     "name": "stdout",
     "output_type": "stream",
     "text": [
      "Returned Funders: 5\n",
      "Returned Research_orgs: 5\n",
      "Returned Year: 20\n",
      "\u001b[2mTime: 8.98s\u001b[0m\n",
      "[Warning] Dataframe created from first available key, but more than one JSON key found: ['funders', 'research_orgs', 'year']\n"
     ]
    },
    {
     "data": {
      "text/html": [
       "<div>\n",
       "<style scoped>\n",
       "    .dataframe tbody tr th:only-of-type {\n",
       "        vertical-align: middle;\n",
       "    }\n",
       "\n",
       "    .dataframe tbody tr th {\n",
       "        vertical-align: top;\n",
       "    }\n",
       "\n",
       "    .dataframe thead th {\n",
       "        text-align: right;\n",
       "    }\n",
       "</style>\n",
       "<table border=\"1\" class=\"dataframe\">\n",
       "  <thead>\n",
       "    <tr style=\"text-align: right;\">\n",
       "      <th></th>\n",
       "      <th>acronym</th>\n",
       "      <th>city_name</th>\n",
       "      <th>count</th>\n",
       "      <th>country_name</th>\n",
       "      <th>id</th>\n",
       "      <th>latitude</th>\n",
       "      <th>linkout</th>\n",
       "      <th>longitude</th>\n",
       "      <th>name</th>\n",
       "      <th>types</th>\n",
       "      <th>state_name</th>\n",
       "    </tr>\n",
       "  </thead>\n",
       "  <tbody>\n",
       "    <tr>\n",
       "      <th>0</th>\n",
       "      <td>NSFC</td>\n",
       "      <td>Beijing</td>\n",
       "      <td>2616091</td>\n",
       "      <td>China</td>\n",
       "      <td>grid.419696.5</td>\n",
       "      <td>40.005177</td>\n",
       "      <td>[http://www.nsfc.gov.cn/publish/portal1/]</td>\n",
       "      <td>116.339830</td>\n",
       "      <td>National Natural Science Foundation of China</td>\n",
       "      <td>[Government]</td>\n",
       "      <td>NaN</td>\n",
       "    </tr>\n",
       "    <tr>\n",
       "      <th>1</th>\n",
       "      <td>EC</td>\n",
       "      <td>Brussels</td>\n",
       "      <td>892845</td>\n",
       "      <td>Belgium</td>\n",
       "      <td>grid.270680.b</td>\n",
       "      <td>50.851650</td>\n",
       "      <td>[http://ec.europa.eu/index_en.htm]</td>\n",
       "      <td>4.363670</td>\n",
       "      <td>European Commission</td>\n",
       "      <td>[Government]</td>\n",
       "      <td>NaN</td>\n",
       "    </tr>\n",
       "    <tr>\n",
       "      <th>2</th>\n",
       "      <td>MOST</td>\n",
       "      <td>Beijing</td>\n",
       "      <td>805786</td>\n",
       "      <td>China</td>\n",
       "      <td>grid.424020.0</td>\n",
       "      <td>39.827835</td>\n",
       "      <td>[http://www.most.gov.cn/eng/]</td>\n",
       "      <td>116.316284</td>\n",
       "      <td>Ministry of Science and Technology of the Peop...</td>\n",
       "      <td>[Government]</td>\n",
       "      <td>NaN</td>\n",
       "    </tr>\n",
       "    <tr>\n",
       "      <th>3</th>\n",
       "      <td>JSPS</td>\n",
       "      <td>Tokyo</td>\n",
       "      <td>712381</td>\n",
       "      <td>Japan</td>\n",
       "      <td>grid.54432.34</td>\n",
       "      <td>35.687160</td>\n",
       "      <td>[http://www.jsps.go.jp/]</td>\n",
       "      <td>139.740390</td>\n",
       "      <td>Japan Society for the Promotion of Science</td>\n",
       "      <td>[Nonprofit]</td>\n",
       "      <td>NaN</td>\n",
       "    </tr>\n",
       "    <tr>\n",
       "      <th>4</th>\n",
       "      <td>NCI</td>\n",
       "      <td>Bethesda</td>\n",
       "      <td>622804</td>\n",
       "      <td>United States</td>\n",
       "      <td>grid.48336.3a</td>\n",
       "      <td>39.004326</td>\n",
       "      <td>[http://www.cancer.gov/]</td>\n",
       "      <td>-77.101190</td>\n",
       "      <td>National Cancer Institute</td>\n",
       "      <td>[Government]</td>\n",
       "      <td>Maryland</td>\n",
       "    </tr>\n",
       "  </tbody>\n",
       "</table>\n",
       "</div>"
      ],
      "text/plain": [
       "  acronym city_name    count   country_name             id   latitude  \\\n",
       "0    NSFC   Beijing  2616091          China  grid.419696.5  40.005177   \n",
       "1      EC  Brussels   892845        Belgium  grid.270680.b  50.851650   \n",
       "2    MOST   Beijing   805786          China  grid.424020.0  39.827835   \n",
       "3    JSPS     Tokyo   712381          Japan  grid.54432.34  35.687160   \n",
       "4     NCI  Bethesda   622804  United States  grid.48336.3a  39.004326   \n",
       "\n",
       "                                     linkout   longitude  \\\n",
       "0  [http://www.nsfc.gov.cn/publish/portal1/]  116.339830   \n",
       "1         [http://ec.europa.eu/index_en.htm]    4.363670   \n",
       "2              [http://www.most.gov.cn/eng/]  116.316284   \n",
       "3                   [http://www.jsps.go.jp/]  139.740390   \n",
       "4                   [http://www.cancer.gov/]  -77.101190   \n",
       "\n",
       "                                                name         types state_name  \n",
       "0       National Natural Science Foundation of China  [Government]        NaN  \n",
       "1                                European Commission  [Government]        NaN  \n",
       "2  Ministry of Science and Technology of the Peop...  [Government]        NaN  \n",
       "3         Japan Society for the Promotion of Science   [Nonprofit]        NaN  \n",
       "4                          National Cancer Institute  [Government]   Maryland  "
      ]
     },
     "execution_count": 44,
     "metadata": {},
     "output_type": "execute_result"
    }
   ],
   "source": [
    "%%dsldf \n",
    "search publications \n",
    "return funders limit 5 \n",
    "return research_orgs limit 5 \n",
    "return year"
   ]
  },
  {
   "cell_type": "markdown",
   "metadata": {
    "Collapsed": "false"
   },
   "source": [
    "\n",
    "### 5.2 Returning Specific Fields\n",
    "\n",
    "For control over which information from each given `record` will be\n",
    "returned, a `source` or `entity` name in the `results` phrase can be\n",
    "optionally followed by a specification of `fields` and `fieldsets` to be\n",
    "included in the JSON results for each retrieved record.\n",
    "\n",
    "The fields specification may be an arbitrary list of `field` names\n",
    "enclosed in brackets (`[`, `]`), with field names separated by a plus\n",
    "sign (`+`). Minus sign (`-`) can be used to exclude `field` or a\n",
    "`fieldset` from the result. Field names thus listed within brackets must\n",
    "be \"known\" to the DSL, and therefore only a subset of fields may be used\n",
    "in this syntax (see note below)."
   ]
  },
  {
   "cell_type": "code",
   "execution_count": 45,
   "metadata": {
    "Collapsed": "false"
   },
   "outputs": [
    {
     "name": "stdout",
     "output_type": "stream",
     "text": [
      "Returned Grants: 5 (total = 6115921)\n",
      "\u001b[2mTime: 2.45s\u001b[0m\n"
     ]
    },
    {
     "data": {
      "text/html": [
       "<div>\n",
       "<style scoped>\n",
       "    .dataframe tbody tr th:only-of-type {\n",
       "        vertical-align: middle;\n",
       "    }\n",
       "\n",
       "    .dataframe tbody tr th {\n",
       "        vertical-align: top;\n",
       "    }\n",
       "\n",
       "    .dataframe thead th {\n",
       "        text-align: right;\n",
       "    }\n",
       "</style>\n",
       "<table border=\"1\" class=\"dataframe\">\n",
       "  <thead>\n",
       "    <tr style=\"text-align: right;\">\n",
       "      <th></th>\n",
       "      <th>grant_number</th>\n",
       "      <th>language</th>\n",
       "      <th>title</th>\n",
       "    </tr>\n",
       "  </thead>\n",
       "  <tbody>\n",
       "    <tr>\n",
       "      <th>0</th>\n",
       "      <td>FL210100107</td>\n",
       "      <td>en</td>\n",
       "      <td>Tracking nanoparticles: from cell culture to i...</td>\n",
       "    </tr>\n",
       "    <tr>\n",
       "      <th>1</th>\n",
       "      <td>2127438</td>\n",
       "      <td>en</td>\n",
       "      <td>NNA Planning: Developing community frameworks ...</td>\n",
       "    </tr>\n",
       "    <tr>\n",
       "      <th>2</th>\n",
       "      <td>101019146</td>\n",
       "      <td>en</td>\n",
       "      <td>Seeking Constraints on Open Ocean Biocalcifica...</td>\n",
       "    </tr>\n",
       "    <tr>\n",
       "      <th>3</th>\n",
       "      <td>101003021</td>\n",
       "      <td>en</td>\n",
       "      <td>New frontiers in advanced glycotherapy for cancer</td>\n",
       "    </tr>\n",
       "    <tr>\n",
       "      <th>4</th>\n",
       "      <td>2105918</td>\n",
       "      <td>en</td>\n",
       "      <td>RUI: Exciton-Phonon Interactions in Solids bas...</td>\n",
       "    </tr>\n",
       "  </tbody>\n",
       "</table>\n",
       "</div>"
      ],
      "text/plain": [
       "  grant_number language                                              title\n",
       "0  FL210100107       en  Tracking nanoparticles: from cell culture to i...\n",
       "1      2127438       en  NNA Planning: Developing community frameworks ...\n",
       "2    101019146       en  Seeking Constraints on Open Ocean Biocalcifica...\n",
       "3    101003021       en  New frontiers in advanced glycotherapy for cancer\n",
       "4      2105918       en  RUI: Exciton-Phonon Interactions in Solids bas..."
      ]
     },
     "execution_count": 45,
     "metadata": {},
     "output_type": "execute_result"
    }
   ],
   "source": [
    "%%dsldf \n",
    "search grants \n",
    "return grants[grant_number + title + language] limit 5"
   ]
  },
  {
   "cell_type": "code",
   "execution_count": 46,
   "metadata": {
    "Collapsed": "false"
   },
   "outputs": [
    {
     "name": "stdout",
     "output_type": "stream",
     "text": [
      "Returned Clinical_trials: 5 (total = 684354)\n",
      "\u001b[2mTime: 1.91s\u001b[0m\n"
     ]
    },
    {
     "data": {
      "text/html": [
       "<div>\n",
       "<style scoped>\n",
       "    .dataframe tbody tr th:only-of-type {\n",
       "        vertical-align: middle;\n",
       "    }\n",
       "\n",
       "    .dataframe tbody tr th {\n",
       "        vertical-align: top;\n",
       "    }\n",
       "\n",
       "    .dataframe thead th {\n",
       "        text-align: right;\n",
       "    }\n",
       "</style>\n",
       "<table border=\"1\" class=\"dataframe\">\n",
       "  <thead>\n",
       "    <tr style=\"text-align: right;\">\n",
       "      <th></th>\n",
       "      <th>acronym</th>\n",
       "      <th>id</th>\n",
       "      <th>phase</th>\n",
       "      <th>title</th>\n",
       "    </tr>\n",
       "  </thead>\n",
       "  <tbody>\n",
       "    <tr>\n",
       "      <th>0</th>\n",
       "      <td>A study of the effect of food ingredient on br...</td>\n",
       "      <td>UMIN000046666</td>\n",
       "      <td>N/A</td>\n",
       "      <td>A study of the effect of food ingredient on br...</td>\n",
       "    </tr>\n",
       "    <tr>\n",
       "      <th>1</th>\n",
       "      <td>Assessment of aqueous column</td>\n",
       "      <td>UMIN000046665</td>\n",
       "      <td>N/A</td>\n",
       "      <td>Assessment of aqueous column dilation with Rip...</td>\n",
       "    </tr>\n",
       "    <tr>\n",
       "      <th>2</th>\n",
       "      <td>A multicenter retrospective study of the effic...</td>\n",
       "      <td>UMIN000046659</td>\n",
       "      <td>N/A</td>\n",
       "      <td>A multicenter retrospective study of the effic...</td>\n",
       "    </tr>\n",
       "    <tr>\n",
       "      <th>3</th>\n",
       "      <td>Association hypnotic drugs and falls</td>\n",
       "      <td>UMIN000046653</td>\n",
       "      <td>N/A</td>\n",
       "      <td>Balance dysfunction the most significant cause...</td>\n",
       "    </tr>\n",
       "    <tr>\n",
       "      <th>4</th>\n",
       "      <td>exploratory study of optimizing ustekinumab do...</td>\n",
       "      <td>UMIN000046650</td>\n",
       "      <td>N/A</td>\n",
       "      <td>exploratory study of optimizing ustekinumab do...</td>\n",
       "    </tr>\n",
       "  </tbody>\n",
       "</table>\n",
       "</div>"
      ],
      "text/plain": [
       "                                             acronym             id phase  \\\n",
       "0  A study of the effect of food ingredient on br...  UMIN000046666   N/A   \n",
       "1                       Assessment of aqueous column  UMIN000046665   N/A   \n",
       "2  A multicenter retrospective study of the effic...  UMIN000046659   N/A   \n",
       "3               Association hypnotic drugs and falls  UMIN000046653   N/A   \n",
       "4  exploratory study of optimizing ustekinumab do...  UMIN000046650   N/A   \n",
       "\n",
       "                                               title  \n",
       "0  A study of the effect of food ingredient on br...  \n",
       "1  Assessment of aqueous column dilation with Rip...  \n",
       "2  A multicenter retrospective study of the effic...  \n",
       "3  Balance dysfunction the most significant cause...  \n",
       "4  exploratory study of optimizing ustekinumab do...  "
      ]
     },
     "execution_count": 46,
     "metadata": {},
     "output_type": "execute_result"
    }
   ],
   "source": [
    "%%dsldf \n",
    "search clinical_trials \n",
    "return clinical_trials [id+ title + acronym + phase] limit 5"
   ]
  },
  {
   "cell_type": "markdown",
   "metadata": {
    "Collapsed": "false"
   },
   "source": [
    "**Shortcuts: `fieldsets`**\n",
    "\n",
    "The fields specification may be the name of a pre-defined `fieldset`\n",
    "(e.g. `extras`, `basics`). These are shortcuts that can be handy when testing out new queries, for example. \n",
    "\n",
    "NOTE In general when writing code used in integrations or long-standing extraction scripts it is **best to return specific fields rather that a predefined set**. This has also the advantage of making queries faster by avoiding the extraction of unnecessary data.\n",
    "    "
   ]
  },
  {
   "cell_type": "code",
   "execution_count": 47,
   "metadata": {
    "Collapsed": "false"
   },
   "outputs": [
    {
     "name": "stdout",
     "output_type": "stream",
     "text": [
      "Returned Grants: 5 (total = 6115921)\n",
      "\u001b[2mTime: 2.38s\u001b[0m\n"
     ]
    },
    {
     "data": {
      "text/html": [
       "<div>\n",
       "<style scoped>\n",
       "    .dataframe tbody tr th:only-of-type {\n",
       "        vertical-align: middle;\n",
       "    }\n",
       "\n",
       "    .dataframe tbody tr th {\n",
       "        vertical-align: top;\n",
       "    }\n",
       "\n",
       "    .dataframe thead th {\n",
       "        text-align: right;\n",
       "    }\n",
       "</style>\n",
       "<table border=\"1\" class=\"dataframe\">\n",
       "  <thead>\n",
       "    <tr style=\"text-align: right;\">\n",
       "      <th></th>\n",
       "      <th>active_year</th>\n",
       "      <th>end_date</th>\n",
       "      <th>funders</th>\n",
       "      <th>funding_org_name</th>\n",
       "      <th>grant_number</th>\n",
       "      <th>id</th>\n",
       "      <th>language</th>\n",
       "      <th>original_title</th>\n",
       "      <th>start_date</th>\n",
       "      <th>start_year</th>\n",
       "      <th>title</th>\n",
       "    </tr>\n",
       "  </thead>\n",
       "  <tbody>\n",
       "    <tr>\n",
       "      <th>0</th>\n",
       "      <td>[2022, 2023, 2024, 2025, 2026, 2027]</td>\n",
       "      <td>2027-12-01</td>\n",
       "      <td>[{'acronym': 'ARC', 'city_name': 'Canberra', '...</td>\n",
       "      <td>Australian Research Council</td>\n",
       "      <td>FL210100107</td>\n",
       "      <td>grant.9782236</td>\n",
       "      <td>en</td>\n",
       "      <td>Tracking nanoparticles: from cell culture to i...</td>\n",
       "      <td>2022-12-01</td>\n",
       "      <td>2022</td>\n",
       "      <td>Tracking nanoparticles: from cell culture to i...</td>\n",
       "    </tr>\n",
       "    <tr>\n",
       "      <th>1</th>\n",
       "      <td>[2022, 2023]</td>\n",
       "      <td>2023-05-31</td>\n",
       "      <td>[{'acronym': 'NSF GEO', 'city_name': 'Arlingto...</td>\n",
       "      <td>Directorate for Geosciences</td>\n",
       "      <td>2127438</td>\n",
       "      <td>grant.9752271</td>\n",
       "      <td>en</td>\n",
       "      <td>NNA Planning: Developing community frameworks ...</td>\n",
       "      <td>2022-12-01</td>\n",
       "      <td>2022</td>\n",
       "      <td>NNA Planning: Developing community frameworks ...</td>\n",
       "    </tr>\n",
       "    <tr>\n",
       "      <th>2</th>\n",
       "      <td>[2022, 2023, 2024, 2025, 2026, 2027]</td>\n",
       "      <td>2027-11-30</td>\n",
       "      <td>[{'acronym': 'ERC', 'city_name': 'Brussels', '...</td>\n",
       "      <td>European Research Council</td>\n",
       "      <td>101019146</td>\n",
       "      <td>grant.9708025</td>\n",
       "      <td>en</td>\n",
       "      <td>Seeking Constraints on Open Ocean Biocalcifica...</td>\n",
       "      <td>2022-12-01</td>\n",
       "      <td>2022</td>\n",
       "      <td>Seeking Constraints on Open Ocean Biocalcifica...</td>\n",
       "    </tr>\n",
       "    <tr>\n",
       "      <th>3</th>\n",
       "      <td>[2022, 2023, 2024, 2025, 2026, 2027]</td>\n",
       "      <td>2027-11-30</td>\n",
       "      <td>[{'acronym': 'ERC', 'city_name': 'Brussels', '...</td>\n",
       "      <td>European Research Council</td>\n",
       "      <td>101003021</td>\n",
       "      <td>grant.9661402</td>\n",
       "      <td>en</td>\n",
       "      <td>New frontiers in advanced glycotherapy for cancer</td>\n",
       "      <td>2022-12-01</td>\n",
       "      <td>2022</td>\n",
       "      <td>New frontiers in advanced glycotherapy for cancer</td>\n",
       "    </tr>\n",
       "    <tr>\n",
       "      <th>4</th>\n",
       "      <td>[2022, 2023, 2024, 2025]</td>\n",
       "      <td>2025-10-31</td>\n",
       "      <td>[{'acronym': 'NSF MPS', 'city_name': 'Arlingto...</td>\n",
       "      <td>Directorate for Mathematical &amp; Physical Sciences</td>\n",
       "      <td>2105918</td>\n",
       "      <td>grant.9890102</td>\n",
       "      <td>en</td>\n",
       "      <td>RUI: Exciton-Phonon Interactions in Solids bas...</td>\n",
       "      <td>2022-11-15</td>\n",
       "      <td>2022</td>\n",
       "      <td>RUI: Exciton-Phonon Interactions in Solids bas...</td>\n",
       "    </tr>\n",
       "  </tbody>\n",
       "</table>\n",
       "</div>"
      ],
      "text/plain": [
       "                            active_year    end_date  \\\n",
       "0  [2022, 2023, 2024, 2025, 2026, 2027]  2027-12-01   \n",
       "1                          [2022, 2023]  2023-05-31   \n",
       "2  [2022, 2023, 2024, 2025, 2026, 2027]  2027-11-30   \n",
       "3  [2022, 2023, 2024, 2025, 2026, 2027]  2027-11-30   \n",
       "4              [2022, 2023, 2024, 2025]  2025-10-31   \n",
       "\n",
       "                                             funders  \\\n",
       "0  [{'acronym': 'ARC', 'city_name': 'Canberra', '...   \n",
       "1  [{'acronym': 'NSF GEO', 'city_name': 'Arlingto...   \n",
       "2  [{'acronym': 'ERC', 'city_name': 'Brussels', '...   \n",
       "3  [{'acronym': 'ERC', 'city_name': 'Brussels', '...   \n",
       "4  [{'acronym': 'NSF MPS', 'city_name': 'Arlingto...   \n",
       "\n",
       "                                   funding_org_name grant_number  \\\n",
       "0                       Australian Research Council  FL210100107   \n",
       "1                       Directorate for Geosciences      2127438   \n",
       "2                         European Research Council    101019146   \n",
       "3                         European Research Council    101003021   \n",
       "4  Directorate for Mathematical & Physical Sciences      2105918   \n",
       "\n",
       "              id language                                     original_title  \\\n",
       "0  grant.9782236       en  Tracking nanoparticles: from cell culture to i...   \n",
       "1  grant.9752271       en  NNA Planning: Developing community frameworks ...   \n",
       "2  grant.9708025       en  Seeking Constraints on Open Ocean Biocalcifica...   \n",
       "3  grant.9661402       en  New frontiers in advanced glycotherapy for cancer   \n",
       "4  grant.9890102       en  RUI: Exciton-Phonon Interactions in Solids bas...   \n",
       "\n",
       "   start_date  start_year                                              title  \n",
       "0  2022-12-01        2022  Tracking nanoparticles: from cell culture to i...  \n",
       "1  2022-12-01        2022  NNA Planning: Developing community frameworks ...  \n",
       "2  2022-12-01        2022  Seeking Constraints on Open Ocean Biocalcifica...  \n",
       "3  2022-12-01        2022  New frontiers in advanced glycotherapy for cancer  \n",
       "4  2022-11-15        2022  RUI: Exciton-Phonon Interactions in Solids bas...  "
      ]
     },
     "execution_count": 47,
     "metadata": {},
     "output_type": "execute_result"
    }
   ],
   "source": [
    "%%dsldf \n",
    "search grants \n",
    "return grants [basics] limit 5 "
   ]
  },
  {
   "cell_type": "code",
   "execution_count": 48,
   "metadata": {
    "Collapsed": "false"
   },
   "outputs": [
    {
     "name": "stdout",
     "output_type": "stream",
     "text": [
      "Returned Publications: 5 (total = 124736479)\n",
      "\u001b[2mTime: 2.49s\u001b[0m\n"
     ]
    },
    {
     "data": {
      "text/html": [
       "<div>\n",
       "<style scoped>\n",
       "    .dataframe tbody tr th:only-of-type {\n",
       "        vertical-align: middle;\n",
       "    }\n",
       "\n",
       "    .dataframe tbody tr th {\n",
       "        vertical-align: top;\n",
       "    }\n",
       "\n",
       "    .dataframe thead th {\n",
       "        text-align: right;\n",
       "    }\n",
       "</style>\n",
       "<table border=\"1\" class=\"dataframe\">\n",
       "  <thead>\n",
       "    <tr style=\"text-align: right;\">\n",
       "      <th></th>\n",
       "      <th>authors</th>\n",
       "      <th>id</th>\n",
       "      <th>issue</th>\n",
       "      <th>pages</th>\n",
       "      <th>times_cited</th>\n",
       "      <th>title</th>\n",
       "      <th>type</th>\n",
       "      <th>volume</th>\n",
       "      <th>year</th>\n",
       "      <th>journal.id</th>\n",
       "      <th>journal.title</th>\n",
       "    </tr>\n",
       "  </thead>\n",
       "  <tbody>\n",
       "    <tr>\n",
       "      <th>0</th>\n",
       "      <td>[{'affiliations': [], 'corresponding': '', 'cu...</td>\n",
       "      <td>pub.1144593888</td>\n",
       "      <td>3</td>\n",
       "      <td>284-292</td>\n",
       "      <td>0</td>\n",
       "      <td>Profile of ectoparasites and biometric conditi...</td>\n",
       "      <td>article</td>\n",
       "      <td>10</td>\n",
       "      <td>2022</td>\n",
       "      <td>jour.1150855</td>\n",
       "      <td>Depik Jurnal</td>\n",
       "    </tr>\n",
       "    <tr>\n",
       "      <th>1</th>\n",
       "      <td>[{'affiliations': [{'city': 'Shanghai', 'city_...</td>\n",
       "      <td>pub.1144587500</td>\n",
       "      <td>NaN</td>\n",
       "      <td>1-16</td>\n",
       "      <td>0</td>\n",
       "      <td>Experimental study of stratified lean burn cha...</td>\n",
       "      <td>article</td>\n",
       "      <td>NaN</td>\n",
       "      <td>2022</td>\n",
       "      <td>jour.1136510</td>\n",
       "      <td>Frontiers in Energy</td>\n",
       "    </tr>\n",
       "    <tr>\n",
       "      <th>2</th>\n",
       "      <td>[{'affiliations': [{'city': 'Hangzhou', 'city_...</td>\n",
       "      <td>pub.1141731113</td>\n",
       "      <td>9</td>\n",
       "      <td>1-40</td>\n",
       "      <td>0</td>\n",
       "      <td>Opportunities and Challenges in Code Search Tools</td>\n",
       "      <td>article</td>\n",
       "      <td>54</td>\n",
       "      <td>2022</td>\n",
       "      <td>jour.1119907</td>\n",
       "      <td>ACM Computing Surveys</td>\n",
       "    </tr>\n",
       "    <tr>\n",
       "      <th>3</th>\n",
       "      <td>[{'affiliations': [{'city': 'Melbourne', 'city...</td>\n",
       "      <td>pub.1141731112</td>\n",
       "      <td>9</td>\n",
       "      <td>1-36</td>\n",
       "      <td>0</td>\n",
       "      <td>Ransomware Mitigation in the Modern Era: A Com...</td>\n",
       "      <td>article</td>\n",
       "      <td>54</td>\n",
       "      <td>2022</td>\n",
       "      <td>jour.1119907</td>\n",
       "      <td>ACM Computing Surveys</td>\n",
       "    </tr>\n",
       "    <tr>\n",
       "      <th>4</th>\n",
       "      <td>[{'affiliations': [{'city': 'Sydney', 'city_id...</td>\n",
       "      <td>pub.1141731111</td>\n",
       "      <td>9</td>\n",
       "      <td>1-38</td>\n",
       "      <td>0</td>\n",
       "      <td>Service Computing for Industry 4.0: State of t...</td>\n",
       "      <td>article</td>\n",
       "      <td>54</td>\n",
       "      <td>2022</td>\n",
       "      <td>jour.1119907</td>\n",
       "      <td>ACM Computing Surveys</td>\n",
       "    </tr>\n",
       "  </tbody>\n",
       "</table>\n",
       "</div>"
      ],
      "text/plain": [
       "                                             authors              id issue  \\\n",
       "0  [{'affiliations': [], 'corresponding': '', 'cu...  pub.1144593888     3   \n",
       "1  [{'affiliations': [{'city': 'Shanghai', 'city_...  pub.1144587500   NaN   \n",
       "2  [{'affiliations': [{'city': 'Hangzhou', 'city_...  pub.1141731113     9   \n",
       "3  [{'affiliations': [{'city': 'Melbourne', 'city...  pub.1141731112     9   \n",
       "4  [{'affiliations': [{'city': 'Sydney', 'city_id...  pub.1141731111     9   \n",
       "\n",
       "     pages  times_cited                                              title  \\\n",
       "0  284-292            0  Profile of ectoparasites and biometric conditi...   \n",
       "1     1-16            0  Experimental study of stratified lean burn cha...   \n",
       "2     1-40            0  Opportunities and Challenges in Code Search Tools   \n",
       "3     1-36            0  Ransomware Mitigation in the Modern Era: A Com...   \n",
       "4     1-38            0  Service Computing for Industry 4.0: State of t...   \n",
       "\n",
       "      type volume  year    journal.id          journal.title  \n",
       "0  article     10  2022  jour.1150855           Depik Jurnal  \n",
       "1  article    NaN  2022  jour.1136510    Frontiers in Energy  \n",
       "2  article     54  2022  jour.1119907  ACM Computing Surveys  \n",
       "3  article     54  2022  jour.1119907  ACM Computing Surveys  \n",
       "4  article     54  2022  jour.1119907  ACM Computing Surveys  "
      ]
     },
     "execution_count": 48,
     "metadata": {},
     "output_type": "execute_result"
    }
   ],
   "source": [
    "%%dsldf \n",
    "search publications \n",
    "return publications [basics+times_cited] limit 5 "
   ]
  },
  {
   "cell_type": "markdown",
   "metadata": {
    "Collapsed": "false"
   },
   "source": [
    "The fields specification may be an (`all`), to indicate that all fields\n",
    "available for the given `source` should be returned."
   ]
  },
  {
   "cell_type": "code",
   "execution_count": 49,
   "metadata": {
    "Collapsed": "false"
   },
   "outputs": [
    {
     "name": "stdout",
     "output_type": "stream",
     "text": [
      "Returned Errors: 1\n",
      "\u001b[2mTime: 2.62s\u001b[0m\n",
      "1 QueryError found\n",
      "Semantic errors found:\n",
      "\tField / Fieldset 'all' is not present in Source 'publications'. Available fields: abstract,acknowledgements,altmetric,altmetric_id,arxiv_id,authors,authors_count,book_doi,book_series_title,book_title,category_bra,category_for,category_hra,category_hrcs_hc,category_hrcs_rac,category_icrp_cso,category_icrp_ct,category_rcdc,category_sdg,category_uoa,clinical_trial_ids,concepts,concepts_scores,date,date_inserted,date_online,date_print,dimensions_url,doi,field_citation_ratio,funder_countries,funders,id,issn,issue,journal,journal_lists,journal_title_raw,linkout,mesh_terms,open_access,pages,pmcid,pmid,proceedings_title,publisher,recent_citations,reference_ids,referenced_pubs,relative_citation_ratio,research_org_cities,research_org_countries,research_org_country_names,research_org_names,research_org_state_codes,research_org_state_names,research_orgs,researchers,resulting_publication_doi,source_title,subtitles,supporting_grant_ids,times_cited,title,type,volume,year and available fieldsets: basics,book,categories,extras\n"
     ]
    }
   ],
   "source": [
    "%%dsldf\n",
    "search publications \n",
    "return publications [all] limit 5 "
   ]
  },
  {
   "cell_type": "markdown",
   "metadata": {
    "Collapsed": "false"
   },
   "source": [
    "### 5.3 Returning Facets\n",
    "\n",
    "In addition to returning source records matching a query, it is possible\n",
    "to $facet$ on the [entity](data-entities.ipynb) fields related to a\n",
    "particular source and return only those entity values as an aggregrated\n",
    "view of the related source data. This operation is similar to a\n",
    "$group by$ or $pivot table$.\n",
    "\n",
    "**Warning** Faceting can return up to a maximum of 1000 results. This is to ensure\n",
    "adequate performance with all queries. Furthemore, although the `limit`\n",
    "operator is allowed, the `skip` operator cannot be used."
   ]
  },
  {
   "cell_type": "code",
   "execution_count": 50,
   "metadata": {
    "Collapsed": "false"
   },
   "outputs": [
    {
     "name": "stdout",
     "output_type": "stream",
     "text": [
      "Returned Research_orgs: 5\n",
      "\u001b[2mTime: 1.86s\u001b[0m\n"
     ]
    },
    {
     "data": {
      "text/html": [
       "<div>\n",
       "<style scoped>\n",
       "    .dataframe tbody tr th:only-of-type {\n",
       "        vertical-align: middle;\n",
       "    }\n",
       "\n",
       "    .dataframe tbody tr th {\n",
       "        vertical-align: top;\n",
       "    }\n",
       "\n",
       "    .dataframe thead th {\n",
       "        text-align: right;\n",
       "    }\n",
       "</style>\n",
       "<table border=\"1\" class=\"dataframe\">\n",
       "  <thead>\n",
       "    <tr style=\"text-align: right;\">\n",
       "      <th></th>\n",
       "      <th>city_name</th>\n",
       "      <th>count</th>\n",
       "      <th>country_name</th>\n",
       "      <th>id</th>\n",
       "      <th>latitude</th>\n",
       "      <th>linkout</th>\n",
       "      <th>longitude</th>\n",
       "      <th>name</th>\n",
       "      <th>state_name</th>\n",
       "      <th>types</th>\n",
       "      <th>acronym</th>\n",
       "    </tr>\n",
       "  </thead>\n",
       "  <tbody>\n",
       "    <tr>\n",
       "      <th>0</th>\n",
       "      <td>Cambridge</td>\n",
       "      <td>7312</td>\n",
       "      <td>United States</td>\n",
       "      <td>grid.38142.3c</td>\n",
       "      <td>42.377052</td>\n",
       "      <td>[http://www.harvard.edu/]</td>\n",
       "      <td>-71.116650</td>\n",
       "      <td>Harvard University</td>\n",
       "      <td>Massachusetts</td>\n",
       "      <td>[Education]</td>\n",
       "      <td>NaN</td>\n",
       "    </tr>\n",
       "    <tr>\n",
       "      <th>1</th>\n",
       "      <td>Oxford</td>\n",
       "      <td>4346</td>\n",
       "      <td>United Kingdom</td>\n",
       "      <td>grid.4991.5</td>\n",
       "      <td>51.753437</td>\n",
       "      <td>[http://www.ox.ac.uk/]</td>\n",
       "      <td>-1.254010</td>\n",
       "      <td>University of Oxford</td>\n",
       "      <td>Oxfordshire</td>\n",
       "      <td>[Education]</td>\n",
       "      <td>NaN</td>\n",
       "    </tr>\n",
       "    <tr>\n",
       "      <th>2</th>\n",
       "      <td>Baltimore</td>\n",
       "      <td>4058</td>\n",
       "      <td>United States</td>\n",
       "      <td>grid.21107.35</td>\n",
       "      <td>39.328888</td>\n",
       "      <td>[https://www.jhu.edu/]</td>\n",
       "      <td>-76.620280</td>\n",
       "      <td>Johns Hopkins University</td>\n",
       "      <td>Maryland</td>\n",
       "      <td>[Education]</td>\n",
       "      <td>JHU</td>\n",
       "    </tr>\n",
       "    <tr>\n",
       "      <th>3</th>\n",
       "      <td>Toronto</td>\n",
       "      <td>3862</td>\n",
       "      <td>Canada</td>\n",
       "      <td>grid.17063.33</td>\n",
       "      <td>43.661667</td>\n",
       "      <td>[http://www.utoronto.ca/]</td>\n",
       "      <td>-79.395000</td>\n",
       "      <td>University of Toronto</td>\n",
       "      <td>Ontario</td>\n",
       "      <td>[Education]</td>\n",
       "      <td>NaN</td>\n",
       "    </tr>\n",
       "    <tr>\n",
       "      <th>4</th>\n",
       "      <td>London</td>\n",
       "      <td>3468</td>\n",
       "      <td>United Kingdom</td>\n",
       "      <td>grid.83440.3b</td>\n",
       "      <td>51.524470</td>\n",
       "      <td>[http://www.ucl.ac.uk/]</td>\n",
       "      <td>-0.133982</td>\n",
       "      <td>University College London</td>\n",
       "      <td>NaN</td>\n",
       "      <td>[Education]</td>\n",
       "      <td>UCL</td>\n",
       "    </tr>\n",
       "  </tbody>\n",
       "</table>\n",
       "</div>"
      ],
      "text/plain": [
       "   city_name  count    country_name             id   latitude  \\\n",
       "0  Cambridge   7312   United States  grid.38142.3c  42.377052   \n",
       "1     Oxford   4346  United Kingdom    grid.4991.5  51.753437   \n",
       "2  Baltimore   4058   United States  grid.21107.35  39.328888   \n",
       "3    Toronto   3862          Canada  grid.17063.33  43.661667   \n",
       "4     London   3468  United Kingdom  grid.83440.3b  51.524470   \n",
       "\n",
       "                     linkout  longitude                       name  \\\n",
       "0  [http://www.harvard.edu/] -71.116650         Harvard University   \n",
       "1     [http://www.ox.ac.uk/]  -1.254010       University of Oxford   \n",
       "2     [https://www.jhu.edu/] -76.620280   Johns Hopkins University   \n",
       "3  [http://www.utoronto.ca/] -79.395000      University of Toronto   \n",
       "4    [http://www.ucl.ac.uk/]  -0.133982  University College London   \n",
       "\n",
       "      state_name        types acronym  \n",
       "0  Massachusetts  [Education]     NaN  \n",
       "1    Oxfordshire  [Education]     NaN  \n",
       "2       Maryland  [Education]     JHU  \n",
       "3        Ontario  [Education]     NaN  \n",
       "4            NaN  [Education]     UCL  "
      ]
     },
     "execution_count": 50,
     "metadata": {},
     "output_type": "execute_result"
    }
   ],
   "source": [
    "%%dsldf \n",
    "search publications \n",
    "    for \"coronavirus\" \n",
    "return research_orgs limit 5"
   ]
  },
  {
   "cell_type": "code",
   "execution_count": 51,
   "metadata": {
    "Collapsed": "false"
   },
   "outputs": [
    {
     "name": "stdout",
     "output_type": "stream",
     "text": [
      "Returned Category_for: 5\n",
      "Returned Research_org_countries: 5\n",
      "Returned Year: 5\n",
      "\u001b[2mTime: 2.78s\u001b[0m\n",
      "[Warning] Dataframe created from first available key, but more than one JSON key found: ['category_for', 'research_org_countries', 'year']\n"
     ]
    },
    {
     "data": {
      "text/html": [
       "<div>\n",
       "<style scoped>\n",
       "    .dataframe tbody tr th:only-of-type {\n",
       "        vertical-align: middle;\n",
       "    }\n",
       "\n",
       "    .dataframe tbody tr th {\n",
       "        vertical-align: top;\n",
       "    }\n",
       "\n",
       "    .dataframe thead th {\n",
       "        text-align: right;\n",
       "    }\n",
       "</style>\n",
       "<table border=\"1\" class=\"dataframe\">\n",
       "  <thead>\n",
       "    <tr style=\"text-align: right;\">\n",
       "      <th></th>\n",
       "      <th>count</th>\n",
       "      <th>id</th>\n",
       "      <th>name</th>\n",
       "    </tr>\n",
       "  </thead>\n",
       "  <tbody>\n",
       "    <tr>\n",
       "      <th>0</th>\n",
       "      <td>289310</td>\n",
       "      <td>2211</td>\n",
       "      <td>11 Medical and Health Sciences</td>\n",
       "    </tr>\n",
       "    <tr>\n",
       "      <th>1</th>\n",
       "      <td>115774</td>\n",
       "      <td>3177</td>\n",
       "      <td>1117 Public Health and Health Services</td>\n",
       "    </tr>\n",
       "    <tr>\n",
       "      <th>2</th>\n",
       "      <td>87900</td>\n",
       "      <td>3053</td>\n",
       "      <td>1103 Clinical Sciences</td>\n",
       "    </tr>\n",
       "    <tr>\n",
       "      <th>3</th>\n",
       "      <td>46205</td>\n",
       "      <td>2206</td>\n",
       "      <td>06 Biological Sciences</td>\n",
       "    </tr>\n",
       "    <tr>\n",
       "      <th>4</th>\n",
       "      <td>39805</td>\n",
       "      <td>3114</td>\n",
       "      <td>1108 Medical Microbiology</td>\n",
       "    </tr>\n",
       "  </tbody>\n",
       "</table>\n",
       "</div>"
      ],
      "text/plain": [
       "    count    id                                    name\n",
       "0  289310  2211          11 Medical and Health Sciences\n",
       "1  115774  3177  1117 Public Health and Health Services\n",
       "2   87900  3053                  1103 Clinical Sciences\n",
       "3   46205  2206                  06 Biological Sciences\n",
       "4   39805  3114               1108 Medical Microbiology"
      ]
     },
     "execution_count": 51,
     "metadata": {},
     "output_type": "execute_result"
    }
   ],
   "source": [
    "%%dsldf \n",
    "search publications \n",
    "    for \"coronavirus\" \n",
    "return research_org_countries limit 5\n",
    "return year limit 5\n",
    "return category_for limit 5"
   ]
  },
  {
   "cell_type": "markdown",
   "metadata": {
    "Collapsed": "false"
   },
   "source": [
    "For control over the organization and headers of the JSON query results,\n",
    "the `return` keyword in a return phrase may be followed by the keyword\n",
    "`in` and then a `group` name for this group of results, where the group\n",
    "name is enclosed in double quotes(`\"`).\n",
    "\n",
    "Also, one can define `aliases` that replace the defaul JSON fields names with other ones provided by the user. \n",
    "\n",
    "See the [official documentation](https://docs.dimensions.ai/dsl/language.html#aliases) for more details about this feature. "
   ]
  },
  {
   "cell_type": "code",
   "execution_count": 52,
   "metadata": {
    "Collapsed": "false"
   },
   "outputs": [
    {
     "name": "stdout",
     "output_type": "stream",
     "text": [
      "Returned Facets: 2\n",
      "\u001b[2mTime: 5.03s\u001b[0m\n"
     ]
    },
    {
     "data": {
      "application/json": {
       "_copyright": "© 2022 Digital Science & Research Solutions Inc. All rights reserved. Please refer to our Copyright Notice https://terms.dsrsi.com/public/DimensionsCopyrightNotice for further information.",
       "_stats": {
        "total_count": 124736479
       },
       "_version": {
        "release": "2.0",
        "version": "2.0.0"
       },
       "facets": {
        "funders": [
         {
          "acronym": "NSFC",
          "city_name": "Beijing",
          "count": 2616091,
          "country_name": "China",
          "id": "grid.419696.5",
          "latitude": 40.005177,
          "linkout": [
           "http://www.nsfc.gov.cn/publish/portal1/"
          ],
          "longitude": 116.33983,
          "name": "National Natural Science Foundation of China",
          "types": [
           "Government"
          ]
         },
         {
          "acronym": "EC",
          "city_name": "Brussels",
          "count": 892845,
          "country_name": "Belgium",
          "id": "grid.270680.b",
          "latitude": 50.85165,
          "linkout": [
           "http://ec.europa.eu/index_en.htm"
          ],
          "longitude": 4.36367,
          "name": "European Commission",
          "types": [
           "Government"
          ]
         },
         {
          "acronym": "MOST",
          "city_name": "Beijing",
          "count": 805786,
          "country_name": "China",
          "id": "grid.424020.0",
          "latitude": 39.827835,
          "linkout": [
           "http://www.most.gov.cn/eng/"
          ],
          "longitude": 116.316284,
          "name": "Ministry of Science and Technology of the People's Republic of China",
          "types": [
           "Government"
          ]
         },
         {
          "acronym": "JSPS",
          "city_name": "Tokyo",
          "count": 712381,
          "country_name": "Japan",
          "id": "grid.54432.34",
          "latitude": 35.68716,
          "linkout": [
           "http://www.jsps.go.jp/"
          ],
          "longitude": 139.74039,
          "name": "Japan Society for the Promotion of Science",
          "types": [
           "Nonprofit"
          ]
         },
         {
          "acronym": "NCI",
          "city_name": "Bethesda",
          "count": 622804,
          "country_name": "United States",
          "id": "grid.48336.3a",
          "latitude": 39.004326,
          "linkout": [
           "http://www.cancer.gov/"
          ],
          "longitude": -77.10119,
          "name": "National Cancer Institute",
          "state_name": "Maryland",
          "types": [
           "Government"
          ]
         },
         {
          "acronym": "NIGMS",
          "city_name": "Bethesda",
          "count": 503770,
          "country_name": "United States",
          "id": "grid.280785.0",
          "latitude": 38.997833,
          "linkout": [
           "http://www.nigms.nih.gov/Pages/default.aspx"
          ],
          "longitude": -77.09938,
          "name": "National Institute of General Medical Sciences",
          "state_name": "Maryland",
          "types": [
           "Facility"
          ]
         },
         {
          "acronym": "NHLBI",
          "city_name": "Bethesda",
          "count": 446015,
          "country_name": "United States",
          "id": "grid.279885.9",
          "latitude": 39.00428,
          "linkout": [
           "http://www.nhlbi.nih.gov/"
          ],
          "longitude": -77.100945,
          "name": "National Heart Lung and Blood Institute",
          "state_name": "Maryland",
          "types": [
           "Facility"
          ]
         },
         {
          "acronym": "DFG",
          "city_name": "Bonn",
          "count": 437668,
          "country_name": "Germany",
          "id": "grid.424150.6",
          "latitude": 50.69934,
          "linkout": [
           "http://www.dfg.de/en/"
          ],
          "longitude": 7.147797,
          "name": "German Research Foundation",
          "types": [
           "Nonprofit"
          ]
         },
         {
          "acronym": "NIDDK",
          "city_name": "Bethesda",
          "count": 351757,
          "country_name": "United States",
          "id": "grid.419635.c",
          "latitude": 39.003628,
          "linkout": [
           "http://www.niddk.nih.gov/"
          ],
          "longitude": -77.10107,
          "name": "National Institute of Diabetes and Digestive and Kidney Diseases",
          "state_name": "Maryland",
          "types": [
           "Facility"
          ]
         },
         {
          "acronym": "NIAID",
          "city_name": "Bethesda",
          "count": 341686,
          "country_name": "United States",
          "id": "grid.419681.3",
          "latitude": 39.066647,
          "linkout": [
           "http://www.niaid.nih.gov/Pages/default.aspx"
          ],
          "longitude": -77.11183,
          "name": "National Institute of Allergy and Infectious Diseases",
          "state_name": "Maryland",
          "types": [
           "Facility"
          ]
         },
         {
          "acronym": "NSF MPS",
          "city_name": "Arlington",
          "count": 330229,
          "country_name": "United States",
          "id": "grid.457875.c",
          "latitude": 38.880566,
          "linkout": [
           "http://www.nsf.gov/dir/index.jsp?org=MPS"
          ],
          "longitude": -77.11099,
          "name": "Directorate for Mathematical & Physical Sciences",
          "state_name": "Virginia",
          "types": [
           "Government"
          ]
         },
         {
          "acronym": "NCATS",
          "city_name": "Rockville",
          "count": 315371,
          "country_name": "United States",
          "id": "grid.429651.d",
          "latitude": 39.09584,
          "linkout": [
           "https://ncats.nih.gov/"
          ],
          "longitude": -77.197174,
          "name": "National Center for Advancing Translational Sciences",
          "state_name": "Maryland",
          "types": [
           "Government"
          ]
         },
         {
          "acronym": "MOE",
          "city_name": "Beijing",
          "count": 309086,
          "country_name": "China",
          "id": "grid.419897.a",
          "latitude": 39.91388,
          "linkout": [
           "http://www.moe.edu.cn/publicfiles/business/htmlfiles/moe/moe_2792/"
          ],
          "longitude": 116.36881,
          "name": "Ministry of Education of the People's Republic of China",
          "types": [
           "Government"
          ]
         },
         {
          "acronym": "NSERC",
          "city_name": "Ottawa",
          "count": 298783,
          "country_name": "Canada",
          "id": "grid.452912.9",
          "latitude": 45.425594,
          "linkout": [
           "http://www.nserc-crsng.gc.ca/index_eng.asp"
          ],
          "longitude": -75.69256,
          "name": "Natural Sciences and Engineering Research Council",
          "state_name": "Ontario",
          "types": [
           "Government"
          ]
         },
         {
          "acronym": "NRF",
          "city_name": "Daejeon",
          "count": 298308,
          "country_name": "South Korea",
          "id": "grid.436415.1",
          "latitude": 36.38167,
          "linkout": [
           "http://www.nrf.re.kr/nrf_eng_cms/"
          ],
          "longitude": 127.333176,
          "name": "National Research Foundation of Korea",
          "types": [
           "Government"
          ]
         },
         {
          "acronym": "CNPq",
          "city_name": "Brasília",
          "count": 286949,
          "country_name": "Brazil",
          "id": "grid.450640.3",
          "latitude": -15.821201,
          "linkout": [
           "http://www.cnpq.br/"
          ],
          "longitude": -47.947884,
          "name": "National Council for Scientific and Technological Development",
          "types": [
           "Government"
          ]
         },
         {
          "acronym": "NINDS",
          "city_name": "Bethesda",
          "count": 272304,
          "country_name": "United States",
          "id": "grid.416870.c",
          "latitude": 39.003826,
          "linkout": [
           "http://www.ninds.nih.gov/"
          ],
          "longitude": -77.10118,
          "name": "National Institute of Neurological Disorders and Stroke",
          "state_name": "Maryland",
          "types": [
           "Facility"
          ]
         },
         {
          "acronym": "MINECO",
          "city_name": "Madrid",
          "count": 269392,
          "country_name": "Spain",
          "id": "grid.451322.3",
          "latitude": 40.443962,
          "linkout": [
           "http://www.mineco.gob.es/"
          ],
          "longitude": -3.657564,
          "name": "Ministry of Economy, Industry and Competitiveness",
          "types": [
           "Government"
          ]
         },
         {
          "acronym": "DOE",
          "city_name": "Washington D.C.",
          "count": 261650,
          "country_name": "United States",
          "id": "grid.85084.31",
          "latitude": 38.886944,
          "linkout": [
           "http://www.energy.gov/"
          ],
          "longitude": -77.02611,
          "name": "United States Department of Energy",
          "state_name": "District of Columbia",
          "types": [
           "Government"
          ]
         },
         {
          "acronym": "EPSRC",
          "city_name": "Swindon",
          "count": 245833,
          "country_name": "United Kingdom",
          "id": "grid.421091.f",
          "latitude": 51.567093,
          "linkout": [
           "https://www.epsrc.ac.uk/"
          ],
          "longitude": -1.784602,
          "name": "Engineering and Physical Sciences Research Council",
          "state_name": "England",
          "types": [
           "Government"
          ]
         }
        ],
        "research_orgs": [
         {
          "city_name": "Cambridge",
          "count": 543914,
          "country_name": "United States",
          "id": "grid.38142.3c",
          "latitude": 42.377052,
          "linkout": [
           "http://www.harvard.edu/"
          ],
          "longitude": -71.11665,
          "name": "Harvard University",
          "state_name": "Massachusetts",
          "types": [
           "Education"
          ]
         },
         {
          "acronym": "UT",
          "city_name": "Tokyo",
          "count": 480864,
          "country_name": "Japan",
          "id": "grid.26999.3d",
          "latitude": 35.713333,
          "linkout": [
           "http://www.u-tokyo.ac.jp/en/"
          ],
          "longitude": 139.76222,
          "name": "University of Tokyo",
          "types": [
           "Education"
          ]
         },
         {
          "city_name": "Toronto",
          "count": 341097,
          "country_name": "Canada",
          "id": "grid.17063.33",
          "latitude": 43.661667,
          "linkout": [
           "http://www.utoronto.ca/"
          ],
          "longitude": -79.395,
          "name": "University of Toronto",
          "state_name": "Ontario",
          "types": [
           "Education"
          ]
         },
         {
          "acronym": "UM",
          "city_name": "Ann Arbor",
          "count": 319155,
          "country_name": "United States",
          "id": "grid.214458.e",
          "latitude": 42.278305,
          "linkout": [
           "https://www.umich.edu/"
          ],
          "longitude": -83.73822,
          "name": "University of Michigan",
          "state_name": "Michigan",
          "types": [
           "Education"
          ]
         },
         {
          "city_name": "Kyoto",
          "count": 308927,
          "country_name": "Japan",
          "id": "grid.258799.8",
          "latitude": 35.026157,
          "linkout": [
           "http://www.kyoto-u.ac.jp/en"
          ],
          "longitude": 135.77979,
          "name": "Kyoto University",
          "types": [
           "Education"
          ]
         },
         {
          "acronym": "SU",
          "city_name": "Stanford",
          "count": 300431,
          "country_name": "United States",
          "id": "grid.168010.e",
          "latitude": 37.43,
          "linkout": [
           "http://www.stanford.edu/"
          ],
          "longitude": -122.17,
          "name": "Stanford University",
          "state_name": "California",
          "types": [
           "Education"
          ]
         },
         {
          "acronym": "UW",
          "city_name": "Seattle",
          "count": 296070,
          "country_name": "United States",
          "id": "grid.34477.33",
          "latitude": 47.655537,
          "linkout": [
           "http://www.washington.edu/"
          ],
          "longitude": -122.30353,
          "name": "University of Washington",
          "state_name": "Washington",
          "types": [
           "Education"
          ]
         },
         {
          "acronym": "UCLA",
          "city_name": "Los Angeles",
          "count": 295746,
          "country_name": "United States",
          "id": "grid.19006.3e",
          "latitude": 34.072224,
          "linkout": [
           "http://www.ucla.edu/"
          ],
          "longitude": -118.4441,
          "name": "University of California, Los Angeles",
          "state_name": "California",
          "types": [
           "Education"
          ]
         },
         {
          "city_name": "Oxford",
          "count": 287818,
          "country_name": "United Kingdom",
          "id": "grid.4991.5",
          "latitude": 51.753437,
          "linkout": [
           "http://www.ox.ac.uk/"
          ],
          "longitude": -1.2540097,
          "name": "University of Oxford",
          "state_name": "Oxfordshire",
          "types": [
           "Education"
          ]
         },
         {
          "acronym": "JHU",
          "city_name": "Baltimore",
          "count": 283638,
          "country_name": "United States",
          "id": "grid.21107.35",
          "latitude": 39.328888,
          "linkout": [
           "https://www.jhu.edu/"
          ],
          "longitude": -76.62028,
          "name": "Johns Hopkins University",
          "state_name": "Maryland",
          "types": [
           "Education"
          ]
         },
         {
          "city_name": "Cambridge",
          "count": 281000,
          "country_name": "United Kingdom",
          "id": "grid.5335.0",
          "latitude": 52.204453,
          "linkout": [
           "http://www.cam.ac.uk/"
          ],
          "longitude": 0.114908,
          "name": "University of Cambridge",
          "types": [
           "Education"
          ]
         },
         {
          "acronym": "USP",
          "city_name": "São Paulo",
          "count": 278990,
          "country_name": "Brazil",
          "id": "grid.11899.38",
          "latitude": -23.563051,
          "linkout": [
           "http://www5.usp.br/en/"
          ],
          "longitude": -46.730103,
          "name": "University of São Paulo",
          "types": [
           "Education"
          ]
         },
         {
          "city_name": "Philadelphia",
          "count": 269791,
          "country_name": "United States",
          "id": "grid.25879.31",
          "latitude": 39.952457,
          "linkout": [
           "http://www.upenn.edu/"
          ],
          "longitude": -75.19322,
          "name": "University of Pennsylvania",
          "state_name": "Pennsylvania",
          "types": [
           "Education"
          ]
         },
         {
          "acronym": "UCL",
          "city_name": "London",
          "count": 264841,
          "country_name": "United Kingdom",
          "id": "grid.83440.3b",
          "latitude": 51.52447,
          "linkout": [
           "http://www.ucl.ac.uk/"
          ],
          "longitude": -0.1339817,
          "name": "University College London",
          "types": [
           "Education"
          ]
         },
         {
          "city_name": "Osaka",
          "count": 264032,
          "country_name": "Japan",
          "id": "grid.136593.b",
          "latitude": 34.82229,
          "linkout": [
           "http://www.osaka-u.ac.jp/en"
          ],
          "longitude": 135.52444,
          "name": "Osaka University",
          "types": [
           "Education"
          ]
         },
         {
          "city_name": "Sendai",
          "count": 249301,
          "country_name": "Japan",
          "id": "grid.69566.3a",
          "latitude": 38.254166,
          "linkout": [
           "http://www.tohoku.ac.jp/en/"
          ],
          "longitude": 140.87361,
          "name": "Tohoku University",
          "types": [
           "Education"
          ]
         },
         {
          "acronym": "CU",
          "city_name": "Ithaca",
          "count": 243500,
          "country_name": "United States",
          "id": "grid.5386.8",
          "latitude": 42.44851,
          "linkout": [
           "http://www.cornell.edu/"
          ],
          "longitude": -76.47862,
          "name": "Cornell University",
          "state_name": "New York",
          "types": [
           "Education"
          ]
         },
         {
          "acronym": "UCB",
          "city_name": "Berkeley",
          "count": 241420,
          "country_name": "United States",
          "id": "grid.47840.3f",
          "latitude": 37.87216,
          "linkout": [
           "http://www.berkeley.edu/"
          ],
          "longitude": -122.258575,
          "name": "University of California, Berkeley",
          "state_name": "California",
          "types": [
           "Education"
          ]
         },
         {
          "city_name": "Minneapolis",
          "count": 238227,
          "country_name": "United States",
          "id": "grid.17635.36",
          "latitude": 44.974194,
          "linkout": [
           "http://twin-cities.umn.edu/"
          ],
          "longitude": -93.22776,
          "name": "University of Minnesota",
          "state_name": "Minnesota",
          "types": [
           "Education"
          ]
         },
         {
          "acronym": "CU",
          "city_name": "New York",
          "count": 234688,
          "country_name": "United States",
          "id": "grid.21729.3f",
          "latitude": 40.8076,
          "linkout": [
           "http://www.columbia.edu/"
          ],
          "longitude": -73.96239,
          "name": "Columbia University",
          "state_name": "New York",
          "types": [
           "Education"
          ]
         }
        ]
       }
      },
      "text/plain": [
       "<dimcli.DslDataset object #4958339712. Records: 2/124736479>"
      ]
     },
     "execution_count": 52,
     "metadata": {
      "application/json": {
       "expanded": false,
       "root": "root"
      }
     },
     "output_type": "execute_result"
    }
   ],
   "source": [
    "%%dsl\n",
    "search publications \n",
    "return in \"facets\" funders \n",
    "return in \"facets\" research_orgs"
   ]
  },
  {
   "cell_type": "markdown",
   "metadata": {
    "Collapsed": "false",
    "colab_type": "text",
    "id": "hQSTK25yG8Vz"
   },
   "source": [
    "### 5.4 What the query statistics refer to - sources VS facets\n",
    "\n",
    "When performing a DSL search, a `_stats` object is return which contains some useful info eg the total number of records available for a search. "
   ]
  },
  {
   "cell_type": "code",
   "execution_count": 53,
   "metadata": {
    "Collapsed": "false",
    "colab": {
     "base_uri": "https://localhost:8080/",
     "height": 34
    },
    "colab_type": "code",
    "executionInfo": {
     "elapsed": 956,
     "status": "ok",
     "timestamp": 1574678516635,
     "user": {
      "displayName": "Michele Pasin",
      "photoUrl": "https://lh3.googleusercontent.com/a-/AAuE7mBu8LVjIGgontF2Wax51BoL5KFx8esezX3bUmaa0g=s64",
      "userId": "10309320684375994511"
     },
     "user_tz": 0
    },
    "id": "yn-gpdVQG8Vz",
    "outputId": "695b23b2-f439-412d-9741-24cd3515f5d3"
   },
   "outputs": [
    {
     "name": "stdout",
     "output_type": "stream",
     "text": [
      "Returned Publications: 5 (total = 5807)\n",
      "\u001b[2mTime: 3.19s\u001b[0m\n"
     ]
    },
    {
     "data": {
      "text/html": [
       "<div>\n",
       "<style scoped>\n",
       "    .dataframe tbody tr th:only-of-type {\n",
       "        vertical-align: middle;\n",
       "    }\n",
       "\n",
       "    .dataframe tbody tr th {\n",
       "        vertical-align: top;\n",
       "    }\n",
       "\n",
       "    .dataframe thead th {\n",
       "        text-align: right;\n",
       "    }\n",
       "</style>\n",
       "<table border=\"1\" class=\"dataframe\">\n",
       "  <thead>\n",
       "    <tr style=\"text-align: right;\">\n",
       "      <th></th>\n",
       "      <th>authors</th>\n",
       "      <th>id</th>\n",
       "      <th>pages</th>\n",
       "      <th>title</th>\n",
       "      <th>type</th>\n",
       "      <th>year</th>\n",
       "      <th>volume</th>\n",
       "      <th>issue</th>\n",
       "      <th>journal.id</th>\n",
       "      <th>journal.title</th>\n",
       "    </tr>\n",
       "  </thead>\n",
       "  <tbody>\n",
       "    <tr>\n",
       "      <th>0</th>\n",
       "      <td>[{'affiliations': [{'city': 'Kitakyushu', 'cit...</td>\n",
       "      <td>pub.1113308928</td>\n",
       "      <td>123-127</td>\n",
       "      <td>A Hybrid DCT-CLAHE Approach for Brightness Enh...</td>\n",
       "      <td>proceeding</td>\n",
       "      <td>2018</td>\n",
       "      <td>NaN</td>\n",
       "      <td>NaN</td>\n",
       "      <td>NaN</td>\n",
       "      <td>NaN</td>\n",
       "    </tr>\n",
       "    <tr>\n",
       "      <th>1</th>\n",
       "      <td>[{'affiliations': [{'city': 'Khulna', 'city_id...</td>\n",
       "      <td>pub.1112614472</td>\n",
       "      <td>1-5</td>\n",
       "      <td>Saliency Detection using Boundary Aware Region...</td>\n",
       "      <td>proceeding</td>\n",
       "      <td>2018</td>\n",
       "      <td>00</td>\n",
       "      <td>NaN</td>\n",
       "      <td>NaN</td>\n",
       "      <td>NaN</td>\n",
       "    </tr>\n",
       "    <tr>\n",
       "      <th>2</th>\n",
       "      <td>[{'affiliations': [{'city': 'Kitakyushu', 'cit...</td>\n",
       "      <td>pub.1110958161</td>\n",
       "      <td>39</td>\n",
       "      <td>Optimized coordinated control of LFC and SMES ...</td>\n",
       "      <td>article</td>\n",
       "      <td>2018</td>\n",
       "      <td>3</td>\n",
       "      <td>1</td>\n",
       "      <td>jour.1157179</td>\n",
       "      <td>Protection and Control of Modern Power Systems</td>\n",
       "    </tr>\n",
       "    <tr>\n",
       "      <th>3</th>\n",
       "      <td>[{'affiliations': [{'city': 'El Paso', 'city_i...</td>\n",
       "      <td>pub.1110932965</td>\n",
       "      <td>1445-1452</td>\n",
       "      <td>Electrostatic Discharge Threshold on Coverglas...</td>\n",
       "      <td>article</td>\n",
       "      <td>2018</td>\n",
       "      <td>47</td>\n",
       "      <td>2</td>\n",
       "      <td>jour.1031080</td>\n",
       "      <td>IEEE Transactions on Plasma Science</td>\n",
       "    </tr>\n",
       "    <tr>\n",
       "      <th>4</th>\n",
       "      <td>[{'affiliations': [{'city': 'Kitakyushu', 'cit...</td>\n",
       "      <td>pub.1110012351</td>\n",
       "      <td>518-526</td>\n",
       "      <td>The Role of Lanthanum in a Nickel Oxide‐Based ...</td>\n",
       "      <td>article</td>\n",
       "      <td>2018</td>\n",
       "      <td>12</td>\n",
       "      <td>2</td>\n",
       "      <td>jour.1297486</td>\n",
       "      <td>ChemSusChem</td>\n",
       "    </tr>\n",
       "  </tbody>\n",
       "</table>\n",
       "</div>"
      ],
      "text/plain": [
       "                                             authors              id  \\\n",
       "0  [{'affiliations': [{'city': 'Kitakyushu', 'cit...  pub.1113308928   \n",
       "1  [{'affiliations': [{'city': 'Khulna', 'city_id...  pub.1112614472   \n",
       "2  [{'affiliations': [{'city': 'Kitakyushu', 'cit...  pub.1110958161   \n",
       "3  [{'affiliations': [{'city': 'El Paso', 'city_i...  pub.1110932965   \n",
       "4  [{'affiliations': [{'city': 'Kitakyushu', 'cit...  pub.1110012351   \n",
       "\n",
       "       pages                                              title        type  \\\n",
       "0    123-127  A Hybrid DCT-CLAHE Approach for Brightness Enh...  proceeding   \n",
       "1        1-5  Saliency Detection using Boundary Aware Region...  proceeding   \n",
       "2         39  Optimized coordinated control of LFC and SMES ...     article   \n",
       "3  1445-1452  Electrostatic Discharge Threshold on Coverglas...     article   \n",
       "4    518-526  The Role of Lanthanum in a Nickel Oxide‐Based ...     article   \n",
       "\n",
       "   year volume issue    journal.id  \\\n",
       "0  2018    NaN   NaN           NaN   \n",
       "1  2018     00   NaN           NaN   \n",
       "2  2018      3     1  jour.1157179   \n",
       "3  2018     47     2  jour.1031080   \n",
       "4  2018     12     2  jour.1297486   \n",
       "\n",
       "                                    journal.title  \n",
       "0                                             NaN  \n",
       "1                                             NaN  \n",
       "2  Protection and Control of Modern Power Systems  \n",
       "3             IEEE Transactions on Plasma Science  \n",
       "4                                     ChemSusChem  "
      ]
     },
     "execution_count": 53,
     "metadata": {},
     "output_type": "execute_result"
    }
   ],
   "source": [
    "%%dsldf \n",
    "search publications\n",
    "  where year in [2013:2018] and research_orgs=\"grid.258806.1\"\n",
    "return publications limit 5"
   ]
  },
  {
   "cell_type": "markdown",
   "metadata": {
    "Collapsed": "false",
    "colab_type": "text",
    "id": "lBP-VzxJItji"
   },
   "source": [
    "\n",
    "\n",
    "It is important to note though that the **total number always refers to the main source, never the facets** one is searching for. \n",
    "\n",
    "For example, in this query we return `researchers` linked to publications: "
   ]
  },
  {
   "cell_type": "code",
   "execution_count": 54,
   "metadata": {
    "Collapsed": "false",
    "colab": {
     "base_uri": "https://localhost:8080/",
     "height": 34
    },
    "colab_type": "code",
    "executionInfo": {
     "elapsed": 1011,
     "status": "ok",
     "timestamp": 1574678518954,
     "user": {
      "displayName": "Michele Pasin",
      "photoUrl": "https://lh3.googleusercontent.com/a-/AAuE7mBu8LVjIGgontF2Wax51BoL5KFx8esezX3bUmaa0g=s64",
      "userId": "10309320684375994511"
     },
     "user_tz": 0
    },
    "id": "UDa-lDPVG8V1",
    "outputId": "0c9717e4-2172-4c0a-ebb7-a12d3c38f3e1"
   },
   "outputs": [
    {
     "name": "stdout",
     "output_type": "stream",
     "text": [
      "Returned Researchers: 5\n",
      "\u001b[2mTime: 4.10s\u001b[0m\n"
     ]
    },
    {
     "data": {
      "text/html": [
       "<div>\n",
       "<style scoped>\n",
       "    .dataframe tbody tr th:only-of-type {\n",
       "        vertical-align: middle;\n",
       "    }\n",
       "\n",
       "    .dataframe tbody tr th {\n",
       "        vertical-align: top;\n",
       "    }\n",
       "\n",
       "    .dataframe thead th {\n",
       "        text-align: right;\n",
       "    }\n",
       "</style>\n",
       "<table border=\"1\" class=\"dataframe\">\n",
       "  <thead>\n",
       "    <tr style=\"text-align: right;\">\n",
       "      <th></th>\n",
       "      <th>count</th>\n",
       "      <th>first_name</th>\n",
       "      <th>id</th>\n",
       "      <th>last_name</th>\n",
       "      <th>orcid_id</th>\n",
       "      <th>research_orgs</th>\n",
       "    </tr>\n",
       "  </thead>\n",
       "  <tbody>\n",
       "    <tr>\n",
       "      <th>0</th>\n",
       "      <td>152</td>\n",
       "      <td>Shuzi</td>\n",
       "      <td>ur.01055753603.27</td>\n",
       "      <td>Hayase</td>\n",
       "      <td>[0000-0002-0756-4808]</td>\n",
       "      <td>[grid.266298.1, grid.258806.1, grid.136593.b, ...</td>\n",
       "    </tr>\n",
       "    <tr>\n",
       "      <th>1</th>\n",
       "      <td>108</td>\n",
       "      <td>Ting-Li</td>\n",
       "      <td>ur.01144540527.52</td>\n",
       "      <td>Ma</td>\n",
       "      <td>[0000-0002-3310-459X]</td>\n",
       "      <td>[grid.11135.37, grid.258806.1, grid.411485.d, ...</td>\n",
       "    </tr>\n",
       "    <tr>\n",
       "      <th>2</th>\n",
       "      <td>107</td>\n",
       "      <td>Masayuki</td>\n",
       "      <td>ur.011212042763.67</td>\n",
       "      <td>Hikita</td>\n",
       "      <td>NaN</td>\n",
       "      <td>[grid.27476.30, grid.462727.2, grid.258806.1]</td>\n",
       "    </tr>\n",
       "    <tr>\n",
       "      <th>3</th>\n",
       "      <td>101</td>\n",
       "      <td>Huimin</td>\n",
       "      <td>ur.016357156077.09</td>\n",
       "      <td>Lu</td>\n",
       "      <td>[0000-0001-9794-3221]</td>\n",
       "      <td>[grid.9227.e, grid.16821.3c, grid.1024.7, grid...</td>\n",
       "    </tr>\n",
       "    <tr>\n",
       "      <th>4</th>\n",
       "      <td>100</td>\n",
       "      <td>M Kozako M</td>\n",
       "      <td>ur.07644453127.11</td>\n",
       "      <td>Kozako</td>\n",
       "      <td>NaN</td>\n",
       "      <td>[grid.462727.2, grid.482504.f, grid.4444.0, gr...</td>\n",
       "    </tr>\n",
       "  </tbody>\n",
       "</table>\n",
       "</div>"
      ],
      "text/plain": [
       "   count  first_name                  id last_name               orcid_id  \\\n",
       "0    152       Shuzi   ur.01055753603.27    Hayase  [0000-0002-0756-4808]   \n",
       "1    108     Ting-Li   ur.01144540527.52        Ma  [0000-0002-3310-459X]   \n",
       "2    107    Masayuki  ur.011212042763.67    Hikita                    NaN   \n",
       "3    101      Huimin  ur.016357156077.09        Lu  [0000-0001-9794-3221]   \n",
       "4    100  M Kozako M   ur.07644453127.11    Kozako                    NaN   \n",
       "\n",
       "                                       research_orgs  \n",
       "0  [grid.266298.1, grid.258806.1, grid.136593.b, ...  \n",
       "1  [grid.11135.37, grid.258806.1, grid.411485.d, ...  \n",
       "2      [grid.27476.30, grid.462727.2, grid.258806.1]  \n",
       "3  [grid.9227.e, grid.16821.3c, grid.1024.7, grid...  \n",
       "4  [grid.462727.2, grid.482504.f, grid.4444.0, gr...  "
      ]
     },
     "execution_count": 54,
     "metadata": {},
     "output_type": "execute_result"
    }
   ],
   "source": [
    "%%dsldf \n",
    "search publications\n",
    "  where year in [2013:2018] and research_orgs=\"grid.258806.1\"\n",
    "return researchers limit 5"
   ]
  },
  {
   "cell_type": "markdown",
   "metadata": {
    "Collapsed": "false",
    "colab_type": "text",
    "id": "Ihecf2FPTCoM"
   },
   "source": [
    "NOTE: facet results can be 1000 at most (due to performance limitations) so if there are more than 1000 it is not possible to know the total number. "
   ]
  },
  {
   "cell_type": "markdown",
   "metadata": {
    "Collapsed": "false"
   },
   "source": [
    "### 5.5 Paginating Results\n",
    "\n",
    "At the end of a `return` phrase, the user can specify the maximum number\n",
    "of results to be returned and the number of top records to skip over\n",
    "before returning the first result record, for e.g. returning large\n",
    "result sets page-by-page (i.e. \"paging\" results) as described below.\n",
    "\n",
    "This is done using the keyword `limit` followed by the maximum number of\n",
    "results to return, optionally followed by the keyword `skip` and the\n",
    "number of results to skip (the offset)."
   ]
  },
  {
   "cell_type": "code",
   "execution_count": 55,
   "metadata": {
    "Collapsed": "false"
   },
   "outputs": [
    {
     "name": "stdout",
     "output_type": "stream",
     "text": [
      "Returned Publications: 10 (total = 124736479)\n",
      "\u001b[2mTime: 2.08s\u001b[0m\n"
     ]
    },
    {
     "data": {
      "text/html": [
       "<div>\n",
       "<style scoped>\n",
       "    .dataframe tbody tr th:only-of-type {\n",
       "        vertical-align: middle;\n",
       "    }\n",
       "\n",
       "    .dataframe tbody tr th {\n",
       "        vertical-align: top;\n",
       "    }\n",
       "\n",
       "    .dataframe thead th {\n",
       "        text-align: right;\n",
       "    }\n",
       "</style>\n",
       "<table border=\"1\" class=\"dataframe\">\n",
       "  <thead>\n",
       "    <tr style=\"text-align: right;\">\n",
       "      <th></th>\n",
       "      <th>authors</th>\n",
       "      <th>id</th>\n",
       "      <th>issue</th>\n",
       "      <th>pages</th>\n",
       "      <th>title</th>\n",
       "      <th>type</th>\n",
       "      <th>volume</th>\n",
       "      <th>year</th>\n",
       "      <th>journal.id</th>\n",
       "      <th>journal.title</th>\n",
       "    </tr>\n",
       "  </thead>\n",
       "  <tbody>\n",
       "    <tr>\n",
       "      <th>0</th>\n",
       "      <td>[{'affiliations': [], 'corresponding': '', 'cu...</td>\n",
       "      <td>pub.1144593888</td>\n",
       "      <td>3</td>\n",
       "      <td>284-292</td>\n",
       "      <td>Profile of ectoparasites and biometric conditi...</td>\n",
       "      <td>article</td>\n",
       "      <td>10</td>\n",
       "      <td>2022</td>\n",
       "      <td>jour.1150855</td>\n",
       "      <td>Depik Jurnal</td>\n",
       "    </tr>\n",
       "    <tr>\n",
       "      <th>1</th>\n",
       "      <td>[{'affiliations': [{'city': 'Shanghai', 'city_...</td>\n",
       "      <td>pub.1144587500</td>\n",
       "      <td>NaN</td>\n",
       "      <td>1-16</td>\n",
       "      <td>Experimental study of stratified lean burn cha...</td>\n",
       "      <td>article</td>\n",
       "      <td>NaN</td>\n",
       "      <td>2022</td>\n",
       "      <td>jour.1136510</td>\n",
       "      <td>Frontiers in Energy</td>\n",
       "    </tr>\n",
       "    <tr>\n",
       "      <th>2</th>\n",
       "      <td>[{'affiliations': [{'city': 'Hangzhou', 'city_...</td>\n",
       "      <td>pub.1141731113</td>\n",
       "      <td>9</td>\n",
       "      <td>1-40</td>\n",
       "      <td>Opportunities and Challenges in Code Search Tools</td>\n",
       "      <td>article</td>\n",
       "      <td>54</td>\n",
       "      <td>2022</td>\n",
       "      <td>jour.1119907</td>\n",
       "      <td>ACM Computing Surveys</td>\n",
       "    </tr>\n",
       "    <tr>\n",
       "      <th>3</th>\n",
       "      <td>[{'affiliations': [{'city': 'Melbourne', 'city...</td>\n",
       "      <td>pub.1141731112</td>\n",
       "      <td>9</td>\n",
       "      <td>1-36</td>\n",
       "      <td>Ransomware Mitigation in the Modern Era: A Com...</td>\n",
       "      <td>article</td>\n",
       "      <td>54</td>\n",
       "      <td>2022</td>\n",
       "      <td>jour.1119907</td>\n",
       "      <td>ACM Computing Surveys</td>\n",
       "    </tr>\n",
       "    <tr>\n",
       "      <th>4</th>\n",
       "      <td>[{'affiliations': [{'city': 'Sydney', 'city_id...</td>\n",
       "      <td>pub.1141731111</td>\n",
       "      <td>9</td>\n",
       "      <td>1-38</td>\n",
       "      <td>Service Computing for Industry 4.0: State of t...</td>\n",
       "      <td>article</td>\n",
       "      <td>54</td>\n",
       "      <td>2022</td>\n",
       "      <td>jour.1119907</td>\n",
       "      <td>ACM Computing Surveys</td>\n",
       "    </tr>\n",
       "    <tr>\n",
       "      <th>5</th>\n",
       "      <td>[{'affiliations': [{'city': 'Berlin', 'city_id...</td>\n",
       "      <td>pub.1141731110</td>\n",
       "      <td>9</td>\n",
       "      <td>1-38</td>\n",
       "      <td>Handling Iterations in Distributed Dataflow Sy...</td>\n",
       "      <td>article</td>\n",
       "      <td>54</td>\n",
       "      <td>2022</td>\n",
       "      <td>jour.1119907</td>\n",
       "      <td>ACM Computing Surveys</td>\n",
       "    </tr>\n",
       "    <tr>\n",
       "      <th>6</th>\n",
       "      <td>[{'affiliations': [{'city': 'Linz', 'city_id':...</td>\n",
       "      <td>pub.1141731109</td>\n",
       "      <td>9</td>\n",
       "      <td>1-35</td>\n",
       "      <td>Adversary Models for Mobile Device Authentication</td>\n",
       "      <td>article</td>\n",
       "      <td>54</td>\n",
       "      <td>2022</td>\n",
       "      <td>jour.1119907</td>\n",
       "      <td>ACM Computing Surveys</td>\n",
       "    </tr>\n",
       "    <tr>\n",
       "      <th>7</th>\n",
       "      <td>[{'affiliations': [{'city': 'Amberg', 'city_id...</td>\n",
       "      <td>pub.1141731108</td>\n",
       "      <td>9</td>\n",
       "      <td>1-33</td>\n",
       "      <td>A Survey on Client Throughput Prediction Algor...</td>\n",
       "      <td>article</td>\n",
       "      <td>54</td>\n",
       "      <td>2022</td>\n",
       "      <td>jour.1119907</td>\n",
       "      <td>ACM Computing Surveys</td>\n",
       "    </tr>\n",
       "    <tr>\n",
       "      <th>8</th>\n",
       "      <td>[{'affiliations': [{'city': 'Genoa', 'city_id'...</td>\n",
       "      <td>pub.1141731107</td>\n",
       "      <td>9</td>\n",
       "      <td>1-33</td>\n",
       "      <td>Gotta CAPTCHA ’Em All: A Survey of 20 Years of...</td>\n",
       "      <td>article</td>\n",
       "      <td>54</td>\n",
       "      <td>2022</td>\n",
       "      <td>jour.1119907</td>\n",
       "      <td>ACM Computing Surveys</td>\n",
       "    </tr>\n",
       "    <tr>\n",
       "      <th>9</th>\n",
       "      <td>[{'affiliations': [{'city': 'Barcelona', 'city...</td>\n",
       "      <td>pub.1141731106</td>\n",
       "      <td>9</td>\n",
       "      <td>1-38</td>\n",
       "      <td>Computing Graph Neural Networks: A Survey from...</td>\n",
       "      <td>article</td>\n",
       "      <td>54</td>\n",
       "      <td>2022</td>\n",
       "      <td>jour.1119907</td>\n",
       "      <td>ACM Computing Surveys</td>\n",
       "    </tr>\n",
       "  </tbody>\n",
       "</table>\n",
       "</div>"
      ],
      "text/plain": [
       "                                             authors              id issue  \\\n",
       "0  [{'affiliations': [], 'corresponding': '', 'cu...  pub.1144593888     3   \n",
       "1  [{'affiliations': [{'city': 'Shanghai', 'city_...  pub.1144587500   NaN   \n",
       "2  [{'affiliations': [{'city': 'Hangzhou', 'city_...  pub.1141731113     9   \n",
       "3  [{'affiliations': [{'city': 'Melbourne', 'city...  pub.1141731112     9   \n",
       "4  [{'affiliations': [{'city': 'Sydney', 'city_id...  pub.1141731111     9   \n",
       "5  [{'affiliations': [{'city': 'Berlin', 'city_id...  pub.1141731110     9   \n",
       "6  [{'affiliations': [{'city': 'Linz', 'city_id':...  pub.1141731109     9   \n",
       "7  [{'affiliations': [{'city': 'Amberg', 'city_id...  pub.1141731108     9   \n",
       "8  [{'affiliations': [{'city': 'Genoa', 'city_id'...  pub.1141731107     9   \n",
       "9  [{'affiliations': [{'city': 'Barcelona', 'city...  pub.1141731106     9   \n",
       "\n",
       "     pages                                              title     type volume  \\\n",
       "0  284-292  Profile of ectoparasites and biometric conditi...  article     10   \n",
       "1     1-16  Experimental study of stratified lean burn cha...  article    NaN   \n",
       "2     1-40  Opportunities and Challenges in Code Search Tools  article     54   \n",
       "3     1-36  Ransomware Mitigation in the Modern Era: A Com...  article     54   \n",
       "4     1-38  Service Computing for Industry 4.0: State of t...  article     54   \n",
       "5     1-38  Handling Iterations in Distributed Dataflow Sy...  article     54   \n",
       "6     1-35  Adversary Models for Mobile Device Authentication  article     54   \n",
       "7     1-33  A Survey on Client Throughput Prediction Algor...  article     54   \n",
       "8     1-33  Gotta CAPTCHA ’Em All: A Survey of 20 Years of...  article     54   \n",
       "9     1-38  Computing Graph Neural Networks: A Survey from...  article     54   \n",
       "\n",
       "   year    journal.id          journal.title  \n",
       "0  2022  jour.1150855           Depik Jurnal  \n",
       "1  2022  jour.1136510    Frontiers in Energy  \n",
       "2  2022  jour.1119907  ACM Computing Surveys  \n",
       "3  2022  jour.1119907  ACM Computing Surveys  \n",
       "4  2022  jour.1119907  ACM Computing Surveys  \n",
       "5  2022  jour.1119907  ACM Computing Surveys  \n",
       "6  2022  jour.1119907  ACM Computing Surveys  \n",
       "7  2022  jour.1119907  ACM Computing Surveys  \n",
       "8  2022  jour.1119907  ACM Computing Surveys  \n",
       "9  2022  jour.1119907  ACM Computing Surveys  "
      ]
     },
     "execution_count": 55,
     "metadata": {},
     "output_type": "execute_result"
    }
   ],
   "source": [
    "%%dsldf \n",
    "search publications return publications limit 10"
   ]
  },
  {
   "cell_type": "markdown",
   "metadata": {
    "Collapsed": "false"
   },
   "source": [
    "If paging information is not provided, the default values\n",
    "`limit 20 skip 0` are used, so the two following queries are equivalent:"
   ]
  },
  {
   "cell_type": "markdown",
   "metadata": {
    "Collapsed": "false"
   },
   "source": [
    "Combining `limit` and `skip` across multiple queries enables paging or\n",
    "batching of results; e.g. to retrieve 30 grant records divided into 3\n",
    "pages of 10 records each, the following three queries could be used:\n",
    "\n",
    "```\n",
    "return grants limit 10           => get 1st 10 records for page 1 (skip 0, by default)\n",
    "return grants limit 10 skip 10   => get next 10 for page 2; skip the 10 we already have\n",
    "return grants limit 10 skip 20   => get another 10 for page 3, for a total of 30\n",
    "```"
   ]
  },
  {
   "cell_type": "markdown",
   "metadata": {
    "Collapsed": "false"
   },
   "source": [
    "### 5.6 Sorting Results\n",
    "\n",
    "A sort order for the results in a given `return` phrase can be specified\n",
    "with the keyword `sort by` followed by the name of \n",
    "* a `field` (in the\n",
    "case that a `source` is being requested) \n",
    "* an `indicator (aggregation)` (in the case\n",
    "that one or more facets are being requested). \n",
    "\n",
    " By default, the result set of full text\n",
    "queries ($search ... for \"full text query\"$) is sorted by \"relevance\".\n",
    "Additionally, it is possible to specify the sort order, using `asc` or\n",
    "`desc` keywords. By default, descending order is selected."
   ]
  },
  {
   "cell_type": "code",
   "execution_count": 56,
   "metadata": {
    "Collapsed": "false"
   },
   "outputs": [
    {
     "name": "stdout",
     "output_type": "stream",
     "text": [
      "Returned Grants: 5 (total = 20429)\n",
      "\u001b[2mTime: 0.50s\u001b[0m\n"
     ]
    },
    {
     "data": {
      "text/html": [
       "<div>\n",
       "<style scoped>\n",
       "    .dataframe tbody tr th:only-of-type {\n",
       "        vertical-align: middle;\n",
       "    }\n",
       "\n",
       "    .dataframe tbody tr th {\n",
       "        vertical-align: top;\n",
       "    }\n",
       "\n",
       "    .dataframe thead th {\n",
       "        text-align: right;\n",
       "    }\n",
       "</style>\n",
       "<table border=\"1\" class=\"dataframe\">\n",
       "  <thead>\n",
       "    <tr style=\"text-align: right;\">\n",
       "      <th></th>\n",
       "      <th>active_year</th>\n",
       "      <th>funders</th>\n",
       "      <th>funding_org_name</th>\n",
       "      <th>grant_number</th>\n",
       "      <th>id</th>\n",
       "      <th>language</th>\n",
       "      <th>original_title</th>\n",
       "      <th>start_date</th>\n",
       "      <th>start_year</th>\n",
       "      <th>title</th>\n",
       "      <th>end_date</th>\n",
       "    </tr>\n",
       "  </thead>\n",
       "  <tbody>\n",
       "    <tr>\n",
       "      <th>0</th>\n",
       "      <td>[2015]</td>\n",
       "      <td>[{'acronym': 'DFG', 'city_name': 'Bonn', 'coun...</td>\n",
       "      <td>German Research Foundation</td>\n",
       "      <td>280331443</td>\n",
       "      <td>grant.4841519</td>\n",
       "      <td>en</td>\n",
       "      <td>Transmissionselektronenmikroskop</td>\n",
       "      <td>2015-01-01</td>\n",
       "      <td>2015</td>\n",
       "      <td>Transmissionselektronenmikroskop</td>\n",
       "      <td>NaN</td>\n",
       "    </tr>\n",
       "    <tr>\n",
       "      <th>1</th>\n",
       "      <td>[2012]</td>\n",
       "      <td>[{'acronym': 'DFG', 'city_name': 'Bonn', 'coun...</td>\n",
       "      <td>German Research Foundation</td>\n",
       "      <td>220923099</td>\n",
       "      <td>grant.4823271</td>\n",
       "      <td>de</td>\n",
       "      <td>Transmissionselektronenmikroskop</td>\n",
       "      <td>2012-01-01</td>\n",
       "      <td>2012</td>\n",
       "      <td>Transmissionselektronenmikroskop</td>\n",
       "      <td>NaN</td>\n",
       "    </tr>\n",
       "    <tr>\n",
       "      <th>2</th>\n",
       "      <td>[2011, 2012, 2013, 2014, 2015]</td>\n",
       "      <td>[{'acronym': 'BELSPO', 'city_name': 'Brussels'...</td>\n",
       "      <td>Belgian Federal Science Policy Office</td>\n",
       "      <td>3E120109</td>\n",
       "      <td>grant.6774902</td>\n",
       "      <td>en</td>\n",
       "      <td>Snowcontrol.</td>\n",
       "      <td>2011-06-16</td>\n",
       "      <td>2011</td>\n",
       "      <td>Snowcontrol.</td>\n",
       "      <td>2015-06-13</td>\n",
       "    </tr>\n",
       "    <tr>\n",
       "      <th>3</th>\n",
       "      <td>[2015, 2016]</td>\n",
       "      <td>[{'acronym': 'FNP', 'city_name': 'Warsaw', 'co...</td>\n",
       "      <td>Foundation for Polish Science</td>\n",
       "      <td>START   79.2015</td>\n",
       "      <td>grant.9182996</td>\n",
       "      <td>pl</td>\n",
       "      <td>Stypendium Naukowe START</td>\n",
       "      <td>2015-06-01</td>\n",
       "      <td>2015</td>\n",
       "      <td>START Scholarship</td>\n",
       "      <td>2016-06-01</td>\n",
       "    </tr>\n",
       "    <tr>\n",
       "      <th>4</th>\n",
       "      <td>[2014, 2015]</td>\n",
       "      <td>[{'acronym': 'FNP', 'city_name': 'Warsaw', 'co...</td>\n",
       "      <td>Foundation for Polish Science</td>\n",
       "      <td>START 81.2014</td>\n",
       "      <td>grant.9182975</td>\n",
       "      <td>pl</td>\n",
       "      <td>Stypendium Naukowe START</td>\n",
       "      <td>2014-06-01</td>\n",
       "      <td>2014</td>\n",
       "      <td>START Scholarship</td>\n",
       "      <td>2015-06-01</td>\n",
       "    </tr>\n",
       "  </tbody>\n",
       "</table>\n",
       "</div>"
      ],
      "text/plain": [
       "                      active_year  \\\n",
       "0                          [2015]   \n",
       "1                          [2012]   \n",
       "2  [2011, 2012, 2013, 2014, 2015]   \n",
       "3                    [2015, 2016]   \n",
       "4                    [2014, 2015]   \n",
       "\n",
       "                                             funders  \\\n",
       "0  [{'acronym': 'DFG', 'city_name': 'Bonn', 'coun...   \n",
       "1  [{'acronym': 'DFG', 'city_name': 'Bonn', 'coun...   \n",
       "2  [{'acronym': 'BELSPO', 'city_name': 'Brussels'...   \n",
       "3  [{'acronym': 'FNP', 'city_name': 'Warsaw', 'co...   \n",
       "4  [{'acronym': 'FNP', 'city_name': 'Warsaw', 'co...   \n",
       "\n",
       "                        funding_org_name     grant_number             id  \\\n",
       "0             German Research Foundation        280331443  grant.4841519   \n",
       "1             German Research Foundation        220923099  grant.4823271   \n",
       "2  Belgian Federal Science Policy Office         3E120109  grant.6774902   \n",
       "3          Foundation for Polish Science  START   79.2015  grant.9182996   \n",
       "4          Foundation for Polish Science    START 81.2014  grant.9182975   \n",
       "\n",
       "  language                    original_title  start_date  start_year  \\\n",
       "0       en  Transmissionselektronenmikroskop  2015-01-01        2015   \n",
       "1       de  Transmissionselektronenmikroskop  2012-01-01        2012   \n",
       "2       en                      Snowcontrol.  2011-06-16        2011   \n",
       "3       pl          Stypendium Naukowe START  2015-06-01        2015   \n",
       "4       pl          Stypendium Naukowe START  2014-06-01        2014   \n",
       "\n",
       "                              title    end_date  \n",
       "0  Transmissionselektronenmikroskop         NaN  \n",
       "1  Transmissionselektronenmikroskop         NaN  \n",
       "2                      Snowcontrol.  2015-06-13  \n",
       "3                 START Scholarship  2016-06-01  \n",
       "4                 START Scholarship  2015-06-01  "
      ]
     },
     "execution_count": 56,
     "metadata": {},
     "output_type": "execute_result"
    }
   ],
   "source": [
    "%%dsldf \n",
    "search grants \n",
    "    for \"nanomaterials\"\n",
    "return grants sort by title desc limit 5 "
   ]
  },
  {
   "cell_type": "code",
   "execution_count": 57,
   "metadata": {
    "Collapsed": "false"
   },
   "outputs": [
    {
     "name": "stdout",
     "output_type": "stream",
     "text": [
      "Returned Grants: 5 (total = 20429)\n",
      "\u001b[2mTime: 0.59s\u001b[0m\n"
     ]
    },
    {
     "data": {
      "text/html": [
       "<div>\n",
       "<style scoped>\n",
       "    .dataframe tbody tr th:only-of-type {\n",
       "        vertical-align: middle;\n",
       "    }\n",
       "\n",
       "    .dataframe tbody tr th {\n",
       "        vertical-align: top;\n",
       "    }\n",
       "\n",
       "    .dataframe thead th {\n",
       "        text-align: right;\n",
       "    }\n",
       "</style>\n",
       "<table border=\"1\" class=\"dataframe\">\n",
       "  <thead>\n",
       "    <tr style=\"text-align: right;\">\n",
       "      <th></th>\n",
       "      <th>active_year</th>\n",
       "      <th>funders</th>\n",
       "      <th>funding_org_name</th>\n",
       "      <th>grant_number</th>\n",
       "      <th>id</th>\n",
       "      <th>language</th>\n",
       "      <th>original_title</th>\n",
       "      <th>start_date</th>\n",
       "      <th>start_year</th>\n",
       "      <th>title</th>\n",
       "      <th>end_date</th>\n",
       "    </tr>\n",
       "  </thead>\n",
       "  <tbody>\n",
       "    <tr>\n",
       "      <th>0</th>\n",
       "      <td>[2016]</td>\n",
       "      <td>[{'acronym': 'BELSPO', 'city_name': 'Brussels'...</td>\n",
       "      <td>Belgian Federal Science Policy Office</td>\n",
       "      <td>37_3655</td>\n",
       "      <td>grant.8597838</td>\n",
       "      <td>en</td>\n",
       "      <td>\"Bottom up\" self-assembly of π-functional nano...</td>\n",
       "      <td>2016-11-09</td>\n",
       "      <td>2016</td>\n",
       "      <td>\"Bottom up\" self-assembly of π-functional nano...</td>\n",
       "      <td>NaN</td>\n",
       "    </tr>\n",
       "    <tr>\n",
       "      <th>1</th>\n",
       "      <td>[2005, 2006, 2007, 2008, 2009, 2010, 2011]</td>\n",
       "      <td>[{'acronym': 'Royal Society', 'city_name': 'Lo...</td>\n",
       "      <td>Royal Society</td>\n",
       "      <td>7780-1</td>\n",
       "      <td>grant.7928225</td>\n",
       "      <td>en</td>\n",
       "      <td>NANOMATERIALS FOR BIOMOLECULAR SCIENCES AND NA...</td>\n",
       "      <td>2005-10-01</td>\n",
       "      <td>2005</td>\n",
       "      <td>NANOMATERIALS FOR BIOMOLECULAR SCIENCES AND NA...</td>\n",
       "      <td>2011-03-01</td>\n",
       "    </tr>\n",
       "    <tr>\n",
       "      <th>2</th>\n",
       "      <td>[2011, 2012, 2013, 2014]</td>\n",
       "      <td>[{'acronym': 'Royal Society', 'city_name': 'Lo...</td>\n",
       "      <td>Royal Society</td>\n",
       "      <td>7780</td>\n",
       "      <td>grant.7928224</td>\n",
       "      <td>en</td>\n",
       "      <td>Nanomaterials for Biomolecular and Biomedical ...</td>\n",
       "      <td>2011-03-01</td>\n",
       "      <td>2011</td>\n",
       "      <td>Nanomaterials for Biomolecular and Biomedical ...</td>\n",
       "      <td>2014-03-01</td>\n",
       "    </tr>\n",
       "    <tr>\n",
       "      <th>3</th>\n",
       "      <td>[2005, 2006]</td>\n",
       "      <td>[{'acronym': 'ITC', 'city_name': 'Hong Kong', ...</td>\n",
       "      <td>Innovation and Technology Commission</td>\n",
       "      <td>InP/006/05</td>\n",
       "      <td>grant.7166197</td>\n",
       "      <td>en</td>\n",
       "      <td>Institute of NanoMaterials and NanoTechnology ...</td>\n",
       "      <td>2005-06-24</td>\n",
       "      <td>2005</td>\n",
       "      <td>Institute of NanoMaterials and NanoTechnology ...</td>\n",
       "      <td>2006-06-23</td>\n",
       "    </tr>\n",
       "    <tr>\n",
       "      <th>4</th>\n",
       "      <td>[2011]</td>\n",
       "      <td>[{'acronym': 'CFI', 'city_name': 'Ottawa', 'co...</td>\n",
       "      <td>Canada Foundation for Innovation</td>\n",
       "      <td>CFI9790</td>\n",
       "      <td>grant.6767895</td>\n",
       "      <td>en</td>\n",
       "      <td>Platform for nanomaterials excitation and in-s...</td>\n",
       "      <td>2011-06-14</td>\n",
       "      <td>2011</td>\n",
       "      <td>Platform for nanomaterials excitation and in-s...</td>\n",
       "      <td>NaN</td>\n",
       "    </tr>\n",
       "  </tbody>\n",
       "</table>\n",
       "</div>"
      ],
      "text/plain": [
       "                                  active_year  \\\n",
       "0                                      [2016]   \n",
       "1  [2005, 2006, 2007, 2008, 2009, 2010, 2011]   \n",
       "2                    [2011, 2012, 2013, 2014]   \n",
       "3                                [2005, 2006]   \n",
       "4                                      [2011]   \n",
       "\n",
       "                                             funders  \\\n",
       "0  [{'acronym': 'BELSPO', 'city_name': 'Brussels'...   \n",
       "1  [{'acronym': 'Royal Society', 'city_name': 'Lo...   \n",
       "2  [{'acronym': 'Royal Society', 'city_name': 'Lo...   \n",
       "3  [{'acronym': 'ITC', 'city_name': 'Hong Kong', ...   \n",
       "4  [{'acronym': 'CFI', 'city_name': 'Ottawa', 'co...   \n",
       "\n",
       "                        funding_org_name grant_number             id language  \\\n",
       "0  Belgian Federal Science Policy Office      37_3655  grant.8597838       en   \n",
       "1                          Royal Society       7780-1  grant.7928225       en   \n",
       "2                          Royal Society         7780  grant.7928224       en   \n",
       "3   Innovation and Technology Commission   InP/006/05  grant.7166197       en   \n",
       "4       Canada Foundation for Innovation      CFI9790  grant.6767895       en   \n",
       "\n",
       "                                      original_title  start_date  start_year  \\\n",
       "0  \"Bottom up\" self-assembly of π-functional nano...  2016-11-09        2016   \n",
       "1  NANOMATERIALS FOR BIOMOLECULAR SCIENCES AND NA...  2005-10-01        2005   \n",
       "2  Nanomaterials for Biomolecular and Biomedical ...  2011-03-01        2011   \n",
       "3  Institute of NanoMaterials and NanoTechnology ...  2005-06-24        2005   \n",
       "4  Platform for nanomaterials excitation and in-s...  2011-06-14        2011   \n",
       "\n",
       "                                               title    end_date  \n",
       "0  \"Bottom up\" self-assembly of π-functional nano...         NaN  \n",
       "1  NANOMATERIALS FOR BIOMOLECULAR SCIENCES AND NA...  2011-03-01  \n",
       "2  Nanomaterials for Biomolecular and Biomedical ...  2014-03-01  \n",
       "3  Institute of NanoMaterials and NanoTechnology ...  2006-06-23  \n",
       "4  Platform for nanomaterials excitation and in-s...         NaN  "
      ]
     },
     "execution_count": 57,
     "metadata": {},
     "output_type": "execute_result"
    }
   ],
   "source": [
    "%%dsldf  \n",
    "search grants  \n",
    "    for \"nanomaterials\"\n",
    "return grants  sort by relevance desc limit 5"
   ]
  },
  {
   "cell_type": "markdown",
   "metadata": {
    "Collapsed": "false"
   },
   "source": [
    "Number of citations per publication"
   ]
  },
  {
   "cell_type": "code",
   "execution_count": 58,
   "metadata": {
    "Collapsed": "false"
   },
   "outputs": [
    {
     "name": "stdout",
     "output_type": "stream",
     "text": [
      "Returned Publications: 5 (total = 124736479)\n",
      "\u001b[2mTime: 3.51s\u001b[0m\n"
     ]
    },
    {
     "data": {
      "text/html": [
       "<div>\n",
       "<style scoped>\n",
       "    .dataframe tbody tr th:only-of-type {\n",
       "        vertical-align: middle;\n",
       "    }\n",
       "\n",
       "    .dataframe tbody tr th {\n",
       "        vertical-align: top;\n",
       "    }\n",
       "\n",
       "    .dataframe thead th {\n",
       "        text-align: right;\n",
       "    }\n",
       "</style>\n",
       "<table border=\"1\" class=\"dataframe\">\n",
       "  <thead>\n",
       "    <tr style=\"text-align: right;\">\n",
       "      <th></th>\n",
       "      <th>doi</th>\n",
       "      <th>times_cited</th>\n",
       "    </tr>\n",
       "  </thead>\n",
       "  <tbody>\n",
       "    <tr>\n",
       "      <th>0</th>\n",
       "      <td>10.1016/s0021-9258(19)52451-6</td>\n",
       "      <td>262567</td>\n",
       "    </tr>\n",
       "    <tr>\n",
       "      <th>1</th>\n",
       "      <td>10.1038/227680a0</td>\n",
       "      <td>220052</td>\n",
       "    </tr>\n",
       "    <tr>\n",
       "      <th>2</th>\n",
       "      <td>10.1016/0003-2697(76)90527-3</td>\n",
       "      <td>200726</td>\n",
       "    </tr>\n",
       "    <tr>\n",
       "      <th>3</th>\n",
       "      <td>10.1103/physrevlett.77.3865</td>\n",
       "      <td>116791</td>\n",
       "    </tr>\n",
       "    <tr>\n",
       "      <th>4</th>\n",
       "      <td>10.1006/meth.2001.1262</td>\n",
       "      <td>111734</td>\n",
       "    </tr>\n",
       "  </tbody>\n",
       "</table>\n",
       "</div>"
      ],
      "text/plain": [
       "                             doi  times_cited\n",
       "0  10.1016/s0021-9258(19)52451-6       262567\n",
       "1               10.1038/227680a0       220052\n",
       "2   10.1016/0003-2697(76)90527-3       200726\n",
       "3    10.1103/physrevlett.77.3865       116791\n",
       "4         10.1006/meth.2001.1262       111734"
      ]
     },
     "execution_count": 58,
     "metadata": {},
     "output_type": "execute_result"
    }
   ],
   "source": [
    "%%dsldf  \n",
    "search publications\n",
    "return publications  [doi + times_cited] \n",
    "    sort by times_cited limit 5"
   ]
  },
  {
   "cell_type": "markdown",
   "metadata": {
    "Collapsed": "false"
   },
   "source": [
    "Recent citations per publication.\n",
    "Note: Recent citation refers to the number of citations accrued in the last two year period. A single value is stored per document and the year window rolls over in July."
   ]
  },
  {
   "cell_type": "code",
   "execution_count": 59,
   "metadata": {
    "Collapsed": "false"
   },
   "outputs": [
    {
     "name": "stdout",
     "output_type": "stream",
     "text": [
      "Returned Publications: 5 (total = 124736479)\n",
      "\u001b[2mTime: 2.58s\u001b[0m\n"
     ]
    },
    {
     "data": {
      "text/html": [
       "<div>\n",
       "<style scoped>\n",
       "    .dataframe tbody tr th:only-of-type {\n",
       "        vertical-align: middle;\n",
       "    }\n",
       "\n",
       "    .dataframe tbody tr th {\n",
       "        vertical-align: top;\n",
       "    }\n",
       "\n",
       "    .dataframe thead th {\n",
       "        text-align: right;\n",
       "    }\n",
       "</style>\n",
       "<table border=\"1\" class=\"dataframe\">\n",
       "  <thead>\n",
       "    <tr style=\"text-align: right;\">\n",
       "      <th></th>\n",
       "      <th>doi</th>\n",
       "      <th>recent_citations</th>\n",
       "    </tr>\n",
       "  </thead>\n",
       "  <tbody>\n",
       "    <tr>\n",
       "      <th>0</th>\n",
       "      <td>10.1109/cvpr.2016.90</td>\n",
       "      <td>37445</td>\n",
       "    </tr>\n",
       "    <tr>\n",
       "      <th>1</th>\n",
       "      <td>10.3322/caac.21492</td>\n",
       "      <td>35771</td>\n",
       "    </tr>\n",
       "    <tr>\n",
       "      <th>2</th>\n",
       "      <td>10.1103/physrevlett.77.3865</td>\n",
       "      <td>30137</td>\n",
       "    </tr>\n",
       "    <tr>\n",
       "      <th>3</th>\n",
       "      <td>10.1006/meth.2001.1262</td>\n",
       "      <td>28412</td>\n",
       "    </tr>\n",
       "    <tr>\n",
       "      <th>4</th>\n",
       "      <td>10.1016/s0140-6736(20)30183-5</td>\n",
       "      <td>27267</td>\n",
       "    </tr>\n",
       "  </tbody>\n",
       "</table>\n",
       "</div>"
      ],
      "text/plain": [
       "                             doi  recent_citations\n",
       "0           10.1109/cvpr.2016.90             37445\n",
       "1             10.3322/caac.21492             35771\n",
       "2    10.1103/physrevlett.77.3865             30137\n",
       "3         10.1006/meth.2001.1262             28412\n",
       "4  10.1016/s0140-6736(20)30183-5             27267"
      ]
     },
     "execution_count": 59,
     "metadata": {},
     "output_type": "execute_result"
    }
   ],
   "source": [
    "%%dsldf \n",
    "search publications\n",
    "return publications [doi + recent_citations]\n",
    "    sort by recent_citations limit 5"
   ]
  },
  {
   "cell_type": "markdown",
   "metadata": {
    "Collapsed": "false"
   },
   "source": [
    "When a facet is being returned, the `indicator` used in the\n",
    "`sort` phrase must either be `count` (the default, such that\n",
    "`sort by count` is unnecessary), or one of the indicators specified in\n",
    "the `aggregate` phrase, i.e. one whose values are being computed in the\n",
    "faceting operation. \n"
   ]
  },
  {
   "cell_type": "code",
   "execution_count": 60,
   "metadata": {
    "Collapsed": "false"
   },
   "outputs": [
    {
     "name": "stdout",
     "output_type": "stream",
     "text": [
      "Returned Research_orgs: 5\n",
      "\u001b[2mTime: 5.53s\u001b[0m\n"
     ]
    },
    {
     "data": {
      "text/html": [
       "<div>\n",
       "<style scoped>\n",
       "    .dataframe tbody tr th:only-of-type {\n",
       "        vertical-align: middle;\n",
       "    }\n",
       "\n",
       "    .dataframe tbody tr th {\n",
       "        vertical-align: top;\n",
       "    }\n",
       "\n",
       "    .dataframe thead th {\n",
       "        text-align: right;\n",
       "    }\n",
       "</style>\n",
       "<table border=\"1\" class=\"dataframe\">\n",
       "  <thead>\n",
       "    <tr style=\"text-align: right;\">\n",
       "      <th></th>\n",
       "      <th>acronym</th>\n",
       "      <th>altmetric_median</th>\n",
       "      <th>city_name</th>\n",
       "      <th>count</th>\n",
       "      <th>country_name</th>\n",
       "      <th>id</th>\n",
       "      <th>latitude</th>\n",
       "      <th>linkout</th>\n",
       "      <th>longitude</th>\n",
       "      <th>name</th>\n",
       "      <th>rcr_avg</th>\n",
       "      <th>state_name</th>\n",
       "      <th>types</th>\n",
       "    </tr>\n",
       "  </thead>\n",
       "  <tbody>\n",
       "    <tr>\n",
       "      <th>0</th>\n",
       "      <td>NIDCD</td>\n",
       "      <td>85.0</td>\n",
       "      <td>Bethesda</td>\n",
       "      <td>1</td>\n",
       "      <td>United States</td>\n",
       "      <td>grid.214431.1</td>\n",
       "      <td>39.105713</td>\n",
       "      <td>[http://www.nidcd.nih.gov/Pages/default.aspx]</td>\n",
       "      <td>-77.186860</td>\n",
       "      <td>National Institute on Deafness and Other Commu...</td>\n",
       "      <td>245.190002</td>\n",
       "      <td>Maryland</td>\n",
       "      <td>[Government]</td>\n",
       "    </tr>\n",
       "    <tr>\n",
       "      <th>1</th>\n",
       "      <td>NaN</td>\n",
       "      <td>85.0</td>\n",
       "      <td>Providence</td>\n",
       "      <td>1</td>\n",
       "      <td>United States</td>\n",
       "      <td>grid.241223.4</td>\n",
       "      <td>41.810280</td>\n",
       "      <td>[http://www.womenandinfants.org/]</td>\n",
       "      <td>-71.410880</td>\n",
       "      <td>Women &amp; Infants Hospital of Rhode Island</td>\n",
       "      <td>245.190002</td>\n",
       "      <td>Rhode Island</td>\n",
       "      <td>[Healthcare]</td>\n",
       "    </tr>\n",
       "    <tr>\n",
       "      <th>2</th>\n",
       "      <td>SGPGIMS</td>\n",
       "      <td>85.0</td>\n",
       "      <td>Lucknow</td>\n",
       "      <td>1</td>\n",
       "      <td>India</td>\n",
       "      <td>grid.263138.d</td>\n",
       "      <td>26.742609</td>\n",
       "      <td>[http://www.sgpgi.ac.in/]</td>\n",
       "      <td>80.946144</td>\n",
       "      <td>Sanjay Gandhi Post Graduate Institute of Medic...</td>\n",
       "      <td>245.190002</td>\n",
       "      <td>NaN</td>\n",
       "      <td>[Facility]</td>\n",
       "    </tr>\n",
       "    <tr>\n",
       "      <th>3</th>\n",
       "      <td>NaN</td>\n",
       "      <td>85.0</td>\n",
       "      <td>Charlottesville</td>\n",
       "      <td>1</td>\n",
       "      <td>United States</td>\n",
       "      <td>grid.412587.d</td>\n",
       "      <td>38.032307</td>\n",
       "      <td>[http://www.uvahealth.com/]</td>\n",
       "      <td>-78.498610</td>\n",
       "      <td>University of Virginia Health System</td>\n",
       "      <td>245.190002</td>\n",
       "      <td>Virginia</td>\n",
       "      <td>[Healthcare]</td>\n",
       "    </tr>\n",
       "    <tr>\n",
       "      <th>4</th>\n",
       "      <td>NaN</td>\n",
       "      <td>85.0</td>\n",
       "      <td>São Paulo</td>\n",
       "      <td>1</td>\n",
       "      <td>Brazil</td>\n",
       "      <td>grid.413320.7</td>\n",
       "      <td>-23.565285</td>\n",
       "      <td>[http://www.accamargo.org.br/]</td>\n",
       "      <td>-46.635864</td>\n",
       "      <td>AC Camargo Hospital</td>\n",
       "      <td>245.190002</td>\n",
       "      <td>NaN</td>\n",
       "      <td>[Healthcare]</td>\n",
       "    </tr>\n",
       "  </tbody>\n",
       "</table>\n",
       "</div>"
      ],
      "text/plain": [
       "   acronym  altmetric_median        city_name  count   country_name  \\\n",
       "0    NIDCD              85.0         Bethesda      1  United States   \n",
       "1      NaN              85.0       Providence      1  United States   \n",
       "2  SGPGIMS              85.0          Lucknow      1          India   \n",
       "3      NaN              85.0  Charlottesville      1  United States   \n",
       "4      NaN              85.0        São Paulo      1         Brazil   \n",
       "\n",
       "              id   latitude                                        linkout  \\\n",
       "0  grid.214431.1  39.105713  [http://www.nidcd.nih.gov/Pages/default.aspx]   \n",
       "1  grid.241223.4  41.810280              [http://www.womenandinfants.org/]   \n",
       "2  grid.263138.d  26.742609                      [http://www.sgpgi.ac.in/]   \n",
       "3  grid.412587.d  38.032307                    [http://www.uvahealth.com/]   \n",
       "4  grid.413320.7 -23.565285                 [http://www.accamargo.org.br/]   \n",
       "\n",
       "   longitude                                               name     rcr_avg  \\\n",
       "0 -77.186860  National Institute on Deafness and Other Commu...  245.190002   \n",
       "1 -71.410880           Women & Infants Hospital of Rhode Island  245.190002   \n",
       "2  80.946144  Sanjay Gandhi Post Graduate Institute of Medic...  245.190002   \n",
       "3 -78.498610               University of Virginia Health System  245.190002   \n",
       "4 -46.635864                                AC Camargo Hospital  245.190002   \n",
       "\n",
       "     state_name         types  \n",
       "0      Maryland  [Government]  \n",
       "1  Rhode Island  [Healthcare]  \n",
       "2           NaN    [Facility]  \n",
       "3      Virginia  [Healthcare]  \n",
       "4           NaN  [Healthcare]  "
      ]
     },
     "execution_count": 60,
     "metadata": {},
     "output_type": "execute_result"
    }
   ],
   "source": [
    "%%dsldf \n",
    "search publications \n",
    "    for \"nanomaterials\"\n",
    "return research_orgs \n",
    "    aggregate altmetric_median, rcr_avg sort by rcr_avg limit 5 "
   ]
  },
  {
   "cell_type": "markdown",
   "metadata": {
    "Collapsed": "false"
   },
   "source": [
    "### 5.7 Unnesting results\n",
    "\n",
    "Multi-value entity and JSON fields, such as `researchers`, `authors` or `research_orgs` or any of `category_*` fields may be unnested into top level objects. \n",
    "\n",
    "This operation makes it easier to do further operations on these objects e.g. counting or processing them further. \n",
    "\n",
    "This functionality will transform all of the returned multi-value data and turn them into top level keys, such as `researchers.id`, `researchers.first_name`, `researchers.last_name`, while copying other, non-unnested fields, such as `id` or `title` of publication for each of them. Returned results are therefore multiplied by as many researchers and categories each original publication has, so they will likely be more than the overall query limit, as the limit applies on the source objects, not the unnested one. If multiple fields are being unnested, then a cartesian product of all unnested fields is being returned.\n",
    "\n",
    "\n"
   ]
  },
  {
   "cell_type": "code",
   "execution_count": 61,
   "metadata": {
    "Collapsed": "false"
   },
   "outputs": [
    {
     "name": "stdout",
     "output_type": "stream",
     "text": [
      "Returned objects: 15 (total publications= 44939)\n",
      "\u001b[2mTime: 3.37s\u001b[0m\n"
     ]
    },
    {
     "data": {
      "text/html": [
       "<div>\n",
       "<style scoped>\n",
       "    .dataframe tbody tr th:only-of-type {\n",
       "        vertical-align: middle;\n",
       "    }\n",
       "\n",
       "    .dataframe tbody tr th {\n",
       "        vertical-align: top;\n",
       "    }\n",
       "\n",
       "    .dataframe thead th {\n",
       "        text-align: right;\n",
       "    }\n",
       "</style>\n",
       "<table border=\"1\" class=\"dataframe\">\n",
       "  <thead>\n",
       "    <tr style=\"text-align: right;\">\n",
       "      <th></th>\n",
       "      <th>id</th>\n",
       "      <th>researchers.first_name</th>\n",
       "      <th>researchers.id</th>\n",
       "      <th>researchers.last_name</th>\n",
       "      <th>researchers.orcid_id</th>\n",
       "      <th>researchers.research_orgs</th>\n",
       "      <th>title</th>\n",
       "      <th>year</th>\n",
       "    </tr>\n",
       "  </thead>\n",
       "  <tbody>\n",
       "    <tr>\n",
       "      <th>0</th>\n",
       "      <td>pub.1142524267</td>\n",
       "      <td>Christophe J</td>\n",
       "      <td>ur.011737013277.00</td>\n",
       "      <td>Godlewski</td>\n",
       "      <td>[0000-0002-1391-1108]</td>\n",
       "      <td>[grid.11843.3f, grid.462209.b, grid.9156.b]</td>\n",
       "      <td>Family firms and the cost of borrowing: empiri...</td>\n",
       "      <td>2022</td>\n",
       "    </tr>\n",
       "    <tr>\n",
       "      <th>1</th>\n",
       "      <td>pub.1142437244</td>\n",
       "      <td>Saibal</td>\n",
       "      <td>ur.014521275617.23</td>\n",
       "      <td>Ghosh</td>\n",
       "      <td>NaN</td>\n",
       "      <td>[grid.465042.1, grid.507449.b]</td>\n",
       "      <td>Religiosity and bank performance: How strong i...</td>\n",
       "      <td>2022</td>\n",
       "    </tr>\n",
       "    <tr>\n",
       "      <th>2</th>\n",
       "      <td>pub.1144045080</td>\n",
       "      <td>Tsuyoshi</td>\n",
       "      <td>ur.016274403511.19</td>\n",
       "      <td>Hatori</td>\n",
       "      <td>NaN</td>\n",
       "      <td>[grid.255464.4, grid.258799.8, grid.32197.3e]</td>\n",
       "      <td>Posttraumatic stress disorder and its predicto...</td>\n",
       "      <td>2022</td>\n",
       "    </tr>\n",
       "    <tr>\n",
       "      <th>3</th>\n",
       "      <td>pub.1144045080</td>\n",
       "      <td>Netra Prakash</td>\n",
       "      <td>ur.015100044631.08</td>\n",
       "      <td>Bhandary</td>\n",
       "      <td>NaN</td>\n",
       "      <td>[grid.255464.4]</td>\n",
       "      <td>Posttraumatic stress disorder and its predicto...</td>\n",
       "      <td>2022</td>\n",
       "    </tr>\n",
       "    <tr>\n",
       "      <th>4</th>\n",
       "      <td>pub.1142405234</td>\n",
       "      <td>Sibel</td>\n",
       "      <td>ur.016623460225.89</td>\n",
       "      <td>Kuşdemir</td>\n",
       "      <td>NaN</td>\n",
       "      <td>NaN</td>\n",
       "      <td>A Critical Analysis of the Tidal Model of Ment...</td>\n",
       "      <td>2022</td>\n",
       "    </tr>\n",
       "    <tr>\n",
       "      <th>5</th>\n",
       "      <td>pub.1142405234</td>\n",
       "      <td>Abe</td>\n",
       "      <td>ur.01164051372.26</td>\n",
       "      <td>Oudshoorn</td>\n",
       "      <td>[0000-0003-0277-8724]</td>\n",
       "      <td>[grid.39381.30]</td>\n",
       "      <td>A Critical Analysis of the Tidal Model of Ment...</td>\n",
       "      <td>2022</td>\n",
       "    </tr>\n",
       "    <tr>\n",
       "      <th>6</th>\n",
       "      <td>pub.1142405234</td>\n",
       "      <td>Jean Pierre</td>\n",
       "      <td>ur.011564037563.23</td>\n",
       "      <td>Ndayisenga</td>\n",
       "      <td>[0000-0002-3508-975X]</td>\n",
       "      <td>[grid.39381.30, grid.10818.30]</td>\n",
       "      <td>A Critical Analysis of the Tidal Model of Ment...</td>\n",
       "      <td>2022</td>\n",
       "    </tr>\n",
       "    <tr>\n",
       "      <th>7</th>\n",
       "      <td>pub.1142222763</td>\n",
       "      <td>Namgay Pem</td>\n",
       "      <td>ur.011002223475.74</td>\n",
       "      <td>Dorji</td>\n",
       "      <td>NaN</td>\n",
       "      <td>[grid.1009.8, grid.449502.e]</td>\n",
       "      <td>Productivity improvement to sustain small-scal...</td>\n",
       "      <td>2022</td>\n",
       "    </tr>\n",
       "    <tr>\n",
       "      <th>8</th>\n",
       "      <td>pub.1142222763</td>\n",
       "      <td>Pema</td>\n",
       "      <td>ur.016673751074.70</td>\n",
       "      <td>Thinley</td>\n",
       "      <td>NaN</td>\n",
       "      <td>[grid.449502.e, grid.473381.a]</td>\n",
       "      <td>Productivity improvement to sustain small-scal...</td>\n",
       "      <td>2022</td>\n",
       "    </tr>\n",
       "    <tr>\n",
       "      <th>9</th>\n",
       "      <td>pub.1143489614</td>\n",
       "      <td>Yunqi</td>\n",
       "      <td>ur.07715015627.67</td>\n",
       "      <td>Fan</td>\n",
       "      <td>NaN</td>\n",
       "      <td>[grid.258151.a]</td>\n",
       "      <td>Audit firm's Confucianism and stock price cras...</td>\n",
       "      <td>2022</td>\n",
       "    </tr>\n",
       "    <tr>\n",
       "      <th>10</th>\n",
       "      <td>pub.1140433062</td>\n",
       "      <td>Lorraine K C</td>\n",
       "      <td>ur.016053415455.43</td>\n",
       "      <td>Yeung</td>\n",
       "      <td>NaN</td>\n",
       "      <td>NaN</td>\n",
       "      <td>Which Way Down the Slippery Slope: Arkangel or...</td>\n",
       "      <td>2022</td>\n",
       "    </tr>\n",
       "    <tr>\n",
       "      <th>11</th>\n",
       "      <td>pub.1144342388</td>\n",
       "      <td>Goran</td>\n",
       "      <td>ur.010065312255.23</td>\n",
       "      <td>Zendelovski</td>\n",
       "      <td>NaN</td>\n",
       "      <td>NaN</td>\n",
       "      <td>The Ranking of the Western Balkan Countries Ac...</td>\n",
       "      <td>2021</td>\n",
       "    </tr>\n",
       "    <tr>\n",
       "      <th>12</th>\n",
       "      <td>pub.1144329854</td>\n",
       "      <td>Rajan Binayek</td>\n",
       "      <td>ur.012335611513.76</td>\n",
       "      <td>Pasa</td>\n",
       "      <td>NaN</td>\n",
       "      <td>[grid.80817.36]</td>\n",
       "      <td>Interface between Tourism and Rural Developmen...</td>\n",
       "      <td>2021</td>\n",
       "    </tr>\n",
       "    <tr>\n",
       "      <th>13</th>\n",
       "      <td>pub.1141965272</td>\n",
       "      <td>André Gustavo Fernandes</td>\n",
       "      <td>ur.012301212721.36</td>\n",
       "      <td>De Oliveira</td>\n",
       "      <td>NaN</td>\n",
       "      <td>[grid.411198.4]</td>\n",
       "      <td>The creation of a body donation program at Fed...</td>\n",
       "      <td>2021</td>\n",
       "    </tr>\n",
       "    <tr>\n",
       "      <th>14</th>\n",
       "      <td>pub.1141965272</td>\n",
       "      <td>Alice Belleigoli</td>\n",
       "      <td>ur.01125335720.51</td>\n",
       "      <td>Rezende</td>\n",
       "      <td>NaN</td>\n",
       "      <td>[grid.411198.4]</td>\n",
       "      <td>The creation of a body donation program at Fed...</td>\n",
       "      <td>2021</td>\n",
       "    </tr>\n",
       "  </tbody>\n",
       "</table>\n",
       "</div>"
      ],
      "text/plain": [
       "                id   researchers.first_name      researchers.id  \\\n",
       "0   pub.1142524267             Christophe J  ur.011737013277.00   \n",
       "1   pub.1142437244                   Saibal  ur.014521275617.23   \n",
       "2   pub.1144045080                 Tsuyoshi  ur.016274403511.19   \n",
       "3   pub.1144045080            Netra Prakash  ur.015100044631.08   \n",
       "4   pub.1142405234                    Sibel  ur.016623460225.89   \n",
       "5   pub.1142405234                      Abe   ur.01164051372.26   \n",
       "6   pub.1142405234              Jean Pierre  ur.011564037563.23   \n",
       "7   pub.1142222763               Namgay Pem  ur.011002223475.74   \n",
       "8   pub.1142222763                     Pema  ur.016673751074.70   \n",
       "9   pub.1143489614                    Yunqi   ur.07715015627.67   \n",
       "10  pub.1140433062             Lorraine K C  ur.016053415455.43   \n",
       "11  pub.1144342388                    Goran  ur.010065312255.23   \n",
       "12  pub.1144329854            Rajan Binayek  ur.012335611513.76   \n",
       "13  pub.1141965272  André Gustavo Fernandes  ur.012301212721.36   \n",
       "14  pub.1141965272         Alice Belleigoli   ur.01125335720.51   \n",
       "\n",
       "   researchers.last_name   researchers.orcid_id  \\\n",
       "0              Godlewski  [0000-0002-1391-1108]   \n",
       "1                  Ghosh                    NaN   \n",
       "2                 Hatori                    NaN   \n",
       "3               Bhandary                    NaN   \n",
       "4               Kuşdemir                    NaN   \n",
       "5              Oudshoorn  [0000-0003-0277-8724]   \n",
       "6             Ndayisenga  [0000-0002-3508-975X]   \n",
       "7                  Dorji                    NaN   \n",
       "8                Thinley                    NaN   \n",
       "9                    Fan                    NaN   \n",
       "10                 Yeung                    NaN   \n",
       "11           Zendelovski                    NaN   \n",
       "12                  Pasa                    NaN   \n",
       "13           De Oliveira                    NaN   \n",
       "14               Rezende                    NaN   \n",
       "\n",
       "                        researchers.research_orgs  \\\n",
       "0     [grid.11843.3f, grid.462209.b, grid.9156.b]   \n",
       "1                  [grid.465042.1, grid.507449.b]   \n",
       "2   [grid.255464.4, grid.258799.8, grid.32197.3e]   \n",
       "3                                 [grid.255464.4]   \n",
       "4                                             NaN   \n",
       "5                                 [grid.39381.30]   \n",
       "6                  [grid.39381.30, grid.10818.30]   \n",
       "7                    [grid.1009.8, grid.449502.e]   \n",
       "8                  [grid.449502.e, grid.473381.a]   \n",
       "9                                 [grid.258151.a]   \n",
       "10                                            NaN   \n",
       "11                                            NaN   \n",
       "12                                [grid.80817.36]   \n",
       "13                                [grid.411198.4]   \n",
       "14                                [grid.411198.4]   \n",
       "\n",
       "                                                title  year  \n",
       "0   Family firms and the cost of borrowing: empiri...  2022  \n",
       "1   Religiosity and bank performance: How strong i...  2022  \n",
       "2   Posttraumatic stress disorder and its predicto...  2022  \n",
       "3   Posttraumatic stress disorder and its predicto...  2022  \n",
       "4   A Critical Analysis of the Tidal Model of Ment...  2022  \n",
       "5   A Critical Analysis of the Tidal Model of Ment...  2022  \n",
       "6   A Critical Analysis of the Tidal Model of Ment...  2022  \n",
       "7   Productivity improvement to sustain small-scal...  2022  \n",
       "8   Productivity improvement to sustain small-scal...  2022  \n",
       "9   Audit firm's Confucianism and stock price cras...  2022  \n",
       "10  Which Way Down the Slippery Slope: Arkangel or...  2022  \n",
       "11  The Ranking of the Western Balkan Countries Ac...  2021  \n",
       "12  Interface between Tourism and Rural Developmen...  2021  \n",
       "13  The creation of a body donation program at Fed...  2021  \n",
       "14  The creation of a body donation program at Fed...  2021  "
      ]
     },
     "execution_count": 61,
     "metadata": {},
     "output_type": "execute_result"
    }
   ],
   "source": [
    "%%dsldf\n",
    "\n",
    "search publications for \"Japan AND Buddhism\"\n",
    "    where researchers is not empty\n",
    "return publications[id+year+title+unnest(researchers)] limit 10"
   ]
  },
  {
   "cell_type": "code",
   "execution_count": 62,
   "metadata": {
    "Collapsed": "false"
   },
   "outputs": [
    {
     "name": "stdout",
     "output_type": "stream",
     "text": [
      "Returned objects: 12 (total publications= 138973)\n",
      "\u001b[2mTime: 2.21s\u001b[0m\n"
     ]
    },
    {
     "data": {
      "text/html": [
       "<div>\n",
       "<style scoped>\n",
       "    .dataframe tbody tr th:only-of-type {\n",
       "        vertical-align: middle;\n",
       "    }\n",
       "\n",
       "    .dataframe tbody tr th {\n",
       "        vertical-align: top;\n",
       "    }\n",
       "\n",
       "    .dataframe thead th {\n",
       "        text-align: right;\n",
       "    }\n",
       "</style>\n",
       "<table border=\"1\" class=\"dataframe\">\n",
       "  <thead>\n",
       "    <tr style=\"text-align: right;\">\n",
       "      <th></th>\n",
       "      <th>category_for.id</th>\n",
       "      <th>category_for.name</th>\n",
       "      <th>id</th>\n",
       "      <th>title</th>\n",
       "      <th>year</th>\n",
       "    </tr>\n",
       "  </thead>\n",
       "  <tbody>\n",
       "    <tr>\n",
       "      <th>0</th>\n",
       "      <td>3675</td>\n",
       "      <td>2103 Historical Studies</td>\n",
       "      <td>pub.1143990292</td>\n",
       "      <td>Arrangement Plan of Inner Mongolia Buddhist Te...</td>\n",
       "      <td>2022</td>\n",
       "    </tr>\n",
       "    <tr>\n",
       "      <th>1</th>\n",
       "      <td>2221</td>\n",
       "      <td>21 History and Archaeology</td>\n",
       "      <td>pub.1143990292</td>\n",
       "      <td>Arrangement Plan of Inner Mongolia Buddhist Te...</td>\n",
       "      <td>2022</td>\n",
       "    </tr>\n",
       "    <tr>\n",
       "      <th>2</th>\n",
       "      <td>2215</td>\n",
       "      <td>15 Commerce, Management, Tourism and Services</td>\n",
       "      <td>pub.1142524267</td>\n",
       "      <td>Family firms and the cost of borrowing: empiri...</td>\n",
       "      <td>2022</td>\n",
       "    </tr>\n",
       "    <tr>\n",
       "      <th>3</th>\n",
       "      <td>3335</td>\n",
       "      <td>1502 Banking, Finance and Investment</td>\n",
       "      <td>pub.1142524267</td>\n",
       "      <td>Family firms and the cost of borrowing: empiri...</td>\n",
       "      <td>2022</td>\n",
       "    </tr>\n",
       "    <tr>\n",
       "      <th>4</th>\n",
       "      <td>2217</td>\n",
       "      <td>17 Psychology and Cognitive Sciences</td>\n",
       "      <td>pub.1144241292</td>\n",
       "      <td>Racist Love</td>\n",
       "      <td>2022</td>\n",
       "    </tr>\n",
       "    <tr>\n",
       "      <th>5</th>\n",
       "      <td>3468</td>\n",
       "      <td>1701 Psychology</td>\n",
       "      <td>pub.1144241292</td>\n",
       "      <td>Racist Love</td>\n",
       "      <td>2022</td>\n",
       "    </tr>\n",
       "    <tr>\n",
       "      <th>6</th>\n",
       "      <td>3364</td>\n",
       "      <td>1505 Marketing</td>\n",
       "      <td>pub.1143842506</td>\n",
       "      <td>Comparison of localized and foreign restaurant...</td>\n",
       "      <td>2022</td>\n",
       "    </tr>\n",
       "    <tr>\n",
       "      <th>7</th>\n",
       "      <td>3373</td>\n",
       "      <td>1506 Tourism</td>\n",
       "      <td>pub.1143842506</td>\n",
       "      <td>Comparison of localized and foreign restaurant...</td>\n",
       "      <td>2022</td>\n",
       "    </tr>\n",
       "    <tr>\n",
       "      <th>8</th>\n",
       "      <td>3342</td>\n",
       "      <td>1503 Business and Management</td>\n",
       "      <td>pub.1143842506</td>\n",
       "      <td>Comparison of localized and foreign restaurant...</td>\n",
       "      <td>2022</td>\n",
       "    </tr>\n",
       "    <tr>\n",
       "      <th>9</th>\n",
       "      <td>2215</td>\n",
       "      <td>15 Commerce, Management, Tourism and Services</td>\n",
       "      <td>pub.1143842506</td>\n",
       "      <td>Comparison of localized and foreign restaurant...</td>\n",
       "      <td>2022</td>\n",
       "    </tr>\n",
       "    <tr>\n",
       "      <th>10</th>\n",
       "      <td>2215</td>\n",
       "      <td>15 Commerce, Management, Tourism and Services</td>\n",
       "      <td>pub.1142437244</td>\n",
       "      <td>Religiosity and bank performance: How strong i...</td>\n",
       "      <td>2022</td>\n",
       "    </tr>\n",
       "    <tr>\n",
       "      <th>11</th>\n",
       "      <td>3335</td>\n",
       "      <td>1502 Banking, Finance and Investment</td>\n",
       "      <td>pub.1142437244</td>\n",
       "      <td>Religiosity and bank performance: How strong i...</td>\n",
       "      <td>2022</td>\n",
       "    </tr>\n",
       "  </tbody>\n",
       "</table>\n",
       "</div>"
      ],
      "text/plain": [
       "   category_for.id                              category_for.name  \\\n",
       "0             3675                        2103 Historical Studies   \n",
       "1             2221                     21 History and Archaeology   \n",
       "2             2215  15 Commerce, Management, Tourism and Services   \n",
       "3             3335           1502 Banking, Finance and Investment   \n",
       "4             2217           17 Psychology and Cognitive Sciences   \n",
       "5             3468                                1701 Psychology   \n",
       "6             3364                                 1505 Marketing   \n",
       "7             3373                                   1506 Tourism   \n",
       "8             3342                   1503 Business and Management   \n",
       "9             2215  15 Commerce, Management, Tourism and Services   \n",
       "10            2215  15 Commerce, Management, Tourism and Services   \n",
       "11            3335           1502 Banking, Finance and Investment   \n",
       "\n",
       "                id                                              title  year  \n",
       "0   pub.1143990292  Arrangement Plan of Inner Mongolia Buddhist Te...  2022  \n",
       "1   pub.1143990292  Arrangement Plan of Inner Mongolia Buddhist Te...  2022  \n",
       "2   pub.1142524267  Family firms and the cost of borrowing: empiri...  2022  \n",
       "3   pub.1142524267  Family firms and the cost of borrowing: empiri...  2022  \n",
       "4   pub.1144241292                                        Racist Love  2022  \n",
       "5   pub.1144241292                                        Racist Love  2022  \n",
       "6   pub.1143842506  Comparison of localized and foreign restaurant...  2022  \n",
       "7   pub.1143842506  Comparison of localized and foreign restaurant...  2022  \n",
       "8   pub.1143842506  Comparison of localized and foreign restaurant...  2022  \n",
       "9   pub.1143842506  Comparison of localized and foreign restaurant...  2022  \n",
       "10  pub.1142437244  Religiosity and bank performance: How strong i...  2022  \n",
       "11  pub.1142437244  Religiosity and bank performance: How strong i...  2022  "
      ]
     },
     "execution_count": 62,
     "metadata": {},
     "output_type": "execute_result"
    }
   ],
   "source": [
    "%%dsldf\n",
    "\n",
    "search publications for \"Japan AND Buddhism\"\n",
    "return publications[id+year+title+unnest(category_for)] limit 5"
   ]
  },
  {
   "cell_type": "markdown",
   "metadata": {
    "Collapsed": "false"
   },
   "source": [
    "You can `unnest` as many fields as you want. However the number of results will grow pretty quickly!"
   ]
  },
  {
   "cell_type": "code",
   "execution_count": 63,
   "metadata": {
    "Collapsed": "false"
   },
   "outputs": [
    {
     "name": "stdout",
     "output_type": "stream",
     "text": [
      "Returned objects: 24 (total publications= 138973)\n",
      "\u001b[2mTime: 0.79s\u001b[0m\n"
     ]
    },
    {
     "data": {
      "text/html": [
       "<div>\n",
       "<style scoped>\n",
       "    .dataframe tbody tr th:only-of-type {\n",
       "        vertical-align: middle;\n",
       "    }\n",
       "\n",
       "    .dataframe tbody tr th {\n",
       "        vertical-align: top;\n",
       "    }\n",
       "\n",
       "    .dataframe thead th {\n",
       "        text-align: right;\n",
       "    }\n",
       "</style>\n",
       "<table border=\"1\" class=\"dataframe\">\n",
       "  <thead>\n",
       "    <tr style=\"text-align: right;\">\n",
       "      <th></th>\n",
       "      <th>category_for.id</th>\n",
       "      <th>category_for.name</th>\n",
       "      <th>id</th>\n",
       "      <th>title</th>\n",
       "      <th>year</th>\n",
       "      <th>research_orgs.city_name</th>\n",
       "      <th>research_orgs.country_name</th>\n",
       "      <th>research_orgs.id</th>\n",
       "      <th>research_orgs.latitude</th>\n",
       "      <th>research_orgs.linkout</th>\n",
       "      <th>research_orgs.longitude</th>\n",
       "      <th>research_orgs.name</th>\n",
       "      <th>research_orgs.state_name</th>\n",
       "      <th>research_orgs.types</th>\n",
       "      <th>researchers.first_name</th>\n",
       "      <th>researchers.id</th>\n",
       "      <th>researchers.last_name</th>\n",
       "      <th>researchers.orcid_id</th>\n",
       "      <th>researchers.research_orgs</th>\n",
       "      <th>research_orgs.acronym</th>\n",
       "    </tr>\n",
       "  </thead>\n",
       "  <tbody>\n",
       "    <tr>\n",
       "      <th>0</th>\n",
       "      <td>3675</td>\n",
       "      <td>2103 Historical Studies</td>\n",
       "      <td>pub.1143990292</td>\n",
       "      <td>Arrangement Plan of Inner Mongolia Buddhist Te...</td>\n",
       "      <td>2022</td>\n",
       "      <td>NaN</td>\n",
       "      <td>NaN</td>\n",
       "      <td>NaN</td>\n",
       "      <td>NaN</td>\n",
       "      <td>NaN</td>\n",
       "      <td>NaN</td>\n",
       "      <td>NaN</td>\n",
       "      <td>NaN</td>\n",
       "      <td>NaN</td>\n",
       "      <td>NaN</td>\n",
       "      <td>NaN</td>\n",
       "      <td>NaN</td>\n",
       "      <td>NaN</td>\n",
       "      <td>NaN</td>\n",
       "      <td>NaN</td>\n",
       "    </tr>\n",
       "    <tr>\n",
       "      <th>1</th>\n",
       "      <td>2221</td>\n",
       "      <td>21 History and Archaeology</td>\n",
       "      <td>pub.1143990292</td>\n",
       "      <td>Arrangement Plan of Inner Mongolia Buddhist Te...</td>\n",
       "      <td>2022</td>\n",
       "      <td>NaN</td>\n",
       "      <td>NaN</td>\n",
       "      <td>NaN</td>\n",
       "      <td>NaN</td>\n",
       "      <td>NaN</td>\n",
       "      <td>NaN</td>\n",
       "      <td>NaN</td>\n",
       "      <td>NaN</td>\n",
       "      <td>NaN</td>\n",
       "      <td>NaN</td>\n",
       "      <td>NaN</td>\n",
       "      <td>NaN</td>\n",
       "      <td>NaN</td>\n",
       "      <td>NaN</td>\n",
       "      <td>NaN</td>\n",
       "    </tr>\n",
       "    <tr>\n",
       "      <th>2</th>\n",
       "      <td>2215</td>\n",
       "      <td>15 Commerce, Management, Tourism and Services</td>\n",
       "      <td>pub.1142524267</td>\n",
       "      <td>Family firms and the cost of borrowing: empiri...</td>\n",
       "      <td>2022</td>\n",
       "      <td>Strasbourg</td>\n",
       "      <td>France</td>\n",
       "      <td>grid.11843.3f</td>\n",
       "      <td>48.580276</td>\n",
       "      <td>[http://www.en.unistra.fr/index.php?id=21707]</td>\n",
       "      <td>7.764444</td>\n",
       "      <td>University of Strasbourg</td>\n",
       "      <td>Alsace</td>\n",
       "      <td>[Education]</td>\n",
       "      <td>Christophe J</td>\n",
       "      <td>ur.011737013277.00</td>\n",
       "      <td>Godlewski</td>\n",
       "      <td>[0000-0002-1391-1108]</td>\n",
       "      <td>[grid.11843.3f, grid.462209.b, grid.9156.b]</td>\n",
       "      <td>NaN</td>\n",
       "    </tr>\n",
       "    <tr>\n",
       "      <th>3</th>\n",
       "      <td>3335</td>\n",
       "      <td>1502 Banking, Finance and Investment</td>\n",
       "      <td>pub.1142524267</td>\n",
       "      <td>Family firms and the cost of borrowing: empiri...</td>\n",
       "      <td>2022</td>\n",
       "      <td>Strasbourg</td>\n",
       "      <td>France</td>\n",
       "      <td>grid.11843.3f</td>\n",
       "      <td>48.580276</td>\n",
       "      <td>[http://www.en.unistra.fr/index.php?id=21707]</td>\n",
       "      <td>7.764444</td>\n",
       "      <td>University of Strasbourg</td>\n",
       "      <td>Alsace</td>\n",
       "      <td>[Education]</td>\n",
       "      <td>Christophe J</td>\n",
       "      <td>ur.011737013277.00</td>\n",
       "      <td>Godlewski</td>\n",
       "      <td>[0000-0002-1391-1108]</td>\n",
       "      <td>[grid.11843.3f, grid.462209.b, grid.9156.b]</td>\n",
       "      <td>NaN</td>\n",
       "    </tr>\n",
       "    <tr>\n",
       "      <th>4</th>\n",
       "      <td>2217</td>\n",
       "      <td>17 Psychology and Cognitive Sciences</td>\n",
       "      <td>pub.1144241292</td>\n",
       "      <td>Racist Love</td>\n",
       "      <td>2022</td>\n",
       "      <td>NaN</td>\n",
       "      <td>NaN</td>\n",
       "      <td>NaN</td>\n",
       "      <td>NaN</td>\n",
       "      <td>NaN</td>\n",
       "      <td>NaN</td>\n",
       "      <td>NaN</td>\n",
       "      <td>NaN</td>\n",
       "      <td>NaN</td>\n",
       "      <td>NaN</td>\n",
       "      <td>NaN</td>\n",
       "      <td>NaN</td>\n",
       "      <td>NaN</td>\n",
       "      <td>NaN</td>\n",
       "      <td>NaN</td>\n",
       "    </tr>\n",
       "    <tr>\n",
       "      <th>5</th>\n",
       "      <td>3468</td>\n",
       "      <td>1701 Psychology</td>\n",
       "      <td>pub.1144241292</td>\n",
       "      <td>Racist Love</td>\n",
       "      <td>2022</td>\n",
       "      <td>NaN</td>\n",
       "      <td>NaN</td>\n",
       "      <td>NaN</td>\n",
       "      <td>NaN</td>\n",
       "      <td>NaN</td>\n",
       "      <td>NaN</td>\n",
       "      <td>NaN</td>\n",
       "      <td>NaN</td>\n",
       "      <td>NaN</td>\n",
       "      <td>NaN</td>\n",
       "      <td>NaN</td>\n",
       "      <td>NaN</td>\n",
       "      <td>NaN</td>\n",
       "      <td>NaN</td>\n",
       "      <td>NaN</td>\n",
       "    </tr>\n",
       "    <tr>\n",
       "      <th>6</th>\n",
       "      <td>3364</td>\n",
       "      <td>1505 Marketing</td>\n",
       "      <td>pub.1143842506</td>\n",
       "      <td>Comparison of localized and foreign restaurant...</td>\n",
       "      <td>2022</td>\n",
       "      <td>Taoyuan District</td>\n",
       "      <td>Taiwan</td>\n",
       "      <td>grid.411804.8</td>\n",
       "      <td>25.086351</td>\n",
       "      <td>[http://www1.mcu.edu.tw/Apps/SB/SB_Site.aspx?P...</td>\n",
       "      <td>121.528080</td>\n",
       "      <td>Ming Chuan University</td>\n",
       "      <td>NaN</td>\n",
       "      <td>[Education]</td>\n",
       "      <td>NaN</td>\n",
       "      <td>NaN</td>\n",
       "      <td>NaN</td>\n",
       "      <td>NaN</td>\n",
       "      <td>NaN</td>\n",
       "      <td>MCU</td>\n",
       "    </tr>\n",
       "    <tr>\n",
       "      <th>7</th>\n",
       "      <td>3364</td>\n",
       "      <td>1505 Marketing</td>\n",
       "      <td>pub.1143842506</td>\n",
       "      <td>Comparison of localized and foreign restaurant...</td>\n",
       "      <td>2022</td>\n",
       "      <td>Brisbane</td>\n",
       "      <td>Australia</td>\n",
       "      <td>grid.1022.1</td>\n",
       "      <td>-27.470610</td>\n",
       "      <td>[http://www.griffith.edu.au/]</td>\n",
       "      <td>153.022860</td>\n",
       "      <td>Griffith University</td>\n",
       "      <td>Queensland</td>\n",
       "      <td>[Education]</td>\n",
       "      <td>NaN</td>\n",
       "      <td>NaN</td>\n",
       "      <td>NaN</td>\n",
       "      <td>NaN</td>\n",
       "      <td>NaN</td>\n",
       "      <td>NaN</td>\n",
       "    </tr>\n",
       "    <tr>\n",
       "      <th>8</th>\n",
       "      <td>3364</td>\n",
       "      <td>1505 Marketing</td>\n",
       "      <td>pub.1143842506</td>\n",
       "      <td>Comparison of localized and foreign restaurant...</td>\n",
       "      <td>2022</td>\n",
       "      <td>Taipei</td>\n",
       "      <td>Taiwan</td>\n",
       "      <td>grid.256105.5</td>\n",
       "      <td>25.035807</td>\n",
       "      <td>[http://www.fju.edu.tw/#&amp;panel1-1]</td>\n",
       "      <td>121.433170</td>\n",
       "      <td>Fu Jen Catholic University</td>\n",
       "      <td>NaN</td>\n",
       "      <td>[Education]</td>\n",
       "      <td>NaN</td>\n",
       "      <td>NaN</td>\n",
       "      <td>NaN</td>\n",
       "      <td>NaN</td>\n",
       "      <td>NaN</td>\n",
       "      <td>FJU</td>\n",
       "    </tr>\n",
       "    <tr>\n",
       "      <th>9</th>\n",
       "      <td>3364</td>\n",
       "      <td>1505 Marketing</td>\n",
       "      <td>pub.1143842506</td>\n",
       "      <td>Comparison of localized and foreign restaurant...</td>\n",
       "      <td>2022</td>\n",
       "      <td>Kaohsiung City</td>\n",
       "      <td>Taiwan</td>\n",
       "      <td>grid.412071.1</td>\n",
       "      <td>22.754444</td>\n",
       "      <td>[http://www.nkfust.edu.tw/bin/home.php]</td>\n",
       "      <td>120.333336</td>\n",
       "      <td>National Kaohsiung First University of Science...</td>\n",
       "      <td>NaN</td>\n",
       "      <td>[Education]</td>\n",
       "      <td>NaN</td>\n",
       "      <td>NaN</td>\n",
       "      <td>NaN</td>\n",
       "      <td>NaN</td>\n",
       "      <td>NaN</td>\n",
       "      <td>NKFUST</td>\n",
       "    </tr>\n",
       "    <tr>\n",
       "      <th>10</th>\n",
       "      <td>3373</td>\n",
       "      <td>1506 Tourism</td>\n",
       "      <td>pub.1143842506</td>\n",
       "      <td>Comparison of localized and foreign restaurant...</td>\n",
       "      <td>2022</td>\n",
       "      <td>Taoyuan District</td>\n",
       "      <td>Taiwan</td>\n",
       "      <td>grid.411804.8</td>\n",
       "      <td>25.086351</td>\n",
       "      <td>[http://www1.mcu.edu.tw/Apps/SB/SB_Site.aspx?P...</td>\n",
       "      <td>121.528080</td>\n",
       "      <td>Ming Chuan University</td>\n",
       "      <td>NaN</td>\n",
       "      <td>[Education]</td>\n",
       "      <td>NaN</td>\n",
       "      <td>NaN</td>\n",
       "      <td>NaN</td>\n",
       "      <td>NaN</td>\n",
       "      <td>NaN</td>\n",
       "      <td>MCU</td>\n",
       "    </tr>\n",
       "    <tr>\n",
       "      <th>11</th>\n",
       "      <td>3373</td>\n",
       "      <td>1506 Tourism</td>\n",
       "      <td>pub.1143842506</td>\n",
       "      <td>Comparison of localized and foreign restaurant...</td>\n",
       "      <td>2022</td>\n",
       "      <td>Brisbane</td>\n",
       "      <td>Australia</td>\n",
       "      <td>grid.1022.1</td>\n",
       "      <td>-27.470610</td>\n",
       "      <td>[http://www.griffith.edu.au/]</td>\n",
       "      <td>153.022860</td>\n",
       "      <td>Griffith University</td>\n",
       "      <td>Queensland</td>\n",
       "      <td>[Education]</td>\n",
       "      <td>NaN</td>\n",
       "      <td>NaN</td>\n",
       "      <td>NaN</td>\n",
       "      <td>NaN</td>\n",
       "      <td>NaN</td>\n",
       "      <td>NaN</td>\n",
       "    </tr>\n",
       "    <tr>\n",
       "      <th>12</th>\n",
       "      <td>3373</td>\n",
       "      <td>1506 Tourism</td>\n",
       "      <td>pub.1143842506</td>\n",
       "      <td>Comparison of localized and foreign restaurant...</td>\n",
       "      <td>2022</td>\n",
       "      <td>Taipei</td>\n",
       "      <td>Taiwan</td>\n",
       "      <td>grid.256105.5</td>\n",
       "      <td>25.035807</td>\n",
       "      <td>[http://www.fju.edu.tw/#&amp;panel1-1]</td>\n",
       "      <td>121.433170</td>\n",
       "      <td>Fu Jen Catholic University</td>\n",
       "      <td>NaN</td>\n",
       "      <td>[Education]</td>\n",
       "      <td>NaN</td>\n",
       "      <td>NaN</td>\n",
       "      <td>NaN</td>\n",
       "      <td>NaN</td>\n",
       "      <td>NaN</td>\n",
       "      <td>FJU</td>\n",
       "    </tr>\n",
       "    <tr>\n",
       "      <th>13</th>\n",
       "      <td>3373</td>\n",
       "      <td>1506 Tourism</td>\n",
       "      <td>pub.1143842506</td>\n",
       "      <td>Comparison of localized and foreign restaurant...</td>\n",
       "      <td>2022</td>\n",
       "      <td>Kaohsiung City</td>\n",
       "      <td>Taiwan</td>\n",
       "      <td>grid.412071.1</td>\n",
       "      <td>22.754444</td>\n",
       "      <td>[http://www.nkfust.edu.tw/bin/home.php]</td>\n",
       "      <td>120.333336</td>\n",
       "      <td>National Kaohsiung First University of Science...</td>\n",
       "      <td>NaN</td>\n",
       "      <td>[Education]</td>\n",
       "      <td>NaN</td>\n",
       "      <td>NaN</td>\n",
       "      <td>NaN</td>\n",
       "      <td>NaN</td>\n",
       "      <td>NaN</td>\n",
       "      <td>NKFUST</td>\n",
       "    </tr>\n",
       "    <tr>\n",
       "      <th>14</th>\n",
       "      <td>3342</td>\n",
       "      <td>1503 Business and Management</td>\n",
       "      <td>pub.1143842506</td>\n",
       "      <td>Comparison of localized and foreign restaurant...</td>\n",
       "      <td>2022</td>\n",
       "      <td>Taoyuan District</td>\n",
       "      <td>Taiwan</td>\n",
       "      <td>grid.411804.8</td>\n",
       "      <td>25.086351</td>\n",
       "      <td>[http://www1.mcu.edu.tw/Apps/SB/SB_Site.aspx?P...</td>\n",
       "      <td>121.528080</td>\n",
       "      <td>Ming Chuan University</td>\n",
       "      <td>NaN</td>\n",
       "      <td>[Education]</td>\n",
       "      <td>NaN</td>\n",
       "      <td>NaN</td>\n",
       "      <td>NaN</td>\n",
       "      <td>NaN</td>\n",
       "      <td>NaN</td>\n",
       "      <td>MCU</td>\n",
       "    </tr>\n",
       "    <tr>\n",
       "      <th>15</th>\n",
       "      <td>3342</td>\n",
       "      <td>1503 Business and Management</td>\n",
       "      <td>pub.1143842506</td>\n",
       "      <td>Comparison of localized and foreign restaurant...</td>\n",
       "      <td>2022</td>\n",
       "      <td>Brisbane</td>\n",
       "      <td>Australia</td>\n",
       "      <td>grid.1022.1</td>\n",
       "      <td>-27.470610</td>\n",
       "      <td>[http://www.griffith.edu.au/]</td>\n",
       "      <td>153.022860</td>\n",
       "      <td>Griffith University</td>\n",
       "      <td>Queensland</td>\n",
       "      <td>[Education]</td>\n",
       "      <td>NaN</td>\n",
       "      <td>NaN</td>\n",
       "      <td>NaN</td>\n",
       "      <td>NaN</td>\n",
       "      <td>NaN</td>\n",
       "      <td>NaN</td>\n",
       "    </tr>\n",
       "    <tr>\n",
       "      <th>16</th>\n",
       "      <td>3342</td>\n",
       "      <td>1503 Business and Management</td>\n",
       "      <td>pub.1143842506</td>\n",
       "      <td>Comparison of localized and foreign restaurant...</td>\n",
       "      <td>2022</td>\n",
       "      <td>Taipei</td>\n",
       "      <td>Taiwan</td>\n",
       "      <td>grid.256105.5</td>\n",
       "      <td>25.035807</td>\n",
       "      <td>[http://www.fju.edu.tw/#&amp;panel1-1]</td>\n",
       "      <td>121.433170</td>\n",
       "      <td>Fu Jen Catholic University</td>\n",
       "      <td>NaN</td>\n",
       "      <td>[Education]</td>\n",
       "      <td>NaN</td>\n",
       "      <td>NaN</td>\n",
       "      <td>NaN</td>\n",
       "      <td>NaN</td>\n",
       "      <td>NaN</td>\n",
       "      <td>FJU</td>\n",
       "    </tr>\n",
       "    <tr>\n",
       "      <th>17</th>\n",
       "      <td>3342</td>\n",
       "      <td>1503 Business and Management</td>\n",
       "      <td>pub.1143842506</td>\n",
       "      <td>Comparison of localized and foreign restaurant...</td>\n",
       "      <td>2022</td>\n",
       "      <td>Kaohsiung City</td>\n",
       "      <td>Taiwan</td>\n",
       "      <td>grid.412071.1</td>\n",
       "      <td>22.754444</td>\n",
       "      <td>[http://www.nkfust.edu.tw/bin/home.php]</td>\n",
       "      <td>120.333336</td>\n",
       "      <td>National Kaohsiung First University of Science...</td>\n",
       "      <td>NaN</td>\n",
       "      <td>[Education]</td>\n",
       "      <td>NaN</td>\n",
       "      <td>NaN</td>\n",
       "      <td>NaN</td>\n",
       "      <td>NaN</td>\n",
       "      <td>NaN</td>\n",
       "      <td>NKFUST</td>\n",
       "    </tr>\n",
       "    <tr>\n",
       "      <th>18</th>\n",
       "      <td>2215</td>\n",
       "      <td>15 Commerce, Management, Tourism and Services</td>\n",
       "      <td>pub.1143842506</td>\n",
       "      <td>Comparison of localized and foreign restaurant...</td>\n",
       "      <td>2022</td>\n",
       "      <td>Taoyuan District</td>\n",
       "      <td>Taiwan</td>\n",
       "      <td>grid.411804.8</td>\n",
       "      <td>25.086351</td>\n",
       "      <td>[http://www1.mcu.edu.tw/Apps/SB/SB_Site.aspx?P...</td>\n",
       "      <td>121.528080</td>\n",
       "      <td>Ming Chuan University</td>\n",
       "      <td>NaN</td>\n",
       "      <td>[Education]</td>\n",
       "      <td>NaN</td>\n",
       "      <td>NaN</td>\n",
       "      <td>NaN</td>\n",
       "      <td>NaN</td>\n",
       "      <td>NaN</td>\n",
       "      <td>MCU</td>\n",
       "    </tr>\n",
       "    <tr>\n",
       "      <th>19</th>\n",
       "      <td>2215</td>\n",
       "      <td>15 Commerce, Management, Tourism and Services</td>\n",
       "      <td>pub.1143842506</td>\n",
       "      <td>Comparison of localized and foreign restaurant...</td>\n",
       "      <td>2022</td>\n",
       "      <td>Brisbane</td>\n",
       "      <td>Australia</td>\n",
       "      <td>grid.1022.1</td>\n",
       "      <td>-27.470610</td>\n",
       "      <td>[http://www.griffith.edu.au/]</td>\n",
       "      <td>153.022860</td>\n",
       "      <td>Griffith University</td>\n",
       "      <td>Queensland</td>\n",
       "      <td>[Education]</td>\n",
       "      <td>NaN</td>\n",
       "      <td>NaN</td>\n",
       "      <td>NaN</td>\n",
       "      <td>NaN</td>\n",
       "      <td>NaN</td>\n",
       "      <td>NaN</td>\n",
       "    </tr>\n",
       "    <tr>\n",
       "      <th>20</th>\n",
       "      <td>2215</td>\n",
       "      <td>15 Commerce, Management, Tourism and Services</td>\n",
       "      <td>pub.1143842506</td>\n",
       "      <td>Comparison of localized and foreign restaurant...</td>\n",
       "      <td>2022</td>\n",
       "      <td>Taipei</td>\n",
       "      <td>Taiwan</td>\n",
       "      <td>grid.256105.5</td>\n",
       "      <td>25.035807</td>\n",
       "      <td>[http://www.fju.edu.tw/#&amp;panel1-1]</td>\n",
       "      <td>121.433170</td>\n",
       "      <td>Fu Jen Catholic University</td>\n",
       "      <td>NaN</td>\n",
       "      <td>[Education]</td>\n",
       "      <td>NaN</td>\n",
       "      <td>NaN</td>\n",
       "      <td>NaN</td>\n",
       "      <td>NaN</td>\n",
       "      <td>NaN</td>\n",
       "      <td>FJU</td>\n",
       "    </tr>\n",
       "    <tr>\n",
       "      <th>21</th>\n",
       "      <td>2215</td>\n",
       "      <td>15 Commerce, Management, Tourism and Services</td>\n",
       "      <td>pub.1143842506</td>\n",
       "      <td>Comparison of localized and foreign restaurant...</td>\n",
       "      <td>2022</td>\n",
       "      <td>Kaohsiung City</td>\n",
       "      <td>Taiwan</td>\n",
       "      <td>grid.412071.1</td>\n",
       "      <td>22.754444</td>\n",
       "      <td>[http://www.nkfust.edu.tw/bin/home.php]</td>\n",
       "      <td>120.333336</td>\n",
       "      <td>National Kaohsiung First University of Science...</td>\n",
       "      <td>NaN</td>\n",
       "      <td>[Education]</td>\n",
       "      <td>NaN</td>\n",
       "      <td>NaN</td>\n",
       "      <td>NaN</td>\n",
       "      <td>NaN</td>\n",
       "      <td>NaN</td>\n",
       "      <td>NKFUST</td>\n",
       "    </tr>\n",
       "    <tr>\n",
       "      <th>22</th>\n",
       "      <td>2215</td>\n",
       "      <td>15 Commerce, Management, Tourism and Services</td>\n",
       "      <td>pub.1142437244</td>\n",
       "      <td>Religiosity and bank performance: How strong i...</td>\n",
       "      <td>2022</td>\n",
       "      <td>Doha</td>\n",
       "      <td>Qatar</td>\n",
       "      <td>grid.507449.b</td>\n",
       "      <td>25.290200</td>\n",
       "      <td>[http://www.qcb.gov.qa]</td>\n",
       "      <td>51.534900</td>\n",
       "      <td>Qatar Central Bank</td>\n",
       "      <td>NaN</td>\n",
       "      <td>[Government]</td>\n",
       "      <td>Saibal</td>\n",
       "      <td>ur.014521275617.23</td>\n",
       "      <td>Ghosh</td>\n",
       "      <td>NaN</td>\n",
       "      <td>[grid.465042.1, grid.507449.b]</td>\n",
       "      <td>QCB</td>\n",
       "    </tr>\n",
       "    <tr>\n",
       "      <th>23</th>\n",
       "      <td>3335</td>\n",
       "      <td>1502 Banking, Finance and Investment</td>\n",
       "      <td>pub.1142437244</td>\n",
       "      <td>Religiosity and bank performance: How strong i...</td>\n",
       "      <td>2022</td>\n",
       "      <td>Doha</td>\n",
       "      <td>Qatar</td>\n",
       "      <td>grid.507449.b</td>\n",
       "      <td>25.290200</td>\n",
       "      <td>[http://www.qcb.gov.qa]</td>\n",
       "      <td>51.534900</td>\n",
       "      <td>Qatar Central Bank</td>\n",
       "      <td>NaN</td>\n",
       "      <td>[Government]</td>\n",
       "      <td>Saibal</td>\n",
       "      <td>ur.014521275617.23</td>\n",
       "      <td>Ghosh</td>\n",
       "      <td>NaN</td>\n",
       "      <td>[grid.465042.1, grid.507449.b]</td>\n",
       "      <td>QCB</td>\n",
       "    </tr>\n",
       "  </tbody>\n",
       "</table>\n",
       "</div>"
      ],
      "text/plain": [
       "   category_for.id                              category_for.name  \\\n",
       "0             3675                        2103 Historical Studies   \n",
       "1             2221                     21 History and Archaeology   \n",
       "2             2215  15 Commerce, Management, Tourism and Services   \n",
       "3             3335           1502 Banking, Finance and Investment   \n",
       "4             2217           17 Psychology and Cognitive Sciences   \n",
       "5             3468                                1701 Psychology   \n",
       "6             3364                                 1505 Marketing   \n",
       "7             3364                                 1505 Marketing   \n",
       "8             3364                                 1505 Marketing   \n",
       "9             3364                                 1505 Marketing   \n",
       "10            3373                                   1506 Tourism   \n",
       "11            3373                                   1506 Tourism   \n",
       "12            3373                                   1506 Tourism   \n",
       "13            3373                                   1506 Tourism   \n",
       "14            3342                   1503 Business and Management   \n",
       "15            3342                   1503 Business and Management   \n",
       "16            3342                   1503 Business and Management   \n",
       "17            3342                   1503 Business and Management   \n",
       "18            2215  15 Commerce, Management, Tourism and Services   \n",
       "19            2215  15 Commerce, Management, Tourism and Services   \n",
       "20            2215  15 Commerce, Management, Tourism and Services   \n",
       "21            2215  15 Commerce, Management, Tourism and Services   \n",
       "22            2215  15 Commerce, Management, Tourism and Services   \n",
       "23            3335           1502 Banking, Finance and Investment   \n",
       "\n",
       "                id                                              title  year  \\\n",
       "0   pub.1143990292  Arrangement Plan of Inner Mongolia Buddhist Te...  2022   \n",
       "1   pub.1143990292  Arrangement Plan of Inner Mongolia Buddhist Te...  2022   \n",
       "2   pub.1142524267  Family firms and the cost of borrowing: empiri...  2022   \n",
       "3   pub.1142524267  Family firms and the cost of borrowing: empiri...  2022   \n",
       "4   pub.1144241292                                        Racist Love  2022   \n",
       "5   pub.1144241292                                        Racist Love  2022   \n",
       "6   pub.1143842506  Comparison of localized and foreign restaurant...  2022   \n",
       "7   pub.1143842506  Comparison of localized and foreign restaurant...  2022   \n",
       "8   pub.1143842506  Comparison of localized and foreign restaurant...  2022   \n",
       "9   pub.1143842506  Comparison of localized and foreign restaurant...  2022   \n",
       "10  pub.1143842506  Comparison of localized and foreign restaurant...  2022   \n",
       "11  pub.1143842506  Comparison of localized and foreign restaurant...  2022   \n",
       "12  pub.1143842506  Comparison of localized and foreign restaurant...  2022   \n",
       "13  pub.1143842506  Comparison of localized and foreign restaurant...  2022   \n",
       "14  pub.1143842506  Comparison of localized and foreign restaurant...  2022   \n",
       "15  pub.1143842506  Comparison of localized and foreign restaurant...  2022   \n",
       "16  pub.1143842506  Comparison of localized and foreign restaurant...  2022   \n",
       "17  pub.1143842506  Comparison of localized and foreign restaurant...  2022   \n",
       "18  pub.1143842506  Comparison of localized and foreign restaurant...  2022   \n",
       "19  pub.1143842506  Comparison of localized and foreign restaurant...  2022   \n",
       "20  pub.1143842506  Comparison of localized and foreign restaurant...  2022   \n",
       "21  pub.1143842506  Comparison of localized and foreign restaurant...  2022   \n",
       "22  pub.1142437244  Religiosity and bank performance: How strong i...  2022   \n",
       "23  pub.1142437244  Religiosity and bank performance: How strong i...  2022   \n",
       "\n",
       "   research_orgs.city_name research_orgs.country_name research_orgs.id  \\\n",
       "0                      NaN                        NaN              NaN   \n",
       "1                      NaN                        NaN              NaN   \n",
       "2               Strasbourg                     France    grid.11843.3f   \n",
       "3               Strasbourg                     France    grid.11843.3f   \n",
       "4                      NaN                        NaN              NaN   \n",
       "5                      NaN                        NaN              NaN   \n",
       "6         Taoyuan District                     Taiwan    grid.411804.8   \n",
       "7                 Brisbane                  Australia      grid.1022.1   \n",
       "8                   Taipei                     Taiwan    grid.256105.5   \n",
       "9           Kaohsiung City                     Taiwan    grid.412071.1   \n",
       "10        Taoyuan District                     Taiwan    grid.411804.8   \n",
       "11                Brisbane                  Australia      grid.1022.1   \n",
       "12                  Taipei                     Taiwan    grid.256105.5   \n",
       "13          Kaohsiung City                     Taiwan    grid.412071.1   \n",
       "14        Taoyuan District                     Taiwan    grid.411804.8   \n",
       "15                Brisbane                  Australia      grid.1022.1   \n",
       "16                  Taipei                     Taiwan    grid.256105.5   \n",
       "17          Kaohsiung City                     Taiwan    grid.412071.1   \n",
       "18        Taoyuan District                     Taiwan    grid.411804.8   \n",
       "19                Brisbane                  Australia      grid.1022.1   \n",
       "20                  Taipei                     Taiwan    grid.256105.5   \n",
       "21          Kaohsiung City                     Taiwan    grid.412071.1   \n",
       "22                    Doha                      Qatar    grid.507449.b   \n",
       "23                    Doha                      Qatar    grid.507449.b   \n",
       "\n",
       "    research_orgs.latitude                              research_orgs.linkout  \\\n",
       "0                      NaN                                                NaN   \n",
       "1                      NaN                                                NaN   \n",
       "2                48.580276      [http://www.en.unistra.fr/index.php?id=21707]   \n",
       "3                48.580276      [http://www.en.unistra.fr/index.php?id=21707]   \n",
       "4                      NaN                                                NaN   \n",
       "5                      NaN                                                NaN   \n",
       "6                25.086351  [http://www1.mcu.edu.tw/Apps/SB/SB_Site.aspx?P...   \n",
       "7               -27.470610                      [http://www.griffith.edu.au/]   \n",
       "8                25.035807                 [http://www.fju.edu.tw/#&panel1-1]   \n",
       "9                22.754444            [http://www.nkfust.edu.tw/bin/home.php]   \n",
       "10               25.086351  [http://www1.mcu.edu.tw/Apps/SB/SB_Site.aspx?P...   \n",
       "11              -27.470610                      [http://www.griffith.edu.au/]   \n",
       "12               25.035807                 [http://www.fju.edu.tw/#&panel1-1]   \n",
       "13               22.754444            [http://www.nkfust.edu.tw/bin/home.php]   \n",
       "14               25.086351  [http://www1.mcu.edu.tw/Apps/SB/SB_Site.aspx?P...   \n",
       "15              -27.470610                      [http://www.griffith.edu.au/]   \n",
       "16               25.035807                 [http://www.fju.edu.tw/#&panel1-1]   \n",
       "17               22.754444            [http://www.nkfust.edu.tw/bin/home.php]   \n",
       "18               25.086351  [http://www1.mcu.edu.tw/Apps/SB/SB_Site.aspx?P...   \n",
       "19              -27.470610                      [http://www.griffith.edu.au/]   \n",
       "20               25.035807                 [http://www.fju.edu.tw/#&panel1-1]   \n",
       "21               22.754444            [http://www.nkfust.edu.tw/bin/home.php]   \n",
       "22               25.290200                            [http://www.qcb.gov.qa]   \n",
       "23               25.290200                            [http://www.qcb.gov.qa]   \n",
       "\n",
       "    research_orgs.longitude  \\\n",
       "0                       NaN   \n",
       "1                       NaN   \n",
       "2                  7.764444   \n",
       "3                  7.764444   \n",
       "4                       NaN   \n",
       "5                       NaN   \n",
       "6                121.528080   \n",
       "7                153.022860   \n",
       "8                121.433170   \n",
       "9                120.333336   \n",
       "10               121.528080   \n",
       "11               153.022860   \n",
       "12               121.433170   \n",
       "13               120.333336   \n",
       "14               121.528080   \n",
       "15               153.022860   \n",
       "16               121.433170   \n",
       "17               120.333336   \n",
       "18               121.528080   \n",
       "19               153.022860   \n",
       "20               121.433170   \n",
       "21               120.333336   \n",
       "22                51.534900   \n",
       "23                51.534900   \n",
       "\n",
       "                                   research_orgs.name  \\\n",
       "0                                                 NaN   \n",
       "1                                                 NaN   \n",
       "2                            University of Strasbourg   \n",
       "3                            University of Strasbourg   \n",
       "4                                                 NaN   \n",
       "5                                                 NaN   \n",
       "6                               Ming Chuan University   \n",
       "7                                 Griffith University   \n",
       "8                          Fu Jen Catholic University   \n",
       "9   National Kaohsiung First University of Science...   \n",
       "10                              Ming Chuan University   \n",
       "11                                Griffith University   \n",
       "12                         Fu Jen Catholic University   \n",
       "13  National Kaohsiung First University of Science...   \n",
       "14                              Ming Chuan University   \n",
       "15                                Griffith University   \n",
       "16                         Fu Jen Catholic University   \n",
       "17  National Kaohsiung First University of Science...   \n",
       "18                              Ming Chuan University   \n",
       "19                                Griffith University   \n",
       "20                         Fu Jen Catholic University   \n",
       "21  National Kaohsiung First University of Science...   \n",
       "22                                 Qatar Central Bank   \n",
       "23                                 Qatar Central Bank   \n",
       "\n",
       "   research_orgs.state_name research_orgs.types researchers.first_name  \\\n",
       "0                       NaN                 NaN                    NaN   \n",
       "1                       NaN                 NaN                    NaN   \n",
       "2                    Alsace         [Education]           Christophe J   \n",
       "3                    Alsace         [Education]           Christophe J   \n",
       "4                       NaN                 NaN                    NaN   \n",
       "5                       NaN                 NaN                    NaN   \n",
       "6                       NaN         [Education]                    NaN   \n",
       "7                Queensland         [Education]                    NaN   \n",
       "8                       NaN         [Education]                    NaN   \n",
       "9                       NaN         [Education]                    NaN   \n",
       "10                      NaN         [Education]                    NaN   \n",
       "11               Queensland         [Education]                    NaN   \n",
       "12                      NaN         [Education]                    NaN   \n",
       "13                      NaN         [Education]                    NaN   \n",
       "14                      NaN         [Education]                    NaN   \n",
       "15               Queensland         [Education]                    NaN   \n",
       "16                      NaN         [Education]                    NaN   \n",
       "17                      NaN         [Education]                    NaN   \n",
       "18                      NaN         [Education]                    NaN   \n",
       "19               Queensland         [Education]                    NaN   \n",
       "20                      NaN         [Education]                    NaN   \n",
       "21                      NaN         [Education]                    NaN   \n",
       "22                      NaN        [Government]                 Saibal   \n",
       "23                      NaN        [Government]                 Saibal   \n",
       "\n",
       "        researchers.id researchers.last_name   researchers.orcid_id  \\\n",
       "0                  NaN                   NaN                    NaN   \n",
       "1                  NaN                   NaN                    NaN   \n",
       "2   ur.011737013277.00             Godlewski  [0000-0002-1391-1108]   \n",
       "3   ur.011737013277.00             Godlewski  [0000-0002-1391-1108]   \n",
       "4                  NaN                   NaN                    NaN   \n",
       "5                  NaN                   NaN                    NaN   \n",
       "6                  NaN                   NaN                    NaN   \n",
       "7                  NaN                   NaN                    NaN   \n",
       "8                  NaN                   NaN                    NaN   \n",
       "9                  NaN                   NaN                    NaN   \n",
       "10                 NaN                   NaN                    NaN   \n",
       "11                 NaN                   NaN                    NaN   \n",
       "12                 NaN                   NaN                    NaN   \n",
       "13                 NaN                   NaN                    NaN   \n",
       "14                 NaN                   NaN                    NaN   \n",
       "15                 NaN                   NaN                    NaN   \n",
       "16                 NaN                   NaN                    NaN   \n",
       "17                 NaN                   NaN                    NaN   \n",
       "18                 NaN                   NaN                    NaN   \n",
       "19                 NaN                   NaN                    NaN   \n",
       "20                 NaN                   NaN                    NaN   \n",
       "21                 NaN                   NaN                    NaN   \n",
       "22  ur.014521275617.23                 Ghosh                    NaN   \n",
       "23  ur.014521275617.23                 Ghosh                    NaN   \n",
       "\n",
       "                      researchers.research_orgs research_orgs.acronym  \n",
       "0                                           NaN                   NaN  \n",
       "1                                           NaN                   NaN  \n",
       "2   [grid.11843.3f, grid.462209.b, grid.9156.b]                   NaN  \n",
       "3   [grid.11843.3f, grid.462209.b, grid.9156.b]                   NaN  \n",
       "4                                           NaN                   NaN  \n",
       "5                                           NaN                   NaN  \n",
       "6                                           NaN                   MCU  \n",
       "7                                           NaN                   NaN  \n",
       "8                                           NaN                   FJU  \n",
       "9                                           NaN                NKFUST  \n",
       "10                                          NaN                   MCU  \n",
       "11                                          NaN                   NaN  \n",
       "12                                          NaN                   FJU  \n",
       "13                                          NaN                NKFUST  \n",
       "14                                          NaN                   MCU  \n",
       "15                                          NaN                   NaN  \n",
       "16                                          NaN                   FJU  \n",
       "17                                          NaN                NKFUST  \n",
       "18                                          NaN                   MCU  \n",
       "19                                          NaN                   NaN  \n",
       "20                                          NaN                   FJU  \n",
       "21                                          NaN                NKFUST  \n",
       "22               [grid.465042.1, grid.507449.b]                   QCB  \n",
       "23               [grid.465042.1, grid.507449.b]                   QCB  "
      ]
     },
     "execution_count": 63,
     "metadata": {},
     "output_type": "execute_result"
    }
   ],
   "source": [
    "%%dsldf\n",
    "\n",
    "search publications for \"Japan AND Buddhism\"\n",
    "return publications[id+year+title+unnest(category_for)+unnest(researchers)+unnest(research_orgs)] limit 5"
   ]
  },
  {
   "cell_type": "markdown",
   "metadata": {
    "Collapsed": "false"
   },
   "source": [
    "## 6. Aggregations\n",
    "\n",
    "In a `return` phrase requesting one or more `facet` results, aggregation\n",
    "operations to perform during faceting can be specified after the facet\n",
    "name(s) by using the keyword `aggregate` followed by a comma-separated\n",
    "list of one or more `indicator` names corresponding to the `source`\n",
    "being searched."
   ]
  },
  {
   "cell_type": "code",
   "execution_count": 64,
   "metadata": {
    "Collapsed": "false"
   },
   "outputs": [
    {
     "name": "stdout",
     "output_type": "stream",
     "text": [
      "Returned Research_orgs: 5\n",
      "\u001b[2mTime: 28.21s\u001b[0m\n"
     ]
    },
    {
     "data": {
      "text/html": [
       "<div>\n",
       "<style scoped>\n",
       "    .dataframe tbody tr th:only-of-type {\n",
       "        vertical-align: middle;\n",
       "    }\n",
       "\n",
       "    .dataframe tbody tr th {\n",
       "        vertical-align: top;\n",
       "    }\n",
       "\n",
       "    .dataframe thead th {\n",
       "        text-align: right;\n",
       "    }\n",
       "</style>\n",
       "<table border=\"1\" class=\"dataframe\">\n",
       "  <thead>\n",
       "    <tr style=\"text-align: right;\">\n",
       "      <th></th>\n",
       "      <th>altmetric_median</th>\n",
       "      <th>city_name</th>\n",
       "      <th>count</th>\n",
       "      <th>country_name</th>\n",
       "      <th>id</th>\n",
       "      <th>latitude</th>\n",
       "      <th>linkout</th>\n",
       "      <th>longitude</th>\n",
       "      <th>name</th>\n",
       "      <th>rcr_avg</th>\n",
       "      <th>state_name</th>\n",
       "      <th>types</th>\n",
       "      <th>acronym</th>\n",
       "    </tr>\n",
       "  </thead>\n",
       "  <tbody>\n",
       "    <tr>\n",
       "      <th>0</th>\n",
       "      <td>5.0</td>\n",
       "      <td>Cambridge</td>\n",
       "      <td>270412</td>\n",
       "      <td>United States</td>\n",
       "      <td>grid.38142.3c</td>\n",
       "      <td>42.377052</td>\n",
       "      <td>[http://www.harvard.edu/]</td>\n",
       "      <td>-71.116650</td>\n",
       "      <td>Harvard University</td>\n",
       "      <td>2.493135</td>\n",
       "      <td>Massachusetts</td>\n",
       "      <td>[Education]</td>\n",
       "      <td>NaN</td>\n",
       "    </tr>\n",
       "    <tr>\n",
       "      <th>1</th>\n",
       "      <td>4.0</td>\n",
       "      <td>Toronto</td>\n",
       "      <td>177310</td>\n",
       "      <td>Canada</td>\n",
       "      <td>grid.17063.33</td>\n",
       "      <td>43.661667</td>\n",
       "      <td>[http://www.utoronto.ca/]</td>\n",
       "      <td>-79.395000</td>\n",
       "      <td>University of Toronto</td>\n",
       "      <td>2.051205</td>\n",
       "      <td>Ontario</td>\n",
       "      <td>[Education]</td>\n",
       "      <td>NaN</td>\n",
       "    </tr>\n",
       "    <tr>\n",
       "      <th>2</th>\n",
       "      <td>2.0</td>\n",
       "      <td>Tokyo</td>\n",
       "      <td>173910</td>\n",
       "      <td>Japan</td>\n",
       "      <td>grid.26999.3d</td>\n",
       "      <td>35.713333</td>\n",
       "      <td>[http://www.u-tokyo.ac.jp/en/]</td>\n",
       "      <td>139.762220</td>\n",
       "      <td>University of Tokyo</td>\n",
       "      <td>1.401742</td>\n",
       "      <td>NaN</td>\n",
       "      <td>[Education]</td>\n",
       "      <td>UT</td>\n",
       "    </tr>\n",
       "    <tr>\n",
       "      <th>3</th>\n",
       "      <td>2.0</td>\n",
       "      <td>São Paulo</td>\n",
       "      <td>168897</td>\n",
       "      <td>Brazil</td>\n",
       "      <td>grid.11899.38</td>\n",
       "      <td>-23.563051</td>\n",
       "      <td>[http://www5.usp.br/en/]</td>\n",
       "      <td>-46.730103</td>\n",
       "      <td>University of São Paulo</td>\n",
       "      <td>1.357370</td>\n",
       "      <td>NaN</td>\n",
       "      <td>[Education]</td>\n",
       "      <td>USP</td>\n",
       "    </tr>\n",
       "    <tr>\n",
       "      <th>4</th>\n",
       "      <td>2.0</td>\n",
       "      <td>Beijing</td>\n",
       "      <td>158961</td>\n",
       "      <td>China</td>\n",
       "      <td>grid.410726.6</td>\n",
       "      <td>39.909058</td>\n",
       "      <td>[http://www.ucas.ac.cn/]</td>\n",
       "      <td>116.250570</td>\n",
       "      <td>University of Chinese Academy of Sciences</td>\n",
       "      <td>1.678682</td>\n",
       "      <td>NaN</td>\n",
       "      <td>[Education]</td>\n",
       "      <td>UCAS</td>\n",
       "    </tr>\n",
       "  </tbody>\n",
       "</table>\n",
       "</div>"
      ],
      "text/plain": [
       "   altmetric_median  city_name   count   country_name             id  \\\n",
       "0               5.0  Cambridge  270412  United States  grid.38142.3c   \n",
       "1               4.0    Toronto  177310         Canada  grid.17063.33   \n",
       "2               2.0      Tokyo  173910          Japan  grid.26999.3d   \n",
       "3               2.0  São Paulo  168897         Brazil  grid.11899.38   \n",
       "4               2.0    Beijing  158961          China  grid.410726.6   \n",
       "\n",
       "    latitude                         linkout   longitude  \\\n",
       "0  42.377052       [http://www.harvard.edu/]  -71.116650   \n",
       "1  43.661667       [http://www.utoronto.ca/]  -79.395000   \n",
       "2  35.713333  [http://www.u-tokyo.ac.jp/en/]  139.762220   \n",
       "3 -23.563051        [http://www5.usp.br/en/]  -46.730103   \n",
       "4  39.909058        [http://www.ucas.ac.cn/]  116.250570   \n",
       "\n",
       "                                        name   rcr_avg     state_name  \\\n",
       "0                         Harvard University  2.493135  Massachusetts   \n",
       "1                      University of Toronto  2.051205        Ontario   \n",
       "2                        University of Tokyo  1.401742            NaN   \n",
       "3                    University of São Paulo  1.357370            NaN   \n",
       "4  University of Chinese Academy of Sciences  1.678682            NaN   \n",
       "\n",
       "         types acronym  \n",
       "0  [Education]     NaN  \n",
       "1  [Education]     NaN  \n",
       "2  [Education]      UT  \n",
       "3  [Education]     USP  \n",
       "4  [Education]    UCAS  "
      ]
     },
     "execution_count": 64,
     "metadata": {},
     "output_type": "execute_result"
    }
   ],
   "source": [
    "%%dsldf\n",
    "search publications \n",
    "    where year > 2010 \n",
    "return research_orgs  \n",
    "    aggregate rcr_avg, altmetric_median limit 5"
   ]
  },
  {
   "cell_type": "markdown",
   "metadata": {
    "Collapsed": "false"
   },
   "source": [
    "**What are the metrics/aggregations available?** See the data sources documentation for information about available [indicators](https://docs.dimensions.ai/dsl/datasource-publications.html#publications-indicators).  \n",
    "\n",
    "Alternatively, we can use the 'schema' API ([describe](https://docs.dimensions.ai/dsl/data-sources.html#metadata-api)) to return this information programmatically:"
   ]
  },
  {
   "cell_type": "code",
   "execution_count": 65,
   "metadata": {
    "Collapsed": "false"
   },
   "outputs": [
    {
     "name": "stdout",
     "output_type": "stream",
     "text": [
      "SOURCE: clinical_trials\n",
      "-- count  =>  Total count\n",
      "SOURCE: datasets\n",
      "-- count  =>  Total count\n",
      "SOURCE: grants\n",
      "-- count  =>  Total count\n",
      "-- funding  =>  Total funding amount, in USD.\n",
      "SOURCE: organizations\n",
      "-- count  =>  Total count\n",
      "SOURCE: patents\n",
      "-- count  =>  Total count\n",
      "SOURCE: policy_documents\n",
      "-- count  =>  Total count\n",
      "SOURCE: publications\n",
      "-- altmetric_avg  =>  Altmetric Attention Score mean\n",
      "-- altmetric_median  =>  Median Altmetric Attention Score\n",
      "-- citations_avg  =>  Arithmetic mean of citations\n",
      "-- citations_median  =>  Median of citations\n",
      "-- citations_total  =>  Aggregated number of citations\n",
      "-- count  =>  Total count\n",
      "-- fcr_gavg  =>  Geometric mean of `field_citation_ratio` field (note: This field cannot be used for sorting results).\n",
      "-- rcr_avg  =>  Arithmetic mean of `relative_citation_ratio` field.\n",
      "-- recent_citations_total  =>  For a given article, in a given year, the number of citations accrued in the last two year period. Single value stored per document, year window rolls over in July.\n",
      "SOURCE: reports\n",
      "-- count  =>  Total count\n",
      "SOURCE: researchers\n",
      "-- count  =>  Total count\n",
      "SOURCE: source_titles\n",
      "-- count  =>  Total count\n"
     ]
    }
   ],
   "source": [
    "schema = dsl.query(\"describe schema\")\n",
    "sources = [x for x in schema['sources']]\n",
    "# for each source name, extract metrics info\n",
    "for s in sources:\n",
    "    print(\"SOURCE:\", s)\n",
    "    for m in schema['sources'][s]['metrics']:\n",
    "        print(\"--\", schema['sources'][s]['metrics'][m]['name'], \" => \", schema['sources'][s]['metrics'][m]['description'], )"
   ]
  },
  {
   "cell_type": "markdown",
   "metadata": {
    "Collapsed": "false"
   },
   "source": [
    "**NOTE** In addition to any specified aggregations, `count` is always computed\n",
    "and reported when facet results are requested."
   ]
  },
  {
   "cell_type": "code",
   "execution_count": 66,
   "metadata": {
    "Collapsed": "false"
   },
   "outputs": [
    {
     "name": "stdout",
     "output_type": "stream",
     "text": [
      "Returned Funders: 5\n",
      "\u001b[2mTime: 6.39s\u001b[0m\n"
     ]
    },
    {
     "data": {
      "text/html": [
       "<div>\n",
       "<style scoped>\n",
       "    .dataframe tbody tr th:only-of-type {\n",
       "        vertical-align: middle;\n",
       "    }\n",
       "\n",
       "    .dataframe tbody tr th {\n",
       "        vertical-align: top;\n",
       "    }\n",
       "\n",
       "    .dataframe thead th {\n",
       "        text-align: right;\n",
       "    }\n",
       "</style>\n",
       "<table border=\"1\" class=\"dataframe\">\n",
       "  <thead>\n",
       "    <tr style=\"text-align: right;\">\n",
       "      <th></th>\n",
       "      <th>acronym</th>\n",
       "      <th>city_name</th>\n",
       "      <th>count</th>\n",
       "      <th>country_name</th>\n",
       "      <th>funding</th>\n",
       "      <th>id</th>\n",
       "      <th>latitude</th>\n",
       "      <th>linkout</th>\n",
       "      <th>longitude</th>\n",
       "      <th>name</th>\n",
       "      <th>types</th>\n",
       "      <th>state_name</th>\n",
       "    </tr>\n",
       "  </thead>\n",
       "  <tbody>\n",
       "    <tr>\n",
       "      <th>0</th>\n",
       "      <td>EC</td>\n",
       "      <td>Brussels</td>\n",
       "      <td>233</td>\n",
       "      <td>Belgium</td>\n",
       "      <td>1.190915e+09</td>\n",
       "      <td>grid.270680.b</td>\n",
       "      <td>50.851650</td>\n",
       "      <td>[http://ec.europa.eu/index_en.htm]</td>\n",
       "      <td>4.363670</td>\n",
       "      <td>European Commission</td>\n",
       "      <td>[Government]</td>\n",
       "      <td>NaN</td>\n",
       "    </tr>\n",
       "    <tr>\n",
       "      <th>1</th>\n",
       "      <td>NSF CISE</td>\n",
       "      <td>Arlington</td>\n",
       "      <td>191</td>\n",
       "      <td>United States</td>\n",
       "      <td>1.078005e+08</td>\n",
       "      <td>grid.457785.c</td>\n",
       "      <td>38.880580</td>\n",
       "      <td>[http://www.nsf.gov/dir/index.jsp?org=CISE]</td>\n",
       "      <td>-77.111000</td>\n",
       "      <td>Directorate for Computer &amp; Information Science...</td>\n",
       "      <td>[Government]</td>\n",
       "      <td>Virginia</td>\n",
       "    </tr>\n",
       "    <tr>\n",
       "      <th>2</th>\n",
       "      <td>EPSRC</td>\n",
       "      <td>Swindon</td>\n",
       "      <td>88</td>\n",
       "      <td>United Kingdom</td>\n",
       "      <td>6.816998e+07</td>\n",
       "      <td>grid.421091.f</td>\n",
       "      <td>51.567093</td>\n",
       "      <td>[https://www.epsrc.ac.uk/]</td>\n",
       "      <td>-1.784602</td>\n",
       "      <td>Engineering and Physical Sciences Research Cou...</td>\n",
       "      <td>[Government]</td>\n",
       "      <td>England</td>\n",
       "    </tr>\n",
       "    <tr>\n",
       "      <th>3</th>\n",
       "      <td>NCRD</td>\n",
       "      <td>Warsaw</td>\n",
       "      <td>8</td>\n",
       "      <td>Poland</td>\n",
       "      <td>5.036449e+07</td>\n",
       "      <td>grid.55047.33</td>\n",
       "      <td>52.227455</td>\n",
       "      <td>[http://www.ncbr.gov.pl/en/]</td>\n",
       "      <td>21.007630</td>\n",
       "      <td>National Centre for Research and Development</td>\n",
       "      <td>[Government]</td>\n",
       "      <td>NaN</td>\n",
       "    </tr>\n",
       "    <tr>\n",
       "      <th>4</th>\n",
       "      <td>ITC</td>\n",
       "      <td>Hong Kong</td>\n",
       "      <td>53</td>\n",
       "      <td>China</td>\n",
       "      <td>4.686881e+07</td>\n",
       "      <td>grid.453115.7</td>\n",
       "      <td>22.282640</td>\n",
       "      <td>[http://www.itc.gov.hk/en/about/org.htm]</td>\n",
       "      <td>114.166580</td>\n",
       "      <td>Innovation and Technology Commission</td>\n",
       "      <td>[Government]</td>\n",
       "      <td>NaN</td>\n",
       "    </tr>\n",
       "  </tbody>\n",
       "</table>\n",
       "</div>"
      ],
      "text/plain": [
       "    acronym  city_name  count    country_name       funding             id  \\\n",
       "0        EC   Brussels    233         Belgium  1.190915e+09  grid.270680.b   \n",
       "1  NSF CISE  Arlington    191   United States  1.078005e+08  grid.457785.c   \n",
       "2     EPSRC    Swindon     88  United Kingdom  6.816998e+07  grid.421091.f   \n",
       "3      NCRD     Warsaw      8          Poland  5.036449e+07  grid.55047.33   \n",
       "4       ITC  Hong Kong     53           China  4.686881e+07  grid.453115.7   \n",
       "\n",
       "    latitude                                      linkout   longitude  \\\n",
       "0  50.851650           [http://ec.europa.eu/index_en.htm]    4.363670   \n",
       "1  38.880580  [http://www.nsf.gov/dir/index.jsp?org=CISE]  -77.111000   \n",
       "2  51.567093                   [https://www.epsrc.ac.uk/]   -1.784602   \n",
       "3  52.227455                 [http://www.ncbr.gov.pl/en/]   21.007630   \n",
       "4  22.282640     [http://www.itc.gov.hk/en/about/org.htm]  114.166580   \n",
       "\n",
       "                                                name         types state_name  \n",
       "0                                European Commission  [Government]        NaN  \n",
       "1  Directorate for Computer & Information Science...  [Government]   Virginia  \n",
       "2  Engineering and Physical Sciences Research Cou...  [Government]    England  \n",
       "3       National Centre for Research and Development  [Government]        NaN  \n",
       "4               Innovation and Technology Commission  [Government]        NaN  "
      ]
     },
     "execution_count": 66,
     "metadata": {},
     "output_type": "execute_result"
    }
   ],
   "source": [
    "%%dsldf\n",
    "search grants \n",
    "    for \"5g network\" \n",
    "return funders \n",
    "    aggregate count, funding sort by funding limit 5 "
   ]
  },
  {
   "cell_type": "markdown",
   "metadata": {
    "Collapsed": "false"
   },
   "source": [
    "Aggregated total number of citations"
   ]
  },
  {
   "cell_type": "code",
   "execution_count": 67,
   "metadata": {
    "Collapsed": "false"
   },
   "outputs": [
    {
     "name": "stdout",
     "output_type": "stream",
     "text": [
      "Returned Funders: 5\n",
      "\u001b[2mTime: 2.45s\u001b[0m\n"
     ]
    },
    {
     "data": {
      "text/html": [
       "<div>\n",
       "<style scoped>\n",
       "    .dataframe tbody tr th:only-of-type {\n",
       "        vertical-align: middle;\n",
       "    }\n",
       "\n",
       "    .dataframe tbody tr th {\n",
       "        vertical-align: top;\n",
       "    }\n",
       "\n",
       "    .dataframe thead th {\n",
       "        text-align: right;\n",
       "    }\n",
       "</style>\n",
       "<table border=\"1\" class=\"dataframe\">\n",
       "  <thead>\n",
       "    <tr style=\"text-align: right;\">\n",
       "      <th></th>\n",
       "      <th>acronym</th>\n",
       "      <th>citations_total</th>\n",
       "      <th>city_name</th>\n",
       "      <th>count</th>\n",
       "      <th>country_name</th>\n",
       "      <th>id</th>\n",
       "      <th>latitude</th>\n",
       "      <th>linkout</th>\n",
       "      <th>longitude</th>\n",
       "      <th>name</th>\n",
       "      <th>state_name</th>\n",
       "      <th>types</th>\n",
       "    </tr>\n",
       "  </thead>\n",
       "  <tbody>\n",
       "    <tr>\n",
       "      <th>0</th>\n",
       "      <td>NIGMS</td>\n",
       "      <td>1135089.0</td>\n",
       "      <td>Bethesda</td>\n",
       "      <td>16271</td>\n",
       "      <td>United States</td>\n",
       "      <td>grid.280785.0</td>\n",
       "      <td>38.997833</td>\n",
       "      <td>[http://www.nigms.nih.gov/Pages/default.aspx]</td>\n",
       "      <td>-77.09938</td>\n",
       "      <td>National Institute of General Medical Sciences</td>\n",
       "      <td>Maryland</td>\n",
       "      <td>[Facility]</td>\n",
       "    </tr>\n",
       "    <tr>\n",
       "      <th>1</th>\n",
       "      <td>NCI</td>\n",
       "      <td>1122427.0</td>\n",
       "      <td>Bethesda</td>\n",
       "      <td>15835</td>\n",
       "      <td>United States</td>\n",
       "      <td>grid.48336.3a</td>\n",
       "      <td>39.004326</td>\n",
       "      <td>[http://www.cancer.gov/]</td>\n",
       "      <td>-77.10119</td>\n",
       "      <td>National Cancer Institute</td>\n",
       "      <td>Maryland</td>\n",
       "      <td>[Government]</td>\n",
       "    </tr>\n",
       "    <tr>\n",
       "      <th>2</th>\n",
       "      <td>EC</td>\n",
       "      <td>810843.0</td>\n",
       "      <td>Brussels</td>\n",
       "      <td>23487</td>\n",
       "      <td>Belgium</td>\n",
       "      <td>grid.270680.b</td>\n",
       "      <td>50.851650</td>\n",
       "      <td>[http://ec.europa.eu/index_en.htm]</td>\n",
       "      <td>4.36367</td>\n",
       "      <td>European Commission</td>\n",
       "      <td>NaN</td>\n",
       "      <td>[Government]</td>\n",
       "    </tr>\n",
       "    <tr>\n",
       "      <th>3</th>\n",
       "      <td>NHGRI</td>\n",
       "      <td>777548.0</td>\n",
       "      <td>Bethesda</td>\n",
       "      <td>5646</td>\n",
       "      <td>United States</td>\n",
       "      <td>grid.280128.1</td>\n",
       "      <td>38.996967</td>\n",
       "      <td>[https://www.genome.gov/]</td>\n",
       "      <td>-77.09693</td>\n",
       "      <td>National Human Genome Research Institute</td>\n",
       "      <td>Maryland</td>\n",
       "      <td>[Facility]</td>\n",
       "    </tr>\n",
       "    <tr>\n",
       "      <th>4</th>\n",
       "      <td>NSFC</td>\n",
       "      <td>725950.0</td>\n",
       "      <td>Beijing</td>\n",
       "      <td>47844</td>\n",
       "      <td>China</td>\n",
       "      <td>grid.419696.5</td>\n",
       "      <td>40.005177</td>\n",
       "      <td>[http://www.nsfc.gov.cn/publish/portal1/]</td>\n",
       "      <td>116.33983</td>\n",
       "      <td>National Natural Science Foundation of China</td>\n",
       "      <td>NaN</td>\n",
       "      <td>[Government]</td>\n",
       "    </tr>\n",
       "  </tbody>\n",
       "</table>\n",
       "</div>"
      ],
      "text/plain": [
       "  acronym  citations_total city_name  count   country_name             id  \\\n",
       "0   NIGMS        1135089.0  Bethesda  16271  United States  grid.280785.0   \n",
       "1     NCI        1122427.0  Bethesda  15835  United States  grid.48336.3a   \n",
       "2      EC         810843.0  Brussels  23487        Belgium  grid.270680.b   \n",
       "3   NHGRI         777548.0  Bethesda   5646  United States  grid.280128.1   \n",
       "4    NSFC         725950.0   Beijing  47844          China  grid.419696.5   \n",
       "\n",
       "    latitude                                        linkout  longitude  \\\n",
       "0  38.997833  [http://www.nigms.nih.gov/Pages/default.aspx]  -77.09938   \n",
       "1  39.004326                       [http://www.cancer.gov/]  -77.10119   \n",
       "2  50.851650             [http://ec.europa.eu/index_en.htm]    4.36367   \n",
       "3  38.996967                      [https://www.genome.gov/]  -77.09693   \n",
       "4  40.005177      [http://www.nsfc.gov.cn/publish/portal1/]  116.33983   \n",
       "\n",
       "                                             name state_name         types  \n",
       "0  National Institute of General Medical Sciences   Maryland    [Facility]  \n",
       "1                       National Cancer Institute   Maryland  [Government]  \n",
       "2                             European Commission        NaN  [Government]  \n",
       "3        National Human Genome Research Institute   Maryland    [Facility]  \n",
       "4    National Natural Science Foundation of China        NaN  [Government]  "
      ]
     },
     "execution_count": 67,
     "metadata": {},
     "output_type": "execute_result"
    }
   ],
   "source": [
    "%%dsldf\n",
    "search publications\n",
    "    for \"ontologies\"\n",
    "return funders \n",
    "    aggregate citations_total \n",
    "    sort by citations_total  limit 5"
   ]
  },
  {
   "cell_type": "markdown",
   "metadata": {
    "Collapsed": "false"
   },
   "source": [
    "Arithmetic mean number of citations"
   ]
  },
  {
   "cell_type": "code",
   "execution_count": 68,
   "metadata": {
    "Collapsed": "false"
   },
   "outputs": [
    {
     "name": "stdout",
     "output_type": "stream",
     "text": [
      "Returned Funders: 5\n",
      "\u001b[2mTime: 5.86s\u001b[0m\n"
     ]
    },
    {
     "data": {
      "text/html": [
       "<div>\n",
       "<style scoped>\n",
       "    .dataframe tbody tr th:only-of-type {\n",
       "        vertical-align: middle;\n",
       "    }\n",
       "\n",
       "    .dataframe tbody tr th {\n",
       "        vertical-align: top;\n",
       "    }\n",
       "\n",
       "    .dataframe thead th {\n",
       "        text-align: right;\n",
       "    }\n",
       "</style>\n",
       "<table border=\"1\" class=\"dataframe\">\n",
       "  <thead>\n",
       "    <tr style=\"text-align: right;\">\n",
       "      <th></th>\n",
       "      <th>acronym</th>\n",
       "      <th>citations_avg</th>\n",
       "      <th>city_name</th>\n",
       "      <th>count</th>\n",
       "      <th>country_name</th>\n",
       "      <th>id</th>\n",
       "      <th>latitude</th>\n",
       "      <th>linkout</th>\n",
       "      <th>longitude</th>\n",
       "      <th>name</th>\n",
       "      <th>types</th>\n",
       "      <th>state_name</th>\n",
       "    </tr>\n",
       "  </thead>\n",
       "  <tbody>\n",
       "    <tr>\n",
       "      <th>0</th>\n",
       "      <td>NIAA</td>\n",
       "      <td>431.0</td>\n",
       "      <td>London</td>\n",
       "      <td>1</td>\n",
       "      <td>United Kingdom</td>\n",
       "      <td>grid.453470.1</td>\n",
       "      <td>51.519370</td>\n",
       "      <td>[http://www.niaa.org.uk/]</td>\n",
       "      <td>-0.119685</td>\n",
       "      <td>National Institute of Academic Anaesthesia</td>\n",
       "      <td>[Facility]</td>\n",
       "      <td>NaN</td>\n",
       "    </tr>\n",
       "    <tr>\n",
       "      <th>1</th>\n",
       "      <td>NaN</td>\n",
       "      <td>400.0</td>\n",
       "      <td>Torrance</td>\n",
       "      <td>1</td>\n",
       "      <td>United States</td>\n",
       "      <td>grid.467593.a</td>\n",
       "      <td>33.851273</td>\n",
       "      <td>[http://www.toyota.com/usa/]</td>\n",
       "      <td>-118.316730</td>\n",
       "      <td>Toyota Motor Corporation (United States)</td>\n",
       "      <td>[Company]</td>\n",
       "      <td>California</td>\n",
       "    </tr>\n",
       "    <tr>\n",
       "      <th>2</th>\n",
       "      <td>AHF</td>\n",
       "      <td>364.0</td>\n",
       "      <td>Los Angeles</td>\n",
       "      <td>2</td>\n",
       "      <td>United States</td>\n",
       "      <td>grid.427827.c</td>\n",
       "      <td>34.098557</td>\n",
       "      <td>[http://www.aidshealth.org/#/]</td>\n",
       "      <td>-118.325600</td>\n",
       "      <td>AIDS Healthcare Foundation</td>\n",
       "      <td>[Nonprofit]</td>\n",
       "      <td>California</td>\n",
       "    </tr>\n",
       "    <tr>\n",
       "      <th>3</th>\n",
       "      <td>MDS</td>\n",
       "      <td>332.0</td>\n",
       "      <td>Milwaukee</td>\n",
       "      <td>1</td>\n",
       "      <td>United States</td>\n",
       "      <td>grid.469679.3</td>\n",
       "      <td>43.040794</td>\n",
       "      <td>[http://www.movementdisorders.org/MDS.htm]</td>\n",
       "      <td>-87.904630</td>\n",
       "      <td>International Parkinson and Movement Disorder ...</td>\n",
       "      <td>[Other]</td>\n",
       "      <td>Wisconsin</td>\n",
       "    </tr>\n",
       "    <tr>\n",
       "      <th>4</th>\n",
       "      <td>JRC</td>\n",
       "      <td>297.5</td>\n",
       "      <td>Brussels</td>\n",
       "      <td>2</td>\n",
       "      <td>Belgium</td>\n",
       "      <td>grid.489339.c</td>\n",
       "      <td>50.850403</td>\n",
       "      <td>[https://ec.europa.eu/info/departments/joint-r...</td>\n",
       "      <td>4.347922</td>\n",
       "      <td>Directorate-General Joint Research Centre</td>\n",
       "      <td>[Government]</td>\n",
       "      <td>NaN</td>\n",
       "    </tr>\n",
       "  </tbody>\n",
       "</table>\n",
       "</div>"
      ],
      "text/plain": [
       "  acronym  citations_avg    city_name  count    country_name             id  \\\n",
       "0    NIAA          431.0       London      1  United Kingdom  grid.453470.1   \n",
       "1     NaN          400.0     Torrance      1   United States  grid.467593.a   \n",
       "2     AHF          364.0  Los Angeles      2   United States  grid.427827.c   \n",
       "3     MDS          332.0    Milwaukee      1   United States  grid.469679.3   \n",
       "4     JRC          297.5     Brussels      2         Belgium  grid.489339.c   \n",
       "\n",
       "    latitude                                            linkout   longitude  \\\n",
       "0  51.519370                          [http://www.niaa.org.uk/]   -0.119685   \n",
       "1  33.851273                       [http://www.toyota.com/usa/] -118.316730   \n",
       "2  34.098557                     [http://www.aidshealth.org/#/] -118.325600   \n",
       "3  43.040794         [http://www.movementdisorders.org/MDS.htm]  -87.904630   \n",
       "4  50.850403  [https://ec.europa.eu/info/departments/joint-r...    4.347922   \n",
       "\n",
       "                                                name         types  state_name  \n",
       "0         National Institute of Academic Anaesthesia    [Facility]         NaN  \n",
       "1           Toyota Motor Corporation (United States)     [Company]  California  \n",
       "2                         AIDS Healthcare Foundation   [Nonprofit]  California  \n",
       "3  International Parkinson and Movement Disorder ...       [Other]   Wisconsin  \n",
       "4          Directorate-General Joint Research Centre  [Government]         NaN  "
      ]
     },
     "execution_count": 68,
     "metadata": {},
     "output_type": "execute_result"
    }
   ],
   "source": [
    "%%dsldf\n",
    "search publications\n",
    "return funders \n",
    "    aggregate citations_avg \n",
    "    sort by citations_avg limit 5"
   ]
  },
  {
   "cell_type": "markdown",
   "metadata": {
    "Collapsed": "false"
   },
   "source": [
    "Geometric mean of FCR\n"
   ]
  },
  {
   "cell_type": "code",
   "execution_count": 69,
   "metadata": {
    "Collapsed": "false"
   },
   "outputs": [
    {
     "name": "stdout",
     "output_type": "stream",
     "text": [
      "Returned Funders: 5\n",
      "\u001b[2mTime: 9.85s\u001b[0m\n"
     ]
    },
    {
     "data": {
      "text/html": [
       "<div>\n",
       "<style scoped>\n",
       "    .dataframe tbody tr th:only-of-type {\n",
       "        vertical-align: middle;\n",
       "    }\n",
       "\n",
       "    .dataframe tbody tr th {\n",
       "        vertical-align: top;\n",
       "    }\n",
       "\n",
       "    .dataframe thead th {\n",
       "        text-align: right;\n",
       "    }\n",
       "</style>\n",
       "<table border=\"1\" class=\"dataframe\">\n",
       "  <thead>\n",
       "    <tr style=\"text-align: right;\">\n",
       "      <th></th>\n",
       "      <th>acronym</th>\n",
       "      <th>city_name</th>\n",
       "      <th>count</th>\n",
       "      <th>country_name</th>\n",
       "      <th>fcr_gavg</th>\n",
       "      <th>id</th>\n",
       "      <th>latitude</th>\n",
       "      <th>linkout</th>\n",
       "      <th>longitude</th>\n",
       "      <th>name</th>\n",
       "      <th>types</th>\n",
       "      <th>state_name</th>\n",
       "    </tr>\n",
       "  </thead>\n",
       "  <tbody>\n",
       "    <tr>\n",
       "      <th>0</th>\n",
       "      <td>NSFC</td>\n",
       "      <td>Beijing</td>\n",
       "      <td>2616091</td>\n",
       "      <td>China</td>\n",
       "      <td>2.481316</td>\n",
       "      <td>grid.419696.5</td>\n",
       "      <td>40.005177</td>\n",
       "      <td>[http://www.nsfc.gov.cn/publish/portal1/]</td>\n",
       "      <td>116.339830</td>\n",
       "      <td>National Natural Science Foundation of China</td>\n",
       "      <td>[Government]</td>\n",
       "      <td>NaN</td>\n",
       "    </tr>\n",
       "    <tr>\n",
       "      <th>1</th>\n",
       "      <td>EC</td>\n",
       "      <td>Brussels</td>\n",
       "      <td>892845</td>\n",
       "      <td>Belgium</td>\n",
       "      <td>3.287627</td>\n",
       "      <td>grid.270680.b</td>\n",
       "      <td>50.851650</td>\n",
       "      <td>[http://ec.europa.eu/index_en.htm]</td>\n",
       "      <td>4.363670</td>\n",
       "      <td>European Commission</td>\n",
       "      <td>[Government]</td>\n",
       "      <td>NaN</td>\n",
       "    </tr>\n",
       "    <tr>\n",
       "      <th>2</th>\n",
       "      <td>MOST</td>\n",
       "      <td>Beijing</td>\n",
       "      <td>805786</td>\n",
       "      <td>China</td>\n",
       "      <td>2.689144</td>\n",
       "      <td>grid.424020.0</td>\n",
       "      <td>39.827835</td>\n",
       "      <td>[http://www.most.gov.cn/eng/]</td>\n",
       "      <td>116.316284</td>\n",
       "      <td>Ministry of Science and Technology of the Peop...</td>\n",
       "      <td>[Government]</td>\n",
       "      <td>NaN</td>\n",
       "    </tr>\n",
       "    <tr>\n",
       "      <th>3</th>\n",
       "      <td>JSPS</td>\n",
       "      <td>Tokyo</td>\n",
       "      <td>712381</td>\n",
       "      <td>Japan</td>\n",
       "      <td>2.296413</td>\n",
       "      <td>grid.54432.34</td>\n",
       "      <td>35.687160</td>\n",
       "      <td>[http://www.jsps.go.jp/]</td>\n",
       "      <td>139.740390</td>\n",
       "      <td>Japan Society for the Promotion of Science</td>\n",
       "      <td>[Nonprofit]</td>\n",
       "      <td>NaN</td>\n",
       "    </tr>\n",
       "    <tr>\n",
       "      <th>4</th>\n",
       "      <td>NCI</td>\n",
       "      <td>Bethesda</td>\n",
       "      <td>622804</td>\n",
       "      <td>United States</td>\n",
       "      <td>4.812511</td>\n",
       "      <td>grid.48336.3a</td>\n",
       "      <td>39.004326</td>\n",
       "      <td>[http://www.cancer.gov/]</td>\n",
       "      <td>-77.101190</td>\n",
       "      <td>National Cancer Institute</td>\n",
       "      <td>[Government]</td>\n",
       "      <td>Maryland</td>\n",
       "    </tr>\n",
       "  </tbody>\n",
       "</table>\n",
       "</div>"
      ],
      "text/plain": [
       "  acronym city_name    count   country_name  fcr_gavg             id  \\\n",
       "0    NSFC   Beijing  2616091          China  2.481316  grid.419696.5   \n",
       "1      EC  Brussels   892845        Belgium  3.287627  grid.270680.b   \n",
       "2    MOST   Beijing   805786          China  2.689144  grid.424020.0   \n",
       "3    JSPS     Tokyo   712381          Japan  2.296413  grid.54432.34   \n",
       "4     NCI  Bethesda   622804  United States  4.812511  grid.48336.3a   \n",
       "\n",
       "    latitude                                    linkout   longitude  \\\n",
       "0  40.005177  [http://www.nsfc.gov.cn/publish/portal1/]  116.339830   \n",
       "1  50.851650         [http://ec.europa.eu/index_en.htm]    4.363670   \n",
       "2  39.827835              [http://www.most.gov.cn/eng/]  116.316284   \n",
       "3  35.687160                   [http://www.jsps.go.jp/]  139.740390   \n",
       "4  39.004326                   [http://www.cancer.gov/]  -77.101190   \n",
       "\n",
       "                                                name         types state_name  \n",
       "0       National Natural Science Foundation of China  [Government]        NaN  \n",
       "1                                European Commission  [Government]        NaN  \n",
       "2  Ministry of Science and Technology of the Peop...  [Government]        NaN  \n",
       "3         Japan Society for the Promotion of Science   [Nonprofit]        NaN  \n",
       "4                          National Cancer Institute  [Government]   Maryland  "
      ]
     },
     "execution_count": 69,
     "metadata": {},
     "output_type": "execute_result"
    }
   ],
   "source": [
    "%%dsldf\n",
    "search publications\n",
    "return funders \n",
    "    aggregate fcr_gavg limit 5"
   ]
  },
  {
   "cell_type": "markdown",
   "metadata": {
    "Collapsed": "false"
   },
   "source": [
    "Median Altmetric Attention Score"
   ]
  },
  {
   "cell_type": "code",
   "execution_count": 70,
   "metadata": {
    "Collapsed": "false"
   },
   "outputs": [
    {
     "name": "stdout",
     "output_type": "stream",
     "text": [
      "Returned Funders: 5\n",
      "\u001b[2mTime: 12.95s\u001b[0m\n"
     ]
    },
    {
     "data": {
      "text/html": [
       "<div>\n",
       "<style scoped>\n",
       "    .dataframe tbody tr th:only-of-type {\n",
       "        vertical-align: middle;\n",
       "    }\n",
       "\n",
       "    .dataframe tbody tr th {\n",
       "        vertical-align: top;\n",
       "    }\n",
       "\n",
       "    .dataframe thead th {\n",
       "        text-align: right;\n",
       "    }\n",
       "</style>\n",
       "<table border=\"1\" class=\"dataframe\">\n",
       "  <thead>\n",
       "    <tr style=\"text-align: right;\">\n",
       "      <th></th>\n",
       "      <th>acronym</th>\n",
       "      <th>altmetric_median</th>\n",
       "      <th>city_name</th>\n",
       "      <th>count</th>\n",
       "      <th>country_name</th>\n",
       "      <th>id</th>\n",
       "      <th>latitude</th>\n",
       "      <th>linkout</th>\n",
       "      <th>longitude</th>\n",
       "      <th>name</th>\n",
       "      <th>state_name</th>\n",
       "      <th>types</th>\n",
       "    </tr>\n",
       "  </thead>\n",
       "  <tbody>\n",
       "    <tr>\n",
       "      <th>0</th>\n",
       "      <td>NPT</td>\n",
       "      <td>750.0</td>\n",
       "      <td>Jenkintown</td>\n",
       "      <td>1</td>\n",
       "      <td>United States</td>\n",
       "      <td>grid.479428.4</td>\n",
       "      <td>40.090862</td>\n",
       "      <td>[https://www.nptrust.org/]</td>\n",
       "      <td>-75.136150</td>\n",
       "      <td>National Philanthropic Trust</td>\n",
       "      <td>Pennsylvania</td>\n",
       "      <td>[Nonprofit]</td>\n",
       "    </tr>\n",
       "    <tr>\n",
       "      <th>1</th>\n",
       "      <td>NaN</td>\n",
       "      <td>678.0</td>\n",
       "      <td>Tel Aviv</td>\n",
       "      <td>1</td>\n",
       "      <td>Israel</td>\n",
       "      <td>grid.481313.c</td>\n",
       "      <td>32.089615</td>\n",
       "      <td>[http://www.rcf.org.il/index.php?lang=en]</td>\n",
       "      <td>34.778706</td>\n",
       "      <td>Rothschild Caesarea Foundation</td>\n",
       "      <td>NaN</td>\n",
       "      <td>[Nonprofit]</td>\n",
       "    </tr>\n",
       "    <tr>\n",
       "      <th>2</th>\n",
       "      <td>APSF</td>\n",
       "      <td>666.0</td>\n",
       "      <td>Indianapolis</td>\n",
       "      <td>1</td>\n",
       "      <td>United States</td>\n",
       "      <td>grid.478218.0</td>\n",
       "      <td>39.651688</td>\n",
       "      <td>[http://www.apsf.org/]</td>\n",
       "      <td>-86.157870</td>\n",
       "      <td>Anesthesia Patient Safety Foundation</td>\n",
       "      <td>Indiana</td>\n",
       "      <td>[Nonprofit]</td>\n",
       "    </tr>\n",
       "    <tr>\n",
       "      <th>3</th>\n",
       "      <td>TOS</td>\n",
       "      <td>649.0</td>\n",
       "      <td>Silver Spring</td>\n",
       "      <td>1</td>\n",
       "      <td>United States</td>\n",
       "      <td>grid.430827.a</td>\n",
       "      <td>38.998497</td>\n",
       "      <td>[http://www.obesity.org/]</td>\n",
       "      <td>-77.029990</td>\n",
       "      <td>Obesity Society</td>\n",
       "      <td>Maryland</td>\n",
       "      <td>[Nonprofit]</td>\n",
       "    </tr>\n",
       "    <tr>\n",
       "      <th>4</th>\n",
       "      <td>NaN</td>\n",
       "      <td>562.5</td>\n",
       "      <td>St Louis</td>\n",
       "      <td>2</td>\n",
       "      <td>United States</td>\n",
       "      <td>grid.453832.b</td>\n",
       "      <td>38.635190</td>\n",
       "      <td>[http://www.longerlife.org/]</td>\n",
       "      <td>-90.262726</td>\n",
       "      <td>Longer Life Foundation</td>\n",
       "      <td>Missouri</td>\n",
       "      <td>[Nonprofit]</td>\n",
       "    </tr>\n",
       "  </tbody>\n",
       "</table>\n",
       "</div>"
      ],
      "text/plain": [
       "  acronym  altmetric_median      city_name  count   country_name  \\\n",
       "0     NPT             750.0     Jenkintown      1  United States   \n",
       "1     NaN             678.0       Tel Aviv      1         Israel   \n",
       "2    APSF             666.0   Indianapolis      1  United States   \n",
       "3     TOS             649.0  Silver Spring      1  United States   \n",
       "4     NaN             562.5       St Louis      2  United States   \n",
       "\n",
       "              id   latitude                                    linkout  \\\n",
       "0  grid.479428.4  40.090862                 [https://www.nptrust.org/]   \n",
       "1  grid.481313.c  32.089615  [http://www.rcf.org.il/index.php?lang=en]   \n",
       "2  grid.478218.0  39.651688                     [http://www.apsf.org/]   \n",
       "3  grid.430827.a  38.998497                  [http://www.obesity.org/]   \n",
       "4  grid.453832.b  38.635190               [http://www.longerlife.org/]   \n",
       "\n",
       "   longitude                                  name    state_name        types  \n",
       "0 -75.136150          National Philanthropic Trust  Pennsylvania  [Nonprofit]  \n",
       "1  34.778706        Rothschild Caesarea Foundation           NaN  [Nonprofit]  \n",
       "2 -86.157870  Anesthesia Patient Safety Foundation       Indiana  [Nonprofit]  \n",
       "3 -77.029990                       Obesity Society      Maryland  [Nonprofit]  \n",
       "4 -90.262726                Longer Life Foundation      Missouri  [Nonprofit]  "
      ]
     },
     "execution_count": 70,
     "metadata": {},
     "output_type": "execute_result"
    }
   ],
   "source": [
    "%%dsldf \n",
    "search publications\n",
    "return funders aggregate altmetric_median \n",
    "    sort by altmetric_median limit 5 "
   ]
  },
  {
   "cell_type": "markdown",
   "metadata": {
    "Collapsed": "false"
   },
   "source": [
    "### 6.1 Complex aggregations\n",
    "\n",
    "The `return` phrase may be followed by a function expression, to return additional calculations, such as per year funding or citations statistics. These functions may take their own arguments, and are calculated using the source data as specified in the `search part` of the query.\n",
    "\n",
    "At the time of writing, there are two functions available: Publications `citations_per_year` and Grants `funding_per_year`"
   ]
  },
  {
   "cell_type": "markdown",
   "metadata": {
    "Collapsed": "false"
   },
   "source": [
    "#### Publications `citations_per_year`\n",
    "\n",
    "Publication citations is the number of times that publications have been cited by other publications in the database. This function returns the number of citations received in each year."
   ]
  },
  {
   "cell_type": "code",
   "execution_count": 71,
   "metadata": {
    "Collapsed": "false"
   },
   "outputs": [
    {
     "name": "stdout",
     "output_type": "stream",
     "text": [
      "Returned Citations_per_year: 11\n",
      "\u001b[2mTime: 1.38s\u001b[0m\n"
     ]
    },
    {
     "data": {
      "text/html": [
       "<div>\n",
       "<style scoped>\n",
       "    .dataframe tbody tr th:only-of-type {\n",
       "        vertical-align: middle;\n",
       "    }\n",
       "\n",
       "    .dataframe tbody tr th {\n",
       "        vertical-align: top;\n",
       "    }\n",
       "\n",
       "    .dataframe thead th {\n",
       "        text-align: right;\n",
       "    }\n",
       "</style>\n",
       "<table border=\"1\" class=\"dataframe\">\n",
       "  <thead>\n",
       "    <tr style=\"text-align: right;\">\n",
       "      <th></th>\n",
       "      <th>citations_per_year</th>\n",
       "    </tr>\n",
       "  </thead>\n",
       "  <tbody>\n",
       "    <tr>\n",
       "      <th>2010</th>\n",
       "      <td>13.0</td>\n",
       "    </tr>\n",
       "    <tr>\n",
       "      <th>2011</th>\n",
       "      <td>14.0</td>\n",
       "    </tr>\n",
       "    <tr>\n",
       "      <th>2012</th>\n",
       "      <td>16.0</td>\n",
       "    </tr>\n",
       "    <tr>\n",
       "      <th>2013</th>\n",
       "      <td>31.0</td>\n",
       "    </tr>\n",
       "    <tr>\n",
       "      <th>2014</th>\n",
       "      <td>42.0</td>\n",
       "    </tr>\n",
       "    <tr>\n",
       "      <th>2015</th>\n",
       "      <td>170.0</td>\n",
       "    </tr>\n",
       "    <tr>\n",
       "      <th>2016</th>\n",
       "      <td>1007.0</td>\n",
       "    </tr>\n",
       "    <tr>\n",
       "      <th>2017</th>\n",
       "      <td>6320.0</td>\n",
       "    </tr>\n",
       "    <tr>\n",
       "      <th>2018</th>\n",
       "      <td>18707.0</td>\n",
       "    </tr>\n",
       "    <tr>\n",
       "      <th>2019</th>\n",
       "      <td>35474.0</td>\n",
       "    </tr>\n",
       "    <tr>\n",
       "      <th>2020</th>\n",
       "      <td>62327.0</td>\n",
       "    </tr>\n",
       "  </tbody>\n",
       "</table>\n",
       "</div>"
      ],
      "text/plain": [
       "      citations_per_year\n",
       "2010                13.0\n",
       "2011                14.0\n",
       "2012                16.0\n",
       "2013                31.0\n",
       "2014                42.0\n",
       "2015               170.0\n",
       "2016              1007.0\n",
       "2017              6320.0\n",
       "2018             18707.0\n",
       "2019             35474.0\n",
       "2020             62327.0"
      ]
     },
     "execution_count": 71,
     "metadata": {},
     "output_type": "execute_result"
    }
   ],
   "source": [
    "%%dsldf\n",
    "\n",
    "search publications for \"brexit\"\n",
    "return citations_per_year(2010, 2020)"
   ]
  },
  {
   "cell_type": "markdown",
   "metadata": {
    "Collapsed": "false"
   },
   "source": [
    "#### Grants `funding_per_year`\n",
    "\n",
    "Returns grant funding per year in the given currency, starting from specified year, ending in specified year (including).\n",
    "\n",
    "Supported currencies are: CAD,USD,JPY,GBP,CHF,CNY,EUR,NZD,AUD"
   ]
  },
  {
   "cell_type": "code",
   "execution_count": 72,
   "metadata": {
    "Collapsed": "false"
   },
   "outputs": [
    {
     "name": "stdout",
     "output_type": "stream",
     "text": [
      "Returned Funding_per_year: 11\n",
      "\u001b[2mTime: 0.80s\u001b[0m\n"
     ]
    },
    {
     "data": {
      "text/html": [
       "<div>\n",
       "<style scoped>\n",
       "    .dataframe tbody tr th:only-of-type {\n",
       "        vertical-align: middle;\n",
       "    }\n",
       "\n",
       "    .dataframe tbody tr th {\n",
       "        vertical-align: top;\n",
       "    }\n",
       "\n",
       "    .dataframe thead th {\n",
       "        text-align: right;\n",
       "    }\n",
       "</style>\n",
       "<table border=\"1\" class=\"dataframe\">\n",
       "  <thead>\n",
       "    <tr style=\"text-align: right;\">\n",
       "      <th></th>\n",
       "      <th>funding_per_year</th>\n",
       "    </tr>\n",
       "  </thead>\n",
       "  <tbody>\n",
       "    <tr>\n",
       "      <th>2010</th>\n",
       "      <td>0.0</td>\n",
       "    </tr>\n",
       "    <tr>\n",
       "      <th>2011</th>\n",
       "      <td>0.0</td>\n",
       "    </tr>\n",
       "    <tr>\n",
       "      <th>2012</th>\n",
       "      <td>0.0</td>\n",
       "    </tr>\n",
       "    <tr>\n",
       "      <th>2013</th>\n",
       "      <td>4412.0</td>\n",
       "    </tr>\n",
       "    <tr>\n",
       "      <th>2014</th>\n",
       "      <td>10020.0</td>\n",
       "    </tr>\n",
       "    <tr>\n",
       "      <th>2015</th>\n",
       "      <td>313173.0</td>\n",
       "    </tr>\n",
       "    <tr>\n",
       "      <th>2016</th>\n",
       "      <td>788787.0</td>\n",
       "    </tr>\n",
       "    <tr>\n",
       "      <th>2017</th>\n",
       "      <td>6194077.0</td>\n",
       "    </tr>\n",
       "    <tr>\n",
       "      <th>2018</th>\n",
       "      <td>15698532.0</td>\n",
       "    </tr>\n",
       "    <tr>\n",
       "      <th>2019</th>\n",
       "      <td>34474721.0</td>\n",
       "    </tr>\n",
       "    <tr>\n",
       "      <th>2020</th>\n",
       "      <td>42305367.0</td>\n",
       "    </tr>\n",
       "  </tbody>\n",
       "</table>\n",
       "</div>"
      ],
      "text/plain": [
       "      funding_per_year\n",
       "2010               0.0\n",
       "2011               0.0\n",
       "2012               0.0\n",
       "2013            4412.0\n",
       "2014           10020.0\n",
       "2015          313173.0\n",
       "2016          788787.0\n",
       "2017         6194077.0\n",
       "2018        15698532.0\n",
       "2019        34474721.0\n",
       "2020        42305367.0"
      ]
     },
     "execution_count": 72,
     "metadata": {},
     "output_type": "execute_result"
    }
   ],
   "source": [
    "%%dsldf\n",
    "\n",
    "search grants for \"brexit\"\n",
    "return funding_per_year(2010, 2020, \"USD\")\n"
   ]
  },
  {
   "cell_type": "code",
   "execution_count": null,
   "metadata": {
    "Collapsed": "false"
   },
   "outputs": [],
   "source": []
  }
 ],
 "metadata": {
  "kernelspec": {
   "display_name": "Python 3 (ipykernel)",
   "language": "python",
   "name": "python3"
  },
  "language_info": {
   "codemirror_mode": {
    "name": "ipython",
    "version": 3
   },
   "file_extension": ".py",
   "mimetype": "text/x-python",
   "name": "python",
   "nbconvert_exporter": "python",
   "pygments_lexer": "ipython3",
   "version": "3.9.9"
  },
  "toc-showcode": false,
  "toc-showmarkdowntxt": false,
  "toc-showtags": false
 },
 "nbformat": 4,
 "nbformat_minor": 4
}
