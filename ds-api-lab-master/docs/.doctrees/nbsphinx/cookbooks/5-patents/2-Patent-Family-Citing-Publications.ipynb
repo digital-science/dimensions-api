{
 "cells": [
  {
   "cell_type": "markdown",
   "metadata": {
    "Collapsed": "false",
    "colab_type": "text",
    "id": "bk6_AaX1Vyf7"
   },
   "source": [
    "# Patent publication references, for an entire patent family\n",
    "\n",
    "This notebook shows how to use the [Dimensions Analytics API](https://www.dimensions.ai/dimensions-apis/) to identify all the publications referenced by patents, for all the patents that belong to the same [patent family](https://www.epo.org/searching-for-patents/helpful-resources/first-time-here/patent-families.html).\n",
    "\n",
    "There are the steps: \n",
    "\n",
    "1. We start from a specific patent Dimensions ID and obtain its family ID\n",
    "2. Using the family ID, we query the [patents API](https://docs.dimensions.ai/dsl/datasource-patents.html) to search for all related patents and return the publications IDs they reference\n",
    "3. Finally, we query the [publications API](https://docs.dimensions.ai/dsl/datasource-publications.html) to obtain other useful publication metadata e.g. title, publisher, journals etc.. \n",
    "\n",
    "These sample results can be explored in [Google Sheets](https://docs.google.com/spreadsheets/d/17aCE36hsKapt9nOzvP1KtbmmsMuj5O-F7ckcPEU_bUE). "
   ]
  },
  {
   "cell_type": "code",
   "execution_count": 1,
   "metadata": {},
   "outputs": [
    {
     "name": "stdout",
     "output_type": "stream",
     "text": [
      "==\n",
      "CHANGELOG\n",
      "This notebook was last run on Jan 25, 2022\n",
      "==\n"
     ]
    }
   ],
   "source": [
    "import datetime\n",
    "print(\"==\\nCHANGELOG\\nThis notebook was last run on %s\\n==\" % datetime.date.today().strftime('%b %d, %Y'))"
   ]
  },
  {
   "cell_type": "markdown",
   "metadata": {
    "Collapsed": "false",
    "colab_type": "text",
    "id": "hMaQlB7DG8Vw"
   },
   "source": [
    "## Prerequisites\n",
    "\n",
    "This notebook assumes you have installed the [Dimcli](https://pypi.org/project/dimcli/) library and are familiar with the ['Getting Started' tutorial](https://api-lab.dimensions.ai/cookbooks/1-getting-started/1-Using-the-Dimcli-library-to-query-the-API.html)."
   ]
  },
  {
   "cell_type": "code",
   "execution_count": 2,
   "metadata": {
    "Collapsed": "false"
   },
   "outputs": [
    {
     "name": "stderr",
     "output_type": "stream",
     "text": [
      "\u001b[2mSearching config file credentials for 'https://app.dimensions.ai' endpoint..\u001b[0m\n"
     ]
    },
    {
     "name": "stdout",
     "output_type": "stream",
     "text": [
      "==\n",
      "Logging in..\n",
      "\u001b[2mDimcli - Dimensions API Client (v0.9.6)\u001b[0m\n",
      "\u001b[2mConnected to: <https://app.dimensions.ai/api/dsl> - DSL v2.0\u001b[0m\n",
      "\u001b[2mMethod: dsl.ini file\u001b[0m\n"
     ]
    }
   ],
   "source": [
    "!pip install dimcli tqdm -U --quiet \n",
    "\n",
    "import dimcli\n",
    "from dimcli.utils import *\n",
    "import sys, json, time, os\n",
    "from tqdm.notebook import tqdm\n",
    "import pandas as pd\n",
    "#\n",
    "\n",
    "print(\"==\\nLogging in..\")\n",
    "# https://digital-science.github.io/dimcli/getting-started.html#authentication\n",
    "ENDPOINT = \"https://app.dimensions.ai\"\n",
    "if 'google.colab' in sys.modules:\n",
    "  import getpass\n",
    "  KEY = getpass.getpass(prompt='API Key: ')  \n",
    "  dimcli.login(key=KEY, endpoint=ENDPOINT)\n",
    "else:\n",
    "  KEY = \"\"\n",
    "  dimcli.login(key=KEY, endpoint=ENDPOINT)\n",
    "dsl = dimcli.Dsl()"
   ]
  },
  {
   "cell_type": "markdown",
   "metadata": {
    "Collapsed": "false"
   },
   "source": [
    "## 1. Search for the patent ID and return the family ID.\n",
    "\n",
    "As a starting point, let's take patent ID `US-20210108231-A1`. \n",
    "\n",
    "> View this patent record in Dimensions: [Methods and compositions for rna-directed target dna modification and for rna-directed modulation of transcription](https://app.dimensions.ai/details/patent/US-20210108231-A1)"
   ]
  },
  {
   "cell_type": "code",
   "execution_count": 3,
   "metadata": {
    "Collapsed": "false"
   },
   "outputs": [
    {
     "name": "stdout",
     "output_type": "stream",
     "text": [
      "Returned Family_id: 1\n",
      "\u001b[2mTime: 0.60s\u001b[0m\n",
      "Found family_id: 49624232\n"
     ]
    }
   ],
   "source": [
    "patent_id = \"US-20210108231-A1\" #@param {type:\"string\"}\n",
    "\n",
    "q_family_id = dsl.query(f\"\"\"\n",
    "    search patents\n",
    "    where id = \"{patent_id}\"\n",
    "    return family_id\n",
    "\"\"\")\n",
    "\n",
    "try:\n",
    "    family_id = q_family_id['family_id'][0]['id']\n",
    "    print(\"Found family_id:\",  family_id)\n",
    "except:\n",
    "    print(\"No family ID found. \\nFull API results:\\n\", str(q_family_id.json))"
   ]
  },
  {
   "cell_type": "markdown",
   "metadata": {
    "Collapsed": "false"
   },
   "source": [
    "## 2. Use the family ID to search for all related patents and return the publications IDs they reference"
   ]
  },
  {
   "cell_type": "markdown",
   "metadata": {
    "Collapsed": "false"
   },
   "source": [
    "A few things to note about the query below: \n",
    "\n",
    "* The `unnest` operator in `return patents[unnest(publication_ids)]` is used to 'explode' lists of its into a single value per column - [more info here](https://docs.dimensions.ai/dsl/language.html#unnesting-multi-value-entity-fields)\n",
    "* The filter `publication_ids is not empty` means that only patents that have at least one publication reference get returned\n",
    "* The return statement could be changed to `..return publications` i.e. a facet (aggregation). However remember that all facet queries allow a maximum of 1000 results.. so to ensure we get all results for any family ID we simply return one line per patent and aggregate data manually. \n",
    "* Finally, we should keep in mind that results contain duplicate rows cause the more than one patent (in the same family) may be referencing the same publication. We'll dedup the data later but keep this infos, as it'll tell us *which publications are cited most frequently*. \n"
   ]
  },
  {
   "cell_type": "code",
   "execution_count": 4,
   "metadata": {
    "Collapsed": "false"
   },
   "outputs": [
    {
     "name": "stderr",
     "output_type": "stream",
     "text": [
      "Starting iteration with limit=1000 skip=0 ...\u001b[0m\n",
      "0-55 / 55 (0.81s)\u001b[0m\n",
      "55-55 / 55 (0.56s)\u001b[0m\n",
      "===\n",
      "Records extracted: 11401\u001b[0m\n"
     ]
    }
   ],
   "source": [
    "\n",
    "#\n",
    "# get all patents from same family\n",
    "all_patents = []\n",
    "\n",
    "q_all_patents = dsl.query_iterative(f\"\"\"\n",
    "    search patents\n",
    "    where family_id = {family_id}\n",
    "    and publication_ids is not empty\n",
    "    return patents[unnest(publication_ids)]\n",
    "\"\"\")\n",
    "\n",
    "df = q_all_patents.as_dataframe()\n",
    "\n",
    "#\n",
    "# pivot on IDs and count frequency \n",
    "references_list = df.groupby(df.columns.tolist(),as_index=False).size().sort_values(\"size\", ascending=False)\n"
   ]
  },
  {
   "cell_type": "code",
   "execution_count": 5,
   "metadata": {
    "Collapsed": "false"
   },
   "outputs": [
    {
     "data": {
      "text/html": [
       "<div>\n",
       "<style scoped>\n",
       "    .dataframe tbody tr th:only-of-type {\n",
       "        vertical-align: middle;\n",
       "    }\n",
       "\n",
       "    .dataframe tbody tr th {\n",
       "        vertical-align: top;\n",
       "    }\n",
       "\n",
       "    .dataframe thead th {\n",
       "        text-align: right;\n",
       "    }\n",
       "</style>\n",
       "<table border=\"1\" class=\"dataframe\">\n",
       "  <thead>\n",
       "    <tr style=\"text-align: right;\">\n",
       "      <th></th>\n",
       "      <th>publication_ids</th>\n",
       "      <th>size</th>\n",
       "    </tr>\n",
       "  </thead>\n",
       "  <tbody>\n",
       "    <tr>\n",
       "      <th>206</th>\n",
       "      <td>pub.1030591890</td>\n",
       "      <td>50</td>\n",
       "    </tr>\n",
       "    <tr>\n",
       "      <th>323</th>\n",
       "      <td>pub.1052438070</td>\n",
       "      <td>47</td>\n",
       "    </tr>\n",
       "    <tr>\n",
       "      <th>276</th>\n",
       "      <td>pub.1041850060</td>\n",
       "      <td>47</td>\n",
       "    </tr>\n",
       "    <tr>\n",
       "      <th>132</th>\n",
       "      <td>pub.1019873131</td>\n",
       "      <td>44</td>\n",
       "    </tr>\n",
       "    <tr>\n",
       "      <th>151</th>\n",
       "      <td>pub.1022072971</td>\n",
       "      <td>44</td>\n",
       "    </tr>\n",
       "    <tr>\n",
       "      <th>152</th>\n",
       "      <td>pub.1022097335</td>\n",
       "      <td>40</td>\n",
       "    </tr>\n",
       "    <tr>\n",
       "      <th>129</th>\n",
       "      <td>pub.1019168198</td>\n",
       "      <td>39</td>\n",
       "    </tr>\n",
       "    <tr>\n",
       "      <th>260</th>\n",
       "      <td>pub.1039119530</td>\n",
       "      <td>39</td>\n",
       "    </tr>\n",
       "    <tr>\n",
       "      <th>285</th>\n",
       "      <td>pub.1043148894</td>\n",
       "      <td>39</td>\n",
       "    </tr>\n",
       "    <tr>\n",
       "      <th>264</th>\n",
       "      <td>pub.1040038815</td>\n",
       "      <td>39</td>\n",
       "    </tr>\n",
       "  </tbody>\n",
       "</table>\n",
       "</div>"
      ],
      "text/plain": [
       "    publication_ids  size\n",
       "206  pub.1030591890    50\n",
       "323  pub.1052438070    47\n",
       "276  pub.1041850060    47\n",
       "132  pub.1019873131    44\n",
       "151  pub.1022072971    44\n",
       "152  pub.1022097335    40\n",
       "129  pub.1019168198    39\n",
       "260  pub.1039119530    39\n",
       "285  pub.1043148894    39\n",
       "264  pub.1040038815    39"
      ]
     },
     "execution_count": 5,
     "metadata": {},
     "output_type": "execute_result"
    }
   ],
   "source": [
    "# preview the data \n",
    "\n",
    "references_list.head(10)"
   ]
  },
  {
   "cell_type": "markdown",
   "metadata": {
    "Collapsed": "false"
   },
   "source": [
    "## 3. Enriching the publication IDs with additional metadata \n",
    "\n",
    "In this step we query the [publications API](https://docs.dimensions.ai/dsl/datasource-publications.html), using the referenced Dimensions IDs extracted previously in order to retrieve further metadata about publications. \n",
    "\n",
    "Since we can have lots of publications to go through, the IDs list is *chunked* into smaller groups so to ensure the resulting API query is never too long ([more info here](https://api-lab.dimensions.ai/cookbooks/1-getting-started/6-Working-with-lists.html#5.-How-Long-can-lists-get?)). \n",
    "\n",
    "PS Change the query template `return` statement to customise the metadata returned. "
   ]
  },
  {
   "cell_type": "code",
   "execution_count": 6,
   "metadata": {
    "Collapsed": "false"
   },
   "outputs": [
    {
     "name": "stdout",
     "output_type": "stream",
     "text": [
      "===\n",
      "Extracting publications data ...\n"
     ]
    },
    {
     "data": {
      "application/vnd.jupyter.widget-view+json": {
       "model_id": "f51c8009c02347ecba7f6a4e41c986a0",
       "version_major": 2,
       "version_minor": 0
      },
      "text/plain": [
       "  0%|          | 0/2 [00:00<?, ?it/s]"
      ]
     },
     "metadata": {},
     "output_type": "display_data"
    },
    {
     "name": "stdout",
     "output_type": "stream",
     "text": [
      "===\n",
      "Cited Publications found:  363\n"
     ]
    },
    {
     "data": {
      "text/html": [
       "<div>\n",
       "<style scoped>\n",
       "    .dataframe tbody tr th:only-of-type {\n",
       "        vertical-align: middle;\n",
       "    }\n",
       "\n",
       "    .dataframe tbody tr th {\n",
       "        vertical-align: top;\n",
       "    }\n",
       "\n",
       "    .dataframe thead th {\n",
       "        text-align: right;\n",
       "    }\n",
       "</style>\n",
       "<table border=\"1\" class=\"dataframe\">\n",
       "  <thead>\n",
       "    <tr style=\"text-align: right;\">\n",
       "      <th></th>\n",
       "      <th>dimensions_url</th>\n",
       "      <th>doi</th>\n",
       "      <th>id</th>\n",
       "      <th>pmid</th>\n",
       "      <th>publisher</th>\n",
       "      <th>title</th>\n",
       "      <th>type</th>\n",
       "      <th>year</th>\n",
       "      <th>journal.id</th>\n",
       "      <th>journal.title</th>\n",
       "    </tr>\n",
       "  </thead>\n",
       "  <tbody>\n",
       "    <tr>\n",
       "      <th>0</th>\n",
       "      <td>https://app.dimensions.ai/details/publication/...</td>\n",
       "      <td>10.1021/acs.chemrev.7b00499</td>\n",
       "      <td>pub.1100683468</td>\n",
       "      <td>29377672</td>\n",
       "      <td>American Chemical Society (ACS)</td>\n",
       "      <td>Molecular Mechanism and Evolution of Nuclear P...</td>\n",
       "      <td>article</td>\n",
       "      <td>2018</td>\n",
       "      <td>NaN</td>\n",
       "      <td>NaN</td>\n",
       "    </tr>\n",
       "    <tr>\n",
       "      <th>1</th>\n",
       "      <td>https://app.dimensions.ai/details/publication/...</td>\n",
       "      <td>10.1101/168443</td>\n",
       "      <td>pub.1091918134</td>\n",
       "      <td>NaN</td>\n",
       "      <td>Cold Spring Harbor Laboratory</td>\n",
       "      <td>P53 toxicity is a hurdle to CRISPR/CAS9 screen...</td>\n",
       "      <td>preprint</td>\n",
       "      <td>2017</td>\n",
       "      <td>jour.1293558</td>\n",
       "      <td>bioRxiv</td>\n",
       "    </tr>\n",
       "    <tr>\n",
       "      <th>2</th>\n",
       "      <td>https://app.dimensions.ai/details/publication/...</td>\n",
       "      <td>10.1016/j.cell.2016.08.056</td>\n",
       "      <td>pub.1035697575</td>\n",
       "      <td>27662091</td>\n",
       "      <td>Elsevier</td>\n",
       "      <td>Editing DNA Methylation in the Mammalian Genome</td>\n",
       "      <td>article</td>\n",
       "      <td>2016</td>\n",
       "      <td>jour.1019114</td>\n",
       "      <td>Cell</td>\n",
       "    </tr>\n",
       "    <tr>\n",
       "      <th>3</th>\n",
       "      <td>https://app.dimensions.ai/details/publication/...</td>\n",
       "      <td>10.18632/oncotarget.10234</td>\n",
       "      <td>pub.1017128844</td>\n",
       "      <td>27356740</td>\n",
       "      <td>Impact Journals, LLC</td>\n",
       "      <td>CRISPR-dCas9 mediated TET1 targeting for selec...</td>\n",
       "      <td>article</td>\n",
       "      <td>2016</td>\n",
       "      <td>jour.1043645</td>\n",
       "      <td>Oncotarget</td>\n",
       "    </tr>\n",
       "    <tr>\n",
       "      <th>4</th>\n",
       "      <td>https://app.dimensions.ai/details/publication/...</td>\n",
       "      <td>10.1038/nature17946</td>\n",
       "      <td>pub.1009172001</td>\n",
       "      <td>27096365</td>\n",
       "      <td>Springer Nature</td>\n",
       "      <td>Programmable editing of a target base in genom...</td>\n",
       "      <td>article</td>\n",
       "      <td>2016</td>\n",
       "      <td>jour.1018957</td>\n",
       "      <td>Nature</td>\n",
       "    </tr>\n",
       "  </tbody>\n",
       "</table>\n",
       "</div>"
      ],
      "text/plain": [
       "                                      dimensions_url  \\\n",
       "0  https://app.dimensions.ai/details/publication/...   \n",
       "1  https://app.dimensions.ai/details/publication/...   \n",
       "2  https://app.dimensions.ai/details/publication/...   \n",
       "3  https://app.dimensions.ai/details/publication/...   \n",
       "4  https://app.dimensions.ai/details/publication/...   \n",
       "\n",
       "                           doi              id      pmid  \\\n",
       "0  10.1021/acs.chemrev.7b00499  pub.1100683468  29377672   \n",
       "1               10.1101/168443  pub.1091918134       NaN   \n",
       "2   10.1016/j.cell.2016.08.056  pub.1035697575  27662091   \n",
       "3    10.18632/oncotarget.10234  pub.1017128844  27356740   \n",
       "4          10.1038/nature17946  pub.1009172001  27096365   \n",
       "\n",
       "                         publisher  \\\n",
       "0  American Chemical Society (ACS)   \n",
       "1    Cold Spring Harbor Laboratory   \n",
       "2                         Elsevier   \n",
       "3             Impact Journals, LLC   \n",
       "4                  Springer Nature   \n",
       "\n",
       "                                               title      type  year  \\\n",
       "0  Molecular Mechanism and Evolution of Nuclear P...   article  2018   \n",
       "1  P53 toxicity is a hurdle to CRISPR/CAS9 screen...  preprint  2017   \n",
       "2    Editing DNA Methylation in the Mammalian Genome   article  2016   \n",
       "3  CRISPR-dCas9 mediated TET1 targeting for selec...   article  2016   \n",
       "4  Programmable editing of a target base in genom...   article  2016   \n",
       "\n",
       "     journal.id journal.title  \n",
       "0           NaN           NaN  \n",
       "1  jour.1293558       bioRxiv  \n",
       "2  jour.1019114          Cell  \n",
       "3  jour.1043645    Oncotarget  \n",
       "4  jour.1018957        Nature  "
      ]
     },
     "execution_count": 6,
     "metadata": {},
     "output_type": "execute_result"
    }
   ],
   "source": [
    "pubids = list(references_list['publication_ids'])\n",
    "\n",
    "\n",
    "query_template = \"\"\"search publications \n",
    "                    where id in {}\n",
    "                    return publications[id+doi+pmid+title+journal+year+publisher+type+dimensions_url]\n",
    "                    limit 1000\"\"\"\n",
    "\n",
    "\n",
    "#\n",
    "# loop through all references-publications IDs in chunks and query Dimensions \n",
    "\n",
    "print(\"===\\nExtracting publications data ...\")\n",
    "results = []\n",
    "BATCHSIZE = 300\n",
    "VERBOSE = False # set to True to see extraction logs\n",
    "\n",
    "for chunk in tqdm(list(chunks_of(pubids, BATCHSIZE))):\n",
    "    query = query_template.format(json.dumps(chunk))\n",
    "    data = dsl.query(query, verbose=VERBOSE)\n",
    "    results += data.publications\n",
    "    time.sleep(0.5)\n",
    "\n",
    "#\n",
    "# put the cited publication data into a dataframe \n",
    "\n",
    "pubs_cited = pd.DataFrame().from_dict(results)\n",
    "print(\"===\\nCited Publications found: \", len(pubs_cited))\n",
    "\n",
    "\n",
    "\n",
    "#\n",
    "# transform the 'journal' column cause it contains nested data \n",
    "\n",
    "temp = pubs_cited['journal'].apply(pd.Series).rename(columns={\"id\": \"journal.id\", \n",
    "                                                            \"title\": \"journal.title\"}).drop([0], axis=0)\n",
    "pubs_cited = pd.concat([pubs_cited.drop(['journal'], axis=1), temp], axis=1)\n",
    "\n",
    "pubs_cited.head()\n"
   ]
  },
  {
   "cell_type": "markdown",
   "metadata": {
    "Collapsed": "false"
   },
   "source": [
    "## 4. Combine the publication metadata with the patent citations information  \n",
    "\n",
    "In this step we take the results of the patents query from step 2 and merge them with the publication query from step 3. \n",
    "\n",
    "The goal is simply to retain the total count of patent citations per publication in the final dataset containing detailed publications metadata. "
   ]
  },
  {
   "cell_type": "code",
   "execution_count": 7,
   "metadata": {
    "Collapsed": "false"
   },
   "outputs": [
    {
     "data": {
      "text/html": [
       "<div>\n",
       "<style scoped>\n",
       "    .dataframe tbody tr th:only-of-type {\n",
       "        vertical-align: middle;\n",
       "    }\n",
       "\n",
       "    .dataframe tbody tr th {\n",
       "        vertical-align: top;\n",
       "    }\n",
       "\n",
       "    .dataframe thead th {\n",
       "        text-align: right;\n",
       "    }\n",
       "</style>\n",
       "<table border=\"1\" class=\"dataframe\">\n",
       "  <thead>\n",
       "    <tr style=\"text-align: right;\">\n",
       "      <th></th>\n",
       "      <th>dimensions_url</th>\n",
       "      <th>doi</th>\n",
       "      <th>id</th>\n",
       "      <th>pmid</th>\n",
       "      <th>publisher</th>\n",
       "      <th>title</th>\n",
       "      <th>type</th>\n",
       "      <th>year</th>\n",
       "      <th>journal.id</th>\n",
       "      <th>journal.title</th>\n",
       "      <th>publication_ids</th>\n",
       "      <th>patents_citations</th>\n",
       "    </tr>\n",
       "  </thead>\n",
       "  <tbody>\n",
       "    <tr>\n",
       "      <th>134</th>\n",
       "      <td>https://app.dimensions.ai/details/publication/...</td>\n",
       "      <td>10.1038/nature09886</td>\n",
       "      <td>pub.1030591890</td>\n",
       "      <td>21455174</td>\n",
       "      <td>Springer Nature</td>\n",
       "      <td>CRISPR RNA maturation by trans-encoded small R...</td>\n",
       "      <td>article</td>\n",
       "      <td>2011</td>\n",
       "      <td>jour.1018957</td>\n",
       "      <td>Nature</td>\n",
       "      <td>pub.1030591890</td>\n",
       "      <td>50</td>\n",
       "    </tr>\n",
       "    <tr>\n",
       "      <th>92</th>\n",
       "      <td>https://app.dimensions.ai/details/publication/...</td>\n",
       "      <td>10.1126/science.1225829</td>\n",
       "      <td>pub.1041850060</td>\n",
       "      <td>22745249</td>\n",
       "      <td>American Association for the Advancement of Sc...</td>\n",
       "      <td>A Programmable Dual-RNA–Guided DNA Endonucleas...</td>\n",
       "      <td>article</td>\n",
       "      <td>2012</td>\n",
       "      <td>jour.1346339</td>\n",
       "      <td>Science</td>\n",
       "      <td>pub.1041850060</td>\n",
       "      <td>47</td>\n",
       "    </tr>\n",
       "    <tr>\n",
       "      <th>126</th>\n",
       "      <td>https://app.dimensions.ai/details/publication/...</td>\n",
       "      <td>10.1093/nar/gkr606</td>\n",
       "      <td>pub.1052438070</td>\n",
       "      <td>21813460</td>\n",
       "      <td>Oxford University Press (OUP)</td>\n",
       "      <td>The Streptococcus thermophilus CRISPR/Cas syst...</td>\n",
       "      <td>article</td>\n",
       "      <td>2011</td>\n",
       "      <td>jour.1018982</td>\n",
       "      <td>Nucleic Acids Research</td>\n",
       "      <td>pub.1052438070</td>\n",
       "      <td>47</td>\n",
       "    </tr>\n",
       "    <tr>\n",
       "      <th>78</th>\n",
       "      <td>https://app.dimensions.ai/details/publication/...</td>\n",
       "      <td>10.1126/science.1232033</td>\n",
       "      <td>pub.1022072971</td>\n",
       "      <td>23287722</td>\n",
       "      <td>American Association for the Advancement of Sc...</td>\n",
       "      <td>RNA-Guided Human Genome Engineering via Cas9</td>\n",
       "      <td>article</td>\n",
       "      <td>2013</td>\n",
       "      <td>jour.1346339</td>\n",
       "      <td>Science</td>\n",
       "      <td>pub.1022072971</td>\n",
       "      <td>44</td>\n",
       "    </tr>\n",
       "    <tr>\n",
       "      <th>79</th>\n",
       "      <td>https://app.dimensions.ai/details/publication/...</td>\n",
       "      <td>10.1126/science.1231143</td>\n",
       "      <td>pub.1019873131</td>\n",
       "      <td>23287718</td>\n",
       "      <td>American Association for the Advancement of Sc...</td>\n",
       "      <td>Multiplex Genome Engineering Using CRISPR/Cas ...</td>\n",
       "      <td>article</td>\n",
       "      <td>2013</td>\n",
       "      <td>jour.1346339</td>\n",
       "      <td>Science</td>\n",
       "      <td>pub.1019873131</td>\n",
       "      <td>44</td>\n",
       "    </tr>\n",
       "  </tbody>\n",
       "</table>\n",
       "</div>"
      ],
      "text/plain": [
       "                                        dimensions_url  \\\n",
       "134  https://app.dimensions.ai/details/publication/...   \n",
       "92   https://app.dimensions.ai/details/publication/...   \n",
       "126  https://app.dimensions.ai/details/publication/...   \n",
       "78   https://app.dimensions.ai/details/publication/...   \n",
       "79   https://app.dimensions.ai/details/publication/...   \n",
       "\n",
       "                         doi              id      pmid  \\\n",
       "134      10.1038/nature09886  pub.1030591890  21455174   \n",
       "92   10.1126/science.1225829  pub.1041850060  22745249   \n",
       "126       10.1093/nar/gkr606  pub.1052438070  21813460   \n",
       "78   10.1126/science.1232033  pub.1022072971  23287722   \n",
       "79   10.1126/science.1231143  pub.1019873131  23287718   \n",
       "\n",
       "                                             publisher  \\\n",
       "134                                    Springer Nature   \n",
       "92   American Association for the Advancement of Sc...   \n",
       "126                      Oxford University Press (OUP)   \n",
       "78   American Association for the Advancement of Sc...   \n",
       "79   American Association for the Advancement of Sc...   \n",
       "\n",
       "                                                 title     type  year  \\\n",
       "134  CRISPR RNA maturation by trans-encoded small R...  article  2011   \n",
       "92   A Programmable Dual-RNA–Guided DNA Endonucleas...  article  2012   \n",
       "126  The Streptococcus thermophilus CRISPR/Cas syst...  article  2011   \n",
       "78        RNA-Guided Human Genome Engineering via Cas9  article  2013   \n",
       "79   Multiplex Genome Engineering Using CRISPR/Cas ...  article  2013   \n",
       "\n",
       "       journal.id           journal.title publication_ids  patents_citations  \n",
       "134  jour.1018957                  Nature  pub.1030591890                 50  \n",
       "92   jour.1346339                 Science  pub.1041850060                 47  \n",
       "126  jour.1018982  Nucleic Acids Research  pub.1052438070                 47  \n",
       "78   jour.1346339                 Science  pub.1022072971                 44  \n",
       "79   jour.1346339                 Science  pub.1019873131                 44  "
      ]
     },
     "execution_count": 7,
     "metadata": {},
     "output_type": "execute_result"
    }
   ],
   "source": [
    "# merge two datasets using 'publication id' as key\n",
    "final_data = pubs_cited.merge(references_list, left_on='id', right_on='publication_ids')\n",
    "\n",
    "# rename 'size' column\n",
    "final_data.rename(columns = {\"size\" : \"patents_citations\"}, inplace = True)\n",
    "\n",
    "# show top 5 cited publications\n",
    "final_data.sort_values(\"patents_citations\", ascending=False, inplace=True)\n",
    "final_data.head(5)"
   ]
  },
  {
   "cell_type": "markdown",
   "metadata": {
    "Collapsed": "false"
   },
   "source": [
    "### 4.1 Optional: exporting the data to google sheets\n",
    "\n",
    "NOTE: this will work only Google Colab, or in other Jupyter environment if you have previously enabled the required Google credentials ([more info here](https://digital-science.github.io/dimcli/modules.html?highlight=export_as_gsheets#dimcli.utils.misc_utils.export_as_gsheets))."
   ]
  },
  {
   "cell_type": "code",
   "execution_count": null,
   "metadata": {
    "Collapsed": "false"
   },
   "outputs": [],
   "source": [
    "export_as_gsheets(final_data)"
   ]
  },
  {
   "cell_type": "markdown",
   "metadata": {
    "Collapsed": "false",
    "colab_type": "text",
    "id": "sSTCAjHRVygq"
   },
   "source": [
    "---\n",
    "## Conclusions\n",
    "\n",
    "In this notebook we have shown how to use the [Dimensions Analytics API](https://www.dimensions.ai/dimensions-apis/) to identify all the publications referenced by patents, for all the patents that belong to the same [patent family](https://www.epo.org/searching-for-patents/helpful-resources/first-time-here/patent-families.html).\n",
    "\n",
    "This only scratches the surface of the possible applications of publication-patents linkage data, but hopefully it'll give you a few basic tools to get started building your own application. For more background, see the [list of fields](https://docs.dimensions.ai/dsl/datasource-patents.html) available via the Patents API. \n"
   ]
  }
 ],
 "metadata": {
  "colab": {
   "collapsed_sections": [],
   "name": "1-Patents-referencing-a-Research-Organization.ipynb",
   "provenance": []
  },
  "kernel_info": {
   "name": "python3"
  },
  "kernelspec": {
   "display_name": "Python 3 (ipykernel)",
   "language": "python",
   "name": "python3"
  },
  "language_info": {
   "codemirror_mode": {
    "name": "ipython",
    "version": 3
   },
   "file_extension": ".py",
   "mimetype": "text/x-python",
   "name": "python",
   "nbconvert_exporter": "python",
   "pygments_lexer": "ipython3",
   "version": "3.9.9"
  },
  "nteract": {
   "version": "0.14.5"
  }
 },
 "nbformat": 4,
 "nbformat_minor": 4
}
