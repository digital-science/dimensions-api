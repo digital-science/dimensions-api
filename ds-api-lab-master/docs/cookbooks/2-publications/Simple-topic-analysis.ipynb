{
 "cells": [
  {
   "cell_type": "markdown",
   "metadata": {
    "Collapsed": "false",
    "colab_type": "text",
    "id": "KLi3rMNQIxFh"
   },
   "source": [
    "# Topic Modeling Analysis for a Set of Publications: Basic Workflow\n",
    "\n",
    "This Python notebook shows how to use the [Dimensions Analytics API](https://www.dimensions.ai/dimensions-apis/) in order to extract [concepts](https://docs.dimensions.ai/dsl/language.html#searching-using-concepts) from publications and use them as the basis for more advanced topic analyses tasks. \n",
    "\n",
    "**Note** this tutorial is best experienced using Google Colab. "
   ]
  },
  {
   "cell_type": "code",
   "execution_count": 2,
   "metadata": {},
   "outputs": [
    {
     "name": "stdout",
     "output_type": "stream",
     "text": [
      "==\n",
      "CHANGELOG\n",
      "This notebook was last run on Jun 27, 2023\n",
      "==\n"
     ]
    }
   ],
   "source": [
    "import datetime\n",
    "print(\"==\\nCHANGELOG\\nThis notebook was last run on %s\\n==\" % datetime.date.today().strftime('%b %d, %Y'))"
   ]
  },
  {
   "cell_type": "markdown",
   "metadata": {
    "Collapsed": "false",
    "colab_type": "text",
    "id": "hMaQlB7DG8Vw"
   },
   "source": [
    "## Prerequisites\n",
    "\n",
    "This notebook assumes you have installed the [Dimcli](https://pypi.org/project/dimcli/) library and are familiar with the ['Getting Started' tutorial](https://api-lab.dimensions.ai/cookbooks/1-getting-started/1-Using-the-Dimcli-library-to-query-the-API.html).\n"
   ]
  },
  {
   "cell_type": "code",
   "execution_count": 3,
   "metadata": {
    "Collapsed": "false",
    "colab": {
     "base_uri": "https://localhost:8080/",
     "height": 170
    },
    "colab_type": "code",
    "executionInfo": {
     "elapsed": 48102,
     "status": "ok",
     "timestamp": 1593633270812,
     "user": {
      "displayName": "Michele Pasin",
      "photoUrl": "https://lh3.googleusercontent.com/a-/AOh14GiYfmLTPbeMuYDDrETLbTVXTXnfVr9f7eBtkmR73A=s64",
      "userId": "10309320684375994511"
     },
     "user_tz": -60
    },
    "id": "s9UsQw-mKHcN",
    "outputId": "fa43ea4d-e5b4-4595-caf3-f3d9b52aebeb"
   },
   "outputs": [
    {
     "data": {
      "text/html": [
       "        <script type=\"text/javascript\">\n",
       "        window.PlotlyConfig = {MathJaxConfig: 'local'};\n",
       "        if (window.MathJax && window.MathJax.Hub && window.MathJax.Hub.Config) {window.MathJax.Hub.Config({SVG: {font: \"STIX-Web\"}});}\n",
       "        if (typeof require !== 'undefined') {\n",
       "        require.undef(\"plotly\");\n",
       "        requirejs.config({\n",
       "            paths: {\n",
       "                'plotly': ['https://cdn.plot.ly/plotly-2.24.1.min']\n",
       "            }\n",
       "        });\n",
       "        require(['plotly'], function(Plotly) {\n",
       "            window._Plotly = Plotly;\n",
       "        });\n",
       "        }\n",
       "        </script>\n",
       "        "
      ]
     },
     "metadata": {},
     "output_type": "display_data"
    },
    {
     "name": "stderr",
     "output_type": "stream",
     "text": [
      "\u001b[2mSearching config file credentials for 'https://app.dimensions.ai' endpoint..\u001b[0m\n"
     ]
    },
    {
     "name": "stdout",
     "output_type": "stream",
     "text": [
      "==\n",
      "Logging in..\n",
      "\u001b[2mDimcli - Dimensions API Client (v1.0.3)\u001b[0m\n",
      "\u001b[2mConnected to: <https://app.dimensions.ai/api/dsl> - DSL v2.7\u001b[0m\n",
      "\u001b[2mMethod: dsl.ini file\u001b[0m\n"
     ]
    }
   ],
   "source": [
    "!pip install dimcli plotly wordcloud -U --quiet \n",
    "\n",
    "import dimcli\n",
    "from dimcli.utils import *\n",
    "\n",
    "import json, sys\n",
    "import matplotlib.pyplot as plt\n",
    "from wordcloud import WordCloud\n",
    "import pandas as pd\n",
    "import plotly.express as px  # plotly>=4.8.1\n",
    "if not 'google.colab' in sys.modules:\n",
    "  # make js dependecies local / needed by html exports\n",
    "  from plotly.offline import init_notebook_mode\n",
    "  init_notebook_mode(connected=True)\n",
    "#\n",
    "\n",
    "print(\"==\\nLogging in..\")\n",
    "# https://digital-science.github.io/dimcli/getting-started.html#authentication\n",
    "ENDPOINT = \"https://app.dimensions.ai\"\n",
    "if 'google.colab' in sys.modules:\n",
    "  import getpass\n",
    "  KEY = getpass.getpass(prompt='API Key: ')  \n",
    "  dimcli.login(key=KEY, endpoint=ENDPOINT)\n",
    "else:\n",
    "  KEY = \"\"\n",
    "  dimcli.login(key=KEY, endpoint=ENDPOINT)\n",
    "dsl = dimcli.Dsl()"
   ]
  },
  {
   "cell_type": "markdown",
   "metadata": {
    "Collapsed": "false",
    "colab_type": "text",
    "id": "duzLFSrfFiuS"
   },
   "source": [
    "## 1. Creating a Dataset: e.g. Publications from a Research Organization"
   ]
  },
  {
   "cell_type": "markdown",
   "metadata": {
    "Collapsed": "false",
    "colab_type": "text",
    "id": "L6uIjSVnGRQV"
   },
   "source": [
    "The dataset we'll be using in this tutorial contains publications from [University of Toronto](https://www.grid.ac/institutes/grid.17063.33). \n",
    "\n",
    "By using the parameters below, we can restrict the dataset further using dates (publications year) and a subject area (field of research code). \n",
    "\n",
    "After extracting the publications records, we are going to use the `as_dataframe_concepts` method to unpack concepts/scores data into a format that makes it easier to analyse it. For more background, see also the [Working with concepts in the Dimensions API](https://api-lab.dimensions.ai/cookbooks/1-getting-started/7-Working-with-concepts.html) tutorial."
   ]
  },
  {
   "cell_type": "code",
   "execution_count": 17,
   "metadata": {
    "Collapsed": "false",
    "colab": {
     "base_uri": "https://localhost:8080/",
     "height": 527
    },
    "colab_type": "code",
    "executionInfo": {
     "elapsed": 54216,
     "status": "ok",
     "timestamp": 1593633276955,
     "user": {
      "displayName": "Michele Pasin",
      "photoUrl": "https://lh3.googleusercontent.com/a-/AOh14GiYfmLTPbeMuYDDrETLbTVXTXnfVr9f7eBtkmR73A=s64",
      "userId": "10309320684375994511"
     },
     "user_tz": -60
    },
    "id": "xNT2M74qKHcR",
    "outputId": "d9c8afd9-6667-4b5b-a2ed-2fd25431a23b"
   },
   "outputs": [
    {
     "name": "stdout",
     "output_type": "stream",
     "text": [
      "You selected:\n",
      "->grid.17063.33\n",
      "->1996-2020\n",
      "->50 Philosophy and Religious Studies\n"
     ]
    },
    {
     "data": {
      "text/html": [
       "-><br /><a href=\"https://app.dimensions.ai/discover/publication?and_facet_research_org=grid.17063.33\">Preview grid.17063.33 in Dimensions.ai &#x29c9;</a>"
      ],
      "text/plain": [
       "<IPython.core.display.HTML object>"
      ]
     },
     "metadata": {},
     "output_type": "display_data"
    },
    {
     "name": "stderr",
     "output_type": "stream",
     "text": [
      "Starting iteration with limit=1000 skip=0 ...\u001b[0m\n"
     ]
    },
    {
     "name": "stdout",
     "output_type": "stream",
     "text": [
      "===\n",
      "Query:\n",
      " \n",
      "search publications \n",
      "    where research_orgs.id = \"grid.17063.33\"\n",
      "    and year in [1996:2020]\n",
      "     and category_for.name=\"50 Philosophy and Religious Studies\"  \n",
      "    return publications[id+concepts_scores+year]\n",
      "\n",
      "===\n",
      "Retrieving Publications.. \n"
     ]
    },
    {
     "name": "stderr",
     "output_type": "stream",
     "text": [
      "0-1000 / 3972 (1.55s)\u001b[0m\n",
      "1000-2000 / 3972 (1.31s)\u001b[0m\n",
      "2000-3000 / 3972 (1.16s)\u001b[0m\n",
      "3000-3972 / 3972 (1.67s)\u001b[0m\n",
      "===\n",
      "Records extracted: 3972\u001b[0m\n"
     ]
    },
    {
     "name": "stdout",
     "output_type": "stream",
     "text": [
      "===\n",
      "Extracting Concepts.. \n",
      "===\n",
      "Concepts Found (total): 109515\n",
      "===\n",
      "Unique Concepts Found: 36488\n",
      "===\n",
      "Concepts with frequency major than 1: 8637\n"
     ]
    }
   ],
   "source": [
    "#@markdown ## Define the criteria for extracting publications\n",
    "\n",
    "#@markdown A GRID organization from https://grid.ac/institutes\n",
    "GRIDID = \"grid.17063.33\" #@param {type:\"string\"}\n",
    "\n",
    "#@markdown The start/end year of publications used to extract concepts\n",
    "YEAR_START = 1996 #@param {type: \"slider\", min: 1950, max: 2020}\n",
    "YEAR_END = 2020 #@param {type: \"slider\", min: 1950, max: 2020}\n",
    "\n",
    "#@markdown The Field Of Research (FOR) category (None = all)\n",
    "CATEGORY = \"2203 Philosophy\"  #@param ['None', '0101 Pure Mathematics', '0102 Applied Mathematics', '0103 Numerical and Computational Mathematics', '0104 Statistics', '0105 Mathematical Physics', '0201 Astronomical and Space Sciences', '0202 Atomic, Molecular, Nuclear, Particle and Plasma Physics', '0203 Classical Physics', '0204 Condensed Matter Physics', '0205 Optical Physics', '0206 Quantum Physics', '0299 Other Physical Sciences', '0301 Analytical Chemistry', '0302 Inorganic Chemistry', '0303 Macromolecular and Materials Chemistry', '0304 Medicinal and Biomolecular Chemistry', '0305 Organic Chemistry', '0306 Physical Chemistry (incl. Structural)', '0307 Theoretical and Computational Chemistry', '0399 Other Chemical Sciences', '0401 Atmospheric Sciences', '0402 Geochemistry', '0403 Geology', '0404 Geophysics', '0405 Oceanography', '0406 Physical Geography and Environmental Geoscience', '0499 Other Earth Sciences', '0501 Ecological Applications', '0502 Environmental Science and Management', '0503 Soil Sciences', '0599 Other Environmental Sciences', '0601 Biochemistry and Cell Biology', '0602 Ecology', '0603 Evolutionary Biology', '0604 Genetics', '0605 Microbiology', '0606 Physiology', '0607 Plant Biology', '0608 Zoology', '0699 Other Biological Sciences', '0701 Agriculture, Land and Farm Management', '0702 Animal Production', '0703 Crop and Pasture Production', '0704 Fisheries Sciences', '0705 Forestry Sciences', '0706 Horticultural Production', '0707 Veterinary Sciences', '0799 Other Agricultural and Veterinary Sciences', '0801 Artificial Intelligence and Image Processing', '0802 Computation Theory and Mathematics', '0803 Computer Software', '0804 Data Format', '0805 Distributed Computing', '0806 Information Systems', '0807 Library and Information Studies', '0899 Other Information and Computing Sciences', '0901 Aerospace Engineering', '0902 Automotive Engineering', '0903 Biomedical Engineering', '0904 Chemical Engineering', '0905 Civil Engineering', '0906 Electrical and Electronic Engineering', '0907 Environmental Engineering', '0908 Food Sciences', '0909 Geomatic Engineering', '0910 Manufacturing Engineering', '0911 Maritime Engineering', '0912 Materials Engineering', '0913 Mechanical Engineering', '0914 Resources Engineering and Extractive Metallurgy', '0915 Interdisciplinary Engineering', '0999 Other Engineering', '1001 Agricultural Biotechnology', '1002 Environmental Biotechnology', '1003 Industrial Biotechnology', '1004 Medical Biotechnology', '1005 Communications Technologies', '1006 Computer Hardware', '1007 Nanotechnology', '1099 Other Technology', '1101 Medical Biochemistry and Metabolomics', '1102 Cardiorespiratory Medicine and Haematology', '1103 Clinical Sciences', '1104 Complementary and Alternative Medicine', '1105 Dentistry', '1106 Human Movement and Sports Science', '1107 Immunology', '1108 Medical Microbiology', '1109 Neurosciences', '1110 Nursing', '1111 Nutrition and Dietetics', '1112 Oncology and Carcinogenesis', '1113 Ophthalmology and Optometry', '1114 Paediatrics and Reproductive Medicine', '1115 Pharmacology and Pharmaceutical Sciences', '1116 Medical Physiology', '1117 Public Health and Health Services', '1199 Other Medical and Health Sciences', '1201 Architecture', '1202 Building', '1203 Design Practice and Management', '1205 Urban and Regional Planning', '1299 Other Built Environment and Design', '1301 Education Systems', '1302 Curriculum and Pedagogy', '1303 Specialist Studies In Education', '1399 Other Education', '1401 Economic Theory', '1402 Applied Economics', '1403 Econometrics', '1499 Other Economics', '1501 Accounting, Auditing and Accountability', '1502 Banking, Finance and Investment', '1503 Business and Management', '1504 Commercial Services', '1505 Marketing', '1506 Tourism', '1507 Transportation and Freight Services', '1601 Anthropology', '1602 Criminology', '1603 Demography', '1604 Human Geography', '1605 Policy and Administration', '1606 Political Science', '1607 Social Work', '1608 Sociology', '1699 Other Studies In Human Society', '1701 Psychology', '1702 Cognitive Sciences', '1799 Other Psychology and Cognitive Sciences', '1801 Law', '1899 Other Law and Legal Studies', '1901 Art Theory and Criticism', '1902 Film, Television and Digital Media', '1903 Journalism and Professional Writing', '1904 Performing Arts and Creative Writing', '1905 Visual Arts and Crafts', '1999 Other Studies In Creative Arts and Writing', '2001 Communication and Media Studies', '2002 Cultural Studies', '2003 Language Studies', '2004 Linguistics', '2005 Literary Studies', '2099 Other Language, Communication and Culture', '2101 Archaeology', '2102 Curatorial and Related Studies', '2103 Historical Studies', '2199 Other History and Archaeology', '2201 Applied Ethics', '2202 History and Philosophy of Specific Fields', '2203 Philosophy', '2204 Religion and Religious Studies', '2299 Other Philosophy and Religious Studies']\n",
    "\n",
    "CATEGORY = \"50 Philosophy and Religious Studies\"  #@param ['None', '32 Biomedical and Clinical Sciences', '40 Engineering', '3202 Clinical Sciences', '31 Biological Sciences', '34 Chemical Sciences', '42 Health Sciences', '51 Physical Sciences', '46 Information and Computing Sciences', '49 Mathematical Sciences', '44 Human Society', '30 Agricultural, Veterinary and Food Sciences', '52 Psychology', '35 Commerce, Management, Tourism and Services', '3101 Biochemistry and Cell Biology', '37 Earth Sciences', '47 Language, Communication and Culture', '3211 Oncology and Carcinogenesis', '50 Philosophy and Religious Studies', '4016 Materials Engineering', '43 History, Heritage and Archaeology', '3402 Inorganic Chemistry', '39 Education', '4203 Health Services and Systems', '3201 Cardiovascular Medicine and Haematology', '3406 Physical Chemistry', '4901 Applied Mathematics', '41 Environmental Sciences', '3215 Reproductive Medicine', '4006 Communications Engineering', '3214 Pharmacology and Pharmaceutical Sciences', '38 Economics', '4904 Pure Mathematics', '3103 Ecology', '4009 Electronics, Sensors and Digital Hardware', '4303 Historical Studies', '4008 Electrical Engineering', '48 Law and Legal Studies', '36 Creative Arts and Writing', '4705 Literary Studies', '3204 Immunology', '4605 Data Management and Data Science', '3801 Applied Economics', '4005 Civil Engineering', '4206 Public Health', '5106 Nuclear and Plasma Physics', '3405 Organic Chemistry', '3209 Neurosciences', '5202 Biological Psychology', '33 Built Environment and Design', '3705 Geology', '4004 Chemical Engineering', '3105 Genetics', '3203 Dentistry', '3403 Macromolecular and Materials Chemistry', '3507 Strategy, Management and Organisational Behaviour', '3107 Microbiology', '5104 Condensed Matter Physics', '5203 Clinical and Health Psychology', '3901 Curriculum and Pedagogy', '4408 Political Science', '3208 Medical Physiology', '5102 Atomic, Molecular and Optical Physics', '3207 Medical Microbiology', '4205 Nursing', '3108 Plant Biology', '3212 Ophthalmology and Optometry', '4007 Control Engineering, Mechatronics and Robotics', '5107 Particle and High Energy Physics', '3109 Zoology', '4902 Mathematical Physics', '4018 Nanotechnology', '4201 Allied Health and Rehabilitation Science', '3903 Education Systems', '4602 Artificial Intelligence', '3401 Analytical Chemistry', '5101 Astronomical Sciences', '5004 Religious Studies', '4014 Manufacturing Engineering', '3213 Paediatrics', '4603 Computer Vision and Multimedia Computation', '4704 Linguistics', '4003 Biomedical Engineering', '4407 Policy and Administration', '4012 Fluid Mechanics and Thermal Engineering', '3009 Veterinary Sciences', '3006 Food Sciences', '3502 Banking, Finance and Investment', '5003 Philosophy', '4606 Distributed Computing and Systems Software', '4611 Machine Learning', '3404 Medicinal and Biomolecular Chemistry', '5108 Quantum Physics', '3004 Crop and Pasture Production', '4017 Mechanical Engineering', '4019 Resources Engineering and Extractive Metallurgy', '5002 History and Philosophy Of Specific Fields', '4905 Statistics', '3210 Nutrition and Dietetics', '3701 Atmospheric Sciences', '5201 Applied and Developmental Psychology', '4001 Aerospace Engineering', '4404 Development Studies', '4010 Engineering Practice and Education', '5005 Theology', '3104 Evolutionary Biology', '4207 Sports Science and Exercise', '4410 Sociology', '4703 Language Studies', '3802 Econometrics', '3102 Bioinformatics and Computational Biology', '3407 Theoretical and Computational Chemistry', '4608 Human-Centred Computing', '3709 Physical Geography and Environmental Geoscience', '3206 Medical Biotechnology', '5110 Synchrotrons and Accelerators', '4104 Environmental Management', '5205 Social and Personality Psychology', '5103 Classical Physics', '3003 Animal Production', '4202 Epidemiology', '5204 Cognitive and Computational Psychology', '4610 Library and Information Studies', '4105 Pollution and Contamination', '3509 Transportation, Logistics and Supply Chains', '4903 Numerical and Computational Mathematics', '4406 Human Geography', '4609 Information Systems', '3505 Human Resources and Industrial Relations', '5109 Space Sciences', '3506 Marketing', '3706 Geophysics', '4613 Theory Of Computation', '4204 Midwifery', '4604 Cybersecurity and Privacy', '3904 Specialist Studies In Education', '3106 Industrial Biotechnology', '4702 Cultural Studies', '3301 Architecture', '3803 Economic Theory', '4301 Archaeology', '3302 Building', '4612 Software Engineering', '3008 Horticultural Production', '4015 Maritime Engineering', '3902 Education Policy, Sociology and Philosophy', '4701 Communication and Media Studies', '3205 Medical Biochemistry and Metabolomics', '4807 Public Law', '3703 Geochemistry', '3605 Screen and Digital Media', '4804 Law In Context', '4011 Environmental Engineering', '4402 Criminology', '3503 Business Systems In Context', '3601 Art History, Theory and Criticism', '4803 International and Comparative Law', '3005 Fisheries Sciences', '4401 Anthropology', '3504 Commercial Services', '3002 Agriculture, Land and Farm Management', '4002 Automotive Engineering', '3704 Geoinformatics', '4405 Gender Studies', '3603 Music', '3707 Hydrology', '3304 Urban and Regional Planning', '3604 Performing Arts', '4601 Applied Computing', '4409 Social Work', '4013 Geomatic Engineering', '5001 Applied Ethics', '4607 Graphics, Augmented Reality and Games', '4801 Commercial Law', '3708 Oceanography', '4403 Demography', '4102 Ecological Applications', '3007 Forestry Sciences', '3303 Design', '5105 Medical and Biological Physics', '4806 Private Law and Civil Obligations', '3501 Accounting, Auditing and Accountability', '3602 Creative and Professional Writing', '4106 Soil Sciences', '4208 Traditional, Complementary and Integrative Medicine', '3508 Tourism', '3001 Agricultural Biotechnology', '3702 Climate Change Science', '4302 Heritage, Archive and Museum Studies', '4805 Legal Systems', '4802 Environmental and Resources Law', '4101 Climate Change Impacts and Adaptation', '4103 Environmental Biotechnology', '3606 Visual Arts']\n",
    "\n",
    "\n",
    "if YEAR_END < YEAR_START:\n",
    "  YEAR_END = YEAR_START\n",
    "\n",
    "print(f\"\"\"You selected:\\n->{GRIDID}\\n->{YEAR_START}-{YEAR_END}\\n->{CATEGORY}\"\"\") \n",
    "\n",
    "from IPython.core.display import display, HTML\n",
    "display(HTML('-><br /><a href=\"{}\">Preview {} in Dimensions.ai &#x29c9;</a>'.format(dimensions_url(GRIDID), GRIDID)))\n",
    "\n",
    "\n",
    "# subject area query component\n",
    "if CATEGORY == \"None\":\n",
    "  subject_area_q =  \"\"\n",
    "else:\n",
    "  subject_area_q = f\"\"\" and category_for.name=\"{CATEGORY}\" \"\"\"\n",
    "\n",
    "query = f\"\"\"\n",
    "search publications \n",
    "    where research_orgs.id = \"{GRIDID}\"\n",
    "    and year in [{YEAR_START}:{YEAR_END}]\n",
    "    {subject_area_q} \n",
    "    return publications[id+concepts_scores+year]\n",
    "\"\"\"\n",
    "    \n",
    "\n",
    "print(\"===\\nQuery:\\n\", query)     \n",
    "print(\"===\\nRetrieving Publications.. \")\n",
    "data = dsl.query_iterative(query)\n",
    "\n",
    "print(\"===\\nExtracting Concepts.. \")\n",
    "concepts = data.as_dataframe_concepts()\n",
    "concepts_unique = concepts.drop_duplicates(\"concept\")[['concept', 'frequency', 'score_avg']]\n",
    "print(\"===\\nConcepts Found (total):\", len(concepts))\n",
    "print(\"===\\nUnique Concepts Found:\", len(concepts_unique))\n",
    "print(\"===\\nConcepts with frequency major than 1:\", len(concepts_unique.query(\"frequency > 1\")))"
   ]
  },
  {
   "cell_type": "markdown",
   "metadata": {
    "Collapsed": "false",
    "colab_type": "text",
    "id": "BksdK3HJIxFq"
   },
   "source": [
    "## 2. Concepts: exploratory analysis\n",
    "\n",
    "The goal of this section is understanding what are the best settings to use, in order to extract useful concepts. "
   ]
  },
  {
   "cell_type": "code",
   "execution_count": 18,
   "metadata": {
    "Collapsed": "false",
    "cellView": "both",
    "colab": {
     "base_uri": "https://localhost:8080/",
     "height": 785
    },
    "colab_type": "code",
    "executionInfo": {
     "elapsed": 460,
     "status": "ok",
     "timestamp": 1593633850781,
     "user": {
      "displayName": "Michele Pasin",
      "photoUrl": "https://lh3.googleusercontent.com/a-/AOh14GiYfmLTPbeMuYDDrETLbTVXTXnfVr9f7eBtkmR73A=s64",
      "userId": "10309320684375994511"
     },
     "user_tz": -60
    },
    "id": "Lzt6Rzs1KHcU",
    "outputId": "0b1e4178-8109-4372-dafe-3945637b5f9c"
   },
   "outputs": [
    {
     "name": "stdout",
     "output_type": "stream",
     "text": [
      "You selected:\n",
      "->200\n",
      "->2-70\n",
      "->0.4\n"
     ]
    },
    {
     "data": {
      "application/vnd.plotly.v1+json": {
       "config": {
        "plotlyServerURL": "https://plot.ly"
       },
       "data": [
        {
         "hovertemplate": "concept=%{x}<br>frequency=%{y}<br>score_avg=%{marker.color}<extra></extra>",
         "legendgroup": "",
         "marker": {
          "color": [
           0.8935,
           0.8785,
           0.874,
           0.8705,
           0.863,
           0.8615,
           0.861,
           0.858,
           0.857,
           0.856,
           0.856,
           0.854,
           0.853,
           0.853,
           0.853,
           0.8415,
           0.84,
           0.839,
           0.8332,
           0.8315,
           0.83,
           0.8282,
           0.82675,
           0.824,
           0.824,
           0.8225,
           0.8225,
           0.8225,
           0.822,
           0.8215,
           0.82,
           0.82,
           0.819,
           0.8185,
           0.81775,
           0.8175,
           0.8165,
           0.8155,
           0.81467,
           0.81333,
           0.813,
           0.812,
           0.81,
           0.809,
           0.80825,
           0.80733,
           0.807,
           0.80667,
           0.804,
           0.804,
           0.8025,
           0.802,
           0.801,
           0.801,
           0.797,
           0.795,
           0.794,
           0.7895,
           0.78933,
           0.788,
           0.78725,
           0.7865,
           0.7865,
           0.786,
           0.7845,
           0.7845,
           0.78425,
           0.7835,
           0.7825,
           0.78067,
           0.78,
           0.779,
           0.778,
           0.777,
           0.777,
           0.777,
           0.776,
           0.77575,
           0.7755,
           0.7745,
           0.774,
           0.77367,
           0.7725,
           0.772,
           0.77133,
           0.7704,
           0.76943,
           0.7685,
           0.767,
           0.767,
           0.7665,
           0.7665,
           0.766,
           0.766,
           0.7645,
           0.764,
           0.7635,
           0.763,
           0.76267,
           0.7625,
           0.762,
           0.762,
           0.762,
           0.762,
           0.76175,
           0.7615,
           0.7615,
           0.761,
           0.761,
           0.761,
           0.761,
           0.7605,
           0.75967,
           0.7595,
           0.7595,
           0.759,
           0.759,
           0.759,
           0.7585,
           0.7585,
           0.7585,
           0.7585,
           0.758,
           0.75757,
           0.7575,
           0.7575,
           0.7575,
           0.7575,
           0.756,
           0.756,
           0.756,
           0.756,
           0.756,
           0.756,
           0.7555,
           0.755,
           0.755,
           0.755,
           0.75467,
           0.7545,
           0.7545,
           0.754,
           0.754,
           0.754,
           0.754,
           0.7535,
           0.7535,
           0.7535,
           0.7535,
           0.7535,
           0.753,
           0.753,
           0.753,
           0.753,
           0.7525,
           0.752,
           0.752,
           0.75183,
           0.75167,
           0.751,
           0.751,
           0.7505,
           0.7505,
           0.7495,
           0.7495,
           0.749,
           0.749,
           0.74875,
           0.7485,
           0.7485,
           0.7485,
           0.748,
           0.7475,
           0.7475,
           0.747,
           0.747,
           0.7465,
           0.74633,
           0.746,
           0.746,
           0.74567,
           0.7455,
           0.7455,
           0.7455,
           0.745,
           0.7445,
           0.744,
           0.74367,
           0.743,
           0.7425,
           0.742,
           0.7415,
           0.7415,
           0.7415,
           0.7405,
           0.74,
           0.74,
           0.74,
           0.74,
           0.7395
          ],
          "coloraxis": "coloraxis",
          "size": [
           0.8935,
           0.8785,
           0.874,
           0.8705,
           0.863,
           0.8615,
           0.861,
           0.858,
           0.857,
           0.856,
           0.856,
           0.854,
           0.853,
           0.853,
           0.853,
           0.8415,
           0.84,
           0.839,
           0.8332,
           0.8315,
           0.83,
           0.8282,
           0.82675,
           0.824,
           0.824,
           0.8225,
           0.8225,
           0.8225,
           0.822,
           0.8215,
           0.82,
           0.82,
           0.819,
           0.8185,
           0.81775,
           0.8175,
           0.8165,
           0.8155,
           0.81467,
           0.81333,
           0.813,
           0.812,
           0.81,
           0.809,
           0.80825,
           0.80733,
           0.807,
           0.80667,
           0.804,
           0.804,
           0.8025,
           0.802,
           0.801,
           0.801,
           0.797,
           0.795,
           0.794,
           0.7895,
           0.78933,
           0.788,
           0.78725,
           0.7865,
           0.7865,
           0.786,
           0.7845,
           0.7845,
           0.78425,
           0.7835,
           0.7825,
           0.78067,
           0.78,
           0.779,
           0.778,
           0.777,
           0.777,
           0.777,
           0.776,
           0.77575,
           0.7755,
           0.7745,
           0.774,
           0.77367,
           0.7725,
           0.772,
           0.77133,
           0.7704,
           0.76943,
           0.7685,
           0.767,
           0.767,
           0.7665,
           0.7665,
           0.766,
           0.766,
           0.7645,
           0.764,
           0.7635,
           0.763,
           0.76267,
           0.7625,
           0.762,
           0.762,
           0.762,
           0.762,
           0.76175,
           0.7615,
           0.7615,
           0.761,
           0.761,
           0.761,
           0.761,
           0.7605,
           0.75967,
           0.7595,
           0.7595,
           0.759,
           0.759,
           0.759,
           0.7585,
           0.7585,
           0.7585,
           0.7585,
           0.758,
           0.75757,
           0.7575,
           0.7575,
           0.7575,
           0.7575,
           0.756,
           0.756,
           0.756,
           0.756,
           0.756,
           0.756,
           0.7555,
           0.755,
           0.755,
           0.755,
           0.75467,
           0.7545,
           0.7545,
           0.754,
           0.754,
           0.754,
           0.754,
           0.7535,
           0.7535,
           0.7535,
           0.7535,
           0.7535,
           0.753,
           0.753,
           0.753,
           0.753,
           0.7525,
           0.752,
           0.752,
           0.75183,
           0.75167,
           0.751,
           0.751,
           0.7505,
           0.7505,
           0.7495,
           0.7495,
           0.749,
           0.749,
           0.74875,
           0.7485,
           0.7485,
           0.7485,
           0.748,
           0.7475,
           0.7475,
           0.747,
           0.747,
           0.7465,
           0.74633,
           0.746,
           0.746,
           0.74567,
           0.7455,
           0.7455,
           0.7455,
           0.745,
           0.7445,
           0.744,
           0.74367,
           0.743,
           0.7425,
           0.742,
           0.7415,
           0.7415,
           0.7415,
           0.7405,
           0.74,
           0.74,
           0.74,
           0.74,
           0.7395
          ],
          "sizemode": "area",
          "sizeref": 0.00223375,
          "symbol": "circle"
         },
         "mode": "markers",
         "name": "",
         "orientation": "v",
         "showlegend": false,
         "type": "scatter",
         "x": [
          "embryonic stem cell research",
          "human embryonic stem cell research",
          "board gender diversity",
          "social science research",
          "environmental disclosure",
          "non-Christian religions",
          "New Testament studies",
          "discourse ethics",
          "compensation structure",
          "gender diversity",
          "role of history",
          "non-governmental organizations",
          "community-based research",
          "social contract theory",
          "literary history",
          "moral duty",
          "welfare rights",
          "children’s rights",
          "Jewish-Christian dialogue",
          "book culture",
          "later philosophy",
          "moral emotions",
          "stem cell research",
          "Catholic natural law",
          "trait selection",
          "philosophy of law",
          "digital media",
          "demonstrative thought",
          "philosophers of religion",
          "system of ethics",
          "clinical ethics consultation",
          "ethics of generosity",
          "mental imagery",
          "research ethics review",
          "evolutionary ethics",
          "Tamil literary history",
          "animal agriculture",
          "employee engagement",
          "philosophy of nature",
          "voluntary environmental disclosures",
          "farm animals",
          "member states",
          "employee entrepreneurship",
          "corporate fraud",
          "international human rights law",
          "minority rights",
          "history of psychiatry",
          "ethics of care",
          "financial misconduct",
          "multiple trait selection",
          "concept of truth",
          "Jewish ethical tradition",
          "Jewish-Christian relations",
          "Islamic schools",
          "vocal music",
          "Wittgenstein’s later philosophy",
          "spiritual warfare",
          "ethical research practice",
          "legal order",
          "Western intellectual tradition",
          "human rights law",
          "trait attributions",
          "Second African Synod",
          "corporate social performance",
          "moral justification",
          "law tradition",
          "moral psychology",
          "true doctrine",
          "private law",
          "ethical traditions",
          "Islamic Cooperation",
          "social ethics",
          "professional ethics",
          "ethical themes",
          "moral competencies",
          "moral discourse",
          "research ethics governance",
          "point of departure",
          "contract theory",
          "financial performance",
          "art theory",
          "sexual identity",
          "political morality",
          "Global Reporting Initiative sustainability",
          "later writings",
          "ethics review board",
          "religious experience",
          "state of consciousness",
          "own thinking",
          "United Nations",
          "public theology",
          "geographical knowledge",
          "high performers",
          "neutral theory",
          "linear algebra",
          "international legal order",
          "epistemology of disagreement",
          "Natural Law account",
          "code of ethics",
          "fact of pluralism",
          "political agency",
          "analytic philosophy",
          "Grameen Bank",
          "theological ethics",
          "philosophy of mind",
          "philosophical tradition",
          "Jewish thinkers",
          "Islamic political thought",
          "philosophical position",
          "biomedical ethics",
          "philosophy of sex",
          "academic philosophy",
          "ethics of immigration",
          "ethical perspective",
          "theories of ethics",
          "long philosophical history",
          "Christian University",
          "research ethics guidelines",
          "global health research",
          "moral tradition",
          "great philosophers",
          "later dialogues",
          "liberal political theorists",
          "ethical theory",
          "new ethical challenges",
          "animal improvement",
          "future ethical challenges",
          "ethical goals",
          "cell research",
          "Advaita Vedānta",
          "synthetic distinction",
          "John Rawls's theory",
          "bioscience companies",
          "philosophy of history",
          "wall of separation",
          "gender-diverse boards",
          "science teachers",
          "medical tradition",
          "history of philosophy",
          "philosophy of language",
          "image of God",
          "corporate environmental performance",
          "research ethical issues",
          "theory of justice",
          "high performing employees",
          "social history",
          "character judgments",
          "natural philosophers",
          "secular rulers",
          "unique ethical challenges",
          "community-based participatory research",
          "global justice",
          "tort law",
          "discretionary environmental disclosures",
          "legal arguments",
          "sovereign power",
          "voluntary disclosure theory",
          "public reason",
          "educational theory",
          "ethics principles",
          "third step I",
          "Käthe Kollwitz",
          "instrumental reasoning",
          "contemporary liberal theory",
          "human soul",
          "today's political environment",
          "human resource management",
          "intellectual tradition",
          "religious observance",
          "Aquinas’s account",
          "Islamic Revolution",
          "historical amnesia",
          "psychological state",
          "visual mental imagery",
          "public health ethics",
          "religious reasons",
          "ancient Near East",
          "teaching of history",
          "historical understanding",
          "international political reality",
          "sacred music",
          "moral virtues",
          "ethics issues",
          "principled rejection",
          "liberal democratic states",
          "common home",
          "largest inter-governmental organization",
          "postcolonial theory",
          "post-regulation period",
          "historical facts",
          "Western civilization",
          "ethical arguments",
          "poverty relief",
          "mathematical physics",
          "ethics governance",
          "religious values",
          "intellectual virtues",
          "important strategic decisions",
          "content analysis index",
          "verbal language"
         ],
         "xaxis": "x",
         "y": [
          2,
          2,
          2,
          2,
          3,
          2,
          2,
          3,
          2,
          2,
          2,
          3,
          2,
          2,
          2,
          2,
          2,
          2,
          5,
          2,
          3,
          5,
          4,
          2,
          2,
          2,
          2,
          2,
          2,
          2,
          2,
          2,
          2,
          2,
          4,
          2,
          2,
          2,
          3,
          3,
          2,
          2,
          2,
          2,
          4,
          3,
          2,
          3,
          2,
          2,
          2,
          3,
          3,
          2,
          2,
          3,
          2,
          2,
          6,
          3,
          4,
          2,
          2,
          2,
          2,
          2,
          4,
          2,
          2,
          3,
          2,
          2,
          2,
          2,
          2,
          2,
          2,
          4,
          2,
          2,
          2,
          3,
          2,
          2,
          3,
          5,
          7,
          2,
          3,
          2,
          2,
          2,
          2,
          2,
          2,
          2,
          2,
          2,
          3,
          2,
          2,
          2,
          2,
          2,
          4,
          2,
          2,
          2,
          2,
          2,
          2,
          2,
          3,
          2,
          2,
          2,
          2,
          2,
          4,
          2,
          2,
          2,
          2,
          7,
          2,
          2,
          2,
          2,
          4,
          2,
          2,
          2,
          2,
          2,
          2,
          2,
          2,
          2,
          3,
          2,
          2,
          3,
          2,
          2,
          2,
          4,
          2,
          2,
          2,
          2,
          3,
          3,
          2,
          2,
          2,
          2,
          2,
          6,
          3,
          2,
          2,
          2,
          2,
          2,
          2,
          2,
          2,
          4,
          2,
          2,
          2,
          2,
          2,
          2,
          8,
          2,
          2,
          3,
          2,
          2,
          3,
          2,
          2,
          2,
          2,
          2,
          2,
          3,
          2,
          2,
          2,
          2,
          2,
          2,
          2,
          3,
          2,
          2,
          2,
          2
         ],
         "yaxis": "y"
        }
       ],
       "layout": {
        "autosize": true,
        "coloraxis": {
         "colorbar": {
          "title": {
           "text": "score_avg"
          }
         },
         "colorscale": [
          [
           0,
           "#0d0887"
          ],
          [
           0.1111111111111111,
           "#46039f"
          ],
          [
           0.2222222222222222,
           "#7201a8"
          ],
          [
           0.3333333333333333,
           "#9c179e"
          ],
          [
           0.4444444444444444,
           "#bd3786"
          ],
          [
           0.5555555555555556,
           "#d8576b"
          ],
          [
           0.6666666666666666,
           "#ed7953"
          ],
          [
           0.7777777777777778,
           "#fb9f3a"
          ],
          [
           0.8888888888888888,
           "#fdca26"
          ],
          [
           1,
           "#f0f921"
          ]
         ]
        },
        "legend": {
         "itemsizing": "constant",
         "tracegroupgap": 0
        },
        "margin": {
         "t": 60
        },
        "template": {
         "data": {
          "bar": [
           {
            "error_x": {
             "color": "#2a3f5f"
            },
            "error_y": {
             "color": "#2a3f5f"
            },
            "marker": {
             "line": {
              "color": "#E5ECF6",
              "width": 0.5
             },
             "pattern": {
              "fillmode": "overlay",
              "size": 10,
              "solidity": 0.2
             }
            },
            "type": "bar"
           }
          ],
          "barpolar": [
           {
            "marker": {
             "line": {
              "color": "#E5ECF6",
              "width": 0.5
             },
             "pattern": {
              "fillmode": "overlay",
              "size": 10,
              "solidity": 0.2
             }
            },
            "type": "barpolar"
           }
          ],
          "carpet": [
           {
            "aaxis": {
             "endlinecolor": "#2a3f5f",
             "gridcolor": "white",
             "linecolor": "white",
             "minorgridcolor": "white",
             "startlinecolor": "#2a3f5f"
            },
            "baxis": {
             "endlinecolor": "#2a3f5f",
             "gridcolor": "white",
             "linecolor": "white",
             "minorgridcolor": "white",
             "startlinecolor": "#2a3f5f"
            },
            "type": "carpet"
           }
          ],
          "choropleth": [
           {
            "colorbar": {
             "outlinewidth": 0,
             "ticks": ""
            },
            "type": "choropleth"
           }
          ],
          "contour": [
           {
            "colorbar": {
             "outlinewidth": 0,
             "ticks": ""
            },
            "colorscale": [
             [
              0,
              "#0d0887"
             ],
             [
              0.1111111111111111,
              "#46039f"
             ],
             [
              0.2222222222222222,
              "#7201a8"
             ],
             [
              0.3333333333333333,
              "#9c179e"
             ],
             [
              0.4444444444444444,
              "#bd3786"
             ],
             [
              0.5555555555555556,
              "#d8576b"
             ],
             [
              0.6666666666666666,
              "#ed7953"
             ],
             [
              0.7777777777777778,
              "#fb9f3a"
             ],
             [
              0.8888888888888888,
              "#fdca26"
             ],
             [
              1,
              "#f0f921"
             ]
            ],
            "type": "contour"
           }
          ],
          "contourcarpet": [
           {
            "colorbar": {
             "outlinewidth": 0,
             "ticks": ""
            },
            "type": "contourcarpet"
           }
          ],
          "heatmap": [
           {
            "colorbar": {
             "outlinewidth": 0,
             "ticks": ""
            },
            "colorscale": [
             [
              0,
              "#0d0887"
             ],
             [
              0.1111111111111111,
              "#46039f"
             ],
             [
              0.2222222222222222,
              "#7201a8"
             ],
             [
              0.3333333333333333,
              "#9c179e"
             ],
             [
              0.4444444444444444,
              "#bd3786"
             ],
             [
              0.5555555555555556,
              "#d8576b"
             ],
             [
              0.6666666666666666,
              "#ed7953"
             ],
             [
              0.7777777777777778,
              "#fb9f3a"
             ],
             [
              0.8888888888888888,
              "#fdca26"
             ],
             [
              1,
              "#f0f921"
             ]
            ],
            "type": "heatmap"
           }
          ],
          "heatmapgl": [
           {
            "colorbar": {
             "outlinewidth": 0,
             "ticks": ""
            },
            "colorscale": [
             [
              0,
              "#0d0887"
             ],
             [
              0.1111111111111111,
              "#46039f"
             ],
             [
              0.2222222222222222,
              "#7201a8"
             ],
             [
              0.3333333333333333,
              "#9c179e"
             ],
             [
              0.4444444444444444,
              "#bd3786"
             ],
             [
              0.5555555555555556,
              "#d8576b"
             ],
             [
              0.6666666666666666,
              "#ed7953"
             ],
             [
              0.7777777777777778,
              "#fb9f3a"
             ],
             [
              0.8888888888888888,
              "#fdca26"
             ],
             [
              1,
              "#f0f921"
             ]
            ],
            "type": "heatmapgl"
           }
          ],
          "histogram": [
           {
            "marker": {
             "pattern": {
              "fillmode": "overlay",
              "size": 10,
              "solidity": 0.2
             }
            },
            "type": "histogram"
           }
          ],
          "histogram2d": [
           {
            "colorbar": {
             "outlinewidth": 0,
             "ticks": ""
            },
            "colorscale": [
             [
              0,
              "#0d0887"
             ],
             [
              0.1111111111111111,
              "#46039f"
             ],
             [
              0.2222222222222222,
              "#7201a8"
             ],
             [
              0.3333333333333333,
              "#9c179e"
             ],
             [
              0.4444444444444444,
              "#bd3786"
             ],
             [
              0.5555555555555556,
              "#d8576b"
             ],
             [
              0.6666666666666666,
              "#ed7953"
             ],
             [
              0.7777777777777778,
              "#fb9f3a"
             ],
             [
              0.8888888888888888,
              "#fdca26"
             ],
             [
              1,
              "#f0f921"
             ]
            ],
            "type": "histogram2d"
           }
          ],
          "histogram2dcontour": [
           {
            "colorbar": {
             "outlinewidth": 0,
             "ticks": ""
            },
            "colorscale": [
             [
              0,
              "#0d0887"
             ],
             [
              0.1111111111111111,
              "#46039f"
             ],
             [
              0.2222222222222222,
              "#7201a8"
             ],
             [
              0.3333333333333333,
              "#9c179e"
             ],
             [
              0.4444444444444444,
              "#bd3786"
             ],
             [
              0.5555555555555556,
              "#d8576b"
             ],
             [
              0.6666666666666666,
              "#ed7953"
             ],
             [
              0.7777777777777778,
              "#fb9f3a"
             ],
             [
              0.8888888888888888,
              "#fdca26"
             ],
             [
              1,
              "#f0f921"
             ]
            ],
            "type": "histogram2dcontour"
           }
          ],
          "mesh3d": [
           {
            "colorbar": {
             "outlinewidth": 0,
             "ticks": ""
            },
            "type": "mesh3d"
           }
          ],
          "parcoords": [
           {
            "line": {
             "colorbar": {
              "outlinewidth": 0,
              "ticks": ""
             }
            },
            "type": "parcoords"
           }
          ],
          "pie": [
           {
            "automargin": true,
            "type": "pie"
           }
          ],
          "scatter": [
           {
            "fillpattern": {
             "fillmode": "overlay",
             "size": 10,
             "solidity": 0.2
            },
            "type": "scatter"
           }
          ],
          "scatter3d": [
           {
            "line": {
             "colorbar": {
              "outlinewidth": 0,
              "ticks": ""
             }
            },
            "marker": {
             "colorbar": {
              "outlinewidth": 0,
              "ticks": ""
             }
            },
            "type": "scatter3d"
           }
          ],
          "scattercarpet": [
           {
            "marker": {
             "colorbar": {
              "outlinewidth": 0,
              "ticks": ""
             }
            },
            "type": "scattercarpet"
           }
          ],
          "scattergeo": [
           {
            "marker": {
             "colorbar": {
              "outlinewidth": 0,
              "ticks": ""
             }
            },
            "type": "scattergeo"
           }
          ],
          "scattergl": [
           {
            "marker": {
             "colorbar": {
              "outlinewidth": 0,
              "ticks": ""
             }
            },
            "type": "scattergl"
           }
          ],
          "scattermapbox": [
           {
            "marker": {
             "colorbar": {
              "outlinewidth": 0,
              "ticks": ""
             }
            },
            "type": "scattermapbox"
           }
          ],
          "scatterpolar": [
           {
            "marker": {
             "colorbar": {
              "outlinewidth": 0,
              "ticks": ""
             }
            },
            "type": "scatterpolar"
           }
          ],
          "scatterpolargl": [
           {
            "marker": {
             "colorbar": {
              "outlinewidth": 0,
              "ticks": ""
             }
            },
            "type": "scatterpolargl"
           }
          ],
          "scatterternary": [
           {
            "marker": {
             "colorbar": {
              "outlinewidth": 0,
              "ticks": ""
             }
            },
            "type": "scatterternary"
           }
          ],
          "surface": [
           {
            "colorbar": {
             "outlinewidth": 0,
             "ticks": ""
            },
            "colorscale": [
             [
              0,
              "#0d0887"
             ],
             [
              0.1111111111111111,
              "#46039f"
             ],
             [
              0.2222222222222222,
              "#7201a8"
             ],
             [
              0.3333333333333333,
              "#9c179e"
             ],
             [
              0.4444444444444444,
              "#bd3786"
             ],
             [
              0.5555555555555556,
              "#d8576b"
             ],
             [
              0.6666666666666666,
              "#ed7953"
             ],
             [
              0.7777777777777778,
              "#fb9f3a"
             ],
             [
              0.8888888888888888,
              "#fdca26"
             ],
             [
              1,
              "#f0f921"
             ]
            ],
            "type": "surface"
           }
          ],
          "table": [
           {
            "cells": {
             "fill": {
              "color": "#EBF0F8"
             },
             "line": {
              "color": "white"
             }
            },
            "header": {
             "fill": {
              "color": "#C8D4E3"
             },
             "line": {
              "color": "white"
             }
            },
            "type": "table"
           }
          ]
         },
         "layout": {
          "annotationdefaults": {
           "arrowcolor": "#2a3f5f",
           "arrowhead": 0,
           "arrowwidth": 1
          },
          "autotypenumbers": "strict",
          "coloraxis": {
           "colorbar": {
            "outlinewidth": 0,
            "ticks": ""
           }
          },
          "colorscale": {
           "diverging": [
            [
             0,
             "#8e0152"
            ],
            [
             0.1,
             "#c51b7d"
            ],
            [
             0.2,
             "#de77ae"
            ],
            [
             0.3,
             "#f1b6da"
            ],
            [
             0.4,
             "#fde0ef"
            ],
            [
             0.5,
             "#f7f7f7"
            ],
            [
             0.6,
             "#e6f5d0"
            ],
            [
             0.7,
             "#b8e186"
            ],
            [
             0.8,
             "#7fbc41"
            ],
            [
             0.9,
             "#4d9221"
            ],
            [
             1,
             "#276419"
            ]
           ],
           "sequential": [
            [
             0,
             "#0d0887"
            ],
            [
             0.1111111111111111,
             "#46039f"
            ],
            [
             0.2222222222222222,
             "#7201a8"
            ],
            [
             0.3333333333333333,
             "#9c179e"
            ],
            [
             0.4444444444444444,
             "#bd3786"
            ],
            [
             0.5555555555555556,
             "#d8576b"
            ],
            [
             0.6666666666666666,
             "#ed7953"
            ],
            [
             0.7777777777777778,
             "#fb9f3a"
            ],
            [
             0.8888888888888888,
             "#fdca26"
            ],
            [
             1,
             "#f0f921"
            ]
           ],
           "sequentialminus": [
            [
             0,
             "#0d0887"
            ],
            [
             0.1111111111111111,
             "#46039f"
            ],
            [
             0.2222222222222222,
             "#7201a8"
            ],
            [
             0.3333333333333333,
             "#9c179e"
            ],
            [
             0.4444444444444444,
             "#bd3786"
            ],
            [
             0.5555555555555556,
             "#d8576b"
            ],
            [
             0.6666666666666666,
             "#ed7953"
            ],
            [
             0.7777777777777778,
             "#fb9f3a"
            ],
            [
             0.8888888888888888,
             "#fdca26"
            ],
            [
             1,
             "#f0f921"
            ]
           ]
          },
          "colorway": [
           "#636efa",
           "#EF553B",
           "#00cc96",
           "#ab63fa",
           "#FFA15A",
           "#19d3f3",
           "#FF6692",
           "#B6E880",
           "#FF97FF",
           "#FECB52"
          ],
          "font": {
           "color": "#2a3f5f"
          },
          "geo": {
           "bgcolor": "white",
           "lakecolor": "white",
           "landcolor": "#E5ECF6",
           "showlakes": true,
           "showland": true,
           "subunitcolor": "white"
          },
          "hoverlabel": {
           "align": "left"
          },
          "hovermode": "closest",
          "mapbox": {
           "style": "light"
          },
          "paper_bgcolor": "white",
          "plot_bgcolor": "#E5ECF6",
          "polar": {
           "angularaxis": {
            "gridcolor": "white",
            "linecolor": "white",
            "ticks": ""
           },
           "bgcolor": "#E5ECF6",
           "radialaxis": {
            "gridcolor": "white",
            "linecolor": "white",
            "ticks": ""
           }
          },
          "scene": {
           "xaxis": {
            "backgroundcolor": "#E5ECF6",
            "gridcolor": "white",
            "gridwidth": 2,
            "linecolor": "white",
            "showbackground": true,
            "ticks": "",
            "zerolinecolor": "white"
           },
           "yaxis": {
            "backgroundcolor": "#E5ECF6",
            "gridcolor": "white",
            "gridwidth": 2,
            "linecolor": "white",
            "showbackground": true,
            "ticks": "",
            "zerolinecolor": "white"
           },
           "zaxis": {
            "backgroundcolor": "#E5ECF6",
            "gridcolor": "white",
            "gridwidth": 2,
            "linecolor": "white",
            "showbackground": true,
            "ticks": "",
            "zerolinecolor": "white"
           }
          },
          "shapedefaults": {
           "line": {
            "color": "#2a3f5f"
           }
          },
          "ternary": {
           "aaxis": {
            "gridcolor": "white",
            "linecolor": "white",
            "ticks": ""
           },
           "baxis": {
            "gridcolor": "white",
            "linecolor": "white",
            "ticks": ""
           },
           "bgcolor": "#E5ECF6",
           "caxis": {
            "gridcolor": "white",
            "linecolor": "white",
            "ticks": ""
           }
          },
          "title": {
           "x": 0.05
          },
          "xaxis": {
           "automargin": true,
           "gridcolor": "white",
           "linecolor": "white",
           "ticks": "",
           "title": {
            "standoff": 15
           },
           "zerolinecolor": "white",
           "zerolinewidth": 2
          },
          "yaxis": {
           "automargin": true,
           "gridcolor": "white",
           "linecolor": "white",
           "ticks": "",
           "title": {
            "standoff": 15
           },
           "zerolinecolor": "white",
           "zerolinewidth": 2
          }
         }
        },
        "xaxis": {
         "anchor": "y",
         "autorange": true,
         "domain": [
          0,
          1
         ],
         "range": [
          -14.595305971954858,
          213.30648473908735
         ],
         "title": {
          "text": "concept"
         },
         "type": "category"
        },
        "yaxis": {
         "anchor": "x",
         "autorange": true,
         "domain": [
          0,
          1
         ],
         "range": [
          1.3003618641759742,
          8.671280474099511
         ],
         "title": {
          "text": "frequency"
         },
         "type": "linear"
        }
       }
      },
      "image/png": "[encoded data removed]",
      "text/html": [
       "<div>                            <div id=\"f22cece8-db31-49c8-84c8-3a14476a9c5f\" class=\"plotly-graph-div\" style=\"height:700px; width:100%;\"></div>            <script type=\"text/javascript\">                require([\"plotly\"], function(Plotly) {                    window.PLOTLYENV=window.PLOTLYENV || {};                                    if (document.getElementById(\"f22cece8-db31-49c8-84c8-3a14476a9c5f\")) {                    Plotly.newPlot(                        \"f22cece8-db31-49c8-84c8-3a14476a9c5f\",                        [{\"hovertemplate\":\"concept=%{x}\\u003cbr\\u003efrequency=%{y}\\u003cbr\\u003escore_avg=%{marker.color}\\u003cextra\\u003e\\u003c\\u002fextra\\u003e\",\"legendgroup\":\"\",\"marker\":{\"color\":[0.8935,0.8785,0.874,0.8705,0.863,0.8615,0.861,0.858,0.857,0.856,0.856,0.854,0.853,0.853,0.853,0.8415,0.84,0.839,0.8332,0.8315,0.83,0.8282,0.82675,0.824,0.824,0.8225,0.8225,0.8225,0.822,0.8215,0.82,0.82,0.819,0.8185,0.81775,0.8175,0.8165,0.8155,0.81467,0.81333,0.813,0.812,0.81,0.809,0.80825,0.80733,0.807,0.80667,0.804,0.804,0.8025,0.802,0.801,0.801,0.797,0.795,0.794,0.7895,0.78933,0.788,0.78725,0.7865,0.7865,0.786,0.7845,0.7845,0.78425,0.7835,0.7825,0.78067,0.78,0.779,0.778,0.777,0.777,0.777,0.776,0.77575,0.7755,0.7745,0.774,0.77367,0.7725,0.772,0.77133,0.7704,0.76943,0.7685,0.767,0.767,0.7665,0.7665,0.766,0.766,0.7645,0.764,0.7635,0.763,0.76267,0.7625,0.762,0.762,0.762,0.762,0.76175,0.7615,0.7615,0.761,0.761,0.761,0.761,0.7605,0.75967,0.7595,0.7595,0.759,0.759,0.759,0.7585,0.7585,0.7585,0.7585,0.758,0.75757,0.7575,0.7575,0.7575,0.7575,0.756,0.756,0.756,0.756,0.756,0.756,0.7555,0.755,0.755,0.755,0.75467,0.7545,0.7545,0.754,0.754,0.754,0.754,0.7535,0.7535,0.7535,0.7535,0.7535,0.753,0.753,0.753,0.753,0.7525,0.752,0.752,0.75183,0.75167,0.751,0.751,0.7505,0.7505,0.7495,0.7495,0.749,0.749,0.74875,0.7485,0.7485,0.7485,0.748,0.7475,0.7475,0.747,0.747,0.7465,0.74633,0.746,0.746,0.74567,0.7455,0.7455,0.7455,0.745,0.7445,0.744,0.74367,0.743,0.7425,0.742,0.7415,0.7415,0.7415,0.7405,0.74,0.74,0.74,0.74,0.7395],\"coloraxis\":\"coloraxis\",\"size\":[0.8935,0.8785,0.874,0.8705,0.863,0.8615,0.861,0.858,0.857,0.856,0.856,0.854,0.853,0.853,0.853,0.8415,0.84,0.839,0.8332,0.8315,0.83,0.8282,0.82675,0.824,0.824,0.8225,0.8225,0.8225,0.822,0.8215,0.82,0.82,0.819,0.8185,0.81775,0.8175,0.8165,0.8155,0.81467,0.81333,0.813,0.812,0.81,0.809,0.80825,0.80733,0.807,0.80667,0.804,0.804,0.8025,0.802,0.801,0.801,0.797,0.795,0.794,0.7895,0.78933,0.788,0.78725,0.7865,0.7865,0.786,0.7845,0.7845,0.78425,0.7835,0.7825,0.78067,0.78,0.779,0.778,0.777,0.777,0.777,0.776,0.77575,0.7755,0.7745,0.774,0.77367,0.7725,0.772,0.77133,0.7704,0.76943,0.7685,0.767,0.767,0.7665,0.7665,0.766,0.766,0.7645,0.764,0.7635,0.763,0.76267,0.7625,0.762,0.762,0.762,0.762,0.76175,0.7615,0.7615,0.761,0.761,0.761,0.761,0.7605,0.75967,0.7595,0.7595,0.759,0.759,0.759,0.7585,0.7585,0.7585,0.7585,0.758,0.75757,0.7575,0.7575,0.7575,0.7575,0.756,0.756,0.756,0.756,0.756,0.756,0.7555,0.755,0.755,0.755,0.75467,0.7545,0.7545,0.754,0.754,0.754,0.754,0.7535,0.7535,0.7535,0.7535,0.7535,0.753,0.753,0.753,0.753,0.7525,0.752,0.752,0.75183,0.75167,0.751,0.751,0.7505,0.7505,0.7495,0.7495,0.749,0.749,0.74875,0.7485,0.7485,0.7485,0.748,0.7475,0.7475,0.747,0.747,0.7465,0.74633,0.746,0.746,0.74567,0.7455,0.7455,0.7455,0.745,0.7445,0.744,0.74367,0.743,0.7425,0.742,0.7415,0.7415,0.7415,0.7405,0.74,0.74,0.74,0.74,0.7395],\"sizemode\":\"area\",\"sizeref\":0.00223375,\"symbol\":\"circle\"},\"mode\":\"markers\",\"name\":\"\",\"orientation\":\"v\",\"showlegend\":false,\"x\":[\"embryonic stem cell research\",\"human embryonic stem cell research\",\"board gender diversity\",\"social science research\",\"environmental disclosure\",\"non-Christian religions\",\"New Testament studies\",\"discourse ethics\",\"compensation structure\",\"gender diversity\",\"role of history\",\"non-governmental organizations\",\"community-based research\",\"social contract theory\",\"literary history\",\"moral duty\",\"welfare rights\",\"children\\u2019s rights\",\"Jewish-Christian dialogue\",\"book culture\",\"later philosophy\",\"moral emotions\",\"stem cell research\",\"Catholic natural law\",\"trait selection\",\"philosophy of law\",\"digital media\",\"demonstrative thought\",\"philosophers of religion\",\"system of ethics\",\"clinical ethics consultation\",\"ethics of generosity\",\"mental imagery\",\"research ethics review\",\"evolutionary ethics\",\"Tamil literary history\",\"animal agriculture\",\"employee engagement\",\"philosophy of nature\",\"voluntary environmental disclosures\",\"farm animals\",\"member states\",\"employee entrepreneurship\",\"corporate fraud\",\"international human rights law\",\"minority rights\",\"history of psychiatry\",\"ethics of care\",\"financial misconduct\",\"multiple trait selection\",\"concept of truth\",\"Jewish ethical tradition\",\"Jewish-Christian relations\",\"Islamic schools\",\"vocal music\",\"Wittgenstein\\u2019s later philosophy\",\"spiritual warfare\",\"ethical research practice\",\"legal order\",\"Western intellectual tradition\",\"human rights law\",\"trait attributions\",\"Second African Synod\",\"corporate social performance\",\"moral justification\",\"law tradition\",\"moral psychology\",\"true doctrine\",\"private law\",\"ethical traditions\",\"Islamic Cooperation\",\"social ethics\",\"professional ethics\",\"ethical themes\",\"moral competencies\",\"moral discourse\",\"research ethics governance\",\"point of departure\",\"contract theory\",\"financial performance\",\"art theory\",\"sexual identity\",\"political morality\",\"Global Reporting Initiative sustainability\",\"later writings\",\"ethics review board\",\"religious experience\",\"state of consciousness\",\"own thinking\",\"United Nations\",\"public theology\",\"geographical knowledge\",\"high performers\",\"neutral theory\",\"linear algebra\",\"international legal order\",\"epistemology of disagreement\",\"Natural Law account\",\"code of ethics\",\"fact of pluralism\",\"political agency\",\"analytic philosophy\",\"Grameen Bank\",\"theological ethics\",\"philosophy of mind\",\"philosophical tradition\",\"Jewish thinkers\",\"Islamic political thought\",\"philosophical position\",\"biomedical ethics\",\"philosophy of sex\",\"academic philosophy\",\"ethics of immigration\",\"ethical perspective\",\"theories of ethics\",\"long philosophical history\",\"Christian University\",\"research ethics guidelines\",\"global health research\",\"moral tradition\",\"great philosophers\",\"later dialogues\",\"liberal political theorists\",\"ethical theory\",\"new ethical challenges\",\"animal improvement\",\"future ethical challenges\",\"ethical goals\",\"cell research\",\"Advaita Ved\\u0101nta\",\"synthetic distinction\",\"John Rawls's theory\",\"bioscience companies\",\"philosophy of history\",\"wall of separation\",\"gender-diverse boards\",\"science teachers\",\"medical tradition\",\"history of philosophy\",\"philosophy of language\",\"image of God\",\"corporate environmental performance\",\"research ethical issues\",\"theory of justice\",\"high performing employees\",\"social history\",\"character judgments\",\"natural philosophers\",\"secular rulers\",\"unique ethical challenges\",\"community-based participatory research\",\"global justice\",\"tort law\",\"discretionary environmental disclosures\",\"legal arguments\",\"sovereign power\",\"voluntary disclosure theory\",\"public reason\",\"educational theory\",\"ethics principles\",\"third step I\",\"K\\u00e4the Kollwitz\",\"instrumental reasoning\",\"contemporary liberal theory\",\"human soul\",\"today's political environment\",\"human resource management\",\"intellectual tradition\",\"religious observance\",\"Aquinas\\u2019s account\",\"Islamic Revolution\",\"historical amnesia\",\"psychological state\",\"visual mental imagery\",\"public health ethics\",\"religious reasons\",\"ancient Near East\",\"teaching of history\",\"historical understanding\",\"international political reality\",\"sacred music\",\"moral virtues\",\"ethics issues\",\"principled rejection\",\"liberal democratic states\",\"common home\",\"largest inter-governmental organization\",\"postcolonial theory\",\"post-regulation period\",\"historical facts\",\"Western civilization\",\"ethical arguments\",\"poverty relief\",\"mathematical physics\",\"ethics governance\",\"religious values\",\"intellectual virtues\",\"important strategic decisions\",\"content analysis index\",\"verbal language\"],\"xaxis\":\"x\",\"y\":[2,2,2,2,3,2,2,3,2,2,2,3,2,2,2,2,2,2,5,2,3,5,4,2,2,2,2,2,2,2,2,2,2,2,4,2,2,2,3,3,2,2,2,2,4,3,2,3,2,2,2,3,3,2,2,3,2,2,6,3,4,2,2,2,2,2,4,2,2,3,2,2,2,2,2,2,2,4,2,2,2,3,2,2,3,5,7,2,3,2,2,2,2,2,2,2,2,2,3,2,2,2,2,2,4,2,2,2,2,2,2,2,3,2,2,2,2,2,4,2,2,2,2,7,2,2,2,2,4,2,2,2,2,2,2,2,2,2,3,2,2,3,2,2,2,4,2,2,2,2,3,3,2,2,2,2,2,6,3,2,2,2,2,2,2,2,2,4,2,2,2,2,2,2,8,2,2,3,2,2,3,2,2,2,2,2,2,3,2,2,2,2,2,2,2,3,2,2,2,2],\"yaxis\":\"y\",\"type\":\"scatter\"}],                        {\"template\":{\"data\":{\"histogram2dcontour\":[{\"type\":\"histogram2dcontour\",\"colorbar\":{\"outlinewidth\":0,\"ticks\":\"\"},\"colorscale\":[[0.0,\"#0d0887\"],[0.1111111111111111,\"#46039f\"],[0.2222222222222222,\"#7201a8\"],[0.3333333333333333,\"#9c179e\"],[0.4444444444444444,\"#bd3786\"],[0.5555555555555556,\"#d8576b\"],[0.6666666666666666,\"#ed7953\"],[0.7777777777777778,\"#fb9f3a\"],[0.8888888888888888,\"#fdca26\"],[1.0,\"#f0f921\"]]}],\"choropleth\":[{\"type\":\"choropleth\",\"colorbar\":{\"outlinewidth\":0,\"ticks\":\"\"}}],\"histogram2d\":[{\"type\":\"histogram2d\",\"colorbar\":{\"outlinewidth\":0,\"ticks\":\"\"},\"colorscale\":[[0.0,\"#0d0887\"],[0.1111111111111111,\"#46039f\"],[0.2222222222222222,\"#7201a8\"],[0.3333333333333333,\"#9c179e\"],[0.4444444444444444,\"#bd3786\"],[0.5555555555555556,\"#d8576b\"],[0.6666666666666666,\"#ed7953\"],[0.7777777777777778,\"#fb9f3a\"],[0.8888888888888888,\"#fdca26\"],[1.0,\"#f0f921\"]]}],\"heatmap\":[{\"type\":\"heatmap\",\"colorbar\":{\"outlinewidth\":0,\"ticks\":\"\"},\"colorscale\":[[0.0,\"#0d0887\"],[0.1111111111111111,\"#46039f\"],[0.2222222222222222,\"#7201a8\"],[0.3333333333333333,\"#9c179e\"],[0.4444444444444444,\"#bd3786\"],[0.5555555555555556,\"#d8576b\"],[0.6666666666666666,\"#ed7953\"],[0.7777777777777778,\"#fb9f3a\"],[0.8888888888888888,\"#fdca26\"],[1.0,\"#f0f921\"]]}],\"heatmapgl\":[{\"type\":\"heatmapgl\",\"colorbar\":{\"outlinewidth\":0,\"ticks\":\"\"},\"colorscale\":[[0.0,\"#0d0887\"],[0.1111111111111111,\"#46039f\"],[0.2222222222222222,\"#7201a8\"],[0.3333333333333333,\"#9c179e\"],[0.4444444444444444,\"#bd3786\"],[0.5555555555555556,\"#d8576b\"],[0.6666666666666666,\"#ed7953\"],[0.7777777777777778,\"#fb9f3a\"],[0.8888888888888888,\"#fdca26\"],[1.0,\"#f0f921\"]]}],\"contourcarpet\":[{\"type\":\"contourcarpet\",\"colorbar\":{\"outlinewidth\":0,\"ticks\":\"\"}}],\"contour\":[{\"type\":\"contour\",\"colorbar\":{\"outlinewidth\":0,\"ticks\":\"\"},\"colorscale\":[[0.0,\"#0d0887\"],[0.1111111111111111,\"#46039f\"],[0.2222222222222222,\"#7201a8\"],[0.3333333333333333,\"#9c179e\"],[0.4444444444444444,\"#bd3786\"],[0.5555555555555556,\"#d8576b\"],[0.6666666666666666,\"#ed7953\"],[0.7777777777777778,\"#fb9f3a\"],[0.8888888888888888,\"#fdca26\"],[1.0,\"#f0f921\"]]}],\"surface\":[{\"type\":\"surface\",\"colorbar\":{\"outlinewidth\":0,\"ticks\":\"\"},\"colorscale\":[[0.0,\"#0d0887\"],[0.1111111111111111,\"#46039f\"],[0.2222222222222222,\"#7201a8\"],[0.3333333333333333,\"#9c179e\"],[0.4444444444444444,\"#bd3786\"],[0.5555555555555556,\"#d8576b\"],[0.6666666666666666,\"#ed7953\"],[0.7777777777777778,\"#fb9f3a\"],[0.8888888888888888,\"#fdca26\"],[1.0,\"#f0f921\"]]}],\"mesh3d\":[{\"type\":\"mesh3d\",\"colorbar\":{\"outlinewidth\":0,\"ticks\":\"\"}}],\"scatter\":[{\"fillpattern\":{\"fillmode\":\"overlay\",\"size\":10,\"solidity\":0.2},\"type\":\"scatter\"}],\"parcoords\":[{\"type\":\"parcoords\",\"line\":{\"colorbar\":{\"outlinewidth\":0,\"ticks\":\"\"}}}],\"scatterpolargl\":[{\"type\":\"scatterpolargl\",\"marker\":{\"colorbar\":{\"outlinewidth\":0,\"ticks\":\"\"}}}],\"bar\":[{\"error_x\":{\"color\":\"#2a3f5f\"},\"error_y\":{\"color\":\"#2a3f5f\"},\"marker\":{\"line\":{\"color\":\"#E5ECF6\",\"width\":0.5},\"pattern\":{\"fillmode\":\"overlay\",\"size\":10,\"solidity\":0.2}},\"type\":\"bar\"}],\"scattergeo\":[{\"type\":\"scattergeo\",\"marker\":{\"colorbar\":{\"outlinewidth\":0,\"ticks\":\"\"}}}],\"scatterpolar\":[{\"type\":\"scatterpolar\",\"marker\":{\"colorbar\":{\"outlinewidth\":0,\"ticks\":\"\"}}}],\"histogram\":[{\"marker\":{\"pattern\":{\"fillmode\":\"overlay\",\"size\":10,\"solidity\":0.2}},\"type\":\"histogram\"}],\"scattergl\":[{\"type\":\"scattergl\",\"marker\":{\"colorbar\":{\"outlinewidth\":0,\"ticks\":\"\"}}}],\"scatter3d\":[{\"type\":\"scatter3d\",\"line\":{\"colorbar\":{\"outlinewidth\":0,\"ticks\":\"\"}},\"marker\":{\"colorbar\":{\"outlinewidth\":0,\"ticks\":\"\"}}}],\"scattermapbox\":[{\"type\":\"scattermapbox\",\"marker\":{\"colorbar\":{\"outlinewidth\":0,\"ticks\":\"\"}}}],\"scatterternary\":[{\"type\":\"scatterternary\",\"marker\":{\"colorbar\":{\"outlinewidth\":0,\"ticks\":\"\"}}}],\"scattercarpet\":[{\"type\":\"scattercarpet\",\"marker\":{\"colorbar\":{\"outlinewidth\":0,\"ticks\":\"\"}}}],\"carpet\":[{\"aaxis\":{\"endlinecolor\":\"#2a3f5f\",\"gridcolor\":\"white\",\"linecolor\":\"white\",\"minorgridcolor\":\"white\",\"startlinecolor\":\"#2a3f5f\"},\"baxis\":{\"endlinecolor\":\"#2a3f5f\",\"gridcolor\":\"white\",\"linecolor\":\"white\",\"minorgridcolor\":\"white\",\"startlinecolor\":\"#2a3f5f\"},\"type\":\"carpet\"}],\"table\":[{\"cells\":{\"fill\":{\"color\":\"#EBF0F8\"},\"line\":{\"color\":\"white\"}},\"header\":{\"fill\":{\"color\":\"#C8D4E3\"},\"line\":{\"color\":\"white\"}},\"type\":\"table\"}],\"barpolar\":[{\"marker\":{\"line\":{\"color\":\"#E5ECF6\",\"width\":0.5},\"pattern\":{\"fillmode\":\"overlay\",\"size\":10,\"solidity\":0.2}},\"type\":\"barpolar\"}],\"pie\":[{\"automargin\":true,\"type\":\"pie\"}]},\"layout\":{\"autotypenumbers\":\"strict\",\"colorway\":[\"#636efa\",\"#EF553B\",\"#00cc96\",\"#ab63fa\",\"#FFA15A\",\"#19d3f3\",\"#FF6692\",\"#B6E880\",\"#FF97FF\",\"#FECB52\"],\"font\":{\"color\":\"#2a3f5f\"},\"hovermode\":\"closest\",\"hoverlabel\":{\"align\":\"left\"},\"paper_bgcolor\":\"white\",\"plot_bgcolor\":\"#E5ECF6\",\"polar\":{\"bgcolor\":\"#E5ECF6\",\"angularaxis\":{\"gridcolor\":\"white\",\"linecolor\":\"white\",\"ticks\":\"\"},\"radialaxis\":{\"gridcolor\":\"white\",\"linecolor\":\"white\",\"ticks\":\"\"}},\"ternary\":{\"bgcolor\":\"#E5ECF6\",\"aaxis\":{\"gridcolor\":\"white\",\"linecolor\":\"white\",\"ticks\":\"\"},\"baxis\":{\"gridcolor\":\"white\",\"linecolor\":\"white\",\"ticks\":\"\"},\"caxis\":{\"gridcolor\":\"white\",\"linecolor\":\"white\",\"ticks\":\"\"}},\"coloraxis\":{\"colorbar\":{\"outlinewidth\":0,\"ticks\":\"\"}},\"colorscale\":{\"sequential\":[[0.0,\"#0d0887\"],[0.1111111111111111,\"#46039f\"],[0.2222222222222222,\"#7201a8\"],[0.3333333333333333,\"#9c179e\"],[0.4444444444444444,\"#bd3786\"],[0.5555555555555556,\"#d8576b\"],[0.6666666666666666,\"#ed7953\"],[0.7777777777777778,\"#fb9f3a\"],[0.8888888888888888,\"#fdca26\"],[1.0,\"#f0f921\"]],\"sequentialminus\":[[0.0,\"#0d0887\"],[0.1111111111111111,\"#46039f\"],[0.2222222222222222,\"#7201a8\"],[0.3333333333333333,\"#9c179e\"],[0.4444444444444444,\"#bd3786\"],[0.5555555555555556,\"#d8576b\"],[0.6666666666666666,\"#ed7953\"],[0.7777777777777778,\"#fb9f3a\"],[0.8888888888888888,\"#fdca26\"],[1.0,\"#f0f921\"]],\"diverging\":[[0,\"#8e0152\"],[0.1,\"#c51b7d\"],[0.2,\"#de77ae\"],[0.3,\"#f1b6da\"],[0.4,\"#fde0ef\"],[0.5,\"#f7f7f7\"],[0.6,\"#e6f5d0\"],[0.7,\"#b8e186\"],[0.8,\"#7fbc41\"],[0.9,\"#4d9221\"],[1,\"#276419\"]]},\"xaxis\":{\"gridcolor\":\"white\",\"linecolor\":\"white\",\"ticks\":\"\",\"title\":{\"standoff\":15},\"zerolinecolor\":\"white\",\"automargin\":true,\"zerolinewidth\":2},\"yaxis\":{\"gridcolor\":\"white\",\"linecolor\":\"white\",\"ticks\":\"\",\"title\":{\"standoff\":15},\"zerolinecolor\":\"white\",\"automargin\":true,\"zerolinewidth\":2},\"scene\":{\"xaxis\":{\"backgroundcolor\":\"#E5ECF6\",\"gridcolor\":\"white\",\"linecolor\":\"white\",\"showbackground\":true,\"ticks\":\"\",\"zerolinecolor\":\"white\",\"gridwidth\":2},\"yaxis\":{\"backgroundcolor\":\"#E5ECF6\",\"gridcolor\":\"white\",\"linecolor\":\"white\",\"showbackground\":true,\"ticks\":\"\",\"zerolinecolor\":\"white\",\"gridwidth\":2},\"zaxis\":{\"backgroundcolor\":\"#E5ECF6\",\"gridcolor\":\"white\",\"linecolor\":\"white\",\"showbackground\":true,\"ticks\":\"\",\"zerolinecolor\":\"white\",\"gridwidth\":2}},\"shapedefaults\":{\"line\":{\"color\":\"#2a3f5f\"}},\"annotationdefaults\":{\"arrowcolor\":\"#2a3f5f\",\"arrowhead\":0,\"arrowwidth\":1},\"geo\":{\"bgcolor\":\"white\",\"landcolor\":\"#E5ECF6\",\"subunitcolor\":\"white\",\"showland\":true,\"showlakes\":true,\"lakecolor\":\"white\"},\"title\":{\"x\":0.05},\"mapbox\":{\"style\":\"light\"}}},\"xaxis\":{\"anchor\":\"y\",\"domain\":[0.0,1.0],\"title\":{\"text\":\"concept\"}},\"yaxis\":{\"anchor\":\"x\",\"domain\":[0.0,1.0],\"title\":{\"text\":\"frequency\"}},\"coloraxis\":{\"colorbar\":{\"title\":{\"text\":\"score_avg\"}},\"colorscale\":[[0.0,\"#0d0887\"],[0.1111111111111111,\"#46039f\"],[0.2222222222222222,\"#7201a8\"],[0.3333333333333333,\"#9c179e\"],[0.4444444444444444,\"#bd3786\"],[0.5555555555555556,\"#d8576b\"],[0.6666666666666666,\"#ed7953\"],[0.7777777777777778,\"#fb9f3a\"],[0.8888888888888888,\"#fdca26\"],[1.0,\"#f0f921\"]]},\"legend\":{\"tracegroupgap\":0,\"itemsizing\":\"constant\"},\"margin\":{\"t\":60},\"height\":700},                        {\"responsive\": true}                    ).then(function(){\n",
       "                            \n",
       "var gd = document.getElementById('f22cece8-db31-49c8-84c8-3a14476a9c5f');\n",
       "var x = new MutationObserver(function (mutations, observer) {{\n",
       "        var display = window.getComputedStyle(gd).display;\n",
       "        if (!display || display === 'none') {{\n",
       "            console.log([gd, 'removed!']);\n",
       "            Plotly.purge(gd);\n",
       "            observer.disconnect();\n",
       "        }}\n",
       "}});\n",
       "\n",
       "// Listen for the removal of the full notebook cells\n",
       "var notebookContainer = gd.closest('#notebook-container');\n",
       "if (notebookContainer) {{\n",
       "    x.observe(notebookContainer, {childList: true});\n",
       "}}\n",
       "\n",
       "// Listen for the clearing of the current output cell\n",
       "var outputEl = gd.closest('.output');\n",
       "if (outputEl) {{\n",
       "    x.observe(outputEl, {childList: true});\n",
       "}}\n",
       "\n",
       "                        })                };                });            </script>        </div>"
      ]
     },
     "metadata": {},
     "output_type": "display_data"
    }
   ],
   "source": [
    "#@markdown ## Define the best parameters to isolate 'interesting' concepts\n",
    "#@markdown Frequency: how many documents include a concept (100 = no upper limit). \n",
    "#@markdown Tip: concepts with very high frequencies tend to be common words, so it is useful to exclude them. \n",
    "FREQ_MIN = 2 #@param {type: \"slider\", min: 1, max: 10, step:1}\n",
    "FREQ_MAX = 70 #@param {type: \"slider\", min: 10, max: 100, step:10}\n",
    "#@markdown ---\n",
    "#@markdown Score: the average relevancy score of concepts, for the dataset we extracted above.\n",
    "#@markdown This value tends to be a good indicator of 'interesting' concepts.\n",
    "SCORE_MIN = 0.4  #@param {type: \"slider\", min: 0, max: 1, step:0.1}\n",
    "#@markdown ---\n",
    "#@markdown Select how many concepts to include in the visualization \n",
    "MAX_CONCEPTS = 200 #@param {type: \"slider\", min: 20, max: 1000, step:10}\n",
    "\n",
    "if FREQ_MAX == 100:\n",
    "  FREQ_MAX = 100000000\n",
    "print(f\"\"\"You selected:\\n->{MAX_CONCEPTS}\\n->{FREQ_MIN}-{FREQ_MAX}\\n->{SCORE_MIN}\"\"\") \n",
    "\n",
    "filtered_concepts = concepts_unique.query(f\"\"\"frequency >= {FREQ_MIN} & frequency <= {FREQ_MAX} & score_avg >= {SCORE_MIN} \"\"\")\\\n",
    "                    .sort_values([\"score_avg\", \"frequency\"], ascending=False)[:MAX_CONCEPTS]\n",
    "\n",
    "px.scatter(filtered_concepts, \n",
    "           x=\"concept\", \n",
    "           y=\"frequency\", \n",
    "           height=700,\n",
    "           color=\"score_avg\", \n",
    "           size=\"score_avg\")"
   ]
  },
  {
   "cell_type": "markdown",
   "metadata": {
    "Collapsed": "false",
    "colab_type": "text",
    "id": "UiSUEjFdKHcW"
   },
   "source": [
    "## 3. Building a word-cloud visualization\n",
    "\n",
    "Wordclouds are often a pretty effective way of summarising the relative importance of keywords. \n",
    "\n",
    "The [wordcloud Python library](https://github.com/amueller/word_cloud) can be used to turn our concepts list into an image. The Wordcloud function takes a list of dictionaries with words/frequency eg\n",
    "\n",
    "```\n",
    "# [\n",
    "#    {'concept': 'study', 'frequency': 5707},\n",
    "#    {'concept': 'patients', 'frequency': 3579}\n",
    "#   ... etc... \n",
    "#. ]\n",
    "```\n",
    "\n",
    "So we can obtain that easily from the DSL concepts data. "
   ]
  },
  {
   "cell_type": "code",
   "execution_count": 19,
   "metadata": {
    "Collapsed": "false",
    "colab": {
     "base_uri": "https://localhost:8080/",
     "height": 248
    },
    "colab_type": "code",
    "executionInfo": {
     "elapsed": 61975,
     "status": "ok",
     "timestamp": 1593633284724,
     "user": {
      "displayName": "Michele Pasin",
      "photoUrl": "https://lh3.googleusercontent.com/a-/AOh14GiYfmLTPbeMuYDDrETLbTVXTXnfVr9f7eBtkmR73A=s64",
      "userId": "10309320684375994511"
     },
     "user_tz": -60
    },
    "id": "WKhsHn6vc1nm",
    "outputId": "76ac154c-9c5b-4c09-f2dc-3c85c7023688"
   },
   "outputs": [
    {
     "ename": "ValueError",
     "evalue": "Only supported for TrueType fonts",
     "output_type": "error",
     "traceback": [
      "\u001b[0;31m---------------------------------------------------------------------------\u001b[0m",
      "\u001b[0;31mValueError\u001b[0m                                Traceback (most recent call last)",
      "\u001b[0;32m/var/folders/zk/bxslv_1d01b983n6l5ky91b80000gn/T/ipykernel_85474/2733085193.py\u001b[0m in \u001b[0;36m<module>\u001b[0;34m\u001b[0m\n\u001b[1;32m      4\u001b[0m \u001b[0md\u001b[0m \u001b[0;34m=\u001b[0m \u001b[0;34m{\u001b[0m\u001b[0mx\u001b[0m\u001b[0;34m[\u001b[0m\u001b[0;34m'concept'\u001b[0m\u001b[0;34m]\u001b[0m \u001b[0;34m:\u001b[0m \u001b[0mx\u001b[0m\u001b[0;34m[\u001b[0m\u001b[0;34m'frequency'\u001b[0m\u001b[0;34m]\u001b[0m \u001b[0;32mfor\u001b[0m \u001b[0mx\u001b[0m \u001b[0;32min\u001b[0m \u001b[0mtopn\u001b[0m\u001b[0;34m.\u001b[0m\u001b[0mto_dict\u001b[0m\u001b[0;34m(\u001b[0m\u001b[0morient\u001b[0m\u001b[0;34m=\u001b[0m\u001b[0;34m\"records\"\u001b[0m\u001b[0;34m)\u001b[0m\u001b[0;34m}\u001b[0m\u001b[0;34m\u001b[0m\u001b[0;34m\u001b[0m\u001b[0m\n\u001b[1;32m      5\u001b[0m \u001b[0;34m\u001b[0m\u001b[0m\n\u001b[0;32m----> 6\u001b[0;31m \u001b[0mwordcloud\u001b[0m \u001b[0;34m=\u001b[0m \u001b[0mWordCloud\u001b[0m\u001b[0;34m(\u001b[0m\u001b[0mwidth\u001b[0m\u001b[0;34m=\u001b[0m\u001b[0;36m900\u001b[0m\u001b[0;34m,\u001b[0m \u001b[0mheight\u001b[0m\u001b[0;34m=\u001b[0m\u001b[0;36m600\u001b[0m\u001b[0;34m)\u001b[0m\u001b[0;34m.\u001b[0m\u001b[0mgenerate_from_frequencies\u001b[0m\u001b[0;34m(\u001b[0m\u001b[0md\u001b[0m\u001b[0;34m)\u001b[0m\u001b[0;34m\u001b[0m\u001b[0;34m\u001b[0m\u001b[0m\n\u001b[0m\u001b[1;32m      7\u001b[0m \u001b[0mplt\u001b[0m\u001b[0;34m.\u001b[0m\u001b[0mimshow\u001b[0m\u001b[0;34m(\u001b[0m\u001b[0mwordcloud\u001b[0m\u001b[0;34m,\u001b[0m \u001b[0minterpolation\u001b[0m\u001b[0;34m=\u001b[0m\u001b[0;34m'bilinear'\u001b[0m\u001b[0;34m)\u001b[0m\u001b[0;34m\u001b[0m\u001b[0;34m\u001b[0m\u001b[0m\n\u001b[1;32m      8\u001b[0m \u001b[0mplt\u001b[0m\u001b[0;34m.\u001b[0m\u001b[0maxis\u001b[0m\u001b[0;34m(\u001b[0m\u001b[0;34m\"off\"\u001b[0m\u001b[0;34m)\u001b[0m\u001b[0;34m\u001b[0m\u001b[0;34m\u001b[0m\u001b[0m\n",
      "\u001b[0;32m~/Envs/jupyterlab/lib/python3.9/site-packages/wordcloud/wordcloud.py\u001b[0m in \u001b[0;36mgenerate_from_frequencies\u001b[0;34m(self, frequencies, max_font_size)\u001b[0m\n\u001b[1;32m    451\u001b[0m                 \u001b[0mfont_size\u001b[0m \u001b[0;34m=\u001b[0m \u001b[0mself\u001b[0m\u001b[0;34m.\u001b[0m\u001b[0mheight\u001b[0m\u001b[0;34m\u001b[0m\u001b[0;34m\u001b[0m\u001b[0m\n\u001b[1;32m    452\u001b[0m             \u001b[0;32melse\u001b[0m\u001b[0;34m:\u001b[0m\u001b[0;34m\u001b[0m\u001b[0;34m\u001b[0m\u001b[0m\n\u001b[0;32m--> 453\u001b[0;31m                 self.generate_from_frequencies(dict(frequencies[:2]),\n\u001b[0m\u001b[1;32m    454\u001b[0m                                                max_font_size=self.height)\n\u001b[1;32m    455\u001b[0m                 \u001b[0;31m# find font sizes\u001b[0m\u001b[0;34m\u001b[0m\u001b[0;34m\u001b[0m\u001b[0m\n",
      "\u001b[0;32m~/Envs/jupyterlab/lib/python3.9/site-packages/wordcloud/wordcloud.py\u001b[0m in \u001b[0;36mgenerate_from_frequencies\u001b[0;34m(self, frequencies, max_font_size)\u001b[0m\n\u001b[1;32m    506\u001b[0m                     font, orientation=orientation)\n\u001b[1;32m    507\u001b[0m                 \u001b[0;31m# get size of resulting text\u001b[0m\u001b[0;34m\u001b[0m\u001b[0;34m\u001b[0m\u001b[0m\n\u001b[0;32m--> 508\u001b[0;31m                 \u001b[0mbox_size\u001b[0m \u001b[0;34m=\u001b[0m \u001b[0mdraw\u001b[0m\u001b[0;34m.\u001b[0m\u001b[0mtextbbox\u001b[0m\u001b[0;34m(\u001b[0m\u001b[0;34m(\u001b[0m\u001b[0;36m0\u001b[0m\u001b[0;34m,\u001b[0m \u001b[0;36m0\u001b[0m\u001b[0;34m)\u001b[0m\u001b[0;34m,\u001b[0m \u001b[0mword\u001b[0m\u001b[0;34m,\u001b[0m \u001b[0mfont\u001b[0m\u001b[0;34m=\u001b[0m\u001b[0mtransposed_font\u001b[0m\u001b[0;34m,\u001b[0m \u001b[0manchor\u001b[0m\u001b[0;34m=\u001b[0m\u001b[0;34m\"lt\"\u001b[0m\u001b[0;34m)\u001b[0m\u001b[0;34m\u001b[0m\u001b[0;34m\u001b[0m\u001b[0m\n\u001b[0m\u001b[1;32m    509\u001b[0m                 \u001b[0;31m# find possible places using integral image:\u001b[0m\u001b[0;34m\u001b[0m\u001b[0;34m\u001b[0m\u001b[0m\n\u001b[1;32m    510\u001b[0m                 result = occupancy.sample_position(box_size[3] + self.margin,\n",
      "\u001b[0;32m~/Envs/jupyterlab/lib/python3.9/site-packages/PIL/ImageDraw.py\u001b[0m in \u001b[0;36mtextbbox\u001b[0;34m(self, xy, text, font, anchor, spacing, align, direction, features, language, stroke_width, embedded_color)\u001b[0m\n\u001b[1;32m    649\u001b[0m             \u001b[0mfont\u001b[0m \u001b[0;34m=\u001b[0m \u001b[0mself\u001b[0m\u001b[0;34m.\u001b[0m\u001b[0mgetfont\u001b[0m\u001b[0;34m(\u001b[0m\u001b[0;34m)\u001b[0m\u001b[0;34m\u001b[0m\u001b[0;34m\u001b[0m\u001b[0m\n\u001b[1;32m    650\u001b[0m         \u001b[0;32mif\u001b[0m \u001b[0;32mnot\u001b[0m \u001b[0misinstance\u001b[0m\u001b[0;34m(\u001b[0m\u001b[0mfont\u001b[0m\u001b[0;34m,\u001b[0m \u001b[0mImageFont\u001b[0m\u001b[0;34m.\u001b[0m\u001b[0mFreeTypeFont\u001b[0m\u001b[0;34m)\u001b[0m\u001b[0;34m:\u001b[0m\u001b[0;34m\u001b[0m\u001b[0;34m\u001b[0m\u001b[0m\n\u001b[0;32m--> 651\u001b[0;31m             \u001b[0;32mraise\u001b[0m \u001b[0mValueError\u001b[0m\u001b[0;34m(\u001b[0m\u001b[0;34m\"Only supported for TrueType fonts\"\u001b[0m\u001b[0;34m)\u001b[0m\u001b[0;34m\u001b[0m\u001b[0;34m\u001b[0m\u001b[0m\n\u001b[0m\u001b[1;32m    652\u001b[0m         \u001b[0mmode\u001b[0m \u001b[0;34m=\u001b[0m \u001b[0;34m\"RGBA\"\u001b[0m \u001b[0;32mif\u001b[0m \u001b[0membedded_color\u001b[0m \u001b[0;32melse\u001b[0m \u001b[0mself\u001b[0m\u001b[0;34m.\u001b[0m\u001b[0mfontmode\u001b[0m\u001b[0;34m\u001b[0m\u001b[0;34m\u001b[0m\u001b[0m\n\u001b[1;32m    653\u001b[0m         bbox = font.getbbox(\n",
      "\u001b[0;31mValueError\u001b[0m: Only supported for TrueType fonts"
     ]
    }
   ],
   "source": [
    "# take top N concepts\n",
    "topn = filtered_concepts[['concept', 'frequency']][:300]\n",
    "\n",
    "d = {x['concept'] : x['frequency'] for x in topn.to_dict(orient=\"records\")}\n",
    "\n",
    "wordcloud = WordCloud(width=900, height=600).generate_from_frequencies(d)\n",
    "plt.imshow(wordcloud, interpolation='bilinear')\n",
    "plt.axis(\"off\")\n",
    "plt.savefig(\"topics_wordcloud.png\", dpi=300)"
   ]
  },
  {
   "cell_type": "markdown",
   "metadata": {
    "Collapsed": "false",
    "colab_type": "text",
    "id": "lYjofWC1U-Vb"
   },
   "source": [
    "## 4. Trend analysis - 'emerging' new topics each year\n",
    "\n",
    "In this section we will look at the concept distribution over the years. In particular, we will focus on the 'new' concepts in each year - i.e. concepts that have never appeared in previous years. \n",
    "\n",
    "This can be easily achieved by adding a new column `first_year`, marking the earliest publication year a concept was found in. "
   ]
  },
  {
   "cell_type": "code",
   "execution_count": 20,
   "metadata": {
    "Collapsed": "false",
    "colab": {
     "base_uri": "https://localhost:8080/",
     "height": 617
    },
    "colab_type": "code",
    "executionInfo": {
     "elapsed": 522,
     "status": "ok",
     "timestamp": 1593634169555,
     "user": {
      "displayName": "Michele Pasin",
      "photoUrl": "https://lh3.googleusercontent.com/a-/AOh14GiYfmLTPbeMuYDDrETLbTVXTXnfVr9f7eBtkmR73A=s64",
      "userId": "10309320684375994511"
     },
     "user_tz": -60
    },
    "id": "EXVOE3yIUhd0",
    "outputId": "2ce4302e-6648-4cb6-9724-0bacf044e488"
   },
   "outputs": [
    {
     "data": {
      "application/vnd.plotly.v1+json": {
       "config": {
        "plotlyServerURL": "https://plot.ly"
       },
       "data": [
        {
         "branchvalues": "total",
         "customdata": [
          [
           "research ethics review"
          ],
          [
           "political morality"
          ],
          [
           "ethical perspective"
          ],
          [
           "critical race theory"
          ],
          [
           "fact of pluralism"
          ],
          [
           "philosophical position"
          ],
          [
           "non-Christian religions"
          ],
          [
           "Aquinas’s account"
          ],
          [
           "board gender diversity"
          ],
          [
           "biomedical ethics"
          ],
          [
           "community-based research"
          ],
          [
           "spiritual warfare"
          ],
          [
           "Western intellectual tradition"
          ],
          [
           "Islamic schools"
          ],
          [
           "ethical arguments"
          ],
          [
           "trait attributions"
          ],
          [
           "clinical ethics consultation"
          ],
          [
           "children’s rights"
          ],
          [
           "demonstrative thought"
          ],
          [
           "employee entrepreneurship"
          ],
          [
           "moral competencies"
          ],
          [
           "sustainability issues"
          ],
          [
           "philosophy of law"
          ],
          [
           "ethics of generosity"
          ],
          [
           "compensation structure"
          ],
          [
           "moral psychology"
          ],
          [
           "epistemology of disagreement"
          ],
          [
           "Tamil literary history"
          ],
          [
           "long philosophical history"
          ],
          [
           "member states"
          ],
          [
           "wall of separation"
          ],
          [
           "public theology"
          ],
          [
           "gender diversity"
          ],
          [
           "academic philosophy"
          ],
          [
           "philosophy of nature"
          ],
          [
           "employee engagement"
          ],
          [
           "knowledge archives"
          ],
          [
           "geographical knowledge"
          ],
          [
           "social ethics"
          ],
          [
           "Christian University"
          ],
          [
           "moral virtues"
          ],
          [
           "book culture"
          ],
          [
           "digital media"
          ],
          [
           "law tradition"
          ],
          [
           "literary history"
          ],
          [
           "research ethics governance"
          ],
          [
           "later dialogues"
          ],
          [
           "concept of truth"
          ],
          [
           "high performers"
          ],
          [
           "ethical research practice"
          ],
          [
           "verbal language"
          ],
          [
           "common home"
          ],
          [
           "financial misconduct"
          ],
          [
           "system of ethics"
          ],
          [
           "research ethical issues"
          ],
          [
           "(?)"
          ],
          [
           "(?)"
          ],
          [
           "(?)"
          ],
          [
           "(?)"
          ],
          [
           "(?)"
          ],
          [
           "(?)"
          ],
          [
           "(?)"
          ],
          [
           "(?)"
          ],
          [
           "(?)"
          ],
          [
           "(?)"
          ],
          [
           "(?)"
          ]
         ],
         "domain": {
          "x": [
           0,
           1
          ],
          "y": [
           0,
           1
          ]
         },
         "hovertemplate": "labels=%{label}<br>frequency=%{value}<br>parent=%{parent}<br>id=%{id}<br>concept=%{customdata[0]}<extra></extra>",
         "ids": [
          "2011/research ethics review",
          "2020/political morality",
          "2013/ethical perspective",
          "2018/critical race theory",
          "2012/fact of pluralism",
          "2014/philosophical position",
          "2017/non-Christian religions",
          "2013/Aquinas’s account",
          "2016/board gender diversity",
          "2013/biomedical ethics",
          "2016/community-based research",
          "2016/spiritual warfare",
          "2019/Western intellectual tradition",
          "2017/Islamic schools",
          "2018/ethical arguments",
          "2019/trait attributions",
          "2014/clinical ethics consultation",
          "2017/children’s rights",
          "2019/demonstrative thought",
          "2010/employee entrepreneurship",
          "2014/moral competencies",
          "2020/sustainability issues",
          "2012/philosophy of law",
          "2017/ethics of generosity",
          "2010/compensation structure",
          "2013/moral psychology",
          "2012/epistemology of disagreement",
          "2011/Tamil literary history",
          "2015/long philosophical history",
          "2017/member states",
          "2010/wall of separation",
          "2015/public theology",
          "2016/gender diversity",
          "2015/academic philosophy",
          "2019/philosophy of nature",
          "2011/employee engagement",
          "2020/knowledge archives",
          "2015/geographical knowledge",
          "2012/social ethics",
          "2013/Christian University",
          "2018/moral virtues",
          "2014/book culture",
          "2020/digital media",
          "2012/law tradition",
          "2011/literary history",
          "2015/research ethics governance",
          "2010/later dialogues",
          "2011/concept of truth",
          "2010/high performers",
          "2014/ethical research practice",
          "2018/verbal language",
          "2020/common home",
          "2016/financial misconduct",
          "2019/system of ethics",
          "2018/research ethical issues",
          "2010",
          "2011",
          "2012",
          "2013",
          "2014",
          "2015",
          "2016",
          "2017",
          "2018",
          "2019",
          "2020"
         ],
         "labels": [
          "research ethics review",
          "political morality",
          "ethical perspective",
          "critical race theory",
          "fact of pluralism",
          "philosophical position",
          "non-Christian religions",
          "Aquinas’s account",
          "board gender diversity",
          "biomedical ethics",
          "community-based research",
          "spiritual warfare",
          "Western intellectual tradition",
          "Islamic schools",
          "ethical arguments",
          "trait attributions",
          "clinical ethics consultation",
          "children’s rights",
          "demonstrative thought",
          "employee entrepreneurship",
          "moral competencies",
          "sustainability issues",
          "philosophy of law",
          "ethics of generosity",
          "compensation structure",
          "moral psychology",
          "epistemology of disagreement",
          "Tamil literary history",
          "long philosophical history",
          "member states",
          "wall of separation",
          "public theology",
          "gender diversity",
          "academic philosophy",
          "philosophy of nature",
          "employee engagement",
          "knowledge archives",
          "geographical knowledge",
          "social ethics",
          "Christian University",
          "moral virtues",
          "book culture",
          "digital media",
          "law tradition",
          "literary history",
          "research ethics governance",
          "later dialogues",
          "concept of truth",
          "high performers",
          "ethical research practice",
          "verbal language",
          "common home",
          "financial misconduct",
          "system of ethics",
          "research ethical issues",
          "2010",
          "2011",
          "2012",
          "2013",
          "2014",
          "2015",
          "2016",
          "2017",
          "2018",
          "2019",
          "2020"
         ],
         "marker": {
          "colors": [
           "rgb(158,1,66)",
           "rgb(213,62,79)",
           "rgb(244,109,67)",
           "rgb(253,174,97)",
           "rgb(254,224,139)",
           "rgb(255,255,191)",
           "rgb(230,245,152)",
           "rgb(171,221,164)",
           "rgb(102,194,165)",
           "rgb(50,136,189)",
           "rgb(94,79,162)",
           "rgb(158,1,66)",
           "rgb(213,62,79)",
           "rgb(244,109,67)",
           "rgb(253,174,97)",
           "rgb(254,224,139)",
           "rgb(255,255,191)",
           "rgb(230,245,152)",
           "rgb(171,221,164)",
           "rgb(102,194,165)",
           "rgb(50,136,189)",
           "rgb(94,79,162)",
           "rgb(158,1,66)",
           "rgb(213,62,79)",
           "rgb(244,109,67)",
           "rgb(253,174,97)",
           "rgb(254,224,139)",
           "rgb(255,255,191)",
           "rgb(230,245,152)",
           "rgb(171,221,164)",
           "rgb(102,194,165)",
           "rgb(50,136,189)",
           "rgb(94,79,162)",
           "rgb(158,1,66)",
           "rgb(213,62,79)",
           "rgb(244,109,67)",
           "rgb(253,174,97)",
           "rgb(254,224,139)",
           "rgb(255,255,191)",
           "rgb(230,245,152)",
           "rgb(171,221,164)",
           "rgb(102,194,165)",
           "rgb(50,136,189)",
           "rgb(94,79,162)",
           "rgb(158,1,66)",
           "rgb(213,62,79)",
           "rgb(244,109,67)",
           "rgb(253,174,97)",
           "rgb(254,224,139)",
           "rgb(255,255,191)",
           "rgb(230,245,152)",
           "rgb(171,221,164)",
           "rgb(102,194,165)",
           "rgb(50,136,189)",
           "rgb(94,79,162)",
           "rgb(158,1,66)",
           "rgb(158,1,66)",
           "rgb(158,1,66)",
           "rgb(158,1,66)",
           "rgb(158,1,66)",
           "rgb(158,1,66)",
           "rgb(158,1,66)",
           "rgb(158,1,66)",
           "rgb(158,1,66)",
           "rgb(158,1,66)",
           "rgb(158,1,66)"
          ]
         },
         "name": "",
         "parents": [
          "2011",
          "2020",
          "2013",
          "2018",
          "2012",
          "2014",
          "2017",
          "2013",
          "2016",
          "2013",
          "2016",
          "2016",
          "2019",
          "2017",
          "2018",
          "2019",
          "2014",
          "2017",
          "2019",
          "2010",
          "2014",
          "2020",
          "2012",
          "2017",
          "2010",
          "2013",
          "2012",
          "2011",
          "2015",
          "2017",
          "2010",
          "2015",
          "2016",
          "2015",
          "2019",
          "2011",
          "2020",
          "2015",
          "2012",
          "2013",
          "2018",
          "2014",
          "2020",
          "2012",
          "2011",
          "2015",
          "2010",
          "2011",
          "2010",
          "2014",
          "2018",
          "2020",
          "2016",
          "2019",
          "2018",
          "",
          "",
          "",
          "",
          "",
          "",
          "",
          "",
          "",
          "",
          ""
         ],
         "type": "treemap",
         "values": [
          2,
          2,
          2,
          2,
          2,
          2,
          2,
          2,
          2,
          2,
          2,
          2,
          3,
          2,
          2,
          2,
          2,
          2,
          2,
          2,
          2,
          2,
          2,
          2,
          2,
          4,
          2,
          2,
          2,
          2,
          2,
          2,
          2,
          2,
          3,
          2,
          2,
          2,
          2,
          2,
          2,
          2,
          2,
          2,
          2,
          2,
          2,
          2,
          2,
          2,
          2,
          2,
          2,
          2,
          2,
          10,
          10,
          10,
          12,
          10,
          10,
          10,
          10,
          10,
          12,
          10
         ]
        }
       ],
       "layout": {
        "autosize": true,
        "legend": {
         "tracegroupgap": 0
        },
        "margin": {
         "t": 60
        },
        "template": {
         "data": {
          "bar": [
           {
            "error_x": {
             "color": "#2a3f5f"
            },
            "error_y": {
             "color": "#2a3f5f"
            },
            "marker": {
             "line": {
              "color": "#E5ECF6",
              "width": 0.5
             },
             "pattern": {
              "fillmode": "overlay",
              "size": 10,
              "solidity": 0.2
             }
            },
            "type": "bar"
           }
          ],
          "barpolar": [
           {
            "marker": {
             "line": {
              "color": "#E5ECF6",
              "width": 0.5
             },
             "pattern": {
              "fillmode": "overlay",
              "size": 10,
              "solidity": 0.2
             }
            },
            "type": "barpolar"
           }
          ],
          "carpet": [
           {
            "aaxis": {
             "endlinecolor": "#2a3f5f",
             "gridcolor": "white",
             "linecolor": "white",
             "minorgridcolor": "white",
             "startlinecolor": "#2a3f5f"
            },
            "baxis": {
             "endlinecolor": "#2a3f5f",
             "gridcolor": "white",
             "linecolor": "white",
             "minorgridcolor": "white",
             "startlinecolor": "#2a3f5f"
            },
            "type": "carpet"
           }
          ],
          "choropleth": [
           {
            "colorbar": {
             "outlinewidth": 0,
             "ticks": ""
            },
            "type": "choropleth"
           }
          ],
          "contour": [
           {
            "colorbar": {
             "outlinewidth": 0,
             "ticks": ""
            },
            "colorscale": [
             [
              0,
              "#0d0887"
             ],
             [
              0.1111111111111111,
              "#46039f"
             ],
             [
              0.2222222222222222,
              "#7201a8"
             ],
             [
              0.3333333333333333,
              "#9c179e"
             ],
             [
              0.4444444444444444,
              "#bd3786"
             ],
             [
              0.5555555555555556,
              "#d8576b"
             ],
             [
              0.6666666666666666,
              "#ed7953"
             ],
             [
              0.7777777777777778,
              "#fb9f3a"
             ],
             [
              0.8888888888888888,
              "#fdca26"
             ],
             [
              1,
              "#f0f921"
             ]
            ],
            "type": "contour"
           }
          ],
          "contourcarpet": [
           {
            "colorbar": {
             "outlinewidth": 0,
             "ticks": ""
            },
            "type": "contourcarpet"
           }
          ],
          "heatmap": [
           {
            "colorbar": {
             "outlinewidth": 0,
             "ticks": ""
            },
            "colorscale": [
             [
              0,
              "#0d0887"
             ],
             [
              0.1111111111111111,
              "#46039f"
             ],
             [
              0.2222222222222222,
              "#7201a8"
             ],
             [
              0.3333333333333333,
              "#9c179e"
             ],
             [
              0.4444444444444444,
              "#bd3786"
             ],
             [
              0.5555555555555556,
              "#d8576b"
             ],
             [
              0.6666666666666666,
              "#ed7953"
             ],
             [
              0.7777777777777778,
              "#fb9f3a"
             ],
             [
              0.8888888888888888,
              "#fdca26"
             ],
             [
              1,
              "#f0f921"
             ]
            ],
            "type": "heatmap"
           }
          ],
          "heatmapgl": [
           {
            "colorbar": {
             "outlinewidth": 0,
             "ticks": ""
            },
            "colorscale": [
             [
              0,
              "#0d0887"
             ],
             [
              0.1111111111111111,
              "#46039f"
             ],
             [
              0.2222222222222222,
              "#7201a8"
             ],
             [
              0.3333333333333333,
              "#9c179e"
             ],
             [
              0.4444444444444444,
              "#bd3786"
             ],
             [
              0.5555555555555556,
              "#d8576b"
             ],
             [
              0.6666666666666666,
              "#ed7953"
             ],
             [
              0.7777777777777778,
              "#fb9f3a"
             ],
             [
              0.8888888888888888,
              "#fdca26"
             ],
             [
              1,
              "#f0f921"
             ]
            ],
            "type": "heatmapgl"
           }
          ],
          "histogram": [
           {
            "marker": {
             "pattern": {
              "fillmode": "overlay",
              "size": 10,
              "solidity": 0.2
             }
            },
            "type": "histogram"
           }
          ],
          "histogram2d": [
           {
            "colorbar": {
             "outlinewidth": 0,
             "ticks": ""
            },
            "colorscale": [
             [
              0,
              "#0d0887"
             ],
             [
              0.1111111111111111,
              "#46039f"
             ],
             [
              0.2222222222222222,
              "#7201a8"
             ],
             [
              0.3333333333333333,
              "#9c179e"
             ],
             [
              0.4444444444444444,
              "#bd3786"
             ],
             [
              0.5555555555555556,
              "#d8576b"
             ],
             [
              0.6666666666666666,
              "#ed7953"
             ],
             [
              0.7777777777777778,
              "#fb9f3a"
             ],
             [
              0.8888888888888888,
              "#fdca26"
             ],
             [
              1,
              "#f0f921"
             ]
            ],
            "type": "histogram2d"
           }
          ],
          "histogram2dcontour": [
           {
            "colorbar": {
             "outlinewidth": 0,
             "ticks": ""
            },
            "colorscale": [
             [
              0,
              "#0d0887"
             ],
             [
              0.1111111111111111,
              "#46039f"
             ],
             [
              0.2222222222222222,
              "#7201a8"
             ],
             [
              0.3333333333333333,
              "#9c179e"
             ],
             [
              0.4444444444444444,
              "#bd3786"
             ],
             [
              0.5555555555555556,
              "#d8576b"
             ],
             [
              0.6666666666666666,
              "#ed7953"
             ],
             [
              0.7777777777777778,
              "#fb9f3a"
             ],
             [
              0.8888888888888888,
              "#fdca26"
             ],
             [
              1,
              "#f0f921"
             ]
            ],
            "type": "histogram2dcontour"
           }
          ],
          "mesh3d": [
           {
            "colorbar": {
             "outlinewidth": 0,
             "ticks": ""
            },
            "type": "mesh3d"
           }
          ],
          "parcoords": [
           {
            "line": {
             "colorbar": {
              "outlinewidth": 0,
              "ticks": ""
             }
            },
            "type": "parcoords"
           }
          ],
          "pie": [
           {
            "automargin": true,
            "type": "pie"
           }
          ],
          "scatter": [
           {
            "fillpattern": {
             "fillmode": "overlay",
             "size": 10,
             "solidity": 0.2
            },
            "type": "scatter"
           }
          ],
          "scatter3d": [
           {
            "line": {
             "colorbar": {
              "outlinewidth": 0,
              "ticks": ""
             }
            },
            "marker": {
             "colorbar": {
              "outlinewidth": 0,
              "ticks": ""
             }
            },
            "type": "scatter3d"
           }
          ],
          "scattercarpet": [
           {
            "marker": {
             "colorbar": {
              "outlinewidth": 0,
              "ticks": ""
             }
            },
            "type": "scattercarpet"
           }
          ],
          "scattergeo": [
           {
            "marker": {
             "colorbar": {
              "outlinewidth": 0,
              "ticks": ""
             }
            },
            "type": "scattergeo"
           }
          ],
          "scattergl": [
           {
            "marker": {
             "colorbar": {
              "outlinewidth": 0,
              "ticks": ""
             }
            },
            "type": "scattergl"
           }
          ],
          "scattermapbox": [
           {
            "marker": {
             "colorbar": {
              "outlinewidth": 0,
              "ticks": ""
             }
            },
            "type": "scattermapbox"
           }
          ],
          "scatterpolar": [
           {
            "marker": {
             "colorbar": {
              "outlinewidth": 0,
              "ticks": ""
             }
            },
            "type": "scatterpolar"
           }
          ],
          "scatterpolargl": [
           {
            "marker": {
             "colorbar": {
              "outlinewidth": 0,
              "ticks": ""
             }
            },
            "type": "scatterpolargl"
           }
          ],
          "scatterternary": [
           {
            "marker": {
             "colorbar": {
              "outlinewidth": 0,
              "ticks": ""
             }
            },
            "type": "scatterternary"
           }
          ],
          "surface": [
           {
            "colorbar": {
             "outlinewidth": 0,
             "ticks": ""
            },
            "colorscale": [
             [
              0,
              "#0d0887"
             ],
             [
              0.1111111111111111,
              "#46039f"
             ],
             [
              0.2222222222222222,
              "#7201a8"
             ],
             [
              0.3333333333333333,
              "#9c179e"
             ],
             [
              0.4444444444444444,
              "#bd3786"
             ],
             [
              0.5555555555555556,
              "#d8576b"
             ],
             [
              0.6666666666666666,
              "#ed7953"
             ],
             [
              0.7777777777777778,
              "#fb9f3a"
             ],
             [
              0.8888888888888888,
              "#fdca26"
             ],
             [
              1,
              "#f0f921"
             ]
            ],
            "type": "surface"
           }
          ],
          "table": [
           {
            "cells": {
             "fill": {
              "color": "#EBF0F8"
             },
             "line": {
              "color": "white"
             }
            },
            "header": {
             "fill": {
              "color": "#C8D4E3"
             },
             "line": {
              "color": "white"
             }
            },
            "type": "table"
           }
          ]
         },
         "layout": {
          "annotationdefaults": {
           "arrowcolor": "#2a3f5f",
           "arrowhead": 0,
           "arrowwidth": 1
          },
          "autotypenumbers": "strict",
          "coloraxis": {
           "colorbar": {
            "outlinewidth": 0,
            "ticks": ""
           }
          },
          "colorscale": {
           "diverging": [
            [
             0,
             "#8e0152"
            ],
            [
             0.1,
             "#c51b7d"
            ],
            [
             0.2,
             "#de77ae"
            ],
            [
             0.3,
             "#f1b6da"
            ],
            [
             0.4,
             "#fde0ef"
            ],
            [
             0.5,
             "#f7f7f7"
            ],
            [
             0.6,
             "#e6f5d0"
            ],
            [
             0.7,
             "#b8e186"
            ],
            [
             0.8,
             "#7fbc41"
            ],
            [
             0.9,
             "#4d9221"
            ],
            [
             1,
             "#276419"
            ]
           ],
           "sequential": [
            [
             0,
             "#0d0887"
            ],
            [
             0.1111111111111111,
             "#46039f"
            ],
            [
             0.2222222222222222,
             "#7201a8"
            ],
            [
             0.3333333333333333,
             "#9c179e"
            ],
            [
             0.4444444444444444,
             "#bd3786"
            ],
            [
             0.5555555555555556,
             "#d8576b"
            ],
            [
             0.6666666666666666,
             "#ed7953"
            ],
            [
             0.7777777777777778,
             "#fb9f3a"
            ],
            [
             0.8888888888888888,
             "#fdca26"
            ],
            [
             1,
             "#f0f921"
            ]
           ],
           "sequentialminus": [
            [
             0,
             "#0d0887"
            ],
            [
             0.1111111111111111,
             "#46039f"
            ],
            [
             0.2222222222222222,
             "#7201a8"
            ],
            [
             0.3333333333333333,
             "#9c179e"
            ],
            [
             0.4444444444444444,
             "#bd3786"
            ],
            [
             0.5555555555555556,
             "#d8576b"
            ],
            [
             0.6666666666666666,
             "#ed7953"
            ],
            [
             0.7777777777777778,
             "#fb9f3a"
            ],
            [
             0.8888888888888888,
             "#fdca26"
            ],
            [
             1,
             "#f0f921"
            ]
           ]
          },
          "colorway": [
           "#636efa",
           "#EF553B",
           "#00cc96",
           "#ab63fa",
           "#FFA15A",
           "#19d3f3",
           "#FF6692",
           "#B6E880",
           "#FF97FF",
           "#FECB52"
          ],
          "font": {
           "color": "#2a3f5f"
          },
          "geo": {
           "bgcolor": "white",
           "lakecolor": "white",
           "landcolor": "#E5ECF6",
           "showlakes": true,
           "showland": true,
           "subunitcolor": "white"
          },
          "hoverlabel": {
           "align": "left"
          },
          "hovermode": "closest",
          "mapbox": {
           "style": "light"
          },
          "paper_bgcolor": "white",
          "plot_bgcolor": "#E5ECF6",
          "polar": {
           "angularaxis": {
            "gridcolor": "white",
            "linecolor": "white",
            "ticks": ""
           },
           "bgcolor": "#E5ECF6",
           "radialaxis": {
            "gridcolor": "white",
            "linecolor": "white",
            "ticks": ""
           }
          },
          "scene": {
           "xaxis": {
            "backgroundcolor": "#E5ECF6",
            "gridcolor": "white",
            "gridwidth": 2,
            "linecolor": "white",
            "showbackground": true,
            "ticks": "",
            "zerolinecolor": "white"
           },
           "yaxis": {
            "backgroundcolor": "#E5ECF6",
            "gridcolor": "white",
            "gridwidth": 2,
            "linecolor": "white",
            "showbackground": true,
            "ticks": "",
            "zerolinecolor": "white"
           },
           "zaxis": {
            "backgroundcolor": "#E5ECF6",
            "gridcolor": "white",
            "gridwidth": 2,
            "linecolor": "white",
            "showbackground": true,
            "ticks": "",
            "zerolinecolor": "white"
           }
          },
          "shapedefaults": {
           "line": {
            "color": "#2a3f5f"
           }
          },
          "ternary": {
           "aaxis": {
            "gridcolor": "white",
            "linecolor": "white",
            "ticks": ""
           },
           "baxis": {
            "gridcolor": "white",
            "linecolor": "white",
            "ticks": ""
           },
           "bgcolor": "#E5ECF6",
           "caxis": {
            "gridcolor": "white",
            "linecolor": "white",
            "ticks": ""
           }
          },
          "title": {
           "x": 0.05
          },
          "xaxis": {
           "automargin": true,
           "gridcolor": "white",
           "linecolor": "white",
           "ticks": "",
           "title": {
            "standoff": 15
           },
           "zerolinecolor": "white",
           "zerolinewidth": 2
          },
          "yaxis": {
           "automargin": true,
           "gridcolor": "white",
           "linecolor": "white",
           "ticks": "",
           "title": {
            "standoff": 15
           },
           "zerolinecolor": "white",
           "zerolinewidth": 2
          }
         }
        },
        "treemapcolorway": [
         "rgb(158,1,66)",
         "rgb(213,62,79)",
         "rgb(244,109,67)",
         "rgb(253,174,97)",
         "rgb(254,224,139)",
         "rgb(255,255,191)",
         "rgb(230,245,152)",
         "rgb(171,221,164)",
         "rgb(102,194,165)",
         "rgb(50,136,189)",
         "rgb(94,79,162)"
        ]
       }
      },
      "image/png": "[encoded data removed]",
      "text/html": [
       "<div>                            <div id=\"0dbfa677-a6e0-4bed-ad48-f408a3708c59\" class=\"plotly-graph-div\" style=\"height:600px; width:100%;\"></div>            <script type=\"text/javascript\">                require([\"plotly\"], function(Plotly) {                    window.PLOTLYENV=window.PLOTLYENV || {};                                    if (document.getElementById(\"0dbfa677-a6e0-4bed-ad48-f408a3708c59\")) {                    Plotly.newPlot(                        \"0dbfa677-a6e0-4bed-ad48-f408a3708c59\",                        [{\"branchvalues\":\"total\",\"customdata\":[[\"research ethics review\"],[\"political morality\"],[\"ethical perspective\"],[\"critical race theory\"],[\"fact of pluralism\"],[\"philosophical position\"],[\"non-Christian religions\"],[\"Aquinas\\u2019s account\"],[\"board gender diversity\"],[\"biomedical ethics\"],[\"community-based research\"],[\"spiritual warfare\"],[\"Western intellectual tradition\"],[\"Islamic schools\"],[\"ethical arguments\"],[\"trait attributions\"],[\"clinical ethics consultation\"],[\"children\\u2019s rights\"],[\"demonstrative thought\"],[\"employee entrepreneurship\"],[\"moral competencies\"],[\"sustainability issues\"],[\"philosophy of law\"],[\"ethics of generosity\"],[\"compensation structure\"],[\"moral psychology\"],[\"epistemology of disagreement\"],[\"Tamil literary history\"],[\"long philosophical history\"],[\"member states\"],[\"wall of separation\"],[\"public theology\"],[\"gender diversity\"],[\"academic philosophy\"],[\"philosophy of nature\"],[\"employee engagement\"],[\"knowledge archives\"],[\"geographical knowledge\"],[\"social ethics\"],[\"Christian University\"],[\"moral virtues\"],[\"book culture\"],[\"digital media\"],[\"law tradition\"],[\"literary history\"],[\"research ethics governance\"],[\"later dialogues\"],[\"concept of truth\"],[\"high performers\"],[\"ethical research practice\"],[\"verbal language\"],[\"common home\"],[\"financial misconduct\"],[\"system of ethics\"],[\"research ethical issues\"],[\"(?)\"],[\"(?)\"],[\"(?)\"],[\"(?)\"],[\"(?)\"],[\"(?)\"],[\"(?)\"],[\"(?)\"],[\"(?)\"],[\"(?)\"],[\"(?)\"]],\"domain\":{\"x\":[0.0,1.0],\"y\":[0.0,1.0]},\"hovertemplate\":\"labels=%{label}\\u003cbr\\u003efrequency=%{value}\\u003cbr\\u003eparent=%{parent}\\u003cbr\\u003eid=%{id}\\u003cbr\\u003econcept=%{customdata[0]}\\u003cextra\\u003e\\u003c\\u002fextra\\u003e\",\"ids\":[\"2011\\u002fresearch ethics review\",\"2020\\u002fpolitical morality\",\"2013\\u002fethical perspective\",\"2018\\u002fcritical race theory\",\"2012\\u002ffact of pluralism\",\"2014\\u002fphilosophical position\",\"2017\\u002fnon-Christian religions\",\"2013\\u002fAquinas\\u2019s account\",\"2016\\u002fboard gender diversity\",\"2013\\u002fbiomedical ethics\",\"2016\\u002fcommunity-based research\",\"2016\\u002fspiritual warfare\",\"2019\\u002fWestern intellectual tradition\",\"2017\\u002fIslamic schools\",\"2018\\u002fethical arguments\",\"2019\\u002ftrait attributions\",\"2014\\u002fclinical ethics consultation\",\"2017\\u002fchildren\\u2019s rights\",\"2019\\u002fdemonstrative thought\",\"2010\\u002femployee entrepreneurship\",\"2014\\u002fmoral competencies\",\"2020\\u002fsustainability issues\",\"2012\\u002fphilosophy of law\",\"2017\\u002fethics of generosity\",\"2010\\u002fcompensation structure\",\"2013\\u002fmoral psychology\",\"2012\\u002fepistemology of disagreement\",\"2011\\u002fTamil literary history\",\"2015\\u002flong philosophical history\",\"2017\\u002fmember states\",\"2010\\u002fwall of separation\",\"2015\\u002fpublic theology\",\"2016\\u002fgender diversity\",\"2015\\u002facademic philosophy\",\"2019\\u002fphilosophy of nature\",\"2011\\u002femployee engagement\",\"2020\\u002fknowledge archives\",\"2015\\u002fgeographical knowledge\",\"2012\\u002fsocial ethics\",\"2013\\u002fChristian University\",\"2018\\u002fmoral virtues\",\"2014\\u002fbook culture\",\"2020\\u002fdigital media\",\"2012\\u002flaw tradition\",\"2011\\u002fliterary history\",\"2015\\u002fresearch ethics governance\",\"2010\\u002flater dialogues\",\"2011\\u002fconcept of truth\",\"2010\\u002fhigh performers\",\"2014\\u002fethical research practice\",\"2018\\u002fverbal language\",\"2020\\u002fcommon home\",\"2016\\u002ffinancial misconduct\",\"2019\\u002fsystem of ethics\",\"2018\\u002fresearch ethical issues\",\"2010\",\"2011\",\"2012\",\"2013\",\"2014\",\"2015\",\"2016\",\"2017\",\"2018\",\"2019\",\"2020\"],\"labels\":[\"research ethics review\",\"political morality\",\"ethical perspective\",\"critical race theory\",\"fact of pluralism\",\"philosophical position\",\"non-Christian religions\",\"Aquinas\\u2019s account\",\"board gender diversity\",\"biomedical ethics\",\"community-based research\",\"spiritual warfare\",\"Western intellectual tradition\",\"Islamic schools\",\"ethical arguments\",\"trait attributions\",\"clinical ethics consultation\",\"children\\u2019s rights\",\"demonstrative thought\",\"employee entrepreneurship\",\"moral competencies\",\"sustainability issues\",\"philosophy of law\",\"ethics of generosity\",\"compensation structure\",\"moral psychology\",\"epistemology of disagreement\",\"Tamil literary history\",\"long philosophical history\",\"member states\",\"wall of separation\",\"public theology\",\"gender diversity\",\"academic philosophy\",\"philosophy of nature\",\"employee engagement\",\"knowledge archives\",\"geographical knowledge\",\"social ethics\",\"Christian University\",\"moral virtues\",\"book culture\",\"digital media\",\"law tradition\",\"literary history\",\"research ethics governance\",\"later dialogues\",\"concept of truth\",\"high performers\",\"ethical research practice\",\"verbal language\",\"common home\",\"financial misconduct\",\"system of ethics\",\"research ethical issues\",\"2010\",\"2011\",\"2012\",\"2013\",\"2014\",\"2015\",\"2016\",\"2017\",\"2018\",\"2019\",\"2020\"],\"marker\":{\"colors\":[\"rgb(158,1,66)\",\"rgb(213,62,79)\",\"rgb(244,109,67)\",\"rgb(253,174,97)\",\"rgb(254,224,139)\",\"rgb(255,255,191)\",\"rgb(230,245,152)\",\"rgb(171,221,164)\",\"rgb(102,194,165)\",\"rgb(50,136,189)\",\"rgb(94,79,162)\",\"rgb(158,1,66)\",\"rgb(213,62,79)\",\"rgb(244,109,67)\",\"rgb(253,174,97)\",\"rgb(254,224,139)\",\"rgb(255,255,191)\",\"rgb(230,245,152)\",\"rgb(171,221,164)\",\"rgb(102,194,165)\",\"rgb(50,136,189)\",\"rgb(94,79,162)\",\"rgb(158,1,66)\",\"rgb(213,62,79)\",\"rgb(244,109,67)\",\"rgb(253,174,97)\",\"rgb(254,224,139)\",\"rgb(255,255,191)\",\"rgb(230,245,152)\",\"rgb(171,221,164)\",\"rgb(102,194,165)\",\"rgb(50,136,189)\",\"rgb(94,79,162)\",\"rgb(158,1,66)\",\"rgb(213,62,79)\",\"rgb(244,109,67)\",\"rgb(253,174,97)\",\"rgb(254,224,139)\",\"rgb(255,255,191)\",\"rgb(230,245,152)\",\"rgb(171,221,164)\",\"rgb(102,194,165)\",\"rgb(50,136,189)\",\"rgb(94,79,162)\",\"rgb(158,1,66)\",\"rgb(213,62,79)\",\"rgb(244,109,67)\",\"rgb(253,174,97)\",\"rgb(254,224,139)\",\"rgb(255,255,191)\",\"rgb(230,245,152)\",\"rgb(171,221,164)\",\"rgb(102,194,165)\",\"rgb(50,136,189)\",\"rgb(94,79,162)\",\"rgb(158,1,66)\",\"rgb(158,1,66)\",\"rgb(158,1,66)\",\"rgb(158,1,66)\",\"rgb(158,1,66)\",\"rgb(158,1,66)\",\"rgb(158,1,66)\",\"rgb(158,1,66)\",\"rgb(158,1,66)\",\"rgb(158,1,66)\",\"rgb(158,1,66)\"]},\"name\":\"\",\"parents\":[\"2011\",\"2020\",\"2013\",\"2018\",\"2012\",\"2014\",\"2017\",\"2013\",\"2016\",\"2013\",\"2016\",\"2016\",\"2019\",\"2017\",\"2018\",\"2019\",\"2014\",\"2017\",\"2019\",\"2010\",\"2014\",\"2020\",\"2012\",\"2017\",\"2010\",\"2013\",\"2012\",\"2011\",\"2015\",\"2017\",\"2010\",\"2015\",\"2016\",\"2015\",\"2019\",\"2011\",\"2020\",\"2015\",\"2012\",\"2013\",\"2018\",\"2014\",\"2020\",\"2012\",\"2011\",\"2015\",\"2010\",\"2011\",\"2010\",\"2014\",\"2018\",\"2020\",\"2016\",\"2019\",\"2018\",\"\",\"\",\"\",\"\",\"\",\"\",\"\",\"\",\"\",\"\",\"\"],\"values\":[2,2,2,2,2,2,2,2,2,2,2,2,3,2,2,2,2,2,2,2,2,2,2,2,2,4,2,2,2,2,2,2,2,2,3,2,2,2,2,2,2,2,2,2,2,2,2,2,2,2,2,2,2,2,2,10,10,10,12,10,10,10,10,10,12,10],\"type\":\"treemap\"}],                        {\"template\":{\"data\":{\"histogram2dcontour\":[{\"type\":\"histogram2dcontour\",\"colorbar\":{\"outlinewidth\":0,\"ticks\":\"\"},\"colorscale\":[[0.0,\"#0d0887\"],[0.1111111111111111,\"#46039f\"],[0.2222222222222222,\"#7201a8\"],[0.3333333333333333,\"#9c179e\"],[0.4444444444444444,\"#bd3786\"],[0.5555555555555556,\"#d8576b\"],[0.6666666666666666,\"#ed7953\"],[0.7777777777777778,\"#fb9f3a\"],[0.8888888888888888,\"#fdca26\"],[1.0,\"#f0f921\"]]}],\"choropleth\":[{\"type\":\"choropleth\",\"colorbar\":{\"outlinewidth\":0,\"ticks\":\"\"}}],\"histogram2d\":[{\"type\":\"histogram2d\",\"colorbar\":{\"outlinewidth\":0,\"ticks\":\"\"},\"colorscale\":[[0.0,\"#0d0887\"],[0.1111111111111111,\"#46039f\"],[0.2222222222222222,\"#7201a8\"],[0.3333333333333333,\"#9c179e\"],[0.4444444444444444,\"#bd3786\"],[0.5555555555555556,\"#d8576b\"],[0.6666666666666666,\"#ed7953\"],[0.7777777777777778,\"#fb9f3a\"],[0.8888888888888888,\"#fdca26\"],[1.0,\"#f0f921\"]]}],\"heatmap\":[{\"type\":\"heatmap\",\"colorbar\":{\"outlinewidth\":0,\"ticks\":\"\"},\"colorscale\":[[0.0,\"#0d0887\"],[0.1111111111111111,\"#46039f\"],[0.2222222222222222,\"#7201a8\"],[0.3333333333333333,\"#9c179e\"],[0.4444444444444444,\"#bd3786\"],[0.5555555555555556,\"#d8576b\"],[0.6666666666666666,\"#ed7953\"],[0.7777777777777778,\"#fb9f3a\"],[0.8888888888888888,\"#fdca26\"],[1.0,\"#f0f921\"]]}],\"heatmapgl\":[{\"type\":\"heatmapgl\",\"colorbar\":{\"outlinewidth\":0,\"ticks\":\"\"},\"colorscale\":[[0.0,\"#0d0887\"],[0.1111111111111111,\"#46039f\"],[0.2222222222222222,\"#7201a8\"],[0.3333333333333333,\"#9c179e\"],[0.4444444444444444,\"#bd3786\"],[0.5555555555555556,\"#d8576b\"],[0.6666666666666666,\"#ed7953\"],[0.7777777777777778,\"#fb9f3a\"],[0.8888888888888888,\"#fdca26\"],[1.0,\"#f0f921\"]]}],\"contourcarpet\":[{\"type\":\"contourcarpet\",\"colorbar\":{\"outlinewidth\":0,\"ticks\":\"\"}}],\"contour\":[{\"type\":\"contour\",\"colorbar\":{\"outlinewidth\":0,\"ticks\":\"\"},\"colorscale\":[[0.0,\"#0d0887\"],[0.1111111111111111,\"#46039f\"],[0.2222222222222222,\"#7201a8\"],[0.3333333333333333,\"#9c179e\"],[0.4444444444444444,\"#bd3786\"],[0.5555555555555556,\"#d8576b\"],[0.6666666666666666,\"#ed7953\"],[0.7777777777777778,\"#fb9f3a\"],[0.8888888888888888,\"#fdca26\"],[1.0,\"#f0f921\"]]}],\"surface\":[{\"type\":\"surface\",\"colorbar\":{\"outlinewidth\":0,\"ticks\":\"\"},\"colorscale\":[[0.0,\"#0d0887\"],[0.1111111111111111,\"#46039f\"],[0.2222222222222222,\"#7201a8\"],[0.3333333333333333,\"#9c179e\"],[0.4444444444444444,\"#bd3786\"],[0.5555555555555556,\"#d8576b\"],[0.6666666666666666,\"#ed7953\"],[0.7777777777777778,\"#fb9f3a\"],[0.8888888888888888,\"#fdca26\"],[1.0,\"#f0f921\"]]}],\"mesh3d\":[{\"type\":\"mesh3d\",\"colorbar\":{\"outlinewidth\":0,\"ticks\":\"\"}}],\"scatter\":[{\"fillpattern\":{\"fillmode\":\"overlay\",\"size\":10,\"solidity\":0.2},\"type\":\"scatter\"}],\"parcoords\":[{\"type\":\"parcoords\",\"line\":{\"colorbar\":{\"outlinewidth\":0,\"ticks\":\"\"}}}],\"scatterpolargl\":[{\"type\":\"scatterpolargl\",\"marker\":{\"colorbar\":{\"outlinewidth\":0,\"ticks\":\"\"}}}],\"bar\":[{\"error_x\":{\"color\":\"#2a3f5f\"},\"error_y\":{\"color\":\"#2a3f5f\"},\"marker\":{\"line\":{\"color\":\"#E5ECF6\",\"width\":0.5},\"pattern\":{\"fillmode\":\"overlay\",\"size\":10,\"solidity\":0.2}},\"type\":\"bar\"}],\"scattergeo\":[{\"type\":\"scattergeo\",\"marker\":{\"colorbar\":{\"outlinewidth\":0,\"ticks\":\"\"}}}],\"scatterpolar\":[{\"type\":\"scatterpolar\",\"marker\":{\"colorbar\":{\"outlinewidth\":0,\"ticks\":\"\"}}}],\"histogram\":[{\"marker\":{\"pattern\":{\"fillmode\":\"overlay\",\"size\":10,\"solidity\":0.2}},\"type\":\"histogram\"}],\"scattergl\":[{\"type\":\"scattergl\",\"marker\":{\"colorbar\":{\"outlinewidth\":0,\"ticks\":\"\"}}}],\"scatter3d\":[{\"type\":\"scatter3d\",\"line\":{\"colorbar\":{\"outlinewidth\":0,\"ticks\":\"\"}},\"marker\":{\"colorbar\":{\"outlinewidth\":0,\"ticks\":\"\"}}}],\"scattermapbox\":[{\"type\":\"scattermapbox\",\"marker\":{\"colorbar\":{\"outlinewidth\":0,\"ticks\":\"\"}}}],\"scatterternary\":[{\"type\":\"scatterternary\",\"marker\":{\"colorbar\":{\"outlinewidth\":0,\"ticks\":\"\"}}}],\"scattercarpet\":[{\"type\":\"scattercarpet\",\"marker\":{\"colorbar\":{\"outlinewidth\":0,\"ticks\":\"\"}}}],\"carpet\":[{\"aaxis\":{\"endlinecolor\":\"#2a3f5f\",\"gridcolor\":\"white\",\"linecolor\":\"white\",\"minorgridcolor\":\"white\",\"startlinecolor\":\"#2a3f5f\"},\"baxis\":{\"endlinecolor\":\"#2a3f5f\",\"gridcolor\":\"white\",\"linecolor\":\"white\",\"minorgridcolor\":\"white\",\"startlinecolor\":\"#2a3f5f\"},\"type\":\"carpet\"}],\"table\":[{\"cells\":{\"fill\":{\"color\":\"#EBF0F8\"},\"line\":{\"color\":\"white\"}},\"header\":{\"fill\":{\"color\":\"#C8D4E3\"},\"line\":{\"color\":\"white\"}},\"type\":\"table\"}],\"barpolar\":[{\"marker\":{\"line\":{\"color\":\"#E5ECF6\",\"width\":0.5},\"pattern\":{\"fillmode\":\"overlay\",\"size\":10,\"solidity\":0.2}},\"type\":\"barpolar\"}],\"pie\":[{\"automargin\":true,\"type\":\"pie\"}]},\"layout\":{\"autotypenumbers\":\"strict\",\"colorway\":[\"#636efa\",\"#EF553B\",\"#00cc96\",\"#ab63fa\",\"#FFA15A\",\"#19d3f3\",\"#FF6692\",\"#B6E880\",\"#FF97FF\",\"#FECB52\"],\"font\":{\"color\":\"#2a3f5f\"},\"hovermode\":\"closest\",\"hoverlabel\":{\"align\":\"left\"},\"paper_bgcolor\":\"white\",\"plot_bgcolor\":\"#E5ECF6\",\"polar\":{\"bgcolor\":\"#E5ECF6\",\"angularaxis\":{\"gridcolor\":\"white\",\"linecolor\":\"white\",\"ticks\":\"\"},\"radialaxis\":{\"gridcolor\":\"white\",\"linecolor\":\"white\",\"ticks\":\"\"}},\"ternary\":{\"bgcolor\":\"#E5ECF6\",\"aaxis\":{\"gridcolor\":\"white\",\"linecolor\":\"white\",\"ticks\":\"\"},\"baxis\":{\"gridcolor\":\"white\",\"linecolor\":\"white\",\"ticks\":\"\"},\"caxis\":{\"gridcolor\":\"white\",\"linecolor\":\"white\",\"ticks\":\"\"}},\"coloraxis\":{\"colorbar\":{\"outlinewidth\":0,\"ticks\":\"\"}},\"colorscale\":{\"sequential\":[[0.0,\"#0d0887\"],[0.1111111111111111,\"#46039f\"],[0.2222222222222222,\"#7201a8\"],[0.3333333333333333,\"#9c179e\"],[0.4444444444444444,\"#bd3786\"],[0.5555555555555556,\"#d8576b\"],[0.6666666666666666,\"#ed7953\"],[0.7777777777777778,\"#fb9f3a\"],[0.8888888888888888,\"#fdca26\"],[1.0,\"#f0f921\"]],\"sequentialminus\":[[0.0,\"#0d0887\"],[0.1111111111111111,\"#46039f\"],[0.2222222222222222,\"#7201a8\"],[0.3333333333333333,\"#9c179e\"],[0.4444444444444444,\"#bd3786\"],[0.5555555555555556,\"#d8576b\"],[0.6666666666666666,\"#ed7953\"],[0.7777777777777778,\"#fb9f3a\"],[0.8888888888888888,\"#fdca26\"],[1.0,\"#f0f921\"]],\"diverging\":[[0,\"#8e0152\"],[0.1,\"#c51b7d\"],[0.2,\"#de77ae\"],[0.3,\"#f1b6da\"],[0.4,\"#fde0ef\"],[0.5,\"#f7f7f7\"],[0.6,\"#e6f5d0\"],[0.7,\"#b8e186\"],[0.8,\"#7fbc41\"],[0.9,\"#4d9221\"],[1,\"#276419\"]]},\"xaxis\":{\"gridcolor\":\"white\",\"linecolor\":\"white\",\"ticks\":\"\",\"title\":{\"standoff\":15},\"zerolinecolor\":\"white\",\"automargin\":true,\"zerolinewidth\":2},\"yaxis\":{\"gridcolor\":\"white\",\"linecolor\":\"white\",\"ticks\":\"\",\"title\":{\"standoff\":15},\"zerolinecolor\":\"white\",\"automargin\":true,\"zerolinewidth\":2},\"scene\":{\"xaxis\":{\"backgroundcolor\":\"#E5ECF6\",\"gridcolor\":\"white\",\"linecolor\":\"white\",\"showbackground\":true,\"ticks\":\"\",\"zerolinecolor\":\"white\",\"gridwidth\":2},\"yaxis\":{\"backgroundcolor\":\"#E5ECF6\",\"gridcolor\":\"white\",\"linecolor\":\"white\",\"showbackground\":true,\"ticks\":\"\",\"zerolinecolor\":\"white\",\"gridwidth\":2},\"zaxis\":{\"backgroundcolor\":\"#E5ECF6\",\"gridcolor\":\"white\",\"linecolor\":\"white\",\"showbackground\":true,\"ticks\":\"\",\"zerolinecolor\":\"white\",\"gridwidth\":2}},\"shapedefaults\":{\"line\":{\"color\":\"#2a3f5f\"}},\"annotationdefaults\":{\"arrowcolor\":\"#2a3f5f\",\"arrowhead\":0,\"arrowwidth\":1},\"geo\":{\"bgcolor\":\"white\",\"landcolor\":\"#E5ECF6\",\"subunitcolor\":\"white\",\"showland\":true,\"showlakes\":true,\"lakecolor\":\"white\"},\"title\":{\"x\":0.05},\"mapbox\":{\"style\":\"light\"}}},\"legend\":{\"tracegroupgap\":0},\"margin\":{\"t\":60},\"treemapcolorway\":[\"rgb(158,1,66)\",\"rgb(213,62,79)\",\"rgb(244,109,67)\",\"rgb(253,174,97)\",\"rgb(254,224,139)\",\"rgb(255,255,191)\",\"rgb(230,245,152)\",\"rgb(171,221,164)\",\"rgb(102,194,165)\",\"rgb(50,136,189)\",\"rgb(94,79,162)\"],\"height\":600},                        {\"responsive\": true}                    ).then(function(){\n",
       "                            \n",
       "var gd = document.getElementById('0dbfa677-a6e0-4bed-ad48-f408a3708c59');\n",
       "var x = new MutationObserver(function (mutations, observer) {{\n",
       "        var display = window.getComputedStyle(gd).display;\n",
       "        if (!display || display === 'none') {{\n",
       "            console.log([gd, 'removed!']);\n",
       "            Plotly.purge(gd);\n",
       "            observer.disconnect();\n",
       "        }}\n",
       "}});\n",
       "\n",
       "// Listen for the removal of the full notebook cells\n",
       "var notebookContainer = gd.closest('#notebook-container');\n",
       "if (notebookContainer) {{\n",
       "    x.observe(notebookContainer, {childList: true});\n",
       "}}\n",
       "\n",
       "// Listen for the clearing of the current output cell\n",
       "var outputEl = gd.closest('.output');\n",
       "if (outputEl) {{\n",
       "    x.observe(outputEl, {childList: true});\n",
       "}}\n",
       "\n",
       "                        })                };                });            </script>        </div>"
      ]
     },
     "metadata": {},
     "output_type": "display_data"
    }
   ],
   "source": [
    "# enrich initial dataframe by adding 'first_year' \n",
    "concepts[\"first_year\"] = concepts.groupby('concept')['year'].transform('min')\n",
    "concepts_unique = concepts.drop_duplicates(\"concept\")[['concept', 'frequency', 'score_avg', 'first_year']]\n",
    "\n",
    "#@markdown ## Emerging concepts: parameters\n",
    "#@markdown Start year of the publications/concepts to include\n",
    "YEAR_START = 2010 #@param {type:\"integer\"}\n",
    "#@markdown How many 'emerging' concepts to retain, for each year\n",
    "CONCEPTS_PER_YEAR = 5 #@param {type:\"integer\"}\n",
    "\n",
    "\n",
    "#\n",
    "# note: we reuse the freq/score threasholds above in order to focus on concepts of interest\n",
    "emerging_concepts = concepts_unique.query(f\"\"\"first_year >= {YEAR_START}\"\"\")\\\n",
    "                    .query(f\"\"\"frequency >= {FREQ_MIN} & frequency <= {FREQ_MAX} & score_avg >= {SCORE_MIN} \"\"\")\\\n",
    "                    .sort_values([\"score_avg\", \"frequency\"], ascending=False)\\\n",
    "                    .groupby(\"first_year\").head(CONCEPTS_PER_YEAR)\n",
    "\n",
    "px.treemap(emerging_concepts,\n",
    "           path=['first_year', 'concept'],\n",
    "           values='frequency',\n",
    "           color=\"concept\",\n",
    "           color_discrete_sequence=px.colors.diverging.Spectral,\n",
    "           height=600,\n",
    "          )"
   ]
  },
  {
   "cell_type": "markdown",
   "metadata": {
    "Collapsed": "false",
    "colab_type": "text",
    "id": "H-lsX5zxcf-o"
   },
   "source": [
    "## 5. Trend Analysis: topics growth \n",
    "\n",
    "If we focus on concepts that appear across multiple years, it is pretty interesting to examine their growth / decrease by comparing their frequency (or score) across those years. "
   ]
  },
  {
   "cell_type": "code",
   "execution_count": 21,
   "metadata": {
    "Collapsed": "false",
    "colab": {
     "base_uri": "https://localhost:8080/",
     "height": 542
    },
    "colab_type": "code",
    "executionInfo": {
     "elapsed": 503,
     "status": "ok",
     "timestamp": 1593634218553,
     "user": {
      "displayName": "Michele Pasin",
      "photoUrl": "https://lh3.googleusercontent.com/a-/AOh14GiYfmLTPbeMuYDDrETLbTVXTXnfVr9f7eBtkmR73A=s64",
      "userId": "10309320684375994511"
     },
     "user_tz": -60
    },
    "id": "SD6TP_r48I1a",
    "outputId": "45b64c9d-4d9c-4b6d-c43f-8daec0f5e82b"
   },
   "outputs": [
    {
     "data": {
      "application/vnd.plotly.v1+json": {
       "config": {
        "plotlyServerURL": "https://plot.ly"
       },
       "data": [
        {
         "hovertemplate": "concept=writing<br>year=%{x}<br>frequency_year=%{y}<extra></extra>",
         "legendgroup": "writing",
         "line": {
          "color": "#636efa",
          "dash": "solid"
         },
         "marker": {
          "symbol": "circle"
         },
         "mode": "lines",
         "name": "writing",
         "orientation": "v",
         "showlegend": true,
         "type": "scatter",
         "x": [
          1996,
          1997,
          1998,
          2000,
          2003,
          2004,
          2005,
          2006,
          2007,
          2008,
          2009,
          2010,
          2011,
          2012,
          2013,
          2014,
          2015,
          2016,
          2017,
          2018,
          2019,
          2020
         ],
         "xaxis": "x",
         "y": [
          2,
          1,
          2,
          3,
          1,
          2,
          1,
          4,
          5,
          1,
          5,
          3,
          4,
          6,
          4,
          4,
          4,
          5,
          9,
          8,
          10,
          6
         ],
         "yaxis": "y"
        },
        {
         "hovertemplate": "concept=philosophers<br>year=%{x}<br>frequency_year=%{y}<extra></extra>",
         "legendgroup": "philosophers",
         "line": {
          "color": "#EF553B",
          "dash": "solid"
         },
         "marker": {
          "symbol": "circle"
         },
         "mode": "lines",
         "name": "philosophers",
         "orientation": "v",
         "showlegend": true,
         "type": "scatter",
         "x": [
          1997,
          1998,
          1999,
          2000,
          2001,
          2002,
          2003,
          2004,
          2006,
          2007,
          2008,
          2009,
          2010,
          2011,
          2012,
          2013,
          2014,
          2015,
          2016,
          2017,
          2018,
          2019,
          2020
         ],
         "xaxis": "x",
         "y": [
          2,
          3,
          1,
          1,
          1,
          3,
          1,
          1,
          1,
          4,
          5,
          8,
          5,
          2,
          3,
          3,
          6,
          6,
          5,
          14,
          7,
          5,
          6
         ],
         "yaxis": "y"
        },
        {
         "hovertemplate": "concept=justice<br>year=%{x}<br>frequency_year=%{y}<extra></extra>",
         "legendgroup": "justice",
         "line": {
          "color": "#00cc96",
          "dash": "solid"
         },
         "marker": {
          "symbol": "circle"
         },
         "mode": "lines",
         "name": "justice",
         "orientation": "v",
         "showlegend": true,
         "type": "scatter",
         "x": [
          1997,
          1998,
          1999,
          2001,
          2002,
          2003,
          2005,
          2006,
          2007,
          2008,
          2009,
          2010,
          2011,
          2012,
          2013,
          2014,
          2015,
          2016,
          2017,
          2018,
          2019,
          2020
         ],
         "xaxis": "x",
         "y": [
          2,
          1,
          5,
          1,
          1,
          1,
          2,
          4,
          3,
          3,
          4,
          3,
          8,
          5,
          5,
          6,
          4,
          8,
          5,
          7,
          4,
          8
         ],
         "yaxis": "y"
        }
       ],
       "layout": {
        "autosize": true,
        "legend": {
         "title": {
          "text": "concept"
         },
         "tracegroupgap": 0
        },
        "margin": {
         "t": 60
        },
        "template": {
         "data": {
          "bar": [
           {
            "error_x": {
             "color": "#2a3f5f"
            },
            "error_y": {
             "color": "#2a3f5f"
            },
            "marker": {
             "line": {
              "color": "#E5ECF6",
              "width": 0.5
             },
             "pattern": {
              "fillmode": "overlay",
              "size": 10,
              "solidity": 0.2
             }
            },
            "type": "bar"
           }
          ],
          "barpolar": [
           {
            "marker": {
             "line": {
              "color": "#E5ECF6",
              "width": 0.5
             },
             "pattern": {
              "fillmode": "overlay",
              "size": 10,
              "solidity": 0.2
             }
            },
            "type": "barpolar"
           }
          ],
          "carpet": [
           {
            "aaxis": {
             "endlinecolor": "#2a3f5f",
             "gridcolor": "white",
             "linecolor": "white",
             "minorgridcolor": "white",
             "startlinecolor": "#2a3f5f"
            },
            "baxis": {
             "endlinecolor": "#2a3f5f",
             "gridcolor": "white",
             "linecolor": "white",
             "minorgridcolor": "white",
             "startlinecolor": "#2a3f5f"
            },
            "type": "carpet"
           }
          ],
          "choropleth": [
           {
            "colorbar": {
             "outlinewidth": 0,
             "ticks": ""
            },
            "type": "choropleth"
           }
          ],
          "contour": [
           {
            "colorbar": {
             "outlinewidth": 0,
             "ticks": ""
            },
            "colorscale": [
             [
              0,
              "#0d0887"
             ],
             [
              0.1111111111111111,
              "#46039f"
             ],
             [
              0.2222222222222222,
              "#7201a8"
             ],
             [
              0.3333333333333333,
              "#9c179e"
             ],
             [
              0.4444444444444444,
              "#bd3786"
             ],
             [
              0.5555555555555556,
              "#d8576b"
             ],
             [
              0.6666666666666666,
              "#ed7953"
             ],
             [
              0.7777777777777778,
              "#fb9f3a"
             ],
             [
              0.8888888888888888,
              "#fdca26"
             ],
             [
              1,
              "#f0f921"
             ]
            ],
            "type": "contour"
           }
          ],
          "contourcarpet": [
           {
            "colorbar": {
             "outlinewidth": 0,
             "ticks": ""
            },
            "type": "contourcarpet"
           }
          ],
          "heatmap": [
           {
            "colorbar": {
             "outlinewidth": 0,
             "ticks": ""
            },
            "colorscale": [
             [
              0,
              "#0d0887"
             ],
             [
              0.1111111111111111,
              "#46039f"
             ],
             [
              0.2222222222222222,
              "#7201a8"
             ],
             [
              0.3333333333333333,
              "#9c179e"
             ],
             [
              0.4444444444444444,
              "#bd3786"
             ],
             [
              0.5555555555555556,
              "#d8576b"
             ],
             [
              0.6666666666666666,
              "#ed7953"
             ],
             [
              0.7777777777777778,
              "#fb9f3a"
             ],
             [
              0.8888888888888888,
              "#fdca26"
             ],
             [
              1,
              "#f0f921"
             ]
            ],
            "type": "heatmap"
           }
          ],
          "heatmapgl": [
           {
            "colorbar": {
             "outlinewidth": 0,
             "ticks": ""
            },
            "colorscale": [
             [
              0,
              "#0d0887"
             ],
             [
              0.1111111111111111,
              "#46039f"
             ],
             [
              0.2222222222222222,
              "#7201a8"
             ],
             [
              0.3333333333333333,
              "#9c179e"
             ],
             [
              0.4444444444444444,
              "#bd3786"
             ],
             [
              0.5555555555555556,
              "#d8576b"
             ],
             [
              0.6666666666666666,
              "#ed7953"
             ],
             [
              0.7777777777777778,
              "#fb9f3a"
             ],
             [
              0.8888888888888888,
              "#fdca26"
             ],
             [
              1,
              "#f0f921"
             ]
            ],
            "type": "heatmapgl"
           }
          ],
          "histogram": [
           {
            "marker": {
             "pattern": {
              "fillmode": "overlay",
              "size": 10,
              "solidity": 0.2
             }
            },
            "type": "histogram"
           }
          ],
          "histogram2d": [
           {
            "colorbar": {
             "outlinewidth": 0,
             "ticks": ""
            },
            "colorscale": [
             [
              0,
              "#0d0887"
             ],
             [
              0.1111111111111111,
              "#46039f"
             ],
             [
              0.2222222222222222,
              "#7201a8"
             ],
             [
              0.3333333333333333,
              "#9c179e"
             ],
             [
              0.4444444444444444,
              "#bd3786"
             ],
             [
              0.5555555555555556,
              "#d8576b"
             ],
             [
              0.6666666666666666,
              "#ed7953"
             ],
             [
              0.7777777777777778,
              "#fb9f3a"
             ],
             [
              0.8888888888888888,
              "#fdca26"
             ],
             [
              1,
              "#f0f921"
             ]
            ],
            "type": "histogram2d"
           }
          ],
          "histogram2dcontour": [
           {
            "colorbar": {
             "outlinewidth": 0,
             "ticks": ""
            },
            "colorscale": [
             [
              0,
              "#0d0887"
             ],
             [
              0.1111111111111111,
              "#46039f"
             ],
             [
              0.2222222222222222,
              "#7201a8"
             ],
             [
              0.3333333333333333,
              "#9c179e"
             ],
             [
              0.4444444444444444,
              "#bd3786"
             ],
             [
              0.5555555555555556,
              "#d8576b"
             ],
             [
              0.6666666666666666,
              "#ed7953"
             ],
             [
              0.7777777777777778,
              "#fb9f3a"
             ],
             [
              0.8888888888888888,
              "#fdca26"
             ],
             [
              1,
              "#f0f921"
             ]
            ],
            "type": "histogram2dcontour"
           }
          ],
          "mesh3d": [
           {
            "colorbar": {
             "outlinewidth": 0,
             "ticks": ""
            },
            "type": "mesh3d"
           }
          ],
          "parcoords": [
           {
            "line": {
             "colorbar": {
              "outlinewidth": 0,
              "ticks": ""
             }
            },
            "type": "parcoords"
           }
          ],
          "pie": [
           {
            "automargin": true,
            "type": "pie"
           }
          ],
          "scatter": [
           {
            "fillpattern": {
             "fillmode": "overlay",
             "size": 10,
             "solidity": 0.2
            },
            "type": "scatter"
           }
          ],
          "scatter3d": [
           {
            "line": {
             "colorbar": {
              "outlinewidth": 0,
              "ticks": ""
             }
            },
            "marker": {
             "colorbar": {
              "outlinewidth": 0,
              "ticks": ""
             }
            },
            "type": "scatter3d"
           }
          ],
          "scattercarpet": [
           {
            "marker": {
             "colorbar": {
              "outlinewidth": 0,
              "ticks": ""
             }
            },
            "type": "scattercarpet"
           }
          ],
          "scattergeo": [
           {
            "marker": {
             "colorbar": {
              "outlinewidth": 0,
              "ticks": ""
             }
            },
            "type": "scattergeo"
           }
          ],
          "scattergl": [
           {
            "marker": {
             "colorbar": {
              "outlinewidth": 0,
              "ticks": ""
             }
            },
            "type": "scattergl"
           }
          ],
          "scattermapbox": [
           {
            "marker": {
             "colorbar": {
              "outlinewidth": 0,
              "ticks": ""
             }
            },
            "type": "scattermapbox"
           }
          ],
          "scatterpolar": [
           {
            "marker": {
             "colorbar": {
              "outlinewidth": 0,
              "ticks": ""
             }
            },
            "type": "scatterpolar"
           }
          ],
          "scatterpolargl": [
           {
            "marker": {
             "colorbar": {
              "outlinewidth": 0,
              "ticks": ""
             }
            },
            "type": "scatterpolargl"
           }
          ],
          "scatterternary": [
           {
            "marker": {
             "colorbar": {
              "outlinewidth": 0,
              "ticks": ""
             }
            },
            "type": "scatterternary"
           }
          ],
          "surface": [
           {
            "colorbar": {
             "outlinewidth": 0,
             "ticks": ""
            },
            "colorscale": [
             [
              0,
              "#0d0887"
             ],
             [
              0.1111111111111111,
              "#46039f"
             ],
             [
              0.2222222222222222,
              "#7201a8"
             ],
             [
              0.3333333333333333,
              "#9c179e"
             ],
             [
              0.4444444444444444,
              "#bd3786"
             ],
             [
              0.5555555555555556,
              "#d8576b"
             ],
             [
              0.6666666666666666,
              "#ed7953"
             ],
             [
              0.7777777777777778,
              "#fb9f3a"
             ],
             [
              0.8888888888888888,
              "#fdca26"
             ],
             [
              1,
              "#f0f921"
             ]
            ],
            "type": "surface"
           }
          ],
          "table": [
           {
            "cells": {
             "fill": {
              "color": "#EBF0F8"
             },
             "line": {
              "color": "white"
             }
            },
            "header": {
             "fill": {
              "color": "#C8D4E3"
             },
             "line": {
              "color": "white"
             }
            },
            "type": "table"
           }
          ]
         },
         "layout": {
          "annotationdefaults": {
           "arrowcolor": "#2a3f5f",
           "arrowhead": 0,
           "arrowwidth": 1
          },
          "autotypenumbers": "strict",
          "coloraxis": {
           "colorbar": {
            "outlinewidth": 0,
            "ticks": ""
           }
          },
          "colorscale": {
           "diverging": [
            [
             0,
             "#8e0152"
            ],
            [
             0.1,
             "#c51b7d"
            ],
            [
             0.2,
             "#de77ae"
            ],
            [
             0.3,
             "#f1b6da"
            ],
            [
             0.4,
             "#fde0ef"
            ],
            [
             0.5,
             "#f7f7f7"
            ],
            [
             0.6,
             "#e6f5d0"
            ],
            [
             0.7,
             "#b8e186"
            ],
            [
             0.8,
             "#7fbc41"
            ],
            [
             0.9,
             "#4d9221"
            ],
            [
             1,
             "#276419"
            ]
           ],
           "sequential": [
            [
             0,
             "#0d0887"
            ],
            [
             0.1111111111111111,
             "#46039f"
            ],
            [
             0.2222222222222222,
             "#7201a8"
            ],
            [
             0.3333333333333333,
             "#9c179e"
            ],
            [
             0.4444444444444444,
             "#bd3786"
            ],
            [
             0.5555555555555556,
             "#d8576b"
            ],
            [
             0.6666666666666666,
             "#ed7953"
            ],
            [
             0.7777777777777778,
             "#fb9f3a"
            ],
            [
             0.8888888888888888,
             "#fdca26"
            ],
            [
             1,
             "#f0f921"
            ]
           ],
           "sequentialminus": [
            [
             0,
             "#0d0887"
            ],
            [
             0.1111111111111111,
             "#46039f"
            ],
            [
             0.2222222222222222,
             "#7201a8"
            ],
            [
             0.3333333333333333,
             "#9c179e"
            ],
            [
             0.4444444444444444,
             "#bd3786"
            ],
            [
             0.5555555555555556,
             "#d8576b"
            ],
            [
             0.6666666666666666,
             "#ed7953"
            ],
            [
             0.7777777777777778,
             "#fb9f3a"
            ],
            [
             0.8888888888888888,
             "#fdca26"
            ],
            [
             1,
             "#f0f921"
            ]
           ]
          },
          "colorway": [
           "#636efa",
           "#EF553B",
           "#00cc96",
           "#ab63fa",
           "#FFA15A",
           "#19d3f3",
           "#FF6692",
           "#B6E880",
           "#FF97FF",
           "#FECB52"
          ],
          "font": {
           "color": "#2a3f5f"
          },
          "geo": {
           "bgcolor": "white",
           "lakecolor": "white",
           "landcolor": "#E5ECF6",
           "showlakes": true,
           "showland": true,
           "subunitcolor": "white"
          },
          "hoverlabel": {
           "align": "left"
          },
          "hovermode": "closest",
          "mapbox": {
           "style": "light"
          },
          "paper_bgcolor": "white",
          "plot_bgcolor": "#E5ECF6",
          "polar": {
           "angularaxis": {
            "gridcolor": "white",
            "linecolor": "white",
            "ticks": ""
           },
           "bgcolor": "#E5ECF6",
           "radialaxis": {
            "gridcolor": "white",
            "linecolor": "white",
            "ticks": ""
           }
          },
          "scene": {
           "xaxis": {
            "backgroundcolor": "#E5ECF6",
            "gridcolor": "white",
            "gridwidth": 2,
            "linecolor": "white",
            "showbackground": true,
            "ticks": "",
            "zerolinecolor": "white"
           },
           "yaxis": {
            "backgroundcolor": "#E5ECF6",
            "gridcolor": "white",
            "gridwidth": 2,
            "linecolor": "white",
            "showbackground": true,
            "ticks": "",
            "zerolinecolor": "white"
           },
           "zaxis": {
            "backgroundcolor": "#E5ECF6",
            "gridcolor": "white",
            "gridwidth": 2,
            "linecolor": "white",
            "showbackground": true,
            "ticks": "",
            "zerolinecolor": "white"
           }
          },
          "shapedefaults": {
           "line": {
            "color": "#2a3f5f"
           }
          },
          "ternary": {
           "aaxis": {
            "gridcolor": "white",
            "linecolor": "white",
            "ticks": ""
           },
           "baxis": {
            "gridcolor": "white",
            "linecolor": "white",
            "ticks": ""
           },
           "bgcolor": "#E5ECF6",
           "caxis": {
            "gridcolor": "white",
            "linecolor": "white",
            "ticks": ""
           }
          },
          "title": {
           "x": 0.05
          },
          "xaxis": {
           "automargin": true,
           "gridcolor": "white",
           "linecolor": "white",
           "ticks": "",
           "title": {
            "standoff": 15
           },
           "zerolinecolor": "white",
           "zerolinewidth": 2
          },
          "yaxis": {
           "automargin": true,
           "gridcolor": "white",
           "linecolor": "white",
           "ticks": "",
           "title": {
            "standoff": 15
           },
           "zerolinecolor": "white",
           "zerolinewidth": 2
          }
         }
        },
        "xaxis": {
         "anchor": "y",
         "autorange": true,
         "domain": [
          0,
          1
         ],
         "range": [
          1996,
          2020
         ],
         "title": {
          "text": "year"
         },
         "type": "linear"
        },
        "yaxis": {
         "anchor": "x",
         "autorange": true,
         "domain": [
          0,
          1
         ],
         "range": [
          0.2777777777777777,
          14.722222222222221
         ],
         "title": {
          "text": "frequency_year"
         },
         "type": "linear"
        }
       }
      },
      "image/png": "[encoded data removed]",
      "text/html": [
       "<div>                            <div id=\"51ac675a-907c-448a-ad59-48a55aa773fe\" class=\"plotly-graph-div\" style=\"height:525px; width:100%;\"></div>            <script type=\"text/javascript\">                require([\"plotly\"], function(Plotly) {                    window.PLOTLYENV=window.PLOTLYENV || {};                                    if (document.getElementById(\"51ac675a-907c-448a-ad59-48a55aa773fe\")) {                    Plotly.newPlot(                        \"51ac675a-907c-448a-ad59-48a55aa773fe\",                        [{\"hovertemplate\":\"concept=writing\\u003cbr\\u003eyear=%{x}\\u003cbr\\u003efrequency_year=%{y}\\u003cextra\\u003e\\u003c\\u002fextra\\u003e\",\"legendgroup\":\"writing\",\"line\":{\"color\":\"#636efa\",\"dash\":\"solid\"},\"marker\":{\"symbol\":\"circle\"},\"mode\":\"lines\",\"name\":\"writing\",\"orientation\":\"v\",\"showlegend\":true,\"x\":[1996,1997,1998,2000,2003,2004,2005,2006,2007,2008,2009,2010,2011,2012,2013,2014,2015,2016,2017,2018,2019,2020],\"xaxis\":\"x\",\"y\":[2,1,2,3,1,2,1,4,5,1,5,3,4,6,4,4,4,5,9,8,10,6],\"yaxis\":\"y\",\"type\":\"scatter\"},{\"hovertemplate\":\"concept=philosophers\\u003cbr\\u003eyear=%{x}\\u003cbr\\u003efrequency_year=%{y}\\u003cextra\\u003e\\u003c\\u002fextra\\u003e\",\"legendgroup\":\"philosophers\",\"line\":{\"color\":\"#EF553B\",\"dash\":\"solid\"},\"marker\":{\"symbol\":\"circle\"},\"mode\":\"lines\",\"name\":\"philosophers\",\"orientation\":\"v\",\"showlegend\":true,\"x\":[1997,1998,1999,2000,2001,2002,2003,2004,2006,2007,2008,2009,2010,2011,2012,2013,2014,2015,2016,2017,2018,2019,2020],\"xaxis\":\"x\",\"y\":[2,3,1,1,1,3,1,1,1,4,5,8,5,2,3,3,6,6,5,14,7,5,6],\"yaxis\":\"y\",\"type\":\"scatter\"},{\"hovertemplate\":\"concept=justice\\u003cbr\\u003eyear=%{x}\\u003cbr\\u003efrequency_year=%{y}\\u003cextra\\u003e\\u003c\\u002fextra\\u003e\",\"legendgroup\":\"justice\",\"line\":{\"color\":\"#00cc96\",\"dash\":\"solid\"},\"marker\":{\"symbol\":\"circle\"},\"mode\":\"lines\",\"name\":\"justice\",\"orientation\":\"v\",\"showlegend\":true,\"x\":[1997,1998,1999,2001,2002,2003,2005,2006,2007,2008,2009,2010,2011,2012,2013,2014,2015,2016,2017,2018,2019,2020],\"xaxis\":\"x\",\"y\":[2,1,5,1,1,1,2,4,3,3,4,3,8,5,5,6,4,8,5,7,4,8],\"yaxis\":\"y\",\"type\":\"scatter\"}],                        {\"template\":{\"data\":{\"histogram2dcontour\":[{\"type\":\"histogram2dcontour\",\"colorbar\":{\"outlinewidth\":0,\"ticks\":\"\"},\"colorscale\":[[0.0,\"#0d0887\"],[0.1111111111111111,\"#46039f\"],[0.2222222222222222,\"#7201a8\"],[0.3333333333333333,\"#9c179e\"],[0.4444444444444444,\"#bd3786\"],[0.5555555555555556,\"#d8576b\"],[0.6666666666666666,\"#ed7953\"],[0.7777777777777778,\"#fb9f3a\"],[0.8888888888888888,\"#fdca26\"],[1.0,\"#f0f921\"]]}],\"choropleth\":[{\"type\":\"choropleth\",\"colorbar\":{\"outlinewidth\":0,\"ticks\":\"\"}}],\"histogram2d\":[{\"type\":\"histogram2d\",\"colorbar\":{\"outlinewidth\":0,\"ticks\":\"\"},\"colorscale\":[[0.0,\"#0d0887\"],[0.1111111111111111,\"#46039f\"],[0.2222222222222222,\"#7201a8\"],[0.3333333333333333,\"#9c179e\"],[0.4444444444444444,\"#bd3786\"],[0.5555555555555556,\"#d8576b\"],[0.6666666666666666,\"#ed7953\"],[0.7777777777777778,\"#fb9f3a\"],[0.8888888888888888,\"#fdca26\"],[1.0,\"#f0f921\"]]}],\"heatmap\":[{\"type\":\"heatmap\",\"colorbar\":{\"outlinewidth\":0,\"ticks\":\"\"},\"colorscale\":[[0.0,\"#0d0887\"],[0.1111111111111111,\"#46039f\"],[0.2222222222222222,\"#7201a8\"],[0.3333333333333333,\"#9c179e\"],[0.4444444444444444,\"#bd3786\"],[0.5555555555555556,\"#d8576b\"],[0.6666666666666666,\"#ed7953\"],[0.7777777777777778,\"#fb9f3a\"],[0.8888888888888888,\"#fdca26\"],[1.0,\"#f0f921\"]]}],\"heatmapgl\":[{\"type\":\"heatmapgl\",\"colorbar\":{\"outlinewidth\":0,\"ticks\":\"\"},\"colorscale\":[[0.0,\"#0d0887\"],[0.1111111111111111,\"#46039f\"],[0.2222222222222222,\"#7201a8\"],[0.3333333333333333,\"#9c179e\"],[0.4444444444444444,\"#bd3786\"],[0.5555555555555556,\"#d8576b\"],[0.6666666666666666,\"#ed7953\"],[0.7777777777777778,\"#fb9f3a\"],[0.8888888888888888,\"#fdca26\"],[1.0,\"#f0f921\"]]}],\"contourcarpet\":[{\"type\":\"contourcarpet\",\"colorbar\":{\"outlinewidth\":0,\"ticks\":\"\"}}],\"contour\":[{\"type\":\"contour\",\"colorbar\":{\"outlinewidth\":0,\"ticks\":\"\"},\"colorscale\":[[0.0,\"#0d0887\"],[0.1111111111111111,\"#46039f\"],[0.2222222222222222,\"#7201a8\"],[0.3333333333333333,\"#9c179e\"],[0.4444444444444444,\"#bd3786\"],[0.5555555555555556,\"#d8576b\"],[0.6666666666666666,\"#ed7953\"],[0.7777777777777778,\"#fb9f3a\"],[0.8888888888888888,\"#fdca26\"],[1.0,\"#f0f921\"]]}],\"surface\":[{\"type\":\"surface\",\"colorbar\":{\"outlinewidth\":0,\"ticks\":\"\"},\"colorscale\":[[0.0,\"#0d0887\"],[0.1111111111111111,\"#46039f\"],[0.2222222222222222,\"#7201a8\"],[0.3333333333333333,\"#9c179e\"],[0.4444444444444444,\"#bd3786\"],[0.5555555555555556,\"#d8576b\"],[0.6666666666666666,\"#ed7953\"],[0.7777777777777778,\"#fb9f3a\"],[0.8888888888888888,\"#fdca26\"],[1.0,\"#f0f921\"]]}],\"mesh3d\":[{\"type\":\"mesh3d\",\"colorbar\":{\"outlinewidth\":0,\"ticks\":\"\"}}],\"scatter\":[{\"fillpattern\":{\"fillmode\":\"overlay\",\"size\":10,\"solidity\":0.2},\"type\":\"scatter\"}],\"parcoords\":[{\"type\":\"parcoords\",\"line\":{\"colorbar\":{\"outlinewidth\":0,\"ticks\":\"\"}}}],\"scatterpolargl\":[{\"type\":\"scatterpolargl\",\"marker\":{\"colorbar\":{\"outlinewidth\":0,\"ticks\":\"\"}}}],\"bar\":[{\"error_x\":{\"color\":\"#2a3f5f\"},\"error_y\":{\"color\":\"#2a3f5f\"},\"marker\":{\"line\":{\"color\":\"#E5ECF6\",\"width\":0.5},\"pattern\":{\"fillmode\":\"overlay\",\"size\":10,\"solidity\":0.2}},\"type\":\"bar\"}],\"scattergeo\":[{\"type\":\"scattergeo\",\"marker\":{\"colorbar\":{\"outlinewidth\":0,\"ticks\":\"\"}}}],\"scatterpolar\":[{\"type\":\"scatterpolar\",\"marker\":{\"colorbar\":{\"outlinewidth\":0,\"ticks\":\"\"}}}],\"histogram\":[{\"marker\":{\"pattern\":{\"fillmode\":\"overlay\",\"size\":10,\"solidity\":0.2}},\"type\":\"histogram\"}],\"scattergl\":[{\"type\":\"scattergl\",\"marker\":{\"colorbar\":{\"outlinewidth\":0,\"ticks\":\"\"}}}],\"scatter3d\":[{\"type\":\"scatter3d\",\"line\":{\"colorbar\":{\"outlinewidth\":0,\"ticks\":\"\"}},\"marker\":{\"colorbar\":{\"outlinewidth\":0,\"ticks\":\"\"}}}],\"scattermapbox\":[{\"type\":\"scattermapbox\",\"marker\":{\"colorbar\":{\"outlinewidth\":0,\"ticks\":\"\"}}}],\"scatterternary\":[{\"type\":\"scatterternary\",\"marker\":{\"colorbar\":{\"outlinewidth\":0,\"ticks\":\"\"}}}],\"scattercarpet\":[{\"type\":\"scattercarpet\",\"marker\":{\"colorbar\":{\"outlinewidth\":0,\"ticks\":\"\"}}}],\"carpet\":[{\"aaxis\":{\"endlinecolor\":\"#2a3f5f\",\"gridcolor\":\"white\",\"linecolor\":\"white\",\"minorgridcolor\":\"white\",\"startlinecolor\":\"#2a3f5f\"},\"baxis\":{\"endlinecolor\":\"#2a3f5f\",\"gridcolor\":\"white\",\"linecolor\":\"white\",\"minorgridcolor\":\"white\",\"startlinecolor\":\"#2a3f5f\"},\"type\":\"carpet\"}],\"table\":[{\"cells\":{\"fill\":{\"color\":\"#EBF0F8\"},\"line\":{\"color\":\"white\"}},\"header\":{\"fill\":{\"color\":\"#C8D4E3\"},\"line\":{\"color\":\"white\"}},\"type\":\"table\"}],\"barpolar\":[{\"marker\":{\"line\":{\"color\":\"#E5ECF6\",\"width\":0.5},\"pattern\":{\"fillmode\":\"overlay\",\"size\":10,\"solidity\":0.2}},\"type\":\"barpolar\"}],\"pie\":[{\"automargin\":true,\"type\":\"pie\"}]},\"layout\":{\"autotypenumbers\":\"strict\",\"colorway\":[\"#636efa\",\"#EF553B\",\"#00cc96\",\"#ab63fa\",\"#FFA15A\",\"#19d3f3\",\"#FF6692\",\"#B6E880\",\"#FF97FF\",\"#FECB52\"],\"font\":{\"color\":\"#2a3f5f\"},\"hovermode\":\"closest\",\"hoverlabel\":{\"align\":\"left\"},\"paper_bgcolor\":\"white\",\"plot_bgcolor\":\"#E5ECF6\",\"polar\":{\"bgcolor\":\"#E5ECF6\",\"angularaxis\":{\"gridcolor\":\"white\",\"linecolor\":\"white\",\"ticks\":\"\"},\"radialaxis\":{\"gridcolor\":\"white\",\"linecolor\":\"white\",\"ticks\":\"\"}},\"ternary\":{\"bgcolor\":\"#E5ECF6\",\"aaxis\":{\"gridcolor\":\"white\",\"linecolor\":\"white\",\"ticks\":\"\"},\"baxis\":{\"gridcolor\":\"white\",\"linecolor\":\"white\",\"ticks\":\"\"},\"caxis\":{\"gridcolor\":\"white\",\"linecolor\":\"white\",\"ticks\":\"\"}},\"coloraxis\":{\"colorbar\":{\"outlinewidth\":0,\"ticks\":\"\"}},\"colorscale\":{\"sequential\":[[0.0,\"#0d0887\"],[0.1111111111111111,\"#46039f\"],[0.2222222222222222,\"#7201a8\"],[0.3333333333333333,\"#9c179e\"],[0.4444444444444444,\"#bd3786\"],[0.5555555555555556,\"#d8576b\"],[0.6666666666666666,\"#ed7953\"],[0.7777777777777778,\"#fb9f3a\"],[0.8888888888888888,\"#fdca26\"],[1.0,\"#f0f921\"]],\"sequentialminus\":[[0.0,\"#0d0887\"],[0.1111111111111111,\"#46039f\"],[0.2222222222222222,\"#7201a8\"],[0.3333333333333333,\"#9c179e\"],[0.4444444444444444,\"#bd3786\"],[0.5555555555555556,\"#d8576b\"],[0.6666666666666666,\"#ed7953\"],[0.7777777777777778,\"#fb9f3a\"],[0.8888888888888888,\"#fdca26\"],[1.0,\"#f0f921\"]],\"diverging\":[[0,\"#8e0152\"],[0.1,\"#c51b7d\"],[0.2,\"#de77ae\"],[0.3,\"#f1b6da\"],[0.4,\"#fde0ef\"],[0.5,\"#f7f7f7\"],[0.6,\"#e6f5d0\"],[0.7,\"#b8e186\"],[0.8,\"#7fbc41\"],[0.9,\"#4d9221\"],[1,\"#276419\"]]},\"xaxis\":{\"gridcolor\":\"white\",\"linecolor\":\"white\",\"ticks\":\"\",\"title\":{\"standoff\":15},\"zerolinecolor\":\"white\",\"automargin\":true,\"zerolinewidth\":2},\"yaxis\":{\"gridcolor\":\"white\",\"linecolor\":\"white\",\"ticks\":\"\",\"title\":{\"standoff\":15},\"zerolinecolor\":\"white\",\"automargin\":true,\"zerolinewidth\":2},\"scene\":{\"xaxis\":{\"backgroundcolor\":\"#E5ECF6\",\"gridcolor\":\"white\",\"linecolor\":\"white\",\"showbackground\":true,\"ticks\":\"\",\"zerolinecolor\":\"white\",\"gridwidth\":2},\"yaxis\":{\"backgroundcolor\":\"#E5ECF6\",\"gridcolor\":\"white\",\"linecolor\":\"white\",\"showbackground\":true,\"ticks\":\"\",\"zerolinecolor\":\"white\",\"gridwidth\":2},\"zaxis\":{\"backgroundcolor\":\"#E5ECF6\",\"gridcolor\":\"white\",\"linecolor\":\"white\",\"showbackground\":true,\"ticks\":\"\",\"zerolinecolor\":\"white\",\"gridwidth\":2}},\"shapedefaults\":{\"line\":{\"color\":\"#2a3f5f\"}},\"annotationdefaults\":{\"arrowcolor\":\"#2a3f5f\",\"arrowhead\":0,\"arrowwidth\":1},\"geo\":{\"bgcolor\":\"white\",\"landcolor\":\"#E5ECF6\",\"subunitcolor\":\"white\",\"showland\":true,\"showlakes\":true,\"lakecolor\":\"white\"},\"title\":{\"x\":0.05},\"mapbox\":{\"style\":\"light\"}}},\"xaxis\":{\"anchor\":\"y\",\"domain\":[0.0,1.0],\"title\":{\"text\":\"year\"}},\"yaxis\":{\"anchor\":\"x\",\"domain\":[0.0,1.0],\"title\":{\"text\":\"frequency_year\"}},\"legend\":{\"title\":{\"text\":\"concept\"},\"tracegroupgap\":0},\"margin\":{\"t\":60}},                        {\"responsive\": true}                    ).then(function(){\n",
       "                            \n",
       "var gd = document.getElementById('51ac675a-907c-448a-ad59-48a55aa773fe');\n",
       "var x = new MutationObserver(function (mutations, observer) {{\n",
       "        var display = window.getComputedStyle(gd).display;\n",
       "        if (!display || display === 'none') {{\n",
       "            console.log([gd, 'removed!']);\n",
       "            Plotly.purge(gd);\n",
       "            observer.disconnect();\n",
       "        }}\n",
       "}});\n",
       "\n",
       "// Listen for the removal of the full notebook cells\n",
       "var notebookContainer = gd.closest('#notebook-container');\n",
       "if (notebookContainer) {{\n",
       "    x.observe(notebookContainer, {childList: true});\n",
       "}}\n",
       "\n",
       "// Listen for the clearing of the current output cell\n",
       "var outputEl = gd.closest('.output');\n",
       "if (outputEl) {{\n",
       "    x.observe(outputEl, {childList: true});\n",
       "}}\n",
       "\n",
       "                        })                };                });            </script>        </div>"
      ]
     },
     "metadata": {},
     "output_type": "display_data"
    }
   ],
   "source": [
    "#\n",
    "# create dataframe with statistics for all years \n",
    "#\n",
    "\n",
    "concepts_by_year = concepts.copy()\n",
    "concepts_by_year['frequency_year'] = concepts_by_year.groupby(['year', 'concept'])['concept'].transform('count')\n",
    "concepts_by_year['score_avg_year'] = concepts_by_year.groupby(['year', 'concept'])['score'].transform('mean').round(5)\n",
    "\n",
    "concepts_by_year = concepts_by_year.drop_duplicates(subset=['concept', 'year'])\\\n",
    "                    [['concept', 'frequency', 'score_avg', 'year', 'frequency_year', 'score_avg_year']]\n",
    "\n",
    "\n",
    "#\n",
    "# pick 3 frequent concepts programmatically\n",
    "#\n",
    "\n",
    "temp = concepts_unique.query(f\"\"\"frequency >= 10 & frequency <= 100 & score_avg >= 0.4 \"\"\")\\\n",
    "                    .sort_values([\"frequency\", \"score_avg\", ], ascending=False)\n",
    "FOCUS = temp['concept'].to_list()[:3] \n",
    "\n",
    "\n",
    "#\n",
    "# plot their frequency over the years\n",
    "#\n",
    "\n",
    "data = concepts_by_year[concepts_by_year['concept'].isin(FOCUS)].sort_values(\"year\")\n",
    "\n",
    "px.line(data,\n",
    "        x=\"year\",\n",
    "        y=\"frequency_year\",\n",
    "        color=\"concept\",\n",
    "       )\n"
   ]
  },
  {
   "cell_type": "markdown",
   "metadata": {
    "Collapsed": "false",
    "colab_type": "text",
    "id": "wvO5TLgC8I1d"
   },
   "source": [
    "## 6. Trend analysis: growth distribution based on selected years \n",
    "\n",
    "We can generalised the method above so to look at the topics that grew the most, within any two chosen years. "
   ]
  },
  {
   "cell_type": "code",
   "execution_count": 22,
   "metadata": {
    "Collapsed": "false",
    "colab": {
     "base_uri": "https://localhost:8080/",
     "height": 194
    },
    "colab_type": "code",
    "executionInfo": {
     "elapsed": 65799,
     "status": "ok",
     "timestamp": 1593633288561,
     "user": {
      "displayName": "Michele Pasin",
      "photoUrl": "https://lh3.googleusercontent.com/a-/AOh14GiYfmLTPbeMuYDDrETLbTVXTXnfVr9f7eBtkmR73A=s64",
      "userId": "10309320684375994511"
     },
     "user_tz": -60
    },
    "id": "IG0UgmKAcf8E",
    "outputId": "4860159b-54c0-4342-fb56-d746bd0677c8"
   },
   "outputs": [
    {
     "ename": "SyntaxError",
     "evalue": "invalid syntax (<unknown>, line 1)",
     "output_type": "error",
     "traceback": [
      "Traceback \u001b[0;36m(most recent call last)\u001b[0m:\n",
      "  File \u001b[1;32m\"/Users/michele.pasin/Envs/jupyterlab/lib/python3.9/site-packages/IPython/core/interactiveshell.py\"\u001b[0m, line \u001b[1;32m3457\u001b[0m, in \u001b[1;35mrun_code\u001b[0m\n    exec(code_obj, self.user_global_ns, self.user_ns)\n",
      "  File \u001b[1;32m\"/var/folders/zk/bxslv_1d01b983n6l5ky91b80000gn/T/ipykernel_85474/17007061.py\"\u001b[0m, line \u001b[1;32m20\u001b[0m, in \u001b[1;35m<module>\u001b[0m\n    common_concepts['freq_growth'] = common_concepts.apply(lambda x: calculate_difference(x['concept'], \"frequency_year\"), axis=1)\n",
      "  File \u001b[1;32m\"/Users/michele.pasin/Envs/jupyterlab/lib/python3.9/site-packages/pandas/core/frame.py\"\u001b[0m, line \u001b[1;32m8740\u001b[0m, in \u001b[1;35mapply\u001b[0m\n    return op.apply()\n",
      "  File \u001b[1;32m\"/Users/michele.pasin/Envs/jupyterlab/lib/python3.9/site-packages/pandas/core/apply.py\"\u001b[0m, line \u001b[1;32m688\u001b[0m, in \u001b[1;35mapply\u001b[0m\n    return self.apply_standard()\n",
      "  File \u001b[1;32m\"/Users/michele.pasin/Envs/jupyterlab/lib/python3.9/site-packages/pandas/core/apply.py\"\u001b[0m, line \u001b[1;32m812\u001b[0m, in \u001b[1;35mapply_standard\u001b[0m\n    results, res_index = self.apply_series_generator()\n",
      "  File \u001b[1;32m\"/Users/michele.pasin/Envs/jupyterlab/lib/python3.9/site-packages/pandas/core/apply.py\"\u001b[0m, line \u001b[1;32m828\u001b[0m, in \u001b[1;35mapply_series_generator\u001b[0m\n    results[i] = self.f(v)\n",
      "  File \u001b[1;32m\"/var/folders/zk/bxslv_1d01b983n6l5ky91b80000gn/T/ipykernel_85474/17007061.py\"\u001b[0m, line \u001b[1;32m20\u001b[0m, in \u001b[1;35m<lambda>\u001b[0m\n    common_concepts['freq_growth'] = common_concepts.apply(lambda x: calculate_difference(x['concept'], \"frequency_year\"), axis=1)\n",
      "  File \u001b[1;32m\"/var/folders/zk/bxslv_1d01b983n6l5ky91b80000gn/T/ipykernel_85474/17007061.py\"\u001b[0m, line \u001b[1;32m18\u001b[0m, in \u001b[1;35mcalculate_difference\u001b[0m\n    return second_year.query(f\"concept == '{concept}'\")[column].values[0] - first_year.query(f\"concept == '{concept}'\")[column].values[0]\n",
      "  File \u001b[1;32m\"/Users/michele.pasin/Envs/jupyterlab/lib/python3.9/site-packages/pandas/core/frame.py\"\u001b[0m, line \u001b[1;32m4060\u001b[0m, in \u001b[1;35mquery\u001b[0m\n    res = self.eval(expr, **kwargs)\n",
      "  File \u001b[1;32m\"/Users/michele.pasin/Envs/jupyterlab/lib/python3.9/site-packages/pandas/core/frame.py\"\u001b[0m, line \u001b[1;32m4191\u001b[0m, in \u001b[1;35meval\u001b[0m\n    return _eval(expr, inplace=inplace, **kwargs)\n",
      "  File \u001b[1;32m\"/Users/michele.pasin/Envs/jupyterlab/lib/python3.9/site-packages/pandas/core/computation/eval.py\"\u001b[0m, line \u001b[1;32m348\u001b[0m, in \u001b[1;35meval\u001b[0m\n    parsed_expr = Expr(expr, engine=engine, parser=parser, env=env)\n",
      "  File \u001b[1;32m\"/Users/michele.pasin/Envs/jupyterlab/lib/python3.9/site-packages/pandas/core/computation/expr.py\"\u001b[0m, line \u001b[1;32m806\u001b[0m, in \u001b[1;35m__init__\u001b[0m\n    self.terms = self.parse()\n",
      "  File \u001b[1;32m\"/Users/michele.pasin/Envs/jupyterlab/lib/python3.9/site-packages/pandas/core/computation/expr.py\"\u001b[0m, line \u001b[1;32m825\u001b[0m, in \u001b[1;35mparse\u001b[0m\n    return self._visitor.visit(self.expr)\n",
      "  File \u001b[1;32m\"/Users/michele.pasin/Envs/jupyterlab/lib/python3.9/site-packages/pandas/core/computation/expr.py\"\u001b[0m, line \u001b[1;32m407\u001b[0m, in \u001b[1;35mvisit\u001b[0m\n    raise e\n",
      "  File \u001b[1;32m\"/Users/michele.pasin/Envs/jupyterlab/lib/python3.9/site-packages/pandas/core/computation/expr.py\"\u001b[0m, line \u001b[1;32m403\u001b[0m, in \u001b[1;35mvisit\u001b[0m\n    node = ast.fix_missing_locations(ast.parse(clean))\n",
      "\u001b[0;36m  File \u001b[0;32m\"/opt/homebrew/Cellar/python@3.9/3.9.16/Frameworks/Python.framework/Versions/3.9/lib/python3.9/ast.py\"\u001b[0;36m, line \u001b[0;32m50\u001b[0;36m, in \u001b[0;35mparse\u001b[0;36m\u001b[0m\n\u001b[0;31m    return compile(source, filename, mode, flags,\u001b[0m\n",
      "\u001b[0;36m  File \u001b[0;32m\"<unknown>\"\u001b[0;36m, line \u001b[0;32m1\u001b[0m\n\u001b[0;31m    concept =='patient's condition '\u001b[0m\n\u001b[0m                       ^\u001b[0m\n\u001b[0;31mSyntaxError\u001b[0m\u001b[0;31m:\u001b[0m invalid syntax\n"
     ]
    }
   ],
   "source": [
    "YEAR_START = 2014 #@param {type: \"slider\", min: 1950, max: 2020}\n",
    "YEAR_END = 2019 #@param {type: \"slider\", min: 1950, max: 2020}\n",
    "\n",
    "\n",
    "#\n",
    "# from two years, find all common concepts, calculate growth for all of them\n",
    "#\n",
    "\n",
    "first_year = concepts_by_year.query(f\"year == {YEAR_START}\")\n",
    "second_year = concepts_by_year.query(f\"year == {YEAR_END}\")\n",
    "two_years = first_year.append(second_year)\n",
    "common_concepts = two_years[two_years.duplicated('concept')].reset_index()[['concept', 'frequency', 'score_avg']]\n",
    "\n",
    "def calculate_difference(concept, column=\"frequency_year\"):\n",
    "    \"\"\"Compare a numeric col value across two years\n",
    "    eg `calculate_difference(\"mind\", \"frequency_year\")`\n",
    "    \"\"\"\n",
    "    return second_year.query(f\"concept == '{concept}'\")[column].values[0] - first_year.query(f\"concept == '{concept}'\")[column].values[0]\n",
    "\n",
    "common_concepts['freq_growth'] = common_concepts.apply(lambda x: calculate_difference(x['concept'], \"frequency_year\"), axis=1)\n",
    "common_concepts['score_growth'] = common_concepts.apply(lambda x: calculate_difference(x['concept'], \"score_avg_year\"), axis=1)\n",
    "\n",
    "common_concepts.sort_values(\"freq_growth\", ascending=False).head()\n"
   ]
  },
  {
   "cell_type": "markdown",
   "metadata": {
    "Collapsed": "false",
    "colab_type": "text",
    "id": "iLTfuS0y8I1g"
   },
   "source": [
    "We can build a simple scatter plot using the `freq_growth` and `score_growth` values just calculated. \n",
    "\n",
    "* by using the `MIN_SCORE` parameter we can filter out concepts with an overall `score_avg` which is too low (note: this value is the average from all years, see section 1 above)\n",
    "* by mapping `score_avg` to the dots color, we can quickly visually identify concepts with a high score in the graph"
   ]
  },
  {
   "cell_type": "code",
   "execution_count": null,
   "metadata": {
    "Collapsed": "false",
    "colab": {
     "base_uri": "https://localhost:8080/",
     "height": 617
    },
    "colab_type": "code",
    "executionInfo": {
     "elapsed": 65796,
     "status": "ok",
     "timestamp": 1593633288562,
     "user": {
      "displayName": "Michele Pasin",
      "photoUrl": "https://lh3.googleusercontent.com/a-/AOh14GiYfmLTPbeMuYDDrETLbTVXTXnfVr9f7eBtkmR73A=s64",
      "userId": "10309320684375994511"
     },
     "user_tz": -60
    },
    "id": "BNqfikFC8I1g",
    "outputId": "a6a4392b-29c4-4973-ff2d-05a408764af1"
   },
   "outputs": [],
   "source": [
    "MIN_SCORE = 0.2\n",
    "\n",
    "px.scatter(common_concepts.query(f\"score_avg >= {MIN_SCORE}\"), \n",
    "           x=\"freq_growth\", y=\"score_growth\", \n",
    "            color=\"score_avg\", \n",
    "           hover_name=\"concept\", hover_data=['concept', 'frequency', 'score_avg'], \n",
    "            height=600, title=f\"Concepts growth from {YEAR_START} to {YEAR_END}\"\n",
    "          )"
   ]
  },
  {
   "cell_type": "markdown",
   "metadata": {
    "Collapsed": "false",
    "colab_type": "text",
    "id": "Etf7KhmR8I1j"
   },
   "source": [
    "## 7. Conclusion\n",
    "\n",
    "In this tutorial we have demonstrated how to process publication *concepts* - normalised keywords found in documents- obtained using the [Dimensions Analytics API](https://www.dimensions.ai/dimensions-apis/). \n",
    "\n",
    "By playing with parameters like *frequency* and *average score*, it is possible to highlight interesting concepts programmatically and use them to carry out semantic analyses of the documents dataset they derive from. \n",
    "\n",
    "For more information on this topic, see also the [official documentation on concepts](https://docs.dimensions.ai/dsl/language.html#searching-using-concepts) and the [Working with concepts in the Dimensions API](https://api-lab.dimensions.ai/cookbooks/1-getting-started/7-Working-with-concepts.html) tutorial."
   ]
  }
 ],
 "metadata": {
  "colab": {
   "collapsed_sections": [],
   "name": "Simple-topic-analysis.ipynb",
   "provenance": []
  },
  "kernel_info": {
   "name": "python3"
  },
  "kernelspec": {
   "display_name": "Python 3 (ipykernel)",
   "language": "python",
   "name": "python3"
  },
  "language_info": {
   "codemirror_mode": {
    "name": "ipython",
    "version": 3
   },
   "file_extension": ".py",
   "mimetype": "text/x-python",
   "name": "python",
   "nbconvert_exporter": "python",
   "pygments_lexer": "ipython3",
   "version": "3.9.16"
  },
  "nteract": {
   "version": "0.14.5"
  }
 },
 "nbformat": 4,
 "nbformat_minor": 4
}
