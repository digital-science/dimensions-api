{
 "cells": [
  {
   "cell_type": "markdown",
   "metadata": {
    "Collapsed": "false",
    "colab_type": "text",
    "id": "Pesu5qAD6J7-"
   },
   "source": [
    "# Building a simple rejected articles tracker\n",
    "\n",
    "In this notebook we are going to \n",
    "\n",
    "* load a list of publications titles from a local CSV file\n",
    "* match those titles against the Dimensions database\n",
    "* save the matched items in a new CSV file"
   ]
  },
  {
   "cell_type": "markdown",
   "metadata": {
    "Collapsed": "false",
    "colab_type": "text",
    "id": "Pesu5qAD6J7-"
   },
   "source": [
    "## Prerequisites: Installing the Dimensions Library and Logging in"
   ]
  },
  {
   "cell_type": "code",
   "execution_count": 1,
   "metadata": {
    "Collapsed": "false"
   },
   "outputs": [
    {
     "name": "stdout",
     "output_type": "stream",
     "text": [
      "DimCli v0.6.7 - Succesfully connected to <https://app.dimensions.ai> (method: dsl.ini file)\n"
     ]
    },
    {
     "data": {
      "text/html": [
       "        <script type=\"text/javascript\">\n",
       "        window.PlotlyConfig = {MathJaxConfig: 'local'};\n",
       "        if (window.MathJax) {MathJax.Hub.Config({SVG: {font: \"STIX-Web\"}});}\n",
       "        if (typeof require !== 'undefined') {\n",
       "        require.undef(\"plotly\");\n",
       "        requirejs.config({\n",
       "            paths: {\n",
       "                'plotly': ['https://cdn.plot.ly/plotly-latest.min']\n",
       "            }\n",
       "        });\n",
       "        require(['plotly'], function(Plotly) {\n",
       "            window._Plotly = Plotly;\n",
       "        });\n",
       "        }\n",
       "        </script>\n",
       "        "
      ]
     },
     "metadata": {},
     "output_type": "display_data"
    }
   ],
   "source": [
    "\n",
    "# @markdown # Get the API library and login\n",
    "# @markdown Click the 'play' button on the left (or shift+enter) after entering your API credentials\n",
    "\n",
    "username = \"\" #@param {type: \"string\"}\n",
    "password = \"\" #@param {type: \"string\"}\n",
    "endpoint = \"https://app.dimensions.ai\" #@param {type: \"string\"}\n",
    "\n",
    "\n",
    "!pip install dimcli plotly tqdm -U --quiet\n",
    "import dimcli\n",
    "from dimcli.shortcuts import *\n",
    "dimcli.login(username, password, endpoint)\n",
    "dsl = dimcli.Dsl()\n",
    "\n",
    "#\n",
    "# load common libraries\n",
    "import time\n",
    "import sys\n",
    "import json\n",
    "import pandas as pd\n",
    "from pandas.io.json import json_normalize\n",
    "from tqdm.notebook import tqdm as progress\n",
    "\n",
    "#\n",
    "# charts libs\n",
    "# import plotly_express as px\n",
    "import plotly.express as px\n",
    "if not 'google.colab' in sys.modules:\n",
    "  # make js dependecies local / needed by html exports\n",
    "  from plotly.offline import init_notebook_mode\n",
    "  init_notebook_mode(connected=True)"
   ]
  },
  {
   "cell_type": "markdown",
   "metadata": {
    "Collapsed": "false",
    "colab_type": "text",
    "id": "Z1jwOf1F64mr"
   },
   "source": [
    "## Load a CSV file with publication titles "
   ]
  },
  {
   "cell_type": "code",
   "execution_count": 2,
   "metadata": {
    "Collapsed": "false",
    "cellView": "form",
    "colab": {},
    "colab_type": "code",
    "id": "Ku0GkHfE7JI7"
   },
   "outputs": [
    {
     "data": {
      "text/html": [
       "<div>\n",
       "<style scoped>\n",
       "    .dataframe tbody tr th:only-of-type {\n",
       "        vertical-align: middle;\n",
       "    }\n",
       "\n",
       "    .dataframe tbody tr th {\n",
       "        vertical-align: top;\n",
       "    }\n",
       "\n",
       "    .dataframe thead th {\n",
       "        text-align: right;\n",
       "    }\n",
       "</style>\n",
       "<table border=\"1\" class=\"dataframe\">\n",
       "  <thead>\n",
       "    <tr style=\"text-align: right;\">\n",
       "      <th></th>\n",
       "      <th>title</th>\n",
       "    </tr>\n",
       "  </thead>\n",
       "  <tbody>\n",
       "    <tr>\n",
       "      <th>0</th>\n",
       "      <td>The Importance of Truth Telling and Trust</td>\n",
       "    </tr>\n",
       "    <tr>\n",
       "      <th>1</th>\n",
       "      <td>How municipalities support energy cooperatives...</td>\n",
       "    </tr>\n",
       "    <tr>\n",
       "      <th>2</th>\n",
       "      <td>Real-world study for the optimal charging of e...</td>\n",
       "    </tr>\n",
       "    <tr>\n",
       "      <th>3</th>\n",
       "      <td>The Impact of 3D Printing on Manufacturer-Reta...</td>\n",
       "    </tr>\n",
       "    <tr>\n",
       "      <th>4</th>\n",
       "      <td>Influences of supply chain finance on the mass...</td>\n",
       "    </tr>\n",
       "    <tr>\n",
       "      <th>5</th>\n",
       "      <td>Review of probabilistic load flow approaches f...</td>\n",
       "    </tr>\n",
       "    <tr>\n",
       "      <th>6</th>\n",
       "      <td>Economic analysis of the disassembling activit...</td>\n",
       "    </tr>\n",
       "    <tr>\n",
       "      <th>7</th>\n",
       "      <td>Third-party remanufacturing mode selection for...</td>\n",
       "    </tr>\n",
       "    <tr>\n",
       "      <th>8</th>\n",
       "      <td>Comparison of Different Electric Vehicle Integ...</td>\n",
       "    </tr>\n",
       "    <tr>\n",
       "      <th>9</th>\n",
       "      <td>A new fuzzy approach based on BWM and fuzzy pr...</td>\n",
       "    </tr>\n",
       "  </tbody>\n",
       "</table>\n",
       "</div>"
      ],
      "text/plain": [
       "                                               title\n",
       "0          The Importance of Truth Telling and Trust\n",
       "1  How municipalities support energy cooperatives...\n",
       "2  Real-world study for the optimal charging of e...\n",
       "3  The Impact of 3D Printing on Manufacturer-Reta...\n",
       "4  Influences of supply chain finance on the mass...\n",
       "5  Review of probabilistic load flow approaches f...\n",
       "6  Economic analysis of the disassembling activit...\n",
       "7  Third-party remanufacturing mode selection for...\n",
       "8  Comparison of Different Electric Vehicle Integ...\n",
       "9  A new fuzzy approach based on BWM and fuzzy pr..."
      ]
     },
     "execution_count": 2,
     "metadata": {},
     "output_type": "execute_result"
    }
   ],
   "source": [
    "data = pd.read_csv(\"pubs_titles_to_match.csv\")\n",
    "data.head(10)"
   ]
  },
  {
   "cell_type": "markdown",
   "metadata": {
    "Collapsed": "false"
   },
   "source": [
    "## Query to match publications in Dimensions"
   ]
  },
  {
   "cell_type": "markdown",
   "metadata": {
    "Collapsed": "false"
   },
   "source": [
    "PS new version of dimcli has better string escape"
   ]
  },
  {
   "cell_type": "code",
   "execution_count": 50,
   "metadata": {
    "Collapsed": "false"
   },
   "outputs": [],
   "source": [
    "def dsl_escape(stringa, all=False):   \n",
    "    \"\"\"\n",
    "    Helper for escaping the full-text inner query string, when it includes quotes. Usage:\n",
    "\n",
    "    `search publications for \"{dsl_escape(complex_q)}\" return publications`\n",
    "\n",
    "    EG imagine the query string:\n",
    "    '\"2019-nCoV\" OR \"COVID-19\" OR \"SARS-CoV-2\" OR ((\"coronavirus\"  OR \"corona virus\") AND (Wuhan OR China))'\n",
    "    \n",
    "    In Python, if you want to embed it into a DSL query, it has to become:\n",
    "    '\\\\\"2019-nCoV\\\\\" OR \\\\\"COVID-19\\\\\" OR \\\\\"SARS-CoV-2\\\\\" OR ((\\\\\"coronavirus\\\\\"  OR \\\\\"corona virus\\\\\") AND (Wuhan OR China))'\n",
    "\n",
    "    See also: https://docs.dimensions.ai/dsl/language.html#for-search-term\n",
    "    CHARS = '^ \" : ~ \\ [ ] { } ( ) ! | & +'\n",
    "    \"\"\"\n",
    "    \n",
    "    if all:\n",
    "        escaped = stringa.translate(str.maketrans({\"^\":  r\"\\^\",\n",
    "                                                    '\"':  r'\\\"',\n",
    "                                                    \"\\\\\": r\"\\\\\",\n",
    "                                                    \":\":  r\"\\:\",\n",
    "                                                    \"~\":  r\"\\~\",\n",
    "                                                    \"[\":  r\"\\[\",\n",
    "                                                    \"]\":  r\"\\]\",\n",
    "                                                    \"{\":  r\"\\{\",\n",
    "                                                    \"}\":  r\"\\}\",\n",
    "                                                    \"(\":  r\"\\(\",\n",
    "                                                    \")\":  r\"\\)\",\n",
    "                                                    \"!\":  r\"\\!\",\n",
    "                                                    \"|\":  r\"\\|\",\n",
    "                                                    \"&\":  r\"\\&\",\n",
    "                                                    \"+\":  r\"\\+\",\n",
    "                                                    }))\n",
    "    else:\n",
    "        escaped = stringa.translate(str.maketrans({'\"':  r'\\\"'}))        \n",
    "    return escaped\n"
   ]
  },
  {
   "cell_type": "code",
   "execution_count": 57,
   "metadata": {
    "Collapsed": "false"
   },
   "outputs": [
    {
     "data": {
      "text/plain": [
       "'Solar cells\\\\: a new technology?'"
      ]
     },
     "execution_count": 57,
     "metadata": {},
     "output_type": "execute_result"
    }
   ],
   "source": [
    "dsl_escape('Solar cells: a new technology?', True)"
   ]
  },
  {
   "cell_type": "code",
   "execution_count": 52,
   "metadata": {
    "Collapsed": "false"
   },
   "outputs": [
    {
     "data": {
      "text/plain": [
       "'\\nsearch publications in title_abstract_only for \"\\\\\"2019-nCoV\\\\\" OR \\\\\"COVID-19\\\\\" OR \\\\\"SARS-CoV-2\\\\\" OR ((\\\\\"coronavirus\\\\\"  OR \\\\\"corona virus\\\\\") AND (Wuhan OR China))\" return publications[id+doi+title+year+journal] limit 1\\n'"
      ]
     },
     "execution_count": 52,
     "metadata": {},
     "output_type": "execute_result"
    }
   ],
   "source": [
    "q = '\"2019-nCoV\" OR \"COVID-19\" OR \"SARS-CoV-2\" OR ((\"coronavirus\"  OR \"corona virus\") AND (Wuhan OR China))'\n",
    "q_template.format(dsl_escape(q))"
   ]
  },
  {
   "cell_type": "code",
   "execution_count": 53,
   "metadata": {
    "Collapsed": "false"
   },
   "outputs": [
    {
     "data": {
      "text/plain": [
       "'\\nsearch publications in title_abstract_only for \"\\\\\"2019-nCoV\\\\\" OR \\\\\"COVID-19\\\\\" OR \\\\\"SARS-CoV-2\\\\\" OR ((\\\\\"coronavirus\\\\\"  OR \\\\\"corona virus\\\\\") AND (Wuhan OR China))\" return publications[id+doi+title+year+journal] limit 1\\n'"
      ]
     },
     "execution_count": 53,
     "metadata": {},
     "output_type": "execute_result"
    }
   ],
   "source": [
    "q_template.format(dsl_escape(q))"
   ]
  },
  {
   "cell_type": "code",
   "execution_count": 54,
   "metadata": {
    "Collapsed": "false"
   },
   "outputs": [
    {
     "name": "stdout",
     "output_type": "stream",
     "text": [
      "Returned Publications: 1 (total = 17496)\n"
     ]
    },
    {
     "data": {
      "application/json": {
       "_stats": {
        "limit": 1,
        "offset": 0,
        "total_count": 17496
       },
       "publications": [
        {
         "doi": "10.1080/20964129.2020.1741325",
         "id": "pub.1125546310",
         "journal": {
          "id": "jour.1149989",
          "title": "Ecosystem Health and Sustainability"
         },
         "title": "Regulating wildlife conservation and food safety to prevent human exposure to novel virus",
         "year": 2020
        }
       ]
      },
      "text/plain": [
       "<dimcli.Dataset object #4577230224. Records: 1/17496>"
      ]
     },
     "execution_count": 54,
     "metadata": {
      "application/json": {
       "expanded": false,
       "root": "root"
      }
     },
     "output_type": "execute_result"
    }
   ],
   "source": [
    "dsl.query(q_template.format(dsl_escape(q)))"
   ]
  },
  {
   "cell_type": "code",
   "execution_count": null,
   "metadata": {
    "Collapsed": "false"
   },
   "outputs": [],
   "source": []
  },
  {
   "cell_type": "code",
   "execution_count": 55,
   "metadata": {
    "Collapsed": "false"
   },
   "outputs": [
    {
     "name": "stdout",
     "output_type": "stream",
     "text": [
      "===\n",
      " \n",
      "search publications in title_abstract_only for \"The Importance of Truth Telling and Trust\" return publications[id+doi+title+year+journal] limit 1\n",
      "\n",
      "Returned Publications: 1 (total = 12)\n",
      "===\n",
      " \n",
      "search publications in title_abstract_only for \"How municipalities support energy cooperatives\\: survey results from Germany and Switzerland\" return publications[id+doi+title+year+journal] limit 1\n",
      "\n",
      "Returned Publications: 1 (total = 1)\n",
      "===\n",
      " \n",
      "search publications in title_abstract_only for \"Real-world study for the optimal charging of electric vehicles\" return publications[id+doi+title+year+journal] limit 1\n",
      "\n",
      "Returned Publications: 1 (total = 31)\n",
      "===\n",
      " \n",
      "search publications in title_abstract_only for \"The Impact of 3D Printing on Manufacturer-Retailer Supply Chains\" return publications[id+doi+title+year+journal] limit 1\n",
      "\n",
      "Returned Publications: 1 (total = 1)\n",
      "===\n",
      " \n",
      "search publications in title_abstract_only for \"Influences of supply chain finance on the mass customization program\\: risk attitudes and cash flow shortage\" return publications[id+doi+title+year+journal] limit 1\n",
      "\n",
      "Returned Publications: 1 (total = 1)\n",
      "===\n",
      " \n",
      "search publications in title_abstract_only for \"Review of probabilistic load flow approaches for power distribution systems with photovoltaic generation and electric vehicle charging\" return publications[id+doi+title+year+journal] limit 1\n",
      "\n",
      "Returned Publications: 1 (total = 1)\n",
      "===\n",
      " \n",
      "search publications in title_abstract_only for \"Economic analysis of the disassembling activities to the reuse of electric vehicles Li-ion batteries\" return publications[id+doi+title+year+journal] limit 1\n",
      "\n",
      "Returned Publications: 1 (total = 1)\n",
      "===\n",
      " \n",
      "search publications in title_abstract_only for \"Third-party remanufacturing mode selection for competitive closed-loop supply chain based on evolutionary game theory\" return publications[id+doi+title+year+journal] limit 1\n",
      "\n",
      "Returned Publications: 1 (total = 1)\n",
      "===\n",
      " \n",
      "search publications in title_abstract_only for \"Comparison of Different Electric Vehicle Integration Approaches in Presence of Photovoltaic and Superconducting Magnetic Energy Storage Systems\" return publications[id+doi+title+year+journal] limit 1\n",
      "\n",
      "Returned Publications: 1 (total = 1)\n",
      "===\n",
      " \n",
      "search publications in title_abstract_only for \"A new fuzzy approach based on BWM and fuzzy preference programming for hospital performance evaluation\\: A case study\" return publications[id+doi+title+year+journal] limit 1\n",
      "\n",
      "Returned Publications: 1 (total = 1)\n"
     ]
    }
   ],
   "source": [
    "q_template = \"\"\"\n",
    "search publications in title_abstract_only for \"{}\" return publications[id+doi+title+year+journal] limit 1\n",
    "\"\"\"\n",
    "\n",
    "# TODO escape ^ \" : ~ \\ [ ] { } ( ) ! | & +\n",
    "\n",
    "out = pd.DataFrame\n",
    "for x in data.title.to_list()[:10]:\n",
    "    q = q_template.format(dsl_escape(x, True))\n",
    "    print(\"===\\n\", q)\n",
    "    res = dsl.query(q)\n",
    "    if res.count_batch:\n",
    "        if out.empty:\n",
    "            out = res.as_dataframe()\n",
    "        else:\n",
    "            out.append(res.as_dataframe())\n",
    "\n"
   ]
  },
  {
   "cell_type": "markdown",
   "metadata": {
    "Collapsed": "false"
   },
   "source": [
    "# TODO\n",
    "\n",
    "* fix escaped chars\n",
    "* in results include the source string too\n",
    "* for each result include how many items were found in total eg 1 or 30"
   ]
  },
  {
   "cell_type": "code",
   "execution_count": null,
   "metadata": {
    "Collapsed": "false"
   },
   "outputs": [],
   "source": []
  }
 ],
 "metadata": {
  "colab": {
   "collapsed_sections": [
    "fJuPwNoORmdN"
   ],
   "name": "1. Gathering data for a journal.ipynb",
   "provenance": []
  },
  "kernelspec": {
   "display_name": "Python 3 (ipykernel)",
   "language": "python",
   "name": "python3"
  },
  "language_info": {
   "codemirror_mode": {
    "name": "ipython",
    "version": 3
   },
   "file_extension": ".py",
   "mimetype": "text/x-python",
   "name": "python",
   "nbconvert_exporter": "python",
   "pygments_lexer": "ipython3",
   "version": "3.9.9"
  }
 },
 "nbformat": 4,
 "nbformat_minor": 4
}
