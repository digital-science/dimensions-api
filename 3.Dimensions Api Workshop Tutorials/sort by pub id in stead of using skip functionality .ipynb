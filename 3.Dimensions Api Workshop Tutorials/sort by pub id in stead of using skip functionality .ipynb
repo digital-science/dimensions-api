{
 "cells": [
  {
   "cell_type": "markdown",
   "metadata": {},
   "source": [
    "# Sorting by id, and using id < instead of skip to return more than 50,000 records\n",
    "\n",
    "Sometimes, when using the Dimensions API, you need to download more than 50,000 records (the limit for skip). Although slightly less convenient, if you sort results by publication id, you can use this an alternative."
   ]
  },
  {
   "cell_type": "code",
   "execution_count": null,
   "metadata": {},
   "outputs": [],
   "source": [
    "from dslquery import dslquery"
   ]
  },
  {
   "cell_type": "code",
   "execution_count": null,
   "metadata": {},
   "outputs": [],
   "source": [
    "def publications(limit=1000,pubskip=\"q\"):\n",
    "    searchstring = \"\"\"\n",
    "    search publications \n",
    "    where\n",
    "        research_orgs.id = \"grid.214458.e\"\n",
    "        and id < \"{}\"\n",
    "    return publications[id+year+times_cited] sort by id limit {} \n",
    "    \"\"\".format(pubskip,limit)\n",
    "    return searchstring"
   ]
  },
  {
   "cell_type": "code",
   "execution_count": null,
   "metadata": {},
   "outputs": [],
   "source": [
    "def dslsearchpublications(pubskip='q'):    \n",
    "    pubs = []\n",
    "    resultpubs = []\n",
    "    firstpubskip = pubskip\n",
    "    while (pubskip == firstpubskip) or (len(pubs) == 1000):\n",
    "        pubs = dslquery(publications(pubskip=pubskip),0).get('publications',[])\n",
    "        pubskip = pubs[len(pubs)-1]['id']\n",
    "        resultpubs += pubs                                       \n",
    "    return resultpubs"
   ]
  },
  {
   "cell_type": "code",
   "execution_count": null,
   "metadata": {},
   "outputs": [],
   "source": [
    "all_pubs = dslsearchpublications()"
   ]
  },
  {
   "cell_type": "code",
   "execution_count": null,
   "metadata": {},
   "outputs": [],
   "source": [
    "all_pubs"
   ]
  },
  {
   "cell_type": "code",
   "execution_count": null,
   "metadata": {},
   "outputs": [],
   "source": []
  }
 ],
 "metadata": {
  "kernelspec": {
   "display_name": "Python 3",
   "language": "python",
   "name": "python3"
  },
  "language_info": {
   "codemirror_mode": {
    "name": "ipython",
    "version": 3
   },
   "file_extension": ".py",
   "mimetype": "text/x-python",
   "name": "python",
   "nbconvert_exporter": "python",
   "pygments_lexer": "ipython3",
   "version": "3.6.5"
  }
 },
 "nbformat": 4,
 "nbformat_minor": 2
}
