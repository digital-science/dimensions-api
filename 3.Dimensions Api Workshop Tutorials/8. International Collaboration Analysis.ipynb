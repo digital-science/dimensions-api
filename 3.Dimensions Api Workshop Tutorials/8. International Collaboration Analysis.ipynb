{
 "cells": [
  {
   "cell_type": "markdown",
   "metadata": {},
   "source": [
    "# International Collaboration Analysis"
   ]
  },
  {
   "cell_type": "code",
   "execution_count": null,
   "metadata": {},
   "outputs": [],
   "source": [
    "from dimcli.shortcuts import dslquery_json as dslquery\n",
    "import pandas as pd"
   ]
  },
  {
   "cell_type": "markdown",
   "metadata": {},
   "source": [
    "## Identify Single institution papers"
   ]
  },
  {
   "cell_type": "code",
   "execution_count": null,
   "metadata": {},
   "outputs": [],
   "source": [
    "sole_institution = pd.DataFrame(\n",
    "    dslquery(\"\"\"\n",
    "        search publications \n",
    "            where count(research_orgs) = 1\n",
    "            and type=\"article\"\n",
    "            and year = [2007:2017]\n",
    "        return research_orgs limit 200\n",
    "        \"\"\")['research_orgs']\n",
    ")\n",
    "sole_institution.head()"
   ]
  },
  {
   "cell_type": "markdown",
   "metadata": {},
   "source": [
    "## Identify papers with domestic collaboration"
   ]
  },
  {
   "cell_type": "code",
   "execution_count": null,
   "metadata": {},
   "outputs": [],
   "source": [
    "domestic_instituion = pd.DataFrame(\n",
    "    dslquery(\"\"\"\n",
    "        search publications \n",
    "            where count(research_org_countries) = 1\n",
    "            and type=\"article\"\n",
    "            and year = [2007:2017]\n",
    "        return research_orgs limit 200\n",
    "        \"\"\")['research_orgs']\n",
    ")\n",
    "domestic_instituion.head()"
   ]
  },
  {
   "cell_type": "markdown",
   "metadata": {},
   "source": [
    "## Identify papers with international collaboration"
   ]
  },
  {
   "cell_type": "code",
   "execution_count": null,
   "metadata": {},
   "outputs": [],
   "source": [
    "international_instituion = pd.DataFrame(\n",
    "    dslquery(\"\"\"\n",
    "        search publications \n",
    "            where count(research_org_countries) > 1\n",
    "            and type=\"article\"\n",
    "            and year = [2007:2017]\n",
    "        return research_orgs limit 200\n",
    "        \"\"\")['research_orgs']\n",
    ")\n",
    "international_instituion.head()"
   ]
  },
  {
   "cell_type": "markdown",
   "metadata": {},
   "source": [
    "## Join the tables together"
   ]
  },
  {
   "cell_type": "code",
   "execution_count": null,
   "metadata": {},
   "outputs": [],
   "source": [
    "sole = sole_institution[['id','name','country_name','count']]\n",
    "sole.columns = ['id','name','country_name','internal publications']"
   ]
  },
  {
   "cell_type": "code",
   "execution_count": null,
   "metadata": {},
   "outputs": [],
   "source": [
    "dom = domestic_instituion[['id','count']]\n",
    "dom.columns = ['id','domestic_publications']\n",
    "international = international_instituion[['id','count']]\n",
    "international.columns = ['id','international_publications']\n"
   ]
  },
  {
   "cell_type": "code",
   "execution_count": null,
   "metadata": {},
   "outputs": [],
   "source": [
    "jdf = sole.set_index('id').join(dom.set_index('id')).join(international.set_index('id'))\n",
    "\n",
    "jdf['internal_international_ratio'] = jdf['internal publications'] / jdf['international_publications']\n",
    "jdf.head(100)"
   ]
  },
  {
   "cell_type": "markdown",
   "metadata": {},
   "source": [
    "## Add a little bit of analysis"
   ]
  },
  {
   "cell_type": "code",
   "execution_count": null,
   "metadata": {},
   "outputs": [],
   "source": [
    "def highlight_cols(s):\n",
    "    if s > 1 :\n",
    "        color = 'yellow'\n",
    "    elif s < 1:\n",
    "        color = 'grey'\n",
    "    else:\n",
    "        color = 'white'\n",
    "    return 'background-color: %s' % color\n",
    "\n",
    "jdf.style.applymap(highlight_cols, subset=['internal_international_ratio'])"
   ]
  }
 ],
 "metadata": {
  "kernelspec": {
   "display_name": "Python 3",
   "language": "python",
   "name": "python3"
  },
  "language_info": {
   "codemirror_mode": {
    "name": "ipython",
    "version": 3
   },
   "file_extension": ".py",
   "mimetype": "text/x-python",
   "name": "python",
   "nbconvert_exporter": "python",
   "pygments_lexer": "ipython3",
   "version": "3.7.3"
  }
 },
 "nbformat": 4,
 "nbformat_minor": 2
}
