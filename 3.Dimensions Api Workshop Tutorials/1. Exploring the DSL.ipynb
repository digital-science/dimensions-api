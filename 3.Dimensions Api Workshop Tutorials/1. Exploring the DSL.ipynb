{
 "cells": [
  {
   "cell_type": "markdown",
   "metadata": {
    "slideshow": {
     "slide_type": "slide"
    }
   },
   "source": [
    "# Exploring The Dimensions  API\n",
    "\n",
    "This Notebook takes you through the basics of using the Dimensions API with Jupyter Notebooks. \n",
    "\n",
    "> NOTE: This example has been recenlty updated so to work with the DimCli library\n"
   ]
  },
  {
   "cell_type": "code",
   "execution_count": null,
   "metadata": {
    "scrolled": false,
    "slideshow": {
     "slide_type": "skip"
    }
   },
   "outputs": [],
   "source": [
    "from dimcli.shortcuts import dslquery_json as dslquery"
   ]
  },
  {
   "cell_type": "markdown",
   "metadata": {
    "slideshow": {
     "slide_type": "slide"
    }
   },
   "source": [
    "## The Basics\n",
    "\n",
    "The dslquery function works in just the same way as the dimensions API inteface works in the application. \n",
    "* submit your query\n",
    "* get back json results"
   ]
  },
  {
   "cell_type": "code",
   "execution_count": null,
   "metadata": {
    "scrolled": true,
    "slideshow": {
     "slide_type": "slide"
    }
   },
   "outputs": [],
   "source": [
    "#A Basic Query  \n",
    "\n",
    "dslquery(\"\"\"\n",
    "     search publications\n",
    "       where id = \"pub.1104296509\"\n",
    "     return publications[all]\n",
    "     limit 1\n",
    "\"\"\")\n"
   ]
  },
  {
   "cell_type": "markdown",
   "metadata": {
    "slideshow": {
     "slide_type": "slide"
    }
   },
   "source": [
    "## The Basics- control the fields you return"
   ]
  },
  {
   "cell_type": "code",
   "execution_count": null,
   "metadata": {
    "scrolled": true,
    "slideshow": {
     "slide_type": "subslide"
    }
   },
   "outputs": [],
   "source": [
    "#A Basic Query - control the fields you return\n",
    "\n",
    "dslquery(\"\"\"\n",
    "     search publications\n",
    "     return publications[id+title+year]\n",
    "     limit 5\n",
    "\"\"\")"
   ]
  },
  {
   "cell_type": "markdown",
   "metadata": {
    "slideshow": {
     "slide_type": "slide"
    }
   },
   "source": [
    "## The Basics- make a mistake, and the DSL will tell you what fields that you could have used"
   ]
  },
  {
   "cell_type": "code",
   "execution_count": null,
   "metadata": {
    "scrolled": true,
    "slideshow": {
     "slide_type": "subslide"
    }
   },
   "outputs": [],
   "source": [
    "#Make a mistake, and the DSL will tell you what fields are available\n",
    "\n",
    "badquery = dslquery(\"\"\"\n",
    "     search publications \n",
    "     return publications[dois]\n",
    "     limit 100\n",
    "\"\"\")\n",
    "\n",
    "print(badquery['errors']['query']['details'][0])\n"
   ]
  },
  {
   "cell_type": "code",
   "execution_count": null,
   "metadata": {
    "scrolled": true,
    "slideshow": {
     "slide_type": "slide"
    }
   },
   "outputs": [],
   "source": [
    "#A Basic Query - get all fields\n",
    "\n",
    "dslquery(\"\"\"\n",
    "     search publications \n",
    "     return publications[all]\n",
    "     limit 1\n",
    "\"\"\")"
   ]
  },
  {
   "cell_type": "markdown",
   "metadata": {
    "slideshow": {
     "slide_type": "slide"
    }
   },
   "source": [
    "## The Basics: you can search for full text in the full text or in abstracts"
   ]
  },
  {
   "cell_type": "code",
   "execution_count": null,
   "metadata": {
    "scrolled": true,
    "slideshow": {
     "slide_type": "subslide"
    }
   },
   "outputs": [],
   "source": [
    "dslquery(\"\"\"\n",
    "     search publications for \"nanotechnology\"\n",
    "       \n",
    "     return publications\n",
    "     limit 1\n",
    "\"\"\")"
   ]
  },
  {
   "cell_type": "code",
   "execution_count": null,
   "metadata": {
    "scrolled": true,
    "slideshow": {
     "slide_type": "subslide"
    }
   },
   "outputs": [],
   "source": [
    "dslquery(\"\"\"\n",
    "     search publications in title_abstract_only for \"nanotechnology\" \n",
    "     return publications\n",
    "     limit 1\n",
    "\"\"\")"
   ]
  },
  {
   "cell_type": "markdown",
   "metadata": {
    "slideshow": {
     "slide_type": "slide"
    }
   },
   "source": [
    "## The Basics - a simple author search\n"
   ]
  },
  {
   "cell_type": "code",
   "execution_count": null,
   "metadata": {
    "scrolled": true,
    "slideshow": {
     "slide_type": "subslide"
    }
   },
   "outputs": [],
   "source": [
    "\n",
    "dslquery(\"\"\"\n",
    "     search publications in authors for \"\\\\\"Daniel Hook\\\\\"\"\n",
    "     return publications\n",
    "     limit 10\n",
    "\"\"\")"
   ]
  },
  {
   "cell_type": "markdown",
   "metadata": {
    "slideshow": {
     "slide_type": "slide"
    }
   },
   "source": [
    "## ..or search for a researcher by a specific id"
   ]
  },
  {
   "cell_type": "code",
   "execution_count": null,
   "metadata": {
    "scrolled": true,
    "slideshow": {
     "slide_type": "subslide"
    }
   },
   "outputs": [],
   "source": [
    "#A Basic Query - or request just thoses that you want...\n",
    "\n",
    "dslquery(\"\"\"\n",
    "     search publications \n",
    "     where researchers.id = \"ur.013514345521.07\"\n",
    "       \n",
    "     return publications[doi+researchers]\n",
    "     limit 1\n",
    "\"\"\")"
   ]
  },
  {
   "cell_type": "markdown",
   "metadata": {
    "slideshow": {
     "slide_type": "slide"
    }
   },
   "source": [
    "## You can also query by facets"
   ]
  },
  {
   "cell_type": "code",
   "execution_count": null,
   "metadata": {
    "scrolled": true,
    "slideshow": {
     "slide_type": "subslide"
    }
   },
   "outputs": [],
   "source": [
    "dslquery(\"\"\"\n",
    "     search publications \n",
    "     return FOR_first \n",
    "\"\"\")"
   ]
  },
  {
   "cell_type": "markdown",
   "metadata": {
    "slideshow": {
     "slide_type": "slide"
    }
   },
   "source": [
    "## You can return up to 1000 facet rows"
   ]
  },
  {
   "cell_type": "code",
   "execution_count": null,
   "metadata": {
    "scrolled": true,
    "slideshow": {
     "slide_type": "subslide"
    }
   },
   "outputs": [],
   "source": [
    "\n",
    "dslquery(\"\"\"\n",
    "     search publications for \"nanotechnology\"\n",
    "     return year limit 1000\n",
    "\"\"\")"
   ]
  },
  {
   "cell_type": "markdown",
   "metadata": {
    "slideshow": {
     "slide_type": "slide"
    }
   },
   "source": [
    "## Just make a mistake, and you will ge the complete list of available facets"
   ]
  },
  {
   "cell_type": "code",
   "execution_count": null,
   "metadata": {
    "scrolled": true,
    "slideshow": {
     "slide_type": "subslide"
    }
   },
   "outputs": [],
   "source": [
    "dslquery(\"\"\"\n",
    "     search publications \n",
    "     return years \n",
    "\"\"\")"
   ]
  },
  {
   "cell_type": "code",
   "execution_count": null,
   "metadata": {
    "scrolled": true
   },
   "outputs": [],
   "source": [
    "import pandas as pd\n",
    "pd.DataFrame(dslquery(\"\"\"\n",
    "     search publications for \"nanotechnology\"\n",
    "     return publications[title+altmetric] \n",
    "     limit 10\n",
    "\"\"\")['publications'])"
   ]
  },
  {
   "cell_type": "code",
   "execution_count": null,
   "metadata": {},
   "outputs": [],
   "source": []
  }
 ],
 "metadata": {
  "kernelspec": {
   "display_name": "dimcli_env",
   "language": "python",
   "name": "dimcli_env"
  },
  "language_info": {
   "codemirror_mode": {
    "name": "ipython",
    "version": 3
   },
   "file_extension": ".py",
   "mimetype": "text/x-python",
   "name": "python",
   "nbconvert_exporter": "python",
   "pygments_lexer": "ipython3",
   "version": "3.7.3"
  }
 },
 "nbformat": 4,
 "nbformat_minor": 2
}
