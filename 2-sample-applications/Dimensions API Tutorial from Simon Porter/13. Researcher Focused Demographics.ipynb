{
  "cells": [
    {
      "cell_type": "markdown",
      "source": [
        "# Getting Researcher Focused Demographics from the Dimensions API\n",
        "\n",
        "\n",
        "By Using the API and processing the author_affiliations, it is possible to derive quite a number of researcher demographics"
      ],
      "metadata": {}
    },
    {
      "cell_type": "code",
      "source": [
        "import pandas as pd\n",
        "from dimcli.shortcuts import dslquery_json as dslquery"
      ],
      "outputs": [],
      "execution_count": null,
      "metadata": {}
    },
    {
      "cell_type": "markdown",
      "source": [
        "## 1 Start with a publication selection"
      ],
      "metadata": {}
    },
    {
      "cell_type": "code",
      "source": [
        "def searchPubs(limit=1000, skip=0):\n",
        "    data = \"\"\"search publications \n",
        "          where year in [2017:2018]\n",
        "          and journal.id = \"jour.1048844\"\n",
        "          and type=\"article\"\n",
        "          return publications[id+author_affiliations]\n",
        "          limit {} skip {}\n",
        "    \"\"\".format(limit,skip)\n",
        "    return data"
      ],
      "outputs": [],
      "execution_count": null,
      "metadata": {}
    },
    {
      "cell_type": "code",
      "source": [
        "def dslsearchpublications():\n",
        "    skip = 0\n",
        "    pubs = []\n",
        "    total_pubs = []\n",
        "    result = {}\n",
        "    while (skip == 0) or (len(pubs) == 1000):\n",
        "        pubs = dslquery(searchPubs(skip=skip)).get('publications',[])\n",
        "        total_pubs += pubs\n",
        "        skip += 1000      \n",
        "                            \n",
        "    return total_pubs"
      ],
      "outputs": [],
      "execution_count": null,
      "metadata": {}
    },
    {
      "cell_type": "code",
      "source": [
        "pubs = dslsearchpublications()"
      ],
      "outputs": [],
      "execution_count": null,
      "metadata": {}
    },
    {
      "cell_type": "markdown",
      "source": [
        "## 2 Extract researcher ids from the publications"
      ],
      "metadata": {}
    },
    {
      "cell_type": "code",
      "source": [
        "researchers = [ auth.get('researcher_id')\n",
        "                for p in pubs\n",
        "                for auth in p.get('author_affiliations',[{}])[0]\n",
        "                   if auth.get('researcher_id') is not None ]\n",
        "\n"
      ],
      "outputs": [],
      "execution_count": null,
      "metadata": {}
    },
    {
      "cell_type": "code",
      "source": [
        "len(set(researchers))"
      ],
      "outputs": [],
      "execution_count": null,
      "metadata": {}
    },
    {
      "cell_type": "markdown",
      "source": [
        "## 3 Get the publication histories for each of the researchers retrieved\n",
        "\n",
        "Have a cup of tea whilst it completes..."
      ],
      "metadata": {}
    },
    {
      "cell_type": "code",
      "source": [
        "def publicationsfromresearchers(researcherids,limit=1000,skip=0):\n",
        "    searchstring = \"\"\"\n",
        "    search publications\n",
        "       where\n",
        "        researchers.id in [{}]\n",
        "    return publications[id+year+author_affiliations] limit {} skip {}\n",
        "    \"\"\".format(\",\".join([ '\"{}\"'.format(r) for r in researcherids]),limit,skip)\n",
        "    print (searchstring)\n",
        "    return searchstring"
      ],
      "outputs": [],
      "execution_count": null,
      "metadata": {}
    },
    {
      "cell_type": "code",
      "source": [
        "def dslsearchpublicationsR(ids):\n",
        "    skip = 0\n",
        "    pubs = []\n",
        "    total_pubs = []\n",
        "    result = {}\n",
        "    while (skip == 0) or (len(pubs) == 1000):\n",
        "        pubs = dslquery(publicationsfromresearchers(ids,skip=skip)).get('publications',[])\n",
        "        total_pubs += pubs\n",
        "        skip += 1000      \n",
        "                            \n",
        "    return total_pubs"
      ],
      "outputs": [],
      "execution_count": null,
      "metadata": {}
    },
    {
      "cell_type": "code",
      "source": [
        "def publicationsfromresearcherlist(researcherids):\n",
        "    pubs=[]\n",
        "    \n",
        "    idchunks = [researcherids[x:x + 500] for x in range(0, len(researcherids), 500)]\n",
        "    for ids in idchunks:\n",
        "        results = dslsearchpublicationsR(ids)\n",
        "        pubs += results\n",
        "        print(len(pubs))\n",
        "        \n",
        "    return pubs"
      ],
      "outputs": [],
      "execution_count": null,
      "metadata": {}
    },
    {
      "cell_type": "code",
      "source": [
        "respubs = publicationsfromresearcherlist(list(set(researchers)))"
      ],
      "outputs": [],
      "execution_count": null,
      "metadata": {}
    },
    {
      "cell_type": "markdown",
      "source": [
        "## 4 Extract researcher activity from the output"
      ],
      "metadata": {}
    },
    {
      "cell_type": "code",
      "source": [
        "full_researchers = [ dict( researcher_id = auth.get('researcher_id'),\n",
        "                      first_name = auth.get('first_name'),\n",
        "                      last_name = auth.get('last_name'),    \n",
        "                      year = p.get('year')\n",
        "                    )\n",
        "                for p in respubs\n",
        "                for auth in p.get('author_affiliations',[{}])[0]\n",
        "                   if auth.get('researcher_id') in list(set(researchers)) ]"
      ],
      "outputs": [],
      "execution_count": null,
      "metadata": {}
    },
    {
      "cell_type": "code",
      "source": [
        "full_researchers[40]"
      ],
      "outputs": [],
      "execution_count": null,
      "metadata": {}
    },
    {
      "cell_type": "code",
      "source": [
        "fridf = pd.DataFrame(full_researchers).drop_duplicates()\n",
        "fridf.head()"
      ],
      "outputs": [],
      "execution_count": null,
      "metadata": {}
    },
    {
      "cell_type": "markdown",
      "source": [
        "## 5 Derive demographic details for the authors\n",
        "\n",
        "* Based on first name, guess the gender of the author\n",
        "* Based on the number of years, they have published, calculate a publication age (excluding years they have not published in)"
      ],
      "metadata": {}
    },
    {
      "cell_type": "code",
      "source": [
        "import numpy as np\n",
        "import gender_guesser.detector as gender_guesser"
      ],
      "outputs": [],
      "execution_count": null,
      "metadata": {}
    },
    {
      "cell_type": "code",
      "source": [
        "d = gender_guesser.Detector(case_sensitive=False)"
      ],
      "outputs": [],
      "execution_count": null,
      "metadata": {}
    },
    {
      "cell_type": "code",
      "source": [
        "# define an aggregate function for the gender guesser"
      ],
      "outputs": [],
      "execution_count": null,
      "metadata": {}
    },
    {
      "cell_type": "code",
      "source": [
        "def getgender(series):\n",
        "    fnl = list(set([d.get_gender(name.split(' ')[0])\n",
        "             for name in series.tolist()]))\n",
        "    gender = [g for g in fnl if g != 'unknown']\n",
        "    if len(gender) == 1:\n",
        "        return gender[0]\n",
        "    else:\n",
        "        return 'unknown'\n",
        "    return "
      ],
      "outputs": [],
      "execution_count": null,
      "metadata": {}
    },
    {
      "cell_type": "code",
      "source": [
        "frdf = fridf.groupby('researcher_id'). \\\n",
        "     agg({'first_name': ['max',getgender],\n",
        "          'year': ['min','max',pd.Series.nunique]\n",
        "         }).reset_index()"
      ],
      "outputs": [],
      "execution_count": null,
      "metadata": {}
    },
    {
      "cell_type": "code",
      "source": [
        "frdf.columns = ['researcher_id', 'first_name', 'gender', 'min_year', 'max_year', 'publication_age']\n",
        "frdf = frdf.set_index('researcher_id')"
      ],
      "outputs": [],
      "execution_count": null,
      "metadata": {}
    },
    {
      "cell_type": "code",
      "source": [
        "frdf.head()"
      ],
      "outputs": [],
      "execution_count": null,
      "metadata": {}
    },
    {
      "cell_type": "markdown",
      "source": [
        "## 6 Produce a gender profile for the resaerchers identified"
      ],
      "metadata": {}
    },
    {
      "cell_type": "code",
      "source": [
        "frdf[['gender','first_name']].groupby(['gender']).count()"
      ],
      "outputs": [],
      "execution_count": null,
      "metadata": {}
    },
    {
      "cell_type": "markdown",
      "source": [
        "## 7 Create a Histogram of researchers by publication age"
      ],
      "metadata": {}
    },
    {
      "cell_type": "code",
      "source": [
        "frdf[['publication_age']].hist(bins=5)"
      ],
      "outputs": [],
      "execution_count": null,
      "metadata": {}
    },
    {
      "cell_type": "markdown",
      "source": [
        "## ..By publication age and gender"
      ],
      "metadata": {}
    },
    {
      "cell_type": "code",
      "source": [
        "frdf.loc[frdf['gender'] == 'male'][['publication_age']].hist(bins=5)"
      ],
      "outputs": [],
      "execution_count": null,
      "metadata": {}
    },
    {
      "cell_type": "code",
      "source": [
        "frdf.loc[frdf['gender'] == 'female'][['publication_age']].hist(bins=5)"
      ],
      "outputs": [],
      "execution_count": null,
      "metadata": {}
    },
    {
      "cell_type": "code",
      "source": [
        "frdf.loc[frdf['gender'] == 'andy'][['publication_age']].hist(bins=5)"
      ],
      "outputs": [],
      "execution_count": null,
      "metadata": {}
    },
    {
      "cell_type": "markdown",
      "source": [
        "## 8 Combine Resaercher Demographic details with Publication properties\n",
        "\n",
        "* Get the number of authors per paper"
      ],
      "metadata": {}
    },
    {
      "cell_type": "code",
      "source": [
        "publications = [ dict(\n",
        "                      pub_id = i,\n",
        "                      author_position = j,\n",
        "                      researcher_id = auth.get('researcher_id')\n",
        "                    )\n",
        "                for i,p in enumerate(pubs)\n",
        "                for j, auth in enumerate(p.get('author_affiliations',[{}])[0])\n",
        "                    if auth.get('researcher_id') is not None\n",
        "                   ]"
      ],
      "outputs": [],
      "execution_count": null,
      "metadata": {}
    },
    {
      "cell_type": "code",
      "source": [
        "pub_df = pd.DataFrame(publications)"
      ],
      "outputs": [],
      "execution_count": null,
      "metadata": {}
    },
    {
      "cell_type": "code",
      "source": [
        "pub_df.head()"
      ],
      "outputs": [],
      "execution_count": null,
      "metadata": {}
    },
    {
      "cell_type": "markdown",
      "source": [
        "## Authors per paper"
      ],
      "metadata": {}
    },
    {
      "cell_type": "code",
      "source": [
        "pub_df_grouped = pub_df.groupby('pub_id').count()\n",
        "pub_df_grouped.columns = ['count authors', 'count_researchers']\n",
        "pub_df_grouped.head()"
      ],
      "outputs": [],
      "execution_count": null,
      "metadata": {}
    },
    {
      "cell_type": "code",
      "source": [
        "pub_df_grouped[['count authors']].hist(bins=11)"
      ],
      "outputs": [],
      "execution_count": null,
      "metadata": {}
    },
    {
      "cell_type": "markdown",
      "source": [
        "## Senior publication age per paper"
      ],
      "metadata": {}
    },
    {
      "cell_type": "code",
      "source": [
        "pub_df = pub_df.set_index('researcher_id')"
      ],
      "outputs": [],
      "execution_count": null,
      "metadata": {}
    },
    {
      "cell_type": "code",
      "source": [
        "pub_df.head()"
      ],
      "outputs": [],
      "execution_count": null,
      "metadata": {}
    },
    {
      "cell_type": "code",
      "source": [
        "#pgdf = pdf.set_index('FORid').join(gdf[['number_of_grants','FORid']].set_index('FORid'))\n",
        "\n",
        "pubsjoined = pub_df.join(frdf)\n",
        "pubsjoined.head()"
      ],
      "outputs": [],
      "execution_count": null,
      "metadata": {}
    },
    {
      "cell_type": "code",
      "source": [
        "pubsjoined[['pub_id','publication_age']].groupby('pub_id').max().hist()"
      ],
      "outputs": [],
      "execution_count": null,
      "metadata": {}
    },
    {
      "cell_type": "code",
      "source": [
        "pmaxage = pubsjoined[['pub_id','publication_age']].groupby('pub_id').max()"
      ],
      "outputs": [],
      "execution_count": null,
      "metadata": {}
    },
    {
      "cell_type": "code",
      "source": [
        "pmerged = pd.merge(pubsjoined, pmaxage, on='pub_id', how='left')\n",
        "pmerged.head(5)"
      ],
      "outputs": [],
      "execution_count": null,
      "metadata": {}
    },
    {
      "cell_type": "markdown",
      "source": [
        "# Create a histogram of author position of the senior author (by publication age)"
      ],
      "metadata": {}
    },
    {
      "cell_type": "code",
      "source": [
        "pmfiltered = pmerged.loc[pmerged['publication_age_x'] == pmerged['publication_age_y']]"
      ],
      "outputs": [],
      "execution_count": null,
      "metadata": {}
    },
    {
      "cell_type": "code",
      "source": [
        "pmfiltered[['author_position']].hist(bins=100)"
      ],
      "outputs": [],
      "execution_count": null,
      "metadata": {}
    },
    {
      "cell_type": "markdown",
      "source": [
        "# Get the gender of the senior author (by publication age) on the paper"
      ],
      "metadata": {}
    },
    {
      "cell_type": "code",
      "source": [
        "pmfiltered[['gender','pub_id']].groupby('gender').count()"
      ],
      "outputs": [],
      "execution_count": null,
      "metadata": {}
    },
    {
      "cell_type": "markdown",
      "source": [
        "---\n",
        "# Want to learn more?\n",
        "\n",
        "Check out the [Dimensions API Lab](https://digital-science.github.io/dimensions-api-lab/) website, which contains many tutorials and reusable Jupyter notebooks for scholarly data analytics. "
      ],
      "metadata": {}
    }
  ],
  "metadata": {
    "kernelspec": {
      "name": "python3",
      "language": "python",
      "display_name": "Python 3"
    },
    "language_info": {
      "name": "python",
      "version": "3.7.4",
      "mimetype": "text/x-python",
      "codemirror_mode": {
        "name": "ipython",
        "version": 3
      },
      "pygments_lexer": "ipython3",
      "nbconvert_exporter": "python",
      "file_extension": ".py"
    },
    "kernel_info": {
      "name": "python3"
    },
    "nteract": {
      "version": "0.14.5"
    }
  },
  "nbformat": 4,
  "nbformat_minor": 2
}