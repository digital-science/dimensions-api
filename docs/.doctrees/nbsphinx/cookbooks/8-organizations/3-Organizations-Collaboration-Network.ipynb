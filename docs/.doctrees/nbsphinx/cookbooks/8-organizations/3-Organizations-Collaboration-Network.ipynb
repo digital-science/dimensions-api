{
 "cells": [
  {
   "cell_type": "markdown",
   "metadata": {
    "Collapsed": "false"
   },
   "source": [
    "# Building an Organizations Collaboration Network Diagram\n",
    "\n",
    "This notebook shows how to analyse organizations collaboration data using the [Organizations data source](https://docs.dimensions.ai/dsl/datasource-organizations.html) available via the [Dimensions Analytics API](https://docs.dimensions.ai/dsl/). \n",
    "\n",
    "Starting from a **research organization**, we will extract information about other organizations that collaborated with it, based on shared publications data. \n",
    "\n",
    "In order to make the analysis more focused, we are going to select also a **topic** and a **time-frame**. By appying these extra constraints we will reduce the number of shared publications data and also make the overall extraction faster. \n",
    "\n",
    "At the end of the tutorial we will generate a 'collaborations network diagram'. The diagram nodes represent the organizations working together, while the edges represent the number of publications they have in common. An example of the resulting network diagram [can be seen here](http://api-sample-data.dimensions.ai/dataviz-exports/3-Organizations-Collaboration-Network/network_2_levels_grid.412125.1.html)."
   ]
  },
  {
   "cell_type": "code",
   "execution_count": 1,
   "metadata": {},
   "outputs": [
    {
     "name": "stdout",
     "output_type": "stream",
     "text": [
      "==\n",
      "CHANGELOG\n",
      "This notebook was last run on Aug 22, 2023\n",
      "==\n"
     ]
    }
   ],
   "source": [
    "import datetime\n",
    "print(\"==\\nCHANGELOG\\nThis notebook was last run on %s\\n==\" % datetime.date.today().strftime('%b %d, %Y'))"
   ]
  },
  {
   "cell_type": "markdown",
   "metadata": {
    "Collapsed": "false",
    "colab_type": "text",
    "id": "hWgUrUXmFbWt"
   },
   "source": [
    "## Prerequisites\n",
    "\n",
    "This notebook assumes you have installed the [Dimcli](https://pypi.org/project/dimcli/) library and are familiar with the ['Getting Started' tutorial](https://api-lab.dimensions.ai/cookbooks/1-getting-started/1-Using-the-Dimcli-library-to-query-the-API.html)."
   ]
  },
  {
   "cell_type": "code",
   "execution_count": 2,
   "metadata": {
    "Collapsed": "false"
   },
   "outputs": [
    {
     "name": "stdout",
     "output_type": "stream",
     "text": [
      "\n",
      "\u001b[1m[\u001b[0m\u001b[34;49mnotice\u001b[0m\u001b[1;39;49m]\u001b[0m\u001b[39;49m A new release of pip is available: \u001b[0m\u001b[31;49m23.1.2\u001b[0m\u001b[39;49m -> \u001b[0m\u001b[32;49m23.2.1\u001b[0m\n",
      "\u001b[1m[\u001b[0m\u001b[34;49mnotice\u001b[0m\u001b[1;39;49m]\u001b[0m\u001b[39;49m To update, run: \u001b[0m\u001b[32;49mpip install --upgrade pip\u001b[0m\n"
     ]
    },
    {
     "data": {
      "text/html": [
       "        <script type=\"text/javascript\">\n",
       "        window.PlotlyConfig = {MathJaxConfig: 'local'};\n",
       "        if (window.MathJax && window.MathJax.Hub && window.MathJax.Hub.Config) {window.MathJax.Hub.Config({SVG: {font: \"STIX-Web\"}});}\n",
       "        if (typeof require !== 'undefined') {\n",
       "        require.undef(\"plotly\");\n",
       "        requirejs.config({\n",
       "            paths: {\n",
       "                'plotly': ['https://cdn.plot.ly/plotly-2.25.2.min']\n",
       "            }\n",
       "        });\n",
       "        require(['plotly'], function(Plotly) {\n",
       "            window._Plotly = Plotly;\n",
       "        });\n",
       "        }\n",
       "        </script>\n",
       "        "
      ]
     },
     "metadata": {},
     "output_type": "display_data"
    },
    {
     "name": "stderr",
     "output_type": "stream",
     "text": [
      "\u001b[2mSearching config file credentials for 'https://app.dimensions.ai' endpoint..\u001b[0m\n"
     ]
    },
    {
     "name": "stdout",
     "output_type": "stream",
     "text": [
      "==\n",
      "Logging in..\n",
      "\u001b[2mDimcli - Dimensions API Client (v1.1)\u001b[0m\n",
      "\u001b[2mConnected to: <https://app.dimensions.ai/api/dsl> - DSL v2.7\u001b[0m\n",
      "\u001b[2mMethod: dsl.ini file\u001b[0m\n"
     ]
    }
   ],
   "source": [
    "!pip install dimcli plotly tqdm pyvis -U --quiet \n",
    "\n",
    "#\n",
    "# load libraries\n",
    "import dimcli\n",
    "from dimcli.utils import *\n",
    "\n",
    "import json, sys, time\n",
    "import pandas as pd\n",
    "from tqdm.notebook import tqdm as progress\n",
    "import plotly.express as px  # plotly>=4.8.1\n",
    "if not 'google.colab' in sys.modules:\n",
    "  # make js dependecies local / needed by html exports\n",
    "  from plotly.offline import init_notebook_mode\n",
    "  init_notebook_mode(connected=True)\n",
    "\n",
    "print(\"==\\nLogging in..\")\n",
    "# https://digital-science.github.io/dimcli/getting-started.html#authentication\n",
    "ENDPOINT = \"https://app.dimensions.ai\"\n",
    "if 'google.colab' in sys.modules:\n",
    "  import getpass\n",
    "  KEY = getpass.getpass(prompt='API Key: ')  \n",
    "  dimcli.login(key=KEY, endpoint=ENDPOINT)\n",
    "else:\n",
    "  KEY = \"\"\n",
    "  dimcli.login(key=KEY, endpoint=ENDPOINT)\n",
    "dsl = dimcli.Dsl()"
   ]
  },
  {
   "cell_type": "markdown",
   "metadata": {
    "Collapsed": "false",
    "colab_type": "text",
    "id": "duzLFSrfFiuS"
   },
   "source": [
    "## 1. Choose an Organization and a keyword (topic)"
   ]
  },
  {
   "cell_type": "markdown",
   "metadata": {
    "Collapsed": "false",
    "colab_type": "text",
    "id": "L6uIjSVnGRQV"
   },
   "source": [
    "For the purpose of this exercise, we will use [grid.412125.1](https://grid.ac/institutes/grid.412125.1) (King Abdulaziz University, Saudi Arabia). \n",
    "\n",
    "> You can try using a different GRID ID to see how results change, e.g. by [browsing for another GRID organization](https://grid.ac/institutes).\n"
   ]
  },
  {
   "cell_type": "code",
   "execution_count": 3,
   "metadata": {
    "Collapsed": "false"
   },
   "outputs": [
    {
     "data": {
      "text/html": [
       "GRID: <a href=\"https://app.dimensions.ai/discover/publication?and_facet_research_org=grid.412125.1\" title=\"View selected organization in Dimensions\">grid.412125.1 - King Abdulaziz University &#x29c9;</a>"
      ],
      "text/plain": [
       "<IPython.core.display.HTML object>"
      ]
     },
     "metadata": {},
     "output_type": "display_data"
    },
    {
     "data": {
      "text/html": [
       "Time period: 2000 to 2016"
      ],
      "text/plain": [
       "<IPython.core.display.HTML object>"
      ]
     },
     "metadata": {},
     "output_type": "display_data"
    },
    {
     "data": {
      "text/html": [
       "Topic: \"nanotechnology\" <br /><br />"
      ],
      "text/plain": [
       "<IPython.core.display.HTML object>"
      ]
     },
     "metadata": {},
     "output_type": "display_data"
    }
   ],
   "source": [
    "GRIDID = \"grid.412125.1\" #@param {type:\"string\"}\n",
    "    \n",
    "#@markdown The start/end year of publications used to extract patents\n",
    "YEAR_START = 2000 #@param {type: \"slider\", min: 1950, max: 2020}\n",
    "YEAR_END = 2016 #@param {type: \"slider\", min: 1950, max: 2020}\n",
    "\n",
    "#@markdown ---\n",
    "#@markdown A keyword used to filter publications search\n",
    "TOPIC = \"nanotechnology\" #@param {type:\"string\"}\n",
    "\n",
    "if YEAR_END < YEAR_START:\n",
    "  YEAR_END = YEAR_START\n",
    "\n",
    "#\n",
    "# gen link to Dimensions\n",
    "#\n",
    "try:\n",
    "  gridname = dsl.query(f\"\"\"search organizations where id=\"{GRIDID}\" return organizations[name]\"\"\", verbose=False).organizations[0]['name']\n",
    "except:\n",
    "  gridname = \"\"\n",
    "from IPython.display import display, HTML\n",
    "display(HTML('GRID: <a href=\"{}\" title=\"View selected organization in Dimensions\">{} - {} &#x29c9;</a>'.format(dimensions_url(GRIDID), GRIDID, gridname)))\n",
    "display(HTML('Time period: {} to {}'.format(YEAR_START, YEAR_END)))\n",
    "display(HTML('Topic: \"{}\" <br /><br />'.format(TOPIC)))\n"
   ]
  },
  {
   "cell_type": "markdown",
   "metadata": {
    "Collapsed": "false"
   },
   "source": [
    "## 2. Building a one-degree network of collaborating institutions"
   ]
  },
  {
   "cell_type": "markdown",
   "metadata": {
    "Collapsed": "false"
   },
   "source": [
    "We can use the [publications API](https://docs.dimensions.ai/dsl/data-sources.html#publications) to find the top 10 collaborating institutions based on the parameters above, via a single query. \n",
    "\n",
    "The `get_collaborators` function below fills out a templated query with the relevant bits and runs it. Then it transforms the results into a pandas dataframe, which will make it easier to process the data later on. \n"
   ]
  },
  {
   "cell_type": "code",
   "execution_count": 4,
   "metadata": {
    "Collapsed": "false"
   },
   "outputs": [],
   "source": [
    "query_template = \"\"\"search publications {}\n",
    "                   where year in [{}:{}] \n",
    "                   and research_orgs.id=\"{}\"\n",
    "                return research_orgs limit 11\"\"\"\n",
    "\n",
    "def get_collaborators(orgid, level=1, printquery=False):\n",
    "    if TOPIC:\n",
    "        TOPIC_CLAUSE = f\"\"\"for \"{TOPIC}\" \"\"\"\n",
    "    else:\n",
    "        TOPIC_CLAUSE = \"\"\n",
    "    # fill in the blanks in the query_template\n",
    "    query_full = query_template.format(TOPIC_CLAUSE, YEAR_START, YEAR_END, orgid)\n",
    "    if printquery: print(query_full)\n",
    "    df = dsl.query(query_full, verbose=False).as_dataframe()\n",
    "    # add extra columns\n",
    "    df['id_from'] = [orgid] * len(df)\n",
    "    df['level'] = [level] * len(df)\n",
    "    return df"
   ]
  },
  {
   "cell_type": "markdown",
   "metadata": {
    "Collapsed": "false"
   },
   "source": [
    "Note: \n",
    "\n",
    "* **Extra columns**. The resulting dataframe contains two extra columns: a) `id_from`, which is the 'seed' institution we start from; b) `level`, an optional parameter representing the network depth of the query (we'll see later how it is used with recursive querying).\n",
    "* **Self-collaboration**. The query returns 11 records - that's because the first one is normally the seed GRID (due to internal collaborations) which we will omit from the results.\n",
    "* **Custom changes**. Lastly, it's important to remember that this step can be easily customised by changing the `query_template` sttructure. For example, we could focus on specific research areas (using FOR codes), or set a threshold based on citation counts. The possibilities are endless!  \n",
    "\n",
    "For example, let's try it out with our GRID ID:"
   ]
  },
  {
   "cell_type": "code",
   "execution_count": 5,
   "metadata": {
    "Collapsed": "false"
   },
   "outputs": [
    {
     "name": "stdout",
     "output_type": "stream",
     "text": [
      "search publications for \"nanotechnology\" \n",
      "                   where year in [2000:2016] \n",
      "                   and research_orgs.id=\"grid.412125.1\"\n",
      "                return research_orgs limit 11\n"
     ]
    },
    {
     "data": {
      "text/html": [
       "<div>\n",
       "<style scoped>\n",
       "    .dataframe tbody tr th:only-of-type {\n",
       "        vertical-align: middle;\n",
       "    }\n",
       "\n",
       "    .dataframe tbody tr th {\n",
       "        vertical-align: top;\n",
       "    }\n",
       "\n",
       "    .dataframe thead th {\n",
       "        text-align: right;\n",
       "    }\n",
       "</style>\n",
       "<table border=\"1\" class=\"dataframe\">\n",
       "  <thead>\n",
       "    <tr style=\"text-align: right;\">\n",
       "      <th></th>\n",
       "      <th>id</th>\n",
       "      <th>name</th>\n",
       "      <th>acronym</th>\n",
       "      <th>city_name</th>\n",
       "      <th>count</th>\n",
       "      <th>country_name</th>\n",
       "      <th>latitude</th>\n",
       "      <th>linkout</th>\n",
       "      <th>longitude</th>\n",
       "      <th>types</th>\n",
       "      <th>state_name</th>\n",
       "      <th>id_from</th>\n",
       "      <th>level</th>\n",
       "    </tr>\n",
       "  </thead>\n",
       "  <tbody>\n",
       "    <tr>\n",
       "      <th>0</th>\n",
       "      <td>grid.412125.1</td>\n",
       "      <td>King Abdulaziz University</td>\n",
       "      <td>KAU</td>\n",
       "      <td>Jeddah</td>\n",
       "      <td>1444</td>\n",
       "      <td>Saudi Arabia</td>\n",
       "      <td>21.493889</td>\n",
       "      <td>[http://www.kau.edu.sa/home_english.aspx]</td>\n",
       "      <td>39.250280</td>\n",
       "      <td>[Education]</td>\n",
       "      <td>NaN</td>\n",
       "      <td>grid.412125.1</td>\n",
       "      <td>1</td>\n",
       "    </tr>\n",
       "    <tr>\n",
       "      <th>1</th>\n",
       "      <td>grid.261112.7</td>\n",
       "      <td>Northeastern University</td>\n",
       "      <td>NU</td>\n",
       "      <td>Boston</td>\n",
       "      <td>106</td>\n",
       "      <td>United States</td>\n",
       "      <td>42.339830</td>\n",
       "      <td>[http://www.northeastern.edu/]</td>\n",
       "      <td>-71.089180</td>\n",
       "      <td>[Education]</td>\n",
       "      <td>Massachusetts</td>\n",
       "      <td>grid.412125.1</td>\n",
       "      <td>1</td>\n",
       "    </tr>\n",
       "    <tr>\n",
       "      <th>2</th>\n",
       "      <td>grid.38142.3c</td>\n",
       "      <td>Harvard University</td>\n",
       "      <td>NaN</td>\n",
       "      <td>Cambridge</td>\n",
       "      <td>98</td>\n",
       "      <td>United States</td>\n",
       "      <td>42.377052</td>\n",
       "      <td>[http://www.harvard.edu/]</td>\n",
       "      <td>-71.116650</td>\n",
       "      <td>[Education]</td>\n",
       "      <td>Massachusetts</td>\n",
       "      <td>grid.412125.1</td>\n",
       "      <td>1</td>\n",
       "    </tr>\n",
       "    <tr>\n",
       "      <th>3</th>\n",
       "      <td>grid.116068.8</td>\n",
       "      <td>Massachusetts Institute of Technology</td>\n",
       "      <td>MIT</td>\n",
       "      <td>Cambridge</td>\n",
       "      <td>73</td>\n",
       "      <td>United States</td>\n",
       "      <td>42.359820</td>\n",
       "      <td>[http://web.mit.edu/]</td>\n",
       "      <td>-71.092110</td>\n",
       "      <td>[Education]</td>\n",
       "      <td>Massachusetts</td>\n",
       "      <td>grid.412125.1</td>\n",
       "      <td>1</td>\n",
       "    </tr>\n",
       "    <tr>\n",
       "      <th>4</th>\n",
       "      <td>grid.16753.36</td>\n",
       "      <td>Northwestern University</td>\n",
       "      <td>NU</td>\n",
       "      <td>Evanston</td>\n",
       "      <td>59</td>\n",
       "      <td>United States</td>\n",
       "      <td>42.054850</td>\n",
       "      <td>[http://www.northwestern.edu/]</td>\n",
       "      <td>-87.673940</td>\n",
       "      <td>[Education]</td>\n",
       "      <td>Illinois</td>\n",
       "      <td>grid.412125.1</td>\n",
       "      <td>1</td>\n",
       "    </tr>\n",
       "    <tr>\n",
       "      <th>5</th>\n",
       "      <td>grid.413735.7</td>\n",
       "      <td>Harvard–MIT Division of Health Sciences and Te...</td>\n",
       "      <td>HST</td>\n",
       "      <td>Cambridge</td>\n",
       "      <td>58</td>\n",
       "      <td>United States</td>\n",
       "      <td>42.361780</td>\n",
       "      <td>[http://hst.mit.edu/]</td>\n",
       "      <td>-71.086914</td>\n",
       "      <td>[Education]</td>\n",
       "      <td>Massachusetts</td>\n",
       "      <td>grid.412125.1</td>\n",
       "      <td>1</td>\n",
       "    </tr>\n",
       "    <tr>\n",
       "      <th>6</th>\n",
       "      <td>grid.411340.3</td>\n",
       "      <td>Aligarh Muslim University</td>\n",
       "      <td>AMU</td>\n",
       "      <td>Aligarh</td>\n",
       "      <td>47</td>\n",
       "      <td>India</td>\n",
       "      <td>27.917370</td>\n",
       "      <td>[http://www.amu.ac.in/]</td>\n",
       "      <td>78.077850</td>\n",
       "      <td>[Education]</td>\n",
       "      <td>Uttar Pradesh</td>\n",
       "      <td>grid.412125.1</td>\n",
       "      <td>1</td>\n",
       "    </tr>\n",
       "    <tr>\n",
       "      <th>7</th>\n",
       "      <td>grid.412621.2</td>\n",
       "      <td>Quaid-i-Azam University</td>\n",
       "      <td>QAU</td>\n",
       "      <td>Islamabad</td>\n",
       "      <td>47</td>\n",
       "      <td>Pakistan</td>\n",
       "      <td>33.747223</td>\n",
       "      <td>[http://www.qau.edu.pk/]</td>\n",
       "      <td>73.138885</td>\n",
       "      <td>[Education]</td>\n",
       "      <td>NaN</td>\n",
       "      <td>grid.412125.1</td>\n",
       "      <td>1</td>\n",
       "    </tr>\n",
       "    <tr>\n",
       "      <th>8</th>\n",
       "      <td>grid.33003.33</td>\n",
       "      <td>Suez Canal University</td>\n",
       "      <td>NaN</td>\n",
       "      <td>Ismailia</td>\n",
       "      <td>42</td>\n",
       "      <td>Egypt</td>\n",
       "      <td>30.622778</td>\n",
       "      <td>[http://scuegypt.edu.eg/ar/]</td>\n",
       "      <td>32.275000</td>\n",
       "      <td>[Education]</td>\n",
       "      <td>NaN</td>\n",
       "      <td>grid.412125.1</td>\n",
       "      <td>1</td>\n",
       "    </tr>\n",
       "    <tr>\n",
       "      <th>9</th>\n",
       "      <td>grid.411818.5</td>\n",
       "      <td>Jamia Millia Islamia</td>\n",
       "      <td>JMI</td>\n",
       "      <td>New Delhi</td>\n",
       "      <td>42</td>\n",
       "      <td>India</td>\n",
       "      <td>28.561607</td>\n",
       "      <td>[http://jmi.ac.in/]</td>\n",
       "      <td>77.280150</td>\n",
       "      <td>[Education]</td>\n",
       "      <td>NaN</td>\n",
       "      <td>grid.412125.1</td>\n",
       "      <td>1</td>\n",
       "    </tr>\n",
       "    <tr>\n",
       "      <th>10</th>\n",
       "      <td>grid.56302.32</td>\n",
       "      <td>King Saud University</td>\n",
       "      <td>KSU</td>\n",
       "      <td>Riyadh</td>\n",
       "      <td>42</td>\n",
       "      <td>Saudi Arabia</td>\n",
       "      <td>24.723982</td>\n",
       "      <td>[http://ksu.edu.sa/en/]</td>\n",
       "      <td>46.645840</td>\n",
       "      <td>[Education]</td>\n",
       "      <td>NaN</td>\n",
       "      <td>grid.412125.1</td>\n",
       "      <td>1</td>\n",
       "    </tr>\n",
       "  </tbody>\n",
       "</table>\n",
       "</div>"
      ],
      "text/plain": [
       "               id                                               name acronym  \\\n",
       "0   grid.412125.1                          King Abdulaziz University     KAU   \n",
       "1   grid.261112.7                            Northeastern University      NU   \n",
       "2   grid.38142.3c                                 Harvard University     NaN   \n",
       "3   grid.116068.8              Massachusetts Institute of Technology     MIT   \n",
       "4   grid.16753.36                            Northwestern University      NU   \n",
       "5   grid.413735.7  Harvard–MIT Division of Health Sciences and Te...     HST   \n",
       "6   grid.411340.3                          Aligarh Muslim University     AMU   \n",
       "7   grid.412621.2                            Quaid-i-Azam University     QAU   \n",
       "8   grid.33003.33                              Suez Canal University     NaN   \n",
       "9   grid.411818.5                               Jamia Millia Islamia     JMI   \n",
       "10  grid.56302.32                               King Saud University     KSU   \n",
       "\n",
       "    city_name  count   country_name   latitude  \\\n",
       "0      Jeddah   1444   Saudi Arabia  21.493889   \n",
       "1      Boston    106  United States  42.339830   \n",
       "2   Cambridge     98  United States  42.377052   \n",
       "3   Cambridge     73  United States  42.359820   \n",
       "4    Evanston     59  United States  42.054850   \n",
       "5   Cambridge     58  United States  42.361780   \n",
       "6     Aligarh     47          India  27.917370   \n",
       "7   Islamabad     47       Pakistan  33.747223   \n",
       "8    Ismailia     42          Egypt  30.622778   \n",
       "9   New Delhi     42          India  28.561607   \n",
       "10     Riyadh     42   Saudi Arabia  24.723982   \n",
       "\n",
       "                                      linkout  longitude        types  \\\n",
       "0   [http://www.kau.edu.sa/home_english.aspx]  39.250280  [Education]   \n",
       "1              [http://www.northeastern.edu/] -71.089180  [Education]   \n",
       "2                   [http://www.harvard.edu/] -71.116650  [Education]   \n",
       "3                       [http://web.mit.edu/] -71.092110  [Education]   \n",
       "4              [http://www.northwestern.edu/] -87.673940  [Education]   \n",
       "5                       [http://hst.mit.edu/] -71.086914  [Education]   \n",
       "6                     [http://www.amu.ac.in/]  78.077850  [Education]   \n",
       "7                    [http://www.qau.edu.pk/]  73.138885  [Education]   \n",
       "8                [http://scuegypt.edu.eg/ar/]  32.275000  [Education]   \n",
       "9                         [http://jmi.ac.in/]  77.280150  [Education]   \n",
       "10                    [http://ksu.edu.sa/en/]  46.645840  [Education]   \n",
       "\n",
       "       state_name        id_from  level  \n",
       "0             NaN  grid.412125.1      1  \n",
       "1   Massachusetts  grid.412125.1      1  \n",
       "2   Massachusetts  grid.412125.1      1  \n",
       "3   Massachusetts  grid.412125.1      1  \n",
       "4        Illinois  grid.412125.1      1  \n",
       "5   Massachusetts  grid.412125.1      1  \n",
       "6   Uttar Pradesh  grid.412125.1      1  \n",
       "7             NaN  grid.412125.1      1  \n",
       "8             NaN  grid.412125.1      1  \n",
       "9             NaN  grid.412125.1      1  \n",
       "10            NaN  grid.412125.1      1  "
      ]
     },
     "execution_count": 5,
     "metadata": {},
     "output_type": "execute_result"
    }
   ],
   "source": [
    "get_collaborators(GRIDID, printquery=True)"
   ]
  },
  {
   "cell_type": "markdown",
   "metadata": {
    "Collapsed": "false"
   },
   "source": [
    "## 3. Building a network of any size \n",
    "\n",
    "What if we want to retrieve the collaborators of the collaborators? In other words, what if we want to generate a larger network?\n",
    "\n",
    "If we think of our collaboration data as a [graph structure](https://en.wikipedia.org/wiki/Graph_(discrete_mathematics)) with nodes and edges, we can see that the `get_collaborators` function defined above is limited. That's because it allows to obtain only the objects *directly* linked to the 'seed' GRID organization. \n",
    "\n",
    "We would like to run the same collaborators-extraction step **iteratively** for any GRID ID in our results, so to generate an N-degrees network where N is chosen by us. \n",
    "\n",
    "To this purpose, we can set up a [recursive](https://en.wikipedia.org/wiki/Recursion_(computer_science)) function. This function essentially repeats the `get_collaborators` function as many times as needed. Here's what it looks like:"
   ]
  },
  {
   "cell_type": "code",
   "execution_count": 6,
   "metadata": {
    "Collapsed": "false"
   },
   "outputs": [],
   "source": [
    "def recursive_network(seed, maxlevel=1, thislevel=1):\n",
    "    \"Recursive function for building an organization collaboration network\"\n",
    "    results = get_collaborators(seed, thislevel)\n",
    "    time.sleep(1)\n",
    "    print(\"--\" * thislevel, seed, \" :: level =\", thislevel)\n",
    "    if thislevel < maxlevel:\n",
    "        # remove the originating grid-id\n",
    "        gridslist = list(results[results['id'] != GRIDID]['id'])\n",
    "        next_level_results = [recursive_network(x, maxlevel, thislevel+1) for x in gridslist]\n",
    "        next_level_results = pd.concat(next_level_results)\n",
    "        results = pd.concat([results, next_level_results])\n",
    "        return results\n",
    "    else:\n",
    "        # finally\n",
    "        return results"
   ]
  },
  {
   "cell_type": "markdown",
   "metadata": {
    "Collapsed": "false"
   },
   "source": [
    "A few key points to note: \n",
    "\n",
    "* **Recursion depth**. The `maxlevel` parameter determines how big our network should be (1 =  neighbours only, 2 = collaborators of neighbours,e tc..) \n",
    "* **API quota**. We pause 1 second after each iteration to avoid hitting the normal Analytics API quota (~30 requests per minute)\n",
    "* **Data size**. The function can generate lots of data! E.g. calling this function with `maxlevel=5` will lead to 10k queries! (note: you can get a rough estimate of the queries via the formula *10 to the power of maxlevel-1*. That's because 10 is the number of orgs we extract per iteration, and maxlevel is the number or iterations, minus the first one which generates no extra queries).   \n",
    "\n",
    "\n",
    "Let's try this out. \n",
    "\n",
    "We can construct a 2-degrees collaboration network starting from King Abdulaziz University. We are extracting 10 organizations per node so our network will have ~100 nodes at the end!   "
   ]
  },
  {
   "cell_type": "code",
   "execution_count": 7,
   "metadata": {
    "Collapsed": "false"
   },
   "outputs": [
    {
     "name": "stdout",
     "output_type": "stream",
     "text": [
      "-- grid.412125.1  :: level = 1\n",
      "---- grid.261112.7  :: level = 2\n",
      "---- grid.38142.3c  :: level = 2\n",
      "---- grid.116068.8  :: level = 2\n",
      "---- grid.16753.36  :: level = 2\n",
      "---- grid.413735.7  :: level = 2\n",
      "---- grid.411340.3  :: level = 2\n",
      "---- grid.412621.2  :: level = 2\n",
      "---- grid.33003.33  :: level = 2\n",
      "---- grid.411818.5  :: level = 2\n",
      "---- grid.56302.32  :: level = 2\n"
     ]
    },
    {
     "data": {
      "text/html": [
       "<div>\n",
       "<style scoped>\n",
       "    .dataframe tbody tr th:only-of-type {\n",
       "        vertical-align: middle;\n",
       "    }\n",
       "\n",
       "    .dataframe tbody tr th {\n",
       "        vertical-align: top;\n",
       "    }\n",
       "\n",
       "    .dataframe thead th {\n",
       "        text-align: right;\n",
       "    }\n",
       "</style>\n",
       "<table border=\"1\" class=\"dataframe\">\n",
       "  <thead>\n",
       "    <tr style=\"text-align: right;\">\n",
       "      <th></th>\n",
       "      <th>id_from</th>\n",
       "      <th>id_to</th>\n",
       "      <th>level</th>\n",
       "      <th>count</th>\n",
       "      <th>name</th>\n",
       "      <th>acronym</th>\n",
       "      <th>city_name</th>\n",
       "      <th>state_name</th>\n",
       "      <th>country_name</th>\n",
       "      <th>latitude</th>\n",
       "      <th>longitude</th>\n",
       "      <th>linkout</th>\n",
       "      <th>types</th>\n",
       "    </tr>\n",
       "  </thead>\n",
       "  <tbody>\n",
       "    <tr>\n",
       "      <th>0</th>\n",
       "      <td>grid.412125.1</td>\n",
       "      <td>grid.412125.1</td>\n",
       "      <td>1</td>\n",
       "      <td>1444</td>\n",
       "      <td>King Abdulaziz University</td>\n",
       "      <td>KAU</td>\n",
       "      <td>Jeddah</td>\n",
       "      <td>NaN</td>\n",
       "      <td>Saudi Arabia</td>\n",
       "      <td>21.493889</td>\n",
       "      <td>39.25028</td>\n",
       "      <td>[http://www.kau.edu.sa/home_english.aspx]</td>\n",
       "      <td>[Education]</td>\n",
       "    </tr>\n",
       "    <tr>\n",
       "      <th>1</th>\n",
       "      <td>grid.412125.1</td>\n",
       "      <td>grid.261112.7</td>\n",
       "      <td>1</td>\n",
       "      <td>106</td>\n",
       "      <td>Northeastern University</td>\n",
       "      <td>NU</td>\n",
       "      <td>Boston</td>\n",
       "      <td>Massachusetts</td>\n",
       "      <td>United States</td>\n",
       "      <td>42.339830</td>\n",
       "      <td>-71.08918</td>\n",
       "      <td>[http://www.northeastern.edu/]</td>\n",
       "      <td>[Education]</td>\n",
       "    </tr>\n",
       "    <tr>\n",
       "      <th>2</th>\n",
       "      <td>grid.412125.1</td>\n",
       "      <td>grid.38142.3c</td>\n",
       "      <td>1</td>\n",
       "      <td>98</td>\n",
       "      <td>Harvard University</td>\n",
       "      <td>NaN</td>\n",
       "      <td>Cambridge</td>\n",
       "      <td>Massachusetts</td>\n",
       "      <td>United States</td>\n",
       "      <td>42.377052</td>\n",
       "      <td>-71.11665</td>\n",
       "      <td>[http://www.harvard.edu/]</td>\n",
       "      <td>[Education]</td>\n",
       "    </tr>\n",
       "    <tr>\n",
       "      <th>3</th>\n",
       "      <td>grid.412125.1</td>\n",
       "      <td>grid.116068.8</td>\n",
       "      <td>1</td>\n",
       "      <td>73</td>\n",
       "      <td>Massachusetts Institute of Technology</td>\n",
       "      <td>MIT</td>\n",
       "      <td>Cambridge</td>\n",
       "      <td>Massachusetts</td>\n",
       "      <td>United States</td>\n",
       "      <td>42.359820</td>\n",
       "      <td>-71.09211</td>\n",
       "      <td>[http://web.mit.edu/]</td>\n",
       "      <td>[Education]</td>\n",
       "    </tr>\n",
       "    <tr>\n",
       "      <th>4</th>\n",
       "      <td>grid.412125.1</td>\n",
       "      <td>grid.16753.36</td>\n",
       "      <td>1</td>\n",
       "      <td>59</td>\n",
       "      <td>Northwestern University</td>\n",
       "      <td>NU</td>\n",
       "      <td>Evanston</td>\n",
       "      <td>Illinois</td>\n",
       "      <td>United States</td>\n",
       "      <td>42.054850</td>\n",
       "      <td>-87.67394</td>\n",
       "      <td>[http://www.northwestern.edu/]</td>\n",
       "      <td>[Education]</td>\n",
       "    </tr>\n",
       "  </tbody>\n",
       "</table>\n",
       "</div>"
      ],
      "text/plain": [
       "         id_from          id_to  level  count  \\\n",
       "0  grid.412125.1  grid.412125.1      1   1444   \n",
       "1  grid.412125.1  grid.261112.7      1    106   \n",
       "2  grid.412125.1  grid.38142.3c      1     98   \n",
       "3  grid.412125.1  grid.116068.8      1     73   \n",
       "4  grid.412125.1  grid.16753.36      1     59   \n",
       "\n",
       "                                    name acronym  city_name     state_name  \\\n",
       "0              King Abdulaziz University     KAU     Jeddah            NaN   \n",
       "1                Northeastern University      NU     Boston  Massachusetts   \n",
       "2                     Harvard University     NaN  Cambridge  Massachusetts   \n",
       "3  Massachusetts Institute of Technology     MIT  Cambridge  Massachusetts   \n",
       "4                Northwestern University      NU   Evanston       Illinois   \n",
       "\n",
       "    country_name   latitude  longitude  \\\n",
       "0   Saudi Arabia  21.493889   39.25028   \n",
       "1  United States  42.339830  -71.08918   \n",
       "2  United States  42.377052  -71.11665   \n",
       "3  United States  42.359820  -71.09211   \n",
       "4  United States  42.054850  -87.67394   \n",
       "\n",
       "                                     linkout        types  \n",
       "0  [http://www.kau.edu.sa/home_english.aspx]  [Education]  \n",
       "1             [http://www.northeastern.edu/]  [Education]  \n",
       "2                  [http://www.harvard.edu/]  [Education]  \n",
       "3                      [http://web.mit.edu/]  [Education]  \n",
       "4             [http://www.northwestern.edu/]  [Education]  "
      ]
     },
     "execution_count": 7,
     "metadata": {},
     "output_type": "execute_result"
    }
   ],
   "source": [
    "collaborators = recursive_network(GRIDID, maxlevel=2)\n",
    "# change column order for readability purposes\n",
    "collaborators.rename(columns={\"id\": \"id_to\"}, inplace=True)\n",
    "collaborators = collaborators[['id_from', 'id_to', 'level', 'count', 'name', 'acronym', 'city_name', 'state_name', 'country_name', 'latitude', 'longitude', 'linkout',  'types' ]]\n",
    "collaborators.head()"
   ]
  },
  {
   "cell_type": "markdown",
   "metadata": {
    "Collapsed": "false"
   },
   "source": [
    "## 4. Visualizing the network \n",
    "\n",
    "In order to get an overview of the network data we can visualize it using the Python [pyvis](https://pyvis.readthedocs.io/en/latest/tutorial.html) library. A custom version of pyvis is already included in [dimcli.core.extras](https://github.com/digital-science/dimcli/blob/master/dimcli/core/extras.py) and is called `NetworkViz` (note: this custom version only fixes a bug that prevents pyvis graphs to be displayed online with Google Colab). \n",
    "\n",
    "Network visualizations can be very complex, but to begin with we can focus on representing two key aspects:\n",
    "\n",
    "* **Core collaborators**. The size of the nodes should be proportional to the proximity to our 'seed' organization. This will make it easier to  quickly identify the key players in the network\n",
    "* **Number of publications**. The strenght of the collaboration should be proportional to the size of the edges (= how many publications two orgs have in common)\n",
    "\n",
    "\n",
    "In a nutshell, this is what the code below does:\n",
    "\n",
    "* After creating a `NetworkViz` object, we add nodes and edges from our dataset using the `add_node` and `add_edge` method. \n",
    "* The Network `repulsion` parameter is set to 300, but for bigger charts you may want to increase that.\n",
    "* Nodes and edges in pyvis can have a number of attributes. The full list of attributes can be found in the [pyvis documentation](https://pyvis.readthedocs.io/en/latest/tutorial.html). \n",
    "* In order to have some nice colors, we take advantage of the built-in [plotly color scales](https://plot.ly/python/builtin-colorscales/). Try changing them!\n"
   ]
  },
  {
   "cell_type": "code",
   "execution_count": 8,
   "metadata": {
    "Collapsed": "false"
   },
   "outputs": [
    {
     "name": "stdout",
     "output_type": "stream",
     "text": [
      "network_grid.412125.1.html\n"
     ]
    },
    {
     "data": {
      "text/html": [
       "\n",
       "        <iframe\n",
       "            width=\"100%\"\n",
       "            height=\"800px\"\n",
       "            src=\"network_grid.412125.1.html\"\n",
       "            frameborder=\"0\"\n",
       "            allowfullscreen\n",
       "            \n",
       "        ></iframe>\n",
       "        "
      ],
      "text/plain": [
       "<IPython.lib.display.IFrame at 0x127f207d0>"
      ]
     },
     "execution_count": 8,
     "metadata": {},
     "output_type": "execute_result"
    }
   ],
   "source": [
    "# load pyvis\n",
    "from pyvis.network import Network\n",
    "\n",
    "\n",
    "def build_visualization(collaborator_df):\n",
    "    \"\"\"\n",
    "    Return a network visualization object from a collaborators dataframe\n",
    "    The object can be then displayed/saved with `g.show(f\"network.html\")`\n",
    "    \"\"\"\n",
    "\n",
    "    # set up dataviz\n",
    "    g = Network(notebook=True, width=\"100%\", height=\"800px\",cdn_resources=\"remote\",\n",
    "            neighborhood_highlight=True,\n",
    "            select_menu=True)\n",
    "    g.toggle_hide_edges_on_drag(False)\n",
    "    g.barnes_hut()\n",
    "    g.repulsion(300)\n",
    "    # reuse plotly color palette\n",
    "    palette = px.colors.diverging.Temps\n",
    "    # g.show_buttons() # in html-standalone mode, this command shows viz controls\n",
    "\n",
    "    \n",
    "    #\n",
    "    # create nodes and edges\n",
    "    #\n",
    "\n",
    "    # remove duplicates from nodes \n",
    "    nodes = collaborator_df.drop_duplicates(subset =\"id_to\", keep = 'first')\n",
    "    # remove internal collaborations stats \n",
    "    edges = collaborator_df[(collaborator_df['id_to'] != collaborator_df['id_from'])]\n",
    "\n",
    "\n",
    "    #\n",
    "    # add nodes\n",
    "    #\n",
    "\n",
    "    for index, row in nodes.iterrows():\n",
    "\n",
    "        # calc size based on level\n",
    "        maxsize = int(nodes['level'].max()) + 1\n",
    "        if row['id_to'] == GRIDID:\n",
    "            size = maxsize\n",
    "        else:\n",
    "            size = maxsize - row['level']\n",
    "\n",
    "        # calc color based on level\n",
    "        if row['id_to'] == GRIDID:\n",
    "            color = palette[0]\n",
    "        else:\n",
    "            color = palette[row['level'] * 2]\n",
    "\n",
    "        g.add_node(\n",
    "            n_id = row['id_to'],\n",
    "            label = row['name'],\n",
    "            title = f\"<h4>{row['name']}<br>{row['city_name']}, {row['country_name']}<br> - {row['id_to']}</h4>\",\n",
    "            value = size,\n",
    "            color = color,\n",
    "            borderWidthSelected = 5,\n",
    "            shape = \"dot\",\n",
    "        )\n",
    "\n",
    "\n",
    "    #\n",
    "    # add edges\n",
    "    #\n",
    "\n",
    "    edges_maxcount = edges['count'].max()\n",
    "    \n",
    "    for index, row in edges.iterrows():\n",
    "      g.add_edge(row['id_from'], row['id_to'], \n",
    "                 value = float(row['count']) / edges_maxcount,\n",
    "                 label=int(row['count']), \n",
    "                 arrows=\"none\"\n",
    "                )\n",
    "\n",
    "    # add tooltips with adjancent links info\n",
    "    neighbor_map = g.get_adj_list() \n",
    "    for node in g.nodes:\n",
    "        neigh = neighbor_map[node[\"id\"]]\n",
    "        labels = [nodes[nodes['id_to'] == x].iloc[0]['name'] for x in neigh]\n",
    "        node[\"title\"] += \"Links:<li>\" + \"</li><li>\".join(labels)\n",
    "\n",
    "    return g\n",
    "\n",
    "#\n",
    "# finall, run the viz builder\n",
    "#\n",
    "g = build_visualization(collaborators)\n",
    "g.show(f\"network_{GRIDID}.html\")"
   ]
  },
  {
   "cell_type": "markdown",
   "metadata": {
    "Collapsed": "false"
   },
   "source": [
    "## 5. Addendum: showing only 'Government' collaborators \n",
    "\n",
    "What if we want to show a collaboration network focusing only on 'government' organizations?   \n",
    "\n",
    "That's pretty easy to do, since the GRID database includes information about **organization types**. We can easily see what types are available using the API and a `facet` query:"
   ]
  },
  {
   "cell_type": "code",
   "execution_count": 9,
   "metadata": {
    "Collapsed": "false"
   },
   "outputs": [
    {
     "name": "stdout",
     "output_type": "stream",
     "text": [
      "Returned Types: 9\n",
      "\u001b[2mTime: 1.00s\u001b[0m\n"
     ]
    },
    {
     "data": {
      "text/html": [
       "<div>\n",
       "<style scoped>\n",
       "    .dataframe tbody tr th:only-of-type {\n",
       "        vertical-align: middle;\n",
       "    }\n",
       "\n",
       "    .dataframe tbody tr th {\n",
       "        vertical-align: top;\n",
       "    }\n",
       "\n",
       "    .dataframe thead th {\n",
       "        text-align: right;\n",
       "    }\n",
       "</style>\n",
       "<table border=\"1\" class=\"dataframe\">\n",
       "  <thead>\n",
       "    <tr style=\"text-align: right;\">\n",
       "      <th></th>\n",
       "      <th>id</th>\n",
       "      <th>count</th>\n",
       "    </tr>\n",
       "  </thead>\n",
       "  <tbody>\n",
       "    <tr>\n",
       "      <th>0</th>\n",
       "      <td>Company</td>\n",
       "      <td>30742</td>\n",
       "    </tr>\n",
       "    <tr>\n",
       "      <th>1</th>\n",
       "      <td>Education</td>\n",
       "      <td>20761</td>\n",
       "    </tr>\n",
       "    <tr>\n",
       "      <th>2</th>\n",
       "      <td>Nonprofit</td>\n",
       "      <td>17573</td>\n",
       "    </tr>\n",
       "    <tr>\n",
       "      <th>3</th>\n",
       "      <td>Healthcare</td>\n",
       "      <td>13926</td>\n",
       "    </tr>\n",
       "    <tr>\n",
       "      <th>4</th>\n",
       "      <td>Facility</td>\n",
       "      <td>10168</td>\n",
       "    </tr>\n",
       "    <tr>\n",
       "      <th>5</th>\n",
       "      <td>Government</td>\n",
       "      <td>6580</td>\n",
       "    </tr>\n",
       "    <tr>\n",
       "      <th>6</th>\n",
       "      <td>Other</td>\n",
       "      <td>4017</td>\n",
       "    </tr>\n",
       "    <tr>\n",
       "      <th>7</th>\n",
       "      <td>Archive</td>\n",
       "      <td>2926</td>\n",
       "    </tr>\n",
       "    <tr>\n",
       "      <th>8</th>\n",
       "      <td>Education,Company</td>\n",
       "      <td>1</td>\n",
       "    </tr>\n",
       "  </tbody>\n",
       "</table>\n",
       "</div>"
      ],
      "text/plain": [
       "                  id  count\n",
       "0            Company  30742\n",
       "1          Education  20761\n",
       "2          Nonprofit  17573\n",
       "3         Healthcare  13926\n",
       "4           Facility  10168\n",
       "5         Government   6580\n",
       "6              Other   4017\n",
       "7            Archive   2926\n",
       "8  Education,Company      1"
      ]
     },
     "execution_count": 9,
     "metadata": {},
     "output_type": "execute_result"
    }
   ],
   "source": [
    "%dsldf search organizations return types"
   ]
  },
  {
   "cell_type": "markdown",
   "metadata": {
    "Collapsed": "false"
   },
   "source": [
    "The steps are the following: \n",
    "\n",
    "* **New query filter**. We rewrite the `get_collaborators` function we created in section 2 above, so that the API query includes a filter for organizations with the selected type only: `.. and research_orgs.types in [\"Government\"]...`\n",
    "* **Get more results**. We increase the number of results returned: `..return research_orgs limit 50`. This is to ensure we still have enough results after removing the ones that don't have the chosen 'type'\n",
    "* **Remove unwanted data**. The new query filter `research_orgs.types in [\"{}\"]` will return also publications with multiple authors/affiliations, even though only one of them has the desired 'type'. So an extra step is required and this is achieved via the `keep_type` function below. This function simply filters out all unwanted organizations data after they're retrieved from the API. \n",
    "\n",
    "That's it! Run the cell below to generate a new visualization showing only \"Government\" collaborators. Or try changing the value of `GRID_TYPE` to see different results. \n"
   ]
  },
  {
   "cell_type": "code",
   "execution_count": 10,
   "metadata": {
    "Collapsed": "false"
   },
   "outputs": [
    {
     "name": "stdout",
     "output_type": "stream",
     "text": [
      "-- grid.412125.1  :: level = 1\n",
      "---- grid.7327.1  :: level = 2\n",
      "---- grid.9227.e  :: level = 2\n",
      "---- grid.20256.33  :: level = 2\n",
      "---- grid.1089.0  :: level = 2\n",
      "---- grid.14467.30  :: level = 2\n",
      "network_grid.412125.1_Government.html\n"
     ]
    },
    {
     "data": {
      "text/html": [
       "\n",
       "        <iframe\n",
       "            width=\"100%\"\n",
       "            height=\"800px\"\n",
       "            src=\"network_grid.412125.1_Government.html\"\n",
       "            frameborder=\"0\"\n",
       "            allowfullscreen\n",
       "            \n",
       "        ></iframe>\n",
       "        "
      ],
      "text/plain": [
       "<IPython.lib.display.IFrame at 0x12846dc50>"
      ]
     },
     "execution_count": 10,
     "metadata": {},
     "output_type": "execute_result"
    }
   ],
   "source": [
    "#@markdown Try using one of the organization types from the list above\n",
    "\n",
    "GRID_TYPE = \"Government\" #@param {type:\"string\"}\n",
    "\n",
    "query = \"\"\"search publications {}\n",
    "               where year in [{}:{}] \n",
    "               and research_orgs.id=\"{}\"\n",
    "               and research_orgs.types in [\"{}\"]\n",
    "            return research_orgs limit 50\"\"\"\n",
    "\n",
    "def keep_only_type(data, a_type, orgid):\n",
    "    clean_list = []\n",
    "    for x in data.research_orgs:\n",
    "        # include also originating GRID to ensure chart is complete\n",
    "        if x['id'] == orgid or a_type in x['types']:\n",
    "            clean_list.append(x)\n",
    "    data.json['research_orgs'] = clean_list\n",
    "    return data\n",
    "\n",
    "\n",
    "def get_collaborators(orgid, level=1, printquery=False):\n",
    "    \"New version that filters using org types as well\"\n",
    "    if TOPIC:\n",
    "        TOPIC_CLAUSE = f\"\"\"for \"{TOPIC}\" \"\"\"\n",
    "    else:\n",
    "        TOPIC_CLAUSE = \"\"\n",
    "    # include also the GRID_TYPE\n",
    "    query_full = query.format(TOPIC_CLAUSE, YEAR_START, YEAR_END, orgid, GRID_TYPE)\n",
    "    if printquery: print(query_full)\n",
    "    data = dsl.query(query_full, verbose=False)\n",
    "    # remove results with unwanted types     \n",
    "    data = keep_only_type(data, \"Government\", orgid)\n",
    "    df = data.as_dataframe()\n",
    "    df['id_from'] = [orgid] * len(df)\n",
    "    df['level'] = [level] * len(df)\n",
    "    return df\n",
    "\n",
    "\n",
    "#\n",
    "# RUN THE RECURSIVE QUERY (same code as above)\n",
    "#\n",
    "collaborators = recursive_network(GRIDID, maxlevel=2)\n",
    "collaborators.rename(columns={\"id\": \"id_to\"}, inplace=True)\n",
    "collaborators = collaborators[['id_from', 'id_to', 'level', 'count', 'name', 'acronym', 'city_name', 'country_name', 'latitude', 'longitude', 'linkout',  'types' ]]\n",
    "\n",
    "#\n",
    "# BUILD VIZ\n",
    "#\n",
    "g = build_visualization(collaborators)\n",
    "g.show(f\"network_{GRIDID}_{GRID_TYPE}.html\")\n",
    "\n"
   ]
  },
  {
   "cell_type": "markdown",
   "metadata": {
    "Collapsed": "false"
   },
   "source": [
    "## Conclusions\n",
    "\n",
    "In this tutorial we have demonstrated how to generate an organization 'collaborations network diagram' using the Dimensions API. Starting from a research organization, we extracted information about other collaborating organizations, based on shared publications data, a topic and a time-frame. \n",
    "\n",
    "An example of the resulting network diagram [can be seen here](http://api-sample-data.dimensions.ai/dataviz-exports/3-Organizations-Collaboration-Network/network_2_levels_grid.412125.1.html).\n",
    "\n",
    "Here's some ideas for further experimentation:\n",
    "\n",
    "* try changing the initial `publications` query so to include other parameters. The [publications API](https://docs.dimensions.ai/dsl/data-sources.html#publications) is rich so there're many ways to fine-tune your analysis\n",
    "* try increasing the number of iterations using the `maxlevel` parameter \n",
    "* try customizing the resulting network diagram, e.g. to highlight nodes and edges based on different criteria like countries or years. "
   ]
  }
 ],
 "metadata": {
  "kernel_info": {
   "name": "python3"
  },
  "kernelspec": {
   "display_name": "Python 3 (ipykernel)",
   "language": "python",
   "name": "python3"
  },
  "language_info": {
   "codemirror_mode": {
    "name": "ipython",
    "version": 3
   },
   "file_extension": ".py",
   "mimetype": "text/x-python",
   "name": "python",
   "nbconvert_exporter": "python",
   "pygments_lexer": "ipython3",
   "version": "3.11.1"
  },
  "nteract": {
   "version": "0.15.0"
  }
 },
 "nbformat": 4,
 "nbformat_minor": 4
}
