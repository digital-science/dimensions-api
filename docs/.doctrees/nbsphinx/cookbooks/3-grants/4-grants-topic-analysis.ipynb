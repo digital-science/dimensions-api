{
 "cells": [
  {
   "cell_type": "markdown",
   "metadata": {
    "Collapsed": "false",
    "id": "KLi3rMNQIxFh"
   },
   "source": [
    "# Identifying emerging topics in grants using 'concepts'\n",
    "\n",
    "This Python notebook shows how to use the [Dimensions Analytics API](https://www.dimensions.ai/dimensions-apis/) in order to extract [concepts](https://docs.dimensions.ai/dsl/language.html#searching-using-concepts) from grants data and use them as the basis for more advanced topic analyses tasks.\n",
    "\n",
    "**Note** this tutorial is best experienced using Google Colab."
   ]
  },
  {
   "cell_type": "code",
   "execution_count": 1,
   "metadata": {
    "colab": {
     "base_uri": "https://localhost:8080/"
    },
    "id": "Rv8vsuVuH88C",
    "outputId": "ad0984f3-33ab-40cc-d7eb-a52a2c4ed667"
   },
   "outputs": [
    {
     "name": "stdout",
     "output_type": "stream",
     "text": [
      "==\n",
      "CHANGELOG\n",
      "This notebook was last run on Aug 07, 2023\n",
      "==\n"
     ]
    }
   ],
   "source": [
    "import datetime\n",
    "print(\"==\\nCHANGELOG\\nThis notebook was last run on %s\\n==\" % datetime.date.today().strftime('%b %d, %Y'))"
   ]
  },
  {
   "cell_type": "markdown",
   "metadata": {
    "Collapsed": "false",
    "id": "hMaQlB7DG8Vw"
   },
   "source": [
    "## Prerequisites\n",
    "\n",
    "This notebook assumes you have installed the [Dimcli](https://pypi.org/project/dimcli/) library and are familiar with the ['Getting Started' tutorial](https://api-lab.dimensions.ai/cookbooks/1-getting-started/1-Using-the-Dimcli-library-to-query-the-API.html).\n"
   ]
  },
  {
   "cell_type": "code",
   "execution_count": 2,
   "metadata": {
    "Collapsed": "false",
    "colab": {
     "base_uri": "https://localhost:8080/"
    },
    "id": "s9UsQw-mKHcN",
    "outputId": "0e6084c2-4e73-4e34-fd35-36303250e6bb"
   },
   "outputs": [
    {
     "name": "stdout",
     "output_type": "stream",
     "text": [
      "\n",
      "\u001b[1m[\u001b[0m\u001b[34;49mnotice\u001b[0m\u001b[1;39;49m]\u001b[0m\u001b[39;49m A new release of pip available: \u001b[0m\u001b[31;49m22.3.1\u001b[0m\u001b[39;49m -> \u001b[0m\u001b[32;49m23.2.1\u001b[0m\n",
      "\u001b[1m[\u001b[0m\u001b[34;49mnotice\u001b[0m\u001b[1;39;49m]\u001b[0m\u001b[39;49m To update, run: \u001b[0m\u001b[32;49mpip install --upgrade pip\u001b[0m\n"
     ]
    },
    {
     "data": {
      "text/html": [
       "        <script type=\"text/javascript\">\n",
       "        window.PlotlyConfig = {MathJaxConfig: 'local'};\n",
       "        if (window.MathJax && window.MathJax.Hub && window.MathJax.Hub.Config) {window.MathJax.Hub.Config({SVG: {font: \"STIX-Web\"}});}\n",
       "        if (typeof require !== 'undefined') {\n",
       "        require.undef(\"plotly\");\n",
       "        requirejs.config({\n",
       "            paths: {\n",
       "                'plotly': ['https://cdn.plot.ly/plotly-2.24.1.min']\n",
       "            }\n",
       "        });\n",
       "        require(['plotly'], function(Plotly) {\n",
       "            window._Plotly = Plotly;\n",
       "        });\n",
       "        }\n",
       "        </script>\n",
       "        "
      ]
     },
     "metadata": {},
     "output_type": "display_data"
    },
    {
     "name": "stderr",
     "output_type": "stream",
     "text": [
      "\u001b[2mSearching config file credentials for 'https://app.dimensions.ai' endpoint..\u001b[0m\n"
     ]
    },
    {
     "name": "stdout",
     "output_type": "stream",
     "text": [
      "==\n",
      "Logging in..\n",
      "\u001b[2mDimcli - Dimensions API Client (v1.1)\u001b[0m\n",
      "\u001b[2mConnected to: <https://app.dimensions.ai/api/dsl> - DSL v2.7\u001b[0m\n",
      "\u001b[2mMethod: dsl.ini file\u001b[0m\n"
     ]
    }
   ],
   "source": [
    "!pip install dimcli plotly wordcloud -U --quiet\n",
    "\n",
    "import dimcli\n",
    "from dimcli.utils import *\n",
    "\n",
    "import json, sys\n",
    "import matplotlib.pyplot as plt\n",
    "from wordcloud import WordCloud\n",
    "import pandas as pd\n",
    "import plotly.express as px  # plotly>=4.8.1\n",
    "if not 'google.colab' in sys.modules:\n",
    "  # make js dependecies local / needed by html exports\n",
    "  from plotly.offline import init_notebook_mode\n",
    "  init_notebook_mode(connected=True)\n",
    "#\n",
    "\n",
    "print(\"==\\nLogging in..\")\n",
    "# https://digital-science.github.io/dimcli/getting-started.html#authentication\n",
    "ENDPOINT = \"https://app.dimensions.ai\"\n",
    "if 'google.colab' in sys.modules:\n",
    "  import getpass\n",
    "  KEY = getpass.getpass(prompt='API Key: ')\n",
    "  dimcli.login(key=KEY, endpoint=ENDPOINT)\n",
    "else:\n",
    "  KEY = \"\"\n",
    "  dimcli.login(key=KEY, endpoint=ENDPOINT)\n",
    "dsl = dimcli.Dsl()"
   ]
  },
  {
   "cell_type": "markdown",
   "metadata": {
    "Collapsed": "false",
    "id": "duzLFSrfFiuS"
   },
   "source": [
    "## 1. Creating a Dataset: e.g. Grants from a Funder"
   ]
  },
  {
   "cell_type": "markdown",
   "metadata": {
    "Collapsed": "false",
    "id": "L6uIjSVnGRQV"
   },
   "source": [
    "The dataset we'll be using in this tutorial contains grants from the [National Science Foundation](https://www.grid.ac/institutes/grid.431093.c).\n",
    "\n",
    "By using the parameters below, we can restrict the dataset further using dates (start year of a grant) and a subject area (field of research code).\n",
    "\n",
    "After extracting the grants records, we are going to use the `as_dataframe_concepts` method to unpack concepts/scores data into a format that makes it easier to analyse it. For more background, see also the [Working with concepts in the Dimensions API](https://api-lab.dimensions.ai/cookbooks/1-getting-started/7-Working-with-concepts.html) tutorial."
   ]
  },
  {
   "cell_type": "code",
   "execution_count": 3,
   "metadata": {
    "Collapsed": "false",
    "colab": {
     "base_uri": "https://localhost:8080/",
     "height": 121
    },
    "id": "xNT2M74qKHcR",
    "outputId": "2ce446bc-0902-499b-85fa-ba28b16747d7"
   },
   "outputs": [
    {
     "name": "stdout",
     "output_type": "stream",
     "text": [
      "You selected:\n",
      "->grid.431093.c\n",
      "->2000-2020\n",
      "->None\n"
     ]
    },
    {
     "name": "stderr",
     "output_type": "stream",
     "text": [
      "/var/folders/c6/gh8_6trn5ysff0dnt9f5vqlm0000gq/T/ipykernel_79143/1942807834.py:25: DeprecationWarning:\n",
      "\n",
      "Importing display from IPython.core.display is deprecated since IPython 7.14, please import from IPython display\n",
      "\n"
     ]
    },
    {
     "data": {
      "text/html": [
       "-><br /><a href=\"https://app.dimensions.ai/discover/publication?and_facet_research_org=grid.431093.c\">Preview grid.431093.c in Dimensions.ai &#x29c9;</a>"
      ],
      "text/plain": [
       "<IPython.core.display.HTML object>"
      ]
     },
     "metadata": {},
     "output_type": "display_data"
    }
   ],
   "source": [
    "#@markdown ## Define the criteria for extracting grants\n",
    "\n",
    "#@markdown A GRID organization from https://grid.ac/institutes\n",
    "GRIDID = \"grid.431093.c\" #@param {type:\"string\"}\n",
    "\n",
    "#@markdown The start_year range for the grants\n",
    "YEAR_START = 2000 #@param {type: \"slider\", min: 1950, max: 2020}\n",
    "YEAR_END = 2020 #@param {type: \"slider\", min: 1950, max: 2020}\n",
    "\n",
    "#@markdown The Field Of Research (FOR) category (None = all)\n",
    "CATEGORY = \"None\"  #@param ['None', '0101 Pure Mathematics', '0102 Applied Mathematics', '0103 Numerical and Computational Mathematics', '0104 Statistics', '0105 Mathematical Physics', '0201 Astronomical and Space Sciences', '0202 Atomic, Molecular, Nuclear, Particle and Plasma Physics', '0203 Classical Physics', '0204 Condensed Matter Physics', '0205 Optical Physics', '0206 Quantum Physics', '0299 Other Physical Sciences', '0301 Analytical Chemistry', '0302 Inorganic Chemistry', '0303 Macromolecular and Materials Chemistry', '0304 Medicinal and Biomolecular Chemistry', '0305 Organic Chemistry', '0306 Physical Chemistry (incl. Structural)', '0307 Theoretical and Computational Chemistry', '0399 Other Chemical Sciences', '0401 Atmospheric Sciences', '0402 Geochemistry', '0403 Geology', '0404 Geophysics', '0405 Oceanography', '0406 Physical Geography and Environmental Geoscience', '0499 Other Earth Sciences', '0501 Ecological Applications', '0502 Environmental Science and Management', '0503 Soil Sciences', '0599 Other Environmental Sciences', '0601 Biochemistry and Cell Biology', '0602 Ecology', '0603 Evolutionary Biology', '0604 Genetics', '0605 Microbiology', '0606 Physiology', '0607 Plant Biology', '0608 Zoology', '0699 Other Biological Sciences', '0701 Agriculture, Land and Farm Management', '0702 Animal Production', '0703 Crop and Pasture Production', '0704 Fisheries Sciences', '0705 Forestry Sciences', '0706 Horticultural Production', '0707 Veterinary Sciences', '0799 Other Agricultural and Veterinary Sciences', '0801 Artificial Intelligence and Image Processing', '0802 Computation Theory and Mathematics', '0803 Computer Software', '0804 Data Format', '0805 Distributed Computing', '0806 Information Systems', '0807 Library and Information Studies', '0899 Other Information and Computing Sciences', '0901 Aerospace Engineering', '0902 Automotive Engineering', '0903 Biomedical Engineering', '0904 Chemical Engineering', '0905 Civil Engineering', '0906 Electrical and Electronic Engineering', '0907 Environmental Engineering', '0908 Food Sciences', '0909 Geomatic Engineering', '0910 Manufacturing Engineering', '0911 Maritime Engineering', '0912 Materials Engineering', '0913 Mechanical Engineering', '0914 Resources Engineering and Extractive Metallurgy', '0915 Interdisciplinary Engineering', '0999 Other Engineering', '1001 Agricultural Biotechnology', '1002 Environmental Biotechnology', '1003 Industrial Biotechnology', '1004 Medical Biotechnology', '1005 Communications Technologies', '1006 Computer Hardware', '1007 Nanotechnology', '1099 Other Technology', '1101 Medical Biochemistry and Metabolomics', '1102 Cardiorespiratory Medicine and Haematology', '1103 Clinical Sciences', '1104 Complementary and Alternative Medicine', '1105 Dentistry', '1106 Human Movement and Sports Science', '1107 Immunology', '1108 Medical Microbiology', '1109 Neurosciences', '1110 Nursing', '1111 Nutrition and Dietetics', '1112 Oncology and Carcinogenesis', '1113 Ophthalmology and Optometry', '1114 Paediatrics and Reproductive Medicine', '1115 Pharmacology and Pharmaceutical Sciences', '1116 Medical Physiology', '1117 Public Health and Health Services', '1199 Other Medical and Health Sciences', '1201 Architecture', '1202 Building', '1203 Design Practice and Management', '1205 Urban and Regional Planning', '1299 Other Built Environment and Design', '1301 Education Systems', '1302 Curriculum and Pedagogy', '1303 Specialist Studies In Education', '1399 Other Education', '1401 Economic Theory', '1402 Applied Economics', '1403 Econometrics', '1499 Other Economics', '1501 Accounting, Auditing and Accountability', '1502 Banking, Finance and Investment', '1503 Business and Management', '1504 Commercial Services', '1505 Marketing', '1506 Tourism', '1507 Transportation and Freight Services', '1601 Anthropology', '1602 Criminology', '1603 Demography', '1604 Human Geography', '1605 Policy and Administration', '1606 Political Science', '1607 Social Work', '1608 Sociology', '1699 Other Studies In Human Society', '1701 Psychology', '1702 Cognitive Sciences', '1799 Other Psychology and Cognitive Sciences', '1801 Law', '1899 Other Law and Legal Studies', '1901 Art Theory and Criticism', '1902 Film, Television and Digital Media', '1903 Journalism and Professional Writing', '1904 Performing Arts and Creative Writing', '1905 Visual Arts and Crafts', '1999 Other Studies In Creative Arts and Writing', '2001 Communication and Media Studies', '2002 Cultural Studies', '2003 Language Studies', '2004 Linguistics', '2005 Literary Studies', '2099 Other Language, Communication and Culture', '2101 Archaeology', '2102 Curatorial and Related Studies', '2103 Historical Studies', '2199 Other History and Archaeology', '2201 Applied Ethics', '2202 History and Philosophy of Specific Fields', '2203 Philosophy', '2204 Religion and Religious Studies', '2299 Other Philosophy and Religious Studies']\n",
    "\n",
    "if YEAR_END < YEAR_START:\n",
    "  YEAR_END = YEAR_START\n",
    "\n",
    "\n",
    "# subject area query component\n",
    "if CATEGORY == \"None\":\n",
    "  subject_area_q =  \"\"\n",
    "else:\n",
    "  subject_area_q = f\"\"\" and category_for.name=\"{CATEGORY}\" \"\"\"\n",
    "\n",
    "print(f\"\"\"You selected:\\n->{GRIDID}\\n->{YEAR_START}-{YEAR_END}\\n->{CATEGORY}\"\"\")\n",
    "\n",
    "from IPython.core.display import display, HTML\n",
    "display(HTML('-><br /><a href=\"{}\">Preview {} in Dimensions.ai &#x29c9;</a>'.format(dimensions_url(GRIDID), GRIDID)))"
   ]
  },
  {
   "cell_type": "markdown",
   "metadata": {
    "Collapsed": "false",
    "id": "ryUUUy1-H88G"
   },
   "source": [
    "Let's build an API query and run it now"
   ]
  },
  {
   "cell_type": "code",
   "execution_count": 4,
   "metadata": {
    "Collapsed": "false",
    "colab": {
     "base_uri": "https://localhost:8080/"
    },
    "id": "0ud5kLYGH88G",
    "outputId": "ca7b7573-e624-4812-d2d5-21871cdc777d"
   },
   "outputs": [
    {
     "name": "stderr",
     "output_type": "stream",
     "text": [
      "Starting iteration with limit=1000 skip=0 ...\u001b[0m\n"
     ]
    },
    {
     "name": "stdout",
     "output_type": "stream",
     "text": [
      "===\n",
      "Query:\n",
      " \n",
      "search grants\n",
      "    where research_orgs.id = \"grid.431093.c\"\n",
      "    and start_year in [2000:2020]\n",
      "    \n",
      "    return grants[id+concepts_scores+start_year+category_for]\n",
      "\n",
      "===\n",
      "Retrieving grants.. \n"
     ]
    },
    {
     "name": "stderr",
     "output_type": "stream",
     "text": [
      "0-158 / 158 (1.32s)\u001b[0m\n",
      "===\n",
      "Records extracted: 158\u001b[0m\n"
     ]
    },
    {
     "name": "stdout",
     "output_type": "stream",
     "text": [
      "===\n",
      "Extracting Concepts.. \n",
      "==> Concepts Found (total): 6492\n",
      "==> Unique Concepts Found: 3596\n",
      "==> Unique Concepts in FOR category Found: 4933\n",
      "==> Concepts with frequency major than 1: 956\n",
      "===\n",
      "FOR categories:\n",
      "for_first\n",
      "37 Earth Sciences                                1468\n",
      "31 Biological Sciences                            681\n",
      "46 Information and Computing Sciences             503\n",
      "51 Physical Sciences                              462\n",
      "41 Environmental Sciences                         406\n",
      "44 Human Society                                  335\n",
      "40 Engineering                                    297\n",
      "                                                  183\n",
      "36 Creative Arts and Writing                      137\n",
      "49 Mathematical Sciences                          103\n",
      "48 Law and Legal Studies                           98\n",
      "39 Education                                       59\n",
      "34 Chemical Sciences                               58\n",
      "50 Philosophy and Religious Studies                54\n",
      "35 Commerce, Management, Tourism and Services      52\n",
      "43 History, Heritage and Archaeology               30\n",
      "47 Language, Communication and Culture              7\n",
      "Name: count, dtype: int64\n"
     ]
    }
   ],
   "source": [
    "query = f\"\"\"\n",
    "search grants\n",
    "    where research_orgs.id = \"{GRIDID}\"\n",
    "    and start_year in [{YEAR_START}:{YEAR_END}]\n",
    "    {subject_area_q}\n",
    "    return grants[id+concepts_scores+start_year+category_for]\n",
    "\"\"\"\n",
    "\n",
    "\n",
    "print(\"===\\nQuery:\\n\", query)\n",
    "print(\"===\\nRetrieving grants.. \")\n",
    "data = dsl.query_iterative(query)\n",
    "\n",
    "print(\"===\\nExtracting Concepts.. \")\n",
    "concepts = data.as_dataframe_concepts()\n",
    "\n",
    "# method to keep only the 2 digits FOR category\n",
    "def get_2_digits_cat(llist):\n",
    "    if type(llist) == list:\n",
    "        for d in llist:\n",
    "            if len(d['name'].split()[0]) == 2:\n",
    "                return d['name']\n",
    "    return \"\"\n",
    "concepts['for_first'] = concepts['category_for'].apply(lambda x: get_2_digits_cat(x))\n",
    "\n",
    "concepts_unique = concepts.drop_duplicates(\"concept\")[['concept', 'frequency', 'score_avg']]\n",
    "concepts_unique_in_for = concepts.drop_duplicates(subset=[\"concept\", \"for_first\"])[['concept', 'frequency', 'score_avg', 'for_first']]\n",
    "\n",
    "\n",
    "print(\"==> Concepts Found (total):\", len(concepts))\n",
    "print(\"==> Unique Concepts Found:\", len(concepts_unique))\n",
    "print(\"==> Unique Concepts in FOR category Found:\", len(concepts_unique_in_for))\n",
    "print(\"==> Concepts with frequency major than 1:\", len(concepts_unique.query(\"frequency > 1\")))\n",
    "print(\"===\\nFOR categories:\")\n",
    "print(concepts_unique_in_for['for_first'].value_counts())"
   ]
  },
  {
   "cell_type": "markdown",
   "metadata": {
    "Collapsed": "false",
    "id": "BksdK3HJIxFq"
   },
   "source": [
    "## 2. A first look at the concepts we extracted\n",
    "\n",
    "The goal of this section is understanding what are the best settings to use, in order to extract useful concepts."
   ]
  },
  {
   "cell_type": "code",
   "execution_count": 5,
   "metadata": {
    "Collapsed": "false",
    "colab": {
     "base_uri": "https://localhost:8080/",
     "height": 786
    },
    "id": "Lzt6Rzs1KHcU",
    "outputId": "5a98f217-349a-47be-df30-ba0745101428"
   },
   "outputs": [
    {
     "name": "stdout",
     "output_type": "stream",
     "text": [
      "You selected:\n",
      "->200\n",
      "->2-70\n",
      "->0.4\n"
     ]
    },
    {
     "data": {
      "application/vnd.plotly.v1+json": {
       "config": {
        "plotlyServerURL": "https://plot.ly"
       },
       "data": [
        {
         "hovertemplate": "concept=%{x}<br>frequency=%{y}<br>score_avg=%{marker.color}<extra></extra>",
         "legendgroup": "",
         "marker": {
          "color": [
           0.849,
           0.844,
           0.839,
           0.827,
           0.82,
           0.817,
           0.803,
           0.803,
           0.8015,
           0.797,
           0.794,
           0.7935,
           0.78,
           0.7635,
           0.762,
           0.754,
           0.751,
           0.75,
           0.748,
           0.747,
           0.746,
           0.746,
           0.744,
           0.739,
           0.738,
           0.737,
           0.737,
           0.732,
           0.732,
           0.729,
           0.717,
           0.714,
           0.71367,
           0.713,
           0.712,
           0.712,
           0.702,
           0.701,
           0.701,
           0.697,
           0.695,
           0.695,
           0.695,
           0.694,
           0.694,
           0.693,
           0.692,
           0.6915,
           0.691,
           0.69,
           0.69,
           0.68975,
           0.6895,
           0.689,
           0.688,
           0.688,
           0.688,
           0.688,
           0.6875,
           0.6855,
           0.685,
           0.685,
           0.684,
           0.682,
           0.681,
           0.681,
           0.68,
           0.68,
           0.679,
           0.677,
           0.677,
           0.677,
           0.67633,
           0.676,
           0.676,
           0.675,
           0.675,
           0.674,
           0.673,
           0.673,
           0.672,
           0.672,
           0.671,
           0.67,
           0.67,
           0.669,
           0.669,
           0.6685,
           0.667,
           0.667,
           0.666,
           0.665,
           0.664,
           0.664,
           0.663,
           0.663,
           0.661,
           0.661,
           0.661,
           0.66,
           0.658,
           0.658,
           0.658,
           0.65767,
           0.657,
           0.656,
           0.655,
           0.655,
           0.654,
           0.654,
           0.651,
           0.6505,
           0.648,
           0.647,
           0.645,
           0.644,
           0.643,
           0.642,
           0.642,
           0.642,
           0.6405,
           0.64,
           0.64,
           0.639,
           0.635,
           0.634,
           0.63367,
           0.63,
           0.628,
           0.62675,
           0.626,
           0.625,
           0.622,
           0.621,
           0.6195,
           0.6185,
           0.617,
           0.6145,
           0.613,
           0.612,
           0.61078,
           0.609,
           0.608,
           0.608,
           0.6065,
           0.606,
           0.603,
           0.603,
           0.6,
           0.6,
           0.6,
           0.599,
           0.5985,
           0.59788,
           0.5965,
           0.596,
           0.593,
           0.59244,
           0.592,
           0.588,
           0.587,
           0.586,
           0.578,
           0.576,
           0.5755,
           0.575,
           0.57375,
           0.5735,
           0.573,
           0.573,
           0.573,
           0.5725,
           0.571,
           0.569,
           0.567,
           0.566,
           0.565,
           0.56,
           0.56,
           0.556,
           0.55367,
           0.5535,
           0.55333,
           0.552,
           0.548,
           0.547,
           0.54667,
           0.546,
           0.54567,
           0.5455,
           0.544,
           0.54367,
           0.5435,
           0.54333,
           0.543,
           0.543,
           0.5415,
           0.54,
           0.5398,
           0.539
          ],
          "coloraxis": "coloraxis",
          "size": [
           0.849,
           0.844,
           0.839,
           0.827,
           0.82,
           0.817,
           0.803,
           0.803,
           0.8015,
           0.797,
           0.794,
           0.7935,
           0.78,
           0.7635,
           0.762,
           0.754,
           0.751,
           0.75,
           0.748,
           0.747,
           0.746,
           0.746,
           0.744,
           0.739,
           0.738,
           0.737,
           0.737,
           0.732,
           0.732,
           0.729,
           0.717,
           0.714,
           0.71367,
           0.713,
           0.712,
           0.712,
           0.702,
           0.701,
           0.701,
           0.697,
           0.695,
           0.695,
           0.695,
           0.694,
           0.694,
           0.693,
           0.692,
           0.6915,
           0.691,
           0.69,
           0.69,
           0.68975,
           0.6895,
           0.689,
           0.688,
           0.688,
           0.688,
           0.688,
           0.6875,
           0.6855,
           0.685,
           0.685,
           0.684,
           0.682,
           0.681,
           0.681,
           0.68,
           0.68,
           0.679,
           0.677,
           0.677,
           0.677,
           0.67633,
           0.676,
           0.676,
           0.675,
           0.675,
           0.674,
           0.673,
           0.673,
           0.672,
           0.672,
           0.671,
           0.67,
           0.67,
           0.669,
           0.669,
           0.6685,
           0.667,
           0.667,
           0.666,
           0.665,
           0.664,
           0.664,
           0.663,
           0.663,
           0.661,
           0.661,
           0.661,
           0.66,
           0.658,
           0.658,
           0.658,
           0.65767,
           0.657,
           0.656,
           0.655,
           0.655,
           0.654,
           0.654,
           0.651,
           0.6505,
           0.648,
           0.647,
           0.645,
           0.644,
           0.643,
           0.642,
           0.642,
           0.642,
           0.6405,
           0.64,
           0.64,
           0.639,
           0.635,
           0.634,
           0.63367,
           0.63,
           0.628,
           0.62675,
           0.626,
           0.625,
           0.622,
           0.621,
           0.6195,
           0.6185,
           0.617,
           0.6145,
           0.613,
           0.612,
           0.61078,
           0.609,
           0.608,
           0.608,
           0.6065,
           0.606,
           0.603,
           0.603,
           0.6,
           0.6,
           0.6,
           0.599,
           0.5985,
           0.59788,
           0.5965,
           0.596,
           0.593,
           0.59244,
           0.592,
           0.588,
           0.587,
           0.586,
           0.578,
           0.576,
           0.5755,
           0.575,
           0.57375,
           0.5735,
           0.573,
           0.573,
           0.573,
           0.5725,
           0.571,
           0.569,
           0.567,
           0.566,
           0.565,
           0.56,
           0.56,
           0.556,
           0.55367,
           0.5535,
           0.55333,
           0.552,
           0.548,
           0.547,
           0.54667,
           0.546,
           0.54567,
           0.5455,
           0.544,
           0.54367,
           0.5435,
           0.54333,
           0.543,
           0.543,
           0.5415,
           0.54,
           0.5398,
           0.539
          ],
          "sizemode": "area",
          "sizeref": 0.0021225,
          "symbol": "circle"
         },
         "mode": "markers",
         "name": "",
         "orientation": "v",
         "showlegend": false,
         "type": "scatter",
         "x": [
          "meiofaunal biodiversity",
          "trace metals",
          "meridional overturning circulation",
          "cyber-physical systems",
          "high-end computing",
          "large-scale networking",
          "sea level rise",
          "estuarine ecosystems",
          "climate variability",
          "biogeochemical processes",
          "meiofaunal communities",
          "information technology research",
          "trace elements",
          "Atlantic Ocean",
          "big data",
          "biodiversity-ecosystem functioning",
          "faunal species richness",
          "Antarctic Ice Sheet",
          "first-order control",
          "climate system",
          "subsurface biogeochemical processes",
          "important estuarine species",
          "trace metal cycles",
          "degree of fractionation",
          "trace metal concentrations",
          "high-resolution model",
          "marine environment",
          "rare earth elements",
          "global human activities",
          "ice sheet",
          "high confidence software",
          "food chain process",
          "ecosystem functioning",
          "lower alpha diversity",
          "human-computer interaction",
          "water column processes",
          "morphological approach",
          "important process",
          "Genome Sequence Resource",
          "biodiversity assessment",
          "overturning circulation",
          "transitional habitats",
          "regulation of carbon",
          "ocean interior",
          "meiofaunal diversity",
          "surface productivity",
          "community composition",
          "West Antarctica",
          "subsurface sources",
          "Pacific Ocean",
          "ecological hypotheses",
          "marine ecosystems",
          "level rise",
          "nematode taxa",
          "oceanic distribution",
          "biological productivity",
          "West Pacific",
          "New molecular genetic methods",
          "seismic techniques",
          "sea level",
          "most estuaries",
          "ecological relationships",
          "estuarine species",
          "alpha diversity",
          "earth elements",
          "abiotic processes",
          "dissolved metals",
          "surface ecosystems",
          "species richness",
          "deep sea",
          "fractionation processes",
          "biodiversity systems",
          "ecosystem processes",
          "data coverage",
          "animals/m2",
          "species of nematodes",
          "meiofaunal organisms",
          "stability of sediments",
          "research ship",
          "scavenging process",
          "human activities",
          "ecological studies",
          "secondary production",
          "resolution model",
          "stratosphere",
          "technology research",
          "metal cycles",
          "process studies",
          "modeling experiments",
          "molecular genetic methods",
          "pollutant distribution",
          "substrate type",
          "health information technology research",
          "administrative staff support",
          "freshwater interface",
          "sediment composition",
          "information assurance",
          "computer interaction",
          "software design",
          "food webs",
          "cyber security",
          "volcanism",
          "skilled taxonomists",
          "marine sediments",
          "sandy sediments",
          "IT services",
          "metal concentrations",
          "sulfur cycling",
          "phytoplankton populations",
          "physical processes",
          "order control",
          "stars",
          "sequence resources",
          "upwelling",
          "micronutrient metals",
          "meiofaunal samples",
          "information management",
          "troposphere",
          "estuary",
          "temporal composition",
          "future evolution",
          "financial management services",
          "taxonomic approach",
          "eruption",
          "extinct species",
          "water samples",
          "Earth system",
          "key metals",
          "DNA sequences",
          "biodiversity",
          "different species",
          "genetic methods",
          "bioinformatics framework",
          "meiofauna",
          "environmental changes",
          "data sets",
          "parallel sequencing",
          "margin",
          "IT capability",
          "morphological similarity",
          "Ocean",
          "crust",
          "seawater",
          "novel sequences",
          "circulation",
          "genes",
          "low abundance",
          "sequencing methods",
          "development organizations",
          "Office of Science",
          "management services",
          "metal abundance",
          "genome",
          "ecosystems",
          "Pacific",
          "complimentary datasets",
          "birds",
          "climate change",
          "subject matter expertise",
          "deconvolution results",
          "melting",
          "physical systems",
          "Antarctica",
          "cycling mechanism",
          "system administration",
          "ice",
          "networking",
          "weather",
          "Sea",
          "development efforts",
          "organ of balance",
          "warming",
          "significant component",
          "matter expertise",
          "natural cycle",
          "anomalies",
          "one's interpretation",
          "internal processes",
          "West",
          "standard cloning",
          "taxa",
          "management strategies",
          "global change",
          "IT",
          "short strands",
          "policy makers",
          "universe",
          "Project Office",
          "bed",
          "magma",
          "abundance",
          "satellite",
          "global population",
          "planets",
          "macrofauna",
          "MPS technology",
          "cosmology",
          "column process",
          "variability",
          "hydrodynamic model"
         ],
         "xaxis": "x",
         "y": [
          2,
          2,
          2,
          2,
          2,
          2,
          3,
          2,
          2,
          2,
          2,
          4,
          2,
          2,
          2,
          2,
          2,
          2,
          2,
          2,
          2,
          2,
          2,
          2,
          2,
          2,
          2,
          2,
          2,
          3,
          2,
          2,
          3,
          2,
          2,
          2,
          2,
          2,
          2,
          2,
          2,
          2,
          2,
          3,
          2,
          2,
          2,
          2,
          2,
          3,
          2,
          4,
          2,
          2,
          2,
          2,
          2,
          2,
          2,
          2,
          2,
          2,
          2,
          2,
          2,
          2,
          2,
          2,
          3,
          2,
          2,
          2,
          3,
          2,
          2,
          2,
          2,
          2,
          3,
          2,
          4,
          2,
          2,
          2,
          2,
          4,
          2,
          2,
          2,
          2,
          2,
          2,
          2,
          2,
          2,
          2,
          2,
          2,
          2,
          2,
          2,
          2,
          2,
          3,
          2,
          2,
          2,
          2,
          2,
          2,
          2,
          2,
          2,
          2,
          2,
          2,
          2,
          2,
          2,
          2,
          2,
          2,
          2,
          2,
          2,
          2,
          3,
          2,
          2,
          4,
          2,
          2,
          2,
          2,
          2,
          2,
          3,
          2,
          2,
          3,
          9,
          2,
          2,
          2,
          2,
          2,
          2,
          2,
          2,
          2,
          2,
          2,
          2,
          8,
          2,
          2,
          2,
          9,
          2,
          2,
          2,
          2,
          2,
          2,
          2,
          3,
          4,
          2,
          4,
          2,
          2,
          2,
          2,
          2,
          2,
          2,
          2,
          2,
          2,
          2,
          3,
          2,
          3,
          2,
          2,
          3,
          3,
          2,
          3,
          2,
          2,
          3,
          2,
          3,
          2,
          2,
          2,
          2,
          5,
          2
         ],
         "yaxis": "y"
        }
       ],
       "layout": {
        "coloraxis": {
         "colorbar": {
          "title": {
           "text": "score_avg"
          }
         },
         "colorscale": [
          [
           0,
           "#0d0887"
          ],
          [
           0.1111111111111111,
           "#46039f"
          ],
          [
           0.2222222222222222,
           "#7201a8"
          ],
          [
           0.3333333333333333,
           "#9c179e"
          ],
          [
           0.4444444444444444,
           "#bd3786"
          ],
          [
           0.5555555555555556,
           "#d8576b"
          ],
          [
           0.6666666666666666,
           "#ed7953"
          ],
          [
           0.7777777777777778,
           "#fb9f3a"
          ],
          [
           0.8888888888888888,
           "#fdca26"
          ],
          [
           1,
           "#f0f921"
          ]
         ]
        },
        "height": 700,
        "legend": {
         "itemsizing": "constant",
         "tracegroupgap": 0
        },
        "margin": {
         "t": 60
        },
        "template": {
         "data": {
          "bar": [
           {
            "error_x": {
             "color": "#2a3f5f"
            },
            "error_y": {
             "color": "#2a3f5f"
            },
            "marker": {
             "line": {
              "color": "#E5ECF6",
              "width": 0.5
             },
             "pattern": {
              "fillmode": "overlay",
              "size": 10,
              "solidity": 0.2
             }
            },
            "type": "bar"
           }
          ],
          "barpolar": [
           {
            "marker": {
             "line": {
              "color": "#E5ECF6",
              "width": 0.5
             },
             "pattern": {
              "fillmode": "overlay",
              "size": 10,
              "solidity": 0.2
             }
            },
            "type": "barpolar"
           }
          ],
          "carpet": [
           {
            "aaxis": {
             "endlinecolor": "#2a3f5f",
             "gridcolor": "white",
             "linecolor": "white",
             "minorgridcolor": "white",
             "startlinecolor": "#2a3f5f"
            },
            "baxis": {
             "endlinecolor": "#2a3f5f",
             "gridcolor": "white",
             "linecolor": "white",
             "minorgridcolor": "white",
             "startlinecolor": "#2a3f5f"
            },
            "type": "carpet"
           }
          ],
          "choropleth": [
           {
            "colorbar": {
             "outlinewidth": 0,
             "ticks": ""
            },
            "type": "choropleth"
           }
          ],
          "contour": [
           {
            "colorbar": {
             "outlinewidth": 0,
             "ticks": ""
            },
            "colorscale": [
             [
              0,
              "#0d0887"
             ],
             [
              0.1111111111111111,
              "#46039f"
             ],
             [
              0.2222222222222222,
              "#7201a8"
             ],
             [
              0.3333333333333333,
              "#9c179e"
             ],
             [
              0.4444444444444444,
              "#bd3786"
             ],
             [
              0.5555555555555556,
              "#d8576b"
             ],
             [
              0.6666666666666666,
              "#ed7953"
             ],
             [
              0.7777777777777778,
              "#fb9f3a"
             ],
             [
              0.8888888888888888,
              "#fdca26"
             ],
             [
              1,
              "#f0f921"
             ]
            ],
            "type": "contour"
           }
          ],
          "contourcarpet": [
           {
            "colorbar": {
             "outlinewidth": 0,
             "ticks": ""
            },
            "type": "contourcarpet"
           }
          ],
          "heatmap": [
           {
            "colorbar": {
             "outlinewidth": 0,
             "ticks": ""
            },
            "colorscale": [
             [
              0,
              "#0d0887"
             ],
             [
              0.1111111111111111,
              "#46039f"
             ],
             [
              0.2222222222222222,
              "#7201a8"
             ],
             [
              0.3333333333333333,
              "#9c179e"
             ],
             [
              0.4444444444444444,
              "#bd3786"
             ],
             [
              0.5555555555555556,
              "#d8576b"
             ],
             [
              0.6666666666666666,
              "#ed7953"
             ],
             [
              0.7777777777777778,
              "#fb9f3a"
             ],
             [
              0.8888888888888888,
              "#fdca26"
             ],
             [
              1,
              "#f0f921"
             ]
            ],
            "type": "heatmap"
           }
          ],
          "heatmapgl": [
           {
            "colorbar": {
             "outlinewidth": 0,
             "ticks": ""
            },
            "colorscale": [
             [
              0,
              "#0d0887"
             ],
             [
              0.1111111111111111,
              "#46039f"
             ],
             [
              0.2222222222222222,
              "#7201a8"
             ],
             [
              0.3333333333333333,
              "#9c179e"
             ],
             [
              0.4444444444444444,
              "#bd3786"
             ],
             [
              0.5555555555555556,
              "#d8576b"
             ],
             [
              0.6666666666666666,
              "#ed7953"
             ],
             [
              0.7777777777777778,
              "#fb9f3a"
             ],
             [
              0.8888888888888888,
              "#fdca26"
             ],
             [
              1,
              "#f0f921"
             ]
            ],
            "type": "heatmapgl"
           }
          ],
          "histogram": [
           {
            "marker": {
             "pattern": {
              "fillmode": "overlay",
              "size": 10,
              "solidity": 0.2
             }
            },
            "type": "histogram"
           }
          ],
          "histogram2d": [
           {
            "colorbar": {
             "outlinewidth": 0,
             "ticks": ""
            },
            "colorscale": [
             [
              0,
              "#0d0887"
             ],
             [
              0.1111111111111111,
              "#46039f"
             ],
             [
              0.2222222222222222,
              "#7201a8"
             ],
             [
              0.3333333333333333,
              "#9c179e"
             ],
             [
              0.4444444444444444,
              "#bd3786"
             ],
             [
              0.5555555555555556,
              "#d8576b"
             ],
             [
              0.6666666666666666,
              "#ed7953"
             ],
             [
              0.7777777777777778,
              "#fb9f3a"
             ],
             [
              0.8888888888888888,
              "#fdca26"
             ],
             [
              1,
              "#f0f921"
             ]
            ],
            "type": "histogram2d"
           }
          ],
          "histogram2dcontour": [
           {
            "colorbar": {
             "outlinewidth": 0,
             "ticks": ""
            },
            "colorscale": [
             [
              0,
              "#0d0887"
             ],
             [
              0.1111111111111111,
              "#46039f"
             ],
             [
              0.2222222222222222,
              "#7201a8"
             ],
             [
              0.3333333333333333,
              "#9c179e"
             ],
             [
              0.4444444444444444,
              "#bd3786"
             ],
             [
              0.5555555555555556,
              "#d8576b"
             ],
             [
              0.6666666666666666,
              "#ed7953"
             ],
             [
              0.7777777777777778,
              "#fb9f3a"
             ],
             [
              0.8888888888888888,
              "#fdca26"
             ],
             [
              1,
              "#f0f921"
             ]
            ],
            "type": "histogram2dcontour"
           }
          ],
          "mesh3d": [
           {
            "colorbar": {
             "outlinewidth": 0,
             "ticks": ""
            },
            "type": "mesh3d"
           }
          ],
          "parcoords": [
           {
            "line": {
             "colorbar": {
              "outlinewidth": 0,
              "ticks": ""
             }
            },
            "type": "parcoords"
           }
          ],
          "pie": [
           {
            "automargin": true,
            "type": "pie"
           }
          ],
          "scatter": [
           {
            "fillpattern": {
             "fillmode": "overlay",
             "size": 10,
             "solidity": 0.2
            },
            "type": "scatter"
           }
          ],
          "scatter3d": [
           {
            "line": {
             "colorbar": {
              "outlinewidth": 0,
              "ticks": ""
             }
            },
            "marker": {
             "colorbar": {
              "outlinewidth": 0,
              "ticks": ""
             }
            },
            "type": "scatter3d"
           }
          ],
          "scattercarpet": [
           {
            "marker": {
             "colorbar": {
              "outlinewidth": 0,
              "ticks": ""
             }
            },
            "type": "scattercarpet"
           }
          ],
          "scattergeo": [
           {
            "marker": {
             "colorbar": {
              "outlinewidth": 0,
              "ticks": ""
             }
            },
            "type": "scattergeo"
           }
          ],
          "scattergl": [
           {
            "marker": {
             "colorbar": {
              "outlinewidth": 0,
              "ticks": ""
             }
            },
            "type": "scattergl"
           }
          ],
          "scattermapbox": [
           {
            "marker": {
             "colorbar": {
              "outlinewidth": 0,
              "ticks": ""
             }
            },
            "type": "scattermapbox"
           }
          ],
          "scatterpolar": [
           {
            "marker": {
             "colorbar": {
              "outlinewidth": 0,
              "ticks": ""
             }
            },
            "type": "scatterpolar"
           }
          ],
          "scatterpolargl": [
           {
            "marker": {
             "colorbar": {
              "outlinewidth": 0,
              "ticks": ""
             }
            },
            "type": "scatterpolargl"
           }
          ],
          "scatterternary": [
           {
            "marker": {
             "colorbar": {
              "outlinewidth": 0,
              "ticks": ""
             }
            },
            "type": "scatterternary"
           }
          ],
          "surface": [
           {
            "colorbar": {
             "outlinewidth": 0,
             "ticks": ""
            },
            "colorscale": [
             [
              0,
              "#0d0887"
             ],
             [
              0.1111111111111111,
              "#46039f"
             ],
             [
              0.2222222222222222,
              "#7201a8"
             ],
             [
              0.3333333333333333,
              "#9c179e"
             ],
             [
              0.4444444444444444,
              "#bd3786"
             ],
             [
              0.5555555555555556,
              "#d8576b"
             ],
             [
              0.6666666666666666,
              "#ed7953"
             ],
             [
              0.7777777777777778,
              "#fb9f3a"
             ],
             [
              0.8888888888888888,
              "#fdca26"
             ],
             [
              1,
              "#f0f921"
             ]
            ],
            "type": "surface"
           }
          ],
          "table": [
           {
            "cells": {
             "fill": {
              "color": "#EBF0F8"
             },
             "line": {
              "color": "white"
             }
            },
            "header": {
             "fill": {
              "color": "#C8D4E3"
             },
             "line": {
              "color": "white"
             }
            },
            "type": "table"
           }
          ]
         },
         "layout": {
          "annotationdefaults": {
           "arrowcolor": "#2a3f5f",
           "arrowhead": 0,
           "arrowwidth": 1
          },
          "autotypenumbers": "strict",
          "coloraxis": {
           "colorbar": {
            "outlinewidth": 0,
            "ticks": ""
           }
          },
          "colorscale": {
           "diverging": [
            [
             0,
             "#8e0152"
            ],
            [
             0.1,
             "#c51b7d"
            ],
            [
             0.2,
             "#de77ae"
            ],
            [
             0.3,
             "#f1b6da"
            ],
            [
             0.4,
             "#fde0ef"
            ],
            [
             0.5,
             "#f7f7f7"
            ],
            [
             0.6,
             "#e6f5d0"
            ],
            [
             0.7,
             "#b8e186"
            ],
            [
             0.8,
             "#7fbc41"
            ],
            [
             0.9,
             "#4d9221"
            ],
            [
             1,
             "#276419"
            ]
           ],
           "sequential": [
            [
             0,
             "#0d0887"
            ],
            [
             0.1111111111111111,
             "#46039f"
            ],
            [
             0.2222222222222222,
             "#7201a8"
            ],
            [
             0.3333333333333333,
             "#9c179e"
            ],
            [
             0.4444444444444444,
             "#bd3786"
            ],
            [
             0.5555555555555556,
             "#d8576b"
            ],
            [
             0.6666666666666666,
             "#ed7953"
            ],
            [
             0.7777777777777778,
             "#fb9f3a"
            ],
            [
             0.8888888888888888,
             "#fdca26"
            ],
            [
             1,
             "#f0f921"
            ]
           ],
           "sequentialminus": [
            [
             0,
             "#0d0887"
            ],
            [
             0.1111111111111111,
             "#46039f"
            ],
            [
             0.2222222222222222,
             "#7201a8"
            ],
            [
             0.3333333333333333,
             "#9c179e"
            ],
            [
             0.4444444444444444,
             "#bd3786"
            ],
            [
             0.5555555555555556,
             "#d8576b"
            ],
            [
             0.6666666666666666,
             "#ed7953"
            ],
            [
             0.7777777777777778,
             "#fb9f3a"
            ],
            [
             0.8888888888888888,
             "#fdca26"
            ],
            [
             1,
             "#f0f921"
            ]
           ]
          },
          "colorway": [
           "#636efa",
           "#EF553B",
           "#00cc96",
           "#ab63fa",
           "#FFA15A",
           "#19d3f3",
           "#FF6692",
           "#B6E880",
           "#FF97FF",
           "#FECB52"
          ],
          "font": {
           "color": "#2a3f5f"
          },
          "geo": {
           "bgcolor": "white",
           "lakecolor": "white",
           "landcolor": "#E5ECF6",
           "showlakes": true,
           "showland": true,
           "subunitcolor": "white"
          },
          "hoverlabel": {
           "align": "left"
          },
          "hovermode": "closest",
          "mapbox": {
           "style": "light"
          },
          "paper_bgcolor": "white",
          "plot_bgcolor": "#E5ECF6",
          "polar": {
           "angularaxis": {
            "gridcolor": "white",
            "linecolor": "white",
            "ticks": ""
           },
           "bgcolor": "#E5ECF6",
           "radialaxis": {
            "gridcolor": "white",
            "linecolor": "white",
            "ticks": ""
           }
          },
          "scene": {
           "xaxis": {
            "backgroundcolor": "#E5ECF6",
            "gridcolor": "white",
            "gridwidth": 2,
            "linecolor": "white",
            "showbackground": true,
            "ticks": "",
            "zerolinecolor": "white"
           },
           "yaxis": {
            "backgroundcolor": "#E5ECF6",
            "gridcolor": "white",
            "gridwidth": 2,
            "linecolor": "white",
            "showbackground": true,
            "ticks": "",
            "zerolinecolor": "white"
           },
           "zaxis": {
            "backgroundcolor": "#E5ECF6",
            "gridcolor": "white",
            "gridwidth": 2,
            "linecolor": "white",
            "showbackground": true,
            "ticks": "",
            "zerolinecolor": "white"
           }
          },
          "shapedefaults": {
           "line": {
            "color": "#2a3f5f"
           }
          },
          "ternary": {
           "aaxis": {
            "gridcolor": "white",
            "linecolor": "white",
            "ticks": ""
           },
           "baxis": {
            "gridcolor": "white",
            "linecolor": "white",
            "ticks": ""
           },
           "bgcolor": "#E5ECF6",
           "caxis": {
            "gridcolor": "white",
            "linecolor": "white",
            "ticks": ""
           }
          },
          "title": {
           "x": 0.05
          },
          "xaxis": {
           "automargin": true,
           "gridcolor": "white",
           "linecolor": "white",
           "ticks": "",
           "title": {
            "standoff": 15
           },
           "zerolinecolor": "white",
           "zerolinewidth": 2
          },
          "yaxis": {
           "automargin": true,
           "gridcolor": "white",
           "linecolor": "white",
           "ticks": "",
           "title": {
            "standoff": 15
           },
           "zerolinecolor": "white",
           "zerolinewidth": 2
          }
         }
        },
        "xaxis": {
         "anchor": "y",
         "domain": [
          0,
          1
         ],
         "title": {
          "text": "concept"
         }
        },
        "yaxis": {
         "anchor": "x",
         "domain": [
          0,
          1
         ],
         "title": {
          "text": "frequency"
         }
        }
       }
      },
      "text/html": [
       "<div>                            <div id=\"158b872e-50a8-4d2d-9434-2146652d7fa7\" class=\"plotly-graph-div\" style=\"height:700px; width:100%;\"></div>            <script type=\"text/javascript\">                require([\"plotly\"], function(Plotly) {                    window.PLOTLYENV=window.PLOTLYENV || {};                                    if (document.getElementById(\"158b872e-50a8-4d2d-9434-2146652d7fa7\")) {                    Plotly.newPlot(                        \"158b872e-50a8-4d2d-9434-2146652d7fa7\",                        [{\"hovertemplate\":\"concept=%{x}\\u003cbr\\u003efrequency=%{y}\\u003cbr\\u003escore_avg=%{marker.color}\\u003cextra\\u003e\\u003c\\u002fextra\\u003e\",\"legendgroup\":\"\",\"marker\":{\"color\":[0.849,0.844,0.839,0.827,0.82,0.817,0.803,0.803,0.8015,0.797,0.794,0.7935,0.78,0.7635,0.762,0.754,0.751,0.75,0.748,0.747,0.746,0.746,0.744,0.739,0.738,0.737,0.737,0.732,0.732,0.729,0.717,0.714,0.71367,0.713,0.712,0.712,0.702,0.701,0.701,0.697,0.695,0.695,0.695,0.694,0.694,0.693,0.692,0.6915,0.691,0.69,0.69,0.68975,0.6895,0.689,0.688,0.688,0.688,0.688,0.6875,0.6855,0.685,0.685,0.684,0.682,0.681,0.681,0.68,0.68,0.679,0.677,0.677,0.677,0.67633,0.676,0.676,0.675,0.675,0.674,0.673,0.673,0.672,0.672,0.671,0.67,0.67,0.669,0.669,0.6685,0.667,0.667,0.666,0.665,0.664,0.664,0.663,0.663,0.661,0.661,0.661,0.66,0.658,0.658,0.658,0.65767,0.657,0.656,0.655,0.655,0.654,0.654,0.651,0.6505,0.648,0.647,0.645,0.644,0.643,0.642,0.642,0.642,0.6405,0.64,0.64,0.639,0.635,0.634,0.63367,0.63,0.628,0.62675,0.626,0.625,0.622,0.621,0.6195,0.6185,0.617,0.6145,0.613,0.612,0.61078,0.609,0.608,0.608,0.6065,0.606,0.603,0.603,0.6,0.6,0.6,0.599,0.5985,0.59788,0.5965,0.596,0.593,0.59244,0.592,0.588,0.587,0.586,0.578,0.576,0.5755,0.575,0.57375,0.5735,0.573,0.573,0.573,0.5725,0.571,0.569,0.567,0.566,0.565,0.56,0.56,0.556,0.55367,0.5535,0.55333,0.552,0.548,0.547,0.54667,0.546,0.54567,0.5455,0.544,0.54367,0.5435,0.54333,0.543,0.543,0.5415,0.54,0.5398,0.539],\"coloraxis\":\"coloraxis\",\"size\":[0.849,0.844,0.839,0.827,0.82,0.817,0.803,0.803,0.8015,0.797,0.794,0.7935,0.78,0.7635,0.762,0.754,0.751,0.75,0.748,0.747,0.746,0.746,0.744,0.739,0.738,0.737,0.737,0.732,0.732,0.729,0.717,0.714,0.71367,0.713,0.712,0.712,0.702,0.701,0.701,0.697,0.695,0.695,0.695,0.694,0.694,0.693,0.692,0.6915,0.691,0.69,0.69,0.68975,0.6895,0.689,0.688,0.688,0.688,0.688,0.6875,0.6855,0.685,0.685,0.684,0.682,0.681,0.681,0.68,0.68,0.679,0.677,0.677,0.677,0.67633,0.676,0.676,0.675,0.675,0.674,0.673,0.673,0.672,0.672,0.671,0.67,0.67,0.669,0.669,0.6685,0.667,0.667,0.666,0.665,0.664,0.664,0.663,0.663,0.661,0.661,0.661,0.66,0.658,0.658,0.658,0.65767,0.657,0.656,0.655,0.655,0.654,0.654,0.651,0.6505,0.648,0.647,0.645,0.644,0.643,0.642,0.642,0.642,0.6405,0.64,0.64,0.639,0.635,0.634,0.63367,0.63,0.628,0.62675,0.626,0.625,0.622,0.621,0.6195,0.6185,0.617,0.6145,0.613,0.612,0.61078,0.609,0.608,0.608,0.6065,0.606,0.603,0.603,0.6,0.6,0.6,0.599,0.5985,0.59788,0.5965,0.596,0.593,0.59244,0.592,0.588,0.587,0.586,0.578,0.576,0.5755,0.575,0.57375,0.5735,0.573,0.573,0.573,0.5725,0.571,0.569,0.567,0.566,0.565,0.56,0.56,0.556,0.55367,0.5535,0.55333,0.552,0.548,0.547,0.54667,0.546,0.54567,0.5455,0.544,0.54367,0.5435,0.54333,0.543,0.543,0.5415,0.54,0.5398,0.539],\"sizemode\":\"area\",\"sizeref\":0.0021225,\"symbol\":\"circle\"},\"mode\":\"markers\",\"name\":\"\",\"orientation\":\"v\",\"showlegend\":false,\"x\":[\"meiofaunal biodiversity\",\"trace metals\",\"meridional overturning circulation\",\"cyber-physical systems\",\"high-end computing\",\"large-scale networking\",\"sea level rise\",\"estuarine ecosystems\",\"climate variability\",\"biogeochemical processes\",\"meiofaunal communities\",\"information technology research\",\"trace elements\",\"Atlantic Ocean\",\"big data\",\"biodiversity-ecosystem functioning\",\"faunal species richness\",\"Antarctic Ice Sheet\",\"first-order control\",\"climate system\",\"subsurface biogeochemical processes\",\"important estuarine species\",\"trace metal cycles\",\"degree of fractionation\",\"trace metal concentrations\",\"high-resolution model\",\"marine environment\",\"rare earth elements\",\"global human activities\",\"ice sheet\",\"high confidence software\",\"food chain process\",\"ecosystem functioning\",\"lower alpha diversity\",\"human-computer interaction\",\"water column processes\",\"morphological approach\",\"important process\",\"Genome Sequence Resource\",\"biodiversity assessment\",\"overturning circulation\",\"transitional habitats\",\"regulation of carbon\",\"ocean interior\",\"meiofaunal diversity\",\"surface productivity\",\"community composition\",\"West Antarctica\",\"subsurface sources\",\"Pacific Ocean\",\"ecological hypotheses\",\"marine ecosystems\",\"level rise\",\"nematode taxa\",\"oceanic distribution\",\"biological productivity\",\"West Pacific\",\"New molecular genetic methods\",\"seismic techniques\",\"sea level\",\"most estuaries\",\"ecological relationships\",\"estuarine species\",\"alpha diversity\",\"earth elements\",\"abiotic processes\",\"dissolved metals\",\"surface ecosystems\",\"species richness\",\"deep sea\",\"fractionation processes\",\"biodiversity systems\",\"ecosystem processes\",\"data coverage\",\"animals\\u002fm2\",\"species of nematodes\",\"meiofaunal organisms\",\"stability of sediments\",\"research ship\",\"scavenging process\",\"human activities\",\"ecological studies\",\"secondary production\",\"resolution model\",\"stratosphere\",\"technology research\",\"metal cycles\",\"process studies\",\"modeling experiments\",\"molecular genetic methods\",\"pollutant distribution\",\"substrate type\",\"health information technology research\",\"administrative staff support\",\"freshwater interface\",\"sediment composition\",\"information assurance\",\"computer interaction\",\"software design\",\"food webs\",\"cyber security\",\"volcanism\",\"skilled taxonomists\",\"marine sediments\",\"sandy sediments\",\"IT services\",\"metal concentrations\",\"sulfur cycling\",\"phytoplankton populations\",\"physical processes\",\"order control\",\"stars\",\"sequence resources\",\"upwelling\",\"micronutrient metals\",\"meiofaunal samples\",\"information management\",\"troposphere\",\"estuary\",\"temporal composition\",\"future evolution\",\"financial management services\",\"taxonomic approach\",\"eruption\",\"extinct species\",\"water samples\",\"Earth system\",\"key metals\",\"DNA sequences\",\"biodiversity\",\"different species\",\"genetic methods\",\"bioinformatics framework\",\"meiofauna\",\"environmental changes\",\"data sets\",\"parallel sequencing\",\"margin\",\"IT capability\",\"morphological similarity\",\"Ocean\",\"crust\",\"seawater\",\"novel sequences\",\"circulation\",\"genes\",\"low abundance\",\"sequencing methods\",\"development organizations\",\"Office of Science\",\"management services\",\"metal abundance\",\"genome\",\"ecosystems\",\"Pacific\",\"complimentary datasets\",\"birds\",\"climate change\",\"subject matter expertise\",\"deconvolution results\",\"melting\",\"physical systems\",\"Antarctica\",\"cycling mechanism\",\"system administration\",\"ice\",\"networking\",\"weather\",\"Sea\",\"development efforts\",\"organ of balance\",\"warming\",\"significant component\",\"matter expertise\",\"natural cycle\",\"anomalies\",\"one's interpretation\",\"internal processes\",\"West\",\"standard cloning\",\"taxa\",\"management strategies\",\"global change\",\"IT\",\"short strands\",\"policy makers\",\"universe\",\"Project Office\",\"bed\",\"magma\",\"abundance\",\"satellite\",\"global population\",\"planets\",\"macrofauna\",\"MPS technology\",\"cosmology\",\"column process\",\"variability\",\"hydrodynamic model\"],\"xaxis\":\"x\",\"y\":[2,2,2,2,2,2,3,2,2,2,2,4,2,2,2,2,2,2,2,2,2,2,2,2,2,2,2,2,2,3,2,2,3,2,2,2,2,2,2,2,2,2,2,3,2,2,2,2,2,3,2,4,2,2,2,2,2,2,2,2,2,2,2,2,2,2,2,2,3,2,2,2,3,2,2,2,2,2,3,2,4,2,2,2,2,4,2,2,2,2,2,2,2,2,2,2,2,2,2,2,2,2,2,3,2,2,2,2,2,2,2,2,2,2,2,2,2,2,2,2,2,2,2,2,2,2,3,2,2,4,2,2,2,2,2,2,3,2,2,3,9,2,2,2,2,2,2,2,2,2,2,2,2,8,2,2,2,9,2,2,2,2,2,2,2,3,4,2,4,2,2,2,2,2,2,2,2,2,2,2,3,2,3,2,2,3,3,2,3,2,2,3,2,3,2,2,2,2,5,2],\"yaxis\":\"y\",\"type\":\"scatter\"}],                        {\"template\":{\"data\":{\"histogram2dcontour\":[{\"type\":\"histogram2dcontour\",\"colorbar\":{\"outlinewidth\":0,\"ticks\":\"\"},\"colorscale\":[[0.0,\"#0d0887\"],[0.1111111111111111,\"#46039f\"],[0.2222222222222222,\"#7201a8\"],[0.3333333333333333,\"#9c179e\"],[0.4444444444444444,\"#bd3786\"],[0.5555555555555556,\"#d8576b\"],[0.6666666666666666,\"#ed7953\"],[0.7777777777777778,\"#fb9f3a\"],[0.8888888888888888,\"#fdca26\"],[1.0,\"#f0f921\"]]}],\"choropleth\":[{\"type\":\"choropleth\",\"colorbar\":{\"outlinewidth\":0,\"ticks\":\"\"}}],\"histogram2d\":[{\"type\":\"histogram2d\",\"colorbar\":{\"outlinewidth\":0,\"ticks\":\"\"},\"colorscale\":[[0.0,\"#0d0887\"],[0.1111111111111111,\"#46039f\"],[0.2222222222222222,\"#7201a8\"],[0.3333333333333333,\"#9c179e\"],[0.4444444444444444,\"#bd3786\"],[0.5555555555555556,\"#d8576b\"],[0.6666666666666666,\"#ed7953\"],[0.7777777777777778,\"#fb9f3a\"],[0.8888888888888888,\"#fdca26\"],[1.0,\"#f0f921\"]]}],\"heatmap\":[{\"type\":\"heatmap\",\"colorbar\":{\"outlinewidth\":0,\"ticks\":\"\"},\"colorscale\":[[0.0,\"#0d0887\"],[0.1111111111111111,\"#46039f\"],[0.2222222222222222,\"#7201a8\"],[0.3333333333333333,\"#9c179e\"],[0.4444444444444444,\"#bd3786\"],[0.5555555555555556,\"#d8576b\"],[0.6666666666666666,\"#ed7953\"],[0.7777777777777778,\"#fb9f3a\"],[0.8888888888888888,\"#fdca26\"],[1.0,\"#f0f921\"]]}],\"heatmapgl\":[{\"type\":\"heatmapgl\",\"colorbar\":{\"outlinewidth\":0,\"ticks\":\"\"},\"colorscale\":[[0.0,\"#0d0887\"],[0.1111111111111111,\"#46039f\"],[0.2222222222222222,\"#7201a8\"],[0.3333333333333333,\"#9c179e\"],[0.4444444444444444,\"#bd3786\"],[0.5555555555555556,\"#d8576b\"],[0.6666666666666666,\"#ed7953\"],[0.7777777777777778,\"#fb9f3a\"],[0.8888888888888888,\"#fdca26\"],[1.0,\"#f0f921\"]]}],\"contourcarpet\":[{\"type\":\"contourcarpet\",\"colorbar\":{\"outlinewidth\":0,\"ticks\":\"\"}}],\"contour\":[{\"type\":\"contour\",\"colorbar\":{\"outlinewidth\":0,\"ticks\":\"\"},\"colorscale\":[[0.0,\"#0d0887\"],[0.1111111111111111,\"#46039f\"],[0.2222222222222222,\"#7201a8\"],[0.3333333333333333,\"#9c179e\"],[0.4444444444444444,\"#bd3786\"],[0.5555555555555556,\"#d8576b\"],[0.6666666666666666,\"#ed7953\"],[0.7777777777777778,\"#fb9f3a\"],[0.8888888888888888,\"#fdca26\"],[1.0,\"#f0f921\"]]}],\"surface\":[{\"type\":\"surface\",\"colorbar\":{\"outlinewidth\":0,\"ticks\":\"\"},\"colorscale\":[[0.0,\"#0d0887\"],[0.1111111111111111,\"#46039f\"],[0.2222222222222222,\"#7201a8\"],[0.3333333333333333,\"#9c179e\"],[0.4444444444444444,\"#bd3786\"],[0.5555555555555556,\"#d8576b\"],[0.6666666666666666,\"#ed7953\"],[0.7777777777777778,\"#fb9f3a\"],[0.8888888888888888,\"#fdca26\"],[1.0,\"#f0f921\"]]}],\"mesh3d\":[{\"type\":\"mesh3d\",\"colorbar\":{\"outlinewidth\":0,\"ticks\":\"\"}}],\"scatter\":[{\"fillpattern\":{\"fillmode\":\"overlay\",\"size\":10,\"solidity\":0.2},\"type\":\"scatter\"}],\"parcoords\":[{\"type\":\"parcoords\",\"line\":{\"colorbar\":{\"outlinewidth\":0,\"ticks\":\"\"}}}],\"scatterpolargl\":[{\"type\":\"scatterpolargl\",\"marker\":{\"colorbar\":{\"outlinewidth\":0,\"ticks\":\"\"}}}],\"bar\":[{\"error_x\":{\"color\":\"#2a3f5f\"},\"error_y\":{\"color\":\"#2a3f5f\"},\"marker\":{\"line\":{\"color\":\"#E5ECF6\",\"width\":0.5},\"pattern\":{\"fillmode\":\"overlay\",\"size\":10,\"solidity\":0.2}},\"type\":\"bar\"}],\"scattergeo\":[{\"type\":\"scattergeo\",\"marker\":{\"colorbar\":{\"outlinewidth\":0,\"ticks\":\"\"}}}],\"scatterpolar\":[{\"type\":\"scatterpolar\",\"marker\":{\"colorbar\":{\"outlinewidth\":0,\"ticks\":\"\"}}}],\"histogram\":[{\"marker\":{\"pattern\":{\"fillmode\":\"overlay\",\"size\":10,\"solidity\":0.2}},\"type\":\"histogram\"}],\"scattergl\":[{\"type\":\"scattergl\",\"marker\":{\"colorbar\":{\"outlinewidth\":0,\"ticks\":\"\"}}}],\"scatter3d\":[{\"type\":\"scatter3d\",\"line\":{\"colorbar\":{\"outlinewidth\":0,\"ticks\":\"\"}},\"marker\":{\"colorbar\":{\"outlinewidth\":0,\"ticks\":\"\"}}}],\"scattermapbox\":[{\"type\":\"scattermapbox\",\"marker\":{\"colorbar\":{\"outlinewidth\":0,\"ticks\":\"\"}}}],\"scatterternary\":[{\"type\":\"scatterternary\",\"marker\":{\"colorbar\":{\"outlinewidth\":0,\"ticks\":\"\"}}}],\"scattercarpet\":[{\"type\":\"scattercarpet\",\"marker\":{\"colorbar\":{\"outlinewidth\":0,\"ticks\":\"\"}}}],\"carpet\":[{\"aaxis\":{\"endlinecolor\":\"#2a3f5f\",\"gridcolor\":\"white\",\"linecolor\":\"white\",\"minorgridcolor\":\"white\",\"startlinecolor\":\"#2a3f5f\"},\"baxis\":{\"endlinecolor\":\"#2a3f5f\",\"gridcolor\":\"white\",\"linecolor\":\"white\",\"minorgridcolor\":\"white\",\"startlinecolor\":\"#2a3f5f\"},\"type\":\"carpet\"}],\"table\":[{\"cells\":{\"fill\":{\"color\":\"#EBF0F8\"},\"line\":{\"color\":\"white\"}},\"header\":{\"fill\":{\"color\":\"#C8D4E3\"},\"line\":{\"color\":\"white\"}},\"type\":\"table\"}],\"barpolar\":[{\"marker\":{\"line\":{\"color\":\"#E5ECF6\",\"width\":0.5},\"pattern\":{\"fillmode\":\"overlay\",\"size\":10,\"solidity\":0.2}},\"type\":\"barpolar\"}],\"pie\":[{\"automargin\":true,\"type\":\"pie\"}]},\"layout\":{\"autotypenumbers\":\"strict\",\"colorway\":[\"#636efa\",\"#EF553B\",\"#00cc96\",\"#ab63fa\",\"#FFA15A\",\"#19d3f3\",\"#FF6692\",\"#B6E880\",\"#FF97FF\",\"#FECB52\"],\"font\":{\"color\":\"#2a3f5f\"},\"hovermode\":\"closest\",\"hoverlabel\":{\"align\":\"left\"},\"paper_bgcolor\":\"white\",\"plot_bgcolor\":\"#E5ECF6\",\"polar\":{\"bgcolor\":\"#E5ECF6\",\"angularaxis\":{\"gridcolor\":\"white\",\"linecolor\":\"white\",\"ticks\":\"\"},\"radialaxis\":{\"gridcolor\":\"white\",\"linecolor\":\"white\",\"ticks\":\"\"}},\"ternary\":{\"bgcolor\":\"#E5ECF6\",\"aaxis\":{\"gridcolor\":\"white\",\"linecolor\":\"white\",\"ticks\":\"\"},\"baxis\":{\"gridcolor\":\"white\",\"linecolor\":\"white\",\"ticks\":\"\"},\"caxis\":{\"gridcolor\":\"white\",\"linecolor\":\"white\",\"ticks\":\"\"}},\"coloraxis\":{\"colorbar\":{\"outlinewidth\":0,\"ticks\":\"\"}},\"colorscale\":{\"sequential\":[[0.0,\"#0d0887\"],[0.1111111111111111,\"#46039f\"],[0.2222222222222222,\"#7201a8\"],[0.3333333333333333,\"#9c179e\"],[0.4444444444444444,\"#bd3786\"],[0.5555555555555556,\"#d8576b\"],[0.6666666666666666,\"#ed7953\"],[0.7777777777777778,\"#fb9f3a\"],[0.8888888888888888,\"#fdca26\"],[1.0,\"#f0f921\"]],\"sequentialminus\":[[0.0,\"#0d0887\"],[0.1111111111111111,\"#46039f\"],[0.2222222222222222,\"#7201a8\"],[0.3333333333333333,\"#9c179e\"],[0.4444444444444444,\"#bd3786\"],[0.5555555555555556,\"#d8576b\"],[0.6666666666666666,\"#ed7953\"],[0.7777777777777778,\"#fb9f3a\"],[0.8888888888888888,\"#fdca26\"],[1.0,\"#f0f921\"]],\"diverging\":[[0,\"#8e0152\"],[0.1,\"#c51b7d\"],[0.2,\"#de77ae\"],[0.3,\"#f1b6da\"],[0.4,\"#fde0ef\"],[0.5,\"#f7f7f7\"],[0.6,\"#e6f5d0\"],[0.7,\"#b8e186\"],[0.8,\"#7fbc41\"],[0.9,\"#4d9221\"],[1,\"#276419\"]]},\"xaxis\":{\"gridcolor\":\"white\",\"linecolor\":\"white\",\"ticks\":\"\",\"title\":{\"standoff\":15},\"zerolinecolor\":\"white\",\"automargin\":true,\"zerolinewidth\":2},\"yaxis\":{\"gridcolor\":\"white\",\"linecolor\":\"white\",\"ticks\":\"\",\"title\":{\"standoff\":15},\"zerolinecolor\":\"white\",\"automargin\":true,\"zerolinewidth\":2},\"scene\":{\"xaxis\":{\"backgroundcolor\":\"#E5ECF6\",\"gridcolor\":\"white\",\"linecolor\":\"white\",\"showbackground\":true,\"ticks\":\"\",\"zerolinecolor\":\"white\",\"gridwidth\":2},\"yaxis\":{\"backgroundcolor\":\"#E5ECF6\",\"gridcolor\":\"white\",\"linecolor\":\"white\",\"showbackground\":true,\"ticks\":\"\",\"zerolinecolor\":\"white\",\"gridwidth\":2},\"zaxis\":{\"backgroundcolor\":\"#E5ECF6\",\"gridcolor\":\"white\",\"linecolor\":\"white\",\"showbackground\":true,\"ticks\":\"\",\"zerolinecolor\":\"white\",\"gridwidth\":2}},\"shapedefaults\":{\"line\":{\"color\":\"#2a3f5f\"}},\"annotationdefaults\":{\"arrowcolor\":\"#2a3f5f\",\"arrowhead\":0,\"arrowwidth\":1},\"geo\":{\"bgcolor\":\"white\",\"landcolor\":\"#E5ECF6\",\"subunitcolor\":\"white\",\"showland\":true,\"showlakes\":true,\"lakecolor\":\"white\"},\"title\":{\"x\":0.05},\"mapbox\":{\"style\":\"light\"}}},\"xaxis\":{\"anchor\":\"y\",\"domain\":[0.0,1.0],\"title\":{\"text\":\"concept\"}},\"yaxis\":{\"anchor\":\"x\",\"domain\":[0.0,1.0],\"title\":{\"text\":\"frequency\"}},\"coloraxis\":{\"colorbar\":{\"title\":{\"text\":\"score_avg\"}},\"colorscale\":[[0.0,\"#0d0887\"],[0.1111111111111111,\"#46039f\"],[0.2222222222222222,\"#7201a8\"],[0.3333333333333333,\"#9c179e\"],[0.4444444444444444,\"#bd3786\"],[0.5555555555555556,\"#d8576b\"],[0.6666666666666666,\"#ed7953\"],[0.7777777777777778,\"#fb9f3a\"],[0.8888888888888888,\"#fdca26\"],[1.0,\"#f0f921\"]]},\"legend\":{\"tracegroupgap\":0,\"itemsizing\":\"constant\"},\"margin\":{\"t\":60},\"height\":700},                        {\"responsive\": true}                    ).then(function(){\n",
       "                            \n",
       "var gd = document.getElementById('158b872e-50a8-4d2d-9434-2146652d7fa7');\n",
       "var x = new MutationObserver(function (mutations, observer) {{\n",
       "        var display = window.getComputedStyle(gd).display;\n",
       "        if (!display || display === 'none') {{\n",
       "            console.log([gd, 'removed!']);\n",
       "            Plotly.purge(gd);\n",
       "            observer.disconnect();\n",
       "        }}\n",
       "}});\n",
       "\n",
       "// Listen for the removal of the full notebook cells\n",
       "var notebookContainer = gd.closest('#notebook-container');\n",
       "if (notebookContainer) {{\n",
       "    x.observe(notebookContainer, {childList: true});\n",
       "}}\n",
       "\n",
       "// Listen for the clearing of the current output cell\n",
       "var outputEl = gd.closest('.output');\n",
       "if (outputEl) {{\n",
       "    x.observe(outputEl, {childList: true});\n",
       "}}\n",
       "\n",
       "                        })                };                });            </script>        </div>"
      ]
     },
     "metadata": {},
     "output_type": "display_data"
    }
   ],
   "source": [
    "#@markdown ## Define the best parameters to isolate 'interesting' concepts\n",
    "#@markdown Frequency: how many documents include a concept (100 = no upper limit).\n",
    "#@markdown Tip: concepts with very high frequencies tend to be common words, so it is useful to exclude them.\n",
    "FREQ_MIN = 2 #@param {type: \"slider\", min: 1, max: 10, step:1}\n",
    "FREQ_MAX = 70 #@param {type: \"slider\", min: 10, max: 100, step:10}\n",
    "#@markdown ---\n",
    "#@markdown Score: the average relevancy score of concepts, for the dataset we extracted above.\n",
    "#@markdown This value tends to be a good indicator of 'interesting' concepts.\n",
    "SCORE_MIN = 0.4  #@param {type: \"slider\", min: 0, max: 1, step:0.1}\n",
    "#@markdown ---\n",
    "#@markdown Select how many concepts to include in the visualization\n",
    "MAX_CONCEPTS = 200 #@param {type: \"slider\", min: 20, max: 1000, step:10}\n",
    "\n",
    "if FREQ_MAX == 100:\n",
    "  FREQ_MAX = 100000000\n",
    "print(f\"\"\"You selected:\\n->{MAX_CONCEPTS}\\n->{FREQ_MIN}-{FREQ_MAX}\\n->{SCORE_MIN}\"\"\")\n",
    "\n",
    "filtered_concepts = concepts_unique.query(f\"\"\"frequency >= {FREQ_MIN} & frequency <= {FREQ_MAX} & score_avg >= {SCORE_MIN} \"\"\")\\\n",
    "                    .sort_values([\"score_avg\", \"frequency\"], ascending=False)[:MAX_CONCEPTS]\n",
    "\n",
    "px.scatter(filtered_concepts,\n",
    "           x=\"concept\",\n",
    "           y=\"frequency\",\n",
    "           height=700,\n",
    "           color=\"score_avg\",\n",
    "           size=\"score_avg\")"
   ]
  },
  {
   "cell_type": "markdown",
   "metadata": {
    "Collapsed": "false",
    "id": "UiSUEjFdKHcW"
   },
   "source": [
    "## 3. Building a word-cloud visualization\n",
    "\n",
    "Wordclouds are often a pretty effective way of summarising the relative importance of keywords. The [wordcloud Python library](https://github.com/amueller/word_cloud) can be used to turn our concepts list into an image. The Wordcloud function takes a list of dictionaries with words/frequency eg\n",
    "\n",
    "```\n",
    "# [\n",
    "#    {'concept': 'study', 'frequency': 5707},\n",
    "#    {'concept': 'patients', 'frequency': 3579}\n",
    "#   ... etc...\n",
    "#. ]\n",
    "```\n",
    "\n",
    "We can obtain that easily from the DSL concepts data:"
   ]
  },
  {
   "cell_type": "code",
   "execution_count": 6,
   "metadata": {
    "Collapsed": "false",
    "colab": {
     "base_uri": "https://localhost:8080/",
     "height": 367
    },
    "id": "WKhsHn6vc1nm",
    "outputId": "c4dc538d-a5d3-429b-dad2-d099ab5d8de7"
   },
   "outputs": [
    {
     "data": {
      "image/png": "[encoded data removed]",
      "text/plain": [
       "<Figure size 640x480 with 1 Axes>"
      ]
     },
     "metadata": {},
     "output_type": "display_data"
    }
   ],
   "source": [
    "# take top N concepts\n",
    "topn = filtered_concepts[['concept', 'frequency']][:300]\n",
    "\n",
    "d = {x['concept'] : x['frequency'] for x in topn.to_dict(orient=\"records\")}\n",
    "\n",
    "wordcloud = WordCloud(width=900, height=600).generate_from_frequencies(d)\n",
    "plt.imshow(wordcloud, interpolation='bilinear')\n",
    "plt.axis(\"off\")\n",
    "plt.savefig(\"topics_wordcloud.png\", dpi=300)"
   ]
  },
  {
   "cell_type": "markdown",
   "metadata": {
    "Collapsed": "false",
    "id": "lYjofWC1U-Vb"
   },
   "source": [
    "## 4. Trend analysis - 'emerging' new topics each year\n",
    "\n",
    "In this section we will look at the concept distribution over the years. In particular, we will focus on the 'new' concepts in each year - i.e. concepts that have never appeared in previous years.\n",
    "\n",
    "This can be easily achieved by adding a new column `first_year`, marking the earliest publication year a concept was found in."
   ]
  },
  {
   "cell_type": "code",
   "execution_count": 6,
   "metadata": {
    "Collapsed": "false",
    "colab": {
     "base_uri": "https://localhost:8080/",
     "height": 617
    },
    "id": "EXVOE3yIUhd0",
    "outputId": "22e70027-6530-455c-81b1-ae71d4fde650"
   },
   "outputs": [
    {
     "data": {
      "application/vnd.plotly.v1+json": {
       "config": {
        "plotlyServerURL": "https://plot.ly"
       },
       "data": [
        {
         "branchvalues": "total",
         "customdata": [
          [
           "such changes"
          ],
          [
           "trace elements"
          ],
          [
           "big data"
          ],
          [
           "rdquo"
          ],
          [
           "technology research"
          ],
          [
           "West Pacific"
          ],
          [
           "stratosphere"
          ],
          [
           "gases"
          ],
          [
           "future evolution"
          ],
          [
           "genes"
          ],
          [
           "seismic techniques"
          ],
          [
           "bed"
          ],
          [
           "Intergovernmental Panel"
          ],
          [
           "climate system"
          ],
          [
           "Atlantic Ocean"
          ],
          [
           "speed"
          ],
          [
           "physical processes"
          ],
          [
           "America"
          ],
          [
           "overarching goal"
          ],
          [
           "crust"
          ],
          [
           "new technique"
          ],
          [
           "margin"
          ],
          [
           "biogeochemical processes"
          ],
          [
           "large-scale networking"
          ],
          [
           "subsurface biogeochemical processes"
          ],
          [
           "rapid changes"
          ],
          [
           "rare earth elements"
          ],
          [
           "system administration"
          ],
          [
           "eruption"
          ],
          [
           "Antarctic Ice Sheet"
          ],
          [
           "data sets"
          ],
          [
           "first-order control"
          ],
          [
           "environmental changes"
          ],
          [
           "Pacific Ocean"
          ],
          [
           "Antarctica"
          ],
          [
           "particular interest"
          ],
          [
           "universe"
          ],
          [
           "troposphere"
          ],
          [
           "trace metal concentrations"
          ],
          [
           "human-computer interaction"
          ],
          [
           "trace metals"
          ],
          [
           "degree of fractionation"
          ],
          [
           "volcanism"
          ],
          [
           "geometry"
          ],
          [
           "Asia"
          ],
          [
           "genome"
          ],
          [
           "web support"
          ],
          [
           "ice sheet"
          ],
          [
           "high confidence software"
          ],
          [
           "climate variability"
          ],
          [
           "trace metal cycles"
          ],
          [
           "resolution model"
          ],
          [
           "high-end computing"
          ],
          [
           "West Antarctica"
          ],
          [
           "cyber-physical systems"
          ],
          [
           "cosmology"
          ],
          [
           "Agency mission"
          ],
          [
           "information technology research"
          ],
          [
           "sea level rise"
          ],
          [
           "high-resolution model"
          ],
          [
           "stars"
          ],
          [
           "(?)"
          ],
          [
           "(?)"
          ],
          [
           "(?)"
          ],
          [
           "(?)"
          ],
          [
           "(?)"
          ],
          [
           "(?)"
          ],
          [
           "(?)"
          ],
          [
           "(?)"
          ],
          [
           "(?)"
          ]
         ],
         "domain": {
          "x": [
           0,
           1
          ],
          "y": [
           0,
           1
          ]
         },
         "hovertemplate": "labels=%{label}<br>frequency=%{value}<br>parent=%{parent}<br>id=%{id}<br>concept=%{customdata[0]}<extra></extra>",
         "ids": [
          "2011/such changes",
          "2015/trace elements",
          "2014/big data",
          "2016/rdquo",
          "2014/technology research",
          "2010/West Pacific",
          "2010/stratosphere",
          "2012/gases",
          "2013/future evolution",
          "2011/genes",
          "2013/seismic techniques",
          "2013/bed",
          "2013/Intergovernmental Panel",
          "2014/climate system",
          "2010/Atlantic Ocean",
          "2017/speed",
          "2010/physical processes",
          "2017/America",
          "2017/overarching goal",
          "2010/crust",
          "2017/new technique",
          "2017/margin",
          "2015/biogeochemical processes",
          "2014/large-scale networking",
          "2015/subsurface biogeochemical processes",
          "2011/rapid changes",
          "2015/rare earth elements",
          "2016/system administration",
          "2010/eruption",
          "2015/Antarctic Ice Sheet",
          "2013/data sets",
          "2015/first-order control",
          "2010/environmental changes",
          "2010/Pacific Ocean",
          "2013/Antarctica",
          "2011/particular interest",
          "2018/universe",
          "2010/troposphere",
          "2015/trace metal concentrations",
          "2014/human-computer interaction",
          "2015/trace metals",
          "2015/degree of fractionation",
          "2010/volcanism",
          "2017/geometry",
          "2012/Asia",
          "2011/genome",
          "2016/web support",
          "2013/ice sheet",
          "2014/high confidence software",
          "2014/climate variability",
          "2015/trace metal cycles",
          "2012/resolution model",
          "2014/high-end computing",
          "2013/West Antarctica",
          "2014/cyber-physical systems",
          "2018/cosmology",
          "2013/Agency mission",
          "2014/information technology research",
          "2013/sea level rise",
          "2012/high-resolution model",
          "2018/stars",
          "2010",
          "2011",
          "2012",
          "2013",
          "2014",
          "2015",
          "2016",
          "2017",
          "2018"
         ],
         "labels": [
          "such changes",
          "trace elements",
          "big data",
          "rdquo",
          "technology research",
          "West Pacific",
          "stratosphere",
          "gases",
          "future evolution",
          "genes",
          "seismic techniques",
          "bed",
          "Intergovernmental Panel",
          "climate system",
          "Atlantic Ocean",
          "speed",
          "physical processes",
          "America",
          "overarching goal",
          "crust",
          "new technique",
          "margin",
          "biogeochemical processes",
          "large-scale networking",
          "subsurface biogeochemical processes",
          "rapid changes",
          "rare earth elements",
          "system administration",
          "eruption",
          "Antarctic Ice Sheet",
          "data sets",
          "first-order control",
          "environmental changes",
          "Pacific Ocean",
          "Antarctica",
          "particular interest",
          "universe",
          "troposphere",
          "trace metal concentrations",
          "human-computer interaction",
          "trace metals",
          "degree of fractionation",
          "volcanism",
          "geometry",
          "Asia",
          "genome",
          "web support",
          "ice sheet",
          "high confidence software",
          "climate variability",
          "trace metal cycles",
          "resolution model",
          "high-end computing",
          "West Antarctica",
          "cyber-physical systems",
          "cosmology",
          "Agency mission",
          "information technology research",
          "sea level rise",
          "high-resolution model",
          "stars",
          "2010",
          "2011",
          "2012",
          "2013",
          "2014",
          "2015",
          "2016",
          "2017",
          "2018"
         ],
         "marker": {
          "colors": [
           "rgb(158,1,66)",
           "rgb(213,62,79)",
           "rgb(244,109,67)",
           "rgb(253,174,97)",
           "rgb(254,224,139)",
           "rgb(255,255,191)",
           "rgb(230,245,152)",
           "rgb(171,221,164)",
           "rgb(102,194,165)",
           "rgb(50,136,189)",
           "rgb(94,79,162)",
           "rgb(158,1,66)",
           "rgb(213,62,79)",
           "rgb(244,109,67)",
           "rgb(253,174,97)",
           "rgb(254,224,139)",
           "rgb(255,255,191)",
           "rgb(230,245,152)",
           "rgb(171,221,164)",
           "rgb(102,194,165)",
           "rgb(50,136,189)",
           "rgb(94,79,162)",
           "rgb(158,1,66)",
           "rgb(213,62,79)",
           "rgb(244,109,67)",
           "rgb(253,174,97)",
           "rgb(254,224,139)",
           "rgb(255,255,191)",
           "rgb(230,245,152)",
           "rgb(171,221,164)",
           "rgb(102,194,165)",
           "rgb(50,136,189)",
           "rgb(94,79,162)",
           "rgb(158,1,66)",
           "rgb(213,62,79)",
           "rgb(244,109,67)",
           "rgb(253,174,97)",
           "rgb(254,224,139)",
           "rgb(255,255,191)",
           "rgb(230,245,152)",
           "rgb(171,221,164)",
           "rgb(102,194,165)",
           "rgb(50,136,189)",
           "rgb(94,79,162)",
           "rgb(158,1,66)",
           "rgb(213,62,79)",
           "rgb(244,109,67)",
           "rgb(253,174,97)",
           "rgb(254,224,139)",
           "rgb(255,255,191)",
           "rgb(230,245,152)",
           "rgb(171,221,164)",
           "rgb(102,194,165)",
           "rgb(50,136,189)",
           "rgb(94,79,162)",
           "rgb(158,1,66)",
           "rgb(213,62,79)",
           "rgb(244,109,67)",
           "rgb(253,174,97)",
           "rgb(254,224,139)",
           "rgb(255,255,191)",
           "rgb(230,245,152)",
           "rgb(230,245,152)",
           "rgb(230,245,152)",
           "rgb(230,245,152)",
           "rgb(230,245,152)",
           "rgb(230,245,152)",
           "rgb(230,245,152)",
           "rgb(230,245,152)",
           "rgb(230,245,152)"
          ]
         },
         "name": "",
         "parents": [
          "2011",
          "2015",
          "2014",
          "2016",
          "2014",
          "2010",
          "2010",
          "2012",
          "2013",
          "2011",
          "2013",
          "2013",
          "2013",
          "2014",
          "2010",
          "2017",
          "2010",
          "2017",
          "2017",
          "2010",
          "2017",
          "2017",
          "2015",
          "2014",
          "2015",
          "2011",
          "2015",
          "2016",
          "2010",
          "2015",
          "2013",
          "2015",
          "2010",
          "2010",
          "2013",
          "2011",
          "2018",
          "2010",
          "2015",
          "2014",
          "2015",
          "2015",
          "2010",
          "2017",
          "2012",
          "2011",
          "2016",
          "2013",
          "2014",
          "2014",
          "2015",
          "2012",
          "2014",
          "2013",
          "2014",
          "2018",
          "2013",
          "2014",
          "2013",
          "2012",
          "2018",
          "",
          "",
          "",
          "",
          "",
          "",
          "",
          "",
          ""
         ],
         "type": "treemap",
         "values": [
          3,
          2,
          2,
          2,
          4,
          2,
          2,
          2,
          2,
          2,
          2,
          3,
          2,
          2,
          2,
          2,
          2,
          2,
          2,
          2,
          2,
          2,
          2,
          2,
          2,
          2,
          2,
          2,
          2,
          2,
          2,
          2,
          2,
          3,
          2,
          2,
          3,
          2,
          2,
          2,
          2,
          2,
          2,
          3,
          2,
          2,
          2,
          3,
          2,
          2,
          2,
          2,
          2,
          2,
          2,
          2,
          2,
          4,
          3,
          2,
          2,
          21,
          11,
          8,
          23,
          24,
          20,
          6,
          13,
          7
         ]
        }
       ],
       "layout": {
        "height": 600,
        "legend": {
         "tracegroupgap": 0
        },
        "template": {
         "data": {
          "bar": [
           {
            "error_x": {
             "color": "#2a3f5f"
            },
            "error_y": {
             "color": "#2a3f5f"
            },
            "marker": {
             "line": {
              "color": "#E5ECF6",
              "width": 0.5
             },
             "pattern": {
              "fillmode": "overlay",
              "size": 10,
              "solidity": 0.2
             }
            },
            "type": "bar"
           }
          ],
          "barpolar": [
           {
            "marker": {
             "line": {
              "color": "#E5ECF6",
              "width": 0.5
             },
             "pattern": {
              "fillmode": "overlay",
              "size": 10,
              "solidity": 0.2
             }
            },
            "type": "barpolar"
           }
          ],
          "carpet": [
           {
            "aaxis": {
             "endlinecolor": "#2a3f5f",
             "gridcolor": "white",
             "linecolor": "white",
             "minorgridcolor": "white",
             "startlinecolor": "#2a3f5f"
            },
            "baxis": {
             "endlinecolor": "#2a3f5f",
             "gridcolor": "white",
             "linecolor": "white",
             "minorgridcolor": "white",
             "startlinecolor": "#2a3f5f"
            },
            "type": "carpet"
           }
          ],
          "choropleth": [
           {
            "colorbar": {
             "outlinewidth": 0,
             "ticks": ""
            },
            "type": "choropleth"
           }
          ],
          "contour": [
           {
            "colorbar": {
             "outlinewidth": 0,
             "ticks": ""
            },
            "colorscale": [
             [
              0,
              "#0d0887"
             ],
             [
              0.1111111111111111,
              "#46039f"
             ],
             [
              0.2222222222222222,
              "#7201a8"
             ],
             [
              0.3333333333333333,
              "#9c179e"
             ],
             [
              0.4444444444444444,
              "#bd3786"
             ],
             [
              0.5555555555555556,
              "#d8576b"
             ],
             [
              0.6666666666666666,
              "#ed7953"
             ],
             [
              0.7777777777777778,
              "#fb9f3a"
             ],
             [
              0.8888888888888888,
              "#fdca26"
             ],
             [
              1,
              "#f0f921"
             ]
            ],
            "type": "contour"
           }
          ],
          "contourcarpet": [
           {
            "colorbar": {
             "outlinewidth": 0,
             "ticks": ""
            },
            "type": "contourcarpet"
           }
          ],
          "heatmap": [
           {
            "colorbar": {
             "outlinewidth": 0,
             "ticks": ""
            },
            "colorscale": [
             [
              0,
              "#0d0887"
             ],
             [
              0.1111111111111111,
              "#46039f"
             ],
             [
              0.2222222222222222,
              "#7201a8"
             ],
             [
              0.3333333333333333,
              "#9c179e"
             ],
             [
              0.4444444444444444,
              "#bd3786"
             ],
             [
              0.5555555555555556,
              "#d8576b"
             ],
             [
              0.6666666666666666,
              "#ed7953"
             ],
             [
              0.7777777777777778,
              "#fb9f3a"
             ],
             [
              0.8888888888888888,
              "#fdca26"
             ],
             [
              1,
              "#f0f921"
             ]
            ],
            "type": "heatmap"
           }
          ],
          "heatmapgl": [
           {
            "colorbar": {
             "outlinewidth": 0,
             "ticks": ""
            },
            "colorscale": [
             [
              0,
              "#0d0887"
             ],
             [
              0.1111111111111111,
              "#46039f"
             ],
             [
              0.2222222222222222,
              "#7201a8"
             ],
             [
              0.3333333333333333,
              "#9c179e"
             ],
             [
              0.4444444444444444,
              "#bd3786"
             ],
             [
              0.5555555555555556,
              "#d8576b"
             ],
             [
              0.6666666666666666,
              "#ed7953"
             ],
             [
              0.7777777777777778,
              "#fb9f3a"
             ],
             [
              0.8888888888888888,
              "#fdca26"
             ],
             [
              1,
              "#f0f921"
             ]
            ],
            "type": "heatmapgl"
           }
          ],
          "histogram": [
           {
            "marker": {
             "pattern": {
              "fillmode": "overlay",
              "size": 10,
              "solidity": 0.2
             }
            },
            "type": "histogram"
           }
          ],
          "histogram2d": [
           {
            "colorbar": {
             "outlinewidth": 0,
             "ticks": ""
            },
            "colorscale": [
             [
              0,
              "#0d0887"
             ],
             [
              0.1111111111111111,
              "#46039f"
             ],
             [
              0.2222222222222222,
              "#7201a8"
             ],
             [
              0.3333333333333333,
              "#9c179e"
             ],
             [
              0.4444444444444444,
              "#bd3786"
             ],
             [
              0.5555555555555556,
              "#d8576b"
             ],
             [
              0.6666666666666666,
              "#ed7953"
             ],
             [
              0.7777777777777778,
              "#fb9f3a"
             ],
             [
              0.8888888888888888,
              "#fdca26"
             ],
             [
              1,
              "#f0f921"
             ]
            ],
            "type": "histogram2d"
           }
          ],
          "histogram2dcontour": [
           {
            "colorbar": {
             "outlinewidth": 0,
             "ticks": ""
            },
            "colorscale": [
             [
              0,
              "#0d0887"
             ],
             [
              0.1111111111111111,
              "#46039f"
             ],
             [
              0.2222222222222222,
              "#7201a8"
             ],
             [
              0.3333333333333333,
              "#9c179e"
             ],
             [
              0.4444444444444444,
              "#bd3786"
             ],
             [
              0.5555555555555556,
              "#d8576b"
             ],
             [
              0.6666666666666666,
              "#ed7953"
             ],
             [
              0.7777777777777778,
              "#fb9f3a"
             ],
             [
              0.8888888888888888,
              "#fdca26"
             ],
             [
              1,
              "#f0f921"
             ]
            ],
            "type": "histogram2dcontour"
           }
          ],
          "mesh3d": [
           {
            "colorbar": {
             "outlinewidth": 0,
             "ticks": ""
            },
            "type": "mesh3d"
           }
          ],
          "parcoords": [
           {
            "line": {
             "colorbar": {
              "outlinewidth": 0,
              "ticks": ""
             }
            },
            "type": "parcoords"
           }
          ],
          "pie": [
           {
            "automargin": true,
            "type": "pie"
           }
          ],
          "scatter": [
           {
            "fillpattern": {
             "fillmode": "overlay",
             "size": 10,
             "solidity": 0.2
            },
            "type": "scatter"
           }
          ],
          "scatter3d": [
           {
            "line": {
             "colorbar": {
              "outlinewidth": 0,
              "ticks": ""
             }
            },
            "marker": {
             "colorbar": {
              "outlinewidth": 0,
              "ticks": ""
             }
            },
            "type": "scatter3d"
           }
          ],
          "scattercarpet": [
           {
            "marker": {
             "colorbar": {
              "outlinewidth": 0,
              "ticks": ""
             }
            },
            "type": "scattercarpet"
           }
          ],
          "scattergeo": [
           {
            "marker": {
             "colorbar": {
              "outlinewidth": 0,
              "ticks": ""
             }
            },
            "type": "scattergeo"
           }
          ],
          "scattergl": [
           {
            "marker": {
             "colorbar": {
              "outlinewidth": 0,
              "ticks": ""
             }
            },
            "type": "scattergl"
           }
          ],
          "scattermapbox": [
           {
            "marker": {
             "colorbar": {
              "outlinewidth": 0,
              "ticks": ""
             }
            },
            "type": "scattermapbox"
           }
          ],
          "scatterpolar": [
           {
            "marker": {
             "colorbar": {
              "outlinewidth": 0,
              "ticks": ""
             }
            },
            "type": "scatterpolar"
           }
          ],
          "scatterpolargl": [
           {
            "marker": {
             "colorbar": {
              "outlinewidth": 0,
              "ticks": ""
             }
            },
            "type": "scatterpolargl"
           }
          ],
          "scatterternary": [
           {
            "marker": {
             "colorbar": {
              "outlinewidth": 0,
              "ticks": ""
             }
            },
            "type": "scatterternary"
           }
          ],
          "surface": [
           {
            "colorbar": {
             "outlinewidth": 0,
             "ticks": ""
            },
            "colorscale": [
             [
              0,
              "#0d0887"
             ],
             [
              0.1111111111111111,
              "#46039f"
             ],
             [
              0.2222222222222222,
              "#7201a8"
             ],
             [
              0.3333333333333333,
              "#9c179e"
             ],
             [
              0.4444444444444444,
              "#bd3786"
             ],
             [
              0.5555555555555556,
              "#d8576b"
             ],
             [
              0.6666666666666666,
              "#ed7953"
             ],
             [
              0.7777777777777778,
              "#fb9f3a"
             ],
             [
              0.8888888888888888,
              "#fdca26"
             ],
             [
              1,
              "#f0f921"
             ]
            ],
            "type": "surface"
           }
          ],
          "table": [
           {
            "cells": {
             "fill": {
              "color": "#EBF0F8"
             },
             "line": {
              "color": "white"
             }
            },
            "header": {
             "fill": {
              "color": "#C8D4E3"
             },
             "line": {
              "color": "white"
             }
            },
            "type": "table"
           }
          ]
         },
         "layout": {
          "annotationdefaults": {
           "arrowcolor": "#2a3f5f",
           "arrowhead": 0,
           "arrowwidth": 1
          },
          "autotypenumbers": "strict",
          "coloraxis": {
           "colorbar": {
            "outlinewidth": 0,
            "ticks": ""
           }
          },
          "colorscale": {
           "diverging": [
            [
             0,
             "#8e0152"
            ],
            [
             0.1,
             "#c51b7d"
            ],
            [
             0.2,
             "#de77ae"
            ],
            [
             0.3,
             "#f1b6da"
            ],
            [
             0.4,
             "#fde0ef"
            ],
            [
             0.5,
             "#f7f7f7"
            ],
            [
             0.6,
             "#e6f5d0"
            ],
            [
             0.7,
             "#b8e186"
            ],
            [
             0.8,
             "#7fbc41"
            ],
            [
             0.9,
             "#4d9221"
            ],
            [
             1,
             "#276419"
            ]
           ],
           "sequential": [
            [
             0,
             "#0d0887"
            ],
            [
             0.1111111111111111,
             "#46039f"
            ],
            [
             0.2222222222222222,
             "#7201a8"
            ],
            [
             0.3333333333333333,
             "#9c179e"
            ],
            [
             0.4444444444444444,
             "#bd3786"
            ],
            [
             0.5555555555555556,
             "#d8576b"
            ],
            [
             0.6666666666666666,
             "#ed7953"
            ],
            [
             0.7777777777777778,
             "#fb9f3a"
            ],
            [
             0.8888888888888888,
             "#fdca26"
            ],
            [
             1,
             "#f0f921"
            ]
           ],
           "sequentialminus": [
            [
             0,
             "#0d0887"
            ],
            [
             0.1111111111111111,
             "#46039f"
            ],
            [
             0.2222222222222222,
             "#7201a8"
            ],
            [
             0.3333333333333333,
             "#9c179e"
            ],
            [
             0.4444444444444444,
             "#bd3786"
            ],
            [
             0.5555555555555556,
             "#d8576b"
            ],
            [
             0.6666666666666666,
             "#ed7953"
            ],
            [
             0.7777777777777778,
             "#fb9f3a"
            ],
            [
             0.8888888888888888,
             "#fdca26"
            ],
            [
             1,
             "#f0f921"
            ]
           ]
          },
          "colorway": [
           "#636efa",
           "#EF553B",
           "#00cc96",
           "#ab63fa",
           "#FFA15A",
           "#19d3f3",
           "#FF6692",
           "#B6E880",
           "#FF97FF",
           "#FECB52"
          ],
          "font": {
           "color": "#2a3f5f"
          },
          "geo": {
           "bgcolor": "white",
           "lakecolor": "white",
           "landcolor": "#E5ECF6",
           "showlakes": true,
           "showland": true,
           "subunitcolor": "white"
          },
          "hoverlabel": {
           "align": "left"
          },
          "hovermode": "closest",
          "mapbox": {
           "style": "light"
          },
          "paper_bgcolor": "white",
          "plot_bgcolor": "#E5ECF6",
          "polar": {
           "angularaxis": {
            "gridcolor": "white",
            "linecolor": "white",
            "ticks": ""
           },
           "bgcolor": "#E5ECF6",
           "radialaxis": {
            "gridcolor": "white",
            "linecolor": "white",
            "ticks": ""
           }
          },
          "scene": {
           "xaxis": {
            "backgroundcolor": "#E5ECF6",
            "gridcolor": "white",
            "gridwidth": 2,
            "linecolor": "white",
            "showbackground": true,
            "ticks": "",
            "zerolinecolor": "white"
           },
           "yaxis": {
            "backgroundcolor": "#E5ECF6",
            "gridcolor": "white",
            "gridwidth": 2,
            "linecolor": "white",
            "showbackground": true,
            "ticks": "",
            "zerolinecolor": "white"
           },
           "zaxis": {
            "backgroundcolor": "#E5ECF6",
            "gridcolor": "white",
            "gridwidth": 2,
            "linecolor": "white",
            "showbackground": true,
            "ticks": "",
            "zerolinecolor": "white"
           }
          },
          "shapedefaults": {
           "line": {
            "color": "#2a3f5f"
           }
          },
          "ternary": {
           "aaxis": {
            "gridcolor": "white",
            "linecolor": "white",
            "ticks": ""
           },
           "baxis": {
            "gridcolor": "white",
            "linecolor": "white",
            "ticks": ""
           },
           "bgcolor": "#E5ECF6",
           "caxis": {
            "gridcolor": "white",
            "linecolor": "white",
            "ticks": ""
           }
          },
          "title": {
           "x": 0.05
          },
          "xaxis": {
           "automargin": true,
           "gridcolor": "white",
           "linecolor": "white",
           "ticks": "",
           "title": {
            "standoff": 15
           },
           "zerolinecolor": "white",
           "zerolinewidth": 2
          },
          "yaxis": {
           "automargin": true,
           "gridcolor": "white",
           "linecolor": "white",
           "ticks": "",
           "title": {
            "standoff": 15
           },
           "zerolinecolor": "white",
           "zerolinewidth": 2
          }
         }
        },
        "title": {
         "text": "Top 10 emerging concepts per year"
        },
        "treemapcolorway": [
         "rgb(158,1,66)",
         "rgb(213,62,79)",
         "rgb(244,109,67)",
         "rgb(253,174,97)",
         "rgb(254,224,139)",
         "rgb(255,255,191)",
         "rgb(230,245,152)",
         "rgb(171,221,164)",
         "rgb(102,194,165)",
         "rgb(50,136,189)",
         "rgb(94,79,162)"
        ]
       }
      },
      "text/html": [
       "<div>                            <div id=\"c3a7f172-6a76-4217-a965-3907298bb691\" class=\"plotly-graph-div\" style=\"height:600px; width:100%;\"></div>            <script type=\"text/javascript\">                require([\"plotly\"], function(Plotly) {                    window.PLOTLYENV=window.PLOTLYENV || {};                                    if (document.getElementById(\"c3a7f172-6a76-4217-a965-3907298bb691\")) {                    Plotly.newPlot(                        \"c3a7f172-6a76-4217-a965-3907298bb691\",                        [{\"branchvalues\":\"total\",\"customdata\":[[\"such changes\"],[\"trace elements\"],[\"big data\"],[\"rdquo\"],[\"technology research\"],[\"West Pacific\"],[\"stratosphere\"],[\"gases\"],[\"future evolution\"],[\"genes\"],[\"seismic techniques\"],[\"bed\"],[\"Intergovernmental Panel\"],[\"climate system\"],[\"Atlantic Ocean\"],[\"speed\"],[\"physical processes\"],[\"America\"],[\"overarching goal\"],[\"crust\"],[\"new technique\"],[\"margin\"],[\"biogeochemical processes\"],[\"large-scale networking\"],[\"subsurface biogeochemical processes\"],[\"rapid changes\"],[\"rare earth elements\"],[\"system administration\"],[\"eruption\"],[\"Antarctic Ice Sheet\"],[\"data sets\"],[\"first-order control\"],[\"environmental changes\"],[\"Pacific Ocean\"],[\"Antarctica\"],[\"particular interest\"],[\"universe\"],[\"troposphere\"],[\"trace metal concentrations\"],[\"human-computer interaction\"],[\"trace metals\"],[\"degree of fractionation\"],[\"volcanism\"],[\"geometry\"],[\"Asia\"],[\"genome\"],[\"web support\"],[\"ice sheet\"],[\"high confidence software\"],[\"climate variability\"],[\"trace metal cycles\"],[\"resolution model\"],[\"high-end computing\"],[\"West Antarctica\"],[\"cyber-physical systems\"],[\"cosmology\"],[\"Agency mission\"],[\"information technology research\"],[\"sea level rise\"],[\"high-resolution model\"],[\"stars\"],[\"(?)\"],[\"(?)\"],[\"(?)\"],[\"(?)\"],[\"(?)\"],[\"(?)\"],[\"(?)\"],[\"(?)\"],[\"(?)\"]],\"domain\":{\"x\":[0.0,1.0],\"y\":[0.0,1.0]},\"hovertemplate\":\"labels=%{label}\\u003cbr\\u003efrequency=%{value}\\u003cbr\\u003eparent=%{parent}\\u003cbr\\u003eid=%{id}\\u003cbr\\u003econcept=%{customdata[0]}\\u003cextra\\u003e\\u003c\\u002fextra\\u003e\",\"ids\":[\"2011\\u002fsuch changes\",\"2015\\u002ftrace elements\",\"2014\\u002fbig data\",\"2016\\u002frdquo\",\"2014\\u002ftechnology research\",\"2010\\u002fWest Pacific\",\"2010\\u002fstratosphere\",\"2012\\u002fgases\",\"2013\\u002ffuture evolution\",\"2011\\u002fgenes\",\"2013\\u002fseismic techniques\",\"2013\\u002fbed\",\"2013\\u002fIntergovernmental Panel\",\"2014\\u002fclimate system\",\"2010\\u002fAtlantic Ocean\",\"2017\\u002fspeed\",\"2010\\u002fphysical processes\",\"2017\\u002fAmerica\",\"2017\\u002foverarching goal\",\"2010\\u002fcrust\",\"2017\\u002fnew technique\",\"2017\\u002fmargin\",\"2015\\u002fbiogeochemical processes\",\"2014\\u002flarge-scale networking\",\"2015\\u002fsubsurface biogeochemical processes\",\"2011\\u002frapid changes\",\"2015\\u002frare earth elements\",\"2016\\u002fsystem administration\",\"2010\\u002feruption\",\"2015\\u002fAntarctic Ice Sheet\",\"2013\\u002fdata sets\",\"2015\\u002ffirst-order control\",\"2010\\u002fenvironmental changes\",\"2010\\u002fPacific Ocean\",\"2013\\u002fAntarctica\",\"2011\\u002fparticular interest\",\"2018\\u002funiverse\",\"2010\\u002ftroposphere\",\"2015\\u002ftrace metal concentrations\",\"2014\\u002fhuman-computer interaction\",\"2015\\u002ftrace metals\",\"2015\\u002fdegree of fractionation\",\"2010\\u002fvolcanism\",\"2017\\u002fgeometry\",\"2012\\u002fAsia\",\"2011\\u002fgenome\",\"2016\\u002fweb support\",\"2013\\u002fice sheet\",\"2014\\u002fhigh confidence software\",\"2014\\u002fclimate variability\",\"2015\\u002ftrace metal cycles\",\"2012\\u002fresolution model\",\"2014\\u002fhigh-end computing\",\"2013\\u002fWest Antarctica\",\"2014\\u002fcyber-physical systems\",\"2018\\u002fcosmology\",\"2013\\u002fAgency mission\",\"2014\\u002finformation technology research\",\"2013\\u002fsea level rise\",\"2012\\u002fhigh-resolution model\",\"2018\\u002fstars\",\"2010\",\"2011\",\"2012\",\"2013\",\"2014\",\"2015\",\"2016\",\"2017\",\"2018\"],\"labels\":[\"such changes\",\"trace elements\",\"big data\",\"rdquo\",\"technology research\",\"West Pacific\",\"stratosphere\",\"gases\",\"future evolution\",\"genes\",\"seismic techniques\",\"bed\",\"Intergovernmental Panel\",\"climate system\",\"Atlantic Ocean\",\"speed\",\"physical processes\",\"America\",\"overarching goal\",\"crust\",\"new technique\",\"margin\",\"biogeochemical processes\",\"large-scale networking\",\"subsurface biogeochemical processes\",\"rapid changes\",\"rare earth elements\",\"system administration\",\"eruption\",\"Antarctic Ice Sheet\",\"data sets\",\"first-order control\",\"environmental changes\",\"Pacific Ocean\",\"Antarctica\",\"particular interest\",\"universe\",\"troposphere\",\"trace metal concentrations\",\"human-computer interaction\",\"trace metals\",\"degree of fractionation\",\"volcanism\",\"geometry\",\"Asia\",\"genome\",\"web support\",\"ice sheet\",\"high confidence software\",\"climate variability\",\"trace metal cycles\",\"resolution model\",\"high-end computing\",\"West Antarctica\",\"cyber-physical systems\",\"cosmology\",\"Agency mission\",\"information technology research\",\"sea level rise\",\"high-resolution model\",\"stars\",\"2010\",\"2011\",\"2012\",\"2013\",\"2014\",\"2015\",\"2016\",\"2017\",\"2018\"],\"marker\":{\"colors\":[\"rgb(158,1,66)\",\"rgb(213,62,79)\",\"rgb(244,109,67)\",\"rgb(253,174,97)\",\"rgb(254,224,139)\",\"rgb(255,255,191)\",\"rgb(230,245,152)\",\"rgb(171,221,164)\",\"rgb(102,194,165)\",\"rgb(50,136,189)\",\"rgb(94,79,162)\",\"rgb(158,1,66)\",\"rgb(213,62,79)\",\"rgb(244,109,67)\",\"rgb(253,174,97)\",\"rgb(254,224,139)\",\"rgb(255,255,191)\",\"rgb(230,245,152)\",\"rgb(171,221,164)\",\"rgb(102,194,165)\",\"rgb(50,136,189)\",\"rgb(94,79,162)\",\"rgb(158,1,66)\",\"rgb(213,62,79)\",\"rgb(244,109,67)\",\"rgb(253,174,97)\",\"rgb(254,224,139)\",\"rgb(255,255,191)\",\"rgb(230,245,152)\",\"rgb(171,221,164)\",\"rgb(102,194,165)\",\"rgb(50,136,189)\",\"rgb(94,79,162)\",\"rgb(158,1,66)\",\"rgb(213,62,79)\",\"rgb(244,109,67)\",\"rgb(253,174,97)\",\"rgb(254,224,139)\",\"rgb(255,255,191)\",\"rgb(230,245,152)\",\"rgb(171,221,164)\",\"rgb(102,194,165)\",\"rgb(50,136,189)\",\"rgb(94,79,162)\",\"rgb(158,1,66)\",\"rgb(213,62,79)\",\"rgb(244,109,67)\",\"rgb(253,174,97)\",\"rgb(254,224,139)\",\"rgb(255,255,191)\",\"rgb(230,245,152)\",\"rgb(171,221,164)\",\"rgb(102,194,165)\",\"rgb(50,136,189)\",\"rgb(94,79,162)\",\"rgb(158,1,66)\",\"rgb(213,62,79)\",\"rgb(244,109,67)\",\"rgb(253,174,97)\",\"rgb(254,224,139)\",\"rgb(255,255,191)\",\"rgb(230,245,152)\",\"rgb(230,245,152)\",\"rgb(230,245,152)\",\"rgb(230,245,152)\",\"rgb(230,245,152)\",\"rgb(230,245,152)\",\"rgb(230,245,152)\",\"rgb(230,245,152)\",\"rgb(230,245,152)\"]},\"name\":\"\",\"parents\":[\"2011\",\"2015\",\"2014\",\"2016\",\"2014\",\"2010\",\"2010\",\"2012\",\"2013\",\"2011\",\"2013\",\"2013\",\"2013\",\"2014\",\"2010\",\"2017\",\"2010\",\"2017\",\"2017\",\"2010\",\"2017\",\"2017\",\"2015\",\"2014\",\"2015\",\"2011\",\"2015\",\"2016\",\"2010\",\"2015\",\"2013\",\"2015\",\"2010\",\"2010\",\"2013\",\"2011\",\"2018\",\"2010\",\"2015\",\"2014\",\"2015\",\"2015\",\"2010\",\"2017\",\"2012\",\"2011\",\"2016\",\"2013\",\"2014\",\"2014\",\"2015\",\"2012\",\"2014\",\"2013\",\"2014\",\"2018\",\"2013\",\"2014\",\"2013\",\"2012\",\"2018\",\"\",\"\",\"\",\"\",\"\",\"\",\"\",\"\",\"\"],\"values\":[3,2,2,2,4,2,2,2,2,2,2,3,2,2,2,2,2,2,2,2,2,2,2,2,2,2,2,2,2,2,2,2,2,3,2,2,3,2,2,2,2,2,2,3,2,2,2,3,2,2,2,2,2,2,2,2,2,4,3,2,2,21,11,8,23,24,20,6,13,7],\"type\":\"treemap\"}],                        {\"template\":{\"data\":{\"histogram2dcontour\":[{\"type\":\"histogram2dcontour\",\"colorbar\":{\"outlinewidth\":0,\"ticks\":\"\"},\"colorscale\":[[0.0,\"#0d0887\"],[0.1111111111111111,\"#46039f\"],[0.2222222222222222,\"#7201a8\"],[0.3333333333333333,\"#9c179e\"],[0.4444444444444444,\"#bd3786\"],[0.5555555555555556,\"#d8576b\"],[0.6666666666666666,\"#ed7953\"],[0.7777777777777778,\"#fb9f3a\"],[0.8888888888888888,\"#fdca26\"],[1.0,\"#f0f921\"]]}],\"choropleth\":[{\"type\":\"choropleth\",\"colorbar\":{\"outlinewidth\":0,\"ticks\":\"\"}}],\"histogram2d\":[{\"type\":\"histogram2d\",\"colorbar\":{\"outlinewidth\":0,\"ticks\":\"\"},\"colorscale\":[[0.0,\"#0d0887\"],[0.1111111111111111,\"#46039f\"],[0.2222222222222222,\"#7201a8\"],[0.3333333333333333,\"#9c179e\"],[0.4444444444444444,\"#bd3786\"],[0.5555555555555556,\"#d8576b\"],[0.6666666666666666,\"#ed7953\"],[0.7777777777777778,\"#fb9f3a\"],[0.8888888888888888,\"#fdca26\"],[1.0,\"#f0f921\"]]}],\"heatmap\":[{\"type\":\"heatmap\",\"colorbar\":{\"outlinewidth\":0,\"ticks\":\"\"},\"colorscale\":[[0.0,\"#0d0887\"],[0.1111111111111111,\"#46039f\"],[0.2222222222222222,\"#7201a8\"],[0.3333333333333333,\"#9c179e\"],[0.4444444444444444,\"#bd3786\"],[0.5555555555555556,\"#d8576b\"],[0.6666666666666666,\"#ed7953\"],[0.7777777777777778,\"#fb9f3a\"],[0.8888888888888888,\"#fdca26\"],[1.0,\"#f0f921\"]]}],\"heatmapgl\":[{\"type\":\"heatmapgl\",\"colorbar\":{\"outlinewidth\":0,\"ticks\":\"\"},\"colorscale\":[[0.0,\"#0d0887\"],[0.1111111111111111,\"#46039f\"],[0.2222222222222222,\"#7201a8\"],[0.3333333333333333,\"#9c179e\"],[0.4444444444444444,\"#bd3786\"],[0.5555555555555556,\"#d8576b\"],[0.6666666666666666,\"#ed7953\"],[0.7777777777777778,\"#fb9f3a\"],[0.8888888888888888,\"#fdca26\"],[1.0,\"#f0f921\"]]}],\"contourcarpet\":[{\"type\":\"contourcarpet\",\"colorbar\":{\"outlinewidth\":0,\"ticks\":\"\"}}],\"contour\":[{\"type\":\"contour\",\"colorbar\":{\"outlinewidth\":0,\"ticks\":\"\"},\"colorscale\":[[0.0,\"#0d0887\"],[0.1111111111111111,\"#46039f\"],[0.2222222222222222,\"#7201a8\"],[0.3333333333333333,\"#9c179e\"],[0.4444444444444444,\"#bd3786\"],[0.5555555555555556,\"#d8576b\"],[0.6666666666666666,\"#ed7953\"],[0.7777777777777778,\"#fb9f3a\"],[0.8888888888888888,\"#fdca26\"],[1.0,\"#f0f921\"]]}],\"surface\":[{\"type\":\"surface\",\"colorbar\":{\"outlinewidth\":0,\"ticks\":\"\"},\"colorscale\":[[0.0,\"#0d0887\"],[0.1111111111111111,\"#46039f\"],[0.2222222222222222,\"#7201a8\"],[0.3333333333333333,\"#9c179e\"],[0.4444444444444444,\"#bd3786\"],[0.5555555555555556,\"#d8576b\"],[0.6666666666666666,\"#ed7953\"],[0.7777777777777778,\"#fb9f3a\"],[0.8888888888888888,\"#fdca26\"],[1.0,\"#f0f921\"]]}],\"mesh3d\":[{\"type\":\"mesh3d\",\"colorbar\":{\"outlinewidth\":0,\"ticks\":\"\"}}],\"scatter\":[{\"fillpattern\":{\"fillmode\":\"overlay\",\"size\":10,\"solidity\":0.2},\"type\":\"scatter\"}],\"parcoords\":[{\"type\":\"parcoords\",\"line\":{\"colorbar\":{\"outlinewidth\":0,\"ticks\":\"\"}}}],\"scatterpolargl\":[{\"type\":\"scatterpolargl\",\"marker\":{\"colorbar\":{\"outlinewidth\":0,\"ticks\":\"\"}}}],\"bar\":[{\"error_x\":{\"color\":\"#2a3f5f\"},\"error_y\":{\"color\":\"#2a3f5f\"},\"marker\":{\"line\":{\"color\":\"#E5ECF6\",\"width\":0.5},\"pattern\":{\"fillmode\":\"overlay\",\"size\":10,\"solidity\":0.2}},\"type\":\"bar\"}],\"scattergeo\":[{\"type\":\"scattergeo\",\"marker\":{\"colorbar\":{\"outlinewidth\":0,\"ticks\":\"\"}}}],\"scatterpolar\":[{\"type\":\"scatterpolar\",\"marker\":{\"colorbar\":{\"outlinewidth\":0,\"ticks\":\"\"}}}],\"histogram\":[{\"marker\":{\"pattern\":{\"fillmode\":\"overlay\",\"size\":10,\"solidity\":0.2}},\"type\":\"histogram\"}],\"scattergl\":[{\"type\":\"scattergl\",\"marker\":{\"colorbar\":{\"outlinewidth\":0,\"ticks\":\"\"}}}],\"scatter3d\":[{\"type\":\"scatter3d\",\"line\":{\"colorbar\":{\"outlinewidth\":0,\"ticks\":\"\"}},\"marker\":{\"colorbar\":{\"outlinewidth\":0,\"ticks\":\"\"}}}],\"scattermapbox\":[{\"type\":\"scattermapbox\",\"marker\":{\"colorbar\":{\"outlinewidth\":0,\"ticks\":\"\"}}}],\"scatterternary\":[{\"type\":\"scatterternary\",\"marker\":{\"colorbar\":{\"outlinewidth\":0,\"ticks\":\"\"}}}],\"scattercarpet\":[{\"type\":\"scattercarpet\",\"marker\":{\"colorbar\":{\"outlinewidth\":0,\"ticks\":\"\"}}}],\"carpet\":[{\"aaxis\":{\"endlinecolor\":\"#2a3f5f\",\"gridcolor\":\"white\",\"linecolor\":\"white\",\"minorgridcolor\":\"white\",\"startlinecolor\":\"#2a3f5f\"},\"baxis\":{\"endlinecolor\":\"#2a3f5f\",\"gridcolor\":\"white\",\"linecolor\":\"white\",\"minorgridcolor\":\"white\",\"startlinecolor\":\"#2a3f5f\"},\"type\":\"carpet\"}],\"table\":[{\"cells\":{\"fill\":{\"color\":\"#EBF0F8\"},\"line\":{\"color\":\"white\"}},\"header\":{\"fill\":{\"color\":\"#C8D4E3\"},\"line\":{\"color\":\"white\"}},\"type\":\"table\"}],\"barpolar\":[{\"marker\":{\"line\":{\"color\":\"#E5ECF6\",\"width\":0.5},\"pattern\":{\"fillmode\":\"overlay\",\"size\":10,\"solidity\":0.2}},\"type\":\"barpolar\"}],\"pie\":[{\"automargin\":true,\"type\":\"pie\"}]},\"layout\":{\"autotypenumbers\":\"strict\",\"colorway\":[\"#636efa\",\"#EF553B\",\"#00cc96\",\"#ab63fa\",\"#FFA15A\",\"#19d3f3\",\"#FF6692\",\"#B6E880\",\"#FF97FF\",\"#FECB52\"],\"font\":{\"color\":\"#2a3f5f\"},\"hovermode\":\"closest\",\"hoverlabel\":{\"align\":\"left\"},\"paper_bgcolor\":\"white\",\"plot_bgcolor\":\"#E5ECF6\",\"polar\":{\"bgcolor\":\"#E5ECF6\",\"angularaxis\":{\"gridcolor\":\"white\",\"linecolor\":\"white\",\"ticks\":\"\"},\"radialaxis\":{\"gridcolor\":\"white\",\"linecolor\":\"white\",\"ticks\":\"\"}},\"ternary\":{\"bgcolor\":\"#E5ECF6\",\"aaxis\":{\"gridcolor\":\"white\",\"linecolor\":\"white\",\"ticks\":\"\"},\"baxis\":{\"gridcolor\":\"white\",\"linecolor\":\"white\",\"ticks\":\"\"},\"caxis\":{\"gridcolor\":\"white\",\"linecolor\":\"white\",\"ticks\":\"\"}},\"coloraxis\":{\"colorbar\":{\"outlinewidth\":0,\"ticks\":\"\"}},\"colorscale\":{\"sequential\":[[0.0,\"#0d0887\"],[0.1111111111111111,\"#46039f\"],[0.2222222222222222,\"#7201a8\"],[0.3333333333333333,\"#9c179e\"],[0.4444444444444444,\"#bd3786\"],[0.5555555555555556,\"#d8576b\"],[0.6666666666666666,\"#ed7953\"],[0.7777777777777778,\"#fb9f3a\"],[0.8888888888888888,\"#fdca26\"],[1.0,\"#f0f921\"]],\"sequentialminus\":[[0.0,\"#0d0887\"],[0.1111111111111111,\"#46039f\"],[0.2222222222222222,\"#7201a8\"],[0.3333333333333333,\"#9c179e\"],[0.4444444444444444,\"#bd3786\"],[0.5555555555555556,\"#d8576b\"],[0.6666666666666666,\"#ed7953\"],[0.7777777777777778,\"#fb9f3a\"],[0.8888888888888888,\"#fdca26\"],[1.0,\"#f0f921\"]],\"diverging\":[[0,\"#8e0152\"],[0.1,\"#c51b7d\"],[0.2,\"#de77ae\"],[0.3,\"#f1b6da\"],[0.4,\"#fde0ef\"],[0.5,\"#f7f7f7\"],[0.6,\"#e6f5d0\"],[0.7,\"#b8e186\"],[0.8,\"#7fbc41\"],[0.9,\"#4d9221\"],[1,\"#276419\"]]},\"xaxis\":{\"gridcolor\":\"white\",\"linecolor\":\"white\",\"ticks\":\"\",\"title\":{\"standoff\":15},\"zerolinecolor\":\"white\",\"automargin\":true,\"zerolinewidth\":2},\"yaxis\":{\"gridcolor\":\"white\",\"linecolor\":\"white\",\"ticks\":\"\",\"title\":{\"standoff\":15},\"zerolinecolor\":\"white\",\"automargin\":true,\"zerolinewidth\":2},\"scene\":{\"xaxis\":{\"backgroundcolor\":\"#E5ECF6\",\"gridcolor\":\"white\",\"linecolor\":\"white\",\"showbackground\":true,\"ticks\":\"\",\"zerolinecolor\":\"white\",\"gridwidth\":2},\"yaxis\":{\"backgroundcolor\":\"#E5ECF6\",\"gridcolor\":\"white\",\"linecolor\":\"white\",\"showbackground\":true,\"ticks\":\"\",\"zerolinecolor\":\"white\",\"gridwidth\":2},\"zaxis\":{\"backgroundcolor\":\"#E5ECF6\",\"gridcolor\":\"white\",\"linecolor\":\"white\",\"showbackground\":true,\"ticks\":\"\",\"zerolinecolor\":\"white\",\"gridwidth\":2}},\"shapedefaults\":{\"line\":{\"color\":\"#2a3f5f\"}},\"annotationdefaults\":{\"arrowcolor\":\"#2a3f5f\",\"arrowhead\":0,\"arrowwidth\":1},\"geo\":{\"bgcolor\":\"white\",\"landcolor\":\"#E5ECF6\",\"subunitcolor\":\"white\",\"showland\":true,\"showlakes\":true,\"lakecolor\":\"white\"},\"title\":{\"x\":0.05},\"mapbox\":{\"style\":\"light\"}}},\"legend\":{\"tracegroupgap\":0},\"title\":{\"text\":\"Top 10 emerging concepts per year\"},\"treemapcolorway\":[\"rgb(158,1,66)\",\"rgb(213,62,79)\",\"rgb(244,109,67)\",\"rgb(253,174,97)\",\"rgb(254,224,139)\",\"rgb(255,255,191)\",\"rgb(230,245,152)\",\"rgb(171,221,164)\",\"rgb(102,194,165)\",\"rgb(50,136,189)\",\"rgb(94,79,162)\"],\"height\":600},                        {\"responsive\": true}                    ).then(function(){\n",
       "                            \n",
       "var gd = document.getElementById('c3a7f172-6a76-4217-a965-3907298bb691');\n",
       "var x = new MutationObserver(function (mutations, observer) {{\n",
       "        var display = window.getComputedStyle(gd).display;\n",
       "        if (!display || display === 'none') {{\n",
       "            console.log([gd, 'removed!']);\n",
       "            Plotly.purge(gd);\n",
       "            observer.disconnect();\n",
       "        }}\n",
       "}});\n",
       "\n",
       "// Listen for the removal of the full notebook cells\n",
       "var notebookContainer = gd.closest('#notebook-container');\n",
       "if (notebookContainer) {{\n",
       "    x.observe(notebookContainer, {childList: true});\n",
       "}}\n",
       "\n",
       "// Listen for the clearing of the current output cell\n",
       "var outputEl = gd.closest('.output');\n",
       "if (outputEl) {{\n",
       "    x.observe(outputEl, {childList: true});\n",
       "}}\n",
       "\n",
       "                        })                };                });            </script>        </div>"
      ]
     },
     "metadata": {},
     "output_type": "display_data"
    }
   ],
   "source": [
    "# enrich initial dataframe by adding 'first_year'\n",
    "concepts[\"first_year\"] = concepts.groupby('concept')['start_year'].transform('min')\n",
    "concepts_unique = concepts.drop_duplicates(\"concept\")[['concept', 'frequency', 'score_avg', 'first_year']]\n",
    "\n",
    "#@markdown ## Emerging concepts: parameters\n",
    "#@markdown Start year of the publications/concepts to include\n",
    "YEAR_START = 2010 #@param {type:\"integer\"}\n",
    "\n",
    "#@markdown How many 'emerging' concepts to retain, for each year\n",
    "CONCEPTS_PER_YEAR = 10 #@param {type:\"integer\"}\n",
    "\n",
    "\n",
    "#\n",
    "# note: we reuse the freq/score threasholds above in order to focus on concepts of interest\n",
    "emerging_concepts = concepts_unique.query(f\"\"\"first_year >= {YEAR_START}\"\"\")\\\n",
    "                    .query(f\"\"\"frequency >= {FREQ_MIN} & frequency <= {FREQ_MAX} & score_avg >= {SCORE_MIN} \"\"\")\\\n",
    "                    .sort_values([\"score_avg\", \"frequency\"], ascending=False)\\\n",
    "                    .groupby(\"first_year\").head(CONCEPTS_PER_YEAR)\n",
    "\n",
    "px.treemap(emerging_concepts,\n",
    "           path=['first_year', 'concept'],\n",
    "           values='frequency',\n",
    "           color=\"concept\",\n",
    "           color_discrete_sequence=px.colors.diverging.Spectral,\n",
    "           height=600,\n",
    "           title=f\"Top {CONCEPTS_PER_YEAR} emerging concepts per year\"\n",
    "          )"
   ]
  },
  {
   "cell_type": "markdown",
   "metadata": {
    "Collapsed": "false",
    "id": "2cIQWLt6H88I"
   },
   "source": [
    "Another way to display the data is by using a scatter plot"
   ]
  },
  {
   "cell_type": "code",
   "execution_count": 7,
   "metadata": {
    "Collapsed": "false",
    "colab": {
     "base_uri": "https://localhost:8080/",
     "height": 617
    },
    "id": "QKt74eHxH88I",
    "outputId": "7383fe34-8176-4711-9094-b8fa1085636a"
   },
   "outputs": [
    {
     "data": {
      "application/vnd.plotly.v1+json": {
       "config": {
        "plotlyServerURL": "https://plot.ly"
       },
       "data": [
        {
         "hovertemplate": "concept=%{x}<br>first_year=%{y}<br>frequency=%{marker.color}<extra></extra>",
         "legendgroup": "",
         "marker": {
          "color": [
           2,
           2,
           2,
           2,
           3,
           2,
           2,
           4,
           2,
           2,
           2,
           2,
           2,
           2,
           2,
           2,
           2,
           2,
           2,
           2,
           3,
           2,
           2,
           2,
           3,
           2,
           2,
           2,
           2,
           4,
           2,
           2,
           2,
           2,
           2,
           2,
           2,
           2,
           2,
           2,
           2,
           2,
           2,
           2,
           3,
           3,
           2,
           2,
           2,
           2,
           2,
           3,
           2,
           2,
           2,
           3,
           2,
           2,
           2,
           2,
           2
          ],
          "coloraxis": "coloraxis",
          "size": [
           2,
           2,
           2,
           2,
           3,
           2,
           2,
           4,
           2,
           2,
           2,
           2,
           2,
           2,
           2,
           2,
           2,
           2,
           2,
           2,
           3,
           2,
           2,
           2,
           3,
           2,
           2,
           2,
           2,
           4,
           2,
           2,
           2,
           2,
           2,
           2,
           2,
           2,
           2,
           2,
           2,
           2,
           2,
           2,
           3,
           3,
           2,
           2,
           2,
           2,
           2,
           3,
           2,
           2,
           2,
           3,
           2,
           2,
           2,
           2,
           2
          ],
          "sizemode": "area",
          "sizeref": 0.01,
          "symbol": "circle"
         },
         "mode": "markers",
         "name": "",
         "orientation": "v",
         "showlegend": false,
         "type": "scatter",
         "x": [
          "trace metals",
          "cyber-physical systems",
          "high-end computing",
          "large-scale networking",
          "sea level rise",
          "climate variability",
          "biogeochemical processes",
          "information technology research",
          "trace elements",
          "Atlantic Ocean",
          "big data",
          "Antarctic Ice Sheet",
          "first-order control",
          "climate system",
          "subsurface biogeochemical processes",
          "trace metal cycles",
          "degree of fractionation",
          "trace metal concentrations",
          "high-resolution model",
          "rare earth elements",
          "ice sheet",
          "high confidence software",
          "human-computer interaction",
          "West Antarctica",
          "Pacific Ocean",
          "West Pacific",
          "seismic techniques",
          "resolution model",
          "stratosphere",
          "technology research",
          "volcanism",
          "physical processes",
          "stars",
          "troposphere",
          "future evolution",
          "eruption",
          "environmental changes",
          "data sets",
          "margin",
          "crust",
          "genes",
          "genome",
          "Antarctica",
          "system administration",
          "universe",
          "bed",
          "cosmology",
          "web support",
          "Intergovernmental Panel",
          "gases",
          "Agency mission",
          "geometry",
          "Asia",
          "America",
          "particular interest",
          "such changes",
          "rapid changes",
          "overarching goal",
          "new technique",
          "rdquo",
          "speed"
         ],
         "xaxis": "x",
         "y": [
          2015,
          2014,
          2014,
          2014,
          2013,
          2014,
          2015,
          2014,
          2015,
          2010,
          2014,
          2015,
          2015,
          2014,
          2015,
          2015,
          2015,
          2015,
          2012,
          2015,
          2013,
          2014,
          2014,
          2013,
          2010,
          2010,
          2013,
          2012,
          2010,
          2014,
          2010,
          2010,
          2018,
          2010,
          2013,
          2010,
          2010,
          2013,
          2017,
          2010,
          2011,
          2011,
          2013,
          2016,
          2018,
          2013,
          2018,
          2016,
          2013,
          2012,
          2013,
          2017,
          2012,
          2017,
          2011,
          2011,
          2011,
          2017,
          2017,
          2016,
          2017
         ],
         "yaxis": "y"
        }
       ],
       "layout": {
        "coloraxis": {
         "colorbar": {
          "title": {
           "text": "frequency"
          }
         },
         "colorscale": [
          [
           0,
           "#0d0887"
          ],
          [
           0.1111111111111111,
           "#46039f"
          ],
          [
           0.2222222222222222,
           "#7201a8"
          ],
          [
           0.3333333333333333,
           "#9c179e"
          ],
          [
           0.4444444444444444,
           "#bd3786"
          ],
          [
           0.5555555555555556,
           "#d8576b"
          ],
          [
           0.6666666666666666,
           "#ed7953"
          ],
          [
           0.7777777777777778,
           "#fb9f3a"
          ],
          [
           0.8888888888888888,
           "#fdca26"
          ],
          [
           1,
           "#f0f921"
          ]
         ]
        },
        "height": 600,
        "legend": {
         "itemsizing": "constant",
         "tracegroupgap": 0
        },
        "template": {
         "data": {
          "bar": [
           {
            "error_x": {
             "color": "#2a3f5f"
            },
            "error_y": {
             "color": "#2a3f5f"
            },
            "marker": {
             "line": {
              "color": "#E5ECF6",
              "width": 0.5
             },
             "pattern": {
              "fillmode": "overlay",
              "size": 10,
              "solidity": 0.2
             }
            },
            "type": "bar"
           }
          ],
          "barpolar": [
           {
            "marker": {
             "line": {
              "color": "#E5ECF6",
              "width": 0.5
             },
             "pattern": {
              "fillmode": "overlay",
              "size": 10,
              "solidity": 0.2
             }
            },
            "type": "barpolar"
           }
          ],
          "carpet": [
           {
            "aaxis": {
             "endlinecolor": "#2a3f5f",
             "gridcolor": "white",
             "linecolor": "white",
             "minorgridcolor": "white",
             "startlinecolor": "#2a3f5f"
            },
            "baxis": {
             "endlinecolor": "#2a3f5f",
             "gridcolor": "white",
             "linecolor": "white",
             "minorgridcolor": "white",
             "startlinecolor": "#2a3f5f"
            },
            "type": "carpet"
           }
          ],
          "choropleth": [
           {
            "colorbar": {
             "outlinewidth": 0,
             "ticks": ""
            },
            "type": "choropleth"
           }
          ],
          "contour": [
           {
            "colorbar": {
             "outlinewidth": 0,
             "ticks": ""
            },
            "colorscale": [
             [
              0,
              "#0d0887"
             ],
             [
              0.1111111111111111,
              "#46039f"
             ],
             [
              0.2222222222222222,
              "#7201a8"
             ],
             [
              0.3333333333333333,
              "#9c179e"
             ],
             [
              0.4444444444444444,
              "#bd3786"
             ],
             [
              0.5555555555555556,
              "#d8576b"
             ],
             [
              0.6666666666666666,
              "#ed7953"
             ],
             [
              0.7777777777777778,
              "#fb9f3a"
             ],
             [
              0.8888888888888888,
              "#fdca26"
             ],
             [
              1,
              "#f0f921"
             ]
            ],
            "type": "contour"
           }
          ],
          "contourcarpet": [
           {
            "colorbar": {
             "outlinewidth": 0,
             "ticks": ""
            },
            "type": "contourcarpet"
           }
          ],
          "heatmap": [
           {
            "colorbar": {
             "outlinewidth": 0,
             "ticks": ""
            },
            "colorscale": [
             [
              0,
              "#0d0887"
             ],
             [
              0.1111111111111111,
              "#46039f"
             ],
             [
              0.2222222222222222,
              "#7201a8"
             ],
             [
              0.3333333333333333,
              "#9c179e"
             ],
             [
              0.4444444444444444,
              "#bd3786"
             ],
             [
              0.5555555555555556,
              "#d8576b"
             ],
             [
              0.6666666666666666,
              "#ed7953"
             ],
             [
              0.7777777777777778,
              "#fb9f3a"
             ],
             [
              0.8888888888888888,
              "#fdca26"
             ],
             [
              1,
              "#f0f921"
             ]
            ],
            "type": "heatmap"
           }
          ],
          "heatmapgl": [
           {
            "colorbar": {
             "outlinewidth": 0,
             "ticks": ""
            },
            "colorscale": [
             [
              0,
              "#0d0887"
             ],
             [
              0.1111111111111111,
              "#46039f"
             ],
             [
              0.2222222222222222,
              "#7201a8"
             ],
             [
              0.3333333333333333,
              "#9c179e"
             ],
             [
              0.4444444444444444,
              "#bd3786"
             ],
             [
              0.5555555555555556,
              "#d8576b"
             ],
             [
              0.6666666666666666,
              "#ed7953"
             ],
             [
              0.7777777777777778,
              "#fb9f3a"
             ],
             [
              0.8888888888888888,
              "#fdca26"
             ],
             [
              1,
              "#f0f921"
             ]
            ],
            "type": "heatmapgl"
           }
          ],
          "histogram": [
           {
            "marker": {
             "pattern": {
              "fillmode": "overlay",
              "size": 10,
              "solidity": 0.2
             }
            },
            "type": "histogram"
           }
          ],
          "histogram2d": [
           {
            "colorbar": {
             "outlinewidth": 0,
             "ticks": ""
            },
            "colorscale": [
             [
              0,
              "#0d0887"
             ],
             [
              0.1111111111111111,
              "#46039f"
             ],
             [
              0.2222222222222222,
              "#7201a8"
             ],
             [
              0.3333333333333333,
              "#9c179e"
             ],
             [
              0.4444444444444444,
              "#bd3786"
             ],
             [
              0.5555555555555556,
              "#d8576b"
             ],
             [
              0.6666666666666666,
              "#ed7953"
             ],
             [
              0.7777777777777778,
              "#fb9f3a"
             ],
             [
              0.8888888888888888,
              "#fdca26"
             ],
             [
              1,
              "#f0f921"
             ]
            ],
            "type": "histogram2d"
           }
          ],
          "histogram2dcontour": [
           {
            "colorbar": {
             "outlinewidth": 0,
             "ticks": ""
            },
            "colorscale": [
             [
              0,
              "#0d0887"
             ],
             [
              0.1111111111111111,
              "#46039f"
             ],
             [
              0.2222222222222222,
              "#7201a8"
             ],
             [
              0.3333333333333333,
              "#9c179e"
             ],
             [
              0.4444444444444444,
              "#bd3786"
             ],
             [
              0.5555555555555556,
              "#d8576b"
             ],
             [
              0.6666666666666666,
              "#ed7953"
             ],
             [
              0.7777777777777778,
              "#fb9f3a"
             ],
             [
              0.8888888888888888,
              "#fdca26"
             ],
             [
              1,
              "#f0f921"
             ]
            ],
            "type": "histogram2dcontour"
           }
          ],
          "mesh3d": [
           {
            "colorbar": {
             "outlinewidth": 0,
             "ticks": ""
            },
            "type": "mesh3d"
           }
          ],
          "parcoords": [
           {
            "line": {
             "colorbar": {
              "outlinewidth": 0,
              "ticks": ""
             }
            },
            "type": "parcoords"
           }
          ],
          "pie": [
           {
            "automargin": true,
            "type": "pie"
           }
          ],
          "scatter": [
           {
            "fillpattern": {
             "fillmode": "overlay",
             "size": 10,
             "solidity": 0.2
            },
            "type": "scatter"
           }
          ],
          "scatter3d": [
           {
            "line": {
             "colorbar": {
              "outlinewidth": 0,
              "ticks": ""
             }
            },
            "marker": {
             "colorbar": {
              "outlinewidth": 0,
              "ticks": ""
             }
            },
            "type": "scatter3d"
           }
          ],
          "scattercarpet": [
           {
            "marker": {
             "colorbar": {
              "outlinewidth": 0,
              "ticks": ""
             }
            },
            "type": "scattercarpet"
           }
          ],
          "scattergeo": [
           {
            "marker": {
             "colorbar": {
              "outlinewidth": 0,
              "ticks": ""
             }
            },
            "type": "scattergeo"
           }
          ],
          "scattergl": [
           {
            "marker": {
             "colorbar": {
              "outlinewidth": 0,
              "ticks": ""
             }
            },
            "type": "scattergl"
           }
          ],
          "scattermapbox": [
           {
            "marker": {
             "colorbar": {
              "outlinewidth": 0,
              "ticks": ""
             }
            },
            "type": "scattermapbox"
           }
          ],
          "scatterpolar": [
           {
            "marker": {
             "colorbar": {
              "outlinewidth": 0,
              "ticks": ""
             }
            },
            "type": "scatterpolar"
           }
          ],
          "scatterpolargl": [
           {
            "marker": {
             "colorbar": {
              "outlinewidth": 0,
              "ticks": ""
             }
            },
            "type": "scatterpolargl"
           }
          ],
          "scatterternary": [
           {
            "marker": {
             "colorbar": {
              "outlinewidth": 0,
              "ticks": ""
             }
            },
            "type": "scatterternary"
           }
          ],
          "surface": [
           {
            "colorbar": {
             "outlinewidth": 0,
             "ticks": ""
            },
            "colorscale": [
             [
              0,
              "#0d0887"
             ],
             [
              0.1111111111111111,
              "#46039f"
             ],
             [
              0.2222222222222222,
              "#7201a8"
             ],
             [
              0.3333333333333333,
              "#9c179e"
             ],
             [
              0.4444444444444444,
              "#bd3786"
             ],
             [
              0.5555555555555556,
              "#d8576b"
             ],
             [
              0.6666666666666666,
              "#ed7953"
             ],
             [
              0.7777777777777778,
              "#fb9f3a"
             ],
             [
              0.8888888888888888,
              "#fdca26"
             ],
             [
              1,
              "#f0f921"
             ]
            ],
            "type": "surface"
           }
          ],
          "table": [
           {
            "cells": {
             "fill": {
              "color": "#EBF0F8"
             },
             "line": {
              "color": "white"
             }
            },
            "header": {
             "fill": {
              "color": "#C8D4E3"
             },
             "line": {
              "color": "white"
             }
            },
            "type": "table"
           }
          ]
         },
         "layout": {
          "annotationdefaults": {
           "arrowcolor": "#2a3f5f",
           "arrowhead": 0,
           "arrowwidth": 1
          },
          "autotypenumbers": "strict",
          "coloraxis": {
           "colorbar": {
            "outlinewidth": 0,
            "ticks": ""
           }
          },
          "colorscale": {
           "diverging": [
            [
             0,
             "#8e0152"
            ],
            [
             0.1,
             "#c51b7d"
            ],
            [
             0.2,
             "#de77ae"
            ],
            [
             0.3,
             "#f1b6da"
            ],
            [
             0.4,
             "#fde0ef"
            ],
            [
             0.5,
             "#f7f7f7"
            ],
            [
             0.6,
             "#e6f5d0"
            ],
            [
             0.7,
             "#b8e186"
            ],
            [
             0.8,
             "#7fbc41"
            ],
            [
             0.9,
             "#4d9221"
            ],
            [
             1,
             "#276419"
            ]
           ],
           "sequential": [
            [
             0,
             "#0d0887"
            ],
            [
             0.1111111111111111,
             "#46039f"
            ],
            [
             0.2222222222222222,
             "#7201a8"
            ],
            [
             0.3333333333333333,
             "#9c179e"
            ],
            [
             0.4444444444444444,
             "#bd3786"
            ],
            [
             0.5555555555555556,
             "#d8576b"
            ],
            [
             0.6666666666666666,
             "#ed7953"
            ],
            [
             0.7777777777777778,
             "#fb9f3a"
            ],
            [
             0.8888888888888888,
             "#fdca26"
            ],
            [
             1,
             "#f0f921"
            ]
           ],
           "sequentialminus": [
            [
             0,
             "#0d0887"
            ],
            [
             0.1111111111111111,
             "#46039f"
            ],
            [
             0.2222222222222222,
             "#7201a8"
            ],
            [
             0.3333333333333333,
             "#9c179e"
            ],
            [
             0.4444444444444444,
             "#bd3786"
            ],
            [
             0.5555555555555556,
             "#d8576b"
            ],
            [
             0.6666666666666666,
             "#ed7953"
            ],
            [
             0.7777777777777778,
             "#fb9f3a"
            ],
            [
             0.8888888888888888,
             "#fdca26"
            ],
            [
             1,
             "#f0f921"
            ]
           ]
          },
          "colorway": [
           "#636efa",
           "#EF553B",
           "#00cc96",
           "#ab63fa",
           "#FFA15A",
           "#19d3f3",
           "#FF6692",
           "#B6E880",
           "#FF97FF",
           "#FECB52"
          ],
          "font": {
           "color": "#2a3f5f"
          },
          "geo": {
           "bgcolor": "white",
           "lakecolor": "white",
           "landcolor": "#E5ECF6",
           "showlakes": true,
           "showland": true,
           "subunitcolor": "white"
          },
          "hoverlabel": {
           "align": "left"
          },
          "hovermode": "closest",
          "mapbox": {
           "style": "light"
          },
          "paper_bgcolor": "white",
          "plot_bgcolor": "#E5ECF6",
          "polar": {
           "angularaxis": {
            "gridcolor": "white",
            "linecolor": "white",
            "ticks": ""
           },
           "bgcolor": "#E5ECF6",
           "radialaxis": {
            "gridcolor": "white",
            "linecolor": "white",
            "ticks": ""
           }
          },
          "scene": {
           "xaxis": {
            "backgroundcolor": "#E5ECF6",
            "gridcolor": "white",
            "gridwidth": 2,
            "linecolor": "white",
            "showbackground": true,
            "ticks": "",
            "zerolinecolor": "white"
           },
           "yaxis": {
            "backgroundcolor": "#E5ECF6",
            "gridcolor": "white",
            "gridwidth": 2,
            "linecolor": "white",
            "showbackground": true,
            "ticks": "",
            "zerolinecolor": "white"
           },
           "zaxis": {
            "backgroundcolor": "#E5ECF6",
            "gridcolor": "white",
            "gridwidth": 2,
            "linecolor": "white",
            "showbackground": true,
            "ticks": "",
            "zerolinecolor": "white"
           }
          },
          "shapedefaults": {
           "line": {
            "color": "#2a3f5f"
           }
          },
          "ternary": {
           "aaxis": {
            "gridcolor": "white",
            "linecolor": "white",
            "ticks": ""
           },
           "baxis": {
            "gridcolor": "white",
            "linecolor": "white",
            "ticks": ""
           },
           "bgcolor": "#E5ECF6",
           "caxis": {
            "gridcolor": "white",
            "linecolor": "white",
            "ticks": ""
           }
          },
          "title": {
           "x": 0.05
          },
          "xaxis": {
           "automargin": true,
           "gridcolor": "white",
           "linecolor": "white",
           "ticks": "",
           "title": {
            "standoff": 15
           },
           "zerolinecolor": "white",
           "zerolinewidth": 2
          },
          "yaxis": {
           "automargin": true,
           "gridcolor": "white",
           "linecolor": "white",
           "ticks": "",
           "title": {
            "standoff": 15
           },
           "zerolinecolor": "white",
           "zerolinewidth": 2
          }
         }
        },
        "title": {
         "text": "Top 10 emerging concepts per year"
        },
        "xaxis": {
         "anchor": "y",
         "domain": [
          0,
          1
         ],
         "title": {
          "text": "concept"
         }
        },
        "yaxis": {
         "anchor": "x",
         "domain": [
          0,
          1
         ],
         "title": {
          "text": "first_year"
         }
        }
       }
      },
      "text/html": [
       "<div>                            <div id=\"61a086cc-ed80-4d1a-89d2-925e6fdf1b1e\" class=\"plotly-graph-div\" style=\"height:600px; width:100%;\"></div>            <script type=\"text/javascript\">                require([\"plotly\"], function(Plotly) {                    window.PLOTLYENV=window.PLOTLYENV || {};                                    if (document.getElementById(\"61a086cc-ed80-4d1a-89d2-925e6fdf1b1e\")) {                    Plotly.newPlot(                        \"61a086cc-ed80-4d1a-89d2-925e6fdf1b1e\",                        [{\"hovertemplate\":\"concept=%{x}\\u003cbr\\u003efirst_year=%{y}\\u003cbr\\u003efrequency=%{marker.color}\\u003cextra\\u003e\\u003c\\u002fextra\\u003e\",\"legendgroup\":\"\",\"marker\":{\"color\":[2,2,2,2,3,2,2,4,2,2,2,2,2,2,2,2,2,2,2,2,3,2,2,2,3,2,2,2,2,4,2,2,2,2,2,2,2,2,2,2,2,2,2,2,3,3,2,2,2,2,2,3,2,2,2,3,2,2,2,2,2],\"coloraxis\":\"coloraxis\",\"size\":[2,2,2,2,3,2,2,4,2,2,2,2,2,2,2,2,2,2,2,2,3,2,2,2,3,2,2,2,2,4,2,2,2,2,2,2,2,2,2,2,2,2,2,2,3,3,2,2,2,2,2,3,2,2,2,3,2,2,2,2,2],\"sizemode\":\"area\",\"sizeref\":0.01,\"symbol\":\"circle\"},\"mode\":\"markers\",\"name\":\"\",\"orientation\":\"v\",\"showlegend\":false,\"x\":[\"trace metals\",\"cyber-physical systems\",\"high-end computing\",\"large-scale networking\",\"sea level rise\",\"climate variability\",\"biogeochemical processes\",\"information technology research\",\"trace elements\",\"Atlantic Ocean\",\"big data\",\"Antarctic Ice Sheet\",\"first-order control\",\"climate system\",\"subsurface biogeochemical processes\",\"trace metal cycles\",\"degree of fractionation\",\"trace metal concentrations\",\"high-resolution model\",\"rare earth elements\",\"ice sheet\",\"high confidence software\",\"human-computer interaction\",\"West Antarctica\",\"Pacific Ocean\",\"West Pacific\",\"seismic techniques\",\"resolution model\",\"stratosphere\",\"technology research\",\"volcanism\",\"physical processes\",\"stars\",\"troposphere\",\"future evolution\",\"eruption\",\"environmental changes\",\"data sets\",\"margin\",\"crust\",\"genes\",\"genome\",\"Antarctica\",\"system administration\",\"universe\",\"bed\",\"cosmology\",\"web support\",\"Intergovernmental Panel\",\"gases\",\"Agency mission\",\"geometry\",\"Asia\",\"America\",\"particular interest\",\"such changes\",\"rapid changes\",\"overarching goal\",\"new technique\",\"rdquo\",\"speed\"],\"xaxis\":\"x\",\"y\":[2015,2014,2014,2014,2013,2014,2015,2014,2015,2010,2014,2015,2015,2014,2015,2015,2015,2015,2012,2015,2013,2014,2014,2013,2010,2010,2013,2012,2010,2014,2010,2010,2018,2010,2013,2010,2010,2013,2017,2010,2011,2011,2013,2016,2018,2013,2018,2016,2013,2012,2013,2017,2012,2017,2011,2011,2011,2017,2017,2016,2017],\"yaxis\":\"y\",\"type\":\"scatter\"}],                        {\"template\":{\"data\":{\"histogram2dcontour\":[{\"type\":\"histogram2dcontour\",\"colorbar\":{\"outlinewidth\":0,\"ticks\":\"\"},\"colorscale\":[[0.0,\"#0d0887\"],[0.1111111111111111,\"#46039f\"],[0.2222222222222222,\"#7201a8\"],[0.3333333333333333,\"#9c179e\"],[0.4444444444444444,\"#bd3786\"],[0.5555555555555556,\"#d8576b\"],[0.6666666666666666,\"#ed7953\"],[0.7777777777777778,\"#fb9f3a\"],[0.8888888888888888,\"#fdca26\"],[1.0,\"#f0f921\"]]}],\"choropleth\":[{\"type\":\"choropleth\",\"colorbar\":{\"outlinewidth\":0,\"ticks\":\"\"}}],\"histogram2d\":[{\"type\":\"histogram2d\",\"colorbar\":{\"outlinewidth\":0,\"ticks\":\"\"},\"colorscale\":[[0.0,\"#0d0887\"],[0.1111111111111111,\"#46039f\"],[0.2222222222222222,\"#7201a8\"],[0.3333333333333333,\"#9c179e\"],[0.4444444444444444,\"#bd3786\"],[0.5555555555555556,\"#d8576b\"],[0.6666666666666666,\"#ed7953\"],[0.7777777777777778,\"#fb9f3a\"],[0.8888888888888888,\"#fdca26\"],[1.0,\"#f0f921\"]]}],\"heatmap\":[{\"type\":\"heatmap\",\"colorbar\":{\"outlinewidth\":0,\"ticks\":\"\"},\"colorscale\":[[0.0,\"#0d0887\"],[0.1111111111111111,\"#46039f\"],[0.2222222222222222,\"#7201a8\"],[0.3333333333333333,\"#9c179e\"],[0.4444444444444444,\"#bd3786\"],[0.5555555555555556,\"#d8576b\"],[0.6666666666666666,\"#ed7953\"],[0.7777777777777778,\"#fb9f3a\"],[0.8888888888888888,\"#fdca26\"],[1.0,\"#f0f921\"]]}],\"heatmapgl\":[{\"type\":\"heatmapgl\",\"colorbar\":{\"outlinewidth\":0,\"ticks\":\"\"},\"colorscale\":[[0.0,\"#0d0887\"],[0.1111111111111111,\"#46039f\"],[0.2222222222222222,\"#7201a8\"],[0.3333333333333333,\"#9c179e\"],[0.4444444444444444,\"#bd3786\"],[0.5555555555555556,\"#d8576b\"],[0.6666666666666666,\"#ed7953\"],[0.7777777777777778,\"#fb9f3a\"],[0.8888888888888888,\"#fdca26\"],[1.0,\"#f0f921\"]]}],\"contourcarpet\":[{\"type\":\"contourcarpet\",\"colorbar\":{\"outlinewidth\":0,\"ticks\":\"\"}}],\"contour\":[{\"type\":\"contour\",\"colorbar\":{\"outlinewidth\":0,\"ticks\":\"\"},\"colorscale\":[[0.0,\"#0d0887\"],[0.1111111111111111,\"#46039f\"],[0.2222222222222222,\"#7201a8\"],[0.3333333333333333,\"#9c179e\"],[0.4444444444444444,\"#bd3786\"],[0.5555555555555556,\"#d8576b\"],[0.6666666666666666,\"#ed7953\"],[0.7777777777777778,\"#fb9f3a\"],[0.8888888888888888,\"#fdca26\"],[1.0,\"#f0f921\"]]}],\"surface\":[{\"type\":\"surface\",\"colorbar\":{\"outlinewidth\":0,\"ticks\":\"\"},\"colorscale\":[[0.0,\"#0d0887\"],[0.1111111111111111,\"#46039f\"],[0.2222222222222222,\"#7201a8\"],[0.3333333333333333,\"#9c179e\"],[0.4444444444444444,\"#bd3786\"],[0.5555555555555556,\"#d8576b\"],[0.6666666666666666,\"#ed7953\"],[0.7777777777777778,\"#fb9f3a\"],[0.8888888888888888,\"#fdca26\"],[1.0,\"#f0f921\"]]}],\"mesh3d\":[{\"type\":\"mesh3d\",\"colorbar\":{\"outlinewidth\":0,\"ticks\":\"\"}}],\"scatter\":[{\"fillpattern\":{\"fillmode\":\"overlay\",\"size\":10,\"solidity\":0.2},\"type\":\"scatter\"}],\"parcoords\":[{\"type\":\"parcoords\",\"line\":{\"colorbar\":{\"outlinewidth\":0,\"ticks\":\"\"}}}],\"scatterpolargl\":[{\"type\":\"scatterpolargl\",\"marker\":{\"colorbar\":{\"outlinewidth\":0,\"ticks\":\"\"}}}],\"bar\":[{\"error_x\":{\"color\":\"#2a3f5f\"},\"error_y\":{\"color\":\"#2a3f5f\"},\"marker\":{\"line\":{\"color\":\"#E5ECF6\",\"width\":0.5},\"pattern\":{\"fillmode\":\"overlay\",\"size\":10,\"solidity\":0.2}},\"type\":\"bar\"}],\"scattergeo\":[{\"type\":\"scattergeo\",\"marker\":{\"colorbar\":{\"outlinewidth\":0,\"ticks\":\"\"}}}],\"scatterpolar\":[{\"type\":\"scatterpolar\",\"marker\":{\"colorbar\":{\"outlinewidth\":0,\"ticks\":\"\"}}}],\"histogram\":[{\"marker\":{\"pattern\":{\"fillmode\":\"overlay\",\"size\":10,\"solidity\":0.2}},\"type\":\"histogram\"}],\"scattergl\":[{\"type\":\"scattergl\",\"marker\":{\"colorbar\":{\"outlinewidth\":0,\"ticks\":\"\"}}}],\"scatter3d\":[{\"type\":\"scatter3d\",\"line\":{\"colorbar\":{\"outlinewidth\":0,\"ticks\":\"\"}},\"marker\":{\"colorbar\":{\"outlinewidth\":0,\"ticks\":\"\"}}}],\"scattermapbox\":[{\"type\":\"scattermapbox\",\"marker\":{\"colorbar\":{\"outlinewidth\":0,\"ticks\":\"\"}}}],\"scatterternary\":[{\"type\":\"scatterternary\",\"marker\":{\"colorbar\":{\"outlinewidth\":0,\"ticks\":\"\"}}}],\"scattercarpet\":[{\"type\":\"scattercarpet\",\"marker\":{\"colorbar\":{\"outlinewidth\":0,\"ticks\":\"\"}}}],\"carpet\":[{\"aaxis\":{\"endlinecolor\":\"#2a3f5f\",\"gridcolor\":\"white\",\"linecolor\":\"white\",\"minorgridcolor\":\"white\",\"startlinecolor\":\"#2a3f5f\"},\"baxis\":{\"endlinecolor\":\"#2a3f5f\",\"gridcolor\":\"white\",\"linecolor\":\"white\",\"minorgridcolor\":\"white\",\"startlinecolor\":\"#2a3f5f\"},\"type\":\"carpet\"}],\"table\":[{\"cells\":{\"fill\":{\"color\":\"#EBF0F8\"},\"line\":{\"color\":\"white\"}},\"header\":{\"fill\":{\"color\":\"#C8D4E3\"},\"line\":{\"color\":\"white\"}},\"type\":\"table\"}],\"barpolar\":[{\"marker\":{\"line\":{\"color\":\"#E5ECF6\",\"width\":0.5},\"pattern\":{\"fillmode\":\"overlay\",\"size\":10,\"solidity\":0.2}},\"type\":\"barpolar\"}],\"pie\":[{\"automargin\":true,\"type\":\"pie\"}]},\"layout\":{\"autotypenumbers\":\"strict\",\"colorway\":[\"#636efa\",\"#EF553B\",\"#00cc96\",\"#ab63fa\",\"#FFA15A\",\"#19d3f3\",\"#FF6692\",\"#B6E880\",\"#FF97FF\",\"#FECB52\"],\"font\":{\"color\":\"#2a3f5f\"},\"hovermode\":\"closest\",\"hoverlabel\":{\"align\":\"left\"},\"paper_bgcolor\":\"white\",\"plot_bgcolor\":\"#E5ECF6\",\"polar\":{\"bgcolor\":\"#E5ECF6\",\"angularaxis\":{\"gridcolor\":\"white\",\"linecolor\":\"white\",\"ticks\":\"\"},\"radialaxis\":{\"gridcolor\":\"white\",\"linecolor\":\"white\",\"ticks\":\"\"}},\"ternary\":{\"bgcolor\":\"#E5ECF6\",\"aaxis\":{\"gridcolor\":\"white\",\"linecolor\":\"white\",\"ticks\":\"\"},\"baxis\":{\"gridcolor\":\"white\",\"linecolor\":\"white\",\"ticks\":\"\"},\"caxis\":{\"gridcolor\":\"white\",\"linecolor\":\"white\",\"ticks\":\"\"}},\"coloraxis\":{\"colorbar\":{\"outlinewidth\":0,\"ticks\":\"\"}},\"colorscale\":{\"sequential\":[[0.0,\"#0d0887\"],[0.1111111111111111,\"#46039f\"],[0.2222222222222222,\"#7201a8\"],[0.3333333333333333,\"#9c179e\"],[0.4444444444444444,\"#bd3786\"],[0.5555555555555556,\"#d8576b\"],[0.6666666666666666,\"#ed7953\"],[0.7777777777777778,\"#fb9f3a\"],[0.8888888888888888,\"#fdca26\"],[1.0,\"#f0f921\"]],\"sequentialminus\":[[0.0,\"#0d0887\"],[0.1111111111111111,\"#46039f\"],[0.2222222222222222,\"#7201a8\"],[0.3333333333333333,\"#9c179e\"],[0.4444444444444444,\"#bd3786\"],[0.5555555555555556,\"#d8576b\"],[0.6666666666666666,\"#ed7953\"],[0.7777777777777778,\"#fb9f3a\"],[0.8888888888888888,\"#fdca26\"],[1.0,\"#f0f921\"]],\"diverging\":[[0,\"#8e0152\"],[0.1,\"#c51b7d\"],[0.2,\"#de77ae\"],[0.3,\"#f1b6da\"],[0.4,\"#fde0ef\"],[0.5,\"#f7f7f7\"],[0.6,\"#e6f5d0\"],[0.7,\"#b8e186\"],[0.8,\"#7fbc41\"],[0.9,\"#4d9221\"],[1,\"#276419\"]]},\"xaxis\":{\"gridcolor\":\"white\",\"linecolor\":\"white\",\"ticks\":\"\",\"title\":{\"standoff\":15},\"zerolinecolor\":\"white\",\"automargin\":true,\"zerolinewidth\":2},\"yaxis\":{\"gridcolor\":\"white\",\"linecolor\":\"white\",\"ticks\":\"\",\"title\":{\"standoff\":15},\"zerolinecolor\":\"white\",\"automargin\":true,\"zerolinewidth\":2},\"scene\":{\"xaxis\":{\"backgroundcolor\":\"#E5ECF6\",\"gridcolor\":\"white\",\"linecolor\":\"white\",\"showbackground\":true,\"ticks\":\"\",\"zerolinecolor\":\"white\",\"gridwidth\":2},\"yaxis\":{\"backgroundcolor\":\"#E5ECF6\",\"gridcolor\":\"white\",\"linecolor\":\"white\",\"showbackground\":true,\"ticks\":\"\",\"zerolinecolor\":\"white\",\"gridwidth\":2},\"zaxis\":{\"backgroundcolor\":\"#E5ECF6\",\"gridcolor\":\"white\",\"linecolor\":\"white\",\"showbackground\":true,\"ticks\":\"\",\"zerolinecolor\":\"white\",\"gridwidth\":2}},\"shapedefaults\":{\"line\":{\"color\":\"#2a3f5f\"}},\"annotationdefaults\":{\"arrowcolor\":\"#2a3f5f\",\"arrowhead\":0,\"arrowwidth\":1},\"geo\":{\"bgcolor\":\"white\",\"landcolor\":\"#E5ECF6\",\"subunitcolor\":\"white\",\"showland\":true,\"showlakes\":true,\"lakecolor\":\"white\"},\"title\":{\"x\":0.05},\"mapbox\":{\"style\":\"light\"}}},\"xaxis\":{\"anchor\":\"y\",\"domain\":[0.0,1.0],\"title\":{\"text\":\"concept\"}},\"yaxis\":{\"anchor\":\"x\",\"domain\":[0.0,1.0],\"title\":{\"text\":\"first_year\"}},\"coloraxis\":{\"colorbar\":{\"title\":{\"text\":\"frequency\"}},\"colorscale\":[[0.0,\"#0d0887\"],[0.1111111111111111,\"#46039f\"],[0.2222222222222222,\"#7201a8\"],[0.3333333333333333,\"#9c179e\"],[0.4444444444444444,\"#bd3786\"],[0.5555555555555556,\"#d8576b\"],[0.6666666666666666,\"#ed7953\"],[0.7777777777777778,\"#fb9f3a\"],[0.8888888888888888,\"#fdca26\"],[1.0,\"#f0f921\"]]},\"legend\":{\"tracegroupgap\":0,\"itemsizing\":\"constant\"},\"title\":{\"text\":\"Top 10 emerging concepts per year\"},\"height\":600},                        {\"responsive\": true}                    ).then(function(){\n",
       "                            \n",
       "var gd = document.getElementById('61a086cc-ed80-4d1a-89d2-925e6fdf1b1e');\n",
       "var x = new MutationObserver(function (mutations, observer) {{\n",
       "        var display = window.getComputedStyle(gd).display;\n",
       "        if (!display || display === 'none') {{\n",
       "            console.log([gd, 'removed!']);\n",
       "            Plotly.purge(gd);\n",
       "            observer.disconnect();\n",
       "        }}\n",
       "}});\n",
       "\n",
       "// Listen for the removal of the full notebook cells\n",
       "var notebookContainer = gd.closest('#notebook-container');\n",
       "if (notebookContainer) {{\n",
       "    x.observe(notebookContainer, {childList: true});\n",
       "}}\n",
       "\n",
       "// Listen for the clearing of the current output cell\n",
       "var outputEl = gd.closest('.output');\n",
       "if (outputEl) {{\n",
       "    x.observe(outputEl, {childList: true});\n",
       "}}\n",
       "\n",
       "                        })                };                });            </script>        </div>"
      ]
     },
     "metadata": {},
     "output_type": "display_data"
    }
   ],
   "source": [
    "px.scatter(emerging_concepts,\n",
    "           x=\"concept\", y=\"first_year\",\n",
    "           color=\"frequency\",\n",
    "           size=\"frequency\",\n",
    "           height=600,\n",
    "           title=f\"Top {CONCEPTS_PER_YEAR} emerging concepts per year\")"
   ]
  },
  {
   "cell_type": "markdown",
   "metadata": {
    "Collapsed": "false",
    "id": "wvO5TLgC8I1d"
   },
   "source": [
    "## 5. Segmenting results using the fields of research categories\n",
    "\n",
    "We can modify slightly the code in section 2 above so that the FOR categories are taken into consideration too."
   ]
  },
  {
   "cell_type": "code",
   "execution_count": 8,
   "metadata": {
    "Collapsed": "false",
    "colab": {
     "base_uri": "https://localhost:8080/",
     "height": 686
    },
    "id": "K3yXVM_wH88I",
    "outputId": "e3e36a55-a55f-4cc1-f917-267bf5dbf39c"
   },
   "outputs": [
    {
     "name": "stdout",
     "output_type": "stream",
     "text": [
      "You selected:\n",
      "->200\n",
      "->1-100000000\n",
      "->0.6\n"
     ]
    },
    {
     "data": {
      "application/vnd.plotly.v1+json": {
       "config": {
        "plotlyServerURL": "https://plot.ly"
       },
       "data": [
        {
         "hovertemplate": "for_first=37 Earth Sciences<br>concept=%{x}<br>frequency=%{y}<br>score_avg=%{marker.size}<extra></extra>",
         "legendgroup": "37 Earth Sciences",
         "marker": {
          "color": "#636efa",
          "size": [
           0.937,
           0.935,
           0.934,
           0.93,
           0.928,
           0.911,
           0.909,
           0.892,
           0.891,
           0.867,
           0.865,
           0.864,
           0.864,
           0.86,
           0.86,
           0.86,
           0.853,
           0.848,
           0.845,
           0.844,
           0.844,
           0.844,
           0.842,
           0.841,
           0.839,
           0.837,
           0.837,
           0.835,
           0.828,
           0.811,
           0.806,
           0.806,
           0.805,
           0.805,
           0.804,
           0.804,
           0.804,
           0.804,
           0.803,
           0.803,
           0.803,
           0.802,
           0.8015,
           0.801,
           0.801,
           0.801,
           0.798,
           0.798,
           0.798,
           0.797,
           0.797,
           0.795,
           0.791,
           0.787,
           0.786,
           0.785,
           0.78,
           0.773,
           0.771,
           0.771,
           0.771,
           0.77,
           0.769,
           0.768,
           0.765,
           0.7635,
           0.762,
           0.759,
           0.751,
           0.751,
           0.751,
           0.751,
           0.751,
           0.75,
           0.75,
           0.75,
           0.75,
           0.75,
           0.75,
           0.75,
           0.75,
           0.749,
           0.749,
           0.749,
           0.749,
           0.749,
           0.749,
           0.749,
           0.749,
           0.749,
           0.749,
           0.749,
           0.748,
           0.748,
           0.748,
           0.748,
           0.748,
           0.748,
           0.747,
           0.747,
           0.747,
           0.747,
           0.747,
           0.747,
           0.747,
           0.747,
           0.747,
           0.746,
           0.746,
           0.746,
           0.746,
           0.746,
           0.746,
           0.746,
           0.746,
           0.746,
           0.746,
           0.746,
           0.745,
           0.745,
           0.745,
           0.744,
           0.744,
           0.744,
           0.743,
           0.743,
           0.742,
           0.742,
           0.741,
           0.739,
           0.739,
           0.738,
           0.738,
           0.738,
           0.737,
           0.736,
           0.736,
           0.736,
           0.734
          ],
          "sizemode": "area",
          "sizeref": 0.0023425,
          "symbol": "circle"
         },
         "mode": "markers",
         "name": "37 Earth Sciences",
         "orientation": "v",
         "showlegend": true,
         "type": "scatter",
         "x": [
          "Atlantic Meridional Overturning Circulation",
          "slow slip events",
          "tropical tropopause layer",
          "Pine Island Glacier",
          "plate boundary fault",
          "deep water masses",
          "large explosive eruptions",
          "West Antarctic Ice Sheet",
          "high-resolution atmospheric model",
          "ice stream margins",
          "Southern Ocean",
          "large earthquakes",
          "high-impact weather",
          "subduction zone",
          "boundary faults",
          "water masses",
          "temperate ice",
          "ocean acidification",
          "ocean circulation",
          "trace metals",
          "active volcanism",
          "climate simulations",
          "deep ocean",
          "explosive eruptions",
          "meridional overturning circulation",
          "seismic data",
          "lower stratosphere",
          "Global Hawk",
          "Galápagos Archipelago",
          "full-waveform inversion",
          "mantle melting",
          "plume upwelling",
          "ocean's role",
          "mantle plume",
          "anthropogenic carbon",
          "ice streams",
          "geochemical analyses",
          "Volcanic Province",
          "sea level rise",
          "Spreading Center",
          "eruption history",
          "drill sites",
          "climate variability",
          "tectonic plates",
          "ocean chemistry",
          "large eruptions",
          "slip events",
          "Earth's crust",
          "upper troposphere",
          "biogeochemical processes",
          "destructive earthquakes",
          "atmospheric model",
          "deep water",
          "internal waves",
          "atmospheric concentrations",
          "hazardous weather",
          "trace elements",
          "mass balance",
          "low basal shear stress",
          "shallow slow slip events",
          "regional high-resolution model",
          "air-sea CO2 fluxes",
          "ice sheet mass balance",
          "halogen species",
          "ice-stream shear margins",
          "Atlantic Ocean",
          "surface energy balance measurements",
          "coastal communities",
          "Atlantic Ocean system",
          "slow slip processes",
          "potential socio-economic consequences",
          "different CO2 emission scenarios",
          "low-latitude teleconnections",
          "Antarctic Ice Sheet",
          "sea level contribution",
          "low seismic velocities",
          "limited geochemical data",
          "mantle plume upwelling",
          "plume-ridge interaction",
          "large igneous province",
          "sites of volcanism",
          "ice-stream model",
          "Sumatra-Andaman earthquake",
          "low-velocity anomaly",
          "climate model performance",
          "oceanic spreading centres",
          "regional geophysical studies",
          "pressure of melting",
          "boundary layer",
          "hot spot track",
          "Isopycnal Mixing Experiment",
          "Resolution Atmospheric Model",
          "first-order control",
          "multi-decadal timescales",
          "observed climate record",
          "composition of volcanism",
          "magma chamber processes",
          "surface water masses",
          "climate system",
          "Earth System Model",
          "ice stream flow",
          "fault zone properties",
          "last major eruption",
          "Galápagos Spreading Center",
          "Earth surface processes",
          "sea surface temperature",
          "Madden–Julian oscillation",
          "subsurface biogeochemical processes",
          "understanding of predictability",
          "wind-driven circulation",
          "ice stream motion",
          "Earth's tectonic plates",
          "global sea level",
          "FAAM BAe-146",
          "recent volcanic eruptions",
          "seismic velocity data",
          "marine boundary layer",
          "Snake River Plain",
          "discharge of ice",
          "warm air advection",
          "Mid-Atlantic Ridge",
          "trace metal cycles",
          "Earth system variability",
          "ice thinning rates",
          "pressure melting point",
          "continuous GPS network",
          "basal shear stress",
          "stratospheric bromine budget",
          "action of eddies",
          "degree of fractionation",
          "Snake River–type",
          "trace metal concentrations",
          "depletion of O3",
          "key driving processes",
          "high-resolution model",
          "CO2 emission scenarios",
          "year flood event",
          "high-latitude regions",
          "sub-visible cirrus"
         ],
         "xaxis": "x",
         "y": [
          1,
          1,
          1,
          1,
          1,
          1,
          1,
          1,
          1,
          1,
          1,
          1,
          1,
          1,
          1,
          1,
          1,
          1,
          1,
          2,
          1,
          1,
          1,
          1,
          2,
          1,
          1,
          1,
          1,
          1,
          1,
          1,
          1,
          1,
          1,
          1,
          1,
          1,
          3,
          1,
          1,
          1,
          2,
          1,
          1,
          1,
          1,
          1,
          1,
          2,
          1,
          1,
          1,
          1,
          1,
          1,
          2,
          1,
          1,
          1,
          1,
          1,
          1,
          1,
          1,
          2,
          1,
          1,
          1,
          1,
          1,
          1,
          1,
          2,
          1,
          1,
          1,
          1,
          1,
          1,
          1,
          1,
          1,
          1,
          1,
          1,
          1,
          1,
          1,
          1,
          1,
          1,
          2,
          1,
          1,
          1,
          1,
          1,
          2,
          1,
          1,
          1,
          1,
          1,
          1,
          1,
          1,
          2,
          1,
          1,
          1,
          1,
          1,
          1,
          1,
          1,
          1,
          1,
          1,
          1,
          1,
          2,
          1,
          1,
          1,
          1,
          1,
          1,
          1,
          2,
          1,
          2,
          1,
          1,
          2,
          1,
          1,
          1,
          1
         ],
         "yaxis": "y"
        },
        {
         "hovertemplate": "for_first=51 Physical Sciences<br>concept=%{x}<br>frequency=%{y}<br>score_avg=%{marker.size}<extra></extra>",
         "legendgroup": "51 Physical Sciences",
         "marker": {
          "color": "#EF553B",
          "size": [
           0.887,
           0.847,
           0.846,
           0.841,
           0.824,
           0.812,
           0.799,
           0.786,
           0.784,
           0.782,
           0.781,
           0.781,
           0.77,
           0.762,
           0.747,
           0.735,
           0.734
          ],
          "sizemode": "area",
          "sizeref": 0.0023425,
          "symbol": "circle"
         },
         "mode": "markers",
         "name": "51 Physical Sciences",
         "orientation": "v",
         "showlegend": true,
         "type": "scatter",
         "x": [
          "evolution of galaxies",
          "stellar surface inhomogeneities",
          "active galactic nuclei",
          "supermassive black holes",
          "host star",
          "high-performance computing",
          "black holes",
          "magnetic field",
          "galactic nuclei",
          "galaxy clusters",
          "stellar surface",
          "stellar lines",
          "dynamical history",
          "software infrastructure",
          "future high-precision experiments",
          "matter science",
          "chemical evolution modelling"
         ],
         "xaxis": "x",
         "y": [
          1,
          1,
          1,
          1,
          1,
          1,
          1,
          1,
          1,
          1,
          1,
          1,
          1,
          1,
          1,
          1,
          1
         ],
         "yaxis": "y"
        },
        {
         "hovertemplate": "for_first=49 Mathematical Sciences<br>concept=%{x}<br>frequency=%{y}<br>score_avg=%{marker.size}<extra></extra>",
         "legendgroup": "49 Mathematical Sciences",
         "marker": {
          "color": "#00cc96",
          "size": [
           0.855,
           0.787,
           0.773,
           0.76,
           0.735
          ],
          "sizemode": "area",
          "sizeref": 0.0023425,
          "symbol": "circle"
         },
         "mode": "markers",
         "name": "49 Mathematical Sciences",
         "orientation": "v",
         "showlegend": true,
         "type": "scatter",
         "x": [
          "complex reflection groups",
          "reflection groups",
          "Orlik–Solomon algebra",
          "symmetric group",
          "Coxeter groups"
         ],
         "xaxis": "x",
         "y": [
          1,
          1,
          1,
          1,
          1
         ],
         "yaxis": "y"
        },
        {
         "hovertemplate": "for_first=46 Information and Computing Sciences<br>concept=%{x}<br>frequency=%{y}<br>score_avg=%{marker.size}<extra></extra>",
         "legendgroup": "46 Information and Computing Sciences",
         "marker": {
          "color": "#ab63fa",
          "size": [
           0.855,
           0.841,
           0.827,
           0.822,
           0.82,
           0.817,
           0.7935,
           0.766,
           0.762,
           0.759,
           0.759,
           0.757,
           0.744
          ],
          "sizemode": "area",
          "sizeref": 0.0023425,
          "symbol": "circle"
         },
         "mode": "markers",
         "name": "46 Information and Computing Sciences",
         "orientation": "v",
         "showlegend": true,
         "type": "scatter",
         "x": [
          "multiparty session types",
          "cognitive control",
          "cyber-physical systems",
          "protocol description language",
          "high-end computing",
          "large-scale networking",
          "information technology research",
          "assurance methodology",
          "big data",
          "distributed system",
          "assertion language",
          "description language",
          "cognitive robotics research"
         ],
         "xaxis": "x",
         "y": [
          1,
          1,
          2,
          1,
          2,
          2,
          4,
          1,
          2,
          1,
          1,
          1,
          1
         ],
         "yaxis": "y"
        },
        {
         "hovertemplate": "for_first=41 Environmental Sciences<br>concept=%{x}<br>frequency=%{y}<br>score_avg=%{marker.size}<extra></extra>",
         "legendgroup": "41 Environmental Sciences",
         "marker": {
          "color": "#FFA15A",
          "size": [
           0.854,
           0.854,
           0.849,
           0.803,
           0.794,
           0.754,
           0.751,
           0.749,
           0.746,
           0.742,
           0.737,
           0.737,
           0.735
          ],
          "sizemode": "area",
          "sizeref": 0.0023425,
          "symbol": "circle"
         },
         "mode": "markers",
         "name": "41 Environmental Sciences",
         "orientation": "v",
         "showlegend": true,
         "type": "scatter",
         "x": [
          "ecosystem model",
          "Western Channel Observatory",
          "meiofaunal biodiversity",
          "estuarine ecosystems",
          "meiofaunal communities",
          "biodiversity-ecosystem functioning",
          "faunal species richness",
          "upper ocean ecosystem",
          "important estuarine species",
          "sustainable management strategies",
          "marine environment",
          "global environment change",
          "hydrodynamic-ecosystem model"
         ],
         "xaxis": "x",
         "y": [
          1,
          1,
          2,
          2,
          2,
          2,
          2,
          1,
          2,
          1,
          2,
          1,
          1
         ],
         "yaxis": "y"
        },
        {
         "hovertemplate": "for_first=40 Engineering<br>concept=%{x}<br>frequency=%{y}<br>score_avg=%{marker.size}<extra></extra>",
         "legendgroup": "40 Engineering",
         "marker": {
          "color": "#19d3f3",
          "size": [
           0.809,
           0.76,
           0.747,
           0.738
          ],
          "sizemode": "area",
          "sizeref": 0.0023425,
          "symbol": "circle"
         },
         "mode": "markers",
         "name": "40 Engineering",
         "orientation": "v",
         "showlegend": true,
         "type": "scatter",
         "x": [
          "Brillouin optical time domain reflectometer",
          "differential geometry",
          "microlocal analysis",
          "fiber optic technology"
         ],
         "xaxis": "x",
         "y": [
          1,
          1,
          1,
          1
         ],
         "yaxis": "y"
        },
        {
         "hovertemplate": "for_first=36 Creative Arts and Writing<br>concept=%{x}<br>frequency=%{y}<br>score_avg=%{marker.size}<extra></extra>",
         "legendgroup": "36 Creative Arts and Writing",
         "marker": {
          "color": "#FF6692",
          "size": [
           0.805,
           0.804,
           0.78,
           0.744
          ],
          "sizemode": "area",
          "sizeref": 0.0023425,
          "symbol": "circle"
         },
         "mode": "markers",
         "name": "36 Creative Arts and Writing",
         "orientation": "v",
         "showlegend": true,
         "type": "scatter",
         "x": [
          "verbal text",
          "book illustrations",
          "nineteenth century",
          "long nineteenth century"
         ],
         "xaxis": "x",
         "y": [
          1,
          1,
          1,
          1
         ],
         "yaxis": "y"
        },
        {
         "hovertemplate": "for_first=31 Biological Sciences<br>concept=%{x}<br>frequency=%{y}<br>score_avg=%{marker.size}<extra></extra>",
         "legendgroup": "31 Biological Sciences",
         "marker": {
          "color": "#B6E880",
          "size": [
           0.791,
           0.781,
           0.746,
           0.735,
           0.734
          ],
          "sizemode": "area",
          "sizeref": 0.0023425,
          "symbol": "circle"
         },
         "mode": "markers",
         "name": "31 Biological Sciences",
         "orientation": "v",
         "showlegend": true,
         "type": "scatter",
         "x": [
          "gene models",
          "wild populations",
          "natural populations",
          "larger taxa",
          "genome sequence"
         ],
         "xaxis": "x",
         "y": [
          1,
          1,
          1,
          1,
          1
         ],
         "yaxis": "y"
        }
       ],
       "layout": {
        "height": 600,
        "legend": {
         "itemsizing": "constant",
         "title": {
          "text": "for_first"
         },
         "tracegroupgap": 0
        },
        "margin": {
         "t": 60
        },
        "template": {
         "data": {
          "bar": [
           {
            "error_x": {
             "color": "#2a3f5f"
            },
            "error_y": {
             "color": "#2a3f5f"
            },
            "marker": {
             "line": {
              "color": "#E5ECF6",
              "width": 0.5
             },
             "pattern": {
              "fillmode": "overlay",
              "size": 10,
              "solidity": 0.2
             }
            },
            "type": "bar"
           }
          ],
          "barpolar": [
           {
            "marker": {
             "line": {
              "color": "#E5ECF6",
              "width": 0.5
             },
             "pattern": {
              "fillmode": "overlay",
              "size": 10,
              "solidity": 0.2
             }
            },
            "type": "barpolar"
           }
          ],
          "carpet": [
           {
            "aaxis": {
             "endlinecolor": "#2a3f5f",
             "gridcolor": "white",
             "linecolor": "white",
             "minorgridcolor": "white",
             "startlinecolor": "#2a3f5f"
            },
            "baxis": {
             "endlinecolor": "#2a3f5f",
             "gridcolor": "white",
             "linecolor": "white",
             "minorgridcolor": "white",
             "startlinecolor": "#2a3f5f"
            },
            "type": "carpet"
           }
          ],
          "choropleth": [
           {
            "colorbar": {
             "outlinewidth": 0,
             "ticks": ""
            },
            "type": "choropleth"
           }
          ],
          "contour": [
           {
            "colorbar": {
             "outlinewidth": 0,
             "ticks": ""
            },
            "colorscale": [
             [
              0,
              "#0d0887"
             ],
             [
              0.1111111111111111,
              "#46039f"
             ],
             [
              0.2222222222222222,
              "#7201a8"
             ],
             [
              0.3333333333333333,
              "#9c179e"
             ],
             [
              0.4444444444444444,
              "#bd3786"
             ],
             [
              0.5555555555555556,
              "#d8576b"
             ],
             [
              0.6666666666666666,
              "#ed7953"
             ],
             [
              0.7777777777777778,
              "#fb9f3a"
             ],
             [
              0.8888888888888888,
              "#fdca26"
             ],
             [
              1,
              "#f0f921"
             ]
            ],
            "type": "contour"
           }
          ],
          "contourcarpet": [
           {
            "colorbar": {
             "outlinewidth": 0,
             "ticks": ""
            },
            "type": "contourcarpet"
           }
          ],
          "heatmap": [
           {
            "colorbar": {
             "outlinewidth": 0,
             "ticks": ""
            },
            "colorscale": [
             [
              0,
              "#0d0887"
             ],
             [
              0.1111111111111111,
              "#46039f"
             ],
             [
              0.2222222222222222,
              "#7201a8"
             ],
             [
              0.3333333333333333,
              "#9c179e"
             ],
             [
              0.4444444444444444,
              "#bd3786"
             ],
             [
              0.5555555555555556,
              "#d8576b"
             ],
             [
              0.6666666666666666,
              "#ed7953"
             ],
             [
              0.7777777777777778,
              "#fb9f3a"
             ],
             [
              0.8888888888888888,
              "#fdca26"
             ],
             [
              1,
              "#f0f921"
             ]
            ],
            "type": "heatmap"
           }
          ],
          "heatmapgl": [
           {
            "colorbar": {
             "outlinewidth": 0,
             "ticks": ""
            },
            "colorscale": [
             [
              0,
              "#0d0887"
             ],
             [
              0.1111111111111111,
              "#46039f"
             ],
             [
              0.2222222222222222,
              "#7201a8"
             ],
             [
              0.3333333333333333,
              "#9c179e"
             ],
             [
              0.4444444444444444,
              "#bd3786"
             ],
             [
              0.5555555555555556,
              "#d8576b"
             ],
             [
              0.6666666666666666,
              "#ed7953"
             ],
             [
              0.7777777777777778,
              "#fb9f3a"
             ],
             [
              0.8888888888888888,
              "#fdca26"
             ],
             [
              1,
              "#f0f921"
             ]
            ],
            "type": "heatmapgl"
           }
          ],
          "histogram": [
           {
            "marker": {
             "pattern": {
              "fillmode": "overlay",
              "size": 10,
              "solidity": 0.2
             }
            },
            "type": "histogram"
           }
          ],
          "histogram2d": [
           {
            "colorbar": {
             "outlinewidth": 0,
             "ticks": ""
            },
            "colorscale": [
             [
              0,
              "#0d0887"
             ],
             [
              0.1111111111111111,
              "#46039f"
             ],
             [
              0.2222222222222222,
              "#7201a8"
             ],
             [
              0.3333333333333333,
              "#9c179e"
             ],
             [
              0.4444444444444444,
              "#bd3786"
             ],
             [
              0.5555555555555556,
              "#d8576b"
             ],
             [
              0.6666666666666666,
              "#ed7953"
             ],
             [
              0.7777777777777778,
              "#fb9f3a"
             ],
             [
              0.8888888888888888,
              "#fdca26"
             ],
             [
              1,
              "#f0f921"
             ]
            ],
            "type": "histogram2d"
           }
          ],
          "histogram2dcontour": [
           {
            "colorbar": {
             "outlinewidth": 0,
             "ticks": ""
            },
            "colorscale": [
             [
              0,
              "#0d0887"
             ],
             [
              0.1111111111111111,
              "#46039f"
             ],
             [
              0.2222222222222222,
              "#7201a8"
             ],
             [
              0.3333333333333333,
              "#9c179e"
             ],
             [
              0.4444444444444444,
              "#bd3786"
             ],
             [
              0.5555555555555556,
              "#d8576b"
             ],
             [
              0.6666666666666666,
              "#ed7953"
             ],
             [
              0.7777777777777778,
              "#fb9f3a"
             ],
             [
              0.8888888888888888,
              "#fdca26"
             ],
             [
              1,
              "#f0f921"
             ]
            ],
            "type": "histogram2dcontour"
           }
          ],
          "mesh3d": [
           {
            "colorbar": {
             "outlinewidth": 0,
             "ticks": ""
            },
            "type": "mesh3d"
           }
          ],
          "parcoords": [
           {
            "line": {
             "colorbar": {
              "outlinewidth": 0,
              "ticks": ""
             }
            },
            "type": "parcoords"
           }
          ],
          "pie": [
           {
            "automargin": true,
            "type": "pie"
           }
          ],
          "scatter": [
           {
            "fillpattern": {
             "fillmode": "overlay",
             "size": 10,
             "solidity": 0.2
            },
            "type": "scatter"
           }
          ],
          "scatter3d": [
           {
            "line": {
             "colorbar": {
              "outlinewidth": 0,
              "ticks": ""
             }
            },
            "marker": {
             "colorbar": {
              "outlinewidth": 0,
              "ticks": ""
             }
            },
            "type": "scatter3d"
           }
          ],
          "scattercarpet": [
           {
            "marker": {
             "colorbar": {
              "outlinewidth": 0,
              "ticks": ""
             }
            },
            "type": "scattercarpet"
           }
          ],
          "scattergeo": [
           {
            "marker": {
             "colorbar": {
              "outlinewidth": 0,
              "ticks": ""
             }
            },
            "type": "scattergeo"
           }
          ],
          "scattergl": [
           {
            "marker": {
             "colorbar": {
              "outlinewidth": 0,
              "ticks": ""
             }
            },
            "type": "scattergl"
           }
          ],
          "scattermapbox": [
           {
            "marker": {
             "colorbar": {
              "outlinewidth": 0,
              "ticks": ""
             }
            },
            "type": "scattermapbox"
           }
          ],
          "scatterpolar": [
           {
            "marker": {
             "colorbar": {
              "outlinewidth": 0,
              "ticks": ""
             }
            },
            "type": "scatterpolar"
           }
          ],
          "scatterpolargl": [
           {
            "marker": {
             "colorbar": {
              "outlinewidth": 0,
              "ticks": ""
             }
            },
            "type": "scatterpolargl"
           }
          ],
          "scatterternary": [
           {
            "marker": {
             "colorbar": {
              "outlinewidth": 0,
              "ticks": ""
             }
            },
            "type": "scatterternary"
           }
          ],
          "surface": [
           {
            "colorbar": {
             "outlinewidth": 0,
             "ticks": ""
            },
            "colorscale": [
             [
              0,
              "#0d0887"
             ],
             [
              0.1111111111111111,
              "#46039f"
             ],
             [
              0.2222222222222222,
              "#7201a8"
             ],
             [
              0.3333333333333333,
              "#9c179e"
             ],
             [
              0.4444444444444444,
              "#bd3786"
             ],
             [
              0.5555555555555556,
              "#d8576b"
             ],
             [
              0.6666666666666666,
              "#ed7953"
             ],
             [
              0.7777777777777778,
              "#fb9f3a"
             ],
             [
              0.8888888888888888,
              "#fdca26"
             ],
             [
              1,
              "#f0f921"
             ]
            ],
            "type": "surface"
           }
          ],
          "table": [
           {
            "cells": {
             "fill": {
              "color": "#EBF0F8"
             },
             "line": {
              "color": "white"
             }
            },
            "header": {
             "fill": {
              "color": "#C8D4E3"
             },
             "line": {
              "color": "white"
             }
            },
            "type": "table"
           }
          ]
         },
         "layout": {
          "annotationdefaults": {
           "arrowcolor": "#2a3f5f",
           "arrowhead": 0,
           "arrowwidth": 1
          },
          "autotypenumbers": "strict",
          "coloraxis": {
           "colorbar": {
            "outlinewidth": 0,
            "ticks": ""
           }
          },
          "colorscale": {
           "diverging": [
            [
             0,
             "#8e0152"
            ],
            [
             0.1,
             "#c51b7d"
            ],
            [
             0.2,
             "#de77ae"
            ],
            [
             0.3,
             "#f1b6da"
            ],
            [
             0.4,
             "#fde0ef"
            ],
            [
             0.5,
             "#f7f7f7"
            ],
            [
             0.6,
             "#e6f5d0"
            ],
            [
             0.7,
             "#b8e186"
            ],
            [
             0.8,
             "#7fbc41"
            ],
            [
             0.9,
             "#4d9221"
            ],
            [
             1,
             "#276419"
            ]
           ],
           "sequential": [
            [
             0,
             "#0d0887"
            ],
            [
             0.1111111111111111,
             "#46039f"
            ],
            [
             0.2222222222222222,
             "#7201a8"
            ],
            [
             0.3333333333333333,
             "#9c179e"
            ],
            [
             0.4444444444444444,
             "#bd3786"
            ],
            [
             0.5555555555555556,
             "#d8576b"
            ],
            [
             0.6666666666666666,
             "#ed7953"
            ],
            [
             0.7777777777777778,
             "#fb9f3a"
            ],
            [
             0.8888888888888888,
             "#fdca26"
            ],
            [
             1,
             "#f0f921"
            ]
           ],
           "sequentialminus": [
            [
             0,
             "#0d0887"
            ],
            [
             0.1111111111111111,
             "#46039f"
            ],
            [
             0.2222222222222222,
             "#7201a8"
            ],
            [
             0.3333333333333333,
             "#9c179e"
            ],
            [
             0.4444444444444444,
             "#bd3786"
            ],
            [
             0.5555555555555556,
             "#d8576b"
            ],
            [
             0.6666666666666666,
             "#ed7953"
            ],
            [
             0.7777777777777778,
             "#fb9f3a"
            ],
            [
             0.8888888888888888,
             "#fdca26"
            ],
            [
             1,
             "#f0f921"
            ]
           ]
          },
          "colorway": [
           "#636efa",
           "#EF553B",
           "#00cc96",
           "#ab63fa",
           "#FFA15A",
           "#19d3f3",
           "#FF6692",
           "#B6E880",
           "#FF97FF",
           "#FECB52"
          ],
          "font": {
           "color": "#2a3f5f"
          },
          "geo": {
           "bgcolor": "white",
           "lakecolor": "white",
           "landcolor": "#E5ECF6",
           "showlakes": true,
           "showland": true,
           "subunitcolor": "white"
          },
          "hoverlabel": {
           "align": "left"
          },
          "hovermode": "closest",
          "mapbox": {
           "style": "light"
          },
          "paper_bgcolor": "white",
          "plot_bgcolor": "#E5ECF6",
          "polar": {
           "angularaxis": {
            "gridcolor": "white",
            "linecolor": "white",
            "ticks": ""
           },
           "bgcolor": "#E5ECF6",
           "radialaxis": {
            "gridcolor": "white",
            "linecolor": "white",
            "ticks": ""
           }
          },
          "scene": {
           "xaxis": {
            "backgroundcolor": "#E5ECF6",
            "gridcolor": "white",
            "gridwidth": 2,
            "linecolor": "white",
            "showbackground": true,
            "ticks": "",
            "zerolinecolor": "white"
           },
           "yaxis": {
            "backgroundcolor": "#E5ECF6",
            "gridcolor": "white",
            "gridwidth": 2,
            "linecolor": "white",
            "showbackground": true,
            "ticks": "",
            "zerolinecolor": "white"
           },
           "zaxis": {
            "backgroundcolor": "#E5ECF6",
            "gridcolor": "white",
            "gridwidth": 2,
            "linecolor": "white",
            "showbackground": true,
            "ticks": "",
            "zerolinecolor": "white"
           }
          },
          "shapedefaults": {
           "line": {
            "color": "#2a3f5f"
           }
          },
          "ternary": {
           "aaxis": {
            "gridcolor": "white",
            "linecolor": "white",
            "ticks": ""
           },
           "baxis": {
            "gridcolor": "white",
            "linecolor": "white",
            "ticks": ""
           },
           "bgcolor": "#E5ECF6",
           "caxis": {
            "gridcolor": "white",
            "linecolor": "white",
            "ticks": ""
           }
          },
          "title": {
           "x": 0.05
          },
          "xaxis": {
           "automargin": true,
           "gridcolor": "white",
           "linecolor": "white",
           "ticks": "",
           "title": {
            "standoff": 15
           },
           "zerolinecolor": "white",
           "zerolinewidth": 2
          },
          "yaxis": {
           "automargin": true,
           "gridcolor": "white",
           "linecolor": "white",
           "ticks": "",
           "title": {
            "standoff": 15
           },
           "zerolinecolor": "white",
           "zerolinewidth": 2
          }
         }
        },
        "xaxis": {
         "anchor": "y",
         "domain": [
          0,
          1
         ],
         "title": {
          "text": "concept"
         }
        },
        "yaxis": {
         "anchor": "x",
         "domain": [
          0,
          1
         ],
         "title": {
          "text": "frequency"
         }
        }
       }
      },
      "text/html": [
       "<div>                            <div id=\"a7d10ad5-0723-4328-8d2a-1e6d7d0028dd\" class=\"plotly-graph-div\" style=\"height:600px; width:100%;\"></div>            <script type=\"text/javascript\">                require([\"plotly\"], function(Plotly) {                    window.PLOTLYENV=window.PLOTLYENV || {};                                    if (document.getElementById(\"a7d10ad5-0723-4328-8d2a-1e6d7d0028dd\")) {                    Plotly.newPlot(                        \"a7d10ad5-0723-4328-8d2a-1e6d7d0028dd\",                        [{\"hovertemplate\":\"for_first=37 Earth Sciences\\u003cbr\\u003econcept=%{x}\\u003cbr\\u003efrequency=%{y}\\u003cbr\\u003escore_avg=%{marker.size}\\u003cextra\\u003e\\u003c\\u002fextra\\u003e\",\"legendgroup\":\"37 Earth Sciences\",\"marker\":{\"color\":\"#636efa\",\"size\":[0.937,0.935,0.934,0.93,0.928,0.911,0.909,0.892,0.891,0.867,0.865,0.864,0.864,0.86,0.86,0.86,0.853,0.848,0.845,0.844,0.844,0.844,0.842,0.841,0.839,0.837,0.837,0.835,0.828,0.811,0.806,0.806,0.805,0.805,0.804,0.804,0.804,0.804,0.803,0.803,0.803,0.802,0.8015,0.801,0.801,0.801,0.798,0.798,0.798,0.797,0.797,0.795,0.791,0.787,0.786,0.785,0.78,0.773,0.771,0.771,0.771,0.77,0.769,0.768,0.765,0.7635,0.762,0.759,0.751,0.751,0.751,0.751,0.751,0.75,0.75,0.75,0.75,0.75,0.75,0.75,0.75,0.749,0.749,0.749,0.749,0.749,0.749,0.749,0.749,0.749,0.749,0.749,0.748,0.748,0.748,0.748,0.748,0.748,0.747,0.747,0.747,0.747,0.747,0.747,0.747,0.747,0.747,0.746,0.746,0.746,0.746,0.746,0.746,0.746,0.746,0.746,0.746,0.746,0.745,0.745,0.745,0.744,0.744,0.744,0.743,0.743,0.742,0.742,0.741,0.739,0.739,0.738,0.738,0.738,0.737,0.736,0.736,0.736,0.734],\"sizemode\":\"area\",\"sizeref\":0.0023425,\"symbol\":\"circle\"},\"mode\":\"markers\",\"name\":\"37 Earth Sciences\",\"orientation\":\"v\",\"showlegend\":true,\"x\":[\"Atlantic Meridional Overturning Circulation\",\"slow slip events\",\"tropical tropopause layer\",\"Pine Island Glacier\",\"plate boundary fault\",\"deep water masses\",\"large explosive eruptions\",\"West Antarctic Ice Sheet\",\"high-resolution atmospheric model\",\"ice stream margins\",\"Southern Ocean\",\"large earthquakes\",\"high-impact weather\",\"subduction zone\",\"boundary faults\",\"water masses\",\"temperate ice\",\"ocean acidification\",\"ocean circulation\",\"trace metals\",\"active volcanism\",\"climate simulations\",\"deep ocean\",\"explosive eruptions\",\"meridional overturning circulation\",\"seismic data\",\"lower stratosphere\",\"Global Hawk\",\"Gal\\u00e1pagos Archipelago\",\"full-waveform inversion\",\"mantle melting\",\"plume upwelling\",\"ocean's role\",\"mantle plume\",\"anthropogenic carbon\",\"ice streams\",\"geochemical analyses\",\"Volcanic Province\",\"sea level rise\",\"Spreading Center\",\"eruption history\",\"drill sites\",\"climate variability\",\"tectonic plates\",\"ocean chemistry\",\"large eruptions\",\"slip events\",\"Earth's crust\",\"upper troposphere\",\"biogeochemical processes\",\"destructive earthquakes\",\"atmospheric model\",\"deep water\",\"internal waves\",\"atmospheric concentrations\",\"hazardous weather\",\"trace elements\",\"mass balance\",\"low basal shear stress\",\"shallow slow slip events\",\"regional high-resolution model\",\"air-sea CO2 fluxes\",\"ice sheet mass balance\",\"halogen species\",\"ice-stream shear margins\",\"Atlantic Ocean\",\"surface energy balance measurements\",\"coastal communities\",\"Atlantic Ocean system\",\"slow slip processes\",\"potential socio-economic consequences\",\"different CO2 emission scenarios\",\"low-latitude teleconnections\",\"Antarctic Ice Sheet\",\"sea level contribution\",\"low seismic velocities\",\"limited geochemical data\",\"mantle plume upwelling\",\"plume-ridge interaction\",\"large igneous province\",\"sites of volcanism\",\"ice-stream model\",\"Sumatra-Andaman earthquake\",\"low-velocity anomaly\",\"climate model performance\",\"oceanic spreading centres\",\"regional geophysical studies\",\"pressure of melting\",\"boundary layer\",\"hot spot track\",\"Isopycnal Mixing Experiment\",\"Resolution Atmospheric Model\",\"first-order control\",\"multi-decadal timescales\",\"observed climate record\",\"composition of volcanism\",\"magma chamber processes\",\"surface water masses\",\"climate system\",\"Earth System Model\",\"ice stream flow\",\"fault zone properties\",\"last major eruption\",\"Gal\\u00e1pagos Spreading Center\",\"Earth surface processes\",\"sea surface temperature\",\"Madden\\u2013Julian oscillation\",\"subsurface biogeochemical processes\",\"understanding of predictability\",\"wind-driven circulation\",\"ice stream motion\",\"Earth's tectonic plates\",\"global sea level\",\"FAAM BAe-146\",\"recent volcanic eruptions\",\"seismic velocity data\",\"marine boundary layer\",\"Snake River Plain\",\"discharge of ice\",\"warm air advection\",\"Mid-Atlantic Ridge\",\"trace metal cycles\",\"Earth system variability\",\"ice thinning rates\",\"pressure melting point\",\"continuous GPS network\",\"basal shear stress\",\"stratospheric bromine budget\",\"action of eddies\",\"degree of fractionation\",\"Snake River\\u2013type\",\"trace metal concentrations\",\"depletion of O3\",\"key driving processes\",\"high-resolution model\",\"CO2 emission scenarios\",\"year flood event\",\"high-latitude regions\",\"sub-visible cirrus\"],\"xaxis\":\"x\",\"y\":[1,1,1,1,1,1,1,1,1,1,1,1,1,1,1,1,1,1,1,2,1,1,1,1,2,1,1,1,1,1,1,1,1,1,1,1,1,1,3,1,1,1,2,1,1,1,1,1,1,2,1,1,1,1,1,1,2,1,1,1,1,1,1,1,1,2,1,1,1,1,1,1,1,2,1,1,1,1,1,1,1,1,1,1,1,1,1,1,1,1,1,1,2,1,1,1,1,1,2,1,1,1,1,1,1,1,1,2,1,1,1,1,1,1,1,1,1,1,1,1,1,2,1,1,1,1,1,1,1,2,1,2,1,1,2,1,1,1,1],\"yaxis\":\"y\",\"type\":\"scatter\"},{\"hovertemplate\":\"for_first=51 Physical Sciences\\u003cbr\\u003econcept=%{x}\\u003cbr\\u003efrequency=%{y}\\u003cbr\\u003escore_avg=%{marker.size}\\u003cextra\\u003e\\u003c\\u002fextra\\u003e\",\"legendgroup\":\"51 Physical Sciences\",\"marker\":{\"color\":\"#EF553B\",\"size\":[0.887,0.847,0.846,0.841,0.824,0.812,0.799,0.786,0.784,0.782,0.781,0.781,0.77,0.762,0.747,0.735,0.734],\"sizemode\":\"area\",\"sizeref\":0.0023425,\"symbol\":\"circle\"},\"mode\":\"markers\",\"name\":\"51 Physical Sciences\",\"orientation\":\"v\",\"showlegend\":true,\"x\":[\"evolution of galaxies\",\"stellar surface inhomogeneities\",\"active galactic nuclei\",\"supermassive black holes\",\"host star\",\"high-performance computing\",\"black holes\",\"magnetic field\",\"galactic nuclei\",\"galaxy clusters\",\"stellar surface\",\"stellar lines\",\"dynamical history\",\"software infrastructure\",\"future high-precision experiments\",\"matter science\",\"chemical evolution modelling\"],\"xaxis\":\"x\",\"y\":[1,1,1,1,1,1,1,1,1,1,1,1,1,1,1,1,1],\"yaxis\":\"y\",\"type\":\"scatter\"},{\"hovertemplate\":\"for_first=49 Mathematical Sciences\\u003cbr\\u003econcept=%{x}\\u003cbr\\u003efrequency=%{y}\\u003cbr\\u003escore_avg=%{marker.size}\\u003cextra\\u003e\\u003c\\u002fextra\\u003e\",\"legendgroup\":\"49 Mathematical Sciences\",\"marker\":{\"color\":\"#00cc96\",\"size\":[0.855,0.787,0.773,0.76,0.735],\"sizemode\":\"area\",\"sizeref\":0.0023425,\"symbol\":\"circle\"},\"mode\":\"markers\",\"name\":\"49 Mathematical Sciences\",\"orientation\":\"v\",\"showlegend\":true,\"x\":[\"complex reflection groups\",\"reflection groups\",\"Orlik\\u2013Solomon algebra\",\"symmetric group\",\"Coxeter groups\"],\"xaxis\":\"x\",\"y\":[1,1,1,1,1],\"yaxis\":\"y\",\"type\":\"scatter\"},{\"hovertemplate\":\"for_first=46 Information and Computing Sciences\\u003cbr\\u003econcept=%{x}\\u003cbr\\u003efrequency=%{y}\\u003cbr\\u003escore_avg=%{marker.size}\\u003cextra\\u003e\\u003c\\u002fextra\\u003e\",\"legendgroup\":\"46 Information and Computing Sciences\",\"marker\":{\"color\":\"#ab63fa\",\"size\":[0.855,0.841,0.827,0.822,0.82,0.817,0.7935,0.766,0.762,0.759,0.759,0.757,0.744],\"sizemode\":\"area\",\"sizeref\":0.0023425,\"symbol\":\"circle\"},\"mode\":\"markers\",\"name\":\"46 Information and Computing Sciences\",\"orientation\":\"v\",\"showlegend\":true,\"x\":[\"multiparty session types\",\"cognitive control\",\"cyber-physical systems\",\"protocol description language\",\"high-end computing\",\"large-scale networking\",\"information technology research\",\"assurance methodology\",\"big data\",\"distributed system\",\"assertion language\",\"description language\",\"cognitive robotics research\"],\"xaxis\":\"x\",\"y\":[1,1,2,1,2,2,4,1,2,1,1,1,1],\"yaxis\":\"y\",\"type\":\"scatter\"},{\"hovertemplate\":\"for_first=41 Environmental Sciences\\u003cbr\\u003econcept=%{x}\\u003cbr\\u003efrequency=%{y}\\u003cbr\\u003escore_avg=%{marker.size}\\u003cextra\\u003e\\u003c\\u002fextra\\u003e\",\"legendgroup\":\"41 Environmental Sciences\",\"marker\":{\"color\":\"#FFA15A\",\"size\":[0.854,0.854,0.849,0.803,0.794,0.754,0.751,0.749,0.746,0.742,0.737,0.737,0.735],\"sizemode\":\"area\",\"sizeref\":0.0023425,\"symbol\":\"circle\"},\"mode\":\"markers\",\"name\":\"41 Environmental Sciences\",\"orientation\":\"v\",\"showlegend\":true,\"x\":[\"ecosystem model\",\"Western Channel Observatory\",\"meiofaunal biodiversity\",\"estuarine ecosystems\",\"meiofaunal communities\",\"biodiversity-ecosystem functioning\",\"faunal species richness\",\"upper ocean ecosystem\",\"important estuarine species\",\"sustainable management strategies\",\"marine environment\",\"global environment change\",\"hydrodynamic-ecosystem model\"],\"xaxis\":\"x\",\"y\":[1,1,2,2,2,2,2,1,2,1,2,1,1],\"yaxis\":\"y\",\"type\":\"scatter\"},{\"hovertemplate\":\"for_first=40 Engineering\\u003cbr\\u003econcept=%{x}\\u003cbr\\u003efrequency=%{y}\\u003cbr\\u003escore_avg=%{marker.size}\\u003cextra\\u003e\\u003c\\u002fextra\\u003e\",\"legendgroup\":\"40 Engineering\",\"marker\":{\"color\":\"#19d3f3\",\"size\":[0.809,0.76,0.747,0.738],\"sizemode\":\"area\",\"sizeref\":0.0023425,\"symbol\":\"circle\"},\"mode\":\"markers\",\"name\":\"40 Engineering\",\"orientation\":\"v\",\"showlegend\":true,\"x\":[\"Brillouin optical time domain reflectometer\",\"differential geometry\",\"microlocal analysis\",\"fiber optic technology\"],\"xaxis\":\"x\",\"y\":[1,1,1,1],\"yaxis\":\"y\",\"type\":\"scatter\"},{\"hovertemplate\":\"for_first=36 Creative Arts and Writing\\u003cbr\\u003econcept=%{x}\\u003cbr\\u003efrequency=%{y}\\u003cbr\\u003escore_avg=%{marker.size}\\u003cextra\\u003e\\u003c\\u002fextra\\u003e\",\"legendgroup\":\"36 Creative Arts and Writing\",\"marker\":{\"color\":\"#FF6692\",\"size\":[0.805,0.804,0.78,0.744],\"sizemode\":\"area\",\"sizeref\":0.0023425,\"symbol\":\"circle\"},\"mode\":\"markers\",\"name\":\"36 Creative Arts and Writing\",\"orientation\":\"v\",\"showlegend\":true,\"x\":[\"verbal text\",\"book illustrations\",\"nineteenth century\",\"long nineteenth century\"],\"xaxis\":\"x\",\"y\":[1,1,1,1],\"yaxis\":\"y\",\"type\":\"scatter\"},{\"hovertemplate\":\"for_first=31 Biological Sciences\\u003cbr\\u003econcept=%{x}\\u003cbr\\u003efrequency=%{y}\\u003cbr\\u003escore_avg=%{marker.size}\\u003cextra\\u003e\\u003c\\u002fextra\\u003e\",\"legendgroup\":\"31 Biological Sciences\",\"marker\":{\"color\":\"#B6E880\",\"size\":[0.791,0.781,0.746,0.735,0.734],\"sizemode\":\"area\",\"sizeref\":0.0023425,\"symbol\":\"circle\"},\"mode\":\"markers\",\"name\":\"31 Biological Sciences\",\"orientation\":\"v\",\"showlegend\":true,\"x\":[\"gene models\",\"wild populations\",\"natural populations\",\"larger taxa\",\"genome sequence\"],\"xaxis\":\"x\",\"y\":[1,1,1,1,1],\"yaxis\":\"y\",\"type\":\"scatter\"}],                        {\"template\":{\"data\":{\"histogram2dcontour\":[{\"type\":\"histogram2dcontour\",\"colorbar\":{\"outlinewidth\":0,\"ticks\":\"\"},\"colorscale\":[[0.0,\"#0d0887\"],[0.1111111111111111,\"#46039f\"],[0.2222222222222222,\"#7201a8\"],[0.3333333333333333,\"#9c179e\"],[0.4444444444444444,\"#bd3786\"],[0.5555555555555556,\"#d8576b\"],[0.6666666666666666,\"#ed7953\"],[0.7777777777777778,\"#fb9f3a\"],[0.8888888888888888,\"#fdca26\"],[1.0,\"#f0f921\"]]}],\"choropleth\":[{\"type\":\"choropleth\",\"colorbar\":{\"outlinewidth\":0,\"ticks\":\"\"}}],\"histogram2d\":[{\"type\":\"histogram2d\",\"colorbar\":{\"outlinewidth\":0,\"ticks\":\"\"},\"colorscale\":[[0.0,\"#0d0887\"],[0.1111111111111111,\"#46039f\"],[0.2222222222222222,\"#7201a8\"],[0.3333333333333333,\"#9c179e\"],[0.4444444444444444,\"#bd3786\"],[0.5555555555555556,\"#d8576b\"],[0.6666666666666666,\"#ed7953\"],[0.7777777777777778,\"#fb9f3a\"],[0.8888888888888888,\"#fdca26\"],[1.0,\"#f0f921\"]]}],\"heatmap\":[{\"type\":\"heatmap\",\"colorbar\":{\"outlinewidth\":0,\"ticks\":\"\"},\"colorscale\":[[0.0,\"#0d0887\"],[0.1111111111111111,\"#46039f\"],[0.2222222222222222,\"#7201a8\"],[0.3333333333333333,\"#9c179e\"],[0.4444444444444444,\"#bd3786\"],[0.5555555555555556,\"#d8576b\"],[0.6666666666666666,\"#ed7953\"],[0.7777777777777778,\"#fb9f3a\"],[0.8888888888888888,\"#fdca26\"],[1.0,\"#f0f921\"]]}],\"heatmapgl\":[{\"type\":\"heatmapgl\",\"colorbar\":{\"outlinewidth\":0,\"ticks\":\"\"},\"colorscale\":[[0.0,\"#0d0887\"],[0.1111111111111111,\"#46039f\"],[0.2222222222222222,\"#7201a8\"],[0.3333333333333333,\"#9c179e\"],[0.4444444444444444,\"#bd3786\"],[0.5555555555555556,\"#d8576b\"],[0.6666666666666666,\"#ed7953\"],[0.7777777777777778,\"#fb9f3a\"],[0.8888888888888888,\"#fdca26\"],[1.0,\"#f0f921\"]]}],\"contourcarpet\":[{\"type\":\"contourcarpet\",\"colorbar\":{\"outlinewidth\":0,\"ticks\":\"\"}}],\"contour\":[{\"type\":\"contour\",\"colorbar\":{\"outlinewidth\":0,\"ticks\":\"\"},\"colorscale\":[[0.0,\"#0d0887\"],[0.1111111111111111,\"#46039f\"],[0.2222222222222222,\"#7201a8\"],[0.3333333333333333,\"#9c179e\"],[0.4444444444444444,\"#bd3786\"],[0.5555555555555556,\"#d8576b\"],[0.6666666666666666,\"#ed7953\"],[0.7777777777777778,\"#fb9f3a\"],[0.8888888888888888,\"#fdca26\"],[1.0,\"#f0f921\"]]}],\"surface\":[{\"type\":\"surface\",\"colorbar\":{\"outlinewidth\":0,\"ticks\":\"\"},\"colorscale\":[[0.0,\"#0d0887\"],[0.1111111111111111,\"#46039f\"],[0.2222222222222222,\"#7201a8\"],[0.3333333333333333,\"#9c179e\"],[0.4444444444444444,\"#bd3786\"],[0.5555555555555556,\"#d8576b\"],[0.6666666666666666,\"#ed7953\"],[0.7777777777777778,\"#fb9f3a\"],[0.8888888888888888,\"#fdca26\"],[1.0,\"#f0f921\"]]}],\"mesh3d\":[{\"type\":\"mesh3d\",\"colorbar\":{\"outlinewidth\":0,\"ticks\":\"\"}}],\"scatter\":[{\"fillpattern\":{\"fillmode\":\"overlay\",\"size\":10,\"solidity\":0.2},\"type\":\"scatter\"}],\"parcoords\":[{\"type\":\"parcoords\",\"line\":{\"colorbar\":{\"outlinewidth\":0,\"ticks\":\"\"}}}],\"scatterpolargl\":[{\"type\":\"scatterpolargl\",\"marker\":{\"colorbar\":{\"outlinewidth\":0,\"ticks\":\"\"}}}],\"bar\":[{\"error_x\":{\"color\":\"#2a3f5f\"},\"error_y\":{\"color\":\"#2a3f5f\"},\"marker\":{\"line\":{\"color\":\"#E5ECF6\",\"width\":0.5},\"pattern\":{\"fillmode\":\"overlay\",\"size\":10,\"solidity\":0.2}},\"type\":\"bar\"}],\"scattergeo\":[{\"type\":\"scattergeo\",\"marker\":{\"colorbar\":{\"outlinewidth\":0,\"ticks\":\"\"}}}],\"scatterpolar\":[{\"type\":\"scatterpolar\",\"marker\":{\"colorbar\":{\"outlinewidth\":0,\"ticks\":\"\"}}}],\"histogram\":[{\"marker\":{\"pattern\":{\"fillmode\":\"overlay\",\"size\":10,\"solidity\":0.2}},\"type\":\"histogram\"}],\"scattergl\":[{\"type\":\"scattergl\",\"marker\":{\"colorbar\":{\"outlinewidth\":0,\"ticks\":\"\"}}}],\"scatter3d\":[{\"type\":\"scatter3d\",\"line\":{\"colorbar\":{\"outlinewidth\":0,\"ticks\":\"\"}},\"marker\":{\"colorbar\":{\"outlinewidth\":0,\"ticks\":\"\"}}}],\"scattermapbox\":[{\"type\":\"scattermapbox\",\"marker\":{\"colorbar\":{\"outlinewidth\":0,\"ticks\":\"\"}}}],\"scatterternary\":[{\"type\":\"scatterternary\",\"marker\":{\"colorbar\":{\"outlinewidth\":0,\"ticks\":\"\"}}}],\"scattercarpet\":[{\"type\":\"scattercarpet\",\"marker\":{\"colorbar\":{\"outlinewidth\":0,\"ticks\":\"\"}}}],\"carpet\":[{\"aaxis\":{\"endlinecolor\":\"#2a3f5f\",\"gridcolor\":\"white\",\"linecolor\":\"white\",\"minorgridcolor\":\"white\",\"startlinecolor\":\"#2a3f5f\"},\"baxis\":{\"endlinecolor\":\"#2a3f5f\",\"gridcolor\":\"white\",\"linecolor\":\"white\",\"minorgridcolor\":\"white\",\"startlinecolor\":\"#2a3f5f\"},\"type\":\"carpet\"}],\"table\":[{\"cells\":{\"fill\":{\"color\":\"#EBF0F8\"},\"line\":{\"color\":\"white\"}},\"header\":{\"fill\":{\"color\":\"#C8D4E3\"},\"line\":{\"color\":\"white\"}},\"type\":\"table\"}],\"barpolar\":[{\"marker\":{\"line\":{\"color\":\"#E5ECF6\",\"width\":0.5},\"pattern\":{\"fillmode\":\"overlay\",\"size\":10,\"solidity\":0.2}},\"type\":\"barpolar\"}],\"pie\":[{\"automargin\":true,\"type\":\"pie\"}]},\"layout\":{\"autotypenumbers\":\"strict\",\"colorway\":[\"#636efa\",\"#EF553B\",\"#00cc96\",\"#ab63fa\",\"#FFA15A\",\"#19d3f3\",\"#FF6692\",\"#B6E880\",\"#FF97FF\",\"#FECB52\"],\"font\":{\"color\":\"#2a3f5f\"},\"hovermode\":\"closest\",\"hoverlabel\":{\"align\":\"left\"},\"paper_bgcolor\":\"white\",\"plot_bgcolor\":\"#E5ECF6\",\"polar\":{\"bgcolor\":\"#E5ECF6\",\"angularaxis\":{\"gridcolor\":\"white\",\"linecolor\":\"white\",\"ticks\":\"\"},\"radialaxis\":{\"gridcolor\":\"white\",\"linecolor\":\"white\",\"ticks\":\"\"}},\"ternary\":{\"bgcolor\":\"#E5ECF6\",\"aaxis\":{\"gridcolor\":\"white\",\"linecolor\":\"white\",\"ticks\":\"\"},\"baxis\":{\"gridcolor\":\"white\",\"linecolor\":\"white\",\"ticks\":\"\"},\"caxis\":{\"gridcolor\":\"white\",\"linecolor\":\"white\",\"ticks\":\"\"}},\"coloraxis\":{\"colorbar\":{\"outlinewidth\":0,\"ticks\":\"\"}},\"colorscale\":{\"sequential\":[[0.0,\"#0d0887\"],[0.1111111111111111,\"#46039f\"],[0.2222222222222222,\"#7201a8\"],[0.3333333333333333,\"#9c179e\"],[0.4444444444444444,\"#bd3786\"],[0.5555555555555556,\"#d8576b\"],[0.6666666666666666,\"#ed7953\"],[0.7777777777777778,\"#fb9f3a\"],[0.8888888888888888,\"#fdca26\"],[1.0,\"#f0f921\"]],\"sequentialminus\":[[0.0,\"#0d0887\"],[0.1111111111111111,\"#46039f\"],[0.2222222222222222,\"#7201a8\"],[0.3333333333333333,\"#9c179e\"],[0.4444444444444444,\"#bd3786\"],[0.5555555555555556,\"#d8576b\"],[0.6666666666666666,\"#ed7953\"],[0.7777777777777778,\"#fb9f3a\"],[0.8888888888888888,\"#fdca26\"],[1.0,\"#f0f921\"]],\"diverging\":[[0,\"#8e0152\"],[0.1,\"#c51b7d\"],[0.2,\"#de77ae\"],[0.3,\"#f1b6da\"],[0.4,\"#fde0ef\"],[0.5,\"#f7f7f7\"],[0.6,\"#e6f5d0\"],[0.7,\"#b8e186\"],[0.8,\"#7fbc41\"],[0.9,\"#4d9221\"],[1,\"#276419\"]]},\"xaxis\":{\"gridcolor\":\"white\",\"linecolor\":\"white\",\"ticks\":\"\",\"title\":{\"standoff\":15},\"zerolinecolor\":\"white\",\"automargin\":true,\"zerolinewidth\":2},\"yaxis\":{\"gridcolor\":\"white\",\"linecolor\":\"white\",\"ticks\":\"\",\"title\":{\"standoff\":15},\"zerolinecolor\":\"white\",\"automargin\":true,\"zerolinewidth\":2},\"scene\":{\"xaxis\":{\"backgroundcolor\":\"#E5ECF6\",\"gridcolor\":\"white\",\"linecolor\":\"white\",\"showbackground\":true,\"ticks\":\"\",\"zerolinecolor\":\"white\",\"gridwidth\":2},\"yaxis\":{\"backgroundcolor\":\"#E5ECF6\",\"gridcolor\":\"white\",\"linecolor\":\"white\",\"showbackground\":true,\"ticks\":\"\",\"zerolinecolor\":\"white\",\"gridwidth\":2},\"zaxis\":{\"backgroundcolor\":\"#E5ECF6\",\"gridcolor\":\"white\",\"linecolor\":\"white\",\"showbackground\":true,\"ticks\":\"\",\"zerolinecolor\":\"white\",\"gridwidth\":2}},\"shapedefaults\":{\"line\":{\"color\":\"#2a3f5f\"}},\"annotationdefaults\":{\"arrowcolor\":\"#2a3f5f\",\"arrowhead\":0,\"arrowwidth\":1},\"geo\":{\"bgcolor\":\"white\",\"landcolor\":\"#E5ECF6\",\"subunitcolor\":\"white\",\"showland\":true,\"showlakes\":true,\"lakecolor\":\"white\"},\"title\":{\"x\":0.05},\"mapbox\":{\"style\":\"light\"}}},\"xaxis\":{\"anchor\":\"y\",\"domain\":[0.0,1.0],\"title\":{\"text\":\"concept\"}},\"yaxis\":{\"anchor\":\"x\",\"domain\":[0.0,1.0],\"title\":{\"text\":\"frequency\"}},\"legend\":{\"title\":{\"text\":\"for_first\"},\"tracegroupgap\":0,\"itemsizing\":\"constant\"},\"margin\":{\"t\":60},\"height\":600},                        {\"responsive\": true}                    ).then(function(){\n",
       "                            \n",
       "var gd = document.getElementById('a7d10ad5-0723-4328-8d2a-1e6d7d0028dd');\n",
       "var x = new MutationObserver(function (mutations, observer) {{\n",
       "        var display = window.getComputedStyle(gd).display;\n",
       "        if (!display || display === 'none') {{\n",
       "            console.log([gd, 'removed!']);\n",
       "            Plotly.purge(gd);\n",
       "            observer.disconnect();\n",
       "        }}\n",
       "}});\n",
       "\n",
       "// Listen for the removal of the full notebook cells\n",
       "var notebookContainer = gd.closest('#notebook-container');\n",
       "if (notebookContainer) {{\n",
       "    x.observe(notebookContainer, {childList: true});\n",
       "}}\n",
       "\n",
       "// Listen for the clearing of the current output cell\n",
       "var outputEl = gd.closest('.output');\n",
       "if (outputEl) {{\n",
       "    x.observe(outputEl, {childList: true});\n",
       "}}\n",
       "\n",
       "                        })                };                });            </script>        </div>"
      ]
     },
     "metadata": {},
     "output_type": "display_data"
    }
   ],
   "source": [
    "FREQ_MIN = 1 #@param {type: \"slider\", min: 1, max: 10, step:1}\n",
    "FREQ_MAX = 100 #@param {type: \"slider\", min: 10, max: 100, step:10}\n",
    "\n",
    "SCORE_MIN = 0.6  #@param {type: \"slider\", min: 0, max: 1, step:0.1}\n",
    "#@markdown ---\n",
    "#@markdown Select how many concepts to include in the visualization\n",
    "MAX_CONCEPTS = 200 #@param {type: \"slider\", min: 20, max: 1000, step:10}\n",
    "\n",
    "if FREQ_MAX == 100:\n",
    "  FREQ_MAX = 100000000\n",
    "print(f\"\"\"You selected:\\n->{MAX_CONCEPTS}\\n->{FREQ_MIN}-{FREQ_MAX}\\n->{SCORE_MIN}\"\"\")\n",
    "\n",
    "filtered_concepts = concepts_unique_in_for.query(f\"\"\"frequency >= {FREQ_MIN} & frequency <= {FREQ_MAX} & score_avg >= {SCORE_MIN} \"\"\")\\\n",
    "                    .sort_values([\"score_avg\", \"frequency\"], ascending=False)[:MAX_CONCEPTS]\n",
    "\n",
    "px.scatter(filtered_concepts,\n",
    "           x=\"concept\",\n",
    "           y=\"frequency\",\n",
    "           height=600,\n",
    "           color=\"for_first\",\n",
    "           size=\"score_avg\")\n"
   ]
  },
  {
   "cell_type": "markdown",
   "metadata": {
    "Collapsed": "false",
    "id": "7c6X8HG0H88I"
   },
   "source": [
    "PS if you don't have too many categories, try using the `facet_col` option to see results side-to-side"
   ]
  },
  {
   "cell_type": "code",
   "execution_count": 9,
   "metadata": {
    "Collapsed": "false",
    "colab": {
     "base_uri": "https://localhost:8080/",
     "height": 617
    },
    "id": "oAb_Fvr2H88I",
    "outputId": "de2f353b-bc1b-4432-ee1c-97ce531c7cc0"
   },
   "outputs": [
    {
     "data": {
      "application/vnd.plotly.v1+json": {
       "config": {
        "plotlyServerURL": "https://plot.ly"
       },
       "data": [
        {
         "hovertemplate": "for_first=37 Earth Sciences<br>concept=%{x}<br>frequency=%{y}<br>score_avg=%{marker.color}<extra></extra>",
         "legendgroup": "",
         "marker": {
          "color": [
           0.937,
           0.935,
           0.934,
           0.93,
           0.928,
           0.911,
           0.909,
           0.892,
           0.891,
           0.867,
           0.865,
           0.864,
           0.864,
           0.86,
           0.86,
           0.86,
           0.853,
           0.848,
           0.845,
           0.844,
           0.844,
           0.844,
           0.842,
           0.841,
           0.839,
           0.837,
           0.837,
           0.835,
           0.828,
           0.811,
           0.806,
           0.806,
           0.805,
           0.805,
           0.804,
           0.804,
           0.804,
           0.804,
           0.803,
           0.803,
           0.803,
           0.802,
           0.8015,
           0.801,
           0.801,
           0.801,
           0.798,
           0.798,
           0.798,
           0.797,
           0.797,
           0.795,
           0.791,
           0.787,
           0.786,
           0.785,
           0.78,
           0.773,
           0.771,
           0.771,
           0.771,
           0.77,
           0.769,
           0.768,
           0.765,
           0.7635,
           0.762,
           0.759,
           0.751,
           0.751,
           0.751,
           0.751,
           0.751,
           0.75,
           0.75,
           0.75,
           0.75,
           0.75,
           0.75,
           0.75,
           0.75,
           0.749,
           0.749,
           0.749,
           0.749,
           0.749,
           0.749,
           0.749,
           0.749,
           0.749,
           0.749,
           0.749,
           0.748,
           0.748,
           0.748,
           0.748,
           0.748,
           0.748,
           0.747,
           0.747,
           0.747,
           0.747,
           0.747,
           0.747,
           0.747,
           0.747,
           0.747,
           0.746,
           0.746,
           0.746,
           0.746,
           0.746,
           0.746,
           0.746,
           0.746,
           0.746,
           0.746,
           0.746,
           0.745,
           0.745,
           0.745,
           0.744,
           0.744,
           0.744,
           0.743,
           0.743,
           0.742,
           0.742,
           0.741,
           0.739,
           0.739,
           0.738,
           0.738,
           0.738,
           0.737,
           0.736,
           0.736,
           0.736,
           0.734
          ],
          "coloraxis": "coloraxis",
          "size": [
           0.937,
           0.935,
           0.934,
           0.93,
           0.928,
           0.911,
           0.909,
           0.892,
           0.891,
           0.867,
           0.865,
           0.864,
           0.864,
           0.86,
           0.86,
           0.86,
           0.853,
           0.848,
           0.845,
           0.844,
           0.844,
           0.844,
           0.842,
           0.841,
           0.839,
           0.837,
           0.837,
           0.835,
           0.828,
           0.811,
           0.806,
           0.806,
           0.805,
           0.805,
           0.804,
           0.804,
           0.804,
           0.804,
           0.803,
           0.803,
           0.803,
           0.802,
           0.8015,
           0.801,
           0.801,
           0.801,
           0.798,
           0.798,
           0.798,
           0.797,
           0.797,
           0.795,
           0.791,
           0.787,
           0.786,
           0.785,
           0.78,
           0.773,
           0.771,
           0.771,
           0.771,
           0.77,
           0.769,
           0.768,
           0.765,
           0.7635,
           0.762,
           0.759,
           0.751,
           0.751,
           0.751,
           0.751,
           0.751,
           0.75,
           0.75,
           0.75,
           0.75,
           0.75,
           0.75,
           0.75,
           0.75,
           0.749,
           0.749,
           0.749,
           0.749,
           0.749,
           0.749,
           0.749,
           0.749,
           0.749,
           0.749,
           0.749,
           0.748,
           0.748,
           0.748,
           0.748,
           0.748,
           0.748,
           0.747,
           0.747,
           0.747,
           0.747,
           0.747,
           0.747,
           0.747,
           0.747,
           0.747,
           0.746,
           0.746,
           0.746,
           0.746,
           0.746,
           0.746,
           0.746,
           0.746,
           0.746,
           0.746,
           0.746,
           0.745,
           0.745,
           0.745,
           0.744,
           0.744,
           0.744,
           0.743,
           0.743,
           0.742,
           0.742,
           0.741,
           0.739,
           0.739,
           0.738,
           0.738,
           0.738,
           0.737,
           0.736,
           0.736,
           0.736,
           0.734
          ],
          "sizemode": "area",
          "sizeref": 0.0023425,
          "symbol": "circle"
         },
         "mode": "markers",
         "name": "",
         "orientation": "v",
         "showlegend": false,
         "type": "scatter",
         "x": [
          "Atlantic Meridional Overturning Circulation",
          "slow slip events",
          "tropical tropopause layer",
          "Pine Island Glacier",
          "plate boundary fault",
          "deep water masses",
          "large explosive eruptions",
          "West Antarctic Ice Sheet",
          "high-resolution atmospheric model",
          "ice stream margins",
          "Southern Ocean",
          "large earthquakes",
          "high-impact weather",
          "subduction zone",
          "boundary faults",
          "water masses",
          "temperate ice",
          "ocean acidification",
          "ocean circulation",
          "trace metals",
          "active volcanism",
          "climate simulations",
          "deep ocean",
          "explosive eruptions",
          "meridional overturning circulation",
          "seismic data",
          "lower stratosphere",
          "Global Hawk",
          "Galápagos Archipelago",
          "full-waveform inversion",
          "mantle melting",
          "plume upwelling",
          "ocean's role",
          "mantle plume",
          "anthropogenic carbon",
          "ice streams",
          "geochemical analyses",
          "Volcanic Province",
          "sea level rise",
          "Spreading Center",
          "eruption history",
          "drill sites",
          "climate variability",
          "tectonic plates",
          "ocean chemistry",
          "large eruptions",
          "slip events",
          "Earth's crust",
          "upper troposphere",
          "biogeochemical processes",
          "destructive earthquakes",
          "atmospheric model",
          "deep water",
          "internal waves",
          "atmospheric concentrations",
          "hazardous weather",
          "trace elements",
          "mass balance",
          "low basal shear stress",
          "shallow slow slip events",
          "regional high-resolution model",
          "air-sea CO2 fluxes",
          "ice sheet mass balance",
          "halogen species",
          "ice-stream shear margins",
          "Atlantic Ocean",
          "surface energy balance measurements",
          "coastal communities",
          "Atlantic Ocean system",
          "slow slip processes",
          "potential socio-economic consequences",
          "different CO2 emission scenarios",
          "low-latitude teleconnections",
          "Antarctic Ice Sheet",
          "sea level contribution",
          "low seismic velocities",
          "limited geochemical data",
          "mantle plume upwelling",
          "plume-ridge interaction",
          "large igneous province",
          "sites of volcanism",
          "ice-stream model",
          "Sumatra-Andaman earthquake",
          "low-velocity anomaly",
          "climate model performance",
          "oceanic spreading centres",
          "regional geophysical studies",
          "pressure of melting",
          "boundary layer",
          "hot spot track",
          "Isopycnal Mixing Experiment",
          "Resolution Atmospheric Model",
          "first-order control",
          "multi-decadal timescales",
          "observed climate record",
          "composition of volcanism",
          "magma chamber processes",
          "surface water masses",
          "climate system",
          "Earth System Model",
          "ice stream flow",
          "fault zone properties",
          "last major eruption",
          "Galápagos Spreading Center",
          "Earth surface processes",
          "sea surface temperature",
          "Madden–Julian oscillation",
          "subsurface biogeochemical processes",
          "understanding of predictability",
          "wind-driven circulation",
          "ice stream motion",
          "Earth's tectonic plates",
          "global sea level",
          "FAAM BAe-146",
          "recent volcanic eruptions",
          "seismic velocity data",
          "marine boundary layer",
          "Snake River Plain",
          "discharge of ice",
          "warm air advection",
          "Mid-Atlantic Ridge",
          "trace metal cycles",
          "Earth system variability",
          "ice thinning rates",
          "pressure melting point",
          "continuous GPS network",
          "basal shear stress",
          "stratospheric bromine budget",
          "action of eddies",
          "degree of fractionation",
          "Snake River–type",
          "trace metal concentrations",
          "depletion of O3",
          "key driving processes",
          "high-resolution model",
          "CO2 emission scenarios",
          "year flood event",
          "high-latitude regions",
          "sub-visible cirrus"
         ],
         "xaxis": "x5",
         "y": [
          1,
          1,
          1,
          1,
          1,
          1,
          1,
          1,
          1,
          1,
          1,
          1,
          1,
          1,
          1,
          1,
          1,
          1,
          1,
          2,
          1,
          1,
          1,
          1,
          2,
          1,
          1,
          1,
          1,
          1,
          1,
          1,
          1,
          1,
          1,
          1,
          1,
          1,
          3,
          1,
          1,
          1,
          2,
          1,
          1,
          1,
          1,
          1,
          1,
          2,
          1,
          1,
          1,
          1,
          1,
          1,
          2,
          1,
          1,
          1,
          1,
          1,
          1,
          1,
          1,
          2,
          1,
          1,
          1,
          1,
          1,
          1,
          1,
          2,
          1,
          1,
          1,
          1,
          1,
          1,
          1,
          1,
          1,
          1,
          1,
          1,
          1,
          1,
          1,
          1,
          1,
          1,
          2,
          1,
          1,
          1,
          1,
          1,
          2,
          1,
          1,
          1,
          1,
          1,
          1,
          1,
          1,
          2,
          1,
          1,
          1,
          1,
          1,
          1,
          1,
          1,
          1,
          1,
          1,
          1,
          1,
          2,
          1,
          1,
          1,
          1,
          1,
          1,
          1,
          2,
          1,
          2,
          1,
          1,
          2,
          1,
          1,
          1,
          1
         ],
         "yaxis": "y5"
        },
        {
         "hovertemplate": "for_first=51 Physical Sciences<br>concept=%{x}<br>frequency=%{y}<br>score_avg=%{marker.color}<extra></extra>",
         "legendgroup": "",
         "marker": {
          "color": [
           0.887,
           0.847,
           0.846,
           0.841,
           0.824,
           0.812,
           0.799,
           0.786,
           0.784,
           0.782,
           0.781,
           0.781,
           0.77,
           0.762,
           0.747,
           0.735,
           0.734
          ],
          "coloraxis": "coloraxis",
          "size": [
           0.887,
           0.847,
           0.846,
           0.841,
           0.824,
           0.812,
           0.799,
           0.786,
           0.784,
           0.782,
           0.781,
           0.781,
           0.77,
           0.762,
           0.747,
           0.735,
           0.734
          ],
          "sizemode": "area",
          "sizeref": 0.0023425,
          "symbol": "circle"
         },
         "mode": "markers",
         "name": "",
         "orientation": "v",
         "showlegend": false,
         "type": "scatter",
         "x": [
          "evolution of galaxies",
          "stellar surface inhomogeneities",
          "active galactic nuclei",
          "supermassive black holes",
          "host star",
          "high-performance computing",
          "black holes",
          "magnetic field",
          "galactic nuclei",
          "galaxy clusters",
          "stellar surface",
          "stellar lines",
          "dynamical history",
          "software infrastructure",
          "future high-precision experiments",
          "matter science",
          "chemical evolution modelling"
         ],
         "xaxis": "x6",
         "y": [
          1,
          1,
          1,
          1,
          1,
          1,
          1,
          1,
          1,
          1,
          1,
          1,
          1,
          1,
          1,
          1,
          1
         ],
         "yaxis": "y6"
        },
        {
         "hovertemplate": "for_first=49 Mathematical Sciences<br>concept=%{x}<br>frequency=%{y}<br>score_avg=%{marker.color}<extra></extra>",
         "legendgroup": "",
         "marker": {
          "color": [
           0.855,
           0.787,
           0.773,
           0.76,
           0.735
          ],
          "coloraxis": "coloraxis",
          "size": [
           0.855,
           0.787,
           0.773,
           0.76,
           0.735
          ],
          "sizemode": "area",
          "sizeref": 0.0023425,
          "symbol": "circle"
         },
         "mode": "markers",
         "name": "",
         "orientation": "v",
         "showlegend": false,
         "type": "scatter",
         "x": [
          "complex reflection groups",
          "reflection groups",
          "Orlik–Solomon algebra",
          "symmetric group",
          "Coxeter groups"
         ],
         "xaxis": "x7",
         "y": [
          1,
          1,
          1,
          1,
          1
         ],
         "yaxis": "y7"
        },
        {
         "hovertemplate": "for_first=46 Information and Computing Sciences<br>concept=%{x}<br>frequency=%{y}<br>score_avg=%{marker.color}<extra></extra>",
         "legendgroup": "",
         "marker": {
          "color": [
           0.855,
           0.841,
           0.827,
           0.822,
           0.82,
           0.817,
           0.7935,
           0.766,
           0.762,
           0.759,
           0.759,
           0.757,
           0.744
          ],
          "coloraxis": "coloraxis",
          "size": [
           0.855,
           0.841,
           0.827,
           0.822,
           0.82,
           0.817,
           0.7935,
           0.766,
           0.762,
           0.759,
           0.759,
           0.757,
           0.744
          ],
          "sizemode": "area",
          "sizeref": 0.0023425,
          "symbol": "circle"
         },
         "mode": "markers",
         "name": "",
         "orientation": "v",
         "showlegend": false,
         "type": "scatter",
         "x": [
          "multiparty session types",
          "cognitive control",
          "cyber-physical systems",
          "protocol description language",
          "high-end computing",
          "large-scale networking",
          "information technology research",
          "assurance methodology",
          "big data",
          "distributed system",
          "assertion language",
          "description language",
          "cognitive robotics research"
         ],
         "xaxis": "x8",
         "y": [
          1,
          1,
          2,
          1,
          2,
          2,
          4,
          1,
          2,
          1,
          1,
          1,
          1
         ],
         "yaxis": "y8"
        },
        {
         "hovertemplate": "for_first=41 Environmental Sciences<br>concept=%{x}<br>frequency=%{y}<br>score_avg=%{marker.color}<extra></extra>",
         "legendgroup": "",
         "marker": {
          "color": [
           0.854,
           0.854,
           0.849,
           0.803,
           0.794,
           0.754,
           0.751,
           0.749,
           0.746,
           0.742,
           0.737,
           0.737,
           0.735
          ],
          "coloraxis": "coloraxis",
          "size": [
           0.854,
           0.854,
           0.849,
           0.803,
           0.794,
           0.754,
           0.751,
           0.749,
           0.746,
           0.742,
           0.737,
           0.737,
           0.735
          ],
          "sizemode": "area",
          "sizeref": 0.0023425,
          "symbol": "circle"
         },
         "mode": "markers",
         "name": "",
         "orientation": "v",
         "showlegend": false,
         "type": "scatter",
         "x": [
          "ecosystem model",
          "Western Channel Observatory",
          "meiofaunal biodiversity",
          "estuarine ecosystems",
          "meiofaunal communities",
          "biodiversity-ecosystem functioning",
          "faunal species richness",
          "upper ocean ecosystem",
          "important estuarine species",
          "sustainable management strategies",
          "marine environment",
          "global environment change",
          "hydrodynamic-ecosystem model"
         ],
         "xaxis": "x",
         "y": [
          1,
          1,
          2,
          2,
          2,
          2,
          2,
          1,
          2,
          1,
          2,
          1,
          1
         ],
         "yaxis": "y"
        },
        {
         "hovertemplate": "for_first=40 Engineering<br>concept=%{x}<br>frequency=%{y}<br>score_avg=%{marker.color}<extra></extra>",
         "legendgroup": "",
         "marker": {
          "color": [
           0.809,
           0.76,
           0.747,
           0.738
          ],
          "coloraxis": "coloraxis",
          "size": [
           0.809,
           0.76,
           0.747,
           0.738
          ],
          "sizemode": "area",
          "sizeref": 0.0023425,
          "symbol": "circle"
         },
         "mode": "markers",
         "name": "",
         "orientation": "v",
         "showlegend": false,
         "type": "scatter",
         "x": [
          "Brillouin optical time domain reflectometer",
          "differential geometry",
          "microlocal analysis",
          "fiber optic technology"
         ],
         "xaxis": "x2",
         "y": [
          1,
          1,
          1,
          1
         ],
         "yaxis": "y2"
        },
        {
         "hovertemplate": "for_first=36 Creative Arts and Writing<br>concept=%{x}<br>frequency=%{y}<br>score_avg=%{marker.color}<extra></extra>",
         "legendgroup": "",
         "marker": {
          "color": [
           0.805,
           0.804,
           0.78,
           0.744
          ],
          "coloraxis": "coloraxis",
          "size": [
           0.805,
           0.804,
           0.78,
           0.744
          ],
          "sizemode": "area",
          "sizeref": 0.0023425,
          "symbol": "circle"
         },
         "mode": "markers",
         "name": "",
         "orientation": "v",
         "showlegend": false,
         "type": "scatter",
         "x": [
          "verbal text",
          "book illustrations",
          "nineteenth century",
          "long nineteenth century"
         ],
         "xaxis": "x3",
         "y": [
          1,
          1,
          1,
          1
         ],
         "yaxis": "y3"
        },
        {
         "hovertemplate": "for_first=31 Biological Sciences<br>concept=%{x}<br>frequency=%{y}<br>score_avg=%{marker.color}<extra></extra>",
         "legendgroup": "",
         "marker": {
          "color": [
           0.791,
           0.781,
           0.746,
           0.735,
           0.734
          ],
          "coloraxis": "coloraxis",
          "size": [
           0.791,
           0.781,
           0.746,
           0.735,
           0.734
          ],
          "sizemode": "area",
          "sizeref": 0.0023425,
          "symbol": "circle"
         },
         "mode": "markers",
         "name": "",
         "orientation": "v",
         "showlegend": false,
         "type": "scatter",
         "x": [
          "gene models",
          "wild populations",
          "natural populations",
          "larger taxa",
          "genome sequence"
         ],
         "xaxis": "x4",
         "y": [
          1,
          1,
          1,
          1,
          1
         ],
         "yaxis": "y4"
        }
       ],
       "layout": {
        "annotations": [
         {
          "font": {},
          "showarrow": false,
          "text": "for_first=41 Environmental Sciences",
          "x": 0.1175,
          "xanchor": "center",
          "xref": "paper",
          "y": 0.46499999999999997,
          "yanchor": "bottom",
          "yref": "paper"
         },
         {
          "font": {},
          "showarrow": false,
          "text": "for_first=40 Engineering",
          "x": 0.3725,
          "xanchor": "center",
          "xref": "paper",
          "y": 0.46499999999999997,
          "yanchor": "bottom",
          "yref": "paper"
         },
         {
          "font": {},
          "showarrow": false,
          "text": "for_first=36 Creative Arts and Writing",
          "x": 0.6275,
          "xanchor": "center",
          "xref": "paper",
          "y": 0.46499999999999997,
          "yanchor": "bottom",
          "yref": "paper"
         },
         {
          "font": {},
          "showarrow": false,
          "text": "for_first=31 Biological Sciences",
          "x": 0.8824999999999998,
          "xanchor": "center",
          "xref": "paper",
          "y": 0.46499999999999997,
          "yanchor": "bottom",
          "yref": "paper"
         },
         {
          "font": {},
          "showarrow": false,
          "text": "for_first=37 Earth Sciences",
          "x": 0.1175,
          "xanchor": "center",
          "xref": "paper",
          "y": 0.9999999999999999,
          "yanchor": "bottom",
          "yref": "paper"
         },
         {
          "font": {},
          "showarrow": false,
          "text": "for_first=51 Physical Sciences",
          "x": 0.3725,
          "xanchor": "center",
          "xref": "paper",
          "y": 0.9999999999999999,
          "yanchor": "bottom",
          "yref": "paper"
         },
         {
          "font": {},
          "showarrow": false,
          "text": "for_first=49 Mathematical Sciences",
          "x": 0.6275,
          "xanchor": "center",
          "xref": "paper",
          "y": 0.9999999999999999,
          "yanchor": "bottom",
          "yref": "paper"
         },
         {
          "font": {},
          "showarrow": false,
          "text": "for_first=46 Information and Computing Sciences",
          "x": 0.8824999999999998,
          "xanchor": "center",
          "xref": "paper",
          "y": 0.9999999999999999,
          "yanchor": "bottom",
          "yref": "paper"
         }
        ],
        "coloraxis": {
         "colorbar": {
          "title": {
           "text": "score_avg"
          }
         },
         "colorscale": [
          [
           0,
           "#0d0887"
          ],
          [
           0.1111111111111111,
           "#46039f"
          ],
          [
           0.2222222222222222,
           "#7201a8"
          ],
          [
           0.3333333333333333,
           "#9c179e"
          ],
          [
           0.4444444444444444,
           "#bd3786"
          ],
          [
           0.5555555555555556,
           "#d8576b"
          ],
          [
           0.6666666666666666,
           "#ed7953"
          ],
          [
           0.7777777777777778,
           "#fb9f3a"
          ],
          [
           0.8888888888888888,
           "#fdca26"
          ],
          [
           1,
           "#f0f921"
          ]
         ]
        },
        "height": 600,
        "legend": {
         "itemsizing": "constant",
         "tracegroupgap": 0
        },
        "margin": {
         "t": 60
        },
        "template": {
         "data": {
          "bar": [
           {
            "error_x": {
             "color": "#2a3f5f"
            },
            "error_y": {
             "color": "#2a3f5f"
            },
            "marker": {
             "line": {
              "color": "#E5ECF6",
              "width": 0.5
             },
             "pattern": {
              "fillmode": "overlay",
              "size": 10,
              "solidity": 0.2
             }
            },
            "type": "bar"
           }
          ],
          "barpolar": [
           {
            "marker": {
             "line": {
              "color": "#E5ECF6",
              "width": 0.5
             },
             "pattern": {
              "fillmode": "overlay",
              "size": 10,
              "solidity": 0.2
             }
            },
            "type": "barpolar"
           }
          ],
          "carpet": [
           {
            "aaxis": {
             "endlinecolor": "#2a3f5f",
             "gridcolor": "white",
             "linecolor": "white",
             "minorgridcolor": "white",
             "startlinecolor": "#2a3f5f"
            },
            "baxis": {
             "endlinecolor": "#2a3f5f",
             "gridcolor": "white",
             "linecolor": "white",
             "minorgridcolor": "white",
             "startlinecolor": "#2a3f5f"
            },
            "type": "carpet"
           }
          ],
          "choropleth": [
           {
            "colorbar": {
             "outlinewidth": 0,
             "ticks": ""
            },
            "type": "choropleth"
           }
          ],
          "contour": [
           {
            "colorbar": {
             "outlinewidth": 0,
             "ticks": ""
            },
            "colorscale": [
             [
              0,
              "#0d0887"
             ],
             [
              0.1111111111111111,
              "#46039f"
             ],
             [
              0.2222222222222222,
              "#7201a8"
             ],
             [
              0.3333333333333333,
              "#9c179e"
             ],
             [
              0.4444444444444444,
              "#bd3786"
             ],
             [
              0.5555555555555556,
              "#d8576b"
             ],
             [
              0.6666666666666666,
              "#ed7953"
             ],
             [
              0.7777777777777778,
              "#fb9f3a"
             ],
             [
              0.8888888888888888,
              "#fdca26"
             ],
             [
              1,
              "#f0f921"
             ]
            ],
            "type": "contour"
           }
          ],
          "contourcarpet": [
           {
            "colorbar": {
             "outlinewidth": 0,
             "ticks": ""
            },
            "type": "contourcarpet"
           }
          ],
          "heatmap": [
           {
            "colorbar": {
             "outlinewidth": 0,
             "ticks": ""
            },
            "colorscale": [
             [
              0,
              "#0d0887"
             ],
             [
              0.1111111111111111,
              "#46039f"
             ],
             [
              0.2222222222222222,
              "#7201a8"
             ],
             [
              0.3333333333333333,
              "#9c179e"
             ],
             [
              0.4444444444444444,
              "#bd3786"
             ],
             [
              0.5555555555555556,
              "#d8576b"
             ],
             [
              0.6666666666666666,
              "#ed7953"
             ],
             [
              0.7777777777777778,
              "#fb9f3a"
             ],
             [
              0.8888888888888888,
              "#fdca26"
             ],
             [
              1,
              "#f0f921"
             ]
            ],
            "type": "heatmap"
           }
          ],
          "heatmapgl": [
           {
            "colorbar": {
             "outlinewidth": 0,
             "ticks": ""
            },
            "colorscale": [
             [
              0,
              "#0d0887"
             ],
             [
              0.1111111111111111,
              "#46039f"
             ],
             [
              0.2222222222222222,
              "#7201a8"
             ],
             [
              0.3333333333333333,
              "#9c179e"
             ],
             [
              0.4444444444444444,
              "#bd3786"
             ],
             [
              0.5555555555555556,
              "#d8576b"
             ],
             [
              0.6666666666666666,
              "#ed7953"
             ],
             [
              0.7777777777777778,
              "#fb9f3a"
             ],
             [
              0.8888888888888888,
              "#fdca26"
             ],
             [
              1,
              "#f0f921"
             ]
            ],
            "type": "heatmapgl"
           }
          ],
          "histogram": [
           {
            "marker": {
             "pattern": {
              "fillmode": "overlay",
              "size": 10,
              "solidity": 0.2
             }
            },
            "type": "histogram"
           }
          ],
          "histogram2d": [
           {
            "colorbar": {
             "outlinewidth": 0,
             "ticks": ""
            },
            "colorscale": [
             [
              0,
              "#0d0887"
             ],
             [
              0.1111111111111111,
              "#46039f"
             ],
             [
              0.2222222222222222,
              "#7201a8"
             ],
             [
              0.3333333333333333,
              "#9c179e"
             ],
             [
              0.4444444444444444,
              "#bd3786"
             ],
             [
              0.5555555555555556,
              "#d8576b"
             ],
             [
              0.6666666666666666,
              "#ed7953"
             ],
             [
              0.7777777777777778,
              "#fb9f3a"
             ],
             [
              0.8888888888888888,
              "#fdca26"
             ],
             [
              1,
              "#f0f921"
             ]
            ],
            "type": "histogram2d"
           }
          ],
          "histogram2dcontour": [
           {
            "colorbar": {
             "outlinewidth": 0,
             "ticks": ""
            },
            "colorscale": [
             [
              0,
              "#0d0887"
             ],
             [
              0.1111111111111111,
              "#46039f"
             ],
             [
              0.2222222222222222,
              "#7201a8"
             ],
             [
              0.3333333333333333,
              "#9c179e"
             ],
             [
              0.4444444444444444,
              "#bd3786"
             ],
             [
              0.5555555555555556,
              "#d8576b"
             ],
             [
              0.6666666666666666,
              "#ed7953"
             ],
             [
              0.7777777777777778,
              "#fb9f3a"
             ],
             [
              0.8888888888888888,
              "#fdca26"
             ],
             [
              1,
              "#f0f921"
             ]
            ],
            "type": "histogram2dcontour"
           }
          ],
          "mesh3d": [
           {
            "colorbar": {
             "outlinewidth": 0,
             "ticks": ""
            },
            "type": "mesh3d"
           }
          ],
          "parcoords": [
           {
            "line": {
             "colorbar": {
              "outlinewidth": 0,
              "ticks": ""
             }
            },
            "type": "parcoords"
           }
          ],
          "pie": [
           {
            "automargin": true,
            "type": "pie"
           }
          ],
          "scatter": [
           {
            "fillpattern": {
             "fillmode": "overlay",
             "size": 10,
             "solidity": 0.2
            },
            "type": "scatter"
           }
          ],
          "scatter3d": [
           {
            "line": {
             "colorbar": {
              "outlinewidth": 0,
              "ticks": ""
             }
            },
            "marker": {
             "colorbar": {
              "outlinewidth": 0,
              "ticks": ""
             }
            },
            "type": "scatter3d"
           }
          ],
          "scattercarpet": [
           {
            "marker": {
             "colorbar": {
              "outlinewidth": 0,
              "ticks": ""
             }
            },
            "type": "scattercarpet"
           }
          ],
          "scattergeo": [
           {
            "marker": {
             "colorbar": {
              "outlinewidth": 0,
              "ticks": ""
             }
            },
            "type": "scattergeo"
           }
          ],
          "scattergl": [
           {
            "marker": {
             "colorbar": {
              "outlinewidth": 0,
              "ticks": ""
             }
            },
            "type": "scattergl"
           }
          ],
          "scattermapbox": [
           {
            "marker": {
             "colorbar": {
              "outlinewidth": 0,
              "ticks": ""
             }
            },
            "type": "scattermapbox"
           }
          ],
          "scatterpolar": [
           {
            "marker": {
             "colorbar": {
              "outlinewidth": 0,
              "ticks": ""
             }
            },
            "type": "scatterpolar"
           }
          ],
          "scatterpolargl": [
           {
            "marker": {
             "colorbar": {
              "outlinewidth": 0,
              "ticks": ""
             }
            },
            "type": "scatterpolargl"
           }
          ],
          "scatterternary": [
           {
            "marker": {
             "colorbar": {
              "outlinewidth": 0,
              "ticks": ""
             }
            },
            "type": "scatterternary"
           }
          ],
          "surface": [
           {
            "colorbar": {
             "outlinewidth": 0,
             "ticks": ""
            },
            "colorscale": [
             [
              0,
              "#0d0887"
             ],
             [
              0.1111111111111111,
              "#46039f"
             ],
             [
              0.2222222222222222,
              "#7201a8"
             ],
             [
              0.3333333333333333,
              "#9c179e"
             ],
             [
              0.4444444444444444,
              "#bd3786"
             ],
             [
              0.5555555555555556,
              "#d8576b"
             ],
             [
              0.6666666666666666,
              "#ed7953"
             ],
             [
              0.7777777777777778,
              "#fb9f3a"
             ],
             [
              0.8888888888888888,
              "#fdca26"
             ],
             [
              1,
              "#f0f921"
             ]
            ],
            "type": "surface"
           }
          ],
          "table": [
           {
            "cells": {
             "fill": {
              "color": "#EBF0F8"
             },
             "line": {
              "color": "white"
             }
            },
            "header": {
             "fill": {
              "color": "#C8D4E3"
             },
             "line": {
              "color": "white"
             }
            },
            "type": "table"
           }
          ]
         },
         "layout": {
          "annotationdefaults": {
           "arrowcolor": "#2a3f5f",
           "arrowhead": 0,
           "arrowwidth": 1
          },
          "autotypenumbers": "strict",
          "coloraxis": {
           "colorbar": {
            "outlinewidth": 0,
            "ticks": ""
           }
          },
          "colorscale": {
           "diverging": [
            [
             0,
             "#8e0152"
            ],
            [
             0.1,
             "#c51b7d"
            ],
            [
             0.2,
             "#de77ae"
            ],
            [
             0.3,
             "#f1b6da"
            ],
            [
             0.4,
             "#fde0ef"
            ],
            [
             0.5,
             "#f7f7f7"
            ],
            [
             0.6,
             "#e6f5d0"
            ],
            [
             0.7,
             "#b8e186"
            ],
            [
             0.8,
             "#7fbc41"
            ],
            [
             0.9,
             "#4d9221"
            ],
            [
             1,
             "#276419"
            ]
           ],
           "sequential": [
            [
             0,
             "#0d0887"
            ],
            [
             0.1111111111111111,
             "#46039f"
            ],
            [
             0.2222222222222222,
             "#7201a8"
            ],
            [
             0.3333333333333333,
             "#9c179e"
            ],
            [
             0.4444444444444444,
             "#bd3786"
            ],
            [
             0.5555555555555556,
             "#d8576b"
            ],
            [
             0.6666666666666666,
             "#ed7953"
            ],
            [
             0.7777777777777778,
             "#fb9f3a"
            ],
            [
             0.8888888888888888,
             "#fdca26"
            ],
            [
             1,
             "#f0f921"
            ]
           ],
           "sequentialminus": [
            [
             0,
             "#0d0887"
            ],
            [
             0.1111111111111111,
             "#46039f"
            ],
            [
             0.2222222222222222,
             "#7201a8"
            ],
            [
             0.3333333333333333,
             "#9c179e"
            ],
            [
             0.4444444444444444,
             "#bd3786"
            ],
            [
             0.5555555555555556,
             "#d8576b"
            ],
            [
             0.6666666666666666,
             "#ed7953"
            ],
            [
             0.7777777777777778,
             "#fb9f3a"
            ],
            [
             0.8888888888888888,
             "#fdca26"
            ],
            [
             1,
             "#f0f921"
            ]
           ]
          },
          "colorway": [
           "#636efa",
           "#EF553B",
           "#00cc96",
           "#ab63fa",
           "#FFA15A",
           "#19d3f3",
           "#FF6692",
           "#B6E880",
           "#FF97FF",
           "#FECB52"
          ],
          "font": {
           "color": "#2a3f5f"
          },
          "geo": {
           "bgcolor": "white",
           "lakecolor": "white",
           "landcolor": "#E5ECF6",
           "showlakes": true,
           "showland": true,
           "subunitcolor": "white"
          },
          "hoverlabel": {
           "align": "left"
          },
          "hovermode": "closest",
          "mapbox": {
           "style": "light"
          },
          "paper_bgcolor": "white",
          "plot_bgcolor": "#E5ECF6",
          "polar": {
           "angularaxis": {
            "gridcolor": "white",
            "linecolor": "white",
            "ticks": ""
           },
           "bgcolor": "#E5ECF6",
           "radialaxis": {
            "gridcolor": "white",
            "linecolor": "white",
            "ticks": ""
           }
          },
          "scene": {
           "xaxis": {
            "backgroundcolor": "#E5ECF6",
            "gridcolor": "white",
            "gridwidth": 2,
            "linecolor": "white",
            "showbackground": true,
            "ticks": "",
            "zerolinecolor": "white"
           },
           "yaxis": {
            "backgroundcolor": "#E5ECF6",
            "gridcolor": "white",
            "gridwidth": 2,
            "linecolor": "white",
            "showbackground": true,
            "ticks": "",
            "zerolinecolor": "white"
           },
           "zaxis": {
            "backgroundcolor": "#E5ECF6",
            "gridcolor": "white",
            "gridwidth": 2,
            "linecolor": "white",
            "showbackground": true,
            "ticks": "",
            "zerolinecolor": "white"
           }
          },
          "shapedefaults": {
           "line": {
            "color": "#2a3f5f"
           }
          },
          "ternary": {
           "aaxis": {
            "gridcolor": "white",
            "linecolor": "white",
            "ticks": ""
           },
           "baxis": {
            "gridcolor": "white",
            "linecolor": "white",
            "ticks": ""
           },
           "bgcolor": "#E5ECF6",
           "caxis": {
            "gridcolor": "white",
            "linecolor": "white",
            "ticks": ""
           }
          },
          "title": {
           "x": 0.05
          },
          "xaxis": {
           "automargin": true,
           "gridcolor": "white",
           "linecolor": "white",
           "ticks": "",
           "title": {
            "standoff": 15
           },
           "zerolinecolor": "white",
           "zerolinewidth": 2
          },
          "yaxis": {
           "automargin": true,
           "gridcolor": "white",
           "linecolor": "white",
           "ticks": "",
           "title": {
            "standoff": 15
           },
           "zerolinecolor": "white",
           "zerolinewidth": 2
          }
         }
        },
        "xaxis": {
         "anchor": "y",
         "domain": [
          0,
          0.235
         ],
         "title": {
          "text": "concept"
         }
        },
        "xaxis2": {
         "anchor": "y2",
         "domain": [
          0.255,
          0.49
         ],
         "matches": "x",
         "title": {
          "text": "concept"
         }
        },
        "xaxis3": {
         "anchor": "y3",
         "domain": [
          0.51,
          0.745
         ],
         "matches": "x",
         "title": {
          "text": "concept"
         }
        },
        "xaxis4": {
         "anchor": "y4",
         "domain": [
          0.7649999999999999,
          0.9999999999999999
         ],
         "matches": "x",
         "title": {
          "text": "concept"
         }
        },
        "xaxis5": {
         "anchor": "y5",
         "domain": [
          0,
          0.235
         ],
         "matches": "x",
         "showticklabels": false
        },
        "xaxis6": {
         "anchor": "y6",
         "domain": [
          0.255,
          0.49
         ],
         "matches": "x",
         "showticklabels": false
        },
        "xaxis7": {
         "anchor": "y7",
         "domain": [
          0.51,
          0.745
         ],
         "matches": "x",
         "showticklabels": false
        },
        "xaxis8": {
         "anchor": "y8",
         "domain": [
          0.7649999999999999,
          0.9999999999999999
         ],
         "matches": "x",
         "showticklabels": false
        },
        "yaxis": {
         "anchor": "x",
         "domain": [
          0,
          0.46499999999999997
         ],
         "title": {
          "text": "frequency"
         }
        },
        "yaxis2": {
         "anchor": "x2",
         "domain": [
          0,
          0.46499999999999997
         ],
         "matches": "y",
         "showticklabels": false
        },
        "yaxis3": {
         "anchor": "x3",
         "domain": [
          0,
          0.46499999999999997
         ],
         "matches": "y",
         "showticklabels": false
        },
        "yaxis4": {
         "anchor": "x4",
         "domain": [
          0,
          0.46499999999999997
         ],
         "matches": "y",
         "showticklabels": false
        },
        "yaxis5": {
         "anchor": "x5",
         "domain": [
          0.5349999999999999,
          0.9999999999999999
         ],
         "matches": "y",
         "title": {
          "text": "frequency"
         }
        },
        "yaxis6": {
         "anchor": "x6",
         "domain": [
          0.5349999999999999,
          0.9999999999999999
         ],
         "matches": "y",
         "showticklabels": false
        },
        "yaxis7": {
         "anchor": "x7",
         "domain": [
          0.5349999999999999,
          0.9999999999999999
         ],
         "matches": "y",
         "showticklabels": false
        },
        "yaxis8": {
         "anchor": "x8",
         "domain": [
          0.5349999999999999,
          0.9999999999999999
         ],
         "matches": "y",
         "showticklabels": false
        }
       }
      },
      "text/html": [
       "<div>                            <div id=\"a1cc20e3-61ca-4610-af8c-0115f13d7b61\" class=\"plotly-graph-div\" style=\"height:600px; width:100%;\"></div>            <script type=\"text/javascript\">                require([\"plotly\"], function(Plotly) {                    window.PLOTLYENV=window.PLOTLYENV || {};                                    if (document.getElementById(\"a1cc20e3-61ca-4610-af8c-0115f13d7b61\")) {                    Plotly.newPlot(                        \"a1cc20e3-61ca-4610-af8c-0115f13d7b61\",                        [{\"hovertemplate\":\"for_first=37 Earth Sciences\\u003cbr\\u003econcept=%{x}\\u003cbr\\u003efrequency=%{y}\\u003cbr\\u003escore_avg=%{marker.color}\\u003cextra\\u003e\\u003c\\u002fextra\\u003e\",\"legendgroup\":\"\",\"marker\":{\"color\":[0.937,0.935,0.934,0.93,0.928,0.911,0.909,0.892,0.891,0.867,0.865,0.864,0.864,0.86,0.86,0.86,0.853,0.848,0.845,0.844,0.844,0.844,0.842,0.841,0.839,0.837,0.837,0.835,0.828,0.811,0.806,0.806,0.805,0.805,0.804,0.804,0.804,0.804,0.803,0.803,0.803,0.802,0.8015,0.801,0.801,0.801,0.798,0.798,0.798,0.797,0.797,0.795,0.791,0.787,0.786,0.785,0.78,0.773,0.771,0.771,0.771,0.77,0.769,0.768,0.765,0.7635,0.762,0.759,0.751,0.751,0.751,0.751,0.751,0.75,0.75,0.75,0.75,0.75,0.75,0.75,0.75,0.749,0.749,0.749,0.749,0.749,0.749,0.749,0.749,0.749,0.749,0.749,0.748,0.748,0.748,0.748,0.748,0.748,0.747,0.747,0.747,0.747,0.747,0.747,0.747,0.747,0.747,0.746,0.746,0.746,0.746,0.746,0.746,0.746,0.746,0.746,0.746,0.746,0.745,0.745,0.745,0.744,0.744,0.744,0.743,0.743,0.742,0.742,0.741,0.739,0.739,0.738,0.738,0.738,0.737,0.736,0.736,0.736,0.734],\"coloraxis\":\"coloraxis\",\"size\":[0.937,0.935,0.934,0.93,0.928,0.911,0.909,0.892,0.891,0.867,0.865,0.864,0.864,0.86,0.86,0.86,0.853,0.848,0.845,0.844,0.844,0.844,0.842,0.841,0.839,0.837,0.837,0.835,0.828,0.811,0.806,0.806,0.805,0.805,0.804,0.804,0.804,0.804,0.803,0.803,0.803,0.802,0.8015,0.801,0.801,0.801,0.798,0.798,0.798,0.797,0.797,0.795,0.791,0.787,0.786,0.785,0.78,0.773,0.771,0.771,0.771,0.77,0.769,0.768,0.765,0.7635,0.762,0.759,0.751,0.751,0.751,0.751,0.751,0.75,0.75,0.75,0.75,0.75,0.75,0.75,0.75,0.749,0.749,0.749,0.749,0.749,0.749,0.749,0.749,0.749,0.749,0.749,0.748,0.748,0.748,0.748,0.748,0.748,0.747,0.747,0.747,0.747,0.747,0.747,0.747,0.747,0.747,0.746,0.746,0.746,0.746,0.746,0.746,0.746,0.746,0.746,0.746,0.746,0.745,0.745,0.745,0.744,0.744,0.744,0.743,0.743,0.742,0.742,0.741,0.739,0.739,0.738,0.738,0.738,0.737,0.736,0.736,0.736,0.734],\"sizemode\":\"area\",\"sizeref\":0.0023425,\"symbol\":\"circle\"},\"mode\":\"markers\",\"name\":\"\",\"orientation\":\"v\",\"showlegend\":false,\"x\":[\"Atlantic Meridional Overturning Circulation\",\"slow slip events\",\"tropical tropopause layer\",\"Pine Island Glacier\",\"plate boundary fault\",\"deep water masses\",\"large explosive eruptions\",\"West Antarctic Ice Sheet\",\"high-resolution atmospheric model\",\"ice stream margins\",\"Southern Ocean\",\"large earthquakes\",\"high-impact weather\",\"subduction zone\",\"boundary faults\",\"water masses\",\"temperate ice\",\"ocean acidification\",\"ocean circulation\",\"trace metals\",\"active volcanism\",\"climate simulations\",\"deep ocean\",\"explosive eruptions\",\"meridional overturning circulation\",\"seismic data\",\"lower stratosphere\",\"Global Hawk\",\"Gal\\u00e1pagos Archipelago\",\"full-waveform inversion\",\"mantle melting\",\"plume upwelling\",\"ocean's role\",\"mantle plume\",\"anthropogenic carbon\",\"ice streams\",\"geochemical analyses\",\"Volcanic Province\",\"sea level rise\",\"Spreading Center\",\"eruption history\",\"drill sites\",\"climate variability\",\"tectonic plates\",\"ocean chemistry\",\"large eruptions\",\"slip events\",\"Earth's crust\",\"upper troposphere\",\"biogeochemical processes\",\"destructive earthquakes\",\"atmospheric model\",\"deep water\",\"internal waves\",\"atmospheric concentrations\",\"hazardous weather\",\"trace elements\",\"mass balance\",\"low basal shear stress\",\"shallow slow slip events\",\"regional high-resolution model\",\"air-sea CO2 fluxes\",\"ice sheet mass balance\",\"halogen species\",\"ice-stream shear margins\",\"Atlantic Ocean\",\"surface energy balance measurements\",\"coastal communities\",\"Atlantic Ocean system\",\"slow slip processes\",\"potential socio-economic consequences\",\"different CO2 emission scenarios\",\"low-latitude teleconnections\",\"Antarctic Ice Sheet\",\"sea level contribution\",\"low seismic velocities\",\"limited geochemical data\",\"mantle plume upwelling\",\"plume-ridge interaction\",\"large igneous province\",\"sites of volcanism\",\"ice-stream model\",\"Sumatra-Andaman earthquake\",\"low-velocity anomaly\",\"climate model performance\",\"oceanic spreading centres\",\"regional geophysical studies\",\"pressure of melting\",\"boundary layer\",\"hot spot track\",\"Isopycnal Mixing Experiment\",\"Resolution Atmospheric Model\",\"first-order control\",\"multi-decadal timescales\",\"observed climate record\",\"composition of volcanism\",\"magma chamber processes\",\"surface water masses\",\"climate system\",\"Earth System Model\",\"ice stream flow\",\"fault zone properties\",\"last major eruption\",\"Gal\\u00e1pagos Spreading Center\",\"Earth surface processes\",\"sea surface temperature\",\"Madden\\u2013Julian oscillation\",\"subsurface biogeochemical processes\",\"understanding of predictability\",\"wind-driven circulation\",\"ice stream motion\",\"Earth's tectonic plates\",\"global sea level\",\"FAAM BAe-146\",\"recent volcanic eruptions\",\"seismic velocity data\",\"marine boundary layer\",\"Snake River Plain\",\"discharge of ice\",\"warm air advection\",\"Mid-Atlantic Ridge\",\"trace metal cycles\",\"Earth system variability\",\"ice thinning rates\",\"pressure melting point\",\"continuous GPS network\",\"basal shear stress\",\"stratospheric bromine budget\",\"action of eddies\",\"degree of fractionation\",\"Snake River\\u2013type\",\"trace metal concentrations\",\"depletion of O3\",\"key driving processes\",\"high-resolution model\",\"CO2 emission scenarios\",\"year flood event\",\"high-latitude regions\",\"sub-visible cirrus\"],\"xaxis\":\"x5\",\"y\":[1,1,1,1,1,1,1,1,1,1,1,1,1,1,1,1,1,1,1,2,1,1,1,1,2,1,1,1,1,1,1,1,1,1,1,1,1,1,3,1,1,1,2,1,1,1,1,1,1,2,1,1,1,1,1,1,2,1,1,1,1,1,1,1,1,2,1,1,1,1,1,1,1,2,1,1,1,1,1,1,1,1,1,1,1,1,1,1,1,1,1,1,2,1,1,1,1,1,2,1,1,1,1,1,1,1,1,2,1,1,1,1,1,1,1,1,1,1,1,1,1,2,1,1,1,1,1,1,1,2,1,2,1,1,2,1,1,1,1],\"yaxis\":\"y5\",\"type\":\"scatter\"},{\"hovertemplate\":\"for_first=51 Physical Sciences\\u003cbr\\u003econcept=%{x}\\u003cbr\\u003efrequency=%{y}\\u003cbr\\u003escore_avg=%{marker.color}\\u003cextra\\u003e\\u003c\\u002fextra\\u003e\",\"legendgroup\":\"\",\"marker\":{\"color\":[0.887,0.847,0.846,0.841,0.824,0.812,0.799,0.786,0.784,0.782,0.781,0.781,0.77,0.762,0.747,0.735,0.734],\"coloraxis\":\"coloraxis\",\"size\":[0.887,0.847,0.846,0.841,0.824,0.812,0.799,0.786,0.784,0.782,0.781,0.781,0.77,0.762,0.747,0.735,0.734],\"sizemode\":\"area\",\"sizeref\":0.0023425,\"symbol\":\"circle\"},\"mode\":\"markers\",\"name\":\"\",\"orientation\":\"v\",\"showlegend\":false,\"x\":[\"evolution of galaxies\",\"stellar surface inhomogeneities\",\"active galactic nuclei\",\"supermassive black holes\",\"host star\",\"high-performance computing\",\"black holes\",\"magnetic field\",\"galactic nuclei\",\"galaxy clusters\",\"stellar surface\",\"stellar lines\",\"dynamical history\",\"software infrastructure\",\"future high-precision experiments\",\"matter science\",\"chemical evolution modelling\"],\"xaxis\":\"x6\",\"y\":[1,1,1,1,1,1,1,1,1,1,1,1,1,1,1,1,1],\"yaxis\":\"y6\",\"type\":\"scatter\"},{\"hovertemplate\":\"for_first=49 Mathematical Sciences\\u003cbr\\u003econcept=%{x}\\u003cbr\\u003efrequency=%{y}\\u003cbr\\u003escore_avg=%{marker.color}\\u003cextra\\u003e\\u003c\\u002fextra\\u003e\",\"legendgroup\":\"\",\"marker\":{\"color\":[0.855,0.787,0.773,0.76,0.735],\"coloraxis\":\"coloraxis\",\"size\":[0.855,0.787,0.773,0.76,0.735],\"sizemode\":\"area\",\"sizeref\":0.0023425,\"symbol\":\"circle\"},\"mode\":\"markers\",\"name\":\"\",\"orientation\":\"v\",\"showlegend\":false,\"x\":[\"complex reflection groups\",\"reflection groups\",\"Orlik\\u2013Solomon algebra\",\"symmetric group\",\"Coxeter groups\"],\"xaxis\":\"x7\",\"y\":[1,1,1,1,1],\"yaxis\":\"y7\",\"type\":\"scatter\"},{\"hovertemplate\":\"for_first=46 Information and Computing Sciences\\u003cbr\\u003econcept=%{x}\\u003cbr\\u003efrequency=%{y}\\u003cbr\\u003escore_avg=%{marker.color}\\u003cextra\\u003e\\u003c\\u002fextra\\u003e\",\"legendgroup\":\"\",\"marker\":{\"color\":[0.855,0.841,0.827,0.822,0.82,0.817,0.7935,0.766,0.762,0.759,0.759,0.757,0.744],\"coloraxis\":\"coloraxis\",\"size\":[0.855,0.841,0.827,0.822,0.82,0.817,0.7935,0.766,0.762,0.759,0.759,0.757,0.744],\"sizemode\":\"area\",\"sizeref\":0.0023425,\"symbol\":\"circle\"},\"mode\":\"markers\",\"name\":\"\",\"orientation\":\"v\",\"showlegend\":false,\"x\":[\"multiparty session types\",\"cognitive control\",\"cyber-physical systems\",\"protocol description language\",\"high-end computing\",\"large-scale networking\",\"information technology research\",\"assurance methodology\",\"big data\",\"distributed system\",\"assertion language\",\"description language\",\"cognitive robotics research\"],\"xaxis\":\"x8\",\"y\":[1,1,2,1,2,2,4,1,2,1,1,1,1],\"yaxis\":\"y8\",\"type\":\"scatter\"},{\"hovertemplate\":\"for_first=41 Environmental Sciences\\u003cbr\\u003econcept=%{x}\\u003cbr\\u003efrequency=%{y}\\u003cbr\\u003escore_avg=%{marker.color}\\u003cextra\\u003e\\u003c\\u002fextra\\u003e\",\"legendgroup\":\"\",\"marker\":{\"color\":[0.854,0.854,0.849,0.803,0.794,0.754,0.751,0.749,0.746,0.742,0.737,0.737,0.735],\"coloraxis\":\"coloraxis\",\"size\":[0.854,0.854,0.849,0.803,0.794,0.754,0.751,0.749,0.746,0.742,0.737,0.737,0.735],\"sizemode\":\"area\",\"sizeref\":0.0023425,\"symbol\":\"circle\"},\"mode\":\"markers\",\"name\":\"\",\"orientation\":\"v\",\"showlegend\":false,\"x\":[\"ecosystem model\",\"Western Channel Observatory\",\"meiofaunal biodiversity\",\"estuarine ecosystems\",\"meiofaunal communities\",\"biodiversity-ecosystem functioning\",\"faunal species richness\",\"upper ocean ecosystem\",\"important estuarine species\",\"sustainable management strategies\",\"marine environment\",\"global environment change\",\"hydrodynamic-ecosystem model\"],\"xaxis\":\"x\",\"y\":[1,1,2,2,2,2,2,1,2,1,2,1,1],\"yaxis\":\"y\",\"type\":\"scatter\"},{\"hovertemplate\":\"for_first=40 Engineering\\u003cbr\\u003econcept=%{x}\\u003cbr\\u003efrequency=%{y}\\u003cbr\\u003escore_avg=%{marker.color}\\u003cextra\\u003e\\u003c\\u002fextra\\u003e\",\"legendgroup\":\"\",\"marker\":{\"color\":[0.809,0.76,0.747,0.738],\"coloraxis\":\"coloraxis\",\"size\":[0.809,0.76,0.747,0.738],\"sizemode\":\"area\",\"sizeref\":0.0023425,\"symbol\":\"circle\"},\"mode\":\"markers\",\"name\":\"\",\"orientation\":\"v\",\"showlegend\":false,\"x\":[\"Brillouin optical time domain reflectometer\",\"differential geometry\",\"microlocal analysis\",\"fiber optic technology\"],\"xaxis\":\"x2\",\"y\":[1,1,1,1],\"yaxis\":\"y2\",\"type\":\"scatter\"},{\"hovertemplate\":\"for_first=36 Creative Arts and Writing\\u003cbr\\u003econcept=%{x}\\u003cbr\\u003efrequency=%{y}\\u003cbr\\u003escore_avg=%{marker.color}\\u003cextra\\u003e\\u003c\\u002fextra\\u003e\",\"legendgroup\":\"\",\"marker\":{\"color\":[0.805,0.804,0.78,0.744],\"coloraxis\":\"coloraxis\",\"size\":[0.805,0.804,0.78,0.744],\"sizemode\":\"area\",\"sizeref\":0.0023425,\"symbol\":\"circle\"},\"mode\":\"markers\",\"name\":\"\",\"orientation\":\"v\",\"showlegend\":false,\"x\":[\"verbal text\",\"book illustrations\",\"nineteenth century\",\"long nineteenth century\"],\"xaxis\":\"x3\",\"y\":[1,1,1,1],\"yaxis\":\"y3\",\"type\":\"scatter\"},{\"hovertemplate\":\"for_first=31 Biological Sciences\\u003cbr\\u003econcept=%{x}\\u003cbr\\u003efrequency=%{y}\\u003cbr\\u003escore_avg=%{marker.color}\\u003cextra\\u003e\\u003c\\u002fextra\\u003e\",\"legendgroup\":\"\",\"marker\":{\"color\":[0.791,0.781,0.746,0.735,0.734],\"coloraxis\":\"coloraxis\",\"size\":[0.791,0.781,0.746,0.735,0.734],\"sizemode\":\"area\",\"sizeref\":0.0023425,\"symbol\":\"circle\"},\"mode\":\"markers\",\"name\":\"\",\"orientation\":\"v\",\"showlegend\":false,\"x\":[\"gene models\",\"wild populations\",\"natural populations\",\"larger taxa\",\"genome sequence\"],\"xaxis\":\"x4\",\"y\":[1,1,1,1,1],\"yaxis\":\"y4\",\"type\":\"scatter\"}],                        {\"template\":{\"data\":{\"histogram2dcontour\":[{\"type\":\"histogram2dcontour\",\"colorbar\":{\"outlinewidth\":0,\"ticks\":\"\"},\"colorscale\":[[0.0,\"#0d0887\"],[0.1111111111111111,\"#46039f\"],[0.2222222222222222,\"#7201a8\"],[0.3333333333333333,\"#9c179e\"],[0.4444444444444444,\"#bd3786\"],[0.5555555555555556,\"#d8576b\"],[0.6666666666666666,\"#ed7953\"],[0.7777777777777778,\"#fb9f3a\"],[0.8888888888888888,\"#fdca26\"],[1.0,\"#f0f921\"]]}],\"choropleth\":[{\"type\":\"choropleth\",\"colorbar\":{\"outlinewidth\":0,\"ticks\":\"\"}}],\"histogram2d\":[{\"type\":\"histogram2d\",\"colorbar\":{\"outlinewidth\":0,\"ticks\":\"\"},\"colorscale\":[[0.0,\"#0d0887\"],[0.1111111111111111,\"#46039f\"],[0.2222222222222222,\"#7201a8\"],[0.3333333333333333,\"#9c179e\"],[0.4444444444444444,\"#bd3786\"],[0.5555555555555556,\"#d8576b\"],[0.6666666666666666,\"#ed7953\"],[0.7777777777777778,\"#fb9f3a\"],[0.8888888888888888,\"#fdca26\"],[1.0,\"#f0f921\"]]}],\"heatmap\":[{\"type\":\"heatmap\",\"colorbar\":{\"outlinewidth\":0,\"ticks\":\"\"},\"colorscale\":[[0.0,\"#0d0887\"],[0.1111111111111111,\"#46039f\"],[0.2222222222222222,\"#7201a8\"],[0.3333333333333333,\"#9c179e\"],[0.4444444444444444,\"#bd3786\"],[0.5555555555555556,\"#d8576b\"],[0.6666666666666666,\"#ed7953\"],[0.7777777777777778,\"#fb9f3a\"],[0.8888888888888888,\"#fdca26\"],[1.0,\"#f0f921\"]]}],\"heatmapgl\":[{\"type\":\"heatmapgl\",\"colorbar\":{\"outlinewidth\":0,\"ticks\":\"\"},\"colorscale\":[[0.0,\"#0d0887\"],[0.1111111111111111,\"#46039f\"],[0.2222222222222222,\"#7201a8\"],[0.3333333333333333,\"#9c179e\"],[0.4444444444444444,\"#bd3786\"],[0.5555555555555556,\"#d8576b\"],[0.6666666666666666,\"#ed7953\"],[0.7777777777777778,\"#fb9f3a\"],[0.8888888888888888,\"#fdca26\"],[1.0,\"#f0f921\"]]}],\"contourcarpet\":[{\"type\":\"contourcarpet\",\"colorbar\":{\"outlinewidth\":0,\"ticks\":\"\"}}],\"contour\":[{\"type\":\"contour\",\"colorbar\":{\"outlinewidth\":0,\"ticks\":\"\"},\"colorscale\":[[0.0,\"#0d0887\"],[0.1111111111111111,\"#46039f\"],[0.2222222222222222,\"#7201a8\"],[0.3333333333333333,\"#9c179e\"],[0.4444444444444444,\"#bd3786\"],[0.5555555555555556,\"#d8576b\"],[0.6666666666666666,\"#ed7953\"],[0.7777777777777778,\"#fb9f3a\"],[0.8888888888888888,\"#fdca26\"],[1.0,\"#f0f921\"]]}],\"surface\":[{\"type\":\"surface\",\"colorbar\":{\"outlinewidth\":0,\"ticks\":\"\"},\"colorscale\":[[0.0,\"#0d0887\"],[0.1111111111111111,\"#46039f\"],[0.2222222222222222,\"#7201a8\"],[0.3333333333333333,\"#9c179e\"],[0.4444444444444444,\"#bd3786\"],[0.5555555555555556,\"#d8576b\"],[0.6666666666666666,\"#ed7953\"],[0.7777777777777778,\"#fb9f3a\"],[0.8888888888888888,\"#fdca26\"],[1.0,\"#f0f921\"]]}],\"mesh3d\":[{\"type\":\"mesh3d\",\"colorbar\":{\"outlinewidth\":0,\"ticks\":\"\"}}],\"scatter\":[{\"fillpattern\":{\"fillmode\":\"overlay\",\"size\":10,\"solidity\":0.2},\"type\":\"scatter\"}],\"parcoords\":[{\"type\":\"parcoords\",\"line\":{\"colorbar\":{\"outlinewidth\":0,\"ticks\":\"\"}}}],\"scatterpolargl\":[{\"type\":\"scatterpolargl\",\"marker\":{\"colorbar\":{\"outlinewidth\":0,\"ticks\":\"\"}}}],\"bar\":[{\"error_x\":{\"color\":\"#2a3f5f\"},\"error_y\":{\"color\":\"#2a3f5f\"},\"marker\":{\"line\":{\"color\":\"#E5ECF6\",\"width\":0.5},\"pattern\":{\"fillmode\":\"overlay\",\"size\":10,\"solidity\":0.2}},\"type\":\"bar\"}],\"scattergeo\":[{\"type\":\"scattergeo\",\"marker\":{\"colorbar\":{\"outlinewidth\":0,\"ticks\":\"\"}}}],\"scatterpolar\":[{\"type\":\"scatterpolar\",\"marker\":{\"colorbar\":{\"outlinewidth\":0,\"ticks\":\"\"}}}],\"histogram\":[{\"marker\":{\"pattern\":{\"fillmode\":\"overlay\",\"size\":10,\"solidity\":0.2}},\"type\":\"histogram\"}],\"scattergl\":[{\"type\":\"scattergl\",\"marker\":{\"colorbar\":{\"outlinewidth\":0,\"ticks\":\"\"}}}],\"scatter3d\":[{\"type\":\"scatter3d\",\"line\":{\"colorbar\":{\"outlinewidth\":0,\"ticks\":\"\"}},\"marker\":{\"colorbar\":{\"outlinewidth\":0,\"ticks\":\"\"}}}],\"scattermapbox\":[{\"type\":\"scattermapbox\",\"marker\":{\"colorbar\":{\"outlinewidth\":0,\"ticks\":\"\"}}}],\"scatterternary\":[{\"type\":\"scatterternary\",\"marker\":{\"colorbar\":{\"outlinewidth\":0,\"ticks\":\"\"}}}],\"scattercarpet\":[{\"type\":\"scattercarpet\",\"marker\":{\"colorbar\":{\"outlinewidth\":0,\"ticks\":\"\"}}}],\"carpet\":[{\"aaxis\":{\"endlinecolor\":\"#2a3f5f\",\"gridcolor\":\"white\",\"linecolor\":\"white\",\"minorgridcolor\":\"white\",\"startlinecolor\":\"#2a3f5f\"},\"baxis\":{\"endlinecolor\":\"#2a3f5f\",\"gridcolor\":\"white\",\"linecolor\":\"white\",\"minorgridcolor\":\"white\",\"startlinecolor\":\"#2a3f5f\"},\"type\":\"carpet\"}],\"table\":[{\"cells\":{\"fill\":{\"color\":\"#EBF0F8\"},\"line\":{\"color\":\"white\"}},\"header\":{\"fill\":{\"color\":\"#C8D4E3\"},\"line\":{\"color\":\"white\"}},\"type\":\"table\"}],\"barpolar\":[{\"marker\":{\"line\":{\"color\":\"#E5ECF6\",\"width\":0.5},\"pattern\":{\"fillmode\":\"overlay\",\"size\":10,\"solidity\":0.2}},\"type\":\"barpolar\"}],\"pie\":[{\"automargin\":true,\"type\":\"pie\"}]},\"layout\":{\"autotypenumbers\":\"strict\",\"colorway\":[\"#636efa\",\"#EF553B\",\"#00cc96\",\"#ab63fa\",\"#FFA15A\",\"#19d3f3\",\"#FF6692\",\"#B6E880\",\"#FF97FF\",\"#FECB52\"],\"font\":{\"color\":\"#2a3f5f\"},\"hovermode\":\"closest\",\"hoverlabel\":{\"align\":\"left\"},\"paper_bgcolor\":\"white\",\"plot_bgcolor\":\"#E5ECF6\",\"polar\":{\"bgcolor\":\"#E5ECF6\",\"angularaxis\":{\"gridcolor\":\"white\",\"linecolor\":\"white\",\"ticks\":\"\"},\"radialaxis\":{\"gridcolor\":\"white\",\"linecolor\":\"white\",\"ticks\":\"\"}},\"ternary\":{\"bgcolor\":\"#E5ECF6\",\"aaxis\":{\"gridcolor\":\"white\",\"linecolor\":\"white\",\"ticks\":\"\"},\"baxis\":{\"gridcolor\":\"white\",\"linecolor\":\"white\",\"ticks\":\"\"},\"caxis\":{\"gridcolor\":\"white\",\"linecolor\":\"white\",\"ticks\":\"\"}},\"coloraxis\":{\"colorbar\":{\"outlinewidth\":0,\"ticks\":\"\"}},\"colorscale\":{\"sequential\":[[0.0,\"#0d0887\"],[0.1111111111111111,\"#46039f\"],[0.2222222222222222,\"#7201a8\"],[0.3333333333333333,\"#9c179e\"],[0.4444444444444444,\"#bd3786\"],[0.5555555555555556,\"#d8576b\"],[0.6666666666666666,\"#ed7953\"],[0.7777777777777778,\"#fb9f3a\"],[0.8888888888888888,\"#fdca26\"],[1.0,\"#f0f921\"]],\"sequentialminus\":[[0.0,\"#0d0887\"],[0.1111111111111111,\"#46039f\"],[0.2222222222222222,\"#7201a8\"],[0.3333333333333333,\"#9c179e\"],[0.4444444444444444,\"#bd3786\"],[0.5555555555555556,\"#d8576b\"],[0.6666666666666666,\"#ed7953\"],[0.7777777777777778,\"#fb9f3a\"],[0.8888888888888888,\"#fdca26\"],[1.0,\"#f0f921\"]],\"diverging\":[[0,\"#8e0152\"],[0.1,\"#c51b7d\"],[0.2,\"#de77ae\"],[0.3,\"#f1b6da\"],[0.4,\"#fde0ef\"],[0.5,\"#f7f7f7\"],[0.6,\"#e6f5d0\"],[0.7,\"#b8e186\"],[0.8,\"#7fbc41\"],[0.9,\"#4d9221\"],[1,\"#276419\"]]},\"xaxis\":{\"gridcolor\":\"white\",\"linecolor\":\"white\",\"ticks\":\"\",\"title\":{\"standoff\":15},\"zerolinecolor\":\"white\",\"automargin\":true,\"zerolinewidth\":2},\"yaxis\":{\"gridcolor\":\"white\",\"linecolor\":\"white\",\"ticks\":\"\",\"title\":{\"standoff\":15},\"zerolinecolor\":\"white\",\"automargin\":true,\"zerolinewidth\":2},\"scene\":{\"xaxis\":{\"backgroundcolor\":\"#E5ECF6\",\"gridcolor\":\"white\",\"linecolor\":\"white\",\"showbackground\":true,\"ticks\":\"\",\"zerolinecolor\":\"white\",\"gridwidth\":2},\"yaxis\":{\"backgroundcolor\":\"#E5ECF6\",\"gridcolor\":\"white\",\"linecolor\":\"white\",\"showbackground\":true,\"ticks\":\"\",\"zerolinecolor\":\"white\",\"gridwidth\":2},\"zaxis\":{\"backgroundcolor\":\"#E5ECF6\",\"gridcolor\":\"white\",\"linecolor\":\"white\",\"showbackground\":true,\"ticks\":\"\",\"zerolinecolor\":\"white\",\"gridwidth\":2}},\"shapedefaults\":{\"line\":{\"color\":\"#2a3f5f\"}},\"annotationdefaults\":{\"arrowcolor\":\"#2a3f5f\",\"arrowhead\":0,\"arrowwidth\":1},\"geo\":{\"bgcolor\":\"white\",\"landcolor\":\"#E5ECF6\",\"subunitcolor\":\"white\",\"showland\":true,\"showlakes\":true,\"lakecolor\":\"white\"},\"title\":{\"x\":0.05},\"mapbox\":{\"style\":\"light\"}}},\"xaxis\":{\"anchor\":\"y\",\"domain\":[0.0,0.235],\"title\":{\"text\":\"concept\"}},\"yaxis\":{\"anchor\":\"x\",\"domain\":[0.0,0.46499999999999997],\"title\":{\"text\":\"frequency\"}},\"xaxis2\":{\"anchor\":\"y2\",\"domain\":[0.255,0.49],\"matches\":\"x\",\"title\":{\"text\":\"concept\"}},\"yaxis2\":{\"anchor\":\"x2\",\"domain\":[0.0,0.46499999999999997],\"matches\":\"y\",\"showticklabels\":false},\"xaxis3\":{\"anchor\":\"y3\",\"domain\":[0.51,0.745],\"matches\":\"x\",\"title\":{\"text\":\"concept\"}},\"yaxis3\":{\"anchor\":\"x3\",\"domain\":[0.0,0.46499999999999997],\"matches\":\"y\",\"showticklabels\":false},\"xaxis4\":{\"anchor\":\"y4\",\"domain\":[0.7649999999999999,0.9999999999999999],\"matches\":\"x\",\"title\":{\"text\":\"concept\"}},\"yaxis4\":{\"anchor\":\"x4\",\"domain\":[0.0,0.46499999999999997],\"matches\":\"y\",\"showticklabels\":false},\"xaxis5\":{\"anchor\":\"y5\",\"domain\":[0.0,0.235],\"matches\":\"x\",\"showticklabels\":false},\"yaxis5\":{\"anchor\":\"x5\",\"domain\":[0.5349999999999999,0.9999999999999999],\"matches\":\"y\",\"title\":{\"text\":\"frequency\"}},\"xaxis6\":{\"anchor\":\"y6\",\"domain\":[0.255,0.49],\"matches\":\"x\",\"showticklabels\":false},\"yaxis6\":{\"anchor\":\"x6\",\"domain\":[0.5349999999999999,0.9999999999999999],\"matches\":\"y\",\"showticklabels\":false},\"xaxis7\":{\"anchor\":\"y7\",\"domain\":[0.51,0.745],\"matches\":\"x\",\"showticklabels\":false},\"yaxis7\":{\"anchor\":\"x7\",\"domain\":[0.5349999999999999,0.9999999999999999],\"matches\":\"y\",\"showticklabels\":false},\"xaxis8\":{\"anchor\":\"y8\",\"domain\":[0.7649999999999999,0.9999999999999999],\"matches\":\"x\",\"showticklabels\":false},\"yaxis8\":{\"anchor\":\"x8\",\"domain\":[0.5349999999999999,0.9999999999999999],\"matches\":\"y\",\"showticklabels\":false},\"annotations\":[{\"font\":{},\"showarrow\":false,\"text\":\"for_first=41 Environmental Sciences\",\"x\":0.1175,\"xanchor\":\"center\",\"xref\":\"paper\",\"y\":0.46499999999999997,\"yanchor\":\"bottom\",\"yref\":\"paper\"},{\"font\":{},\"showarrow\":false,\"text\":\"for_first=40 Engineering\",\"x\":0.3725,\"xanchor\":\"center\",\"xref\":\"paper\",\"y\":0.46499999999999997,\"yanchor\":\"bottom\",\"yref\":\"paper\"},{\"font\":{},\"showarrow\":false,\"text\":\"for_first=36 Creative Arts and Writing\",\"x\":0.6275,\"xanchor\":\"center\",\"xref\":\"paper\",\"y\":0.46499999999999997,\"yanchor\":\"bottom\",\"yref\":\"paper\"},{\"font\":{},\"showarrow\":false,\"text\":\"for_first=31 Biological Sciences\",\"x\":0.8824999999999998,\"xanchor\":\"center\",\"xref\":\"paper\",\"y\":0.46499999999999997,\"yanchor\":\"bottom\",\"yref\":\"paper\"},{\"font\":{},\"showarrow\":false,\"text\":\"for_first=37 Earth Sciences\",\"x\":0.1175,\"xanchor\":\"center\",\"xref\":\"paper\",\"y\":0.9999999999999999,\"yanchor\":\"bottom\",\"yref\":\"paper\"},{\"font\":{},\"showarrow\":false,\"text\":\"for_first=51 Physical Sciences\",\"x\":0.3725,\"xanchor\":\"center\",\"xref\":\"paper\",\"y\":0.9999999999999999,\"yanchor\":\"bottom\",\"yref\":\"paper\"},{\"font\":{},\"showarrow\":false,\"text\":\"for_first=49 Mathematical Sciences\",\"x\":0.6275,\"xanchor\":\"center\",\"xref\":\"paper\",\"y\":0.9999999999999999,\"yanchor\":\"bottom\",\"yref\":\"paper\"},{\"font\":{},\"showarrow\":false,\"text\":\"for_first=46 Information and Computing Sciences\",\"x\":0.8824999999999998,\"xanchor\":\"center\",\"xref\":\"paper\",\"y\":0.9999999999999999,\"yanchor\":\"bottom\",\"yref\":\"paper\"}],\"coloraxis\":{\"colorbar\":{\"title\":{\"text\":\"score_avg\"}},\"colorscale\":[[0.0,\"#0d0887\"],[0.1111111111111111,\"#46039f\"],[0.2222222222222222,\"#7201a8\"],[0.3333333333333333,\"#9c179e\"],[0.4444444444444444,\"#bd3786\"],[0.5555555555555556,\"#d8576b\"],[0.6666666666666666,\"#ed7953\"],[0.7777777777777778,\"#fb9f3a\"],[0.8888888888888888,\"#fdca26\"],[1.0,\"#f0f921\"]]},\"legend\":{\"tracegroupgap\":0,\"itemsizing\":\"constant\"},\"margin\":{\"t\":60},\"height\":600},                        {\"responsive\": true}                    ).then(function(){\n",
       "                            \n",
       "var gd = document.getElementById('a1cc20e3-61ca-4610-af8c-0115f13d7b61');\n",
       "var x = new MutationObserver(function (mutations, observer) {{\n",
       "        var display = window.getComputedStyle(gd).display;\n",
       "        if (!display || display === 'none') {{\n",
       "            console.log([gd, 'removed!']);\n",
       "            Plotly.purge(gd);\n",
       "            observer.disconnect();\n",
       "        }}\n",
       "}});\n",
       "\n",
       "// Listen for the removal of the full notebook cells\n",
       "var notebookContainer = gd.closest('#notebook-container');\n",
       "if (notebookContainer) {{\n",
       "    x.observe(notebookContainer, {childList: true});\n",
       "}}\n",
       "\n",
       "// Listen for the clearing of the current output cell\n",
       "var outputEl = gd.closest('.output');\n",
       "if (outputEl) {{\n",
       "    x.observe(outputEl, {childList: true});\n",
       "}}\n",
       "\n",
       "                        })                };                });            </script>        </div>"
      ]
     },
     "metadata": {},
     "output_type": "display_data"
    }
   ],
   "source": [
    "px.scatter(filtered_concepts,\n",
    "           x=\"concept\",\n",
    "           y=\"frequency\",\n",
    "           facet_col=\"for_first\",\n",
    "           facet_col_wrap = 4,\n",
    "           height=600,\n",
    "           color=\"score_avg\",\n",
    "           size=\"score_avg\")"
   ]
  },
  {
   "cell_type": "markdown",
   "metadata": {
    "Collapsed": "false",
    "id": "Etf7KhmR8I1j"
   },
   "source": [
    "## 6. Conclusion\n",
    "\n",
    "In this tutorial we have demonstrated how to process grants *concepts* - normalised keywords found in documents- obtained using the [Dimensions Analytics API](https://www.dimensions.ai/dimensions-apis/).\n",
    "\n",
    "By playing with parameters like *frequency* and *average score*, it is possible to highlight interesting concepts programmatically and use them to carry out semantic analyses of the documents dataset they derive from.\n",
    "\n",
    "For more information on this topic, see also the [official documentation on concepts](https://docs.dimensions.ai/dsl/language.html#searching-using-concepts) and the [Working with concepts in the Dimensions API](https://api-lab.dimensions.ai/cookbooks/1-getting-started/7-Working-with-concepts.html) tutorial."
   ]
  }
 ],
 "metadata": {
  "colab": {
   "provenance": []
  },
  "kernel_info": {
   "name": "python3"
  },
  "kernelspec": {
   "display_name": "Python 3 (ipykernel)",
   "language": "python",
   "name": "python3"
  },
  "language_info": {
   "codemirror_mode": {
    "name": "ipython",
    "version": 3
   },
   "file_extension": ".py",
   "mimetype": "text/x-python",
   "name": "python",
   "nbconvert_exporter": "python",
   "pygments_lexer": "ipython3",
   "version": "3.11.3"
  },
  "nteract": {
   "version": "0.14.5"
  }
 },
 "nbformat": 4,
 "nbformat_minor": 0
}
