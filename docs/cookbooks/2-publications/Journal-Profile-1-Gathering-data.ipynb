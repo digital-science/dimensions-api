{
 "cells": [
  {
   "cell_type": "markdown",
   "metadata": {
    "Collapsed": "false",
    "colab_type": "text",
    "id": "Pesu5qAD6J7-"
   },
   "source": [
    "# Journal Profiling Part 1: Getting the Data\n",
    "\n",
    "This Python notebook shows how to use the [Dimensions Analytics API](https://www.dimensions.ai/dimensions-apis/) to extract [publications data ](https://docs.dimensions.ai/dsl/datasource-publications.html) for a specific journal, as well its authors and affiliations.\n",
    "\n",
    "This tutorial is the first of a series that uses the data extracted in order to generate a 'journal profile' report. See the [API Lab homepage](https://api-lab.dimensions.ai/) for the other tutorials in this series.\n",
    "\n",
    "\n",
    "In this notebook we are going to:\n",
    "\n",
    "* extract all publications data for a given journal\n",
    "* have a quick look at the publications' authors and affiliations \n",
    "* review how many authors have been disambiguated with a Dimensions Researcher ID\n",
    "* produce a dataset of non-disambiguated authors that can be used for manual disambiguation "
   ]
  },
  {
   "cell_type": "markdown",
   "metadata": {
    "Collapsed": "false",
    "colab_type": "text",
    "id": "hMaQlB7DG8Vw"
   },
   "source": [
    "## Prerequisites\n",
    "\n",
    "This notebook assumes you have installed the [Dimcli](https://pypi.org/project/dimcli/) library and are familiar with the *Getting Started* tutorial.\n"
   ]
  },
  {
   "cell_type": "code",
   "execution_count": 1,
   "metadata": {
    "Collapsed": "false"
   },
   "outputs": [
    {
     "data": {
      "text/html": [
       "        <script type=\"text/javascript\">\n",
       "        window.PlotlyConfig = {MathJaxConfig: 'local'};\n",
       "        if (window.MathJax) {MathJax.Hub.Config({SVG: {font: \"STIX-Web\"}});}\n",
       "        if (typeof require !== 'undefined') {\n",
       "        require.undef(\"plotly\");\n",
       "        requirejs.config({\n",
       "            paths: {\n",
       "                'plotly': ['https://cdn.plot.ly/plotly-latest.min']\n",
       "            }\n",
       "        });\n",
       "        require(['plotly'], function(Plotly) {\n",
       "            window._Plotly = Plotly;\n",
       "        });\n",
       "        }\n",
       "        </script>\n",
       "        "
      ]
     },
     "metadata": {},
     "output_type": "display_data"
    },
    {
     "name": "stdout",
     "output_type": "stream",
     "text": [
      "==\n",
      "Logging in..\n",
      "\u001b[2mDimcli - Dimensions API Client (v0.7.4.2)\u001b[0m\n",
      "\u001b[2mConnected to: https://app.dimensions.ai - DSL v1.27\u001b[0m\n",
      "\u001b[2mMethod: dsl.ini file\u001b[0m\n"
     ]
    }
   ],
   "source": [
    "!pip install dimcli plotly tqdm -U --quiet \n",
    "\n",
    "import dimcli\n",
    "from dimcli.shortcuts import *\n",
    "import os, sys, time, json\n",
    "from tqdm.notebook import tqdm as progress\n",
    "import pandas as pd\n",
    "import plotly.express as px\n",
    "if not 'google.colab' in sys.modules:\n",
    "  # make js dependecies local / needed by html exports\n",
    "  from plotly.offline import init_notebook_mode\n",
    "  init_notebook_mode(connected=True)\n",
    "#\n",
    "\n",
    "print(\"==\\nLogging in..\")\n",
    "# https://github.com/digital-science/dimcli#authentication\n",
    "ENDPOINT = \"https://app.dimensions.ai\"\n",
    "if 'google.colab' in sys.modules:\n",
    "  import getpass\n",
    "  USERNAME = getpass.getpass(prompt='Username: ')\n",
    "  PASSWORD = getpass.getpass(prompt='Password: ')    \n",
    "  dimcli.login(USERNAME, PASSWORD, ENDPOINT)\n",
    "else:\n",
    "  USERNAME, PASSWORD  = \"\", \"\"\n",
    "  dimcli.login(USERNAME, PASSWORD, ENDPOINT)\n",
    "dsl = dimcli.Dsl()"
   ]
  },
  {
   "cell_type": "markdown",
   "metadata": {
    "Collapsed": "false"
   },
   "source": [
    "Some helper functions to store the data we are going to extract"
   ]
  },
  {
   "cell_type": "code",
   "execution_count": 3,
   "metadata": {
    "Collapsed": "false",
    "colab": {
     "base_uri": "https://localhost:8080/",
     "height": 85
    },
    "colab_type": "code",
    "executionInfo": {
     "elapsed": 22421,
     "status": "ok",
     "timestamp": 1590004308752,
     "user": {
      "displayName": "Michele Pasin",
      "photoUrl": "https://lh3.googleusercontent.com/a-/AOh14GiYfmLTPbeMuYDDrETLbTVXTXnfVr9f7eBtkmR73A=s64",
      "userId": "10309320684375994511"
     },
     "user_tz": -60
    },
    "id": "zN1l7rvMo6Ds",
    "outputId": "cf4253c6-272a-4186-8461-72db2a225670"
   },
   "outputs": [],
   "source": [
    "# create output data folder\n",
    "FOLDER_NAME = \"journal-profile-data\"\n",
    "if not(os.path.exists(FOLDER_NAME)):\n",
    "    os.mkdir(FOLDER_NAME)\n",
    "    \n",
    "def save(df,filename_dot_csv):\n",
    "    df.to_csv(FOLDER_NAME+\"/\"+filename_dot_csv, index=False)"
   ]
  },
  {
   "cell_type": "markdown",
   "metadata": {
    "Collapsed": "false",
    "colab_type": "text",
    "id": "Z1jwOf1F64mr"
   },
   "source": [
    "## Selecting a Journal and Extracting All Publications Metadata"
   ]
  },
  {
   "cell_type": "code",
   "execution_count": 4,
   "metadata": {
    "Collapsed": "false",
    "cellView": "form",
    "colab": {
     "base_uri": "https://localhost:8080/",
     "height": 238
    },
    "colab_type": "code",
    "executionInfo": {
     "elapsed": 30263,
     "status": "ok",
     "timestamp": 1590004324419,
     "user": {
      "displayName": "Michele Pasin",
      "photoUrl": "https://lh3.googleusercontent.com/a-/AOh14GiYfmLTPbeMuYDDrETLbTVXTXnfVr9f7eBtkmR73A=s64",
      "userId": "10309320684375994511"
     },
     "user_tz": -60
    },
    "id": "Ku0GkHfE7JI7",
    "outputId": "23e41dd0-af76-4150-9a60-17da1bd1746e"
   },
   "outputs": [
    {
     "name": "stdout",
     "output_type": "stream",
     "text": [
      "DSL Query:\n",
      "----\n",
      " search publications where \n",
      "    journal.title=\"Nature Genetics\" and \n",
      "    year>=2015 \n",
      "    return publications[basics+altmetric+times_cited] \n",
      "----\n",
      "Starting iteration with limit=500 skip=0 ...\n",
      "0-500 / 1541 (5.75s)\n",
      "500-1000 / 1541 (5.24s)\n",
      "1000-1500 / 1541 (3.31s)\n",
      "1500-1541 / 1541 (0.89s)\n",
      "===\n",
      "Records extracted: 1541\n"
     ]
    }
   ],
   "source": [
    "#@title Select a journal from the dropdown\n",
    "#@markdown If the journal isn't there, you can try type in the exact name instead.\n",
    "\n",
    "journal_title = \"Nature Genetics\" #@param ['Nature', 'Nature Communications', 'Nature Biotechnology', 'Nature Medicine', 'Nature Genetics', 'Nature Neuroscience', 'Nature Structural & Molecular Biology', 'Nature Methods', 'Nature Cell Biology', 'Nature Immunology', 'Nature Reviews Drug Discovery', 'Nature Materials', 'Nature Physics', 'Nature Reviews Neuroscience', 'Nature Nanotechnology', 'Nature Reviews Genetics', 'Nature Reviews Urology', 'Nature Reviews Molecular Cell Biology', 'Nature Precedings', 'Nature Reviews Cancer', 'Nature Photonics', 'Nature Reviews Immunology', 'Nature Reviews Cardiology', 'Nature Reviews Gastroenterology & Hepatology', 'Nature Reviews Clinical Oncology', 'Nature Reviews Endocrinology', 'Nature Reviews Neurology', 'Nature Chemical Biology', 'Nature Reviews Microbiology', 'Nature Geoscience', 'Nature Reviews Rheumatology', 'Nature Climate Change', 'Nature Reviews Nephrology', 'Nature Chemistry', 'Nature Digest', 'Nature Protocols', 'Nature Middle East', 'Nature India', 'Nature China', 'Nature Plants', 'Nature Microbiology', 'Nature Ecology & Evolution', 'Nature Astronomy', 'Nature Energy', 'Nature Human Behaviour', 'AfCS-Nature Molecule Pages', 'Human Nature', 'Nature Reviews Disease Primers', 'Nature Biomedical Engineering', 'Nature Reports Stem Cells', 'Nature Reviews Materials', 'Nature Sustainability', 'Nature Catalysis', 'Nature Electronics', 'Nature Reviews Chemistry', 'Nature Metabolism', 'Nature Reviews Physics', 'Nature Machine Intelligence', 'NCI Nature Pathway Interaction Database', 'Nature Reports: Climate Change'] {allow-input: true}\n",
    "start_year = 2015  #@param {type: \"number\"}\n",
    "#@markdown ---\n",
    "\n",
    "# PS \n",
    "# To get titles from the API one can do this:\n",
    "# > %dsldf search publications where journal.title~\"Nature\" and publisher=\"Springer Nature\" return journal limit 100\n",
    "# > \", \".join([f\"'{x}'\" for x in list(dsl_last_results.title)]) \n",
    "#\n",
    "\n",
    "q_template = \"\"\"search publications where \n",
    "    journal.title=\"{}\" and \n",
    "    year>={} \n",
    "    return publications[basics+altmetric+times_cited]\"\"\"\n",
    "q = q_template.format(journal_title, start_year)\n",
    "print(\"DSL Query:\\n----\\n\", q, \"\\n----\")\n",
    "pubs = dsl.query_iterative(q.format(journal_title, start_year), limit=500)\n"
   ]
  },
  {
   "cell_type": "markdown",
   "metadata": {
    "Collapsed": "false",
    "colab_type": "text",
    "id": "FFT3DayHo6Dy"
   },
   "source": [
    "Save the data as a CSV file in case we want to reuse it later"
   ]
  },
  {
   "cell_type": "code",
   "execution_count": 5,
   "metadata": {
    "Collapsed": "false",
    "colab": {
     "base_uri": "https://localhost:8080/",
     "height": 1946
    },
    "colab_type": "code",
    "executionInfo": {
     "elapsed": 3101,
     "status": "ok",
     "timestamp": 1590004329997,
     "user": {
      "displayName": "Michele Pasin",
      "photoUrl": "https://lh3.googleusercontent.com/a-/AOh14GiYfmLTPbeMuYDDrETLbTVXTXnfVr9f7eBtkmR73A=s64",
      "userId": "10309320684375994511"
     },
     "user_tz": -60
    },
    "id": "xnwSEydio6Dy",
    "outputId": "6cde27d6-8c9c-4b5c-8544-7f3871ea390d"
   },
   "outputs": [
    {
     "data": {
      "text/html": [
       "<div>\n",
       "<style scoped>\n",
       "    .dataframe tbody tr th:only-of-type {\n",
       "        vertical-align: middle;\n",
       "    }\n",
       "\n",
       "    .dataframe tbody tr th {\n",
       "        vertical-align: top;\n",
       "    }\n",
       "\n",
       "    .dataframe thead th {\n",
       "        text-align: right;\n",
       "    }\n",
       "</style>\n",
       "<table border=\"1\" class=\"dataframe\">\n",
       "  <thead>\n",
       "    <tr style=\"text-align: right;\">\n",
       "      <th></th>\n",
       "      <th>id</th>\n",
       "      <th>author_affiliations</th>\n",
       "      <th>type</th>\n",
       "      <th>pages</th>\n",
       "      <th>times_cited</th>\n",
       "      <th>title</th>\n",
       "      <th>year</th>\n",
       "      <th>altmetric</th>\n",
       "      <th>journal.id</th>\n",
       "      <th>journal.title</th>\n",
       "      <th>issue</th>\n",
       "      <th>volume</th>\n",
       "    </tr>\n",
       "  </thead>\n",
       "  <tbody>\n",
       "    <tr>\n",
       "      <th>0</th>\n",
       "      <td>pub.1130541833</td>\n",
       "      <td>[[{'first_name': 'Andrea', 'last_name': 'Lunar...</td>\n",
       "      <td>article</td>\n",
       "      <td>1-1</td>\n",
       "      <td>0</td>\n",
       "      <td>Author Correction: A co-clinical approach iden...</td>\n",
       "      <td>2020</td>\n",
       "      <td>1.0</td>\n",
       "      <td>jour.1103138</td>\n",
       "      <td>Nature Genetics</td>\n",
       "      <td>NaN</td>\n",
       "      <td>NaN</td>\n",
       "    </tr>\n",
       "    <tr>\n",
       "      <th>1</th>\n",
       "      <td>pub.1129832914</td>\n",
       "      <td>[[{'first_name': 'Robert', 'last_name': 'Hänse...</td>\n",
       "      <td>article</td>\n",
       "      <td>878-883</td>\n",
       "      <td>1</td>\n",
       "      <td>Landscape of G-quadruplex DNA structural regio...</td>\n",
       "      <td>2020</td>\n",
       "      <td>167.0</td>\n",
       "      <td>jour.1103138</td>\n",
       "      <td>Nature Genetics</td>\n",
       "      <td>9</td>\n",
       "      <td>52</td>\n",
       "    </tr>\n",
       "    <tr>\n",
       "      <th>2</th>\n",
       "      <td>pub.1130496379</td>\n",
       "      <td>NaN</td>\n",
       "      <td>article</td>\n",
       "      <td>865-865</td>\n",
       "      <td>0</td>\n",
       "      <td>Crop genomes and beyond</td>\n",
       "      <td>2020</td>\n",
       "      <td>12.0</td>\n",
       "      <td>jour.1103138</td>\n",
       "      <td>Nature Genetics</td>\n",
       "      <td>9</td>\n",
       "      <td>52</td>\n",
       "    </tr>\n",
       "    <tr>\n",
       "      <th>3</th>\n",
       "      <td>pub.1130496620</td>\n",
       "      <td>[[{'first_name': 'Dalen', 'last_name': 'Chan',...</td>\n",
       "      <td>article</td>\n",
       "      <td>868-869</td>\n",
       "      <td>0</td>\n",
       "      <td>RNA post-transcriptional modification speaks t...</td>\n",
       "      <td>2020</td>\n",
       "      <td>16.0</td>\n",
       "      <td>jour.1103138</td>\n",
       "      <td>Nature Genetics</td>\n",
       "      <td>9</td>\n",
       "      <td>52</td>\n",
       "    </tr>\n",
       "    <tr>\n",
       "      <th>4</th>\n",
       "      <td>pub.1130497175</td>\n",
       "      <td>[[{'first_name': 'Ivano', 'last_name': 'Mocavi...</td>\n",
       "      <td>article</td>\n",
       "      <td>866-867</td>\n",
       "      <td>0</td>\n",
       "      <td>RNA closing the Polycomb circle</td>\n",
       "      <td>2020</td>\n",
       "      <td>12.0</td>\n",
       "      <td>jour.1103138</td>\n",
       "      <td>Nature Genetics</td>\n",
       "      <td>9</td>\n",
       "      <td>52</td>\n",
       "    </tr>\n",
       "    <tr>\n",
       "      <th>5</th>\n",
       "      <td>pub.1129017794</td>\n",
       "      <td>[[{'first_name': 'Yicheng', 'last_name': 'Long...</td>\n",
       "      <td>article</td>\n",
       "      <td>931-938</td>\n",
       "      <td>3</td>\n",
       "      <td>RNA is essential for PRC2 chromatin occupancy ...</td>\n",
       "      <td>2020</td>\n",
       "      <td>224.0</td>\n",
       "      <td>jour.1103138</td>\n",
       "      <td>Nature Genetics</td>\n",
       "      <td>9</td>\n",
       "      <td>52</td>\n",
       "    </tr>\n",
       "    <tr>\n",
       "      <th>6</th>\n",
       "      <td>pub.1130146552</td>\n",
       "      <td>[[{'first_name': 'Wangxin', 'last_name': 'Guo'...</td>\n",
       "      <td>article</td>\n",
       "      <td>908-918</td>\n",
       "      <td>0</td>\n",
       "      <td>Single-cell transcriptomics identifies a disti...</td>\n",
       "      <td>2020</td>\n",
       "      <td>42.0</td>\n",
       "      <td>jour.1103138</td>\n",
       "      <td>Nature Genetics</td>\n",
       "      <td>9</td>\n",
       "      <td>52</td>\n",
       "    </tr>\n",
       "    <tr>\n",
       "      <th>7</th>\n",
       "      <td>pub.1130293541</td>\n",
       "      <td>[[{'first_name': 'Xihao', 'last_name': 'Li', '...</td>\n",
       "      <td>article</td>\n",
       "      <td>969-983</td>\n",
       "      <td>0</td>\n",
       "      <td>Dynamic incorporation of multiple in silico fu...</td>\n",
       "      <td>2020</td>\n",
       "      <td>48.0</td>\n",
       "      <td>jour.1103138</td>\n",
       "      <td>Nature Genetics</td>\n",
       "      <td>9</td>\n",
       "      <td>52</td>\n",
       "    </tr>\n",
       "    <tr>\n",
       "      <th>8</th>\n",
       "      <td>pub.1130003230</td>\n",
       "      <td>[[{'first_name': 'Yuan', 'last_name': 'Li', 'c...</td>\n",
       "      <td>article</td>\n",
       "      <td>870-877</td>\n",
       "      <td>1</td>\n",
       "      <td>N6-Methyladenosine co-transcriptionally direct...</td>\n",
       "      <td>2020</td>\n",
       "      <td>35.0</td>\n",
       "      <td>jour.1103138</td>\n",
       "      <td>Nature Genetics</td>\n",
       "      <td>9</td>\n",
       "      <td>52</td>\n",
       "    </tr>\n",
       "    <tr>\n",
       "      <th>9</th>\n",
       "      <td>pub.1130497144</td>\n",
       "      <td>[[{'first_name': 'Giulio', 'last_name': 'Carav...</td>\n",
       "      <td>article</td>\n",
       "      <td>898-907</td>\n",
       "      <td>0</td>\n",
       "      <td>Subclonal reconstruction of tumors by using ma...</td>\n",
       "      <td>2020</td>\n",
       "      <td>73.0</td>\n",
       "      <td>jour.1103138</td>\n",
       "      <td>Nature Genetics</td>\n",
       "      <td>9</td>\n",
       "      <td>52</td>\n",
       "    </tr>\n",
       "  </tbody>\n",
       "</table>\n",
       "</div>"
      ],
      "text/plain": [
       "               id                                author_affiliations     type  \\\n",
       "0  pub.1130541833  [[{'first_name': 'Andrea', 'last_name': 'Lunar...  article   \n",
       "1  pub.1129832914  [[{'first_name': 'Robert', 'last_name': 'Hänse...  article   \n",
       "2  pub.1130496379                                                NaN  article   \n",
       "3  pub.1130496620  [[{'first_name': 'Dalen', 'last_name': 'Chan',...  article   \n",
       "4  pub.1130497175  [[{'first_name': 'Ivano', 'last_name': 'Mocavi...  article   \n",
       "5  pub.1129017794  [[{'first_name': 'Yicheng', 'last_name': 'Long...  article   \n",
       "6  pub.1130146552  [[{'first_name': 'Wangxin', 'last_name': 'Guo'...  article   \n",
       "7  pub.1130293541  [[{'first_name': 'Xihao', 'last_name': 'Li', '...  article   \n",
       "8  pub.1130003230  [[{'first_name': 'Yuan', 'last_name': 'Li', 'c...  article   \n",
       "9  pub.1130497144  [[{'first_name': 'Giulio', 'last_name': 'Carav...  article   \n",
       "\n",
       "     pages  times_cited                                              title  \\\n",
       "0      1-1            0  Author Correction: A co-clinical approach iden...   \n",
       "1  878-883            1  Landscape of G-quadruplex DNA structural regio...   \n",
       "2  865-865            0                            Crop genomes and beyond   \n",
       "3  868-869            0  RNA post-transcriptional modification speaks t...   \n",
       "4  866-867            0                    RNA closing the Polycomb circle   \n",
       "5  931-938            3  RNA is essential for PRC2 chromatin occupancy ...   \n",
       "6  908-918            0  Single-cell transcriptomics identifies a disti...   \n",
       "7  969-983            0  Dynamic incorporation of multiple in silico fu...   \n",
       "8  870-877            1  N6-Methyladenosine co-transcriptionally direct...   \n",
       "9  898-907            0  Subclonal reconstruction of tumors by using ma...   \n",
       "\n",
       "   year  altmetric    journal.id    journal.title issue volume  \n",
       "0  2020        1.0  jour.1103138  Nature Genetics   NaN    NaN  \n",
       "1  2020      167.0  jour.1103138  Nature Genetics     9     52  \n",
       "2  2020       12.0  jour.1103138  Nature Genetics     9     52  \n",
       "3  2020       16.0  jour.1103138  Nature Genetics     9     52  \n",
       "4  2020       12.0  jour.1103138  Nature Genetics     9     52  \n",
       "5  2020      224.0  jour.1103138  Nature Genetics     9     52  \n",
       "6  2020       42.0  jour.1103138  Nature Genetics     9     52  \n",
       "7  2020       48.0  jour.1103138  Nature Genetics     9     52  \n",
       "8  2020       35.0  jour.1103138  Nature Genetics     9     52  \n",
       "9  2020       73.0  jour.1103138  Nature Genetics     9     52  "
      ]
     },
     "execution_count": 5,
     "metadata": {},
     "output_type": "execute_result"
    }
   ],
   "source": [
    "dfpubs = pubs.as_dataframe()\n",
    "save(dfpubs,\"1_publications.csv\")\n",
    "# preview the publications \n",
    "dfpubs.head(10)"
   ]
  },
  {
   "cell_type": "markdown",
   "metadata": {
    "Collapsed": "false",
    "colab_type": "text",
    "id": "aJSz9ltEo6D0"
   },
   "source": [
    "Extract the authors data "
   ]
  },
  {
   "cell_type": "code",
   "execution_count": 6,
   "metadata": {
    "Collapsed": "false",
    "colab": {
     "base_uri": "https://localhost:8080/",
     "height": 1194
    },
    "colab_type": "code",
    "executionInfo": {
     "elapsed": 5007,
     "status": "ok",
     "timestamp": 1590004331909,
     "user": {
      "displayName": "Michele Pasin",
      "photoUrl": "https://lh3.googleusercontent.com/a-/AOh14GiYfmLTPbeMuYDDrETLbTVXTXnfVr9f7eBtkmR73A=s64",
      "userId": "10309320684375994511"
     },
     "user_tz": -60
    },
    "id": "ihjtFg1pUofn",
    "outputId": "9eb0aec0-8a28-4e07-c847-1b140a5a7919"
   },
   "outputs": [
    {
     "data": {
      "text/html": [
       "<div>\n",
       "<style scoped>\n",
       "    .dataframe tbody tr th:only-of-type {\n",
       "        vertical-align: middle;\n",
       "    }\n",
       "\n",
       "    .dataframe tbody tr th {\n",
       "        vertical-align: top;\n",
       "    }\n",
       "\n",
       "    .dataframe thead th {\n",
       "        text-align: right;\n",
       "    }\n",
       "</style>\n",
       "<table border=\"1\" class=\"dataframe\">\n",
       "  <thead>\n",
       "    <tr style=\"text-align: right;\">\n",
       "      <th></th>\n",
       "      <th>first_name</th>\n",
       "      <th>last_name</th>\n",
       "      <th>corresponding</th>\n",
       "      <th>orcid</th>\n",
       "      <th>affiliations</th>\n",
       "      <th>pub_id</th>\n",
       "    </tr>\n",
       "  </thead>\n",
       "  <tbody>\n",
       "    <tr>\n",
       "      <th>0</th>\n",
       "      <td>Andrea</td>\n",
       "      <td>Lunardi</td>\n",
       "      <td></td>\n",
       "      <td></td>\n",
       "      <td>[{'name': 'Cancer Genetics Program, Beth Israe...</td>\n",
       "      <td>pub.1130541833</td>\n",
       "    </tr>\n",
       "    <tr>\n",
       "      <th>1</th>\n",
       "      <td>Ugo</td>\n",
       "      <td>Ala</td>\n",
       "      <td></td>\n",
       "      <td></td>\n",
       "      <td>[{'name': 'Cancer Genetics Program, Beth Israe...</td>\n",
       "      <td>pub.1130541833</td>\n",
       "    </tr>\n",
       "    <tr>\n",
       "      <th>2</th>\n",
       "      <td>Mirjam T.</td>\n",
       "      <td>Epping</td>\n",
       "      <td></td>\n",
       "      <td></td>\n",
       "      <td>[{'name': 'Cancer Genetics Program, Beth Israe...</td>\n",
       "      <td>pub.1130541833</td>\n",
       "    </tr>\n",
       "    <tr>\n",
       "      <th>3</th>\n",
       "      <td>Leonardo</td>\n",
       "      <td>Salmena</td>\n",
       "      <td></td>\n",
       "      <td></td>\n",
       "      <td>[{'name': 'Cancer Genetics Program, Beth Israe...</td>\n",
       "      <td>pub.1130541833</td>\n",
       "    </tr>\n",
       "    <tr>\n",
       "      <th>4</th>\n",
       "      <td>John G.</td>\n",
       "      <td>Clohessy</td>\n",
       "      <td></td>\n",
       "      <td></td>\n",
       "      <td>[{'name': 'Cancer Genetics Program, Beth Israe...</td>\n",
       "      <td>pub.1130541833</td>\n",
       "    </tr>\n",
       "    <tr>\n",
       "      <th>5</th>\n",
       "      <td>Kaitlyn A.</td>\n",
       "      <td>Webster</td>\n",
       "      <td></td>\n",
       "      <td></td>\n",
       "      <td>[{'name': 'Cancer Genetics Program, Beth Israe...</td>\n",
       "      <td>pub.1130541833</td>\n",
       "    </tr>\n",
       "    <tr>\n",
       "      <th>6</th>\n",
       "      <td>Guocan</td>\n",
       "      <td>Wang</td>\n",
       "      <td></td>\n",
       "      <td></td>\n",
       "      <td>[{'name': 'Cancer Genetics Program, Beth Israe...</td>\n",
       "      <td>pub.1130541833</td>\n",
       "    </tr>\n",
       "    <tr>\n",
       "      <th>7</th>\n",
       "      <td>Roberta</td>\n",
       "      <td>Mazzucchelli</td>\n",
       "      <td></td>\n",
       "      <td></td>\n",
       "      <td>[{'id': 'grid.7010.6', 'name': 'Marche Polytec...</td>\n",
       "      <td>pub.1130541833</td>\n",
       "    </tr>\n",
       "    <tr>\n",
       "      <th>8</th>\n",
       "      <td>Maristella</td>\n",
       "      <td>Bianconi</td>\n",
       "      <td></td>\n",
       "      <td></td>\n",
       "      <td>[{'id': 'grid.7010.6', 'name': 'Marche Polytec...</td>\n",
       "      <td>pub.1130541833</td>\n",
       "    </tr>\n",
       "    <tr>\n",
       "      <th>9</th>\n",
       "      <td>Edward C.</td>\n",
       "      <td>Stack</td>\n",
       "      <td></td>\n",
       "      <td></td>\n",
       "      <td>[{'id': 'grid.65499.37', 'name': 'Dana-Farber ...</td>\n",
       "      <td>pub.1130541833</td>\n",
       "    </tr>\n",
       "  </tbody>\n",
       "</table>\n",
       "</div>"
      ],
      "text/plain": [
       "   first_name     last_name corresponding orcid  \\\n",
       "0      Andrea       Lunardi                       \n",
       "1         Ugo           Ala                       \n",
       "2   Mirjam T.        Epping                       \n",
       "3    Leonardo       Salmena                       \n",
       "4     John G.      Clohessy                       \n",
       "5  Kaitlyn A.       Webster                       \n",
       "6      Guocan          Wang                       \n",
       "7     Roberta  Mazzucchelli                       \n",
       "8  Maristella      Bianconi                       \n",
       "9   Edward C.         Stack                       \n",
       "\n",
       "                                        affiliations          pub_id  \n",
       "0  [{'name': 'Cancer Genetics Program, Beth Israe...  pub.1130541833  \n",
       "1  [{'name': 'Cancer Genetics Program, Beth Israe...  pub.1130541833  \n",
       "2  [{'name': 'Cancer Genetics Program, Beth Israe...  pub.1130541833  \n",
       "3  [{'name': 'Cancer Genetics Program, Beth Israe...  pub.1130541833  \n",
       "4  [{'name': 'Cancer Genetics Program, Beth Israe...  pub.1130541833  \n",
       "5  [{'name': 'Cancer Genetics Program, Beth Israe...  pub.1130541833  \n",
       "6  [{'name': 'Cancer Genetics Program, Beth Israe...  pub.1130541833  \n",
       "7  [{'id': 'grid.7010.6', 'name': 'Marche Polytec...  pub.1130541833  \n",
       "8  [{'id': 'grid.7010.6', 'name': 'Marche Polytec...  pub.1130541833  \n",
       "9  [{'id': 'grid.65499.37', 'name': 'Dana-Farber ...  pub.1130541833  "
      ]
     },
     "execution_count": 6,
     "metadata": {},
     "output_type": "execute_result"
    }
   ],
   "source": [
    "# preview the authors data \n",
    "authors = pubs.as_dataframe_authors()\n",
    "save(authors,\"1_publications_authors.csv\")\n",
    "authors.head(10)"
   ]
  },
  {
   "cell_type": "markdown",
   "metadata": {
    "Collapsed": "false",
    "colab_type": "text",
    "id": "QLkrxzT2o6D3"
   },
   "source": [
    "Extract the affiliations data "
   ]
  },
  {
   "cell_type": "code",
   "execution_count": 7,
   "metadata": {
    "Collapsed": "false",
    "colab": {
     "base_uri": "https://localhost:8080/",
     "height": 681
    },
    "colab_type": "code",
    "executionInfo": {
     "elapsed": 8888,
     "status": "ok",
     "timestamp": 1590004335794,
     "user": {
      "displayName": "Michele Pasin",
      "photoUrl": "https://lh3.googleusercontent.com/a-/AOh14GiYfmLTPbeMuYDDrETLbTVXTXnfVr9f7eBtkmR73A=s64",
      "userId": "10309320684375994511"
     },
     "user_tz": -60
    },
    "id": "SsT078tTuhvX",
    "outputId": "e0a4e40d-b009-4f0c-a907-4e1623c13a93"
   },
   "outputs": [
    {
     "data": {
      "text/html": [
       "<div>\n",
       "<style scoped>\n",
       "    .dataframe tbody tr th:only-of-type {\n",
       "        vertical-align: middle;\n",
       "    }\n",
       "\n",
       "    .dataframe tbody tr th {\n",
       "        vertical-align: top;\n",
       "    }\n",
       "\n",
       "    .dataframe thead th {\n",
       "        text-align: right;\n",
       "    }\n",
       "</style>\n",
       "<table border=\"1\" class=\"dataframe\">\n",
       "  <thead>\n",
       "    <tr style=\"text-align: right;\">\n",
       "      <th></th>\n",
       "      <th>aff_name</th>\n",
       "      <th>aff_id</th>\n",
       "      <th>aff_city</th>\n",
       "      <th>aff_city_id</th>\n",
       "      <th>aff_country</th>\n",
       "      <th>aff_country_code</th>\n",
       "      <th>aff_state</th>\n",
       "      <th>aff_state_code</th>\n",
       "      <th>pub_id</th>\n",
       "      <th>researcher_id</th>\n",
       "      <th>first_name</th>\n",
       "      <th>last_name</th>\n",
       "    </tr>\n",
       "  </thead>\n",
       "  <tbody>\n",
       "    <tr>\n",
       "      <th>0</th>\n",
       "      <td>Cancer Genetics Program, Beth Israel Deaconess...</td>\n",
       "      <td></td>\n",
       "      <td></td>\n",
       "      <td></td>\n",
       "      <td></td>\n",
       "      <td></td>\n",
       "      <td></td>\n",
       "      <td></td>\n",
       "      <td>pub.1130541833</td>\n",
       "      <td></td>\n",
       "      <td>Andrea</td>\n",
       "      <td>Lunardi</td>\n",
       "    </tr>\n",
       "    <tr>\n",
       "      <th>1</th>\n",
       "      <td>Cancer Genetics Program, Beth Israel Deaconess...</td>\n",
       "      <td></td>\n",
       "      <td></td>\n",
       "      <td></td>\n",
       "      <td></td>\n",
       "      <td></td>\n",
       "      <td></td>\n",
       "      <td></td>\n",
       "      <td>pub.1130541833</td>\n",
       "      <td></td>\n",
       "      <td>Ugo</td>\n",
       "      <td>Ala</td>\n",
       "    </tr>\n",
       "    <tr>\n",
       "      <th>2</th>\n",
       "      <td>University of Turin</td>\n",
       "      <td>grid.7605.4</td>\n",
       "      <td>Turin</td>\n",
       "      <td>3.16552e+06</td>\n",
       "      <td>Italy</td>\n",
       "      <td>IT</td>\n",
       "      <td></td>\n",
       "      <td></td>\n",
       "      <td>pub.1130541833</td>\n",
       "      <td></td>\n",
       "      <td>Ugo</td>\n",
       "      <td>Ala</td>\n",
       "    </tr>\n",
       "    <tr>\n",
       "      <th>3</th>\n",
       "      <td>Cancer Genetics Program, Beth Israel Deaconess...</td>\n",
       "      <td></td>\n",
       "      <td></td>\n",
       "      <td></td>\n",
       "      <td></td>\n",
       "      <td></td>\n",
       "      <td></td>\n",
       "      <td></td>\n",
       "      <td>pub.1130541833</td>\n",
       "      <td></td>\n",
       "      <td>Mirjam T.</td>\n",
       "      <td>Epping</td>\n",
       "    </tr>\n",
       "    <tr>\n",
       "      <th>4</th>\n",
       "      <td>Cancer Genetics Program, Beth Israel Deaconess...</td>\n",
       "      <td></td>\n",
       "      <td></td>\n",
       "      <td></td>\n",
       "      <td></td>\n",
       "      <td></td>\n",
       "      <td></td>\n",
       "      <td></td>\n",
       "      <td>pub.1130541833</td>\n",
       "      <td></td>\n",
       "      <td>Leonardo</td>\n",
       "      <td>Salmena</td>\n",
       "    </tr>\n",
       "    <tr>\n",
       "      <th>5</th>\n",
       "      <td>Memorial Sloan Kettering Cancer Center</td>\n",
       "      <td>grid.51462.34</td>\n",
       "      <td>New York</td>\n",
       "      <td>5.12858e+06</td>\n",
       "      <td>United States</td>\n",
       "      <td>US</td>\n",
       "      <td>New York</td>\n",
       "      <td>US-NY</td>\n",
       "      <td>pub.1130541833</td>\n",
       "      <td></td>\n",
       "      <td>Leonardo</td>\n",
       "      <td>Salmena</td>\n",
       "    </tr>\n",
       "    <tr>\n",
       "      <th>6</th>\n",
       "      <td>Memorial Sloan Kettering Cancer Center</td>\n",
       "      <td>grid.51462.34</td>\n",
       "      <td>New York</td>\n",
       "      <td>5.12858e+06</td>\n",
       "      <td>United States</td>\n",
       "      <td>US</td>\n",
       "      <td>New York</td>\n",
       "      <td>US-NY</td>\n",
       "      <td>pub.1130541833</td>\n",
       "      <td></td>\n",
       "      <td>Leonardo</td>\n",
       "      <td>Salmena</td>\n",
       "    </tr>\n",
       "    <tr>\n",
       "      <th>7</th>\n",
       "      <td>Cancer Genetics Program, Beth Israel Deaconess...</td>\n",
       "      <td></td>\n",
       "      <td></td>\n",
       "      <td></td>\n",
       "      <td></td>\n",
       "      <td></td>\n",
       "      <td></td>\n",
       "      <td></td>\n",
       "      <td>pub.1130541833</td>\n",
       "      <td></td>\n",
       "      <td>John G.</td>\n",
       "      <td>Clohessy</td>\n",
       "    </tr>\n",
       "    <tr>\n",
       "      <th>8</th>\n",
       "      <td>Memorial Sloan Kettering Cancer Center</td>\n",
       "      <td>grid.51462.34</td>\n",
       "      <td>New York</td>\n",
       "      <td>5.12858e+06</td>\n",
       "      <td>United States</td>\n",
       "      <td>US</td>\n",
       "      <td>New York</td>\n",
       "      <td>US-NY</td>\n",
       "      <td>pub.1130541833</td>\n",
       "      <td></td>\n",
       "      <td>John G.</td>\n",
       "      <td>Clohessy</td>\n",
       "    </tr>\n",
       "    <tr>\n",
       "      <th>9</th>\n",
       "      <td>Memorial Sloan Kettering Cancer Center</td>\n",
       "      <td>grid.51462.34</td>\n",
       "      <td>New York</td>\n",
       "      <td>5.12858e+06</td>\n",
       "      <td>United States</td>\n",
       "      <td>US</td>\n",
       "      <td>New York</td>\n",
       "      <td>US-NY</td>\n",
       "      <td>pub.1130541833</td>\n",
       "      <td></td>\n",
       "      <td>John G.</td>\n",
       "      <td>Clohessy</td>\n",
       "    </tr>\n",
       "  </tbody>\n",
       "</table>\n",
       "</div>"
      ],
      "text/plain": [
       "                                            aff_name         aff_id  aff_city  \\\n",
       "0  Cancer Genetics Program, Beth Israel Deaconess...                            \n",
       "1  Cancer Genetics Program, Beth Israel Deaconess...                            \n",
       "2                                University of Turin    grid.7605.4     Turin   \n",
       "3  Cancer Genetics Program, Beth Israel Deaconess...                            \n",
       "4  Cancer Genetics Program, Beth Israel Deaconess...                            \n",
       "5             Memorial Sloan Kettering Cancer Center  grid.51462.34  New York   \n",
       "6             Memorial Sloan Kettering Cancer Center  grid.51462.34  New York   \n",
       "7  Cancer Genetics Program, Beth Israel Deaconess...                            \n",
       "8             Memorial Sloan Kettering Cancer Center  grid.51462.34  New York   \n",
       "9             Memorial Sloan Kettering Cancer Center  grid.51462.34  New York   \n",
       "\n",
       "   aff_city_id    aff_country aff_country_code aff_state aff_state_code  \\\n",
       "0                                                                         \n",
       "1                                                                         \n",
       "2  3.16552e+06          Italy               IT                            \n",
       "3                                                                         \n",
       "4                                                                         \n",
       "5  5.12858e+06  United States               US  New York          US-NY   \n",
       "6  5.12858e+06  United States               US  New York          US-NY   \n",
       "7                                                                         \n",
       "8  5.12858e+06  United States               US  New York          US-NY   \n",
       "9  5.12858e+06  United States               US  New York          US-NY   \n",
       "\n",
       "           pub_id researcher_id first_name last_name  \n",
       "0  pub.1130541833                   Andrea   Lunardi  \n",
       "1  pub.1130541833                      Ugo       Ala  \n",
       "2  pub.1130541833                      Ugo       Ala  \n",
       "3  pub.1130541833                Mirjam T.    Epping  \n",
       "4  pub.1130541833                 Leonardo   Salmena  \n",
       "5  pub.1130541833                 Leonardo   Salmena  \n",
       "6  pub.1130541833                 Leonardo   Salmena  \n",
       "7  pub.1130541833                  John G.  Clohessy  \n",
       "8  pub.1130541833                  John G.  Clohessy  \n",
       "9  pub.1130541833                  John G.  Clohessy  "
      ]
     },
     "execution_count": 7,
     "metadata": {},
     "output_type": "execute_result"
    }
   ],
   "source": [
    "affiliations = pubs.as_dataframe_authors_affiliations()\n",
    "save(affiliations,\"1_publications_affiliations.csv\")\n",
    "affiliations.head(10)"
   ]
  },
  {
   "cell_type": "markdown",
   "metadata": {
    "Collapsed": "false",
    "colab_type": "text",
    "id": "8Tri9qhoCYH3"
   },
   "source": [
    "## Some stats about authors\n",
    "\n",
    "* count how many authors in total \n",
    "* count how many authors have a researcher ID\n",
    "* count how many unique researchers IDs we have in total"
   ]
  },
  {
   "cell_type": "code",
   "execution_count": null,
   "metadata": {
    "Collapsed": "false",
    "colab": {
     "base_uri": "https://localhost:8080/",
     "height": 542
    },
    "colab_type": "code",
    "executionInfo": {
     "elapsed": 9231,
     "status": "ok",
     "timestamp": 1590004336142,
     "user": {
      "displayName": "Michele Pasin",
      "photoUrl": "https://lh3.googleusercontent.com/a-/AOh14GiYfmLTPbeMuYDDrETLbTVXTXnfVr9f7eBtkmR73A=s64",
      "userId": "10309320684375994511"
     },
     "user_tz": -60
    },
    "id": "4k5V31MFRmdH",
    "outputId": "fa7662e9-f7fd-4df4-b119-9bee723ceb8f"
   },
   "outputs": [],
   "source": [
    "researchers = authors.query(\"researcher_id!=''\")\n",
    "#\n",
    "df = pd.DataFrame({\n",
    "    'measure' : ['Authors in total (non unique)', 'Authors with a researcher ID', 'Authors with a researcher ID (unique)'],\n",
    "    'count' : [len(authors), len(researchers), researchers['researcher_id'].nunique()],\n",
    "})\n",
    "px.bar(df, x=\"measure\", y=\"count\", title=f\"Author stats for {journal_title} (from {start_year})\")"
   ]
  },
  {
   "cell_type": "code",
   "execution_count": null,
   "metadata": {
    "Collapsed": "false",
    "colab": {},
    "colab_type": "code",
    "id": "bs2a6hzBRmdM"
   },
   "outputs": [],
   "source": [
    "# save the researchers data to a file\n",
    "save(researchers, \"1_authors_with_researchers_id.csv\")"
   ]
  },
  {
   "cell_type": "markdown",
   "metadata": {
    "Collapsed": "false",
    "colab_type": "text",
    "id": "fJuPwNoORmdN"
   },
   "source": [
    "## A quick look at authors *without* a Dimensions Researcher ID\n",
    "\n",
    "We're not going to try to disambiguate them here, but still it's good to have a quick look at them... \n",
    "\n",
    "Looks like the most common surname is `Wang`, while the most common first name is an empty value"
   ]
  },
  {
   "cell_type": "code",
   "execution_count": null,
   "metadata": {
    "Collapsed": "false",
    "colab": {
     "base_uri": "https://localhost:8080/",
     "height": 172
    },
    "colab_type": "code",
    "executionInfo": {
     "elapsed": 9573,
     "status": "ok",
     "timestamp": 1590004336490,
     "user": {
      "displayName": "Michele Pasin",
      "photoUrl": "https://lh3.googleusercontent.com/a-/AOh14GiYfmLTPbeMuYDDrETLbTVXTXnfVr9f7eBtkmR73A=s64",
      "userId": "10309320684375994511"
     },
     "user_tz": -60
    },
    "id": "Zh-u7ZN4RmdO",
    "outputId": "4ab12b2a-dabc-4cf8-f64d-9e85e0e6e086"
   },
   "outputs": [],
   "source": [
    "authors_without_id = authors.query(\"researcher_id==''\")\n",
    "authors_without_id[['first_name', 'last_name']].describe()"
   ]
  },
  {
   "cell_type": "markdown",
   "metadata": {
    "Collapsed": "false",
    "colab_type": "text",
    "id": "17_9q8y1RmdP"
   },
   "source": [
    "Top ten 'ambiguous' surnames seem to be all Asian.. it's a rather known problem! "
   ]
  },
  {
   "cell_type": "code",
   "execution_count": null,
   "metadata": {
    "Collapsed": "false",
    "colab": {
     "base_uri": "https://localhost:8080/",
     "height": 204
    },
    "colab_type": "code",
    "executionInfo": {
     "elapsed": 9567,
     "status": "ok",
     "timestamp": 1590004336491,
     "user": {
      "displayName": "Michele Pasin",
      "photoUrl": "https://lh3.googleusercontent.com/a-/AOh14GiYfmLTPbeMuYDDrETLbTVXTXnfVr9f7eBtkmR73A=s64",
      "userId": "10309320684375994511"
     },
     "user_tz": -60
    },
    "id": "IO6R4sRARmdQ",
    "outputId": "9adfea21-5f69-4698-a8b9-e6b9fb2c3e61"
   },
   "outputs": [],
   "source": [
    "authors_without_id['last_name'].value_counts()[:10]"
   ]
  },
  {
   "cell_type": "markdown",
   "metadata": {
    "Collapsed": "false",
    "colab_type": "text",
    "id": "ivhKZPLsRmdS"
   },
   "source": [
    "### Any common patterns? \n",
    "\n",
    "If we try to group the data by name+surname we can see some interesting patterns \n",
    "\n",
    "* some entries are things which are not persons (presumably the results of bad source data in Dimensions, eg from the publisher) \n",
    "* there are some apparently meaningful name+surname combinations with a lot of hits\n",
    "* not many Asian names in the top ones \n",
    "\n"
   ]
  },
  {
   "cell_type": "code",
   "execution_count": null,
   "metadata": {
    "Collapsed": "false",
    "colab": {
     "base_uri": "https://localhost:8080/",
     "height": 901
    },
    "colab_type": "code",
    "executionInfo": {
     "elapsed": 9563,
     "status": "ok",
     "timestamp": 1590004336491,
     "user": {
      "displayName": "Michele Pasin",
      "photoUrl": "https://lh3.googleusercontent.com/a-/AOh14GiYfmLTPbeMuYDDrETLbTVXTXnfVr9f7eBtkmR73A=s64",
      "userId": "10309320684375994511"
     },
     "user_tz": -60
    },
    "id": "VCkNdlWgRmdS",
    "outputId": "2ec4715d-0dc6-442c-a38a-6e9ef19344b6"
   },
   "outputs": [],
   "source": [
    "authors_without_id = authors_without_id.groupby([\"first_name\", \"last_name\"]).size().reset_index().rename(columns={0: \"frequency\"})\n",
    "authors_without_id.sort_values(\"frequency\", ascending=False, inplace=True)\n",
    "authors_without_id.head(20)"
   ]
  },
  {
   "cell_type": "markdown",
   "metadata": {
    "Collapsed": "false",
    "colab_type": "text",
    "id": "dqxFegeLRmdW"
   },
   "source": [
    "### Creating an export for manual curation\n",
    "\n",
    "For the next tasks, we will focus on the disambiguated authors as the Researcher ID links will let us carry out useful analyses.\n",
    "\n",
    "Still, we can **save the authors with missing IDs** results and try to do some manual disambiguation later. To this end, adding a simple google-search URL can help in making sense of these data quickly."
   ]
  },
  {
   "cell_type": "code",
   "execution_count": null,
   "metadata": {
    "Collapsed": "false",
    "colab": {
     "base_uri": "https://localhost:8080/",
     "height": 508
    },
    "colab_type": "code",
    "executionInfo": {
     "elapsed": 9890,
     "status": "ok",
     "timestamp": 1590004336822,
     "user": {
      "displayName": "Michele Pasin",
      "photoUrl": "https://lh3.googleusercontent.com/a-/AOh14GiYfmLTPbeMuYDDrETLbTVXTXnfVr9f7eBtkmR73A=s64",
      "userId": "10309320684375994511"
     },
     "user_tz": -60
    },
    "id": "cC__pj51RmdW",
    "outputId": "da9b33b0-1cf5-4a3c-9d5e-4c5a95b3fa28"
   },
   "outputs": [],
   "source": [
    "from dimcli.shortcuts import google_url\n",
    "\n",
    "authors_without_id['search_url'] = authors_without_id.apply(lambda x: google_url(x['first_name'] + \" \" +x['last_name'] ), axis=1)\n",
    "\n",
    "authors_without_id.head(20)"
   ]
  },
  {
   "cell_type": "code",
   "execution_count": null,
   "metadata": {
    "Collapsed": "false",
    "colab": {},
    "colab_type": "code",
    "id": "xQFQTOPOWm_T"
   },
   "outputs": [],
   "source": [
    "# save the data\n",
    "save(authors_without_id, \"1_authors_without_researchers_id.csv\")"
   ]
  },
  {
   "cell_type": "markdown",
   "metadata": {
    "Collapsed": "false",
    "colab_type": "text",
    "id": "Y9cYfZJZRmdY"
   },
   "source": [
    "That's it! \n",
    "\n",
    "Now let's go and open this in [Google Sheets](https://docs.google.com/spreadsheets/)..."
   ]
  },
  {
   "cell_type": "code",
   "execution_count": null,
   "metadata": {
    "Collapsed": "false",
    "colab": {
     "base_uri": "https://localhost:8080/",
     "height": 34
    },
    "colab_type": "code",
    "executionInfo": {
     "elapsed": 9303,
     "status": "ok",
     "timestamp": 1590004531476,
     "user": {
      "displayName": "Michele Pasin",
      "photoUrl": "https://lh3.googleusercontent.com/a-/AOh14GiYfmLTPbeMuYDDrETLbTVXTXnfVr9f7eBtkmR73A=s64",
      "userId": "10309320684375994511"
     },
     "user_tz": -60
    },
    "id": "pt8y3YXAo6EM",
    "outputId": "18b6b189-f5f3-4290-ed40-662184d36525"
   },
   "outputs": [],
   "source": [
    "# for colab users: download everything\n",
    "if COLAB_ENV:\n",
    "    from google.colab import auth\n",
    "    auth.authenticate_user()\n",
    "\n",
    "    import gspread\n",
    "    from gspread_dataframe import get_as_dataframe, set_with_dataframe\n",
    "    from oauth2client.client import GoogleCredentials\n",
    "\n",
    "    gc = gspread.authorize(GoogleCredentials.get_application_default())\n",
    "\n",
    "    title = 'Authors_without_IDs'\n",
    "    sh = gc.create(title)\n",
    "    worksheet = gc.open(title).sheet1\n",
    "    set_with_dataframe(worksheet, authors_without_id)\n",
    "    spreadsheet_url = \"https://docs.google.com/spreadsheets/d/%s\" % sh.id\n",
    "    print(spreadsheet_url)"
   ]
  }
 ],
 "metadata": {
  "colab": {
   "collapsed_sections": [],
   "name": "Journal-Profile-1-Gathering-data.ipynb",
   "provenance": [],
   "toc_visible": true
  },
  "kernelspec": {
   "display_name": "Python 3",
   "language": "python",
   "name": "python3"
  },
  "language_info": {
   "codemirror_mode": {
    "name": "ipython",
    "version": 3
   },
   "file_extension": ".py",
   "mimetype": "text/x-python",
   "name": "python",
   "nbconvert_exporter": "python",
   "pygments_lexer": "ipython3",
   "version": "3.8.5"
  }
 },
 "nbformat": 4,
 "nbformat_minor": 4
}
