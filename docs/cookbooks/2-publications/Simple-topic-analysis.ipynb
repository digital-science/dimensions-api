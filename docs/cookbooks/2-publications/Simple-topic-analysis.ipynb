{
 "cells": [
  {
   "cell_type": "markdown",
   "metadata": {
    "Collapsed": "false",
    "colab_type": "text",
    "id": "KLi3rMNQIxFh"
   },
   "source": [
    "# Topic Modeling Analysis for a Set of Publications: Basic Workflow\n",
    "\n",
    "This Python notebook shows how to use the [Dimensions Analytics API](https://www.dimensions.ai/dimensions-apis/) in order to extract [concepts](https://docs.dimensions.ai/dsl/language.html#searching-using-concepts) from publications and use them as the basis for more advanced topic analyses tasks. \n",
    "\n",
    "**Note** this tutorial is best experienced using Google Colab. "
   ]
  },
  {
   "cell_type": "markdown",
   "metadata": {
    "Collapsed": "false",
    "colab_type": "text",
    "id": "hMaQlB7DG8Vw"
   },
   "source": [
    "## Prerequisites\n",
    "\n",
    "This notebook assumes you have installed the [Dimcli](https://pypi.org/project/dimcli/) library and are familiar with the *Getting Started* tutorial.\n"
   ]
  },
  {
   "cell_type": "code",
   "execution_count": 1,
   "metadata": {
    "Collapsed": "false",
    "colab": {
     "base_uri": "https://localhost:8080/",
     "height": 170
    },
    "colab_type": "code",
    "executionInfo": {
     "elapsed": 48102,
     "status": "ok",
     "timestamp": 1593633270812,
     "user": {
      "displayName": "Michele Pasin",
      "photoUrl": "https://lh3.googleusercontent.com/a-/AOh14GiYfmLTPbeMuYDDrETLbTVXTXnfVr9f7eBtkmR73A=s64",
      "userId": "10309320684375994511"
     },
     "user_tz": -60
    },
    "id": "s9UsQw-mKHcN",
    "outputId": "fa43ea4d-e5b4-4595-caf3-f3d9b52aebeb"
   },
   "outputs": [
    {
     "data": {
      "text/html": [
       "        <script type=\"text/javascript\">\n",
       "        window.PlotlyConfig = {MathJaxConfig: 'local'};\n",
       "        if (window.MathJax) {MathJax.Hub.Config({SVG: {font: \"STIX-Web\"}});}\n",
       "        if (typeof require !== 'undefined') {\n",
       "        require.undef(\"plotly\");\n",
       "        requirejs.config({\n",
       "            paths: {\n",
       "                'plotly': ['https://cdn.plot.ly/plotly-latest.min']\n",
       "            }\n",
       "        });\n",
       "        require(['plotly'], function(Plotly) {\n",
       "            window._Plotly = Plotly;\n",
       "        });\n",
       "        }\n",
       "        </script>\n",
       "        "
      ]
     },
     "metadata": {},
     "output_type": "display_data"
    },
    {
     "name": "stdout",
     "output_type": "stream",
     "text": [
      "==\n",
      "Logging in..\n",
      "\u001b[2mDimcli - Dimensions API Client (v0.7.2)\u001b[0m\n",
      "\u001b[2mConnected to: https://app.dimensions.ai - DSL v1.26\u001b[0m\n",
      "\u001b[2mMethod: dsl.ini file\u001b[0m\n"
     ]
    }
   ],
   "source": [
    "!pip install dimcli plotly wordcloud -U --quiet \n",
    "\n",
    "import dimcli\n",
    "from dimcli.shortcuts import *\n",
    "import json\n",
    "import sys\n",
    "import matplotlib.pyplot as plt\n",
    "from wordcloud import WordCloud\n",
    "import pandas as pd\n",
    "import plotly.express as px  # plotly>=4.8.1\n",
    "if not 'google.colab' in sys.modules:\n",
    "  # make js dependecies local / needed by html exports\n",
    "  from plotly.offline import init_notebook_mode\n",
    "  init_notebook_mode(connected=True)\n",
    "#\n",
    "\n",
    "print(\"==\\nLogging in..\")\n",
    "# https://github.com/digital-science/dimcli#authentication\n",
    "ENDPOINT = \"https://app.dimensions.ai\"\n",
    "if 'google.colab' in sys.modules:\n",
    "  import getpass\n",
    "  USERNAME = getpass.getpass(prompt='Username: ')\n",
    "  PASSWORD = getpass.getpass(prompt='Password: ')    \n",
    "  dimcli.login(USERNAME, PASSWORD, ENDPOINT)\n",
    "else:\n",
    "  USERNAME, PASSWORD  = \"\", \"\"\n",
    "  dimcli.login(USERNAME, PASSWORD, ENDPOINT)\n",
    "dsl = dimcli.Dsl()"
   ]
  },
  {
   "cell_type": "markdown",
   "metadata": {
    "Collapsed": "false",
    "colab_type": "text",
    "id": "duzLFSrfFiuS"
   },
   "source": [
    "## 1. Creating a Dataset: e.g. Publications from a Research Organization"
   ]
  },
  {
   "cell_type": "markdown",
   "metadata": {
    "Collapsed": "false",
    "colab_type": "text",
    "id": "L6uIjSVnGRQV"
   },
   "source": [
    "The dataset we'll be using in this tutorial contains publications from [University of Toronto](https://www.grid.ac/institutes/grid.17063.33). \n",
    "\n",
    "By using the parameters below, we can restrict the dataset further using dates (publications year) and a subject area (field of research code). \n",
    "\n",
    "After extracting the publications records, we are going to use the `as_dataframe_concepts` method to unpack concepts/scores data into a format that makes it easier to analyse it. For more background, see also the [Working with concepts in the Dimensions API](https://api-lab.dimensions.ai/cookbooks/1-getting-started/7-Working-with-concepts.html) tutorial."
   ]
  },
  {
   "cell_type": "code",
   "execution_count": 2,
   "metadata": {
    "Collapsed": "false",
    "colab": {
     "base_uri": "https://localhost:8080/",
     "height": 527
    },
    "colab_type": "code",
    "executionInfo": {
     "elapsed": 54216,
     "status": "ok",
     "timestamp": 1593633276955,
     "user": {
      "displayName": "Michele Pasin",
      "photoUrl": "https://lh3.googleusercontent.com/a-/AOh14GiYfmLTPbeMuYDDrETLbTVXTXnfVr9f7eBtkmR73A=s64",
      "userId": "10309320684375994511"
     },
     "user_tz": -60
    },
    "id": "xNT2M74qKHcR",
    "outputId": "d9c8afd9-6667-4b5b-a2ed-2fd25431a23b"
   },
   "outputs": [
    {
     "name": "stdout",
     "output_type": "stream",
     "text": [
      "You selected:\n",
      "->grid.17063.33\n",
      "->1996-2020\n",
      "->2203 Philosophy\n"
     ]
    },
    {
     "data": {
      "text/html": [
       "-><br /><a href=\"https://app.dimensions.ai/discover/publication?and_facet_research_org=grid.17063.33\">Preview grid.17063.33 in Dimensions.ai &#x29c9;</a>"
      ],
      "text/plain": [
       "<IPython.core.display.HTML object>"
      ]
     },
     "metadata": {},
     "output_type": "display_data"
    },
    {
     "name": "stdout",
     "output_type": "stream",
     "text": [
      "===\n",
      "Query:\n",
      " \n",
      "search publications \n",
      "    where research_orgs.id = \"grid.17063.33\"\n",
      "    and year in [1996:2020]\n",
      "     and category_for.name=\"2203 Philosophy\"  \n",
      "    return publications[id+concepts_scores+year]\n",
      "\n",
      "===\n",
      "Retrieving Publications.. \n",
      "1000 / ...\n",
      "1000 / 1251\n",
      "1251 / 1251\n",
      "===\n",
      "Records extracted: 1251\n",
      "===\n",
      "Extracting Concepts.. \n",
      "===\n",
      "Concepts Found (total): 33074\n",
      "===\n",
      "Unique Concepts Found: 13618\n",
      "===\n",
      "Concepts with frequency major than 1: 3004\n"
     ]
    }
   ],
   "source": [
    "#@markdown ## Define the criteria for extracting publications\n",
    "\n",
    "#@markdown A GRID organization from https://grid.ac/institutes\n",
    "GRIDID = \"grid.17063.33\" #@param {type:\"string\"}\n",
    "\n",
    "#@markdown The start/end year of publications used to extract concepts\n",
    "YEAR_START = 1996 #@param {type: \"slider\", min: 1950, max: 2020}\n",
    "YEAR_END = 2020 #@param {type: \"slider\", min: 1950, max: 2020}\n",
    "\n",
    "#@markdown The Field Of Research (FOR) category (None = all)\n",
    "CATEGORY = \"2203 Philosophy\"  #@param ['None', '0101 Pure Mathematics', '0102 Applied Mathematics', '0103 Numerical and Computational Mathematics', '0104 Statistics', '0105 Mathematical Physics', '0201 Astronomical and Space Sciences', '0202 Atomic, Molecular, Nuclear, Particle and Plasma Physics', '0203 Classical Physics', '0204 Condensed Matter Physics', '0205 Optical Physics', '0206 Quantum Physics', '0299 Other Physical Sciences', '0301 Analytical Chemistry', '0302 Inorganic Chemistry', '0303 Macromolecular and Materials Chemistry', '0304 Medicinal and Biomolecular Chemistry', '0305 Organic Chemistry', '0306 Physical Chemistry (incl. Structural)', '0307 Theoretical and Computational Chemistry', '0399 Other Chemical Sciences', '0401 Atmospheric Sciences', '0402 Geochemistry', '0403 Geology', '0404 Geophysics', '0405 Oceanography', '0406 Physical Geography and Environmental Geoscience', '0499 Other Earth Sciences', '0501 Ecological Applications', '0502 Environmental Science and Management', '0503 Soil Sciences', '0599 Other Environmental Sciences', '0601 Biochemistry and Cell Biology', '0602 Ecology', '0603 Evolutionary Biology', '0604 Genetics', '0605 Microbiology', '0606 Physiology', '0607 Plant Biology', '0608 Zoology', '0699 Other Biological Sciences', '0701 Agriculture, Land and Farm Management', '0702 Animal Production', '0703 Crop and Pasture Production', '0704 Fisheries Sciences', '0705 Forestry Sciences', '0706 Horticultural Production', '0707 Veterinary Sciences', '0799 Other Agricultural and Veterinary Sciences', '0801 Artificial Intelligence and Image Processing', '0802 Computation Theory and Mathematics', '0803 Computer Software', '0804 Data Format', '0805 Distributed Computing', '0806 Information Systems', '0807 Library and Information Studies', '0899 Other Information and Computing Sciences', '0901 Aerospace Engineering', '0902 Automotive Engineering', '0903 Biomedical Engineering', '0904 Chemical Engineering', '0905 Civil Engineering', '0906 Electrical and Electronic Engineering', '0907 Environmental Engineering', '0908 Food Sciences', '0909 Geomatic Engineering', '0910 Manufacturing Engineering', '0911 Maritime Engineering', '0912 Materials Engineering', '0913 Mechanical Engineering', '0914 Resources Engineering and Extractive Metallurgy', '0915 Interdisciplinary Engineering', '0999 Other Engineering', '1001 Agricultural Biotechnology', '1002 Environmental Biotechnology', '1003 Industrial Biotechnology', '1004 Medical Biotechnology', '1005 Communications Technologies', '1006 Computer Hardware', '1007 Nanotechnology', '1099 Other Technology', '1101 Medical Biochemistry and Metabolomics', '1102 Cardiorespiratory Medicine and Haematology', '1103 Clinical Sciences', '1104 Complementary and Alternative Medicine', '1105 Dentistry', '1106 Human Movement and Sports Science', '1107 Immunology', '1108 Medical Microbiology', '1109 Neurosciences', '1110 Nursing', '1111 Nutrition and Dietetics', '1112 Oncology and Carcinogenesis', '1113 Ophthalmology and Optometry', '1114 Paediatrics and Reproductive Medicine', '1115 Pharmacology and Pharmaceutical Sciences', '1116 Medical Physiology', '1117 Public Health and Health Services', '1199 Other Medical and Health Sciences', '1201 Architecture', '1202 Building', '1203 Design Practice and Management', '1205 Urban and Regional Planning', '1299 Other Built Environment and Design', '1301 Education Systems', '1302 Curriculum and Pedagogy', '1303 Specialist Studies In Education', '1399 Other Education', '1401 Economic Theory', '1402 Applied Economics', '1403 Econometrics', '1499 Other Economics', '1501 Accounting, Auditing and Accountability', '1502 Banking, Finance and Investment', '1503 Business and Management', '1504 Commercial Services', '1505 Marketing', '1506 Tourism', '1507 Transportation and Freight Services', '1601 Anthropology', '1602 Criminology', '1603 Demography', '1604 Human Geography', '1605 Policy and Administration', '1606 Political Science', '1607 Social Work', '1608 Sociology', '1699 Other Studies In Human Society', '1701 Psychology', '1702 Cognitive Sciences', '1799 Other Psychology and Cognitive Sciences', '1801 Law', '1899 Other Law and Legal Studies', '1901 Art Theory and Criticism', '1902 Film, Television and Digital Media', '1903 Journalism and Professional Writing', '1904 Performing Arts and Creative Writing', '1905 Visual Arts and Crafts', '1999 Other Studies In Creative Arts and Writing', '2001 Communication and Media Studies', '2002 Cultural Studies', '2003 Language Studies', '2004 Linguistics', '2005 Literary Studies', '2099 Other Language, Communication and Culture', '2101 Archaeology', '2102 Curatorial and Related Studies', '2103 Historical Studies', '2199 Other History and Archaeology', '2201 Applied Ethics', '2202 History and Philosophy of Specific Fields', '2203 Philosophy', '2204 Religion and Religious Studies', '2299 Other Philosophy and Religious Studies']\n",
    "    \n",
    "if YEAR_END < YEAR_START:\n",
    "  YEAR_END = YEAR_START\n",
    "\n",
    "print(f\"\"\"You selected:\\n->{GRIDID}\\n->{YEAR_START}-{YEAR_END}\\n->{CATEGORY}\"\"\") \n",
    "\n",
    "from IPython.core.display import display, HTML\n",
    "display(HTML('-><br /><a href=\"{}\">Preview {} in Dimensions.ai &#x29c9;</a>'.format(dimensions_url(GRIDID), GRIDID)))\n",
    "\n",
    "\n",
    "# subject area query component\n",
    "if CATEGORY == \"None\":\n",
    "  subject_area_q =  \"\"\n",
    "else:\n",
    "  subject_area_q = f\"\"\" and category_for.name=\"{CATEGORY}\" \"\"\"\n",
    "\n",
    "query = f\"\"\"\n",
    "search publications \n",
    "    where research_orgs.id = \"{GRIDID}\"\n",
    "    and year in [{YEAR_START}:{YEAR_END}]\n",
    "    {subject_area_q} \n",
    "    return publications[id+concepts_scores+year]\n",
    "\"\"\"\n",
    "    \n",
    "\n",
    "print(\"===\\nQuery:\\n\", query)     \n",
    "print(\"===\\nRetrieving Publications.. \")\n",
    "data = dsl.query_iterative(query)\n",
    "\n",
    "print(\"===\\nExtracting Concepts.. \")\n",
    "concepts = data.as_dataframe_concepts()\n",
    "concepts_unique = concepts.drop_duplicates(\"concept\")[['concept', 'frequency', 'score_avg']]\n",
    "print(\"===\\nConcepts Found (total):\", len(concepts))\n",
    "print(\"===\\nUnique Concepts Found:\", len(concepts_unique))\n",
    "print(\"===\\nConcepts with frequency major than 1:\", len(concepts_unique.query(\"frequency > 1\")))"
   ]
  },
  {
   "cell_type": "markdown",
   "metadata": {
    "Collapsed": "false",
    "colab_type": "text",
    "id": "BksdK3HJIxFq"
   },
   "source": [
    "## 2. Concepts: exploratory analysis\n",
    "\n",
    "The goal of this section is understanding what are the best settings to use, in order to extract useful concepts. "
   ]
  },
  {
   "cell_type": "code",
   "execution_count": 3,
   "metadata": {
    "Collapsed": "false",
    "cellView": "both",
    "colab": {
     "base_uri": "https://localhost:8080/",
     "height": 785
    },
    "colab_type": "code",
    "executionInfo": {
     "elapsed": 460,
     "status": "ok",
     "timestamp": 1593633850781,
     "user": {
      "displayName": "Michele Pasin",
      "photoUrl": "https://lh3.googleusercontent.com/a-/AOh14GiYfmLTPbeMuYDDrETLbTVXTXnfVr9f7eBtkmR73A=s64",
      "userId": "10309320684375994511"
     },
     "user_tz": -60
    },
    "id": "Lzt6Rzs1KHcU",
    "outputId": "0b1e4178-8109-4372-dafe-3945637b5f9c"
   },
   "outputs": [
    {
     "name": "stdout",
     "output_type": "stream",
     "text": [
      "You selected:\n",
      "->200\n",
      "->2-70\n",
      "->0.4\n"
     ]
    },
    {
     "data": {
      "application/vnd.plotly.v1+json": {
       "config": {
        "plotlyServerURL": "https://plot.ly"
       },
       "data": [
        {
         "hovertemplate": "concept=%{x}<br>frequency=%{y}<br>score_avg=%{marker.color}<extra></extra>",
         "legendgroup": "",
         "marker": {
          "color": [
           0.9064,
           0.85957,
           0.85616,
           0.84009,
           0.83112,
           0.83106,
           0.82291,
           0.82185,
           0.82134,
           0.82059,
           0.81834,
           0.80955,
           0.80903,
           0.80229,
           0.79392,
           0.78592,
           0.78137,
           0.77713,
           0.77024,
           0.76472,
           0.76327,
           0.76218,
           0.76198,
           0.76189,
           0.76148,
           0.7611,
           0.75744,
           0.75512,
           0.75472,
           0.75446,
           0.7539,
           0.75211,
           0.75174,
           0.74398,
           0.7371,
           0.73536,
           0.73298,
           0.7327,
           0.7322,
           0.73085,
           0.72981,
           0.72751,
           0.7245,
           0.72409,
           0.72368,
           0.72271,
           0.72269,
           0.71872,
           0.71802,
           0.71564,
           0.71478,
           0.71456,
           0.71184,
           0.70844,
           0.70761,
           0.70759,
           0.70748,
           0.7074,
           0.70686,
           0.70664,
           0.70641,
           0.70624,
           0.70596,
           0.70508,
           0.70411,
           0.70388,
           0.70312,
           0.70278,
           0.70274,
           0.70268,
           0.70266,
           0.70257,
           0.70245,
           0.70142,
           0.7014,
           0.70124,
           0.70103,
           0.70086,
           0.7007,
           0.70066,
           0.70024,
           0.70015,
           0.69898,
           0.69853,
           0.69837,
           0.69808,
           0.69757,
           0.69756,
           0.69725,
           0.69689,
           0.69677,
           0.69602,
           0.69168,
           0.69024,
           0.68928,
           0.68904,
           0.68864,
           0.68842,
           0.68741,
           0.68716,
           0.68694,
           0.68672,
           0.68652,
           0.68529,
           0.68506,
           0.6842,
           0.68416,
           0.68345,
           0.68259,
           0.682,
           0.6806,
           0.67948,
           0.67946,
           0.67918,
           0.67881,
           0.67746,
           0.67696,
           0.67677,
           0.67618,
           0.67606,
           0.67582,
           0.67574,
           0.67362,
           0.6727,
           0.6725,
           0.67198,
           0.67085,
           0.66996,
           0.66985,
           0.669,
           0.66866,
           0.66844,
           0.66834,
           0.66798,
           0.66622,
           0.66566,
           0.66536,
           0.66472,
           0.6643,
           0.66361,
           0.66332,
           0.6626,
           0.66225,
           0.65988,
           0.65814,
           0.6578,
           0.65756,
           0.65742,
           0.65664,
           0.6564,
           0.6559,
           0.65586,
           0.65562,
           0.65467,
           0.65291,
           0.65288,
           0.65196,
           0.6517,
           0.65149,
           0.65089,
           0.65013,
           0.64932,
           0.64763,
           0.64539,
           0.64538,
           0.64492,
           0.64466,
           0.64444,
           0.64407,
           0.64381,
           0.64336,
           0.64234,
           0.64152,
           0.64091,
           0.6387,
           0.63834,
           0.63817,
           0.63805,
           0.63784,
           0.63705,
           0.63702,
           0.63647,
           0.63479,
           0.6346,
           0.63419,
           0.62991,
           0.62973,
           0.62928,
           0.62905,
           0.62826,
           0.62783,
           0.62704,
           0.62569,
           0.62558,
           0.62553,
           0.62529,
           0.62486,
           0.62461,
           0.62438,
           0.62408
          ],
          "coloraxis": "coloraxis",
          "size": [
           0.9064,
           0.85957,
           0.85616,
           0.84009,
           0.83112,
           0.83106,
           0.82291,
           0.82185,
           0.82134,
           0.82059,
           0.81834,
           0.80955,
           0.80903,
           0.80229,
           0.79392,
           0.78592,
           0.78137,
           0.77713,
           0.77024,
           0.76472,
           0.76327,
           0.76218,
           0.76198,
           0.76189,
           0.76148,
           0.7611,
           0.75744,
           0.75512,
           0.75472,
           0.75446,
           0.7539,
           0.75211,
           0.75174,
           0.74398,
           0.7371,
           0.73536,
           0.73298,
           0.7327,
           0.7322,
           0.73085,
           0.72981,
           0.72751,
           0.7245,
           0.72409,
           0.72368,
           0.72271,
           0.72269,
           0.71872,
           0.71802,
           0.71564,
           0.71478,
           0.71456,
           0.71184,
           0.70844,
           0.70761,
           0.70759,
           0.70748,
           0.7074,
           0.70686,
           0.70664,
           0.70641,
           0.70624,
           0.70596,
           0.70508,
           0.70411,
           0.70388,
           0.70312,
           0.70278,
           0.70274,
           0.70268,
           0.70266,
           0.70257,
           0.70245,
           0.70142,
           0.7014,
           0.70124,
           0.70103,
           0.70086,
           0.7007,
           0.70066,
           0.70024,
           0.70015,
           0.69898,
           0.69853,
           0.69837,
           0.69808,
           0.69757,
           0.69756,
           0.69725,
           0.69689,
           0.69677,
           0.69602,
           0.69168,
           0.69024,
           0.68928,
           0.68904,
           0.68864,
           0.68842,
           0.68741,
           0.68716,
           0.68694,
           0.68672,
           0.68652,
           0.68529,
           0.68506,
           0.6842,
           0.68416,
           0.68345,
           0.68259,
           0.682,
           0.6806,
           0.67948,
           0.67946,
           0.67918,
           0.67881,
           0.67746,
           0.67696,
           0.67677,
           0.67618,
           0.67606,
           0.67582,
           0.67574,
           0.67362,
           0.6727,
           0.6725,
           0.67198,
           0.67085,
           0.66996,
           0.66985,
           0.669,
           0.66866,
           0.66844,
           0.66834,
           0.66798,
           0.66622,
           0.66566,
           0.66536,
           0.66472,
           0.6643,
           0.66361,
           0.66332,
           0.6626,
           0.66225,
           0.65988,
           0.65814,
           0.6578,
           0.65756,
           0.65742,
           0.65664,
           0.6564,
           0.6559,
           0.65586,
           0.65562,
           0.65467,
           0.65291,
           0.65288,
           0.65196,
           0.6517,
           0.65149,
           0.65089,
           0.65013,
           0.64932,
           0.64763,
           0.64539,
           0.64538,
           0.64492,
           0.64466,
           0.64444,
           0.64407,
           0.64381,
           0.64336,
           0.64234,
           0.64152,
           0.64091,
           0.6387,
           0.63834,
           0.63817,
           0.63805,
           0.63784,
           0.63705,
           0.63702,
           0.63647,
           0.63479,
           0.6346,
           0.63419,
           0.62991,
           0.62973,
           0.62928,
           0.62905,
           0.62826,
           0.62783,
           0.62704,
           0.62569,
           0.62558,
           0.62553,
           0.62529,
           0.62486,
           0.62461,
           0.62438,
           0.62408
          ],
          "sizemode": "area",
          "sizeref": 0.002266,
          "symbol": "circle"
         },
         "mode": "markers",
         "name": "",
         "orientation": "v",
         "showlegend": false,
         "type": "scatter",
         "x": [
          "philosophy of law",
          "discourse ethics",
          "literary history",
          "Catholic philosophy",
          "moral emotions",
          "ethics consultation",
          "study of religion",
          "ethics of generosity",
          "Tamil literary history",
          "legal theory",
          "later philosophy",
          "system of ethics",
          "moral law",
          "mind development",
          "Wittgenstein’s later philosophy",
          "Catholic education",
          "public reason",
          "state of consciousness",
          "social contract theory",
          "theory of mind",
          "theological ethics",
          "philosophy of mathematics",
          "moral discourse",
          "philosophical position",
          "philosophy of mind",
          "political philosophers",
          "academic philosophy",
          "empirical science",
          "later writings",
          "third step I",
          "mathematical objects",
          "business ethics",
          "school-age years",
          "later dialogues",
          "moral norms",
          "ethical perspective",
          "psychological investigation",
          "way of thinking",
          "Rawls's theory",
          "human person",
          "public rights",
          "constitutive norms",
          "history of philosophy",
          "philosophical reflection",
          "political community",
          "ethical theory",
          "moral virtue",
          "classical Confucianism",
          "indispensability argument",
          "ethical goals",
          "set of beliefs",
          "public sphere",
          "Peircean account",
          "human mind",
          "practical philosophy",
          "contemporary philosophy",
          "applied mathematics",
          "Jewish philosophy",
          "Western philosophers",
          "John Rawls's theory",
          "philosophical inquiry",
          "religious forms",
          "secular world",
          "ethical judgments",
          "point of departure",
          "Oliver O'Donovan",
          "natural goodness",
          "liberal conception",
          "evolutionary ethics",
          "moral practice",
          "philosophical project",
          "contract theory",
          "Islamic law",
          "philosophical arguments",
          "political life",
          "ethics education",
          "Tamil literature",
          "great philosophers",
          "religious history",
          "interpretive approach",
          "public health research",
          "very possibility",
          "modern period",
          "contemporary theorists",
          "philosophical point",
          "political judgment",
          "intellectual history",
          "modern science",
          "description of theories",
          "cognitive capacity",
          "constitutional theory",
          "Frank Ramsey",
          "political economy",
          "liberal tradition",
          "Vol. 2",
          "moral motivation",
          "liberal democracy",
          "mind research",
          "proper relation",
          "practical reasons",
          "philosophy of science",
          "pedagogical aims",
          "atypical development",
          "political implications",
          "Kantian idea",
          "individual differences",
          "typical development",
          "ancient past",
          "political stakes",
          "moral claims",
          "Origin of Species",
          "ethical justification",
          "analytic school",
          "philosophical interest",
          "canon law",
          "normative force",
          "ethical manner",
          "children's understanding",
          "ethics review",
          "common sense",
          "Hannah Arendt",
          "traditional questions",
          "welfare state",
          "contemporary philosophers",
          "linguistic diversity",
          "cognitive science",
          "late modernity",
          "Charles Sanders Peirce",
          "political philosophy",
          "Step I",
          "social thought",
          "moral action",
          "human world",
          "rival accounts",
          "universities today",
          "ethical responsibility",
          "external world",
          "Lacanian perspective",
          "Ethics Committee",
          "key foundational components",
          "popular view",
          "strong reasons",
          "public health ethics",
          "way of life",
          "political context",
          "political institutions",
          "Kant’s concept",
          "field of inquiry",
          "central aspect",
          "moral status",
          "ethical dimensions",
          "moral philosophers",
          "particular kind",
          "human consciousness",
          "human reason",
          "social cognition",
          "psychological consequences",
          "intellectual virtues",
          "eighteenth century",
          "naturalistic theory",
          "interview data",
          "mathematical explanation",
          "moral philosophy",
          "pragmatist tradition",
          "productive relationships",
          "first place",
          "political theorists",
          "public policy",
          "normative standards",
          "non-local influence",
          "account of functions",
          "ethics review board",
          "psychological properties",
          "Kant’s theory",
          "interpretive framework",
          "human soul",
          "generosity",
          "moral reasoning",
          "medical practice",
          "epistemic rationality",
          "Rawls's work",
          "sixth chapter",
          "moral judgment",
          "Bernard Williams",
          "mathematical logic",
          "natural world",
          "phenomenological account",
          "cultural differences",
          "new interpretation",
          "evolutionary theory",
          "human existence",
          "myth",
          "Charles Darwin",
          "Maimon",
          "business ethicists",
          "temporary workers",
          "de Finetti's theory",
          "natural sciences",
          "first principles",
          "moral psychology"
         ],
         "xaxis": "x",
         "y": [
          2,
          3,
          2,
          2,
          2,
          2,
          2,
          2,
          2,
          2,
          2,
          2,
          4,
          2,
          2,
          2,
          5,
          2,
          2,
          4,
          2,
          5,
          2,
          2,
          4,
          2,
          2,
          2,
          2,
          2,
          2,
          5,
          2,
          2,
          4,
          3,
          2,
          2,
          2,
          3,
          3,
          2,
          2,
          4,
          3,
          5,
          2,
          2,
          2,
          2,
          2,
          3,
          2,
          2,
          2,
          4,
          2,
          2,
          2,
          2,
          3,
          2,
          2,
          2,
          2,
          2,
          2,
          2,
          4,
          3,
          3,
          2,
          3,
          2,
          4,
          2,
          2,
          2,
          2,
          2,
          2,
          2,
          2,
          2,
          3,
          2,
          3,
          3,
          2,
          2,
          2,
          2,
          2,
          2,
          2,
          4,
          2,
          2,
          2,
          4,
          11,
          2,
          2,
          2,
          2,
          2,
          2,
          2,
          2,
          2,
          2,
          2,
          2,
          3,
          2,
          2,
          2,
          2,
          5,
          2,
          2,
          3,
          2,
          3,
          2,
          10,
          2,
          2,
          12,
          2,
          2,
          2,
          3,
          2,
          2,
          2,
          2,
          2,
          4,
          2,
          2,
          2,
          5,
          2,
          3,
          2,
          3,
          2,
          2,
          2,
          3,
          3,
          2,
          2,
          2,
          3,
          2,
          2,
          2,
          2,
          2,
          2,
          5,
          2,
          2,
          2,
          5,
          2,
          2,
          2,
          2,
          3,
          2,
          2,
          2,
          2,
          2,
          4,
          3,
          2,
          2,
          2,
          8,
          4,
          3,
          2,
          2,
          3,
          5,
          5,
          2,
          3,
          2,
          2,
          2,
          2,
          2,
          3,
          2,
          5
         ],
         "yaxis": "y"
        }
       ],
       "layout": {
        "autosize": true,
        "coloraxis": {
         "colorbar": {
          "title": {
           "text": "score_avg"
          }
         },
         "colorscale": [
          [
           0,
           "#0d0887"
          ],
          [
           0.1111111111111111,
           "#46039f"
          ],
          [
           0.2222222222222222,
           "#7201a8"
          ],
          [
           0.3333333333333333,
           "#9c179e"
          ],
          [
           0.4444444444444444,
           "#bd3786"
          ],
          [
           0.5555555555555556,
           "#d8576b"
          ],
          [
           0.6666666666666666,
           "#ed7953"
          ],
          [
           0.7777777777777778,
           "#fb9f3a"
          ],
          [
           0.8888888888888888,
           "#fdca26"
          ],
          [
           1,
           "#f0f921"
          ]
         ]
        },
        "legend": {
         "itemsizing": "constant",
         "tracegroupgap": 0
        },
        "margin": {
         "t": 60
        },
        "template": {
         "data": {
          "bar": [
           {
            "error_x": {
             "color": "#2a3f5f"
            },
            "error_y": {
             "color": "#2a3f5f"
            },
            "marker": {
             "line": {
              "color": "#E5ECF6",
              "width": 0.5
             }
            },
            "type": "bar"
           }
          ],
          "barpolar": [
           {
            "marker": {
             "line": {
              "color": "#E5ECF6",
              "width": 0.5
             }
            },
            "type": "barpolar"
           }
          ],
          "carpet": [
           {
            "aaxis": {
             "endlinecolor": "#2a3f5f",
             "gridcolor": "white",
             "linecolor": "white",
             "minorgridcolor": "white",
             "startlinecolor": "#2a3f5f"
            },
            "baxis": {
             "endlinecolor": "#2a3f5f",
             "gridcolor": "white",
             "linecolor": "white",
             "minorgridcolor": "white",
             "startlinecolor": "#2a3f5f"
            },
            "type": "carpet"
           }
          ],
          "choropleth": [
           {
            "colorbar": {
             "outlinewidth": 0,
             "ticks": ""
            },
            "type": "choropleth"
           }
          ],
          "contour": [
           {
            "colorbar": {
             "outlinewidth": 0,
             "ticks": ""
            },
            "colorscale": [
             [
              0,
              "#0d0887"
             ],
             [
              0.1111111111111111,
              "#46039f"
             ],
             [
              0.2222222222222222,
              "#7201a8"
             ],
             [
              0.3333333333333333,
              "#9c179e"
             ],
             [
              0.4444444444444444,
              "#bd3786"
             ],
             [
              0.5555555555555556,
              "#d8576b"
             ],
             [
              0.6666666666666666,
              "#ed7953"
             ],
             [
              0.7777777777777778,
              "#fb9f3a"
             ],
             [
              0.8888888888888888,
              "#fdca26"
             ],
             [
              1,
              "#f0f921"
             ]
            ],
            "type": "contour"
           }
          ],
          "contourcarpet": [
           {
            "colorbar": {
             "outlinewidth": 0,
             "ticks": ""
            },
            "type": "contourcarpet"
           }
          ],
          "heatmap": [
           {
            "colorbar": {
             "outlinewidth": 0,
             "ticks": ""
            },
            "colorscale": [
             [
              0,
              "#0d0887"
             ],
             [
              0.1111111111111111,
              "#46039f"
             ],
             [
              0.2222222222222222,
              "#7201a8"
             ],
             [
              0.3333333333333333,
              "#9c179e"
             ],
             [
              0.4444444444444444,
              "#bd3786"
             ],
             [
              0.5555555555555556,
              "#d8576b"
             ],
             [
              0.6666666666666666,
              "#ed7953"
             ],
             [
              0.7777777777777778,
              "#fb9f3a"
             ],
             [
              0.8888888888888888,
              "#fdca26"
             ],
             [
              1,
              "#f0f921"
             ]
            ],
            "type": "heatmap"
           }
          ],
          "heatmapgl": [
           {
            "colorbar": {
             "outlinewidth": 0,
             "ticks": ""
            },
            "colorscale": [
             [
              0,
              "#0d0887"
             ],
             [
              0.1111111111111111,
              "#46039f"
             ],
             [
              0.2222222222222222,
              "#7201a8"
             ],
             [
              0.3333333333333333,
              "#9c179e"
             ],
             [
              0.4444444444444444,
              "#bd3786"
             ],
             [
              0.5555555555555556,
              "#d8576b"
             ],
             [
              0.6666666666666666,
              "#ed7953"
             ],
             [
              0.7777777777777778,
              "#fb9f3a"
             ],
             [
              0.8888888888888888,
              "#fdca26"
             ],
             [
              1,
              "#f0f921"
             ]
            ],
            "type": "heatmapgl"
           }
          ],
          "histogram": [
           {
            "marker": {
             "colorbar": {
              "outlinewidth": 0,
              "ticks": ""
             }
            },
            "type": "histogram"
           }
          ],
          "histogram2d": [
           {
            "colorbar": {
             "outlinewidth": 0,
             "ticks": ""
            },
            "colorscale": [
             [
              0,
              "#0d0887"
             ],
             [
              0.1111111111111111,
              "#46039f"
             ],
             [
              0.2222222222222222,
              "#7201a8"
             ],
             [
              0.3333333333333333,
              "#9c179e"
             ],
             [
              0.4444444444444444,
              "#bd3786"
             ],
             [
              0.5555555555555556,
              "#d8576b"
             ],
             [
              0.6666666666666666,
              "#ed7953"
             ],
             [
              0.7777777777777778,
              "#fb9f3a"
             ],
             [
              0.8888888888888888,
              "#fdca26"
             ],
             [
              1,
              "#f0f921"
             ]
            ],
            "type": "histogram2d"
           }
          ],
          "histogram2dcontour": [
           {
            "colorbar": {
             "outlinewidth": 0,
             "ticks": ""
            },
            "colorscale": [
             [
              0,
              "#0d0887"
             ],
             [
              0.1111111111111111,
              "#46039f"
             ],
             [
              0.2222222222222222,
              "#7201a8"
             ],
             [
              0.3333333333333333,
              "#9c179e"
             ],
             [
              0.4444444444444444,
              "#bd3786"
             ],
             [
              0.5555555555555556,
              "#d8576b"
             ],
             [
              0.6666666666666666,
              "#ed7953"
             ],
             [
              0.7777777777777778,
              "#fb9f3a"
             ],
             [
              0.8888888888888888,
              "#fdca26"
             ],
             [
              1,
              "#f0f921"
             ]
            ],
            "type": "histogram2dcontour"
           }
          ],
          "mesh3d": [
           {
            "colorbar": {
             "outlinewidth": 0,
             "ticks": ""
            },
            "type": "mesh3d"
           }
          ],
          "parcoords": [
           {
            "line": {
             "colorbar": {
              "outlinewidth": 0,
              "ticks": ""
             }
            },
            "type": "parcoords"
           }
          ],
          "pie": [
           {
            "automargin": true,
            "type": "pie"
           }
          ],
          "scatter": [
           {
            "marker": {
             "colorbar": {
              "outlinewidth": 0,
              "ticks": ""
             }
            },
            "type": "scatter"
           }
          ],
          "scatter3d": [
           {
            "line": {
             "colorbar": {
              "outlinewidth": 0,
              "ticks": ""
             }
            },
            "marker": {
             "colorbar": {
              "outlinewidth": 0,
              "ticks": ""
             }
            },
            "type": "scatter3d"
           }
          ],
          "scattercarpet": [
           {
            "marker": {
             "colorbar": {
              "outlinewidth": 0,
              "ticks": ""
             }
            },
            "type": "scattercarpet"
           }
          ],
          "scattergeo": [
           {
            "marker": {
             "colorbar": {
              "outlinewidth": 0,
              "ticks": ""
             }
            },
            "type": "scattergeo"
           }
          ],
          "scattergl": [
           {
            "marker": {
             "colorbar": {
              "outlinewidth": 0,
              "ticks": ""
             }
            },
            "type": "scattergl"
           }
          ],
          "scattermapbox": [
           {
            "marker": {
             "colorbar": {
              "outlinewidth": 0,
              "ticks": ""
             }
            },
            "type": "scattermapbox"
           }
          ],
          "scatterpolar": [
           {
            "marker": {
             "colorbar": {
              "outlinewidth": 0,
              "ticks": ""
             }
            },
            "type": "scatterpolar"
           }
          ],
          "scatterpolargl": [
           {
            "marker": {
             "colorbar": {
              "outlinewidth": 0,
              "ticks": ""
             }
            },
            "type": "scatterpolargl"
           }
          ],
          "scatterternary": [
           {
            "marker": {
             "colorbar": {
              "outlinewidth": 0,
              "ticks": ""
             }
            },
            "type": "scatterternary"
           }
          ],
          "surface": [
           {
            "colorbar": {
             "outlinewidth": 0,
             "ticks": ""
            },
            "colorscale": [
             [
              0,
              "#0d0887"
             ],
             [
              0.1111111111111111,
              "#46039f"
             ],
             [
              0.2222222222222222,
              "#7201a8"
             ],
             [
              0.3333333333333333,
              "#9c179e"
             ],
             [
              0.4444444444444444,
              "#bd3786"
             ],
             [
              0.5555555555555556,
              "#d8576b"
             ],
             [
              0.6666666666666666,
              "#ed7953"
             ],
             [
              0.7777777777777778,
              "#fb9f3a"
             ],
             [
              0.8888888888888888,
              "#fdca26"
             ],
             [
              1,
              "#f0f921"
             ]
            ],
            "type": "surface"
           }
          ],
          "table": [
           {
            "cells": {
             "fill": {
              "color": "#EBF0F8"
             },
             "line": {
              "color": "white"
             }
            },
            "header": {
             "fill": {
              "color": "#C8D4E3"
             },
             "line": {
              "color": "white"
             }
            },
            "type": "table"
           }
          ]
         },
         "layout": {
          "annotationdefaults": {
           "arrowcolor": "#2a3f5f",
           "arrowhead": 0,
           "arrowwidth": 1
          },
          "coloraxis": {
           "colorbar": {
            "outlinewidth": 0,
            "ticks": ""
           }
          },
          "colorscale": {
           "diverging": [
            [
             0,
             "#8e0152"
            ],
            [
             0.1,
             "#c51b7d"
            ],
            [
             0.2,
             "#de77ae"
            ],
            [
             0.3,
             "#f1b6da"
            ],
            [
             0.4,
             "#fde0ef"
            ],
            [
             0.5,
             "#f7f7f7"
            ],
            [
             0.6,
             "#e6f5d0"
            ],
            [
             0.7,
             "#b8e186"
            ],
            [
             0.8,
             "#7fbc41"
            ],
            [
             0.9,
             "#4d9221"
            ],
            [
             1,
             "#276419"
            ]
           ],
           "sequential": [
            [
             0,
             "#0d0887"
            ],
            [
             0.1111111111111111,
             "#46039f"
            ],
            [
             0.2222222222222222,
             "#7201a8"
            ],
            [
             0.3333333333333333,
             "#9c179e"
            ],
            [
             0.4444444444444444,
             "#bd3786"
            ],
            [
             0.5555555555555556,
             "#d8576b"
            ],
            [
             0.6666666666666666,
             "#ed7953"
            ],
            [
             0.7777777777777778,
             "#fb9f3a"
            ],
            [
             0.8888888888888888,
             "#fdca26"
            ],
            [
             1,
             "#f0f921"
            ]
           ],
           "sequentialminus": [
            [
             0,
             "#0d0887"
            ],
            [
             0.1111111111111111,
             "#46039f"
            ],
            [
             0.2222222222222222,
             "#7201a8"
            ],
            [
             0.3333333333333333,
             "#9c179e"
            ],
            [
             0.4444444444444444,
             "#bd3786"
            ],
            [
             0.5555555555555556,
             "#d8576b"
            ],
            [
             0.6666666666666666,
             "#ed7953"
            ],
            [
             0.7777777777777778,
             "#fb9f3a"
            ],
            [
             0.8888888888888888,
             "#fdca26"
            ],
            [
             1,
             "#f0f921"
            ]
           ]
          },
          "colorway": [
           "#636efa",
           "#EF553B",
           "#00cc96",
           "#ab63fa",
           "#FFA15A",
           "#19d3f3",
           "#FF6692",
           "#B6E880",
           "#FF97FF",
           "#FECB52"
          ],
          "font": {
           "color": "#2a3f5f"
          },
          "geo": {
           "bgcolor": "white",
           "lakecolor": "white",
           "landcolor": "#E5ECF6",
           "showlakes": true,
           "showland": true,
           "subunitcolor": "white"
          },
          "hoverlabel": {
           "align": "left"
          },
          "hovermode": "closest",
          "mapbox": {
           "style": "light"
          },
          "paper_bgcolor": "white",
          "plot_bgcolor": "#E5ECF6",
          "polar": {
           "angularaxis": {
            "gridcolor": "white",
            "linecolor": "white",
            "ticks": ""
           },
           "bgcolor": "#E5ECF6",
           "radialaxis": {
            "gridcolor": "white",
            "linecolor": "white",
            "ticks": ""
           }
          },
          "scene": {
           "xaxis": {
            "backgroundcolor": "#E5ECF6",
            "gridcolor": "white",
            "gridwidth": 2,
            "linecolor": "white",
            "showbackground": true,
            "ticks": "",
            "zerolinecolor": "white"
           },
           "yaxis": {
            "backgroundcolor": "#E5ECF6",
            "gridcolor": "white",
            "gridwidth": 2,
            "linecolor": "white",
            "showbackground": true,
            "ticks": "",
            "zerolinecolor": "white"
           },
           "zaxis": {
            "backgroundcolor": "#E5ECF6",
            "gridcolor": "white",
            "gridwidth": 2,
            "linecolor": "white",
            "showbackground": true,
            "ticks": "",
            "zerolinecolor": "white"
           }
          },
          "shapedefaults": {
           "line": {
            "color": "#2a3f5f"
           }
          },
          "ternary": {
           "aaxis": {
            "gridcolor": "white",
            "linecolor": "white",
            "ticks": ""
           },
           "baxis": {
            "gridcolor": "white",
            "linecolor": "white",
            "ticks": ""
           },
           "bgcolor": "#E5ECF6",
           "caxis": {
            "gridcolor": "white",
            "linecolor": "white",
            "ticks": ""
           }
          },
          "title": {
           "x": 0.05
          },
          "xaxis": {
           "automargin": true,
           "gridcolor": "white",
           "linecolor": "white",
           "ticks": "",
           "title": {
            "standoff": 15
           },
           "zerolinecolor": "white",
           "zerolinewidth": 2
          },
          "yaxis": {
           "automargin": true,
           "gridcolor": "white",
           "linecolor": "white",
           "ticks": "",
           "title": {
            "standoff": 15
           },
           "zerolinecolor": "white",
           "zerolinewidth": 2
          }
         }
        },
        "xaxis": {
         "anchor": "y",
         "autorange": true,
         "domain": [
          0,
          1
         ],
         "range": [
          -14.494810638471424,
          212.9633840913452
         ],
         "title": {
          "text": "concept"
         },
         "type": "category"
        },
        "yaxis": {
         "anchor": "x",
         "autorange": true,
         "domain": [
          0,
          1
         ],
         "range": [
          0.9541373437053049,
          12.983498174728155
         ],
         "title": {
          "text": "frequency"
         },
         "type": "linear"
        }
       }
      },
      "text/html": [
       "<div>\n",
       "        \n",
       "        \n",
       "            <div id=\"24c799d4-94fa-4366-ad22-f91a2412c38e\" class=\"plotly-graph-div\" style=\"height:700px; width:100%;\"></div>\n",
       "            <script type=\"text/javascript\">\n",
       "                require([\"plotly\"], function(Plotly) {\n",
       "                    window.PLOTLYENV=window.PLOTLYENV || {};\n",
       "                    \n",
       "                if (document.getElementById(\"24c799d4-94fa-4366-ad22-f91a2412c38e\")) {\n",
       "                    Plotly.newPlot(\n",
       "                        '24c799d4-94fa-4366-ad22-f91a2412c38e',\n",
       "                        [{\"hovertemplate\": \"concept=%{x}<br>frequency=%{y}<br>score_avg=%{marker.color}<extra></extra>\", \"legendgroup\": \"\", \"marker\": {\"color\": [0.9064, 0.85957, 0.85616, 0.84009, 0.83112, 0.83106, 0.82291, 0.82185, 0.82134, 0.82059, 0.81834, 0.80955, 0.80903, 0.80229, 0.79392, 0.78592, 0.78137, 0.77713, 0.77024, 0.76472, 0.76327, 0.76218, 0.76198, 0.76189, 0.76148, 0.7611, 0.75744, 0.75512, 0.75472, 0.75446, 0.7539, 0.75211, 0.75174, 0.74398, 0.7371, 0.73536, 0.73298, 0.7327, 0.7322, 0.73085, 0.72981, 0.72751, 0.7245, 0.72409, 0.72368, 0.72271, 0.72269, 0.71872, 0.71802, 0.71564, 0.71478, 0.71456, 0.71184, 0.70844, 0.70761, 0.70759, 0.70748, 0.7074, 0.70686, 0.70664, 0.70641, 0.70624, 0.70596, 0.70508, 0.70411, 0.70388, 0.70312, 0.70278, 0.70274, 0.70268, 0.70266, 0.70257, 0.70245, 0.70142, 0.7014, 0.70124, 0.70103, 0.70086, 0.7007, 0.70066, 0.70024, 0.70015, 0.69898, 0.69853, 0.69837, 0.69808, 0.69757, 0.69756, 0.69725, 0.69689, 0.69677, 0.69602, 0.69168, 0.69024, 0.68928, 0.68904, 0.68864, 0.68842, 0.68741, 0.68716, 0.68694, 0.68672, 0.68652, 0.68529, 0.68506, 0.6842, 0.68416, 0.68345, 0.68259, 0.682, 0.6806, 0.67948, 0.67946, 0.67918, 0.67881, 0.67746, 0.67696, 0.67677, 0.67618, 0.67606, 0.67582, 0.67574, 0.67362, 0.6727, 0.6725, 0.67198, 0.67085, 0.66996, 0.66985, 0.669, 0.66866, 0.66844, 0.66834, 0.66798, 0.66622, 0.66566, 0.66536, 0.66472, 0.6643, 0.66361, 0.66332, 0.6626, 0.66225, 0.65988, 0.65814, 0.6578, 0.65756, 0.65742, 0.65664, 0.6564, 0.6559, 0.65586, 0.65562, 0.65467, 0.65291, 0.65288, 0.65196, 0.6517, 0.65149, 0.65089, 0.65013, 0.64932, 0.64763, 0.64539, 0.64538, 0.64492, 0.64466, 0.64444, 0.64407, 0.64381, 0.64336, 0.64234, 0.64152, 0.64091, 0.6387, 0.63834, 0.63817, 0.63805, 0.63784, 0.63705, 0.63702, 0.63647, 0.63479, 0.6346, 0.63419, 0.62991, 0.62973, 0.62928, 0.62905, 0.62826, 0.62783, 0.62704, 0.62569, 0.62558, 0.62553, 0.62529, 0.62486, 0.62461, 0.62438, 0.62408], \"coloraxis\": \"coloraxis\", \"size\": [0.9064, 0.85957, 0.85616, 0.84009, 0.83112, 0.83106, 0.82291, 0.82185, 0.82134, 0.82059, 0.81834, 0.80955, 0.80903, 0.80229, 0.79392, 0.78592, 0.78137, 0.77713, 0.77024, 0.76472, 0.76327, 0.76218, 0.76198, 0.76189, 0.76148, 0.7611, 0.75744, 0.75512, 0.75472, 0.75446, 0.7539, 0.75211, 0.75174, 0.74398, 0.7371, 0.73536, 0.73298, 0.7327, 0.7322, 0.73085, 0.72981, 0.72751, 0.7245, 0.72409, 0.72368, 0.72271, 0.72269, 0.71872, 0.71802, 0.71564, 0.71478, 0.71456, 0.71184, 0.70844, 0.70761, 0.70759, 0.70748, 0.7074, 0.70686, 0.70664, 0.70641, 0.70624, 0.70596, 0.70508, 0.70411, 0.70388, 0.70312, 0.70278, 0.70274, 0.70268, 0.70266, 0.70257, 0.70245, 0.70142, 0.7014, 0.70124, 0.70103, 0.70086, 0.7007, 0.70066, 0.70024, 0.70015, 0.69898, 0.69853, 0.69837, 0.69808, 0.69757, 0.69756, 0.69725, 0.69689, 0.69677, 0.69602, 0.69168, 0.69024, 0.68928, 0.68904, 0.68864, 0.68842, 0.68741, 0.68716, 0.68694, 0.68672, 0.68652, 0.68529, 0.68506, 0.6842, 0.68416, 0.68345, 0.68259, 0.682, 0.6806, 0.67948, 0.67946, 0.67918, 0.67881, 0.67746, 0.67696, 0.67677, 0.67618, 0.67606, 0.67582, 0.67574, 0.67362, 0.6727, 0.6725, 0.67198, 0.67085, 0.66996, 0.66985, 0.669, 0.66866, 0.66844, 0.66834, 0.66798, 0.66622, 0.66566, 0.66536, 0.66472, 0.6643, 0.66361, 0.66332, 0.6626, 0.66225, 0.65988, 0.65814, 0.6578, 0.65756, 0.65742, 0.65664, 0.6564, 0.6559, 0.65586, 0.65562, 0.65467, 0.65291, 0.65288, 0.65196, 0.6517, 0.65149, 0.65089, 0.65013, 0.64932, 0.64763, 0.64539, 0.64538, 0.64492, 0.64466, 0.64444, 0.64407, 0.64381, 0.64336, 0.64234, 0.64152, 0.64091, 0.6387, 0.63834, 0.63817, 0.63805, 0.63784, 0.63705, 0.63702, 0.63647, 0.63479, 0.6346, 0.63419, 0.62991, 0.62973, 0.62928, 0.62905, 0.62826, 0.62783, 0.62704, 0.62569, 0.62558, 0.62553, 0.62529, 0.62486, 0.62461, 0.62438, 0.62408], \"sizemode\": \"area\", \"sizeref\": 0.002266, \"symbol\": \"circle\"}, \"mode\": \"markers\", \"name\": \"\", \"orientation\": \"v\", \"showlegend\": false, \"type\": \"scatter\", \"x\": [\"philosophy of law\", \"discourse ethics\", \"literary history\", \"Catholic philosophy\", \"moral emotions\", \"ethics consultation\", \"study of religion\", \"ethics of generosity\", \"Tamil literary history\", \"legal theory\", \"later philosophy\", \"system of ethics\", \"moral law\", \"mind development\", \"Wittgenstein\\u2019s later philosophy\", \"Catholic education\", \"public reason\", \"state of consciousness\", \"social contract theory\", \"theory of mind\", \"theological ethics\", \"philosophy of mathematics\", \"moral discourse\", \"philosophical position\", \"philosophy of mind\", \"political philosophers\", \"academic philosophy\", \"empirical science\", \"later writings\", \"third step I\", \"mathematical objects\", \"business ethics\", \"school-age years\", \"later dialogues\", \"moral norms\", \"ethical perspective\", \"psychological investigation\", \"way of thinking\", \"Rawls's theory\", \"human person\", \"public rights\", \"constitutive norms\", \"history of philosophy\", \"philosophical reflection\", \"political community\", \"ethical theory\", \"moral virtue\", \"classical Confucianism\", \"indispensability argument\", \"ethical goals\", \"set of beliefs\", \"public sphere\", \"Peircean account\", \"human mind\", \"practical philosophy\", \"contemporary philosophy\", \"applied mathematics\", \"Jewish philosophy\", \"Western philosophers\", \"John Rawls's theory\", \"philosophical inquiry\", \"religious forms\", \"secular world\", \"ethical judgments\", \"point of departure\", \"Oliver O'Donovan\", \"natural goodness\", \"liberal conception\", \"evolutionary ethics\", \"moral practice\", \"philosophical project\", \"contract theory\", \"Islamic law\", \"philosophical arguments\", \"political life\", \"ethics education\", \"Tamil literature\", \"great philosophers\", \"religious history\", \"interpretive approach\", \"public health research\", \"very possibility\", \"modern period\", \"contemporary theorists\", \"philosophical point\", \"political judgment\", \"intellectual history\", \"modern science\", \"description of theories\", \"cognitive capacity\", \"constitutional theory\", \"Frank Ramsey\", \"political economy\", \"liberal tradition\", \"Vol. 2\", \"moral motivation\", \"liberal democracy\", \"mind research\", \"proper relation\", \"practical reasons\", \"philosophy of science\", \"pedagogical aims\", \"atypical development\", \"political implications\", \"Kantian idea\", \"individual differences\", \"typical development\", \"ancient past\", \"political stakes\", \"moral claims\", \"Origin of Species\", \"ethical justification\", \"analytic school\", \"philosophical interest\", \"canon law\", \"normative force\", \"ethical manner\", \"children's understanding\", \"ethics review\", \"common sense\", \"Hannah Arendt\", \"traditional questions\", \"welfare state\", \"contemporary philosophers\", \"linguistic diversity\", \"cognitive science\", \"late modernity\", \"Charles Sanders Peirce\", \"political philosophy\", \"Step I\", \"social thought\", \"moral action\", \"human world\", \"rival accounts\", \"universities today\", \"ethical responsibility\", \"external world\", \"Lacanian perspective\", \"Ethics Committee\", \"key foundational components\", \"popular view\", \"strong reasons\", \"public health ethics\", \"way of life\", \"political context\", \"political institutions\", \"Kant\\u2019s concept\", \"field of inquiry\", \"central aspect\", \"moral status\", \"ethical dimensions\", \"moral philosophers\", \"particular kind\", \"human consciousness\", \"human reason\", \"social cognition\", \"psychological consequences\", \"intellectual virtues\", \"eighteenth century\", \"naturalistic theory\", \"interview data\", \"mathematical explanation\", \"moral philosophy\", \"pragmatist tradition\", \"productive relationships\", \"first place\", \"political theorists\", \"public policy\", \"normative standards\", \"non-local influence\", \"account of functions\", \"ethics review board\", \"psychological properties\", \"Kant\\u2019s theory\", \"interpretive framework\", \"human soul\", \"generosity\", \"moral reasoning\", \"medical practice\", \"epistemic rationality\", \"Rawls's work\", \"sixth chapter\", \"moral judgment\", \"Bernard Williams\", \"mathematical logic\", \"natural world\", \"phenomenological account\", \"cultural differences\", \"new interpretation\", \"evolutionary theory\", \"human existence\", \"myth\", \"Charles Darwin\", \"Maimon\", \"business ethicists\", \"temporary workers\", \"de Finetti's theory\", \"natural sciences\", \"first principles\", \"moral psychology\"], \"xaxis\": \"x\", \"y\": [2, 3, 2, 2, 2, 2, 2, 2, 2, 2, 2, 2, 4, 2, 2, 2, 5, 2, 2, 4, 2, 5, 2, 2, 4, 2, 2, 2, 2, 2, 2, 5, 2, 2, 4, 3, 2, 2, 2, 3, 3, 2, 2, 4, 3, 5, 2, 2, 2, 2, 2, 3, 2, 2, 2, 4, 2, 2, 2, 2, 3, 2, 2, 2, 2, 2, 2, 2, 4, 3, 3, 2, 3, 2, 4, 2, 2, 2, 2, 2, 2, 2, 2, 2, 3, 2, 3, 3, 2, 2, 2, 2, 2, 2, 2, 4, 2, 2, 2, 4, 11, 2, 2, 2, 2, 2, 2, 2, 2, 2, 2, 2, 2, 3, 2, 2, 2, 2, 5, 2, 2, 3, 2, 3, 2, 10, 2, 2, 12, 2, 2, 2, 3, 2, 2, 2, 2, 2, 4, 2, 2, 2, 5, 2, 3, 2, 3, 2, 2, 2, 3, 3, 2, 2, 2, 3, 2, 2, 2, 2, 2, 2, 5, 2, 2, 2, 5, 2, 2, 2, 2, 3, 2, 2, 2, 2, 2, 4, 3, 2, 2, 2, 8, 4, 3, 2, 2, 3, 5, 5, 2, 3, 2, 2, 2, 2, 2, 3, 2, 5], \"yaxis\": \"y\"}],\n",
       "                        {\"coloraxis\": {\"colorbar\": {\"title\": {\"text\": \"score_avg\"}}, \"colorscale\": [[0.0, \"#0d0887\"], [0.1111111111111111, \"#46039f\"], [0.2222222222222222, \"#7201a8\"], [0.3333333333333333, \"#9c179e\"], [0.4444444444444444, \"#bd3786\"], [0.5555555555555556, \"#d8576b\"], [0.6666666666666666, \"#ed7953\"], [0.7777777777777778, \"#fb9f3a\"], [0.8888888888888888, \"#fdca26\"], [1.0, \"#f0f921\"]]}, \"height\": 700, \"legend\": {\"itemsizing\": \"constant\", \"tracegroupgap\": 0}, \"margin\": {\"t\": 60}, \"template\": {\"data\": {\"bar\": [{\"error_x\": {\"color\": \"#2a3f5f\"}, \"error_y\": {\"color\": \"#2a3f5f\"}, \"marker\": {\"line\": {\"color\": \"#E5ECF6\", \"width\": 0.5}}, \"type\": \"bar\"}], \"barpolar\": [{\"marker\": {\"line\": {\"color\": \"#E5ECF6\", \"width\": 0.5}}, \"type\": \"barpolar\"}], \"carpet\": [{\"aaxis\": {\"endlinecolor\": \"#2a3f5f\", \"gridcolor\": \"white\", \"linecolor\": \"white\", \"minorgridcolor\": \"white\", \"startlinecolor\": \"#2a3f5f\"}, \"baxis\": {\"endlinecolor\": \"#2a3f5f\", \"gridcolor\": \"white\", \"linecolor\": \"white\", \"minorgridcolor\": \"white\", \"startlinecolor\": \"#2a3f5f\"}, \"type\": \"carpet\"}], \"choropleth\": [{\"colorbar\": {\"outlinewidth\": 0, \"ticks\": \"\"}, \"type\": \"choropleth\"}], \"contour\": [{\"colorbar\": {\"outlinewidth\": 0, \"ticks\": \"\"}, \"colorscale\": [[0.0, \"#0d0887\"], [0.1111111111111111, \"#46039f\"], [0.2222222222222222, \"#7201a8\"], [0.3333333333333333, \"#9c179e\"], [0.4444444444444444, \"#bd3786\"], [0.5555555555555556, \"#d8576b\"], [0.6666666666666666, \"#ed7953\"], [0.7777777777777778, \"#fb9f3a\"], [0.8888888888888888, \"#fdca26\"], [1.0, \"#f0f921\"]], \"type\": \"contour\"}], \"contourcarpet\": [{\"colorbar\": {\"outlinewidth\": 0, \"ticks\": \"\"}, \"type\": \"contourcarpet\"}], \"heatmap\": [{\"colorbar\": {\"outlinewidth\": 0, \"ticks\": \"\"}, \"colorscale\": [[0.0, \"#0d0887\"], [0.1111111111111111, \"#46039f\"], [0.2222222222222222, \"#7201a8\"], [0.3333333333333333, \"#9c179e\"], [0.4444444444444444, \"#bd3786\"], [0.5555555555555556, \"#d8576b\"], [0.6666666666666666, \"#ed7953\"], [0.7777777777777778, \"#fb9f3a\"], [0.8888888888888888, \"#fdca26\"], [1.0, \"#f0f921\"]], \"type\": \"heatmap\"}], \"heatmapgl\": [{\"colorbar\": {\"outlinewidth\": 0, \"ticks\": \"\"}, \"colorscale\": [[0.0, \"#0d0887\"], [0.1111111111111111, \"#46039f\"], [0.2222222222222222, \"#7201a8\"], [0.3333333333333333, \"#9c179e\"], [0.4444444444444444, \"#bd3786\"], [0.5555555555555556, \"#d8576b\"], [0.6666666666666666, \"#ed7953\"], [0.7777777777777778, \"#fb9f3a\"], [0.8888888888888888, \"#fdca26\"], [1.0, \"#f0f921\"]], \"type\": \"heatmapgl\"}], \"histogram\": [{\"marker\": {\"colorbar\": {\"outlinewidth\": 0, \"ticks\": \"\"}}, \"type\": \"histogram\"}], \"histogram2d\": [{\"colorbar\": {\"outlinewidth\": 0, \"ticks\": \"\"}, \"colorscale\": [[0.0, \"#0d0887\"], [0.1111111111111111, \"#46039f\"], [0.2222222222222222, \"#7201a8\"], [0.3333333333333333, \"#9c179e\"], [0.4444444444444444, \"#bd3786\"], [0.5555555555555556, \"#d8576b\"], [0.6666666666666666, \"#ed7953\"], [0.7777777777777778, \"#fb9f3a\"], [0.8888888888888888, \"#fdca26\"], [1.0, \"#f0f921\"]], \"type\": \"histogram2d\"}], \"histogram2dcontour\": [{\"colorbar\": {\"outlinewidth\": 0, \"ticks\": \"\"}, \"colorscale\": [[0.0, \"#0d0887\"], [0.1111111111111111, \"#46039f\"], [0.2222222222222222, \"#7201a8\"], [0.3333333333333333, \"#9c179e\"], [0.4444444444444444, \"#bd3786\"], [0.5555555555555556, \"#d8576b\"], [0.6666666666666666, \"#ed7953\"], [0.7777777777777778, \"#fb9f3a\"], [0.8888888888888888, \"#fdca26\"], [1.0, \"#f0f921\"]], \"type\": \"histogram2dcontour\"}], \"mesh3d\": [{\"colorbar\": {\"outlinewidth\": 0, \"ticks\": \"\"}, \"type\": \"mesh3d\"}], \"parcoords\": [{\"line\": {\"colorbar\": {\"outlinewidth\": 0, \"ticks\": \"\"}}, \"type\": \"parcoords\"}], \"pie\": [{\"automargin\": true, \"type\": \"pie\"}], \"scatter\": [{\"marker\": {\"colorbar\": {\"outlinewidth\": 0, \"ticks\": \"\"}}, \"type\": \"scatter\"}], \"scatter3d\": [{\"line\": {\"colorbar\": {\"outlinewidth\": 0, \"ticks\": \"\"}}, \"marker\": {\"colorbar\": {\"outlinewidth\": 0, \"ticks\": \"\"}}, \"type\": \"scatter3d\"}], \"scattercarpet\": [{\"marker\": {\"colorbar\": {\"outlinewidth\": 0, \"ticks\": \"\"}}, \"type\": \"scattercarpet\"}], \"scattergeo\": [{\"marker\": {\"colorbar\": {\"outlinewidth\": 0, \"ticks\": \"\"}}, \"type\": \"scattergeo\"}], \"scattergl\": [{\"marker\": {\"colorbar\": {\"outlinewidth\": 0, \"ticks\": \"\"}}, \"type\": \"scattergl\"}], \"scattermapbox\": [{\"marker\": {\"colorbar\": {\"outlinewidth\": 0, \"ticks\": \"\"}}, \"type\": \"scattermapbox\"}], \"scatterpolar\": [{\"marker\": {\"colorbar\": {\"outlinewidth\": 0, \"ticks\": \"\"}}, \"type\": \"scatterpolar\"}], \"scatterpolargl\": [{\"marker\": {\"colorbar\": {\"outlinewidth\": 0, \"ticks\": \"\"}}, \"type\": \"scatterpolargl\"}], \"scatterternary\": [{\"marker\": {\"colorbar\": {\"outlinewidth\": 0, \"ticks\": \"\"}}, \"type\": \"scatterternary\"}], \"surface\": [{\"colorbar\": {\"outlinewidth\": 0, \"ticks\": \"\"}, \"colorscale\": [[0.0, \"#0d0887\"], [0.1111111111111111, \"#46039f\"], [0.2222222222222222, \"#7201a8\"], [0.3333333333333333, \"#9c179e\"], [0.4444444444444444, \"#bd3786\"], [0.5555555555555556, \"#d8576b\"], [0.6666666666666666, \"#ed7953\"], [0.7777777777777778, \"#fb9f3a\"], [0.8888888888888888, \"#fdca26\"], [1.0, \"#f0f921\"]], \"type\": \"surface\"}], \"table\": [{\"cells\": {\"fill\": {\"color\": \"#EBF0F8\"}, \"line\": {\"color\": \"white\"}}, \"header\": {\"fill\": {\"color\": \"#C8D4E3\"}, \"line\": {\"color\": \"white\"}}, \"type\": \"table\"}]}, \"layout\": {\"annotationdefaults\": {\"arrowcolor\": \"#2a3f5f\", \"arrowhead\": 0, \"arrowwidth\": 1}, \"coloraxis\": {\"colorbar\": {\"outlinewidth\": 0, \"ticks\": \"\"}}, \"colorscale\": {\"diverging\": [[0, \"#8e0152\"], [0.1, \"#c51b7d\"], [0.2, \"#de77ae\"], [0.3, \"#f1b6da\"], [0.4, \"#fde0ef\"], [0.5, \"#f7f7f7\"], [0.6, \"#e6f5d0\"], [0.7, \"#b8e186\"], [0.8, \"#7fbc41\"], [0.9, \"#4d9221\"], [1, \"#276419\"]], \"sequential\": [[0.0, \"#0d0887\"], [0.1111111111111111, \"#46039f\"], [0.2222222222222222, \"#7201a8\"], [0.3333333333333333, \"#9c179e\"], [0.4444444444444444, \"#bd3786\"], [0.5555555555555556, \"#d8576b\"], [0.6666666666666666, \"#ed7953\"], [0.7777777777777778, \"#fb9f3a\"], [0.8888888888888888, \"#fdca26\"], [1.0, \"#f0f921\"]], \"sequentialminus\": [[0.0, \"#0d0887\"], [0.1111111111111111, \"#46039f\"], [0.2222222222222222, \"#7201a8\"], [0.3333333333333333, \"#9c179e\"], [0.4444444444444444, \"#bd3786\"], [0.5555555555555556, \"#d8576b\"], [0.6666666666666666, \"#ed7953\"], [0.7777777777777778, \"#fb9f3a\"], [0.8888888888888888, \"#fdca26\"], [1.0, \"#f0f921\"]]}, \"colorway\": [\"#636efa\", \"#EF553B\", \"#00cc96\", \"#ab63fa\", \"#FFA15A\", \"#19d3f3\", \"#FF6692\", \"#B6E880\", \"#FF97FF\", \"#FECB52\"], \"font\": {\"color\": \"#2a3f5f\"}, \"geo\": {\"bgcolor\": \"white\", \"lakecolor\": \"white\", \"landcolor\": \"#E5ECF6\", \"showlakes\": true, \"showland\": true, \"subunitcolor\": \"white\"}, \"hoverlabel\": {\"align\": \"left\"}, \"hovermode\": \"closest\", \"mapbox\": {\"style\": \"light\"}, \"paper_bgcolor\": \"white\", \"plot_bgcolor\": \"#E5ECF6\", \"polar\": {\"angularaxis\": {\"gridcolor\": \"white\", \"linecolor\": \"white\", \"ticks\": \"\"}, \"bgcolor\": \"#E5ECF6\", \"radialaxis\": {\"gridcolor\": \"white\", \"linecolor\": \"white\", \"ticks\": \"\"}}, \"scene\": {\"xaxis\": {\"backgroundcolor\": \"#E5ECF6\", \"gridcolor\": \"white\", \"gridwidth\": 2, \"linecolor\": \"white\", \"showbackground\": true, \"ticks\": \"\", \"zerolinecolor\": \"white\"}, \"yaxis\": {\"backgroundcolor\": \"#E5ECF6\", \"gridcolor\": \"white\", \"gridwidth\": 2, \"linecolor\": \"white\", \"showbackground\": true, \"ticks\": \"\", \"zerolinecolor\": \"white\"}, \"zaxis\": {\"backgroundcolor\": \"#E5ECF6\", \"gridcolor\": \"white\", \"gridwidth\": 2, \"linecolor\": \"white\", \"showbackground\": true, \"ticks\": \"\", \"zerolinecolor\": \"white\"}}, \"shapedefaults\": {\"line\": {\"color\": \"#2a3f5f\"}}, \"ternary\": {\"aaxis\": {\"gridcolor\": \"white\", \"linecolor\": \"white\", \"ticks\": \"\"}, \"baxis\": {\"gridcolor\": \"white\", \"linecolor\": \"white\", \"ticks\": \"\"}, \"bgcolor\": \"#E5ECF6\", \"caxis\": {\"gridcolor\": \"white\", \"linecolor\": \"white\", \"ticks\": \"\"}}, \"title\": {\"x\": 0.05}, \"xaxis\": {\"automargin\": true, \"gridcolor\": \"white\", \"linecolor\": \"white\", \"ticks\": \"\", \"title\": {\"standoff\": 15}, \"zerolinecolor\": \"white\", \"zerolinewidth\": 2}, \"yaxis\": {\"automargin\": true, \"gridcolor\": \"white\", \"linecolor\": \"white\", \"ticks\": \"\", \"title\": {\"standoff\": 15}, \"zerolinecolor\": \"white\", \"zerolinewidth\": 2}}}, \"xaxis\": {\"anchor\": \"y\", \"domain\": [0.0, 1.0], \"title\": {\"text\": \"concept\"}}, \"yaxis\": {\"anchor\": \"x\", \"domain\": [0.0, 1.0], \"title\": {\"text\": \"frequency\"}}},\n",
       "                        {\"responsive\": true}\n",
       "                    ).then(function(){\n",
       "                            \n",
       "var gd = document.getElementById('24c799d4-94fa-4366-ad22-f91a2412c38e');\n",
       "var x = new MutationObserver(function (mutations, observer) {{\n",
       "        var display = window.getComputedStyle(gd).display;\n",
       "        if (!display || display === 'none') {{\n",
       "            console.log([gd, 'removed!']);\n",
       "            Plotly.purge(gd);\n",
       "            observer.disconnect();\n",
       "        }}\n",
       "}});\n",
       "\n",
       "// Listen for the removal of the full notebook cells\n",
       "var notebookContainer = gd.closest('#notebook-container');\n",
       "if (notebookContainer) {{\n",
       "    x.observe(notebookContainer, {childList: true});\n",
       "}}\n",
       "\n",
       "// Listen for the clearing of the current output cell\n",
       "var outputEl = gd.closest('.output');\n",
       "if (outputEl) {{\n",
       "    x.observe(outputEl, {childList: true});\n",
       "}}\n",
       "\n",
       "                        })\n",
       "                };\n",
       "                });\n",
       "            </script>\n",
       "        </div>"
      ]
     },
     "metadata": {},
     "output_type": "display_data"
    }
   ],
   "source": [
    "#@markdown ## Define the best parameters to isolate 'interesting' concepts\n",
    "#@markdown Frequency: how many documents include a concept (100 = no upper limit). \n",
    "#@markdown Tip: concepts with very high frequencies tend to be common words, so it is useful to exclude them. \n",
    "FREQ_MIN = 2 #@param {type: \"slider\", min: 1, max: 10, step:1}\n",
    "FREQ_MAX = 70 #@param {type: \"slider\", min: 10, max: 100, step:10}\n",
    "#@markdown ---\n",
    "#@markdown Score: the average relevancy score of concepts, for the dataset we extracted above.\n",
    "#@markdown This value tends to be a good indicator of 'interesting' concepts.\n",
    "SCORE_MIN = 0.4  #@param {type: \"slider\", min: 0, max: 1, step:0.1}\n",
    "#@markdown ---\n",
    "#@markdown Select how many concepts to include in the visualization \n",
    "MAX_CONCEPTS = 200 #@param {type: \"slider\", min: 20, max: 1000, step:10}\n",
    "\n",
    "if FREQ_MAX == 100:\n",
    "  FREQ_MAX = 100000000\n",
    "print(f\"\"\"You selected:\\n->{MAX_CONCEPTS}\\n->{FREQ_MIN}-{FREQ_MAX}\\n->{SCORE_MIN}\"\"\") \n",
    "\n",
    "filtered_concepts = concepts_unique.query(f\"\"\"frequency >= {FREQ_MIN} & frequency <= {FREQ_MAX} & score_avg >= {SCORE_MIN} \"\"\")\\\n",
    "                    .sort_values([\"score_avg\", \"frequency\"], ascending=False)[:MAX_CONCEPTS]\n",
    "\n",
    "px.scatter(filtered_concepts, \n",
    "           x=\"concept\", \n",
    "           y=\"frequency\", \n",
    "           height=700,\n",
    "           color=\"score_avg\", \n",
    "           size=\"score_avg\")"
   ]
  },
  {
   "cell_type": "markdown",
   "metadata": {
    "Collapsed": "false",
    "colab_type": "text",
    "id": "UiSUEjFdKHcW"
   },
   "source": [
    "## 3. Building a word-cloud visualization\n",
    "\n",
    "Wordclouds are often a pretty effective way of summarising the relative importance of keywords. \n",
    "\n",
    "The [wordcloud Python library](https://github.com/amueller/word_cloud) can be used to turn our concepts list into an image. The Wordcloud function takes a list of dictionaries with words/frequency eg\n",
    "\n",
    "```\n",
    "# [\n",
    "#    {'concept': 'study', 'frequency': 5707},\n",
    "#    {'concept': 'patients', 'frequency': 3579}\n",
    "#   ... etc... \n",
    "#. ]\n",
    "```\n",
    "\n",
    "So we can obtain that easily from the DSL concepts data. "
   ]
  },
  {
   "cell_type": "code",
   "execution_count": 4,
   "metadata": {
    "Collapsed": "false",
    "colab": {
     "base_uri": "https://localhost:8080/",
     "height": 248
    },
    "colab_type": "code",
    "executionInfo": {
     "elapsed": 61975,
     "status": "ok",
     "timestamp": 1593633284724,
     "user": {
      "displayName": "Michele Pasin",
      "photoUrl": "https://lh3.googleusercontent.com/a-/AOh14GiYfmLTPbeMuYDDrETLbTVXTXnfVr9f7eBtkmR73A=s64",
      "userId": "10309320684375994511"
     },
     "user_tz": -60
    },
    "id": "WKhsHn6vc1nm",
    "outputId": "76ac154c-9c5b-4c09-f2dc-3c85c7023688"
   },
   "outputs": [
    {
     "data": {
      "image/png": "[encoded data removed]",
      "text/plain": [
       "<Figure size 432x288 with 1 Axes>"
      ]
     },
     "metadata": {
      "needs_background": "light"
     },
     "output_type": "display_data"
    }
   ],
   "source": [
    "# take top N concepts\n",
    "topn = filtered_concepts[['concept', 'frequency']][:300]\n",
    "\n",
    "d = {x['concept'] : x['frequency'] for x in topn.to_dict(orient=\"records\")}\n",
    "\n",
    "wordcloud = WordCloud(width=900, height=600).generate_from_frequencies(d)\n",
    "plt.imshow(wordcloud, interpolation='bilinear')\n",
    "plt.axis(\"off\")\n",
    "plt.savefig(\"topics_wordcloud.png\", dpi=300)"
   ]
  },
  {
   "cell_type": "markdown",
   "metadata": {
    "Collapsed": "false",
    "colab_type": "text",
    "id": "lYjofWC1U-Vb"
   },
   "source": [
    "## 4. Trend analysis - 'emerging' new topics each year\n",
    "\n",
    "In this section we will look at the concept distribution over the years. In particular, we will focus on the 'new' concepts in each year - i.e. concepts that have never appeared in previous years. \n",
    "\n",
    "This can be easily achieved by adding a new column `first_year`, marking the earliest publication year a concept was found in. "
   ]
  },
  {
   "cell_type": "code",
   "execution_count": 5,
   "metadata": {
    "Collapsed": "false",
    "colab": {
     "base_uri": "https://localhost:8080/",
     "height": 617
    },
    "colab_type": "code",
    "executionInfo": {
     "elapsed": 522,
     "status": "ok",
     "timestamp": 1593634169555,
     "user": {
      "displayName": "Michele Pasin",
      "photoUrl": "https://lh3.googleusercontent.com/a-/AOh14GiYfmLTPbeMuYDDrETLbTVXTXnfVr9f7eBtkmR73A=s64",
      "userId": "10309320684375994511"
     },
     "user_tz": -60
    },
    "id": "EXVOE3yIUhd0",
    "outputId": "2ce4302e-6648-4cb6-9724-0bacf044e488"
   },
   "outputs": [
    {
     "data": {
      "application/vnd.plotly.v1+json": {
       "config": {
        "plotlyServerURL": "https://plot.ly"
       },
       "data": [
        {
         "branchvalues": "total",
         "customdata": [
          [
           "modern science"
          ],
          [
           "religious forms"
          ],
          [
           "great philosophers"
          ],
          [
           "moral justification"
          ],
          [
           "philosophy of law"
          ],
          [
           "social cognition"
          ],
          [
           "third step I"
          ],
          [
           "Maimon"
          ],
          [
           "legal theory"
          ],
          [
           "way of life"
          ],
          [
           "academic philosophy"
          ],
          [
           "moral virtue"
          ],
          [
           "ethics education"
          ],
          [
           "epistemic rationality"
          ],
          [
           "practical philosophy"
          ],
          [
           "central aspect"
          ],
          [
           "philosophical position"
          ],
          [
           "empirical science"
          ],
          [
           "later dialogues"
          ],
          [
           "Kantian idea"
          ],
          [
           "liberal conception"
          ],
          [
           "political context"
          ],
          [
           "medical assistance"
          ],
          [
           "mathematical objects"
          ],
          [
           "religious history"
          ],
          [
           "critical discussion"
          ],
          [
           "Reinhold"
          ],
          [
           "interpretive approach"
          ],
          [
           "Heidegger’s philosophy"
          ],
          [
           "constitutive norms"
          ],
          [
           "theological ethics"
          ],
          [
           "system of ethics"
          ],
          [
           "mindreading"
          ],
          [
           "study of religion"
          ],
          [
           "Tamil literary history"
          ],
          [
           "normative significance"
          ],
          [
           "ethical perspective"
          ],
          [
           "point of departure"
          ],
          [
           "particular kind"
          ],
          [
           "kind of theory"
          ],
          [
           "Vedānta"
          ],
          [
           "Frank Ramsey"
          ],
          [
           "intellectual history"
          ],
          [
           "moral philosophers"
          ],
          [
           "ethics of generosity"
          ],
          [
           "human good"
          ],
          [
           "literary history"
          ],
          [
           "philosophical arguments"
          ],
          [
           "Jewish philosophy"
          ],
          [
           "South Asia"
          ],
          [
           "Tamil literature"
          ],
          [
           "classical Confucianism"
          ],
          [
           "moral law"
          ],
          [
           "(?)"
          ],
          [
           "(?)"
          ],
          [
           "(?)"
          ],
          [
           "(?)"
          ],
          [
           "(?)"
          ],
          [
           "(?)"
          ],
          [
           "(?)"
          ],
          [
           "(?)"
          ],
          [
           "(?)"
          ],
          [
           "(?)"
          ],
          [
           "(?)"
          ]
         ],
         "domain": {
          "x": [
           0,
           1
          ],
          "y": [
           0,
           1
          ]
         },
         "hovertemplate": "labels=%{label}<br>frequency=%{value}<br>parent=%{parent}<br>id=%{id}<br>concept=%{customdata[0]}<extra></extra>",
         "ids": [
          "2013/modern science",
          "2010/religious forms",
          "2014/great philosophers",
          "2019/moral justification",
          "2013/philosophy of law",
          "2017/social cognition",
          "2010/third step I",
          "2019/Maimon",
          "2013/legal theory",
          "2018/way of life",
          "2015/academic philosophy",
          "2018/moral virtue",
          "2018/ethics education",
          "2016/epistemic rationality",
          "2012/practical philosophy",
          "2017/central aspect",
          "2014/philosophical position",
          "2018/empirical science",
          "2010/later dialogues",
          "2012/Kantian idea",
          "2010/liberal conception",
          "2013/political context",
          "2019/medical assistance",
          "2017/mathematical objects",
          "2011/religious history",
          "2016/critical discussion",
          "2019/Reinhold",
          "2012/interpretive approach",
          "2016/Heidegger’s philosophy",
          "2014/constitutive norms",
          "2012/theological ethics",
          "2019/system of ethics",
          "2020/mindreading",
          "2015/study of religion",
          "2011/Tamil literary history",
          "2015/normative significance",
          "2014/ethical perspective",
          "2010/point of departure",
          "2013/particular kind",
          "2016/kind of theory",
          "2020/Vedānta",
          "2016/Frank Ramsey",
          "2012/intellectual history",
          "2015/moral philosophers",
          "2018/ethics of generosity",
          "2017/human good",
          "2011/literary history",
          "2017/philosophical arguments",
          "2011/Jewish philosophy",
          "2020/South Asia",
          "2011/Tamil literature",
          "2014/classical Confucianism",
          "2015/moral law",
          "2010",
          "2011",
          "2012",
          "2013",
          "2014",
          "2015",
          "2016",
          "2017",
          "2018",
          "2019",
          "2020"
         ],
         "labels": [
          "modern science",
          "religious forms",
          "great philosophers",
          "moral justification",
          "philosophy of law",
          "social cognition",
          "third step I",
          "Maimon",
          "legal theory",
          "way of life",
          "academic philosophy",
          "moral virtue",
          "ethics education",
          "epistemic rationality",
          "practical philosophy",
          "central aspect",
          "philosophical position",
          "empirical science",
          "later dialogues",
          "Kantian idea",
          "liberal conception",
          "political context",
          "medical assistance",
          "mathematical objects",
          "religious history",
          "critical discussion",
          "Reinhold",
          "interpretive approach",
          "Heidegger’s philosophy",
          "constitutive norms",
          "theological ethics",
          "system of ethics",
          "mindreading",
          "study of religion",
          "Tamil literary history",
          "normative significance",
          "ethical perspective",
          "point of departure",
          "particular kind",
          "kind of theory",
          "Vedānta",
          "Frank Ramsey",
          "intellectual history",
          "moral philosophers",
          "ethics of generosity",
          "human good",
          "literary history",
          "philosophical arguments",
          "Jewish philosophy",
          "South Asia",
          "Tamil literature",
          "classical Confucianism",
          "moral law",
          "2010",
          "2011",
          "2012",
          "2013",
          "2014",
          "2015",
          "2016",
          "2017",
          "2018",
          "2019",
          "2020"
         ],
         "marker": {
          "colors": [
           "rgb(158,1,66)",
           "rgb(213,62,79)",
           "rgb(244,109,67)",
           "rgb(253,174,97)",
           "rgb(254,224,139)",
           "rgb(255,255,191)",
           "rgb(230,245,152)",
           "rgb(171,221,164)",
           "rgb(102,194,165)",
           "rgb(50,136,189)",
           "rgb(94,79,162)",
           "rgb(158,1,66)",
           "rgb(213,62,79)",
           "rgb(244,109,67)",
           "rgb(253,174,97)",
           "rgb(254,224,139)",
           "rgb(255,255,191)",
           "rgb(230,245,152)",
           "rgb(171,221,164)",
           "rgb(102,194,165)",
           "rgb(50,136,189)",
           "rgb(94,79,162)",
           "rgb(158,1,66)",
           "rgb(213,62,79)",
           "rgb(244,109,67)",
           "rgb(253,174,97)",
           "rgb(254,224,139)",
           "rgb(255,255,191)",
           "rgb(230,245,152)",
           "rgb(171,221,164)",
           "rgb(102,194,165)",
           "rgb(50,136,189)",
           "rgb(94,79,162)",
           "rgb(158,1,66)",
           "rgb(213,62,79)",
           "rgb(244,109,67)",
           "rgb(253,174,97)",
           "rgb(254,224,139)",
           "rgb(255,255,191)",
           "rgb(230,245,152)",
           "rgb(171,221,164)",
           "rgb(102,194,165)",
           "rgb(50,136,189)",
           "rgb(94,79,162)",
           "rgb(158,1,66)",
           "rgb(213,62,79)",
           "rgb(244,109,67)",
           "rgb(253,174,97)",
           "rgb(254,224,139)",
           "rgb(255,255,191)",
           "rgb(230,245,152)",
           "rgb(171,221,164)",
           "rgb(102,194,165)",
           "rgb(50,136,189)",
           "rgb(50,136,189)",
           "rgb(50,136,189)",
           "rgb(50,136,189)",
           "rgb(50,136,189)",
           "rgb(50,136,189)",
           "rgb(50,136,189)",
           "rgb(50,136,189)",
           "rgb(50,136,189)",
           "rgb(50,136,189)",
           "rgb(50,136,189)"
          ]
         },
         "name": "",
         "parents": [
          "2013",
          "2010",
          "2014",
          "2019",
          "2013",
          "2017",
          "2010",
          "2019",
          "2013",
          "2018",
          "2015",
          "2018",
          "2018",
          "2016",
          "2012",
          "2017",
          "2014",
          "2018",
          "2010",
          "2012",
          "2010",
          "2013",
          "2019",
          "2017",
          "2011",
          "2016",
          "2019",
          "2012",
          "2016",
          "2014",
          "2012",
          "2019",
          "2020",
          "2015",
          "2011",
          "2015",
          "2014",
          "2010",
          "2013",
          "2016",
          "2020",
          "2016",
          "2012",
          "2015",
          "2018",
          "2017",
          "2011",
          "2017",
          "2011",
          "2020",
          "2011",
          "2014",
          "2015",
          "",
          "",
          "",
          "",
          "",
          "",
          "",
          "",
          "",
          "",
          ""
         ],
         "type": "treemap",
         "values": [
          3,
          2,
          2,
          2,
          2,
          3,
          2,
          2,
          2,
          2,
          2,
          2,
          2,
          2,
          2,
          2,
          2,
          2,
          2,
          2,
          2,
          3,
          2,
          2,
          2,
          2,
          2,
          2,
          2,
          2,
          2,
          2,
          2,
          2,
          2,
          3,
          3,
          2,
          2,
          2,
          2,
          2,
          3,
          3,
          2,
          2,
          2,
          2,
          2,
          2,
          2,
          2,
          4,
          10,
          10,
          11,
          12,
          11,
          14,
          10,
          11,
          10,
          10,
          6
         ]
        }
       ],
       "layout": {
        "autosize": true,
        "legend": {
         "tracegroupgap": 0
        },
        "margin": {
         "t": 60
        },
        "template": {
         "data": {
          "bar": [
           {
            "error_x": {
             "color": "#2a3f5f"
            },
            "error_y": {
             "color": "#2a3f5f"
            },
            "marker": {
             "line": {
              "color": "#E5ECF6",
              "width": 0.5
             }
            },
            "type": "bar"
           }
          ],
          "barpolar": [
           {
            "marker": {
             "line": {
              "color": "#E5ECF6",
              "width": 0.5
             }
            },
            "type": "barpolar"
           }
          ],
          "carpet": [
           {
            "aaxis": {
             "endlinecolor": "#2a3f5f",
             "gridcolor": "white",
             "linecolor": "white",
             "minorgridcolor": "white",
             "startlinecolor": "#2a3f5f"
            },
            "baxis": {
             "endlinecolor": "#2a3f5f",
             "gridcolor": "white",
             "linecolor": "white",
             "minorgridcolor": "white",
             "startlinecolor": "#2a3f5f"
            },
            "type": "carpet"
           }
          ],
          "choropleth": [
           {
            "colorbar": {
             "outlinewidth": 0,
             "ticks": ""
            },
            "type": "choropleth"
           }
          ],
          "contour": [
           {
            "colorbar": {
             "outlinewidth": 0,
             "ticks": ""
            },
            "colorscale": [
             [
              0,
              "#0d0887"
             ],
             [
              0.1111111111111111,
              "#46039f"
             ],
             [
              0.2222222222222222,
              "#7201a8"
             ],
             [
              0.3333333333333333,
              "#9c179e"
             ],
             [
              0.4444444444444444,
              "#bd3786"
             ],
             [
              0.5555555555555556,
              "#d8576b"
             ],
             [
              0.6666666666666666,
              "#ed7953"
             ],
             [
              0.7777777777777778,
              "#fb9f3a"
             ],
             [
              0.8888888888888888,
              "#fdca26"
             ],
             [
              1,
              "#f0f921"
             ]
            ],
            "type": "contour"
           }
          ],
          "contourcarpet": [
           {
            "colorbar": {
             "outlinewidth": 0,
             "ticks": ""
            },
            "type": "contourcarpet"
           }
          ],
          "heatmap": [
           {
            "colorbar": {
             "outlinewidth": 0,
             "ticks": ""
            },
            "colorscale": [
             [
              0,
              "#0d0887"
             ],
             [
              0.1111111111111111,
              "#46039f"
             ],
             [
              0.2222222222222222,
              "#7201a8"
             ],
             [
              0.3333333333333333,
              "#9c179e"
             ],
             [
              0.4444444444444444,
              "#bd3786"
             ],
             [
              0.5555555555555556,
              "#d8576b"
             ],
             [
              0.6666666666666666,
              "#ed7953"
             ],
             [
              0.7777777777777778,
              "#fb9f3a"
             ],
             [
              0.8888888888888888,
              "#fdca26"
             ],
             [
              1,
              "#f0f921"
             ]
            ],
            "type": "heatmap"
           }
          ],
          "heatmapgl": [
           {
            "colorbar": {
             "outlinewidth": 0,
             "ticks": ""
            },
            "colorscale": [
             [
              0,
              "#0d0887"
             ],
             [
              0.1111111111111111,
              "#46039f"
             ],
             [
              0.2222222222222222,
              "#7201a8"
             ],
             [
              0.3333333333333333,
              "#9c179e"
             ],
             [
              0.4444444444444444,
              "#bd3786"
             ],
             [
              0.5555555555555556,
              "#d8576b"
             ],
             [
              0.6666666666666666,
              "#ed7953"
             ],
             [
              0.7777777777777778,
              "#fb9f3a"
             ],
             [
              0.8888888888888888,
              "#fdca26"
             ],
             [
              1,
              "#f0f921"
             ]
            ],
            "type": "heatmapgl"
           }
          ],
          "histogram": [
           {
            "marker": {
             "colorbar": {
              "outlinewidth": 0,
              "ticks": ""
             }
            },
            "type": "histogram"
           }
          ],
          "histogram2d": [
           {
            "colorbar": {
             "outlinewidth": 0,
             "ticks": ""
            },
            "colorscale": [
             [
              0,
              "#0d0887"
             ],
             [
              0.1111111111111111,
              "#46039f"
             ],
             [
              0.2222222222222222,
              "#7201a8"
             ],
             [
              0.3333333333333333,
              "#9c179e"
             ],
             [
              0.4444444444444444,
              "#bd3786"
             ],
             [
              0.5555555555555556,
              "#d8576b"
             ],
             [
              0.6666666666666666,
              "#ed7953"
             ],
             [
              0.7777777777777778,
              "#fb9f3a"
             ],
             [
              0.8888888888888888,
              "#fdca26"
             ],
             [
              1,
              "#f0f921"
             ]
            ],
            "type": "histogram2d"
           }
          ],
          "histogram2dcontour": [
           {
            "colorbar": {
             "outlinewidth": 0,
             "ticks": ""
            },
            "colorscale": [
             [
              0,
              "#0d0887"
             ],
             [
              0.1111111111111111,
              "#46039f"
             ],
             [
              0.2222222222222222,
              "#7201a8"
             ],
             [
              0.3333333333333333,
              "#9c179e"
             ],
             [
              0.4444444444444444,
              "#bd3786"
             ],
             [
              0.5555555555555556,
              "#d8576b"
             ],
             [
              0.6666666666666666,
              "#ed7953"
             ],
             [
              0.7777777777777778,
              "#fb9f3a"
             ],
             [
              0.8888888888888888,
              "#fdca26"
             ],
             [
              1,
              "#f0f921"
             ]
            ],
            "type": "histogram2dcontour"
           }
          ],
          "mesh3d": [
           {
            "colorbar": {
             "outlinewidth": 0,
             "ticks": ""
            },
            "type": "mesh3d"
           }
          ],
          "parcoords": [
           {
            "line": {
             "colorbar": {
              "outlinewidth": 0,
              "ticks": ""
             }
            },
            "type": "parcoords"
           }
          ],
          "pie": [
           {
            "automargin": true,
            "type": "pie"
           }
          ],
          "scatter": [
           {
            "marker": {
             "colorbar": {
              "outlinewidth": 0,
              "ticks": ""
             }
            },
            "type": "scatter"
           }
          ],
          "scatter3d": [
           {
            "line": {
             "colorbar": {
              "outlinewidth": 0,
              "ticks": ""
             }
            },
            "marker": {
             "colorbar": {
              "outlinewidth": 0,
              "ticks": ""
             }
            },
            "type": "scatter3d"
           }
          ],
          "scattercarpet": [
           {
            "marker": {
             "colorbar": {
              "outlinewidth": 0,
              "ticks": ""
             }
            },
            "type": "scattercarpet"
           }
          ],
          "scattergeo": [
           {
            "marker": {
             "colorbar": {
              "outlinewidth": 0,
              "ticks": ""
             }
            },
            "type": "scattergeo"
           }
          ],
          "scattergl": [
           {
            "marker": {
             "colorbar": {
              "outlinewidth": 0,
              "ticks": ""
             }
            },
            "type": "scattergl"
           }
          ],
          "scattermapbox": [
           {
            "marker": {
             "colorbar": {
              "outlinewidth": 0,
              "ticks": ""
             }
            },
            "type": "scattermapbox"
           }
          ],
          "scatterpolar": [
           {
            "marker": {
             "colorbar": {
              "outlinewidth": 0,
              "ticks": ""
             }
            },
            "type": "scatterpolar"
           }
          ],
          "scatterpolargl": [
           {
            "marker": {
             "colorbar": {
              "outlinewidth": 0,
              "ticks": ""
             }
            },
            "type": "scatterpolargl"
           }
          ],
          "scatterternary": [
           {
            "marker": {
             "colorbar": {
              "outlinewidth": 0,
              "ticks": ""
             }
            },
            "type": "scatterternary"
           }
          ],
          "surface": [
           {
            "colorbar": {
             "outlinewidth": 0,
             "ticks": ""
            },
            "colorscale": [
             [
              0,
              "#0d0887"
             ],
             [
              0.1111111111111111,
              "#46039f"
             ],
             [
              0.2222222222222222,
              "#7201a8"
             ],
             [
              0.3333333333333333,
              "#9c179e"
             ],
             [
              0.4444444444444444,
              "#bd3786"
             ],
             [
              0.5555555555555556,
              "#d8576b"
             ],
             [
              0.6666666666666666,
              "#ed7953"
             ],
             [
              0.7777777777777778,
              "#fb9f3a"
             ],
             [
              0.8888888888888888,
              "#fdca26"
             ],
             [
              1,
              "#f0f921"
             ]
            ],
            "type": "surface"
           }
          ],
          "table": [
           {
            "cells": {
             "fill": {
              "color": "#EBF0F8"
             },
             "line": {
              "color": "white"
             }
            },
            "header": {
             "fill": {
              "color": "#C8D4E3"
             },
             "line": {
              "color": "white"
             }
            },
            "type": "table"
           }
          ]
         },
         "layout": {
          "annotationdefaults": {
           "arrowcolor": "#2a3f5f",
           "arrowhead": 0,
           "arrowwidth": 1
          },
          "coloraxis": {
           "colorbar": {
            "outlinewidth": 0,
            "ticks": ""
           }
          },
          "colorscale": {
           "diverging": [
            [
             0,
             "#8e0152"
            ],
            [
             0.1,
             "#c51b7d"
            ],
            [
             0.2,
             "#de77ae"
            ],
            [
             0.3,
             "#f1b6da"
            ],
            [
             0.4,
             "#fde0ef"
            ],
            [
             0.5,
             "#f7f7f7"
            ],
            [
             0.6,
             "#e6f5d0"
            ],
            [
             0.7,
             "#b8e186"
            ],
            [
             0.8,
             "#7fbc41"
            ],
            [
             0.9,
             "#4d9221"
            ],
            [
             1,
             "#276419"
            ]
           ],
           "sequential": [
            [
             0,
             "#0d0887"
            ],
            [
             0.1111111111111111,
             "#46039f"
            ],
            [
             0.2222222222222222,
             "#7201a8"
            ],
            [
             0.3333333333333333,
             "#9c179e"
            ],
            [
             0.4444444444444444,
             "#bd3786"
            ],
            [
             0.5555555555555556,
             "#d8576b"
            ],
            [
             0.6666666666666666,
             "#ed7953"
            ],
            [
             0.7777777777777778,
             "#fb9f3a"
            ],
            [
             0.8888888888888888,
             "#fdca26"
            ],
            [
             1,
             "#f0f921"
            ]
           ],
           "sequentialminus": [
            [
             0,
             "#0d0887"
            ],
            [
             0.1111111111111111,
             "#46039f"
            ],
            [
             0.2222222222222222,
             "#7201a8"
            ],
            [
             0.3333333333333333,
             "#9c179e"
            ],
            [
             0.4444444444444444,
             "#bd3786"
            ],
            [
             0.5555555555555556,
             "#d8576b"
            ],
            [
             0.6666666666666666,
             "#ed7953"
            ],
            [
             0.7777777777777778,
             "#fb9f3a"
            ],
            [
             0.8888888888888888,
             "#fdca26"
            ],
            [
             1,
             "#f0f921"
            ]
           ]
          },
          "colorway": [
           "#636efa",
           "#EF553B",
           "#00cc96",
           "#ab63fa",
           "#FFA15A",
           "#19d3f3",
           "#FF6692",
           "#B6E880",
           "#FF97FF",
           "#FECB52"
          ],
          "font": {
           "color": "#2a3f5f"
          },
          "geo": {
           "bgcolor": "white",
           "lakecolor": "white",
           "landcolor": "#E5ECF6",
           "showlakes": true,
           "showland": true,
           "subunitcolor": "white"
          },
          "hoverlabel": {
           "align": "left"
          },
          "hovermode": "closest",
          "mapbox": {
           "style": "light"
          },
          "paper_bgcolor": "white",
          "plot_bgcolor": "#E5ECF6",
          "polar": {
           "angularaxis": {
            "gridcolor": "white",
            "linecolor": "white",
            "ticks": ""
           },
           "bgcolor": "#E5ECF6",
           "radialaxis": {
            "gridcolor": "white",
            "linecolor": "white",
            "ticks": ""
           }
          },
          "scene": {
           "xaxis": {
            "backgroundcolor": "#E5ECF6",
            "gridcolor": "white",
            "gridwidth": 2,
            "linecolor": "white",
            "showbackground": true,
            "ticks": "",
            "zerolinecolor": "white"
           },
           "yaxis": {
            "backgroundcolor": "#E5ECF6",
            "gridcolor": "white",
            "gridwidth": 2,
            "linecolor": "white",
            "showbackground": true,
            "ticks": "",
            "zerolinecolor": "white"
           },
           "zaxis": {
            "backgroundcolor": "#E5ECF6",
            "gridcolor": "white",
            "gridwidth": 2,
            "linecolor": "white",
            "showbackground": true,
            "ticks": "",
            "zerolinecolor": "white"
           }
          },
          "shapedefaults": {
           "line": {
            "color": "#2a3f5f"
           }
          },
          "ternary": {
           "aaxis": {
            "gridcolor": "white",
            "linecolor": "white",
            "ticks": ""
           },
           "baxis": {
            "gridcolor": "white",
            "linecolor": "white",
            "ticks": ""
           },
           "bgcolor": "#E5ECF6",
           "caxis": {
            "gridcolor": "white",
            "linecolor": "white",
            "ticks": ""
           }
          },
          "title": {
           "x": 0.05
          },
          "xaxis": {
           "automargin": true,
           "gridcolor": "white",
           "linecolor": "white",
           "ticks": "",
           "title": {
            "standoff": 15
           },
           "zerolinecolor": "white",
           "zerolinewidth": 2
          },
          "yaxis": {
           "automargin": true,
           "gridcolor": "white",
           "linecolor": "white",
           "ticks": "",
           "title": {
            "standoff": 15
           },
           "zerolinecolor": "white",
           "zerolinewidth": 2
          }
         }
        },
        "treemapcolorway": [
         "rgb(158,1,66)",
         "rgb(213,62,79)",
         "rgb(244,109,67)",
         "rgb(253,174,97)",
         "rgb(254,224,139)",
         "rgb(255,255,191)",
         "rgb(230,245,152)",
         "rgb(171,221,164)",
         "rgb(102,194,165)",
         "rgb(50,136,189)",
         "rgb(94,79,162)"
        ]
       }
      },
      "text/html": [
       "<div>\n",
       "        \n",
       "        \n",
       "            <div id=\"7b34772b-9909-4aee-97b9-7705c64d25d6\" class=\"plotly-graph-div\" style=\"height:600px; width:100%;\"></div>\n",
       "            <script type=\"text/javascript\">\n",
       "                require([\"plotly\"], function(Plotly) {\n",
       "                    window.PLOTLYENV=window.PLOTLYENV || {};\n",
       "                    \n",
       "                if (document.getElementById(\"7b34772b-9909-4aee-97b9-7705c64d25d6\")) {\n",
       "                    Plotly.newPlot(\n",
       "                        '7b34772b-9909-4aee-97b9-7705c64d25d6',\n",
       "                        [{\"branchvalues\": \"total\", \"customdata\": [[\"modern science\"], [\"religious forms\"], [\"great philosophers\"], [\"moral justification\"], [\"philosophy of law\"], [\"social cognition\"], [\"third step I\"], [\"Maimon\"], [\"legal theory\"], [\"way of life\"], [\"academic philosophy\"], [\"moral virtue\"], [\"ethics education\"], [\"epistemic rationality\"], [\"practical philosophy\"], [\"central aspect\"], [\"philosophical position\"], [\"empirical science\"], [\"later dialogues\"], [\"Kantian idea\"], [\"liberal conception\"], [\"political context\"], [\"medical assistance\"], [\"mathematical objects\"], [\"religious history\"], [\"critical discussion\"], [\"Reinhold\"], [\"interpretive approach\"], [\"Heidegger\\u2019s philosophy\"], [\"constitutive norms\"], [\"theological ethics\"], [\"system of ethics\"], [\"mindreading\"], [\"study of religion\"], [\"Tamil literary history\"], [\"normative significance\"], [\"ethical perspective\"], [\"point of departure\"], [\"particular kind\"], [\"kind of theory\"], [\"Ved\\u0101nta\"], [\"Frank Ramsey\"], [\"intellectual history\"], [\"moral philosophers\"], [\"ethics of generosity\"], [\"human good\"], [\"literary history\"], [\"philosophical arguments\"], [\"Jewish philosophy\"], [\"South Asia\"], [\"Tamil literature\"], [\"classical Confucianism\"], [\"moral law\"], [\"(?)\"], [\"(?)\"], [\"(?)\"], [\"(?)\"], [\"(?)\"], [\"(?)\"], [\"(?)\"], [\"(?)\"], [\"(?)\"], [\"(?)\"], [\"(?)\"]], \"domain\": {\"x\": [0.0, 1.0], \"y\": [0.0, 1.0]}, \"hovertemplate\": \"labels=%{label}<br>frequency=%{value}<br>parent=%{parent}<br>id=%{id}<br>concept=%{customdata[0]}<extra></extra>\", \"ids\": [\"2013/modern science\", \"2010/religious forms\", \"2014/great philosophers\", \"2019/moral justification\", \"2013/philosophy of law\", \"2017/social cognition\", \"2010/third step I\", \"2019/Maimon\", \"2013/legal theory\", \"2018/way of life\", \"2015/academic philosophy\", \"2018/moral virtue\", \"2018/ethics education\", \"2016/epistemic rationality\", \"2012/practical philosophy\", \"2017/central aspect\", \"2014/philosophical position\", \"2018/empirical science\", \"2010/later dialogues\", \"2012/Kantian idea\", \"2010/liberal conception\", \"2013/political context\", \"2019/medical assistance\", \"2017/mathematical objects\", \"2011/religious history\", \"2016/critical discussion\", \"2019/Reinhold\", \"2012/interpretive approach\", \"2016/Heidegger\\u2019s philosophy\", \"2014/constitutive norms\", \"2012/theological ethics\", \"2019/system of ethics\", \"2020/mindreading\", \"2015/study of religion\", \"2011/Tamil literary history\", \"2015/normative significance\", \"2014/ethical perspective\", \"2010/point of departure\", \"2013/particular kind\", \"2016/kind of theory\", \"2020/Ved\\u0101nta\", \"2016/Frank Ramsey\", \"2012/intellectual history\", \"2015/moral philosophers\", \"2018/ethics of generosity\", \"2017/human good\", \"2011/literary history\", \"2017/philosophical arguments\", \"2011/Jewish philosophy\", \"2020/South Asia\", \"2011/Tamil literature\", \"2014/classical Confucianism\", \"2015/moral law\", \"2010\", \"2011\", \"2012\", \"2013\", \"2014\", \"2015\", \"2016\", \"2017\", \"2018\", \"2019\", \"2020\"], \"labels\": [\"modern science\", \"religious forms\", \"great philosophers\", \"moral justification\", \"philosophy of law\", \"social cognition\", \"third step I\", \"Maimon\", \"legal theory\", \"way of life\", \"academic philosophy\", \"moral virtue\", \"ethics education\", \"epistemic rationality\", \"practical philosophy\", \"central aspect\", \"philosophical position\", \"empirical science\", \"later dialogues\", \"Kantian idea\", \"liberal conception\", \"political context\", \"medical assistance\", \"mathematical objects\", \"religious history\", \"critical discussion\", \"Reinhold\", \"interpretive approach\", \"Heidegger\\u2019s philosophy\", \"constitutive norms\", \"theological ethics\", \"system of ethics\", \"mindreading\", \"study of religion\", \"Tamil literary history\", \"normative significance\", \"ethical perspective\", \"point of departure\", \"particular kind\", \"kind of theory\", \"Ved\\u0101nta\", \"Frank Ramsey\", \"intellectual history\", \"moral philosophers\", \"ethics of generosity\", \"human good\", \"literary history\", \"philosophical arguments\", \"Jewish philosophy\", \"South Asia\", \"Tamil literature\", \"classical Confucianism\", \"moral law\", \"2010\", \"2011\", \"2012\", \"2013\", \"2014\", \"2015\", \"2016\", \"2017\", \"2018\", \"2019\", \"2020\"], \"marker\": {\"colors\": [\"rgb(158,1,66)\", \"rgb(213,62,79)\", \"rgb(244,109,67)\", \"rgb(253,174,97)\", \"rgb(254,224,139)\", \"rgb(255,255,191)\", \"rgb(230,245,152)\", \"rgb(171,221,164)\", \"rgb(102,194,165)\", \"rgb(50,136,189)\", \"rgb(94,79,162)\", \"rgb(158,1,66)\", \"rgb(213,62,79)\", \"rgb(244,109,67)\", \"rgb(253,174,97)\", \"rgb(254,224,139)\", \"rgb(255,255,191)\", \"rgb(230,245,152)\", \"rgb(171,221,164)\", \"rgb(102,194,165)\", \"rgb(50,136,189)\", \"rgb(94,79,162)\", \"rgb(158,1,66)\", \"rgb(213,62,79)\", \"rgb(244,109,67)\", \"rgb(253,174,97)\", \"rgb(254,224,139)\", \"rgb(255,255,191)\", \"rgb(230,245,152)\", \"rgb(171,221,164)\", \"rgb(102,194,165)\", \"rgb(50,136,189)\", \"rgb(94,79,162)\", \"rgb(158,1,66)\", \"rgb(213,62,79)\", \"rgb(244,109,67)\", \"rgb(253,174,97)\", \"rgb(254,224,139)\", \"rgb(255,255,191)\", \"rgb(230,245,152)\", \"rgb(171,221,164)\", \"rgb(102,194,165)\", \"rgb(50,136,189)\", \"rgb(94,79,162)\", \"rgb(158,1,66)\", \"rgb(213,62,79)\", \"rgb(244,109,67)\", \"rgb(253,174,97)\", \"rgb(254,224,139)\", \"rgb(255,255,191)\", \"rgb(230,245,152)\", \"rgb(171,221,164)\", \"rgb(102,194,165)\", \"rgb(50,136,189)\", \"rgb(50,136,189)\", \"rgb(50,136,189)\", \"rgb(50,136,189)\", \"rgb(50,136,189)\", \"rgb(50,136,189)\", \"rgb(50,136,189)\", \"rgb(50,136,189)\", \"rgb(50,136,189)\", \"rgb(50,136,189)\", \"rgb(50,136,189)\"]}, \"name\": \"\", \"parents\": [\"2013\", \"2010\", \"2014\", \"2019\", \"2013\", \"2017\", \"2010\", \"2019\", \"2013\", \"2018\", \"2015\", \"2018\", \"2018\", \"2016\", \"2012\", \"2017\", \"2014\", \"2018\", \"2010\", \"2012\", \"2010\", \"2013\", \"2019\", \"2017\", \"2011\", \"2016\", \"2019\", \"2012\", \"2016\", \"2014\", \"2012\", \"2019\", \"2020\", \"2015\", \"2011\", \"2015\", \"2014\", \"2010\", \"2013\", \"2016\", \"2020\", \"2016\", \"2012\", \"2015\", \"2018\", \"2017\", \"2011\", \"2017\", \"2011\", \"2020\", \"2011\", \"2014\", \"2015\", \"\", \"\", \"\", \"\", \"\", \"\", \"\", \"\", \"\", \"\", \"\"], \"type\": \"treemap\", \"values\": [3, 2, 2, 2, 2, 3, 2, 2, 2, 2, 2, 2, 2, 2, 2, 2, 2, 2, 2, 2, 2, 3, 2, 2, 2, 2, 2, 2, 2, 2, 2, 2, 2, 2, 2, 3, 3, 2, 2, 2, 2, 2, 3, 3, 2, 2, 2, 2, 2, 2, 2, 2, 4, 10, 10, 11, 12, 11, 14, 10, 11, 10, 10, 6]}],\n",
       "                        {\"height\": 600, \"legend\": {\"tracegroupgap\": 0}, \"margin\": {\"t\": 60}, \"template\": {\"data\": {\"bar\": [{\"error_x\": {\"color\": \"#2a3f5f\"}, \"error_y\": {\"color\": \"#2a3f5f\"}, \"marker\": {\"line\": {\"color\": \"#E5ECF6\", \"width\": 0.5}}, \"type\": \"bar\"}], \"barpolar\": [{\"marker\": {\"line\": {\"color\": \"#E5ECF6\", \"width\": 0.5}}, \"type\": \"barpolar\"}], \"carpet\": [{\"aaxis\": {\"endlinecolor\": \"#2a3f5f\", \"gridcolor\": \"white\", \"linecolor\": \"white\", \"minorgridcolor\": \"white\", \"startlinecolor\": \"#2a3f5f\"}, \"baxis\": {\"endlinecolor\": \"#2a3f5f\", \"gridcolor\": \"white\", \"linecolor\": \"white\", \"minorgridcolor\": \"white\", \"startlinecolor\": \"#2a3f5f\"}, \"type\": \"carpet\"}], \"choropleth\": [{\"colorbar\": {\"outlinewidth\": 0, \"ticks\": \"\"}, \"type\": \"choropleth\"}], \"contour\": [{\"colorbar\": {\"outlinewidth\": 0, \"ticks\": \"\"}, \"colorscale\": [[0.0, \"#0d0887\"], [0.1111111111111111, \"#46039f\"], [0.2222222222222222, \"#7201a8\"], [0.3333333333333333, \"#9c179e\"], [0.4444444444444444, \"#bd3786\"], [0.5555555555555556, \"#d8576b\"], [0.6666666666666666, \"#ed7953\"], [0.7777777777777778, \"#fb9f3a\"], [0.8888888888888888, \"#fdca26\"], [1.0, \"#f0f921\"]], \"type\": \"contour\"}], \"contourcarpet\": [{\"colorbar\": {\"outlinewidth\": 0, \"ticks\": \"\"}, \"type\": \"contourcarpet\"}], \"heatmap\": [{\"colorbar\": {\"outlinewidth\": 0, \"ticks\": \"\"}, \"colorscale\": [[0.0, \"#0d0887\"], [0.1111111111111111, \"#46039f\"], [0.2222222222222222, \"#7201a8\"], [0.3333333333333333, \"#9c179e\"], [0.4444444444444444, \"#bd3786\"], [0.5555555555555556, \"#d8576b\"], [0.6666666666666666, \"#ed7953\"], [0.7777777777777778, \"#fb9f3a\"], [0.8888888888888888, \"#fdca26\"], [1.0, \"#f0f921\"]], \"type\": \"heatmap\"}], \"heatmapgl\": [{\"colorbar\": {\"outlinewidth\": 0, \"ticks\": \"\"}, \"colorscale\": [[0.0, \"#0d0887\"], [0.1111111111111111, \"#46039f\"], [0.2222222222222222, \"#7201a8\"], [0.3333333333333333, \"#9c179e\"], [0.4444444444444444, \"#bd3786\"], [0.5555555555555556, \"#d8576b\"], [0.6666666666666666, \"#ed7953\"], [0.7777777777777778, \"#fb9f3a\"], [0.8888888888888888, \"#fdca26\"], [1.0, \"#f0f921\"]], \"type\": \"heatmapgl\"}], \"histogram\": [{\"marker\": {\"colorbar\": {\"outlinewidth\": 0, \"ticks\": \"\"}}, \"type\": \"histogram\"}], \"histogram2d\": [{\"colorbar\": {\"outlinewidth\": 0, \"ticks\": \"\"}, \"colorscale\": [[0.0, \"#0d0887\"], [0.1111111111111111, \"#46039f\"], [0.2222222222222222, \"#7201a8\"], [0.3333333333333333, \"#9c179e\"], [0.4444444444444444, \"#bd3786\"], [0.5555555555555556, \"#d8576b\"], [0.6666666666666666, \"#ed7953\"], [0.7777777777777778, \"#fb9f3a\"], [0.8888888888888888, \"#fdca26\"], [1.0, \"#f0f921\"]], \"type\": \"histogram2d\"}], \"histogram2dcontour\": [{\"colorbar\": {\"outlinewidth\": 0, \"ticks\": \"\"}, \"colorscale\": [[0.0, \"#0d0887\"], [0.1111111111111111, \"#46039f\"], [0.2222222222222222, \"#7201a8\"], [0.3333333333333333, \"#9c179e\"], [0.4444444444444444, \"#bd3786\"], [0.5555555555555556, \"#d8576b\"], [0.6666666666666666, \"#ed7953\"], [0.7777777777777778, \"#fb9f3a\"], [0.8888888888888888, \"#fdca26\"], [1.0, \"#f0f921\"]], \"type\": \"histogram2dcontour\"}], \"mesh3d\": [{\"colorbar\": {\"outlinewidth\": 0, \"ticks\": \"\"}, \"type\": \"mesh3d\"}], \"parcoords\": [{\"line\": {\"colorbar\": {\"outlinewidth\": 0, \"ticks\": \"\"}}, \"type\": \"parcoords\"}], \"pie\": [{\"automargin\": true, \"type\": \"pie\"}], \"scatter\": [{\"marker\": {\"colorbar\": {\"outlinewidth\": 0, \"ticks\": \"\"}}, \"type\": \"scatter\"}], \"scatter3d\": [{\"line\": {\"colorbar\": {\"outlinewidth\": 0, \"ticks\": \"\"}}, \"marker\": {\"colorbar\": {\"outlinewidth\": 0, \"ticks\": \"\"}}, \"type\": \"scatter3d\"}], \"scattercarpet\": [{\"marker\": {\"colorbar\": {\"outlinewidth\": 0, \"ticks\": \"\"}}, \"type\": \"scattercarpet\"}], \"scattergeo\": [{\"marker\": {\"colorbar\": {\"outlinewidth\": 0, \"ticks\": \"\"}}, \"type\": \"scattergeo\"}], \"scattergl\": [{\"marker\": {\"colorbar\": {\"outlinewidth\": 0, \"ticks\": \"\"}}, \"type\": \"scattergl\"}], \"scattermapbox\": [{\"marker\": {\"colorbar\": {\"outlinewidth\": 0, \"ticks\": \"\"}}, \"type\": \"scattermapbox\"}], \"scatterpolar\": [{\"marker\": {\"colorbar\": {\"outlinewidth\": 0, \"ticks\": \"\"}}, \"type\": \"scatterpolar\"}], \"scatterpolargl\": [{\"marker\": {\"colorbar\": {\"outlinewidth\": 0, \"ticks\": \"\"}}, \"type\": \"scatterpolargl\"}], \"scatterternary\": [{\"marker\": {\"colorbar\": {\"outlinewidth\": 0, \"ticks\": \"\"}}, \"type\": \"scatterternary\"}], \"surface\": [{\"colorbar\": {\"outlinewidth\": 0, \"ticks\": \"\"}, \"colorscale\": [[0.0, \"#0d0887\"], [0.1111111111111111, \"#46039f\"], [0.2222222222222222, \"#7201a8\"], [0.3333333333333333, \"#9c179e\"], [0.4444444444444444, \"#bd3786\"], [0.5555555555555556, \"#d8576b\"], [0.6666666666666666, \"#ed7953\"], [0.7777777777777778, \"#fb9f3a\"], [0.8888888888888888, \"#fdca26\"], [1.0, \"#f0f921\"]], \"type\": \"surface\"}], \"table\": [{\"cells\": {\"fill\": {\"color\": \"#EBF0F8\"}, \"line\": {\"color\": \"white\"}}, \"header\": {\"fill\": {\"color\": \"#C8D4E3\"}, \"line\": {\"color\": \"white\"}}, \"type\": \"table\"}]}, \"layout\": {\"annotationdefaults\": {\"arrowcolor\": \"#2a3f5f\", \"arrowhead\": 0, \"arrowwidth\": 1}, \"coloraxis\": {\"colorbar\": {\"outlinewidth\": 0, \"ticks\": \"\"}}, \"colorscale\": {\"diverging\": [[0, \"#8e0152\"], [0.1, \"#c51b7d\"], [0.2, \"#de77ae\"], [0.3, \"#f1b6da\"], [0.4, \"#fde0ef\"], [0.5, \"#f7f7f7\"], [0.6, \"#e6f5d0\"], [0.7, \"#b8e186\"], [0.8, \"#7fbc41\"], [0.9, \"#4d9221\"], [1, \"#276419\"]], \"sequential\": [[0.0, \"#0d0887\"], [0.1111111111111111, \"#46039f\"], [0.2222222222222222, \"#7201a8\"], [0.3333333333333333, \"#9c179e\"], [0.4444444444444444, \"#bd3786\"], [0.5555555555555556, \"#d8576b\"], [0.6666666666666666, \"#ed7953\"], [0.7777777777777778, \"#fb9f3a\"], [0.8888888888888888, \"#fdca26\"], [1.0, \"#f0f921\"]], \"sequentialminus\": [[0.0, \"#0d0887\"], [0.1111111111111111, \"#46039f\"], [0.2222222222222222, \"#7201a8\"], [0.3333333333333333, \"#9c179e\"], [0.4444444444444444, \"#bd3786\"], [0.5555555555555556, \"#d8576b\"], [0.6666666666666666, \"#ed7953\"], [0.7777777777777778, \"#fb9f3a\"], [0.8888888888888888, \"#fdca26\"], [1.0, \"#f0f921\"]]}, \"colorway\": [\"#636efa\", \"#EF553B\", \"#00cc96\", \"#ab63fa\", \"#FFA15A\", \"#19d3f3\", \"#FF6692\", \"#B6E880\", \"#FF97FF\", \"#FECB52\"], \"font\": {\"color\": \"#2a3f5f\"}, \"geo\": {\"bgcolor\": \"white\", \"lakecolor\": \"white\", \"landcolor\": \"#E5ECF6\", \"showlakes\": true, \"showland\": true, \"subunitcolor\": \"white\"}, \"hoverlabel\": {\"align\": \"left\"}, \"hovermode\": \"closest\", \"mapbox\": {\"style\": \"light\"}, \"paper_bgcolor\": \"white\", \"plot_bgcolor\": \"#E5ECF6\", \"polar\": {\"angularaxis\": {\"gridcolor\": \"white\", \"linecolor\": \"white\", \"ticks\": \"\"}, \"bgcolor\": \"#E5ECF6\", \"radialaxis\": {\"gridcolor\": \"white\", \"linecolor\": \"white\", \"ticks\": \"\"}}, \"scene\": {\"xaxis\": {\"backgroundcolor\": \"#E5ECF6\", \"gridcolor\": \"white\", \"gridwidth\": 2, \"linecolor\": \"white\", \"showbackground\": true, \"ticks\": \"\", \"zerolinecolor\": \"white\"}, \"yaxis\": {\"backgroundcolor\": \"#E5ECF6\", \"gridcolor\": \"white\", \"gridwidth\": 2, \"linecolor\": \"white\", \"showbackground\": true, \"ticks\": \"\", \"zerolinecolor\": \"white\"}, \"zaxis\": {\"backgroundcolor\": \"#E5ECF6\", \"gridcolor\": \"white\", \"gridwidth\": 2, \"linecolor\": \"white\", \"showbackground\": true, \"ticks\": \"\", \"zerolinecolor\": \"white\"}}, \"shapedefaults\": {\"line\": {\"color\": \"#2a3f5f\"}}, \"ternary\": {\"aaxis\": {\"gridcolor\": \"white\", \"linecolor\": \"white\", \"ticks\": \"\"}, \"baxis\": {\"gridcolor\": \"white\", \"linecolor\": \"white\", \"ticks\": \"\"}, \"bgcolor\": \"#E5ECF6\", \"caxis\": {\"gridcolor\": \"white\", \"linecolor\": \"white\", \"ticks\": \"\"}}, \"title\": {\"x\": 0.05}, \"xaxis\": {\"automargin\": true, \"gridcolor\": \"white\", \"linecolor\": \"white\", \"ticks\": \"\", \"title\": {\"standoff\": 15}, \"zerolinecolor\": \"white\", \"zerolinewidth\": 2}, \"yaxis\": {\"automargin\": true, \"gridcolor\": \"white\", \"linecolor\": \"white\", \"ticks\": \"\", \"title\": {\"standoff\": 15}, \"zerolinecolor\": \"white\", \"zerolinewidth\": 2}}}, \"treemapcolorway\": [\"rgb(158,1,66)\", \"rgb(213,62,79)\", \"rgb(244,109,67)\", \"rgb(253,174,97)\", \"rgb(254,224,139)\", \"rgb(255,255,191)\", \"rgb(230,245,152)\", \"rgb(171,221,164)\", \"rgb(102,194,165)\", \"rgb(50,136,189)\", \"rgb(94,79,162)\"]},\n",
       "                        {\"responsive\": true}\n",
       "                    ).then(function(){\n",
       "                            \n",
       "var gd = document.getElementById('7b34772b-9909-4aee-97b9-7705c64d25d6');\n",
       "var x = new MutationObserver(function (mutations, observer) {{\n",
       "        var display = window.getComputedStyle(gd).display;\n",
       "        if (!display || display === 'none') {{\n",
       "            console.log([gd, 'removed!']);\n",
       "            Plotly.purge(gd);\n",
       "            observer.disconnect();\n",
       "        }}\n",
       "}});\n",
       "\n",
       "// Listen for the removal of the full notebook cells\n",
       "var notebookContainer = gd.closest('#notebook-container');\n",
       "if (notebookContainer) {{\n",
       "    x.observe(notebookContainer, {childList: true});\n",
       "}}\n",
       "\n",
       "// Listen for the clearing of the current output cell\n",
       "var outputEl = gd.closest('.output');\n",
       "if (outputEl) {{\n",
       "    x.observe(outputEl, {childList: true});\n",
       "}}\n",
       "\n",
       "                        })\n",
       "                };\n",
       "                });\n",
       "            </script>\n",
       "        </div>"
      ]
     },
     "metadata": {},
     "output_type": "display_data"
    }
   ],
   "source": [
    "# enrich initial dataframe by adding 'first_year' \n",
    "concepts[\"first_year\"] = concepts.groupby('concept')['year'].transform('min')\n",
    "concepts_unique = concepts.drop_duplicates(\"concept\")[['concept', 'frequency', 'score_avg', 'first_year']]\n",
    "\n",
    "#@markdown ## Emerging concepts: parameters\n",
    "#@markdown Start year of the publications/concepts to include\n",
    "YEAR_START = 2010 #@param {type:\"integer\"}\n",
    "#@markdown How many 'emerging' concepts to retain, for each year\n",
    "CONCEPTS_PER_YEAR = 5 #@param {type:\"integer\"}\n",
    "\n",
    "\n",
    "#\n",
    "# note: we reuse the freq/score threasholds above in order to focus on concepts of interest\n",
    "emerging_concepts = concepts_unique.query(f\"\"\"first_year >= {YEAR_START}\"\"\")\\\n",
    "                    .query(f\"\"\"frequency >= {FREQ_MIN} & frequency <= {FREQ_MAX} & score_avg >= {SCORE_MIN} \"\"\")\\\n",
    "                    .sort_values([\"score_avg\", \"frequency\"], ascending=False)\\\n",
    "                    .groupby(\"first_year\").head(CONCEPTS_PER_YEAR)\n",
    "\n",
    "px.treemap(emerging_concepts,\n",
    "           path=['first_year', 'concept'],\n",
    "           values='frequency',\n",
    "           color=\"concept\",\n",
    "           color_discrete_sequence=px.colors.diverging.Spectral,\n",
    "           height=600,\n",
    "          )"
   ]
  },
  {
   "cell_type": "markdown",
   "metadata": {
    "Collapsed": "false",
    "colab_type": "text",
    "id": "H-lsX5zxcf-o"
   },
   "source": [
    "## 5. Trend Analysis: topics growth \n",
    "\n",
    "If we focus on concepts that appear across multiple years, it is pretty interesting to examine their growth / decrease by comparing their frequency (or score) across those years. "
   ]
  },
  {
   "cell_type": "code",
   "execution_count": 6,
   "metadata": {
    "Collapsed": "false",
    "colab": {
     "base_uri": "https://localhost:8080/",
     "height": 542
    },
    "colab_type": "code",
    "executionInfo": {
     "elapsed": 503,
     "status": "ok",
     "timestamp": 1593634218553,
     "user": {
      "displayName": "Michele Pasin",
      "photoUrl": "https://lh3.googleusercontent.com/a-/AOh14GiYfmLTPbeMuYDDrETLbTVXTXnfVr9f7eBtkmR73A=s64",
      "userId": "10309320684375994511"
     },
     "user_tz": -60
    },
    "id": "SD6TP_r48I1a",
    "outputId": "45b64c9d-4d9c-4b6d-c43f-8daec0f5e82b"
   },
   "outputs": [
    {
     "data": {
      "application/vnd.plotly.v1+json": {
       "config": {
        "plotlyServerURL": "https://plot.ly"
       },
       "data": [
        {
         "hovertemplate": "concept=philosophers<br>year=%{x}<br>frequency_year=%{y}<extra></extra>",
         "legendgroup": "philosophers",
         "line": {
          "color": "#636efa",
          "dash": "solid"
         },
         "mode": "lines",
         "name": "philosophers",
         "orientation": "v",
         "showlegend": true,
         "type": "scatter",
         "x": [
          1997,
          1998,
          1999,
          2001,
          2002,
          2007,
          2008,
          2009,
          2010,
          2011,
          2014,
          2015,
          2016,
          2017,
          2018,
          2019,
          2020
         ],
         "xaxis": "x",
         "y": [
          1,
          2,
          1,
          1,
          3,
          3,
          4,
          4,
          6,
          2,
          4,
          3,
          4,
          12,
          4,
          5,
          1
         ],
         "yaxis": "y"
        },
        {
         "hovertemplate": "concept=justice<br>year=%{x}<br>frequency_year=%{y}<extra></extra>",
         "legendgroup": "justice",
         "line": {
          "color": "#EF553B",
          "dash": "solid"
         },
         "mode": "lines",
         "name": "justice",
         "orientation": "v",
         "showlegend": true,
         "type": "scatter",
         "x": [
          1997,
          1998,
          1999,
          2002,
          2006,
          2008,
          2010,
          2011,
          2012,
          2013,
          2014,
          2015,
          2016,
          2017,
          2018,
          2019,
          2020
         ],
         "xaxis": "x",
         "y": [
          1,
          1,
          2,
          1,
          4,
          2,
          2,
          3,
          3,
          1,
          4,
          2,
          3,
          2,
          5,
          1,
          1
         ],
         "yaxis": "y"
        },
        {
         "hovertemplate": "concept=mind<br>year=%{x}<br>frequency_year=%{y}<extra></extra>",
         "legendgroup": "mind",
         "line": {
          "color": "#00cc96",
          "dash": "solid"
         },
         "mode": "lines",
         "name": "mind",
         "orientation": "v",
         "showlegend": true,
         "type": "scatter",
         "x": [
          1998,
          1999,
          2001,
          2002,
          2004,
          2006,
          2007,
          2008,
          2009,
          2010,
          2011,
          2012,
          2013,
          2014,
          2015,
          2016,
          2017,
          2018,
          2019,
          2020
         ],
         "xaxis": "x",
         "y": [
          1,
          1,
          1,
          1,
          1,
          3,
          3,
          4,
          1,
          4,
          1,
          1,
          5,
          1,
          2,
          4,
          5,
          6,
          1,
          2
         ],
         "yaxis": "y"
        }
       ],
       "layout": {
        "autosize": true,
        "legend": {
         "title": {
          "text": "concept"
         },
         "tracegroupgap": 0
        },
        "margin": {
         "t": 60
        },
        "template": {
         "data": {
          "bar": [
           {
            "error_x": {
             "color": "#2a3f5f"
            },
            "error_y": {
             "color": "#2a3f5f"
            },
            "marker": {
             "line": {
              "color": "#E5ECF6",
              "width": 0.5
             }
            },
            "type": "bar"
           }
          ],
          "barpolar": [
           {
            "marker": {
             "line": {
              "color": "#E5ECF6",
              "width": 0.5
             }
            },
            "type": "barpolar"
           }
          ],
          "carpet": [
           {
            "aaxis": {
             "endlinecolor": "#2a3f5f",
             "gridcolor": "white",
             "linecolor": "white",
             "minorgridcolor": "white",
             "startlinecolor": "#2a3f5f"
            },
            "baxis": {
             "endlinecolor": "#2a3f5f",
             "gridcolor": "white",
             "linecolor": "white",
             "minorgridcolor": "white",
             "startlinecolor": "#2a3f5f"
            },
            "type": "carpet"
           }
          ],
          "choropleth": [
           {
            "colorbar": {
             "outlinewidth": 0,
             "ticks": ""
            },
            "type": "choropleth"
           }
          ],
          "contour": [
           {
            "colorbar": {
             "outlinewidth": 0,
             "ticks": ""
            },
            "colorscale": [
             [
              0,
              "#0d0887"
             ],
             [
              0.1111111111111111,
              "#46039f"
             ],
             [
              0.2222222222222222,
              "#7201a8"
             ],
             [
              0.3333333333333333,
              "#9c179e"
             ],
             [
              0.4444444444444444,
              "#bd3786"
             ],
             [
              0.5555555555555556,
              "#d8576b"
             ],
             [
              0.6666666666666666,
              "#ed7953"
             ],
             [
              0.7777777777777778,
              "#fb9f3a"
             ],
             [
              0.8888888888888888,
              "#fdca26"
             ],
             [
              1,
              "#f0f921"
             ]
            ],
            "type": "contour"
           }
          ],
          "contourcarpet": [
           {
            "colorbar": {
             "outlinewidth": 0,
             "ticks": ""
            },
            "type": "contourcarpet"
           }
          ],
          "heatmap": [
           {
            "colorbar": {
             "outlinewidth": 0,
             "ticks": ""
            },
            "colorscale": [
             [
              0,
              "#0d0887"
             ],
             [
              0.1111111111111111,
              "#46039f"
             ],
             [
              0.2222222222222222,
              "#7201a8"
             ],
             [
              0.3333333333333333,
              "#9c179e"
             ],
             [
              0.4444444444444444,
              "#bd3786"
             ],
             [
              0.5555555555555556,
              "#d8576b"
             ],
             [
              0.6666666666666666,
              "#ed7953"
             ],
             [
              0.7777777777777778,
              "#fb9f3a"
             ],
             [
              0.8888888888888888,
              "#fdca26"
             ],
             [
              1,
              "#f0f921"
             ]
            ],
            "type": "heatmap"
           }
          ],
          "heatmapgl": [
           {
            "colorbar": {
             "outlinewidth": 0,
             "ticks": ""
            },
            "colorscale": [
             [
              0,
              "#0d0887"
             ],
             [
              0.1111111111111111,
              "#46039f"
             ],
             [
              0.2222222222222222,
              "#7201a8"
             ],
             [
              0.3333333333333333,
              "#9c179e"
             ],
             [
              0.4444444444444444,
              "#bd3786"
             ],
             [
              0.5555555555555556,
              "#d8576b"
             ],
             [
              0.6666666666666666,
              "#ed7953"
             ],
             [
              0.7777777777777778,
              "#fb9f3a"
             ],
             [
              0.8888888888888888,
              "#fdca26"
             ],
             [
              1,
              "#f0f921"
             ]
            ],
            "type": "heatmapgl"
           }
          ],
          "histogram": [
           {
            "marker": {
             "colorbar": {
              "outlinewidth": 0,
              "ticks": ""
             }
            },
            "type": "histogram"
           }
          ],
          "histogram2d": [
           {
            "colorbar": {
             "outlinewidth": 0,
             "ticks": ""
            },
            "colorscale": [
             [
              0,
              "#0d0887"
             ],
             [
              0.1111111111111111,
              "#46039f"
             ],
             [
              0.2222222222222222,
              "#7201a8"
             ],
             [
              0.3333333333333333,
              "#9c179e"
             ],
             [
              0.4444444444444444,
              "#bd3786"
             ],
             [
              0.5555555555555556,
              "#d8576b"
             ],
             [
              0.6666666666666666,
              "#ed7953"
             ],
             [
              0.7777777777777778,
              "#fb9f3a"
             ],
             [
              0.8888888888888888,
              "#fdca26"
             ],
             [
              1,
              "#f0f921"
             ]
            ],
            "type": "histogram2d"
           }
          ],
          "histogram2dcontour": [
           {
            "colorbar": {
             "outlinewidth": 0,
             "ticks": ""
            },
            "colorscale": [
             [
              0,
              "#0d0887"
             ],
             [
              0.1111111111111111,
              "#46039f"
             ],
             [
              0.2222222222222222,
              "#7201a8"
             ],
             [
              0.3333333333333333,
              "#9c179e"
             ],
             [
              0.4444444444444444,
              "#bd3786"
             ],
             [
              0.5555555555555556,
              "#d8576b"
             ],
             [
              0.6666666666666666,
              "#ed7953"
             ],
             [
              0.7777777777777778,
              "#fb9f3a"
             ],
             [
              0.8888888888888888,
              "#fdca26"
             ],
             [
              1,
              "#f0f921"
             ]
            ],
            "type": "histogram2dcontour"
           }
          ],
          "mesh3d": [
           {
            "colorbar": {
             "outlinewidth": 0,
             "ticks": ""
            },
            "type": "mesh3d"
           }
          ],
          "parcoords": [
           {
            "line": {
             "colorbar": {
              "outlinewidth": 0,
              "ticks": ""
             }
            },
            "type": "parcoords"
           }
          ],
          "pie": [
           {
            "automargin": true,
            "type": "pie"
           }
          ],
          "scatter": [
           {
            "marker": {
             "colorbar": {
              "outlinewidth": 0,
              "ticks": ""
             }
            },
            "type": "scatter"
           }
          ],
          "scatter3d": [
           {
            "line": {
             "colorbar": {
              "outlinewidth": 0,
              "ticks": ""
             }
            },
            "marker": {
             "colorbar": {
              "outlinewidth": 0,
              "ticks": ""
             }
            },
            "type": "scatter3d"
           }
          ],
          "scattercarpet": [
           {
            "marker": {
             "colorbar": {
              "outlinewidth": 0,
              "ticks": ""
             }
            },
            "type": "scattercarpet"
           }
          ],
          "scattergeo": [
           {
            "marker": {
             "colorbar": {
              "outlinewidth": 0,
              "ticks": ""
             }
            },
            "type": "scattergeo"
           }
          ],
          "scattergl": [
           {
            "marker": {
             "colorbar": {
              "outlinewidth": 0,
              "ticks": ""
             }
            },
            "type": "scattergl"
           }
          ],
          "scattermapbox": [
           {
            "marker": {
             "colorbar": {
              "outlinewidth": 0,
              "ticks": ""
             }
            },
            "type": "scattermapbox"
           }
          ],
          "scatterpolar": [
           {
            "marker": {
             "colorbar": {
              "outlinewidth": 0,
              "ticks": ""
             }
            },
            "type": "scatterpolar"
           }
          ],
          "scatterpolargl": [
           {
            "marker": {
             "colorbar": {
              "outlinewidth": 0,
              "ticks": ""
             }
            },
            "type": "scatterpolargl"
           }
          ],
          "scatterternary": [
           {
            "marker": {
             "colorbar": {
              "outlinewidth": 0,
              "ticks": ""
             }
            },
            "type": "scatterternary"
           }
          ],
          "surface": [
           {
            "colorbar": {
             "outlinewidth": 0,
             "ticks": ""
            },
            "colorscale": [
             [
              0,
              "#0d0887"
             ],
             [
              0.1111111111111111,
              "#46039f"
             ],
             [
              0.2222222222222222,
              "#7201a8"
             ],
             [
              0.3333333333333333,
              "#9c179e"
             ],
             [
              0.4444444444444444,
              "#bd3786"
             ],
             [
              0.5555555555555556,
              "#d8576b"
             ],
             [
              0.6666666666666666,
              "#ed7953"
             ],
             [
              0.7777777777777778,
              "#fb9f3a"
             ],
             [
              0.8888888888888888,
              "#fdca26"
             ],
             [
              1,
              "#f0f921"
             ]
            ],
            "type": "surface"
           }
          ],
          "table": [
           {
            "cells": {
             "fill": {
              "color": "#EBF0F8"
             },
             "line": {
              "color": "white"
             }
            },
            "header": {
             "fill": {
              "color": "#C8D4E3"
             },
             "line": {
              "color": "white"
             }
            },
            "type": "table"
           }
          ]
         },
         "layout": {
          "annotationdefaults": {
           "arrowcolor": "#2a3f5f",
           "arrowhead": 0,
           "arrowwidth": 1
          },
          "coloraxis": {
           "colorbar": {
            "outlinewidth": 0,
            "ticks": ""
           }
          },
          "colorscale": {
           "diverging": [
            [
             0,
             "#8e0152"
            ],
            [
             0.1,
             "#c51b7d"
            ],
            [
             0.2,
             "#de77ae"
            ],
            [
             0.3,
             "#f1b6da"
            ],
            [
             0.4,
             "#fde0ef"
            ],
            [
             0.5,
             "#f7f7f7"
            ],
            [
             0.6,
             "#e6f5d0"
            ],
            [
             0.7,
             "#b8e186"
            ],
            [
             0.8,
             "#7fbc41"
            ],
            [
             0.9,
             "#4d9221"
            ],
            [
             1,
             "#276419"
            ]
           ],
           "sequential": [
            [
             0,
             "#0d0887"
            ],
            [
             0.1111111111111111,
             "#46039f"
            ],
            [
             0.2222222222222222,
             "#7201a8"
            ],
            [
             0.3333333333333333,
             "#9c179e"
            ],
            [
             0.4444444444444444,
             "#bd3786"
            ],
            [
             0.5555555555555556,
             "#d8576b"
            ],
            [
             0.6666666666666666,
             "#ed7953"
            ],
            [
             0.7777777777777778,
             "#fb9f3a"
            ],
            [
             0.8888888888888888,
             "#fdca26"
            ],
            [
             1,
             "#f0f921"
            ]
           ],
           "sequentialminus": [
            [
             0,
             "#0d0887"
            ],
            [
             0.1111111111111111,
             "#46039f"
            ],
            [
             0.2222222222222222,
             "#7201a8"
            ],
            [
             0.3333333333333333,
             "#9c179e"
            ],
            [
             0.4444444444444444,
             "#bd3786"
            ],
            [
             0.5555555555555556,
             "#d8576b"
            ],
            [
             0.6666666666666666,
             "#ed7953"
            ],
            [
             0.7777777777777778,
             "#fb9f3a"
            ],
            [
             0.8888888888888888,
             "#fdca26"
            ],
            [
             1,
             "#f0f921"
            ]
           ]
          },
          "colorway": [
           "#636efa",
           "#EF553B",
           "#00cc96",
           "#ab63fa",
           "#FFA15A",
           "#19d3f3",
           "#FF6692",
           "#B6E880",
           "#FF97FF",
           "#FECB52"
          ],
          "font": {
           "color": "#2a3f5f"
          },
          "geo": {
           "bgcolor": "white",
           "lakecolor": "white",
           "landcolor": "#E5ECF6",
           "showlakes": true,
           "showland": true,
           "subunitcolor": "white"
          },
          "hoverlabel": {
           "align": "left"
          },
          "hovermode": "closest",
          "mapbox": {
           "style": "light"
          },
          "paper_bgcolor": "white",
          "plot_bgcolor": "#E5ECF6",
          "polar": {
           "angularaxis": {
            "gridcolor": "white",
            "linecolor": "white",
            "ticks": ""
           },
           "bgcolor": "#E5ECF6",
           "radialaxis": {
            "gridcolor": "white",
            "linecolor": "white",
            "ticks": ""
           }
          },
          "scene": {
           "xaxis": {
            "backgroundcolor": "#E5ECF6",
            "gridcolor": "white",
            "gridwidth": 2,
            "linecolor": "white",
            "showbackground": true,
            "ticks": "",
            "zerolinecolor": "white"
           },
           "yaxis": {
            "backgroundcolor": "#E5ECF6",
            "gridcolor": "white",
            "gridwidth": 2,
            "linecolor": "white",
            "showbackground": true,
            "ticks": "",
            "zerolinecolor": "white"
           },
           "zaxis": {
            "backgroundcolor": "#E5ECF6",
            "gridcolor": "white",
            "gridwidth": 2,
            "linecolor": "white",
            "showbackground": true,
            "ticks": "",
            "zerolinecolor": "white"
           }
          },
          "shapedefaults": {
           "line": {
            "color": "#2a3f5f"
           }
          },
          "ternary": {
           "aaxis": {
            "gridcolor": "white",
            "linecolor": "white",
            "ticks": ""
           },
           "baxis": {
            "gridcolor": "white",
            "linecolor": "white",
            "ticks": ""
           },
           "bgcolor": "#E5ECF6",
           "caxis": {
            "gridcolor": "white",
            "linecolor": "white",
            "ticks": ""
           }
          },
          "title": {
           "x": 0.05
          },
          "xaxis": {
           "automargin": true,
           "gridcolor": "white",
           "linecolor": "white",
           "ticks": "",
           "title": {
            "standoff": 15
           },
           "zerolinecolor": "white",
           "zerolinewidth": 2
          },
          "yaxis": {
           "automargin": true,
           "gridcolor": "white",
           "linecolor": "white",
           "ticks": "",
           "title": {
            "standoff": 15
           },
           "zerolinecolor": "white",
           "zerolinewidth": 2
          }
         }
        },
        "xaxis": {
         "anchor": "y",
         "autorange": true,
         "domain": [
          0,
          1
         ],
         "range": [
          1997,
          2020
         ],
         "title": {
          "text": "year"
         },
         "type": "linear"
        },
        "yaxis": {
         "anchor": "x",
         "autorange": true,
         "domain": [
          0,
          1
         ],
         "range": [
          0.38888888888888895,
          12.61111111111111
         ],
         "title": {
          "text": "frequency_year"
         },
         "type": "linear"
        }
       }
      },
      "text/html": [
       "<div>\n",
       "        \n",
       "        \n",
       "            <div id=\"160d3544-a811-405e-a150-2ad1f78df044\" class=\"plotly-graph-div\" style=\"height:525px; width:100%;\"></div>\n",
       "            <script type=\"text/javascript\">\n",
       "                require([\"plotly\"], function(Plotly) {\n",
       "                    window.PLOTLYENV=window.PLOTLYENV || {};\n",
       "                    \n",
       "                if (document.getElementById(\"160d3544-a811-405e-a150-2ad1f78df044\")) {\n",
       "                    Plotly.newPlot(\n",
       "                        '160d3544-a811-405e-a150-2ad1f78df044',\n",
       "                        [{\"hovertemplate\": \"concept=philosophers<br>year=%{x}<br>frequency_year=%{y}<extra></extra>\", \"legendgroup\": \"philosophers\", \"line\": {\"color\": \"#636efa\", \"dash\": \"solid\"}, \"mode\": \"lines\", \"name\": \"philosophers\", \"orientation\": \"v\", \"showlegend\": true, \"type\": \"scatter\", \"x\": [1997, 1998, 1999, 2001, 2002, 2007, 2008, 2009, 2010, 2011, 2014, 2015, 2016, 2017, 2018, 2019, 2020], \"xaxis\": \"x\", \"y\": [1, 2, 1, 1, 3, 3, 4, 4, 6, 2, 4, 3, 4, 12, 4, 5, 1], \"yaxis\": \"y\"}, {\"hovertemplate\": \"concept=justice<br>year=%{x}<br>frequency_year=%{y}<extra></extra>\", \"legendgroup\": \"justice\", \"line\": {\"color\": \"#EF553B\", \"dash\": \"solid\"}, \"mode\": \"lines\", \"name\": \"justice\", \"orientation\": \"v\", \"showlegend\": true, \"type\": \"scatter\", \"x\": [1997, 1998, 1999, 2002, 2006, 2008, 2010, 2011, 2012, 2013, 2014, 2015, 2016, 2017, 2018, 2019, 2020], \"xaxis\": \"x\", \"y\": [1, 1, 2, 1, 4, 2, 2, 3, 3, 1, 4, 2, 3, 2, 5, 1, 1], \"yaxis\": \"y\"}, {\"hovertemplate\": \"concept=mind<br>year=%{x}<br>frequency_year=%{y}<extra></extra>\", \"legendgroup\": \"mind\", \"line\": {\"color\": \"#00cc96\", \"dash\": \"solid\"}, \"mode\": \"lines\", \"name\": \"mind\", \"orientation\": \"v\", \"showlegend\": true, \"type\": \"scatter\", \"x\": [1998, 1999, 2001, 2002, 2004, 2006, 2007, 2008, 2009, 2010, 2011, 2012, 2013, 2014, 2015, 2016, 2017, 2018, 2019, 2020], \"xaxis\": \"x\", \"y\": [1, 1, 1, 1, 1, 3, 3, 4, 1, 4, 1, 1, 5, 1, 2, 4, 5, 6, 1, 2], \"yaxis\": \"y\"}],\n",
       "                        {\"legend\": {\"title\": {\"text\": \"concept\"}, \"tracegroupgap\": 0}, \"margin\": {\"t\": 60}, \"template\": {\"data\": {\"bar\": [{\"error_x\": {\"color\": \"#2a3f5f\"}, \"error_y\": {\"color\": \"#2a3f5f\"}, \"marker\": {\"line\": {\"color\": \"#E5ECF6\", \"width\": 0.5}}, \"type\": \"bar\"}], \"barpolar\": [{\"marker\": {\"line\": {\"color\": \"#E5ECF6\", \"width\": 0.5}}, \"type\": \"barpolar\"}], \"carpet\": [{\"aaxis\": {\"endlinecolor\": \"#2a3f5f\", \"gridcolor\": \"white\", \"linecolor\": \"white\", \"minorgridcolor\": \"white\", \"startlinecolor\": \"#2a3f5f\"}, \"baxis\": {\"endlinecolor\": \"#2a3f5f\", \"gridcolor\": \"white\", \"linecolor\": \"white\", \"minorgridcolor\": \"white\", \"startlinecolor\": \"#2a3f5f\"}, \"type\": \"carpet\"}], \"choropleth\": [{\"colorbar\": {\"outlinewidth\": 0, \"ticks\": \"\"}, \"type\": \"choropleth\"}], \"contour\": [{\"colorbar\": {\"outlinewidth\": 0, \"ticks\": \"\"}, \"colorscale\": [[0.0, \"#0d0887\"], [0.1111111111111111, \"#46039f\"], [0.2222222222222222, \"#7201a8\"], [0.3333333333333333, \"#9c179e\"], [0.4444444444444444, \"#bd3786\"], [0.5555555555555556, \"#d8576b\"], [0.6666666666666666, \"#ed7953\"], [0.7777777777777778, \"#fb9f3a\"], [0.8888888888888888, \"#fdca26\"], [1.0, \"#f0f921\"]], \"type\": \"contour\"}], \"contourcarpet\": [{\"colorbar\": {\"outlinewidth\": 0, \"ticks\": \"\"}, \"type\": \"contourcarpet\"}], \"heatmap\": [{\"colorbar\": {\"outlinewidth\": 0, \"ticks\": \"\"}, \"colorscale\": [[0.0, \"#0d0887\"], [0.1111111111111111, \"#46039f\"], [0.2222222222222222, \"#7201a8\"], [0.3333333333333333, \"#9c179e\"], [0.4444444444444444, \"#bd3786\"], [0.5555555555555556, \"#d8576b\"], [0.6666666666666666, \"#ed7953\"], [0.7777777777777778, \"#fb9f3a\"], [0.8888888888888888, \"#fdca26\"], [1.0, \"#f0f921\"]], \"type\": \"heatmap\"}], \"heatmapgl\": [{\"colorbar\": {\"outlinewidth\": 0, \"ticks\": \"\"}, \"colorscale\": [[0.0, \"#0d0887\"], [0.1111111111111111, \"#46039f\"], [0.2222222222222222, \"#7201a8\"], [0.3333333333333333, \"#9c179e\"], [0.4444444444444444, \"#bd3786\"], [0.5555555555555556, \"#d8576b\"], [0.6666666666666666, \"#ed7953\"], [0.7777777777777778, \"#fb9f3a\"], [0.8888888888888888, \"#fdca26\"], [1.0, \"#f0f921\"]], \"type\": \"heatmapgl\"}], \"histogram\": [{\"marker\": {\"colorbar\": {\"outlinewidth\": 0, \"ticks\": \"\"}}, \"type\": \"histogram\"}], \"histogram2d\": [{\"colorbar\": {\"outlinewidth\": 0, \"ticks\": \"\"}, \"colorscale\": [[0.0, \"#0d0887\"], [0.1111111111111111, \"#46039f\"], [0.2222222222222222, \"#7201a8\"], [0.3333333333333333, \"#9c179e\"], [0.4444444444444444, \"#bd3786\"], [0.5555555555555556, \"#d8576b\"], [0.6666666666666666, \"#ed7953\"], [0.7777777777777778, \"#fb9f3a\"], [0.8888888888888888, \"#fdca26\"], [1.0, \"#f0f921\"]], \"type\": \"histogram2d\"}], \"histogram2dcontour\": [{\"colorbar\": {\"outlinewidth\": 0, \"ticks\": \"\"}, \"colorscale\": [[0.0, \"#0d0887\"], [0.1111111111111111, \"#46039f\"], [0.2222222222222222, \"#7201a8\"], [0.3333333333333333, \"#9c179e\"], [0.4444444444444444, \"#bd3786\"], [0.5555555555555556, \"#d8576b\"], [0.6666666666666666, \"#ed7953\"], [0.7777777777777778, \"#fb9f3a\"], [0.8888888888888888, \"#fdca26\"], [1.0, \"#f0f921\"]], \"type\": \"histogram2dcontour\"}], \"mesh3d\": [{\"colorbar\": {\"outlinewidth\": 0, \"ticks\": \"\"}, \"type\": \"mesh3d\"}], \"parcoords\": [{\"line\": {\"colorbar\": {\"outlinewidth\": 0, \"ticks\": \"\"}}, \"type\": \"parcoords\"}], \"pie\": [{\"automargin\": true, \"type\": \"pie\"}], \"scatter\": [{\"marker\": {\"colorbar\": {\"outlinewidth\": 0, \"ticks\": \"\"}}, \"type\": \"scatter\"}], \"scatter3d\": [{\"line\": {\"colorbar\": {\"outlinewidth\": 0, \"ticks\": \"\"}}, \"marker\": {\"colorbar\": {\"outlinewidth\": 0, \"ticks\": \"\"}}, \"type\": \"scatter3d\"}], \"scattercarpet\": [{\"marker\": {\"colorbar\": {\"outlinewidth\": 0, \"ticks\": \"\"}}, \"type\": \"scattercarpet\"}], \"scattergeo\": [{\"marker\": {\"colorbar\": {\"outlinewidth\": 0, \"ticks\": \"\"}}, \"type\": \"scattergeo\"}], \"scattergl\": [{\"marker\": {\"colorbar\": {\"outlinewidth\": 0, \"ticks\": \"\"}}, \"type\": \"scattergl\"}], \"scattermapbox\": [{\"marker\": {\"colorbar\": {\"outlinewidth\": 0, \"ticks\": \"\"}}, \"type\": \"scattermapbox\"}], \"scatterpolar\": [{\"marker\": {\"colorbar\": {\"outlinewidth\": 0, \"ticks\": \"\"}}, \"type\": \"scatterpolar\"}], \"scatterpolargl\": [{\"marker\": {\"colorbar\": {\"outlinewidth\": 0, \"ticks\": \"\"}}, \"type\": \"scatterpolargl\"}], \"scatterternary\": [{\"marker\": {\"colorbar\": {\"outlinewidth\": 0, \"ticks\": \"\"}}, \"type\": \"scatterternary\"}], \"surface\": [{\"colorbar\": {\"outlinewidth\": 0, \"ticks\": \"\"}, \"colorscale\": [[0.0, \"#0d0887\"], [0.1111111111111111, \"#46039f\"], [0.2222222222222222, \"#7201a8\"], [0.3333333333333333, \"#9c179e\"], [0.4444444444444444, \"#bd3786\"], [0.5555555555555556, \"#d8576b\"], [0.6666666666666666, \"#ed7953\"], [0.7777777777777778, \"#fb9f3a\"], [0.8888888888888888, \"#fdca26\"], [1.0, \"#f0f921\"]], \"type\": \"surface\"}], \"table\": [{\"cells\": {\"fill\": {\"color\": \"#EBF0F8\"}, \"line\": {\"color\": \"white\"}}, \"header\": {\"fill\": {\"color\": \"#C8D4E3\"}, \"line\": {\"color\": \"white\"}}, \"type\": \"table\"}]}, \"layout\": {\"annotationdefaults\": {\"arrowcolor\": \"#2a3f5f\", \"arrowhead\": 0, \"arrowwidth\": 1}, \"coloraxis\": {\"colorbar\": {\"outlinewidth\": 0, \"ticks\": \"\"}}, \"colorscale\": {\"diverging\": [[0, \"#8e0152\"], [0.1, \"#c51b7d\"], [0.2, \"#de77ae\"], [0.3, \"#f1b6da\"], [0.4, \"#fde0ef\"], [0.5, \"#f7f7f7\"], [0.6, \"#e6f5d0\"], [0.7, \"#b8e186\"], [0.8, \"#7fbc41\"], [0.9, \"#4d9221\"], [1, \"#276419\"]], \"sequential\": [[0.0, \"#0d0887\"], [0.1111111111111111, \"#46039f\"], [0.2222222222222222, \"#7201a8\"], [0.3333333333333333, \"#9c179e\"], [0.4444444444444444, \"#bd3786\"], [0.5555555555555556, \"#d8576b\"], [0.6666666666666666, \"#ed7953\"], [0.7777777777777778, \"#fb9f3a\"], [0.8888888888888888, \"#fdca26\"], [1.0, \"#f0f921\"]], \"sequentialminus\": [[0.0, \"#0d0887\"], [0.1111111111111111, \"#46039f\"], [0.2222222222222222, \"#7201a8\"], [0.3333333333333333, \"#9c179e\"], [0.4444444444444444, \"#bd3786\"], [0.5555555555555556, \"#d8576b\"], [0.6666666666666666, \"#ed7953\"], [0.7777777777777778, \"#fb9f3a\"], [0.8888888888888888, \"#fdca26\"], [1.0, \"#f0f921\"]]}, \"colorway\": [\"#636efa\", \"#EF553B\", \"#00cc96\", \"#ab63fa\", \"#FFA15A\", \"#19d3f3\", \"#FF6692\", \"#B6E880\", \"#FF97FF\", \"#FECB52\"], \"font\": {\"color\": \"#2a3f5f\"}, \"geo\": {\"bgcolor\": \"white\", \"lakecolor\": \"white\", \"landcolor\": \"#E5ECF6\", \"showlakes\": true, \"showland\": true, \"subunitcolor\": \"white\"}, \"hoverlabel\": {\"align\": \"left\"}, \"hovermode\": \"closest\", \"mapbox\": {\"style\": \"light\"}, \"paper_bgcolor\": \"white\", \"plot_bgcolor\": \"#E5ECF6\", \"polar\": {\"angularaxis\": {\"gridcolor\": \"white\", \"linecolor\": \"white\", \"ticks\": \"\"}, \"bgcolor\": \"#E5ECF6\", \"radialaxis\": {\"gridcolor\": \"white\", \"linecolor\": \"white\", \"ticks\": \"\"}}, \"scene\": {\"xaxis\": {\"backgroundcolor\": \"#E5ECF6\", \"gridcolor\": \"white\", \"gridwidth\": 2, \"linecolor\": \"white\", \"showbackground\": true, \"ticks\": \"\", \"zerolinecolor\": \"white\"}, \"yaxis\": {\"backgroundcolor\": \"#E5ECF6\", \"gridcolor\": \"white\", \"gridwidth\": 2, \"linecolor\": \"white\", \"showbackground\": true, \"ticks\": \"\", \"zerolinecolor\": \"white\"}, \"zaxis\": {\"backgroundcolor\": \"#E5ECF6\", \"gridcolor\": \"white\", \"gridwidth\": 2, \"linecolor\": \"white\", \"showbackground\": true, \"ticks\": \"\", \"zerolinecolor\": \"white\"}}, \"shapedefaults\": {\"line\": {\"color\": \"#2a3f5f\"}}, \"ternary\": {\"aaxis\": {\"gridcolor\": \"white\", \"linecolor\": \"white\", \"ticks\": \"\"}, \"baxis\": {\"gridcolor\": \"white\", \"linecolor\": \"white\", \"ticks\": \"\"}, \"bgcolor\": \"#E5ECF6\", \"caxis\": {\"gridcolor\": \"white\", \"linecolor\": \"white\", \"ticks\": \"\"}}, \"title\": {\"x\": 0.05}, \"xaxis\": {\"automargin\": true, \"gridcolor\": \"white\", \"linecolor\": \"white\", \"ticks\": \"\", \"title\": {\"standoff\": 15}, \"zerolinecolor\": \"white\", \"zerolinewidth\": 2}, \"yaxis\": {\"automargin\": true, \"gridcolor\": \"white\", \"linecolor\": \"white\", \"ticks\": \"\", \"title\": {\"standoff\": 15}, \"zerolinecolor\": \"white\", \"zerolinewidth\": 2}}}, \"xaxis\": {\"anchor\": \"y\", \"domain\": [0.0, 1.0], \"title\": {\"text\": \"year\"}}, \"yaxis\": {\"anchor\": \"x\", \"domain\": [0.0, 1.0], \"title\": {\"text\": \"frequency_year\"}}},\n",
       "                        {\"responsive\": true}\n",
       "                    ).then(function(){\n",
       "                            \n",
       "var gd = document.getElementById('160d3544-a811-405e-a150-2ad1f78df044');\n",
       "var x = new MutationObserver(function (mutations, observer) {{\n",
       "        var display = window.getComputedStyle(gd).display;\n",
       "        if (!display || display === 'none') {{\n",
       "            console.log([gd, 'removed!']);\n",
       "            Plotly.purge(gd);\n",
       "            observer.disconnect();\n",
       "        }}\n",
       "}});\n",
       "\n",
       "// Listen for the removal of the full notebook cells\n",
       "var notebookContainer = gd.closest('#notebook-container');\n",
       "if (notebookContainer) {{\n",
       "    x.observe(notebookContainer, {childList: true});\n",
       "}}\n",
       "\n",
       "// Listen for the clearing of the current output cell\n",
       "var outputEl = gd.closest('.output');\n",
       "if (outputEl) {{\n",
       "    x.observe(outputEl, {childList: true});\n",
       "}}\n",
       "\n",
       "                        })\n",
       "                };\n",
       "                });\n",
       "            </script>\n",
       "        </div>"
      ]
     },
     "metadata": {},
     "output_type": "display_data"
    }
   ],
   "source": [
    "#\n",
    "# create dataframe with statistics for all years \n",
    "#\n",
    "\n",
    "concepts_by_year = concepts.copy()\n",
    "concepts_by_year['frequency_year'] = concepts_by_year.groupby(['year', 'concept'])['concept'].transform('count')\n",
    "concepts_by_year['score_avg_year'] = concepts_by_year.groupby(['year', 'concept'])['score'].transform('mean').round(5)\n",
    "\n",
    "concepts_by_year = concepts_by_year.drop_duplicates(subset=['concept', 'year'])\\\n",
    "                    [['concept', 'frequency', 'score_avg', 'year', 'frequency_year', 'score_avg_year']]\n",
    "\n",
    "\n",
    "#\n",
    "# pick 3 frequent concepts programmatically\n",
    "#\n",
    "\n",
    "temp = concepts_unique.query(f\"\"\"frequency >= 10 & frequency <= 100 & score_avg >= 0.4 \"\"\")\\\n",
    "                    .sort_values([\"frequency\", \"score_avg\", ], ascending=False)\n",
    "FOCUS = temp['concept'].to_list()[:3] \n",
    "\n",
    "\n",
    "#\n",
    "# plot their frequency over the years\n",
    "#\n",
    "\n",
    "data = concepts_by_year[concepts_by_year['concept'].isin(FOCUS)].sort_values(\"year\")\n",
    "\n",
    "px.line(data,\n",
    "        x=\"year\",\n",
    "        y=\"frequency_year\",\n",
    "        color=\"concept\",\n",
    "       )\n"
   ]
  },
  {
   "cell_type": "markdown",
   "metadata": {
    "Collapsed": "false",
    "colab_type": "text",
    "id": "wvO5TLgC8I1d"
   },
   "source": [
    "## 6. Trend analysis: growth distribution based on selected years \n",
    "\n",
    "We can generalised the method above so to look at the topics that grew the most, within any two chosen years. "
   ]
  },
  {
   "cell_type": "code",
   "execution_count": 7,
   "metadata": {
    "Collapsed": "false",
    "colab": {
     "base_uri": "https://localhost:8080/",
     "height": 194
    },
    "colab_type": "code",
    "executionInfo": {
     "elapsed": 65799,
     "status": "ok",
     "timestamp": 1593633288561,
     "user": {
      "displayName": "Michele Pasin",
      "photoUrl": "https://lh3.googleusercontent.com/a-/AOh14GiYfmLTPbeMuYDDrETLbTVXTXnfVr9f7eBtkmR73A=s64",
      "userId": "10309320684375994511"
     },
     "user_tz": -60
    },
    "id": "IG0UgmKAcf8E",
    "outputId": "4860159b-54c0-4342-fb56-d746bd0677c8"
   },
   "outputs": [
    {
     "data": {
      "text/html": [
       "<div>\n",
       "<style scoped>\n",
       "    .dataframe tbody tr th:only-of-type {\n",
       "        vertical-align: middle;\n",
       "    }\n",
       "\n",
       "    .dataframe tbody tr th {\n",
       "        vertical-align: top;\n",
       "    }\n",
       "\n",
       "    .dataframe thead th {\n",
       "        text-align: right;\n",
       "    }\n",
       "</style>\n",
       "<table border=\"1\" class=\"dataframe\">\n",
       "  <thead>\n",
       "    <tr style=\"text-align: right;\">\n",
       "      <th></th>\n",
       "      <th>concept</th>\n",
       "      <th>frequency</th>\n",
       "      <th>score_avg</th>\n",
       "      <th>freq_growth</th>\n",
       "      <th>score_growth</th>\n",
       "    </tr>\n",
       "  </thead>\n",
       "  <tbody>\n",
       "    <tr>\n",
       "      <th>15</th>\n",
       "      <td>conditions</td>\n",
       "      <td>57</td>\n",
       "      <td>0.11603</td>\n",
       "      <td>11</td>\n",
       "      <td>0.03175</td>\n",
       "    </tr>\n",
       "    <tr>\n",
       "      <th>20</th>\n",
       "      <td>law</td>\n",
       "      <td>61</td>\n",
       "      <td>0.36898</td>\n",
       "      <td>8</td>\n",
       "      <td>-0.21461</td>\n",
       "    </tr>\n",
       "    <tr>\n",
       "      <th>27</th>\n",
       "      <td>questions</td>\n",
       "      <td>130</td>\n",
       "      <td>0.32561</td>\n",
       "      <td>7</td>\n",
       "      <td>-0.08450</td>\n",
       "    </tr>\n",
       "    <tr>\n",
       "      <th>11</th>\n",
       "      <td>possibility</td>\n",
       "      <td>43</td>\n",
       "      <td>0.21206</td>\n",
       "      <td>6</td>\n",
       "      <td>-0.03699</td>\n",
       "    </tr>\n",
       "    <tr>\n",
       "      <th>26</th>\n",
       "      <td>paper</td>\n",
       "      <td>261</td>\n",
       "      <td>0.17363</td>\n",
       "      <td>6</td>\n",
       "      <td>-0.04425</td>\n",
       "    </tr>\n",
       "  </tbody>\n",
       "</table>\n",
       "</div>"
      ],
      "text/plain": [
       "        concept  frequency  score_avg  freq_growth  score_growth\n",
       "15   conditions         57    0.11603           11       0.03175\n",
       "20          law         61    0.36898            8      -0.21461\n",
       "27    questions        130    0.32561            7      -0.08450\n",
       "11  possibility         43    0.21206            6      -0.03699\n",
       "26        paper        261    0.17363            6      -0.04425"
      ]
     },
     "execution_count": 7,
     "metadata": {},
     "output_type": "execute_result"
    }
   ],
   "source": [
    "YEAR_START = 2014 #@param {type: \"slider\", min: 1950, max: 2020}\n",
    "YEAR_END = 2019 #@param {type: \"slider\", min: 1950, max: 2020}\n",
    "\n",
    "\n",
    "#\n",
    "# from two years, find all common concepts, calculate growth for all of them\n",
    "#\n",
    "\n",
    "first_year = concepts_by_year.query(f\"year == {YEAR_START}\")\n",
    "second_year = concepts_by_year.query(f\"year == {YEAR_END}\")\n",
    "two_years = first_year.append(second_year)\n",
    "common_concepts = two_years[two_years.duplicated('concept')].reset_index()[['concept', 'frequency', 'score_avg']]\n",
    "\n",
    "def calculate_difference(concept, column=\"frequency_year\"):\n",
    "    \"\"\"Compare a numeric col value across two years\n",
    "    eg `calculate_difference(\"mind\", \"frequency_year\")`\n",
    "    \"\"\"\n",
    "    return second_year.query(f\"concept == '{concept}'\")[column].values[0] - first_year.query(f\"concept == '{concept}'\")[column].values[0]\n",
    "\n",
    "common_concepts['freq_growth'] = common_concepts.apply(lambda x: calculate_difference(x['concept'], \"frequency_year\"), axis=1)\n",
    "common_concepts['score_growth'] = common_concepts.apply(lambda x: calculate_difference(x['concept'], \"score_avg_year\"), axis=1)\n",
    "\n",
    "common_concepts.sort_values(\"freq_growth\", ascending=False).head()\n"
   ]
  },
  {
   "cell_type": "markdown",
   "metadata": {
    "Collapsed": "false",
    "colab_type": "text",
    "id": "iLTfuS0y8I1g"
   },
   "source": [
    "We can build a simple scatter plot using the `freq_growth` and `score_growth` values just calculated. \n",
    "\n",
    "* by using the `MIN_SCORE` parameter we can filter out concepts with an overall `score_avg` which is too low (note: this value is the average from all years, see section 1 above)\n",
    "* by mapping `score_avg` to the dots color, we can quickly visually identify concepts with a high score in the graph"
   ]
  },
  {
   "cell_type": "code",
   "execution_count": 8,
   "metadata": {
    "Collapsed": "false",
    "colab": {
     "base_uri": "https://localhost:8080/",
     "height": 617
    },
    "colab_type": "code",
    "executionInfo": {
     "elapsed": 65796,
     "status": "ok",
     "timestamp": 1593633288562,
     "user": {
      "displayName": "Michele Pasin",
      "photoUrl": "https://lh3.googleusercontent.com/a-/AOh14GiYfmLTPbeMuYDDrETLbTVXTXnfVr9f7eBtkmR73A=s64",
      "userId": "10309320684375994511"
     },
     "user_tz": -60
    },
    "id": "BNqfikFC8I1g",
    "outputId": "a6a4392b-29c4-4973-ff2d-05a408764af1"
   },
   "outputs": [
    {
     "data": {
      "application/vnd.plotly.v1+json": {
       "config": {
        "plotlyServerURL": "https://plot.ly"
       },
       "data": [
        {
         "customdata": [
          [
           "science",
           99,
           0.39493
          ],
          [
           "nature",
           86,
           0.29554
          ],
          [
           "Kant",
           32,
           0.37211
          ],
          [
           "Heidegger",
           6,
           0.32623
          ],
          [
           "philosophy",
           139,
           0.48356
          ],
          [
           "reflection",
           40,
           0.37073
          ],
          [
           "world",
           71,
           0.30667
          ],
          [
           "explanation",
           55,
           0.2641
          ],
          [
           "understanding",
           85,
           0.27138
          ],
          [
           "place",
           34,
           0.30479
          ],
          [
           "scope",
           19,
           0.28688
          ],
          [
           "possibility",
           43,
           0.21206
          ],
          [
           "limit",
           19,
           0.20243
          ],
          [
           "origin",
           18,
           0.29325
          ],
          [
           "relationship",
           53,
           0.27952
          ],
          [
           "phenomenon",
           31,
           0.23543
          ],
          [
           "theory",
           222,
           0.30388
          ],
          [
           "description",
           18,
           0.21538
          ],
          [
           "law",
           61,
           0.36898
          ],
          [
           "principles",
           78,
           0.30244
          ],
          [
           "paradox",
           11,
           0.20922
          ],
          [
           "fact",
           63,
           0.2897
          ],
          [
           "idea",
           77,
           0.33368
          ],
          [
           "questions",
           130,
           0.32561
          ],
          [
           "distinction",
           31,
           0.2961
          ],
          [
           "answers",
           15,
           0.27667
          ],
          [
           "claims",
           88,
           0.31488
          ],
          [
           "community",
           38,
           0.35545
          ],
          [
           "inquiry",
           23,
           0.41618
          ],
          [
           "notion",
           72,
           0.30985
          ],
          [
           "reasons",
           83,
           0.32988
          ],
          [
           "discourse",
           28,
           0.34805
          ],
          [
           "definition",
           25,
           0.21877
          ],
          [
           "implications",
           45,
           0.29009
          ],
          [
           "discussion",
           63,
           0.3382
          ],
          [
           "topic",
           25,
           0.3503
          ],
          [
           "relation",
           90,
           0.28635
          ],
          [
           "support",
           15,
           0.24185
          ],
          [
           "terms",
           64,
           0.2145
          ],
          [
           "ethical issues",
           24,
           0.49576
          ],
          [
           "social contract",
           5,
           0.57057
          ],
          [
           "duty",
           27,
           0.39801
          ],
          [
           "obligations",
           28,
           0.39394
          ],
          [
           "society",
           27,
           0.37278
          ],
          [
           "ethics",
           109,
           0.46865
          ],
          [
           "commitment",
           33,
           0.39322
          ],
          [
           "medicine",
           22,
           0.28848
          ],
          [
           "persons",
           31,
           0.32454
          ],
          [
           "issues",
           109,
           0.30792
          ],
          [
           "practice",
           89,
           0.32186
          ],
          [
           "necessity",
           20,
           0.23508
          ],
          [
           "care",
           39,
           0.24409
          ],
          [
           "contracts",
           9,
           0.34119
          ],
          [
           "trainees",
           5,
           0.34981
          ],
          [
           "order",
           64,
           0.20357
          ],
          [
           "pleasure",
           7,
           0.25261
          ],
          [
           "whole",
           13,
           0.32158
          ],
          [
           "knowledge",
           56,
           0.22273
          ],
          [
           "view",
           140,
           0.30804
          ],
          [
           "part",
           68,
           0.26062
          ],
          [
           "state",
           69,
           0.23891
          ],
          [
           "one",
           45,
           0.21261
          ],
          [
           "unity",
           11,
           0.2711
          ],
          [
           "rights",
           46,
           0.35105
          ],
          [
           "things",
           57,
           0.30833
          ],
          [
           "form",
           89,
           0.22706
          ],
          [
           "note",
           9,
           0.21164
          ],
          [
           "critique",
           36,
           0.40118
          ],
          [
           "attempt",
           30,
           0.32804
          ],
          [
           "article",
           106,
           0.32588
          ],
          [
           "choice",
           31,
           0.20219
          ],
          [
           "efforts",
           33,
           0.25896
          ],
          [
           "achievement",
           7,
           0.309
          ],
          [
           "action",
           59,
           0.278
          ],
          [
           "difficulties",
           29,
           0.23798
          ],
          [
           "aim",
           27,
           0.24164
          ],
          [
           "resources",
           17,
           0.26607
          ],
          [
           "thought",
           60,
           0.34155
          ],
          [
           "ethical framework",
           6,
           0.53217
          ],
          [
           "health research",
           7,
           0.4263
          ],
          [
           "engagement",
           13,
           0.34114
          ],
          [
           "journals",
           7,
           0.3015
          ],
          [
           "scholarship",
           14,
           0.3838
          ],
          [
           "book",
           24,
           0.32148
          ],
          [
           "authors",
           36,
           0.26866
          ],
          [
           "conversation",
           10,
           0.40637
          ],
          [
           "publications",
           9,
           0.32855
          ],
          [
           "sense",
           69,
           0.29906
          ],
          [
           "framework",
           63,
           0.2709
          ],
          [
           "literature",
           47,
           0.2597
          ],
          [
           "chapter",
           45,
           0.34915
          ],
          [
           "countries",
           12,
           0.27474
          ],
          [
           "interest",
           55,
           0.27308
          ],
          [
           "field",
           36,
           0.21898
          ],
          [
           "insights",
           24,
           0.23154
          ],
          [
           "research",
           81,
           0.23487
          ],
          [
           "development",
           68,
           0.21911
          ],
          [
           "middle-income countries",
           2,
           0.3272
          ],
          [
           "doctrine",
           18,
           0.39955
          ],
          [
           "theorists",
           30,
           0.33702
          ],
          [
           "justification",
           37,
           0.34752
          ],
          [
           "argument",
           99,
           0.2717
          ],
          [
           "act",
           26,
           0.26378
          ],
          [
           "war",
           7,
           0.28415
          ],
          [
           "foundation",
           35,
           0.34113
          ],
          [
           "harm",
           14,
           0.26061
          ],
          [
           "jurisdictions",
           3,
           0.34516
          ],
          [
           "matter",
           24,
           0.25707
          ],
          [
           "individuals",
           35,
           0.23378
          ],
          [
           "side",
           14,
           0.21632
          ],
          [
           "aggression",
           5,
           0.25992
          ],
          [
           "America",
           8,
           0.33608
          ],
          [
           "project",
           34,
           0.28697
          ],
          [
           "way",
           174,
           0.29543
          ],
          [
           "aspects",
           49,
           0.29352
          ],
          [
           "process",
           57,
           0.20448
          ],
          [
           "events",
           12,
           0.20085
          ],
          [
           "judgments",
           35,
           0.39724
          ],
          [
           "attitudes",
           18,
           0.3609
          ],
          [
           "beliefs",
           45,
           0.35304
          ],
          [
           "role",
           109,
           0.21891
          ],
          [
           "logic",
           57,
           0.214
          ],
          [
           "paper I",
           17,
           0.3569
          ],
          [
           "objections",
           29,
           0.24807
          ],
          [
           "philosophers",
           60,
           0.42655
          ],
          [
           "intuition",
           20,
           0.27074
          ],
          [
           "appeal",
           19,
           0.30363
          ],
          [
           "attention",
           53,
           0.28487
          ],
          [
           "light",
           35,
           0.25016
          ],
          [
           "link",
           11,
           0.28153
          ],
          [
           "demonstrative reference",
           2,
           0.36038
          ],
          [
           "perception",
           24,
           0.32721
          ],
          [
           "experience",
           62,
           0.31972
          ],
          [
           "proponents",
           8,
           0.39367
          ],
          [
           "account",
           131,
           0.32733
          ],
          [
           "reference",
           22,
           0.2467
          ],
          [
           "work",
           124,
           0.27229
          ],
          [
           "thinkers",
           13,
           0.47462
          ],
          [
           "consciousness",
           24,
           0.41529
          ],
          [
           "interpretation",
           73,
           0.32631
          ],
          [
           "position",
           36,
           0.27623
          ],
          [
           "decades",
           14,
           0.26664
          ],
          [
           "conclusion",
           31,
           0.20135
          ],
          [
           "speech",
           4,
           0.33442
          ],
          [
           "meaning",
           42,
           0.24215
          ],
          [
           "externalism",
           5,
           0.24583
          ],
          [
           "language",
           45,
           0.29655
          ],
          [
           "truth",
           43,
           0.36353
          ],
          [
           "sort",
           20,
           0.26152
          ],
          [
           "kind",
           52,
           0.25863
          ],
          [
           "power",
           29,
           0.22513
          ],
          [
           "threat",
           7,
           0.24841
          ],
          [
           "realism",
           13,
           0.23824
          ],
          [
           "basis",
           50,
           0.20098
          ],
          [
           "indeterminacy",
           3,
           0.26933
          ],
          [
           "hand",
           20,
           0.26271
          ],
          [
           "essay",
           52,
           0.34958
          ],
          [
           "recent article",
           4,
           0.52628
          ],
          [
           "institutions",
           23,
           0.39724
          ],
          [
           "exercise",
           12,
           0.25014
          ],
          [
           "reasoning",
           30,
           0.34632
          ],
          [
           "doubt",
           7,
           0.31624
          ],
          [
           "responsibility",
           21,
           0.37838
          ],
          [
           "justice",
           38,
           0.42042
          ],
          [
           "children",
           11,
           0.2651
          ],
          [
           "disagreement",
           17,
           0.27434
          ],
          [
           "people",
           41,
           0.30707
          ],
          [
           "respect",
           34,
           0.25863
          ],
          [
           "differences",
           37,
           0.22923
          ],
          [
           "thought experiment",
           10,
           0.50531
          ],
          [
           "ideal",
           18,
           0.38805
          ],
          [
           "assumption",
           25,
           0.24495
          ],
          [
           "conflict",
           23,
           0.31109
          ],
          [
           "circumstances",
           11,
           0.28695
          ],
          [
           "conception",
           50,
           0.36478
          ],
          [
           "political thought",
           8,
           0.45896
          ],
          [
           "vision",
           14,
           0.26648
          ],
          [
           "goal",
           38,
           0.20155
          ],
          [
           "consequences",
           33,
           0.21781
          ],
          [
           "reading",
           24,
           0.40865
          ],
          [
           "concept",
           90,
           0.30447
          ],
          [
           "significance",
           26,
           0.26783
          ],
          [
           "point",
           47,
           0.23294
          ],
          [
           "vulnerability",
           6,
           0.20068
          ],
          [
           "art",
           21,
           0.28403
          ],
          [
           "space",
           21,
           0.25382
          ],
          [
           "sphere",
           13,
           0.36368
          ],
          [
           "role of philosophy",
           2,
           0.43994
          ],
          [
           "Philosophical Investigations",
           4,
           0.53416
          ],
          [
           "life",
           73,
           0.31563
          ],
          [
           "criticism",
           18,
           0.36534
          ],
          [
           "readers",
           10,
           0.36288
          ],
          [
           "members",
           13,
           0.30299
          ],
          [
           "students",
           17,
           0.34095
          ],
          [
           "period",
           12,
           0.24452
          ],
          [
           "debate",
           58,
           0.3585
          ],
          [
           "pursuit",
           6,
           0.23714
          ],
          [
           "dimensions",
           30,
           0.24696
          ],
          [
           "seeing",
           2,
           0.31787
          ],
          [
           "subjects",
           38,
           0.238
          ],
          [
           "introduction",
           23,
           0.20035
          ],
          [
           "Hobbes",
           4,
           0.43209
          ],
          [
           "opinion",
           4,
           0.22277
          ],
          [
           "residents",
           2,
           0.26317
          ],
          [
           "focus",
           32,
           0.30925
          ],
          [
           "emphasis",
           16,
           0.2942
          ],
          [
           "citizenship",
           13,
           0.28
          ],
          [
           "protection",
           9,
           0.20525
          ],
          [
           "ethical challenges",
           13,
           0.44323
          ],
          [
           "research practices",
           3,
           0.58755
          ],
          [
           "perspective",
           64,
           0.33688
          ],
          [
           "challenges",
           58,
           0.23685
          ],
          [
           "context",
           81,
           0.32033
          ],
          [
           "interviews",
           11,
           0.23714
          ],
          [
           "second part",
           7,
           0.47665
          ],
          [
           "constitutive norms",
           2,
           0.72751
          ],
          [
           "adequate account",
           4,
           0.44624
          ],
          [
           "norms",
           24,
           0.44088
          ],
          [
           "agencies",
           20,
           0.31331
          ],
          [
           "worry",
           5,
           0.36034
          ],
          [
           "concern",
           45,
           0.25496
          ],
          [
           "ethical principles",
           6,
           0.51543
          ],
          [
           "researchers",
           24,
           0.24585
          ],
          [
           "misconceptions",
           4,
           0.31793
          ],
          [
           "schools",
           13,
           0.37375
          ],
          [
           "movement",
           15,
           0.21765
          ],
          [
           "Aristotle",
           13,
           0.36908
          ],
          [
           "morality",
           27,
           0.4328
          ],
          [
           "body",
           27,
           0.25891
          ],
          [
           "parents",
           8,
           0.23206
          ],
          [
           "interaction",
           22,
           0.20301
          ],
          [
           "patients",
           36,
           0.20657
          ],
          [
           "Medical Sciences",
           2,
           0.44933
          ],
          [
           "today",
           15,
           0.36074
          ],
          [
           "decisions",
           30,
           0.29873
          ],
          [
           "overview",
           9,
           0.23479
          ],
          [
           "inclusion",
           8,
           0.31356
          ],
          [
           "grounding",
           12,
           0.2458
          ],
          [
           "emergence",
           12,
           0.29939
          ],
          [
           "poetry",
           6,
           0.50762
          ],
          [
           "legitimacy",
           10,
           0.35328
          ],
          [
           "organization",
           12,
           0.23372
          ],
          [
           "health care",
           8,
           0.20526
          ],
          [
           "methodological challenges",
           3,
           0.3522
          ],
          [
           "lessons",
           11,
           0.27133
          ],
          [
           "rightness",
           5,
           0.35483
          ],
          [
           "wrong",
           2,
           0.28208
          ],
          [
           "being",
           21,
           0.37718
          ],
          [
           "owl of Minerva",
           2,
           0.41686
          ],
          [
           "symbols",
           10,
           0.21878
          ],
          [
           "Minerva",
           2,
           0.30922
          ],
          [
           "owls",
           2,
           0.20837
          ],
          [
           "feelings",
           7,
           0.42284
          ],
          [
           "approval",
           7,
           0.30313
          ],
          [
           "passage",
           6,
           0.32476
          ],
          [
           "refugees",
           2,
           0.59067
          ],
          [
           "migrants",
           2,
           0.53147
          ],
          [
           "imperative",
           10,
           0.35329
          ],
          [
           "safety",
           3,
           0.26733
          ],
          [
           "refutation",
           7,
           0.30972
          ],
          [
           "mathematics",
           25,
           0.33583
          ],
          [
           "mind",
           48,
           0.42203
          ],
          [
           "research project",
           3,
           0.38988
          ],
          [
           "education",
           26,
           0.39674
          ]
         ],
         "hovertemplate": "<b>%{hovertext}</b><br><br>freq_growth=%{x}<br>score_growth=%{y}<br>concept=%{customdata[0]}<br>frequency=%{customdata[1]}<br>score_avg=%{marker.color}<extra></extra>",
         "hovertext": [
          "science",
          "nature",
          "Kant",
          "Heidegger",
          "philosophy",
          "reflection",
          "world",
          "explanation",
          "understanding",
          "place",
          "scope",
          "possibility",
          "limit",
          "origin",
          "relationship",
          "phenomenon",
          "theory",
          "description",
          "law",
          "principles",
          "paradox",
          "fact",
          "idea",
          "questions",
          "distinction",
          "answers",
          "claims",
          "community",
          "inquiry",
          "notion",
          "reasons",
          "discourse",
          "definition",
          "implications",
          "discussion",
          "topic",
          "relation",
          "support",
          "terms",
          "ethical issues",
          "social contract",
          "duty",
          "obligations",
          "society",
          "ethics",
          "commitment",
          "medicine",
          "persons",
          "issues",
          "practice",
          "necessity",
          "care",
          "contracts",
          "trainees",
          "order",
          "pleasure",
          "whole",
          "knowledge",
          "view",
          "part",
          "state",
          "one",
          "unity",
          "rights",
          "things",
          "form",
          "note",
          "critique",
          "attempt",
          "article",
          "choice",
          "efforts",
          "achievement",
          "action",
          "difficulties",
          "aim",
          "resources",
          "thought",
          "ethical framework",
          "health research",
          "engagement",
          "journals",
          "scholarship",
          "book",
          "authors",
          "conversation",
          "publications",
          "sense",
          "framework",
          "literature",
          "chapter",
          "countries",
          "interest",
          "field",
          "insights",
          "research",
          "development",
          "middle-income countries",
          "doctrine",
          "theorists",
          "justification",
          "argument",
          "act",
          "war",
          "foundation",
          "harm",
          "jurisdictions",
          "matter",
          "individuals",
          "side",
          "aggression",
          "America",
          "project",
          "way",
          "aspects",
          "process",
          "events",
          "judgments",
          "attitudes",
          "beliefs",
          "role",
          "logic",
          "paper I",
          "objections",
          "philosophers",
          "intuition",
          "appeal",
          "attention",
          "light",
          "link",
          "demonstrative reference",
          "perception",
          "experience",
          "proponents",
          "account",
          "reference",
          "work",
          "thinkers",
          "consciousness",
          "interpretation",
          "position",
          "decades",
          "conclusion",
          "speech",
          "meaning",
          "externalism",
          "language",
          "truth",
          "sort",
          "kind",
          "power",
          "threat",
          "realism",
          "basis",
          "indeterminacy",
          "hand",
          "essay",
          "recent article",
          "institutions",
          "exercise",
          "reasoning",
          "doubt",
          "responsibility",
          "justice",
          "children",
          "disagreement",
          "people",
          "respect",
          "differences",
          "thought experiment",
          "ideal",
          "assumption",
          "conflict",
          "circumstances",
          "conception",
          "political thought",
          "vision",
          "goal",
          "consequences",
          "reading",
          "concept",
          "significance",
          "point",
          "vulnerability",
          "art",
          "space",
          "sphere",
          "role of philosophy",
          "Philosophical Investigations",
          "life",
          "criticism",
          "readers",
          "members",
          "students",
          "period",
          "debate",
          "pursuit",
          "dimensions",
          "seeing",
          "subjects",
          "introduction",
          "Hobbes",
          "opinion",
          "residents",
          "focus",
          "emphasis",
          "citizenship",
          "protection",
          "ethical challenges",
          "research practices",
          "perspective",
          "challenges",
          "context",
          "interviews",
          "second part",
          "constitutive norms",
          "adequate account",
          "norms",
          "agencies",
          "worry",
          "concern",
          "ethical principles",
          "researchers",
          "misconceptions",
          "schools",
          "movement",
          "Aristotle",
          "morality",
          "body",
          "parents",
          "interaction",
          "patients",
          "Medical Sciences",
          "today",
          "decisions",
          "overview",
          "inclusion",
          "grounding",
          "emergence",
          "poetry",
          "legitimacy",
          "organization",
          "health care",
          "methodological challenges",
          "lessons",
          "rightness",
          "wrong",
          "being",
          "owl of Minerva",
          "symbols",
          "Minerva",
          "owls",
          "feelings",
          "approval",
          "passage",
          "refugees",
          "migrants",
          "imperative",
          "safety",
          "refutation",
          "mathematics",
          "mind",
          "research project",
          "education"
         ],
         "legendgroup": "",
         "marker": {
          "color": [
           0.39493,
           0.29554,
           0.37211,
           0.32623,
           0.48356,
           0.37073,
           0.30667,
           0.2641,
           0.27138,
           0.30479,
           0.28688,
           0.21206,
           0.20243,
           0.29325,
           0.27952,
           0.23543,
           0.30388,
           0.21538,
           0.36898,
           0.30244,
           0.20922,
           0.2897,
           0.33368,
           0.32561,
           0.2961,
           0.27667,
           0.31488,
           0.35545,
           0.41618,
           0.30985,
           0.32988,
           0.34805,
           0.21877,
           0.29009,
           0.3382,
           0.3503,
           0.28635,
           0.24185,
           0.2145,
           0.49576,
           0.57057,
           0.39801,
           0.39394,
           0.37278,
           0.46865,
           0.39322,
           0.28848,
           0.32454,
           0.30792,
           0.32186,
           0.23508,
           0.24409,
           0.34119,
           0.34981,
           0.20357,
           0.25261,
           0.32158,
           0.22273,
           0.30804,
           0.26062,
           0.23891,
           0.21261,
           0.2711,
           0.35105,
           0.30833,
           0.22706,
           0.21164,
           0.40118,
           0.32804,
           0.32588,
           0.20219,
           0.25896,
           0.309,
           0.278,
           0.23798,
           0.24164,
           0.26607,
           0.34155,
           0.53217,
           0.4263,
           0.34114,
           0.3015,
           0.3838,
           0.32148,
           0.26866,
           0.40637,
           0.32855,
           0.29906,
           0.2709,
           0.2597,
           0.34915,
           0.27474,
           0.27308,
           0.21898,
           0.23154,
           0.23487,
           0.21911,
           0.3272,
           0.39955,
           0.33702,
           0.34752,
           0.2717,
           0.26378,
           0.28415,
           0.34113,
           0.26061,
           0.34516,
           0.25707,
           0.23378,
           0.21632,
           0.25992,
           0.33608,
           0.28697,
           0.29543,
           0.29352,
           0.20448,
           0.20085,
           0.39724,
           0.3609,
           0.35304,
           0.21891,
           0.214,
           0.3569,
           0.24807,
           0.42655,
           0.27074,
           0.30363,
           0.28487,
           0.25016,
           0.28153,
           0.36038,
           0.32721,
           0.31972,
           0.39367,
           0.32733,
           0.2467,
           0.27229,
           0.47462,
           0.41529,
           0.32631,
           0.27623,
           0.26664,
           0.20135,
           0.33442,
           0.24215,
           0.24583,
           0.29655,
           0.36353,
           0.26152,
           0.25863,
           0.22513,
           0.24841,
           0.23824,
           0.20098,
           0.26933,
           0.26271,
           0.34958,
           0.52628,
           0.39724,
           0.25014,
           0.34632,
           0.31624,
           0.37838,
           0.42042,
           0.2651,
           0.27434,
           0.30707,
           0.25863,
           0.22923,
           0.50531,
           0.38805,
           0.24495,
           0.31109,
           0.28695,
           0.36478,
           0.45896,
           0.26648,
           0.20155,
           0.21781,
           0.40865,
           0.30447,
           0.26783,
           0.23294,
           0.20068,
           0.28403,
           0.25382,
           0.36368,
           0.43994,
           0.53416,
           0.31563,
           0.36534,
           0.36288,
           0.30299,
           0.34095,
           0.24452,
           0.3585,
           0.23714,
           0.24696,
           0.31787,
           0.238,
           0.20035,
           0.43209,
           0.22277,
           0.26317,
           0.30925,
           0.2942,
           0.28,
           0.20525,
           0.44323,
           0.58755,
           0.33688,
           0.23685,
           0.32033,
           0.23714,
           0.47665,
           0.72751,
           0.44624,
           0.44088,
           0.31331,
           0.36034,
           0.25496,
           0.51543,
           0.24585,
           0.31793,
           0.37375,
           0.21765,
           0.36908,
           0.4328,
           0.25891,
           0.23206,
           0.20301,
           0.20657,
           0.44933,
           0.36074,
           0.29873,
           0.23479,
           0.31356,
           0.2458,
           0.29939,
           0.50762,
           0.35328,
           0.23372,
           0.20526,
           0.3522,
           0.27133,
           0.35483,
           0.28208,
           0.37718,
           0.41686,
           0.21878,
           0.30922,
           0.20837,
           0.42284,
           0.30313,
           0.32476,
           0.59067,
           0.53147,
           0.35329,
           0.26733,
           0.30972,
           0.33583,
           0.42203,
           0.38988,
           0.39674
          ],
          "coloraxis": "coloraxis",
          "symbol": "circle"
         },
         "mode": "markers",
         "name": "",
         "orientation": "v",
         "showlegend": false,
         "type": "scatter",
         "x": [
          2,
          6,
          2,
          -1,
          1,
          3,
          2,
          -2,
          3,
          -1,
          1,
          6,
          2,
          0,
          0,
          0,
          5,
          1,
          8,
          2,
          0,
          2,
          5,
          7,
          3,
          3,
          4,
          2,
          1,
          -1,
          2,
          3,
          2,
          3,
          0,
          1,
          2,
          2,
          2,
          0,
          0,
          1,
          2,
          1,
          -3,
          0,
          1,
          1,
          -5,
          1,
          2,
          0,
          1,
          0,
          1,
          0,
          1,
          2,
          0,
          3,
          1,
          2,
          0,
          2,
          -1,
          3,
          0,
          -1,
          1,
          0,
          1,
          2,
          0,
          4,
          2,
          -1,
          1,
          5,
          0,
          0,
          0,
          1,
          0,
          -1,
          1,
          2,
          1,
          3,
          -5,
          2,
          -2,
          1,
          -6,
          2,
          2,
          -1,
          0,
          0,
          2,
          1,
          2,
          1,
          5,
          0,
          -1,
          2,
          0,
          -1,
          1,
          1,
          1,
          0,
          0,
          0,
          1,
          0,
          0,
          0,
          0,
          3,
          1,
          1,
          1,
          2,
          1,
          -1,
          0,
          0,
          0,
          1,
          0,
          1,
          2,
          0,
          3,
          0,
          -2,
          0,
          1,
          1,
          0,
          0,
          3,
          0,
          0,
          0,
          2,
          -2,
          1,
          3,
          1,
          0,
          0,
          0,
          0,
          1,
          -1,
          0,
          1,
          0,
          0,
          1,
          0,
          -3,
          0,
          0,
          1,
          0,
          -1,
          -2,
          0,
          1,
          -2,
          0,
          -1,
          0,
          1,
          0,
          1,
          1,
          -2,
          2,
          0,
          0,
          -1,
          2,
          0,
          0,
          0,
          -3,
          0,
          -1,
          0,
          0,
          -1,
          -2,
          0,
          1,
          0,
          -2,
          -1,
          0,
          0,
          0,
          1,
          -1,
          -1,
          0,
          0,
          0,
          -4,
          -2,
          -2,
          0,
          0,
          0,
          0,
          2,
          0,
          0,
          -2,
          -1,
          2,
          0,
          0,
          -1,
          -1,
          0,
          0,
          0,
          -1,
          -3,
          0,
          0,
          -2,
          0,
          0,
          -1,
          0,
          0,
          0,
          0,
          0,
          0,
          1,
          0,
          0,
          0,
          0,
          -1,
          0,
          0,
          0,
          0,
          0,
          0,
          0,
          -1,
          0,
          0,
          0,
          0,
          0,
          -2
         ],
         "xaxis": "x",
         "y": [
          0.20612999999999998,
          0.04134000000000004,
          0.10786999999999997,
          0.12067000000000005,
          0.11066000000000004,
          0.08977000000000002,
          -0.08806999999999998,
          0.03517999999999999,
          0.20166,
          0.058199999999999974,
          0.24506999999999998,
          -0.03698999999999997,
          0.16507999999999998,
          1.999999999996449e-05,
          -0.03270000000000001,
          0.20282,
          -0.08794000000000002,
          0.34448999999999996,
          -0.21460999999999997,
          -0.17212,
          0.07799999999999999,
          -0.19556,
          -0.08528000000000002,
          -0.08450000000000002,
          0.23376000000000002,
          -0.24668,
          -0.19329999999999997,
          -0.28019000000000005,
          0.18009000000000003,
          -0.030000000000000027,
          -0.006450000000000011,
          -0.42523,
          -0.2718,
          0.023380000000000012,
          -0.21608000000000005,
          -0.22954,
          0.03702999999999998,
          -0.06439999999999999,
          -0.12102000000000002,
          -0.13795000000000002,
          -0.18189,
          0.04709000000000002,
          0.11662999999999996,
          0.13393999999999995,
          0.012280000000000013,
          0.16949999999999998,
          -0.02019000000000004,
          -0.09505999999999998,
          -0.07082,
          -0.12178,
          0.24316000000000004,
          -0.11528000000000002,
          -0.023009999999999975,
          0.028569999999999984,
          -0.01770000000000002,
          -0.40462000000000004,
          -0.42766,
          -0.032409999999999994,
          0.10769000000000001,
          -0.017469999999999986,
          -0.05729000000000001,
          0.043889999999999985,
          -0.49243,
          -0.03792000000000001,
          0.0009699999999999709,
          -0.04983000000000001,
          -0.16979000000000002,
          0.07639000000000001,
          -0.28741000000000005,
          -0.03689999999999999,
          0.37017,
          0.07547,
          0.03498000000000001,
          -0.19513,
          -0.05779999999999996,
          0.016290000000000027,
          -0.13305,
          -0.41454,
          -0.42136999999999997,
          -0.41396,
          -0.3649,
          0.015500000000000014,
          -0.32552000000000003,
          -0.07905999999999999,
          0.21555999999999997,
          -0.15943999999999997,
          -0.34146,
          -0.14531000000000002,
          -0.13976000000000002,
          -0.12776,
          -0.15757000000000002,
          -0.28696,
          -0.09104000000000001,
          -0.013990000000000002,
          -0.15943000000000002,
          -0.05753,
          -0.05560999999999999,
          -0.46771000000000007,
          0.29511,
          0.08435999999999999,
          0.017759999999999998,
          0.09332999999999997,
          -0.2965900000000001,
          0.12113999999999998,
          -0.10773999999999997,
          -0.051730000000000026,
          -0.24966000000000002,
          -0.04580999999999999,
          -0.17336,
          -0.07961000000000001,
          -0.13631,
          -0.22869,
          -0.21691,
          -0.047109999999999985,
          0.05014999999999997,
          -0.11204,
          -0.14494,
          -0.024650000000000005,
          -0.42647,
          -0.29159999999999997,
          -0.07393,
          -0.046770000000000006,
          0.35181,
          0.07693,
          -0.2068,
          -0.13176000000000004,
          -0.24994,
          -0.12241999999999997,
          -0.09578999999999999,
          -0.06896000000000002,
          0.7002299999999999,
          0.14918000000000003,
          0.04222999999999999,
          -0.16417000000000004,
          -0.21123,
          0.05326,
          -0.14590999999999998,
          0.03878999999999999,
          0.27052,
          0.14680000000000004,
          -0.017089999999999994,
          -0.004290000000000016,
          -0.07134000000000001,
          -0.27033999999999997,
          -0.09860000000000002,
          -0.5288,
          -0.22302000000000002,
          -0.055430000000000035,
          -0.09845000000000001,
          0.027599999999999986,
          -0.2936,
          -0.19096,
          -0.49327000000000004,
          -0.13838000000000003,
          0.17804,
          0.26696000000000003,
          -0.21158999999999997,
          0.22555000000000003,
          -0.04124,
          0.30124,
          -0.17949,
          -0.01876,
          0.020620000000000083,
          -0.07609999999999995,
          0.3516,
          0.43256,
          -0.00384000000000001,
          -0.13845000000000002,
          0.04111000000000001,
          -0.58063,
          -0.47211,
          -0.12921,
          -0.3526100000000001,
          -0.041690000000000005,
          -0.56344,
          -0.7702600000000001,
          -0.17119,
          -0.14727,
          -0.13708,
          0.18137999999999999,
          -0.05373,
          -0.22945000000000002,
          0.05237,
          -0.015659999999999997,
          -0.55555,
          -0.09445000000000003,
          -0.01559000000000002,
          0.64679,
          0.042830000000000035,
          0.13315,
          0.03904000000000002,
          0.005769999999999997,
          0.07511000000000001,
          0.009050000000000002,
          -0.04022999999999999,
          -0.16018000000000002,
          0.11818,
          -0.02735000000000004,
          0.27314000000000005,
          0.023950000000000027,
          -0.034170000000000006,
          -0.48655000000000004,
          -0.04265000000000001,
          -0.41578,
          -0.16863,
          -0.14706,
          -0.33274000000000004,
          -0.27015,
          0.05751999999999996,
          -0.44177,
          -0.08844000000000002,
          -0.07682,
          -0.17730999999999997,
          0.1142,
          -0.14964000000000005,
          -0.061370000000000036,
          0.61324,
          -0.15592,
          0.05264000000000002,
          0.49041999999999997,
          0.20622000000000001,
          -0.29901,
          -0.17457,
          0.07399,
          0.40051000000000003,
          -0.39026,
          -0.31914000000000003,
          -0.006449999999999956,
          0.33408,
          0.17234,
          -0.005949999999999983,
          0.0028600000000000014,
          0.49104,
          0.44276,
          0.08189000000000002,
          -0.29765,
          -0.32156,
          -0.40953,
          -0.50262,
          0.017780000000000018,
          -0.4403,
          -0.32658,
          -0.14412,
          -0.048929999999999974,
          -0.024349999999999983,
          -0.024109999999999965,
          0.47561000000000003,
          -0.022699999999999942,
          0.65651,
          0.48216000000000003,
          0.38526000000000005,
          0.09441000000000002,
          -0.0499,
          0.04919000000000001,
          0.025880000000000014,
          0.13227999999999995,
          0.006249999999999978,
          0.29251000000000005,
          -0.08953,
          0.19779999999999998,
          0.45394,
          -0.017120000000000003,
          -0.5624,
          -0.45493
         ],
         "yaxis": "y"
        }
       ],
       "layout": {
        "autosize": true,
        "coloraxis": {
         "colorbar": {
          "title": {
           "text": "score_avg"
          }
         },
         "colorscale": [
          [
           0,
           "#0d0887"
          ],
          [
           0.1111111111111111,
           "#46039f"
          ],
          [
           0.2222222222222222,
           "#7201a8"
          ],
          [
           0.3333333333333333,
           "#9c179e"
          ],
          [
           0.4444444444444444,
           "#bd3786"
          ],
          [
           0.5555555555555556,
           "#d8576b"
          ],
          [
           0.6666666666666666,
           "#ed7953"
          ],
          [
           0.7777777777777778,
           "#fb9f3a"
          ],
          [
           0.8888888888888888,
           "#fdca26"
          ],
          [
           1,
           "#f0f921"
          ]
         ]
        },
        "legend": {
         "tracegroupgap": 0
        },
        "template": {
         "data": {
          "bar": [
           {
            "error_x": {
             "color": "#2a3f5f"
            },
            "error_y": {
             "color": "#2a3f5f"
            },
            "marker": {
             "line": {
              "color": "#E5ECF6",
              "width": 0.5
             }
            },
            "type": "bar"
           }
          ],
          "barpolar": [
           {
            "marker": {
             "line": {
              "color": "#E5ECF6",
              "width": 0.5
             }
            },
            "type": "barpolar"
           }
          ],
          "carpet": [
           {
            "aaxis": {
             "endlinecolor": "#2a3f5f",
             "gridcolor": "white",
             "linecolor": "white",
             "minorgridcolor": "white",
             "startlinecolor": "#2a3f5f"
            },
            "baxis": {
             "endlinecolor": "#2a3f5f",
             "gridcolor": "white",
             "linecolor": "white",
             "minorgridcolor": "white",
             "startlinecolor": "#2a3f5f"
            },
            "type": "carpet"
           }
          ],
          "choropleth": [
           {
            "colorbar": {
             "outlinewidth": 0,
             "ticks": ""
            },
            "type": "choropleth"
           }
          ],
          "contour": [
           {
            "colorbar": {
             "outlinewidth": 0,
             "ticks": ""
            },
            "colorscale": [
             [
              0,
              "#0d0887"
             ],
             [
              0.1111111111111111,
              "#46039f"
             ],
             [
              0.2222222222222222,
              "#7201a8"
             ],
             [
              0.3333333333333333,
              "#9c179e"
             ],
             [
              0.4444444444444444,
              "#bd3786"
             ],
             [
              0.5555555555555556,
              "#d8576b"
             ],
             [
              0.6666666666666666,
              "#ed7953"
             ],
             [
              0.7777777777777778,
              "#fb9f3a"
             ],
             [
              0.8888888888888888,
              "#fdca26"
             ],
             [
              1,
              "#f0f921"
             ]
            ],
            "type": "contour"
           }
          ],
          "contourcarpet": [
           {
            "colorbar": {
             "outlinewidth": 0,
             "ticks": ""
            },
            "type": "contourcarpet"
           }
          ],
          "heatmap": [
           {
            "colorbar": {
             "outlinewidth": 0,
             "ticks": ""
            },
            "colorscale": [
             [
              0,
              "#0d0887"
             ],
             [
              0.1111111111111111,
              "#46039f"
             ],
             [
              0.2222222222222222,
              "#7201a8"
             ],
             [
              0.3333333333333333,
              "#9c179e"
             ],
             [
              0.4444444444444444,
              "#bd3786"
             ],
             [
              0.5555555555555556,
              "#d8576b"
             ],
             [
              0.6666666666666666,
              "#ed7953"
             ],
             [
              0.7777777777777778,
              "#fb9f3a"
             ],
             [
              0.8888888888888888,
              "#fdca26"
             ],
             [
              1,
              "#f0f921"
             ]
            ],
            "type": "heatmap"
           }
          ],
          "heatmapgl": [
           {
            "colorbar": {
             "outlinewidth": 0,
             "ticks": ""
            },
            "colorscale": [
             [
              0,
              "#0d0887"
             ],
             [
              0.1111111111111111,
              "#46039f"
             ],
             [
              0.2222222222222222,
              "#7201a8"
             ],
             [
              0.3333333333333333,
              "#9c179e"
             ],
             [
              0.4444444444444444,
              "#bd3786"
             ],
             [
              0.5555555555555556,
              "#d8576b"
             ],
             [
              0.6666666666666666,
              "#ed7953"
             ],
             [
              0.7777777777777778,
              "#fb9f3a"
             ],
             [
              0.8888888888888888,
              "#fdca26"
             ],
             [
              1,
              "#f0f921"
             ]
            ],
            "type": "heatmapgl"
           }
          ],
          "histogram": [
           {
            "marker": {
             "colorbar": {
              "outlinewidth": 0,
              "ticks": ""
             }
            },
            "type": "histogram"
           }
          ],
          "histogram2d": [
           {
            "colorbar": {
             "outlinewidth": 0,
             "ticks": ""
            },
            "colorscale": [
             [
              0,
              "#0d0887"
             ],
             [
              0.1111111111111111,
              "#46039f"
             ],
             [
              0.2222222222222222,
              "#7201a8"
             ],
             [
              0.3333333333333333,
              "#9c179e"
             ],
             [
              0.4444444444444444,
              "#bd3786"
             ],
             [
              0.5555555555555556,
              "#d8576b"
             ],
             [
              0.6666666666666666,
              "#ed7953"
             ],
             [
              0.7777777777777778,
              "#fb9f3a"
             ],
             [
              0.8888888888888888,
              "#fdca26"
             ],
             [
              1,
              "#f0f921"
             ]
            ],
            "type": "histogram2d"
           }
          ],
          "histogram2dcontour": [
           {
            "colorbar": {
             "outlinewidth": 0,
             "ticks": ""
            },
            "colorscale": [
             [
              0,
              "#0d0887"
             ],
             [
              0.1111111111111111,
              "#46039f"
             ],
             [
              0.2222222222222222,
              "#7201a8"
             ],
             [
              0.3333333333333333,
              "#9c179e"
             ],
             [
              0.4444444444444444,
              "#bd3786"
             ],
             [
              0.5555555555555556,
              "#d8576b"
             ],
             [
              0.6666666666666666,
              "#ed7953"
             ],
             [
              0.7777777777777778,
              "#fb9f3a"
             ],
             [
              0.8888888888888888,
              "#fdca26"
             ],
             [
              1,
              "#f0f921"
             ]
            ],
            "type": "histogram2dcontour"
           }
          ],
          "mesh3d": [
           {
            "colorbar": {
             "outlinewidth": 0,
             "ticks": ""
            },
            "type": "mesh3d"
           }
          ],
          "parcoords": [
           {
            "line": {
             "colorbar": {
              "outlinewidth": 0,
              "ticks": ""
             }
            },
            "type": "parcoords"
           }
          ],
          "pie": [
           {
            "automargin": true,
            "type": "pie"
           }
          ],
          "scatter": [
           {
            "marker": {
             "colorbar": {
              "outlinewidth": 0,
              "ticks": ""
             }
            },
            "type": "scatter"
           }
          ],
          "scatter3d": [
           {
            "line": {
             "colorbar": {
              "outlinewidth": 0,
              "ticks": ""
             }
            },
            "marker": {
             "colorbar": {
              "outlinewidth": 0,
              "ticks": ""
             }
            },
            "type": "scatter3d"
           }
          ],
          "scattercarpet": [
           {
            "marker": {
             "colorbar": {
              "outlinewidth": 0,
              "ticks": ""
             }
            },
            "type": "scattercarpet"
           }
          ],
          "scattergeo": [
           {
            "marker": {
             "colorbar": {
              "outlinewidth": 0,
              "ticks": ""
             }
            },
            "type": "scattergeo"
           }
          ],
          "scattergl": [
           {
            "marker": {
             "colorbar": {
              "outlinewidth": 0,
              "ticks": ""
             }
            },
            "type": "scattergl"
           }
          ],
          "scattermapbox": [
           {
            "marker": {
             "colorbar": {
              "outlinewidth": 0,
              "ticks": ""
             }
            },
            "type": "scattermapbox"
           }
          ],
          "scatterpolar": [
           {
            "marker": {
             "colorbar": {
              "outlinewidth": 0,
              "ticks": ""
             }
            },
            "type": "scatterpolar"
           }
          ],
          "scatterpolargl": [
           {
            "marker": {
             "colorbar": {
              "outlinewidth": 0,
              "ticks": ""
             }
            },
            "type": "scatterpolargl"
           }
          ],
          "scatterternary": [
           {
            "marker": {
             "colorbar": {
              "outlinewidth": 0,
              "ticks": ""
             }
            },
            "type": "scatterternary"
           }
          ],
          "surface": [
           {
            "colorbar": {
             "outlinewidth": 0,
             "ticks": ""
            },
            "colorscale": [
             [
              0,
              "#0d0887"
             ],
             [
              0.1111111111111111,
              "#46039f"
             ],
             [
              0.2222222222222222,
              "#7201a8"
             ],
             [
              0.3333333333333333,
              "#9c179e"
             ],
             [
              0.4444444444444444,
              "#bd3786"
             ],
             [
              0.5555555555555556,
              "#d8576b"
             ],
             [
              0.6666666666666666,
              "#ed7953"
             ],
             [
              0.7777777777777778,
              "#fb9f3a"
             ],
             [
              0.8888888888888888,
              "#fdca26"
             ],
             [
              1,
              "#f0f921"
             ]
            ],
            "type": "surface"
           }
          ],
          "table": [
           {
            "cells": {
             "fill": {
              "color": "#EBF0F8"
             },
             "line": {
              "color": "white"
             }
            },
            "header": {
             "fill": {
              "color": "#C8D4E3"
             },
             "line": {
              "color": "white"
             }
            },
            "type": "table"
           }
          ]
         },
         "layout": {
          "annotationdefaults": {
           "arrowcolor": "#2a3f5f",
           "arrowhead": 0,
           "arrowwidth": 1
          },
          "coloraxis": {
           "colorbar": {
            "outlinewidth": 0,
            "ticks": ""
           }
          },
          "colorscale": {
           "diverging": [
            [
             0,
             "#8e0152"
            ],
            [
             0.1,
             "#c51b7d"
            ],
            [
             0.2,
             "#de77ae"
            ],
            [
             0.3,
             "#f1b6da"
            ],
            [
             0.4,
             "#fde0ef"
            ],
            [
             0.5,
             "#f7f7f7"
            ],
            [
             0.6,
             "#e6f5d0"
            ],
            [
             0.7,
             "#b8e186"
            ],
            [
             0.8,
             "#7fbc41"
            ],
            [
             0.9,
             "#4d9221"
            ],
            [
             1,
             "#276419"
            ]
           ],
           "sequential": [
            [
             0,
             "#0d0887"
            ],
            [
             0.1111111111111111,
             "#46039f"
            ],
            [
             0.2222222222222222,
             "#7201a8"
            ],
            [
             0.3333333333333333,
             "#9c179e"
            ],
            [
             0.4444444444444444,
             "#bd3786"
            ],
            [
             0.5555555555555556,
             "#d8576b"
            ],
            [
             0.6666666666666666,
             "#ed7953"
            ],
            [
             0.7777777777777778,
             "#fb9f3a"
            ],
            [
             0.8888888888888888,
             "#fdca26"
            ],
            [
             1,
             "#f0f921"
            ]
           ],
           "sequentialminus": [
            [
             0,
             "#0d0887"
            ],
            [
             0.1111111111111111,
             "#46039f"
            ],
            [
             0.2222222222222222,
             "#7201a8"
            ],
            [
             0.3333333333333333,
             "#9c179e"
            ],
            [
             0.4444444444444444,
             "#bd3786"
            ],
            [
             0.5555555555555556,
             "#d8576b"
            ],
            [
             0.6666666666666666,
             "#ed7953"
            ],
            [
             0.7777777777777778,
             "#fb9f3a"
            ],
            [
             0.8888888888888888,
             "#fdca26"
            ],
            [
             1,
             "#f0f921"
            ]
           ]
          },
          "colorway": [
           "#636efa",
           "#EF553B",
           "#00cc96",
           "#ab63fa",
           "#FFA15A",
           "#19d3f3",
           "#FF6692",
           "#B6E880",
           "#FF97FF",
           "#FECB52"
          ],
          "font": {
           "color": "#2a3f5f"
          },
          "geo": {
           "bgcolor": "white",
           "lakecolor": "white",
           "landcolor": "#E5ECF6",
           "showlakes": true,
           "showland": true,
           "subunitcolor": "white"
          },
          "hoverlabel": {
           "align": "left"
          },
          "hovermode": "closest",
          "mapbox": {
           "style": "light"
          },
          "paper_bgcolor": "white",
          "plot_bgcolor": "#E5ECF6",
          "polar": {
           "angularaxis": {
            "gridcolor": "white",
            "linecolor": "white",
            "ticks": ""
           },
           "bgcolor": "#E5ECF6",
           "radialaxis": {
            "gridcolor": "white",
            "linecolor": "white",
            "ticks": ""
           }
          },
          "scene": {
           "xaxis": {
            "backgroundcolor": "#E5ECF6",
            "gridcolor": "white",
            "gridwidth": 2,
            "linecolor": "white",
            "showbackground": true,
            "ticks": "",
            "zerolinecolor": "white"
           },
           "yaxis": {
            "backgroundcolor": "#E5ECF6",
            "gridcolor": "white",
            "gridwidth": 2,
            "linecolor": "white",
            "showbackground": true,
            "ticks": "",
            "zerolinecolor": "white"
           },
           "zaxis": {
            "backgroundcolor": "#E5ECF6",
            "gridcolor": "white",
            "gridwidth": 2,
            "linecolor": "white",
            "showbackground": true,
            "ticks": "",
            "zerolinecolor": "white"
           }
          },
          "shapedefaults": {
           "line": {
            "color": "#2a3f5f"
           }
          },
          "ternary": {
           "aaxis": {
            "gridcolor": "white",
            "linecolor": "white",
            "ticks": ""
           },
           "baxis": {
            "gridcolor": "white",
            "linecolor": "white",
            "ticks": ""
           },
           "bgcolor": "#E5ECF6",
           "caxis": {
            "gridcolor": "white",
            "linecolor": "white",
            "ticks": ""
           }
          },
          "title": {
           "x": 0.05
          },
          "xaxis": {
           "automargin": true,
           "gridcolor": "white",
           "linecolor": "white",
           "ticks": "",
           "title": {
            "standoff": 15
           },
           "zerolinecolor": "white",
           "zerolinewidth": 2
          },
          "yaxis": {
           "automargin": true,
           "gridcolor": "white",
           "linecolor": "white",
           "ticks": "",
           "title": {
            "standoff": 15
           },
           "zerolinecolor": "white",
           "zerolinewidth": 2
          }
         }
        },
        "title": {
         "text": "Concepts growth from 2014 to 2019"
        },
        "xaxis": {
         "anchor": "y",
         "autorange": true,
         "domain": [
          0,
          1
         ],
         "range": [
          -6.834450597493442,
          8.834450597493442
         ],
         "title": {
          "text": "freq_growth"
         },
         "type": "linear"
        },
        "yaxis": {
         "anchor": "x",
         "autorange": true,
         "domain": [
          0,
          1
         ],
         "range": [
          -0.8684911133603239,
          0.7984611133603238
         ],
         "title": {
          "text": "score_growth"
         },
         "type": "linear"
        }
       }
      },
      "text/html": [
       "<div>\n",
       "        \n",
       "        \n",
       "            <div id=\"d344fc98-e81b-4e79-9ae0-cf637c8377d6\" class=\"plotly-graph-div\" style=\"height:600px; width:100%;\"></div>\n",
       "            <script type=\"text/javascript\">\n",
       "                require([\"plotly\"], function(Plotly) {\n",
       "                    window.PLOTLYENV=window.PLOTLYENV || {};\n",
       "                    \n",
       "                if (document.getElementById(\"d344fc98-e81b-4e79-9ae0-cf637c8377d6\")) {\n",
       "                    Plotly.newPlot(\n",
       "                        'd344fc98-e81b-4e79-9ae0-cf637c8377d6',\n",
       "                        [{\"customdata\": [[\"science\", 99, 0.39493], [\"nature\", 86, 0.29554], [\"Kant\", 32, 0.37211], [\"Heidegger\", 6, 0.32623], [\"philosophy\", 139, 0.48356], [\"reflection\", 40, 0.37073], [\"world\", 71, 0.30667], [\"explanation\", 55, 0.2641], [\"understanding\", 85, 0.27138], [\"place\", 34, 0.30479], [\"scope\", 19, 0.28688], [\"possibility\", 43, 0.21206], [\"limit\", 19, 0.20243], [\"origin\", 18, 0.29325], [\"relationship\", 53, 0.27952], [\"phenomenon\", 31, 0.23543], [\"theory\", 222, 0.30388], [\"description\", 18, 0.21538], [\"law\", 61, 0.36898], [\"principles\", 78, 0.30244], [\"paradox\", 11, 0.20922], [\"fact\", 63, 0.2897], [\"idea\", 77, 0.33368], [\"questions\", 130, 0.32561], [\"distinction\", 31, 0.2961], [\"answers\", 15, 0.27667], [\"claims\", 88, 0.31488], [\"community\", 38, 0.35545], [\"inquiry\", 23, 0.41618], [\"notion\", 72, 0.30985], [\"reasons\", 83, 0.32988], [\"discourse\", 28, 0.34805], [\"definition\", 25, 0.21877], [\"implications\", 45, 0.29009], [\"discussion\", 63, 0.3382], [\"topic\", 25, 0.3503], [\"relation\", 90, 0.28635], [\"support\", 15, 0.24185], [\"terms\", 64, 0.2145], [\"ethical issues\", 24, 0.49576], [\"social contract\", 5, 0.57057], [\"duty\", 27, 0.39801], [\"obligations\", 28, 0.39394], [\"society\", 27, 0.37278], [\"ethics\", 109, 0.46865], [\"commitment\", 33, 0.39322], [\"medicine\", 22, 0.28848], [\"persons\", 31, 0.32454], [\"issues\", 109, 0.30792], [\"practice\", 89, 0.32186], [\"necessity\", 20, 0.23508], [\"care\", 39, 0.24409], [\"contracts\", 9, 0.34119], [\"trainees\", 5, 0.34981], [\"order\", 64, 0.20357], [\"pleasure\", 7, 0.25261], [\"whole\", 13, 0.32158], [\"knowledge\", 56, 0.22273], [\"view\", 140, 0.30804], [\"part\", 68, 0.26062], [\"state\", 69, 0.23891], [\"one\", 45, 0.21261], [\"unity\", 11, 0.2711], [\"rights\", 46, 0.35105], [\"things\", 57, 0.30833], [\"form\", 89, 0.22706], [\"note\", 9, 0.21164], [\"critique\", 36, 0.40118], [\"attempt\", 30, 0.32804], [\"article\", 106, 0.32588], [\"choice\", 31, 0.20219], [\"efforts\", 33, 0.25896], [\"achievement\", 7, 0.309], [\"action\", 59, 0.278], [\"difficulties\", 29, 0.23798], [\"aim\", 27, 0.24164], [\"resources\", 17, 0.26607], [\"thought\", 60, 0.34155], [\"ethical framework\", 6, 0.53217], [\"health research\", 7, 0.4263], [\"engagement\", 13, 0.34114], [\"journals\", 7, 0.3015], [\"scholarship\", 14, 0.3838], [\"book\", 24, 0.32148], [\"authors\", 36, 0.26866], [\"conversation\", 10, 0.40637], [\"publications\", 9, 0.32855], [\"sense\", 69, 0.29906], [\"framework\", 63, 0.2709], [\"literature\", 47, 0.2597], [\"chapter\", 45, 0.34915], [\"countries\", 12, 0.27474], [\"interest\", 55, 0.27308], [\"field\", 36, 0.21898], [\"insights\", 24, 0.23154], [\"research\", 81, 0.23487], [\"development\", 68, 0.21911], [\"middle-income countries\", 2, 0.3272], [\"doctrine\", 18, 0.39955], [\"theorists\", 30, 0.33702], [\"justification\", 37, 0.34752], [\"argument\", 99, 0.2717], [\"act\", 26, 0.26378], [\"war\", 7, 0.28415], [\"foundation\", 35, 0.34113], [\"harm\", 14, 0.26061], [\"jurisdictions\", 3, 0.34516], [\"matter\", 24, 0.25707], [\"individuals\", 35, 0.23378], [\"side\", 14, 0.21632], [\"aggression\", 5, 0.25992], [\"America\", 8, 0.33608], [\"project\", 34, 0.28697], [\"way\", 174, 0.29543], [\"aspects\", 49, 0.29352], [\"process\", 57, 0.20448], [\"events\", 12, 0.20085], [\"judgments\", 35, 0.39724], [\"attitudes\", 18, 0.3609], [\"beliefs\", 45, 0.35304], [\"role\", 109, 0.21891], [\"logic\", 57, 0.214], [\"paper I\", 17, 0.3569], [\"objections\", 29, 0.24807], [\"philosophers\", 60, 0.42655], [\"intuition\", 20, 0.27074], [\"appeal\", 19, 0.30363], [\"attention\", 53, 0.28487], [\"light\", 35, 0.25016], [\"link\", 11, 0.28153], [\"demonstrative reference\", 2, 0.36038], [\"perception\", 24, 0.32721], [\"experience\", 62, 0.31972], [\"proponents\", 8, 0.39367], [\"account\", 131, 0.32733], [\"reference\", 22, 0.2467], [\"work\", 124, 0.27229], [\"thinkers\", 13, 0.47462], [\"consciousness\", 24, 0.41529], [\"interpretation\", 73, 0.32631], [\"position\", 36, 0.27623], [\"decades\", 14, 0.26664], [\"conclusion\", 31, 0.20135], [\"speech\", 4, 0.33442], [\"meaning\", 42, 0.24215], [\"externalism\", 5, 0.24583], [\"language\", 45, 0.29655], [\"truth\", 43, 0.36353], [\"sort\", 20, 0.26152], [\"kind\", 52, 0.25863], [\"power\", 29, 0.22513], [\"threat\", 7, 0.24841], [\"realism\", 13, 0.23824], [\"basis\", 50, 0.20098], [\"indeterminacy\", 3, 0.26933], [\"hand\", 20, 0.26271], [\"essay\", 52, 0.34958], [\"recent article\", 4, 0.52628], [\"institutions\", 23, 0.39724], [\"exercise\", 12, 0.25014], [\"reasoning\", 30, 0.34632], [\"doubt\", 7, 0.31624], [\"responsibility\", 21, 0.37838], [\"justice\", 38, 0.42042], [\"children\", 11, 0.2651], [\"disagreement\", 17, 0.27434], [\"people\", 41, 0.30707], [\"respect\", 34, 0.25863], [\"differences\", 37, 0.22923], [\"thought experiment\", 10, 0.50531], [\"ideal\", 18, 0.38805], [\"assumption\", 25, 0.24495], [\"conflict\", 23, 0.31109], [\"circumstances\", 11, 0.28695], [\"conception\", 50, 0.36478], [\"political thought\", 8, 0.45896], [\"vision\", 14, 0.26648], [\"goal\", 38, 0.20155], [\"consequences\", 33, 0.21781], [\"reading\", 24, 0.40865], [\"concept\", 90, 0.30447], [\"significance\", 26, 0.26783], [\"point\", 47, 0.23294], [\"vulnerability\", 6, 0.20068], [\"art\", 21, 0.28403], [\"space\", 21, 0.25382], [\"sphere\", 13, 0.36368], [\"role of philosophy\", 2, 0.43994], [\"Philosophical Investigations\", 4, 0.53416], [\"life\", 73, 0.31563], [\"criticism\", 18, 0.36534], [\"readers\", 10, 0.36288], [\"members\", 13, 0.30299], [\"students\", 17, 0.34095], [\"period\", 12, 0.24452], [\"debate\", 58, 0.3585], [\"pursuit\", 6, 0.23714], [\"dimensions\", 30, 0.24696], [\"seeing\", 2, 0.31787], [\"subjects\", 38, 0.238], [\"introduction\", 23, 0.20035], [\"Hobbes\", 4, 0.43209], [\"opinion\", 4, 0.22277], [\"residents\", 2, 0.26317], [\"focus\", 32, 0.30925], [\"emphasis\", 16, 0.2942], [\"citizenship\", 13, 0.28], [\"protection\", 9, 0.20525], [\"ethical challenges\", 13, 0.44323], [\"research practices\", 3, 0.58755], [\"perspective\", 64, 0.33688], [\"challenges\", 58, 0.23685], [\"context\", 81, 0.32033], [\"interviews\", 11, 0.23714], [\"second part\", 7, 0.47665], [\"constitutive norms\", 2, 0.72751], [\"adequate account\", 4, 0.44624], [\"norms\", 24, 0.44088], [\"agencies\", 20, 0.31331], [\"worry\", 5, 0.36034], [\"concern\", 45, 0.25496], [\"ethical principles\", 6, 0.51543], [\"researchers\", 24, 0.24585], [\"misconceptions\", 4, 0.31793], [\"schools\", 13, 0.37375], [\"movement\", 15, 0.21765], [\"Aristotle\", 13, 0.36908], [\"morality\", 27, 0.4328], [\"body\", 27, 0.25891], [\"parents\", 8, 0.23206], [\"interaction\", 22, 0.20301], [\"patients\", 36, 0.20657], [\"Medical Sciences\", 2, 0.44933], [\"today\", 15, 0.36074], [\"decisions\", 30, 0.29873], [\"overview\", 9, 0.23479], [\"inclusion\", 8, 0.31356], [\"grounding\", 12, 0.2458], [\"emergence\", 12, 0.29939], [\"poetry\", 6, 0.50762], [\"legitimacy\", 10, 0.35328], [\"organization\", 12, 0.23372], [\"health care\", 8, 0.20526], [\"methodological challenges\", 3, 0.3522], [\"lessons\", 11, 0.27133], [\"rightness\", 5, 0.35483], [\"wrong\", 2, 0.28208], [\"being\", 21, 0.37718], [\"owl of Minerva\", 2, 0.41686], [\"symbols\", 10, 0.21878], [\"Minerva\", 2, 0.30922], [\"owls\", 2, 0.20837], [\"feelings\", 7, 0.42284], [\"approval\", 7, 0.30313], [\"passage\", 6, 0.32476], [\"refugees\", 2, 0.59067], [\"migrants\", 2, 0.53147], [\"imperative\", 10, 0.35329], [\"safety\", 3, 0.26733], [\"refutation\", 7, 0.30972], [\"mathematics\", 25, 0.33583], [\"mind\", 48, 0.42203], [\"research project\", 3, 0.38988], [\"education\", 26, 0.39674]], \"hovertemplate\": \"<b>%{hovertext}</b><br><br>freq_growth=%{x}<br>score_growth=%{y}<br>concept=%{customdata[0]}<br>frequency=%{customdata[1]}<br>score_avg=%{marker.color}<extra></extra>\", \"hovertext\": [\"science\", \"nature\", \"Kant\", \"Heidegger\", \"philosophy\", \"reflection\", \"world\", \"explanation\", \"understanding\", \"place\", \"scope\", \"possibility\", \"limit\", \"origin\", \"relationship\", \"phenomenon\", \"theory\", \"description\", \"law\", \"principles\", \"paradox\", \"fact\", \"idea\", \"questions\", \"distinction\", \"answers\", \"claims\", \"community\", \"inquiry\", \"notion\", \"reasons\", \"discourse\", \"definition\", \"implications\", \"discussion\", \"topic\", \"relation\", \"support\", \"terms\", \"ethical issues\", \"social contract\", \"duty\", \"obligations\", \"society\", \"ethics\", \"commitment\", \"medicine\", \"persons\", \"issues\", \"practice\", \"necessity\", \"care\", \"contracts\", \"trainees\", \"order\", \"pleasure\", \"whole\", \"knowledge\", \"view\", \"part\", \"state\", \"one\", \"unity\", \"rights\", \"things\", \"form\", \"note\", \"critique\", \"attempt\", \"article\", \"choice\", \"efforts\", \"achievement\", \"action\", \"difficulties\", \"aim\", \"resources\", \"thought\", \"ethical framework\", \"health research\", \"engagement\", \"journals\", \"scholarship\", \"book\", \"authors\", \"conversation\", \"publications\", \"sense\", \"framework\", \"literature\", \"chapter\", \"countries\", \"interest\", \"field\", \"insights\", \"research\", \"development\", \"middle-income countries\", \"doctrine\", \"theorists\", \"justification\", \"argument\", \"act\", \"war\", \"foundation\", \"harm\", \"jurisdictions\", \"matter\", \"individuals\", \"side\", \"aggression\", \"America\", \"project\", \"way\", \"aspects\", \"process\", \"events\", \"judgments\", \"attitudes\", \"beliefs\", \"role\", \"logic\", \"paper I\", \"objections\", \"philosophers\", \"intuition\", \"appeal\", \"attention\", \"light\", \"link\", \"demonstrative reference\", \"perception\", \"experience\", \"proponents\", \"account\", \"reference\", \"work\", \"thinkers\", \"consciousness\", \"interpretation\", \"position\", \"decades\", \"conclusion\", \"speech\", \"meaning\", \"externalism\", \"language\", \"truth\", \"sort\", \"kind\", \"power\", \"threat\", \"realism\", \"basis\", \"indeterminacy\", \"hand\", \"essay\", \"recent article\", \"institutions\", \"exercise\", \"reasoning\", \"doubt\", \"responsibility\", \"justice\", \"children\", \"disagreement\", \"people\", \"respect\", \"differences\", \"thought experiment\", \"ideal\", \"assumption\", \"conflict\", \"circumstances\", \"conception\", \"political thought\", \"vision\", \"goal\", \"consequences\", \"reading\", \"concept\", \"significance\", \"point\", \"vulnerability\", \"art\", \"space\", \"sphere\", \"role of philosophy\", \"Philosophical Investigations\", \"life\", \"criticism\", \"readers\", \"members\", \"students\", \"period\", \"debate\", \"pursuit\", \"dimensions\", \"seeing\", \"subjects\", \"introduction\", \"Hobbes\", \"opinion\", \"residents\", \"focus\", \"emphasis\", \"citizenship\", \"protection\", \"ethical challenges\", \"research practices\", \"perspective\", \"challenges\", \"context\", \"interviews\", \"second part\", \"constitutive norms\", \"adequate account\", \"norms\", \"agencies\", \"worry\", \"concern\", \"ethical principles\", \"researchers\", \"misconceptions\", \"schools\", \"movement\", \"Aristotle\", \"morality\", \"body\", \"parents\", \"interaction\", \"patients\", \"Medical Sciences\", \"today\", \"decisions\", \"overview\", \"inclusion\", \"grounding\", \"emergence\", \"poetry\", \"legitimacy\", \"organization\", \"health care\", \"methodological challenges\", \"lessons\", \"rightness\", \"wrong\", \"being\", \"owl of Minerva\", \"symbols\", \"Minerva\", \"owls\", \"feelings\", \"approval\", \"passage\", \"refugees\", \"migrants\", \"imperative\", \"safety\", \"refutation\", \"mathematics\", \"mind\", \"research project\", \"education\"], \"legendgroup\": \"\", \"marker\": {\"color\": [0.39493, 0.29554, 0.37211, 0.32623, 0.48356, 0.37073, 0.30667, 0.2641, 0.27138, 0.30479, 0.28688, 0.21206, 0.20243, 0.29325, 0.27952, 0.23543, 0.30388, 0.21538, 0.36898, 0.30244, 0.20922, 0.2897, 0.33368, 0.32561, 0.2961, 0.27667, 0.31488, 0.35545, 0.41618, 0.30985, 0.32988, 0.34805, 0.21877, 0.29009, 0.3382, 0.3503, 0.28635, 0.24185, 0.2145, 0.49576, 0.57057, 0.39801, 0.39394, 0.37278, 0.46865, 0.39322, 0.28848, 0.32454, 0.30792, 0.32186, 0.23508, 0.24409, 0.34119, 0.34981, 0.20357, 0.25261, 0.32158, 0.22273, 0.30804, 0.26062, 0.23891, 0.21261, 0.2711, 0.35105, 0.30833, 0.22706, 0.21164, 0.40118, 0.32804, 0.32588, 0.20219, 0.25896, 0.309, 0.278, 0.23798, 0.24164, 0.26607, 0.34155, 0.53217, 0.4263, 0.34114, 0.3015, 0.3838, 0.32148, 0.26866, 0.40637, 0.32855, 0.29906, 0.2709, 0.2597, 0.34915, 0.27474, 0.27308, 0.21898, 0.23154, 0.23487, 0.21911, 0.3272, 0.39955, 0.33702, 0.34752, 0.2717, 0.26378, 0.28415, 0.34113, 0.26061, 0.34516, 0.25707, 0.23378, 0.21632, 0.25992, 0.33608, 0.28697, 0.29543, 0.29352, 0.20448, 0.20085, 0.39724, 0.3609, 0.35304, 0.21891, 0.214, 0.3569, 0.24807, 0.42655, 0.27074, 0.30363, 0.28487, 0.25016, 0.28153, 0.36038, 0.32721, 0.31972, 0.39367, 0.32733, 0.2467, 0.27229, 0.47462, 0.41529, 0.32631, 0.27623, 0.26664, 0.20135, 0.33442, 0.24215, 0.24583, 0.29655, 0.36353, 0.26152, 0.25863, 0.22513, 0.24841, 0.23824, 0.20098, 0.26933, 0.26271, 0.34958, 0.52628, 0.39724, 0.25014, 0.34632, 0.31624, 0.37838, 0.42042, 0.2651, 0.27434, 0.30707, 0.25863, 0.22923, 0.50531, 0.38805, 0.24495, 0.31109, 0.28695, 0.36478, 0.45896, 0.26648, 0.20155, 0.21781, 0.40865, 0.30447, 0.26783, 0.23294, 0.20068, 0.28403, 0.25382, 0.36368, 0.43994, 0.53416, 0.31563, 0.36534, 0.36288, 0.30299, 0.34095, 0.24452, 0.3585, 0.23714, 0.24696, 0.31787, 0.238, 0.20035, 0.43209, 0.22277, 0.26317, 0.30925, 0.2942, 0.28, 0.20525, 0.44323, 0.58755, 0.33688, 0.23685, 0.32033, 0.23714, 0.47665, 0.72751, 0.44624, 0.44088, 0.31331, 0.36034, 0.25496, 0.51543, 0.24585, 0.31793, 0.37375, 0.21765, 0.36908, 0.4328, 0.25891, 0.23206, 0.20301, 0.20657, 0.44933, 0.36074, 0.29873, 0.23479, 0.31356, 0.2458, 0.29939, 0.50762, 0.35328, 0.23372, 0.20526, 0.3522, 0.27133, 0.35483, 0.28208, 0.37718, 0.41686, 0.21878, 0.30922, 0.20837, 0.42284, 0.30313, 0.32476, 0.59067, 0.53147, 0.35329, 0.26733, 0.30972, 0.33583, 0.42203, 0.38988, 0.39674], \"coloraxis\": \"coloraxis\", \"symbol\": \"circle\"}, \"mode\": \"markers\", \"name\": \"\", \"orientation\": \"v\", \"showlegend\": false, \"type\": \"scatter\", \"x\": [2, 6, 2, -1, 1, 3, 2, -2, 3, -1, 1, 6, 2, 0, 0, 0, 5, 1, 8, 2, 0, 2, 5, 7, 3, 3, 4, 2, 1, -1, 2, 3, 2, 3, 0, 1, 2, 2, 2, 0, 0, 1, 2, 1, -3, 0, 1, 1, -5, 1, 2, 0, 1, 0, 1, 0, 1, 2, 0, 3, 1, 2, 0, 2, -1, 3, 0, -1, 1, 0, 1, 2, 0, 4, 2, -1, 1, 5, 0, 0, 0, 1, 0, -1, 1, 2, 1, 3, -5, 2, -2, 1, -6, 2, 2, -1, 0, 0, 2, 1, 2, 1, 5, 0, -1, 2, 0, -1, 1, 1, 1, 0, 0, 0, 1, 0, 0, 0, 0, 3, 1, 1, 1, 2, 1, -1, 0, 0, 0, 1, 0, 1, 2, 0, 3, 0, -2, 0, 1, 1, 0, 0, 3, 0, 0, 0, 2, -2, 1, 3, 1, 0, 0, 0, 0, 1, -1, 0, 1, 0, 0, 1, 0, -3, 0, 0, 1, 0, -1, -2, 0, 1, -2, 0, -1, 0, 1, 0, 1, 1, -2, 2, 0, 0, -1, 2, 0, 0, 0, -3, 0, -1, 0, 0, -1, -2, 0, 1, 0, -2, -1, 0, 0, 0, 1, -1, -1, 0, 0, 0, -4, -2, -2, 0, 0, 0, 0, 2, 0, 0, -2, -1, 2, 0, 0, -1, -1, 0, 0, 0, -1, -3, 0, 0, -2, 0, 0, -1, 0, 0, 0, 0, 0, 0, 1, 0, 0, 0, 0, -1, 0, 0, 0, 0, 0, 0, 0, -1, 0, 0, 0, 0, 0, -2], \"xaxis\": \"x\", \"y\": [0.20612999999999998, 0.04134000000000004, 0.10786999999999997, 0.12067000000000005, 0.11066000000000004, 0.08977000000000002, -0.08806999999999998, 0.03517999999999999, 0.20166, 0.058199999999999974, 0.24506999999999998, -0.03698999999999997, 0.16507999999999998, 1.999999999996449e-05, -0.03270000000000001, 0.20282, -0.08794000000000002, 0.34448999999999996, -0.21460999999999997, -0.17212, 0.07799999999999999, -0.19556, -0.08528000000000002, -0.08450000000000002, 0.23376000000000002, -0.24668, -0.19329999999999997, -0.28019000000000005, 0.18009000000000003, -0.030000000000000027, -0.006450000000000011, -0.42523, -0.2718, 0.023380000000000012, -0.21608000000000005, -0.22954, 0.03702999999999998, -0.06439999999999999, -0.12102000000000002, -0.13795000000000002, -0.18189, 0.04709000000000002, 0.11662999999999996, 0.13393999999999995, 0.012280000000000013, 0.16949999999999998, -0.02019000000000004, -0.09505999999999998, -0.07082, -0.12178, 0.24316000000000004, -0.11528000000000002, -0.023009999999999975, 0.028569999999999984, -0.01770000000000002, -0.40462000000000004, -0.42766, -0.032409999999999994, 0.10769000000000001, -0.017469999999999986, -0.05729000000000001, 0.043889999999999985, -0.49243, -0.03792000000000001, 0.0009699999999999709, -0.04983000000000001, -0.16979000000000002, 0.07639000000000001, -0.28741000000000005, -0.03689999999999999, 0.37017, 0.07547, 0.03498000000000001, -0.19513, -0.05779999999999996, 0.016290000000000027, -0.13305, -0.41454, -0.42136999999999997, -0.41396, -0.3649, 0.015500000000000014, -0.32552000000000003, -0.07905999999999999, 0.21555999999999997, -0.15943999999999997, -0.34146, -0.14531000000000002, -0.13976000000000002, -0.12776, -0.15757000000000002, -0.28696, -0.09104000000000001, -0.013990000000000002, -0.15943000000000002, -0.05753, -0.05560999999999999, -0.46771000000000007, 0.29511, 0.08435999999999999, 0.017759999999999998, 0.09332999999999997, -0.2965900000000001, 0.12113999999999998, -0.10773999999999997, -0.051730000000000026, -0.24966000000000002, -0.04580999999999999, -0.17336, -0.07961000000000001, -0.13631, -0.22869, -0.21691, -0.047109999999999985, 0.05014999999999997, -0.11204, -0.14494, -0.024650000000000005, -0.42647, -0.29159999999999997, -0.07393, -0.046770000000000006, 0.35181, 0.07693, -0.2068, -0.13176000000000004, -0.24994, -0.12241999999999997, -0.09578999999999999, -0.06896000000000002, 0.7002299999999999, 0.14918000000000003, 0.04222999999999999, -0.16417000000000004, -0.21123, 0.05326, -0.14590999999999998, 0.03878999999999999, 0.27052, 0.14680000000000004, -0.017089999999999994, -0.004290000000000016, -0.07134000000000001, -0.27033999999999997, -0.09860000000000002, -0.5288, -0.22302000000000002, -0.055430000000000035, -0.09845000000000001, 0.027599999999999986, -0.2936, -0.19096, -0.49327000000000004, -0.13838000000000003, 0.17804, 0.26696000000000003, -0.21158999999999997, 0.22555000000000003, -0.04124, 0.30124, -0.17949, -0.01876, 0.020620000000000083, -0.07609999999999995, 0.3516, 0.43256, -0.00384000000000001, -0.13845000000000002, 0.04111000000000001, -0.58063, -0.47211, -0.12921, -0.3526100000000001, -0.041690000000000005, -0.56344, -0.7702600000000001, -0.17119, -0.14727, -0.13708, 0.18137999999999999, -0.05373, -0.22945000000000002, 0.05237, -0.015659999999999997, -0.55555, -0.09445000000000003, -0.01559000000000002, 0.64679, 0.042830000000000035, 0.13315, 0.03904000000000002, 0.005769999999999997, 0.07511000000000001, 0.009050000000000002, -0.04022999999999999, -0.16018000000000002, 0.11818, -0.02735000000000004, 0.27314000000000005, 0.023950000000000027, -0.034170000000000006, -0.48655000000000004, -0.04265000000000001, -0.41578, -0.16863, -0.14706, -0.33274000000000004, -0.27015, 0.05751999999999996, -0.44177, -0.08844000000000002, -0.07682, -0.17730999999999997, 0.1142, -0.14964000000000005, -0.061370000000000036, 0.61324, -0.15592, 0.05264000000000002, 0.49041999999999997, 0.20622000000000001, -0.29901, -0.17457, 0.07399, 0.40051000000000003, -0.39026, -0.31914000000000003, -0.006449999999999956, 0.33408, 0.17234, -0.005949999999999983, 0.0028600000000000014, 0.49104, 0.44276, 0.08189000000000002, -0.29765, -0.32156, -0.40953, -0.50262, 0.017780000000000018, -0.4403, -0.32658, -0.14412, -0.048929999999999974, -0.024349999999999983, -0.024109999999999965, 0.47561000000000003, -0.022699999999999942, 0.65651, 0.48216000000000003, 0.38526000000000005, 0.09441000000000002, -0.0499, 0.04919000000000001, 0.025880000000000014, 0.13227999999999995, 0.006249999999999978, 0.29251000000000005, -0.08953, 0.19779999999999998, 0.45394, -0.017120000000000003, -0.5624, -0.45493], \"yaxis\": \"y\"}],\n",
       "                        {\"coloraxis\": {\"colorbar\": {\"title\": {\"text\": \"score_avg\"}}, \"colorscale\": [[0.0, \"#0d0887\"], [0.1111111111111111, \"#46039f\"], [0.2222222222222222, \"#7201a8\"], [0.3333333333333333, \"#9c179e\"], [0.4444444444444444, \"#bd3786\"], [0.5555555555555556, \"#d8576b\"], [0.6666666666666666, \"#ed7953\"], [0.7777777777777778, \"#fb9f3a\"], [0.8888888888888888, \"#fdca26\"], [1.0, \"#f0f921\"]]}, \"height\": 600, \"legend\": {\"tracegroupgap\": 0}, \"template\": {\"data\": {\"bar\": [{\"error_x\": {\"color\": \"#2a3f5f\"}, \"error_y\": {\"color\": \"#2a3f5f\"}, \"marker\": {\"line\": {\"color\": \"#E5ECF6\", \"width\": 0.5}}, \"type\": \"bar\"}], \"barpolar\": [{\"marker\": {\"line\": {\"color\": \"#E5ECF6\", \"width\": 0.5}}, \"type\": \"barpolar\"}], \"carpet\": [{\"aaxis\": {\"endlinecolor\": \"#2a3f5f\", \"gridcolor\": \"white\", \"linecolor\": \"white\", \"minorgridcolor\": \"white\", \"startlinecolor\": \"#2a3f5f\"}, \"baxis\": {\"endlinecolor\": \"#2a3f5f\", \"gridcolor\": \"white\", \"linecolor\": \"white\", \"minorgridcolor\": \"white\", \"startlinecolor\": \"#2a3f5f\"}, \"type\": \"carpet\"}], \"choropleth\": [{\"colorbar\": {\"outlinewidth\": 0, \"ticks\": \"\"}, \"type\": \"choropleth\"}], \"contour\": [{\"colorbar\": {\"outlinewidth\": 0, \"ticks\": \"\"}, \"colorscale\": [[0.0, \"#0d0887\"], [0.1111111111111111, \"#46039f\"], [0.2222222222222222, \"#7201a8\"], [0.3333333333333333, \"#9c179e\"], [0.4444444444444444, \"#bd3786\"], [0.5555555555555556, \"#d8576b\"], [0.6666666666666666, \"#ed7953\"], [0.7777777777777778, \"#fb9f3a\"], [0.8888888888888888, \"#fdca26\"], [1.0, \"#f0f921\"]], \"type\": \"contour\"}], \"contourcarpet\": [{\"colorbar\": {\"outlinewidth\": 0, \"ticks\": \"\"}, \"type\": \"contourcarpet\"}], \"heatmap\": [{\"colorbar\": {\"outlinewidth\": 0, \"ticks\": \"\"}, \"colorscale\": [[0.0, \"#0d0887\"], [0.1111111111111111, \"#46039f\"], [0.2222222222222222, \"#7201a8\"], [0.3333333333333333, \"#9c179e\"], [0.4444444444444444, \"#bd3786\"], [0.5555555555555556, \"#d8576b\"], [0.6666666666666666, \"#ed7953\"], [0.7777777777777778, \"#fb9f3a\"], [0.8888888888888888, \"#fdca26\"], [1.0, \"#f0f921\"]], \"type\": \"heatmap\"}], \"heatmapgl\": [{\"colorbar\": {\"outlinewidth\": 0, \"ticks\": \"\"}, \"colorscale\": [[0.0, \"#0d0887\"], [0.1111111111111111, \"#46039f\"], [0.2222222222222222, \"#7201a8\"], [0.3333333333333333, \"#9c179e\"], [0.4444444444444444, \"#bd3786\"], [0.5555555555555556, \"#d8576b\"], [0.6666666666666666, \"#ed7953\"], [0.7777777777777778, \"#fb9f3a\"], [0.8888888888888888, \"#fdca26\"], [1.0, \"#f0f921\"]], \"type\": \"heatmapgl\"}], \"histogram\": [{\"marker\": {\"colorbar\": {\"outlinewidth\": 0, \"ticks\": \"\"}}, \"type\": \"histogram\"}], \"histogram2d\": [{\"colorbar\": {\"outlinewidth\": 0, \"ticks\": \"\"}, \"colorscale\": [[0.0, \"#0d0887\"], [0.1111111111111111, \"#46039f\"], [0.2222222222222222, \"#7201a8\"], [0.3333333333333333, \"#9c179e\"], [0.4444444444444444, \"#bd3786\"], [0.5555555555555556, \"#d8576b\"], [0.6666666666666666, \"#ed7953\"], [0.7777777777777778, \"#fb9f3a\"], [0.8888888888888888, \"#fdca26\"], [1.0, \"#f0f921\"]], \"type\": \"histogram2d\"}], \"histogram2dcontour\": [{\"colorbar\": {\"outlinewidth\": 0, \"ticks\": \"\"}, \"colorscale\": [[0.0, \"#0d0887\"], [0.1111111111111111, \"#46039f\"], [0.2222222222222222, \"#7201a8\"], [0.3333333333333333, \"#9c179e\"], [0.4444444444444444, \"#bd3786\"], [0.5555555555555556, \"#d8576b\"], [0.6666666666666666, \"#ed7953\"], [0.7777777777777778, \"#fb9f3a\"], [0.8888888888888888, \"#fdca26\"], [1.0, \"#f0f921\"]], \"type\": \"histogram2dcontour\"}], \"mesh3d\": [{\"colorbar\": {\"outlinewidth\": 0, \"ticks\": \"\"}, \"type\": \"mesh3d\"}], \"parcoords\": [{\"line\": {\"colorbar\": {\"outlinewidth\": 0, \"ticks\": \"\"}}, \"type\": \"parcoords\"}], \"pie\": [{\"automargin\": true, \"type\": \"pie\"}], \"scatter\": [{\"marker\": {\"colorbar\": {\"outlinewidth\": 0, \"ticks\": \"\"}}, \"type\": \"scatter\"}], \"scatter3d\": [{\"line\": {\"colorbar\": {\"outlinewidth\": 0, \"ticks\": \"\"}}, \"marker\": {\"colorbar\": {\"outlinewidth\": 0, \"ticks\": \"\"}}, \"type\": \"scatter3d\"}], \"scattercarpet\": [{\"marker\": {\"colorbar\": {\"outlinewidth\": 0, \"ticks\": \"\"}}, \"type\": \"scattercarpet\"}], \"scattergeo\": [{\"marker\": {\"colorbar\": {\"outlinewidth\": 0, \"ticks\": \"\"}}, \"type\": \"scattergeo\"}], \"scattergl\": [{\"marker\": {\"colorbar\": {\"outlinewidth\": 0, \"ticks\": \"\"}}, \"type\": \"scattergl\"}], \"scattermapbox\": [{\"marker\": {\"colorbar\": {\"outlinewidth\": 0, \"ticks\": \"\"}}, \"type\": \"scattermapbox\"}], \"scatterpolar\": [{\"marker\": {\"colorbar\": {\"outlinewidth\": 0, \"ticks\": \"\"}}, \"type\": \"scatterpolar\"}], \"scatterpolargl\": [{\"marker\": {\"colorbar\": {\"outlinewidth\": 0, \"ticks\": \"\"}}, \"type\": \"scatterpolargl\"}], \"scatterternary\": [{\"marker\": {\"colorbar\": {\"outlinewidth\": 0, \"ticks\": \"\"}}, \"type\": \"scatterternary\"}], \"surface\": [{\"colorbar\": {\"outlinewidth\": 0, \"ticks\": \"\"}, \"colorscale\": [[0.0, \"#0d0887\"], [0.1111111111111111, \"#46039f\"], [0.2222222222222222, \"#7201a8\"], [0.3333333333333333, \"#9c179e\"], [0.4444444444444444, \"#bd3786\"], [0.5555555555555556, \"#d8576b\"], [0.6666666666666666, \"#ed7953\"], [0.7777777777777778, \"#fb9f3a\"], [0.8888888888888888, \"#fdca26\"], [1.0, \"#f0f921\"]], \"type\": \"surface\"}], \"table\": [{\"cells\": {\"fill\": {\"color\": \"#EBF0F8\"}, \"line\": {\"color\": \"white\"}}, \"header\": {\"fill\": {\"color\": \"#C8D4E3\"}, \"line\": {\"color\": \"white\"}}, \"type\": \"table\"}]}, \"layout\": {\"annotationdefaults\": {\"arrowcolor\": \"#2a3f5f\", \"arrowhead\": 0, \"arrowwidth\": 1}, \"coloraxis\": {\"colorbar\": {\"outlinewidth\": 0, \"ticks\": \"\"}}, \"colorscale\": {\"diverging\": [[0, \"#8e0152\"], [0.1, \"#c51b7d\"], [0.2, \"#de77ae\"], [0.3, \"#f1b6da\"], [0.4, \"#fde0ef\"], [0.5, \"#f7f7f7\"], [0.6, \"#e6f5d0\"], [0.7, \"#b8e186\"], [0.8, \"#7fbc41\"], [0.9, \"#4d9221\"], [1, \"#276419\"]], \"sequential\": [[0.0, \"#0d0887\"], [0.1111111111111111, \"#46039f\"], [0.2222222222222222, \"#7201a8\"], [0.3333333333333333, \"#9c179e\"], [0.4444444444444444, \"#bd3786\"], [0.5555555555555556, \"#d8576b\"], [0.6666666666666666, \"#ed7953\"], [0.7777777777777778, \"#fb9f3a\"], [0.8888888888888888, \"#fdca26\"], [1.0, \"#f0f921\"]], \"sequentialminus\": [[0.0, \"#0d0887\"], [0.1111111111111111, \"#46039f\"], [0.2222222222222222, \"#7201a8\"], [0.3333333333333333, \"#9c179e\"], [0.4444444444444444, \"#bd3786\"], [0.5555555555555556, \"#d8576b\"], [0.6666666666666666, \"#ed7953\"], [0.7777777777777778, \"#fb9f3a\"], [0.8888888888888888, \"#fdca26\"], [1.0, \"#f0f921\"]]}, \"colorway\": [\"#636efa\", \"#EF553B\", \"#00cc96\", \"#ab63fa\", \"#FFA15A\", \"#19d3f3\", \"#FF6692\", \"#B6E880\", \"#FF97FF\", \"#FECB52\"], \"font\": {\"color\": \"#2a3f5f\"}, \"geo\": {\"bgcolor\": \"white\", \"lakecolor\": \"white\", \"landcolor\": \"#E5ECF6\", \"showlakes\": true, \"showland\": true, \"subunitcolor\": \"white\"}, \"hoverlabel\": {\"align\": \"left\"}, \"hovermode\": \"closest\", \"mapbox\": {\"style\": \"light\"}, \"paper_bgcolor\": \"white\", \"plot_bgcolor\": \"#E5ECF6\", \"polar\": {\"angularaxis\": {\"gridcolor\": \"white\", \"linecolor\": \"white\", \"ticks\": \"\"}, \"bgcolor\": \"#E5ECF6\", \"radialaxis\": {\"gridcolor\": \"white\", \"linecolor\": \"white\", \"ticks\": \"\"}}, \"scene\": {\"xaxis\": {\"backgroundcolor\": \"#E5ECF6\", \"gridcolor\": \"white\", \"gridwidth\": 2, \"linecolor\": \"white\", \"showbackground\": true, \"ticks\": \"\", \"zerolinecolor\": \"white\"}, \"yaxis\": {\"backgroundcolor\": \"#E5ECF6\", \"gridcolor\": \"white\", \"gridwidth\": 2, \"linecolor\": \"white\", \"showbackground\": true, \"ticks\": \"\", \"zerolinecolor\": \"white\"}, \"zaxis\": {\"backgroundcolor\": \"#E5ECF6\", \"gridcolor\": \"white\", \"gridwidth\": 2, \"linecolor\": \"white\", \"showbackground\": true, \"ticks\": \"\", \"zerolinecolor\": \"white\"}}, \"shapedefaults\": {\"line\": {\"color\": \"#2a3f5f\"}}, \"ternary\": {\"aaxis\": {\"gridcolor\": \"white\", \"linecolor\": \"white\", \"ticks\": \"\"}, \"baxis\": {\"gridcolor\": \"white\", \"linecolor\": \"white\", \"ticks\": \"\"}, \"bgcolor\": \"#E5ECF6\", \"caxis\": {\"gridcolor\": \"white\", \"linecolor\": \"white\", \"ticks\": \"\"}}, \"title\": {\"x\": 0.05}, \"xaxis\": {\"automargin\": true, \"gridcolor\": \"white\", \"linecolor\": \"white\", \"ticks\": \"\", \"title\": {\"standoff\": 15}, \"zerolinecolor\": \"white\", \"zerolinewidth\": 2}, \"yaxis\": {\"automargin\": true, \"gridcolor\": \"white\", \"linecolor\": \"white\", \"ticks\": \"\", \"title\": {\"standoff\": 15}, \"zerolinecolor\": \"white\", \"zerolinewidth\": 2}}}, \"title\": {\"text\": \"Concepts growth from 2014 to 2019\"}, \"xaxis\": {\"anchor\": \"y\", \"domain\": [0.0, 1.0], \"title\": {\"text\": \"freq_growth\"}}, \"yaxis\": {\"anchor\": \"x\", \"domain\": [0.0, 1.0], \"title\": {\"text\": \"score_growth\"}}},\n",
       "                        {\"responsive\": true}\n",
       "                    ).then(function(){\n",
       "                            \n",
       "var gd = document.getElementById('d344fc98-e81b-4e79-9ae0-cf637c8377d6');\n",
       "var x = new MutationObserver(function (mutations, observer) {{\n",
       "        var display = window.getComputedStyle(gd).display;\n",
       "        if (!display || display === 'none') {{\n",
       "            console.log([gd, 'removed!']);\n",
       "            Plotly.purge(gd);\n",
       "            observer.disconnect();\n",
       "        }}\n",
       "}});\n",
       "\n",
       "// Listen for the removal of the full notebook cells\n",
       "var notebookContainer = gd.closest('#notebook-container');\n",
       "if (notebookContainer) {{\n",
       "    x.observe(notebookContainer, {childList: true});\n",
       "}}\n",
       "\n",
       "// Listen for the clearing of the current output cell\n",
       "var outputEl = gd.closest('.output');\n",
       "if (outputEl) {{\n",
       "    x.observe(outputEl, {childList: true});\n",
       "}}\n",
       "\n",
       "                        })\n",
       "                };\n",
       "                });\n",
       "            </script>\n",
       "        </div>"
      ]
     },
     "metadata": {},
     "output_type": "display_data"
    }
   ],
   "source": [
    "MIN_SCORE = 0.2\n",
    "\n",
    "px.scatter(common_concepts.query(f\"score_avg >= {MIN_SCORE}\"), \n",
    "           x=\"freq_growth\", y=\"score_growth\", \n",
    "            color=\"score_avg\", \n",
    "           hover_name=\"concept\", hover_data=['concept', 'frequency', 'score_avg'], \n",
    "            height=600, title=f\"Concepts growth from {YEAR_START} to {YEAR_END}\"\n",
    "          )"
   ]
  },
  {
   "cell_type": "markdown",
   "metadata": {
    "Collapsed": "false",
    "colab_type": "text",
    "id": "Etf7KhmR8I1j"
   },
   "source": [
    "## 7. Conclusion\n",
    "\n",
    "In this tutorial we have demonstrated how to process publication *concepts* - normalised keywords found in documents- obtained using the [Dimensions Analytics API](https://www.dimensions.ai/dimensions-apis/). \n",
    "\n",
    "By playing with parameters like *frequency* and *average score*, it is possible to highlight interesting concepts programmatically and use them to carry out semantic analyses of the documents dataset they derive from. \n",
    "\n",
    "For more information on this topic, see also the [official documentation on concepts](https://docs.dimensions.ai/dsl/language.html#searching-using-concepts) and the [Working with concepts in the Dimensions API](https://api-lab.dimensions.ai/cookbooks/1-getting-started/7-Working-with-concepts.html) tutorial."
   ]
  }
 ],
 "metadata": {
  "colab": {
   "collapsed_sections": [],
   "name": "Simple-topic-analysis.ipynb",
   "provenance": []
  },
  "kernel_info": {
   "name": "python3"
  },
  "kernelspec": {
   "display_name": "Python 3",
   "language": "python",
   "name": "python3"
  },
  "language_info": {
   "codemirror_mode": {
    "name": "ipython",
    "version": 3
   },
   "file_extension": ".py",
   "mimetype": "text/x-python",
   "name": "python",
   "nbconvert_exporter": "python",
   "pygments_lexer": "ipython3",
   "version": "3.8.5"
  },
  "nteract": {
   "version": "0.14.5"
  }
 },
 "nbformat": 4,
 "nbformat_minor": 4
}
