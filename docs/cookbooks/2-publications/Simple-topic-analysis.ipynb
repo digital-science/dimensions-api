{
 "cells": [
  {
   "cell_type": "markdown",
   "metadata": {
    "Collapsed": "false",
    "id": "KLi3rMNQIxFh"
   },
   "source": [
    "# Topic Modeling Analysis for a Set of Publications: Basic Workflow\n",
    "\n",
    "This Python notebook shows how to use the [Dimensions Analytics API](https://www.dimensions.ai/dimensions-apis/) in order to extract [concepts](https://docs.dimensions.ai/dsl/language.html#searching-using-concepts) from publications and use them as the basis for more advanced topic analyses tasks.\n",
    "\n",
    "**Note** this tutorial is best experienced using Google Colab."
   ]
  },
  {
   "cell_type": "code",
   "execution_count": 1,
   "metadata": {
    "colab": {
     "base_uri": "https://localhost:8080/"
    },
    "id": "twTzWvyrspf0",
    "outputId": "06469f6c-5aa1-479b-d434-b0303febea66"
   },
   "outputs": [
    {
     "name": "stdout",
     "output_type": "stream",
     "text": [
      "==\n",
      "CHANGELOG\n",
      "This notebook was last run on Aug 07, 2023\n",
      "==\n"
     ]
    }
   ],
   "source": [
    "import datetime\n",
    "print(\"==\\nCHANGELOG\\nThis notebook was last run on %s\\n==\" % datetime.date.today().strftime('%b %d, %Y'))"
   ]
  },
  {
   "cell_type": "markdown",
   "metadata": {
    "Collapsed": "false",
    "id": "hMaQlB7DG8Vw"
   },
   "source": [
    "## Prerequisites\n",
    "\n",
    "This notebook assumes you have installed the [Dimcli](https://pypi.org/project/dimcli/) library and are familiar with the ['Getting Started' tutorial](https://api-lab.dimensions.ai/cookbooks/1-getting-started/1-Using-the-Dimcli-library-to-query-the-API.html).\n"
   ]
  },
  {
   "cell_type": "code",
   "execution_count": 2,
   "metadata": {
    "Collapsed": "false",
    "colab": {
     "base_uri": "https://localhost:8080/"
    },
    "id": "s9UsQw-mKHcN",
    "outputId": "48a154f3-d55b-4d84-d26b-291ee5615276"
   },
   "outputs": [
    {
     "name": "stdout",
     "output_type": "stream",
     "text": [
      "\n",
      "\u001b[1m[\u001b[0m\u001b[34;49mnotice\u001b[0m\u001b[1;39;49m]\u001b[0m\u001b[39;49m A new release of pip available: \u001b[0m\u001b[31;49m22.3.1\u001b[0m\u001b[39;49m -> \u001b[0m\u001b[32;49m23.2.1\u001b[0m\n",
      "\u001b[1m[\u001b[0m\u001b[34;49mnotice\u001b[0m\u001b[1;39;49m]\u001b[0m\u001b[39;49m To update, run: \u001b[0m\u001b[32;49mpip install --upgrade pip\u001b[0m\n"
     ]
    },
    {
     "data": {
      "text/html": [
       "        <script type=\"text/javascript\">\n",
       "        window.PlotlyConfig = {MathJaxConfig: 'local'};\n",
       "        if (window.MathJax && window.MathJax.Hub && window.MathJax.Hub.Config) {window.MathJax.Hub.Config({SVG: {font: \"STIX-Web\"}});}\n",
       "        if (typeof require !== 'undefined') {\n",
       "        require.undef(\"plotly\");\n",
       "        requirejs.config({\n",
       "            paths: {\n",
       "                'plotly': ['https://cdn.plot.ly/plotly-2.24.1.min']\n",
       "            }\n",
       "        });\n",
       "        require(['plotly'], function(Plotly) {\n",
       "            window._Plotly = Plotly;\n",
       "        });\n",
       "        }\n",
       "        </script>\n",
       "        "
      ]
     },
     "metadata": {},
     "output_type": "display_data"
    },
    {
     "name": "stderr",
     "output_type": "stream",
     "text": [
      "\u001b[2mSearching config file credentials for 'https://app.dimensions.ai' endpoint..\u001b[0m\n"
     ]
    },
    {
     "name": "stdout",
     "output_type": "stream",
     "text": [
      "==\n",
      "Logging in..\n",
      "\u001b[2mDimcli - Dimensions API Client (v1.1)\u001b[0m\n",
      "\u001b[2mConnected to: <https://app.dimensions.ai/api/dsl> - DSL v2.7\u001b[0m\n",
      "\u001b[2mMethod: dsl.ini file\u001b[0m\n"
     ]
    }
   ],
   "source": [
    "!pip install dimcli plotly wordcloud -U --quiet\n",
    "\n",
    "import dimcli\n",
    "from dimcli.utils import *\n",
    "\n",
    "import json, sys\n",
    "import matplotlib.pyplot as plt\n",
    "from wordcloud import WordCloud\n",
    "import pandas as pd\n",
    "import plotly.express as px  # plotly>=4.8.1\n",
    "if not 'google.colab' in sys.modules:\n",
    "  # make js dependecies local / needed by html exports\n",
    "  from plotly.offline import init_notebook_mode\n",
    "  init_notebook_mode(connected=True)\n",
    "#\n",
    "\n",
    "print(\"==\\nLogging in..\")\n",
    "# https://digital-science.github.io/dimcli/getting-started.html#authentication\n",
    "ENDPOINT = \"https://app.dimensions.ai\"\n",
    "if 'google.colab' in sys.modules:\n",
    "  import getpass\n",
    "  KEY = getpass.getpass(prompt='API Key: ')\n",
    "  dimcli.login(key=KEY, endpoint=ENDPOINT)\n",
    "else:\n",
    "  KEY = \"\"\n",
    "  dimcli.login(key=KEY, endpoint=ENDPOINT)\n",
    "dsl = dimcli.Dsl()"
   ]
  },
  {
   "cell_type": "markdown",
   "metadata": {
    "Collapsed": "false",
    "id": "duzLFSrfFiuS"
   },
   "source": [
    "## 1. Creating a Dataset: e.g. Publications from a Research Organization"
   ]
  },
  {
   "cell_type": "markdown",
   "metadata": {
    "Collapsed": "false",
    "id": "L6uIjSVnGRQV"
   },
   "source": [
    "The dataset we'll be using in this tutorial contains publications from [University of Toronto](https://www.grid.ac/institutes/grid.17063.33).\n",
    "\n",
    "By using the parameters below, we can restrict the dataset further using dates (publications year) and a subject area (field of research code).\n",
    "\n",
    "After extracting the publications records, we are going to use the `as_dataframe_concepts` method to unpack concepts/scores data into a format that makes it easier to analyse it. For more background, see also the [Working with concepts in the Dimensions API](https://api-lab.dimensions.ai/cookbooks/1-getting-started/7-Working-with-concepts.html) tutorial."
   ]
  },
  {
   "cell_type": "code",
   "execution_count": 3,
   "metadata": {
    "Collapsed": "false",
    "colab": {
     "base_uri": "https://localhost:8080/",
     "height": 573
    },
    "id": "xNT2M74qKHcR",
    "outputId": "d79b75f9-9a36-4ea6-b8ff-26d78feffe36"
   },
   "outputs": [
    {
     "name": "stdout",
     "output_type": "stream",
     "text": [
      "You selected:\n",
      "->grid.17063.33\n",
      "->1996-2020\n",
      "->50 Philosophy and Religious Studies\n"
     ]
    },
    {
     "name": "stderr",
     "output_type": "stream",
     "text": [
      "/var/folders/c6/gh8_6trn5ysff0dnt9f5vqlm0000gq/T/ipykernel_71979/1034209296.py:21: DeprecationWarning:\n",
      "\n",
      "Importing display from IPython.core.display is deprecated since IPython 7.14, please import from IPython display\n",
      "\n"
     ]
    },
    {
     "data": {
      "text/html": [
       "-><br /><a href=\"https://app.dimensions.ai/discover/publication?and_facet_research_org=grid.17063.33\">Preview grid.17063.33 in Dimensions.ai &#x29c9;</a>"
      ],
      "text/plain": [
       "<IPython.core.display.HTML object>"
      ]
     },
     "metadata": {},
     "output_type": "display_data"
    },
    {
     "name": "stderr",
     "output_type": "stream",
     "text": [
      "Starting iteration with limit=1000 skip=0 ...\u001b[0m\n"
     ]
    },
    {
     "name": "stdout",
     "output_type": "stream",
     "text": [
      "===\n",
      "Query:\n",
      " \n",
      "search publications\n",
      "    where research_orgs.id = \"grid.17063.33\"\n",
      "    and year in [1996:2020]\n",
      "     and category_for.name=\"50 Philosophy and Religious Studies\" \n",
      "    return publications[id+concepts_scores+year]\n",
      "\n",
      "===\n",
      "Retrieving Publications.. \n"
     ]
    },
    {
     "name": "stderr",
     "output_type": "stream",
     "text": [
      "0-1000 / 3976 (1.85s)\u001b[0m\n",
      "1000-2000 / 3976 (1.68s)\u001b[0m\n",
      "2000-3000 / 3976 (1.75s)\u001b[0m\n",
      "3000-3976 / 3976 (1.57s)\u001b[0m\n",
      "===\n",
      "Records extracted: 3976\u001b[0m\n"
     ]
    },
    {
     "name": "stdout",
     "output_type": "stream",
     "text": [
      "===\n",
      "Extracting Concepts.. \n",
      "===\n",
      "Concepts Found (total): 109678\n",
      "===\n",
      "Unique Concepts Found: 36508\n",
      "===\n",
      "Concepts with frequency major than 1: 8648\n"
     ]
    }
   ],
   "source": [
    "#@markdown ## Define the criteria for extracting publications\n",
    "\n",
    "#@markdown A GRID organization from https://grid.ac/institutes\n",
    "GRIDID = \"grid.17063.33\" #@param {type:\"string\"}\n",
    "\n",
    "#@markdown The start/end year of publications used to extract concepts\n",
    "YEAR_START = 1996 #@param {type: \"slider\", min: 1950, max: 2020}\n",
    "YEAR_END = 2020 #@param {type: \"slider\", min: 1950, max: 2020}\n",
    "\n",
    "#@markdown The Field Of Research (FOR) category (None = all)\n",
    "CATEGORY = \"2203 Philosophy\"  #@param ['None', '0101 Pure Mathematics', '0102 Applied Mathematics', '0103 Numerical and Computational Mathematics', '0104 Statistics', '0105 Mathematical Physics', '0201 Astronomical and Space Sciences', '0202 Atomic, Molecular, Nuclear, Particle and Plasma Physics', '0203 Classical Physics', '0204 Condensed Matter Physics', '0205 Optical Physics', '0206 Quantum Physics', '0299 Other Physical Sciences', '0301 Analytical Chemistry', '0302 Inorganic Chemistry', '0303 Macromolecular and Materials Chemistry', '0304 Medicinal and Biomolecular Chemistry', '0305 Organic Chemistry', '0306 Physical Chemistry (incl. Structural)', '0307 Theoretical and Computational Chemistry', '0399 Other Chemical Sciences', '0401 Atmospheric Sciences', '0402 Geochemistry', '0403 Geology', '0404 Geophysics', '0405 Oceanography', '0406 Physical Geography and Environmental Geoscience', '0499 Other Earth Sciences', '0501 Ecological Applications', '0502 Environmental Science and Management', '0503 Soil Sciences', '0599 Other Environmental Sciences', '0601 Biochemistry and Cell Biology', '0602 Ecology', '0603 Evolutionary Biology', '0604 Genetics', '0605 Microbiology', '0606 Physiology', '0607 Plant Biology', '0608 Zoology', '0699 Other Biological Sciences', '0701 Agriculture, Land and Farm Management', '0702 Animal Production', '0703 Crop and Pasture Production', '0704 Fisheries Sciences', '0705 Forestry Sciences', '0706 Horticultural Production', '0707 Veterinary Sciences', '0799 Other Agricultural and Veterinary Sciences', '0801 Artificial Intelligence and Image Processing', '0802 Computation Theory and Mathematics', '0803 Computer Software', '0804 Data Format', '0805 Distributed Computing', '0806 Information Systems', '0807 Library and Information Studies', '0899 Other Information and Computing Sciences', '0901 Aerospace Engineering', '0902 Automotive Engineering', '0903 Biomedical Engineering', '0904 Chemical Engineering', '0905 Civil Engineering', '0906 Electrical and Electronic Engineering', '0907 Environmental Engineering', '0908 Food Sciences', '0909 Geomatic Engineering', '0910 Manufacturing Engineering', '0911 Maritime Engineering', '0912 Materials Engineering', '0913 Mechanical Engineering', '0914 Resources Engineering and Extractive Metallurgy', '0915 Interdisciplinary Engineering', '0999 Other Engineering', '1001 Agricultural Biotechnology', '1002 Environmental Biotechnology', '1003 Industrial Biotechnology', '1004 Medical Biotechnology', '1005 Communications Technologies', '1006 Computer Hardware', '1007 Nanotechnology', '1099 Other Technology', '1101 Medical Biochemistry and Metabolomics', '1102 Cardiorespiratory Medicine and Haematology', '1103 Clinical Sciences', '1104 Complementary and Alternative Medicine', '1105 Dentistry', '1106 Human Movement and Sports Science', '1107 Immunology', '1108 Medical Microbiology', '1109 Neurosciences', '1110 Nursing', '1111 Nutrition and Dietetics', '1112 Oncology and Carcinogenesis', '1113 Ophthalmology and Optometry', '1114 Paediatrics and Reproductive Medicine', '1115 Pharmacology and Pharmaceutical Sciences', '1116 Medical Physiology', '1117 Public Health and Health Services', '1199 Other Medical and Health Sciences', '1201 Architecture', '1202 Building', '1203 Design Practice and Management', '1205 Urban and Regional Planning', '1299 Other Built Environment and Design', '1301 Education Systems', '1302 Curriculum and Pedagogy', '1303 Specialist Studies In Education', '1399 Other Education', '1401 Economic Theory', '1402 Applied Economics', '1403 Econometrics', '1499 Other Economics', '1501 Accounting, Auditing and Accountability', '1502 Banking, Finance and Investment', '1503 Business and Management', '1504 Commercial Services', '1505 Marketing', '1506 Tourism', '1507 Transportation and Freight Services', '1601 Anthropology', '1602 Criminology', '1603 Demography', '1604 Human Geography', '1605 Policy and Administration', '1606 Political Science', '1607 Social Work', '1608 Sociology', '1699 Other Studies In Human Society', '1701 Psychology', '1702 Cognitive Sciences', '1799 Other Psychology and Cognitive Sciences', '1801 Law', '1899 Other Law and Legal Studies', '1901 Art Theory and Criticism', '1902 Film, Television and Digital Media', '1903 Journalism and Professional Writing', '1904 Performing Arts and Creative Writing', '1905 Visual Arts and Crafts', '1999 Other Studies In Creative Arts and Writing', '2001 Communication and Media Studies', '2002 Cultural Studies', '2003 Language Studies', '2004 Linguistics', '2005 Literary Studies', '2099 Other Language, Communication and Culture', '2101 Archaeology', '2102 Curatorial and Related Studies', '2103 Historical Studies', '2199 Other History and Archaeology', '2201 Applied Ethics', '2202 History and Philosophy of Specific Fields', '2203 Philosophy', '2204 Religion and Religious Studies', '2299 Other Philosophy and Religious Studies']\n",
    "\n",
    "CATEGORY = \"50 Philosophy and Religious Studies\"  #@param ['None', '32 Biomedical and Clinical Sciences', '40 Engineering', '3202 Clinical Sciences', '31 Biological Sciences', '34 Chemical Sciences', '42 Health Sciences', '51 Physical Sciences', '46 Information and Computing Sciences', '49 Mathematical Sciences', '44 Human Society', '30 Agricultural, Veterinary and Food Sciences', '52 Psychology', '35 Commerce, Management, Tourism and Services', '3101 Biochemistry and Cell Biology', '37 Earth Sciences', '47 Language, Communication and Culture', '3211 Oncology and Carcinogenesis', '50 Philosophy and Religious Studies', '4016 Materials Engineering', '43 History, Heritage and Archaeology', '3402 Inorganic Chemistry', '39 Education', '4203 Health Services and Systems', '3201 Cardiovascular Medicine and Haematology', '3406 Physical Chemistry', '4901 Applied Mathematics', '41 Environmental Sciences', '3215 Reproductive Medicine', '4006 Communications Engineering', '3214 Pharmacology and Pharmaceutical Sciences', '38 Economics', '4904 Pure Mathematics', '3103 Ecology', '4009 Electronics, Sensors and Digital Hardware', '4303 Historical Studies', '4008 Electrical Engineering', '48 Law and Legal Studies', '36 Creative Arts and Writing', '4705 Literary Studies', '3204 Immunology', '4605 Data Management and Data Science', '3801 Applied Economics', '4005 Civil Engineering', '4206 Public Health', '5106 Nuclear and Plasma Physics', '3405 Organic Chemistry', '3209 Neurosciences', '5202 Biological Psychology', '33 Built Environment and Design', '3705 Geology', '4004 Chemical Engineering', '3105 Genetics', '3203 Dentistry', '3403 Macromolecular and Materials Chemistry', '3507 Strategy, Management and Organisational Behaviour', '3107 Microbiology', '5104 Condensed Matter Physics', '5203 Clinical and Health Psychology', '3901 Curriculum and Pedagogy', '4408 Political Science', '3208 Medical Physiology', '5102 Atomic, Molecular and Optical Physics', '3207 Medical Microbiology', '4205 Nursing', '3108 Plant Biology', '3212 Ophthalmology and Optometry', '4007 Control Engineering, Mechatronics and Robotics', '5107 Particle and High Energy Physics', '3109 Zoology', '4902 Mathematical Physics', '4018 Nanotechnology', '4201 Allied Health and Rehabilitation Science', '3903 Education Systems', '4602 Artificial Intelligence', '3401 Analytical Chemistry', '5101 Astronomical Sciences', '5004 Religious Studies', '4014 Manufacturing Engineering', '3213 Paediatrics', '4603 Computer Vision and Multimedia Computation', '4704 Linguistics', '4003 Biomedical Engineering', '4407 Policy and Administration', '4012 Fluid Mechanics and Thermal Engineering', '3009 Veterinary Sciences', '3006 Food Sciences', '3502 Banking, Finance and Investment', '5003 Philosophy', '4606 Distributed Computing and Systems Software', '4611 Machine Learning', '3404 Medicinal and Biomolecular Chemistry', '5108 Quantum Physics', '3004 Crop and Pasture Production', '4017 Mechanical Engineering', '4019 Resources Engineering and Extractive Metallurgy', '5002 History and Philosophy Of Specific Fields', '4905 Statistics', '3210 Nutrition and Dietetics', '3701 Atmospheric Sciences', '5201 Applied and Developmental Psychology', '4001 Aerospace Engineering', '4404 Development Studies', '4010 Engineering Practice and Education', '5005 Theology', '3104 Evolutionary Biology', '4207 Sports Science and Exercise', '4410 Sociology', '4703 Language Studies', '3802 Econometrics', '3102 Bioinformatics and Computational Biology', '3407 Theoretical and Computational Chemistry', '4608 Human-Centred Computing', '3709 Physical Geography and Environmental Geoscience', '3206 Medical Biotechnology', '5110 Synchrotrons and Accelerators', '4104 Environmental Management', '5205 Social and Personality Psychology', '5103 Classical Physics', '3003 Animal Production', '4202 Epidemiology', '5204 Cognitive and Computational Psychology', '4610 Library and Information Studies', '4105 Pollution and Contamination', '3509 Transportation, Logistics and Supply Chains', '4903 Numerical and Computational Mathematics', '4406 Human Geography', '4609 Information Systems', '3505 Human Resources and Industrial Relations', '5109 Space Sciences', '3506 Marketing', '3706 Geophysics', '4613 Theory Of Computation', '4204 Midwifery', '4604 Cybersecurity and Privacy', '3904 Specialist Studies In Education', '3106 Industrial Biotechnology', '4702 Cultural Studies', '3301 Architecture', '3803 Economic Theory', '4301 Archaeology', '3302 Building', '4612 Software Engineering', '3008 Horticultural Production', '4015 Maritime Engineering', '3902 Education Policy, Sociology and Philosophy', '4701 Communication and Media Studies', '3205 Medical Biochemistry and Metabolomics', '4807 Public Law', '3703 Geochemistry', '3605 Screen and Digital Media', '4804 Law In Context', '4011 Environmental Engineering', '4402 Criminology', '3503 Business Systems In Context', '3601 Art History, Theory and Criticism', '4803 International and Comparative Law', '3005 Fisheries Sciences', '4401 Anthropology', '3504 Commercial Services', '3002 Agriculture, Land and Farm Management', '4002 Automotive Engineering', '3704 Geoinformatics', '4405 Gender Studies', '3603 Music', '3707 Hydrology', '3304 Urban and Regional Planning', '3604 Performing Arts', '4601 Applied Computing', '4409 Social Work', '4013 Geomatic Engineering', '5001 Applied Ethics', '4607 Graphics, Augmented Reality and Games', '4801 Commercial Law', '3708 Oceanography', '4403 Demography', '4102 Ecological Applications', '3007 Forestry Sciences', '3303 Design', '5105 Medical and Biological Physics', '4806 Private Law and Civil Obligations', '3501 Accounting, Auditing and Accountability', '3602 Creative and Professional Writing', '4106 Soil Sciences', '4208 Traditional, Complementary and Integrative Medicine', '3508 Tourism', '3001 Agricultural Biotechnology', '3702 Climate Change Science', '4302 Heritage, Archive and Museum Studies', '4805 Legal Systems', '4802 Environmental and Resources Law', '4101 Climate Change Impacts and Adaptation', '4103 Environmental Biotechnology', '3606 Visual Arts']\n",
    "\n",
    "\n",
    "if YEAR_END < YEAR_START:\n",
    "  YEAR_END = YEAR_START\n",
    "\n",
    "print(f\"\"\"You selected:\\n->{GRIDID}\\n->{YEAR_START}-{YEAR_END}\\n->{CATEGORY}\"\"\")\n",
    "\n",
    "from IPython.core.display import display, HTML\n",
    "display(HTML('-><br /><a href=\"{}\">Preview {} in Dimensions.ai &#x29c9;</a>'.format(dimensions_url(GRIDID), GRIDID)))\n",
    "\n",
    "\n",
    "# subject area query component\n",
    "if CATEGORY == \"None\":\n",
    "  subject_area_q =  \"\"\n",
    "else:\n",
    "  subject_area_q = f\"\"\" and category_for.name=\"{CATEGORY}\" \"\"\"\n",
    "\n",
    "query = f\"\"\"\n",
    "search publications\n",
    "    where research_orgs.id = \"{GRIDID}\"\n",
    "    and year in [{YEAR_START}:{YEAR_END}]\n",
    "    {subject_area_q}\n",
    "    return publications[id+concepts_scores+year]\n",
    "\"\"\"\n",
    "\n",
    "\n",
    "print(\"===\\nQuery:\\n\", query)\n",
    "print(\"===\\nRetrieving Publications.. \")\n",
    "data = dsl.query_iterative(query)\n",
    "\n",
    "print(\"===\\nExtracting Concepts.. \")\n",
    "concepts = data.as_dataframe_concepts()\n",
    "concepts_unique = concepts.drop_duplicates(\"concept\")[['concept', 'frequency', 'score_avg']]\n",
    "print(\"===\\nConcepts Found (total):\", len(concepts))\n",
    "print(\"===\\nUnique Concepts Found:\", len(concepts_unique))\n",
    "print(\"===\\nConcepts with frequency major than 1:\", len(concepts_unique.query(\"frequency > 1\")))"
   ]
  },
  {
   "cell_type": "markdown",
   "metadata": {
    "Collapsed": "false",
    "id": "BksdK3HJIxFq"
   },
   "source": [
    "## 2. Concepts: exploratory analysis\n",
    "\n",
    "The goal of this section is understanding what are the best settings to use, in order to extract useful concepts."
   ]
  },
  {
   "cell_type": "code",
   "execution_count": 4,
   "metadata": {
    "Collapsed": "false",
    "colab": {
     "base_uri": "https://localhost:8080/",
     "height": 786
    },
    "id": "Lzt6Rzs1KHcU",
    "outputId": "5e9a2be2-a452-4fab-9eb1-610ac55370cd"
   },
   "outputs": [
    {
     "name": "stdout",
     "output_type": "stream",
     "text": [
      "You selected:\n",
      "->200\n",
      "->2-70\n",
      "->0.4\n"
     ]
    },
    {
     "data": {
      "application/vnd.plotly.v1+json": {
       "config": {
        "plotlyServerURL": "https://plot.ly"
       },
       "data": [
        {
         "hovertemplate": "concept=%{x}<br>frequency=%{y}<br>score_avg=%{marker.color}<extra></extra>",
         "legendgroup": "",
         "marker": {
          "color": [
           0.8935,
           0.8785,
           0.874,
           0.8705,
           0.863,
           0.8615,
           0.861,
           0.858,
           0.857,
           0.856,
           0.856,
           0.854,
           0.853,
           0.853,
           0.853,
           0.8415,
           0.84,
           0.839,
           0.8332,
           0.8315,
           0.83,
           0.8282,
           0.82675,
           0.824,
           0.824,
           0.8225,
           0.8225,
           0.8225,
           0.822,
           0.8215,
           0.82,
           0.82,
           0.819,
           0.8185,
           0.81775,
           0.8175,
           0.8165,
           0.8155,
           0.81467,
           0.81333,
           0.813,
           0.812,
           0.81,
           0.809,
           0.80825,
           0.80733,
           0.807,
           0.80667,
           0.804,
           0.804,
           0.8025,
           0.802,
           0.801,
           0.801,
           0.797,
           0.795,
           0.794,
           0.7895,
           0.78933,
           0.788,
           0.78725,
           0.7865,
           0.7865,
           0.786,
           0.7845,
           0.7845,
           0.78425,
           0.7835,
           0.7825,
           0.7825,
           0.78067,
           0.78,
           0.779,
           0.778,
           0.777,
           0.777,
           0.777,
           0.776,
           0.77575,
           0.7755,
           0.7745,
           0.774,
           0.77367,
           0.7725,
           0.772,
           0.77133,
           0.7704,
           0.76943,
           0.7685,
           0.767,
           0.767,
           0.7665,
           0.7665,
           0.766,
           0.766,
           0.7645,
           0.764,
           0.7635,
           0.763,
           0.76267,
           0.7625,
           0.762,
           0.762,
           0.762,
           0.762,
           0.76175,
           0.7615,
           0.7615,
           0.761,
           0.761,
           0.761,
           0.761,
           0.7605,
           0.75967,
           0.7595,
           0.7595,
           0.759,
           0.759,
           0.759,
           0.7585,
           0.7585,
           0.7585,
           0.7585,
           0.758,
           0.75757,
           0.7575,
           0.7575,
           0.7575,
           0.7575,
           0.756,
           0.756,
           0.756,
           0.756,
           0.756,
           0.756,
           0.7555,
           0.755,
           0.755,
           0.755,
           0.75467,
           0.7545,
           0.7545,
           0.754,
           0.754,
           0.754,
           0.754,
           0.7535,
           0.7535,
           0.7535,
           0.7535,
           0.7535,
           0.753,
           0.753,
           0.753,
           0.753,
           0.7525,
           0.752,
           0.752,
           0.75183,
           0.75167,
           0.751,
           0.751,
           0.7505,
           0.7505,
           0.7495,
           0.7495,
           0.749,
           0.749,
           0.74875,
           0.7485,
           0.7485,
           0.748,
           0.7475,
           0.7475,
           0.747,
           0.747,
           0.7465,
           0.74633,
           0.746,
           0.746,
           0.74567,
           0.7455,
           0.7455,
           0.7455,
           0.745,
           0.7445,
           0.744,
           0.74367,
           0.743,
           0.7425,
           0.742,
           0.7415,
           0.7415,
           0.7415,
           0.7405,
           0.74,
           0.74,
           0.74,
           0.74,
           0.7395
          ],
          "coloraxis": "coloraxis",
          "size": [
           0.8935,
           0.8785,
           0.874,
           0.8705,
           0.863,
           0.8615,
           0.861,
           0.858,
           0.857,
           0.856,
           0.856,
           0.854,
           0.853,
           0.853,
           0.853,
           0.8415,
           0.84,
           0.839,
           0.8332,
           0.8315,
           0.83,
           0.8282,
           0.82675,
           0.824,
           0.824,
           0.8225,
           0.8225,
           0.8225,
           0.822,
           0.8215,
           0.82,
           0.82,
           0.819,
           0.8185,
           0.81775,
           0.8175,
           0.8165,
           0.8155,
           0.81467,
           0.81333,
           0.813,
           0.812,
           0.81,
           0.809,
           0.80825,
           0.80733,
           0.807,
           0.80667,
           0.804,
           0.804,
           0.8025,
           0.802,
           0.801,
           0.801,
           0.797,
           0.795,
           0.794,
           0.7895,
           0.78933,
           0.788,
           0.78725,
           0.7865,
           0.7865,
           0.786,
           0.7845,
           0.7845,
           0.78425,
           0.7835,
           0.7825,
           0.7825,
           0.78067,
           0.78,
           0.779,
           0.778,
           0.777,
           0.777,
           0.777,
           0.776,
           0.77575,
           0.7755,
           0.7745,
           0.774,
           0.77367,
           0.7725,
           0.772,
           0.77133,
           0.7704,
           0.76943,
           0.7685,
           0.767,
           0.767,
           0.7665,
           0.7665,
           0.766,
           0.766,
           0.7645,
           0.764,
           0.7635,
           0.763,
           0.76267,
           0.7625,
           0.762,
           0.762,
           0.762,
           0.762,
           0.76175,
           0.7615,
           0.7615,
           0.761,
           0.761,
           0.761,
           0.761,
           0.7605,
           0.75967,
           0.7595,
           0.7595,
           0.759,
           0.759,
           0.759,
           0.7585,
           0.7585,
           0.7585,
           0.7585,
           0.758,
           0.75757,
           0.7575,
           0.7575,
           0.7575,
           0.7575,
           0.756,
           0.756,
           0.756,
           0.756,
           0.756,
           0.756,
           0.7555,
           0.755,
           0.755,
           0.755,
           0.75467,
           0.7545,
           0.7545,
           0.754,
           0.754,
           0.754,
           0.754,
           0.7535,
           0.7535,
           0.7535,
           0.7535,
           0.7535,
           0.753,
           0.753,
           0.753,
           0.753,
           0.7525,
           0.752,
           0.752,
           0.75183,
           0.75167,
           0.751,
           0.751,
           0.7505,
           0.7505,
           0.7495,
           0.7495,
           0.749,
           0.749,
           0.74875,
           0.7485,
           0.7485,
           0.748,
           0.7475,
           0.7475,
           0.747,
           0.747,
           0.7465,
           0.74633,
           0.746,
           0.746,
           0.74567,
           0.7455,
           0.7455,
           0.7455,
           0.745,
           0.7445,
           0.744,
           0.74367,
           0.743,
           0.7425,
           0.742,
           0.7415,
           0.7415,
           0.7415,
           0.7405,
           0.74,
           0.74,
           0.74,
           0.74,
           0.7395
          ],
          "sizemode": "area",
          "sizeref": 0.00223375,
          "symbol": "circle"
         },
         "mode": "markers",
         "name": "",
         "orientation": "v",
         "showlegend": false,
         "type": "scatter",
         "x": [
          "embryonic stem cell research",
          "human embryonic stem cell research",
          "board gender diversity",
          "social science research",
          "environmental disclosure",
          "non-Christian religions",
          "New Testament studies",
          "discourse ethics",
          "compensation structure",
          "gender diversity",
          "role of history",
          "non-governmental organizations",
          "community-based research",
          "social contract theory",
          "literary history",
          "moral duty",
          "welfare rights",
          "children’s rights",
          "Jewish-Christian dialogue",
          "book culture",
          "later philosophy",
          "moral emotions",
          "stem cell research",
          "Catholic natural law",
          "trait selection",
          "philosophy of law",
          "digital media",
          "demonstrative thought",
          "philosophers of religion",
          "system of ethics",
          "clinical ethics consultation",
          "ethics of generosity",
          "mental imagery",
          "research ethics review",
          "evolutionary ethics",
          "Tamil literary history",
          "animal agriculture",
          "employee engagement",
          "philosophy of nature",
          "voluntary environmental disclosures",
          "farm animals",
          "member states",
          "employee entrepreneurship",
          "corporate fraud",
          "international human rights law",
          "minority rights",
          "history of psychiatry",
          "ethics of care",
          "financial misconduct",
          "multiple trait selection",
          "concept of truth",
          "Jewish ethical tradition",
          "Jewish-Christian relations",
          "Islamic schools",
          "vocal music",
          "Wittgenstein’s later philosophy",
          "spiritual warfare",
          "ethical research practice",
          "legal order",
          "Western intellectual tradition",
          "human rights law",
          "trait attributions",
          "Second African Synod",
          "corporate social performance",
          "moral justification",
          "law tradition",
          "moral psychology",
          "true doctrine",
          "private law",
          "Jewish ethics",
          "ethical traditions",
          "Islamic Cooperation",
          "social ethics",
          "professional ethics",
          "ethical themes",
          "moral competencies",
          "moral discourse",
          "research ethics governance",
          "point of departure",
          "contract theory",
          "financial performance",
          "art theory",
          "sexual identity",
          "political morality",
          "Global Reporting Initiative sustainability",
          "later writings",
          "ethics review board",
          "religious experience",
          "state of consciousness",
          "own thinking",
          "United Nations",
          "public theology",
          "geographical knowledge",
          "high performers",
          "neutral theory",
          "linear algebra",
          "international legal order",
          "epistemology of disagreement",
          "Natural Law account",
          "code of ethics",
          "fact of pluralism",
          "political agency",
          "analytic philosophy",
          "Grameen Bank",
          "theological ethics",
          "philosophy of mind",
          "philosophical tradition",
          "Jewish thinkers",
          "Islamic political thought",
          "philosophical position",
          "biomedical ethics",
          "philosophy of sex",
          "academic philosophy",
          "ethics of immigration",
          "ethical perspective",
          "theories of ethics",
          "long philosophical history",
          "Christian University",
          "research ethics guidelines",
          "global health research",
          "moral tradition",
          "great philosophers",
          "later dialogues",
          "liberal political theorists",
          "ethical theory",
          "new ethical challenges",
          "animal improvement",
          "future ethical challenges",
          "ethical goals",
          "cell research",
          "Advaita Vedānta",
          "synthetic distinction",
          "John Rawls's theory",
          "bioscience companies",
          "philosophy of history",
          "wall of separation",
          "gender-diverse boards",
          "science teachers",
          "medical tradition",
          "history of philosophy",
          "philosophy of language",
          "image of God",
          "corporate environmental performance",
          "research ethical issues",
          "theory of justice",
          "high performing employees",
          "social history",
          "character judgments",
          "natural philosophers",
          "secular rulers",
          "unique ethical challenges",
          "community-based participatory research",
          "global justice",
          "tort law",
          "discretionary environmental disclosures",
          "legal arguments",
          "sovereign power",
          "voluntary disclosure theory",
          "public reason",
          "educational theory",
          "ethics principles",
          "third step I",
          "Käthe Kollwitz",
          "instrumental reasoning",
          "contemporary liberal theory",
          "human soul",
          "today's political environment",
          "human resource management",
          "intellectual tradition",
          "religious observance",
          "Islamic Revolution",
          "historical amnesia",
          "psychological state",
          "visual mental imagery",
          "public health ethics",
          "religious reasons",
          "ancient Near East",
          "teaching of history",
          "historical understanding",
          "international political reality",
          "sacred music",
          "moral virtues",
          "ethics issues",
          "principled rejection",
          "liberal democratic states",
          "common home",
          "largest inter-governmental organization",
          "postcolonial theory",
          "post-regulation period",
          "historical facts",
          "Western civilization",
          "ethical arguments",
          "poverty relief",
          "mathematical physics",
          "ethics governance",
          "religious values",
          "intellectual virtues",
          "important strategic decisions",
          "content analysis index",
          "verbal language"
         ],
         "xaxis": "x",
         "y": [
          2,
          2,
          2,
          2,
          3,
          2,
          2,
          3,
          2,
          2,
          2,
          3,
          2,
          2,
          2,
          2,
          2,
          2,
          5,
          2,
          3,
          5,
          4,
          2,
          2,
          2,
          2,
          2,
          2,
          2,
          2,
          2,
          2,
          2,
          4,
          2,
          2,
          2,
          3,
          3,
          2,
          2,
          2,
          2,
          4,
          3,
          2,
          3,
          2,
          2,
          2,
          3,
          3,
          2,
          2,
          3,
          2,
          2,
          6,
          3,
          4,
          2,
          2,
          2,
          2,
          2,
          4,
          2,
          2,
          2,
          3,
          2,
          2,
          2,
          2,
          2,
          2,
          2,
          4,
          2,
          2,
          2,
          3,
          2,
          2,
          3,
          5,
          7,
          2,
          3,
          2,
          2,
          2,
          2,
          2,
          2,
          2,
          2,
          2,
          3,
          2,
          2,
          2,
          2,
          2,
          4,
          2,
          2,
          2,
          2,
          2,
          2,
          2,
          3,
          2,
          2,
          2,
          2,
          2,
          4,
          2,
          2,
          2,
          2,
          7,
          2,
          2,
          2,
          2,
          4,
          2,
          2,
          2,
          2,
          2,
          2,
          2,
          2,
          2,
          3,
          2,
          2,
          3,
          2,
          2,
          2,
          4,
          2,
          2,
          2,
          2,
          3,
          3,
          2,
          2,
          2,
          2,
          2,
          6,
          3,
          2,
          2,
          2,
          2,
          2,
          2,
          2,
          2,
          4,
          2,
          2,
          2,
          2,
          2,
          8,
          2,
          2,
          3,
          2,
          2,
          3,
          2,
          2,
          2,
          2,
          2,
          2,
          3,
          2,
          2,
          2,
          2,
          2,
          2,
          2,
          3,
          2,
          2,
          2,
          2
         ],
         "yaxis": "y"
        }
       ],
       "layout": {
        "coloraxis": {
         "colorbar": {
          "title": {
           "text": "score_avg"
          }
         },
         "colorscale": [
          [
           0,
           "#0d0887"
          ],
          [
           0.1111111111111111,
           "#46039f"
          ],
          [
           0.2222222222222222,
           "#7201a8"
          ],
          [
           0.3333333333333333,
           "#9c179e"
          ],
          [
           0.4444444444444444,
           "#bd3786"
          ],
          [
           0.5555555555555556,
           "#d8576b"
          ],
          [
           0.6666666666666666,
           "#ed7953"
          ],
          [
           0.7777777777777778,
           "#fb9f3a"
          ],
          [
           0.8888888888888888,
           "#fdca26"
          ],
          [
           1,
           "#f0f921"
          ]
         ]
        },
        "height": 700,
        "legend": {
         "itemsizing": "constant",
         "tracegroupgap": 0
        },
        "margin": {
         "t": 60
        },
        "template": {
         "data": {
          "bar": [
           {
            "error_x": {
             "color": "#2a3f5f"
            },
            "error_y": {
             "color": "#2a3f5f"
            },
            "marker": {
             "line": {
              "color": "#E5ECF6",
              "width": 0.5
             },
             "pattern": {
              "fillmode": "overlay",
              "size": 10,
              "solidity": 0.2
             }
            },
            "type": "bar"
           }
          ],
          "barpolar": [
           {
            "marker": {
             "line": {
              "color": "#E5ECF6",
              "width": 0.5
             },
             "pattern": {
              "fillmode": "overlay",
              "size": 10,
              "solidity": 0.2
             }
            },
            "type": "barpolar"
           }
          ],
          "carpet": [
           {
            "aaxis": {
             "endlinecolor": "#2a3f5f",
             "gridcolor": "white",
             "linecolor": "white",
             "minorgridcolor": "white",
             "startlinecolor": "#2a3f5f"
            },
            "baxis": {
             "endlinecolor": "#2a3f5f",
             "gridcolor": "white",
             "linecolor": "white",
             "minorgridcolor": "white",
             "startlinecolor": "#2a3f5f"
            },
            "type": "carpet"
           }
          ],
          "choropleth": [
           {
            "colorbar": {
             "outlinewidth": 0,
             "ticks": ""
            },
            "type": "choropleth"
           }
          ],
          "contour": [
           {
            "colorbar": {
             "outlinewidth": 0,
             "ticks": ""
            },
            "colorscale": [
             [
              0,
              "#0d0887"
             ],
             [
              0.1111111111111111,
              "#46039f"
             ],
             [
              0.2222222222222222,
              "#7201a8"
             ],
             [
              0.3333333333333333,
              "#9c179e"
             ],
             [
              0.4444444444444444,
              "#bd3786"
             ],
             [
              0.5555555555555556,
              "#d8576b"
             ],
             [
              0.6666666666666666,
              "#ed7953"
             ],
             [
              0.7777777777777778,
              "#fb9f3a"
             ],
             [
              0.8888888888888888,
              "#fdca26"
             ],
             [
              1,
              "#f0f921"
             ]
            ],
            "type": "contour"
           }
          ],
          "contourcarpet": [
           {
            "colorbar": {
             "outlinewidth": 0,
             "ticks": ""
            },
            "type": "contourcarpet"
           }
          ],
          "heatmap": [
           {
            "colorbar": {
             "outlinewidth": 0,
             "ticks": ""
            },
            "colorscale": [
             [
              0,
              "#0d0887"
             ],
             [
              0.1111111111111111,
              "#46039f"
             ],
             [
              0.2222222222222222,
              "#7201a8"
             ],
             [
              0.3333333333333333,
              "#9c179e"
             ],
             [
              0.4444444444444444,
              "#bd3786"
             ],
             [
              0.5555555555555556,
              "#d8576b"
             ],
             [
              0.6666666666666666,
              "#ed7953"
             ],
             [
              0.7777777777777778,
              "#fb9f3a"
             ],
             [
              0.8888888888888888,
              "#fdca26"
             ],
             [
              1,
              "#f0f921"
             ]
            ],
            "type": "heatmap"
           }
          ],
          "heatmapgl": [
           {
            "colorbar": {
             "outlinewidth": 0,
             "ticks": ""
            },
            "colorscale": [
             [
              0,
              "#0d0887"
             ],
             [
              0.1111111111111111,
              "#46039f"
             ],
             [
              0.2222222222222222,
              "#7201a8"
             ],
             [
              0.3333333333333333,
              "#9c179e"
             ],
             [
              0.4444444444444444,
              "#bd3786"
             ],
             [
              0.5555555555555556,
              "#d8576b"
             ],
             [
              0.6666666666666666,
              "#ed7953"
             ],
             [
              0.7777777777777778,
              "#fb9f3a"
             ],
             [
              0.8888888888888888,
              "#fdca26"
             ],
             [
              1,
              "#f0f921"
             ]
            ],
            "type": "heatmapgl"
           }
          ],
          "histogram": [
           {
            "marker": {
             "pattern": {
              "fillmode": "overlay",
              "size": 10,
              "solidity": 0.2
             }
            },
            "type": "histogram"
           }
          ],
          "histogram2d": [
           {
            "colorbar": {
             "outlinewidth": 0,
             "ticks": ""
            },
            "colorscale": [
             [
              0,
              "#0d0887"
             ],
             [
              0.1111111111111111,
              "#46039f"
             ],
             [
              0.2222222222222222,
              "#7201a8"
             ],
             [
              0.3333333333333333,
              "#9c179e"
             ],
             [
              0.4444444444444444,
              "#bd3786"
             ],
             [
              0.5555555555555556,
              "#d8576b"
             ],
             [
              0.6666666666666666,
              "#ed7953"
             ],
             [
              0.7777777777777778,
              "#fb9f3a"
             ],
             [
              0.8888888888888888,
              "#fdca26"
             ],
             [
              1,
              "#f0f921"
             ]
            ],
            "type": "histogram2d"
           }
          ],
          "histogram2dcontour": [
           {
            "colorbar": {
             "outlinewidth": 0,
             "ticks": ""
            },
            "colorscale": [
             [
              0,
              "#0d0887"
             ],
             [
              0.1111111111111111,
              "#46039f"
             ],
             [
              0.2222222222222222,
              "#7201a8"
             ],
             [
              0.3333333333333333,
              "#9c179e"
             ],
             [
              0.4444444444444444,
              "#bd3786"
             ],
             [
              0.5555555555555556,
              "#d8576b"
             ],
             [
              0.6666666666666666,
              "#ed7953"
             ],
             [
              0.7777777777777778,
              "#fb9f3a"
             ],
             [
              0.8888888888888888,
              "#fdca26"
             ],
             [
              1,
              "#f0f921"
             ]
            ],
            "type": "histogram2dcontour"
           }
          ],
          "mesh3d": [
           {
            "colorbar": {
             "outlinewidth": 0,
             "ticks": ""
            },
            "type": "mesh3d"
           }
          ],
          "parcoords": [
           {
            "line": {
             "colorbar": {
              "outlinewidth": 0,
              "ticks": ""
             }
            },
            "type": "parcoords"
           }
          ],
          "pie": [
           {
            "automargin": true,
            "type": "pie"
           }
          ],
          "scatter": [
           {
            "fillpattern": {
             "fillmode": "overlay",
             "size": 10,
             "solidity": 0.2
            },
            "type": "scatter"
           }
          ],
          "scatter3d": [
           {
            "line": {
             "colorbar": {
              "outlinewidth": 0,
              "ticks": ""
             }
            },
            "marker": {
             "colorbar": {
              "outlinewidth": 0,
              "ticks": ""
             }
            },
            "type": "scatter3d"
           }
          ],
          "scattercarpet": [
           {
            "marker": {
             "colorbar": {
              "outlinewidth": 0,
              "ticks": ""
             }
            },
            "type": "scattercarpet"
           }
          ],
          "scattergeo": [
           {
            "marker": {
             "colorbar": {
              "outlinewidth": 0,
              "ticks": ""
             }
            },
            "type": "scattergeo"
           }
          ],
          "scattergl": [
           {
            "marker": {
             "colorbar": {
              "outlinewidth": 0,
              "ticks": ""
             }
            },
            "type": "scattergl"
           }
          ],
          "scattermapbox": [
           {
            "marker": {
             "colorbar": {
              "outlinewidth": 0,
              "ticks": ""
             }
            },
            "type": "scattermapbox"
           }
          ],
          "scatterpolar": [
           {
            "marker": {
             "colorbar": {
              "outlinewidth": 0,
              "ticks": ""
             }
            },
            "type": "scatterpolar"
           }
          ],
          "scatterpolargl": [
           {
            "marker": {
             "colorbar": {
              "outlinewidth": 0,
              "ticks": ""
             }
            },
            "type": "scatterpolargl"
           }
          ],
          "scatterternary": [
           {
            "marker": {
             "colorbar": {
              "outlinewidth": 0,
              "ticks": ""
             }
            },
            "type": "scatterternary"
           }
          ],
          "surface": [
           {
            "colorbar": {
             "outlinewidth": 0,
             "ticks": ""
            },
            "colorscale": [
             [
              0,
              "#0d0887"
             ],
             [
              0.1111111111111111,
              "#46039f"
             ],
             [
              0.2222222222222222,
              "#7201a8"
             ],
             [
              0.3333333333333333,
              "#9c179e"
             ],
             [
              0.4444444444444444,
              "#bd3786"
             ],
             [
              0.5555555555555556,
              "#d8576b"
             ],
             [
              0.6666666666666666,
              "#ed7953"
             ],
             [
              0.7777777777777778,
              "#fb9f3a"
             ],
             [
              0.8888888888888888,
              "#fdca26"
             ],
             [
              1,
              "#f0f921"
             ]
            ],
            "type": "surface"
           }
          ],
          "table": [
           {
            "cells": {
             "fill": {
              "color": "#EBF0F8"
             },
             "line": {
              "color": "white"
             }
            },
            "header": {
             "fill": {
              "color": "#C8D4E3"
             },
             "line": {
              "color": "white"
             }
            },
            "type": "table"
           }
          ]
         },
         "layout": {
          "annotationdefaults": {
           "arrowcolor": "#2a3f5f",
           "arrowhead": 0,
           "arrowwidth": 1
          },
          "autotypenumbers": "strict",
          "coloraxis": {
           "colorbar": {
            "outlinewidth": 0,
            "ticks": ""
           }
          },
          "colorscale": {
           "diverging": [
            [
             0,
             "#8e0152"
            ],
            [
             0.1,
             "#c51b7d"
            ],
            [
             0.2,
             "#de77ae"
            ],
            [
             0.3,
             "#f1b6da"
            ],
            [
             0.4,
             "#fde0ef"
            ],
            [
             0.5,
             "#f7f7f7"
            ],
            [
             0.6,
             "#e6f5d0"
            ],
            [
             0.7,
             "#b8e186"
            ],
            [
             0.8,
             "#7fbc41"
            ],
            [
             0.9,
             "#4d9221"
            ],
            [
             1,
             "#276419"
            ]
           ],
           "sequential": [
            [
             0,
             "#0d0887"
            ],
            [
             0.1111111111111111,
             "#46039f"
            ],
            [
             0.2222222222222222,
             "#7201a8"
            ],
            [
             0.3333333333333333,
             "#9c179e"
            ],
            [
             0.4444444444444444,
             "#bd3786"
            ],
            [
             0.5555555555555556,
             "#d8576b"
            ],
            [
             0.6666666666666666,
             "#ed7953"
            ],
            [
             0.7777777777777778,
             "#fb9f3a"
            ],
            [
             0.8888888888888888,
             "#fdca26"
            ],
            [
             1,
             "#f0f921"
            ]
           ],
           "sequentialminus": [
            [
             0,
             "#0d0887"
            ],
            [
             0.1111111111111111,
             "#46039f"
            ],
            [
             0.2222222222222222,
             "#7201a8"
            ],
            [
             0.3333333333333333,
             "#9c179e"
            ],
            [
             0.4444444444444444,
             "#bd3786"
            ],
            [
             0.5555555555555556,
             "#d8576b"
            ],
            [
             0.6666666666666666,
             "#ed7953"
            ],
            [
             0.7777777777777778,
             "#fb9f3a"
            ],
            [
             0.8888888888888888,
             "#fdca26"
            ],
            [
             1,
             "#f0f921"
            ]
           ]
          },
          "colorway": [
           "#636efa",
           "#EF553B",
           "#00cc96",
           "#ab63fa",
           "#FFA15A",
           "#19d3f3",
           "#FF6692",
           "#B6E880",
           "#FF97FF",
           "#FECB52"
          ],
          "font": {
           "color": "#2a3f5f"
          },
          "geo": {
           "bgcolor": "white",
           "lakecolor": "white",
           "landcolor": "#E5ECF6",
           "showlakes": true,
           "showland": true,
           "subunitcolor": "white"
          },
          "hoverlabel": {
           "align": "left"
          },
          "hovermode": "closest",
          "mapbox": {
           "style": "light"
          },
          "paper_bgcolor": "white",
          "plot_bgcolor": "#E5ECF6",
          "polar": {
           "angularaxis": {
            "gridcolor": "white",
            "linecolor": "white",
            "ticks": ""
           },
           "bgcolor": "#E5ECF6",
           "radialaxis": {
            "gridcolor": "white",
            "linecolor": "white",
            "ticks": ""
           }
          },
          "scene": {
           "xaxis": {
            "backgroundcolor": "#E5ECF6",
            "gridcolor": "white",
            "gridwidth": 2,
            "linecolor": "white",
            "showbackground": true,
            "ticks": "",
            "zerolinecolor": "white"
           },
           "yaxis": {
            "backgroundcolor": "#E5ECF6",
            "gridcolor": "white",
            "gridwidth": 2,
            "linecolor": "white",
            "showbackground": true,
            "ticks": "",
            "zerolinecolor": "white"
           },
           "zaxis": {
            "backgroundcolor": "#E5ECF6",
            "gridcolor": "white",
            "gridwidth": 2,
            "linecolor": "white",
            "showbackground": true,
            "ticks": "",
            "zerolinecolor": "white"
           }
          },
          "shapedefaults": {
           "line": {
            "color": "#2a3f5f"
           }
          },
          "ternary": {
           "aaxis": {
            "gridcolor": "white",
            "linecolor": "white",
            "ticks": ""
           },
           "baxis": {
            "gridcolor": "white",
            "linecolor": "white",
            "ticks": ""
           },
           "bgcolor": "#E5ECF6",
           "caxis": {
            "gridcolor": "white",
            "linecolor": "white",
            "ticks": ""
           }
          },
          "title": {
           "x": 0.05
          },
          "xaxis": {
           "automargin": true,
           "gridcolor": "white",
           "linecolor": "white",
           "ticks": "",
           "title": {
            "standoff": 15
           },
           "zerolinecolor": "white",
           "zerolinewidth": 2
          },
          "yaxis": {
           "automargin": true,
           "gridcolor": "white",
           "linecolor": "white",
           "ticks": "",
           "title": {
            "standoff": 15
           },
           "zerolinecolor": "white",
           "zerolinewidth": 2
          }
         }
        },
        "xaxis": {
         "anchor": "y",
         "domain": [
          0,
          1
         ],
         "title": {
          "text": "concept"
         }
        },
        "yaxis": {
         "anchor": "x",
         "domain": [
          0,
          1
         ],
         "title": {
          "text": "frequency"
         }
        }
       }
      },
      "text/html": [
       "<div>                            <div id=\"2c937730-b1e8-4700-ba2d-bd7923499d21\" class=\"plotly-graph-div\" style=\"height:700px; width:100%;\"></div>            <script type=\"text/javascript\">                require([\"plotly\"], function(Plotly) {                    window.PLOTLYENV=window.PLOTLYENV || {};                                    if (document.getElementById(\"2c937730-b1e8-4700-ba2d-bd7923499d21\")) {                    Plotly.newPlot(                        \"2c937730-b1e8-4700-ba2d-bd7923499d21\",                        [{\"hovertemplate\":\"concept=%{x}\\u003cbr\\u003efrequency=%{y}\\u003cbr\\u003escore_avg=%{marker.color}\\u003cextra\\u003e\\u003c\\u002fextra\\u003e\",\"legendgroup\":\"\",\"marker\":{\"color\":[0.8935,0.8785,0.874,0.8705,0.863,0.8615,0.861,0.858,0.857,0.856,0.856,0.854,0.853,0.853,0.853,0.8415,0.84,0.839,0.8332,0.8315,0.83,0.8282,0.82675,0.824,0.824,0.8225,0.8225,0.8225,0.822,0.8215,0.82,0.82,0.819,0.8185,0.81775,0.8175,0.8165,0.8155,0.81467,0.81333,0.813,0.812,0.81,0.809,0.80825,0.80733,0.807,0.80667,0.804,0.804,0.8025,0.802,0.801,0.801,0.797,0.795,0.794,0.7895,0.78933,0.788,0.78725,0.7865,0.7865,0.786,0.7845,0.7845,0.78425,0.7835,0.7825,0.7825,0.78067,0.78,0.779,0.778,0.777,0.777,0.777,0.776,0.77575,0.7755,0.7745,0.774,0.77367,0.7725,0.772,0.77133,0.7704,0.76943,0.7685,0.767,0.767,0.7665,0.7665,0.766,0.766,0.7645,0.764,0.7635,0.763,0.76267,0.7625,0.762,0.762,0.762,0.762,0.76175,0.7615,0.7615,0.761,0.761,0.761,0.761,0.7605,0.75967,0.7595,0.7595,0.759,0.759,0.759,0.7585,0.7585,0.7585,0.7585,0.758,0.75757,0.7575,0.7575,0.7575,0.7575,0.756,0.756,0.756,0.756,0.756,0.756,0.7555,0.755,0.755,0.755,0.75467,0.7545,0.7545,0.754,0.754,0.754,0.754,0.7535,0.7535,0.7535,0.7535,0.7535,0.753,0.753,0.753,0.753,0.7525,0.752,0.752,0.75183,0.75167,0.751,0.751,0.7505,0.7505,0.7495,0.7495,0.749,0.749,0.74875,0.7485,0.7485,0.748,0.7475,0.7475,0.747,0.747,0.7465,0.74633,0.746,0.746,0.74567,0.7455,0.7455,0.7455,0.745,0.7445,0.744,0.74367,0.743,0.7425,0.742,0.7415,0.7415,0.7415,0.7405,0.74,0.74,0.74,0.74,0.7395],\"coloraxis\":\"coloraxis\",\"size\":[0.8935,0.8785,0.874,0.8705,0.863,0.8615,0.861,0.858,0.857,0.856,0.856,0.854,0.853,0.853,0.853,0.8415,0.84,0.839,0.8332,0.8315,0.83,0.8282,0.82675,0.824,0.824,0.8225,0.8225,0.8225,0.822,0.8215,0.82,0.82,0.819,0.8185,0.81775,0.8175,0.8165,0.8155,0.81467,0.81333,0.813,0.812,0.81,0.809,0.80825,0.80733,0.807,0.80667,0.804,0.804,0.8025,0.802,0.801,0.801,0.797,0.795,0.794,0.7895,0.78933,0.788,0.78725,0.7865,0.7865,0.786,0.7845,0.7845,0.78425,0.7835,0.7825,0.7825,0.78067,0.78,0.779,0.778,0.777,0.777,0.777,0.776,0.77575,0.7755,0.7745,0.774,0.77367,0.7725,0.772,0.77133,0.7704,0.76943,0.7685,0.767,0.767,0.7665,0.7665,0.766,0.766,0.7645,0.764,0.7635,0.763,0.76267,0.7625,0.762,0.762,0.762,0.762,0.76175,0.7615,0.7615,0.761,0.761,0.761,0.761,0.7605,0.75967,0.7595,0.7595,0.759,0.759,0.759,0.7585,0.7585,0.7585,0.7585,0.758,0.75757,0.7575,0.7575,0.7575,0.7575,0.756,0.756,0.756,0.756,0.756,0.756,0.7555,0.755,0.755,0.755,0.75467,0.7545,0.7545,0.754,0.754,0.754,0.754,0.7535,0.7535,0.7535,0.7535,0.7535,0.753,0.753,0.753,0.753,0.7525,0.752,0.752,0.75183,0.75167,0.751,0.751,0.7505,0.7505,0.7495,0.7495,0.749,0.749,0.74875,0.7485,0.7485,0.748,0.7475,0.7475,0.747,0.747,0.7465,0.74633,0.746,0.746,0.74567,0.7455,0.7455,0.7455,0.745,0.7445,0.744,0.74367,0.743,0.7425,0.742,0.7415,0.7415,0.7415,0.7405,0.74,0.74,0.74,0.74,0.7395],\"sizemode\":\"area\",\"sizeref\":0.00223375,\"symbol\":\"circle\"},\"mode\":\"markers\",\"name\":\"\",\"orientation\":\"v\",\"showlegend\":false,\"x\":[\"embryonic stem cell research\",\"human embryonic stem cell research\",\"board gender diversity\",\"social science research\",\"environmental disclosure\",\"non-Christian religions\",\"New Testament studies\",\"discourse ethics\",\"compensation structure\",\"gender diversity\",\"role of history\",\"non-governmental organizations\",\"community-based research\",\"social contract theory\",\"literary history\",\"moral duty\",\"welfare rights\",\"children\\u2019s rights\",\"Jewish-Christian dialogue\",\"book culture\",\"later philosophy\",\"moral emotions\",\"stem cell research\",\"Catholic natural law\",\"trait selection\",\"philosophy of law\",\"digital media\",\"demonstrative thought\",\"philosophers of religion\",\"system of ethics\",\"clinical ethics consultation\",\"ethics of generosity\",\"mental imagery\",\"research ethics review\",\"evolutionary ethics\",\"Tamil literary history\",\"animal agriculture\",\"employee engagement\",\"philosophy of nature\",\"voluntary environmental disclosures\",\"farm animals\",\"member states\",\"employee entrepreneurship\",\"corporate fraud\",\"international human rights law\",\"minority rights\",\"history of psychiatry\",\"ethics of care\",\"financial misconduct\",\"multiple trait selection\",\"concept of truth\",\"Jewish ethical tradition\",\"Jewish-Christian relations\",\"Islamic schools\",\"vocal music\",\"Wittgenstein\\u2019s later philosophy\",\"spiritual warfare\",\"ethical research practice\",\"legal order\",\"Western intellectual tradition\",\"human rights law\",\"trait attributions\",\"Second African Synod\",\"corporate social performance\",\"moral justification\",\"law tradition\",\"moral psychology\",\"true doctrine\",\"private law\",\"Jewish ethics\",\"ethical traditions\",\"Islamic Cooperation\",\"social ethics\",\"professional ethics\",\"ethical themes\",\"moral competencies\",\"moral discourse\",\"research ethics governance\",\"point of departure\",\"contract theory\",\"financial performance\",\"art theory\",\"sexual identity\",\"political morality\",\"Global Reporting Initiative sustainability\",\"later writings\",\"ethics review board\",\"religious experience\",\"state of consciousness\",\"own thinking\",\"United Nations\",\"public theology\",\"geographical knowledge\",\"high performers\",\"neutral theory\",\"linear algebra\",\"international legal order\",\"epistemology of disagreement\",\"Natural Law account\",\"code of ethics\",\"fact of pluralism\",\"political agency\",\"analytic philosophy\",\"Grameen Bank\",\"theological ethics\",\"philosophy of mind\",\"philosophical tradition\",\"Jewish thinkers\",\"Islamic political thought\",\"philosophical position\",\"biomedical ethics\",\"philosophy of sex\",\"academic philosophy\",\"ethics of immigration\",\"ethical perspective\",\"theories of ethics\",\"long philosophical history\",\"Christian University\",\"research ethics guidelines\",\"global health research\",\"moral tradition\",\"great philosophers\",\"later dialogues\",\"liberal political theorists\",\"ethical theory\",\"new ethical challenges\",\"animal improvement\",\"future ethical challenges\",\"ethical goals\",\"cell research\",\"Advaita Ved\\u0101nta\",\"synthetic distinction\",\"John Rawls's theory\",\"bioscience companies\",\"philosophy of history\",\"wall of separation\",\"gender-diverse boards\",\"science teachers\",\"medical tradition\",\"history of philosophy\",\"philosophy of language\",\"image of God\",\"corporate environmental performance\",\"research ethical issues\",\"theory of justice\",\"high performing employees\",\"social history\",\"character judgments\",\"natural philosophers\",\"secular rulers\",\"unique ethical challenges\",\"community-based participatory research\",\"global justice\",\"tort law\",\"discretionary environmental disclosures\",\"legal arguments\",\"sovereign power\",\"voluntary disclosure theory\",\"public reason\",\"educational theory\",\"ethics principles\",\"third step I\",\"K\\u00e4the Kollwitz\",\"instrumental reasoning\",\"contemporary liberal theory\",\"human soul\",\"today's political environment\",\"human resource management\",\"intellectual tradition\",\"religious observance\",\"Islamic Revolution\",\"historical amnesia\",\"psychological state\",\"visual mental imagery\",\"public health ethics\",\"religious reasons\",\"ancient Near East\",\"teaching of history\",\"historical understanding\",\"international political reality\",\"sacred music\",\"moral virtues\",\"ethics issues\",\"principled rejection\",\"liberal democratic states\",\"common home\",\"largest inter-governmental organization\",\"postcolonial theory\",\"post-regulation period\",\"historical facts\",\"Western civilization\",\"ethical arguments\",\"poverty relief\",\"mathematical physics\",\"ethics governance\",\"religious values\",\"intellectual virtues\",\"important strategic decisions\",\"content analysis index\",\"verbal language\"],\"xaxis\":\"x\",\"y\":[2,2,2,2,3,2,2,3,2,2,2,3,2,2,2,2,2,2,5,2,3,5,4,2,2,2,2,2,2,2,2,2,2,2,4,2,2,2,3,3,2,2,2,2,4,3,2,3,2,2,2,3,3,2,2,3,2,2,6,3,4,2,2,2,2,2,4,2,2,2,3,2,2,2,2,2,2,2,4,2,2,2,3,2,2,3,5,7,2,3,2,2,2,2,2,2,2,2,2,3,2,2,2,2,2,4,2,2,2,2,2,2,2,3,2,2,2,2,2,4,2,2,2,2,7,2,2,2,2,4,2,2,2,2,2,2,2,2,2,3,2,2,3,2,2,2,4,2,2,2,2,3,3,2,2,2,2,2,6,3,2,2,2,2,2,2,2,2,4,2,2,2,2,2,8,2,2,3,2,2,3,2,2,2,2,2,2,3,2,2,2,2,2,2,2,3,2,2,2,2],\"yaxis\":\"y\",\"type\":\"scatter\"}],                        {\"template\":{\"data\":{\"histogram2dcontour\":[{\"type\":\"histogram2dcontour\",\"colorbar\":{\"outlinewidth\":0,\"ticks\":\"\"},\"colorscale\":[[0.0,\"#0d0887\"],[0.1111111111111111,\"#46039f\"],[0.2222222222222222,\"#7201a8\"],[0.3333333333333333,\"#9c179e\"],[0.4444444444444444,\"#bd3786\"],[0.5555555555555556,\"#d8576b\"],[0.6666666666666666,\"#ed7953\"],[0.7777777777777778,\"#fb9f3a\"],[0.8888888888888888,\"#fdca26\"],[1.0,\"#f0f921\"]]}],\"choropleth\":[{\"type\":\"choropleth\",\"colorbar\":{\"outlinewidth\":0,\"ticks\":\"\"}}],\"histogram2d\":[{\"type\":\"histogram2d\",\"colorbar\":{\"outlinewidth\":0,\"ticks\":\"\"},\"colorscale\":[[0.0,\"#0d0887\"],[0.1111111111111111,\"#46039f\"],[0.2222222222222222,\"#7201a8\"],[0.3333333333333333,\"#9c179e\"],[0.4444444444444444,\"#bd3786\"],[0.5555555555555556,\"#d8576b\"],[0.6666666666666666,\"#ed7953\"],[0.7777777777777778,\"#fb9f3a\"],[0.8888888888888888,\"#fdca26\"],[1.0,\"#f0f921\"]]}],\"heatmap\":[{\"type\":\"heatmap\",\"colorbar\":{\"outlinewidth\":0,\"ticks\":\"\"},\"colorscale\":[[0.0,\"#0d0887\"],[0.1111111111111111,\"#46039f\"],[0.2222222222222222,\"#7201a8\"],[0.3333333333333333,\"#9c179e\"],[0.4444444444444444,\"#bd3786\"],[0.5555555555555556,\"#d8576b\"],[0.6666666666666666,\"#ed7953\"],[0.7777777777777778,\"#fb9f3a\"],[0.8888888888888888,\"#fdca26\"],[1.0,\"#f0f921\"]]}],\"heatmapgl\":[{\"type\":\"heatmapgl\",\"colorbar\":{\"outlinewidth\":0,\"ticks\":\"\"},\"colorscale\":[[0.0,\"#0d0887\"],[0.1111111111111111,\"#46039f\"],[0.2222222222222222,\"#7201a8\"],[0.3333333333333333,\"#9c179e\"],[0.4444444444444444,\"#bd3786\"],[0.5555555555555556,\"#d8576b\"],[0.6666666666666666,\"#ed7953\"],[0.7777777777777778,\"#fb9f3a\"],[0.8888888888888888,\"#fdca26\"],[1.0,\"#f0f921\"]]}],\"contourcarpet\":[{\"type\":\"contourcarpet\",\"colorbar\":{\"outlinewidth\":0,\"ticks\":\"\"}}],\"contour\":[{\"type\":\"contour\",\"colorbar\":{\"outlinewidth\":0,\"ticks\":\"\"},\"colorscale\":[[0.0,\"#0d0887\"],[0.1111111111111111,\"#46039f\"],[0.2222222222222222,\"#7201a8\"],[0.3333333333333333,\"#9c179e\"],[0.4444444444444444,\"#bd3786\"],[0.5555555555555556,\"#d8576b\"],[0.6666666666666666,\"#ed7953\"],[0.7777777777777778,\"#fb9f3a\"],[0.8888888888888888,\"#fdca26\"],[1.0,\"#f0f921\"]]}],\"surface\":[{\"type\":\"surface\",\"colorbar\":{\"outlinewidth\":0,\"ticks\":\"\"},\"colorscale\":[[0.0,\"#0d0887\"],[0.1111111111111111,\"#46039f\"],[0.2222222222222222,\"#7201a8\"],[0.3333333333333333,\"#9c179e\"],[0.4444444444444444,\"#bd3786\"],[0.5555555555555556,\"#d8576b\"],[0.6666666666666666,\"#ed7953\"],[0.7777777777777778,\"#fb9f3a\"],[0.8888888888888888,\"#fdca26\"],[1.0,\"#f0f921\"]]}],\"mesh3d\":[{\"type\":\"mesh3d\",\"colorbar\":{\"outlinewidth\":0,\"ticks\":\"\"}}],\"scatter\":[{\"fillpattern\":{\"fillmode\":\"overlay\",\"size\":10,\"solidity\":0.2},\"type\":\"scatter\"}],\"parcoords\":[{\"type\":\"parcoords\",\"line\":{\"colorbar\":{\"outlinewidth\":0,\"ticks\":\"\"}}}],\"scatterpolargl\":[{\"type\":\"scatterpolargl\",\"marker\":{\"colorbar\":{\"outlinewidth\":0,\"ticks\":\"\"}}}],\"bar\":[{\"error_x\":{\"color\":\"#2a3f5f\"},\"error_y\":{\"color\":\"#2a3f5f\"},\"marker\":{\"line\":{\"color\":\"#E5ECF6\",\"width\":0.5},\"pattern\":{\"fillmode\":\"overlay\",\"size\":10,\"solidity\":0.2}},\"type\":\"bar\"}],\"scattergeo\":[{\"type\":\"scattergeo\",\"marker\":{\"colorbar\":{\"outlinewidth\":0,\"ticks\":\"\"}}}],\"scatterpolar\":[{\"type\":\"scatterpolar\",\"marker\":{\"colorbar\":{\"outlinewidth\":0,\"ticks\":\"\"}}}],\"histogram\":[{\"marker\":{\"pattern\":{\"fillmode\":\"overlay\",\"size\":10,\"solidity\":0.2}},\"type\":\"histogram\"}],\"scattergl\":[{\"type\":\"scattergl\",\"marker\":{\"colorbar\":{\"outlinewidth\":0,\"ticks\":\"\"}}}],\"scatter3d\":[{\"type\":\"scatter3d\",\"line\":{\"colorbar\":{\"outlinewidth\":0,\"ticks\":\"\"}},\"marker\":{\"colorbar\":{\"outlinewidth\":0,\"ticks\":\"\"}}}],\"scattermapbox\":[{\"type\":\"scattermapbox\",\"marker\":{\"colorbar\":{\"outlinewidth\":0,\"ticks\":\"\"}}}],\"scatterternary\":[{\"type\":\"scatterternary\",\"marker\":{\"colorbar\":{\"outlinewidth\":0,\"ticks\":\"\"}}}],\"scattercarpet\":[{\"type\":\"scattercarpet\",\"marker\":{\"colorbar\":{\"outlinewidth\":0,\"ticks\":\"\"}}}],\"carpet\":[{\"aaxis\":{\"endlinecolor\":\"#2a3f5f\",\"gridcolor\":\"white\",\"linecolor\":\"white\",\"minorgridcolor\":\"white\",\"startlinecolor\":\"#2a3f5f\"},\"baxis\":{\"endlinecolor\":\"#2a3f5f\",\"gridcolor\":\"white\",\"linecolor\":\"white\",\"minorgridcolor\":\"white\",\"startlinecolor\":\"#2a3f5f\"},\"type\":\"carpet\"}],\"table\":[{\"cells\":{\"fill\":{\"color\":\"#EBF0F8\"},\"line\":{\"color\":\"white\"}},\"header\":{\"fill\":{\"color\":\"#C8D4E3\"},\"line\":{\"color\":\"white\"}},\"type\":\"table\"}],\"barpolar\":[{\"marker\":{\"line\":{\"color\":\"#E5ECF6\",\"width\":0.5},\"pattern\":{\"fillmode\":\"overlay\",\"size\":10,\"solidity\":0.2}},\"type\":\"barpolar\"}],\"pie\":[{\"automargin\":true,\"type\":\"pie\"}]},\"layout\":{\"autotypenumbers\":\"strict\",\"colorway\":[\"#636efa\",\"#EF553B\",\"#00cc96\",\"#ab63fa\",\"#FFA15A\",\"#19d3f3\",\"#FF6692\",\"#B6E880\",\"#FF97FF\",\"#FECB52\"],\"font\":{\"color\":\"#2a3f5f\"},\"hovermode\":\"closest\",\"hoverlabel\":{\"align\":\"left\"},\"paper_bgcolor\":\"white\",\"plot_bgcolor\":\"#E5ECF6\",\"polar\":{\"bgcolor\":\"#E5ECF6\",\"angularaxis\":{\"gridcolor\":\"white\",\"linecolor\":\"white\",\"ticks\":\"\"},\"radialaxis\":{\"gridcolor\":\"white\",\"linecolor\":\"white\",\"ticks\":\"\"}},\"ternary\":{\"bgcolor\":\"#E5ECF6\",\"aaxis\":{\"gridcolor\":\"white\",\"linecolor\":\"white\",\"ticks\":\"\"},\"baxis\":{\"gridcolor\":\"white\",\"linecolor\":\"white\",\"ticks\":\"\"},\"caxis\":{\"gridcolor\":\"white\",\"linecolor\":\"white\",\"ticks\":\"\"}},\"coloraxis\":{\"colorbar\":{\"outlinewidth\":0,\"ticks\":\"\"}},\"colorscale\":{\"sequential\":[[0.0,\"#0d0887\"],[0.1111111111111111,\"#46039f\"],[0.2222222222222222,\"#7201a8\"],[0.3333333333333333,\"#9c179e\"],[0.4444444444444444,\"#bd3786\"],[0.5555555555555556,\"#d8576b\"],[0.6666666666666666,\"#ed7953\"],[0.7777777777777778,\"#fb9f3a\"],[0.8888888888888888,\"#fdca26\"],[1.0,\"#f0f921\"]],\"sequentialminus\":[[0.0,\"#0d0887\"],[0.1111111111111111,\"#46039f\"],[0.2222222222222222,\"#7201a8\"],[0.3333333333333333,\"#9c179e\"],[0.4444444444444444,\"#bd3786\"],[0.5555555555555556,\"#d8576b\"],[0.6666666666666666,\"#ed7953\"],[0.7777777777777778,\"#fb9f3a\"],[0.8888888888888888,\"#fdca26\"],[1.0,\"#f0f921\"]],\"diverging\":[[0,\"#8e0152\"],[0.1,\"#c51b7d\"],[0.2,\"#de77ae\"],[0.3,\"#f1b6da\"],[0.4,\"#fde0ef\"],[0.5,\"#f7f7f7\"],[0.6,\"#e6f5d0\"],[0.7,\"#b8e186\"],[0.8,\"#7fbc41\"],[0.9,\"#4d9221\"],[1,\"#276419\"]]},\"xaxis\":{\"gridcolor\":\"white\",\"linecolor\":\"white\",\"ticks\":\"\",\"title\":{\"standoff\":15},\"zerolinecolor\":\"white\",\"automargin\":true,\"zerolinewidth\":2},\"yaxis\":{\"gridcolor\":\"white\",\"linecolor\":\"white\",\"ticks\":\"\",\"title\":{\"standoff\":15},\"zerolinecolor\":\"white\",\"automargin\":true,\"zerolinewidth\":2},\"scene\":{\"xaxis\":{\"backgroundcolor\":\"#E5ECF6\",\"gridcolor\":\"white\",\"linecolor\":\"white\",\"showbackground\":true,\"ticks\":\"\",\"zerolinecolor\":\"white\",\"gridwidth\":2},\"yaxis\":{\"backgroundcolor\":\"#E5ECF6\",\"gridcolor\":\"white\",\"linecolor\":\"white\",\"showbackground\":true,\"ticks\":\"\",\"zerolinecolor\":\"white\",\"gridwidth\":2},\"zaxis\":{\"backgroundcolor\":\"#E5ECF6\",\"gridcolor\":\"white\",\"linecolor\":\"white\",\"showbackground\":true,\"ticks\":\"\",\"zerolinecolor\":\"white\",\"gridwidth\":2}},\"shapedefaults\":{\"line\":{\"color\":\"#2a3f5f\"}},\"annotationdefaults\":{\"arrowcolor\":\"#2a3f5f\",\"arrowhead\":0,\"arrowwidth\":1},\"geo\":{\"bgcolor\":\"white\",\"landcolor\":\"#E5ECF6\",\"subunitcolor\":\"white\",\"showland\":true,\"showlakes\":true,\"lakecolor\":\"white\"},\"title\":{\"x\":0.05},\"mapbox\":{\"style\":\"light\"}}},\"xaxis\":{\"anchor\":\"y\",\"domain\":[0.0,1.0],\"title\":{\"text\":\"concept\"}},\"yaxis\":{\"anchor\":\"x\",\"domain\":[0.0,1.0],\"title\":{\"text\":\"frequency\"}},\"coloraxis\":{\"colorbar\":{\"title\":{\"text\":\"score_avg\"}},\"colorscale\":[[0.0,\"#0d0887\"],[0.1111111111111111,\"#46039f\"],[0.2222222222222222,\"#7201a8\"],[0.3333333333333333,\"#9c179e\"],[0.4444444444444444,\"#bd3786\"],[0.5555555555555556,\"#d8576b\"],[0.6666666666666666,\"#ed7953\"],[0.7777777777777778,\"#fb9f3a\"],[0.8888888888888888,\"#fdca26\"],[1.0,\"#f0f921\"]]},\"legend\":{\"tracegroupgap\":0,\"itemsizing\":\"constant\"},\"margin\":{\"t\":60},\"height\":700},                        {\"responsive\": true}                    ).then(function(){\n",
       "                            \n",
       "var gd = document.getElementById('2c937730-b1e8-4700-ba2d-bd7923499d21');\n",
       "var x = new MutationObserver(function (mutations, observer) {{\n",
       "        var display = window.getComputedStyle(gd).display;\n",
       "        if (!display || display === 'none') {{\n",
       "            console.log([gd, 'removed!']);\n",
       "            Plotly.purge(gd);\n",
       "            observer.disconnect();\n",
       "        }}\n",
       "}});\n",
       "\n",
       "// Listen for the removal of the full notebook cells\n",
       "var notebookContainer = gd.closest('#notebook-container');\n",
       "if (notebookContainer) {{\n",
       "    x.observe(notebookContainer, {childList: true});\n",
       "}}\n",
       "\n",
       "// Listen for the clearing of the current output cell\n",
       "var outputEl = gd.closest('.output');\n",
       "if (outputEl) {{\n",
       "    x.observe(outputEl, {childList: true});\n",
       "}}\n",
       "\n",
       "                        })                };                });            </script>        </div>"
      ]
     },
     "metadata": {},
     "output_type": "display_data"
    }
   ],
   "source": [
    "#@markdown ## Define the best parameters to isolate 'interesting' concepts\n",
    "#@markdown Frequency: how many documents include a concept (100 = no upper limit).\n",
    "#@markdown Tip: concepts with very high frequencies tend to be common words, so it is useful to exclude them.\n",
    "FREQ_MIN = 2 #@param {type: \"slider\", min: 1, max: 10, step:1}\n",
    "FREQ_MAX = 70 #@param {type: \"slider\", min: 10, max: 100, step:10}\n",
    "#@markdown ---\n",
    "#@markdown Score: the average relevancy score of concepts, for the dataset we extracted above.\n",
    "#@markdown This value tends to be a good indicator of 'interesting' concepts.\n",
    "SCORE_MIN = 0.4  #@param {type: \"slider\", min: 0, max: 1, step:0.1}\n",
    "#@markdown ---\n",
    "#@markdown Select how many concepts to include in the visualization\n",
    "MAX_CONCEPTS = 200 #@param {type: \"slider\", min: 20, max: 1000, step:10}\n",
    "\n",
    "if FREQ_MAX == 100:\n",
    "  FREQ_MAX = 100000000\n",
    "print(f\"\"\"You selected:\\n->{MAX_CONCEPTS}\\n->{FREQ_MIN}-{FREQ_MAX}\\n->{SCORE_MIN}\"\"\")\n",
    "\n",
    "filtered_concepts = concepts_unique.query(f\"\"\"frequency >= {FREQ_MIN} & frequency <= {FREQ_MAX} & score_avg >= {SCORE_MIN} \"\"\")\\\n",
    "                    .sort_values([\"score_avg\", \"frequency\"], ascending=False)[:MAX_CONCEPTS]\n",
    "\n",
    "px.scatter(filtered_concepts,\n",
    "           x=\"concept\",\n",
    "           y=\"frequency\",\n",
    "           height=700,\n",
    "           color=\"score_avg\",\n",
    "           size=\"score_avg\")"
   ]
  },
  {
   "cell_type": "markdown",
   "metadata": {
    "Collapsed": "false",
    "id": "UiSUEjFdKHcW"
   },
   "source": [
    "## 3. Building a word-cloud visualization\n",
    "\n",
    "Wordclouds are often a pretty effective way of summarising the relative importance of keywords.\n",
    "\n",
    "The [wordcloud Python library](https://github.com/amueller/word_cloud) can be used to turn our concepts list into an image. The Wordcloud function takes a list of dictionaries with words/frequency eg\n",
    "\n",
    "```\n",
    "# [\n",
    "#    {'concept': 'study', 'frequency': 5707},\n",
    "#    {'concept': 'patients', 'frequency': 3579}\n",
    "#   ... etc...\n",
    "#. ]\n",
    "```\n",
    "\n",
    "So we can obtain that easily from the DSL concepts data."
   ]
  },
  {
   "cell_type": "code",
   "execution_count": 5,
   "metadata": {
    "Collapsed": "false",
    "colab": {
     "base_uri": "https://localhost:8080/",
     "height": 367
    },
    "id": "WKhsHn6vc1nm",
    "outputId": "1b8461d9-57a5-4e1a-d0e1-a17a3679a822"
   },
   "outputs": [
    {
     "data": {
      "image/png": "[encoded data removed]",
      "text/plain": [
       "<Figure size 640x480 with 1 Axes>"
      ]
     },
     "metadata": {},
     "output_type": "display_data"
    }
   ],
   "source": [
    "# take top N concepts\n",
    "topn = filtered_concepts[['concept', 'frequency']][:300]\n",
    "\n",
    "d = {x['concept'] : x['frequency'] for x in topn.to_dict(orient=\"records\")}\n",
    "\n",
    "wordcloud = WordCloud(width=900, height=600).generate_from_frequencies(d)\n",
    "plt.imshow(wordcloud, interpolation='bilinear')\n",
    "plt.axis(\"off\")\n",
    "plt.savefig(\"topics_wordcloud.png\", dpi=300)"
   ]
  },
  {
   "cell_type": "markdown",
   "metadata": {
    "Collapsed": "false",
    "id": "lYjofWC1U-Vb"
   },
   "source": [
    "## 4. Trend analysis - 'emerging' new topics each year\n",
    "\n",
    "In this section we will look at the concept distribution over the years. In particular, we will focus on the 'new' concepts in each year - i.e. concepts that have never appeared in previous years.\n",
    "\n",
    "This can be easily achieved by adding a new column `first_year`, marking the earliest publication year a concept was found in."
   ]
  },
  {
   "cell_type": "code",
   "execution_count": 5,
   "metadata": {
    "Collapsed": "false",
    "colab": {
     "base_uri": "https://localhost:8080/",
     "height": 617
    },
    "id": "EXVOE3yIUhd0",
    "outputId": "58001983-51c0-45d0-c6d1-debf15787531"
   },
   "outputs": [
    {
     "data": {
      "application/vnd.plotly.v1+json": {
       "config": {
        "plotlyServerURL": "https://plot.ly"
       },
       "data": [
        {
         "branchvalues": "total",
         "customdata": [
          [
           "political morality"
          ],
          [
           "research ethics review"
          ],
          [
           "ethical perspective"
          ],
          [
           "critical race theory"
          ],
          [
           "fact of pluralism"
          ],
          [
           "philosophical position"
          ],
          [
           "non-Christian religions"
          ],
          [
           "Christian University"
          ],
          [
           "board gender diversity"
          ],
          [
           "biomedical ethics"
          ],
          [
           "community-based research"
          ],
          [
           "spiritual warfare"
          ],
          [
           "Western intellectual tradition"
          ],
          [
           "Islamic schools"
          ],
          [
           "ethical arguments"
          ],
          [
           "trait attributions"
          ],
          [
           "clinical ethics consultation"
          ],
          [
           "children’s rights"
          ],
          [
           "demonstrative thought"
          ],
          [
           "employee entrepreneurship"
          ],
          [
           "moral competencies"
          ],
          [
           "sustainability issues"
          ],
          [
           "philosophy of law"
          ],
          [
           "ethics of generosity"
          ],
          [
           "compensation structure"
          ],
          [
           "moral psychology"
          ],
          [
           "epistemology of disagreement"
          ],
          [
           "Tamil literary history"
          ],
          [
           "long philosophical history"
          ],
          [
           "member states"
          ],
          [
           "wall of separation"
          ],
          [
           "public theology"
          ],
          [
           "gender diversity"
          ],
          [
           "academic philosophy"
          ],
          [
           "philosophy of nature"
          ],
          [
           "employee engagement"
          ],
          [
           "knowledge archives"
          ],
          [
           "geographical knowledge"
          ],
          [
           "social ethics"
          ],
          [
           "Islamic Revolution"
          ],
          [
           "moral virtues"
          ],
          [
           "book culture"
          ],
          [
           "digital media"
          ],
          [
           "law tradition"
          ],
          [
           "literary history"
          ],
          [
           "research ethics governance"
          ],
          [
           "later dialogues"
          ],
          [
           "concept of truth"
          ],
          [
           "high performers"
          ],
          [
           "ethical research practice"
          ],
          [
           "verbal language"
          ],
          [
           "common home"
          ],
          [
           "financial misconduct"
          ],
          [
           "system of ethics"
          ],
          [
           "research ethical issues"
          ],
          [
           "(?)"
          ],
          [
           "(?)"
          ],
          [
           "(?)"
          ],
          [
           "(?)"
          ],
          [
           "(?)"
          ],
          [
           "(?)"
          ],
          [
           "(?)"
          ],
          [
           "(?)"
          ],
          [
           "(?)"
          ],
          [
           "(?)"
          ],
          [
           "(?)"
          ]
         ],
         "domain": {
          "x": [
           0,
           1
          ],
          "y": [
           0,
           1
          ]
         },
         "hovertemplate": "labels=%{label}<br>frequency=%{value}<br>parent=%{parent}<br>id=%{id}<br>concept=%{customdata[0]}<extra></extra>",
         "ids": [
          "2020/political morality",
          "2011/research ethics review",
          "2013/ethical perspective",
          "2018/critical race theory",
          "2012/fact of pluralism",
          "2014/philosophical position",
          "2017/non-Christian religions",
          "2013/Christian University",
          "2016/board gender diversity",
          "2013/biomedical ethics",
          "2016/community-based research",
          "2016/spiritual warfare",
          "2019/Western intellectual tradition",
          "2017/Islamic schools",
          "2018/ethical arguments",
          "2019/trait attributions",
          "2014/clinical ethics consultation",
          "2017/children’s rights",
          "2019/demonstrative thought",
          "2010/employee entrepreneurship",
          "2014/moral competencies",
          "2020/sustainability issues",
          "2012/philosophy of law",
          "2017/ethics of generosity",
          "2010/compensation structure",
          "2013/moral psychology",
          "2012/epistemology of disagreement",
          "2011/Tamil literary history",
          "2015/long philosophical history",
          "2017/member states",
          "2010/wall of separation",
          "2015/public theology",
          "2016/gender diversity",
          "2015/academic philosophy",
          "2019/philosophy of nature",
          "2011/employee engagement",
          "2020/knowledge archives",
          "2015/geographical knowledge",
          "2012/social ethics",
          "2013/Islamic Revolution",
          "2018/moral virtues",
          "2014/book culture",
          "2020/digital media",
          "2012/law tradition",
          "2011/literary history",
          "2015/research ethics governance",
          "2010/later dialogues",
          "2011/concept of truth",
          "2010/high performers",
          "2014/ethical research practice",
          "2018/verbal language",
          "2020/common home",
          "2016/financial misconduct",
          "2019/system of ethics",
          "2018/research ethical issues",
          "2010",
          "2011",
          "2012",
          "2013",
          "2014",
          "2015",
          "2016",
          "2017",
          "2018",
          "2019",
          "2020"
         ],
         "labels": [
          "political morality",
          "research ethics review",
          "ethical perspective",
          "critical race theory",
          "fact of pluralism",
          "philosophical position",
          "non-Christian religions",
          "Christian University",
          "board gender diversity",
          "biomedical ethics",
          "community-based research",
          "spiritual warfare",
          "Western intellectual tradition",
          "Islamic schools",
          "ethical arguments",
          "trait attributions",
          "clinical ethics consultation",
          "children’s rights",
          "demonstrative thought",
          "employee entrepreneurship",
          "moral competencies",
          "sustainability issues",
          "philosophy of law",
          "ethics of generosity",
          "compensation structure",
          "moral psychology",
          "epistemology of disagreement",
          "Tamil literary history",
          "long philosophical history",
          "member states",
          "wall of separation",
          "public theology",
          "gender diversity",
          "academic philosophy",
          "philosophy of nature",
          "employee engagement",
          "knowledge archives",
          "geographical knowledge",
          "social ethics",
          "Islamic Revolution",
          "moral virtues",
          "book culture",
          "digital media",
          "law tradition",
          "literary history",
          "research ethics governance",
          "later dialogues",
          "concept of truth",
          "high performers",
          "ethical research practice",
          "verbal language",
          "common home",
          "financial misconduct",
          "system of ethics",
          "research ethical issues",
          "2010",
          "2011",
          "2012",
          "2013",
          "2014",
          "2015",
          "2016",
          "2017",
          "2018",
          "2019",
          "2020"
         ],
         "marker": {
          "colors": [
           "rgb(158,1,66)",
           "rgb(213,62,79)",
           "rgb(244,109,67)",
           "rgb(253,174,97)",
           "rgb(254,224,139)",
           "rgb(255,255,191)",
           "rgb(230,245,152)",
           "rgb(171,221,164)",
           "rgb(102,194,165)",
           "rgb(50,136,189)",
           "rgb(94,79,162)",
           "rgb(158,1,66)",
           "rgb(213,62,79)",
           "rgb(244,109,67)",
           "rgb(253,174,97)",
           "rgb(254,224,139)",
           "rgb(255,255,191)",
           "rgb(230,245,152)",
           "rgb(171,221,164)",
           "rgb(102,194,165)",
           "rgb(50,136,189)",
           "rgb(94,79,162)",
           "rgb(158,1,66)",
           "rgb(213,62,79)",
           "rgb(244,109,67)",
           "rgb(253,174,97)",
           "rgb(254,224,139)",
           "rgb(255,255,191)",
           "rgb(230,245,152)",
           "rgb(171,221,164)",
           "rgb(102,194,165)",
           "rgb(50,136,189)",
           "rgb(94,79,162)",
           "rgb(158,1,66)",
           "rgb(213,62,79)",
           "rgb(244,109,67)",
           "rgb(253,174,97)",
           "rgb(254,224,139)",
           "rgb(255,255,191)",
           "rgb(230,245,152)",
           "rgb(171,221,164)",
           "rgb(102,194,165)",
           "rgb(50,136,189)",
           "rgb(94,79,162)",
           "rgb(158,1,66)",
           "rgb(213,62,79)",
           "rgb(244,109,67)",
           "rgb(253,174,97)",
           "rgb(254,224,139)",
           "rgb(255,255,191)",
           "rgb(230,245,152)",
           "rgb(171,221,164)",
           "rgb(102,194,165)",
           "rgb(50,136,189)",
           "rgb(94,79,162)",
           "rgb(158,1,66)",
           "rgb(158,1,66)",
           "rgb(158,1,66)",
           "rgb(158,1,66)",
           "rgb(158,1,66)",
           "rgb(158,1,66)",
           "rgb(158,1,66)",
           "rgb(158,1,66)",
           "rgb(158,1,66)",
           "rgb(158,1,66)",
           "rgb(158,1,66)"
          ]
         },
         "name": "",
         "parents": [
          "2020",
          "2011",
          "2013",
          "2018",
          "2012",
          "2014",
          "2017",
          "2013",
          "2016",
          "2013",
          "2016",
          "2016",
          "2019",
          "2017",
          "2018",
          "2019",
          "2014",
          "2017",
          "2019",
          "2010",
          "2014",
          "2020",
          "2012",
          "2017",
          "2010",
          "2013",
          "2012",
          "2011",
          "2015",
          "2017",
          "2010",
          "2015",
          "2016",
          "2015",
          "2019",
          "2011",
          "2020",
          "2015",
          "2012",
          "2013",
          "2018",
          "2014",
          "2020",
          "2012",
          "2011",
          "2015",
          "2010",
          "2011",
          "2010",
          "2014",
          "2018",
          "2020",
          "2016",
          "2019",
          "2018",
          "",
          "",
          "",
          "",
          "",
          "",
          "",
          "",
          "",
          "",
          ""
         ],
         "type": "treemap",
         "values": [
          2,
          2,
          2,
          2,
          2,
          2,
          2,
          2,
          2,
          2,
          2,
          2,
          3,
          2,
          2,
          2,
          2,
          2,
          2,
          2,
          2,
          2,
          2,
          2,
          2,
          4,
          2,
          2,
          2,
          2,
          2,
          2,
          2,
          2,
          3,
          2,
          2,
          2,
          2,
          2,
          2,
          2,
          2,
          2,
          2,
          2,
          2,
          2,
          2,
          2,
          2,
          2,
          2,
          2,
          2,
          10,
          10,
          10,
          12,
          10,
          10,
          10,
          10,
          10,
          12,
          10
         ]
        }
       ],
       "layout": {
        "height": 600,
        "legend": {
         "tracegroupgap": 0
        },
        "margin": {
         "t": 60
        },
        "template": {
         "data": {
          "bar": [
           {
            "error_x": {
             "color": "#2a3f5f"
            },
            "error_y": {
             "color": "#2a3f5f"
            },
            "marker": {
             "line": {
              "color": "#E5ECF6",
              "width": 0.5
             },
             "pattern": {
              "fillmode": "overlay",
              "size": 10,
              "solidity": 0.2
             }
            },
            "type": "bar"
           }
          ],
          "barpolar": [
           {
            "marker": {
             "line": {
              "color": "#E5ECF6",
              "width": 0.5
             },
             "pattern": {
              "fillmode": "overlay",
              "size": 10,
              "solidity": 0.2
             }
            },
            "type": "barpolar"
           }
          ],
          "carpet": [
           {
            "aaxis": {
             "endlinecolor": "#2a3f5f",
             "gridcolor": "white",
             "linecolor": "white",
             "minorgridcolor": "white",
             "startlinecolor": "#2a3f5f"
            },
            "baxis": {
             "endlinecolor": "#2a3f5f",
             "gridcolor": "white",
             "linecolor": "white",
             "minorgridcolor": "white",
             "startlinecolor": "#2a3f5f"
            },
            "type": "carpet"
           }
          ],
          "choropleth": [
           {
            "colorbar": {
             "outlinewidth": 0,
             "ticks": ""
            },
            "type": "choropleth"
           }
          ],
          "contour": [
           {
            "colorbar": {
             "outlinewidth": 0,
             "ticks": ""
            },
            "colorscale": [
             [
              0,
              "#0d0887"
             ],
             [
              0.1111111111111111,
              "#46039f"
             ],
             [
              0.2222222222222222,
              "#7201a8"
             ],
             [
              0.3333333333333333,
              "#9c179e"
             ],
             [
              0.4444444444444444,
              "#bd3786"
             ],
             [
              0.5555555555555556,
              "#d8576b"
             ],
             [
              0.6666666666666666,
              "#ed7953"
             ],
             [
              0.7777777777777778,
              "#fb9f3a"
             ],
             [
              0.8888888888888888,
              "#fdca26"
             ],
             [
              1,
              "#f0f921"
             ]
            ],
            "type": "contour"
           }
          ],
          "contourcarpet": [
           {
            "colorbar": {
             "outlinewidth": 0,
             "ticks": ""
            },
            "type": "contourcarpet"
           }
          ],
          "heatmap": [
           {
            "colorbar": {
             "outlinewidth": 0,
             "ticks": ""
            },
            "colorscale": [
             [
              0,
              "#0d0887"
             ],
             [
              0.1111111111111111,
              "#46039f"
             ],
             [
              0.2222222222222222,
              "#7201a8"
             ],
             [
              0.3333333333333333,
              "#9c179e"
             ],
             [
              0.4444444444444444,
              "#bd3786"
             ],
             [
              0.5555555555555556,
              "#d8576b"
             ],
             [
              0.6666666666666666,
              "#ed7953"
             ],
             [
              0.7777777777777778,
              "#fb9f3a"
             ],
             [
              0.8888888888888888,
              "#fdca26"
             ],
             [
              1,
              "#f0f921"
             ]
            ],
            "type": "heatmap"
           }
          ],
          "heatmapgl": [
           {
            "colorbar": {
             "outlinewidth": 0,
             "ticks": ""
            },
            "colorscale": [
             [
              0,
              "#0d0887"
             ],
             [
              0.1111111111111111,
              "#46039f"
             ],
             [
              0.2222222222222222,
              "#7201a8"
             ],
             [
              0.3333333333333333,
              "#9c179e"
             ],
             [
              0.4444444444444444,
              "#bd3786"
             ],
             [
              0.5555555555555556,
              "#d8576b"
             ],
             [
              0.6666666666666666,
              "#ed7953"
             ],
             [
              0.7777777777777778,
              "#fb9f3a"
             ],
             [
              0.8888888888888888,
              "#fdca26"
             ],
             [
              1,
              "#f0f921"
             ]
            ],
            "type": "heatmapgl"
           }
          ],
          "histogram": [
           {
            "marker": {
             "pattern": {
              "fillmode": "overlay",
              "size": 10,
              "solidity": 0.2
             }
            },
            "type": "histogram"
           }
          ],
          "histogram2d": [
           {
            "colorbar": {
             "outlinewidth": 0,
             "ticks": ""
            },
            "colorscale": [
             [
              0,
              "#0d0887"
             ],
             [
              0.1111111111111111,
              "#46039f"
             ],
             [
              0.2222222222222222,
              "#7201a8"
             ],
             [
              0.3333333333333333,
              "#9c179e"
             ],
             [
              0.4444444444444444,
              "#bd3786"
             ],
             [
              0.5555555555555556,
              "#d8576b"
             ],
             [
              0.6666666666666666,
              "#ed7953"
             ],
             [
              0.7777777777777778,
              "#fb9f3a"
             ],
             [
              0.8888888888888888,
              "#fdca26"
             ],
             [
              1,
              "#f0f921"
             ]
            ],
            "type": "histogram2d"
           }
          ],
          "histogram2dcontour": [
           {
            "colorbar": {
             "outlinewidth": 0,
             "ticks": ""
            },
            "colorscale": [
             [
              0,
              "#0d0887"
             ],
             [
              0.1111111111111111,
              "#46039f"
             ],
             [
              0.2222222222222222,
              "#7201a8"
             ],
             [
              0.3333333333333333,
              "#9c179e"
             ],
             [
              0.4444444444444444,
              "#bd3786"
             ],
             [
              0.5555555555555556,
              "#d8576b"
             ],
             [
              0.6666666666666666,
              "#ed7953"
             ],
             [
              0.7777777777777778,
              "#fb9f3a"
             ],
             [
              0.8888888888888888,
              "#fdca26"
             ],
             [
              1,
              "#f0f921"
             ]
            ],
            "type": "histogram2dcontour"
           }
          ],
          "mesh3d": [
           {
            "colorbar": {
             "outlinewidth": 0,
             "ticks": ""
            },
            "type": "mesh3d"
           }
          ],
          "parcoords": [
           {
            "line": {
             "colorbar": {
              "outlinewidth": 0,
              "ticks": ""
             }
            },
            "type": "parcoords"
           }
          ],
          "pie": [
           {
            "automargin": true,
            "type": "pie"
           }
          ],
          "scatter": [
           {
            "fillpattern": {
             "fillmode": "overlay",
             "size": 10,
             "solidity": 0.2
            },
            "type": "scatter"
           }
          ],
          "scatter3d": [
           {
            "line": {
             "colorbar": {
              "outlinewidth": 0,
              "ticks": ""
             }
            },
            "marker": {
             "colorbar": {
              "outlinewidth": 0,
              "ticks": ""
             }
            },
            "type": "scatter3d"
           }
          ],
          "scattercarpet": [
           {
            "marker": {
             "colorbar": {
              "outlinewidth": 0,
              "ticks": ""
             }
            },
            "type": "scattercarpet"
           }
          ],
          "scattergeo": [
           {
            "marker": {
             "colorbar": {
              "outlinewidth": 0,
              "ticks": ""
             }
            },
            "type": "scattergeo"
           }
          ],
          "scattergl": [
           {
            "marker": {
             "colorbar": {
              "outlinewidth": 0,
              "ticks": ""
             }
            },
            "type": "scattergl"
           }
          ],
          "scattermapbox": [
           {
            "marker": {
             "colorbar": {
              "outlinewidth": 0,
              "ticks": ""
             }
            },
            "type": "scattermapbox"
           }
          ],
          "scatterpolar": [
           {
            "marker": {
             "colorbar": {
              "outlinewidth": 0,
              "ticks": ""
             }
            },
            "type": "scatterpolar"
           }
          ],
          "scatterpolargl": [
           {
            "marker": {
             "colorbar": {
              "outlinewidth": 0,
              "ticks": ""
             }
            },
            "type": "scatterpolargl"
           }
          ],
          "scatterternary": [
           {
            "marker": {
             "colorbar": {
              "outlinewidth": 0,
              "ticks": ""
             }
            },
            "type": "scatterternary"
           }
          ],
          "surface": [
           {
            "colorbar": {
             "outlinewidth": 0,
             "ticks": ""
            },
            "colorscale": [
             [
              0,
              "#0d0887"
             ],
             [
              0.1111111111111111,
              "#46039f"
             ],
             [
              0.2222222222222222,
              "#7201a8"
             ],
             [
              0.3333333333333333,
              "#9c179e"
             ],
             [
              0.4444444444444444,
              "#bd3786"
             ],
             [
              0.5555555555555556,
              "#d8576b"
             ],
             [
              0.6666666666666666,
              "#ed7953"
             ],
             [
              0.7777777777777778,
              "#fb9f3a"
             ],
             [
              0.8888888888888888,
              "#fdca26"
             ],
             [
              1,
              "#f0f921"
             ]
            ],
            "type": "surface"
           }
          ],
          "table": [
           {
            "cells": {
             "fill": {
              "color": "#EBF0F8"
             },
             "line": {
              "color": "white"
             }
            },
            "header": {
             "fill": {
              "color": "#C8D4E3"
             },
             "line": {
              "color": "white"
             }
            },
            "type": "table"
           }
          ]
         },
         "layout": {
          "annotationdefaults": {
           "arrowcolor": "#2a3f5f",
           "arrowhead": 0,
           "arrowwidth": 1
          },
          "autotypenumbers": "strict",
          "coloraxis": {
           "colorbar": {
            "outlinewidth": 0,
            "ticks": ""
           }
          },
          "colorscale": {
           "diverging": [
            [
             0,
             "#8e0152"
            ],
            [
             0.1,
             "#c51b7d"
            ],
            [
             0.2,
             "#de77ae"
            ],
            [
             0.3,
             "#f1b6da"
            ],
            [
             0.4,
             "#fde0ef"
            ],
            [
             0.5,
             "#f7f7f7"
            ],
            [
             0.6,
             "#e6f5d0"
            ],
            [
             0.7,
             "#b8e186"
            ],
            [
             0.8,
             "#7fbc41"
            ],
            [
             0.9,
             "#4d9221"
            ],
            [
             1,
             "#276419"
            ]
           ],
           "sequential": [
            [
             0,
             "#0d0887"
            ],
            [
             0.1111111111111111,
             "#46039f"
            ],
            [
             0.2222222222222222,
             "#7201a8"
            ],
            [
             0.3333333333333333,
             "#9c179e"
            ],
            [
             0.4444444444444444,
             "#bd3786"
            ],
            [
             0.5555555555555556,
             "#d8576b"
            ],
            [
             0.6666666666666666,
             "#ed7953"
            ],
            [
             0.7777777777777778,
             "#fb9f3a"
            ],
            [
             0.8888888888888888,
             "#fdca26"
            ],
            [
             1,
             "#f0f921"
            ]
           ],
           "sequentialminus": [
            [
             0,
             "#0d0887"
            ],
            [
             0.1111111111111111,
             "#46039f"
            ],
            [
             0.2222222222222222,
             "#7201a8"
            ],
            [
             0.3333333333333333,
             "#9c179e"
            ],
            [
             0.4444444444444444,
             "#bd3786"
            ],
            [
             0.5555555555555556,
             "#d8576b"
            ],
            [
             0.6666666666666666,
             "#ed7953"
            ],
            [
             0.7777777777777778,
             "#fb9f3a"
            ],
            [
             0.8888888888888888,
             "#fdca26"
            ],
            [
             1,
             "#f0f921"
            ]
           ]
          },
          "colorway": [
           "#636efa",
           "#EF553B",
           "#00cc96",
           "#ab63fa",
           "#FFA15A",
           "#19d3f3",
           "#FF6692",
           "#B6E880",
           "#FF97FF",
           "#FECB52"
          ],
          "font": {
           "color": "#2a3f5f"
          },
          "geo": {
           "bgcolor": "white",
           "lakecolor": "white",
           "landcolor": "#E5ECF6",
           "showlakes": true,
           "showland": true,
           "subunitcolor": "white"
          },
          "hoverlabel": {
           "align": "left"
          },
          "hovermode": "closest",
          "mapbox": {
           "style": "light"
          },
          "paper_bgcolor": "white",
          "plot_bgcolor": "#E5ECF6",
          "polar": {
           "angularaxis": {
            "gridcolor": "white",
            "linecolor": "white",
            "ticks": ""
           },
           "bgcolor": "#E5ECF6",
           "radialaxis": {
            "gridcolor": "white",
            "linecolor": "white",
            "ticks": ""
           }
          },
          "scene": {
           "xaxis": {
            "backgroundcolor": "#E5ECF6",
            "gridcolor": "white",
            "gridwidth": 2,
            "linecolor": "white",
            "showbackground": true,
            "ticks": "",
            "zerolinecolor": "white"
           },
           "yaxis": {
            "backgroundcolor": "#E5ECF6",
            "gridcolor": "white",
            "gridwidth": 2,
            "linecolor": "white",
            "showbackground": true,
            "ticks": "",
            "zerolinecolor": "white"
           },
           "zaxis": {
            "backgroundcolor": "#E5ECF6",
            "gridcolor": "white",
            "gridwidth": 2,
            "linecolor": "white",
            "showbackground": true,
            "ticks": "",
            "zerolinecolor": "white"
           }
          },
          "shapedefaults": {
           "line": {
            "color": "#2a3f5f"
           }
          },
          "ternary": {
           "aaxis": {
            "gridcolor": "white",
            "linecolor": "white",
            "ticks": ""
           },
           "baxis": {
            "gridcolor": "white",
            "linecolor": "white",
            "ticks": ""
           },
           "bgcolor": "#E5ECF6",
           "caxis": {
            "gridcolor": "white",
            "linecolor": "white",
            "ticks": ""
           }
          },
          "title": {
           "x": 0.05
          },
          "xaxis": {
           "automargin": true,
           "gridcolor": "white",
           "linecolor": "white",
           "ticks": "",
           "title": {
            "standoff": 15
           },
           "zerolinecolor": "white",
           "zerolinewidth": 2
          },
          "yaxis": {
           "automargin": true,
           "gridcolor": "white",
           "linecolor": "white",
           "ticks": "",
           "title": {
            "standoff": 15
           },
           "zerolinecolor": "white",
           "zerolinewidth": 2
          }
         }
        },
        "treemapcolorway": [
         "rgb(158,1,66)",
         "rgb(213,62,79)",
         "rgb(244,109,67)",
         "rgb(253,174,97)",
         "rgb(254,224,139)",
         "rgb(255,255,191)",
         "rgb(230,245,152)",
         "rgb(171,221,164)",
         "rgb(102,194,165)",
         "rgb(50,136,189)",
         "rgb(94,79,162)"
        ]
       }
      },
      "text/html": [
       "<div>                            <div id=\"93899543-ff6b-48a5-8336-466544344765\" class=\"plotly-graph-div\" style=\"height:600px; width:100%;\"></div>            <script type=\"text/javascript\">                require([\"plotly\"], function(Plotly) {                    window.PLOTLYENV=window.PLOTLYENV || {};                                    if (document.getElementById(\"93899543-ff6b-48a5-8336-466544344765\")) {                    Plotly.newPlot(                        \"93899543-ff6b-48a5-8336-466544344765\",                        [{\"branchvalues\":\"total\",\"customdata\":[[\"political morality\"],[\"research ethics review\"],[\"ethical perspective\"],[\"critical race theory\"],[\"fact of pluralism\"],[\"philosophical position\"],[\"non-Christian religions\"],[\"Christian University\"],[\"board gender diversity\"],[\"biomedical ethics\"],[\"community-based research\"],[\"spiritual warfare\"],[\"Western intellectual tradition\"],[\"Islamic schools\"],[\"ethical arguments\"],[\"trait attributions\"],[\"clinical ethics consultation\"],[\"children\\u2019s rights\"],[\"demonstrative thought\"],[\"employee entrepreneurship\"],[\"moral competencies\"],[\"sustainability issues\"],[\"philosophy of law\"],[\"ethics of generosity\"],[\"compensation structure\"],[\"moral psychology\"],[\"epistemology of disagreement\"],[\"Tamil literary history\"],[\"long philosophical history\"],[\"member states\"],[\"wall of separation\"],[\"public theology\"],[\"gender diversity\"],[\"academic philosophy\"],[\"philosophy of nature\"],[\"employee engagement\"],[\"knowledge archives\"],[\"geographical knowledge\"],[\"social ethics\"],[\"Islamic Revolution\"],[\"moral virtues\"],[\"book culture\"],[\"digital media\"],[\"law tradition\"],[\"literary history\"],[\"research ethics governance\"],[\"later dialogues\"],[\"concept of truth\"],[\"high performers\"],[\"ethical research practice\"],[\"verbal language\"],[\"common home\"],[\"financial misconduct\"],[\"system of ethics\"],[\"research ethical issues\"],[\"(?)\"],[\"(?)\"],[\"(?)\"],[\"(?)\"],[\"(?)\"],[\"(?)\"],[\"(?)\"],[\"(?)\"],[\"(?)\"],[\"(?)\"],[\"(?)\"]],\"domain\":{\"x\":[0.0,1.0],\"y\":[0.0,1.0]},\"hovertemplate\":\"labels=%{label}\\u003cbr\\u003efrequency=%{value}\\u003cbr\\u003eparent=%{parent}\\u003cbr\\u003eid=%{id}\\u003cbr\\u003econcept=%{customdata[0]}\\u003cextra\\u003e\\u003c\\u002fextra\\u003e\",\"ids\":[\"2020\\u002fpolitical morality\",\"2011\\u002fresearch ethics review\",\"2013\\u002fethical perspective\",\"2018\\u002fcritical race theory\",\"2012\\u002ffact of pluralism\",\"2014\\u002fphilosophical position\",\"2017\\u002fnon-Christian religions\",\"2013\\u002fChristian University\",\"2016\\u002fboard gender diversity\",\"2013\\u002fbiomedical ethics\",\"2016\\u002fcommunity-based research\",\"2016\\u002fspiritual warfare\",\"2019\\u002fWestern intellectual tradition\",\"2017\\u002fIslamic schools\",\"2018\\u002fethical arguments\",\"2019\\u002ftrait attributions\",\"2014\\u002fclinical ethics consultation\",\"2017\\u002fchildren\\u2019s rights\",\"2019\\u002fdemonstrative thought\",\"2010\\u002femployee entrepreneurship\",\"2014\\u002fmoral competencies\",\"2020\\u002fsustainability issues\",\"2012\\u002fphilosophy of law\",\"2017\\u002fethics of generosity\",\"2010\\u002fcompensation structure\",\"2013\\u002fmoral psychology\",\"2012\\u002fepistemology of disagreement\",\"2011\\u002fTamil literary history\",\"2015\\u002flong philosophical history\",\"2017\\u002fmember states\",\"2010\\u002fwall of separation\",\"2015\\u002fpublic theology\",\"2016\\u002fgender diversity\",\"2015\\u002facademic philosophy\",\"2019\\u002fphilosophy of nature\",\"2011\\u002femployee engagement\",\"2020\\u002fknowledge archives\",\"2015\\u002fgeographical knowledge\",\"2012\\u002fsocial ethics\",\"2013\\u002fIslamic Revolution\",\"2018\\u002fmoral virtues\",\"2014\\u002fbook culture\",\"2020\\u002fdigital media\",\"2012\\u002flaw tradition\",\"2011\\u002fliterary history\",\"2015\\u002fresearch ethics governance\",\"2010\\u002flater dialogues\",\"2011\\u002fconcept of truth\",\"2010\\u002fhigh performers\",\"2014\\u002fethical research practice\",\"2018\\u002fverbal language\",\"2020\\u002fcommon home\",\"2016\\u002ffinancial misconduct\",\"2019\\u002fsystem of ethics\",\"2018\\u002fresearch ethical issues\",\"2010\",\"2011\",\"2012\",\"2013\",\"2014\",\"2015\",\"2016\",\"2017\",\"2018\",\"2019\",\"2020\"],\"labels\":[\"political morality\",\"research ethics review\",\"ethical perspective\",\"critical race theory\",\"fact of pluralism\",\"philosophical position\",\"non-Christian religions\",\"Christian University\",\"board gender diversity\",\"biomedical ethics\",\"community-based research\",\"spiritual warfare\",\"Western intellectual tradition\",\"Islamic schools\",\"ethical arguments\",\"trait attributions\",\"clinical ethics consultation\",\"children\\u2019s rights\",\"demonstrative thought\",\"employee entrepreneurship\",\"moral competencies\",\"sustainability issues\",\"philosophy of law\",\"ethics of generosity\",\"compensation structure\",\"moral psychology\",\"epistemology of disagreement\",\"Tamil literary history\",\"long philosophical history\",\"member states\",\"wall of separation\",\"public theology\",\"gender diversity\",\"academic philosophy\",\"philosophy of nature\",\"employee engagement\",\"knowledge archives\",\"geographical knowledge\",\"social ethics\",\"Islamic Revolution\",\"moral virtues\",\"book culture\",\"digital media\",\"law tradition\",\"literary history\",\"research ethics governance\",\"later dialogues\",\"concept of truth\",\"high performers\",\"ethical research practice\",\"verbal language\",\"common home\",\"financial misconduct\",\"system of ethics\",\"research ethical issues\",\"2010\",\"2011\",\"2012\",\"2013\",\"2014\",\"2015\",\"2016\",\"2017\",\"2018\",\"2019\",\"2020\"],\"marker\":{\"colors\":[\"rgb(158,1,66)\",\"rgb(213,62,79)\",\"rgb(244,109,67)\",\"rgb(253,174,97)\",\"rgb(254,224,139)\",\"rgb(255,255,191)\",\"rgb(230,245,152)\",\"rgb(171,221,164)\",\"rgb(102,194,165)\",\"rgb(50,136,189)\",\"rgb(94,79,162)\",\"rgb(158,1,66)\",\"rgb(213,62,79)\",\"rgb(244,109,67)\",\"rgb(253,174,97)\",\"rgb(254,224,139)\",\"rgb(255,255,191)\",\"rgb(230,245,152)\",\"rgb(171,221,164)\",\"rgb(102,194,165)\",\"rgb(50,136,189)\",\"rgb(94,79,162)\",\"rgb(158,1,66)\",\"rgb(213,62,79)\",\"rgb(244,109,67)\",\"rgb(253,174,97)\",\"rgb(254,224,139)\",\"rgb(255,255,191)\",\"rgb(230,245,152)\",\"rgb(171,221,164)\",\"rgb(102,194,165)\",\"rgb(50,136,189)\",\"rgb(94,79,162)\",\"rgb(158,1,66)\",\"rgb(213,62,79)\",\"rgb(244,109,67)\",\"rgb(253,174,97)\",\"rgb(254,224,139)\",\"rgb(255,255,191)\",\"rgb(230,245,152)\",\"rgb(171,221,164)\",\"rgb(102,194,165)\",\"rgb(50,136,189)\",\"rgb(94,79,162)\",\"rgb(158,1,66)\",\"rgb(213,62,79)\",\"rgb(244,109,67)\",\"rgb(253,174,97)\",\"rgb(254,224,139)\",\"rgb(255,255,191)\",\"rgb(230,245,152)\",\"rgb(171,221,164)\",\"rgb(102,194,165)\",\"rgb(50,136,189)\",\"rgb(94,79,162)\",\"rgb(158,1,66)\",\"rgb(158,1,66)\",\"rgb(158,1,66)\",\"rgb(158,1,66)\",\"rgb(158,1,66)\",\"rgb(158,1,66)\",\"rgb(158,1,66)\",\"rgb(158,1,66)\",\"rgb(158,1,66)\",\"rgb(158,1,66)\",\"rgb(158,1,66)\"]},\"name\":\"\",\"parents\":[\"2020\",\"2011\",\"2013\",\"2018\",\"2012\",\"2014\",\"2017\",\"2013\",\"2016\",\"2013\",\"2016\",\"2016\",\"2019\",\"2017\",\"2018\",\"2019\",\"2014\",\"2017\",\"2019\",\"2010\",\"2014\",\"2020\",\"2012\",\"2017\",\"2010\",\"2013\",\"2012\",\"2011\",\"2015\",\"2017\",\"2010\",\"2015\",\"2016\",\"2015\",\"2019\",\"2011\",\"2020\",\"2015\",\"2012\",\"2013\",\"2018\",\"2014\",\"2020\",\"2012\",\"2011\",\"2015\",\"2010\",\"2011\",\"2010\",\"2014\",\"2018\",\"2020\",\"2016\",\"2019\",\"2018\",\"\",\"\",\"\",\"\",\"\",\"\",\"\",\"\",\"\",\"\",\"\"],\"values\":[2,2,2,2,2,2,2,2,2,2,2,2,3,2,2,2,2,2,2,2,2,2,2,2,2,4,2,2,2,2,2,2,2,2,3,2,2,2,2,2,2,2,2,2,2,2,2,2,2,2,2,2,2,2,2,10,10,10,12,10,10,10,10,10,12,10],\"type\":\"treemap\"}],                        {\"template\":{\"data\":{\"histogram2dcontour\":[{\"type\":\"histogram2dcontour\",\"colorbar\":{\"outlinewidth\":0,\"ticks\":\"\"},\"colorscale\":[[0.0,\"#0d0887\"],[0.1111111111111111,\"#46039f\"],[0.2222222222222222,\"#7201a8\"],[0.3333333333333333,\"#9c179e\"],[0.4444444444444444,\"#bd3786\"],[0.5555555555555556,\"#d8576b\"],[0.6666666666666666,\"#ed7953\"],[0.7777777777777778,\"#fb9f3a\"],[0.8888888888888888,\"#fdca26\"],[1.0,\"#f0f921\"]]}],\"choropleth\":[{\"type\":\"choropleth\",\"colorbar\":{\"outlinewidth\":0,\"ticks\":\"\"}}],\"histogram2d\":[{\"type\":\"histogram2d\",\"colorbar\":{\"outlinewidth\":0,\"ticks\":\"\"},\"colorscale\":[[0.0,\"#0d0887\"],[0.1111111111111111,\"#46039f\"],[0.2222222222222222,\"#7201a8\"],[0.3333333333333333,\"#9c179e\"],[0.4444444444444444,\"#bd3786\"],[0.5555555555555556,\"#d8576b\"],[0.6666666666666666,\"#ed7953\"],[0.7777777777777778,\"#fb9f3a\"],[0.8888888888888888,\"#fdca26\"],[1.0,\"#f0f921\"]]}],\"heatmap\":[{\"type\":\"heatmap\",\"colorbar\":{\"outlinewidth\":0,\"ticks\":\"\"},\"colorscale\":[[0.0,\"#0d0887\"],[0.1111111111111111,\"#46039f\"],[0.2222222222222222,\"#7201a8\"],[0.3333333333333333,\"#9c179e\"],[0.4444444444444444,\"#bd3786\"],[0.5555555555555556,\"#d8576b\"],[0.6666666666666666,\"#ed7953\"],[0.7777777777777778,\"#fb9f3a\"],[0.8888888888888888,\"#fdca26\"],[1.0,\"#f0f921\"]]}],\"heatmapgl\":[{\"type\":\"heatmapgl\",\"colorbar\":{\"outlinewidth\":0,\"ticks\":\"\"},\"colorscale\":[[0.0,\"#0d0887\"],[0.1111111111111111,\"#46039f\"],[0.2222222222222222,\"#7201a8\"],[0.3333333333333333,\"#9c179e\"],[0.4444444444444444,\"#bd3786\"],[0.5555555555555556,\"#d8576b\"],[0.6666666666666666,\"#ed7953\"],[0.7777777777777778,\"#fb9f3a\"],[0.8888888888888888,\"#fdca26\"],[1.0,\"#f0f921\"]]}],\"contourcarpet\":[{\"type\":\"contourcarpet\",\"colorbar\":{\"outlinewidth\":0,\"ticks\":\"\"}}],\"contour\":[{\"type\":\"contour\",\"colorbar\":{\"outlinewidth\":0,\"ticks\":\"\"},\"colorscale\":[[0.0,\"#0d0887\"],[0.1111111111111111,\"#46039f\"],[0.2222222222222222,\"#7201a8\"],[0.3333333333333333,\"#9c179e\"],[0.4444444444444444,\"#bd3786\"],[0.5555555555555556,\"#d8576b\"],[0.6666666666666666,\"#ed7953\"],[0.7777777777777778,\"#fb9f3a\"],[0.8888888888888888,\"#fdca26\"],[1.0,\"#f0f921\"]]}],\"surface\":[{\"type\":\"surface\",\"colorbar\":{\"outlinewidth\":0,\"ticks\":\"\"},\"colorscale\":[[0.0,\"#0d0887\"],[0.1111111111111111,\"#46039f\"],[0.2222222222222222,\"#7201a8\"],[0.3333333333333333,\"#9c179e\"],[0.4444444444444444,\"#bd3786\"],[0.5555555555555556,\"#d8576b\"],[0.6666666666666666,\"#ed7953\"],[0.7777777777777778,\"#fb9f3a\"],[0.8888888888888888,\"#fdca26\"],[1.0,\"#f0f921\"]]}],\"mesh3d\":[{\"type\":\"mesh3d\",\"colorbar\":{\"outlinewidth\":0,\"ticks\":\"\"}}],\"scatter\":[{\"fillpattern\":{\"fillmode\":\"overlay\",\"size\":10,\"solidity\":0.2},\"type\":\"scatter\"}],\"parcoords\":[{\"type\":\"parcoords\",\"line\":{\"colorbar\":{\"outlinewidth\":0,\"ticks\":\"\"}}}],\"scatterpolargl\":[{\"type\":\"scatterpolargl\",\"marker\":{\"colorbar\":{\"outlinewidth\":0,\"ticks\":\"\"}}}],\"bar\":[{\"error_x\":{\"color\":\"#2a3f5f\"},\"error_y\":{\"color\":\"#2a3f5f\"},\"marker\":{\"line\":{\"color\":\"#E5ECF6\",\"width\":0.5},\"pattern\":{\"fillmode\":\"overlay\",\"size\":10,\"solidity\":0.2}},\"type\":\"bar\"}],\"scattergeo\":[{\"type\":\"scattergeo\",\"marker\":{\"colorbar\":{\"outlinewidth\":0,\"ticks\":\"\"}}}],\"scatterpolar\":[{\"type\":\"scatterpolar\",\"marker\":{\"colorbar\":{\"outlinewidth\":0,\"ticks\":\"\"}}}],\"histogram\":[{\"marker\":{\"pattern\":{\"fillmode\":\"overlay\",\"size\":10,\"solidity\":0.2}},\"type\":\"histogram\"}],\"scattergl\":[{\"type\":\"scattergl\",\"marker\":{\"colorbar\":{\"outlinewidth\":0,\"ticks\":\"\"}}}],\"scatter3d\":[{\"type\":\"scatter3d\",\"line\":{\"colorbar\":{\"outlinewidth\":0,\"ticks\":\"\"}},\"marker\":{\"colorbar\":{\"outlinewidth\":0,\"ticks\":\"\"}}}],\"scattermapbox\":[{\"type\":\"scattermapbox\",\"marker\":{\"colorbar\":{\"outlinewidth\":0,\"ticks\":\"\"}}}],\"scatterternary\":[{\"type\":\"scatterternary\",\"marker\":{\"colorbar\":{\"outlinewidth\":0,\"ticks\":\"\"}}}],\"scattercarpet\":[{\"type\":\"scattercarpet\",\"marker\":{\"colorbar\":{\"outlinewidth\":0,\"ticks\":\"\"}}}],\"carpet\":[{\"aaxis\":{\"endlinecolor\":\"#2a3f5f\",\"gridcolor\":\"white\",\"linecolor\":\"white\",\"minorgridcolor\":\"white\",\"startlinecolor\":\"#2a3f5f\"},\"baxis\":{\"endlinecolor\":\"#2a3f5f\",\"gridcolor\":\"white\",\"linecolor\":\"white\",\"minorgridcolor\":\"white\",\"startlinecolor\":\"#2a3f5f\"},\"type\":\"carpet\"}],\"table\":[{\"cells\":{\"fill\":{\"color\":\"#EBF0F8\"},\"line\":{\"color\":\"white\"}},\"header\":{\"fill\":{\"color\":\"#C8D4E3\"},\"line\":{\"color\":\"white\"}},\"type\":\"table\"}],\"barpolar\":[{\"marker\":{\"line\":{\"color\":\"#E5ECF6\",\"width\":0.5},\"pattern\":{\"fillmode\":\"overlay\",\"size\":10,\"solidity\":0.2}},\"type\":\"barpolar\"}],\"pie\":[{\"automargin\":true,\"type\":\"pie\"}]},\"layout\":{\"autotypenumbers\":\"strict\",\"colorway\":[\"#636efa\",\"#EF553B\",\"#00cc96\",\"#ab63fa\",\"#FFA15A\",\"#19d3f3\",\"#FF6692\",\"#B6E880\",\"#FF97FF\",\"#FECB52\"],\"font\":{\"color\":\"#2a3f5f\"},\"hovermode\":\"closest\",\"hoverlabel\":{\"align\":\"left\"},\"paper_bgcolor\":\"white\",\"plot_bgcolor\":\"#E5ECF6\",\"polar\":{\"bgcolor\":\"#E5ECF6\",\"angularaxis\":{\"gridcolor\":\"white\",\"linecolor\":\"white\",\"ticks\":\"\"},\"radialaxis\":{\"gridcolor\":\"white\",\"linecolor\":\"white\",\"ticks\":\"\"}},\"ternary\":{\"bgcolor\":\"#E5ECF6\",\"aaxis\":{\"gridcolor\":\"white\",\"linecolor\":\"white\",\"ticks\":\"\"},\"baxis\":{\"gridcolor\":\"white\",\"linecolor\":\"white\",\"ticks\":\"\"},\"caxis\":{\"gridcolor\":\"white\",\"linecolor\":\"white\",\"ticks\":\"\"}},\"coloraxis\":{\"colorbar\":{\"outlinewidth\":0,\"ticks\":\"\"}},\"colorscale\":{\"sequential\":[[0.0,\"#0d0887\"],[0.1111111111111111,\"#46039f\"],[0.2222222222222222,\"#7201a8\"],[0.3333333333333333,\"#9c179e\"],[0.4444444444444444,\"#bd3786\"],[0.5555555555555556,\"#d8576b\"],[0.6666666666666666,\"#ed7953\"],[0.7777777777777778,\"#fb9f3a\"],[0.8888888888888888,\"#fdca26\"],[1.0,\"#f0f921\"]],\"sequentialminus\":[[0.0,\"#0d0887\"],[0.1111111111111111,\"#46039f\"],[0.2222222222222222,\"#7201a8\"],[0.3333333333333333,\"#9c179e\"],[0.4444444444444444,\"#bd3786\"],[0.5555555555555556,\"#d8576b\"],[0.6666666666666666,\"#ed7953\"],[0.7777777777777778,\"#fb9f3a\"],[0.8888888888888888,\"#fdca26\"],[1.0,\"#f0f921\"]],\"diverging\":[[0,\"#8e0152\"],[0.1,\"#c51b7d\"],[0.2,\"#de77ae\"],[0.3,\"#f1b6da\"],[0.4,\"#fde0ef\"],[0.5,\"#f7f7f7\"],[0.6,\"#e6f5d0\"],[0.7,\"#b8e186\"],[0.8,\"#7fbc41\"],[0.9,\"#4d9221\"],[1,\"#276419\"]]},\"xaxis\":{\"gridcolor\":\"white\",\"linecolor\":\"white\",\"ticks\":\"\",\"title\":{\"standoff\":15},\"zerolinecolor\":\"white\",\"automargin\":true,\"zerolinewidth\":2},\"yaxis\":{\"gridcolor\":\"white\",\"linecolor\":\"white\",\"ticks\":\"\",\"title\":{\"standoff\":15},\"zerolinecolor\":\"white\",\"automargin\":true,\"zerolinewidth\":2},\"scene\":{\"xaxis\":{\"backgroundcolor\":\"#E5ECF6\",\"gridcolor\":\"white\",\"linecolor\":\"white\",\"showbackground\":true,\"ticks\":\"\",\"zerolinecolor\":\"white\",\"gridwidth\":2},\"yaxis\":{\"backgroundcolor\":\"#E5ECF6\",\"gridcolor\":\"white\",\"linecolor\":\"white\",\"showbackground\":true,\"ticks\":\"\",\"zerolinecolor\":\"white\",\"gridwidth\":2},\"zaxis\":{\"backgroundcolor\":\"#E5ECF6\",\"gridcolor\":\"white\",\"linecolor\":\"white\",\"showbackground\":true,\"ticks\":\"\",\"zerolinecolor\":\"white\",\"gridwidth\":2}},\"shapedefaults\":{\"line\":{\"color\":\"#2a3f5f\"}},\"annotationdefaults\":{\"arrowcolor\":\"#2a3f5f\",\"arrowhead\":0,\"arrowwidth\":1},\"geo\":{\"bgcolor\":\"white\",\"landcolor\":\"#E5ECF6\",\"subunitcolor\":\"white\",\"showland\":true,\"showlakes\":true,\"lakecolor\":\"white\"},\"title\":{\"x\":0.05},\"mapbox\":{\"style\":\"light\"}}},\"legend\":{\"tracegroupgap\":0},\"margin\":{\"t\":60},\"treemapcolorway\":[\"rgb(158,1,66)\",\"rgb(213,62,79)\",\"rgb(244,109,67)\",\"rgb(253,174,97)\",\"rgb(254,224,139)\",\"rgb(255,255,191)\",\"rgb(230,245,152)\",\"rgb(171,221,164)\",\"rgb(102,194,165)\",\"rgb(50,136,189)\",\"rgb(94,79,162)\"],\"height\":600},                        {\"responsive\": true}                    ).then(function(){\n",
       "                            \n",
       "var gd = document.getElementById('93899543-ff6b-48a5-8336-466544344765');\n",
       "var x = new MutationObserver(function (mutations, observer) {{\n",
       "        var display = window.getComputedStyle(gd).display;\n",
       "        if (!display || display === 'none') {{\n",
       "            console.log([gd, 'removed!']);\n",
       "            Plotly.purge(gd);\n",
       "            observer.disconnect();\n",
       "        }}\n",
       "}});\n",
       "\n",
       "// Listen for the removal of the full notebook cells\n",
       "var notebookContainer = gd.closest('#notebook-container');\n",
       "if (notebookContainer) {{\n",
       "    x.observe(notebookContainer, {childList: true});\n",
       "}}\n",
       "\n",
       "// Listen for the clearing of the current output cell\n",
       "var outputEl = gd.closest('.output');\n",
       "if (outputEl) {{\n",
       "    x.observe(outputEl, {childList: true});\n",
       "}}\n",
       "\n",
       "                        })                };                });            </script>        </div>"
      ]
     },
     "metadata": {},
     "output_type": "display_data"
    }
   ],
   "source": [
    "# enrich initial dataframe by adding 'first_year'\n",
    "concepts[\"first_year\"] = concepts.groupby('concept')['year'].transform('min')\n",
    "concepts_unique = concepts.drop_duplicates(\"concept\")[['concept', 'frequency', 'score_avg', 'first_year']]\n",
    "\n",
    "#@markdown ## Emerging concepts: parameters\n",
    "#@markdown Start year of the publications/concepts to include\n",
    "YEAR_START = 2010 #@param {type:\"integer\"}\n",
    "#@markdown How many 'emerging' concepts to retain, for each year\n",
    "CONCEPTS_PER_YEAR = 5 #@param {type:\"integer\"}\n",
    "\n",
    "\n",
    "#\n",
    "# note: we reuse the freq/score threasholds above in order to focus on concepts of interest\n",
    "emerging_concepts = concepts_unique.query(f\"\"\"first_year >= {YEAR_START}\"\"\")\\\n",
    "                    .query(f\"\"\"frequency >= {FREQ_MIN} & frequency <= {FREQ_MAX} & score_avg >= {SCORE_MIN} \"\"\")\\\n",
    "                    .sort_values([\"score_avg\", \"frequency\"], ascending=False)\\\n",
    "                    .groupby(\"first_year\").head(CONCEPTS_PER_YEAR)\n",
    "\n",
    "px.treemap(emerging_concepts,\n",
    "           path=['first_year', 'concept'],\n",
    "           values='frequency',\n",
    "           color=\"concept\",\n",
    "           color_discrete_sequence=px.colors.diverging.Spectral,\n",
    "           height=600,\n",
    "          )"
   ]
  },
  {
   "cell_type": "markdown",
   "metadata": {
    "Collapsed": "false",
    "id": "H-lsX5zxcf-o"
   },
   "source": [
    "## 5. Trend Analysis: topics growth\n",
    "\n",
    "If we focus on concepts that appear across multiple years, it is pretty interesting to examine their growth / decrease by comparing their frequency (or score) across those years."
   ]
  },
  {
   "cell_type": "code",
   "execution_count": 6,
   "metadata": {
    "Collapsed": "false",
    "colab": {
     "base_uri": "https://localhost:8080/",
     "height": 542
    },
    "id": "SD6TP_r48I1a",
    "outputId": "47509036-80a2-4ea6-dfa7-dd5ca36819d8"
   },
   "outputs": [
    {
     "data": {
      "application/vnd.plotly.v1+json": {
       "config": {
        "plotlyServerURL": "https://plot.ly"
       },
       "data": [
        {
         "hovertemplate": "concept=writing<br>year=%{x}<br>frequency_year=%{y}<extra></extra>",
         "legendgroup": "writing",
         "line": {
          "color": "#636efa",
          "dash": "solid"
         },
         "marker": {
          "symbol": "circle"
         },
         "mode": "lines",
         "name": "writing",
         "orientation": "v",
         "showlegend": true,
         "type": "scatter",
         "x": [
          1996,
          1997,
          1998,
          2000,
          2003,
          2004,
          2005,
          2006,
          2007,
          2008,
          2009,
          2010,
          2011,
          2012,
          2013,
          2014,
          2015,
          2016,
          2017,
          2018,
          2019,
          2020
         ],
         "xaxis": "x",
         "y": [
          2,
          1,
          2,
          3,
          1,
          2,
          1,
          4,
          5,
          1,
          5,
          3,
          4,
          6,
          4,
          4,
          4,
          5,
          9,
          8,
          10,
          6
         ],
         "yaxis": "y"
        },
        {
         "hovertemplate": "concept=philosophers<br>year=%{x}<br>frequency_year=%{y}<extra></extra>",
         "legendgroup": "philosophers",
         "line": {
          "color": "#EF553B",
          "dash": "solid"
         },
         "marker": {
          "symbol": "circle"
         },
         "mode": "lines",
         "name": "philosophers",
         "orientation": "v",
         "showlegend": true,
         "type": "scatter",
         "x": [
          1997,
          1998,
          1999,
          2000,
          2001,
          2002,
          2003,
          2004,
          2006,
          2007,
          2008,
          2009,
          2010,
          2011,
          2012,
          2013,
          2014,
          2015,
          2016,
          2017,
          2018,
          2019,
          2020
         ],
         "xaxis": "x",
         "y": [
          2,
          3,
          1,
          1,
          1,
          3,
          1,
          1,
          1,
          4,
          5,
          8,
          5,
          2,
          3,
          3,
          6,
          6,
          5,
          14,
          7,
          5,
          6
         ],
         "yaxis": "y"
        },
        {
         "hovertemplate": "concept=justice<br>year=%{x}<br>frequency_year=%{y}<extra></extra>",
         "legendgroup": "justice",
         "line": {
          "color": "#00cc96",
          "dash": "solid"
         },
         "marker": {
          "symbol": "circle"
         },
         "mode": "lines",
         "name": "justice",
         "orientation": "v",
         "showlegend": true,
         "type": "scatter",
         "x": [
          1997,
          1998,
          1999,
          2001,
          2002,
          2003,
          2005,
          2006,
          2007,
          2008,
          2009,
          2010,
          2011,
          2012,
          2013,
          2014,
          2015,
          2016,
          2017,
          2018,
          2019,
          2020
         ],
         "xaxis": "x",
         "y": [
          2,
          1,
          5,
          1,
          1,
          1,
          2,
          4,
          3,
          3,
          4,
          3,
          8,
          5,
          5,
          6,
          4,
          8,
          5,
          7,
          4,
          8
         ],
         "yaxis": "y"
        }
       ],
       "layout": {
        "legend": {
         "title": {
          "text": "concept"
         },
         "tracegroupgap": 0
        },
        "margin": {
         "t": 60
        },
        "template": {
         "data": {
          "bar": [
           {
            "error_x": {
             "color": "#2a3f5f"
            },
            "error_y": {
             "color": "#2a3f5f"
            },
            "marker": {
             "line": {
              "color": "#E5ECF6",
              "width": 0.5
             },
             "pattern": {
              "fillmode": "overlay",
              "size": 10,
              "solidity": 0.2
             }
            },
            "type": "bar"
           }
          ],
          "barpolar": [
           {
            "marker": {
             "line": {
              "color": "#E5ECF6",
              "width": 0.5
             },
             "pattern": {
              "fillmode": "overlay",
              "size": 10,
              "solidity": 0.2
             }
            },
            "type": "barpolar"
           }
          ],
          "carpet": [
           {
            "aaxis": {
             "endlinecolor": "#2a3f5f",
             "gridcolor": "white",
             "linecolor": "white",
             "minorgridcolor": "white",
             "startlinecolor": "#2a3f5f"
            },
            "baxis": {
             "endlinecolor": "#2a3f5f",
             "gridcolor": "white",
             "linecolor": "white",
             "minorgridcolor": "white",
             "startlinecolor": "#2a3f5f"
            },
            "type": "carpet"
           }
          ],
          "choropleth": [
           {
            "colorbar": {
             "outlinewidth": 0,
             "ticks": ""
            },
            "type": "choropleth"
           }
          ],
          "contour": [
           {
            "colorbar": {
             "outlinewidth": 0,
             "ticks": ""
            },
            "colorscale": [
             [
              0,
              "#0d0887"
             ],
             [
              0.1111111111111111,
              "#46039f"
             ],
             [
              0.2222222222222222,
              "#7201a8"
             ],
             [
              0.3333333333333333,
              "#9c179e"
             ],
             [
              0.4444444444444444,
              "#bd3786"
             ],
             [
              0.5555555555555556,
              "#d8576b"
             ],
             [
              0.6666666666666666,
              "#ed7953"
             ],
             [
              0.7777777777777778,
              "#fb9f3a"
             ],
             [
              0.8888888888888888,
              "#fdca26"
             ],
             [
              1,
              "#f0f921"
             ]
            ],
            "type": "contour"
           }
          ],
          "contourcarpet": [
           {
            "colorbar": {
             "outlinewidth": 0,
             "ticks": ""
            },
            "type": "contourcarpet"
           }
          ],
          "heatmap": [
           {
            "colorbar": {
             "outlinewidth": 0,
             "ticks": ""
            },
            "colorscale": [
             [
              0,
              "#0d0887"
             ],
             [
              0.1111111111111111,
              "#46039f"
             ],
             [
              0.2222222222222222,
              "#7201a8"
             ],
             [
              0.3333333333333333,
              "#9c179e"
             ],
             [
              0.4444444444444444,
              "#bd3786"
             ],
             [
              0.5555555555555556,
              "#d8576b"
             ],
             [
              0.6666666666666666,
              "#ed7953"
             ],
             [
              0.7777777777777778,
              "#fb9f3a"
             ],
             [
              0.8888888888888888,
              "#fdca26"
             ],
             [
              1,
              "#f0f921"
             ]
            ],
            "type": "heatmap"
           }
          ],
          "heatmapgl": [
           {
            "colorbar": {
             "outlinewidth": 0,
             "ticks": ""
            },
            "colorscale": [
             [
              0,
              "#0d0887"
             ],
             [
              0.1111111111111111,
              "#46039f"
             ],
             [
              0.2222222222222222,
              "#7201a8"
             ],
             [
              0.3333333333333333,
              "#9c179e"
             ],
             [
              0.4444444444444444,
              "#bd3786"
             ],
             [
              0.5555555555555556,
              "#d8576b"
             ],
             [
              0.6666666666666666,
              "#ed7953"
             ],
             [
              0.7777777777777778,
              "#fb9f3a"
             ],
             [
              0.8888888888888888,
              "#fdca26"
             ],
             [
              1,
              "#f0f921"
             ]
            ],
            "type": "heatmapgl"
           }
          ],
          "histogram": [
           {
            "marker": {
             "pattern": {
              "fillmode": "overlay",
              "size": 10,
              "solidity": 0.2
             }
            },
            "type": "histogram"
           }
          ],
          "histogram2d": [
           {
            "colorbar": {
             "outlinewidth": 0,
             "ticks": ""
            },
            "colorscale": [
             [
              0,
              "#0d0887"
             ],
             [
              0.1111111111111111,
              "#46039f"
             ],
             [
              0.2222222222222222,
              "#7201a8"
             ],
             [
              0.3333333333333333,
              "#9c179e"
             ],
             [
              0.4444444444444444,
              "#bd3786"
             ],
             [
              0.5555555555555556,
              "#d8576b"
             ],
             [
              0.6666666666666666,
              "#ed7953"
             ],
             [
              0.7777777777777778,
              "#fb9f3a"
             ],
             [
              0.8888888888888888,
              "#fdca26"
             ],
             [
              1,
              "#f0f921"
             ]
            ],
            "type": "histogram2d"
           }
          ],
          "histogram2dcontour": [
           {
            "colorbar": {
             "outlinewidth": 0,
             "ticks": ""
            },
            "colorscale": [
             [
              0,
              "#0d0887"
             ],
             [
              0.1111111111111111,
              "#46039f"
             ],
             [
              0.2222222222222222,
              "#7201a8"
             ],
             [
              0.3333333333333333,
              "#9c179e"
             ],
             [
              0.4444444444444444,
              "#bd3786"
             ],
             [
              0.5555555555555556,
              "#d8576b"
             ],
             [
              0.6666666666666666,
              "#ed7953"
             ],
             [
              0.7777777777777778,
              "#fb9f3a"
             ],
             [
              0.8888888888888888,
              "#fdca26"
             ],
             [
              1,
              "#f0f921"
             ]
            ],
            "type": "histogram2dcontour"
           }
          ],
          "mesh3d": [
           {
            "colorbar": {
             "outlinewidth": 0,
             "ticks": ""
            },
            "type": "mesh3d"
           }
          ],
          "parcoords": [
           {
            "line": {
             "colorbar": {
              "outlinewidth": 0,
              "ticks": ""
             }
            },
            "type": "parcoords"
           }
          ],
          "pie": [
           {
            "automargin": true,
            "type": "pie"
           }
          ],
          "scatter": [
           {
            "fillpattern": {
             "fillmode": "overlay",
             "size": 10,
             "solidity": 0.2
            },
            "type": "scatter"
           }
          ],
          "scatter3d": [
           {
            "line": {
             "colorbar": {
              "outlinewidth": 0,
              "ticks": ""
             }
            },
            "marker": {
             "colorbar": {
              "outlinewidth": 0,
              "ticks": ""
             }
            },
            "type": "scatter3d"
           }
          ],
          "scattercarpet": [
           {
            "marker": {
             "colorbar": {
              "outlinewidth": 0,
              "ticks": ""
             }
            },
            "type": "scattercarpet"
           }
          ],
          "scattergeo": [
           {
            "marker": {
             "colorbar": {
              "outlinewidth": 0,
              "ticks": ""
             }
            },
            "type": "scattergeo"
           }
          ],
          "scattergl": [
           {
            "marker": {
             "colorbar": {
              "outlinewidth": 0,
              "ticks": ""
             }
            },
            "type": "scattergl"
           }
          ],
          "scattermapbox": [
           {
            "marker": {
             "colorbar": {
              "outlinewidth": 0,
              "ticks": ""
             }
            },
            "type": "scattermapbox"
           }
          ],
          "scatterpolar": [
           {
            "marker": {
             "colorbar": {
              "outlinewidth": 0,
              "ticks": ""
             }
            },
            "type": "scatterpolar"
           }
          ],
          "scatterpolargl": [
           {
            "marker": {
             "colorbar": {
              "outlinewidth": 0,
              "ticks": ""
             }
            },
            "type": "scatterpolargl"
           }
          ],
          "scatterternary": [
           {
            "marker": {
             "colorbar": {
              "outlinewidth": 0,
              "ticks": ""
             }
            },
            "type": "scatterternary"
           }
          ],
          "surface": [
           {
            "colorbar": {
             "outlinewidth": 0,
             "ticks": ""
            },
            "colorscale": [
             [
              0,
              "#0d0887"
             ],
             [
              0.1111111111111111,
              "#46039f"
             ],
             [
              0.2222222222222222,
              "#7201a8"
             ],
             [
              0.3333333333333333,
              "#9c179e"
             ],
             [
              0.4444444444444444,
              "#bd3786"
             ],
             [
              0.5555555555555556,
              "#d8576b"
             ],
             [
              0.6666666666666666,
              "#ed7953"
             ],
             [
              0.7777777777777778,
              "#fb9f3a"
             ],
             [
              0.8888888888888888,
              "#fdca26"
             ],
             [
              1,
              "#f0f921"
             ]
            ],
            "type": "surface"
           }
          ],
          "table": [
           {
            "cells": {
             "fill": {
              "color": "#EBF0F8"
             },
             "line": {
              "color": "white"
             }
            },
            "header": {
             "fill": {
              "color": "#C8D4E3"
             },
             "line": {
              "color": "white"
             }
            },
            "type": "table"
           }
          ]
         },
         "layout": {
          "annotationdefaults": {
           "arrowcolor": "#2a3f5f",
           "arrowhead": 0,
           "arrowwidth": 1
          },
          "autotypenumbers": "strict",
          "coloraxis": {
           "colorbar": {
            "outlinewidth": 0,
            "ticks": ""
           }
          },
          "colorscale": {
           "diverging": [
            [
             0,
             "#8e0152"
            ],
            [
             0.1,
             "#c51b7d"
            ],
            [
             0.2,
             "#de77ae"
            ],
            [
             0.3,
             "#f1b6da"
            ],
            [
             0.4,
             "#fde0ef"
            ],
            [
             0.5,
             "#f7f7f7"
            ],
            [
             0.6,
             "#e6f5d0"
            ],
            [
             0.7,
             "#b8e186"
            ],
            [
             0.8,
             "#7fbc41"
            ],
            [
             0.9,
             "#4d9221"
            ],
            [
             1,
             "#276419"
            ]
           ],
           "sequential": [
            [
             0,
             "#0d0887"
            ],
            [
             0.1111111111111111,
             "#46039f"
            ],
            [
             0.2222222222222222,
             "#7201a8"
            ],
            [
             0.3333333333333333,
             "#9c179e"
            ],
            [
             0.4444444444444444,
             "#bd3786"
            ],
            [
             0.5555555555555556,
             "#d8576b"
            ],
            [
             0.6666666666666666,
             "#ed7953"
            ],
            [
             0.7777777777777778,
             "#fb9f3a"
            ],
            [
             0.8888888888888888,
             "#fdca26"
            ],
            [
             1,
             "#f0f921"
            ]
           ],
           "sequentialminus": [
            [
             0,
             "#0d0887"
            ],
            [
             0.1111111111111111,
             "#46039f"
            ],
            [
             0.2222222222222222,
             "#7201a8"
            ],
            [
             0.3333333333333333,
             "#9c179e"
            ],
            [
             0.4444444444444444,
             "#bd3786"
            ],
            [
             0.5555555555555556,
             "#d8576b"
            ],
            [
             0.6666666666666666,
             "#ed7953"
            ],
            [
             0.7777777777777778,
             "#fb9f3a"
            ],
            [
             0.8888888888888888,
             "#fdca26"
            ],
            [
             1,
             "#f0f921"
            ]
           ]
          },
          "colorway": [
           "#636efa",
           "#EF553B",
           "#00cc96",
           "#ab63fa",
           "#FFA15A",
           "#19d3f3",
           "#FF6692",
           "#B6E880",
           "#FF97FF",
           "#FECB52"
          ],
          "font": {
           "color": "#2a3f5f"
          },
          "geo": {
           "bgcolor": "white",
           "lakecolor": "white",
           "landcolor": "#E5ECF6",
           "showlakes": true,
           "showland": true,
           "subunitcolor": "white"
          },
          "hoverlabel": {
           "align": "left"
          },
          "hovermode": "closest",
          "mapbox": {
           "style": "light"
          },
          "paper_bgcolor": "white",
          "plot_bgcolor": "#E5ECF6",
          "polar": {
           "angularaxis": {
            "gridcolor": "white",
            "linecolor": "white",
            "ticks": ""
           },
           "bgcolor": "#E5ECF6",
           "radialaxis": {
            "gridcolor": "white",
            "linecolor": "white",
            "ticks": ""
           }
          },
          "scene": {
           "xaxis": {
            "backgroundcolor": "#E5ECF6",
            "gridcolor": "white",
            "gridwidth": 2,
            "linecolor": "white",
            "showbackground": true,
            "ticks": "",
            "zerolinecolor": "white"
           },
           "yaxis": {
            "backgroundcolor": "#E5ECF6",
            "gridcolor": "white",
            "gridwidth": 2,
            "linecolor": "white",
            "showbackground": true,
            "ticks": "",
            "zerolinecolor": "white"
           },
           "zaxis": {
            "backgroundcolor": "#E5ECF6",
            "gridcolor": "white",
            "gridwidth": 2,
            "linecolor": "white",
            "showbackground": true,
            "ticks": "",
            "zerolinecolor": "white"
           }
          },
          "shapedefaults": {
           "line": {
            "color": "#2a3f5f"
           }
          },
          "ternary": {
           "aaxis": {
            "gridcolor": "white",
            "linecolor": "white",
            "ticks": ""
           },
           "baxis": {
            "gridcolor": "white",
            "linecolor": "white",
            "ticks": ""
           },
           "bgcolor": "#E5ECF6",
           "caxis": {
            "gridcolor": "white",
            "linecolor": "white",
            "ticks": ""
           }
          },
          "title": {
           "x": 0.05
          },
          "xaxis": {
           "automargin": true,
           "gridcolor": "white",
           "linecolor": "white",
           "ticks": "",
           "title": {
            "standoff": 15
           },
           "zerolinecolor": "white",
           "zerolinewidth": 2
          },
          "yaxis": {
           "automargin": true,
           "gridcolor": "white",
           "linecolor": "white",
           "ticks": "",
           "title": {
            "standoff": 15
           },
           "zerolinecolor": "white",
           "zerolinewidth": 2
          }
         }
        },
        "xaxis": {
         "anchor": "y",
         "domain": [
          0,
          1
         ],
         "title": {
          "text": "year"
         }
        },
        "yaxis": {
         "anchor": "x",
         "domain": [
          0,
          1
         ],
         "title": {
          "text": "frequency_year"
         }
        }
       }
      },
      "text/html": [
       "<div>                            <div id=\"a9fafd82-e480-4181-91eb-96fbf6e88143\" class=\"plotly-graph-div\" style=\"height:525px; width:100%;\"></div>            <script type=\"text/javascript\">                require([\"plotly\"], function(Plotly) {                    window.PLOTLYENV=window.PLOTLYENV || {};                                    if (document.getElementById(\"a9fafd82-e480-4181-91eb-96fbf6e88143\")) {                    Plotly.newPlot(                        \"a9fafd82-e480-4181-91eb-96fbf6e88143\",                        [{\"hovertemplate\":\"concept=writing\\u003cbr\\u003eyear=%{x}\\u003cbr\\u003efrequency_year=%{y}\\u003cextra\\u003e\\u003c\\u002fextra\\u003e\",\"legendgroup\":\"writing\",\"line\":{\"color\":\"#636efa\",\"dash\":\"solid\"},\"marker\":{\"symbol\":\"circle\"},\"mode\":\"lines\",\"name\":\"writing\",\"orientation\":\"v\",\"showlegend\":true,\"x\":[1996,1997,1998,2000,2003,2004,2005,2006,2007,2008,2009,2010,2011,2012,2013,2014,2015,2016,2017,2018,2019,2020],\"xaxis\":\"x\",\"y\":[2,1,2,3,1,2,1,4,5,1,5,3,4,6,4,4,4,5,9,8,10,6],\"yaxis\":\"y\",\"type\":\"scatter\"},{\"hovertemplate\":\"concept=philosophers\\u003cbr\\u003eyear=%{x}\\u003cbr\\u003efrequency_year=%{y}\\u003cextra\\u003e\\u003c\\u002fextra\\u003e\",\"legendgroup\":\"philosophers\",\"line\":{\"color\":\"#EF553B\",\"dash\":\"solid\"},\"marker\":{\"symbol\":\"circle\"},\"mode\":\"lines\",\"name\":\"philosophers\",\"orientation\":\"v\",\"showlegend\":true,\"x\":[1997,1998,1999,2000,2001,2002,2003,2004,2006,2007,2008,2009,2010,2011,2012,2013,2014,2015,2016,2017,2018,2019,2020],\"xaxis\":\"x\",\"y\":[2,3,1,1,1,3,1,1,1,4,5,8,5,2,3,3,6,6,5,14,7,5,6],\"yaxis\":\"y\",\"type\":\"scatter\"},{\"hovertemplate\":\"concept=justice\\u003cbr\\u003eyear=%{x}\\u003cbr\\u003efrequency_year=%{y}\\u003cextra\\u003e\\u003c\\u002fextra\\u003e\",\"legendgroup\":\"justice\",\"line\":{\"color\":\"#00cc96\",\"dash\":\"solid\"},\"marker\":{\"symbol\":\"circle\"},\"mode\":\"lines\",\"name\":\"justice\",\"orientation\":\"v\",\"showlegend\":true,\"x\":[1997,1998,1999,2001,2002,2003,2005,2006,2007,2008,2009,2010,2011,2012,2013,2014,2015,2016,2017,2018,2019,2020],\"xaxis\":\"x\",\"y\":[2,1,5,1,1,1,2,4,3,3,4,3,8,5,5,6,4,8,5,7,4,8],\"yaxis\":\"y\",\"type\":\"scatter\"}],                        {\"template\":{\"data\":{\"histogram2dcontour\":[{\"type\":\"histogram2dcontour\",\"colorbar\":{\"outlinewidth\":0,\"ticks\":\"\"},\"colorscale\":[[0.0,\"#0d0887\"],[0.1111111111111111,\"#46039f\"],[0.2222222222222222,\"#7201a8\"],[0.3333333333333333,\"#9c179e\"],[0.4444444444444444,\"#bd3786\"],[0.5555555555555556,\"#d8576b\"],[0.6666666666666666,\"#ed7953\"],[0.7777777777777778,\"#fb9f3a\"],[0.8888888888888888,\"#fdca26\"],[1.0,\"#f0f921\"]]}],\"choropleth\":[{\"type\":\"choropleth\",\"colorbar\":{\"outlinewidth\":0,\"ticks\":\"\"}}],\"histogram2d\":[{\"type\":\"histogram2d\",\"colorbar\":{\"outlinewidth\":0,\"ticks\":\"\"},\"colorscale\":[[0.0,\"#0d0887\"],[0.1111111111111111,\"#46039f\"],[0.2222222222222222,\"#7201a8\"],[0.3333333333333333,\"#9c179e\"],[0.4444444444444444,\"#bd3786\"],[0.5555555555555556,\"#d8576b\"],[0.6666666666666666,\"#ed7953\"],[0.7777777777777778,\"#fb9f3a\"],[0.8888888888888888,\"#fdca26\"],[1.0,\"#f0f921\"]]}],\"heatmap\":[{\"type\":\"heatmap\",\"colorbar\":{\"outlinewidth\":0,\"ticks\":\"\"},\"colorscale\":[[0.0,\"#0d0887\"],[0.1111111111111111,\"#46039f\"],[0.2222222222222222,\"#7201a8\"],[0.3333333333333333,\"#9c179e\"],[0.4444444444444444,\"#bd3786\"],[0.5555555555555556,\"#d8576b\"],[0.6666666666666666,\"#ed7953\"],[0.7777777777777778,\"#fb9f3a\"],[0.8888888888888888,\"#fdca26\"],[1.0,\"#f0f921\"]]}],\"heatmapgl\":[{\"type\":\"heatmapgl\",\"colorbar\":{\"outlinewidth\":0,\"ticks\":\"\"},\"colorscale\":[[0.0,\"#0d0887\"],[0.1111111111111111,\"#46039f\"],[0.2222222222222222,\"#7201a8\"],[0.3333333333333333,\"#9c179e\"],[0.4444444444444444,\"#bd3786\"],[0.5555555555555556,\"#d8576b\"],[0.6666666666666666,\"#ed7953\"],[0.7777777777777778,\"#fb9f3a\"],[0.8888888888888888,\"#fdca26\"],[1.0,\"#f0f921\"]]}],\"contourcarpet\":[{\"type\":\"contourcarpet\",\"colorbar\":{\"outlinewidth\":0,\"ticks\":\"\"}}],\"contour\":[{\"type\":\"contour\",\"colorbar\":{\"outlinewidth\":0,\"ticks\":\"\"},\"colorscale\":[[0.0,\"#0d0887\"],[0.1111111111111111,\"#46039f\"],[0.2222222222222222,\"#7201a8\"],[0.3333333333333333,\"#9c179e\"],[0.4444444444444444,\"#bd3786\"],[0.5555555555555556,\"#d8576b\"],[0.6666666666666666,\"#ed7953\"],[0.7777777777777778,\"#fb9f3a\"],[0.8888888888888888,\"#fdca26\"],[1.0,\"#f0f921\"]]}],\"surface\":[{\"type\":\"surface\",\"colorbar\":{\"outlinewidth\":0,\"ticks\":\"\"},\"colorscale\":[[0.0,\"#0d0887\"],[0.1111111111111111,\"#46039f\"],[0.2222222222222222,\"#7201a8\"],[0.3333333333333333,\"#9c179e\"],[0.4444444444444444,\"#bd3786\"],[0.5555555555555556,\"#d8576b\"],[0.6666666666666666,\"#ed7953\"],[0.7777777777777778,\"#fb9f3a\"],[0.8888888888888888,\"#fdca26\"],[1.0,\"#f0f921\"]]}],\"mesh3d\":[{\"type\":\"mesh3d\",\"colorbar\":{\"outlinewidth\":0,\"ticks\":\"\"}}],\"scatter\":[{\"fillpattern\":{\"fillmode\":\"overlay\",\"size\":10,\"solidity\":0.2},\"type\":\"scatter\"}],\"parcoords\":[{\"type\":\"parcoords\",\"line\":{\"colorbar\":{\"outlinewidth\":0,\"ticks\":\"\"}}}],\"scatterpolargl\":[{\"type\":\"scatterpolargl\",\"marker\":{\"colorbar\":{\"outlinewidth\":0,\"ticks\":\"\"}}}],\"bar\":[{\"error_x\":{\"color\":\"#2a3f5f\"},\"error_y\":{\"color\":\"#2a3f5f\"},\"marker\":{\"line\":{\"color\":\"#E5ECF6\",\"width\":0.5},\"pattern\":{\"fillmode\":\"overlay\",\"size\":10,\"solidity\":0.2}},\"type\":\"bar\"}],\"scattergeo\":[{\"type\":\"scattergeo\",\"marker\":{\"colorbar\":{\"outlinewidth\":0,\"ticks\":\"\"}}}],\"scatterpolar\":[{\"type\":\"scatterpolar\",\"marker\":{\"colorbar\":{\"outlinewidth\":0,\"ticks\":\"\"}}}],\"histogram\":[{\"marker\":{\"pattern\":{\"fillmode\":\"overlay\",\"size\":10,\"solidity\":0.2}},\"type\":\"histogram\"}],\"scattergl\":[{\"type\":\"scattergl\",\"marker\":{\"colorbar\":{\"outlinewidth\":0,\"ticks\":\"\"}}}],\"scatter3d\":[{\"type\":\"scatter3d\",\"line\":{\"colorbar\":{\"outlinewidth\":0,\"ticks\":\"\"}},\"marker\":{\"colorbar\":{\"outlinewidth\":0,\"ticks\":\"\"}}}],\"scattermapbox\":[{\"type\":\"scattermapbox\",\"marker\":{\"colorbar\":{\"outlinewidth\":0,\"ticks\":\"\"}}}],\"scatterternary\":[{\"type\":\"scatterternary\",\"marker\":{\"colorbar\":{\"outlinewidth\":0,\"ticks\":\"\"}}}],\"scattercarpet\":[{\"type\":\"scattercarpet\",\"marker\":{\"colorbar\":{\"outlinewidth\":0,\"ticks\":\"\"}}}],\"carpet\":[{\"aaxis\":{\"endlinecolor\":\"#2a3f5f\",\"gridcolor\":\"white\",\"linecolor\":\"white\",\"minorgridcolor\":\"white\",\"startlinecolor\":\"#2a3f5f\"},\"baxis\":{\"endlinecolor\":\"#2a3f5f\",\"gridcolor\":\"white\",\"linecolor\":\"white\",\"minorgridcolor\":\"white\",\"startlinecolor\":\"#2a3f5f\"},\"type\":\"carpet\"}],\"table\":[{\"cells\":{\"fill\":{\"color\":\"#EBF0F8\"},\"line\":{\"color\":\"white\"}},\"header\":{\"fill\":{\"color\":\"#C8D4E3\"},\"line\":{\"color\":\"white\"}},\"type\":\"table\"}],\"barpolar\":[{\"marker\":{\"line\":{\"color\":\"#E5ECF6\",\"width\":0.5},\"pattern\":{\"fillmode\":\"overlay\",\"size\":10,\"solidity\":0.2}},\"type\":\"barpolar\"}],\"pie\":[{\"automargin\":true,\"type\":\"pie\"}]},\"layout\":{\"autotypenumbers\":\"strict\",\"colorway\":[\"#636efa\",\"#EF553B\",\"#00cc96\",\"#ab63fa\",\"#FFA15A\",\"#19d3f3\",\"#FF6692\",\"#B6E880\",\"#FF97FF\",\"#FECB52\"],\"font\":{\"color\":\"#2a3f5f\"},\"hovermode\":\"closest\",\"hoverlabel\":{\"align\":\"left\"},\"paper_bgcolor\":\"white\",\"plot_bgcolor\":\"#E5ECF6\",\"polar\":{\"bgcolor\":\"#E5ECF6\",\"angularaxis\":{\"gridcolor\":\"white\",\"linecolor\":\"white\",\"ticks\":\"\"},\"radialaxis\":{\"gridcolor\":\"white\",\"linecolor\":\"white\",\"ticks\":\"\"}},\"ternary\":{\"bgcolor\":\"#E5ECF6\",\"aaxis\":{\"gridcolor\":\"white\",\"linecolor\":\"white\",\"ticks\":\"\"},\"baxis\":{\"gridcolor\":\"white\",\"linecolor\":\"white\",\"ticks\":\"\"},\"caxis\":{\"gridcolor\":\"white\",\"linecolor\":\"white\",\"ticks\":\"\"}},\"coloraxis\":{\"colorbar\":{\"outlinewidth\":0,\"ticks\":\"\"}},\"colorscale\":{\"sequential\":[[0.0,\"#0d0887\"],[0.1111111111111111,\"#46039f\"],[0.2222222222222222,\"#7201a8\"],[0.3333333333333333,\"#9c179e\"],[0.4444444444444444,\"#bd3786\"],[0.5555555555555556,\"#d8576b\"],[0.6666666666666666,\"#ed7953\"],[0.7777777777777778,\"#fb9f3a\"],[0.8888888888888888,\"#fdca26\"],[1.0,\"#f0f921\"]],\"sequentialminus\":[[0.0,\"#0d0887\"],[0.1111111111111111,\"#46039f\"],[0.2222222222222222,\"#7201a8\"],[0.3333333333333333,\"#9c179e\"],[0.4444444444444444,\"#bd3786\"],[0.5555555555555556,\"#d8576b\"],[0.6666666666666666,\"#ed7953\"],[0.7777777777777778,\"#fb9f3a\"],[0.8888888888888888,\"#fdca26\"],[1.0,\"#f0f921\"]],\"diverging\":[[0,\"#8e0152\"],[0.1,\"#c51b7d\"],[0.2,\"#de77ae\"],[0.3,\"#f1b6da\"],[0.4,\"#fde0ef\"],[0.5,\"#f7f7f7\"],[0.6,\"#e6f5d0\"],[0.7,\"#b8e186\"],[0.8,\"#7fbc41\"],[0.9,\"#4d9221\"],[1,\"#276419\"]]},\"xaxis\":{\"gridcolor\":\"white\",\"linecolor\":\"white\",\"ticks\":\"\",\"title\":{\"standoff\":15},\"zerolinecolor\":\"white\",\"automargin\":true,\"zerolinewidth\":2},\"yaxis\":{\"gridcolor\":\"white\",\"linecolor\":\"white\",\"ticks\":\"\",\"title\":{\"standoff\":15},\"zerolinecolor\":\"white\",\"automargin\":true,\"zerolinewidth\":2},\"scene\":{\"xaxis\":{\"backgroundcolor\":\"#E5ECF6\",\"gridcolor\":\"white\",\"linecolor\":\"white\",\"showbackground\":true,\"ticks\":\"\",\"zerolinecolor\":\"white\",\"gridwidth\":2},\"yaxis\":{\"backgroundcolor\":\"#E5ECF6\",\"gridcolor\":\"white\",\"linecolor\":\"white\",\"showbackground\":true,\"ticks\":\"\",\"zerolinecolor\":\"white\",\"gridwidth\":2},\"zaxis\":{\"backgroundcolor\":\"#E5ECF6\",\"gridcolor\":\"white\",\"linecolor\":\"white\",\"showbackground\":true,\"ticks\":\"\",\"zerolinecolor\":\"white\",\"gridwidth\":2}},\"shapedefaults\":{\"line\":{\"color\":\"#2a3f5f\"}},\"annotationdefaults\":{\"arrowcolor\":\"#2a3f5f\",\"arrowhead\":0,\"arrowwidth\":1},\"geo\":{\"bgcolor\":\"white\",\"landcolor\":\"#E5ECF6\",\"subunitcolor\":\"white\",\"showland\":true,\"showlakes\":true,\"lakecolor\":\"white\"},\"title\":{\"x\":0.05},\"mapbox\":{\"style\":\"light\"}}},\"xaxis\":{\"anchor\":\"y\",\"domain\":[0.0,1.0],\"title\":{\"text\":\"year\"}},\"yaxis\":{\"anchor\":\"x\",\"domain\":[0.0,1.0],\"title\":{\"text\":\"frequency_year\"}},\"legend\":{\"title\":{\"text\":\"concept\"},\"tracegroupgap\":0},\"margin\":{\"t\":60}},                        {\"responsive\": true}                    ).then(function(){\n",
       "                            \n",
       "var gd = document.getElementById('a9fafd82-e480-4181-91eb-96fbf6e88143');\n",
       "var x = new MutationObserver(function (mutations, observer) {{\n",
       "        var display = window.getComputedStyle(gd).display;\n",
       "        if (!display || display === 'none') {{\n",
       "            console.log([gd, 'removed!']);\n",
       "            Plotly.purge(gd);\n",
       "            observer.disconnect();\n",
       "        }}\n",
       "}});\n",
       "\n",
       "// Listen for the removal of the full notebook cells\n",
       "var notebookContainer = gd.closest('#notebook-container');\n",
       "if (notebookContainer) {{\n",
       "    x.observe(notebookContainer, {childList: true});\n",
       "}}\n",
       "\n",
       "// Listen for the clearing of the current output cell\n",
       "var outputEl = gd.closest('.output');\n",
       "if (outputEl) {{\n",
       "    x.observe(outputEl, {childList: true});\n",
       "}}\n",
       "\n",
       "                        })                };                });            </script>        </div>"
      ]
     },
     "metadata": {},
     "output_type": "display_data"
    }
   ],
   "source": [
    "#\n",
    "# create dataframe with statistics for all years\n",
    "#\n",
    "\n",
    "concepts_by_year = concepts.copy()\n",
    "concepts_by_year['frequency_year'] = concepts_by_year.groupby(['year', 'concept'])['concept'].transform('count')\n",
    "concepts_by_year['score_avg_year'] = concepts_by_year.groupby(['year', 'concept'])['score'].transform('mean').round(5)\n",
    "\n",
    "concepts_by_year = concepts_by_year.drop_duplicates(subset=['concept', 'year'])\\\n",
    "                    [['concept', 'frequency', 'score_avg', 'year', 'frequency_year', 'score_avg_year']]\n",
    "\n",
    "\n",
    "#\n",
    "# pick 3 frequent concepts programmatically\n",
    "#\n",
    "\n",
    "temp = concepts_unique.query(f\"\"\"frequency >= 10 & frequency <= 100 & score_avg >= 0.4 \"\"\")\\\n",
    "                    .sort_values([\"frequency\", \"score_avg\", ], ascending=False)\n",
    "FOCUS = temp['concept'].to_list()[:3]\n",
    "\n",
    "\n",
    "#\n",
    "# plot their frequency over the years\n",
    "#\n",
    "\n",
    "data = concepts_by_year[concepts_by_year['concept'].isin(FOCUS)].sort_values(\"year\")\n",
    "\n",
    "px.line(data,\n",
    "        x=\"year\",\n",
    "        y=\"frequency_year\",\n",
    "        color=\"concept\",\n",
    "       )\n"
   ]
  },
  {
   "cell_type": "markdown",
   "metadata": {
    "Collapsed": "false",
    "id": "wvO5TLgC8I1d"
   },
   "source": [
    "## 6. Trend analysis: growth distribution based on selected years\n",
    "\n",
    "We can generalised the method above so to look at the topics that grew the most, within any two chosen years."
   ]
  },
  {
   "cell_type": "code",
   "execution_count": 7,
   "metadata": {
    "Collapsed": "false",
    "colab": {
     "base_uri": "https://localhost:8080/",
     "height": 229
    },
    "id": "IG0UgmKAcf8E",
    "outputId": "3d8ce68c-0ebb-4808-e168-f095a31af148"
   },
   "outputs": [
    {
     "data": {
      "text/html": [
       "<div>\n",
       "<style scoped>\n",
       "    .dataframe tbody tr th:only-of-type {\n",
       "        vertical-align: middle;\n",
       "    }\n",
       "\n",
       "    .dataframe tbody tr th {\n",
       "        vertical-align: top;\n",
       "    }\n",
       "\n",
       "    .dataframe thead th {\n",
       "        text-align: right;\n",
       "    }\n",
       "</style>\n",
       "<table border=\"1\" class=\"dataframe\">\n",
       "  <thead>\n",
       "    <tr style=\"text-align: right;\">\n",
       "      <th></th>\n",
       "      <th>concept</th>\n",
       "      <th>frequency</th>\n",
       "      <th>score_avg</th>\n",
       "      <th>freq_growth</th>\n",
       "      <th>score_growth</th>\n",
       "    </tr>\n",
       "  </thead>\n",
       "  <tbody>\n",
       "    <tr>\n",
       "      <th>64</th>\n",
       "      <td>properties</td>\n",
       "      <td>111</td>\n",
       "      <td>0.12084</td>\n",
       "      <td>18</td>\n",
       "      <td>-0.14609</td>\n",
       "    </tr>\n",
       "    <tr>\n",
       "      <th>284</th>\n",
       "      <td>order</td>\n",
       "      <td>209</td>\n",
       "      <td>0.21746</td>\n",
       "      <td>16</td>\n",
       "      <td>-0.04792</td>\n",
       "    </tr>\n",
       "    <tr>\n",
       "      <th>33</th>\n",
       "      <td>role</td>\n",
       "      <td>304</td>\n",
       "      <td>0.25963</td>\n",
       "      <td>16</td>\n",
       "      <td>0.05842</td>\n",
       "    </tr>\n",
       "    <tr>\n",
       "      <th>20</th>\n",
       "      <td>community</td>\n",
       "      <td>194</td>\n",
       "      <td>0.36021</td>\n",
       "      <td>15</td>\n",
       "      <td>-0.16620</td>\n",
       "    </tr>\n",
       "    <tr>\n",
       "      <th>6</th>\n",
       "      <td>system</td>\n",
       "      <td>205</td>\n",
       "      <td>0.19762</td>\n",
       "      <td>14</td>\n",
       "      <td>-0.01079</td>\n",
       "    </tr>\n",
       "  </tbody>\n",
       "</table>\n",
       "</div>"
      ],
      "text/plain": [
       "        concept  frequency  score_avg  freq_growth  score_growth\n",
       "64   properties        111    0.12084           18      -0.14609\n",
       "284       order        209    0.21746           16      -0.04792\n",
       "33         role        304    0.25963           16       0.05842\n",
       "20    community        194    0.36021           15      -0.16620\n",
       "6        system        205    0.19762           14      -0.01079"
      ]
     },
     "execution_count": 7,
     "metadata": {},
     "output_type": "execute_result"
    }
   ],
   "source": [
    "YEAR_START = 2014 #@param {type: \"slider\", min: 1950, max: 2020}\n",
    "YEAR_END = 2019 #@param {type: \"slider\", min: 1950, max: 2020}\n",
    "\n",
    "\n",
    "#\n",
    "# from two years, find all common concepts, calculate growth for all of them\n",
    "#\n",
    "\n",
    "first_year = concepts_by_year.query(f\"year == {YEAR_START}\")\n",
    "second_year = concepts_by_year.query(f\"year == {YEAR_END}\")\n",
    "two_years = pd.concat([first_year, second_year])\n",
    "common_concepts = two_years[two_years.duplicated('concept')].reset_index()[['concept', 'frequency', 'score_avg']]\n",
    "\n",
    "def calculate_difference(concept, column=\"frequency_year\"):\n",
    "    \"\"\"Compare a numeric col value across two years\n",
    "    eg `calculate_difference(\"mind\", \"frequency_year\")`\n",
    "    \"\"\"\n",
    "    concept = concept.replace(\"'\", \"\\\\'\")\n",
    "    return second_year.query(f\"concept == '{concept}'\")[column].values[0] - first_year.query(f\"concept == '{concept}'\")[column].values[0]\n",
    "\n",
    "common_concepts['freq_growth'] = common_concepts.apply(lambda x: calculate_difference(x['concept'], \"frequency_year\"), axis=1)\n",
    "common_concepts['score_growth'] = common_concepts.apply(lambda x: calculate_difference(x['concept'], \"score_avg_year\"), axis=1)\n",
    "\n",
    "common_concepts.sort_values(\"freq_growth\", ascending=False).head()\n"
   ]
  },
  {
   "cell_type": "markdown",
   "metadata": {
    "Collapsed": "false",
    "id": "iLTfuS0y8I1g"
   },
   "source": [
    "We can build a simple scatter plot using the `freq_growth` and `score_growth` values just calculated.\n",
    "\n",
    "* by using the `MIN_SCORE` parameter we can filter out concepts with an overall `score_avg` which is too low (note: this value is the average from all years, see section 1 above)\n",
    "* by mapping `score_avg` to the dots color, we can quickly visually identify concepts with a high score in the graph"
   ]
  },
  {
   "cell_type": "code",
   "execution_count": 8,
   "metadata": {
    "Collapsed": "false",
    "colab": {
     "base_uri": "https://localhost:8080/",
     "height": 617
    },
    "id": "BNqfikFC8I1g",
    "outputId": "5b5e6662-9fb2-483d-ac45-92b385138147"
   },
   "outputs": [
    {
     "data": {
      "application/vnd.plotly.v1+json": {
       "config": {
        "plotlyServerURL": "https://plot.ly"
       },
       "data": [
        {
         "customdata": [
          [
           "firms",
           52,
           0.39963
          ],
          [
           "democracy",
           40,
           0.4138
          ],
          [
           "ontology",
           20,
           0.2797
          ],
          [
           "objects",
           74,
           0.27441
          ],
          [
           "tool",
           63,
           0.20624
          ],
          [
           "knowledge",
           190,
           0.27647
          ],
          [
           "definition",
           93,
           0.21124
          ],
          [
           "text",
           121,
           0.39309
          ],
          [
           "topic",
           75,
           0.32944
          ],
          [
           "elements",
           71,
           0.22579
          ],
          [
           "authorities",
           73,
           0.39468
          ],
          [
           "questions",
           325,
           0.33662
          ],
          [
           "process",
           259,
           0.22924
          ],
          [
           "procedure",
           45,
           0.20549
          ],
          [
           "community",
           194,
           0.36021
          ],
          [
           "purpose",
           107,
           0.23876
          ],
          [
           "alternative",
           43,
           0.21542
          ],
          [
           "area",
           77,
           0.20512
          ],
          [
           "reasons",
           169,
           0.32465
          ],
          [
           "relationship",
           214,
           0.29134
          ],
          [
           "theory",
           494,
           0.31919
          ],
          [
           "place",
           115,
           0.33058
          ],
          [
           "understanding",
           234,
           0.3044
          ],
          [
           "law",
           184,
           0.39266
          ],
          [
           "individuals",
           112,
           0.31133
          ],
          [
           "role",
           304,
           0.25963
          ],
          [
           "inquiry",
           53,
           0.36842
          ],
          [
           "changes",
           128,
           0.20856
          ],
          [
           "activity",
           94,
           0.21343
          ],
          [
           "doctrine",
           64,
           0.42955
          ],
          [
           "theorists",
           54,
           0.41598
          ],
          [
           "justification",
           69,
           0.40633
          ],
          [
           "argument",
           201,
           0.33677
          ],
          [
           "acts",
           71,
           0.3357
          ],
          [
           "sense",
           149,
           0.3401
          ],
          [
           "foundation",
           89,
           0.35778
          ],
          [
           "harm",
           37,
           0.3757
          ],
          [
           "war",
           50,
           0.33236
          ],
          [
           "action",
           128,
           0.3023
          ],
          [
           "article",
           455,
           0.33588
          ],
          [
           "jurisdictions",
           11,
           0.41564
          ],
          [
           "matter",
           69,
           0.31639
          ],
          [
           "countries",
           73,
           0.34092
          ],
          [
           "part",
           204,
           0.27809
          ],
          [
           "state",
           219,
           0.28284
          ],
          [
           "form",
           233,
           0.27159
          ],
          [
           "side",
           33,
           0.25482
          ],
          [
           "killing",
           4,
           0.353
          ],
          [
           "efforts",
           97,
           0.28102
          ],
          [
           "force",
           59,
           0.25785
          ],
          [
           "status",
           71,
           0.23396
          ],
          [
           "aggression",
           11,
           0.40327
          ],
          [
           "services",
           54,
           0.27804
          ],
          [
           "benefits",
           71,
           0.25018
          ],
          [
           "scientific explanation",
           6,
           0.37233
          ],
          [
           "science",
           302,
           0.34141
          ],
          [
           "subjectivity",
           26,
           0.40969
          ],
          [
           "nature",
           229,
           0.31935
          ],
          [
           "Kant",
           44,
           0.42925
          ],
          [
           "Heidegger",
           9,
           0.41933
          ],
          [
           "philosophy",
           220,
           0.44442
          ],
          [
           "reflection",
           108,
           0.34306
          ],
          [
           "world",
           234,
           0.31209
          ],
          [
           "ground",
           74,
           0.3578
          ],
          [
           "explanation",
           111,
           0.29115
          ],
          [
           "scope",
           42,
           0.30698
          ],
          [
           "possibility",
           99,
           0.2563
          ],
          [
           "limit",
           45,
           0.24551
          ],
          [
           "origin",
           87,
           0.26708
          ],
          [
           "discovery",
           37,
           0.22011
          ],
          [
           "physics",
           42,
           0.35383
          ],
          [
           "phenomenon",
           85,
           0.26188
          ],
          [
           "principles",
           182,
           0.30543
          ],
          [
           "idea",
           201,
           0.37344
          ],
          [
           "fact",
           138,
           0.30637
          ],
          [
           "answers",
           48,
           0.27021
          ],
          [
           "paradox",
           23,
           0.21839
          ],
          [
           "end",
           108,
           0.2608
          ],
          [
           "distinction",
           72,
           0.35133
          ],
          [
           "claims",
           154,
           0.37186
          ],
          [
           "suffering",
           28,
           0.33068
          ],
          [
           "interpretation",
           159,
           0.32007
          ],
          [
           "scientists",
           66,
           0.29077
          ],
          [
           "neglect",
           6,
           0.32283
          ],
          [
           "problem",
           274,
           0.23199
          ],
          [
           "example",
           164,
           0.23127
          ],
          [
           "differences",
           130,
           0.21012
          ],
          [
           "pain",
           13,
           0.22115
          ],
          [
           "notion",
           146,
           0.34868
          ],
          [
           "discourse",
           83,
           0.39988
          ],
          [
           "implications",
           136,
           0.30742
          ],
          [
           "discussion",
           170,
           0.37405
          ],
          [
           "relation",
           221,
           0.33181
          ],
          [
           "support",
           60,
           0.25817
          ],
          [
           "terms",
           219,
           0.22613
          ],
          [
           "formulation",
           29,
           0.20407
          ],
          [
           "use",
           177,
           0.20973
          ],
          [
           "theorem",
           33,
           0.29182
          ],
          [
           "transition",
           26,
           0.20354
          ],
          [
           "development",
           311,
           0.24444
          ],
          [
           "goal",
           88,
           0.25493
          ],
          [
           "practice",
           347,
           0.34227
          ],
          [
           "publications",
           35,
           0.28757
          ],
          [
           "participants",
           68,
           0.28459
          ],
          [
           "authors",
           123,
           0.28042
          ],
          [
           "participation",
           51,
           0.30531
          ],
          [
           "body",
           86,
           0.27283
          ],
          [
           "fashion",
           12,
           0.22692
          ],
          [
           "period",
           87,
           0.26403
          ],
          [
           "majority",
           35,
           0.20683
          ],
          [
           "mechanism",
           56,
           0.20354
          ],
          [
           "gap",
           35,
           0.24257
          ],
          [
           "point",
           130,
           0.25069
          ],
          [
           "first step",
           8,
           0.24038
          ],
          [
           "journals",
           36,
           0.23681
          ],
          [
           "collection",
           31,
           0.27197
          ],
          [
           "commentators",
           14,
           0.24464
          ],
          [
           "name",
           28,
           0.29439
          ],
          [
           "basis",
           109,
           0.25035
          ],
          [
           "rights",
           134,
           0.43961
          ],
          [
           "pages",
           39,
           0.20105
          ],
          [
           "objections",
           50,
           0.31722
          ],
          [
           "marginality",
           3,
           0.29333
          ],
          [
           "government",
           36,
           0.38128
          ],
          [
           "conception",
           106,
           0.40332
          ],
          [
           "society",
           178,
           0.36454
          ],
          [
           "border",
           17,
           0.25094
          ],
          [
           "civilization",
           21,
           0.29838
          ],
          [
           "thesis",
           49,
           0.33735
          ],
          [
           "concern",
           135,
           0.33931
          ],
          [
           "view",
           286,
           0.32105
          ],
          [
           "study",
           441,
           0.20674
          ],
          [
           "ethical challenges",
           37,
           0.61451
          ],
          [
           "community engagement",
           8,
           0.499
          ],
          [
           "qualitative interviews",
           3,
           0.52433
          ],
          [
           "interviews",
           47,
           0.32568
          ],
          [
           "challenges",
           189,
           0.31131
          ],
          [
           "imperative",
           15,
           0.3646
          ],
          [
           "policymakers",
           6,
           0.37183
          ],
          [
           "responsibility",
           83,
           0.44112
          ],
          [
           "engagement",
           54,
           0.36567
          ],
          [
           "implementation",
           31,
           0.22606
          ],
          [
           "research",
           298,
           0.29433
          ],
          [
           "workers",
           22,
           0.31418
          ],
          [
           "Africa",
           28,
           0.37846
          ],
          [
           "interest",
           168,
           0.30474
          ],
          [
           "Europe",
           27,
           0.4247
          ],
          [
           "perspective",
           199,
           0.34424
          ],
          [
           "America",
           42,
           0.3675
          ],
          [
           "project",
           89,
           0.32315
          ],
          [
           "resources",
           84,
           0.28139
          ],
          [
           "healthcare workers",
           2,
           0.396
          ],
          [
           "way",
           408,
           0.31075
          ],
          [
           "power",
           102,
           0.29196
          ],
          [
           "consensus",
           40,
           0.27875
          ],
          [
           "difficulties",
           71,
           0.25238
          ],
          [
           "technology",
           104,
           0.2108
          ],
          [
           "position",
           102,
           0.28375
          ],
          [
           "care",
           131,
           0.33477
          ],
          [
           "one",
           104,
           0.22499
          ],
          [
           "analysis",
           277,
           0.21077
          ],
          [
           "prevention",
           12,
           0.27825
          ],
          [
           "values",
           181,
           0.22716
          ],
          [
           "eighteenth century",
           12,
           0.49133
          ],
          [
           "century",
           170,
           0.39829
          ],
          [
           "encounters",
           32,
           0.38
          ],
          [
           "University",
           121,
           0.23478
          ],
          [
           "nineteenth century",
           26,
           0.56604
          ],
          [
           "sixteenth century",
           4,
           0.63775
          ],
          [
           "history",
           322,
           0.37468
          ],
          [
           "middle",
           11,
           0.28264
          ],
          [
           "language",
           102,
           0.39085
          ],
          [
           "scholars",
           101,
           0.38603
          ],
          [
           "conversation",
           44,
           0.38795
          ],
          [
           "Asia",
           18,
           0.40167
          ],
          [
           "issues",
           297,
           0.35945
          ],
          [
           "appeal",
           34,
           0.38921
          ],
          [
           "present",
           18,
           0.2735
          ],
          [
           "dozens",
           3,
           0.346
          ],
          [
           "road",
           9,
           0.22867
          ],
          [
           "space",
           76,
           0.26167
          ],
          [
           "approach",
           304,
           0.25765
          ],
          [
           "spirituality",
           30,
           0.34597
          ],
          [
           "poems",
           15,
           0.35367
          ],
          [
           "friends",
           17,
           0.247
          ],
          [
           "memory",
           35,
           0.30114
          ],
          [
           "women",
           63,
           0.28213
          ],
          [
           "human beings",
           25,
           0.63176
          ],
          [
           "common sense",
           6,
           0.58383
          ],
          [
           "spirit",
           44,
           0.31166
          ],
          [
           "self",
           54,
           0.3755
          ],
          [
           "identity",
           101,
           0.35319
          ],
          [
           "people",
           185,
           0.35273
          ],
          [
           "God",
           95,
           0.31717
          ],
          [
           "faith",
           55,
           0.37482
          ],
          [
           "wholeness",
           4,
           0.31975
          ],
          [
           "rituals",
           23,
           0.32939
          ],
          [
           "being",
           55,
           0.38971
          ],
          [
           "creators",
           8,
           0.36525
          ],
          [
           "meaning",
           110,
           0.31222
          ],
          [
           "things",
           93,
           0.30781
          ],
          [
           "collectivity",
           5,
           0.3328
          ],
          [
           "experience",
           205,
           0.34052
          ],
          [
           "leaders",
           28,
           0.34568
          ],
          [
           "dimensions",
           98,
           0.28764
          ],
          [
           "music",
           21,
           0.34471
          ],
          [
           "context",
           314,
           0.34095
          ],
          [
           "schools",
           69,
           0.3791
          ],
          [
           "moment",
           31,
           0.31152
          ],
          [
           "instances",
           58,
           0.27183
          ],
          [
           "different types",
           11,
           0.25718
          ],
          [
           "images",
           36,
           0.26553
          ],
          [
           "group",
           140,
           0.21093
          ],
          [
           "time",
           231,
           0.20418
          ],
          [
           "quality",
           62,
           0.2171
          ],
          [
           "politics",
           84,
           0.36354
          ],
          [
           "struggle",
           25,
           0.35864
          ],
          [
           "Marxism",
           9,
           0.34156
          ],
          [
           "chapter",
           183,
           0.29865
          ],
          [
           "debate",
           139,
           0.37776
          ],
          [
           "resurgence",
           6,
           0.3185
          ],
          [
           "home",
           18,
           0.30217
          ],
          [
           "life",
           278,
           0.30263
          ],
          [
           "colonization",
           6,
           0.35783
          ],
          [
           "dialogue",
           59,
           0.43481
          ],
          [
           "narratives",
           66,
           0.386
          ],
          [
           "story",
           59,
           0.32095
          ],
          [
           "central role",
           11,
           0.31464
          ],
          [
           "introduction",
           88,
           0.24048
          ],
          [
           "art",
           52,
           0.31556
          ],
          [
           "ethical issues",
           68,
           0.64779
          ],
          [
           "duty",
           55,
           0.43018
          ],
          [
           "obligations",
           55,
           0.42369
          ],
          [
           "ethics",
           239,
           0.48234
          ],
          [
           "reconciliation",
           8,
           0.42662
          ],
          [
           "commitment",
           89,
           0.40087
          ],
          [
           "profession",
           22,
           0.39323
          ],
          [
           "medicine",
           89,
           0.29571
          ],
          [
           "public",
           35,
           0.39097
          ],
          [
           "tension",
           67,
           0.36839
          ],
          [
           "necessity",
           32,
           0.27359
          ],
          [
           "professionals",
           26,
           0.37358
          ],
          [
           "practitioners",
           49,
           0.34494
          ],
          [
           "trainees",
           12,
           0.25758
          ],
          [
           "physicians",
           45,
           0.33778
          ],
          [
           "need",
           135,
           0.29399
          ],
          [
           "opportunities",
           58,
           0.25414
          ],
          [
           "order",
           209,
           0.21746
          ],
          [
           "training",
           39,
           0.31477
          ],
          [
           "demand",
           39,
           0.2969
          ],
          [
           "center",
           37,
           0.2227
          ],
          [
           "intervention",
           44,
           0.25791
          ],
          [
           "measures",
           47,
           0.21153
          ],
          [
           "climate change",
           12,
           0.28308
          ],
          [
           "infrastructure",
           15,
           0.23907
          ],
          [
           "initiatives",
           27,
           0.30822
          ],
          [
           "ideal",
           44,
           0.38816
          ],
          [
           "moves",
           21,
           0.25881
          ],
          [
           "intersection",
           16,
           0.35412
          ],
          [
           "future",
           56,
           0.27696
          ],
          [
           "enthusiasm",
           9,
           0.25067
          ],
          [
           "movement",
           71,
           0.29842
          ],
          [
           "limitations",
           41,
           0.22471
          ],
          [
           "biases",
           10,
           0.2851
          ],
          [
           "historical narrative",
           6,
           0.39267
          ],
          [
           "hermeneutics",
           15,
           0.32007
          ],
          [
           "voice",
           29,
           0.39462
          ],
          [
           "ongoing debate",
           5,
           0.3544
          ],
          [
           "epistemology",
           46,
           0.40422
          ],
          [
           "methodological challenges",
           6,
           0.3995
          ],
          [
           "Foucault",
           11,
           0.42482
          ],
          [
           "humanity",
           30,
           0.4301
          ],
          [
           "case study",
           53,
           0.35442
          ],
          [
           "work",
           363,
           0.28463
          ],
          [
           "agencies",
           53,
           0.33332
          ],
          [
           "education",
           134,
           0.41122
          ],
          [
           "attention",
           162,
           0.31144
          ],
          [
           "medical education",
           7,
           0.49129
          ],
          [
           "light",
           127,
           0.26577
          ],
          [
           "influence",
           88,
           0.22551
          ],
          [
           "insights",
           80,
           0.26402
          ],
          [
           "barriers",
           24,
           0.21521
          ],
          [
           "healthcare",
           19,
           0.31868
          ],
          [
           "clinical practice",
           11,
           0.38264
          ],
          [
           "recovery",
           15,
           0.23007
          ],
          [
           "patients",
           133,
           0.27583
          ],
          [
           "desire",
           39,
           0.33644
          ],
          [
           "Christians",
           30,
           0.43193
          ],
          [
           "Vatican II",
           7,
           0.32829
          ],
          [
           "writing",
           90,
           0.41161
          ],
          [
           "book",
           154,
           0.27558
          ],
          [
           "teaching",
           56,
           0.3847
          ],
          [
           "Council",
           17,
           0.33059
          ],
          [
           "theologians",
           28,
           0.44082
          ],
          [
           "Scripture",
           19,
           0.38205
          ],
          [
           "Church",
           76,
           0.3938
          ],
          [
           "reception",
           16,
           0.32175
          ],
          [
           "themes",
           67,
           0.37801
          ],
          [
           "regard",
           28,
           0.27496
          ],
          [
           "religion",
           216,
           0.4165
          ],
          [
           "theology",
           122,
           0.36446
          ],
          [
           "Lonergan",
           16,
           0.2425
          ],
          [
           "thought",
           136,
           0.37078
          ],
          [
           "grace",
           10,
           0.3352
          ],
          [
           "essay",
           165,
           0.36647
          ],
          [
           "realm",
           21,
           0.39948
          ],
          [
           "danger",
           15,
           0.33173
          ],
          [
           "whole",
           33,
           0.34309
          ],
          [
           "emphasis",
           45,
           0.32662
          ],
          [
           "liberalism",
           27,
           0.51374
          ],
          [
           "truth",
           88,
           0.35801
          ],
          [
           "kind",
           107,
           0.27045
          ],
          [
           "existence",
           83,
           0.24294
          ],
          [
           "lessons",
           35,
           0.31986
          ],
          [
           "strategies",
           113,
           0.25596
          ],
          [
           "ability",
           50,
           0.23294
          ],
          [
           "tradition",
           160,
           0.42068
          ],
          [
           "appropriation",
           10,
           0.4344
          ],
          [
           "verses",
           10,
           0.3161
          ],
          [
           "concept",
           229,
           0.32879
          ],
          [
           "audience",
           25,
           0.38444
          ],
          [
           "account",
           237,
           0.32941
          ],
          [
           "aspects",
           139,
           0.31561
          ],
          [
           "parallel",
           21,
           0.20924
          ],
          [
           "examination",
           40,
           0.22235
          ],
          [
           "objective",
           37,
           0.223
          ],
          [
           "survey",
           36,
           0.22586
          ],
          [
           "ED",
           23,
           0.2117
          ],
          [
           "trajectories",
           18,
           0.26933
          ],
          [
           "violence",
           29,
           0.40197
          ],
          [
           "conceptualization",
           19,
           0.30668
          ],
          [
           "lens",
           28,
           0.35414
          ],
          [
           "importance",
           102,
           0.28854
          ],
          [
           "reading",
           73,
           0.32518
          ],
          [
           "path",
           31,
           0.21181
          ],
          [
           "nations",
           34,
           0.35247
          ],
          [
           "territory",
           11,
           0.32836
          ],
          [
           "independence",
           22,
           0.30868
          ],
          [
           "title",
           9,
           0.377
          ],
          [
           "relevance",
           46,
           0.30402
          ],
          [
           "moral law",
           5,
           0.728
          ],
          [
           "consciousness",
           41,
           0.42261
          ],
          [
           "beliefs",
           103,
           0.38081
          ],
          [
           "freedom",
           49,
           0.34614
          ],
          [
           "feelings",
           31,
           0.36768
          ],
          [
           "passage",
           19,
           0.26979
          ],
          [
           "approval",
           17,
           0.34247
          ],
          [
           "aim",
           54,
           0.22822
          ],
          [
           "traces",
           8,
           0.28763
          ],
          [
           "Aristotle",
           23,
           0.3243
          ],
          [
           "categories",
           60,
           0.27178
          ],
          [
           "division",
           24,
           0.30967
          ],
          [
           "legacy",
           24,
           0.30362
          ],
          [
           "contribution",
           101,
           0.27753
          ],
          [
           "character",
           66,
           0.29797
          ],
          [
           "members",
           79,
           0.30197
          ],
          [
           "students",
           72,
           0.33862
          ],
          [
           "family",
           66,
           0.23086
          ],
          [
           "organ transplantation",
           2,
           0.625
          ],
          [
           "content analysis",
           10,
           0.4845
          ],
          [
           "literature",
           153,
           0.31292
          ],
          [
           "transplantation",
           9,
           0.35433
          ],
          [
           "connection",
           76,
           0.30479
          ],
          [
           "focus",
           96,
           0.31842
          ],
          [
           "overlap",
           9,
           0.23456
          ],
          [
           "attitudes",
           56,
           0.33466
          ],
          [
           "Kingdom",
           16,
           0.44069
          ],
          [
           "events",
           55,
           0.24085
          ],
          [
           "set",
           123,
           0.20719
          ],
          [
           "main results",
           6,
           0.22967
          ],
          [
           "proof",
           52,
           0.22881
          ],
          [
           "transformation",
           50,
           0.2633
          ],
          [
           "paper I",
           32,
           0.42672
          ],
          [
           "philosophers",
           93,
           0.43419
          ],
          [
           "intuition",
           25,
           0.31592
          ],
          [
           "proposal",
           44,
           0.26366
          ],
          [
           "link",
           25,
           0.30852
          ],
          [
           "Bernard Lonergan",
           9,
           0.35722
          ],
          [
           "preferential option",
           2,
           0.258
          ],
          [
           "occasions",
           10,
           0.3164
          ],
          [
           "roots",
           37,
           0.26595
          ],
          [
           "twentieth century",
           43,
           0.51047
          ],
          [
           "circumstances",
           43,
           0.28088
          ],
          [
           "mode",
           46,
           0.20746
          ],
          [
           "interaction",
           67,
           0.21431
          ],
          [
           "perception",
           65,
           0.31543
          ],
          [
           "proponents",
           17,
           0.36182
          ],
          [
           "Mary",
           5,
           0.3328
          ],
          [
           "incarnation",
           8,
           0.2435
          ],
          [
           "anthology",
           5,
           0.3104
          ],
          [
           "LE",
           11,
           0.26255
          ],
          [
           "study of religion",
           13,
           0.71223
          ],
          [
           "disciplines",
           95,
           0.2782
          ],
          [
           "cult",
           9,
           0.26822
          ],
          [
           "speech",
           16,
           0.42931
          ],
          [
           "empiricism",
           6,
           0.5495
          ],
          [
           "health",
           90,
           0.30239
          ],
          [
           "liberty",
           19,
           0.395
          ],
          [
           "thinkers",
           37,
           0.44505
          ],
          [
           "justice",
           90,
           0.42104
          ],
          [
           "culture",
           120,
           0.37536
          ],
          [
           "market",
           28,
           0.30604
          ],
          [
           "features",
           99,
           0.20038
          ],
          [
           "religious institutions",
           4,
           0.624
          ],
          [
           "exile",
           5,
           0.4332
          ],
          [
           "Catholics",
           11,
           0.42364
          ],
          [
           "conflict",
           83,
           0.3672
          ],
          [
           "reform",
           31,
           0.39139
          ],
          [
           "reformation",
           13,
           0.37877
          ],
          [
           "refugees",
           6,
           0.50367
          ],
          [
           "institutions",
           92,
           0.38623
          ],
          [
           "emotions",
           46,
           0.40213
          ],
          [
           "boundaries",
           35,
           0.23383
          ],
          [
           "diversity",
           63,
           0.31532
          ],
          [
           "dynamics",
           49,
           0.229
          ],
          [
           "framework",
           170,
           0.31006
          ],
          [
           "direction",
           49,
           0.20449
          ],
          [
           "early twentieth century",
           10,
           0.6141
          ],
          [
           "social relations",
           7,
           0.47729
          ],
          [
           "activism",
           8,
           0.47988
          ],
          [
           "era",
           26,
           0.33808
          ],
          [
           "crisis",
           51,
           0.31637
          ],
          [
           "membership",
           17,
           0.32888
          ],
          [
           "organization",
           96,
           0.33781
          ],
          [
           "creation",
           49,
           0.30765
          ],
          [
           "vision",
           46,
           0.26887
          ],
          [
           "rules",
           77,
           0.31366
          ],
          [
           "program",
           77,
           0.24635
          ],
          [
           "subjects",
           91,
           0.28051
          ],
          [
           "world today",
           4,
           0.3695
          ],
          [
           "today",
           61,
           0.37377
          ],
          [
           "Islam",
           45,
           0.47242
          ],
          [
           "intellectuals",
           8,
           0.48762
          ],
          [
           "embrace",
           6,
           0.36933
          ],
          [
           "revolution",
           29,
           0.307
          ],
          [
           "mind",
           84,
           0.37895
          ],
          [
           "citizenship",
           31,
           0.46939
          ],
          [
           "sort",
           36,
           0.30617
          ],
          [
           "significance",
           82,
           0.26771
          ],
          [
           "adoption",
           18,
           0.30978
          ],
          [
           "turn",
           53,
           0.30887
          ],
          [
           "spring",
           5,
           0.2002
          ],
          [
           "words",
           60,
           0.30607
          ],
          [
           "certain kinds",
           8,
           0.31888
          ],
          [
           "threat",
           23,
           0.29957
          ],
          [
           "factors",
           82,
           0.20426
          ],
          [
           "disability",
           18,
           0.29561
          ],
          [
           "judgments",
           69,
           0.37865
          ],
          [
           "worry",
           8,
           0.3215
          ],
          [
           "decades",
           58,
           0.31117
          ],
          [
           "evidence",
           141,
           0.22827
          ],
          [
           "findings",
           81,
           0.27391
          ],
          [
           "lack",
           44,
           0.21318
          ],
          [
           "licensing",
           3,
           0.29833
          ],
          [
           "behavior",
           101,
           0.20627
          ],
          [
           "article I",
           11,
           0.29655
          ],
          [
           "reality",
           74,
           0.32323
          ],
          [
           "journey",
           16,
           0.30506
          ],
          [
           "harmony",
           13,
           0.39308
          ],
          [
           "peace",
           15,
           0.30773
          ],
          [
           "aspiration",
           14,
           0.33171
          ],
          [
           "face",
           39,
           0.28926
          ],
          [
           "paradigm",
           43,
           0.26558
          ],
          [
           "universe",
           22,
           0.3175
          ],
          [
           "vulnerability",
           14,
           0.31364
          ],
          [
           "death",
           54,
           0.2287
          ],
          [
           "aid",
           10,
           0.2694
          ],
          [
           "consequences",
           87,
           0.28299
          ],
          [
           "reasoning",
           56,
           0.36696
          ],
          [
           "affairs",
           25,
           0.29796
          ],
          [
           "instrument",
           22,
           0.25005
          ],
          [
           "achievement",
           22,
           0.30573
          ],
          [
           "extent",
           60,
           0.26177
          ],
          [
           "psychological experience",
           3,
           0.50467
          ],
          [
           "evolution",
           86,
           0.2863
          ],
          [
           "selection",
           49,
           0.29739
          ],
          [
           "note",
           31,
           0.22561
          ],
          [
           "best interests",
           10,
           0.4806
          ],
          [
           "defense",
           37,
           0.24968
          ],
          [
           "paternalism",
           8,
           0.28062
          ],
          [
           "practical rationality",
           3,
           0.21833
          ],
          [
           "rationality",
           38,
           0.39542
          ],
          [
           "coherence",
           12,
           0.26117
          ],
          [
           "wisdom",
           27,
           0.27244
          ],
          [
           "political power",
           2,
           0.6685
          ],
          [
           "corruption",
           14,
           0.46814
          ],
          [
           "Nepal",
           2,
           0.329
          ],
          [
           "construction",
           57,
           0.26716
          ],
          [
           "conclusion",
           71,
           0.22845
          ],
          [
           "sites",
           39,
           0.22482
          ],
          [
           "meditation",
           11,
           0.36564
          ],
          [
           "textbooks",
           14,
           0.36479
          ],
          [
           "poetry",
           12,
           0.3505
          ],
          [
           "generation",
           36,
           0.21197
          ],
          [
           "Catholic Church",
           14,
           0.52214
          ],
          [
           "Pope Francis",
           6,
           0.39083
          ],
          [
           "reformers",
           9,
           0.37656
          ],
          [
           "aesthetics",
           15,
           0.39333
          ],
          [
           "mobilization",
           3,
           0.25467
          ],
          [
           "impulses",
           9,
           0.34989
          ],
          [
           "heart",
           31,
           0.20865
          ],
          [
           "field",
           129,
           0.24505
          ],
          [
           "anthropology",
           19,
           0.43658
          ],
          [
           "scholarship",
           60,
           0.3962
          ],
          [
           "edition",
           20,
           0.3284
          ],
          [
           "anniversary",
           3,
           0.34533
          ],
          [
           "ties",
           9,
           0.30933
          ],
          [
           "last decade",
           4,
           0.41375
          ],
          [
           "recent years",
           23,
           0.32252
          ],
          [
           "variety",
           72,
           0.22447
          ],
          [
           "association",
           52,
           0.2019
          ],
          [
           "writers",
           19,
           0.413
          ],
          [
           "coordination",
           6,
           0.20883
          ],
          [
           "Christianity",
           63,
           0.40513
          ],
          [
           "temptation",
           9,
           0.509
          ],
          [
           "assertion",
           11,
           0.45009
          ],
          [
           "documents",
           29,
           0.35448
          ],
          [
           "impact",
           76,
           0.24522
          ],
          [
           "handful",
           4,
           0.379
          ],
          [
           "Canada",
           121,
           0.28707
          ],
          [
           "mission",
           32,
           0.37669
          ],
          [
           "praxis",
           12,
           0.55625
          ],
          [
           "pedagogy",
           22,
           0.36564
          ],
          [
           "calls",
           32,
           0.31962
          ],
          [
           "love",
           38,
           0.23905
          ],
          [
           "neighbours",
           4,
           0.38475
          ],
          [
           "meeting",
           25,
           0.24848
          ],
          [
           "Christ",
           27,
           0.32907
          ],
          [
           "historians",
           34,
           0.41424
          ],
          [
           "telling",
           9,
           0.38811
          ],
          [
           "advances",
           31,
           0.20329
          ],
          [
           "social values",
           11,
           0.47655
          ],
          [
           "managers",
           12,
           0.33008
          ],
          [
           "corporations",
           29,
           0.37666
          ],
          [
           "hierarchy",
           21,
           0.27181
          ],
          [
           "Young",
           3,
           0.40133
          ],
          [
           "guide",
           23,
           0.2453
          ],
          [
           "public life",
           7,
           0.42686
          ],
          [
           "moral competencies",
           2,
           0.777
          ],
          [
           "research participants",
           10,
           0.4488
          ],
          [
           "competencies",
           14,
           0.31443
          ],
          [
           "protection",
           26,
           0.34088
          ],
          [
           "vocation",
           4,
           0.27325
          ],
          [
           "witness",
           21,
           0.3511
          ],
          [
           "revelation",
           20,
           0.4028
          ],
          [
           "new perspective",
           8,
           0.39925
          ],
          [
           "discipleship",
           3,
           0.354
          ],
          [
           "deeds",
           7,
           0.34771
          ],
          [
           "Lord",
           8,
           0.31162
          ],
          [
           "Rahner",
           3,
           0.327
          ],
          [
           "population",
           69,
           0.26619
          ],
          [
           "guidance",
           32,
           0.27775
          ],
          [
           "realist",
           10,
           0.3525
          ],
          [
           "critique",
           87,
           0.39886
          ],
          [
           "misconceptions",
           7,
           0.39571
          ],
          [
           "eyes",
           15,
           0.22973
          ],
          [
           "sovereignty",
           18,
           0.34083
          ],
          [
           "citizens",
           29,
           0.42817
          ],
          [
           "actors",
           20,
           0.3661
          ],
          [
           "contingencies",
           10,
           0.2749
          ],
          [
           "pieces",
           14,
           0.33143
          ],
          [
           "choice",
           67,
           0.25713
          ],
          [
           "intent",
           10,
           0.3196
          ],
          [
           "region",
           31,
           0.24358
          ],
          [
           "parties",
           28,
           0.33129
          ],
          [
           "humans",
           46,
           0.23517
          ],
          [
           "ethical questions",
           10,
           0.4678
          ],
          [
           "permissibility",
           5,
           0.4198
          ],
          [
           "decisions",
           98,
           0.31513
          ],
          [
           "policy",
           89,
           0.37401
          ],
          [
           "health care institutions",
           3,
           0.595
          ],
          [
           "premise",
           22,
           0.22968
          ],
          [
           "controversy",
           34,
           0.31965
          ],
          [
           "exercise",
           29,
           0.30238
          ],
          [
           "religiosity",
           10,
           0.3001
          ],
          [
           "activists",
           13,
           0.46377
          ],
          [
           "logic",
           91,
           0.25886
          ],
          [
           "setting",
           58,
           0.24672
          ],
          [
           "endeavor",
           20,
           0.3646
          ],
          [
           "outline",
           9,
           0.32889
          ],
          [
           "donation",
           11,
           0.311
          ],
          [
           "environment",
           79,
           0.22618
          ],
          [
           "network",
           34,
           0.20056
          ],
          [
           "Wittgenstein",
           16,
           0.40981
          ],
          [
           "own way",
           4,
           0.389
          ],
          [
           "brain",
           19,
           0.28353
          ],
          [
           "informed consent",
           23,
           0.55752
          ],
          [
           "respect",
           88,
           0.25082
          ],
          [
           "consent",
           48,
           0.4184
          ],
          [
           "consideration",
           101,
           0.29756
          ],
          [
           "trials",
           41,
           0.25134
          ],
          [
           "conduct",
           37,
           0.42897
          ],
          [
           "clinical trials",
           15,
           0.25227
          ],
          [
           "discomfort",
           4,
           0.2975
          ],
          [
           "success",
           35,
           0.2296
          ],
          [
           "attempt",
           72,
           0.35475
          ],
          [
           "buildings",
           16,
           0.27662
          ],
          [
           "ethical analysis",
           11,
           0.58936
          ],
          [
           "palliative sedation",
           2,
           0.663
          ],
          [
           "palliative care",
           6,
           0.47217
          ],
          [
           "euthanasia",
           8,
           0.38038
          ],
          [
           "intention",
           24,
           0.26837
          ],
          [
           "suicide",
           5,
           0.4224
          ],
          [
           "withdrawal",
           8,
           0.29725
          ],
          [
           "sedation",
           8,
           0.406
          ],
          [
           "pediatric patients",
           5,
           0.208
          ],
          [
           "sphere",
           27,
           0.34837
          ],
          [
           "metaphor",
           23,
           0.30578
          ],
          [
           "background",
           34,
           0.30138
          ],
          [
           "medical act",
           2,
           0.561
          ],
          [
           "key questions",
           7,
           0.39443
          ],
          [
           "pursuit",
           20,
           0.3084
          ],
          [
           "sections",
           56,
           0.21857
          ],
          [
           "legitimacy",
           25,
           0.4422
          ],
          [
           "India",
           22,
           0.34395
          ],
          [
           "decline",
           11,
           0.28345
          ],
          [
           "ethics of immigration",
           3,
           0.75967
          ],
          [
           "political philosophy",
           16,
           0.606
          ],
          [
           "great deal",
           7,
           0.45857
          ],
          [
           "immigration",
           14,
           0.34043
          ],
          [
           "deal",
           13,
           0.36292
          ],
          [
           "sequence",
           13,
           0.22369
          ],
          [
           "preferences",
           24,
           0.27258
          ],
          [
           "risk",
           62,
           0.24352
          ],
          [
           "fail",
           2,
           0.219
          ],
          [
           "game",
           10,
           0.235
          ],
          [
           "version",
           71,
           0.25246
          ],
          [
           "broader context",
           8,
           0.54875
          ],
          [
           "liberation",
           14,
           0.22243
          ],
          [
           "Web",
           13,
           0.22638
          ],
          [
           "rhetoric",
           24,
           0.37475
          ],
          [
           "contradictions",
           14,
           0.34979
          ],
          [
           "perceivers",
           5,
           0.3464
          ],
          [
           "seeing",
           4,
           0.285
          ],
          [
           "commerce",
           4,
           0.25575
          ],
          [
           "thinking",
           54,
           0.3495
          ],
          [
           "girls",
           4,
           0.25375
          ],
          [
           "scientific discovery",
           4,
           0.2095
          ],
          [
           "creatures",
           9,
           0.37733
          ],
          [
           "sacrifice",
           5,
           0.2058
          ],
          [
           "axioms",
           16,
           0.244
          ],
          [
           "confrontation",
           4,
           0.403
          ],
          [
           "Plato",
           21,
           0.33452
          ],
          [
           "rejection",
           26,
           0.34608
          ],
          [
           "plan",
           25,
           0.21628
          ],
          [
           "disorders",
           20,
           0.22295
          ],
          [
           "hardback",
           7,
           0.22757
          ],
          [
           "piety",
           6,
           0.46567
          ],
          [
           "portrait",
           14,
           0.25779
          ],
          [
           "rulers",
           7,
           0.46886
          ],
          [
           "injustice",
           21,
           0.39962
          ],
          [
           "orthodoxy",
           11,
           0.29536
          ],
          [
           "Spiritual Exercises",
           3,
           0.58933
          ],
          [
           "discernment",
           4,
           0.3775
          ],
          [
           "heritage",
           12,
           0.40475
          ],
          [
           "cosmology",
           11,
           0.33436
          ],
          [
           "end of life",
           11,
           0.49345
          ],
          [
           "discussion groups",
           2,
           0.4795
          ],
          [
           "health care",
           22,
           0.39918
          ],
          [
           "nurses",
           16,
           0.36112
          ],
          [
           "arrest",
           5,
           0.2282
          ],
          [
           "team",
           25,
           0.26708
          ],
          [
           "uncertainty",
           31,
           0.20103
          ],
          [
           "creativity",
           9,
           0.34644
          ],
          [
           "biology",
           90,
           0.2757
          ],
          [
           "date",
           25,
           0.23016
          ],
          [
           "commentary",
           50,
           0.27928
          ],
          [
           "lacunae",
           7,
           0.34314
          ],
          [
           "picture",
           24,
           0.28208
          ],
          [
           "overview",
           36,
           0.28825
          ],
          [
           "learning",
           29,
           0.3521
          ],
          [
           "same time",
           41,
           0.35615
          ],
          [
           "opposition",
           25,
           0.39536
          ],
          [
           "belief systems",
           4,
           0.631
          ],
          [
           "guise",
           7,
           0.38829
          ],
          [
           "reporting",
           10,
           0.311
          ],
          [
           "outcomes",
           52,
           0.23944
          ],
          [
           "treatment",
           82,
           0.23117
          ],
          [
           "inclusion",
           21,
           0.30667
          ],
          [
           "integration",
           20,
           0.24785
          ],
          [
           "twenty-first century",
           11,
           0.51373
          ],
          [
           "constitutive norms",
           2,
           0.738
          ],
          [
           "norms",
           56,
           0.41641
          ],
          [
           "formalism",
           7,
           0.30071
          ],
          [
           "Synoptic Gospels",
           4,
           0.3405
          ],
          [
           "Gospel",
           40,
           0.29518
          ],
          [
           "orality",
           3,
           0.50033
          ],
          [
           "medium",
           33,
           0.30258
          ],
          [
           "key",
           11,
           0.244
          ],
          [
           "cognitive science",
           15,
           0.66273
          ],
          [
           "social impact",
           4,
           0.429
          ],
          [
           "emergence",
           53,
           0.31623
          ],
          [
           "research ethics",
           21,
           0.57538
          ],
          [
           "primary focus",
           5,
           0.5058
          ],
          [
           "Hall",
           8,
           0.25075
          ],
          [
           "open question",
           8,
           0.30112
          ],
          [
           "ethical principles",
           12,
           0.56292
          ],
          [
           "researchers",
           73,
           0.29885
          ],
          [
           "guidelines",
           38,
           0.32816
          ],
          [
           "funding",
           18,
           0.26178
          ],
          [
           "ambivalence",
           10,
           0.351
          ],
          [
           "innovation",
           24,
           0.23917
          ],
          [
           "companies",
           49,
           0.25739
          ],
          [
           "industry",
           41,
           0.2628
          ],
          [
           "biomedical research",
           13,
           0.27138
          ],
          [
           "threads",
           9,
           0.31189
          ],
          [
           "synopsis",
           2,
           0.289
          ],
          [
           "West",
           16,
           0.32531
          ],
          [
           "scripts",
           2,
           0.235
          ],
          [
           "deliberative democracy",
           4,
           0.6125
          ],
          [
           "deliberation",
           16,
           0.31294
          ],
          [
           "virtue",
           65,
           0.41382
          ],
          [
           "capacity",
           68,
           0.22518
          ],
          [
           "facilitation",
           8,
           0.29188
          ],
          [
           "metaphysics",
           34,
           0.40656
          ],
          [
           "south",
           8,
           0.27712
          ],
          [
           "questionnaire",
           7,
           0.24371
          ],
          [
           "establishment",
           14,
           0.30993
          ],
          [
           "methodology",
           32,
           0.26487
          ],
          [
           "assumption",
           60,
           0.25998
          ],
          [
           "literacy",
           10,
           0.4108
          ],
          [
           "translation",
           42,
           0.25074
          ],
          [
           "domain",
           53,
           0.22406
          ],
          [
           "cardinality",
           4,
           0.2725
          ],
          [
           "current article",
           2,
           0.291
          ],
          [
           "New Testament",
           13,
           0.26208
          ],
          [
           "such work",
           4,
           0.60475
          ],
          [
           "Testament",
           20,
           0.25385
          ],
          [
           "repository",
           4,
           0.28625
          ],
          [
           "China",
           17,
           0.277
          ],
          [
           "nuances",
           6,
           0.30567
          ],
          [
           "genre",
           19,
           0.43616
          ],
          [
           "arrangement",
           14,
           0.34407
          ],
          [
           "progress",
           43,
           0.21814
          ],
          [
           "disclosure",
           21,
           0.42267
          ],
          [
           "hand",
           58,
           0.2559
          ],
          [
           "patient's condition",
           2,
           0.3595
          ],
          [
           "later work",
           5,
           0.6722
          ],
          [
           "affect",
           7,
           0.36743
          ],
          [
           "secularism",
           9,
           0.358
          ],
          [
           "Prophet",
           15,
           0.316
          ],
          [
           "legislation",
           12,
           0.26742
          ],
          [
           "situation",
           71,
           0.30413
          ],
          [
           "access",
           53,
           0.2816
          ],
          [
           "UK",
           14,
           0.21486
          ],
          [
           "uses",
           32,
           0.25303
          ],
          [
           "Quebec",
           5,
           0.386
          ],
          [
           "recognition",
           33,
           0.31291
          ],
          [
           "shift",
           32,
           0.28653
          ],
          [
           "report",
           37,
           0.20908
          ],
          [
           "comments",
           29,
           0.28469
          ],
          [
           "life care",
           9,
           0.49756
          ],
          [
           "expectations",
           27,
           0.29341
          ],
          [
           "truth telling",
           3,
           0.453
          ],
          [
           "youth",
           13,
           0.39815
          ],
          [
           "children",
           51,
           0.24741
          ],
          [
           "statements",
           46,
           0.3068
          ],
          [
           "ethical practice",
           6,
           0.6285
          ],
          [
           "ignorance",
           6,
           0.3005
          ],
          [
           "Toronto",
           49,
           0.27439
          ],
          [
           "Pakistan",
           5,
           0.3604
          ],
          [
           "songs",
           7,
           0.43057
          ],
          [
           "practical theology",
           6,
           0.60083
          ],
          [
           "theological aspects",
           2,
           0.6795
          ],
          [
           "worship",
           8,
           0.23575
          ],
          [
           "grounding",
           16,
           0.34406
          ],
          [
           "talk",
           13,
           0.27269
          ],
          [
           "dilemma",
           36,
           0.37769
          ],
          [
           "figures",
           42,
           0.34164
          ],
          [
           "resemblance",
           5,
           0.3434
          ],
          [
           "social justice",
           13,
           0.57908
          ],
          [
           "Health Organization",
           4,
           0.3215
          ],
          [
           "physicists",
           10,
           0.4347
          ],
          [
           "late 1950s",
           4,
           0.29325
          ],
          [
           "conflicts of interest",
           13,
           0.567
          ],
          [
           "recommendations",
           25,
           0.28316
          ],
          [
           "care settings",
           8,
           0.3715
          ],
          [
           "residents",
           9,
           0.25844
          ],
          [
           "diagnosis",
           24,
           0.22108
          ],
          [
           "political thought",
           16,
           0.49406
          ],
          [
           "refutation",
           9,
           0.38478
          ],
          [
           "mathematics",
           67,
           0.36757
          ],
          [
           "similarity",
           24,
           0.20188
          ],
          [
           "laboratory experiments",
           4,
           0.3105
          ],
          [
           "Campbell",
           7,
           0.334
          ],
          [
           "awareness",
           38,
           0.33253
          ],
          [
           "faith-based organizations",
           3,
           0.566
          ],
          [
           "faith communities",
           5,
           0.6012
          ],
          [
           "avenues",
           10,
           0.2838
          ],
          [
           "morality",
           49,
           0.43145
          ],
          [
           "rightness",
           5,
           0.3554
          ],
          [
           "explanatory role",
           6,
           0.40717
          ],
          [
           "research practices",
           7,
           0.65629
          ],
          [
           "power dynamics",
           7,
           0.48129
          ],
          [
           "such challenges",
           2,
           0.2945
          ],
          [
           "credence",
           5,
           0.2802
          ],
          [
           "practical reasons",
           5,
           0.4598
          ],
          [
           "will",
           18,
           0.34689
          ],
          [
           "religious traditions",
           13,
           0.58677
          ],
          [
           "adults",
           20,
           0.2016
          ],
          [
           "advice",
           15,
           0.25213
          ],
          [
           "migrants",
           3,
           0.46867
          ],
          [
           "security",
           14,
           0.309
          ],
          [
           "safety",
           12,
           0.25642
          ],
          [
           "liberal justice",
           2,
           0.696
          ],
          [
           "John Rawls",
           10,
           0.587
          ],
          [
           "political theorists",
           9,
           0.66156
          ],
          [
           "Jürgen Habermas",
           4,
           0.38175
          ],
          [
           "Rawls",
           14,
           0.51929
          ],
          [
           "Habermas",
           11,
           0.32318
          ],
          [
           "CSR",
           6,
           0.57167
          ],
          [
           "reputation",
           13,
           0.42154
          ],
          [
           "followers",
           10,
           0.3897
          ],
          [
           "multiculturalism",
           12,
           0.50533
          ],
          [
           "basic principles",
           3,
           0.51867
          ],
          [
           "candidates",
           10,
           0.2166
          ]
         ],
         "hovertemplate": "<b>%{hovertext}</b><br><br>freq_growth=%{x}<br>score_growth=%{y}<br>concept=%{customdata[0]}<br>frequency=%{customdata[1]}<br>score_avg=%{marker.color}<extra></extra>",
         "hovertext": [
          "firms",
          "democracy",
          "ontology",
          "objects",
          "tool",
          "knowledge",
          "definition",
          "text",
          "topic",
          "elements",
          "authorities",
          "questions",
          "process",
          "procedure",
          "community",
          "purpose",
          "alternative",
          "area",
          "reasons",
          "relationship",
          "theory",
          "place",
          "understanding",
          "law",
          "individuals",
          "role",
          "inquiry",
          "changes",
          "activity",
          "doctrine",
          "theorists",
          "justification",
          "argument",
          "acts",
          "sense",
          "foundation",
          "harm",
          "war",
          "action",
          "article",
          "jurisdictions",
          "matter",
          "countries",
          "part",
          "state",
          "form",
          "side",
          "killing",
          "efforts",
          "force",
          "status",
          "aggression",
          "services",
          "benefits",
          "scientific explanation",
          "science",
          "subjectivity",
          "nature",
          "Kant",
          "Heidegger",
          "philosophy",
          "reflection",
          "world",
          "ground",
          "explanation",
          "scope",
          "possibility",
          "limit",
          "origin",
          "discovery",
          "physics",
          "phenomenon",
          "principles",
          "idea",
          "fact",
          "answers",
          "paradox",
          "end",
          "distinction",
          "claims",
          "suffering",
          "interpretation",
          "scientists",
          "neglect",
          "problem",
          "example",
          "differences",
          "pain",
          "notion",
          "discourse",
          "implications",
          "discussion",
          "relation",
          "support",
          "terms",
          "formulation",
          "use",
          "theorem",
          "transition",
          "development",
          "goal",
          "practice",
          "publications",
          "participants",
          "authors",
          "participation",
          "body",
          "fashion",
          "period",
          "majority",
          "mechanism",
          "gap",
          "point",
          "first step",
          "journals",
          "collection",
          "commentators",
          "name",
          "basis",
          "rights",
          "pages",
          "objections",
          "marginality",
          "government",
          "conception",
          "society",
          "border",
          "civilization",
          "thesis",
          "concern",
          "view",
          "study",
          "ethical challenges",
          "community engagement",
          "qualitative interviews",
          "interviews",
          "challenges",
          "imperative",
          "policymakers",
          "responsibility",
          "engagement",
          "implementation",
          "research",
          "workers",
          "Africa",
          "interest",
          "Europe",
          "perspective",
          "America",
          "project",
          "resources",
          "healthcare workers",
          "way",
          "power",
          "consensus",
          "difficulties",
          "technology",
          "position",
          "care",
          "one",
          "analysis",
          "prevention",
          "values",
          "eighteenth century",
          "century",
          "encounters",
          "University",
          "nineteenth century",
          "sixteenth century",
          "history",
          "middle",
          "language",
          "scholars",
          "conversation",
          "Asia",
          "issues",
          "appeal",
          "present",
          "dozens",
          "road",
          "space",
          "approach",
          "spirituality",
          "poems",
          "friends",
          "memory",
          "women",
          "human beings",
          "common sense",
          "spirit",
          "self",
          "identity",
          "people",
          "God",
          "faith",
          "wholeness",
          "rituals",
          "being",
          "creators",
          "meaning",
          "things",
          "collectivity",
          "experience",
          "leaders",
          "dimensions",
          "music",
          "context",
          "schools",
          "moment",
          "instances",
          "different types",
          "images",
          "group",
          "time",
          "quality",
          "politics",
          "struggle",
          "Marxism",
          "chapter",
          "debate",
          "resurgence",
          "home",
          "life",
          "colonization",
          "dialogue",
          "narratives",
          "story",
          "central role",
          "introduction",
          "art",
          "ethical issues",
          "duty",
          "obligations",
          "ethics",
          "reconciliation",
          "commitment",
          "profession",
          "medicine",
          "public",
          "tension",
          "necessity",
          "professionals",
          "practitioners",
          "trainees",
          "physicians",
          "need",
          "opportunities",
          "order",
          "training",
          "demand",
          "center",
          "intervention",
          "measures",
          "climate change",
          "infrastructure",
          "initiatives",
          "ideal",
          "moves",
          "intersection",
          "future",
          "enthusiasm",
          "movement",
          "limitations",
          "biases",
          "historical narrative",
          "hermeneutics",
          "voice",
          "ongoing debate",
          "epistemology",
          "methodological challenges",
          "Foucault",
          "humanity",
          "case study",
          "work",
          "agencies",
          "education",
          "attention",
          "medical education",
          "light",
          "influence",
          "insights",
          "barriers",
          "healthcare",
          "clinical practice",
          "recovery",
          "patients",
          "desire",
          "Christians",
          "Vatican II",
          "writing",
          "book",
          "teaching",
          "Council",
          "theologians",
          "Scripture",
          "Church",
          "reception",
          "themes",
          "regard",
          "religion",
          "theology",
          "Lonergan",
          "thought",
          "grace",
          "essay",
          "realm",
          "danger",
          "whole",
          "emphasis",
          "liberalism",
          "truth",
          "kind",
          "existence",
          "lessons",
          "strategies",
          "ability",
          "tradition",
          "appropriation",
          "verses",
          "concept",
          "audience",
          "account",
          "aspects",
          "parallel",
          "examination",
          "objective",
          "survey",
          "ED",
          "trajectories",
          "violence",
          "conceptualization",
          "lens",
          "importance",
          "reading",
          "path",
          "nations",
          "territory",
          "independence",
          "title",
          "relevance",
          "moral law",
          "consciousness",
          "beliefs",
          "freedom",
          "feelings",
          "passage",
          "approval",
          "aim",
          "traces",
          "Aristotle",
          "categories",
          "division",
          "legacy",
          "contribution",
          "character",
          "members",
          "students",
          "family",
          "organ transplantation",
          "content analysis",
          "literature",
          "transplantation",
          "connection",
          "focus",
          "overlap",
          "attitudes",
          "Kingdom",
          "events",
          "set",
          "main results",
          "proof",
          "transformation",
          "paper I",
          "philosophers",
          "intuition",
          "proposal",
          "link",
          "Bernard Lonergan",
          "preferential option",
          "occasions",
          "roots",
          "twentieth century",
          "circumstances",
          "mode",
          "interaction",
          "perception",
          "proponents",
          "Mary",
          "incarnation",
          "anthology",
          "LE",
          "study of religion",
          "disciplines",
          "cult",
          "speech",
          "empiricism",
          "health",
          "liberty",
          "thinkers",
          "justice",
          "culture",
          "market",
          "features",
          "religious institutions",
          "exile",
          "Catholics",
          "conflict",
          "reform",
          "reformation",
          "refugees",
          "institutions",
          "emotions",
          "boundaries",
          "diversity",
          "dynamics",
          "framework",
          "direction",
          "early twentieth century",
          "social relations",
          "activism",
          "era",
          "crisis",
          "membership",
          "organization",
          "creation",
          "vision",
          "rules",
          "program",
          "subjects",
          "world today",
          "today",
          "Islam",
          "intellectuals",
          "embrace",
          "revolution",
          "mind",
          "citizenship",
          "sort",
          "significance",
          "adoption",
          "turn",
          "spring",
          "words",
          "certain kinds",
          "threat",
          "factors",
          "disability",
          "judgments",
          "worry",
          "decades",
          "evidence",
          "findings",
          "lack",
          "licensing",
          "behavior",
          "article I",
          "reality",
          "journey",
          "harmony",
          "peace",
          "aspiration",
          "face",
          "paradigm",
          "universe",
          "vulnerability",
          "death",
          "aid",
          "consequences",
          "reasoning",
          "affairs",
          "instrument",
          "achievement",
          "extent",
          "psychological experience",
          "evolution",
          "selection",
          "note",
          "best interests",
          "defense",
          "paternalism",
          "practical rationality",
          "rationality",
          "coherence",
          "wisdom",
          "political power",
          "corruption",
          "Nepal",
          "construction",
          "conclusion",
          "sites",
          "meditation",
          "textbooks",
          "poetry",
          "generation",
          "Catholic Church",
          "Pope Francis",
          "reformers",
          "aesthetics",
          "mobilization",
          "impulses",
          "heart",
          "field",
          "anthropology",
          "scholarship",
          "edition",
          "anniversary",
          "ties",
          "last decade",
          "recent years",
          "variety",
          "association",
          "writers",
          "coordination",
          "Christianity",
          "temptation",
          "assertion",
          "documents",
          "impact",
          "handful",
          "Canada",
          "mission",
          "praxis",
          "pedagogy",
          "calls",
          "love",
          "neighbours",
          "meeting",
          "Christ",
          "historians",
          "telling",
          "advances",
          "social values",
          "managers",
          "corporations",
          "hierarchy",
          "Young",
          "guide",
          "public life",
          "moral competencies",
          "research participants",
          "competencies",
          "protection",
          "vocation",
          "witness",
          "revelation",
          "new perspective",
          "discipleship",
          "deeds",
          "Lord",
          "Rahner",
          "population",
          "guidance",
          "realist",
          "critique",
          "misconceptions",
          "eyes",
          "sovereignty",
          "citizens",
          "actors",
          "contingencies",
          "pieces",
          "choice",
          "intent",
          "region",
          "parties",
          "humans",
          "ethical questions",
          "permissibility",
          "decisions",
          "policy",
          "health care institutions",
          "premise",
          "controversy",
          "exercise",
          "religiosity",
          "activists",
          "logic",
          "setting",
          "endeavor",
          "outline",
          "donation",
          "environment",
          "network",
          "Wittgenstein",
          "own way",
          "brain",
          "informed consent",
          "respect",
          "consent",
          "consideration",
          "trials",
          "conduct",
          "clinical trials",
          "discomfort",
          "success",
          "attempt",
          "buildings",
          "ethical analysis",
          "palliative sedation",
          "palliative care",
          "euthanasia",
          "intention",
          "suicide",
          "withdrawal",
          "sedation",
          "pediatric patients",
          "sphere",
          "metaphor",
          "background",
          "medical act",
          "key questions",
          "pursuit",
          "sections",
          "legitimacy",
          "India",
          "decline",
          "ethics of immigration",
          "political philosophy",
          "great deal",
          "immigration",
          "deal",
          "sequence",
          "preferences",
          "risk",
          "fail",
          "game",
          "version",
          "broader context",
          "liberation",
          "Web",
          "rhetoric",
          "contradictions",
          "perceivers",
          "seeing",
          "commerce",
          "thinking",
          "girls",
          "scientific discovery",
          "creatures",
          "sacrifice",
          "axioms",
          "confrontation",
          "Plato",
          "rejection",
          "plan",
          "disorders",
          "hardback",
          "piety",
          "portrait",
          "rulers",
          "injustice",
          "orthodoxy",
          "Spiritual Exercises",
          "discernment",
          "heritage",
          "cosmology",
          "end of life",
          "discussion groups",
          "health care",
          "nurses",
          "arrest",
          "team",
          "uncertainty",
          "creativity",
          "biology",
          "date",
          "commentary",
          "lacunae",
          "picture",
          "overview",
          "learning",
          "same time",
          "opposition",
          "belief systems",
          "guise",
          "reporting",
          "outcomes",
          "treatment",
          "inclusion",
          "integration",
          "twenty-first century",
          "constitutive norms",
          "norms",
          "formalism",
          "Synoptic Gospels",
          "Gospel",
          "orality",
          "medium",
          "key",
          "cognitive science",
          "social impact",
          "emergence",
          "research ethics",
          "primary focus",
          "Hall",
          "open question",
          "ethical principles",
          "researchers",
          "guidelines",
          "funding",
          "ambivalence",
          "innovation",
          "companies",
          "industry",
          "biomedical research",
          "threads",
          "synopsis",
          "West",
          "scripts",
          "deliberative democracy",
          "deliberation",
          "virtue",
          "capacity",
          "facilitation",
          "metaphysics",
          "south",
          "questionnaire",
          "establishment",
          "methodology",
          "assumption",
          "literacy",
          "translation",
          "domain",
          "cardinality",
          "current article",
          "New Testament",
          "such work",
          "Testament",
          "repository",
          "China",
          "nuances",
          "genre",
          "arrangement",
          "progress",
          "disclosure",
          "hand",
          "patient's condition",
          "later work",
          "affect",
          "secularism",
          "Prophet",
          "legislation",
          "situation",
          "access",
          "UK",
          "uses",
          "Quebec",
          "recognition",
          "shift",
          "report",
          "comments",
          "life care",
          "expectations",
          "truth telling",
          "youth",
          "children",
          "statements",
          "ethical practice",
          "ignorance",
          "Toronto",
          "Pakistan",
          "songs",
          "practical theology",
          "theological aspects",
          "worship",
          "grounding",
          "talk",
          "dilemma",
          "figures",
          "resemblance",
          "social justice",
          "Health Organization",
          "physicists",
          "late 1950s",
          "conflicts of interest",
          "recommendations",
          "care settings",
          "residents",
          "diagnosis",
          "political thought",
          "refutation",
          "mathematics",
          "similarity",
          "laboratory experiments",
          "Campbell",
          "awareness",
          "faith-based organizations",
          "faith communities",
          "avenues",
          "morality",
          "rightness",
          "explanatory role",
          "research practices",
          "power dynamics",
          "such challenges",
          "credence",
          "practical reasons",
          "will",
          "religious traditions",
          "adults",
          "advice",
          "migrants",
          "security",
          "safety",
          "liberal justice",
          "John Rawls",
          "political theorists",
          "Jürgen Habermas",
          "Rawls",
          "Habermas",
          "CSR",
          "reputation",
          "followers",
          "multiculturalism",
          "basic principles",
          "candidates"
         ],
         "legendgroup": "",
         "marker": {
          "color": [
           0.39963,
           0.4138,
           0.2797,
           0.27441,
           0.20624,
           0.27647,
           0.21124,
           0.39309,
           0.32944,
           0.22579,
           0.39468,
           0.33662,
           0.22924,
           0.20549,
           0.36021,
           0.23876,
           0.21542,
           0.20512,
           0.32465,
           0.29134,
           0.31919,
           0.33058,
           0.3044,
           0.39266,
           0.31133,
           0.25963,
           0.36842,
           0.20856,
           0.21343,
           0.42955,
           0.41598,
           0.40633,
           0.33677,
           0.3357,
           0.3401,
           0.35778,
           0.3757,
           0.33236,
           0.3023,
           0.33588,
           0.41564,
           0.31639,
           0.34092,
           0.27809,
           0.28284,
           0.27159,
           0.25482,
           0.353,
           0.28102,
           0.25785,
           0.23396,
           0.40327,
           0.27804,
           0.25018,
           0.37233,
           0.34141,
           0.40969,
           0.31935,
           0.42925,
           0.41933,
           0.44442,
           0.34306,
           0.31209,
           0.3578,
           0.29115,
           0.30698,
           0.2563,
           0.24551,
           0.26708,
           0.22011,
           0.35383,
           0.26188,
           0.30543,
           0.37344,
           0.30637,
           0.27021,
           0.21839,
           0.2608,
           0.35133,
           0.37186,
           0.33068,
           0.32007,
           0.29077,
           0.32283,
           0.23199,
           0.23127,
           0.21012,
           0.22115,
           0.34868,
           0.39988,
           0.30742,
           0.37405,
           0.33181,
           0.25817,
           0.22613,
           0.20407,
           0.20973,
           0.29182,
           0.20354,
           0.24444,
           0.25493,
           0.34227,
           0.28757,
           0.28459,
           0.28042,
           0.30531,
           0.27283,
           0.22692,
           0.26403,
           0.20683,
           0.20354,
           0.24257,
           0.25069,
           0.24038,
           0.23681,
           0.27197,
           0.24464,
           0.29439,
           0.25035,
           0.43961,
           0.20105,
           0.31722,
           0.29333,
           0.38128,
           0.40332,
           0.36454,
           0.25094,
           0.29838,
           0.33735,
           0.33931,
           0.32105,
           0.20674,
           0.61451,
           0.499,
           0.52433,
           0.32568,
           0.31131,
           0.3646,
           0.37183,
           0.44112,
           0.36567,
           0.22606,
           0.29433,
           0.31418,
           0.37846,
           0.30474,
           0.4247,
           0.34424,
           0.3675,
           0.32315,
           0.28139,
           0.396,
           0.31075,
           0.29196,
           0.27875,
           0.25238,
           0.2108,
           0.28375,
           0.33477,
           0.22499,
           0.21077,
           0.27825,
           0.22716,
           0.49133,
           0.39829,
           0.38,
           0.23478,
           0.56604,
           0.63775,
           0.37468,
           0.28264,
           0.39085,
           0.38603,
           0.38795,
           0.40167,
           0.35945,
           0.38921,
           0.2735,
           0.346,
           0.22867,
           0.26167,
           0.25765,
           0.34597,
           0.35367,
           0.247,
           0.30114,
           0.28213,
           0.63176,
           0.58383,
           0.31166,
           0.3755,
           0.35319,
           0.35273,
           0.31717,
           0.37482,
           0.31975,
           0.32939,
           0.38971,
           0.36525,
           0.31222,
           0.30781,
           0.3328,
           0.34052,
           0.34568,
           0.28764,
           0.34471,
           0.34095,
           0.3791,
           0.31152,
           0.27183,
           0.25718,
           0.26553,
           0.21093,
           0.20418,
           0.2171,
           0.36354,
           0.35864,
           0.34156,
           0.29865,
           0.37776,
           0.3185,
           0.30217,
           0.30263,
           0.35783,
           0.43481,
           0.386,
           0.32095,
           0.31464,
           0.24048,
           0.31556,
           0.64779,
           0.43018,
           0.42369,
           0.48234,
           0.42662,
           0.40087,
           0.39323,
           0.29571,
           0.39097,
           0.36839,
           0.27359,
           0.37358,
           0.34494,
           0.25758,
           0.33778,
           0.29399,
           0.25414,
           0.21746,
           0.31477,
           0.2969,
           0.2227,
           0.25791,
           0.21153,
           0.28308,
           0.23907,
           0.30822,
           0.38816,
           0.25881,
           0.35412,
           0.27696,
           0.25067,
           0.29842,
           0.22471,
           0.2851,
           0.39267,
           0.32007,
           0.39462,
           0.3544,
           0.40422,
           0.3995,
           0.42482,
           0.4301,
           0.35442,
           0.28463,
           0.33332,
           0.41122,
           0.31144,
           0.49129,
           0.26577,
           0.22551,
           0.26402,
           0.21521,
           0.31868,
           0.38264,
           0.23007,
           0.27583,
           0.33644,
           0.43193,
           0.32829,
           0.41161,
           0.27558,
           0.3847,
           0.33059,
           0.44082,
           0.38205,
           0.3938,
           0.32175,
           0.37801,
           0.27496,
           0.4165,
           0.36446,
           0.2425,
           0.37078,
           0.3352,
           0.36647,
           0.39948,
           0.33173,
           0.34309,
           0.32662,
           0.51374,
           0.35801,
           0.27045,
           0.24294,
           0.31986,
           0.25596,
           0.23294,
           0.42068,
           0.4344,
           0.3161,
           0.32879,
           0.38444,
           0.32941,
           0.31561,
           0.20924,
           0.22235,
           0.223,
           0.22586,
           0.2117,
           0.26933,
           0.40197,
           0.30668,
           0.35414,
           0.28854,
           0.32518,
           0.21181,
           0.35247,
           0.32836,
           0.30868,
           0.377,
           0.30402,
           0.728,
           0.42261,
           0.38081,
           0.34614,
           0.36768,
           0.26979,
           0.34247,
           0.22822,
           0.28763,
           0.3243,
           0.27178,
           0.30967,
           0.30362,
           0.27753,
           0.29797,
           0.30197,
           0.33862,
           0.23086,
           0.625,
           0.4845,
           0.31292,
           0.35433,
           0.30479,
           0.31842,
           0.23456,
           0.33466,
           0.44069,
           0.24085,
           0.20719,
           0.22967,
           0.22881,
           0.2633,
           0.42672,
           0.43419,
           0.31592,
           0.26366,
           0.30852,
           0.35722,
           0.258,
           0.3164,
           0.26595,
           0.51047,
           0.28088,
           0.20746,
           0.21431,
           0.31543,
           0.36182,
           0.3328,
           0.2435,
           0.3104,
           0.26255,
           0.71223,
           0.2782,
           0.26822,
           0.42931,
           0.5495,
           0.30239,
           0.395,
           0.44505,
           0.42104,
           0.37536,
           0.30604,
           0.20038,
           0.624,
           0.4332,
           0.42364,
           0.3672,
           0.39139,
           0.37877,
           0.50367,
           0.38623,
           0.40213,
           0.23383,
           0.31532,
           0.229,
           0.31006,
           0.20449,
           0.6141,
           0.47729,
           0.47988,
           0.33808,
           0.31637,
           0.32888,
           0.33781,
           0.30765,
           0.26887,
           0.31366,
           0.24635,
           0.28051,
           0.3695,
           0.37377,
           0.47242,
           0.48762,
           0.36933,
           0.307,
           0.37895,
           0.46939,
           0.30617,
           0.26771,
           0.30978,
           0.30887,
           0.2002,
           0.30607,
           0.31888,
           0.29957,
           0.20426,
           0.29561,
           0.37865,
           0.3215,
           0.31117,
           0.22827,
           0.27391,
           0.21318,
           0.29833,
           0.20627,
           0.29655,
           0.32323,
           0.30506,
           0.39308,
           0.30773,
           0.33171,
           0.28926,
           0.26558,
           0.3175,
           0.31364,
           0.2287,
           0.2694,
           0.28299,
           0.36696,
           0.29796,
           0.25005,
           0.30573,
           0.26177,
           0.50467,
           0.2863,
           0.29739,
           0.22561,
           0.4806,
           0.24968,
           0.28062,
           0.21833,
           0.39542,
           0.26117,
           0.27244,
           0.6685,
           0.46814,
           0.329,
           0.26716,
           0.22845,
           0.22482,
           0.36564,
           0.36479,
           0.3505,
           0.21197,
           0.52214,
           0.39083,
           0.37656,
           0.39333,
           0.25467,
           0.34989,
           0.20865,
           0.24505,
           0.43658,
           0.3962,
           0.3284,
           0.34533,
           0.30933,
           0.41375,
           0.32252,
           0.22447,
           0.2019,
           0.413,
           0.20883,
           0.40513,
           0.509,
           0.45009,
           0.35448,
           0.24522,
           0.379,
           0.28707,
           0.37669,
           0.55625,
           0.36564,
           0.31962,
           0.23905,
           0.38475,
           0.24848,
           0.32907,
           0.41424,
           0.38811,
           0.20329,
           0.47655,
           0.33008,
           0.37666,
           0.27181,
           0.40133,
           0.2453,
           0.42686,
           0.777,
           0.4488,
           0.31443,
           0.34088,
           0.27325,
           0.3511,
           0.4028,
           0.39925,
           0.354,
           0.34771,
           0.31162,
           0.327,
           0.26619,
           0.27775,
           0.3525,
           0.39886,
           0.39571,
           0.22973,
           0.34083,
           0.42817,
           0.3661,
           0.2749,
           0.33143,
           0.25713,
           0.3196,
           0.24358,
           0.33129,
           0.23517,
           0.4678,
           0.4198,
           0.31513,
           0.37401,
           0.595,
           0.22968,
           0.31965,
           0.30238,
           0.3001,
           0.46377,
           0.25886,
           0.24672,
           0.3646,
           0.32889,
           0.311,
           0.22618,
           0.20056,
           0.40981,
           0.389,
           0.28353,
           0.55752,
           0.25082,
           0.4184,
           0.29756,
           0.25134,
           0.42897,
           0.25227,
           0.2975,
           0.2296,
           0.35475,
           0.27662,
           0.58936,
           0.663,
           0.47217,
           0.38038,
           0.26837,
           0.4224,
           0.29725,
           0.406,
           0.208,
           0.34837,
           0.30578,
           0.30138,
           0.561,
           0.39443,
           0.3084,
           0.21857,
           0.4422,
           0.34395,
           0.28345,
           0.75967,
           0.606,
           0.45857,
           0.34043,
           0.36292,
           0.22369,
           0.27258,
           0.24352,
           0.219,
           0.235,
           0.25246,
           0.54875,
           0.22243,
           0.22638,
           0.37475,
           0.34979,
           0.3464,
           0.285,
           0.25575,
           0.3495,
           0.25375,
           0.2095,
           0.37733,
           0.2058,
           0.244,
           0.403,
           0.33452,
           0.34608,
           0.21628,
           0.22295,
           0.22757,
           0.46567,
           0.25779,
           0.46886,
           0.39962,
           0.29536,
           0.58933,
           0.3775,
           0.40475,
           0.33436,
           0.49345,
           0.4795,
           0.39918,
           0.36112,
           0.2282,
           0.26708,
           0.20103,
           0.34644,
           0.2757,
           0.23016,
           0.27928,
           0.34314,
           0.28208,
           0.28825,
           0.3521,
           0.35615,
           0.39536,
           0.631,
           0.38829,
           0.311,
           0.23944,
           0.23117,
           0.30667,
           0.24785,
           0.51373,
           0.738,
           0.41641,
           0.30071,
           0.3405,
           0.29518,
           0.50033,
           0.30258,
           0.244,
           0.66273,
           0.429,
           0.31623,
           0.57538,
           0.5058,
           0.25075,
           0.30112,
           0.56292,
           0.29885,
           0.32816,
           0.26178,
           0.351,
           0.23917,
           0.25739,
           0.2628,
           0.27138,
           0.31189,
           0.289,
           0.32531,
           0.235,
           0.6125,
           0.31294,
           0.41382,
           0.22518,
           0.29188,
           0.40656,
           0.27712,
           0.24371,
           0.30993,
           0.26487,
           0.25998,
           0.4108,
           0.25074,
           0.22406,
           0.2725,
           0.291,
           0.26208,
           0.60475,
           0.25385,
           0.28625,
           0.277,
           0.30567,
           0.43616,
           0.34407,
           0.21814,
           0.42267,
           0.2559,
           0.3595,
           0.6722,
           0.36743,
           0.358,
           0.316,
           0.26742,
           0.30413,
           0.2816,
           0.21486,
           0.25303,
           0.386,
           0.31291,
           0.28653,
           0.20908,
           0.28469,
           0.49756,
           0.29341,
           0.453,
           0.39815,
           0.24741,
           0.3068,
           0.6285,
           0.3005,
           0.27439,
           0.3604,
           0.43057,
           0.60083,
           0.6795,
           0.23575,
           0.34406,
           0.27269,
           0.37769,
           0.34164,
           0.3434,
           0.57908,
           0.3215,
           0.4347,
           0.29325,
           0.567,
           0.28316,
           0.3715,
           0.25844,
           0.22108,
           0.49406,
           0.38478,
           0.36757,
           0.20188,
           0.3105,
           0.334,
           0.33253,
           0.566,
           0.6012,
           0.2838,
           0.43145,
           0.3554,
           0.40717,
           0.65629,
           0.48129,
           0.2945,
           0.2802,
           0.4598,
           0.34689,
           0.58677,
           0.2016,
           0.25213,
           0.46867,
           0.309,
           0.25642,
           0.696,
           0.587,
           0.66156,
           0.38175,
           0.51929,
           0.32318,
           0.57167,
           0.42154,
           0.3897,
           0.50533,
           0.51867,
           0.2166
          ],
          "coloraxis": "coloraxis",
          "symbol": "circle"
         },
         "mode": "markers",
         "name": "",
         "orientation": "v",
         "showlegend": false,
         "type": "scatter",
         "x": [
          -1,
          2,
          3,
          8,
          6,
          6,
          1,
          1,
          5,
          4,
          5,
          8,
          7,
          1,
          15,
          0,
          0,
          -1,
          4,
          -3,
          11,
          -3,
          13,
          10,
          2,
          16,
          -2,
          1,
          2,
          5,
          -1,
          3,
          6,
          5,
          6,
          1,
          2,
          -1,
          6,
          12,
          -2,
          -1,
          -2,
          7,
          2,
          6,
          0,
          0,
          4,
          5,
          0,
          1,
          0,
          0,
          0,
          5,
          2,
          2,
          3,
          0,
          0,
          7,
          -5,
          3,
          -1,
          5,
          5,
          4,
          4,
          3,
          3,
          1,
          -1,
          5,
          0,
          -1,
          3,
          10,
          3,
          0,
          3,
          8,
          4,
          1,
          1,
          1,
          8,
          2,
          6,
          6,
          5,
          2,
          9,
          -1,
          -4,
          5,
          -9,
          1,
          1,
          -5,
          0,
          5,
          -1,
          7,
          3,
          4,
          4,
          1,
          -2,
          2,
          3,
          5,
          8,
          0,
          3,
          0,
          1,
          2,
          -3,
          5,
          2,
          6,
          0,
          1,
          3,
          5,
          0,
          1,
          2,
          1,
          7,
          8,
          1,
          1,
          0,
          3,
          2,
          1,
          1,
          4,
          1,
          3,
          3,
          -1,
          0,
          -6,
          1,
          3,
          1,
          -4,
          4,
          0,
          4,
          6,
          5,
          -1,
          3,
          0,
          -6,
          3,
          0,
          1,
          7,
          0,
          1,
          1,
          6,
          0,
          0,
          7,
          -1,
          4,
          10,
          6,
          1,
          -3,
          -2,
          2,
          0,
          0,
          0,
          -2,
          6,
          -1,
          0,
          1,
          2,
          0,
          0,
          6,
          0,
          5,
          14,
          -5,
          3,
          0,
          4,
          4,
          2,
          -1,
          -1,
          1,
          8,
          0,
          0,
          1,
          14,
          1,
          3,
          1,
          -1,
          0,
          4,
          12,
          0,
          2,
          -1,
          0,
          -6,
          -1,
          1,
          -1,
          1,
          1,
          -1,
          4,
          3,
          2,
          3,
          3,
          -3,
          1,
          1,
          -8,
          0,
          -5,
          0,
          2,
          1,
          1,
          0,
          3,
          2,
          0,
          2,
          4,
          6,
          16,
          4,
          2,
          3,
          2,
          3,
          0,
          -1,
          2,
          1,
          1,
          1,
          6,
          1,
          4,
          0,
          1,
          0,
          -2,
          1,
          0,
          4,
          0,
          1,
          0,
          2,
          0,
          1,
          -1,
          2,
          0,
          5,
          1,
          3,
          2,
          -1,
          0,
          1,
          -11,
          0,
          1,
          1,
          6,
          5,
          4,
          0,
          3,
          0,
          1,
          2,
          4,
          2,
          8,
          4,
          1,
          4,
          0,
          3,
          0,
          0,
          4,
          -1,
          1,
          5,
          1,
          0,
          2,
          3,
          0,
          10,
          2,
          1,
          -2,
          0,
          1,
          2,
          -1,
          1,
          1,
          -2,
          -2,
          0,
          0,
          3,
          1,
          6,
          -2,
          0,
          2,
          0,
          2,
          1,
          -3,
          2,
          1,
          2,
          4,
          3,
          -2,
          0,
          -3,
          0,
          1,
          0,
          1,
          2,
          9,
          3,
          1,
          -3,
          -6,
          0,
          0,
          -5,
          -1,
          2,
          -3,
          -3,
          2,
          -1,
          -1,
          8,
          1,
          -1,
          3,
          2,
          -1,
          -2,
          -3,
          0,
          1,
          0,
          0,
          1,
          1,
          3,
          1,
          1,
          2,
          1,
          0,
          0,
          0,
          1,
          1,
          3,
          0,
          2,
          0,
          0,
          0,
          3,
          -2,
          -3,
          1,
          2,
          0,
          0,
          1,
          -4,
          0,
          1,
          1,
          3,
          -1,
          0,
          2,
          4,
          -5,
          -2,
          1,
          0,
          -1,
          2,
          4,
          0,
          -5,
          0,
          4,
          0,
          -5,
          -5,
          0,
          3,
          1,
          0,
          0,
          0,
          1,
          0,
          0,
          2,
          -1,
          1,
          0,
          4,
          0,
          -1,
          0,
          0,
          4,
          1,
          2,
          0,
          -1,
          -3,
          0,
          -3,
          0,
          0,
          1,
          0,
          -1,
          1,
          -2,
          -1,
          1,
          0,
          -4,
          0,
          -2,
          3,
          1,
          0,
          1,
          -1,
          0,
          1,
          3,
          1,
          -1,
          -2,
          1,
          0,
          3,
          0,
          4,
          0,
          1,
          0,
          -1,
          2,
          2,
          2,
          -1,
          1,
          -2,
          0,
          0,
          0,
          0,
          0,
          0,
          1,
          -3,
          0,
          0,
          1,
          0,
          -2,
          0,
          -1,
          1,
          2,
          0,
          0,
          1,
          0,
          0,
          1,
          0,
          0,
          8,
          1,
          0,
          0,
          1,
          1,
          0,
          -1,
          0,
          1,
          1,
          -1,
          0,
          0,
          0,
          0,
          0,
          1,
          0,
          0,
          1,
          0,
          0,
          0,
          -1,
          2,
          0,
          0,
          0,
          1,
          0,
          0,
          -1,
          0,
          3,
          1,
          0,
          0,
          1,
          2,
          0,
          0,
          1,
          1,
          2,
          0,
          2,
          0,
          0,
          -4,
          3,
          0,
          0,
          3,
          1,
          0,
          1,
          1,
          0,
          0,
          1,
          0,
          1,
          -4,
          1,
          -1,
          0,
          -2,
          0,
          -6,
          -2,
          0,
          -1,
          0,
          0,
          1,
          1,
          -1,
          0,
          0,
          0,
          0,
          -2,
          0,
          0,
          -1,
          -2,
          -1,
          0,
          0,
          0,
          -1,
          -2,
          1,
          1,
          -1,
          0,
          0,
          0,
          0,
          0,
          0,
          1,
          1,
          -2,
          0,
          0,
          2,
          1,
          2,
          -1,
          0,
          0,
          0,
          0,
          0,
          -1,
          0,
          0,
          -1,
          0,
          0,
          0,
          0,
          -1,
          2,
          0,
          0,
          0,
          1,
          0,
          -1,
          0,
          0,
          0,
          0,
          -1,
          -2,
          0,
          -2,
          0,
          0,
          0,
          2,
          1,
          0,
          0,
          -1,
          0,
          -1,
          0,
          -1,
          -1,
          0,
          0,
          0,
          -1,
          -9,
          -2,
          -1,
          -1,
          -1,
          0,
          0,
          0,
          -1,
          -6,
          0,
          -1,
          0,
          0,
          0,
          -1,
          -1,
          0,
          0,
          0,
          -2,
          1,
          -1,
          0,
          0,
          -1,
          1,
          -1,
          -1,
          -1,
          0,
          0,
          0,
          0,
          0,
          -1,
          -5,
          0,
          1,
          1,
          1,
          0,
          -1,
          0,
          1,
          0,
          -2,
          -1,
          0,
          0,
          0,
          0,
          0,
          1,
          1,
          -1,
          0,
          0,
          0,
          0,
          0,
          0,
          0,
          0,
          0,
          0,
          -3,
          -3,
          -1,
          0,
          0,
          0,
          -2,
          1,
          0,
          0,
          2,
          0,
          0,
          -4,
          1,
          0,
          0,
          -1,
          0,
          0,
          0,
          0,
          0,
          0,
          0,
          0,
          0,
          0,
          0,
          0,
          0,
          0,
          -1,
          0,
          -2,
          0,
          1,
          0,
          0,
          -5,
          -2,
          0,
          0,
          0,
          0,
          0,
          0,
          -2,
          0,
          0,
          0,
          0,
          0,
          0,
          0,
          0,
          0,
          0,
          0,
          0,
          0,
          -1,
          0,
          -1,
          0,
          0,
          -1,
          0,
          0,
          0,
          0,
          0,
          0,
          0
         ],
         "xaxis": "x",
         "y": [
          -0.09517000000000003,
          -0.12067,
          0.3005,
          -0.09132999999999997,
          -0.144,
          -0.036750000000000005,
          -0.01987,
          0.09421000000000002,
          -0.09203,
          -0.04729,
          -0.19383,
          -0.042669999999999986,
          -0.04273000000000002,
          -0.17667,
          -0.16620000000000001,
          -0.17132999999999998,
          -0.11350000000000002,
          -0.02176,
          0.055920000000000025,
          -0.05826999999999999,
          -0.03820000000000001,
          0.032210000000000016,
          0.06781000000000001,
          -0.13039999999999996,
          0.04053999999999999,
          0.05841999999999997,
          -0.15199999999999997,
          -0.10357000000000001,
          0.05891000000000002,
          0.23442999999999997,
          0.07535000000000003,
          0.14767000000000002,
          -0.022040000000000004,
          0.02293999999999996,
          -0.032440000000000024,
          0.046109999999999984,
          -0.016800000000000037,
          0.05408000000000002,
          0.08011000000000001,
          0.054320000000000035,
          0.07767000000000002,
          -0.15283000000000002,
          0.05325000000000002,
          -0.023070000000000007,
          0.04361999999999999,
          0.05618000000000001,
          -0.03350000000000003,
          -0.06899999999999995,
          0.10995999999999997,
          -0.11750000000000002,
          0.0012499999999999734,
          -0.07200000000000001,
          -0.10649999999999998,
          -0.189,
          0.37499999999999994,
          -0.15819999999999998,
          0.029669999999999974,
          0.13659000000000002,
          0.03849999999999998,
          -0.06999999999999995,
          0.10936999999999997,
          -0.028980000000000006,
          0.07342999999999997,
          0.12334,
          -0.0615,
          0.1995,
          -0.11981000000000003,
          0.09459999999999999,
          -0.07066999999999998,
          0.11624999999999999,
          0.09425,
          -0.011799999999999977,
          -0.05726999999999999,
          0.05034999999999995,
          0.0046700000000000075,
          -0.20117000000000002,
          0.14150000000000001,
          -0.06941000000000003,
          0.027499999999999997,
          -0.03640000000000004,
          -0.0869,
          0.05418999999999996,
          -0.04500000000000001,
          -0.22800000000000004,
          -0.02631,
          -0.035629999999999995,
          0.014670000000000016,
          -0.017669999999999998,
          0.09248,
          -0.13249999999999995,
          0.10359999999999997,
          -0.050829999999999986,
          -0.026370000000000005,
          0.024329999999999963,
          0.07743000000000003,
          -0.17683000000000001,
          -0.011619999999999991,
          -0.18999999999999995,
          -0.020500000000000018,
          -0.025729999999999975,
          -0.25338,
          -0.06176000000000004,
          -0.20642000000000002,
          0.07707,
          0.09410000000000002,
          0.2732,
          0.17382999999999998,
          -0.14250000000000002,
          -0.07330999999999999,
          0.145,
          -0.06475,
          0.12283000000000001,
          0.059760000000000035,
          -0.319,
          0.033600000000000005,
          0.10999999999999999,
          -0.0605,
          -0.20425000000000004,
          -0.2349,
          -0.01989000000000002,
          -0.28574999999999995,
          -0.28357000000000004,
          -0.13,
          -0.251,
          -0.09656999999999999,
          0.07938,
          -0.14800000000000002,
          -0.07600000000000001,
          0.118,
          0.020100000000000007,
          0.11853000000000002,
          0.026959999999999984,
          0.05553000000000008,
          -0.5195,
          0.016000000000000014,
          -0.03716999999999998,
          -0.05898000000000003,
          0.291,
          -0.05499999999999999,
          -0.10952999999999996,
          -0.09704999999999997,
          0.1381,
          0.004689999999999972,
          0.04249999999999998,
          0.09249999999999997,
          -0.030420000000000003,
          -0.0695,
          0.04870000000000002,
          -0.21266999999999997,
          -0.02350000000000002,
          0.15899999999999997,
          -0.033999999999999975,
          -0.033350000000000046,
          0.09849999999999998,
          0.056169999999999984,
          -0.05499999999999999,
          0.09699999999999998,
          0.07599999999999998,
          0.010309999999999986,
          0.027609999999999996,
          0.03859000000000001,
          0.05350000000000002,
          -0.03547,
          -0.062,
          -0.12553999999999998,
          -0.30717,
          -0.22986,
          0.03499999999999992,
          0.20699999999999996,
          0.09240000000000004,
          0.32600000000000007,
          -0.15153,
          -0.046479999999999966,
          -0.007889999999999953,
          0.065,
          -0.015690000000000037,
          -0.04175000000000001,
          0.31533,
          0.292,
          0.07750000000000001,
          -0.0016700000000000048,
          -0.06957999999999998,
          0.21514,
          -0.40850000000000003,
          0.029,
          -0.15433000000000002,
          -0.13475,
          -0.4800000000000001,
          -0.47400000000000003,
          0.30128999999999995,
          -0.29667,
          0.06321000000000002,
          0.14718,
          -0.19035999999999997,
          0.16250000000000003,
          -0.363,
          -0.26280000000000003,
          -0.3154,
          -0.17100000000000004,
          0.02159999999999998,
          -0.01938000000000001,
          -0.377,
          0.02418999999999999,
          -0.134,
          -0.01433000000000001,
          -0.18533000000000002,
          0.05380999999999997,
          0.02124999999999999,
          -0.26075000000000004,
          -0.16167,
          -0.15,
          -0.19233,
          -0.006290000000000018,
          -0.02556,
          -0.10840000000000002,
          0.29834,
          0.30767,
          0.505,
          -0.005859999999999976,
          0.16637999999999997,
          -0.13049999999999995,
          -0.06449999999999995,
          0.018359999999999987,
          0.16499999999999998,
          -0.07172999999999996,
          0.0484,
          -0.1005,
          -0.118,
          -0.09892000000000001,
          -0.1725,
          0.02242999999999995,
          -0.08633000000000002,
          0.15150000000000002,
          0.060990000000000044,
          0.01100000000000001,
          0.03420000000000001,
          -0.16999999999999998,
          0.1254,
          0.0043300000000000005,
          -0.11035,
          0.23525000000000001,
          -0.06020000000000003,
          -0.13867000000000002,
          0.08700000000000002,
          0.30333,
          -0.008629999999999971,
          0.027220000000000022,
          -0.04792000000000002,
          0.012800000000000034,
          -0.018330000000000013,
          0.012249999999999983,
          -0.009200000000000014,
          0.015250000000000014,
          -0.11699999999999999,
          -0.08550000000000002,
          -0.372,
          -0.019499999999999962,
          -0.335,
          0.03650000000000003,
          -0.08129000000000003,
          0.186,
          -0.09962000000000001,
          -0.16666,
          0.2665,
          0.20499999999999996,
          0.43274999999999997,
          0.0030000000000000027,
          0.583,
          -0.06067,
          -0.025999999999999912,
          -0.007500000000000062,
          0.0605,
          0.41033,
          -0.0047399999999999665,
          0.03975000000000001,
          0.04671000000000003,
          0.027749999999999997,
          -0.11099999999999999,
          0.10572000000000001,
          -0.011330000000000007,
          0.0011800000000000144,
          0.14167,
          0.1605,
          -0.322,
          -0.1685,
          -0.01770000000000002,
          -0.355,
          -0.25417,
          0.5189999999999999,
          -0.012699999999999989,
          0.006500000000000006,
          -0.0862,
          0.4125,
          -0.16559999999999997,
          -0.11567,
          -0.23454999999999998,
          0.32400000000000007,
          -0.07016,
          0.20533,
          0.12719000000000003,
          0.08521000000000001,
          0.45283,
          0.09062999999999999,
          0.10349999999999998,
          -0.05452999999999997,
          0.041000000000000036,
          0.0030000000000000027,
          0.27832999999999997,
          0.12259999999999999,
          -0.0695,
          0.16749999999999998,
          0.09395,
          0.16800000000000004,
          -0.1695,
          0.01368999999999998,
          0.07999999999999999,
          -0.17329999999999995,
          -0.14999999999999997,
          -0.47000000000000003,
          -0.06568999999999997,
          -0.014499999999999957,
          -0.05884,
          -0.06132999999999997,
          -0.19717,
          0.040669999999999984,
          -0.09,
          -0.025999999999999995,
          -0.21075,
          0.02,
          -0.16849999999999993,
          -0.34049999999999997,
          -0.1895,
          0.02556,
          -0.30625,
          -0.09066000000000002,
          -0.07567000000000002,
          0.424,
          -0.18267,
          0.2885,
          0.15850000000000003,
          0.0023300000000000542,
          0.07882999999999996,
          0.06258000000000002,
          0.07749999999999996,
          -0.133,
          0.13967000000000002,
          0,
          0.11158000000000001,
          -0.04899999999999999,
          0.306,
          -0.17550000000000002,
          -0.17700000000000002,
          0.27666999999999997,
          -0.05559999999999998,
          0.15270000000000003,
          0.06813,
          -0.11879999999999996,
          -0.016350000000000003,
          0.02400000000000002,
          0.417,
          0.02632000000000001,
          0.1745,
          0.316,
          0.03915000000000002,
          0.10650000000000001,
          0.303,
          -0.09449999999999997,
          -0.02275000000000002,
          -0.0748,
          0.272,
          -0.025170000000000026,
          -0.07850000000000001,
          0.42767,
          -0.01369999999999999,
          0.11274999999999996,
          -0.16575,
          0.07399999999999998,
          0.4405,
          0.394,
          0.21600000000000003,
          -0.055999999999999994,
          -0.19717,
          0.07329999999999998,
          0.2495,
          0.07,
          0.31233,
          -0.07333,
          -0.5439999999999999,
          -0.106,
          -0.309,
          0.0010000000000000009,
          0.04600000000000004,
          -0.0032999999999999696,
          0.038000000000000006,
          -0.13333,
          -0.07999999999999996,
          0.18599999999999997,
          0.39099999999999996,
          -0.030000000000000027,
          0.11166999999999999,
          -0.042669999999999986,
          0.10032999999999997,
          -0.07139999999999999,
          -0.35800000000000004,
          -0.13400000000000006,
          -0.044999999999999984,
          -0.17387000000000002,
          -0.08999999999999997,
          0.3705,
          0.0050000000000000044,
          -0.11499999999999999,
          -0.23399999999999999,
          0.14500000000000002,
          0.16033,
          0.184,
          0.009180000000000021,
          -0.14117000000000002,
          -0.0625,
          0.394,
          0.0050000000000000044,
          0.37367,
          0.4264,
          -0.08400000000000002,
          -0.016199999999999992,
          -0.11216999999999999,
          0.23199999999999998,
          0.028000000000000025,
          -0.027139999999999997,
          -0.04808000000000001,
          0.559,
          0.33639,
          0.5865,
          -0.0010000000000000009,
          0.42400000000000004,
          0.01200000000000001,
          0.14467000000000002,
          0.22999999999999998,
          0.11567,
          0.026709999999999984,
          0.017500000000000016,
          0.06267,
          0.16399999999999998,
          -0.16182999999999997,
          -0.579,
          -0.374,
          0.15733000000000003,
          0,
          0.2732,
          0.5215,
          -0.05852999999999997,
          -0.06275000000000003,
          -0.036129999999999995,
          -0.06975,
          -0.30700000000000005,
          -0.1053,
          -0.05450000000000005,
          -0.034,
          -0.44799999999999995,
          -0.04000000000000001,
          -0.23250000000000004,
          -0.372,
          0.003269999999999995,
          -0.142,
          0.11950000000000002,
          -0.08549999999999999,
          -0.266,
          -0.27899999999999997,
          -0.09083,
          -0.04666999999999999,
          0.02200000000000002,
          0.24800000000000003,
          0.18532999999999997,
          0.06733,
          -0.745,
          -0.011669999999999958,
          -0.14125,
          -0.04899999999999999,
          -0.4395,
          -0.059,
          -0.4605,
          0.085,
          0.30174999999999996,
          -0.289,
          0.27659999999999996,
          0.027000000000000024,
          0.02949999999999997,
          0.27999999999999997,
          -0.12292,
          0.014920000000000017,
          -0.061,
          0.01433000000000001,
          -0.315,
          -0.36800000000000005,
          0.13433,
          -0.43600000000000005,
          0.04999999999999999,
          0.14600000000000002,
          -0.361,
          -0.17300000000000001,
          0.13499999999999998,
          0.07,
          -0.08717,
          0,
          0.13075000000000003,
          0.3535,
          0.44699999999999995,
          0.09467000000000003,
          -0.020000000000000018,
          0.0605,
          -0.06864999999999999,
          -0.10233000000000003,
          -0.0050000000000000044,
          0.16299999999999998,
          0.10599999999999998,
          -0.025000000000000022,
          0.08100000000000002,
          -0.3544999999999999,
          0.00839999999999999,
          -0.10000000000000003,
          0.17117,
          -0.061,
          -0.0645,
          0.11132999999999998,
          -0.063,
          -0.29050000000000004,
          0.030999999999999972,
          0.08367,
          -0.10149999999999998,
          0.424,
          -0.1735,
          0.016999999999999987,
          -0.11399999999999999,
          0.385,
          0.132,
          0.421,
          0.0030000000000000027,
          0.13882999999999998,
          -0.48500000000000004,
          -0.10799999999999998,
          0.3845,
          0.185,
          -0.02350000000000002,
          0.5529999999999999,
          0.03650000000000009,
          -0.08767000000000003,
          0.428,
          -0.051000000000000045,
          0.378,
          -0.1725,
          0.40399999999999997,
          0.04379999999999998,
          -0.11417000000000002,
          0.528,
          -0.031940000000000024,
          0.03700000000000003,
          0,
          -0.11499999999999999,
          -0.125,
          -0.01366999999999996,
          0.25,
          0.25,
          -0.011419999999999986,
          0.3515,
          -0.08267,
          0.169,
          0.12032999999999996,
          0.391,
          0.128,
          0.15742,
          0.09516999999999998,
          0.09399999999999997,
          0.048000000000000015,
          0.289,
          -0.05517,
          0.45200000000000007,
          -0.018000000000000016,
          -0.21117000000000002,
          -0.14133,
          -0.248,
          0.12817,
          -0.123,
          -0.029449999999999976,
          0.0204,
          -0.35050000000000003,
          -0.538,
          -0.087,
          -0.681,
          0.01849999999999999,
          -0.46714,
          -0.06175000000000003,
          -0.2965,
          -0.5255,
          -0.653,
          -0.18800000000000003,
          0.093,
          0.04933000000000004,
          -0.316,
          0.35300000000000004,
          -0.051999999999999935,
          0.04800000000000004,
          0.05399999999999999,
          0.20332999999999998,
          -0.020999999999999963,
          -0.182,
          -0.229,
          -0.09767,
          -0.259,
          -0.2505,
          -0.03633000000000003,
          -0.22800000000000004,
          -0.03300000000000003,
          -0.015999999999999986,
          -0.0635,
          0.031000000000000028,
          -0.03149999999999997,
          0.02999999999999997,
          0.006000000000000005,
          0.1489999999999999,
          0,
          -0.025000000000000022,
          0,
          0.2105,
          -0.02100000000000002,
          -0.17027,
          -0.328,
          0.123,
          0.15333,
          -0.12150000000000005,
          0.21,
          -0.14400000000000002,
          0.0020000000000000018,
          -0.034999999999999976,
          0.385,
          0.32,
          0.363,
          0.12517000000000003,
          -0.121,
          0.374,
          0.10250000000000001,
          0.118,
          -0.132,
          0.010000000000000009,
          -0.17099999999999993,
          0.1675,
          0.258,
          -0.378,
          -0.359,
          -0.556,
          -0.026000000000000002,
          -0.46900000000000003,
          0.136,
          0.005,
          -0.202,
          0.371,
          -0.122,
          0.12699999999999997,
          0.008000000000000007,
          0.10700000000000004,
          0.15967000000000003,
          0.04799999999999999,
          0.0040000000000000036,
          0.020499999999999963,
          0.024999999999999994,
          0.23149999999999998,
          0.097,
          0.165,
          -0.03400000000000003,
          -0.10699999999999998,
          0.2055,
          -0.222,
          -0.11300000000000002,
          -0.11349999999999999,
          -0.278,
          -0.10599999999999998,
          -0.05499999999999999,
          -0.1245,
          0.03520000000000001,
          0.0050000000000000044,
          -0.18750000000000003,
          -0.1005,
          -0.6585,
          -0.10399999999999998,
          0.0006599999999999939,
          0.05499999999999999,
          0.19249999999999995,
          -0.04987999999999998,
          -0.039000000000000035,
          0.14349999999999996,
          -0.05099999999999999,
          -0.737,
          -0.56,
          -0.42517,
          -0.09000000000000008,
          0.02300000000000002,
          0.059,
          0.02799999999999997,
          0.11299999999999999,
          -0.1805,
          0,
          -0.047500000000000014,
          -0.381,
          -0.172,
          0.0575,
          -0.3335,
          -0.657,
          -0.044999999999999984,
          0.12199999999999997,
          0.007000000000000006,
          0.418,
          0.15499999999999992,
          0.534,
          0.09670000000000001,
          0.08050000000000002,
          0.032999999999999974,
          -0.43550000000000005,
          -0.38549999999999995,
          -0.10899999999999999,
          -0.354,
          -0.034499999999999975,
          0.10499999999999998,
          0.46799999999999997,
          0.2185,
          -0.12032999999999999,
          -0.269,
          -0.426,
          0.20599999999999996,
          0.0050000000000000044,
          0.16299999999999998,
          0.08800000000000002,
          -0.1615,
          0.285,
          -0.026500000000000024,
          -0.22,
          -0.29500000000000004,
          -0.4785,
          0.256,
          -0.325,
          -0.0009999999999998899,
          -0.057999999999999996,
          -0.552,
          -0.2965,
          -0.374,
          -0.367,
          -0.26175000000000004,
          0.2495,
          0.028000000000000025,
          -0.069,
          0.172,
          -0.006000000000000005,
          0.096,
          -0.47100000000000003,
          0.016000000000000014,
          0.18733000000000002,
          -0.483,
          -0.261,
          -0.07460000000000001,
          -0.31982999999999995,
          -0.5579999999999999,
          -0.251,
          -0.11699999999999999,
          -0.391,
          -0.543,
          -0.09899999999999998,
          0.03699999999999992,
          0.452,
          -0.534,
          -0.153,
          -0.197,
          -0.068,
          -0.138,
          0.38300000000000006,
          0.237,
          0.17600000000000005,
          0.11599999999999999,
          -0.235,
          0.020000000000000018,
          -0.07100000000000001,
          -0.175,
          -0.29950000000000004,
          -0.701,
          0.275,
          0.24467000000000005,
          0.09866999999999998,
          -0.315,
          0.334,
          0,
          0.259,
          -0.16599999999999998,
          -0.069,
          -0.05500000000000005,
          -0.20400000000000007,
          -0.591,
          -0.19700000000000006,
          0.488,
          0.371,
          0.33099999999999996,
          0.7090000000000001,
          0.617,
          -0.15799999999999992,
          0.238,
          -0.0020000000000000018,
          0.050000000000000044,
          0.179,
          -0.07349999999999995,
          -0.006000000000000005,
          0.008500000000000063,
          -0.04299999999999993,
          -0.04299999999999993,
          -0.05249999999999999,
          -0.03700000000000003,
          -0.13,
          0.17500000000000004,
          0.33099999999999996,
          0.135,
          -0.0020000000000000018,
          -0.05499999999999999
         ],
         "yaxis": "y"
        }
       ],
       "layout": {
        "coloraxis": {
         "colorbar": {
          "title": {
           "text": "score_avg"
          }
         },
         "colorscale": [
          [
           0,
           "#0d0887"
          ],
          [
           0.1111111111111111,
           "#46039f"
          ],
          [
           0.2222222222222222,
           "#7201a8"
          ],
          [
           0.3333333333333333,
           "#9c179e"
          ],
          [
           0.4444444444444444,
           "#bd3786"
          ],
          [
           0.5555555555555556,
           "#d8576b"
          ],
          [
           0.6666666666666666,
           "#ed7953"
          ],
          [
           0.7777777777777778,
           "#fb9f3a"
          ],
          [
           0.8888888888888888,
           "#fdca26"
          ],
          [
           1,
           "#f0f921"
          ]
         ]
        },
        "height": 600,
        "legend": {
         "tracegroupgap": 0
        },
        "template": {
         "data": {
          "bar": [
           {
            "error_x": {
             "color": "#2a3f5f"
            },
            "error_y": {
             "color": "#2a3f5f"
            },
            "marker": {
             "line": {
              "color": "#E5ECF6",
              "width": 0.5
             },
             "pattern": {
              "fillmode": "overlay",
              "size": 10,
              "solidity": 0.2
             }
            },
            "type": "bar"
           }
          ],
          "barpolar": [
           {
            "marker": {
             "line": {
              "color": "#E5ECF6",
              "width": 0.5
             },
             "pattern": {
              "fillmode": "overlay",
              "size": 10,
              "solidity": 0.2
             }
            },
            "type": "barpolar"
           }
          ],
          "carpet": [
           {
            "aaxis": {
             "endlinecolor": "#2a3f5f",
             "gridcolor": "white",
             "linecolor": "white",
             "minorgridcolor": "white",
             "startlinecolor": "#2a3f5f"
            },
            "baxis": {
             "endlinecolor": "#2a3f5f",
             "gridcolor": "white",
             "linecolor": "white",
             "minorgridcolor": "white",
             "startlinecolor": "#2a3f5f"
            },
            "type": "carpet"
           }
          ],
          "choropleth": [
           {
            "colorbar": {
             "outlinewidth": 0,
             "ticks": ""
            },
            "type": "choropleth"
           }
          ],
          "contour": [
           {
            "colorbar": {
             "outlinewidth": 0,
             "ticks": ""
            },
            "colorscale": [
             [
              0,
              "#0d0887"
             ],
             [
              0.1111111111111111,
              "#46039f"
             ],
             [
              0.2222222222222222,
              "#7201a8"
             ],
             [
              0.3333333333333333,
              "#9c179e"
             ],
             [
              0.4444444444444444,
              "#bd3786"
             ],
             [
              0.5555555555555556,
              "#d8576b"
             ],
             [
              0.6666666666666666,
              "#ed7953"
             ],
             [
              0.7777777777777778,
              "#fb9f3a"
             ],
             [
              0.8888888888888888,
              "#fdca26"
             ],
             [
              1,
              "#f0f921"
             ]
            ],
            "type": "contour"
           }
          ],
          "contourcarpet": [
           {
            "colorbar": {
             "outlinewidth": 0,
             "ticks": ""
            },
            "type": "contourcarpet"
           }
          ],
          "heatmap": [
           {
            "colorbar": {
             "outlinewidth": 0,
             "ticks": ""
            },
            "colorscale": [
             [
              0,
              "#0d0887"
             ],
             [
              0.1111111111111111,
              "#46039f"
             ],
             [
              0.2222222222222222,
              "#7201a8"
             ],
             [
              0.3333333333333333,
              "#9c179e"
             ],
             [
              0.4444444444444444,
              "#bd3786"
             ],
             [
              0.5555555555555556,
              "#d8576b"
             ],
             [
              0.6666666666666666,
              "#ed7953"
             ],
             [
              0.7777777777777778,
              "#fb9f3a"
             ],
             [
              0.8888888888888888,
              "#fdca26"
             ],
             [
              1,
              "#f0f921"
             ]
            ],
            "type": "heatmap"
           }
          ],
          "heatmapgl": [
           {
            "colorbar": {
             "outlinewidth": 0,
             "ticks": ""
            },
            "colorscale": [
             [
              0,
              "#0d0887"
             ],
             [
              0.1111111111111111,
              "#46039f"
             ],
             [
              0.2222222222222222,
              "#7201a8"
             ],
             [
              0.3333333333333333,
              "#9c179e"
             ],
             [
              0.4444444444444444,
              "#bd3786"
             ],
             [
              0.5555555555555556,
              "#d8576b"
             ],
             [
              0.6666666666666666,
              "#ed7953"
             ],
             [
              0.7777777777777778,
              "#fb9f3a"
             ],
             [
              0.8888888888888888,
              "#fdca26"
             ],
             [
              1,
              "#f0f921"
             ]
            ],
            "type": "heatmapgl"
           }
          ],
          "histogram": [
           {
            "marker": {
             "pattern": {
              "fillmode": "overlay",
              "size": 10,
              "solidity": 0.2
             }
            },
            "type": "histogram"
           }
          ],
          "histogram2d": [
           {
            "colorbar": {
             "outlinewidth": 0,
             "ticks": ""
            },
            "colorscale": [
             [
              0,
              "#0d0887"
             ],
             [
              0.1111111111111111,
              "#46039f"
             ],
             [
              0.2222222222222222,
              "#7201a8"
             ],
             [
              0.3333333333333333,
              "#9c179e"
             ],
             [
              0.4444444444444444,
              "#bd3786"
             ],
             [
              0.5555555555555556,
              "#d8576b"
             ],
             [
              0.6666666666666666,
              "#ed7953"
             ],
             [
              0.7777777777777778,
              "#fb9f3a"
             ],
             [
              0.8888888888888888,
              "#fdca26"
             ],
             [
              1,
              "#f0f921"
             ]
            ],
            "type": "histogram2d"
           }
          ],
          "histogram2dcontour": [
           {
            "colorbar": {
             "outlinewidth": 0,
             "ticks": ""
            },
            "colorscale": [
             [
              0,
              "#0d0887"
             ],
             [
              0.1111111111111111,
              "#46039f"
             ],
             [
              0.2222222222222222,
              "#7201a8"
             ],
             [
              0.3333333333333333,
              "#9c179e"
             ],
             [
              0.4444444444444444,
              "#bd3786"
             ],
             [
              0.5555555555555556,
              "#d8576b"
             ],
             [
              0.6666666666666666,
              "#ed7953"
             ],
             [
              0.7777777777777778,
              "#fb9f3a"
             ],
             [
              0.8888888888888888,
              "#fdca26"
             ],
             [
              1,
              "#f0f921"
             ]
            ],
            "type": "histogram2dcontour"
           }
          ],
          "mesh3d": [
           {
            "colorbar": {
             "outlinewidth": 0,
             "ticks": ""
            },
            "type": "mesh3d"
           }
          ],
          "parcoords": [
           {
            "line": {
             "colorbar": {
              "outlinewidth": 0,
              "ticks": ""
             }
            },
            "type": "parcoords"
           }
          ],
          "pie": [
           {
            "automargin": true,
            "type": "pie"
           }
          ],
          "scatter": [
           {
            "fillpattern": {
             "fillmode": "overlay",
             "size": 10,
             "solidity": 0.2
            },
            "type": "scatter"
           }
          ],
          "scatter3d": [
           {
            "line": {
             "colorbar": {
              "outlinewidth": 0,
              "ticks": ""
             }
            },
            "marker": {
             "colorbar": {
              "outlinewidth": 0,
              "ticks": ""
             }
            },
            "type": "scatter3d"
           }
          ],
          "scattercarpet": [
           {
            "marker": {
             "colorbar": {
              "outlinewidth": 0,
              "ticks": ""
             }
            },
            "type": "scattercarpet"
           }
          ],
          "scattergeo": [
           {
            "marker": {
             "colorbar": {
              "outlinewidth": 0,
              "ticks": ""
             }
            },
            "type": "scattergeo"
           }
          ],
          "scattergl": [
           {
            "marker": {
             "colorbar": {
              "outlinewidth": 0,
              "ticks": ""
             }
            },
            "type": "scattergl"
           }
          ],
          "scattermapbox": [
           {
            "marker": {
             "colorbar": {
              "outlinewidth": 0,
              "ticks": ""
             }
            },
            "type": "scattermapbox"
           }
          ],
          "scatterpolar": [
           {
            "marker": {
             "colorbar": {
              "outlinewidth": 0,
              "ticks": ""
             }
            },
            "type": "scatterpolar"
           }
          ],
          "scatterpolargl": [
           {
            "marker": {
             "colorbar": {
              "outlinewidth": 0,
              "ticks": ""
             }
            },
            "type": "scatterpolargl"
           }
          ],
          "scatterternary": [
           {
            "marker": {
             "colorbar": {
              "outlinewidth": 0,
              "ticks": ""
             }
            },
            "type": "scatterternary"
           }
          ],
          "surface": [
           {
            "colorbar": {
             "outlinewidth": 0,
             "ticks": ""
            },
            "colorscale": [
             [
              0,
              "#0d0887"
             ],
             [
              0.1111111111111111,
              "#46039f"
             ],
             [
              0.2222222222222222,
              "#7201a8"
             ],
             [
              0.3333333333333333,
              "#9c179e"
             ],
             [
              0.4444444444444444,
              "#bd3786"
             ],
             [
              0.5555555555555556,
              "#d8576b"
             ],
             [
              0.6666666666666666,
              "#ed7953"
             ],
             [
              0.7777777777777778,
              "#fb9f3a"
             ],
             [
              0.8888888888888888,
              "#fdca26"
             ],
             [
              1,
              "#f0f921"
             ]
            ],
            "type": "surface"
           }
          ],
          "table": [
           {
            "cells": {
             "fill": {
              "color": "#EBF0F8"
             },
             "line": {
              "color": "white"
             }
            },
            "header": {
             "fill": {
              "color": "#C8D4E3"
             },
             "line": {
              "color": "white"
             }
            },
            "type": "table"
           }
          ]
         },
         "layout": {
          "annotationdefaults": {
           "arrowcolor": "#2a3f5f",
           "arrowhead": 0,
           "arrowwidth": 1
          },
          "autotypenumbers": "strict",
          "coloraxis": {
           "colorbar": {
            "outlinewidth": 0,
            "ticks": ""
           }
          },
          "colorscale": {
           "diverging": [
            [
             0,
             "#8e0152"
            ],
            [
             0.1,
             "#c51b7d"
            ],
            [
             0.2,
             "#de77ae"
            ],
            [
             0.3,
             "#f1b6da"
            ],
            [
             0.4,
             "#fde0ef"
            ],
            [
             0.5,
             "#f7f7f7"
            ],
            [
             0.6,
             "#e6f5d0"
            ],
            [
             0.7,
             "#b8e186"
            ],
            [
             0.8,
             "#7fbc41"
            ],
            [
             0.9,
             "#4d9221"
            ],
            [
             1,
             "#276419"
            ]
           ],
           "sequential": [
            [
             0,
             "#0d0887"
            ],
            [
             0.1111111111111111,
             "#46039f"
            ],
            [
             0.2222222222222222,
             "#7201a8"
            ],
            [
             0.3333333333333333,
             "#9c179e"
            ],
            [
             0.4444444444444444,
             "#bd3786"
            ],
            [
             0.5555555555555556,
             "#d8576b"
            ],
            [
             0.6666666666666666,
             "#ed7953"
            ],
            [
             0.7777777777777778,
             "#fb9f3a"
            ],
            [
             0.8888888888888888,
             "#fdca26"
            ],
            [
             1,
             "#f0f921"
            ]
           ],
           "sequentialminus": [
            [
             0,
             "#0d0887"
            ],
            [
             0.1111111111111111,
             "#46039f"
            ],
            [
             0.2222222222222222,
             "#7201a8"
            ],
            [
             0.3333333333333333,
             "#9c179e"
            ],
            [
             0.4444444444444444,
             "#bd3786"
            ],
            [
             0.5555555555555556,
             "#d8576b"
            ],
            [
             0.6666666666666666,
             "#ed7953"
            ],
            [
             0.7777777777777778,
             "#fb9f3a"
            ],
            [
             0.8888888888888888,
             "#fdca26"
            ],
            [
             1,
             "#f0f921"
            ]
           ]
          },
          "colorway": [
           "#636efa",
           "#EF553B",
           "#00cc96",
           "#ab63fa",
           "#FFA15A",
           "#19d3f3",
           "#FF6692",
           "#B6E880",
           "#FF97FF",
           "#FECB52"
          ],
          "font": {
           "color": "#2a3f5f"
          },
          "geo": {
           "bgcolor": "white",
           "lakecolor": "white",
           "landcolor": "#E5ECF6",
           "showlakes": true,
           "showland": true,
           "subunitcolor": "white"
          },
          "hoverlabel": {
           "align": "left"
          },
          "hovermode": "closest",
          "mapbox": {
           "style": "light"
          },
          "paper_bgcolor": "white",
          "plot_bgcolor": "#E5ECF6",
          "polar": {
           "angularaxis": {
            "gridcolor": "white",
            "linecolor": "white",
            "ticks": ""
           },
           "bgcolor": "#E5ECF6",
           "radialaxis": {
            "gridcolor": "white",
            "linecolor": "white",
            "ticks": ""
           }
          },
          "scene": {
           "xaxis": {
            "backgroundcolor": "#E5ECF6",
            "gridcolor": "white",
            "gridwidth": 2,
            "linecolor": "white",
            "showbackground": true,
            "ticks": "",
            "zerolinecolor": "white"
           },
           "yaxis": {
            "backgroundcolor": "#E5ECF6",
            "gridcolor": "white",
            "gridwidth": 2,
            "linecolor": "white",
            "showbackground": true,
            "ticks": "",
            "zerolinecolor": "white"
           },
           "zaxis": {
            "backgroundcolor": "#E5ECF6",
            "gridcolor": "white",
            "gridwidth": 2,
            "linecolor": "white",
            "showbackground": true,
            "ticks": "",
            "zerolinecolor": "white"
           }
          },
          "shapedefaults": {
           "line": {
            "color": "#2a3f5f"
           }
          },
          "ternary": {
           "aaxis": {
            "gridcolor": "white",
            "linecolor": "white",
            "ticks": ""
           },
           "baxis": {
            "gridcolor": "white",
            "linecolor": "white",
            "ticks": ""
           },
           "bgcolor": "#E5ECF6",
           "caxis": {
            "gridcolor": "white",
            "linecolor": "white",
            "ticks": ""
           }
          },
          "title": {
           "x": 0.05
          },
          "xaxis": {
           "automargin": true,
           "gridcolor": "white",
           "linecolor": "white",
           "ticks": "",
           "title": {
            "standoff": 15
           },
           "zerolinecolor": "white",
           "zerolinewidth": 2
          },
          "yaxis": {
           "automargin": true,
           "gridcolor": "white",
           "linecolor": "white",
           "ticks": "",
           "title": {
            "standoff": 15
           },
           "zerolinecolor": "white",
           "zerolinewidth": 2
          }
         }
        },
        "title": {
         "text": "Concepts growth from 2014 to 2019"
        },
        "xaxis": {
         "anchor": "y",
         "domain": [
          0,
          1
         ],
         "title": {
          "text": "freq_growth"
         }
        },
        "yaxis": {
         "anchor": "x",
         "domain": [
          0,
          1
         ],
         "title": {
          "text": "score_growth"
         }
        }
       }
      },
      "text/html": [
       "<div>                            <div id=\"f8af9e89-24aa-4a5b-95db-b153abb6ca1e\" class=\"plotly-graph-div\" style=\"height:600px; width:100%;\"></div>            <script type=\"text/javascript\">                require([\"plotly\"], function(Plotly) {                    window.PLOTLYENV=window.PLOTLYENV || {};                                    if (document.getElementById(\"f8af9e89-24aa-4a5b-95db-b153abb6ca1e\")) {                    Plotly.newPlot(                        \"f8af9e89-24aa-4a5b-95db-b153abb6ca1e\",                        [{\"customdata\":[[\"firms\",52,0.39963],[\"democracy\",40,0.4138],[\"ontology\",20,0.2797],[\"objects\",74,0.27441],[\"tool\",63,0.20624],[\"knowledge\",190,0.27647],[\"definition\",93,0.21124],[\"text\",121,0.39309],[\"topic\",75,0.32944],[\"elements\",71,0.22579],[\"authorities\",73,0.39468],[\"questions\",325,0.33662],[\"process\",259,0.22924],[\"procedure\",45,0.20549],[\"community\",194,0.36021],[\"purpose\",107,0.23876],[\"alternative\",43,0.21542],[\"area\",77,0.20512],[\"reasons\",169,0.32465],[\"relationship\",214,0.29134],[\"theory\",494,0.31919],[\"place\",115,0.33058],[\"understanding\",234,0.3044],[\"law\",184,0.39266],[\"individuals\",112,0.31133],[\"role\",304,0.25963],[\"inquiry\",53,0.36842],[\"changes\",128,0.20856],[\"activity\",94,0.21343],[\"doctrine\",64,0.42955],[\"theorists\",54,0.41598],[\"justification\",69,0.40633],[\"argument\",201,0.33677],[\"acts\",71,0.3357],[\"sense\",149,0.3401],[\"foundation\",89,0.35778],[\"harm\",37,0.3757],[\"war\",50,0.33236],[\"action\",128,0.3023],[\"article\",455,0.33588],[\"jurisdictions\",11,0.41564],[\"matter\",69,0.31639],[\"countries\",73,0.34092],[\"part\",204,0.27809],[\"state\",219,0.28284],[\"form\",233,0.27159],[\"side\",33,0.25482],[\"killing\",4,0.353],[\"efforts\",97,0.28102],[\"force\",59,0.25785],[\"status\",71,0.23396],[\"aggression\",11,0.40327],[\"services\",54,0.27804],[\"benefits\",71,0.25018],[\"scientific explanation\",6,0.37233],[\"science\",302,0.34141],[\"subjectivity\",26,0.40969],[\"nature\",229,0.31935],[\"Kant\",44,0.42925],[\"Heidegger\",9,0.41933],[\"philosophy\",220,0.44442],[\"reflection\",108,0.34306],[\"world\",234,0.31209],[\"ground\",74,0.3578],[\"explanation\",111,0.29115],[\"scope\",42,0.30698],[\"possibility\",99,0.2563],[\"limit\",45,0.24551],[\"origin\",87,0.26708],[\"discovery\",37,0.22011],[\"physics\",42,0.35383],[\"phenomenon\",85,0.26188],[\"principles\",182,0.30543],[\"idea\",201,0.37344],[\"fact\",138,0.30637],[\"answers\",48,0.27021],[\"paradox\",23,0.21839],[\"end\",108,0.2608],[\"distinction\",72,0.35133],[\"claims\",154,0.37186],[\"suffering\",28,0.33068],[\"interpretation\",159,0.32007],[\"scientists\",66,0.29077],[\"neglect\",6,0.32283],[\"problem\",274,0.23199],[\"example\",164,0.23127],[\"differences\",130,0.21012],[\"pain\",13,0.22115],[\"notion\",146,0.34868],[\"discourse\",83,0.39988],[\"implications\",136,0.30742],[\"discussion\",170,0.37405],[\"relation\",221,0.33181],[\"support\",60,0.25817],[\"terms\",219,0.22613],[\"formulation\",29,0.20407],[\"use\",177,0.20973],[\"theorem\",33,0.29182],[\"transition\",26,0.20354],[\"development\",311,0.24444],[\"goal\",88,0.25493],[\"practice\",347,0.34227],[\"publications\",35,0.28757],[\"participants\",68,0.28459],[\"authors\",123,0.28042],[\"participation\",51,0.30531],[\"body\",86,0.27283],[\"fashion\",12,0.22692],[\"period\",87,0.26403],[\"majority\",35,0.20683],[\"mechanism\",56,0.20354],[\"gap\",35,0.24257],[\"point\",130,0.25069],[\"first step\",8,0.24038],[\"journals\",36,0.23681],[\"collection\",31,0.27197],[\"commentators\",14,0.24464],[\"name\",28,0.29439],[\"basis\",109,0.25035],[\"rights\",134,0.43961],[\"pages\",39,0.20105],[\"objections\",50,0.31722],[\"marginality\",3,0.29333],[\"government\",36,0.38128],[\"conception\",106,0.40332],[\"society\",178,0.36454],[\"border\",17,0.25094],[\"civilization\",21,0.29838],[\"thesis\",49,0.33735],[\"concern\",135,0.33931],[\"view\",286,0.32105],[\"study\",441,0.20674],[\"ethical challenges\",37,0.61451],[\"community engagement\",8,0.499],[\"qualitative interviews\",3,0.52433],[\"interviews\",47,0.32568],[\"challenges\",189,0.31131],[\"imperative\",15,0.3646],[\"policymakers\",6,0.37183],[\"responsibility\",83,0.44112],[\"engagement\",54,0.36567],[\"implementation\",31,0.22606],[\"research\",298,0.29433],[\"workers\",22,0.31418],[\"Africa\",28,0.37846],[\"interest\",168,0.30474],[\"Europe\",27,0.4247],[\"perspective\",199,0.34424],[\"America\",42,0.3675],[\"project\",89,0.32315],[\"resources\",84,0.28139],[\"healthcare workers\",2,0.396],[\"way\",408,0.31075],[\"power\",102,0.29196],[\"consensus\",40,0.27875],[\"difficulties\",71,0.25238],[\"technology\",104,0.2108],[\"position\",102,0.28375],[\"care\",131,0.33477],[\"one\",104,0.22499],[\"analysis\",277,0.21077],[\"prevention\",12,0.27825],[\"values\",181,0.22716],[\"eighteenth century\",12,0.49133],[\"century\",170,0.39829],[\"encounters\",32,0.38],[\"University\",121,0.23478],[\"nineteenth century\",26,0.56604],[\"sixteenth century\",4,0.63775],[\"history\",322,0.37468],[\"middle\",11,0.28264],[\"language\",102,0.39085],[\"scholars\",101,0.38603],[\"conversation\",44,0.38795],[\"Asia\",18,0.40167],[\"issues\",297,0.35945],[\"appeal\",34,0.38921],[\"present\",18,0.2735],[\"dozens\",3,0.346],[\"road\",9,0.22867],[\"space\",76,0.26167],[\"approach\",304,0.25765],[\"spirituality\",30,0.34597],[\"poems\",15,0.35367],[\"friends\",17,0.247],[\"memory\",35,0.30114],[\"women\",63,0.28213],[\"human beings\",25,0.63176],[\"common sense\",6,0.58383],[\"spirit\",44,0.31166],[\"self\",54,0.3755],[\"identity\",101,0.35319],[\"people\",185,0.35273],[\"God\",95,0.31717],[\"faith\",55,0.37482],[\"wholeness\",4,0.31975],[\"rituals\",23,0.32939],[\"being\",55,0.38971],[\"creators\",8,0.36525],[\"meaning\",110,0.31222],[\"things\",93,0.30781],[\"collectivity\",5,0.3328],[\"experience\",205,0.34052],[\"leaders\",28,0.34568],[\"dimensions\",98,0.28764],[\"music\",21,0.34471],[\"context\",314,0.34095],[\"schools\",69,0.3791],[\"moment\",31,0.31152],[\"instances\",58,0.27183],[\"different types\",11,0.25718],[\"images\",36,0.26553],[\"group\",140,0.21093],[\"time\",231,0.20418],[\"quality\",62,0.2171],[\"politics\",84,0.36354],[\"struggle\",25,0.35864],[\"Marxism\",9,0.34156],[\"chapter\",183,0.29865],[\"debate\",139,0.37776],[\"resurgence\",6,0.3185],[\"home\",18,0.30217],[\"life\",278,0.30263],[\"colonization\",6,0.35783],[\"dialogue\",59,0.43481],[\"narratives\",66,0.386],[\"story\",59,0.32095],[\"central role\",11,0.31464],[\"introduction\",88,0.24048],[\"art\",52,0.31556],[\"ethical issues\",68,0.64779],[\"duty\",55,0.43018],[\"obligations\",55,0.42369],[\"ethics\",239,0.48234],[\"reconciliation\",8,0.42662],[\"commitment\",89,0.40087],[\"profession\",22,0.39323],[\"medicine\",89,0.29571],[\"public\",35,0.39097],[\"tension\",67,0.36839],[\"necessity\",32,0.27359],[\"professionals\",26,0.37358],[\"practitioners\",49,0.34494],[\"trainees\",12,0.25758],[\"physicians\",45,0.33778],[\"need\",135,0.29399],[\"opportunities\",58,0.25414],[\"order\",209,0.21746],[\"training\",39,0.31477],[\"demand\",39,0.2969],[\"center\",37,0.2227],[\"intervention\",44,0.25791],[\"measures\",47,0.21153],[\"climate change\",12,0.28308],[\"infrastructure\",15,0.23907],[\"initiatives\",27,0.30822],[\"ideal\",44,0.38816],[\"moves\",21,0.25881],[\"intersection\",16,0.35412],[\"future\",56,0.27696],[\"enthusiasm\",9,0.25067],[\"movement\",71,0.29842],[\"limitations\",41,0.22471],[\"biases\",10,0.2851],[\"historical narrative\",6,0.39267],[\"hermeneutics\",15,0.32007],[\"voice\",29,0.39462],[\"ongoing debate\",5,0.3544],[\"epistemology\",46,0.40422],[\"methodological challenges\",6,0.3995],[\"Foucault\",11,0.42482],[\"humanity\",30,0.4301],[\"case study\",53,0.35442],[\"work\",363,0.28463],[\"agencies\",53,0.33332],[\"education\",134,0.41122],[\"attention\",162,0.31144],[\"medical education\",7,0.49129],[\"light\",127,0.26577],[\"influence\",88,0.22551],[\"insights\",80,0.26402],[\"barriers\",24,0.21521],[\"healthcare\",19,0.31868],[\"clinical practice\",11,0.38264],[\"recovery\",15,0.23007],[\"patients\",133,0.27583],[\"desire\",39,0.33644],[\"Christians\",30,0.43193],[\"Vatican II\",7,0.32829],[\"writing\",90,0.41161],[\"book\",154,0.27558],[\"teaching\",56,0.3847],[\"Council\",17,0.33059],[\"theologians\",28,0.44082],[\"Scripture\",19,0.38205],[\"Church\",76,0.3938],[\"reception\",16,0.32175],[\"themes\",67,0.37801],[\"regard\",28,0.27496],[\"religion\",216,0.4165],[\"theology\",122,0.36446],[\"Lonergan\",16,0.2425],[\"thought\",136,0.37078],[\"grace\",10,0.3352],[\"essay\",165,0.36647],[\"realm\",21,0.39948],[\"danger\",15,0.33173],[\"whole\",33,0.34309],[\"emphasis\",45,0.32662],[\"liberalism\",27,0.51374],[\"truth\",88,0.35801],[\"kind\",107,0.27045],[\"existence\",83,0.24294],[\"lessons\",35,0.31986],[\"strategies\",113,0.25596],[\"ability\",50,0.23294],[\"tradition\",160,0.42068],[\"appropriation\",10,0.4344],[\"verses\",10,0.3161],[\"concept\",229,0.32879],[\"audience\",25,0.38444],[\"account\",237,0.32941],[\"aspects\",139,0.31561],[\"parallel\",21,0.20924],[\"examination\",40,0.22235],[\"objective\",37,0.223],[\"survey\",36,0.22586],[\"ED\",23,0.2117],[\"trajectories\",18,0.26933],[\"violence\",29,0.40197],[\"conceptualization\",19,0.30668],[\"lens\",28,0.35414],[\"importance\",102,0.28854],[\"reading\",73,0.32518],[\"path\",31,0.21181],[\"nations\",34,0.35247],[\"territory\",11,0.32836],[\"independence\",22,0.30868],[\"title\",9,0.377],[\"relevance\",46,0.30402],[\"moral law\",5,0.728],[\"consciousness\",41,0.42261],[\"beliefs\",103,0.38081],[\"freedom\",49,0.34614],[\"feelings\",31,0.36768],[\"passage\",19,0.26979],[\"approval\",17,0.34247],[\"aim\",54,0.22822],[\"traces\",8,0.28763],[\"Aristotle\",23,0.3243],[\"categories\",60,0.27178],[\"division\",24,0.30967],[\"legacy\",24,0.30362],[\"contribution\",101,0.27753],[\"character\",66,0.29797],[\"members\",79,0.30197],[\"students\",72,0.33862],[\"family\",66,0.23086],[\"organ transplantation\",2,0.625],[\"content analysis\",10,0.4845],[\"literature\",153,0.31292],[\"transplantation\",9,0.35433],[\"connection\",76,0.30479],[\"focus\",96,0.31842],[\"overlap\",9,0.23456],[\"attitudes\",56,0.33466],[\"Kingdom\",16,0.44069],[\"events\",55,0.24085],[\"set\",123,0.20719],[\"main results\",6,0.22967],[\"proof\",52,0.22881],[\"transformation\",50,0.2633],[\"paper I\",32,0.42672],[\"philosophers\",93,0.43419],[\"intuition\",25,0.31592],[\"proposal\",44,0.26366],[\"link\",25,0.30852],[\"Bernard Lonergan\",9,0.35722],[\"preferential option\",2,0.258],[\"occasions\",10,0.3164],[\"roots\",37,0.26595],[\"twentieth century\",43,0.51047],[\"circumstances\",43,0.28088],[\"mode\",46,0.20746],[\"interaction\",67,0.21431],[\"perception\",65,0.31543],[\"proponents\",17,0.36182],[\"Mary\",5,0.3328],[\"incarnation\",8,0.2435],[\"anthology\",5,0.3104],[\"LE\",11,0.26255],[\"study of religion\",13,0.71223],[\"disciplines\",95,0.2782],[\"cult\",9,0.26822],[\"speech\",16,0.42931],[\"empiricism\",6,0.5495],[\"health\",90,0.30239],[\"liberty\",19,0.395],[\"thinkers\",37,0.44505],[\"justice\",90,0.42104],[\"culture\",120,0.37536],[\"market\",28,0.30604],[\"features\",99,0.20038],[\"religious institutions\",4,0.624],[\"exile\",5,0.4332],[\"Catholics\",11,0.42364],[\"conflict\",83,0.3672],[\"reform\",31,0.39139],[\"reformation\",13,0.37877],[\"refugees\",6,0.50367],[\"institutions\",92,0.38623],[\"emotions\",46,0.40213],[\"boundaries\",35,0.23383],[\"diversity\",63,0.31532],[\"dynamics\",49,0.229],[\"framework\",170,0.31006],[\"direction\",49,0.20449],[\"early twentieth century\",10,0.6141],[\"social relations\",7,0.47729],[\"activism\",8,0.47988],[\"era\",26,0.33808],[\"crisis\",51,0.31637],[\"membership\",17,0.32888],[\"organization\",96,0.33781],[\"creation\",49,0.30765],[\"vision\",46,0.26887],[\"rules\",77,0.31366],[\"program\",77,0.24635],[\"subjects\",91,0.28051],[\"world today\",4,0.3695],[\"today\",61,0.37377],[\"Islam\",45,0.47242],[\"intellectuals\",8,0.48762],[\"embrace\",6,0.36933],[\"revolution\",29,0.307],[\"mind\",84,0.37895],[\"citizenship\",31,0.46939],[\"sort\",36,0.30617],[\"significance\",82,0.26771],[\"adoption\",18,0.30978],[\"turn\",53,0.30887],[\"spring\",5,0.2002],[\"words\",60,0.30607],[\"certain kinds\",8,0.31888],[\"threat\",23,0.29957],[\"factors\",82,0.20426],[\"disability\",18,0.29561],[\"judgments\",69,0.37865],[\"worry\",8,0.3215],[\"decades\",58,0.31117],[\"evidence\",141,0.22827],[\"findings\",81,0.27391],[\"lack\",44,0.21318],[\"licensing\",3,0.29833],[\"behavior\",101,0.20627],[\"article I\",11,0.29655],[\"reality\",74,0.32323],[\"journey\",16,0.30506],[\"harmony\",13,0.39308],[\"peace\",15,0.30773],[\"aspiration\",14,0.33171],[\"face\",39,0.28926],[\"paradigm\",43,0.26558],[\"universe\",22,0.3175],[\"vulnerability\",14,0.31364],[\"death\",54,0.2287],[\"aid\",10,0.2694],[\"consequences\",87,0.28299],[\"reasoning\",56,0.36696],[\"affairs\",25,0.29796],[\"instrument\",22,0.25005],[\"achievement\",22,0.30573],[\"extent\",60,0.26177],[\"psychological experience\",3,0.50467],[\"evolution\",86,0.2863],[\"selection\",49,0.29739],[\"note\",31,0.22561],[\"best interests\",10,0.4806],[\"defense\",37,0.24968],[\"paternalism\",8,0.28062],[\"practical rationality\",3,0.21833],[\"rationality\",38,0.39542],[\"coherence\",12,0.26117],[\"wisdom\",27,0.27244],[\"political power\",2,0.6685],[\"corruption\",14,0.46814],[\"Nepal\",2,0.329],[\"construction\",57,0.26716],[\"conclusion\",71,0.22845],[\"sites\",39,0.22482],[\"meditation\",11,0.36564],[\"textbooks\",14,0.36479],[\"poetry\",12,0.3505],[\"generation\",36,0.21197],[\"Catholic Church\",14,0.52214],[\"Pope Francis\",6,0.39083],[\"reformers\",9,0.37656],[\"aesthetics\",15,0.39333],[\"mobilization\",3,0.25467],[\"impulses\",9,0.34989],[\"heart\",31,0.20865],[\"field\",129,0.24505],[\"anthropology\",19,0.43658],[\"scholarship\",60,0.3962],[\"edition\",20,0.3284],[\"anniversary\",3,0.34533],[\"ties\",9,0.30933],[\"last decade\",4,0.41375],[\"recent years\",23,0.32252],[\"variety\",72,0.22447],[\"association\",52,0.2019],[\"writers\",19,0.413],[\"coordination\",6,0.20883],[\"Christianity\",63,0.40513],[\"temptation\",9,0.509],[\"assertion\",11,0.45009],[\"documents\",29,0.35448],[\"impact\",76,0.24522],[\"handful\",4,0.379],[\"Canada\",121,0.28707],[\"mission\",32,0.37669],[\"praxis\",12,0.55625],[\"pedagogy\",22,0.36564],[\"calls\",32,0.31962],[\"love\",38,0.23905],[\"neighbours\",4,0.38475],[\"meeting\",25,0.24848],[\"Christ\",27,0.32907],[\"historians\",34,0.41424],[\"telling\",9,0.38811],[\"advances\",31,0.20329],[\"social values\",11,0.47655],[\"managers\",12,0.33008],[\"corporations\",29,0.37666],[\"hierarchy\",21,0.27181],[\"Young\",3,0.40133],[\"guide\",23,0.2453],[\"public life\",7,0.42686],[\"moral competencies\",2,0.777],[\"research participants\",10,0.4488],[\"competencies\",14,0.31443],[\"protection\",26,0.34088],[\"vocation\",4,0.27325],[\"witness\",21,0.3511],[\"revelation\",20,0.4028],[\"new perspective\",8,0.39925],[\"discipleship\",3,0.354],[\"deeds\",7,0.34771],[\"Lord\",8,0.31162],[\"Rahner\",3,0.327],[\"population\",69,0.26619],[\"guidance\",32,0.27775],[\"realist\",10,0.3525],[\"critique\",87,0.39886],[\"misconceptions\",7,0.39571],[\"eyes\",15,0.22973],[\"sovereignty\",18,0.34083],[\"citizens\",29,0.42817],[\"actors\",20,0.3661],[\"contingencies\",10,0.2749],[\"pieces\",14,0.33143],[\"choice\",67,0.25713],[\"intent\",10,0.3196],[\"region\",31,0.24358],[\"parties\",28,0.33129],[\"humans\",46,0.23517],[\"ethical questions\",10,0.4678],[\"permissibility\",5,0.4198],[\"decisions\",98,0.31513],[\"policy\",89,0.37401],[\"health care institutions\",3,0.595],[\"premise\",22,0.22968],[\"controversy\",34,0.31965],[\"exercise\",29,0.30238],[\"religiosity\",10,0.3001],[\"activists\",13,0.46377],[\"logic\",91,0.25886],[\"setting\",58,0.24672],[\"endeavor\",20,0.3646],[\"outline\",9,0.32889],[\"donation\",11,0.311],[\"environment\",79,0.22618],[\"network\",34,0.20056],[\"Wittgenstein\",16,0.40981],[\"own way\",4,0.389],[\"brain\",19,0.28353],[\"informed consent\",23,0.55752],[\"respect\",88,0.25082],[\"consent\",48,0.4184],[\"consideration\",101,0.29756],[\"trials\",41,0.25134],[\"conduct\",37,0.42897],[\"clinical trials\",15,0.25227],[\"discomfort\",4,0.2975],[\"success\",35,0.2296],[\"attempt\",72,0.35475],[\"buildings\",16,0.27662],[\"ethical analysis\",11,0.58936],[\"palliative sedation\",2,0.663],[\"palliative care\",6,0.47217],[\"euthanasia\",8,0.38038],[\"intention\",24,0.26837],[\"suicide\",5,0.4224],[\"withdrawal\",8,0.29725],[\"sedation\",8,0.406],[\"pediatric patients\",5,0.208],[\"sphere\",27,0.34837],[\"metaphor\",23,0.30578],[\"background\",34,0.30138],[\"medical act\",2,0.561],[\"key questions\",7,0.39443],[\"pursuit\",20,0.3084],[\"sections\",56,0.21857],[\"legitimacy\",25,0.4422],[\"India\",22,0.34395],[\"decline\",11,0.28345],[\"ethics of immigration\",3,0.75967],[\"political philosophy\",16,0.606],[\"great deal\",7,0.45857],[\"immigration\",14,0.34043],[\"deal\",13,0.36292],[\"sequence\",13,0.22369],[\"preferences\",24,0.27258],[\"risk\",62,0.24352],[\"fail\",2,0.219],[\"game\",10,0.235],[\"version\",71,0.25246],[\"broader context\",8,0.54875],[\"liberation\",14,0.22243],[\"Web\",13,0.22638],[\"rhetoric\",24,0.37475],[\"contradictions\",14,0.34979],[\"perceivers\",5,0.3464],[\"seeing\",4,0.285],[\"commerce\",4,0.25575],[\"thinking\",54,0.3495],[\"girls\",4,0.25375],[\"scientific discovery\",4,0.2095],[\"creatures\",9,0.37733],[\"sacrifice\",5,0.2058],[\"axioms\",16,0.244],[\"confrontation\",4,0.403],[\"Plato\",21,0.33452],[\"rejection\",26,0.34608],[\"plan\",25,0.21628],[\"disorders\",20,0.22295],[\"hardback\",7,0.22757],[\"piety\",6,0.46567],[\"portrait\",14,0.25779],[\"rulers\",7,0.46886],[\"injustice\",21,0.39962],[\"orthodoxy\",11,0.29536],[\"Spiritual Exercises\",3,0.58933],[\"discernment\",4,0.3775],[\"heritage\",12,0.40475],[\"cosmology\",11,0.33436],[\"end of life\",11,0.49345],[\"discussion groups\",2,0.4795],[\"health care\",22,0.39918],[\"nurses\",16,0.36112],[\"arrest\",5,0.2282],[\"team\",25,0.26708],[\"uncertainty\",31,0.20103],[\"creativity\",9,0.34644],[\"biology\",90,0.2757],[\"date\",25,0.23016],[\"commentary\",50,0.27928],[\"lacunae\",7,0.34314],[\"picture\",24,0.28208],[\"overview\",36,0.28825],[\"learning\",29,0.3521],[\"same time\",41,0.35615],[\"opposition\",25,0.39536],[\"belief systems\",4,0.631],[\"guise\",7,0.38829],[\"reporting\",10,0.311],[\"outcomes\",52,0.23944],[\"treatment\",82,0.23117],[\"inclusion\",21,0.30667],[\"integration\",20,0.24785],[\"twenty-first century\",11,0.51373],[\"constitutive norms\",2,0.738],[\"norms\",56,0.41641],[\"formalism\",7,0.30071],[\"Synoptic Gospels\",4,0.3405],[\"Gospel\",40,0.29518],[\"orality\",3,0.50033],[\"medium\",33,0.30258],[\"key\",11,0.244],[\"cognitive science\",15,0.66273],[\"social impact\",4,0.429],[\"emergence\",53,0.31623],[\"research ethics\",21,0.57538],[\"primary focus\",5,0.5058],[\"Hall\",8,0.25075],[\"open question\",8,0.30112],[\"ethical principles\",12,0.56292],[\"researchers\",73,0.29885],[\"guidelines\",38,0.32816],[\"funding\",18,0.26178],[\"ambivalence\",10,0.351],[\"innovation\",24,0.23917],[\"companies\",49,0.25739],[\"industry\",41,0.2628],[\"biomedical research\",13,0.27138],[\"threads\",9,0.31189],[\"synopsis\",2,0.289],[\"West\",16,0.32531],[\"scripts\",2,0.235],[\"deliberative democracy\",4,0.6125],[\"deliberation\",16,0.31294],[\"virtue\",65,0.41382],[\"capacity\",68,0.22518],[\"facilitation\",8,0.29188],[\"metaphysics\",34,0.40656],[\"south\",8,0.27712],[\"questionnaire\",7,0.24371],[\"establishment\",14,0.30993],[\"methodology\",32,0.26487],[\"assumption\",60,0.25998],[\"literacy\",10,0.4108],[\"translation\",42,0.25074],[\"domain\",53,0.22406],[\"cardinality\",4,0.2725],[\"current article\",2,0.291],[\"New Testament\",13,0.26208],[\"such work\",4,0.60475],[\"Testament\",20,0.25385],[\"repository\",4,0.28625],[\"China\",17,0.277],[\"nuances\",6,0.30567],[\"genre\",19,0.43616],[\"arrangement\",14,0.34407],[\"progress\",43,0.21814],[\"disclosure\",21,0.42267],[\"hand\",58,0.2559],[\"patient's condition\",2,0.3595],[\"later work\",5,0.6722],[\"affect\",7,0.36743],[\"secularism\",9,0.358],[\"Prophet\",15,0.316],[\"legislation\",12,0.26742],[\"situation\",71,0.30413],[\"access\",53,0.2816],[\"UK\",14,0.21486],[\"uses\",32,0.25303],[\"Quebec\",5,0.386],[\"recognition\",33,0.31291],[\"shift\",32,0.28653],[\"report\",37,0.20908],[\"comments\",29,0.28469],[\"life care\",9,0.49756],[\"expectations\",27,0.29341],[\"truth telling\",3,0.453],[\"youth\",13,0.39815],[\"children\",51,0.24741],[\"statements\",46,0.3068],[\"ethical practice\",6,0.6285],[\"ignorance\",6,0.3005],[\"Toronto\",49,0.27439],[\"Pakistan\",5,0.3604],[\"songs\",7,0.43057],[\"practical theology\",6,0.60083],[\"theological aspects\",2,0.6795],[\"worship\",8,0.23575],[\"grounding\",16,0.34406],[\"talk\",13,0.27269],[\"dilemma\",36,0.37769],[\"figures\",42,0.34164],[\"resemblance\",5,0.3434],[\"social justice\",13,0.57908],[\"Health Organization\",4,0.3215],[\"physicists\",10,0.4347],[\"late 1950s\",4,0.29325],[\"conflicts of interest\",13,0.567],[\"recommendations\",25,0.28316],[\"care settings\",8,0.3715],[\"residents\",9,0.25844],[\"diagnosis\",24,0.22108],[\"political thought\",16,0.49406],[\"refutation\",9,0.38478],[\"mathematics\",67,0.36757],[\"similarity\",24,0.20188],[\"laboratory experiments\",4,0.3105],[\"Campbell\",7,0.334],[\"awareness\",38,0.33253],[\"faith-based organizations\",3,0.566],[\"faith communities\",5,0.6012],[\"avenues\",10,0.2838],[\"morality\",49,0.43145],[\"rightness\",5,0.3554],[\"explanatory role\",6,0.40717],[\"research practices\",7,0.65629],[\"power dynamics\",7,0.48129],[\"such challenges\",2,0.2945],[\"credence\",5,0.2802],[\"practical reasons\",5,0.4598],[\"will\",18,0.34689],[\"religious traditions\",13,0.58677],[\"adults\",20,0.2016],[\"advice\",15,0.25213],[\"migrants\",3,0.46867],[\"security\",14,0.309],[\"safety\",12,0.25642],[\"liberal justice\",2,0.696],[\"John Rawls\",10,0.587],[\"political theorists\",9,0.66156],[\"J\\u00fcrgen Habermas\",4,0.38175],[\"Rawls\",14,0.51929],[\"Habermas\",11,0.32318],[\"CSR\",6,0.57167],[\"reputation\",13,0.42154],[\"followers\",10,0.3897],[\"multiculturalism\",12,0.50533],[\"basic principles\",3,0.51867],[\"candidates\",10,0.2166]],\"hovertemplate\":\"\\u003cb\\u003e%{hovertext}\\u003c\\u002fb\\u003e\\u003cbr\\u003e\\u003cbr\\u003efreq_growth=%{x}\\u003cbr\\u003escore_growth=%{y}\\u003cbr\\u003econcept=%{customdata[0]}\\u003cbr\\u003efrequency=%{customdata[1]}\\u003cbr\\u003escore_avg=%{marker.color}\\u003cextra\\u003e\\u003c\\u002fextra\\u003e\",\"hovertext\":[\"firms\",\"democracy\",\"ontology\",\"objects\",\"tool\",\"knowledge\",\"definition\",\"text\",\"topic\",\"elements\",\"authorities\",\"questions\",\"process\",\"procedure\",\"community\",\"purpose\",\"alternative\",\"area\",\"reasons\",\"relationship\",\"theory\",\"place\",\"understanding\",\"law\",\"individuals\",\"role\",\"inquiry\",\"changes\",\"activity\",\"doctrine\",\"theorists\",\"justification\",\"argument\",\"acts\",\"sense\",\"foundation\",\"harm\",\"war\",\"action\",\"article\",\"jurisdictions\",\"matter\",\"countries\",\"part\",\"state\",\"form\",\"side\",\"killing\",\"efforts\",\"force\",\"status\",\"aggression\",\"services\",\"benefits\",\"scientific explanation\",\"science\",\"subjectivity\",\"nature\",\"Kant\",\"Heidegger\",\"philosophy\",\"reflection\",\"world\",\"ground\",\"explanation\",\"scope\",\"possibility\",\"limit\",\"origin\",\"discovery\",\"physics\",\"phenomenon\",\"principles\",\"idea\",\"fact\",\"answers\",\"paradox\",\"end\",\"distinction\",\"claims\",\"suffering\",\"interpretation\",\"scientists\",\"neglect\",\"problem\",\"example\",\"differences\",\"pain\",\"notion\",\"discourse\",\"implications\",\"discussion\",\"relation\",\"support\",\"terms\",\"formulation\",\"use\",\"theorem\",\"transition\",\"development\",\"goal\",\"practice\",\"publications\",\"participants\",\"authors\",\"participation\",\"body\",\"fashion\",\"period\",\"majority\",\"mechanism\",\"gap\",\"point\",\"first step\",\"journals\",\"collection\",\"commentators\",\"name\",\"basis\",\"rights\",\"pages\",\"objections\",\"marginality\",\"government\",\"conception\",\"society\",\"border\",\"civilization\",\"thesis\",\"concern\",\"view\",\"study\",\"ethical challenges\",\"community engagement\",\"qualitative interviews\",\"interviews\",\"challenges\",\"imperative\",\"policymakers\",\"responsibility\",\"engagement\",\"implementation\",\"research\",\"workers\",\"Africa\",\"interest\",\"Europe\",\"perspective\",\"America\",\"project\",\"resources\",\"healthcare workers\",\"way\",\"power\",\"consensus\",\"difficulties\",\"technology\",\"position\",\"care\",\"one\",\"analysis\",\"prevention\",\"values\",\"eighteenth century\",\"century\",\"encounters\",\"University\",\"nineteenth century\",\"sixteenth century\",\"history\",\"middle\",\"language\",\"scholars\",\"conversation\",\"Asia\",\"issues\",\"appeal\",\"present\",\"dozens\",\"road\",\"space\",\"approach\",\"spirituality\",\"poems\",\"friends\",\"memory\",\"women\",\"human beings\",\"common sense\",\"spirit\",\"self\",\"identity\",\"people\",\"God\",\"faith\",\"wholeness\",\"rituals\",\"being\",\"creators\",\"meaning\",\"things\",\"collectivity\",\"experience\",\"leaders\",\"dimensions\",\"music\",\"context\",\"schools\",\"moment\",\"instances\",\"different types\",\"images\",\"group\",\"time\",\"quality\",\"politics\",\"struggle\",\"Marxism\",\"chapter\",\"debate\",\"resurgence\",\"home\",\"life\",\"colonization\",\"dialogue\",\"narratives\",\"story\",\"central role\",\"introduction\",\"art\",\"ethical issues\",\"duty\",\"obligations\",\"ethics\",\"reconciliation\",\"commitment\",\"profession\",\"medicine\",\"public\",\"tension\",\"necessity\",\"professionals\",\"practitioners\",\"trainees\",\"physicians\",\"need\",\"opportunities\",\"order\",\"training\",\"demand\",\"center\",\"intervention\",\"measures\",\"climate change\",\"infrastructure\",\"initiatives\",\"ideal\",\"moves\",\"intersection\",\"future\",\"enthusiasm\",\"movement\",\"limitations\",\"biases\",\"historical narrative\",\"hermeneutics\",\"voice\",\"ongoing debate\",\"epistemology\",\"methodological challenges\",\"Foucault\",\"humanity\",\"case study\",\"work\",\"agencies\",\"education\",\"attention\",\"medical education\",\"light\",\"influence\",\"insights\",\"barriers\",\"healthcare\",\"clinical practice\",\"recovery\",\"patients\",\"desire\",\"Christians\",\"Vatican II\",\"writing\",\"book\",\"teaching\",\"Council\",\"theologians\",\"Scripture\",\"Church\",\"reception\",\"themes\",\"regard\",\"religion\",\"theology\",\"Lonergan\",\"thought\",\"grace\",\"essay\",\"realm\",\"danger\",\"whole\",\"emphasis\",\"liberalism\",\"truth\",\"kind\",\"existence\",\"lessons\",\"strategies\",\"ability\",\"tradition\",\"appropriation\",\"verses\",\"concept\",\"audience\",\"account\",\"aspects\",\"parallel\",\"examination\",\"objective\",\"survey\",\"ED\",\"trajectories\",\"violence\",\"conceptualization\",\"lens\",\"importance\",\"reading\",\"path\",\"nations\",\"territory\",\"independence\",\"title\",\"relevance\",\"moral law\",\"consciousness\",\"beliefs\",\"freedom\",\"feelings\",\"passage\",\"approval\",\"aim\",\"traces\",\"Aristotle\",\"categories\",\"division\",\"legacy\",\"contribution\",\"character\",\"members\",\"students\",\"family\",\"organ transplantation\",\"content analysis\",\"literature\",\"transplantation\",\"connection\",\"focus\",\"overlap\",\"attitudes\",\"Kingdom\",\"events\",\"set\",\"main results\",\"proof\",\"transformation\",\"paper I\",\"philosophers\",\"intuition\",\"proposal\",\"link\",\"Bernard Lonergan\",\"preferential option\",\"occasions\",\"roots\",\"twentieth century\",\"circumstances\",\"mode\",\"interaction\",\"perception\",\"proponents\",\"Mary\",\"incarnation\",\"anthology\",\"LE\",\"study of religion\",\"disciplines\",\"cult\",\"speech\",\"empiricism\",\"health\",\"liberty\",\"thinkers\",\"justice\",\"culture\",\"market\",\"features\",\"religious institutions\",\"exile\",\"Catholics\",\"conflict\",\"reform\",\"reformation\",\"refugees\",\"institutions\",\"emotions\",\"boundaries\",\"diversity\",\"dynamics\",\"framework\",\"direction\",\"early twentieth century\",\"social relations\",\"activism\",\"era\",\"crisis\",\"membership\",\"organization\",\"creation\",\"vision\",\"rules\",\"program\",\"subjects\",\"world today\",\"today\",\"Islam\",\"intellectuals\",\"embrace\",\"revolution\",\"mind\",\"citizenship\",\"sort\",\"significance\",\"adoption\",\"turn\",\"spring\",\"words\",\"certain kinds\",\"threat\",\"factors\",\"disability\",\"judgments\",\"worry\",\"decades\",\"evidence\",\"findings\",\"lack\",\"licensing\",\"behavior\",\"article I\",\"reality\",\"journey\",\"harmony\",\"peace\",\"aspiration\",\"face\",\"paradigm\",\"universe\",\"vulnerability\",\"death\",\"aid\",\"consequences\",\"reasoning\",\"affairs\",\"instrument\",\"achievement\",\"extent\",\"psychological experience\",\"evolution\",\"selection\",\"note\",\"best interests\",\"defense\",\"paternalism\",\"practical rationality\",\"rationality\",\"coherence\",\"wisdom\",\"political power\",\"corruption\",\"Nepal\",\"construction\",\"conclusion\",\"sites\",\"meditation\",\"textbooks\",\"poetry\",\"generation\",\"Catholic Church\",\"Pope Francis\",\"reformers\",\"aesthetics\",\"mobilization\",\"impulses\",\"heart\",\"field\",\"anthropology\",\"scholarship\",\"edition\",\"anniversary\",\"ties\",\"last decade\",\"recent years\",\"variety\",\"association\",\"writers\",\"coordination\",\"Christianity\",\"temptation\",\"assertion\",\"documents\",\"impact\",\"handful\",\"Canada\",\"mission\",\"praxis\",\"pedagogy\",\"calls\",\"love\",\"neighbours\",\"meeting\",\"Christ\",\"historians\",\"telling\",\"advances\",\"social values\",\"managers\",\"corporations\",\"hierarchy\",\"Young\",\"guide\",\"public life\",\"moral competencies\",\"research participants\",\"competencies\",\"protection\",\"vocation\",\"witness\",\"revelation\",\"new perspective\",\"discipleship\",\"deeds\",\"Lord\",\"Rahner\",\"population\",\"guidance\",\"realist\",\"critique\",\"misconceptions\",\"eyes\",\"sovereignty\",\"citizens\",\"actors\",\"contingencies\",\"pieces\",\"choice\",\"intent\",\"region\",\"parties\",\"humans\",\"ethical questions\",\"permissibility\",\"decisions\",\"policy\",\"health care institutions\",\"premise\",\"controversy\",\"exercise\",\"religiosity\",\"activists\",\"logic\",\"setting\",\"endeavor\",\"outline\",\"donation\",\"environment\",\"network\",\"Wittgenstein\",\"own way\",\"brain\",\"informed consent\",\"respect\",\"consent\",\"consideration\",\"trials\",\"conduct\",\"clinical trials\",\"discomfort\",\"success\",\"attempt\",\"buildings\",\"ethical analysis\",\"palliative sedation\",\"palliative care\",\"euthanasia\",\"intention\",\"suicide\",\"withdrawal\",\"sedation\",\"pediatric patients\",\"sphere\",\"metaphor\",\"background\",\"medical act\",\"key questions\",\"pursuit\",\"sections\",\"legitimacy\",\"India\",\"decline\",\"ethics of immigration\",\"political philosophy\",\"great deal\",\"immigration\",\"deal\",\"sequence\",\"preferences\",\"risk\",\"fail\",\"game\",\"version\",\"broader context\",\"liberation\",\"Web\",\"rhetoric\",\"contradictions\",\"perceivers\",\"seeing\",\"commerce\",\"thinking\",\"girls\",\"scientific discovery\",\"creatures\",\"sacrifice\",\"axioms\",\"confrontation\",\"Plato\",\"rejection\",\"plan\",\"disorders\",\"hardback\",\"piety\",\"portrait\",\"rulers\",\"injustice\",\"orthodoxy\",\"Spiritual Exercises\",\"discernment\",\"heritage\",\"cosmology\",\"end of life\",\"discussion groups\",\"health care\",\"nurses\",\"arrest\",\"team\",\"uncertainty\",\"creativity\",\"biology\",\"date\",\"commentary\",\"lacunae\",\"picture\",\"overview\",\"learning\",\"same time\",\"opposition\",\"belief systems\",\"guise\",\"reporting\",\"outcomes\",\"treatment\",\"inclusion\",\"integration\",\"twenty-first century\",\"constitutive norms\",\"norms\",\"formalism\",\"Synoptic Gospels\",\"Gospel\",\"orality\",\"medium\",\"key\",\"cognitive science\",\"social impact\",\"emergence\",\"research ethics\",\"primary focus\",\"Hall\",\"open question\",\"ethical principles\",\"researchers\",\"guidelines\",\"funding\",\"ambivalence\",\"innovation\",\"companies\",\"industry\",\"biomedical research\",\"threads\",\"synopsis\",\"West\",\"scripts\",\"deliberative democracy\",\"deliberation\",\"virtue\",\"capacity\",\"facilitation\",\"metaphysics\",\"south\",\"questionnaire\",\"establishment\",\"methodology\",\"assumption\",\"literacy\",\"translation\",\"domain\",\"cardinality\",\"current article\",\"New Testament\",\"such work\",\"Testament\",\"repository\",\"China\",\"nuances\",\"genre\",\"arrangement\",\"progress\",\"disclosure\",\"hand\",\"patient's condition\",\"later work\",\"affect\",\"secularism\",\"Prophet\",\"legislation\",\"situation\",\"access\",\"UK\",\"uses\",\"Quebec\",\"recognition\",\"shift\",\"report\",\"comments\",\"life care\",\"expectations\",\"truth telling\",\"youth\",\"children\",\"statements\",\"ethical practice\",\"ignorance\",\"Toronto\",\"Pakistan\",\"songs\",\"practical theology\",\"theological aspects\",\"worship\",\"grounding\",\"talk\",\"dilemma\",\"figures\",\"resemblance\",\"social justice\",\"Health Organization\",\"physicists\",\"late 1950s\",\"conflicts of interest\",\"recommendations\",\"care settings\",\"residents\",\"diagnosis\",\"political thought\",\"refutation\",\"mathematics\",\"similarity\",\"laboratory experiments\",\"Campbell\",\"awareness\",\"faith-based organizations\",\"faith communities\",\"avenues\",\"morality\",\"rightness\",\"explanatory role\",\"research practices\",\"power dynamics\",\"such challenges\",\"credence\",\"practical reasons\",\"will\",\"religious traditions\",\"adults\",\"advice\",\"migrants\",\"security\",\"safety\",\"liberal justice\",\"John Rawls\",\"political theorists\",\"J\\u00fcrgen Habermas\",\"Rawls\",\"Habermas\",\"CSR\",\"reputation\",\"followers\",\"multiculturalism\",\"basic principles\",\"candidates\"],\"legendgroup\":\"\",\"marker\":{\"color\":[0.39963,0.4138,0.2797,0.27441,0.20624,0.27647,0.21124,0.39309,0.32944,0.22579,0.39468,0.33662,0.22924,0.20549,0.36021,0.23876,0.21542,0.20512,0.32465,0.29134,0.31919,0.33058,0.3044,0.39266,0.31133,0.25963,0.36842,0.20856,0.21343,0.42955,0.41598,0.40633,0.33677,0.3357,0.3401,0.35778,0.3757,0.33236,0.3023,0.33588,0.41564,0.31639,0.34092,0.27809,0.28284,0.27159,0.25482,0.353,0.28102,0.25785,0.23396,0.40327,0.27804,0.25018,0.37233,0.34141,0.40969,0.31935,0.42925,0.41933,0.44442,0.34306,0.31209,0.3578,0.29115,0.30698,0.2563,0.24551,0.26708,0.22011,0.35383,0.26188,0.30543,0.37344,0.30637,0.27021,0.21839,0.2608,0.35133,0.37186,0.33068,0.32007,0.29077,0.32283,0.23199,0.23127,0.21012,0.22115,0.34868,0.39988,0.30742,0.37405,0.33181,0.25817,0.22613,0.20407,0.20973,0.29182,0.20354,0.24444,0.25493,0.34227,0.28757,0.28459,0.28042,0.30531,0.27283,0.22692,0.26403,0.20683,0.20354,0.24257,0.25069,0.24038,0.23681,0.27197,0.24464,0.29439,0.25035,0.43961,0.20105,0.31722,0.29333,0.38128,0.40332,0.36454,0.25094,0.29838,0.33735,0.33931,0.32105,0.20674,0.61451,0.499,0.52433,0.32568,0.31131,0.3646,0.37183,0.44112,0.36567,0.22606,0.29433,0.31418,0.37846,0.30474,0.4247,0.34424,0.3675,0.32315,0.28139,0.396,0.31075,0.29196,0.27875,0.25238,0.2108,0.28375,0.33477,0.22499,0.21077,0.27825,0.22716,0.49133,0.39829,0.38,0.23478,0.56604,0.63775,0.37468,0.28264,0.39085,0.38603,0.38795,0.40167,0.35945,0.38921,0.2735,0.346,0.22867,0.26167,0.25765,0.34597,0.35367,0.247,0.30114,0.28213,0.63176,0.58383,0.31166,0.3755,0.35319,0.35273,0.31717,0.37482,0.31975,0.32939,0.38971,0.36525,0.31222,0.30781,0.3328,0.34052,0.34568,0.28764,0.34471,0.34095,0.3791,0.31152,0.27183,0.25718,0.26553,0.21093,0.20418,0.2171,0.36354,0.35864,0.34156,0.29865,0.37776,0.3185,0.30217,0.30263,0.35783,0.43481,0.386,0.32095,0.31464,0.24048,0.31556,0.64779,0.43018,0.42369,0.48234,0.42662,0.40087,0.39323,0.29571,0.39097,0.36839,0.27359,0.37358,0.34494,0.25758,0.33778,0.29399,0.25414,0.21746,0.31477,0.2969,0.2227,0.25791,0.21153,0.28308,0.23907,0.30822,0.38816,0.25881,0.35412,0.27696,0.25067,0.29842,0.22471,0.2851,0.39267,0.32007,0.39462,0.3544,0.40422,0.3995,0.42482,0.4301,0.35442,0.28463,0.33332,0.41122,0.31144,0.49129,0.26577,0.22551,0.26402,0.21521,0.31868,0.38264,0.23007,0.27583,0.33644,0.43193,0.32829,0.41161,0.27558,0.3847,0.33059,0.44082,0.38205,0.3938,0.32175,0.37801,0.27496,0.4165,0.36446,0.2425,0.37078,0.3352,0.36647,0.39948,0.33173,0.34309,0.32662,0.51374,0.35801,0.27045,0.24294,0.31986,0.25596,0.23294,0.42068,0.4344,0.3161,0.32879,0.38444,0.32941,0.31561,0.20924,0.22235,0.223,0.22586,0.2117,0.26933,0.40197,0.30668,0.35414,0.28854,0.32518,0.21181,0.35247,0.32836,0.30868,0.377,0.30402,0.728,0.42261,0.38081,0.34614,0.36768,0.26979,0.34247,0.22822,0.28763,0.3243,0.27178,0.30967,0.30362,0.27753,0.29797,0.30197,0.33862,0.23086,0.625,0.4845,0.31292,0.35433,0.30479,0.31842,0.23456,0.33466,0.44069,0.24085,0.20719,0.22967,0.22881,0.2633,0.42672,0.43419,0.31592,0.26366,0.30852,0.35722,0.258,0.3164,0.26595,0.51047,0.28088,0.20746,0.21431,0.31543,0.36182,0.3328,0.2435,0.3104,0.26255,0.71223,0.2782,0.26822,0.42931,0.5495,0.30239,0.395,0.44505,0.42104,0.37536,0.30604,0.20038,0.624,0.4332,0.42364,0.3672,0.39139,0.37877,0.50367,0.38623,0.40213,0.23383,0.31532,0.229,0.31006,0.20449,0.6141,0.47729,0.47988,0.33808,0.31637,0.32888,0.33781,0.30765,0.26887,0.31366,0.24635,0.28051,0.3695,0.37377,0.47242,0.48762,0.36933,0.307,0.37895,0.46939,0.30617,0.26771,0.30978,0.30887,0.2002,0.30607,0.31888,0.29957,0.20426,0.29561,0.37865,0.3215,0.31117,0.22827,0.27391,0.21318,0.29833,0.20627,0.29655,0.32323,0.30506,0.39308,0.30773,0.33171,0.28926,0.26558,0.3175,0.31364,0.2287,0.2694,0.28299,0.36696,0.29796,0.25005,0.30573,0.26177,0.50467,0.2863,0.29739,0.22561,0.4806,0.24968,0.28062,0.21833,0.39542,0.26117,0.27244,0.6685,0.46814,0.329,0.26716,0.22845,0.22482,0.36564,0.36479,0.3505,0.21197,0.52214,0.39083,0.37656,0.39333,0.25467,0.34989,0.20865,0.24505,0.43658,0.3962,0.3284,0.34533,0.30933,0.41375,0.32252,0.22447,0.2019,0.413,0.20883,0.40513,0.509,0.45009,0.35448,0.24522,0.379,0.28707,0.37669,0.55625,0.36564,0.31962,0.23905,0.38475,0.24848,0.32907,0.41424,0.38811,0.20329,0.47655,0.33008,0.37666,0.27181,0.40133,0.2453,0.42686,0.777,0.4488,0.31443,0.34088,0.27325,0.3511,0.4028,0.39925,0.354,0.34771,0.31162,0.327,0.26619,0.27775,0.3525,0.39886,0.39571,0.22973,0.34083,0.42817,0.3661,0.2749,0.33143,0.25713,0.3196,0.24358,0.33129,0.23517,0.4678,0.4198,0.31513,0.37401,0.595,0.22968,0.31965,0.30238,0.3001,0.46377,0.25886,0.24672,0.3646,0.32889,0.311,0.22618,0.20056,0.40981,0.389,0.28353,0.55752,0.25082,0.4184,0.29756,0.25134,0.42897,0.25227,0.2975,0.2296,0.35475,0.27662,0.58936,0.663,0.47217,0.38038,0.26837,0.4224,0.29725,0.406,0.208,0.34837,0.30578,0.30138,0.561,0.39443,0.3084,0.21857,0.4422,0.34395,0.28345,0.75967,0.606,0.45857,0.34043,0.36292,0.22369,0.27258,0.24352,0.219,0.235,0.25246,0.54875,0.22243,0.22638,0.37475,0.34979,0.3464,0.285,0.25575,0.3495,0.25375,0.2095,0.37733,0.2058,0.244,0.403,0.33452,0.34608,0.21628,0.22295,0.22757,0.46567,0.25779,0.46886,0.39962,0.29536,0.58933,0.3775,0.40475,0.33436,0.49345,0.4795,0.39918,0.36112,0.2282,0.26708,0.20103,0.34644,0.2757,0.23016,0.27928,0.34314,0.28208,0.28825,0.3521,0.35615,0.39536,0.631,0.38829,0.311,0.23944,0.23117,0.30667,0.24785,0.51373,0.738,0.41641,0.30071,0.3405,0.29518,0.50033,0.30258,0.244,0.66273,0.429,0.31623,0.57538,0.5058,0.25075,0.30112,0.56292,0.29885,0.32816,0.26178,0.351,0.23917,0.25739,0.2628,0.27138,0.31189,0.289,0.32531,0.235,0.6125,0.31294,0.41382,0.22518,0.29188,0.40656,0.27712,0.24371,0.30993,0.26487,0.25998,0.4108,0.25074,0.22406,0.2725,0.291,0.26208,0.60475,0.25385,0.28625,0.277,0.30567,0.43616,0.34407,0.21814,0.42267,0.2559,0.3595,0.6722,0.36743,0.358,0.316,0.26742,0.30413,0.2816,0.21486,0.25303,0.386,0.31291,0.28653,0.20908,0.28469,0.49756,0.29341,0.453,0.39815,0.24741,0.3068,0.6285,0.3005,0.27439,0.3604,0.43057,0.60083,0.6795,0.23575,0.34406,0.27269,0.37769,0.34164,0.3434,0.57908,0.3215,0.4347,0.29325,0.567,0.28316,0.3715,0.25844,0.22108,0.49406,0.38478,0.36757,0.20188,0.3105,0.334,0.33253,0.566,0.6012,0.2838,0.43145,0.3554,0.40717,0.65629,0.48129,0.2945,0.2802,0.4598,0.34689,0.58677,0.2016,0.25213,0.46867,0.309,0.25642,0.696,0.587,0.66156,0.38175,0.51929,0.32318,0.57167,0.42154,0.3897,0.50533,0.51867,0.2166],\"coloraxis\":\"coloraxis\",\"symbol\":\"circle\"},\"mode\":\"markers\",\"name\":\"\",\"orientation\":\"v\",\"showlegend\":false,\"x\":[-1,2,3,8,6,6,1,1,5,4,5,8,7,1,15,0,0,-1,4,-3,11,-3,13,10,2,16,-2,1,2,5,-1,3,6,5,6,1,2,-1,6,12,-2,-1,-2,7,2,6,0,0,4,5,0,1,0,0,0,5,2,2,3,0,0,7,-5,3,-1,5,5,4,4,3,3,1,-1,5,0,-1,3,10,3,0,3,8,4,1,1,1,8,2,6,6,5,2,9,-1,-4,5,-9,1,1,-5,0,5,-1,7,3,4,4,1,-2,2,3,5,8,0,3,0,1,2,-3,5,2,6,0,1,3,5,0,1,2,1,7,8,1,1,0,3,2,1,1,4,1,3,3,-1,0,-6,1,3,1,-4,4,0,4,6,5,-1,3,0,-6,3,0,1,7,0,1,1,6,0,0,7,-1,4,10,6,1,-3,-2,2,0,0,0,-2,6,-1,0,1,2,0,0,6,0,5,14,-5,3,0,4,4,2,-1,-1,1,8,0,0,1,14,1,3,1,-1,0,4,12,0,2,-1,0,-6,-1,1,-1,1,1,-1,4,3,2,3,3,-3,1,1,-8,0,-5,0,2,1,1,0,3,2,0,2,4,6,16,4,2,3,2,3,0,-1,2,1,1,1,6,1,4,0,1,0,-2,1,0,4,0,1,0,2,0,1,-1,2,0,5,1,3,2,-1,0,1,-11,0,1,1,6,5,4,0,3,0,1,2,4,2,8,4,1,4,0,3,0,0,4,-1,1,5,1,0,2,3,0,10,2,1,-2,0,1,2,-1,1,1,-2,-2,0,0,3,1,6,-2,0,2,0,2,1,-3,2,1,2,4,3,-2,0,-3,0,1,0,1,2,9,3,1,-3,-6,0,0,-5,-1,2,-3,-3,2,-1,-1,8,1,-1,3,2,-1,-2,-3,0,1,0,0,1,1,3,1,1,2,1,0,0,0,1,1,3,0,2,0,0,0,3,-2,-3,1,2,0,0,1,-4,0,1,1,3,-1,0,2,4,-5,-2,1,0,-1,2,4,0,-5,0,4,0,-5,-5,0,3,1,0,0,0,1,0,0,2,-1,1,0,4,0,-1,0,0,4,1,2,0,-1,-3,0,-3,0,0,1,0,-1,1,-2,-1,1,0,-4,0,-2,3,1,0,1,-1,0,1,3,1,-1,-2,1,0,3,0,4,0,1,0,-1,2,2,2,-1,1,-2,0,0,0,0,0,0,1,-3,0,0,1,0,-2,0,-1,1,2,0,0,1,0,0,1,0,0,8,1,0,0,1,1,0,-1,0,1,1,-1,0,0,0,0,0,1,0,0,1,0,0,0,-1,2,0,0,0,1,0,0,-1,0,3,1,0,0,1,2,0,0,1,1,2,0,2,0,0,-4,3,0,0,3,1,0,1,1,0,0,1,0,1,-4,1,-1,0,-2,0,-6,-2,0,-1,0,0,1,1,-1,0,0,0,0,-2,0,0,-1,-2,-1,0,0,0,-1,-2,1,1,-1,0,0,0,0,0,0,1,1,-2,0,0,2,1,2,-1,0,0,0,0,0,-1,0,0,-1,0,0,0,0,-1,2,0,0,0,1,0,-1,0,0,0,0,-1,-2,0,-2,0,0,0,2,1,0,0,-1,0,-1,0,-1,-1,0,0,0,-1,-9,-2,-1,-1,-1,0,0,0,-1,-6,0,-1,0,0,0,-1,-1,0,0,0,-2,1,-1,0,0,-1,1,-1,-1,-1,0,0,0,0,0,-1,-5,0,1,1,1,0,-1,0,1,0,-2,-1,0,0,0,0,0,1,1,-1,0,0,0,0,0,0,0,0,0,0,-3,-3,-1,0,0,0,-2,1,0,0,2,0,0,-4,1,0,0,-1,0,0,0,0,0,0,0,0,0,0,0,0,0,0,-1,0,-2,0,1,0,0,-5,-2,0,0,0,0,0,0,-2,0,0,0,0,0,0,0,0,0,0,0,0,0,-1,0,-1,0,0,-1,0,0,0,0,0,0,0],\"xaxis\":\"x\",\"y\":[-0.09517000000000003,-0.12067,0.3005,-0.09132999999999997,-0.144,-0.036750000000000005,-0.01987,0.09421000000000002,-0.09203,-0.04729,-0.19383,-0.042669999999999986,-0.04273000000000002,-0.17667,-0.16620000000000001,-0.17132999999999998,-0.11350000000000002,-0.02176,0.055920000000000025,-0.05826999999999999,-0.03820000000000001,0.032210000000000016,0.06781000000000001,-0.13039999999999996,0.04053999999999999,0.05841999999999997,-0.15199999999999997,-0.10357000000000001,0.05891000000000002,0.23442999999999997,0.07535000000000003,0.14767000000000002,-0.022040000000000004,0.02293999999999996,-0.032440000000000024,0.046109999999999984,-0.016800000000000037,0.05408000000000002,0.08011000000000001,0.054320000000000035,0.07767000000000002,-0.15283000000000002,0.05325000000000002,-0.023070000000000007,0.04361999999999999,0.05618000000000001,-0.03350000000000003,-0.06899999999999995,0.10995999999999997,-0.11750000000000002,0.0012499999999999734,-0.07200000000000001,-0.10649999999999998,-0.189,0.37499999999999994,-0.15819999999999998,0.029669999999999974,0.13659000000000002,0.03849999999999998,-0.06999999999999995,0.10936999999999997,-0.028980000000000006,0.07342999999999997,0.12334,-0.0615,0.1995,-0.11981000000000003,0.09459999999999999,-0.07066999999999998,0.11624999999999999,0.09425,-0.011799999999999977,-0.05726999999999999,0.05034999999999995,0.0046700000000000075,-0.20117000000000002,0.14150000000000001,-0.06941000000000003,0.027499999999999997,-0.03640000000000004,-0.0869,0.05418999999999996,-0.04500000000000001,-0.22800000000000004,-0.02631,-0.035629999999999995,0.014670000000000016,-0.017669999999999998,0.09248,-0.13249999999999995,0.10359999999999997,-0.050829999999999986,-0.026370000000000005,0.024329999999999963,0.07743000000000003,-0.17683000000000001,-0.011619999999999991,-0.18999999999999995,-0.020500000000000018,-0.025729999999999975,-0.25338,-0.06176000000000004,-0.20642000000000002,0.07707,0.09410000000000002,0.2732,0.17382999999999998,-0.14250000000000002,-0.07330999999999999,0.145,-0.06475,0.12283000000000001,0.059760000000000035,-0.319,0.033600000000000005,0.10999999999999999,-0.0605,-0.20425000000000004,-0.2349,-0.01989000000000002,-0.28574999999999995,-0.28357000000000004,-0.13,-0.251,-0.09656999999999999,0.07938,-0.14800000000000002,-0.07600000000000001,0.118,0.020100000000000007,0.11853000000000002,0.026959999999999984,0.05553000000000008,-0.5195,0.016000000000000014,-0.03716999999999998,-0.05898000000000003,0.291,-0.05499999999999999,-0.10952999999999996,-0.09704999999999997,0.1381,0.004689999999999972,0.04249999999999998,0.09249999999999997,-0.030420000000000003,-0.0695,0.04870000000000002,-0.21266999999999997,-0.02350000000000002,0.15899999999999997,-0.033999999999999975,-0.033350000000000046,0.09849999999999998,0.056169999999999984,-0.05499999999999999,0.09699999999999998,0.07599999999999998,0.010309999999999986,0.027609999999999996,0.03859000000000001,0.05350000000000002,-0.03547,-0.062,-0.12553999999999998,-0.30717,-0.22986,0.03499999999999992,0.20699999999999996,0.09240000000000004,0.32600000000000007,-0.15153,-0.046479999999999966,-0.007889999999999953,0.065,-0.015690000000000037,-0.04175000000000001,0.31533,0.292,0.07750000000000001,-0.0016700000000000048,-0.06957999999999998,0.21514,-0.40850000000000003,0.029,-0.15433000000000002,-0.13475,-0.4800000000000001,-0.47400000000000003,0.30128999999999995,-0.29667,0.06321000000000002,0.14718,-0.19035999999999997,0.16250000000000003,-0.363,-0.26280000000000003,-0.3154,-0.17100000000000004,0.02159999999999998,-0.01938000000000001,-0.377,0.02418999999999999,-0.134,-0.01433000000000001,-0.18533000000000002,0.05380999999999997,0.02124999999999999,-0.26075000000000004,-0.16167,-0.15,-0.19233,-0.006290000000000018,-0.02556,-0.10840000000000002,0.29834,0.30767,0.505,-0.005859999999999976,0.16637999999999997,-0.13049999999999995,-0.06449999999999995,0.018359999999999987,0.16499999999999998,-0.07172999999999996,0.0484,-0.1005,-0.118,-0.09892000000000001,-0.1725,0.02242999999999995,-0.08633000000000002,0.15150000000000002,0.060990000000000044,0.01100000000000001,0.03420000000000001,-0.16999999999999998,0.1254,0.0043300000000000005,-0.11035,0.23525000000000001,-0.06020000000000003,-0.13867000000000002,0.08700000000000002,0.30333,-0.008629999999999971,0.027220000000000022,-0.04792000000000002,0.012800000000000034,-0.018330000000000013,0.012249999999999983,-0.009200000000000014,0.015250000000000014,-0.11699999999999999,-0.08550000000000002,-0.372,-0.019499999999999962,-0.335,0.03650000000000003,-0.08129000000000003,0.186,-0.09962000000000001,-0.16666,0.2665,0.20499999999999996,0.43274999999999997,0.0030000000000000027,0.583,-0.06067,-0.025999999999999912,-0.007500000000000062,0.0605,0.41033,-0.0047399999999999665,0.03975000000000001,0.04671000000000003,0.027749999999999997,-0.11099999999999999,0.10572000000000001,-0.011330000000000007,0.0011800000000000144,0.14167,0.1605,-0.322,-0.1685,-0.01770000000000002,-0.355,-0.25417,0.5189999999999999,-0.012699999999999989,0.006500000000000006,-0.0862,0.4125,-0.16559999999999997,-0.11567,-0.23454999999999998,0.32400000000000007,-0.07016,0.20533,0.12719000000000003,0.08521000000000001,0.45283,0.09062999999999999,0.10349999999999998,-0.05452999999999997,0.041000000000000036,0.0030000000000000027,0.27832999999999997,0.12259999999999999,-0.0695,0.16749999999999998,0.09395,0.16800000000000004,-0.1695,0.01368999999999998,0.07999999999999999,-0.17329999999999995,-0.14999999999999997,-0.47000000000000003,-0.06568999999999997,-0.014499999999999957,-0.05884,-0.06132999999999997,-0.19717,0.040669999999999984,-0.09,-0.025999999999999995,-0.21075,0.02,-0.16849999999999993,-0.34049999999999997,-0.1895,0.02556,-0.30625,-0.09066000000000002,-0.07567000000000002,0.424,-0.18267,0.2885,0.15850000000000003,0.0023300000000000542,0.07882999999999996,0.06258000000000002,0.07749999999999996,-0.133,0.13967000000000002,0.0,0.11158000000000001,-0.04899999999999999,0.306,-0.17550000000000002,-0.17700000000000002,0.27666999999999997,-0.05559999999999998,0.15270000000000003,0.06813,-0.11879999999999996,-0.016350000000000003,0.02400000000000002,0.417,0.02632000000000001,0.1745,0.316,0.03915000000000002,0.10650000000000001,0.303,-0.09449999999999997,-0.02275000000000002,-0.0748,0.272,-0.025170000000000026,-0.07850000000000001,0.42767,-0.01369999999999999,0.11274999999999996,-0.16575,0.07399999999999998,0.4405,0.394,0.21600000000000003,-0.055999999999999994,-0.19717,0.07329999999999998,0.2495,0.07,0.31233,-0.07333,-0.5439999999999999,-0.106,-0.309,0.0010000000000000009,0.04600000000000004,-0.0032999999999999696,0.038000000000000006,-0.13333,-0.07999999999999996,0.18599999999999997,0.39099999999999996,-0.030000000000000027,0.11166999999999999,-0.042669999999999986,0.10032999999999997,-0.07139999999999999,-0.35800000000000004,-0.13400000000000006,-0.044999999999999984,-0.17387000000000002,-0.08999999999999997,0.3705,0.0050000000000000044,-0.11499999999999999,-0.23399999999999999,0.14500000000000002,0.16033,0.184,0.009180000000000021,-0.14117000000000002,-0.0625,0.394,0.0050000000000000044,0.37367,0.4264,-0.08400000000000002,-0.016199999999999992,-0.11216999999999999,0.23199999999999998,0.028000000000000025,-0.027139999999999997,-0.04808000000000001,0.559,0.33639,0.5865,-0.0010000000000000009,0.42400000000000004,0.01200000000000001,0.14467000000000002,0.22999999999999998,0.11567,0.026709999999999984,0.017500000000000016,0.06267,0.16399999999999998,-0.16182999999999997,-0.579,-0.374,0.15733000000000003,0.0,0.2732,0.5215,-0.05852999999999997,-0.06275000000000003,-0.036129999999999995,-0.06975,-0.30700000000000005,-0.1053,-0.05450000000000005,-0.034,-0.44799999999999995,-0.04000000000000001,-0.23250000000000004,-0.372,0.003269999999999995,-0.142,0.11950000000000002,-0.08549999999999999,-0.266,-0.27899999999999997,-0.09083,-0.04666999999999999,0.02200000000000002,0.24800000000000003,0.18532999999999997,0.06733,-0.745,-0.011669999999999958,-0.14125,-0.04899999999999999,-0.4395,-0.059,-0.4605,0.085,0.30174999999999996,-0.289,0.27659999999999996,0.027000000000000024,0.02949999999999997,0.27999999999999997,-0.12292,0.014920000000000017,-0.061,0.01433000000000001,-0.315,-0.36800000000000005,0.13433,-0.43600000000000005,0.04999999999999999,0.14600000000000002,-0.361,-0.17300000000000001,0.13499999999999998,0.07,-0.08717,0.0,0.13075000000000003,0.3535,0.44699999999999995,0.09467000000000003,-0.020000000000000018,0.0605,-0.06864999999999999,-0.10233000000000003,-0.0050000000000000044,0.16299999999999998,0.10599999999999998,-0.025000000000000022,0.08100000000000002,-0.3544999999999999,0.00839999999999999,-0.10000000000000003,0.17117,-0.061,-0.0645,0.11132999999999998,-0.063,-0.29050000000000004,0.030999999999999972,0.08367,-0.10149999999999998,0.424,-0.1735,0.016999999999999987,-0.11399999999999999,0.385,0.132,0.421,0.0030000000000000027,0.13882999999999998,-0.48500000000000004,-0.10799999999999998,0.3845,0.185,-0.02350000000000002,0.5529999999999999,0.03650000000000009,-0.08767000000000003,0.428,-0.051000000000000045,0.378,-0.1725,0.40399999999999997,0.04379999999999998,-0.11417000000000002,0.528,-0.031940000000000024,0.03700000000000003,0.0,-0.11499999999999999,-0.125,-0.01366999999999996,0.25,0.25,-0.011419999999999986,0.3515,-0.08267,0.169,0.12032999999999996,0.391,0.128,0.15742,0.09516999999999998,0.09399999999999997,0.048000000000000015,0.289,-0.05517,0.45200000000000007,-0.018000000000000016,-0.21117000000000002,-0.14133,-0.248,0.12817,-0.123,-0.029449999999999976,0.0204,-0.35050000000000003,-0.538,-0.087,-0.681,0.01849999999999999,-0.46714,-0.06175000000000003,-0.2965,-0.5255,-0.653,-0.18800000000000003,0.093,0.04933000000000004,-0.316,0.35300000000000004,-0.051999999999999935,0.04800000000000004,0.05399999999999999,0.20332999999999998,-0.020999999999999963,-0.182,-0.229,-0.09767,-0.259,-0.2505,-0.03633000000000003,-0.22800000000000004,-0.03300000000000003,-0.015999999999999986,-0.0635,0.031000000000000028,-0.03149999999999997,0.02999999999999997,0.006000000000000005,0.1489999999999999,0.0,-0.025000000000000022,0.0,0.2105,-0.02100000000000002,-0.17027,-0.328,0.123,0.15333,-0.12150000000000005,0.21,-0.14400000000000002,0.0020000000000000018,-0.034999999999999976,0.385,0.32,0.363,0.12517000000000003,-0.121,0.374,0.10250000000000001,0.118,-0.132,0.010000000000000009,-0.17099999999999993,0.1675,0.258,-0.378,-0.359,-0.556,-0.026000000000000002,-0.46900000000000003,0.136,0.005,-0.202,0.371,-0.122,0.12699999999999997,0.008000000000000007,0.10700000000000004,0.15967000000000003,0.04799999999999999,0.0040000000000000036,0.020499999999999963,0.024999999999999994,0.23149999999999998,0.097,0.165,-0.03400000000000003,-0.10699999999999998,0.2055,-0.222,-0.11300000000000002,-0.11349999999999999,-0.278,-0.10599999999999998,-0.05499999999999999,-0.1245,0.03520000000000001,0.0050000000000000044,-0.18750000000000003,-0.1005,-0.6585,-0.10399999999999998,0.0006599999999999939,0.05499999999999999,0.19249999999999995,-0.04987999999999998,-0.039000000000000035,0.14349999999999996,-0.05099999999999999,-0.737,-0.56,-0.42517,-0.09000000000000008,0.02300000000000002,0.059,0.02799999999999997,0.11299999999999999,-0.1805,0.0,-0.047500000000000014,-0.381,-0.172,0.0575,-0.3335,-0.657,-0.044999999999999984,0.12199999999999997,0.007000000000000006,0.418,0.15499999999999992,0.534,0.09670000000000001,0.08050000000000002,0.032999999999999974,-0.43550000000000005,-0.38549999999999995,-0.10899999999999999,-0.354,-0.034499999999999975,0.10499999999999998,0.46799999999999997,0.2185,-0.12032999999999999,-0.269,-0.426,0.20599999999999996,0.0050000000000000044,0.16299999999999998,0.08800000000000002,-0.1615,0.285,-0.026500000000000024,-0.22,-0.29500000000000004,-0.4785,0.256,-0.325,-0.0009999999999998899,-0.057999999999999996,-0.552,-0.2965,-0.374,-0.367,-0.26175000000000004,0.2495,0.028000000000000025,-0.069,0.172,-0.006000000000000005,0.096,-0.47100000000000003,0.016000000000000014,0.18733000000000002,-0.483,-0.261,-0.07460000000000001,-0.31982999999999995,-0.5579999999999999,-0.251,-0.11699999999999999,-0.391,-0.543,-0.09899999999999998,0.03699999999999992,0.452,-0.534,-0.153,-0.197,-0.068,-0.138,0.38300000000000006,0.237,0.17600000000000005,0.11599999999999999,-0.235,0.020000000000000018,-0.07100000000000001,-0.175,-0.29950000000000004,-0.701,0.275,0.24467000000000005,0.09866999999999998,-0.315,0.334,0.0,0.259,-0.16599999999999998,-0.069,-0.05500000000000005,-0.20400000000000007,-0.591,-0.19700000000000006,0.488,0.371,0.33099999999999996,0.7090000000000001,0.617,-0.15799999999999992,0.238,-0.0020000000000000018,0.050000000000000044,0.179,-0.07349999999999995,-0.006000000000000005,0.008500000000000063,-0.04299999999999993,-0.04299999999999993,-0.05249999999999999,-0.03700000000000003,-0.13,0.17500000000000004,0.33099999999999996,0.135,-0.0020000000000000018,-0.05499999999999999],\"yaxis\":\"y\",\"type\":\"scatter\"}],                        {\"template\":{\"data\":{\"histogram2dcontour\":[{\"type\":\"histogram2dcontour\",\"colorbar\":{\"outlinewidth\":0,\"ticks\":\"\"},\"colorscale\":[[0.0,\"#0d0887\"],[0.1111111111111111,\"#46039f\"],[0.2222222222222222,\"#7201a8\"],[0.3333333333333333,\"#9c179e\"],[0.4444444444444444,\"#bd3786\"],[0.5555555555555556,\"#d8576b\"],[0.6666666666666666,\"#ed7953\"],[0.7777777777777778,\"#fb9f3a\"],[0.8888888888888888,\"#fdca26\"],[1.0,\"#f0f921\"]]}],\"choropleth\":[{\"type\":\"choropleth\",\"colorbar\":{\"outlinewidth\":0,\"ticks\":\"\"}}],\"histogram2d\":[{\"type\":\"histogram2d\",\"colorbar\":{\"outlinewidth\":0,\"ticks\":\"\"},\"colorscale\":[[0.0,\"#0d0887\"],[0.1111111111111111,\"#46039f\"],[0.2222222222222222,\"#7201a8\"],[0.3333333333333333,\"#9c179e\"],[0.4444444444444444,\"#bd3786\"],[0.5555555555555556,\"#d8576b\"],[0.6666666666666666,\"#ed7953\"],[0.7777777777777778,\"#fb9f3a\"],[0.8888888888888888,\"#fdca26\"],[1.0,\"#f0f921\"]]}],\"heatmap\":[{\"type\":\"heatmap\",\"colorbar\":{\"outlinewidth\":0,\"ticks\":\"\"},\"colorscale\":[[0.0,\"#0d0887\"],[0.1111111111111111,\"#46039f\"],[0.2222222222222222,\"#7201a8\"],[0.3333333333333333,\"#9c179e\"],[0.4444444444444444,\"#bd3786\"],[0.5555555555555556,\"#d8576b\"],[0.6666666666666666,\"#ed7953\"],[0.7777777777777778,\"#fb9f3a\"],[0.8888888888888888,\"#fdca26\"],[1.0,\"#f0f921\"]]}],\"heatmapgl\":[{\"type\":\"heatmapgl\",\"colorbar\":{\"outlinewidth\":0,\"ticks\":\"\"},\"colorscale\":[[0.0,\"#0d0887\"],[0.1111111111111111,\"#46039f\"],[0.2222222222222222,\"#7201a8\"],[0.3333333333333333,\"#9c179e\"],[0.4444444444444444,\"#bd3786\"],[0.5555555555555556,\"#d8576b\"],[0.6666666666666666,\"#ed7953\"],[0.7777777777777778,\"#fb9f3a\"],[0.8888888888888888,\"#fdca26\"],[1.0,\"#f0f921\"]]}],\"contourcarpet\":[{\"type\":\"contourcarpet\",\"colorbar\":{\"outlinewidth\":0,\"ticks\":\"\"}}],\"contour\":[{\"type\":\"contour\",\"colorbar\":{\"outlinewidth\":0,\"ticks\":\"\"},\"colorscale\":[[0.0,\"#0d0887\"],[0.1111111111111111,\"#46039f\"],[0.2222222222222222,\"#7201a8\"],[0.3333333333333333,\"#9c179e\"],[0.4444444444444444,\"#bd3786\"],[0.5555555555555556,\"#d8576b\"],[0.6666666666666666,\"#ed7953\"],[0.7777777777777778,\"#fb9f3a\"],[0.8888888888888888,\"#fdca26\"],[1.0,\"#f0f921\"]]}],\"surface\":[{\"type\":\"surface\",\"colorbar\":{\"outlinewidth\":0,\"ticks\":\"\"},\"colorscale\":[[0.0,\"#0d0887\"],[0.1111111111111111,\"#46039f\"],[0.2222222222222222,\"#7201a8\"],[0.3333333333333333,\"#9c179e\"],[0.4444444444444444,\"#bd3786\"],[0.5555555555555556,\"#d8576b\"],[0.6666666666666666,\"#ed7953\"],[0.7777777777777778,\"#fb9f3a\"],[0.8888888888888888,\"#fdca26\"],[1.0,\"#f0f921\"]]}],\"mesh3d\":[{\"type\":\"mesh3d\",\"colorbar\":{\"outlinewidth\":0,\"ticks\":\"\"}}],\"scatter\":[{\"fillpattern\":{\"fillmode\":\"overlay\",\"size\":10,\"solidity\":0.2},\"type\":\"scatter\"}],\"parcoords\":[{\"type\":\"parcoords\",\"line\":{\"colorbar\":{\"outlinewidth\":0,\"ticks\":\"\"}}}],\"scatterpolargl\":[{\"type\":\"scatterpolargl\",\"marker\":{\"colorbar\":{\"outlinewidth\":0,\"ticks\":\"\"}}}],\"bar\":[{\"error_x\":{\"color\":\"#2a3f5f\"},\"error_y\":{\"color\":\"#2a3f5f\"},\"marker\":{\"line\":{\"color\":\"#E5ECF6\",\"width\":0.5},\"pattern\":{\"fillmode\":\"overlay\",\"size\":10,\"solidity\":0.2}},\"type\":\"bar\"}],\"scattergeo\":[{\"type\":\"scattergeo\",\"marker\":{\"colorbar\":{\"outlinewidth\":0,\"ticks\":\"\"}}}],\"scatterpolar\":[{\"type\":\"scatterpolar\",\"marker\":{\"colorbar\":{\"outlinewidth\":0,\"ticks\":\"\"}}}],\"histogram\":[{\"marker\":{\"pattern\":{\"fillmode\":\"overlay\",\"size\":10,\"solidity\":0.2}},\"type\":\"histogram\"}],\"scattergl\":[{\"type\":\"scattergl\",\"marker\":{\"colorbar\":{\"outlinewidth\":0,\"ticks\":\"\"}}}],\"scatter3d\":[{\"type\":\"scatter3d\",\"line\":{\"colorbar\":{\"outlinewidth\":0,\"ticks\":\"\"}},\"marker\":{\"colorbar\":{\"outlinewidth\":0,\"ticks\":\"\"}}}],\"scattermapbox\":[{\"type\":\"scattermapbox\",\"marker\":{\"colorbar\":{\"outlinewidth\":0,\"ticks\":\"\"}}}],\"scatterternary\":[{\"type\":\"scatterternary\",\"marker\":{\"colorbar\":{\"outlinewidth\":0,\"ticks\":\"\"}}}],\"scattercarpet\":[{\"type\":\"scattercarpet\",\"marker\":{\"colorbar\":{\"outlinewidth\":0,\"ticks\":\"\"}}}],\"carpet\":[{\"aaxis\":{\"endlinecolor\":\"#2a3f5f\",\"gridcolor\":\"white\",\"linecolor\":\"white\",\"minorgridcolor\":\"white\",\"startlinecolor\":\"#2a3f5f\"},\"baxis\":{\"endlinecolor\":\"#2a3f5f\",\"gridcolor\":\"white\",\"linecolor\":\"white\",\"minorgridcolor\":\"white\",\"startlinecolor\":\"#2a3f5f\"},\"type\":\"carpet\"}],\"table\":[{\"cells\":{\"fill\":{\"color\":\"#EBF0F8\"},\"line\":{\"color\":\"white\"}},\"header\":{\"fill\":{\"color\":\"#C8D4E3\"},\"line\":{\"color\":\"white\"}},\"type\":\"table\"}],\"barpolar\":[{\"marker\":{\"line\":{\"color\":\"#E5ECF6\",\"width\":0.5},\"pattern\":{\"fillmode\":\"overlay\",\"size\":10,\"solidity\":0.2}},\"type\":\"barpolar\"}],\"pie\":[{\"automargin\":true,\"type\":\"pie\"}]},\"layout\":{\"autotypenumbers\":\"strict\",\"colorway\":[\"#636efa\",\"#EF553B\",\"#00cc96\",\"#ab63fa\",\"#FFA15A\",\"#19d3f3\",\"#FF6692\",\"#B6E880\",\"#FF97FF\",\"#FECB52\"],\"font\":{\"color\":\"#2a3f5f\"},\"hovermode\":\"closest\",\"hoverlabel\":{\"align\":\"left\"},\"paper_bgcolor\":\"white\",\"plot_bgcolor\":\"#E5ECF6\",\"polar\":{\"bgcolor\":\"#E5ECF6\",\"angularaxis\":{\"gridcolor\":\"white\",\"linecolor\":\"white\",\"ticks\":\"\"},\"radialaxis\":{\"gridcolor\":\"white\",\"linecolor\":\"white\",\"ticks\":\"\"}},\"ternary\":{\"bgcolor\":\"#E5ECF6\",\"aaxis\":{\"gridcolor\":\"white\",\"linecolor\":\"white\",\"ticks\":\"\"},\"baxis\":{\"gridcolor\":\"white\",\"linecolor\":\"white\",\"ticks\":\"\"},\"caxis\":{\"gridcolor\":\"white\",\"linecolor\":\"white\",\"ticks\":\"\"}},\"coloraxis\":{\"colorbar\":{\"outlinewidth\":0,\"ticks\":\"\"}},\"colorscale\":{\"sequential\":[[0.0,\"#0d0887\"],[0.1111111111111111,\"#46039f\"],[0.2222222222222222,\"#7201a8\"],[0.3333333333333333,\"#9c179e\"],[0.4444444444444444,\"#bd3786\"],[0.5555555555555556,\"#d8576b\"],[0.6666666666666666,\"#ed7953\"],[0.7777777777777778,\"#fb9f3a\"],[0.8888888888888888,\"#fdca26\"],[1.0,\"#f0f921\"]],\"sequentialminus\":[[0.0,\"#0d0887\"],[0.1111111111111111,\"#46039f\"],[0.2222222222222222,\"#7201a8\"],[0.3333333333333333,\"#9c179e\"],[0.4444444444444444,\"#bd3786\"],[0.5555555555555556,\"#d8576b\"],[0.6666666666666666,\"#ed7953\"],[0.7777777777777778,\"#fb9f3a\"],[0.8888888888888888,\"#fdca26\"],[1.0,\"#f0f921\"]],\"diverging\":[[0,\"#8e0152\"],[0.1,\"#c51b7d\"],[0.2,\"#de77ae\"],[0.3,\"#f1b6da\"],[0.4,\"#fde0ef\"],[0.5,\"#f7f7f7\"],[0.6,\"#e6f5d0\"],[0.7,\"#b8e186\"],[0.8,\"#7fbc41\"],[0.9,\"#4d9221\"],[1,\"#276419\"]]},\"xaxis\":{\"gridcolor\":\"white\",\"linecolor\":\"white\",\"ticks\":\"\",\"title\":{\"standoff\":15},\"zerolinecolor\":\"white\",\"automargin\":true,\"zerolinewidth\":2},\"yaxis\":{\"gridcolor\":\"white\",\"linecolor\":\"white\",\"ticks\":\"\",\"title\":{\"standoff\":15},\"zerolinecolor\":\"white\",\"automargin\":true,\"zerolinewidth\":2},\"scene\":{\"xaxis\":{\"backgroundcolor\":\"#E5ECF6\",\"gridcolor\":\"white\",\"linecolor\":\"white\",\"showbackground\":true,\"ticks\":\"\",\"zerolinecolor\":\"white\",\"gridwidth\":2},\"yaxis\":{\"backgroundcolor\":\"#E5ECF6\",\"gridcolor\":\"white\",\"linecolor\":\"white\",\"showbackground\":true,\"ticks\":\"\",\"zerolinecolor\":\"white\",\"gridwidth\":2},\"zaxis\":{\"backgroundcolor\":\"#E5ECF6\",\"gridcolor\":\"white\",\"linecolor\":\"white\",\"showbackground\":true,\"ticks\":\"\",\"zerolinecolor\":\"white\",\"gridwidth\":2}},\"shapedefaults\":{\"line\":{\"color\":\"#2a3f5f\"}},\"annotationdefaults\":{\"arrowcolor\":\"#2a3f5f\",\"arrowhead\":0,\"arrowwidth\":1},\"geo\":{\"bgcolor\":\"white\",\"landcolor\":\"#E5ECF6\",\"subunitcolor\":\"white\",\"showland\":true,\"showlakes\":true,\"lakecolor\":\"white\"},\"title\":{\"x\":0.05},\"mapbox\":{\"style\":\"light\"}}},\"xaxis\":{\"anchor\":\"y\",\"domain\":[0.0,1.0],\"title\":{\"text\":\"freq_growth\"}},\"yaxis\":{\"anchor\":\"x\",\"domain\":[0.0,1.0],\"title\":{\"text\":\"score_growth\"}},\"coloraxis\":{\"colorbar\":{\"title\":{\"text\":\"score_avg\"}},\"colorscale\":[[0.0,\"#0d0887\"],[0.1111111111111111,\"#46039f\"],[0.2222222222222222,\"#7201a8\"],[0.3333333333333333,\"#9c179e\"],[0.4444444444444444,\"#bd3786\"],[0.5555555555555556,\"#d8576b\"],[0.6666666666666666,\"#ed7953\"],[0.7777777777777778,\"#fb9f3a\"],[0.8888888888888888,\"#fdca26\"],[1.0,\"#f0f921\"]]},\"legend\":{\"tracegroupgap\":0},\"title\":{\"text\":\"Concepts growth from 2014 to 2019\"},\"height\":600},                        {\"responsive\": true}                    ).then(function(){\n",
       "                            \n",
       "var gd = document.getElementById('f8af9e89-24aa-4a5b-95db-b153abb6ca1e');\n",
       "var x = new MutationObserver(function (mutations, observer) {{\n",
       "        var display = window.getComputedStyle(gd).display;\n",
       "        if (!display || display === 'none') {{\n",
       "            console.log([gd, 'removed!']);\n",
       "            Plotly.purge(gd);\n",
       "            observer.disconnect();\n",
       "        }}\n",
       "}});\n",
       "\n",
       "// Listen for the removal of the full notebook cells\n",
       "var notebookContainer = gd.closest('#notebook-container');\n",
       "if (notebookContainer) {{\n",
       "    x.observe(notebookContainer, {childList: true});\n",
       "}}\n",
       "\n",
       "// Listen for the clearing of the current output cell\n",
       "var outputEl = gd.closest('.output');\n",
       "if (outputEl) {{\n",
       "    x.observe(outputEl, {childList: true});\n",
       "}}\n",
       "\n",
       "                        })                };                });            </script>        </div>"
      ]
     },
     "metadata": {},
     "output_type": "display_data"
    }
   ],
   "source": [
    "MIN_SCORE = 0.2\n",
    "\n",
    "px.scatter(common_concepts.query(f\"score_avg >= {MIN_SCORE}\"),\n",
    "           x=\"freq_growth\", y=\"score_growth\",\n",
    "            color=\"score_avg\",\n",
    "           hover_name=\"concept\", hover_data=['concept', 'frequency', 'score_avg'],\n",
    "            height=600, title=f\"Concepts growth from {YEAR_START} to {YEAR_END}\"\n",
    "          )"
   ]
  },
  {
   "cell_type": "markdown",
   "metadata": {
    "Collapsed": "false",
    "id": "Etf7KhmR8I1j"
   },
   "source": [
    "## 7. Conclusion\n",
    "\n",
    "In this tutorial we have demonstrated how to process publication *concepts* - normalised keywords found in documents- obtained using the [Dimensions Analytics API](https://www.dimensions.ai/dimensions-apis/).\n",
    "\n",
    "By playing with parameters like *frequency* and *average score*, it is possible to highlight interesting concepts programmatically and use them to carry out semantic analyses of the documents dataset they derive from.\n",
    "\n",
    "For more information on this topic, see also the [official documentation on concepts](https://docs.dimensions.ai/dsl/language.html#searching-using-concepts) and the [Working with concepts in the Dimensions API](https://api-lab.dimensions.ai/cookbooks/1-getting-started/7-Working-with-concepts.html) tutorial."
   ]
  }
 ],
 "metadata": {
  "colab": {
   "provenance": []
  },
  "kernel_info": {
   "name": "python3"
  },
  "kernelspec": {
   "display_name": "Python 3 (ipykernel)",
   "language": "python",
   "name": "python3"
  },
  "language_info": {
   "codemirror_mode": {
    "name": "ipython",
    "version": 3
   },
   "file_extension": ".py",
   "mimetype": "text/x-python",
   "name": "python",
   "nbconvert_exporter": "python",
   "pygments_lexer": "ipython3",
   "version": "3.11.3"
  },
  "nteract": {
   "version": "0.14.5"
  }
 },
 "nbformat": 4,
 "nbformat_minor": 0
}
