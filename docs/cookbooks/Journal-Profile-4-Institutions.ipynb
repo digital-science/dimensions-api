{
 "cells": [
  {
   "cell_type": "markdown",
   "metadata": {
    "Collapsed": "false",
    "colab_type": "text",
    "id": "kWem7RVkXcVP"
   },
   "source": [
    "# Journal Profiling Part 4: Institutions\n",
    "\n",
    "This Python notebook shows how to use the [Dimensions Analytics API](https://www.dimensions.ai/dimensions-apis/) to extract information about the authors affiliations data linked to [publications](https://docs.dimensions.ai/dsl/datasource-publications.html) of a specific journal.\n",
    "\n",
    "This tutorial is the fourth of a series that uses the data extracted in order to generate a 'journal profile' report. See the [API Lab homepage](https://api-lab.dimensions.ai/) for the other tutorials in this series.\n",
    "\n",
    "In this notebook we are going to \n",
    "\n",
    "* Load the publications data extracted in part 1\n",
    "* Focus on institutions linked to a journal: measure how often do they appear, how many affiliated authors they have etc..\n"
   ]
  },
  {
   "cell_type": "code",
   "execution_count": 12,
   "metadata": {},
   "outputs": [
    {
     "name": "stdout",
     "output_type": "stream",
     "text": [
      "==\n",
      "CHANGELOG\n",
      "This notebook was last run on Jan 24, 2022\n",
      "==\n"
     ]
    }
   ],
   "source": [
    "import datetime\n",
    "print(\"==\\nCHANGELOG\\nThis notebook was last run on %s\\n==\" % datetime.date.today().strftime('%b %d, %Y'))"
   ]
  },
  {
   "cell_type": "markdown",
   "metadata": {
    "Collapsed": "false",
    "colab_type": "text",
    "id": "hMaQlB7DG8Vw"
   },
   "source": [
    "## Prerequisites\n",
    "\n",
    "This notebook assumes you have installed the [Dimcli](https://pypi.org/project/dimcli/) library and are familiar with the ['Getting Started' tutorial](https://api-lab.dimensions.ai/cookbooks/1-getting-started/1-Using-the-Dimcli-library-to-query-the-API.html).\n"
   ]
  },
  {
   "cell_type": "code",
   "execution_count": 1,
   "metadata": {
    "Collapsed": "false"
   },
   "outputs": [
    {
     "data": {
      "text/html": [
       "        <script type=\"text/javascript\">\n",
       "        window.PlotlyConfig = {MathJaxConfig: 'local'};\n",
       "        if (window.MathJax) {MathJax.Hub.Config({SVG: {font: \"STIX-Web\"}});}\n",
       "        if (typeof require !== 'undefined') {\n",
       "        require.undef(\"plotly\");\n",
       "        requirejs.config({\n",
       "            paths: {\n",
       "                'plotly': ['https://cdn.plot.ly/plotly-2.8.3.min']\n",
       "            }\n",
       "        });\n",
       "        require(['plotly'], function(Plotly) {\n",
       "            window._Plotly = Plotly;\n",
       "        });\n",
       "        }\n",
       "        </script>\n",
       "        "
      ]
     },
     "metadata": {},
     "output_type": "display_data"
    },
    {
     "name": "stderr",
     "output_type": "stream",
     "text": [
      "\u001b[2mSearching config file credentials for 'https://app.dimensions.ai' endpoint..\u001b[0m\n"
     ]
    },
    {
     "name": "stdout",
     "output_type": "stream",
     "text": [
      "==\n",
      "Logging in..\n",
      "\u001b[2mDimcli - Dimensions API Client (v0.9.6)\u001b[0m\n",
      "\u001b[2mConnected to: <https://app.dimensions.ai/api/dsl> - DSL v2.0\u001b[0m\n",
      "\u001b[2mMethod: dsl.ini file\u001b[0m\n"
     ]
    }
   ],
   "source": [
    "!pip install dimcli plotly tqdm -U --quiet \n",
    "\n",
    "import dimcli\n",
    "from dimcli.utils import *\n",
    "import os, sys, time, json\n",
    "from tqdm.notebook import tqdm as progress\n",
    "import pandas as pd\n",
    "import plotly.express as px\n",
    "from plotly.offline import plot\n",
    "if not 'google.colab' in sys.modules:\n",
    "  # make js dependecies local / needed by html exports\n",
    "  from plotly.offline import init_notebook_mode\n",
    "  init_notebook_mode(connected=True)\n",
    "\n",
    "print(\"==\\nLogging in..\")\n",
    "# https://digital-science.github.io/dimcli/getting-started.html#authentication\n",
    "ENDPOINT = \"https://app.dimensions.ai\"\n",
    "if 'google.colab' in sys.modules:\n",
    "  import getpass\n",
    "  KEY = getpass.getpass(prompt='API Key: ')  \n",
    "  dimcli.login(key=KEY, endpoint=ENDPOINT)\n",
    "else:\n",
    "  KEY = \"\"\n",
    "  dimcli.login(key=KEY, endpoint=ENDPOINT)\n",
    "dsl = dimcli.Dsl()"
   ]
  },
  {
   "cell_type": "markdown",
   "metadata": {
    "Collapsed": "false"
   },
   "source": [
    "Finally, let's set up a folder to store the data we are going to extract: "
   ]
  },
  {
   "cell_type": "code",
   "execution_count": 2,
   "metadata": {
    "Collapsed": "false"
   },
   "outputs": [],
   "source": [
    "# create output data folder\n",
    "FOLDER_NAME = \"journal-profile-data\"\n",
    "if not(os.path.exists(FOLDER_NAME)):\n",
    "    os.mkdir(FOLDER_NAME)\n",
    "\n",
    "def save(df,filename_dot_csv):\n",
    "    df.to_csv(FOLDER_NAME+\"/\"+filename_dot_csv, index=False)"
   ]
  },
  {
   "cell_type": "markdown",
   "metadata": {
    "Collapsed": "false",
    "colab_type": "text",
    "id": "nARfj0K4tQ3H"
   },
   "source": [
    "## Institutions Contributing to a Journal"
   ]
  },
  {
   "cell_type": "markdown",
   "metadata": {
    "Collapsed": "false",
    "colab_type": "text",
    "id": "yPIROxVftQ3I"
   },
   "source": [
    "From our original publications dataset, we now want to look at institutions i.e. \n",
    "\n",
    "* getting the full list of institutions (also ones without a GRID, for subsequent analysis) linked to the journal\n",
    "* publications count \n",
    "* authors count \n",
    "\n",
    "#### Load previously saved affiliations data\n",
    "Let's reload the affiliations data from Part-1 of this tutorial series.\n",
    "\n",
    "**NOTE** If you are using Google Colab or don't have the data available, just do the following: \n",
    "* open up the 'Files' panel in Google Colab and create a new folder `journal-profile-data`\n",
    "* grab this [file](https://github.com/digital-science/dimensions-api-lab/tree/master/cookbooks/2-publications/journal-profile-data.zip), unzip it, open the enclosed folder and upload the file called `1_publications_affiliations.csv` to Google Colab ('Upload' menu or also by dragging then inside the panel window)\n",
    "* move the file inside the `journal-profile-data` folder you just created "
   ]
  },
  {
   "cell_type": "code",
   "execution_count": 3,
   "metadata": {
    "Collapsed": "false",
    "colab": {
     "base_uri": "https://localhost:8080/",
     "height": 1000
    },
    "colab_type": "code",
    "executionInfo": {
     "elapsed": 440,
     "status": "ok",
     "timestamp": 1570141836711,
     "user": {
      "displayName": "Michele Pasin",
      "photoUrl": "https://lh3.googleusercontent.com/a-/AAuE7mBu8LVjIGgontF2Wax51BoL5KFx8esezX3bUmaa0g=s64",
      "userId": "10309320684375994511"
     },
     "user_tz": 240
    },
    "id": "ZGv-f_TttQ3K",
    "outputId": "5c13416d-8169-42d5-b090-7989d32ce824"
   },
   "outputs": [
    {
     "data": {
      "text/html": [
       "<div>\n",
       "<style scoped>\n",
       "    .dataframe tbody tr th:only-of-type {\n",
       "        vertical-align: middle;\n",
       "    }\n",
       "\n",
       "    .dataframe tbody tr th {\n",
       "        vertical-align: top;\n",
       "    }\n",
       "\n",
       "    .dataframe thead th {\n",
       "        text-align: right;\n",
       "    }\n",
       "</style>\n",
       "<table border=\"1\" class=\"dataframe\">\n",
       "  <thead>\n",
       "    <tr style=\"text-align: right;\">\n",
       "      <th></th>\n",
       "      <th>aff_city</th>\n",
       "      <th>aff_city_id</th>\n",
       "      <th>aff_country</th>\n",
       "      <th>aff_country_code</th>\n",
       "      <th>aff_id</th>\n",
       "      <th>aff_name</th>\n",
       "      <th>aff_raw_affiliation</th>\n",
       "      <th>aff_state</th>\n",
       "      <th>aff_state_code</th>\n",
       "      <th>pub_id</th>\n",
       "      <th>researcher_id</th>\n",
       "      <th>first_name</th>\n",
       "      <th>last_name</th>\n",
       "    </tr>\n",
       "  </thead>\n",
       "  <tbody>\n",
       "    <tr>\n",
       "      <th>0</th>\n",
       "      <td>New York</td>\n",
       "      <td>5128581.0</td>\n",
       "      <td>United States</td>\n",
       "      <td>US</td>\n",
       "      <td>grid.59734.3c</td>\n",
       "      <td>Icahn School of Medicine at Mount Sinai</td>\n",
       "      <td>Center for Disease Neurogenomics, Icahn School...</td>\n",
       "      <td>New York</td>\n",
       "      <td>US-NY</td>\n",
       "      <td>pub.1144816179</td>\n",
       "      <td>NaN</td>\n",
       "      <td>Biao</td>\n",
       "      <td>Zeng</td>\n",
       "    </tr>\n",
       "    <tr>\n",
       "      <th>1</th>\n",
       "      <td>New York</td>\n",
       "      <td>5128581.0</td>\n",
       "      <td>United States</td>\n",
       "      <td>US</td>\n",
       "      <td>grid.59734.3c</td>\n",
       "      <td>Icahn School of Medicine at Mount Sinai</td>\n",
       "      <td>Pamela Sklar Division of Psychiatric Genomics,...</td>\n",
       "      <td>New York</td>\n",
       "      <td>US-NY</td>\n",
       "      <td>pub.1144816179</td>\n",
       "      <td>NaN</td>\n",
       "      <td>Biao</td>\n",
       "      <td>Zeng</td>\n",
       "    </tr>\n",
       "    <tr>\n",
       "      <th>2</th>\n",
       "      <td>New York</td>\n",
       "      <td>5128581.0</td>\n",
       "      <td>United States</td>\n",
       "      <td>US</td>\n",
       "      <td>grid.59734.3c</td>\n",
       "      <td>Icahn School of Medicine at Mount Sinai</td>\n",
       "      <td>Department of Genetics and Genomic Sciences, I...</td>\n",
       "      <td>New York</td>\n",
       "      <td>US-NY</td>\n",
       "      <td>pub.1144816179</td>\n",
       "      <td>NaN</td>\n",
       "      <td>Biao</td>\n",
       "      <td>Zeng</td>\n",
       "    </tr>\n",
       "    <tr>\n",
       "      <th>3</th>\n",
       "      <td>New York</td>\n",
       "      <td>5128581.0</td>\n",
       "      <td>United States</td>\n",
       "      <td>US</td>\n",
       "      <td>grid.59734.3c</td>\n",
       "      <td>Icahn School of Medicine at Mount Sinai</td>\n",
       "      <td>Icahn Institute for Data Science and Genomic T...</td>\n",
       "      <td>New York</td>\n",
       "      <td>US-NY</td>\n",
       "      <td>pub.1144816179</td>\n",
       "      <td>NaN</td>\n",
       "      <td>Biao</td>\n",
       "      <td>Zeng</td>\n",
       "    </tr>\n",
       "    <tr>\n",
       "      <th>4</th>\n",
       "      <td>New York</td>\n",
       "      <td>5128581.0</td>\n",
       "      <td>United States</td>\n",
       "      <td>US</td>\n",
       "      <td>grid.59734.3c</td>\n",
       "      <td>Icahn School of Medicine at Mount Sinai</td>\n",
       "      <td>Department of Psychiatry, Icahn School of Medi...</td>\n",
       "      <td>New York</td>\n",
       "      <td>US-NY</td>\n",
       "      <td>pub.1144816179</td>\n",
       "      <td>NaN</td>\n",
       "      <td>Biao</td>\n",
       "      <td>Zeng</td>\n",
       "    </tr>\n",
       "    <tr>\n",
       "      <th>5</th>\n",
       "      <td>New York</td>\n",
       "      <td>5128581.0</td>\n",
       "      <td>United States</td>\n",
       "      <td>US</td>\n",
       "      <td>grid.59734.3c</td>\n",
       "      <td>Icahn School of Medicine at Mount Sinai</td>\n",
       "      <td>Center for Disease Neurogenomics, Icahn School...</td>\n",
       "      <td>New York</td>\n",
       "      <td>US-NY</td>\n",
       "      <td>pub.1144816179</td>\n",
       "      <td>NaN</td>\n",
       "      <td>Jaroslav</td>\n",
       "      <td>Bendl</td>\n",
       "    </tr>\n",
       "    <tr>\n",
       "      <th>6</th>\n",
       "      <td>New York</td>\n",
       "      <td>5128581.0</td>\n",
       "      <td>United States</td>\n",
       "      <td>US</td>\n",
       "      <td>grid.59734.3c</td>\n",
       "      <td>Icahn School of Medicine at Mount Sinai</td>\n",
       "      <td>Pamela Sklar Division of Psychiatric Genomics,...</td>\n",
       "      <td>New York</td>\n",
       "      <td>US-NY</td>\n",
       "      <td>pub.1144816179</td>\n",
       "      <td>NaN</td>\n",
       "      <td>Jaroslav</td>\n",
       "      <td>Bendl</td>\n",
       "    </tr>\n",
       "    <tr>\n",
       "      <th>7</th>\n",
       "      <td>New York</td>\n",
       "      <td>5128581.0</td>\n",
       "      <td>United States</td>\n",
       "      <td>US</td>\n",
       "      <td>grid.59734.3c</td>\n",
       "      <td>Icahn School of Medicine at Mount Sinai</td>\n",
       "      <td>Department of Genetics and Genomic Sciences, I...</td>\n",
       "      <td>New York</td>\n",
       "      <td>US-NY</td>\n",
       "      <td>pub.1144816179</td>\n",
       "      <td>NaN</td>\n",
       "      <td>Jaroslav</td>\n",
       "      <td>Bendl</td>\n",
       "    </tr>\n",
       "    <tr>\n",
       "      <th>8</th>\n",
       "      <td>New York</td>\n",
       "      <td>5128581.0</td>\n",
       "      <td>United States</td>\n",
       "      <td>US</td>\n",
       "      <td>grid.59734.3c</td>\n",
       "      <td>Icahn School of Medicine at Mount Sinai</td>\n",
       "      <td>Icahn Institute for Data Science and Genomic T...</td>\n",
       "      <td>New York</td>\n",
       "      <td>US-NY</td>\n",
       "      <td>pub.1144816179</td>\n",
       "      <td>NaN</td>\n",
       "      <td>Jaroslav</td>\n",
       "      <td>Bendl</td>\n",
       "    </tr>\n",
       "    <tr>\n",
       "      <th>9</th>\n",
       "      <td>New York</td>\n",
       "      <td>5128581.0</td>\n",
       "      <td>United States</td>\n",
       "      <td>US</td>\n",
       "      <td>grid.59734.3c</td>\n",
       "      <td>Icahn School of Medicine at Mount Sinai</td>\n",
       "      <td>Department of Psychiatry, Icahn School of Medi...</td>\n",
       "      <td>New York</td>\n",
       "      <td>US-NY</td>\n",
       "      <td>pub.1144816179</td>\n",
       "      <td>NaN</td>\n",
       "      <td>Jaroslav</td>\n",
       "      <td>Bendl</td>\n",
       "    </tr>\n",
       "  </tbody>\n",
       "</table>\n",
       "</div>"
      ],
      "text/plain": [
       "   aff_city  aff_city_id    aff_country aff_country_code         aff_id  \\\n",
       "0  New York    5128581.0  United States               US  grid.59734.3c   \n",
       "1  New York    5128581.0  United States               US  grid.59734.3c   \n",
       "2  New York    5128581.0  United States               US  grid.59734.3c   \n",
       "3  New York    5128581.0  United States               US  grid.59734.3c   \n",
       "4  New York    5128581.0  United States               US  grid.59734.3c   \n",
       "5  New York    5128581.0  United States               US  grid.59734.3c   \n",
       "6  New York    5128581.0  United States               US  grid.59734.3c   \n",
       "7  New York    5128581.0  United States               US  grid.59734.3c   \n",
       "8  New York    5128581.0  United States               US  grid.59734.3c   \n",
       "9  New York    5128581.0  United States               US  grid.59734.3c   \n",
       "\n",
       "                                  aff_name  \\\n",
       "0  Icahn School of Medicine at Mount Sinai   \n",
       "1  Icahn School of Medicine at Mount Sinai   \n",
       "2  Icahn School of Medicine at Mount Sinai   \n",
       "3  Icahn School of Medicine at Mount Sinai   \n",
       "4  Icahn School of Medicine at Mount Sinai   \n",
       "5  Icahn School of Medicine at Mount Sinai   \n",
       "6  Icahn School of Medicine at Mount Sinai   \n",
       "7  Icahn School of Medicine at Mount Sinai   \n",
       "8  Icahn School of Medicine at Mount Sinai   \n",
       "9  Icahn School of Medicine at Mount Sinai   \n",
       "\n",
       "                                 aff_raw_affiliation aff_state aff_state_code  \\\n",
       "0  Center for Disease Neurogenomics, Icahn School...  New York          US-NY   \n",
       "1  Pamela Sklar Division of Psychiatric Genomics,...  New York          US-NY   \n",
       "2  Department of Genetics and Genomic Sciences, I...  New York          US-NY   \n",
       "3  Icahn Institute for Data Science and Genomic T...  New York          US-NY   \n",
       "4  Department of Psychiatry, Icahn School of Medi...  New York          US-NY   \n",
       "5  Center for Disease Neurogenomics, Icahn School...  New York          US-NY   \n",
       "6  Pamela Sklar Division of Psychiatric Genomics,...  New York          US-NY   \n",
       "7  Department of Genetics and Genomic Sciences, I...  New York          US-NY   \n",
       "8  Icahn Institute for Data Science and Genomic T...  New York          US-NY   \n",
       "9  Department of Psychiatry, Icahn School of Medi...  New York          US-NY   \n",
       "\n",
       "           pub_id researcher_id first_name last_name  \n",
       "0  pub.1144816179           NaN       Biao      Zeng  \n",
       "1  pub.1144816179           NaN       Biao      Zeng  \n",
       "2  pub.1144816179           NaN       Biao      Zeng  \n",
       "3  pub.1144816179           NaN       Biao      Zeng  \n",
       "4  pub.1144816179           NaN       Biao      Zeng  \n",
       "5  pub.1144816179           NaN   Jaroslav     Bendl  \n",
       "6  pub.1144816179           NaN   Jaroslav     Bendl  \n",
       "7  pub.1144816179           NaN   Jaroslav     Bendl  \n",
       "8  pub.1144816179           NaN   Jaroslav     Bendl  \n",
       "9  pub.1144816179           NaN   Jaroslav     Bendl  "
      ]
     },
     "execution_count": 3,
     "metadata": {},
     "output_type": "execute_result"
    }
   ],
   "source": [
    "affiliations = pd.read_csv(FOLDER_NAME+\"/1_publications_affiliations.csv\")\n",
    "affiliations.head(10)"
   ]
  },
  {
   "cell_type": "markdown",
   "metadata": {
    "Collapsed": "false",
    "colab_type": "text",
    "id": "8Tri9qhoCYH3"
   },
   "source": [
    "## Basic stats about affiliations\n",
    "\n",
    "* count how many affiliations statements in total\n",
    "* count how many affiliations have a GRID ID\n",
    "* count how many unique GRID IDs we have in total"
   ]
  },
  {
   "cell_type": "code",
   "execution_count": 4,
   "metadata": {
    "Collapsed": "false",
    "colab": {},
    "colab_type": "code",
    "id": "0QU8Po_8tQ3_"
   },
   "outputs": [],
   "source": [
    "#\n",
    "# segment the affiliations dataset\n",
    "affiliations = affiliations.fillna('') \n",
    "affiliations_with_grid = affiliations.query(\"aff_id != ''\")\n",
    "affiliations_without_grid = affiliations.query(\"aff_id == ''\")\n",
    "#\n",
    "# save\n",
    "save(affiliations_without_grid, \"4_institutions_without_grid.csv\")"
   ]
  },
  {
   "cell_type": "code",
   "execution_count": 5,
   "metadata": {
    "Collapsed": "false",
    "colab": {
     "base_uri": "https://localhost:8080/",
     "height": 617
    },
    "colab_type": "code",
    "executionInfo": {
     "elapsed": 1977,
     "status": "ok",
     "timestamp": 1570142002838,
     "user": {
      "displayName": "Michele Pasin",
      "photoUrl": "https://lh3.googleusercontent.com/a-/AAuE7mBu8LVjIGgontF2Wax51BoL5KFx8esezX3bUmaa0g=s64",
      "userId": "10309320684375994511"
     },
     "user_tz": 240
    },
    "id": "rsJEcm--tQ4C",
    "outputId": "3521303a-ea56-4638-da07-bfb0121ef950"
   },
   "outputs": [
    {
     "data": {
      "application/vnd.plotly.v1+json": {
       "config": {
        "plotlyServerURL": "https://plot.ly"
       },
       "data": [
        {
         "alignmentgroup": "True",
         "hovertemplate": "measure=%{x}<br>count=%{y}<extra></extra>",
         "legendgroup": "",
         "marker": {
          "color": "#636efa",
          "pattern": {
           "shape": ""
          }
         },
         "name": "",
         "offsetgroup": "",
         "orientation": "v",
         "showlegend": false,
         "textposition": "auto",
         "type": "bar",
         "x": [
          "Affiliations in total (non unique)",
          "Affiliations with a GRID ID",
          "Affiliations with a GRID ID (unique)"
         ],
         "xaxis": "x",
         "y": [
          74335,
          71334,
          3069
         ],
         "yaxis": "y"
        }
       ],
       "layout": {
        "autosize": true,
        "barmode": "relative",
        "legend": {
         "tracegroupgap": 0
        },
        "template": {
         "data": {
          "bar": [
           {
            "error_x": {
             "color": "#2a3f5f"
            },
            "error_y": {
             "color": "#2a3f5f"
            },
            "marker": {
             "line": {
              "color": "#E5ECF6",
              "width": 0.5
             },
             "pattern": {
              "fillmode": "overlay",
              "size": 10,
              "solidity": 0.2
             }
            },
            "type": "bar"
           }
          ],
          "barpolar": [
           {
            "marker": {
             "line": {
              "color": "#E5ECF6",
              "width": 0.5
             },
             "pattern": {
              "fillmode": "overlay",
              "size": 10,
              "solidity": 0.2
             }
            },
            "type": "barpolar"
           }
          ],
          "carpet": [
           {
            "aaxis": {
             "endlinecolor": "#2a3f5f",
             "gridcolor": "white",
             "linecolor": "white",
             "minorgridcolor": "white",
             "startlinecolor": "#2a3f5f"
            },
            "baxis": {
             "endlinecolor": "#2a3f5f",
             "gridcolor": "white",
             "linecolor": "white",
             "minorgridcolor": "white",
             "startlinecolor": "#2a3f5f"
            },
            "type": "carpet"
           }
          ],
          "choropleth": [
           {
            "colorbar": {
             "outlinewidth": 0,
             "ticks": ""
            },
            "type": "choropleth"
           }
          ],
          "contour": [
           {
            "colorbar": {
             "outlinewidth": 0,
             "ticks": ""
            },
            "colorscale": [
             [
              0,
              "#0d0887"
             ],
             [
              0.1111111111111111,
              "#46039f"
             ],
             [
              0.2222222222222222,
              "#7201a8"
             ],
             [
              0.3333333333333333,
              "#9c179e"
             ],
             [
              0.4444444444444444,
              "#bd3786"
             ],
             [
              0.5555555555555556,
              "#d8576b"
             ],
             [
              0.6666666666666666,
              "#ed7953"
             ],
             [
              0.7777777777777778,
              "#fb9f3a"
             ],
             [
              0.8888888888888888,
              "#fdca26"
             ],
             [
              1,
              "#f0f921"
             ]
            ],
            "type": "contour"
           }
          ],
          "contourcarpet": [
           {
            "colorbar": {
             "outlinewidth": 0,
             "ticks": ""
            },
            "type": "contourcarpet"
           }
          ],
          "heatmap": [
           {
            "colorbar": {
             "outlinewidth": 0,
             "ticks": ""
            },
            "colorscale": [
             [
              0,
              "#0d0887"
             ],
             [
              0.1111111111111111,
              "#46039f"
             ],
             [
              0.2222222222222222,
              "#7201a8"
             ],
             [
              0.3333333333333333,
              "#9c179e"
             ],
             [
              0.4444444444444444,
              "#bd3786"
             ],
             [
              0.5555555555555556,
              "#d8576b"
             ],
             [
              0.6666666666666666,
              "#ed7953"
             ],
             [
              0.7777777777777778,
              "#fb9f3a"
             ],
             [
              0.8888888888888888,
              "#fdca26"
             ],
             [
              1,
              "#f0f921"
             ]
            ],
            "type": "heatmap"
           }
          ],
          "heatmapgl": [
           {
            "colorbar": {
             "outlinewidth": 0,
             "ticks": ""
            },
            "colorscale": [
             [
              0,
              "#0d0887"
             ],
             [
              0.1111111111111111,
              "#46039f"
             ],
             [
              0.2222222222222222,
              "#7201a8"
             ],
             [
              0.3333333333333333,
              "#9c179e"
             ],
             [
              0.4444444444444444,
              "#bd3786"
             ],
             [
              0.5555555555555556,
              "#d8576b"
             ],
             [
              0.6666666666666666,
              "#ed7953"
             ],
             [
              0.7777777777777778,
              "#fb9f3a"
             ],
             [
              0.8888888888888888,
              "#fdca26"
             ],
             [
              1,
              "#f0f921"
             ]
            ],
            "type": "heatmapgl"
           }
          ],
          "histogram": [
           {
            "marker": {
             "pattern": {
              "fillmode": "overlay",
              "size": 10,
              "solidity": 0.2
             }
            },
            "type": "histogram"
           }
          ],
          "histogram2d": [
           {
            "colorbar": {
             "outlinewidth": 0,
             "ticks": ""
            },
            "colorscale": [
             [
              0,
              "#0d0887"
             ],
             [
              0.1111111111111111,
              "#46039f"
             ],
             [
              0.2222222222222222,
              "#7201a8"
             ],
             [
              0.3333333333333333,
              "#9c179e"
             ],
             [
              0.4444444444444444,
              "#bd3786"
             ],
             [
              0.5555555555555556,
              "#d8576b"
             ],
             [
              0.6666666666666666,
              "#ed7953"
             ],
             [
              0.7777777777777778,
              "#fb9f3a"
             ],
             [
              0.8888888888888888,
              "#fdca26"
             ],
             [
              1,
              "#f0f921"
             ]
            ],
            "type": "histogram2d"
           }
          ],
          "histogram2dcontour": [
           {
            "colorbar": {
             "outlinewidth": 0,
             "ticks": ""
            },
            "colorscale": [
             [
              0,
              "#0d0887"
             ],
             [
              0.1111111111111111,
              "#46039f"
             ],
             [
              0.2222222222222222,
              "#7201a8"
             ],
             [
              0.3333333333333333,
              "#9c179e"
             ],
             [
              0.4444444444444444,
              "#bd3786"
             ],
             [
              0.5555555555555556,
              "#d8576b"
             ],
             [
              0.6666666666666666,
              "#ed7953"
             ],
             [
              0.7777777777777778,
              "#fb9f3a"
             ],
             [
              0.8888888888888888,
              "#fdca26"
             ],
             [
              1,
              "#f0f921"
             ]
            ],
            "type": "histogram2dcontour"
           }
          ],
          "mesh3d": [
           {
            "colorbar": {
             "outlinewidth": 0,
             "ticks": ""
            },
            "type": "mesh3d"
           }
          ],
          "parcoords": [
           {
            "line": {
             "colorbar": {
              "outlinewidth": 0,
              "ticks": ""
             }
            },
            "type": "parcoords"
           }
          ],
          "pie": [
           {
            "automargin": true,
            "type": "pie"
           }
          ],
          "scatter": [
           {
            "marker": {
             "colorbar": {
              "outlinewidth": 0,
              "ticks": ""
             }
            },
            "type": "scatter"
           }
          ],
          "scatter3d": [
           {
            "line": {
             "colorbar": {
              "outlinewidth": 0,
              "ticks": ""
             }
            },
            "marker": {
             "colorbar": {
              "outlinewidth": 0,
              "ticks": ""
             }
            },
            "type": "scatter3d"
           }
          ],
          "scattercarpet": [
           {
            "marker": {
             "colorbar": {
              "outlinewidth": 0,
              "ticks": ""
             }
            },
            "type": "scattercarpet"
           }
          ],
          "scattergeo": [
           {
            "marker": {
             "colorbar": {
              "outlinewidth": 0,
              "ticks": ""
             }
            },
            "type": "scattergeo"
           }
          ],
          "scattergl": [
           {
            "marker": {
             "colorbar": {
              "outlinewidth": 0,
              "ticks": ""
             }
            },
            "type": "scattergl"
           }
          ],
          "scattermapbox": [
           {
            "marker": {
             "colorbar": {
              "outlinewidth": 0,
              "ticks": ""
             }
            },
            "type": "scattermapbox"
           }
          ],
          "scatterpolar": [
           {
            "marker": {
             "colorbar": {
              "outlinewidth": 0,
              "ticks": ""
             }
            },
            "type": "scatterpolar"
           }
          ],
          "scatterpolargl": [
           {
            "marker": {
             "colorbar": {
              "outlinewidth": 0,
              "ticks": ""
             }
            },
            "type": "scatterpolargl"
           }
          ],
          "scatterternary": [
           {
            "marker": {
             "colorbar": {
              "outlinewidth": 0,
              "ticks": ""
             }
            },
            "type": "scatterternary"
           }
          ],
          "surface": [
           {
            "colorbar": {
             "outlinewidth": 0,
             "ticks": ""
            },
            "colorscale": [
             [
              0,
              "#0d0887"
             ],
             [
              0.1111111111111111,
              "#46039f"
             ],
             [
              0.2222222222222222,
              "#7201a8"
             ],
             [
              0.3333333333333333,
              "#9c179e"
             ],
             [
              0.4444444444444444,
              "#bd3786"
             ],
             [
              0.5555555555555556,
              "#d8576b"
             ],
             [
              0.6666666666666666,
              "#ed7953"
             ],
             [
              0.7777777777777778,
              "#fb9f3a"
             ],
             [
              0.8888888888888888,
              "#fdca26"
             ],
             [
              1,
              "#f0f921"
             ]
            ],
            "type": "surface"
           }
          ],
          "table": [
           {
            "cells": {
             "fill": {
              "color": "#EBF0F8"
             },
             "line": {
              "color": "white"
             }
            },
            "header": {
             "fill": {
              "color": "#C8D4E3"
             },
             "line": {
              "color": "white"
             }
            },
            "type": "table"
           }
          ]
         },
         "layout": {
          "annotationdefaults": {
           "arrowcolor": "#2a3f5f",
           "arrowhead": 0,
           "arrowwidth": 1
          },
          "autotypenumbers": "strict",
          "coloraxis": {
           "colorbar": {
            "outlinewidth": 0,
            "ticks": ""
           }
          },
          "colorscale": {
           "diverging": [
            [
             0,
             "#8e0152"
            ],
            [
             0.1,
             "#c51b7d"
            ],
            [
             0.2,
             "#de77ae"
            ],
            [
             0.3,
             "#f1b6da"
            ],
            [
             0.4,
             "#fde0ef"
            ],
            [
             0.5,
             "#f7f7f7"
            ],
            [
             0.6,
             "#e6f5d0"
            ],
            [
             0.7,
             "#b8e186"
            ],
            [
             0.8,
             "#7fbc41"
            ],
            [
             0.9,
             "#4d9221"
            ],
            [
             1,
             "#276419"
            ]
           ],
           "sequential": [
            [
             0,
             "#0d0887"
            ],
            [
             0.1111111111111111,
             "#46039f"
            ],
            [
             0.2222222222222222,
             "#7201a8"
            ],
            [
             0.3333333333333333,
             "#9c179e"
            ],
            [
             0.4444444444444444,
             "#bd3786"
            ],
            [
             0.5555555555555556,
             "#d8576b"
            ],
            [
             0.6666666666666666,
             "#ed7953"
            ],
            [
             0.7777777777777778,
             "#fb9f3a"
            ],
            [
             0.8888888888888888,
             "#fdca26"
            ],
            [
             1,
             "#f0f921"
            ]
           ],
           "sequentialminus": [
            [
             0,
             "#0d0887"
            ],
            [
             0.1111111111111111,
             "#46039f"
            ],
            [
             0.2222222222222222,
             "#7201a8"
            ],
            [
             0.3333333333333333,
             "#9c179e"
            ],
            [
             0.4444444444444444,
             "#bd3786"
            ],
            [
             0.5555555555555556,
             "#d8576b"
            ],
            [
             0.6666666666666666,
             "#ed7953"
            ],
            [
             0.7777777777777778,
             "#fb9f3a"
            ],
            [
             0.8888888888888888,
             "#fdca26"
            ],
            [
             1,
             "#f0f921"
            ]
           ]
          },
          "colorway": [
           "#636efa",
           "#EF553B",
           "#00cc96",
           "#ab63fa",
           "#FFA15A",
           "#19d3f3",
           "#FF6692",
           "#B6E880",
           "#FF97FF",
           "#FECB52"
          ],
          "font": {
           "color": "#2a3f5f"
          },
          "geo": {
           "bgcolor": "white",
           "lakecolor": "white",
           "landcolor": "#E5ECF6",
           "showlakes": true,
           "showland": true,
           "subunitcolor": "white"
          },
          "hoverlabel": {
           "align": "left"
          },
          "hovermode": "closest",
          "mapbox": {
           "style": "light"
          },
          "paper_bgcolor": "white",
          "plot_bgcolor": "#E5ECF6",
          "polar": {
           "angularaxis": {
            "gridcolor": "white",
            "linecolor": "white",
            "ticks": ""
           },
           "bgcolor": "#E5ECF6",
           "radialaxis": {
            "gridcolor": "white",
            "linecolor": "white",
            "ticks": ""
           }
          },
          "scene": {
           "xaxis": {
            "backgroundcolor": "#E5ECF6",
            "gridcolor": "white",
            "gridwidth": 2,
            "linecolor": "white",
            "showbackground": true,
            "ticks": "",
            "zerolinecolor": "white"
           },
           "yaxis": {
            "backgroundcolor": "#E5ECF6",
            "gridcolor": "white",
            "gridwidth": 2,
            "linecolor": "white",
            "showbackground": true,
            "ticks": "",
            "zerolinecolor": "white"
           },
           "zaxis": {
            "backgroundcolor": "#E5ECF6",
            "gridcolor": "white",
            "gridwidth": 2,
            "linecolor": "white",
            "showbackground": true,
            "ticks": "",
            "zerolinecolor": "white"
           }
          },
          "shapedefaults": {
           "line": {
            "color": "#2a3f5f"
           }
          },
          "ternary": {
           "aaxis": {
            "gridcolor": "white",
            "linecolor": "white",
            "ticks": ""
           },
           "baxis": {
            "gridcolor": "white",
            "linecolor": "white",
            "ticks": ""
           },
           "bgcolor": "#E5ECF6",
           "caxis": {
            "gridcolor": "white",
            "linecolor": "white",
            "ticks": ""
           }
          },
          "title": {
           "x": 0.05
          },
          "xaxis": {
           "automargin": true,
           "gridcolor": "white",
           "linecolor": "white",
           "ticks": "",
           "title": {
            "standoff": 15
           },
           "zerolinecolor": "white",
           "zerolinewidth": 2
          },
          "yaxis": {
           "automargin": true,
           "gridcolor": "white",
           "linecolor": "white",
           "ticks": "",
           "title": {
            "standoff": 15
           },
           "zerolinecolor": "white",
           "zerolinewidth": 2
          }
         }
        },
        "title": {
         "text": "Affiliations stats"
        },
        "xaxis": {
         "anchor": "y",
         "autorange": true,
         "domain": [
          0,
          1
         ],
         "range": [
          -0.5,
          2.5
         ],
         "title": {
          "text": "measure"
         },
         "type": "category"
        },
        "yaxis": {
         "anchor": "x",
         "autorange": true,
         "domain": [
          0,
          1
         ],
         "range": [
          0,
          78247.36842105263
         ],
         "title": {
          "text": "count"
         },
         "type": "linear"
        }
       }
      },
      "image/png": "[encoded data removed]",
      "text/html": [
       "<div>                            <div id=\"3b04d6a3-e145-448f-9a67-138eb33e8d28\" class=\"plotly-graph-div\" style=\"height:525px; width:100%;\"></div>            <script type=\"text/javascript\">                require([\"plotly\"], function(Plotly) {                    window.PLOTLYENV=window.PLOTLYENV || {};                                    if (document.getElementById(\"3b04d6a3-e145-448f-9a67-138eb33e8d28\")) {                    Plotly.newPlot(                        \"3b04d6a3-e145-448f-9a67-138eb33e8d28\",                        [{\"alignmentgroup\":\"True\",\"hovertemplate\":\"measure=%{x}<br>count=%{y}<extra></extra>\",\"legendgroup\":\"\",\"marker\":{\"color\":\"#636efa\",\"pattern\":{\"shape\":\"\"}},\"name\":\"\",\"offsetgroup\":\"\",\"orientation\":\"v\",\"showlegend\":false,\"textposition\":\"auto\",\"x\":[\"Affiliations in total (non unique)\",\"Affiliations with a GRID ID\",\"Affiliations with a GRID ID (unique)\"],\"xaxis\":\"x\",\"y\":[74335,71334,3069],\"yaxis\":\"y\",\"type\":\"bar\"}],                        {\"template\":{\"data\":{\"bar\":[{\"error_x\":{\"color\":\"#2a3f5f\"},\"error_y\":{\"color\":\"#2a3f5f\"},\"marker\":{\"line\":{\"color\":\"#E5ECF6\",\"width\":0.5},\"pattern\":{\"fillmode\":\"overlay\",\"size\":10,\"solidity\":0.2}},\"type\":\"bar\"}],\"barpolar\":[{\"marker\":{\"line\":{\"color\":\"#E5ECF6\",\"width\":0.5},\"pattern\":{\"fillmode\":\"overlay\",\"size\":10,\"solidity\":0.2}},\"type\":\"barpolar\"}],\"carpet\":[{\"aaxis\":{\"endlinecolor\":\"#2a3f5f\",\"gridcolor\":\"white\",\"linecolor\":\"white\",\"minorgridcolor\":\"white\",\"startlinecolor\":\"#2a3f5f\"},\"baxis\":{\"endlinecolor\":\"#2a3f5f\",\"gridcolor\":\"white\",\"linecolor\":\"white\",\"minorgridcolor\":\"white\",\"startlinecolor\":\"#2a3f5f\"},\"type\":\"carpet\"}],\"choropleth\":[{\"colorbar\":{\"outlinewidth\":0,\"ticks\":\"\"},\"type\":\"choropleth\"}],\"contour\":[{\"colorbar\":{\"outlinewidth\":0,\"ticks\":\"\"},\"colorscale\":[[0.0,\"#0d0887\"],[0.1111111111111111,\"#46039f\"],[0.2222222222222222,\"#7201a8\"],[0.3333333333333333,\"#9c179e\"],[0.4444444444444444,\"#bd3786\"],[0.5555555555555556,\"#d8576b\"],[0.6666666666666666,\"#ed7953\"],[0.7777777777777778,\"#fb9f3a\"],[0.8888888888888888,\"#fdca26\"],[1.0,\"#f0f921\"]],\"type\":\"contour\"}],\"contourcarpet\":[{\"colorbar\":{\"outlinewidth\":0,\"ticks\":\"\"},\"type\":\"contourcarpet\"}],\"heatmap\":[{\"colorbar\":{\"outlinewidth\":0,\"ticks\":\"\"},\"colorscale\":[[0.0,\"#0d0887\"],[0.1111111111111111,\"#46039f\"],[0.2222222222222222,\"#7201a8\"],[0.3333333333333333,\"#9c179e\"],[0.4444444444444444,\"#bd3786\"],[0.5555555555555556,\"#d8576b\"],[0.6666666666666666,\"#ed7953\"],[0.7777777777777778,\"#fb9f3a\"],[0.8888888888888888,\"#fdca26\"],[1.0,\"#f0f921\"]],\"type\":\"heatmap\"}],\"heatmapgl\":[{\"colorbar\":{\"outlinewidth\":0,\"ticks\":\"\"},\"colorscale\":[[0.0,\"#0d0887\"],[0.1111111111111111,\"#46039f\"],[0.2222222222222222,\"#7201a8\"],[0.3333333333333333,\"#9c179e\"],[0.4444444444444444,\"#bd3786\"],[0.5555555555555556,\"#d8576b\"],[0.6666666666666666,\"#ed7953\"],[0.7777777777777778,\"#fb9f3a\"],[0.8888888888888888,\"#fdca26\"],[1.0,\"#f0f921\"]],\"type\":\"heatmapgl\"}],\"histogram\":[{\"marker\":{\"pattern\":{\"fillmode\":\"overlay\",\"size\":10,\"solidity\":0.2}},\"type\":\"histogram\"}],\"histogram2d\":[{\"colorbar\":{\"outlinewidth\":0,\"ticks\":\"\"},\"colorscale\":[[0.0,\"#0d0887\"],[0.1111111111111111,\"#46039f\"],[0.2222222222222222,\"#7201a8\"],[0.3333333333333333,\"#9c179e\"],[0.4444444444444444,\"#bd3786\"],[0.5555555555555556,\"#d8576b\"],[0.6666666666666666,\"#ed7953\"],[0.7777777777777778,\"#fb9f3a\"],[0.8888888888888888,\"#fdca26\"],[1.0,\"#f0f921\"]],\"type\":\"histogram2d\"}],\"histogram2dcontour\":[{\"colorbar\":{\"outlinewidth\":0,\"ticks\":\"\"},\"colorscale\":[[0.0,\"#0d0887\"],[0.1111111111111111,\"#46039f\"],[0.2222222222222222,\"#7201a8\"],[0.3333333333333333,\"#9c179e\"],[0.4444444444444444,\"#bd3786\"],[0.5555555555555556,\"#d8576b\"],[0.6666666666666666,\"#ed7953\"],[0.7777777777777778,\"#fb9f3a\"],[0.8888888888888888,\"#fdca26\"],[1.0,\"#f0f921\"]],\"type\":\"histogram2dcontour\"}],\"mesh3d\":[{\"colorbar\":{\"outlinewidth\":0,\"ticks\":\"\"},\"type\":\"mesh3d\"}],\"parcoords\":[{\"line\":{\"colorbar\":{\"outlinewidth\":0,\"ticks\":\"\"}},\"type\":\"parcoords\"}],\"pie\":[{\"automargin\":true,\"type\":\"pie\"}],\"scatter\":[{\"marker\":{\"colorbar\":{\"outlinewidth\":0,\"ticks\":\"\"}},\"type\":\"scatter\"}],\"scatter3d\":[{\"line\":{\"colorbar\":{\"outlinewidth\":0,\"ticks\":\"\"}},\"marker\":{\"colorbar\":{\"outlinewidth\":0,\"ticks\":\"\"}},\"type\":\"scatter3d\"}],\"scattercarpet\":[{\"marker\":{\"colorbar\":{\"outlinewidth\":0,\"ticks\":\"\"}},\"type\":\"scattercarpet\"}],\"scattergeo\":[{\"marker\":{\"colorbar\":{\"outlinewidth\":0,\"ticks\":\"\"}},\"type\":\"scattergeo\"}],\"scattergl\":[{\"marker\":{\"colorbar\":{\"outlinewidth\":0,\"ticks\":\"\"}},\"type\":\"scattergl\"}],\"scattermapbox\":[{\"marker\":{\"colorbar\":{\"outlinewidth\":0,\"ticks\":\"\"}},\"type\":\"scattermapbox\"}],\"scatterpolar\":[{\"marker\":{\"colorbar\":{\"outlinewidth\":0,\"ticks\":\"\"}},\"type\":\"scatterpolar\"}],\"scatterpolargl\":[{\"marker\":{\"colorbar\":{\"outlinewidth\":0,\"ticks\":\"\"}},\"type\":\"scatterpolargl\"}],\"scatterternary\":[{\"marker\":{\"colorbar\":{\"outlinewidth\":0,\"ticks\":\"\"}},\"type\":\"scatterternary\"}],\"surface\":[{\"colorbar\":{\"outlinewidth\":0,\"ticks\":\"\"},\"colorscale\":[[0.0,\"#0d0887\"],[0.1111111111111111,\"#46039f\"],[0.2222222222222222,\"#7201a8\"],[0.3333333333333333,\"#9c179e\"],[0.4444444444444444,\"#bd3786\"],[0.5555555555555556,\"#d8576b\"],[0.6666666666666666,\"#ed7953\"],[0.7777777777777778,\"#fb9f3a\"],[0.8888888888888888,\"#fdca26\"],[1.0,\"#f0f921\"]],\"type\":\"surface\"}],\"table\":[{\"cells\":{\"fill\":{\"color\":\"#EBF0F8\"},\"line\":{\"color\":\"white\"}},\"header\":{\"fill\":{\"color\":\"#C8D4E3\"},\"line\":{\"color\":\"white\"}},\"type\":\"table\"}]},\"layout\":{\"annotationdefaults\":{\"arrowcolor\":\"#2a3f5f\",\"arrowhead\":0,\"arrowwidth\":1},\"autotypenumbers\":\"strict\",\"coloraxis\":{\"colorbar\":{\"outlinewidth\":0,\"ticks\":\"\"}},\"colorscale\":{\"diverging\":[[0,\"#8e0152\"],[0.1,\"#c51b7d\"],[0.2,\"#de77ae\"],[0.3,\"#f1b6da\"],[0.4,\"#fde0ef\"],[0.5,\"#f7f7f7\"],[0.6,\"#e6f5d0\"],[0.7,\"#b8e186\"],[0.8,\"#7fbc41\"],[0.9,\"#4d9221\"],[1,\"#276419\"]],\"sequential\":[[0.0,\"#0d0887\"],[0.1111111111111111,\"#46039f\"],[0.2222222222222222,\"#7201a8\"],[0.3333333333333333,\"#9c179e\"],[0.4444444444444444,\"#bd3786\"],[0.5555555555555556,\"#d8576b\"],[0.6666666666666666,\"#ed7953\"],[0.7777777777777778,\"#fb9f3a\"],[0.8888888888888888,\"#fdca26\"],[1.0,\"#f0f921\"]],\"sequentialminus\":[[0.0,\"#0d0887\"],[0.1111111111111111,\"#46039f\"],[0.2222222222222222,\"#7201a8\"],[0.3333333333333333,\"#9c179e\"],[0.4444444444444444,\"#bd3786\"],[0.5555555555555556,\"#d8576b\"],[0.6666666666666666,\"#ed7953\"],[0.7777777777777778,\"#fb9f3a\"],[0.8888888888888888,\"#fdca26\"],[1.0,\"#f0f921\"]]},\"colorway\":[\"#636efa\",\"#EF553B\",\"#00cc96\",\"#ab63fa\",\"#FFA15A\",\"#19d3f3\",\"#FF6692\",\"#B6E880\",\"#FF97FF\",\"#FECB52\"],\"font\":{\"color\":\"#2a3f5f\"},\"geo\":{\"bgcolor\":\"white\",\"lakecolor\":\"white\",\"landcolor\":\"#E5ECF6\",\"showlakes\":true,\"showland\":true,\"subunitcolor\":\"white\"},\"hoverlabel\":{\"align\":\"left\"},\"hovermode\":\"closest\",\"mapbox\":{\"style\":\"light\"},\"paper_bgcolor\":\"white\",\"plot_bgcolor\":\"#E5ECF6\",\"polar\":{\"angularaxis\":{\"gridcolor\":\"white\",\"linecolor\":\"white\",\"ticks\":\"\"},\"bgcolor\":\"#E5ECF6\",\"radialaxis\":{\"gridcolor\":\"white\",\"linecolor\":\"white\",\"ticks\":\"\"}},\"scene\":{\"xaxis\":{\"backgroundcolor\":\"#E5ECF6\",\"gridcolor\":\"white\",\"gridwidth\":2,\"linecolor\":\"white\",\"showbackground\":true,\"ticks\":\"\",\"zerolinecolor\":\"white\"},\"yaxis\":{\"backgroundcolor\":\"#E5ECF6\",\"gridcolor\":\"white\",\"gridwidth\":2,\"linecolor\":\"white\",\"showbackground\":true,\"ticks\":\"\",\"zerolinecolor\":\"white\"},\"zaxis\":{\"backgroundcolor\":\"#E5ECF6\",\"gridcolor\":\"white\",\"gridwidth\":2,\"linecolor\":\"white\",\"showbackground\":true,\"ticks\":\"\",\"zerolinecolor\":\"white\"}},\"shapedefaults\":{\"line\":{\"color\":\"#2a3f5f\"}},\"ternary\":{\"aaxis\":{\"gridcolor\":\"white\",\"linecolor\":\"white\",\"ticks\":\"\"},\"baxis\":{\"gridcolor\":\"white\",\"linecolor\":\"white\",\"ticks\":\"\"},\"bgcolor\":\"#E5ECF6\",\"caxis\":{\"gridcolor\":\"white\",\"linecolor\":\"white\",\"ticks\":\"\"}},\"title\":{\"x\":0.05},\"xaxis\":{\"automargin\":true,\"gridcolor\":\"white\",\"linecolor\":\"white\",\"ticks\":\"\",\"title\":{\"standoff\":15},\"zerolinecolor\":\"white\",\"zerolinewidth\":2},\"yaxis\":{\"automargin\":true,\"gridcolor\":\"white\",\"linecolor\":\"white\",\"ticks\":\"\",\"title\":{\"standoff\":15},\"zerolinecolor\":\"white\",\"zerolinewidth\":2}}},\"xaxis\":{\"anchor\":\"y\",\"domain\":[0.0,1.0],\"title\":{\"text\":\"measure\"}},\"yaxis\":{\"anchor\":\"x\",\"domain\":[0.0,1.0],\"title\":{\"text\":\"count\"}},\"legend\":{\"tracegroupgap\":0},\"title\":{\"text\":\"Affiliations stats\"},\"barmode\":\"relative\"},                        {\"responsive\": true}                    ).then(function(){\n",
       "                            \n",
       "var gd = document.getElementById('3b04d6a3-e145-448f-9a67-138eb33e8d28');\n",
       "var x = new MutationObserver(function (mutations, observer) {{\n",
       "        var display = window.getComputedStyle(gd).display;\n",
       "        if (!display || display === 'none') {{\n",
       "            console.log([gd, 'removed!']);\n",
       "            Plotly.purge(gd);\n",
       "            observer.disconnect();\n",
       "        }}\n",
       "}});\n",
       "\n",
       "// Listen for the removal of the full notebook cells\n",
       "var notebookContainer = gd.closest('#notebook-container');\n",
       "if (notebookContainer) {{\n",
       "    x.observe(notebookContainer, {childList: true});\n",
       "}}\n",
       "\n",
       "// Listen for the clearing of the current output cell\n",
       "var outputEl = gd.closest('.output');\n",
       "if (outputEl) {{\n",
       "    x.observe(outputEl, {childList: true});\n",
       "}}\n",
       "\n",
       "                        })                };                });            </script>        </div>"
      ]
     },
     "metadata": {},
     "output_type": "display_data"
    }
   ],
   "source": [
    "# build a summary barchart\n",
    "\n",
    "df = pd.DataFrame({\n",
    "    'measure' : ['Affiliations in total (non unique)', 'Affiliations with a GRID ID', 'Affiliations with a GRID ID (unique)'],\n",
    "    'count' : [len(affiliations), len(affiliations_with_grid), affiliations_with_grid['aff_id'].nunique()],\n",
    "})\n",
    "px.bar(df, x=\"measure\", y=\"count\", title=f\"Affiliations stats\")"
   ]
  },
  {
   "cell_type": "markdown",
   "metadata": {
    "Collapsed": "false",
    "colab_type": "text",
    "id": "VTMALLBctQ4E"
   },
   "source": [
    "## Enriching the unique affiliations (GRIDs list) with pubs count and authors count"
   ]
  },
  {
   "cell_type": "markdown",
   "metadata": {
    "Collapsed": "false",
    "colab_type": "text",
    "id": "lWY0RAxjtQ4F"
   },
   "source": [
    "We want a table with the following columns \n",
    "\n",
    "* grid ID\n",
    "* city\n",
    "* country\n",
    "* country code\n",
    "* name\n",
    "* tot_pubs\n",
    "* tot_affiliations\n",
    "\n",
    "NOTE: tot_affiliations is a list of 'authorships' (ie authors in the context of each publication). \n",
    "\n",
    "For out analysis we can start from the `gridaffiliations` dataframe. "
   ]
  },
  {
   "cell_type": "code",
   "execution_count": 6,
   "metadata": {
    "Collapsed": "false",
    "colab": {
     "base_uri": "https://localhost:8080/",
     "height": 193
    },
    "colab_type": "code",
    "executionInfo": {
     "elapsed": 414,
     "status": "ok",
     "timestamp": 1570142063629,
     "user": {
      "displayName": "Michele Pasin",
      "photoUrl": "https://lh3.googleusercontent.com/a-/AAuE7mBu8LVjIGgontF2Wax51BoL5KFx8esezX3bUmaa0g=s64",
      "userId": "10309320684375994511"
     },
     "user_tz": 240
    },
    "id": "Z62QkRGdtQ4H",
    "outputId": "35afbbe4-bbb3-4ea2-8ef1-f78e164de038"
   },
   "outputs": [
    {
     "data": {
      "text/html": [
       "<div>\n",
       "<style scoped>\n",
       "    .dataframe tbody tr th:only-of-type {\n",
       "        vertical-align: middle;\n",
       "    }\n",
       "\n",
       "    .dataframe tbody tr th {\n",
       "        vertical-align: top;\n",
       "    }\n",
       "\n",
       "    .dataframe thead th {\n",
       "        text-align: right;\n",
       "    }\n",
       "</style>\n",
       "<table border=\"1\" class=\"dataframe\">\n",
       "  <thead>\n",
       "    <tr style=\"text-align: right;\">\n",
       "      <th></th>\n",
       "      <th>aff_city</th>\n",
       "      <th>aff_city_id</th>\n",
       "      <th>aff_country</th>\n",
       "      <th>aff_country_code</th>\n",
       "      <th>aff_id</th>\n",
       "      <th>aff_name</th>\n",
       "      <th>aff_raw_affiliation</th>\n",
       "      <th>aff_state</th>\n",
       "      <th>aff_state_code</th>\n",
       "      <th>pub_id</th>\n",
       "      <th>researcher_id</th>\n",
       "      <th>first_name</th>\n",
       "      <th>last_name</th>\n",
       "    </tr>\n",
       "  </thead>\n",
       "  <tbody>\n",
       "    <tr>\n",
       "      <th>0</th>\n",
       "      <td>New York</td>\n",
       "      <td>5128581.0</td>\n",
       "      <td>United States</td>\n",
       "      <td>US</td>\n",
       "      <td>grid.59734.3c</td>\n",
       "      <td>Icahn School of Medicine at Mount Sinai</td>\n",
       "      <td>Center for Disease Neurogenomics, Icahn School...</td>\n",
       "      <td>New York</td>\n",
       "      <td>US-NY</td>\n",
       "      <td>pub.1144816179</td>\n",
       "      <td></td>\n",
       "      <td>Biao</td>\n",
       "      <td>Zeng</td>\n",
       "    </tr>\n",
       "    <tr>\n",
       "      <th>1</th>\n",
       "      <td>New York</td>\n",
       "      <td>5128581.0</td>\n",
       "      <td>United States</td>\n",
       "      <td>US</td>\n",
       "      <td>grid.59734.3c</td>\n",
       "      <td>Icahn School of Medicine at Mount Sinai</td>\n",
       "      <td>Pamela Sklar Division of Psychiatric Genomics,...</td>\n",
       "      <td>New York</td>\n",
       "      <td>US-NY</td>\n",
       "      <td>pub.1144816179</td>\n",
       "      <td></td>\n",
       "      <td>Biao</td>\n",
       "      <td>Zeng</td>\n",
       "    </tr>\n",
       "    <tr>\n",
       "      <th>2</th>\n",
       "      <td>New York</td>\n",
       "      <td>5128581.0</td>\n",
       "      <td>United States</td>\n",
       "      <td>US</td>\n",
       "      <td>grid.59734.3c</td>\n",
       "      <td>Icahn School of Medicine at Mount Sinai</td>\n",
       "      <td>Department of Genetics and Genomic Sciences, I...</td>\n",
       "      <td>New York</td>\n",
       "      <td>US-NY</td>\n",
       "      <td>pub.1144816179</td>\n",
       "      <td></td>\n",
       "      <td>Biao</td>\n",
       "      <td>Zeng</td>\n",
       "    </tr>\n",
       "    <tr>\n",
       "      <th>3</th>\n",
       "      <td>New York</td>\n",
       "      <td>5128581.0</td>\n",
       "      <td>United States</td>\n",
       "      <td>US</td>\n",
       "      <td>grid.59734.3c</td>\n",
       "      <td>Icahn School of Medicine at Mount Sinai</td>\n",
       "      <td>Icahn Institute for Data Science and Genomic T...</td>\n",
       "      <td>New York</td>\n",
       "      <td>US-NY</td>\n",
       "      <td>pub.1144816179</td>\n",
       "      <td></td>\n",
       "      <td>Biao</td>\n",
       "      <td>Zeng</td>\n",
       "    </tr>\n",
       "    <tr>\n",
       "      <th>4</th>\n",
       "      <td>New York</td>\n",
       "      <td>5128581.0</td>\n",
       "      <td>United States</td>\n",
       "      <td>US</td>\n",
       "      <td>grid.59734.3c</td>\n",
       "      <td>Icahn School of Medicine at Mount Sinai</td>\n",
       "      <td>Department of Psychiatry, Icahn School of Medi...</td>\n",
       "      <td>New York</td>\n",
       "      <td>US-NY</td>\n",
       "      <td>pub.1144816179</td>\n",
       "      <td></td>\n",
       "      <td>Biao</td>\n",
       "      <td>Zeng</td>\n",
       "    </tr>\n",
       "  </tbody>\n",
       "</table>\n",
       "</div>"
      ],
      "text/plain": [
       "   aff_city aff_city_id    aff_country aff_country_code         aff_id  \\\n",
       "0  New York   5128581.0  United States               US  grid.59734.3c   \n",
       "1  New York   5128581.0  United States               US  grid.59734.3c   \n",
       "2  New York   5128581.0  United States               US  grid.59734.3c   \n",
       "3  New York   5128581.0  United States               US  grid.59734.3c   \n",
       "4  New York   5128581.0  United States               US  grid.59734.3c   \n",
       "\n",
       "                                  aff_name  \\\n",
       "0  Icahn School of Medicine at Mount Sinai   \n",
       "1  Icahn School of Medicine at Mount Sinai   \n",
       "2  Icahn School of Medicine at Mount Sinai   \n",
       "3  Icahn School of Medicine at Mount Sinai   \n",
       "4  Icahn School of Medicine at Mount Sinai   \n",
       "\n",
       "                                 aff_raw_affiliation aff_state aff_state_code  \\\n",
       "0  Center for Disease Neurogenomics, Icahn School...  New York          US-NY   \n",
       "1  Pamela Sklar Division of Psychiatric Genomics,...  New York          US-NY   \n",
       "2  Department of Genetics and Genomic Sciences, I...  New York          US-NY   \n",
       "3  Icahn Institute for Data Science and Genomic T...  New York          US-NY   \n",
       "4  Department of Psychiatry, Icahn School of Medi...  New York          US-NY   \n",
       "\n",
       "           pub_id researcher_id first_name last_name  \n",
       "0  pub.1144816179                     Biao      Zeng  \n",
       "1  pub.1144816179                     Biao      Zeng  \n",
       "2  pub.1144816179                     Biao      Zeng  \n",
       "3  pub.1144816179                     Biao      Zeng  \n",
       "4  pub.1144816179                     Biao      Zeng  "
      ]
     },
     "execution_count": 6,
     "metadata": {},
     "output_type": "execute_result"
    }
   ],
   "source": [
    "affiliations_with_grid.head(5)"
   ]
  },
  {
   "cell_type": "code",
   "execution_count": 7,
   "metadata": {
    "Collapsed": "false",
    "colab": {
     "base_uri": "https://localhost:8080/",
     "height": 465
    },
    "colab_type": "code",
    "executionInfo": {
     "elapsed": 747,
     "status": "ok",
     "timestamp": 1570142184609,
     "user": {
      "displayName": "Michele Pasin",
      "photoUrl": "https://lh3.googleusercontent.com/a-/AAuE7mBu8LVjIGgontF2Wax51BoL5KFx8esezX3bUmaa0g=s64",
      "userId": "10309320684375994511"
     },
     "user_tz": 240
    },
    "id": "AimraC80tQ4J",
    "outputId": "821529b9-ea79-47a9-d634-d2a386ba57e7"
   },
   "outputs": [
    {
     "data": {
      "text/html": [
       "<div>\n",
       "<style scoped>\n",
       "    .dataframe tbody tr th:only-of-type {\n",
       "        vertical-align: middle;\n",
       "    }\n",
       "\n",
       "    .dataframe tbody tr th {\n",
       "        vertical-align: top;\n",
       "    }\n",
       "\n",
       "    .dataframe thead th {\n",
       "        text-align: right;\n",
       "    }\n",
       "</style>\n",
       "<table border=\"1\" class=\"dataframe\">\n",
       "  <thead>\n",
       "    <tr style=\"text-align: right;\">\n",
       "      <th></th>\n",
       "      <th>aff_id</th>\n",
       "      <th>aff_name</th>\n",
       "      <th>aff_city</th>\n",
       "      <th>aff_country</th>\n",
       "      <th>aff_country_code</th>\n",
       "      <th>aff_state</th>\n",
       "      <th>aff_state_code</th>\n",
       "      <th>tot_affiliations</th>\n",
       "      <th>tot_pubs</th>\n",
       "    </tr>\n",
       "  </thead>\n",
       "  <tbody>\n",
       "    <tr>\n",
       "      <th>94</th>\n",
       "      <td>grid.38142.3c</td>\n",
       "      <td>Harvard University</td>\n",
       "      <td>Cambridge</td>\n",
       "      <td>United States</td>\n",
       "      <td>US</td>\n",
       "      <td>Massachusetts</td>\n",
       "      <td>US-MA</td>\n",
       "      <td>2291</td>\n",
       "      <td>370</td>\n",
       "    </tr>\n",
       "    <tr>\n",
       "      <th>267</th>\n",
       "      <td>grid.38142.3c</td>\n",
       "      <td>Harvard University</td>\n",
       "      <td>Cambridge</td>\n",
       "      <td>United States</td>\n",
       "      <td>US</td>\n",
       "      <td>Massachusetts</td>\n",
       "      <td>US-MA</td>\n",
       "      <td>2291</td>\n",
       "      <td>370</td>\n",
       "    </tr>\n",
       "    <tr>\n",
       "      <th>1071</th>\n",
       "      <td>grid.38142.3c</td>\n",
       "      <td>Harvard University</td>\n",
       "      <td>Cambridge</td>\n",
       "      <td>United States</td>\n",
       "      <td>US</td>\n",
       "      <td>Massachusetts</td>\n",
       "      <td>US-MA</td>\n",
       "      <td>2291</td>\n",
       "      <td>370</td>\n",
       "    </tr>\n",
       "    <tr>\n",
       "      <th>1108</th>\n",
       "      <td>grid.38142.3c</td>\n",
       "      <td>Harvard University</td>\n",
       "      <td>Cambridge</td>\n",
       "      <td>United States</td>\n",
       "      <td>US</td>\n",
       "      <td>Massachusetts</td>\n",
       "      <td>US-MA</td>\n",
       "      <td>2291</td>\n",
       "      <td>370</td>\n",
       "    </tr>\n",
       "    <tr>\n",
       "      <th>1110</th>\n",
       "      <td>grid.38142.3c</td>\n",
       "      <td>Harvard University</td>\n",
       "      <td>Cambridge</td>\n",
       "      <td>United States</td>\n",
       "      <td>US</td>\n",
       "      <td>Massachusetts</td>\n",
       "      <td>US-MA</td>\n",
       "      <td>2291</td>\n",
       "      <td>370</td>\n",
       "    </tr>\n",
       "  </tbody>\n",
       "</table>\n",
       "</div>"
      ],
      "text/plain": [
       "             aff_id            aff_name   aff_city    aff_country  \\\n",
       "94    grid.38142.3c  Harvard University  Cambridge  United States   \n",
       "267   grid.38142.3c  Harvard University  Cambridge  United States   \n",
       "1071  grid.38142.3c  Harvard University  Cambridge  United States   \n",
       "1108  grid.38142.3c  Harvard University  Cambridge  United States   \n",
       "1110  grid.38142.3c  Harvard University  Cambridge  United States   \n",
       "\n",
       "     aff_country_code      aff_state aff_state_code  tot_affiliations  \\\n",
       "94                 US  Massachusetts          US-MA              2291   \n",
       "267                US  Massachusetts          US-MA              2291   \n",
       "1071               US  Massachusetts          US-MA              2291   \n",
       "1108               US  Massachusetts          US-MA              2291   \n",
       "1110               US  Massachusetts          US-MA              2291   \n",
       "\n",
       "      tot_pubs  \n",
       "94         370  \n",
       "267        370  \n",
       "1071       370  \n",
       "1108       370  \n",
       "1110       370  "
      ]
     },
     "execution_count": 7,
     "metadata": {},
     "output_type": "execute_result"
    }
   ],
   "source": [
    "gridaffiliations = affiliations_with_grid.copy()\n",
    "#\n",
    "# group by GRIDID and add new column with affiliations count\n",
    "gridaffiliations[\"tot_affiliations\"] = gridaffiliations.groupby('aff_id')['aff_id'].transform('count')\n",
    "#\n",
    "# add new column with publications count, for each GRID\n",
    "gridaffiliations[\"tot_pubs\"] = gridaffiliations.groupby(['aff_id'])['pub_id'].transform('nunique')\n",
    "# \n",
    "# remove unnecessary columns\n",
    "gridaffiliations = gridaffiliations.drop(['aff_city_id', 'pub_id', 'researcher_id', 'first_name', 'last_name'], axis=1).reset_index(drop=True)\n",
    "#\n",
    "# remove duplicate rows\n",
    "gridaffiliations.drop_duplicates(inplace=True)\n",
    "#\n",
    "# update columns order\n",
    "gridaffiliations = gridaffiliations[[ 'aff_id', 'aff_name','aff_city', \n",
    "                                     'aff_country', 'aff_country_code',  'aff_state',\n",
    "                                     'aff_state_code', 'tot_affiliations',  'tot_pubs']]\n",
    "#\n",
    "# sort\n",
    "gridaffiliations = gridaffiliations.sort_values(['tot_affiliations', 'tot_pubs'], ascending=False)\n",
    "#\n",
    "#\n",
    "# That's it! Let's see the result\n",
    "gridaffiliations.head()"
   ]
  },
  {
   "cell_type": "code",
   "execution_count": 8,
   "metadata": {
    "Collapsed": "false",
    "colab": {},
    "colab_type": "code",
    "id": "WXgclUtptQ4T"
   },
   "outputs": [],
   "source": [
    "# save the data\n",
    "save(gridaffiliations, \"4_institutions_with_grid_with_metrics.csv\")"
   ]
  },
  {
   "cell_type": "markdown",
   "metadata": {
    "Collapsed": "false",
    "colab_type": "text",
    "id": "EJa68MtDtQ4V"
   },
   "source": [
    "## Couple of Dataviz"
   ]
  },
  {
   "cell_type": "code",
   "execution_count": 9,
   "metadata": {
    "Collapsed": "false"
   },
   "outputs": [
    {
     "data": {
      "application/vnd.plotly.v1+json": {
       "config": {
        "plotlyServerURL": "https://plot.ly"
       },
       "data": [
        {
         "customdata": [
          [
           "grid.38142.3c",
           "Cambridge",
           "United States",
           2291
          ],
          [
           "grid.38142.3c",
           "Cambridge",
           "United States",
           2291
          ],
          [
           "grid.38142.3c",
           "Cambridge",
           "United States",
           2291
          ],
          [
           "grid.38142.3c",
           "Cambridge",
           "United States",
           2291
          ],
          [
           "grid.38142.3c",
           "Cambridge",
           "United States",
           2291
          ],
          [
           "grid.38142.3c",
           "Cambridge",
           "United States",
           2291
          ],
          [
           "grid.38142.3c",
           "Cambridge",
           "United States",
           2291
          ],
          [
           "grid.38142.3c",
           "Cambridge",
           "United States",
           2291
          ],
          [
           "grid.38142.3c",
           "Cambridge",
           "United States",
           2291
          ],
          [
           "grid.38142.3c",
           "Cambridge",
           "United States",
           2291
          ],
          [
           "grid.38142.3c",
           "Cambridge",
           "United States",
           2291
          ],
          [
           "grid.38142.3c",
           "Cambridge",
           "United States",
           2291
          ],
          [
           "grid.38142.3c",
           "Cambridge",
           "United States",
           2291
          ],
          [
           "grid.38142.3c",
           "Cambridge",
           "United States",
           2291
          ],
          [
           "grid.38142.3c",
           "Cambridge",
           "United States",
           2291
          ],
          [
           "grid.38142.3c",
           "Cambridge",
           "United States",
           2291
          ],
          [
           "grid.38142.3c",
           "Cambridge",
           "United States",
           2291
          ],
          [
           "grid.38142.3c",
           "Cambridge",
           "United States",
           2291
          ],
          [
           "grid.38142.3c",
           "Cambridge",
           "United States",
           2291
          ],
          [
           "grid.38142.3c",
           "Cambridge",
           "United States",
           2291
          ],
          [
           "grid.38142.3c",
           "Cambridge",
           "United States",
           2291
          ],
          [
           "grid.38142.3c",
           "Cambridge",
           "United States",
           2291
          ],
          [
           "grid.38142.3c",
           "Cambridge",
           "United States",
           2291
          ],
          [
           "grid.38142.3c",
           "Cambridge",
           "United States",
           2291
          ],
          [
           "grid.38142.3c",
           "Cambridge",
           "United States",
           2291
          ],
          [
           "grid.38142.3c",
           "Cambridge",
           "United States",
           2291
          ],
          [
           "grid.38142.3c",
           "Cambridge",
           "United States",
           2291
          ],
          [
           "grid.38142.3c",
           "Cambridge",
           "United States",
           2291
          ],
          [
           "grid.38142.3c",
           "Cambridge",
           "United States",
           2291
          ],
          [
           "grid.38142.3c",
           "Cambridge",
           "United States",
           2291
          ],
          [
           "grid.38142.3c",
           "Cambridge",
           "United States",
           2291
          ],
          [
           "grid.38142.3c",
           "Cambridge",
           "United States",
           2291
          ],
          [
           "grid.38142.3c",
           "Cambridge",
           "United States",
           2291
          ],
          [
           "grid.38142.3c",
           "Cambridge",
           "United States",
           2291
          ],
          [
           "grid.38142.3c",
           "Cambridge",
           "United States",
           2291
          ],
          [
           "grid.38142.3c",
           "Cambridge",
           "United States",
           2291
          ],
          [
           "grid.38142.3c",
           "Cambridge",
           "United States",
           2291
          ],
          [
           "grid.38142.3c",
           "Cambridge",
           "United States",
           2291
          ],
          [
           "grid.38142.3c",
           "Cambridge",
           "United States",
           2291
          ],
          [
           "grid.38142.3c",
           "Cambridge",
           "United States",
           2291
          ],
          [
           "grid.38142.3c",
           "Cambridge",
           "United States",
           2291
          ],
          [
           "grid.38142.3c",
           "Cambridge",
           "United States",
           2291
          ],
          [
           "grid.38142.3c",
           "Cambridge",
           "United States",
           2291
          ],
          [
           "grid.38142.3c",
           "Cambridge",
           "United States",
           2291
          ],
          [
           "grid.38142.3c",
           "Cambridge",
           "United States",
           2291
          ],
          [
           "grid.38142.3c",
           "Cambridge",
           "United States",
           2291
          ],
          [
           "grid.38142.3c",
           "Cambridge",
           "United States",
           2291
          ],
          [
           "grid.38142.3c",
           "Cambridge",
           "United States",
           2291
          ],
          [
           "grid.38142.3c",
           "Cambridge",
           "United States",
           2291
          ],
          [
           "grid.38142.3c",
           "Cambridge",
           "United States",
           2291
          ],
          [
           "grid.38142.3c",
           "Cambridge",
           "United States",
           2291
          ],
          [
           "grid.38142.3c",
           "Cambridge",
           "United States",
           2291
          ],
          [
           "grid.38142.3c",
           "Cambridge",
           "United States",
           2291
          ],
          [
           "grid.38142.3c",
           "Cambridge",
           "United States",
           2291
          ],
          [
           "grid.38142.3c",
           "Cambridge",
           "United States",
           2291
          ],
          [
           "grid.38142.3c",
           "Cambridge",
           "United States",
           2291
          ],
          [
           "grid.38142.3c",
           "Cambridge",
           "United States",
           2291
          ],
          [
           "grid.38142.3c",
           "Cambridge",
           "United States",
           2291
          ],
          [
           "grid.38142.3c",
           "Cambridge",
           "United States",
           2291
          ],
          [
           "grid.38142.3c",
           "Cambridge",
           "United States",
           2291
          ],
          [
           "grid.38142.3c",
           "Cambridge",
           "United States",
           2291
          ],
          [
           "grid.38142.3c",
           "Cambridge",
           "United States",
           2291
          ],
          [
           "grid.38142.3c",
           "Cambridge",
           "United States",
           2291
          ],
          [
           "grid.38142.3c",
           "Cambridge",
           "United States",
           2291
          ],
          [
           "grid.38142.3c",
           "Cambridge",
           "United States",
           2291
          ],
          [
           "grid.38142.3c",
           "Cambridge",
           "United States",
           2291
          ],
          [
           "grid.38142.3c",
           "Cambridge",
           "United States",
           2291
          ],
          [
           "grid.38142.3c",
           "Cambridge",
           "United States",
           2291
          ],
          [
           "grid.38142.3c",
           "Cambridge",
           "United States",
           2291
          ],
          [
           "grid.38142.3c",
           "Cambridge",
           "United States",
           2291
          ],
          [
           "grid.38142.3c",
           "Cambridge",
           "United States",
           2291
          ],
          [
           "grid.38142.3c",
           "Cambridge",
           "United States",
           2291
          ],
          [
           "grid.38142.3c",
           "Cambridge",
           "United States",
           2291
          ],
          [
           "grid.38142.3c",
           "Cambridge",
           "United States",
           2291
          ],
          [
           "grid.38142.3c",
           "Cambridge",
           "United States",
           2291
          ],
          [
           "grid.38142.3c",
           "Cambridge",
           "United States",
           2291
          ],
          [
           "grid.38142.3c",
           "Cambridge",
           "United States",
           2291
          ],
          [
           "grid.38142.3c",
           "Cambridge",
           "United States",
           2291
          ],
          [
           "grid.38142.3c",
           "Cambridge",
           "United States",
           2291
          ],
          [
           "grid.38142.3c",
           "Cambridge",
           "United States",
           2291
          ],
          [
           "grid.38142.3c",
           "Cambridge",
           "United States",
           2291
          ],
          [
           "grid.38142.3c",
           "Cambridge",
           "United States",
           2291
          ],
          [
           "grid.38142.3c",
           "Cambridge",
           "United States",
           2291
          ],
          [
           "grid.38142.3c",
           "Cambridge",
           "United States",
           2291
          ],
          [
           "grid.38142.3c",
           "Cambridge",
           "United States",
           2291
          ],
          [
           "grid.38142.3c",
           "Cambridge",
           "United States",
           2291
          ],
          [
           "grid.38142.3c",
           "Cambridge",
           "United States",
           2291
          ],
          [
           "grid.38142.3c",
           "Cambridge",
           "United States",
           2291
          ],
          [
           "grid.38142.3c",
           "Cambridge",
           "United States",
           2291
          ],
          [
           "grid.38142.3c",
           "Cambridge",
           "United States",
           2291
          ],
          [
           "grid.38142.3c",
           "Cambridge",
           "United States",
           2291
          ],
          [
           "grid.38142.3c",
           "Cambridge",
           "United States",
           2291
          ],
          [
           "grid.38142.3c",
           "Cambridge",
           "United States",
           2291
          ],
          [
           "grid.38142.3c",
           "Cambridge",
           "United States",
           2291
          ],
          [
           "grid.38142.3c",
           "Cambridge",
           "United States",
           2291
          ],
          [
           "grid.38142.3c",
           "Cambridge",
           "United States",
           2291
          ],
          [
           "grid.38142.3c",
           "Cambridge",
           "United States",
           2291
          ],
          [
           "grid.38142.3c",
           "Cambridge",
           "United States",
           2291
          ],
          [
           "grid.38142.3c",
           "Cambridge",
           "United States",
           2291
          ],
          [
           "grid.38142.3c",
           "Cambridge",
           "United States",
           2291
          ],
          [
           "grid.38142.3c",
           "Cambridge",
           "United States",
           2291
          ],
          [
           "grid.38142.3c",
           "Cambridge",
           "United States",
           2291
          ],
          [
           "grid.38142.3c",
           "Cambridge",
           "United States",
           2291
          ],
          [
           "grid.38142.3c",
           "Cambridge",
           "United States",
           2291
          ],
          [
           "grid.38142.3c",
           "Cambridge",
           "United States",
           2291
          ],
          [
           "grid.38142.3c",
           "Cambridge",
           "United States",
           2291
          ],
          [
           "grid.38142.3c",
           "Cambridge",
           "United States",
           2291
          ],
          [
           "grid.38142.3c",
           "Cambridge",
           "United States",
           2291
          ],
          [
           "grid.38142.3c",
           "Cambridge",
           "United States",
           2291
          ],
          [
           "grid.38142.3c",
           "Cambridge",
           "United States",
           2291
          ],
          [
           "grid.38142.3c",
           "Cambridge",
           "United States",
           2291
          ],
          [
           "grid.38142.3c",
           "Cambridge",
           "United States",
           2291
          ],
          [
           "grid.38142.3c",
           "Cambridge",
           "United States",
           2291
          ],
          [
           "grid.38142.3c",
           "Cambridge",
           "United States",
           2291
          ],
          [
           "grid.38142.3c",
           "Cambridge",
           "United States",
           2291
          ],
          [
           "grid.38142.3c",
           "Cambridge",
           "United States",
           2291
          ],
          [
           "grid.38142.3c",
           "Cambridge",
           "United States",
           2291
          ],
          [
           "grid.38142.3c",
           "Cambridge",
           "United States",
           2291
          ],
          [
           "grid.38142.3c",
           "Cambridge",
           "United States",
           2291
          ],
          [
           "grid.38142.3c",
           "Cambridge",
           "United States",
           2291
          ],
          [
           "grid.38142.3c",
           "Cambridge",
           "United States",
           2291
          ],
          [
           "grid.38142.3c",
           "Cambridge",
           "United States",
           2291
          ],
          [
           "grid.38142.3c",
           "Cambridge",
           "United States",
           2291
          ],
          [
           "grid.38142.3c",
           "Cambridge",
           "United States",
           2291
          ],
          [
           "grid.38142.3c",
           "Cambridge",
           "United States",
           2291
          ],
          [
           "grid.38142.3c",
           "Cambridge",
           "United States",
           2291
          ],
          [
           "grid.38142.3c",
           "Cambridge",
           "United States",
           2291
          ],
          [
           "grid.38142.3c",
           "Cambridge",
           "United States",
           2291
          ],
          [
           "grid.38142.3c",
           "Cambridge",
           "United States",
           2291
          ],
          [
           "grid.38142.3c",
           "Cambridge",
           "United States",
           2291
          ],
          [
           "grid.38142.3c",
           "Cambridge",
           "United States",
           2291
          ],
          [
           "grid.38142.3c",
           "Cambridge",
           "United States",
           2291
          ],
          [
           "grid.38142.3c",
           "Cambridge",
           "United States",
           2291
          ],
          [
           "grid.38142.3c",
           "Cambridge",
           "United States",
           2291
          ],
          [
           "grid.38142.3c",
           "Cambridge",
           "United States",
           2291
          ],
          [
           "grid.38142.3c",
           "Cambridge",
           "United States",
           2291
          ],
          [
           "grid.38142.3c",
           "Cambridge",
           "United States",
           2291
          ],
          [
           "grid.38142.3c",
           "Cambridge",
           "United States",
           2291
          ],
          [
           "grid.38142.3c",
           "Cambridge",
           "United States",
           2291
          ],
          [
           "grid.38142.3c",
           "Cambridge",
           "United States",
           2291
          ],
          [
           "grid.38142.3c",
           "Cambridge",
           "United States",
           2291
          ],
          [
           "grid.38142.3c",
           "Cambridge",
           "United States",
           2291
          ],
          [
           "grid.38142.3c",
           "Cambridge",
           "United States",
           2291
          ],
          [
           "grid.38142.3c",
           "Cambridge",
           "United States",
           2291
          ],
          [
           "grid.38142.3c",
           "Cambridge",
           "United States",
           2291
          ],
          [
           "grid.38142.3c",
           "Cambridge",
           "United States",
           2291
          ],
          [
           "grid.38142.3c",
           "Cambridge",
           "United States",
           2291
          ],
          [
           "grid.38142.3c",
           "Cambridge",
           "United States",
           2291
          ],
          [
           "grid.38142.3c",
           "Cambridge",
           "United States",
           2291
          ],
          [
           "grid.38142.3c",
           "Cambridge",
           "United States",
           2291
          ],
          [
           "grid.38142.3c",
           "Cambridge",
           "United States",
           2291
          ],
          [
           "grid.38142.3c",
           "Cambridge",
           "United States",
           2291
          ],
          [
           "grid.38142.3c",
           "Cambridge",
           "United States",
           2291
          ],
          [
           "grid.38142.3c",
           "Cambridge",
           "United States",
           2291
          ],
          [
           "grid.38142.3c",
           "Cambridge",
           "United States",
           2291
          ],
          [
           "grid.38142.3c",
           "Cambridge",
           "United States",
           2291
          ],
          [
           "grid.38142.3c",
           "Cambridge",
           "United States",
           2291
          ],
          [
           "grid.38142.3c",
           "Cambridge",
           "United States",
           2291
          ],
          [
           "grid.38142.3c",
           "Cambridge",
           "United States",
           2291
          ],
          [
           "grid.38142.3c",
           "Cambridge",
           "United States",
           2291
          ],
          [
           "grid.38142.3c",
           "Cambridge",
           "United States",
           2291
          ],
          [
           "grid.38142.3c",
           "Cambridge",
           "United States",
           2291
          ],
          [
           "grid.38142.3c",
           "Cambridge",
           "United States",
           2291
          ],
          [
           "grid.38142.3c",
           "Cambridge",
           "United States",
           2291
          ],
          [
           "grid.38142.3c",
           "Cambridge",
           "United States",
           2291
          ],
          [
           "grid.38142.3c",
           "Cambridge",
           "United States",
           2291
          ],
          [
           "grid.38142.3c",
           "Cambridge",
           "United States",
           2291
          ],
          [
           "grid.38142.3c",
           "Cambridge",
           "United States",
           2291
          ],
          [
           "grid.38142.3c",
           "Cambridge",
           "United States",
           2291
          ],
          [
           "grid.38142.3c",
           "Cambridge",
           "United States",
           2291
          ],
          [
           "grid.38142.3c",
           "Cambridge",
           "United States",
           2291
          ],
          [
           "grid.38142.3c",
           "Cambridge",
           "United States",
           2291
          ],
          [
           "grid.38142.3c",
           "Cambridge",
           "United States",
           2291
          ],
          [
           "grid.38142.3c",
           "Cambridge",
           "United States",
           2291
          ],
          [
           "grid.38142.3c",
           "Cambridge",
           "United States",
           2291
          ],
          [
           "grid.38142.3c",
           "Cambridge",
           "United States",
           2291
          ],
          [
           "grid.38142.3c",
           "Cambridge",
           "United States",
           2291
          ],
          [
           "grid.38142.3c",
           "Cambridge",
           "United States",
           2291
          ],
          [
           "grid.38142.3c",
           "Cambridge",
           "United States",
           2291
          ],
          [
           "grid.38142.3c",
           "Cambridge",
           "United States",
           2291
          ],
          [
           "grid.38142.3c",
           "Cambridge",
           "United States",
           2291
          ],
          [
           "grid.38142.3c",
           "Cambridge",
           "United States",
           2291
          ],
          [
           "grid.38142.3c",
           "Cambridge",
           "United States",
           2291
          ],
          [
           "grid.38142.3c",
           "Cambridge",
           "United States",
           2291
          ],
          [
           "grid.38142.3c",
           "Cambridge",
           "United States",
           2291
          ],
          [
           "grid.38142.3c",
           "Cambridge",
           "United States",
           2291
          ],
          [
           "grid.38142.3c",
           "Cambridge",
           "United States",
           2291
          ],
          [
           "grid.38142.3c",
           "Cambridge",
           "United States",
           2291
          ],
          [
           "grid.38142.3c",
           "Cambridge",
           "United States",
           2291
          ],
          [
           "grid.38142.3c",
           "Cambridge",
           "United States",
           2291
          ],
          [
           "grid.38142.3c",
           "Cambridge",
           "United States",
           2291
          ],
          [
           "grid.38142.3c",
           "Cambridge",
           "United States",
           2291
          ],
          [
           "grid.38142.3c",
           "Cambridge",
           "United States",
           2291
          ],
          [
           "grid.38142.3c",
           "Cambridge",
           "United States",
           2291
          ],
          [
           "grid.38142.3c",
           "Cambridge",
           "United States",
           2291
          ],
          [
           "grid.38142.3c",
           "Cambridge",
           "United States",
           2291
          ],
          [
           "grid.38142.3c",
           "Cambridge",
           "United States",
           2291
          ],
          [
           "grid.38142.3c",
           "Cambridge",
           "United States",
           2291
          ],
          [
           "grid.38142.3c",
           "Cambridge",
           "United States",
           2291
          ],
          [
           "grid.38142.3c",
           "Cambridge",
           "United States",
           2291
          ],
          [
           "grid.38142.3c",
           "Cambridge",
           "United States",
           2291
          ],
          [
           "grid.38142.3c",
           "Cambridge",
           "United States",
           2291
          ],
          [
           "grid.38142.3c",
           "Cambridge",
           "United States",
           2291
          ],
          [
           "grid.38142.3c",
           "Cambridge",
           "United States",
           2291
          ],
          [
           "grid.38142.3c",
           "Cambridge",
           "United States",
           2291
          ],
          [
           "grid.38142.3c",
           "Cambridge",
           "United States",
           2291
          ],
          [
           "grid.38142.3c",
           "Cambridge",
           "United States",
           2291
          ],
          [
           "grid.38142.3c",
           "Cambridge",
           "United States",
           2291
          ],
          [
           "grid.38142.3c",
           "Cambridge",
           "United States",
           2291
          ],
          [
           "grid.38142.3c",
           "Cambridge",
           "United States",
           2291
          ],
          [
           "grid.38142.3c",
           "Cambridge",
           "United States",
           2291
          ],
          [
           "grid.38142.3c",
           "Cambridge",
           "United States",
           2291
          ],
          [
           "grid.38142.3c",
           "Cambridge",
           "United States",
           2291
          ],
          [
           "grid.38142.3c",
           "Cambridge",
           "United States",
           2291
          ],
          [
           "grid.38142.3c",
           "Cambridge",
           "United States",
           2291
          ],
          [
           "grid.38142.3c",
           "Cambridge",
           "United States",
           2291
          ],
          [
           "grid.38142.3c",
           "Cambridge",
           "United States",
           2291
          ],
          [
           "grid.38142.3c",
           "Cambridge",
           "United States",
           2291
          ],
          [
           "grid.38142.3c",
           "Cambridge",
           "United States",
           2291
          ],
          [
           "grid.38142.3c",
           "Cambridge",
           "United States",
           2291
          ],
          [
           "grid.38142.3c",
           "Cambridge",
           "United States",
           2291
          ],
          [
           "grid.38142.3c",
           "Cambridge",
           "United States",
           2291
          ],
          [
           "grid.38142.3c",
           "Cambridge",
           "United States",
           2291
          ],
          [
           "grid.38142.3c",
           "Cambridge",
           "United States",
           2291
          ],
          [
           "grid.38142.3c",
           "Cambridge",
           "United States",
           2291
          ],
          [
           "grid.38142.3c",
           "Cambridge",
           "United States",
           2291
          ],
          [
           "grid.38142.3c",
           "Cambridge",
           "United States",
           2291
          ],
          [
           "grid.38142.3c",
           "Cambridge",
           "United States",
           2291
          ],
          [
           "grid.38142.3c",
           "Cambridge",
           "United States",
           2291
          ],
          [
           "grid.38142.3c",
           "Cambridge",
           "United States",
           2291
          ],
          [
           "grid.38142.3c",
           "Cambridge",
           "United States",
           2291
          ],
          [
           "grid.38142.3c",
           "Cambridge",
           "United States",
           2291
          ],
          [
           "grid.38142.3c",
           "Cambridge",
           "United States",
           2291
          ],
          [
           "grid.38142.3c",
           "Cambridge",
           "United States",
           2291
          ],
          [
           "grid.38142.3c",
           "Cambridge",
           "United States",
           2291
          ],
          [
           "grid.38142.3c",
           "Cambridge",
           "United States",
           2291
          ],
          [
           "grid.38142.3c",
           "Cambridge",
           "United States",
           2291
          ],
          [
           "grid.38142.3c",
           "Cambridge",
           "United States",
           2291
          ],
          [
           "grid.38142.3c",
           "Cambridge",
           "United States",
           2291
          ],
          [
           "grid.38142.3c",
           "Cambridge",
           "United States",
           2291
          ],
          [
           "grid.38142.3c",
           "Cambridge",
           "United States",
           2291
          ],
          [
           "grid.38142.3c",
           "Cambridge",
           "United States",
           2291
          ],
          [
           "grid.38142.3c",
           "Cambridge",
           "United States",
           2291
          ],
          [
           "grid.38142.3c",
           "Cambridge",
           "United States",
           2291
          ],
          [
           "grid.38142.3c",
           "Cambridge",
           "United States",
           2291
          ],
          [
           "grid.38142.3c",
           "Cambridge",
           "United States",
           2291
          ],
          [
           "grid.38142.3c",
           "Cambridge",
           "United States",
           2291
          ],
          [
           "grid.38142.3c",
           "Cambridge",
           "United States",
           2291
          ],
          [
           "grid.38142.3c",
           "Cambridge",
           "United States",
           2291
          ],
          [
           "grid.38142.3c",
           "Cambridge",
           "United States",
           2291
          ],
          [
           "grid.38142.3c",
           "Cambridge",
           "United States",
           2291
          ],
          [
           "grid.38142.3c",
           "Cambridge",
           "United States",
           2291
          ],
          [
           "grid.38142.3c",
           "Cambridge",
           "United States",
           2291
          ],
          [
           "grid.38142.3c",
           "Cambridge",
           "United States",
           2291
          ],
          [
           "grid.38142.3c",
           "Cambridge",
           "United States",
           2291
          ],
          [
           "grid.38142.3c",
           "Cambridge",
           "United States",
           2291
          ],
          [
           "grid.38142.3c",
           "Cambridge",
           "United States",
           2291
          ],
          [
           "grid.38142.3c",
           "Cambridge",
           "United States",
           2291
          ],
          [
           "grid.38142.3c",
           "Cambridge",
           "United States",
           2291
          ],
          [
           "grid.38142.3c",
           "Cambridge",
           "United States",
           2291
          ],
          [
           "grid.38142.3c",
           "Cambridge",
           "United States",
           2291
          ],
          [
           "grid.38142.3c",
           "Cambridge",
           "United States",
           2291
          ],
          [
           "grid.38142.3c",
           "Cambridge",
           "United States",
           2291
          ],
          [
           "grid.38142.3c",
           "Cambridge",
           "United States",
           2291
          ],
          [
           "grid.38142.3c",
           "Cambridge",
           "United States",
           2291
          ],
          [
           "grid.38142.3c",
           "Cambridge",
           "United States",
           2291
          ],
          [
           "grid.38142.3c",
           "Cambridge",
           "United States",
           2291
          ],
          [
           "grid.38142.3c",
           "Cambridge",
           "United States",
           2291
          ],
          [
           "grid.38142.3c",
           "Cambridge",
           "United States",
           2291
          ],
          [
           "grid.38142.3c",
           "Cambridge",
           "United States",
           2291
          ],
          [
           "grid.38142.3c",
           "Cambridge",
           "United States",
           2291
          ],
          [
           "grid.38142.3c",
           "Cambridge",
           "United States",
           2291
          ],
          [
           "grid.38142.3c",
           "Cambridge",
           "United States",
           2291
          ],
          [
           "grid.38142.3c",
           "Cambridge",
           "United States",
           2291
          ],
          [
           "grid.38142.3c",
           "Cambridge",
           "United States",
           2291
          ],
          [
           "grid.38142.3c",
           "Cambridge",
           "United States",
           2291
          ],
          [
           "grid.38142.3c",
           "Cambridge",
           "United States",
           2291
          ],
          [
           "grid.38142.3c",
           "Cambridge",
           "United States",
           2291
          ],
          [
           "grid.38142.3c",
           "Cambridge",
           "United States",
           2291
          ],
          [
           "grid.38142.3c",
           "Cambridge",
           "United States",
           2291
          ],
          [
           "grid.38142.3c",
           "Cambridge",
           "United States",
           2291
          ],
          [
           "grid.38142.3c",
           "Cambridge",
           "United States",
           2291
          ],
          [
           "grid.38142.3c",
           "Cambridge",
           "United States",
           2291
          ],
          [
           "grid.38142.3c",
           "Cambridge",
           "United States",
           2291
          ],
          [
           "grid.38142.3c",
           "Cambridge",
           "United States",
           2291
          ],
          [
           "grid.38142.3c",
           "Cambridge",
           "United States",
           2291
          ],
          [
           "grid.38142.3c",
           "Cambridge",
           "United States",
           2291
          ],
          [
           "grid.38142.3c",
           "Cambridge",
           "United States",
           2291
          ],
          [
           "grid.38142.3c",
           "Cambridge",
           "United States",
           2291
          ],
          [
           "grid.38142.3c",
           "Cambridge",
           "United States",
           2291
          ],
          [
           "grid.38142.3c",
           "Cambridge",
           "United States",
           2291
          ],
          [
           "grid.38142.3c",
           "Cambridge",
           "United States",
           2291
          ],
          [
           "grid.38142.3c",
           "Cambridge",
           "United States",
           2291
          ],
          [
           "grid.38142.3c",
           "Cambridge",
           "United States",
           2291
          ],
          [
           "grid.38142.3c",
           "Cambridge",
           "United States",
           2291
          ],
          [
           "grid.38142.3c",
           "Cambridge",
           "United States",
           2291
          ],
          [
           "grid.38142.3c",
           "Cambridge",
           "United States",
           2291
          ],
          [
           "grid.38142.3c",
           "Cambridge",
           "United States",
           2291
          ],
          [
           "grid.38142.3c",
           "Cambridge",
           "United States",
           2291
          ],
          [
           "grid.38142.3c",
           "Cambridge",
           "United States",
           2291
          ],
          [
           "grid.38142.3c",
           "Cambridge",
           "United States",
           2291
          ],
          [
           "grid.38142.3c",
           "Cambridge",
           "United States",
           2291
          ],
          [
           "grid.38142.3c",
           "Cambridge",
           "United States",
           2291
          ],
          [
           "grid.38142.3c",
           "Cambridge",
           "United States",
           2291
          ],
          [
           "grid.38142.3c",
           "Cambridge",
           "United States",
           2291
          ],
          [
           "grid.38142.3c",
           "Cambridge",
           "United States",
           2291
          ],
          [
           "grid.38142.3c",
           "Cambridge",
           "United States",
           2291
          ],
          [
           "grid.38142.3c",
           "Cambridge",
           "United States",
           2291
          ],
          [
           "grid.38142.3c",
           "Cambridge",
           "United States",
           2291
          ],
          [
           "grid.38142.3c",
           "Cambridge",
           "United States",
           2291
          ],
          [
           "grid.38142.3c",
           "Cambridge",
           "United States",
           2291
          ],
          [
           "grid.38142.3c",
           "Cambridge",
           "United States",
           2291
          ],
          [
           "grid.38142.3c",
           "Cambridge",
           "United States",
           2291
          ],
          [
           "grid.38142.3c",
           "Cambridge",
           "United States",
           2291
          ],
          [
           "grid.38142.3c",
           "Cambridge",
           "United States",
           2291
          ],
          [
           "grid.38142.3c",
           "Cambridge",
           "United States",
           2291
          ],
          [
           "grid.38142.3c",
           "Cambridge",
           "United States",
           2291
          ],
          [
           "grid.38142.3c",
           "Cambridge",
           "United States",
           2291
          ],
          [
           "grid.38142.3c",
           "Cambridge",
           "United States",
           2291
          ],
          [
           "grid.38142.3c",
           "Cambridge",
           "United States",
           2291
          ],
          [
           "grid.38142.3c",
           "Cambridge",
           "United States",
           2291
          ],
          [
           "grid.38142.3c",
           "Cambridge",
           "United States",
           2291
          ],
          [
           "grid.38142.3c",
           "Cambridge",
           "United States",
           2291
          ],
          [
           "grid.38142.3c",
           "Cambridge",
           "United States",
           2291
          ],
          [
           "grid.38142.3c",
           "Cambridge",
           "United States",
           2291
          ],
          [
           "grid.38142.3c",
           "Cambridge",
           "United States",
           2291
          ],
          [
           "grid.38142.3c",
           "Cambridge",
           "United States",
           2291
          ],
          [
           "grid.38142.3c",
           "Cambridge",
           "United States",
           2291
          ],
          [
           "grid.38142.3c",
           "Cambridge",
           "United States",
           2291
          ],
          [
           "grid.38142.3c",
           "Cambridge",
           "United States",
           2291
          ],
          [
           "grid.38142.3c",
           "Cambridge",
           "United States",
           2291
          ],
          [
           "grid.38142.3c",
           "Cambridge",
           "United States",
           2291
          ],
          [
           "grid.38142.3c",
           "Cambridge",
           "United States",
           2291
          ],
          [
           "grid.38142.3c",
           "Cambridge",
           "United States",
           2291
          ],
          [
           "grid.38142.3c",
           "Cambridge",
           "United States",
           2291
          ],
          [
           "grid.38142.3c",
           "Cambridge",
           "United States",
           2291
          ],
          [
           "grid.38142.3c",
           "Cambridge",
           "United States",
           2291
          ],
          [
           "grid.38142.3c",
           "Cambridge",
           "United States",
           2291
          ],
          [
           "grid.38142.3c",
           "Cambridge",
           "United States",
           2291
          ],
          [
           "grid.38142.3c",
           "Cambridge",
           "United States",
           2291
          ],
          [
           "grid.38142.3c",
           "Cambridge",
           "United States",
           2291
          ],
          [
           "grid.38142.3c",
           "Cambridge",
           "United States",
           2291
          ],
          [
           "grid.38142.3c",
           "Cambridge",
           "United States",
           2291
          ],
          [
           "grid.38142.3c",
           "Cambridge",
           "United States",
           2291
          ],
          [
           "grid.38142.3c",
           "Cambridge",
           "United States",
           2291
          ],
          [
           "grid.38142.3c",
           "Cambridge",
           "United States",
           2291
          ],
          [
           "grid.38142.3c",
           "Cambridge",
           "United States",
           2291
          ],
          [
           "grid.38142.3c",
           "Cambridge",
           "United States",
           2291
          ],
          [
           "grid.38142.3c",
           "Cambridge",
           "United States",
           2291
          ],
          [
           "grid.38142.3c",
           "Cambridge",
           "United States",
           2291
          ],
          [
           "grid.38142.3c",
           "Cambridge",
           "United States",
           2291
          ],
          [
           "grid.38142.3c",
           "Cambridge",
           "United States",
           2291
          ],
          [
           "grid.38142.3c",
           "Cambridge",
           "United States",
           2291
          ],
          [
           "grid.38142.3c",
           "Cambridge",
           "United States",
           2291
          ],
          [
           "grid.38142.3c",
           "Cambridge",
           "United States",
           2291
          ],
          [
           "grid.38142.3c",
           "Cambridge",
           "United States",
           2291
          ],
          [
           "grid.38142.3c",
           "Cambridge",
           "United States",
           2291
          ],
          [
           "grid.38142.3c",
           "Cambridge",
           "United States",
           2291
          ],
          [
           "grid.38142.3c",
           "Cambridge",
           "United States",
           2291
          ],
          [
           "grid.38142.3c",
           "Cambridge",
           "United States",
           2291
          ],
          [
           "grid.38142.3c",
           "Cambridge",
           "United States",
           2291
          ],
          [
           "grid.38142.3c",
           "Cambridge",
           "United States",
           2291
          ],
          [
           "grid.38142.3c",
           "Cambridge",
           "United States",
           2291
          ],
          [
           "grid.38142.3c",
           "Cambridge",
           "United States",
           2291
          ],
          [
           "grid.38142.3c",
           "Cambridge",
           "United States",
           2291
          ],
          [
           "grid.38142.3c",
           "Cambridge",
           "United States",
           2291
          ],
          [
           "grid.38142.3c",
           "Cambridge",
           "United States",
           2291
          ],
          [
           "grid.38142.3c",
           "Cambridge",
           "United States",
           2291
          ],
          [
           "grid.38142.3c",
           "Cambridge",
           "United States",
           2291
          ],
          [
           "grid.38142.3c",
           "Cambridge",
           "United States",
           2291
          ],
          [
           "grid.38142.3c",
           "Cambridge",
           "United States",
           2291
          ],
          [
           "grid.38142.3c",
           "Cambridge",
           "United States",
           2291
          ],
          [
           "grid.38142.3c",
           "Cambridge",
           "United States",
           2291
          ],
          [
           "grid.38142.3c",
           "Cambridge",
           "United States",
           2291
          ],
          [
           "grid.38142.3c",
           "Cambridge",
           "United States",
           2291
          ],
          [
           "grid.38142.3c",
           "Cambridge",
           "United States",
           2291
          ],
          [
           "grid.38142.3c",
           "Cambridge",
           "United States",
           2291
          ],
          [
           "grid.38142.3c",
           "Cambridge",
           "United States",
           2291
          ],
          [
           "grid.38142.3c",
           "Cambridge",
           "United States",
           2291
          ],
          [
           "grid.38142.3c",
           "Cambridge",
           "United States",
           2291
          ],
          [
           "grid.38142.3c",
           "Cambridge",
           "United States",
           2291
          ],
          [
           "grid.38142.3c",
           "Cambridge",
           "United States",
           2291
          ],
          [
           "grid.38142.3c",
           "Cambridge",
           "United States",
           2291
          ],
          [
           "grid.38142.3c",
           "Cambridge",
           "United States",
           2291
          ],
          [
           "grid.38142.3c",
           "Cambridge",
           "United States",
           2291
          ],
          [
           "grid.38142.3c",
           "Cambridge",
           "United States",
           2291
          ],
          [
           "grid.38142.3c",
           "Cambridge",
           "United States",
           2291
          ],
          [
           "grid.38142.3c",
           "Cambridge",
           "United States",
           2291
          ],
          [
           "grid.38142.3c",
           "Cambridge",
           "United States",
           2291
          ],
          [
           "grid.38142.3c",
           "Cambridge",
           "United States",
           2291
          ],
          [
           "grid.38142.3c",
           "Cambridge",
           "United States",
           2291
          ],
          [
           "grid.38142.3c",
           "Cambridge",
           "United States",
           2291
          ],
          [
           "grid.38142.3c",
           "Cambridge",
           "United States",
           2291
          ],
          [
           "grid.38142.3c",
           "Cambridge",
           "United States",
           2291
          ],
          [
           "grid.38142.3c",
           "Cambridge",
           "United States",
           2291
          ],
          [
           "grid.38142.3c",
           "Cambridge",
           "United States",
           2291
          ],
          [
           "grid.38142.3c",
           "Cambridge",
           "United States",
           2291
          ],
          [
           "grid.38142.3c",
           "Cambridge",
           "United States",
           2291
          ],
          [
           "grid.38142.3c",
           "Cambridge",
           "United States",
           2291
          ],
          [
           "grid.38142.3c",
           "Cambridge",
           "United States",
           2291
          ],
          [
           "grid.38142.3c",
           "Cambridge",
           "United States",
           2291
          ],
          [
           "grid.38142.3c",
           "Cambridge",
           "United States",
           2291
          ],
          [
           "grid.38142.3c",
           "Cambridge",
           "United States",
           2291
          ],
          [
           "grid.38142.3c",
           "Cambridge",
           "United States",
           2291
          ],
          [
           "grid.38142.3c",
           "Cambridge",
           "United States",
           2291
          ],
          [
           "grid.38142.3c",
           "Cambridge",
           "United States",
           2291
          ],
          [
           "grid.38142.3c",
           "Cambridge",
           "United States",
           2291
          ],
          [
           "grid.38142.3c",
           "Cambridge",
           "United States",
           2291
          ],
          [
           "grid.38142.3c",
           "Cambridge",
           "United States",
           2291
          ],
          [
           "grid.38142.3c",
           "Cambridge",
           "United States",
           2291
          ],
          [
           "grid.38142.3c",
           "Cambridge",
           "United States",
           2291
          ],
          [
           "grid.38142.3c",
           "Cambridge",
           "United States",
           2291
          ],
          [
           "grid.38142.3c",
           "Cambridge",
           "United States",
           2291
          ],
          [
           "grid.38142.3c",
           "Cambridge",
           "United States",
           2291
          ],
          [
           "grid.38142.3c",
           "Cambridge",
           "United States",
           2291
          ],
          [
           "grid.38142.3c",
           "Cambridge",
           "United States",
           2291
          ],
          [
           "grid.38142.3c",
           "Cambridge",
           "United States",
           2291
          ],
          [
           "grid.38142.3c",
           "Cambridge",
           "United States",
           2291
          ],
          [
           "grid.38142.3c",
           "Cambridge",
           "United States",
           2291
          ],
          [
           "grid.38142.3c",
           "Cambridge",
           "United States",
           2291
          ],
          [
           "grid.38142.3c",
           "Cambridge",
           "United States",
           2291
          ],
          [
           "grid.38142.3c",
           "Cambridge",
           "United States",
           2291
          ],
          [
           "grid.38142.3c",
           "Cambridge",
           "United States",
           2291
          ],
          [
           "grid.38142.3c",
           "Cambridge",
           "United States",
           2291
          ],
          [
           "grid.38142.3c",
           "Cambridge",
           "United States",
           2291
          ],
          [
           "grid.38142.3c",
           "Cambridge",
           "United States",
           2291
          ],
          [
           "grid.38142.3c",
           "Cambridge",
           "United States",
           2291
          ],
          [
           "grid.38142.3c",
           "Cambridge",
           "United States",
           2291
          ],
          [
           "grid.38142.3c",
           "Cambridge",
           "United States",
           2291
          ],
          [
           "grid.38142.3c",
           "Cambridge",
           "United States",
           2291
          ],
          [
           "grid.38142.3c",
           "Cambridge",
           "United States",
           2291
          ],
          [
           "grid.38142.3c",
           "Cambridge",
           "United States",
           2291
          ],
          [
           "grid.38142.3c",
           "Cambridge",
           "United States",
           2291
          ],
          [
           "grid.38142.3c",
           "Cambridge",
           "United States",
           2291
          ],
          [
           "grid.38142.3c",
           "Cambridge",
           "United States",
           2291
          ],
          [
           "grid.38142.3c",
           "Cambridge",
           "United States",
           2291
          ],
          [
           "grid.38142.3c",
           "Cambridge",
           "United States",
           2291
          ],
          [
           "grid.38142.3c",
           "Cambridge",
           "United States",
           2291
          ],
          [
           "grid.38142.3c",
           "Cambridge",
           "United States",
           2291
          ],
          [
           "grid.38142.3c",
           "Cambridge",
           "United States",
           2291
          ],
          [
           "grid.38142.3c",
           "Cambridge",
           "United States",
           2291
          ],
          [
           "grid.38142.3c",
           "Cambridge",
           "United States",
           2291
          ],
          [
           "grid.38142.3c",
           "Cambridge",
           "United States",
           2291
          ],
          [
           "grid.38142.3c",
           "Cambridge",
           "United States",
           2291
          ],
          [
           "grid.38142.3c",
           "Cambridge",
           "United States",
           2291
          ],
          [
           "grid.38142.3c",
           "Cambridge",
           "United States",
           2291
          ],
          [
           "grid.38142.3c",
           "Cambridge",
           "United States",
           2291
          ],
          [
           "grid.38142.3c",
           "Cambridge",
           "United States",
           2291
          ],
          [
           "grid.38142.3c",
           "Cambridge",
           "United States",
           2291
          ],
          [
           "grid.38142.3c",
           "Cambridge",
           "United States",
           2291
          ],
          [
           "grid.38142.3c",
           "Cambridge",
           "United States",
           2291
          ],
          [
           "grid.38142.3c",
           "Cambridge",
           "United States",
           2291
          ],
          [
           "grid.38142.3c",
           "Cambridge",
           "United States",
           2291
          ],
          [
           "grid.38142.3c",
           "Cambridge",
           "United States",
           2291
          ],
          [
           "grid.38142.3c",
           "Cambridge",
           "United States",
           2291
          ],
          [
           "grid.38142.3c",
           "Cambridge",
           "United States",
           2291
          ],
          [
           "grid.38142.3c",
           "Cambridge",
           "United States",
           2291
          ],
          [
           "grid.38142.3c",
           "Cambridge",
           "United States",
           2291
          ],
          [
           "grid.38142.3c",
           "Cambridge",
           "United States",
           2291
          ],
          [
           "grid.38142.3c",
           "Cambridge",
           "United States",
           2291
          ],
          [
           "grid.38142.3c",
           "Cambridge",
           "United States",
           2291
          ],
          [
           "grid.38142.3c",
           "Cambridge",
           "United States",
           2291
          ],
          [
           "grid.38142.3c",
           "Cambridge",
           "United States",
           2291
          ],
          [
           "grid.38142.3c",
           "Cambridge",
           "United States",
           2291
          ],
          [
           "grid.38142.3c",
           "Cambridge",
           "United States",
           2291
          ],
          [
           "grid.38142.3c",
           "Cambridge",
           "United States",
           2291
          ],
          [
           "grid.38142.3c",
           "Cambridge",
           "United States",
           2291
          ],
          [
           "grid.38142.3c",
           "Cambridge",
           "United States",
           2291
          ],
          [
           "grid.38142.3c",
           "Cambridge",
           "United States",
           2291
          ],
          [
           "grid.38142.3c",
           "Cambridge",
           "United States",
           2291
          ],
          [
           "grid.38142.3c",
           "Cambridge",
           "United States",
           2291
          ],
          [
           "grid.38142.3c",
           "Cambridge",
           "United States",
           2291
          ],
          [
           "grid.38142.3c",
           "Cambridge",
           "United States",
           2291
          ],
          [
           "grid.38142.3c",
           "Cambridge",
           "United States",
           2291
          ],
          [
           "grid.38142.3c",
           "Cambridge",
           "United States",
           2291
          ],
          [
           "grid.38142.3c",
           "Cambridge",
           "United States",
           2291
          ],
          [
           "grid.38142.3c",
           "Cambridge",
           "United States",
           2291
          ],
          [
           "grid.38142.3c",
           "Cambridge",
           "United States",
           2291
          ],
          [
           "grid.38142.3c",
           "Cambridge",
           "United States",
           2291
          ],
          [
           "grid.38142.3c",
           "Cambridge",
           "United States",
           2291
          ],
          [
           "grid.38142.3c",
           "Cambridge",
           "United States",
           2291
          ],
          [
           "grid.38142.3c",
           "Cambridge",
           "United States",
           2291
          ],
          [
           "grid.38142.3c",
           "Cambridge",
           "United States",
           2291
          ],
          [
           "grid.38142.3c",
           "Cambridge",
           "United States",
           2291
          ],
          [
           "grid.38142.3c",
           "Cambridge",
           "United States",
           2291
          ],
          [
           "grid.38142.3c",
           "Cambridge",
           "United States",
           2291
          ],
          [
           "grid.38142.3c",
           "Cambridge",
           "United States",
           2291
          ],
          [
           "grid.38142.3c",
           "Cambridge",
           "United States",
           2291
          ],
          [
           "grid.38142.3c",
           "Cambridge",
           "United States",
           2291
          ],
          [
           "grid.38142.3c",
           "Cambridge",
           "United States",
           2291
          ],
          [
           "grid.38142.3c",
           "Cambridge",
           "United States",
           2291
          ],
          [
           "grid.38142.3c",
           "Cambridge",
           "United States",
           2291
          ],
          [
           "grid.38142.3c",
           "Cambridge",
           "United States",
           2291
          ],
          [
           "grid.38142.3c",
           "Cambridge",
           "United States",
           2291
          ],
          [
           "grid.38142.3c",
           "Cambridge",
           "United States",
           2291
          ],
          [
           "grid.38142.3c",
           "Cambridge",
           "United States",
           2291
          ],
          [
           "grid.38142.3c",
           "Cambridge",
           "United States",
           2291
          ],
          [
           "grid.38142.3c",
           "Cambridge",
           "United States",
           2291
          ],
          [
           "grid.38142.3c",
           "Cambridge",
           "United States",
           2291
          ],
          [
           "grid.38142.3c",
           "Cambridge",
           "United States",
           2291
          ]
         ],
         "hovertemplate": "<b>%{hovertext}</b><br><br>aff_country=%{customdata[2]}<br>aff_name=%{x}<br>tot_pubs=%{y}<br>tot_affiliations=%{customdata[3]}<br>aff_id=%{customdata[0]}<br>aff_city=%{customdata[1]}<extra></extra>",
         "hovertext": [
          "Harvard University",
          "Harvard University",
          "Harvard University",
          "Harvard University",
          "Harvard University",
          "Harvard University",
          "Harvard University",
          "Harvard University",
          "Harvard University",
          "Harvard University",
          "Harvard University",
          "Harvard University",
          "Harvard University",
          "Harvard University",
          "Harvard University",
          "Harvard University",
          "Harvard University",
          "Harvard University",
          "Harvard University",
          "Harvard University",
          "Harvard University",
          "Harvard University",
          "Harvard University",
          "Harvard University",
          "Harvard University",
          "Harvard University",
          "Harvard University",
          "Harvard University",
          "Harvard University",
          "Harvard University",
          "Harvard University",
          "Harvard University",
          "Harvard University",
          "Harvard University",
          "Harvard University",
          "Harvard University",
          "Harvard University",
          "Harvard University",
          "Harvard University",
          "Harvard University",
          "Harvard University",
          "Harvard University",
          "Harvard University",
          "Harvard University",
          "Harvard University",
          "Harvard University",
          "Harvard University",
          "Harvard University",
          "Harvard University",
          "Harvard University",
          "Harvard University",
          "Harvard University",
          "Harvard University",
          "Harvard University",
          "Harvard University",
          "Harvard University",
          "Harvard University",
          "Harvard University",
          "Harvard University",
          "Harvard University",
          "Harvard University",
          "Harvard University",
          "Harvard University",
          "Harvard University",
          "Harvard University",
          "Harvard University",
          "Harvard University",
          "Harvard University",
          "Harvard University",
          "Harvard University",
          "Harvard University",
          "Harvard University",
          "Harvard University",
          "Harvard University",
          "Harvard University",
          "Harvard University",
          "Harvard University",
          "Harvard University",
          "Harvard University",
          "Harvard University",
          "Harvard University",
          "Harvard University",
          "Harvard University",
          "Harvard University",
          "Harvard University",
          "Harvard University",
          "Harvard University",
          "Harvard University",
          "Harvard University",
          "Harvard University",
          "Harvard University",
          "Harvard University",
          "Harvard University",
          "Harvard University",
          "Harvard University",
          "Harvard University",
          "Harvard University",
          "Harvard University",
          "Harvard University",
          "Harvard University",
          "Harvard University",
          "Harvard University",
          "Harvard University",
          "Harvard University",
          "Harvard University",
          "Harvard University",
          "Harvard University",
          "Harvard University",
          "Harvard University",
          "Harvard University",
          "Harvard University",
          "Harvard University",
          "Harvard University",
          "Harvard University",
          "Harvard University",
          "Harvard University",
          "Harvard University",
          "Harvard University",
          "Harvard University",
          "Harvard University",
          "Harvard University",
          "Harvard University",
          "Harvard University",
          "Harvard University",
          "Harvard University",
          "Harvard University",
          "Harvard University",
          "Harvard University",
          "Harvard University",
          "Harvard University",
          "Harvard University",
          "Harvard University",
          "Harvard University",
          "Harvard University",
          "Harvard University",
          "Harvard University",
          "Harvard University",
          "Harvard University",
          "Harvard University",
          "Harvard University",
          "Harvard University",
          "Harvard University",
          "Harvard University",
          "Harvard University",
          "Harvard University",
          "Harvard University",
          "Harvard University",
          "Harvard University",
          "Harvard University",
          "Harvard University",
          "Harvard University",
          "Harvard University",
          "Harvard University",
          "Harvard University",
          "Harvard University",
          "Harvard University",
          "Harvard University",
          "Harvard University",
          "Harvard University",
          "Harvard University",
          "Harvard University",
          "Harvard University",
          "Harvard University",
          "Harvard University",
          "Harvard University",
          "Harvard University",
          "Harvard University",
          "Harvard University",
          "Harvard University",
          "Harvard University",
          "Harvard University",
          "Harvard University",
          "Harvard University",
          "Harvard University",
          "Harvard University",
          "Harvard University",
          "Harvard University",
          "Harvard University",
          "Harvard University",
          "Harvard University",
          "Harvard University",
          "Harvard University",
          "Harvard University",
          "Harvard University",
          "Harvard University",
          "Harvard University",
          "Harvard University",
          "Harvard University",
          "Harvard University",
          "Harvard University",
          "Harvard University",
          "Harvard University",
          "Harvard University",
          "Harvard University",
          "Harvard University",
          "Harvard University",
          "Harvard University",
          "Harvard University",
          "Harvard University",
          "Harvard University",
          "Harvard University",
          "Harvard University",
          "Harvard University",
          "Harvard University",
          "Harvard University",
          "Harvard University",
          "Harvard University",
          "Harvard University",
          "Harvard University",
          "Harvard University",
          "Harvard University",
          "Harvard University",
          "Harvard University",
          "Harvard University",
          "Harvard University",
          "Harvard University",
          "Harvard University",
          "Harvard University",
          "Harvard University",
          "Harvard University",
          "Harvard University",
          "Harvard University",
          "Harvard University",
          "Harvard University",
          "Harvard University",
          "Harvard University",
          "Harvard University",
          "Harvard University",
          "Harvard University",
          "Harvard University",
          "Harvard University",
          "Harvard University",
          "Harvard University",
          "Harvard University",
          "Harvard University",
          "Harvard University",
          "Harvard University",
          "Harvard University",
          "Harvard University",
          "Harvard University",
          "Harvard University",
          "Harvard University",
          "Harvard University",
          "Harvard University",
          "Harvard University",
          "Harvard University",
          "Harvard University",
          "Harvard University",
          "Harvard University",
          "Harvard University",
          "Harvard University",
          "Harvard University",
          "Harvard University",
          "Harvard University",
          "Harvard University",
          "Harvard University",
          "Harvard University",
          "Harvard University",
          "Harvard University",
          "Harvard University",
          "Harvard University",
          "Harvard University",
          "Harvard University",
          "Harvard University",
          "Harvard University",
          "Harvard University",
          "Harvard University",
          "Harvard University",
          "Harvard University",
          "Harvard University",
          "Harvard University",
          "Harvard University",
          "Harvard University",
          "Harvard University",
          "Harvard University",
          "Harvard University",
          "Harvard University",
          "Harvard University",
          "Harvard University",
          "Harvard University",
          "Harvard University",
          "Harvard University",
          "Harvard University",
          "Harvard University",
          "Harvard University",
          "Harvard University",
          "Harvard University",
          "Harvard University",
          "Harvard University",
          "Harvard University",
          "Harvard University",
          "Harvard University",
          "Harvard University",
          "Harvard University",
          "Harvard University",
          "Harvard University",
          "Harvard University",
          "Harvard University",
          "Harvard University",
          "Harvard University",
          "Harvard University",
          "Harvard University",
          "Harvard University",
          "Harvard University",
          "Harvard University",
          "Harvard University",
          "Harvard University",
          "Harvard University",
          "Harvard University",
          "Harvard University",
          "Harvard University",
          "Harvard University",
          "Harvard University",
          "Harvard University",
          "Harvard University",
          "Harvard University",
          "Harvard University",
          "Harvard University",
          "Harvard University",
          "Harvard University",
          "Harvard University",
          "Harvard University",
          "Harvard University",
          "Harvard University",
          "Harvard University",
          "Harvard University",
          "Harvard University",
          "Harvard University",
          "Harvard University",
          "Harvard University",
          "Harvard University",
          "Harvard University",
          "Harvard University",
          "Harvard University",
          "Harvard University",
          "Harvard University",
          "Harvard University",
          "Harvard University",
          "Harvard University",
          "Harvard University",
          "Harvard University",
          "Harvard University",
          "Harvard University",
          "Harvard University",
          "Harvard University",
          "Harvard University",
          "Harvard University",
          "Harvard University",
          "Harvard University",
          "Harvard University",
          "Harvard University",
          "Harvard University",
          "Harvard University",
          "Harvard University",
          "Harvard University",
          "Harvard University",
          "Harvard University",
          "Harvard University",
          "Harvard University",
          "Harvard University",
          "Harvard University",
          "Harvard University",
          "Harvard University",
          "Harvard University",
          "Harvard University",
          "Harvard University",
          "Harvard University",
          "Harvard University",
          "Harvard University",
          "Harvard University",
          "Harvard University",
          "Harvard University",
          "Harvard University",
          "Harvard University",
          "Harvard University",
          "Harvard University",
          "Harvard University",
          "Harvard University",
          "Harvard University",
          "Harvard University",
          "Harvard University",
          "Harvard University",
          "Harvard University",
          "Harvard University",
          "Harvard University",
          "Harvard University",
          "Harvard University",
          "Harvard University",
          "Harvard University",
          "Harvard University",
          "Harvard University",
          "Harvard University",
          "Harvard University",
          "Harvard University",
          "Harvard University",
          "Harvard University",
          "Harvard University",
          "Harvard University",
          "Harvard University",
          "Harvard University",
          "Harvard University",
          "Harvard University",
          "Harvard University",
          "Harvard University",
          "Harvard University",
          "Harvard University",
          "Harvard University",
          "Harvard University",
          "Harvard University",
          "Harvard University",
          "Harvard University",
          "Harvard University",
          "Harvard University",
          "Harvard University",
          "Harvard University",
          "Harvard University",
          "Harvard University",
          "Harvard University",
          "Harvard University",
          "Harvard University",
          "Harvard University",
          "Harvard University",
          "Harvard University",
          "Harvard University",
          "Harvard University",
          "Harvard University",
          "Harvard University",
          "Harvard University",
          "Harvard University",
          "Harvard University",
          "Harvard University",
          "Harvard University",
          "Harvard University",
          "Harvard University",
          "Harvard University",
          "Harvard University",
          "Harvard University",
          "Harvard University",
          "Harvard University",
          "Harvard University",
          "Harvard University",
          "Harvard University",
          "Harvard University",
          "Harvard University",
          "Harvard University",
          "Harvard University",
          "Harvard University",
          "Harvard University",
          "Harvard University",
          "Harvard University",
          "Harvard University",
          "Harvard University",
          "Harvard University",
          "Harvard University",
          "Harvard University",
          "Harvard University",
          "Harvard University",
          "Harvard University",
          "Harvard University",
          "Harvard University",
          "Harvard University",
          "Harvard University",
          "Harvard University",
          "Harvard University",
          "Harvard University",
          "Harvard University",
          "Harvard University",
          "Harvard University",
          "Harvard University",
          "Harvard University",
          "Harvard University",
          "Harvard University",
          "Harvard University",
          "Harvard University",
          "Harvard University",
          "Harvard University",
          "Harvard University",
          "Harvard University",
          "Harvard University",
          "Harvard University",
          "Harvard University",
          "Harvard University",
          "Harvard University",
          "Harvard University",
          "Harvard University",
          "Harvard University",
          "Harvard University",
          "Harvard University",
          "Harvard University",
          "Harvard University",
          "Harvard University",
          "Harvard University",
          "Harvard University",
          "Harvard University",
          "Harvard University",
          "Harvard University",
          "Harvard University",
          "Harvard University",
          "Harvard University",
          "Harvard University"
         ],
         "legendgroup": "United States",
         "marker": {
          "color": "#636efa",
          "size": [
           2291,
           2291,
           2291,
           2291,
           2291,
           2291,
           2291,
           2291,
           2291,
           2291,
           2291,
           2291,
           2291,
           2291,
           2291,
           2291,
           2291,
           2291,
           2291,
           2291,
           2291,
           2291,
           2291,
           2291,
           2291,
           2291,
           2291,
           2291,
           2291,
           2291,
           2291,
           2291,
           2291,
           2291,
           2291,
           2291,
           2291,
           2291,
           2291,
           2291,
           2291,
           2291,
           2291,
           2291,
           2291,
           2291,
           2291,
           2291,
           2291,
           2291,
           2291,
           2291,
           2291,
           2291,
           2291,
           2291,
           2291,
           2291,
           2291,
           2291,
           2291,
           2291,
           2291,
           2291,
           2291,
           2291,
           2291,
           2291,
           2291,
           2291,
           2291,
           2291,
           2291,
           2291,
           2291,
           2291,
           2291,
           2291,
           2291,
           2291,
           2291,
           2291,
           2291,
           2291,
           2291,
           2291,
           2291,
           2291,
           2291,
           2291,
           2291,
           2291,
           2291,
           2291,
           2291,
           2291,
           2291,
           2291,
           2291,
           2291,
           2291,
           2291,
           2291,
           2291,
           2291,
           2291,
           2291,
           2291,
           2291,
           2291,
           2291,
           2291,
           2291,
           2291,
           2291,
           2291,
           2291,
           2291,
           2291,
           2291,
           2291,
           2291,
           2291,
           2291,
           2291,
           2291,
           2291,
           2291,
           2291,
           2291,
           2291,
           2291,
           2291,
           2291,
           2291,
           2291,
           2291,
           2291,
           2291,
           2291,
           2291,
           2291,
           2291,
           2291,
           2291,
           2291,
           2291,
           2291,
           2291,
           2291,
           2291,
           2291,
           2291,
           2291,
           2291,
           2291,
           2291,
           2291,
           2291,
           2291,
           2291,
           2291,
           2291,
           2291,
           2291,
           2291,
           2291,
           2291,
           2291,
           2291,
           2291,
           2291,
           2291,
           2291,
           2291,
           2291,
           2291,
           2291,
           2291,
           2291,
           2291,
           2291,
           2291,
           2291,
           2291,
           2291,
           2291,
           2291,
           2291,
           2291,
           2291,
           2291,
           2291,
           2291,
           2291,
           2291,
           2291,
           2291,
           2291,
           2291,
           2291,
           2291,
           2291,
           2291,
           2291,
           2291,
           2291,
           2291,
           2291,
           2291,
           2291,
           2291,
           2291,
           2291,
           2291,
           2291,
           2291,
           2291,
           2291,
           2291,
           2291,
           2291,
           2291,
           2291,
           2291,
           2291,
           2291,
           2291,
           2291,
           2291,
           2291,
           2291,
           2291,
           2291,
           2291,
           2291,
           2291,
           2291,
           2291,
           2291,
           2291,
           2291,
           2291,
           2291,
           2291,
           2291,
           2291,
           2291,
           2291,
           2291,
           2291,
           2291,
           2291,
           2291,
           2291,
           2291,
           2291,
           2291,
           2291,
           2291,
           2291,
           2291,
           2291,
           2291,
           2291,
           2291,
           2291,
           2291,
           2291,
           2291,
           2291,
           2291,
           2291,
           2291,
           2291,
           2291,
           2291,
           2291,
           2291,
           2291,
           2291,
           2291,
           2291,
           2291,
           2291,
           2291,
           2291,
           2291,
           2291,
           2291,
           2291,
           2291,
           2291,
           2291,
           2291,
           2291,
           2291,
           2291,
           2291,
           2291,
           2291,
           2291,
           2291,
           2291,
           2291,
           2291,
           2291,
           2291,
           2291,
           2291,
           2291,
           2291,
           2291,
           2291,
           2291,
           2291,
           2291,
           2291,
           2291,
           2291,
           2291,
           2291,
           2291,
           2291,
           2291,
           2291,
           2291,
           2291,
           2291,
           2291,
           2291,
           2291,
           2291,
           2291,
           2291,
           2291,
           2291,
           2291,
           2291,
           2291,
           2291,
           2291,
           2291,
           2291,
           2291,
           2291,
           2291,
           2291,
           2291,
           2291,
           2291,
           2291,
           2291,
           2291,
           2291,
           2291,
           2291,
           2291,
           2291,
           2291,
           2291,
           2291,
           2291,
           2291,
           2291,
           2291,
           2291,
           2291,
           2291,
           2291,
           2291,
           2291,
           2291,
           2291,
           2291,
           2291,
           2291,
           2291,
           2291,
           2291,
           2291,
           2291,
           2291,
           2291,
           2291,
           2291,
           2291,
           2291,
           2291,
           2291,
           2291,
           2291,
           2291,
           2291,
           2291,
           2291,
           2291,
           2291,
           2291,
           2291,
           2291,
           2291,
           2291,
           2291,
           2291,
           2291,
           2291,
           2291,
           2291,
           2291,
           2291,
           2291,
           2291,
           2291,
           2291,
           2291,
           2291,
           2291,
           2291,
           2291,
           2291,
           2291,
           2291,
           2291,
           2291,
           2291,
           2291,
           2291,
           2291,
           2291,
           2291,
           2291,
           2291,
           2291,
           2291,
           2291,
           2291,
           2291,
           2291,
           2291,
           2291,
           2291,
           2291,
           2291,
           2291,
           2291,
           2291,
           2291,
           2291,
           2291,
           2291,
           2291,
           2291,
           2291,
           2291,
           2291,
           2291,
           2291,
           2291,
           2291,
           2291,
           2291,
           2291,
           2291,
           2291,
           2291,
           2291,
           2291,
           2291,
           2291,
           2291,
           2291,
           2291,
           2291,
           2291,
           2291,
           2291,
           2291,
           2291,
           2291,
           2291,
           2291,
           2291,
           2291,
           2291,
           2291,
           2291,
           2291,
           2291,
           2291,
           2291,
           2291,
           2291,
           2291,
           2291,
           2291,
           2291,
           2291,
           2291,
           2291
          ],
          "sizemode": "area",
          "sizeref": 5.7275,
          "symbol": "circle"
         },
         "mode": "markers",
         "name": "United States",
         "orientation": "v",
         "showlegend": true,
         "type": "scatter",
         "x": [
          "Harvard University",
          "Harvard University",
          "Harvard University",
          "Harvard University",
          "Harvard University",
          "Harvard University",
          "Harvard University",
          "Harvard University",
          "Harvard University",
          "Harvard University",
          "Harvard University",
          "Harvard University",
          "Harvard University",
          "Harvard University",
          "Harvard University",
          "Harvard University",
          "Harvard University",
          "Harvard University",
          "Harvard University",
          "Harvard University",
          "Harvard University",
          "Harvard University",
          "Harvard University",
          "Harvard University",
          "Harvard University",
          "Harvard University",
          "Harvard University",
          "Harvard University",
          "Harvard University",
          "Harvard University",
          "Harvard University",
          "Harvard University",
          "Harvard University",
          "Harvard University",
          "Harvard University",
          "Harvard University",
          "Harvard University",
          "Harvard University",
          "Harvard University",
          "Harvard University",
          "Harvard University",
          "Harvard University",
          "Harvard University",
          "Harvard University",
          "Harvard University",
          "Harvard University",
          "Harvard University",
          "Harvard University",
          "Harvard University",
          "Harvard University",
          "Harvard University",
          "Harvard University",
          "Harvard University",
          "Harvard University",
          "Harvard University",
          "Harvard University",
          "Harvard University",
          "Harvard University",
          "Harvard University",
          "Harvard University",
          "Harvard University",
          "Harvard University",
          "Harvard University",
          "Harvard University",
          "Harvard University",
          "Harvard University",
          "Harvard University",
          "Harvard University",
          "Harvard University",
          "Harvard University",
          "Harvard University",
          "Harvard University",
          "Harvard University",
          "Harvard University",
          "Harvard University",
          "Harvard University",
          "Harvard University",
          "Harvard University",
          "Harvard University",
          "Harvard University",
          "Harvard University",
          "Harvard University",
          "Harvard University",
          "Harvard University",
          "Harvard University",
          "Harvard University",
          "Harvard University",
          "Harvard University",
          "Harvard University",
          "Harvard University",
          "Harvard University",
          "Harvard University",
          "Harvard University",
          "Harvard University",
          "Harvard University",
          "Harvard University",
          "Harvard University",
          "Harvard University",
          "Harvard University",
          "Harvard University",
          "Harvard University",
          "Harvard University",
          "Harvard University",
          "Harvard University",
          "Harvard University",
          "Harvard University",
          "Harvard University",
          "Harvard University",
          "Harvard University",
          "Harvard University",
          "Harvard University",
          "Harvard University",
          "Harvard University",
          "Harvard University",
          "Harvard University",
          "Harvard University",
          "Harvard University",
          "Harvard University",
          "Harvard University",
          "Harvard University",
          "Harvard University",
          "Harvard University",
          "Harvard University",
          "Harvard University",
          "Harvard University",
          "Harvard University",
          "Harvard University",
          "Harvard University",
          "Harvard University",
          "Harvard University",
          "Harvard University",
          "Harvard University",
          "Harvard University",
          "Harvard University",
          "Harvard University",
          "Harvard University",
          "Harvard University",
          "Harvard University",
          "Harvard University",
          "Harvard University",
          "Harvard University",
          "Harvard University",
          "Harvard University",
          "Harvard University",
          "Harvard University",
          "Harvard University",
          "Harvard University",
          "Harvard University",
          "Harvard University",
          "Harvard University",
          "Harvard University",
          "Harvard University",
          "Harvard University",
          "Harvard University",
          "Harvard University",
          "Harvard University",
          "Harvard University",
          "Harvard University",
          "Harvard University",
          "Harvard University",
          "Harvard University",
          "Harvard University",
          "Harvard University",
          "Harvard University",
          "Harvard University",
          "Harvard University",
          "Harvard University",
          "Harvard University",
          "Harvard University",
          "Harvard University",
          "Harvard University",
          "Harvard University",
          "Harvard University",
          "Harvard University",
          "Harvard University",
          "Harvard University",
          "Harvard University",
          "Harvard University",
          "Harvard University",
          "Harvard University",
          "Harvard University",
          "Harvard University",
          "Harvard University",
          "Harvard University",
          "Harvard University",
          "Harvard University",
          "Harvard University",
          "Harvard University",
          "Harvard University",
          "Harvard University",
          "Harvard University",
          "Harvard University",
          "Harvard University",
          "Harvard University",
          "Harvard University",
          "Harvard University",
          "Harvard University",
          "Harvard University",
          "Harvard University",
          "Harvard University",
          "Harvard University",
          "Harvard University",
          "Harvard University",
          "Harvard University",
          "Harvard University",
          "Harvard University",
          "Harvard University",
          "Harvard University",
          "Harvard University",
          "Harvard University",
          "Harvard University",
          "Harvard University",
          "Harvard University",
          "Harvard University",
          "Harvard University",
          "Harvard University",
          "Harvard University",
          "Harvard University",
          "Harvard University",
          "Harvard University",
          "Harvard University",
          "Harvard University",
          "Harvard University",
          "Harvard University",
          "Harvard University",
          "Harvard University",
          "Harvard University",
          "Harvard University",
          "Harvard University",
          "Harvard University",
          "Harvard University",
          "Harvard University",
          "Harvard University",
          "Harvard University",
          "Harvard University",
          "Harvard University",
          "Harvard University",
          "Harvard University",
          "Harvard University",
          "Harvard University",
          "Harvard University",
          "Harvard University",
          "Harvard University",
          "Harvard University",
          "Harvard University",
          "Harvard University",
          "Harvard University",
          "Harvard University",
          "Harvard University",
          "Harvard University",
          "Harvard University",
          "Harvard University",
          "Harvard University",
          "Harvard University",
          "Harvard University",
          "Harvard University",
          "Harvard University",
          "Harvard University",
          "Harvard University",
          "Harvard University",
          "Harvard University",
          "Harvard University",
          "Harvard University",
          "Harvard University",
          "Harvard University",
          "Harvard University",
          "Harvard University",
          "Harvard University",
          "Harvard University",
          "Harvard University",
          "Harvard University",
          "Harvard University",
          "Harvard University",
          "Harvard University",
          "Harvard University",
          "Harvard University",
          "Harvard University",
          "Harvard University",
          "Harvard University",
          "Harvard University",
          "Harvard University",
          "Harvard University",
          "Harvard University",
          "Harvard University",
          "Harvard University",
          "Harvard University",
          "Harvard University",
          "Harvard University",
          "Harvard University",
          "Harvard University",
          "Harvard University",
          "Harvard University",
          "Harvard University",
          "Harvard University",
          "Harvard University",
          "Harvard University",
          "Harvard University",
          "Harvard University",
          "Harvard University",
          "Harvard University",
          "Harvard University",
          "Harvard University",
          "Harvard University",
          "Harvard University",
          "Harvard University",
          "Harvard University",
          "Harvard University",
          "Harvard University",
          "Harvard University",
          "Harvard University",
          "Harvard University",
          "Harvard University",
          "Harvard University",
          "Harvard University",
          "Harvard University",
          "Harvard University",
          "Harvard University",
          "Harvard University",
          "Harvard University",
          "Harvard University",
          "Harvard University",
          "Harvard University",
          "Harvard University",
          "Harvard University",
          "Harvard University",
          "Harvard University",
          "Harvard University",
          "Harvard University",
          "Harvard University",
          "Harvard University",
          "Harvard University",
          "Harvard University",
          "Harvard University",
          "Harvard University",
          "Harvard University",
          "Harvard University",
          "Harvard University",
          "Harvard University",
          "Harvard University",
          "Harvard University",
          "Harvard University",
          "Harvard University",
          "Harvard University",
          "Harvard University",
          "Harvard University",
          "Harvard University",
          "Harvard University",
          "Harvard University",
          "Harvard University",
          "Harvard University",
          "Harvard University",
          "Harvard University",
          "Harvard University",
          "Harvard University",
          "Harvard University",
          "Harvard University",
          "Harvard University",
          "Harvard University",
          "Harvard University",
          "Harvard University",
          "Harvard University",
          "Harvard University",
          "Harvard University",
          "Harvard University",
          "Harvard University",
          "Harvard University",
          "Harvard University",
          "Harvard University",
          "Harvard University",
          "Harvard University",
          "Harvard University",
          "Harvard University",
          "Harvard University",
          "Harvard University",
          "Harvard University",
          "Harvard University",
          "Harvard University",
          "Harvard University",
          "Harvard University",
          "Harvard University",
          "Harvard University",
          "Harvard University",
          "Harvard University",
          "Harvard University",
          "Harvard University",
          "Harvard University",
          "Harvard University",
          "Harvard University",
          "Harvard University",
          "Harvard University",
          "Harvard University",
          "Harvard University",
          "Harvard University",
          "Harvard University",
          "Harvard University",
          "Harvard University",
          "Harvard University",
          "Harvard University",
          "Harvard University",
          "Harvard University",
          "Harvard University",
          "Harvard University",
          "Harvard University",
          "Harvard University",
          "Harvard University",
          "Harvard University",
          "Harvard University",
          "Harvard University",
          "Harvard University",
          "Harvard University",
          "Harvard University",
          "Harvard University",
          "Harvard University",
          "Harvard University",
          "Harvard University",
          "Harvard University",
          "Harvard University",
          "Harvard University",
          "Harvard University",
          "Harvard University",
          "Harvard University",
          "Harvard University",
          "Harvard University",
          "Harvard University",
          "Harvard University",
          "Harvard University",
          "Harvard University",
          "Harvard University",
          "Harvard University",
          "Harvard University",
          "Harvard University",
          "Harvard University",
          "Harvard University",
          "Harvard University",
          "Harvard University",
          "Harvard University",
          "Harvard University",
          "Harvard University",
          "Harvard University",
          "Harvard University",
          "Harvard University",
          "Harvard University",
          "Harvard University",
          "Harvard University",
          "Harvard University",
          "Harvard University",
          "Harvard University",
          "Harvard University",
          "Harvard University",
          "Harvard University",
          "Harvard University",
          "Harvard University",
          "Harvard University",
          "Harvard University",
          "Harvard University",
          "Harvard University",
          "Harvard University",
          "Harvard University",
          "Harvard University",
          "Harvard University",
          "Harvard University",
          "Harvard University",
          "Harvard University",
          "Harvard University",
          "Harvard University",
          "Harvard University",
          "Harvard University",
          "Harvard University",
          "Harvard University",
          "Harvard University",
          "Harvard University",
          "Harvard University",
          "Harvard University",
          "Harvard University",
          "Harvard University",
          "Harvard University",
          "Harvard University",
          "Harvard University",
          "Harvard University",
          "Harvard University",
          "Harvard University",
          "Harvard University",
          "Harvard University",
          "Harvard University",
          "Harvard University",
          "Harvard University",
          "Harvard University",
          "Harvard University",
          "Harvard University",
          "Harvard University",
          "Harvard University",
          "Harvard University",
          "Harvard University",
          "Harvard University",
          "Harvard University",
          "Harvard University",
          "Harvard University",
          "Harvard University",
          "Harvard University",
          "Harvard University"
         ],
         "xaxis": "x",
         "y": [
          370,
          370,
          370,
          370,
          370,
          370,
          370,
          370,
          370,
          370,
          370,
          370,
          370,
          370,
          370,
          370,
          370,
          370,
          370,
          370,
          370,
          370,
          370,
          370,
          370,
          370,
          370,
          370,
          370,
          370,
          370,
          370,
          370,
          370,
          370,
          370,
          370,
          370,
          370,
          370,
          370,
          370,
          370,
          370,
          370,
          370,
          370,
          370,
          370,
          370,
          370,
          370,
          370,
          370,
          370,
          370,
          370,
          370,
          370,
          370,
          370,
          370,
          370,
          370,
          370,
          370,
          370,
          370,
          370,
          370,
          370,
          370,
          370,
          370,
          370,
          370,
          370,
          370,
          370,
          370,
          370,
          370,
          370,
          370,
          370,
          370,
          370,
          370,
          370,
          370,
          370,
          370,
          370,
          370,
          370,
          370,
          370,
          370,
          370,
          370,
          370,
          370,
          370,
          370,
          370,
          370,
          370,
          370,
          370,
          370,
          370,
          370,
          370,
          370,
          370,
          370,
          370,
          370,
          370,
          370,
          370,
          370,
          370,
          370,
          370,
          370,
          370,
          370,
          370,
          370,
          370,
          370,
          370,
          370,
          370,
          370,
          370,
          370,
          370,
          370,
          370,
          370,
          370,
          370,
          370,
          370,
          370,
          370,
          370,
          370,
          370,
          370,
          370,
          370,
          370,
          370,
          370,
          370,
          370,
          370,
          370,
          370,
          370,
          370,
          370,
          370,
          370,
          370,
          370,
          370,
          370,
          370,
          370,
          370,
          370,
          370,
          370,
          370,
          370,
          370,
          370,
          370,
          370,
          370,
          370,
          370,
          370,
          370,
          370,
          370,
          370,
          370,
          370,
          370,
          370,
          370,
          370,
          370,
          370,
          370,
          370,
          370,
          370,
          370,
          370,
          370,
          370,
          370,
          370,
          370,
          370,
          370,
          370,
          370,
          370,
          370,
          370,
          370,
          370,
          370,
          370,
          370,
          370,
          370,
          370,
          370,
          370,
          370,
          370,
          370,
          370,
          370,
          370,
          370,
          370,
          370,
          370,
          370,
          370,
          370,
          370,
          370,
          370,
          370,
          370,
          370,
          370,
          370,
          370,
          370,
          370,
          370,
          370,
          370,
          370,
          370,
          370,
          370,
          370,
          370,
          370,
          370,
          370,
          370,
          370,
          370,
          370,
          370,
          370,
          370,
          370,
          370,
          370,
          370,
          370,
          370,
          370,
          370,
          370,
          370,
          370,
          370,
          370,
          370,
          370,
          370,
          370,
          370,
          370,
          370,
          370,
          370,
          370,
          370,
          370,
          370,
          370,
          370,
          370,
          370,
          370,
          370,
          370,
          370,
          370,
          370,
          370,
          370,
          370,
          370,
          370,
          370,
          370,
          370,
          370,
          370,
          370,
          370,
          370,
          370,
          370,
          370,
          370,
          370,
          370,
          370,
          370,
          370,
          370,
          370,
          370,
          370,
          370,
          370,
          370,
          370,
          370,
          370,
          370,
          370,
          370,
          370,
          370,
          370,
          370,
          370,
          370,
          370,
          370,
          370,
          370,
          370,
          370,
          370,
          370,
          370,
          370,
          370,
          370,
          370,
          370,
          370,
          370,
          370,
          370,
          370,
          370,
          370,
          370,
          370,
          370,
          370,
          370,
          370,
          370,
          370,
          370,
          370,
          370,
          370,
          370,
          370,
          370,
          370,
          370,
          370,
          370,
          370,
          370,
          370,
          370,
          370,
          370,
          370,
          370,
          370,
          370,
          370,
          370,
          370,
          370,
          370,
          370,
          370,
          370,
          370,
          370,
          370,
          370,
          370,
          370,
          370,
          370,
          370,
          370,
          370,
          370,
          370,
          370,
          370,
          370,
          370,
          370,
          370,
          370,
          370,
          370,
          370,
          370,
          370,
          370,
          370,
          370,
          370,
          370,
          370,
          370,
          370,
          370,
          370,
          370,
          370,
          370,
          370,
          370,
          370,
          370,
          370,
          370,
          370,
          370,
          370,
          370,
          370,
          370,
          370,
          370,
          370,
          370,
          370,
          370,
          370,
          370,
          370,
          370,
          370,
          370,
          370,
          370,
          370,
          370,
          370,
          370,
          370,
          370,
          370,
          370,
          370,
          370,
          370,
          370,
          370,
          370,
          370,
          370,
          370,
          370,
          370,
          370,
          370,
          370,
          370,
          370,
          370,
          370,
          370,
          370,
          370,
          370,
          370
         ],
         "yaxis": "y"
        }
       ],
       "layout": {
        "autosize": true,
        "legend": {
         "itemsizing": "constant",
         "title": {
          "text": "aff_country"
         },
         "tracegroupgap": 0
        },
        "template": {
         "data": {
          "bar": [
           {
            "error_x": {
             "color": "#2a3f5f"
            },
            "error_y": {
             "color": "#2a3f5f"
            },
            "marker": {
             "line": {
              "color": "#E5ECF6",
              "width": 0.5
             },
             "pattern": {
              "fillmode": "overlay",
              "size": 10,
              "solidity": 0.2
             }
            },
            "type": "bar"
           }
          ],
          "barpolar": [
           {
            "marker": {
             "line": {
              "color": "#E5ECF6",
              "width": 0.5
             },
             "pattern": {
              "fillmode": "overlay",
              "size": 10,
              "solidity": 0.2
             }
            },
            "type": "barpolar"
           }
          ],
          "carpet": [
           {
            "aaxis": {
             "endlinecolor": "#2a3f5f",
             "gridcolor": "white",
             "linecolor": "white",
             "minorgridcolor": "white",
             "startlinecolor": "#2a3f5f"
            },
            "baxis": {
             "endlinecolor": "#2a3f5f",
             "gridcolor": "white",
             "linecolor": "white",
             "minorgridcolor": "white",
             "startlinecolor": "#2a3f5f"
            },
            "type": "carpet"
           }
          ],
          "choropleth": [
           {
            "colorbar": {
             "outlinewidth": 0,
             "ticks": ""
            },
            "type": "choropleth"
           }
          ],
          "contour": [
           {
            "colorbar": {
             "outlinewidth": 0,
             "ticks": ""
            },
            "colorscale": [
             [
              0,
              "#0d0887"
             ],
             [
              0.1111111111111111,
              "#46039f"
             ],
             [
              0.2222222222222222,
              "#7201a8"
             ],
             [
              0.3333333333333333,
              "#9c179e"
             ],
             [
              0.4444444444444444,
              "#bd3786"
             ],
             [
              0.5555555555555556,
              "#d8576b"
             ],
             [
              0.6666666666666666,
              "#ed7953"
             ],
             [
              0.7777777777777778,
              "#fb9f3a"
             ],
             [
              0.8888888888888888,
              "#fdca26"
             ],
             [
              1,
              "#f0f921"
             ]
            ],
            "type": "contour"
           }
          ],
          "contourcarpet": [
           {
            "colorbar": {
             "outlinewidth": 0,
             "ticks": ""
            },
            "type": "contourcarpet"
           }
          ],
          "heatmap": [
           {
            "colorbar": {
             "outlinewidth": 0,
             "ticks": ""
            },
            "colorscale": [
             [
              0,
              "#0d0887"
             ],
             [
              0.1111111111111111,
              "#46039f"
             ],
             [
              0.2222222222222222,
              "#7201a8"
             ],
             [
              0.3333333333333333,
              "#9c179e"
             ],
             [
              0.4444444444444444,
              "#bd3786"
             ],
             [
              0.5555555555555556,
              "#d8576b"
             ],
             [
              0.6666666666666666,
              "#ed7953"
             ],
             [
              0.7777777777777778,
              "#fb9f3a"
             ],
             [
              0.8888888888888888,
              "#fdca26"
             ],
             [
              1,
              "#f0f921"
             ]
            ],
            "type": "heatmap"
           }
          ],
          "heatmapgl": [
           {
            "colorbar": {
             "outlinewidth": 0,
             "ticks": ""
            },
            "colorscale": [
             [
              0,
              "#0d0887"
             ],
             [
              0.1111111111111111,
              "#46039f"
             ],
             [
              0.2222222222222222,
              "#7201a8"
             ],
             [
              0.3333333333333333,
              "#9c179e"
             ],
             [
              0.4444444444444444,
              "#bd3786"
             ],
             [
              0.5555555555555556,
              "#d8576b"
             ],
             [
              0.6666666666666666,
              "#ed7953"
             ],
             [
              0.7777777777777778,
              "#fb9f3a"
             ],
             [
              0.8888888888888888,
              "#fdca26"
             ],
             [
              1,
              "#f0f921"
             ]
            ],
            "type": "heatmapgl"
           }
          ],
          "histogram": [
           {
            "marker": {
             "pattern": {
              "fillmode": "overlay",
              "size": 10,
              "solidity": 0.2
             }
            },
            "type": "histogram"
           }
          ],
          "histogram2d": [
           {
            "colorbar": {
             "outlinewidth": 0,
             "ticks": ""
            },
            "colorscale": [
             [
              0,
              "#0d0887"
             ],
             [
              0.1111111111111111,
              "#46039f"
             ],
             [
              0.2222222222222222,
              "#7201a8"
             ],
             [
              0.3333333333333333,
              "#9c179e"
             ],
             [
              0.4444444444444444,
              "#bd3786"
             ],
             [
              0.5555555555555556,
              "#d8576b"
             ],
             [
              0.6666666666666666,
              "#ed7953"
             ],
             [
              0.7777777777777778,
              "#fb9f3a"
             ],
             [
              0.8888888888888888,
              "#fdca26"
             ],
             [
              1,
              "#f0f921"
             ]
            ],
            "type": "histogram2d"
           }
          ],
          "histogram2dcontour": [
           {
            "colorbar": {
             "outlinewidth": 0,
             "ticks": ""
            },
            "colorscale": [
             [
              0,
              "#0d0887"
             ],
             [
              0.1111111111111111,
              "#46039f"
             ],
             [
              0.2222222222222222,
              "#7201a8"
             ],
             [
              0.3333333333333333,
              "#9c179e"
             ],
             [
              0.4444444444444444,
              "#bd3786"
             ],
             [
              0.5555555555555556,
              "#d8576b"
             ],
             [
              0.6666666666666666,
              "#ed7953"
             ],
             [
              0.7777777777777778,
              "#fb9f3a"
             ],
             [
              0.8888888888888888,
              "#fdca26"
             ],
             [
              1,
              "#f0f921"
             ]
            ],
            "type": "histogram2dcontour"
           }
          ],
          "mesh3d": [
           {
            "colorbar": {
             "outlinewidth": 0,
             "ticks": ""
            },
            "type": "mesh3d"
           }
          ],
          "parcoords": [
           {
            "line": {
             "colorbar": {
              "outlinewidth": 0,
              "ticks": ""
             }
            },
            "type": "parcoords"
           }
          ],
          "pie": [
           {
            "automargin": true,
            "type": "pie"
           }
          ],
          "scatter": [
           {
            "marker": {
             "colorbar": {
              "outlinewidth": 0,
              "ticks": ""
             }
            },
            "type": "scatter"
           }
          ],
          "scatter3d": [
           {
            "line": {
             "colorbar": {
              "outlinewidth": 0,
              "ticks": ""
             }
            },
            "marker": {
             "colorbar": {
              "outlinewidth": 0,
              "ticks": ""
             }
            },
            "type": "scatter3d"
           }
          ],
          "scattercarpet": [
           {
            "marker": {
             "colorbar": {
              "outlinewidth": 0,
              "ticks": ""
             }
            },
            "type": "scattercarpet"
           }
          ],
          "scattergeo": [
           {
            "marker": {
             "colorbar": {
              "outlinewidth": 0,
              "ticks": ""
             }
            },
            "type": "scattergeo"
           }
          ],
          "scattergl": [
           {
            "marker": {
             "colorbar": {
              "outlinewidth": 0,
              "ticks": ""
             }
            },
            "type": "scattergl"
           }
          ],
          "scattermapbox": [
           {
            "marker": {
             "colorbar": {
              "outlinewidth": 0,
              "ticks": ""
             }
            },
            "type": "scattermapbox"
           }
          ],
          "scatterpolar": [
           {
            "marker": {
             "colorbar": {
              "outlinewidth": 0,
              "ticks": ""
             }
            },
            "type": "scatterpolar"
           }
          ],
          "scatterpolargl": [
           {
            "marker": {
             "colorbar": {
              "outlinewidth": 0,
              "ticks": ""
             }
            },
            "type": "scatterpolargl"
           }
          ],
          "scatterternary": [
           {
            "marker": {
             "colorbar": {
              "outlinewidth": 0,
              "ticks": ""
             }
            },
            "type": "scatterternary"
           }
          ],
          "surface": [
           {
            "colorbar": {
             "outlinewidth": 0,
             "ticks": ""
            },
            "colorscale": [
             [
              0,
              "#0d0887"
             ],
             [
              0.1111111111111111,
              "#46039f"
             ],
             [
              0.2222222222222222,
              "#7201a8"
             ],
             [
              0.3333333333333333,
              "#9c179e"
             ],
             [
              0.4444444444444444,
              "#bd3786"
             ],
             [
              0.5555555555555556,
              "#d8576b"
             ],
             [
              0.6666666666666666,
              "#ed7953"
             ],
             [
              0.7777777777777778,
              "#fb9f3a"
             ],
             [
              0.8888888888888888,
              "#fdca26"
             ],
             [
              1,
              "#f0f921"
             ]
            ],
            "type": "surface"
           }
          ],
          "table": [
           {
            "cells": {
             "fill": {
              "color": "#EBF0F8"
             },
             "line": {
              "color": "white"
             }
            },
            "header": {
             "fill": {
              "color": "#C8D4E3"
             },
             "line": {
              "color": "white"
             }
            },
            "type": "table"
           }
          ]
         },
         "layout": {
          "annotationdefaults": {
           "arrowcolor": "#2a3f5f",
           "arrowhead": 0,
           "arrowwidth": 1
          },
          "autotypenumbers": "strict",
          "coloraxis": {
           "colorbar": {
            "outlinewidth": 0,
            "ticks": ""
           }
          },
          "colorscale": {
           "diverging": [
            [
             0,
             "#8e0152"
            ],
            [
             0.1,
             "#c51b7d"
            ],
            [
             0.2,
             "#de77ae"
            ],
            [
             0.3,
             "#f1b6da"
            ],
            [
             0.4,
             "#fde0ef"
            ],
            [
             0.5,
             "#f7f7f7"
            ],
            [
             0.6,
             "#e6f5d0"
            ],
            [
             0.7,
             "#b8e186"
            ],
            [
             0.8,
             "#7fbc41"
            ],
            [
             0.9,
             "#4d9221"
            ],
            [
             1,
             "#276419"
            ]
           ],
           "sequential": [
            [
             0,
             "#0d0887"
            ],
            [
             0.1111111111111111,
             "#46039f"
            ],
            [
             0.2222222222222222,
             "#7201a8"
            ],
            [
             0.3333333333333333,
             "#9c179e"
            ],
            [
             0.4444444444444444,
             "#bd3786"
            ],
            [
             0.5555555555555556,
             "#d8576b"
            ],
            [
             0.6666666666666666,
             "#ed7953"
            ],
            [
             0.7777777777777778,
             "#fb9f3a"
            ],
            [
             0.8888888888888888,
             "#fdca26"
            ],
            [
             1,
             "#f0f921"
            ]
           ],
           "sequentialminus": [
            [
             0,
             "#0d0887"
            ],
            [
             0.1111111111111111,
             "#46039f"
            ],
            [
             0.2222222222222222,
             "#7201a8"
            ],
            [
             0.3333333333333333,
             "#9c179e"
            ],
            [
             0.4444444444444444,
             "#bd3786"
            ],
            [
             0.5555555555555556,
             "#d8576b"
            ],
            [
             0.6666666666666666,
             "#ed7953"
            ],
            [
             0.7777777777777778,
             "#fb9f3a"
            ],
            [
             0.8888888888888888,
             "#fdca26"
            ],
            [
             1,
             "#f0f921"
            ]
           ]
          },
          "colorway": [
           "#636efa",
           "#EF553B",
           "#00cc96",
           "#ab63fa",
           "#FFA15A",
           "#19d3f3",
           "#FF6692",
           "#B6E880",
           "#FF97FF",
           "#FECB52"
          ],
          "font": {
           "color": "#2a3f5f"
          },
          "geo": {
           "bgcolor": "white",
           "lakecolor": "white",
           "landcolor": "#E5ECF6",
           "showlakes": true,
           "showland": true,
           "subunitcolor": "white"
          },
          "hoverlabel": {
           "align": "left"
          },
          "hovermode": "closest",
          "mapbox": {
           "style": "light"
          },
          "paper_bgcolor": "white",
          "plot_bgcolor": "#E5ECF6",
          "polar": {
           "angularaxis": {
            "gridcolor": "white",
            "linecolor": "white",
            "ticks": ""
           },
           "bgcolor": "#E5ECF6",
           "radialaxis": {
            "gridcolor": "white",
            "linecolor": "white",
            "ticks": ""
           }
          },
          "scene": {
           "xaxis": {
            "backgroundcolor": "#E5ECF6",
            "gridcolor": "white",
            "gridwidth": 2,
            "linecolor": "white",
            "showbackground": true,
            "ticks": "",
            "zerolinecolor": "white"
           },
           "yaxis": {
            "backgroundcolor": "#E5ECF6",
            "gridcolor": "white",
            "gridwidth": 2,
            "linecolor": "white",
            "showbackground": true,
            "ticks": "",
            "zerolinecolor": "white"
           },
           "zaxis": {
            "backgroundcolor": "#E5ECF6",
            "gridcolor": "white",
            "gridwidth": 2,
            "linecolor": "white",
            "showbackground": true,
            "ticks": "",
            "zerolinecolor": "white"
           }
          },
          "shapedefaults": {
           "line": {
            "color": "#2a3f5f"
           }
          },
          "ternary": {
           "aaxis": {
            "gridcolor": "white",
            "linecolor": "white",
            "ticks": ""
           },
           "baxis": {
            "gridcolor": "white",
            "linecolor": "white",
            "ticks": ""
           },
           "bgcolor": "#E5ECF6",
           "caxis": {
            "gridcolor": "white",
            "linecolor": "white",
            "ticks": ""
           }
          },
          "title": {
           "x": 0.05
          },
          "xaxis": {
           "automargin": true,
           "gridcolor": "white",
           "linecolor": "white",
           "ticks": "",
           "title": {
            "standoff": 15
           },
           "zerolinecolor": "white",
           "zerolinewidth": 2
          },
          "yaxis": {
           "automargin": true,
           "gridcolor": "white",
           "linecolor": "white",
           "ticks": "",
           "title": {
            "standoff": 15
           },
           "zerolinecolor": "white",
           "zerolinewidth": 2
          }
         }
        },
        "title": {
         "text": "Top 500 Institutions by number of publications (country segmentation)"
        },
        "xaxis": {
         "anchor": "y",
         "autorange": true,
         "domain": [
          0,
          1
         ],
         "range": [
          -1,
          1
         ],
         "title": {
          "text": "aff_name"
         },
         "type": "category"
        },
        "yaxis": {
         "anchor": "x",
         "autorange": true,
         "domain": [
          0,
          1
         ],
         "range": [
          369,
          371
         ],
         "title": {
          "text": "tot_pubs"
         },
         "type": "linear"
        }
       }
      },
      "image/png": "[encoded data removed]",
      "text/html": [
       "<div>                            <div id=\"e1b7c91d-9305-45af-be1b-7645c2c0872a\" class=\"plotly-graph-div\" style=\"height:800px; width:100%;\"></div>            <script type=\"text/javascript\">                require([\"plotly\"], function(Plotly) {                    window.PLOTLYENV=window.PLOTLYENV || {};                                    if (document.getElementById(\"e1b7c91d-9305-45af-be1b-7645c2c0872a\")) {                    Plotly.newPlot(                        \"e1b7c91d-9305-45af-be1b-7645c2c0872a\",                        [{\"customdata\":[[\"grid.38142.3c\",\"Cambridge\",\"United States\",2291],[\"grid.38142.3c\",\"Cambridge\",\"United States\",2291],[\"grid.38142.3c\",\"Cambridge\",\"United States\",2291],[\"grid.38142.3c\",\"Cambridge\",\"United States\",2291],[\"grid.38142.3c\",\"Cambridge\",\"United States\",2291],[\"grid.38142.3c\",\"Cambridge\",\"United States\",2291],[\"grid.38142.3c\",\"Cambridge\",\"United States\",2291],[\"grid.38142.3c\",\"Cambridge\",\"United States\",2291],[\"grid.38142.3c\",\"Cambridge\",\"United States\",2291],[\"grid.38142.3c\",\"Cambridge\",\"United States\",2291],[\"grid.38142.3c\",\"Cambridge\",\"United States\",2291],[\"grid.38142.3c\",\"Cambridge\",\"United States\",2291],[\"grid.38142.3c\",\"Cambridge\",\"United States\",2291],[\"grid.38142.3c\",\"Cambridge\",\"United States\",2291],[\"grid.38142.3c\",\"Cambridge\",\"United States\",2291],[\"grid.38142.3c\",\"Cambridge\",\"United States\",2291],[\"grid.38142.3c\",\"Cambridge\",\"United States\",2291],[\"grid.38142.3c\",\"Cambridge\",\"United States\",2291],[\"grid.38142.3c\",\"Cambridge\",\"United States\",2291],[\"grid.38142.3c\",\"Cambridge\",\"United States\",2291],[\"grid.38142.3c\",\"Cambridge\",\"United States\",2291],[\"grid.38142.3c\",\"Cambridge\",\"United States\",2291],[\"grid.38142.3c\",\"Cambridge\",\"United States\",2291],[\"grid.38142.3c\",\"Cambridge\",\"United States\",2291],[\"grid.38142.3c\",\"Cambridge\",\"United States\",2291],[\"grid.38142.3c\",\"Cambridge\",\"United States\",2291],[\"grid.38142.3c\",\"Cambridge\",\"United States\",2291],[\"grid.38142.3c\",\"Cambridge\",\"United States\",2291],[\"grid.38142.3c\",\"Cambridge\",\"United States\",2291],[\"grid.38142.3c\",\"Cambridge\",\"United States\",2291],[\"grid.38142.3c\",\"Cambridge\",\"United States\",2291],[\"grid.38142.3c\",\"Cambridge\",\"United States\",2291],[\"grid.38142.3c\",\"Cambridge\",\"United States\",2291],[\"grid.38142.3c\",\"Cambridge\",\"United States\",2291],[\"grid.38142.3c\",\"Cambridge\",\"United States\",2291],[\"grid.38142.3c\",\"Cambridge\",\"United States\",2291],[\"grid.38142.3c\",\"Cambridge\",\"United States\",2291],[\"grid.38142.3c\",\"Cambridge\",\"United States\",2291],[\"grid.38142.3c\",\"Cambridge\",\"United States\",2291],[\"grid.38142.3c\",\"Cambridge\",\"United States\",2291],[\"grid.38142.3c\",\"Cambridge\",\"United States\",2291],[\"grid.38142.3c\",\"Cambridge\",\"United States\",2291],[\"grid.38142.3c\",\"Cambridge\",\"United States\",2291],[\"grid.38142.3c\",\"Cambridge\",\"United States\",2291],[\"grid.38142.3c\",\"Cambridge\",\"United States\",2291],[\"grid.38142.3c\",\"Cambridge\",\"United States\",2291],[\"grid.38142.3c\",\"Cambridge\",\"United States\",2291],[\"grid.38142.3c\",\"Cambridge\",\"United States\",2291],[\"grid.38142.3c\",\"Cambridge\",\"United States\",2291],[\"grid.38142.3c\",\"Cambridge\",\"United States\",2291],[\"grid.38142.3c\",\"Cambridge\",\"United States\",2291],[\"grid.38142.3c\",\"Cambridge\",\"United States\",2291],[\"grid.38142.3c\",\"Cambridge\",\"United States\",2291],[\"grid.38142.3c\",\"Cambridge\",\"United States\",2291],[\"grid.38142.3c\",\"Cambridge\",\"United States\",2291],[\"grid.38142.3c\",\"Cambridge\",\"United States\",2291],[\"grid.38142.3c\",\"Cambridge\",\"United States\",2291],[\"grid.38142.3c\",\"Cambridge\",\"United States\",2291],[\"grid.38142.3c\",\"Cambridge\",\"United States\",2291],[\"grid.38142.3c\",\"Cambridge\",\"United States\",2291],[\"grid.38142.3c\",\"Cambridge\",\"United States\",2291],[\"grid.38142.3c\",\"Cambridge\",\"United States\",2291],[\"grid.38142.3c\",\"Cambridge\",\"United States\",2291],[\"grid.38142.3c\",\"Cambridge\",\"United States\",2291],[\"grid.38142.3c\",\"Cambridge\",\"United States\",2291],[\"grid.38142.3c\",\"Cambridge\",\"United States\",2291],[\"grid.38142.3c\",\"Cambridge\",\"United States\",2291],[\"grid.38142.3c\",\"Cambridge\",\"United States\",2291],[\"grid.38142.3c\",\"Cambridge\",\"United States\",2291],[\"grid.38142.3c\",\"Cambridge\",\"United States\",2291],[\"grid.38142.3c\",\"Cambridge\",\"United States\",2291],[\"grid.38142.3c\",\"Cambridge\",\"United States\",2291],[\"grid.38142.3c\",\"Cambridge\",\"United States\",2291],[\"grid.38142.3c\",\"Cambridge\",\"United States\",2291],[\"grid.38142.3c\",\"Cambridge\",\"United States\",2291],[\"grid.38142.3c\",\"Cambridge\",\"United States\",2291],[\"grid.38142.3c\",\"Cambridge\",\"United States\",2291],[\"grid.38142.3c\",\"Cambridge\",\"United States\",2291],[\"grid.38142.3c\",\"Cambridge\",\"United States\",2291],[\"grid.38142.3c\",\"Cambridge\",\"United States\",2291],[\"grid.38142.3c\",\"Cambridge\",\"United States\",2291],[\"grid.38142.3c\",\"Cambridge\",\"United States\",2291],[\"grid.38142.3c\",\"Cambridge\",\"United States\",2291],[\"grid.38142.3c\",\"Cambridge\",\"United States\",2291],[\"grid.38142.3c\",\"Cambridge\",\"United States\",2291],[\"grid.38142.3c\",\"Cambridge\",\"United States\",2291],[\"grid.38142.3c\",\"Cambridge\",\"United States\",2291],[\"grid.38142.3c\",\"Cambridge\",\"United States\",2291],[\"grid.38142.3c\",\"Cambridge\",\"United States\",2291],[\"grid.38142.3c\",\"Cambridge\",\"United States\",2291],[\"grid.38142.3c\",\"Cambridge\",\"United States\",2291],[\"grid.38142.3c\",\"Cambridge\",\"United States\",2291],[\"grid.38142.3c\",\"Cambridge\",\"United States\",2291],[\"grid.38142.3c\",\"Cambridge\",\"United States\",2291],[\"grid.38142.3c\",\"Cambridge\",\"United States\",2291],[\"grid.38142.3c\",\"Cambridge\",\"United States\",2291],[\"grid.38142.3c\",\"Cambridge\",\"United States\",2291],[\"grid.38142.3c\",\"Cambridge\",\"United States\",2291],[\"grid.38142.3c\",\"Cambridge\",\"United States\",2291],[\"grid.38142.3c\",\"Cambridge\",\"United States\",2291],[\"grid.38142.3c\",\"Cambridge\",\"United States\",2291],[\"grid.38142.3c\",\"Cambridge\",\"United States\",2291],[\"grid.38142.3c\",\"Cambridge\",\"United States\",2291],[\"grid.38142.3c\",\"Cambridge\",\"United States\",2291],[\"grid.38142.3c\",\"Cambridge\",\"United States\",2291],[\"grid.38142.3c\",\"Cambridge\",\"United States\",2291],[\"grid.38142.3c\",\"Cambridge\",\"United States\",2291],[\"grid.38142.3c\",\"Cambridge\",\"United States\",2291],[\"grid.38142.3c\",\"Cambridge\",\"United States\",2291],[\"grid.38142.3c\",\"Cambridge\",\"United States\",2291],[\"grid.38142.3c\",\"Cambridge\",\"United States\",2291],[\"grid.38142.3c\",\"Cambridge\",\"United States\",2291],[\"grid.38142.3c\",\"Cambridge\",\"United States\",2291],[\"grid.38142.3c\",\"Cambridge\",\"United States\",2291],[\"grid.38142.3c\",\"Cambridge\",\"United States\",2291],[\"grid.38142.3c\",\"Cambridge\",\"United States\",2291],[\"grid.38142.3c\",\"Cambridge\",\"United States\",2291],[\"grid.38142.3c\",\"Cambridge\",\"United States\",2291],[\"grid.38142.3c\",\"Cambridge\",\"United States\",2291],[\"grid.38142.3c\",\"Cambridge\",\"United States\",2291],[\"grid.38142.3c\",\"Cambridge\",\"United States\",2291],[\"grid.38142.3c\",\"Cambridge\",\"United States\",2291],[\"grid.38142.3c\",\"Cambridge\",\"United States\",2291],[\"grid.38142.3c\",\"Cambridge\",\"United States\",2291],[\"grid.38142.3c\",\"Cambridge\",\"United States\",2291],[\"grid.38142.3c\",\"Cambridge\",\"United States\",2291],[\"grid.38142.3c\",\"Cambridge\",\"United States\",2291],[\"grid.38142.3c\",\"Cambridge\",\"United States\",2291],[\"grid.38142.3c\",\"Cambridge\",\"United States\",2291],[\"grid.38142.3c\",\"Cambridge\",\"United States\",2291],[\"grid.38142.3c\",\"Cambridge\",\"United States\",2291],[\"grid.38142.3c\",\"Cambridge\",\"United States\",2291],[\"grid.38142.3c\",\"Cambridge\",\"United States\",2291],[\"grid.38142.3c\",\"Cambridge\",\"United States\",2291],[\"grid.38142.3c\",\"Cambridge\",\"United States\",2291],[\"grid.38142.3c\",\"Cambridge\",\"United States\",2291],[\"grid.38142.3c\",\"Cambridge\",\"United States\",2291],[\"grid.38142.3c\",\"Cambridge\",\"United States\",2291],[\"grid.38142.3c\",\"Cambridge\",\"United States\",2291],[\"grid.38142.3c\",\"Cambridge\",\"United States\",2291],[\"grid.38142.3c\",\"Cambridge\",\"United States\",2291],[\"grid.38142.3c\",\"Cambridge\",\"United States\",2291],[\"grid.38142.3c\",\"Cambridge\",\"United States\",2291],[\"grid.38142.3c\",\"Cambridge\",\"United States\",2291],[\"grid.38142.3c\",\"Cambridge\",\"United States\",2291],[\"grid.38142.3c\",\"Cambridge\",\"United States\",2291],[\"grid.38142.3c\",\"Cambridge\",\"United States\",2291],[\"grid.38142.3c\",\"Cambridge\",\"United States\",2291],[\"grid.38142.3c\",\"Cambridge\",\"United States\",2291],[\"grid.38142.3c\",\"Cambridge\",\"United States\",2291],[\"grid.38142.3c\",\"Cambridge\",\"United States\",2291],[\"grid.38142.3c\",\"Cambridge\",\"United States\",2291],[\"grid.38142.3c\",\"Cambridge\",\"United States\",2291],[\"grid.38142.3c\",\"Cambridge\",\"United States\",2291],[\"grid.38142.3c\",\"Cambridge\",\"United States\",2291],[\"grid.38142.3c\",\"Cambridge\",\"United States\",2291],[\"grid.38142.3c\",\"Cambridge\",\"United States\",2291],[\"grid.38142.3c\",\"Cambridge\",\"United States\",2291],[\"grid.38142.3c\",\"Cambridge\",\"United States\",2291],[\"grid.38142.3c\",\"Cambridge\",\"United States\",2291],[\"grid.38142.3c\",\"Cambridge\",\"United States\",2291],[\"grid.38142.3c\",\"Cambridge\",\"United States\",2291],[\"grid.38142.3c\",\"Cambridge\",\"United States\",2291],[\"grid.38142.3c\",\"Cambridge\",\"United States\",2291],[\"grid.38142.3c\",\"Cambridge\",\"United States\",2291],[\"grid.38142.3c\",\"Cambridge\",\"United States\",2291],[\"grid.38142.3c\",\"Cambridge\",\"United States\",2291],[\"grid.38142.3c\",\"Cambridge\",\"United States\",2291],[\"grid.38142.3c\",\"Cambridge\",\"United States\",2291],[\"grid.38142.3c\",\"Cambridge\",\"United States\",2291],[\"grid.38142.3c\",\"Cambridge\",\"United States\",2291],[\"grid.38142.3c\",\"Cambridge\",\"United States\",2291],[\"grid.38142.3c\",\"Cambridge\",\"United States\",2291],[\"grid.38142.3c\",\"Cambridge\",\"United States\",2291],[\"grid.38142.3c\",\"Cambridge\",\"United States\",2291],[\"grid.38142.3c\",\"Cambridge\",\"United States\",2291],[\"grid.38142.3c\",\"Cambridge\",\"United States\",2291],[\"grid.38142.3c\",\"Cambridge\",\"United States\",2291],[\"grid.38142.3c\",\"Cambridge\",\"United States\",2291],[\"grid.38142.3c\",\"Cambridge\",\"United States\",2291],[\"grid.38142.3c\",\"Cambridge\",\"United States\",2291],[\"grid.38142.3c\",\"Cambridge\",\"United States\",2291],[\"grid.38142.3c\",\"Cambridge\",\"United States\",2291],[\"grid.38142.3c\",\"Cambridge\",\"United States\",2291],[\"grid.38142.3c\",\"Cambridge\",\"United States\",2291],[\"grid.38142.3c\",\"Cambridge\",\"United States\",2291],[\"grid.38142.3c\",\"Cambridge\",\"United States\",2291],[\"grid.38142.3c\",\"Cambridge\",\"United States\",2291],[\"grid.38142.3c\",\"Cambridge\",\"United States\",2291],[\"grid.38142.3c\",\"Cambridge\",\"United States\",2291],[\"grid.38142.3c\",\"Cambridge\",\"United States\",2291],[\"grid.38142.3c\",\"Cambridge\",\"United States\",2291],[\"grid.38142.3c\",\"Cambridge\",\"United States\",2291],[\"grid.38142.3c\",\"Cambridge\",\"United States\",2291],[\"grid.38142.3c\",\"Cambridge\",\"United States\",2291],[\"grid.38142.3c\",\"Cambridge\",\"United States\",2291],[\"grid.38142.3c\",\"Cambridge\",\"United States\",2291],[\"grid.38142.3c\",\"Cambridge\",\"United States\",2291],[\"grid.38142.3c\",\"Cambridge\",\"United States\",2291],[\"grid.38142.3c\",\"Cambridge\",\"United States\",2291],[\"grid.38142.3c\",\"Cambridge\",\"United States\",2291],[\"grid.38142.3c\",\"Cambridge\",\"United States\",2291],[\"grid.38142.3c\",\"Cambridge\",\"United States\",2291],[\"grid.38142.3c\",\"Cambridge\",\"United States\",2291],[\"grid.38142.3c\",\"Cambridge\",\"United States\",2291],[\"grid.38142.3c\",\"Cambridge\",\"United States\",2291],[\"grid.38142.3c\",\"Cambridge\",\"United States\",2291],[\"grid.38142.3c\",\"Cambridge\",\"United States\",2291],[\"grid.38142.3c\",\"Cambridge\",\"United States\",2291],[\"grid.38142.3c\",\"Cambridge\",\"United States\",2291],[\"grid.38142.3c\",\"Cambridge\",\"United States\",2291],[\"grid.38142.3c\",\"Cambridge\",\"United States\",2291],[\"grid.38142.3c\",\"Cambridge\",\"United States\",2291],[\"grid.38142.3c\",\"Cambridge\",\"United States\",2291],[\"grid.38142.3c\",\"Cambridge\",\"United States\",2291],[\"grid.38142.3c\",\"Cambridge\",\"United States\",2291],[\"grid.38142.3c\",\"Cambridge\",\"United States\",2291],[\"grid.38142.3c\",\"Cambridge\",\"United States\",2291],[\"grid.38142.3c\",\"Cambridge\",\"United States\",2291],[\"grid.38142.3c\",\"Cambridge\",\"United States\",2291],[\"grid.38142.3c\",\"Cambridge\",\"United States\",2291],[\"grid.38142.3c\",\"Cambridge\",\"United States\",2291],[\"grid.38142.3c\",\"Cambridge\",\"United States\",2291],[\"grid.38142.3c\",\"Cambridge\",\"United States\",2291],[\"grid.38142.3c\",\"Cambridge\",\"United States\",2291],[\"grid.38142.3c\",\"Cambridge\",\"United States\",2291],[\"grid.38142.3c\",\"Cambridge\",\"United States\",2291],[\"grid.38142.3c\",\"Cambridge\",\"United States\",2291],[\"grid.38142.3c\",\"Cambridge\",\"United States\",2291],[\"grid.38142.3c\",\"Cambridge\",\"United States\",2291],[\"grid.38142.3c\",\"Cambridge\",\"United States\",2291],[\"grid.38142.3c\",\"Cambridge\",\"United States\",2291],[\"grid.38142.3c\",\"Cambridge\",\"United States\",2291],[\"grid.38142.3c\",\"Cambridge\",\"United States\",2291],[\"grid.38142.3c\",\"Cambridge\",\"United States\",2291],[\"grid.38142.3c\",\"Cambridge\",\"United States\",2291],[\"grid.38142.3c\",\"Cambridge\",\"United States\",2291],[\"grid.38142.3c\",\"Cambridge\",\"United States\",2291],[\"grid.38142.3c\",\"Cambridge\",\"United States\",2291],[\"grid.38142.3c\",\"Cambridge\",\"United States\",2291],[\"grid.38142.3c\",\"Cambridge\",\"United States\",2291],[\"grid.38142.3c\",\"Cambridge\",\"United States\",2291],[\"grid.38142.3c\",\"Cambridge\",\"United States\",2291],[\"grid.38142.3c\",\"Cambridge\",\"United States\",2291],[\"grid.38142.3c\",\"Cambridge\",\"United States\",2291],[\"grid.38142.3c\",\"Cambridge\",\"United States\",2291],[\"grid.38142.3c\",\"Cambridge\",\"United States\",2291],[\"grid.38142.3c\",\"Cambridge\",\"United States\",2291],[\"grid.38142.3c\",\"Cambridge\",\"United States\",2291],[\"grid.38142.3c\",\"Cambridge\",\"United States\",2291],[\"grid.38142.3c\",\"Cambridge\",\"United States\",2291],[\"grid.38142.3c\",\"Cambridge\",\"United States\",2291],[\"grid.38142.3c\",\"Cambridge\",\"United States\",2291],[\"grid.38142.3c\",\"Cambridge\",\"United States\",2291],[\"grid.38142.3c\",\"Cambridge\",\"United States\",2291],[\"grid.38142.3c\",\"Cambridge\",\"United States\",2291],[\"grid.38142.3c\",\"Cambridge\",\"United States\",2291],[\"grid.38142.3c\",\"Cambridge\",\"United States\",2291],[\"grid.38142.3c\",\"Cambridge\",\"United States\",2291],[\"grid.38142.3c\",\"Cambridge\",\"United States\",2291],[\"grid.38142.3c\",\"Cambridge\",\"United States\",2291],[\"grid.38142.3c\",\"Cambridge\",\"United States\",2291],[\"grid.38142.3c\",\"Cambridge\",\"United States\",2291],[\"grid.38142.3c\",\"Cambridge\",\"United States\",2291],[\"grid.38142.3c\",\"Cambridge\",\"United States\",2291],[\"grid.38142.3c\",\"Cambridge\",\"United States\",2291],[\"grid.38142.3c\",\"Cambridge\",\"United States\",2291],[\"grid.38142.3c\",\"Cambridge\",\"United States\",2291],[\"grid.38142.3c\",\"Cambridge\",\"United States\",2291],[\"grid.38142.3c\",\"Cambridge\",\"United States\",2291],[\"grid.38142.3c\",\"Cambridge\",\"United States\",2291],[\"grid.38142.3c\",\"Cambridge\",\"United States\",2291],[\"grid.38142.3c\",\"Cambridge\",\"United States\",2291],[\"grid.38142.3c\",\"Cambridge\",\"United States\",2291],[\"grid.38142.3c\",\"Cambridge\",\"United States\",2291],[\"grid.38142.3c\",\"Cambridge\",\"United States\",2291],[\"grid.38142.3c\",\"Cambridge\",\"United States\",2291],[\"grid.38142.3c\",\"Cambridge\",\"United States\",2291],[\"grid.38142.3c\",\"Cambridge\",\"United States\",2291],[\"grid.38142.3c\",\"Cambridge\",\"United States\",2291],[\"grid.38142.3c\",\"Cambridge\",\"United States\",2291],[\"grid.38142.3c\",\"Cambridge\",\"United States\",2291],[\"grid.38142.3c\",\"Cambridge\",\"United States\",2291],[\"grid.38142.3c\",\"Cambridge\",\"United States\",2291],[\"grid.38142.3c\",\"Cambridge\",\"United States\",2291],[\"grid.38142.3c\",\"Cambridge\",\"United States\",2291],[\"grid.38142.3c\",\"Cambridge\",\"United States\",2291],[\"grid.38142.3c\",\"Cambridge\",\"United States\",2291],[\"grid.38142.3c\",\"Cambridge\",\"United States\",2291],[\"grid.38142.3c\",\"Cambridge\",\"United States\",2291],[\"grid.38142.3c\",\"Cambridge\",\"United States\",2291],[\"grid.38142.3c\",\"Cambridge\",\"United States\",2291],[\"grid.38142.3c\",\"Cambridge\",\"United States\",2291],[\"grid.38142.3c\",\"Cambridge\",\"United States\",2291],[\"grid.38142.3c\",\"Cambridge\",\"United States\",2291],[\"grid.38142.3c\",\"Cambridge\",\"United States\",2291],[\"grid.38142.3c\",\"Cambridge\",\"United States\",2291],[\"grid.38142.3c\",\"Cambridge\",\"United States\",2291],[\"grid.38142.3c\",\"Cambridge\",\"United States\",2291],[\"grid.38142.3c\",\"Cambridge\",\"United States\",2291],[\"grid.38142.3c\",\"Cambridge\",\"United States\",2291],[\"grid.38142.3c\",\"Cambridge\",\"United States\",2291],[\"grid.38142.3c\",\"Cambridge\",\"United States\",2291],[\"grid.38142.3c\",\"Cambridge\",\"United States\",2291],[\"grid.38142.3c\",\"Cambridge\",\"United States\",2291],[\"grid.38142.3c\",\"Cambridge\",\"United States\",2291],[\"grid.38142.3c\",\"Cambridge\",\"United States\",2291],[\"grid.38142.3c\",\"Cambridge\",\"United States\",2291],[\"grid.38142.3c\",\"Cambridge\",\"United States\",2291],[\"grid.38142.3c\",\"Cambridge\",\"United States\",2291],[\"grid.38142.3c\",\"Cambridge\",\"United States\",2291],[\"grid.38142.3c\",\"Cambridge\",\"United States\",2291],[\"grid.38142.3c\",\"Cambridge\",\"United States\",2291],[\"grid.38142.3c\",\"Cambridge\",\"United States\",2291],[\"grid.38142.3c\",\"Cambridge\",\"United States\",2291],[\"grid.38142.3c\",\"Cambridge\",\"United States\",2291],[\"grid.38142.3c\",\"Cambridge\",\"United States\",2291],[\"grid.38142.3c\",\"Cambridge\",\"United States\",2291],[\"grid.38142.3c\",\"Cambridge\",\"United States\",2291],[\"grid.38142.3c\",\"Cambridge\",\"United States\",2291],[\"grid.38142.3c\",\"Cambridge\",\"United States\",2291],[\"grid.38142.3c\",\"Cambridge\",\"United States\",2291],[\"grid.38142.3c\",\"Cambridge\",\"United States\",2291],[\"grid.38142.3c\",\"Cambridge\",\"United States\",2291],[\"grid.38142.3c\",\"Cambridge\",\"United States\",2291],[\"grid.38142.3c\",\"Cambridge\",\"United States\",2291],[\"grid.38142.3c\",\"Cambridge\",\"United States\",2291],[\"grid.38142.3c\",\"Cambridge\",\"United States\",2291],[\"grid.38142.3c\",\"Cambridge\",\"United States\",2291],[\"grid.38142.3c\",\"Cambridge\",\"United States\",2291],[\"grid.38142.3c\",\"Cambridge\",\"United States\",2291],[\"grid.38142.3c\",\"Cambridge\",\"United States\",2291],[\"grid.38142.3c\",\"Cambridge\",\"United States\",2291],[\"grid.38142.3c\",\"Cambridge\",\"United States\",2291],[\"grid.38142.3c\",\"Cambridge\",\"United States\",2291],[\"grid.38142.3c\",\"Cambridge\",\"United States\",2291],[\"grid.38142.3c\",\"Cambridge\",\"United States\",2291],[\"grid.38142.3c\",\"Cambridge\",\"United States\",2291],[\"grid.38142.3c\",\"Cambridge\",\"United States\",2291],[\"grid.38142.3c\",\"Cambridge\",\"United States\",2291],[\"grid.38142.3c\",\"Cambridge\",\"United States\",2291],[\"grid.38142.3c\",\"Cambridge\",\"United States\",2291],[\"grid.38142.3c\",\"Cambridge\",\"United States\",2291],[\"grid.38142.3c\",\"Cambridge\",\"United States\",2291],[\"grid.38142.3c\",\"Cambridge\",\"United States\",2291],[\"grid.38142.3c\",\"Cambridge\",\"United States\",2291],[\"grid.38142.3c\",\"Cambridge\",\"United States\",2291],[\"grid.38142.3c\",\"Cambridge\",\"United States\",2291],[\"grid.38142.3c\",\"Cambridge\",\"United States\",2291],[\"grid.38142.3c\",\"Cambridge\",\"United States\",2291],[\"grid.38142.3c\",\"Cambridge\",\"United States\",2291],[\"grid.38142.3c\",\"Cambridge\",\"United States\",2291],[\"grid.38142.3c\",\"Cambridge\",\"United States\",2291],[\"grid.38142.3c\",\"Cambridge\",\"United States\",2291],[\"grid.38142.3c\",\"Cambridge\",\"United States\",2291],[\"grid.38142.3c\",\"Cambridge\",\"United States\",2291],[\"grid.38142.3c\",\"Cambridge\",\"United States\",2291],[\"grid.38142.3c\",\"Cambridge\",\"United States\",2291],[\"grid.38142.3c\",\"Cambridge\",\"United States\",2291],[\"grid.38142.3c\",\"Cambridge\",\"United States\",2291],[\"grid.38142.3c\",\"Cambridge\",\"United States\",2291],[\"grid.38142.3c\",\"Cambridge\",\"United States\",2291],[\"grid.38142.3c\",\"Cambridge\",\"United States\",2291],[\"grid.38142.3c\",\"Cambridge\",\"United States\",2291],[\"grid.38142.3c\",\"Cambridge\",\"United States\",2291],[\"grid.38142.3c\",\"Cambridge\",\"United States\",2291],[\"grid.38142.3c\",\"Cambridge\",\"United States\",2291],[\"grid.38142.3c\",\"Cambridge\",\"United States\",2291],[\"grid.38142.3c\",\"Cambridge\",\"United States\",2291],[\"grid.38142.3c\",\"Cambridge\",\"United States\",2291],[\"grid.38142.3c\",\"Cambridge\",\"United States\",2291],[\"grid.38142.3c\",\"Cambridge\",\"United States\",2291],[\"grid.38142.3c\",\"Cambridge\",\"United States\",2291],[\"grid.38142.3c\",\"Cambridge\",\"United States\",2291],[\"grid.38142.3c\",\"Cambridge\",\"United States\",2291],[\"grid.38142.3c\",\"Cambridge\",\"United States\",2291],[\"grid.38142.3c\",\"Cambridge\",\"United States\",2291],[\"grid.38142.3c\",\"Cambridge\",\"United States\",2291],[\"grid.38142.3c\",\"Cambridge\",\"United States\",2291],[\"grid.38142.3c\",\"Cambridge\",\"United States\",2291],[\"grid.38142.3c\",\"Cambridge\",\"United States\",2291],[\"grid.38142.3c\",\"Cambridge\",\"United States\",2291],[\"grid.38142.3c\",\"Cambridge\",\"United States\",2291],[\"grid.38142.3c\",\"Cambridge\",\"United States\",2291],[\"grid.38142.3c\",\"Cambridge\",\"United States\",2291],[\"grid.38142.3c\",\"Cambridge\",\"United States\",2291],[\"grid.38142.3c\",\"Cambridge\",\"United States\",2291],[\"grid.38142.3c\",\"Cambridge\",\"United States\",2291],[\"grid.38142.3c\",\"Cambridge\",\"United States\",2291],[\"grid.38142.3c\",\"Cambridge\",\"United States\",2291],[\"grid.38142.3c\",\"Cambridge\",\"United States\",2291],[\"grid.38142.3c\",\"Cambridge\",\"United States\",2291],[\"grid.38142.3c\",\"Cambridge\",\"United States\",2291],[\"grid.38142.3c\",\"Cambridge\",\"United States\",2291],[\"grid.38142.3c\",\"Cambridge\",\"United States\",2291],[\"grid.38142.3c\",\"Cambridge\",\"United States\",2291],[\"grid.38142.3c\",\"Cambridge\",\"United States\",2291],[\"grid.38142.3c\",\"Cambridge\",\"United States\",2291],[\"grid.38142.3c\",\"Cambridge\",\"United States\",2291],[\"grid.38142.3c\",\"Cambridge\",\"United States\",2291],[\"grid.38142.3c\",\"Cambridge\",\"United States\",2291],[\"grid.38142.3c\",\"Cambridge\",\"United States\",2291],[\"grid.38142.3c\",\"Cambridge\",\"United States\",2291],[\"grid.38142.3c\",\"Cambridge\",\"United States\",2291],[\"grid.38142.3c\",\"Cambridge\",\"United States\",2291],[\"grid.38142.3c\",\"Cambridge\",\"United States\",2291],[\"grid.38142.3c\",\"Cambridge\",\"United States\",2291],[\"grid.38142.3c\",\"Cambridge\",\"United States\",2291],[\"grid.38142.3c\",\"Cambridge\",\"United States\",2291],[\"grid.38142.3c\",\"Cambridge\",\"United States\",2291],[\"grid.38142.3c\",\"Cambridge\",\"United States\",2291],[\"grid.38142.3c\",\"Cambridge\",\"United States\",2291],[\"grid.38142.3c\",\"Cambridge\",\"United States\",2291],[\"grid.38142.3c\",\"Cambridge\",\"United States\",2291],[\"grid.38142.3c\",\"Cambridge\",\"United States\",2291],[\"grid.38142.3c\",\"Cambridge\",\"United States\",2291],[\"grid.38142.3c\",\"Cambridge\",\"United States\",2291],[\"grid.38142.3c\",\"Cambridge\",\"United States\",2291],[\"grid.38142.3c\",\"Cambridge\",\"United States\",2291],[\"grid.38142.3c\",\"Cambridge\",\"United States\",2291],[\"grid.38142.3c\",\"Cambridge\",\"United States\",2291],[\"grid.38142.3c\",\"Cambridge\",\"United States\",2291],[\"grid.38142.3c\",\"Cambridge\",\"United States\",2291],[\"grid.38142.3c\",\"Cambridge\",\"United States\",2291],[\"grid.38142.3c\",\"Cambridge\",\"United States\",2291],[\"grid.38142.3c\",\"Cambridge\",\"United States\",2291],[\"grid.38142.3c\",\"Cambridge\",\"United States\",2291],[\"grid.38142.3c\",\"Cambridge\",\"United States\",2291],[\"grid.38142.3c\",\"Cambridge\",\"United States\",2291],[\"grid.38142.3c\",\"Cambridge\",\"United States\",2291],[\"grid.38142.3c\",\"Cambridge\",\"United States\",2291],[\"grid.38142.3c\",\"Cambridge\",\"United States\",2291],[\"grid.38142.3c\",\"Cambridge\",\"United States\",2291],[\"grid.38142.3c\",\"Cambridge\",\"United States\",2291],[\"grid.38142.3c\",\"Cambridge\",\"United States\",2291],[\"grid.38142.3c\",\"Cambridge\",\"United States\",2291],[\"grid.38142.3c\",\"Cambridge\",\"United States\",2291],[\"grid.38142.3c\",\"Cambridge\",\"United States\",2291],[\"grid.38142.3c\",\"Cambridge\",\"United States\",2291],[\"grid.38142.3c\",\"Cambridge\",\"United States\",2291],[\"grid.38142.3c\",\"Cambridge\",\"United States\",2291],[\"grid.38142.3c\",\"Cambridge\",\"United States\",2291],[\"grid.38142.3c\",\"Cambridge\",\"United States\",2291],[\"grid.38142.3c\",\"Cambridge\",\"United States\",2291],[\"grid.38142.3c\",\"Cambridge\",\"United States\",2291],[\"grid.38142.3c\",\"Cambridge\",\"United States\",2291],[\"grid.38142.3c\",\"Cambridge\",\"United States\",2291],[\"grid.38142.3c\",\"Cambridge\",\"United States\",2291],[\"grid.38142.3c\",\"Cambridge\",\"United States\",2291],[\"grid.38142.3c\",\"Cambridge\",\"United States\",2291],[\"grid.38142.3c\",\"Cambridge\",\"United States\",2291],[\"grid.38142.3c\",\"Cambridge\",\"United States\",2291],[\"grid.38142.3c\",\"Cambridge\",\"United States\",2291],[\"grid.38142.3c\",\"Cambridge\",\"United States\",2291],[\"grid.38142.3c\",\"Cambridge\",\"United States\",2291],[\"grid.38142.3c\",\"Cambridge\",\"United States\",2291],[\"grid.38142.3c\",\"Cambridge\",\"United States\",2291],[\"grid.38142.3c\",\"Cambridge\",\"United States\",2291],[\"grid.38142.3c\",\"Cambridge\",\"United States\",2291],[\"grid.38142.3c\",\"Cambridge\",\"United States\",2291],[\"grid.38142.3c\",\"Cambridge\",\"United States\",2291],[\"grid.38142.3c\",\"Cambridge\",\"United States\",2291],[\"grid.38142.3c\",\"Cambridge\",\"United States\",2291],[\"grid.38142.3c\",\"Cambridge\",\"United States\",2291],[\"grid.38142.3c\",\"Cambridge\",\"United States\",2291],[\"grid.38142.3c\",\"Cambridge\",\"United States\",2291],[\"grid.38142.3c\",\"Cambridge\",\"United States\",2291],[\"grid.38142.3c\",\"Cambridge\",\"United States\",2291],[\"grid.38142.3c\",\"Cambridge\",\"United States\",2291],[\"grid.38142.3c\",\"Cambridge\",\"United States\",2291],[\"grid.38142.3c\",\"Cambridge\",\"United States\",2291],[\"grid.38142.3c\",\"Cambridge\",\"United States\",2291],[\"grid.38142.3c\",\"Cambridge\",\"United States\",2291],[\"grid.38142.3c\",\"Cambridge\",\"United States\",2291],[\"grid.38142.3c\",\"Cambridge\",\"United States\",2291],[\"grid.38142.3c\",\"Cambridge\",\"United States\",2291],[\"grid.38142.3c\",\"Cambridge\",\"United States\",2291],[\"grid.38142.3c\",\"Cambridge\",\"United States\",2291],[\"grid.38142.3c\",\"Cambridge\",\"United States\",2291],[\"grid.38142.3c\",\"Cambridge\",\"United States\",2291],[\"grid.38142.3c\",\"Cambridge\",\"United States\",2291],[\"grid.38142.3c\",\"Cambridge\",\"United States\",2291],[\"grid.38142.3c\",\"Cambridge\",\"United States\",2291],[\"grid.38142.3c\",\"Cambridge\",\"United States\",2291],[\"grid.38142.3c\",\"Cambridge\",\"United States\",2291],[\"grid.38142.3c\",\"Cambridge\",\"United States\",2291],[\"grid.38142.3c\",\"Cambridge\",\"United States\",2291],[\"grid.38142.3c\",\"Cambridge\",\"United States\",2291],[\"grid.38142.3c\",\"Cambridge\",\"United States\",2291],[\"grid.38142.3c\",\"Cambridge\",\"United States\",2291],[\"grid.38142.3c\",\"Cambridge\",\"United States\",2291],[\"grid.38142.3c\",\"Cambridge\",\"United States\",2291],[\"grid.38142.3c\",\"Cambridge\",\"United States\",2291],[\"grid.38142.3c\",\"Cambridge\",\"United States\",2291],[\"grid.38142.3c\",\"Cambridge\",\"United States\",2291],[\"grid.38142.3c\",\"Cambridge\",\"United States\",2291],[\"grid.38142.3c\",\"Cambridge\",\"United States\",2291],[\"grid.38142.3c\",\"Cambridge\",\"United States\",2291],[\"grid.38142.3c\",\"Cambridge\",\"United States\",2291],[\"grid.38142.3c\",\"Cambridge\",\"United States\",2291]],\"hovertemplate\":\"<b>%{hovertext}</b><br><br>aff_country=%{customdata[2]}<br>aff_name=%{x}<br>tot_pubs=%{y}<br>tot_affiliations=%{customdata[3]}<br>aff_id=%{customdata[0]}<br>aff_city=%{customdata[1]}<extra></extra>\",\"hovertext\":[\"Harvard University\",\"Harvard University\",\"Harvard University\",\"Harvard University\",\"Harvard University\",\"Harvard University\",\"Harvard University\",\"Harvard University\",\"Harvard University\",\"Harvard University\",\"Harvard University\",\"Harvard University\",\"Harvard University\",\"Harvard University\",\"Harvard University\",\"Harvard University\",\"Harvard University\",\"Harvard University\",\"Harvard University\",\"Harvard University\",\"Harvard University\",\"Harvard University\",\"Harvard University\",\"Harvard University\",\"Harvard University\",\"Harvard University\",\"Harvard University\",\"Harvard University\",\"Harvard University\",\"Harvard University\",\"Harvard University\",\"Harvard University\",\"Harvard University\",\"Harvard University\",\"Harvard University\",\"Harvard University\",\"Harvard University\",\"Harvard University\",\"Harvard University\",\"Harvard University\",\"Harvard University\",\"Harvard University\",\"Harvard University\",\"Harvard University\",\"Harvard University\",\"Harvard University\",\"Harvard University\",\"Harvard University\",\"Harvard University\",\"Harvard University\",\"Harvard University\",\"Harvard University\",\"Harvard University\",\"Harvard University\",\"Harvard University\",\"Harvard University\",\"Harvard University\",\"Harvard University\",\"Harvard University\",\"Harvard University\",\"Harvard University\",\"Harvard University\",\"Harvard University\",\"Harvard University\",\"Harvard University\",\"Harvard University\",\"Harvard University\",\"Harvard University\",\"Harvard University\",\"Harvard University\",\"Harvard University\",\"Harvard University\",\"Harvard University\",\"Harvard University\",\"Harvard University\",\"Harvard University\",\"Harvard University\",\"Harvard University\",\"Harvard University\",\"Harvard University\",\"Harvard University\",\"Harvard University\",\"Harvard University\",\"Harvard University\",\"Harvard University\",\"Harvard University\",\"Harvard University\",\"Harvard University\",\"Harvard University\",\"Harvard University\",\"Harvard University\",\"Harvard University\",\"Harvard University\",\"Harvard University\",\"Harvard University\",\"Harvard University\",\"Harvard University\",\"Harvard University\",\"Harvard University\",\"Harvard University\",\"Harvard University\",\"Harvard University\",\"Harvard University\",\"Harvard University\",\"Harvard University\",\"Harvard University\",\"Harvard University\",\"Harvard University\",\"Harvard University\",\"Harvard University\",\"Harvard University\",\"Harvard University\",\"Harvard University\",\"Harvard University\",\"Harvard University\",\"Harvard University\",\"Harvard University\",\"Harvard University\",\"Harvard University\",\"Harvard University\",\"Harvard University\",\"Harvard University\",\"Harvard University\",\"Harvard University\",\"Harvard University\",\"Harvard University\",\"Harvard University\",\"Harvard University\",\"Harvard University\",\"Harvard University\",\"Harvard University\",\"Harvard University\",\"Harvard University\",\"Harvard University\",\"Harvard University\",\"Harvard University\",\"Harvard University\",\"Harvard University\",\"Harvard University\",\"Harvard University\",\"Harvard University\",\"Harvard University\",\"Harvard University\",\"Harvard University\",\"Harvard University\",\"Harvard University\",\"Harvard University\",\"Harvard University\",\"Harvard University\",\"Harvard University\",\"Harvard University\",\"Harvard University\",\"Harvard University\",\"Harvard University\",\"Harvard University\",\"Harvard University\",\"Harvard University\",\"Harvard University\",\"Harvard University\",\"Harvard University\",\"Harvard University\",\"Harvard University\",\"Harvard University\",\"Harvard University\",\"Harvard University\",\"Harvard University\",\"Harvard University\",\"Harvard University\",\"Harvard University\",\"Harvard University\",\"Harvard University\",\"Harvard University\",\"Harvard University\",\"Harvard University\",\"Harvard University\",\"Harvard University\",\"Harvard University\",\"Harvard University\",\"Harvard University\",\"Harvard University\",\"Harvard University\",\"Harvard University\",\"Harvard University\",\"Harvard University\",\"Harvard University\",\"Harvard University\",\"Harvard University\",\"Harvard University\",\"Harvard University\",\"Harvard University\",\"Harvard University\",\"Harvard University\",\"Harvard University\",\"Harvard University\",\"Harvard University\",\"Harvard University\",\"Harvard University\",\"Harvard University\",\"Harvard University\",\"Harvard University\",\"Harvard University\",\"Harvard University\",\"Harvard University\",\"Harvard University\",\"Harvard University\",\"Harvard University\",\"Harvard University\",\"Harvard University\",\"Harvard University\",\"Harvard University\",\"Harvard University\",\"Harvard University\",\"Harvard University\",\"Harvard University\",\"Harvard University\",\"Harvard University\",\"Harvard University\",\"Harvard University\",\"Harvard University\",\"Harvard University\",\"Harvard University\",\"Harvard University\",\"Harvard University\",\"Harvard University\",\"Harvard University\",\"Harvard University\",\"Harvard University\",\"Harvard University\",\"Harvard University\",\"Harvard University\",\"Harvard University\",\"Harvard University\",\"Harvard University\",\"Harvard University\",\"Harvard University\",\"Harvard University\",\"Harvard University\",\"Harvard University\",\"Harvard University\",\"Harvard University\",\"Harvard University\",\"Harvard University\",\"Harvard University\",\"Harvard University\",\"Harvard University\",\"Harvard University\",\"Harvard University\",\"Harvard University\",\"Harvard University\",\"Harvard University\",\"Harvard University\",\"Harvard University\",\"Harvard University\",\"Harvard University\",\"Harvard University\",\"Harvard University\",\"Harvard University\",\"Harvard University\",\"Harvard University\",\"Harvard University\",\"Harvard University\",\"Harvard University\",\"Harvard University\",\"Harvard University\",\"Harvard University\",\"Harvard University\",\"Harvard University\",\"Harvard University\",\"Harvard University\",\"Harvard University\",\"Harvard University\",\"Harvard University\",\"Harvard University\",\"Harvard University\",\"Harvard University\",\"Harvard University\",\"Harvard University\",\"Harvard University\",\"Harvard University\",\"Harvard University\",\"Harvard University\",\"Harvard University\",\"Harvard University\",\"Harvard University\",\"Harvard University\",\"Harvard University\",\"Harvard University\",\"Harvard University\",\"Harvard University\",\"Harvard University\",\"Harvard University\",\"Harvard University\",\"Harvard University\",\"Harvard University\",\"Harvard University\",\"Harvard University\",\"Harvard University\",\"Harvard University\",\"Harvard University\",\"Harvard University\",\"Harvard University\",\"Harvard University\",\"Harvard University\",\"Harvard University\",\"Harvard University\",\"Harvard University\",\"Harvard University\",\"Harvard University\",\"Harvard University\",\"Harvard University\",\"Harvard University\",\"Harvard University\",\"Harvard University\",\"Harvard University\",\"Harvard University\",\"Harvard University\",\"Harvard University\",\"Harvard University\",\"Harvard University\",\"Harvard University\",\"Harvard University\",\"Harvard University\",\"Harvard University\",\"Harvard University\",\"Harvard University\",\"Harvard University\",\"Harvard University\",\"Harvard University\",\"Harvard University\",\"Harvard University\",\"Harvard University\",\"Harvard University\",\"Harvard University\",\"Harvard University\",\"Harvard University\",\"Harvard University\",\"Harvard University\",\"Harvard University\",\"Harvard University\",\"Harvard University\",\"Harvard University\",\"Harvard University\",\"Harvard University\",\"Harvard University\",\"Harvard University\",\"Harvard University\",\"Harvard University\",\"Harvard University\",\"Harvard University\",\"Harvard University\",\"Harvard University\",\"Harvard University\",\"Harvard University\",\"Harvard University\",\"Harvard University\",\"Harvard University\",\"Harvard University\",\"Harvard University\",\"Harvard University\",\"Harvard University\",\"Harvard University\",\"Harvard University\",\"Harvard University\",\"Harvard University\",\"Harvard University\",\"Harvard University\",\"Harvard University\",\"Harvard University\",\"Harvard University\",\"Harvard University\",\"Harvard University\",\"Harvard University\",\"Harvard University\",\"Harvard University\",\"Harvard University\",\"Harvard University\",\"Harvard University\",\"Harvard University\",\"Harvard University\",\"Harvard University\",\"Harvard University\",\"Harvard University\",\"Harvard University\",\"Harvard University\",\"Harvard University\",\"Harvard University\",\"Harvard University\",\"Harvard University\",\"Harvard University\",\"Harvard University\",\"Harvard University\",\"Harvard University\",\"Harvard University\",\"Harvard University\",\"Harvard University\",\"Harvard University\",\"Harvard University\",\"Harvard University\",\"Harvard University\",\"Harvard University\",\"Harvard University\",\"Harvard University\",\"Harvard University\",\"Harvard University\",\"Harvard University\",\"Harvard University\",\"Harvard University\",\"Harvard University\",\"Harvard University\",\"Harvard University\",\"Harvard University\",\"Harvard University\",\"Harvard University\",\"Harvard University\",\"Harvard University\",\"Harvard University\",\"Harvard University\",\"Harvard University\",\"Harvard University\",\"Harvard University\",\"Harvard University\",\"Harvard University\",\"Harvard University\",\"Harvard University\",\"Harvard University\",\"Harvard University\",\"Harvard University\",\"Harvard University\",\"Harvard University\",\"Harvard University\",\"Harvard University\",\"Harvard University\",\"Harvard University\",\"Harvard University\",\"Harvard University\",\"Harvard University\",\"Harvard University\",\"Harvard University\",\"Harvard University\",\"Harvard University\",\"Harvard University\",\"Harvard University\",\"Harvard University\",\"Harvard University\",\"Harvard University\",\"Harvard University\",\"Harvard University\",\"Harvard University\",\"Harvard University\",\"Harvard University\",\"Harvard University\",\"Harvard University\",\"Harvard University\",\"Harvard University\",\"Harvard University\",\"Harvard University\",\"Harvard University\",\"Harvard University\",\"Harvard University\",\"Harvard University\",\"Harvard University\",\"Harvard University\",\"Harvard University\",\"Harvard University\",\"Harvard University\",\"Harvard University\",\"Harvard University\",\"Harvard University\",\"Harvard University\",\"Harvard University\",\"Harvard University\",\"Harvard University\",\"Harvard University\",\"Harvard University\",\"Harvard University\",\"Harvard University\",\"Harvard University\",\"Harvard University\",\"Harvard University\",\"Harvard University\",\"Harvard University\",\"Harvard University\",\"Harvard University\",\"Harvard University\",\"Harvard University\",\"Harvard University\",\"Harvard University\",\"Harvard University\",\"Harvard University\",\"Harvard University\",\"Harvard University\",\"Harvard University\",\"Harvard University\",\"Harvard University\",\"Harvard University\",\"Harvard University\",\"Harvard University\",\"Harvard University\",\"Harvard University\",\"Harvard University\"],\"legendgroup\":\"United States\",\"marker\":{\"color\":\"#636efa\",\"size\":[2291,2291,2291,2291,2291,2291,2291,2291,2291,2291,2291,2291,2291,2291,2291,2291,2291,2291,2291,2291,2291,2291,2291,2291,2291,2291,2291,2291,2291,2291,2291,2291,2291,2291,2291,2291,2291,2291,2291,2291,2291,2291,2291,2291,2291,2291,2291,2291,2291,2291,2291,2291,2291,2291,2291,2291,2291,2291,2291,2291,2291,2291,2291,2291,2291,2291,2291,2291,2291,2291,2291,2291,2291,2291,2291,2291,2291,2291,2291,2291,2291,2291,2291,2291,2291,2291,2291,2291,2291,2291,2291,2291,2291,2291,2291,2291,2291,2291,2291,2291,2291,2291,2291,2291,2291,2291,2291,2291,2291,2291,2291,2291,2291,2291,2291,2291,2291,2291,2291,2291,2291,2291,2291,2291,2291,2291,2291,2291,2291,2291,2291,2291,2291,2291,2291,2291,2291,2291,2291,2291,2291,2291,2291,2291,2291,2291,2291,2291,2291,2291,2291,2291,2291,2291,2291,2291,2291,2291,2291,2291,2291,2291,2291,2291,2291,2291,2291,2291,2291,2291,2291,2291,2291,2291,2291,2291,2291,2291,2291,2291,2291,2291,2291,2291,2291,2291,2291,2291,2291,2291,2291,2291,2291,2291,2291,2291,2291,2291,2291,2291,2291,2291,2291,2291,2291,2291,2291,2291,2291,2291,2291,2291,2291,2291,2291,2291,2291,2291,2291,2291,2291,2291,2291,2291,2291,2291,2291,2291,2291,2291,2291,2291,2291,2291,2291,2291,2291,2291,2291,2291,2291,2291,2291,2291,2291,2291,2291,2291,2291,2291,2291,2291,2291,2291,2291,2291,2291,2291,2291,2291,2291,2291,2291,2291,2291,2291,2291,2291,2291,2291,2291,2291,2291,2291,2291,2291,2291,2291,2291,2291,2291,2291,2291,2291,2291,2291,2291,2291,2291,2291,2291,2291,2291,2291,2291,2291,2291,2291,2291,2291,2291,2291,2291,2291,2291,2291,2291,2291,2291,2291,2291,2291,2291,2291,2291,2291,2291,2291,2291,2291,2291,2291,2291,2291,2291,2291,2291,2291,2291,2291,2291,2291,2291,2291,2291,2291,2291,2291,2291,2291,2291,2291,2291,2291,2291,2291,2291,2291,2291,2291,2291,2291,2291,2291,2291,2291,2291,2291,2291,2291,2291,2291,2291,2291,2291,2291,2291,2291,2291,2291,2291,2291,2291,2291,2291,2291,2291,2291,2291,2291,2291,2291,2291,2291,2291,2291,2291,2291,2291,2291,2291,2291,2291,2291,2291,2291,2291,2291,2291,2291,2291,2291,2291,2291,2291,2291,2291,2291,2291,2291,2291,2291,2291,2291,2291,2291,2291,2291,2291,2291,2291,2291,2291,2291,2291,2291,2291,2291,2291,2291,2291,2291,2291,2291,2291,2291,2291,2291,2291,2291,2291,2291,2291,2291,2291,2291,2291,2291,2291,2291,2291,2291,2291,2291,2291,2291,2291,2291,2291,2291,2291,2291,2291,2291,2291,2291,2291,2291,2291,2291,2291,2291,2291,2291,2291,2291,2291,2291,2291,2291,2291,2291,2291,2291,2291,2291,2291,2291,2291,2291,2291,2291,2291,2291,2291,2291,2291,2291,2291,2291],\"sizemode\":\"area\",\"sizeref\":5.7275,\"symbol\":\"circle\"},\"mode\":\"markers\",\"name\":\"United States\",\"orientation\":\"v\",\"showlegend\":true,\"x\":[\"Harvard University\",\"Harvard University\",\"Harvard University\",\"Harvard University\",\"Harvard University\",\"Harvard University\",\"Harvard University\",\"Harvard University\",\"Harvard University\",\"Harvard University\",\"Harvard University\",\"Harvard University\",\"Harvard University\",\"Harvard University\",\"Harvard University\",\"Harvard University\",\"Harvard University\",\"Harvard University\",\"Harvard University\",\"Harvard University\",\"Harvard University\",\"Harvard University\",\"Harvard University\",\"Harvard University\",\"Harvard University\",\"Harvard University\",\"Harvard University\",\"Harvard University\",\"Harvard University\",\"Harvard University\",\"Harvard University\",\"Harvard University\",\"Harvard University\",\"Harvard University\",\"Harvard University\",\"Harvard University\",\"Harvard University\",\"Harvard University\",\"Harvard University\",\"Harvard University\",\"Harvard University\",\"Harvard University\",\"Harvard University\",\"Harvard University\",\"Harvard University\",\"Harvard University\",\"Harvard University\",\"Harvard University\",\"Harvard University\",\"Harvard University\",\"Harvard University\",\"Harvard University\",\"Harvard University\",\"Harvard University\",\"Harvard University\",\"Harvard University\",\"Harvard University\",\"Harvard University\",\"Harvard University\",\"Harvard University\",\"Harvard University\",\"Harvard University\",\"Harvard University\",\"Harvard University\",\"Harvard University\",\"Harvard University\",\"Harvard University\",\"Harvard University\",\"Harvard University\",\"Harvard University\",\"Harvard University\",\"Harvard University\",\"Harvard University\",\"Harvard University\",\"Harvard University\",\"Harvard University\",\"Harvard University\",\"Harvard University\",\"Harvard University\",\"Harvard University\",\"Harvard University\",\"Harvard University\",\"Harvard University\",\"Harvard University\",\"Harvard University\",\"Harvard University\",\"Harvard University\",\"Harvard University\",\"Harvard University\",\"Harvard University\",\"Harvard University\",\"Harvard University\",\"Harvard University\",\"Harvard University\",\"Harvard University\",\"Harvard University\",\"Harvard University\",\"Harvard University\",\"Harvard University\",\"Harvard University\",\"Harvard University\",\"Harvard University\",\"Harvard University\",\"Harvard University\",\"Harvard University\",\"Harvard University\",\"Harvard University\",\"Harvard University\",\"Harvard University\",\"Harvard University\",\"Harvard University\",\"Harvard University\",\"Harvard University\",\"Harvard University\",\"Harvard University\",\"Harvard University\",\"Harvard University\",\"Harvard University\",\"Harvard University\",\"Harvard University\",\"Harvard University\",\"Harvard University\",\"Harvard University\",\"Harvard University\",\"Harvard University\",\"Harvard University\",\"Harvard University\",\"Harvard University\",\"Harvard University\",\"Harvard University\",\"Harvard University\",\"Harvard University\",\"Harvard University\",\"Harvard University\",\"Harvard University\",\"Harvard University\",\"Harvard University\",\"Harvard University\",\"Harvard University\",\"Harvard University\",\"Harvard University\",\"Harvard University\",\"Harvard University\",\"Harvard University\",\"Harvard University\",\"Harvard University\",\"Harvard University\",\"Harvard University\",\"Harvard University\",\"Harvard University\",\"Harvard University\",\"Harvard University\",\"Harvard University\",\"Harvard University\",\"Harvard University\",\"Harvard University\",\"Harvard University\",\"Harvard University\",\"Harvard University\",\"Harvard University\",\"Harvard University\",\"Harvard University\",\"Harvard University\",\"Harvard University\",\"Harvard University\",\"Harvard University\",\"Harvard University\",\"Harvard University\",\"Harvard University\",\"Harvard University\",\"Harvard University\",\"Harvard University\",\"Harvard University\",\"Harvard University\",\"Harvard University\",\"Harvard University\",\"Harvard University\",\"Harvard University\",\"Harvard University\",\"Harvard University\",\"Harvard University\",\"Harvard University\",\"Harvard University\",\"Harvard University\",\"Harvard University\",\"Harvard University\",\"Harvard University\",\"Harvard University\",\"Harvard University\",\"Harvard University\",\"Harvard University\",\"Harvard University\",\"Harvard University\",\"Harvard University\",\"Harvard University\",\"Harvard University\",\"Harvard University\",\"Harvard University\",\"Harvard University\",\"Harvard University\",\"Harvard University\",\"Harvard University\",\"Harvard University\",\"Harvard University\",\"Harvard University\",\"Harvard University\",\"Harvard University\",\"Harvard University\",\"Harvard University\",\"Harvard University\",\"Harvard University\",\"Harvard University\",\"Harvard University\",\"Harvard University\",\"Harvard University\",\"Harvard University\",\"Harvard University\",\"Harvard University\",\"Harvard University\",\"Harvard University\",\"Harvard University\",\"Harvard University\",\"Harvard University\",\"Harvard University\",\"Harvard University\",\"Harvard University\",\"Harvard University\",\"Harvard University\",\"Harvard University\",\"Harvard University\",\"Harvard University\",\"Harvard University\",\"Harvard University\",\"Harvard University\",\"Harvard University\",\"Harvard University\",\"Harvard University\",\"Harvard University\",\"Harvard University\",\"Harvard University\",\"Harvard University\",\"Harvard University\",\"Harvard University\",\"Harvard University\",\"Harvard University\",\"Harvard University\",\"Harvard University\",\"Harvard University\",\"Harvard University\",\"Harvard University\",\"Harvard University\",\"Harvard University\",\"Harvard University\",\"Harvard University\",\"Harvard University\",\"Harvard University\",\"Harvard University\",\"Harvard University\",\"Harvard University\",\"Harvard University\",\"Harvard University\",\"Harvard University\",\"Harvard University\",\"Harvard University\",\"Harvard University\",\"Harvard University\",\"Harvard University\",\"Harvard University\",\"Harvard University\",\"Harvard University\",\"Harvard University\",\"Harvard University\",\"Harvard University\",\"Harvard University\",\"Harvard University\",\"Harvard University\",\"Harvard University\",\"Harvard University\",\"Harvard University\",\"Harvard University\",\"Harvard University\",\"Harvard University\",\"Harvard University\",\"Harvard University\",\"Harvard University\",\"Harvard University\",\"Harvard University\",\"Harvard University\",\"Harvard University\",\"Harvard University\",\"Harvard University\",\"Harvard University\",\"Harvard University\",\"Harvard University\",\"Harvard University\",\"Harvard University\",\"Harvard University\",\"Harvard University\",\"Harvard University\",\"Harvard University\",\"Harvard University\",\"Harvard University\",\"Harvard University\",\"Harvard University\",\"Harvard University\",\"Harvard University\",\"Harvard University\",\"Harvard University\",\"Harvard University\",\"Harvard University\",\"Harvard University\",\"Harvard University\",\"Harvard University\",\"Harvard University\",\"Harvard University\",\"Harvard University\",\"Harvard University\",\"Harvard University\",\"Harvard University\",\"Harvard University\",\"Harvard University\",\"Harvard University\",\"Harvard University\",\"Harvard University\",\"Harvard University\",\"Harvard University\",\"Harvard University\",\"Harvard University\",\"Harvard University\",\"Harvard University\",\"Harvard University\",\"Harvard University\",\"Harvard University\",\"Harvard University\",\"Harvard University\",\"Harvard University\",\"Harvard University\",\"Harvard University\",\"Harvard University\",\"Harvard University\",\"Harvard University\",\"Harvard University\",\"Harvard University\",\"Harvard University\",\"Harvard University\",\"Harvard University\",\"Harvard University\",\"Harvard University\",\"Harvard University\",\"Harvard University\",\"Harvard University\",\"Harvard University\",\"Harvard University\",\"Harvard University\",\"Harvard University\",\"Harvard University\",\"Harvard University\",\"Harvard University\",\"Harvard University\",\"Harvard University\",\"Harvard University\",\"Harvard University\",\"Harvard University\",\"Harvard University\",\"Harvard University\",\"Harvard University\",\"Harvard University\",\"Harvard University\",\"Harvard University\",\"Harvard University\",\"Harvard University\",\"Harvard University\",\"Harvard University\",\"Harvard University\",\"Harvard University\",\"Harvard University\",\"Harvard University\",\"Harvard University\",\"Harvard University\",\"Harvard University\",\"Harvard University\",\"Harvard University\",\"Harvard University\",\"Harvard University\",\"Harvard University\",\"Harvard University\",\"Harvard University\",\"Harvard University\",\"Harvard University\",\"Harvard University\",\"Harvard University\",\"Harvard University\",\"Harvard University\",\"Harvard University\",\"Harvard University\",\"Harvard University\",\"Harvard University\",\"Harvard University\",\"Harvard University\",\"Harvard University\",\"Harvard University\",\"Harvard University\",\"Harvard University\",\"Harvard University\",\"Harvard University\",\"Harvard University\",\"Harvard University\",\"Harvard University\",\"Harvard University\",\"Harvard University\",\"Harvard University\",\"Harvard University\",\"Harvard University\",\"Harvard University\",\"Harvard University\",\"Harvard University\",\"Harvard University\",\"Harvard University\",\"Harvard University\",\"Harvard University\",\"Harvard University\",\"Harvard University\",\"Harvard University\",\"Harvard University\",\"Harvard University\",\"Harvard University\",\"Harvard University\",\"Harvard University\",\"Harvard University\",\"Harvard University\",\"Harvard University\",\"Harvard University\",\"Harvard University\",\"Harvard University\",\"Harvard University\",\"Harvard University\",\"Harvard University\",\"Harvard University\",\"Harvard University\",\"Harvard University\",\"Harvard University\",\"Harvard University\",\"Harvard University\",\"Harvard University\",\"Harvard University\",\"Harvard University\",\"Harvard University\",\"Harvard University\",\"Harvard University\",\"Harvard University\",\"Harvard University\",\"Harvard University\",\"Harvard University\",\"Harvard University\",\"Harvard University\",\"Harvard University\",\"Harvard University\",\"Harvard University\",\"Harvard University\",\"Harvard University\",\"Harvard University\",\"Harvard University\",\"Harvard University\",\"Harvard University\",\"Harvard University\",\"Harvard University\",\"Harvard University\",\"Harvard University\",\"Harvard University\",\"Harvard University\",\"Harvard University\",\"Harvard University\",\"Harvard University\",\"Harvard University\",\"Harvard University\",\"Harvard University\",\"Harvard University\",\"Harvard University\",\"Harvard University\",\"Harvard University\",\"Harvard University\",\"Harvard University\",\"Harvard University\",\"Harvard University\",\"Harvard University\",\"Harvard University\",\"Harvard University\",\"Harvard University\",\"Harvard University\",\"Harvard University\",\"Harvard University\",\"Harvard University\",\"Harvard University\",\"Harvard University\",\"Harvard University\",\"Harvard University\",\"Harvard University\",\"Harvard University\",\"Harvard University\",\"Harvard University\"],\"xaxis\":\"x\",\"y\":[370,370,370,370,370,370,370,370,370,370,370,370,370,370,370,370,370,370,370,370,370,370,370,370,370,370,370,370,370,370,370,370,370,370,370,370,370,370,370,370,370,370,370,370,370,370,370,370,370,370,370,370,370,370,370,370,370,370,370,370,370,370,370,370,370,370,370,370,370,370,370,370,370,370,370,370,370,370,370,370,370,370,370,370,370,370,370,370,370,370,370,370,370,370,370,370,370,370,370,370,370,370,370,370,370,370,370,370,370,370,370,370,370,370,370,370,370,370,370,370,370,370,370,370,370,370,370,370,370,370,370,370,370,370,370,370,370,370,370,370,370,370,370,370,370,370,370,370,370,370,370,370,370,370,370,370,370,370,370,370,370,370,370,370,370,370,370,370,370,370,370,370,370,370,370,370,370,370,370,370,370,370,370,370,370,370,370,370,370,370,370,370,370,370,370,370,370,370,370,370,370,370,370,370,370,370,370,370,370,370,370,370,370,370,370,370,370,370,370,370,370,370,370,370,370,370,370,370,370,370,370,370,370,370,370,370,370,370,370,370,370,370,370,370,370,370,370,370,370,370,370,370,370,370,370,370,370,370,370,370,370,370,370,370,370,370,370,370,370,370,370,370,370,370,370,370,370,370,370,370,370,370,370,370,370,370,370,370,370,370,370,370,370,370,370,370,370,370,370,370,370,370,370,370,370,370,370,370,370,370,370,370,370,370,370,370,370,370,370,370,370,370,370,370,370,370,370,370,370,370,370,370,370,370,370,370,370,370,370,370,370,370,370,370,370,370,370,370,370,370,370,370,370,370,370,370,370,370,370,370,370,370,370,370,370,370,370,370,370,370,370,370,370,370,370,370,370,370,370,370,370,370,370,370,370,370,370,370,370,370,370,370,370,370,370,370,370,370,370,370,370,370,370,370,370,370,370,370,370,370,370,370,370,370,370,370,370,370,370,370,370,370,370,370,370,370,370,370,370,370,370,370,370,370,370,370,370,370,370,370,370,370,370,370,370,370,370,370,370,370,370,370,370,370,370,370,370,370,370,370,370,370,370,370,370,370,370,370,370,370,370,370,370,370,370,370,370,370,370,370,370,370,370,370,370,370,370,370,370,370,370,370,370,370,370,370,370,370,370,370],\"yaxis\":\"y\",\"type\":\"scatter\"}],                        {\"template\":{\"data\":{\"bar\":[{\"error_x\":{\"color\":\"#2a3f5f\"},\"error_y\":{\"color\":\"#2a3f5f\"},\"marker\":{\"line\":{\"color\":\"#E5ECF6\",\"width\":0.5},\"pattern\":{\"fillmode\":\"overlay\",\"size\":10,\"solidity\":0.2}},\"type\":\"bar\"}],\"barpolar\":[{\"marker\":{\"line\":{\"color\":\"#E5ECF6\",\"width\":0.5},\"pattern\":{\"fillmode\":\"overlay\",\"size\":10,\"solidity\":0.2}},\"type\":\"barpolar\"}],\"carpet\":[{\"aaxis\":{\"endlinecolor\":\"#2a3f5f\",\"gridcolor\":\"white\",\"linecolor\":\"white\",\"minorgridcolor\":\"white\",\"startlinecolor\":\"#2a3f5f\"},\"baxis\":{\"endlinecolor\":\"#2a3f5f\",\"gridcolor\":\"white\",\"linecolor\":\"white\",\"minorgridcolor\":\"white\",\"startlinecolor\":\"#2a3f5f\"},\"type\":\"carpet\"}],\"choropleth\":[{\"colorbar\":{\"outlinewidth\":0,\"ticks\":\"\"},\"type\":\"choropleth\"}],\"contour\":[{\"colorbar\":{\"outlinewidth\":0,\"ticks\":\"\"},\"colorscale\":[[0.0,\"#0d0887\"],[0.1111111111111111,\"#46039f\"],[0.2222222222222222,\"#7201a8\"],[0.3333333333333333,\"#9c179e\"],[0.4444444444444444,\"#bd3786\"],[0.5555555555555556,\"#d8576b\"],[0.6666666666666666,\"#ed7953\"],[0.7777777777777778,\"#fb9f3a\"],[0.8888888888888888,\"#fdca26\"],[1.0,\"#f0f921\"]],\"type\":\"contour\"}],\"contourcarpet\":[{\"colorbar\":{\"outlinewidth\":0,\"ticks\":\"\"},\"type\":\"contourcarpet\"}],\"heatmap\":[{\"colorbar\":{\"outlinewidth\":0,\"ticks\":\"\"},\"colorscale\":[[0.0,\"#0d0887\"],[0.1111111111111111,\"#46039f\"],[0.2222222222222222,\"#7201a8\"],[0.3333333333333333,\"#9c179e\"],[0.4444444444444444,\"#bd3786\"],[0.5555555555555556,\"#d8576b\"],[0.6666666666666666,\"#ed7953\"],[0.7777777777777778,\"#fb9f3a\"],[0.8888888888888888,\"#fdca26\"],[1.0,\"#f0f921\"]],\"type\":\"heatmap\"}],\"heatmapgl\":[{\"colorbar\":{\"outlinewidth\":0,\"ticks\":\"\"},\"colorscale\":[[0.0,\"#0d0887\"],[0.1111111111111111,\"#46039f\"],[0.2222222222222222,\"#7201a8\"],[0.3333333333333333,\"#9c179e\"],[0.4444444444444444,\"#bd3786\"],[0.5555555555555556,\"#d8576b\"],[0.6666666666666666,\"#ed7953\"],[0.7777777777777778,\"#fb9f3a\"],[0.8888888888888888,\"#fdca26\"],[1.0,\"#f0f921\"]],\"type\":\"heatmapgl\"}],\"histogram\":[{\"marker\":{\"pattern\":{\"fillmode\":\"overlay\",\"size\":10,\"solidity\":0.2}},\"type\":\"histogram\"}],\"histogram2d\":[{\"colorbar\":{\"outlinewidth\":0,\"ticks\":\"\"},\"colorscale\":[[0.0,\"#0d0887\"],[0.1111111111111111,\"#46039f\"],[0.2222222222222222,\"#7201a8\"],[0.3333333333333333,\"#9c179e\"],[0.4444444444444444,\"#bd3786\"],[0.5555555555555556,\"#d8576b\"],[0.6666666666666666,\"#ed7953\"],[0.7777777777777778,\"#fb9f3a\"],[0.8888888888888888,\"#fdca26\"],[1.0,\"#f0f921\"]],\"type\":\"histogram2d\"}],\"histogram2dcontour\":[{\"colorbar\":{\"outlinewidth\":0,\"ticks\":\"\"},\"colorscale\":[[0.0,\"#0d0887\"],[0.1111111111111111,\"#46039f\"],[0.2222222222222222,\"#7201a8\"],[0.3333333333333333,\"#9c179e\"],[0.4444444444444444,\"#bd3786\"],[0.5555555555555556,\"#d8576b\"],[0.6666666666666666,\"#ed7953\"],[0.7777777777777778,\"#fb9f3a\"],[0.8888888888888888,\"#fdca26\"],[1.0,\"#f0f921\"]],\"type\":\"histogram2dcontour\"}],\"mesh3d\":[{\"colorbar\":{\"outlinewidth\":0,\"ticks\":\"\"},\"type\":\"mesh3d\"}],\"parcoords\":[{\"line\":{\"colorbar\":{\"outlinewidth\":0,\"ticks\":\"\"}},\"type\":\"parcoords\"}],\"pie\":[{\"automargin\":true,\"type\":\"pie\"}],\"scatter\":[{\"marker\":{\"colorbar\":{\"outlinewidth\":0,\"ticks\":\"\"}},\"type\":\"scatter\"}],\"scatter3d\":[{\"line\":{\"colorbar\":{\"outlinewidth\":0,\"ticks\":\"\"}},\"marker\":{\"colorbar\":{\"outlinewidth\":0,\"ticks\":\"\"}},\"type\":\"scatter3d\"}],\"scattercarpet\":[{\"marker\":{\"colorbar\":{\"outlinewidth\":0,\"ticks\":\"\"}},\"type\":\"scattercarpet\"}],\"scattergeo\":[{\"marker\":{\"colorbar\":{\"outlinewidth\":0,\"ticks\":\"\"}},\"type\":\"scattergeo\"}],\"scattergl\":[{\"marker\":{\"colorbar\":{\"outlinewidth\":0,\"ticks\":\"\"}},\"type\":\"scattergl\"}],\"scattermapbox\":[{\"marker\":{\"colorbar\":{\"outlinewidth\":0,\"ticks\":\"\"}},\"type\":\"scattermapbox\"}],\"scatterpolar\":[{\"marker\":{\"colorbar\":{\"outlinewidth\":0,\"ticks\":\"\"}},\"type\":\"scatterpolar\"}],\"scatterpolargl\":[{\"marker\":{\"colorbar\":{\"outlinewidth\":0,\"ticks\":\"\"}},\"type\":\"scatterpolargl\"}],\"scatterternary\":[{\"marker\":{\"colorbar\":{\"outlinewidth\":0,\"ticks\":\"\"}},\"type\":\"scatterternary\"}],\"surface\":[{\"colorbar\":{\"outlinewidth\":0,\"ticks\":\"\"},\"colorscale\":[[0.0,\"#0d0887\"],[0.1111111111111111,\"#46039f\"],[0.2222222222222222,\"#7201a8\"],[0.3333333333333333,\"#9c179e\"],[0.4444444444444444,\"#bd3786\"],[0.5555555555555556,\"#d8576b\"],[0.6666666666666666,\"#ed7953\"],[0.7777777777777778,\"#fb9f3a\"],[0.8888888888888888,\"#fdca26\"],[1.0,\"#f0f921\"]],\"type\":\"surface\"}],\"table\":[{\"cells\":{\"fill\":{\"color\":\"#EBF0F8\"},\"line\":{\"color\":\"white\"}},\"header\":{\"fill\":{\"color\":\"#C8D4E3\"},\"line\":{\"color\":\"white\"}},\"type\":\"table\"}]},\"layout\":{\"annotationdefaults\":{\"arrowcolor\":\"#2a3f5f\",\"arrowhead\":0,\"arrowwidth\":1},\"autotypenumbers\":\"strict\",\"coloraxis\":{\"colorbar\":{\"outlinewidth\":0,\"ticks\":\"\"}},\"colorscale\":{\"diverging\":[[0,\"#8e0152\"],[0.1,\"#c51b7d\"],[0.2,\"#de77ae\"],[0.3,\"#f1b6da\"],[0.4,\"#fde0ef\"],[0.5,\"#f7f7f7\"],[0.6,\"#e6f5d0\"],[0.7,\"#b8e186\"],[0.8,\"#7fbc41\"],[0.9,\"#4d9221\"],[1,\"#276419\"]],\"sequential\":[[0.0,\"#0d0887\"],[0.1111111111111111,\"#46039f\"],[0.2222222222222222,\"#7201a8\"],[0.3333333333333333,\"#9c179e\"],[0.4444444444444444,\"#bd3786\"],[0.5555555555555556,\"#d8576b\"],[0.6666666666666666,\"#ed7953\"],[0.7777777777777778,\"#fb9f3a\"],[0.8888888888888888,\"#fdca26\"],[1.0,\"#f0f921\"]],\"sequentialminus\":[[0.0,\"#0d0887\"],[0.1111111111111111,\"#46039f\"],[0.2222222222222222,\"#7201a8\"],[0.3333333333333333,\"#9c179e\"],[0.4444444444444444,\"#bd3786\"],[0.5555555555555556,\"#d8576b\"],[0.6666666666666666,\"#ed7953\"],[0.7777777777777778,\"#fb9f3a\"],[0.8888888888888888,\"#fdca26\"],[1.0,\"#f0f921\"]]},\"colorway\":[\"#636efa\",\"#EF553B\",\"#00cc96\",\"#ab63fa\",\"#FFA15A\",\"#19d3f3\",\"#FF6692\",\"#B6E880\",\"#FF97FF\",\"#FECB52\"],\"font\":{\"color\":\"#2a3f5f\"},\"geo\":{\"bgcolor\":\"white\",\"lakecolor\":\"white\",\"landcolor\":\"#E5ECF6\",\"showlakes\":true,\"showland\":true,\"subunitcolor\":\"white\"},\"hoverlabel\":{\"align\":\"left\"},\"hovermode\":\"closest\",\"mapbox\":{\"style\":\"light\"},\"paper_bgcolor\":\"white\",\"plot_bgcolor\":\"#E5ECF6\",\"polar\":{\"angularaxis\":{\"gridcolor\":\"white\",\"linecolor\":\"white\",\"ticks\":\"\"},\"bgcolor\":\"#E5ECF6\",\"radialaxis\":{\"gridcolor\":\"white\",\"linecolor\":\"white\",\"ticks\":\"\"}},\"scene\":{\"xaxis\":{\"backgroundcolor\":\"#E5ECF6\",\"gridcolor\":\"white\",\"gridwidth\":2,\"linecolor\":\"white\",\"showbackground\":true,\"ticks\":\"\",\"zerolinecolor\":\"white\"},\"yaxis\":{\"backgroundcolor\":\"#E5ECF6\",\"gridcolor\":\"white\",\"gridwidth\":2,\"linecolor\":\"white\",\"showbackground\":true,\"ticks\":\"\",\"zerolinecolor\":\"white\"},\"zaxis\":{\"backgroundcolor\":\"#E5ECF6\",\"gridcolor\":\"white\",\"gridwidth\":2,\"linecolor\":\"white\",\"showbackground\":true,\"ticks\":\"\",\"zerolinecolor\":\"white\"}},\"shapedefaults\":{\"line\":{\"color\":\"#2a3f5f\"}},\"ternary\":{\"aaxis\":{\"gridcolor\":\"white\",\"linecolor\":\"white\",\"ticks\":\"\"},\"baxis\":{\"gridcolor\":\"white\",\"linecolor\":\"white\",\"ticks\":\"\"},\"bgcolor\":\"#E5ECF6\",\"caxis\":{\"gridcolor\":\"white\",\"linecolor\":\"white\",\"ticks\":\"\"}},\"title\":{\"x\":0.05},\"xaxis\":{\"automargin\":true,\"gridcolor\":\"white\",\"linecolor\":\"white\",\"ticks\":\"\",\"title\":{\"standoff\":15},\"zerolinecolor\":\"white\",\"zerolinewidth\":2},\"yaxis\":{\"automargin\":true,\"gridcolor\":\"white\",\"linecolor\":\"white\",\"ticks\":\"\",\"title\":{\"standoff\":15},\"zerolinecolor\":\"white\",\"zerolinewidth\":2}}},\"xaxis\":{\"anchor\":\"y\",\"domain\":[0.0,1.0],\"title\":{\"text\":\"aff_name\"}},\"yaxis\":{\"anchor\":\"x\",\"domain\":[0.0,1.0],\"title\":{\"text\":\"tot_pubs\"}},\"legend\":{\"title\":{\"text\":\"aff_country\"},\"tracegroupgap\":0,\"itemsizing\":\"constant\"},\"title\":{\"text\":\"Top 500 Institutions by number of publications (country segmentation)\"},\"height\":800},                        {\"responsive\": true}                    ).then(function(){\n",
       "                            \n",
       "var gd = document.getElementById('e1b7c91d-9305-45af-be1b-7645c2c0872a');\n",
       "var x = new MutationObserver(function (mutations, observer) {{\n",
       "        var display = window.getComputedStyle(gd).display;\n",
       "        if (!display || display === 'none') {{\n",
       "            console.log([gd, 'removed!']);\n",
       "            Plotly.purge(gd);\n",
       "            observer.disconnect();\n",
       "        }}\n",
       "}});\n",
       "\n",
       "// Listen for the removal of the full notebook cells\n",
       "var notebookContainer = gd.closest('#notebook-container');\n",
       "if (notebookContainer) {{\n",
       "    x.observe(notebookContainer, {childList: true});\n",
       "}}\n",
       "\n",
       "// Listen for the clearing of the current output cell\n",
       "var outputEl = gd.closest('.output');\n",
       "if (outputEl) {{\n",
       "    x.observe(outputEl, {childList: true});\n",
       "}}\n",
       "\n",
       "                        })                };                });            </script>        </div>"
      ]
     },
     "metadata": {},
     "output_type": "display_data"
    }
   ],
   "source": [
    "treshold = 500\n",
    "\n",
    "px.scatter(gridaffiliations[:treshold], \n",
    "           x=\"aff_name\", y=\"tot_pubs\", \n",
    "           color=\"aff_country\", \n",
    "           size='tot_affiliations',\n",
    "           hover_name=\"aff_name\", \n",
    "           height=800,\n",
    "           hover_data=['aff_id', 'aff_name', 'aff_city', 'aff_country', 'tot_affiliations', 'tot_pubs'], \n",
    "           title=f\"Top {treshold} Institutions by number of publications (country segmentation)\")"
   ]
  },
  {
   "cell_type": "code",
   "execution_count": 10,
   "metadata": {
    "Collapsed": "false",
    "colab": {
     "base_uri": "https://localhost:8080/",
     "height": 617
    },
    "colab_type": "code",
    "executionInfo": {
     "elapsed": 958,
     "status": "ok",
     "timestamp": 1570142320740,
     "user": {
      "displayName": "Michele Pasin",
      "photoUrl": "https://lh3.googleusercontent.com/a-/AAuE7mBu8LVjIGgontF2Wax51BoL5KFx8esezX3bUmaa0g=s64",
      "userId": "10309320684375994511"
     },
     "user_tz": 240
    },
    "id": "joA2dnfwtQ4W",
    "outputId": "b734487f-699c-4ad8-8ba4-e04157730420"
   },
   "outputs": [
    {
     "data": {
      "application/vnd.plotly.v1+json": {
       "config": {
        "plotlyServerURL": "https://plot.ly"
       },
       "data": [
        {
         "customdata": [
          [
           "grid.38142.3c",
           "Harvard University",
           "Cambridge",
           "United States"
          ],
          [
           "grid.38142.3c",
           "Harvard University",
           "Cambridge",
           "United States"
          ],
          [
           "grid.38142.3c",
           "Harvard University",
           "Cambridge",
           "United States"
          ],
          [
           "grid.38142.3c",
           "Harvard University",
           "Cambridge",
           "United States"
          ],
          [
           "grid.38142.3c",
           "Harvard University",
           "Cambridge",
           "United States"
          ],
          [
           "grid.38142.3c",
           "Harvard University",
           "Cambridge",
           "United States"
          ],
          [
           "grid.38142.3c",
           "Harvard University",
           "Cambridge",
           "United States"
          ],
          [
           "grid.38142.3c",
           "Harvard University",
           "Cambridge",
           "United States"
          ],
          [
           "grid.38142.3c",
           "Harvard University",
           "Cambridge",
           "United States"
          ],
          [
           "grid.38142.3c",
           "Harvard University",
           "Cambridge",
           "United States"
          ],
          [
           "grid.38142.3c",
           "Harvard University",
           "Cambridge",
           "United States"
          ],
          [
           "grid.38142.3c",
           "Harvard University",
           "Cambridge",
           "United States"
          ],
          [
           "grid.38142.3c",
           "Harvard University",
           "Cambridge",
           "United States"
          ],
          [
           "grid.38142.3c",
           "Harvard University",
           "Cambridge",
           "United States"
          ],
          [
           "grid.38142.3c",
           "Harvard University",
           "Cambridge",
           "United States"
          ],
          [
           "grid.38142.3c",
           "Harvard University",
           "Cambridge",
           "United States"
          ],
          [
           "grid.38142.3c",
           "Harvard University",
           "Cambridge",
           "United States"
          ],
          [
           "grid.38142.3c",
           "Harvard University",
           "Cambridge",
           "United States"
          ],
          [
           "grid.38142.3c",
           "Harvard University",
           "Cambridge",
           "United States"
          ],
          [
           "grid.38142.3c",
           "Harvard University",
           "Cambridge",
           "United States"
          ],
          [
           "grid.38142.3c",
           "Harvard University",
           "Cambridge",
           "United States"
          ],
          [
           "grid.38142.3c",
           "Harvard University",
           "Cambridge",
           "United States"
          ],
          [
           "grid.38142.3c",
           "Harvard University",
           "Cambridge",
           "United States"
          ],
          [
           "grid.38142.3c",
           "Harvard University",
           "Cambridge",
           "United States"
          ],
          [
           "grid.38142.3c",
           "Harvard University",
           "Cambridge",
           "United States"
          ],
          [
           "grid.38142.3c",
           "Harvard University",
           "Cambridge",
           "United States"
          ],
          [
           "grid.38142.3c",
           "Harvard University",
           "Cambridge",
           "United States"
          ],
          [
           "grid.38142.3c",
           "Harvard University",
           "Cambridge",
           "United States"
          ],
          [
           "grid.38142.3c",
           "Harvard University",
           "Cambridge",
           "United States"
          ],
          [
           "grid.38142.3c",
           "Harvard University",
           "Cambridge",
           "United States"
          ],
          [
           "grid.38142.3c",
           "Harvard University",
           "Cambridge",
           "United States"
          ],
          [
           "grid.38142.3c",
           "Harvard University",
           "Cambridge",
           "United States"
          ],
          [
           "grid.38142.3c",
           "Harvard University",
           "Cambridge",
           "United States"
          ],
          [
           "grid.38142.3c",
           "Harvard University",
           "Cambridge",
           "United States"
          ],
          [
           "grid.38142.3c",
           "Harvard University",
           "Cambridge",
           "United States"
          ],
          [
           "grid.38142.3c",
           "Harvard University",
           "Cambridge",
           "United States"
          ],
          [
           "grid.38142.3c",
           "Harvard University",
           "Cambridge",
           "United States"
          ],
          [
           "grid.38142.3c",
           "Harvard University",
           "Cambridge",
           "United States"
          ],
          [
           "grid.38142.3c",
           "Harvard University",
           "Cambridge",
           "United States"
          ],
          [
           "grid.38142.3c",
           "Harvard University",
           "Cambridge",
           "United States"
          ],
          [
           "grid.38142.3c",
           "Harvard University",
           "Cambridge",
           "United States"
          ],
          [
           "grid.38142.3c",
           "Harvard University",
           "Cambridge",
           "United States"
          ],
          [
           "grid.38142.3c",
           "Harvard University",
           "Cambridge",
           "United States"
          ],
          [
           "grid.38142.3c",
           "Harvard University",
           "Cambridge",
           "United States"
          ],
          [
           "grid.38142.3c",
           "Harvard University",
           "Cambridge",
           "United States"
          ],
          [
           "grid.38142.3c",
           "Harvard University",
           "Cambridge",
           "United States"
          ],
          [
           "grid.38142.3c",
           "Harvard University",
           "Cambridge",
           "United States"
          ],
          [
           "grid.38142.3c",
           "Harvard University",
           "Cambridge",
           "United States"
          ],
          [
           "grid.38142.3c",
           "Harvard University",
           "Cambridge",
           "United States"
          ],
          [
           "grid.38142.3c",
           "Harvard University",
           "Cambridge",
           "United States"
          ],
          [
           "grid.38142.3c",
           "Harvard University",
           "Cambridge",
           "United States"
          ],
          [
           "grid.38142.3c",
           "Harvard University",
           "Cambridge",
           "United States"
          ],
          [
           "grid.38142.3c",
           "Harvard University",
           "Cambridge",
           "United States"
          ],
          [
           "grid.38142.3c",
           "Harvard University",
           "Cambridge",
           "United States"
          ],
          [
           "grid.38142.3c",
           "Harvard University",
           "Cambridge",
           "United States"
          ],
          [
           "grid.38142.3c",
           "Harvard University",
           "Cambridge",
           "United States"
          ],
          [
           "grid.38142.3c",
           "Harvard University",
           "Cambridge",
           "United States"
          ],
          [
           "grid.38142.3c",
           "Harvard University",
           "Cambridge",
           "United States"
          ],
          [
           "grid.38142.3c",
           "Harvard University",
           "Cambridge",
           "United States"
          ],
          [
           "grid.38142.3c",
           "Harvard University",
           "Cambridge",
           "United States"
          ],
          [
           "grid.38142.3c",
           "Harvard University",
           "Cambridge",
           "United States"
          ],
          [
           "grid.38142.3c",
           "Harvard University",
           "Cambridge",
           "United States"
          ],
          [
           "grid.38142.3c",
           "Harvard University",
           "Cambridge",
           "United States"
          ],
          [
           "grid.38142.3c",
           "Harvard University",
           "Cambridge",
           "United States"
          ],
          [
           "grid.38142.3c",
           "Harvard University",
           "Cambridge",
           "United States"
          ],
          [
           "grid.38142.3c",
           "Harvard University",
           "Cambridge",
           "United States"
          ],
          [
           "grid.38142.3c",
           "Harvard University",
           "Cambridge",
           "United States"
          ],
          [
           "grid.38142.3c",
           "Harvard University",
           "Cambridge",
           "United States"
          ],
          [
           "grid.38142.3c",
           "Harvard University",
           "Cambridge",
           "United States"
          ],
          [
           "grid.38142.3c",
           "Harvard University",
           "Cambridge",
           "United States"
          ],
          [
           "grid.38142.3c",
           "Harvard University",
           "Cambridge",
           "United States"
          ],
          [
           "grid.38142.3c",
           "Harvard University",
           "Cambridge",
           "United States"
          ],
          [
           "grid.38142.3c",
           "Harvard University",
           "Cambridge",
           "United States"
          ],
          [
           "grid.38142.3c",
           "Harvard University",
           "Cambridge",
           "United States"
          ],
          [
           "grid.38142.3c",
           "Harvard University",
           "Cambridge",
           "United States"
          ],
          [
           "grid.38142.3c",
           "Harvard University",
           "Cambridge",
           "United States"
          ],
          [
           "grid.38142.3c",
           "Harvard University",
           "Cambridge",
           "United States"
          ],
          [
           "grid.38142.3c",
           "Harvard University",
           "Cambridge",
           "United States"
          ],
          [
           "grid.38142.3c",
           "Harvard University",
           "Cambridge",
           "United States"
          ],
          [
           "grid.38142.3c",
           "Harvard University",
           "Cambridge",
           "United States"
          ],
          [
           "grid.38142.3c",
           "Harvard University",
           "Cambridge",
           "United States"
          ],
          [
           "grid.38142.3c",
           "Harvard University",
           "Cambridge",
           "United States"
          ],
          [
           "grid.38142.3c",
           "Harvard University",
           "Cambridge",
           "United States"
          ],
          [
           "grid.38142.3c",
           "Harvard University",
           "Cambridge",
           "United States"
          ],
          [
           "grid.38142.3c",
           "Harvard University",
           "Cambridge",
           "United States"
          ],
          [
           "grid.38142.3c",
           "Harvard University",
           "Cambridge",
           "United States"
          ],
          [
           "grid.38142.3c",
           "Harvard University",
           "Cambridge",
           "United States"
          ],
          [
           "grid.38142.3c",
           "Harvard University",
           "Cambridge",
           "United States"
          ],
          [
           "grid.38142.3c",
           "Harvard University",
           "Cambridge",
           "United States"
          ],
          [
           "grid.38142.3c",
           "Harvard University",
           "Cambridge",
           "United States"
          ],
          [
           "grid.38142.3c",
           "Harvard University",
           "Cambridge",
           "United States"
          ],
          [
           "grid.38142.3c",
           "Harvard University",
           "Cambridge",
           "United States"
          ],
          [
           "grid.38142.3c",
           "Harvard University",
           "Cambridge",
           "United States"
          ],
          [
           "grid.38142.3c",
           "Harvard University",
           "Cambridge",
           "United States"
          ],
          [
           "grid.38142.3c",
           "Harvard University",
           "Cambridge",
           "United States"
          ],
          [
           "grid.38142.3c",
           "Harvard University",
           "Cambridge",
           "United States"
          ],
          [
           "grid.38142.3c",
           "Harvard University",
           "Cambridge",
           "United States"
          ],
          [
           "grid.38142.3c",
           "Harvard University",
           "Cambridge",
           "United States"
          ],
          [
           "grid.38142.3c",
           "Harvard University",
           "Cambridge",
           "United States"
          ],
          [
           "grid.38142.3c",
           "Harvard University",
           "Cambridge",
           "United States"
          ]
         ],
         "hovertemplate": "<b>%{hovertext}</b><br><br>aff_country=%{customdata[3]}<br>tot_affiliations=%{x}<br>tot_pubs=%{y}<br>aff_id=%{customdata[0]}<br>aff_name=%{customdata[1]}<br>aff_city=%{customdata[2]}<extra></extra>",
         "hovertext": [
          "Harvard University",
          "Harvard University",
          "Harvard University",
          "Harvard University",
          "Harvard University",
          "Harvard University",
          "Harvard University",
          "Harvard University",
          "Harvard University",
          "Harvard University",
          "Harvard University",
          "Harvard University",
          "Harvard University",
          "Harvard University",
          "Harvard University",
          "Harvard University",
          "Harvard University",
          "Harvard University",
          "Harvard University",
          "Harvard University",
          "Harvard University",
          "Harvard University",
          "Harvard University",
          "Harvard University",
          "Harvard University",
          "Harvard University",
          "Harvard University",
          "Harvard University",
          "Harvard University",
          "Harvard University",
          "Harvard University",
          "Harvard University",
          "Harvard University",
          "Harvard University",
          "Harvard University",
          "Harvard University",
          "Harvard University",
          "Harvard University",
          "Harvard University",
          "Harvard University",
          "Harvard University",
          "Harvard University",
          "Harvard University",
          "Harvard University",
          "Harvard University",
          "Harvard University",
          "Harvard University",
          "Harvard University",
          "Harvard University",
          "Harvard University",
          "Harvard University",
          "Harvard University",
          "Harvard University",
          "Harvard University",
          "Harvard University",
          "Harvard University",
          "Harvard University",
          "Harvard University",
          "Harvard University",
          "Harvard University",
          "Harvard University",
          "Harvard University",
          "Harvard University",
          "Harvard University",
          "Harvard University",
          "Harvard University",
          "Harvard University",
          "Harvard University",
          "Harvard University",
          "Harvard University",
          "Harvard University",
          "Harvard University",
          "Harvard University",
          "Harvard University",
          "Harvard University",
          "Harvard University",
          "Harvard University",
          "Harvard University",
          "Harvard University",
          "Harvard University",
          "Harvard University",
          "Harvard University",
          "Harvard University",
          "Harvard University",
          "Harvard University",
          "Harvard University",
          "Harvard University",
          "Harvard University",
          "Harvard University",
          "Harvard University",
          "Harvard University",
          "Harvard University",
          "Harvard University",
          "Harvard University",
          "Harvard University",
          "Harvard University",
          "Harvard University",
          "Harvard University",
          "Harvard University",
          "Harvard University"
         ],
         "legendgroup": "United States",
         "marker": {
          "color": "#636efa",
          "symbol": "circle"
         },
         "mode": "markers",
         "name": "United States",
         "orientation": "v",
         "showlegend": true,
         "type": "scatter",
         "x": [
          2291,
          2291,
          2291,
          2291,
          2291,
          2291,
          2291,
          2291,
          2291,
          2291,
          2291,
          2291,
          2291,
          2291,
          2291,
          2291,
          2291,
          2291,
          2291,
          2291,
          2291,
          2291,
          2291,
          2291,
          2291,
          2291,
          2291,
          2291,
          2291,
          2291,
          2291,
          2291,
          2291,
          2291,
          2291,
          2291,
          2291,
          2291,
          2291,
          2291,
          2291,
          2291,
          2291,
          2291,
          2291,
          2291,
          2291,
          2291,
          2291,
          2291,
          2291,
          2291,
          2291,
          2291,
          2291,
          2291,
          2291,
          2291,
          2291,
          2291,
          2291,
          2291,
          2291,
          2291,
          2291,
          2291,
          2291,
          2291,
          2291,
          2291,
          2291,
          2291,
          2291,
          2291,
          2291,
          2291,
          2291,
          2291,
          2291,
          2291,
          2291,
          2291,
          2291,
          2291,
          2291,
          2291,
          2291,
          2291,
          2291,
          2291,
          2291,
          2291,
          2291,
          2291,
          2291,
          2291,
          2291,
          2291,
          2291,
          2291
         ],
         "xaxis": "x",
         "y": [
          370,
          370,
          370,
          370,
          370,
          370,
          370,
          370,
          370,
          370,
          370,
          370,
          370,
          370,
          370,
          370,
          370,
          370,
          370,
          370,
          370,
          370,
          370,
          370,
          370,
          370,
          370,
          370,
          370,
          370,
          370,
          370,
          370,
          370,
          370,
          370,
          370,
          370,
          370,
          370,
          370,
          370,
          370,
          370,
          370,
          370,
          370,
          370,
          370,
          370,
          370,
          370,
          370,
          370,
          370,
          370,
          370,
          370,
          370,
          370,
          370,
          370,
          370,
          370,
          370,
          370,
          370,
          370,
          370,
          370,
          370,
          370,
          370,
          370,
          370,
          370,
          370,
          370,
          370,
          370,
          370,
          370,
          370,
          370,
          370,
          370,
          370,
          370,
          370,
          370,
          370,
          370,
          370,
          370,
          370,
          370,
          370,
          370,
          370,
          370
         ],
         "yaxis": "y"
        }
       ],
       "layout": {
        "autosize": true,
        "legend": {
         "title": {
          "text": "aff_country"
         },
         "tracegroupgap": 0
        },
        "template": {
         "data": {
          "bar": [
           {
            "error_x": {
             "color": "#2a3f5f"
            },
            "error_y": {
             "color": "#2a3f5f"
            },
            "marker": {
             "line": {
              "color": "#E5ECF6",
              "width": 0.5
             },
             "pattern": {
              "fillmode": "overlay",
              "size": 10,
              "solidity": 0.2
             }
            },
            "type": "bar"
           }
          ],
          "barpolar": [
           {
            "marker": {
             "line": {
              "color": "#E5ECF6",
              "width": 0.5
             },
             "pattern": {
              "fillmode": "overlay",
              "size": 10,
              "solidity": 0.2
             }
            },
            "type": "barpolar"
           }
          ],
          "carpet": [
           {
            "aaxis": {
             "endlinecolor": "#2a3f5f",
             "gridcolor": "white",
             "linecolor": "white",
             "minorgridcolor": "white",
             "startlinecolor": "#2a3f5f"
            },
            "baxis": {
             "endlinecolor": "#2a3f5f",
             "gridcolor": "white",
             "linecolor": "white",
             "minorgridcolor": "white",
             "startlinecolor": "#2a3f5f"
            },
            "type": "carpet"
           }
          ],
          "choropleth": [
           {
            "colorbar": {
             "outlinewidth": 0,
             "ticks": ""
            },
            "type": "choropleth"
           }
          ],
          "contour": [
           {
            "colorbar": {
             "outlinewidth": 0,
             "ticks": ""
            },
            "colorscale": [
             [
              0,
              "#0d0887"
             ],
             [
              0.1111111111111111,
              "#46039f"
             ],
             [
              0.2222222222222222,
              "#7201a8"
             ],
             [
              0.3333333333333333,
              "#9c179e"
             ],
             [
              0.4444444444444444,
              "#bd3786"
             ],
             [
              0.5555555555555556,
              "#d8576b"
             ],
             [
              0.6666666666666666,
              "#ed7953"
             ],
             [
              0.7777777777777778,
              "#fb9f3a"
             ],
             [
              0.8888888888888888,
              "#fdca26"
             ],
             [
              1,
              "#f0f921"
             ]
            ],
            "type": "contour"
           }
          ],
          "contourcarpet": [
           {
            "colorbar": {
             "outlinewidth": 0,
             "ticks": ""
            },
            "type": "contourcarpet"
           }
          ],
          "heatmap": [
           {
            "colorbar": {
             "outlinewidth": 0,
             "ticks": ""
            },
            "colorscale": [
             [
              0,
              "#0d0887"
             ],
             [
              0.1111111111111111,
              "#46039f"
             ],
             [
              0.2222222222222222,
              "#7201a8"
             ],
             [
              0.3333333333333333,
              "#9c179e"
             ],
             [
              0.4444444444444444,
              "#bd3786"
             ],
             [
              0.5555555555555556,
              "#d8576b"
             ],
             [
              0.6666666666666666,
              "#ed7953"
             ],
             [
              0.7777777777777778,
              "#fb9f3a"
             ],
             [
              0.8888888888888888,
              "#fdca26"
             ],
             [
              1,
              "#f0f921"
             ]
            ],
            "type": "heatmap"
           }
          ],
          "heatmapgl": [
           {
            "colorbar": {
             "outlinewidth": 0,
             "ticks": ""
            },
            "colorscale": [
             [
              0,
              "#0d0887"
             ],
             [
              0.1111111111111111,
              "#46039f"
             ],
             [
              0.2222222222222222,
              "#7201a8"
             ],
             [
              0.3333333333333333,
              "#9c179e"
             ],
             [
              0.4444444444444444,
              "#bd3786"
             ],
             [
              0.5555555555555556,
              "#d8576b"
             ],
             [
              0.6666666666666666,
              "#ed7953"
             ],
             [
              0.7777777777777778,
              "#fb9f3a"
             ],
             [
              0.8888888888888888,
              "#fdca26"
             ],
             [
              1,
              "#f0f921"
             ]
            ],
            "type": "heatmapgl"
           }
          ],
          "histogram": [
           {
            "marker": {
             "pattern": {
              "fillmode": "overlay",
              "size": 10,
              "solidity": 0.2
             }
            },
            "type": "histogram"
           }
          ],
          "histogram2d": [
           {
            "colorbar": {
             "outlinewidth": 0,
             "ticks": ""
            },
            "colorscale": [
             [
              0,
              "#0d0887"
             ],
             [
              0.1111111111111111,
              "#46039f"
             ],
             [
              0.2222222222222222,
              "#7201a8"
             ],
             [
              0.3333333333333333,
              "#9c179e"
             ],
             [
              0.4444444444444444,
              "#bd3786"
             ],
             [
              0.5555555555555556,
              "#d8576b"
             ],
             [
              0.6666666666666666,
              "#ed7953"
             ],
             [
              0.7777777777777778,
              "#fb9f3a"
             ],
             [
              0.8888888888888888,
              "#fdca26"
             ],
             [
              1,
              "#f0f921"
             ]
            ],
            "type": "histogram2d"
           }
          ],
          "histogram2dcontour": [
           {
            "colorbar": {
             "outlinewidth": 0,
             "ticks": ""
            },
            "colorscale": [
             [
              0,
              "#0d0887"
             ],
             [
              0.1111111111111111,
              "#46039f"
             ],
             [
              0.2222222222222222,
              "#7201a8"
             ],
             [
              0.3333333333333333,
              "#9c179e"
             ],
             [
              0.4444444444444444,
              "#bd3786"
             ],
             [
              0.5555555555555556,
              "#d8576b"
             ],
             [
              0.6666666666666666,
              "#ed7953"
             ],
             [
              0.7777777777777778,
              "#fb9f3a"
             ],
             [
              0.8888888888888888,
              "#fdca26"
             ],
             [
              1,
              "#f0f921"
             ]
            ],
            "type": "histogram2dcontour"
           }
          ],
          "mesh3d": [
           {
            "colorbar": {
             "outlinewidth": 0,
             "ticks": ""
            },
            "type": "mesh3d"
           }
          ],
          "parcoords": [
           {
            "line": {
             "colorbar": {
              "outlinewidth": 0,
              "ticks": ""
             }
            },
            "type": "parcoords"
           }
          ],
          "pie": [
           {
            "automargin": true,
            "type": "pie"
           }
          ],
          "scatter": [
           {
            "marker": {
             "colorbar": {
              "outlinewidth": 0,
              "ticks": ""
             }
            },
            "type": "scatter"
           }
          ],
          "scatter3d": [
           {
            "line": {
             "colorbar": {
              "outlinewidth": 0,
              "ticks": ""
             }
            },
            "marker": {
             "colorbar": {
              "outlinewidth": 0,
              "ticks": ""
             }
            },
            "type": "scatter3d"
           }
          ],
          "scattercarpet": [
           {
            "marker": {
             "colorbar": {
              "outlinewidth": 0,
              "ticks": ""
             }
            },
            "type": "scattercarpet"
           }
          ],
          "scattergeo": [
           {
            "marker": {
             "colorbar": {
              "outlinewidth": 0,
              "ticks": ""
             }
            },
            "type": "scattergeo"
           }
          ],
          "scattergl": [
           {
            "marker": {
             "colorbar": {
              "outlinewidth": 0,
              "ticks": ""
             }
            },
            "type": "scattergl"
           }
          ],
          "scattermapbox": [
           {
            "marker": {
             "colorbar": {
              "outlinewidth": 0,
              "ticks": ""
             }
            },
            "type": "scattermapbox"
           }
          ],
          "scatterpolar": [
           {
            "marker": {
             "colorbar": {
              "outlinewidth": 0,
              "ticks": ""
             }
            },
            "type": "scatterpolar"
           }
          ],
          "scatterpolargl": [
           {
            "marker": {
             "colorbar": {
              "outlinewidth": 0,
              "ticks": ""
             }
            },
            "type": "scatterpolargl"
           }
          ],
          "scatterternary": [
           {
            "marker": {
             "colorbar": {
              "outlinewidth": 0,
              "ticks": ""
             }
            },
            "type": "scatterternary"
           }
          ],
          "surface": [
           {
            "colorbar": {
             "outlinewidth": 0,
             "ticks": ""
            },
            "colorscale": [
             [
              0,
              "#0d0887"
             ],
             [
              0.1111111111111111,
              "#46039f"
             ],
             [
              0.2222222222222222,
              "#7201a8"
             ],
             [
              0.3333333333333333,
              "#9c179e"
             ],
             [
              0.4444444444444444,
              "#bd3786"
             ],
             [
              0.5555555555555556,
              "#d8576b"
             ],
             [
              0.6666666666666666,
              "#ed7953"
             ],
             [
              0.7777777777777778,
              "#fb9f3a"
             ],
             [
              0.8888888888888888,
              "#fdca26"
             ],
             [
              1,
              "#f0f921"
             ]
            ],
            "type": "surface"
           }
          ],
          "table": [
           {
            "cells": {
             "fill": {
              "color": "#EBF0F8"
             },
             "line": {
              "color": "white"
             }
            },
            "header": {
             "fill": {
              "color": "#C8D4E3"
             },
             "line": {
              "color": "white"
             }
            },
            "type": "table"
           }
          ]
         },
         "layout": {
          "annotationdefaults": {
           "arrowcolor": "#2a3f5f",
           "arrowhead": 0,
           "arrowwidth": 1
          },
          "autotypenumbers": "strict",
          "coloraxis": {
           "colorbar": {
            "outlinewidth": 0,
            "ticks": ""
           }
          },
          "colorscale": {
           "diverging": [
            [
             0,
             "#8e0152"
            ],
            [
             0.1,
             "#c51b7d"
            ],
            [
             0.2,
             "#de77ae"
            ],
            [
             0.3,
             "#f1b6da"
            ],
            [
             0.4,
             "#fde0ef"
            ],
            [
             0.5,
             "#f7f7f7"
            ],
            [
             0.6,
             "#e6f5d0"
            ],
            [
             0.7,
             "#b8e186"
            ],
            [
             0.8,
             "#7fbc41"
            ],
            [
             0.9,
             "#4d9221"
            ],
            [
             1,
             "#276419"
            ]
           ],
           "sequential": [
            [
             0,
             "#0d0887"
            ],
            [
             0.1111111111111111,
             "#46039f"
            ],
            [
             0.2222222222222222,
             "#7201a8"
            ],
            [
             0.3333333333333333,
             "#9c179e"
            ],
            [
             0.4444444444444444,
             "#bd3786"
            ],
            [
             0.5555555555555556,
             "#d8576b"
            ],
            [
             0.6666666666666666,
             "#ed7953"
            ],
            [
             0.7777777777777778,
             "#fb9f3a"
            ],
            [
             0.8888888888888888,
             "#fdca26"
            ],
            [
             1,
             "#f0f921"
            ]
           ],
           "sequentialminus": [
            [
             0,
             "#0d0887"
            ],
            [
             0.1111111111111111,
             "#46039f"
            ],
            [
             0.2222222222222222,
             "#7201a8"
            ],
            [
             0.3333333333333333,
             "#9c179e"
            ],
            [
             0.4444444444444444,
             "#bd3786"
            ],
            [
             0.5555555555555556,
             "#d8576b"
            ],
            [
             0.6666666666666666,
             "#ed7953"
            ],
            [
             0.7777777777777778,
             "#fb9f3a"
            ],
            [
             0.8888888888888888,
             "#fdca26"
            ],
            [
             1,
             "#f0f921"
            ]
           ]
          },
          "colorway": [
           "#636efa",
           "#EF553B",
           "#00cc96",
           "#ab63fa",
           "#FFA15A",
           "#19d3f3",
           "#FF6692",
           "#B6E880",
           "#FF97FF",
           "#FECB52"
          ],
          "font": {
           "color": "#2a3f5f"
          },
          "geo": {
           "bgcolor": "white",
           "lakecolor": "white",
           "landcolor": "#E5ECF6",
           "showlakes": true,
           "showland": true,
           "subunitcolor": "white"
          },
          "hoverlabel": {
           "align": "left"
          },
          "hovermode": "closest",
          "mapbox": {
           "style": "light"
          },
          "paper_bgcolor": "white",
          "plot_bgcolor": "#E5ECF6",
          "polar": {
           "angularaxis": {
            "gridcolor": "white",
            "linecolor": "white",
            "ticks": ""
           },
           "bgcolor": "#E5ECF6",
           "radialaxis": {
            "gridcolor": "white",
            "linecolor": "white",
            "ticks": ""
           }
          },
          "scene": {
           "xaxis": {
            "backgroundcolor": "#E5ECF6",
            "gridcolor": "white",
            "gridwidth": 2,
            "linecolor": "white",
            "showbackground": true,
            "ticks": "",
            "zerolinecolor": "white"
           },
           "yaxis": {
            "backgroundcolor": "#E5ECF6",
            "gridcolor": "white",
            "gridwidth": 2,
            "linecolor": "white",
            "showbackground": true,
            "ticks": "",
            "zerolinecolor": "white"
           },
           "zaxis": {
            "backgroundcolor": "#E5ECF6",
            "gridcolor": "white",
            "gridwidth": 2,
            "linecolor": "white",
            "showbackground": true,
            "ticks": "",
            "zerolinecolor": "white"
           }
          },
          "shapedefaults": {
           "line": {
            "color": "#2a3f5f"
           }
          },
          "ternary": {
           "aaxis": {
            "gridcolor": "white",
            "linecolor": "white",
            "ticks": ""
           },
           "baxis": {
            "gridcolor": "white",
            "linecolor": "white",
            "ticks": ""
           },
           "bgcolor": "#E5ECF6",
           "caxis": {
            "gridcolor": "white",
            "linecolor": "white",
            "ticks": ""
           }
          },
          "title": {
           "x": 0.05
          },
          "xaxis": {
           "automargin": true,
           "gridcolor": "white",
           "linecolor": "white",
           "ticks": "",
           "title": {
            "standoff": 15
           },
           "zerolinecolor": "white",
           "zerolinewidth": 2
          },
          "yaxis": {
           "automargin": true,
           "gridcolor": "white",
           "linecolor": "white",
           "ticks": "",
           "title": {
            "standoff": 15
           },
           "zerolinecolor": "white",
           "zerolinewidth": 2
          }
         }
        },
        "title": {
         "text": "Top 100 Institutions: Number of Publications VS Number of Authors"
        },
        "xaxis": {
         "anchor": "y",
         "autorange": true,
         "domain": [
          0,
          1
         ],
         "range": [
          2290,
          2292
         ],
         "title": {
          "text": "tot_affiliations"
         },
         "type": "linear"
        },
        "yaxis": {
         "anchor": "x",
         "autorange": true,
         "domain": [
          0,
          1
         ],
         "range": [
          369,
          371
         ],
         "title": {
          "text": "tot_pubs"
         },
         "type": "linear"
        }
       }
      },
      "image/png": "[encoded data removed]",
      "text/html": [
       "<div>                            <div id=\"88eb34b5-4403-4d1c-a667-8526ceeaf001\" class=\"plotly-graph-div\" style=\"height:525px; width:100%;\"></div>            <script type=\"text/javascript\">                require([\"plotly\"], function(Plotly) {                    window.PLOTLYENV=window.PLOTLYENV || {};                                    if (document.getElementById(\"88eb34b5-4403-4d1c-a667-8526ceeaf001\")) {                    Plotly.newPlot(                        \"88eb34b5-4403-4d1c-a667-8526ceeaf001\",                        [{\"customdata\":[[\"grid.38142.3c\",\"Harvard University\",\"Cambridge\",\"United States\"],[\"grid.38142.3c\",\"Harvard University\",\"Cambridge\",\"United States\"],[\"grid.38142.3c\",\"Harvard University\",\"Cambridge\",\"United States\"],[\"grid.38142.3c\",\"Harvard University\",\"Cambridge\",\"United States\"],[\"grid.38142.3c\",\"Harvard University\",\"Cambridge\",\"United States\"],[\"grid.38142.3c\",\"Harvard University\",\"Cambridge\",\"United States\"],[\"grid.38142.3c\",\"Harvard University\",\"Cambridge\",\"United States\"],[\"grid.38142.3c\",\"Harvard University\",\"Cambridge\",\"United States\"],[\"grid.38142.3c\",\"Harvard University\",\"Cambridge\",\"United States\"],[\"grid.38142.3c\",\"Harvard University\",\"Cambridge\",\"United States\"],[\"grid.38142.3c\",\"Harvard University\",\"Cambridge\",\"United States\"],[\"grid.38142.3c\",\"Harvard University\",\"Cambridge\",\"United States\"],[\"grid.38142.3c\",\"Harvard University\",\"Cambridge\",\"United States\"],[\"grid.38142.3c\",\"Harvard University\",\"Cambridge\",\"United States\"],[\"grid.38142.3c\",\"Harvard University\",\"Cambridge\",\"United States\"],[\"grid.38142.3c\",\"Harvard University\",\"Cambridge\",\"United States\"],[\"grid.38142.3c\",\"Harvard University\",\"Cambridge\",\"United States\"],[\"grid.38142.3c\",\"Harvard University\",\"Cambridge\",\"United States\"],[\"grid.38142.3c\",\"Harvard University\",\"Cambridge\",\"United States\"],[\"grid.38142.3c\",\"Harvard University\",\"Cambridge\",\"United States\"],[\"grid.38142.3c\",\"Harvard University\",\"Cambridge\",\"United States\"],[\"grid.38142.3c\",\"Harvard University\",\"Cambridge\",\"United States\"],[\"grid.38142.3c\",\"Harvard University\",\"Cambridge\",\"United States\"],[\"grid.38142.3c\",\"Harvard University\",\"Cambridge\",\"United States\"],[\"grid.38142.3c\",\"Harvard University\",\"Cambridge\",\"United States\"],[\"grid.38142.3c\",\"Harvard University\",\"Cambridge\",\"United States\"],[\"grid.38142.3c\",\"Harvard University\",\"Cambridge\",\"United States\"],[\"grid.38142.3c\",\"Harvard University\",\"Cambridge\",\"United States\"],[\"grid.38142.3c\",\"Harvard University\",\"Cambridge\",\"United States\"],[\"grid.38142.3c\",\"Harvard University\",\"Cambridge\",\"United States\"],[\"grid.38142.3c\",\"Harvard University\",\"Cambridge\",\"United States\"],[\"grid.38142.3c\",\"Harvard University\",\"Cambridge\",\"United States\"],[\"grid.38142.3c\",\"Harvard University\",\"Cambridge\",\"United States\"],[\"grid.38142.3c\",\"Harvard University\",\"Cambridge\",\"United States\"],[\"grid.38142.3c\",\"Harvard University\",\"Cambridge\",\"United States\"],[\"grid.38142.3c\",\"Harvard University\",\"Cambridge\",\"United States\"],[\"grid.38142.3c\",\"Harvard University\",\"Cambridge\",\"United States\"],[\"grid.38142.3c\",\"Harvard University\",\"Cambridge\",\"United States\"],[\"grid.38142.3c\",\"Harvard University\",\"Cambridge\",\"United States\"],[\"grid.38142.3c\",\"Harvard University\",\"Cambridge\",\"United States\"],[\"grid.38142.3c\",\"Harvard University\",\"Cambridge\",\"United States\"],[\"grid.38142.3c\",\"Harvard University\",\"Cambridge\",\"United States\"],[\"grid.38142.3c\",\"Harvard University\",\"Cambridge\",\"United States\"],[\"grid.38142.3c\",\"Harvard University\",\"Cambridge\",\"United States\"],[\"grid.38142.3c\",\"Harvard University\",\"Cambridge\",\"United States\"],[\"grid.38142.3c\",\"Harvard University\",\"Cambridge\",\"United States\"],[\"grid.38142.3c\",\"Harvard University\",\"Cambridge\",\"United States\"],[\"grid.38142.3c\",\"Harvard University\",\"Cambridge\",\"United States\"],[\"grid.38142.3c\",\"Harvard University\",\"Cambridge\",\"United States\"],[\"grid.38142.3c\",\"Harvard University\",\"Cambridge\",\"United States\"],[\"grid.38142.3c\",\"Harvard University\",\"Cambridge\",\"United States\"],[\"grid.38142.3c\",\"Harvard University\",\"Cambridge\",\"United States\"],[\"grid.38142.3c\",\"Harvard University\",\"Cambridge\",\"United States\"],[\"grid.38142.3c\",\"Harvard University\",\"Cambridge\",\"United States\"],[\"grid.38142.3c\",\"Harvard University\",\"Cambridge\",\"United States\"],[\"grid.38142.3c\",\"Harvard University\",\"Cambridge\",\"United States\"],[\"grid.38142.3c\",\"Harvard University\",\"Cambridge\",\"United States\"],[\"grid.38142.3c\",\"Harvard University\",\"Cambridge\",\"United States\"],[\"grid.38142.3c\",\"Harvard University\",\"Cambridge\",\"United States\"],[\"grid.38142.3c\",\"Harvard University\",\"Cambridge\",\"United States\"],[\"grid.38142.3c\",\"Harvard University\",\"Cambridge\",\"United States\"],[\"grid.38142.3c\",\"Harvard University\",\"Cambridge\",\"United States\"],[\"grid.38142.3c\",\"Harvard University\",\"Cambridge\",\"United States\"],[\"grid.38142.3c\",\"Harvard University\",\"Cambridge\",\"United States\"],[\"grid.38142.3c\",\"Harvard University\",\"Cambridge\",\"United States\"],[\"grid.38142.3c\",\"Harvard University\",\"Cambridge\",\"United States\"],[\"grid.38142.3c\",\"Harvard University\",\"Cambridge\",\"United States\"],[\"grid.38142.3c\",\"Harvard University\",\"Cambridge\",\"United States\"],[\"grid.38142.3c\",\"Harvard University\",\"Cambridge\",\"United States\"],[\"grid.38142.3c\",\"Harvard University\",\"Cambridge\",\"United States\"],[\"grid.38142.3c\",\"Harvard University\",\"Cambridge\",\"United States\"],[\"grid.38142.3c\",\"Harvard University\",\"Cambridge\",\"United States\"],[\"grid.38142.3c\",\"Harvard University\",\"Cambridge\",\"United States\"],[\"grid.38142.3c\",\"Harvard University\",\"Cambridge\",\"United States\"],[\"grid.38142.3c\",\"Harvard University\",\"Cambridge\",\"United States\"],[\"grid.38142.3c\",\"Harvard University\",\"Cambridge\",\"United States\"],[\"grid.38142.3c\",\"Harvard University\",\"Cambridge\",\"United States\"],[\"grid.38142.3c\",\"Harvard University\",\"Cambridge\",\"United States\"],[\"grid.38142.3c\",\"Harvard University\",\"Cambridge\",\"United States\"],[\"grid.38142.3c\",\"Harvard University\",\"Cambridge\",\"United States\"],[\"grid.38142.3c\",\"Harvard University\",\"Cambridge\",\"United States\"],[\"grid.38142.3c\",\"Harvard University\",\"Cambridge\",\"United States\"],[\"grid.38142.3c\",\"Harvard University\",\"Cambridge\",\"United States\"],[\"grid.38142.3c\",\"Harvard University\",\"Cambridge\",\"United States\"],[\"grid.38142.3c\",\"Harvard University\",\"Cambridge\",\"United States\"],[\"grid.38142.3c\",\"Harvard University\",\"Cambridge\",\"United States\"],[\"grid.38142.3c\",\"Harvard University\",\"Cambridge\",\"United States\"],[\"grid.38142.3c\",\"Harvard University\",\"Cambridge\",\"United States\"],[\"grid.38142.3c\",\"Harvard University\",\"Cambridge\",\"United States\"],[\"grid.38142.3c\",\"Harvard University\",\"Cambridge\",\"United States\"],[\"grid.38142.3c\",\"Harvard University\",\"Cambridge\",\"United States\"],[\"grid.38142.3c\",\"Harvard University\",\"Cambridge\",\"United States\"],[\"grid.38142.3c\",\"Harvard University\",\"Cambridge\",\"United States\"],[\"grid.38142.3c\",\"Harvard University\",\"Cambridge\",\"United States\"],[\"grid.38142.3c\",\"Harvard University\",\"Cambridge\",\"United States\"],[\"grid.38142.3c\",\"Harvard University\",\"Cambridge\",\"United States\"],[\"grid.38142.3c\",\"Harvard University\",\"Cambridge\",\"United States\"],[\"grid.38142.3c\",\"Harvard University\",\"Cambridge\",\"United States\"],[\"grid.38142.3c\",\"Harvard University\",\"Cambridge\",\"United States\"],[\"grid.38142.3c\",\"Harvard University\",\"Cambridge\",\"United States\"]],\"hovertemplate\":\"<b>%{hovertext}</b><br><br>aff_country=%{customdata[3]}<br>tot_affiliations=%{x}<br>tot_pubs=%{y}<br>aff_id=%{customdata[0]}<br>aff_name=%{customdata[1]}<br>aff_city=%{customdata[2]}<extra></extra>\",\"hovertext\":[\"Harvard University\",\"Harvard University\",\"Harvard University\",\"Harvard University\",\"Harvard University\",\"Harvard University\",\"Harvard University\",\"Harvard University\",\"Harvard University\",\"Harvard University\",\"Harvard University\",\"Harvard University\",\"Harvard University\",\"Harvard University\",\"Harvard University\",\"Harvard University\",\"Harvard University\",\"Harvard University\",\"Harvard University\",\"Harvard University\",\"Harvard University\",\"Harvard University\",\"Harvard University\",\"Harvard University\",\"Harvard University\",\"Harvard University\",\"Harvard University\",\"Harvard University\",\"Harvard University\",\"Harvard University\",\"Harvard University\",\"Harvard University\",\"Harvard University\",\"Harvard University\",\"Harvard University\",\"Harvard University\",\"Harvard University\",\"Harvard University\",\"Harvard University\",\"Harvard University\",\"Harvard University\",\"Harvard University\",\"Harvard University\",\"Harvard University\",\"Harvard University\",\"Harvard University\",\"Harvard University\",\"Harvard University\",\"Harvard University\",\"Harvard University\",\"Harvard University\",\"Harvard University\",\"Harvard University\",\"Harvard University\",\"Harvard University\",\"Harvard University\",\"Harvard University\",\"Harvard University\",\"Harvard University\",\"Harvard University\",\"Harvard University\",\"Harvard University\",\"Harvard University\",\"Harvard University\",\"Harvard University\",\"Harvard University\",\"Harvard University\",\"Harvard University\",\"Harvard University\",\"Harvard University\",\"Harvard University\",\"Harvard University\",\"Harvard University\",\"Harvard University\",\"Harvard University\",\"Harvard University\",\"Harvard University\",\"Harvard University\",\"Harvard University\",\"Harvard University\",\"Harvard University\",\"Harvard University\",\"Harvard University\",\"Harvard University\",\"Harvard University\",\"Harvard University\",\"Harvard University\",\"Harvard University\",\"Harvard University\",\"Harvard University\",\"Harvard University\",\"Harvard University\",\"Harvard University\",\"Harvard University\",\"Harvard University\",\"Harvard University\",\"Harvard University\",\"Harvard University\",\"Harvard University\",\"Harvard University\"],\"legendgroup\":\"United States\",\"marker\":{\"color\":\"#636efa\",\"symbol\":\"circle\"},\"mode\":\"markers\",\"name\":\"United States\",\"orientation\":\"v\",\"showlegend\":true,\"x\":[2291,2291,2291,2291,2291,2291,2291,2291,2291,2291,2291,2291,2291,2291,2291,2291,2291,2291,2291,2291,2291,2291,2291,2291,2291,2291,2291,2291,2291,2291,2291,2291,2291,2291,2291,2291,2291,2291,2291,2291,2291,2291,2291,2291,2291,2291,2291,2291,2291,2291,2291,2291,2291,2291,2291,2291,2291,2291,2291,2291,2291,2291,2291,2291,2291,2291,2291,2291,2291,2291,2291,2291,2291,2291,2291,2291,2291,2291,2291,2291,2291,2291,2291,2291,2291,2291,2291,2291,2291,2291,2291,2291,2291,2291,2291,2291,2291,2291,2291,2291],\"xaxis\":\"x\",\"y\":[370,370,370,370,370,370,370,370,370,370,370,370,370,370,370,370,370,370,370,370,370,370,370,370,370,370,370,370,370,370,370,370,370,370,370,370,370,370,370,370,370,370,370,370,370,370,370,370,370,370,370,370,370,370,370,370,370,370,370,370,370,370,370,370,370,370,370,370,370,370,370,370,370,370,370,370,370,370,370,370,370,370,370,370,370,370,370,370,370,370,370,370,370,370,370,370,370,370,370,370],\"yaxis\":\"y\",\"type\":\"scatter\"}],                        {\"template\":{\"data\":{\"bar\":[{\"error_x\":{\"color\":\"#2a3f5f\"},\"error_y\":{\"color\":\"#2a3f5f\"},\"marker\":{\"line\":{\"color\":\"#E5ECF6\",\"width\":0.5},\"pattern\":{\"fillmode\":\"overlay\",\"size\":10,\"solidity\":0.2}},\"type\":\"bar\"}],\"barpolar\":[{\"marker\":{\"line\":{\"color\":\"#E5ECF6\",\"width\":0.5},\"pattern\":{\"fillmode\":\"overlay\",\"size\":10,\"solidity\":0.2}},\"type\":\"barpolar\"}],\"carpet\":[{\"aaxis\":{\"endlinecolor\":\"#2a3f5f\",\"gridcolor\":\"white\",\"linecolor\":\"white\",\"minorgridcolor\":\"white\",\"startlinecolor\":\"#2a3f5f\"},\"baxis\":{\"endlinecolor\":\"#2a3f5f\",\"gridcolor\":\"white\",\"linecolor\":\"white\",\"minorgridcolor\":\"white\",\"startlinecolor\":\"#2a3f5f\"},\"type\":\"carpet\"}],\"choropleth\":[{\"colorbar\":{\"outlinewidth\":0,\"ticks\":\"\"},\"type\":\"choropleth\"}],\"contour\":[{\"colorbar\":{\"outlinewidth\":0,\"ticks\":\"\"},\"colorscale\":[[0.0,\"#0d0887\"],[0.1111111111111111,\"#46039f\"],[0.2222222222222222,\"#7201a8\"],[0.3333333333333333,\"#9c179e\"],[0.4444444444444444,\"#bd3786\"],[0.5555555555555556,\"#d8576b\"],[0.6666666666666666,\"#ed7953\"],[0.7777777777777778,\"#fb9f3a\"],[0.8888888888888888,\"#fdca26\"],[1.0,\"#f0f921\"]],\"type\":\"contour\"}],\"contourcarpet\":[{\"colorbar\":{\"outlinewidth\":0,\"ticks\":\"\"},\"type\":\"contourcarpet\"}],\"heatmap\":[{\"colorbar\":{\"outlinewidth\":0,\"ticks\":\"\"},\"colorscale\":[[0.0,\"#0d0887\"],[0.1111111111111111,\"#46039f\"],[0.2222222222222222,\"#7201a8\"],[0.3333333333333333,\"#9c179e\"],[0.4444444444444444,\"#bd3786\"],[0.5555555555555556,\"#d8576b\"],[0.6666666666666666,\"#ed7953\"],[0.7777777777777778,\"#fb9f3a\"],[0.8888888888888888,\"#fdca26\"],[1.0,\"#f0f921\"]],\"type\":\"heatmap\"}],\"heatmapgl\":[{\"colorbar\":{\"outlinewidth\":0,\"ticks\":\"\"},\"colorscale\":[[0.0,\"#0d0887\"],[0.1111111111111111,\"#46039f\"],[0.2222222222222222,\"#7201a8\"],[0.3333333333333333,\"#9c179e\"],[0.4444444444444444,\"#bd3786\"],[0.5555555555555556,\"#d8576b\"],[0.6666666666666666,\"#ed7953\"],[0.7777777777777778,\"#fb9f3a\"],[0.8888888888888888,\"#fdca26\"],[1.0,\"#f0f921\"]],\"type\":\"heatmapgl\"}],\"histogram\":[{\"marker\":{\"pattern\":{\"fillmode\":\"overlay\",\"size\":10,\"solidity\":0.2}},\"type\":\"histogram\"}],\"histogram2d\":[{\"colorbar\":{\"outlinewidth\":0,\"ticks\":\"\"},\"colorscale\":[[0.0,\"#0d0887\"],[0.1111111111111111,\"#46039f\"],[0.2222222222222222,\"#7201a8\"],[0.3333333333333333,\"#9c179e\"],[0.4444444444444444,\"#bd3786\"],[0.5555555555555556,\"#d8576b\"],[0.6666666666666666,\"#ed7953\"],[0.7777777777777778,\"#fb9f3a\"],[0.8888888888888888,\"#fdca26\"],[1.0,\"#f0f921\"]],\"type\":\"histogram2d\"}],\"histogram2dcontour\":[{\"colorbar\":{\"outlinewidth\":0,\"ticks\":\"\"},\"colorscale\":[[0.0,\"#0d0887\"],[0.1111111111111111,\"#46039f\"],[0.2222222222222222,\"#7201a8\"],[0.3333333333333333,\"#9c179e\"],[0.4444444444444444,\"#bd3786\"],[0.5555555555555556,\"#d8576b\"],[0.6666666666666666,\"#ed7953\"],[0.7777777777777778,\"#fb9f3a\"],[0.8888888888888888,\"#fdca26\"],[1.0,\"#f0f921\"]],\"type\":\"histogram2dcontour\"}],\"mesh3d\":[{\"colorbar\":{\"outlinewidth\":0,\"ticks\":\"\"},\"type\":\"mesh3d\"}],\"parcoords\":[{\"line\":{\"colorbar\":{\"outlinewidth\":0,\"ticks\":\"\"}},\"type\":\"parcoords\"}],\"pie\":[{\"automargin\":true,\"type\":\"pie\"}],\"scatter\":[{\"marker\":{\"colorbar\":{\"outlinewidth\":0,\"ticks\":\"\"}},\"type\":\"scatter\"}],\"scatter3d\":[{\"line\":{\"colorbar\":{\"outlinewidth\":0,\"ticks\":\"\"}},\"marker\":{\"colorbar\":{\"outlinewidth\":0,\"ticks\":\"\"}},\"type\":\"scatter3d\"}],\"scattercarpet\":[{\"marker\":{\"colorbar\":{\"outlinewidth\":0,\"ticks\":\"\"}},\"type\":\"scattercarpet\"}],\"scattergeo\":[{\"marker\":{\"colorbar\":{\"outlinewidth\":0,\"ticks\":\"\"}},\"type\":\"scattergeo\"}],\"scattergl\":[{\"marker\":{\"colorbar\":{\"outlinewidth\":0,\"ticks\":\"\"}},\"type\":\"scattergl\"}],\"scattermapbox\":[{\"marker\":{\"colorbar\":{\"outlinewidth\":0,\"ticks\":\"\"}},\"type\":\"scattermapbox\"}],\"scatterpolar\":[{\"marker\":{\"colorbar\":{\"outlinewidth\":0,\"ticks\":\"\"}},\"type\":\"scatterpolar\"}],\"scatterpolargl\":[{\"marker\":{\"colorbar\":{\"outlinewidth\":0,\"ticks\":\"\"}},\"type\":\"scatterpolargl\"}],\"scatterternary\":[{\"marker\":{\"colorbar\":{\"outlinewidth\":0,\"ticks\":\"\"}},\"type\":\"scatterternary\"}],\"surface\":[{\"colorbar\":{\"outlinewidth\":0,\"ticks\":\"\"},\"colorscale\":[[0.0,\"#0d0887\"],[0.1111111111111111,\"#46039f\"],[0.2222222222222222,\"#7201a8\"],[0.3333333333333333,\"#9c179e\"],[0.4444444444444444,\"#bd3786\"],[0.5555555555555556,\"#d8576b\"],[0.6666666666666666,\"#ed7953\"],[0.7777777777777778,\"#fb9f3a\"],[0.8888888888888888,\"#fdca26\"],[1.0,\"#f0f921\"]],\"type\":\"surface\"}],\"table\":[{\"cells\":{\"fill\":{\"color\":\"#EBF0F8\"},\"line\":{\"color\":\"white\"}},\"header\":{\"fill\":{\"color\":\"#C8D4E3\"},\"line\":{\"color\":\"white\"}},\"type\":\"table\"}]},\"layout\":{\"annotationdefaults\":{\"arrowcolor\":\"#2a3f5f\",\"arrowhead\":0,\"arrowwidth\":1},\"autotypenumbers\":\"strict\",\"coloraxis\":{\"colorbar\":{\"outlinewidth\":0,\"ticks\":\"\"}},\"colorscale\":{\"diverging\":[[0,\"#8e0152\"],[0.1,\"#c51b7d\"],[0.2,\"#de77ae\"],[0.3,\"#f1b6da\"],[0.4,\"#fde0ef\"],[0.5,\"#f7f7f7\"],[0.6,\"#e6f5d0\"],[0.7,\"#b8e186\"],[0.8,\"#7fbc41\"],[0.9,\"#4d9221\"],[1,\"#276419\"]],\"sequential\":[[0.0,\"#0d0887\"],[0.1111111111111111,\"#46039f\"],[0.2222222222222222,\"#7201a8\"],[0.3333333333333333,\"#9c179e\"],[0.4444444444444444,\"#bd3786\"],[0.5555555555555556,\"#d8576b\"],[0.6666666666666666,\"#ed7953\"],[0.7777777777777778,\"#fb9f3a\"],[0.8888888888888888,\"#fdca26\"],[1.0,\"#f0f921\"]],\"sequentialminus\":[[0.0,\"#0d0887\"],[0.1111111111111111,\"#46039f\"],[0.2222222222222222,\"#7201a8\"],[0.3333333333333333,\"#9c179e\"],[0.4444444444444444,\"#bd3786\"],[0.5555555555555556,\"#d8576b\"],[0.6666666666666666,\"#ed7953\"],[0.7777777777777778,\"#fb9f3a\"],[0.8888888888888888,\"#fdca26\"],[1.0,\"#f0f921\"]]},\"colorway\":[\"#636efa\",\"#EF553B\",\"#00cc96\",\"#ab63fa\",\"#FFA15A\",\"#19d3f3\",\"#FF6692\",\"#B6E880\",\"#FF97FF\",\"#FECB52\"],\"font\":{\"color\":\"#2a3f5f\"},\"geo\":{\"bgcolor\":\"white\",\"lakecolor\":\"white\",\"landcolor\":\"#E5ECF6\",\"showlakes\":true,\"showland\":true,\"subunitcolor\":\"white\"},\"hoverlabel\":{\"align\":\"left\"},\"hovermode\":\"closest\",\"mapbox\":{\"style\":\"light\"},\"paper_bgcolor\":\"white\",\"plot_bgcolor\":\"#E5ECF6\",\"polar\":{\"angularaxis\":{\"gridcolor\":\"white\",\"linecolor\":\"white\",\"ticks\":\"\"},\"bgcolor\":\"#E5ECF6\",\"radialaxis\":{\"gridcolor\":\"white\",\"linecolor\":\"white\",\"ticks\":\"\"}},\"scene\":{\"xaxis\":{\"backgroundcolor\":\"#E5ECF6\",\"gridcolor\":\"white\",\"gridwidth\":2,\"linecolor\":\"white\",\"showbackground\":true,\"ticks\":\"\",\"zerolinecolor\":\"white\"},\"yaxis\":{\"backgroundcolor\":\"#E5ECF6\",\"gridcolor\":\"white\",\"gridwidth\":2,\"linecolor\":\"white\",\"showbackground\":true,\"ticks\":\"\",\"zerolinecolor\":\"white\"},\"zaxis\":{\"backgroundcolor\":\"#E5ECF6\",\"gridcolor\":\"white\",\"gridwidth\":2,\"linecolor\":\"white\",\"showbackground\":true,\"ticks\":\"\",\"zerolinecolor\":\"white\"}},\"shapedefaults\":{\"line\":{\"color\":\"#2a3f5f\"}},\"ternary\":{\"aaxis\":{\"gridcolor\":\"white\",\"linecolor\":\"white\",\"ticks\":\"\"},\"baxis\":{\"gridcolor\":\"white\",\"linecolor\":\"white\",\"ticks\":\"\"},\"bgcolor\":\"#E5ECF6\",\"caxis\":{\"gridcolor\":\"white\",\"linecolor\":\"white\",\"ticks\":\"\"}},\"title\":{\"x\":0.05},\"xaxis\":{\"automargin\":true,\"gridcolor\":\"white\",\"linecolor\":\"white\",\"ticks\":\"\",\"title\":{\"standoff\":15},\"zerolinecolor\":\"white\",\"zerolinewidth\":2},\"yaxis\":{\"automargin\":true,\"gridcolor\":\"white\",\"linecolor\":\"white\",\"ticks\":\"\",\"title\":{\"standoff\":15},\"zerolinecolor\":\"white\",\"zerolinewidth\":2}}},\"xaxis\":{\"anchor\":\"y\",\"domain\":[0.0,1.0],\"title\":{\"text\":\"tot_affiliations\"}},\"yaxis\":{\"anchor\":\"x\",\"domain\":[0.0,1.0],\"title\":{\"text\":\"tot_pubs\"}},\"legend\":{\"title\":{\"text\":\"aff_country\"},\"tracegroupgap\":0},\"title\":{\"text\":\"Top 100 Institutions: Number of Publications VS Number of Authors\"}},                        {\"responsive\": true}                    ).then(function(){\n",
       "                            \n",
       "var gd = document.getElementById('88eb34b5-4403-4d1c-a667-8526ceeaf001');\n",
       "var x = new MutationObserver(function (mutations, observer) {{\n",
       "        var display = window.getComputedStyle(gd).display;\n",
       "        if (!display || display === 'none') {{\n",
       "            console.log([gd, 'removed!']);\n",
       "            Plotly.purge(gd);\n",
       "            observer.disconnect();\n",
       "        }}\n",
       "}});\n",
       "\n",
       "// Listen for the removal of the full notebook cells\n",
       "var notebookContainer = gd.closest('#notebook-container');\n",
       "if (notebookContainer) {{\n",
       "    x.observe(notebookContainer, {childList: true});\n",
       "}}\n",
       "\n",
       "// Listen for the clearing of the current output cell\n",
       "var outputEl = gd.closest('.output');\n",
       "if (outputEl) {{\n",
       "    x.observe(outputEl, {childList: true});\n",
       "}}\n",
       "\n",
       "                        })                };                });            </script>        </div>"
      ]
     },
     "metadata": {},
     "output_type": "display_data"
    }
   ],
   "source": [
    "treshold = 100\n",
    "\n",
    "px.scatter(gridaffiliations[:treshold], \n",
    "           x=\"tot_affiliations\", y=\"tot_pubs\", \n",
    "           color=\"aff_country\",\n",
    "           hover_name=\"aff_name\", \n",
    "           hover_data=['aff_id', 'aff_name', 'aff_city', 'aff_country', 'tot_affiliations', 'tot_pubs'], \n",
    "           title=f\"Top {treshold} Institutions: Number of Publications VS Number of Authors\")"
   ]
  }
 ],
 "metadata": {
  "colab": {
   "collapsed_sections": [],
   "name": "4-Institutions for a journal.ipynb",
   "provenance": []
  },
  "kernelspec": {
   "display_name": "Python 3 (ipykernel)",
   "language": "python",
   "name": "python3"
  },
  "language_info": {
   "codemirror_mode": {
    "name": "ipython",
    "version": 3
   },
   "file_extension": ".py",
   "mimetype": "text/x-python",
   "name": "python",
   "nbconvert_exporter": "python",
   "pygments_lexer": "ipython3",
   "version": "3.9.9"
  }
 },
 "nbformat": 4,
 "nbformat_minor": 4
}
