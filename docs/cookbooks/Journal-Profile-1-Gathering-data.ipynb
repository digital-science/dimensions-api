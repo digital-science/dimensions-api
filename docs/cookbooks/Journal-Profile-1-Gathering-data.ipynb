{
 "cells": [
  {
   "cell_type": "markdown",
   "metadata": {
    "Collapsed": "false",
    "colab_type": "text",
    "id": "Pesu5qAD6J7-"
   },
   "source": [
    "# Journal Profiling Part 1: Getting the Data\n",
    "\n",
    "This Python notebook shows how to use the [Dimensions Analytics API](https://www.dimensions.ai/dimensions-apis/) to extract [publications data ](https://docs.dimensions.ai/dsl/datasource-publications.html) for a specific journal, as well its authors and affiliations.\n",
    "\n",
    "This tutorial is the first of a series that uses the data extracted in order to generate a 'journal profile' report. See the [API Lab homepage](https://api-lab.dimensions.ai/) for the other tutorials in this series.\n",
    "\n",
    "\n",
    "In this notebook we are going to:\n",
    "\n",
    "* extract all publications data for a given journal\n",
    "* have a quick look at the publications' authors and affiliations \n",
    "* review how many authors have been disambiguated with a Dimensions Researcher ID\n",
    "* produce a dataset of non-disambiguated authors that can be used for manual disambiguation "
   ]
  },
  {
   "cell_type": "code",
   "execution_count": 17,
   "metadata": {},
   "outputs": [
    {
     "name": "stdout",
     "output_type": "stream",
     "text": [
      "==\n",
      "CHANGELOG\n",
      "This notebook was last run on Jan 24, 2022\n",
      "==\n"
     ]
    }
   ],
   "source": [
    "import datetime\n",
    "print(\"==\\nCHANGELOG\\nThis notebook was last run on %s\\n==\" % datetime.date.today().strftime('%b %d, %Y'))"
   ]
  },
  {
   "cell_type": "markdown",
   "metadata": {
    "Collapsed": "false",
    "colab_type": "text",
    "id": "hMaQlB7DG8Vw"
   },
   "source": [
    "## Prerequisites\n",
    "\n",
    "This notebook assumes you have installed the [Dimcli](https://pypi.org/project/dimcli/) library and are familiar with the ['Getting Started' tutorial](https://api-lab.dimensions.ai/cookbooks/1-getting-started/1-Using-the-Dimcli-library-to-query-the-API.html).\n"
   ]
  },
  {
   "cell_type": "code",
   "execution_count": 1,
   "metadata": {
    "Collapsed": "false"
   },
   "outputs": [
    {
     "data": {
      "text/html": [
       "        <script type=\"text/javascript\">\n",
       "        window.PlotlyConfig = {MathJaxConfig: 'local'};\n",
       "        if (window.MathJax) {MathJax.Hub.Config({SVG: {font: \"STIX-Web\"}});}\n",
       "        if (typeof require !== 'undefined') {\n",
       "        require.undef(\"plotly\");\n",
       "        requirejs.config({\n",
       "            paths: {\n",
       "                'plotly': ['https://cdn.plot.ly/plotly-2.8.3.min']\n",
       "            }\n",
       "        });\n",
       "        require(['plotly'], function(Plotly) {\n",
       "            window._Plotly = Plotly;\n",
       "        });\n",
       "        }\n",
       "        </script>\n",
       "        "
      ]
     },
     "metadata": {},
     "output_type": "display_data"
    },
    {
     "name": "stderr",
     "output_type": "stream",
     "text": [
      "\u001b[2mSearching config file credentials for 'https://app.dimensions.ai' endpoint..\u001b[0m\n"
     ]
    },
    {
     "name": "stdout",
     "output_type": "stream",
     "text": [
      "==\n",
      "Logging in..\n",
      "\u001b[2mDimcli - Dimensions API Client (v0.9.6)\u001b[0m\n",
      "\u001b[2mConnected to: <https://app.dimensions.ai/api/dsl> - DSL v2.0\u001b[0m\n",
      "\u001b[2mMethod: dsl.ini file\u001b[0m\n"
     ]
    }
   ],
   "source": [
    "!pip install dimcli plotly tqdm -U --quiet \n",
    "\n",
    "import dimcli\n",
    "from dimcli.utils import *\n",
    "import os, sys, time, json\n",
    "from tqdm.notebook import tqdm as progress\n",
    "import pandas as pd\n",
    "import plotly.express as px\n",
    "if not 'google.colab' in sys.modules:\n",
    "  # make js dependecies local / needed by html exports\n",
    "  from plotly.offline import init_notebook_mode\n",
    "  init_notebook_mode(connected=True)\n",
    "#\n",
    "\n",
    "print(\"==\\nLogging in..\")\n",
    "# https://digital-science.github.io/dimcli/getting-started.html#authentication\n",
    "ENDPOINT = \"https://app.dimensions.ai\"\n",
    "if 'google.colab' in sys.modules:\n",
    "  import getpass\n",
    "  KEY = getpass.getpass(prompt='API Key: ')  \n",
    "  dimcli.login(key=KEY, endpoint=ENDPOINT)\n",
    "else:\n",
    "  KEY = \"\"\n",
    "  dimcli.login(key=KEY, endpoint=ENDPOINT)\n",
    "dsl = dimcli.Dsl()"
   ]
  },
  {
   "cell_type": "markdown",
   "metadata": {
    "Collapsed": "false"
   },
   "source": [
    "Some helper functions to store the data we are going to extract"
   ]
  },
  {
   "cell_type": "code",
   "execution_count": 2,
   "metadata": {
    "Collapsed": "false",
    "colab": {
     "base_uri": "https://localhost:8080/",
     "height": 85
    },
    "colab_type": "code",
    "executionInfo": {
     "elapsed": 22421,
     "status": "ok",
     "timestamp": 1590004308752,
     "user": {
      "displayName": "Michele Pasin",
      "photoUrl": "https://lh3.googleusercontent.com/a-/AOh14GiYfmLTPbeMuYDDrETLbTVXTXnfVr9f7eBtkmR73A=s64",
      "userId": "10309320684375994511"
     },
     "user_tz": -60
    },
    "id": "zN1l7rvMo6Ds",
    "outputId": "cf4253c6-272a-4186-8461-72db2a225670"
   },
   "outputs": [],
   "source": [
    "# create output data folder\n",
    "FOLDER_NAME = \"journal-profile-data\"\n",
    "if not(os.path.exists(FOLDER_NAME)):\n",
    "    os.mkdir(FOLDER_NAME)\n",
    "    \n",
    "def save(df,filename_dot_csv):\n",
    "    df.to_csv(FOLDER_NAME+\"/\"+filename_dot_csv, index=False)"
   ]
  },
  {
   "cell_type": "markdown",
   "metadata": {
    "Collapsed": "false",
    "colab_type": "text",
    "id": "Z1jwOf1F64mr"
   },
   "source": [
    "## Selecting a Journal and Extracting All Publications Metadata"
   ]
  },
  {
   "cell_type": "code",
   "execution_count": 3,
   "metadata": {
    "Collapsed": "false",
    "cellView": "form",
    "colab": {
     "base_uri": "https://localhost:8080/",
     "height": 238
    },
    "colab_type": "code",
    "executionInfo": {
     "elapsed": 30263,
     "status": "ok",
     "timestamp": 1590004324419,
     "user": {
      "displayName": "Michele Pasin",
      "photoUrl": "https://lh3.googleusercontent.com/a-/AOh14GiYfmLTPbeMuYDDrETLbTVXTXnfVr9f7eBtkmR73A=s64",
      "userId": "10309320684375994511"
     },
     "user_tz": -60
    },
    "id": "Ku0GkHfE7JI7",
    "outputId": "23e41dd0-af76-4150-9a60-17da1bd1746e"
   },
   "outputs": [
    {
     "name": "stderr",
     "output_type": "stream",
     "text": [
      "Starting iteration with limit=500 skip=0 ...\u001b[0m\n"
     ]
    },
    {
     "name": "stdout",
     "output_type": "stream",
     "text": [
      "DSL Query:\n",
      "----\n",
      " search publications where \n",
      "    journal.title=\"Nature Genetics\" and \n",
      "    year>=2015 \n",
      "    return publications[id+title+doi+year+authors+type+pages+journal+issue+volume+altmetric+times_cited] \n",
      "----\n"
     ]
    },
    {
     "name": "stderr",
     "output_type": "stream",
     "text": [
      "0-500 / 1820 (4.64s)\u001b[0m\n",
      "500-1000 / 1820 (6.96s)\u001b[0m\n",
      "1000-1500 / 1820 (10.18s)\u001b[0m\n",
      "1500-1820 / 1820 (2.45s)\u001b[0m\n",
      "===\n",
      "Records extracted: 1820\u001b[0m\n"
     ]
    }
   ],
   "source": [
    "#@title Select a journal from the dropdown\n",
    "#@markdown If the journal isn't there, you can try type in the exact name instead.\n",
    "\n",
    "journal_title = \"Nature Genetics\" #@param ['Nature', 'Nature Communications', 'Nature Biotechnology', 'Nature Medicine', 'Nature Genetics', 'Nature Neuroscience', 'Nature Structural & Molecular Biology', 'Nature Methods', 'Nature Cell Biology', 'Nature Immunology', 'Nature Reviews Drug Discovery', 'Nature Materials', 'Nature Physics', 'Nature Reviews Neuroscience', 'Nature Nanotechnology', 'Nature Reviews Genetics', 'Nature Reviews Urology', 'Nature Reviews Molecular Cell Biology', 'Nature Precedings', 'Nature Reviews Cancer', 'Nature Photonics', 'Nature Reviews Immunology', 'Nature Reviews Cardiology', 'Nature Reviews Gastroenterology & Hepatology', 'Nature Reviews Clinical Oncology', 'Nature Reviews Endocrinology', 'Nature Reviews Neurology', 'Nature Chemical Biology', 'Nature Reviews Microbiology', 'Nature Geoscience', 'Nature Reviews Rheumatology', 'Nature Climate Change', 'Nature Reviews Nephrology', 'Nature Chemistry', 'Nature Digest', 'Nature Protocols', 'Nature Middle East', 'Nature India', 'Nature China', 'Nature Plants', 'Nature Microbiology', 'Nature Ecology & Evolution', 'Nature Astronomy', 'Nature Energy', 'Nature Human Behaviour', 'AfCS-Nature Molecule Pages', 'Human Nature', 'Nature Reviews Disease Primers', 'Nature Biomedical Engineering', 'Nature Reports Stem Cells', 'Nature Reviews Materials', 'Nature Sustainability', 'Nature Catalysis', 'Nature Electronics', 'Nature Reviews Chemistry', 'Nature Metabolism', 'Nature Reviews Physics', 'Nature Machine Intelligence', 'NCI Nature Pathway Interaction Database', 'Nature Reports: Climate Change'] {allow-input: true}\n",
    "start_year = 2015  #@param {type: \"number\"}\n",
    "#@markdown ---\n",
    "\n",
    "# PS \n",
    "# To get titles from the API one can do this:\n",
    "# > %dsldf search publications where journal.title~\"Nature\" and publisher=\"Springer Nature\" return journal limit 100\n",
    "# > \", \".join([f\"'{x}'\" for x in list(dsl_last_results.title)]) \n",
    "#\n",
    "\n",
    "q_template = \"\"\"search publications where \n",
    "    journal.title=\"{}\" and \n",
    "    year>={} \n",
    "    return publications[id+title+doi+year+authors+type+pages+journal+issue+volume+altmetric+times_cited]\"\"\"\n",
    "q = q_template.format(journal_title, start_year)\n",
    "print(\"DSL Query:\\n----\\n\", q, \"\\n----\")\n",
    "pubs = dsl.query_iterative(q.format(journal_title, start_year), limit=500)\n"
   ]
  },
  {
   "cell_type": "markdown",
   "metadata": {
    "Collapsed": "false",
    "colab_type": "text",
    "id": "FFT3DayHo6Dy"
   },
   "source": [
    "Save the data as a CSV file in case we want to reuse it later"
   ]
  },
  {
   "cell_type": "code",
   "execution_count": 4,
   "metadata": {
    "Collapsed": "false",
    "colab": {
     "base_uri": "https://localhost:8080/",
     "height": 1946
    },
    "colab_type": "code",
    "executionInfo": {
     "elapsed": 3101,
     "status": "ok",
     "timestamp": 1590004329997,
     "user": {
      "displayName": "Michele Pasin",
      "photoUrl": "https://lh3.googleusercontent.com/a-/AOh14GiYfmLTPbeMuYDDrETLbTVXTXnfVr9f7eBtkmR73A=s64",
      "userId": "10309320684375994511"
     },
     "user_tz": -60
    },
    "id": "xnwSEydio6Dy",
    "outputId": "6cde27d6-8c9c-4b5c-8544-7f3871ea390d"
   },
   "outputs": [
    {
     "data": {
      "text/html": [
       "<div>\n",
       "<style scoped>\n",
       "    .dataframe tbody tr th:only-of-type {\n",
       "        vertical-align: middle;\n",
       "    }\n",
       "\n",
       "    .dataframe tbody tr th {\n",
       "        vertical-align: top;\n",
       "    }\n",
       "\n",
       "    .dataframe thead th {\n",
       "        text-align: right;\n",
       "    }\n",
       "</style>\n",
       "<table border=\"1\" class=\"dataframe\">\n",
       "  <thead>\n",
       "    <tr style=\"text-align: right;\">\n",
       "      <th></th>\n",
       "      <th>altmetric</th>\n",
       "      <th>authors</th>\n",
       "      <th>doi</th>\n",
       "      <th>id</th>\n",
       "      <th>pages</th>\n",
       "      <th>times_cited</th>\n",
       "      <th>title</th>\n",
       "      <th>type</th>\n",
       "      <th>year</th>\n",
       "      <th>journal.id</th>\n",
       "      <th>journal.title</th>\n",
       "      <th>issue</th>\n",
       "      <th>volume</th>\n",
       "    </tr>\n",
       "  </thead>\n",
       "  <tbody>\n",
       "    <tr>\n",
       "      <th>0</th>\n",
       "      <td>28.0</td>\n",
       "      <td>[{'affiliations': [{'city': 'New York', 'city_...</td>\n",
       "      <td>10.1038/s41588-021-00987-9</td>\n",
       "      <td>pub.1144816179</td>\n",
       "      <td>1-9</td>\n",
       "      <td>0</td>\n",
       "      <td>Multi-ancestry eQTL meta-analysis of human bra...</td>\n",
       "      <td>article</td>\n",
       "      <td>2022</td>\n",
       "      <td>jour.1103138</td>\n",
       "      <td>Nature Genetics</td>\n",
       "      <td>NaN</td>\n",
       "      <td>NaN</td>\n",
       "    </tr>\n",
       "    <tr>\n",
       "      <th>1</th>\n",
       "      <td>7.0</td>\n",
       "      <td>[{'affiliations': [{'city': 'Heidelberg', 'cit...</td>\n",
       "      <td>10.1038/s41588-021-01003-w</td>\n",
       "      <td>pub.1144813674</td>\n",
       "      <td>1-2</td>\n",
       "      <td>0</td>\n",
       "      <td>Walking the LINEs hidden in the dark matter of...</td>\n",
       "      <td>article</td>\n",
       "      <td>2022</td>\n",
       "      <td>jour.1103138</td>\n",
       "      <td>Nature Genetics</td>\n",
       "      <td>NaN</td>\n",
       "      <td>NaN</td>\n",
       "    </tr>\n",
       "    <tr>\n",
       "      <th>2</th>\n",
       "      <td>1581.0</td>\n",
       "      <td>[{'affiliations': [{'city': 'Sunnyvale', 'city...</td>\n",
       "      <td>10.1038/s41588-021-00986-w</td>\n",
       "      <td>pub.1144721591</td>\n",
       "      <td>1-4</td>\n",
       "      <td>0</td>\n",
       "      <td>The UGT2A1/UGT2A2 locus is associated with COV...</td>\n",
       "      <td>article</td>\n",
       "      <td>2022</td>\n",
       "      <td>jour.1103138</td>\n",
       "      <td>Nature Genetics</td>\n",
       "      <td>NaN</td>\n",
       "      <td>NaN</td>\n",
       "    </tr>\n",
       "    <tr>\n",
       "      <th>3</th>\n",
       "      <td>79.0</td>\n",
       "      <td>[{'affiliations': [{'city': 'Milan', 'city_id'...</td>\n",
       "      <td>10.1038/s41588-021-00989-7</td>\n",
       "      <td>pub.1144719271</td>\n",
       "      <td>1-14</td>\n",
       "      <td>1</td>\n",
       "      <td>LINE1 are spliced in non-canonical transcript ...</td>\n",
       "      <td>article</td>\n",
       "      <td>2022</td>\n",
       "      <td>jour.1103138</td>\n",
       "      <td>Nature Genetics</td>\n",
       "      <td>NaN</td>\n",
       "      <td>NaN</td>\n",
       "    </tr>\n",
       "    <tr>\n",
       "      <th>4</th>\n",
       "      <td>626.0</td>\n",
       "      <td>[{'affiliations': [{'city': 'Boston', 'city_id...</td>\n",
       "      <td>10.1038/s41588-021-00996-8</td>\n",
       "      <td>pub.1144627157</td>\n",
       "      <td>1-3</td>\n",
       "      <td>0</td>\n",
       "      <td>Multi-ancestry fine mapping implicates OAS1 sp...</td>\n",
       "      <td>article</td>\n",
       "      <td>2022</td>\n",
       "      <td>jour.1103138</td>\n",
       "      <td>Nature Genetics</td>\n",
       "      <td>NaN</td>\n",
       "      <td>NaN</td>\n",
       "    </tr>\n",
       "    <tr>\n",
       "      <th>5</th>\n",
       "      <td>9.0</td>\n",
       "      <td>NaN</td>\n",
       "      <td>10.1038/s41588-021-01002-x</td>\n",
       "      <td>pub.1144610758</td>\n",
       "      <td>1-1</td>\n",
       "      <td>0</td>\n",
       "      <td>A very Mendelian year</td>\n",
       "      <td>article</td>\n",
       "      <td>2022</td>\n",
       "      <td>jour.1103138</td>\n",
       "      <td>Nature Genetics</td>\n",
       "      <td>1</td>\n",
       "      <td>54</td>\n",
       "    </tr>\n",
       "    <tr>\n",
       "      <th>6</th>\n",
       "      <td>14.0</td>\n",
       "      <td>[{'affiliations': [{'city': 'Maastricht', 'cit...</td>\n",
       "      <td>10.1038/s41588-021-00994-w</td>\n",
       "      <td>pub.1144607904</td>\n",
       "      <td>2-3</td>\n",
       "      <td>0</td>\n",
       "      <td>The regulatory network architecture of cardiom...</td>\n",
       "      <td>article</td>\n",
       "      <td>2022</td>\n",
       "      <td>jour.1103138</td>\n",
       "      <td>Nature Genetics</td>\n",
       "      <td>1</td>\n",
       "      <td>54</td>\n",
       "    </tr>\n",
       "    <tr>\n",
       "      <th>7</th>\n",
       "      <td>132.0</td>\n",
       "      <td>[{'affiliations': [{'city': 'New York', 'city_...</td>\n",
       "      <td>10.1038/s41588-021-00976-y</td>\n",
       "      <td>pub.1144471964</td>\n",
       "      <td>4-17</td>\n",
       "      <td>0</td>\n",
       "      <td>Genetic analysis of the human microglial trans...</td>\n",
       "      <td>article</td>\n",
       "      <td>2022</td>\n",
       "      <td>jour.1103138</td>\n",
       "      <td>Nature Genetics</td>\n",
       "      <td>1</td>\n",
       "      <td>54</td>\n",
       "    </tr>\n",
       "    <tr>\n",
       "      <th>8</th>\n",
       "      <td>178.0</td>\n",
       "      <td>[{'affiliations': [{'city': 'Wageningen', 'cit...</td>\n",
       "      <td>10.1038/s41588-021-00984-y</td>\n",
       "      <td>pub.1144463791</td>\n",
       "      <td>84-93</td>\n",
       "      <td>0</td>\n",
       "      <td>A PARTHENOGENESIS allele from apomictic dandel...</td>\n",
       "      <td>article</td>\n",
       "      <td>2022</td>\n",
       "      <td>jour.1103138</td>\n",
       "      <td>Nature Genetics</td>\n",
       "      <td>1</td>\n",
       "      <td>54</td>\n",
       "    </tr>\n",
       "    <tr>\n",
       "      <th>9</th>\n",
       "      <td>1.0</td>\n",
       "      <td>[{'affiliations': [{'city': 'Shanghai', 'city_...</td>\n",
       "      <td>10.1038/s41588-021-00998-6</td>\n",
       "      <td>pub.1144435478</td>\n",
       "      <td>1-1</td>\n",
       "      <td>0</td>\n",
       "      <td>Author Correction: Gain-of-function variants i...</td>\n",
       "      <td>article</td>\n",
       "      <td>2022</td>\n",
       "      <td>jour.1103138</td>\n",
       "      <td>Nature Genetics</td>\n",
       "      <td>NaN</td>\n",
       "      <td>NaN</td>\n",
       "    </tr>\n",
       "  </tbody>\n",
       "</table>\n",
       "</div>"
      ],
      "text/plain": [
       "   altmetric                                            authors  \\\n",
       "0       28.0  [{'affiliations': [{'city': 'New York', 'city_...   \n",
       "1        7.0  [{'affiliations': [{'city': 'Heidelberg', 'cit...   \n",
       "2     1581.0  [{'affiliations': [{'city': 'Sunnyvale', 'city...   \n",
       "3       79.0  [{'affiliations': [{'city': 'Milan', 'city_id'...   \n",
       "4      626.0  [{'affiliations': [{'city': 'Boston', 'city_id...   \n",
       "5        9.0                                                NaN   \n",
       "6       14.0  [{'affiliations': [{'city': 'Maastricht', 'cit...   \n",
       "7      132.0  [{'affiliations': [{'city': 'New York', 'city_...   \n",
       "8      178.0  [{'affiliations': [{'city': 'Wageningen', 'cit...   \n",
       "9        1.0  [{'affiliations': [{'city': 'Shanghai', 'city_...   \n",
       "\n",
       "                          doi              id  pages  times_cited  \\\n",
       "0  10.1038/s41588-021-00987-9  pub.1144816179    1-9            0   \n",
       "1  10.1038/s41588-021-01003-w  pub.1144813674    1-2            0   \n",
       "2  10.1038/s41588-021-00986-w  pub.1144721591    1-4            0   \n",
       "3  10.1038/s41588-021-00989-7  pub.1144719271   1-14            1   \n",
       "4  10.1038/s41588-021-00996-8  pub.1144627157    1-3            0   \n",
       "5  10.1038/s41588-021-01002-x  pub.1144610758    1-1            0   \n",
       "6  10.1038/s41588-021-00994-w  pub.1144607904    2-3            0   \n",
       "7  10.1038/s41588-021-00976-y  pub.1144471964   4-17            0   \n",
       "8  10.1038/s41588-021-00984-y  pub.1144463791  84-93            0   \n",
       "9  10.1038/s41588-021-00998-6  pub.1144435478    1-1            0   \n",
       "\n",
       "                                               title     type  year  \\\n",
       "0  Multi-ancestry eQTL meta-analysis of human bra...  article  2022   \n",
       "1  Walking the LINEs hidden in the dark matter of...  article  2022   \n",
       "2  The UGT2A1/UGT2A2 locus is associated with COV...  article  2022   \n",
       "3  LINE1 are spliced in non-canonical transcript ...  article  2022   \n",
       "4  Multi-ancestry fine mapping implicates OAS1 sp...  article  2022   \n",
       "5                              A very Mendelian year  article  2022   \n",
       "6  The regulatory network architecture of cardiom...  article  2022   \n",
       "7  Genetic analysis of the human microglial trans...  article  2022   \n",
       "8  A PARTHENOGENESIS allele from apomictic dandel...  article  2022   \n",
       "9  Author Correction: Gain-of-function variants i...  article  2022   \n",
       "\n",
       "     journal.id    journal.title issue volume  \n",
       "0  jour.1103138  Nature Genetics   NaN    NaN  \n",
       "1  jour.1103138  Nature Genetics   NaN    NaN  \n",
       "2  jour.1103138  Nature Genetics   NaN    NaN  \n",
       "3  jour.1103138  Nature Genetics   NaN    NaN  \n",
       "4  jour.1103138  Nature Genetics   NaN    NaN  \n",
       "5  jour.1103138  Nature Genetics     1     54  \n",
       "6  jour.1103138  Nature Genetics     1     54  \n",
       "7  jour.1103138  Nature Genetics     1     54  \n",
       "8  jour.1103138  Nature Genetics     1     54  \n",
       "9  jour.1103138  Nature Genetics   NaN    NaN  "
      ]
     },
     "execution_count": 4,
     "metadata": {},
     "output_type": "execute_result"
    }
   ],
   "source": [
    "dfpubs = pubs.as_dataframe()\n",
    "save(dfpubs,\"1_publications.csv\")\n",
    "# preview the publications \n",
    "dfpubs.head(10)"
   ]
  },
  {
   "cell_type": "markdown",
   "metadata": {
    "Collapsed": "false",
    "colab_type": "text",
    "id": "aJSz9ltEo6D0"
   },
   "source": [
    "Extract the authors data "
   ]
  },
  {
   "cell_type": "code",
   "execution_count": 5,
   "metadata": {
    "Collapsed": "false",
    "colab": {
     "base_uri": "https://localhost:8080/",
     "height": 1194
    },
    "colab_type": "code",
    "executionInfo": {
     "elapsed": 5007,
     "status": "ok",
     "timestamp": 1590004331909,
     "user": {
      "displayName": "Michele Pasin",
      "photoUrl": "https://lh3.googleusercontent.com/a-/AOh14GiYfmLTPbeMuYDDrETLbTVXTXnfVr9f7eBtkmR73A=s64",
      "userId": "10309320684375994511"
     },
     "user_tz": -60
    },
    "id": "ihjtFg1pUofn",
    "outputId": "9eb0aec0-8a28-4e07-c847-1b140a5a7919"
   },
   "outputs": [
    {
     "data": {
      "text/html": [
       "<div>\n",
       "<style scoped>\n",
       "    .dataframe tbody tr th:only-of-type {\n",
       "        vertical-align: middle;\n",
       "    }\n",
       "\n",
       "    .dataframe tbody tr th {\n",
       "        vertical-align: top;\n",
       "    }\n",
       "\n",
       "    .dataframe thead th {\n",
       "        text-align: right;\n",
       "    }\n",
       "</style>\n",
       "<table border=\"1\" class=\"dataframe\">\n",
       "  <thead>\n",
       "    <tr style=\"text-align: right;\">\n",
       "      <th></th>\n",
       "      <th>affiliations</th>\n",
       "      <th>corresponding</th>\n",
       "      <th>current_organization_id</th>\n",
       "      <th>first_name</th>\n",
       "      <th>last_name</th>\n",
       "      <th>orcid</th>\n",
       "      <th>raw_affiliation</th>\n",
       "      <th>researcher_id</th>\n",
       "      <th>pub_id</th>\n",
       "    </tr>\n",
       "  </thead>\n",
       "  <tbody>\n",
       "    <tr>\n",
       "      <th>0</th>\n",
       "      <td>[{'city': 'New York', 'city_id': 5128581, 'cou...</td>\n",
       "      <td></td>\n",
       "      <td></td>\n",
       "      <td>Biao</td>\n",
       "      <td>Zeng</td>\n",
       "      <td>[]</td>\n",
       "      <td>[Center for Disease Neurogenomics, Icahn Schoo...</td>\n",
       "      <td>None</td>\n",
       "      <td>pub.1144816179</td>\n",
       "    </tr>\n",
       "    <tr>\n",
       "      <th>1</th>\n",
       "      <td>[{'city': 'New York', 'city_id': 5128581, 'cou...</td>\n",
       "      <td></td>\n",
       "      <td></td>\n",
       "      <td>Jaroslav</td>\n",
       "      <td>Bendl</td>\n",
       "      <td>[]</td>\n",
       "      <td>[Center for Disease Neurogenomics, Icahn Schoo...</td>\n",
       "      <td>None</td>\n",
       "      <td>pub.1144816179</td>\n",
       "    </tr>\n",
       "    <tr>\n",
       "      <th>2</th>\n",
       "      <td>[{'city': 'New York', 'city_id': 5128581, 'cou...</td>\n",
       "      <td></td>\n",
       "      <td></td>\n",
       "      <td>Roman</td>\n",
       "      <td>Kosoy</td>\n",
       "      <td>[]</td>\n",
       "      <td>[Center for Disease Neurogenomics, Icahn Schoo...</td>\n",
       "      <td>None</td>\n",
       "      <td>pub.1144816179</td>\n",
       "    </tr>\n",
       "    <tr>\n",
       "      <th>3</th>\n",
       "      <td>[{'city': 'New York', 'city_id': 5128581, 'cou...</td>\n",
       "      <td></td>\n",
       "      <td></td>\n",
       "      <td>John F.</td>\n",
       "      <td>Fullard</td>\n",
       "      <td>[]</td>\n",
       "      <td>[Center for Disease Neurogenomics, Icahn Schoo...</td>\n",
       "      <td>None</td>\n",
       "      <td>pub.1144816179</td>\n",
       "    </tr>\n",
       "    <tr>\n",
       "      <th>4</th>\n",
       "      <td>[{'city': 'New York', 'city_id': 5128581, 'cou...</td>\n",
       "      <td>True</td>\n",
       "      <td></td>\n",
       "      <td>Gabriel E.</td>\n",
       "      <td>Hoffman</td>\n",
       "      <td>[]</td>\n",
       "      <td>[Center for Disease Neurogenomics, Icahn Schoo...</td>\n",
       "      <td>None</td>\n",
       "      <td>pub.1144816179</td>\n",
       "    </tr>\n",
       "    <tr>\n",
       "      <th>5</th>\n",
       "      <td>[{'city': 'New York', 'city_id': 5128581, 'cou...</td>\n",
       "      <td>True</td>\n",
       "      <td></td>\n",
       "      <td>Panos</td>\n",
       "      <td>Roussos</td>\n",
       "      <td>[]</td>\n",
       "      <td>[Center for Disease Neurogenomics, Icahn Schoo...</td>\n",
       "      <td>None</td>\n",
       "      <td>pub.1144816179</td>\n",
       "    </tr>\n",
       "    <tr>\n",
       "      <th>6</th>\n",
       "      <td>[{'city': 'Heidelberg', 'city_id': 2907911, 'c...</td>\n",
       "      <td></td>\n",
       "      <td></td>\n",
       "      <td>Marina</td>\n",
       "      <td>Lusic</td>\n",
       "      <td>[]</td>\n",
       "      <td>[Department of Infectious Diseases, Integrativ...</td>\n",
       "      <td>None</td>\n",
       "      <td>pub.1144813674</td>\n",
       "    </tr>\n",
       "    <tr>\n",
       "      <th>7</th>\n",
       "      <td>[{'city': 'Nijmegen', 'city_id': 2750053, 'cou...</td>\n",
       "      <td>True</td>\n",
       "      <td></td>\n",
       "      <td>Musa M.</td>\n",
       "      <td>Mhlanga</td>\n",
       "      <td>[]</td>\n",
       "      <td>[Epigenomics &amp; Single Cell Biophysics Group, D...</td>\n",
       "      <td>None</td>\n",
       "      <td>pub.1144813674</td>\n",
       "    </tr>\n",
       "    <tr>\n",
       "      <th>8</th>\n",
       "      <td>[{'city': 'Sunnyvale', 'city_id': 5400075, 'co...</td>\n",
       "      <td></td>\n",
       "      <td></td>\n",
       "      <td>Janie F.</td>\n",
       "      <td>Shelton</td>\n",
       "      <td>[]</td>\n",
       "      <td>[23andMe Inc., Sunnyvale, CA, USA]</td>\n",
       "      <td>None</td>\n",
       "      <td>pub.1144721591</td>\n",
       "    </tr>\n",
       "    <tr>\n",
       "      <th>9</th>\n",
       "      <td>[{'city': 'Sunnyvale', 'city_id': 5400075, 'co...</td>\n",
       "      <td></td>\n",
       "      <td></td>\n",
       "      <td>Anjali J.</td>\n",
       "      <td>Shastri</td>\n",
       "      <td>[]</td>\n",
       "      <td>[23andMe Inc., Sunnyvale, CA, USA]</td>\n",
       "      <td>None</td>\n",
       "      <td>pub.1144721591</td>\n",
       "    </tr>\n",
       "  </tbody>\n",
       "</table>\n",
       "</div>"
      ],
      "text/plain": [
       "                                        affiliations corresponding  \\\n",
       "0  [{'city': 'New York', 'city_id': 5128581, 'cou...                 \n",
       "1  [{'city': 'New York', 'city_id': 5128581, 'cou...                 \n",
       "2  [{'city': 'New York', 'city_id': 5128581, 'cou...                 \n",
       "3  [{'city': 'New York', 'city_id': 5128581, 'cou...                 \n",
       "4  [{'city': 'New York', 'city_id': 5128581, 'cou...          True   \n",
       "5  [{'city': 'New York', 'city_id': 5128581, 'cou...          True   \n",
       "6  [{'city': 'Heidelberg', 'city_id': 2907911, 'c...                 \n",
       "7  [{'city': 'Nijmegen', 'city_id': 2750053, 'cou...          True   \n",
       "8  [{'city': 'Sunnyvale', 'city_id': 5400075, 'co...                 \n",
       "9  [{'city': 'Sunnyvale', 'city_id': 5400075, 'co...                 \n",
       "\n",
       "  current_organization_id  first_name last_name orcid  \\\n",
       "0                                Biao      Zeng    []   \n",
       "1                            Jaroslav     Bendl    []   \n",
       "2                               Roman     Kosoy    []   \n",
       "3                             John F.   Fullard    []   \n",
       "4                          Gabriel E.   Hoffman    []   \n",
       "5                               Panos   Roussos    []   \n",
       "6                              Marina     Lusic    []   \n",
       "7                             Musa M.   Mhlanga    []   \n",
       "8                            Janie F.   Shelton    []   \n",
       "9                           Anjali J.   Shastri    []   \n",
       "\n",
       "                                     raw_affiliation researcher_id  \\\n",
       "0  [Center for Disease Neurogenomics, Icahn Schoo...          None   \n",
       "1  [Center for Disease Neurogenomics, Icahn Schoo...          None   \n",
       "2  [Center for Disease Neurogenomics, Icahn Schoo...          None   \n",
       "3  [Center for Disease Neurogenomics, Icahn Schoo...          None   \n",
       "4  [Center for Disease Neurogenomics, Icahn Schoo...          None   \n",
       "5  [Center for Disease Neurogenomics, Icahn Schoo...          None   \n",
       "6  [Department of Infectious Diseases, Integrativ...          None   \n",
       "7  [Epigenomics & Single Cell Biophysics Group, D...          None   \n",
       "8                 [23andMe Inc., Sunnyvale, CA, USA]          None   \n",
       "9                 [23andMe Inc., Sunnyvale, CA, USA]          None   \n",
       "\n",
       "           pub_id  \n",
       "0  pub.1144816179  \n",
       "1  pub.1144816179  \n",
       "2  pub.1144816179  \n",
       "3  pub.1144816179  \n",
       "4  pub.1144816179  \n",
       "5  pub.1144816179  \n",
       "6  pub.1144813674  \n",
       "7  pub.1144813674  \n",
       "8  pub.1144721591  \n",
       "9  pub.1144721591  "
      ]
     },
     "execution_count": 5,
     "metadata": {},
     "output_type": "execute_result"
    }
   ],
   "source": [
    "# preview the authors data \n",
    "authors = pubs.as_dataframe_authors()\n",
    "save(authors,\"1_publications_authors.csv\")\n",
    "authors.head(10)"
   ]
  },
  {
   "cell_type": "markdown",
   "metadata": {
    "Collapsed": "false",
    "colab_type": "text",
    "id": "QLkrxzT2o6D3"
   },
   "source": [
    "Extract the affiliations data "
   ]
  },
  {
   "cell_type": "code",
   "execution_count": 6,
   "metadata": {
    "Collapsed": "false",
    "colab": {
     "base_uri": "https://localhost:8080/",
     "height": 681
    },
    "colab_type": "code",
    "executionInfo": {
     "elapsed": 8888,
     "status": "ok",
     "timestamp": 1590004335794,
     "user": {
      "displayName": "Michele Pasin",
      "photoUrl": "https://lh3.googleusercontent.com/a-/AOh14GiYfmLTPbeMuYDDrETLbTVXTXnfVr9f7eBtkmR73A=s64",
      "userId": "10309320684375994511"
     },
     "user_tz": -60
    },
    "id": "SsT078tTuhvX",
    "outputId": "e0a4e40d-b009-4f0c-a907-4e1623c13a93"
   },
   "outputs": [
    {
     "data": {
      "text/html": [
       "<div>\n",
       "<style scoped>\n",
       "    .dataframe tbody tr th:only-of-type {\n",
       "        vertical-align: middle;\n",
       "    }\n",
       "\n",
       "    .dataframe tbody tr th {\n",
       "        vertical-align: top;\n",
       "    }\n",
       "\n",
       "    .dataframe thead th {\n",
       "        text-align: right;\n",
       "    }\n",
       "</style>\n",
       "<table border=\"1\" class=\"dataframe\">\n",
       "  <thead>\n",
       "    <tr style=\"text-align: right;\">\n",
       "      <th></th>\n",
       "      <th>aff_city</th>\n",
       "      <th>aff_city_id</th>\n",
       "      <th>aff_country</th>\n",
       "      <th>aff_country_code</th>\n",
       "      <th>aff_id</th>\n",
       "      <th>aff_name</th>\n",
       "      <th>aff_raw_affiliation</th>\n",
       "      <th>aff_state</th>\n",
       "      <th>aff_state_code</th>\n",
       "      <th>pub_id</th>\n",
       "      <th>researcher_id</th>\n",
       "      <th>first_name</th>\n",
       "      <th>last_name</th>\n",
       "    </tr>\n",
       "  </thead>\n",
       "  <tbody>\n",
       "    <tr>\n",
       "      <th>0</th>\n",
       "      <td>New York</td>\n",
       "      <td>5128581.0</td>\n",
       "      <td>United States</td>\n",
       "      <td>US</td>\n",
       "      <td>grid.59734.3c</td>\n",
       "      <td>Icahn School of Medicine at Mount Sinai</td>\n",
       "      <td>Center for Disease Neurogenomics, Icahn School...</td>\n",
       "      <td>New York</td>\n",
       "      <td>US-NY</td>\n",
       "      <td>pub.1144816179</td>\n",
       "      <td></td>\n",
       "      <td>Biao</td>\n",
       "      <td>Zeng</td>\n",
       "    </tr>\n",
       "    <tr>\n",
       "      <th>1</th>\n",
       "      <td>New York</td>\n",
       "      <td>5128581.0</td>\n",
       "      <td>United States</td>\n",
       "      <td>US</td>\n",
       "      <td>grid.59734.3c</td>\n",
       "      <td>Icahn School of Medicine at Mount Sinai</td>\n",
       "      <td>Pamela Sklar Division of Psychiatric Genomics,...</td>\n",
       "      <td>New York</td>\n",
       "      <td>US-NY</td>\n",
       "      <td>pub.1144816179</td>\n",
       "      <td></td>\n",
       "      <td>Biao</td>\n",
       "      <td>Zeng</td>\n",
       "    </tr>\n",
       "    <tr>\n",
       "      <th>2</th>\n",
       "      <td>New York</td>\n",
       "      <td>5128581.0</td>\n",
       "      <td>United States</td>\n",
       "      <td>US</td>\n",
       "      <td>grid.59734.3c</td>\n",
       "      <td>Icahn School of Medicine at Mount Sinai</td>\n",
       "      <td>Department of Genetics and Genomic Sciences, I...</td>\n",
       "      <td>New York</td>\n",
       "      <td>US-NY</td>\n",
       "      <td>pub.1144816179</td>\n",
       "      <td></td>\n",
       "      <td>Biao</td>\n",
       "      <td>Zeng</td>\n",
       "    </tr>\n",
       "    <tr>\n",
       "      <th>3</th>\n",
       "      <td>New York</td>\n",
       "      <td>5128581.0</td>\n",
       "      <td>United States</td>\n",
       "      <td>US</td>\n",
       "      <td>grid.59734.3c</td>\n",
       "      <td>Icahn School of Medicine at Mount Sinai</td>\n",
       "      <td>Icahn Institute for Data Science and Genomic T...</td>\n",
       "      <td>New York</td>\n",
       "      <td>US-NY</td>\n",
       "      <td>pub.1144816179</td>\n",
       "      <td></td>\n",
       "      <td>Biao</td>\n",
       "      <td>Zeng</td>\n",
       "    </tr>\n",
       "    <tr>\n",
       "      <th>4</th>\n",
       "      <td>New York</td>\n",
       "      <td>5128581.0</td>\n",
       "      <td>United States</td>\n",
       "      <td>US</td>\n",
       "      <td>grid.59734.3c</td>\n",
       "      <td>Icahn School of Medicine at Mount Sinai</td>\n",
       "      <td>Department of Psychiatry, Icahn School of Medi...</td>\n",
       "      <td>New York</td>\n",
       "      <td>US-NY</td>\n",
       "      <td>pub.1144816179</td>\n",
       "      <td></td>\n",
       "      <td>Biao</td>\n",
       "      <td>Zeng</td>\n",
       "    </tr>\n",
       "    <tr>\n",
       "      <th>5</th>\n",
       "      <td>New York</td>\n",
       "      <td>5128581.0</td>\n",
       "      <td>United States</td>\n",
       "      <td>US</td>\n",
       "      <td>grid.59734.3c</td>\n",
       "      <td>Icahn School of Medicine at Mount Sinai</td>\n",
       "      <td>Center for Disease Neurogenomics, Icahn School...</td>\n",
       "      <td>New York</td>\n",
       "      <td>US-NY</td>\n",
       "      <td>pub.1144816179</td>\n",
       "      <td></td>\n",
       "      <td>Jaroslav</td>\n",
       "      <td>Bendl</td>\n",
       "    </tr>\n",
       "    <tr>\n",
       "      <th>6</th>\n",
       "      <td>New York</td>\n",
       "      <td>5128581.0</td>\n",
       "      <td>United States</td>\n",
       "      <td>US</td>\n",
       "      <td>grid.59734.3c</td>\n",
       "      <td>Icahn School of Medicine at Mount Sinai</td>\n",
       "      <td>Pamela Sklar Division of Psychiatric Genomics,...</td>\n",
       "      <td>New York</td>\n",
       "      <td>US-NY</td>\n",
       "      <td>pub.1144816179</td>\n",
       "      <td></td>\n",
       "      <td>Jaroslav</td>\n",
       "      <td>Bendl</td>\n",
       "    </tr>\n",
       "    <tr>\n",
       "      <th>7</th>\n",
       "      <td>New York</td>\n",
       "      <td>5128581.0</td>\n",
       "      <td>United States</td>\n",
       "      <td>US</td>\n",
       "      <td>grid.59734.3c</td>\n",
       "      <td>Icahn School of Medicine at Mount Sinai</td>\n",
       "      <td>Department of Genetics and Genomic Sciences, I...</td>\n",
       "      <td>New York</td>\n",
       "      <td>US-NY</td>\n",
       "      <td>pub.1144816179</td>\n",
       "      <td></td>\n",
       "      <td>Jaroslav</td>\n",
       "      <td>Bendl</td>\n",
       "    </tr>\n",
       "    <tr>\n",
       "      <th>8</th>\n",
       "      <td>New York</td>\n",
       "      <td>5128581.0</td>\n",
       "      <td>United States</td>\n",
       "      <td>US</td>\n",
       "      <td>grid.59734.3c</td>\n",
       "      <td>Icahn School of Medicine at Mount Sinai</td>\n",
       "      <td>Icahn Institute for Data Science and Genomic T...</td>\n",
       "      <td>New York</td>\n",
       "      <td>US-NY</td>\n",
       "      <td>pub.1144816179</td>\n",
       "      <td></td>\n",
       "      <td>Jaroslav</td>\n",
       "      <td>Bendl</td>\n",
       "    </tr>\n",
       "    <tr>\n",
       "      <th>9</th>\n",
       "      <td>New York</td>\n",
       "      <td>5128581.0</td>\n",
       "      <td>United States</td>\n",
       "      <td>US</td>\n",
       "      <td>grid.59734.3c</td>\n",
       "      <td>Icahn School of Medicine at Mount Sinai</td>\n",
       "      <td>Department of Psychiatry, Icahn School of Medi...</td>\n",
       "      <td>New York</td>\n",
       "      <td>US-NY</td>\n",
       "      <td>pub.1144816179</td>\n",
       "      <td></td>\n",
       "      <td>Jaroslav</td>\n",
       "      <td>Bendl</td>\n",
       "    </tr>\n",
       "  </tbody>\n",
       "</table>\n",
       "</div>"
      ],
      "text/plain": [
       "   aff_city aff_city_id    aff_country aff_country_code         aff_id  \\\n",
       "0  New York   5128581.0  United States               US  grid.59734.3c   \n",
       "1  New York   5128581.0  United States               US  grid.59734.3c   \n",
       "2  New York   5128581.0  United States               US  grid.59734.3c   \n",
       "3  New York   5128581.0  United States               US  grid.59734.3c   \n",
       "4  New York   5128581.0  United States               US  grid.59734.3c   \n",
       "5  New York   5128581.0  United States               US  grid.59734.3c   \n",
       "6  New York   5128581.0  United States               US  grid.59734.3c   \n",
       "7  New York   5128581.0  United States               US  grid.59734.3c   \n",
       "8  New York   5128581.0  United States               US  grid.59734.3c   \n",
       "9  New York   5128581.0  United States               US  grid.59734.3c   \n",
       "\n",
       "                                  aff_name  \\\n",
       "0  Icahn School of Medicine at Mount Sinai   \n",
       "1  Icahn School of Medicine at Mount Sinai   \n",
       "2  Icahn School of Medicine at Mount Sinai   \n",
       "3  Icahn School of Medicine at Mount Sinai   \n",
       "4  Icahn School of Medicine at Mount Sinai   \n",
       "5  Icahn School of Medicine at Mount Sinai   \n",
       "6  Icahn School of Medicine at Mount Sinai   \n",
       "7  Icahn School of Medicine at Mount Sinai   \n",
       "8  Icahn School of Medicine at Mount Sinai   \n",
       "9  Icahn School of Medicine at Mount Sinai   \n",
       "\n",
       "                                 aff_raw_affiliation aff_state aff_state_code  \\\n",
       "0  Center for Disease Neurogenomics, Icahn School...  New York          US-NY   \n",
       "1  Pamela Sklar Division of Psychiatric Genomics,...  New York          US-NY   \n",
       "2  Department of Genetics and Genomic Sciences, I...  New York          US-NY   \n",
       "3  Icahn Institute for Data Science and Genomic T...  New York          US-NY   \n",
       "4  Department of Psychiatry, Icahn School of Medi...  New York          US-NY   \n",
       "5  Center for Disease Neurogenomics, Icahn School...  New York          US-NY   \n",
       "6  Pamela Sklar Division of Psychiatric Genomics,...  New York          US-NY   \n",
       "7  Department of Genetics and Genomic Sciences, I...  New York          US-NY   \n",
       "8  Icahn Institute for Data Science and Genomic T...  New York          US-NY   \n",
       "9  Department of Psychiatry, Icahn School of Medi...  New York          US-NY   \n",
       "\n",
       "           pub_id researcher_id first_name last_name  \n",
       "0  pub.1144816179                     Biao      Zeng  \n",
       "1  pub.1144816179                     Biao      Zeng  \n",
       "2  pub.1144816179                     Biao      Zeng  \n",
       "3  pub.1144816179                     Biao      Zeng  \n",
       "4  pub.1144816179                     Biao      Zeng  \n",
       "5  pub.1144816179                 Jaroslav     Bendl  \n",
       "6  pub.1144816179                 Jaroslav     Bendl  \n",
       "7  pub.1144816179                 Jaroslav     Bendl  \n",
       "8  pub.1144816179                 Jaroslav     Bendl  \n",
       "9  pub.1144816179                 Jaroslav     Bendl  "
      ]
     },
     "execution_count": 6,
     "metadata": {},
     "output_type": "execute_result"
    }
   ],
   "source": [
    "affiliations = pubs.as_dataframe_authors_affiliations()\n",
    "save(affiliations,\"1_publications_affiliations.csv\")\n",
    "affiliations.head(10)"
   ]
  },
  {
   "cell_type": "markdown",
   "metadata": {
    "Collapsed": "false",
    "colab_type": "text",
    "id": "8Tri9qhoCYH3"
   },
   "source": [
    "## Basic stats about authors\n",
    "\n",
    "* count how many authors in total \n",
    "* count how many authors have a researcher ID\n",
    "* count how many unique researchers IDs we have in total"
   ]
  },
  {
   "cell_type": "code",
   "execution_count": 7,
   "metadata": {
    "Collapsed": "false",
    "colab": {
     "base_uri": "https://localhost:8080/",
     "height": 542
    },
    "colab_type": "code",
    "executionInfo": {
     "elapsed": 9231,
     "status": "ok",
     "timestamp": 1590004336142,
     "user": {
      "displayName": "Michele Pasin",
      "photoUrl": "https://lh3.googleusercontent.com/a-/AOh14GiYfmLTPbeMuYDDrETLbTVXTXnfVr9f7eBtkmR73A=s64",
      "userId": "10309320684375994511"
     },
     "user_tz": -60
    },
    "id": "4k5V31MFRmdH",
    "outputId": "fa7662e9-f7fd-4df4-b119-9bee723ceb8f"
   },
   "outputs": [
    {
     "data": {
      "application/vnd.plotly.v1+json": {
       "config": {
        "plotlyServerURL": "https://plot.ly"
       },
       "data": [
        {
         "alignmentgroup": "True",
         "hovertemplate": "measure=%{x}<br>count=%{y}<extra></extra>",
         "legendgroup": "",
         "marker": {
          "color": "#636efa",
          "pattern": {
           "shape": ""
          }
         },
         "name": "",
         "offsetgroup": "",
         "orientation": "v",
         "showlegend": false,
         "textposition": "auto",
         "type": "bar",
         "x": [
          "Authors in total (non unique)",
          "Authors with a researcher ID",
          "Authors with a researcher ID (unique)"
         ],
         "xaxis": "x",
         "y": [
          53638,
          53625,
          23346
         ],
         "yaxis": "y"
        }
       ],
       "layout": {
        "autosize": true,
        "barmode": "relative",
        "legend": {
         "tracegroupgap": 0
        },
        "template": {
         "data": {
          "bar": [
           {
            "error_x": {
             "color": "#2a3f5f"
            },
            "error_y": {
             "color": "#2a3f5f"
            },
            "marker": {
             "line": {
              "color": "#E5ECF6",
              "width": 0.5
             },
             "pattern": {
              "fillmode": "overlay",
              "size": 10,
              "solidity": 0.2
             }
            },
            "type": "bar"
           }
          ],
          "barpolar": [
           {
            "marker": {
             "line": {
              "color": "#E5ECF6",
              "width": 0.5
             },
             "pattern": {
              "fillmode": "overlay",
              "size": 10,
              "solidity": 0.2
             }
            },
            "type": "barpolar"
           }
          ],
          "carpet": [
           {
            "aaxis": {
             "endlinecolor": "#2a3f5f",
             "gridcolor": "white",
             "linecolor": "white",
             "minorgridcolor": "white",
             "startlinecolor": "#2a3f5f"
            },
            "baxis": {
             "endlinecolor": "#2a3f5f",
             "gridcolor": "white",
             "linecolor": "white",
             "minorgridcolor": "white",
             "startlinecolor": "#2a3f5f"
            },
            "type": "carpet"
           }
          ],
          "choropleth": [
           {
            "colorbar": {
             "outlinewidth": 0,
             "ticks": ""
            },
            "type": "choropleth"
           }
          ],
          "contour": [
           {
            "colorbar": {
             "outlinewidth": 0,
             "ticks": ""
            },
            "colorscale": [
             [
              0,
              "#0d0887"
             ],
             [
              0.1111111111111111,
              "#46039f"
             ],
             [
              0.2222222222222222,
              "#7201a8"
             ],
             [
              0.3333333333333333,
              "#9c179e"
             ],
             [
              0.4444444444444444,
              "#bd3786"
             ],
             [
              0.5555555555555556,
              "#d8576b"
             ],
             [
              0.6666666666666666,
              "#ed7953"
             ],
             [
              0.7777777777777778,
              "#fb9f3a"
             ],
             [
              0.8888888888888888,
              "#fdca26"
             ],
             [
              1,
              "#f0f921"
             ]
            ],
            "type": "contour"
           }
          ],
          "contourcarpet": [
           {
            "colorbar": {
             "outlinewidth": 0,
             "ticks": ""
            },
            "type": "contourcarpet"
           }
          ],
          "heatmap": [
           {
            "colorbar": {
             "outlinewidth": 0,
             "ticks": ""
            },
            "colorscale": [
             [
              0,
              "#0d0887"
             ],
             [
              0.1111111111111111,
              "#46039f"
             ],
             [
              0.2222222222222222,
              "#7201a8"
             ],
             [
              0.3333333333333333,
              "#9c179e"
             ],
             [
              0.4444444444444444,
              "#bd3786"
             ],
             [
              0.5555555555555556,
              "#d8576b"
             ],
             [
              0.6666666666666666,
              "#ed7953"
             ],
             [
              0.7777777777777778,
              "#fb9f3a"
             ],
             [
              0.8888888888888888,
              "#fdca26"
             ],
             [
              1,
              "#f0f921"
             ]
            ],
            "type": "heatmap"
           }
          ],
          "heatmapgl": [
           {
            "colorbar": {
             "outlinewidth": 0,
             "ticks": ""
            },
            "colorscale": [
             [
              0,
              "#0d0887"
             ],
             [
              0.1111111111111111,
              "#46039f"
             ],
             [
              0.2222222222222222,
              "#7201a8"
             ],
             [
              0.3333333333333333,
              "#9c179e"
             ],
             [
              0.4444444444444444,
              "#bd3786"
             ],
             [
              0.5555555555555556,
              "#d8576b"
             ],
             [
              0.6666666666666666,
              "#ed7953"
             ],
             [
              0.7777777777777778,
              "#fb9f3a"
             ],
             [
              0.8888888888888888,
              "#fdca26"
             ],
             [
              1,
              "#f0f921"
             ]
            ],
            "type": "heatmapgl"
           }
          ],
          "histogram": [
           {
            "marker": {
             "pattern": {
              "fillmode": "overlay",
              "size": 10,
              "solidity": 0.2
             }
            },
            "type": "histogram"
           }
          ],
          "histogram2d": [
           {
            "colorbar": {
             "outlinewidth": 0,
             "ticks": ""
            },
            "colorscale": [
             [
              0,
              "#0d0887"
             ],
             [
              0.1111111111111111,
              "#46039f"
             ],
             [
              0.2222222222222222,
              "#7201a8"
             ],
             [
              0.3333333333333333,
              "#9c179e"
             ],
             [
              0.4444444444444444,
              "#bd3786"
             ],
             [
              0.5555555555555556,
              "#d8576b"
             ],
             [
              0.6666666666666666,
              "#ed7953"
             ],
             [
              0.7777777777777778,
              "#fb9f3a"
             ],
             [
              0.8888888888888888,
              "#fdca26"
             ],
             [
              1,
              "#f0f921"
             ]
            ],
            "type": "histogram2d"
           }
          ],
          "histogram2dcontour": [
           {
            "colorbar": {
             "outlinewidth": 0,
             "ticks": ""
            },
            "colorscale": [
             [
              0,
              "#0d0887"
             ],
             [
              0.1111111111111111,
              "#46039f"
             ],
             [
              0.2222222222222222,
              "#7201a8"
             ],
             [
              0.3333333333333333,
              "#9c179e"
             ],
             [
              0.4444444444444444,
              "#bd3786"
             ],
             [
              0.5555555555555556,
              "#d8576b"
             ],
             [
              0.6666666666666666,
              "#ed7953"
             ],
             [
              0.7777777777777778,
              "#fb9f3a"
             ],
             [
              0.8888888888888888,
              "#fdca26"
             ],
             [
              1,
              "#f0f921"
             ]
            ],
            "type": "histogram2dcontour"
           }
          ],
          "mesh3d": [
           {
            "colorbar": {
             "outlinewidth": 0,
             "ticks": ""
            },
            "type": "mesh3d"
           }
          ],
          "parcoords": [
           {
            "line": {
             "colorbar": {
              "outlinewidth": 0,
              "ticks": ""
             }
            },
            "type": "parcoords"
           }
          ],
          "pie": [
           {
            "automargin": true,
            "type": "pie"
           }
          ],
          "scatter": [
           {
            "marker": {
             "colorbar": {
              "outlinewidth": 0,
              "ticks": ""
             }
            },
            "type": "scatter"
           }
          ],
          "scatter3d": [
           {
            "line": {
             "colorbar": {
              "outlinewidth": 0,
              "ticks": ""
             }
            },
            "marker": {
             "colorbar": {
              "outlinewidth": 0,
              "ticks": ""
             }
            },
            "type": "scatter3d"
           }
          ],
          "scattercarpet": [
           {
            "marker": {
             "colorbar": {
              "outlinewidth": 0,
              "ticks": ""
             }
            },
            "type": "scattercarpet"
           }
          ],
          "scattergeo": [
           {
            "marker": {
             "colorbar": {
              "outlinewidth": 0,
              "ticks": ""
             }
            },
            "type": "scattergeo"
           }
          ],
          "scattergl": [
           {
            "marker": {
             "colorbar": {
              "outlinewidth": 0,
              "ticks": ""
             }
            },
            "type": "scattergl"
           }
          ],
          "scattermapbox": [
           {
            "marker": {
             "colorbar": {
              "outlinewidth": 0,
              "ticks": ""
             }
            },
            "type": "scattermapbox"
           }
          ],
          "scatterpolar": [
           {
            "marker": {
             "colorbar": {
              "outlinewidth": 0,
              "ticks": ""
             }
            },
            "type": "scatterpolar"
           }
          ],
          "scatterpolargl": [
           {
            "marker": {
             "colorbar": {
              "outlinewidth": 0,
              "ticks": ""
             }
            },
            "type": "scatterpolargl"
           }
          ],
          "scatterternary": [
           {
            "marker": {
             "colorbar": {
              "outlinewidth": 0,
              "ticks": ""
             }
            },
            "type": "scatterternary"
           }
          ],
          "surface": [
           {
            "colorbar": {
             "outlinewidth": 0,
             "ticks": ""
            },
            "colorscale": [
             [
              0,
              "#0d0887"
             ],
             [
              0.1111111111111111,
              "#46039f"
             ],
             [
              0.2222222222222222,
              "#7201a8"
             ],
             [
              0.3333333333333333,
              "#9c179e"
             ],
             [
              0.4444444444444444,
              "#bd3786"
             ],
             [
              0.5555555555555556,
              "#d8576b"
             ],
             [
              0.6666666666666666,
              "#ed7953"
             ],
             [
              0.7777777777777778,
              "#fb9f3a"
             ],
             [
              0.8888888888888888,
              "#fdca26"
             ],
             [
              1,
              "#f0f921"
             ]
            ],
            "type": "surface"
           }
          ],
          "table": [
           {
            "cells": {
             "fill": {
              "color": "#EBF0F8"
             },
             "line": {
              "color": "white"
             }
            },
            "header": {
             "fill": {
              "color": "#C8D4E3"
             },
             "line": {
              "color": "white"
             }
            },
            "type": "table"
           }
          ]
         },
         "layout": {
          "annotationdefaults": {
           "arrowcolor": "#2a3f5f",
           "arrowhead": 0,
           "arrowwidth": 1
          },
          "autotypenumbers": "strict",
          "coloraxis": {
           "colorbar": {
            "outlinewidth": 0,
            "ticks": ""
           }
          },
          "colorscale": {
           "diverging": [
            [
             0,
             "#8e0152"
            ],
            [
             0.1,
             "#c51b7d"
            ],
            [
             0.2,
             "#de77ae"
            ],
            [
             0.3,
             "#f1b6da"
            ],
            [
             0.4,
             "#fde0ef"
            ],
            [
             0.5,
             "#f7f7f7"
            ],
            [
             0.6,
             "#e6f5d0"
            ],
            [
             0.7,
             "#b8e186"
            ],
            [
             0.8,
             "#7fbc41"
            ],
            [
             0.9,
             "#4d9221"
            ],
            [
             1,
             "#276419"
            ]
           ],
           "sequential": [
            [
             0,
             "#0d0887"
            ],
            [
             0.1111111111111111,
             "#46039f"
            ],
            [
             0.2222222222222222,
             "#7201a8"
            ],
            [
             0.3333333333333333,
             "#9c179e"
            ],
            [
             0.4444444444444444,
             "#bd3786"
            ],
            [
             0.5555555555555556,
             "#d8576b"
            ],
            [
             0.6666666666666666,
             "#ed7953"
            ],
            [
             0.7777777777777778,
             "#fb9f3a"
            ],
            [
             0.8888888888888888,
             "#fdca26"
            ],
            [
             1,
             "#f0f921"
            ]
           ],
           "sequentialminus": [
            [
             0,
             "#0d0887"
            ],
            [
             0.1111111111111111,
             "#46039f"
            ],
            [
             0.2222222222222222,
             "#7201a8"
            ],
            [
             0.3333333333333333,
             "#9c179e"
            ],
            [
             0.4444444444444444,
             "#bd3786"
            ],
            [
             0.5555555555555556,
             "#d8576b"
            ],
            [
             0.6666666666666666,
             "#ed7953"
            ],
            [
             0.7777777777777778,
             "#fb9f3a"
            ],
            [
             0.8888888888888888,
             "#fdca26"
            ],
            [
             1,
             "#f0f921"
            ]
           ]
          },
          "colorway": [
           "#636efa",
           "#EF553B",
           "#00cc96",
           "#ab63fa",
           "#FFA15A",
           "#19d3f3",
           "#FF6692",
           "#B6E880",
           "#FF97FF",
           "#FECB52"
          ],
          "font": {
           "color": "#2a3f5f"
          },
          "geo": {
           "bgcolor": "white",
           "lakecolor": "white",
           "landcolor": "#E5ECF6",
           "showlakes": true,
           "showland": true,
           "subunitcolor": "white"
          },
          "hoverlabel": {
           "align": "left"
          },
          "hovermode": "closest",
          "mapbox": {
           "style": "light"
          },
          "paper_bgcolor": "white",
          "plot_bgcolor": "#E5ECF6",
          "polar": {
           "angularaxis": {
            "gridcolor": "white",
            "linecolor": "white",
            "ticks": ""
           },
           "bgcolor": "#E5ECF6",
           "radialaxis": {
            "gridcolor": "white",
            "linecolor": "white",
            "ticks": ""
           }
          },
          "scene": {
           "xaxis": {
            "backgroundcolor": "#E5ECF6",
            "gridcolor": "white",
            "gridwidth": 2,
            "linecolor": "white",
            "showbackground": true,
            "ticks": "",
            "zerolinecolor": "white"
           },
           "yaxis": {
            "backgroundcolor": "#E5ECF6",
            "gridcolor": "white",
            "gridwidth": 2,
            "linecolor": "white",
            "showbackground": true,
            "ticks": "",
            "zerolinecolor": "white"
           },
           "zaxis": {
            "backgroundcolor": "#E5ECF6",
            "gridcolor": "white",
            "gridwidth": 2,
            "linecolor": "white",
            "showbackground": true,
            "ticks": "",
            "zerolinecolor": "white"
           }
          },
          "shapedefaults": {
           "line": {
            "color": "#2a3f5f"
           }
          },
          "ternary": {
           "aaxis": {
            "gridcolor": "white",
            "linecolor": "white",
            "ticks": ""
           },
           "baxis": {
            "gridcolor": "white",
            "linecolor": "white",
            "ticks": ""
           },
           "bgcolor": "#E5ECF6",
           "caxis": {
            "gridcolor": "white",
            "linecolor": "white",
            "ticks": ""
           }
          },
          "title": {
           "x": 0.05
          },
          "xaxis": {
           "automargin": true,
           "gridcolor": "white",
           "linecolor": "white",
           "ticks": "",
           "title": {
            "standoff": 15
           },
           "zerolinecolor": "white",
           "zerolinewidth": 2
          },
          "yaxis": {
           "automargin": true,
           "gridcolor": "white",
           "linecolor": "white",
           "ticks": "",
           "title": {
            "standoff": 15
           },
           "zerolinecolor": "white",
           "zerolinewidth": 2
          }
         }
        },
        "title": {
         "text": "Author stats for Nature Genetics (from 2015)"
        },
        "xaxis": {
         "anchor": "y",
         "autorange": true,
         "domain": [
          0,
          1
         ],
         "range": [
          -0.5,
          2.5
         ],
         "title": {
          "text": "measure"
         },
         "type": "category"
        },
        "yaxis": {
         "anchor": "x",
         "autorange": true,
         "domain": [
          0,
          1
         ],
         "range": [
          0,
          56461.05263157895
         ],
         "title": {
          "text": "count"
         },
         "type": "linear"
        }
       }
      },
      "image/png": "[encoded data removed]",
      "text/html": [
       "<div>                            <div id=\"9fa37fda-902e-4d1a-bd35-9154195a2c01\" class=\"plotly-graph-div\" style=\"height:525px; width:100%;\"></div>            <script type=\"text/javascript\">                require([\"plotly\"], function(Plotly) {                    window.PLOTLYENV=window.PLOTLYENV || {};                                    if (document.getElementById(\"9fa37fda-902e-4d1a-bd35-9154195a2c01\")) {                    Plotly.newPlot(                        \"9fa37fda-902e-4d1a-bd35-9154195a2c01\",                        [{\"alignmentgroup\":\"True\",\"hovertemplate\":\"measure=%{x}<br>count=%{y}<extra></extra>\",\"legendgroup\":\"\",\"marker\":{\"color\":\"#636efa\",\"pattern\":{\"shape\":\"\"}},\"name\":\"\",\"offsetgroup\":\"\",\"orientation\":\"v\",\"showlegend\":false,\"textposition\":\"auto\",\"x\":[\"Authors in total (non unique)\",\"Authors with a researcher ID\",\"Authors with a researcher ID (unique)\"],\"xaxis\":\"x\",\"y\":[53638,53625,23346],\"yaxis\":\"y\",\"type\":\"bar\"}],                        {\"template\":{\"data\":{\"bar\":[{\"error_x\":{\"color\":\"#2a3f5f\"},\"error_y\":{\"color\":\"#2a3f5f\"},\"marker\":{\"line\":{\"color\":\"#E5ECF6\",\"width\":0.5},\"pattern\":{\"fillmode\":\"overlay\",\"size\":10,\"solidity\":0.2}},\"type\":\"bar\"}],\"barpolar\":[{\"marker\":{\"line\":{\"color\":\"#E5ECF6\",\"width\":0.5},\"pattern\":{\"fillmode\":\"overlay\",\"size\":10,\"solidity\":0.2}},\"type\":\"barpolar\"}],\"carpet\":[{\"aaxis\":{\"endlinecolor\":\"#2a3f5f\",\"gridcolor\":\"white\",\"linecolor\":\"white\",\"minorgridcolor\":\"white\",\"startlinecolor\":\"#2a3f5f\"},\"baxis\":{\"endlinecolor\":\"#2a3f5f\",\"gridcolor\":\"white\",\"linecolor\":\"white\",\"minorgridcolor\":\"white\",\"startlinecolor\":\"#2a3f5f\"},\"type\":\"carpet\"}],\"choropleth\":[{\"colorbar\":{\"outlinewidth\":0,\"ticks\":\"\"},\"type\":\"choropleth\"}],\"contour\":[{\"colorbar\":{\"outlinewidth\":0,\"ticks\":\"\"},\"colorscale\":[[0.0,\"#0d0887\"],[0.1111111111111111,\"#46039f\"],[0.2222222222222222,\"#7201a8\"],[0.3333333333333333,\"#9c179e\"],[0.4444444444444444,\"#bd3786\"],[0.5555555555555556,\"#d8576b\"],[0.6666666666666666,\"#ed7953\"],[0.7777777777777778,\"#fb9f3a\"],[0.8888888888888888,\"#fdca26\"],[1.0,\"#f0f921\"]],\"type\":\"contour\"}],\"contourcarpet\":[{\"colorbar\":{\"outlinewidth\":0,\"ticks\":\"\"},\"type\":\"contourcarpet\"}],\"heatmap\":[{\"colorbar\":{\"outlinewidth\":0,\"ticks\":\"\"},\"colorscale\":[[0.0,\"#0d0887\"],[0.1111111111111111,\"#46039f\"],[0.2222222222222222,\"#7201a8\"],[0.3333333333333333,\"#9c179e\"],[0.4444444444444444,\"#bd3786\"],[0.5555555555555556,\"#d8576b\"],[0.6666666666666666,\"#ed7953\"],[0.7777777777777778,\"#fb9f3a\"],[0.8888888888888888,\"#fdca26\"],[1.0,\"#f0f921\"]],\"type\":\"heatmap\"}],\"heatmapgl\":[{\"colorbar\":{\"outlinewidth\":0,\"ticks\":\"\"},\"colorscale\":[[0.0,\"#0d0887\"],[0.1111111111111111,\"#46039f\"],[0.2222222222222222,\"#7201a8\"],[0.3333333333333333,\"#9c179e\"],[0.4444444444444444,\"#bd3786\"],[0.5555555555555556,\"#d8576b\"],[0.6666666666666666,\"#ed7953\"],[0.7777777777777778,\"#fb9f3a\"],[0.8888888888888888,\"#fdca26\"],[1.0,\"#f0f921\"]],\"type\":\"heatmapgl\"}],\"histogram\":[{\"marker\":{\"pattern\":{\"fillmode\":\"overlay\",\"size\":10,\"solidity\":0.2}},\"type\":\"histogram\"}],\"histogram2d\":[{\"colorbar\":{\"outlinewidth\":0,\"ticks\":\"\"},\"colorscale\":[[0.0,\"#0d0887\"],[0.1111111111111111,\"#46039f\"],[0.2222222222222222,\"#7201a8\"],[0.3333333333333333,\"#9c179e\"],[0.4444444444444444,\"#bd3786\"],[0.5555555555555556,\"#d8576b\"],[0.6666666666666666,\"#ed7953\"],[0.7777777777777778,\"#fb9f3a\"],[0.8888888888888888,\"#fdca26\"],[1.0,\"#f0f921\"]],\"type\":\"histogram2d\"}],\"histogram2dcontour\":[{\"colorbar\":{\"outlinewidth\":0,\"ticks\":\"\"},\"colorscale\":[[0.0,\"#0d0887\"],[0.1111111111111111,\"#46039f\"],[0.2222222222222222,\"#7201a8\"],[0.3333333333333333,\"#9c179e\"],[0.4444444444444444,\"#bd3786\"],[0.5555555555555556,\"#d8576b\"],[0.6666666666666666,\"#ed7953\"],[0.7777777777777778,\"#fb9f3a\"],[0.8888888888888888,\"#fdca26\"],[1.0,\"#f0f921\"]],\"type\":\"histogram2dcontour\"}],\"mesh3d\":[{\"colorbar\":{\"outlinewidth\":0,\"ticks\":\"\"},\"type\":\"mesh3d\"}],\"parcoords\":[{\"line\":{\"colorbar\":{\"outlinewidth\":0,\"ticks\":\"\"}},\"type\":\"parcoords\"}],\"pie\":[{\"automargin\":true,\"type\":\"pie\"}],\"scatter\":[{\"marker\":{\"colorbar\":{\"outlinewidth\":0,\"ticks\":\"\"}},\"type\":\"scatter\"}],\"scatter3d\":[{\"line\":{\"colorbar\":{\"outlinewidth\":0,\"ticks\":\"\"}},\"marker\":{\"colorbar\":{\"outlinewidth\":0,\"ticks\":\"\"}},\"type\":\"scatter3d\"}],\"scattercarpet\":[{\"marker\":{\"colorbar\":{\"outlinewidth\":0,\"ticks\":\"\"}},\"type\":\"scattercarpet\"}],\"scattergeo\":[{\"marker\":{\"colorbar\":{\"outlinewidth\":0,\"ticks\":\"\"}},\"type\":\"scattergeo\"}],\"scattergl\":[{\"marker\":{\"colorbar\":{\"outlinewidth\":0,\"ticks\":\"\"}},\"type\":\"scattergl\"}],\"scattermapbox\":[{\"marker\":{\"colorbar\":{\"outlinewidth\":0,\"ticks\":\"\"}},\"type\":\"scattermapbox\"}],\"scatterpolar\":[{\"marker\":{\"colorbar\":{\"outlinewidth\":0,\"ticks\":\"\"}},\"type\":\"scatterpolar\"}],\"scatterpolargl\":[{\"marker\":{\"colorbar\":{\"outlinewidth\":0,\"ticks\":\"\"}},\"type\":\"scatterpolargl\"}],\"scatterternary\":[{\"marker\":{\"colorbar\":{\"outlinewidth\":0,\"ticks\":\"\"}},\"type\":\"scatterternary\"}],\"surface\":[{\"colorbar\":{\"outlinewidth\":0,\"ticks\":\"\"},\"colorscale\":[[0.0,\"#0d0887\"],[0.1111111111111111,\"#46039f\"],[0.2222222222222222,\"#7201a8\"],[0.3333333333333333,\"#9c179e\"],[0.4444444444444444,\"#bd3786\"],[0.5555555555555556,\"#d8576b\"],[0.6666666666666666,\"#ed7953\"],[0.7777777777777778,\"#fb9f3a\"],[0.8888888888888888,\"#fdca26\"],[1.0,\"#f0f921\"]],\"type\":\"surface\"}],\"table\":[{\"cells\":{\"fill\":{\"color\":\"#EBF0F8\"},\"line\":{\"color\":\"white\"}},\"header\":{\"fill\":{\"color\":\"#C8D4E3\"},\"line\":{\"color\":\"white\"}},\"type\":\"table\"}]},\"layout\":{\"annotationdefaults\":{\"arrowcolor\":\"#2a3f5f\",\"arrowhead\":0,\"arrowwidth\":1},\"autotypenumbers\":\"strict\",\"coloraxis\":{\"colorbar\":{\"outlinewidth\":0,\"ticks\":\"\"}},\"colorscale\":{\"diverging\":[[0,\"#8e0152\"],[0.1,\"#c51b7d\"],[0.2,\"#de77ae\"],[0.3,\"#f1b6da\"],[0.4,\"#fde0ef\"],[0.5,\"#f7f7f7\"],[0.6,\"#e6f5d0\"],[0.7,\"#b8e186\"],[0.8,\"#7fbc41\"],[0.9,\"#4d9221\"],[1,\"#276419\"]],\"sequential\":[[0.0,\"#0d0887\"],[0.1111111111111111,\"#46039f\"],[0.2222222222222222,\"#7201a8\"],[0.3333333333333333,\"#9c179e\"],[0.4444444444444444,\"#bd3786\"],[0.5555555555555556,\"#d8576b\"],[0.6666666666666666,\"#ed7953\"],[0.7777777777777778,\"#fb9f3a\"],[0.8888888888888888,\"#fdca26\"],[1.0,\"#f0f921\"]],\"sequentialminus\":[[0.0,\"#0d0887\"],[0.1111111111111111,\"#46039f\"],[0.2222222222222222,\"#7201a8\"],[0.3333333333333333,\"#9c179e\"],[0.4444444444444444,\"#bd3786\"],[0.5555555555555556,\"#d8576b\"],[0.6666666666666666,\"#ed7953\"],[0.7777777777777778,\"#fb9f3a\"],[0.8888888888888888,\"#fdca26\"],[1.0,\"#f0f921\"]]},\"colorway\":[\"#636efa\",\"#EF553B\",\"#00cc96\",\"#ab63fa\",\"#FFA15A\",\"#19d3f3\",\"#FF6692\",\"#B6E880\",\"#FF97FF\",\"#FECB52\"],\"font\":{\"color\":\"#2a3f5f\"},\"geo\":{\"bgcolor\":\"white\",\"lakecolor\":\"white\",\"landcolor\":\"#E5ECF6\",\"showlakes\":true,\"showland\":true,\"subunitcolor\":\"white\"},\"hoverlabel\":{\"align\":\"left\"},\"hovermode\":\"closest\",\"mapbox\":{\"style\":\"light\"},\"paper_bgcolor\":\"white\",\"plot_bgcolor\":\"#E5ECF6\",\"polar\":{\"angularaxis\":{\"gridcolor\":\"white\",\"linecolor\":\"white\",\"ticks\":\"\"},\"bgcolor\":\"#E5ECF6\",\"radialaxis\":{\"gridcolor\":\"white\",\"linecolor\":\"white\",\"ticks\":\"\"}},\"scene\":{\"xaxis\":{\"backgroundcolor\":\"#E5ECF6\",\"gridcolor\":\"white\",\"gridwidth\":2,\"linecolor\":\"white\",\"showbackground\":true,\"ticks\":\"\",\"zerolinecolor\":\"white\"},\"yaxis\":{\"backgroundcolor\":\"#E5ECF6\",\"gridcolor\":\"white\",\"gridwidth\":2,\"linecolor\":\"white\",\"showbackground\":true,\"ticks\":\"\",\"zerolinecolor\":\"white\"},\"zaxis\":{\"backgroundcolor\":\"#E5ECF6\",\"gridcolor\":\"white\",\"gridwidth\":2,\"linecolor\":\"white\",\"showbackground\":true,\"ticks\":\"\",\"zerolinecolor\":\"white\"}},\"shapedefaults\":{\"line\":{\"color\":\"#2a3f5f\"}},\"ternary\":{\"aaxis\":{\"gridcolor\":\"white\",\"linecolor\":\"white\",\"ticks\":\"\"},\"baxis\":{\"gridcolor\":\"white\",\"linecolor\":\"white\",\"ticks\":\"\"},\"bgcolor\":\"#E5ECF6\",\"caxis\":{\"gridcolor\":\"white\",\"linecolor\":\"white\",\"ticks\":\"\"}},\"title\":{\"x\":0.05},\"xaxis\":{\"automargin\":true,\"gridcolor\":\"white\",\"linecolor\":\"white\",\"ticks\":\"\",\"title\":{\"standoff\":15},\"zerolinecolor\":\"white\",\"zerolinewidth\":2},\"yaxis\":{\"automargin\":true,\"gridcolor\":\"white\",\"linecolor\":\"white\",\"ticks\":\"\",\"title\":{\"standoff\":15},\"zerolinecolor\":\"white\",\"zerolinewidth\":2}}},\"xaxis\":{\"anchor\":\"y\",\"domain\":[0.0,1.0],\"title\":{\"text\":\"measure\"}},\"yaxis\":{\"anchor\":\"x\",\"domain\":[0.0,1.0],\"title\":{\"text\":\"count\"}},\"legend\":{\"tracegroupgap\":0},\"title\":{\"text\":\"Author stats for Nature Genetics (from 2015)\"},\"barmode\":\"relative\"},                        {\"responsive\": true}                    ).then(function(){\n",
       "                            \n",
       "var gd = document.getElementById('9fa37fda-902e-4d1a-bd35-9154195a2c01');\n",
       "var x = new MutationObserver(function (mutations, observer) {{\n",
       "        var display = window.getComputedStyle(gd).display;\n",
       "        if (!display || display === 'none') {{\n",
       "            console.log([gd, 'removed!']);\n",
       "            Plotly.purge(gd);\n",
       "            observer.disconnect();\n",
       "        }}\n",
       "}});\n",
       "\n",
       "// Listen for the removal of the full notebook cells\n",
       "var notebookContainer = gd.closest('#notebook-container');\n",
       "if (notebookContainer) {{\n",
       "    x.observe(notebookContainer, {childList: true});\n",
       "}}\n",
       "\n",
       "// Listen for the clearing of the current output cell\n",
       "var outputEl = gd.closest('.output');\n",
       "if (outputEl) {{\n",
       "    x.observe(outputEl, {childList: true});\n",
       "}}\n",
       "\n",
       "                        })                };                });            </script>        </div>"
      ]
     },
     "metadata": {},
     "output_type": "display_data"
    }
   ],
   "source": [
    "researchers = authors.query(\"researcher_id!=''\")\n",
    "#\n",
    "df = pd.DataFrame({\n",
    "    'measure' : ['Authors in total (non unique)', 'Authors with a researcher ID', 'Authors with a researcher ID (unique)'],\n",
    "    'count' : [len(authors), len(researchers), researchers['researcher_id'].nunique()],\n",
    "})\n",
    "px.bar(df, x=\"measure\", y=\"count\", title=f\"Author stats for {journal_title} (from {start_year})\")"
   ]
  },
  {
   "cell_type": "code",
   "execution_count": 8,
   "metadata": {
    "Collapsed": "false",
    "colab": {},
    "colab_type": "code",
    "id": "bs2a6hzBRmdM"
   },
   "outputs": [],
   "source": [
    "# save the researchers data to a file\n",
    "save(researchers, \"1_authors_with_researchers_id.csv\")"
   ]
  },
  {
   "cell_type": "markdown",
   "metadata": {
    "Collapsed": "false",
    "colab_type": "text",
    "id": "fJuPwNoORmdN"
   },
   "source": [
    "## A quick look at authors *without* a Dimensions Researcher ID\n",
    "\n",
    "We're not going to try to disambiguate them here, but still it's good to have a quick look at them... \n",
    "\n",
    "Looks like the most common surname is `Wang`, while the most common first name is an empty value"
   ]
  },
  {
   "cell_type": "code",
   "execution_count": 9,
   "metadata": {
    "Collapsed": "false",
    "colab": {
     "base_uri": "https://localhost:8080/",
     "height": 172
    },
    "colab_type": "code",
    "executionInfo": {
     "elapsed": 9573,
     "status": "ok",
     "timestamp": 1590004336490,
     "user": {
      "displayName": "Michele Pasin",
      "photoUrl": "https://lh3.googleusercontent.com/a-/AOh14GiYfmLTPbeMuYDDrETLbTVXTXnfVr9f7eBtkmR73A=s64",
      "userId": "10309320684375994511"
     },
     "user_tz": -60
    },
    "id": "Zh-u7ZN4RmdO",
    "outputId": "4ab12b2a-dabc-4cf8-f64d-9e85e0e6e086"
   },
   "outputs": [
    {
     "data": {
      "text/html": [
       "<div>\n",
       "<style scoped>\n",
       "    .dataframe tbody tr th:only-of-type {\n",
       "        vertical-align: middle;\n",
       "    }\n",
       "\n",
       "    .dataframe tbody tr th {\n",
       "        vertical-align: top;\n",
       "    }\n",
       "\n",
       "    .dataframe thead th {\n",
       "        text-align: right;\n",
       "    }\n",
       "</style>\n",
       "<table border=\"1\" class=\"dataframe\">\n",
       "  <thead>\n",
       "    <tr style=\"text-align: right;\">\n",
       "      <th></th>\n",
       "      <th>first_name</th>\n",
       "      <th>last_name</th>\n",
       "    </tr>\n",
       "  </thead>\n",
       "  <tbody>\n",
       "    <tr>\n",
       "      <th>count</th>\n",
       "      <td>13</td>\n",
       "      <td>13</td>\n",
       "    </tr>\n",
       "    <tr>\n",
       "      <th>unique</th>\n",
       "      <td>6</td>\n",
       "      <td>9</td>\n",
       "    </tr>\n",
       "    <tr>\n",
       "      <th>top</th>\n",
       "      <td></td>\n",
       "      <td>Consortium</td>\n",
       "    </tr>\n",
       "    <tr>\n",
       "      <th>freq</th>\n",
       "      <td>8</td>\n",
       "      <td>4</td>\n",
       "    </tr>\n",
       "  </tbody>\n",
       "</table>\n",
       "</div>"
      ],
      "text/plain": [
       "       first_name   last_name\n",
       "count          13          13\n",
       "unique          6           9\n",
       "top                Consortium\n",
       "freq            8           4"
      ]
     },
     "execution_count": 9,
     "metadata": {},
     "output_type": "execute_result"
    }
   ],
   "source": [
    "authors_without_id = authors.query(\"researcher_id==''\")\n",
    "authors_without_id[['first_name', 'last_name']].describe()"
   ]
  },
  {
   "cell_type": "markdown",
   "metadata": {
    "Collapsed": "false",
    "colab_type": "text",
    "id": "17_9q8y1RmdP"
   },
   "source": [
    "Top ten 'ambiguous' surnames seem to be all Asian.. it's a rather known problem! "
   ]
  },
  {
   "cell_type": "code",
   "execution_count": 10,
   "metadata": {
    "Collapsed": "false",
    "colab": {
     "base_uri": "https://localhost:8080/",
     "height": 204
    },
    "colab_type": "code",
    "executionInfo": {
     "elapsed": 9567,
     "status": "ok",
     "timestamp": 1590004336491,
     "user": {
      "displayName": "Michele Pasin",
      "photoUrl": "https://lh3.googleusercontent.com/a-/AOh14GiYfmLTPbeMuYDDrETLbTVXTXnfVr9f7eBtkmR73A=s64",
      "userId": "10309320684375994511"
     },
     "user_tz": -60
    },
    "id": "IO6R4sRARmdQ",
    "outputId": "9adfea21-5f69-4698-a8b9-e6b9fb2c3e61"
   },
   "outputs": [
    {
     "data": {
      "text/plain": [
       "Consortium                                  4\n",
       "EPIC-CVD Consortium                         2\n",
       "ReproGen Consortium                         1\n",
       "Understanding Society Scientific Group      1\n",
       "AFGen Consortium                            1\n",
       "BioBank Japan Cooperative Hospital Group    1\n",
       "EPIC-InterAct Consortium                    1\n",
       "HIPSCI Consortium                           1\n",
       "consortium                                  1\n",
       "Name: last_name, dtype: int64"
      ]
     },
     "execution_count": 10,
     "metadata": {},
     "output_type": "execute_result"
    }
   ],
   "source": [
    "authors_without_id['last_name'].value_counts()[:10]"
   ]
  },
  {
   "cell_type": "markdown",
   "metadata": {
    "Collapsed": "false",
    "colab_type": "text",
    "id": "ivhKZPLsRmdS"
   },
   "source": [
    "### Any common patterns? \n",
    "\n",
    "If we try to group the data by name+surname we can see some interesting patterns \n",
    "\n",
    "* some entries are things which are not persons (presumably the results of bad source data in Dimensions, eg from the publisher) \n",
    "* there are some apparently meaningful name+surname combinations with a lot of hits\n",
    "* not many Asian names in the top ones \n",
    "\n"
   ]
  },
  {
   "cell_type": "code",
   "execution_count": 11,
   "metadata": {
    "Collapsed": "false",
    "colab": {
     "base_uri": "https://localhost:8080/",
     "height": 901
    },
    "colab_type": "code",
    "executionInfo": {
     "elapsed": 9563,
     "status": "ok",
     "timestamp": 1590004336491,
     "user": {
      "displayName": "Michele Pasin",
      "photoUrl": "https://lh3.googleusercontent.com/a-/AOh14GiYfmLTPbeMuYDDrETLbTVXTXnfVr9f7eBtkmR73A=s64",
      "userId": "10309320684375994511"
     },
     "user_tz": -60
    },
    "id": "VCkNdlWgRmdS",
    "outputId": "2ec4715d-0dc6-442c-a38a-6e9ef19344b6"
   },
   "outputs": [
    {
     "data": {
      "text/html": [
       "<div>\n",
       "<style scoped>\n",
       "    .dataframe tbody tr th:only-of-type {\n",
       "        vertical-align: middle;\n",
       "    }\n",
       "\n",
       "    .dataframe tbody tr th {\n",
       "        vertical-align: top;\n",
       "    }\n",
       "\n",
       "    .dataframe thead th {\n",
       "        text-align: right;\n",
       "    }\n",
       "</style>\n",
       "<table border=\"1\" class=\"dataframe\">\n",
       "  <thead>\n",
       "    <tr style=\"text-align: right;\">\n",
       "      <th></th>\n",
       "      <th>first_name</th>\n",
       "      <th>last_name</th>\n",
       "      <th>frequency</th>\n",
       "    </tr>\n",
       "  </thead>\n",
       "  <tbody>\n",
       "    <tr>\n",
       "      <th>2</th>\n",
       "      <td></td>\n",
       "      <td>EPIC-CVD Consortium</td>\n",
       "      <td>2</td>\n",
       "    </tr>\n",
       "    <tr>\n",
       "      <th>0</th>\n",
       "      <td></td>\n",
       "      <td>AFGen Consortium</td>\n",
       "      <td>1</td>\n",
       "    </tr>\n",
       "    <tr>\n",
       "      <th>1</th>\n",
       "      <td></td>\n",
       "      <td>BioBank Japan Cooperative Hospital Group</td>\n",
       "      <td>1</td>\n",
       "    </tr>\n",
       "    <tr>\n",
       "      <th>3</th>\n",
       "      <td></td>\n",
       "      <td>EPIC-InterAct Consortium</td>\n",
       "      <td>1</td>\n",
       "    </tr>\n",
       "    <tr>\n",
       "      <th>4</th>\n",
       "      <td></td>\n",
       "      <td>HIPSCI Consortium</td>\n",
       "      <td>1</td>\n",
       "    </tr>\n",
       "    <tr>\n",
       "      <th>5</th>\n",
       "      <td></td>\n",
       "      <td>ReproGen Consortium</td>\n",
       "      <td>1</td>\n",
       "    </tr>\n",
       "    <tr>\n",
       "      <th>6</th>\n",
       "      <td></td>\n",
       "      <td>Understanding Society Scientific Group</td>\n",
       "      <td>1</td>\n",
       "    </tr>\n",
       "    <tr>\n",
       "      <th>7</th>\n",
       "      <td>BIOS</td>\n",
       "      <td>Consortium</td>\n",
       "      <td>1</td>\n",
       "    </tr>\n",
       "    <tr>\n",
       "      <th>8</th>\n",
       "      <td>EPIC-InterAct</td>\n",
       "      <td>Consortium</td>\n",
       "      <td>1</td>\n",
       "    </tr>\n",
       "    <tr>\n",
       "      <th>9</th>\n",
       "      <td>ReproGen</td>\n",
       "      <td>Consortium</td>\n",
       "      <td>1</td>\n",
       "    </tr>\n",
       "    <tr>\n",
       "      <th>10</th>\n",
       "      <td>arcOGEN</td>\n",
       "      <td>consortium</td>\n",
       "      <td>1</td>\n",
       "    </tr>\n",
       "    <tr>\n",
       "      <th>11</th>\n",
       "      <td>eQTLGen</td>\n",
       "      <td>Consortium</td>\n",
       "      <td>1</td>\n",
       "    </tr>\n",
       "  </tbody>\n",
       "</table>\n",
       "</div>"
      ],
      "text/plain": [
       "       first_name                                 last_name  frequency\n",
       "2                                       EPIC-CVD Consortium          2\n",
       "0                                          AFGen Consortium          1\n",
       "1                  BioBank Japan Cooperative Hospital Group          1\n",
       "3                                  EPIC-InterAct Consortium          1\n",
       "4                                         HIPSCI Consortium          1\n",
       "5                                       ReproGen Consortium          1\n",
       "6                    Understanding Society Scientific Group          1\n",
       "7            BIOS                                Consortium          1\n",
       "8   EPIC-InterAct                                Consortium          1\n",
       "9        ReproGen                                Consortium          1\n",
       "10        arcOGEN                                consortium          1\n",
       "11        eQTLGen                                Consortium          1"
      ]
     },
     "execution_count": 11,
     "metadata": {},
     "output_type": "execute_result"
    }
   ],
   "source": [
    "authors_without_id = authors_without_id.groupby([\"first_name\", \"last_name\"]).size().reset_index().rename(columns={0: \"frequency\"})\n",
    "authors_without_id.sort_values(\"frequency\", ascending=False, inplace=True)\n",
    "authors_without_id.head(20)"
   ]
  },
  {
   "cell_type": "markdown",
   "metadata": {
    "Collapsed": "false",
    "colab_type": "text",
    "id": "dqxFegeLRmdW"
   },
   "source": [
    "### Creating an export for manual curation\n",
    "\n",
    "For the next tasks, we will focus on the disambiguated authors as the Researcher ID links will let us carry out useful analyses.\n",
    "\n",
    "Still, we can **save the authors with missing IDs** results and try to do some manual disambiguation later. To this end, adding a simple google-search URL can help in making sense of these data quickly."
   ]
  },
  {
   "cell_type": "code",
   "execution_count": 12,
   "metadata": {
    "Collapsed": "false",
    "colab": {
     "base_uri": "https://localhost:8080/",
     "height": 508
    },
    "colab_type": "code",
    "executionInfo": {
     "elapsed": 9890,
     "status": "ok",
     "timestamp": 1590004336822,
     "user": {
      "displayName": "Michele Pasin",
      "photoUrl": "https://lh3.googleusercontent.com/a-/AOh14GiYfmLTPbeMuYDDrETLbTVXTXnfVr9f7eBtkmR73A=s64",
      "userId": "10309320684375994511"
     },
     "user_tz": -60
    },
    "id": "cC__pj51RmdW",
    "outputId": "da9b33b0-1cf5-4a3c-9d5e-4c5a95b3fa28"
   },
   "outputs": [
    {
     "name": "stdout",
     "output_type": "stream",
     "text": [
      "WARNING: the `shortcuts` module is deprecated. Use instead ``from dimcli.utils import *``\n"
     ]
    },
    {
     "data": {
      "text/html": [
       "<div>\n",
       "<style scoped>\n",
       "    .dataframe tbody tr th:only-of-type {\n",
       "        vertical-align: middle;\n",
       "    }\n",
       "\n",
       "    .dataframe tbody tr th {\n",
       "        vertical-align: top;\n",
       "    }\n",
       "\n",
       "    .dataframe thead th {\n",
       "        text-align: right;\n",
       "    }\n",
       "</style>\n",
       "<table border=\"1\" class=\"dataframe\">\n",
       "  <thead>\n",
       "    <tr style=\"text-align: right;\">\n",
       "      <th></th>\n",
       "      <th>first_name</th>\n",
       "      <th>last_name</th>\n",
       "      <th>frequency</th>\n",
       "      <th>search_url</th>\n",
       "    </tr>\n",
       "  </thead>\n",
       "  <tbody>\n",
       "    <tr>\n",
       "      <th>2</th>\n",
       "      <td></td>\n",
       "      <td>EPIC-CVD Consortium</td>\n",
       "      <td>2</td>\n",
       "      <td>https://www.google.com/search?q=%20EPIC-CVD%20...</td>\n",
       "    </tr>\n",
       "    <tr>\n",
       "      <th>0</th>\n",
       "      <td></td>\n",
       "      <td>AFGen Consortium</td>\n",
       "      <td>1</td>\n",
       "      <td>https://www.google.com/search?q=%20AFGen%20Con...</td>\n",
       "    </tr>\n",
       "    <tr>\n",
       "      <th>1</th>\n",
       "      <td></td>\n",
       "      <td>BioBank Japan Cooperative Hospital Group</td>\n",
       "      <td>1</td>\n",
       "      <td>https://www.google.com/search?q=%20BioBank%20J...</td>\n",
       "    </tr>\n",
       "    <tr>\n",
       "      <th>3</th>\n",
       "      <td></td>\n",
       "      <td>EPIC-InterAct Consortium</td>\n",
       "      <td>1</td>\n",
       "      <td>https://www.google.com/search?q=%20EPIC-InterA...</td>\n",
       "    </tr>\n",
       "    <tr>\n",
       "      <th>4</th>\n",
       "      <td></td>\n",
       "      <td>HIPSCI Consortium</td>\n",
       "      <td>1</td>\n",
       "      <td>https://www.google.com/search?q=%20HIPSCI%20Co...</td>\n",
       "    </tr>\n",
       "    <tr>\n",
       "      <th>5</th>\n",
       "      <td></td>\n",
       "      <td>ReproGen Consortium</td>\n",
       "      <td>1</td>\n",
       "      <td>https://www.google.com/search?q=%20ReproGen%20...</td>\n",
       "    </tr>\n",
       "    <tr>\n",
       "      <th>6</th>\n",
       "      <td></td>\n",
       "      <td>Understanding Society Scientific Group</td>\n",
       "      <td>1</td>\n",
       "      <td>https://www.google.com/search?q=%20Understandi...</td>\n",
       "    </tr>\n",
       "    <tr>\n",
       "      <th>7</th>\n",
       "      <td>BIOS</td>\n",
       "      <td>Consortium</td>\n",
       "      <td>1</td>\n",
       "      <td>https://www.google.com/search?q=BIOS%20Consortium</td>\n",
       "    </tr>\n",
       "    <tr>\n",
       "      <th>8</th>\n",
       "      <td>EPIC-InterAct</td>\n",
       "      <td>Consortium</td>\n",
       "      <td>1</td>\n",
       "      <td>https://www.google.com/search?q=EPIC-InterAct%...</td>\n",
       "    </tr>\n",
       "    <tr>\n",
       "      <th>9</th>\n",
       "      <td>ReproGen</td>\n",
       "      <td>Consortium</td>\n",
       "      <td>1</td>\n",
       "      <td>https://www.google.com/search?q=ReproGen%20Con...</td>\n",
       "    </tr>\n",
       "    <tr>\n",
       "      <th>10</th>\n",
       "      <td>arcOGEN</td>\n",
       "      <td>consortium</td>\n",
       "      <td>1</td>\n",
       "      <td>https://www.google.com/search?q=arcOGEN%20cons...</td>\n",
       "    </tr>\n",
       "    <tr>\n",
       "      <th>11</th>\n",
       "      <td>eQTLGen</td>\n",
       "      <td>Consortium</td>\n",
       "      <td>1</td>\n",
       "      <td>https://www.google.com/search?q=eQTLGen%20Cons...</td>\n",
       "    </tr>\n",
       "  </tbody>\n",
       "</table>\n",
       "</div>"
      ],
      "text/plain": [
       "       first_name                                 last_name  frequency  \\\n",
       "2                                       EPIC-CVD Consortium          2   \n",
       "0                                          AFGen Consortium          1   \n",
       "1                  BioBank Japan Cooperative Hospital Group          1   \n",
       "3                                  EPIC-InterAct Consortium          1   \n",
       "4                                         HIPSCI Consortium          1   \n",
       "5                                       ReproGen Consortium          1   \n",
       "6                    Understanding Society Scientific Group          1   \n",
       "7            BIOS                                Consortium          1   \n",
       "8   EPIC-InterAct                                Consortium          1   \n",
       "9        ReproGen                                Consortium          1   \n",
       "10        arcOGEN                                consortium          1   \n",
       "11        eQTLGen                                Consortium          1   \n",
       "\n",
       "                                           search_url  \n",
       "2   https://www.google.com/search?q=%20EPIC-CVD%20...  \n",
       "0   https://www.google.com/search?q=%20AFGen%20Con...  \n",
       "1   https://www.google.com/search?q=%20BioBank%20J...  \n",
       "3   https://www.google.com/search?q=%20EPIC-InterA...  \n",
       "4   https://www.google.com/search?q=%20HIPSCI%20Co...  \n",
       "5   https://www.google.com/search?q=%20ReproGen%20...  \n",
       "6   https://www.google.com/search?q=%20Understandi...  \n",
       "7   https://www.google.com/search?q=BIOS%20Consortium  \n",
       "8   https://www.google.com/search?q=EPIC-InterAct%...  \n",
       "9   https://www.google.com/search?q=ReproGen%20Con...  \n",
       "10  https://www.google.com/search?q=arcOGEN%20cons...  \n",
       "11  https://www.google.com/search?q=eQTLGen%20Cons...  "
      ]
     },
     "execution_count": 12,
     "metadata": {},
     "output_type": "execute_result"
    }
   ],
   "source": [
    "from dimcli.shortcuts import google_url\n",
    "\n",
    "authors_without_id['search_url'] = authors_without_id.apply(lambda x: google_url(x['first_name'] + \" \" +x['last_name'] ), axis=1)\n",
    "\n",
    "authors_without_id.head(20)"
   ]
  },
  {
   "cell_type": "code",
   "execution_count": 13,
   "metadata": {
    "Collapsed": "false",
    "colab": {},
    "colab_type": "code",
    "id": "xQFQTOPOWm_T"
   },
   "outputs": [],
   "source": [
    "# save the data\n",
    "save(authors_without_id, \"1_authors_without_researchers_id.csv\")"
   ]
  },
  {
   "cell_type": "markdown",
   "metadata": {
    "Collapsed": "false",
    "colab_type": "text",
    "id": "Y9cYfZJZRmdY"
   },
   "source": [
    "That's it! \n",
    "\n",
    "Now let's go and open this in [Google Sheets](https://docs.google.com/spreadsheets/)..."
   ]
  },
  {
   "cell_type": "code",
   "execution_count": 16,
   "metadata": {
    "Collapsed": "false",
    "colab": {
     "base_uri": "https://localhost:8080/",
     "height": 34
    },
    "colab_type": "code",
    "executionInfo": {
     "elapsed": 9303,
     "status": "ok",
     "timestamp": 1590004531476,
     "user": {
      "displayName": "Michele Pasin",
      "photoUrl": "https://lh3.googleusercontent.com/a-/AOh14GiYfmLTPbeMuYDDrETLbTVXTXnfVr9f7eBtkmR73A=s64",
      "userId": "10309320684375994511"
     },
     "user_tz": -60
    },
    "id": "pt8y3YXAo6EM",
    "outputId": "18b6b189-f5f3-4290-ed40-662184d36525"
   },
   "outputs": [],
   "source": [
    "# for colab users: download everything\n",
    "if 'google.colab' in sys.modules:\n",
    "    from google.colab import auth\n",
    "    auth.authenticate_user()\n",
    "\n",
    "    import gspread\n",
    "    from gspread_dataframe import get_as_dataframe, set_with_dataframe\n",
    "    from oauth2client.client import GoogleCredentials\n",
    "\n",
    "    gc = gspread.authorize(GoogleCredentials.get_application_default())\n",
    "\n",
    "    title = 'Authors_without_IDs'\n",
    "    sh = gc.create(title)\n",
    "    worksheet = gc.open(title).sheet1\n",
    "    set_with_dataframe(worksheet, authors_without_id)\n",
    "    spreadsheet_url = \"https://docs.google.com/spreadsheets/d/%s\" % sh.id\n",
    "    print(spreadsheet_url)"
   ]
  }
 ],
 "metadata": {
  "colab": {
   "collapsed_sections": [],
   "name": "Journal-Profile-1-Gathering-data.ipynb",
   "provenance": [],
   "toc_visible": true
  },
  "kernelspec": {
   "display_name": "Python 3 (ipykernel)",
   "language": "python",
   "name": "python3"
  },
  "language_info": {
   "codemirror_mode": {
    "name": "ipython",
    "version": 3
   },
   "file_extension": ".py",
   "mimetype": "text/x-python",
   "name": "python",
   "nbconvert_exporter": "python",
   "pygments_lexer": "ipython3",
   "version": "3.9.9"
  }
 },
 "nbformat": 4,
 "nbformat_minor": 4
}
