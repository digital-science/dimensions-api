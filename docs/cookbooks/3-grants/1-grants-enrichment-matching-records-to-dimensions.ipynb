{
 "cells": [
  {
   "cell_type": "markdown",
   "metadata": {
    "Collapsed": "false",
    "colab_type": "text",
    "id": "ZKRV6ocYZhK1"
   },
   "source": [
    "# Enriching Grants part 1: Matching your grants records to Dimensions\n",
    "\n",
    "In this tutorial we are going to **match** a sample local grants datasets to Dimensions. \n",
    "\n",
    "By *matching* we mean discovering the unique **Dimensions identifier** for these grants, so that we can then use the IDs to extract from Dimensions more related objects (eg researchers, publications, patents, clinical trials etc.. related to the grants).\n",
    "\n",
    "## A sample grants list\n",
    "\n",
    "Our starting point is a [sample list of completed grants on the topic of *vaccines*](http://api-sample-data.dimensions.ai/data/vaccines-grants-sample-part-0.csv), which contains common fields such as title, funder, grant/project ID, funding amount etc.. \n",
    "\n",
    "We will show below how to enrich this dataset with Dimensions IDs."
   ]
  },
  {
   "cell_type": "code",
   "execution_count": 1,
   "metadata": {},
   "outputs": [
    {
     "name": "stdout",
     "output_type": "stream",
     "text": [
      "==\n",
      "CHANGELOG\n",
      "This notebook was last run on Apr 19, 2023\n",
      "==\n"
     ]
    }
   ],
   "source": [
    "import datetime\n",
    "print(\"==\\nCHANGELOG\\nThis notebook was last run on %s\\n==\" % datetime.date.today().strftime('%b %d, %Y'))"
   ]
  },
  {
   "cell_type": "markdown",
   "metadata": {
    "Collapsed": "false",
    "colab_type": "text",
    "id": "hMaQlB7DG8Vw"
   },
   "source": [
    "## Prerequisites\n",
    "\n",
    "This notebook assumes you have installed the [Dimcli](https://pypi.org/project/dimcli/) library and are familiar with the ['Getting Started' tutorial](https://api-lab.dimensions.ai/cookbooks/1-getting-started/1-Using-the-Dimcli-library-to-query-the-API.html)."
   ]
  },
  {
   "cell_type": "code",
   "execution_count": 2,
   "metadata": {
    "Collapsed": "false"
   },
   "outputs": [
    {
     "name": "stderr",
     "output_type": "stream",
     "text": [
      "\u001b[2mSearching config file credentials for 'https://app.dimensions.ai' endpoint..\u001b[0m\n"
     ]
    },
    {
     "name": "stdout",
     "output_type": "stream",
     "text": [
      "==\n",
      "Logging in..\n",
      "\u001b[2mDimcli - Dimensions API Client (v1.0.2)\u001b[0m\n",
      "\u001b[2mConnected to: <https://app.dimensions.ai/api/dsl> - DSL v2.6\u001b[0m\n",
      "\u001b[2mMethod: dsl.ini file\u001b[0m\n"
     ]
    }
   ],
   "source": [
    "!pip install dimcli tqdm -U --quiet \n",
    "\n",
    "import dimcli\n",
    "from dimcli.utils import *\n",
    "\n",
    "import sys, time\n",
    "import pandas as pd\n",
    "\n",
    "\n",
    "print(\"==\\nLogging in..\")\n",
    "# https://digital-science.github.io/dimcli/getting-started.html#authentication\n",
    "ENDPOINT = \"https://app.dimensions.ai\"\n",
    "if 'google.colab' in sys.modules:\n",
    "  import getpass\n",
    "  KEY = getpass.getpass(prompt='API Key: ')  \n",
    "  dimcli.login(key=KEY, endpoint=ENDPOINT)\n",
    "else:\n",
    "  KEY = \"\"\n",
    "  dimcli.login(key=KEY, endpoint=ENDPOINT)\n",
    "dsl = dimcli.Dsl()"
   ]
  },
  {
   "cell_type": "markdown",
   "metadata": {
    "Collapsed": "false",
    "colab_type": "text",
    "id": "uK8MAnLKnz24"
   },
   "source": [
    "## Loading the sample grants data\n",
    "\n",
    "First we are going to load the sample dataset [\"vaccines-grants-sample-part-0.csv\"](http://api-sample-data.dimensions.ai/data/vaccines-grants-sample-part-0.csv). \n"
   ]
  },
  {
   "cell_type": "code",
   "execution_count": 3,
   "metadata": {
    "Collapsed": "false",
    "colab": {},
    "colab_type": "code",
    "id": "JjAprcJSaToK"
   },
   "outputs": [],
   "source": [
    "grants_source = pd.read_csv(\"http://api-sample-data.dimensions.ai/data/vaccines-grants-sample-part-0.csv\")"
   ]
  },
  {
   "cell_type": "markdown",
   "metadata": {
    "Collapsed": "false",
    "colab_type": "text",
    "id": "h9GTClPS3k1u"
   },
   "source": [
    "Now we can preview the contents of the file."
   ]
  },
  {
   "cell_type": "code",
   "execution_count": 4,
   "metadata": {
    "Collapsed": "false",
    "colab": {
     "base_uri": "https://localhost:8080/",
     "height": 557
    },
    "colab_type": "code",
    "executionInfo": {
     "elapsed": 377,
     "status": "ok",
     "timestamp": 1573832212245,
     "user": {
      "displayName": "Michele Pasin",
      "photoUrl": "https://lh3.googleusercontent.com/a-/AAuE7mBu8LVjIGgontF2Wax51BoL5KFx8esezX3bUmaa0g=s64",
      "userId": "10309320684375994511"
     },
     "user_tz": 300
    },
    "id": "OeywaSG7bnyR",
    "outputId": "7b5d07dd-4309-4510-ca09-6006f3660ba6"
   },
   "outputs": [
    {
     "data": {
      "text/html": [
       "<div>\n",
       "<style scoped>\n",
       "    .dataframe tbody tr th:only-of-type {\n",
       "        vertical-align: middle;\n",
       "    }\n",
       "\n",
       "    .dataframe tbody tr th {\n",
       "        vertical-align: top;\n",
       "    }\n",
       "\n",
       "    .dataframe thead th {\n",
       "        text-align: right;\n",
       "    }\n",
       "</style>\n",
       "<table border=\"1\" class=\"dataframe\">\n",
       "  <thead>\n",
       "    <tr style=\"text-align: right;\">\n",
       "      <th></th>\n",
       "      <th>Grant Number</th>\n",
       "      <th>Title</th>\n",
       "      <th>Funding Amount in USD</th>\n",
       "      <th>Start Year</th>\n",
       "      <th>End Year</th>\n",
       "      <th>Funder</th>\n",
       "      <th>Funder Country</th>\n",
       "    </tr>\n",
       "  </thead>\n",
       "  <tbody>\n",
       "    <tr>\n",
       "      <th>0</th>\n",
       "      <td>30410203277</td>\n",
       "      <td>疫苗－整体方案</td>\n",
       "      <td>1208.0</td>\n",
       "      <td>2004</td>\n",
       "      <td>2004</td>\n",
       "      <td>National Natural Science Foundation of China</td>\n",
       "      <td>China</td>\n",
       "    </tr>\n",
       "    <tr>\n",
       "      <th>1</th>\n",
       "      <td>620792</td>\n",
       "      <td>Engineering Inhalable Vaccines</td>\n",
       "      <td>26956.0</td>\n",
       "      <td>2017</td>\n",
       "      <td>2018</td>\n",
       "      <td>Natural Sciences and Engineering Research Council</td>\n",
       "      <td>Canada</td>\n",
       "    </tr>\n",
       "    <tr>\n",
       "      <th>2</th>\n",
       "      <td>599115</td>\n",
       "      <td>Engineering Inhalable Vaccines</td>\n",
       "      <td>26403.0</td>\n",
       "      <td>2016</td>\n",
       "      <td>2017</td>\n",
       "      <td>Natural Sciences and Engineering Research Council</td>\n",
       "      <td>Canada</td>\n",
       "    </tr>\n",
       "    <tr>\n",
       "      <th>3</th>\n",
       "      <td>251564</td>\n",
       "      <td>HIV Vaccine research</td>\n",
       "      <td>442366.0</td>\n",
       "      <td>2003</td>\n",
       "      <td>2007</td>\n",
       "      <td>National Health and Medical Research Council</td>\n",
       "      <td>Australia</td>\n",
       "    </tr>\n",
       "    <tr>\n",
       "      <th>4</th>\n",
       "      <td>334174</td>\n",
       "      <td>HIV Vaccine Development</td>\n",
       "      <td>236067.0</td>\n",
       "      <td>2005</td>\n",
       "      <td>2009</td>\n",
       "      <td>National Health and Medical Research Council</td>\n",
       "      <td>Australia</td>\n",
       "    </tr>\n",
       "  </tbody>\n",
       "</table>\n",
       "</div>"
      ],
      "text/plain": [
       "  Grant Number                           Title  Funding Amount in USD  \\\n",
       "0  30410203277                         疫苗－整体方案                 1208.0   \n",
       "1       620792  Engineering Inhalable Vaccines                26956.0   \n",
       "2       599115  Engineering Inhalable Vaccines                26403.0   \n",
       "3       251564            HIV Vaccine research               442366.0   \n",
       "4       334174         HIV Vaccine Development               236067.0   \n",
       "\n",
       "   Start Year  End Year                                             Funder  \\\n",
       "0        2004      2004       National Natural Science Foundation of China   \n",
       "1        2017      2018  Natural Sciences and Engineering Research Council   \n",
       "2        2016      2017  Natural Sciences and Engineering Research Council   \n",
       "3        2003      2007       National Health and Medical Research Council   \n",
       "4        2005      2009       National Health and Medical Research Council   \n",
       "\n",
       "  Funder Country  \n",
       "0          China  \n",
       "1         Canada  \n",
       "2         Canada  \n",
       "3      Australia  \n",
       "4      Australia  "
      ]
     },
     "execution_count": 4,
     "metadata": {},
     "output_type": "execute_result"
    }
   ],
   "source": [
    "grants_source.head(5)"
   ]
  },
  {
   "cell_type": "markdown",
   "metadata": {
    "Collapsed": "false",
    "colab_type": "text",
    "id": "r9ide_glbo_E"
   },
   "source": [
    "## Matching grants data\n",
    "\n",
    "The are two possible situations to consider."
   ]
  },
  {
   "cell_type": "markdown",
   "metadata": {
    "Collapsed": "false",
    "colab_type": "text",
    "id": "F6zsNEJGmxrI"
   },
   "source": [
    "\n",
    "\n",
    "### A) Matching grants when we have a grant number\n",
    "\n",
    "The Dimensions API includes a [function 'extract_grants'](https://docs.dimensions.ai/dsl/functions.html#function-extract-grants) that makes it easier to find a grant in Dimensions, by using information such as funder name and the funder grant identifier. \n",
    "\n",
    "So one approach is the following:"
   ]
  },
  {
   "cell_type": "code",
   "execution_count": 5,
   "metadata": {
    "Collapsed": "false",
    "colab": {
     "base_uri": "https://localhost:8080/",
     "height": 35
    },
    "colab_type": "code",
    "executionInfo": {
     "elapsed": 1245,
     "status": "ok",
     "timestamp": 1573832268061,
     "user": {
      "displayName": "Michele Pasin",
      "photoUrl": "https://lh3.googleusercontent.com/a-/AAuE7mBu8LVjIGgontF2Wax51BoL5KFx8esezX3bUmaa0g=s64",
      "userId": "10309320684375994511"
     },
     "user_tz": 300
    },
    "id": "FypAdA-UcM_q",
    "outputId": "738b3327-91b3-4f91-dc26-77acb13a3b51"
   },
   "outputs": [
    {
     "data": {
      "text/plain": [
       "{'grant_id': 'grant.8172033'}"
      ]
     },
     "execution_count": 5,
     "metadata": {},
     "output_type": "execute_result"
    }
   ],
   "source": [
    "dsl.query(\"\"\"extract_grants(grant_number=\"30410203277\", \n",
    "    funder_name=\"National Natural Science Foundation of China\")\"\"\").json"
   ]
  },
  {
   "cell_type": "code",
   "execution_count": 6,
   "metadata": {
    "Collapsed": "false",
    "colab": {
     "base_uri": "https://localhost:8080/",
     "height": 34
    },
    "colab_type": "code",
    "executionInfo": {
     "elapsed": 936,
     "status": "ok",
     "timestamp": 1573762164630,
     "user": {
      "displayName": "Michele Pasin",
      "photoUrl": "https://lh3.googleusercontent.com/a-/AAuE7mBu8LVjIGgontF2Wax51BoL5KFx8esezX3bUmaa0g=s64",
      "userId": "10309320684375994511"
     },
     "user_tz": 300
    },
    "id": "RYiE_MwCc5aT",
    "outputId": "c9ab1160-c964-4360-a039-d750d59ca562"
   },
   "outputs": [
    {
     "data": {
      "text/plain": [
       "{'grant_id': 'grant.6722306'}"
      ]
     },
     "execution_count": 6,
     "metadata": {},
     "output_type": "execute_result"
    }
   ],
   "source": [
    "dsl.query(\"\"\"extract_grants(grant_number=\"334174\", \n",
    "    funder_name=\"National Health and Medical Research Council\")\"\"\").json"
   ]
  },
  {
   "cell_type": "markdown",
   "metadata": {
    "Collapsed": "false",
    "colab_type": "text",
    "id": "rgXZNihS4n5O"
   },
   "source": [
    "Note: this won't work without funder name"
   ]
  },
  {
   "cell_type": "code",
   "execution_count": 7,
   "metadata": {
    "Collapsed": "false",
    "colab": {
     "base_uri": "https://localhost:8080/",
     "height": 35
    },
    "colab_type": "code",
    "executionInfo": {
     "elapsed": 1099,
     "status": "ok",
     "timestamp": 1573832282555,
     "user": {
      "displayName": "Michele Pasin",
      "photoUrl": "https://lh3.googleusercontent.com/a-/AAuE7mBu8LVjIGgontF2Wax51BoL5KFx8esezX3bUmaa0g=s64",
      "userId": "10309320684375994511"
     },
     "user_tz": 300
    },
    "id": "r2wr3FECcrdq",
    "outputId": "7709b2ef-f8f2-435c-8870-5d28eb87144a"
   },
   "outputs": [
    {
     "data": {
      "text/plain": [
       "{'grant_id': None}"
      ]
     },
     "execution_count": 7,
     "metadata": {},
     "output_type": "execute_result"
    }
   ],
   "source": [
    "dsl.query(\"\"\"extract_grants(grant_number=\"30410203277\", \n",
    "    funder_name=\"\")\"\"\").json"
   ]
  },
  {
   "cell_type": "markdown",
   "metadata": {
    "Collapsed": "false",
    "colab_type": "text",
    "id": "h_QjTK5H4uet"
   },
   "source": [
    "But we can pass a [fundref ID](https://www.crossref.org/services/funder-registry/) if we have it (also available via [GRID](https://grid.ac/institutes/grid.419696.5))"
   ]
  },
  {
   "cell_type": "code",
   "execution_count": 8,
   "metadata": {
    "Collapsed": "false",
    "colab": {
     "base_uri": "https://localhost:8080/",
     "height": 34
    },
    "colab_type": "code",
    "executionInfo": {
     "elapsed": 848,
     "status": "ok",
     "timestamp": 1573499590645,
     "user": {
      "displayName": "Michele Pasin",
      "photoUrl": "https://lh3.googleusercontent.com/a-/AAuE7mBu8LVjIGgontF2Wax51BoL5KFx8esezX3bUmaa0g=s64",
      "userId": "10309320684375994511"
     },
     "user_tz": 0
    },
    "id": "JK3lyoPO4GXs",
    "outputId": "ce989120-7e44-483a-f05a-219f2e93c006"
   },
   "outputs": [
    {
     "data": {
      "text/plain": [
       "{'grant_id': 'grant.8172033'}"
      ]
     },
     "execution_count": 8,
     "metadata": {},
     "output_type": "execute_result"
    }
   ],
   "source": [
    "dsl.query(\"\"\"extract_grants(grant_number=\"30410203277\", \n",
    "    fundref=\"501100001809\")\"\"\").json"
   ]
  },
  {
   "cell_type": "markdown",
   "metadata": {
    "Collapsed": "false",
    "colab_type": "text",
    "id": "OZt8u0hhdToj"
   },
   "source": [
    "### B) What if we don't have a grant number?"
   ]
  },
  {
   "cell_type": "markdown",
   "metadata": {
    "Collapsed": "false",
    "colab_type": "text",
    "id": "0OSZBzo-48tf"
   },
   "source": [
    "Then the only way is to \n",
    "\n",
    "* query Dimensions using the best grants metadata we have available\n",
    "* if we get only one result, we just take it \n",
    "* if we get more than one result, we need to manually review them at a later point, or develop some sort of algorithm  to sort them by relevancy so that we can take the first result\n",
    "\n",
    "Let's take some of the grants without a number:"
   ]
  },
  {
   "cell_type": "code",
   "execution_count": 9,
   "metadata": {
    "Collapsed": "false",
    "colab": {},
    "colab_type": "code",
    "id": "VOZgmrAcdoJp"
   },
   "outputs": [],
   "source": [
    "grants_without_number = grants_source[grants_source['Grant Number'].isnull()]"
   ]
  },
  {
   "cell_type": "code",
   "execution_count": 10,
   "metadata": {
    "Collapsed": "false",
    "colab": {
     "base_uri": "https://localhost:8080/",
     "height": 481
    },
    "colab_type": "code",
    "executionInfo": {
     "elapsed": 465,
     "status": "ok",
     "timestamp": 1573499826132,
     "user": {
      "displayName": "Michele Pasin",
      "photoUrl": "https://lh3.googleusercontent.com/a-/AAuE7mBu8LVjIGgontF2Wax51BoL5KFx8esezX3bUmaa0g=s64",
      "userId": "10309320684375994511"
     },
     "user_tz": 0
    },
    "id": "0vJaoXIG5dHa",
    "outputId": "4e2557e0-7389-465e-c178-927f19be6545"
   },
   "outputs": [
    {
     "data": {
      "text/html": [
       "<div>\n",
       "<style scoped>\n",
       "    .dataframe tbody tr th:only-of-type {\n",
       "        vertical-align: middle;\n",
       "    }\n",
       "\n",
       "    .dataframe tbody tr th {\n",
       "        vertical-align: top;\n",
       "    }\n",
       "\n",
       "    .dataframe thead th {\n",
       "        text-align: right;\n",
       "    }\n",
       "</style>\n",
       "<table border=\"1\" class=\"dataframe\">\n",
       "  <thead>\n",
       "    <tr style=\"text-align: right;\">\n",
       "      <th></th>\n",
       "      <th>Grant Number</th>\n",
       "      <th>Title</th>\n",
       "      <th>Funding Amount in USD</th>\n",
       "      <th>Start Year</th>\n",
       "      <th>End Year</th>\n",
       "      <th>Funder</th>\n",
       "      <th>Funder Country</th>\n",
       "    </tr>\n",
       "  </thead>\n",
       "  <tbody>\n",
       "    <tr>\n",
       "      <th>38</th>\n",
       "      <td>NaN</td>\n",
       "      <td>DENGUE VACCINE DEVELOPMENT</td>\n",
       "      <td>50000.0</td>\n",
       "      <td>1985</td>\n",
       "      <td>1986</td>\n",
       "      <td>United States Department of the Army</td>\n",
       "      <td>United States</td>\n",
       "    </tr>\n",
       "    <tr>\n",
       "      <th>79</th>\n",
       "      <td>NaN</td>\n",
       "      <td>Sterilization Vaccine for Cattle</td>\n",
       "      <td>0.0</td>\n",
       "      <td>2006</td>\n",
       "      <td>2006</td>\n",
       "      <td>Council for International Exchange of Scholars</td>\n",
       "      <td>United States</td>\n",
       "    </tr>\n",
       "    <tr>\n",
       "      <th>80</th>\n",
       "      <td>NaN</td>\n",
       "      <td>Vaccine Production in Plants</td>\n",
       "      <td>0.0</td>\n",
       "      <td>2011</td>\n",
       "      <td>2011</td>\n",
       "      <td>Council for International Exchange of Scholars</td>\n",
       "      <td>United States</td>\n",
       "    </tr>\n",
       "    <tr>\n",
       "      <th>81</th>\n",
       "      <td>NaN</td>\n",
       "      <td>Novel vaccine formulations against tuberculosis</td>\n",
       "      <td>295003.0</td>\n",
       "      <td>2002</td>\n",
       "      <td>2005</td>\n",
       "      <td>Canadian Institutes of Health Research</td>\n",
       "      <td>Canada</td>\n",
       "    </tr>\n",
       "    <tr>\n",
       "      <th>446</th>\n",
       "      <td>NaN</td>\n",
       "      <td>Development of recombinant TB vaccine</td>\n",
       "      <td>101459.0</td>\n",
       "      <td>1999</td>\n",
       "      <td>2003</td>\n",
       "      <td>Canadian Institutes of Health Research</td>\n",
       "      <td>Canada</td>\n",
       "    </tr>\n",
       "  </tbody>\n",
       "</table>\n",
       "</div>"
      ],
      "text/plain": [
       "    Grant Number                                            Title  \\\n",
       "38           NaN                       DENGUE VACCINE DEVELOPMENT   \n",
       "79           NaN                 Sterilization Vaccine for Cattle   \n",
       "80           NaN                     Vaccine Production in Plants   \n",
       "81           NaN  Novel vaccine formulations against tuberculosis   \n",
       "446          NaN            Development of recombinant TB vaccine   \n",
       "\n",
       "     Funding Amount in USD  Start Year  End Year  \\\n",
       "38                 50000.0        1985      1986   \n",
       "79                     0.0        2006      2006   \n",
       "80                     0.0        2011      2011   \n",
       "81                295003.0        2002      2005   \n",
       "446               101459.0        1999      2003   \n",
       "\n",
       "                                             Funder Funder Country  \n",
       "38             United States Department of the Army  United States  \n",
       "79   Council for International Exchange of Scholars  United States  \n",
       "80   Council for International Exchange of Scholars  United States  \n",
       "81           Canadian Institutes of Health Research         Canada  \n",
       "446          Canadian Institutes of Health Research         Canada  "
      ]
     },
     "execution_count": 10,
     "metadata": {},
     "output_type": "execute_result"
    }
   ],
   "source": [
    "grants_without_number.head(5)"
   ]
  },
  {
   "cell_type": "markdown",
   "metadata": {
    "Collapsed": "false",
    "colab_type": "text",
    "id": "MEbhiWdH5hFZ"
   },
   "source": [
    "Now let's try to find the second grant in the list above, using only its title and the funder country"
   ]
  },
  {
   "cell_type": "code",
   "execution_count": 11,
   "metadata": {
    "Collapsed": "false",
    "colab": {
     "base_uri": "https://localhost:8080/",
     "height": 239
    },
    "colab_type": "code",
    "executionInfo": {
     "elapsed": 906,
     "status": "ok",
     "timestamp": 1573832403575,
     "user": {
      "displayName": "Michele Pasin",
      "photoUrl": "https://lh3.googleusercontent.com/a-/AAuE7mBu8LVjIGgontF2Wax51BoL5KFx8esezX3bUmaa0g=s64",
      "userId": "10309320684375994511"
     },
     "user_tz": 300
    },
    "id": "zAzh73F_eu6_",
    "outputId": "ef6e93bb-f87f-4ac6-ba97-60eb60b9f685"
   },
   "outputs": [
    {
     "name": "stdout",
     "output_type": "stream",
     "text": [
      "Returned Grants: 1 (total = 1)\n",
      "\u001b[2mTime: 0.65s\u001b[0m\n",
      "WARNINGS [1]\n",
      "Field 'funder_countries' is deprecated in favor of funder_org_countries. Please refer to https://docs.dimensions.ai/dsl/releasenotes.html for more details\n"
     ]
    },
    {
     "data": {
      "text/html": [
       "<div>\n",
       "<style scoped>\n",
       "    .dataframe tbody tr th:only-of-type {\n",
       "        vertical-align: middle;\n",
       "    }\n",
       "\n",
       "    .dataframe tbody tr th {\n",
       "        vertical-align: top;\n",
       "    }\n",
       "\n",
       "    .dataframe thead th {\n",
       "        text-align: right;\n",
       "    }\n",
       "</style>\n",
       "<table border=\"1\" class=\"dataframe\">\n",
       "  <thead>\n",
       "    <tr style=\"text-align: right;\">\n",
       "      <th></th>\n",
       "      <th>id</th>\n",
       "      <th>title</th>\n",
       "      <th>active_year</th>\n",
       "      <th>end_date</th>\n",
       "      <th>funder_org_name</th>\n",
       "      <th>funder_orgs</th>\n",
       "      <th>grant_number</th>\n",
       "      <th>language</th>\n",
       "      <th>original_title</th>\n",
       "      <th>start_date</th>\n",
       "      <th>start_year</th>\n",
       "    </tr>\n",
       "  </thead>\n",
       "  <tbody>\n",
       "    <tr>\n",
       "      <th>0</th>\n",
       "      <td>grant.9923948</td>\n",
       "      <td>Vaccine Production in Plants</td>\n",
       "      <td>[2011]</td>\n",
       "      <td>2011-09-01</td>\n",
       "      <td>Council for International Exchange of Scholars</td>\n",
       "      <td>[{'acronym': 'CIES', 'city_name': 'Washington ...</td>\n",
       "      <td>N/A</td>\n",
       "      <td>en</td>\n",
       "      <td>Vaccine Production in Plants</td>\n",
       "      <td>2011-01-01</td>\n",
       "      <td>2011</td>\n",
       "    </tr>\n",
       "  </tbody>\n",
       "</table>\n",
       "</div>"
      ],
      "text/plain": [
       "              id                         title active_year    end_date  \\\n",
       "0  grant.9923948  Vaccine Production in Plants      [2011]  2011-09-01   \n",
       "\n",
       "                                  funder_org_name  \\\n",
       "0  Council for International Exchange of Scholars   \n",
       "\n",
       "                                         funder_orgs grant_number language  \\\n",
       "0  [{'acronym': 'CIES', 'city_name': 'Washington ...          N/A       en   \n",
       "\n",
       "                 original_title  start_date  start_year  \n",
       "0  Vaccine Production in Plants  2011-01-01        2011  "
      ]
     },
     "execution_count": 11,
     "metadata": {},
     "output_type": "execute_result"
    }
   ],
   "source": [
    "%%dsldf \n",
    "\n",
    "search grants \n",
    "    in title_only for \"Vaccine Production in Plants\" \n",
    "    where funder_countries.name=\"United States\" \n",
    "return grants"
   ]
  },
  {
   "cell_type": "code",
   "execution_count": 12,
   "metadata": {
    "Collapsed": "false",
    "colab": {
     "base_uri": "https://localhost:8080/",
     "height": 34
    },
    "colab_type": "code",
    "executionInfo": {
     "elapsed": 427,
     "status": "ok",
     "timestamp": 1573762243165,
     "user": {
      "displayName": "Michele Pasin",
      "photoUrl": "https://lh3.googleusercontent.com/a-/AAuE7mBu8LVjIGgontF2Wax51BoL5KFx8esezX3bUmaa0g=s64",
      "userId": "10309320684375994511"
     },
     "user_tz": 300
    },
    "id": "jf_fdc695y2z",
    "outputId": "ace36e98-f68e-4915-97f5-76fb1eeb9833"
   },
   "outputs": [
    {
     "name": "stdout",
     "output_type": "stream",
     "text": [
      "The Dimensions ID is:  grant.9923948\n"
     ]
    }
   ],
   "source": [
    "# we're in luck! only one record found\n",
    "print(\"The Dimensions ID is: \", dsl_last_results.iloc[0]['id'])"
   ]
  },
  {
   "cell_type": "markdown",
   "metadata": {
    "Collapsed": "false",
    "colab_type": "text",
    "id": "MZhRXqzbfN7h"
   },
   "source": [
    "## Back to our grants list\n",
    "\n",
    "We can set up a loop to go through all the grants we want to get a Dimensions ID for, so that we can enrich our original dataset with those IDs. A simple approach is the following:\n",
    "\n",
    "* we try to use the `extract_grants` function first\n",
    "* second we try the `search` operation as a fall back plan\n",
    "  * if that returns more than one record, we simply take the first one (even though in real life we'd want a more sophisticated approach)\n",
    "* note: we pause a second after each query to ensure we don't hit the max queries quota (~30 per minute)\n",
    "\n",
    "NOTE For the purpose of this exercise, you can select less that the ~1200 grants in the original list, so to speed things up. "
   ]
  },
  {
   "cell_type": "code",
   "execution_count": 13,
   "metadata": {
    "Collapsed": "false",
    "colab": {},
    "colab_type": "code",
    "id": "IoghS-YaglYH"
   },
   "outputs": [],
   "source": [
    "grants = grants_source[:100].copy()"
   ]
  },
  {
   "cell_type": "code",
   "execution_count": 14,
   "metadata": {
    "Collapsed": "false",
    "colab": {
     "base_uri": "https://localhost:8080/",
     "height": 1000
    },
    "colab_type": "code",
    "executionInfo": {
     "elapsed": 437,
     "status": "ok",
     "timestamp": 1573762265836,
     "user": {
      "displayName": "Michele Pasin",
      "photoUrl": "https://lh3.googleusercontent.com/a-/AAuE7mBu8LVjIGgontF2Wax51BoL5KFx8esezX3bUmaa0g=s64",
      "userId": "10309320684375994511"
     },
     "user_tz": 300
    },
    "id": "gC4EeBpShoiy",
    "outputId": "21187f6c-5097-43fd-d4c5-f17e6e44e999"
   },
   "outputs": [
    {
     "data": {
      "text/html": [
       "<div>\n",
       "<style scoped>\n",
       "    .dataframe tbody tr th:only-of-type {\n",
       "        vertical-align: middle;\n",
       "    }\n",
       "\n",
       "    .dataframe tbody tr th {\n",
       "        vertical-align: top;\n",
       "    }\n",
       "\n",
       "    .dataframe thead th {\n",
       "        text-align: right;\n",
       "    }\n",
       "</style>\n",
       "<table border=\"1\" class=\"dataframe\">\n",
       "  <thead>\n",
       "    <tr style=\"text-align: right;\">\n",
       "      <th></th>\n",
       "      <th>Grant Number</th>\n",
       "      <th>Title</th>\n",
       "      <th>Funding Amount in USD</th>\n",
       "      <th>Start Year</th>\n",
       "      <th>End Year</th>\n",
       "      <th>Funder</th>\n",
       "      <th>Funder Country</th>\n",
       "    </tr>\n",
       "  </thead>\n",
       "  <tbody>\n",
       "    <tr>\n",
       "      <th>0</th>\n",
       "      <td>30410203277</td>\n",
       "      <td>疫苗－整体方案</td>\n",
       "      <td>1208.0</td>\n",
       "      <td>2004</td>\n",
       "      <td>2004</td>\n",
       "      <td>National Natural Science Foundation of China</td>\n",
       "      <td>China</td>\n",
       "    </tr>\n",
       "    <tr>\n",
       "      <th>1</th>\n",
       "      <td>620792</td>\n",
       "      <td>Engineering Inhalable Vaccines</td>\n",
       "      <td>26956.0</td>\n",
       "      <td>2017</td>\n",
       "      <td>2018</td>\n",
       "      <td>Natural Sciences and Engineering Research Council</td>\n",
       "      <td>Canada</td>\n",
       "    </tr>\n",
       "    <tr>\n",
       "      <th>2</th>\n",
       "      <td>599115</td>\n",
       "      <td>Engineering Inhalable Vaccines</td>\n",
       "      <td>26403.0</td>\n",
       "      <td>2016</td>\n",
       "      <td>2017</td>\n",
       "      <td>Natural Sciences and Engineering Research Council</td>\n",
       "      <td>Canada</td>\n",
       "    </tr>\n",
       "    <tr>\n",
       "      <th>3</th>\n",
       "      <td>251564</td>\n",
       "      <td>HIV Vaccine research</td>\n",
       "      <td>442366.0</td>\n",
       "      <td>2003</td>\n",
       "      <td>2007</td>\n",
       "      <td>National Health and Medical Research Council</td>\n",
       "      <td>Australia</td>\n",
       "    </tr>\n",
       "    <tr>\n",
       "      <th>4</th>\n",
       "      <td>334174</td>\n",
       "      <td>HIV Vaccine Development</td>\n",
       "      <td>236067.0</td>\n",
       "      <td>2005</td>\n",
       "      <td>2009</td>\n",
       "      <td>National Health and Medical Research Council</td>\n",
       "      <td>Australia</td>\n",
       "    </tr>\n",
       "    <tr>\n",
       "      <th>5</th>\n",
       "      <td>910292</td>\n",
       "      <td>Dengue virus vaccine.</td>\n",
       "      <td>130890.0</td>\n",
       "      <td>1991</td>\n",
       "      <td>1993</td>\n",
       "      <td>National Health and Medical Research Council</td>\n",
       "      <td>Australia</td>\n",
       "    </tr>\n",
       "    <tr>\n",
       "      <th>6</th>\n",
       "      <td>578221</td>\n",
       "      <td>Engineering Inhalable Vaccines</td>\n",
       "      <td>27386.0</td>\n",
       "      <td>2015</td>\n",
       "      <td>2016</td>\n",
       "      <td>Natural Sciences and Engineering Research Council</td>\n",
       "      <td>Canada</td>\n",
       "    </tr>\n",
       "    <tr>\n",
       "      <th>7</th>\n",
       "      <td>IC18980360</td>\n",
       "      <td>Schistosomiasis Vaccine Network.</td>\n",
       "      <td>0.0</td>\n",
       "      <td>1998</td>\n",
       "      <td>2000</td>\n",
       "      <td>European Commission</td>\n",
       "      <td>Belgium</td>\n",
       "    </tr>\n",
       "    <tr>\n",
       "      <th>8</th>\n",
       "      <td>7621798</td>\n",
       "      <td>Pneumococcal Ribosomal Vaccines</td>\n",
       "      <td>46000.0</td>\n",
       "      <td>1977</td>\n",
       "      <td>1980</td>\n",
       "      <td>Directorate for Biological Sciences</td>\n",
       "      <td>United States</td>\n",
       "    </tr>\n",
       "    <tr>\n",
       "      <th>9</th>\n",
       "      <td>255890</td>\n",
       "      <td>Rational vaccine design</td>\n",
       "      <td>7138.0</td>\n",
       "      <td>2003</td>\n",
       "      <td>2004</td>\n",
       "      <td>Natural Sciences and Engineering Research Council</td>\n",
       "      <td>Canada</td>\n",
       "    </tr>\n",
       "  </tbody>\n",
       "</table>\n",
       "</div>"
      ],
      "text/plain": [
       "  Grant Number                             Title  Funding Amount in USD  \\\n",
       "0  30410203277                           疫苗－整体方案                 1208.0   \n",
       "1       620792    Engineering Inhalable Vaccines                26956.0   \n",
       "2       599115    Engineering Inhalable Vaccines                26403.0   \n",
       "3       251564              HIV Vaccine research               442366.0   \n",
       "4       334174           HIV Vaccine Development               236067.0   \n",
       "5       910292             Dengue virus vaccine.               130890.0   \n",
       "6       578221    Engineering Inhalable Vaccines                27386.0   \n",
       "7   IC18980360  Schistosomiasis Vaccine Network.                    0.0   \n",
       "8      7621798   Pneumococcal Ribosomal Vaccines                46000.0   \n",
       "9       255890           Rational vaccine design                 7138.0   \n",
       "\n",
       "   Start Year  End Year                                             Funder  \\\n",
       "0        2004      2004       National Natural Science Foundation of China   \n",
       "1        2017      2018  Natural Sciences and Engineering Research Council   \n",
       "2        2016      2017  Natural Sciences and Engineering Research Council   \n",
       "3        2003      2007       National Health and Medical Research Council   \n",
       "4        2005      2009       National Health and Medical Research Council   \n",
       "5        1991      1993       National Health and Medical Research Council   \n",
       "6        2015      2016  Natural Sciences and Engineering Research Council   \n",
       "7        1998      2000                                European Commission   \n",
       "8        1977      1980                Directorate for Biological Sciences   \n",
       "9        2003      2004  Natural Sciences and Engineering Research Council   \n",
       "\n",
       "  Funder Country  \n",
       "0          China  \n",
       "1         Canada  \n",
       "2         Canada  \n",
       "3      Australia  \n",
       "4      Australia  \n",
       "5      Australia  \n",
       "6         Canada  \n",
       "7        Belgium  \n",
       "8  United States  \n",
       "9         Canada  "
      ]
     },
     "execution_count": 14,
     "metadata": {},
     "output_type": "execute_result"
    }
   ],
   "source": [
    "grants.head(10)"
   ]
  },
  {
   "cell_type": "markdown",
   "metadata": {
    "Collapsed": "false",
    "colab_type": "text",
    "id": "zkccX9Y-65kb"
   },
   "source": [
    "Setting up the loop "
   ]
  },
  {
   "cell_type": "code",
   "execution_count": 25,
   "metadata": {},
   "outputs": [
    {
     "data": {
      "application/vnd.jupyter.widget-view+json": {
       "model_id": "b429ac7fbeaa49378a7f57073f53485a",
       "version_major": 2,
       "version_minor": 0
      },
      "text/plain": [
       "  0%|          | 0/100 [00:00<?, ?it/s]"
      ]
     },
     "metadata": {},
     "output_type": "display_data"
    },
    {
     "name": "stdout",
     "output_type": "stream",
     "text": [
      "Found a match with method 1:  grant.8172033\n",
      "Returned Grants: 3 (total = 3)\n",
      "\u001b[2mTime: 0.56s\u001b[0m\n",
      "=== Found a match with method 2:  grant.7715379\n",
      "Returned Grants: 3 (total = 3)\n",
      "\u001b[2mTime: 3.35s\u001b[0m\n",
      "=== Found a match with method 2:  grant.7715379\n",
      "Found a match with method 1:  grant.6723913\n",
      "Found a match with method 1:  grant.6722306\n",
      "Found a match with method 1:  grant.6716312\n",
      "Returned Grants: 3 (total = 3)\n",
      "\u001b[2mTime: 7.82s\u001b[0m\n",
      "=== Found a match with method 2:  grant.7715379\n",
      "Found a match with method 1:  grant.3733803\n",
      "Found a match with method 1:  grant.3274273\n",
      "Returned Grants: 2 (total = 2)\n",
      "\u001b[2mTime: 1.62s\u001b[0m\n",
      "=== Found a match with method 2:  grant.2863615\n",
      "Returned Grants: 2 (total = 2)\n",
      "\u001b[2mTime: 0.55s\u001b[0m\n",
      "=== Found a match with method 2:  grant.2863615\n",
      "Returned Grants: 2 (total = 2)\n",
      "\u001b[2mTime: 6.07s\u001b[0m\n",
      "=== Found a match with method 2:  grant.2807651\n",
      "Returned Grants: 2 (total = 2)\n",
      "\u001b[2mTime: 3.28s\u001b[0m\n",
      "=== Found a match with method 2:  grant.2807651\n",
      "Returned Grants: 2 (total = 2)\n",
      "\u001b[2mTime: 6.50s\u001b[0m\n",
      "=== Found a match with method 2:  grant.2920553\n",
      "Found a match with method 1:  grant.2710461\n",
      "Found a match with method 1:  grant.2657659\n",
      "Found a match with method 1:  grant.2640369\n",
      "Found a match with method 1:  grant.2640228\n",
      "Found a match with method 1:  grant.2426045\n",
      "Found a match with method 1:  grant.2426044\n",
      "Found a match with method 1:  grant.2426039\n",
      "Found a match with method 1:  grant.2425936\n",
      "Found a match with method 1:  grant.2425935\n",
      "Found a match with method 1:  grant.2425932\n",
      "Found a match with method 1:  grant.2425010\n",
      "Found a match with method 1:  grant.2424436\n",
      "Found a match with method 1:  grant.8068979\n",
      "Found a match with method 1:  grant.7106480\n",
      "Found a match with method 1:  grant.2639983\n",
      "Found a match with method 1:  grant.2355874\n",
      "Found a match with method 1:  grant.7566903\n",
      "Found a match with method 1:  grant.7042623\n",
      "Found a match with method 1:  grant.7040393\n",
      "Found a match with method 1:  grant.6731478\n",
      "Found a match with method 1:  grant.6728996\n",
      "Found a match with method 1:  grant.6723289\n",
      "Found a match with method 1:  grant.6718929\n",
      "Found a match with method 1:  grant.6713873\n",
      "Returned Grants: 4 (total = 4)\n",
      "\u001b[2mTime: 2.53s\u001b[0m\n",
      "=== Found a match with method 2:  grant.6585159\n",
      "Returned Grants: 2 (total = 2)\n",
      "\u001b[2mTime: 4.45s\u001b[0m\n",
      "=== Found a match with method 2:  grant.7667275\n",
      "Returned Grants: 2 (total = 2)\n",
      "\u001b[2mTime: 5.75s\u001b[0m\n",
      "=== Found a match with method 2:  grant.2957579\n",
      "Returned Grants: 1 (total = 1)\n",
      "\u001b[2mTime: 0.53s\u001b[0m\n",
      "=== Found a match with method 2:  grant.2972379\n",
      "Returned Grants: 2 (total = 2)\n",
      "\u001b[2mTime: 0.66s\u001b[0m\n",
      "=== Found a match with method 2:  grant.2964974\n",
      "Returned Grants: 2 (total = 2)\n",
      "\u001b[2mTime: 2.65s\u001b[0m\n",
      "=== Found a match with method 2:  grant.2957579\n",
      "Returned Grants: 0\n",
      "\u001b[2mTime: 0.54s\u001b[0m\n",
      "Failed - skipping\n",
      "Returned Grants: 1 (total = 1)\n",
      "\u001b[2mTime: 0.55s\u001b[0m\n",
      "=== Found a match with method 2:  grant.2920553\n",
      "Returned Grants: 3 (total = 3)\n",
      "\u001b[2mTime: 3.16s\u001b[0m\n",
      "=== Found a match with method 2:  grant.7654331\n",
      "Returned Grants: 2 (total = 2)\n",
      "\u001b[2mTime: 4.28s\u001b[0m\n",
      "=== Found a match with method 2:  grant.2964974\n",
      "Returned Grants: 2 (total = 2)\n",
      "\u001b[2mTime: 5.40s\u001b[0m\n",
      "=== Found a match with method 2:  grant.2880945\n",
      "Returned Grants: 0\n",
      "\u001b[2mTime: 0.58s\u001b[0m\n",
      "Failed - skipping\n",
      "Returned Grants: 0\n",
      "\u001b[2mTime: 6.05s\u001b[0m\n",
      "Failed - skipping\n",
      "Returned Grants: 2 (total = 2)\n",
      "\u001b[2mTime: 0.52s\u001b[0m\n",
      "=== Found a match with method 2:  grant.2880945\n",
      "Returned Grants: 1 (total = 1)\n",
      "\u001b[2mTime: 0.55s\u001b[0m\n",
      "=== Found a match with method 2:  grant.2795214\n",
      "Found a match with method 1:  grant.2692263\n",
      "Found a match with method 1:  grant.2688631\n",
      "Found a match with method 1:  grant.2657670\n",
      "Found a match with method 1:  grant.2640366\n",
      "Found a match with method 1:  grant.2597598\n",
      "Found a match with method 1:  grant.2424826\n",
      "Found a match with method 1:  grant.2424691\n",
      "Found a match with method 1:  grant.2424653\n",
      "Found a match with method 1:  grant.2424634\n",
      "Found a match with method 1:  grant.2424633\n",
      "Found a match with method 1:  grant.2424632\n",
      "Found a match with method 1:  grant.2424631\n",
      "Found a match with method 1:  grant.2424630\n",
      "Found a match with method 1:  grant.2424629\n",
      "Found a match with method 1:  grant.2424455\n",
      "Found a match with method 1:  grant.2424372\n",
      "Found a match with method 1:  grant.2393802\n",
      "Found a match with method 1:  grant.2393756\n",
      "Found a match with method 1:  grant.7987079\n",
      "Found a match with method 1:  grant.8217971\n",
      "Found a match with method 1:  grant.8176576\n",
      "Found a match with method 1:  grant.8175344\n",
      "Found a match with method 1:  grant.8172020\n",
      "Found a match with method 1:  grant.8166566\n",
      "Found a match with method 1:  grant.7988463\n",
      "Found a match with method 1:  grant.100075050\n",
      "Returned Grants: 2 (total = 2)\n",
      "\u001b[2mTime: 3.13s\u001b[0m\n",
      "=== Found a match with method 2:  grant.7688859\n",
      "Returned Grants: 1 (total = 1)\n",
      "\u001b[2mTime: 0.57s\u001b[0m\n",
      "=== Found a match with method 2:  grant.9923948\n",
      "Returned Grants: 1 (total = 1)\n",
      "\u001b[2mTime: 4.67s\u001b[0m\n",
      "=== Found a match with method 2:  grant.7666696\n",
      "Found a match with method 1:  grant.8684816\n",
      "Found a match with method 1:  grant.8633207\n",
      "Found a match with method 1:  grant.8633389\n",
      "Found a match with method 1:  grant.8633097\n",
      "Found a match with method 1:  grant.8557183\n",
      "Found a match with method 1:  grant.8554194\n",
      "Found a match with method 1:  grant.8553708\n",
      "Found a match with method 1:  grant.8554075\n",
      "Found a match with method 1:  grant.8553908\n",
      "Found a match with method 1:  grant.8473170\n",
      "Found a match with method 1:  grant.8387795\n",
      "Found a match with method 1:  grant.8384515\n",
      "Found a match with method 1:  grant.8383668\n",
      "Found a match with method 1:  grant.7909702\n",
      "Found a match with method 1:  grant.7908868\n",
      "Found a match with method 1:  grant.7752832\n",
      "Found a match with method 1:  grant.7754464\n",
      "Found a match with method 1:  grant.7752982\n"
     ]
    }
   ],
   "source": [
    "# load the progress bar widget for jupyter\n",
    "from tqdm.notebook import tqdm as progressbar\n",
    "\n",
    "output = []\n",
    "\n",
    "def find_grant_first_method(grantno, funder):\n",
    "  match = dsl.query(f'''extract_grants(grant_number=\"{grantno}\", funder_name=\"{funder}\")''').json\n",
    "  grant_id = match.get(\"grant_id\")\n",
    "  if grant_id:\n",
    "    print(\"Found a match with method 1: \", grant_id)\n",
    "    return grant_id\n",
    "\n",
    "def find_grant_second_method(title, country):\n",
    "  # match titles exactly - see also https://docs.dimensions.ai/dsl/language.html#using-triple-quotes\n",
    "  res = dsl.query(f'''search grants in title_only for \"\"\" \"{title}\" \"\"\" where funder_org_countries.name=\"{country}\" return grants''')\n",
    "  if not res.errors:\n",
    "      if res.grants and res.grants[0].get('id'):\n",
    "        grant_id = res.grants[0].get('id')\n",
    "        print(\"=== Found a match with method 2: \", grant_id)\n",
    "        return grant_id\n",
    "\n",
    "\n",
    "for index, row in progressbar(grants.iterrows(), total=grants.shape[0]):\n",
    "  # get data from table\n",
    "  grantno, funder = row['Grant Number'], row['Funder']\n",
    "  # try first method\n",
    "  grant_id = find_grant_first_method(grantno, funder)\n",
    "  if not grant_id:\n",
    "    # try second method\n",
    "    title, country = row['Title'], row['Funder Country']\n",
    "    grant_id = find_grant_second_method(title, country)\n",
    "    if not grant_id:\n",
    "      print(\"Failed - skipping\")\n",
    "  output.append(grant_id)\n",
    "  time.sleep(1)\n"
   ]
  },
  {
   "cell_type": "markdown",
   "metadata": {
    "Collapsed": "false",
    "colab_type": "text",
    "id": "HQMvFRdHgfDP"
   },
   "source": [
    "### Enriching the original list\n",
    "\n",
    "Finally, we can take the Dimensions ID data we extracted and add it to the original grants table as an extra column."
   ]
  },
  {
   "cell_type": "code",
   "execution_count": 26,
   "metadata": {
    "Collapsed": "false",
    "colab": {},
    "colab_type": "code",
    "id": "jZkl-URblj2T"
   },
   "outputs": [],
   "source": [
    "grants[\"Dimensions ID\"] = output"
   ]
  },
  {
   "cell_type": "code",
   "execution_count": 27,
   "metadata": {
    "Collapsed": "false",
    "colab": {
     "base_uri": "https://localhost:8080/",
     "height": 1000
    },
    "colab_type": "code",
    "executionInfo": {
     "elapsed": 529,
     "status": "ok",
     "timestamp": 1573500714236,
     "user": {
      "displayName": "Michele Pasin",
      "photoUrl": "https://lh3.googleusercontent.com/a-/AAuE7mBu8LVjIGgontF2Wax51BoL5KFx8esezX3bUmaa0g=s64",
      "userId": "10309320684375994511"
     },
     "user_tz": 0
    },
    "id": "uL3psbt0mKyK",
    "outputId": "d14d83cb-37de-4b8e-b98e-fc506acea7c3"
   },
   "outputs": [
    {
     "data": {
      "text/html": [
       "<div>\n",
       "<style scoped>\n",
       "    .dataframe tbody tr th:only-of-type {\n",
       "        vertical-align: middle;\n",
       "    }\n",
       "\n",
       "    .dataframe tbody tr th {\n",
       "        vertical-align: top;\n",
       "    }\n",
       "\n",
       "    .dataframe thead th {\n",
       "        text-align: right;\n",
       "    }\n",
       "</style>\n",
       "<table border=\"1\" class=\"dataframe\">\n",
       "  <thead>\n",
       "    <tr style=\"text-align: right;\">\n",
       "      <th></th>\n",
       "      <th>Grant Number</th>\n",
       "      <th>Title</th>\n",
       "      <th>Funding Amount in USD</th>\n",
       "      <th>Start Year</th>\n",
       "      <th>End Year</th>\n",
       "      <th>Funder</th>\n",
       "      <th>Funder Country</th>\n",
       "      <th>Dimensions ID</th>\n",
       "    </tr>\n",
       "  </thead>\n",
       "  <tbody>\n",
       "    <tr>\n",
       "      <th>0</th>\n",
       "      <td>30410203277</td>\n",
       "      <td>疫苗－整体方案</td>\n",
       "      <td>1208.0</td>\n",
       "      <td>2004</td>\n",
       "      <td>2004</td>\n",
       "      <td>National Natural Science Foundation of China</td>\n",
       "      <td>China</td>\n",
       "      <td>grant.8172033</td>\n",
       "    </tr>\n",
       "    <tr>\n",
       "      <th>1</th>\n",
       "      <td>620792</td>\n",
       "      <td>Engineering Inhalable Vaccines</td>\n",
       "      <td>26956.0</td>\n",
       "      <td>2017</td>\n",
       "      <td>2018</td>\n",
       "      <td>Natural Sciences and Engineering Research Council</td>\n",
       "      <td>Canada</td>\n",
       "      <td>grant.7715379</td>\n",
       "    </tr>\n",
       "    <tr>\n",
       "      <th>2</th>\n",
       "      <td>599115</td>\n",
       "      <td>Engineering Inhalable Vaccines</td>\n",
       "      <td>26403.0</td>\n",
       "      <td>2016</td>\n",
       "      <td>2017</td>\n",
       "      <td>Natural Sciences and Engineering Research Council</td>\n",
       "      <td>Canada</td>\n",
       "      <td>grant.7715379</td>\n",
       "    </tr>\n",
       "    <tr>\n",
       "      <th>3</th>\n",
       "      <td>251564</td>\n",
       "      <td>HIV Vaccine research</td>\n",
       "      <td>442366.0</td>\n",
       "      <td>2003</td>\n",
       "      <td>2007</td>\n",
       "      <td>National Health and Medical Research Council</td>\n",
       "      <td>Australia</td>\n",
       "      <td>grant.6723913</td>\n",
       "    </tr>\n",
       "    <tr>\n",
       "      <th>4</th>\n",
       "      <td>334174</td>\n",
       "      <td>HIV Vaccine Development</td>\n",
       "      <td>236067.0</td>\n",
       "      <td>2005</td>\n",
       "      <td>2009</td>\n",
       "      <td>National Health and Medical Research Council</td>\n",
       "      <td>Australia</td>\n",
       "      <td>grant.6722306</td>\n",
       "    </tr>\n",
       "    <tr>\n",
       "      <th>5</th>\n",
       "      <td>910292</td>\n",
       "      <td>Dengue virus vaccine.</td>\n",
       "      <td>130890.0</td>\n",
       "      <td>1991</td>\n",
       "      <td>1993</td>\n",
       "      <td>National Health and Medical Research Council</td>\n",
       "      <td>Australia</td>\n",
       "      <td>grant.6716312</td>\n",
       "    </tr>\n",
       "    <tr>\n",
       "      <th>6</th>\n",
       "      <td>578221</td>\n",
       "      <td>Engineering Inhalable Vaccines</td>\n",
       "      <td>27386.0</td>\n",
       "      <td>2015</td>\n",
       "      <td>2016</td>\n",
       "      <td>Natural Sciences and Engineering Research Council</td>\n",
       "      <td>Canada</td>\n",
       "      <td>grant.7715379</td>\n",
       "    </tr>\n",
       "    <tr>\n",
       "      <th>7</th>\n",
       "      <td>IC18980360</td>\n",
       "      <td>Schistosomiasis Vaccine Network.</td>\n",
       "      <td>0.0</td>\n",
       "      <td>1998</td>\n",
       "      <td>2000</td>\n",
       "      <td>European Commission</td>\n",
       "      <td>Belgium</td>\n",
       "      <td>grant.3733803</td>\n",
       "    </tr>\n",
       "    <tr>\n",
       "      <th>8</th>\n",
       "      <td>7621798</td>\n",
       "      <td>Pneumococcal Ribosomal Vaccines</td>\n",
       "      <td>46000.0</td>\n",
       "      <td>1977</td>\n",
       "      <td>1980</td>\n",
       "      <td>Directorate for Biological Sciences</td>\n",
       "      <td>United States</td>\n",
       "      <td>grant.3274273</td>\n",
       "    </tr>\n",
       "    <tr>\n",
       "      <th>9</th>\n",
       "      <td>255890</td>\n",
       "      <td>Rational vaccine design</td>\n",
       "      <td>7138.0</td>\n",
       "      <td>2003</td>\n",
       "      <td>2004</td>\n",
       "      <td>Natural Sciences and Engineering Research Council</td>\n",
       "      <td>Canada</td>\n",
       "      <td>grant.2863615</td>\n",
       "    </tr>\n",
       "  </tbody>\n",
       "</table>\n",
       "</div>"
      ],
      "text/plain": [
       "  Grant Number                             Title  Funding Amount in USD  \\\n",
       "0  30410203277                           疫苗－整体方案                 1208.0   \n",
       "1       620792    Engineering Inhalable Vaccines                26956.0   \n",
       "2       599115    Engineering Inhalable Vaccines                26403.0   \n",
       "3       251564              HIV Vaccine research               442366.0   \n",
       "4       334174           HIV Vaccine Development               236067.0   \n",
       "5       910292             Dengue virus vaccine.               130890.0   \n",
       "6       578221    Engineering Inhalable Vaccines                27386.0   \n",
       "7   IC18980360  Schistosomiasis Vaccine Network.                    0.0   \n",
       "8      7621798   Pneumococcal Ribosomal Vaccines                46000.0   \n",
       "9       255890           Rational vaccine design                 7138.0   \n",
       "\n",
       "   Start Year  End Year                                             Funder  \\\n",
       "0        2004      2004       National Natural Science Foundation of China   \n",
       "1        2017      2018  Natural Sciences and Engineering Research Council   \n",
       "2        2016      2017  Natural Sciences and Engineering Research Council   \n",
       "3        2003      2007       National Health and Medical Research Council   \n",
       "4        2005      2009       National Health and Medical Research Council   \n",
       "5        1991      1993       National Health and Medical Research Council   \n",
       "6        2015      2016  Natural Sciences and Engineering Research Council   \n",
       "7        1998      2000                                European Commission   \n",
       "8        1977      1980                Directorate for Biological Sciences   \n",
       "9        2003      2004  Natural Sciences and Engineering Research Council   \n",
       "\n",
       "  Funder Country  Dimensions ID  \n",
       "0          China  grant.8172033  \n",
       "1         Canada  grant.7715379  \n",
       "2         Canada  grant.7715379  \n",
       "3      Australia  grant.6723913  \n",
       "4      Australia  grant.6722306  \n",
       "5      Australia  grant.6716312  \n",
       "6         Canada  grant.7715379  \n",
       "7        Belgium  grant.3733803  \n",
       "8  United States  grant.3274273  \n",
       "9         Canada  grant.2863615  "
      ]
     },
     "execution_count": 27,
     "metadata": {},
     "output_type": "execute_result"
    }
   ],
   "source": [
    "grants.head(10)"
   ]
  }
 ],
 "metadata": {
  "colab": {
   "collapsed_sections": [],
   "name": "3-Grants Enrichment Part 1: Matching Your Grants Records to Dimensions.ipynb",
   "provenance": []
  },
  "kernel_info": {
   "name": "python3"
  },
  "kernelspec": {
   "display_name": "Python 3 (ipykernel)",
   "language": "python",
   "name": "python3"
  },
  "language_info": {
   "codemirror_mode": {
    "name": "ipython",
    "version": 3
   },
   "file_extension": ".py",
   "mimetype": "text/x-python",
   "name": "python",
   "nbconvert_exporter": "python",
   "pygments_lexer": "ipython3",
   "version": "3.9.16"
  },
  "nteract": {
   "version": "0.15.0"
  }
 },
 "nbformat": 4,
 "nbformat_minor": 4
}
