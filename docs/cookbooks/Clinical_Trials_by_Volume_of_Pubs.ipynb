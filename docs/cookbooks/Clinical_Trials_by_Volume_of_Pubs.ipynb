{
 "cells": [
  {
   "cell_type": "markdown",
   "metadata": {
    "Collapsed": "false",
    "colab_type": "text",
    "id": "70_AcCo6JSwn"
   },
   "source": [
    "# Clinical Trials by Volume of Publications\n",
    "\n",
    "This notebook shows how use the [Dimensions Analytics API](https://www.dimensions.ai/dimensions-apis/) in order to get a list of clinical trials records and then sort them by the total number of publications they cite."
   ]
  },
  {
   "cell_type": "code",
   "execution_count": 2,
   "metadata": {},
   "outputs": [
    {
     "name": "stdout",
     "output_type": "stream",
     "text": [
      "==\n",
      "CHANGELOG\n",
      "This notebook was last run on Jan 25, 2022\n",
      "==\n"
     ]
    }
   ],
   "source": [
    "import datetime\n",
    "print(\"==\\nCHANGELOG\\nThis notebook was last run on %s\\n==\" % datetime.date.today().strftime('%b %d, %Y'))"
   ]
  },
  {
   "cell_type": "markdown",
   "metadata": {
    "Collapsed": "false",
    "colab_type": "text",
    "id": "hMaQlB7DG8Vw"
   },
   "source": [
    "## Prerequisites\n",
    "\n",
    "This notebook assumes you have installed the [Dimcli](https://pypi.org/project/dimcli/) library and are familiar with the ['Getting Started' tutorial](https://api-lab.dimensions.ai/cookbooks/1-getting-started/1-Using-the-Dimcli-library-to-query-the-API.html)."
   ]
  },
  {
   "cell_type": "code",
   "execution_count": 3,
   "metadata": {
    "Collapsed": "false"
   },
   "outputs": [
    {
     "data": {
      "text/html": [
       "        <script type=\"text/javascript\">\n",
       "        window.PlotlyConfig = {MathJaxConfig: 'local'};\n",
       "        if (window.MathJax) {MathJax.Hub.Config({SVG: {font: \"STIX-Web\"}});}\n",
       "        if (typeof require !== 'undefined') {\n",
       "        require.undef(\"plotly\");\n",
       "        requirejs.config({\n",
       "            paths: {\n",
       "                'plotly': ['https://cdn.plot.ly/plotly-2.8.3.min']\n",
       "            }\n",
       "        });\n",
       "        require(['plotly'], function(Plotly) {\n",
       "            window._Plotly = Plotly;\n",
       "        });\n",
       "        }\n",
       "        </script>\n",
       "        "
      ]
     },
     "metadata": {},
     "output_type": "display_data"
    },
    {
     "name": "stderr",
     "output_type": "stream",
     "text": [
      "\u001b[2mSearching config file credentials for 'https://app.dimensions.ai' endpoint..\u001b[0m\n"
     ]
    },
    {
     "name": "stdout",
     "output_type": "stream",
     "text": [
      "==\n",
      "Logging in..\n",
      "\u001b[2mDimcli - Dimensions API Client (v0.9.6)\u001b[0m\n",
      "\u001b[2mConnected to: <https://app.dimensions.ai/api/dsl> - DSL v2.0\u001b[0m\n",
      "\u001b[2mMethod: dsl.ini file\u001b[0m\n"
     ]
    }
   ],
   "source": [
    "!pip install dimcli plotly tqdm -U --quiet \n",
    "\n",
    "import dimcli\n",
    "from dimcli.utils import *\n",
    "\n",
    "import os, sys, time, json\n",
    "from tqdm.notebook import tqdm \n",
    "import pandas as pd\n",
    "import plotly.express as px\n",
    "from plotly.offline import plot\n",
    "if not 'google.colab' in sys.modules:\n",
    "  # make js dependecies local / needed by html exports\n",
    "  from plotly.offline import init_notebook_mode\n",
    "  init_notebook_mode(connected=True)\n",
    "\n",
    "print(\"==\\nLogging in..\")\n",
    "# https://digital-science.github.io/dimcli/getting-started.html#authentication\n",
    "ENDPOINT = \"https://app.dimensions.ai\"\n",
    "if 'google.colab' in sys.modules:\n",
    "  import getpass\n",
    "  KEY = getpass.getpass(prompt='API Key: ')  \n",
    "  dimcli.login(key=KEY, endpoint=ENDPOINT)\n",
    "else:\n",
    "  KEY = \"\"\n",
    "  dimcli.login(key=KEY, endpoint=ENDPOINT)\n",
    "dsl = dimcli.Dsl()"
   ]
  },
  {
   "cell_type": "markdown",
   "metadata": {
    "Collapsed": "false"
   },
   "source": [
    "## Query for Clinical Trials"
   ]
  },
  {
   "cell_type": "code",
   "execution_count": 4,
   "metadata": {
    "Collapsed": "false",
    "colab": {},
    "colab_type": "code",
    "id": "kCyRd6xE_GQJ"
   },
   "outputs": [],
   "source": [
    "q = \"\"\"search clinical_trials where category_rcdc.name=\"Multiple Sclerosis\" \n",
    "        and active_years=[2017, 2018, 2019] \n",
    "        return clinical_trials[basics+publication_ids]\"\"\""
   ]
  },
  {
   "cell_type": "code",
   "execution_count": 5,
   "metadata": {
    "Collapsed": "false",
    "colab": {
     "base_uri": "https://localhost:8080/",
     "height": 324
    },
    "colab_type": "code",
    "id": "pNV3BZ5G_cD1",
    "outputId": "562b8f2b-78dd-4564-935f-264f1ee44232"
   },
   "outputs": [
    {
     "name": "stderr",
     "output_type": "stream",
     "text": [
      "Starting iteration with limit=1000 skip=0 ...\u001b[0m\n",
      "0-1000 / 3353 (3.08s)\u001b[0m\n",
      "1000-2000 / 3353 (3.93s)\u001b[0m\n",
      "2000-3000 / 3353 (2.83s)\u001b[0m\n",
      "3000-3353 / 3353 (1.22s)\u001b[0m\n",
      "===\n",
      "Records extracted: 3353\u001b[0m\n"
     ]
    },
    {
     "data": {
      "text/html": [
       "<div>\n",
       "<style scoped>\n",
       "    .dataframe tbody tr th:only-of-type {\n",
       "        vertical-align: middle;\n",
       "    }\n",
       "\n",
       "    .dataframe tbody tr th {\n",
       "        vertical-align: top;\n",
       "    }\n",
       "\n",
       "    .dataframe thead th {\n",
       "        text-align: right;\n",
       "    }\n",
       "</style>\n",
       "<table border=\"1\" class=\"dataframe\">\n",
       "  <thead>\n",
       "    <tr style=\"text-align: right;\">\n",
       "      <th></th>\n",
       "      <th>id</th>\n",
       "      <th>investigators</th>\n",
       "      <th>title</th>\n",
       "      <th>active_years</th>\n",
       "      <th>publication_ids</th>\n",
       "    </tr>\n",
       "  </thead>\n",
       "  <tbody>\n",
       "    <tr>\n",
       "      <th>0</th>\n",
       "      <td>UMIN000045085</td>\n",
       "      <td>[[Mostafa  Sarabzadeh, , Public Contact, Natio...</td>\n",
       "      <td>Neurophysiological effects of a high-speed neu...</td>\n",
       "      <td>NaN</td>\n",
       "      <td>NaN</td>\n",
       "    </tr>\n",
       "    <tr>\n",
       "      <th>1</th>\n",
       "      <td>UMIN000044955</td>\n",
       "      <td>[[Seina  Toneri, , Public Contact, Mebix, Inc....</td>\n",
       "      <td>A multicentre, retrospective study in patients...</td>\n",
       "      <td>NaN</td>\n",
       "      <td>NaN</td>\n",
       "    </tr>\n",
       "    <tr>\n",
       "      <th>2</th>\n",
       "      <td>UMIN000043910</td>\n",
       "      <td>[[Hiroaki  Yokote, , Public Contact, Nitobe Me...</td>\n",
       "      <td>Association between brain atrophy and intestin...</td>\n",
       "      <td>NaN</td>\n",
       "      <td>NaN</td>\n",
       "    </tr>\n",
       "    <tr>\n",
       "      <th>3</th>\n",
       "      <td>UMIN000038903</td>\n",
       "      <td>[[Takami  Ishizuka, , Public Contact, National...</td>\n",
       "      <td>Efficacy and Safety of OCH-NCNP1 in patients w...</td>\n",
       "      <td>NaN</td>\n",
       "      <td>NaN</td>\n",
       "    </tr>\n",
       "    <tr>\n",
       "      <th>4</th>\n",
       "      <td>UMIN000038431</td>\n",
       "      <td>[[Mohammad  Bayattork, , Public Contact, Unive...</td>\n",
       "      <td>Twelve weeks of Pilates training improved func...</td>\n",
       "      <td>NaN</td>\n",
       "      <td>NaN</td>\n",
       "    </tr>\n",
       "  </tbody>\n",
       "</table>\n",
       "</div>"
      ],
      "text/plain": [
       "              id                                      investigators  \\\n",
       "0  UMIN000045085  [[Mostafa  Sarabzadeh, , Public Contact, Natio...   \n",
       "1  UMIN000044955  [[Seina  Toneri, , Public Contact, Mebix, Inc....   \n",
       "2  UMIN000043910  [[Hiroaki  Yokote, , Public Contact, Nitobe Me...   \n",
       "3  UMIN000038903  [[Takami  Ishizuka, , Public Contact, National...   \n",
       "4  UMIN000038431  [[Mohammad  Bayattork, , Public Contact, Unive...   \n",
       "\n",
       "                                               title active_years  \\\n",
       "0  Neurophysiological effects of a high-speed neu...          NaN   \n",
       "1  A multicentre, retrospective study in patients...          NaN   \n",
       "2  Association between brain atrophy and intestin...          NaN   \n",
       "3  Efficacy and Safety of OCH-NCNP1 in patients w...          NaN   \n",
       "4  Twelve weeks of Pilates training improved func...          NaN   \n",
       "\n",
       "  publication_ids  \n",
       "0             NaN  \n",
       "1             NaN  \n",
       "2             NaN  \n",
       "3             NaN  \n",
       "4             NaN  "
      ]
     },
     "execution_count": 5,
     "metadata": {},
     "output_type": "execute_result"
    }
   ],
   "source": [
    "df = dsl.query_iterative(q).as_dataframe()\n",
    "df.head()"
   ]
  },
  {
   "cell_type": "markdown",
   "metadata": {
    "Collapsed": "false"
   },
   "source": [
    "## Counting publications per clinical trial\n",
    "\n",
    "Before we can count publications, we should ensure that all the values are 'countable'. So we have to transform all None values in `publication_ids` into empty lists first."
   ]
  },
  {
   "cell_type": "code",
   "execution_count": 6,
   "metadata": {
    "Collapsed": "false",
    "colab": {},
    "colab_type": "code",
    "id": "SH_uUZ5tAqjh"
   },
   "outputs": [],
   "source": [
    "# replace empty values with empty lists so that they can be counted\n",
    "for row in df.loc[df.publication_ids.isnull(), 'publication_ids'].index:\n",
    "    df.at[row, 'publication_ids'] = []"
   ]
  },
  {
   "cell_type": "markdown",
   "metadata": {
    "Collapsed": "false"
   },
   "source": [
    "Now it's ok to count publications"
   ]
  },
  {
   "cell_type": "code",
   "execution_count": 7,
   "metadata": {
    "Collapsed": "false"
   },
   "outputs": [
    {
     "data": {
      "text/html": [
       "<div>\n",
       "<style scoped>\n",
       "    .dataframe tbody tr th:only-of-type {\n",
       "        vertical-align: middle;\n",
       "    }\n",
       "\n",
       "    .dataframe tbody tr th {\n",
       "        vertical-align: top;\n",
       "    }\n",
       "\n",
       "    .dataframe thead th {\n",
       "        text-align: right;\n",
       "    }\n",
       "</style>\n",
       "<table border=\"1\" class=\"dataframe\">\n",
       "  <thead>\n",
       "    <tr style=\"text-align: right;\">\n",
       "      <th></th>\n",
       "      <th>id</th>\n",
       "      <th>investigators</th>\n",
       "      <th>title</th>\n",
       "      <th>active_years</th>\n",
       "      <th>publication_ids</th>\n",
       "      <th>pubs_tot</th>\n",
       "    </tr>\n",
       "  </thead>\n",
       "  <tbody>\n",
       "    <tr>\n",
       "      <th>521</th>\n",
       "      <td>NCT04073940</td>\n",
       "      <td>[[Citlali Lopez-Ortiz, PhD, MA, Contact, Unive...</td>\n",
       "      <td>Exploration of Brain Changes Due to a Targeted...</td>\n",
       "      <td>[2019, 2020, 2021]</td>\n",
       "      <td>[pub.1100827489, pub.1035450339, pub.103700030...</td>\n",
       "      <td>99</td>\n",
       "    </tr>\n",
       "    <tr>\n",
       "      <th>648</th>\n",
       "      <td>NCT03782246</td>\n",
       "      <td>[[Dawn Ehde, PhD, Principal Investigator, Univ...</td>\n",
       "      <td>Mindfulness-based Cognitive Therapy and Cognit...</td>\n",
       "      <td>[2018, 2019, 2020, 2021, 2022]</td>\n",
       "      <td>[pub.1059401852, pub.1001854818, pub.102868830...</td>\n",
       "      <td>72</td>\n",
       "    </tr>\n",
       "    <tr>\n",
       "      <th>327</th>\n",
       "      <td>NCT04550455</td>\n",
       "      <td>[[Keith R Edwards, MD, Study Director, MS Cent...</td>\n",
       "      <td>A Prospective Biomarker Study in Active Second...</td>\n",
       "      <td>[2020, 2021, 2022, 2023, 2024, 2025]</td>\n",
       "      <td>[pub.1104144237, pub.1122095683, pub.101866541...</td>\n",
       "      <td>52</td>\n",
       "    </tr>\n",
       "    <tr>\n",
       "      <th>1313</th>\n",
       "      <td>NCT02104661</td>\n",
       "      <td>[[Gavin Givannoni, , Principal Investigator, Q...</td>\n",
       "      <td>OxCarbazepine as a Neuroprotective Agent in MS...</td>\n",
       "      <td>[2014, 2015, 2016, 2017, 2018]</td>\n",
       "      <td>[pub.1035408940, pub.1011294811, pub.100257806...</td>\n",
       "      <td>48</td>\n",
       "    </tr>\n",
       "    <tr>\n",
       "      <th>947</th>\n",
       "      <td>NCT03004079</td>\n",
       "      <td>[[Myla Goldman, MD, Principal Investigator, Un...</td>\n",
       "      <td>Assessment of the Clinical Importance of Insul...</td>\n",
       "      <td>[2016, 2017, 2018, 2019, 2020]</td>\n",
       "      <td>[pub.1001068458, pub.1013002909, pub.103549213...</td>\n",
       "      <td>46</td>\n",
       "    </tr>\n",
       "  </tbody>\n",
       "</table>\n",
       "</div>"
      ],
      "text/plain": [
       "               id                                      investigators  \\\n",
       "521   NCT04073940  [[Citlali Lopez-Ortiz, PhD, MA, Contact, Unive...   \n",
       "648   NCT03782246  [[Dawn Ehde, PhD, Principal Investigator, Univ...   \n",
       "327   NCT04550455  [[Keith R Edwards, MD, Study Director, MS Cent...   \n",
       "1313  NCT02104661  [[Gavin Givannoni, , Principal Investigator, Q...   \n",
       "947   NCT03004079  [[Myla Goldman, MD, Principal Investigator, Un...   \n",
       "\n",
       "                                                  title  \\\n",
       "521   Exploration of Brain Changes Due to a Targeted...   \n",
       "648   Mindfulness-based Cognitive Therapy and Cognit...   \n",
       "327   A Prospective Biomarker Study in Active Second...   \n",
       "1313  OxCarbazepine as a Neuroprotective Agent in MS...   \n",
       "947   Assessment of the Clinical Importance of Insul...   \n",
       "\n",
       "                              active_years  \\\n",
       "521                     [2019, 2020, 2021]   \n",
       "648         [2018, 2019, 2020, 2021, 2022]   \n",
       "327   [2020, 2021, 2022, 2023, 2024, 2025]   \n",
       "1313        [2014, 2015, 2016, 2017, 2018]   \n",
       "947         [2016, 2017, 2018, 2019, 2020]   \n",
       "\n",
       "                                        publication_ids  pubs_tot  \n",
       "521   [pub.1100827489, pub.1035450339, pub.103700030...        99  \n",
       "648   [pub.1059401852, pub.1001854818, pub.102868830...        72  \n",
       "327   [pub.1104144237, pub.1122095683, pub.101866541...        52  \n",
       "1313  [pub.1035408940, pub.1011294811, pub.100257806...        48  \n",
       "947   [pub.1001068458, pub.1013002909, pub.103549213...        46  "
      ]
     },
     "execution_count": 7,
     "metadata": {},
     "output_type": "execute_result"
    }
   ],
   "source": [
    "# create new column\n",
    "df['pubs_tot'] = df['publication_ids'].apply(lambda x: len(x))\n",
    "# sort \n",
    "df.sort_values(\"pubs_tot\", ascending=False, inplace=True)\n",
    "df.head(5)"
   ]
  },
  {
   "cell_type": "markdown",
   "metadata": {
    "Collapsed": "false"
   },
   "source": [
    "A simple data visualization"
   ]
  },
  {
   "cell_type": "code",
   "execution_count": 8,
   "metadata": {
    "Collapsed": "false",
    "colab": {
     "base_uri": "https://localhost:8080/",
     "height": 617
    },
    "colab_type": "code",
    "id": "9giBxuAqWi8c",
    "outputId": "ca11f394-d8bf-4329-c235-bee1fdcbb6aa"
   },
   "outputs": [
    {
     "data": {
      "application/vnd.plotly.v1+json": {
       "config": {
        "plotlyServerURL": "https://plot.ly"
       },
       "data": [
        {
         "alignmentgroup": "True",
         "customdata": [
          [
           [
            2019,
            2020,
            2021
           ]
          ],
          [
           [
            2018,
            2019,
            2020,
            2021,
            2022
           ]
          ],
          [
           [
            2020,
            2021,
            2022,
            2023,
            2024,
            2025
           ]
          ],
          [
           [
            2014,
            2015,
            2016,
            2017,
            2018
           ]
          ],
          [
           [
            2016,
            2017,
            2018,
            2019,
            2020
           ]
          ],
          [
           [
            2020,
            2021,
            2022,
            2023,
            2024,
            2025
           ]
          ],
          [
           [
            2020,
            2021,
            2022
           ]
          ],
          [
           [
            2017,
            2018,
            2019
           ]
          ],
          [
           [
            2019,
            2020,
            2021
           ]
          ],
          [
           [
            2020
           ]
          ],
          [
           [
            2017,
            2018
           ]
          ],
          [
           [
            2011,
            2012,
            2013
           ]
          ],
          [
           [
            2014,
            2015,
            2016
           ]
          ],
          [
           [
            2020,
            2021,
            2022,
            2023
           ]
          ],
          [
           [
            2015,
            2016,
            2017,
            2018,
            2019,
            2020
           ]
          ],
          [
           [
            2022,
            2023
           ]
          ],
          [
           [
            2018,
            2019
           ]
          ],
          [
           [
            2021,
            2022
           ]
          ],
          [
           [
            2021,
            2022,
            2023
           ]
          ],
          [
           [
            2010,
            2011,
            2012,
            2013
           ]
          ],
          [
           [
            2018,
            2019,
            2020
           ]
          ],
          [
           [
            2021,
            2022
           ]
          ],
          [
           [
            2021,
            2022,
            2023
           ]
          ],
          [
           [
            2015,
            2016,
            2017,
            2018,
            2019,
            2020,
            2021
           ]
          ],
          [
           [
            2015,
            2016,
            2017
           ]
          ],
          [
           [
            2015,
            2016,
            2017
           ]
          ],
          [
           [
            2013,
            2014,
            2015,
            2016,
            2017,
            2018
           ]
          ],
          [
           [
            2014,
            2015,
            2016
           ]
          ],
          [
           null
          ],
          [
           [
            2015,
            2016,
            2017
           ]
          ],
          [
           [
            2018,
            2019
           ]
          ],
          [
           null
          ],
          [
           [
            2019,
            2020
           ]
          ],
          [
           [
            2019,
            2020,
            2021
           ]
          ],
          [
           [
            2017,
            2018,
            2019,
            2020,
            2021
           ]
          ],
          [
           [
            2020,
            2021,
            2022,
            2023,
            2024,
            2025
           ]
          ],
          [
           [
            2015,
            2016,
            2017,
            2018,
            2019,
            2020,
            2021,
            2022
           ]
          ],
          [
           [
            2018,
            2019,
            2020,
            2021,
            2022,
            2023
           ]
          ],
          [
           [
            2015,
            2016,
            2017,
            2018,
            2019
           ]
          ],
          [
           [
            2018,
            2019,
            2020,
            2021,
            2022
           ]
          ],
          [
           [
            2020,
            2021,
            2022
           ]
          ],
          [
           [
            2021,
            2022,
            2023,
            2024,
            2025,
            2026
           ]
          ],
          [
           [
            2020,
            2021,
            2022
           ]
          ],
          [
           [
            2016,
            2017
           ]
          ],
          [
           [
            2020,
            2021
           ]
          ],
          [
           [
            2019
           ]
          ],
          [
           [
            2017,
            2018,
            2019,
            2020
           ]
          ],
          [
           [
            2012,
            2013,
            2014,
            2015
           ]
          ],
          [
           [
            2016,
            2017,
            2018,
            2019
           ]
          ],
          [
           [
            2021,
            2022
           ]
          ],
          [
           [
            2021,
            2022,
            2023,
            2024
           ]
          ],
          [
           [
            2018,
            2019,
            2020,
            2021,
            2022
           ]
          ],
          [
           [
            2018,
            2019
           ]
          ],
          [
           [
            2019,
            2020,
            2021,
            2022,
            2023,
            2024,
            2025
           ]
          ],
          [
           [
            2019,
            2020
           ]
          ],
          [
           [
            2020,
            2021,
            2022
           ]
          ],
          [
           [
            2018,
            2019,
            2020,
            2021,
            2022
           ]
          ],
          [
           [
            2014,
            2015,
            2016,
            2017,
            2018
           ]
          ],
          [
           [
            2016,
            2017,
            2018
           ]
          ],
          [
           [
            2018,
            2019,
            2020
           ]
          ],
          [
           [
            2020,
            2021
           ]
          ],
          [
           [
            2018,
            2019,
            2020
           ]
          ],
          [
           [
            2020,
            2021,
            2022
           ]
          ],
          [
           [
            2012,
            2013,
            2014,
            2015,
            2016,
            2017,
            2018
           ]
          ],
          [
           [
            2019,
            2020,
            2021
           ]
          ],
          [
           [
            2021,
            2022
           ]
          ],
          [
           [
            2018
           ]
          ],
          [
           [
            2016,
            2017,
            2018,
            2019,
            2020,
            2021,
            2022,
            2023,
            2024,
            2025
           ]
          ],
          [
           [
            2008
           ]
          ],
          [
           [
            2012,
            2013,
            2014,
            2015,
            2016
           ]
          ],
          [
           [
            2018,
            2019
           ]
          ],
          [
           [
            2021,
            2022,
            2023,
            2024
           ]
          ],
          [
           [
            2019,
            2020
           ]
          ],
          [
           [
            2020,
            2021,
            2022,
            2023,
            2024
           ]
          ],
          [
           [
            2016,
            2017,
            2018
           ]
          ],
          [
           [
            2020,
            2021
           ]
          ],
          [
           [
            2021
           ]
          ],
          [
           [
            2020,
            2021,
            2022
           ]
          ],
          [
           [
            2014,
            2015,
            2016
           ]
          ],
          [
           [
            2012,
            2013,
            2014
           ]
          ],
          [
           [
            2012
           ]
          ],
          [
           [
            2018,
            2019
           ]
          ],
          [
           [
            2012,
            2013
           ]
          ],
          [
           [
            2015
           ]
          ],
          [
           [
            2011,
            2012,
            2013,
            2014,
            2015,
            2016,
            2017,
            2018,
            2019
           ]
          ],
          [
           null
          ],
          [
           [
            2011,
            2012,
            2013,
            2014,
            2015,
            2016,
            2017,
            2018,
            2019,
            2020,
            2021,
            2022
           ]
          ],
          [
           [
            2021,
            2022,
            2023
           ]
          ],
          [
           [
            2017,
            2018,
            2019
           ]
          ],
          [
           null
          ],
          [
           [
            2018,
            2019,
            2020,
            2021,
            2022,
            2023,
            2024
           ]
          ],
          [
           [
            2017,
            2018,
            2019
           ]
          ],
          [
           [
            2015,
            2016,
            2017,
            2018,
            2019,
            2020
           ]
          ],
          [
           [
            2014,
            2015,
            2016
           ]
          ],
          [
           [
            2018,
            2019,
            2020,
            2021,
            2022
           ]
          ],
          [
           [
            2018,
            2019,
            2020,
            2021
           ]
          ],
          [
           [
            2017,
            2018,
            2019,
            2020,
            2021
           ]
          ],
          [
           [
            2019,
            2020,
            2021
           ]
          ],
          [
           [
            2015,
            2016
           ]
          ],
          [
           [
            2021,
            2022,
            2023
           ]
          ],
          [
           [
            2020,
            2021,
            2022,
            2023,
            2024,
            2025,
            2026,
            2027
           ]
          ],
          [
           [
            2014,
            2015,
            2016,
            2017
           ]
          ],
          [
           [
            2020,
            2021,
            2022,
            2023
           ]
          ],
          [
           [
            2015,
            2016,
            2017,
            2018,
            2019,
            2020,
            2021,
            2022,
            2023,
            2024
           ]
          ],
          [
           [
            2013,
            2014,
            2015,
            2016
           ]
          ],
          [
           [
            2015,
            2016,
            2017
           ]
          ],
          [
           [
            2016,
            2017,
            2018,
            2019
           ]
          ],
          [
           [
            2017,
            2018,
            2019
           ]
          ],
          [
           [
            2012,
            2013,
            2014,
            2015,
            2016
           ]
          ],
          [
           [
            2016,
            2017
           ]
          ],
          [
           [
            2019,
            2020,
            2021
           ]
          ],
          [
           [
            2022,
            2023,
            2024
           ]
          ],
          [
           [
            2018,
            2019
           ]
          ],
          [
           [
            2002,
            2003,
            2004,
            2005,
            2006,
            2007,
            2008
           ]
          ],
          [
           [
            2010,
            2011
           ]
          ],
          [
           [
            2019,
            2020,
            2021,
            2022
           ]
          ],
          [
           [
            2018,
            2019,
            2020,
            2021,
            2022
           ]
          ],
          [
           [
            2016,
            2017,
            2018
           ]
          ],
          [
           [
            2005,
            2006,
            2007,
            2008,
            2009,
            2010,
            2011
           ]
          ],
          [
           [
            2018,
            2019,
            2020
           ]
          ],
          [
           [
            2007,
            2008,
            2009,
            2010,
            2011,
            2012,
            2013,
            2014
           ]
          ],
          [
           [
            2019,
            2020
           ]
          ],
          [
           [
            2019,
            2020
           ]
          ],
          [
           [
            2013,
            2014
           ]
          ],
          [
           [
            2018,
            2019,
            2020,
            2021
           ]
          ],
          [
           null
          ],
          [
           [
            2015,
            2016
           ]
          ],
          [
           [
            2001,
            2002,
            2003,
            2004,
            2005,
            2006,
            2007,
            2008
           ]
          ],
          [
           [
            2012,
            2013,
            2014,
            2015,
            2016,
            2017
           ]
          ],
          [
           [
            2020,
            2021,
            2022,
            2023
           ]
          ],
          [
           [
            2019,
            2020
           ]
          ],
          [
           [
            2014,
            2015
           ]
          ],
          [
           [
            2006,
            2007,
            2008,
            2009,
            2010,
            2011,
            2012,
            2013,
            2014,
            2015
           ]
          ],
          [
           [
            2017,
            2018,
            2019,
            2020
           ]
          ],
          [
           [
            2019,
            2020,
            2021,
            2022,
            2023
           ]
          ],
          [
           [
            2019,
            2020,
            2021
           ]
          ],
          [
           [
            2021,
            2022
           ]
          ],
          [
           [
            2021,
            2022,
            2023,
            2024
           ]
          ],
          [
           [
            2018,
            2019,
            2020,
            2021,
            2022
           ]
          ],
          [
           [
            2016,
            2017,
            2018,
            2019
           ]
          ],
          [
           [
            2015,
            2016,
            2017,
            2018,
            2019,
            2020,
            2021
           ]
          ],
          [
           [
            2021,
            2022
           ]
          ],
          [
           [
            2021,
            2022,
            2023
           ]
          ],
          [
           [
            2022,
            2023,
            2024
           ]
          ],
          [
           [
            2009,
            2010,
            2011
           ]
          ],
          [
           [
            2014,
            2015,
            2016,
            2017
           ]
          ],
          [
           [
            2020,
            2021
           ]
          ],
          [
           [
            2008,
            2009,
            2010,
            2011,
            2012
           ]
          ],
          [
           [
            2018,
            2019,
            2020
           ]
          ],
          [
           [
            2018
           ]
          ],
          [
           [
            2011,
            2012,
            2013,
            2014
           ]
          ],
          [
           [
            2001,
            2002,
            2003,
            2004,
            2005,
            2006,
            2007,
            2008,
            2009
           ]
          ],
          [
           [
            2015,
            2016
           ]
          ],
          [
           [
            2015,
            2016,
            2017,
            2018,
            2019,
            2020
           ]
          ],
          [
           [
            2020,
            2021,
            2022
           ]
          ],
          [
           [
            2010,
            2011,
            2012,
            2013
           ]
          ],
          [
           [
            2012,
            2013,
            2014,
            2015,
            2016,
            2017
           ]
          ],
          [
           [
            2019,
            2020,
            2021,
            2022,
            2023,
            2024
           ]
          ],
          [
           [
            2011,
            2012,
            2013
           ]
          ],
          [
           [
            2016,
            2017,
            2018,
            2019,
            2020
           ]
          ],
          [
           [
            2014
           ]
          ],
          [
           [
            2020,
            2021
           ]
          ],
          [
           [
            2015,
            2016,
            2017,
            2018,
            2019,
            2020,
            2021
           ]
          ],
          [
           [
            2013,
            2014,
            2015,
            2016,
            2017,
            2018
           ]
          ],
          [
           [
            2015,
            2016
           ]
          ],
          [
           [
            2011,
            2012,
            2013,
            2014,
            2015
           ]
          ],
          [
           [
            2021
           ]
          ],
          [
           [
            2018,
            2019
           ]
          ],
          [
           [
            2004,
            2005,
            2006
           ]
          ],
          [
           [
            2013,
            2014
           ]
          ],
          [
           [
            2018
           ]
          ],
          [
           [
            2017,
            2018,
            2019,
            2020
           ]
          ],
          [
           [
            2010,
            2011
           ]
          ],
          [
           [
            2010,
            2011,
            2012,
            2013,
            2014
           ]
          ],
          [
           [
            2012,
            2013
           ]
          ],
          [
           [
            2004,
            2005,
            2006,
            2007,
            2008,
            2009,
            2010,
            2011
           ]
          ],
          [
           [
            2018
           ]
          ],
          [
           [
            2015,
            2016,
            2017,
            2018,
            2019,
            2020,
            2021
           ]
          ],
          [
           [
            2004,
            2005
           ]
          ],
          [
           [
            2009,
            2010,
            2011,
            2012,
            2013,
            2014
           ]
          ],
          [
           [
            2021,
            2022
           ]
          ],
          [
           [
            2020,
            2021
           ]
          ],
          [
           [
            2017,
            2018
           ]
          ],
          [
           [
            2018,
            2019,
            2020,
            2021,
            2022
           ]
          ],
          [
           [
            2009,
            2010,
            2011,
            2012
           ]
          ],
          [
           [
            2015,
            2016,
            2017
           ]
          ],
          [
           [
            2020,
            2021
           ]
          ],
          [
           [
            2009,
            2010
           ]
          ],
          [
           [
            2003,
            2004,
            2005
           ]
          ],
          [
           [
            2019,
            2020,
            2021,
            2022,
            2023
           ]
          ],
          [
           [
            2002,
            2003,
            2004,
            2005
           ]
          ],
          [
           [
            2022,
            2023,
            2024,
            2025
           ]
          ],
          [
           [
            2013,
            2014,
            2015,
            2016,
            2017,
            2018,
            2019,
            2020,
            2021,
            2022
           ]
          ],
          [
           [
            2009,
            2010
           ]
          ],
          [
           [
            2008,
            2009,
            2010,
            2011,
            2012,
            2013
           ]
          ],
          [
           [
            2018
           ]
          ],
          [
           [
            2014,
            2015,
            2016
           ]
          ],
          [
           [
            1999,
            2000,
            2001,
            2002
           ]
          ],
          [
           [
            2015,
            2016,
            2017,
            2018,
            2019,
            2020
           ]
          ],
          [
           [
            2011,
            2012
           ]
          ]
         ],
         "hovertemplate": "<b>%{hovertext}</b><br><br>id=%{x}<br>pubs_tot=%{y}<br>active_years=%{customdata[0]}<extra></extra>",
         "hovertext": [
          "Exploration of Brain Changes Due to a Targeted Ballet Program in Multiple Sclerosis",
          "Mindfulness-based Cognitive Therapy and Cognitive Behavioral Therapy for Chronic Pain in Multiple Sclerosis",
          "A Prospective Biomarker Study in Active Secondary Progressive Multiple Sclerosis (SPMS)Subjects Treated With Cladribine Tablets",
          "OxCarbazepine as a Neuroprotective Agent in MS: A Phase 2a Trial",
          "Assessment of the Clinical Importance of Insulin Resistance & Steroid-Associated Hyperglycemia in Relapsing Multiple Sclerosis",
          "Impact of Ocrelizumab on Cerebrospinal Fluid Biomarkers at Multiple Sclerosis Onset",
          "Cladribine Tablets After Treatment With Natalizumab (CLADRINA)",
          "A Randomized, Placebo-Controlled Study of Mindfulness Meditation in Treating Insomnia in Multiple Sclerosis",
          "A Double-blind, Randomised, Placebo-controlled Single-site Study of High Dose Simvastatin Treatment for Secondary Progressive Multiple Sclerosis: Impact on Vascular Perfusion and Oxidative Damage",
          "The Utilization of Yoga as a Therapeutic Tool to Promote Physical Activity Behavior Change and Improved Postural Control in Individuals With Multiple Sclerosis",
          "Qigong for Multiple Sclerosis: A Feasibility Study",
          "Dalfampridine After Optic Neuritis to Improve Visual Function in Multiple Sclerosis",
          "Improving the Quality of Life of People With Multiple Sclerosis and Their Caregivers With a Telemedicine Mindfulness-Based Intervention",
          "Cerebrospinal Fluid-biomarkers-based Diagnostic and Prognostic Models for Multiple Sclerosis",
          "Self-Management Program Based on Physical Exercises for People With Multiple Sclerosis With Mild Neurological Impairment: A Randomized Controlled Trial",
          "Impact of a Multimedia Website With Patient Experiences of Multiple Sclerosis (PExMS) on Immunotherapy Decision-making: a Pilot Randomised Controlled Trial in a Mixed-methods Design",
          "Attitudes, Barriers and Facilitators to Physical Activity in People With Multiple Sclerosis Following a Relapse",
          "COVID-19 Booster Vaccination in Persons With Multiple Sclerosis",
          "Neurophysiological Estimates of Cortical Grey and White Matters Damage in Patients With Multiple Sclerosis",
          "A Randomised, Double Blinded Cross-over Study Comparing the Efficacy of L-carnitine Versus Placebo in the Treatment of Fatigue in Multiple Sclerosis",
          "Sequential Natalizumab - Alemtuzumab Therapy in Patients With Relapsing Forms of Multiple Sclerosis (SUPPRESS)",
          "Hematopoietic Stem Cell Transplantation for Treatment of Multiple Sclerosis in Sweden - a Register-based Retrospective Observational Study",
          "Using Patient-Reported Outcomes To Improve the Care of People With Multiple Sclerosis: A Randomized Trial",
          "A Randomized Trial of Positive Airway Pressure Therapy to Treat Cognitive Dysfunction in MS Patients With Obstructive Sleep Apnea",
          "An Open-label, Non-randomized, Phase I/II Study of Allogeneic Human Umbilical Cord Tissue-Derived Mesenchymal Stem Cells (UC-MSC) and Liberation Therapy (When Associated With Chronic Cerebrovascular Venous Insufficiency) in Patients With Relapsing Remitting Multiple Sclerosis (RRMS)",
          "An Open-label, Non-randomized, Phase I/II Study of Allogeneic Human Umbilical Cord Tissue-Derived Mesenchymal Stem Cells (UC-MSC) and Liberation Therapy (When Associated With Chronic Cerebrovascular Venous Insufficiency) in Patients With Relapsing Remitting Multiple Sclerosis (RRMS)",
          "Effects of Adrenocorticotropic Hormone (ACTHAR Gel) on Recovery From Cognitive Relapses in Multiple Sclerosis",
          "Real-Life Outcomes of Multiple Sclerosis Treatment With Rebif on Employment Status, Quality of Life and Cognition: a Pilot Study",
          "Longitudinal Optic Neuritis Study (LONS)",
          "An Open-label, Non-randomized, Phase I/II Study of Autologous Bone Marrow-Derived Mononuclear Stem Cells (BM-MNC) and Liberation Therapy (When Associated With CCSVI) in Patients With RRMS",
          "Intervention to Reduce Distress From Perceived Cognitive Impairment in Multiple Sclerosis",
          "Optic Neuritis Treatment Trial (ONTT)",
          "To Investigate the Effect of Aerobic Exercise on Neurophysiological Values and Functionality in Individuals With Multiple Sclerosis.",
          "KITAMS: Kinesio Tape and Physical Function in Persons With Multiples Sclerosis",
          "Intranasal Insulin for Improving Cognitive Function in Multiple Sclerosis",
          "Interventional Not Pharmacological Study to Investigate the Role of ADA in Multiple Sclerosis PatientsTreated With an Immune-Reconstitution Therapy (2-CdA)",
          "Evaluation of the Safety and Efficacy of Reduced-intensity Immunoablation and Autologous Hematopoietic Stem Cell Transplantation (AHSCT) in Multiple Sclerosis",
          "Use of Cellular Stromal Vascular Fraction (cSVF) for Select Multiple Sclerosis, Autoimmune, Inflammatory, and Neurologic Conditions: Clinical Interventional Study of Adverse Events and Clinical Outcomes Using Autologous Stem-Stromal Cells.",
          "Randomized, Controlled Pilot Trial of Domperidone in Relapsing-Remitting Multiple Sclerosis",
          "Risk Factors in Early Multiple Sclerosis",
          "Effectiveness of Exercise Training in Pediatric-Onset Multiple Sclerosis Patients",
          "Importance of Therapeutic Monitoring of Orally Administered Disease-modifying Drugs Used in the Treatment of Multiple Sclerosis",
          "Effects of a Multiple Sclerosis Relapse Therapy With Methylprednisolone (MP) During Pregnancy on Offspring Cognitive Function, Stress Sensitivity, Behaviour and Functional and Structural Brain Development",
          "Clinical Pilot Study in the Feasibility and Effect of Online Cognitive Training on Cognitive Functions in Patients With Parkinson's Disease, Multiple Sclerosis and Depressive Patients Treated With Electroconvulsive Therapy",
          "Feasibility Study of Tolerogenic Fibroblasts in Patients With Refractory Multiple Sclerosis",
          "Investigation of the Effects of Respiratory Functions and Trunk Control on Functional Mobility in Individuals With Multiple Sclerosis",
          "The Effect of Alemtuzumab on the Blood-brain-barrier and Cerebral Metabolism in Multiple Sclerosis Patients; a New MRI Method for Treatment Response Evaluation in Multiple Sclerosis",
          "Randomized, Comparative, Double Blind Controlled Phase II Clinical Trial, to Evaluate the Efficacy of ApE in Patients With Multiple Sclerosis (MS).",
          "Correlation Between the 'Nine Holes Peg Test' Performance and the Triple Stimulation Technique Within a Group a Patients With Multiple Sclerosis",
          "The Effect of Cigarette Smoke on Sleep Quality and Physical Activity in People With Multiple Sclerosis",
          "Obesity as a Driver of Inflammation and Brain Volume Loss in Pediatric Multiple Sclerosis.",
          "Mechanistic Studies of Teriflunomide in Relapsing Remitting Multiple Sclerosis: Regulatory B Lymphocytes as Central Mediators of the Therapeutic Effects of Teriflunomide in MS",
          "Factors Associated With Dual-Task Performance in Patients With Multiple Sclerosis",
          "Clinical Relevance of miR-142-3p as Potential Biomarker of Synaptopathy in Multiple Sclerosis",
          "Treatment Response Among Chinese Patients With Acute Attack of Neuromyelitis Optica Spectrum Disorders: A Prospective, Multicenter Real-world Study",
          "ESPRIMO: A Bio-psycho-social Co-created Intervention for Young Adults With Multiple Sclerosis: Study Protocol for a Feasibility Study",
          "Observational Prospective Multicentered Study Evaluating Initial Clinical Presentation of Inflammatory Optic Neuritis (ON) Associated or Not With Autoantibodies Anti- Myelin-oligodendrocyte-glycoprotein (MOG-Ab)",
          "7T MRI Ferumoxytol-Enhanced Characterization of Multiple Sclerosis and Demyelinating Diseases",
          "Intensity Dependent Clinical Effects of a Task-oriented Upper Limb Training in Multiple Sclerosis",
          "Single-Arm, Non-Randomized, Time Series, Single-Subject Study: Fecal Microbiota Transplantation (FMT) in Multiple Sclerosis",
          "Pilot Feasibility Study of Out-of-Pocket Cost Communication and Supportive Financial Services for Reducing Financial Toxicity Among Multiple Sclerosis Patients",
          "Reliability and Validity of the Glittre Activities of Daily Living Test in Multiple Sclerosis Patients",
          "Development and Evaluation of an Interactive Web-based Programme on Relapse Management for People With Multiple Sclerosis - a Randomized Controlled Trial With Mixed Methods Process Evaluation",
          "The Role of Exercise in Modifying Outcomes for People With Multiple Sclerosis",
          "The Inflammatory Synaptopathy as a Target of Exercise Therapy in the Fight Against Multiple Sclerosis",
          "Comparison of Tele-Assessment and Face-to-Face Evaluation of Balance in Patients With Multiple Sclerosis (MS)",
          "The Effect of Task-Oriented Training on the Physical and Cognitive Functions in Patients With Multiple Sclerosis",
          "Dietary Approaches to Treat Multiple Sclerosis-Related Fatigue Study",
          "Immunoregulation by Controlled Parasite Exposure in Multiple Sclerosis.",
          "Continuous Positive Airway Pressure for Fatigue Treatment in Patients With Multiple Sclerosis and Obstructive Sleep Apnea",
          "The Effect of a Gluten Free Diet on the Permeability of the Blood Brain Barrier in Patients With Clinically Isolated Syndrome Measured by Dynamic Contrast Enhanced Magnetic Resonance Imaging",
          "An Observation Monocentric Study to Analyse the Possible Neuroprotective Effect of Ocrelizumab Via VEGF Protein Expression in Relapsing Multiple Sclerosis Patients",
          "Exercise in Persons With Multiple Sclerosis",
          "Exercise and Neuroprotection in Older Persons With Multiple Sclerosis",
          "How Does Strength Training and Balance Training Affect Gait Function and Fatigue in Patients With Multiple Sclerosis?",
          "The Effectiveness of Game-Based Virtual Reality Approach in Patients With Multiple Sclerosis",
          "Use of the Functional Gait Assessment in Patients With Multiple Sclerosis: Examining Reliability Between Face-to-Face and Online Applications",
          "Intermittent Theta Burst Stimulation (iTBS) for the Treatment of Depression in Patients With Multiple Sclerosis: a Randomized Controlled Study",
          "Tolerability of Acthar for the Treatment of Multiple Sclerosis Relapses (TAMS)",
          "Comparing Lesion Contrast With Both Magnevist and Gadavist and Understanding the Cerebral Perfusion Patterns of Patients With Multiple Sclerosis (MS) Using Magnetic Resonance Imaging (MRI)",
          "The Effect of Percutaneous Venoplasty on Muscular Function, Mobility and Fatigue of Multiple Sclerosis (MS) Patients With Chronic Cerebrospinal Venous Insufficiency (CCSVI).",
          "The Effect of Multiple-Task Training on Physical and Cognitive Functions in Patients With Multiple Sclerosis",
          "A Phase II Study of High Dose Chemotherapy With Autologous Hematopoietic Progenitor Cell Transplant for Multiple Sclerosis That Failed at Least Two Lines of Therapy",
          "Theory Based Intervention Program to Support Physical Activity for Individuals With Multiple Sclerosis: a Case Series",
          "Multiple Sclerosis and Fabry Disease: Prevalence of Fabry Disease in a Defined Population at Risk - Patients Formerly Diagnosed With Multiple Sclerosis - an Epidemiological Study",
          "The German Multiple Sclerosis Registry of the German MS Society",
          "A Double-Blind, Placebo Controlled Trial of Estriol Treatment in Women With Multiple Sclerosis: Effect on Cognition.",
          "Investigating Cortical Gray Matter Demyelination in Primary Progressive Multiple Sclerosis at 7 Tesla",
          "Comparison of Expanded Disability Status Scale, Gad-enhanced Brain Lesions, Annualized Relapse Rate, and Side Effects Between Active Secondary Progressive Multiple Sclerosis Patients on Rituximab and Glatiramer Acetate",
          "NARCOMS Global Multiple Sclerosis Registry: A Long-Term Study to Facilitate Research in Multiple Sclerosis",
          "A Pilot Trial of Testosterone Treatment for Fatigue in Men With Multiple Sclerosis",
          "MS Wellness Navigator: The Effect of Nurse Practitioner (NP-led) Care on Mood, Anxiety and Health Related Quality of Life in People With Multiple Sclerosis - A Randomized Trial",
          "Open-label, Single-center, Single-arm Futility Trial Evaluating Oral Domperidone 10mg QID for Reducing Progression of Disability in Patients With Secondary Progressive Multiple Sclerosis (SPMS)",
          "An Examination of Potential Neurochemical and Cognitive Mediators of the Relationship Between Mindfulness and Emotion Regulation in Individuals With Multiple Sclerosis: An Internet Based Self-Guided Pilot Study.",
          "Fecal Microbiota Transplantation (FMT) of FMP30 in Relapsing-Remitting Multiple Sclerosis: A Phase 1b Clinical Trial to Evaluate Feasibility, Safety, Tolerability and Effects on Immune Function",
          "A Randomized Controlled Trial of Telephone-delivered Cognitive Behavioral-therapy, Modafinil, and Combination Therapy of Both Interventions for Fatigue in Multiple Sclerosis",
          "Tolerance-Induction With Dendritic Cells Treated With Vitamin-D3 and Loaded With Myelin Peptides, in Multiple Sclerosis Patients (TOLERVIT-MS)",
          "The Impact of a Planned 12-week Dosing Interruption of Natalizumab on Immune Cell Trafficking, Pharmacokinetic (PK)/Pharmacodynamic (PD) Parameters, and Multiple Sclerosis (MS) Disease Stability.",
          "Comparison of Rebif Compared to Tecifdera on Six-month Outcomes in Patients With Relapsing-remitting MS",
          "Evaluation of an Online Course Designed to Support the Adoption of Healthier Diet and Self-Care Routines in Multiple Sclerosis Patients",
          "Clinically Isolated Syndrome and Relapsing-Remitting Multiple Sclerosis",
          "Controlled, Randomized, Double-blind Clinical Trial, 24 Months Duration, to Compare the Efficacy, Safety and Tolerability of Andrographolide Versus Placebo in Patients With Progressive Forms of Multiple Sclerosis",
          "Use Of Autologous Stem Cell Use In Neurological Non-neoplastic Disorders And Disease",
          "Effects of Aerobic Training on Motor and Cognitive Performances in Patients With MS: an Exploratory Study With Structural and Functional MRI",
          "Spinal Direct Current Stimulation Effects on Pain in Multiple Sclerosis: Clinical and Neurophysiological Assessment and Evaluation of Endocannabinoid System Activity",
          "A Phase 1b, Open-label Study to Evaluate the Safety and Tolerability of the Putative Remyelinating Agent, Liothyronine, in Individuals With MS",
          "Effect of a Tissue Selective Estrogen Complex on Menopausal Symptoms in Women With MS: A Pilot Trial.",
          "A Multicentric Randomized PRAGmatic Trial to Compare the Effectiveness of Fingolimod Versus Dimethyl-Fumarate on Patient Overall Disease Experience in Relapsing Remitting Multiple Sclerosis: Novel Data to Inform Decision-makers",
          "A Phase II Proof of Concept Study Evaluating the Reduction of Mitoxantrone-induced Cardiotoxicity and Neurological Outcome in the Combined Use of Mitoxantrone and Dexrazoxane (Cardioxane®) in Multiple Sclerosis (MSCardioPro)",
          "The Effects of Oral Nanocurcumin on Expression Levels of microRNAs and Treg Cells and Th17 Cells Development Factors in Multiple Sclerosis Patients",
          "The Relationship Between Kinesiophobia, Physical Activity, Balance and Fear of Fall in Multiple Sclerosis Patients",
          "NEUROKINASE : Expression Profile of ERK5 and PKM2 Kinases in Neuroinflammatory Diseases.",
          "The Effect of Combined Exercise Training on Cognitive Functions in Patients With Multiple Sclerosis",
          "Safety and Tolerability of Oral Two-Doses Estroprogestins Associated With Interferon-Beta 1a in Patients With Relapsing-Remitting Multiple Sclerosis",
          "De-escalation After Natalizumab Treatment With Interferon-beta-1b in Patients With Relapsing-remitting Multiple Sclerosis",
          "Behaviour and Well-Being: A Bio-Psycho-Social Model of Resilience in Young Adults Newly Diagnosed With Multiple Sclerosis",
          "Muscle Strain in Multiple Sclerosis Patients Measured by Ultrasound Speckle Tracking",
          "Intrathecal Methotrexate for Progressive Multiple Sclerosis: An Open Label Single Arm Study",
          "Effect of Cyclical Administration of Interferon β-1b in Multiple Sclerosis - Comparison With Normal Dose.",
          "Cortical Lesions in the Primary Sensorimotor Hand Area and Their Impact on Dexterity in Multiple Sclerosis: a 7T MRI Study",
          "A Combination Trial of Copaxone Plus Estriol in RRMS",
          "Clinical Patterns of Neuromyelitis Optica Spectrum Disorders in Assiut University Hospital",
          "A Study to Assess Quality of Life in Stroke and Multiple Sclerosis Patients of the Same Age Range",
          "Role of Vitamin D on the Relapse Rate of Multiple Sclerosis",
          "Exercise as a Supplemental Treatment Strategy Early in the Disease Course of Multiple Sclerosis",
          "fMRI and Neurophysiological Study Protocol on Cannabinoids in Multiple Sclerosis",
          "Evaluating the Effect of Fingolimod With Fish Oil Compared to Fingolimod With Placebo on Tumor Necrosis Factor-α , Interleukin1b , Interleukin6, and Interferon-gamma in Patients With Relapsing-Remitting Multiple Sclerosis",
          "Phase 2-3 Use of Bacille Calmette-Guèrin (BCG) Vaccine in Patients With a First Clinical Demyelinating Episode: a Multicenter, Randomized, Single Blind Study.",
          "Keratinocyte Growth Factor - Promoting Thymic Reconstitution and Preventing Autoimmunity After Alemtuzumab (Campath-1H) Treatment of Multiple Sclerosis",
          "A Systems Approach to Understanding Disease Processes in Multiple Sclerosis",
          "The Reliability and Validity of the Functional Reach Test in Patients With Multiple Sclerosis",
          "Evaluation of Cerebrovascular Hemodynamics With Transcranial Doppler and Near-infrared Spectroscopy in Patients With Multiple Sclerosis",
          "A Phase II Study of High-Dose Immunosuppressive Therapy Using Carmustine, Etoposide, Cytarabine, Melphalan, Thymoglobulin and Autologous CD34+ Hematopoietic Stem Cell Transplant for the Treatment of Poor Prognosis Multiple Sclerosis",
          "Study of the Link Between Retinal Atrophy and Demyelinating Inflammatory Processes on Visual Pathways in Relapsing Multiple Sclerosis in Magnetic Resonance Imaging and Optical Coherence Tomography",
          "Novel Nanosensor Array for Detection of Volatile Biomarkers From Skin in Multiple Sclerosis",
          "Validation of a Shared Decision-Making Tool, MS-SUPPORT, to Improve Decisions About Disease Modifying Therapies (DMT) for Multiple Sclerosis",
          "A Pilot Study of NeuBie, a Direct Current Electrical Stimulation Device, to Inhibit Lower Extremity Spasticity Levels and Normalize Muscle Functional Use During Transfers and Ambulation in Individuals With Multiple Sclerosis",
          "Phase IA Trial of Intrathecal Administration of Human Umbilical Cord Blood-Derived Cell Therapy (DUOC-01) in Adults With Primary Progressive Multiple Sclerosis (PPMS)",
          "A Single-center Prospective Measurement of Upper Extremity Function in Multiple Sclerosis Patients With Advanced Disability Treated With Ocrevus™",
          "Linking Optic Nerve Lesion Length at MRI and the Retinal Axonal Loss at 12 Months From a Clinical Episode of Optic Neuritis",
          "Control Fatigue: Sleep Medical Treatment as a Novel Therapeutic Approach to an Unmet Medical Need in Multiple Sclerosis",
          "Testosterone TReatment for Erectile Dysfunction in Male Multiple Sclerosis Patients With Low Testosterone (TTRED-MS Study)",
          "Immune Response to SARS-CoV2 Vaccinations in Treated MS Patients Compared to Controls",
          "Remyelination in Multiple Sclerosis: a PET-MR Longitudinal Study Investigating Individual Profiles of Myelin Repair and the Contribution of Neuroinflammation",
          "An Open Label Study of the Effects of Eculizumab in Neuromyelitis Optica",
          "Efficacy and Safety of 4-aminopyridine on Cognitive Performance and Motor Function of Patients With Multiple Sclerosis. Randomized, Blinded, Placebo-controlled Clinical Trial.",
          "MicroRNA-150 and microRNA-155 as Molecular Biomarkers in Multiple Sclerosis",
          "Anti-Inflammatory Type II Monocyte Induction by Glatiramer Acetate (Copaxone) Treatment of Multiple Sclerosis",
          "The Effects of Extremity and \"Core\" Muscles Strength on Walking and Sit-to-Stand Performance in Patients With Multiple Sclerosis",
          "The Reliability, Validity, and Responsiveness of the Static Balance Test in Patients With Multiple Sclerosis.",
          "An Exploratory Randomized Controlled Trial of a Manualized, Nurse-led, Telephone Intervention Support Service for Support Persons of People With Multiple Sclerosis",
          "Controlled High-risk Avonex Multiple Sclerosis Prevention Study in Ongoing Neurologic Surveillance (CHAMPIONS10)",
          "Assessment of the Effectiveness of Guided by a Physiotherapist Versus Non-guided Pelvic Floor Exercises for Urinary Incontinence (UI) in Patients With Relapsing-Remitting (RR) Multiple Sclerosis",
          "Effect of Aerobic Exercises on Immune System in Patients With Multiple Sclerosis",
          "Double-blinded, Randomized Controlled Trial of Simvastatin Use As Adjuvant Therapy in Relapsing-Remitting Multiple Sclerosis",
          "The Effectiveness of Endovascular Treatment of Chronic Cerebrospinal Venous Insufficiency (CCSVI) in Patients With Multiple Sclerosis",
          "Effect of Vitamin D Replacement on Immune Function and Cognition in MS Patients",
          "Use of Cellular Stromal Vascular Fraction in Multiple Sclerosis",
          "Study to Evaluate the Responsiveness and Minimal Clinical Important Difference (MCID) of the 'Multiple Sclerosis Questionnaire for Physiotherapists' (MSQPT)",
          "Effect of Nordic Walking Training Compared With Conventional Endurance Training in Walking Capacity in People With Multiple Sclerosis: a Simple Blinded Randomized Controlled Trial",
          "Efficacy of Sustained-release Oral Dalfampridine on Upper Extremity Function in Patients With Multiple Sclerosis: a Pilot Study",
          "The Clinical Features of Combined Central and Peripheral Demyelination",
          "Teriflunomide Observational Effectiveness Study",
          "Multidimensional Assessment of Fatigue in Multiple Sclerosis- Observational Study - Ticino",
          "Randomized Controlled Trial of Core Stability Training in Patients With Multiple Sclerosis: Biomechanical and Performance Based Analysis of Gait",
          "Phase IV Study of Oral Prednisone Taper vs. Placebo Following Intravenous Steroids for the Treatment of Acute Relapses in Multiple Sclerosis Within the Ticino Cohort",
          "Barriers to Physical Activity in People With MS (Barrieren für körperliche Aktivität Bei MS-Betroffenen - BarKA-MS) - A Longitudinal Observational Study",
          "Reducing Sedentary Behaviour: A Novel Opportunity for Managing Comorbidity in MS?",
          "Proposal to Create a Flagship Neurology and Palliative Care Service for South London",
          "A Phase II Baseline Versus Treatment Study to Determine the Efficacy of Raltegravir (Isentress) in Preventing Progression of Relapsing Remitting Multiple Sclerosis as Determined by Gadolinium-enhanced MRI",
          "The Relationship of Cognitive Functions to Physical and Personal Factors in Patients With Multiple Sclerosis",
          "A First-in-Kind Randomized, Controlled Pilot Clinical Trial Testing Proactive vs Reactive Management of a Symptom Triad in Multiple Sclerosis",
          "An Open-label, Randomised, Crossover Study to Assess the Relative Bioavailability of Different 2mg Formulations of GSK2018682(S1P1 Agonist) in Healthy Volunteers",
          "The Efficacy of Eye Movement Desensitization and Reprocessing (EMDR) in Patients With Post Traumatic Stress Disorder in Multiple Sclerosis. A Randomized Controlled Trial.",
          "Natalizumab De-escalation to Interferon-beta-1b in Patients With Relapsing-remitting Multiple Sclerosis: A Swiss Multicenter Study Prospective, Controlled, Single-arm, Open-label, Multi-centre, Phase IV Study",
          "Gene Expression in MS Patients Before and During Treatment With High-dose Interferon Beta: Prospective Study for the Identification of Predicting Factors of Therapeutic Response.",
          "Effects of Immersive Virtual Reality on Balance, Mobility, and Fatigue in Patients With Multiple Sclerosis",
          "Deciphering the Role of the Gut Microbiota in Multiple Sclerosis",
          "Factors That Influence Compliance With Disease-Modifying Therapy in Multiple Sclerosis",
          "Assessment of Lesion Activity Analysis in the Avonex- Steroid Azathioprine (ASA) Study",
          "Efficacy of COVID 19 SARS-CoV-2 mRNA Vaccination in Patients With Multiple Sclerosis Treated With Immune Modulating Medication (SARSmRNA_MS)",
          "Relationship of Position Sense With Gait and Balance in Patients With Multiple Sclerosis",
          "Understanding Evaluation of Patient Information Sheets of Two Multiple Sclerosis Studies Through User Testing Method in a Randomized, Open Label, Crossover Design",
          "Longitudinal Effect of Vitamin D3 Replacement on Cognitive Performance and MRI Markers in Multiple Sclerosis Patients: A Single-Blind Randomized Clinical Trial",
          "A Multicentre, Non Interventional, Non Randomized, Observational Study for the Assessment of Compliance and Persistence With Rebif® Therapy of Patients With Relapsing-Remitting Multiple Sclerosis as Well as for the Evaluation of Potential Factors Influencing These Parameters, in Real Life Clinical Practice",
          "Single Test to ARrive at MS Diagnosis. A Prospective, Longitudinal, Investigator Blinded, Pilot Study Assessing the Accuracy of a Single 3 Tesla MRI Scan in Predicting Multiple Sclerosis in Cases of Diagnostic Uncertainty",
          "Clinical Factors Associated With Position Sense in Patients With Multiple Sclerosis",
          "The Effects of Vitamin D3 Supplementation on the T Cell Compartment in Multiple Sclerosis; a Pilot Study",
          "A Phase I/II, Open-Label Pilot Trial to Evaluate the Safety of Rapamune (Sirolimus) in Patients With Multiple Sclerosis",
          "Physical Activity Intervention for Improving Vascular Comorbidity Risk in Multiple Sclerosis",
          "Treatment of Multiple Sclerosis Using Over the Counter Inosine",
          "Safety of Cultured Allogeneic Adult Umbilical Cord Derived Mesenchymal Stem Cell Intravenous Infusion for the Treatment of Multiple Sclerosis",
          "Switching Relapsing Multiple Sclerosis Patients Treated With Natalizumab at Risk for Progressive Multifocal Leukoencephalopathy to Teriflunomide: Is This Safe and Effective? (Sub-study: SWITCH-JCV)",
          "Herbal Therapy for Subcutaneous Injection Site Reactions in Multiple Sclerosis",
          "Lokomat Treadmill Training Effects on MS Gait",
          "The Reliability, Validity, and Responsiveness of the Timed 360° Turn Test Test in Patients With Multiple Sclerosis",
          "Functional Electrical Stimulation to Treat Foot Drop in People With Multiple Sclerosis",
          "Interventions to Improve Memory in Patients With Multiple Sclerosis",
          "Thematic Studies of Multiple Sclerosis and Related Diseases",
          "Effects of Electromechanical Gait Trainer on Endurance, Fatigue and Daily Life Autonomy in Patients With Multiple Sclerosis: a Randomized Control Trial"
         ],
         "legendgroup": "",
         "marker": {
          "color": "#636efa",
          "pattern": {
           "shape": ""
          }
         },
         "name": "",
         "offsetgroup": "",
         "orientation": "v",
         "showlegend": false,
         "textposition": "auto",
         "type": "bar",
         "x": [
          "NCT04073940",
          "NCT03782246",
          "NCT04550455",
          "NCT02104661",
          "NCT03004079",
          "NCT04466150",
          "NCT04178005",
          "NCT03949296",
          "NCT03896217",
          "NCT04113135",
          "NCT04585659",
          "NCT01337986",
          "NCT02364505",
          "NCT04496830",
          "NCT02607020",
          "NCT04236544",
          "NCT03736902",
          "NCT05081271",
          "NCT04997343",
          "NCT01149525",
          "NCT03135249",
          "NCT05029206",
          "NCT04979546",
          "NCT02544373",
          "NCT02418325",
          "NCT02587715",
          "NCT02290444",
          "NCT02377323",
          "NCT00000147",
          "NCT02587806",
          "NCT03889327",
          "NCT00000146",
          "NCT04121637",
          "NCT03804047",
          "NCT02988401",
          "NCT04121065",
          "NCT03113162",
          "NCT02939859",
          "NCT02493049",
          "NCT03586986",
          "NCT04660227",
          "NCT05112484",
          "NCT04832269",
          "NCT02525367",
          "NCT05080270",
          "NCT03826095",
          "NCT03193086",
          "NCT02280876",
          "NCT02805634",
          "NCT05046535",
          "NCT04593082",
          "NCT03464448",
          "NCT03508284",
          "NCT03999788",
          "NCT04101058",
          "NCT04431323",
          "NCT03345537",
          "NCT01973517",
          "NCT02688231",
          "NCT03975413",
          "NCT04257071",
          "NCT04182269",
          "NCT04233970",
          "NCT01611987",
          "NCT03735524",
          "NCT04743284",
          "NCT03505294",
          "NCT02914964",
          "NCT00630383",
          "NCT01563900",
          "NCT03451955",
          "NCT04902690",
          "NCT04944251",
          "NCT04762342",
          "NCT02870023",
          "NCT04212689",
          "NCT04932616",
          "NCT04524039",
          "NCT02258217",
          "NCT01836055",
          "NCT01555684",
          "NCT03512886",
          "NCT01679041",
          "NCT02335450",
          "NCT01271699",
          "DRKS00011257",
          "NCT01466114",
          "NCT04977622",
          "NCT03315923",
          "NCT01018537",
          "NCT03000127",
          "NCT04388592",
          "NCT02308137",
          "NCT02391298",
          "NCT03594487",
          "NCT03621761",
          "NCT02903537",
          "NCT04048577",
          "NCT02419638",
          "NCT05057676",
          "NCT04009005",
          "NCT02273635",
          "NCT03297177",
          "NCT04097418",
          "NCT02331654",
          "NCT02506751",
          "NCT02710214",
          "NCT03345940",
          "NCT01627938",
          "NCT03150966",
          "NCT04183751",
          "NCT04674163",
          "NCT03591809",
          "NCT00151801",
          "NCT01144052",
          "NCT03825055",
          "NCT03847545",
          "NCT02644044",
          "NCT00270816",
          "NCT03653585",
          "NCT00451204",
          "NCT03819413",
          "NCT04758494",
          "NCT01753375",
          "NCT03322761",
          "NCT00202423",
          "NCT02939079",
          "NCT00202410",
          "NCT01712945",
          "NCT05081700",
          "NCT04185688",
          "NCT02389426",
          "NCT00288626",
          "NCT03656055",
          "NCT04074629",
          "NCT04122989",
          "NCT04942938",
          "NCT04943289",
          "NCT03562975",
          "NCT03651362",
          "NCT03759249",
          "NCT04601233",
          "NCT05060354",
          "NCT05147532",
          "NCT00904826",
          "NCT02280096",
          "NCT04300543",
          "NCT00819195",
          "NCT03597451",
          "NCT03584672",
          "NCT01302431",
          "NCT00179478",
          "NCT03000647",
          "NCT04545372",
          "NCT04178980",
          "NCT01201707",
          "NCT01952483",
          "NCT03461419",
          "NCT02346279",
          "NCT03976128",
          "NCT02259361",
          "NCT04664647",
          "NCT02490982",
          "NCT02082002",
          "NCT03442049",
          "NCT01411514",
          "NCT04746807",
          "NCT03136744",
          "NCT00364936",
          "NCT01767701",
          "NCT03594357",
          "NCT03335618",
          "NCT01466322",
          "NCT01743664",
          "NCT01701856",
          "NCT00202384",
          "NCT03501342",
          "NCT02580435",
          "NCT00223457",
          "NCT01628315",
          "NCT04796584",
          "NCT04547400",
          "NCT03155334",
          "NCT03610139",
          "NCT01112345",
          "NCT02485223",
          "NCT04548297",
          "NCT00940719",
          "NCT00095329",
          "NCT03944538",
          "NCT00067327",
          "NCT05003388",
          "NCT01970410",
          "NCT00972062",
          "NCT00835835",
          "NCT03718026",
          "NCT02123537",
          "NCT00062972",
          "NCT02504840",
          "NCT01564511"
         ],
         "xaxis": "x",
         "y": [
          99,
          72,
          52,
          48,
          46,
          45,
          39,
          39,
          37,
          34,
          34,
          33,
          33,
          33,
          31,
          29,
          29,
          27,
          27,
          27,
          27,
          26,
          25,
          25,
          24,
          24,
          24,
          23,
          23,
          23,
          23,
          22,
          22,
          22,
          22,
          21,
          21,
          20,
          20,
          19,
          18,
          18,
          18,
          17,
          17,
          17,
          17,
          17,
          16,
          16,
          16,
          16,
          16,
          16,
          16,
          15,
          15,
          15,
          15,
          15,
          15,
          15,
          14,
          14,
          14,
          14,
          13,
          13,
          13,
          13,
          13,
          13,
          13,
          12,
          12,
          12,
          12,
          12,
          12,
          12,
          12,
          12,
          12,
          12,
          11,
          11,
          11,
          11,
          11,
          11,
          11,
          10,
          10,
          10,
          10,
          10,
          10,
          10,
          10,
          9,
          9,
          9,
          9,
          9,
          9,
          9,
          9,
          9,
          9,
          8,
          8,
          8,
          8,
          8,
          8,
          8,
          8,
          8,
          8,
          8,
          8,
          7,
          7,
          7,
          7,
          7,
          7,
          7,
          7,
          7,
          7,
          7,
          6,
          6,
          6,
          6,
          6,
          6,
          6,
          6,
          6,
          6,
          6,
          6,
          6,
          5,
          5,
          5,
          5,
          5,
          5,
          5,
          5,
          5,
          5,
          5,
          5,
          5,
          5,
          5,
          5,
          5,
          5,
          5,
          5,
          4,
          4,
          4,
          4,
          4,
          4,
          4,
          4,
          4,
          4,
          4,
          4,
          4,
          4,
          4,
          4,
          4,
          4,
          4,
          4,
          4,
          4,
          4,
          4,
          4,
          4,
          4,
          4,
          4,
          4,
          4,
          4,
          4,
          3,
          3
         ],
         "yaxis": "y"
        }
       ],
       "layout": {
        "autosize": true,
        "barmode": "relative",
        "legend": {
         "tracegroupgap": 0
        },
        "margin": {
         "t": 60
        },
        "template": {
         "data": {
          "bar": [
           {
            "error_x": {
             "color": "#2a3f5f"
            },
            "error_y": {
             "color": "#2a3f5f"
            },
            "marker": {
             "line": {
              "color": "#E5ECF6",
              "width": 0.5
             },
             "pattern": {
              "fillmode": "overlay",
              "size": 10,
              "solidity": 0.2
             }
            },
            "type": "bar"
           }
          ],
          "barpolar": [
           {
            "marker": {
             "line": {
              "color": "#E5ECF6",
              "width": 0.5
             },
             "pattern": {
              "fillmode": "overlay",
              "size": 10,
              "solidity": 0.2
             }
            },
            "type": "barpolar"
           }
          ],
          "carpet": [
           {
            "aaxis": {
             "endlinecolor": "#2a3f5f",
             "gridcolor": "white",
             "linecolor": "white",
             "minorgridcolor": "white",
             "startlinecolor": "#2a3f5f"
            },
            "baxis": {
             "endlinecolor": "#2a3f5f",
             "gridcolor": "white",
             "linecolor": "white",
             "minorgridcolor": "white",
             "startlinecolor": "#2a3f5f"
            },
            "type": "carpet"
           }
          ],
          "choropleth": [
           {
            "colorbar": {
             "outlinewidth": 0,
             "ticks": ""
            },
            "type": "choropleth"
           }
          ],
          "contour": [
           {
            "colorbar": {
             "outlinewidth": 0,
             "ticks": ""
            },
            "colorscale": [
             [
              0,
              "#0d0887"
             ],
             [
              0.1111111111111111,
              "#46039f"
             ],
             [
              0.2222222222222222,
              "#7201a8"
             ],
             [
              0.3333333333333333,
              "#9c179e"
             ],
             [
              0.4444444444444444,
              "#bd3786"
             ],
             [
              0.5555555555555556,
              "#d8576b"
             ],
             [
              0.6666666666666666,
              "#ed7953"
             ],
             [
              0.7777777777777778,
              "#fb9f3a"
             ],
             [
              0.8888888888888888,
              "#fdca26"
             ],
             [
              1,
              "#f0f921"
             ]
            ],
            "type": "contour"
           }
          ],
          "contourcarpet": [
           {
            "colorbar": {
             "outlinewidth": 0,
             "ticks": ""
            },
            "type": "contourcarpet"
           }
          ],
          "heatmap": [
           {
            "colorbar": {
             "outlinewidth": 0,
             "ticks": ""
            },
            "colorscale": [
             [
              0,
              "#0d0887"
             ],
             [
              0.1111111111111111,
              "#46039f"
             ],
             [
              0.2222222222222222,
              "#7201a8"
             ],
             [
              0.3333333333333333,
              "#9c179e"
             ],
             [
              0.4444444444444444,
              "#bd3786"
             ],
             [
              0.5555555555555556,
              "#d8576b"
             ],
             [
              0.6666666666666666,
              "#ed7953"
             ],
             [
              0.7777777777777778,
              "#fb9f3a"
             ],
             [
              0.8888888888888888,
              "#fdca26"
             ],
             [
              1,
              "#f0f921"
             ]
            ],
            "type": "heatmap"
           }
          ],
          "heatmapgl": [
           {
            "colorbar": {
             "outlinewidth": 0,
             "ticks": ""
            },
            "colorscale": [
             [
              0,
              "#0d0887"
             ],
             [
              0.1111111111111111,
              "#46039f"
             ],
             [
              0.2222222222222222,
              "#7201a8"
             ],
             [
              0.3333333333333333,
              "#9c179e"
             ],
             [
              0.4444444444444444,
              "#bd3786"
             ],
             [
              0.5555555555555556,
              "#d8576b"
             ],
             [
              0.6666666666666666,
              "#ed7953"
             ],
             [
              0.7777777777777778,
              "#fb9f3a"
             ],
             [
              0.8888888888888888,
              "#fdca26"
             ],
             [
              1,
              "#f0f921"
             ]
            ],
            "type": "heatmapgl"
           }
          ],
          "histogram": [
           {
            "marker": {
             "pattern": {
              "fillmode": "overlay",
              "size": 10,
              "solidity": 0.2
             }
            },
            "type": "histogram"
           }
          ],
          "histogram2d": [
           {
            "colorbar": {
             "outlinewidth": 0,
             "ticks": ""
            },
            "colorscale": [
             [
              0,
              "#0d0887"
             ],
             [
              0.1111111111111111,
              "#46039f"
             ],
             [
              0.2222222222222222,
              "#7201a8"
             ],
             [
              0.3333333333333333,
              "#9c179e"
             ],
             [
              0.4444444444444444,
              "#bd3786"
             ],
             [
              0.5555555555555556,
              "#d8576b"
             ],
             [
              0.6666666666666666,
              "#ed7953"
             ],
             [
              0.7777777777777778,
              "#fb9f3a"
             ],
             [
              0.8888888888888888,
              "#fdca26"
             ],
             [
              1,
              "#f0f921"
             ]
            ],
            "type": "histogram2d"
           }
          ],
          "histogram2dcontour": [
           {
            "colorbar": {
             "outlinewidth": 0,
             "ticks": ""
            },
            "colorscale": [
             [
              0,
              "#0d0887"
             ],
             [
              0.1111111111111111,
              "#46039f"
             ],
             [
              0.2222222222222222,
              "#7201a8"
             ],
             [
              0.3333333333333333,
              "#9c179e"
             ],
             [
              0.4444444444444444,
              "#bd3786"
             ],
             [
              0.5555555555555556,
              "#d8576b"
             ],
             [
              0.6666666666666666,
              "#ed7953"
             ],
             [
              0.7777777777777778,
              "#fb9f3a"
             ],
             [
              0.8888888888888888,
              "#fdca26"
             ],
             [
              1,
              "#f0f921"
             ]
            ],
            "type": "histogram2dcontour"
           }
          ],
          "mesh3d": [
           {
            "colorbar": {
             "outlinewidth": 0,
             "ticks": ""
            },
            "type": "mesh3d"
           }
          ],
          "parcoords": [
           {
            "line": {
             "colorbar": {
              "outlinewidth": 0,
              "ticks": ""
             }
            },
            "type": "parcoords"
           }
          ],
          "pie": [
           {
            "automargin": true,
            "type": "pie"
           }
          ],
          "scatter": [
           {
            "marker": {
             "colorbar": {
              "outlinewidth": 0,
              "ticks": ""
             }
            },
            "type": "scatter"
           }
          ],
          "scatter3d": [
           {
            "line": {
             "colorbar": {
              "outlinewidth": 0,
              "ticks": ""
             }
            },
            "marker": {
             "colorbar": {
              "outlinewidth": 0,
              "ticks": ""
             }
            },
            "type": "scatter3d"
           }
          ],
          "scattercarpet": [
           {
            "marker": {
             "colorbar": {
              "outlinewidth": 0,
              "ticks": ""
             }
            },
            "type": "scattercarpet"
           }
          ],
          "scattergeo": [
           {
            "marker": {
             "colorbar": {
              "outlinewidth": 0,
              "ticks": ""
             }
            },
            "type": "scattergeo"
           }
          ],
          "scattergl": [
           {
            "marker": {
             "colorbar": {
              "outlinewidth": 0,
              "ticks": ""
             }
            },
            "type": "scattergl"
           }
          ],
          "scattermapbox": [
           {
            "marker": {
             "colorbar": {
              "outlinewidth": 0,
              "ticks": ""
             }
            },
            "type": "scattermapbox"
           }
          ],
          "scatterpolar": [
           {
            "marker": {
             "colorbar": {
              "outlinewidth": 0,
              "ticks": ""
             }
            },
            "type": "scatterpolar"
           }
          ],
          "scatterpolargl": [
           {
            "marker": {
             "colorbar": {
              "outlinewidth": 0,
              "ticks": ""
             }
            },
            "type": "scatterpolargl"
           }
          ],
          "scatterternary": [
           {
            "marker": {
             "colorbar": {
              "outlinewidth": 0,
              "ticks": ""
             }
            },
            "type": "scatterternary"
           }
          ],
          "surface": [
           {
            "colorbar": {
             "outlinewidth": 0,
             "ticks": ""
            },
            "colorscale": [
             [
              0,
              "#0d0887"
             ],
             [
              0.1111111111111111,
              "#46039f"
             ],
             [
              0.2222222222222222,
              "#7201a8"
             ],
             [
              0.3333333333333333,
              "#9c179e"
             ],
             [
              0.4444444444444444,
              "#bd3786"
             ],
             [
              0.5555555555555556,
              "#d8576b"
             ],
             [
              0.6666666666666666,
              "#ed7953"
             ],
             [
              0.7777777777777778,
              "#fb9f3a"
             ],
             [
              0.8888888888888888,
              "#fdca26"
             ],
             [
              1,
              "#f0f921"
             ]
            ],
            "type": "surface"
           }
          ],
          "table": [
           {
            "cells": {
             "fill": {
              "color": "#EBF0F8"
             },
             "line": {
              "color": "white"
             }
            },
            "header": {
             "fill": {
              "color": "#C8D4E3"
             },
             "line": {
              "color": "white"
             }
            },
            "type": "table"
           }
          ]
         },
         "layout": {
          "annotationdefaults": {
           "arrowcolor": "#2a3f5f",
           "arrowhead": 0,
           "arrowwidth": 1
          },
          "autotypenumbers": "strict",
          "coloraxis": {
           "colorbar": {
            "outlinewidth": 0,
            "ticks": ""
           }
          },
          "colorscale": {
           "diverging": [
            [
             0,
             "#8e0152"
            ],
            [
             0.1,
             "#c51b7d"
            ],
            [
             0.2,
             "#de77ae"
            ],
            [
             0.3,
             "#f1b6da"
            ],
            [
             0.4,
             "#fde0ef"
            ],
            [
             0.5,
             "#f7f7f7"
            ],
            [
             0.6,
             "#e6f5d0"
            ],
            [
             0.7,
             "#b8e186"
            ],
            [
             0.8,
             "#7fbc41"
            ],
            [
             0.9,
             "#4d9221"
            ],
            [
             1,
             "#276419"
            ]
           ],
           "sequential": [
            [
             0,
             "#0d0887"
            ],
            [
             0.1111111111111111,
             "#46039f"
            ],
            [
             0.2222222222222222,
             "#7201a8"
            ],
            [
             0.3333333333333333,
             "#9c179e"
            ],
            [
             0.4444444444444444,
             "#bd3786"
            ],
            [
             0.5555555555555556,
             "#d8576b"
            ],
            [
             0.6666666666666666,
             "#ed7953"
            ],
            [
             0.7777777777777778,
             "#fb9f3a"
            ],
            [
             0.8888888888888888,
             "#fdca26"
            ],
            [
             1,
             "#f0f921"
            ]
           ],
           "sequentialminus": [
            [
             0,
             "#0d0887"
            ],
            [
             0.1111111111111111,
             "#46039f"
            ],
            [
             0.2222222222222222,
             "#7201a8"
            ],
            [
             0.3333333333333333,
             "#9c179e"
            ],
            [
             0.4444444444444444,
             "#bd3786"
            ],
            [
             0.5555555555555556,
             "#d8576b"
            ],
            [
             0.6666666666666666,
             "#ed7953"
            ],
            [
             0.7777777777777778,
             "#fb9f3a"
            ],
            [
             0.8888888888888888,
             "#fdca26"
            ],
            [
             1,
             "#f0f921"
            ]
           ]
          },
          "colorway": [
           "#636efa",
           "#EF553B",
           "#00cc96",
           "#ab63fa",
           "#FFA15A",
           "#19d3f3",
           "#FF6692",
           "#B6E880",
           "#FF97FF",
           "#FECB52"
          ],
          "font": {
           "color": "#2a3f5f"
          },
          "geo": {
           "bgcolor": "white",
           "lakecolor": "white",
           "landcolor": "#E5ECF6",
           "showlakes": true,
           "showland": true,
           "subunitcolor": "white"
          },
          "hoverlabel": {
           "align": "left"
          },
          "hovermode": "closest",
          "mapbox": {
           "style": "light"
          },
          "paper_bgcolor": "white",
          "plot_bgcolor": "#E5ECF6",
          "polar": {
           "angularaxis": {
            "gridcolor": "white",
            "linecolor": "white",
            "ticks": ""
           },
           "bgcolor": "#E5ECF6",
           "radialaxis": {
            "gridcolor": "white",
            "linecolor": "white",
            "ticks": ""
           }
          },
          "scene": {
           "xaxis": {
            "backgroundcolor": "#E5ECF6",
            "gridcolor": "white",
            "gridwidth": 2,
            "linecolor": "white",
            "showbackground": true,
            "ticks": "",
            "zerolinecolor": "white"
           },
           "yaxis": {
            "backgroundcolor": "#E5ECF6",
            "gridcolor": "white",
            "gridwidth": 2,
            "linecolor": "white",
            "showbackground": true,
            "ticks": "",
            "zerolinecolor": "white"
           },
           "zaxis": {
            "backgroundcolor": "#E5ECF6",
            "gridcolor": "white",
            "gridwidth": 2,
            "linecolor": "white",
            "showbackground": true,
            "ticks": "",
            "zerolinecolor": "white"
           }
          },
          "shapedefaults": {
           "line": {
            "color": "#2a3f5f"
           }
          },
          "ternary": {
           "aaxis": {
            "gridcolor": "white",
            "linecolor": "white",
            "ticks": ""
           },
           "baxis": {
            "gridcolor": "white",
            "linecolor": "white",
            "ticks": ""
           },
           "bgcolor": "#E5ECF6",
           "caxis": {
            "gridcolor": "white",
            "linecolor": "white",
            "ticks": ""
           }
          },
          "title": {
           "x": 0.05
          },
          "xaxis": {
           "automargin": true,
           "gridcolor": "white",
           "linecolor": "white",
           "ticks": "",
           "title": {
            "standoff": 15
           },
           "zerolinecolor": "white",
           "zerolinewidth": 2
          },
          "yaxis": {
           "automargin": true,
           "gridcolor": "white",
           "linecolor": "white",
           "ticks": "",
           "title": {
            "standoff": 15
           },
           "zerolinecolor": "white",
           "zerolinewidth": 2
          }
         }
        },
        "xaxis": {
         "anchor": "y",
         "autorange": true,
         "domain": [
          0,
          1
         ],
         "range": [
          -0.5,
          199.5
         ],
         "title": {
          "text": "id"
         },
         "type": "category"
        },
        "yaxis": {
         "anchor": "x",
         "autorange": true,
         "domain": [
          0,
          1
         ],
         "range": [
          0,
          104.21052631578948
         ],
         "title": {
          "text": "pubs_tot"
         },
         "type": "linear"
        }
       }
      },
      "image/png": "[encoded data removed]",
      "text/html": [
       "<div>                            <div id=\"2c6d0436-e642-4dc7-8260-3ce515ebfe15\" class=\"plotly-graph-div\" style=\"height:525px; width:100%;\"></div>            <script type=\"text/javascript\">                require([\"plotly\"], function(Plotly) {                    window.PLOTLYENV=window.PLOTLYENV || {};                                    if (document.getElementById(\"2c6d0436-e642-4dc7-8260-3ce515ebfe15\")) {                    Plotly.newPlot(                        \"2c6d0436-e642-4dc7-8260-3ce515ebfe15\",                        [{\"alignmentgroup\":\"True\",\"customdata\":[[[2019,2020,2021]],[[2018,2019,2020,2021,2022]],[[2020,2021,2022,2023,2024,2025]],[[2014,2015,2016,2017,2018]],[[2016,2017,2018,2019,2020]],[[2020,2021,2022,2023,2024,2025]],[[2020,2021,2022]],[[2017,2018,2019]],[[2019,2020,2021]],[[2020]],[[2017,2018]],[[2011,2012,2013]],[[2014,2015,2016]],[[2020,2021,2022,2023]],[[2015,2016,2017,2018,2019,2020]],[[2022,2023]],[[2018,2019]],[[2021,2022]],[[2021,2022,2023]],[[2010,2011,2012,2013]],[[2018,2019,2020]],[[2021,2022]],[[2021,2022,2023]],[[2015,2016,2017,2018,2019,2020,2021]],[[2015,2016,2017]],[[2015,2016,2017]],[[2013,2014,2015,2016,2017,2018]],[[2014,2015,2016]],[null],[[2015,2016,2017]],[[2018,2019]],[null],[[2019,2020]],[[2019,2020,2021]],[[2017,2018,2019,2020,2021]],[[2020,2021,2022,2023,2024,2025]],[[2015,2016,2017,2018,2019,2020,2021,2022]],[[2018,2019,2020,2021,2022,2023]],[[2015,2016,2017,2018,2019]],[[2018,2019,2020,2021,2022]],[[2020,2021,2022]],[[2021,2022,2023,2024,2025,2026]],[[2020,2021,2022]],[[2016,2017]],[[2020,2021]],[[2019]],[[2017,2018,2019,2020]],[[2012,2013,2014,2015]],[[2016,2017,2018,2019]],[[2021,2022]],[[2021,2022,2023,2024]],[[2018,2019,2020,2021,2022]],[[2018,2019]],[[2019,2020,2021,2022,2023,2024,2025]],[[2019,2020]],[[2020,2021,2022]],[[2018,2019,2020,2021,2022]],[[2014,2015,2016,2017,2018]],[[2016,2017,2018]],[[2018,2019,2020]],[[2020,2021]],[[2018,2019,2020]],[[2020,2021,2022]],[[2012,2013,2014,2015,2016,2017,2018]],[[2019,2020,2021]],[[2021,2022]],[[2018]],[[2016,2017,2018,2019,2020,2021,2022,2023,2024,2025]],[[2008]],[[2012,2013,2014,2015,2016]],[[2018,2019]],[[2021,2022,2023,2024]],[[2019,2020]],[[2020,2021,2022,2023,2024]],[[2016,2017,2018]],[[2020,2021]],[[2021]],[[2020,2021,2022]],[[2014,2015,2016]],[[2012,2013,2014]],[[2012]],[[2018,2019]],[[2012,2013]],[[2015]],[[2011,2012,2013,2014,2015,2016,2017,2018,2019]],[null],[[2011,2012,2013,2014,2015,2016,2017,2018,2019,2020,2021,2022]],[[2021,2022,2023]],[[2017,2018,2019]],[null],[[2018,2019,2020,2021,2022,2023,2024]],[[2017,2018,2019]],[[2015,2016,2017,2018,2019,2020]],[[2014,2015,2016]],[[2018,2019,2020,2021,2022]],[[2018,2019,2020,2021]],[[2017,2018,2019,2020,2021]],[[2019,2020,2021]],[[2015,2016]],[[2021,2022,2023]],[[2020,2021,2022,2023,2024,2025,2026,2027]],[[2014,2015,2016,2017]],[[2020,2021,2022,2023]],[[2015,2016,2017,2018,2019,2020,2021,2022,2023,2024]],[[2013,2014,2015,2016]],[[2015,2016,2017]],[[2016,2017,2018,2019]],[[2017,2018,2019]],[[2012,2013,2014,2015,2016]],[[2016,2017]],[[2019,2020,2021]],[[2022,2023,2024]],[[2018,2019]],[[2002,2003,2004,2005,2006,2007,2008]],[[2010,2011]],[[2019,2020,2021,2022]],[[2018,2019,2020,2021,2022]],[[2016,2017,2018]],[[2005,2006,2007,2008,2009,2010,2011]],[[2018,2019,2020]],[[2007,2008,2009,2010,2011,2012,2013,2014]],[[2019,2020]],[[2019,2020]],[[2013,2014]],[[2018,2019,2020,2021]],[null],[[2015,2016]],[[2001,2002,2003,2004,2005,2006,2007,2008]],[[2012,2013,2014,2015,2016,2017]],[[2020,2021,2022,2023]],[[2019,2020]],[[2014,2015]],[[2006,2007,2008,2009,2010,2011,2012,2013,2014,2015]],[[2017,2018,2019,2020]],[[2019,2020,2021,2022,2023]],[[2019,2020,2021]],[[2021,2022]],[[2021,2022,2023,2024]],[[2018,2019,2020,2021,2022]],[[2016,2017,2018,2019]],[[2015,2016,2017,2018,2019,2020,2021]],[[2021,2022]],[[2021,2022,2023]],[[2022,2023,2024]],[[2009,2010,2011]],[[2014,2015,2016,2017]],[[2020,2021]],[[2008,2009,2010,2011,2012]],[[2018,2019,2020]],[[2018]],[[2011,2012,2013,2014]],[[2001,2002,2003,2004,2005,2006,2007,2008,2009]],[[2015,2016]],[[2015,2016,2017,2018,2019,2020]],[[2020,2021,2022]],[[2010,2011,2012,2013]],[[2012,2013,2014,2015,2016,2017]],[[2019,2020,2021,2022,2023,2024]],[[2011,2012,2013]],[[2016,2017,2018,2019,2020]],[[2014]],[[2020,2021]],[[2015,2016,2017,2018,2019,2020,2021]],[[2013,2014,2015,2016,2017,2018]],[[2015,2016]],[[2011,2012,2013,2014,2015]],[[2021]],[[2018,2019]],[[2004,2005,2006]],[[2013,2014]],[[2018]],[[2017,2018,2019,2020]],[[2010,2011]],[[2010,2011,2012,2013,2014]],[[2012,2013]],[[2004,2005,2006,2007,2008,2009,2010,2011]],[[2018]],[[2015,2016,2017,2018,2019,2020,2021]],[[2004,2005]],[[2009,2010,2011,2012,2013,2014]],[[2021,2022]],[[2020,2021]],[[2017,2018]],[[2018,2019,2020,2021,2022]],[[2009,2010,2011,2012]],[[2015,2016,2017]],[[2020,2021]],[[2009,2010]],[[2003,2004,2005]],[[2019,2020,2021,2022,2023]],[[2002,2003,2004,2005]],[[2022,2023,2024,2025]],[[2013,2014,2015,2016,2017,2018,2019,2020,2021,2022]],[[2009,2010]],[[2008,2009,2010,2011,2012,2013]],[[2018]],[[2014,2015,2016]],[[1999,2000,2001,2002]],[[2015,2016,2017,2018,2019,2020]],[[2011,2012]]],\"hovertemplate\":\"<b>%{hovertext}</b><br><br>id=%{x}<br>pubs_tot=%{y}<br>active_years=%{customdata[0]}<extra></extra>\",\"hovertext\":[\"Exploration of Brain Changes Due to a Targeted Ballet Program in Multiple Sclerosis\",\"Mindfulness-based Cognitive Therapy and Cognitive Behavioral Therapy for Chronic Pain in Multiple Sclerosis\",\"A Prospective Biomarker Study in Active Secondary Progressive Multiple Sclerosis (SPMS)Subjects Treated With Cladribine Tablets\",\"OxCarbazepine as a Neuroprotective Agent in MS: A Phase 2a Trial\",\"Assessment of the Clinical Importance of Insulin Resistance & Steroid-Associated Hyperglycemia in Relapsing Multiple Sclerosis\",\"Impact of Ocrelizumab on Cerebrospinal Fluid Biomarkers at Multiple Sclerosis Onset\",\"Cladribine Tablets After Treatment With Natalizumab (CLADRINA)\",\"A Randomized, Placebo-Controlled Study of Mindfulness Meditation in Treating Insomnia in Multiple Sclerosis\",\"A Double-blind, Randomised, Placebo-controlled Single-site Study of High Dose Simvastatin Treatment for Secondary Progressive Multiple Sclerosis: Impact on Vascular Perfusion and Oxidative Damage\",\"The Utilization of Yoga as a Therapeutic Tool to Promote Physical Activity Behavior Change and Improved Postural Control in Individuals With Multiple Sclerosis\",\"Qigong for Multiple Sclerosis: A Feasibility Study\",\"Dalfampridine After Optic Neuritis to Improve Visual Function in Multiple Sclerosis\",\"Improving the Quality of Life of People With Multiple Sclerosis and Their Caregivers With a Telemedicine Mindfulness-Based Intervention\",\"Cerebrospinal Fluid-biomarkers-based Diagnostic and Prognostic Models for Multiple Sclerosis\",\"Self-Management Program Based on Physical Exercises for People With Multiple Sclerosis With Mild Neurological Impairment: A Randomized Controlled Trial\",\"Impact of a Multimedia Website With Patient Experiences of Multiple Sclerosis (PExMS) on Immunotherapy Decision-making: a Pilot Randomised Controlled Trial in a Mixed-methods Design\",\"Attitudes, Barriers and Facilitators to Physical Activity in People With Multiple Sclerosis Following a Relapse\",\"COVID-19 Booster Vaccination in Persons With Multiple Sclerosis\",\"Neurophysiological Estimates of Cortical Grey and White Matters Damage in Patients With Multiple Sclerosis\",\"A Randomised, Double Blinded Cross-over Study Comparing the Efficacy of L-carnitine Versus Placebo in the Treatment of Fatigue in Multiple Sclerosis\",\"Sequential Natalizumab - Alemtuzumab Therapy in Patients With Relapsing Forms of Multiple Sclerosis (SUPPRESS)\",\"Hematopoietic Stem Cell Transplantation for Treatment of Multiple Sclerosis in Sweden - a Register-based Retrospective Observational Study\",\"Using Patient-Reported Outcomes To Improve the Care of People With Multiple Sclerosis: A Randomized Trial\",\"A Randomized Trial of Positive Airway Pressure Therapy to Treat Cognitive Dysfunction in MS Patients With Obstructive Sleep Apnea\",\"An Open-label, Non-randomized, Phase I/II Study of Allogeneic Human Umbilical Cord Tissue-Derived Mesenchymal Stem Cells (UC-MSC) and Liberation Therapy (When Associated With Chronic Cerebrovascular Venous Insufficiency) in Patients With Relapsing Remitting Multiple Sclerosis (RRMS)\",\"An Open-label, Non-randomized, Phase I/II Study of Allogeneic Human Umbilical Cord Tissue-Derived Mesenchymal Stem Cells (UC-MSC) and Liberation Therapy (When Associated With Chronic Cerebrovascular Venous Insufficiency) in Patients With Relapsing Remitting Multiple Sclerosis (RRMS)\",\"Effects of Adrenocorticotropic Hormone (ACTHAR Gel) on Recovery From Cognitive Relapses in Multiple Sclerosis\",\"Real-Life Outcomes of Multiple Sclerosis Treatment With Rebif on Employment Status, Quality of Life and Cognition: a Pilot Study\",\"Longitudinal Optic Neuritis Study (LONS)\",\"An Open-label, Non-randomized, Phase I/II Study of Autologous Bone Marrow-Derived Mononuclear Stem Cells (BM-MNC) and Liberation Therapy (When Associated With CCSVI) in Patients With RRMS\",\"Intervention to Reduce Distress From Perceived Cognitive Impairment in Multiple Sclerosis\",\"Optic Neuritis Treatment Trial (ONTT)\",\"To Investigate the Effect of Aerobic Exercise on Neurophysiological Values and Functionality in Individuals With Multiple Sclerosis.\",\"KITAMS: Kinesio Tape and Physical Function in Persons With Multiples Sclerosis\",\"Intranasal Insulin for Improving Cognitive Function in Multiple Sclerosis\",\"Interventional Not Pharmacological Study to Investigate the Role of ADA in Multiple Sclerosis PatientsTreated With an Immune-Reconstitution Therapy (2-CdA)\",\"Evaluation of the Safety and Efficacy of Reduced-intensity Immunoablation and Autologous Hematopoietic Stem Cell Transplantation (AHSCT) in Multiple Sclerosis\",\"Use of Cellular Stromal Vascular Fraction (cSVF) for Select Multiple Sclerosis, Autoimmune, Inflammatory, and Neurologic Conditions: Clinical Interventional Study of Adverse Events and Clinical Outcomes Using Autologous Stem-Stromal Cells.\",\"Randomized, Controlled Pilot Trial of Domperidone in Relapsing-Remitting Multiple Sclerosis\",\"Risk Factors in Early Multiple Sclerosis\",\"Effectiveness of Exercise Training in Pediatric-Onset Multiple Sclerosis Patients\",\"Importance of Therapeutic Monitoring of Orally Administered Disease-modifying Drugs Used in the Treatment of Multiple Sclerosis\",\"Effects of a Multiple Sclerosis Relapse Therapy With Methylprednisolone (MP) During Pregnancy on Offspring Cognitive Function, Stress Sensitivity, Behaviour and Functional and Structural Brain Development\",\"Clinical Pilot Study in the Feasibility and Effect of Online Cognitive Training on Cognitive Functions in Patients With Parkinson's Disease, Multiple Sclerosis and Depressive Patients Treated With Electroconvulsive Therapy\",\"Feasibility Study of Tolerogenic Fibroblasts in Patients With Refractory Multiple Sclerosis\",\"Investigation of the Effects of Respiratory Functions and Trunk Control on Functional Mobility in Individuals With Multiple Sclerosis\",\"The Effect of Alemtuzumab on the Blood-brain-barrier and Cerebral Metabolism in Multiple Sclerosis Patients; a New MRI Method for Treatment Response Evaluation in Multiple Sclerosis\",\"Randomized, Comparative, Double Blind Controlled Phase II Clinical Trial, to Evaluate the Efficacy of ApE in Patients With Multiple Sclerosis (MS).\",\"Correlation Between the 'Nine Holes Peg Test' Performance and the Triple Stimulation Technique Within a Group a Patients With Multiple Sclerosis\",\"The Effect of Cigarette Smoke on Sleep Quality and Physical Activity in People With Multiple Sclerosis\",\"Obesity as a Driver of Inflammation and Brain Volume Loss in Pediatric Multiple Sclerosis.\",\"Mechanistic Studies of Teriflunomide in Relapsing Remitting Multiple Sclerosis: Regulatory B Lymphocytes as Central Mediators of the Therapeutic Effects of Teriflunomide in MS\",\"Factors Associated With Dual-Task Performance in Patients With Multiple Sclerosis\",\"Clinical Relevance of miR-142-3p as Potential Biomarker of Synaptopathy in Multiple Sclerosis\",\"Treatment Response Among Chinese Patients With Acute Attack of Neuromyelitis Optica Spectrum Disorders: A Prospective, Multicenter Real-world Study\",\"ESPRIMO: A Bio-psycho-social Co-created Intervention for Young Adults With Multiple Sclerosis: Study Protocol for a Feasibility Study\",\"Observational Prospective Multicentered Study Evaluating Initial Clinical Presentation of Inflammatory Optic Neuritis (ON) Associated or Not With Autoantibodies Anti- Myelin-oligodendrocyte-glycoprotein (MOG-Ab)\",\"7T MRI Ferumoxytol-Enhanced Characterization of Multiple Sclerosis and Demyelinating Diseases\",\"Intensity Dependent Clinical Effects of a Task-oriented Upper Limb Training in Multiple Sclerosis\",\"Single-Arm, Non-Randomized, Time Series, Single-Subject Study: Fecal Microbiota Transplantation (FMT) in Multiple Sclerosis\",\"Pilot Feasibility Study of Out-of-Pocket Cost Communication and Supportive Financial Services for Reducing Financial Toxicity Among Multiple Sclerosis Patients\",\"Reliability and Validity of the Glittre Activities of Daily Living Test in Multiple Sclerosis Patients\",\"Development and Evaluation of an Interactive Web-based Programme on Relapse Management for People With Multiple Sclerosis - a Randomized Controlled Trial With Mixed Methods Process Evaluation\",\"The Role of Exercise in Modifying Outcomes for People With Multiple Sclerosis\",\"The Inflammatory Synaptopathy as a Target of Exercise Therapy in the Fight Against Multiple Sclerosis\",\"Comparison of Tele-Assessment and Face-to-Face Evaluation of Balance in Patients With Multiple Sclerosis (MS)\",\"The Effect of Task-Oriented Training on the Physical and Cognitive Functions in Patients With Multiple Sclerosis\",\"Dietary Approaches to Treat Multiple Sclerosis-Related Fatigue Study\",\"Immunoregulation by Controlled Parasite Exposure in Multiple Sclerosis.\",\"Continuous Positive Airway Pressure for Fatigue Treatment in Patients With Multiple Sclerosis and Obstructive Sleep Apnea\",\"The Effect of a Gluten Free Diet on the Permeability of the Blood Brain Barrier in Patients With Clinically Isolated Syndrome Measured by Dynamic Contrast Enhanced Magnetic Resonance Imaging\",\"An Observation Monocentric Study to Analyse the Possible Neuroprotective Effect of Ocrelizumab Via VEGF Protein Expression in Relapsing Multiple Sclerosis Patients\",\"Exercise in Persons With Multiple Sclerosis\",\"Exercise and Neuroprotection in Older Persons With Multiple Sclerosis\",\"How Does Strength Training and Balance Training Affect Gait Function and Fatigue in Patients With Multiple Sclerosis?\",\"The Effectiveness of Game-Based Virtual Reality Approach in Patients With Multiple Sclerosis\",\"Use of the Functional Gait Assessment in Patients With Multiple Sclerosis: Examining Reliability Between Face-to-Face and Online Applications\",\"Intermittent Theta Burst Stimulation (iTBS) for the Treatment of Depression in Patients With Multiple Sclerosis: a Randomized Controlled Study\",\"Tolerability of Acthar for the Treatment of Multiple Sclerosis Relapses (TAMS)\",\"Comparing Lesion Contrast With Both Magnevist and Gadavist and Understanding the Cerebral Perfusion Patterns of Patients With Multiple Sclerosis (MS) Using Magnetic Resonance Imaging (MRI)\",\"The Effect of Percutaneous Venoplasty on Muscular Function, Mobility and Fatigue of Multiple Sclerosis (MS) Patients With Chronic Cerebrospinal Venous Insufficiency (CCSVI).\",\"The Effect of Multiple-Task Training on Physical and Cognitive Functions in Patients With Multiple Sclerosis\",\"A Phase II Study of High Dose Chemotherapy With Autologous Hematopoietic Progenitor Cell Transplant for Multiple Sclerosis That Failed at Least Two Lines of Therapy\",\"Theory Based Intervention Program to Support Physical Activity for Individuals With Multiple Sclerosis: a Case Series\",\"Multiple Sclerosis and Fabry Disease: Prevalence of Fabry Disease in a Defined Population at Risk - Patients Formerly Diagnosed With Multiple Sclerosis - an Epidemiological Study\",\"The German Multiple Sclerosis Registry of the German MS Society\",\"A Double-Blind, Placebo Controlled Trial of Estriol Treatment in Women With Multiple Sclerosis: Effect on Cognition.\",\"Investigating Cortical Gray Matter Demyelination in Primary Progressive Multiple Sclerosis at 7 Tesla\",\"Comparison of Expanded Disability Status Scale, Gad-enhanced Brain Lesions, Annualized Relapse Rate, and Side Effects Between Active Secondary Progressive Multiple Sclerosis Patients on Rituximab and Glatiramer Acetate\",\"NARCOMS Global Multiple Sclerosis Registry: A Long-Term Study to Facilitate Research in Multiple Sclerosis\",\"A Pilot Trial of Testosterone Treatment for Fatigue in Men With Multiple Sclerosis\",\"MS Wellness Navigator: The Effect of Nurse Practitioner (NP-led) Care on Mood, Anxiety and Health Related Quality of Life in People With Multiple Sclerosis - A Randomized Trial\",\"Open-label, Single-center, Single-arm Futility Trial Evaluating Oral Domperidone 10mg QID for Reducing Progression of Disability in Patients With Secondary Progressive Multiple Sclerosis (SPMS)\",\"An Examination of Potential Neurochemical and Cognitive Mediators of the Relationship Between Mindfulness and Emotion Regulation in Individuals With Multiple Sclerosis: An Internet Based Self-Guided Pilot Study.\",\"Fecal Microbiota Transplantation (FMT) of FMP30 in Relapsing-Remitting Multiple Sclerosis: A Phase 1b Clinical Trial to Evaluate Feasibility, Safety, Tolerability and Effects on Immune Function\",\"A Randomized Controlled Trial of Telephone-delivered Cognitive Behavioral-therapy, Modafinil, and Combination Therapy of Both Interventions for Fatigue in Multiple Sclerosis\",\"Tolerance-Induction With Dendritic Cells Treated With Vitamin-D3 and Loaded With Myelin Peptides, in Multiple Sclerosis Patients (TOLERVIT-MS)\",\"The Impact of a Planned 12-week Dosing Interruption of Natalizumab on Immune Cell Trafficking, Pharmacokinetic (PK)/Pharmacodynamic (PD) Parameters, and Multiple Sclerosis (MS) Disease Stability.\",\"Comparison of Rebif Compared to Tecifdera on Six-month Outcomes in Patients With Relapsing-remitting MS\",\"Evaluation of an Online Course Designed to Support the Adoption of Healthier Diet and Self-Care Routines in Multiple Sclerosis Patients\",\"Clinically Isolated Syndrome and Relapsing-Remitting Multiple Sclerosis\",\"Controlled, Randomized, Double-blind Clinical Trial, 24 Months Duration, to Compare the Efficacy, Safety and Tolerability of Andrographolide Versus Placebo in Patients With Progressive Forms of Multiple Sclerosis\",\"Use Of Autologous Stem Cell Use In Neurological Non-neoplastic Disorders And Disease\",\"Effects of Aerobic Training on Motor and Cognitive Performances in Patients With MS: an Exploratory Study With Structural and Functional MRI\",\"Spinal Direct Current Stimulation Effects on Pain in Multiple Sclerosis: Clinical and Neurophysiological Assessment and Evaluation of Endocannabinoid System Activity\",\"A Phase 1b, Open-label Study to Evaluate the Safety and Tolerability of the Putative Remyelinating Agent, Liothyronine, in Individuals With MS\",\"Effect of a Tissue Selective Estrogen Complex on Menopausal Symptoms in Women With MS: A Pilot Trial.\",\"A Multicentric Randomized PRAGmatic Trial to Compare the Effectiveness of Fingolimod Versus Dimethyl-Fumarate on Patient Overall Disease Experience in Relapsing Remitting Multiple Sclerosis: Novel Data to Inform Decision-makers\",\"A Phase II Proof of Concept Study Evaluating the Reduction of Mitoxantrone-induced Cardiotoxicity and Neurological Outcome in the Combined Use of Mitoxantrone and Dexrazoxane (Cardioxane\\u00ae) in Multiple Sclerosis (MSCardioPro)\",\"The Effects of Oral Nanocurcumin on Expression Levels of microRNAs and Treg Cells and Th17 Cells Development Factors in Multiple Sclerosis Patients\",\"The Relationship Between Kinesiophobia, Physical Activity, Balance and Fear of Fall in Multiple Sclerosis Patients\",\"NEUROKINASE : Expression Profile of ERK5 and PKM2 Kinases in Neuroinflammatory Diseases.\",\"The Effect of Combined Exercise Training on Cognitive Functions in Patients With Multiple Sclerosis\",\"Safety and Tolerability of Oral Two-Doses Estroprogestins Associated With Interferon-Beta 1a in Patients With Relapsing-Remitting Multiple Sclerosis\",\"De-escalation After Natalizumab Treatment With Interferon-beta-1b in Patients With Relapsing-remitting Multiple Sclerosis\",\"Behaviour and Well-Being: A Bio-Psycho-Social Model of Resilience in Young Adults Newly Diagnosed With Multiple Sclerosis\",\"Muscle Strain in Multiple Sclerosis Patients Measured by Ultrasound Speckle Tracking\",\"Intrathecal Methotrexate for Progressive Multiple Sclerosis: An Open Label Single Arm Study\",\"Effect of Cyclical Administration of Interferon \\u03b2-1b in Multiple Sclerosis - Comparison With Normal Dose.\",\"Cortical Lesions in the Primary Sensorimotor Hand Area and Their Impact on Dexterity in Multiple Sclerosis: a 7T MRI Study\",\"A Combination Trial of Copaxone Plus Estriol in RRMS\",\"Clinical Patterns of Neuromyelitis Optica Spectrum Disorders in Assiut University Hospital\",\"A Study to Assess Quality of Life in Stroke and Multiple Sclerosis Patients of the Same Age Range\",\"Role of Vitamin D on the Relapse Rate of Multiple Sclerosis\",\"Exercise as a Supplemental Treatment Strategy Early in the Disease Course of Multiple Sclerosis\",\"fMRI and Neurophysiological Study Protocol on Cannabinoids in Multiple Sclerosis\",\"Evaluating the Effect of Fingolimod With Fish Oil Compared to Fingolimod With Placebo on Tumor Necrosis Factor-\\u03b1 , Interleukin1b , Interleukin6, and Interferon-gamma in Patients With Relapsing-Remitting Multiple Sclerosis\",\"Phase 2-3 Use of Bacille Calmette-Gu\\u00e8rin (BCG) Vaccine in Patients With a First Clinical Demyelinating Episode: a Multicenter, Randomized, Single Blind Study.\",\"Keratinocyte Growth Factor - Promoting Thymic Reconstitution and Preventing Autoimmunity After Alemtuzumab (Campath-1H) Treatment of Multiple Sclerosis\",\"A Systems Approach to Understanding Disease Processes in Multiple Sclerosis\",\"The Reliability and Validity of the Functional Reach Test in Patients With Multiple Sclerosis\",\"Evaluation of Cerebrovascular Hemodynamics With Transcranial Doppler and Near-infrared Spectroscopy in Patients With Multiple Sclerosis\",\"A Phase II Study of High-Dose Immunosuppressive Therapy Using Carmustine, Etoposide, Cytarabine, Melphalan, Thymoglobulin and Autologous CD34+ Hematopoietic Stem Cell Transplant for the Treatment of Poor Prognosis Multiple Sclerosis\",\"Study of the Link Between Retinal Atrophy and Demyelinating Inflammatory Processes on Visual Pathways in Relapsing Multiple Sclerosis in Magnetic Resonance Imaging and Optical Coherence Tomography\",\"Novel Nanosensor Array for Detection of Volatile Biomarkers From Skin in Multiple Sclerosis\",\"Validation of a Shared Decision-Making Tool, MS-SUPPORT, to Improve Decisions About Disease Modifying Therapies (DMT) for Multiple Sclerosis\",\"A Pilot Study of NeuBie, a Direct Current Electrical Stimulation Device, to Inhibit Lower Extremity Spasticity Levels and Normalize Muscle Functional Use During Transfers and Ambulation in Individuals With Multiple Sclerosis\",\"Phase IA Trial of Intrathecal Administration of Human Umbilical Cord Blood-Derived Cell Therapy (DUOC-01) in Adults With Primary Progressive Multiple Sclerosis (PPMS)\",\"A Single-center Prospective Measurement of Upper Extremity Function in Multiple Sclerosis Patients With Advanced Disability Treated With Ocrevus\\u2122\",\"Linking Optic Nerve Lesion Length at MRI and the Retinal Axonal Loss at 12 Months From a Clinical Episode of Optic Neuritis\",\"Control Fatigue: Sleep Medical Treatment as a Novel Therapeutic Approach to an Unmet Medical Need in Multiple Sclerosis\",\"Testosterone TReatment for Erectile Dysfunction in Male Multiple Sclerosis Patients With Low Testosterone (TTRED-MS Study)\",\"Immune Response to SARS-CoV2 Vaccinations in Treated MS Patients Compared to Controls\",\"Remyelination in Multiple Sclerosis: a PET-MR Longitudinal Study Investigating Individual Profiles of Myelin Repair and the Contribution of Neuroinflammation\",\"An Open Label Study of the Effects of Eculizumab in Neuromyelitis Optica\",\"Efficacy and Safety of 4-aminopyridine on Cognitive Performance and Motor Function of Patients With Multiple Sclerosis. Randomized, Blinded, Placebo-controlled Clinical Trial.\",\"MicroRNA-150 and microRNA-155 as Molecular Biomarkers in Multiple Sclerosis\",\"Anti-Inflammatory Type II Monocyte Induction by Glatiramer Acetate (Copaxone) Treatment of Multiple Sclerosis\",\"The Effects of Extremity and \\\"Core\\\" Muscles Strength on Walking and Sit-to-Stand Performance in Patients With Multiple Sclerosis\",\"The Reliability, Validity, and Responsiveness of the Static Balance Test in Patients With Multiple Sclerosis.\",\"An Exploratory Randomized Controlled Trial of a Manualized, Nurse-led, Telephone Intervention Support Service for Support Persons of People With Multiple Sclerosis\",\"Controlled High-risk Avonex Multiple Sclerosis Prevention Study in Ongoing Neurologic Surveillance (CHAMPIONS10)\",\"Assessment of the Effectiveness of Guided by a Physiotherapist Versus Non-guided Pelvic Floor Exercises for Urinary Incontinence (UI) in Patients With Relapsing-Remitting (RR) Multiple Sclerosis\",\"Effect of Aerobic Exercises on Immune System in Patients With Multiple Sclerosis\",\"Double-blinded, Randomized Controlled Trial of Simvastatin Use As Adjuvant Therapy in Relapsing-Remitting Multiple Sclerosis\",\"The Effectiveness of Endovascular Treatment of Chronic Cerebrospinal Venous Insufficiency (CCSVI) in Patients With Multiple Sclerosis\",\"Effect of Vitamin D Replacement on Immune Function and Cognition in MS Patients\",\"Use of Cellular Stromal Vascular Fraction in Multiple Sclerosis\",\"Study to Evaluate the Responsiveness and Minimal Clinical Important Difference (MCID) of the 'Multiple Sclerosis Questionnaire for Physiotherapists' (MSQPT)\",\"Effect of Nordic Walking Training Compared With Conventional Endurance Training in Walking Capacity in People With Multiple Sclerosis: a Simple Blinded Randomized Controlled Trial\",\"Efficacy of Sustained-release Oral Dalfampridine on Upper Extremity Function in Patients With Multiple Sclerosis: a Pilot Study\",\"The Clinical Features of Combined Central and Peripheral Demyelination\",\"Teriflunomide Observational Effectiveness Study\",\"Multidimensional Assessment of Fatigue in Multiple Sclerosis- Observational Study - Ticino\",\"Randomized Controlled Trial of Core Stability Training in Patients With Multiple Sclerosis: Biomechanical and Performance Based Analysis of Gait\",\"Phase IV Study of Oral Prednisone Taper vs. Placebo Following Intravenous Steroids for the Treatment of Acute Relapses in Multiple Sclerosis Within the Ticino Cohort\",\"Barriers to Physical Activity in People With MS (Barrieren f\\u00fcr k\\u00f6rperliche Aktivit\\u00e4t Bei MS-Betroffenen - BarKA-MS) - A Longitudinal Observational Study\",\"Reducing Sedentary Behaviour: A Novel Opportunity for Managing Comorbidity in MS?\",\"Proposal to Create a Flagship Neurology and Palliative Care Service for South London\",\"A Phase II Baseline Versus Treatment Study to Determine the Efficacy of Raltegravir (Isentress) in Preventing Progression of Relapsing Remitting Multiple Sclerosis as Determined by Gadolinium-enhanced MRI\",\"The Relationship of Cognitive Functions to Physical and Personal Factors in Patients With Multiple Sclerosis\",\"A First-in-Kind Randomized, Controlled Pilot Clinical Trial Testing Proactive vs Reactive Management of a Symptom Triad in Multiple Sclerosis\",\"An Open-label, Randomised, Crossover Study to Assess the Relative Bioavailability of Different 2mg Formulations of GSK2018682(S1P1 Agonist) in Healthy Volunteers\",\"The Efficacy of Eye Movement Desensitization and Reprocessing (EMDR) in Patients With Post Traumatic Stress Disorder in Multiple Sclerosis. A Randomized Controlled Trial.\",\"Natalizumab De-escalation to Interferon-beta-1b in Patients With Relapsing-remitting Multiple Sclerosis: A Swiss Multicenter Study Prospective, Controlled, Single-arm, Open-label, Multi-centre, Phase IV Study\",\"Gene Expression in MS Patients Before and During Treatment With High-dose Interferon Beta: Prospective Study for the Identification of Predicting Factors of Therapeutic Response.\",\"Effects of Immersive Virtual Reality on Balance, Mobility, and Fatigue in Patients With Multiple Sclerosis\",\"Deciphering the Role of the Gut Microbiota in Multiple Sclerosis\",\"Factors That Influence Compliance With Disease-Modifying Therapy in Multiple Sclerosis\",\"Assessment of Lesion Activity Analysis in the Avonex- Steroid Azathioprine (ASA) Study\",\"Efficacy of COVID 19 SARS-CoV-2 mRNA Vaccination in Patients With Multiple Sclerosis Treated With Immune Modulating Medication (SARSmRNA_MS)\",\"Relationship of Position Sense With Gait and Balance in Patients With Multiple Sclerosis\",\"Understanding Evaluation of Patient Information Sheets of Two Multiple Sclerosis Studies Through User Testing Method in a Randomized, Open Label, Crossover Design\",\"Longitudinal Effect of Vitamin D3 Replacement on Cognitive Performance and MRI Markers in Multiple Sclerosis Patients: A Single-Blind Randomized Clinical Trial\",\"A Multicentre, Non Interventional, Non Randomized, Observational Study for the Assessment of Compliance and Persistence With Rebif\\u00ae Therapy of Patients With Relapsing-Remitting Multiple Sclerosis as Well as for the Evaluation of Potential Factors Influencing These Parameters, in Real Life Clinical Practice\",\"Single Test to ARrive at MS Diagnosis. A Prospective, Longitudinal, Investigator Blinded, Pilot Study Assessing the Accuracy of a Single 3 Tesla MRI Scan in Predicting Multiple Sclerosis in Cases of Diagnostic Uncertainty\",\"Clinical Factors Associated With Position Sense in Patients With Multiple Sclerosis\",\"The Effects of Vitamin D3 Supplementation on the T Cell Compartment in Multiple Sclerosis; a Pilot Study\",\"A Phase I/II, Open-Label Pilot Trial to Evaluate the Safety of Rapamune (Sirolimus) in Patients With Multiple Sclerosis\",\"Physical Activity Intervention for Improving Vascular Comorbidity Risk in Multiple Sclerosis\",\"Treatment of Multiple Sclerosis Using Over the Counter Inosine\",\"Safety of Cultured Allogeneic Adult Umbilical Cord Derived Mesenchymal Stem Cell Intravenous Infusion for the Treatment of Multiple Sclerosis\",\"Switching Relapsing Multiple Sclerosis Patients Treated With Natalizumab at Risk for Progressive Multifocal Leukoencephalopathy to Teriflunomide: Is This Safe and Effective? (Sub-study: SWITCH-JCV)\",\"Herbal Therapy for Subcutaneous Injection Site Reactions in Multiple Sclerosis\",\"Lokomat Treadmill Training Effects on MS Gait\",\"The Reliability, Validity, and Responsiveness of the Timed 360\\u00b0 Turn Test Test in Patients With Multiple Sclerosis\",\"Functional Electrical Stimulation to Treat Foot Drop in People With Multiple Sclerosis\",\"Interventions to Improve Memory in Patients With Multiple Sclerosis\",\"Thematic Studies of Multiple Sclerosis and Related Diseases\",\"Effects of Electromechanical Gait Trainer on Endurance, Fatigue and Daily Life Autonomy in Patients With Multiple Sclerosis: a Randomized Control Trial\"],\"legendgroup\":\"\",\"marker\":{\"color\":\"#636efa\",\"pattern\":{\"shape\":\"\"}},\"name\":\"\",\"offsetgroup\":\"\",\"orientation\":\"v\",\"showlegend\":false,\"textposition\":\"auto\",\"x\":[\"NCT04073940\",\"NCT03782246\",\"NCT04550455\",\"NCT02104661\",\"NCT03004079\",\"NCT04466150\",\"NCT04178005\",\"NCT03949296\",\"NCT03896217\",\"NCT04113135\",\"NCT04585659\",\"NCT01337986\",\"NCT02364505\",\"NCT04496830\",\"NCT02607020\",\"NCT04236544\",\"NCT03736902\",\"NCT05081271\",\"NCT04997343\",\"NCT01149525\",\"NCT03135249\",\"NCT05029206\",\"NCT04979546\",\"NCT02544373\",\"NCT02418325\",\"NCT02587715\",\"NCT02290444\",\"NCT02377323\",\"NCT00000147\",\"NCT02587806\",\"NCT03889327\",\"NCT00000146\",\"NCT04121637\",\"NCT03804047\",\"NCT02988401\",\"NCT04121065\",\"NCT03113162\",\"NCT02939859\",\"NCT02493049\",\"NCT03586986\",\"NCT04660227\",\"NCT05112484\",\"NCT04832269\",\"NCT02525367\",\"NCT05080270\",\"NCT03826095\",\"NCT03193086\",\"NCT02280876\",\"NCT02805634\",\"NCT05046535\",\"NCT04593082\",\"NCT03464448\",\"NCT03508284\",\"NCT03999788\",\"NCT04101058\",\"NCT04431323\",\"NCT03345537\",\"NCT01973517\",\"NCT02688231\",\"NCT03975413\",\"NCT04257071\",\"NCT04182269\",\"NCT04233970\",\"NCT01611987\",\"NCT03735524\",\"NCT04743284\",\"NCT03505294\",\"NCT02914964\",\"NCT00630383\",\"NCT01563900\",\"NCT03451955\",\"NCT04902690\",\"NCT04944251\",\"NCT04762342\",\"NCT02870023\",\"NCT04212689\",\"NCT04932616\",\"NCT04524039\",\"NCT02258217\",\"NCT01836055\",\"NCT01555684\",\"NCT03512886\",\"NCT01679041\",\"NCT02335450\",\"NCT01271699\",\"DRKS00011257\",\"NCT01466114\",\"NCT04977622\",\"NCT03315923\",\"NCT01018537\",\"NCT03000127\",\"NCT04388592\",\"NCT02308137\",\"NCT02391298\",\"NCT03594487\",\"NCT03621761\",\"NCT02903537\",\"NCT04048577\",\"NCT02419638\",\"NCT05057676\",\"NCT04009005\",\"NCT02273635\",\"NCT03297177\",\"NCT04097418\",\"NCT02331654\",\"NCT02506751\",\"NCT02710214\",\"NCT03345940\",\"NCT01627938\",\"NCT03150966\",\"NCT04183751\",\"NCT04674163\",\"NCT03591809\",\"NCT00151801\",\"NCT01144052\",\"NCT03825055\",\"NCT03847545\",\"NCT02644044\",\"NCT00270816\",\"NCT03653585\",\"NCT00451204\",\"NCT03819413\",\"NCT04758494\",\"NCT01753375\",\"NCT03322761\",\"NCT00202423\",\"NCT02939079\",\"NCT00202410\",\"NCT01712945\",\"NCT05081700\",\"NCT04185688\",\"NCT02389426\",\"NCT00288626\",\"NCT03656055\",\"NCT04074629\",\"NCT04122989\",\"NCT04942938\",\"NCT04943289\",\"NCT03562975\",\"NCT03651362\",\"NCT03759249\",\"NCT04601233\",\"NCT05060354\",\"NCT05147532\",\"NCT00904826\",\"NCT02280096\",\"NCT04300543\",\"NCT00819195\",\"NCT03597451\",\"NCT03584672\",\"NCT01302431\",\"NCT00179478\",\"NCT03000647\",\"NCT04545372\",\"NCT04178980\",\"NCT01201707\",\"NCT01952483\",\"NCT03461419\",\"NCT02346279\",\"NCT03976128\",\"NCT02259361\",\"NCT04664647\",\"NCT02490982\",\"NCT02082002\",\"NCT03442049\",\"NCT01411514\",\"NCT04746807\",\"NCT03136744\",\"NCT00364936\",\"NCT01767701\",\"NCT03594357\",\"NCT03335618\",\"NCT01466322\",\"NCT01743664\",\"NCT01701856\",\"NCT00202384\",\"NCT03501342\",\"NCT02580435\",\"NCT00223457\",\"NCT01628315\",\"NCT04796584\",\"NCT04547400\",\"NCT03155334\",\"NCT03610139\",\"NCT01112345\",\"NCT02485223\",\"NCT04548297\",\"NCT00940719\",\"NCT00095329\",\"NCT03944538\",\"NCT00067327\",\"NCT05003388\",\"NCT01970410\",\"NCT00972062\",\"NCT00835835\",\"NCT03718026\",\"NCT02123537\",\"NCT00062972\",\"NCT02504840\",\"NCT01564511\"],\"xaxis\":\"x\",\"y\":[99,72,52,48,46,45,39,39,37,34,34,33,33,33,31,29,29,27,27,27,27,26,25,25,24,24,24,23,23,23,23,22,22,22,22,21,21,20,20,19,18,18,18,17,17,17,17,17,16,16,16,16,16,16,16,15,15,15,15,15,15,15,14,14,14,14,13,13,13,13,13,13,13,12,12,12,12,12,12,12,12,12,12,12,11,11,11,11,11,11,11,10,10,10,10,10,10,10,10,9,9,9,9,9,9,9,9,9,9,8,8,8,8,8,8,8,8,8,8,8,8,7,7,7,7,7,7,7,7,7,7,7,6,6,6,6,6,6,6,6,6,6,6,6,6,5,5,5,5,5,5,5,5,5,5,5,5,5,5,5,5,5,5,5,5,4,4,4,4,4,4,4,4,4,4,4,4,4,4,4,4,4,4,4,4,4,4,4,4,4,4,4,4,4,4,4,4,4,3,3],\"yaxis\":\"y\",\"type\":\"bar\"}],                        {\"template\":{\"data\":{\"bar\":[{\"error_x\":{\"color\":\"#2a3f5f\"},\"error_y\":{\"color\":\"#2a3f5f\"},\"marker\":{\"line\":{\"color\":\"#E5ECF6\",\"width\":0.5},\"pattern\":{\"fillmode\":\"overlay\",\"size\":10,\"solidity\":0.2}},\"type\":\"bar\"}],\"barpolar\":[{\"marker\":{\"line\":{\"color\":\"#E5ECF6\",\"width\":0.5},\"pattern\":{\"fillmode\":\"overlay\",\"size\":10,\"solidity\":0.2}},\"type\":\"barpolar\"}],\"carpet\":[{\"aaxis\":{\"endlinecolor\":\"#2a3f5f\",\"gridcolor\":\"white\",\"linecolor\":\"white\",\"minorgridcolor\":\"white\",\"startlinecolor\":\"#2a3f5f\"},\"baxis\":{\"endlinecolor\":\"#2a3f5f\",\"gridcolor\":\"white\",\"linecolor\":\"white\",\"minorgridcolor\":\"white\",\"startlinecolor\":\"#2a3f5f\"},\"type\":\"carpet\"}],\"choropleth\":[{\"colorbar\":{\"outlinewidth\":0,\"ticks\":\"\"},\"type\":\"choropleth\"}],\"contour\":[{\"colorbar\":{\"outlinewidth\":0,\"ticks\":\"\"},\"colorscale\":[[0.0,\"#0d0887\"],[0.1111111111111111,\"#46039f\"],[0.2222222222222222,\"#7201a8\"],[0.3333333333333333,\"#9c179e\"],[0.4444444444444444,\"#bd3786\"],[0.5555555555555556,\"#d8576b\"],[0.6666666666666666,\"#ed7953\"],[0.7777777777777778,\"#fb9f3a\"],[0.8888888888888888,\"#fdca26\"],[1.0,\"#f0f921\"]],\"type\":\"contour\"}],\"contourcarpet\":[{\"colorbar\":{\"outlinewidth\":0,\"ticks\":\"\"},\"type\":\"contourcarpet\"}],\"heatmap\":[{\"colorbar\":{\"outlinewidth\":0,\"ticks\":\"\"},\"colorscale\":[[0.0,\"#0d0887\"],[0.1111111111111111,\"#46039f\"],[0.2222222222222222,\"#7201a8\"],[0.3333333333333333,\"#9c179e\"],[0.4444444444444444,\"#bd3786\"],[0.5555555555555556,\"#d8576b\"],[0.6666666666666666,\"#ed7953\"],[0.7777777777777778,\"#fb9f3a\"],[0.8888888888888888,\"#fdca26\"],[1.0,\"#f0f921\"]],\"type\":\"heatmap\"}],\"heatmapgl\":[{\"colorbar\":{\"outlinewidth\":0,\"ticks\":\"\"},\"colorscale\":[[0.0,\"#0d0887\"],[0.1111111111111111,\"#46039f\"],[0.2222222222222222,\"#7201a8\"],[0.3333333333333333,\"#9c179e\"],[0.4444444444444444,\"#bd3786\"],[0.5555555555555556,\"#d8576b\"],[0.6666666666666666,\"#ed7953\"],[0.7777777777777778,\"#fb9f3a\"],[0.8888888888888888,\"#fdca26\"],[1.0,\"#f0f921\"]],\"type\":\"heatmapgl\"}],\"histogram\":[{\"marker\":{\"pattern\":{\"fillmode\":\"overlay\",\"size\":10,\"solidity\":0.2}},\"type\":\"histogram\"}],\"histogram2d\":[{\"colorbar\":{\"outlinewidth\":0,\"ticks\":\"\"},\"colorscale\":[[0.0,\"#0d0887\"],[0.1111111111111111,\"#46039f\"],[0.2222222222222222,\"#7201a8\"],[0.3333333333333333,\"#9c179e\"],[0.4444444444444444,\"#bd3786\"],[0.5555555555555556,\"#d8576b\"],[0.6666666666666666,\"#ed7953\"],[0.7777777777777778,\"#fb9f3a\"],[0.8888888888888888,\"#fdca26\"],[1.0,\"#f0f921\"]],\"type\":\"histogram2d\"}],\"histogram2dcontour\":[{\"colorbar\":{\"outlinewidth\":0,\"ticks\":\"\"},\"colorscale\":[[0.0,\"#0d0887\"],[0.1111111111111111,\"#46039f\"],[0.2222222222222222,\"#7201a8\"],[0.3333333333333333,\"#9c179e\"],[0.4444444444444444,\"#bd3786\"],[0.5555555555555556,\"#d8576b\"],[0.6666666666666666,\"#ed7953\"],[0.7777777777777778,\"#fb9f3a\"],[0.8888888888888888,\"#fdca26\"],[1.0,\"#f0f921\"]],\"type\":\"histogram2dcontour\"}],\"mesh3d\":[{\"colorbar\":{\"outlinewidth\":0,\"ticks\":\"\"},\"type\":\"mesh3d\"}],\"parcoords\":[{\"line\":{\"colorbar\":{\"outlinewidth\":0,\"ticks\":\"\"}},\"type\":\"parcoords\"}],\"pie\":[{\"automargin\":true,\"type\":\"pie\"}],\"scatter\":[{\"marker\":{\"colorbar\":{\"outlinewidth\":0,\"ticks\":\"\"}},\"type\":\"scatter\"}],\"scatter3d\":[{\"line\":{\"colorbar\":{\"outlinewidth\":0,\"ticks\":\"\"}},\"marker\":{\"colorbar\":{\"outlinewidth\":0,\"ticks\":\"\"}},\"type\":\"scatter3d\"}],\"scattercarpet\":[{\"marker\":{\"colorbar\":{\"outlinewidth\":0,\"ticks\":\"\"}},\"type\":\"scattercarpet\"}],\"scattergeo\":[{\"marker\":{\"colorbar\":{\"outlinewidth\":0,\"ticks\":\"\"}},\"type\":\"scattergeo\"}],\"scattergl\":[{\"marker\":{\"colorbar\":{\"outlinewidth\":0,\"ticks\":\"\"}},\"type\":\"scattergl\"}],\"scattermapbox\":[{\"marker\":{\"colorbar\":{\"outlinewidth\":0,\"ticks\":\"\"}},\"type\":\"scattermapbox\"}],\"scatterpolar\":[{\"marker\":{\"colorbar\":{\"outlinewidth\":0,\"ticks\":\"\"}},\"type\":\"scatterpolar\"}],\"scatterpolargl\":[{\"marker\":{\"colorbar\":{\"outlinewidth\":0,\"ticks\":\"\"}},\"type\":\"scatterpolargl\"}],\"scatterternary\":[{\"marker\":{\"colorbar\":{\"outlinewidth\":0,\"ticks\":\"\"}},\"type\":\"scatterternary\"}],\"surface\":[{\"colorbar\":{\"outlinewidth\":0,\"ticks\":\"\"},\"colorscale\":[[0.0,\"#0d0887\"],[0.1111111111111111,\"#46039f\"],[0.2222222222222222,\"#7201a8\"],[0.3333333333333333,\"#9c179e\"],[0.4444444444444444,\"#bd3786\"],[0.5555555555555556,\"#d8576b\"],[0.6666666666666666,\"#ed7953\"],[0.7777777777777778,\"#fb9f3a\"],[0.8888888888888888,\"#fdca26\"],[1.0,\"#f0f921\"]],\"type\":\"surface\"}],\"table\":[{\"cells\":{\"fill\":{\"color\":\"#EBF0F8\"},\"line\":{\"color\":\"white\"}},\"header\":{\"fill\":{\"color\":\"#C8D4E3\"},\"line\":{\"color\":\"white\"}},\"type\":\"table\"}]},\"layout\":{\"annotationdefaults\":{\"arrowcolor\":\"#2a3f5f\",\"arrowhead\":0,\"arrowwidth\":1},\"autotypenumbers\":\"strict\",\"coloraxis\":{\"colorbar\":{\"outlinewidth\":0,\"ticks\":\"\"}},\"colorscale\":{\"diverging\":[[0,\"#8e0152\"],[0.1,\"#c51b7d\"],[0.2,\"#de77ae\"],[0.3,\"#f1b6da\"],[0.4,\"#fde0ef\"],[0.5,\"#f7f7f7\"],[0.6,\"#e6f5d0\"],[0.7,\"#b8e186\"],[0.8,\"#7fbc41\"],[0.9,\"#4d9221\"],[1,\"#276419\"]],\"sequential\":[[0.0,\"#0d0887\"],[0.1111111111111111,\"#46039f\"],[0.2222222222222222,\"#7201a8\"],[0.3333333333333333,\"#9c179e\"],[0.4444444444444444,\"#bd3786\"],[0.5555555555555556,\"#d8576b\"],[0.6666666666666666,\"#ed7953\"],[0.7777777777777778,\"#fb9f3a\"],[0.8888888888888888,\"#fdca26\"],[1.0,\"#f0f921\"]],\"sequentialminus\":[[0.0,\"#0d0887\"],[0.1111111111111111,\"#46039f\"],[0.2222222222222222,\"#7201a8\"],[0.3333333333333333,\"#9c179e\"],[0.4444444444444444,\"#bd3786\"],[0.5555555555555556,\"#d8576b\"],[0.6666666666666666,\"#ed7953\"],[0.7777777777777778,\"#fb9f3a\"],[0.8888888888888888,\"#fdca26\"],[1.0,\"#f0f921\"]]},\"colorway\":[\"#636efa\",\"#EF553B\",\"#00cc96\",\"#ab63fa\",\"#FFA15A\",\"#19d3f3\",\"#FF6692\",\"#B6E880\",\"#FF97FF\",\"#FECB52\"],\"font\":{\"color\":\"#2a3f5f\"},\"geo\":{\"bgcolor\":\"white\",\"lakecolor\":\"white\",\"landcolor\":\"#E5ECF6\",\"showlakes\":true,\"showland\":true,\"subunitcolor\":\"white\"},\"hoverlabel\":{\"align\":\"left\"},\"hovermode\":\"closest\",\"mapbox\":{\"style\":\"light\"},\"paper_bgcolor\":\"white\",\"plot_bgcolor\":\"#E5ECF6\",\"polar\":{\"angularaxis\":{\"gridcolor\":\"white\",\"linecolor\":\"white\",\"ticks\":\"\"},\"bgcolor\":\"#E5ECF6\",\"radialaxis\":{\"gridcolor\":\"white\",\"linecolor\":\"white\",\"ticks\":\"\"}},\"scene\":{\"xaxis\":{\"backgroundcolor\":\"#E5ECF6\",\"gridcolor\":\"white\",\"gridwidth\":2,\"linecolor\":\"white\",\"showbackground\":true,\"ticks\":\"\",\"zerolinecolor\":\"white\"},\"yaxis\":{\"backgroundcolor\":\"#E5ECF6\",\"gridcolor\":\"white\",\"gridwidth\":2,\"linecolor\":\"white\",\"showbackground\":true,\"ticks\":\"\",\"zerolinecolor\":\"white\"},\"zaxis\":{\"backgroundcolor\":\"#E5ECF6\",\"gridcolor\":\"white\",\"gridwidth\":2,\"linecolor\":\"white\",\"showbackground\":true,\"ticks\":\"\",\"zerolinecolor\":\"white\"}},\"shapedefaults\":{\"line\":{\"color\":\"#2a3f5f\"}},\"ternary\":{\"aaxis\":{\"gridcolor\":\"white\",\"linecolor\":\"white\",\"ticks\":\"\"},\"baxis\":{\"gridcolor\":\"white\",\"linecolor\":\"white\",\"ticks\":\"\"},\"bgcolor\":\"#E5ECF6\",\"caxis\":{\"gridcolor\":\"white\",\"linecolor\":\"white\",\"ticks\":\"\"}},\"title\":{\"x\":0.05},\"xaxis\":{\"automargin\":true,\"gridcolor\":\"white\",\"linecolor\":\"white\",\"ticks\":\"\",\"title\":{\"standoff\":15},\"zerolinecolor\":\"white\",\"zerolinewidth\":2},\"yaxis\":{\"automargin\":true,\"gridcolor\":\"white\",\"linecolor\":\"white\",\"ticks\":\"\",\"title\":{\"standoff\":15},\"zerolinecolor\":\"white\",\"zerolinewidth\":2}}},\"xaxis\":{\"anchor\":\"y\",\"domain\":[0.0,1.0],\"title\":{\"text\":\"id\"}},\"yaxis\":{\"anchor\":\"x\",\"domain\":[0.0,1.0],\"title\":{\"text\":\"pubs_tot\"}},\"legend\":{\"tracegroupgap\":0},\"margin\":{\"t\":60},\"barmode\":\"relative\"},                        {\"responsive\": true}                    ).then(function(){\n",
       "                            \n",
       "var gd = document.getElementById('2c6d0436-e642-4dc7-8260-3ce515ebfe15');\n",
       "var x = new MutationObserver(function (mutations, observer) {{\n",
       "        var display = window.getComputedStyle(gd).display;\n",
       "        if (!display || display === 'none') {{\n",
       "            console.log([gd, 'removed!']);\n",
       "            Plotly.purge(gd);\n",
       "            observer.disconnect();\n",
       "        }}\n",
       "}});\n",
       "\n",
       "// Listen for the removal of the full notebook cells\n",
       "var notebookContainer = gd.closest('#notebook-container');\n",
       "if (notebookContainer) {{\n",
       "    x.observe(notebookContainer, {childList: true});\n",
       "}}\n",
       "\n",
       "// Listen for the clearing of the current output cell\n",
       "var outputEl = gd.closest('.output');\n",
       "if (outputEl) {{\n",
       "    x.observe(outputEl, {childList: true});\n",
       "}}\n",
       "\n",
       "                        })                };                });            </script>        </div>"
      ]
     },
     "metadata": {},
     "output_type": "display_data"
    }
   ],
   "source": [
    "px.bar(df[:200], x=\"id\", y=\"pubs_tot\", \n",
    "      hover_name=\"title\", hover_data=[\"active_years\"])"
   ]
  }
 ],
 "metadata": {
  "colab": {
   "collapsed_sections": [],
   "name": "Clinical Trials by Volume of Pubs.ipynb",
   "provenance": []
  },
  "kernelspec": {
   "display_name": "Python 3 (ipykernel)",
   "language": "python",
   "name": "python3"
  },
  "language_info": {
   "codemirror_mode": {
    "name": "ipython",
    "version": 3
   },
   "file_extension": ".py",
   "mimetype": "text/x-python",
   "name": "python",
   "nbconvert_exporter": "python",
   "pygments_lexer": "ipython3",
   "version": "3.9.9"
  }
 },
 "nbformat": 4,
 "nbformat_minor": 4
}
