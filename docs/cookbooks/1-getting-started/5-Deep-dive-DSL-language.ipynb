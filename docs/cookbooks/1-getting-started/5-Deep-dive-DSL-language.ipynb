{
 "cells": [
  {
   "cell_type": "markdown",
   "metadata": {
    "Collapsed": "false",
    "colab_type": "text",
    "id": "1h9FQJHvG8Vv"
   },
   "source": [
    "# Exploring The Dimensions Search Language (DSL) - Deep Dive\n",
    "\n",
    "This tutorial provides a detailed walkthrough of the most important features of the [Dimensions Search Language](https://docs.dimensions.ai/dsl/). \n",
    "\n",
    "This tutorial is based on the [Query Syntax](https://docs.dimensions.ai/dsl/language.html) section of the official documentation. So, it can be used as an interactive version of the documentation, as it allows to try out the various DSL queries presented there.\n",
    "\n",
    "## What is the Dimensions Search Language?\n",
    "\n",
    "The DSL aims to capture the type of interaction with Dimensions data\n",
    "that users are accustomed to performing graphically via the [web\n",
    "application](https://app.dimensions.ai/), and enable web app developers, power users, and others to\n",
    "carry out such interactions by writing query statements in a syntax\n",
    "loosely inspired by SQL but particularly suited to our specific domain\n",
    "and data organization.\n",
    "\n",
    "**Note:** this notebook uses the Python programming language, however all the **DSL queries are not Python-specific** and can in fact be reused with any other API client. \n",
    "\n"
   ]
  },
  {
   "cell_type": "markdown",
   "metadata": {
    "Collapsed": "false",
    "colab_type": "text",
    "id": "hMaQlB7DG8Vw"
   },
   "source": [
    "## Prerequisites\n",
    "\n",
    "This notebook assumes you have installed the [Dimcli](https://pypi.org/project/dimcli/) library and are familiar with the *Getting Started* tutorial.\n"
   ]
  },
  {
   "cell_type": "code",
   "execution_count": 1,
   "metadata": {
    "Collapsed": "false"
   },
   "outputs": [
    {
     "name": "stdout",
     "output_type": "stream",
     "text": [
      "==\n",
      "Logging in..\n",
      "\u001b[2mDimcli - Dimensions API Client (v0.7.4.2)\u001b[0m\n",
      "\u001b[2mConnected to: https://app.dimensions.ai - DSL v1.27\u001b[0m\n",
      "\u001b[2mMethod: dsl.ini file\u001b[0m\n"
     ]
    }
   ],
   "source": [
    "!pip install dimcli --quiet \n",
    "\n",
    "import dimcli\n",
    "from dimcli.shortcuts import *\n",
    "import json\n",
    "import sys\n",
    "import pandas as pd\n",
    "#\n",
    "\n",
    "print(\"==\\nLogging in..\")\n",
    "# https://github.com/digital-science/dimcli#authentication\n",
    "ENDPOINT = \"https://app.dimensions.ai\"\n",
    "if 'google.colab' in sys.modules:\n",
    "  import getpass\n",
    "  USERNAME = getpass.getpass(prompt='Username: ')\n",
    "  PASSWORD = getpass.getpass(prompt='Password: ')    \n",
    "  dimcli.login(USERNAME, PASSWORD, ENDPOINT)\n",
    "else:\n",
    "  USERNAME, PASSWORD  = \"\", \"\"\n",
    "  dimcli.login(USERNAME, PASSWORD, ENDPOINT)\n",
    "dsl = dimcli.Dsl()"
   ]
  },
  {
   "cell_type": "markdown",
   "metadata": {
    "Collapsed": "false"
   },
   "source": [
    "\n",
    "## Sections Index \n",
    "\n",
    "1. Basic query structure\n",
    "2. Full-text searching\n",
    "3. Field searching\n",
    "4. Searching for researchers\n",
    "5. Returning results \n",
    "6. Aggregations"
   ]
  },
  {
   "cell_type": "markdown",
   "metadata": {
    "Collapsed": "false"
   },
   "source": [
    "## 1. Basic query structure\n",
    "\n",
    "DSL queries consist of two required components: a `search` phrase that\n",
    "indicates the scientific records to be searched, and one or\n",
    "more `return` phrases which specify the contents and structure of the\n",
    "desired results.\n",
    "\n",
    "The simplest valid DSL query is of the form `search <source>|return <result>`:"
   ]
  },
  {
   "cell_type": "code",
   "execution_count": 2,
   "metadata": {
    "Collapsed": "false"
   },
   "outputs": [
    {
     "name": "stdout",
     "output_type": "stream",
     "text": [
      "Returned Grants: 5 (total = 5514056)\n",
      "\u001b[2mTime: 0.61s\u001b[0m\n"
     ]
    },
    {
     "data": {
      "text/html": [
       "<div>\n",
       "<style scoped>\n",
       "    .dataframe tbody tr th:only-of-type {\n",
       "        vertical-align: middle;\n",
       "    }\n",
       "\n",
       "    .dataframe tbody tr th {\n",
       "        vertical-align: top;\n",
       "    }\n",
       "\n",
       "    .dataframe thead th {\n",
       "        text-align: right;\n",
       "    }\n",
       "</style>\n",
       "<table border=\"1\" class=\"dataframe\">\n",
       "  <thead>\n",
       "    <tr style=\"text-align: right;\">\n",
       "      <th></th>\n",
       "      <th>funders</th>\n",
       "      <th>title</th>\n",
       "      <th>start_year</th>\n",
       "      <th>title_language</th>\n",
       "      <th>original_title</th>\n",
       "      <th>project_num</th>\n",
       "      <th>funding_org_name</th>\n",
       "      <th>language</th>\n",
       "      <th>start_date</th>\n",
       "      <th>id</th>\n",
       "      <th>active_year</th>\n",
       "      <th>end_date</th>\n",
       "    </tr>\n",
       "  </thead>\n",
       "  <tbody>\n",
       "    <tr>\n",
       "      <th>0</th>\n",
       "      <td>[{'id': 'grid.420488.2', 'city_name': 'The Hag...</td>\n",
       "      <td>Sensing alarm responses of ungulate herds to p...</td>\n",
       "      <td>2021</td>\n",
       "      <td>en</td>\n",
       "      <td>Sensing alarm responses of ungulate herds to p...</td>\n",
       "      <td>RAAK.PRO02.048</td>\n",
       "      <td>Dutch Research Council</td>\n",
       "      <td>en</td>\n",
       "      <td>2021-12-27</td>\n",
       "      <td>grant.6946936</td>\n",
       "      <td>[2021]</td>\n",
       "      <td>NaN</td>\n",
       "    </tr>\n",
       "    <tr>\n",
       "      <th>1</th>\n",
       "      <td>[{'id': 'grid.270680.b', 'city_name': 'Brussel...</td>\n",
       "      <td>Functional analysis of ribosome heterogeneity ...</td>\n",
       "      <td>2021</td>\n",
       "      <td>en</td>\n",
       "      <td>Functional analysis of ribosome heterogeneity ...</td>\n",
       "      <td>890218</td>\n",
       "      <td>European Commission</td>\n",
       "      <td>en</td>\n",
       "      <td>2021-12-01</td>\n",
       "      <td>grant.9064785</td>\n",
       "      <td>[2021, 2022, 2023]</td>\n",
       "      <td>2023-11-30</td>\n",
       "    </tr>\n",
       "    <tr>\n",
       "      <th>2</th>\n",
       "      <td>[{'id': 'grid.484521.e', 'state_name': 'New Br...</td>\n",
       "      <td>APPROACH to Enriching the Real World Evidence ...</td>\n",
       "      <td>2021</td>\n",
       "      <td>en</td>\n",
       "      <td>APPROACH to Enriching the Real World Evidence ...</td>\n",
       "      <td>2018-HRSI-1548</td>\n",
       "      <td>New Brunswick Health Research Foundation</td>\n",
       "      <td>en</td>\n",
       "      <td>2021-11-30</td>\n",
       "      <td>grant.8690978</td>\n",
       "      <td>[2021]</td>\n",
       "      <td>NaN</td>\n",
       "    </tr>\n",
       "    <tr>\n",
       "      <th>3</th>\n",
       "      <td>[{'id': 'grid.270680.b', 'city_name': 'Brussel...</td>\n",
       "      <td>Knowledge Transfer in Global Gender Programmes...</td>\n",
       "      <td>2021</td>\n",
       "      <td>en</td>\n",
       "      <td>Knowledge Transfer in Global Gender Programmes...</td>\n",
       "      <td>894029</td>\n",
       "      <td>European Commission</td>\n",
       "      <td>en</td>\n",
       "      <td>2021-10-01</td>\n",
       "      <td>grant.9064813</td>\n",
       "      <td>[2021, 2022, 2023, 2024]</td>\n",
       "      <td>2024-09-30</td>\n",
       "    </tr>\n",
       "    <tr>\n",
       "      <th>4</th>\n",
       "      <td>[{'id': 'grid.424470.1', 'city_name': 'Brussel...</td>\n",
       "      <td>Molecular mechanism of DNA double strand break...</td>\n",
       "      <td>2021</td>\n",
       "      <td>en</td>\n",
       "      <td>Mécanismes moléculaires de la formation et la ...</td>\n",
       "      <td>1301720F</td>\n",
       "      <td>Fund for Scientific Research</td>\n",
       "      <td>en</td>\n",
       "      <td>2021-10-01</td>\n",
       "      <td>grant.8950252</td>\n",
       "      <td>[2021]</td>\n",
       "      <td>NaN</td>\n",
       "    </tr>\n",
       "  </tbody>\n",
       "</table>\n",
       "</div>"
      ],
      "text/plain": [
       "                                             funders  \\\n",
       "0  [{'id': 'grid.420488.2', 'city_name': 'The Hag...   \n",
       "1  [{'id': 'grid.270680.b', 'city_name': 'Brussel...   \n",
       "2  [{'id': 'grid.484521.e', 'state_name': 'New Br...   \n",
       "3  [{'id': 'grid.270680.b', 'city_name': 'Brussel...   \n",
       "4  [{'id': 'grid.424470.1', 'city_name': 'Brussel...   \n",
       "\n",
       "                                               title  start_year  \\\n",
       "0  Sensing alarm responses of ungulate herds to p...        2021   \n",
       "1  Functional analysis of ribosome heterogeneity ...        2021   \n",
       "2  APPROACH to Enriching the Real World Evidence ...        2021   \n",
       "3  Knowledge Transfer in Global Gender Programmes...        2021   \n",
       "4  Molecular mechanism of DNA double strand break...        2021   \n",
       "\n",
       "  title_language                                     original_title  \\\n",
       "0             en  Sensing alarm responses of ungulate herds to p...   \n",
       "1             en  Functional analysis of ribosome heterogeneity ...   \n",
       "2             en  APPROACH to Enriching the Real World Evidence ...   \n",
       "3             en  Knowledge Transfer in Global Gender Programmes...   \n",
       "4             en  Mécanismes moléculaires de la formation et la ...   \n",
       "\n",
       "      project_num                          funding_org_name language  \\\n",
       "0  RAAK.PRO02.048                    Dutch Research Council       en   \n",
       "1          890218                       European Commission       en   \n",
       "2  2018-HRSI-1548  New Brunswick Health Research Foundation       en   \n",
       "3          894029                       European Commission       en   \n",
       "4        1301720F              Fund for Scientific Research       en   \n",
       "\n",
       "   start_date             id               active_year    end_date  \n",
       "0  2021-12-27  grant.6946936                    [2021]         NaN  \n",
       "1  2021-12-01  grant.9064785        [2021, 2022, 2023]  2023-11-30  \n",
       "2  2021-11-30  grant.8690978                    [2021]         NaN  \n",
       "3  2021-10-01  grant.9064813  [2021, 2022, 2023, 2024]  2024-09-30  \n",
       "4  2021-10-01  grant.8950252                    [2021]         NaN  "
      ]
     },
     "execution_count": 2,
     "metadata": {},
     "output_type": "execute_result"
    }
   ],
   "source": [
    "%%dsldf \n",
    "search grants return  grants limit 5"
   ]
  },
  {
   "cell_type": "markdown",
   "metadata": {
    "Collapsed": "false"
   },
   "source": [
    "### `search source`\n",
    "\n",
    "A query must begin with the word `search` followed by a `source` name, i.e. the name of a type of scientific `record`, such as `grants` or `publications`.\n",
    "\n",
    "**What are the sources available?** See the [data sources](https://docs.dimensions.ai/dsl/data-sources.html) section of the documentation. \n",
    "\n",
    "Alternatively, we can use the 'schema' API ([describe](https://docs.dimensions.ai/dsl/data-sources.html#metadata-api)) to return this information programmatically:"
   ]
  },
  {
   "cell_type": "code",
   "execution_count": 3,
   "metadata": {
    "Collapsed": "false"
   },
   "outputs": [
    {
     "data": {
      "application/json": {
       "entities": {
        "categories": {
         "fields": {
          "id": {
           "description": "Dimensions ID of the category.",
           "is_filter": true,
           "long_description": null,
           "name": "string",
           "type": "string"
          },
          "name": {
           "description": "Name of the category. Note: this may include an identifier from the original source. E.g., '2.1 Biological and endogenous factors' (HRCS_RAC codes) or '1103 Clinical Sciences' (FOR codes).",
           "is_filter": true,
           "long_description": null,
           "name": "string",
           "type": "string"
          }
         },
         "fieldsets": [
          "all",
          "basics"
         ]
        },
        "cities": {
         "fields": {
          "id": {
           "description": "GeoNames city ID (eg '5391811' for `geonames:5391811 <http://www.geonames.org/5391811>`_ )",
           "is_filter": true,
           "long_description": null,
           "name": "string",
           "type": "string"
          },
          "name": {
           "description": "GeoNames city name.",
           "is_filter": true,
           "long_description": null,
           "name": "string",
           "type": "string"
          }
         },
         "fieldsets": [
          "all",
          "basics"
         ]
        },
        "countries": {
         "fields": {
          "id": {
           "description": "GeoNames country code (eg 'US' for `geonames:6252001 <http://www.geonames.org/6252001>`_ )",
           "is_filter": true,
           "long_description": null,
           "name": "string",
           "type": "string"
          },
          "name": {
           "description": "GeoNames country name.",
           "is_filter": true,
           "long_description": null,
           "name": "string",
           "type": "string"
          }
         },
         "fieldsets": [
          "all",
          "basics"
         ]
        },
        "journals": {
         "fields": {
          "id": {
           "description": "Dimensions ID of a journal. E.g., `jour.1016355 <https://app.dimensions.ai/discover/publication?and_facet_source_title=jour.1016355>`_ or `jour.1077219 <https://app.dimensions.ai/discover/publication?and_facet_source_title=jour.1077219>`_ .",
           "is_filter": true,
           "long_description": null,
           "name": "string",
           "type": "string"
          },
          "title": {
           "description": "Title of a journal publication. E.g. 'Nature' or 'The Lancet'",
           "is_filter": true,
           "long_description": null,
           "name": "string",
           "type": "string"
          }
         },
         "fieldsets": [
          "all",
          "basics"
         ]
        },
        "open_access": {
         "fields": {
          "description": {
           "description": "Description of the open access category.",
           "is_filter": false,
           "long_description": null,
           "name": "string",
           "type": "string"
          },
          "id": {
           "description": "Dimensions ID of the open access category. E.g., one of 'closed', 'oa_all', 'gold_bronze', 'gold_pure', 'green_sub', 'gold_hybrid', 'green_pub', 'green_acc'. (see also the :ref:`publications` field ``open_access``).",
           "is_filter": true,
           "long_description": null,
           "name": "string",
           "type": "string"
          },
          "name": {
           "description": "Name of the open access category. E.g., 'Closed' or 'Pure Gold'.",
           "is_filter": true,
           "long_description": null,
           "name": "string",
           "type": "string"
          }
         },
         "fieldsets": [
          "all",
          "basics"
         ]
        },
        "org_groups": {
         "fields": {
          "id": {
           "description": "Dimensions ID of the organization group.",
           "is_filter": true,
           "long_description": null,
           "name": "string",
           "type": "string"
          },
          "name": {
           "description": "Name of the organization group. E.g., 'NIH' or 'ICRP'.",
           "is_filter": true,
           "long_description": null,
           "name": "string",
           "type": "string"
          }
         },
         "fieldsets": [
          "all",
          "basics"
         ]
        },
        "publication_links": {
         "fields": {
          "doi": {
           "description": "Digital object identifier",
           "is_filter": true,
           "long_description": null,
           "name": "string",
           "type": "string"
          },
          "id": {
           "description": "Dimensions publication id",
           "is_filter": true,
           "long_description": null,
           "name": "string",
           "type": "string"
          },
          "pmcid": {
           "description": "PubMed Central ID",
           "is_filter": true,
           "long_description": null,
           "name": "string",
           "type": "string"
          },
          "pmid": {
           "description": "PubMed ID",
           "is_filter": true,
           "long_description": null,
           "name": "string",
           "type": "string"
          }
         },
         "fieldsets": [
          "all",
          "basics"
         ]
        },
        "states": {
         "fields": {
          "id": {
           "description": "GeoNames state code (ISO‌-3166-2). E.g., 'US.CA' for `geonames:5332921 <http://www.geonames.org/5332921>`_ .",
           "is_filter": true,
           "long_description": null,
           "name": "string",
           "type": "string"
          },
          "name": {
           "description": "GeoNames state name (ISO‌-3166-2).",
           "is_filter": true,
           "long_description": null,
           "name": "string",
           "type": "string"
          }
         },
         "fieldsets": [
          "all",
          "basics"
         ]
        }
       },
       "sources": {
        "clinical_trials": {
         "fields": {
          "abstract": {
           "description": "Abstract or description of the clinical trial.",
           "is_entity": false,
           "is_facet": false,
           "is_filter": false,
           "is_multivalue": false,
           "long_description": null,
           "type": "string"
          },
          "acronym": {
           "description": "Acronym of the clinical trial.",
           "is_entity": false,
           "is_facet": false,
           "is_filter": true,
           "is_multivalue": false,
           "long_description": null,
           "type": "string"
          },
          "active_years": {
           "description": "List of active years for a clinical trial.",
           "is_entity": false,
           "is_facet": true,
           "is_filter": true,
           "is_multivalue": true,
           "long_description": null,
           "type": "integer"
          },
          "associated_grant_ids": {
           "description": "Dimensions IDs of the grants associated to the clinical trial (see also: :ref:`clinical_trials_model` section).",
           "is_entity": false,
           "is_facet": false,
           "is_filter": true,
           "is_multivalue": true,
           "long_description": null,
           "type": "string"
          },
          "brief_title": {
           "description": "Brief title of the clinical trial.",
           "is_entity": false,
           "is_facet": false,
           "is_filter": true,
           "is_multivalue": false,
           "long_description": null,
           "type": "string"
          },
          "category_bra": {
           "description": "`Broad Research Areas <https://app.dimensions.ai/browse/publication/broad_research_areas?redirect_path=/discover/publication>`_",
           "is_entity": true,
           "is_facet": true,
           "is_filter": true,
           "is_multivalue": true,
           "long_description": null,
           "type": "categories"
          },
          "category_for": {
           "description": "`ANZSRC Fields of Research classification <https://dimensions.freshdesk.com/support/solutions/articles/23000018820-what-are-fields-of-research-and-other-classification-systems-and-how-are-they-created->`_",
           "is_entity": true,
           "is_facet": true,
           "is_filter": true,
           "is_multivalue": true,
           "long_description": null,
           "type": "categories"
          },
          "category_hra": {
           "description": "`Health Research Areas <https://dimensions.freshdesk.com/support/solutions/articles/23000018820-what-are-fields-of-research-and-other-classification-systems-and-how-are-they-created->`_",
           "is_entity": true,
           "is_facet": true,
           "is_filter": true,
           "is_multivalue": true,
           "long_description": null,
           "type": "categories"
          },
          "category_hrcs_hc": {
           "description": "`HRCS - Health Categories <https://dimensions.freshdesk.com/support/solutions/articles/23000018820-what-are-fields-of-research-and-other-classification-systems-and-how-are-they-created->`_",
           "is_entity": true,
           "is_facet": true,
           "is_filter": true,
           "is_multivalue": true,
           "long_description": null,
           "type": "categories"
          },
          "category_hrcs_rac": {
           "description": "`HRCS – Research Activity Codes <https://dimensions.freshdesk.com/support/solutions/articles/23000018820-what-are-fields-of-research-and-other-classification-systems-and-how-are-they-created->`_",
           "is_entity": true,
           "is_facet": true,
           "is_filter": true,
           "is_multivalue": true,
           "long_description": null,
           "type": "categories"
          },
          "category_icrp_cso": {
           "description": "`ICRP Common Scientific Outline <https://dimensions.freshdesk.com/support/solutions/articles/23000018820-what-are-fields-of-research-and-other-classification-systems-and-how-are-they-created->`_",
           "is_entity": true,
           "is_facet": true,
           "is_filter": true,
           "is_multivalue": true,
           "long_description": null,
           "type": "categories"
          },
          "category_icrp_ct": {
           "description": "`ICRP Cancer Types <https://dimensions.freshdesk.com/support/solutions/articles/23000018820-what-are-fields-of-research-and-other-classification-systems-and-how-are-they-created->`_",
           "is_entity": true,
           "is_facet": true,
           "is_filter": true,
           "is_multivalue": true,
           "long_description": null,
           "type": "categories"
          },
          "category_rcdc": {
           "description": "`Research, Condition, and Disease Categorization <https://dimensions.freshdesk.com/support/solutions/articles/23000018820-what-are-fields-of-research-and-other-classification-systems-and-how-are-they-created->`_",
           "is_entity": true,
           "is_facet": true,
           "is_filter": true,
           "is_multivalue": true,
           "long_description": null,
           "type": "categories"
          },
          "conditions": {
           "description": "List of medical conditions names, e.g. 'Breast cancer' or 'Obesity'.",
           "is_entity": false,
           "is_facet": false,
           "is_filter": true,
           "is_multivalue": true,
           "long_description": null,
           "type": "string"
          },
          "date": {
           "description": "Start date of a clinical trial.",
           "is_entity": false,
           "is_facet": false,
           "is_filter": true,
           "is_multivalue": false,
           "long_description": null,
           "type": "date"
          },
          "date_inserted": {
           "description": "Date when the record was inserted into Dimensions (note: this field does not support exact match on the data, only range filters e.g. `<=` or `>=').",
           "is_entity": false,
           "is_facet": false,
           "is_filter": true,
           "is_multivalue": false,
           "long_description": null,
           "type": "date"
          },
          "dimensions_url": {
           "description": "Link pointing to the Dimensions web application",
           "is_entity": false,
           "is_facet": false,
           "is_filter": false,
           "is_multivalue": false,
           "long_description": null,
           "type": "string"
          },
          "funder_countries": {
           "description": "The country group the funding organisations.",
           "is_entity": true,
           "is_facet": true,
           "is_filter": true,
           "is_multivalue": true,
           "long_description": null,
           "type": "countries"
          },
          "funders": {
           "description": "GRID funding organisations that are involved with the clinical trial.",
           "is_entity": true,
           "is_facet": true,
           "is_filter": true,
           "is_multivalue": true,
           "long_description": null,
           "type": "organizations"
          },
          "gender": {
           "description": "The gender of the clinical trial subjects e.g. 'Male', 'Female' or 'All'.",
           "is_entity": false,
           "is_facet": false,
           "is_filter": true,
           "is_multivalue": false,
           "long_description": null,
           "type": "string"
          },
          "id": {
           "description": "Dimensions clinical trial ID",
           "is_entity": false,
           "is_facet": false,
           "is_filter": true,
           "is_multivalue": false,
           "long_description": null,
           "type": "string"
          },
          "interventions": {
           "description": "Structured JSON object containing information about the clinical trial's interventions according to the research plan or protocol created by the investigators.",
           "is_entity": false,
           "is_facet": false,
           "is_filter": true,
           "is_multivalue": true,
           "long_description": "Returned objects contain: ``type``, ``name``, ``description``, ``arm_group_labels``, ``other_names``.\n                                            \n                                            For example:\n                                            \n    .. code-block:: json\n                                     \n        {\n            \"interventions\":[\n                {\n                    \"type\":\"Drug\",\n                    \"name\":\"INCB024360\",\n                    \"description\":\"INCB024360: Oral daily dosing\",\n                    \"arm_group_labels\":\"MEDI4736 + INCB024360\",\n                    \"other_names\":\"\"\n                },\n                {\n                    \"type\":\"Drug\",\n                    \"name\":\"MEDI4736\",\n                    \"description\":\"MEDI4736 administered intravenously (IV) every two weeks (q2w)\",\n                    \"arm_group_labels\":\"MEDI4736 + INCB024360\",\n                    \"other_names\":\"\"\n                }\n            ]\n        }",
           "type": "json"
          },
          "investigator_details": {
           "description": "Additional details about investigators, including affiliations and roles.",
           "is_entity": false,
           "is_facet": false,
           "is_filter": true,
           "is_multivalue": true,
           "long_description": null,
           "type": "json"
          },
          "linkout": {
           "description": "Original URL for the clinical trial.",
           "is_entity": false,
           "is_facet": false,
           "is_filter": false,
           "is_multivalue": false,
           "long_description": null,
           "type": "string"
          },
          "mesh_terms": {
           "description": "Medical Subject Heading terms as used in PubMed.",
           "is_entity": false,
           "is_facet": true,
           "is_filter": true,
           "is_multivalue": true,
           "long_description": null,
           "type": "string"
          },
          "phase": {
           "description": "Phase of the clinical trial, as a string.",
           "is_entity": false,
           "is_facet": false,
           "is_filter": true,
           "is_multivalue": false,
           "long_description": null,
           "type": "string"
          },
          "publication_ids": {
           "description": "Dimensions IDs of the publications related to this clinical trial (see also: :ref:`clinical_trials_model` section).",
           "is_entity": false,
           "is_facet": false,
           "is_filter": true,
           "is_multivalue": true,
           "long_description": null,
           "type": "string"
          },
          "publications": {
           "description": "Publication IDs of the publications related to this clinical trial (see also: :ref:`clinical_trials_model` section).",
           "is_entity": true,
           "is_facet": true,
           "is_filter": true,
           "is_multivalue": true,
           "long_description": null,
           "type": "publication_links"
          },
          "registry": {
           "description": "The platform where the clinical trial has been registered, e.g. 'ClinicalTrials.gov' or 'EU-CTR'.",
           "is_entity": false,
           "is_facet": false,
           "is_filter": true,
           "is_multivalue": false,
           "long_description": null,
           "type": "string"
          },
          "research_orgs": {
           "description": "GRID organizations involved, e.g. as sponsors or collaborators.",
           "is_entity": true,
           "is_facet": true,
           "is_filter": true,
           "is_multivalue": true,
           "long_description": null,
           "type": "organizations"
          },
          "researchers": {
           "description": "Dimensions researchers IDs associated to the clinical trial.",
           "is_entity": true,
           "is_facet": true,
           "is_filter": true,
           "is_multivalue": true,
           "long_description": null,
           "type": "researchers"
          },
          "title": {
           "description": "The title of the clinical trial.",
           "is_entity": false,
           "is_facet": false,
           "is_filter": false,
           "is_multivalue": false,
           "long_description": null,
           "type": "string"
          }
         },
         "fieldsets": [
          "all",
          "basics",
          "extras",
          "categories"
         ],
         "metrics": {
          "count": {
           "description": "Total count",
           "name": "count"
          }
         },
         "search_fields": [
          "title_abstract_only",
          "title_only",
          "full_data",
          "investigators"
         ]
        },
        "datasets": {
         "fields": {
          "associated_grant_ids": {
           "description": "The Dimensions IDs of the grants linked to the publication the dataset is associated with.",
           "is_entity": false,
           "is_facet": false,
           "is_filter": true,
           "is_multivalue": true,
           "long_description": null,
           "type": "string"
          },
          "associated_publication": {
           "description": "Publication linked to the dataset (single value).",
           "is_entity": true,
           "is_facet": true,
           "is_filter": true,
           "is_multivalue": false,
           "long_description": null,
           "type": "publication_links"
          },
          "associated_publication_id": {
           "description": "The Dimensions ID of the publication linked to the dataset (single value).",
           "is_entity": false,
           "is_facet": false,
           "is_filter": true,
           "is_multivalue": false,
           "long_description": null,
           "type": "string"
          },
          "authors": {
           "description": "Ordered list of the dataset authors. ORCIDs are included if available.",
           "is_entity": false,
           "is_facet": false,
           "is_filter": true,
           "is_multivalue": true,
           "long_description": "Returned objects contain: `name`, `orcid`\n                                            \n                                           For example:\n\n    .. code-block:: json\n    \n        {\n            \"name\": \"Steffen Vogt\",\n            \"orcid\": \"\"\n        }",
           "type": "json"
          },
          "category_bra": {
           "description": "`Broad Research Areas <https://dimensions.freshdesk.com/support/solutions/articles/23000018820-what-are-fields-of-research-and-other-classification-systems-and-how-are-they-created->`_",
           "is_entity": true,
           "is_facet": true,
           "is_filter": true,
           "is_multivalue": true,
           "long_description": null,
           "type": "categories"
          },
          "category_for": {
           "description": "`ANZSRC Fields of Research classification <https://dimensions.freshdesk.com/support/solutions/articles/23000018820-what-are-fields-of-research-and-other-classification-systems-and-how-are-they-created->`_",
           "is_entity": true,
           "is_facet": true,
           "is_filter": true,
           "is_multivalue": true,
           "long_description": null,
           "type": "categories"
          },
          "category_hra": {
           "description": "`Health Research Areas <https://dimensions.freshdesk.com/support/solutions/articles/23000018820-what-are-fields-of-research-and-other-classification-systems-and-how-are-they-created->`_",
           "is_entity": true,
           "is_facet": true,
           "is_filter": true,
           "is_multivalue": true,
           "long_description": null,
           "type": "categories"
          },
          "category_hrcs_hc": {
           "description": "`HRCS - Health Categories <https://dimensions.freshdesk.com/support/solutions/articles/23000018820-what-are-fields-of-research-and-other-classification-systems-and-how-are-they-created->`_",
           "is_entity": true,
           "is_facet": true,
           "is_filter": true,
           "is_multivalue": true,
           "long_description": null,
           "type": "categories"
          },
          "category_hrcs_rac": {
           "description": "`HRCS – Research Activity Codes <https://dimensions.freshdesk.com/support/solutions/articles/23000018820-what-are-fields-of-research-and-other-classification-systems-and-how-are-they-created->`_",
           "is_entity": true,
           "is_facet": true,
           "is_filter": true,
           "is_multivalue": true,
           "long_description": null,
           "type": "categories"
          },
          "category_icrp_cso": {
           "description": "`ICRP Common Scientific Outline <https://dimensions.freshdesk.com/support/solutions/articles/23000018820-what-are-fields-of-research-and-other-classification-systems-and-how-are-they-created->`_",
           "is_entity": true,
           "is_facet": true,
           "is_filter": true,
           "is_multivalue": true,
           "long_description": null,
           "type": "categories"
          },
          "category_icrp_ct": {
           "description": "`ICRP Cancer Types <https://dimensions.freshdesk.com/support/solutions/articles/23000018820-what-are-fields-of-research-and-other-classification-systems-and-how-are-they-created->`_",
           "is_entity": true,
           "is_facet": true,
           "is_filter": true,
           "is_multivalue": true,
           "long_description": null,
           "type": "categories"
          },
          "category_rcdc": {
           "description": "`Research, Condition, and Disease Categorization <https://dimensions.freshdesk.com/support/solutions/articles/23000018820-what-are-fields-of-research-and-other-classification-systems-and-how-are-they-created->`_",
           "is_entity": true,
           "is_facet": true,
           "is_filter": true,
           "is_multivalue": true,
           "long_description": null,
           "type": "categories"
          },
          "category_sdg": {
           "description": "SDG - Sustainable Development Goals",
           "is_entity": true,
           "is_facet": true,
           "is_filter": true,
           "is_multivalue": true,
           "long_description": null,
           "type": "categories"
          },
          "date": {
           "description": "The publication date of the dataset, eg \"2018-01-01\".",
           "is_entity": false,
           "is_facet": false,
           "is_filter": true,
           "is_multivalue": false,
           "long_description": null,
           "type": "date"
          },
          "date_created": {
           "description": "The creation date of the dataset.",
           "is_entity": false,
           "is_facet": false,
           "is_filter": true,
           "is_multivalue": false,
           "long_description": null,
           "type": "date"
          },
          "date_embargo": {
           "description": "The embargo date of the dataset.",
           "is_entity": false,
           "is_facet": false,
           "is_filter": true,
           "is_multivalue": false,
           "long_description": null,
           "type": "date"
          },
          "date_inserted": {
           "description": "Date when the record was inserted into Dimensions (note: this field does not support exact match on the data, only range filters e.g. `<=` or `>=').",
           "is_entity": false,
           "is_facet": false,
           "is_filter": true,
           "is_multivalue": false,
           "long_description": null,
           "type": "date"
          },
          "date_modified": {
           "description": "The last modification date of the dataset.",
           "is_entity": false,
           "is_facet": false,
           "is_filter": true,
           "is_multivalue": false,
           "long_description": null,
           "type": "date"
          },
          "description": {
           "description": "Description of the dataset.",
           "is_entity": false,
           "is_facet": false,
           "is_filter": false,
           "is_multivalue": false,
           "long_description": null,
           "type": "string"
          },
          "dimensions_url": {
           "description": "Link pointing to the Dimensions web application",
           "is_entity": false,
           "is_facet": false,
           "is_filter": false,
           "is_multivalue": false,
           "long_description": null,
           "type": "string"
          },
          "doi": {
           "description": "Dataset DOI.",
           "is_entity": false,
           "is_facet": false,
           "is_filter": true,
           "is_multivalue": false,
           "long_description": null,
           "type": "string"
          },
          "figshare_url": {
           "description": "Figshare URL for the dataset.",
           "is_entity": false,
           "is_facet": false,
           "is_filter": false,
           "is_multivalue": false,
           "long_description": null,
           "type": "string"
          },
          "funder_countries": {
           "description": "The country linked to the organisation funding the grant, expressed as GeoNames codes.",
           "is_entity": true,
           "is_facet": true,
           "is_filter": true,
           "is_multivalue": true,
           "long_description": null,
           "type": "countries"
          },
          "funders": {
           "description": "The GRID organisations funding the dataset.",
           "is_entity": true,
           "is_facet": true,
           "is_filter": true,
           "is_multivalue": true,
           "long_description": null,
           "type": "organizations"
          },
          "id": {
           "description": "Dimensions dataset ID.",
           "is_entity": false,
           "is_facet": false,
           "is_filter": true,
           "is_multivalue": false,
           "long_description": null,
           "type": "string"
          },
          "journal": {
           "description": "The journal a data set belongs to.",
           "is_entity": true,
           "is_facet": true,
           "is_filter": true,
           "is_multivalue": false,
           "long_description": null,
           "type": "journals"
          },
          "keywords": {
           "description": "Keywords used to describe the dataset (from authors).",
           "is_entity": false,
           "is_facet": true,
           "is_filter": true,
           "is_multivalue": true,
           "long_description": null,
           "type": "string"
          },
          "language_desc": {
           "description": "Dataset title language, as ISO 639-1 language codes.",
           "is_entity": false,
           "is_facet": true,
           "is_filter": true,
           "is_multivalue": false,
           "long_description": null,
           "type": "string"
          },
          "language_title": {
           "description": "Dataset title language, as ISO 639-1 language codes.",
           "is_entity": false,
           "is_facet": true,
           "is_filter": true,
           "is_multivalue": false,
           "long_description": null,
           "type": "string"
          },
          "license_name": {
           "description": "The dataset licence name, e.g. 'CC BY 4.0'.",
           "is_entity": false,
           "is_facet": true,
           "is_filter": true,
           "is_multivalue": false,
           "long_description": null,
           "type": "string"
          },
          "license_url": {
           "description": "The dataset licence URL, e.g. 'https://creativecommons.org/licenses/by/4.0/'.",
           "is_entity": false,
           "is_facet": false,
           "is_filter": false,
           "is_multivalue": false,
           "long_description": null,
           "type": "string"
          },
          "repository_id": {
           "description": "The ID of the repository of the dataset.",
           "is_entity": false,
           "is_facet": true,
           "is_filter": true,
           "is_multivalue": false,
           "long_description": null,
           "type": "string"
          },
          "research_org_cities": {
           "description": "City of the organisations the publication authors are affiliated to, expressed as GeoNames ID and name.",
           "is_entity": true,
           "is_facet": true,
           "is_filter": true,
           "is_multivalue": true,
           "long_description": null,
           "type": "cities"
          },
          "research_org_countries": {
           "description": "Country of the organisations the publication authors are affiliated to, identified using GeoNames codes (note: this field supports count: count)..",
           "is_entity": true,
           "is_facet": true,
           "is_filter": true,
           "is_multivalue": true,
           "long_description": null,
           "type": "countries"
          },
          "research_org_states": {
           "description": "State of the organisations the publication authors are affiliated to, expressed as GeoNames codes (ISO‌-3166-2).",
           "is_entity": true,
           "is_facet": true,
           "is_filter": true,
           "is_multivalue": true,
           "long_description": null,
           "type": "states"
          },
          "research_orgs": {
           "description": "GRID organisations linked to the publication associated to the dataset (note: this field supports count: count).",
           "is_entity": true,
           "is_facet": true,
           "is_filter": true,
           "is_multivalue": true,
           "long_description": null,
           "type": "organizations"
          },
          "researchers": {
           "description": "Dimensions researchers IDs associated to the dataset's associated publication. Note: in most cases, these would be the same as the dataset authors.",
           "is_entity": true,
           "is_facet": true,
           "is_filter": true,
           "is_multivalue": true,
           "long_description": null,
           "type": "researchers"
          },
          "title": {
           "description": "Title of the dataset.",
           "is_entity": false,
           "is_facet": false,
           "is_filter": false,
           "is_multivalue": false,
           "long_description": null,
           "type": "string"
          },
          "year": {
           "description": "Year of publication of the dataset.",
           "is_entity": false,
           "is_facet": true,
           "is_filter": true,
           "is_multivalue": false,
           "long_description": null,
           "type": "integer"
          }
         },
         "fieldsets": [
          "all",
          "basics",
          "categories"
         ],
         "metrics": {
          "count": {
           "description": "Total count",
           "name": "count"
          }
         },
         "search_fields": [
          "title_abstract_only",
          "title_only",
          "full_data"
         ]
        },
        "grants": {
         "fields": {
          "abstract": {
           "description": "Abstract or summary from a grant proposal.",
           "is_entity": false,
           "is_facet": false,
           "is_filter": false,
           "is_multivalue": false,
           "long_description": null,
           "type": "string"
          },
          "active_year": {
           "description": "List of active years for a grant.",
           "is_entity": false,
           "is_facet": true,
           "is_filter": true,
           "is_multivalue": true,
           "long_description": null,
           "type": "integer"
          },
          "category_bra": {
           "description": "`Broad Research Areas <https://dimensions.freshdesk.com/support/solutions/articles/23000018820-what-are-fields-of-research-and-other-classification-systems-and-how-are-they-created->`_",
           "is_entity": true,
           "is_facet": true,
           "is_filter": true,
           "is_multivalue": true,
           "long_description": null,
           "type": "categories"
          },
          "category_for": {
           "description": "`ANZSRC Fields of Research classification <https://dimensions.freshdesk.com/support/solutions/articles/23000018820-what-are-fields-of-research-and-other-classification-systems-and-how-are-they-created->`_",
           "is_entity": true,
           "is_facet": true,
           "is_filter": true,
           "is_multivalue": true,
           "long_description": null,
           "type": "categories"
          },
          "category_hra": {
           "description": "`Health Research Areas <https://dimensions.freshdesk.com/support/solutions/articles/23000018820-what-are-fields-of-research-and-other-classification-systems-and-how-are-they-created->`_",
           "is_entity": true,
           "is_facet": true,
           "is_filter": true,
           "is_multivalue": true,
           "long_description": null,
           "type": "categories"
          },
          "category_hrcs_hc": {
           "description": "`HRCS - Health Categories <https://dimensions.freshdesk.com/support/solutions/articles/23000018820-what-are-fields-of-research-and-other-classification-systems-and-how-are-they-created->`_ .",
           "is_entity": true,
           "is_facet": true,
           "is_filter": true,
           "is_multivalue": true,
           "long_description": null,
           "type": "categories"
          },
          "category_hrcs_rac": {
           "description": "`HRCS – Research Activity Codes <https://dimensions.freshdesk.com/support/solutions/articles/23000018820-what-are-fields-of-research-and-other-classification-systems-and-how-are-they-created->`_ .",
           "is_entity": true,
           "is_facet": true,
           "is_filter": true,
           "is_multivalue": true,
           "long_description": null,
           "type": "categories"
          },
          "category_icrp_cso": {
           "description": "`ICRP Common Scientific Outline <https://dimensions.freshdesk.com/support/solutions/articles/23000018820-what-are-fields-of-research-and-other-classification-systems-and-how-are-they-created->`_",
           "is_entity": true,
           "is_facet": true,
           "is_filter": true,
           "is_multivalue": true,
           "long_description": null,
           "type": "categories"
          },
          "category_icrp_ct": {
           "description": "`ICRP Cancer Types <https://dimensions.freshdesk.com/support/solutions/articles/23000018820-what-are-fields-of-research-and-other-classification-systems-and-how-are-they-created->`_",
           "is_entity": true,
           "is_facet": true,
           "is_filter": true,
           "is_multivalue": true,
           "long_description": null,
           "type": "categories"
          },
          "category_rcdc": {
           "description": "`Research, Condition, and Disease Categorization <https://dimensions.freshdesk.com/support/solutions/articles/23000018820-what-are-fields-of-research-and-other-classification-systems-and-how-are-they-created->`_ .",
           "is_entity": true,
           "is_facet": true,
           "is_filter": true,
           "is_multivalue": true,
           "long_description": null,
           "type": "categories"
          },
          "category_sdg": {
           "description": "SDG - Sustainable Development Goals",
           "is_entity": true,
           "is_facet": true,
           "is_filter": true,
           "is_multivalue": true,
           "long_description": null,
           "type": "categories"
          },
          "category_uoa": {
           "description": "`Units of Assessment <https://dimensions.freshdesk.com/support/solutions/articles/23000018820-what-are-fields-of-research-and-other-classification-systems-and-how-are-they-created->`_",
           "is_entity": true,
           "is_facet": true,
           "is_filter": true,
           "is_multivalue": true,
           "long_description": null,
           "type": "categories"
          },
          "concepts": {
           "description": "Concepts describing the main topics of a grant (note: automatically derived from the grant text using machine learning).",
           "is_entity": false,
           "is_facet": false,
           "is_filter": false,
           "is_multivalue": true,
           "long_description": null,
           "type": "string"
          },
          "date_inserted": {
           "description": "Date when the record was inserted into Dimensions (note: this field does not support exact match on the data, only range filters e.g. `<=` or `>=`).",
           "is_entity": false,
           "is_facet": false,
           "is_filter": true,
           "is_multivalue": false,
           "long_description": null,
           "type": "date"
          },
          "dimensions_url": {
           "description": "Link pointing to the Dimensions web application",
           "is_entity": false,
           "is_facet": false,
           "is_filter": false,
           "is_multivalue": false,
           "long_description": null,
           "type": "string"
          },
          "end_date": {
           "description": "Date when the grant ends.",
           "is_entity": false,
           "is_facet": false,
           "is_filter": true,
           "is_multivalue": false,
           "long_description": null,
           "type": "date"
          },
          "foa_number": {
           "description": "The funding opportunity announcement (FOA) number, where available e.g. for grants from the US National Institute of Health (NIH) or from the National Science Foundation (NSF).",
           "is_entity": false,
           "is_facet": false,
           "is_filter": true,
           "is_multivalue": false,
           "long_description": null,
           "type": "string"
          },
          "funder_countries": {
           "description": "The country linked to the organisation funding the grant, expressed as GeoNames codes.",
           "is_entity": true,
           "is_facet": true,
           "is_filter": true,
           "is_multivalue": true,
           "long_description": null,
           "type": "countries"
          },
          "funders": {
           "description": "The organisation funding the grant. This is normally a GRID organisation, but in very few cases a Dimensions funder ID is used.",
           "is_entity": true,
           "is_facet": true,
           "is_filter": true,
           "is_multivalue": true,
           "long_description": null,
           "type": "organizations"
          },
          "funding_aud": {
           "description": "Funding amount awarded in AUD.",
           "is_entity": false,
           "is_facet": false,
           "is_filter": true,
           "is_multivalue": false,
           "long_description": null,
           "type": "float"
          },
          "funding_cad": {
           "description": "Funding amount awarded in CAD.",
           "is_entity": false,
           "is_facet": false,
           "is_filter": true,
           "is_multivalue": false,
           "long_description": null,
           "type": "float"
          },
          "funding_chf": {
           "description": "Funding amount awarded in CHF.",
           "is_entity": false,
           "is_facet": false,
           "is_filter": true,
           "is_multivalue": false,
           "long_description": null,
           "type": "float"
          },
          "funding_currency": {
           "description": "Original funding currency.",
           "is_entity": false,
           "is_facet": true,
           "is_filter": true,
           "is_multivalue": false,
           "long_description": null,
           "type": "string"
          },
          "funding_eur": {
           "description": "Funding amount awarded in EUR.",
           "is_entity": false,
           "is_facet": false,
           "is_filter": true,
           "is_multivalue": false,
           "long_description": null,
           "type": "float"
          },
          "funding_gbp": {
           "description": "Funding amount awarded in GBP.",
           "is_entity": false,
           "is_facet": false,
           "is_filter": true,
           "is_multivalue": false,
           "long_description": null,
           "type": "float"
          },
          "funding_jpy": {
           "description": "Funding amount awarded in JPY.",
           "is_entity": false,
           "is_facet": false,
           "is_filter": true,
           "is_multivalue": false,
           "long_description": null,
           "type": "float"
          },
          "funding_nzd": {
           "description": "Funding amount awarded in NZD.",
           "is_entity": false,
           "is_facet": false,
           "is_filter": true,
           "is_multivalue": false,
           "long_description": null,
           "type": "float"
          },
          "funding_org_acronym": {
           "description": "Acronym for funding organisation.",
           "is_entity": false,
           "is_facet": true,
           "is_filter": true,
           "is_multivalue": false,
           "long_description": null,
           "type": "string"
          },
          "funding_org_city": {
           "description": "City name for funding organisation.",
           "is_entity": false,
           "is_facet": true,
           "is_filter": true,
           "is_multivalue": false,
           "long_description": null,
           "type": "string"
          },
          "funding_org_name": {
           "description": "Name of funding organisation.",
           "is_entity": false,
           "is_facet": true,
           "is_filter": true,
           "is_multivalue": false,
           "long_description": null,
           "type": "string"
          },
          "funding_usd": {
           "description": "Funding amount awarded in USD.",
           "is_entity": false,
           "is_facet": false,
           "is_filter": true,
           "is_multivalue": false,
           "long_description": null,
           "type": "float"
          },
          "grant_number": {
           "description": "Grant identifier, as provided by the source (e.g., funder, aggregator) the grant was derived from.",
           "is_entity": false,
           "is_facet": false,
           "is_filter": true,
           "is_multivalue": false,
           "long_description": null,
           "type": "string"
          },
          "id": {
           "description": "Dimensions grant ID.",
           "is_entity": false,
           "is_facet": false,
           "is_filter": true,
           "is_multivalue": false,
           "long_description": null,
           "type": "string"
          },
          "investigator_details": {
           "description": "Additional details about investigators, including affiliations and roles e.g. 'PI' or 'Co-PI' (note: if the investigator has a Dimensions researcher ID, that is returned as well).",
           "is_entity": false,
           "is_facet": false,
           "is_filter": true,
           "is_multivalue": false,
           "long_description": "Returned objects contain: ``id``, ``first_name``, ``middle_name``, ``last_name``, ``role``, ``affiliations``\n                                           \n                                           For example:\n\n    .. code-block:: json\n\n        {\n            \"investigator_details\":[\n                {\n                    \"id\":\"ur.012516501745.79\",\n                    \"first_name\":\"O.\",\n                    \"middle_name\":\"\",\n                    \"last_name\":\"Mitas\",\n                    \"role\":\"PI\",\n                    \"affiliations\":[\n                        {\n                            \"id\":\"grid.5477.1\",\n                            \"name\":\"Breda University of Applied Sciences\",\n                            \"city\":null,\n                            \"city_id\":\"2745912\",\n                            \"state\":null,\n                            \"state_code\":null,\n                            \"country\":null,\n                            \"country_code\":\"NL\"\n                        }\n                    ]\n                }\n            ]\n        }",
           "type": "json"
          },
          "language": {
           "description": "Grant original language, as ISO 639-1 language codes.",
           "is_entity": false,
           "is_facet": true,
           "is_filter": true,
           "is_multivalue": false,
           "long_description": null,
           "type": "string"
          },
          "language_title": {
           "description": "ISO 639-1 language code for the original grant title.",
           "is_entity": false,
           "is_facet": true,
           "is_filter": true,
           "is_multivalue": false,
           "long_description": null,
           "type": "string"
          },
          "linkout": {
           "description": "Original URL for the grant.",
           "is_entity": false,
           "is_facet": false,
           "is_filter": false,
           "is_multivalue": false,
           "long_description": null,
           "type": "string"
          },
          "original_title": {
           "description": "Title of the grant in its original language.",
           "is_entity": false,
           "is_facet": false,
           "is_filter": false,
           "is_multivalue": false,
           "long_description": null,
           "type": "string"
          },
          "research_org_cities": {
           "description": "City of the research organisations receiving the grant, expressed as GeoNames id and name.",
           "is_entity": true,
           "is_facet": true,
           "is_filter": true,
           "is_multivalue": true,
           "long_description": null,
           "type": "cities"
          },
          "research_org_countries": {
           "description": "Country of the research organisations receiving the grant, expressed as GeoNames code and name.",
           "is_entity": true,
           "is_facet": true,
           "is_filter": true,
           "is_multivalue": true,
           "long_description": null,
           "type": "countries"
          },
          "research_org_names": {
           "description": "Names of organizations investigators are affiliated to.",
           "is_entity": false,
           "is_facet": false,
           "is_filter": true,
           "is_multivalue": true,
           "long_description": null,
           "type": "string"
          },
          "research_org_state_codes": {
           "description": "State of the organisations receiving the grant, expressed as GeoNames codes (ISO‌-3166-2).",
           "is_entity": true,
           "is_facet": true,
           "is_filter": true,
           "is_multivalue": true,
           "long_description": null,
           "type": "states"
          },
          "research_orgs": {
           "description": "GRID organisations receiving the grant (note: identifiers are automatically extracted from the source text and can be missing in some cases).",
           "is_entity": true,
           "is_facet": true,
           "is_filter": true,
           "is_multivalue": true,
           "long_description": null,
           "type": "organizations"
          },
          "researchers": {
           "description": "Dimensions researchers IDs associated to the grant.",
           "is_entity": true,
           "is_facet": true,
           "is_filter": true,
           "is_multivalue": true,
           "long_description": null,
           "type": "researchers"
          },
          "start_date": {
           "description": "Date when the grant starts, in the format 'YYYY-MM-DD'.",
           "is_entity": false,
           "is_facet": false,
           "is_filter": true,
           "is_multivalue": false,
           "long_description": null,
           "type": "date"
          },
          "start_year": {
           "description": "Year when the grant starts.",
           "is_entity": false,
           "is_facet": true,
           "is_filter": true,
           "is_multivalue": false,
           "long_description": null,
           "type": "integer"
          },
          "title": {
           "description": "Title of the grant in English (if the grant language is not English, this field contains a translation of the title).",
           "is_entity": false,
           "is_facet": false,
           "is_filter": false,
           "is_multivalue": false,
           "long_description": null,
           "type": "string"
          }
         },
         "fieldsets": [
          "all",
          "basics",
          "extras",
          "categories"
         ],
         "metrics": {
          "count": {
           "description": "Total count",
           "name": "count"
          },
          "funding": {
           "description": "Total funding amount, in USD.",
           "name": "funding"
          }
         },
         "search_fields": [
          "title_only",
          "investigators",
          "title_abstract_only",
          "full_data",
          "concepts"
         ]
        },
        "organizations": {
         "fields": {
          "acronym": {
           "description": "GRID acronym of the organization. E.g., \"UT\" for `grid.26999.3d <https://grid.ac/institutes/grid.26999.3d>`_",
           "is_entity": false,
           "is_facet": false,
           "is_filter": true,
           "is_multivalue": false,
           "long_description": null,
           "type": "string"
          },
          "city_name": {
           "description": "GRID name of the organization country. E.g., \"Bethesda\" for `grid.419635.c <https://grid.ac/institutes/grid.419635.c>`_",
           "is_entity": false,
           "is_facet": true,
           "is_filter": true,
           "is_multivalue": false,
           "long_description": null,
           "type": "string"
          },
          "cnrs_ids": {
           "description": "CNRS IDs for this organization",
           "is_entity": false,
           "is_facet": false,
           "is_filter": true,
           "is_multivalue": true,
           "long_description": null,
           "type": "string"
          },
          "country_name": {
           "description": "GRID name of the organization country. E.g., \"Japan\" for `grid.26999.3d <https://grid.ac/institutes/grid.26999.3d>`_",
           "is_entity": false,
           "is_facet": true,
           "is_filter": true,
           "is_multivalue": false,
           "long_description": null,
           "type": "string"
          },
          "dimensions_url": {
           "description": "Link pointing to the Dimensions web application",
           "is_entity": false,
           "is_facet": false,
           "is_filter": false,
           "is_multivalue": false,
           "long_description": null,
           "type": "string"
          },
          "established": {
           "description": "Year when the organization was estabilished",
           "is_entity": false,
           "is_facet": false,
           "is_filter": true,
           "is_multivalue": false,
           "long_description": null,
           "type": "integer"
          },
          "external_ids_fundref": {
           "description": "Fundref IDs for this organization",
           "is_entity": false,
           "is_facet": false,
           "is_filter": true,
           "is_multivalue": true,
           "long_description": null,
           "type": "string"
          },
          "hesa_ids": {
           "description": "HESA IDs for this organization",
           "is_entity": false,
           "is_facet": false,
           "is_filter": true,
           "is_multivalue": true,
           "long_description": null,
           "type": "string"
          },
          "id": {
           "description": "GRID ID of the organization. E.g., \"grid.26999.3d\".",
           "is_entity": false,
           "is_facet": false,
           "is_filter": true,
           "is_multivalue": false,
           "long_description": null,
           "type": "string"
          },
          "isni_ids": {
           "description": "ISNI IDs for this organization",
           "is_entity": false,
           "is_facet": false,
           "is_filter": true,
           "is_multivalue": true,
           "long_description": null,
           "type": "string"
          },
          "latitude": {
           "description": null,
           "is_entity": false,
           "is_facet": false,
           "is_filter": false,
           "is_multivalue": false,
           "long_description": null,
           "type": "float"
          },
          "linkout": {
           "description": null,
           "is_entity": false,
           "is_facet": false,
           "is_filter": false,
           "is_multivalue": true,
           "long_description": null,
           "type": "string"
          },
          "longitude": {
           "description": null,
           "is_entity": false,
           "is_facet": false,
           "is_filter": false,
           "is_multivalue": false,
           "long_description": null,
           "type": "float"
          },
          "name": {
           "description": "GRID name of the organization. E.g., \"University of Tokyo\" for `grid.26999.3d <https://grid.ac/institutes/grid.26999.3d>`_",
           "is_entity": false,
           "is_facet": false,
           "is_filter": true,
           "is_multivalue": false,
           "long_description": null,
           "type": "string"
          },
          "nuts_level1_code": {
           "description": "Level 1 code for this organization, based on `Nomenclature of Territorial Units for Statistics <https://en.wikipedia.org/wiki/Nomenclature_of_Territorial_Units_for_Statistics>`_ (NUTS) codes of the European Union.",
           "is_entity": false,
           "is_facet": true,
           "is_filter": true,
           "is_multivalue": false,
           "long_description": null,
           "type": "string"
          },
          "nuts_level1_name": {
           "description": "Level 1 name for this organization, based on `Nomenclature of Territorial Units for Statistics <https://en.wikipedia.org/wiki/Nomenclature_of_Territorial_Units_for_Statistics>`_ (NUTS) codes of the European Union.",
           "is_entity": false,
           "is_facet": true,
           "is_filter": true,
           "is_multivalue": false,
           "long_description": null,
           "type": "string"
          },
          "nuts_level2_code": {
           "description": "Level 2 code for this organization, based on `Nomenclature of Territorial Units for Statistics <https://en.wikipedia.org/wiki/Nomenclature_of_Territorial_Units_for_Statistics>`_ (NUTS) codes of the European Union.",
           "is_entity": false,
           "is_facet": true,
           "is_filter": true,
           "is_multivalue": false,
           "long_description": null,
           "type": "string"
          },
          "nuts_level2_name": {
           "description": "Level 2 name for this organization, based on `Nomenclature of Territorial Units for Statistics <https://en.wikipedia.org/wiki/Nomenclature_of_Territorial_Units_for_Statistics>`_ (NUTS) codes of the European Union.",
           "is_entity": false,
           "is_facet": true,
           "is_filter": true,
           "is_multivalue": false,
           "long_description": null,
           "type": "string"
          },
          "nuts_level3_code": {
           "description": "Level 3 code for this organization, based on `Nomenclature of Territorial Units for Statistics <https://en.wikipedia.org/wiki/Nomenclature_of_Territorial_Units_for_Statistics>`_ (NUTS) codes of the European Union.",
           "is_entity": false,
           "is_facet": true,
           "is_filter": true,
           "is_multivalue": false,
           "long_description": null,
           "type": "string"
          },
          "nuts_level3_name": {
           "description": "Level 3 name for this organization, based on `Nomenclature of Territorial Units for Statistics <https://en.wikipedia.org/wiki/Nomenclature_of_Territorial_Units_for_Statistics>`_ (NUTS) codes of the European Union.",
           "is_entity": false,
           "is_facet": true,
           "is_filter": true,
           "is_multivalue": false,
           "long_description": null,
           "type": "string"
          },
          "organization_child_ids": {
           "description": "Child organization IDs",
           "is_entity": false,
           "is_facet": false,
           "is_filter": true,
           "is_multivalue": true,
           "long_description": null,
           "type": "string"
          },
          "organization_parent_ids": {
           "description": "Parent organization IDs",
           "is_entity": false,
           "is_facet": false,
           "is_filter": true,
           "is_multivalue": true,
           "long_description": null,
           "type": "string"
          },
          "organization_related_ids": {
           "description": "Related organization IDs",
           "is_entity": false,
           "is_facet": false,
           "is_filter": true,
           "is_multivalue": true,
           "long_description": null,
           "type": "string"
          },
          "orgref_ids": {
           "description": "OrgRef IDs for this organization",
           "is_entity": false,
           "is_facet": false,
           "is_filter": true,
           "is_multivalue": true,
           "long_description": null,
           "type": "string"
          },
          "redirect": {
           "description": "GRID ID of an organization this one was redirected to",
           "is_entity": false,
           "is_facet": false,
           "is_filter": true,
           "is_multivalue": false,
           "long_description": null,
           "type": "string"
          },
          "ror_ids": {
           "description": "ROR IDs for this organization",
           "is_entity": false,
           "is_facet": false,
           "is_filter": true,
           "is_multivalue": true,
           "long_description": null,
           "type": "string"
          },
          "state_name": {
           "description": "GRID name of the organization country. E.g., \"Maryland\" for `grid.419635.c <https://grid.ac/institutes/grid.419635.c>`_",
           "is_entity": false,
           "is_facet": true,
           "is_filter": true,
           "is_multivalue": false,
           "long_description": null,
           "type": "string"
          },
          "status": {
           "description": "Status of an organization. May be be one of:\n        \n        * `a`: active organization\n        * `o`: obsolete organization\n        * `r`: redirected organization, see field `redirect` to obtain the GRID ID of an organization this one was redirected to",
           "is_entity": false,
           "is_facet": true,
           "is_filter": true,
           "is_multivalue": false,
           "long_description": null,
           "type": "string"
          },
          "types": {
           "description": "Type of an organization. Available types include: ``Company``, ``Education``, ``Healthcare``, ``Nonprofit``, ``Facility``, ``Other``, ``Government``, ``Archive``, ``Education,Company``, ``Education,Facility``, ``Education,Healthcare``, ``Education,Other``, ``Archive,Nonprofit``. Furhter explanation is on the `GRID <https://www.grid.ac/pages/policies>`_ website.",
           "is_entity": false,
           "is_facet": true,
           "is_filter": true,
           "is_multivalue": true,
           "long_description": null,
           "type": "string"
          },
          "ucas_ids": {
           "description": "UCAS IDs for this organization",
           "is_entity": false,
           "is_facet": false,
           "is_filter": true,
           "is_multivalue": true,
           "long_description": null,
           "type": "string"
          },
          "ukprn_ids": {
           "description": "UKPRN IDs for this organization",
           "is_entity": false,
           "is_facet": false,
           "is_filter": true,
           "is_multivalue": true,
           "long_description": null,
           "type": "string"
          },
          "wikidata_ids": {
           "description": "WikiData IDs for this organization",
           "is_entity": false,
           "is_facet": false,
           "is_filter": true,
           "is_multivalue": true,
           "long_description": null,
           "type": "string"
          },
          "wikipedia_url": {
           "description": "Wikipedia URL",
           "is_entity": false,
           "is_facet": false,
           "is_filter": false,
           "is_multivalue": false,
           "long_description": null,
           "type": "string"
          }
         },
         "fieldsets": [
          "all",
          "basics",
          "nuts"
         ],
         "metrics": {
          "count": {
           "description": "Total count",
           "name": "count"
          }
         },
         "search_fields": [
          "full_data"
         ]
        },
        "patents": {
         "fields": {
          "abstract": {
           "description": "Abstract or description of the patent.",
           "is_entity": false,
           "is_facet": false,
           "is_filter": false,
           "is_multivalue": false,
           "long_description": null,
           "type": "string"
          },
          "additional_filters": {
           "description": "Additional filters describing the patents, e.g. whether it's about a 'Research Organisation', or it is part of the 'Orange Book'.",
           "is_entity": false,
           "is_facet": false,
           "is_filter": true,
           "is_multivalue": true,
           "long_description": null,
           "type": "string"
          },
          "assignee_cities": {
           "description": "City of the assignees of the patent, expressed as GeoNames ID and name (note: this value is extracted independently from GRID).",
           "is_entity": true,
           "is_facet": true,
           "is_filter": true,
           "is_multivalue": true,
           "long_description": null,
           "type": "cities"
          },
          "assignee_countries": {
           "description": "Country of the assignees of the patent, expressed as GeoNames code and name (note: this value is extracted independently from GRID).",
           "is_entity": true,
           "is_facet": true,
           "is_filter": true,
           "is_multivalue": true,
           "long_description": null,
           "type": "countries"
          },
          "assignee_names": {
           "description": "Name of assignees of the patent, as they appear in the original document.",
           "is_entity": false,
           "is_facet": false,
           "is_filter": true,
           "is_multivalue": true,
           "long_description": null,
           "type": "string"
          },
          "assignee_state_codes": {
           "description": "State of the assignee, expressed using GeoNames (ISO‌-3166-2) codes (note: this value is extracted independently from GRID).",
           "is_entity": true,
           "is_facet": true,
           "is_filter": true,
           "is_multivalue": true,
           "long_description": null,
           "type": "states"
          },
          "assignees": {
           "description": "Disambiguated GRID organisations who own or have owned the rights of a patent (note: this is a combination of `current_assignees` and `original_assignees` fields).",
           "is_entity": true,
           "is_facet": true,
           "is_filter": true,
           "is_multivalue": true,
           "long_description": null,
           "type": "organizations"
          },
          "associated_grant_ids": {
           "description": "Dimensions IDs of the grants associated to the patent (see also: :ref:`patents_model` section).",
           "is_entity": false,
           "is_facet": false,
           "is_filter": true,
           "is_multivalue": true,
           "long_description": null,
           "type": "string"
          },
          "category_bra": {
           "description": "`Broad Research Areas <https://dimensions.freshdesk.com/support/solutions/articles/23000018820-what-are-fields-of-research-and-other-classification-systems-and-how-are-they-created->`_",
           "is_entity": true,
           "is_facet": true,
           "is_filter": true,
           "is_multivalue": true,
           "long_description": null,
           "type": "categories"
          },
          "category_for": {
           "description": "`ANZSRC Fields of Research classification <https://dimensions.freshdesk.com/support/solutions/articles/23000018820-what-are-fields-of-research-and-other-classification-systems-and-how-are-they-created->`_",
           "is_entity": true,
           "is_facet": true,
           "is_filter": true,
           "is_multivalue": true,
           "long_description": null,
           "type": "categories"
          },
          "category_hra": {
           "description": "`Health Research Areas <https://dimensions.freshdesk.com/support/solutions/articles/23000018820-what-are-fields-of-research-and-other-classification-systems-and-how-are-they-created->`_",
           "is_entity": true,
           "is_facet": true,
           "is_filter": true,
           "is_multivalue": true,
           "long_description": null,
           "type": "categories"
          },
          "category_hrcs_hc": {
           "description": "`HRCS - Health Categories <https://dimensions.freshdesk.com/support/solutions/articles/23000018820-what-are-fields-of-research-and-other-classification-systems-and-how-are-they-created->`_",
           "is_entity": true,
           "is_facet": true,
           "is_filter": true,
           "is_multivalue": true,
           "long_description": null,
           "type": "categories"
          },
          "category_hrcs_rac": {
           "description": "`HRCS – Research Activity Codes <https://dimensions.freshdesk.com/support/solutions/articles/23000018820-what-are-fields-of-research-and-other-classification-systems-and-how-are-they-created->`_",
           "is_entity": true,
           "is_facet": true,
           "is_filter": true,
           "is_multivalue": true,
           "long_description": null,
           "type": "categories"
          },
          "category_icrp_cso": {
           "description": "`ICRP Common Scientific Outline <https://dimensions.freshdesk.com/support/solutions/articles/23000018820-what-are-fields-of-research-and-other-classification-systems-and-how-are-they-created->`_",
           "is_entity": true,
           "is_facet": true,
           "is_filter": true,
           "is_multivalue": true,
           "long_description": null,
           "type": "categories"
          },
          "category_icrp_ct": {
           "description": "`ICRP Cancer Types <https://dimensions.freshdesk.com/support/solutions/articles/23000018820-what-are-fields-of-research-and-other-classification-systems-and-how-are-they-created->`_",
           "is_entity": true,
           "is_facet": true,
           "is_filter": true,
           "is_multivalue": true,
           "long_description": null,
           "type": "categories"
          },
          "category_rcdc": {
           "description": "`Research, Condition, and Disease Categorization <https://dimensions.freshdesk.com/support/solutions/articles/23000018820-what-are-fields-of-research-and-other-classification-systems-and-how-are-they-created->`_",
           "is_entity": true,
           "is_facet": true,
           "is_filter": true,
           "is_multivalue": true,
           "long_description": null,
           "type": "categories"
          },
          "cited_by_ids": {
           "description": "Dimensions IDs of the patents that cite this patent (see also: :ref:`patents_model` section).",
           "is_entity": false,
           "is_facet": false,
           "is_filter": true,
           "is_multivalue": true,
           "long_description": null,
           "type": "string"
          },
          "cpc": {
           "description": "`Cooperative Patent Classification Categorization <https://www.epo.org/searching-for-patents/helpful-resources/first-time-here/classification/cpc.html>`_.",
           "is_entity": false,
           "is_facet": true,
           "is_filter": true,
           "is_multivalue": true,
           "long_description": null,
           "type": "string"
          },
          "current_assignee_names": {
           "description": "Names of the organisations currently holding the patent, as they appear in the original document.",
           "is_entity": false,
           "is_facet": false,
           "is_filter": true,
           "is_multivalue": true,
           "long_description": null,
           "type": "string"
          },
          "current_assignees": {
           "description": "Disambiguated GRID organisations currenlty owning the patent.",
           "is_entity": true,
           "is_facet": true,
           "is_filter": true,
           "is_multivalue": true,
           "long_description": null,
           "type": "organizations"
          },
          "date": {
           "description": "Date when the patent was filed.",
           "is_entity": false,
           "is_facet": false,
           "is_filter": true,
           "is_multivalue": false,
           "long_description": null,
           "type": "date"
          },
          "date_inserted": {
           "description": "Date when the record was inserted into Dimensions (note: this field does not support exact match on the data, only range filters e.g. `<=` or `>=`).",
           "is_entity": false,
           "is_facet": false,
           "is_filter": true,
           "is_multivalue": false,
           "long_description": null,
           "type": "date"
          },
          "dimensions_url": {
           "description": "Link pointing to the Dimensions web application",
           "is_entity": false,
           "is_facet": false,
           "is_filter": false,
           "is_multivalue": false,
           "long_description": null,
           "type": "string"
          },
          "expiration_date": {
           "description": "Date when the patent expires.",
           "is_entity": false,
           "is_facet": false,
           "is_filter": true,
           "is_multivalue": false,
           "long_description": null,
           "type": "date"
          },
          "filing_status": {
           "description": "Filing Status of the patent e.g. 'Application' or 'Grant'.",
           "is_entity": false,
           "is_facet": false,
           "is_filter": true,
           "is_multivalue": false,
           "long_description": null,
           "type": "string"
          },
          "funder_countries": {
           "description": "The country of the funding organisation (note: currently this information is available only for US patents).",
           "is_entity": true,
           "is_facet": true,
           "is_filter": true,
           "is_multivalue": true,
           "long_description": null,
           "type": "countries"
          },
          "funders": {
           "description": "GRID organisations funding the patent.",
           "is_entity": true,
           "is_facet": true,
           "is_filter": true,
           "is_multivalue": true,
           "long_description": null,
           "type": "organizations"
          },
          "granted_date": {
           "description": "The date on which the official body grants the patent.",
           "is_entity": false,
           "is_facet": false,
           "is_filter": true,
           "is_multivalue": false,
           "long_description": null,
           "type": "date"
          },
          "granted_year": {
           "description": "The year on which the official body grants the patent.",
           "is_entity": false,
           "is_facet": true,
           "is_filter": true,
           "is_multivalue": false,
           "long_description": null,
           "type": "integer"
          },
          "id": {
           "description": "Dimensions patent ID",
           "is_entity": false,
           "is_facet": false,
           "is_filter": true,
           "is_multivalue": false,
           "long_description": null,
           "type": "string"
          },
          "inventor_names": {
           "description": "Names of the people who invented the patent.",
           "is_entity": false,
           "is_facet": false,
           "is_filter": true,
           "is_multivalue": false,
           "long_description": null,
           "type": "string"
          },
          "ipcr": {
           "description": "`International Patent Classification Reform Categorization <https://www.wipo.int/classifications/ipc/en/faq/>`_.",
           "is_entity": false,
           "is_facet": true,
           "is_filter": true,
           "is_multivalue": true,
           "long_description": null,
           "type": "string"
          },
          "jurisdiction": {
           "description": "The jurisdiction where the patent was granted, e.g. 'US', 'DE', 'EP'...",
           "is_entity": false,
           "is_facet": true,
           "is_filter": true,
           "is_multivalue": false,
           "long_description": null,
           "type": "string"
          },
          "legal_status": {
           "description": "The legal status of the patent, e.g. 'Granted', 'Active', 'Abandoned' etc..",
           "is_entity": false,
           "is_facet": false,
           "is_filter": true,
           "is_multivalue": false,
           "long_description": null,
           "type": "string"
          },
          "original_assignee_names": {
           "description": "Name of the organisations that first owned the patent, as they appear in the original document.",
           "is_entity": false,
           "is_facet": false,
           "is_filter": true,
           "is_multivalue": true,
           "long_description": null,
           "type": "string"
          },
          "original_assignees": {
           "description": "Disambiguated GRID organisations that first owned the patent.",
           "is_entity": true,
           "is_facet": true,
           "is_filter": true,
           "is_multivalue": true,
           "long_description": null,
           "type": "organizations"
          },
          "priority_date": {
           "description": "The earliest filing date in a family of patent applications.",
           "is_entity": false,
           "is_facet": false,
           "is_filter": true,
           "is_multivalue": false,
           "long_description": null,
           "type": "date"
          },
          "priority_year": {
           "description": "The filing year of the earliest application of which priority is claimed.",
           "is_entity": false,
           "is_facet": true,
           "is_filter": true,
           "is_multivalue": false,
           "long_description": null,
           "type": "integer"
          },
          "publication_date": {
           "description": "Date of publication of a patent.",
           "is_entity": false,
           "is_facet": false,
           "is_filter": true,
           "is_multivalue": false,
           "long_description": null,
           "type": "date"
          },
          "publication_ids": {
           "description": "Dimensions IDs of the publications related to this patent (see also: :ref:`patents_model` section).",
           "is_entity": false,
           "is_facet": false,
           "is_filter": true,
           "is_multivalue": true,
           "long_description": null,
           "type": "string"
          },
          "publication_year": {
           "description": "Year of publication of a patent.",
           "is_entity": false,
           "is_facet": true,
           "is_filter": true,
           "is_multivalue": false,
           "long_description": null,
           "type": "integer"
          },
          "publications": {
           "description": "Publication IDs of the publications related to this patent (see also: :ref:`patents_model` section).",
           "is_entity": true,
           "is_facet": true,
           "is_filter": true,
           "is_multivalue": true,
           "long_description": null,
           "type": "publication_links"
          },
          "reference_ids": {
           "description": "Dimensions IDs of the patents which are cited by this patent (see also: :ref:`patents_model` section).",
           "is_entity": false,
           "is_facet": false,
           "is_filter": true,
           "is_multivalue": true,
           "long_description": null,
           "type": "string"
          },
          "researchers": {
           "description": "Researcher IDs matched to the patent's inventors list. (note: this returns only the disambiguated inventors of a patent; in order to get the full list of inventors, the field `inventors` should be used).",
           "is_entity": true,
           "is_facet": true,
           "is_filter": true,
           "is_multivalue": true,
           "long_description": null,
           "type": "researchers"
          },
          "times_cited": {
           "description": "The number of times the patent has been cited by other patents.",
           "is_entity": false,
           "is_facet": true,
           "is_filter": true,
           "is_multivalue": false,
           "long_description": null,
           "type": "integer"
          },
          "title": {
           "description": "The title of the patent.",
           "is_entity": false,
           "is_facet": false,
           "is_filter": false,
           "is_multivalue": false,
           "long_description": null,
           "type": "string"
          },
          "year": {
           "description": "The year the patent was filed.",
           "is_entity": false,
           "is_facet": true,
           "is_filter": true,
           "is_multivalue": false,
           "long_description": null,
           "type": "integer"
          }
         },
         "fieldsets": [
          "all",
          "basics",
          "extras",
          "categories"
         ],
         "metrics": {
          "count": {
           "description": "Total count",
           "name": "count"
          }
         },
         "search_fields": [
          "title_abstract_only",
          "title_only",
          "full_data",
          "inventors"
         ]
        },
        "policy_documents": {
         "fields": {
          "category_bra": {
           "description": "`Broad Research Areas <https://dimensions.freshdesk.com/support/solutions/articles/23000018820-what-are-fields-of-research-and-other-classification-systems-and-how-are-they-created->`_",
           "is_entity": true,
           "is_facet": true,
           "is_filter": true,
           "is_multivalue": true,
           "long_description": null,
           "type": "categories"
          },
          "category_for": {
           "description": "`ANZSRC Fields of Research classification <https://dimensions.freshdesk.com/support/solutions/articles/23000018820-what-are-fields-of-research-and-other-classification-systems-and-how-are-they-created->`_",
           "is_entity": true,
           "is_facet": true,
           "is_filter": true,
           "is_multivalue": true,
           "long_description": null,
           "type": "categories"
          },
          "category_hra": {
           "description": "`Health Research Areas <https://dimensions.freshdesk.com/support/solutions/articles/23000018820-what-are-fields-of-research-and-other-classification-systems-and-how-are-they-created->`_",
           "is_entity": true,
           "is_facet": true,
           "is_filter": true,
           "is_multivalue": true,
           "long_description": null,
           "type": "categories"
          },
          "category_hrcs_hc": {
           "description": "`HRCS - Health Categories <https://dimensions.freshdesk.com/support/solutions/articles/23000018820-what-are-fields-of-research-and-other-classification-systems-and-how-are-they-created->`_",
           "is_entity": true,
           "is_facet": true,
           "is_filter": true,
           "is_multivalue": true,
           "long_description": null,
           "type": "categories"
          },
          "category_hrcs_rac": {
           "description": "`HRCS – Research Activity Codes <https://dimensions.freshdesk.com/support/solutions/articles/23000018820-what-are-fields-of-research-and-other-classification-systems-and-how-are-they-created->`_",
           "is_entity": true,
           "is_facet": true,
           "is_filter": true,
           "is_multivalue": true,
           "long_description": null,
           "type": "categories"
          },
          "category_icrp_cso": {
           "description": "`ICRP Common Scientific Outline <https://dimensions.freshdesk.com/support/solutions/articles/23000018820-what-are-fields-of-research-and-other-classification-systems-and-how-are-they-created->`_",
           "is_entity": true,
           "is_facet": true,
           "is_filter": true,
           "is_multivalue": true,
           "long_description": null,
           "type": "categories"
          },
          "category_icrp_ct": {
           "description": "`ICRP Cancer Types <https://dimensions.freshdesk.com/support/solutions/articles/23000018820-what-are-fields-of-research-and-other-classification-systems-and-how-are-they-created->`_",
           "is_entity": true,
           "is_facet": true,
           "is_filter": true,
           "is_multivalue": true,
           "long_description": null,
           "type": "categories"
          },
          "category_rcdc": {
           "description": "`Research, Condition, and Disease Categorization <https://dimensions.freshdesk.com/support/solutions/articles/23000018820-what-are-fields-of-research-and-other-classification-systems-and-how-are-they-created->`_",
           "is_entity": true,
           "is_facet": true,
           "is_filter": true,
           "is_multivalue": true,
           "long_description": null,
           "type": "categories"
          },
          "date_inserted": {
           "description": "Date when the record was inserted into Dimensions (note: this field does not support exact match on the data, only range filters e.g. `<=` or `>=`).",
           "is_entity": false,
           "is_facet": false,
           "is_filter": true,
           "is_multivalue": false,
           "long_description": null,
           "type": "date"
          },
          "dimensions_url": {
           "description": "Link pointing to the Dimensions web application",
           "is_entity": false,
           "is_facet": false,
           "is_filter": false,
           "is_multivalue": false,
           "long_description": null,
           "type": "string"
          },
          "id": {
           "description": "Dimensions policy document ID",
           "is_entity": false,
           "is_facet": false,
           "is_filter": true,
           "is_multivalue": false,
           "long_description": null,
           "type": "string"
          },
          "linkout": {
           "description": "Original URL for the policy document.",
           "is_entity": false,
           "is_facet": false,
           "is_filter": false,
           "is_multivalue": false,
           "long_description": null,
           "type": "string"
          },
          "publication_ids": {
           "description": "Dimensions IDs of the publications related to this policy document (see also: :ref:`policy_documents_model` section).",
           "is_entity": false,
           "is_facet": false,
           "is_filter": true,
           "is_multivalue": true,
           "long_description": null,
           "type": "string"
          },
          "publications": {
           "description": "Publication IDs of the publications related to this policy document (see also: :ref:`policy_documents_model` section).",
           "is_entity": true,
           "is_facet": true,
           "is_filter": true,
           "is_multivalue": true,
           "long_description": null,
           "type": "publication_links"
          },
          "publisher_org": {
           "description": "GRID organization publishing the policy document.",
           "is_entity": true,
           "is_facet": true,
           "is_filter": true,
           "is_multivalue": false,
           "long_description": null,
           "type": "organizations"
          },
          "publisher_org_city": {
           "description": "City of the organization publishing the policy document.",
           "is_entity": true,
           "is_facet": true,
           "is_filter": true,
           "is_multivalue": false,
           "long_description": null,
           "type": "cities"
          },
          "publisher_org_country": {
           "description": "Country of the organization publishing the policy document.",
           "is_entity": true,
           "is_facet": true,
           "is_filter": true,
           "is_multivalue": false,
           "long_description": null,
           "type": "countries"
          },
          "publisher_org_state": {
           "description": "State of the organization publishing the policy document.",
           "is_entity": true,
           "is_facet": true,
           "is_filter": true,
           "is_multivalue": false,
           "long_description": null,
           "type": "states"
          },
          "title": {
           "description": "Title of the policy document.",
           "is_entity": false,
           "is_facet": false,
           "is_filter": true,
           "is_multivalue": false,
           "long_description": null,
           "type": "string"
          },
          "year": {
           "description": "Year of publication of the policy document.",
           "is_entity": false,
           "is_facet": true,
           "is_filter": true,
           "is_multivalue": false,
           "long_description": null,
           "type": "integer"
          }
         },
         "fieldsets": [
          "all",
          "basics",
          "categories"
         ],
         "metrics": {
          "count": {
           "description": "Total count",
           "name": "count"
          }
         },
         "search_fields": [
          "title_only",
          "full_data"
         ]
        },
        "publications": {
         "fields": {
          "altmetric": {
           "description": "Altmetric attention score.",
           "is_entity": false,
           "is_facet": false,
           "is_filter": true,
           "is_multivalue": false,
           "long_description": null,
           "type": "float"
          },
          "altmetric_id": {
           "description": "AltMetric Publication ID",
           "is_entity": false,
           "is_facet": false,
           "is_filter": true,
           "is_multivalue": false,
           "long_description": null,
           "type": "integer"
          },
          "authors": {
           "description": "Ordered list of authors names and their affiliations, as they appear in the original publication. The list can include researcher and organization identifiers, when available (note: in order to search for disambiguated authors, use the `in researchers` syntax).",
           "is_entity": false,
           "is_facet": false,
           "is_filter": true,
           "is_multivalue": true,
           "long_description": "Returned objects contain: ``first_name``, ``last_name``, ``corresponding``, ``orcid``, ``current_organization_id``, ``researcher_id``, ``affiliations``.\n\n        For example:\n        \n        .. code-block:: json\n        \n                {\n                    \"affiliations\": [\n                        {\n                            \"city\": \"Guangzhou\",\n                            \"city_id\": 1809858,\n                            \"country\": \"China\",\n                            \"country_code\": \"CN\",\n                            \"id\": \"grid.12981.33\",\n                            \"name\": \"Sun Yat-sen University\",\n                            \"state\": null,\n                            \"state_code\": null\n                        },\n                        {\n                            \"city\": \"Guangzhou\",\n                            \"city_id\": 1809858,\n                            \"country\": \"China\",\n                            \"country_code\": \"CN\",\n                            \"id\": \"grid.12981.33\",\n                            \"name\": \"Sun Yat-sen University\",\n                            \"state\": null,\n                            \"state_code\": null\n                        }\n                    ],\n                    \"corresponding\": \"\",\n                    \"current_organization_id\": \"grid.12981.33\",\n                    \"first_name\": \"Jing\",\n                    \"initials\": \"\",\n                    \"last_name\": \"Liao\",\n                    \"orcid\": \"\",\n                    \"researcher_id\": \"ur.011340254500.49\"\n                }",
           "type": "json"
          },
          "book_doi": {
           "description": "The DOI of the book a chapter belongs to (note: this field is available only for chapters).",
           "is_entity": false,
           "is_facet": false,
           "is_filter": true,
           "is_multivalue": false,
           "long_description": null,
           "type": "string"
          },
          "book_series_title": {
           "description": "The title of the book series book, belong to.",
           "is_entity": false,
           "is_facet": false,
           "is_filter": false,
           "is_multivalue": false,
           "long_description": null,
           "type": "string"
          },
          "book_title": {
           "description": "The title of the book a chapter belongs to (note: this field is available only for chapters).",
           "is_entity": false,
           "is_facet": false,
           "is_filter": false,
           "is_multivalue": false,
           "long_description": null,
           "type": "string"
          },
          "category_bra": {
           "description": "`Broad Research Areas <https://dimensions.freshdesk.com/support/solutions/articles/23000018820-what-are-fields-of-research-and-other-classification-systems-and-how-are-they-created->`_",
           "is_entity": true,
           "is_facet": true,
           "is_filter": true,
           "is_multivalue": true,
           "long_description": null,
           "type": "categories"
          },
          "category_for": {
           "description": "`ANZSRC Fields of Research classification <https://dimensions.freshdesk.com/support/solutions/articles/23000018820-what-are-fields-of-research-and-other-classification-systems-and-how-are-they-created->`_",
           "is_entity": true,
           "is_facet": true,
           "is_filter": true,
           "is_multivalue": true,
           "long_description": null,
           "type": "categories"
          },
          "category_hra": {
           "description": "`Health Research Areas <https://dimensions.freshdesk.com/support/solutions/articles/23000018820-what-are-fields-of-research-and-other-classification-systems-and-how-are-they-created->`_",
           "is_entity": true,
           "is_facet": true,
           "is_filter": true,
           "is_multivalue": true,
           "long_description": null,
           "type": "categories"
          },
          "category_hrcs_hc": {
           "description": "`HRCS - Health Categories <https://dimensions.freshdesk.com/support/solutions/articles/23000018820-what-are-fields-of-research-and-other-classification-systems-and-how-are-they-created->`_",
           "is_entity": true,
           "is_facet": true,
           "is_filter": true,
           "is_multivalue": true,
           "long_description": null,
           "type": "categories"
          },
          "category_hrcs_rac": {
           "description": "`HRCS – Research Activity Codes <https://dimensions.freshdesk.com/support/solutions/articles/23000018820-what-are-fields-of-research-and-other-classification-systems-and-how-are-they-created->`_",
           "is_entity": true,
           "is_facet": true,
           "is_filter": true,
           "is_multivalue": true,
           "long_description": null,
           "type": "categories"
          },
          "category_icrp_cso": {
           "description": "`ICRP Common Scientific Outline <https://dimensions.freshdesk.com/support/solutions/articles/23000018820-what-are-fields-of-research-and-other-classification-systems-and-how-are-they-created->`_",
           "is_entity": true,
           "is_facet": true,
           "is_filter": true,
           "is_multivalue": true,
           "long_description": null,
           "type": "categories"
          },
          "category_icrp_ct": {
           "description": "`ICRP Cancer Types <https://dimensions.freshdesk.com/support/solutions/articles/23000018820-what-are-fields-of-research-and-other-classification-systems-and-how-are-they-created->`_",
           "is_entity": true,
           "is_facet": true,
           "is_filter": true,
           "is_multivalue": true,
           "long_description": null,
           "type": "categories"
          },
          "category_rcdc": {
           "description": "`Research, Condition, and Disease Categorization <https://dimensions.freshdesk.com/support/solutions/articles/23000018820-what-are-fields-of-research-and-other-classification-systems-and-how-are-they-created->`_",
           "is_entity": true,
           "is_facet": true,
           "is_filter": true,
           "is_multivalue": true,
           "long_description": null,
           "type": "categories"
          },
          "category_sdg": {
           "description": "SDG - Sustainable Development Goals",
           "is_entity": true,
           "is_facet": true,
           "is_filter": true,
           "is_multivalue": true,
           "long_description": null,
           "type": "categories"
          },
          "category_uoa": {
           "description": "`Units of Assessment <https://dimensions.freshdesk.com/support/solutions/articles/23000018820-what-are-fields-of-research-and-other-classification-systems-and-how-are-they-created->`_",
           "is_entity": true,
           "is_facet": true,
           "is_filter": true,
           "is_multivalue": true,
           "long_description": null,
           "type": "categories"
          },
          "concepts": {
           "description": "Concepts describing the main topics of a publication (note: automatically derived from the publication text using machine learning).",
           "is_entity": false,
           "is_facet": false,
           "is_filter": true,
           "is_multivalue": false,
           "long_description": null,
           "type": "json"
          },
          "concepts_scores": {
           "description": "Relevancy scores for `concepts`.",
           "is_entity": false,
           "is_facet": false,
           "is_filter": true,
           "is_multivalue": false,
           "long_description": "Returned objects contain: ``concept``, ``relevance``.\n                                            \n                                            For example:\n                                            \n    .. code-block:: json\n    \n        {\n            \"concepts_scores\": [\n                {\n                  \"concept\": \"professional relations\",\n                  \"relevance\": 0.08789352253426701\n                },\n                {\n                  \"concept\": \"relation\",\n                  \"relevance\": 0.062333122509877006\n                },\n                {\n                  \"concept\": \"representation\",\n                  \"relevance\": 0.025851134800039\n                },\n                {\n                  \"concept\": \"skald\",\n                  \"relevance\": 6.984149644517923e-05\n                },\n                {\n                  \"concept\": \"Representations of Skalds\",\n                  \"relevance\": 0.0\n                },\n                {\n                  \"concept\": \"Sagas 1\",\n                  \"relevance\": 0.0\n                }\n            ]\n        }",
           "type": "json"
          },
          "date": {
           "description": "The publication date of a document, eg \"2018-01-01\" (note: dates can sometimes be incomplete and include only the month or the year).",
           "is_entity": false,
           "is_facet": false,
           "is_filter": true,
           "is_multivalue": false,
           "long_description": null,
           "type": "date"
          },
          "date_inserted": {
           "description": "Date when the record was inserted into Dimensions (note: this field does not support exact match on the data, only range filters e.g. `<=` or `>=').",
           "is_entity": false,
           "is_facet": false,
           "is_filter": true,
           "is_multivalue": false,
           "long_description": null,
           "type": "date"
          },
          "dimensions_url": {
           "description": "Link pointing to the Dimensions web application",
           "is_entity": false,
           "is_facet": false,
           "is_filter": false,
           "is_multivalue": false,
           "long_description": null,
           "type": "string"
          },
          "doi": {
           "description": "Digital object identifier.",
           "is_entity": false,
           "is_facet": false,
           "is_filter": true,
           "is_multivalue": false,
           "long_description": null,
           "type": "string"
          },
          "field_citation_ratio": {
           "description": "Relative citation performance of article when compared to similarly aged articles in its area of research (note: does not support emptiness filters).",
           "is_entity": false,
           "is_facet": false,
           "is_filter": true,
           "is_multivalue": false,
           "long_description": null,
           "type": "float"
          },
          "funder_countries": {
           "description": "The country of the organisations funding this publication.",
           "is_entity": true,
           "is_facet": true,
           "is_filter": true,
           "is_multivalue": true,
           "long_description": null,
           "type": "countries"
          },
          "funders": {
           "description": "The GRID organisation funding this publication.",
           "is_entity": true,
           "is_facet": true,
           "is_filter": true,
           "is_multivalue": true,
           "long_description": null,
           "type": "organizations"
          },
          "id": {
           "description": "Dimensions publication ID.",
           "is_entity": false,
           "is_facet": false,
           "is_filter": true,
           "is_multivalue": false,
           "long_description": null,
           "type": "string"
          },
          "issn": {
           "description": "International Standard Serial Number",
           "is_entity": false,
           "is_facet": false,
           "is_filter": true,
           "is_multivalue": true,
           "long_description": null,
           "type": "string"
          },
          "issue": {
           "description": "The issue number of a publication.",
           "is_entity": false,
           "is_facet": false,
           "is_filter": true,
           "is_multivalue": false,
           "long_description": null,
           "type": "string"
          },
          "journal": {
           "description": "The journal a publication belongs to.",
           "is_entity": true,
           "is_facet": true,
           "is_filter": true,
           "is_multivalue": false,
           "long_description": null,
           "type": "journals"
          },
          "journal_lists": {
           "description": "Independent grouping of journals outside of Dimensions, e.g. 'ERA 2015' or 'Norwegian register level 1'.",
           "is_entity": false,
           "is_facet": true,
           "is_filter": true,
           "is_multivalue": true,
           "long_description": null,
           "type": "string"
          },
          "linkout": {
           "description": "Original URL for a publication full text.",
           "is_entity": false,
           "is_facet": false,
           "is_filter": false,
           "is_multivalue": false,
           "long_description": null,
           "type": "string"
          },
          "mesh_terms": {
           "description": "Medical Subject Heading terms as used in PubMed.",
           "is_entity": false,
           "is_facet": true,
           "is_filter": true,
           "is_multivalue": true,
           "long_description": null,
           "type": "string"
          },
          "open_access_categories": {
           "description": "Open Access categories for publications. See below for more examples.",
           "is_entity": true,
           "is_facet": true,
           "is_filter": true,
           "is_multivalue": true,
           "long_description": "Open Access category data for publications values:\n\n        * `oa_all`: Article is freely available\n        * `gold_pure`: Version Of Record (VOR) is free under an open licence from a full OA journal\n        * `gold_hybrid`: Version Of Record (VOR) is free under an open licence in a paid-access journal\n        * `gold_bronze`: Freely available on publisher page, but without an open licence\n        * `green_pub`: Free copy of published version in an OA repository\n        * `green_acc`: Free copy of accepted version in an OA repository\n        * `green_sub`: Free copy of submitted version, or where version is unknown, in an OA repository\n        * `closed`: No freely available copy has been identified",
           "type": "open_access"
          },
          "pages": {
           "description": "The pages of the publication, as they would appear in a citation record.",
           "is_entity": false,
           "is_facet": false,
           "is_filter": true,
           "is_multivalue": false,
           "long_description": null,
           "type": "string"
          },
          "pmcid": {
           "description": "PubMed Central ID.",
           "is_entity": false,
           "is_facet": false,
           "is_filter": true,
           "is_multivalue": false,
           "long_description": null,
           "type": "string"
          },
          "pmid": {
           "description": "PubMed ID.",
           "is_entity": false,
           "is_facet": false,
           "is_filter": true,
           "is_multivalue": false,
           "long_description": null,
           "type": "string"
          },
          "proceedings_title": {
           "description": "Title of the conference proceedings volume associated to a publication.",
           "is_entity": false,
           "is_facet": false,
           "is_filter": false,
           "is_multivalue": false,
           "long_description": null,
           "type": "string"
          },
          "publisher": {
           "description": "Name of the publisher as a string.",
           "is_entity": false,
           "is_facet": true,
           "is_filter": true,
           "is_multivalue": false,
           "long_description": null,
           "type": "string"
          },
          "recent_citations": {
           "description": "Number of citations received in the last two years. Does not support emptiness filters",
           "is_entity": false,
           "is_facet": false,
           "is_filter": true,
           "is_multivalue": false,
           "long_description": null,
           "type": "integer"
          },
          "reference_ids": {
           "description": "Dimensions publication ID for publications in the references list, i.e. outgoing citations (see also: :ref:`publications_model` section).",
           "is_entity": false,
           "is_facet": false,
           "is_filter": true,
           "is_multivalue": true,
           "long_description": null,
           "type": "string"
          },
          "referenced_pubs": {
           "description": "Publication IDs of the publications in the references list, i.e. outgoing citations.",
           "is_entity": true,
           "is_facet": true,
           "is_filter": true,
           "is_multivalue": true,
           "long_description": null,
           "type": "publication_links"
          },
          "relative_citation_ratio": {
           "description": "Relative citation performance of an article when compared to others in its area of research (note: does not support emptiness filters).",
           "is_entity": false,
           "is_facet": false,
           "is_filter": true,
           "is_multivalue": false,
           "long_description": null,
           "type": "float"
          },
          "research_org_cities": {
           "description": "City of the organisations authors are affiliated to, expressed as GeoNames ID and name.",
           "is_entity": true,
           "is_facet": true,
           "is_filter": true,
           "is_multivalue": true,
           "long_description": null,
           "type": "cities"
          },
          "research_org_countries": {
           "description": "Country of the organisations authors are affiliated to, identified using GeoNames codes (note: this field supports :ref:`filter-functions`: ``count``).",
           "is_entity": true,
           "is_facet": true,
           "is_filter": true,
           "is_multivalue": true,
           "long_description": null,
           "type": "countries"
          },
          "research_org_country_names": {
           "description": "Country name of the organisations authors are affiliated to, as a string.",
           "is_entity": false,
           "is_facet": false,
           "is_filter": true,
           "is_multivalue": true,
           "long_description": null,
           "type": "string"
          },
          "research_org_names": {
           "description": "Names of organizations authors are affiliated to.",
           "is_entity": false,
           "is_facet": false,
           "is_filter": true,
           "is_multivalue": true,
           "long_description": null,
           "type": "string"
          },
          "research_org_state_codes": {
           "description": "State of the organisations authors are affiliated to, expressed as GeoNames codes (ISO‌-3166-2).",
           "is_entity": true,
           "is_facet": true,
           "is_filter": true,
           "is_multivalue": true,
           "long_description": null,
           "type": "states"
          },
          "research_org_state_names": {
           "description": "State name of the organisations authors are affiliated to, as a string.",
           "is_entity": false,
           "is_facet": false,
           "is_filter": true,
           "is_multivalue": true,
           "long_description": null,
           "type": "string"
          },
          "research_orgs": {
           "description": "GRID organisations associated to a publication. Identifiers are automatically extracted from author affiliations text, so they can be missing in some cases (note: this field supports :ref:`filter-functions`: ``count``).",
           "is_entity": true,
           "is_facet": true,
           "is_filter": true,
           "is_multivalue": true,
           "long_description": null,
           "type": "organizations"
          },
          "researchers": {
           "description": "Researcher IDs matched to the publication's authors list. (note: this returns only the disambiguated authors of a publication; in order to get the full authors list, the field `authors` should be used). This field supports :ref:`filter-functions`: ``count``.",
           "is_entity": true,
           "is_facet": true,
           "is_filter": true,
           "is_multivalue": true,
           "long_description": null,
           "type": "researchers"
          },
          "resulting_publication_doi": {
           "description": "For preprints, the DOIs of the resulting full publications.",
           "is_entity": false,
           "is_facet": false,
           "is_filter": true,
           "is_multivalue": false,
           "long_description": null,
           "type": "string"
          },
          "supporting_grant_ids": {
           "description": "Grants supporting a publication, returned as a list of dimensions grants IDs  (see also: :ref:`publications_model` section).",
           "is_entity": false,
           "is_facet": false,
           "is_filter": true,
           "is_multivalue": true,
           "long_description": null,
           "type": "string"
          },
          "times_cited": {
           "description": "Number of citations (note: does not support emptiness filters).",
           "is_entity": false,
           "is_facet": true,
           "is_filter": true,
           "is_multivalue": false,
           "long_description": null,
           "type": "integer"
          },
          "title": {
           "description": "Title of a publication.",
           "is_entity": false,
           "is_facet": false,
           "is_filter": false,
           "is_multivalue": false,
           "long_description": null,
           "type": "string"
          },
          "type": {
           "description": "Publication type (one of: article, chapter, proceeding, monograph, preprint or book).",
           "is_entity": false,
           "is_facet": true,
           "is_filter": true,
           "is_multivalue": false,
           "long_description": null,
           "type": "string"
          },
          "volume": {
           "description": "Publication volume.",
           "is_entity": false,
           "is_facet": false,
           "is_filter": true,
           "is_multivalue": false,
           "long_description": null,
           "type": "string"
          },
          "year": {
           "description": "The year of publication (note: when the `date` field is available, this is equal to the year part of the full date).",
           "is_entity": false,
           "is_facet": true,
           "is_filter": true,
           "is_multivalue": false,
           "long_description": null,
           "type": "integer"
          }
         },
         "fieldsets": [
          "all",
          "basics",
          "extras",
          "book",
          "categories"
         ],
         "metrics": {
          "altmetric_avg": {
           "description": "Altmetric attention score mean",
           "name": "altmetric_avg"
          },
          "altmetric_median": {
           "description": "Median Altmetric attention score",
           "name": "altmetric_median"
          },
          "citations_avg": {
           "description": "Arithmetic mean of citations",
           "name": "citations_avg"
          },
          "citations_median": {
           "description": "Median of citations",
           "name": "citations_median"
          },
          "citations_total": {
           "description": "Aggregated number of citations",
           "name": "citations_total"
          },
          "count": {
           "description": "Total count",
           "name": "count"
          },
          "fcr_gavg": {
           "description": "Geometric mean of `field_citation_ratio` field (note: This field cannot be used for sorting results).",
           "name": "fcr_gavg"
          },
          "rcr_avg": {
           "description": "Arithmetic mean of `relative_citation_ratio` field.",
           "name": "rcr_avg"
          },
          "recent_citations_total": {
           "description": "For a given article, in a given year, the number of citations accrued in the last two year period. Single value stored per document, year window rolls over in July.",
           "name": "recent_citations_total"
          }
         },
         "search_fields": [
          "title_only",
          "full_data_exact",
          "title_abstract_only",
          "full_data",
          "concepts",
          "authors"
         ]
        },
        "researchers": {
         "fields": {
          "current_research_org": {
           "description": "The most recent research organization linked to the researcher.",
           "is_entity": true,
           "is_facet": true,
           "is_filter": true,
           "is_multivalue": false,
           "long_description": null,
           "type": "organizations"
          },
          "dimensions_url": {
           "description": "Link pointing to the Dimensions web application",
           "is_entity": false,
           "is_facet": false,
           "is_filter": false,
           "is_multivalue": false,
           "long_description": null,
           "type": "string"
          },
          "first_grant_year": {
           "description": "First year the researcher was awarded a grant.",
           "is_entity": false,
           "is_facet": true,
           "is_filter": true,
           "is_multivalue": false,
           "long_description": null,
           "type": "integer"
          },
          "first_name": {
           "description": "First Name.",
           "is_entity": false,
           "is_facet": false,
           "is_filter": true,
           "is_multivalue": false,
           "long_description": null,
           "type": "string"
          },
          "first_publication_year": {
           "description": null,
           "is_entity": false,
           "is_facet": true,
           "is_filter": true,
           "is_multivalue": false,
           "long_description": null,
           "type": "integer"
          },
          "id": {
           "description": "Dimensions researcher ID.",
           "is_entity": false,
           "is_facet": false,
           "is_filter": true,
           "is_multivalue": false,
           "long_description": null,
           "type": "string"
          },
          "last_grant_year": {
           "description": "Last year the researcher was awarded a grant.",
           "is_entity": false,
           "is_facet": true,
           "is_filter": true,
           "is_multivalue": false,
           "long_description": null,
           "type": "integer"
          },
          "last_name": {
           "description": "Last Name.",
           "is_entity": false,
           "is_facet": false,
           "is_filter": true,
           "is_multivalue": false,
           "long_description": null,
           "type": "string"
          },
          "last_publication_year": {
           "description": null,
           "is_entity": false,
           "is_facet": true,
           "is_filter": true,
           "is_multivalue": false,
           "long_description": null,
           "type": "integer"
          },
          "nih_ppid": {
           "description": "The PI Profile ID (i.e., ppid) is a Researcher ID from the US National Institute of Health (NIH).",
           "is_entity": false,
           "is_facet": false,
           "is_filter": true,
           "is_multivalue": false,
           "long_description": null,
           "type": "string"
          },
          "obsolete": {
           "description": "Indicates researcher ID status. 0 means that the researcher ID is still active, 1 means that the researcher ID is no longer valid. See the `redirect` field for further information on invalid researcher IDs.",
           "is_entity": false,
           "is_facet": false,
           "is_filter": true,
           "is_multivalue": false,
           "long_description": null,
           "type": "integer"
          },
          "orcid_id": {
           "description": "`ORCID <https://orcid.org/>`_ ID.",
           "is_entity": false,
           "is_facet": false,
           "is_filter": true,
           "is_multivalue": true,
           "long_description": null,
           "type": "string"
          },
          "redirect": {
           "description": "Indicates status of a researcher ID marked as obsolete. Empty means that the researcher ID was deleted. Otherwise ID provided means that is the new ID into which the obsolete one was redirected. If multiple values are available, it means that the original researcher ID was split into multiple IDs.",
           "is_entity": false,
           "is_facet": false,
           "is_filter": true,
           "is_multivalue": true,
           "long_description": null,
           "type": "string"
          },
          "research_orgs": {
           "description": "All research organizations linked to the researcher.",
           "is_entity": true,
           "is_facet": true,
           "is_filter": true,
           "is_multivalue": true,
           "long_description": null,
           "type": "organizations"
          },
          "total_grants": {
           "description": "Total grants count.",
           "is_entity": false,
           "is_facet": true,
           "is_filter": true,
           "is_multivalue": false,
           "long_description": null,
           "type": "integer"
          },
          "total_publications": {
           "description": "Total publications count.",
           "is_entity": false,
           "is_facet": true,
           "is_filter": true,
           "is_multivalue": false,
           "long_description": null,
           "type": "integer"
          }
         },
         "fieldsets": [
          "all",
          "basics",
          "extras"
         ],
         "metrics": {
          "count": {
           "description": "Total count",
           "name": "count"
          }
         },
         "search_fields": []
        }
       }
      },
      "text/plain": [
       "<dimcli.DslDataset object #4399011200. Dict keys: 'sources', 'entities'>"
      ]
     },
     "execution_count": 3,
     "metadata": {
      "application/json": {
       "expanded": false,
       "root": "root"
      }
     },
     "output_type": "execute_result"
    }
   ],
   "source": [
    "dsl.query(\"describe schema\")"
   ]
  },
  {
   "cell_type": "markdown",
   "metadata": {
    "Collapsed": "false"
   },
   "source": [
    "A more useful query might also make use of the optional `for` and\n",
    "`where` phrases to limit the set of records returned."
   ]
  },
  {
   "cell_type": "code",
   "execution_count": 4,
   "metadata": {
    "Collapsed": "false"
   },
   "outputs": [
    {
     "name": "stdout",
     "output_type": "stream",
     "text": [
      "Returned Grants: 5 (total = 1745)\n",
      "\u001b[2mTime: 0.50s\u001b[0m\n"
     ]
    },
    {
     "data": {
      "text/html": [
       "<div>\n",
       "<style scoped>\n",
       "    .dataframe tbody tr th:only-of-type {\n",
       "        vertical-align: middle;\n",
       "    }\n",
       "\n",
       "    .dataframe tbody tr th {\n",
       "        vertical-align: top;\n",
       "    }\n",
       "\n",
       "    .dataframe thead th {\n",
       "        text-align: right;\n",
       "    }\n",
       "</style>\n",
       "<table border=\"1\" class=\"dataframe\">\n",
       "  <thead>\n",
       "    <tr style=\"text-align: right;\">\n",
       "      <th></th>\n",
       "      <th>funders</th>\n",
       "      <th>title</th>\n",
       "      <th>end_date</th>\n",
       "      <th>start_year</th>\n",
       "      <th>title_language</th>\n",
       "      <th>original_title</th>\n",
       "      <th>project_num</th>\n",
       "      <th>funding_org_name</th>\n",
       "      <th>language</th>\n",
       "      <th>start_date</th>\n",
       "      <th>id</th>\n",
       "      <th>active_year</th>\n",
       "    </tr>\n",
       "  </thead>\n",
       "  <tbody>\n",
       "    <tr>\n",
       "      <th>0</th>\n",
       "      <td>[{'id': 'grid.279885.9', 'state_name': 'Maryla...</td>\n",
       "      <td>ROLE OF CD44 ISOFORMS IN ENDOTHELIAL CELL DAMAGE</td>\n",
       "      <td>2002-01-01</td>\n",
       "      <td>2000</td>\n",
       "      <td>en</td>\n",
       "      <td>ROLE OF CD44 ISOFORMS IN ENDOTHELIAL CELL DAMAGE</td>\n",
       "      <td>F32HL010455</td>\n",
       "      <td>National Heart Lung and Blood Institute</td>\n",
       "      <td>en</td>\n",
       "      <td>2000-12-31</td>\n",
       "      <td>grant.2386513</td>\n",
       "      <td>[2000, 2001, 2002]</td>\n",
       "    </tr>\n",
       "    <tr>\n",
       "      <th>1</th>\n",
       "      <td>[{'id': 'grid.279885.9', 'state_name': 'Maryla...</td>\n",
       "      <td>ESTROGEN, ANGIOGENESIS AND ENDOTHELIAL PROGENI...</td>\n",
       "      <td>2004-11-30</td>\n",
       "      <td>2000</td>\n",
       "      <td>en</td>\n",
       "      <td>ESTROGEN, ANGIOGENESIS AND ENDOTHELIAL PROGENI...</td>\n",
       "      <td>R01HL063695</td>\n",
       "      <td>National Heart Lung and Blood Institute</td>\n",
       "      <td>en</td>\n",
       "      <td>2000-12-18</td>\n",
       "      <td>grant.2537116</td>\n",
       "      <td>[2000, 2001, 2002, 2003, 2004]</td>\n",
       "    </tr>\n",
       "    <tr>\n",
       "      <th>2</th>\n",
       "      <td>[{'id': 'grid.279885.9', 'state_name': 'Maryla...</td>\n",
       "      <td>GENETIC ANALYSIS OF EPHRIN-EPH SIGNALING IN AN...</td>\n",
       "      <td>2007-11-30</td>\n",
       "      <td>2000</td>\n",
       "      <td>en</td>\n",
       "      <td>GENETIC ANALYSIS OF EPHRIN-EPH SIGNALING IN AN...</td>\n",
       "      <td>R01HL066221</td>\n",
       "      <td>National Heart Lung and Blood Institute</td>\n",
       "      <td>en</td>\n",
       "      <td>2000-12-18</td>\n",
       "      <td>grant.2537801</td>\n",
       "      <td>[2000, 2001, 2002, 2003, 2004, 2005, 2006, 2007]</td>\n",
       "    </tr>\n",
       "    <tr>\n",
       "      <th>3</th>\n",
       "      <td>[{'id': 'grid.279885.9', 'state_name': 'Maryla...</td>\n",
       "      <td>Synthetic Heparan Sulfate: Probing Biosynthesi...</td>\n",
       "      <td>2017-12-31</td>\n",
       "      <td>2000</td>\n",
       "      <td>en</td>\n",
       "      <td>Synthetic Heparan Sulfate: Probing Biosynthesi...</td>\n",
       "      <td>R01HL062244</td>\n",
       "      <td>National Heart Lung and Blood Institute</td>\n",
       "      <td>en</td>\n",
       "      <td>2000-12-15</td>\n",
       "      <td>grant.2536777</td>\n",
       "      <td>[2000, 2001, 2002, 2003, 2004, 2005, 2006, 200...</td>\n",
       "    </tr>\n",
       "    <tr>\n",
       "      <th>4</th>\n",
       "      <td>[{'id': 'grid.419213.c', 'state_name': 'New Je...</td>\n",
       "      <td>SmokeLess States Program - Implementation</td>\n",
       "      <td>2001-02-28</td>\n",
       "      <td>2000</td>\n",
       "      <td>en</td>\n",
       "      <td>SmokeLess States Program - Implementation</td>\n",
       "      <td>41067</td>\n",
       "      <td>Robert Wood Johnson Foundation</td>\n",
       "      <td>en</td>\n",
       "      <td>2000-12-01</td>\n",
       "      <td>grant.8616620</td>\n",
       "      <td>[2000, 2001]</td>\n",
       "    </tr>\n",
       "  </tbody>\n",
       "</table>\n",
       "</div>"
      ],
      "text/plain": [
       "                                             funders  \\\n",
       "0  [{'id': 'grid.279885.9', 'state_name': 'Maryla...   \n",
       "1  [{'id': 'grid.279885.9', 'state_name': 'Maryla...   \n",
       "2  [{'id': 'grid.279885.9', 'state_name': 'Maryla...   \n",
       "3  [{'id': 'grid.279885.9', 'state_name': 'Maryla...   \n",
       "4  [{'id': 'grid.419213.c', 'state_name': 'New Je...   \n",
       "\n",
       "                                               title    end_date  start_year  \\\n",
       "0   ROLE OF CD44 ISOFORMS IN ENDOTHELIAL CELL DAMAGE  2002-01-01        2000   \n",
       "1  ESTROGEN, ANGIOGENESIS AND ENDOTHELIAL PROGENI...  2004-11-30        2000   \n",
       "2  GENETIC ANALYSIS OF EPHRIN-EPH SIGNALING IN AN...  2007-11-30        2000   \n",
       "3  Synthetic Heparan Sulfate: Probing Biosynthesi...  2017-12-31        2000   \n",
       "4          SmokeLess States Program - Implementation  2001-02-28        2000   \n",
       "\n",
       "  title_language                                     original_title  \\\n",
       "0             en   ROLE OF CD44 ISOFORMS IN ENDOTHELIAL CELL DAMAGE   \n",
       "1             en  ESTROGEN, ANGIOGENESIS AND ENDOTHELIAL PROGENI...   \n",
       "2             en  GENETIC ANALYSIS OF EPHRIN-EPH SIGNALING IN AN...   \n",
       "3             en  Synthetic Heparan Sulfate: Probing Biosynthesi...   \n",
       "4             en          SmokeLess States Program - Implementation   \n",
       "\n",
       "   project_num                         funding_org_name language  start_date  \\\n",
       "0  F32HL010455  National Heart Lung and Blood Institute       en  2000-12-31   \n",
       "1  R01HL063695  National Heart Lung and Blood Institute       en  2000-12-18   \n",
       "2  R01HL066221  National Heart Lung and Blood Institute       en  2000-12-18   \n",
       "3  R01HL062244  National Heart Lung and Blood Institute       en  2000-12-15   \n",
       "4        41067           Robert Wood Johnson Foundation       en  2000-12-01   \n",
       "\n",
       "              id                                        active_year  \n",
       "0  grant.2386513                                 [2000, 2001, 2002]  \n",
       "1  grant.2537116                     [2000, 2001, 2002, 2003, 2004]  \n",
       "2  grant.2537801   [2000, 2001, 2002, 2003, 2004, 2005, 2006, 2007]  \n",
       "3  grant.2536777  [2000, 2001, 2002, 2003, 2004, 2005, 2006, 200...  \n",
       "4  grant.8616620                                       [2000, 2001]  "
      ]
     },
     "execution_count": 4,
     "metadata": {},
     "output_type": "execute_result"
    }
   ],
   "source": [
    "%%dsldf \n",
    "search grants  for \"lung cancer\" \n",
    "    where active_year=2000 \n",
    "return  grants  limit 5"
   ]
  },
  {
   "cell_type": "markdown",
   "metadata": {
    "Collapsed": "false"
   },
   "source": [
    "### `return` result (source or facet)\n",
    "\n",
    "The most basic `return` phrase consists of the keyword `return` followed\n",
    "by the name of a `record` or `facet` to be returned. \n",
    "\n",
    "This must be the\n",
    "name of the `source` used in the `search` phrase, or the name of a\n",
    "`facet` of that source."
   ]
  },
  {
   "cell_type": "code",
   "execution_count": 5,
   "metadata": {
    "Collapsed": "false"
   },
   "outputs": [
    {
     "name": "stdout",
     "output_type": "stream",
     "text": [
      "Returned Grants: 5 (total = 115)\n",
      "\u001b[2mTime: 0.50s\u001b[0m\n"
     ]
    },
    {
     "data": {
      "text/html": [
       "<div>\n",
       "<style scoped>\n",
       "    .dataframe tbody tr th:only-of-type {\n",
       "        vertical-align: middle;\n",
       "    }\n",
       "\n",
       "    .dataframe tbody tr th {\n",
       "        vertical-align: top;\n",
       "    }\n",
       "\n",
       "    .dataframe thead th {\n",
       "        text-align: right;\n",
       "    }\n",
       "</style>\n",
       "<table border=\"1\" class=\"dataframe\">\n",
       "  <thead>\n",
       "    <tr style=\"text-align: right;\">\n",
       "      <th></th>\n",
       "      <th>start_date</th>\n",
       "      <th>language</th>\n",
       "      <th>id</th>\n",
       "      <th>original_title</th>\n",
       "      <th>title_language</th>\n",
       "      <th>title</th>\n",
       "      <th>active_year</th>\n",
       "      <th>start_year</th>\n",
       "      <th>funding_org_name</th>\n",
       "      <th>end_date</th>\n",
       "      <th>project_num</th>\n",
       "      <th>funders</th>\n",
       "    </tr>\n",
       "  </thead>\n",
       "  <tbody>\n",
       "    <tr>\n",
       "      <th>0</th>\n",
       "      <td>2020-04-01</td>\n",
       "      <td>ja</td>\n",
       "      <td>grant.9201764</td>\n",
       "      <td>喉頭全摘出者の家族の術後生活への移行を促進する外来での生活支援プログラムの開発</td>\n",
       "      <td>ja</td>\n",
       "      <td>Development of an outpatient life support prog...</td>\n",
       "      <td>[2020, 2021, 2022, 2023, 2024]</td>\n",
       "      <td>2020</td>\n",
       "      <td>Japan Society for the Promotion of Science</td>\n",
       "      <td>2024-03-31</td>\n",
       "      <td>20K10777</td>\n",
       "      <td>[{'id': 'grid.54432.34', 'types': ['Nonprofit'...</td>\n",
       "    </tr>\n",
       "    <tr>\n",
       "      <th>1</th>\n",
       "      <td>2019-09-29</td>\n",
       "      <td>en</td>\n",
       "      <td>grant.8674095</td>\n",
       "      <td>UKRI CDT in SLT- Continuous End-to-End Streami...</td>\n",
       "      <td>en</td>\n",
       "      <td>UKRI CDT in SLT- Continuous End-to-End Streami...</td>\n",
       "      <td>[2019, 2020, 2021, 2022, 2023]</td>\n",
       "      <td>2019</td>\n",
       "      <td>Engineering and Physical Sciences Research Cou...</td>\n",
       "      <td>2023-09-28</td>\n",
       "      <td>2268211</td>\n",
       "      <td>[{'id': 'grid.421091.f', 'types': ['Government...</td>\n",
       "    </tr>\n",
       "    <tr>\n",
       "      <th>2</th>\n",
       "      <td>2019-08-15</td>\n",
       "      <td>en</td>\n",
       "      <td>grant.8554260</td>\n",
       "      <td>Wearable silent speech technology to enhance i...</td>\n",
       "      <td>en</td>\n",
       "      <td>Wearable silent speech technology to enhance i...</td>\n",
       "      <td>[2019, 2020, 2021, 2022, 2023, 2024]</td>\n",
       "      <td>2019</td>\n",
       "      <td>National Institute on Deafness and Other Commu...</td>\n",
       "      <td>2024-07-31</td>\n",
       "      <td>R01DC016621</td>\n",
       "      <td>[{'id': 'grid.214431.1', 'types': ['Facility']...</td>\n",
       "    </tr>\n",
       "    <tr>\n",
       "      <th>3</th>\n",
       "      <td>2019-04-01</td>\n",
       "      <td>ja</td>\n",
       "      <td>grant.8428997</td>\n",
       "      <td>Construction of a nursing system leading to im...</td>\n",
       "      <td>en</td>\n",
       "      <td>Construction of a nursing system leading to im...</td>\n",
       "      <td>[2019, 2020, 2021, 2022, 2023]</td>\n",
       "      <td>2019</td>\n",
       "      <td>Japan Society for the Promotion of Science</td>\n",
       "      <td>2023-03-31</td>\n",
       "      <td>19H03937</td>\n",
       "      <td>[{'id': 'grid.54432.34', 'types': ['Nonprofit'...</td>\n",
       "    </tr>\n",
       "    <tr>\n",
       "      <th>4</th>\n",
       "      <td>2019-04-01</td>\n",
       "      <td>ja</td>\n",
       "      <td>grant.8422934</td>\n",
       "      <td>喉頭がん、下咽頭がんにより喉頭摘出術を受けた患者に対する嗅覚向上プログラムの開発</td>\n",
       "      <td>ja</td>\n",
       "      <td>Development of an olfactory improvement progra...</td>\n",
       "      <td>[2019, 2020, 2021]</td>\n",
       "      <td>2019</td>\n",
       "      <td>Japan Society for the Promotion of Science</td>\n",
       "      <td>2021-03-31</td>\n",
       "      <td>19K19574</td>\n",
       "      <td>[{'id': 'grid.54432.34', 'types': ['Nonprofit'...</td>\n",
       "    </tr>\n",
       "  </tbody>\n",
       "</table>\n",
       "</div>"
      ],
      "text/plain": [
       "   start_date language             id  \\\n",
       "0  2020-04-01       ja  grant.9201764   \n",
       "1  2019-09-29       en  grant.8674095   \n",
       "2  2019-08-15       en  grant.8554260   \n",
       "3  2019-04-01       ja  grant.8428997   \n",
       "4  2019-04-01       ja  grant.8422934   \n",
       "\n",
       "                                      original_title title_language  \\\n",
       "0            喉頭全摘出者の家族の術後生活への移行を促進する外来での生活支援プログラムの開発             ja   \n",
       "1  UKRI CDT in SLT- Continuous End-to-End Streami...             en   \n",
       "2  Wearable silent speech technology to enhance i...             en   \n",
       "3  Construction of a nursing system leading to im...             en   \n",
       "4           喉頭がん、下咽頭がんにより喉頭摘出術を受けた患者に対する嗅覚向上プログラムの開発             ja   \n",
       "\n",
       "                                               title  \\\n",
       "0  Development of an outpatient life support prog...   \n",
       "1  UKRI CDT in SLT- Continuous End-to-End Streami...   \n",
       "2  Wearable silent speech technology to enhance i...   \n",
       "3  Construction of a nursing system leading to im...   \n",
       "4  Development of an olfactory improvement progra...   \n",
       "\n",
       "                            active_year  start_year  \\\n",
       "0        [2020, 2021, 2022, 2023, 2024]        2020   \n",
       "1        [2019, 2020, 2021, 2022, 2023]        2019   \n",
       "2  [2019, 2020, 2021, 2022, 2023, 2024]        2019   \n",
       "3        [2019, 2020, 2021, 2022, 2023]        2019   \n",
       "4                    [2019, 2020, 2021]        2019   \n",
       "\n",
       "                                    funding_org_name    end_date  project_num  \\\n",
       "0         Japan Society for the Promotion of Science  2024-03-31     20K10777   \n",
       "1  Engineering and Physical Sciences Research Cou...  2023-09-28      2268211   \n",
       "2  National Institute on Deafness and Other Commu...  2024-07-31  R01DC016621   \n",
       "3         Japan Society for the Promotion of Science  2023-03-31     19H03937   \n",
       "4         Japan Society for the Promotion of Science  2021-03-31     19K19574   \n",
       "\n",
       "                                             funders  \n",
       "0  [{'id': 'grid.54432.34', 'types': ['Nonprofit'...  \n",
       "1  [{'id': 'grid.421091.f', 'types': ['Government...  \n",
       "2  [{'id': 'grid.214431.1', 'types': ['Facility']...  \n",
       "3  [{'id': 'grid.54432.34', 'types': ['Nonprofit'...  \n",
       "4  [{'id': 'grid.54432.34', 'types': ['Nonprofit'...  "
      ]
     },
     "execution_count": 5,
     "metadata": {},
     "output_type": "execute_result"
    }
   ],
   "source": [
    "%%dsldf\n",
    "search grants for \"laryngectomy\" \n",
    "return grants limit 5"
   ]
  },
  {
   "cell_type": "markdown",
   "metadata": {
    "Collapsed": "false"
   },
   "source": [
    "Eg let's see what are the *facets* available for the *grants* source:"
   ]
  },
  {
   "cell_type": "code",
   "execution_count": 6,
   "metadata": {
    "Collapsed": "false"
   },
   "outputs": [
    {
     "data": {
      "text/plain": [
       "['category_hrcs_rac',\n",
       " 'active_year',\n",
       " 'funding_org_acronym',\n",
       " 'category_rcdc',\n",
       " 'funder_countries',\n",
       " 'funders',\n",
       " 'research_org_state_codes',\n",
       " 'start_year',\n",
       " 'research_orgs',\n",
       " 'research_org_countries',\n",
       " 'funding_org_name',\n",
       " 'researchers',\n",
       " 'language',\n",
       " 'category_icrp_cso',\n",
       " 'category_sdg',\n",
       " 'category_uoa',\n",
       " 'category_for',\n",
       " 'language_title',\n",
       " 'category_bra',\n",
       " 'category_hrcs_hc',\n",
       " 'category_hra',\n",
       " 'research_org_cities',\n",
       " 'funding_currency',\n",
       " 'category_icrp_ct',\n",
       " 'funding_org_city']"
      ]
     },
     "execution_count": 6,
     "metadata": {},
     "output_type": "execute_result"
    }
   ],
   "source": [
    "fields = dsl.query(\"describe schema\")['sources']['grants']['fields']\n",
    "[x for x in fields if fields[x]['is_facet']]"
   ]
  },
  {
   "cell_type": "markdown",
   "metadata": {
    "Collapsed": "false"
   },
   "source": [
    "## 2. Full-text Searching\n",
    "\n",
    "Full-text search or keyword search finds all instances of a term\n",
    "(keyword) in a document, or group of documents. \n",
    "\n",
    "Full text search works\n",
    "by using search indexes, which can be targeting specific sections of a\n",
    "document e.g. its $abstract$, $authors$, $full text$ etc..."
   ]
  },
  {
   "cell_type": "code",
   "execution_count": 7,
   "metadata": {
    "Collapsed": "false"
   },
   "outputs": [
    {
     "name": "stdout",
     "output_type": "stream",
     "text": [
      "Returned Publications: 5 (total = 174854)\n",
      "\u001b[2mTime: 1.33s\u001b[0m\n"
     ]
    },
    {
     "data": {
      "text/html": [
       "<div>\n",
       "<style scoped>\n",
       "    .dataframe tbody tr th:only-of-type {\n",
       "        vertical-align: middle;\n",
       "    }\n",
       "\n",
       "    .dataframe tbody tr th {\n",
       "        vertical-align: top;\n",
       "    }\n",
       "\n",
       "    .dataframe thead th {\n",
       "        text-align: right;\n",
       "    }\n",
       "</style>\n",
       "<table border=\"1\" class=\"dataframe\">\n",
       "  <thead>\n",
       "    <tr style=\"text-align: right;\">\n",
       "      <th></th>\n",
       "      <th>title</th>\n",
       "      <th>pages</th>\n",
       "      <th>author_affiliations</th>\n",
       "      <th>year</th>\n",
       "      <th>id</th>\n",
       "      <th>type</th>\n",
       "    </tr>\n",
       "  </thead>\n",
       "  <tbody>\n",
       "    <tr>\n",
       "      <th>0</th>\n",
       "      <td>Bringing My Wife and Children to the Field</td>\n",
       "      <td>185-206</td>\n",
       "      <td>[[{'first_name': 'Leberecht', 'last_name': 'Fu...</td>\n",
       "      <td>2020</td>\n",
       "      <td>pub.1128623295</td>\n",
       "      <td>chapter</td>\n",
       "    </tr>\n",
       "    <tr>\n",
       "      <th>1</th>\n",
       "      <td>UJ to Frederick and Maud Clapp</td>\n",
       "      <td>3-250</td>\n",
       "      <td>NaN</td>\n",
       "      <td>2020</td>\n",
       "      <td>pub.1130258832</td>\n",
       "      <td>chapter</td>\n",
       "    </tr>\n",
       "    <tr>\n",
       "      <th>2</th>\n",
       "      <td>1. Into the Woods (Via Cuma 320, Bacoli)</td>\n",
       "      <td>14-30</td>\n",
       "      <td>[[{'first_name': 'Alessandro', 'last_name': 'B...</td>\n",
       "      <td>2020</td>\n",
       "      <td>pub.1127643502</td>\n",
       "      <td>chapter</td>\n",
       "    </tr>\n",
       "    <tr>\n",
       "      <th>3</th>\n",
       "      <td>1898–1899 Movies and Entrepreneurs</td>\n",
       "      <td>66-90</td>\n",
       "      <td>[[{'first_name': 'Patrick', 'last_name': 'Loug...</td>\n",
       "      <td>2020</td>\n",
       "      <td>pub.1126778139</td>\n",
       "      <td>chapter</td>\n",
       "    </tr>\n",
       "    <tr>\n",
       "      <th>4</th>\n",
       "      <td>2. Grand Steerage</td>\n",
       "      <td>51-81</td>\n",
       "      <td>[[{'first_name': 'Barry', 'last_name': 'Naught...</td>\n",
       "      <td>2020</td>\n",
       "      <td>pub.1129002686</td>\n",
       "      <td>chapter</td>\n",
       "    </tr>\n",
       "  </tbody>\n",
       "</table>\n",
       "</div>"
      ],
      "text/plain": [
       "                                        title    pages  \\\n",
       "0  Bringing My Wife and Children to the Field  185-206   \n",
       "1              UJ to Frederick and Maud Clapp    3-250   \n",
       "2    1. Into the Woods (Via Cuma 320, Bacoli)    14-30   \n",
       "3          1898–1899 Movies and Entrepreneurs    66-90   \n",
       "4                           2. Grand Steerage    51-81   \n",
       "\n",
       "                                 author_affiliations  year              id  \\\n",
       "0  [[{'first_name': 'Leberecht', 'last_name': 'Fu...  2020  pub.1128623295   \n",
       "1                                                NaN  2020  pub.1130258832   \n",
       "2  [[{'first_name': 'Alessandro', 'last_name': 'B...  2020  pub.1127643502   \n",
       "3  [[{'first_name': 'Patrick', 'last_name': 'Loug...  2020  pub.1126778139   \n",
       "4  [[{'first_name': 'Barry', 'last_name': 'Naught...  2020  pub.1129002686   \n",
       "\n",
       "      type  \n",
       "0  chapter  \n",
       "1  chapter  \n",
       "2  chapter  \n",
       "3  chapter  \n",
       "4  chapter  "
      ]
     },
     "execution_count": 7,
     "metadata": {},
     "output_type": "execute_result"
    }
   ],
   "source": [
    "%%dsldf \n",
    "search publications \n",
    "    in full_data for \"moon landing\" \n",
    "return publications limit 5"
   ]
  },
  {
   "cell_type": "markdown",
   "metadata": {
    "Collapsed": "true"
   },
   "source": [
    "### 2.1 `in [search index]`\n",
    "\n",
    "This optional phrase consists of the particle `in` followed by a term indicating a `search index`, specifying for example whether the search\n",
    "is limited to full text, title and abstract only, or title only. "
   ]
  },
  {
   "cell_type": "code",
   "execution_count": 8,
   "metadata": {
    "Collapsed": "false"
   },
   "outputs": [
    {
     "name": "stdout",
     "output_type": "stream",
     "text": [
      "Returned Grants: 5 (total = 10001)\n",
      "\u001b[2mTime: 0.53s\u001b[0m\n"
     ]
    },
    {
     "data": {
      "text/html": [
       "<div>\n",
       "<style scoped>\n",
       "    .dataframe tbody tr th:only-of-type {\n",
       "        vertical-align: middle;\n",
       "    }\n",
       "\n",
       "    .dataframe tbody tr th {\n",
       "        vertical-align: top;\n",
       "    }\n",
       "\n",
       "    .dataframe thead th {\n",
       "        text-align: right;\n",
       "    }\n",
       "</style>\n",
       "<table border=\"1\" class=\"dataframe\">\n",
       "  <thead>\n",
       "    <tr style=\"text-align: right;\">\n",
       "      <th></th>\n",
       "      <th>start_year</th>\n",
       "      <th>funding_org_name</th>\n",
       "      <th>end_date</th>\n",
       "      <th>active_year</th>\n",
       "      <th>language</th>\n",
       "      <th>start_date</th>\n",
       "      <th>funders</th>\n",
       "      <th>title_language</th>\n",
       "      <th>id</th>\n",
       "      <th>original_title</th>\n",
       "      <th>title</th>\n",
       "      <th>project_num</th>\n",
       "    </tr>\n",
       "  </thead>\n",
       "  <tbody>\n",
       "    <tr>\n",
       "      <th>0</th>\n",
       "      <td>2021</td>\n",
       "      <td>European Commission</td>\n",
       "      <td>2023-08-31</td>\n",
       "      <td>[2021, 2022, 2023]</td>\n",
       "      <td>en</td>\n",
       "      <td>2021-09-01</td>\n",
       "      <td>[{'id': 'grid.270680.b', 'name': 'European Com...</td>\n",
       "      <td>en</td>\n",
       "      <td>grant.9064570</td>\n",
       "      <td>Deciphering fundamental constraints on pathoge...</td>\n",
       "      <td>Deciphering fundamental constraints on pathoge...</td>\n",
       "      <td>890630</td>\n",
       "    </tr>\n",
       "    <tr>\n",
       "      <th>1</th>\n",
       "      <td>2021</td>\n",
       "      <td>European Research Council</td>\n",
       "      <td>2025-12-31</td>\n",
       "      <td>[2021, 2022, 2023, 2024, 2025]</td>\n",
       "      <td>en</td>\n",
       "      <td>2021-01-01</td>\n",
       "      <td>[{'id': 'grid.452896.4', 'name': 'European Res...</td>\n",
       "      <td>en</td>\n",
       "      <td>grant.8964099</td>\n",
       "      <td>Overcoming stellar activity in radial velocity...</td>\n",
       "      <td>Overcoming stellar activity in radial velocity...</td>\n",
       "      <td>865624</td>\n",
       "    </tr>\n",
       "    <tr>\n",
       "      <th>2</th>\n",
       "      <td>2021</td>\n",
       "      <td>Swedish Research Council for Health Working Li...</td>\n",
       "      <td>2022-12-31</td>\n",
       "      <td>[2021, 2022]</td>\n",
       "      <td>en</td>\n",
       "      <td>2021-01-01</td>\n",
       "      <td>[{'id': 'grid.434365.3', 'name': 'Swedish Rese...</td>\n",
       "      <td>en</td>\n",
       "      <td>grant.9242822</td>\n",
       "      <td>Everyday Violence: Understanding and preventin...</td>\n",
       "      <td>Everyday Violence: Understanding and preventin...</td>\n",
       "      <td>2020-01152_Forte</td>\n",
       "    </tr>\n",
       "    <tr>\n",
       "      <th>3</th>\n",
       "      <td>2021</td>\n",
       "      <td>European Commission</td>\n",
       "      <td>2022-12-31</td>\n",
       "      <td>[2021, 2022]</td>\n",
       "      <td>en</td>\n",
       "      <td>2021-01-01</td>\n",
       "      <td>[{'id': 'grid.270680.b', 'name': 'European Com...</td>\n",
       "      <td>en</td>\n",
       "      <td>grant.9065705</td>\n",
       "      <td>Political Dynamics of Slow-Onset Disasters: Co...</td>\n",
       "      <td>Political Dynamics of Slow-Onset Disasters: Co...</td>\n",
       "      <td>897656</td>\n",
       "    </tr>\n",
       "    <tr>\n",
       "      <th>4</th>\n",
       "      <td>2020</td>\n",
       "      <td>Directorate for Computer &amp; Information Science...</td>\n",
       "      <td>2024-09-30</td>\n",
       "      <td>[2020, 2021, 2022, 2023, 2024]</td>\n",
       "      <td>en</td>\n",
       "      <td>2020-10-01</td>\n",
       "      <td>[{'id': 'grid.457785.c', 'name': 'Directorate ...</td>\n",
       "      <td>en</td>\n",
       "      <td>grant.9046367</td>\n",
       "      <td>SaTC: CORE: Medium: Collaborative: Hardening O...</td>\n",
       "      <td>SaTC: CORE: Medium: Collaborative: Hardening O...</td>\n",
       "      <td>1954521</td>\n",
       "    </tr>\n",
       "  </tbody>\n",
       "</table>\n",
       "</div>"
      ],
      "text/plain": [
       "   start_year                                   funding_org_name    end_date  \\\n",
       "0        2021                                European Commission  2023-08-31   \n",
       "1        2021                          European Research Council  2025-12-31   \n",
       "2        2021  Swedish Research Council for Health Working Li...  2022-12-31   \n",
       "3        2021                                European Commission  2022-12-31   \n",
       "4        2020  Directorate for Computer & Information Science...  2024-09-30   \n",
       "\n",
       "                      active_year language  start_date  \\\n",
       "0              [2021, 2022, 2023]       en  2021-09-01   \n",
       "1  [2021, 2022, 2023, 2024, 2025]       en  2021-01-01   \n",
       "2                    [2021, 2022]       en  2021-01-01   \n",
       "3                    [2021, 2022]       en  2021-01-01   \n",
       "4  [2020, 2021, 2022, 2023, 2024]       en  2020-10-01   \n",
       "\n",
       "                                             funders title_language  \\\n",
       "0  [{'id': 'grid.270680.b', 'name': 'European Com...             en   \n",
       "1  [{'id': 'grid.452896.4', 'name': 'European Res...             en   \n",
       "2  [{'id': 'grid.434365.3', 'name': 'Swedish Rese...             en   \n",
       "3  [{'id': 'grid.270680.b', 'name': 'European Com...             en   \n",
       "4  [{'id': 'grid.457785.c', 'name': 'Directorate ...             en   \n",
       "\n",
       "              id                                     original_title  \\\n",
       "0  grant.9064570  Deciphering fundamental constraints on pathoge...   \n",
       "1  grant.8964099  Overcoming stellar activity in radial velocity...   \n",
       "2  grant.9242822  Everyday Violence: Understanding and preventin...   \n",
       "3  grant.9065705  Political Dynamics of Slow-Onset Disasters: Co...   \n",
       "4  grant.9046367  SaTC: CORE: Medium: Collaborative: Hardening O...   \n",
       "\n",
       "                                               title       project_num  \n",
       "0  Deciphering fundamental constraints on pathoge...            890630  \n",
       "1  Overcoming stellar activity in radial velocity...            865624  \n",
       "2  Everyday Violence: Understanding and preventin...  2020-01152_Forte  \n",
       "3  Political Dynamics of Slow-Onset Disasters: Co...            897656  \n",
       "4  SaTC: CORE: Medium: Collaborative: Hardening O...           1954521  "
      ]
     },
     "execution_count": 8,
     "metadata": {},
     "output_type": "execute_result"
    }
   ],
   "source": [
    "%%dsldf \n",
    "search grants \n",
    "    in title_abstract_only for \"something\" \n",
    "return grants limit 5"
   ]
  },
  {
   "cell_type": "markdown",
   "metadata": {
    "Collapsed": "false"
   },
   "source": [
    "Eg let's see what are the *search fields* available for the *grants* source:"
   ]
  },
  {
   "cell_type": "code",
   "execution_count": 9,
   "metadata": {
    "Collapsed": "false"
   },
   "outputs": [
    {
     "data": {
      "text/plain": [
       "['title_only', 'investigators', 'title_abstract_only', 'full_data', 'concepts']"
      ]
     },
     "execution_count": 9,
     "metadata": {},
     "output_type": "execute_result"
    }
   ],
   "source": [
    "dsl.query(\"describe schema\")['sources']['grants']['search_fields']"
   ]
  },
  {
   "cell_type": "code",
   "execution_count": 10,
   "metadata": {
    "Collapsed": "false"
   },
   "outputs": [
    {
     "name": "stdout",
     "output_type": "stream",
     "text": [
      "Returned Grants: 5 (total = 10)\n",
      "\u001b[2mTime: 0.51s\u001b[0m\n"
     ]
    },
    {
     "data": {
      "text/html": [
       "<div>\n",
       "<style scoped>\n",
       "    .dataframe tbody tr th:only-of-type {\n",
       "        vertical-align: middle;\n",
       "    }\n",
       "\n",
       "    .dataframe tbody tr th {\n",
       "        vertical-align: top;\n",
       "    }\n",
       "\n",
       "    .dataframe thead th {\n",
       "        text-align: right;\n",
       "    }\n",
       "</style>\n",
       "<table border=\"1\" class=\"dataframe\">\n",
       "  <thead>\n",
       "    <tr style=\"text-align: right;\">\n",
       "      <th></th>\n",
       "      <th>start_year</th>\n",
       "      <th>funding_org_name</th>\n",
       "      <th>end_date</th>\n",
       "      <th>active_year</th>\n",
       "      <th>language</th>\n",
       "      <th>start_date</th>\n",
       "      <th>funders</th>\n",
       "      <th>title_language</th>\n",
       "      <th>id</th>\n",
       "      <th>original_title</th>\n",
       "      <th>title</th>\n",
       "      <th>project_num</th>\n",
       "    </tr>\n",
       "  </thead>\n",
       "  <tbody>\n",
       "    <tr>\n",
       "      <th>0</th>\n",
       "      <td>2019</td>\n",
       "      <td>Russian Science Foundation</td>\n",
       "      <td>2021-12-31</td>\n",
       "      <td>[2019, 2020, 2021]</td>\n",
       "      <td>en</td>\n",
       "      <td>2019-01-01</td>\n",
       "      <td>[{'id': 'grid.454869.2', 'name': 'Russian Scie...</td>\n",
       "      <td>en</td>\n",
       "      <td>grant.8413990</td>\n",
       "      <td>Weyl and Dirac semimetals and beyond - predict...</td>\n",
       "      <td>Weyl and Dirac semimetals and beyond - predict...</td>\n",
       "      <td>19-43-04129</td>\n",
       "    </tr>\n",
       "    <tr>\n",
       "      <th>1</th>\n",
       "      <td>2018</td>\n",
       "      <td>Russian Foundation for Basic Research</td>\n",
       "      <td>2018-12-31</td>\n",
       "      <td>[2018]</td>\n",
       "      <td>ru</td>\n",
       "      <td>2018-01-01</td>\n",
       "      <td>[{'id': 'grid.452899.b', 'name': 'Russian Foun...</td>\n",
       "      <td>ru</td>\n",
       "      <td>grant.8731867</td>\n",
       "      <td>Проект организации 18-ой Международной конфере...</td>\n",
       "      <td>Project of the organization of the 18th Intern...</td>\n",
       "      <td>18-02-20097</td>\n",
       "    </tr>\n",
       "    <tr>\n",
       "      <th>2</th>\n",
       "      <td>2016</td>\n",
       "      <td>Ministry of Science and Higher Education</td>\n",
       "      <td>2016-12-31</td>\n",
       "      <td>[2016]</td>\n",
       "      <td>pl</td>\n",
       "      <td>2016-02-22</td>\n",
       "      <td>[{'id': 'grid.425823.a', 'name': 'Ministry of ...</td>\n",
       "      <td>pl</td>\n",
       "      <td>grant.7397800</td>\n",
       "      <td>Dotacja podmiotowa na utrzymanie potencjału ba...</td>\n",
       "      <td>Subject subsidy for maintaining the research p...</td>\n",
       "      <td>4491/E-370/S/2016</td>\n",
       "    </tr>\n",
       "    <tr>\n",
       "      <th>3</th>\n",
       "      <td>2015</td>\n",
       "      <td>Ministry of Science and Higher Education</td>\n",
       "      <td>2015-12-31</td>\n",
       "      <td>[2015]</td>\n",
       "      <td>pl</td>\n",
       "      <td>2015-02-19</td>\n",
       "      <td>[{'id': 'grid.425823.a', 'name': 'Ministry of ...</td>\n",
       "      <td>pl</td>\n",
       "      <td>grant.7397795</td>\n",
       "      <td>Dotacja podmiotowa na utrzymanie potencjału ba...</td>\n",
       "      <td>Subject subsidy for maintaining the research p...</td>\n",
       "      <td>4491/E-370/S/2015</td>\n",
       "    </tr>\n",
       "    <tr>\n",
       "      <th>4</th>\n",
       "      <td>2014</td>\n",
       "      <td>Ministry of Science and Higher Education</td>\n",
       "      <td>2014-12-31</td>\n",
       "      <td>[2014]</td>\n",
       "      <td>pl</td>\n",
       "      <td>2014-04-09</td>\n",
       "      <td>[{'id': 'grid.425823.a', 'name': 'Ministry of ...</td>\n",
       "      <td>pl</td>\n",
       "      <td>grant.7397490</td>\n",
       "      <td>Dotacja celowa na prowadzenie w 2014 przez Wyd...</td>\n",
       "      <td>Intentional grant for conducting in 2014 the F...</td>\n",
       "      <td>4491/E-370/M/2014</td>\n",
       "    </tr>\n",
       "  </tbody>\n",
       "</table>\n",
       "</div>"
      ],
      "text/plain": [
       "   start_year                          funding_org_name    end_date  \\\n",
       "0        2019                Russian Science Foundation  2021-12-31   \n",
       "1        2018     Russian Foundation for Basic Research  2018-12-31   \n",
       "2        2016  Ministry of Science and Higher Education  2016-12-31   \n",
       "3        2015  Ministry of Science and Higher Education  2015-12-31   \n",
       "4        2014  Ministry of Science and Higher Education  2014-12-31   \n",
       "\n",
       "          active_year language  start_date  \\\n",
       "0  [2019, 2020, 2021]       en  2019-01-01   \n",
       "1              [2018]       ru  2018-01-01   \n",
       "2              [2016]       pl  2016-02-22   \n",
       "3              [2015]       pl  2015-02-19   \n",
       "4              [2014]       pl  2014-04-09   \n",
       "\n",
       "                                             funders title_language  \\\n",
       "0  [{'id': 'grid.454869.2', 'name': 'Russian Scie...             en   \n",
       "1  [{'id': 'grid.452899.b', 'name': 'Russian Foun...             ru   \n",
       "2  [{'id': 'grid.425823.a', 'name': 'Ministry of ...             pl   \n",
       "3  [{'id': 'grid.425823.a', 'name': 'Ministry of ...             pl   \n",
       "4  [{'id': 'grid.425823.a', 'name': 'Ministry of ...             pl   \n",
       "\n",
       "              id                                     original_title  \\\n",
       "0  grant.8413990  Weyl and Dirac semimetals and beyond - predict...   \n",
       "1  grant.8731867  Проект организации 18-ой Международной конфере...   \n",
       "2  grant.7397800  Dotacja podmiotowa na utrzymanie potencjału ba...   \n",
       "3  grant.7397795  Dotacja podmiotowa na utrzymanie potencjału ba...   \n",
       "4  grant.7397490  Dotacja celowa na prowadzenie w 2014 przez Wyd...   \n",
       "\n",
       "                                               title        project_num  \n",
       "0  Weyl and Dirac semimetals and beyond - predict...        19-43-04129  \n",
       "1  Project of the organization of the 18th Intern...        18-02-20097  \n",
       "2  Subject subsidy for maintaining the research p...  4491/E-370/S/2016  \n",
       "3  Subject subsidy for maintaining the research p...  4491/E-370/S/2015  \n",
       "4  Intentional grant for conducting in 2014 the F...  4491/E-370/M/2014  "
      ]
     },
     "execution_count": 10,
     "metadata": {},
     "output_type": "execute_result"
    }
   ],
   "source": [
    "%%dsldf \n",
    "search grants \n",
    "    in full_data for \"graphene AND computer AND iron\" \n",
    "return grants limit 5"
   ]
  },
  {
   "cell_type": "markdown",
   "metadata": {
    "Collapsed": "false"
   },
   "source": [
    "Special search indexes for persons names permit to perform full text\n",
    "searches on publications `authors` or grants `investigators`. Please see the\n",
    "*Researchers Search* section below for more information\n",
    "on how searches work in this case."
   ]
  },
  {
   "cell_type": "code",
   "execution_count": 11,
   "metadata": {
    "Collapsed": "false"
   },
   "outputs": [
    {
     "name": "stdout",
     "output_type": "stream",
     "text": [
      "Returned Publications: 5 (total = 332)\n",
      "\u001b[2mTime: 0.69s\u001b[0m\n"
     ]
    },
    {
     "data": {
      "text/html": [
       "<div>\n",
       "<style scoped>\n",
       "    .dataframe tbody tr th:only-of-type {\n",
       "        vertical-align: middle;\n",
       "    }\n",
       "\n",
       "    .dataframe tbody tr th {\n",
       "        vertical-align: top;\n",
       "    }\n",
       "\n",
       "    .dataframe thead th {\n",
       "        text-align: right;\n",
       "    }\n",
       "</style>\n",
       "<table border=\"1\" class=\"dataframe\">\n",
       "  <thead>\n",
       "    <tr style=\"text-align: right;\">\n",
       "      <th></th>\n",
       "      <th>id</th>\n",
       "      <th>title</th>\n",
       "      <th>volume</th>\n",
       "      <th>pages</th>\n",
       "      <th>type</th>\n",
       "      <th>year</th>\n",
       "      <th>author_affiliations</th>\n",
       "      <th>journal.id</th>\n",
       "      <th>journal.title</th>\n",
       "      <th>issue</th>\n",
       "    </tr>\n",
       "  </thead>\n",
       "  <tbody>\n",
       "    <tr>\n",
       "      <th>0</th>\n",
       "      <td>pub.1129492680</td>\n",
       "      <td>Engineering of Monosized Lipid-Coated Mesoporo...</td>\n",
       "      <td>114</td>\n",
       "      <td>358-368</td>\n",
       "      <td>article</td>\n",
       "      <td>2020</td>\n",
       "      <td>[[{'first_name': 'Achraf', 'last_name': 'Noure...</td>\n",
       "      <td>jour.1034525</td>\n",
       "      <td>Acta Biomaterialia</td>\n",
       "      <td>NaN</td>\n",
       "    </tr>\n",
       "    <tr>\n",
       "      <th>1</th>\n",
       "      <td>pub.1130231355</td>\n",
       "      <td>Site-Specific Bioconjugation through Enzyme-Ca...</td>\n",
       "      <td>NaN</td>\n",
       "      <td>NaN</td>\n",
       "      <td>article</td>\n",
       "      <td>2020</td>\n",
       "      <td>[[{'first_name': 'Marco J.', 'last_name': 'Lob...</td>\n",
       "      <td>jour.1051962</td>\n",
       "      <td>ACS Central Science</td>\n",
       "      <td>NaN</td>\n",
       "    </tr>\n",
       "    <tr>\n",
       "      <th>2</th>\n",
       "      <td>pub.1130116638</td>\n",
       "      <td>Chemistry of Class 1 CRISPR-Cas effectors: bin...</td>\n",
       "      <td>NaN</td>\n",
       "      <td>jbc.rev120.007034</td>\n",
       "      <td>article</td>\n",
       "      <td>2020</td>\n",
       "      <td>[[{'first_name': 'Tina Y.', 'last_name': 'Liu'...</td>\n",
       "      <td>jour.1077138</td>\n",
       "      <td>Journal of Biological Chemistry</td>\n",
       "      <td>NaN</td>\n",
       "    </tr>\n",
       "    <tr>\n",
       "      <th>3</th>\n",
       "      <td>pub.1129110288</td>\n",
       "      <td>A scoutRNA Is Required for Some Type V CRISPR-...</td>\n",
       "      <td>79</td>\n",
       "      <td>416-424.e5</td>\n",
       "      <td>article</td>\n",
       "      <td>2020</td>\n",
       "      <td>[[{'first_name': 'Lucas B.', 'last_name': 'Har...</td>\n",
       "      <td>jour.1117828</td>\n",
       "      <td>Molecular Cell</td>\n",
       "      <td>3</td>\n",
       "    </tr>\n",
       "    <tr>\n",
       "      <th>4</th>\n",
       "      <td>pub.1129776449</td>\n",
       "      <td>DNA capture by a CRISPR-Cas9–guided adenine ba...</td>\n",
       "      <td>369</td>\n",
       "      <td>566-571</td>\n",
       "      <td>article</td>\n",
       "      <td>2020</td>\n",
       "      <td>[[{'first_name': 'Audrone', 'last_name': 'Lapi...</td>\n",
       "      <td>jour.1346339</td>\n",
       "      <td>Science</td>\n",
       "      <td>6503</td>\n",
       "    </tr>\n",
       "  </tbody>\n",
       "</table>\n",
       "</div>"
      ],
      "text/plain": [
       "               id                                              title volume  \\\n",
       "0  pub.1129492680  Engineering of Monosized Lipid-Coated Mesoporo...    114   \n",
       "1  pub.1130231355  Site-Specific Bioconjugation through Enzyme-Ca...    NaN   \n",
       "2  pub.1130116638  Chemistry of Class 1 CRISPR-Cas effectors: bin...    NaN   \n",
       "3  pub.1129110288  A scoutRNA Is Required for Some Type V CRISPR-...     79   \n",
       "4  pub.1129776449  DNA capture by a CRISPR-Cas9–guided adenine ba...    369   \n",
       "\n",
       "               pages     type  year  \\\n",
       "0            358-368  article  2020   \n",
       "1                NaN  article  2020   \n",
       "2  jbc.rev120.007034  article  2020   \n",
       "3         416-424.e5  article  2020   \n",
       "4            566-571  article  2020   \n",
       "\n",
       "                                 author_affiliations    journal.id  \\\n",
       "0  [[{'first_name': 'Achraf', 'last_name': 'Noure...  jour.1034525   \n",
       "1  [[{'first_name': 'Marco J.', 'last_name': 'Lob...  jour.1051962   \n",
       "2  [[{'first_name': 'Tina Y.', 'last_name': 'Liu'...  jour.1077138   \n",
       "3  [[{'first_name': 'Lucas B.', 'last_name': 'Har...  jour.1117828   \n",
       "4  [[{'first_name': 'Audrone', 'last_name': 'Lapi...  jour.1346339   \n",
       "\n",
       "                     journal.title issue  \n",
       "0               Acta Biomaterialia   NaN  \n",
       "1              ACS Central Science   NaN  \n",
       "2  Journal of Biological Chemistry   NaN  \n",
       "3                   Molecular Cell     3  \n",
       "4                          Science  6503  "
      ]
     },
     "execution_count": 11,
     "metadata": {},
     "output_type": "execute_result"
    }
   ],
   "source": [
    "%dsldf search publications in authors for \"\\\"Jennifer A Doudna\\\"\" return publications limit 5"
   ]
  },
  {
   "cell_type": "markdown",
   "metadata": {
    "Collapsed": "false"
   },
   "source": [
    "### 2.2 `for \"search term\"`\n",
    "\n",
    "This optional phrase consists of the keyword `for` followed by a\n",
    "`search term` `string`, enclosed in double quotes (`\"`)."
   ]
  },
  {
   "cell_type": "markdown",
   "metadata": {
    "Collapsed": "false"
   },
   "source": [
    "Strings in double quotes can contain nested quotes escaped by a\n",
    "backslash `\\`. This will ensure that the string in nested double quotes\n",
    "is searched for as if it was a single phrase, not multiple words.\n",
    "\n",
    "An example of a phrase: `\"\\\"Machine Learning\\\"\"` : results must contain\n",
    "`Machine Learning` as a phrase."
   ]
  },
  {
   "cell_type": "code",
   "execution_count": 12,
   "metadata": {
    "Collapsed": "false"
   },
   "outputs": [
    {
     "name": "stdout",
     "output_type": "stream",
     "text": [
      "Returned Publications: 5 (total = 1217944)\n",
      "\u001b[2mTime: 1.88s\u001b[0m\n"
     ]
    },
    {
     "data": {
      "text/html": [
       "<div>\n",
       "<style scoped>\n",
       "    .dataframe tbody tr th:only-of-type {\n",
       "        vertical-align: middle;\n",
       "    }\n",
       "\n",
       "    .dataframe tbody tr th {\n",
       "        vertical-align: top;\n",
       "    }\n",
       "\n",
       "    .dataframe thead th {\n",
       "        text-align: right;\n",
       "    }\n",
       "</style>\n",
       "<table border=\"1\" class=\"dataframe\">\n",
       "  <thead>\n",
       "    <tr style=\"text-align: right;\">\n",
       "      <th></th>\n",
       "      <th>type</th>\n",
       "      <th>pages</th>\n",
       "      <th>author_affiliations</th>\n",
       "      <th>id</th>\n",
       "      <th>year</th>\n",
       "      <th>title</th>\n",
       "      <th>volume</th>\n",
       "      <th>issue</th>\n",
       "      <th>journal.id</th>\n",
       "      <th>journal.title</th>\n",
       "    </tr>\n",
       "  </thead>\n",
       "  <tbody>\n",
       "    <tr>\n",
       "      <th>0</th>\n",
       "      <td>chapter</td>\n",
       "      <td>243-248</td>\n",
       "      <td>[[{'first_name': 'Eetu', 'last_name': 'Heikkil...</td>\n",
       "      <td>pub.1124666091</td>\n",
       "      <td>2020</td>\n",
       "      <td>Towards maritime traffic coordination in the e...</td>\n",
       "      <td>NaN</td>\n",
       "      <td>NaN</td>\n",
       "      <td>NaN</td>\n",
       "      <td>NaN</td>\n",
       "    </tr>\n",
       "    <tr>\n",
       "      <th>1</th>\n",
       "      <td>chapter</td>\n",
       "      <td>39-60</td>\n",
       "      <td>[[{'first_name': 'Anya', 'last_name': 'Kamenet...</td>\n",
       "      <td>pub.1130268195</td>\n",
       "      <td>2020</td>\n",
       "      <td>2. DIY U</td>\n",
       "      <td>NaN</td>\n",
       "      <td>NaN</td>\n",
       "      <td>NaN</td>\n",
       "      <td>NaN</td>\n",
       "    </tr>\n",
       "    <tr>\n",
       "      <th>2</th>\n",
       "      <td>article</td>\n",
       "      <td>1726672</td>\n",
       "      <td>[[{'first_name': 'Sytske', 'last_name': 'Wiege...</td>\n",
       "      <td>pub.1125710665</td>\n",
       "      <td>2020</td>\n",
       "      <td>Recognizing hotspots in Brief Eclectic Psychot...</td>\n",
       "      <td>11</td>\n",
       "      <td>1</td>\n",
       "      <td>jour.1045059</td>\n",
       "      <td>European Journal of Psychotraumatology</td>\n",
       "    </tr>\n",
       "    <tr>\n",
       "      <th>3</th>\n",
       "      <td>article</td>\n",
       "      <td>41-54</td>\n",
       "      <td>[[{'first_name': 'Baze University Abuja', 'las...</td>\n",
       "      <td>pub.1126735888</td>\n",
       "      <td>2020</td>\n",
       "      <td>Capacitated vehicle routing problem with colum...</td>\n",
       "      <td>3</td>\n",
       "      <td>1</td>\n",
       "      <td>jour.1365688</td>\n",
       "      <td>Open Journal of Discrete Applied Mathematics</td>\n",
       "    </tr>\n",
       "    <tr>\n",
       "      <th>4</th>\n",
       "      <td>chapter</td>\n",
       "      <td>219-250</td>\n",
       "      <td>[[{'first_name': 'Jan', 'last_name': 'Goldenst...</td>\n",
       "      <td>pub.1124034443</td>\n",
       "      <td>2020</td>\n",
       "      <td>Die Erfassung und Messung von Bedeutungsstrukt...</td>\n",
       "      <td>NaN</td>\n",
       "      <td>NaN</td>\n",
       "      <td>NaN</td>\n",
       "      <td>NaN</td>\n",
       "    </tr>\n",
       "  </tbody>\n",
       "</table>\n",
       "</div>"
      ],
      "text/plain": [
       "      type    pages                                author_affiliations  \\\n",
       "0  chapter  243-248  [[{'first_name': 'Eetu', 'last_name': 'Heikkil...   \n",
       "1  chapter    39-60  [[{'first_name': 'Anya', 'last_name': 'Kamenet...   \n",
       "2  article  1726672  [[{'first_name': 'Sytske', 'last_name': 'Wiege...   \n",
       "3  article    41-54  [[{'first_name': 'Baze University Abuja', 'las...   \n",
       "4  chapter  219-250  [[{'first_name': 'Jan', 'last_name': 'Goldenst...   \n",
       "\n",
       "               id  year                                              title  \\\n",
       "0  pub.1124666091  2020  Towards maritime traffic coordination in the e...   \n",
       "1  pub.1130268195  2020                                           2. DIY U   \n",
       "2  pub.1125710665  2020  Recognizing hotspots in Brief Eclectic Psychot...   \n",
       "3  pub.1126735888  2020  Capacitated vehicle routing problem with colum...   \n",
       "4  pub.1124034443  2020  Die Erfassung und Messung von Bedeutungsstrukt...   \n",
       "\n",
       "  volume issue    journal.id                                 journal.title  \n",
       "0    NaN   NaN           NaN                                           NaN  \n",
       "1    NaN   NaN           NaN                                           NaN  \n",
       "2     11     1  jour.1045059        European Journal of Psychotraumatology  \n",
       "3      3     1  jour.1365688  Open Journal of Discrete Applied Mathematics  \n",
       "4    NaN   NaN           NaN                                           NaN  "
      ]
     },
     "execution_count": 12,
     "metadata": {},
     "output_type": "execute_result"
    }
   ],
   "source": [
    "%dsldf search publications for \"\\\"Machine Learning\\\"\" return publications limit 5"
   ]
  },
  {
   "cell_type": "markdown",
   "metadata": {
    "Collapsed": "false"
   },
   "source": [
    "Example of multiple keywords: `\"Machine Learning\"` : this searches for\n",
    "keywords independently."
   ]
  },
  {
   "cell_type": "code",
   "execution_count": 13,
   "metadata": {
    "Collapsed": "false"
   },
   "outputs": [
    {
     "name": "stdout",
     "output_type": "stream",
     "text": [
      "Returned Publications: 5 (total = 2524786)\n",
      "\u001b[2mTime: 1.53s\u001b[0m\n"
     ]
    },
    {
     "data": {
      "text/html": [
       "<div>\n",
       "<style scoped>\n",
       "    .dataframe tbody tr th:only-of-type {\n",
       "        vertical-align: middle;\n",
       "    }\n",
       "\n",
       "    .dataframe tbody tr th {\n",
       "        vertical-align: top;\n",
       "    }\n",
       "\n",
       "    .dataframe thead th {\n",
       "        text-align: right;\n",
       "    }\n",
       "</style>\n",
       "<table border=\"1\" class=\"dataframe\">\n",
       "  <thead>\n",
       "    <tr style=\"text-align: right;\">\n",
       "      <th></th>\n",
       "      <th>type</th>\n",
       "      <th>pages</th>\n",
       "      <th>id</th>\n",
       "      <th>year</th>\n",
       "      <th>title</th>\n",
       "      <th>author_affiliations</th>\n",
       "    </tr>\n",
       "  </thead>\n",
       "  <tbody>\n",
       "    <tr>\n",
       "      <th>0</th>\n",
       "      <td>chapter</td>\n",
       "      <td>65-368</td>\n",
       "      <td>pub.1127396158</td>\n",
       "      <td>2020</td>\n",
       "      <td>Documents</td>\n",
       "      <td>NaN</td>\n",
       "    </tr>\n",
       "    <tr>\n",
       "      <th>1</th>\n",
       "      <td>chapter</td>\n",
       "      <td>114-125</td>\n",
       "      <td>pub.1127466829</td>\n",
       "      <td>2020</td>\n",
       "      <td>The influence of ecological constraints on the...</td>\n",
       "      <td>[[{'first_name': 'André', 'last_name': 'Boyer'...</td>\n",
       "    </tr>\n",
       "    <tr>\n",
       "      <th>2</th>\n",
       "      <td>chapter</td>\n",
       "      <td>84-118</td>\n",
       "      <td>pub.1124947017</td>\n",
       "      <td>2020</td>\n",
       "      <td>4. Visualizing the Division of Labor: William ...</td>\n",
       "      <td>[[{'first_name': 'John', 'last_name': 'Barrell...</td>\n",
       "    </tr>\n",
       "    <tr>\n",
       "      <th>3</th>\n",
       "      <td>chapter</td>\n",
       "      <td>217-276</td>\n",
       "      <td>pub.1126774980</td>\n",
       "      <td>2020</td>\n",
       "      <td>4 Hinduism</td>\n",
       "      <td>[[{'first_name': 'Laurie L.', 'last_name': 'Pa...</td>\n",
       "    </tr>\n",
       "    <tr>\n",
       "      <th>4</th>\n",
       "      <td>chapter</td>\n",
       "      <td>44-58</td>\n",
       "      <td>pub.1125150382</td>\n",
       "      <td>2020</td>\n",
       "      <td>3. Rural-Urban Divides and Digital Literacy in...</td>\n",
       "      <td>[[{'first_name': 'Daariimaa', 'last_name': 'Ma...</td>\n",
       "    </tr>\n",
       "  </tbody>\n",
       "</table>\n",
       "</div>"
      ],
      "text/plain": [
       "      type    pages              id  year  \\\n",
       "0  chapter   65-368  pub.1127396158  2020   \n",
       "1  chapter  114-125  pub.1127466829  2020   \n",
       "2  chapter   84-118  pub.1124947017  2020   \n",
       "3  chapter  217-276  pub.1126774980  2020   \n",
       "4  chapter    44-58  pub.1125150382  2020   \n",
       "\n",
       "                                               title  \\\n",
       "0                                          Documents   \n",
       "1  The influence of ecological constraints on the...   \n",
       "2  4. Visualizing the Division of Labor: William ...   \n",
       "3                                         4 Hinduism   \n",
       "4  3. Rural-Urban Divides and Digital Literacy in...   \n",
       "\n",
       "                                 author_affiliations  \n",
       "0                                                NaN  \n",
       "1  [[{'first_name': 'André', 'last_name': 'Boyer'...  \n",
       "2  [[{'first_name': 'John', 'last_name': 'Barrell...  \n",
       "3  [[{'first_name': 'Laurie L.', 'last_name': 'Pa...  \n",
       "4  [[{'first_name': 'Daariimaa', 'last_name': 'Ma...  "
      ]
     },
     "execution_count": 13,
     "metadata": {},
     "output_type": "execute_result"
    }
   ],
   "source": [
    "%dsldf search publications for \"Machine Learning\" return publications limit 5"
   ]
  },
  {
   "cell_type": "markdown",
   "metadata": {
    "Collapsed": "false"
   },
   "source": [
    "Note: Special characters, such as any of `^ \" : ~ \\ [ ] { } ( ) ! | & +` must be escaped by a backslash `\\`. Also, please note escaping rules in\n",
    "[Python](http://python-reference.readthedocs.io/en/latest/docs/str/escapes.html) (or other languages). For example, when writing a query with escaped quotes, such as `search publications for \"\\\"phrase 1\\\" AND \\\"phrase 2\\\"\"`, in Python, it is necessary to escape the backslashes as well, so it\n",
    "would look like: `'search publications for \"\\\\\"phrase 1\\\\\" AND \\\\\"phrase 2\\\\\"\"'`. \n",
    "\n",
    "See the [official docs](https://docs.dimensions.ai/dsl/language.html#for-search-term) for more details."
   ]
  },
  {
   "cell_type": "markdown",
   "metadata": {
    "Collapsed": "false"
   },
   "source": [
    "### 2.3 Boolean Operators\n",
    "\n",
    "Search term can consist of multiple keywords or phrases connected using\n",
    "boolean logic operators, e.g. `AND`, `OR` and `NOT`."
   ]
  },
  {
   "cell_type": "code",
   "execution_count": 14,
   "metadata": {
    "Collapsed": "false"
   },
   "outputs": [
    {
     "name": "stdout",
     "output_type": "stream",
     "text": [
      "Returned Publications: 5 (total = 5370106)\n",
      "\u001b[2mTime: 1.00s\u001b[0m\n"
     ]
    },
    {
     "data": {
      "text/html": [
       "<div>\n",
       "<style scoped>\n",
       "    .dataframe tbody tr th:only-of-type {\n",
       "        vertical-align: middle;\n",
       "    }\n",
       "\n",
       "    .dataframe tbody tr th {\n",
       "        vertical-align: top;\n",
       "    }\n",
       "\n",
       "    .dataframe thead th {\n",
       "        text-align: right;\n",
       "    }\n",
       "</style>\n",
       "<table border=\"1\" class=\"dataframe\">\n",
       "  <thead>\n",
       "    <tr style=\"text-align: right;\">\n",
       "      <th></th>\n",
       "      <th>id</th>\n",
       "      <th>title</th>\n",
       "      <th>volume</th>\n",
       "      <th>issue</th>\n",
       "      <th>pages</th>\n",
       "      <th>type</th>\n",
       "      <th>year</th>\n",
       "      <th>author_affiliations</th>\n",
       "      <th>journal.id</th>\n",
       "      <th>journal.title</th>\n",
       "    </tr>\n",
       "  </thead>\n",
       "  <tbody>\n",
       "    <tr>\n",
       "      <th>0</th>\n",
       "      <td>pub.1124948447</td>\n",
       "      <td>Translational studies of estradiol and progest...</td>\n",
       "      <td>11</td>\n",
       "      <td>1</td>\n",
       "      <td>1723857</td>\n",
       "      <td>article</td>\n",
       "      <td>2020</td>\n",
       "      <td>[[{'first_name': 'Antonia V', 'last_name': 'Se...</td>\n",
       "      <td>jour.1045059</td>\n",
       "      <td>European Journal of Psychotraumatology</td>\n",
       "    </tr>\n",
       "    <tr>\n",
       "      <th>1</th>\n",
       "      <td>pub.1128226413</td>\n",
       "      <td>Interrupting traumatic memories in the emergen...</td>\n",
       "      <td>11</td>\n",
       "      <td>1</td>\n",
       "      <td>1750170</td>\n",
       "      <td>article</td>\n",
       "      <td>2020</td>\n",
       "      <td>[[{'first_name': 'Sara A.', 'last_name': 'Free...</td>\n",
       "      <td>jour.1045059</td>\n",
       "      <td>European Journal of Psychotraumatology</td>\n",
       "    </tr>\n",
       "    <tr>\n",
       "      <th>2</th>\n",
       "      <td>pub.1128351891</td>\n",
       "      <td>7. Wetland Animal Ecology</td>\n",
       "      <td>NaN</td>\n",
       "      <td>NaN</td>\n",
       "      <td>242-284</td>\n",
       "      <td>chapter</td>\n",
       "      <td>2020</td>\n",
       "      <td>[[{'first_name': 'Darold P.', 'last_name': 'Ba...</td>\n",
       "      <td>NaN</td>\n",
       "      <td>NaN</td>\n",
       "    </tr>\n",
       "    <tr>\n",
       "      <th>3</th>\n",
       "      <td>pub.1130114635</td>\n",
       "      <td>Correlation Of Calcium Levels With The Strengh...</td>\n",
       "      <td>NaN</td>\n",
       "      <td>NaN</td>\n",
       "      <td>174-181</td>\n",
       "      <td>chapter</td>\n",
       "      <td>2020</td>\n",
       "      <td>[[{'first_name': 'Joserizal', 'last_name': 'Se...</td>\n",
       "      <td>NaN</td>\n",
       "      <td>NaN</td>\n",
       "    </tr>\n",
       "    <tr>\n",
       "      <th>4</th>\n",
       "      <td>pub.1125801745</td>\n",
       "      <td>7. Conservation of the Amsterdam Sunflowers: F...</td>\n",
       "      <td>NaN</td>\n",
       "      <td>NaN</td>\n",
       "      <td>175-206</td>\n",
       "      <td>chapter</td>\n",
       "      <td>2020</td>\n",
       "      <td>[[{'first_name': 'Ella', 'last_name': 'Hendrik...</td>\n",
       "      <td>NaN</td>\n",
       "      <td>NaN</td>\n",
       "    </tr>\n",
       "  </tbody>\n",
       "</table>\n",
       "</div>"
      ],
      "text/plain": [
       "               id                                              title volume  \\\n",
       "0  pub.1124948447  Translational studies of estradiol and progest...     11   \n",
       "1  pub.1128226413  Interrupting traumatic memories in the emergen...     11   \n",
       "2  pub.1128351891                          7. Wetland Animal Ecology    NaN   \n",
       "3  pub.1130114635  Correlation Of Calcium Levels With The Strengh...    NaN   \n",
       "4  pub.1125801745  7. Conservation of the Amsterdam Sunflowers: F...    NaN   \n",
       "\n",
       "  issue    pages     type  year  \\\n",
       "0     1  1723857  article  2020   \n",
       "1     1  1750170  article  2020   \n",
       "2   NaN  242-284  chapter  2020   \n",
       "3   NaN  174-181  chapter  2020   \n",
       "4   NaN  175-206  chapter  2020   \n",
       "\n",
       "                                 author_affiliations    journal.id  \\\n",
       "0  [[{'first_name': 'Antonia V', 'last_name': 'Se...  jour.1045059   \n",
       "1  [[{'first_name': 'Sara A.', 'last_name': 'Free...  jour.1045059   \n",
       "2  [[{'first_name': 'Darold P.', 'last_name': 'Ba...           NaN   \n",
       "3  [[{'first_name': 'Joserizal', 'last_name': 'Se...           NaN   \n",
       "4  [[{'first_name': 'Ella', 'last_name': 'Hendrik...           NaN   \n",
       "\n",
       "                            journal.title  \n",
       "0  European Journal of Psychotraumatology  \n",
       "1  European Journal of Psychotraumatology  \n",
       "2                                     NaN  \n",
       "3                                     NaN  \n",
       "4                                     NaN  "
      ]
     },
     "execution_count": 14,
     "metadata": {},
     "output_type": "execute_result"
    }
   ],
   "source": [
    "%dsldf search publications for \"(dose AND concentration)\" return publications limit 5"
   ]
  },
  {
   "cell_type": "markdown",
   "metadata": {
    "Collapsed": "false"
   },
   "source": [
    "When specifying Boolean operators with keywords such as `AND`, `OR` and\n",
    "`NOT`, the keywords must appear in all uppercase. \n",
    "\n",
    "The operators available are shown in the table below.\n",
    ".\n",
    "\n",
    "| Boolean Operator | Alternative Symbol | Description                                                                                                                                                                 |\n",
    "|------------------|--------------------|-----------------------------------------------------------------------------------------------------------------------------------------------------------------------------|\n",
    "| `AND`            | `&&`               | Requires both terms on either side of the Boolean operator to be present for a match.                                                                                       |\n",
    "| `NOT`            | `!`                | Requires that the following term not be present.                                                                                                                            |\n",
    "| `OR`             | `||`               | Requires that either term (or both terms) be present for a match.                                                                                                           |\n",
    "|                  | `+`                | Requires that the following term be present.                                                                                                                                |\n",
    "|                  | `-`                | Prohibits the following term (that is, matches on fields or documents that do not include that term). The `-` operator is functionally similar to the Boolean operator `!`. |"
   ]
  },
  {
   "cell_type": "code",
   "execution_count": 15,
   "metadata": {
    "Collapsed": "false"
   },
   "outputs": [
    {
     "name": "stdout",
     "output_type": "stream",
     "text": [
      "Returned Publications: 5 (total = 1402625)\n",
      "\u001b[2mTime: 0.88s\u001b[0m\n"
     ]
    },
    {
     "data": {
      "text/html": [
       "<div>\n",
       "<style scoped>\n",
       "    .dataframe tbody tr th:only-of-type {\n",
       "        vertical-align: middle;\n",
       "    }\n",
       "\n",
       "    .dataframe tbody tr th {\n",
       "        vertical-align: top;\n",
       "    }\n",
       "\n",
       "    .dataframe thead th {\n",
       "        text-align: right;\n",
       "    }\n",
       "</style>\n",
       "<table border=\"1\" class=\"dataframe\">\n",
       "  <thead>\n",
       "    <tr style=\"text-align: right;\">\n",
       "      <th></th>\n",
       "      <th>type</th>\n",
       "      <th>pages</th>\n",
       "      <th>author_affiliations</th>\n",
       "      <th>id</th>\n",
       "      <th>year</th>\n",
       "      <th>title</th>\n",
       "    </tr>\n",
       "  </thead>\n",
       "  <tbody>\n",
       "    <tr>\n",
       "      <th>0</th>\n",
       "      <td>chapter</td>\n",
       "      <td>634-688</td>\n",
       "      <td>[[{'first_name': 'Antonio', 'last_name': 'Esta...</td>\n",
       "      <td>pub.1124248682</td>\n",
       "      <td>2020</td>\n",
       "      <td>17. Institutions for Infrastructure in Develop...</td>\n",
       "    </tr>\n",
       "    <tr>\n",
       "      <th>1</th>\n",
       "      <td>chapter</td>\n",
       "      <td>285-304</td>\n",
       "      <td>[[{'first_name': 'Eliot A.', 'last_name': 'Bre...</td>\n",
       "      <td>pub.1124946791</td>\n",
       "      <td>2020</td>\n",
       "      <td>16. The Neuroethology of Birdsong</td>\n",
       "    </tr>\n",
       "    <tr>\n",
       "      <th>2</th>\n",
       "      <td>chapter</td>\n",
       "      <td>1-8</td>\n",
       "      <td>[[{'first_name': 'John S.', 'last_name': 'Hend...</td>\n",
       "      <td>pub.1125788851</td>\n",
       "      <td>2020</td>\n",
       "      <td>Introduction: Murra, Materialism, Anthropology...</td>\n",
       "    </tr>\n",
       "    <tr>\n",
       "      <th>3</th>\n",
       "      <td>chapter</td>\n",
       "      <td>129-143</td>\n",
       "      <td>[[{'first_name': 'Campbell', 'last_name': 'Cra...</td>\n",
       "      <td>pub.1124248733</td>\n",
       "      <td>2020</td>\n",
       "      <td>8. India in the Early Nuclear Age</td>\n",
       "    </tr>\n",
       "    <tr>\n",
       "      <th>4</th>\n",
       "      <td>chapter</td>\n",
       "      <td>100-114</td>\n",
       "      <td>[[{'first_name': 'Isabelle', 'last_name': 'Roh...</td>\n",
       "      <td>pub.1128661435</td>\n",
       "      <td>2020</td>\n",
       "      <td>4. The Franco Regime and the Jews of North Afr...</td>\n",
       "    </tr>\n",
       "  </tbody>\n",
       "</table>\n",
       "</div>"
      ],
      "text/plain": [
       "      type    pages                                author_affiliations  \\\n",
       "0  chapter  634-688  [[{'first_name': 'Antonio', 'last_name': 'Esta...   \n",
       "1  chapter  285-304  [[{'first_name': 'Eliot A.', 'last_name': 'Bre...   \n",
       "2  chapter      1-8  [[{'first_name': 'John S.', 'last_name': 'Hend...   \n",
       "3  chapter  129-143  [[{'first_name': 'Campbell', 'last_name': 'Cra...   \n",
       "4  chapter  100-114  [[{'first_name': 'Isabelle', 'last_name': 'Roh...   \n",
       "\n",
       "               id  year                                              title  \n",
       "0  pub.1124248682  2020  17. Institutions for Infrastructure in Develop...  \n",
       "1  pub.1124946791  2020                  16. The Neuroethology of Birdsong  \n",
       "2  pub.1125788851  2020  Introduction: Murra, Materialism, Anthropology...  \n",
       "3  pub.1124248733  2020                  8. India in the Early Nuclear Age  \n",
       "4  pub.1128661435  2020  4. The Franco Regime and the Jews of North Afr...  "
      ]
     },
     "execution_count": 15,
     "metadata": {},
     "output_type": "execute_result"
    }
   ],
   "source": [
    "%dsldf search publications for \"(dose OR concentration) AND (-malaria +africa)\" return publications limit 5"
   ]
  },
  {
   "cell_type": "markdown",
   "metadata": {
    "Collapsed": "false"
   },
   "source": [
    "The combination of keywords and boolean operators allow to construct rather sophisticated queries. For example, here's a real-world query used to extract publications related to COVID-19. "
   ]
  },
  {
   "cell_type": "code",
   "execution_count": 16,
   "metadata": {
    "Collapsed": "false"
   },
   "outputs": [
    {
     "name": "stdout",
     "output_type": "stream",
     "text": [
      "search publications in full_data for \" \\\"2019-nCoV\\\" OR \\\"COVID-19\\\" OR \\\"SARS-CoV-2\\\" OR \\\"HCoV-2019\\\" OR \\\"hcov\\\" OR \\\"NCOVID-19\\\" OR  \n",
      "    \\\"severe acute respiratory syndrome coronavirus 2\\\" OR \\\"severe acute respiratory syndrome corona virus 2\\\" \n",
      "    OR ((\\\"coronavirus\\\"  OR \\\"corona virus\\\") AND (Wuhan OR China OR novel)) \" return publications\n",
      "Returned Publications: 20 (total = 193181)\n",
      "\u001b[2mTime: 6.47s\u001b[0m\n"
     ]
    },
    {
     "data": {
      "application/json": {
       "_stats": {
        "total_count": 193181
       },
       "_version": {
        "release": "1.27",
        "version": "1.27.0"
       },
       "publications": [
        {
         "author_affiliations": [
          [
           {
            "affiliations": [
             {
              "city": "Louvain-la-Neuve",
              "city_id": 2792073,
              "country": "Belgium",
              "country_code": "BE",
              "id": "grid.7942.8",
              "name": "Université Catholique de Louvain",
              "state": null,
              "state_code": null
             }
            ],
            "corresponding": "",
            "first_name": "Benjamin-Samuel",
            "last_name": "Schlüter",
            "orcid": ""
           },
           {
            "affiliations": [
             {
              "city": "Louvain-la-Neuve",
              "city_id": 2792073,
              "country": "Belgium",
              "country_code": "BE",
              "id": "grid.7942.8",
              "name": "Université Catholique de Louvain",
              "state": null,
              "state_code": null
             },
             {
              "city": "Paris",
              "city_id": 2988507,
              "country": "France",
              "country_code": "FR",
              "id": "grid.77048.3c",
              "name": "National Institute for Demographic Studies",
              "state": null,
              "state_code": null
             }
            ],
            "corresponding": "",
            "first_name": "Bruno",
            "last_name": "Masquelier",
            "orcid": "['0000-0002-9585-891X']"
           },
           {
            "affiliations": [
             {
              "city": "Princeton",
              "city_id": 5102922,
              "country": "United States",
              "country_code": "US",
              "id": "grid.16750.35",
              "name": "Princeton University",
              "state": "New Jersey",
              "state_code": "US-NJ"
             }
            ],
            "corresponding": "",
            "first_name": "C Jessica E",
            "last_name": "Metcalf",
            "orcid": ""
           },
           {
            "affiliations": [
             {
              "name": "Bureau Municipal d'Hygiène De La Commune Urbaine d'Antananarivo, Antananarivo, Madagascar."
             }
            ],
            "corresponding": "",
            "first_name": "Anjarasoa",
            "last_name": "Rasoanomenjanahary",
            "orcid": ""
           }
          ]
         ],
         "id": "pub.1124649186",
         "issue": "1",
         "journal": {
          "id": "jour.1041075",
          "title": "Global Health Action"
         },
         "pages": "1717411",
         "title": "Long-term trends in seasonality of mortality in urban Madagascar: the role of the epidemiological transition",
         "type": "article",
         "volume": "13",
         "year": 2020
        },
        {
         "author_affiliations": [
          [
           {
            "affiliations": [],
            "corresponding": "",
            "first_name": "Megan",
            "last_name": "Murray",
            "orcid": ""
           }
          ]
         ],
         "id": "pub.1130259457",
         "pages": "17-30",
         "title": "CHAPTER ONE. The Epidemiology of SARS",
         "type": "chapter",
         "year": 2020
        },
        {
         "author_affiliations": [
          [
           {
            "affiliations": [],
            "corresponding": "",
            "first_name": "Susanne",
            "last_name": "Lettow",
            "orcid": ""
           }
          ]
         ],
         "id": "pub.1130125051",
         "pages": "323-330",
         "title": "Weichenstellungen",
         "type": "chapter",
         "year": 2020
        },
        {
         "author_affiliations": [
          [
           {
            "affiliations": [],
            "corresponding": "",
            "first_name": "Georg",
            "last_name": "Annuß",
            "orcid": ""
           },
           {
            "affiliations": [],
            "corresponding": "",
            "first_name": "Claudia",
            "last_name": "Bittner",
            "orcid": ""
           },
           {
            "affiliations": [],
            "corresponding": "",
            "first_name": "Susanne",
            "last_name": "Clemenz",
            "orcid": ""
           },
           {
            "affiliations": [],
            "corresponding": "",
            "first_name": "Martin",
            "last_name": "Diller",
            "orcid": ""
           },
           {
            "affiliations": [],
            "corresponding": "",
            "first_name": "Boris",
            "last_name": "Dzida",
            "orcid": ""
           },
           {
            "affiliations": [],
            "corresponding": "",
            "first_name": "Benno Alexander",
            "last_name": "Fischer",
            "orcid": ""
           },
           {
            "affiliations": [],
            "corresponding": "",
            "first_name": "Hans Jörg",
            "last_name": "Gäntgen",
            "orcid": ""
           },
           {
            "affiliations": [],
            "corresponding": "",
            "first_name": "Björn",
            "last_name": "Gaul",
            "orcid": ""
           },
           {
            "affiliations": [],
            "corresponding": "",
            "first_name": "Richard",
            "last_name": "Giesen",
            "orcid": ""
           },
           {
            "affiliations": [],
            "corresponding": "",
            "first_name": "Martin",
            "last_name": "Henssler",
            "orcid": ""
           },
           {
            "affiliations": [],
            "corresponding": "",
            "first_name": "Carmen Silvia",
            "last_name": "Hergenröder",
            "orcid": ""
           },
           {
            "affiliations": [],
            "corresponding": "",
            "first_name": "Curt Wolfgang",
            "last_name": "Hergenröder",
            "orcid": ""
           },
           {
            "affiliations": [],
            "corresponding": "",
            "first_name": "Klaus-Stefan",
            "last_name": "Hohenstatt",
            "orcid": ""
           },
           {
            "affiliations": [],
            "corresponding": "",
            "first_name": "Clemens",
            "last_name": "Höpfner",
            "orcid": ""
           },
           {
            "affiliations": [],
            "corresponding": "",
            "first_name": "Heinz-Jürgen",
            "last_name": "Kalb",
            "orcid": ""
           },
           {
            "affiliations": [],
            "corresponding": "",
            "first_name": "Michael",
            "last_name": "Kliemt",
            "orcid": ""
           },
           {
            "affiliations": [],
            "corresponding": "",
            "first_name": "Saskia",
            "last_name": "Klug",
            "orcid": ""
           },
           {
            "affiliations": [],
            "corresponding": "",
            "first_name": "Rüdiger",
            "last_name": "Krause",
            "orcid": ""
           },
           {
            "affiliations": [],
            "corresponding": "",
            "first_name": "Mark",
            "last_name": "Lembke",
            "orcid": ""
           },
           {
            "affiliations": [],
            "corresponding": "",
            "first_name": "Josef",
            "last_name": "Molkenbur",
            "orcid": ""
           },
           {
            "affiliations": [],
            "corresponding": "",
            "first_name": "Thomas",
            "last_name": "Müller-Bonanni",
            "orcid": ""
           },
           {
            "affiliations": [],
            "corresponding": "",
            "first_name": "Susanne",
            "last_name": "Peters-Lange",
            "orcid": ""
           },
           {
            "affiliations": [],
            "corresponding": "",
            "first_name": "Martin",
            "last_name": "Quecke",
            "orcid": ""
           },
           {
            "affiliations": [],
            "corresponding": "",
            "first_name": "Hermann",
            "last_name": "Reichold",
            "orcid": ""
           },
           {
            "affiliations": [],
            "corresponding": "",
            "first_name": "Oliver",
            "last_name": "Ricken",
            "orcid": ""
           },
           {
            "affiliations": [],
            "corresponding": "",
            "first_name": "Sebastian",
            "last_name": "Roloff",
            "orcid": ""
           },
           {
            "affiliations": [],
            "corresponding": "",
            "first_name": "Hans-Jürgen",
            "last_name": "Rupp",
            "orcid": ""
           },
           {
            "affiliations": [],
            "corresponding": "",
            "first_name": "Bernd",
            "last_name": "Sandmann",
            "orcid": ""
           },
           {
            "affiliations": [],
            "corresponding": "",
            "first_name": "Reinhard",
            "last_name": "Schinz",
            "orcid": ""
           },
           {
            "affiliations": [],
            "corresponding": "",
            "first_name": "Johannes",
            "last_name": "Schipp",
            "orcid": ""
           },
           {
            "affiliations": [],
            "corresponding": "",
            "first_name": "Werner",
            "last_name": "Schmalenberg",
            "orcid": ""
           },
           {
            "affiliations": [],
            "corresponding": "",
            "first_name": "Christoph H.",
            "last_name": "Seibt",
            "orcid": ""
           },
           {
            "affiliations": [],
            "corresponding": "",
            "first_name": "Ulrich",
            "last_name": "Sittard",
            "orcid": ""
           },
           {
            "affiliations": [],
            "corresponding": "",
            "first_name": "Kathrin",
            "last_name": "Thies",
            "orcid": ""
           },
           {
            "affiliations": [],
            "corresponding": "",
            "first_name": "Gregor",
            "last_name": "Thüsing",
            "orcid": ""
           },
           {
            "affiliations": [],
            "corresponding": "",
            "first_name": "Jens",
            "last_name": "Tiedemann",
            "orcid": ""
           },
           {
            "affiliations": [],
            "corresponding": "",
            "first_name": "Kerstin",
            "last_name": "Tillmanns",
            "orcid": ""
           },
           {
            "affiliations": [],
            "corresponding": "",
            "first_name": "Jürgen",
            "last_name": "Treber",
            "orcid": ""
           },
           {
            "affiliations": [],
            "corresponding": "",
            "first_name": "Hinrich",
            "last_name": "Vogelsang",
            "orcid": ""
           },
           {
            "affiliations": [],
            "corresponding": "",
            "first_name": "Heinz Josef",
            "last_name": "Willemsen",
            "orcid": ""
           },
           {
            "affiliations": [],
            "corresponding": "",
            "first_name": "Werner",
            "last_name": "Ziemann",
            "orcid": ""
           }
          ]
         ],
         "id": "pub.1128360324",
         "pages": "376-429",
         "title": "Arbeitszeitgesetz",
         "type": "chapter",
         "year": 2020
        },
        {
         "author_affiliations": [
          [
           {
            "affiliations": [],
            "corresponding": "",
            "first_name": "Georg",
            "last_name": "Annuß",
            "orcid": ""
           },
           {
            "affiliations": [],
            "corresponding": "",
            "first_name": "Claudia",
            "last_name": "Bittner",
            "orcid": ""
           },
           {
            "affiliations": [],
            "corresponding": "",
            "first_name": "Susanne",
            "last_name": "Clemenz",
            "orcid": ""
           },
           {
            "affiliations": [],
            "corresponding": "",
            "first_name": "Martin",
            "last_name": "Diller",
            "orcid": ""
           },
           {
            "affiliations": [],
            "corresponding": "",
            "first_name": "Boris",
            "last_name": "Dzida",
            "orcid": ""
           },
           {
            "affiliations": [],
            "corresponding": "",
            "first_name": "Benno Alexander",
            "last_name": "Fischer",
            "orcid": ""
           },
           {
            "affiliations": [],
            "corresponding": "",
            "first_name": "Hans Jörg",
            "last_name": "Gäntgen",
            "orcid": ""
           },
           {
            "affiliations": [],
            "corresponding": "",
            "first_name": "Björn",
            "last_name": "Gaul",
            "orcid": ""
           },
           {
            "affiliations": [],
            "corresponding": "",
            "first_name": "Richard",
            "last_name": "Giesen",
            "orcid": ""
           },
           {
            "affiliations": [],
            "corresponding": "",
            "first_name": "Martin",
            "last_name": "Henssler",
            "orcid": ""
           },
           {
            "affiliations": [],
            "corresponding": "",
            "first_name": "Carmen Silvia",
            "last_name": "Hergenröder",
            "orcid": ""
           },
           {
            "affiliations": [],
            "corresponding": "",
            "first_name": "Curt Wolfgang",
            "last_name": "Hergenröder",
            "orcid": ""
           },
           {
            "affiliations": [],
            "corresponding": "",
            "first_name": "Klaus-Stefan",
            "last_name": "Hohenstatt",
            "orcid": ""
           },
           {
            "affiliations": [],
            "corresponding": "",
            "first_name": "Clemens",
            "last_name": "Höpfner",
            "orcid": ""
           },
           {
            "affiliations": [],
            "corresponding": "",
            "first_name": "Heinz-Jürgen",
            "last_name": "Kalb",
            "orcid": ""
           },
           {
            "affiliations": [],
            "corresponding": "",
            "first_name": "Michael",
            "last_name": "Kliemt",
            "orcid": ""
           },
           {
            "affiliations": [],
            "corresponding": "",
            "first_name": "Saskia",
            "last_name": "Klug",
            "orcid": ""
           },
           {
            "affiliations": [],
            "corresponding": "",
            "first_name": "Rüdiger",
            "last_name": "Krause",
            "orcid": ""
           },
           {
            "affiliations": [],
            "corresponding": "",
            "first_name": "Mark",
            "last_name": "Lembke",
            "orcid": ""
           },
           {
            "affiliations": [],
            "corresponding": "",
            "first_name": "Josef",
            "last_name": "Molkenbur",
            "orcid": ""
           },
           {
            "affiliations": [],
            "corresponding": "",
            "first_name": "Thomas",
            "last_name": "Müller-Bonanni",
            "orcid": ""
           },
           {
            "affiliations": [],
            "corresponding": "",
            "first_name": "Susanne",
            "last_name": "Peters-Lange",
            "orcid": ""
           },
           {
            "affiliations": [],
            "corresponding": "",
            "first_name": "Martin",
            "last_name": "Quecke",
            "orcid": ""
           },
           {
            "affiliations": [],
            "corresponding": "",
            "first_name": "Hermann",
            "last_name": "Reichold",
            "orcid": ""
           },
           {
            "affiliations": [],
            "corresponding": "",
            "first_name": "Oliver",
            "last_name": "Ricken",
            "orcid": ""
           },
           {
            "affiliations": [],
            "corresponding": "",
            "first_name": "Sebastian",
            "last_name": "Roloff",
            "orcid": ""
           },
           {
            "affiliations": [],
            "corresponding": "",
            "first_name": "Hans-Jürgen",
            "last_name": "Rupp",
            "orcid": ""
           },
           {
            "affiliations": [],
            "corresponding": "",
            "first_name": "Bernd",
            "last_name": "Sandmann",
            "orcid": ""
           },
           {
            "affiliations": [],
            "corresponding": "",
            "first_name": "Reinhard",
            "last_name": "Schinz",
            "orcid": ""
           },
           {
            "affiliations": [],
            "corresponding": "",
            "first_name": "Johannes",
            "last_name": "Schipp",
            "orcid": ""
           },
           {
            "affiliations": [],
            "corresponding": "",
            "first_name": "Werner",
            "last_name": "Schmalenberg",
            "orcid": ""
           },
           {
            "affiliations": [],
            "corresponding": "",
            "first_name": "Christoph H.",
            "last_name": "Seibt",
            "orcid": ""
           },
           {
            "affiliations": [],
            "corresponding": "",
            "first_name": "Ulrich",
            "last_name": "Sittard",
            "orcid": ""
           },
           {
            "affiliations": [],
            "corresponding": "",
            "first_name": "Kathrin",
            "last_name": "Thies",
            "orcid": ""
           },
           {
            "affiliations": [],
            "corresponding": "",
            "first_name": "Gregor",
            "last_name": "Thüsing",
            "orcid": ""
           },
           {
            "affiliations": [],
            "corresponding": "",
            "first_name": "Jens",
            "last_name": "Tiedemann",
            "orcid": ""
           },
           {
            "affiliations": [],
            "corresponding": "",
            "first_name": "Kerstin",
            "last_name": "Tillmanns",
            "orcid": ""
           },
           {
            "affiliations": [],
            "corresponding": "",
            "first_name": "Jürgen",
            "last_name": "Treber",
            "orcid": ""
           },
           {
            "affiliations": [],
            "corresponding": "",
            "first_name": "Hinrich",
            "last_name": "Vogelsang",
            "orcid": ""
           },
           {
            "affiliations": [],
            "corresponding": "",
            "first_name": "Heinz Josef",
            "last_name": "Willemsen",
            "orcid": ""
           },
           {
            "affiliations": [],
            "corresponding": "",
            "first_name": "Werner",
            "last_name": "Ziemann",
            "orcid": ""
           }
          ]
         ],
         "id": "pub.1128361223",
         "pages": "2785-2839",
         "title": "Sozialgesetzbuch Drittes Buch – Arbeitsförderung (Auszug) §§ 38, 95–100, 104–106a, 110–111a, 157–160",
         "type": "chapter",
         "year": 2020
        },
        {
         "author_affiliations": [
          [
           {
            "affiliations": [],
            "corresponding": "",
            "first_name": "Elke",
            "last_name": "Krasny",
            "orcid": ""
           }
          ]
         ],
         "id": "pub.1130123231",
         "pages": "405-414",
         "title": "In-Sorge-Bleiben",
         "type": "chapter",
         "year": 2020
        },
        {
         "author_affiliations": [
          [
           {
            "affiliations": [],
            "corresponding": "",
            "first_name": "Katharina",
            "last_name": "Block",
            "orcid": ""
           }
          ]
         ],
         "id": "pub.1130117179",
         "pages": "155-164",
         "title": "Die Corona-Pandemie als Phänomen des Unverfügbaren",
         "type": "chapter",
         "year": 2020
        },
        {
         "author_affiliations": [
          [
           {
            "affiliations": [],
            "corresponding": "",
            "first_name": "Klaus",
            "last_name": "Dörre",
            "orcid": ""
           }
          ]
         ],
         "id": "pub.1130120636",
         "pages": "309-322",
         "title": "Die Corona-Pandemie",
         "type": "chapter",
         "year": 2020
        },
        {
         "author_affiliations": [
          [
           {
            "affiliations": [],
            "corresponding": "",
            "first_name": "Angelika",
            "last_name": "Epple",
            "orcid": ""
           }
          ]
         ],
         "id": "pub.1130123229",
         "pages": "25-34",
         "title": "Die Schule des Vergleichens und die Suche nach der Wahrheit wissenschaftlicher Fakten",
         "type": "chapter",
         "year": 2020
        },
        {
         "author_affiliations": [
          [
           {
            "affiliations": [
             {
              "city": "Rawalpindi",
              "city_id": 1166993,
              "country": "Pakistan",
              "country_code": "PK",
              "id": "grid.444999.d",
              "name": "Fatima Jinnah Women University",
              "state": null,
              "state_code": null
             },
             {
              "city": "Islamabad",
              "city_id": 1176615,
              "country": "Pakistan",
              "country_code": "PK",
              "id": "grid.413930.c",
              "name": "Health Services Academy",
              "state": null,
              "state_code": null
             }
            ],
            "corresponding": "",
            "first_name": "Saima",
            "last_name": "Hamid",
            "orcid": ""
           },
           {
            "affiliations": [
             {
              "city": "Islamabad",
              "city_id": 1176615,
              "country": "Pakistan",
              "country_code": "PK",
              "id": "grid.413930.c",
              "name": "Health Services Academy",
              "state": null,
              "state_code": null
             }
            ],
            "corresponding": "",
            "first_name": "Sheh",
            "last_name": "Mureed",
            "orcid": ""
           },
           {
            "affiliations": [
             {
              "city": "Rawalpindi",
              "city_id": 1166993,
              "country": "Pakistan",
              "country_code": "PK",
              "id": "grid.414319.a",
              "name": "Holy Family Hospital",
              "state": null,
              "state_code": null
             }
            ],
            "corresponding": "",
            "first_name": "Aasia",
            "last_name": "Kayani",
            "orcid": ""
           },
           {
            "affiliations": [
             {
              "city": "Rawalpindi",
              "city_id": 1166993,
              "country": "Pakistan",
              "country_code": "PK",
              "id": "grid.414319.a",
              "name": "Holy Family Hospital",
              "state": null,
              "state_code": null
             }
            ],
            "corresponding": "",
            "first_name": "Kiran",
            "last_name": "Javed",
            "orcid": ""
           },
           {
            "affiliations": [
             {
              "city": "Islamabad",
              "city_id": 1176615,
              "country": "Pakistan",
              "country_code": "PK",
              "id": "grid.413930.c",
              "name": "Health Services Academy",
              "state": null,
              "state_code": null
             }
            ],
            "corresponding": "",
            "first_name": "Adnan",
            "last_name": "Khan",
            "orcid": ""
           },
           {
            "affiliations": [
             {
              "city": "Islamabad",
              "city_id": 1176615,
              "country": "Pakistan",
              "country_code": "PK",
              "id": "grid.413930.c",
              "name": "Health Services Academy",
              "state": null,
              "state_code": null
             }
            ],
            "corresponding": "",
            "first_name": "Sayema",
            "last_name": "Awais",
            "orcid": ""
           },
           {
            "affiliations": [
             {
              "city": "Islamabad",
              "city_id": 1176615,
              "country": "Pakistan",
              "country_code": "PK",
              "id": "grid.413930.c",
              "name": "Health Services Academy",
              "state": null,
              "state_code": null
             }
            ],
            "corresponding": "",
            "first_name": "Neelam",
            "last_name": "Khan",
            "orcid": ""
           },
           {
            "affiliations": [
             {
              "city": "Islamabad",
              "city_id": 1176615,
              "country": "Pakistan",
              "country_code": "PK",
              "id": "grid.413930.c",
              "name": "Health Services Academy",
              "state": null,
              "state_code": null
             }
            ],
            "corresponding": "",
            "first_name": "Fakiha",
            "last_name": "Tus-Salam",
            "orcid": ""
           },
           {
            "affiliations": [
             {
              "name": "Active Implementation Research Network , Chapel Hill, North Carolina, United States."
             }
            ],
            "corresponding": "",
            "first_name": "Dean L",
            "last_name": "Fixsen",
            "orcid": ""
           }
          ]
         ],
         "id": "pub.1130314277",
         "issue": "1",
         "journal": {
          "id": "jour.1041075",
          "title": "Global Health Action"
         },
         "pages": "1805164",
         "title": "Learning Active Implementation Frameworks: the role of implementation teams in a case study from Pakistan",
         "type": "article",
         "volume": "13",
         "year": 2020
        },
        {
         "author_affiliations": [
          [
           {
            "affiliations": [],
            "corresponding": "",
            "first_name": "Stefan",
            "last_name": "Hirschauer",
            "orcid": ""
           }
          ]
         ],
         "id": "pub.1130113660",
         "pages": "217-226",
         "title": "Pandemische Humandifferenzierung",
         "type": "chapter",
         "year": 2020
        },
        {
         "author_affiliations": [
          [
           {
            "affiliations": [],
            "corresponding": "",
            "first_name": "Ingolfur",
            "last_name": "Blühdorn",
            "orcid": ""
           }
          ]
         ],
         "id": "pub.1130123134",
         "pages": "227-240",
         "title": "Das Virus der Nicht-Nachhaltigkeit",
         "type": "chapter",
         "year": 2020
        },
        {
         "author_affiliations": [
          [
           {
            "affiliations": [],
            "corresponding": "",
            "first_name": "Franz",
            "last_name": "Mauelshagen",
            "orcid": ""
           }
          ]
         ],
         "id": "pub.1130121810",
         "pages": "35-44",
         "title": "Das Antlitz des Leviathan",
         "type": "chapter",
         "year": 2020
        },
        {
         "author_affiliations": [
          [
           {
            "affiliations": [],
            "corresponding": "",
            "first_name": "Sarah",
            "last_name": "Speck",
            "orcid": ""
           }
          ]
         ],
         "id": "pub.1130114852",
         "pages": "135-142",
         "title": "Zuhause arbeiten",
         "type": "chapter",
         "year": 2020
        },
        {
         "author_affiliations": [
          [
           {
            "affiliations": [
             {
              "name": "Department of Psychiatry, Amsterdam Neuroscience & Public Health, Amsterdam UMC, Amsterdam, The Netherlands."
             },
             {
              "name": "ARQ National Psychotrauma Centre, Diemen, The Netherlands."
             }
            ],
            "corresponding": "",
            "first_name": "Miranda",
            "last_name": "Olff",
            "orcid": "['0000-0003-1016-9515']"
           },
           {
            "affiliations": [
             {
              "name": "Department of Psychiatry, Amsterdam UMC, Amsterdam, The Netherlands."
             }
            ],
            "corresponding": "",
            "first_name": "Anne",
            "last_name": "Bakker",
            "orcid": "['0000-0002-3248-2441']"
           },
           {
            "affiliations": [
             {
              "city": "London",
              "city_id": 6058560,
              "country": "Canada",
              "country_code": "CA",
              "id": "grid.39381.30",
              "name": "Western University",
              "state": "Ontario",
              "state_code": "CA-ON"
             }
            ],
            "corresponding": "",
            "first_name": "Paul",
            "last_name": "Frewen",
            "orcid": ""
           },
           {
            "affiliations": [
             {
              "city": "Oslo",
              "city_id": 3143244,
              "country": "Norway",
              "country_code": "NO",
              "id": "grid.504188.0",
              "name": "Norwegian Centre for Violence and Traumatic Stress Studies",
              "state": null,
              "state_code": null
             }
            ],
            "corresponding": "",
            "first_name": "Helene",
            "last_name": "Aakvaag",
            "orcid": ""
           },
           {
            "affiliations": [
             {
              "city": "Zagreb",
              "city_id": 3186886,
              "country": "Croatia",
              "country_code": "HR",
              "id": "grid.4808.4",
              "name": "University of Zagreb",
              "state": null,
              "state_code": null
             }
            ],
            "corresponding": "",
            "first_name": "Dean",
            "last_name": "Ajdukovic",
            "orcid": ""
           },
           {
            "affiliations": [
             {
              "name": "Ramsay Health Care, The Hollywood Clinic, Perth, Australia."
             }
            ],
            "corresponding": "",
            "first_name": "Douglas",
            "last_name": "Brewer",
            "orcid": ""
           },
           {
            "affiliations": [
             {
              "city": "Durham",
              "city_id": 4464368,
              "country": "United States",
              "country_code": "US",
              "id": "grid.26009.3d",
              "name": "Duke University",
              "state": "North Carolina",
              "state_code": "US-NC"
             }
            ],
            "corresponding": "",
            "first_name": "Diane L",
            "last_name": "Elmore Borbon",
            "orcid": ""
           },
           {
            "affiliations": [
             {
              "city": "Stanford",
              "city_id": 5398563,
              "country": "United States",
              "country_code": "US",
              "id": "grid.168010.e",
              "name": "Stanford University",
              "state": "California",
              "state_code": "US-CA"
             }
            ],
            "corresponding": "",
            "first_name": "Marylène",
            "last_name": "Cloitre",
            "orcid": ""
           },
           {
            "affiliations": [
             {
              "city": "Maynooth",
              "city_id": 2962668,
              "country": "Ireland",
              "country_code": "IE",
              "id": "grid.95004.38",
              "name": "National University of Ireland, Maynooth",
              "state": null,
              "state_code": null
             }
            ],
            "corresponding": "",
            "first_name": "Philip",
            "last_name": "Hyland",
            "orcid": "['0000-0002-9574-7128']"
           },
           {
            "affiliations": [
             {
              "city": "Philadelphia",
              "city_id": 4560349,
              "country": "United States",
              "country_code": "US",
              "id": "grid.239552.a",
              "name": "Children's Hospital of Philadelphia",
              "state": "Pennsylvania",
              "state_code": "US-PA"
             },
             {
              "city": "Philadelphia",
              "city_id": 4560349,
              "country": "United States",
              "country_code": "US",
              "id": "grid.239552.a",
              "name": "Children's Hospital of Philadelphia",
              "state": "Pennsylvania",
              "state_code": "US-PA"
             },
             {
              "city": "Philadelphia",
              "city_id": 4560349,
              "country": "United States",
              "country_code": "US",
              "id": "grid.25879.31",
              "name": "University of Pennsylvania",
              "state": "Pennsylvania",
              "state_code": "US-PA"
             }
            ],
            "corresponding": "",
            "first_name": "Nancy",
            "last_name": "Kassam-Adams",
            "orcid": "['0000-0001-7412-1428']"
           },
           {
            "affiliations": [
             {
              "city": "Vienna",
              "city_id": 2761369,
              "country": "Austria",
              "country_code": "AT",
              "id": "grid.10420.37",
              "name": "University of Vienna",
              "state": null,
              "state_code": null
             }
            ],
            "corresponding": "",
            "first_name": "Matthias",
            "last_name": "Knefel",
            "orcid": "['0000-0003-0632-0673']"
           },
           {
            "affiliations": [
             {
              "name": "Traumatic Stress Unit, Psychiatric Emergency Hospital, Buenos City, Argentina."
             },
             {
              "name": "Human Factors, Emergency Medical Care System (SAME), Buenos Aires City, Argentina."
             }
            ],
            "corresponding": "",
            "first_name": "Juliana A",
            "last_name": "Lanza",
            "orcid": ""
           },
           {
            "affiliations": [
             {
              "city": "Vienna",
              "city_id": 2761369,
              "country": "Austria",
              "country_code": "AT",
              "id": "grid.10420.37",
              "name": "University of Vienna",
              "state": null,
              "state_code": null
             }
            ],
            "corresponding": "",
            "first_name": "Brigitte",
            "last_name": "Lueger-Schuster",
            "orcid": "['0000-0003-0784-8437']"
           },
           {
            "affiliations": [
             {
              "city": "Sydney",
              "city_id": 2147714,
              "country": "Australia",
              "country_code": "AU",
              "id": "grid.1005.4",
              "name": "UNSW Sydney",
              "state": "New South Wales",
              "state_code": "AU-NSW"
             }
            ],
            "corresponding": "",
            "first_name": "Angela",
            "last_name": "Nickerson",
            "orcid": "['0000-0001-9171-4209']"
           },
           {
            "affiliations": [
             {
              "city": "Kurume",
              "city_id": 1858088,
              "country": "Japan",
              "country_code": "JP",
              "id": "grid.410781.b",
              "name": "Kurume University",
              "state": null,
              "state_code": null
             }
            ],
            "corresponding": "",
            "first_name": "Misari",
            "last_name": "Oe",
            "orcid": "['0000-0003-4550-036X']"
           },
           {
            "affiliations": [
             {
              "city": "Zurich",
              "city_id": 2657896,
              "country": "Switzerland",
              "country_code": "CH",
              "id": "grid.412004.3",
              "name": "University Hospital of Zurich",
              "state": null,
              "state_code": null
             }
            ],
            "corresponding": "",
            "first_name": "Monique C",
            "last_name": "Pfaltz",
            "orcid": "['0000-0002-7762-6226']"
           },
           {
            "affiliations": [
             {
              "city": "Talca",
              "city_id": 3870294,
              "country": "Chile",
              "country_code": "CL",
              "id": "grid.411964.f",
              "name": "Catholic University of the Maule",
              "state": null,
              "state_code": null
             }
            ],
            "corresponding": "",
            "first_name": "Carolina",
            "last_name": "Salgado",
            "orcid": ""
           },
           {
            "affiliations": [
             {
              "city": "Stellenbosch",
              "city_id": 3361025,
              "country": "South Africa",
              "country_code": "ZA",
              "id": "grid.11956.3a",
              "name": "Stellenbosch University",
              "state": null,
              "state_code": null
             }
            ],
            "corresponding": "",
            "first_name": "Soraya",
            "last_name": "Seedat",
            "orcid": "['0000-0002-5118-786X']"
           },
           {
            "affiliations": [
             {
              "city": "Toronto",
              "city_id": 6167865,
              "country": "Canada",
              "country_code": "CA",
              "id": "grid.68312.3e",
              "name": "Ryerson University",
              "state": "Ontario",
              "state_code": "CA-ON"
             },
             {
              "name": "Department of Psychology, Ryerson University, Toronto, Canada and Remedy, Toronto, Canada."
             }
            ],
            "corresponding": "",
            "first_name": "Anne",
            "last_name": "Wagner",
            "orcid": ""
           },
           {
            "affiliations": [
             {
              "name": "Department of Consultation-Liaison Psychiatry and Psychosomatic Medicine, University Hospital Zurich, University of Zurich, Zurich, Switzerland."
             }
            ],
            "corresponding": "",
            "first_name": "Ulrich",
            "last_name": "Schnyder",
            "orcid": "['0000-0003-3556-7990']"
           }
          ]
         ],
         "id": "pub.1127162174",
         "issue": "1",
         "journal": {
          "id": "jour.1045059",
          "title": "European Journal of Psychotraumatology"
         },
         "pages": "1752504",
         "title": "Screening for consequences of trauma – an update on the global collaboration on traumatic stress",
         "type": "article",
         "volume": "11",
         "year": 2020
        },
        {
         "author_affiliations": [
          [
           {
            "affiliations": [
             {
              "city": "Umeå",
              "city_id": 602150,
              "country": "Sweden",
              "country_code": "SE",
              "id": "grid.12650.30",
              "name": "Umeå University",
              "state": null,
              "state_code": null
             },
             {
              "city": "Aberdeen",
              "city_id": 2657832,
              "country": "United Kingdom",
              "country_code": "GB",
              "id": "grid.7107.1",
              "name": "University of Aberdeen",
              "state": null,
              "state_code": null
             },
             {
              "city": "Johannesburg",
              "city_id": 993800,
              "country": "South Africa",
              "country_code": "ZA",
              "id": "grid.11951.3d",
              "name": "University of the Witwatersrand",
              "state": null,
              "state_code": null
             }
            ],
            "corresponding": "",
            "first_name": "Peter",
            "last_name": "Byass",
            "orcid": "['0000-0001-5474-4361']"
           }
          ]
         ],
         "id": "pub.1127605002",
         "issue": "1",
         "journal": {
          "id": "jour.1041075",
          "title": "Global Health Action"
         },
         "pages": "1760490",
         "title": "Eco-epidemiological assessment of the COVID-19 epidemic in China, January–February 2020",
         "type": "article",
         "volume": "13",
         "year": 2020
        },
        {
         "author_affiliations": [
          [
           {
            "affiliations": [
             {
              "city": "Hanoi",
              "city_id": 1581130,
              "country": "Vietnam",
              "country_code": "VN",
              "id": "grid.448980.9",
              "name": "Hanoi University",
              "state": null,
              "state_code": null
             }
            ],
            "corresponding": "",
            "first_name": "Van Minh",
            "last_name": "Hoang",
            "orcid": "['0000-0002-4749-5536']"
           },
           {
            "affiliations": [
             {
              "city": "Hanoi",
              "city_id": 1581130,
              "country": "Vietnam",
              "country_code": "VN",
              "id": "grid.448980.9",
              "name": "Hanoi University",
              "state": null,
              "state_code": null
             }
            ],
            "corresponding": "",
            "first_name": "Hong Hanh",
            "last_name": "Hoang",
            "orcid": ""
           },
           {
            "affiliations": [
             {
              "city": "Hanoi",
              "city_id": 1581130,
              "country": "Vietnam",
              "country_code": "VN",
              "id": "grid.448980.9",
              "name": "Hanoi University",
              "state": null,
              "state_code": null
             }
            ],
            "corresponding": "",
            "first_name": "Quynh Long",
            "last_name": "Khuong",
            "orcid": ""
           },
           {
            "affiliations": [
             {
              "city": "Hanoi",
              "city_id": 1581130,
              "country": "Vietnam",
              "country_code": "VN",
              "id": "grid.448980.9",
              "name": "Hanoi University",
              "state": null,
              "state_code": null
             }
            ],
            "corresponding": "",
            "first_name": "Ngoc Quang",
            "last_name": "La",
            "orcid": ""
           },
           {
            "affiliations": [
             {
              "city": "Hanoi",
              "city_id": 1581130,
              "country": "Vietnam",
              "country_code": "VN",
              "id": "grid.448980.9",
              "name": "Hanoi University",
              "state": null,
              "state_code": null
             }
            ],
            "corresponding": "",
            "first_name": "Thi Tuyet Hanh",
            "last_name": "Tran",
            "orcid": ""
           }
          ]
         ],
         "id": "pub.1128779540",
         "issue": "1",
         "journal": {
          "id": "jour.1041075",
          "title": "Global Health Action"
         },
         "pages": "1776526",
         "title": "Describing the pattern of the COVID-19 epidemic in Vietnam",
         "type": "article",
         "volume": "13",
         "year": 2020
        },
        {
         "id": "pub.1128354812",
         "pages": "377-648",
         "title": "Bürgerliches Gesetzbuch (BGB). Part 1",
         "type": "chapter",
         "year": 2020
        },
        {
         "author_affiliations": [
          [
           {
            "affiliations": [
             {
              "city": "Cambridge",
              "city_id": 2653941,
              "country": "United Kingdom",
              "country_code": "GB",
              "id": "grid.5335.0",
              "name": "University of Cambridge",
              "state": null,
              "state_code": null
             },
             {
              "city": "Rondebosch",
              "city_id": 7302802,
              "country": "South Africa",
              "country_code": "ZA",
              "id": "grid.7836.a",
              "name": "University of Cape Town",
              "state": null,
              "state_code": null
             }
            ],
            "corresponding": "",
            "first_name": "Tolu",
            "last_name": "Oni",
            "orcid": ""
           },
           {
            "affiliations": [
             {
              "city": "Johannesburg",
              "city_id": 993800,
              "country": "South Africa",
              "country_code": "ZA",
              "id": "grid.11951.3d",
              "name": "University of the Witwatersrand",
              "state": null,
              "state_code": null
             }
            ],
            "corresponding": "",
            "first_name": "Lisa K",
            "last_name": "Micklesfield",
            "orcid": ""
           },
           {
            "affiliations": [
             {
              "city": "Kisii",
              "city_id": 191299,
              "country": "Kenya",
              "country_code": "KE",
              "id": "grid.448782.5",
              "name": "Kisii University",
              "state": null,
              "state_code": null
             }
            ],
            "corresponding": "",
            "first_name": "Pamela",
            "last_name": "Wadende",
            "orcid": ""
           },
           {
            "affiliations": [
             {
              "city": "Nairobi",
              "city_id": 184745,
              "country": "Kenya",
              "country_code": "KE",
              "id": "grid.33058.3d",
              "name": "Kenya Medical Research Institute",
              "state": null,
              "state_code": null
             }
            ],
            "corresponding": "",
            "first_name": "Charles O",
            "last_name": "Obonyo",
            "orcid": ""
           },
           {
            "affiliations": [
             {
              "city": "Cambridge",
              "city_id": 2653941,
              "country": "United Kingdom",
              "country_code": "GB",
              "id": "grid.5335.0",
              "name": "University of Cambridge",
              "state": null,
              "state_code": null
             }
            ],
            "corresponding": "",
            "first_name": "James",
            "last_name": "Woodcock",
            "orcid": ""
           },
           {
            "affiliations": [
             {
              "city": "Cambridge",
              "city_id": 2653941,
              "country": "United Kingdom",
              "country_code": "GB",
              "id": "grid.5335.0",
              "name": "University of Cambridge",
              "state": null,
              "state_code": null
             }
            ],
            "corresponding": "",
            "first_name": "Ebele R I",
            "last_name": "Mogo",
            "orcid": ""
           },
           {
            "affiliations": [
             {
              "city": "Rondebosch",
              "city_id": 7302802,
              "country": "South Africa",
              "country_code": "ZA",
              "id": "grid.7836.a",
              "name": "University of Cape Town",
              "state": null,
              "state_code": null
             }
            ],
            "corresponding": "",
            "first_name": "Feyisayo A",
            "last_name": "Odunitan-Wayas",
            "orcid": ""
           },
           {
            "affiliations": [
             {
              "city": "Yaoundé",
              "city_id": 2220957,
              "country": "Cameroon",
              "country_code": "CM",
              "id": "grid.412661.6",
              "name": "Université de Yaoundé I",
              "state": null,
              "state_code": null
             }
            ],
            "corresponding": "",
            "first_name": "Felix",
            "last_name": "Assah",
            "orcid": ""
           },
           {
            "affiliations": [
             {
              "city": "Cambridge",
              "city_id": 2653941,
              "country": "United Kingdom",
              "country_code": "GB",
              "id": "grid.5335.0",
              "name": "University of Cambridge",
              "state": null,
              "state_code": null
             },
             {
              "city": "Yaoundé",
              "city_id": 2220957,
              "country": "Cameroon",
              "country_code": "CM",
              "id": "grid.412661.6",
              "name": "Université de Yaoundé I",
              "state": null,
              "state_code": null
             }
            ],
            "corresponding": "",
            "first_name": "Lambed",
            "last_name": "Tatah",
            "orcid": ""
           },
           {
            "affiliations": [
             {
              "city": "Cambridge",
              "city_id": 2653941,
              "country": "United Kingdom",
              "country_code": "GB",
              "id": "grid.5335.0",
              "name": "University of Cambridge",
              "state": null,
              "state_code": null
             }
            ],
            "corresponding": "",
            "first_name": "Louise",
            "last_name": "Foley",
            "orcid": ""
           },
           {
            "affiliations": [
             {
              "city": "Yaoundé",
              "city_id": 2220957,
              "country": "Cameroon",
              "country_code": "CM",
              "id": "grid.412661.6",
              "name": "Université de Yaoundé I",
              "state": null,
              "state_code": null
             }
            ],
            "corresponding": "",
            "first_name": "Clarisse",
            "last_name": "Mapa-Tassou",
            "orcid": ""
           },
           {
            "affiliations": [
             {
              "city": "Cambridge",
              "city_id": 2653941,
              "country": "United Kingdom",
              "country_code": "GB",
              "id": "grid.5335.0",
              "name": "University of Cambridge",
              "state": null,
              "state_code": null
             }
            ],
            "corresponding": "",
            "first_name": "Divya",
            "last_name": "Bhagtani",
            "orcid": ""
           },
           {
            "affiliations": [
             {
              "city": "Rondebosch",
              "city_id": 7302802,
              "country": "South Africa",
              "country_code": "ZA",
              "id": "grid.7836.a",
              "name": "University of Cape Town",
              "state": null,
              "state_code": null
             }
            ],
            "corresponding": "",
            "first_name": "Amy",
            "last_name": "Weimann",
            "orcid": ""
           },
           {
            "affiliations": [
             {
              "city": "Cambridge",
              "city_id": 2653941,
              "country": "United Kingdom",
              "country_code": "GB",
              "id": "grid.5335.0",
              "name": "University of Cambridge",
              "state": null,
              "state_code": null
             },
             {
              "city": "Yaoundé",
              "city_id": 2220957,
              "country": "Cameroon",
              "country_code": "CM",
              "id": "grid.412661.6",
              "name": "Université de Yaoundé I",
              "state": null,
              "state_code": null
             }
            ],
            "corresponding": "",
            "first_name": "Camille",
            "last_name": "Mba",
            "orcid": ""
           },
           {
            "affiliations": [
             {
              "city": "Cambridge",
              "city_id": 2653941,
              "country": "United Kingdom",
              "country_code": "GB",
              "id": "grid.5335.0",
              "name": "University of Cambridge",
              "state": null,
              "state_code": null
             }
            ],
            "corresponding": "",
            "first_name": "Nigel",
            "last_name": "Unwin",
            "orcid": ""
           },
           {
            "affiliations": [
             {
              "city": "Cambridge",
              "city_id": 2653941,
              "country": "United Kingdom",
              "country_code": "GB",
              "id": "grid.5335.0",
              "name": "University of Cambridge",
              "state": null,
              "state_code": null
             }
            ],
            "corresponding": "",
            "first_name": "Anna",
            "last_name": "Brugulat-Panés",
            "orcid": ""
           },
           {
            "affiliations": [
             {
              "city": "Johannesburg",
              "city_id": 993800,
              "country": "South Africa",
              "country_code": "ZA",
              "id": "grid.11951.3d",
              "name": "University of the Witwatersrand",
              "state": null,
              "state_code": null
             }
            ],
            "corresponding": "",
            "first_name": "Karen J",
            "last_name": "Hofman",
            "orcid": ""
           },
           {
            "affiliations": [
             {
              "city": "Kingston",
              "city_id": 3489854,
              "country": "Jamaica",
              "country_code": "JM",
              "id": "grid.12916.3d",
              "name": "University of the West Indies",
              "state": null,
              "state_code": null
             }
            ],
            "corresponding": "",
            "first_name": "Joanne",
            "last_name": "Smith",
            "orcid": ""
           },
           {
            "affiliations": [
             {
              "city": "Kingston",
              "city_id": 3489854,
              "country": "Jamaica",
              "country_code": "JM",
              "id": "grid.12916.3d",
              "name": "University of the West Indies",
              "state": null,
              "state_code": null
             }
            ],
            "corresponding": "",
            "first_name": "Marshall",
            "last_name": "Tulloch-Reid",
            "orcid": ""
           },
           {
            "affiliations": [
             {
              "city": "Johannesburg",
              "city_id": 993800,
              "country": "South Africa",
              "country_code": "ZA",
              "id": "grid.11951.3d",
              "name": "University of the Witwatersrand",
              "state": null,
              "state_code": null
             }
            ],
            "corresponding": "",
            "first_name": "Agnes",
            "last_name": "Erzse",
            "orcid": ""
           },
           {
            "affiliations": [
             {
              "city": "Rondebosch",
              "city_id": 7302802,
              "country": "South Africa",
              "country_code": "ZA",
              "id": "grid.7836.a",
              "name": "University of Cape Town",
              "state": null,
              "state_code": null
             }
            ],
            "corresponding": "",
            "first_name": "Maylene",
            "last_name": "Shung-King",
            "orcid": ""
           },
           {
            "affiliations": [
             {
              "city": "Rondebosch",
              "city_id": 7302802,
              "country": "South Africa",
              "country_code": "ZA",
              "id": "grid.7836.a",
              "name": "University of Cape Town",
              "state": null,
              "state_code": null
             }
            ],
            "corresponding": "",
            "first_name": "Estelle V",
            "last_name": "Lambert",
            "orcid": ""
           },
           {
            "affiliations": [
             {
              "city": "Cambridge",
              "city_id": 2653941,
              "country": "United Kingdom",
              "country_code": "GB",
              "id": "grid.5335.0",
              "name": "University of Cambridge",
              "state": null,
              "state_code": null
             }
            ],
            "corresponding": "",
            "first_name": "Nicholas J",
            "last_name": "Wareham",
            "orcid": ""
           }
          ]
         ],
         "id": "pub.1130479619",
         "issue": "1",
         "journal": {
          "id": "jour.1041075",
          "title": "Global Health Action"
         },
         "pages": "1810415",
         "title": "Implications of COVID-19 control measures for diet and physical activity, and lessons for addressing other pandemics facing rapidly urbanising countries",
         "type": "article",
         "volume": "13",
         "year": 2020
        },
        {
         "author_affiliations": [
          [
           {
            "affiliations": [],
            "corresponding": "",
            "first_name": "Katharina",
            "last_name": "Manderscheid",
            "orcid": ""
           }
          ]
         ],
         "id": "pub.1130125508",
         "pages": "101-110",
         "title": "Über die unerwünschte Mobilität von Viren und unterbrochene Mobilitäten von Gütern und Menschen",
         "type": "chapter",
         "year": 2020
        }
       ]
      },
      "text/plain": [
       "<dimcli.DslDataset object #4662481968. Records: 20/193181>"
      ]
     },
     "execution_count": 16,
     "metadata": {
      "application/json": {
       "expanded": false,
       "root": "root"
      }
     },
     "output_type": "execute_result"
    }
   ],
   "source": [
    "q_inner = \"\"\" \"2019-nCoV\" OR \"COVID-19\" OR \"SARS-CoV-2\" OR \"HCoV-2019\" OR \"hcov\" OR \"NCOVID-19\" OR  \n",
    "    \"severe acute respiratory syndrome coronavirus 2\" OR \"severe acute respiratory syndrome corona virus 2\" \n",
    "    OR ((\"coronavirus\"  OR \"corona virus\") AND (Wuhan OR China OR novel)) \"\"\"\n",
    "\n",
    "# tip: dsl_escape is a dimcli utility function for escaping special characters \n",
    "q_outer = f\"\"\"search publications in full_data for \"{dsl_escape(q_inner)}\" return publications\"\"\"\n",
    "print(q_outer)\n",
    "\n",
    "dsl.query(q_outer)"
   ]
  },
  {
   "cell_type": "markdown",
   "metadata": {
    "Collapsed": "false"
   },
   "source": [
    "### 2.4 Wildcard Searches\n",
    "\n",
    "The DSL supports single and multiple character wildcard searches within\n",
    "single terms. Wildcard characters can be applied to single terms, but\n",
    "not to search phrases."
   ]
  },
  {
   "cell_type": "code",
   "execution_count": 17,
   "metadata": {
    "Collapsed": "false"
   },
   "outputs": [
    {
     "name": "stdout",
     "output_type": "stream",
     "text": [
      "Returned Publications: 5 (total = 144)\n",
      "\u001b[2mTime: 0.88s\u001b[0m\n"
     ]
    },
    {
     "data": {
      "text/html": [
       "<div>\n",
       "<style scoped>\n",
       "    .dataframe tbody tr th:only-of-type {\n",
       "        vertical-align: middle;\n",
       "    }\n",
       "\n",
       "    .dataframe tbody tr th {\n",
       "        vertical-align: top;\n",
       "    }\n",
       "\n",
       "    .dataframe thead th {\n",
       "        text-align: right;\n",
       "    }\n",
       "</style>\n",
       "<table border=\"1\" class=\"dataframe\">\n",
       "  <thead>\n",
       "    <tr style=\"text-align: right;\">\n",
       "      <th></th>\n",
       "      <th>title</th>\n",
       "      <th>pages</th>\n",
       "      <th>author_affiliations</th>\n",
       "      <th>year</th>\n",
       "      <th>issue</th>\n",
       "      <th>id</th>\n",
       "      <th>type</th>\n",
       "      <th>volume</th>\n",
       "      <th>journal.id</th>\n",
       "      <th>journal.title</th>\n",
       "    </tr>\n",
       "  </thead>\n",
       "  <tbody>\n",
       "    <tr>\n",
       "      <th>0</th>\n",
       "      <td>Non-imported malaria in Italy: paradigmatic ap...</td>\n",
       "      <td>857</td>\n",
       "      <td>[[{'first_name': 'Daniela', 'last_name': 'Bocc...</td>\n",
       "      <td>2020</td>\n",
       "      <td>1</td>\n",
       "      <td>pub.1128245696</td>\n",
       "      <td>article</td>\n",
       "      <td>20</td>\n",
       "      <td>jour.1024954</td>\n",
       "      <td>BMC Public Health</td>\n",
       "    </tr>\n",
       "    <tr>\n",
       "      <th>1</th>\n",
       "      <td>A Cluster of Cryptic Plasmodium falciparum Mal...</td>\n",
       "      <td>NaN</td>\n",
       "      <td>[[{'first_name': 'Gaetano', 'last_name': 'Brin...</td>\n",
       "      <td>2020</td>\n",
       "      <td>NaN</td>\n",
       "      <td>pub.1130290794</td>\n",
       "      <td>article</td>\n",
       "      <td>NaN</td>\n",
       "      <td>jour.1023805</td>\n",
       "      <td>Vector-Borne and Zoonotic Diseases</td>\n",
       "    </tr>\n",
       "    <tr>\n",
       "      <th>2</th>\n",
       "      <td>Seasons in Italy: Northern European travelers,...</td>\n",
       "      <td>1-20</td>\n",
       "      <td>[[{'first_name': 'Benjamin', 'last_name': 'Rei...</td>\n",
       "      <td>2020</td>\n",
       "      <td>NaN</td>\n",
       "      <td>pub.1124231018</td>\n",
       "      <td>article</td>\n",
       "      <td>NaN</td>\n",
       "      <td>jour.1141817</td>\n",
       "      <td>Journal of Tourism and Cultural Change</td>\n",
       "    </tr>\n",
       "    <tr>\n",
       "      <th>3</th>\n",
       "      <td>Updated guidelines for malaria prophylaxis in ...</td>\n",
       "      <td>101544</td>\n",
       "      <td>[[{'first_name': 'Guido', 'last_name': 'Caller...</td>\n",
       "      <td>2020</td>\n",
       "      <td>NaN</td>\n",
       "      <td>pub.1123222257</td>\n",
       "      <td>article</td>\n",
       "      <td>33</td>\n",
       "      <td>jour.1034401</td>\n",
       "      <td>Travel Medicine and Infectious Disease</td>\n",
       "    </tr>\n",
       "    <tr>\n",
       "      <th>4</th>\n",
       "      <td>Clinical management of imported malaria in Ita...</td>\n",
       "      <td>28-33</td>\n",
       "      <td>[[{'first_name': 'Luciana', 'last_name': 'Lepo...</td>\n",
       "      <td>2020</td>\n",
       "      <td>1</td>\n",
       "      <td>pub.1125332077</td>\n",
       "      <td>article</td>\n",
       "      <td>43</td>\n",
       "      <td>jour.1089291</td>\n",
       "      <td>Microbiologica</td>\n",
       "    </tr>\n",
       "  </tbody>\n",
       "</table>\n",
       "</div>"
      ],
      "text/plain": [
       "                                               title   pages  \\\n",
       "0  Non-imported malaria in Italy: paradigmatic ap...     857   \n",
       "1  A Cluster of Cryptic Plasmodium falciparum Mal...     NaN   \n",
       "2  Seasons in Italy: Northern European travelers,...    1-20   \n",
       "3  Updated guidelines for malaria prophylaxis in ...  101544   \n",
       "4  Clinical management of imported malaria in Ita...   28-33   \n",
       "\n",
       "                                 author_affiliations  year issue  \\\n",
       "0  [[{'first_name': 'Daniela', 'last_name': 'Bocc...  2020     1   \n",
       "1  [[{'first_name': 'Gaetano', 'last_name': 'Brin...  2020   NaN   \n",
       "2  [[{'first_name': 'Benjamin', 'last_name': 'Rei...  2020   NaN   \n",
       "3  [[{'first_name': 'Guido', 'last_name': 'Caller...  2020   NaN   \n",
       "4  [[{'first_name': 'Luciana', 'last_name': 'Lepo...  2020     1   \n",
       "\n",
       "               id     type volume    journal.id  \\\n",
       "0  pub.1128245696  article     20  jour.1024954   \n",
       "1  pub.1130290794  article    NaN  jour.1023805   \n",
       "2  pub.1124231018  article    NaN  jour.1141817   \n",
       "3  pub.1123222257  article     33  jour.1034401   \n",
       "4  pub.1125332077  article     43  jour.1089291   \n",
       "\n",
       "                            journal.title  \n",
       "0                       BMC Public Health  \n",
       "1      Vector-Borne and Zoonotic Diseases  \n",
       "2  Journal of Tourism and Cultural Change  \n",
       "3  Travel Medicine and Infectious Disease  \n",
       "4                          Microbiologica  "
      ]
     },
     "execution_count": 17,
     "metadata": {},
     "output_type": "execute_result"
    }
   ],
   "source": [
    "%dsldf search publications in title_only for \"ital? malaria\" return publications limit 5"
   ]
  },
  {
   "cell_type": "code",
   "execution_count": 18,
   "metadata": {
    "Collapsed": "false"
   },
   "outputs": [
    {
     "name": "stdout",
     "output_type": "stream",
     "text": [
      "Returned Publications: 5 (total = 1541)\n",
      "\u001b[2mTime: 0.51s\u001b[0m\n"
     ]
    },
    {
     "data": {
      "text/html": [
       "<div>\n",
       "<style scoped>\n",
       "    .dataframe tbody tr th:only-of-type {\n",
       "        vertical-align: middle;\n",
       "    }\n",
       "\n",
       "    .dataframe tbody tr th {\n",
       "        vertical-align: top;\n",
       "    }\n",
       "\n",
       "    .dataframe thead th {\n",
       "        text-align: right;\n",
       "    }\n",
       "</style>\n",
       "<table border=\"1\" class=\"dataframe\">\n",
       "  <thead>\n",
       "    <tr style=\"text-align: right;\">\n",
       "      <th></th>\n",
       "      <th>type</th>\n",
       "      <th>volume</th>\n",
       "      <th>pages</th>\n",
       "      <th>author_affiliations</th>\n",
       "      <th>id</th>\n",
       "      <th>year</th>\n",
       "      <th>issue</th>\n",
       "      <th>title</th>\n",
       "      <th>journal.id</th>\n",
       "      <th>journal.title</th>\n",
       "    </tr>\n",
       "  </thead>\n",
       "  <tbody>\n",
       "    <tr>\n",
       "      <th>0</th>\n",
       "      <td>article</td>\n",
       "      <td>20</td>\n",
       "      <td>857</td>\n",
       "      <td>[[{'first_name': 'Daniela', 'last_name': 'Bocc...</td>\n",
       "      <td>pub.1128245696</td>\n",
       "      <td>2020</td>\n",
       "      <td>1</td>\n",
       "      <td>Non-imported malaria in Italy: paradigmatic ap...</td>\n",
       "      <td>jour.1024954</td>\n",
       "      <td>BMC Public Health</td>\n",
       "    </tr>\n",
       "    <tr>\n",
       "      <th>1</th>\n",
       "      <td>article</td>\n",
       "      <td>19</td>\n",
       "      <td>24</td>\n",
       "      <td>[[{'first_name': 'Monica P.', 'last_name': 'Sh...</td>\n",
       "      <td>pub.1124106064</td>\n",
       "      <td>2020</td>\n",
       "      <td>1</td>\n",
       "      <td>The effectiveness of older insecticide-treated...</td>\n",
       "      <td>jour.1030597</td>\n",
       "      <td>Malaria Journal</td>\n",
       "    </tr>\n",
       "    <tr>\n",
       "      <th>2</th>\n",
       "      <td>article</td>\n",
       "      <td>19</td>\n",
       "      <td>299</td>\n",
       "      <td>[[{'first_name': 'Lemu', 'last_name': 'Golassa...</td>\n",
       "      <td>pub.1130290155</td>\n",
       "      <td>2020</td>\n",
       "      <td>1</td>\n",
       "      <td>The biology of unconventional invasion of Duff...</td>\n",
       "      <td>jour.1030597</td>\n",
       "      <td>Malaria Journal</td>\n",
       "    </tr>\n",
       "    <tr>\n",
       "      <th>3</th>\n",
       "      <td>article</td>\n",
       "      <td>13</td>\n",
       "      <td>348</td>\n",
       "      <td>[[{'first_name': 'Richard', 'last_name': 'Echo...</td>\n",
       "      <td>pub.1129556766</td>\n",
       "      <td>2020</td>\n",
       "      <td>1</td>\n",
       "      <td>High insecticide resistances levels in Anophel...</td>\n",
       "      <td>jour.1039457</td>\n",
       "      <td>BMC Research Notes</td>\n",
       "    </tr>\n",
       "    <tr>\n",
       "      <th>4</th>\n",
       "      <td>article</td>\n",
       "      <td>NaN</td>\n",
       "      <td>104530</td>\n",
       "      <td>[[{'first_name': 'Kirti', 'last_name': 'Upmany...</td>\n",
       "      <td>pub.1130570962</td>\n",
       "      <td>2020</td>\n",
       "      <td>NaN</td>\n",
       "      <td>Allelic variation of msp-3α gene in Plasmodium...</td>\n",
       "      <td>jour.1027256</td>\n",
       "      <td>Infection Genetics and Evolution</td>\n",
       "    </tr>\n",
       "  </tbody>\n",
       "</table>\n",
       "</div>"
      ],
      "text/plain": [
       "      type volume   pages                                author_affiliations  \\\n",
       "0  article     20     857  [[{'first_name': 'Daniela', 'last_name': 'Bocc...   \n",
       "1  article     19      24  [[{'first_name': 'Monica P.', 'last_name': 'Sh...   \n",
       "2  article     19     299  [[{'first_name': 'Lemu', 'last_name': 'Golassa...   \n",
       "3  article     13     348  [[{'first_name': 'Richard', 'last_name': 'Echo...   \n",
       "4  article    NaN  104530  [[{'first_name': 'Kirti', 'last_name': 'Upmany...   \n",
       "\n",
       "               id  year issue  \\\n",
       "0  pub.1128245696  2020     1   \n",
       "1  pub.1124106064  2020     1   \n",
       "2  pub.1130290155  2020     1   \n",
       "3  pub.1129556766  2020     1   \n",
       "4  pub.1130570962  2020   NaN   \n",
       "\n",
       "                                               title    journal.id  \\\n",
       "0  Non-imported malaria in Italy: paradigmatic ap...  jour.1024954   \n",
       "1  The effectiveness of older insecticide-treated...  jour.1030597   \n",
       "2  The biology of unconventional invasion of Duff...  jour.1030597   \n",
       "3  High insecticide resistances levels in Anophel...  jour.1039457   \n",
       "4  Allelic variation of msp-3α gene in Plasmodium...  jour.1027256   \n",
       "\n",
       "                      journal.title  \n",
       "0                 BMC Public Health  \n",
       "1                   Malaria Journal  \n",
       "2                   Malaria Journal  \n",
       "3                BMC Research Notes  \n",
       "4  Infection Genetics and Evolution  "
      ]
     },
     "execution_count": 18,
     "metadata": {},
     "output_type": "execute_result"
    }
   ],
   "source": [
    "%dsldf search publications in title_only for \"it* malaria\" return publications limit 5"
   ]
  },
  {
   "cell_type": "markdown",
   "metadata": {
    "Collapsed": "false"
   },
   "source": [
    "| Wildcard Search Type                                             | Special Character | Example                                                                                                                                                                                                                         |\n",
    "|------------------------------------------------------------------|-------------------|---------------------------------------------------------------------------------------------------------------------------------------------------------------------------------------------------------------------------------|\n",
    "| Single character - matches a single character                    | `?`               | The search string `te?t` would match both `test` and `text`.                                                                                                                                                                    |\n",
    "| Multiple characters - matches zero or more sequential characters | `*`               | The wildcard search: `tes*` would match `test`, `testing`, and `tester`. You can also use wildcard characters in the middle of a term. For example: `te*t` would match `test` and `text`. `*est` would match `pest` and `test`. |"
   ]
  },
  {
   "cell_type": "markdown",
   "metadata": {
    "Collapsed": "false"
   },
   "source": [
    "### 2.5 Proximity Searches\n",
    "\n",
    "A proximity search looks for terms that are within a specific distance\n",
    "from one another.\n",
    "\n",
    "To perform a proximity search, add the tilde character `~` and a numeric\n",
    "value to the end of a search phrase. For example, to search for a\n",
    "`formal` and `model` within 10 words of each other in a document, use\n",
    "the search:"
   ]
  },
  {
   "cell_type": "code",
   "execution_count": 19,
   "metadata": {
    "Collapsed": "false"
   },
   "outputs": [
    {
     "name": "stdout",
     "output_type": "stream",
     "text": [
      "Returned Publications: 5 (total = 483576)\n",
      "\u001b[2mTime: 2.48s\u001b[0m\n"
     ]
    },
    {
     "data": {
      "text/html": [
       "<div>\n",
       "<style scoped>\n",
       "    .dataframe tbody tr th:only-of-type {\n",
       "        vertical-align: middle;\n",
       "    }\n",
       "\n",
       "    .dataframe tbody tr th {\n",
       "        vertical-align: top;\n",
       "    }\n",
       "\n",
       "    .dataframe thead th {\n",
       "        text-align: right;\n",
       "    }\n",
       "</style>\n",
       "<table border=\"1\" class=\"dataframe\">\n",
       "  <thead>\n",
       "    <tr style=\"text-align: right;\">\n",
       "      <th></th>\n",
       "      <th>title</th>\n",
       "      <th>pages</th>\n",
       "      <th>author_affiliations</th>\n",
       "      <th>year</th>\n",
       "      <th>id</th>\n",
       "      <th>type</th>\n",
       "      <th>issue</th>\n",
       "      <th>volume</th>\n",
       "      <th>journal.id</th>\n",
       "      <th>journal.title</th>\n",
       "    </tr>\n",
       "  </thead>\n",
       "  <tbody>\n",
       "    <tr>\n",
       "      <th>0</th>\n",
       "      <td>1. The Political Economy of Environmental Just...</td>\n",
       "      <td>1-20</td>\n",
       "      <td>[[{'first_name': 'H. Spencer', 'last_name': 'B...</td>\n",
       "      <td>2020</td>\n",
       "      <td>pub.1130374367</td>\n",
       "      <td>chapter</td>\n",
       "      <td>NaN</td>\n",
       "      <td>NaN</td>\n",
       "      <td>NaN</td>\n",
       "      <td>NaN</td>\n",
       "    </tr>\n",
       "    <tr>\n",
       "      <th>1</th>\n",
       "      <td>15. Organizational Governance</td>\n",
       "      <td>513-555</td>\n",
       "      <td>[[{'first_name': 'Nicolai J.', 'last_name': 'F...</td>\n",
       "      <td>2020</td>\n",
       "      <td>pub.1130267294</td>\n",
       "      <td>chapter</td>\n",
       "      <td>NaN</td>\n",
       "      <td>NaN</td>\n",
       "      <td>NaN</td>\n",
       "      <td>NaN</td>\n",
       "    </tr>\n",
       "    <tr>\n",
       "      <th>2</th>\n",
       "      <td>2. Clientelistic Politics and Economic Develop...</td>\n",
       "      <td>84-102</td>\n",
       "      <td>[[{'first_name': 'Pranab', 'last_name': 'Bardh...</td>\n",
       "      <td>2020</td>\n",
       "      <td>pub.1124248667</td>\n",
       "      <td>chapter</td>\n",
       "      <td>NaN</td>\n",
       "      <td>NaN</td>\n",
       "      <td>NaN</td>\n",
       "      <td>NaN</td>\n",
       "    </tr>\n",
       "    <tr>\n",
       "      <th>3</th>\n",
       "      <td>4. The Classification of Organizational Forms</td>\n",
       "      <td>84-110</td>\n",
       "      <td>[[{'first_name': 'Martin', 'last_name': 'Ruef'...</td>\n",
       "      <td>2020</td>\n",
       "      <td>pub.1130269657</td>\n",
       "      <td>chapter</td>\n",
       "      <td>NaN</td>\n",
       "      <td>NaN</td>\n",
       "      <td>NaN</td>\n",
       "      <td>NaN</td>\n",
       "    </tr>\n",
       "    <tr>\n",
       "      <th>4</th>\n",
       "      <td>Building cooperative learning to address alcoh...</td>\n",
       "      <td>1726722</td>\n",
       "      <td>[[{'first_name': 'Oladapo', 'last_name': 'Olad...</td>\n",
       "      <td>2020</td>\n",
       "      <td>pub.1125320181</td>\n",
       "      <td>article</td>\n",
       "      <td>1</td>\n",
       "      <td>13</td>\n",
       "      <td>jour.1041075</td>\n",
       "      <td>Global Health Action</td>\n",
       "    </tr>\n",
       "  </tbody>\n",
       "</table>\n",
       "</div>"
      ],
      "text/plain": [
       "                                               title    pages  \\\n",
       "0  1. The Political Economy of Environmental Just...     1-20   \n",
       "1                      15. Organizational Governance  513-555   \n",
       "2  2. Clientelistic Politics and Economic Develop...   84-102   \n",
       "3      4. The Classification of Organizational Forms   84-110   \n",
       "4  Building cooperative learning to address alcoh...  1726722   \n",
       "\n",
       "                                 author_affiliations  year              id  \\\n",
       "0  [[{'first_name': 'H. Spencer', 'last_name': 'B...  2020  pub.1130374367   \n",
       "1  [[{'first_name': 'Nicolai J.', 'last_name': 'F...  2020  pub.1130267294   \n",
       "2  [[{'first_name': 'Pranab', 'last_name': 'Bardh...  2020  pub.1124248667   \n",
       "3  [[{'first_name': 'Martin', 'last_name': 'Ruef'...  2020  pub.1130269657   \n",
       "4  [[{'first_name': 'Oladapo', 'last_name': 'Olad...  2020  pub.1125320181   \n",
       "\n",
       "      type issue volume    journal.id         journal.title  \n",
       "0  chapter   NaN    NaN           NaN                   NaN  \n",
       "1  chapter   NaN    NaN           NaN                   NaN  \n",
       "2  chapter   NaN    NaN           NaN                   NaN  \n",
       "3  chapter   NaN    NaN           NaN                   NaN  \n",
       "4  article     1     13  jour.1041075  Global Health Action  "
      ]
     },
     "execution_count": 19,
     "metadata": {},
     "output_type": "execute_result"
    }
   ],
   "source": [
    "%dsldf search publications for \"\\\"formal model\\\"~10\" return publications limit 5"
   ]
  },
  {
   "cell_type": "code",
   "execution_count": 20,
   "metadata": {
    "Collapsed": "false"
   },
   "outputs": [
    {
     "name": "stdout",
     "output_type": "stream",
     "text": [
      "Returned Publications: 5 (total = 8109)\n",
      "\u001b[2mTime: 1.36s\u001b[0m\n"
     ]
    },
    {
     "data": {
      "text/html": [
       "<div>\n",
       "<style scoped>\n",
       "    .dataframe tbody tr th:only-of-type {\n",
       "        vertical-align: middle;\n",
       "    }\n",
       "\n",
       "    .dataframe tbody tr th {\n",
       "        vertical-align: top;\n",
       "    }\n",
       "\n",
       "    .dataframe thead th {\n",
       "        text-align: right;\n",
       "    }\n",
       "</style>\n",
       "<table border=\"1\" class=\"dataframe\">\n",
       "  <thead>\n",
       "    <tr style=\"text-align: right;\">\n",
       "      <th></th>\n",
       "      <th>id</th>\n",
       "      <th>title</th>\n",
       "      <th>volume</th>\n",
       "      <th>issue</th>\n",
       "      <th>pages</th>\n",
       "      <th>type</th>\n",
       "      <th>year</th>\n",
       "      <th>author_affiliations</th>\n",
       "      <th>journal.id</th>\n",
       "      <th>journal.title</th>\n",
       "    </tr>\n",
       "  </thead>\n",
       "  <tbody>\n",
       "    <tr>\n",
       "      <th>0</th>\n",
       "      <td>pub.1128167997</td>\n",
       "      <td>The gains of reduction in translational proces...</td>\n",
       "      <td>6</td>\n",
       "      <td>1</td>\n",
       "      <td>109</td>\n",
       "      <td>article</td>\n",
       "      <td>2020</td>\n",
       "      <td>[[{'first_name': 'Anita', 'last_name': 'Wohlma...</td>\n",
       "      <td>jour.1136613</td>\n",
       "      <td>Palgrave Communications</td>\n",
       "    </tr>\n",
       "    <tr>\n",
       "      <th>1</th>\n",
       "      <td>pub.1127423858</td>\n",
       "      <td>Citizen science in the social sciences and hum...</td>\n",
       "      <td>6</td>\n",
       "      <td>1</td>\n",
       "      <td>89</td>\n",
       "      <td>article</td>\n",
       "      <td>2020</td>\n",
       "      <td>[[{'first_name': 'Loreta', 'last_name': 'Taugi...</td>\n",
       "      <td>jour.1136613</td>\n",
       "      <td>Palgrave Communications</td>\n",
       "    </tr>\n",
       "    <tr>\n",
       "      <th>2</th>\n",
       "      <td>pub.1129593819</td>\n",
       "      <td>A methodology for multilayer networks analysis...</td>\n",
       "      <td>5</td>\n",
       "      <td>1</td>\n",
       "      <td>41</td>\n",
       "      <td>article</td>\n",
       "      <td>2020</td>\n",
       "      <td>[[{'first_name': 'Maria', 'last_name': 'Malek'...</td>\n",
       "      <td>jour.1158525</td>\n",
       "      <td>Applied Network Science</td>\n",
       "    </tr>\n",
       "    <tr>\n",
       "      <th>3</th>\n",
       "      <td>pub.1127978306</td>\n",
       "      <td>Atlante dei siti fortificati della provincia d...</td>\n",
       "      <td>NaN</td>\n",
       "      <td>NaN</td>\n",
       "      <td>471-478</td>\n",
       "      <td>proceeding</td>\n",
       "      <td>2020</td>\n",
       "      <td>[[{'first_name': 'Maurizio', 'last_name': 'Tos...</td>\n",
       "      <td>NaN</td>\n",
       "      <td>NaN</td>\n",
       "    </tr>\n",
       "    <tr>\n",
       "      <th>4</th>\n",
       "      <td>pub.1122198573</td>\n",
       "      <td>Semantic-based privacy settings negotiation an...</td>\n",
       "      <td>111</td>\n",
       "      <td>NaN</td>\n",
       "      <td>879-898</td>\n",
       "      <td>article</td>\n",
       "      <td>2020</td>\n",
       "      <td>[[{'first_name': 'Odnan Ref', 'last_name': 'Sa...</td>\n",
       "      <td>jour.1125399</td>\n",
       "      <td>Future Generation Computer Systems</td>\n",
       "    </tr>\n",
       "  </tbody>\n",
       "</table>\n",
       "</div>"
      ],
      "text/plain": [
       "               id                                              title volume  \\\n",
       "0  pub.1128167997  The gains of reduction in translational proces...      6   \n",
       "1  pub.1127423858  Citizen science in the social sciences and hum...      6   \n",
       "2  pub.1129593819  A methodology for multilayer networks analysis...      5   \n",
       "3  pub.1127978306  Atlante dei siti fortificati della provincia d...    NaN   \n",
       "4  pub.1122198573  Semantic-based privacy settings negotiation an...    111   \n",
       "\n",
       "  issue    pages        type  year  \\\n",
       "0     1      109     article  2020   \n",
       "1     1       89     article  2020   \n",
       "2     1       41     article  2020   \n",
       "3   NaN  471-478  proceeding  2020   \n",
       "4   NaN  879-898     article  2020   \n",
       "\n",
       "                                 author_affiliations    journal.id  \\\n",
       "0  [[{'first_name': 'Anita', 'last_name': 'Wohlma...  jour.1136613   \n",
       "1  [[{'first_name': 'Loreta', 'last_name': 'Taugi...  jour.1136613   \n",
       "2  [[{'first_name': 'Maria', 'last_name': 'Malek'...  jour.1158525   \n",
       "3  [[{'first_name': 'Maurizio', 'last_name': 'Tos...           NaN   \n",
       "4  [[{'first_name': 'Odnan Ref', 'last_name': 'Sa...  jour.1125399   \n",
       "\n",
       "                        journal.title  \n",
       "0             Palgrave Communications  \n",
       "1             Palgrave Communications  \n",
       "2             Applied Network Science  \n",
       "3                                 NaN  \n",
       "4  Future Generation Computer Systems  "
      ]
     },
     "execution_count": 20,
     "metadata": {},
     "output_type": "execute_result"
    }
   ],
   "source": [
    "%dsldf search publications for \"\\\"digital humanities\\\"~5  +ontology\" return publications limit 5"
   ]
  },
  {
   "cell_type": "markdown",
   "metadata": {
    "Collapsed": "false"
   },
   "source": [
    "The distance referred to here is the number of term movements needed to match the specified phrase.  \n",
    "In the example above, if `formal` and `model` were 10 spaces apart in a\n",
    "field, but `formal` appeared before `model`, more than 10 term movements\n",
    "would be required to move the terms together and position `formal` to\n",
    "the right of `model` with a space in between."
   ]
  },
  {
   "cell_type": "markdown",
   "metadata": {
    "Collapsed": "false"
   },
   "source": [
    "## 3. Field Searching\n",
    "\n",
    "Field searching allows to use a specific `field` of a `source` as a\n",
    "query filter. For example, this can be a\n",
    "[Literal](supported-types.ipynb) field such as the $type$ of a\n",
    "publication, its $date$, $mesh terms$, etc.. Or it can be an\n",
    "[entity](data-entities.ipynb) field, such as the $journal title$ for a\n",
    "publication, the $country name$ of its author affiliations, etc..\n",
    "\n",
    "**What are the fields available for each source?** See the [data sources](https://docs.dimensions.ai/dsl/data-sources.html) section of the documentation. \n",
    "\n",
    "Alternatively, we can use the 'schema' API ([describe](https://docs.dimensions.ai/dsl/data-sources.html#metadata-api)) to return this information programmatically: "
   ]
  },
  {
   "cell_type": "code",
   "execution_count": 21,
   "metadata": {
    "Collapsed": "false"
   },
   "outputs": [
    {
     "data": {
      "text/html": [
       "<div>\n",
       "<style scoped>\n",
       "    .dataframe tbody tr th:only-of-type {\n",
       "        vertical-align: middle;\n",
       "    }\n",
       "\n",
       "    .dataframe tbody tr th {\n",
       "        vertical-align: top;\n",
       "    }\n",
       "\n",
       "    .dataframe thead th {\n",
       "        text-align: right;\n",
       "    }\n",
       "</style>\n",
       "<table border=\"1\" class=\"dataframe\">\n",
       "  <thead>\n",
       "    <tr style=\"text-align: right;\">\n",
       "      <th></th>\n",
       "      <th>sources</th>\n",
       "      <th>field</th>\n",
       "      <th>type</th>\n",
       "      <th>description</th>\n",
       "      <th>is_filter</th>\n",
       "      <th>is_entity</th>\n",
       "      <th>is_facet</th>\n",
       "    </tr>\n",
       "  </thead>\n",
       "  <tbody>\n",
       "    <tr>\n",
       "      <th>0</th>\n",
       "      <td>publications</td>\n",
       "      <td>altmetric</td>\n",
       "      <td>float</td>\n",
       "      <td>Altmetric attention score.</td>\n",
       "      <td>True</td>\n",
       "      <td>False</td>\n",
       "      <td>False</td>\n",
       "    </tr>\n",
       "    <tr>\n",
       "      <th>1</th>\n",
       "      <td>publications</td>\n",
       "      <td>altmetric_id</td>\n",
       "      <td>integer</td>\n",
       "      <td>AltMetric Publication ID</td>\n",
       "      <td>True</td>\n",
       "      <td>False</td>\n",
       "      <td>False</td>\n",
       "    </tr>\n",
       "    <tr>\n",
       "      <th>2</th>\n",
       "      <td>publications</td>\n",
       "      <td>authors</td>\n",
       "      <td>json</td>\n",
       "      <td>Ordered list of authors names and their affili...</td>\n",
       "      <td>True</td>\n",
       "      <td>False</td>\n",
       "      <td>False</td>\n",
       "    </tr>\n",
       "    <tr>\n",
       "      <th>3</th>\n",
       "      <td>publications</td>\n",
       "      <td>book_doi</td>\n",
       "      <td>string</td>\n",
       "      <td>The DOI of the book a chapter belongs to (note...</td>\n",
       "      <td>True</td>\n",
       "      <td>False</td>\n",
       "      <td>False</td>\n",
       "    </tr>\n",
       "    <tr>\n",
       "      <th>4</th>\n",
       "      <td>publications</td>\n",
       "      <td>book_series_title</td>\n",
       "      <td>string</td>\n",
       "      <td>The title of the book series book, belong to.</td>\n",
       "      <td>False</td>\n",
       "      <td>False</td>\n",
       "      <td>False</td>\n",
       "    </tr>\n",
       "    <tr>\n",
       "      <th>5</th>\n",
       "      <td>publications</td>\n",
       "      <td>book_title</td>\n",
       "      <td>string</td>\n",
       "      <td>The title of the book a chapter belongs to (no...</td>\n",
       "      <td>False</td>\n",
       "      <td>False</td>\n",
       "      <td>False</td>\n",
       "    </tr>\n",
       "    <tr>\n",
       "      <th>6</th>\n",
       "      <td>publications</td>\n",
       "      <td>category_bra</td>\n",
       "      <td>categories</td>\n",
       "      <td>`Broad Research Areas &lt;https://dimensions.fres...</td>\n",
       "      <td>True</td>\n",
       "      <td>True</td>\n",
       "      <td>True</td>\n",
       "    </tr>\n",
       "    <tr>\n",
       "      <th>7</th>\n",
       "      <td>publications</td>\n",
       "      <td>category_for</td>\n",
       "      <td>categories</td>\n",
       "      <td>`ANZSRC Fields of Research classification &lt;htt...</td>\n",
       "      <td>True</td>\n",
       "      <td>True</td>\n",
       "      <td>True</td>\n",
       "    </tr>\n",
       "    <tr>\n",
       "      <th>8</th>\n",
       "      <td>publications</td>\n",
       "      <td>category_hra</td>\n",
       "      <td>categories</td>\n",
       "      <td>`Health Research Areas &lt;https://dimensions.fre...</td>\n",
       "      <td>True</td>\n",
       "      <td>True</td>\n",
       "      <td>True</td>\n",
       "    </tr>\n",
       "    <tr>\n",
       "      <th>9</th>\n",
       "      <td>publications</td>\n",
       "      <td>category_hrcs_hc</td>\n",
       "      <td>categories</td>\n",
       "      <td>`HRCS - Health Categories &lt;https://dimensions....</td>\n",
       "      <td>True</td>\n",
       "      <td>True</td>\n",
       "      <td>True</td>\n",
       "    </tr>\n",
       "    <tr>\n",
       "      <th>10</th>\n",
       "      <td>publications</td>\n",
       "      <td>category_hrcs_rac</td>\n",
       "      <td>categories</td>\n",
       "      <td>`HRCS – Research Activity Codes &lt;https://dimen...</td>\n",
       "      <td>True</td>\n",
       "      <td>True</td>\n",
       "      <td>True</td>\n",
       "    </tr>\n",
       "    <tr>\n",
       "      <th>11</th>\n",
       "      <td>publications</td>\n",
       "      <td>category_icrp_cso</td>\n",
       "      <td>categories</td>\n",
       "      <td>`ICRP Common Scientific Outline &lt;https://dimen...</td>\n",
       "      <td>True</td>\n",
       "      <td>True</td>\n",
       "      <td>True</td>\n",
       "    </tr>\n",
       "    <tr>\n",
       "      <th>12</th>\n",
       "      <td>publications</td>\n",
       "      <td>category_icrp_ct</td>\n",
       "      <td>categories</td>\n",
       "      <td>`ICRP Cancer Types &lt;https://dimensions.freshde...</td>\n",
       "      <td>True</td>\n",
       "      <td>True</td>\n",
       "      <td>True</td>\n",
       "    </tr>\n",
       "    <tr>\n",
       "      <th>13</th>\n",
       "      <td>publications</td>\n",
       "      <td>category_rcdc</td>\n",
       "      <td>categories</td>\n",
       "      <td>`Research, Condition, and Disease Categorizati...</td>\n",
       "      <td>True</td>\n",
       "      <td>True</td>\n",
       "      <td>True</td>\n",
       "    </tr>\n",
       "    <tr>\n",
       "      <th>14</th>\n",
       "      <td>publications</td>\n",
       "      <td>category_sdg</td>\n",
       "      <td>categories</td>\n",
       "      <td>SDG - Sustainable Development Goals</td>\n",
       "      <td>True</td>\n",
       "      <td>True</td>\n",
       "      <td>True</td>\n",
       "    </tr>\n",
       "    <tr>\n",
       "      <th>15</th>\n",
       "      <td>publications</td>\n",
       "      <td>category_uoa</td>\n",
       "      <td>categories</td>\n",
       "      <td>`Units of Assessment &lt;https://dimensions.fresh...</td>\n",
       "      <td>True</td>\n",
       "      <td>True</td>\n",
       "      <td>True</td>\n",
       "    </tr>\n",
       "    <tr>\n",
       "      <th>16</th>\n",
       "      <td>publications</td>\n",
       "      <td>concepts</td>\n",
       "      <td>json</td>\n",
       "      <td>Concepts describing the main topics of a publi...</td>\n",
       "      <td>True</td>\n",
       "      <td>False</td>\n",
       "      <td>False</td>\n",
       "    </tr>\n",
       "    <tr>\n",
       "      <th>17</th>\n",
       "      <td>publications</td>\n",
       "      <td>concepts_scores</td>\n",
       "      <td>json</td>\n",
       "      <td>Relevancy scores for `concepts`.</td>\n",
       "      <td>True</td>\n",
       "      <td>False</td>\n",
       "      <td>False</td>\n",
       "    </tr>\n",
       "    <tr>\n",
       "      <th>18</th>\n",
       "      <td>publications</td>\n",
       "      <td>date</td>\n",
       "      <td>date</td>\n",
       "      <td>The publication date of a document, eg \"2018-0...</td>\n",
       "      <td>True</td>\n",
       "      <td>False</td>\n",
       "      <td>False</td>\n",
       "    </tr>\n",
       "    <tr>\n",
       "      <th>19</th>\n",
       "      <td>publications</td>\n",
       "      <td>date_inserted</td>\n",
       "      <td>date</td>\n",
       "      <td>Date when the record was inserted into Dimensi...</td>\n",
       "      <td>True</td>\n",
       "      <td>False</td>\n",
       "      <td>False</td>\n",
       "    </tr>\n",
       "    <tr>\n",
       "      <th>20</th>\n",
       "      <td>publications</td>\n",
       "      <td>dimensions_url</td>\n",
       "      <td>string</td>\n",
       "      <td>Link pointing to the Dimensions web application</td>\n",
       "      <td>False</td>\n",
       "      <td>False</td>\n",
       "      <td>False</td>\n",
       "    </tr>\n",
       "    <tr>\n",
       "      <th>21</th>\n",
       "      <td>publications</td>\n",
       "      <td>doi</td>\n",
       "      <td>string</td>\n",
       "      <td>Digital object identifier.</td>\n",
       "      <td>True</td>\n",
       "      <td>False</td>\n",
       "      <td>False</td>\n",
       "    </tr>\n",
       "    <tr>\n",
       "      <th>22</th>\n",
       "      <td>publications</td>\n",
       "      <td>field_citation_ratio</td>\n",
       "      <td>float</td>\n",
       "      <td>Relative citation performance of article when ...</td>\n",
       "      <td>True</td>\n",
       "      <td>False</td>\n",
       "      <td>False</td>\n",
       "    </tr>\n",
       "    <tr>\n",
       "      <th>23</th>\n",
       "      <td>publications</td>\n",
       "      <td>funder_countries</td>\n",
       "      <td>countries</td>\n",
       "      <td>The country of the organisations funding this ...</td>\n",
       "      <td>True</td>\n",
       "      <td>True</td>\n",
       "      <td>True</td>\n",
       "    </tr>\n",
       "    <tr>\n",
       "      <th>24</th>\n",
       "      <td>publications</td>\n",
       "      <td>funders</td>\n",
       "      <td>organizations</td>\n",
       "      <td>The GRID organisation funding this publication.</td>\n",
       "      <td>True</td>\n",
       "      <td>True</td>\n",
       "      <td>True</td>\n",
       "    </tr>\n",
       "    <tr>\n",
       "      <th>25</th>\n",
       "      <td>publications</td>\n",
       "      <td>id</td>\n",
       "      <td>string</td>\n",
       "      <td>Dimensions publication ID.</td>\n",
       "      <td>True</td>\n",
       "      <td>False</td>\n",
       "      <td>False</td>\n",
       "    </tr>\n",
       "    <tr>\n",
       "      <th>26</th>\n",
       "      <td>publications</td>\n",
       "      <td>issn</td>\n",
       "      <td>string</td>\n",
       "      <td>International Standard Serial Number</td>\n",
       "      <td>True</td>\n",
       "      <td>False</td>\n",
       "      <td>False</td>\n",
       "    </tr>\n",
       "    <tr>\n",
       "      <th>27</th>\n",
       "      <td>publications</td>\n",
       "      <td>issue</td>\n",
       "      <td>string</td>\n",
       "      <td>The issue number of a publication.</td>\n",
       "      <td>True</td>\n",
       "      <td>False</td>\n",
       "      <td>False</td>\n",
       "    </tr>\n",
       "    <tr>\n",
       "      <th>28</th>\n",
       "      <td>publications</td>\n",
       "      <td>journal</td>\n",
       "      <td>journals</td>\n",
       "      <td>The journal a publication belongs to.</td>\n",
       "      <td>True</td>\n",
       "      <td>True</td>\n",
       "      <td>True</td>\n",
       "    </tr>\n",
       "    <tr>\n",
       "      <th>29</th>\n",
       "      <td>publications</td>\n",
       "      <td>journal_lists</td>\n",
       "      <td>string</td>\n",
       "      <td>Independent grouping of journals outside of Di...</td>\n",
       "      <td>True</td>\n",
       "      <td>False</td>\n",
       "      <td>True</td>\n",
       "    </tr>\n",
       "    <tr>\n",
       "      <th>30</th>\n",
       "      <td>publications</td>\n",
       "      <td>linkout</td>\n",
       "      <td>string</td>\n",
       "      <td>Original URL for a publication full text.</td>\n",
       "      <td>False</td>\n",
       "      <td>False</td>\n",
       "      <td>False</td>\n",
       "    </tr>\n",
       "    <tr>\n",
       "      <th>31</th>\n",
       "      <td>publications</td>\n",
       "      <td>mesh_terms</td>\n",
       "      <td>string</td>\n",
       "      <td>Medical Subject Heading terms as used in PubMed.</td>\n",
       "      <td>True</td>\n",
       "      <td>False</td>\n",
       "      <td>True</td>\n",
       "    </tr>\n",
       "    <tr>\n",
       "      <th>32</th>\n",
       "      <td>publications</td>\n",
       "      <td>open_access_categories</td>\n",
       "      <td>open_access</td>\n",
       "      <td>Open Access categories for publications. See b...</td>\n",
       "      <td>True</td>\n",
       "      <td>True</td>\n",
       "      <td>True</td>\n",
       "    </tr>\n",
       "    <tr>\n",
       "      <th>33</th>\n",
       "      <td>publications</td>\n",
       "      <td>pages</td>\n",
       "      <td>string</td>\n",
       "      <td>The pages of the publication, as they would ap...</td>\n",
       "      <td>True</td>\n",
       "      <td>False</td>\n",
       "      <td>False</td>\n",
       "    </tr>\n",
       "    <tr>\n",
       "      <th>34</th>\n",
       "      <td>publications</td>\n",
       "      <td>pmcid</td>\n",
       "      <td>string</td>\n",
       "      <td>PubMed Central ID.</td>\n",
       "      <td>True</td>\n",
       "      <td>False</td>\n",
       "      <td>False</td>\n",
       "    </tr>\n",
       "    <tr>\n",
       "      <th>35</th>\n",
       "      <td>publications</td>\n",
       "      <td>pmid</td>\n",
       "      <td>string</td>\n",
       "      <td>PubMed ID.</td>\n",
       "      <td>True</td>\n",
       "      <td>False</td>\n",
       "      <td>False</td>\n",
       "    </tr>\n",
       "    <tr>\n",
       "      <th>36</th>\n",
       "      <td>publications</td>\n",
       "      <td>proceedings_title</td>\n",
       "      <td>string</td>\n",
       "      <td>Title of the conference proceedings volume ass...</td>\n",
       "      <td>False</td>\n",
       "      <td>False</td>\n",
       "      <td>False</td>\n",
       "    </tr>\n",
       "    <tr>\n",
       "      <th>37</th>\n",
       "      <td>publications</td>\n",
       "      <td>publisher</td>\n",
       "      <td>string</td>\n",
       "      <td>Name of the publisher as a string.</td>\n",
       "      <td>True</td>\n",
       "      <td>False</td>\n",
       "      <td>True</td>\n",
       "    </tr>\n",
       "    <tr>\n",
       "      <th>38</th>\n",
       "      <td>publications</td>\n",
       "      <td>recent_citations</td>\n",
       "      <td>integer</td>\n",
       "      <td>Number of citations received in the last two y...</td>\n",
       "      <td>True</td>\n",
       "      <td>False</td>\n",
       "      <td>False</td>\n",
       "    </tr>\n",
       "    <tr>\n",
       "      <th>39</th>\n",
       "      <td>publications</td>\n",
       "      <td>reference_ids</td>\n",
       "      <td>string</td>\n",
       "      <td>Dimensions publication ID for publications in ...</td>\n",
       "      <td>True</td>\n",
       "      <td>False</td>\n",
       "      <td>False</td>\n",
       "    </tr>\n",
       "    <tr>\n",
       "      <th>40</th>\n",
       "      <td>publications</td>\n",
       "      <td>referenced_pubs</td>\n",
       "      <td>publication_links</td>\n",
       "      <td>Publication IDs of the publications in the ref...</td>\n",
       "      <td>True</td>\n",
       "      <td>True</td>\n",
       "      <td>True</td>\n",
       "    </tr>\n",
       "    <tr>\n",
       "      <th>41</th>\n",
       "      <td>publications</td>\n",
       "      <td>relative_citation_ratio</td>\n",
       "      <td>float</td>\n",
       "      <td>Relative citation performance of an article wh...</td>\n",
       "      <td>True</td>\n",
       "      <td>False</td>\n",
       "      <td>False</td>\n",
       "    </tr>\n",
       "    <tr>\n",
       "      <th>42</th>\n",
       "      <td>publications</td>\n",
       "      <td>research_org_cities</td>\n",
       "      <td>cities</td>\n",
       "      <td>City of the organisations authors are affiliat...</td>\n",
       "      <td>True</td>\n",
       "      <td>True</td>\n",
       "      <td>True</td>\n",
       "    </tr>\n",
       "    <tr>\n",
       "      <th>43</th>\n",
       "      <td>publications</td>\n",
       "      <td>research_org_countries</td>\n",
       "      <td>countries</td>\n",
       "      <td>Country of the organisations authors are affil...</td>\n",
       "      <td>True</td>\n",
       "      <td>True</td>\n",
       "      <td>True</td>\n",
       "    </tr>\n",
       "    <tr>\n",
       "      <th>44</th>\n",
       "      <td>publications</td>\n",
       "      <td>research_org_country_names</td>\n",
       "      <td>string</td>\n",
       "      <td>Country name of the organisations authors are ...</td>\n",
       "      <td>True</td>\n",
       "      <td>False</td>\n",
       "      <td>False</td>\n",
       "    </tr>\n",
       "    <tr>\n",
       "      <th>45</th>\n",
       "      <td>publications</td>\n",
       "      <td>research_org_names</td>\n",
       "      <td>string</td>\n",
       "      <td>Names of organizations authors are affiliated to.</td>\n",
       "      <td>True</td>\n",
       "      <td>False</td>\n",
       "      <td>False</td>\n",
       "    </tr>\n",
       "    <tr>\n",
       "      <th>46</th>\n",
       "      <td>publications</td>\n",
       "      <td>research_org_state_codes</td>\n",
       "      <td>states</td>\n",
       "      <td>State of the organisations authors are affilia...</td>\n",
       "      <td>True</td>\n",
       "      <td>True</td>\n",
       "      <td>True</td>\n",
       "    </tr>\n",
       "    <tr>\n",
       "      <th>47</th>\n",
       "      <td>publications</td>\n",
       "      <td>research_org_state_names</td>\n",
       "      <td>string</td>\n",
       "      <td>State name of the organisations authors are af...</td>\n",
       "      <td>True</td>\n",
       "      <td>False</td>\n",
       "      <td>False</td>\n",
       "    </tr>\n",
       "    <tr>\n",
       "      <th>48</th>\n",
       "      <td>publications</td>\n",
       "      <td>research_orgs</td>\n",
       "      <td>organizations</td>\n",
       "      <td>GRID organisations associated to a publication...</td>\n",
       "      <td>True</td>\n",
       "      <td>True</td>\n",
       "      <td>True</td>\n",
       "    </tr>\n",
       "    <tr>\n",
       "      <th>49</th>\n",
       "      <td>publications</td>\n",
       "      <td>researchers</td>\n",
       "      <td>researchers</td>\n",
       "      <td>Researcher IDs matched to the publication's au...</td>\n",
       "      <td>True</td>\n",
       "      <td>True</td>\n",
       "      <td>True</td>\n",
       "    </tr>\n",
       "    <tr>\n",
       "      <th>50</th>\n",
       "      <td>publications</td>\n",
       "      <td>resulting_publication_doi</td>\n",
       "      <td>string</td>\n",
       "      <td>For preprints, the DOIs of the resulting full ...</td>\n",
       "      <td>True</td>\n",
       "      <td>False</td>\n",
       "      <td>False</td>\n",
       "    </tr>\n",
       "    <tr>\n",
       "      <th>51</th>\n",
       "      <td>publications</td>\n",
       "      <td>supporting_grant_ids</td>\n",
       "      <td>string</td>\n",
       "      <td>Grants supporting a publication, returned as a...</td>\n",
       "      <td>True</td>\n",
       "      <td>False</td>\n",
       "      <td>False</td>\n",
       "    </tr>\n",
       "    <tr>\n",
       "      <th>52</th>\n",
       "      <td>publications</td>\n",
       "      <td>times_cited</td>\n",
       "      <td>integer</td>\n",
       "      <td>Number of citations (note: does not support em...</td>\n",
       "      <td>True</td>\n",
       "      <td>False</td>\n",
       "      <td>True</td>\n",
       "    </tr>\n",
       "    <tr>\n",
       "      <th>53</th>\n",
       "      <td>publications</td>\n",
       "      <td>title</td>\n",
       "      <td>string</td>\n",
       "      <td>Title of a publication.</td>\n",
       "      <td>False</td>\n",
       "      <td>False</td>\n",
       "      <td>False</td>\n",
       "    </tr>\n",
       "    <tr>\n",
       "      <th>54</th>\n",
       "      <td>publications</td>\n",
       "      <td>type</td>\n",
       "      <td>string</td>\n",
       "      <td>Publication type (one of: article, chapter, pr...</td>\n",
       "      <td>True</td>\n",
       "      <td>False</td>\n",
       "      <td>True</td>\n",
       "    </tr>\n",
       "    <tr>\n",
       "      <th>55</th>\n",
       "      <td>publications</td>\n",
       "      <td>volume</td>\n",
       "      <td>string</td>\n",
       "      <td>Publication volume.</td>\n",
       "      <td>True</td>\n",
       "      <td>False</td>\n",
       "      <td>False</td>\n",
       "    </tr>\n",
       "    <tr>\n",
       "      <th>56</th>\n",
       "      <td>publications</td>\n",
       "      <td>year</td>\n",
       "      <td>integer</td>\n",
       "      <td>The year of publication (note: when the `date`...</td>\n",
       "      <td>True</td>\n",
       "      <td>False</td>\n",
       "      <td>True</td>\n",
       "    </tr>\n",
       "  </tbody>\n",
       "</table>\n",
       "</div>"
      ],
      "text/plain": [
       "         sources                       field               type  \\\n",
       "0   publications                   altmetric              float   \n",
       "1   publications                altmetric_id            integer   \n",
       "2   publications                     authors               json   \n",
       "3   publications                    book_doi             string   \n",
       "4   publications           book_series_title             string   \n",
       "5   publications                  book_title             string   \n",
       "6   publications                category_bra         categories   \n",
       "7   publications                category_for         categories   \n",
       "8   publications                category_hra         categories   \n",
       "9   publications            category_hrcs_hc         categories   \n",
       "10  publications           category_hrcs_rac         categories   \n",
       "11  publications           category_icrp_cso         categories   \n",
       "12  publications            category_icrp_ct         categories   \n",
       "13  publications               category_rcdc         categories   \n",
       "14  publications                category_sdg         categories   \n",
       "15  publications                category_uoa         categories   \n",
       "16  publications                    concepts               json   \n",
       "17  publications             concepts_scores               json   \n",
       "18  publications                        date               date   \n",
       "19  publications               date_inserted               date   \n",
       "20  publications              dimensions_url             string   \n",
       "21  publications                         doi             string   \n",
       "22  publications        field_citation_ratio              float   \n",
       "23  publications            funder_countries          countries   \n",
       "24  publications                     funders      organizations   \n",
       "25  publications                          id             string   \n",
       "26  publications                        issn             string   \n",
       "27  publications                       issue             string   \n",
       "28  publications                     journal           journals   \n",
       "29  publications               journal_lists             string   \n",
       "30  publications                     linkout             string   \n",
       "31  publications                  mesh_terms             string   \n",
       "32  publications      open_access_categories        open_access   \n",
       "33  publications                       pages             string   \n",
       "34  publications                       pmcid             string   \n",
       "35  publications                        pmid             string   \n",
       "36  publications           proceedings_title             string   \n",
       "37  publications                   publisher             string   \n",
       "38  publications            recent_citations            integer   \n",
       "39  publications               reference_ids             string   \n",
       "40  publications             referenced_pubs  publication_links   \n",
       "41  publications     relative_citation_ratio              float   \n",
       "42  publications         research_org_cities             cities   \n",
       "43  publications      research_org_countries          countries   \n",
       "44  publications  research_org_country_names             string   \n",
       "45  publications          research_org_names             string   \n",
       "46  publications    research_org_state_codes             states   \n",
       "47  publications    research_org_state_names             string   \n",
       "48  publications               research_orgs      organizations   \n",
       "49  publications                 researchers        researchers   \n",
       "50  publications   resulting_publication_doi             string   \n",
       "51  publications        supporting_grant_ids             string   \n",
       "52  publications                 times_cited            integer   \n",
       "53  publications                       title             string   \n",
       "54  publications                        type             string   \n",
       "55  publications                      volume             string   \n",
       "56  publications                        year            integer   \n",
       "\n",
       "                                          description  is_filter  is_entity  \\\n",
       "0                          Altmetric attention score.       True      False   \n",
       "1                            AltMetric Publication ID       True      False   \n",
       "2   Ordered list of authors names and their affili...       True      False   \n",
       "3   The DOI of the book a chapter belongs to (note...       True      False   \n",
       "4       The title of the book series book, belong to.      False      False   \n",
       "5   The title of the book a chapter belongs to (no...      False      False   \n",
       "6   `Broad Research Areas <https://dimensions.fres...       True       True   \n",
       "7   `ANZSRC Fields of Research classification <htt...       True       True   \n",
       "8   `Health Research Areas <https://dimensions.fre...       True       True   \n",
       "9   `HRCS - Health Categories <https://dimensions....       True       True   \n",
       "10  `HRCS – Research Activity Codes <https://dimen...       True       True   \n",
       "11  `ICRP Common Scientific Outline <https://dimen...       True       True   \n",
       "12  `ICRP Cancer Types <https://dimensions.freshde...       True       True   \n",
       "13  `Research, Condition, and Disease Categorizati...       True       True   \n",
       "14                SDG - Sustainable Development Goals       True       True   \n",
       "15  `Units of Assessment <https://dimensions.fresh...       True       True   \n",
       "16  Concepts describing the main topics of a publi...       True      False   \n",
       "17                   Relevancy scores for `concepts`.       True      False   \n",
       "18  The publication date of a document, eg \"2018-0...       True      False   \n",
       "19  Date when the record was inserted into Dimensi...       True      False   \n",
       "20    Link pointing to the Dimensions web application      False      False   \n",
       "21                         Digital object identifier.       True      False   \n",
       "22  Relative citation performance of article when ...       True      False   \n",
       "23  The country of the organisations funding this ...       True       True   \n",
       "24    The GRID organisation funding this publication.       True       True   \n",
       "25                         Dimensions publication ID.       True      False   \n",
       "26               International Standard Serial Number       True      False   \n",
       "27                 The issue number of a publication.       True      False   \n",
       "28              The journal a publication belongs to.       True       True   \n",
       "29  Independent grouping of journals outside of Di...       True      False   \n",
       "30          Original URL for a publication full text.      False      False   \n",
       "31   Medical Subject Heading terms as used in PubMed.       True      False   \n",
       "32  Open Access categories for publications. See b...       True       True   \n",
       "33  The pages of the publication, as they would ap...       True      False   \n",
       "34                                 PubMed Central ID.       True      False   \n",
       "35                                         PubMed ID.       True      False   \n",
       "36  Title of the conference proceedings volume ass...      False      False   \n",
       "37                 Name of the publisher as a string.       True      False   \n",
       "38  Number of citations received in the last two y...       True      False   \n",
       "39  Dimensions publication ID for publications in ...       True      False   \n",
       "40  Publication IDs of the publications in the ref...       True       True   \n",
       "41  Relative citation performance of an article wh...       True      False   \n",
       "42  City of the organisations authors are affiliat...       True       True   \n",
       "43  Country of the organisations authors are affil...       True       True   \n",
       "44  Country name of the organisations authors are ...       True      False   \n",
       "45  Names of organizations authors are affiliated to.       True      False   \n",
       "46  State of the organisations authors are affilia...       True       True   \n",
       "47  State name of the organisations authors are af...       True      False   \n",
       "48  GRID organisations associated to a publication...       True       True   \n",
       "49  Researcher IDs matched to the publication's au...       True       True   \n",
       "50  For preprints, the DOIs of the resulting full ...       True      False   \n",
       "51  Grants supporting a publication, returned as a...       True      False   \n",
       "52  Number of citations (note: does not support em...       True      False   \n",
       "53                            Title of a publication.      False      False   \n",
       "54  Publication type (one of: article, chapter, pr...       True      False   \n",
       "55                                Publication volume.       True      False   \n",
       "56  The year of publication (note: when the `date`...       True      False   \n",
       "\n",
       "    is_facet  \n",
       "0      False  \n",
       "1      False  \n",
       "2      False  \n",
       "3      False  \n",
       "4      False  \n",
       "5      False  \n",
       "6       True  \n",
       "7       True  \n",
       "8       True  \n",
       "9       True  \n",
       "10      True  \n",
       "11      True  \n",
       "12      True  \n",
       "13      True  \n",
       "14      True  \n",
       "15      True  \n",
       "16     False  \n",
       "17     False  \n",
       "18     False  \n",
       "19     False  \n",
       "20     False  \n",
       "21     False  \n",
       "22     False  \n",
       "23      True  \n",
       "24      True  \n",
       "25     False  \n",
       "26     False  \n",
       "27     False  \n",
       "28      True  \n",
       "29      True  \n",
       "30     False  \n",
       "31      True  \n",
       "32      True  \n",
       "33     False  \n",
       "34     False  \n",
       "35     False  \n",
       "36     False  \n",
       "37      True  \n",
       "38     False  \n",
       "39     False  \n",
       "40      True  \n",
       "41     False  \n",
       "42      True  \n",
       "43      True  \n",
       "44     False  \n",
       "45     False  \n",
       "46      True  \n",
       "47     False  \n",
       "48      True  \n",
       "49      True  \n",
       "50     False  \n",
       "51     False  \n",
       "52      True  \n",
       "53     False  \n",
       "54      True  \n",
       "55     False  \n",
       "56      True  "
      ]
     },
     "execution_count": 21,
     "metadata": {},
     "output_type": "execute_result"
    }
   ],
   "source": [
    "%dsldocs publications  "
   ]
  },
  {
   "cell_type": "markdown",
   "metadata": {
    "Collapsed": "false"
   },
   "source": [
    "### 3.1 `where`\n",
    "\n",
    "This optional phrase consists of the keyword `where` followed by a\n",
    "`filters` phrase consisting of DSL filter expressions, as described\n",
    "below."
   ]
  },
  {
   "cell_type": "code",
   "execution_count": 22,
   "metadata": {
    "Collapsed": "false"
   },
   "outputs": [
    {
     "name": "stdout",
     "output_type": "stream",
     "text": [
      "Returned Publications: 5 (total = 296478)\n",
      "\u001b[2mTime: 0.57s\u001b[0m\n"
     ]
    },
    {
     "data": {
      "text/html": [
       "<div>\n",
       "<style scoped>\n",
       "    .dataframe tbody tr th:only-of-type {\n",
       "        vertical-align: middle;\n",
       "    }\n",
       "\n",
       "    .dataframe tbody tr th {\n",
       "        vertical-align: top;\n",
       "    }\n",
       "\n",
       "    .dataframe thead th {\n",
       "        text-align: right;\n",
       "    }\n",
       "</style>\n",
       "<table border=\"1\" class=\"dataframe\">\n",
       "  <thead>\n",
       "    <tr style=\"text-align: right;\">\n",
       "      <th></th>\n",
       "      <th>id</th>\n",
       "      <th>title</th>\n",
       "      <th>type</th>\n",
       "      <th>year</th>\n",
       "      <th>volume</th>\n",
       "    </tr>\n",
       "  </thead>\n",
       "  <tbody>\n",
       "    <tr>\n",
       "      <th>0</th>\n",
       "      <td>pub.1125300609</td>\n",
       "      <td>Duoethnography in English Language Teaching</td>\n",
       "      <td>book</td>\n",
       "      <td>2020</td>\n",
       "      <td>NaN</td>\n",
       "    </tr>\n",
       "    <tr>\n",
       "      <th>1</th>\n",
       "      <td>pub.1108455576</td>\n",
       "      <td>The Indo-Aryans of Ancient South Asia</td>\n",
       "      <td>book</td>\n",
       "      <td>2020</td>\n",
       "      <td>NaN</td>\n",
       "    </tr>\n",
       "    <tr>\n",
       "      <th>2</th>\n",
       "      <td>pub.1125300607</td>\n",
       "      <td>Sociolinguistic Perspectives on Migration Control</td>\n",
       "      <td>book</td>\n",
       "      <td>2020</td>\n",
       "      <td>NaN</td>\n",
       "    </tr>\n",
       "    <tr>\n",
       "      <th>3</th>\n",
       "      <td>pub.1108473781</td>\n",
       "      <td>Die Passion Christi in Literatur und Kunst des...</td>\n",
       "      <td>book</td>\n",
       "      <td>2020</td>\n",
       "      <td>NaN</td>\n",
       "    </tr>\n",
       "    <tr>\n",
       "      <th>4</th>\n",
       "      <td>pub.1129458015</td>\n",
       "      <td>Neuromodulation for Facial Pain</td>\n",
       "      <td>book</td>\n",
       "      <td>2020</td>\n",
       "      <td>35</td>\n",
       "    </tr>\n",
       "  </tbody>\n",
       "</table>\n",
       "</div>"
      ],
      "text/plain": [
       "               id                                              title  type  \\\n",
       "0  pub.1125300609        Duoethnography in English Language Teaching  book   \n",
       "1  pub.1108455576              The Indo-Aryans of Ancient South Asia  book   \n",
       "2  pub.1125300607  Sociolinguistic Perspectives on Migration Control  book   \n",
       "3  pub.1108473781  Die Passion Christi in Literatur und Kunst des...  book   \n",
       "4  pub.1129458015                    Neuromodulation for Facial Pain  book   \n",
       "\n",
       "   year volume  \n",
       "0  2020    NaN  \n",
       "1  2020    NaN  \n",
       "2  2020    NaN  \n",
       "3  2020    NaN  \n",
       "4  2020     35  "
      ]
     },
     "execution_count": 22,
     "metadata": {},
     "output_type": "execute_result"
    }
   ],
   "source": [
    "%dsldf search publications where type = \"book\" return publications limit 5"
   ]
  },
  {
   "cell_type": "markdown",
   "metadata": {
    "Collapsed": "false"
   },
   "source": [
    "If a `for` phrase is also used in a filtered query, the\n",
    "system will first apply the filters, and then search the resulting\n",
    "restricted set of documents for the `search term`."
   ]
  },
  {
   "cell_type": "code",
   "execution_count": 23,
   "metadata": {
    "Collapsed": "false"
   },
   "outputs": [
    {
     "name": "stdout",
     "output_type": "stream",
     "text": [
      "Returned Publications: 5 (total = 12497)\n",
      "\u001b[2mTime: 0.48s\u001b[0m\n"
     ]
    },
    {
     "data": {
      "text/html": [
       "<div>\n",
       "<style scoped>\n",
       "    .dataframe tbody tr th:only-of-type {\n",
       "        vertical-align: middle;\n",
       "    }\n",
       "\n",
       "    .dataframe tbody tr th {\n",
       "        vertical-align: top;\n",
       "    }\n",
       "\n",
       "    .dataframe thead th {\n",
       "        text-align: right;\n",
       "    }\n",
       "</style>\n",
       "<table border=\"1\" class=\"dataframe\">\n",
       "  <thead>\n",
       "    <tr style=\"text-align: right;\">\n",
       "      <th></th>\n",
       "      <th>type</th>\n",
       "      <th>id</th>\n",
       "      <th>year</th>\n",
       "      <th>title</th>\n",
       "    </tr>\n",
       "  </thead>\n",
       "  <tbody>\n",
       "    <tr>\n",
       "      <th>0</th>\n",
       "      <td>book</td>\n",
       "      <td>pub.1130620714</td>\n",
       "      <td>2020</td>\n",
       "      <td>Nano-Enabled Medical Applications</td>\n",
       "    </tr>\n",
       "    <tr>\n",
       "      <th>1</th>\n",
       "      <td>book</td>\n",
       "      <td>pub.1130505886</td>\n",
       "      <td>2020</td>\n",
       "      <td>Human Ecology, Human Economy</td>\n",
       "    </tr>\n",
       "    <tr>\n",
       "      <th>2</th>\n",
       "      <td>book</td>\n",
       "      <td>pub.1130318304</td>\n",
       "      <td>2020</td>\n",
       "      <td>Pharmaceutical Biocatalysis</td>\n",
       "    </tr>\n",
       "    <tr>\n",
       "      <th>3</th>\n",
       "      <td>book</td>\n",
       "      <td>pub.1129886893</td>\n",
       "      <td>2020</td>\n",
       "      <td>Wild Plants</td>\n",
       "    </tr>\n",
       "    <tr>\n",
       "      <th>4</th>\n",
       "      <td>book</td>\n",
       "      <td>pub.1130227719</td>\n",
       "      <td>2020</td>\n",
       "      <td>Medicine in the Twentieth Century</td>\n",
       "    </tr>\n",
       "  </tbody>\n",
       "</table>\n",
       "</div>"
      ],
      "text/plain": [
       "   type              id  year                              title\n",
       "0  book  pub.1130620714  2020  Nano-Enabled Medical Applications\n",
       "1  book  pub.1130505886  2020       Human Ecology, Human Economy\n",
       "2  book  pub.1130318304  2020        Pharmaceutical Biocatalysis\n",
       "3  book  pub.1129886893  2020                        Wild Plants\n",
       "4  book  pub.1130227719  2020  Medicine in the Twentieth Century"
      ]
     },
     "execution_count": 23,
     "metadata": {},
     "output_type": "execute_result"
    }
   ],
   "source": [
    "%dsldf search publications for \"malaria\" where type = \"book\" return publications limit 5"
   ]
  },
  {
   "cell_type": "markdown",
   "metadata": {
    "Collapsed": "false"
   },
   "source": [
    "### 3.2 `in`\n",
    "\n",
    "For convenience, the DSL also supports shorthand notation for filters\n",
    "where a particular field should be restricted to a specified range or\n",
    "list of values (although the same logic may be expressed using complex\n",
    "filters as shown below).\n",
    "\n",
    "Syntax: a **range filter** consists of the `field` name, the keyword `in`, and a\n",
    "range of values enclosed in square brackets (`[]`), where the range\n",
    "consists of a `low` value, colon `:`, and a `high` value."
   ]
  },
  {
   "cell_type": "code",
   "execution_count": 24,
   "metadata": {
    "Collapsed": "false"
   },
   "outputs": [
    {
     "name": "stdout",
     "output_type": "stream",
     "text": [
      "Returned Grants: 5 (total = 3134)\n",
      "\u001b[2mTime: 0.52s\u001b[0m\n"
     ]
    },
    {
     "data": {
      "text/html": [
       "<div>\n",
       "<style scoped>\n",
       "    .dataframe tbody tr th:only-of-type {\n",
       "        vertical-align: middle;\n",
       "    }\n",
       "\n",
       "    .dataframe tbody tr th {\n",
       "        vertical-align: top;\n",
       "    }\n",
       "\n",
       "    .dataframe thead th {\n",
       "        text-align: right;\n",
       "    }\n",
       "</style>\n",
       "<table border=\"1\" class=\"dataframe\">\n",
       "  <thead>\n",
       "    <tr style=\"text-align: right;\">\n",
       "      <th></th>\n",
       "      <th>funders</th>\n",
       "      <th>title</th>\n",
       "      <th>end_date</th>\n",
       "      <th>start_year</th>\n",
       "      <th>title_language</th>\n",
       "      <th>original_title</th>\n",
       "      <th>project_num</th>\n",
       "      <th>funding_org_name</th>\n",
       "      <th>language</th>\n",
       "      <th>start_date</th>\n",
       "      <th>id</th>\n",
       "      <th>active_year</th>\n",
       "    </tr>\n",
       "  </thead>\n",
       "  <tbody>\n",
       "    <tr>\n",
       "      <th>0</th>\n",
       "      <td>[{'id': 'grid.419681.3', 'state_name': 'Maryla...</td>\n",
       "      <td>Bloodborne tropical pathogen detection using m...</td>\n",
       "      <td>2017-11-30</td>\n",
       "      <td>2015</td>\n",
       "      <td>en</td>\n",
       "      <td>Bloodborne tropical pathogen detection using m...</td>\n",
       "      <td>R21AI120981</td>\n",
       "      <td>National Institute of Allergy and Infectious D...</td>\n",
       "      <td>en</td>\n",
       "      <td>2015-12-28</td>\n",
       "      <td>grant.4729738</td>\n",
       "      <td>[2015, 2016, 2017]</td>\n",
       "    </tr>\n",
       "    <tr>\n",
       "      <th>1</th>\n",
       "      <td>[{'id': 'grid.419681.3', 'state_name': 'Maryla...</td>\n",
       "      <td>Field-deployable Assay for Differential Diagno...</td>\n",
       "      <td>2019-02-28</td>\n",
       "      <td>2015</td>\n",
       "      <td>en</td>\n",
       "      <td>Field-deployable Assay for Differential Diagno...</td>\n",
       "      <td>R21AI120973</td>\n",
       "      <td>National Institute of Allergy and Infectious D...</td>\n",
       "      <td>en</td>\n",
       "      <td>2015-12-24</td>\n",
       "      <td>grant.4729736</td>\n",
       "      <td>[2015, 2016, 2017, 2018, 2019]</td>\n",
       "    </tr>\n",
       "    <tr>\n",
       "      <th>2</th>\n",
       "      <td>[{'id': 'grid.419681.3', 'state_name': 'Maryla...</td>\n",
       "      <td>T cell driven antigen discovery for vaccine ca...</td>\n",
       "      <td>2018-11-30</td>\n",
       "      <td>2015</td>\n",
       "      <td>en</td>\n",
       "      <td>T cell driven antigen discovery for vaccine ca...</td>\n",
       "      <td>R21AI109439</td>\n",
       "      <td>National Institute of Allergy and Infectious D...</td>\n",
       "      <td>en</td>\n",
       "      <td>2015-12-21</td>\n",
       "      <td>grant.4729699</td>\n",
       "      <td>[2015, 2016, 2017, 2018]</td>\n",
       "    </tr>\n",
       "    <tr>\n",
       "      <th>3</th>\n",
       "      <td>[{'id': 'grid.452969.5', 'city_name': 'Hanover...</td>\n",
       "      <td>Senior Fellowship for Dr. Eduardo Samo Gudo: E...</td>\n",
       "      <td>2018-12-18</td>\n",
       "      <td>2015</td>\n",
       "      <td>en</td>\n",
       "      <td>Senior Fellowship for Dr. Eduardo Samo Gudo: E...</td>\n",
       "      <td>91488</td>\n",
       "      <td>Volkswagen Foundation</td>\n",
       "      <td>en</td>\n",
       "      <td>2015-12-18</td>\n",
       "      <td>grant.4854433</td>\n",
       "      <td>[2015, 2016, 2017, 2018]</td>\n",
       "    </tr>\n",
       "    <tr>\n",
       "      <th>4</th>\n",
       "      <td>[{'id': 'grid.482914.2', 'state_name': 'Distri...</td>\n",
       "      <td>Biology, Ecology &amp; Management of Emerging Dise...</td>\n",
       "      <td>2019-09-30</td>\n",
       "      <td>2015</td>\n",
       "      <td>en</td>\n",
       "      <td>Biology, Ecology &amp; Management of Emerging Dise...</td>\n",
       "      <td>N/A</td>\n",
       "      <td>National Institute of Food and Agriculture</td>\n",
       "      <td>en</td>\n",
       "      <td>2015-12-10</td>\n",
       "      <td>grant.8821176</td>\n",
       "      <td>[2015, 2016, 2017, 2018, 2019]</td>\n",
       "    </tr>\n",
       "  </tbody>\n",
       "</table>\n",
       "</div>"
      ],
      "text/plain": [
       "                                             funders  \\\n",
       "0  [{'id': 'grid.419681.3', 'state_name': 'Maryla...   \n",
       "1  [{'id': 'grid.419681.3', 'state_name': 'Maryla...   \n",
       "2  [{'id': 'grid.419681.3', 'state_name': 'Maryla...   \n",
       "3  [{'id': 'grid.452969.5', 'city_name': 'Hanover...   \n",
       "4  [{'id': 'grid.482914.2', 'state_name': 'Distri...   \n",
       "\n",
       "                                               title    end_date  start_year  \\\n",
       "0  Bloodborne tropical pathogen detection using m...  2017-11-30        2015   \n",
       "1  Field-deployable Assay for Differential Diagno...  2019-02-28        2015   \n",
       "2  T cell driven antigen discovery for vaccine ca...  2018-11-30        2015   \n",
       "3  Senior Fellowship for Dr. Eduardo Samo Gudo: E...  2018-12-18        2015   \n",
       "4  Biology, Ecology & Management of Emerging Dise...  2019-09-30        2015   \n",
       "\n",
       "  title_language                                     original_title  \\\n",
       "0             en  Bloodborne tropical pathogen detection using m...   \n",
       "1             en  Field-deployable Assay for Differential Diagno...   \n",
       "2             en  T cell driven antigen discovery for vaccine ca...   \n",
       "3             en  Senior Fellowship for Dr. Eduardo Samo Gudo: E...   \n",
       "4             en  Biology, Ecology & Management of Emerging Dise...   \n",
       "\n",
       "   project_num                                   funding_org_name language  \\\n",
       "0  R21AI120981  National Institute of Allergy and Infectious D...       en   \n",
       "1  R21AI120973  National Institute of Allergy and Infectious D...       en   \n",
       "2  R21AI109439  National Institute of Allergy and Infectious D...       en   \n",
       "3        91488                              Volkswagen Foundation       en   \n",
       "4          N/A         National Institute of Food and Agriculture       en   \n",
       "\n",
       "   start_date             id                     active_year  \n",
       "0  2015-12-28  grant.4729738              [2015, 2016, 2017]  \n",
       "1  2015-12-24  grant.4729736  [2015, 2016, 2017, 2018, 2019]  \n",
       "2  2015-12-21  grant.4729699        [2015, 2016, 2017, 2018]  \n",
       "3  2015-12-18  grant.4854433        [2015, 2016, 2017, 2018]  \n",
       "4  2015-12-10  grant.8821176  [2015, 2016, 2017, 2018, 2019]  "
      ]
     },
     "execution_count": 24,
     "metadata": {},
     "output_type": "execute_result"
    }
   ],
   "source": [
    "%%dsldf \n",
    "search grants \n",
    "    for \"malaria\" \n",
    "    where start_year in [ 2010 : 2015 ] \n",
    "return grants limit 5"
   ]
  },
  {
   "cell_type": "markdown",
   "metadata": {
    "Collapsed": "false"
   },
   "source": [
    "Syntax: a **list filter** consists of the `field` name, the keyword `in`, and a list\n",
    "of one or more `value` s enclosed in square brackets (`[]`), where\n",
    "values are separated by commas (`,`):"
   ]
  },
  {
   "cell_type": "code",
   "execution_count": 25,
   "metadata": {
    "Collapsed": "false"
   },
   "outputs": [
    {
     "name": "stdout",
     "output_type": "stream",
     "text": [
      "Returned Grants: 0\n",
      "\u001b[2mTime: 0.46s\u001b[0m\n",
      "WARNINGS [1]\n",
      "Field 'research_org_name' is deprecated in favor of research_orgs. Please refer to https://docs.dimensions.ai/dsl/releasenotes.html for more details\n"
     ]
    },
    {
     "data": {
      "text/html": [
       "<div>\n",
       "<style scoped>\n",
       "    .dataframe tbody tr th:only-of-type {\n",
       "        vertical-align: middle;\n",
       "    }\n",
       "\n",
       "    .dataframe tbody tr th {\n",
       "        vertical-align: top;\n",
       "    }\n",
       "\n",
       "    .dataframe thead th {\n",
       "        text-align: right;\n",
       "    }\n",
       "</style>\n",
       "<table border=\"1\" class=\"dataframe\">\n",
       "  <thead>\n",
       "    <tr style=\"text-align: right;\">\n",
       "      <th></th>\n",
       "    </tr>\n",
       "  </thead>\n",
       "  <tbody>\n",
       "  </tbody>\n",
       "</table>\n",
       "</div>"
      ],
      "text/plain": [
       "Empty DataFrame\n",
       "Columns: []\n",
       "Index: []"
      ]
     },
     "execution_count": 25,
     "metadata": {},
     "output_type": "execute_result"
    }
   ],
   "source": [
    "%%dsldf \n",
    "search grants \n",
    "    for \"malaria\" \n",
    "    where research_org_name in [ \"UC Berkeley\", \"UC Davis\", \"UCLA\"  ] \n",
    "return grants limit 5"
   ]
  },
  {
   "cell_type": "markdown",
   "metadata": {
    "Collapsed": "false"
   },
   "source": [
    "### 3.3 `count` - filter function\n",
    "\n",
    "The filter function `count` is supported on some fields in\n",
    "[publications](publications.ipynb) (e.g. `researchers` and\n",
    "`research_orgs`).\n",
    "\n",
    "Use of this filter is shown on the example below:"
   ]
  },
  {
   "cell_type": "code",
   "execution_count": 26,
   "metadata": {
    "Collapsed": "false"
   },
   "outputs": [
    {
     "name": "stdout",
     "output_type": "stream",
     "text": [
      "Returned Research_orgs: 5\n",
      "\u001b[2mTime: 2.59s\u001b[0m\n"
     ]
    },
    {
     "data": {
      "text/html": [
       "<div>\n",
       "<style scoped>\n",
       "    .dataframe tbody tr th:only-of-type {\n",
       "        vertical-align: middle;\n",
       "    }\n",
       "\n",
       "    .dataframe tbody tr th {\n",
       "        vertical-align: top;\n",
       "    }\n",
       "\n",
       "    .dataframe thead th {\n",
       "        text-align: right;\n",
       "    }\n",
       "</style>\n",
       "<table border=\"1\" class=\"dataframe\">\n",
       "  <thead>\n",
       "    <tr style=\"text-align: right;\">\n",
       "      <th></th>\n",
       "      <th>id</th>\n",
       "      <th>count</th>\n",
       "      <th>types</th>\n",
       "      <th>name</th>\n",
       "      <th>latitude</th>\n",
       "      <th>longitude</th>\n",
       "      <th>linkout</th>\n",
       "      <th>city_name</th>\n",
       "      <th>country_name</th>\n",
       "      <th>state_name</th>\n",
       "      <th>acronym</th>\n",
       "    </tr>\n",
       "  </thead>\n",
       "  <tbody>\n",
       "    <tr>\n",
       "      <th>0</th>\n",
       "      <td>grid.4991.5</td>\n",
       "      <td>1571</td>\n",
       "      <td>[Education]</td>\n",
       "      <td>University of Oxford</td>\n",
       "      <td>51.753437</td>\n",
       "      <td>-1.254010</td>\n",
       "      <td>[http://www.ox.ac.uk/]</td>\n",
       "      <td>Oxford</td>\n",
       "      <td>United Kingdom</td>\n",
       "      <td>Oxfordshire</td>\n",
       "      <td>NaN</td>\n",
       "    </tr>\n",
       "    <tr>\n",
       "      <th>1</th>\n",
       "      <td>grid.8991.9</td>\n",
       "      <td>1473</td>\n",
       "      <td>[Education]</td>\n",
       "      <td>London School of Hygiene &amp; Tropical Medicine</td>\n",
       "      <td>51.520900</td>\n",
       "      <td>-0.130700</td>\n",
       "      <td>[http://www.lshtm.ac.uk/]</td>\n",
       "      <td>London</td>\n",
       "      <td>United Kingdom</td>\n",
       "      <td>Camden</td>\n",
       "      <td>LSHTM</td>\n",
       "    </tr>\n",
       "    <tr>\n",
       "      <th>2</th>\n",
       "      <td>grid.38142.3c</td>\n",
       "      <td>1095</td>\n",
       "      <td>[Education]</td>\n",
       "      <td>Harvard University</td>\n",
       "      <td>42.377052</td>\n",
       "      <td>-71.116650</td>\n",
       "      <td>[http://www.harvard.edu/]</td>\n",
       "      <td>Cambridge</td>\n",
       "      <td>United States</td>\n",
       "      <td>Massachusetts</td>\n",
       "      <td>NaN</td>\n",
       "    </tr>\n",
       "    <tr>\n",
       "      <th>3</th>\n",
       "      <td>grid.21107.35</td>\n",
       "      <td>867</td>\n",
       "      <td>[Education]</td>\n",
       "      <td>Johns Hopkins University</td>\n",
       "      <td>39.328888</td>\n",
       "      <td>-76.620280</td>\n",
       "      <td>[https://www.jhu.edu/]</td>\n",
       "      <td>Baltimore</td>\n",
       "      <td>United States</td>\n",
       "      <td>Maryland</td>\n",
       "      <td>JHU</td>\n",
       "    </tr>\n",
       "    <tr>\n",
       "      <th>4</th>\n",
       "      <td>grid.7445.2</td>\n",
       "      <td>803</td>\n",
       "      <td>[Education]</td>\n",
       "      <td>Imperial College London</td>\n",
       "      <td>51.498600</td>\n",
       "      <td>-0.175478</td>\n",
       "      <td>[http://www.imperial.ac.uk/]</td>\n",
       "      <td>London</td>\n",
       "      <td>United Kingdom</td>\n",
       "      <td>Westminster</td>\n",
       "      <td>NaN</td>\n",
       "    </tr>\n",
       "  </tbody>\n",
       "</table>\n",
       "</div>"
      ],
      "text/plain": [
       "              id  count        types  \\\n",
       "0    grid.4991.5   1571  [Education]   \n",
       "1    grid.8991.9   1473  [Education]   \n",
       "2  grid.38142.3c   1095  [Education]   \n",
       "3  grid.21107.35    867  [Education]   \n",
       "4    grid.7445.2    803  [Education]   \n",
       "\n",
       "                                           name   latitude  longitude  \\\n",
       "0                          University of Oxford  51.753437  -1.254010   \n",
       "1  London School of Hygiene & Tropical Medicine  51.520900  -0.130700   \n",
       "2                            Harvard University  42.377052 -71.116650   \n",
       "3                      Johns Hopkins University  39.328888 -76.620280   \n",
       "4                       Imperial College London  51.498600  -0.175478   \n",
       "\n",
       "                        linkout  city_name    country_name     state_name  \\\n",
       "0        [http://www.ox.ac.uk/]     Oxford  United Kingdom    Oxfordshire   \n",
       "1     [http://www.lshtm.ac.uk/]     London  United Kingdom         Camden   \n",
       "2     [http://www.harvard.edu/]  Cambridge   United States  Massachusetts   \n",
       "3        [https://www.jhu.edu/]  Baltimore   United States       Maryland   \n",
       "4  [http://www.imperial.ac.uk/]     London  United Kingdom    Westminster   \n",
       "\n",
       "  acronym  \n",
       "0     NaN  \n",
       "1   LSHTM  \n",
       "2     NaN  \n",
       "3     JHU  \n",
       "4     NaN  "
      ]
     },
     "execution_count": 26,
     "metadata": {},
     "output_type": "execute_result"
    }
   ],
   "source": [
    "%%dsldf \n",
    "search publications \n",
    "    for \"malaria\" \n",
    "    where count(research_orgs) > 5 \n",
    "return research_orgs limit 5"
   ]
  },
  {
   "cell_type": "markdown",
   "metadata": {
    "Collapsed": "false"
   },
   "source": [
    "Number of publications with more than 50 researcher."
   ]
  },
  {
   "cell_type": "code",
   "execution_count": 27,
   "metadata": {
    "Collapsed": "false"
   },
   "outputs": [
    {
     "name": "stdout",
     "output_type": "stream",
     "text": [
      "Returned Publications: 5 (total = 241)\n",
      "\u001b[2mTime: 0.78s\u001b[0m\n"
     ]
    },
    {
     "data": {
      "text/html": [
       "<div>\n",
       "<style scoped>\n",
       "    .dataframe tbody tr th:only-of-type {\n",
       "        vertical-align: middle;\n",
       "    }\n",
       "\n",
       "    .dataframe tbody tr th {\n",
       "        vertical-align: top;\n",
       "    }\n",
       "\n",
       "    .dataframe thead th {\n",
       "        text-align: right;\n",
       "    }\n",
       "</style>\n",
       "<table border=\"1\" class=\"dataframe\">\n",
       "  <thead>\n",
       "    <tr style=\"text-align: right;\">\n",
       "      <th></th>\n",
       "      <th>id</th>\n",
       "      <th>title</th>\n",
       "      <th>volume</th>\n",
       "      <th>issue</th>\n",
       "      <th>pages</th>\n",
       "      <th>type</th>\n",
       "      <th>year</th>\n",
       "      <th>author_affiliations</th>\n",
       "      <th>journal.id</th>\n",
       "      <th>journal.title</th>\n",
       "    </tr>\n",
       "  </thead>\n",
       "  <tbody>\n",
       "    <tr>\n",
       "      <th>0</th>\n",
       "      <td>pub.1130215447</td>\n",
       "      <td>The global distribution of lymphatic filariasi...</td>\n",
       "      <td>8</td>\n",
       "      <td>9</td>\n",
       "      <td>e1186-e1194</td>\n",
       "      <td>article</td>\n",
       "      <td>2020</td>\n",
       "      <td>[[{'first_name': 'Aniruddha', 'last_name': 'De...</td>\n",
       "      <td>jour.1048786</td>\n",
       "      <td>The Lancet Global Health</td>\n",
       "    </tr>\n",
       "    <tr>\n",
       "      <th>1</th>\n",
       "      <td>pub.1126915860</td>\n",
       "      <td>Health sector spending and spending on HIV/AID...</td>\n",
       "      <td>396</td>\n",
       "      <td>10252</td>\n",
       "      <td>693-724</td>\n",
       "      <td>article</td>\n",
       "      <td>2020</td>\n",
       "      <td>[[{'first_name': 'Global Burden of Disease Hea...</td>\n",
       "      <td>jour.1077219</td>\n",
       "      <td>The Lancet</td>\n",
       "    </tr>\n",
       "    <tr>\n",
       "      <th>2</th>\n",
       "      <td>pub.1130211369</td>\n",
       "      <td>Mapping geographical inequalities in access to...</td>\n",
       "      <td>8</td>\n",
       "      <td>9</td>\n",
       "      <td>e1162-e1185</td>\n",
       "      <td>article</td>\n",
       "      <td>2020</td>\n",
       "      <td>[[{'first_name': 'Aniruddha', 'last_name': 'De...</td>\n",
       "      <td>jour.1048786</td>\n",
       "      <td>The Lancet Global Health</td>\n",
       "    </tr>\n",
       "    <tr>\n",
       "      <th>3</th>\n",
       "      <td>pub.1129557093</td>\n",
       "      <td>Mapping geographical inequalities in oral rehy...</td>\n",
       "      <td>8</td>\n",
       "      <td>8</td>\n",
       "      <td>e1038-e1060</td>\n",
       "      <td>article</td>\n",
       "      <td>2020</td>\n",
       "      <td>[[{'first_name': 'Local Burden of Disease Diar...</td>\n",
       "      <td>jour.1048786</td>\n",
       "      <td>The Lancet Global Health</td>\n",
       "    </tr>\n",
       "    <tr>\n",
       "      <th>4</th>\n",
       "      <td>pub.1130303438</td>\n",
       "      <td>Use of hydroxychloroquine in hospitalised COVI...</td>\n",
       "      <td>NaN</td>\n",
       "      <td>NaN</td>\n",
       "      <td>NaN</td>\n",
       "      <td>article</td>\n",
       "      <td>2020</td>\n",
       "      <td>[[{'first_name': 'Augusto', 'last_name': 'Di C...</td>\n",
       "      <td>jour.1100229</td>\n",
       "      <td>European Journal of Internal Medicine</td>\n",
       "    </tr>\n",
       "  </tbody>\n",
       "</table>\n",
       "</div>"
      ],
      "text/plain": [
       "               id                                              title volume  \\\n",
       "0  pub.1130215447  The global distribution of lymphatic filariasi...      8   \n",
       "1  pub.1126915860  Health sector spending and spending on HIV/AID...    396   \n",
       "2  pub.1130211369  Mapping geographical inequalities in access to...      8   \n",
       "3  pub.1129557093  Mapping geographical inequalities in oral rehy...      8   \n",
       "4  pub.1130303438  Use of hydroxychloroquine in hospitalised COVI...    NaN   \n",
       "\n",
       "   issue        pages     type  year  \\\n",
       "0      9  e1186-e1194  article  2020   \n",
       "1  10252      693-724  article  2020   \n",
       "2      9  e1162-e1185  article  2020   \n",
       "3      8  e1038-e1060  article  2020   \n",
       "4    NaN          NaN  article  2020   \n",
       "\n",
       "                                 author_affiliations    journal.id  \\\n",
       "0  [[{'first_name': 'Aniruddha', 'last_name': 'De...  jour.1048786   \n",
       "1  [[{'first_name': 'Global Burden of Disease Hea...  jour.1077219   \n",
       "2  [[{'first_name': 'Aniruddha', 'last_name': 'De...  jour.1048786   \n",
       "3  [[{'first_name': 'Local Burden of Disease Diar...  jour.1048786   \n",
       "4  [[{'first_name': 'Augusto', 'last_name': 'Di C...  jour.1100229   \n",
       "\n",
       "                           journal.title  \n",
       "0               The Lancet Global Health  \n",
       "1                             The Lancet  \n",
       "2               The Lancet Global Health  \n",
       "3               The Lancet Global Health  \n",
       "4  European Journal of Internal Medicine  "
      ]
     },
     "execution_count": 27,
     "metadata": {},
     "output_type": "execute_result"
    }
   ],
   "source": [
    "%%dsldf \n",
    "search publications \n",
    "    for \"malaria\" \n",
    "    where count(researchers) > 50 \n",
    "return publications limit 5"
   ]
  },
  {
   "cell_type": "markdown",
   "metadata": {
    "Collapsed": "false"
   },
   "source": [
    "Number of publications with more than one researcher."
   ]
  },
  {
   "cell_type": "code",
   "execution_count": 28,
   "metadata": {
    "Collapsed": "false"
   },
   "outputs": [
    {
     "name": "stdout",
     "output_type": "stream",
     "text": [
      "Returned Funders: 5\n",
      "\u001b[2mTime: 1.89s\u001b[0m\n"
     ]
    },
    {
     "data": {
      "text/html": [
       "<div>\n",
       "<style scoped>\n",
       "    .dataframe tbody tr th:only-of-type {\n",
       "        vertical-align: middle;\n",
       "    }\n",
       "\n",
       "    .dataframe tbody tr th {\n",
       "        vertical-align: top;\n",
       "    }\n",
       "\n",
       "    .dataframe thead th {\n",
       "        text-align: right;\n",
       "    }\n",
       "</style>\n",
       "<table border=\"1\" class=\"dataframe\">\n",
       "  <thead>\n",
       "    <tr style=\"text-align: right;\">\n",
       "      <th></th>\n",
       "      <th>id</th>\n",
       "      <th>count</th>\n",
       "      <th>city_name</th>\n",
       "      <th>types</th>\n",
       "      <th>name</th>\n",
       "      <th>country_name</th>\n",
       "      <th>linkout</th>\n",
       "      <th>latitude</th>\n",
       "      <th>acronym</th>\n",
       "      <th>longitude</th>\n",
       "      <th>state_name</th>\n",
       "    </tr>\n",
       "  </thead>\n",
       "  <tbody>\n",
       "    <tr>\n",
       "      <th>0</th>\n",
       "      <td>grid.419696.5</td>\n",
       "      <td>1870091</td>\n",
       "      <td>Beijing</td>\n",
       "      <td>[Government]</td>\n",
       "      <td>National Natural Science Foundation of China</td>\n",
       "      <td>China</td>\n",
       "      <td>[http://www.nsfc.gov.cn/publish/portal1/]</td>\n",
       "      <td>40.005177</td>\n",
       "      <td>NSFC</td>\n",
       "      <td>116.339830</td>\n",
       "      <td>NaN</td>\n",
       "    </tr>\n",
       "    <tr>\n",
       "      <th>1</th>\n",
       "      <td>grid.270680.b</td>\n",
       "      <td>674156</td>\n",
       "      <td>Brussels</td>\n",
       "      <td>[Government]</td>\n",
       "      <td>European Commission</td>\n",
       "      <td>Belgium</td>\n",
       "      <td>[http://ec.europa.eu/index_en.htm]</td>\n",
       "      <td>50.851650</td>\n",
       "      <td>EC</td>\n",
       "      <td>4.363670</td>\n",
       "      <td>NaN</td>\n",
       "    </tr>\n",
       "    <tr>\n",
       "      <th>2</th>\n",
       "      <td>grid.424020.0</td>\n",
       "      <td>597126</td>\n",
       "      <td>Beijing</td>\n",
       "      <td>[Government]</td>\n",
       "      <td>Ministry of Science and Technology of the Peop...</td>\n",
       "      <td>China</td>\n",
       "      <td>[http://www.most.gov.cn/eng/]</td>\n",
       "      <td>39.827835</td>\n",
       "      <td>MOST</td>\n",
       "      <td>116.316284</td>\n",
       "      <td>NaN</td>\n",
       "    </tr>\n",
       "    <tr>\n",
       "      <th>3</th>\n",
       "      <td>grid.48336.3a</td>\n",
       "      <td>568639</td>\n",
       "      <td>Rockville</td>\n",
       "      <td>[Government]</td>\n",
       "      <td>National Cancer Institute</td>\n",
       "      <td>United States</td>\n",
       "      <td>[http://www.cancer.gov/]</td>\n",
       "      <td>39.004326</td>\n",
       "      <td>NCI</td>\n",
       "      <td>-77.101190</td>\n",
       "      <td>Maryland</td>\n",
       "    </tr>\n",
       "    <tr>\n",
       "      <th>4</th>\n",
       "      <td>grid.54432.34</td>\n",
       "      <td>542093</td>\n",
       "      <td>Tokyo</td>\n",
       "      <td>[Nonprofit]</td>\n",
       "      <td>Japan Society for the Promotion of Science</td>\n",
       "      <td>Japan</td>\n",
       "      <td>[http://www.jsps.go.jp/]</td>\n",
       "      <td>35.687160</td>\n",
       "      <td>JSPS</td>\n",
       "      <td>139.740390</td>\n",
       "      <td>NaN</td>\n",
       "    </tr>\n",
       "  </tbody>\n",
       "</table>\n",
       "</div>"
      ],
      "text/plain": [
       "              id    count  city_name         types  \\\n",
       "0  grid.419696.5  1870091    Beijing  [Government]   \n",
       "1  grid.270680.b   674156   Brussels  [Government]   \n",
       "2  grid.424020.0   597126    Beijing  [Government]   \n",
       "3  grid.48336.3a   568639  Rockville  [Government]   \n",
       "4  grid.54432.34   542093      Tokyo   [Nonprofit]   \n",
       "\n",
       "                                                name   country_name  \\\n",
       "0       National Natural Science Foundation of China          China   \n",
       "1                                European Commission        Belgium   \n",
       "2  Ministry of Science and Technology of the Peop...          China   \n",
       "3                          National Cancer Institute  United States   \n",
       "4         Japan Society for the Promotion of Science          Japan   \n",
       "\n",
       "                                     linkout   latitude acronym   longitude  \\\n",
       "0  [http://www.nsfc.gov.cn/publish/portal1/]  40.005177    NSFC  116.339830   \n",
       "1         [http://ec.europa.eu/index_en.htm]  50.851650      EC    4.363670   \n",
       "2              [http://www.most.gov.cn/eng/]  39.827835    MOST  116.316284   \n",
       "3                   [http://www.cancer.gov/]  39.004326     NCI  -77.101190   \n",
       "4                   [http://www.jsps.go.jp/]  35.687160    JSPS  139.740390   \n",
       "\n",
       "  state_name  \n",
       "0        NaN  \n",
       "1        NaN  \n",
       "2        NaN  \n",
       "3   Maryland  \n",
       "4        NaN  "
      ]
     },
     "execution_count": 28,
     "metadata": {},
     "output_type": "execute_result"
    }
   ],
   "source": [
    "%%dsldf \n",
    "search publications\n",
    "where count(researchers) > 1\n",
    "return funders limit 5"
   ]
  },
  {
   "cell_type": "markdown",
   "metadata": {
    "Collapsed": "false"
   },
   "source": [
    "International collaborations: number of publications with more than one author and affiliations located in more than one country."
   ]
  },
  {
   "cell_type": "code",
   "execution_count": 29,
   "metadata": {
    "Collapsed": "false"
   },
   "outputs": [
    {
     "name": "stdout",
     "output_type": "stream",
     "text": [
      "Returned Funders: 5\n",
      "\u001b[2mTime: 1.09s\u001b[0m\n"
     ]
    },
    {
     "data": {
      "text/html": [
       "<div>\n",
       "<style scoped>\n",
       "    .dataframe tbody tr th:only-of-type {\n",
       "        vertical-align: middle;\n",
       "    }\n",
       "\n",
       "    .dataframe tbody tr th {\n",
       "        vertical-align: top;\n",
       "    }\n",
       "\n",
       "    .dataframe thead th {\n",
       "        text-align: right;\n",
       "    }\n",
       "</style>\n",
       "<table border=\"1\" class=\"dataframe\">\n",
       "  <thead>\n",
       "    <tr style=\"text-align: right;\">\n",
       "      <th></th>\n",
       "      <th>id</th>\n",
       "      <th>count</th>\n",
       "      <th>types</th>\n",
       "      <th>name</th>\n",
       "      <th>latitude</th>\n",
       "      <th>longitude</th>\n",
       "      <th>linkout</th>\n",
       "      <th>city_name</th>\n",
       "      <th>country_name</th>\n",
       "      <th>acronym</th>\n",
       "    </tr>\n",
       "  </thead>\n",
       "  <tbody>\n",
       "    <tr>\n",
       "      <th>0</th>\n",
       "      <td>grid.419696.5</td>\n",
       "      <td>452873</td>\n",
       "      <td>[Government]</td>\n",
       "      <td>National Natural Science Foundation of China</td>\n",
       "      <td>40.005177</td>\n",
       "      <td>116.339830</td>\n",
       "      <td>[http://www.nsfc.gov.cn/publish/portal1/]</td>\n",
       "      <td>Beijing</td>\n",
       "      <td>China</td>\n",
       "      <td>NSFC</td>\n",
       "    </tr>\n",
       "    <tr>\n",
       "      <th>1</th>\n",
       "      <td>grid.270680.b</td>\n",
       "      <td>344656</td>\n",
       "      <td>[Government]</td>\n",
       "      <td>European Commission</td>\n",
       "      <td>50.851650</td>\n",
       "      <td>4.363670</td>\n",
       "      <td>[http://ec.europa.eu/index_en.htm]</td>\n",
       "      <td>Brussels</td>\n",
       "      <td>Belgium</td>\n",
       "      <td>EC</td>\n",
       "    </tr>\n",
       "    <tr>\n",
       "      <th>2</th>\n",
       "      <td>grid.424150.6</td>\n",
       "      <td>157949</td>\n",
       "      <td>[Facility]</td>\n",
       "      <td>German Research Foundation</td>\n",
       "      <td>50.699340</td>\n",
       "      <td>7.147797</td>\n",
       "      <td>[http://www.dfg.de/en/]</td>\n",
       "      <td>Bonn</td>\n",
       "      <td>Germany</td>\n",
       "      <td>DFG</td>\n",
       "    </tr>\n",
       "    <tr>\n",
       "      <th>3</th>\n",
       "      <td>grid.424020.0</td>\n",
       "      <td>149276</td>\n",
       "      <td>[Government]</td>\n",
       "      <td>Ministry of Science and Technology of the Peop...</td>\n",
       "      <td>39.827835</td>\n",
       "      <td>116.316284</td>\n",
       "      <td>[http://www.most.gov.cn/eng/]</td>\n",
       "      <td>Beijing</td>\n",
       "      <td>China</td>\n",
       "      <td>MOST</td>\n",
       "    </tr>\n",
       "    <tr>\n",
       "      <th>4</th>\n",
       "      <td>grid.54432.34</td>\n",
       "      <td>136016</td>\n",
       "      <td>[Nonprofit]</td>\n",
       "      <td>Japan Society for the Promotion of Science</td>\n",
       "      <td>35.687160</td>\n",
       "      <td>139.740390</td>\n",
       "      <td>[http://www.jsps.go.jp/]</td>\n",
       "      <td>Tokyo</td>\n",
       "      <td>Japan</td>\n",
       "      <td>JSPS</td>\n",
       "    </tr>\n",
       "  </tbody>\n",
       "</table>\n",
       "</div>"
      ],
      "text/plain": [
       "              id   count         types  \\\n",
       "0  grid.419696.5  452873  [Government]   \n",
       "1  grid.270680.b  344656  [Government]   \n",
       "2  grid.424150.6  157949    [Facility]   \n",
       "3  grid.424020.0  149276  [Government]   \n",
       "4  grid.54432.34  136016   [Nonprofit]   \n",
       "\n",
       "                                                name   latitude   longitude  \\\n",
       "0       National Natural Science Foundation of China  40.005177  116.339830   \n",
       "1                                European Commission  50.851650    4.363670   \n",
       "2                         German Research Foundation  50.699340    7.147797   \n",
       "3  Ministry of Science and Technology of the Peop...  39.827835  116.316284   \n",
       "4         Japan Society for the Promotion of Science  35.687160  139.740390   \n",
       "\n",
       "                                     linkout city_name country_name acronym  \n",
       "0  [http://www.nsfc.gov.cn/publish/portal1/]   Beijing        China    NSFC  \n",
       "1         [http://ec.europa.eu/index_en.htm]  Brussels      Belgium      EC  \n",
       "2                    [http://www.dfg.de/en/]      Bonn      Germany     DFG  \n",
       "3              [http://www.most.gov.cn/eng/]   Beijing        China    MOST  \n",
       "4                   [http://www.jsps.go.jp/]     Tokyo        Japan    JSPS  "
      ]
     },
     "execution_count": 29,
     "metadata": {},
     "output_type": "execute_result"
    }
   ],
   "source": [
    "%%dsldf \n",
    "search publications\n",
    "where count(researchers) > 1\n",
    "and count(research_org_countries) > 1\n",
    "return funders limit 5"
   ]
  },
  {
   "cell_type": "markdown",
   "metadata": {
    "Collapsed": "false"
   },
   "source": [
    "Domestic collaborations: number of publications with more than one author and more than one affiliation located in exactly one country."
   ]
  },
  {
   "cell_type": "code",
   "execution_count": 30,
   "metadata": {
    "Collapsed": "false"
   },
   "outputs": [
    {
     "name": "stdout",
     "output_type": "stream",
     "text": [
      "Returned Funders: 5\n",
      "\u001b[2mTime: 2.58s\u001b[0m\n"
     ]
    },
    {
     "data": {
      "text/html": [
       "<div>\n",
       "<style scoped>\n",
       "    .dataframe tbody tr th:only-of-type {\n",
       "        vertical-align: middle;\n",
       "    }\n",
       "\n",
       "    .dataframe tbody tr th {\n",
       "        vertical-align: top;\n",
       "    }\n",
       "\n",
       "    .dataframe thead th {\n",
       "        text-align: right;\n",
       "    }\n",
       "</style>\n",
       "<table border=\"1\" class=\"dataframe\">\n",
       "  <thead>\n",
       "    <tr style=\"text-align: right;\">\n",
       "      <th></th>\n",
       "      <th>id</th>\n",
       "      <th>count</th>\n",
       "      <th>city_name</th>\n",
       "      <th>types</th>\n",
       "      <th>name</th>\n",
       "      <th>country_name</th>\n",
       "      <th>linkout</th>\n",
       "      <th>latitude</th>\n",
       "      <th>acronym</th>\n",
       "      <th>longitude</th>\n",
       "      <th>state_name</th>\n",
       "    </tr>\n",
       "  </thead>\n",
       "  <tbody>\n",
       "    <tr>\n",
       "      <th>0</th>\n",
       "      <td>grid.419696.5</td>\n",
       "      <td>1373160</td>\n",
       "      <td>Beijing</td>\n",
       "      <td>[Government]</td>\n",
       "      <td>National Natural Science Foundation of China</td>\n",
       "      <td>China</td>\n",
       "      <td>[http://www.nsfc.gov.cn/publish/portal1/]</td>\n",
       "      <td>40.005177</td>\n",
       "      <td>NSFC</td>\n",
       "      <td>116.339830</td>\n",
       "      <td>NaN</td>\n",
       "    </tr>\n",
       "    <tr>\n",
       "      <th>1</th>\n",
       "      <td>grid.424020.0</td>\n",
       "      <td>435916</td>\n",
       "      <td>Beijing</td>\n",
       "      <td>[Government]</td>\n",
       "      <td>Ministry of Science and Technology of the Peop...</td>\n",
       "      <td>China</td>\n",
       "      <td>[http://www.most.gov.cn/eng/]</td>\n",
       "      <td>39.827835</td>\n",
       "      <td>MOST</td>\n",
       "      <td>116.316284</td>\n",
       "      <td>NaN</td>\n",
       "    </tr>\n",
       "    <tr>\n",
       "      <th>2</th>\n",
       "      <td>grid.48336.3a</td>\n",
       "      <td>415902</td>\n",
       "      <td>Rockville</td>\n",
       "      <td>[Government]</td>\n",
       "      <td>National Cancer Institute</td>\n",
       "      <td>United States</td>\n",
       "      <td>[http://www.cancer.gov/]</td>\n",
       "      <td>39.004326</td>\n",
       "      <td>NCI</td>\n",
       "      <td>-77.101190</td>\n",
       "      <td>Maryland</td>\n",
       "    </tr>\n",
       "    <tr>\n",
       "      <th>3</th>\n",
       "      <td>grid.54432.34</td>\n",
       "      <td>371463</td>\n",
       "      <td>Tokyo</td>\n",
       "      <td>[Nonprofit]</td>\n",
       "      <td>Japan Society for the Promotion of Science</td>\n",
       "      <td>Japan</td>\n",
       "      <td>[http://www.jsps.go.jp/]</td>\n",
       "      <td>35.687160</td>\n",
       "      <td>JSPS</td>\n",
       "      <td>139.740390</td>\n",
       "      <td>NaN</td>\n",
       "    </tr>\n",
       "    <tr>\n",
       "      <th>4</th>\n",
       "      <td>grid.280785.0</td>\n",
       "      <td>326036</td>\n",
       "      <td>Bethesda</td>\n",
       "      <td>[Facility]</td>\n",
       "      <td>National Institute of General Medical Sciences</td>\n",
       "      <td>United States</td>\n",
       "      <td>[http://www.nigms.nih.gov/Pages/default.aspx]</td>\n",
       "      <td>38.997833</td>\n",
       "      <td>NIGMS</td>\n",
       "      <td>-77.099380</td>\n",
       "      <td>Maryland</td>\n",
       "    </tr>\n",
       "  </tbody>\n",
       "</table>\n",
       "</div>"
      ],
      "text/plain": [
       "              id    count  city_name         types  \\\n",
       "0  grid.419696.5  1373160    Beijing  [Government]   \n",
       "1  grid.424020.0   435916    Beijing  [Government]   \n",
       "2  grid.48336.3a   415902  Rockville  [Government]   \n",
       "3  grid.54432.34   371463      Tokyo   [Nonprofit]   \n",
       "4  grid.280785.0   326036   Bethesda    [Facility]   \n",
       "\n",
       "                                                name   country_name  \\\n",
       "0       National Natural Science Foundation of China          China   \n",
       "1  Ministry of Science and Technology of the Peop...          China   \n",
       "2                          National Cancer Institute  United States   \n",
       "3         Japan Society for the Promotion of Science          Japan   \n",
       "4     National Institute of General Medical Sciences  United States   \n",
       "\n",
       "                                         linkout   latitude acronym  \\\n",
       "0      [http://www.nsfc.gov.cn/publish/portal1/]  40.005177    NSFC   \n",
       "1                  [http://www.most.gov.cn/eng/]  39.827835    MOST   \n",
       "2                       [http://www.cancer.gov/]  39.004326     NCI   \n",
       "3                       [http://www.jsps.go.jp/]  35.687160    JSPS   \n",
       "4  [http://www.nigms.nih.gov/Pages/default.aspx]  38.997833   NIGMS   \n",
       "\n",
       "    longitude state_name  \n",
       "0  116.339830        NaN  \n",
       "1  116.316284        NaN  \n",
       "2  -77.101190   Maryland  \n",
       "3  139.740390        NaN  \n",
       "4  -77.099380   Maryland  "
      ]
     },
     "execution_count": 30,
     "metadata": {},
     "output_type": "execute_result"
    }
   ],
   "source": [
    "%%dsldf \n",
    "search publications\n",
    "where count(researchers) > 1\n",
    "and count(research_org_countries) = 1\n",
    "return funders limit 5"
   ]
  },
  {
   "cell_type": "markdown",
   "metadata": {
    "Collapsed": "false"
   },
   "source": [
    "### 3.4 Filter Operators\n",
    "\n",
    "A simple filter expression consists of a `field` name, an in-/equality\n",
    "operator `op`, and the desired field `value`. \n",
    "\n",
    "The `value` must be a\n",
    "`string` enclosed in double quotes (`\"`) or an integer (e.g. `1234`).\n",
    "\n",
    "The available operators are:\n",
    "\n",
    "| `op`           | meaning                                                                                  |\n",
    "|----------------|------------------------------------------------------------------------------------------|\n",
    "| `=`            | *is* (or *contains* if the given `field` is multi-value)                                 |\n",
    "| `!=`           | *is not*                                                                                 |\n",
    "| `>`            | *is greater than*                                                                        |\n",
    "| `<`            | *is less than*                                                                           |\n",
    "| `>=`           | *is greater than or equal to*                                                            |\n",
    "| `<=`           | *is less than or equal to*                                                               |\n",
    "| `~`            | *partially matches* (see partial-string-matching below) |\n",
    "| `is empty`     | *is empty* (see emptiness-filters below)                      |\n",
    "| `is not empty` | *is not empty* (see emptiness-filters below)                  |"
   ]
  },
  {
   "cell_type": "markdown",
   "metadata": {
    "Collapsed": "false"
   },
   "source": [
    "A couple of examples "
   ]
  },
  {
   "cell_type": "code",
   "execution_count": 31,
   "metadata": {
    "Collapsed": "false"
   },
   "outputs": [
    {
     "name": "stdout",
     "output_type": "stream",
     "text": [
      "Returned Datasets: 5 (total = 38764)\n",
      "\u001b[2mTime: 0.53s\u001b[0m\n"
     ]
    },
    {
     "data": {
      "text/html": [
       "<div>\n",
       "<style scoped>\n",
       "    .dataframe tbody tr th:only-of-type {\n",
       "        vertical-align: middle;\n",
       "    }\n",
       "\n",
       "    .dataframe tbody tr th {\n",
       "        vertical-align: top;\n",
       "    }\n",
       "\n",
       "    .dataframe thead th {\n",
       "        text-align: right;\n",
       "    }\n",
       "</style>\n",
       "<table border=\"1\" class=\"dataframe\">\n",
       "  <thead>\n",
       "    <tr style=\"text-align: right;\">\n",
       "      <th></th>\n",
       "      <th>keywords</th>\n",
       "      <th>id</th>\n",
       "      <th>authors</th>\n",
       "      <th>year</th>\n",
       "      <th>title</th>\n",
       "    </tr>\n",
       "  </thead>\n",
       "  <tbody>\n",
       "    <tr>\n",
       "      <th>0</th>\n",
       "      <td>[human populations, single nucleotide polymorp...</td>\n",
       "      <td>105</td>\n",
       "      <td>[{'name': 'Blaise Li', 'orcid': '0000-0003-308...</td>\n",
       "      <td>2011</td>\n",
       "      <td>India Africa Asia HGDP HapMap frappe K3</td>\n",
       "    </tr>\n",
       "    <tr>\n",
       "      <th>1</th>\n",
       "      <td>[human populations, single nucleotide polymorp...</td>\n",
       "      <td>106</td>\n",
       "      <td>[{'name': 'Blaise Li', 'orcid': '0000-0003-308...</td>\n",
       "      <td>2011</td>\n",
       "      <td>India Africa Asia HGDP HapMap frappe K4</td>\n",
       "    </tr>\n",
       "    <tr>\n",
       "      <th>2</th>\n",
       "      <td>[human populations, single nucleotide polymorp...</td>\n",
       "      <td>107</td>\n",
       "      <td>[{'name': 'Blaise Li', 'orcid': '0000-0003-308...</td>\n",
       "      <td>2011</td>\n",
       "      <td>India Africa Asia HGDP HapMap frappe K5</td>\n",
       "    </tr>\n",
       "    <tr>\n",
       "      <th>3</th>\n",
       "      <td>[human populations, single nucleotide polymorp...</td>\n",
       "      <td>108</td>\n",
       "      <td>[{'name': 'Blaise Li', 'orcid': '0000-0003-308...</td>\n",
       "      <td>2011</td>\n",
       "      <td>India Africa Asia HGDP HapMap frappe K6</td>\n",
       "    </tr>\n",
       "    <tr>\n",
       "      <th>4</th>\n",
       "      <td>[human populations, single nucleotide polymorp...</td>\n",
       "      <td>109</td>\n",
       "      <td>[{'name': 'Blaise Li', 'orcid': '0000-0003-308...</td>\n",
       "      <td>2011</td>\n",
       "      <td>India Africa Asia HGDP HapMap frappe K7</td>\n",
       "    </tr>\n",
       "  </tbody>\n",
       "</table>\n",
       "</div>"
      ],
      "text/plain": [
       "                                            keywords   id  \\\n",
       "0  [human populations, single nucleotide polymorp...  105   \n",
       "1  [human populations, single nucleotide polymorp...  106   \n",
       "2  [human populations, single nucleotide polymorp...  107   \n",
       "3  [human populations, single nucleotide polymorp...  108   \n",
       "4  [human populations, single nucleotide polymorp...  109   \n",
       "\n",
       "                                             authors  year  \\\n",
       "0  [{'name': 'Blaise Li', 'orcid': '0000-0003-308...  2011   \n",
       "1  [{'name': 'Blaise Li', 'orcid': '0000-0003-308...  2011   \n",
       "2  [{'name': 'Blaise Li', 'orcid': '0000-0003-308...  2011   \n",
       "3  [{'name': 'Blaise Li', 'orcid': '0000-0003-308...  2011   \n",
       "4  [{'name': 'Blaise Li', 'orcid': '0000-0003-308...  2011   \n",
       "\n",
       "                                     title  \n",
       "0  India Africa Asia HGDP HapMap frappe K3  \n",
       "1  India Africa Asia HGDP HapMap frappe K4  \n",
       "2  India Africa Asia HGDP HapMap frappe K5  \n",
       "3  India Africa Asia HGDP HapMap frappe K6  \n",
       "4  India Africa Asia HGDP HapMap frappe K7  "
      ]
     },
     "execution_count": 31,
     "metadata": {},
     "output_type": "execute_result"
    }
   ],
   "source": [
    "%dsldf search datasets where year > 2010 and year < 2012 return datasets limit 5"
   ]
  },
  {
   "cell_type": "code",
   "execution_count": 32,
   "metadata": {
    "Collapsed": "false"
   },
   "outputs": [
    {
     "name": "stdout",
     "output_type": "stream",
     "text": [
      "Returned Patents: 5 (total = 40195054)\n",
      "\u001b[2mTime: 0.66s\u001b[0m\n"
     ]
    },
    {
     "data": {
      "text/html": [
       "<div>\n",
       "<style scoped>\n",
       "    .dataframe tbody tr th:only-of-type {\n",
       "        vertical-align: middle;\n",
       "    }\n",
       "\n",
       "    .dataframe tbody tr th {\n",
       "        vertical-align: top;\n",
       "    }\n",
       "\n",
       "    .dataframe thead th {\n",
       "        text-align: right;\n",
       "    }\n",
       "</style>\n",
       "<table border=\"1\" class=\"dataframe\">\n",
       "  <thead>\n",
       "    <tr style=\"text-align: right;\">\n",
       "      <th></th>\n",
       "      <th>id</th>\n",
       "      <th>times_cited</th>\n",
       "      <th>title</th>\n",
       "      <th>assignees</th>\n",
       "      <th>granted_year</th>\n",
       "      <th>assignee_names</th>\n",
       "      <th>year</th>\n",
       "      <th>publication_date</th>\n",
       "      <th>inventor_names</th>\n",
       "      <th>filing_status</th>\n",
       "    </tr>\n",
       "  </thead>\n",
       "  <tbody>\n",
       "    <tr>\n",
       "      <th>0</th>\n",
       "      <td>EP-1409282-B1</td>\n",
       "      <td>0</td>\n",
       "      <td>METHODS FOR OPERATING A MOTOR VEHICLE DRIVEN B...</td>\n",
       "      <td>[{'id': 'grid.6584.f', 'name': 'Robert Bosch (...</td>\n",
       "      <td>2009</td>\n",
       "      <td>[Robert Bosch GmbH, BOSCH GMBH ROBERT]</td>\n",
       "      <td>2001</td>\n",
       "      <td>2009-12-09</td>\n",
       "      <td>[TUMBACK, STEFAN, SCHNELLE, KLAUS-PETER]</td>\n",
       "      <td>Grant</td>\n",
       "    </tr>\n",
       "    <tr>\n",
       "      <th>1</th>\n",
       "      <td>EP-0868664-B1</td>\n",
       "      <td>0</td>\n",
       "      <td>MULTI-CYCLE LOOP INJECTION FOR TRACE ANALYSIS ...</td>\n",
       "      <td>[{'id': 'grid.418190.5', 'name': 'Thermo Fishe...</td>\n",
       "      <td>2009</td>\n",
       "      <td>[Dionex Corp, DIONEX CORP]</td>\n",
       "      <td>1996</td>\n",
       "      <td>2009-12-09</td>\n",
       "      <td>[RIVIELLO, JOHN, M., REY, MARIA, A.]</td>\n",
       "      <td>Grant</td>\n",
       "    </tr>\n",
       "    <tr>\n",
       "      <th>2</th>\n",
       "      <td>EP-0861808-B1</td>\n",
       "      <td>1</td>\n",
       "      <td>Waste water treatment apparatus</td>\n",
       "      <td>[{'id': 'grid.471210.1', 'name': 'Kuraray (Jap...</td>\n",
       "      <td>2009</td>\n",
       "      <td>[Kuraray Co Ltd, KURARAY CO]</td>\n",
       "      <td>1998</td>\n",
       "      <td>2009-12-09</td>\n",
       "      <td>[TANAKA, EIJI, HIGASHI, TAMIO, KITAMURA, TAKAN...</td>\n",
       "      <td>Grant</td>\n",
       "    </tr>\n",
       "    <tr>\n",
       "      <th>3</th>\n",
       "      <td>EP-0805365-B1</td>\n",
       "      <td>0</td>\n",
       "      <td>Optical waveguide grating and production metho...</td>\n",
       "      <td>[{'id': 'grid.471143.4', 'name': 'Fujikura (Ja...</td>\n",
       "      <td>2009</td>\n",
       "      <td>[Fujikura Ltd, FUJIKURA LTD]</td>\n",
       "      <td>1997</td>\n",
       "      <td>2009-12-09</td>\n",
       "      <td>[NAKAI, MICHIHIRO, SHIMA, KENSUKE, HIDAKA, HIR...</td>\n",
       "      <td>Grant</td>\n",
       "    </tr>\n",
       "    <tr>\n",
       "      <th>4</th>\n",
       "      <td>EP-1970973-B1</td>\n",
       "      <td>0</td>\n",
       "      <td>Method for thermal matching of a thermoelectri...</td>\n",
       "      <td>[{'id': 'grid.426571.3', 'name': 'Imec the Net...</td>\n",
       "      <td>2009</td>\n",
       "      <td>[INTERUNIVERSITAIR MICROELEKTRONICA CENTRUM NE...</td>\n",
       "      <td>2007</td>\n",
       "      <td>2009-12-09</td>\n",
       "      <td>[LEONOV, VLADIMIR]</td>\n",
       "      <td>Grant</td>\n",
       "    </tr>\n",
       "  </tbody>\n",
       "</table>\n",
       "</div>"
      ],
      "text/plain": [
       "              id  times_cited  \\\n",
       "0  EP-1409282-B1            0   \n",
       "1  EP-0868664-B1            0   \n",
       "2  EP-0861808-B1            1   \n",
       "3  EP-0805365-B1            0   \n",
       "4  EP-1970973-B1            0   \n",
       "\n",
       "                                               title  \\\n",
       "0  METHODS FOR OPERATING A MOTOR VEHICLE DRIVEN B...   \n",
       "1  MULTI-CYCLE LOOP INJECTION FOR TRACE ANALYSIS ...   \n",
       "2                    Waste water treatment apparatus   \n",
       "3  Optical waveguide grating and production metho...   \n",
       "4  Method for thermal matching of a thermoelectri...   \n",
       "\n",
       "                                           assignees  granted_year  \\\n",
       "0  [{'id': 'grid.6584.f', 'name': 'Robert Bosch (...          2009   \n",
       "1  [{'id': 'grid.418190.5', 'name': 'Thermo Fishe...          2009   \n",
       "2  [{'id': 'grid.471210.1', 'name': 'Kuraray (Jap...          2009   \n",
       "3  [{'id': 'grid.471143.4', 'name': 'Fujikura (Ja...          2009   \n",
       "4  [{'id': 'grid.426571.3', 'name': 'Imec the Net...          2009   \n",
       "\n",
       "                                      assignee_names  year publication_date  \\\n",
       "0             [Robert Bosch GmbH, BOSCH GMBH ROBERT]  2001       2009-12-09   \n",
       "1                         [Dionex Corp, DIONEX CORP]  1996       2009-12-09   \n",
       "2                       [Kuraray Co Ltd, KURARAY CO]  1998       2009-12-09   \n",
       "3                       [Fujikura Ltd, FUJIKURA LTD]  1997       2009-12-09   \n",
       "4  [INTERUNIVERSITAIR MICROELEKTRONICA CENTRUM NE...  2007       2009-12-09   \n",
       "\n",
       "                                      inventor_names filing_status  \n",
       "0           [TUMBACK, STEFAN, SCHNELLE, KLAUS-PETER]         Grant  \n",
       "1               [RIVIELLO, JOHN, M., REY, MARIA, A.]         Grant  \n",
       "2  [TANAKA, EIJI, HIGASHI, TAMIO, KITAMURA, TAKAN...         Grant  \n",
       "3  [NAKAI, MICHIHIRO, SHIMA, KENSUKE, HIDAKA, HIR...         Grant  \n",
       "4                                 [LEONOV, VLADIMIR]         Grant  "
      ]
     },
     "execution_count": 32,
     "metadata": {},
     "output_type": "execute_result"
    }
   ],
   "source": [
    "%dsldf search patents where assignees != \"grid.410484.d\" return patents limit 5"
   ]
  },
  {
   "cell_type": "markdown",
   "metadata": {
    "Collapsed": "false"
   },
   "source": [
    "### 3.5 Partial string matching with `~`\n",
    "\n",
    "The `~` operator indicates that the given `field` need only partially,\n",
    "instead of exactly, match the given `string` (the `value` used with this\n",
    "operator must be a `string`, not an integer).\n",
    "\n",
    "For example, the filter `where research_orgs.name~\"Saarland Uni\"` would\n",
    "match both the organization named \"Saarland University\" and the one\n",
    "named \"Universitätsklinikum des Saarlandes\", and any other organization\n",
    "whose name includes the terms \"Saarland\" and \"Uni\" (the order is\n",
    "unimportant). "
   ]
  },
  {
   "cell_type": "code",
   "execution_count": 33,
   "metadata": {
    "Collapsed": "false"
   },
   "outputs": [
    {
     "name": "stdout",
     "output_type": "stream",
     "text": [
      "Returned Assignees: 5\n",
      "\u001b[2mTime: 2.04s\u001b[0m\n"
     ]
    },
    {
     "data": {
      "text/html": [
       "<div>\n",
       "<style scoped>\n",
       "    .dataframe tbody tr th:only-of-type {\n",
       "        vertical-align: middle;\n",
       "    }\n",
       "\n",
       "    .dataframe tbody tr th {\n",
       "        vertical-align: top;\n",
       "    }\n",
       "\n",
       "    .dataframe thead th {\n",
       "        text-align: right;\n",
       "    }\n",
       "</style>\n",
       "<table border=\"1\" class=\"dataframe\">\n",
       "  <thead>\n",
       "    <tr style=\"text-align: right;\">\n",
       "      <th></th>\n",
       "      <th>id</th>\n",
       "      <th>count</th>\n",
       "      <th>name</th>\n",
       "      <th>city_name</th>\n",
       "      <th>country_name</th>\n",
       "    </tr>\n",
       "  </thead>\n",
       "  <tbody>\n",
       "    <tr>\n",
       "      <th>0</th>\n",
       "      <td>grid.410484.d</td>\n",
       "      <td>336471</td>\n",
       "      <td>IBM (United States)</td>\n",
       "      <td>Armonk</td>\n",
       "      <td>United States</td>\n",
       "    </tr>\n",
       "    <tr>\n",
       "      <th>1</th>\n",
       "      <td>grid.471366.1</td>\n",
       "      <td>22104</td>\n",
       "      <td>GlobalFoundries (Cayman Islands)</td>\n",
       "      <td>George Town</td>\n",
       "      <td>Cayman Islands</td>\n",
       "    </tr>\n",
       "    <tr>\n",
       "      <th>2</th>\n",
       "      <td>grid.14648.3f</td>\n",
       "      <td>5139</td>\n",
       "      <td>IBM (United Kingdom)</td>\n",
       "      <td>Winchester</td>\n",
       "      <td>United Kingdom</td>\n",
       "    </tr>\n",
       "    <tr>\n",
       "      <th>3</th>\n",
       "      <td>grid.420451.6</td>\n",
       "      <td>3555</td>\n",
       "      <td>Google</td>\n",
       "      <td>Mountain View</td>\n",
       "      <td>United States</td>\n",
       "    </tr>\n",
       "    <tr>\n",
       "      <th>4</th>\n",
       "      <td>grid.472772.3</td>\n",
       "      <td>2716</td>\n",
       "      <td>Lenovo (China)</td>\n",
       "      <td>Beijing</td>\n",
       "      <td>China</td>\n",
       "    </tr>\n",
       "  </tbody>\n",
       "</table>\n",
       "</div>"
      ],
      "text/plain": [
       "              id   count                              name      city_name  \\\n",
       "0  grid.410484.d  336471               IBM (United States)         Armonk   \n",
       "1  grid.471366.1   22104  GlobalFoundries (Cayman Islands)    George Town   \n",
       "2  grid.14648.3f    5139              IBM (United Kingdom)     Winchester   \n",
       "3  grid.420451.6    3555                            Google  Mountain View   \n",
       "4  grid.472772.3    2716                    Lenovo (China)        Beijing   \n",
       "\n",
       "     country_name  \n",
       "0   United States  \n",
       "1  Cayman Islands  \n",
       "2  United Kingdom  \n",
       "3   United States  \n",
       "4           China  "
      ]
     },
     "execution_count": 33,
     "metadata": {},
     "output_type": "execute_result"
    }
   ],
   "source": [
    "%%dsldf \n",
    "search patents \n",
    "    where assignee_names ~ \"IBM\" \n",
    "return assignees limit 5"
   ]
  },
  {
   "cell_type": "markdown",
   "metadata": {
    "Collapsed": "false"
   },
   "source": [
    "### 3.6 Emptiness filters `is empty`\n",
    "\n",
    "To filter records which contain specific field or to filter those which\n",
    "contain an empty field, it is possible to use something like\n",
    "`where research_orgs is not empty` or `where issn is empty`."
   ]
  },
  {
   "cell_type": "code",
   "execution_count": 34,
   "metadata": {
    "Collapsed": "false"
   },
   "outputs": [
    {
     "name": "stdout",
     "output_type": "stream",
     "text": [
      "Returned Publications: 5 (total = 1883)\n",
      "\u001b[2mTime: 1.71s\u001b[0m\n"
     ]
    },
    {
     "data": {
      "text/html": [
       "<div>\n",
       "<style scoped>\n",
       "    .dataframe tbody tr th:only-of-type {\n",
       "        vertical-align: middle;\n",
       "    }\n",
       "\n",
       "    .dataframe tbody tr th {\n",
       "        vertical-align: top;\n",
       "    }\n",
       "\n",
       "    .dataframe thead th {\n",
       "        text-align: right;\n",
       "    }\n",
       "</style>\n",
       "<table border=\"1\" class=\"dataframe\">\n",
       "  <thead>\n",
       "    <tr style=\"text-align: right;\">\n",
       "      <th></th>\n",
       "      <th>id</th>\n",
       "      <th>research_orgs</th>\n",
       "      <th>type</th>\n",
       "      <th>title</th>\n",
       "    </tr>\n",
       "  </thead>\n",
       "  <tbody>\n",
       "    <tr>\n",
       "      <th>0</th>\n",
       "      <td>pub.1129668998</td>\n",
       "      <td>[{'id': 'grid.440673.2', 'name': 'Changzhou Un...</td>\n",
       "      <td>article</td>\n",
       "      <td>Removal of Toxic Heavy Metal Ions (Pb, Cr, Cu,...</td>\n",
       "    </tr>\n",
       "    <tr>\n",
       "      <th>1</th>\n",
       "      <td>pub.1129771684</td>\n",
       "      <td>[{'id': 'grid.412246.7', 'name': 'Northeast Fo...</td>\n",
       "      <td>article</td>\n",
       "      <td>Nanofluid-based pulsating heat pipe for therma...</td>\n",
       "    </tr>\n",
       "    <tr>\n",
       "      <th>2</th>\n",
       "      <td>pub.1129041696</td>\n",
       "      <td>[{'id': 'grid.79703.3a', 'name': 'South China ...</td>\n",
       "      <td>article</td>\n",
       "      <td>Fabrication of the novel Ag-doped SnS2@InVO4 c...</td>\n",
       "    </tr>\n",
       "    <tr>\n",
       "      <th>3</th>\n",
       "      <td>pub.1130477930</td>\n",
       "      <td>[{'id': 'grid.452276.0', 'name': 'Institute of...</td>\n",
       "      <td>article</td>\n",
       "      <td>Atomically-precise dopant-controlled single cl...</td>\n",
       "    </tr>\n",
       "    <tr>\n",
       "      <th>4</th>\n",
       "      <td>pub.1130537929</td>\n",
       "      <td>[{'id': 'grid.79703.3a', 'name': 'South China ...</td>\n",
       "      <td>article</td>\n",
       "      <td>Crafting visible-light-absorbing dye-doped pha...</td>\n",
       "    </tr>\n",
       "  </tbody>\n",
       "</table>\n",
       "</div>"
      ],
      "text/plain": [
       "               id                                      research_orgs     type  \\\n",
       "0  pub.1129668998  [{'id': 'grid.440673.2', 'name': 'Changzhou Un...  article   \n",
       "1  pub.1129771684  [{'id': 'grid.412246.7', 'name': 'Northeast Fo...  article   \n",
       "2  pub.1129041696  [{'id': 'grid.79703.3a', 'name': 'South China ...  article   \n",
       "3  pub.1130477930  [{'id': 'grid.452276.0', 'name': 'Institute of...  article   \n",
       "4  pub.1130537929  [{'id': 'grid.79703.3a', 'name': 'South China ...  article   \n",
       "\n",
       "                                               title  \n",
       "0  Removal of Toxic Heavy Metal Ions (Pb, Cr, Cu,...  \n",
       "1  Nanofluid-based pulsating heat pipe for therma...  \n",
       "2  Fabrication of the novel Ag-doped SnS2@InVO4 c...  \n",
       "3  Atomically-precise dopant-controlled single cl...  \n",
       "4  Crafting visible-light-absorbing dye-doped pha...  "
      ]
     },
     "execution_count": 34,
     "metadata": {},
     "output_type": "execute_result"
    }
   ],
   "source": [
    "%%dsldf\n",
    "search publications \n",
    "    for \"iron graphene\" \n",
    "    where researchers is empty \n",
    "    and research_orgs is not empty \n",
    "return publications[id+title+researchers+research_orgs+type] limit 5"
   ]
  },
  {
   "cell_type": "markdown",
   "metadata": {
    "Collapsed": "false"
   },
   "source": [
    "## 4. Searching for Researchers\n",
    "\n",
    "The DSL offers different mechanisms for searching for researchers (e.g.\n",
    "publication authors, grant investigators), each of them presenting\n",
    "specific advantages."
   ]
  },
  {
   "cell_type": "markdown",
   "metadata": {
    "Collapsed": "false"
   },
   "source": [
    "### 4.1 Exact name searches\n",
    "\n",
    "Special full-text indices allows to look up a researcher's name and\n",
    "surname **exactly as they appear in the source documents** they derive from.\n",
    "\n",
    "This approach has a broad scope, as it allows to search the full\n",
    "collection of Dimensions documents irrespectively of whether a\n",
    "researcher was succesfully disambiguated (and hence given a Dimensions\n",
    "ID). On the other hand, this approach will only match names as they\n",
    "appear in the source document, so different spellings or initials are\n",
    "not necessarily returned via a single query. \n",
    "\n",
    "```\n",
    "search in [authors|investigators|inventors]\n",
    "```\n",
    "\n",
    "It is possible to look up publications authors using a specific\n",
    "`search index` called `authors`. \n",
    "\n",
    "This method expects case insensitive\n",
    "phrases, in format $\"<first name> <last name>\"$ or reverse order. Note\n",
    "that strings in double quotes that contain nested quotes must always be\n",
    "escaped by a backslash `\\`."
   ]
  },
  {
   "cell_type": "code",
   "execution_count": 35,
   "metadata": {
    "Collapsed": "false"
   },
   "outputs": [
    {
     "name": "stdout",
     "output_type": "stream",
     "text": [
      "Returned Publications: 5 (total = 144)\n",
      "\u001b[2mTime: 0.62s\u001b[0m\n"
     ]
    },
    {
     "data": {
      "text/html": [
       "<div>\n",
       "<style scoped>\n",
       "    .dataframe tbody tr th:only-of-type {\n",
       "        vertical-align: middle;\n",
       "    }\n",
       "\n",
       "    .dataframe tbody tr th {\n",
       "        vertical-align: top;\n",
       "    }\n",
       "\n",
       "    .dataframe thead th {\n",
       "        text-align: right;\n",
       "    }\n",
       "</style>\n",
       "<table border=\"1\" class=\"dataframe\">\n",
       "  <thead>\n",
       "    <tr style=\"text-align: right;\">\n",
       "      <th></th>\n",
       "      <th>title</th>\n",
       "      <th>pages</th>\n",
       "      <th>author_affiliations</th>\n",
       "      <th>year</th>\n",
       "      <th>id</th>\n",
       "      <th>type</th>\n",
       "    </tr>\n",
       "  </thead>\n",
       "  <tbody>\n",
       "    <tr>\n",
       "      <th>0</th>\n",
       "      <td>5. On Logical Graphs</td>\n",
       "      <td>211-261</td>\n",
       "      <td>[[{'first_name': 'Charles S.', 'last_name': 'P...</td>\n",
       "      <td>2019</td>\n",
       "      <td>pub.1123488521</td>\n",
       "      <td>chapter</td>\n",
       "    </tr>\n",
       "    <tr>\n",
       "      <th>1</th>\n",
       "      <td>12. Peripatetic Talks</td>\n",
       "      <td>348-366</td>\n",
       "      <td>[[{'first_name': 'Charles S.', 'last_name': 'P...</td>\n",
       "      <td>2019</td>\n",
       "      <td>pub.1123488528</td>\n",
       "      <td>chapter</td>\n",
       "    </tr>\n",
       "    <tr>\n",
       "      <th>2</th>\n",
       "      <td>Bibliography of Peirce’s References</td>\n",
       "      <td>642-651</td>\n",
       "      <td>[[{'first_name': 'Charles S.', 'last_name': 'P...</td>\n",
       "      <td>2019</td>\n",
       "      <td>pub.1123488545</td>\n",
       "      <td>chapter</td>\n",
       "    </tr>\n",
       "    <tr>\n",
       "      <th>3</th>\n",
       "      <td>14. On the First Principles of Logical Algebra</td>\n",
       "      <td>385-398</td>\n",
       "      <td>[[{'first_name': 'Charles S.', 'last_name': 'P...</td>\n",
       "      <td>2019</td>\n",
       "      <td>pub.1123488530</td>\n",
       "      <td>chapter</td>\n",
       "    </tr>\n",
       "    <tr>\n",
       "      <th>4</th>\n",
       "      <td>26. Assurance through Reasoning</td>\n",
       "      <td>565-585</td>\n",
       "      <td>[[{'first_name': 'Charles S.', 'last_name': 'P...</td>\n",
       "      <td>2019</td>\n",
       "      <td>pub.1123488542</td>\n",
       "      <td>chapter</td>\n",
       "    </tr>\n",
       "  </tbody>\n",
       "</table>\n",
       "</div>"
      ],
      "text/plain": [
       "                                            title    pages  \\\n",
       "0                            5. On Logical Graphs  211-261   \n",
       "1                           12. Peripatetic Talks  348-366   \n",
       "2             Bibliography of Peirce’s References  642-651   \n",
       "3  14. On the First Principles of Logical Algebra  385-398   \n",
       "4                 26. Assurance through Reasoning  565-585   \n",
       "\n",
       "                                 author_affiliations  year              id  \\\n",
       "0  [[{'first_name': 'Charles S.', 'last_name': 'P...  2019  pub.1123488521   \n",
       "1  [[{'first_name': 'Charles S.', 'last_name': 'P...  2019  pub.1123488528   \n",
       "2  [[{'first_name': 'Charles S.', 'last_name': 'P...  2019  pub.1123488545   \n",
       "3  [[{'first_name': 'Charles S.', 'last_name': 'P...  2019  pub.1123488530   \n",
       "4  [[{'first_name': 'Charles S.', 'last_name': 'P...  2019  pub.1123488542   \n",
       "\n",
       "      type  \n",
       "0  chapter  \n",
       "1  chapter  \n",
       "2  chapter  \n",
       "3  chapter  \n",
       "4  chapter  "
      ]
     },
     "execution_count": 35,
     "metadata": {},
     "output_type": "execute_result"
    }
   ],
   "source": [
    "%dsldf search publications in authors for \"\\\"Charles Peirce\\\"\" return publications limit 5"
   ]
  },
  {
   "cell_type": "markdown",
   "metadata": {
    "Collapsed": "false"
   },
   "source": [
    "Instead of first name, initials can also be used. These are examples of\n",
    "valid research search phrases:\n",
    "\n",
    "-   `\\\"Peirce, Charles S.\\\"`\n",
    "-   `\\\"Charles S. Peirce\\\"`\n",
    "-   `\\\"CS Peirce\\\"`\n",
    "-   `\\\"Peirce CS\\\"`\n",
    "-   `\\\"C S Peirce\\\"`\n",
    "-   `\\\"Peirce C S\\\"`\n",
    "-   `\\\"C Peirce\\\"`\n",
    "-   `\\\"Peirce C\\\"`\n",
    "-   `\\\"Charles Peirce\\\"`\n",
    "-   `\\\"Peirce Charles\\\"`\n",
    "\n",
    "**Warning**: In order to produce valid results an author or an investigator search\n",
    "query must contain **at least two components or more** (e.g., name and\n",
    "surname, either in full or initials).\n",
    "\n",
    "Investigators search is similar to *authors* search, only it allows to search on `grants` and\n",
    "`clinical trials` using a separate search index `investigators`, and on\n",
    "`patents` using the index `inventors`."
   ]
  },
  {
   "cell_type": "code",
   "execution_count": 36,
   "metadata": {
    "Collapsed": "false"
   },
   "outputs": [
    {
     "name": "stdout",
     "output_type": "stream",
     "text": [
      "Returned Clinical_trials: 3 (total = 3)\n",
      "\u001b[2mTime: 0.72s\u001b[0m\n"
     ]
    },
    {
     "data": {
      "text/html": [
       "<div>\n",
       "<style scoped>\n",
       "    .dataframe tbody tr th:only-of-type {\n",
       "        vertical-align: middle;\n",
       "    }\n",
       "\n",
       "    .dataframe tbody tr th {\n",
       "        vertical-align: top;\n",
       "    }\n",
       "\n",
       "    .dataframe thead th {\n",
       "        text-align: right;\n",
       "    }\n",
       "</style>\n",
       "<table border=\"1\" class=\"dataframe\">\n",
       "  <thead>\n",
       "    <tr style=\"text-align: right;\">\n",
       "      <th></th>\n",
       "      <th>id</th>\n",
       "      <th>active_years</th>\n",
       "      <th>title</th>\n",
       "      <th>investigator_details</th>\n",
       "    </tr>\n",
       "  </thead>\n",
       "  <tbody>\n",
       "    <tr>\n",
       "      <th>0</th>\n",
       "      <td>NCT00689533</td>\n",
       "      <td>[2008, 2009, 2010, 2011, 2012, 2013, 2014, 201...</td>\n",
       "      <td>VEPTR Implantation to Treat Children With Earl...</td>\n",
       "      <td>[[John M Flynn, MD, Principal Investigator, Ch...</td>\n",
       "    </tr>\n",
       "    <tr>\n",
       "      <th>1</th>\n",
       "      <td>NCT01241149</td>\n",
       "      <td>NaN</td>\n",
       "      <td>Prospective Evaluation of Symptom Resolution i...</td>\n",
       "      <td>[[Ellie Mentler, MD, Principal Investigator, U...</td>\n",
       "    </tr>\n",
       "    <tr>\n",
       "      <th>2</th>\n",
       "      <td>NCT04072380</td>\n",
       "      <td>[2019, 2020]</td>\n",
       "      <td>A Phase 2, Double-blind, Placebo-controlled, P...</td>\n",
       "      <td>[[Rohith G. Patel, MD, Principal Investigator,...</td>\n",
       "    </tr>\n",
       "  </tbody>\n",
       "</table>\n",
       "</div>"
      ],
      "text/plain": [
       "            id                                       active_years  \\\n",
       "0  NCT00689533  [2008, 2009, 2010, 2011, 2012, 2013, 2014, 201...   \n",
       "1  NCT01241149                                                NaN   \n",
       "2  NCT04072380                                       [2019, 2020]   \n",
       "\n",
       "                                               title  \\\n",
       "0  VEPTR Implantation to Treat Children With Earl...   \n",
       "1  Prospective Evaluation of Symptom Resolution i...   \n",
       "2  A Phase 2, Double-blind, Placebo-controlled, P...   \n",
       "\n",
       "                                investigator_details  \n",
       "0  [[John M Flynn, MD, Principal Investigator, Ch...  \n",
       "1  [[Ellie Mentler, MD, Principal Investigator, U...  \n",
       "2  [[Rohith G. Patel, MD, Principal Investigator,...  "
      ]
     },
     "execution_count": 36,
     "metadata": {},
     "output_type": "execute_result"
    }
   ],
   "source": [
    "%%dsldf \n",
    "search clinical_trials in investigators for \"\\\"John Smith\\\"\" \n",
    "return clinical_trials limit 5"
   ]
  },
  {
   "cell_type": "code",
   "execution_count": 37,
   "metadata": {
    "Collapsed": "false"
   },
   "outputs": [
    {
     "name": "stdout",
     "output_type": "stream",
     "text": [
      "Returned Grants: 4 (total = 4)\n",
      "\u001b[2mTime: 0.54s\u001b[0m\n"
     ]
    },
    {
     "data": {
      "text/html": [
       "<div>\n",
       "<style scoped>\n",
       "    .dataframe tbody tr th:only-of-type {\n",
       "        vertical-align: middle;\n",
       "    }\n",
       "\n",
       "    .dataframe tbody tr th {\n",
       "        vertical-align: top;\n",
       "    }\n",
       "\n",
       "    .dataframe thead th {\n",
       "        text-align: right;\n",
       "    }\n",
       "</style>\n",
       "<table border=\"1\" class=\"dataframe\">\n",
       "  <thead>\n",
       "    <tr style=\"text-align: right;\">\n",
       "      <th></th>\n",
       "      <th>funders</th>\n",
       "      <th>title</th>\n",
       "      <th>end_date</th>\n",
       "      <th>start_year</th>\n",
       "      <th>title_language</th>\n",
       "      <th>original_title</th>\n",
       "      <th>project_num</th>\n",
       "      <th>funding_org_name</th>\n",
       "      <th>language</th>\n",
       "      <th>start_date</th>\n",
       "      <th>id</th>\n",
       "      <th>active_year</th>\n",
       "    </tr>\n",
       "  </thead>\n",
       "  <tbody>\n",
       "    <tr>\n",
       "      <th>0</th>\n",
       "      <td>[{'id': 'grid.422239.c', 'state_name': 'Distri...</td>\n",
       "      <td>Kabuki Actors, Print Technology, and the Theat...</td>\n",
       "      <td>2022-08-31</td>\n",
       "      <td>2021</td>\n",
       "      <td>en</td>\n",
       "      <td>Kabuki Actors, Print Technology, and the Theat...</td>\n",
       "      <td>FEL-263245-19</td>\n",
       "      <td>National Endowment for the Humanities</td>\n",
       "      <td>en</td>\n",
       "      <td>2021-09-01</td>\n",
       "      <td>grant.7925589</td>\n",
       "      <td>[2021, 2022]</td>\n",
       "    </tr>\n",
       "    <tr>\n",
       "      <th>1</th>\n",
       "      <td>[{'id': 'grid.54432.34', 'city_name': 'Tokyo',...</td>\n",
       "      <td>Genealogy research on female saints in the Pal...</td>\n",
       "      <td>2021-03-31</td>\n",
       "      <td>2018</td>\n",
       "      <td>ja</td>\n",
       "      <td>古・中英語期における女性聖人伝の系譜研究：Aelfricのテクストと言語を中心に</td>\n",
       "      <td>18K00431</td>\n",
       "      <td>Japan Society for the Promotion of Science</td>\n",
       "      <td>ja</td>\n",
       "      <td>2018-04-01</td>\n",
       "      <td>grant.7527261</td>\n",
       "      <td>[2018, 2019, 2020, 2021]</td>\n",
       "    </tr>\n",
       "    <tr>\n",
       "      <th>2</th>\n",
       "      <td>[{'id': 'grid.54432.34', 'city_name': 'Tokyo',...</td>\n",
       "      <td>Images of Women in the Old English Lives of Sa...</td>\n",
       "      <td>2018-03-31</td>\n",
       "      <td>2015</td>\n",
       "      <td>en</td>\n",
       "      <td>Images of Women in the Old English Lives of Sa...</td>\n",
       "      <td>15K02313</td>\n",
       "      <td>Japan Society for the Promotion of Science</td>\n",
       "      <td>en</td>\n",
       "      <td>2015-04-01</td>\n",
       "      <td>grant.5858713</td>\n",
       "      <td>[2015, 2016, 2017, 2018]</td>\n",
       "    </tr>\n",
       "    <tr>\n",
       "      <th>3</th>\n",
       "      <td>[{'id': 'grid.54432.34', 'city_name': 'Tokyo',...</td>\n",
       "      <td>Reception and Transfromation of the Images of ...</td>\n",
       "      <td>2015-03-31</td>\n",
       "      <td>2012</td>\n",
       "      <td>en</td>\n",
       "      <td>Reception and Transfromation of the Images of ...</td>\n",
       "      <td>24520310</td>\n",
       "      <td>Japan Society for the Promotion of Science</td>\n",
       "      <td>en</td>\n",
       "      <td>2012-04-01</td>\n",
       "      <td>grant.6086985</td>\n",
       "      <td>[2012, 2013, 2014, 2015]</td>\n",
       "    </tr>\n",
       "  </tbody>\n",
       "</table>\n",
       "</div>"
      ],
      "text/plain": [
       "                                             funders  \\\n",
       "0  [{'id': 'grid.422239.c', 'state_name': 'Distri...   \n",
       "1  [{'id': 'grid.54432.34', 'city_name': 'Tokyo',...   \n",
       "2  [{'id': 'grid.54432.34', 'city_name': 'Tokyo',...   \n",
       "3  [{'id': 'grid.54432.34', 'city_name': 'Tokyo',...   \n",
       "\n",
       "                                               title    end_date  start_year  \\\n",
       "0  Kabuki Actors, Print Technology, and the Theat...  2022-08-31        2021   \n",
       "1  Genealogy research on female saints in the Pal...  2021-03-31        2018   \n",
       "2  Images of Women in the Old English Lives of Sa...  2018-03-31        2015   \n",
       "3  Reception and Transfromation of the Images of ...  2015-03-31        2012   \n",
       "\n",
       "  title_language                                     original_title  \\\n",
       "0             en  Kabuki Actors, Print Technology, and the Theat...   \n",
       "1             ja           古・中英語期における女性聖人伝の系譜研究：Aelfricのテクストと言語を中心に   \n",
       "2             en  Images of Women in the Old English Lives of Sa...   \n",
       "3             en  Reception and Transfromation of the Images of ...   \n",
       "\n",
       "     project_num                            funding_org_name language  \\\n",
       "0  FEL-263245-19       National Endowment for the Humanities       en   \n",
       "1       18K00431  Japan Society for the Promotion of Science       ja   \n",
       "2       15K02313  Japan Society for the Promotion of Science       en   \n",
       "3       24520310  Japan Society for the Promotion of Science       en   \n",
       "\n",
       "   start_date             id               active_year  \n",
       "0  2021-09-01  grant.7925589              [2021, 2022]  \n",
       "1  2018-04-01  grant.7527261  [2018, 2019, 2020, 2021]  \n",
       "2  2015-04-01  grant.5858713  [2015, 2016, 2017, 2018]  \n",
       "3  2012-04-01  grant.6086985  [2012, 2013, 2014, 2015]  "
      ]
     },
     "execution_count": 37,
     "metadata": {},
     "output_type": "execute_result"
    }
   ],
   "source": [
    "%%dsldf \n",
    "search grants in investigators for \"\\\"Satoko Shimazaki\\\"\" \n",
    "return grants limit 5"
   ]
  },
  {
   "cell_type": "code",
   "execution_count": 38,
   "metadata": {
    "Collapsed": "false"
   },
   "outputs": [
    {
     "name": "stdout",
     "output_type": "stream",
     "text": [
      "Returned Patents: 5 (total = 502)\n",
      "\u001b[2mTime: 0.75s\u001b[0m\n"
     ]
    },
    {
     "data": {
      "text/html": [
       "<div>\n",
       "<style scoped>\n",
       "    .dataframe tbody tr th:only-of-type {\n",
       "        vertical-align: middle;\n",
       "    }\n",
       "\n",
       "    .dataframe tbody tr th {\n",
       "        vertical-align: top;\n",
       "    }\n",
       "\n",
       "    .dataframe thead th {\n",
       "        text-align: right;\n",
       "    }\n",
       "</style>\n",
       "<table border=\"1\" class=\"dataframe\">\n",
       "  <thead>\n",
       "    <tr style=\"text-align: right;\">\n",
       "      <th></th>\n",
       "      <th>title</th>\n",
       "      <th>publication_date</th>\n",
       "      <th>granted_year</th>\n",
       "      <th>assignee_names</th>\n",
       "      <th>year</th>\n",
       "      <th>inventor_names</th>\n",
       "      <th>times_cited</th>\n",
       "      <th>filing_status</th>\n",
       "      <th>id</th>\n",
       "      <th>assignees</th>\n",
       "    </tr>\n",
       "  </thead>\n",
       "  <tbody>\n",
       "    <tr>\n",
       "      <th>0</th>\n",
       "      <td>A lockable safety insert for an electrical dom...</td>\n",
       "      <td>2004-11-03</td>\n",
       "      <td>2004.0</td>\n",
       "      <td>[SMITH JOHN]</td>\n",
       "      <td>2003</td>\n",
       "      <td>[SMITH JOHN]</td>\n",
       "      <td>0.0</td>\n",
       "      <td>Grant</td>\n",
       "      <td>IE-S20030195-A2</td>\n",
       "      <td>NaN</td>\n",
       "    </tr>\n",
       "    <tr>\n",
       "      <th>1</th>\n",
       "      <td>Automotive heat exchanger</td>\n",
       "      <td>2006-03-22</td>\n",
       "      <td>2006.0</td>\n",
       "      <td>[Llanelli Radiators Ltd, Calsonic Kansei UK Lt...</td>\n",
       "      <td>2002</td>\n",
       "      <td>[SMITH JOHN]</td>\n",
       "      <td>0.0</td>\n",
       "      <td>Grant</td>\n",
       "      <td>GB-2384299-B</td>\n",
       "      <td>[{'id': 'grid.472810.8', 'city_name': 'Llanell...</td>\n",
       "    </tr>\n",
       "    <tr>\n",
       "      <th>2</th>\n",
       "      <td>Extractor</td>\n",
       "      <td>2007-10-25</td>\n",
       "      <td>NaN</td>\n",
       "      <td>[SMITH JOHN A]</td>\n",
       "      <td>2007</td>\n",
       "      <td>[John Smith]</td>\n",
       "      <td>6.0</td>\n",
       "      <td>Application</td>\n",
       "      <td>US-20070245563-A1</td>\n",
       "      <td>NaN</td>\n",
       "    </tr>\n",
       "    <tr>\n",
       "      <th>3</th>\n",
       "      <td>Boom utilized in a geometric end effector system</td>\n",
       "      <td>2018-02-06</td>\n",
       "      <td>2018.0</td>\n",
       "      <td>[DESTACO Europe GmbH, CAPITAL FORMATION INC, D...</td>\n",
       "      <td>2014</td>\n",
       "      <td>[John Smith]</td>\n",
       "      <td>NaN</td>\n",
       "      <td>Grant</td>\n",
       "      <td>US-9884426-B2</td>\n",
       "      <td>[{'id': 'grid.472738.d', 'city_name': 'Teltow'...</td>\n",
       "    </tr>\n",
       "    <tr>\n",
       "      <th>4</th>\n",
       "      <td>Ammunition cartridge</td>\n",
       "      <td>2014-10-22</td>\n",
       "      <td>NaN</td>\n",
       "      <td>[Eley Ltd, ELEY LTD]</td>\n",
       "      <td>2013</td>\n",
       "      <td>[SMITH JOHN]</td>\n",
       "      <td>0.0</td>\n",
       "      <td>Application</td>\n",
       "      <td>GB-2513101-A</td>\n",
       "      <td>NaN</td>\n",
       "    </tr>\n",
       "  </tbody>\n",
       "</table>\n",
       "</div>"
      ],
      "text/plain": [
       "                                               title publication_date  \\\n",
       "0  A lockable safety insert for an electrical dom...       2004-11-03   \n",
       "1                          Automotive heat exchanger       2006-03-22   \n",
       "2                                          Extractor       2007-10-25   \n",
       "3   Boom utilized in a geometric end effector system       2018-02-06   \n",
       "4                               Ammunition cartridge       2014-10-22   \n",
       "\n",
       "   granted_year                                     assignee_names  year  \\\n",
       "0        2004.0                                       [SMITH JOHN]  2003   \n",
       "1        2006.0  [Llanelli Radiators Ltd, Calsonic Kansei UK Lt...  2002   \n",
       "2           NaN                                     [SMITH JOHN A]  2007   \n",
       "3        2018.0  [DESTACO Europe GmbH, CAPITAL FORMATION INC, D...  2014   \n",
       "4           NaN                               [Eley Ltd, ELEY LTD]  2013   \n",
       "\n",
       "  inventor_names  times_cited filing_status                 id  \\\n",
       "0   [SMITH JOHN]          0.0         Grant    IE-S20030195-A2   \n",
       "1   [SMITH JOHN]          0.0         Grant       GB-2384299-B   \n",
       "2   [John Smith]          6.0   Application  US-20070245563-A1   \n",
       "3   [John Smith]          NaN         Grant      US-9884426-B2   \n",
       "4   [SMITH JOHN]          0.0   Application       GB-2513101-A   \n",
       "\n",
       "                                           assignees  \n",
       "0                                                NaN  \n",
       "1  [{'id': 'grid.472810.8', 'city_name': 'Llanell...  \n",
       "2                                                NaN  \n",
       "3  [{'id': 'grid.472738.d', 'city_name': 'Teltow'...  \n",
       "4                                                NaN  "
      ]
     },
     "execution_count": 38,
     "metadata": {},
     "output_type": "execute_result"
    }
   ],
   "source": [
    "%%dsldf \n",
    "search patents in inventors for \"\\\"John Smith\\\"\" \n",
    "return patents limit 5"
   ]
  },
  {
   "cell_type": "markdown",
   "metadata": {
    "Collapsed": "false"
   },
   "source": [
    "### 4.2 Fuzzy Searches\n",
    "\n",
    "This type of search is similar to *full-text\n",
    "search*, with the difference that it\n",
    "allows searching by only a part of a name, e.g. only the 'last name' of\n",
    "a person, by using the `where` clause. \n",
    "\n",
    "**Note** At this moment, this type of search is only available for\n",
    "`publications`. Other sources will add this option in the future.\n",
    "\n",
    "For example:"
   ]
  },
  {
   "cell_type": "code",
   "execution_count": 39,
   "metadata": {
    "Collapsed": "false"
   },
   "outputs": [
    {
     "name": "stdout",
     "output_type": "stream",
     "text": [
      "Returned Errors: 1\n",
      "\u001b[2mTime: 0.44s\u001b[0m\n",
      "1 QuerySyntaxError found\n",
      "1 ParserError found\n",
      "  * [Line 2:27] ('[') mismatched input '[' expecting <EOF>\n"
     ]
    }
   ],
   "source": [
    "%%dsldf \n",
    "search publications where authors = \"Hawking\" \n",
    "return publications limit 5[id+doi+title+authors] limit 10"
   ]
  },
  {
   "cell_type": "markdown",
   "metadata": {
    "Collapsed": "false"
   },
   "source": [
    "Generally speaking, using a `where` clause to search authors is less\n",
    "precise that using the relevant exact-search syntax. \n",
    "\n",
    "On the other hand, using a\n",
    "`where` clause can be handy if one wants to **combine an author search\n",
    "with another full-text search index**.\n",
    "\n",
    "For example:"
   ]
  },
  {
   "cell_type": "code",
   "execution_count": 40,
   "metadata": {
    "Collapsed": "false"
   },
   "outputs": [
    {
     "name": "stdout",
     "output_type": "stream",
     "text": [
      "Returned Publications: 5 (total = 1544)\n",
      "\u001b[2mTime: 1.14s\u001b[0m\n"
     ]
    },
    {
     "data": {
      "text/html": [
       "<div>\n",
       "<style scoped>\n",
       "    .dataframe tbody tr th:only-of-type {\n",
       "        vertical-align: middle;\n",
       "    }\n",
       "\n",
       "    .dataframe tbody tr th {\n",
       "        vertical-align: top;\n",
       "    }\n",
       "\n",
       "    .dataframe thead th {\n",
       "        text-align: right;\n",
       "    }\n",
       "</style>\n",
       "<table border=\"1\" class=\"dataframe\">\n",
       "  <thead>\n",
       "    <tr style=\"text-align: right;\">\n",
       "      <th></th>\n",
       "      <th>title</th>\n",
       "      <th>pages</th>\n",
       "      <th>author_affiliations</th>\n",
       "      <th>year</th>\n",
       "      <th>issue</th>\n",
       "      <th>id</th>\n",
       "      <th>type</th>\n",
       "      <th>volume</th>\n",
       "      <th>journal.id</th>\n",
       "      <th>journal.title</th>\n",
       "    </tr>\n",
       "  </thead>\n",
       "  <tbody>\n",
       "    <tr>\n",
       "      <th>0</th>\n",
       "      <td>Identifying epigenetic biomarkers of establish...</td>\n",
       "      <td>95</td>\n",
       "      <td>[[{'first_name': 'Ryan', 'last_name': 'Langdon...</td>\n",
       "      <td>2020</td>\n",
       "      <td>1</td>\n",
       "      <td>pub.1128835470</td>\n",
       "      <td>article</td>\n",
       "      <td>12</td>\n",
       "      <td>jour.1042271</td>\n",
       "      <td>Clinical Epigenetics</td>\n",
       "    </tr>\n",
       "    <tr>\n",
       "      <th>1</th>\n",
       "      <td>Genetic associations with clozapine-induced my...</td>\n",
       "      <td>37</td>\n",
       "      <td>[[{'first_name': 'Paul', 'last_name': 'Lacaze'...</td>\n",
       "      <td>2020</td>\n",
       "      <td>1</td>\n",
       "      <td>pub.1124910780</td>\n",
       "      <td>article</td>\n",
       "      <td>10</td>\n",
       "      <td>jour.1045271</td>\n",
       "      <td>Translational Psychiatry</td>\n",
       "    </tr>\n",
       "    <tr>\n",
       "      <th>2</th>\n",
       "      <td>Genomic analyses of early responses to radiati...</td>\n",
       "      <td>8979</td>\n",
       "      <td>[[{'first_name': 'Saket', 'last_name': 'Choudh...</td>\n",
       "      <td>2020</td>\n",
       "      <td>1</td>\n",
       "      <td>pub.1128124846</td>\n",
       "      <td>article</td>\n",
       "      <td>10</td>\n",
       "      <td>jour.1045337</td>\n",
       "      <td>Scientific Reports</td>\n",
       "    </tr>\n",
       "    <tr>\n",
       "      <th>3</th>\n",
       "      <td>An epigenome-wide association study of posttra...</td>\n",
       "      <td>46</td>\n",
       "      <td>[[{'first_name': 'Mark W.', 'last_name': 'Logu...</td>\n",
       "      <td>2020</td>\n",
       "      <td>1</td>\n",
       "      <td>pub.1125664041</td>\n",
       "      <td>article</td>\n",
       "      <td>12</td>\n",
       "      <td>jour.1042271</td>\n",
       "      <td>Clinical Epigenetics</td>\n",
       "    </tr>\n",
       "    <tr>\n",
       "      <th>4</th>\n",
       "      <td>Longitudinal epigenome-wide association studie...</td>\n",
       "      <td>11</td>\n",
       "      <td>[[{'first_name': 'Clara', 'last_name': 'Snijde...</td>\n",
       "      <td>2020</td>\n",
       "      <td>1</td>\n",
       "      <td>pub.1124060243</td>\n",
       "      <td>article</td>\n",
       "      <td>12</td>\n",
       "      <td>jour.1042271</td>\n",
       "      <td>Clinical Epigenetics</td>\n",
       "    </tr>\n",
       "  </tbody>\n",
       "</table>\n",
       "</div>"
      ],
      "text/plain": [
       "                                               title pages  \\\n",
       "0  Identifying epigenetic biomarkers of establish...    95   \n",
       "1  Genetic associations with clozapine-induced my...    37   \n",
       "2  Genomic analyses of early responses to radiati...  8979   \n",
       "3  An epigenome-wide association study of posttra...    46   \n",
       "4  Longitudinal epigenome-wide association studie...    11   \n",
       "\n",
       "                                 author_affiliations  year issue  \\\n",
       "0  [[{'first_name': 'Ryan', 'last_name': 'Langdon...  2020     1   \n",
       "1  [[{'first_name': 'Paul', 'last_name': 'Lacaze'...  2020     1   \n",
       "2  [[{'first_name': 'Saket', 'last_name': 'Choudh...  2020     1   \n",
       "3  [[{'first_name': 'Mark W.', 'last_name': 'Logu...  2020     1   \n",
       "4  [[{'first_name': 'Clara', 'last_name': 'Snijde...  2020     1   \n",
       "\n",
       "               id     type volume    journal.id             journal.title  \n",
       "0  pub.1128835470  article     12  jour.1042271      Clinical Epigenetics  \n",
       "1  pub.1124910780  article     10  jour.1045271  Translational Psychiatry  \n",
       "2  pub.1128124846  article     10  jour.1045337        Scientific Reports  \n",
       "3  pub.1125664041  article     12  jour.1042271      Clinical Epigenetics  \n",
       "4  pub.1124060243  article     12  jour.1042271      Clinical Epigenetics  "
      ]
     },
     "execution_count": 40,
     "metadata": {},
     "output_type": "execute_result"
    }
   ],
   "source": [
    "%%dsldf \n",
    "search publications \n",
    "    in title_abstract_only for \"dna replication\" \n",
    "    where authors = \"smith\"  \n",
    "return publications limit 5"
   ]
  },
  {
   "cell_type": "markdown",
   "metadata": {
    "Collapsed": "false"
   },
   "source": [
    "### 4.3 Using the disambiguated Researchers database\n",
    "\n",
    "The Dimensions [Researchers](https://docs.dimensions.ai/dsl/datasource-researchers.html) source is a database of\n",
    "researchers information algorithmically extracted and disambiguated from\n",
    "all of the other content sources (publications, grants, clinical trials\n",
    "etc..).\n",
    "\n",
    "By using the `researchers` source it is possible to match an\n",
    "'aggregated' person object linking together multiple publication\n",
    "authors, grant investigators etc.. irrespectively of the form their\n",
    "names can take in the original source documents.\n",
    "\n",
    "However, since database does not contain all authors and investigators information\n",
    "available in Dimensions. \n",
    "\n",
    "E.g. think of authors from older publications,\n",
    "or authors with very common names that are difficult to disambiguate, or\n",
    "very new authors, who have only one or few publications. In such cases,\n",
    "using full-text authors search might be more\n",
    "appropriate.\n",
    "\n",
    "Examples:"
   ]
  },
  {
   "cell_type": "code",
   "execution_count": 41,
   "metadata": {
    "Collapsed": "false"
   },
   "outputs": [
    {
     "name": "stdout",
     "output_type": "stream",
     "text": [
      "Returned Researchers: 4 (total = 4)\n",
      "\u001b[2mTime: 1.24s\u001b[0m\n"
     ]
    },
    {
     "data": {
      "text/html": [
       "<div>\n",
       "<style scoped>\n",
       "    .dataframe tbody tr th:only-of-type {\n",
       "        vertical-align: middle;\n",
       "    }\n",
       "\n",
       "    .dataframe tbody tr th {\n",
       "        vertical-align: top;\n",
       "    }\n",
       "\n",
       "    .dataframe thead th {\n",
       "        text-align: right;\n",
       "    }\n",
       "</style>\n",
       "<table border=\"1\" class=\"dataframe\">\n",
       "  <thead>\n",
       "    <tr style=\"text-align: right;\">\n",
       "      <th></th>\n",
       "      <th>id</th>\n",
       "      <th>first_name</th>\n",
       "      <th>last_name</th>\n",
       "      <th>obsolete</th>\n",
       "      <th>research_orgs</th>\n",
       "    </tr>\n",
       "  </thead>\n",
       "  <tbody>\n",
       "    <tr>\n",
       "      <th>0</th>\n",
       "      <td>ur.07751146721.59</td>\n",
       "      <td>Satoko</td>\n",
       "      <td>Shimazaki</td>\n",
       "      <td>0</td>\n",
       "      <td>NaN</td>\n",
       "    </tr>\n",
       "    <tr>\n",
       "      <th>1</th>\n",
       "      <td>ur.010537333602.30</td>\n",
       "      <td>Satoko</td>\n",
       "      <td>Shimazaki</td>\n",
       "      <td>1</td>\n",
       "      <td>NaN</td>\n",
       "    </tr>\n",
       "    <tr>\n",
       "      <th>2</th>\n",
       "      <td>ur.014307627665.09</td>\n",
       "      <td>Satoko</td>\n",
       "      <td>Shimazaki</td>\n",
       "      <td>0</td>\n",
       "      <td>[{'id': 'grid.19006.3e', 'types': ['Education'...</td>\n",
       "    </tr>\n",
       "    <tr>\n",
       "      <th>3</th>\n",
       "      <td>ur.015527473602.63</td>\n",
       "      <td>Satoko</td>\n",
       "      <td>Shimazaki</td>\n",
       "      <td>0</td>\n",
       "      <td>[{'id': 'grid.266190.a', 'types': ['Education'...</td>\n",
       "    </tr>\n",
       "  </tbody>\n",
       "</table>\n",
       "</div>"
      ],
      "text/plain": [
       "                   id first_name  last_name  obsolete  \\\n",
       "0   ur.07751146721.59     Satoko  Shimazaki         0   \n",
       "1  ur.010537333602.30     Satoko  Shimazaki         1   \n",
       "2  ur.014307627665.09     Satoko  Shimazaki         0   \n",
       "3  ur.015527473602.63     Satoko  Shimazaki         0   \n",
       "\n",
       "                                       research_orgs  \n",
       "0                                                NaN  \n",
       "1                                                NaN  \n",
       "2  [{'id': 'grid.19006.3e', 'types': ['Education'...  \n",
       "3  [{'id': 'grid.266190.a', 'types': ['Education'...  "
      ]
     },
     "execution_count": 41,
     "metadata": {},
     "output_type": "execute_result"
    }
   ],
   "source": [
    "%%dsldf \n",
    "search researchers for \"\\\"Satoko Shimazaki\\\"\" \n",
    "return researchers[basics+obsolete] "
   ]
  },
  {
   "cell_type": "markdown",
   "metadata": {
    "Collapsed": "false"
   },
   "source": [
    "NOTE pay attentiont to the `obsolete` field. This indicates the researcher ID status. 0 means that the researcher ID is still **active**, 1 means that the researcher ID is **no longer valid**. This is due to the ongoing process of refinement of Dimensions researchers. \n",
    "\n",
    "Hence the query above is best written like this:"
   ]
  },
  {
   "cell_type": "code",
   "execution_count": 42,
   "metadata": {
    "Collapsed": "false"
   },
   "outputs": [
    {
     "name": "stdout",
     "output_type": "stream",
     "text": [
      "Returned Researchers: 3 (total = 3)\n",
      "\u001b[2mTime: 1.21s\u001b[0m\n"
     ]
    },
    {
     "data": {
      "text/html": [
       "<div>\n",
       "<style scoped>\n",
       "    .dataframe tbody tr th:only-of-type {\n",
       "        vertical-align: middle;\n",
       "    }\n",
       "\n",
       "    .dataframe tbody tr th {\n",
       "        vertical-align: top;\n",
       "    }\n",
       "\n",
       "    .dataframe thead th {\n",
       "        text-align: right;\n",
       "    }\n",
       "</style>\n",
       "<table border=\"1\" class=\"dataframe\">\n",
       "  <thead>\n",
       "    <tr style=\"text-align: right;\">\n",
       "      <th></th>\n",
       "      <th>last_name</th>\n",
       "      <th>first_name</th>\n",
       "      <th>id</th>\n",
       "      <th>obsolete</th>\n",
       "      <th>research_orgs</th>\n",
       "    </tr>\n",
       "  </thead>\n",
       "  <tbody>\n",
       "    <tr>\n",
       "      <th>0</th>\n",
       "      <td>Shimazaki</td>\n",
       "      <td>Satoko</td>\n",
       "      <td>ur.07751146721.59</td>\n",
       "      <td>0</td>\n",
       "      <td>NaN</td>\n",
       "    </tr>\n",
       "    <tr>\n",
       "      <th>1</th>\n",
       "      <td>Shimazaki</td>\n",
       "      <td>Satoko</td>\n",
       "      <td>ur.014307627665.09</td>\n",
       "      <td>0</td>\n",
       "      <td>[{'id': 'grid.19006.3e', 'name': 'University o...</td>\n",
       "    </tr>\n",
       "    <tr>\n",
       "      <th>2</th>\n",
       "      <td>Shimazaki</td>\n",
       "      <td>Satoko</td>\n",
       "      <td>ur.015527473602.63</td>\n",
       "      <td>0</td>\n",
       "      <td>[{'id': 'grid.266190.a', 'name': 'University o...</td>\n",
       "    </tr>\n",
       "  </tbody>\n",
       "</table>\n",
       "</div>"
      ],
      "text/plain": [
       "   last_name first_name                  id  obsolete  \\\n",
       "0  Shimazaki     Satoko   ur.07751146721.59         0   \n",
       "1  Shimazaki     Satoko  ur.014307627665.09         0   \n",
       "2  Shimazaki     Satoko  ur.015527473602.63         0   \n",
       "\n",
       "                                       research_orgs  \n",
       "0                                                NaN  \n",
       "1  [{'id': 'grid.19006.3e', 'name': 'University o...  \n",
       "2  [{'id': 'grid.266190.a', 'name': 'University o...  "
      ]
     },
     "execution_count": 42,
     "metadata": {},
     "output_type": "execute_result"
    }
   ],
   "source": [
    "%%dsldf \n",
    "search researchers where obsolete=0 for \"\\\"Satoko Shimazaki\\\"\" \n",
    "return researchers[basics+obsolete] "
   ]
  },
  {
   "cell_type": "markdown",
   "metadata": {
    "Collapsed": "false"
   },
   "source": [
    "With `Researchers`, one can use other fields as well:"
   ]
  },
  {
   "cell_type": "code",
   "execution_count": 43,
   "metadata": {
    "Collapsed": "false"
   },
   "outputs": [
    {
     "name": "stdout",
     "output_type": "stream",
     "text": [
      "Returned Researchers: 5 (total = 454)\n",
      "\u001b[2mTime: 0.72s\u001b[0m\n"
     ]
    },
    {
     "data": {
      "text/html": [
       "<div>\n",
       "<style scoped>\n",
       "    .dataframe tbody tr th:only-of-type {\n",
       "        vertical-align: middle;\n",
       "    }\n",
       "\n",
       "    .dataframe tbody tr th {\n",
       "        vertical-align: top;\n",
       "    }\n",
       "\n",
       "    .dataframe thead th {\n",
       "        text-align: right;\n",
       "    }\n",
       "</style>\n",
       "<table border=\"1\" class=\"dataframe\">\n",
       "  <thead>\n",
       "    <tr style=\"text-align: right;\">\n",
       "      <th></th>\n",
       "      <th>last_name</th>\n",
       "      <th>first_name</th>\n",
       "      <th>id</th>\n",
       "      <th>research_orgs</th>\n",
       "    </tr>\n",
       "  </thead>\n",
       "  <tbody>\n",
       "    <tr>\n",
       "      <th>0</th>\n",
       "      <td>Shimazaki</td>\n",
       "      <td>Tatsuo</td>\n",
       "      <td>ur.013510032403.65</td>\n",
       "      <td>[{'id': 'grid.419075.e', 'name': 'Ames Researc...</td>\n",
       "    </tr>\n",
       "    <tr>\n",
       "      <th>1</th>\n",
       "      <td>Shimazaki</td>\n",
       "      <td>Tomomi</td>\n",
       "      <td>ur.010700310627.87</td>\n",
       "      <td>[{'id': 'grid.471199.3', 'name': 'Murata (Japa...</td>\n",
       "    </tr>\n",
       "    <tr>\n",
       "      <th>2</th>\n",
       "      <td>Shimazaki</td>\n",
       "      <td>Dai</td>\n",
       "      <td>ur.011035131473.19</td>\n",
       "      <td>[{'id': 'grid.415776.6', 'name': 'National Ins...</td>\n",
       "    </tr>\n",
       "    <tr>\n",
       "      <th>3</th>\n",
       "      <td>Shimazaki</td>\n",
       "      <td>Koji</td>\n",
       "      <td>ur.016627632300.80</td>\n",
       "      <td>NaN</td>\n",
       "    </tr>\n",
       "    <tr>\n",
       "      <th>4</th>\n",
       "      <td>Shimazaki</td>\n",
       "      <td>Toshiyuki</td>\n",
       "      <td>ur.013205240215.48</td>\n",
       "      <td>[{'id': 'grid.420062.2', 'name': 'Nissan Chemi...</td>\n",
       "    </tr>\n",
       "  </tbody>\n",
       "</table>\n",
       "</div>"
      ],
      "text/plain": [
       "   last_name first_name                  id  \\\n",
       "0  Shimazaki     Tatsuo  ur.013510032403.65   \n",
       "1  Shimazaki     Tomomi  ur.010700310627.87   \n",
       "2  Shimazaki        Dai  ur.011035131473.19   \n",
       "3  Shimazaki       Koji  ur.016627632300.80   \n",
       "4  Shimazaki  Toshiyuki  ur.013205240215.48   \n",
       "\n",
       "                                       research_orgs  \n",
       "0  [{'id': 'grid.419075.e', 'name': 'Ames Researc...  \n",
       "1  [{'id': 'grid.471199.3', 'name': 'Murata (Japa...  \n",
       "2  [{'id': 'grid.415776.6', 'name': 'National Ins...  \n",
       "3                                                NaN  \n",
       "4  [{'id': 'grid.420062.2', 'name': 'Nissan Chemi...  "
      ]
     },
     "execution_count": 43,
     "metadata": {},
     "output_type": "execute_result"
    }
   ],
   "source": [
    "%%dsldf \n",
    "search researchers \n",
    "    where obsolete=0 and last_name=\"Shimazaki\" \n",
    "return researchers[basics] limit 5"
   ]
  },
  {
   "cell_type": "markdown",
   "metadata": {
    "Collapsed": "false"
   },
   "source": [
    "## 5. Returning results\n",
    "\n",
    "After the `search` phrase, a query must contain one or more `return`\n",
    "phrases, specifying the content and format of the information that\n",
    "should be returned."
   ]
  },
  {
   "cell_type": "markdown",
   "metadata": {
    "Collapsed": "false"
   },
   "source": [
    "\n",
    "\n",
    "### 5.1 Returning Multiple Sources\n",
    "\n",
    "Multiple results may not be returned in a single `return` phrase."
   ]
  },
  {
   "cell_type": "code",
   "execution_count": 44,
   "metadata": {
    "Collapsed": "false"
   },
   "outputs": [
    {
     "name": "stdout",
     "output_type": "stream",
     "text": [
      "Returned Year: 20\n",
      "Returned Research_orgs: 5\n",
      "Returned Funders: 5\n",
      "\u001b[2mTime: 4.38s\u001b[0m\n",
      "[Warning] Dataframe created from first available key, but more than one JSON key found: ['year', 'research_orgs', 'funders']\n"
     ]
    },
    {
     "data": {
      "text/html": [
       "<div>\n",
       "<style scoped>\n",
       "    .dataframe tbody tr th:only-of-type {\n",
       "        vertical-align: middle;\n",
       "    }\n",
       "\n",
       "    .dataframe tbody tr th {\n",
       "        vertical-align: top;\n",
       "    }\n",
       "\n",
       "    .dataframe thead th {\n",
       "        text-align: right;\n",
       "    }\n",
       "</style>\n",
       "<table border=\"1\" class=\"dataframe\">\n",
       "  <thead>\n",
       "    <tr style=\"text-align: right;\">\n",
       "      <th></th>\n",
       "      <th>id</th>\n",
       "      <th>count</th>\n",
       "    </tr>\n",
       "  </thead>\n",
       "  <tbody>\n",
       "    <tr>\n",
       "      <th>0</th>\n",
       "      <td>2019</td>\n",
       "      <td>5573486</td>\n",
       "    </tr>\n",
       "    <tr>\n",
       "      <th>1</th>\n",
       "      <td>2018</td>\n",
       "      <td>5172592</td>\n",
       "    </tr>\n",
       "    <tr>\n",
       "      <th>2</th>\n",
       "      <td>2017</td>\n",
       "      <td>4817375</td>\n",
       "    </tr>\n",
       "    <tr>\n",
       "      <th>3</th>\n",
       "      <td>2016</td>\n",
       "      <td>4426951</td>\n",
       "    </tr>\n",
       "    <tr>\n",
       "      <th>4</th>\n",
       "      <td>2015</td>\n",
       "      <td>4244304</td>\n",
       "    </tr>\n",
       "    <tr>\n",
       "      <th>5</th>\n",
       "      <td>2020</td>\n",
       "      <td>4166850</td>\n",
       "    </tr>\n",
       "    <tr>\n",
       "      <th>6</th>\n",
       "      <td>2014</td>\n",
       "      <td>4101478</td>\n",
       "    </tr>\n",
       "    <tr>\n",
       "      <th>7</th>\n",
       "      <td>2013</td>\n",
       "      <td>3909910</td>\n",
       "    </tr>\n",
       "    <tr>\n",
       "      <th>8</th>\n",
       "      <td>2012</td>\n",
       "      <td>3646455</td>\n",
       "    </tr>\n",
       "    <tr>\n",
       "      <th>9</th>\n",
       "      <td>2011</td>\n",
       "      <td>3527334</td>\n",
       "    </tr>\n",
       "    <tr>\n",
       "      <th>10</th>\n",
       "      <td>2010</td>\n",
       "      <td>3103077</td>\n",
       "    </tr>\n",
       "    <tr>\n",
       "      <th>11</th>\n",
       "      <td>2009</td>\n",
       "      <td>2963600</td>\n",
       "    </tr>\n",
       "    <tr>\n",
       "      <th>12</th>\n",
       "      <td>2008</td>\n",
       "      <td>2804045</td>\n",
       "    </tr>\n",
       "    <tr>\n",
       "      <th>13</th>\n",
       "      <td>2007</td>\n",
       "      <td>2800801</td>\n",
       "    </tr>\n",
       "    <tr>\n",
       "      <th>14</th>\n",
       "      <td>2006</td>\n",
       "      <td>2503143</td>\n",
       "    </tr>\n",
       "    <tr>\n",
       "      <th>15</th>\n",
       "      <td>2005</td>\n",
       "      <td>2293845</td>\n",
       "    </tr>\n",
       "    <tr>\n",
       "      <th>16</th>\n",
       "      <td>2004</td>\n",
       "      <td>2174926</td>\n",
       "    </tr>\n",
       "    <tr>\n",
       "      <th>17</th>\n",
       "      <td>2003</td>\n",
       "      <td>1991601</td>\n",
       "    </tr>\n",
       "    <tr>\n",
       "      <th>18</th>\n",
       "      <td>2002</td>\n",
       "      <td>1849468</td>\n",
       "    </tr>\n",
       "    <tr>\n",
       "      <th>19</th>\n",
       "      <td>2001</td>\n",
       "      <td>1789290</td>\n",
       "    </tr>\n",
       "  </tbody>\n",
       "</table>\n",
       "</div>"
      ],
      "text/plain": [
       "      id    count\n",
       "0   2019  5573486\n",
       "1   2018  5172592\n",
       "2   2017  4817375\n",
       "3   2016  4426951\n",
       "4   2015  4244304\n",
       "5   2020  4166850\n",
       "6   2014  4101478\n",
       "7   2013  3909910\n",
       "8   2012  3646455\n",
       "9   2011  3527334\n",
       "10  2010  3103077\n",
       "11  2009  2963600\n",
       "12  2008  2804045\n",
       "13  2007  2800801\n",
       "14  2006  2503143\n",
       "15  2005  2293845\n",
       "16  2004  2174926\n",
       "17  2003  1991601\n",
       "18  2002  1849468\n",
       "19  2001  1789290"
      ]
     },
     "execution_count": 44,
     "metadata": {},
     "output_type": "execute_result"
    }
   ],
   "source": [
    "%%dsldf \n",
    "search publications \n",
    "return funders limit 5 \n",
    "return research_orgs limit 5 \n",
    "return year"
   ]
  },
  {
   "cell_type": "markdown",
   "metadata": {
    "Collapsed": "false"
   },
   "source": [
    "\n",
    "### 5.2 Returning Specific Fields\n",
    "\n",
    "For control over which information from each given `record` will be\n",
    "returned, a `source` or `entity` name in the `results` phrase can be\n",
    "optionally followed by a specification of `fields` and `fieldsets` to be\n",
    "included in the JSON results for each retrieved record.\n",
    "\n",
    "The fields specification may be an arbitrary list of `field` names\n",
    "enclosed in brackets (`[`, `]`), with field names separated by a plus\n",
    "sign (`+`). Minus sign (`-`) can be used to exclude `field` or a\n",
    "`fieldset` from the result. Field names thus listed within brackets must\n",
    "be \"known\" to the DSL, and therefore only a subset of fields may be used\n",
    "in this syntax (see note below)."
   ]
  },
  {
   "cell_type": "code",
   "execution_count": 45,
   "metadata": {
    "Collapsed": "false"
   },
   "outputs": [
    {
     "name": "stdout",
     "output_type": "stream",
     "text": [
      "Returned Grants: 5 (total = 5514056)\n",
      "\u001b[2mTime: 0.46s\u001b[0m\n"
     ]
    },
    {
     "data": {
      "text/html": [
       "<div>\n",
       "<style scoped>\n",
       "    .dataframe tbody tr th:only-of-type {\n",
       "        vertical-align: middle;\n",
       "    }\n",
       "\n",
       "    .dataframe tbody tr th {\n",
       "        vertical-align: top;\n",
       "    }\n",
       "\n",
       "    .dataframe thead th {\n",
       "        text-align: right;\n",
       "    }\n",
       "</style>\n",
       "<table border=\"1\" class=\"dataframe\">\n",
       "  <thead>\n",
       "    <tr style=\"text-align: right;\">\n",
       "      <th></th>\n",
       "      <th>grant_number</th>\n",
       "      <th>title</th>\n",
       "      <th>language</th>\n",
       "    </tr>\n",
       "  </thead>\n",
       "  <tbody>\n",
       "    <tr>\n",
       "      <th>0</th>\n",
       "      <td>RAAK.PRO02.048</td>\n",
       "      <td>Sensing alarm responses of ungulate herds to p...</td>\n",
       "      <td>en</td>\n",
       "    </tr>\n",
       "    <tr>\n",
       "      <th>1</th>\n",
       "      <td>890218</td>\n",
       "      <td>Functional analysis of ribosome heterogeneity ...</td>\n",
       "      <td>en</td>\n",
       "    </tr>\n",
       "    <tr>\n",
       "      <th>2</th>\n",
       "      <td>2018-HRSI-1548</td>\n",
       "      <td>APPROACH to Enriching the Real World Evidence ...</td>\n",
       "      <td>en</td>\n",
       "    </tr>\n",
       "    <tr>\n",
       "      <th>3</th>\n",
       "      <td>894029</td>\n",
       "      <td>Knowledge Transfer in Global Gender Programmes...</td>\n",
       "      <td>en</td>\n",
       "    </tr>\n",
       "    <tr>\n",
       "      <th>4</th>\n",
       "      <td>1301720F</td>\n",
       "      <td>Molecular mechanism of DNA double strand break...</td>\n",
       "      <td>en</td>\n",
       "    </tr>\n",
       "  </tbody>\n",
       "</table>\n",
       "</div>"
      ],
      "text/plain": [
       "     grant_number                                              title language\n",
       "0  RAAK.PRO02.048  Sensing alarm responses of ungulate herds to p...       en\n",
       "1          890218  Functional analysis of ribosome heterogeneity ...       en\n",
       "2  2018-HRSI-1548  APPROACH to Enriching the Real World Evidence ...       en\n",
       "3          894029  Knowledge Transfer in Global Gender Programmes...       en\n",
       "4        1301720F  Molecular mechanism of DNA double strand break...       en"
      ]
     },
     "execution_count": 45,
     "metadata": {},
     "output_type": "execute_result"
    }
   ],
   "source": [
    "%%dsldf \n",
    "search grants \n",
    "return grants[grant_number + title + language] limit 5"
   ]
  },
  {
   "cell_type": "code",
   "execution_count": 46,
   "metadata": {
    "Collapsed": "false"
   },
   "outputs": [
    {
     "name": "stdout",
     "output_type": "stream",
     "text": [
      "Returned Clinical_trials: 5 (total = 582398)\n",
      "\u001b[2mTime: 0.50s\u001b[0m\n"
     ]
    },
    {
     "data": {
      "text/html": [
       "<div>\n",
       "<style scoped>\n",
       "    .dataframe tbody tr th:only-of-type {\n",
       "        vertical-align: middle;\n",
       "    }\n",
       "\n",
       "    .dataframe tbody tr th {\n",
       "        vertical-align: top;\n",
       "    }\n",
       "\n",
       "    .dataframe thead th {\n",
       "        text-align: right;\n",
       "    }\n",
       "</style>\n",
       "<table border=\"1\" class=\"dataframe\">\n",
       "  <thead>\n",
       "    <tr style=\"text-align: right;\">\n",
       "      <th></th>\n",
       "      <th>phase</th>\n",
       "      <th>id</th>\n",
       "      <th>title</th>\n",
       "      <th>acronym</th>\n",
       "    </tr>\n",
       "  </thead>\n",
       "  <tbody>\n",
       "    <tr>\n",
       "      <th>0</th>\n",
       "      <td>N/A</td>\n",
       "      <td>NCT02318264</td>\n",
       "      <td>Influence of Elastic Tape on Activation of the...</td>\n",
       "      <td>NaN</td>\n",
       "    </tr>\n",
       "    <tr>\n",
       "      <th>1</th>\n",
       "      <td>N/A</td>\n",
       "      <td>NCT02318290</td>\n",
       "      <td>Opioids Withdrawal Syndrome in Critically Ill ...</td>\n",
       "      <td>WAAICUP</td>\n",
       "    </tr>\n",
       "    <tr>\n",
       "      <th>2</th>\n",
       "      <td>Phase 2</td>\n",
       "      <td>NCT02318303</td>\n",
       "      <td>A Double-blind, Randomized, Parallel-group, Co...</td>\n",
       "      <td>NaN</td>\n",
       "    </tr>\n",
       "    <tr>\n",
       "      <th>3</th>\n",
       "      <td>N/A</td>\n",
       "      <td>NCT02318316</td>\n",
       "      <td>\"Exhaled Breath Condensate\" in Allogeneic Stem...</td>\n",
       "      <td>NaN</td>\n",
       "    </tr>\n",
       "    <tr>\n",
       "      <th>4</th>\n",
       "      <td>Phase 1</td>\n",
       "      <td>NCT02318329</td>\n",
       "      <td>A Phase 1 Open-Label, Dose-Finding Study Evalu...</td>\n",
       "      <td>NaN</td>\n",
       "    </tr>\n",
       "  </tbody>\n",
       "</table>\n",
       "</div>"
      ],
      "text/plain": [
       "     phase           id                                              title  \\\n",
       "0      N/A  NCT02318264  Influence of Elastic Tape on Activation of the...   \n",
       "1      N/A  NCT02318290  Opioids Withdrawal Syndrome in Critically Ill ...   \n",
       "2  Phase 2  NCT02318303  A Double-blind, Randomized, Parallel-group, Co...   \n",
       "3      N/A  NCT02318316  \"Exhaled Breath Condensate\" in Allogeneic Stem...   \n",
       "4  Phase 1  NCT02318329  A Phase 1 Open-Label, Dose-Finding Study Evalu...   \n",
       "\n",
       "   acronym  \n",
       "0      NaN  \n",
       "1  WAAICUP  \n",
       "2      NaN  \n",
       "3      NaN  \n",
       "4      NaN  "
      ]
     },
     "execution_count": 46,
     "metadata": {},
     "output_type": "execute_result"
    }
   ],
   "source": [
    "%%dsldf \n",
    "search clinical_trials \n",
    "return clinical_trials [id+ title + acronym + phase] limit 5"
   ]
  },
  {
   "cell_type": "markdown",
   "metadata": {
    "Collapsed": "false"
   },
   "source": [
    "**Shortcuts: `fieldsets`**\n",
    "\n",
    "The fields specification may be the name of a pre-defined `fieldset`\n",
    "(e.g. `extras`, `basics`). These are shortcuts that can be handy when testing out new queries, for example. \n",
    "\n",
    "NOTE In general when writing code used in integrations or long-standing extraction scripts it is **best to return specific fields rather that a predefined set**. This has also the advantage of making queries faster by avoiding the extraction of unnecessary data.\n",
    "    "
   ]
  },
  {
   "cell_type": "code",
   "execution_count": 47,
   "metadata": {
    "Collapsed": "false"
   },
   "outputs": [
    {
     "name": "stdout",
     "output_type": "stream",
     "text": [
      "Returned Grants: 5 (total = 5514056)\n",
      "\u001b[2mTime: 0.57s\u001b[0m\n",
      "WARNINGS [2]\n",
      "Field 'project_num' is deprecated in favor of grant_number. Please refer to https://docs.dimensions.ai/dsl/releasenotes.html for more details\n",
      "Field 'title_language' is deprecated in favor of language_title. Please refer to https://docs.dimensions.ai/dsl/releasenotes.html for more details\n"
     ]
    },
    {
     "data": {
      "text/html": [
       "<div>\n",
       "<style scoped>\n",
       "    .dataframe tbody tr th:only-of-type {\n",
       "        vertical-align: middle;\n",
       "    }\n",
       "\n",
       "    .dataframe tbody tr th {\n",
       "        vertical-align: top;\n",
       "    }\n",
       "\n",
       "    .dataframe thead th {\n",
       "        text-align: right;\n",
       "    }\n",
       "</style>\n",
       "<table border=\"1\" class=\"dataframe\">\n",
       "  <thead>\n",
       "    <tr style=\"text-align: right;\">\n",
       "      <th></th>\n",
       "      <th>language</th>\n",
       "      <th>start_date</th>\n",
       "      <th>project_num</th>\n",
       "      <th>title_language</th>\n",
       "      <th>funding_org_name</th>\n",
       "      <th>id</th>\n",
       "      <th>original_title</th>\n",
       "      <th>start_year</th>\n",
       "      <th>active_year</th>\n",
       "      <th>title</th>\n",
       "      <th>funders</th>\n",
       "      <th>end_date</th>\n",
       "    </tr>\n",
       "  </thead>\n",
       "  <tbody>\n",
       "    <tr>\n",
       "      <th>0</th>\n",
       "      <td>en</td>\n",
       "      <td>2021-12-27</td>\n",
       "      <td>RAAK.PRO02.048</td>\n",
       "      <td>en</td>\n",
       "      <td>Dutch Research Council</td>\n",
       "      <td>grant.6946936</td>\n",
       "      <td>Sensing alarm responses of ungulate herds to p...</td>\n",
       "      <td>2021</td>\n",
       "      <td>[2021]</td>\n",
       "      <td>Sensing alarm responses of ungulate herds to p...</td>\n",
       "      <td>[{'id': 'grid.420488.2', 'name': 'Dutch Resear...</td>\n",
       "      <td>NaN</td>\n",
       "    </tr>\n",
       "    <tr>\n",
       "      <th>1</th>\n",
       "      <td>en</td>\n",
       "      <td>2021-12-01</td>\n",
       "      <td>890218</td>\n",
       "      <td>en</td>\n",
       "      <td>European Commission</td>\n",
       "      <td>grant.9064785</td>\n",
       "      <td>Functional analysis of ribosome heterogeneity ...</td>\n",
       "      <td>2021</td>\n",
       "      <td>[2021, 2022, 2023]</td>\n",
       "      <td>Functional analysis of ribosome heterogeneity ...</td>\n",
       "      <td>[{'id': 'grid.270680.b', 'name': 'European Com...</td>\n",
       "      <td>2023-11-30</td>\n",
       "    </tr>\n",
       "    <tr>\n",
       "      <th>2</th>\n",
       "      <td>en</td>\n",
       "      <td>2021-11-30</td>\n",
       "      <td>2018-HRSI-1548</td>\n",
       "      <td>en</td>\n",
       "      <td>New Brunswick Health Research Foundation</td>\n",
       "      <td>grant.8690978</td>\n",
       "      <td>APPROACH to Enriching the Real World Evidence ...</td>\n",
       "      <td>2021</td>\n",
       "      <td>[2021]</td>\n",
       "      <td>APPROACH to Enriching the Real World Evidence ...</td>\n",
       "      <td>[{'id': 'grid.484521.e', 'name': 'New Brunswic...</td>\n",
       "      <td>NaN</td>\n",
       "    </tr>\n",
       "    <tr>\n",
       "      <th>3</th>\n",
       "      <td>en</td>\n",
       "      <td>2021-10-01</td>\n",
       "      <td>894029</td>\n",
       "      <td>en</td>\n",
       "      <td>European Commission</td>\n",
       "      <td>grant.9064813</td>\n",
       "      <td>Knowledge Transfer in Global Gender Programmes...</td>\n",
       "      <td>2021</td>\n",
       "      <td>[2021, 2022, 2023, 2024]</td>\n",
       "      <td>Knowledge Transfer in Global Gender Programmes...</td>\n",
       "      <td>[{'id': 'grid.270680.b', 'name': 'European Com...</td>\n",
       "      <td>2024-09-30</td>\n",
       "    </tr>\n",
       "    <tr>\n",
       "      <th>4</th>\n",
       "      <td>en</td>\n",
       "      <td>2021-10-01</td>\n",
       "      <td>1301720F</td>\n",
       "      <td>en</td>\n",
       "      <td>Fund for Scientific Research</td>\n",
       "      <td>grant.8950252</td>\n",
       "      <td>Mécanismes moléculaires de la formation et la ...</td>\n",
       "      <td>2021</td>\n",
       "      <td>[2021]</td>\n",
       "      <td>Molecular mechanism of DNA double strand break...</td>\n",
       "      <td>[{'id': 'grid.424470.1', 'name': 'Fund for Sci...</td>\n",
       "      <td>NaN</td>\n",
       "    </tr>\n",
       "  </tbody>\n",
       "</table>\n",
       "</div>"
      ],
      "text/plain": [
       "  language  start_date     project_num title_language  \\\n",
       "0       en  2021-12-27  RAAK.PRO02.048             en   \n",
       "1       en  2021-12-01          890218             en   \n",
       "2       en  2021-11-30  2018-HRSI-1548             en   \n",
       "3       en  2021-10-01          894029             en   \n",
       "4       en  2021-10-01        1301720F             en   \n",
       "\n",
       "                           funding_org_name             id  \\\n",
       "0                    Dutch Research Council  grant.6946936   \n",
       "1                       European Commission  grant.9064785   \n",
       "2  New Brunswick Health Research Foundation  grant.8690978   \n",
       "3                       European Commission  grant.9064813   \n",
       "4              Fund for Scientific Research  grant.8950252   \n",
       "\n",
       "                                      original_title  start_year  \\\n",
       "0  Sensing alarm responses of ungulate herds to p...        2021   \n",
       "1  Functional analysis of ribosome heterogeneity ...        2021   \n",
       "2  APPROACH to Enriching the Real World Evidence ...        2021   \n",
       "3  Knowledge Transfer in Global Gender Programmes...        2021   \n",
       "4  Mécanismes moléculaires de la formation et la ...        2021   \n",
       "\n",
       "                active_year  \\\n",
       "0                    [2021]   \n",
       "1        [2021, 2022, 2023]   \n",
       "2                    [2021]   \n",
       "3  [2021, 2022, 2023, 2024]   \n",
       "4                    [2021]   \n",
       "\n",
       "                                               title  \\\n",
       "0  Sensing alarm responses of ungulate herds to p...   \n",
       "1  Functional analysis of ribosome heterogeneity ...   \n",
       "2  APPROACH to Enriching the Real World Evidence ...   \n",
       "3  Knowledge Transfer in Global Gender Programmes...   \n",
       "4  Molecular mechanism of DNA double strand break...   \n",
       "\n",
       "                                             funders    end_date  \n",
       "0  [{'id': 'grid.420488.2', 'name': 'Dutch Resear...         NaN  \n",
       "1  [{'id': 'grid.270680.b', 'name': 'European Com...  2023-11-30  \n",
       "2  [{'id': 'grid.484521.e', 'name': 'New Brunswic...         NaN  \n",
       "3  [{'id': 'grid.270680.b', 'name': 'European Com...  2024-09-30  \n",
       "4  [{'id': 'grid.424470.1', 'name': 'Fund for Sci...         NaN  "
      ]
     },
     "execution_count": 47,
     "metadata": {},
     "output_type": "execute_result"
    }
   ],
   "source": [
    "%%dsldf \n",
    "search grants \n",
    "return grants [basics] limit 5 "
   ]
  },
  {
   "cell_type": "code",
   "execution_count": 48,
   "metadata": {
    "Collapsed": "false"
   },
   "outputs": [
    {
     "name": "stdout",
     "output_type": "stream",
     "text": [
      "Returned Publications: 5 (total = 112275335)\n",
      "\u001b[2mTime: 1.20s\u001b[0m\n",
      "WARNINGS [1]\n",
      "Field 'author_affiliations' is deprecated in favor of authors. Please refer to https://docs.dimensions.ai/dsl/releasenotes.html for more details\n"
     ]
    },
    {
     "data": {
      "text/html": [
       "<div>\n",
       "<style scoped>\n",
       "    .dataframe tbody tr th:only-of-type {\n",
       "        vertical-align: middle;\n",
       "    }\n",
       "\n",
       "    .dataframe tbody tr th {\n",
       "        vertical-align: top;\n",
       "    }\n",
       "\n",
       "    .dataframe thead th {\n",
       "        text-align: right;\n",
       "    }\n",
       "</style>\n",
       "<table border=\"1\" class=\"dataframe\">\n",
       "  <thead>\n",
       "    <tr style=\"text-align: right;\">\n",
       "      <th></th>\n",
       "      <th>year</th>\n",
       "      <th>id</th>\n",
       "      <th>pages</th>\n",
       "      <th>author_affiliations</th>\n",
       "      <th>volume</th>\n",
       "      <th>times_cited</th>\n",
       "      <th>issue</th>\n",
       "      <th>type</th>\n",
       "      <th>title</th>\n",
       "      <th>journal.id</th>\n",
       "      <th>journal.title</th>\n",
       "    </tr>\n",
       "  </thead>\n",
       "  <tbody>\n",
       "    <tr>\n",
       "      <th>0</th>\n",
       "      <td>2020</td>\n",
       "      <td>pub.1130041027</td>\n",
       "      <td>1793599</td>\n",
       "      <td>[[{'first_name': 'Thanos', 'last_name': 'Karat...</td>\n",
       "      <td>11</td>\n",
       "      <td>0</td>\n",
       "      <td>1</td>\n",
       "      <td>article</td>\n",
       "      <td>Adverse and benevolent childhood experiences i...</td>\n",
       "      <td>jour.1045059</td>\n",
       "      <td>European Journal of Psychotraumatology</td>\n",
       "    </tr>\n",
       "    <tr>\n",
       "      <th>1</th>\n",
       "      <td>2020</td>\n",
       "      <td>pub.1129454261</td>\n",
       "      <td>191-202</td>\n",
       "      <td>[[{'first_name': 'Rafael', 'last_name': 'Valdi...</td>\n",
       "      <td>NaN</td>\n",
       "      <td>0</td>\n",
       "      <td>NaN</td>\n",
       "      <td>chapter</td>\n",
       "      <td>FACTORES PSICOSOCIALES ASOCIADOS A MENORES CON...</td>\n",
       "      <td>NaN</td>\n",
       "      <td>NaN</td>\n",
       "    </tr>\n",
       "    <tr>\n",
       "      <th>2</th>\n",
       "      <td>2020</td>\n",
       "      <td>pub.1125632078</td>\n",
       "      <td>333-349</td>\n",
       "      <td>NaN</td>\n",
       "      <td>NaN</td>\n",
       "      <td>0</td>\n",
       "      <td>NaN</td>\n",
       "      <td>chapter</td>\n",
       "      <td>Literature</td>\n",
       "      <td>NaN</td>\n",
       "      <td>NaN</td>\n",
       "    </tr>\n",
       "    <tr>\n",
       "      <th>3</th>\n",
       "      <td>2020</td>\n",
       "      <td>pub.1124099280</td>\n",
       "      <td>1704540</td>\n",
       "      <td>[[{'first_name': 'Mahendra M', 'last_name': 'R...</td>\n",
       "      <td>13</td>\n",
       "      <td>0</td>\n",
       "      <td>1</td>\n",
       "      <td>article</td>\n",
       "      <td>To start or to complete? – Challenges in imple...</td>\n",
       "      <td>jour.1041075</td>\n",
       "      <td>Global Health Action</td>\n",
       "    </tr>\n",
       "    <tr>\n",
       "      <th>4</th>\n",
       "      <td>2020</td>\n",
       "      <td>pub.1124649186</td>\n",
       "      <td>1717411</td>\n",
       "      <td>[[{'first_name': 'Benjamin-Samuel', 'last_name...</td>\n",
       "      <td>13</td>\n",
       "      <td>1</td>\n",
       "      <td>1</td>\n",
       "      <td>article</td>\n",
       "      <td>Long-term trends in seasonality of mortality i...</td>\n",
       "      <td>jour.1041075</td>\n",
       "      <td>Global Health Action</td>\n",
       "    </tr>\n",
       "  </tbody>\n",
       "</table>\n",
       "</div>"
      ],
      "text/plain": [
       "   year              id    pages  \\\n",
       "0  2020  pub.1130041027  1793599   \n",
       "1  2020  pub.1129454261  191-202   \n",
       "2  2020  pub.1125632078  333-349   \n",
       "3  2020  pub.1124099280  1704540   \n",
       "4  2020  pub.1124649186  1717411   \n",
       "\n",
       "                                 author_affiliations volume  times_cited  \\\n",
       "0  [[{'first_name': 'Thanos', 'last_name': 'Karat...     11            0   \n",
       "1  [[{'first_name': 'Rafael', 'last_name': 'Valdi...    NaN            0   \n",
       "2                                                NaN    NaN            0   \n",
       "3  [[{'first_name': 'Mahendra M', 'last_name': 'R...     13            0   \n",
       "4  [[{'first_name': 'Benjamin-Samuel', 'last_name...     13            1   \n",
       "\n",
       "  issue     type                                              title  \\\n",
       "0     1  article  Adverse and benevolent childhood experiences i...   \n",
       "1   NaN  chapter  FACTORES PSICOSOCIALES ASOCIADOS A MENORES CON...   \n",
       "2   NaN  chapter                                         Literature   \n",
       "3     1  article  To start or to complete? – Challenges in imple...   \n",
       "4     1  article  Long-term trends in seasonality of mortality i...   \n",
       "\n",
       "     journal.id                           journal.title  \n",
       "0  jour.1045059  European Journal of Psychotraumatology  \n",
       "1           NaN                                     NaN  \n",
       "2           NaN                                     NaN  \n",
       "3  jour.1041075                    Global Health Action  \n",
       "4  jour.1041075                    Global Health Action  "
      ]
     },
     "execution_count": 48,
     "metadata": {},
     "output_type": "execute_result"
    }
   ],
   "source": [
    "%%dsldf \n",
    "search publications \n",
    "return publications [basics+times_cited] limit 5 "
   ]
  },
  {
   "cell_type": "markdown",
   "metadata": {
    "Collapsed": "false"
   },
   "source": [
    "The fields specification may be an (`all`), to indicate that all fields\n",
    "available for the given `source` should be returned."
   ]
  },
  {
   "cell_type": "code",
   "execution_count": 49,
   "metadata": {
    "Collapsed": "false"
   },
   "outputs": [
    {
     "name": "stdout",
     "output_type": "stream",
     "text": [
      "Returned Publications: 5 (total = 112275334)\n",
      "\u001b[2mTime: 1.27s\u001b[0m\n",
      "WARNINGS [10]\n",
      "Field 'references' is deprecated in favor of reference_ids. Please refer to https://docs.dimensions.ai/dsl/releasenotes.html for more details\n",
      "Field 'terms' is deprecated in favor of concepts. Please refer to https://docs.dimensions.ai/dsl/releasenotes.html for more details\n",
      "Field 'RCDC' is deprecated in favor of category_rcdc. Please refer to https://docs.dimensions.ai/dsl/releasenotes.html for more details\n",
      "Field 'HRCS_RAC' is deprecated in favor of category_hrcs_rac. Please refer to https://docs.dimensions.ai/dsl/releasenotes.html for more details\n",
      "Field 'FOR' is deprecated in favor of category_for. Please refer to https://docs.dimensions.ai/dsl/releasenotes.html for more details\n",
      "Field 'author_affiliations' is deprecated in favor of authors. Please refer to https://docs.dimensions.ai/dsl/releasenotes.html for more details\n",
      "Field 'category_ua' is deprecated in favor of category_uoa. Please refer to https://docs.dimensions.ai/dsl/releasenotes.html for more details\n",
      "Field 'HRCS_HC' is deprecated in favor of category_hrcs_hc. Please refer to https://docs.dimensions.ai/dsl/releasenotes.html for more details\n",
      "Field 'open_access' is deprecated in favor of open_access_categories. Please refer to https://docs.dimensions.ai/dsl/releasenotes.html for more details\n",
      "Field 'FOR_first' is deprecated in favor of category_for. Please refer to https://docs.dimensions.ai/dsl/releasenotes.html for more details\n"
     ]
    },
    {
     "data": {
      "text/html": [
       "<div>\n",
       "<style scoped>\n",
       "    .dataframe tbody tr th:only-of-type {\n",
       "        vertical-align: middle;\n",
       "    }\n",
       "\n",
       "    .dataframe tbody tr th {\n",
       "        vertical-align: top;\n",
       "    }\n",
       "\n",
       "    .dataframe thead th {\n",
       "        text-align: right;\n",
       "    }\n",
       "</style>\n",
       "<table border=\"1\" class=\"dataframe\">\n",
       "  <thead>\n",
       "    <tr style=\"text-align: right;\">\n",
       "      <th></th>\n",
       "      <th>open_access_categories</th>\n",
       "      <th>pages</th>\n",
       "      <th>publisher</th>\n",
       "      <th>altmetric_id</th>\n",
       "      <th>type</th>\n",
       "      <th>title</th>\n",
       "      <th>year</th>\n",
       "      <th>recent_citations</th>\n",
       "      <th>doi</th>\n",
       "      <th>times_cited</th>\n",
       "      <th>...</th>\n",
       "      <th>authors</th>\n",
       "      <th>references</th>\n",
       "      <th>HRCS_RAC</th>\n",
       "      <th>volume</th>\n",
       "      <th>open_access</th>\n",
       "      <th>concepts_scores</th>\n",
       "      <th>journal.id</th>\n",
       "      <th>journal.title</th>\n",
       "      <th>research_org_state_names</th>\n",
       "      <th>research_org_state_codes</th>\n",
       "    </tr>\n",
       "  </thead>\n",
       "  <tbody>\n",
       "    <tr>\n",
       "      <th>0</th>\n",
       "      <td>[{'id': 'closed', 'description': 'No freely av...</td>\n",
       "      <td>333-349</td>\n",
       "      <td>De Gruyter</td>\n",
       "      <td>0</td>\n",
       "      <td>chapter</td>\n",
       "      <td>Literature</td>\n",
       "      <td>2020</td>\n",
       "      <td>0</td>\n",
       "      <td>10.1515/9783110823547-013</td>\n",
       "      <td>0</td>\n",
       "      <td>...</td>\n",
       "      <td>NaN</td>\n",
       "      <td>NaN</td>\n",
       "      <td>NaN</td>\n",
       "      <td>NaN</td>\n",
       "      <td>NaN</td>\n",
       "      <td>NaN</td>\n",
       "      <td>NaN</td>\n",
       "      <td>NaN</td>\n",
       "      <td>NaN</td>\n",
       "      <td>NaN</td>\n",
       "    </tr>\n",
       "    <tr>\n",
       "      <th>1</th>\n",
       "      <td>[{'id': 'oa_all', 'description': 'Article is f...</td>\n",
       "      <td>1704540</td>\n",
       "      <td>Taylor &amp; Francis</td>\n",
       "      <td>74041725</td>\n",
       "      <td>article</td>\n",
       "      <td>To start or to complete? – Challenges in imple...</td>\n",
       "      <td>2020</td>\n",
       "      <td>0</td>\n",
       "      <td>10.1080/16549716.2019.1704540</td>\n",
       "      <td>0</td>\n",
       "      <td>...</td>\n",
       "      <td>[{'first_name': 'Mahendra M', 'last_name': 'Re...</td>\n",
       "      <td>[pub.1084776885, pub.1026226848, pub.100783600...</td>\n",
       "      <td>[{'id': '10801', 'name': '8.1 Organisation and...</td>\n",
       "      <td>13</td>\n",
       "      <td>[Open Access - all, Open Access - publisher, O...</td>\n",
       "      <td>[{'concept': 'isoniazid preventive therapy', '...</td>\n",
       "      <td>jour.1041075</td>\n",
       "      <td>Global Health Action</td>\n",
       "      <td>NaN</td>\n",
       "      <td>NaN</td>\n",
       "    </tr>\n",
       "    <tr>\n",
       "      <th>2</th>\n",
       "      <td>[{'id': 'oa_all', 'description': 'Article is f...</td>\n",
       "      <td>1717411</td>\n",
       "      <td>Taylor &amp; Francis</td>\n",
       "      <td>75135566</td>\n",
       "      <td>article</td>\n",
       "      <td>Long-term trends in seasonality of mortality i...</td>\n",
       "      <td>2020</td>\n",
       "      <td>1</td>\n",
       "      <td>10.1080/16549716.2020.1717411</td>\n",
       "      <td>1</td>\n",
       "      <td>...</td>\n",
       "      <td>[{'first_name': 'Benjamin-Samuel', 'last_name'...</td>\n",
       "      <td>[pub.1070577469, pub.1035360137, pub.111994906...</td>\n",
       "      <td>NaN</td>\n",
       "      <td>13</td>\n",
       "      <td>[Open Access - all, Open Access - publisher, O...</td>\n",
       "      <td>[{'concept': 'cause-specific mortality', 'rele...</td>\n",
       "      <td>jour.1041075</td>\n",
       "      <td>Global Health Action</td>\n",
       "      <td>[New Jersey]</td>\n",
       "      <td>[{'id': 'US-NJ', 'name': 'New Jersey'}]</td>\n",
       "    </tr>\n",
       "    <tr>\n",
       "      <th>3</th>\n",
       "      <td>[{'id': 'closed', 'description': 'No freely av...</td>\n",
       "      <td>167-190</td>\n",
       "      <td>De Gruyter</td>\n",
       "      <td>0</td>\n",
       "      <td>chapter</td>\n",
       "      <td>Eine Warnung an alle, dy sych etwaz duncken: D...</td>\n",
       "      <td>2020</td>\n",
       "      <td>0</td>\n",
       "      <td>10.1515/9783110950762-012</td>\n",
       "      <td>0</td>\n",
       "      <td>...</td>\n",
       "      <td>[{'first_name': 'Ulla', 'last_name': 'Williams...</td>\n",
       "      <td>NaN</td>\n",
       "      <td>NaN</td>\n",
       "      <td>NaN</td>\n",
       "      <td>NaN</td>\n",
       "      <td>NaN</td>\n",
       "      <td>NaN</td>\n",
       "      <td>NaN</td>\n",
       "      <td>NaN</td>\n",
       "      <td>NaN</td>\n",
       "    </tr>\n",
       "    <tr>\n",
       "      <th>4</th>\n",
       "      <td>[{'id': 'closed', 'description': 'No freely av...</td>\n",
       "      <td>241-276</td>\n",
       "      <td>De Gruyter</td>\n",
       "      <td>0</td>\n",
       "      <td>chapter</td>\n",
       "      <td>Marienklagen und Pietà</td>\n",
       "      <td>2020</td>\n",
       "      <td>0</td>\n",
       "      <td>10.1515/9783110922035-011</td>\n",
       "      <td>0</td>\n",
       "      <td>...</td>\n",
       "      <td>[{'first_name': 'Georg', 'last_name': 'Satzing...</td>\n",
       "      <td>NaN</td>\n",
       "      <td>NaN</td>\n",
       "      <td>NaN</td>\n",
       "      <td>NaN</td>\n",
       "      <td>NaN</td>\n",
       "      <td>NaN</td>\n",
       "      <td>NaN</td>\n",
       "      <td>NaN</td>\n",
       "      <td>NaN</td>\n",
       "    </tr>\n",
       "  </tbody>\n",
       "</table>\n",
       "<p>5 rows × 57 columns</p>\n",
       "</div>"
      ],
      "text/plain": [
       "                              open_access_categories    pages  \\\n",
       "0  [{'id': 'closed', 'description': 'No freely av...  333-349   \n",
       "1  [{'id': 'oa_all', 'description': 'Article is f...  1704540   \n",
       "2  [{'id': 'oa_all', 'description': 'Article is f...  1717411   \n",
       "3  [{'id': 'closed', 'description': 'No freely av...  167-190   \n",
       "4  [{'id': 'closed', 'description': 'No freely av...  241-276   \n",
       "\n",
       "          publisher  altmetric_id     type  \\\n",
       "0        De Gruyter             0  chapter   \n",
       "1  Taylor & Francis      74041725  article   \n",
       "2  Taylor & Francis      75135566  article   \n",
       "3        De Gruyter             0  chapter   \n",
       "4        De Gruyter             0  chapter   \n",
       "\n",
       "                                               title  year  recent_citations  \\\n",
       "0                                         Literature  2020                 0   \n",
       "1  To start or to complete? – Challenges in imple...  2020                 0   \n",
       "2  Long-term trends in seasonality of mortality i...  2020                 1   \n",
       "3  Eine Warnung an alle, dy sych etwaz duncken: D...  2020                 0   \n",
       "4                             Marienklagen und Pietà  2020                 0   \n",
       "\n",
       "                             doi  times_cited  ...  \\\n",
       "0      10.1515/9783110823547-013            0  ...   \n",
       "1  10.1080/16549716.2019.1704540            0  ...   \n",
       "2  10.1080/16549716.2020.1717411            1  ...   \n",
       "3      10.1515/9783110950762-012            0  ...   \n",
       "4      10.1515/9783110922035-011            0  ...   \n",
       "\n",
       "                                             authors  \\\n",
       "0                                                NaN   \n",
       "1  [{'first_name': 'Mahendra M', 'last_name': 'Re...   \n",
       "2  [{'first_name': 'Benjamin-Samuel', 'last_name'...   \n",
       "3  [{'first_name': 'Ulla', 'last_name': 'Williams...   \n",
       "4  [{'first_name': 'Georg', 'last_name': 'Satzing...   \n",
       "\n",
       "                                          references  \\\n",
       "0                                                NaN   \n",
       "1  [pub.1084776885, pub.1026226848, pub.100783600...   \n",
       "2  [pub.1070577469, pub.1035360137, pub.111994906...   \n",
       "3                                                NaN   \n",
       "4                                                NaN   \n",
       "\n",
       "                                            HRCS_RAC volume  \\\n",
       "0                                                NaN    NaN   \n",
       "1  [{'id': '10801', 'name': '8.1 Organisation and...     13   \n",
       "2                                                NaN     13   \n",
       "3                                                NaN    NaN   \n",
       "4                                                NaN    NaN   \n",
       "\n",
       "                                         open_access  \\\n",
       "0                                                NaN   \n",
       "1  [Open Access - all, Open Access - publisher, O...   \n",
       "2  [Open Access - all, Open Access - publisher, O...   \n",
       "3                                                NaN   \n",
       "4                                                NaN   \n",
       "\n",
       "                                     concepts_scores    journal.id  \\\n",
       "0                                                NaN           NaN   \n",
       "1  [{'concept': 'isoniazid preventive therapy', '...  jour.1041075   \n",
       "2  [{'concept': 'cause-specific mortality', 'rele...  jour.1041075   \n",
       "3                                                NaN           NaN   \n",
       "4                                                NaN           NaN   \n",
       "\n",
       "          journal.title research_org_state_names  \\\n",
       "0                   NaN                      NaN   \n",
       "1  Global Health Action                      NaN   \n",
       "2  Global Health Action             [New Jersey]   \n",
       "3                   NaN                      NaN   \n",
       "4                   NaN                      NaN   \n",
       "\n",
       "                  research_org_state_codes  \n",
       "0                                      NaN  \n",
       "1                                      NaN  \n",
       "2  [{'id': 'US-NJ', 'name': 'New Jersey'}]  \n",
       "3                                      NaN  \n",
       "4                                      NaN  \n",
       "\n",
       "[5 rows x 57 columns]"
      ]
     },
     "execution_count": 49,
     "metadata": {},
     "output_type": "execute_result"
    }
   ],
   "source": [
    "%%dsldf\n",
    "search publications \n",
    "return publications [all] limit 5 "
   ]
  },
  {
   "cell_type": "markdown",
   "metadata": {
    "Collapsed": "false"
   },
   "source": [
    "### 5.3 Returning Facets\n",
    "\n",
    "In addition to returning source records matching a query, it is possible\n",
    "to $facet$ on the [entity](data-entities.ipynb) fields related to a\n",
    "particular source and return only those entity values as an aggregrated\n",
    "view of the related source data. This operation is similar to a\n",
    "$group by$ or $pivot table$.\n",
    "\n",
    "**Warning** Faceting can return up to a maximum of 1000 results. This is to ensure\n",
    "adequate performance with all queries. Furthemore, although the `limit`\n",
    "operator is allowed, the `skip` operator cannot be used."
   ]
  },
  {
   "cell_type": "code",
   "execution_count": 50,
   "metadata": {
    "Collapsed": "false"
   },
   "outputs": [
    {
     "name": "stdout",
     "output_type": "stream",
     "text": [
      "Returned Research_orgs: 5\n",
      "\u001b[2mTime: 0.53s\u001b[0m\n"
     ]
    },
    {
     "data": {
      "text/html": [
       "<div>\n",
       "<style scoped>\n",
       "    .dataframe tbody tr th:only-of-type {\n",
       "        vertical-align: middle;\n",
       "    }\n",
       "\n",
       "    .dataframe tbody tr th {\n",
       "        vertical-align: top;\n",
       "    }\n",
       "\n",
       "    .dataframe thead th {\n",
       "        text-align: right;\n",
       "    }\n",
       "</style>\n",
       "<table border=\"1\" class=\"dataframe\">\n",
       "  <thead>\n",
       "    <tr style=\"text-align: right;\">\n",
       "      <th></th>\n",
       "      <th>id</th>\n",
       "      <th>count</th>\n",
       "      <th>name</th>\n",
       "      <th>latitude</th>\n",
       "      <th>state_name</th>\n",
       "      <th>types</th>\n",
       "      <th>linkout</th>\n",
       "      <th>country_name</th>\n",
       "      <th>longitude</th>\n",
       "      <th>city_name</th>\n",
       "      <th>acronym</th>\n",
       "    </tr>\n",
       "  </thead>\n",
       "  <tbody>\n",
       "    <tr>\n",
       "      <th>0</th>\n",
       "      <td>grid.38142.3c</td>\n",
       "      <td>1394</td>\n",
       "      <td>Harvard University</td>\n",
       "      <td>42.377052</td>\n",
       "      <td>Massachusetts</td>\n",
       "      <td>[Education]</td>\n",
       "      <td>[http://www.harvard.edu/]</td>\n",
       "      <td>United States</td>\n",
       "      <td>-71.11665</td>\n",
       "      <td>Cambridge</td>\n",
       "      <td>NaN</td>\n",
       "    </tr>\n",
       "    <tr>\n",
       "      <th>1</th>\n",
       "      <td>grid.21107.35</td>\n",
       "      <td>1288</td>\n",
       "      <td>Johns Hopkins University</td>\n",
       "      <td>39.328888</td>\n",
       "      <td>Maryland</td>\n",
       "      <td>[Education]</td>\n",
       "      <td>[https://www.jhu.edu/]</td>\n",
       "      <td>United States</td>\n",
       "      <td>-76.62028</td>\n",
       "      <td>Baltimore</td>\n",
       "      <td>JHU</td>\n",
       "    </tr>\n",
       "    <tr>\n",
       "      <th>2</th>\n",
       "      <td>grid.17063.33</td>\n",
       "      <td>1199</td>\n",
       "      <td>University of Toronto</td>\n",
       "      <td>43.661667</td>\n",
       "      <td>Ontario</td>\n",
       "      <td>[Education]</td>\n",
       "      <td>[http://www.utoronto.ca/]</td>\n",
       "      <td>Canada</td>\n",
       "      <td>-79.39500</td>\n",
       "      <td>Toronto</td>\n",
       "      <td>NaN</td>\n",
       "    </tr>\n",
       "    <tr>\n",
       "      <th>3</th>\n",
       "      <td>grid.4991.5</td>\n",
       "      <td>1183</td>\n",
       "      <td>University of Oxford</td>\n",
       "      <td>51.753437</td>\n",
       "      <td>Oxfordshire</td>\n",
       "      <td>[Education]</td>\n",
       "      <td>[http://www.ox.ac.uk/]</td>\n",
       "      <td>United Kingdom</td>\n",
       "      <td>-1.25401</td>\n",
       "      <td>Oxford</td>\n",
       "      <td>NaN</td>\n",
       "    </tr>\n",
       "    <tr>\n",
       "      <th>4</th>\n",
       "      <td>grid.194645.b</td>\n",
       "      <td>1176</td>\n",
       "      <td>University of Hong Kong</td>\n",
       "      <td>22.283287</td>\n",
       "      <td>Hong Kong</td>\n",
       "      <td>[Education]</td>\n",
       "      <td>[http://www.hku.hk/]</td>\n",
       "      <td>China</td>\n",
       "      <td>114.13708</td>\n",
       "      <td>Hong Kong</td>\n",
       "      <td>HKU</td>\n",
       "    </tr>\n",
       "  </tbody>\n",
       "</table>\n",
       "</div>"
      ],
      "text/plain": [
       "              id  count                      name   latitude     state_name  \\\n",
       "0  grid.38142.3c   1394        Harvard University  42.377052  Massachusetts   \n",
       "1  grid.21107.35   1288  Johns Hopkins University  39.328888       Maryland   \n",
       "2  grid.17063.33   1199     University of Toronto  43.661667        Ontario   \n",
       "3    grid.4991.5   1183      University of Oxford  51.753437    Oxfordshire   \n",
       "4  grid.194645.b   1176   University of Hong Kong  22.283287      Hong Kong   \n",
       "\n",
       "         types                    linkout    country_name  longitude  \\\n",
       "0  [Education]  [http://www.harvard.edu/]   United States  -71.11665   \n",
       "1  [Education]     [https://www.jhu.edu/]   United States  -76.62028   \n",
       "2  [Education]  [http://www.utoronto.ca/]          Canada  -79.39500   \n",
       "3  [Education]     [http://www.ox.ac.uk/]  United Kingdom   -1.25401   \n",
       "4  [Education]       [http://www.hku.hk/]           China  114.13708   \n",
       "\n",
       "   city_name acronym  \n",
       "0  Cambridge     NaN  \n",
       "1  Baltimore     JHU  \n",
       "2    Toronto     NaN  \n",
       "3     Oxford     NaN  \n",
       "4  Hong Kong     HKU  "
      ]
     },
     "execution_count": 50,
     "metadata": {},
     "output_type": "execute_result"
    }
   ],
   "source": [
    "%%dsldf \n",
    "search publications \n",
    "    for \"coronavirus\" \n",
    "return research_orgs limit 5"
   ]
  },
  {
   "cell_type": "code",
   "execution_count": 51,
   "metadata": {
    "Collapsed": "false"
   },
   "outputs": [
    {
     "name": "stdout",
     "output_type": "stream",
     "text": [
      "Returned Research_org_countries: 5\n",
      "Returned Year: 5\n",
      "Returned Category_for: 5\n",
      "\u001b[2mTime: 0.60s\u001b[0m\n",
      "[Warning] Dataframe created from first available key, but more than one JSON key found: ['research_org_countries', 'year', 'category_for']\n"
     ]
    },
    {
     "data": {
      "text/html": [
       "<div>\n",
       "<style scoped>\n",
       "    .dataframe tbody tr th:only-of-type {\n",
       "        vertical-align: middle;\n",
       "    }\n",
       "\n",
       "    .dataframe tbody tr th {\n",
       "        vertical-align: top;\n",
       "    }\n",
       "\n",
       "    .dataframe thead th {\n",
       "        text-align: right;\n",
       "    }\n",
       "</style>\n",
       "<table border=\"1\" class=\"dataframe\">\n",
       "  <thead>\n",
       "    <tr style=\"text-align: right;\">\n",
       "      <th></th>\n",
       "      <th>id</th>\n",
       "      <th>count</th>\n",
       "      <th>name</th>\n",
       "    </tr>\n",
       "  </thead>\n",
       "  <tbody>\n",
       "    <tr>\n",
       "      <th>0</th>\n",
       "      <td>US</td>\n",
       "      <td>44418</td>\n",
       "      <td>United States</td>\n",
       "    </tr>\n",
       "    <tr>\n",
       "      <th>1</th>\n",
       "      <td>CN</td>\n",
       "      <td>19128</td>\n",
       "      <td>China</td>\n",
       "    </tr>\n",
       "    <tr>\n",
       "      <th>2</th>\n",
       "      <td>GB</td>\n",
       "      <td>14325</td>\n",
       "      <td>United Kingdom</td>\n",
       "    </tr>\n",
       "    <tr>\n",
       "      <th>3</th>\n",
       "      <td>DE</td>\n",
       "      <td>8371</td>\n",
       "      <td>Germany</td>\n",
       "    </tr>\n",
       "    <tr>\n",
       "      <th>4</th>\n",
       "      <td>IT</td>\n",
       "      <td>8316</td>\n",
       "      <td>Italy</td>\n",
       "    </tr>\n",
       "  </tbody>\n",
       "</table>\n",
       "</div>"
      ],
      "text/plain": [
       "   id  count            name\n",
       "0  US  44418   United States\n",
       "1  CN  19128           China\n",
       "2  GB  14325  United Kingdom\n",
       "3  DE   8371         Germany\n",
       "4  IT   8316           Italy"
      ]
     },
     "execution_count": 51,
     "metadata": {},
     "output_type": "execute_result"
    }
   ],
   "source": [
    "%%dsldf \n",
    "search publications \n",
    "    for \"coronavirus\" \n",
    "return research_org_countries limit 5\n",
    "return year limit 5\n",
    "return category_for limit 5"
   ]
  },
  {
   "cell_type": "markdown",
   "metadata": {
    "Collapsed": "false"
   },
   "source": [
    "For control over the organization and headers of the JSON query results,\n",
    "the `return` keyword in a return phrase may be followed by the keyword\n",
    "`in` and then a `group` name for this group of results, where the group\n",
    "name is enclosed in double quotes(`\"`).\n",
    "\n",
    "Also, one can define `aliases` that replace the defaul JSON fields names with other ones provided by the user. \n",
    "\n",
    "See the [official documentation](https://docs.dimensions.ai/dsl/language.html#aliases) for more details about this feature. "
   ]
  },
  {
   "cell_type": "code",
   "execution_count": 70,
   "metadata": {
    "Collapsed": "false"
   },
   "outputs": [
    {
     "name": "stdout",
     "output_type": "stream",
     "text": [
      "Returned Facets: 2\n",
      "\u001b[2mTime: 2.77s\u001b[0m\n"
     ]
    },
    {
     "data": {
      "application/json": {
       "_stats": {
        "total_count": 112275334
       },
       "_version": {
        "release": "1.27",
        "version": "1.27.0"
       },
       "facets": {
        "funders": [
         {
          "acronym": "NSFC",
          "city_name": "Beijing",
          "count": 2048348,
          "country_name": "China",
          "id": "grid.419696.5",
          "latitude": 40.005177,
          "linkout": [
           "http://www.nsfc.gov.cn/publish/portal1/"
          ],
          "longitude": 116.33983,
          "name": "National Natural Science Foundation of China",
          "types": [
           "Government"
          ]
         },
         {
          "acronym": "EC",
          "city_name": "Brussels",
          "count": 706071,
          "country_name": "Belgium",
          "id": "grid.270680.b",
          "latitude": 50.85165,
          "linkout": [
           "http://ec.europa.eu/index_en.htm"
          ],
          "longitude": 4.36367,
          "name": "European Commission",
          "types": [
           "Government"
          ]
         },
         {
          "acronym": "MOST",
          "city_name": "Beijing",
          "count": 641515,
          "country_name": "China",
          "id": "grid.424020.0",
          "latitude": 39.827835,
          "linkout": [
           "http://www.most.gov.cn/eng/"
          ],
          "longitude": 116.316284,
          "name": "Ministry of Science and Technology of the People's Republic of China",
          "types": [
           "Government"
          ]
         },
         {
          "acronym": "NCI",
          "city_name": "Rockville",
          "count": 598242,
          "country_name": "United States",
          "id": "grid.48336.3a",
          "latitude": 39.004326,
          "linkout": [
           "http://www.cancer.gov/"
          ],
          "longitude": -77.10119,
          "name": "National Cancer Institute",
          "state_name": "Maryland",
          "types": [
           "Government"
          ]
         },
         {
          "acronym": "JSPS",
          "city_name": "Tokyo",
          "count": 587177,
          "country_name": "Japan",
          "id": "grid.54432.34",
          "latitude": 35.68716,
          "linkout": [
           "http://www.jsps.go.jp/"
          ],
          "longitude": 139.74039,
          "name": "Japan Society for the Promotion of Science",
          "types": [
           "Nonprofit"
          ]
         },
         {
          "acronym": "NIGMS",
          "city_name": "Bethesda",
          "count": 457385,
          "country_name": "United States",
          "id": "grid.280785.0",
          "latitude": 38.997833,
          "linkout": [
           "http://www.nigms.nih.gov/Pages/default.aspx"
          ],
          "longitude": -77.09938,
          "name": "National Institute of General Medical Sciences",
          "state_name": "Maryland",
          "types": [
           "Facility"
          ]
         },
         {
          "acronym": "NHLBI",
          "city_name": "Bethesda",
          "count": 415148,
          "country_name": "United States",
          "id": "grid.279885.9",
          "latitude": 39.00428,
          "linkout": [
           "http://www.nhlbi.nih.gov/"
          ],
          "longitude": -77.100945,
          "name": "National Heart Lung and Blood Institute",
          "state_name": "Maryland",
          "types": [
           "Facility"
          ]
         },
         {
          "acronym": "DFG",
          "city_name": "Bonn",
          "count": 362675,
          "country_name": "Germany",
          "id": "grid.424150.6",
          "latitude": 50.69934,
          "linkout": [
           "http://www.dfg.de/en/"
          ],
          "longitude": 7.147797,
          "name": "German Research Foundation",
          "types": [
           "Facility"
          ]
         },
         {
          "acronym": "NIDDK",
          "city_name": "Bethesda",
          "count": 315466,
          "country_name": "United States",
          "id": "grid.419635.c",
          "latitude": 39.003628,
          "linkout": [
           "http://www.niddk.nih.gov/"
          ],
          "longitude": -77.10107,
          "name": "National Institute of Diabetes and Digestive and Kidney Diseases",
          "state_name": "Maryland",
          "types": [
           "Facility"
          ]
         },
         {
          "acronym": "NIAID",
          "city_name": "Bethesda",
          "count": 314245,
          "country_name": "United States",
          "id": "grid.419681.3",
          "latitude": 39.066647,
          "linkout": [
           "http://www.niaid.nih.gov/Pages/default.aspx"
          ],
          "longitude": -77.11183,
          "name": "National Institute of Allergy and Infectious Diseases",
          "state_name": "Maryland",
          "types": [
           "Facility"
          ]
         },
         {
          "acronym": "NCATS",
          "city_name": "Rockville",
          "count": 277785,
          "country_name": "United States",
          "id": "grid.429651.d",
          "latitude": 39.09584,
          "linkout": [
           "https://ncats.nih.gov/"
          ],
          "longitude": -77.197174,
          "name": "National Center for Advancing Translational Sciences",
          "state_name": "Maryland",
          "types": [
           "Government"
          ]
         },
         {
          "acronym": "MOE",
          "city_name": "Beijing",
          "count": 261486,
          "country_name": "China",
          "id": "grid.419897.a",
          "latitude": 39.91388,
          "linkout": [
           "http://www.moe.edu.cn/publicfiles/business/htmlfiles/moe/moe_2792/"
          ],
          "longitude": 116.36881,
          "name": "Ministry of Education of the People's Republic of China",
          "types": [
           "Government"
          ]
         },
         {
          "acronym": "NSERC",
          "city_name": "Ottawa",
          "count": 253914,
          "country_name": "Canada",
          "id": "grid.452912.9",
          "latitude": 45.425594,
          "linkout": [
           "http://www.nserc-crsng.gc.ca/index_eng.asp"
          ],
          "longitude": -75.69256,
          "name": "Natural Sciences and Engineering Research Council",
          "state_name": "Ontario",
          "types": [
           "Government"
          ]
         },
         {
          "acronym": "NINDS",
          "city_name": "Bethesda",
          "count": 253345,
          "country_name": "United States",
          "id": "grid.416870.c",
          "latitude": 39.003826,
          "linkout": [
           "http://www.ninds.nih.gov/"
          ],
          "longitude": -77.10118,
          "name": "National Institute of Neurological Disorders and Stroke",
          "state_name": "Maryland",
          "types": [
           "Facility"
          ]
         },
         {
          "acronym": "NRF",
          "city_name": "Daejeon",
          "count": 238943,
          "country_name": "South Korea",
          "id": "grid.436415.1",
          "latitude": 36.38167,
          "linkout": [
           "http://www.nrf.re.kr/nrf_eng_cms/"
          ],
          "longitude": 127.333176,
          "name": "National Research Foundation of Korea",
          "types": [
           "Government"
          ]
         },
         {
          "acronym": "CNPq",
          "city_name": "Brasília",
          "count": 234709,
          "country_name": "Brazil",
          "id": "grid.450640.3",
          "latitude": -15.821201,
          "linkout": [
           "http://www.cnpq.br/"
          ],
          "longitude": -47.947884,
          "name": "National Council for Scientific and Technological Development",
          "types": [
           "Government"
          ]
         },
         {
          "acronym": "NICHD",
          "city_name": "Bethesda",
          "count": 220953,
          "country_name": "United States",
          "id": "grid.420089.7",
          "latitude": 39.001095,
          "linkout": [
           "http://www.nichd.nih.gov/Pages/index.aspx"
          ],
          "longitude": -77.10042,
          "name": "National Institute of Child Health and Human Development",
          "state_name": "Maryland",
          "types": [
           "Facility"
          ]
         },
         {
          "acronym": "MINECO",
          "city_name": "Madrid",
          "count": 219683,
          "country_name": "Spain",
          "id": "grid.451322.3",
          "latitude": 40.443962,
          "linkout": [
           "http://www.mineco.gob.es/"
          ],
          "longitude": -3.657564,
          "name": "Ministry of Economy, Industry and Competitiveness",
          "types": [
           "Government"
          ]
         },
         {
          "acronym": "NIMH",
          "city_name": "Bethesda",
          "count": 211646,
          "country_name": "United States",
          "id": "grid.416868.5",
          "latitude": 39.003693,
          "linkout": [
           "https://www.nimh.nih.gov/index.shtml"
          ],
          "longitude": -77.10457,
          "name": "National Institute of Mental Health",
          "state_name": "Maryland",
          "types": [
           "Facility"
          ]
         },
         {
          "acronym": "NSF MPS",
          "city_name": "Arlington",
          "count": 201822,
          "country_name": "United States",
          "id": "grid.457875.c",
          "latitude": 38.880566,
          "linkout": [
           "http://www.nsf.gov/dir/index.jsp?org=MPS"
          ],
          "longitude": -77.11099,
          "name": "Directorate for Mathematical & Physical Sciences",
          "state_name": "Virginia",
          "types": [
           "Government"
          ]
         }
        ],
        "research_orgs": [
         {
          "acronym": "UT",
          "city_name": "Tokyo",
          "count": 327849,
          "country_name": "Japan",
          "id": "grid.26999.3d",
          "latitude": 35.713333,
          "linkout": [
           "http://www.u-tokyo.ac.jp/en/"
          ],
          "longitude": 139.76222,
          "name": "University of Tokyo",
          "types": [
           "Education"
          ]
         },
         {
          "city_name": "Cambridge",
          "count": 304560,
          "country_name": "United States",
          "id": "grid.38142.3c",
          "latitude": 42.377052,
          "linkout": [
           "http://www.harvard.edu/"
          ],
          "longitude": -71.11665,
          "name": "Harvard University",
          "state_name": "Massachusetts",
          "types": [
           "Education"
          ]
         },
         {
          "city_name": "Toronto",
          "count": 302282,
          "country_name": "Canada",
          "id": "grid.17063.33",
          "latitude": 43.661667,
          "linkout": [
           "http://www.utoronto.ca/"
          ],
          "longitude": -79.395,
          "name": "University of Toronto",
          "state_name": "Ontario",
          "types": [
           "Education"
          ]
         },
         {
          "acronym": "UM",
          "city_name": "Ann Arbor",
          "count": 264983,
          "country_name": "United States",
          "id": "grid.214458.e",
          "latitude": 42.278305,
          "linkout": [
           "https://www.umich.edu/"
          ],
          "longitude": -83.73822,
          "name": "University of Michigan",
          "state_name": "Michigan",
          "types": [
           "Education"
          ]
         },
         {
          "acronym": "UCLA",
          "city_name": "Los Angeles",
          "count": 256704,
          "country_name": "United States",
          "id": "grid.19006.3e",
          "latitude": 34.072224,
          "linkout": [
           "http://www.ucla.edu/"
          ],
          "longitude": -118.4441,
          "name": "University of California, Los Angeles",
          "state_name": "California",
          "types": [
           "Education"
          ]
         },
         {
          "acronym": "UCL",
          "city_name": "London",
          "count": 254146,
          "country_name": "United Kingdom",
          "id": "grid.83440.3b",
          "latitude": 51.52447,
          "linkout": [
           "http://www.ucl.ac.uk/"
          ],
          "longitude": -0.1339817,
          "name": "University College London",
          "types": [
           "Education"
          ]
         },
         {
          "acronym": "SU",
          "city_name": "Stanford",
          "count": 249294,
          "country_name": "United States",
          "id": "grid.168010.e",
          "latitude": 37.43,
          "linkout": [
           "http://www.stanford.edu/"
          ],
          "longitude": -122.17,
          "name": "Stanford University",
          "state_name": "California",
          "types": [
           "Education"
          ]
         },
         {
          "city_name": "Cambridge",
          "count": 247865,
          "country_name": "United Kingdom",
          "id": "grid.5335.0",
          "latitude": 52.204453,
          "linkout": [
           "http://www.cam.ac.uk/"
          ],
          "longitude": 0.114908,
          "name": "University of Cambridge",
          "types": [
           "Education"
          ]
         },
         {
          "city_name": "Oxford",
          "count": 244276,
          "country_name": "United Kingdom",
          "id": "grid.4991.5",
          "latitude": 51.753437,
          "linkout": [
           "http://www.ox.ac.uk/"
          ],
          "longitude": -1.2540097,
          "name": "University of Oxford",
          "state_name": "Oxfordshire",
          "types": [
           "Education"
          ]
         },
         {
          "acronym": "USP",
          "city_name": "São Paulo",
          "count": 240490,
          "country_name": "Brazil",
          "id": "grid.11899.38",
          "latitude": -23.563051,
          "linkout": [
           "http://www5.usp.br/en/"
          ],
          "longitude": -46.730103,
          "name": "University of São Paulo",
          "types": [
           "Education"
          ]
         },
         {
          "acronym": "JHU",
          "city_name": "Baltimore",
          "count": 239588,
          "country_name": "United States",
          "id": "grid.21107.35",
          "latitude": 39.328888,
          "linkout": [
           "https://www.jhu.edu/"
          ],
          "longitude": -76.62028,
          "name": "Johns Hopkins University",
          "state_name": "Maryland",
          "types": [
           "Education"
          ]
         },
         {
          "acronym": "UW",
          "city_name": "Seattle",
          "count": 233996,
          "country_name": "United States",
          "id": "grid.34477.33",
          "latitude": 47.655537,
          "linkout": [
           "http://www.washington.edu/"
          ],
          "longitude": -122.30353,
          "name": "University of Washington",
          "state_name": "Washington",
          "types": [
           "Education"
          ]
         },
         {
          "city_name": "Kyoto",
          "count": 218586,
          "country_name": "Japan",
          "id": "grid.258799.8",
          "latitude": 35.026157,
          "linkout": [
           "http://www.kyoto-u.ac.jp/en"
          ],
          "longitude": 135.77979,
          "name": "Kyoto University",
          "types": [
           "Education"
          ]
         },
         {
          "city_name": "Minneapolis",
          "count": 210644,
          "country_name": "United States",
          "id": "grid.17635.36",
          "latitude": 44.974194,
          "linkout": [
           "http://twin-cities.umn.edu/"
          ],
          "longitude": -93.22776,
          "name": "University of Minnesota",
          "state_name": "Minnesota",
          "types": [
           "Education"
          ]
         },
         {
          "city_name": "Philadelphia",
          "count": 210517,
          "country_name": "United States",
          "id": "grid.25879.31",
          "latitude": 39.952457,
          "linkout": [
           "http://www.upenn.edu/"
          ],
          "longitude": -75.19322,
          "name": "University of Pennsylvania",
          "state_name": "Pennsylvania",
          "types": [
           "Education"
          ]
         },
         {
          "acronym": "UCB",
          "city_name": "Berkeley",
          "count": 210477,
          "country_name": "United States",
          "id": "grid.47840.3f",
          "latitude": 37.87216,
          "linkout": [
           "http://www.berkeley.edu/"
          ],
          "longitude": -122.258575,
          "name": "University of California, Berkeley",
          "state_name": "California",
          "types": [
           "Education"
          ]
         },
         {
          "acronym": "RAS",
          "city_name": "Moscow",
          "count": 208063,
          "country_name": "Russia",
          "id": "grid.4886.2",
          "latitude": 55.710793,
          "linkout": [
           "http://www.ras.ru/"
          ],
          "longitude": 37.577812,
          "name": "Russian Academy of Sciences",
          "types": [
           "Government"
          ]
         },
         {
          "acronym": "CU",
          "city_name": "Ithaca",
          "count": 206383,
          "country_name": "United States",
          "id": "grid.5386.8",
          "latitude": 42.44851,
          "linkout": [
           "http://www.cornell.edu/"
          ],
          "longitude": -76.47862,
          "name": "Cornell University",
          "state_name": "New York",
          "types": [
           "Education"
          ]
         },
         {
          "city_name": "New Haven",
          "count": 197566,
          "country_name": "United States",
          "id": "grid.47100.32",
          "latitude": 41.302094,
          "linkout": [
           "http://www.yale.edu"
          ],
          "longitude": -72.93066,
          "name": "Yale University",
          "state_name": "Connecticut",
          "types": [
           "Education"
          ]
         },
         {
          "acronym": "CU",
          "city_name": "New York",
          "count": 197559,
          "country_name": "United States",
          "id": "grid.21729.3f",
          "latitude": 40.8076,
          "linkout": [
           "http://www.columbia.edu/"
          ],
          "longitude": -73.96239,
          "name": "Columbia University",
          "state_name": "New York",
          "types": [
           "Education"
          ]
         }
        ]
       }
      },
      "text/plain": [
       "<dimcli.DslDataset object #4663838032. Records: 2/112275334>"
      ]
     },
     "execution_count": 70,
     "metadata": {
      "application/json": {
       "expanded": false,
       "root": "root"
      }
     },
     "output_type": "execute_result"
    }
   ],
   "source": [
    "%%dsl\n",
    "search publications \n",
    "return in \"facets\" funders \n",
    "return in \"facets\" research_orgs"
   ]
  },
  {
   "cell_type": "markdown",
   "metadata": {
    "Collapsed": "false",
    "colab_type": "text",
    "id": "hQSTK25yG8Vz"
   },
   "source": [
    "### 5.4 What the query statistics refer to - sources VS facets\n",
    "\n",
    "When performing a DSL search, a `_stats` object is return which contains some useful info eg the total number of records available for a search. "
   ]
  },
  {
   "cell_type": "code",
   "execution_count": 53,
   "metadata": {
    "Collapsed": "false",
    "colab": {
     "base_uri": "https://localhost:8080/",
     "height": 34
    },
    "colab_type": "code",
    "executionInfo": {
     "elapsed": 956,
     "status": "ok",
     "timestamp": 1574678516635,
     "user": {
      "displayName": "Michele Pasin",
      "photoUrl": "https://lh3.googleusercontent.com/a-/AAuE7mBu8LVjIGgontF2Wax51BoL5KFx8esezX3bUmaa0g=s64",
      "userId": "10309320684375994511"
     },
     "user_tz": 0
    },
    "id": "yn-gpdVQG8Vz",
    "outputId": "695b23b2-f439-412d-9741-24cd3515f5d3"
   },
   "outputs": [
    {
     "name": "stdout",
     "output_type": "stream",
     "text": [
      "Returned Publications: 5 (total = 3727)\n",
      "\u001b[2mTime: 0.55s\u001b[0m\n"
     ]
    },
    {
     "data": {
      "text/html": [
       "<div>\n",
       "<style scoped>\n",
       "    .dataframe tbody tr th:only-of-type {\n",
       "        vertical-align: middle;\n",
       "    }\n",
       "\n",
       "    .dataframe tbody tr th {\n",
       "        vertical-align: top;\n",
       "    }\n",
       "\n",
       "    .dataframe thead th {\n",
       "        text-align: right;\n",
       "    }\n",
       "</style>\n",
       "<table border=\"1\" class=\"dataframe\">\n",
       "  <thead>\n",
       "    <tr style=\"text-align: right;\">\n",
       "      <th></th>\n",
       "      <th>type</th>\n",
       "      <th>volume</th>\n",
       "      <th>pages</th>\n",
       "      <th>author_affiliations</th>\n",
       "      <th>id</th>\n",
       "      <th>year</th>\n",
       "      <th>issue</th>\n",
       "      <th>title</th>\n",
       "      <th>journal.id</th>\n",
       "      <th>journal.title</th>\n",
       "    </tr>\n",
       "  </thead>\n",
       "  <tbody>\n",
       "    <tr>\n",
       "      <th>0</th>\n",
       "      <td>article</td>\n",
       "      <td>3</td>\n",
       "      <td>18124-18131</td>\n",
       "      <td>[[{'first_name': 'Siewteng', 'last_name': 'Sim...</td>\n",
       "      <td>pub.1110885950</td>\n",
       "      <td>2018</td>\n",
       "      <td>12</td>\n",
       "      <td>Development of Organo-Dispersible Graphene Oxi...</td>\n",
       "      <td>jour.1157000</td>\n",
       "      <td>ACS Omega</td>\n",
       "    </tr>\n",
       "    <tr>\n",
       "      <th>1</th>\n",
       "      <td>proceeding</td>\n",
       "      <td>NaN</td>\n",
       "      <td>NaN</td>\n",
       "      <td>[[{'first_name': 'T.', 'last_name': 'Miyagi', ...</td>\n",
       "      <td>pub.1110925389</td>\n",
       "      <td>2018</td>\n",
       "      <td>NaN</td>\n",
       "      <td>Nuclear Ab Initio Calculations with the Unitar...</td>\n",
       "      <td>NaN</td>\n",
       "      <td>NaN</td>\n",
       "    </tr>\n",
       "    <tr>\n",
       "      <th>2</th>\n",
       "      <td>article</td>\n",
       "      <td>122</td>\n",
       "      <td>29200-29209</td>\n",
       "      <td>[[{'first_name': 'Taro', 'last_name': 'Toyoda'...</td>\n",
       "      <td>pub.1110369527</td>\n",
       "      <td>2018</td>\n",
       "      <td>51</td>\n",
       "      <td>Anisotropic Crystal Growth, Optical Absorption...</td>\n",
       "      <td>jour.1038386</td>\n",
       "      <td>The Journal of Physical Chemistry C</td>\n",
       "    </tr>\n",
       "    <tr>\n",
       "      <th>3</th>\n",
       "      <td>article</td>\n",
       "      <td>122</td>\n",
       "      <td>28491-28496</td>\n",
       "      <td>[[{'first_name': 'Liang', 'last_name': 'Wang',...</td>\n",
       "      <td>pub.1110271601</td>\n",
       "      <td>2018</td>\n",
       "      <td>50</td>\n",
       "      <td>Indium Zinc Oxide Electron Transport Layer for...</td>\n",
       "      <td>jour.1038386</td>\n",
       "      <td>The Journal of Physical Chemistry C</td>\n",
       "    </tr>\n",
       "    <tr>\n",
       "      <th>4</th>\n",
       "      <td>article</td>\n",
       "      <td>10</td>\n",
       "      <td>43682-43690</td>\n",
       "      <td>[[{'first_name': 'Ami', 'last_name': 'Nomura',...</td>\n",
       "      <td>pub.1110222625</td>\n",
       "      <td>2018</td>\n",
       "      <td>50</td>\n",
       "      <td>Chalcopyrite ZnSnSb2: A Promising Thermoelectr...</td>\n",
       "      <td>jour.1041450</td>\n",
       "      <td>ACS Applied Materials &amp; Interfaces</td>\n",
       "    </tr>\n",
       "  </tbody>\n",
       "</table>\n",
       "</div>"
      ],
      "text/plain": [
       "         type volume        pages  \\\n",
       "0     article      3  18124-18131   \n",
       "1  proceeding    NaN          NaN   \n",
       "2     article    122  29200-29209   \n",
       "3     article    122  28491-28496   \n",
       "4     article     10  43682-43690   \n",
       "\n",
       "                                 author_affiliations              id  year  \\\n",
       "0  [[{'first_name': 'Siewteng', 'last_name': 'Sim...  pub.1110885950  2018   \n",
       "1  [[{'first_name': 'T.', 'last_name': 'Miyagi', ...  pub.1110925389  2018   \n",
       "2  [[{'first_name': 'Taro', 'last_name': 'Toyoda'...  pub.1110369527  2018   \n",
       "3  [[{'first_name': 'Liang', 'last_name': 'Wang',...  pub.1110271601  2018   \n",
       "4  [[{'first_name': 'Ami', 'last_name': 'Nomura',...  pub.1110222625  2018   \n",
       "\n",
       "  issue                                              title    journal.id  \\\n",
       "0    12  Development of Organo-Dispersible Graphene Oxi...  jour.1157000   \n",
       "1   NaN  Nuclear Ab Initio Calculations with the Unitar...           NaN   \n",
       "2    51  Anisotropic Crystal Growth, Optical Absorption...  jour.1038386   \n",
       "3    50  Indium Zinc Oxide Electron Transport Layer for...  jour.1038386   \n",
       "4    50  Chalcopyrite ZnSnSb2: A Promising Thermoelectr...  jour.1041450   \n",
       "\n",
       "                         journal.title  \n",
       "0                            ACS Omega  \n",
       "1                                  NaN  \n",
       "2  The Journal of Physical Chemistry C  \n",
       "3  The Journal of Physical Chemistry C  \n",
       "4   ACS Applied Materials & Interfaces  "
      ]
     },
     "execution_count": 53,
     "metadata": {},
     "output_type": "execute_result"
    }
   ],
   "source": [
    "%%dsldf \n",
    "search publications\n",
    "  where year in [2013:2018] and research_orgs=\"grid.258806.1\"\n",
    "return publications limit 5"
   ]
  },
  {
   "cell_type": "markdown",
   "metadata": {
    "Collapsed": "false",
    "colab_type": "text",
    "id": "lBP-VzxJItji"
   },
   "source": [
    "\n",
    "\n",
    "It is important to note though that the **total number always refers to the main source, never the facets** one is searching for. \n",
    "\n",
    "For example, in this query we return `researchers` linked to publications: "
   ]
  },
  {
   "cell_type": "code",
   "execution_count": 54,
   "metadata": {
    "Collapsed": "false",
    "colab": {
     "base_uri": "https://localhost:8080/",
     "height": 34
    },
    "colab_type": "code",
    "executionInfo": {
     "elapsed": 1011,
     "status": "ok",
     "timestamp": 1574678518954,
     "user": {
      "displayName": "Michele Pasin",
      "photoUrl": "https://lh3.googleusercontent.com/a-/AAuE7mBu8LVjIGgontF2Wax51BoL5KFx8esezX3bUmaa0g=s64",
      "userId": "10309320684375994511"
     },
     "user_tz": 0
    },
    "id": "UDa-lDPVG8V1",
    "outputId": "0c9717e4-2172-4c0a-ebb7-a12d3c38f3e1"
   },
   "outputs": [
    {
     "name": "stdout",
     "output_type": "stream",
     "text": [
      "Returned Researchers: 5\n",
      "\u001b[2mTime: 0.86s\u001b[0m\n"
     ]
    },
    {
     "data": {
      "text/html": [
       "<div>\n",
       "<style scoped>\n",
       "    .dataframe tbody tr th:only-of-type {\n",
       "        vertical-align: middle;\n",
       "    }\n",
       "\n",
       "    .dataframe tbody tr th {\n",
       "        vertical-align: top;\n",
       "    }\n",
       "\n",
       "    .dataframe thead th {\n",
       "        text-align: right;\n",
       "    }\n",
       "</style>\n",
       "<table border=\"1\" class=\"dataframe\">\n",
       "  <thead>\n",
       "    <tr style=\"text-align: right;\">\n",
       "      <th></th>\n",
       "      <th>id</th>\n",
       "      <th>count</th>\n",
       "      <th>last_name</th>\n",
       "      <th>first_name</th>\n",
       "      <th>research_orgs</th>\n",
       "      <th>orcid_id</th>\n",
       "    </tr>\n",
       "  </thead>\n",
       "  <tbody>\n",
       "    <tr>\n",
       "      <th>0</th>\n",
       "      <td>ur.01055753603.27</td>\n",
       "      <td>140</td>\n",
       "      <td>Hayase</td>\n",
       "      <td>Shuzi Shuzi</td>\n",
       "      <td>[grid.419082.6, grid.482504.f, grid.14003.36, ...</td>\n",
       "      <td>NaN</td>\n",
       "    </tr>\n",
       "    <tr>\n",
       "      <th>1</th>\n",
       "      <td>ur.011212042763.67</td>\n",
       "      <td>102</td>\n",
       "      <td>Hikita</td>\n",
       "      <td>Masayuki</td>\n",
       "      <td>[grid.27476.30, grid.462727.2, grid.258806.1]</td>\n",
       "      <td>NaN</td>\n",
       "    </tr>\n",
       "    <tr>\n",
       "      <th>2</th>\n",
       "      <td>ur.01144540527.52</td>\n",
       "      <td>100</td>\n",
       "      <td>Ma</td>\n",
       "      <td>Ting-Li</td>\n",
       "      <td>[grid.177174.3, grid.30055.33, grid.11135.37, ...</td>\n",
       "      <td>[0000-0002-3310-459X]</td>\n",
       "    </tr>\n",
       "    <tr>\n",
       "      <th>3</th>\n",
       "      <td>ur.07644453127.11</td>\n",
       "      <td>96</td>\n",
       "      <td>Kozako</td>\n",
       "      <td>M Kozako M</td>\n",
       "      <td>[grid.462727.2, grid.471634.3, grid.258806.1, ...</td>\n",
       "      <td>NaN</td>\n",
       "    </tr>\n",
       "    <tr>\n",
       "      <th>4</th>\n",
       "      <td>ur.016357156077.09</td>\n",
       "      <td>86</td>\n",
       "      <td>Lu</td>\n",
       "      <td>Huimin</td>\n",
       "      <td>[grid.454850.8, grid.41156.37, grid.258806.1, ...</td>\n",
       "      <td>[0000-0001-9794-3221]</td>\n",
       "    </tr>\n",
       "  </tbody>\n",
       "</table>\n",
       "</div>"
      ],
      "text/plain": [
       "                   id  count last_name   first_name  \\\n",
       "0   ur.01055753603.27    140    Hayase  Shuzi Shuzi   \n",
       "1  ur.011212042763.67    102    Hikita     Masayuki   \n",
       "2   ur.01144540527.52    100        Ma      Ting-Li   \n",
       "3   ur.07644453127.11     96    Kozako   M Kozako M   \n",
       "4  ur.016357156077.09     86        Lu       Huimin   \n",
       "\n",
       "                                       research_orgs               orcid_id  \n",
       "0  [grid.419082.6, grid.482504.f, grid.14003.36, ...                    NaN  \n",
       "1      [grid.27476.30, grid.462727.2, grid.258806.1]                    NaN  \n",
       "2  [grid.177174.3, grid.30055.33, grid.11135.37, ...  [0000-0002-3310-459X]  \n",
       "3  [grid.462727.2, grid.471634.3, grid.258806.1, ...                    NaN  \n",
       "4  [grid.454850.8, grid.41156.37, grid.258806.1, ...  [0000-0001-9794-3221]  "
      ]
     },
     "execution_count": 54,
     "metadata": {},
     "output_type": "execute_result"
    }
   ],
   "source": [
    "%%dsldf \n",
    "search publications\n",
    "  where year in [2013:2018] and research_orgs=\"grid.258806.1\"\n",
    "return researchers limit 5"
   ]
  },
  {
   "cell_type": "markdown",
   "metadata": {
    "Collapsed": "false",
    "colab_type": "text",
    "id": "Ihecf2FPTCoM"
   },
   "source": [
    "NOTE: facet results can be 1000 at most (due to performance limitations) so if there are more than 1000 it is not possible to know the total number. "
   ]
  },
  {
   "cell_type": "markdown",
   "metadata": {
    "Collapsed": "false"
   },
   "source": [
    "### 5.5 Paginating Results\n",
    "\n",
    "At the end of a `return` phrase, the user can specify the maximum number\n",
    "of results to be returned and the number of top records to skip over\n",
    "before returning the first result record, for e.g. returning large\n",
    "result sets page-by-page (i.e. \"paging\" results) as described below.\n",
    "\n",
    "This is done using the keyword `limit` followed by the maximum number of\n",
    "results to return, optionally followed by the keyword `skip` and the\n",
    "number of results to skip (the offset)."
   ]
  },
  {
   "cell_type": "code",
   "execution_count": 55,
   "metadata": {
    "Collapsed": "false"
   },
   "outputs": [
    {
     "name": "stdout",
     "output_type": "stream",
     "text": [
      "Returned Publications: 10 (total = 112275335)\n",
      "\u001b[2mTime: 0.46s\u001b[0m\n"
     ]
    },
    {
     "data": {
      "text/html": [
       "<div>\n",
       "<style scoped>\n",
       "    .dataframe tbody tr th:only-of-type {\n",
       "        vertical-align: middle;\n",
       "    }\n",
       "\n",
       "    .dataframe tbody tr th {\n",
       "        vertical-align: top;\n",
       "    }\n",
       "\n",
       "    .dataframe thead th {\n",
       "        text-align: right;\n",
       "    }\n",
       "</style>\n",
       "<table border=\"1\" class=\"dataframe\">\n",
       "  <thead>\n",
       "    <tr style=\"text-align: right;\">\n",
       "      <th></th>\n",
       "      <th>title</th>\n",
       "      <th>pages</th>\n",
       "      <th>author_affiliations</th>\n",
       "      <th>year</th>\n",
       "      <th>issue</th>\n",
       "      <th>id</th>\n",
       "      <th>type</th>\n",
       "      <th>volume</th>\n",
       "      <th>journal.id</th>\n",
       "      <th>journal.title</th>\n",
       "    </tr>\n",
       "  </thead>\n",
       "  <tbody>\n",
       "    <tr>\n",
       "      <th>0</th>\n",
       "      <td>Adverse and benevolent childhood experiences i...</td>\n",
       "      <td>1793599</td>\n",
       "      <td>[[{'first_name': 'Thanos', 'last_name': 'Karat...</td>\n",
       "      <td>2020</td>\n",
       "      <td>1</td>\n",
       "      <td>pub.1130041027</td>\n",
       "      <td>article</td>\n",
       "      <td>11</td>\n",
       "      <td>jour.1045059</td>\n",
       "      <td>European Journal of Psychotraumatology</td>\n",
       "    </tr>\n",
       "    <tr>\n",
       "      <th>1</th>\n",
       "      <td>FACTORES PSICOSOCIALES ASOCIADOS A MENORES CON...</td>\n",
       "      <td>191-202</td>\n",
       "      <td>[[{'first_name': 'Rafael', 'last_name': 'Valdi...</td>\n",
       "      <td>2020</td>\n",
       "      <td>NaN</td>\n",
       "      <td>pub.1129454261</td>\n",
       "      <td>chapter</td>\n",
       "      <td>NaN</td>\n",
       "      <td>NaN</td>\n",
       "      <td>NaN</td>\n",
       "    </tr>\n",
       "    <tr>\n",
       "      <th>2</th>\n",
       "      <td>Literature</td>\n",
       "      <td>333-349</td>\n",
       "      <td>NaN</td>\n",
       "      <td>2020</td>\n",
       "      <td>NaN</td>\n",
       "      <td>pub.1125632078</td>\n",
       "      <td>chapter</td>\n",
       "      <td>NaN</td>\n",
       "      <td>NaN</td>\n",
       "      <td>NaN</td>\n",
       "    </tr>\n",
       "    <tr>\n",
       "      <th>3</th>\n",
       "      <td>To start or to complete? – Challenges in imple...</td>\n",
       "      <td>1704540</td>\n",
       "      <td>[[{'first_name': 'Mahendra M', 'last_name': 'R...</td>\n",
       "      <td>2020</td>\n",
       "      <td>1</td>\n",
       "      <td>pub.1124099280</td>\n",
       "      <td>article</td>\n",
       "      <td>13</td>\n",
       "      <td>jour.1041075</td>\n",
       "      <td>Global Health Action</td>\n",
       "    </tr>\n",
       "    <tr>\n",
       "      <th>4</th>\n",
       "      <td>Long-term trends in seasonality of mortality i...</td>\n",
       "      <td>1717411</td>\n",
       "      <td>[[{'first_name': 'Benjamin-Samuel', 'last_name...</td>\n",
       "      <td>2020</td>\n",
       "      <td>1</td>\n",
       "      <td>pub.1124649186</td>\n",
       "      <td>article</td>\n",
       "      <td>13</td>\n",
       "      <td>jour.1041075</td>\n",
       "      <td>Global Health Action</td>\n",
       "    </tr>\n",
       "    <tr>\n",
       "      <th>5</th>\n",
       "      <td>Eine Warnung an alle, dy sych etwaz duncken: D...</td>\n",
       "      <td>167-190</td>\n",
       "      <td>[[{'first_name': 'Ulla', 'last_name': 'William...</td>\n",
       "      <td>2020</td>\n",
       "      <td>NaN</td>\n",
       "      <td>pub.1125632729</td>\n",
       "      <td>chapter</td>\n",
       "      <td>NaN</td>\n",
       "      <td>NaN</td>\n",
       "      <td>NaN</td>\n",
       "    </tr>\n",
       "    <tr>\n",
       "      <th>6</th>\n",
       "      <td>Marienklagen und Pietà</td>\n",
       "      <td>241-276</td>\n",
       "      <td>[[{'first_name': 'Georg', 'last_name': 'Satzin...</td>\n",
       "      <td>2020</td>\n",
       "      <td>NaN</td>\n",
       "      <td>pub.1125635978</td>\n",
       "      <td>chapter</td>\n",
       "      <td>NaN</td>\n",
       "      <td>NaN</td>\n",
       "      <td>NaN</td>\n",
       "    </tr>\n",
       "    <tr>\n",
       "      <th>7</th>\n",
       "      <td>Johannes Taulers Via negationis</td>\n",
       "      <td>76-93</td>\n",
       "      <td>[[{'first_name': 'Walter', 'last_name': 'Haug'...</td>\n",
       "      <td>2020</td>\n",
       "      <td>NaN</td>\n",
       "      <td>pub.1125632704</td>\n",
       "      <td>chapter</td>\n",
       "      <td>NaN</td>\n",
       "      <td>NaN</td>\n",
       "      <td>NaN</td>\n",
       "    </tr>\n",
       "    <tr>\n",
       "      <th>8</th>\n",
       "      <td>Die editorische Einheit ,Textstufe'</td>\n",
       "      <td>177-194</td>\n",
       "      <td>[[{'first_name': 'Hermann', 'last_name': 'Zwer...</td>\n",
       "      <td>2020</td>\n",
       "      <td>NaN</td>\n",
       "      <td>pub.1125636152</td>\n",
       "      <td>chapter</td>\n",
       "      <td>NaN</td>\n",
       "      <td>NaN</td>\n",
       "      <td>NaN</td>\n",
       "    </tr>\n",
       "    <tr>\n",
       "      <th>9</th>\n",
       "      <td>ad Iliadis librum Ζ</td>\n",
       "      <td>123-221</td>\n",
       "      <td>NaN</td>\n",
       "      <td>2020</td>\n",
       "      <td>NaN</td>\n",
       "      <td>pub.1125636759</td>\n",
       "      <td>chapter</td>\n",
       "      <td>NaN</td>\n",
       "      <td>NaN</td>\n",
       "      <td>NaN</td>\n",
       "    </tr>\n",
       "  </tbody>\n",
       "</table>\n",
       "</div>"
      ],
      "text/plain": [
       "                                               title    pages  \\\n",
       "0  Adverse and benevolent childhood experiences i...  1793599   \n",
       "1  FACTORES PSICOSOCIALES ASOCIADOS A MENORES CON...  191-202   \n",
       "2                                         Literature  333-349   \n",
       "3  To start or to complete? – Challenges in imple...  1704540   \n",
       "4  Long-term trends in seasonality of mortality i...  1717411   \n",
       "5  Eine Warnung an alle, dy sych etwaz duncken: D...  167-190   \n",
       "6                             Marienklagen und Pietà  241-276   \n",
       "7                    Johannes Taulers Via negationis    76-93   \n",
       "8                Die editorische Einheit ,Textstufe'  177-194   \n",
       "9                                ad Iliadis librum Ζ  123-221   \n",
       "\n",
       "                                 author_affiliations  year issue  \\\n",
       "0  [[{'first_name': 'Thanos', 'last_name': 'Karat...  2020     1   \n",
       "1  [[{'first_name': 'Rafael', 'last_name': 'Valdi...  2020   NaN   \n",
       "2                                                NaN  2020   NaN   \n",
       "3  [[{'first_name': 'Mahendra M', 'last_name': 'R...  2020     1   \n",
       "4  [[{'first_name': 'Benjamin-Samuel', 'last_name...  2020     1   \n",
       "5  [[{'first_name': 'Ulla', 'last_name': 'William...  2020   NaN   \n",
       "6  [[{'first_name': 'Georg', 'last_name': 'Satzin...  2020   NaN   \n",
       "7  [[{'first_name': 'Walter', 'last_name': 'Haug'...  2020   NaN   \n",
       "8  [[{'first_name': 'Hermann', 'last_name': 'Zwer...  2020   NaN   \n",
       "9                                                NaN  2020   NaN   \n",
       "\n",
       "               id     type volume    journal.id  \\\n",
       "0  pub.1130041027  article     11  jour.1045059   \n",
       "1  pub.1129454261  chapter    NaN           NaN   \n",
       "2  pub.1125632078  chapter    NaN           NaN   \n",
       "3  pub.1124099280  article     13  jour.1041075   \n",
       "4  pub.1124649186  article     13  jour.1041075   \n",
       "5  pub.1125632729  chapter    NaN           NaN   \n",
       "6  pub.1125635978  chapter    NaN           NaN   \n",
       "7  pub.1125632704  chapter    NaN           NaN   \n",
       "8  pub.1125636152  chapter    NaN           NaN   \n",
       "9  pub.1125636759  chapter    NaN           NaN   \n",
       "\n",
       "                            journal.title  \n",
       "0  European Journal of Psychotraumatology  \n",
       "1                                     NaN  \n",
       "2                                     NaN  \n",
       "3                    Global Health Action  \n",
       "4                    Global Health Action  \n",
       "5                                     NaN  \n",
       "6                                     NaN  \n",
       "7                                     NaN  \n",
       "8                                     NaN  \n",
       "9                                     NaN  "
      ]
     },
     "execution_count": 55,
     "metadata": {},
     "output_type": "execute_result"
    }
   ],
   "source": [
    "%%dsldf \n",
    "search publications return publications limit 10"
   ]
  },
  {
   "cell_type": "markdown",
   "metadata": {
    "Collapsed": "false"
   },
   "source": [
    "If paging information is not provided, the default values\n",
    "`limit 20 skip 0` are used, so the two following queries are equivalent:"
   ]
  },
  {
   "cell_type": "markdown",
   "metadata": {
    "Collapsed": "false"
   },
   "source": [
    "Combining `limit` and `skip` across multiple queries enables paging or\n",
    "batching of results; e.g. to retrieve 30 grant records divided into 3\n",
    "pages of 10 records each, the following three queries could be used:\n",
    "\n",
    "```\n",
    "return grants limit 10           => get 1st 10 records for page 1 (skip 0, by default)\n",
    "return grants limit 10 skip 10   => get next 10 for page 2; skip the 10 we already have\n",
    "return grants limit 10 skip 20   => get another 10 for page 3, for a total of 30\n",
    "```"
   ]
  },
  {
   "cell_type": "markdown",
   "metadata": {
    "Collapsed": "false"
   },
   "source": [
    "### 5.6 Sorting Results\n",
    "\n",
    "A sort order for the results in a given `return` phrase can be specified\n",
    "with the keyword `sort by` followed by the name of \n",
    "* a `field` (in the\n",
    "case that a `source` is being requested) \n",
    "* an `indicator (aggregation)` (in the case\n",
    "that one or more facets are being requested). \n",
    "\n",
    " By default, the result set of full text\n",
    "queries ($search ... for \"full text query\"$) is sorted by \"relevance\".\n",
    "Additionally, it is possible to specify the sort order, using `asc` or\n",
    "`desc` keywords. By default, descending order is selected."
   ]
  },
  {
   "cell_type": "code",
   "execution_count": 56,
   "metadata": {
    "Collapsed": "false"
   },
   "outputs": [
    {
     "name": "stdout",
     "output_type": "stream",
     "text": [
      "Returned Grants: 5 (total = 18268)\n",
      "\u001b[2mTime: 0.51s\u001b[0m\n"
     ]
    },
    {
     "data": {
      "text/html": [
       "<div>\n",
       "<style scoped>\n",
       "    .dataframe tbody tr th:only-of-type {\n",
       "        vertical-align: middle;\n",
       "    }\n",
       "\n",
       "    .dataframe tbody tr th {\n",
       "        vertical-align: top;\n",
       "    }\n",
       "\n",
       "    .dataframe thead th {\n",
       "        text-align: right;\n",
       "    }\n",
       "</style>\n",
       "<table border=\"1\" class=\"dataframe\">\n",
       "  <thead>\n",
       "    <tr style=\"text-align: right;\">\n",
       "      <th></th>\n",
       "      <th>start_date</th>\n",
       "      <th>language</th>\n",
       "      <th>id</th>\n",
       "      <th>original_title</th>\n",
       "      <th>title_language</th>\n",
       "      <th>title</th>\n",
       "      <th>active_year</th>\n",
       "      <th>start_year</th>\n",
       "      <th>funding_org_name</th>\n",
       "      <th>project_num</th>\n",
       "      <th>funders</th>\n",
       "      <th>end_date</th>\n",
       "    </tr>\n",
       "  </thead>\n",
       "  <tbody>\n",
       "    <tr>\n",
       "      <th>0</th>\n",
       "      <td>2012-01-01</td>\n",
       "      <td>de</td>\n",
       "      <td>grant.4823271</td>\n",
       "      <td>Transmissionselektronenmikroskop</td>\n",
       "      <td>en</td>\n",
       "      <td>Transmissionselektronenmikroskop</td>\n",
       "      <td>[2012]</td>\n",
       "      <td>2012</td>\n",
       "      <td>German Research Foundation</td>\n",
       "      <td>220923099</td>\n",
       "      <td>[{'id': 'grid.424150.6', 'types': ['Facility']...</td>\n",
       "      <td>NaN</td>\n",
       "    </tr>\n",
       "    <tr>\n",
       "      <th>1</th>\n",
       "      <td>2015-01-01</td>\n",
       "      <td>en</td>\n",
       "      <td>grant.4841519</td>\n",
       "      <td>Transmissionselektronenmikroskop</td>\n",
       "      <td>en</td>\n",
       "      <td>Transmissionselektronenmikroskop</td>\n",
       "      <td>[2015]</td>\n",
       "      <td>2015</td>\n",
       "      <td>German Research Foundation</td>\n",
       "      <td>280331443</td>\n",
       "      <td>[{'id': 'grid.424150.6', 'types': ['Facility']...</td>\n",
       "      <td>NaN</td>\n",
       "    </tr>\n",
       "    <tr>\n",
       "      <th>2</th>\n",
       "      <td>2011-06-16</td>\n",
       "      <td>en</td>\n",
       "      <td>grant.6774902</td>\n",
       "      <td>Snowcontrol.</td>\n",
       "      <td>en</td>\n",
       "      <td>Snowcontrol.</td>\n",
       "      <td>[2011, 2012, 2013, 2014, 2015]</td>\n",
       "      <td>2011</td>\n",
       "      <td>Belgian Federal Science Policy Office</td>\n",
       "      <td>3E120109</td>\n",
       "      <td>[{'id': 'grid.425119.a', 'types': ['Government...</td>\n",
       "      <td>2015-06-13</td>\n",
       "    </tr>\n",
       "    <tr>\n",
       "      <th>3</th>\n",
       "      <td>2014-01-01</td>\n",
       "      <td>de</td>\n",
       "      <td>grant.4834305</td>\n",
       "      <td>Röntgenquelle</td>\n",
       "      <td>en</td>\n",
       "      <td>Röntgenquelle</td>\n",
       "      <td>[2014]</td>\n",
       "      <td>2014</td>\n",
       "      <td>German Research Foundation</td>\n",
       "      <td>245513494</td>\n",
       "      <td>[{'id': 'grid.424150.6', 'types': ['Facility']...</td>\n",
       "      <td>NaN</td>\n",
       "    </tr>\n",
       "    <tr>\n",
       "      <th>4</th>\n",
       "      <td>2015-01-01</td>\n",
       "      <td>de</td>\n",
       "      <td>grant.4839883</td>\n",
       "      <td>Röntgendiffraktometer</td>\n",
       "      <td>en</td>\n",
       "      <td>Röntgendiffraktometer</td>\n",
       "      <td>[2015]</td>\n",
       "      <td>2015</td>\n",
       "      <td>German Research Foundation</td>\n",
       "      <td>279250642</td>\n",
       "      <td>[{'id': 'grid.424150.6', 'types': ['Facility']...</td>\n",
       "      <td>NaN</td>\n",
       "    </tr>\n",
       "  </tbody>\n",
       "</table>\n",
       "</div>"
      ],
      "text/plain": [
       "   start_date language             id                    original_title  \\\n",
       "0  2012-01-01       de  grant.4823271  Transmissionselektronenmikroskop   \n",
       "1  2015-01-01       en  grant.4841519  Transmissionselektronenmikroskop   \n",
       "2  2011-06-16       en  grant.6774902                      Snowcontrol.   \n",
       "3  2014-01-01       de  grant.4834305                     Röntgenquelle   \n",
       "4  2015-01-01       de  grant.4839883             Röntgendiffraktometer   \n",
       "\n",
       "  title_language                             title  \\\n",
       "0             en  Transmissionselektronenmikroskop   \n",
       "1             en  Transmissionselektronenmikroskop   \n",
       "2             en                      Snowcontrol.   \n",
       "3             en                     Röntgenquelle   \n",
       "4             en             Röntgendiffraktometer   \n",
       "\n",
       "                      active_year  start_year  \\\n",
       "0                          [2012]        2012   \n",
       "1                          [2015]        2015   \n",
       "2  [2011, 2012, 2013, 2014, 2015]        2011   \n",
       "3                          [2014]        2014   \n",
       "4                          [2015]        2015   \n",
       "\n",
       "                        funding_org_name project_num  \\\n",
       "0             German Research Foundation   220923099   \n",
       "1             German Research Foundation   280331443   \n",
       "2  Belgian Federal Science Policy Office    3E120109   \n",
       "3             German Research Foundation   245513494   \n",
       "4             German Research Foundation   279250642   \n",
       "\n",
       "                                             funders    end_date  \n",
       "0  [{'id': 'grid.424150.6', 'types': ['Facility']...         NaN  \n",
       "1  [{'id': 'grid.424150.6', 'types': ['Facility']...         NaN  \n",
       "2  [{'id': 'grid.425119.a', 'types': ['Government...  2015-06-13  \n",
       "3  [{'id': 'grid.424150.6', 'types': ['Facility']...         NaN  \n",
       "4  [{'id': 'grid.424150.6', 'types': ['Facility']...         NaN  "
      ]
     },
     "execution_count": 56,
     "metadata": {},
     "output_type": "execute_result"
    }
   ],
   "source": [
    "%%dsldf \n",
    "search grants \n",
    "    for \"nanomaterials\"\n",
    "return grants sort by title desc limit 5 "
   ]
  },
  {
   "cell_type": "code",
   "execution_count": 57,
   "metadata": {
    "Collapsed": "false"
   },
   "outputs": [
    {
     "name": "stdout",
     "output_type": "stream",
     "text": [
      "Returned Grants: 5 (total = 18268)\n",
      "\u001b[2mTime: 0.45s\u001b[0m\n"
     ]
    },
    {
     "data": {
      "text/html": [
       "<div>\n",
       "<style scoped>\n",
       "    .dataframe tbody tr th:only-of-type {\n",
       "        vertical-align: middle;\n",
       "    }\n",
       "\n",
       "    .dataframe tbody tr th {\n",
       "        vertical-align: top;\n",
       "    }\n",
       "\n",
       "    .dataframe thead th {\n",
       "        text-align: right;\n",
       "    }\n",
       "</style>\n",
       "<table border=\"1\" class=\"dataframe\">\n",
       "  <thead>\n",
       "    <tr style=\"text-align: right;\">\n",
       "      <th></th>\n",
       "      <th>start_date</th>\n",
       "      <th>language</th>\n",
       "      <th>id</th>\n",
       "      <th>original_title</th>\n",
       "      <th>title_language</th>\n",
       "      <th>title</th>\n",
       "      <th>active_year</th>\n",
       "      <th>start_year</th>\n",
       "      <th>funding_org_name</th>\n",
       "      <th>end_date</th>\n",
       "      <th>project_num</th>\n",
       "      <th>funders</th>\n",
       "    </tr>\n",
       "  </thead>\n",
       "  <tbody>\n",
       "    <tr>\n",
       "      <th>0</th>\n",
       "      <td>2012-06-01</td>\n",
       "      <td>en</td>\n",
       "      <td>grant.3984032</td>\n",
       "      <td>Optically-active chiral nanomaterials</td>\n",
       "      <td>en</td>\n",
       "      <td>Optically-active chiral nanomaterials</td>\n",
       "      <td>[2012, 2013]</td>\n",
       "      <td>2012</td>\n",
       "      <td>Science Foundation Ireland</td>\n",
       "      <td>2013-05-31</td>\n",
       "      <td>11/W.1/I2065</td>\n",
       "      <td>[{'id': 'grid.437854.9', 'types': ['Nonprofit'...</td>\n",
       "    </tr>\n",
       "    <tr>\n",
       "      <th>1</th>\n",
       "      <td>2000-09-01</td>\n",
       "      <td>en</td>\n",
       "      <td>grant.3526883</td>\n",
       "      <td>NOVEL LANTHANIDE LUMINESCENT SYSTEMS: FROM SUP...</td>\n",
       "      <td>en</td>\n",
       "      <td>NOVEL LANTHANIDE LUMINESCENT SYSTEMS: FROM SUP...</td>\n",
       "      <td>[2000, 2001, 2002, 2003]</td>\n",
       "      <td>2000</td>\n",
       "      <td>Foundation for Science and Technology</td>\n",
       "      <td>2003-12-31</td>\n",
       "      <td>35378</td>\n",
       "      <td>[{'id': 'grid.22919.31', 'types': ['Nonprofit'...</td>\n",
       "    </tr>\n",
       "    <tr>\n",
       "      <th>2</th>\n",
       "      <td>2003-03-01</td>\n",
       "      <td>en</td>\n",
       "      <td>grant.3531153</td>\n",
       "      <td>Transport properties and electrochemical appli...</td>\n",
       "      <td>en</td>\n",
       "      <td>Transport properties and electrochemical appli...</td>\n",
       "      <td>[2003, 2004, 2005, 2006]</td>\n",
       "      <td>2003</td>\n",
       "      <td>Foundation for Science and Technology</td>\n",
       "      <td>2006-08-31</td>\n",
       "      <td>39381</td>\n",
       "      <td>[{'id': 'grid.22919.31', 'types': ['Nonprofit'...</td>\n",
       "    </tr>\n",
       "    <tr>\n",
       "      <th>3</th>\n",
       "      <td>2014-04-01</td>\n",
       "      <td>en</td>\n",
       "      <td>grant.4167216</td>\n",
       "      <td>Polymer Nanomaterials</td>\n",
       "      <td>en</td>\n",
       "      <td>Polymer Nanomaterials</td>\n",
       "      <td>[2014, 2015]</td>\n",
       "      <td>2014</td>\n",
       "      <td>Natural Sciences and Engineering Research Council</td>\n",
       "      <td>2015-03-31</td>\n",
       "      <td>557300</td>\n",
       "      <td>[{'id': 'grid.452912.9', 'types': ['Government...</td>\n",
       "    </tr>\n",
       "    <tr>\n",
       "      <th>4</th>\n",
       "      <td>2012-01-01</td>\n",
       "      <td>en</td>\n",
       "      <td>grant.4849153</td>\n",
       "      <td>Novel biocomposite nanomaterials</td>\n",
       "      <td>en</td>\n",
       "      <td>Novel biocomposite nanomaterials</td>\n",
       "      <td>[2012, 2013, 2014, 2015]</td>\n",
       "      <td>2012</td>\n",
       "      <td>Israel Science Foundation</td>\n",
       "      <td>2015-12-31</td>\n",
       "      <td>25813</td>\n",
       "      <td>[{'id': 'grid.425339.a', 'types': ['Nonprofit'...</td>\n",
       "    </tr>\n",
       "  </tbody>\n",
       "</table>\n",
       "</div>"
      ],
      "text/plain": [
       "   start_date language             id  \\\n",
       "0  2012-06-01       en  grant.3984032   \n",
       "1  2000-09-01       en  grant.3526883   \n",
       "2  2003-03-01       en  grant.3531153   \n",
       "3  2014-04-01       en  grant.4167216   \n",
       "4  2012-01-01       en  grant.4849153   \n",
       "\n",
       "                                      original_title title_language  \\\n",
       "0              Optically-active chiral nanomaterials             en   \n",
       "1  NOVEL LANTHANIDE LUMINESCENT SYSTEMS: FROM SUP...             en   \n",
       "2  Transport properties and electrochemical appli...             en   \n",
       "3                              Polymer Nanomaterials             en   \n",
       "4                   Novel biocomposite nanomaterials             en   \n",
       "\n",
       "                                               title  \\\n",
       "0              Optically-active chiral nanomaterials   \n",
       "1  NOVEL LANTHANIDE LUMINESCENT SYSTEMS: FROM SUP...   \n",
       "2  Transport properties and electrochemical appli...   \n",
       "3                              Polymer Nanomaterials   \n",
       "4                   Novel biocomposite nanomaterials   \n",
       "\n",
       "                active_year  start_year  \\\n",
       "0              [2012, 2013]        2012   \n",
       "1  [2000, 2001, 2002, 2003]        2000   \n",
       "2  [2003, 2004, 2005, 2006]        2003   \n",
       "3              [2014, 2015]        2014   \n",
       "4  [2012, 2013, 2014, 2015]        2012   \n",
       "\n",
       "                                    funding_org_name    end_date  \\\n",
       "0                         Science Foundation Ireland  2013-05-31   \n",
       "1              Foundation for Science and Technology  2003-12-31   \n",
       "2              Foundation for Science and Technology  2006-08-31   \n",
       "3  Natural Sciences and Engineering Research Council  2015-03-31   \n",
       "4                          Israel Science Foundation  2015-12-31   \n",
       "\n",
       "    project_num                                            funders  \n",
       "0  11/W.1/I2065  [{'id': 'grid.437854.9', 'types': ['Nonprofit'...  \n",
       "1         35378  [{'id': 'grid.22919.31', 'types': ['Nonprofit'...  \n",
       "2         39381  [{'id': 'grid.22919.31', 'types': ['Nonprofit'...  \n",
       "3        557300  [{'id': 'grid.452912.9', 'types': ['Government...  \n",
       "4         25813  [{'id': 'grid.425339.a', 'types': ['Nonprofit'...  "
      ]
     },
     "execution_count": 57,
     "metadata": {},
     "output_type": "execute_result"
    }
   ],
   "source": [
    "%%dsldf  \n",
    "search grants  \n",
    "    for \"nanomaterials\"\n",
    "return grants  sort by relevance desc limit 5"
   ]
  },
  {
   "cell_type": "markdown",
   "metadata": {
    "Collapsed": "false"
   },
   "source": [
    "Number of citations per publication"
   ]
  },
  {
   "cell_type": "code",
   "execution_count": 58,
   "metadata": {
    "Collapsed": "false"
   },
   "outputs": [
    {
     "name": "stdout",
     "output_type": "stream",
     "text": [
      "Returned Publications: 5 (total = 112275334)\n",
      "\u001b[2mTime: 1.70s\u001b[0m\n"
     ]
    },
    {
     "data": {
      "text/html": [
       "<div>\n",
       "<style scoped>\n",
       "    .dataframe tbody tr th:only-of-type {\n",
       "        vertical-align: middle;\n",
       "    }\n",
       "\n",
       "    .dataframe tbody tr th {\n",
       "        vertical-align: top;\n",
       "    }\n",
       "\n",
       "    .dataframe thead th {\n",
       "        text-align: right;\n",
       "    }\n",
       "</style>\n",
       "<table border=\"1\" class=\"dataframe\">\n",
       "  <thead>\n",
       "    <tr style=\"text-align: right;\">\n",
       "      <th></th>\n",
       "      <th>times_cited</th>\n",
       "      <th>doi</th>\n",
       "    </tr>\n",
       "  </thead>\n",
       "  <tbody>\n",
       "    <tr>\n",
       "      <th>0</th>\n",
       "      <td>231730</td>\n",
       "      <td>NaN</td>\n",
       "    </tr>\n",
       "    <tr>\n",
       "      <th>1</th>\n",
       "      <td>197598</td>\n",
       "      <td>10.1038/227680a0</td>\n",
       "    </tr>\n",
       "    <tr>\n",
       "      <th>2</th>\n",
       "      <td>180841</td>\n",
       "      <td>10.1016/0003-2697(76)90527-3</td>\n",
       "    </tr>\n",
       "    <tr>\n",
       "      <th>3</th>\n",
       "      <td>91278</td>\n",
       "      <td>10.1006/meth.2001.1262</td>\n",
       "    </tr>\n",
       "    <tr>\n",
       "      <th>4</th>\n",
       "      <td>85717</td>\n",
       "      <td>10.1103/physrevlett.77.3865</td>\n",
       "    </tr>\n",
       "  </tbody>\n",
       "</table>\n",
       "</div>"
      ],
      "text/plain": [
       "   times_cited                           doi\n",
       "0       231730                           NaN\n",
       "1       197598              10.1038/227680a0\n",
       "2       180841  10.1016/0003-2697(76)90527-3\n",
       "3        91278        10.1006/meth.2001.1262\n",
       "4        85717   10.1103/physrevlett.77.3865"
      ]
     },
     "execution_count": 58,
     "metadata": {},
     "output_type": "execute_result"
    }
   ],
   "source": [
    "%%dsldf  \n",
    "search publications\n",
    "return publications  [doi + times_cited] \n",
    "    sort by times_cited limit 5"
   ]
  },
  {
   "cell_type": "markdown",
   "metadata": {
    "Collapsed": "false"
   },
   "source": [
    "Recent citations per publication.\n",
    "Note: Recent citation refers to the number of citations accrued in the last two year period. A single value is stored per document and the year window rolls over in July."
   ]
  },
  {
   "cell_type": "code",
   "execution_count": 59,
   "metadata": {
    "Collapsed": "false"
   },
   "outputs": [
    {
     "name": "stdout",
     "output_type": "stream",
     "text": [
      "Returned Publications: 5 (total = 112275334)\n",
      "\u001b[2mTime: 1.24s\u001b[0m\n"
     ]
    },
    {
     "data": {
      "text/html": [
       "<div>\n",
       "<style scoped>\n",
       "    .dataframe tbody tr th:only-of-type {\n",
       "        vertical-align: middle;\n",
       "    }\n",
       "\n",
       "    .dataframe tbody tr th {\n",
       "        vertical-align: top;\n",
       "    }\n",
       "\n",
       "    .dataframe thead th {\n",
       "        text-align: right;\n",
       "    }\n",
       "</style>\n",
       "<table border=\"1\" class=\"dataframe\">\n",
       "  <thead>\n",
       "    <tr style=\"text-align: right;\">\n",
       "      <th></th>\n",
       "      <th>recent_citations</th>\n",
       "      <th>doi</th>\n",
       "    </tr>\n",
       "  </thead>\n",
       "  <tbody>\n",
       "    <tr>\n",
       "      <th>0</th>\n",
       "      <td>33085</td>\n",
       "      <td>10.1006/meth.2001.1262</td>\n",
       "    </tr>\n",
       "    <tr>\n",
       "      <th>1</th>\n",
       "      <td>25320</td>\n",
       "      <td>10.1109/cvpr.2016.90</td>\n",
       "    </tr>\n",
       "    <tr>\n",
       "      <th>2</th>\n",
       "      <td>24834</td>\n",
       "      <td>10.1103/physrevlett.77.3865</td>\n",
       "    </tr>\n",
       "    <tr>\n",
       "      <th>3</th>\n",
       "      <td>24068</td>\n",
       "      <td>10.1176/appi.books.9780890425596</td>\n",
       "    </tr>\n",
       "    <tr>\n",
       "      <th>4</th>\n",
       "      <td>23012</td>\n",
       "      <td>10.1191/1478088706qp063oa</td>\n",
       "    </tr>\n",
       "  </tbody>\n",
       "</table>\n",
       "</div>"
      ],
      "text/plain": [
       "   recent_citations                               doi\n",
       "0             33085            10.1006/meth.2001.1262\n",
       "1             25320              10.1109/cvpr.2016.90\n",
       "2             24834       10.1103/physrevlett.77.3865\n",
       "3             24068  10.1176/appi.books.9780890425596\n",
       "4             23012         10.1191/1478088706qp063oa"
      ]
     },
     "execution_count": 59,
     "metadata": {},
     "output_type": "execute_result"
    }
   ],
   "source": [
    "%%dsldf \n",
    "search publications\n",
    "return publications [doi + recent_citations]\n",
    "    sort by recent_citations limit 5"
   ]
  },
  {
   "cell_type": "markdown",
   "metadata": {
    "Collapsed": "false"
   },
   "source": [
    "When a facet is being returned, the `indicator` used in the\n",
    "`sort` phrase must either be `count` (the default, such that\n",
    "`sort by count` is unnecessary), or one of the indicators specified in\n",
    "the `aggregate` phrase, i.e. one whose values are being computed in the\n",
    "faceting operation. \n"
   ]
  },
  {
   "cell_type": "code",
   "execution_count": 60,
   "metadata": {
    "Collapsed": "false"
   },
   "outputs": [
    {
     "name": "stdout",
     "output_type": "stream",
     "text": [
      "Returned Research_orgs: 5\n",
      "\u001b[2mTime: 3.12s\u001b[0m\n"
     ]
    },
    {
     "data": {
      "text/html": [
       "<div>\n",
       "<style scoped>\n",
       "    .dataframe tbody tr th:only-of-type {\n",
       "        vertical-align: middle;\n",
       "    }\n",
       "\n",
       "    .dataframe tbody tr th {\n",
       "        vertical-align: top;\n",
       "    }\n",
       "\n",
       "    .dataframe thead th {\n",
       "        text-align: right;\n",
       "    }\n",
       "</style>\n",
       "<table border=\"1\" class=\"dataframe\">\n",
       "  <thead>\n",
       "    <tr style=\"text-align: right;\">\n",
       "      <th></th>\n",
       "      <th>id</th>\n",
       "      <th>count</th>\n",
       "      <th>rcr_avg</th>\n",
       "      <th>altmetric_median</th>\n",
       "      <th>types</th>\n",
       "      <th>name</th>\n",
       "      <th>latitude</th>\n",
       "      <th>longitude</th>\n",
       "      <th>linkout</th>\n",
       "      <th>city_name</th>\n",
       "      <th>country_name</th>\n",
       "      <th>acronym</th>\n",
       "      <th>state_name</th>\n",
       "    </tr>\n",
       "  </thead>\n",
       "  <tbody>\n",
       "    <tr>\n",
       "      <th>0</th>\n",
       "      <td>grid.11444.34</td>\n",
       "      <td>1</td>\n",
       "      <td>207.399994</td>\n",
       "      <td>345.0</td>\n",
       "      <td>[Facility]</td>\n",
       "      <td>Shanghai Institute of Hypertension</td>\n",
       "      <td>31.211678</td>\n",
       "      <td>121.467255</td>\n",
       "      <td>[http://www.china-sih.com/]</td>\n",
       "      <td>Shanghai</td>\n",
       "      <td>China</td>\n",
       "      <td>NaN</td>\n",
       "      <td>NaN</td>\n",
       "    </tr>\n",
       "    <tr>\n",
       "      <th>1</th>\n",
       "      <td>grid.11485.39</td>\n",
       "      <td>1</td>\n",
       "      <td>207.399994</td>\n",
       "      <td>345.0</td>\n",
       "      <td>[Nonprofit]</td>\n",
       "      <td>Cancer Research UK</td>\n",
       "      <td>51.531322</td>\n",
       "      <td>-0.106269</td>\n",
       "      <td>[http://www.cancerresearchuk.org/]</td>\n",
       "      <td>London</td>\n",
       "      <td>United Kingdom</td>\n",
       "      <td>CRUK</td>\n",
       "      <td>NaN</td>\n",
       "    </tr>\n",
       "    <tr>\n",
       "      <th>2</th>\n",
       "      <td>grid.11642.30</td>\n",
       "      <td>1</td>\n",
       "      <td>207.399994</td>\n",
       "      <td>345.0</td>\n",
       "      <td>[Education]</td>\n",
       "      <td>University of La Réunion</td>\n",
       "      <td>-20.901735</td>\n",
       "      <td>55.484550</td>\n",
       "      <td>[http://www.univ-reunion.fr/university-of-reun...</td>\n",
       "      <td>Saint-Denis</td>\n",
       "      <td>Reunion</td>\n",
       "      <td>NaN</td>\n",
       "      <td>NaN</td>\n",
       "    </tr>\n",
       "    <tr>\n",
       "      <th>3</th>\n",
       "      <td>grid.120073.7</td>\n",
       "      <td>1</td>\n",
       "      <td>207.399994</td>\n",
       "      <td>345.0</td>\n",
       "      <td>[Healthcare]</td>\n",
       "      <td>Addenbrooke's Hospital</td>\n",
       "      <td>52.176000</td>\n",
       "      <td>0.140000</td>\n",
       "      <td>[http://www.cuh.org.uk/addenbrookes-hospital]</td>\n",
       "      <td>Cambridge</td>\n",
       "      <td>United Kingdom</td>\n",
       "      <td>NaN</td>\n",
       "      <td>Cambridgeshire</td>\n",
       "    </tr>\n",
       "    <tr>\n",
       "      <th>4</th>\n",
       "      <td>grid.20931.39</td>\n",
       "      <td>1</td>\n",
       "      <td>207.399994</td>\n",
       "      <td>345.0</td>\n",
       "      <td>[Education]</td>\n",
       "      <td>Royal Veterinary College</td>\n",
       "      <td>51.536800</td>\n",
       "      <td>-0.134000</td>\n",
       "      <td>[http://www.rvc.ac.uk/]</td>\n",
       "      <td>London</td>\n",
       "      <td>United Kingdom</td>\n",
       "      <td>RVC</td>\n",
       "      <td>NaN</td>\n",
       "    </tr>\n",
       "  </tbody>\n",
       "</table>\n",
       "</div>"
      ],
      "text/plain": [
       "              id  count     rcr_avg  altmetric_median         types  \\\n",
       "0  grid.11444.34      1  207.399994             345.0    [Facility]   \n",
       "1  grid.11485.39      1  207.399994             345.0   [Nonprofit]   \n",
       "2  grid.11642.30      1  207.399994             345.0   [Education]   \n",
       "3  grid.120073.7      1  207.399994             345.0  [Healthcare]   \n",
       "4  grid.20931.39      1  207.399994             345.0   [Education]   \n",
       "\n",
       "                                 name   latitude   longitude  \\\n",
       "0  Shanghai Institute of Hypertension  31.211678  121.467255   \n",
       "1                  Cancer Research UK  51.531322   -0.106269   \n",
       "2            University of La Réunion -20.901735   55.484550   \n",
       "3              Addenbrooke's Hospital  52.176000    0.140000   \n",
       "4            Royal Veterinary College  51.536800   -0.134000   \n",
       "\n",
       "                                             linkout    city_name  \\\n",
       "0                        [http://www.china-sih.com/]     Shanghai   \n",
       "1                 [http://www.cancerresearchuk.org/]       London   \n",
       "2  [http://www.univ-reunion.fr/university-of-reun...  Saint-Denis   \n",
       "3      [http://www.cuh.org.uk/addenbrookes-hospital]    Cambridge   \n",
       "4                            [http://www.rvc.ac.uk/]       London   \n",
       "\n",
       "     country_name acronym      state_name  \n",
       "0           China     NaN             NaN  \n",
       "1  United Kingdom    CRUK             NaN  \n",
       "2         Reunion     NaN             NaN  \n",
       "3  United Kingdom     NaN  Cambridgeshire  \n",
       "4  United Kingdom     RVC             NaN  "
      ]
     },
     "execution_count": 60,
     "metadata": {},
     "output_type": "execute_result"
    }
   ],
   "source": [
    "%%dsldf \n",
    "search publications \n",
    "    for \"nanomaterials\"\n",
    "return research_orgs \n",
    "    aggregate altmetric_median, rcr_avg sort by rcr_avg limit 5 "
   ]
  },
  {
   "cell_type": "markdown",
   "metadata": {
    "Collapsed": "false"
   },
   "source": [
    "## 6. Aggregations\n",
    "\n",
    "In a `return` phrase requesting one or more `facet` results, aggregation\n",
    "operations to perform during faceting can be specified after the facet\n",
    "name(s) by using the keyword `aggregate` followed by a comma-separated\n",
    "list of one or more `indicator` names corresponding to the `source`\n",
    "being searched."
   ]
  },
  {
   "cell_type": "code",
   "execution_count": 61,
   "metadata": {
    "Collapsed": "false"
   },
   "outputs": [
    {
     "name": "stdout",
     "output_type": "stream",
     "text": [
      "Returned Research_orgs: 5\n",
      "\u001b[2mTime: 14.61s\u001b[0m\n"
     ]
    },
    {
     "data": {
      "text/html": [
       "<div>\n",
       "<style scoped>\n",
       "    .dataframe tbody tr th:only-of-type {\n",
       "        vertical-align: middle;\n",
       "    }\n",
       "\n",
       "    .dataframe tbody tr th {\n",
       "        vertical-align: top;\n",
       "    }\n",
       "\n",
       "    .dataframe thead th {\n",
       "        text-align: right;\n",
       "    }\n",
       "</style>\n",
       "<table border=\"1\" class=\"dataframe\">\n",
       "  <thead>\n",
       "    <tr style=\"text-align: right;\">\n",
       "      <th></th>\n",
       "      <th>id</th>\n",
       "      <th>count</th>\n",
       "      <th>rcr_avg</th>\n",
       "      <th>altmetric_median</th>\n",
       "      <th>name</th>\n",
       "      <th>latitude</th>\n",
       "      <th>state_name</th>\n",
       "      <th>types</th>\n",
       "      <th>linkout</th>\n",
       "      <th>country_name</th>\n",
       "      <th>longitude</th>\n",
       "      <th>city_name</th>\n",
       "      <th>acronym</th>\n",
       "    </tr>\n",
       "  </thead>\n",
       "  <tbody>\n",
       "    <tr>\n",
       "      <th>0</th>\n",
       "      <td>grid.17063.33</td>\n",
       "      <td>146656</td>\n",
       "      <td>1.701046</td>\n",
       "      <td>4.000000</td>\n",
       "      <td>University of Toronto</td>\n",
       "      <td>43.661667</td>\n",
       "      <td>Ontario</td>\n",
       "      <td>[Education]</td>\n",
       "      <td>[http://www.utoronto.ca/]</td>\n",
       "      <td>Canada</td>\n",
       "      <td>-79.395000</td>\n",
       "      <td>Toronto</td>\n",
       "      <td>NaN</td>\n",
       "    </tr>\n",
       "    <tr>\n",
       "      <th>1</th>\n",
       "      <td>grid.38142.3c</td>\n",
       "      <td>144250</td>\n",
       "      <td>2.230168</td>\n",
       "      <td>5.132735</td>\n",
       "      <td>Harvard University</td>\n",
       "      <td>42.377052</td>\n",
       "      <td>Massachusetts</td>\n",
       "      <td>[Education]</td>\n",
       "      <td>[http://www.harvard.edu/]</td>\n",
       "      <td>United States</td>\n",
       "      <td>-71.116650</td>\n",
       "      <td>Cambridge</td>\n",
       "      <td>NaN</td>\n",
       "    </tr>\n",
       "    <tr>\n",
       "      <th>2</th>\n",
       "      <td>grid.11899.38</td>\n",
       "      <td>138910</td>\n",
       "      <td>1.050863</td>\n",
       "      <td>2.000000</td>\n",
       "      <td>University of São Paulo</td>\n",
       "      <td>-23.563051</td>\n",
       "      <td>NaN</td>\n",
       "      <td>[Education]</td>\n",
       "      <td>[http://www5.usp.br/en/]</td>\n",
       "      <td>Brazil</td>\n",
       "      <td>-46.730103</td>\n",
       "      <td>São Paulo</td>\n",
       "      <td>USP</td>\n",
       "    </tr>\n",
       "    <tr>\n",
       "      <th>3</th>\n",
       "      <td>grid.83440.3b</td>\n",
       "      <td>126466</td>\n",
       "      <td>1.914593</td>\n",
       "      <td>4.000000</td>\n",
       "      <td>University College London</td>\n",
       "      <td>51.524470</td>\n",
       "      <td>NaN</td>\n",
       "      <td>[Education]</td>\n",
       "      <td>[http://www.ucl.ac.uk/]</td>\n",
       "      <td>United Kingdom</td>\n",
       "      <td>-0.133982</td>\n",
       "      <td>London</td>\n",
       "      <td>UCL</td>\n",
       "    </tr>\n",
       "    <tr>\n",
       "      <th>4</th>\n",
       "      <td>grid.26999.3d</td>\n",
       "      <td>122350</td>\n",
       "      <td>1.185757</td>\n",
       "      <td>2.000000</td>\n",
       "      <td>University of Tokyo</td>\n",
       "      <td>35.713333</td>\n",
       "      <td>NaN</td>\n",
       "      <td>[Education]</td>\n",
       "      <td>[http://www.u-tokyo.ac.jp/en/]</td>\n",
       "      <td>Japan</td>\n",
       "      <td>139.762220</td>\n",
       "      <td>Tokyo</td>\n",
       "      <td>UT</td>\n",
       "    </tr>\n",
       "  </tbody>\n",
       "</table>\n",
       "</div>"
      ],
      "text/plain": [
       "              id   count   rcr_avg  altmetric_median  \\\n",
       "0  grid.17063.33  146656  1.701046          4.000000   \n",
       "1  grid.38142.3c  144250  2.230168          5.132735   \n",
       "2  grid.11899.38  138910  1.050863          2.000000   \n",
       "3  grid.83440.3b  126466  1.914593          4.000000   \n",
       "4  grid.26999.3d  122350  1.185757          2.000000   \n",
       "\n",
       "                        name   latitude     state_name        types  \\\n",
       "0      University of Toronto  43.661667        Ontario  [Education]   \n",
       "1         Harvard University  42.377052  Massachusetts  [Education]   \n",
       "2    University of São Paulo -23.563051            NaN  [Education]   \n",
       "3  University College London  51.524470            NaN  [Education]   \n",
       "4        University of Tokyo  35.713333            NaN  [Education]   \n",
       "\n",
       "                          linkout    country_name   longitude  city_name  \\\n",
       "0       [http://www.utoronto.ca/]          Canada  -79.395000    Toronto   \n",
       "1       [http://www.harvard.edu/]   United States  -71.116650  Cambridge   \n",
       "2        [http://www5.usp.br/en/]          Brazil  -46.730103  São Paulo   \n",
       "3         [http://www.ucl.ac.uk/]  United Kingdom   -0.133982     London   \n",
       "4  [http://www.u-tokyo.ac.jp/en/]           Japan  139.762220      Tokyo   \n",
       "\n",
       "  acronym  \n",
       "0     NaN  \n",
       "1     NaN  \n",
       "2     USP  \n",
       "3     UCL  \n",
       "4      UT  "
      ]
     },
     "execution_count": 61,
     "metadata": {},
     "output_type": "execute_result"
    }
   ],
   "source": [
    "%%dsldf\n",
    "search publications \n",
    "    where year > 2010 \n",
    "return research_orgs  \n",
    "    aggregate rcr_avg, altmetric_median limit 5"
   ]
  },
  {
   "cell_type": "markdown",
   "metadata": {
    "Collapsed": "false"
   },
   "source": [
    "**What are the metrics/aggregations available?** See the data sources documentation for information about available [indicators](https://docs.dimensions.ai/dsl/datasource-publications.html#publications-indicators).  \n",
    "\n",
    "Alternatively, we can use the 'schema' API ([describe](https://docs.dimensions.ai/dsl/data-sources.html#metadata-api)) to return this information programmatically:"
   ]
  },
  {
   "cell_type": "code",
   "execution_count": 62,
   "metadata": {
    "Collapsed": "false"
   },
   "outputs": [
    {
     "name": "stdout",
     "output_type": "stream",
     "text": [
      "SOURCE: publications\n",
      "-- count  =>  Total count\n",
      "-- altmetric_median  =>  Median Altmetric attention score\n",
      "-- altmetric_avg  =>  Altmetric attention score mean\n",
      "-- citations_total  =>  Aggregated number of citations\n",
      "-- citations_avg  =>  Arithmetic mean of citations\n",
      "-- citations_median  =>  Median of citations\n",
      "-- recent_citations_total  =>  For a given article, in a given year, the number of citations accrued in the last two year period. Single value stored per document, year window rolls over in July.\n",
      "-- rcr_avg  =>  Arithmetic mean of `relative_citation_ratio` field.\n",
      "-- fcr_gavg  =>  Geometric mean of `field_citation_ratio` field (note: This field cannot be used for sorting results).\n",
      "SOURCE: grants\n",
      "-- count  =>  Total count\n",
      "-- funding  =>  Total funding amount, in USD.\n",
      "SOURCE: patents\n",
      "-- count  =>  Total count\n",
      "SOURCE: clinical_trials\n",
      "-- count  =>  Total count\n",
      "SOURCE: policy_documents\n",
      "-- count  =>  Total count\n",
      "SOURCE: researchers\n",
      "-- count  =>  Total count\n",
      "SOURCE: organizations\n",
      "-- count  =>  Total count\n",
      "SOURCE: datasets\n",
      "-- count  =>  Total count\n"
     ]
    }
   ],
   "source": [
    "schema = dsl.query(\"describe schema\")\n",
    "sources = [x for x in schema['sources']]\n",
    "# for each source name, extract metrics info\n",
    "for s in sources:\n",
    "    print(\"SOURCE:\", s)\n",
    "    for m in schema['sources'][s]['metrics']:\n",
    "        print(\"--\", schema['sources'][s]['metrics'][m]['name'], \" => \", schema['sources'][s]['metrics'][m]['description'], )"
   ]
  },
  {
   "cell_type": "markdown",
   "metadata": {
    "Collapsed": "false"
   },
   "source": [
    "**NOTE** In addition to any specified aggregations, `count` is always computed\n",
    "and reported when facet results are requested."
   ]
  },
  {
   "cell_type": "code",
   "execution_count": 63,
   "metadata": {
    "Collapsed": "false"
   },
   "outputs": [
    {
     "name": "stdout",
     "output_type": "stream",
     "text": [
      "Returned Funders: 5\n",
      "\u001b[2mTime: 0.47s\u001b[0m\n"
     ]
    },
    {
     "data": {
      "text/html": [
       "<div>\n",
       "<style scoped>\n",
       "    .dataframe tbody tr th:only-of-type {\n",
       "        vertical-align: middle;\n",
       "    }\n",
       "\n",
       "    .dataframe tbody tr th {\n",
       "        vertical-align: top;\n",
       "    }\n",
       "\n",
       "    .dataframe thead th {\n",
       "        text-align: right;\n",
       "    }\n",
       "</style>\n",
       "<table border=\"1\" class=\"dataframe\">\n",
       "  <thead>\n",
       "    <tr style=\"text-align: right;\">\n",
       "      <th></th>\n",
       "      <th>id</th>\n",
       "      <th>count</th>\n",
       "      <th>funding</th>\n",
       "      <th>types</th>\n",
       "      <th>name</th>\n",
       "      <th>latitude</th>\n",
       "      <th>longitude</th>\n",
       "      <th>linkout</th>\n",
       "      <th>city_name</th>\n",
       "      <th>country_name</th>\n",
       "      <th>acronym</th>\n",
       "      <th>state_name</th>\n",
       "    </tr>\n",
       "  </thead>\n",
       "  <tbody>\n",
       "    <tr>\n",
       "      <th>0</th>\n",
       "      <td>grid.270680.b</td>\n",
       "      <td>194</td>\n",
       "      <td>923867691.0</td>\n",
       "      <td>[Government]</td>\n",
       "      <td>European Commission</td>\n",
       "      <td>50.851650</td>\n",
       "      <td>4.363670</td>\n",
       "      <td>[http://ec.europa.eu/index_en.htm]</td>\n",
       "      <td>Brussels</td>\n",
       "      <td>Belgium</td>\n",
       "      <td>EC</td>\n",
       "      <td>NaN</td>\n",
       "    </tr>\n",
       "    <tr>\n",
       "      <th>1</th>\n",
       "      <td>grid.421091.f</td>\n",
       "      <td>69</td>\n",
       "      <td>53295321.0</td>\n",
       "      <td>[Government]</td>\n",
       "      <td>Engineering and Physical Sciences Research Cou...</td>\n",
       "      <td>51.567093</td>\n",
       "      <td>-1.784602</td>\n",
       "      <td>[https://www.epsrc.ac.uk/]</td>\n",
       "      <td>Swindon</td>\n",
       "      <td>United Kingdom</td>\n",
       "      <td>EPSRC</td>\n",
       "      <td>England</td>\n",
       "    </tr>\n",
       "    <tr>\n",
       "      <th>2</th>\n",
       "      <td>grid.457785.c</td>\n",
       "      <td>113</td>\n",
       "      <td>51989327.0</td>\n",
       "      <td>[Government]</td>\n",
       "      <td>Directorate for Computer &amp; Information Science...</td>\n",
       "      <td>38.880580</td>\n",
       "      <td>-77.111000</td>\n",
       "      <td>[http://www.nsf.gov/dir/index.jsp?org=CISE]</td>\n",
       "      <td>Arlington</td>\n",
       "      <td>United States</td>\n",
       "      <td>NSF CISE</td>\n",
       "      <td>Virginia</td>\n",
       "    </tr>\n",
       "    <tr>\n",
       "      <th>3</th>\n",
       "      <td>grid.55047.33</td>\n",
       "      <td>8</td>\n",
       "      <td>50109038.0</td>\n",
       "      <td>[Government]</td>\n",
       "      <td>National Centre for Research and Development</td>\n",
       "      <td>52.227455</td>\n",
       "      <td>21.007630</td>\n",
       "      <td>[http://www.ncbr.gov.pl/en/]</td>\n",
       "      <td>Warsaw</td>\n",
       "      <td>Poland</td>\n",
       "      <td>NCRD</td>\n",
       "      <td>NaN</td>\n",
       "    </tr>\n",
       "    <tr>\n",
       "      <th>4</th>\n",
       "      <td>grid.453115.7</td>\n",
       "      <td>33</td>\n",
       "      <td>29462562.0</td>\n",
       "      <td>[Government]</td>\n",
       "      <td>Innovation and Technology Commission</td>\n",
       "      <td>22.282640</td>\n",
       "      <td>114.166580</td>\n",
       "      <td>[http://www.itc.gov.hk/en/about/org.htm]</td>\n",
       "      <td>Hong Kong</td>\n",
       "      <td>China</td>\n",
       "      <td>ITC</td>\n",
       "      <td>NaN</td>\n",
       "    </tr>\n",
       "  </tbody>\n",
       "</table>\n",
       "</div>"
      ],
      "text/plain": [
       "              id  count      funding         types  \\\n",
       "0  grid.270680.b    194  923867691.0  [Government]   \n",
       "1  grid.421091.f     69   53295321.0  [Government]   \n",
       "2  grid.457785.c    113   51989327.0  [Government]   \n",
       "3  grid.55047.33      8   50109038.0  [Government]   \n",
       "4  grid.453115.7     33   29462562.0  [Government]   \n",
       "\n",
       "                                                name   latitude   longitude  \\\n",
       "0                                European Commission  50.851650    4.363670   \n",
       "1  Engineering and Physical Sciences Research Cou...  51.567093   -1.784602   \n",
       "2  Directorate for Computer & Information Science...  38.880580  -77.111000   \n",
       "3       National Centre for Research and Development  52.227455   21.007630   \n",
       "4               Innovation and Technology Commission  22.282640  114.166580   \n",
       "\n",
       "                                       linkout  city_name    country_name  \\\n",
       "0           [http://ec.europa.eu/index_en.htm]   Brussels         Belgium   \n",
       "1                   [https://www.epsrc.ac.uk/]    Swindon  United Kingdom   \n",
       "2  [http://www.nsf.gov/dir/index.jsp?org=CISE]  Arlington   United States   \n",
       "3                 [http://www.ncbr.gov.pl/en/]     Warsaw          Poland   \n",
       "4     [http://www.itc.gov.hk/en/about/org.htm]  Hong Kong           China   \n",
       "\n",
       "    acronym state_name  \n",
       "0        EC        NaN  \n",
       "1     EPSRC    England  \n",
       "2  NSF CISE   Virginia  \n",
       "3      NCRD        NaN  \n",
       "4       ITC        NaN  "
      ]
     },
     "execution_count": 63,
     "metadata": {},
     "output_type": "execute_result"
    }
   ],
   "source": [
    "%%dsldf\n",
    "search grants \n",
    "    for \"5g network\" \n",
    "return funders \n",
    "    aggregate count, funding sort by funding limit 5 "
   ]
  },
  {
   "cell_type": "markdown",
   "metadata": {
    "Collapsed": "false"
   },
   "source": [
    "Aggregated total number of citations"
   ]
  },
  {
   "cell_type": "code",
   "execution_count": 64,
   "metadata": {
    "Collapsed": "false"
   },
   "outputs": [
    {
     "name": "stdout",
     "output_type": "stream",
     "text": [
      "Returned Funders: 5\n",
      "\u001b[2mTime: 1.18s\u001b[0m\n"
     ]
    },
    {
     "data": {
      "text/html": [
       "<div>\n",
       "<style scoped>\n",
       "    .dataframe tbody tr th:only-of-type {\n",
       "        vertical-align: middle;\n",
       "    }\n",
       "\n",
       "    .dataframe tbody tr th {\n",
       "        vertical-align: top;\n",
       "    }\n",
       "\n",
       "    .dataframe thead th {\n",
       "        text-align: right;\n",
       "    }\n",
       "</style>\n",
       "<table border=\"1\" class=\"dataframe\">\n",
       "  <thead>\n",
       "    <tr style=\"text-align: right;\">\n",
       "      <th></th>\n",
       "      <th>id</th>\n",
       "      <th>count</th>\n",
       "      <th>citations_total</th>\n",
       "      <th>types</th>\n",
       "      <th>name</th>\n",
       "      <th>latitude</th>\n",
       "      <th>longitude</th>\n",
       "      <th>linkout</th>\n",
       "      <th>city_name</th>\n",
       "      <th>country_name</th>\n",
       "      <th>state_name</th>\n",
       "      <th>acronym</th>\n",
       "    </tr>\n",
       "  </thead>\n",
       "  <tbody>\n",
       "    <tr>\n",
       "      <th>0</th>\n",
       "      <td>grid.48336.3a</td>\n",
       "      <td>13207</td>\n",
       "      <td>864977.0</td>\n",
       "      <td>[Government]</td>\n",
       "      <td>National Cancer Institute</td>\n",
       "      <td>39.004326</td>\n",
       "      <td>-77.101190</td>\n",
       "      <td>[http://www.cancer.gov/]</td>\n",
       "      <td>Rockville</td>\n",
       "      <td>United States</td>\n",
       "      <td>Maryland</td>\n",
       "      <td>NCI</td>\n",
       "    </tr>\n",
       "    <tr>\n",
       "      <th>1</th>\n",
       "      <td>grid.280785.0</td>\n",
       "      <td>12900</td>\n",
       "      <td>830574.0</td>\n",
       "      <td>[Facility]</td>\n",
       "      <td>National Institute of General Medical Sciences</td>\n",
       "      <td>38.997833</td>\n",
       "      <td>-77.099380</td>\n",
       "      <td>[http://www.nigms.nih.gov/Pages/default.aspx]</td>\n",
       "      <td>Bethesda</td>\n",
       "      <td>United States</td>\n",
       "      <td>Maryland</td>\n",
       "      <td>NIGMS</td>\n",
       "    </tr>\n",
       "    <tr>\n",
       "      <th>2</th>\n",
       "      <td>grid.280128.1</td>\n",
       "      <td>4857</td>\n",
       "      <td>608945.0</td>\n",
       "      <td>[Facility]</td>\n",
       "      <td>National Human Genome Research Institute</td>\n",
       "      <td>38.996967</td>\n",
       "      <td>-77.096930</td>\n",
       "      <td>[https://www.genome.gov/]</td>\n",
       "      <td>Bethesda</td>\n",
       "      <td>United States</td>\n",
       "      <td>Maryland</td>\n",
       "      <td>NHGRI</td>\n",
       "    </tr>\n",
       "    <tr>\n",
       "      <th>3</th>\n",
       "      <td>grid.270680.b</td>\n",
       "      <td>19178</td>\n",
       "      <td>588854.0</td>\n",
       "      <td>[Government]</td>\n",
       "      <td>European Commission</td>\n",
       "      <td>50.851650</td>\n",
       "      <td>4.363670</td>\n",
       "      <td>[http://ec.europa.eu/index_en.htm]</td>\n",
       "      <td>Brussels</td>\n",
       "      <td>Belgium</td>\n",
       "      <td>NaN</td>\n",
       "      <td>EC</td>\n",
       "    </tr>\n",
       "    <tr>\n",
       "      <th>4</th>\n",
       "      <td>grid.52788.30</td>\n",
       "      <td>5530</td>\n",
       "      <td>447416.0</td>\n",
       "      <td>[Nonprofit]</td>\n",
       "      <td>Wellcome Trust</td>\n",
       "      <td>51.525867</td>\n",
       "      <td>-0.135005</td>\n",
       "      <td>[http://www.wellcome.ac.uk/]</td>\n",
       "      <td>London</td>\n",
       "      <td>United Kingdom</td>\n",
       "      <td>NaN</td>\n",
       "      <td>WT</td>\n",
       "    </tr>\n",
       "  </tbody>\n",
       "</table>\n",
       "</div>"
      ],
      "text/plain": [
       "              id  count  citations_total         types  \\\n",
       "0  grid.48336.3a  13207         864977.0  [Government]   \n",
       "1  grid.280785.0  12900         830574.0    [Facility]   \n",
       "2  grid.280128.1   4857         608945.0    [Facility]   \n",
       "3  grid.270680.b  19178         588854.0  [Government]   \n",
       "4  grid.52788.30   5530         447416.0   [Nonprofit]   \n",
       "\n",
       "                                             name   latitude  longitude  \\\n",
       "0                       National Cancer Institute  39.004326 -77.101190   \n",
       "1  National Institute of General Medical Sciences  38.997833 -77.099380   \n",
       "2        National Human Genome Research Institute  38.996967 -77.096930   \n",
       "3                             European Commission  50.851650   4.363670   \n",
       "4                                  Wellcome Trust  51.525867  -0.135005   \n",
       "\n",
       "                                         linkout  city_name    country_name  \\\n",
       "0                       [http://www.cancer.gov/]  Rockville   United States   \n",
       "1  [http://www.nigms.nih.gov/Pages/default.aspx]   Bethesda   United States   \n",
       "2                      [https://www.genome.gov/]   Bethesda   United States   \n",
       "3             [http://ec.europa.eu/index_en.htm]   Brussels         Belgium   \n",
       "4                   [http://www.wellcome.ac.uk/]     London  United Kingdom   \n",
       "\n",
       "  state_name acronym  \n",
       "0   Maryland     NCI  \n",
       "1   Maryland   NIGMS  \n",
       "2   Maryland   NHGRI  \n",
       "3        NaN      EC  \n",
       "4        NaN      WT  "
      ]
     },
     "execution_count": 64,
     "metadata": {},
     "output_type": "execute_result"
    }
   ],
   "source": [
    "%%dsldf\n",
    "search publications\n",
    "    for \"ontologies\"\n",
    "return funders \n",
    "    aggregate citations_total \n",
    "    sort by citations_total  limit 5"
   ]
  },
  {
   "cell_type": "markdown",
   "metadata": {
    "Collapsed": "false"
   },
   "source": [
    "Arithmetic mean number of citations"
   ]
  },
  {
   "cell_type": "code",
   "execution_count": 65,
   "metadata": {
    "Collapsed": "false"
   },
   "outputs": [
    {
     "name": "stdout",
     "output_type": "stream",
     "text": [
      "Returned Funders: 5\n",
      "\u001b[2mTime: 2.17s\u001b[0m\n"
     ]
    },
    {
     "data": {
      "text/html": [
       "<div>\n",
       "<style scoped>\n",
       "    .dataframe tbody tr th:only-of-type {\n",
       "        vertical-align: middle;\n",
       "    }\n",
       "\n",
       "    .dataframe tbody tr th {\n",
       "        vertical-align: top;\n",
       "    }\n",
       "\n",
       "    .dataframe thead th {\n",
       "        text-align: right;\n",
       "    }\n",
       "</style>\n",
       "<table border=\"1\" class=\"dataframe\">\n",
       "  <thead>\n",
       "    <tr style=\"text-align: right;\">\n",
       "      <th></th>\n",
       "      <th>id</th>\n",
       "      <th>count</th>\n",
       "      <th>citations_avg</th>\n",
       "      <th>name</th>\n",
       "      <th>latitude</th>\n",
       "      <th>state_name</th>\n",
       "      <th>types</th>\n",
       "      <th>linkout</th>\n",
       "      <th>country_name</th>\n",
       "      <th>longitude</th>\n",
       "      <th>city_name</th>\n",
       "      <th>acronym</th>\n",
       "    </tr>\n",
       "  </thead>\n",
       "  <tbody>\n",
       "    <tr>\n",
       "      <th>0</th>\n",
       "      <td>grid.478308.0</td>\n",
       "      <td>185</td>\n",
       "      <td>260.870270</td>\n",
       "      <td>Alexander &amp; Margaret Stewart Trust</td>\n",
       "      <td>38.901160</td>\n",
       "      <td>District of Columbia</td>\n",
       "      <td>[Nonprofit]</td>\n",
       "      <td>[http://www.stewart-trust.org/]</td>\n",
       "      <td>United States</td>\n",
       "      <td>-77.039730</td>\n",
       "      <td>Washington D.C.</td>\n",
       "      <td>NaN</td>\n",
       "    </tr>\n",
       "    <tr>\n",
       "      <th>1</th>\n",
       "      <td>grid.453780.d</td>\n",
       "      <td>144</td>\n",
       "      <td>190.722222</td>\n",
       "      <td>Accelerate Brain Cancer Cure</td>\n",
       "      <td>38.906720</td>\n",
       "      <td>District of Columbia</td>\n",
       "      <td>[Nonprofit]</td>\n",
       "      <td>[http://www.abc2.org/]</td>\n",
       "      <td>United States</td>\n",
       "      <td>-77.039520</td>\n",
       "      <td>Washington D.C.</td>\n",
       "      <td>NaN</td>\n",
       "    </tr>\n",
       "    <tr>\n",
       "      <th>2</th>\n",
       "      <td>grid.478789.d</td>\n",
       "      <td>586</td>\n",
       "      <td>168.203072</td>\n",
       "      <td>Donald W. Reynolds Foundation</td>\n",
       "      <td>36.190460</td>\n",
       "      <td>Nevada</td>\n",
       "      <td>[Other]</td>\n",
       "      <td>[http://www.dwreynolds.org/]</td>\n",
       "      <td>United States</td>\n",
       "      <td>-115.299850</td>\n",
       "      <td>Las Vegas</td>\n",
       "      <td>NaN</td>\n",
       "    </tr>\n",
       "    <tr>\n",
       "      <th>3</th>\n",
       "      <td>grid.417710.4</td>\n",
       "      <td>182</td>\n",
       "      <td>164.719780</td>\n",
       "      <td>Human Genome Sciences (United States)</td>\n",
       "      <td>39.096650</td>\n",
       "      <td>Maryland</td>\n",
       "      <td>[Company]</td>\n",
       "      <td>[http://www.hgsi.com]</td>\n",
       "      <td>United States</td>\n",
       "      <td>-77.203760</td>\n",
       "      <td>Rockville</td>\n",
       "      <td>NaN</td>\n",
       "    </tr>\n",
       "    <tr>\n",
       "      <th>4</th>\n",
       "      <td>grid.484432.d</td>\n",
       "      <td>1</td>\n",
       "      <td>150.000000</td>\n",
       "      <td>Macmillan Cancer Support</td>\n",
       "      <td>51.488003</td>\n",
       "      <td>NaN</td>\n",
       "      <td>[Nonprofit]</td>\n",
       "      <td>[https://www.macmillan.org.uk/]</td>\n",
       "      <td>United Kingdom</td>\n",
       "      <td>-0.123164</td>\n",
       "      <td>London</td>\n",
       "      <td>Macmillan Cancer Support</td>\n",
       "    </tr>\n",
       "  </tbody>\n",
       "</table>\n",
       "</div>"
      ],
      "text/plain": [
       "              id  count  citations_avg                                   name  \\\n",
       "0  grid.478308.0    185     260.870270     Alexander & Margaret Stewart Trust   \n",
       "1  grid.453780.d    144     190.722222           Accelerate Brain Cancer Cure   \n",
       "2  grid.478789.d    586     168.203072          Donald W. Reynolds Foundation   \n",
       "3  grid.417710.4    182     164.719780  Human Genome Sciences (United States)   \n",
       "4  grid.484432.d      1     150.000000               Macmillan Cancer Support   \n",
       "\n",
       "    latitude            state_name        types  \\\n",
       "0  38.901160  District of Columbia  [Nonprofit]   \n",
       "1  38.906720  District of Columbia  [Nonprofit]   \n",
       "2  36.190460                Nevada      [Other]   \n",
       "3  39.096650              Maryland    [Company]   \n",
       "4  51.488003                   NaN  [Nonprofit]   \n",
       "\n",
       "                           linkout    country_name   longitude  \\\n",
       "0  [http://www.stewart-trust.org/]   United States  -77.039730   \n",
       "1           [http://www.abc2.org/]   United States  -77.039520   \n",
       "2     [http://www.dwreynolds.org/]   United States -115.299850   \n",
       "3            [http://www.hgsi.com]   United States  -77.203760   \n",
       "4  [https://www.macmillan.org.uk/]  United Kingdom   -0.123164   \n",
       "\n",
       "         city_name                   acronym  \n",
       "0  Washington D.C.                       NaN  \n",
       "1  Washington D.C.                       NaN  \n",
       "2        Las Vegas                       NaN  \n",
       "3        Rockville                       NaN  \n",
       "4           London  Macmillan Cancer Support  "
      ]
     },
     "execution_count": 65,
     "metadata": {},
     "output_type": "execute_result"
    }
   ],
   "source": [
    "%%dsldf\n",
    "search publications\n",
    "return funders \n",
    "    aggregate citations_avg \n",
    "    sort by citations_avg limit 5"
   ]
  },
  {
   "cell_type": "markdown",
   "metadata": {
    "Collapsed": "false"
   },
   "source": [
    "Geometric mean of FCR\n"
   ]
  },
  {
   "cell_type": "code",
   "execution_count": 66,
   "metadata": {
    "Collapsed": "false"
   },
   "outputs": [
    {
     "name": "stdout",
     "output_type": "stream",
     "text": [
      "Returned Funders: 5\n",
      "\u001b[2mTime: 3.48s\u001b[0m\n"
     ]
    },
    {
     "data": {
      "text/html": [
       "<div>\n",
       "<style scoped>\n",
       "    .dataframe tbody tr th:only-of-type {\n",
       "        vertical-align: middle;\n",
       "    }\n",
       "\n",
       "    .dataframe tbody tr th {\n",
       "        vertical-align: top;\n",
       "    }\n",
       "\n",
       "    .dataframe thead th {\n",
       "        text-align: right;\n",
       "    }\n",
       "</style>\n",
       "<table border=\"1\" class=\"dataframe\">\n",
       "  <thead>\n",
       "    <tr style=\"text-align: right;\">\n",
       "      <th></th>\n",
       "      <th>id</th>\n",
       "      <th>fcr_gavg</th>\n",
       "      <th>count</th>\n",
       "      <th>types</th>\n",
       "      <th>name</th>\n",
       "      <th>latitude</th>\n",
       "      <th>longitude</th>\n",
       "      <th>linkout</th>\n",
       "      <th>city_name</th>\n",
       "      <th>country_name</th>\n",
       "      <th>acronym</th>\n",
       "      <th>state_name</th>\n",
       "    </tr>\n",
       "  </thead>\n",
       "  <tbody>\n",
       "    <tr>\n",
       "      <th>0</th>\n",
       "      <td>grid.419696.5</td>\n",
       "      <td>2.337550</td>\n",
       "      <td>2048348</td>\n",
       "      <td>[Government]</td>\n",
       "      <td>National Natural Science Foundation of China</td>\n",
       "      <td>40.005177</td>\n",
       "      <td>116.339830</td>\n",
       "      <td>[http://www.nsfc.gov.cn/publish/portal1/]</td>\n",
       "      <td>Beijing</td>\n",
       "      <td>China</td>\n",
       "      <td>NSFC</td>\n",
       "      <td>NaN</td>\n",
       "    </tr>\n",
       "    <tr>\n",
       "      <th>1</th>\n",
       "      <td>grid.270680.b</td>\n",
       "      <td>3.310395</td>\n",
       "      <td>706071</td>\n",
       "      <td>[Government]</td>\n",
       "      <td>European Commission</td>\n",
       "      <td>50.851650</td>\n",
       "      <td>4.363670</td>\n",
       "      <td>[http://ec.europa.eu/index_en.htm]</td>\n",
       "      <td>Brussels</td>\n",
       "      <td>Belgium</td>\n",
       "      <td>EC</td>\n",
       "      <td>NaN</td>\n",
       "    </tr>\n",
       "    <tr>\n",
       "      <th>2</th>\n",
       "      <td>grid.424020.0</td>\n",
       "      <td>2.555937</td>\n",
       "      <td>641515</td>\n",
       "      <td>[Government]</td>\n",
       "      <td>Ministry of Science and Technology of the Peop...</td>\n",
       "      <td>39.827835</td>\n",
       "      <td>116.316284</td>\n",
       "      <td>[http://www.most.gov.cn/eng/]</td>\n",
       "      <td>Beijing</td>\n",
       "      <td>China</td>\n",
       "      <td>MOST</td>\n",
       "      <td>NaN</td>\n",
       "    </tr>\n",
       "    <tr>\n",
       "      <th>3</th>\n",
       "      <td>grid.48336.3a</td>\n",
       "      <td>4.933944</td>\n",
       "      <td>598242</td>\n",
       "      <td>[Government]</td>\n",
       "      <td>National Cancer Institute</td>\n",
       "      <td>39.004326</td>\n",
       "      <td>-77.101190</td>\n",
       "      <td>[http://www.cancer.gov/]</td>\n",
       "      <td>Rockville</td>\n",
       "      <td>United States</td>\n",
       "      <td>NCI</td>\n",
       "      <td>Maryland</td>\n",
       "    </tr>\n",
       "    <tr>\n",
       "      <th>4</th>\n",
       "      <td>grid.54432.34</td>\n",
       "      <td>2.288957</td>\n",
       "      <td>587177</td>\n",
       "      <td>[Nonprofit]</td>\n",
       "      <td>Japan Society for the Promotion of Science</td>\n",
       "      <td>35.687160</td>\n",
       "      <td>139.740390</td>\n",
       "      <td>[http://www.jsps.go.jp/]</td>\n",
       "      <td>Tokyo</td>\n",
       "      <td>Japan</td>\n",
       "      <td>JSPS</td>\n",
       "      <td>NaN</td>\n",
       "    </tr>\n",
       "  </tbody>\n",
       "</table>\n",
       "</div>"
      ],
      "text/plain": [
       "              id  fcr_gavg    count         types  \\\n",
       "0  grid.419696.5  2.337550  2048348  [Government]   \n",
       "1  grid.270680.b  3.310395   706071  [Government]   \n",
       "2  grid.424020.0  2.555937   641515  [Government]   \n",
       "3  grid.48336.3a  4.933944   598242  [Government]   \n",
       "4  grid.54432.34  2.288957   587177   [Nonprofit]   \n",
       "\n",
       "                                                name   latitude   longitude  \\\n",
       "0       National Natural Science Foundation of China  40.005177  116.339830   \n",
       "1                                European Commission  50.851650    4.363670   \n",
       "2  Ministry of Science and Technology of the Peop...  39.827835  116.316284   \n",
       "3                          National Cancer Institute  39.004326  -77.101190   \n",
       "4         Japan Society for the Promotion of Science  35.687160  139.740390   \n",
       "\n",
       "                                     linkout  city_name   country_name  \\\n",
       "0  [http://www.nsfc.gov.cn/publish/portal1/]    Beijing          China   \n",
       "1         [http://ec.europa.eu/index_en.htm]   Brussels        Belgium   \n",
       "2              [http://www.most.gov.cn/eng/]    Beijing          China   \n",
       "3                   [http://www.cancer.gov/]  Rockville  United States   \n",
       "4                   [http://www.jsps.go.jp/]      Tokyo          Japan   \n",
       "\n",
       "  acronym state_name  \n",
       "0    NSFC        NaN  \n",
       "1      EC        NaN  \n",
       "2    MOST        NaN  \n",
       "3     NCI   Maryland  \n",
       "4    JSPS        NaN  "
      ]
     },
     "execution_count": 66,
     "metadata": {},
     "output_type": "execute_result"
    }
   ],
   "source": [
    "%%dsldf\n",
    "search publications\n",
    "return funders \n",
    "    aggregate fcr_gavg limit 5"
   ]
  },
  {
   "cell_type": "markdown",
   "metadata": {
    "Collapsed": "false"
   },
   "source": [
    "Median Altmetric Attention Score"
   ]
  },
  {
   "cell_type": "code",
   "execution_count": 67,
   "metadata": {
    "Collapsed": "false"
   },
   "outputs": [
    {
     "name": "stdout",
     "output_type": "stream",
     "text": [
      "Returned Funders: 5\n",
      "\u001b[2mTime: 7.19s\u001b[0m\n"
     ]
    },
    {
     "data": {
      "text/html": [
       "<div>\n",
       "<style scoped>\n",
       "    .dataframe tbody tr th:only-of-type {\n",
       "        vertical-align: middle;\n",
       "    }\n",
       "\n",
       "    .dataframe tbody tr th {\n",
       "        vertical-align: top;\n",
       "    }\n",
       "\n",
       "    .dataframe thead th {\n",
       "        text-align: right;\n",
       "    }\n",
       "</style>\n",
       "<table border=\"1\" class=\"dataframe\">\n",
       "  <thead>\n",
       "    <tr style=\"text-align: right;\">\n",
       "      <th></th>\n",
       "      <th>id</th>\n",
       "      <th>count</th>\n",
       "      <th>altmetric_median</th>\n",
       "      <th>city_name</th>\n",
       "      <th>types</th>\n",
       "      <th>name</th>\n",
       "      <th>country_name</th>\n",
       "      <th>linkout</th>\n",
       "      <th>latitude</th>\n",
       "      <th>acronym</th>\n",
       "      <th>longitude</th>\n",
       "      <th>state_name</th>\n",
       "    </tr>\n",
       "  </thead>\n",
       "  <tbody>\n",
       "    <tr>\n",
       "      <th>0</th>\n",
       "      <td>grid.258806.1</td>\n",
       "      <td>8</td>\n",
       "      <td>150.5</td>\n",
       "      <td>Kitakyushu</td>\n",
       "      <td>[Education]</td>\n",
       "      <td>Kyushu Institute of Technology</td>\n",
       "      <td>Japan</td>\n",
       "      <td>[https://www.kyutech.ac.jp/english/]</td>\n",
       "      <td>33.894436</td>\n",
       "      <td>KIT</td>\n",
       "      <td>130.839200</td>\n",
       "      <td>NaN</td>\n",
       "    </tr>\n",
       "    <tr>\n",
       "      <th>1</th>\n",
       "      <td>grid.470711.4</td>\n",
       "      <td>2</td>\n",
       "      <td>108.5</td>\n",
       "      <td>Edinburgh</td>\n",
       "      <td>[Nonprofit]</td>\n",
       "      <td>Chest Heart and Stroke Scotland</td>\n",
       "      <td>United Kingdom</td>\n",
       "      <td>[http://www.chss.org.uk/]</td>\n",
       "      <td>55.946075</td>\n",
       "      <td>CHSS</td>\n",
       "      <td>-3.219597</td>\n",
       "      <td>NaN</td>\n",
       "    </tr>\n",
       "    <tr>\n",
       "      <th>2</th>\n",
       "      <td>grid.443873.f</td>\n",
       "      <td>5</td>\n",
       "      <td>96.0</td>\n",
       "      <td>Chicago</td>\n",
       "      <td>[Nonprofit]</td>\n",
       "      <td>LUNGevity Foundation</td>\n",
       "      <td>United States</td>\n",
       "      <td>[http://www.lungevity.org/]</td>\n",
       "      <td>41.878674</td>\n",
       "      <td>LUNG</td>\n",
       "      <td>-87.626480</td>\n",
       "      <td>Illinois</td>\n",
       "    </tr>\n",
       "    <tr>\n",
       "      <th>3</th>\n",
       "      <td>grid.473856.b</td>\n",
       "      <td>2</td>\n",
       "      <td>66.0</td>\n",
       "      <td>Washington D.C.</td>\n",
       "      <td>[Government]</td>\n",
       "      <td>Administration for Children and Families</td>\n",
       "      <td>United States</td>\n",
       "      <td>[https://www.acf.hhs.gov/]</td>\n",
       "      <td>38.885940</td>\n",
       "      <td>ACF</td>\n",
       "      <td>-77.016370</td>\n",
       "      <td>District of Columbia</td>\n",
       "    </tr>\n",
       "    <tr>\n",
       "      <th>4</th>\n",
       "      <td>grid.419979.b</td>\n",
       "      <td>2</td>\n",
       "      <td>44.0</td>\n",
       "      <td>Philadelphia</td>\n",
       "      <td>[Healthcare]</td>\n",
       "      <td>Einstein Healthcare Network</td>\n",
       "      <td>United States</td>\n",
       "      <td>[http://www.einstein.edu/]</td>\n",
       "      <td>40.036827</td>\n",
       "      <td>AEHN</td>\n",
       "      <td>-75.143140</td>\n",
       "      <td>Pennsylvania</td>\n",
       "    </tr>\n",
       "  </tbody>\n",
       "</table>\n",
       "</div>"
      ],
      "text/plain": [
       "              id  count  altmetric_median        city_name         types  \\\n",
       "0  grid.258806.1      8             150.5       Kitakyushu   [Education]   \n",
       "1  grid.470711.4      2             108.5        Edinburgh   [Nonprofit]   \n",
       "2  grid.443873.f      5              96.0          Chicago   [Nonprofit]   \n",
       "3  grid.473856.b      2              66.0  Washington D.C.  [Government]   \n",
       "4  grid.419979.b      2              44.0     Philadelphia  [Healthcare]   \n",
       "\n",
       "                                       name    country_name  \\\n",
       "0            Kyushu Institute of Technology           Japan   \n",
       "1           Chest Heart and Stroke Scotland  United Kingdom   \n",
       "2                      LUNGevity Foundation   United States   \n",
       "3  Administration for Children and Families   United States   \n",
       "4               Einstein Healthcare Network   United States   \n",
       "\n",
       "                                linkout   latitude acronym   longitude  \\\n",
       "0  [https://www.kyutech.ac.jp/english/]  33.894436     KIT  130.839200   \n",
       "1             [http://www.chss.org.uk/]  55.946075    CHSS   -3.219597   \n",
       "2           [http://www.lungevity.org/]  41.878674    LUNG  -87.626480   \n",
       "3            [https://www.acf.hhs.gov/]  38.885940     ACF  -77.016370   \n",
       "4            [http://www.einstein.edu/]  40.036827    AEHN  -75.143140   \n",
       "\n",
       "             state_name  \n",
       "0                   NaN  \n",
       "1                   NaN  \n",
       "2              Illinois  \n",
       "3  District of Columbia  \n",
       "4          Pennsylvania  "
      ]
     },
     "execution_count": 67,
     "metadata": {},
     "output_type": "execute_result"
    }
   ],
   "source": [
    "%%dsldf \n",
    "search publications\n",
    "return funders aggregate altmetric_median \n",
    "    sort by altmetric_median limit 5 "
   ]
  }
 ],
 "metadata": {
  "kernelspec": {
   "display_name": "Python 3",
   "language": "python",
   "name": "python3"
  },
  "language_info": {
   "codemirror_mode": {
    "name": "ipython",
    "version": 3
   },
   "file_extension": ".py",
   "mimetype": "text/x-python",
   "name": "python",
   "nbconvert_exporter": "python",
   "pygments_lexer": "ipython3",
   "version": "3.8.5"
  },
  "toc-showcode": false,
  "toc-showmarkdowntxt": false,
  "toc-showtags": false
 },
 "nbformat": 4,
 "nbformat_minor": 4
}
