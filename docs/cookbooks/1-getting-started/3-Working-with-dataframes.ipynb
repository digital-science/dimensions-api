{
 "cells": [
  {
   "cell_type": "markdown",
   "metadata": {
    "Collapsed": "false",
    "colab_type": "text",
    "id": "8XNB2EeXR4DA"
   },
   "source": [
    "# The Dimcli Python library: Working with Pandas Dataframes\n",
    "\n",
    "[Dimcli](https://github.com/lambdamusic/dimcli) includes a few utilities that make it easier to transform Dimensions JSON data into Pandas [dataframe objects](https://pandas.pydata.org/pandas-docs/stable/getting_started/dsintro.html#dataframe). \n",
    "\n",
    "Dataframes are then easy to sort, analyse, export as CSV and use within visualisation softwares.\n",
    "\n",
    ">  [pandas](https://pandas.pydata.org/pandas-docs/stable/) is a popular software library written for the Python programming language for data manipulation and analysis.\n"
   ]
  },
  {
   "cell_type": "markdown",
   "metadata": {
    "Collapsed": "false",
    "colab_type": "text",
    "id": "hMaQlB7DG8Vw"
   },
   "source": [
    "## Prerequisites\n",
    "\n",
    "This notebook assumes you have installed the [Dimcli](https://pypi.org/project/dimcli/) library and are familiar with the *Getting Started* tutorial.\n"
   ]
  },
  {
   "cell_type": "code",
   "execution_count": 1,
   "metadata": {
    "Collapsed": "false"
   },
   "outputs": [
    {
     "name": "stdout",
     "output_type": "stream",
     "text": [
      "==\n",
      "Logging in..\n",
      "\u001b[2mDimcli - Dimensions API Client (v0.7.4.2)\u001b[0m\n",
      "\u001b[2mConnected to: https://app.dimensions.ai - DSL v1.27\u001b[0m\n",
      "\u001b[2mMethod: dsl.ini file\u001b[0m\n"
     ]
    }
   ],
   "source": [
    "!pip install dimcli --quiet \n",
    "\n",
    "import dimcli\n",
    "from dimcli.shortcuts import *\n",
    "import json\n",
    "import sys\n",
    "import pandas as pd\n",
    "#\n",
    "\n",
    "print(\"==\\nLogging in..\")\n",
    "# https://github.com/digital-science/dimcli#authentication\n",
    "ENDPOINT = \"https://app.dimensions.ai\"\n",
    "if 'google.colab' in sys.modules:\n",
    "  import getpass\n",
    "  USERNAME = getpass.getpass(prompt='Username: ')\n",
    "  PASSWORD = getpass.getpass(prompt='Password: ')    \n",
    "  dimcli.login(USERNAME, PASSWORD, ENDPOINT)\n",
    "else:\n",
    "  USERNAME, PASSWORD  = \"\", \"\"\n",
    "  dimcli.login(USERNAME, PASSWORD, ENDPOINT)\n",
    "dsl = dimcli.Dsl()"
   ]
  },
  {
   "cell_type": "markdown",
   "metadata": {
    "Collapsed": "false",
    "colab_type": "text",
    "id": "oMLG9WL0R4DE"
   },
   "source": [
    "## 1. General method to transform JSON query results into a dataframe \n",
    "\n",
    "The `DslDataset.as_dataframe` method allows to quickly turn any query results into a dataframe. "
   ]
  },
  {
   "cell_type": "code",
   "execution_count": 9,
   "metadata": {
    "Collapsed": "false",
    "colab": {
     "base_uri": "https://localhost:8080/",
     "height": 34
    },
    "colab_type": "code",
    "executionInfo": {
     "elapsed": 3008,
     "status": "ok",
     "timestamp": 1574681077688,
     "user": {
      "displayName": "Michele Pasin",
      "photoUrl": "https://lh3.googleusercontent.com/a-/AAuE7mBu8LVjIGgontF2Wax51BoL5KFx8esezX3bUmaa0g=s64",
      "userId": "10309320684375994511"
     },
     "user_tz": 0
    },
    "id": "19qgos2dR4DF",
    "outputId": "a4bdf8a3-a760-4b80-cb1d-fb89b6cf08ca"
   },
   "outputs": [
    {
     "name": "stdout",
     "output_type": "stream",
     "text": [
      "Returned Publications: 1000 (total = 426278)\n",
      "\u001b[2mTime: 2.46s\u001b[0m\n"
     ]
    }
   ],
   "source": [
    "# we'll reuse this query later on \n",
    "query = \"\"\"search publications for \"graphene\" \n",
    "            where year in [2013:2019] \n",
    "            return publications[id+type+volume+year+issue+title+journal+authors] sort by times_cited limit 1000\"\"\"\n",
    "res = dsl.query(query)"
   ]
  },
  {
   "cell_type": "code",
   "execution_count": 10,
   "metadata": {
    "Collapsed": "false",
    "colab": {
     "base_uri": "https://localhost:8080/",
     "height": 1000
    },
    "colab_type": "code",
    "executionInfo": {
     "elapsed": 1346,
     "status": "ok",
     "timestamp": 1574681079469,
     "user": {
      "displayName": "Michele Pasin",
      "photoUrl": "https://lh3.googleusercontent.com/a-/AAuE7mBu8LVjIGgontF2Wax51BoL5KFx8esezX3bUmaa0g=s64",
      "userId": "10309320684375994511"
     },
     "user_tz": 0
    },
    "id": "6LCGKJPwR4DG",
    "outputId": "b0b6e7e6-10de-4a17-e037-33083352fc8f"
   },
   "outputs": [
    {
     "data": {
      "text/html": [
       "<div>\n",
       "<style scoped>\n",
       "    .dataframe tbody tr th:only-of-type {\n",
       "        vertical-align: middle;\n",
       "    }\n",
       "\n",
       "    .dataframe tbody tr th {\n",
       "        vertical-align: top;\n",
       "    }\n",
       "\n",
       "    .dataframe thead th {\n",
       "        text-align: right;\n",
       "    }\n",
       "</style>\n",
       "<table border=\"1\" class=\"dataframe\">\n",
       "  <thead>\n",
       "    <tr style=\"text-align: right;\">\n",
       "      <th></th>\n",
       "      <th>id</th>\n",
       "      <th>year</th>\n",
       "      <th>authors</th>\n",
       "      <th>volume</th>\n",
       "      <th>issue</th>\n",
       "      <th>type</th>\n",
       "      <th>title</th>\n",
       "      <th>journal.id</th>\n",
       "      <th>journal.title</th>\n",
       "    </tr>\n",
       "  </thead>\n",
       "  <tbody>\n",
       "    <tr>\n",
       "      <th>0</th>\n",
       "      <td>pub.1050119463</td>\n",
       "      <td>2013</td>\n",
       "      <td>[{'first_name': 'Manish', 'last_name': 'Chhowa...</td>\n",
       "      <td>5</td>\n",
       "      <td>4</td>\n",
       "      <td>article</td>\n",
       "      <td>The chemistry of two-dimensional layered trans...</td>\n",
       "      <td>jour.1041224</td>\n",
       "      <td>Nature Chemistry</td>\n",
       "    </tr>\n",
       "    <tr>\n",
       "      <th>1</th>\n",
       "      <td>pub.1024857999</td>\n",
       "      <td>2013</td>\n",
       "      <td>[{'first_name': 'A. K.', 'last_name': 'Geim', ...</td>\n",
       "      <td>499</td>\n",
       "      <td>7459</td>\n",
       "      <td>article</td>\n",
       "      <td>Van der Waals heterostructures</td>\n",
       "      <td>jour.1018957</td>\n",
       "      <td>Nature</td>\n",
       "    </tr>\n",
       "    <tr>\n",
       "      <th>2</th>\n",
       "      <td>pub.1004394295</td>\n",
       "      <td>2014</td>\n",
       "      <td>[{'first_name': 'Huanping', 'last_name': 'Zhou...</td>\n",
       "      <td>345</td>\n",
       "      <td>6196</td>\n",
       "      <td>article</td>\n",
       "      <td>Interface engineering of highly efficient pero...</td>\n",
       "      <td>jour.1346339</td>\n",
       "      <td>Science</td>\n",
       "    </tr>\n",
       "    <tr>\n",
       "      <th>3</th>\n",
       "      <td>pub.1032956475</td>\n",
       "      <td>2014</td>\n",
       "      <td>[{'first_name': 'Likai', 'last_name': 'Li', 'c...</td>\n",
       "      <td>9</td>\n",
       "      <td>5</td>\n",
       "      <td>article</td>\n",
       "      <td>Black phosphorus field-effect transistors</td>\n",
       "      <td>jour.1037429</td>\n",
       "      <td>Nature Nanotechnology</td>\n",
       "    </tr>\n",
       "    <tr>\n",
       "      <th>4</th>\n",
       "      <td>pub.1019126274</td>\n",
       "      <td>2013</td>\n",
       "      <td>[{'first_name': 'John B.', 'last_name': 'Goode...</td>\n",
       "      <td>135</td>\n",
       "      <td>4</td>\n",
       "      <td>article</td>\n",
       "      <td>The Li-ion rechargeable battery: a perspective.</td>\n",
       "      <td>jour.1081898</td>\n",
       "      <td>Journal of the American Chemical Society</td>\n",
       "    </tr>\n",
       "    <tr>\n",
       "      <th>5</th>\n",
       "      <td>pub.1031762191</td>\n",
       "      <td>2013</td>\n",
       "      <td>NaN</td>\n",
       "      <td>NaN</td>\n",
       "      <td>NaN</td>\n",
       "      <td>book</td>\n",
       "      <td>Nanoenergy, Nanotechnology Applied for Energy ...</td>\n",
       "      <td>NaN</td>\n",
       "      <td>NaN</td>\n",
       "    </tr>\n",
       "    <tr>\n",
       "      <th>6</th>\n",
       "      <td>pub.1009826879</td>\n",
       "      <td>2014</td>\n",
       "      <td>[{'first_name': 'Han', 'last_name': 'Liu', 'co...</td>\n",
       "      <td>8</td>\n",
       "      <td>4</td>\n",
       "      <td>article</td>\n",
       "      <td>Phosphorene: an unexplored 2D semiconductor wi...</td>\n",
       "      <td>jour.1038917</td>\n",
       "      <td>ACS Nano</td>\n",
       "    </tr>\n",
       "    <tr>\n",
       "      <th>7</th>\n",
       "      <td>pub.1059158429</td>\n",
       "      <td>2016</td>\n",
       "      <td>[{'first_name': 'C.', 'last_name': 'Patrignani...</td>\n",
       "      <td>40</td>\n",
       "      <td>10</td>\n",
       "      <td>article</td>\n",
       "      <td>Review of Particle Physics</td>\n",
       "      <td>jour.1327822</td>\n",
       "      <td>Chinese Physics C</td>\n",
       "    </tr>\n",
       "    <tr>\n",
       "      <th>8</th>\n",
       "      <td>pub.1015305822</td>\n",
       "      <td>2013</td>\n",
       "      <td>[{'first_name': 'Andrea C.', 'last_name': 'Fer...</td>\n",
       "      <td>8</td>\n",
       "      <td>4</td>\n",
       "      <td>article</td>\n",
       "      <td>Raman spectroscopy as a versatile tool for stu...</td>\n",
       "      <td>jour.1037429</td>\n",
       "      <td>Nature Nanotechnology</td>\n",
       "    </tr>\n",
       "    <tr>\n",
       "      <th>9</th>\n",
       "      <td>pub.1045181228</td>\n",
       "      <td>2014</td>\n",
       "      <td>[{'first_name': 'Martin A.', 'last_name': 'Gre...</td>\n",
       "      <td>8</td>\n",
       "      <td>7</td>\n",
       "      <td>article</td>\n",
       "      <td>The emergence of perovskite solar cells</td>\n",
       "      <td>jour.1037430</td>\n",
       "      <td>Nature Photonics</td>\n",
       "    </tr>\n",
       "  </tbody>\n",
       "</table>\n",
       "</div>"
      ],
      "text/plain": [
       "               id  year                                            authors  \\\n",
       "0  pub.1050119463  2013  [{'first_name': 'Manish', 'last_name': 'Chhowa...   \n",
       "1  pub.1024857999  2013  [{'first_name': 'A. K.', 'last_name': 'Geim', ...   \n",
       "2  pub.1004394295  2014  [{'first_name': 'Huanping', 'last_name': 'Zhou...   \n",
       "3  pub.1032956475  2014  [{'first_name': 'Likai', 'last_name': 'Li', 'c...   \n",
       "4  pub.1019126274  2013  [{'first_name': 'John B.', 'last_name': 'Goode...   \n",
       "5  pub.1031762191  2013                                                NaN   \n",
       "6  pub.1009826879  2014  [{'first_name': 'Han', 'last_name': 'Liu', 'co...   \n",
       "7  pub.1059158429  2016  [{'first_name': 'C.', 'last_name': 'Patrignani...   \n",
       "8  pub.1015305822  2013  [{'first_name': 'Andrea C.', 'last_name': 'Fer...   \n",
       "9  pub.1045181228  2014  [{'first_name': 'Martin A.', 'last_name': 'Gre...   \n",
       "\n",
       "  volume issue     type                                              title  \\\n",
       "0      5     4  article  The chemistry of two-dimensional layered trans...   \n",
       "1    499  7459  article                     Van der Waals heterostructures   \n",
       "2    345  6196  article  Interface engineering of highly efficient pero...   \n",
       "3      9     5  article          Black phosphorus field-effect transistors   \n",
       "4    135     4  article    The Li-ion rechargeable battery: a perspective.   \n",
       "5    NaN   NaN     book  Nanoenergy, Nanotechnology Applied for Energy ...   \n",
       "6      8     4  article  Phosphorene: an unexplored 2D semiconductor wi...   \n",
       "7     40    10  article                         Review of Particle Physics   \n",
       "8      8     4  article  Raman spectroscopy as a versatile tool for stu...   \n",
       "9      8     7  article            The emergence of perovskite solar cells   \n",
       "\n",
       "     journal.id                             journal.title  \n",
       "0  jour.1041224                          Nature Chemistry  \n",
       "1  jour.1018957                                    Nature  \n",
       "2  jour.1346339                                   Science  \n",
       "3  jour.1037429                     Nature Nanotechnology  \n",
       "4  jour.1081898  Journal of the American Chemical Society  \n",
       "5           NaN                                       NaN  \n",
       "6  jour.1038917                                  ACS Nano  \n",
       "7  jour.1327822                         Chinese Physics C  \n",
       "8  jour.1037429                     Nature Nanotechnology  \n",
       "9  jour.1037430                          Nature Photonics  "
      ]
     },
     "execution_count": 10,
     "metadata": {},
     "output_type": "execute_result"
    }
   ],
   "source": [
    "df = res.as_dataframe()\n",
    "df.head(10)"
   ]
  },
  {
   "cell_type": "markdown",
   "metadata": {
    "Collapsed": "false",
    "colab_type": "text",
    "id": "tCq1lF6HR4DI"
   },
   "source": [
    "Pandas dataframes offer a myriad of utilities for inspecting data. Check out the [official docs](https://pandas.pydata.org/pandas-docs/stable/getting_started/10min.html) or google a [pandas tutorial](https://www.google.com/search?q=pandas+tutorial) to lean more about it. "
   ]
  },
  {
   "cell_type": "code",
   "execution_count": 11,
   "metadata": {
    "Collapsed": "false",
    "colab": {
     "base_uri": "https://localhost:8080/",
     "height": 34
    },
    "colab_type": "code",
    "executionInfo": {
     "elapsed": 1124,
     "status": "ok",
     "timestamp": 1574681118435,
     "user": {
      "displayName": "Michele Pasin",
      "photoUrl": "https://lh3.googleusercontent.com/a-/AAuE7mBu8LVjIGgontF2Wax51BoL5KFx8esezX3bUmaa0g=s64",
      "userId": "10309320684375994511"
     },
     "user_tz": 0
    },
    "id": "k_3GoeDkR4DJ",
    "outputId": "04323988-d055-4928-80f9-b283b34c8328"
   },
   "outputs": [
    {
     "data": {
      "text/plain": [
       "(1000, 9)"
      ]
     },
     "execution_count": 11,
     "metadata": {},
     "output_type": "execute_result"
    }
   ],
   "source": [
    "# the table shape\n",
    "df.shape"
   ]
  },
  {
   "cell_type": "code",
   "execution_count": 12,
   "metadata": {
    "Collapsed": "false",
    "colab": {
     "base_uri": "https://localhost:8080/",
     "height": 136
    },
    "colab_type": "code",
    "executionInfo": {
     "elapsed": 929,
     "status": "ok",
     "timestamp": 1574681130276,
     "user": {
      "displayName": "Michele Pasin",
      "photoUrl": "https://lh3.googleusercontent.com/a-/AAuE7mBu8LVjIGgontF2Wax51BoL5KFx8esezX3bUmaa0g=s64",
      "userId": "10309320684375994511"
     },
     "user_tz": 0
    },
    "id": "CjvMBNCBR4DK",
    "outputId": "771e011c-1a06-43d4-a12c-851e9edacce0"
   },
   "outputs": [
    {
     "data": {
      "text/plain": [
       "2013    310\n",
       "2014    294\n",
       "2015    210\n",
       "2016    111\n",
       "2017     58\n",
       "2018     15\n",
       "2019      2\n",
       "Name: year, dtype: int64"
      ]
     },
     "execution_count": 12,
     "metadata": {},
     "output_type": "execute_result"
    }
   ],
   "source": [
    "# the 'value_counts' method returns the distribution of a specific field eg publication [years]\n",
    "df['year'].value_counts()"
   ]
  },
  {
   "cell_type": "code",
   "execution_count": 13,
   "metadata": {
    "Collapsed": "false",
    "colab": {
     "base_uri": "https://localhost:8080/",
     "height": 102
    },
    "colab_type": "code",
    "executionInfo": {
     "elapsed": 817,
     "status": "ok",
     "timestamp": 1574681132393,
     "user": {
      "displayName": "Michele Pasin",
      "photoUrl": "https://lh3.googleusercontent.com/a-/AAuE7mBu8LVjIGgontF2Wax51BoL5KFx8esezX3bUmaa0g=s64",
      "userId": "10309320684375994511"
     },
     "user_tz": 0
    },
    "id": "vndAnGmyR4DM",
    "outputId": "68301915-01d4-46fc-ddb2-5fa23f768e3f"
   },
   "outputs": [
    {
     "data": {
      "text/plain": [
       "article    997\n",
       "book         2\n",
       "chapter      1\n",
       "Name: type, dtype: int64"
      ]
     },
     "execution_count": 13,
     "metadata": {},
     "output_type": "execute_result"
    }
   ],
   "source": [
    "# eg distribution of publication [type]\n",
    "df['type'].value_counts()"
   ]
  },
  {
   "cell_type": "markdown",
   "metadata": {
    "Collapsed": "false",
    "colab_type": "text",
    "id": "ye1VswB3R4DO"
   },
   "source": [
    "## 2. Dataframe Methods for 'Publications' queries\n",
    "\n",
    "What follows are specialized versions of the `as_dataframe` method for results sets composed of publication records. "
   ]
  },
  {
   "cell_type": "markdown",
   "metadata": {
    "Collapsed": "false",
    "colab_type": "text",
    "id": "j75inlUMR4DO"
   },
   "source": [
    "###  Extracting authors: `as_dataframe_authors`\n",
    "\n",
    "Publications authors are usually returned by the Dimensions API inside a nested JSON object in the `authors_affiliations` sub-key. \n",
    "\n",
    "> Note: the order of authors in the JSON is consistent with the ordering of authors in the original publication\n",
    "\n",
    "This methods allows to quickly extract that data and return a dataframe with **one row per author**."
   ]
  },
  {
   "cell_type": "code",
   "execution_count": 14,
   "metadata": {
    "Collapsed": "false",
    "colab": {
     "base_uri": "https://localhost:8080/",
     "height": 1000
    },
    "colab_type": "code",
    "executionInfo": {
     "elapsed": 940,
     "status": "ok",
     "timestamp": 1574681159951,
     "user": {
      "displayName": "Michele Pasin",
      "photoUrl": "https://lh3.googleusercontent.com/a-/AAuE7mBu8LVjIGgontF2Wax51BoL5KFx8esezX3bUmaa0g=s64",
      "userId": "10309320684375994511"
     },
     "user_tz": 0
    },
    "id": "0_KbE4ylR4DP",
    "outputId": "d5ad1426-b64b-4b64-d76f-6c1fb05348d7"
   },
   "outputs": [
    {
     "data": {
      "text/html": [
       "<div>\n",
       "<style scoped>\n",
       "    .dataframe tbody tr th:only-of-type {\n",
       "        vertical-align: middle;\n",
       "    }\n",
       "\n",
       "    .dataframe tbody tr th {\n",
       "        vertical-align: top;\n",
       "    }\n",
       "\n",
       "    .dataframe thead th {\n",
       "        text-align: right;\n",
       "    }\n",
       "</style>\n",
       "<table border=\"1\" class=\"dataframe\">\n",
       "  <thead>\n",
       "    <tr style=\"text-align: right;\">\n",
       "      <th></th>\n",
       "      <th>first_name</th>\n",
       "      <th>last_name</th>\n",
       "      <th>corresponding</th>\n",
       "      <th>orcid</th>\n",
       "      <th>current_organization_id</th>\n",
       "      <th>researcher_id</th>\n",
       "      <th>affiliations</th>\n",
       "      <th>pub_id</th>\n",
       "    </tr>\n",
       "  </thead>\n",
       "  <tbody>\n",
       "    <tr>\n",
       "      <th>0</th>\n",
       "      <td>Manish</td>\n",
       "      <td>Chhowalla</td>\n",
       "      <td>True</td>\n",
       "      <td></td>\n",
       "      <td>grid.5335.0</td>\n",
       "      <td>ur.0633062306.03</td>\n",
       "      <td>[{'id': 'grid.430387.b', 'name': 'Rutgers, The...</td>\n",
       "      <td>pub.1050119463</td>\n",
       "    </tr>\n",
       "    <tr>\n",
       "      <th>1</th>\n",
       "      <td>Hyeon Suk</td>\n",
       "      <td>Shin</td>\n",
       "      <td></td>\n",
       "      <td></td>\n",
       "      <td>grid.42687.3f</td>\n",
       "      <td>ur.07617630407.83</td>\n",
       "      <td>[{'id': 'grid.42687.3f', 'name': 'Ulsan Nation...</td>\n",
       "      <td>pub.1050119463</td>\n",
       "    </tr>\n",
       "    <tr>\n",
       "      <th>2</th>\n",
       "      <td>Goki</td>\n",
       "      <td>Eda</td>\n",
       "      <td></td>\n",
       "      <td></td>\n",
       "      <td>grid.4280.e</td>\n",
       "      <td>ur.01150450507.27</td>\n",
       "      <td>[{'id': 'grid.4280.e', 'name': 'National Unive...</td>\n",
       "      <td>pub.1050119463</td>\n",
       "    </tr>\n",
       "    <tr>\n",
       "      <th>3</th>\n",
       "      <td>Lain-Jong</td>\n",
       "      <td>Li</td>\n",
       "      <td></td>\n",
       "      <td>['0000-0002-4059-7783']</td>\n",
       "      <td>grid.45672.32</td>\n",
       "      <td>ur.01313340113.13</td>\n",
       "      <td>[{'id': 'grid.28665.3f', 'name': 'Academia Sin...</td>\n",
       "      <td>pub.1050119463</td>\n",
       "    </tr>\n",
       "    <tr>\n",
       "      <th>4</th>\n",
       "      <td>Kian Ping</td>\n",
       "      <td>Loh</td>\n",
       "      <td></td>\n",
       "      <td>['0000-0002-1491-743X']</td>\n",
       "      <td>grid.4280.e</td>\n",
       "      <td>ur.0752174033.73</td>\n",
       "      <td>[{'id': 'grid.4280.e', 'name': 'National Unive...</td>\n",
       "      <td>pub.1050119463</td>\n",
       "    </tr>\n",
       "  </tbody>\n",
       "</table>\n",
       "</div>"
      ],
      "text/plain": [
       "  first_name  last_name corresponding                    orcid  \\\n",
       "0     Manish  Chhowalla          True                            \n",
       "1  Hyeon Suk       Shin                                          \n",
       "2       Goki        Eda                                          \n",
       "3  Lain-Jong         Li                ['0000-0002-4059-7783']   \n",
       "4  Kian Ping        Loh                ['0000-0002-1491-743X']   \n",
       "\n",
       "  current_organization_id      researcher_id  \\\n",
       "0             grid.5335.0   ur.0633062306.03   \n",
       "1           grid.42687.3f  ur.07617630407.83   \n",
       "2             grid.4280.e  ur.01150450507.27   \n",
       "3           grid.45672.32  ur.01313340113.13   \n",
       "4             grid.4280.e   ur.0752174033.73   \n",
       "\n",
       "                                        affiliations          pub_id  \n",
       "0  [{'id': 'grid.430387.b', 'name': 'Rutgers, The...  pub.1050119463  \n",
       "1  [{'id': 'grid.42687.3f', 'name': 'Ulsan Nation...  pub.1050119463  \n",
       "2  [{'id': 'grid.4280.e', 'name': 'National Unive...  pub.1050119463  \n",
       "3  [{'id': 'grid.28665.3f', 'name': 'Academia Sin...  pub.1050119463  \n",
       "4  [{'id': 'grid.4280.e', 'name': 'National Unive...  pub.1050119463  "
      ]
     },
     "execution_count": 14,
     "metadata": {},
     "output_type": "execute_result"
    }
   ],
   "source": [
    "authors = res.as_dataframe_authors()\n",
    "authors.head()"
   ]
  },
  {
   "cell_type": "markdown",
   "metadata": {
    "Collapsed": "false",
    "colab_type": "text",
    "id": "N1VtHVQbR4DQ"
   },
   "source": [
    "Using the authors dataframe, we can easily get the top ten values for `current_organization_id`. "
   ]
  },
  {
   "cell_type": "code",
   "execution_count": 15,
   "metadata": {
    "Collapsed": "false",
    "colab": {
     "base_uri": "https://localhost:8080/",
     "height": 204
    },
    "colab_type": "code",
    "executionInfo": {
     "elapsed": 1031,
     "status": "ok",
     "timestamp": 1574681165815,
     "user": {
      "displayName": "Michele Pasin",
      "photoUrl": "https://lh3.googleusercontent.com/a-/AAuE7mBu8LVjIGgontF2Wax51BoL5KFx8esezX3bUmaa0g=s64",
      "userId": "10309320684375994511"
     },
     "user_tz": 0
    },
    "id": "ut6y8Di0R4DR",
    "outputId": "3a56a8d3-f5e2-463e-b367-e53f1f9d70b1"
   },
   "outputs": [
    {
     "data": {
      "text/plain": [
       "                 202\n",
       "grid.168010.e    160\n",
       "grid.59025.3b    131\n",
       "grid.5379.8       92\n",
       "grid.116068.8     86\n",
       "grid.59053.3a     81\n",
       "grid.12527.33     76\n",
       "grid.19006.3e     76\n",
       "grid.5333.6       72\n",
       "grid.13402.34     71\n",
       "Name: current_organization_id, dtype: int64"
      ]
     },
     "execution_count": 15,
     "metadata": {},
     "output_type": "execute_result"
    }
   ],
   "source": [
    "authors['current_organization_id'].value_counts()[:10]"
   ]
  },
  {
   "cell_type": "markdown",
   "metadata": {
    "Collapsed": "false",
    "colab_type": "text",
    "id": "6NpFRYBGR4DS"
   },
   "source": [
    "> Explanation: the most frequent organization turns out to be [grid.168010.e](https://www.grid.ac/institutes/grid.168010.e). The first result is empty, meaning that for those authors Dimensions has no info about `current_organization_id`. "
   ]
  },
  {
   "cell_type": "markdown",
   "metadata": {
    "Collapsed": "false",
    "colab_type": "text",
    "id": "p2eN2Y8GR4DT"
   },
   "source": [
    "### Extracting Affiliations: `as_dataframe_authors_affiliations`\n",
    "\n",
    "As you can see from the results of the previous section, the `affiliations` of each author is yet another nested JSON object. \n",
    "\n",
    "> Note: the order of affiliations in the JSON is consistent with the affiliations order in the original publication\n",
    "\n",
    "The `as_dataframe_authors_affiliations` method allows to quickly extract that affiliations data and return a dataframe with **one row per affiliation**.\n",
    "\n",
    "This can be useful e.g. if one wants to count research organizations at *the time of writing* (as opposed to `current_organization_id`, which is the *most recent organization* of a researcher). "
   ]
  },
  {
   "cell_type": "code",
   "execution_count": 16,
   "metadata": {
    "Collapsed": "false",
    "colab": {
     "base_uri": "https://localhost:8080/",
     "height": 464
    },
    "colab_type": "code",
    "executionInfo": {
     "elapsed": 1544,
     "status": "ok",
     "timestamp": 1574681203066,
     "user": {
      "displayName": "Michele Pasin",
      "photoUrl": "https://lh3.googleusercontent.com/a-/AAuE7mBu8LVjIGgontF2Wax51BoL5KFx8esezX3bUmaa0g=s64",
      "userId": "10309320684375994511"
     },
     "user_tz": 0
    },
    "id": "fszvKPHdR4DT",
    "outputId": "704b1027-ff46-4417-e3d5-4c5f5e2c20f7"
   },
   "outputs": [
    {
     "data": {
      "text/html": [
       "<div>\n",
       "<style scoped>\n",
       "    .dataframe tbody tr th:only-of-type {\n",
       "        vertical-align: middle;\n",
       "    }\n",
       "\n",
       "    .dataframe tbody tr th {\n",
       "        vertical-align: top;\n",
       "    }\n",
       "\n",
       "    .dataframe thead th {\n",
       "        text-align: right;\n",
       "    }\n",
       "</style>\n",
       "<table border=\"1\" class=\"dataframe\">\n",
       "  <thead>\n",
       "    <tr style=\"text-align: right;\">\n",
       "      <th></th>\n",
       "      <th>aff_id</th>\n",
       "      <th>aff_name</th>\n",
       "      <th>aff_city</th>\n",
       "      <th>aff_city_id</th>\n",
       "      <th>aff_country</th>\n",
       "      <th>aff_country_code</th>\n",
       "      <th>aff_state</th>\n",
       "      <th>aff_state_code</th>\n",
       "      <th>pub_id</th>\n",
       "      <th>researcher_id</th>\n",
       "      <th>first_name</th>\n",
       "      <th>last_name</th>\n",
       "    </tr>\n",
       "  </thead>\n",
       "  <tbody>\n",
       "    <tr>\n",
       "      <th>0</th>\n",
       "      <td>grid.430387.b</td>\n",
       "      <td>Rutgers, The State University of New Jersey</td>\n",
       "      <td>New Brunswick</td>\n",
       "      <td>5.10172e+06</td>\n",
       "      <td>United States</td>\n",
       "      <td>US</td>\n",
       "      <td>New Jersey</td>\n",
       "      <td>US-NJ</td>\n",
       "      <td>pub.1050119463</td>\n",
       "      <td>ur.0633062306.03</td>\n",
       "      <td>Manish</td>\n",
       "      <td>Chhowalla</td>\n",
       "    </tr>\n",
       "    <tr>\n",
       "      <th>1</th>\n",
       "      <td>grid.42687.3f</td>\n",
       "      <td>Ulsan National Institute of Science and Techno...</td>\n",
       "      <td>Ulsan</td>\n",
       "      <td>1.83375e+06</td>\n",
       "      <td>South Korea</td>\n",
       "      <td>KR</td>\n",
       "      <td></td>\n",
       "      <td></td>\n",
       "      <td>pub.1050119463</td>\n",
       "      <td>ur.07617630407.83</td>\n",
       "      <td>Hyeon Suk</td>\n",
       "      <td>Shin</td>\n",
       "    </tr>\n",
       "    <tr>\n",
       "      <th>2</th>\n",
       "      <td>grid.4280.e</td>\n",
       "      <td>National University of Singapore</td>\n",
       "      <td>Singapore</td>\n",
       "      <td>1.88025e+06</td>\n",
       "      <td>Singapore</td>\n",
       "      <td>SG</td>\n",
       "      <td></td>\n",
       "      <td></td>\n",
       "      <td>pub.1050119463</td>\n",
       "      <td>ur.01150450507.27</td>\n",
       "      <td>Goki</td>\n",
       "      <td>Eda</td>\n",
       "    </tr>\n",
       "    <tr>\n",
       "      <th>3</th>\n",
       "      <td>grid.4280.e</td>\n",
       "      <td>National University of Singapore</td>\n",
       "      <td>Singapore</td>\n",
       "      <td>1.88025e+06</td>\n",
       "      <td>Singapore</td>\n",
       "      <td>SG</td>\n",
       "      <td></td>\n",
       "      <td></td>\n",
       "      <td>pub.1050119463</td>\n",
       "      <td>ur.01150450507.27</td>\n",
       "      <td>Goki</td>\n",
       "      <td>Eda</td>\n",
       "    </tr>\n",
       "    <tr>\n",
       "      <th>4</th>\n",
       "      <td>grid.4280.e</td>\n",
       "      <td>National University of Singapore</td>\n",
       "      <td>Singapore</td>\n",
       "      <td>1.88025e+06</td>\n",
       "      <td>Singapore</td>\n",
       "      <td>SG</td>\n",
       "      <td></td>\n",
       "      <td></td>\n",
       "      <td>pub.1050119463</td>\n",
       "      <td>ur.01150450507.27</td>\n",
       "      <td>Goki</td>\n",
       "      <td>Eda</td>\n",
       "    </tr>\n",
       "  </tbody>\n",
       "</table>\n",
       "</div>"
      ],
      "text/plain": [
       "          aff_id                                           aff_name  \\\n",
       "0  grid.430387.b        Rutgers, The State University of New Jersey   \n",
       "1  grid.42687.3f  Ulsan National Institute of Science and Techno...   \n",
       "2    grid.4280.e                   National University of Singapore   \n",
       "3    grid.4280.e                   National University of Singapore   \n",
       "4    grid.4280.e                   National University of Singapore   \n",
       "\n",
       "        aff_city  aff_city_id    aff_country aff_country_code   aff_state  \\\n",
       "0  New Brunswick  5.10172e+06  United States               US  New Jersey   \n",
       "1          Ulsan  1.83375e+06    South Korea               KR               \n",
       "2      Singapore  1.88025e+06      Singapore               SG               \n",
       "3      Singapore  1.88025e+06      Singapore               SG               \n",
       "4      Singapore  1.88025e+06      Singapore               SG               \n",
       "\n",
       "  aff_state_code          pub_id      researcher_id first_name  last_name  \n",
       "0          US-NJ  pub.1050119463   ur.0633062306.03     Manish  Chhowalla  \n",
       "1                 pub.1050119463  ur.07617630407.83  Hyeon Suk       Shin  \n",
       "2                 pub.1050119463  ur.01150450507.27       Goki        Eda  \n",
       "3                 pub.1050119463  ur.01150450507.27       Goki        Eda  \n",
       "4                 pub.1050119463  ur.01150450507.27       Goki        Eda  "
      ]
     },
     "execution_count": 16,
     "metadata": {},
     "output_type": "execute_result"
    }
   ],
   "source": [
    "affiliations = res.as_dataframe_authors_affiliations()\n",
    "affiliations.head()"
   ]
  },
  {
   "cell_type": "code",
   "execution_count": 17,
   "metadata": {
    "Collapsed": "false",
    "colab": {
     "base_uri": "https://localhost:8080/",
     "height": 219
    },
    "colab_type": "code",
    "executionInfo": {
     "elapsed": 797,
     "status": "ok",
     "timestamp": 1574681207520,
     "user": {
      "displayName": "Michele Pasin",
      "photoUrl": "https://lh3.googleusercontent.com/a-/AAuE7mBu8LVjIGgontF2Wax51BoL5KFx8esezX3bUmaa0g=s64",
      "userId": "10309320684375994511"
     },
     "user_tz": 0
    },
    "id": "Ci5OzQyJR4DV",
    "outputId": "35131ce4-d325-4d49-87a3-087198f0fb72"
   },
   "outputs": [
    {
     "data": {
      "text/html": [
       "<div>\n",
       "<style scoped>\n",
       "    .dataframe tbody tr th:only-of-type {\n",
       "        vertical-align: middle;\n",
       "    }\n",
       "\n",
       "    .dataframe tbody tr th {\n",
       "        vertical-align: top;\n",
       "    }\n",
       "\n",
       "    .dataframe thead th {\n",
       "        text-align: right;\n",
       "    }\n",
       "</style>\n",
       "<table border=\"1\" class=\"dataframe\">\n",
       "  <thead>\n",
       "    <tr style=\"text-align: right;\">\n",
       "      <th></th>\n",
       "      <th>aff_id</th>\n",
       "      <th>aff_name</th>\n",
       "      <th>aff_city</th>\n",
       "      <th>aff_city_id</th>\n",
       "      <th>aff_country</th>\n",
       "      <th>aff_country_code</th>\n",
       "      <th>aff_state</th>\n",
       "      <th>aff_state_code</th>\n",
       "      <th>pub_id</th>\n",
       "      <th>researcher_id</th>\n",
       "      <th>first_name</th>\n",
       "      <th>last_name</th>\n",
       "    </tr>\n",
       "  </thead>\n",
       "  <tbody>\n",
       "    <tr>\n",
       "      <th>count</th>\n",
       "      <td>7937</td>\n",
       "      <td>7937</td>\n",
       "      <td>7937</td>\n",
       "      <td>7937</td>\n",
       "      <td>7937</td>\n",
       "      <td>7937</td>\n",
       "      <td>7937</td>\n",
       "      <td>7937</td>\n",
       "      <td>7937</td>\n",
       "      <td>7937</td>\n",
       "      <td>7937</td>\n",
       "      <td>7937</td>\n",
       "    </tr>\n",
       "    <tr>\n",
       "      <th>unique</th>\n",
       "      <td>730</td>\n",
       "      <td>1119</td>\n",
       "      <td>449</td>\n",
       "      <td>451</td>\n",
       "      <td>52</td>\n",
       "      <td>52</td>\n",
       "      <td>53</td>\n",
       "      <td>53</td>\n",
       "      <td>985</td>\n",
       "      <td>4395</td>\n",
       "      <td>3512</td>\n",
       "      <td>2150</td>\n",
       "    </tr>\n",
       "    <tr>\n",
       "      <th>top</th>\n",
       "      <td></td>\n",
       "      <td>Nanyang Technological University</td>\n",
       "      <td></td>\n",
       "      <td></td>\n",
       "      <td>United States</td>\n",
       "      <td>US</td>\n",
       "      <td></td>\n",
       "      <td></td>\n",
       "      <td>pub.1019661721</td>\n",
       "      <td></td>\n",
       "      <td>Yi</td>\n",
       "      <td>Wang</td>\n",
       "    </tr>\n",
       "    <tr>\n",
       "      <th>freq</th>\n",
       "      <td>1062</td>\n",
       "      <td>237</td>\n",
       "      <td>1062</td>\n",
       "      <td>1068</td>\n",
       "      <td>2196</td>\n",
       "      <td>2196</td>\n",
       "      <td>5433</td>\n",
       "      <td>5433</td>\n",
       "      <td>108</td>\n",
       "      <td>192</td>\n",
       "      <td>72</td>\n",
       "      <td>318</td>\n",
       "    </tr>\n",
       "  </tbody>\n",
       "</table>\n",
       "</div>"
      ],
      "text/plain": [
       "       aff_id                          aff_name aff_city aff_city_id  \\\n",
       "count    7937                              7937     7937        7937   \n",
       "unique    730                              1119      449         451   \n",
       "top            Nanyang Technological University                        \n",
       "freq     1062                               237     1062        1068   \n",
       "\n",
       "          aff_country aff_country_code aff_state aff_state_code  \\\n",
       "count            7937             7937      7937           7937   \n",
       "unique             52               52        53             53   \n",
       "top     United States               US                            \n",
       "freq             2196             2196      5433           5433   \n",
       "\n",
       "                pub_id researcher_id first_name last_name  \n",
       "count             7937          7937       7937      7937  \n",
       "unique             985          4395       3512      2150  \n",
       "top     pub.1019661721                       Yi      Wang  \n",
       "freq               108           192         72       318  "
      ]
     },
     "execution_count": 17,
     "metadata": {},
     "output_type": "execute_result"
    }
   ],
   "source": [
    "affiliations.describe(include=\"all\")"
   ]
  },
  {
   "cell_type": "markdown",
   "metadata": {
    "Collapsed": "false",
    "colab_type": "text",
    "id": "at7DTaU5R4DW"
   },
   "source": [
    "Let's get the top ten values for `aff_id`. "
   ]
  },
  {
   "cell_type": "code",
   "execution_count": 18,
   "metadata": {
    "Collapsed": "false",
    "colab": {
     "base_uri": "https://localhost:8080/",
     "height": 204
    },
    "colab_type": "code",
    "executionInfo": {
     "elapsed": 877,
     "status": "ok",
     "timestamp": 1574681214999,
     "user": {
      "displayName": "Michele Pasin",
      "photoUrl": "https://lh3.googleusercontent.com/a-/AAuE7mBu8LVjIGgontF2Wax51BoL5KFx8esezX3bUmaa0g=s64",
      "userId": "10309320684375994511"
     },
     "user_tz": 0
    },
    "id": "o2zUnRg0R4DX",
    "outputId": "d777c549-679c-4623-8cb0-866ec0b4bc4b"
   },
   "outputs": [
    {
     "data": {
      "text/plain": [
       "                 1062\n",
       "grid.59025.3b     237\n",
       "grid.168010.e     226\n",
       "grid.19006.3e     135\n",
       "grid.4280.e       116\n",
       "grid.21729.3f     116\n",
       "grid.8217.c       113\n",
       "grid.5379.8       112\n",
       "grid.116068.8     104\n",
       "grid.12527.33      90\n",
       "Name: aff_id, dtype: int64"
      ]
     },
     "execution_count": 18,
     "metadata": {},
     "output_type": "execute_result"
    }
   ],
   "source": [
    "affiliations['aff_id'].value_counts()[:10]"
   ]
  },
  {
   "cell_type": "markdown",
   "metadata": {
    "Collapsed": "false",
    "colab_type": "text",
    "id": "Zmv0M_PkR4DZ"
   },
   "source": [
    "Another example: we can now easily analyze the data by country too. "
   ]
  },
  {
   "cell_type": "code",
   "execution_count": 19,
   "metadata": {
    "Collapsed": "false",
    "colab": {
     "base_uri": "https://localhost:8080/",
     "height": 204
    },
    "colab_type": "code",
    "executionInfo": {
     "elapsed": 1021,
     "status": "ok",
     "timestamp": 1574681222068,
     "user": {
      "displayName": "Michele Pasin",
      "photoUrl": "https://lh3.googleusercontent.com/a-/AAuE7mBu8LVjIGgontF2Wax51BoL5KFx8esezX3bUmaa0g=s64",
      "userId": "10309320684375994511"
     },
     "user_tz": 0
    },
    "id": "OnmvjI-8R4DZ",
    "outputId": "d596422c-961f-471f-9cb4-289fc066cb71"
   },
   "outputs": [
    {
     "data": {
      "text/plain": [
       "United States     2196\n",
       "China             1811\n",
       "                  1062\n",
       "Singapore          377\n",
       "United Kingdom     344\n",
       "South Korea        330\n",
       "Germany            231\n",
       "Australia          180\n",
       "Japan              162\n",
       "Switzerland        128\n",
       "Name: aff_country, dtype: int64"
      ]
     },
     "execution_count": 19,
     "metadata": {},
     "output_type": "execute_result"
    }
   ],
   "source": [
    "affiliations['aff_country'].value_counts()[:10]"
   ]
  },
  {
   "cell_type": "markdown",
   "metadata": {
    "Collapsed": "false",
    "colab_type": "text",
    "id": "a83GEMfQR4Db"
   },
   "source": [
    "> Explanation: the vast majority of authors in this dataset are from China, closely followed by the USA. "
   ]
  },
  {
   "cell_type": "markdown",
   "metadata": {
    "Collapsed": "false",
    "colab_type": "text",
    "id": "69JItbFgR4Db"
   },
   "source": [
    "## 3. Dataframe Methods for 'Grants' queries"
   ]
  },
  {
   "cell_type": "markdown",
   "metadata": {
    "Collapsed": "false",
    "colab_type": "text",
    "id": "P0FLXthRR4Dc"
   },
   "source": [
    "###  Extracting Funders: `as_dataframe_funders`\n",
    "\n",
    "Grant funders authors are usually returned by the Dimensions API inside a nested JSON object in the `funders` sub-key. \n",
    "\n",
    "This methods allows to quickly extract that data and return a dataframe with **one row per funder**."
   ]
  },
  {
   "cell_type": "code",
   "execution_count": 20,
   "metadata": {
    "Collapsed": "false",
    "colab": {
     "base_uri": "https://localhost:8080/",
     "height": 34
    },
    "colab_type": "code",
    "executionInfo": {
     "elapsed": 3344,
     "status": "ok",
     "timestamp": 1574681269386,
     "user": {
      "displayName": "Michele Pasin",
      "photoUrl": "https://lh3.googleusercontent.com/a-/AAuE7mBu8LVjIGgontF2Wax51BoL5KFx8esezX3bUmaa0g=s64",
      "userId": "10309320684375994511"
     },
     "user_tz": 0
    },
    "id": "kjxgoy_VR4Dc",
    "outputId": "59ee9e43-ed66-4e6f-ee5e-7e81e5f9d515"
   },
   "outputs": [
    {
     "name": "stdout",
     "output_type": "stream",
     "text": [
      "Returned Grants: 1000 (total = 11605)\n",
      "\u001b[2mTime: 1.78s\u001b[0m\n"
     ]
    }
   ],
   "source": [
    "# get a sample list of grants\n",
    "query = \"\"\"search grants for \"malaria\" return grants limit 1000\"\"\"\n",
    "res = dsl.query(query)"
   ]
  },
  {
   "cell_type": "code",
   "execution_count": 21,
   "metadata": {
    "Collapsed": "false",
    "colab": {
     "base_uri": "https://localhost:8080/",
     "height": 1000
    },
    "colab_type": "code",
    "executionInfo": {
     "elapsed": 736,
     "status": "ok",
     "timestamp": 1574681271845,
     "user": {
      "displayName": "Michele Pasin",
      "photoUrl": "https://lh3.googleusercontent.com/a-/AAuE7mBu8LVjIGgontF2Wax51BoL5KFx8esezX3bUmaa0g=s64",
      "userId": "10309320684375994511"
     },
     "user_tz": 0
    },
    "id": "56iPhGTUR4Dd",
    "outputId": "c94bba81-caf4-4f7b-e85b-e8969e4c8b6a"
   },
   "outputs": [
    {
     "data": {
      "text/html": [
       "<div>\n",
       "<style scoped>\n",
       "    .dataframe tbody tr th:only-of-type {\n",
       "        vertical-align: middle;\n",
       "    }\n",
       "\n",
       "    .dataframe tbody tr th {\n",
       "        vertical-align: top;\n",
       "    }\n",
       "\n",
       "    .dataframe thead th {\n",
       "        text-align: right;\n",
       "    }\n",
       "</style>\n",
       "<table border=\"1\" class=\"dataframe\">\n",
       "  <thead>\n",
       "    <tr style=\"text-align: right;\">\n",
       "      <th></th>\n",
       "      <th>id</th>\n",
       "      <th>name</th>\n",
       "      <th>acronym</th>\n",
       "      <th>latitude</th>\n",
       "      <th>types</th>\n",
       "      <th>linkout</th>\n",
       "      <th>country_name</th>\n",
       "      <th>longitude</th>\n",
       "      <th>city_name</th>\n",
       "      <th>state_name</th>\n",
       "      <th>grant_id</th>\n",
       "      <th>grant_title</th>\n",
       "      <th>grant_start_date</th>\n",
       "      <th>grant_end_date</th>\n",
       "    </tr>\n",
       "  </thead>\n",
       "  <tbody>\n",
       "    <tr>\n",
       "      <th>0</th>\n",
       "      <td>grid.270680.b</td>\n",
       "      <td>European Commission</td>\n",
       "      <td>EC</td>\n",
       "      <td>50.851650</td>\n",
       "      <td>[Government]</td>\n",
       "      <td>[http://ec.europa.eu/index_en.htm]</td>\n",
       "      <td>Belgium</td>\n",
       "      <td>4.363670</td>\n",
       "      <td>Brussels</td>\n",
       "      <td>NaN</td>\n",
       "      <td>grant.9064941</td>\n",
       "      <td>The molecular mechanisms of sex determination ...</td>\n",
       "      <td>2021-09-01</td>\n",
       "      <td>2023-08-31</td>\n",
       "    </tr>\n",
       "    <tr>\n",
       "      <th>1</th>\n",
       "      <td>grid.270680.b</td>\n",
       "      <td>European Commission</td>\n",
       "      <td>EC</td>\n",
       "      <td>50.851650</td>\n",
       "      <td>[Government]</td>\n",
       "      <td>[http://ec.europa.eu/index_en.htm]</td>\n",
       "      <td>Belgium</td>\n",
       "      <td>4.363670</td>\n",
       "      <td>Brussels</td>\n",
       "      <td>NaN</td>\n",
       "      <td>grant.9065769</td>\n",
       "      <td>Surveilling Malaria through machine learning a...</td>\n",
       "      <td>2021-04-01</td>\n",
       "      <td>2023-03-31</td>\n",
       "    </tr>\n",
       "    <tr>\n",
       "      <th>2</th>\n",
       "      <td>grid.425888.b</td>\n",
       "      <td>Swiss National Science Foundation</td>\n",
       "      <td>SNF</td>\n",
       "      <td>46.949230</td>\n",
       "      <td>[Government]</td>\n",
       "      <td>[http://www.snf.ch/en]</td>\n",
       "      <td>Switzerland</td>\n",
       "      <td>7.432395</td>\n",
       "      <td>Bern</td>\n",
       "      <td>NaN</td>\n",
       "      <td>grant.8968483</td>\n",
       "      <td>Adressing concerns over gene drive based malar...</td>\n",
       "      <td>2020-11-01</td>\n",
       "      <td>2021-01-31</td>\n",
       "    </tr>\n",
       "    <tr>\n",
       "      <th>3</th>\n",
       "      <td>grid.25111.36</td>\n",
       "      <td>FWF Austrian Science Fund</td>\n",
       "      <td>FWF</td>\n",
       "      <td>48.219303</td>\n",
       "      <td>[Nonprofit]</td>\n",
       "      <td>[https://www.fwf.ac.at/en/]</td>\n",
       "      <td>Austria</td>\n",
       "      <td>16.352383</td>\n",
       "      <td>Vienna</td>\n",
       "      <td>NaN</td>\n",
       "      <td>grant.8966928</td>\n",
       "      <td>Further insights into the pathogenesis of avia...</td>\n",
       "      <td>2020-10-01</td>\n",
       "      <td>2023-09-30</td>\n",
       "    </tr>\n",
       "    <tr>\n",
       "      <th>4</th>\n",
       "      <td>grid.270680.b</td>\n",
       "      <td>European Commission</td>\n",
       "      <td>EC</td>\n",
       "      <td>50.851650</td>\n",
       "      <td>[Government]</td>\n",
       "      <td>[http://ec.europa.eu/index_en.htm]</td>\n",
       "      <td>Belgium</td>\n",
       "      <td>4.363670</td>\n",
       "      <td>Brussels</td>\n",
       "      <td>NaN</td>\n",
       "      <td>grant.8964341</td>\n",
       "      <td>mAlaRIa Sex dEtermination</td>\n",
       "      <td>2020-10-01</td>\n",
       "      <td>2022-09-30</td>\n",
       "    </tr>\n",
       "    <tr>\n",
       "      <th>5</th>\n",
       "      <td>grid.457875.c</td>\n",
       "      <td>Directorate for Mathematical &amp; Physical Sciences</td>\n",
       "      <td>NSF MPS</td>\n",
       "      <td>38.880566</td>\n",
       "      <td>[Government]</td>\n",
       "      <td>[http://www.nsf.gov/dir/index.jsp?org=MPS]</td>\n",
       "      <td>United States</td>\n",
       "      <td>-77.110990</td>\n",
       "      <td>Arlington</td>\n",
       "      <td>Virginia</td>\n",
       "      <td>grant.9314067</td>\n",
       "      <td>Accurate and Interpretable Machine Learning fo...</td>\n",
       "      <td>2020-09-01</td>\n",
       "      <td>2023-08-31</td>\n",
       "    </tr>\n",
       "    <tr>\n",
       "      <th>6</th>\n",
       "      <td>grid.418100.c</td>\n",
       "      <td>Biotechnology and Biological Sciences Research...</td>\n",
       "      <td>BBSRC</td>\n",
       "      <td>51.566742</td>\n",
       "      <td>[Government]</td>\n",
       "      <td>[http://www.bbsrc.ac.uk/]</td>\n",
       "      <td>United Kingdom</td>\n",
       "      <td>-1.784771</td>\n",
       "      <td>Swindon</td>\n",
       "      <td>Wiltshire</td>\n",
       "      <td>grant.9288877</td>\n",
       "      <td>Characterisation of a new family of zinc finge...</td>\n",
       "      <td>2020-08-31</td>\n",
       "      <td>2023-08-30</td>\n",
       "    </tr>\n",
       "    <tr>\n",
       "      <th>7</th>\n",
       "      <td>grid.248883.d</td>\n",
       "      <td>Canadian Institutes of Health Research</td>\n",
       "      <td>CIHR</td>\n",
       "      <td>45.381893</td>\n",
       "      <td>[Government]</td>\n",
       "      <td>[http://www.cihr-irsc.gc.ca/e/193.html]</td>\n",
       "      <td>Canada</td>\n",
       "      <td>-75.745224</td>\n",
       "      <td>Ottawa</td>\n",
       "      <td>Ontario</td>\n",
       "      <td>grant.9213792</td>\n",
       "      <td>Mechanism of protein translocation across the ...</td>\n",
       "      <td>2020-08-01</td>\n",
       "      <td>2022-07-31</td>\n",
       "    </tr>\n",
       "    <tr>\n",
       "      <th>8</th>\n",
       "      <td>grid.419681.3</td>\n",
       "      <td>National Institute of Allergy and Infectious D...</td>\n",
       "      <td>NIAID</td>\n",
       "      <td>39.066647</td>\n",
       "      <td>[Facility]</td>\n",
       "      <td>[http://www.niaid.nih.gov/Pages/default.aspx]</td>\n",
       "      <td>United States</td>\n",
       "      <td>-77.111830</td>\n",
       "      <td>Bethesda</td>\n",
       "      <td>Maryland</td>\n",
       "      <td>grant.9292319</td>\n",
       "      <td>Benzoxaborole-based antimalarial drug discovery</td>\n",
       "      <td>2020-07-08</td>\n",
       "      <td>2022-06-30</td>\n",
       "    </tr>\n",
       "    <tr>\n",
       "      <th>9</th>\n",
       "      <td>grid.452896.4</td>\n",
       "      <td>European Research Council</td>\n",
       "      <td>ERC</td>\n",
       "      <td>50.856167</td>\n",
       "      <td>[Government]</td>\n",
       "      <td>[http://erc.europa.eu/]</td>\n",
       "      <td>Belgium</td>\n",
       "      <td>4.359973</td>\n",
       "      <td>Brussels</td>\n",
       "      <td>NaN</td>\n",
       "      <td>grant.9244737</td>\n",
       "      <td>Quantifying the spread of P. falciparum malaria</td>\n",
       "      <td>2020-07-01</td>\n",
       "      <td>2025-06-30</td>\n",
       "    </tr>\n",
       "  </tbody>\n",
       "</table>\n",
       "</div>"
      ],
      "text/plain": [
       "              id                                               name  acronym  \\\n",
       "0  grid.270680.b                                European Commission       EC   \n",
       "1  grid.270680.b                                European Commission       EC   \n",
       "2  grid.425888.b                  Swiss National Science Foundation      SNF   \n",
       "3  grid.25111.36                          FWF Austrian Science Fund      FWF   \n",
       "4  grid.270680.b                                European Commission       EC   \n",
       "5  grid.457875.c   Directorate for Mathematical & Physical Sciences  NSF MPS   \n",
       "6  grid.418100.c  Biotechnology and Biological Sciences Research...    BBSRC   \n",
       "7  grid.248883.d             Canadian Institutes of Health Research     CIHR   \n",
       "8  grid.419681.3  National Institute of Allergy and Infectious D...    NIAID   \n",
       "9  grid.452896.4                          European Research Council      ERC   \n",
       "\n",
       "    latitude         types                                        linkout  \\\n",
       "0  50.851650  [Government]             [http://ec.europa.eu/index_en.htm]   \n",
       "1  50.851650  [Government]             [http://ec.europa.eu/index_en.htm]   \n",
       "2  46.949230  [Government]                         [http://www.snf.ch/en]   \n",
       "3  48.219303   [Nonprofit]                    [https://www.fwf.ac.at/en/]   \n",
       "4  50.851650  [Government]             [http://ec.europa.eu/index_en.htm]   \n",
       "5  38.880566  [Government]     [http://www.nsf.gov/dir/index.jsp?org=MPS]   \n",
       "6  51.566742  [Government]                      [http://www.bbsrc.ac.uk/]   \n",
       "7  45.381893  [Government]        [http://www.cihr-irsc.gc.ca/e/193.html]   \n",
       "8  39.066647    [Facility]  [http://www.niaid.nih.gov/Pages/default.aspx]   \n",
       "9  50.856167  [Government]                        [http://erc.europa.eu/]   \n",
       "\n",
       "     country_name  longitude  city_name state_name       grant_id  \\\n",
       "0         Belgium   4.363670   Brussels        NaN  grant.9064941   \n",
       "1         Belgium   4.363670   Brussels        NaN  grant.9065769   \n",
       "2     Switzerland   7.432395       Bern        NaN  grant.8968483   \n",
       "3         Austria  16.352383     Vienna        NaN  grant.8966928   \n",
       "4         Belgium   4.363670   Brussels        NaN  grant.8964341   \n",
       "5   United States -77.110990  Arlington   Virginia  grant.9314067   \n",
       "6  United Kingdom  -1.784771    Swindon  Wiltshire  grant.9288877   \n",
       "7          Canada -75.745224     Ottawa    Ontario  grant.9213792   \n",
       "8   United States -77.111830   Bethesda   Maryland  grant.9292319   \n",
       "9         Belgium   4.359973   Brussels        NaN  grant.9244737   \n",
       "\n",
       "                                         grant_title grant_start_date  \\\n",
       "0  The molecular mechanisms of sex determination ...       2021-09-01   \n",
       "1  Surveilling Malaria through machine learning a...       2021-04-01   \n",
       "2  Adressing concerns over gene drive based malar...       2020-11-01   \n",
       "3  Further insights into the pathogenesis of avia...       2020-10-01   \n",
       "4                          mAlaRIa Sex dEtermination       2020-10-01   \n",
       "5  Accurate and Interpretable Machine Learning fo...       2020-09-01   \n",
       "6  Characterisation of a new family of zinc finge...       2020-08-31   \n",
       "7  Mechanism of protein translocation across the ...       2020-08-01   \n",
       "8    Benzoxaborole-based antimalarial drug discovery       2020-07-08   \n",
       "9    Quantifying the spread of P. falciparum malaria       2020-07-01   \n",
       "\n",
       "  grant_end_date  \n",
       "0     2023-08-31  \n",
       "1     2023-03-31  \n",
       "2     2021-01-31  \n",
       "3     2023-09-30  \n",
       "4     2022-09-30  \n",
       "5     2023-08-31  \n",
       "6     2023-08-30  \n",
       "7     2022-07-31  \n",
       "8     2022-06-30  \n",
       "9     2025-06-30  "
      ]
     },
     "execution_count": 21,
     "metadata": {},
     "output_type": "execute_result"
    }
   ],
   "source": [
    "res.as_dataframe_funders().head(10)"
   ]
  },
  {
   "cell_type": "markdown",
   "metadata": {
    "Collapsed": "false",
    "colab_type": "text",
    "id": "UqanXsrmR4Df"
   },
   "source": [
    "### Extracting investigators: `as_dataframe_investigators`\n",
    "\n",
    "Grant investigators are usually returned by the Dimensions API inside a nested JSON object in the `investigator_details` sub-key. \n",
    "\n",
    "This methods allows to quickly extract that data and return a dataframe with **one row per investigator**.\n",
    "\n",
    "> NOTE: `investigator_details` are not returned by default in a grants query hence one must specify this in the query results"
   ]
  },
  {
   "cell_type": "code",
   "execution_count": 22,
   "metadata": {
    "Collapsed": "false",
    "colab": {
     "base_uri": "https://localhost:8080/",
     "height": 88
    },
    "colab_type": "code",
    "executionInfo": {
     "elapsed": 3591,
     "status": "ok",
     "timestamp": 1574681293076,
     "user": {
      "displayName": "Michele Pasin",
      "photoUrl": "https://lh3.googleusercontent.com/a-/AAuE7mBu8LVjIGgontF2Wax51BoL5KFx8esezX3bUmaa0g=s64",
      "userId": "10309320684375994511"
     },
     "user_tz": 0
    },
    "id": "QZS6TePGR4Df",
    "outputId": "aae7e731-18a0-488f-b65f-111dfab61b8b"
   },
   "outputs": [
    {
     "name": "stdout",
     "output_type": "stream",
     "text": [
      "Returned Grants: 1000 (total = 11605)\n",
      "\u001b[2mTime: 2.04s\u001b[0m\n",
      "WARNINGS [2]\n",
      "Field 'title_language' is deprecated in favor of language_title. Please refer to https://docs.dimensions.ai/dsl/releasenotes.html for more details\n",
      "Field 'project_num' is deprecated in favor of grant_number. Please refer to https://docs.dimensions.ai/dsl/releasenotes.html for more details\n"
     ]
    }
   ],
   "source": [
    "# get a sample list of grants\n",
    "query = \"\"\"search grants for \"malaria\" return grants[basics+investigator_details] limit 1000\"\"\"\n",
    "res = dsl.query(query)"
   ]
  },
  {
   "cell_type": "code",
   "execution_count": 23,
   "metadata": {
    "Collapsed": "false"
   },
   "outputs": [
    {
     "data": {
      "text/html": [
       "<div>\n",
       "<style scoped>\n",
       "    .dataframe tbody tr th:only-of-type {\n",
       "        vertical-align: middle;\n",
       "    }\n",
       "\n",
       "    .dataframe tbody tr th {\n",
       "        vertical-align: top;\n",
       "    }\n",
       "\n",
       "    .dataframe thead th {\n",
       "        text-align: right;\n",
       "    }\n",
       "</style>\n",
       "<table border=\"1\" class=\"dataframe\">\n",
       "  <thead>\n",
       "    <tr style=\"text-align: right;\">\n",
       "      <th></th>\n",
       "      <th>id</th>\n",
       "      <th>first_name</th>\n",
       "      <th>middle_name</th>\n",
       "      <th>last_name</th>\n",
       "      <th>role</th>\n",
       "      <th>affiliations</th>\n",
       "      <th>grant_id</th>\n",
       "      <th>grant_title</th>\n",
       "      <th>grant_start_date</th>\n",
       "      <th>grant_end_date</th>\n",
       "    </tr>\n",
       "  </thead>\n",
       "  <tbody>\n",
       "    <tr>\n",
       "      <th>0</th>\n",
       "      <td>ur.016225703001.43</td>\n",
       "      <td>Marie-Valentine</td>\n",
       "      <td>None</td>\n",
       "      <td>Florin</td>\n",
       "      <td>PI</td>\n",
       "      <td>[{'id': 'grid.5333.6', 'name': 'EPF Lausanne',...</td>\n",
       "      <td>grant.8968483</td>\n",
       "      <td>Adressing concerns over gene drive based malar...</td>\n",
       "      <td>2020-11-01</td>\n",
       "      <td>2021-01-31</td>\n",
       "    </tr>\n",
       "    <tr>\n",
       "      <th>1</th>\n",
       "      <td>ur.01207752573.80</td>\n",
       "      <td>Herbert</td>\n",
       "      <td></td>\n",
       "      <td>WEISSENBÖCK</td>\n",
       "      <td>PI</td>\n",
       "      <td>[{'id': 'grid.6583.8', 'name': 'Veterinärmediz...</td>\n",
       "      <td>grant.8966928</td>\n",
       "      <td>Further insights into the pathogenesis of avia...</td>\n",
       "      <td>2020-10-01</td>\n",
       "      <td>2023-09-30</td>\n",
       "    </tr>\n",
       "    <tr>\n",
       "      <th>2</th>\n",
       "      <td>None</td>\n",
       "      <td>David</td>\n",
       "      <td>None</td>\n",
       "      <td>Benkeser</td>\n",
       "      <td>PI</td>\n",
       "      <td>[{'id': 'grid.189967.8', 'name': 'Emory Univer...</td>\n",
       "      <td>grant.9314067</td>\n",
       "      <td>Accurate and Interpretable Machine Learning fo...</td>\n",
       "      <td>2020-09-01</td>\n",
       "      <td>2023-08-31</td>\n",
       "    </tr>\n",
       "    <tr>\n",
       "      <th>3</th>\n",
       "      <td>None</td>\n",
       "      <td>Katarzyna</td>\n",
       "      <td>Kinga</td>\n",
       "      <td>Modrzynska</td>\n",
       "      <td>PI</td>\n",
       "      <td>[{'id': 'grid.8756.c', 'name': 'University of ...</td>\n",
       "      <td>grant.9288877</td>\n",
       "      <td>Characterisation of a new family of zinc finge...</td>\n",
       "      <td>2020-08-31</td>\n",
       "      <td>2023-08-30</td>\n",
       "    </tr>\n",
       "    <tr>\n",
       "      <th>4</th>\n",
       "      <td>ur.0667564616.06</td>\n",
       "      <td>Ruijie</td>\n",
       "      <td>Darius</td>\n",
       "      <td>Teo</td>\n",
       "      <td>PI</td>\n",
       "      <td>NaN</td>\n",
       "      <td>grant.9213792</td>\n",
       "      <td>Mechanism of protein translocation across the ...</td>\n",
       "      <td>2020-08-01</td>\n",
       "      <td>2022-07-31</td>\n",
       "    </tr>\n",
       "    <tr>\n",
       "      <th>5</th>\n",
       "      <td>ur.07631437760.18</td>\n",
       "      <td>Peter</td>\n",
       "      <td>Dirk</td>\n",
       "      <td>Tieleman</td>\n",
       "      <td>Co-PI</td>\n",
       "      <td>NaN</td>\n",
       "      <td>grant.9213792</td>\n",
       "      <td>Mechanism of protein translocation across the ...</td>\n",
       "      <td>2020-08-01</td>\n",
       "      <td>2022-07-31</td>\n",
       "    </tr>\n",
       "    <tr>\n",
       "      <th>6</th>\n",
       "      <td>None</td>\n",
       "      <td>MARISSA</td>\n",
       "      <td>None</td>\n",
       "      <td>AUBREY</td>\n",
       "      <td>PI</td>\n",
       "      <td>[{'id': None, 'name': 'BORAGEN INC', 'city': '...</td>\n",
       "      <td>grant.9292319</td>\n",
       "      <td>Benzoxaborole-based antimalarial drug discovery</td>\n",
       "      <td>2020-07-08</td>\n",
       "      <td>2022-06-30</td>\n",
       "    </tr>\n",
       "    <tr>\n",
       "      <th>7</th>\n",
       "      <td>None</td>\n",
       "      <td>Jan Teun</td>\n",
       "      <td>None</td>\n",
       "      <td>BOUSEMA</td>\n",
       "      <td>PI</td>\n",
       "      <td>[{'id': 'grid.5590.9', 'name': 'STICHTING KATH...</td>\n",
       "      <td>grant.9244737</td>\n",
       "      <td>Quantifying the spread of P. falciparum malaria</td>\n",
       "      <td>2020-07-01</td>\n",
       "      <td>2025-06-30</td>\n",
       "    </tr>\n",
       "    <tr>\n",
       "      <th>8</th>\n",
       "      <td>ur.010462641253.51</td>\n",
       "      <td>José</td>\n",
       "      <td>Pedro</td>\n",
       "      <td>Gil</td>\n",
       "      <td>PI</td>\n",
       "      <td>[{'id': 'grid.4714.6', 'name': 'Karolinska ins...</td>\n",
       "      <td>grant.9242920</td>\n",
       "      <td>Beyond pvmdr1 and pvcrt: Search for relevant d...</td>\n",
       "      <td>2020-07-01</td>\n",
       "      <td>2021-06-30</td>\n",
       "    </tr>\n",
       "    <tr>\n",
       "      <th>9</th>\n",
       "      <td>ur.07665260653.48</td>\n",
       "      <td>Jose</td>\n",
       "      <td>Pedro</td>\n",
       "      <td>Gil</td>\n",
       "      <td>PI</td>\n",
       "      <td>[{'id': 'grid.4714.6', 'name': 'Karolinska ins...</td>\n",
       "      <td>grant.9242920</td>\n",
       "      <td>Beyond pvmdr1 and pvcrt: Search for relevant d...</td>\n",
       "      <td>2020-07-01</td>\n",
       "      <td>2021-06-30</td>\n",
       "    </tr>\n",
       "  </tbody>\n",
       "</table>\n",
       "</div>"
      ],
      "text/plain": [
       "                   id       first_name middle_name    last_name   role  \\\n",
       "0  ur.016225703001.43  Marie-Valentine        None       Florin     PI   \n",
       "1   ur.01207752573.80          Herbert              WEISSENBÖCK     PI   \n",
       "2                None            David        None     Benkeser     PI   \n",
       "3                None        Katarzyna       Kinga   Modrzynska     PI   \n",
       "4    ur.0667564616.06           Ruijie      Darius          Teo     PI   \n",
       "5   ur.07631437760.18            Peter        Dirk     Tieleman  Co-PI   \n",
       "6                None          MARISSA        None       AUBREY     PI   \n",
       "7                None         Jan Teun        None      BOUSEMA     PI   \n",
       "8  ur.010462641253.51             José       Pedro          Gil     PI   \n",
       "9   ur.07665260653.48             Jose       Pedro          Gil     PI   \n",
       "\n",
       "                                        affiliations       grant_id  \\\n",
       "0  [{'id': 'grid.5333.6', 'name': 'EPF Lausanne',...  grant.8968483   \n",
       "1  [{'id': 'grid.6583.8', 'name': 'Veterinärmediz...  grant.8966928   \n",
       "2  [{'id': 'grid.189967.8', 'name': 'Emory Univer...  grant.9314067   \n",
       "3  [{'id': 'grid.8756.c', 'name': 'University of ...  grant.9288877   \n",
       "4                                                NaN  grant.9213792   \n",
       "5                                                NaN  grant.9213792   \n",
       "6  [{'id': None, 'name': 'BORAGEN INC', 'city': '...  grant.9292319   \n",
       "7  [{'id': 'grid.5590.9', 'name': 'STICHTING KATH...  grant.9244737   \n",
       "8  [{'id': 'grid.4714.6', 'name': 'Karolinska ins...  grant.9242920   \n",
       "9  [{'id': 'grid.4714.6', 'name': 'Karolinska ins...  grant.9242920   \n",
       "\n",
       "                                         grant_title grant_start_date  \\\n",
       "0  Adressing concerns over gene drive based malar...       2020-11-01   \n",
       "1  Further insights into the pathogenesis of avia...       2020-10-01   \n",
       "2  Accurate and Interpretable Machine Learning fo...       2020-09-01   \n",
       "3  Characterisation of a new family of zinc finge...       2020-08-31   \n",
       "4  Mechanism of protein translocation across the ...       2020-08-01   \n",
       "5  Mechanism of protein translocation across the ...       2020-08-01   \n",
       "6    Benzoxaborole-based antimalarial drug discovery       2020-07-08   \n",
       "7    Quantifying the spread of P. falciparum malaria       2020-07-01   \n",
       "8  Beyond pvmdr1 and pvcrt: Search for relevant d...       2020-07-01   \n",
       "9  Beyond pvmdr1 and pvcrt: Search for relevant d...       2020-07-01   \n",
       "\n",
       "  grant_end_date  \n",
       "0     2021-01-31  \n",
       "1     2023-09-30  \n",
       "2     2023-08-31  \n",
       "3     2023-08-30  \n",
       "4     2022-07-31  \n",
       "5     2022-07-31  \n",
       "6     2022-06-30  \n",
       "7     2025-06-30  \n",
       "8     2021-06-30  \n",
       "9     2021-06-30  "
      ]
     },
     "execution_count": 23,
     "metadata": {},
     "output_type": "execute_result"
    }
   ],
   "source": [
    "res.as_dataframe_investigators().head(10)"
   ]
  },
  {
   "cell_type": "markdown",
   "metadata": {
    "Collapsed": "false",
    "colab_type": "text",
    "id": "p2eN2Y8GR4DT"
   },
   "source": [
    "## 4. Dataframe Methods for 'Concepts' queries\n",
    "\n",
    "These methods can be used with all content types that support the extraction of concepts, i.e., `publications` or `grants`. See the [official documentation](https://docs.dimensions.ai/dsl/data-sources.html) for more details."
   ]
  },
  {
   "cell_type": "markdown",
   "metadata": {
    "Collapsed": "false",
    "colab_type": "text",
    "id": "p2eN2Y8GR4DT"
   },
   "source": [
    "### Extracting Concepts: `as_dataframe_concepts`\n",
    "\n",
    "The `as_dataframe_concepts` method allows to quickly extract all concepts attached to a record, **one row per concept**, so to make it easier to do operations like counting or plotting the results.\n",
    "\n",
    "NOTE: concepts are normalized *noun phrases* describing the main topics of a document, which are automatically derived from the full text  using machine learning. In the JSON data, concepts are available as an ordered list (=first items are the most relevant), including a relevance score. E.g. for the publications with ID 'pub.1122072646': \n",
    "\n",
    "```\n",
    "{'id': 'pub.1122072646',\n",
    "'concepts_scores': [{'concept': 'acid', 'relevance': 0.07450046286579201}, \n",
    "                    {'concept': 'conversion', 'relevance': 0.055053872555463006}, \n",
    "                    {'concept': 'formic acid', 'relevance': 0.048144671935356},\n",
    "                    {'concept': 'CO2', 'relevance': 0.032150964737607}\n",
    "                    [........]\n",
    "                    ],\n",
    " }\n",
    "```\n",
    "\n",
    "The `as_dataframe_concepts` extracts all concepts data from JSON to a dataframe (ps this is functionally similarly to pandas's [explode method](https://pandas.pydata.org/pandas-docs/stable/reference/api/pandas.DataFrame.explode.html)). Moreover, it automatically creates a number of metrics that can be used to carry out further analyses, like `frequency` and `score_avg`. "
   ]
  },
  {
   "cell_type": "code",
   "execution_count": 24,
   "metadata": {
    "Collapsed": "false"
   },
   "outputs": [
    {
     "name": "stdout",
     "output_type": "stream",
     "text": [
      "Returned Publications: 100 (total = 101443)\n",
      "\u001b[2mTime: 1.23s\u001b[0m\n",
      "Concepts found:  4880\n",
      "Unique:  3050\n"
     ]
    },
    {
     "data": {
      "text/html": [
       "<div>\n",
       "<style scoped>\n",
       "    .dataframe tbody tr th:only-of-type {\n",
       "        vertical-align: middle;\n",
       "    }\n",
       "\n",
       "    .dataframe tbody tr th {\n",
       "        vertical-align: top;\n",
       "    }\n",
       "\n",
       "    .dataframe thead th {\n",
       "        text-align: right;\n",
       "    }\n",
       "</style>\n",
       "<table border=\"1\" class=\"dataframe\">\n",
       "  <thead>\n",
       "    <tr style=\"text-align: right;\">\n",
       "      <th></th>\n",
       "      <th>title</th>\n",
       "      <th>year</th>\n",
       "      <th>id</th>\n",
       "      <th>concepts_count</th>\n",
       "      <th>concept</th>\n",
       "      <th>score</th>\n",
       "      <th>frequency</th>\n",
       "      <th>score_avg</th>\n",
       "    </tr>\n",
       "  </thead>\n",
       "  <tbody>\n",
       "    <tr>\n",
       "      <th>0</th>\n",
       "      <td>Smart Non-Woven Fiber Mats with Light-Induced ...</td>\n",
       "      <td>2019</td>\n",
       "      <td>pub.1123764889</td>\n",
       "      <td>63</td>\n",
       "      <td>non-woven fiber mats</td>\n",
       "      <td>0.78424</td>\n",
       "      <td>1</td>\n",
       "      <td>0.78424</td>\n",
       "    </tr>\n",
       "    <tr>\n",
       "      <th>1</th>\n",
       "      <td>Smart Non-Woven Fiber Mats with Light-Induced ...</td>\n",
       "      <td>2019</td>\n",
       "      <td>pub.1123764889</td>\n",
       "      <td>63</td>\n",
       "      <td>polymer matrix</td>\n",
       "      <td>0.72761</td>\n",
       "      <td>3</td>\n",
       "      <td>0.64380</td>\n",
       "    </tr>\n",
       "    <tr>\n",
       "      <th>2</th>\n",
       "      <td>Smart Non-Woven Fiber Mats with Light-Induced ...</td>\n",
       "      <td>2019</td>\n",
       "      <td>pub.1123764889</td>\n",
       "      <td>63</td>\n",
       "      <td>atom transfer radical polymerization</td>\n",
       "      <td>0.72668</td>\n",
       "      <td>1</td>\n",
       "      <td>0.72668</td>\n",
       "    </tr>\n",
       "    <tr>\n",
       "      <th>3</th>\n",
       "      <td>Smart Non-Woven Fiber Mats with Light-Induced ...</td>\n",
       "      <td>2019</td>\n",
       "      <td>pub.1123764889</td>\n",
       "      <td>63</td>\n",
       "      <td>transfer radical polymerization</td>\n",
       "      <td>0.70781</td>\n",
       "      <td>1</td>\n",
       "      <td>0.70781</td>\n",
       "    </tr>\n",
       "    <tr>\n",
       "      <th>4</th>\n",
       "      <td>Smart Non-Woven Fiber Mats with Light-Induced ...</td>\n",
       "      <td>2019</td>\n",
       "      <td>pub.1123764889</td>\n",
       "      <td>63</td>\n",
       "      <td>ray photoelectron spectroscopy</td>\n",
       "      <td>0.69869</td>\n",
       "      <td>4</td>\n",
       "      <td>0.65301</td>\n",
       "    </tr>\n",
       "  </tbody>\n",
       "</table>\n",
       "</div>"
      ],
      "text/plain": [
       "                                               title  year              id  \\\n",
       "0  Smart Non-Woven Fiber Mats with Light-Induced ...  2019  pub.1123764889   \n",
       "1  Smart Non-Woven Fiber Mats with Light-Induced ...  2019  pub.1123764889   \n",
       "2  Smart Non-Woven Fiber Mats with Light-Induced ...  2019  pub.1123764889   \n",
       "3  Smart Non-Woven Fiber Mats with Light-Induced ...  2019  pub.1123764889   \n",
       "4  Smart Non-Woven Fiber Mats with Light-Induced ...  2019  pub.1123764889   \n",
       "\n",
       "   concepts_count                               concept    score  frequency  \\\n",
       "0              63                  non-woven fiber mats  0.78424          1   \n",
       "1              63                        polymer matrix  0.72761          3   \n",
       "2              63  atom transfer radical polymerization  0.72668          1   \n",
       "3              63       transfer radical polymerization  0.70781          1   \n",
       "4              63        ray photoelectron spectroscopy  0.69869          4   \n",
       "\n",
       "   score_avg  \n",
       "0    0.78424  \n",
       "1    0.64380  \n",
       "2    0.72668  \n",
       "3    0.70781  \n",
       "4    0.65301  "
      ]
     },
     "execution_count": 24,
     "metadata": {},
     "output_type": "execute_result"
    }
   ],
   "source": [
    "q = \"\"\"search publications for \"graphene\" \n",
    "            where year=2019 \n",
    "       return publications[id+title+year+concepts_scores] limit 100\"\"\"\n",
    "\n",
    "concepts = dsl.query(q).as_dataframe_concepts()\n",
    "\n",
    "print(\"Concepts found: \", len(concepts))\n",
    "print(\"Unique: \", len(concepts.drop_duplicates(\"concept\")))\n",
    "\n",
    "concepts.head()"
   ]
  },
  {
   "cell_type": "code",
   "execution_count": 25,
   "metadata": {
    "Collapsed": "false"
   },
   "outputs": [
    {
     "data": {
      "text/html": [
       "<div>\n",
       "<style scoped>\n",
       "    .dataframe tbody tr th:only-of-type {\n",
       "        vertical-align: middle;\n",
       "    }\n",
       "\n",
       "    .dataframe tbody tr th {\n",
       "        vertical-align: top;\n",
       "    }\n",
       "\n",
       "    .dataframe thead th {\n",
       "        text-align: right;\n",
       "    }\n",
       "</style>\n",
       "<table border=\"1\" class=\"dataframe\">\n",
       "  <thead>\n",
       "    <tr style=\"text-align: right;\">\n",
       "      <th></th>\n",
       "      <th>concept</th>\n",
       "      <th>score_avg</th>\n",
       "    </tr>\n",
       "  </thead>\n",
       "  <tbody>\n",
       "    <tr>\n",
       "      <th>3111</th>\n",
       "      <td>graphene-based antenna</td>\n",
       "      <td>0.90147</td>\n",
       "    </tr>\n",
       "    <tr>\n",
       "      <th>2554</th>\n",
       "      <td>oxygen evolution reaction</td>\n",
       "      <td>0.87529</td>\n",
       "    </tr>\n",
       "    <tr>\n",
       "      <th>2555</th>\n",
       "      <td>oxygen reduction reaction</td>\n",
       "      <td>0.87487</td>\n",
       "    </tr>\n",
       "    <tr>\n",
       "      <th>2556</th>\n",
       "      <td>hydrogen evolution reaction</td>\n",
       "      <td>0.87120</td>\n",
       "    </tr>\n",
       "    <tr>\n",
       "      <th>2867</th>\n",
       "      <td>fluorinated carbon materials</td>\n",
       "      <td>0.86460</td>\n",
       "    </tr>\n",
       "    <tr>\n",
       "      <th>1477</th>\n",
       "      <td>MoP/SiO2 catalyst</td>\n",
       "      <td>0.86052</td>\n",
       "    </tr>\n",
       "    <tr>\n",
       "      <th>2384</th>\n",
       "      <td>high internal phase emulsions</td>\n",
       "      <td>0.84142</td>\n",
       "    </tr>\n",
       "    <tr>\n",
       "      <th>3112</th>\n",
       "      <td>dipole antenna</td>\n",
       "      <td>0.83857</td>\n",
       "    </tr>\n",
       "    <tr>\n",
       "      <th>4385</th>\n",
       "      <td>phenolic foam composites</td>\n",
       "      <td>0.83428</td>\n",
       "    </tr>\n",
       "    <tr>\n",
       "      <th>3866</th>\n",
       "      <td>hole transport layer</td>\n",
       "      <td>0.83396</td>\n",
       "    </tr>\n",
       "  </tbody>\n",
       "</table>\n",
       "</div>"
      ],
      "text/plain": [
       "                            concept  score_avg\n",
       "3111         graphene-based antenna    0.90147\n",
       "2554      oxygen evolution reaction    0.87529\n",
       "2555      oxygen reduction reaction    0.87487\n",
       "2556    hydrogen evolution reaction    0.87120\n",
       "2867   fluorinated carbon materials    0.86460\n",
       "1477              MoP/SiO2 catalyst    0.86052\n",
       "2384  high internal phase emulsions    0.84142\n",
       "3112                 dipole antenna    0.83857\n",
       "4385       phenolic foam composites    0.83428\n",
       "3866           hole transport layer    0.83396"
      ]
     },
     "execution_count": 25,
     "metadata": {},
     "output_type": "execute_result"
    }
   ],
   "source": [
    "concepts.drop_duplicates(\"concept\").sort_values(\"score_avg\", ascending=False).head(10)[['concept', 'score_avg']]"
   ]
  },
  {
   "cell_type": "markdown",
   "metadata": {
    "Collapsed": "false"
   },
   "source": [
    "Please note that (as of version 1.25 of the DSL API) it is possible to return either `concepts_scores` or `concepts` with Publications queries, but only `concepts` with Grants queries.  \n",
    "\n",
    "If a relevancy score is not available, the `as_dataframe_concepts` function will simulate one based on the concept rank (=its position in the document-concepts list).  \n",
    "\n",
    "For more information on how to make use of `concepts` please see the [Topic Modeling Analysis Tutorial](https://api-lab.dimensions.ai/cookbooks/2-publications/Simple-topic-analysis.html) and the [Official documentation](https://docs.dimensions.ai/dsl/). "
   ]
  },
  {
   "cell_type": "markdown",
   "metadata": {
    "Collapsed": "false",
    "colab_type": "text",
    "id": "WkolG6VKR4Dj"
   },
   "source": [
    "## Conclusions \n",
    "\n",
    "Moving Dimensions API results to pandas dataframes **makes it easier** to **analyze the data** and **answer research questions**. \n",
    "\n",
    "Note: the examples above only scratch the surface of what can be done with pandas! \n",
    "\n",
    "> Tip: see also the *Dimcli: Magic Commands* notebook to find out what shortcuts are available for these dataframe methods. "
   ]
  }
 ],
 "metadata": {
  "colab": {
   "collapsed_sections": [],
   "name": "3-Working-with-dataframes.ipynb",
   "provenance": [],
   "toc_visible": true
  },
  "kernel_info": {
   "name": "python3"
  },
  "kernelspec": {
   "display_name": "Python 3",
   "language": "python",
   "name": "python3"
  },
  "language_info": {
   "codemirror_mode": {
    "name": "ipython",
    "version": 3
   },
   "file_extension": ".py",
   "mimetype": "text/x-python",
   "name": "python",
   "nbconvert_exporter": "python",
   "pygments_lexer": "ipython3",
   "version": "3.8.5"
  },
  "nteract": {
   "version": "0.14.5"
  }
 },
 "nbformat": 4,
 "nbformat_minor": 4
}
