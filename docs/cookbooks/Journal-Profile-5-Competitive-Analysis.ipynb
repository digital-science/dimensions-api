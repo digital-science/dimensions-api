{
 "cells": [
  {
   "cell_type": "markdown",
   "metadata": {
    "Collapsed": "false",
    "colab_type": "text",
    "id": "kWem7RVkXcVP"
   },
   "source": [
    "# Journal Profiling Part 5: Competing Journals Analysis\n",
    "\n",
    "This Python notebook shows how to use the [Dimensions Analytics API](https://www.dimensions.ai/dimensions-apis/) to create a competitive journals analysis report, starting from a specific journal and by using its authors information. \n",
    "\n",
    "This tutorial is the fifth of a series that uses the data extracted in order to generate a 'journal profile' report. See the [API Lab homepage](https://api-lab.dimensions.ai/) for the other tutorials in this series.\n",
    "\n",
    "In this notebook we are going to \n",
    "\n",
    "* Load the researchers impact metrics data previously extracted (see parts 1-2-3)\n",
    "* Get the full publications history for these researchers \n",
    "* Use this new publications dataset to determine which are the most frequent journals the researchers have also published in\n",
    "* Build some visualizations in order to have a quick overview of the results "
   ]
  },
  {
   "cell_type": "code",
   "execution_count": 12,
   "metadata": {},
   "outputs": [
    {
     "name": "stdout",
     "output_type": "stream",
     "text": [
      "==\n",
      "CHANGELOG\n",
      "This notebook was last run on Jan 24, 2022\n",
      "==\n"
     ]
    }
   ],
   "source": [
    "import datetime\n",
    "print(\"==\\nCHANGELOG\\nThis notebook was last run on %s\\n==\" % datetime.date.today().strftime('%b %d, %Y'))"
   ]
  },
  {
   "cell_type": "markdown",
   "metadata": {
    "Collapsed": "false",
    "colab_type": "text",
    "id": "hMaQlB7DG8Vw"
   },
   "source": [
    "## Prerequisites\n",
    "\n",
    "This notebook assumes you have installed the [Dimcli](https://pypi.org/project/dimcli/) library and are familiar with the ['Getting Started' tutorial](https://api-lab.dimensions.ai/cookbooks/1-getting-started/1-Using-the-Dimcli-library-to-query-the-API.html).\n"
   ]
  },
  {
   "cell_type": "code",
   "execution_count": 1,
   "metadata": {
    "Collapsed": "false"
   },
   "outputs": [
    {
     "data": {
      "text/html": [
       "        <script type=\"text/javascript\">\n",
       "        window.PlotlyConfig = {MathJaxConfig: 'local'};\n",
       "        if (window.MathJax) {MathJax.Hub.Config({SVG: {font: \"STIX-Web\"}});}\n",
       "        if (typeof require !== 'undefined') {\n",
       "        require.undef(\"plotly\");\n",
       "        requirejs.config({\n",
       "            paths: {\n",
       "                'plotly': ['https://cdn.plot.ly/plotly-2.8.3.min']\n",
       "            }\n",
       "        });\n",
       "        require(['plotly'], function(Plotly) {\n",
       "            window._Plotly = Plotly;\n",
       "        });\n",
       "        }\n",
       "        </script>\n",
       "        "
      ]
     },
     "metadata": {},
     "output_type": "display_data"
    },
    {
     "name": "stderr",
     "output_type": "stream",
     "text": [
      "\u001b[2mSearching config file credentials for 'https://app.dimensions.ai' endpoint..\u001b[0m\n"
     ]
    },
    {
     "name": "stdout",
     "output_type": "stream",
     "text": [
      "==\n",
      "Logging in..\n",
      "\u001b[2mDimcli - Dimensions API Client (v0.9.6)\u001b[0m\n",
      "\u001b[2mConnected to: <https://app.dimensions.ai/api/dsl> - DSL v2.0\u001b[0m\n",
      "\u001b[2mMethod: dsl.ini file\u001b[0m\n"
     ]
    }
   ],
   "source": [
    "!pip install dimcli plotly tqdm -U --quiet \n",
    "\n",
    "import dimcli\n",
    "from dimcli.utils import *\n",
    "import os, sys, time, json\n",
    "from tqdm.notebook import tqdm as progress\n",
    "import pandas as pd\n",
    "import plotly.express as px\n",
    "from plotly.offline import plot\n",
    "if not 'google.colab' in sys.modules:\n",
    "  # make js dependecies local / needed by html exports\n",
    "  from plotly.offline import init_notebook_mode\n",
    "  init_notebook_mode(connected=True)\n",
    "\n",
    "print(\"==\\nLogging in..\")\n",
    "# https://digital-science.github.io/dimcli/getting-started.html#authentication\n",
    "ENDPOINT = \"https://app.dimensions.ai\"\n",
    "if 'google.colab' in sys.modules:\n",
    "  import getpass\n",
    "  KEY = getpass.getpass(prompt='API Key: ')  \n",
    "  dimcli.login(key=KEY, endpoint=ENDPOINT)\n",
    "else:\n",
    "  KEY = \"\"\n",
    "  dimcli.login(key=KEY, endpoint=ENDPOINT)\n",
    "dsl = dimcli.Dsl()"
   ]
  },
  {
   "cell_type": "markdown",
   "metadata": {
    "Collapsed": "false"
   },
   "source": [
    "Finally, let's set up a folder to store the data we are going to extract: "
   ]
  },
  {
   "cell_type": "code",
   "execution_count": 2,
   "metadata": {
    "Collapsed": "false"
   },
   "outputs": [],
   "source": [
    "# create output data folder\n",
    "FOLDER_NAME = \"journal-profile-data\"\n",
    "if not(os.path.exists(FOLDER_NAME)):\n",
    "    os.mkdir(FOLDER_NAME)\n",
    "\n",
    "def save(df,filename_dot_csv):\n",
    "    df.to_csv(FOLDER_NAME+\"/\"+filename_dot_csv, index=False)"
   ]
  },
  {
   "cell_type": "markdown",
   "metadata": {
    "Collapsed": "false",
    "colab_type": "text",
    "id": "09ST2hcNyMmE"
   },
   "source": [
    "## Competing Journals"
   ]
  },
  {
   "cell_type": "markdown",
   "metadata": {
    "Collapsed": "false",
    "colab_type": "text",
    "id": "I8yQPsTsyMmF"
   },
   "source": [
    "From our researchers master list, we now want to extract the following:\n",
    "\n",
    "* full list of publications for a N year period\n",
    "* full list of journals with counts of how many publications per journal \n",
    "\n",
    "This new dataset will let us draw up some conclusions re. which are the competing journals of the one we selected at the beginning.\n",
    "\n"
   ]
  },
  {
   "cell_type": "markdown",
   "metadata": {
    "Collapsed": "false",
    "colab_type": "text",
    "id": "tv93-wsUy6QM"
   },
   "source": [
    "### First let's reload the data obtained in previous steps\n",
    "\n",
    "**NOTE** If you are using Google Colab or don't have the data available, just do the following: \n",
    "* open up the 'Files' panel in Google Colab and create a new folder `journal-profile-data`\n",
    "* grab this [file](https://github.com/digital-science/dimensions-api-lab/tree/master/cookbooks/2-publications/journal-profile-data.zip), unzip it, open the enclosed folder and upload the file called `2_researchers_impact_metrics.csv` to Google Colab ('Upload' menu or also by dragging then inside the panel window)\n",
    "* move the file inside the `journal-profile-data` folder you just created "
   ]
  },
  {
   "cell_type": "code",
   "execution_count": 3,
   "metadata": {
    "Collapsed": "false",
    "colab": {},
    "colab_type": "code",
    "id": "5oxpgoZFyMmF"
   },
   "outputs": [
    {
     "name": "stdout",
     "output_type": "stream",
     "text": [
      "Total researchers: 23346\n"
     ]
    },
    {
     "data": {
      "text/html": [
       "<div>\n",
       "<style scoped>\n",
       "    .dataframe tbody tr th:only-of-type {\n",
       "        vertical-align: middle;\n",
       "    }\n",
       "\n",
       "    .dataframe tbody tr th {\n",
       "        vertical-align: top;\n",
       "    }\n",
       "\n",
       "    .dataframe thead th {\n",
       "        text-align: right;\n",
       "    }\n",
       "</style>\n",
       "<table border=\"1\" class=\"dataframe\">\n",
       "  <thead>\n",
       "    <tr style=\"text-align: right;\">\n",
       "      <th></th>\n",
       "      <th>researcher_id</th>\n",
       "      <th>pubs</th>\n",
       "      <th>full_name</th>\n",
       "      <th>citations_mean</th>\n",
       "      <th>altmetric_mean</th>\n",
       "      <th>last_pub_year</th>\n",
       "      <th>url</th>\n",
       "    </tr>\n",
       "  </thead>\n",
       "  <tbody>\n",
       "    <tr>\n",
       "      <th>0</th>\n",
       "      <td>ur.0723426172.10</td>\n",
       "      <td>77</td>\n",
       "      <td>Kari Stefansson</td>\n",
       "      <td>201.493506</td>\n",
       "      <td>248.818182</td>\n",
       "      <td>2021</td>\n",
       "      <td>NaN</td>\n",
       "    </tr>\n",
       "    <tr>\n",
       "      <th>1</th>\n",
       "      <td>ur.01277776417.51</td>\n",
       "      <td>51</td>\n",
       "      <td>Unnur Thorsteinsdottir</td>\n",
       "      <td>131.862745</td>\n",
       "      <td>201.666667</td>\n",
       "      <td>2021</td>\n",
       "      <td>NaN</td>\n",
       "    </tr>\n",
       "    <tr>\n",
       "      <th>2</th>\n",
       "      <td>ur.0641525362.39</td>\n",
       "      <td>42</td>\n",
       "      <td>Gonçalo R. Abecasis</td>\n",
       "      <td>223.714286</td>\n",
       "      <td>167.809524</td>\n",
       "      <td>2021</td>\n",
       "      <td>NaN</td>\n",
       "    </tr>\n",
       "    <tr>\n",
       "      <th>3</th>\n",
       "      <td>ur.011675454737.09</td>\n",
       "      <td>39</td>\n",
       "      <td>Cornelia M van Duijn</td>\n",
       "      <td>216.102564</td>\n",
       "      <td>303.179487</td>\n",
       "      <td>2021</td>\n",
       "      <td>NaN</td>\n",
       "    </tr>\n",
       "    <tr>\n",
       "      <th>4</th>\n",
       "      <td>ur.01264737414.70</td>\n",
       "      <td>39</td>\n",
       "      <td>Tõnu Esko</td>\n",
       "      <td>244.564103</td>\n",
       "      <td>339.923077</td>\n",
       "      <td>2021</td>\n",
       "      <td>NaN</td>\n",
       "    </tr>\n",
       "  </tbody>\n",
       "</table>\n",
       "</div>"
      ],
      "text/plain": [
       "        researcher_id  pubs               full_name  citations_mean  \\\n",
       "0    ur.0723426172.10    77         Kari Stefansson      201.493506   \n",
       "1   ur.01277776417.51    51  Unnur Thorsteinsdottir      131.862745   \n",
       "2    ur.0641525362.39    42     Gonçalo R. Abecasis      223.714286   \n",
       "3  ur.011675454737.09    39    Cornelia M van Duijn      216.102564   \n",
       "4   ur.01264737414.70    39               Tõnu Esko      244.564103   \n",
       "\n",
       "   altmetric_mean  last_pub_year  url  \n",
       "0      248.818182           2021  NaN  \n",
       "1      201.666667           2021  NaN  \n",
       "2      167.809524           2021  NaN  \n",
       "3      303.179487           2021  NaN  \n",
       "4      339.923077           2021  NaN  "
      ]
     },
     "execution_count": 3,
     "metadata": {},
     "output_type": "execute_result"
    }
   ],
   "source": [
    "#\n",
    "researchers = pd.read_csv(FOLDER_NAME+\"/2_researchers_impact_metrics.csv\")\n",
    "#\n",
    "print(\"Total researchers:\", len(researchers))\n",
    "researchers.head(5)"
   ]
  },
  {
   "cell_type": "code",
   "execution_count": 4,
   "metadata": {
    "Collapsed": "false"
   },
   "outputs": [],
   "source": [
    "# TIP to speed this up I'm taking only the top 2000 researchers!\n",
    "# for a full analysis, just comment out the next line\n",
    "researchers = researchers[:2000]"
   ]
  },
  {
   "cell_type": "markdown",
   "metadata": {
    "Collapsed": "false",
    "colab_type": "text",
    "id": "Lyo3XRvC14sv"
   },
   "source": [
    "### What the query looks like"
   ]
  },
  {
   "cell_type": "markdown",
   "metadata": {
    "Collapsed": "false",
    "colab_type": "text",
    "id": "p13i2a3gyMmN"
   },
   "source": [
    "The approach we're taking consists in pulling all publications data, so that we can count journals as a second step. \n",
    "\n",
    "This approach may take some time (as we're potentially retrieving a lot of publications data), but it will lead to precise results.  \n",
    "\n",
    "The query template to use looks like this (for a couple of researchers only):"
   ]
  },
  {
   "cell_type": "code",
   "execution_count": 5,
   "metadata": {
    "Collapsed": "false",
    "colab": {
     "base_uri": "https://localhost:8080/",
     "height": 640
    },
    "colab_type": "code",
    "executionInfo": {
     "elapsed": 734,
     "status": "ok",
     "timestamp": 1570143825941,
     "user": {
      "displayName": "Michele Pasin",
      "photoUrl": "https://lh3.googleusercontent.com/a-/AAuE7mBu8LVjIGgontF2Wax51BoL5KFx8esezX3bUmaa0g=s64",
      "userId": "10309320684375994511"
     },
     "user_tz": 240
    },
    "id": "2Aam-R4fyMmO",
    "outputId": "a71949e3-5206-471e-928c-42f9ea71cc2e"
   },
   "outputs": [
    {
     "name": "stdout",
     "output_type": "stream",
     "text": [
      "Returned Publications: 10 (total = 209)\n",
      "\u001b[2mTime: 0.62s\u001b[0m\n"
     ]
    },
    {
     "data": {
      "text/html": [
       "<div>\n",
       "<style scoped>\n",
       "    .dataframe tbody tr th:only-of-type {\n",
       "        vertical-align: middle;\n",
       "    }\n",
       "\n",
       "    .dataframe tbody tr th {\n",
       "        vertical-align: top;\n",
       "    }\n",
       "\n",
       "    .dataframe thead th {\n",
       "        text-align: right;\n",
       "    }\n",
       "</style>\n",
       "<table border=\"1\" class=\"dataframe\">\n",
       "  <thead>\n",
       "    <tr style=\"text-align: right;\">\n",
       "      <th></th>\n",
       "      <th>id</th>\n",
       "      <th>journal.id</th>\n",
       "      <th>journal.title</th>\n",
       "    </tr>\n",
       "  </thead>\n",
       "  <tbody>\n",
       "    <tr>\n",
       "      <th>0</th>\n",
       "      <td>pub.1144294896</td>\n",
       "      <td>jour.1044693</td>\n",
       "      <td>BMJ Open</td>\n",
       "    </tr>\n",
       "    <tr>\n",
       "      <th>1</th>\n",
       "      <td>pub.1144045413</td>\n",
       "      <td>jour.1100952</td>\n",
       "      <td>Arteriosclerosis Thrombosis and Vascular Biology</td>\n",
       "    </tr>\n",
       "    <tr>\n",
       "      <th>2</th>\n",
       "      <td>pub.1144018365</td>\n",
       "      <td>jour.1369542</td>\n",
       "      <td>medRxiv</td>\n",
       "    </tr>\n",
       "    <tr>\n",
       "      <th>3</th>\n",
       "      <td>pub.1143745202</td>\n",
       "      <td>jour.1018957</td>\n",
       "      <td>Nature</td>\n",
       "    </tr>\n",
       "    <tr>\n",
       "      <th>4</th>\n",
       "      <td>pub.1143816650</td>\n",
       "      <td>jour.1293558</td>\n",
       "      <td>bioRxiv</td>\n",
       "    </tr>\n",
       "    <tr>\n",
       "      <th>5</th>\n",
       "      <td>pub.1143538243</td>\n",
       "      <td>jour.1041454</td>\n",
       "      <td>Science Translational Medicine</td>\n",
       "    </tr>\n",
       "    <tr>\n",
       "      <th>6</th>\n",
       "      <td>pub.1142697518</td>\n",
       "      <td>jour.1293558</td>\n",
       "      <td>bioRxiv</td>\n",
       "    </tr>\n",
       "    <tr>\n",
       "      <th>7</th>\n",
       "      <td>pub.1142590280</td>\n",
       "      <td>jour.1045682</td>\n",
       "      <td>Blood Cancer Journal</td>\n",
       "    </tr>\n",
       "    <tr>\n",
       "      <th>8</th>\n",
       "      <td>pub.1141693039</td>\n",
       "      <td>jour.1300829</td>\n",
       "      <td>Communications Biology</td>\n",
       "    </tr>\n",
       "    <tr>\n",
       "      <th>9</th>\n",
       "      <td>pub.1138032051</td>\n",
       "      <td>jour.1399822</td>\n",
       "      <td>Arthritis &amp; Rheumatology</td>\n",
       "    </tr>\n",
       "  </tbody>\n",
       "</table>\n",
       "</div>"
      ],
      "text/plain": [
       "               id    journal.id  \\\n",
       "0  pub.1144294896  jour.1044693   \n",
       "1  pub.1144045413  jour.1100952   \n",
       "2  pub.1144018365  jour.1369542   \n",
       "3  pub.1143745202  jour.1018957   \n",
       "4  pub.1143816650  jour.1293558   \n",
       "5  pub.1143538243  jour.1041454   \n",
       "6  pub.1142697518  jour.1293558   \n",
       "7  pub.1142590280  jour.1045682   \n",
       "8  pub.1141693039  jour.1300829   \n",
       "9  pub.1138032051  jour.1399822   \n",
       "\n",
       "                                      journal.title  \n",
       "0                                          BMJ Open  \n",
       "1  Arteriosclerosis Thrombosis and Vascular Biology  \n",
       "2                                           medRxiv  \n",
       "3                                            Nature  \n",
       "4                                           bioRxiv  \n",
       "5                    Science Translational Medicine  \n",
       "6                                           bioRxiv  \n",
       "7                              Blood Cancer Journal  \n",
       "8                            Communications Biology  \n",
       "9                          Arthritis & Rheumatology  "
      ]
     },
     "execution_count": 5,
     "metadata": {},
     "output_type": "execute_result"
    }
   ],
   "source": [
    "%%dsldf \n",
    "search publications where researchers.id in [\"ur.01277776417.51\", \"ur.0637651205.48\"] \n",
    "    and year >= 2015 and journal is not empty \n",
    "    and journal.id != \"jour.1103138\" \n",
    "return publications[id+journal] limit 10"
   ]
  },
  {
   "cell_type": "markdown",
   "metadata": {
    "Collapsed": "false",
    "colab_type": "text",
    "id": "Maea2blXyMmR"
   },
   "source": [
    "## Extracting all publications/journals information\n",
    "\n",
    "This part may take some time to run (depending on how many years back one wants to go) so you may want to get a coffee while you wait.. \n"
   ]
  },
  {
   "cell_type": "code",
   "execution_count": 6,
   "metadata": {
    "Collapsed": "false",
    "colab": {},
    "colab_type": "code",
    "id": "ng1zRWiLyMmV"
   },
   "outputs": [],
   "source": [
    "#\n",
    "journal_id = \"jour.1103138\" # = Nature Genetics\n",
    "start_year = 2018\n",
    "\n",
    "# our list of researchers\n",
    "llist = list(researchers['researcher_id'])\n",
    "#\n",
    "# the query\n",
    "q2 = \"\"\"search publications \n",
    "            where researchers.id in {} \n",
    "            and year >= {} and journal is not empty and journal.id != \"{}\" \n",
    "    return publications[id+journal+year]\"\"\""
   ]
  },
  {
   "cell_type": "code",
   "execution_count": 7,
   "metadata": {
    "Collapsed": "false",
    "colab": {},
    "colab_type": "code",
    "id": "7C80TjTayMmY"
   },
   "outputs": [
    {
     "data": {
      "application/vnd.jupyter.widget-view+json": {
       "model_id": "8afe281b1c75487092f0be192e71a375",
       "version_major": 2,
       "version_minor": 0
      },
      "text/plain": [
       "  0%|          | 0/5 [00:00<?, ?it/s]"
      ]
     },
     "metadata": {},
     "output_type": "display_data"
    },
    {
     "name": "stderr",
     "output_type": "stream",
     "text": [
      "Starting iteration with limit=1000 skip=0 ...\u001b[0m\n",
      "0-1000 / 23456 (2.23s)\u001b[0m\n",
      "1000-2000 / 23456 (2.17s)\u001b[0m\n",
      "2000-3000 / 23456 (2.36s)\u001b[0m\n",
      "3000-4000 / 23456 (1.87s)\u001b[0m\n",
      "4000-5000 / 23456 (1.93s)\u001b[0m\n",
      "5000-6000 / 23456 (1.86s)\u001b[0m\n",
      "6000-7000 / 23456 (1.78s)\u001b[0m\n",
      "7000-8000 / 23456 (2.04s)\u001b[0m\n",
      "8000-9000 / 23456 (1.91s)\u001b[0m\n",
      "9000-10000 / 23456 (1.89s)\u001b[0m\n",
      "10000-11000 / 23456 (1.86s)\u001b[0m\n",
      "11000-12000 / 23456 (1.76s)\u001b[0m\n",
      "12000-13000 / 23456 (1.79s)\u001b[0m\n",
      "13000-14000 / 23456 (1.69s)\u001b[0m\n",
      "14000-15000 / 23456 (1.82s)\u001b[0m\n",
      "15000-16000 / 23456 (1.87s)\u001b[0m\n",
      "16000-17000 / 23456 (1.77s)\u001b[0m\n",
      "17000-18000 / 23456 (1.73s)\u001b[0m\n",
      "18000-19000 / 23456 (1.94s)\u001b[0m\n",
      "19000-20000 / 23456 (3.05s)\u001b[0m\n",
      "20000-21000 / 23456 (2.24s)\u001b[0m\n",
      "21000-22000 / 23456 (1.99s)\u001b[0m\n",
      "22000-23000 / 23456 (1.90s)\u001b[0m\n",
      "23000-23456 / 23456 (1.63s)\u001b[0m\n",
      "===\n",
      "Records extracted: 23456\u001b[0m\n",
      "Starting iteration with limit=1000 skip=0 ...\u001b[0m\n",
      "0-1000 / 21078 (1.98s)\u001b[0m\n",
      "1000-2000 / 21078 (1.98s)\u001b[0m\n",
      "2000-3000 / 21078 (1.99s)\u001b[0m\n",
      "3000-4000 / 21078 (1.75s)\u001b[0m\n",
      "4000-5000 / 21078 (1.81s)\u001b[0m\n",
      "5000-6000 / 21078 (1.85s)\u001b[0m\n",
      "6000-7000 / 21078 (1.84s)\u001b[0m\n",
      "7000-8000 / 21078 (1.95s)\u001b[0m\n",
      "8000-9000 / 21078 (1.77s)\u001b[0m\n",
      "9000-10000 / 21078 (1.85s)\u001b[0m\n",
      "10000-11000 / 21078 (1.86s)\u001b[0m\n",
      "11000-12000 / 21078 (1.83s)\u001b[0m\n",
      "12000-13000 / 21078 (1.75s)\u001b[0m\n",
      "13000-14000 / 21078 (1.80s)\u001b[0m\n",
      "14000-15000 / 21078 (1.86s)\u001b[0m\n",
      "15000-16000 / 21078 (1.66s)\u001b[0m\n",
      "16000-17000 / 21078 (1.77s)\u001b[0m\n",
      "17000-18000 / 21078 (1.79s)\u001b[0m\n",
      "18000-19000 / 21078 (1.80s)\u001b[0m\n",
      "19000-20000 / 21078 (1.78s)\u001b[0m\n",
      "20000-21000 / 21078 (1.73s)\u001b[0m\n",
      "21000-21078 / 21078 (1.77s)\u001b[0m\n",
      "===\n",
      "Records extracted: 21078\u001b[0m\n",
      "Starting iteration with limit=1000 skip=0 ...\u001b[0m\n",
      "0-1000 / 22729 (1.88s)\u001b[0m\n",
      "1000-2000 / 22729 (1.86s)\u001b[0m\n",
      "2000-3000 / 22729 (2.30s)\u001b[0m\n",
      "3000-4000 / 22729 (1.94s)\u001b[0m\n",
      "4000-5000 / 22729 (1.83s)\u001b[0m\n",
      "5000-6000 / 22729 (1.87s)\u001b[0m\n",
      "6000-7000 / 22729 (1.91s)\u001b[0m\n",
      "7000-8000 / 22729 (1.89s)\u001b[0m\n",
      "8000-9000 / 22729 (2.05s)\u001b[0m\n",
      "9000-10000 / 22729 (1.76s)\u001b[0m\n",
      "10000-11000 / 22729 (1.89s)\u001b[0m\n",
      "11000-12000 / 22729 (1.84s)\u001b[0m\n",
      "12000-13000 / 22729 (1.86s)\u001b[0m\n",
      "13000-14000 / 22729 (1.92s)\u001b[0m\n",
      "14000-15000 / 22729 (1.85s)\u001b[0m\n",
      "15000-16000 / 22729 (1.83s)\u001b[0m\n",
      "16000-17000 / 22729 (1.86s)\u001b[0m\n",
      "17000-18000 / 22729 (1.86s)\u001b[0m\n",
      "18000-19000 / 22729 (1.84s)\u001b[0m\n",
      "19000-20000 / 22729 (2.17s)\u001b[0m\n",
      "20000-21000 / 22729 (1.82s)\u001b[0m\n",
      "21000-22000 / 22729 (1.99s)\u001b[0m\n",
      "22000-22729 / 22729 (1.75s)\u001b[0m\n",
      "===\n",
      "Records extracted: 22729\u001b[0m\n",
      "Starting iteration with limit=1000 skip=0 ...\u001b[0m\n",
      "0-1000 / 19177 (1.87s)\u001b[0m\n",
      "1000-2000 / 19177 (1.86s)\u001b[0m\n",
      "2000-3000 / 19177 (1.92s)\u001b[0m\n",
      "3000-4000 / 19177 (1.62s)\u001b[0m\n",
      "4000-5000 / 19177 (1.62s)\u001b[0m\n",
      "5000-6000 / 19177 (1.64s)\u001b[0m\n",
      "6000-7000 / 19177 (1.68s)\u001b[0m\n",
      "7000-8000 / 19177 (1.68s)\u001b[0m\n",
      "8000-9000 / 19177 (1.80s)\u001b[0m\n",
      "9000-10000 / 19177 (1.60s)\u001b[0m\n",
      "10000-11000 / 19177 (1.58s)\u001b[0m\n",
      "11000-12000 / 19177 (1.70s)\u001b[0m\n",
      "12000-13000 / 19177 (1.81s)\u001b[0m\n",
      "13000-14000 / 19177 (1.73s)\u001b[0m\n",
      "14000-15000 / 19177 (1.68s)\u001b[0m\n",
      "15000-16000 / 19177 (1.77s)\u001b[0m\n",
      "16000-17000 / 19177 (1.77s)\u001b[0m\n",
      "17000-18000 / 19177 (1.69s)\u001b[0m\n",
      "18000-19000 / 19177 (1.73s)\u001b[0m\n",
      "19000-19177 / 19177 (1.52s)\u001b[0m\n",
      "===\n",
      "Records extracted: 19177\u001b[0m\n",
      "Starting iteration with limit=1000 skip=0 ...\u001b[0m\n",
      "0-1000 / 19307 (1.81s)\u001b[0m\n",
      "1000-2000 / 19307 (1.99s)\u001b[0m\n",
      "2000-3000 / 19307 (1.90s)\u001b[0m\n",
      "3000-4000 / 19307 (1.66s)\u001b[0m\n",
      "4000-5000 / 19307 (1.68s)\u001b[0m\n",
      "5000-6000 / 19307 (1.65s)\u001b[0m\n",
      "6000-7000 / 19307 (1.60s)\u001b[0m\n",
      "7000-8000 / 19307 (1.65s)\u001b[0m\n",
      "8000-9000 / 19307 (1.77s)\u001b[0m\n",
      "9000-10000 / 19307 (1.80s)\u001b[0m\n",
      "10000-11000 / 19307 (1.72s)\u001b[0m\n",
      "11000-12000 / 19307 (1.62s)\u001b[0m\n",
      "12000-13000 / 19307 (1.88s)\u001b[0m\n",
      "13000-14000 / 19307 (1.72s)\u001b[0m\n",
      "14000-15000 / 19307 (1.70s)\u001b[0m\n",
      "15000-16000 / 19307 (1.72s)\u001b[0m\n",
      "16000-17000 / 19307 (1.65s)\u001b[0m\n",
      "17000-18000 / 19307 (1.63s)\u001b[0m\n",
      "18000-19000 / 19307 (1.71s)\u001b[0m\n",
      "19000-19307 / 19307 (1.62s)\u001b[0m\n",
      "===\n",
      "Records extracted: 19307\u001b[0m\n"
     ]
    }
   ],
   "source": [
    "\n",
    "VERBOSE = True\n",
    "RESEARCHER_ITERATOR_NO = 400\n",
    "\n",
    "pubs = pd.DataFrame\n",
    "for chunk in progress(list(chunks_of(llist, RESEARCHER_ITERATOR_NO))):\n",
    "    # get all pubs\n",
    "    query = q2.format(json.dumps(chunk), start_year, journal_id)\n",
    "    res = dsl.query_iterative(query, verbose=VERBOSE)\n",
    "    if pubs.empty:\n",
    "        # first time, init the dataframe         \n",
    "        pubs = res.as_dataframe()\n",
    "    else:\n",
    "        pubs.append(res.as_dataframe())"
   ]
  },
  {
   "cell_type": "code",
   "execution_count": 8,
   "metadata": {
    "Collapsed": "false"
   },
   "outputs": [
    {
     "data": {
      "text/html": [
       "<div>\n",
       "<style scoped>\n",
       "    .dataframe tbody tr th:only-of-type {\n",
       "        vertical-align: middle;\n",
       "    }\n",
       "\n",
       "    .dataframe tbody tr th {\n",
       "        vertical-align: top;\n",
       "    }\n",
       "\n",
       "    .dataframe thead th {\n",
       "        text-align: right;\n",
       "    }\n",
       "</style>\n",
       "<table border=\"1\" class=\"dataframe\">\n",
       "  <thead>\n",
       "    <tr style=\"text-align: right;\">\n",
       "      <th></th>\n",
       "      <th>id</th>\n",
       "      <th>year</th>\n",
       "      <th>journal.id</th>\n",
       "      <th>journal.title</th>\n",
       "    </tr>\n",
       "  </thead>\n",
       "  <tbody>\n",
       "    <tr>\n",
       "      <th>0</th>\n",
       "      <td>pub.1144058594</td>\n",
       "      <td>2022</td>\n",
       "      <td>jour.1088601</td>\n",
       "      <td>Maturitas</td>\n",
       "    </tr>\n",
       "    <tr>\n",
       "      <th>1</th>\n",
       "      <td>pub.1144115098</td>\n",
       "      <td>2022</td>\n",
       "      <td>jour.1098341</td>\n",
       "      <td>Journal of Food Composition and Analysis</td>\n",
       "    </tr>\n",
       "    <tr>\n",
       "      <th>2</th>\n",
       "      <td>pub.1144111238</td>\n",
       "      <td>2022</td>\n",
       "      <td>jour.1400578</td>\n",
       "      <td>Ophthalmology Science</td>\n",
       "    </tr>\n",
       "    <tr>\n",
       "      <th>3</th>\n",
       "      <td>pub.1142542983</td>\n",
       "      <td>2022</td>\n",
       "      <td>jour.1088601</td>\n",
       "      <td>Maturitas</td>\n",
       "    </tr>\n",
       "    <tr>\n",
       "      <th>4</th>\n",
       "      <td>pub.1142207532</td>\n",
       "      <td>2022</td>\n",
       "      <td>jour.1034064</td>\n",
       "      <td>Food Quality and Preference</td>\n",
       "    </tr>\n",
       "    <tr>\n",
       "      <th>...</th>\n",
       "      <td>...</td>\n",
       "      <td>...</td>\n",
       "      <td>...</td>\n",
       "      <td>...</td>\n",
       "    </tr>\n",
       "    <tr>\n",
       "      <th>23451</th>\n",
       "      <td>pub.1101137729</td>\n",
       "      <td>2018</td>\n",
       "      <td>jour.1119070</td>\n",
       "      <td>Journal of Alzheimer's Disease</td>\n",
       "    </tr>\n",
       "    <tr>\n",
       "      <th>23452</th>\n",
       "      <td>pub.1101137719</td>\n",
       "      <td>2018</td>\n",
       "      <td>jour.1119070</td>\n",
       "      <td>Journal of Alzheimer's Disease</td>\n",
       "    </tr>\n",
       "    <tr>\n",
       "      <th>23453</th>\n",
       "      <td>pub.1100924477</td>\n",
       "      <td>2018</td>\n",
       "      <td>jour.1018190</td>\n",
       "      <td>Nederlands Tijdschrift voor Geneeskunde</td>\n",
       "    </tr>\n",
       "    <tr>\n",
       "      <th>23454</th>\n",
       "      <td>pub.1100522151</td>\n",
       "      <td>2018</td>\n",
       "      <td>jour.1046789</td>\n",
       "      <td>Food and Nutrition Sciences</td>\n",
       "    </tr>\n",
       "    <tr>\n",
       "      <th>23455</th>\n",
       "      <td>pub.1084865232</td>\n",
       "      <td>2018</td>\n",
       "      <td>jour.1101614</td>\n",
       "      <td>European Psychiatry</td>\n",
       "    </tr>\n",
       "  </tbody>\n",
       "</table>\n",
       "<p>23456 rows × 4 columns</p>\n",
       "</div>"
      ],
      "text/plain": [
       "                   id  year    journal.id  \\\n",
       "0      pub.1144058594  2022  jour.1088601   \n",
       "1      pub.1144115098  2022  jour.1098341   \n",
       "2      pub.1144111238  2022  jour.1400578   \n",
       "3      pub.1142542983  2022  jour.1088601   \n",
       "4      pub.1142207532  2022  jour.1034064   \n",
       "...               ...   ...           ...   \n",
       "23451  pub.1101137729  2018  jour.1119070   \n",
       "23452  pub.1101137719  2018  jour.1119070   \n",
       "23453  pub.1100924477  2018  jour.1018190   \n",
       "23454  pub.1100522151  2018  jour.1046789   \n",
       "23455  pub.1084865232  2018  jour.1101614   \n",
       "\n",
       "                                  journal.title  \n",
       "0                                     Maturitas  \n",
       "1      Journal of Food Composition and Analysis  \n",
       "2                         Ophthalmology Science  \n",
       "3                                     Maturitas  \n",
       "4                   Food Quality and Preference  \n",
       "...                                         ...  \n",
       "23451            Journal of Alzheimer's Disease  \n",
       "23452            Journal of Alzheimer's Disease  \n",
       "23453   Nederlands Tijdschrift voor Geneeskunde  \n",
       "23454               Food and Nutrition Sciences  \n",
       "23455                       European Psychiatry  \n",
       "\n",
       "[23456 rows x 4 columns]"
      ]
     },
     "execution_count": 8,
     "metadata": {},
     "output_type": "execute_result"
    }
   ],
   "source": [
    "# remove duplicate publications, if they have the same PUB_ID\n",
    "pubs = pubs.drop_duplicates(subset=\"id\")\n",
    "# preview the data\n",
    "pubs"
   ]
  },
  {
   "cell_type": "markdown",
   "metadata": {
    "Collapsed": "false"
   },
   "source": [
    "Now we can create a journals-only dataset that includes counts per year, and grant total. "
   ]
  },
  {
   "cell_type": "code",
   "execution_count": 9,
   "metadata": {
    "Collapsed": "false"
   },
   "outputs": [
    {
     "name": "stdout",
     "output_type": "stream",
     "text": [
      "======\n",
      "Done\n"
     ]
    },
    {
     "data": {
      "text/html": [
       "<div>\n",
       "<style scoped>\n",
       "    .dataframe tbody tr th:only-of-type {\n",
       "        vertical-align: middle;\n",
       "    }\n",
       "\n",
       "    .dataframe tbody tr th {\n",
       "        vertical-align: top;\n",
       "    }\n",
       "\n",
       "    .dataframe thead th {\n",
       "        text-align: right;\n",
       "    }\n",
       "</style>\n",
       "<table border=\"1\" class=\"dataframe\">\n",
       "  <thead>\n",
       "    <tr style=\"text-align: right;\">\n",
       "      <th></th>\n",
       "      <th>year</th>\n",
       "      <th>journal.id</th>\n",
       "      <th>journal.title</th>\n",
       "      <th>total</th>\n",
       "      <th>total_year</th>\n",
       "    </tr>\n",
       "  </thead>\n",
       "  <tbody>\n",
       "    <tr>\n",
       "      <th>65</th>\n",
       "      <td>2021</td>\n",
       "      <td>jour.1293558</td>\n",
       "      <td>bioRxiv</td>\n",
       "      <td>1811</td>\n",
       "      <td>320</td>\n",
       "    </tr>\n",
       "    <tr>\n",
       "      <th>18024</th>\n",
       "      <td>2018</td>\n",
       "      <td>jour.1293558</td>\n",
       "      <td>bioRxiv</td>\n",
       "      <td>1811</td>\n",
       "      <td>497</td>\n",
       "    </tr>\n",
       "    <tr>\n",
       "      <th>5980</th>\n",
       "      <td>2020</td>\n",
       "      <td>jour.1293558</td>\n",
       "      <td>bioRxiv</td>\n",
       "      <td>1811</td>\n",
       "      <td>403</td>\n",
       "    </tr>\n",
       "    <tr>\n",
       "      <th>12009</th>\n",
       "      <td>2019</td>\n",
       "      <td>jour.1293558</td>\n",
       "      <td>bioRxiv</td>\n",
       "      <td>1811</td>\n",
       "      <td>591</td>\n",
       "    </tr>\n",
       "    <tr>\n",
       "      <th>11999</th>\n",
       "      <td>2019</td>\n",
       "      <td>jour.1369542</td>\n",
       "      <td>medRxiv</td>\n",
       "      <td>994</td>\n",
       "      <td>65</td>\n",
       "    </tr>\n",
       "    <tr>\n",
       "      <th>5978</th>\n",
       "      <td>2020</td>\n",
       "      <td>jour.1369542</td>\n",
       "      <td>medRxiv</td>\n",
       "      <td>994</td>\n",
       "      <td>442</td>\n",
       "    </tr>\n",
       "    <tr>\n",
       "      <th>18</th>\n",
       "      <td>2021</td>\n",
       "      <td>jour.1369542</td>\n",
       "      <td>medRxiv</td>\n",
       "      <td>994</td>\n",
       "      <td>487</td>\n",
       "    </tr>\n",
       "    <tr>\n",
       "      <th>131</th>\n",
       "      <td>2021</td>\n",
       "      <td>jour.1043282</td>\n",
       "      <td>Nature Communications</td>\n",
       "      <td>566</td>\n",
       "      <td>132</td>\n",
       "    </tr>\n",
       "    <tr>\n",
       "      <th>6062</th>\n",
       "      <td>2020</td>\n",
       "      <td>jour.1043282</td>\n",
       "      <td>Nature Communications</td>\n",
       "      <td>566</td>\n",
       "      <td>166</td>\n",
       "    </tr>\n",
       "    <tr>\n",
       "      <th>18117</th>\n",
       "      <td>2018</td>\n",
       "      <td>jour.1043282</td>\n",
       "      <td>Nature Communications</td>\n",
       "      <td>566</td>\n",
       "      <td>130</td>\n",
       "    </tr>\n",
       "  </tbody>\n",
       "</table>\n",
       "</div>"
      ],
      "text/plain": [
       "       year    journal.id          journal.title  total  total_year\n",
       "65     2021  jour.1293558                bioRxiv   1811         320\n",
       "18024  2018  jour.1293558                bioRxiv   1811         497\n",
       "5980   2020  jour.1293558                bioRxiv   1811         403\n",
       "12009  2019  jour.1293558                bioRxiv   1811         591\n",
       "11999  2019  jour.1369542                medRxiv    994          65\n",
       "5978   2020  jour.1369542                medRxiv    994         442\n",
       "18     2021  jour.1369542                medRxiv    994         487\n",
       "131    2021  jour.1043282  Nature Communications    566         132\n",
       "6062   2020  jour.1043282  Nature Communications    566         166\n",
       "18117  2018  jour.1043282  Nature Communications    566         130"
      ]
     },
     "execution_count": 9,
     "metadata": {},
     "output_type": "execute_result"
    }
   ],
   "source": [
    "journals = pubs.copy()\n",
    "# drop pub_id column\n",
    "journals = journals.drop(['id'], axis=1)\n",
    "# \n",
    "# add total column \n",
    "journals['total'] = journals.groupby('journal.id')['journal.id'].transform('count')\n",
    "journals['total_year'] = journals.groupby(['journal.id', 'year'])['journal.id'].transform('count')\n",
    "# \n",
    "# remove multiple counts for same journal\n",
    "journals = journals.drop_duplicates() \n",
    "journals.reset_index(drop=True)\n",
    "#\n",
    "# sort by total count\n",
    "journals = journals.sort_values('total', ascending=False)\n",
    "# #\n",
    "# # save\n",
    "save(journals, \"5.competing_journals.csv\" )\n",
    "print(\"======\\nDone\")\n",
    "\n",
    "#preview the data \n",
    "journals.head(10)"
   ]
  },
  {
   "cell_type": "markdown",
   "metadata": {
    "Collapsed": "false",
    "colab_type": "text",
    "id": "7o8S9cx6esT7"
   },
   "source": [
    "## Visualizations"
   ]
  },
  {
   "cell_type": "code",
   "execution_count": 10,
   "metadata": {
    "Collapsed": "false"
   },
   "outputs": [
    {
     "data": {
      "application/vnd.plotly.v1+json": {
       "config": {
        "plotlyServerURL": "https://plot.ly"
       },
       "data": [
        {
         "alignmentgroup": "True",
         "customdata": [
          [
           "jour.1293558",
           1811
          ],
          [
           "jour.1293558",
           1811
          ],
          [
           "jour.1293558",
           1811
          ],
          [
           "jour.1293558",
           1811
          ],
          [
           "jour.1369542",
           994
          ],
          [
           "jour.1369542",
           994
          ],
          [
           "jour.1369542",
           994
          ],
          [
           "jour.1043282",
           566
          ],
          [
           "jour.1043282",
           566
          ],
          [
           "jour.1043282",
           566
          ],
          [
           "jour.1043282",
           566
          ],
          [
           "jour.1101548",
           555
          ],
          [
           "jour.1101548",
           555
          ],
          [
           "jour.1101548",
           555
          ],
          [
           "jour.1101548",
           555
          ],
          [
           "jour.1045337",
           455
          ],
          [
           "jour.1045337",
           455
          ],
          [
           "jour.1045337",
           455
          ],
          [
           "jour.1045337",
           455
          ],
          [
           "jour.1037553",
           344
          ],
          [
           "jour.1037553",
           344
          ],
          [
           "jour.1037553",
           344
          ],
          [
           "jour.1037553",
           344
          ],
          [
           "jour.1091325",
           306
          ],
          [
           "jour.1091325",
           306
          ],
          [
           "jour.1091325",
           306
          ],
          [
           "jour.1091325",
           306
          ],
          [
           "jour.1009570",
           297
          ],
          [
           "jour.1009570",
           297
          ],
          [
           "jour.1009570",
           297
          ],
          [
           "jour.1009570",
           297
          ],
          [
           "jour.1034467",
           278
          ],
          [
           "jour.1034467",
           278
          ],
          [
           "jour.1034467",
           278
          ],
          [
           "jour.1034467",
           278
          ],
          [
           "jour.1017423",
           178
          ],
          [
           "jour.1017423",
           178
          ],
          [
           "jour.1017423",
           178
          ],
          [
           "jour.1017423",
           178
          ],
          [
           "jour.1087544",
           174
          ],
          [
           "jour.1087544",
           174
          ],
          [
           "jour.1087544",
           174
          ],
          [
           "jour.1087544",
           174
          ],
          [
           "jour.1358156",
           171
          ],
          [
           "jour.1358156",
           171
          ],
          [
           "jour.1358156",
           171
          ],
          [
           "jour.1358156",
           171
          ],
          [
           "jour.1093746",
           170
          ],
          [
           "jour.1093746",
           170
          ],
          [
           "jour.1093746",
           170
          ],
          [
           "jour.1093746",
           170
          ],
          [
           "jour.1045271",
           165
          ],
          [
           "jour.1045271",
           165
          ],
          [
           "jour.1045271",
           165
          ],
          [
           "jour.1045271",
           165
          ],
          [
           "jour.1017012",
           163
          ],
          [
           "jour.1017012",
           163
          ],
          [
           "jour.1017012",
           163
          ],
          [
           "jour.1017012",
           163
          ],
          [
           "jour.1017122",
           159
          ],
          [
           "jour.1017122",
           159
          ],
          [
           "jour.1017122",
           159
          ],
          [
           "jour.1017122",
           159
          ],
          [
           "jour.1276748",
           158
          ],
          [
           "jour.1276748",
           158
          ],
          [
           "jour.1276748",
           158
          ],
          [
           "jour.1276748",
           158
          ],
          [
           "jour.1399744",
           156
          ],
          [
           "jour.1399744",
           156
          ],
          [
           "jour.1399744",
           156
          ],
          [
           "jour.1399744",
           156
          ],
          [
           "jour.1013420",
           155
          ],
          [
           "jour.1013420",
           155
          ],
          [
           "jour.1013420",
           155
          ],
          [
           "jour.1013420",
           155
          ],
          [
           "jour.1018957",
           151
          ],
          [
           "jour.1018957",
           151
          ],
          [
           "jour.1018957",
           151
          ],
          [
           "jour.1018957",
           151
          ],
          [
           "jour.1102504",
           140
          ],
          [
           "jour.1102504",
           140
          ],
          [
           "jour.1380788",
           140
          ],
          [
           "jour.1380788",
           140
          ],
          [
           "jour.1102504",
           140
          ],
          [
           "jour.1102504",
           140
          ],
          [
           "jour.1380788",
           140
          ],
          [
           "jour.1046624",
           134
          ],
          [
           "jour.1046624",
           134
          ],
          [
           "jour.1046624",
           134
          ],
          [
           "jour.1046624",
           134
          ],
          [
           "jour.1017738",
           132
          ],
          [
           "jour.1017738",
           132
          ],
          [
           "jour.1017738",
           132
          ],
          [
           "jour.1017738",
           132
          ],
          [
           "jour.1115540",
           131
          ],
          [
           "jour.1101916",
           131
          ],
          [
           "jour.1115540",
           131
          ],
          [
           "jour.1101916",
           131
          ],
          [
           "jour.1115540",
           131
          ],
          [
           "jour.1101916",
           131
          ]
         ],
         "hovertemplate": "<b>%{hovertext}</b><br><br>journal.title=%{x}<br>total_year=%{y}<br>journal.id=%{customdata[0]}<br>total=%{customdata[1]}<br>year=%{marker.color}<extra></extra>",
         "hovertext": [
          "bioRxiv",
          "bioRxiv",
          "bioRxiv",
          "bioRxiv",
          "medRxiv",
          "medRxiv",
          "medRxiv",
          "Nature Communications",
          "Nature Communications",
          "Nature Communications",
          "Nature Communications",
          "European Neuropsychopharmacology",
          "European Neuropsychopharmacology",
          "European Neuropsychopharmacology",
          "European Neuropsychopharmacology",
          "Scientific Reports",
          "Scientific Reports",
          "Scientific Reports",
          "Scientific Reports",
          "PLOS ONE",
          "PLOS ONE",
          "PLOS ONE",
          "PLOS ONE",
          "European Heart Journal",
          "European Heart Journal",
          "European Heart Journal",
          "European Heart Journal",
          "Circulation",
          "Circulation",
          "Circulation",
          "Circulation",
          "Alzheimer's & Dementia",
          "Alzheimer's & Dementia",
          "Alzheimer's & Dementia",
          "Alzheimer's & Dementia",
          "Diabetes",
          "Diabetes",
          "Diabetes",
          "Diabetes",
          "International Journal of Epidemiology",
          "International Journal of Epidemiology",
          "International Journal of Epidemiology",
          "International Journal of Epidemiology",
          "International Journal of Cancer",
          "International Journal of Cancer",
          "International Journal of Cancer",
          "International Journal of Cancer",
          "Journal of the American College of Cardiology",
          "Journal of the American College of Cardiology",
          "Journal of the American College of Cardiology",
          "Journal of the American College of Cardiology",
          "Translational Psychiatry",
          "Translational Psychiatry",
          "Translational Psychiatry",
          "Translational Psychiatry",
          "American Journal of Human Genetics",
          "American Journal of Human Genetics",
          "American Journal of Human Genetics",
          "American Journal of Human Genetics",
          "Geburtshilfe und Frauenheilkunde",
          "Geburtshilfe und Frauenheilkunde",
          "Geburtshilfe und Frauenheilkunde",
          "Geburtshilfe und Frauenheilkunde",
          "SSRN Electronic Journal",
          "SSRN Electronic Journal",
          "SSRN Electronic Journal",
          "SSRN Electronic Journal",
          "Biological Psychiatry",
          "Biological Psychiatry",
          "Biological Psychiatry",
          "Biological Psychiatry",
          "Atherosclerosis",
          "Atherosclerosis",
          "Atherosclerosis",
          "Atherosclerosis",
          "Nature",
          "Nature",
          "Nature",
          "Nature",
          "Human Molecular Genetics",
          "Human Molecular Genetics",
          "Research Square",
          "Research Square",
          "Human Molecular Genetics",
          "Human Molecular Genetics",
          "Research Square",
          "Journal of the American Heart Association",
          "Journal of the American Heart Association",
          "Journal of the American Heart Association",
          "Journal of the American Heart Association",
          "The Journal of Clinical Endocrinology & Metabolism",
          "The Journal of Clinical Endocrinology & Metabolism",
          "The Journal of Clinical Endocrinology & Metabolism",
          "The Journal of Clinical Endocrinology & Metabolism",
          "Molecular Psychiatry",
          "Cancer Epidemiology Biomarkers & Prevention",
          "Molecular Psychiatry",
          "Cancer Epidemiology Biomarkers & Prevention",
          "Molecular Psychiatry",
          "Cancer Epidemiology Biomarkers & Prevention"
         ],
         "legendgroup": "",
         "marker": {
          "color": [
           2021,
           2018,
           2020,
           2019,
           2019,
           2020,
           2021,
           2021,
           2020,
           2018,
           2019,
           2020,
           2018,
           2021,
           2019,
           2020,
           2019,
           2018,
           2021,
           2018,
           2020,
           2021,
           2019,
           2021,
           2020,
           2019,
           2018,
           2019,
           2021,
           2018,
           2020,
           2018,
           2020,
           2021,
           2019,
           2021,
           2018,
           2019,
           2020,
           2020,
           2021,
           2019,
           2018,
           2020,
           2021,
           2018,
           2019,
           2018,
           2019,
           2021,
           2020,
           2018,
           2020,
           2021,
           2019,
           2019,
           2020,
           2021,
           2018,
           2018,
           2019,
           2020,
           2021,
           2021,
           2019,
           2018,
           2020,
           2018,
           2019,
           2020,
           2021,
           2019,
           2021,
           2018,
           2020,
           2019,
           2021,
           2018,
           2020,
           2021,
           2019,
           2021,
           2020,
           2020,
           2018,
           2019,
           2020,
           2018,
           2021,
           2019,
           2019,
           2021,
           2020,
           2018,
           2019,
           2018,
           2021,
           2019,
           2020,
           2020
          ],
          "coloraxis": "coloraxis",
          "pattern": {
           "shape": ""
          }
         },
         "name": "",
         "offsetgroup": "",
         "orientation": "v",
         "showlegend": false,
         "textposition": "auto",
         "type": "bar",
         "x": [
          "bioRxiv",
          "bioRxiv",
          "bioRxiv",
          "bioRxiv",
          "medRxiv",
          "medRxiv",
          "medRxiv",
          "Nature Communications",
          "Nature Communications",
          "Nature Communications",
          "Nature Communications",
          "European Neuropsychopharmacology",
          "European Neuropsychopharmacology",
          "European Neuropsychopharmacology",
          "European Neuropsychopharmacology",
          "Scientific Reports",
          "Scientific Reports",
          "Scientific Reports",
          "Scientific Reports",
          "PLOS ONE",
          "PLOS ONE",
          "PLOS ONE",
          "PLOS ONE",
          "European Heart Journal",
          "European Heart Journal",
          "European Heart Journal",
          "European Heart Journal",
          "Circulation",
          "Circulation",
          "Circulation",
          "Circulation",
          "Alzheimer's & Dementia",
          "Alzheimer's & Dementia",
          "Alzheimer's & Dementia",
          "Alzheimer's & Dementia",
          "Diabetes",
          "Diabetes",
          "Diabetes",
          "Diabetes",
          "International Journal of Epidemiology",
          "International Journal of Epidemiology",
          "International Journal of Epidemiology",
          "International Journal of Epidemiology",
          "International Journal of Cancer",
          "International Journal of Cancer",
          "International Journal of Cancer",
          "International Journal of Cancer",
          "Journal of the American College of Cardiology",
          "Journal of the American College of Cardiology",
          "Journal of the American College of Cardiology",
          "Journal of the American College of Cardiology",
          "Translational Psychiatry",
          "Translational Psychiatry",
          "Translational Psychiatry",
          "Translational Psychiatry",
          "American Journal of Human Genetics",
          "American Journal of Human Genetics",
          "American Journal of Human Genetics",
          "American Journal of Human Genetics",
          "Geburtshilfe und Frauenheilkunde",
          "Geburtshilfe und Frauenheilkunde",
          "Geburtshilfe und Frauenheilkunde",
          "Geburtshilfe und Frauenheilkunde",
          "SSRN Electronic Journal",
          "SSRN Electronic Journal",
          "SSRN Electronic Journal",
          "SSRN Electronic Journal",
          "Biological Psychiatry",
          "Biological Psychiatry",
          "Biological Psychiatry",
          "Biological Psychiatry",
          "Atherosclerosis",
          "Atherosclerosis",
          "Atherosclerosis",
          "Atherosclerosis",
          "Nature",
          "Nature",
          "Nature",
          "Nature",
          "Human Molecular Genetics",
          "Human Molecular Genetics",
          "Research Square",
          "Research Square",
          "Human Molecular Genetics",
          "Human Molecular Genetics",
          "Research Square",
          "Journal of the American Heart Association",
          "Journal of the American Heart Association",
          "Journal of the American Heart Association",
          "Journal of the American Heart Association",
          "The Journal of Clinical Endocrinology & Metabolism",
          "The Journal of Clinical Endocrinology & Metabolism",
          "The Journal of Clinical Endocrinology & Metabolism",
          "The Journal of Clinical Endocrinology & Metabolism",
          "Molecular Psychiatry",
          "Cancer Epidemiology Biomarkers & Prevention",
          "Molecular Psychiatry",
          "Cancer Epidemiology Biomarkers & Prevention",
          "Molecular Psychiatry",
          "Cancer Epidemiology Biomarkers & Prevention"
         ],
         "xaxis": "x",
         "y": [
          320,
          497,
          403,
          591,
          65,
          442,
          487,
          132,
          166,
          130,
          138,
          9,
          6,
          88,
          452,
          118,
          109,
          110,
          118,
          120,
          72,
          72,
          80,
          50,
          84,
          81,
          91,
          76,
          43,
          72,
          106,
          18,
          129,
          54,
          77,
          41,
          44,
          47,
          46,
          36,
          54,
          44,
          40,
          34,
          25,
          46,
          66,
          35,
          53,
          32,
          50,
          32,
          38,
          56,
          39,
          49,
          41,
          41,
          32,
          66,
          24,
          53,
          16,
          52,
          37,
          27,
          42,
          45,
          38,
          36,
          37,
          46,
          42,
          36,
          31,
          29,
          43,
          30,
          49,
          44,
          30,
          33,
          90,
          19,
          47,
          17,
          41,
          26,
          39,
          28,
          30,
          31,
          33,
          38,
          39,
          23,
          31,
          32,
          27,
          47
         ],
         "yaxis": "y"
        }
       ],
       "layout": {
        "autosize": true,
        "barmode": "relative",
        "coloraxis": {
         "colorbar": {
          "title": {
           "text": "year"
          }
         },
         "colorscale": [
          [
           0,
           "#0d0887"
          ],
          [
           0.1111111111111111,
           "#46039f"
          ],
          [
           0.2222222222222222,
           "#7201a8"
          ],
          [
           0.3333333333333333,
           "#9c179e"
          ],
          [
           0.4444444444444444,
           "#bd3786"
          ],
          [
           0.5555555555555556,
           "#d8576b"
          ],
          [
           0.6666666666666666,
           "#ed7953"
          ],
          [
           0.7777777777777778,
           "#fb9f3a"
          ],
          [
           0.8888888888888888,
           "#fdca26"
          ],
          [
           1,
           "#f0f921"
          ]
         ]
        },
        "legend": {
         "tracegroupgap": 0
        },
        "template": {
         "data": {
          "bar": [
           {
            "error_x": {
             "color": "#2a3f5f"
            },
            "error_y": {
             "color": "#2a3f5f"
            },
            "marker": {
             "line": {
              "color": "#E5ECF6",
              "width": 0.5
             },
             "pattern": {
              "fillmode": "overlay",
              "size": 10,
              "solidity": 0.2
             }
            },
            "type": "bar"
           }
          ],
          "barpolar": [
           {
            "marker": {
             "line": {
              "color": "#E5ECF6",
              "width": 0.5
             },
             "pattern": {
              "fillmode": "overlay",
              "size": 10,
              "solidity": 0.2
             }
            },
            "type": "barpolar"
           }
          ],
          "carpet": [
           {
            "aaxis": {
             "endlinecolor": "#2a3f5f",
             "gridcolor": "white",
             "linecolor": "white",
             "minorgridcolor": "white",
             "startlinecolor": "#2a3f5f"
            },
            "baxis": {
             "endlinecolor": "#2a3f5f",
             "gridcolor": "white",
             "linecolor": "white",
             "minorgridcolor": "white",
             "startlinecolor": "#2a3f5f"
            },
            "type": "carpet"
           }
          ],
          "choropleth": [
           {
            "colorbar": {
             "outlinewidth": 0,
             "ticks": ""
            },
            "type": "choropleth"
           }
          ],
          "contour": [
           {
            "colorbar": {
             "outlinewidth": 0,
             "ticks": ""
            },
            "colorscale": [
             [
              0,
              "#0d0887"
             ],
             [
              0.1111111111111111,
              "#46039f"
             ],
             [
              0.2222222222222222,
              "#7201a8"
             ],
             [
              0.3333333333333333,
              "#9c179e"
             ],
             [
              0.4444444444444444,
              "#bd3786"
             ],
             [
              0.5555555555555556,
              "#d8576b"
             ],
             [
              0.6666666666666666,
              "#ed7953"
             ],
             [
              0.7777777777777778,
              "#fb9f3a"
             ],
             [
              0.8888888888888888,
              "#fdca26"
             ],
             [
              1,
              "#f0f921"
             ]
            ],
            "type": "contour"
           }
          ],
          "contourcarpet": [
           {
            "colorbar": {
             "outlinewidth": 0,
             "ticks": ""
            },
            "type": "contourcarpet"
           }
          ],
          "heatmap": [
           {
            "colorbar": {
             "outlinewidth": 0,
             "ticks": ""
            },
            "colorscale": [
             [
              0,
              "#0d0887"
             ],
             [
              0.1111111111111111,
              "#46039f"
             ],
             [
              0.2222222222222222,
              "#7201a8"
             ],
             [
              0.3333333333333333,
              "#9c179e"
             ],
             [
              0.4444444444444444,
              "#bd3786"
             ],
             [
              0.5555555555555556,
              "#d8576b"
             ],
             [
              0.6666666666666666,
              "#ed7953"
             ],
             [
              0.7777777777777778,
              "#fb9f3a"
             ],
             [
              0.8888888888888888,
              "#fdca26"
             ],
             [
              1,
              "#f0f921"
             ]
            ],
            "type": "heatmap"
           }
          ],
          "heatmapgl": [
           {
            "colorbar": {
             "outlinewidth": 0,
             "ticks": ""
            },
            "colorscale": [
             [
              0,
              "#0d0887"
             ],
             [
              0.1111111111111111,
              "#46039f"
             ],
             [
              0.2222222222222222,
              "#7201a8"
             ],
             [
              0.3333333333333333,
              "#9c179e"
             ],
             [
              0.4444444444444444,
              "#bd3786"
             ],
             [
              0.5555555555555556,
              "#d8576b"
             ],
             [
              0.6666666666666666,
              "#ed7953"
             ],
             [
              0.7777777777777778,
              "#fb9f3a"
             ],
             [
              0.8888888888888888,
              "#fdca26"
             ],
             [
              1,
              "#f0f921"
             ]
            ],
            "type": "heatmapgl"
           }
          ],
          "histogram": [
           {
            "marker": {
             "pattern": {
              "fillmode": "overlay",
              "size": 10,
              "solidity": 0.2
             }
            },
            "type": "histogram"
           }
          ],
          "histogram2d": [
           {
            "colorbar": {
             "outlinewidth": 0,
             "ticks": ""
            },
            "colorscale": [
             [
              0,
              "#0d0887"
             ],
             [
              0.1111111111111111,
              "#46039f"
             ],
             [
              0.2222222222222222,
              "#7201a8"
             ],
             [
              0.3333333333333333,
              "#9c179e"
             ],
             [
              0.4444444444444444,
              "#bd3786"
             ],
             [
              0.5555555555555556,
              "#d8576b"
             ],
             [
              0.6666666666666666,
              "#ed7953"
             ],
             [
              0.7777777777777778,
              "#fb9f3a"
             ],
             [
              0.8888888888888888,
              "#fdca26"
             ],
             [
              1,
              "#f0f921"
             ]
            ],
            "type": "histogram2d"
           }
          ],
          "histogram2dcontour": [
           {
            "colorbar": {
             "outlinewidth": 0,
             "ticks": ""
            },
            "colorscale": [
             [
              0,
              "#0d0887"
             ],
             [
              0.1111111111111111,
              "#46039f"
             ],
             [
              0.2222222222222222,
              "#7201a8"
             ],
             [
              0.3333333333333333,
              "#9c179e"
             ],
             [
              0.4444444444444444,
              "#bd3786"
             ],
             [
              0.5555555555555556,
              "#d8576b"
             ],
             [
              0.6666666666666666,
              "#ed7953"
             ],
             [
              0.7777777777777778,
              "#fb9f3a"
             ],
             [
              0.8888888888888888,
              "#fdca26"
             ],
             [
              1,
              "#f0f921"
             ]
            ],
            "type": "histogram2dcontour"
           }
          ],
          "mesh3d": [
           {
            "colorbar": {
             "outlinewidth": 0,
             "ticks": ""
            },
            "type": "mesh3d"
           }
          ],
          "parcoords": [
           {
            "line": {
             "colorbar": {
              "outlinewidth": 0,
              "ticks": ""
             }
            },
            "type": "parcoords"
           }
          ],
          "pie": [
           {
            "automargin": true,
            "type": "pie"
           }
          ],
          "scatter": [
           {
            "marker": {
             "colorbar": {
              "outlinewidth": 0,
              "ticks": ""
             }
            },
            "type": "scatter"
           }
          ],
          "scatter3d": [
           {
            "line": {
             "colorbar": {
              "outlinewidth": 0,
              "ticks": ""
             }
            },
            "marker": {
             "colorbar": {
              "outlinewidth": 0,
              "ticks": ""
             }
            },
            "type": "scatter3d"
           }
          ],
          "scattercarpet": [
           {
            "marker": {
             "colorbar": {
              "outlinewidth": 0,
              "ticks": ""
             }
            },
            "type": "scattercarpet"
           }
          ],
          "scattergeo": [
           {
            "marker": {
             "colorbar": {
              "outlinewidth": 0,
              "ticks": ""
             }
            },
            "type": "scattergeo"
           }
          ],
          "scattergl": [
           {
            "marker": {
             "colorbar": {
              "outlinewidth": 0,
              "ticks": ""
             }
            },
            "type": "scattergl"
           }
          ],
          "scattermapbox": [
           {
            "marker": {
             "colorbar": {
              "outlinewidth": 0,
              "ticks": ""
             }
            },
            "type": "scattermapbox"
           }
          ],
          "scatterpolar": [
           {
            "marker": {
             "colorbar": {
              "outlinewidth": 0,
              "ticks": ""
             }
            },
            "type": "scatterpolar"
           }
          ],
          "scatterpolargl": [
           {
            "marker": {
             "colorbar": {
              "outlinewidth": 0,
              "ticks": ""
             }
            },
            "type": "scatterpolargl"
           }
          ],
          "scatterternary": [
           {
            "marker": {
             "colorbar": {
              "outlinewidth": 0,
              "ticks": ""
             }
            },
            "type": "scatterternary"
           }
          ],
          "surface": [
           {
            "colorbar": {
             "outlinewidth": 0,
             "ticks": ""
            },
            "colorscale": [
             [
              0,
              "#0d0887"
             ],
             [
              0.1111111111111111,
              "#46039f"
             ],
             [
              0.2222222222222222,
              "#7201a8"
             ],
             [
              0.3333333333333333,
              "#9c179e"
             ],
             [
              0.4444444444444444,
              "#bd3786"
             ],
             [
              0.5555555555555556,
              "#d8576b"
             ],
             [
              0.6666666666666666,
              "#ed7953"
             ],
             [
              0.7777777777777778,
              "#fb9f3a"
             ],
             [
              0.8888888888888888,
              "#fdca26"
             ],
             [
              1,
              "#f0f921"
             ]
            ],
            "type": "surface"
           }
          ],
          "table": [
           {
            "cells": {
             "fill": {
              "color": "#EBF0F8"
             },
             "line": {
              "color": "white"
             }
            },
            "header": {
             "fill": {
              "color": "#C8D4E3"
             },
             "line": {
              "color": "white"
             }
            },
            "type": "table"
           }
          ]
         },
         "layout": {
          "annotationdefaults": {
           "arrowcolor": "#2a3f5f",
           "arrowhead": 0,
           "arrowwidth": 1
          },
          "autotypenumbers": "strict",
          "coloraxis": {
           "colorbar": {
            "outlinewidth": 0,
            "ticks": ""
           }
          },
          "colorscale": {
           "diverging": [
            [
             0,
             "#8e0152"
            ],
            [
             0.1,
             "#c51b7d"
            ],
            [
             0.2,
             "#de77ae"
            ],
            [
             0.3,
             "#f1b6da"
            ],
            [
             0.4,
             "#fde0ef"
            ],
            [
             0.5,
             "#f7f7f7"
            ],
            [
             0.6,
             "#e6f5d0"
            ],
            [
             0.7,
             "#b8e186"
            ],
            [
             0.8,
             "#7fbc41"
            ],
            [
             0.9,
             "#4d9221"
            ],
            [
             1,
             "#276419"
            ]
           ],
           "sequential": [
            [
             0,
             "#0d0887"
            ],
            [
             0.1111111111111111,
             "#46039f"
            ],
            [
             0.2222222222222222,
             "#7201a8"
            ],
            [
             0.3333333333333333,
             "#9c179e"
            ],
            [
             0.4444444444444444,
             "#bd3786"
            ],
            [
             0.5555555555555556,
             "#d8576b"
            ],
            [
             0.6666666666666666,
             "#ed7953"
            ],
            [
             0.7777777777777778,
             "#fb9f3a"
            ],
            [
             0.8888888888888888,
             "#fdca26"
            ],
            [
             1,
             "#f0f921"
            ]
           ],
           "sequentialminus": [
            [
             0,
             "#0d0887"
            ],
            [
             0.1111111111111111,
             "#46039f"
            ],
            [
             0.2222222222222222,
             "#7201a8"
            ],
            [
             0.3333333333333333,
             "#9c179e"
            ],
            [
             0.4444444444444444,
             "#bd3786"
            ],
            [
             0.5555555555555556,
             "#d8576b"
            ],
            [
             0.6666666666666666,
             "#ed7953"
            ],
            [
             0.7777777777777778,
             "#fb9f3a"
            ],
            [
             0.8888888888888888,
             "#fdca26"
            ],
            [
             1,
             "#f0f921"
            ]
           ]
          },
          "colorway": [
           "#636efa",
           "#EF553B",
           "#00cc96",
           "#ab63fa",
           "#FFA15A",
           "#19d3f3",
           "#FF6692",
           "#B6E880",
           "#FF97FF",
           "#FECB52"
          ],
          "font": {
           "color": "#2a3f5f"
          },
          "geo": {
           "bgcolor": "white",
           "lakecolor": "white",
           "landcolor": "#E5ECF6",
           "showlakes": true,
           "showland": true,
           "subunitcolor": "white"
          },
          "hoverlabel": {
           "align": "left"
          },
          "hovermode": "closest",
          "mapbox": {
           "style": "light"
          },
          "paper_bgcolor": "white",
          "plot_bgcolor": "#E5ECF6",
          "polar": {
           "angularaxis": {
            "gridcolor": "white",
            "linecolor": "white",
            "ticks": ""
           },
           "bgcolor": "#E5ECF6",
           "radialaxis": {
            "gridcolor": "white",
            "linecolor": "white",
            "ticks": ""
           }
          },
          "scene": {
           "xaxis": {
            "backgroundcolor": "#E5ECF6",
            "gridcolor": "white",
            "gridwidth": 2,
            "linecolor": "white",
            "showbackground": true,
            "ticks": "",
            "zerolinecolor": "white"
           },
           "yaxis": {
            "backgroundcolor": "#E5ECF6",
            "gridcolor": "white",
            "gridwidth": 2,
            "linecolor": "white",
            "showbackground": true,
            "ticks": "",
            "zerolinecolor": "white"
           },
           "zaxis": {
            "backgroundcolor": "#E5ECF6",
            "gridcolor": "white",
            "gridwidth": 2,
            "linecolor": "white",
            "showbackground": true,
            "ticks": "",
            "zerolinecolor": "white"
           }
          },
          "shapedefaults": {
           "line": {
            "color": "#2a3f5f"
           }
          },
          "ternary": {
           "aaxis": {
            "gridcolor": "white",
            "linecolor": "white",
            "ticks": ""
           },
           "baxis": {
            "gridcolor": "white",
            "linecolor": "white",
            "ticks": ""
           },
           "bgcolor": "#E5ECF6",
           "caxis": {
            "gridcolor": "white",
            "linecolor": "white",
            "ticks": ""
           }
          },
          "title": {
           "x": 0.05
          },
          "xaxis": {
           "automargin": true,
           "gridcolor": "white",
           "linecolor": "white",
           "ticks": "",
           "title": {
            "standoff": 15
           },
           "zerolinecolor": "white",
           "zerolinewidth": 2
          },
          "yaxis": {
           "automargin": true,
           "gridcolor": "white",
           "linecolor": "white",
           "ticks": "",
           "title": {
            "standoff": 15
           },
           "zerolinecolor": "white",
           "zerolinewidth": 2
          }
         }
        },
        "title": {
         "text": "Top 100 competitors for jour.1103138 (based on publications data from 2018)"
        },
        "xaxis": {
         "anchor": "y",
         "autorange": true,
         "domain": [
          0,
          1
         ],
         "range": [
          -0.5,
          25.5
         ],
         "title": {
          "text": "journal.title"
         },
         "type": "category"
        },
        "yaxis": {
         "anchor": "x",
         "autorange": true,
         "domain": [
          0,
          1
         ],
         "range": [
          0,
          1906.3157894736842
         ],
         "title": {
          "text": "total_year"
         },
         "type": "linear"
        }
       }
      },
      "image/png": "[encoded data removed]",
      "text/html": [
       "<div>                            <div id=\"9bd56a2b-fa2e-425a-a33c-be1274d3cc0e\" class=\"plotly-graph-div\" style=\"height:525px; width:100%;\"></div>            <script type=\"text/javascript\">                require([\"plotly\"], function(Plotly) {                    window.PLOTLYENV=window.PLOTLYENV || {};                                    if (document.getElementById(\"9bd56a2b-fa2e-425a-a33c-be1274d3cc0e\")) {                    Plotly.newPlot(                        \"9bd56a2b-fa2e-425a-a33c-be1274d3cc0e\",                        [{\"alignmentgroup\":\"True\",\"customdata\":[[\"jour.1293558\",1811],[\"jour.1293558\",1811],[\"jour.1293558\",1811],[\"jour.1293558\",1811],[\"jour.1369542\",994],[\"jour.1369542\",994],[\"jour.1369542\",994],[\"jour.1043282\",566],[\"jour.1043282\",566],[\"jour.1043282\",566],[\"jour.1043282\",566],[\"jour.1101548\",555],[\"jour.1101548\",555],[\"jour.1101548\",555],[\"jour.1101548\",555],[\"jour.1045337\",455],[\"jour.1045337\",455],[\"jour.1045337\",455],[\"jour.1045337\",455],[\"jour.1037553\",344],[\"jour.1037553\",344],[\"jour.1037553\",344],[\"jour.1037553\",344],[\"jour.1091325\",306],[\"jour.1091325\",306],[\"jour.1091325\",306],[\"jour.1091325\",306],[\"jour.1009570\",297],[\"jour.1009570\",297],[\"jour.1009570\",297],[\"jour.1009570\",297],[\"jour.1034467\",278],[\"jour.1034467\",278],[\"jour.1034467\",278],[\"jour.1034467\",278],[\"jour.1017423\",178],[\"jour.1017423\",178],[\"jour.1017423\",178],[\"jour.1017423\",178],[\"jour.1087544\",174],[\"jour.1087544\",174],[\"jour.1087544\",174],[\"jour.1087544\",174],[\"jour.1358156\",171],[\"jour.1358156\",171],[\"jour.1358156\",171],[\"jour.1358156\",171],[\"jour.1093746\",170],[\"jour.1093746\",170],[\"jour.1093746\",170],[\"jour.1093746\",170],[\"jour.1045271\",165],[\"jour.1045271\",165],[\"jour.1045271\",165],[\"jour.1045271\",165],[\"jour.1017012\",163],[\"jour.1017012\",163],[\"jour.1017012\",163],[\"jour.1017012\",163],[\"jour.1017122\",159],[\"jour.1017122\",159],[\"jour.1017122\",159],[\"jour.1017122\",159],[\"jour.1276748\",158],[\"jour.1276748\",158],[\"jour.1276748\",158],[\"jour.1276748\",158],[\"jour.1399744\",156],[\"jour.1399744\",156],[\"jour.1399744\",156],[\"jour.1399744\",156],[\"jour.1013420\",155],[\"jour.1013420\",155],[\"jour.1013420\",155],[\"jour.1013420\",155],[\"jour.1018957\",151],[\"jour.1018957\",151],[\"jour.1018957\",151],[\"jour.1018957\",151],[\"jour.1102504\",140],[\"jour.1102504\",140],[\"jour.1380788\",140],[\"jour.1380788\",140],[\"jour.1102504\",140],[\"jour.1102504\",140],[\"jour.1380788\",140],[\"jour.1046624\",134],[\"jour.1046624\",134],[\"jour.1046624\",134],[\"jour.1046624\",134],[\"jour.1017738\",132],[\"jour.1017738\",132],[\"jour.1017738\",132],[\"jour.1017738\",132],[\"jour.1115540\",131],[\"jour.1101916\",131],[\"jour.1115540\",131],[\"jour.1101916\",131],[\"jour.1115540\",131],[\"jour.1101916\",131]],\"hovertemplate\":\"<b>%{hovertext}</b><br><br>journal.title=%{x}<br>total_year=%{y}<br>journal.id=%{customdata[0]}<br>total=%{customdata[1]}<br>year=%{marker.color}<extra></extra>\",\"hovertext\":[\"bioRxiv\",\"bioRxiv\",\"bioRxiv\",\"bioRxiv\",\"medRxiv\",\"medRxiv\",\"medRxiv\",\"Nature Communications\",\"Nature Communications\",\"Nature Communications\",\"Nature Communications\",\"European Neuropsychopharmacology\",\"European Neuropsychopharmacology\",\"European Neuropsychopharmacology\",\"European Neuropsychopharmacology\",\"Scientific Reports\",\"Scientific Reports\",\"Scientific Reports\",\"Scientific Reports\",\"PLOS ONE\",\"PLOS ONE\",\"PLOS ONE\",\"PLOS ONE\",\"European Heart Journal\",\"European Heart Journal\",\"European Heart Journal\",\"European Heart Journal\",\"Circulation\",\"Circulation\",\"Circulation\",\"Circulation\",\"Alzheimer's & Dementia\",\"Alzheimer's & Dementia\",\"Alzheimer's & Dementia\",\"Alzheimer's & Dementia\",\"Diabetes\",\"Diabetes\",\"Diabetes\",\"Diabetes\",\"International Journal of Epidemiology\",\"International Journal of Epidemiology\",\"International Journal of Epidemiology\",\"International Journal of Epidemiology\",\"International Journal of Cancer\",\"International Journal of Cancer\",\"International Journal of Cancer\",\"International Journal of Cancer\",\"Journal of the American College of Cardiology\",\"Journal of the American College of Cardiology\",\"Journal of the American College of Cardiology\",\"Journal of the American College of Cardiology\",\"Translational Psychiatry\",\"Translational Psychiatry\",\"Translational Psychiatry\",\"Translational Psychiatry\",\"American Journal of Human Genetics\",\"American Journal of Human Genetics\",\"American Journal of Human Genetics\",\"American Journal of Human Genetics\",\"Geburtshilfe und Frauenheilkunde\",\"Geburtshilfe und Frauenheilkunde\",\"Geburtshilfe und Frauenheilkunde\",\"Geburtshilfe und Frauenheilkunde\",\"SSRN Electronic Journal\",\"SSRN Electronic Journal\",\"SSRN Electronic Journal\",\"SSRN Electronic Journal\",\"Biological Psychiatry\",\"Biological Psychiatry\",\"Biological Psychiatry\",\"Biological Psychiatry\",\"Atherosclerosis\",\"Atherosclerosis\",\"Atherosclerosis\",\"Atherosclerosis\",\"Nature\",\"Nature\",\"Nature\",\"Nature\",\"Human Molecular Genetics\",\"Human Molecular Genetics\",\"Research Square\",\"Research Square\",\"Human Molecular Genetics\",\"Human Molecular Genetics\",\"Research Square\",\"Journal of the American Heart Association\",\"Journal of the American Heart Association\",\"Journal of the American Heart Association\",\"Journal of the American Heart Association\",\"The Journal of Clinical Endocrinology & Metabolism\",\"The Journal of Clinical Endocrinology & Metabolism\",\"The Journal of Clinical Endocrinology & Metabolism\",\"The Journal of Clinical Endocrinology & Metabolism\",\"Molecular Psychiatry\",\"Cancer Epidemiology Biomarkers & Prevention\",\"Molecular Psychiatry\",\"Cancer Epidemiology Biomarkers & Prevention\",\"Molecular Psychiatry\",\"Cancer Epidemiology Biomarkers & Prevention\"],\"legendgroup\":\"\",\"marker\":{\"color\":[2021,2018,2020,2019,2019,2020,2021,2021,2020,2018,2019,2020,2018,2021,2019,2020,2019,2018,2021,2018,2020,2021,2019,2021,2020,2019,2018,2019,2021,2018,2020,2018,2020,2021,2019,2021,2018,2019,2020,2020,2021,2019,2018,2020,2021,2018,2019,2018,2019,2021,2020,2018,2020,2021,2019,2019,2020,2021,2018,2018,2019,2020,2021,2021,2019,2018,2020,2018,2019,2020,2021,2019,2021,2018,2020,2019,2021,2018,2020,2021,2019,2021,2020,2020,2018,2019,2020,2018,2021,2019,2019,2021,2020,2018,2019,2018,2021,2019,2020,2020],\"coloraxis\":\"coloraxis\",\"pattern\":{\"shape\":\"\"}},\"name\":\"\",\"offsetgroup\":\"\",\"orientation\":\"v\",\"showlegend\":false,\"textposition\":\"auto\",\"x\":[\"bioRxiv\",\"bioRxiv\",\"bioRxiv\",\"bioRxiv\",\"medRxiv\",\"medRxiv\",\"medRxiv\",\"Nature Communications\",\"Nature Communications\",\"Nature Communications\",\"Nature Communications\",\"European Neuropsychopharmacology\",\"European Neuropsychopharmacology\",\"European Neuropsychopharmacology\",\"European Neuropsychopharmacology\",\"Scientific Reports\",\"Scientific Reports\",\"Scientific Reports\",\"Scientific Reports\",\"PLOS ONE\",\"PLOS ONE\",\"PLOS ONE\",\"PLOS ONE\",\"European Heart Journal\",\"European Heart Journal\",\"European Heart Journal\",\"European Heart Journal\",\"Circulation\",\"Circulation\",\"Circulation\",\"Circulation\",\"Alzheimer's & Dementia\",\"Alzheimer's & Dementia\",\"Alzheimer's & Dementia\",\"Alzheimer's & Dementia\",\"Diabetes\",\"Diabetes\",\"Diabetes\",\"Diabetes\",\"International Journal of Epidemiology\",\"International Journal of Epidemiology\",\"International Journal of Epidemiology\",\"International Journal of Epidemiology\",\"International Journal of Cancer\",\"International Journal of Cancer\",\"International Journal of Cancer\",\"International Journal of Cancer\",\"Journal of the American College of Cardiology\",\"Journal of the American College of Cardiology\",\"Journal of the American College of Cardiology\",\"Journal of the American College of Cardiology\",\"Translational Psychiatry\",\"Translational Psychiatry\",\"Translational Psychiatry\",\"Translational Psychiatry\",\"American Journal of Human Genetics\",\"American Journal of Human Genetics\",\"American Journal of Human Genetics\",\"American Journal of Human Genetics\",\"Geburtshilfe und Frauenheilkunde\",\"Geburtshilfe und Frauenheilkunde\",\"Geburtshilfe und Frauenheilkunde\",\"Geburtshilfe und Frauenheilkunde\",\"SSRN Electronic Journal\",\"SSRN Electronic Journal\",\"SSRN Electronic Journal\",\"SSRN Electronic Journal\",\"Biological Psychiatry\",\"Biological Psychiatry\",\"Biological Psychiatry\",\"Biological Psychiatry\",\"Atherosclerosis\",\"Atherosclerosis\",\"Atherosclerosis\",\"Atherosclerosis\",\"Nature\",\"Nature\",\"Nature\",\"Nature\",\"Human Molecular Genetics\",\"Human Molecular Genetics\",\"Research Square\",\"Research Square\",\"Human Molecular Genetics\",\"Human Molecular Genetics\",\"Research Square\",\"Journal of the American Heart Association\",\"Journal of the American Heart Association\",\"Journal of the American Heart Association\",\"Journal of the American Heart Association\",\"The Journal of Clinical Endocrinology & Metabolism\",\"The Journal of Clinical Endocrinology & Metabolism\",\"The Journal of Clinical Endocrinology & Metabolism\",\"The Journal of Clinical Endocrinology & Metabolism\",\"Molecular Psychiatry\",\"Cancer Epidemiology Biomarkers & Prevention\",\"Molecular Psychiatry\",\"Cancer Epidemiology Biomarkers & Prevention\",\"Molecular Psychiatry\",\"Cancer Epidemiology Biomarkers & Prevention\"],\"xaxis\":\"x\",\"y\":[320,497,403,591,65,442,487,132,166,130,138,9,6,88,452,118,109,110,118,120,72,72,80,50,84,81,91,76,43,72,106,18,129,54,77,41,44,47,46,36,54,44,40,34,25,46,66,35,53,32,50,32,38,56,39,49,41,41,32,66,24,53,16,52,37,27,42,45,38,36,37,46,42,36,31,29,43,30,49,44,30,33,90,19,47,17,41,26,39,28,30,31,33,38,39,23,31,32,27,47],\"yaxis\":\"y\",\"type\":\"bar\"}],                        {\"template\":{\"data\":{\"bar\":[{\"error_x\":{\"color\":\"#2a3f5f\"},\"error_y\":{\"color\":\"#2a3f5f\"},\"marker\":{\"line\":{\"color\":\"#E5ECF6\",\"width\":0.5},\"pattern\":{\"fillmode\":\"overlay\",\"size\":10,\"solidity\":0.2}},\"type\":\"bar\"}],\"barpolar\":[{\"marker\":{\"line\":{\"color\":\"#E5ECF6\",\"width\":0.5},\"pattern\":{\"fillmode\":\"overlay\",\"size\":10,\"solidity\":0.2}},\"type\":\"barpolar\"}],\"carpet\":[{\"aaxis\":{\"endlinecolor\":\"#2a3f5f\",\"gridcolor\":\"white\",\"linecolor\":\"white\",\"minorgridcolor\":\"white\",\"startlinecolor\":\"#2a3f5f\"},\"baxis\":{\"endlinecolor\":\"#2a3f5f\",\"gridcolor\":\"white\",\"linecolor\":\"white\",\"minorgridcolor\":\"white\",\"startlinecolor\":\"#2a3f5f\"},\"type\":\"carpet\"}],\"choropleth\":[{\"colorbar\":{\"outlinewidth\":0,\"ticks\":\"\"},\"type\":\"choropleth\"}],\"contour\":[{\"colorbar\":{\"outlinewidth\":0,\"ticks\":\"\"},\"colorscale\":[[0.0,\"#0d0887\"],[0.1111111111111111,\"#46039f\"],[0.2222222222222222,\"#7201a8\"],[0.3333333333333333,\"#9c179e\"],[0.4444444444444444,\"#bd3786\"],[0.5555555555555556,\"#d8576b\"],[0.6666666666666666,\"#ed7953\"],[0.7777777777777778,\"#fb9f3a\"],[0.8888888888888888,\"#fdca26\"],[1.0,\"#f0f921\"]],\"type\":\"contour\"}],\"contourcarpet\":[{\"colorbar\":{\"outlinewidth\":0,\"ticks\":\"\"},\"type\":\"contourcarpet\"}],\"heatmap\":[{\"colorbar\":{\"outlinewidth\":0,\"ticks\":\"\"},\"colorscale\":[[0.0,\"#0d0887\"],[0.1111111111111111,\"#46039f\"],[0.2222222222222222,\"#7201a8\"],[0.3333333333333333,\"#9c179e\"],[0.4444444444444444,\"#bd3786\"],[0.5555555555555556,\"#d8576b\"],[0.6666666666666666,\"#ed7953\"],[0.7777777777777778,\"#fb9f3a\"],[0.8888888888888888,\"#fdca26\"],[1.0,\"#f0f921\"]],\"type\":\"heatmap\"}],\"heatmapgl\":[{\"colorbar\":{\"outlinewidth\":0,\"ticks\":\"\"},\"colorscale\":[[0.0,\"#0d0887\"],[0.1111111111111111,\"#46039f\"],[0.2222222222222222,\"#7201a8\"],[0.3333333333333333,\"#9c179e\"],[0.4444444444444444,\"#bd3786\"],[0.5555555555555556,\"#d8576b\"],[0.6666666666666666,\"#ed7953\"],[0.7777777777777778,\"#fb9f3a\"],[0.8888888888888888,\"#fdca26\"],[1.0,\"#f0f921\"]],\"type\":\"heatmapgl\"}],\"histogram\":[{\"marker\":{\"pattern\":{\"fillmode\":\"overlay\",\"size\":10,\"solidity\":0.2}},\"type\":\"histogram\"}],\"histogram2d\":[{\"colorbar\":{\"outlinewidth\":0,\"ticks\":\"\"},\"colorscale\":[[0.0,\"#0d0887\"],[0.1111111111111111,\"#46039f\"],[0.2222222222222222,\"#7201a8\"],[0.3333333333333333,\"#9c179e\"],[0.4444444444444444,\"#bd3786\"],[0.5555555555555556,\"#d8576b\"],[0.6666666666666666,\"#ed7953\"],[0.7777777777777778,\"#fb9f3a\"],[0.8888888888888888,\"#fdca26\"],[1.0,\"#f0f921\"]],\"type\":\"histogram2d\"}],\"histogram2dcontour\":[{\"colorbar\":{\"outlinewidth\":0,\"ticks\":\"\"},\"colorscale\":[[0.0,\"#0d0887\"],[0.1111111111111111,\"#46039f\"],[0.2222222222222222,\"#7201a8\"],[0.3333333333333333,\"#9c179e\"],[0.4444444444444444,\"#bd3786\"],[0.5555555555555556,\"#d8576b\"],[0.6666666666666666,\"#ed7953\"],[0.7777777777777778,\"#fb9f3a\"],[0.8888888888888888,\"#fdca26\"],[1.0,\"#f0f921\"]],\"type\":\"histogram2dcontour\"}],\"mesh3d\":[{\"colorbar\":{\"outlinewidth\":0,\"ticks\":\"\"},\"type\":\"mesh3d\"}],\"parcoords\":[{\"line\":{\"colorbar\":{\"outlinewidth\":0,\"ticks\":\"\"}},\"type\":\"parcoords\"}],\"pie\":[{\"automargin\":true,\"type\":\"pie\"}],\"scatter\":[{\"marker\":{\"colorbar\":{\"outlinewidth\":0,\"ticks\":\"\"}},\"type\":\"scatter\"}],\"scatter3d\":[{\"line\":{\"colorbar\":{\"outlinewidth\":0,\"ticks\":\"\"}},\"marker\":{\"colorbar\":{\"outlinewidth\":0,\"ticks\":\"\"}},\"type\":\"scatter3d\"}],\"scattercarpet\":[{\"marker\":{\"colorbar\":{\"outlinewidth\":0,\"ticks\":\"\"}},\"type\":\"scattercarpet\"}],\"scattergeo\":[{\"marker\":{\"colorbar\":{\"outlinewidth\":0,\"ticks\":\"\"}},\"type\":\"scattergeo\"}],\"scattergl\":[{\"marker\":{\"colorbar\":{\"outlinewidth\":0,\"ticks\":\"\"}},\"type\":\"scattergl\"}],\"scattermapbox\":[{\"marker\":{\"colorbar\":{\"outlinewidth\":0,\"ticks\":\"\"}},\"type\":\"scattermapbox\"}],\"scatterpolar\":[{\"marker\":{\"colorbar\":{\"outlinewidth\":0,\"ticks\":\"\"}},\"type\":\"scatterpolar\"}],\"scatterpolargl\":[{\"marker\":{\"colorbar\":{\"outlinewidth\":0,\"ticks\":\"\"}},\"type\":\"scatterpolargl\"}],\"scatterternary\":[{\"marker\":{\"colorbar\":{\"outlinewidth\":0,\"ticks\":\"\"}},\"type\":\"scatterternary\"}],\"surface\":[{\"colorbar\":{\"outlinewidth\":0,\"ticks\":\"\"},\"colorscale\":[[0.0,\"#0d0887\"],[0.1111111111111111,\"#46039f\"],[0.2222222222222222,\"#7201a8\"],[0.3333333333333333,\"#9c179e\"],[0.4444444444444444,\"#bd3786\"],[0.5555555555555556,\"#d8576b\"],[0.6666666666666666,\"#ed7953\"],[0.7777777777777778,\"#fb9f3a\"],[0.8888888888888888,\"#fdca26\"],[1.0,\"#f0f921\"]],\"type\":\"surface\"}],\"table\":[{\"cells\":{\"fill\":{\"color\":\"#EBF0F8\"},\"line\":{\"color\":\"white\"}},\"header\":{\"fill\":{\"color\":\"#C8D4E3\"},\"line\":{\"color\":\"white\"}},\"type\":\"table\"}]},\"layout\":{\"annotationdefaults\":{\"arrowcolor\":\"#2a3f5f\",\"arrowhead\":0,\"arrowwidth\":1},\"autotypenumbers\":\"strict\",\"coloraxis\":{\"colorbar\":{\"outlinewidth\":0,\"ticks\":\"\"}},\"colorscale\":{\"diverging\":[[0,\"#8e0152\"],[0.1,\"#c51b7d\"],[0.2,\"#de77ae\"],[0.3,\"#f1b6da\"],[0.4,\"#fde0ef\"],[0.5,\"#f7f7f7\"],[0.6,\"#e6f5d0\"],[0.7,\"#b8e186\"],[0.8,\"#7fbc41\"],[0.9,\"#4d9221\"],[1,\"#276419\"]],\"sequential\":[[0.0,\"#0d0887\"],[0.1111111111111111,\"#46039f\"],[0.2222222222222222,\"#7201a8\"],[0.3333333333333333,\"#9c179e\"],[0.4444444444444444,\"#bd3786\"],[0.5555555555555556,\"#d8576b\"],[0.6666666666666666,\"#ed7953\"],[0.7777777777777778,\"#fb9f3a\"],[0.8888888888888888,\"#fdca26\"],[1.0,\"#f0f921\"]],\"sequentialminus\":[[0.0,\"#0d0887\"],[0.1111111111111111,\"#46039f\"],[0.2222222222222222,\"#7201a8\"],[0.3333333333333333,\"#9c179e\"],[0.4444444444444444,\"#bd3786\"],[0.5555555555555556,\"#d8576b\"],[0.6666666666666666,\"#ed7953\"],[0.7777777777777778,\"#fb9f3a\"],[0.8888888888888888,\"#fdca26\"],[1.0,\"#f0f921\"]]},\"colorway\":[\"#636efa\",\"#EF553B\",\"#00cc96\",\"#ab63fa\",\"#FFA15A\",\"#19d3f3\",\"#FF6692\",\"#B6E880\",\"#FF97FF\",\"#FECB52\"],\"font\":{\"color\":\"#2a3f5f\"},\"geo\":{\"bgcolor\":\"white\",\"lakecolor\":\"white\",\"landcolor\":\"#E5ECF6\",\"showlakes\":true,\"showland\":true,\"subunitcolor\":\"white\"},\"hoverlabel\":{\"align\":\"left\"},\"hovermode\":\"closest\",\"mapbox\":{\"style\":\"light\"},\"paper_bgcolor\":\"white\",\"plot_bgcolor\":\"#E5ECF6\",\"polar\":{\"angularaxis\":{\"gridcolor\":\"white\",\"linecolor\":\"white\",\"ticks\":\"\"},\"bgcolor\":\"#E5ECF6\",\"radialaxis\":{\"gridcolor\":\"white\",\"linecolor\":\"white\",\"ticks\":\"\"}},\"scene\":{\"xaxis\":{\"backgroundcolor\":\"#E5ECF6\",\"gridcolor\":\"white\",\"gridwidth\":2,\"linecolor\":\"white\",\"showbackground\":true,\"ticks\":\"\",\"zerolinecolor\":\"white\"},\"yaxis\":{\"backgroundcolor\":\"#E5ECF6\",\"gridcolor\":\"white\",\"gridwidth\":2,\"linecolor\":\"white\",\"showbackground\":true,\"ticks\":\"\",\"zerolinecolor\":\"white\"},\"zaxis\":{\"backgroundcolor\":\"#E5ECF6\",\"gridcolor\":\"white\",\"gridwidth\":2,\"linecolor\":\"white\",\"showbackground\":true,\"ticks\":\"\",\"zerolinecolor\":\"white\"}},\"shapedefaults\":{\"line\":{\"color\":\"#2a3f5f\"}},\"ternary\":{\"aaxis\":{\"gridcolor\":\"white\",\"linecolor\":\"white\",\"ticks\":\"\"},\"baxis\":{\"gridcolor\":\"white\",\"linecolor\":\"white\",\"ticks\":\"\"},\"bgcolor\":\"#E5ECF6\",\"caxis\":{\"gridcolor\":\"white\",\"linecolor\":\"white\",\"ticks\":\"\"}},\"title\":{\"x\":0.05},\"xaxis\":{\"automargin\":true,\"gridcolor\":\"white\",\"linecolor\":\"white\",\"ticks\":\"\",\"title\":{\"standoff\":15},\"zerolinecolor\":\"white\",\"zerolinewidth\":2},\"yaxis\":{\"automargin\":true,\"gridcolor\":\"white\",\"linecolor\":\"white\",\"ticks\":\"\",\"title\":{\"standoff\":15},\"zerolinecolor\":\"white\",\"zerolinewidth\":2}}},\"xaxis\":{\"anchor\":\"y\",\"domain\":[0.0,1.0],\"title\":{\"text\":\"journal.title\"}},\"yaxis\":{\"anchor\":\"x\",\"domain\":[0.0,1.0],\"title\":{\"text\":\"total_year\"}},\"coloraxis\":{\"colorbar\":{\"title\":{\"text\":\"year\"}},\"colorscale\":[[0.0,\"#0d0887\"],[0.1111111111111111,\"#46039f\"],[0.2222222222222222,\"#7201a8\"],[0.3333333333333333,\"#9c179e\"],[0.4444444444444444,\"#bd3786\"],[0.5555555555555556,\"#d8576b\"],[0.6666666666666666,\"#ed7953\"],[0.7777777777777778,\"#fb9f3a\"],[0.8888888888888888,\"#fdca26\"],[1.0,\"#f0f921\"]]},\"legend\":{\"tracegroupgap\":0},\"title\":{\"text\":\"Top 100 competitors for jour.1103138 (based on publications data from 2018)\"},\"barmode\":\"relative\"},                        {\"responsive\": true}                    ).then(function(){\n",
       "                            \n",
       "var gd = document.getElementById('9bd56a2b-fa2e-425a-a33c-be1274d3cc0e');\n",
       "var x = new MutationObserver(function (mutations, observer) {{\n",
       "        var display = window.getComputedStyle(gd).display;\n",
       "        if (!display || display === 'none') {{\n",
       "            console.log([gd, 'removed!']);\n",
       "            Plotly.purge(gd);\n",
       "            observer.disconnect();\n",
       "        }}\n",
       "}});\n",
       "\n",
       "// Listen for the removal of the full notebook cells\n",
       "var notebookContainer = gd.closest('#notebook-container');\n",
       "if (notebookContainer) {{\n",
       "    x.observe(notebookContainer, {childList: true});\n",
       "}}\n",
       "\n",
       "// Listen for the clearing of the current output cell\n",
       "var outputEl = gd.closest('.output');\n",
       "if (outputEl) {{\n",
       "    x.observe(outputEl, {childList: true});\n",
       "}}\n",
       "\n",
       "                        })                };                });            </script>        </div>"
      ]
     },
     "metadata": {},
     "output_type": "display_data"
    }
   ],
   "source": [
    "\n",
    "threshold = 100\n",
    "temp = journals.sort_values(\"total\", ascending=False)[:threshold]\n",
    "\n",
    "px.bar(journals[:threshold], \n",
    "       x=\"journal.title\", y=\"total_year\", \n",
    "       color=\"year\",\n",
    "       hover_name=\"journal.title\", \n",
    "       hover_data=['journal.id', 'journal.title', 'total' ], \n",
    "       title=f\"Top {threshold} competitors for {journal_id} (based on publications data from {start_year})\")"
   ]
  },
  {
   "cell_type": "code",
   "execution_count": 11,
   "metadata": {
    "Collapsed": "false"
   },
   "outputs": [
    {
     "data": {
      "application/vnd.plotly.v1+json": {
       "config": {
        "plotlyServerURL": "https://plot.ly"
       },
       "data": [
        {
         "alignmentgroup": "True",
         "customdata": [
          [
           "jour.1293558",
           1811
          ],
          [
           "jour.1369542",
           994
          ],
          [
           "jour.1043282",
           566
          ],
          [
           "jour.1101548",
           555
          ],
          [
           "jour.1045337",
           455
          ],
          [
           "jour.1037553",
           344
          ],
          [
           "jour.1091325",
           306
          ],
          [
           "jour.1009570",
           297
          ],
          [
           "jour.1034467",
           278
          ],
          [
           "jour.1017423",
           178
          ],
          [
           "jour.1087544",
           174
          ],
          [
           "jour.1358156",
           171
          ],
          [
           "jour.1093746",
           170
          ],
          [
           "jour.1045271",
           165
          ],
          [
           "jour.1017012",
           163
          ],
          [
           "jour.1017122",
           159
          ],
          [
           "jour.1276748",
           158
          ],
          [
           "jour.1399744",
           156
          ],
          [
           "jour.1013420",
           155
          ],
          [
           "jour.1018957",
           151
          ],
          [
           "jour.1102504",
           140
          ],
          [
           "jour.1380788",
           140
          ],
          [
           "jour.1046624",
           134
          ],
          [
           "jour.1017738",
           132
          ],
          [
           "jour.1115540",
           131
          ],
          [
           "jour.1101916",
           131
          ],
          [
           "jour.1042723",
           123
          ],
          [
           "jour.1103715",
           114
          ],
          [
           "jour.1312191",
           112
          ],
          [
           "jour.1085025",
           110
          ],
          [
           "jour.1044693",
           104
          ],
          [
           "jour.1100417",
           101
          ],
          [
           "jour.1019114",
           101
          ],
          [
           "jour.1284430",
           99
          ],
          [
           "jour.1040791",
           97
          ],
          [
           "jour.1034974",
           96
          ],
          [
           "jour.1018238",
           96
          ],
          [
           "jour.1001482",
           93
          ],
          [
           "jour.1095636",
           92
          ],
          [
           "jour.1103410",
           90
          ],
          [
           "jour.1094093",
           86
          ],
          [
           "jour.1054214",
           85
          ],
          [
           "jour.1043163",
           84
          ],
          [
           "jour.1017790",
           83
          ],
          [
           "jour.1013101",
           81
          ],
          [
           "jour.1017616",
           78
          ],
          [
           "jour.1019815",
           77
          ],
          [
           "jour.1113716",
           75
          ],
          [
           "jour.1034427",
           73
          ],
          [
           "jour.1042271",
           70
          ],
          [
           "jour.1346339",
           70
          ]
         ],
         "hovertemplate": "<b>%{hovertext}</b><br><br>year=%{marker.color}<br>journal.title=%{x}<br>total_year=%{y}<br>journal.id=%{customdata[0]}<br>total=%{customdata[1]}<extra></extra>",
         "hovertext": [
          "bioRxiv",
          "medRxiv",
          "Nature Communications",
          "European Neuropsychopharmacology",
          "Scientific Reports",
          "PLOS ONE",
          "European Heart Journal",
          "Circulation",
          "Alzheimer's & Dementia",
          "Diabetes",
          "International Journal of Epidemiology",
          "International Journal of Cancer",
          "Journal of the American College of Cardiology",
          "Translational Psychiatry",
          "American Journal of Human Genetics",
          "Geburtshilfe und Frauenheilkunde",
          "SSRN Electronic Journal",
          "Biological Psychiatry",
          "Atherosclerosis",
          "Nature",
          "Human Molecular Genetics",
          "Research Square",
          "Journal of the American Heart Association",
          "The Journal of Clinical Endocrinology & Metabolism",
          "Molecular Psychiatry",
          "Cancer Epidemiology Biomarkers & Prevention",
          "Nutrients",
          "Diabetes Care",
          "Journal of Clinical Oncology",
          "Blood",
          "BMJ Open",
          "Annals of Oncology",
          "Cell",
          "Wellcome Open Research",
          "Circulation Genomic and Precision Medicine",
          "PLOS Genetics",
          "Neurology",
          "Diabetologia",
          "European Journal of Epidemiology",
          "European Journal of Human Genetics",
          "Journal of Hypertension",
          "Psychological Medicine",
          "Cancers",
          "American Journal of Clinical Nutrition",
          "Stroke",
          "Gastroenterology",
          "British Journal of Ophthalmology",
          "Nature Medicine",
          "PLOS Medicine",
          "Clinical Epigenetics",
          "Science"
         ],
         "legendgroup": "",
         "marker": {
          "color": [
           2021,
           2021,
           2021,
           2021,
           2021,
           2021,
           2021,
           2021,
           2021,
           2021,
           2021,
           2021,
           2021,
           2021,
           2021,
           2021,
           2021,
           2021,
           2021,
           2021,
           2021,
           2021,
           2021,
           2021,
           2021,
           2021,
           2021,
           2021,
           2021,
           2021,
           2021,
           2021,
           2021,
           2021,
           2021,
           2021,
           2021,
           2021,
           2021,
           2021,
           2021,
           2021,
           2021,
           2021,
           2021,
           2021,
           2021,
           2021,
           2021,
           2021,
           2021
          ],
          "coloraxis": "coloraxis",
          "pattern": {
           "shape": ""
          }
         },
         "name": "",
         "offsetgroup": "",
         "orientation": "v",
         "showlegend": false,
         "textposition": "auto",
         "type": "bar",
         "x": [
          "bioRxiv",
          "medRxiv",
          "Nature Communications",
          "European Neuropsychopharmacology",
          "Scientific Reports",
          "PLOS ONE",
          "European Heart Journal",
          "Circulation",
          "Alzheimer's & Dementia",
          "Diabetes",
          "International Journal of Epidemiology",
          "International Journal of Cancer",
          "Journal of the American College of Cardiology",
          "Translational Psychiatry",
          "American Journal of Human Genetics",
          "Geburtshilfe und Frauenheilkunde",
          "SSRN Electronic Journal",
          "Biological Psychiatry",
          "Atherosclerosis",
          "Nature",
          "Human Molecular Genetics",
          "Research Square",
          "Journal of the American Heart Association",
          "The Journal of Clinical Endocrinology & Metabolism",
          "Molecular Psychiatry",
          "Cancer Epidemiology Biomarkers & Prevention",
          "Nutrients",
          "Diabetes Care",
          "Journal of Clinical Oncology",
          "Blood",
          "BMJ Open",
          "Annals of Oncology",
          "Cell",
          "Wellcome Open Research",
          "Circulation Genomic and Precision Medicine",
          "PLOS Genetics",
          "Neurology",
          "Diabetologia",
          "European Journal of Epidemiology",
          "European Journal of Human Genetics",
          "Journal of Hypertension",
          "Psychological Medicine",
          "Cancers",
          "American Journal of Clinical Nutrition",
          "Stroke",
          "Gastroenterology",
          "British Journal of Ophthalmology",
          "Nature Medicine",
          "PLOS Medicine",
          "Clinical Epigenetics",
          "Science"
         ],
         "xaxis": "x5",
         "y": [
          320,
          487,
          132,
          88,
          118,
          72,
          50,
          43,
          54,
          41,
          54,
          25,
          32,
          56,
          41,
          16,
          52,
          37,
          42,
          43,
          44,
          33,
          39,
          31,
          31,
          29,
          42,
          25,
          25,
          33,
          28,
          27,
          24,
          36,
          25,
          29,
          23,
          25,
          18,
          22,
          36,
          22,
          46,
          26,
          28,
          11,
          22,
          24,
          14,
          26,
          19
         ],
         "yaxis": "y5"
        },
        {
         "alignmentgroup": "True",
         "customdata": [
          [
           "jour.1293558",
           1811
          ],
          [
           "jour.1043282",
           566
          ],
          [
           "jour.1101548",
           555
          ],
          [
           "jour.1045337",
           455
          ],
          [
           "jour.1037553",
           344
          ],
          [
           "jour.1091325",
           306
          ],
          [
           "jour.1009570",
           297
          ],
          [
           "jour.1034467",
           278
          ],
          [
           "jour.1017423",
           178
          ],
          [
           "jour.1087544",
           174
          ],
          [
           "jour.1358156",
           171
          ],
          [
           "jour.1093746",
           170
          ],
          [
           "jour.1045271",
           165
          ],
          [
           "jour.1017012",
           163
          ],
          [
           "jour.1017122",
           159
          ],
          [
           "jour.1276748",
           158
          ],
          [
           "jour.1399744",
           156
          ],
          [
           "jour.1013420",
           155
          ],
          [
           "jour.1018957",
           151
          ],
          [
           "jour.1102504",
           140
          ],
          [
           "jour.1046624",
           134
          ],
          [
           "jour.1017738",
           132
          ],
          [
           "jour.1101916",
           131
          ],
          [
           "jour.1115540",
           131
          ],
          [
           "jour.1042723",
           123
          ],
          [
           "jour.1103715",
           114
          ],
          [
           "jour.1312191",
           112
          ],
          [
           "jour.1085025",
           110
          ],
          [
           "jour.1044693",
           104
          ],
          [
           "jour.1100417",
           101
          ],
          [
           "jour.1019114",
           101
          ],
          [
           "jour.1284430",
           99
          ],
          [
           "jour.1040791",
           97
          ],
          [
           "jour.1034974",
           96
          ],
          [
           "jour.1018238",
           96
          ],
          [
           "jour.1001482",
           93
          ],
          [
           "jour.1095636",
           92
          ],
          [
           "jour.1103410",
           90
          ],
          [
           "jour.1094093",
           86
          ],
          [
           "jour.1054214",
           85
          ],
          [
           "jour.1043163",
           84
          ],
          [
           "jour.1017790",
           83
          ],
          [
           "jour.1013101",
           81
          ],
          [
           "jour.1017616",
           78
          ],
          [
           "jour.1019815",
           77
          ],
          [
           "jour.1113716",
           75
          ],
          [
           "jour.1034427",
           73
          ]
         ],
         "hovertemplate": "<b>%{hovertext}</b><br><br>year=%{marker.color}<br>journal.title=%{x}<br>total_year=%{y}<br>journal.id=%{customdata[0]}<br>total=%{customdata[1]}<extra></extra>",
         "hovertext": [
          "bioRxiv",
          "Nature Communications",
          "European Neuropsychopharmacology",
          "Scientific Reports",
          "PLOS ONE",
          "European Heart Journal",
          "Circulation",
          "Alzheimer's & Dementia",
          "Diabetes",
          "International Journal of Epidemiology",
          "International Journal of Cancer",
          "Journal of the American College of Cardiology",
          "Translational Psychiatry",
          "American Journal of Human Genetics",
          "Geburtshilfe und Frauenheilkunde",
          "SSRN Electronic Journal",
          "Biological Psychiatry",
          "Atherosclerosis",
          "Nature",
          "Human Molecular Genetics",
          "Journal of the American Heart Association",
          "The Journal of Clinical Endocrinology & Metabolism",
          "Cancer Epidemiology Biomarkers & Prevention",
          "Molecular Psychiatry",
          "Nutrients",
          "Diabetes Care",
          "Journal of Clinical Oncology",
          "Blood",
          "BMJ Open",
          "Annals of Oncology",
          "Cell",
          "Wellcome Open Research",
          "Circulation Genomic and Precision Medicine",
          "PLOS Genetics",
          "Neurology",
          "Diabetologia",
          "European Journal of Epidemiology",
          "European Journal of Human Genetics",
          "Journal of Hypertension",
          "Psychological Medicine",
          "Cancers",
          "American Journal of Clinical Nutrition",
          "Stroke",
          "Gastroenterology",
          "British Journal of Ophthalmology",
          "Nature Medicine",
          "PLOS Medicine"
         ],
         "legendgroup": "",
         "marker": {
          "color": [
           2018,
           2018,
           2018,
           2018,
           2018,
           2018,
           2018,
           2018,
           2018,
           2018,
           2018,
           2018,
           2018,
           2018,
           2018,
           2018,
           2018,
           2018,
           2018,
           2018,
           2018,
           2018,
           2018,
           2018,
           2018,
           2018,
           2018,
           2018,
           2018,
           2018,
           2018,
           2018,
           2018,
           2018,
           2018,
           2018,
           2018,
           2018,
           2018,
           2018,
           2018,
           2018,
           2018,
           2018,
           2018,
           2018,
           2018
          ],
          "coloraxis": "coloraxis",
          "pattern": {
           "shape": ""
          }
         },
         "name": "",
         "offsetgroup": "",
         "orientation": "v",
         "showlegend": false,
         "textposition": "auto",
         "type": "bar",
         "x": [
          "bioRxiv",
          "Nature Communications",
          "European Neuropsychopharmacology",
          "Scientific Reports",
          "PLOS ONE",
          "European Heart Journal",
          "Circulation",
          "Alzheimer's & Dementia",
          "Diabetes",
          "International Journal of Epidemiology",
          "International Journal of Cancer",
          "Journal of the American College of Cardiology",
          "Translational Psychiatry",
          "American Journal of Human Genetics",
          "Geburtshilfe und Frauenheilkunde",
          "SSRN Electronic Journal",
          "Biological Psychiatry",
          "Atherosclerosis",
          "Nature",
          "Human Molecular Genetics",
          "Journal of the American Heart Association",
          "The Journal of Clinical Endocrinology & Metabolism",
          "Cancer Epidemiology Biomarkers & Prevention",
          "Molecular Psychiatry",
          "Nutrients",
          "Diabetes Care",
          "Journal of Clinical Oncology",
          "Blood",
          "BMJ Open",
          "Annals of Oncology",
          "Cell",
          "Wellcome Open Research",
          "Circulation Genomic and Precision Medicine",
          "PLOS Genetics",
          "Neurology",
          "Diabetologia",
          "European Journal of Epidemiology",
          "European Journal of Human Genetics",
          "Journal of Hypertension",
          "Psychological Medicine",
          "Cancers",
          "American Journal of Clinical Nutrition",
          "Stroke",
          "Gastroenterology",
          "British Journal of Ophthalmology",
          "Nature Medicine",
          "PLOS Medicine"
         ],
         "xaxis": "x4",
         "y": [
          497,
          130,
          6,
          110,
          120,
          91,
          72,
          18,
          44,
          40,
          46,
          35,
          32,
          32,
          66,
          27,
          45,
          36,
          30,
          47,
          26,
          38,
          23,
          34,
          14,
          27,
          42,
          35,
          23,
          22,
          28,
          23,
          26,
          23,
          14,
          24,
          27,
          25,
          26,
          21,
          2,
          12,
          20,
          21,
          16,
          9,
          20
         ],
         "yaxis": "y4"
        },
        {
         "alignmentgroup": "True",
         "customdata": [
          [
           "jour.1293558",
           1811
          ],
          [
           "jour.1369542",
           994
          ],
          [
           "jour.1043282",
           566
          ],
          [
           "jour.1101548",
           555
          ],
          [
           "jour.1045337",
           455
          ],
          [
           "jour.1037553",
           344
          ],
          [
           "jour.1091325",
           306
          ],
          [
           "jour.1009570",
           297
          ],
          [
           "jour.1034467",
           278
          ],
          [
           "jour.1017423",
           178
          ],
          [
           "jour.1087544",
           174
          ],
          [
           "jour.1358156",
           171
          ],
          [
           "jour.1093746",
           170
          ],
          [
           "jour.1045271",
           165
          ],
          [
           "jour.1017012",
           163
          ],
          [
           "jour.1017122",
           159
          ],
          [
           "jour.1276748",
           158
          ],
          [
           "jour.1399744",
           156
          ],
          [
           "jour.1013420",
           155
          ],
          [
           "jour.1018957",
           151
          ],
          [
           "jour.1380788",
           140
          ],
          [
           "jour.1102504",
           140
          ],
          [
           "jour.1046624",
           134
          ],
          [
           "jour.1017738",
           132
          ],
          [
           "jour.1115540",
           131
          ],
          [
           "jour.1101916",
           131
          ],
          [
           "jour.1042723",
           123
          ],
          [
           "jour.1103715",
           114
          ],
          [
           "jour.1312191",
           112
          ],
          [
           "jour.1085025",
           110
          ],
          [
           "jour.1044693",
           104
          ],
          [
           "jour.1100417",
           101
          ],
          [
           "jour.1019114",
           101
          ],
          [
           "jour.1284430",
           99
          ],
          [
           "jour.1040791",
           97
          ],
          [
           "jour.1018238",
           96
          ],
          [
           "jour.1034974",
           96
          ],
          [
           "jour.1001482",
           93
          ],
          [
           "jour.1095636",
           92
          ],
          [
           "jour.1103410",
           90
          ],
          [
           "jour.1094093",
           86
          ],
          [
           "jour.1054214",
           85
          ],
          [
           "jour.1043163",
           84
          ],
          [
           "jour.1017790",
           83
          ],
          [
           "jour.1013101",
           81
          ],
          [
           "jour.1017616",
           78
          ],
          [
           "jour.1019815",
           77
          ],
          [
           "jour.1113716",
           75
          ],
          [
           "jour.1034427",
           73
          ],
          [
           "jour.1042271",
           70
          ],
          [
           "jour.1346339",
           70
          ]
         ],
         "hovertemplate": "<b>%{hovertext}</b><br><br>year=%{marker.color}<br>journal.title=%{x}<br>total_year=%{y}<br>journal.id=%{customdata[0]}<br>total=%{customdata[1]}<extra></extra>",
         "hovertext": [
          "bioRxiv",
          "medRxiv",
          "Nature Communications",
          "European Neuropsychopharmacology",
          "Scientific Reports",
          "PLOS ONE",
          "European Heart Journal",
          "Circulation",
          "Alzheimer's & Dementia",
          "Diabetes",
          "International Journal of Epidemiology",
          "International Journal of Cancer",
          "Journal of the American College of Cardiology",
          "Translational Psychiatry",
          "American Journal of Human Genetics",
          "Geburtshilfe und Frauenheilkunde",
          "SSRN Electronic Journal",
          "Biological Psychiatry",
          "Atherosclerosis",
          "Nature",
          "Research Square",
          "Human Molecular Genetics",
          "Journal of the American Heart Association",
          "The Journal of Clinical Endocrinology & Metabolism",
          "Molecular Psychiatry",
          "Cancer Epidemiology Biomarkers & Prevention",
          "Nutrients",
          "Diabetes Care",
          "Journal of Clinical Oncology",
          "Blood",
          "BMJ Open",
          "Annals of Oncology",
          "Cell",
          "Wellcome Open Research",
          "Circulation Genomic and Precision Medicine",
          "Neurology",
          "PLOS Genetics",
          "Diabetologia",
          "European Journal of Epidemiology",
          "European Journal of Human Genetics",
          "Journal of Hypertension",
          "Psychological Medicine",
          "Cancers",
          "American Journal of Clinical Nutrition",
          "Stroke",
          "Gastroenterology",
          "British Journal of Ophthalmology",
          "Nature Medicine",
          "PLOS Medicine",
          "Clinical Epigenetics",
          "Science"
         ],
         "legendgroup": "",
         "marker": {
          "color": [
           2020,
           2020,
           2020,
           2020,
           2020,
           2020,
           2020,
           2020,
           2020,
           2020,
           2020,
           2020,
           2020,
           2020,
           2020,
           2020,
           2020,
           2020,
           2020,
           2020,
           2020,
           2020,
           2020,
           2020,
           2020,
           2020,
           2020,
           2020,
           2020,
           2020,
           2020,
           2020,
           2020,
           2020,
           2020,
           2020,
           2020,
           2020,
           2020,
           2020,
           2020,
           2020,
           2020,
           2020,
           2020,
           2020,
           2020,
           2020,
           2020,
           2020,
           2020
          ],
          "coloraxis": "coloraxis",
          "pattern": {
           "shape": ""
          }
         },
         "name": "",
         "offsetgroup": "",
         "orientation": "v",
         "showlegend": false,
         "textposition": "auto",
         "type": "bar",
         "x": [
          "bioRxiv",
          "medRxiv",
          "Nature Communications",
          "European Neuropsychopharmacology",
          "Scientific Reports",
          "PLOS ONE",
          "European Heart Journal",
          "Circulation",
          "Alzheimer's & Dementia",
          "Diabetes",
          "International Journal of Epidemiology",
          "International Journal of Cancer",
          "Journal of the American College of Cardiology",
          "Translational Psychiatry",
          "American Journal of Human Genetics",
          "Geburtshilfe und Frauenheilkunde",
          "SSRN Electronic Journal",
          "Biological Psychiatry",
          "Atherosclerosis",
          "Nature",
          "Research Square",
          "Human Molecular Genetics",
          "Journal of the American Heart Association",
          "The Journal of Clinical Endocrinology & Metabolism",
          "Molecular Psychiatry",
          "Cancer Epidemiology Biomarkers & Prevention",
          "Nutrients",
          "Diabetes Care",
          "Journal of Clinical Oncology",
          "Blood",
          "BMJ Open",
          "Annals of Oncology",
          "Cell",
          "Wellcome Open Research",
          "Circulation Genomic and Precision Medicine",
          "Neurology",
          "PLOS Genetics",
          "Diabetologia",
          "European Journal of Epidemiology",
          "European Journal of Human Genetics",
          "Journal of Hypertension",
          "Psychological Medicine",
          "Cancers",
          "American Journal of Clinical Nutrition",
          "Stroke",
          "Gastroenterology",
          "British Journal of Ophthalmology",
          "Nature Medicine",
          "PLOS Medicine",
          "Clinical Epigenetics",
          "Science"
         ],
         "xaxis": "x3",
         "y": [
          403,
          442,
          166,
          9,
          118,
          72,
          84,
          106,
          129,
          46,
          36,
          34,
          50,
          38,
          41,
          53,
          42,
          36,
          31,
          49,
          90,
          19,
          41,
          33,
          27,
          47,
          35,
          34,
          16,
          16,
          26,
          26,
          21,
          17,
          29,
          25,
          26,
          19,
          26,
          18,
          8,
          23,
          25,
          20,
          16,
          26,
          21,
          21,
          19,
          15,
          14
         ],
         "yaxis": "y3"
        },
        {
         "alignmentgroup": "True",
         "customdata": [
          [
           "jour.1293558",
           1811
          ],
          [
           "jour.1369542",
           994
          ],
          [
           "jour.1043282",
           566
          ],
          [
           "jour.1101548",
           555
          ],
          [
           "jour.1045337",
           455
          ],
          [
           "jour.1037553",
           344
          ],
          [
           "jour.1091325",
           306
          ],
          [
           "jour.1009570",
           297
          ],
          [
           "jour.1034467",
           278
          ],
          [
           "jour.1017423",
           178
          ],
          [
           "jour.1087544",
           174
          ],
          [
           "jour.1358156",
           171
          ],
          [
           "jour.1093746",
           170
          ],
          [
           "jour.1045271",
           165
          ],
          [
           "jour.1017012",
           163
          ],
          [
           "jour.1017122",
           159
          ],
          [
           "jour.1276748",
           158
          ],
          [
           "jour.1399744",
           156
          ],
          [
           "jour.1013420",
           155
          ],
          [
           "jour.1018957",
           151
          ],
          [
           "jour.1102504",
           140
          ],
          [
           "jour.1380788",
           140
          ],
          [
           "jour.1046624",
           134
          ],
          [
           "jour.1017738",
           132
          ],
          [
           "jour.1115540",
           131
          ],
          [
           "jour.1101916",
           131
          ],
          [
           "jour.1042723",
           123
          ],
          [
           "jour.1103715",
           114
          ],
          [
           "jour.1312191",
           112
          ],
          [
           "jour.1085025",
           110
          ],
          [
           "jour.1044693",
           104
          ],
          [
           "jour.1019114",
           101
          ],
          [
           "jour.1100417",
           101
          ],
          [
           "jour.1284430",
           99
          ],
          [
           "jour.1040791",
           97
          ],
          [
           "jour.1034974",
           96
          ],
          [
           "jour.1018238",
           96
          ],
          [
           "jour.1001482",
           93
          ],
          [
           "jour.1095636",
           92
          ],
          [
           "jour.1103410",
           90
          ],
          [
           "jour.1094093",
           86
          ],
          [
           "jour.1054214",
           85
          ],
          [
           "jour.1043163",
           84
          ],
          [
           "jour.1017790",
           83
          ],
          [
           "jour.1013101",
           81
          ],
          [
           "jour.1017616",
           78
          ],
          [
           "jour.1019815",
           77
          ],
          [
           "jour.1113716",
           75
          ],
          [
           "jour.1034427",
           73
          ],
          [
           "jour.1113743",
           70
          ]
         ],
         "hovertemplate": "<b>%{hovertext}</b><br><br>year=%{marker.color}<br>journal.title=%{x}<br>total_year=%{y}<br>journal.id=%{customdata[0]}<br>total=%{customdata[1]}<extra></extra>",
         "hovertext": [
          "bioRxiv",
          "medRxiv",
          "Nature Communications",
          "European Neuropsychopharmacology",
          "Scientific Reports",
          "PLOS ONE",
          "European Heart Journal",
          "Circulation",
          "Alzheimer's & Dementia",
          "Diabetes",
          "International Journal of Epidemiology",
          "International Journal of Cancer",
          "Journal of the American College of Cardiology",
          "Translational Psychiatry",
          "American Journal of Human Genetics",
          "Geburtshilfe und Frauenheilkunde",
          "SSRN Electronic Journal",
          "Biological Psychiatry",
          "Atherosclerosis",
          "Nature",
          "Human Molecular Genetics",
          "Research Square",
          "Journal of the American Heart Association",
          "The Journal of Clinical Endocrinology & Metabolism",
          "Molecular Psychiatry",
          "Cancer Epidemiology Biomarkers & Prevention",
          "Nutrients",
          "Diabetes Care",
          "Journal of Clinical Oncology",
          "Blood",
          "BMJ Open",
          "Cell",
          "Annals of Oncology",
          "Wellcome Open Research",
          "Circulation Genomic and Precision Medicine",
          "PLOS Genetics",
          "Neurology",
          "Diabetologia",
          "European Journal of Epidemiology",
          "European Journal of Human Genetics",
          "Journal of Hypertension",
          "Psychological Medicine",
          "Cancers",
          "American Journal of Clinical Nutrition",
          "Stroke",
          "Gastroenterology",
          "British Journal of Ophthalmology",
          "Nature Medicine",
          "PLOS Medicine",
          "The Journals of Gerontology Series A"
         ],
         "legendgroup": "",
         "marker": {
          "color": [
           2019,
           2019,
           2019,
           2019,
           2019,
           2019,
           2019,
           2019,
           2019,
           2019,
           2019,
           2019,
           2019,
           2019,
           2019,
           2019,
           2019,
           2019,
           2019,
           2019,
           2019,
           2019,
           2019,
           2019,
           2019,
           2019,
           2019,
           2019,
           2019,
           2019,
           2019,
           2019,
           2019,
           2019,
           2019,
           2019,
           2019,
           2019,
           2019,
           2019,
           2019,
           2019,
           2019,
           2019,
           2019,
           2019,
           2019,
           2019,
           2019,
           2019
          ],
          "coloraxis": "coloraxis",
          "pattern": {
           "shape": ""
          }
         },
         "name": "",
         "offsetgroup": "",
         "orientation": "v",
         "showlegend": false,
         "textposition": "auto",
         "type": "bar",
         "x": [
          "bioRxiv",
          "medRxiv",
          "Nature Communications",
          "European Neuropsychopharmacology",
          "Scientific Reports",
          "PLOS ONE",
          "European Heart Journal",
          "Circulation",
          "Alzheimer's & Dementia",
          "Diabetes",
          "International Journal of Epidemiology",
          "International Journal of Cancer",
          "Journal of the American College of Cardiology",
          "Translational Psychiatry",
          "American Journal of Human Genetics",
          "Geburtshilfe und Frauenheilkunde",
          "SSRN Electronic Journal",
          "Biological Psychiatry",
          "Atherosclerosis",
          "Nature",
          "Human Molecular Genetics",
          "Research Square",
          "Journal of the American Heart Association",
          "The Journal of Clinical Endocrinology & Metabolism",
          "Molecular Psychiatry",
          "Cancer Epidemiology Biomarkers & Prevention",
          "Nutrients",
          "Diabetes Care",
          "Journal of Clinical Oncology",
          "Blood",
          "BMJ Open",
          "Cell",
          "Annals of Oncology",
          "Wellcome Open Research",
          "Circulation Genomic and Precision Medicine",
          "PLOS Genetics",
          "Neurology",
          "Diabetologia",
          "European Journal of Epidemiology",
          "European Journal of Human Genetics",
          "Journal of Hypertension",
          "Psychological Medicine",
          "Cancers",
          "American Journal of Clinical Nutrition",
          "Stroke",
          "Gastroenterology",
          "British Journal of Ophthalmology",
          "Nature Medicine",
          "PLOS Medicine",
          "The Journals of Gerontology Series A"
         ],
         "xaxis": "x2",
         "y": [
          591,
          65,
          138,
          452,
          109,
          80,
          81,
          76,
          77,
          47,
          44,
          66,
          53,
          39,
          49,
          24,
          37,
          38,
          46,
          29,
          30,
          17,
          28,
          30,
          39,
          32,
          32,
          27,
          29,
          26,
          27,
          28,
          26,
          23,
          17,
          18,
          34,
          25,
          21,
          25,
          16,
          19,
          11,
          25,
          17,
          20,
          18,
          21,
          20,
          12
         ],
         "yaxis": "y2"
        },
        {
         "alignmentgroup": "True",
         "customdata": [
          [
           "jour.1103715",
           114
          ]
         ],
         "hovertemplate": "<b>%{hovertext}</b><br><br>year=%{marker.color}<br>journal.title=%{x}<br>total_year=%{y}<br>journal.id=%{customdata[0]}<br>total=%{customdata[1]}<extra></extra>",
         "hovertext": [
          "Diabetes Care"
         ],
         "legendgroup": "",
         "marker": {
          "color": [
           2022
          ],
          "coloraxis": "coloraxis",
          "pattern": {
           "shape": ""
          }
         },
         "name": "",
         "offsetgroup": "",
         "orientation": "v",
         "showlegend": false,
         "textposition": "auto",
         "type": "bar",
         "x": [
          "Diabetes Care"
         ],
         "xaxis": "x",
         "y": [
          1
         ],
         "yaxis": "y"
        }
       ],
       "layout": {
        "annotations": [
         {
          "font": {},
          "showarrow": false,
          "text": "year=2022",
          "textangle": 90,
          "x": 0.98,
          "xanchor": "left",
          "xref": "paper",
          "y": 0.08800000000000001,
          "yanchor": "middle",
          "yref": "paper"
         },
         {
          "font": {},
          "showarrow": false,
          "text": "year=2019",
          "textangle": 90,
          "x": 0.98,
          "xanchor": "left",
          "xref": "paper",
          "y": 0.29400000000000004,
          "yanchor": "middle",
          "yref": "paper"
         },
         {
          "font": {},
          "showarrow": false,
          "text": "year=2020",
          "textangle": 90,
          "x": 0.98,
          "xanchor": "left",
          "xref": "paper",
          "y": 0.5,
          "yanchor": "middle",
          "yref": "paper"
         },
         {
          "font": {},
          "showarrow": false,
          "text": "year=2018",
          "textangle": 90,
          "x": 0.98,
          "xanchor": "left",
          "xref": "paper",
          "y": 0.706,
          "yanchor": "middle",
          "yref": "paper"
         },
         {
          "font": {},
          "showarrow": false,
          "text": "year=2021",
          "textangle": 90,
          "x": 0.98,
          "xanchor": "left",
          "xref": "paper",
          "y": 0.912,
          "yanchor": "middle",
          "yref": "paper"
         }
        ],
        "autosize": true,
        "barmode": "relative",
        "coloraxis": {
         "colorbar": {
          "title": {
           "text": "year"
          }
         },
         "colorscale": [
          [
           0,
           "#0d0887"
          ],
          [
           0.1111111111111111,
           "#46039f"
          ],
          [
           0.2222222222222222,
           "#7201a8"
          ],
          [
           0.3333333333333333,
           "#9c179e"
          ],
          [
           0.4444444444444444,
           "#bd3786"
          ],
          [
           0.5555555555555556,
           "#d8576b"
          ],
          [
           0.6666666666666666,
           "#ed7953"
          ],
          [
           0.7777777777777778,
           "#fb9f3a"
          ],
          [
           0.8888888888888888,
           "#fdca26"
          ],
          [
           1,
           "#f0f921"
          ]
         ]
        },
        "legend": {
         "tracegroupgap": 0
        },
        "template": {
         "data": {
          "bar": [
           {
            "error_x": {
             "color": "#2a3f5f"
            },
            "error_y": {
             "color": "#2a3f5f"
            },
            "marker": {
             "line": {
              "color": "#E5ECF6",
              "width": 0.5
             },
             "pattern": {
              "fillmode": "overlay",
              "size": 10,
              "solidity": 0.2
             }
            },
            "type": "bar"
           }
          ],
          "barpolar": [
           {
            "marker": {
             "line": {
              "color": "#E5ECF6",
              "width": 0.5
             },
             "pattern": {
              "fillmode": "overlay",
              "size": 10,
              "solidity": 0.2
             }
            },
            "type": "barpolar"
           }
          ],
          "carpet": [
           {
            "aaxis": {
             "endlinecolor": "#2a3f5f",
             "gridcolor": "white",
             "linecolor": "white",
             "minorgridcolor": "white",
             "startlinecolor": "#2a3f5f"
            },
            "baxis": {
             "endlinecolor": "#2a3f5f",
             "gridcolor": "white",
             "linecolor": "white",
             "minorgridcolor": "white",
             "startlinecolor": "#2a3f5f"
            },
            "type": "carpet"
           }
          ],
          "choropleth": [
           {
            "colorbar": {
             "outlinewidth": 0,
             "ticks": ""
            },
            "type": "choropleth"
           }
          ],
          "contour": [
           {
            "colorbar": {
             "outlinewidth": 0,
             "ticks": ""
            },
            "colorscale": [
             [
              0,
              "#0d0887"
             ],
             [
              0.1111111111111111,
              "#46039f"
             ],
             [
              0.2222222222222222,
              "#7201a8"
             ],
             [
              0.3333333333333333,
              "#9c179e"
             ],
             [
              0.4444444444444444,
              "#bd3786"
             ],
             [
              0.5555555555555556,
              "#d8576b"
             ],
             [
              0.6666666666666666,
              "#ed7953"
             ],
             [
              0.7777777777777778,
              "#fb9f3a"
             ],
             [
              0.8888888888888888,
              "#fdca26"
             ],
             [
              1,
              "#f0f921"
             ]
            ],
            "type": "contour"
           }
          ],
          "contourcarpet": [
           {
            "colorbar": {
             "outlinewidth": 0,
             "ticks": ""
            },
            "type": "contourcarpet"
           }
          ],
          "heatmap": [
           {
            "colorbar": {
             "outlinewidth": 0,
             "ticks": ""
            },
            "colorscale": [
             [
              0,
              "#0d0887"
             ],
             [
              0.1111111111111111,
              "#46039f"
             ],
             [
              0.2222222222222222,
              "#7201a8"
             ],
             [
              0.3333333333333333,
              "#9c179e"
             ],
             [
              0.4444444444444444,
              "#bd3786"
             ],
             [
              0.5555555555555556,
              "#d8576b"
             ],
             [
              0.6666666666666666,
              "#ed7953"
             ],
             [
              0.7777777777777778,
              "#fb9f3a"
             ],
             [
              0.8888888888888888,
              "#fdca26"
             ],
             [
              1,
              "#f0f921"
             ]
            ],
            "type": "heatmap"
           }
          ],
          "heatmapgl": [
           {
            "colorbar": {
             "outlinewidth": 0,
             "ticks": ""
            },
            "colorscale": [
             [
              0,
              "#0d0887"
             ],
             [
              0.1111111111111111,
              "#46039f"
             ],
             [
              0.2222222222222222,
              "#7201a8"
             ],
             [
              0.3333333333333333,
              "#9c179e"
             ],
             [
              0.4444444444444444,
              "#bd3786"
             ],
             [
              0.5555555555555556,
              "#d8576b"
             ],
             [
              0.6666666666666666,
              "#ed7953"
             ],
             [
              0.7777777777777778,
              "#fb9f3a"
             ],
             [
              0.8888888888888888,
              "#fdca26"
             ],
             [
              1,
              "#f0f921"
             ]
            ],
            "type": "heatmapgl"
           }
          ],
          "histogram": [
           {
            "marker": {
             "pattern": {
              "fillmode": "overlay",
              "size": 10,
              "solidity": 0.2
             }
            },
            "type": "histogram"
           }
          ],
          "histogram2d": [
           {
            "colorbar": {
             "outlinewidth": 0,
             "ticks": ""
            },
            "colorscale": [
             [
              0,
              "#0d0887"
             ],
             [
              0.1111111111111111,
              "#46039f"
             ],
             [
              0.2222222222222222,
              "#7201a8"
             ],
             [
              0.3333333333333333,
              "#9c179e"
             ],
             [
              0.4444444444444444,
              "#bd3786"
             ],
             [
              0.5555555555555556,
              "#d8576b"
             ],
             [
              0.6666666666666666,
              "#ed7953"
             ],
             [
              0.7777777777777778,
              "#fb9f3a"
             ],
             [
              0.8888888888888888,
              "#fdca26"
             ],
             [
              1,
              "#f0f921"
             ]
            ],
            "type": "histogram2d"
           }
          ],
          "histogram2dcontour": [
           {
            "colorbar": {
             "outlinewidth": 0,
             "ticks": ""
            },
            "colorscale": [
             [
              0,
              "#0d0887"
             ],
             [
              0.1111111111111111,
              "#46039f"
             ],
             [
              0.2222222222222222,
              "#7201a8"
             ],
             [
              0.3333333333333333,
              "#9c179e"
             ],
             [
              0.4444444444444444,
              "#bd3786"
             ],
             [
              0.5555555555555556,
              "#d8576b"
             ],
             [
              0.6666666666666666,
              "#ed7953"
             ],
             [
              0.7777777777777778,
              "#fb9f3a"
             ],
             [
              0.8888888888888888,
              "#fdca26"
             ],
             [
              1,
              "#f0f921"
             ]
            ],
            "type": "histogram2dcontour"
           }
          ],
          "mesh3d": [
           {
            "colorbar": {
             "outlinewidth": 0,
             "ticks": ""
            },
            "type": "mesh3d"
           }
          ],
          "parcoords": [
           {
            "line": {
             "colorbar": {
              "outlinewidth": 0,
              "ticks": ""
             }
            },
            "type": "parcoords"
           }
          ],
          "pie": [
           {
            "automargin": true,
            "type": "pie"
           }
          ],
          "scatter": [
           {
            "marker": {
             "colorbar": {
              "outlinewidth": 0,
              "ticks": ""
             }
            },
            "type": "scatter"
           }
          ],
          "scatter3d": [
           {
            "line": {
             "colorbar": {
              "outlinewidth": 0,
              "ticks": ""
             }
            },
            "marker": {
             "colorbar": {
              "outlinewidth": 0,
              "ticks": ""
             }
            },
            "type": "scatter3d"
           }
          ],
          "scattercarpet": [
           {
            "marker": {
             "colorbar": {
              "outlinewidth": 0,
              "ticks": ""
             }
            },
            "type": "scattercarpet"
           }
          ],
          "scattergeo": [
           {
            "marker": {
             "colorbar": {
              "outlinewidth": 0,
              "ticks": ""
             }
            },
            "type": "scattergeo"
           }
          ],
          "scattergl": [
           {
            "marker": {
             "colorbar": {
              "outlinewidth": 0,
              "ticks": ""
             }
            },
            "type": "scattergl"
           }
          ],
          "scattermapbox": [
           {
            "marker": {
             "colorbar": {
              "outlinewidth": 0,
              "ticks": ""
             }
            },
            "type": "scattermapbox"
           }
          ],
          "scatterpolar": [
           {
            "marker": {
             "colorbar": {
              "outlinewidth": 0,
              "ticks": ""
             }
            },
            "type": "scatterpolar"
           }
          ],
          "scatterpolargl": [
           {
            "marker": {
             "colorbar": {
              "outlinewidth": 0,
              "ticks": ""
             }
            },
            "type": "scatterpolargl"
           }
          ],
          "scatterternary": [
           {
            "marker": {
             "colorbar": {
              "outlinewidth": 0,
              "ticks": ""
             }
            },
            "type": "scatterternary"
           }
          ],
          "surface": [
           {
            "colorbar": {
             "outlinewidth": 0,
             "ticks": ""
            },
            "colorscale": [
             [
              0,
              "#0d0887"
             ],
             [
              0.1111111111111111,
              "#46039f"
             ],
             [
              0.2222222222222222,
              "#7201a8"
             ],
             [
              0.3333333333333333,
              "#9c179e"
             ],
             [
              0.4444444444444444,
              "#bd3786"
             ],
             [
              0.5555555555555556,
              "#d8576b"
             ],
             [
              0.6666666666666666,
              "#ed7953"
             ],
             [
              0.7777777777777778,
              "#fb9f3a"
             ],
             [
              0.8888888888888888,
              "#fdca26"
             ],
             [
              1,
              "#f0f921"
             ]
            ],
            "type": "surface"
           }
          ],
          "table": [
           {
            "cells": {
             "fill": {
              "color": "#EBF0F8"
             },
             "line": {
              "color": "white"
             }
            },
            "header": {
             "fill": {
              "color": "#C8D4E3"
             },
             "line": {
              "color": "white"
             }
            },
            "type": "table"
           }
          ]
         },
         "layout": {
          "annotationdefaults": {
           "arrowcolor": "#2a3f5f",
           "arrowhead": 0,
           "arrowwidth": 1
          },
          "autotypenumbers": "strict",
          "coloraxis": {
           "colorbar": {
            "outlinewidth": 0,
            "ticks": ""
           }
          },
          "colorscale": {
           "diverging": [
            [
             0,
             "#8e0152"
            ],
            [
             0.1,
             "#c51b7d"
            ],
            [
             0.2,
             "#de77ae"
            ],
            [
             0.3,
             "#f1b6da"
            ],
            [
             0.4,
             "#fde0ef"
            ],
            [
             0.5,
             "#f7f7f7"
            ],
            [
             0.6,
             "#e6f5d0"
            ],
            [
             0.7,
             "#b8e186"
            ],
            [
             0.8,
             "#7fbc41"
            ],
            [
             0.9,
             "#4d9221"
            ],
            [
             1,
             "#276419"
            ]
           ],
           "sequential": [
            [
             0,
             "#0d0887"
            ],
            [
             0.1111111111111111,
             "#46039f"
            ],
            [
             0.2222222222222222,
             "#7201a8"
            ],
            [
             0.3333333333333333,
             "#9c179e"
            ],
            [
             0.4444444444444444,
             "#bd3786"
            ],
            [
             0.5555555555555556,
             "#d8576b"
            ],
            [
             0.6666666666666666,
             "#ed7953"
            ],
            [
             0.7777777777777778,
             "#fb9f3a"
            ],
            [
             0.8888888888888888,
             "#fdca26"
            ],
            [
             1,
             "#f0f921"
            ]
           ],
           "sequentialminus": [
            [
             0,
             "#0d0887"
            ],
            [
             0.1111111111111111,
             "#46039f"
            ],
            [
             0.2222222222222222,
             "#7201a8"
            ],
            [
             0.3333333333333333,
             "#9c179e"
            ],
            [
             0.4444444444444444,
             "#bd3786"
            ],
            [
             0.5555555555555556,
             "#d8576b"
            ],
            [
             0.6666666666666666,
             "#ed7953"
            ],
            [
             0.7777777777777778,
             "#fb9f3a"
            ],
            [
             0.8888888888888888,
             "#fdca26"
            ],
            [
             1,
             "#f0f921"
            ]
           ]
          },
          "colorway": [
           "#636efa",
           "#EF553B",
           "#00cc96",
           "#ab63fa",
           "#FFA15A",
           "#19d3f3",
           "#FF6692",
           "#B6E880",
           "#FF97FF",
           "#FECB52"
          ],
          "font": {
           "color": "#2a3f5f"
          },
          "geo": {
           "bgcolor": "white",
           "lakecolor": "white",
           "landcolor": "#E5ECF6",
           "showlakes": true,
           "showland": true,
           "subunitcolor": "white"
          },
          "hoverlabel": {
           "align": "left"
          },
          "hovermode": "closest",
          "mapbox": {
           "style": "light"
          },
          "paper_bgcolor": "white",
          "plot_bgcolor": "#E5ECF6",
          "polar": {
           "angularaxis": {
            "gridcolor": "white",
            "linecolor": "white",
            "ticks": ""
           },
           "bgcolor": "#E5ECF6",
           "radialaxis": {
            "gridcolor": "white",
            "linecolor": "white",
            "ticks": ""
           }
          },
          "scene": {
           "xaxis": {
            "backgroundcolor": "#E5ECF6",
            "gridcolor": "white",
            "gridwidth": 2,
            "linecolor": "white",
            "showbackground": true,
            "ticks": "",
            "zerolinecolor": "white"
           },
           "yaxis": {
            "backgroundcolor": "#E5ECF6",
            "gridcolor": "white",
            "gridwidth": 2,
            "linecolor": "white",
            "showbackground": true,
            "ticks": "",
            "zerolinecolor": "white"
           },
           "zaxis": {
            "backgroundcolor": "#E5ECF6",
            "gridcolor": "white",
            "gridwidth": 2,
            "linecolor": "white",
            "showbackground": true,
            "ticks": "",
            "zerolinecolor": "white"
           }
          },
          "shapedefaults": {
           "line": {
            "color": "#2a3f5f"
           }
          },
          "ternary": {
           "aaxis": {
            "gridcolor": "white",
            "linecolor": "white",
            "ticks": ""
           },
           "baxis": {
            "gridcolor": "white",
            "linecolor": "white",
            "ticks": ""
           },
           "bgcolor": "#E5ECF6",
           "caxis": {
            "gridcolor": "white",
            "linecolor": "white",
            "ticks": ""
           }
          },
          "title": {
           "x": 0.05
          },
          "xaxis": {
           "automargin": true,
           "gridcolor": "white",
           "linecolor": "white",
           "ticks": "",
           "title": {
            "standoff": 15
           },
           "zerolinecolor": "white",
           "zerolinewidth": 2
          },
          "yaxis": {
           "automargin": true,
           "gridcolor": "white",
           "linecolor": "white",
           "ticks": "",
           "title": {
            "standoff": 15
           },
           "zerolinecolor": "white",
           "zerolinewidth": 2
          }
         }
        },
        "title": {
         "text": "Top 200 competitors for jour.1103138 - segmented by year"
        },
        "xaxis": {
         "anchor": "y",
         "autorange": true,
         "domain": [
          0,
          0.98
         ],
         "range": [
          -0.5,
          51.5
         ],
         "title": {
          "text": "journal.title"
         },
         "type": "category"
        },
        "xaxis2": {
         "anchor": "y2",
         "autorange": true,
         "domain": [
          0,
          0.98
         ],
         "matches": "x",
         "range": [
          -0.5,
          51.5
         ],
         "showticklabels": false,
         "type": "category"
        },
        "xaxis3": {
         "anchor": "y3",
         "autorange": true,
         "domain": [
          0,
          0.98
         ],
         "matches": "x",
         "range": [
          -0.5,
          51.5
         ],
         "showticklabels": false,
         "type": "category"
        },
        "xaxis4": {
         "anchor": "y4",
         "autorange": true,
         "domain": [
          0,
          0.98
         ],
         "matches": "x",
         "range": [
          -0.5,
          51.5
         ],
         "showticklabels": false,
         "type": "category"
        },
        "xaxis5": {
         "anchor": "y5",
         "autorange": true,
         "domain": [
          0,
          0.98
         ],
         "matches": "x",
         "range": [
          -0.5,
          51.5
         ],
         "showticklabels": false,
         "type": "category"
        },
        "yaxis": {
         "anchor": "x",
         "autorange": true,
         "domain": [
          0,
          0.17600000000000002
         ],
         "range": [
          0,
          622.1052631578947
         ],
         "title": {
          "text": "total_year"
         },
         "type": "linear"
        },
        "yaxis2": {
         "anchor": "x2",
         "autorange": true,
         "domain": [
          0.20600000000000002,
          0.382
         ],
         "matches": "y",
         "range": [
          0,
          622.1052631578947
         ],
         "title": {
          "text": "total_year"
         },
         "type": "linear"
        },
        "yaxis3": {
         "anchor": "x3",
         "autorange": true,
         "domain": [
          0.41200000000000003,
          0.5880000000000001
         ],
         "matches": "y",
         "range": [
          0,
          622.1052631578947
         ],
         "title": {
          "text": "total_year"
         },
         "type": "linear"
        },
        "yaxis4": {
         "anchor": "x4",
         "autorange": true,
         "domain": [
          0.618,
          0.794
         ],
         "matches": "y",
         "range": [
          0,
          622.1052631578947
         ],
         "title": {
          "text": "total_year"
         },
         "type": "linear"
        },
        "yaxis5": {
         "anchor": "x5",
         "autorange": true,
         "domain": [
          0.8240000000000001,
          1
         ],
         "matches": "y",
         "range": [
          0,
          622.1052631578947
         ],
         "title": {
          "text": "total_year"
         },
         "type": "linear"
        }
       }
      },
      "image/png": "[encoded data removed]",
      "text/html": [
       "<div>                            <div id=\"0294e639-27f6-4f2c-a69c-efd38a472229\" class=\"plotly-graph-div\" style=\"height:900px; width:100%;\"></div>            <script type=\"text/javascript\">                require([\"plotly\"], function(Plotly) {                    window.PLOTLYENV=window.PLOTLYENV || {};                                    if (document.getElementById(\"0294e639-27f6-4f2c-a69c-efd38a472229\")) {                    Plotly.newPlot(                        \"0294e639-27f6-4f2c-a69c-efd38a472229\",                        [{\"alignmentgroup\":\"True\",\"customdata\":[[\"jour.1293558\",1811],[\"jour.1369542\",994],[\"jour.1043282\",566],[\"jour.1101548\",555],[\"jour.1045337\",455],[\"jour.1037553\",344],[\"jour.1091325\",306],[\"jour.1009570\",297],[\"jour.1034467\",278],[\"jour.1017423\",178],[\"jour.1087544\",174],[\"jour.1358156\",171],[\"jour.1093746\",170],[\"jour.1045271\",165],[\"jour.1017012\",163],[\"jour.1017122\",159],[\"jour.1276748\",158],[\"jour.1399744\",156],[\"jour.1013420\",155],[\"jour.1018957\",151],[\"jour.1102504\",140],[\"jour.1380788\",140],[\"jour.1046624\",134],[\"jour.1017738\",132],[\"jour.1115540\",131],[\"jour.1101916\",131],[\"jour.1042723\",123],[\"jour.1103715\",114],[\"jour.1312191\",112],[\"jour.1085025\",110],[\"jour.1044693\",104],[\"jour.1100417\",101],[\"jour.1019114\",101],[\"jour.1284430\",99],[\"jour.1040791\",97],[\"jour.1034974\",96],[\"jour.1018238\",96],[\"jour.1001482\",93],[\"jour.1095636\",92],[\"jour.1103410\",90],[\"jour.1094093\",86],[\"jour.1054214\",85],[\"jour.1043163\",84],[\"jour.1017790\",83],[\"jour.1013101\",81],[\"jour.1017616\",78],[\"jour.1019815\",77],[\"jour.1113716\",75],[\"jour.1034427\",73],[\"jour.1042271\",70],[\"jour.1346339\",70]],\"hovertemplate\":\"<b>%{hovertext}</b><br><br>year=%{marker.color}<br>journal.title=%{x}<br>total_year=%{y}<br>journal.id=%{customdata[0]}<br>total=%{customdata[1]}<extra></extra>\",\"hovertext\":[\"bioRxiv\",\"medRxiv\",\"Nature Communications\",\"European Neuropsychopharmacology\",\"Scientific Reports\",\"PLOS ONE\",\"European Heart Journal\",\"Circulation\",\"Alzheimer's & Dementia\",\"Diabetes\",\"International Journal of Epidemiology\",\"International Journal of Cancer\",\"Journal of the American College of Cardiology\",\"Translational Psychiatry\",\"American Journal of Human Genetics\",\"Geburtshilfe und Frauenheilkunde\",\"SSRN Electronic Journal\",\"Biological Psychiatry\",\"Atherosclerosis\",\"Nature\",\"Human Molecular Genetics\",\"Research Square\",\"Journal of the American Heart Association\",\"The Journal of Clinical Endocrinology & Metabolism\",\"Molecular Psychiatry\",\"Cancer Epidemiology Biomarkers & Prevention\",\"Nutrients\",\"Diabetes Care\",\"Journal of Clinical Oncology\",\"Blood\",\"BMJ Open\",\"Annals of Oncology\",\"Cell\",\"Wellcome Open Research\",\"Circulation Genomic and Precision Medicine\",\"PLOS Genetics\",\"Neurology\",\"Diabetologia\",\"European Journal of Epidemiology\",\"European Journal of Human Genetics\",\"Journal of Hypertension\",\"Psychological Medicine\",\"Cancers\",\"American Journal of Clinical Nutrition\",\"Stroke\",\"Gastroenterology\",\"British Journal of Ophthalmology\",\"Nature Medicine\",\"PLOS Medicine\",\"Clinical Epigenetics\",\"Science\"],\"legendgroup\":\"\",\"marker\":{\"color\":[2021,2021,2021,2021,2021,2021,2021,2021,2021,2021,2021,2021,2021,2021,2021,2021,2021,2021,2021,2021,2021,2021,2021,2021,2021,2021,2021,2021,2021,2021,2021,2021,2021,2021,2021,2021,2021,2021,2021,2021,2021,2021,2021,2021,2021,2021,2021,2021,2021,2021,2021],\"coloraxis\":\"coloraxis\",\"pattern\":{\"shape\":\"\"}},\"name\":\"\",\"offsetgroup\":\"\",\"orientation\":\"v\",\"showlegend\":false,\"textposition\":\"auto\",\"x\":[\"bioRxiv\",\"medRxiv\",\"Nature Communications\",\"European Neuropsychopharmacology\",\"Scientific Reports\",\"PLOS ONE\",\"European Heart Journal\",\"Circulation\",\"Alzheimer's & Dementia\",\"Diabetes\",\"International Journal of Epidemiology\",\"International Journal of Cancer\",\"Journal of the American College of Cardiology\",\"Translational Psychiatry\",\"American Journal of Human Genetics\",\"Geburtshilfe und Frauenheilkunde\",\"SSRN Electronic Journal\",\"Biological Psychiatry\",\"Atherosclerosis\",\"Nature\",\"Human Molecular Genetics\",\"Research Square\",\"Journal of the American Heart Association\",\"The Journal of Clinical Endocrinology & Metabolism\",\"Molecular Psychiatry\",\"Cancer Epidemiology Biomarkers & Prevention\",\"Nutrients\",\"Diabetes Care\",\"Journal of Clinical Oncology\",\"Blood\",\"BMJ Open\",\"Annals of Oncology\",\"Cell\",\"Wellcome Open Research\",\"Circulation Genomic and Precision Medicine\",\"PLOS Genetics\",\"Neurology\",\"Diabetologia\",\"European Journal of Epidemiology\",\"European Journal of Human Genetics\",\"Journal of Hypertension\",\"Psychological Medicine\",\"Cancers\",\"American Journal of Clinical Nutrition\",\"Stroke\",\"Gastroenterology\",\"British Journal of Ophthalmology\",\"Nature Medicine\",\"PLOS Medicine\",\"Clinical Epigenetics\",\"Science\"],\"xaxis\":\"x5\",\"y\":[320,487,132,88,118,72,50,43,54,41,54,25,32,56,41,16,52,37,42,43,44,33,39,31,31,29,42,25,25,33,28,27,24,36,25,29,23,25,18,22,36,22,46,26,28,11,22,24,14,26,19],\"yaxis\":\"y5\",\"type\":\"bar\"},{\"alignmentgroup\":\"True\",\"customdata\":[[\"jour.1293558\",1811],[\"jour.1043282\",566],[\"jour.1101548\",555],[\"jour.1045337\",455],[\"jour.1037553\",344],[\"jour.1091325\",306],[\"jour.1009570\",297],[\"jour.1034467\",278],[\"jour.1017423\",178],[\"jour.1087544\",174],[\"jour.1358156\",171],[\"jour.1093746\",170],[\"jour.1045271\",165],[\"jour.1017012\",163],[\"jour.1017122\",159],[\"jour.1276748\",158],[\"jour.1399744\",156],[\"jour.1013420\",155],[\"jour.1018957\",151],[\"jour.1102504\",140],[\"jour.1046624\",134],[\"jour.1017738\",132],[\"jour.1101916\",131],[\"jour.1115540\",131],[\"jour.1042723\",123],[\"jour.1103715\",114],[\"jour.1312191\",112],[\"jour.1085025\",110],[\"jour.1044693\",104],[\"jour.1100417\",101],[\"jour.1019114\",101],[\"jour.1284430\",99],[\"jour.1040791\",97],[\"jour.1034974\",96],[\"jour.1018238\",96],[\"jour.1001482\",93],[\"jour.1095636\",92],[\"jour.1103410\",90],[\"jour.1094093\",86],[\"jour.1054214\",85],[\"jour.1043163\",84],[\"jour.1017790\",83],[\"jour.1013101\",81],[\"jour.1017616\",78],[\"jour.1019815\",77],[\"jour.1113716\",75],[\"jour.1034427\",73]],\"hovertemplate\":\"<b>%{hovertext}</b><br><br>year=%{marker.color}<br>journal.title=%{x}<br>total_year=%{y}<br>journal.id=%{customdata[0]}<br>total=%{customdata[1]}<extra></extra>\",\"hovertext\":[\"bioRxiv\",\"Nature Communications\",\"European Neuropsychopharmacology\",\"Scientific Reports\",\"PLOS ONE\",\"European Heart Journal\",\"Circulation\",\"Alzheimer's & Dementia\",\"Diabetes\",\"International Journal of Epidemiology\",\"International Journal of Cancer\",\"Journal of the American College of Cardiology\",\"Translational Psychiatry\",\"American Journal of Human Genetics\",\"Geburtshilfe und Frauenheilkunde\",\"SSRN Electronic Journal\",\"Biological Psychiatry\",\"Atherosclerosis\",\"Nature\",\"Human Molecular Genetics\",\"Journal of the American Heart Association\",\"The Journal of Clinical Endocrinology & Metabolism\",\"Cancer Epidemiology Biomarkers & Prevention\",\"Molecular Psychiatry\",\"Nutrients\",\"Diabetes Care\",\"Journal of Clinical Oncology\",\"Blood\",\"BMJ Open\",\"Annals of Oncology\",\"Cell\",\"Wellcome Open Research\",\"Circulation Genomic and Precision Medicine\",\"PLOS Genetics\",\"Neurology\",\"Diabetologia\",\"European Journal of Epidemiology\",\"European Journal of Human Genetics\",\"Journal of Hypertension\",\"Psychological Medicine\",\"Cancers\",\"American Journal of Clinical Nutrition\",\"Stroke\",\"Gastroenterology\",\"British Journal of Ophthalmology\",\"Nature Medicine\",\"PLOS Medicine\"],\"legendgroup\":\"\",\"marker\":{\"color\":[2018,2018,2018,2018,2018,2018,2018,2018,2018,2018,2018,2018,2018,2018,2018,2018,2018,2018,2018,2018,2018,2018,2018,2018,2018,2018,2018,2018,2018,2018,2018,2018,2018,2018,2018,2018,2018,2018,2018,2018,2018,2018,2018,2018,2018,2018,2018],\"coloraxis\":\"coloraxis\",\"pattern\":{\"shape\":\"\"}},\"name\":\"\",\"offsetgroup\":\"\",\"orientation\":\"v\",\"showlegend\":false,\"textposition\":\"auto\",\"x\":[\"bioRxiv\",\"Nature Communications\",\"European Neuropsychopharmacology\",\"Scientific Reports\",\"PLOS ONE\",\"European Heart Journal\",\"Circulation\",\"Alzheimer's & Dementia\",\"Diabetes\",\"International Journal of Epidemiology\",\"International Journal of Cancer\",\"Journal of the American College of Cardiology\",\"Translational Psychiatry\",\"American Journal of Human Genetics\",\"Geburtshilfe und Frauenheilkunde\",\"SSRN Electronic Journal\",\"Biological Psychiatry\",\"Atherosclerosis\",\"Nature\",\"Human Molecular Genetics\",\"Journal of the American Heart Association\",\"The Journal of Clinical Endocrinology & Metabolism\",\"Cancer Epidemiology Biomarkers & Prevention\",\"Molecular Psychiatry\",\"Nutrients\",\"Diabetes Care\",\"Journal of Clinical Oncology\",\"Blood\",\"BMJ Open\",\"Annals of Oncology\",\"Cell\",\"Wellcome Open Research\",\"Circulation Genomic and Precision Medicine\",\"PLOS Genetics\",\"Neurology\",\"Diabetologia\",\"European Journal of Epidemiology\",\"European Journal of Human Genetics\",\"Journal of Hypertension\",\"Psychological Medicine\",\"Cancers\",\"American Journal of Clinical Nutrition\",\"Stroke\",\"Gastroenterology\",\"British Journal of Ophthalmology\",\"Nature Medicine\",\"PLOS Medicine\"],\"xaxis\":\"x4\",\"y\":[497,130,6,110,120,91,72,18,44,40,46,35,32,32,66,27,45,36,30,47,26,38,23,34,14,27,42,35,23,22,28,23,26,23,14,24,27,25,26,21,2,12,20,21,16,9,20],\"yaxis\":\"y4\",\"type\":\"bar\"},{\"alignmentgroup\":\"True\",\"customdata\":[[\"jour.1293558\",1811],[\"jour.1369542\",994],[\"jour.1043282\",566],[\"jour.1101548\",555],[\"jour.1045337\",455],[\"jour.1037553\",344],[\"jour.1091325\",306],[\"jour.1009570\",297],[\"jour.1034467\",278],[\"jour.1017423\",178],[\"jour.1087544\",174],[\"jour.1358156\",171],[\"jour.1093746\",170],[\"jour.1045271\",165],[\"jour.1017012\",163],[\"jour.1017122\",159],[\"jour.1276748\",158],[\"jour.1399744\",156],[\"jour.1013420\",155],[\"jour.1018957\",151],[\"jour.1380788\",140],[\"jour.1102504\",140],[\"jour.1046624\",134],[\"jour.1017738\",132],[\"jour.1115540\",131],[\"jour.1101916\",131],[\"jour.1042723\",123],[\"jour.1103715\",114],[\"jour.1312191\",112],[\"jour.1085025\",110],[\"jour.1044693\",104],[\"jour.1100417\",101],[\"jour.1019114\",101],[\"jour.1284430\",99],[\"jour.1040791\",97],[\"jour.1018238\",96],[\"jour.1034974\",96],[\"jour.1001482\",93],[\"jour.1095636\",92],[\"jour.1103410\",90],[\"jour.1094093\",86],[\"jour.1054214\",85],[\"jour.1043163\",84],[\"jour.1017790\",83],[\"jour.1013101\",81],[\"jour.1017616\",78],[\"jour.1019815\",77],[\"jour.1113716\",75],[\"jour.1034427\",73],[\"jour.1042271\",70],[\"jour.1346339\",70]],\"hovertemplate\":\"<b>%{hovertext}</b><br><br>year=%{marker.color}<br>journal.title=%{x}<br>total_year=%{y}<br>journal.id=%{customdata[0]}<br>total=%{customdata[1]}<extra></extra>\",\"hovertext\":[\"bioRxiv\",\"medRxiv\",\"Nature Communications\",\"European Neuropsychopharmacology\",\"Scientific Reports\",\"PLOS ONE\",\"European Heart Journal\",\"Circulation\",\"Alzheimer's & Dementia\",\"Diabetes\",\"International Journal of Epidemiology\",\"International Journal of Cancer\",\"Journal of the American College of Cardiology\",\"Translational Psychiatry\",\"American Journal of Human Genetics\",\"Geburtshilfe und Frauenheilkunde\",\"SSRN Electronic Journal\",\"Biological Psychiatry\",\"Atherosclerosis\",\"Nature\",\"Research Square\",\"Human Molecular Genetics\",\"Journal of the American Heart Association\",\"The Journal of Clinical Endocrinology & Metabolism\",\"Molecular Psychiatry\",\"Cancer Epidemiology Biomarkers & Prevention\",\"Nutrients\",\"Diabetes Care\",\"Journal of Clinical Oncology\",\"Blood\",\"BMJ Open\",\"Annals of Oncology\",\"Cell\",\"Wellcome Open Research\",\"Circulation Genomic and Precision Medicine\",\"Neurology\",\"PLOS Genetics\",\"Diabetologia\",\"European Journal of Epidemiology\",\"European Journal of Human Genetics\",\"Journal of Hypertension\",\"Psychological Medicine\",\"Cancers\",\"American Journal of Clinical Nutrition\",\"Stroke\",\"Gastroenterology\",\"British Journal of Ophthalmology\",\"Nature Medicine\",\"PLOS Medicine\",\"Clinical Epigenetics\",\"Science\"],\"legendgroup\":\"\",\"marker\":{\"color\":[2020,2020,2020,2020,2020,2020,2020,2020,2020,2020,2020,2020,2020,2020,2020,2020,2020,2020,2020,2020,2020,2020,2020,2020,2020,2020,2020,2020,2020,2020,2020,2020,2020,2020,2020,2020,2020,2020,2020,2020,2020,2020,2020,2020,2020,2020,2020,2020,2020,2020,2020],\"coloraxis\":\"coloraxis\",\"pattern\":{\"shape\":\"\"}},\"name\":\"\",\"offsetgroup\":\"\",\"orientation\":\"v\",\"showlegend\":false,\"textposition\":\"auto\",\"x\":[\"bioRxiv\",\"medRxiv\",\"Nature Communications\",\"European Neuropsychopharmacology\",\"Scientific Reports\",\"PLOS ONE\",\"European Heart Journal\",\"Circulation\",\"Alzheimer's & Dementia\",\"Diabetes\",\"International Journal of Epidemiology\",\"International Journal of Cancer\",\"Journal of the American College of Cardiology\",\"Translational Psychiatry\",\"American Journal of Human Genetics\",\"Geburtshilfe und Frauenheilkunde\",\"SSRN Electronic Journal\",\"Biological Psychiatry\",\"Atherosclerosis\",\"Nature\",\"Research Square\",\"Human Molecular Genetics\",\"Journal of the American Heart Association\",\"The Journal of Clinical Endocrinology & Metabolism\",\"Molecular Psychiatry\",\"Cancer Epidemiology Biomarkers & Prevention\",\"Nutrients\",\"Diabetes Care\",\"Journal of Clinical Oncology\",\"Blood\",\"BMJ Open\",\"Annals of Oncology\",\"Cell\",\"Wellcome Open Research\",\"Circulation Genomic and Precision Medicine\",\"Neurology\",\"PLOS Genetics\",\"Diabetologia\",\"European Journal of Epidemiology\",\"European Journal of Human Genetics\",\"Journal of Hypertension\",\"Psychological Medicine\",\"Cancers\",\"American Journal of Clinical Nutrition\",\"Stroke\",\"Gastroenterology\",\"British Journal of Ophthalmology\",\"Nature Medicine\",\"PLOS Medicine\",\"Clinical Epigenetics\",\"Science\"],\"xaxis\":\"x3\",\"y\":[403,442,166,9,118,72,84,106,129,46,36,34,50,38,41,53,42,36,31,49,90,19,41,33,27,47,35,34,16,16,26,26,21,17,29,25,26,19,26,18,8,23,25,20,16,26,21,21,19,15,14],\"yaxis\":\"y3\",\"type\":\"bar\"},{\"alignmentgroup\":\"True\",\"customdata\":[[\"jour.1293558\",1811],[\"jour.1369542\",994],[\"jour.1043282\",566],[\"jour.1101548\",555],[\"jour.1045337\",455],[\"jour.1037553\",344],[\"jour.1091325\",306],[\"jour.1009570\",297],[\"jour.1034467\",278],[\"jour.1017423\",178],[\"jour.1087544\",174],[\"jour.1358156\",171],[\"jour.1093746\",170],[\"jour.1045271\",165],[\"jour.1017012\",163],[\"jour.1017122\",159],[\"jour.1276748\",158],[\"jour.1399744\",156],[\"jour.1013420\",155],[\"jour.1018957\",151],[\"jour.1102504\",140],[\"jour.1380788\",140],[\"jour.1046624\",134],[\"jour.1017738\",132],[\"jour.1115540\",131],[\"jour.1101916\",131],[\"jour.1042723\",123],[\"jour.1103715\",114],[\"jour.1312191\",112],[\"jour.1085025\",110],[\"jour.1044693\",104],[\"jour.1019114\",101],[\"jour.1100417\",101],[\"jour.1284430\",99],[\"jour.1040791\",97],[\"jour.1034974\",96],[\"jour.1018238\",96],[\"jour.1001482\",93],[\"jour.1095636\",92],[\"jour.1103410\",90],[\"jour.1094093\",86],[\"jour.1054214\",85],[\"jour.1043163\",84],[\"jour.1017790\",83],[\"jour.1013101\",81],[\"jour.1017616\",78],[\"jour.1019815\",77],[\"jour.1113716\",75],[\"jour.1034427\",73],[\"jour.1113743\",70]],\"hovertemplate\":\"<b>%{hovertext}</b><br><br>year=%{marker.color}<br>journal.title=%{x}<br>total_year=%{y}<br>journal.id=%{customdata[0]}<br>total=%{customdata[1]}<extra></extra>\",\"hovertext\":[\"bioRxiv\",\"medRxiv\",\"Nature Communications\",\"European Neuropsychopharmacology\",\"Scientific Reports\",\"PLOS ONE\",\"European Heart Journal\",\"Circulation\",\"Alzheimer's & Dementia\",\"Diabetes\",\"International Journal of Epidemiology\",\"International Journal of Cancer\",\"Journal of the American College of Cardiology\",\"Translational Psychiatry\",\"American Journal of Human Genetics\",\"Geburtshilfe und Frauenheilkunde\",\"SSRN Electronic Journal\",\"Biological Psychiatry\",\"Atherosclerosis\",\"Nature\",\"Human Molecular Genetics\",\"Research Square\",\"Journal of the American Heart Association\",\"The Journal of Clinical Endocrinology & Metabolism\",\"Molecular Psychiatry\",\"Cancer Epidemiology Biomarkers & Prevention\",\"Nutrients\",\"Diabetes Care\",\"Journal of Clinical Oncology\",\"Blood\",\"BMJ Open\",\"Cell\",\"Annals of Oncology\",\"Wellcome Open Research\",\"Circulation Genomic and Precision Medicine\",\"PLOS Genetics\",\"Neurology\",\"Diabetologia\",\"European Journal of Epidemiology\",\"European Journal of Human Genetics\",\"Journal of Hypertension\",\"Psychological Medicine\",\"Cancers\",\"American Journal of Clinical Nutrition\",\"Stroke\",\"Gastroenterology\",\"British Journal of Ophthalmology\",\"Nature Medicine\",\"PLOS Medicine\",\"The Journals of Gerontology Series A\"],\"legendgroup\":\"\",\"marker\":{\"color\":[2019,2019,2019,2019,2019,2019,2019,2019,2019,2019,2019,2019,2019,2019,2019,2019,2019,2019,2019,2019,2019,2019,2019,2019,2019,2019,2019,2019,2019,2019,2019,2019,2019,2019,2019,2019,2019,2019,2019,2019,2019,2019,2019,2019,2019,2019,2019,2019,2019,2019],\"coloraxis\":\"coloraxis\",\"pattern\":{\"shape\":\"\"}},\"name\":\"\",\"offsetgroup\":\"\",\"orientation\":\"v\",\"showlegend\":false,\"textposition\":\"auto\",\"x\":[\"bioRxiv\",\"medRxiv\",\"Nature Communications\",\"European Neuropsychopharmacology\",\"Scientific Reports\",\"PLOS ONE\",\"European Heart Journal\",\"Circulation\",\"Alzheimer's & Dementia\",\"Diabetes\",\"International Journal of Epidemiology\",\"International Journal of Cancer\",\"Journal of the American College of Cardiology\",\"Translational Psychiatry\",\"American Journal of Human Genetics\",\"Geburtshilfe und Frauenheilkunde\",\"SSRN Electronic Journal\",\"Biological Psychiatry\",\"Atherosclerosis\",\"Nature\",\"Human Molecular Genetics\",\"Research Square\",\"Journal of the American Heart Association\",\"The Journal of Clinical Endocrinology & Metabolism\",\"Molecular Psychiatry\",\"Cancer Epidemiology Biomarkers & Prevention\",\"Nutrients\",\"Diabetes Care\",\"Journal of Clinical Oncology\",\"Blood\",\"BMJ Open\",\"Cell\",\"Annals of Oncology\",\"Wellcome Open Research\",\"Circulation Genomic and Precision Medicine\",\"PLOS Genetics\",\"Neurology\",\"Diabetologia\",\"European Journal of Epidemiology\",\"European Journal of Human Genetics\",\"Journal of Hypertension\",\"Psychological Medicine\",\"Cancers\",\"American Journal of Clinical Nutrition\",\"Stroke\",\"Gastroenterology\",\"British Journal of Ophthalmology\",\"Nature Medicine\",\"PLOS Medicine\",\"The Journals of Gerontology Series A\"],\"xaxis\":\"x2\",\"y\":[591,65,138,452,109,80,81,76,77,47,44,66,53,39,49,24,37,38,46,29,30,17,28,30,39,32,32,27,29,26,27,28,26,23,17,18,34,25,21,25,16,19,11,25,17,20,18,21,20,12],\"yaxis\":\"y2\",\"type\":\"bar\"},{\"alignmentgroup\":\"True\",\"customdata\":[[\"jour.1103715\",114]],\"hovertemplate\":\"<b>%{hovertext}</b><br><br>year=%{marker.color}<br>journal.title=%{x}<br>total_year=%{y}<br>journal.id=%{customdata[0]}<br>total=%{customdata[1]}<extra></extra>\",\"hovertext\":[\"Diabetes Care\"],\"legendgroup\":\"\",\"marker\":{\"color\":[2022],\"coloraxis\":\"coloraxis\",\"pattern\":{\"shape\":\"\"}},\"name\":\"\",\"offsetgroup\":\"\",\"orientation\":\"v\",\"showlegend\":false,\"textposition\":\"auto\",\"x\":[\"Diabetes Care\"],\"xaxis\":\"x\",\"y\":[1],\"yaxis\":\"y\",\"type\":\"bar\"}],                        {\"template\":{\"data\":{\"bar\":[{\"error_x\":{\"color\":\"#2a3f5f\"},\"error_y\":{\"color\":\"#2a3f5f\"},\"marker\":{\"line\":{\"color\":\"#E5ECF6\",\"width\":0.5},\"pattern\":{\"fillmode\":\"overlay\",\"size\":10,\"solidity\":0.2}},\"type\":\"bar\"}],\"barpolar\":[{\"marker\":{\"line\":{\"color\":\"#E5ECF6\",\"width\":0.5},\"pattern\":{\"fillmode\":\"overlay\",\"size\":10,\"solidity\":0.2}},\"type\":\"barpolar\"}],\"carpet\":[{\"aaxis\":{\"endlinecolor\":\"#2a3f5f\",\"gridcolor\":\"white\",\"linecolor\":\"white\",\"minorgridcolor\":\"white\",\"startlinecolor\":\"#2a3f5f\"},\"baxis\":{\"endlinecolor\":\"#2a3f5f\",\"gridcolor\":\"white\",\"linecolor\":\"white\",\"minorgridcolor\":\"white\",\"startlinecolor\":\"#2a3f5f\"},\"type\":\"carpet\"}],\"choropleth\":[{\"colorbar\":{\"outlinewidth\":0,\"ticks\":\"\"},\"type\":\"choropleth\"}],\"contour\":[{\"colorbar\":{\"outlinewidth\":0,\"ticks\":\"\"},\"colorscale\":[[0.0,\"#0d0887\"],[0.1111111111111111,\"#46039f\"],[0.2222222222222222,\"#7201a8\"],[0.3333333333333333,\"#9c179e\"],[0.4444444444444444,\"#bd3786\"],[0.5555555555555556,\"#d8576b\"],[0.6666666666666666,\"#ed7953\"],[0.7777777777777778,\"#fb9f3a\"],[0.8888888888888888,\"#fdca26\"],[1.0,\"#f0f921\"]],\"type\":\"contour\"}],\"contourcarpet\":[{\"colorbar\":{\"outlinewidth\":0,\"ticks\":\"\"},\"type\":\"contourcarpet\"}],\"heatmap\":[{\"colorbar\":{\"outlinewidth\":0,\"ticks\":\"\"},\"colorscale\":[[0.0,\"#0d0887\"],[0.1111111111111111,\"#46039f\"],[0.2222222222222222,\"#7201a8\"],[0.3333333333333333,\"#9c179e\"],[0.4444444444444444,\"#bd3786\"],[0.5555555555555556,\"#d8576b\"],[0.6666666666666666,\"#ed7953\"],[0.7777777777777778,\"#fb9f3a\"],[0.8888888888888888,\"#fdca26\"],[1.0,\"#f0f921\"]],\"type\":\"heatmap\"}],\"heatmapgl\":[{\"colorbar\":{\"outlinewidth\":0,\"ticks\":\"\"},\"colorscale\":[[0.0,\"#0d0887\"],[0.1111111111111111,\"#46039f\"],[0.2222222222222222,\"#7201a8\"],[0.3333333333333333,\"#9c179e\"],[0.4444444444444444,\"#bd3786\"],[0.5555555555555556,\"#d8576b\"],[0.6666666666666666,\"#ed7953\"],[0.7777777777777778,\"#fb9f3a\"],[0.8888888888888888,\"#fdca26\"],[1.0,\"#f0f921\"]],\"type\":\"heatmapgl\"}],\"histogram\":[{\"marker\":{\"pattern\":{\"fillmode\":\"overlay\",\"size\":10,\"solidity\":0.2}},\"type\":\"histogram\"}],\"histogram2d\":[{\"colorbar\":{\"outlinewidth\":0,\"ticks\":\"\"},\"colorscale\":[[0.0,\"#0d0887\"],[0.1111111111111111,\"#46039f\"],[0.2222222222222222,\"#7201a8\"],[0.3333333333333333,\"#9c179e\"],[0.4444444444444444,\"#bd3786\"],[0.5555555555555556,\"#d8576b\"],[0.6666666666666666,\"#ed7953\"],[0.7777777777777778,\"#fb9f3a\"],[0.8888888888888888,\"#fdca26\"],[1.0,\"#f0f921\"]],\"type\":\"histogram2d\"}],\"histogram2dcontour\":[{\"colorbar\":{\"outlinewidth\":0,\"ticks\":\"\"},\"colorscale\":[[0.0,\"#0d0887\"],[0.1111111111111111,\"#46039f\"],[0.2222222222222222,\"#7201a8\"],[0.3333333333333333,\"#9c179e\"],[0.4444444444444444,\"#bd3786\"],[0.5555555555555556,\"#d8576b\"],[0.6666666666666666,\"#ed7953\"],[0.7777777777777778,\"#fb9f3a\"],[0.8888888888888888,\"#fdca26\"],[1.0,\"#f0f921\"]],\"type\":\"histogram2dcontour\"}],\"mesh3d\":[{\"colorbar\":{\"outlinewidth\":0,\"ticks\":\"\"},\"type\":\"mesh3d\"}],\"parcoords\":[{\"line\":{\"colorbar\":{\"outlinewidth\":0,\"ticks\":\"\"}},\"type\":\"parcoords\"}],\"pie\":[{\"automargin\":true,\"type\":\"pie\"}],\"scatter\":[{\"marker\":{\"colorbar\":{\"outlinewidth\":0,\"ticks\":\"\"}},\"type\":\"scatter\"}],\"scatter3d\":[{\"line\":{\"colorbar\":{\"outlinewidth\":0,\"ticks\":\"\"}},\"marker\":{\"colorbar\":{\"outlinewidth\":0,\"ticks\":\"\"}},\"type\":\"scatter3d\"}],\"scattercarpet\":[{\"marker\":{\"colorbar\":{\"outlinewidth\":0,\"ticks\":\"\"}},\"type\":\"scattercarpet\"}],\"scattergeo\":[{\"marker\":{\"colorbar\":{\"outlinewidth\":0,\"ticks\":\"\"}},\"type\":\"scattergeo\"}],\"scattergl\":[{\"marker\":{\"colorbar\":{\"outlinewidth\":0,\"ticks\":\"\"}},\"type\":\"scattergl\"}],\"scattermapbox\":[{\"marker\":{\"colorbar\":{\"outlinewidth\":0,\"ticks\":\"\"}},\"type\":\"scattermapbox\"}],\"scatterpolar\":[{\"marker\":{\"colorbar\":{\"outlinewidth\":0,\"ticks\":\"\"}},\"type\":\"scatterpolar\"}],\"scatterpolargl\":[{\"marker\":{\"colorbar\":{\"outlinewidth\":0,\"ticks\":\"\"}},\"type\":\"scatterpolargl\"}],\"scatterternary\":[{\"marker\":{\"colorbar\":{\"outlinewidth\":0,\"ticks\":\"\"}},\"type\":\"scatterternary\"}],\"surface\":[{\"colorbar\":{\"outlinewidth\":0,\"ticks\":\"\"},\"colorscale\":[[0.0,\"#0d0887\"],[0.1111111111111111,\"#46039f\"],[0.2222222222222222,\"#7201a8\"],[0.3333333333333333,\"#9c179e\"],[0.4444444444444444,\"#bd3786\"],[0.5555555555555556,\"#d8576b\"],[0.6666666666666666,\"#ed7953\"],[0.7777777777777778,\"#fb9f3a\"],[0.8888888888888888,\"#fdca26\"],[1.0,\"#f0f921\"]],\"type\":\"surface\"}],\"table\":[{\"cells\":{\"fill\":{\"color\":\"#EBF0F8\"},\"line\":{\"color\":\"white\"}},\"header\":{\"fill\":{\"color\":\"#C8D4E3\"},\"line\":{\"color\":\"white\"}},\"type\":\"table\"}]},\"layout\":{\"annotationdefaults\":{\"arrowcolor\":\"#2a3f5f\",\"arrowhead\":0,\"arrowwidth\":1},\"autotypenumbers\":\"strict\",\"coloraxis\":{\"colorbar\":{\"outlinewidth\":0,\"ticks\":\"\"}},\"colorscale\":{\"diverging\":[[0,\"#8e0152\"],[0.1,\"#c51b7d\"],[0.2,\"#de77ae\"],[0.3,\"#f1b6da\"],[0.4,\"#fde0ef\"],[0.5,\"#f7f7f7\"],[0.6,\"#e6f5d0\"],[0.7,\"#b8e186\"],[0.8,\"#7fbc41\"],[0.9,\"#4d9221\"],[1,\"#276419\"]],\"sequential\":[[0.0,\"#0d0887\"],[0.1111111111111111,\"#46039f\"],[0.2222222222222222,\"#7201a8\"],[0.3333333333333333,\"#9c179e\"],[0.4444444444444444,\"#bd3786\"],[0.5555555555555556,\"#d8576b\"],[0.6666666666666666,\"#ed7953\"],[0.7777777777777778,\"#fb9f3a\"],[0.8888888888888888,\"#fdca26\"],[1.0,\"#f0f921\"]],\"sequentialminus\":[[0.0,\"#0d0887\"],[0.1111111111111111,\"#46039f\"],[0.2222222222222222,\"#7201a8\"],[0.3333333333333333,\"#9c179e\"],[0.4444444444444444,\"#bd3786\"],[0.5555555555555556,\"#d8576b\"],[0.6666666666666666,\"#ed7953\"],[0.7777777777777778,\"#fb9f3a\"],[0.8888888888888888,\"#fdca26\"],[1.0,\"#f0f921\"]]},\"colorway\":[\"#636efa\",\"#EF553B\",\"#00cc96\",\"#ab63fa\",\"#FFA15A\",\"#19d3f3\",\"#FF6692\",\"#B6E880\",\"#FF97FF\",\"#FECB52\"],\"font\":{\"color\":\"#2a3f5f\"},\"geo\":{\"bgcolor\":\"white\",\"lakecolor\":\"white\",\"landcolor\":\"#E5ECF6\",\"showlakes\":true,\"showland\":true,\"subunitcolor\":\"white\"},\"hoverlabel\":{\"align\":\"left\"},\"hovermode\":\"closest\",\"mapbox\":{\"style\":\"light\"},\"paper_bgcolor\":\"white\",\"plot_bgcolor\":\"#E5ECF6\",\"polar\":{\"angularaxis\":{\"gridcolor\":\"white\",\"linecolor\":\"white\",\"ticks\":\"\"},\"bgcolor\":\"#E5ECF6\",\"radialaxis\":{\"gridcolor\":\"white\",\"linecolor\":\"white\",\"ticks\":\"\"}},\"scene\":{\"xaxis\":{\"backgroundcolor\":\"#E5ECF6\",\"gridcolor\":\"white\",\"gridwidth\":2,\"linecolor\":\"white\",\"showbackground\":true,\"ticks\":\"\",\"zerolinecolor\":\"white\"},\"yaxis\":{\"backgroundcolor\":\"#E5ECF6\",\"gridcolor\":\"white\",\"gridwidth\":2,\"linecolor\":\"white\",\"showbackground\":true,\"ticks\":\"\",\"zerolinecolor\":\"white\"},\"zaxis\":{\"backgroundcolor\":\"#E5ECF6\",\"gridcolor\":\"white\",\"gridwidth\":2,\"linecolor\":\"white\",\"showbackground\":true,\"ticks\":\"\",\"zerolinecolor\":\"white\"}},\"shapedefaults\":{\"line\":{\"color\":\"#2a3f5f\"}},\"ternary\":{\"aaxis\":{\"gridcolor\":\"white\",\"linecolor\":\"white\",\"ticks\":\"\"},\"baxis\":{\"gridcolor\":\"white\",\"linecolor\":\"white\",\"ticks\":\"\"},\"bgcolor\":\"#E5ECF6\",\"caxis\":{\"gridcolor\":\"white\",\"linecolor\":\"white\",\"ticks\":\"\"}},\"title\":{\"x\":0.05},\"xaxis\":{\"automargin\":true,\"gridcolor\":\"white\",\"linecolor\":\"white\",\"ticks\":\"\",\"title\":{\"standoff\":15},\"zerolinecolor\":\"white\",\"zerolinewidth\":2},\"yaxis\":{\"automargin\":true,\"gridcolor\":\"white\",\"linecolor\":\"white\",\"ticks\":\"\",\"title\":{\"standoff\":15},\"zerolinecolor\":\"white\",\"zerolinewidth\":2}}},\"xaxis\":{\"anchor\":\"y\",\"domain\":[0.0,0.98],\"title\":{\"text\":\"journal.title\"}},\"yaxis\":{\"anchor\":\"x\",\"domain\":[0.0,0.17600000000000002],\"title\":{\"text\":\"total_year\"}},\"xaxis2\":{\"anchor\":\"y2\",\"domain\":[0.0,0.98],\"matches\":\"x\",\"showticklabels\":false},\"yaxis2\":{\"anchor\":\"x2\",\"domain\":[0.20600000000000002,0.382],\"matches\":\"y\",\"title\":{\"text\":\"total_year\"}},\"xaxis3\":{\"anchor\":\"y3\",\"domain\":[0.0,0.98],\"matches\":\"x\",\"showticklabels\":false},\"yaxis3\":{\"anchor\":\"x3\",\"domain\":[0.41200000000000003,0.5880000000000001],\"matches\":\"y\",\"title\":{\"text\":\"total_year\"}},\"xaxis4\":{\"anchor\":\"y4\",\"domain\":[0.0,0.98],\"matches\":\"x\",\"showticklabels\":false},\"yaxis4\":{\"anchor\":\"x4\",\"domain\":[0.618,0.794],\"matches\":\"y\",\"title\":{\"text\":\"total_year\"}},\"xaxis5\":{\"anchor\":\"y5\",\"domain\":[0.0,0.98],\"matches\":\"x\",\"showticklabels\":false},\"yaxis5\":{\"anchor\":\"x5\",\"domain\":[0.8240000000000001,1.0],\"matches\":\"y\",\"title\":{\"text\":\"total_year\"}},\"annotations\":[{\"font\":{},\"showarrow\":false,\"text\":\"year=2022\",\"textangle\":90,\"x\":0.98,\"xanchor\":\"left\",\"xref\":\"paper\",\"y\":0.08800000000000001,\"yanchor\":\"middle\",\"yref\":\"paper\"},{\"font\":{},\"showarrow\":false,\"text\":\"year=2019\",\"textangle\":90,\"x\":0.98,\"xanchor\":\"left\",\"xref\":\"paper\",\"y\":0.29400000000000004,\"yanchor\":\"middle\",\"yref\":\"paper\"},{\"font\":{},\"showarrow\":false,\"text\":\"year=2020\",\"textangle\":90,\"x\":0.98,\"xanchor\":\"left\",\"xref\":\"paper\",\"y\":0.5,\"yanchor\":\"middle\",\"yref\":\"paper\"},{\"font\":{},\"showarrow\":false,\"text\":\"year=2018\",\"textangle\":90,\"x\":0.98,\"xanchor\":\"left\",\"xref\":\"paper\",\"y\":0.706,\"yanchor\":\"middle\",\"yref\":\"paper\"},{\"font\":{},\"showarrow\":false,\"text\":\"year=2021\",\"textangle\":90,\"x\":0.98,\"xanchor\":\"left\",\"xref\":\"paper\",\"y\":0.912,\"yanchor\":\"middle\",\"yref\":\"paper\"}],\"coloraxis\":{\"colorbar\":{\"title\":{\"text\":\"year\"}},\"colorscale\":[[0.0,\"#0d0887\"],[0.1111111111111111,\"#46039f\"],[0.2222222222222222,\"#7201a8\"],[0.3333333333333333,\"#9c179e\"],[0.4444444444444444,\"#bd3786\"],[0.5555555555555556,\"#d8576b\"],[0.6666666666666666,\"#ed7953\"],[0.7777777777777778,\"#fb9f3a\"],[0.8888888888888888,\"#fdca26\"],[1.0,\"#f0f921\"]]},\"legend\":{\"tracegroupgap\":0},\"title\":{\"text\":\"Top 200 competitors for jour.1103138 - segmented by year\"},\"barmode\":\"relative\",\"height\":900},                        {\"responsive\": true}                    ).then(function(){\n",
       "                            \n",
       "var gd = document.getElementById('0294e639-27f6-4f2c-a69c-efd38a472229');\n",
       "var x = new MutationObserver(function (mutations, observer) {{\n",
       "        var display = window.getComputedStyle(gd).display;\n",
       "        if (!display || display === 'none') {{\n",
       "            console.log([gd, 'removed!']);\n",
       "            Plotly.purge(gd);\n",
       "            observer.disconnect();\n",
       "        }}\n",
       "}});\n",
       "\n",
       "// Listen for the removal of the full notebook cells\n",
       "var notebookContainer = gd.closest('#notebook-container');\n",
       "if (notebookContainer) {{\n",
       "    x.observe(notebookContainer, {childList: true});\n",
       "}}\n",
       "\n",
       "// Listen for the clearing of the current output cell\n",
       "var outputEl = gd.closest('.output');\n",
       "if (outputEl) {{\n",
       "    x.observe(outputEl, {childList: true});\n",
       "}}\n",
       "\n",
       "                        })                };                });            </script>        </div>"
      ]
     },
     "metadata": {},
     "output_type": "display_data"
    }
   ],
   "source": [
    "threshold = 200\n",
    "temp = journals.sort_values(\"year\", ascending=True).groupby(\"year\").head(threshold)\n",
    "\n",
    "px.bar(journals[:threshold], \n",
    "       x=\"journal.title\", y=\"total_year\", \n",
    "       color=\"year\",\n",
    "       facet_row=\"year\",\n",
    "       height=900,\n",
    "       hover_name=\"journal.title\", \n",
    "       hover_data=['journal.id', 'journal.title', 'total' ], \n",
    "       title=f\"Top {threshold} competitors for {journal_id} - segmented by year\")"
   ]
  },
  {
   "cell_type": "markdown",
   "metadata": {
    "Collapsed": "false"
   },
   "source": [
    "NOTE the European Neuropsychopharmacology journal has a massive jump in 2019 cause they [published a lot of conference proceedings](https://www.sciencedirect.com/journal/european-neuropsychopharmacology/issues)! See also the journal [Dimensions page](https://app.dimensions.ai/analytics/publication/overview/timeline?and_facet_source_title=jour.1101548) for comparison.. \n"
   ]
  }
 ],
 "metadata": {
  "colab": {
   "collapsed_sections": [],
   "name": "5-Competing Journals.ipynb",
   "provenance": []
  },
  "kernelspec": {
   "display_name": "Python 3 (ipykernel)",
   "language": "python",
   "name": "python3"
  },
  "language_info": {
   "codemirror_mode": {
    "name": "ipython",
    "version": 3
   },
   "file_extension": ".py",
   "mimetype": "text/x-python",
   "name": "python",
   "nbconvert_exporter": "python",
   "pygments_lexer": "ipython3",
   "version": "3.9.9"
  }
 },
 "nbformat": 4,
 "nbformat_minor": 4
}
